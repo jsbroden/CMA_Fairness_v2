{
 "cells": [
  {
   "cell_type": "code",
   "execution_count": 1,
   "id": "f159f837-637b-42ba-96b5-ec9a68c44524",
   "metadata": {
    "execution": {
     "iopub.execute_input": "2025-07-23T14:35:36.448435Z",
     "iopub.status.busy": "2025-07-23T14:35:36.447804Z",
     "iopub.status.idle": "2025-07-23T14:35:36.468809Z",
     "shell.execute_reply": "2025-07-23T14:35:36.467344Z"
    },
    "papermill": {
     "duration": 0.045153,
     "end_time": "2025-07-23T14:35:36.471773",
     "exception": false,
     "start_time": "2025-07-23T14:35:36.426620",
     "status": "completed"
    },
    "tags": []
   },
   "outputs": [
    {
     "name": "stdout",
     "output_type": "stream",
     "text": [
      "/dss/dsshome1/0C/ra93lal2/cma/CMA_Fairness_v2\n"
     ]
    },
    {
     "name": "stderr",
     "output_type": "stream",
     "text": [
      "/dss/dsshome1/0C/ra93lal2/.local/share/virtualenvs/CMA_Fairness_v2-3j10GkSs/lib/python3.10/site-packages/IPython/core/magics/osm.py:393: UserWarning: This is now an optional IPython functionality, using bookmarks requires you to install the `pickleshare` library.\n",
      "  bkms = self.shell.db.get('bookmarks', {})\n",
      "/dss/dsshome1/0C/ra93lal2/.local/share/virtualenvs/CMA_Fairness_v2-3j10GkSs/lib/python3.10/site-packages/IPython/core/magics/osm.py:417: UserWarning: This is now an optional IPython functionality, setting dhist requires you to install the `pickleshare` library.\n",
      "  self.shell.db['dhist'] = compress_dhist(dhist)[-100:]\n"
     ]
    }
   ],
   "source": [
    "%cd ~/cma/CMA_Fairness_v2"
   ]
  },
  {
   "cell_type": "markdown",
   "id": "de2603b9",
   "metadata": {
    "papermill": {
     "duration": 0.019289,
     "end_time": "2025-07-23T14:35:36.515624",
     "exception": false,
     "start_time": "2025-07-23T14:35:36.496335",
     "status": "completed"
    },
    "tags": []
   },
   "source": [
    "The following cell holds the definition of our parameters, these values can be overriden by rendering the with e.g. the following command:\n",
    "\n",
    "papermill -p alpha 0.2 -p ratio 0.3 universe_analysis.ipynb output/test_run.ipynb"
   ]
  },
  {
   "cell_type": "code",
   "execution_count": 2,
   "id": "a80968a0-40bb-4fa9-85ef-2d5eefb01975",
   "metadata": {
    "execution": {
     "iopub.execute_input": "2025-07-23T14:35:36.554389Z",
     "iopub.status.busy": "2025-07-23T14:35:36.553893Z",
     "iopub.status.idle": "2025-07-23T14:35:36.559943Z",
     "shell.execute_reply": "2025-07-23T14:35:36.558825Z"
    },
    "papermill": {
     "duration": 0.028137,
     "end_time": "2025-07-23T14:35:36.561974",
     "exception": false,
     "start_time": "2025-07-23T14:35:36.533837",
     "status": "completed"
    },
    "tags": []
   },
   "outputs": [
    {
     "name": "stdout",
     "output_type": "stream",
     "text": [
      "Current working directory: /dss/dsshome1/0C/ra93lal2/cma/CMA_Fairness_v2\n"
     ]
    }
   ],
   "source": [
    "import os\n",
    "print(\"Current working directory:\", os.getcwd())"
   ]
  },
  {
   "cell_type": "code",
   "execution_count": 3,
   "id": "2dce4c03",
   "metadata": {
    "execution": {
     "iopub.execute_input": "2025-07-23T14:35:36.598822Z",
     "iopub.status.busy": "2025-07-23T14:35:36.598333Z",
     "iopub.status.idle": "2025-07-23T14:35:36.604706Z",
     "shell.execute_reply": "2025-07-23T14:35:36.603558Z"
    },
    "papermill": {
     "duration": 0.027338,
     "end_time": "2025-07-23T14:35:36.606648",
     "exception": false,
     "start_time": "2025-07-23T14:35:36.579310",
     "status": "completed"
    },
    "tags": [
     "parameters"
    ]
   },
   "outputs": [],
   "source": [
    "run_no = 0\n",
    "universe_id = \"test\"\n",
    "universe = {\n",
    "    \"scale\": \"scale\", # \"scale\", \"do-not-scale\",\n",
    "    \"model\": \"elasticnet\", # \"logreg\", \"penalized_logreg\", \"rf\", \"gbm\", \"elasticnet\"\n",
    "    \"cutoff\": [\"quantile_0.15\", \"quantile_0.30\"],\n",
    "    \"exclude_features\": \"age\", # \"none\", \"nationality\", \"sex\", \"nationality-sex\", \"age\"\n",
    "    \"exclude_subgroups\": \"keep-all\", # \"keep-all\", \"drop-non-german\"\n",
    "    #\"training_sample\": \"restricted\", # \"restricted\", \"full\"\n",
    "    \"eval_fairness_grouping\": [\"majority-minority\", \"nationality-all\"]\n",
    "}\n",
    "\n",
    "output_dir=\"./output\"\n",
    "seed=0"
   ]
  },
  {
   "cell_type": "code",
   "execution_count": 4,
   "id": "25f1f8b6",
   "metadata": {
    "execution": {
     "iopub.execute_input": "2025-07-23T14:35:36.646740Z",
     "iopub.status.busy": "2025-07-23T14:35:36.646228Z",
     "iopub.status.idle": "2025-07-23T14:35:36.653545Z",
     "shell.execute_reply": "2025-07-23T14:35:36.651982Z"
    },
    "papermill": {
     "duration": 0.030333,
     "end_time": "2025-07-23T14:35:36.656360",
     "exception": false,
     "start_time": "2025-07-23T14:35:36.626027",
     "status": "completed"
    },
    "tags": [
     "injected-parameters"
    ]
   },
   "outputs": [],
   "source": [
    "# Parameters\n",
    "universe_id = \"60eeda26081f16b3f8f6849c5e95d393\"\n",
    "run_no = \"9\"\n",
    "universe = \"{\\\"cutoff\\\": [\\\"quantile_0.1\\\", \\\"quantile_0.25\\\"], \\\"eval_fairness_grouping\\\": [\\\"majority-minority\\\", \\\"nationality-all\\\"], \\\"exclude_features\\\": \\\"nationality-sex\\\", \\\"exclude_subgroups\\\": \\\"drop-non-german\\\", \\\"model\\\": \\\"penalized_logreg\\\", \\\"scale\\\": \\\"do-not-scale\\\"}\"\n",
    "output_dir = \"output\"\n",
    "seed = \"2023\"\n"
   ]
  },
  {
   "cell_type": "code",
   "execution_count": 5,
   "id": "1650acaf",
   "metadata": {
    "execution": {
     "iopub.execute_input": "2025-07-23T14:35:36.693635Z",
     "iopub.status.busy": "2025-07-23T14:35:36.693110Z",
     "iopub.status.idle": "2025-07-23T14:35:36.700018Z",
     "shell.execute_reply": "2025-07-23T14:35:36.698913Z"
    },
    "papermill": {
     "duration": 0.027809,
     "end_time": "2025-07-23T14:35:36.701902",
     "exception": false,
     "start_time": "2025-07-23T14:35:36.674093",
     "status": "completed"
    },
    "tags": []
   },
   "outputs": [],
   "source": [
    "import json\n",
    "# Parse universe into dict if it is passed as a string\n",
    "if isinstance(universe, str):\n",
    "    universe = json.loads(universe)"
   ]
  },
  {
   "cell_type": "code",
   "execution_count": 6,
   "id": "16620c48",
   "metadata": {
    "execution": {
     "iopub.execute_input": "2025-07-23T14:35:36.738352Z",
     "iopub.status.busy": "2025-07-23T14:35:36.737428Z",
     "iopub.status.idle": "2025-07-23T14:35:36.790173Z",
     "shell.execute_reply": "2025-07-23T14:35:36.789171Z"
    },
    "papermill": {
     "duration": 0.072858,
     "end_time": "2025-07-23T14:35:36.792148",
     "exception": false,
     "start_time": "2025-07-23T14:35:36.719290",
     "status": "completed"
    },
    "tags": []
   },
   "outputs": [],
   "source": [
    "# Auto-reload the custom package\n",
    "%load_ext autoreload\n",
    "%autoreload 1\n",
    "%aimport fairness_multiverse"
   ]
  },
  {
   "cell_type": "code",
   "execution_count": 7,
   "id": "01c5c9f3",
   "metadata": {
    "execution": {
     "iopub.execute_input": "2025-07-23T14:35:36.828685Z",
     "iopub.status.busy": "2025-07-23T14:35:36.828169Z",
     "iopub.status.idle": "2025-07-23T14:35:38.955776Z",
     "shell.execute_reply": "2025-07-23T14:35:38.954625Z"
    },
    "papermill": {
     "duration": 2.148691,
     "end_time": "2025-07-23T14:35:38.958018",
     "exception": false,
     "start_time": "2025-07-23T14:35:36.809327",
     "status": "completed"
    },
    "tags": []
   },
   "outputs": [],
   "source": [
    "from fairness_multiverse.universe import UniverseAnalysis\n",
    "\n",
    "universe_analysis = UniverseAnalysis(\n",
    "    run_no = run_no,\n",
    "    universe_id = universe_id,\n",
    "    universe = universe,\n",
    "    output_dir=output_dir,\n",
    ")"
   ]
  },
  {
   "cell_type": "code",
   "execution_count": 8,
   "id": "106241f5",
   "metadata": {
    "execution": {
     "iopub.execute_input": "2025-07-23T14:35:39.000071Z",
     "iopub.status.busy": "2025-07-23T14:35:38.999320Z",
     "iopub.status.idle": "2025-07-23T14:35:39.007661Z",
     "shell.execute_reply": "2025-07-23T14:35:39.006354Z"
    },
    "papermill": {
     "duration": 0.031517,
     "end_time": "2025-07-23T14:35:39.009502",
     "exception": false,
     "start_time": "2025-07-23T14:35:38.977985",
     "status": "completed"
    },
    "tags": []
   },
   "outputs": [
    {
     "name": "stdout",
     "output_type": "stream",
     "text": [
      "Using Seed: 2023\n"
     ]
    }
   ],
   "source": [
    "import numpy as np\n",
    "parsed_seed = int(seed)\n",
    "np.random.seed(parsed_seed)\n",
    "print(f\"Using Seed: {parsed_seed}\")"
   ]
  },
  {
   "cell_type": "markdown",
   "id": "e0ebdc57",
   "metadata": {
    "papermill": {
     "duration": 0.018916,
     "end_time": "2025-07-23T14:35:39.048028",
     "exception": false,
     "start_time": "2025-07-23T14:35:39.029112",
     "status": "completed"
    },
    "tags": []
   },
   "source": [
    "# Loading Data"
   ]
  },
  {
   "cell_type": "markdown",
   "id": "681925a3",
   "metadata": {
    "papermill": {
     "duration": 0.018898,
     "end_time": "2025-07-23T14:35:39.084871",
     "exception": false,
     "start_time": "2025-07-23T14:35:39.065973",
     "status": "completed"
    },
    "tags": []
   },
   "source": [
    "Load siab_train, siab_test, siab_calib and/or \n",
    "load siab_train_features, siab_train_labels"
   ]
  },
  {
   "cell_type": "code",
   "execution_count": 9,
   "id": "f0496b8a",
   "metadata": {
    "execution": {
     "iopub.execute_input": "2025-07-23T14:35:39.125067Z",
     "iopub.status.busy": "2025-07-23T14:35:39.124522Z",
     "iopub.status.idle": "2025-07-23T14:35:39.132121Z",
     "shell.execute_reply": "2025-07-23T14:35:39.130903Z"
    },
    "papermill": {
     "duration": 0.030519,
     "end_time": "2025-07-23T14:35:39.135036",
     "exception": false,
     "start_time": "2025-07-23T14:35:39.104517",
     "status": "completed"
    },
    "tags": []
   },
   "outputs": [],
   "source": [
    "# Do I need to load siab? Delete this cell?\n",
    "\n",
    "#from pathlib import Path\n",
    "#import pandas as pd\n",
    "#\n",
    "## File paths\n",
    "#raw_file = Path(\"data/raw/siab.csv\")\n",
    "#cache_file = Path(\"data/siab_cached.csv.gz\")\n",
    "#\n",
    "## Ensure cache directory exists\n",
    "#cache_file.parent.mkdir(parents=True, exist_ok=True)\n",
    "#\n",
    "## Load with simple caching\n",
    "#if cache_file.exists():\n",
    "#    print(f\"Loading SIAB data from cache: {cache_file}\")\n",
    "#    siab = pd.read_csv(cache_file, compression='gzip')\n",
    "#else:\n",
    "#    print(f\"Cache not found. Reading raw SIAB data: {raw_file}\")\n",
    "#    siab = pd.read_csv(raw_file)\n",
    "#    siab.to_csv(cache_file, index=False, compression='gzip')\n",
    "#    print(f\"Cached SIAB data to: {cache_file}\")\n",
    "#\n",
    "## Now use `siab` DataFrame as needed\n",
    "#print(siab.shape)\n"
   ]
  },
  {
   "cell_type": "code",
   "execution_count": 10,
   "id": "a0edb063",
   "metadata": {
    "execution": {
     "iopub.execute_input": "2025-07-23T14:35:39.189366Z",
     "iopub.status.busy": "2025-07-23T14:35:39.188789Z",
     "iopub.status.idle": "2025-07-23T14:35:40.601403Z",
     "shell.execute_reply": "2025-07-23T14:35:40.600414Z"
    },
    "papermill": {
     "duration": 1.442319,
     "end_time": "2025-07-23T14:35:40.603289",
     "exception": false,
     "start_time": "2025-07-23T14:35:39.160970",
     "status": "completed"
    },
    "tags": []
   },
   "outputs": [],
   "source": [
    "import pandas as pd\n",
    "\n",
    "X_train = pd.read_csv(\"./data/X_train.csv\")\n",
    "y_train = pd.read_csv(\"./data/y_train.csv\")"
   ]
  },
  {
   "cell_type": "code",
   "execution_count": 11,
   "id": "63d08085",
   "metadata": {
    "execution": {
     "iopub.execute_input": "2025-07-23T14:35:40.640112Z",
     "iopub.status.busy": "2025-07-23T14:35:40.639260Z",
     "iopub.status.idle": "2025-07-23T14:35:42.218369Z",
     "shell.execute_reply": "2025-07-23T14:35:42.217208Z"
    },
    "papermill": {
     "duration": 1.59941,
     "end_time": "2025-07-23T14:35:42.220338",
     "exception": false,
     "start_time": "2025-07-23T14:35:40.620928",
     "status": "completed"
    },
    "tags": []
   },
   "outputs": [],
   "source": [
    "X_test = pd.read_csv(\"./data/X_test.csv\")\n",
    "y_true = pd.read_csv(\"./data/y_test.csv\")"
   ]
  },
  {
   "cell_type": "code",
   "execution_count": 12,
   "id": "98a8d0fa-1d3d-4ed8-bb2c-281470e24add",
   "metadata": {
    "execution": {
     "iopub.execute_input": "2025-07-23T14:35:42.263318Z",
     "iopub.status.busy": "2025-07-23T14:35:42.262822Z",
     "iopub.status.idle": "2025-07-23T14:35:43.795013Z",
     "shell.execute_reply": "2025-07-23T14:35:43.793911Z"
    },
    "papermill": {
     "duration": 1.557418,
     "end_time": "2025-07-23T14:35:43.797346",
     "exception": false,
     "start_time": "2025-07-23T14:35:42.239928",
     "status": "completed"
    },
    "tags": []
   },
   "outputs": [],
   "source": [
    "# Calibration data for conformal\n",
    "X_calib = pd.read_csv(\"./data/X_calib.csv\")\n",
    "y_calib = pd.read_csv(\"./data/y_calib.csv\")"
   ]
  },
  {
   "cell_type": "code",
   "execution_count": 13,
   "id": "e6c733c5",
   "metadata": {
    "execution": {
     "iopub.execute_input": "2025-07-23T14:35:43.838562Z",
     "iopub.status.busy": "2025-07-23T14:35:43.838064Z",
     "iopub.status.idle": "2025-07-23T14:35:43.980592Z",
     "shell.execute_reply": "2025-07-23T14:35:43.979537Z"
    },
    "papermill": {
     "duration": 0.164786,
     "end_time": "2025-07-23T14:35:43.982782",
     "exception": false,
     "start_time": "2025-07-23T14:35:43.817996",
     "status": "completed"
    },
    "tags": []
   },
   "outputs": [],
   "source": [
    "# Auxiliary data needed downstream in the pipeline\n",
    "\n",
    "org_train = X_train.copy()\n",
    "org_test = X_test.copy()\n",
    "org_calib = X_calib.copy()"
   ]
  },
  {
   "cell_type": "markdown",
   "id": "0a4a1b33",
   "metadata": {
    "papermill": {
     "duration": 0.020172,
     "end_time": "2025-07-23T14:35:44.023171",
     "exception": false,
     "start_time": "2025-07-23T14:35:44.002999",
     "status": "completed"
    },
    "tags": []
   },
   "source": [
    "# Preprocessing Data"
   ]
  },
  {
   "cell_type": "code",
   "execution_count": 14,
   "id": "ca879031",
   "metadata": {
    "execution": {
     "iopub.execute_input": "2025-07-23T14:35:44.065754Z",
     "iopub.status.busy": "2025-07-23T14:35:44.065210Z",
     "iopub.status.idle": "2025-07-23T14:35:44.071871Z",
     "shell.execute_reply": "2025-07-23T14:35:44.070841Z"
    },
    "papermill": {
     "duration": 0.030276,
     "end_time": "2025-07-23T14:35:44.073872",
     "exception": false,
     "start_time": "2025-07-23T14:35:44.043596",
     "status": "completed"
    },
    "tags": []
   },
   "outputs": [],
   "source": [
    "# EXCLUDE PROTECTED FEATURES\n",
    "# ----------------------\n",
    "# \"exclude_features\": \"none\", # \"nationality\", \"sex\", \"nationality-sex\"\n",
    "\n",
    "excluded_features = universe[\"exclude_features\"].split(\"-\") # split, e.g.: \"nationality-sex\" -> [\"nationality\", \"sex\"]\n",
    "excluded_features_dictionary = {\n",
    "    \"nationality\": [\"maxdeutsch1\", \"maxdeutsch.Missing.\"],\n",
    "    \"sex\": [\"frau1\"],\n",
    "    \"age\": [\"age\"],\n",
    "}\n"
   ]
  },
  {
   "cell_type": "code",
   "execution_count": 15,
   "id": "b745ac60",
   "metadata": {
    "execution": {
     "iopub.execute_input": "2025-07-23T14:35:44.112996Z",
     "iopub.status.busy": "2025-07-23T14:35:44.112531Z",
     "iopub.status.idle": "2025-07-23T14:35:44.119321Z",
     "shell.execute_reply": "2025-07-23T14:35:44.118192Z"
    },
    "papermill": {
     "duration": 0.030473,
     "end_time": "2025-07-23T14:35:44.123234",
     "exception": false,
     "start_time": "2025-07-23T14:35:44.092761",
     "status": "completed"
    },
    "tags": []
   },
   "outputs": [],
   "source": [
    "# Code nice names to column names\n",
    "\n",
    "excluded_features_columns = [\n",
    "    excluded_features_dictionary[f] for f in excluded_features if len(f) > 0 and f != \"none\"\n",
    "]"
   ]
  },
  {
   "cell_type": "code",
   "execution_count": 16,
   "id": "f84f73a2",
   "metadata": {
    "execution": {
     "iopub.execute_input": "2025-07-23T14:35:44.165078Z",
     "iopub.status.busy": "2025-07-23T14:35:44.164054Z",
     "iopub.status.idle": "2025-07-23T14:35:44.171842Z",
     "shell.execute_reply": "2025-07-23T14:35:44.170541Z"
    },
    "papermill": {
     "duration": 0.030328,
     "end_time": "2025-07-23T14:35:44.173990",
     "exception": false,
     "start_time": "2025-07-23T14:35:44.143662",
     "status": "completed"
    },
    "tags": []
   },
   "outputs": [],
   "source": [
    "from utils import flatten_once\n",
    "\n",
    "excluded_features_columns = flatten_once(excluded_features_columns)"
   ]
  },
  {
   "cell_type": "code",
   "execution_count": 17,
   "id": "884dea22",
   "metadata": {
    "execution": {
     "iopub.execute_input": "2025-07-23T14:35:44.215362Z",
     "iopub.status.busy": "2025-07-23T14:35:44.214975Z",
     "iopub.status.idle": "2025-07-23T14:35:44.273006Z",
     "shell.execute_reply": "2025-07-23T14:35:44.271653Z"
    },
    "papermill": {
     "duration": 0.083006,
     "end_time": "2025-07-23T14:35:44.277868",
     "exception": false,
     "start_time": "2025-07-23T14:35:44.194862",
     "status": "completed"
    },
    "tags": []
   },
   "outputs": [
    {
     "name": "stdout",
     "output_type": "stream",
     "text": [
      "Dropping features: ['maxdeutsch1', 'maxdeutsch.Missing.', 'frau1']\n"
     ]
    }
   ],
   "source": [
    "if len(excluded_features_columns) > 0:\n",
    "    print(f\"Dropping features: {excluded_features_columns}\")\n",
    "    X_train.drop(excluded_features_columns, axis=1, inplace=True)"
   ]
  },
  {
   "cell_type": "code",
   "execution_count": 18,
   "id": "95ab8b16",
   "metadata": {
    "execution": {
     "iopub.execute_input": "2025-07-23T14:35:44.326436Z",
     "iopub.status.busy": "2025-07-23T14:35:44.325825Z",
     "iopub.status.idle": "2025-07-23T14:35:44.384763Z",
     "shell.execute_reply": "2025-07-23T14:35:44.383581Z"
    },
    "papermill": {
     "duration": 0.089503,
     "end_time": "2025-07-23T14:35:44.386705",
     "exception": false,
     "start_time": "2025-07-23T14:35:44.297202",
     "status": "completed"
    },
    "tags": []
   },
   "outputs": [
    {
     "name": "stdout",
     "output_type": "stream",
     "text": [
      "Dropping features: ['maxdeutsch1', 'maxdeutsch.Missing.', 'frau1']\n"
     ]
    }
   ],
   "source": [
    "if len(excluded_features_columns) > 0:\n",
    "    print(f\"Dropping features: {excluded_features_columns}\")\n",
    "    X_test.drop(excluded_features_columns, axis=1, inplace=True)"
   ]
  },
  {
   "cell_type": "code",
   "execution_count": 19,
   "id": "1853aaf5-fb9f-46cb-a2b5-8ea4ae2237e4",
   "metadata": {
    "execution": {
     "iopub.execute_input": "2025-07-23T14:35:44.427224Z",
     "iopub.status.busy": "2025-07-23T14:35:44.426385Z",
     "iopub.status.idle": "2025-07-23T14:35:44.487131Z",
     "shell.execute_reply": "2025-07-23T14:35:44.486221Z"
    },
    "papermill": {
     "duration": 0.083402,
     "end_time": "2025-07-23T14:35:44.489053",
     "exception": false,
     "start_time": "2025-07-23T14:35:44.405651",
     "status": "completed"
    },
    "tags": []
   },
   "outputs": [
    {
     "name": "stdout",
     "output_type": "stream",
     "text": [
      "Dropping features: ['maxdeutsch1', 'maxdeutsch.Missing.', 'frau1']\n"
     ]
    }
   ],
   "source": [
    "if len(excluded_features_columns) > 0:\n",
    "    print(f\"Dropping features: {excluded_features_columns}\")\n",
    "    X_calib.drop(excluded_features_columns, axis=1, inplace=True)"
   ]
  },
  {
   "cell_type": "code",
   "execution_count": 20,
   "id": "76c4dc6d",
   "metadata": {
    "execution": {
     "iopub.execute_input": "2025-07-23T14:35:44.530692Z",
     "iopub.status.busy": "2025-07-23T14:35:44.530162Z",
     "iopub.status.idle": "2025-07-23T14:35:44.536273Z",
     "shell.execute_reply": "2025-07-23T14:35:44.535079Z"
    },
    "papermill": {
     "duration": 0.029833,
     "end_time": "2025-07-23T14:35:44.538357",
     "exception": false,
     "start_time": "2025-07-23T14:35:44.508524",
     "status": "completed"
    },
    "tags": []
   },
   "outputs": [],
   "source": [
    "# EXCLUDE CERTAIN SUBGROUPS\n",
    "# ----------------------\n",
    "\n",
    "mode = universe.get(\"exclude_subgroups\", \"keep-all\") \n",
    "# Fetches the exclude_subgroups setting from the universe dict.\n",
    "# Defaults to \"keep-all\" if the key is missing."
   ]
  },
  {
   "cell_type": "code",
   "execution_count": 21,
   "id": "21994072",
   "metadata": {
    "execution": {
     "iopub.execute_input": "2025-07-23T14:35:44.578482Z",
     "iopub.status.busy": "2025-07-23T14:35:44.577818Z",
     "iopub.status.idle": "2025-07-23T14:35:44.585589Z",
     "shell.execute_reply": "2025-07-23T14:35:44.584469Z"
    },
    "papermill": {
     "duration": 0.028575,
     "end_time": "2025-07-23T14:35:44.587142",
     "exception": false,
     "start_time": "2025-07-23T14:35:44.558567",
     "status": "completed"
    },
    "tags": []
   },
   "outputs": [],
   "source": [
    "if mode == \"keep-all\":\n",
    "    keep_mask = pd.Series(True, index=org_train.index)\n",
    "\n",
    "# org_train contains the original feature columns from features_org (in Simson)\n",
    "# features_org contains unprocessed features, for me X_train at beginning ???\n",
    "# For keep-all, creates a boolean Series (keep_mask) of all True, so no rows are removed.\n",
    "\n",
    "elif mode == \"drop-non-german\":\n",
    "    keep_mask = org_train[\"maxdeutsch1\"] == 1 # ??? what about missing values?\n",
    "\n",
    "else:\n",
    "    raise ValueError(f\"Unsupported mode for exclude_subgroups: {mode}\")\n"
   ]
  },
  {
   "cell_type": "code",
   "execution_count": 22,
   "id": "71651440",
   "metadata": {
    "execution": {
     "iopub.execute_input": "2025-07-23T14:35:44.625979Z",
     "iopub.status.busy": "2025-07-23T14:35:44.625287Z",
     "iopub.status.idle": "2025-07-23T14:35:44.632977Z",
     "shell.execute_reply": "2025-07-23T14:35:44.631939Z"
    },
    "papermill": {
     "duration": 0.028981,
     "end_time": "2025-07-23T14:35:44.634660",
     "exception": false,
     "start_time": "2025-07-23T14:35:44.605679",
     "status": "completed"
    },
    "tags": []
   },
   "outputs": [
    {
     "name": "stdout",
     "output_type": "stream",
     "text": [
      "Dropping 10036 rows (13.38%) where mode='drop-non-german'\n"
     ]
    }
   ],
   "source": [
    "n_drop = (~keep_mask).sum() # Calculates how many rows are set to be dropped\n",
    "if n_drop > 0:\n",
    "    pct = n_drop / len(keep_mask) * 100\n",
    "    print(f\"Dropping {n_drop} rows ({pct:.2f}%) where mode='{mode}'\")"
   ]
  },
  {
   "cell_type": "code",
   "execution_count": 23,
   "id": "5fb8eee5",
   "metadata": {
    "execution": {
     "iopub.execute_input": "2025-07-23T14:35:44.674374Z",
     "iopub.status.busy": "2025-07-23T14:35:44.673650Z",
     "iopub.status.idle": "2025-07-23T14:35:44.724366Z",
     "shell.execute_reply": "2025-07-23T14:35:44.723408Z"
    },
    "papermill": {
     "duration": 0.072529,
     "end_time": "2025-07-23T14:35:44.726367",
     "exception": false,
     "start_time": "2025-07-23T14:35:44.653838",
     "status": "completed"
    },
    "tags": []
   },
   "outputs": [],
   "source": [
    "X_train = X_train[keep_mask]"
   ]
  },
  {
   "cell_type": "code",
   "execution_count": 24,
   "id": "b202bb3a",
   "metadata": {
    "execution": {
     "iopub.execute_input": "2025-07-23T14:35:44.767048Z",
     "iopub.status.busy": "2025-07-23T14:35:44.766103Z",
     "iopub.status.idle": "2025-07-23T14:35:44.774197Z",
     "shell.execute_reply": "2025-07-23T14:35:44.773194Z"
    },
    "papermill": {
     "duration": 0.031117,
     "end_time": "2025-07-23T14:35:44.776066",
     "exception": false,
     "start_time": "2025-07-23T14:35:44.744949",
     "status": "completed"
    },
    "tags": []
   },
   "outputs": [],
   "source": [
    "y_train = y_train[keep_mask]"
   ]
  },
  {
   "cell_type": "markdown",
   "id": "493e2ac3",
   "metadata": {
    "papermill": {
     "duration": 0.019218,
     "end_time": "2025-07-23T14:35:44.814992",
     "exception": false,
     "start_time": "2025-07-23T14:35:44.795774",
     "status": "completed"
    },
    "tags": []
   },
   "source": [
    "# Model Training"
   ]
  },
  {
   "cell_type": "code",
   "execution_count": 25,
   "id": "679e1268",
   "metadata": {
    "execution": {
     "iopub.execute_input": "2025-07-23T14:35:44.855565Z",
     "iopub.status.busy": "2025-07-23T14:35:44.854758Z",
     "iopub.status.idle": "2025-07-23T14:35:44.975331Z",
     "shell.execute_reply": "2025-07-23T14:35:44.974270Z"
    },
    "papermill": {
     "duration": 0.143258,
     "end_time": "2025-07-23T14:35:44.977553",
     "exception": false,
     "start_time": "2025-07-23T14:35:44.834295",
     "status": "completed"
    },
    "tags": []
   },
   "outputs": [],
   "source": [
    "from sklearn.linear_model import LogisticRegression\n",
    "from sklearn.ensemble import GradientBoostingClassifier, RandomForestClassifier\n",
    "\n",
    "if (universe[\"model\"] == \"logreg\"):\n",
    "    model = LogisticRegression() #penalty=\"none\") #, solver=\"newton-cg\", max_iter=1) # include random_state=19 ?\n",
    "elif (universe[\"model\"] == \"penalized_logreg\"):\n",
    "    model = LogisticRegression(penalty=\"l2\", C=1.0) #, solver=\"newton-cg\", max_iter=1)\n",
    "elif (universe[\"model\"] == \"rf\"):\n",
    "    model = RandomForestClassifier(n_estimators=100, n_jobs=-1)\n",
    "elif (universe[\"model\"] == \"gbm\"):\n",
    "    model = GradientBoostingClassifier()\n",
    "elif (universe[\"model\"] == \"elasticnet\"):\n",
    "    model = LogisticRegression(penalty = 'elasticnet', solver = 'saga', l1_ratio = 0.5, max_iter=5000) # which solver to use?\n",
    "else:\n",
    "    raise \"Unsupported universe.model\""
   ]
  },
  {
   "cell_type": "code",
   "execution_count": 26,
   "id": "0cc8f744",
   "metadata": {
    "execution": {
     "iopub.execute_input": "2025-07-23T14:35:45.018111Z",
     "iopub.status.busy": "2025-07-23T14:35:45.017360Z",
     "iopub.status.idle": "2025-07-23T14:35:45.024265Z",
     "shell.execute_reply": "2025-07-23T14:35:45.023242Z"
    },
    "papermill": {
     "duration": 0.028823,
     "end_time": "2025-07-23T14:35:45.026048",
     "exception": false,
     "start_time": "2025-07-23T14:35:44.997225",
     "status": "completed"
    },
    "tags": []
   },
   "outputs": [],
   "source": [
    "import numpy as np\n",
    "from sklearn.pipeline import Pipeline\n",
    "from sklearn.preprocessing import StandardScaler\n",
    "\n",
    "model = Pipeline([\n",
    "    #(\"continuous_processor\", continuous_processor),\n",
    "    #(\"categorical_preprocessor\", categorical_preprocessor),\n",
    "    (\"scale\", StandardScaler() if universe[\"scale\"] == \"scale\" else None), \n",
    "    (\"model\", model),\n",
    "])"
   ]
  },
  {
   "cell_type": "code",
   "execution_count": 27,
   "id": "9442c04d",
   "metadata": {
    "execution": {
     "iopub.execute_input": "2025-07-23T14:35:45.068294Z",
     "iopub.status.busy": "2025-07-23T14:35:45.067574Z",
     "iopub.status.idle": "2025-07-23T14:35:47.908473Z",
     "shell.execute_reply": "2025-07-23T14:35:47.907582Z"
    },
    "papermill": {
     "duration": 2.863683,
     "end_time": "2025-07-23T14:35:47.910006",
     "exception": false,
     "start_time": "2025-07-23T14:35:45.046323",
     "status": "completed"
    },
    "tags": []
   },
   "outputs": [
    {
     "name": "stderr",
     "output_type": "stream",
     "text": [
      "/dss/dsshome1/0C/ra93lal2/.local/share/virtualenvs/CMA_Fairness_v2-3j10GkSs/lib/python3.10/site-packages/sklearn/linear_model/_logistic.py:444: ConvergenceWarning: lbfgs failed to converge (status=1):\n",
      "STOP: TOTAL NO. of ITERATIONS REACHED LIMIT.\n",
      "\n",
      "Increase the number of iterations (max_iter) or scale the data as shown in:\n",
      "    https://scikit-learn.org/stable/modules/preprocessing.html\n",
      "Please also refer to the documentation for alternative solver options:\n",
      "    https://scikit-learn.org/stable/modules/linear_model.html#logistic-regression\n",
      "  n_iter_i = _check_optimize_result(\n"
     ]
    },
    {
     "data": {
      "text/html": [
       "<style>#sk-container-id-1 {color: black;background-color: white;}#sk-container-id-1 pre{padding: 0;}#sk-container-id-1 div.sk-toggleable {background-color: white;}#sk-container-id-1 label.sk-toggleable__label {cursor: pointer;display: block;width: 100%;margin-bottom: 0;padding: 0.3em;box-sizing: border-box;text-align: center;}#sk-container-id-1 label.sk-toggleable__label-arrow:before {content: \"▸\";float: left;margin-right: 0.25em;color: #696969;}#sk-container-id-1 label.sk-toggleable__label-arrow:hover:before {color: black;}#sk-container-id-1 div.sk-estimator:hover label.sk-toggleable__label-arrow:before {color: black;}#sk-container-id-1 div.sk-toggleable__content {max-height: 0;max-width: 0;overflow: hidden;text-align: left;background-color: #f0f8ff;}#sk-container-id-1 div.sk-toggleable__content pre {margin: 0.2em;color: black;border-radius: 0.25em;background-color: #f0f8ff;}#sk-container-id-1 input.sk-toggleable__control:checked~div.sk-toggleable__content {max-height: 200px;max-width: 100%;overflow: auto;}#sk-container-id-1 input.sk-toggleable__control:checked~label.sk-toggleable__label-arrow:before {content: \"▾\";}#sk-container-id-1 div.sk-estimator input.sk-toggleable__control:checked~label.sk-toggleable__label {background-color: #d4ebff;}#sk-container-id-1 div.sk-label input.sk-toggleable__control:checked~label.sk-toggleable__label {background-color: #d4ebff;}#sk-container-id-1 input.sk-hidden--visually {border: 0;clip: rect(1px 1px 1px 1px);clip: rect(1px, 1px, 1px, 1px);height: 1px;margin: -1px;overflow: hidden;padding: 0;position: absolute;width: 1px;}#sk-container-id-1 div.sk-estimator {font-family: monospace;background-color: #f0f8ff;border: 1px dotted black;border-radius: 0.25em;box-sizing: border-box;margin-bottom: 0.5em;}#sk-container-id-1 div.sk-estimator:hover {background-color: #d4ebff;}#sk-container-id-1 div.sk-parallel-item::after {content: \"\";width: 100%;border-bottom: 1px solid gray;flex-grow: 1;}#sk-container-id-1 div.sk-label:hover label.sk-toggleable__label {background-color: #d4ebff;}#sk-container-id-1 div.sk-serial::before {content: \"\";position: absolute;border-left: 1px solid gray;box-sizing: border-box;top: 0;bottom: 0;left: 50%;z-index: 0;}#sk-container-id-1 div.sk-serial {display: flex;flex-direction: column;align-items: center;background-color: white;padding-right: 0.2em;padding-left: 0.2em;position: relative;}#sk-container-id-1 div.sk-item {position: relative;z-index: 1;}#sk-container-id-1 div.sk-parallel {display: flex;align-items: stretch;justify-content: center;background-color: white;position: relative;}#sk-container-id-1 div.sk-item::before, #sk-container-id-1 div.sk-parallel-item::before {content: \"\";position: absolute;border-left: 1px solid gray;box-sizing: border-box;top: 0;bottom: 0;left: 50%;z-index: -1;}#sk-container-id-1 div.sk-parallel-item {display: flex;flex-direction: column;z-index: 1;position: relative;background-color: white;}#sk-container-id-1 div.sk-parallel-item:first-child::after {align-self: flex-end;width: 50%;}#sk-container-id-1 div.sk-parallel-item:last-child::after {align-self: flex-start;width: 50%;}#sk-container-id-1 div.sk-parallel-item:only-child::after {width: 0;}#sk-container-id-1 div.sk-dashed-wrapped {border: 1px dashed gray;margin: 0 0.4em 0.5em 0.4em;box-sizing: border-box;padding-bottom: 0.4em;background-color: white;}#sk-container-id-1 div.sk-label label {font-family: monospace;font-weight: bold;display: inline-block;line-height: 1.2em;}#sk-container-id-1 div.sk-label-container {text-align: center;}#sk-container-id-1 div.sk-container {/* jupyter's `normalize.less` sets `[hidden] { display: none; }` but bootstrap.min.css set `[hidden] { display: none !important; }` so we also need the `!important` here to be able to override the default hidden behavior on the sphinx rendered scikit-learn.org. See: https://github.com/scikit-learn/scikit-learn/issues/21755 */display: inline-block !important;position: relative;}#sk-container-id-1 div.sk-text-repr-fallback {display: none;}</style><div id=\"sk-container-id-1\" class=\"sk-top-container\"><div class=\"sk-text-repr-fallback\"><pre>Pipeline(steps=[(&#x27;scale&#x27;, None), (&#x27;model&#x27;, LogisticRegression())])</pre><b>In a Jupyter environment, please rerun this cell to show the HTML representation or trust the notebook. <br />On GitHub, the HTML representation is unable to render, please try loading this page with nbviewer.org.</b></div><div class=\"sk-container\" hidden><div class=\"sk-item sk-dashed-wrapped\"><div class=\"sk-label-container\"><div class=\"sk-label sk-toggleable\"><input class=\"sk-toggleable__control sk-hidden--visually\" id=\"sk-estimator-id-1\" type=\"checkbox\" ><label for=\"sk-estimator-id-1\" class=\"sk-toggleable__label sk-toggleable__label-arrow\">Pipeline</label><div class=\"sk-toggleable__content\"><pre>Pipeline(steps=[(&#x27;scale&#x27;, None), (&#x27;model&#x27;, LogisticRegression())])</pre></div></div></div><div class=\"sk-serial\"><div class=\"sk-item\"><div class=\"sk-estimator sk-toggleable\"><input class=\"sk-toggleable__control sk-hidden--visually\" id=\"sk-estimator-id-2\" type=\"checkbox\" ><label for=\"sk-estimator-id-2\" class=\"sk-toggleable__label sk-toggleable__label-arrow\">None</label><div class=\"sk-toggleable__content\"><pre>None</pre></div></div></div><div class=\"sk-item\"><div class=\"sk-estimator sk-toggleable\"><input class=\"sk-toggleable__control sk-hidden--visually\" id=\"sk-estimator-id-3\" type=\"checkbox\" ><label for=\"sk-estimator-id-3\" class=\"sk-toggleable__label sk-toggleable__label-arrow\">LogisticRegression</label><div class=\"sk-toggleable__content\"><pre>LogisticRegression()</pre></div></div></div></div></div></div></div>"
      ],
      "text/plain": [
       "Pipeline(steps=[('scale', None), ('model', LogisticRegression())])"
      ]
     },
     "execution_count": 27,
     "metadata": {},
     "output_type": "execute_result"
    }
   ],
   "source": [
    "model.fit(X_train, y_train.values.ravel())"
   ]
  },
  {
   "cell_type": "code",
   "execution_count": 28,
   "id": "af59f8c0",
   "metadata": {
    "execution": {
     "iopub.execute_input": "2025-07-23T14:35:47.937922Z",
     "iopub.status.busy": "2025-07-23T14:35:47.937494Z",
     "iopub.status.idle": "2025-07-23T14:35:47.942856Z",
     "shell.execute_reply": "2025-07-23T14:35:47.941868Z"
    },
    "papermill": {
     "duration": 0.01949,
     "end_time": "2025-07-23T14:35:47.944260",
     "exception": false,
     "start_time": "2025-07-23T14:35:47.924770",
     "status": "completed"
    },
    "tags": []
   },
   "outputs": [],
   "source": [
    "from fairness_multiverse.universe import predict_w_threshold"
   ]
  },
  {
   "cell_type": "code",
   "execution_count": 29,
   "id": "a7cf2e16",
   "metadata": {
    "execution": {
     "iopub.execute_input": "2025-07-23T14:35:47.968829Z",
     "iopub.status.busy": "2025-07-23T14:35:47.968003Z",
     "iopub.status.idle": "2025-07-23T14:35:48.069627Z",
     "shell.execute_reply": "2025-07-23T14:35:48.068545Z"
    },
    "papermill": {
     "duration": 0.115369,
     "end_time": "2025-07-23T14:35:48.071397",
     "exception": false,
     "start_time": "2025-07-23T14:35:47.956028",
     "status": "completed"
    },
    "tags": []
   },
   "outputs": [
    {
     "data": {
      "text/plain": [
       "0.8582320811503734"
      ]
     },
     "execution_count": 29,
     "metadata": {},
     "output_type": "execute_result"
    }
   ],
   "source": [
    "probs_test = model.predict_proba(X_test)\n",
    "\n",
    "'''\n",
    "Below code returns a boolean array (or binary 0/1 array depending on how it’s used) where each element \n",
    "is True if the probability of class 1 is greater than or equal to the threshold, and False otherwise.\n",
    "'''\n",
    "y_pred_default = predict_w_threshold(probs_test, 0.5)\n",
    "\n",
    "from sklearn.metrics import accuracy_score\n",
    "\n",
    "# Naive prediction\n",
    "accuracy_score(y_true = y_true, y_pred = y_pred_default)"
   ]
  },
  {
   "cell_type": "code",
   "execution_count": 30,
   "id": "081964c3",
   "metadata": {
    "execution": {
     "iopub.execute_input": "2025-07-23T14:35:48.115561Z",
     "iopub.status.busy": "2025-07-23T14:35:48.114725Z",
     "iopub.status.idle": "2025-07-23T14:35:48.203041Z",
     "shell.execute_reply": "2025-07-23T14:35:48.201985Z"
    },
    "papermill": {
     "duration": 0.113487,
     "end_time": "2025-07-23T14:35:48.205151",
     "exception": false,
     "start_time": "2025-07-23T14:35:48.091664",
     "status": "completed"
    },
    "tags": []
   },
   "outputs": [
    {
     "data": {
      "text/plain": [
       "array([0, 0, 0, ..., 0, 0, 0])"
      ]
     },
     "execution_count": 30,
     "metadata": {},
     "output_type": "execute_result"
    }
   ],
   "source": [
    "model.predict(X_test)"
   ]
  },
  {
   "cell_type": "markdown",
   "id": "56c9705b",
   "metadata": {
    "papermill": {
     "duration": 0.020847,
     "end_time": "2025-07-23T14:35:48.246762",
     "exception": false,
     "start_time": "2025-07-23T14:35:48.225915",
     "status": "completed"
    },
    "tags": []
   },
   "source": [
    "# Conformal Prediction"
   ]
  },
  {
   "cell_type": "code",
   "execution_count": 31,
   "id": "160ec6ff",
   "metadata": {
    "execution": {
     "iopub.execute_input": "2025-07-23T14:35:48.288462Z",
     "iopub.status.busy": "2025-07-23T14:35:48.288010Z",
     "iopub.status.idle": "2025-07-23T14:35:48.293237Z",
     "shell.execute_reply": "2025-07-23T14:35:48.292359Z"
    },
    "papermill": {
     "duration": 0.021911,
     "end_time": "2025-07-23T14:35:48.294598",
     "exception": false,
     "start_time": "2025-07-23T14:35:48.272687",
     "status": "completed"
    },
    "tags": []
   },
   "outputs": [],
   "source": [
    "# Miscoverage level for conformal prediction (10% allowed error rate => 90% target coverage)\n",
    "alpha = 0.1"
   ]
  },
  {
   "cell_type": "code",
   "execution_count": 32,
   "id": "eadf4555-3dd3-440e-8e35-f82a4ad9f855",
   "metadata": {
    "execution": {
     "iopub.execute_input": "2025-07-23T14:35:48.321991Z",
     "iopub.status.busy": "2025-07-23T14:35:48.321572Z",
     "iopub.status.idle": "2025-07-23T14:35:48.409608Z",
     "shell.execute_reply": "2025-07-23T14:35:48.408497Z"
    },
    "papermill": {
     "duration": 0.104999,
     "end_time": "2025-07-23T14:35:48.411278",
     "exception": false,
     "start_time": "2025-07-23T14:35:48.306279",
     "status": "completed"
    },
    "tags": []
   },
   "outputs": [],
   "source": [
    "probs_calib = model.predict_proba(X_calib)"
   ]
  },
  {
   "cell_type": "code",
   "execution_count": 33,
   "id": "2ed93547-6d5d-4983-9b36-1ecb300da49a",
   "metadata": {
    "execution": {
     "iopub.execute_input": "2025-07-23T14:35:48.435987Z",
     "iopub.status.busy": "2025-07-23T14:35:48.435257Z",
     "iopub.status.idle": "2025-07-23T14:35:48.440808Z",
     "shell.execute_reply": "2025-07-23T14:35:48.439954Z"
    },
    "papermill": {
     "duration": 0.018937,
     "end_time": "2025-07-23T14:35:48.442202",
     "exception": false,
     "start_time": "2025-07-23T14:35:48.423265",
     "status": "completed"
    },
    "tags": []
   },
   "outputs": [],
   "source": [
    "y_calib = y_calib.values.ravel().astype(int)"
   ]
  },
  {
   "cell_type": "code",
   "execution_count": 34,
   "id": "65d1320d-f588-4b38-9072-62af1ae97f7d",
   "metadata": {
    "execution": {
     "iopub.execute_input": "2025-07-23T14:35:48.480047Z",
     "iopub.status.busy": "2025-07-23T14:35:48.479063Z",
     "iopub.status.idle": "2025-07-23T14:35:48.485585Z",
     "shell.execute_reply": "2025-07-23T14:35:48.484756Z"
    },
    "papermill": {
     "duration": 0.031397,
     "end_time": "2025-07-23T14:35:48.486997",
     "exception": false,
     "start_time": "2025-07-23T14:35:48.455600",
     "status": "completed"
    },
    "tags": []
   },
   "outputs": [],
   "source": [
    "from fairness_multiverse.conformal import compute_nc_scores\n",
    "\n",
    "# Compute nonconformity scores on calibration set (1 - probability of true class)\n",
    "nc_scores = compute_nc_scores(probs_calib, y_calib)"
   ]
  },
  {
   "cell_type": "code",
   "execution_count": 35,
   "id": "df3b8ca3-53b7-43d5-9667-7c85da7aeda2",
   "metadata": {
    "execution": {
     "iopub.execute_input": "2025-07-23T14:35:48.517750Z",
     "iopub.status.busy": "2025-07-23T14:35:48.517166Z",
     "iopub.status.idle": "2025-07-23T14:35:48.525726Z",
     "shell.execute_reply": "2025-07-23T14:35:48.524800Z"
    },
    "papermill": {
     "duration": 0.028311,
     "end_time": "2025-07-23T14:35:48.527351",
     "exception": false,
     "start_time": "2025-07-23T14:35:48.499040",
     "status": "completed"
    },
    "tags": []
   },
   "outputs": [],
   "source": [
    "from fairness_multiverse.conformal import find_threshold\n",
    "\n",
    "# Find conformal threshold q_hat for the given alpha (split conformal method)\n",
    "q_hat = find_threshold(nc_scores, alpha)"
   ]
  },
  {
   "cell_type": "code",
   "execution_count": 36,
   "id": "4d29e6c1-0ef6-4aa4-b8fe-4fe79b0d033a",
   "metadata": {
    "execution": {
     "iopub.execute_input": "2025-07-23T14:35:48.573020Z",
     "iopub.status.busy": "2025-07-23T14:35:48.571831Z",
     "iopub.status.idle": "2025-07-23T14:35:48.581295Z",
     "shell.execute_reply": "2025-07-23T14:35:48.579994Z"
    },
    "papermill": {
     "duration": 0.034193,
     "end_time": "2025-07-23T14:35:48.583437",
     "exception": false,
     "start_time": "2025-07-23T14:35:48.549244",
     "status": "completed"
    },
    "tags": []
   },
   "outputs": [
    {
     "data": {
      "text/plain": [
       "0.6691114541400532"
      ]
     },
     "execution_count": 36,
     "metadata": {},
     "output_type": "execute_result"
    }
   ],
   "source": [
    "q_hat"
   ]
  },
  {
   "cell_type": "code",
   "execution_count": 37,
   "id": "92460794-cdac-4be2-ba28-f28c0515a6fb",
   "metadata": {
    "execution": {
     "iopub.execute_input": "2025-07-23T14:35:48.626464Z",
     "iopub.status.busy": "2025-07-23T14:35:48.626002Z",
     "iopub.status.idle": "2025-07-23T14:35:49.495188Z",
     "shell.execute_reply": "2025-07-23T14:35:49.494026Z"
    },
    "papermill": {
     "duration": 0.892968,
     "end_time": "2025-07-23T14:35:49.497363",
     "exception": false,
     "start_time": "2025-07-23T14:35:48.604395",
     "status": "completed"
    },
    "tags": []
   },
   "outputs": [],
   "source": [
    "from fairness_multiverse.conformal import predict_conformal_sets\n",
    "\n",
    "# Generate prediction sets for each test example\n",
    "pred_sets = predict_conformal_sets(model, X_test, q_hat)"
   ]
  },
  {
   "cell_type": "code",
   "execution_count": 38,
   "id": "d90c9a65-e6db-4f5d-80cd-e68fb7e46829",
   "metadata": {
    "execution": {
     "iopub.execute_input": "2025-07-23T14:35:49.541298Z",
     "iopub.status.busy": "2025-07-23T14:35:49.540383Z",
     "iopub.status.idle": "2025-07-23T14:35:49.546629Z",
     "shell.execute_reply": "2025-07-23T14:35:49.545508Z"
    },
    "papermill": {
     "duration": 0.029779,
     "end_time": "2025-07-23T14:35:49.548623",
     "exception": false,
     "start_time": "2025-07-23T14:35:49.518844",
     "status": "completed"
    },
    "tags": []
   },
   "outputs": [],
   "source": [
    "y_true = y_true.squeeze()"
   ]
  },
  {
   "cell_type": "code",
   "execution_count": 39,
   "id": "3a58a54a-1e68-46b9-927a-df01f18aebc8",
   "metadata": {
    "execution": {
     "iopub.execute_input": "2025-07-23T14:35:49.590955Z",
     "iopub.status.busy": "2025-07-23T14:35:49.590363Z",
     "iopub.status.idle": "2025-07-23T14:35:50.638447Z",
     "shell.execute_reply": "2025-07-23T14:35:50.637212Z"
    },
    "papermill": {
     "duration": 1.071233,
     "end_time": "2025-07-23T14:35:50.640095",
     "exception": false,
     "start_time": "2025-07-23T14:35:49.568862",
     "status": "completed"
    },
    "tags": []
   },
   "outputs": [],
   "source": [
    "from fairness_multiverse.conformal import evaluate_sets\n",
    "\n",
    "# Evaluate coverage and average set size on test data\n",
    "metrics = evaluate_sets(pred_sets, y_true)"
   ]
  },
  {
   "cell_type": "code",
   "execution_count": 40,
   "id": "5ce0a5cb-201f-45a0-ade5-94c7f0bd6095",
   "metadata": {
    "execution": {
     "iopub.execute_input": "2025-07-23T14:35:50.686817Z",
     "iopub.status.busy": "2025-07-23T14:35:50.686119Z",
     "iopub.status.idle": "2025-07-23T14:35:50.695489Z",
     "shell.execute_reply": "2025-07-23T14:35:50.694248Z"
    },
    "papermill": {
     "duration": 0.034752,
     "end_time": "2025-07-23T14:35:50.697504",
     "exception": false,
     "start_time": "2025-07-23T14:35:50.662752",
     "status": "completed"
    },
    "tags": []
   },
   "outputs": [
    {
     "data": {
      "text/plain": [
       "{'coverage': 0.9117266748411549, 'avg_size': 1.2117155278118381}"
      ]
     },
     "execution_count": 40,
     "metadata": {},
     "output_type": "execute_result"
    }
   ],
   "source": [
    "metrics"
   ]
  },
  {
   "cell_type": "code",
   "execution_count": 41,
   "id": "9b9a838d-31c9-430b-ae14-12baee460d17",
   "metadata": {
    "execution": {
     "iopub.execute_input": "2025-07-23T14:35:50.746192Z",
     "iopub.status.busy": "2025-07-23T14:35:50.745020Z",
     "iopub.status.idle": "2025-07-23T14:35:50.752159Z",
     "shell.execute_reply": "2025-07-23T14:35:50.751137Z"
    },
    "papermill": {
     "duration": 0.033585,
     "end_time": "2025-07-23T14:35:50.754183",
     "exception": false,
     "start_time": "2025-07-23T14:35:50.720598",
     "status": "completed"
    },
    "tags": []
   },
   "outputs": [],
   "source": [
    "example_universe = universe.copy()\n",
    "universe_model = example_universe.get(\"model\")\n",
    "universe_exclude_features = example_universe.get(\"exclude_features\")\n",
    "universe_exclude_subgroups = example_universe.get(\"exclude_subgroups\")\n",
    "universe_scale = example_universe.get(\"scale\")"
   ]
  },
  {
   "cell_type": "code",
   "execution_count": 42,
   "id": "f4b6a8ac-9dc0-4245-8a91-5b3b5999c4f9",
   "metadata": {
    "execution": {
     "iopub.execute_input": "2025-07-23T14:35:50.799972Z",
     "iopub.status.busy": "2025-07-23T14:35:50.799443Z",
     "iopub.status.idle": "2025-07-23T14:35:50.806388Z",
     "shell.execute_reply": "2025-07-23T14:35:50.805284Z"
    },
    "papermill": {
     "duration": 0.03242,
     "end_time": "2025-07-23T14:35:50.808197",
     "exception": false,
     "start_time": "2025-07-23T14:35:50.775777",
     "status": "completed"
    },
    "tags": []
   },
   "outputs": [],
   "source": [
    "cp_metrics_dict = {\n",
    "    \"universe_id\": [universe_id],\n",
    "    \"universe_model\": [universe_model],\n",
    "    \"universe_exclude_features\": [universe_exclude_features],\n",
    "    \"universe_exclude_subgroups\": [universe_exclude_subgroups],\n",
    "    \"universe_scale\": [universe_scale],\n",
    "    \"q_hat\": [q_hat],\n",
    "    \"coverage\": [metrics[\"coverage\"]],\n",
    "    \"avg_size\": [metrics[\"avg_size\"]],\n",
    "}"
   ]
  },
  {
   "cell_type": "code",
   "execution_count": 43,
   "id": "908acbb1-0371-4915-85ca-3fa520d2efe2",
   "metadata": {
    "execution": {
     "iopub.execute_input": "2025-07-23T14:35:50.854793Z",
     "iopub.status.busy": "2025-07-23T14:35:50.853797Z",
     "iopub.status.idle": "2025-07-23T14:35:50.862626Z",
     "shell.execute_reply": "2025-07-23T14:35:50.861529Z"
    },
    "papermill": {
     "duration": 0.034242,
     "end_time": "2025-07-23T14:35:50.865045",
     "exception": false,
     "start_time": "2025-07-23T14:35:50.830803",
     "status": "completed"
    },
    "tags": []
   },
   "outputs": [
    {
     "data": {
      "text/plain": [
       "{'universe_id': ['60eeda26081f16b3f8f6849c5e95d393'],\n",
       " 'universe_model': ['penalized_logreg'],\n",
       " 'universe_exclude_features': ['nationality-sex'],\n",
       " 'universe_exclude_subgroups': ['drop-non-german'],\n",
       " 'universe_scale': ['do-not-scale'],\n",
       " 'q_hat': [0.6691114541400532],\n",
       " 'coverage': [0.9117266748411549],\n",
       " 'avg_size': [1.2117155278118381]}"
      ]
     },
     "execution_count": 43,
     "metadata": {},
     "output_type": "execute_result"
    }
   ],
   "source": [
    "cp_metrics_dict"
   ]
  },
  {
   "cell_type": "code",
   "execution_count": 44,
   "id": "33007efc-14e9-4ec6-97ac-56a455c82265",
   "metadata": {
    "execution": {
     "iopub.execute_input": "2025-07-23T14:35:50.911934Z",
     "iopub.status.busy": "2025-07-23T14:35:50.911380Z",
     "iopub.status.idle": "2025-07-23T14:35:50.918225Z",
     "shell.execute_reply": "2025-07-23T14:35:50.917112Z"
    },
    "papermill": {
     "duration": 0.033348,
     "end_time": "2025-07-23T14:35:50.920050",
     "exception": false,
     "start_time": "2025-07-23T14:35:50.886702",
     "status": "completed"
    },
    "tags": []
   },
   "outputs": [],
   "source": [
    "cp_metrics_df = pd.DataFrame(cp_metrics_dict)"
   ]
  },
  {
   "cell_type": "code",
   "execution_count": 45,
   "id": "db12611b-57b2-4910-b9d0-355adfd6e7bf",
   "metadata": {
    "execution": {
     "iopub.execute_input": "2025-07-23T14:35:50.972817Z",
     "iopub.status.busy": "2025-07-23T14:35:50.971774Z",
     "iopub.status.idle": "2025-07-23T14:35:50.991247Z",
     "shell.execute_reply": "2025-07-23T14:35:50.990176Z"
    },
    "papermill": {
     "duration": 0.045962,
     "end_time": "2025-07-23T14:35:50.993189",
     "exception": false,
     "start_time": "2025-07-23T14:35:50.947227",
     "status": "completed"
    },
    "tags": []
   },
   "outputs": [
    {
     "data": {
      "text/html": [
       "<div>\n",
       "<style scoped>\n",
       "    .dataframe tbody tr th:only-of-type {\n",
       "        vertical-align: middle;\n",
       "    }\n",
       "\n",
       "    .dataframe tbody tr th {\n",
       "        vertical-align: top;\n",
       "    }\n",
       "\n",
       "    .dataframe thead th {\n",
       "        text-align: right;\n",
       "    }\n",
       "</style>\n",
       "<table border=\"1\" class=\"dataframe\">\n",
       "  <thead>\n",
       "    <tr style=\"text-align: right;\">\n",
       "      <th></th>\n",
       "      <th>universe_id</th>\n",
       "      <th>universe_model</th>\n",
       "      <th>universe_exclude_features</th>\n",
       "      <th>universe_exclude_subgroups</th>\n",
       "      <th>universe_scale</th>\n",
       "      <th>q_hat</th>\n",
       "      <th>coverage</th>\n",
       "      <th>avg_size</th>\n",
       "    </tr>\n",
       "  </thead>\n",
       "  <tbody>\n",
       "    <tr>\n",
       "      <th>0</th>\n",
       "      <td>60eeda26081f16b3f8f6849c5e95d393</td>\n",
       "      <td>penalized_logreg</td>\n",
       "      <td>nationality-sex</td>\n",
       "      <td>drop-non-german</td>\n",
       "      <td>do-not-scale</td>\n",
       "      <td>0.669111</td>\n",
       "      <td>0.911727</td>\n",
       "      <td>1.211716</td>\n",
       "    </tr>\n",
       "  </tbody>\n",
       "</table>\n",
       "</div>"
      ],
      "text/plain": [
       "                        universe_id    universe_model  \\\n",
       "0  60eeda26081f16b3f8f6849c5e95d393  penalized_logreg   \n",
       "\n",
       "  universe_exclude_features universe_exclude_subgroups universe_scale  \\\n",
       "0           nationality-sex            drop-non-german   do-not-scale   \n",
       "\n",
       "      q_hat  coverage  avg_size  \n",
       "0  0.669111  0.911727  1.211716  "
      ]
     },
     "execution_count": 45,
     "metadata": {},
     "output_type": "execute_result"
    }
   ],
   "source": [
    "cp_metrics_df"
   ]
  },
  {
   "cell_type": "code",
   "execution_count": 46,
   "id": "b7fbde55-a0a1-47e4-9af6-fe4a17fa8c61",
   "metadata": {
    "execution": {
     "iopub.execute_input": "2025-07-23T14:35:51.050950Z",
     "iopub.status.busy": "2025-07-23T14:35:51.050282Z",
     "iopub.status.idle": "2025-07-23T14:35:51.055927Z",
     "shell.execute_reply": "2025-07-23T14:35:51.054901Z"
    },
    "papermill": {
     "duration": 0.03856,
     "end_time": "2025-07-23T14:35:51.057810",
     "exception": false,
     "start_time": "2025-07-23T14:35:51.019250",
     "status": "completed"
    },
    "tags": []
   },
   "outputs": [],
   "source": [
    "# Conditional Coverage & looking at subgroups"
   ]
  },
  {
   "cell_type": "code",
   "execution_count": 47,
   "id": "027ae886-68dd-4141-96c7-805a5450e1ef",
   "metadata": {
    "execution": {
     "iopub.execute_input": "2025-07-23T14:35:51.108818Z",
     "iopub.status.busy": "2025-07-23T14:35:51.107756Z",
     "iopub.status.idle": "2025-07-23T14:35:51.387038Z",
     "shell.execute_reply": "2025-07-23T14:35:51.385921Z"
    },
    "papermill": {
     "duration": 0.308129,
     "end_time": "2025-07-23T14:35:51.389231",
     "exception": false,
     "start_time": "2025-07-23T14:35:51.081102",
     "status": "completed"
    },
    "tags": []
   },
   "outputs": [],
   "source": [
    "from fairness_multiverse.conformal import build_cp_groups\n",
    "\n",
    "cp_groups_df = build_cp_groups(pred_sets, y_true, X_test.index, org_test)\n",
    "#needs universe_id and setting"
   ]
  },
  {
   "cell_type": "code",
   "execution_count": 48,
   "id": "c3b92545-903e-4839-89af-0f057907d7d6",
   "metadata": {
    "execution": {
     "iopub.execute_input": "2025-07-23T14:35:51.435334Z",
     "iopub.status.busy": "2025-07-23T14:35:51.434824Z",
     "iopub.status.idle": "2025-07-23T14:35:53.036136Z",
     "shell.execute_reply": "2025-07-23T14:35:53.035196Z"
    },
    "papermill": {
     "duration": 1.620583,
     "end_time": "2025-07-23T14:35:53.038119",
     "exception": false,
     "start_time": "2025-07-23T14:35:51.417536",
     "status": "completed"
    },
    "tags": []
   },
   "outputs": [],
   "source": [
    "# Define covered = 1 if true_label is in the predicted set\n",
    "cp_groups_df['covered'] = cp_groups_df.apply(\n",
    "    lambda r: int(r['true_label'] in r['pred_set']),\n",
    "    axis=1\n",
    ")"
   ]
  },
  {
   "cell_type": "code",
   "execution_count": 49,
   "id": "338ff529-1a6b-4b87-a931-8e4788d52aad",
   "metadata": {
    "execution": {
     "iopub.execute_input": "2025-07-23T14:35:53.087430Z",
     "iopub.status.busy": "2025-07-23T14:35:53.086803Z",
     "iopub.status.idle": "2025-07-23T14:35:53.092259Z",
     "shell.execute_reply": "2025-07-23T14:35:53.091251Z"
    },
    "papermill": {
     "duration": 0.037489,
     "end_time": "2025-07-23T14:35:53.099048",
     "exception": false,
     "start_time": "2025-07-23T14:35:53.061559",
     "status": "completed"
    },
    "tags": []
   },
   "outputs": [],
   "source": [
    "#cp_groups_df"
   ]
  },
  {
   "cell_type": "code",
   "execution_count": 50,
   "id": "90032e27-66df-4540-9169-4e89cfbaa758",
   "metadata": {
    "execution": {
     "iopub.execute_input": "2025-07-23T14:35:53.146109Z",
     "iopub.status.busy": "2025-07-23T14:35:53.145123Z",
     "iopub.status.idle": "2025-07-23T14:35:53.157701Z",
     "shell.execute_reply": "2025-07-23T14:35:53.156544Z"
    },
    "papermill": {
     "duration": 0.038223,
     "end_time": "2025-07-23T14:35:53.159508",
     "exception": false,
     "start_time": "2025-07-23T14:35:53.121285",
     "status": "completed"
    },
    "tags": []
   },
   "outputs": [],
   "source": [
    "subgroups = ['frau1','nongerman','nongerman_male','nongerman_female']\n",
    "\n",
    "# Conditional coverage for subgroup==1\n",
    "cond_coverage = {\n",
    "    g: cp_groups_df.loc[cp_groups_df[g]==1, 'covered'].mean()\n",
    "    for g in subgroups\n",
    "}"
   ]
  },
  {
   "cell_type": "code",
   "execution_count": 51,
   "id": "1e348fb1-b9c3-45bc-ba23-f016827a7e0d",
   "metadata": {
    "execution": {
     "iopub.execute_input": "2025-07-23T14:35:53.186425Z",
     "iopub.status.busy": "2025-07-23T14:35:53.185654Z",
     "iopub.status.idle": "2025-07-23T14:35:53.193596Z",
     "shell.execute_reply": "2025-07-23T14:35:53.192601Z"
    },
    "papermill": {
     "duration": 0.024765,
     "end_time": "2025-07-23T14:35:53.197040",
     "exception": false,
     "start_time": "2025-07-23T14:35:53.172275",
     "status": "completed"
    },
    "tags": []
   },
   "outputs": [
    {
     "data": {
      "text/plain": [
       "{'frau1': 0.9116592532686346,\n",
       " 'nongerman': 0.9351597148150227,\n",
       " 'nongerman_male': 0.9466810771863461,\n",
       " 'nongerman_female': 0.9160953800298063}"
      ]
     },
     "execution_count": 51,
     "metadata": {},
     "output_type": "execute_result"
    }
   ],
   "source": [
    "cond_coverage"
   ]
  },
  {
   "cell_type": "code",
   "execution_count": 52,
   "id": "f5093324-c3dd-4d63-bc4c-8d945e5c8bbb",
   "metadata": {
    "execution": {
     "iopub.execute_input": "2025-07-23T14:35:53.246106Z",
     "iopub.status.busy": "2025-07-23T14:35:53.245211Z",
     "iopub.status.idle": "2025-07-23T14:35:53.258322Z",
     "shell.execute_reply": "2025-07-23T14:35:53.257121Z"
    },
    "papermill": {
     "duration": 0.046416,
     "end_time": "2025-07-23T14:35:53.266519",
     "exception": false,
     "start_time": "2025-07-23T14:35:53.220103",
     "status": "completed"
    },
    "tags": []
   },
   "outputs": [],
   "source": [
    "for subgroup, cov in cond_coverage.items():\n",
    "    cp_metrics_df[f\"cov_{subgroup}\"] = cov"
   ]
  },
  {
   "cell_type": "code",
   "execution_count": 53,
   "id": "6e872e10-dbe5-49e8-b554-5030c98ff75d",
   "metadata": {
    "execution": {
     "iopub.execute_input": "2025-07-23T14:35:53.314446Z",
     "iopub.status.busy": "2025-07-23T14:35:53.313952Z",
     "iopub.status.idle": "2025-07-23T14:35:53.339882Z",
     "shell.execute_reply": "2025-07-23T14:35:53.338650Z"
    },
    "papermill": {
     "duration": 0.051882,
     "end_time": "2025-07-23T14:35:53.341864",
     "exception": false,
     "start_time": "2025-07-23T14:35:53.289982",
     "status": "completed"
    },
    "tags": []
   },
   "outputs": [
    {
     "data": {
      "text/html": [
       "<div>\n",
       "<style scoped>\n",
       "    .dataframe tbody tr th:only-of-type {\n",
       "        vertical-align: middle;\n",
       "    }\n",
       "\n",
       "    .dataframe tbody tr th {\n",
       "        vertical-align: top;\n",
       "    }\n",
       "\n",
       "    .dataframe thead th {\n",
       "        text-align: right;\n",
       "    }\n",
       "</style>\n",
       "<table border=\"1\" class=\"dataframe\">\n",
       "  <thead>\n",
       "    <tr style=\"text-align: right;\">\n",
       "      <th></th>\n",
       "      <th>universe_id</th>\n",
       "      <th>universe_model</th>\n",
       "      <th>universe_exclude_features</th>\n",
       "      <th>universe_exclude_subgroups</th>\n",
       "      <th>universe_scale</th>\n",
       "      <th>q_hat</th>\n",
       "      <th>coverage</th>\n",
       "      <th>avg_size</th>\n",
       "      <th>cov_frau1</th>\n",
       "      <th>cov_nongerman</th>\n",
       "      <th>cov_nongerman_male</th>\n",
       "      <th>cov_nongerman_female</th>\n",
       "    </tr>\n",
       "  </thead>\n",
       "  <tbody>\n",
       "    <tr>\n",
       "      <th>0</th>\n",
       "      <td>60eeda26081f16b3f8f6849c5e95d393</td>\n",
       "      <td>penalized_logreg</td>\n",
       "      <td>nationality-sex</td>\n",
       "      <td>drop-non-german</td>\n",
       "      <td>do-not-scale</td>\n",
       "      <td>0.669111</td>\n",
       "      <td>0.911727</td>\n",
       "      <td>1.211716</td>\n",
       "      <td>0.911659</td>\n",
       "      <td>0.93516</td>\n",
       "      <td>0.946681</td>\n",
       "      <td>0.916095</td>\n",
       "    </tr>\n",
       "  </tbody>\n",
       "</table>\n",
       "</div>"
      ],
      "text/plain": [
       "                        universe_id    universe_model  \\\n",
       "0  60eeda26081f16b3f8f6849c5e95d393  penalized_logreg   \n",
       "\n",
       "  universe_exclude_features universe_exclude_subgroups universe_scale  \\\n",
       "0           nationality-sex            drop-non-german   do-not-scale   \n",
       "\n",
       "      q_hat  coverage  avg_size  cov_frau1  cov_nongerman  cov_nongerman_male  \\\n",
       "0  0.669111  0.911727  1.211716   0.911659        0.93516            0.946681   \n",
       "\n",
       "   cov_nongerman_female  \n",
       "0              0.916095  "
      ]
     },
     "execution_count": 53,
     "metadata": {},
     "output_type": "execute_result"
    }
   ],
   "source": [
    "cp_metrics_df"
   ]
  },
  {
   "cell_type": "markdown",
   "id": "33774451",
   "metadata": {
    "papermill": {
     "duration": 0.012527,
     "end_time": "2025-07-23T14:35:53.375250",
     "exception": false,
     "start_time": "2025-07-23T14:35:53.362723",
     "status": "completed"
    },
    "tags": []
   },
   "source": [
    "# (Fairness) Metrics"
   ]
  },
  {
   "cell_type": "code",
   "execution_count": 54,
   "id": "debc5d62",
   "metadata": {
    "execution": {
     "iopub.execute_input": "2025-07-23T14:35:53.401619Z",
     "iopub.status.busy": "2025-07-23T14:35:53.400985Z",
     "iopub.status.idle": "2025-07-23T14:35:53.426798Z",
     "shell.execute_reply": "2025-07-23T14:35:53.425599Z"
    },
    "papermill": {
     "duration": 0.040924,
     "end_time": "2025-07-23T14:35:53.428308",
     "exception": false,
     "start_time": "2025-07-23T14:35:53.387384",
     "status": "completed"
    },
    "tags": []
   },
   "outputs": [],
   "source": [
    "# do I need to include maxdeutsch1.missing?\n",
    "\n",
    "import numpy as np\n",
    "\n",
    "colname_to_bin = \"maxdeutsch1\"\n",
    "majority_value = org_train[colname_to_bin].mode()[0]\n",
    "\n",
    "org_test[\"majmin\"] = np.where(org_test[colname_to_bin] == majority_value, \"majority\", \"minority\")"
   ]
  },
  {
   "cell_type": "code",
   "execution_count": 55,
   "id": "06a50de5",
   "metadata": {
    "execution": {
     "iopub.execute_input": "2025-07-23T14:35:53.479548Z",
     "iopub.status.busy": "2025-07-23T14:35:53.479054Z",
     "iopub.status.idle": "2025-07-23T14:35:56.149195Z",
     "shell.execute_reply": "2025-07-23T14:35:56.148097Z"
    },
    "papermill": {
     "duration": 2.696355,
     "end_time": "2025-07-23T14:35:56.151143",
     "exception": false,
     "start_time": "2025-07-23T14:35:53.454788",
     "status": "completed"
    },
    "tags": []
   },
   "outputs": [],
   "source": [
    "example_universe = universe.copy()\n",
    "example_universe[\"cutoff\"] = example_universe[\"cutoff\"][0]\n",
    "example_universe[\"eval_fairness_grouping\"] = example_universe[\"eval_fairness_grouping\"][0]\n",
    "fairness_dict, metric_frame = universe_analysis.compute_metrics(\n",
    "    example_universe,\n",
    "    y_pred_prob=probs_test,\n",
    "    y_test=y_true,\n",
    "    org_test=org_test,\n",
    ")"
   ]
  },
  {
   "cell_type": "markdown",
   "id": "f95d4e02",
   "metadata": {
    "papermill": {
     "duration": 0.019815,
     "end_time": "2025-07-23T14:35:56.196599",
     "exception": false,
     "start_time": "2025-07-23T14:35:56.176784",
     "status": "completed"
    },
    "tags": []
   },
   "source": [
    "# Overall"
   ]
  },
  {
   "cell_type": "markdown",
   "id": "bdee4871",
   "metadata": {
    "papermill": {
     "duration": 0.011979,
     "end_time": "2025-07-23T14:35:56.221243",
     "exception": false,
     "start_time": "2025-07-23T14:35:56.209264",
     "status": "completed"
    },
    "tags": []
   },
   "source": [
    "Fairness\n",
    "Main fairness target: Equalized Odds. Seems to be a better fit than equal opportunity, since we're not only interested in Y = 1. Seems to be a better fit than demographic parity, since we also care about accuracy, not just equal distribution of preds.\n",
    "\n",
    "Pick column for computation of fairness metrics\n",
    "\n",
    "Performance\n",
    "Overall performance measures, most interesting in relation to the measures split by group below"
   ]
  },
  {
   "cell_type": "code",
   "execution_count": 56,
   "id": "c4e067c6",
   "metadata": {
    "execution": {
     "iopub.execute_input": "2025-07-23T14:35:56.252168Z",
     "iopub.status.busy": "2025-07-23T14:35:56.251690Z",
     "iopub.status.idle": "2025-07-23T14:35:56.261336Z",
     "shell.execute_reply": "2025-07-23T14:35:56.260157Z"
    },
    "papermill": {
     "duration": 0.029548,
     "end_time": "2025-07-23T14:35:56.263018",
     "exception": false,
     "start_time": "2025-07-23T14:35:56.233470",
     "status": "completed"
    },
    "tags": []
   },
   "outputs": [
    {
     "data": {
      "text/plain": [
       "accuracy                   0.217824\n",
       "balanced accuracy          0.533982\n",
       "f1                         0.239336\n",
       "precision                  0.136725\n",
       "false positive rate        0.891282\n",
       "false negative rate        0.040754\n",
       "selection rate             0.900000\n",
       "count                  89710.000000\n",
       "dtype: float64"
      ]
     },
     "execution_count": 56,
     "metadata": {},
     "output_type": "execute_result"
    }
   ],
   "source": [
    "metric_frame.overall"
   ]
  },
  {
   "cell_type": "markdown",
   "id": "e968fe9d",
   "metadata": {
    "papermill": {
     "duration": 0.02392,
     "end_time": "2025-07-23T14:35:56.311174",
     "exception": false,
     "start_time": "2025-07-23T14:35:56.287254",
     "status": "completed"
    },
    "tags": []
   },
   "source": [
    "By Group"
   ]
  },
  {
   "cell_type": "code",
   "execution_count": 57,
   "id": "ec325bce",
   "metadata": {
    "execution": {
     "iopub.execute_input": "2025-07-23T14:35:56.360024Z",
     "iopub.status.busy": "2025-07-23T14:35:56.359530Z",
     "iopub.status.idle": "2025-07-23T14:35:56.384783Z",
     "shell.execute_reply": "2025-07-23T14:35:56.383649Z"
    },
    "papermill": {
     "duration": 0.05266,
     "end_time": "2025-07-23T14:35:56.386834",
     "exception": false,
     "start_time": "2025-07-23T14:35:56.334174",
     "status": "completed"
    },
    "tags": []
   },
   "outputs": [
    {
     "data": {
      "text/html": [
       "<div>\n",
       "<style scoped>\n",
       "    .dataframe tbody tr th:only-of-type {\n",
       "        vertical-align: middle;\n",
       "    }\n",
       "\n",
       "    .dataframe tbody tr th {\n",
       "        vertical-align: top;\n",
       "    }\n",
       "\n",
       "    .dataframe thead th {\n",
       "        text-align: right;\n",
       "    }\n",
       "</style>\n",
       "<table border=\"1\" class=\"dataframe\">\n",
       "  <thead>\n",
       "    <tr style=\"text-align: right;\">\n",
       "      <th></th>\n",
       "      <th>accuracy</th>\n",
       "      <th>balanced accuracy</th>\n",
       "      <th>f1</th>\n",
       "      <th>precision</th>\n",
       "      <th>false positive rate</th>\n",
       "      <th>false negative rate</th>\n",
       "      <th>selection rate</th>\n",
       "      <th>count</th>\n",
       "    </tr>\n",
       "    <tr>\n",
       "      <th>majmin</th>\n",
       "      <th></th>\n",
       "      <th></th>\n",
       "      <th></th>\n",
       "      <th></th>\n",
       "      <th></th>\n",
       "      <th></th>\n",
       "      <th></th>\n",
       "      <th></th>\n",
       "    </tr>\n",
       "  </thead>\n",
       "  <tbody>\n",
       "    <tr>\n",
       "      <th>majority</th>\n",
       "      <td>0.240133</td>\n",
       "      <td>0.541953</td>\n",
       "      <td>0.248778</td>\n",
       "      <td>0.14308</td>\n",
       "      <td>0.868283</td>\n",
       "      <td>0.047812</td>\n",
       "      <td>0.879370</td>\n",
       "      <td>69170.0</td>\n",
       "    </tr>\n",
       "    <tr>\n",
       "      <th>minority</th>\n",
       "      <td>0.142697</td>\n",
       "      <td>0.509615</td>\n",
       "      <td>0.209685</td>\n",
       "      <td>0.11731</td>\n",
       "      <td>0.967257</td>\n",
       "      <td>0.013514</td>\n",
       "      <td>0.969474</td>\n",
       "      <td>20540.0</td>\n",
       "    </tr>\n",
       "  </tbody>\n",
       "</table>\n",
       "</div>"
      ],
      "text/plain": [
       "          accuracy  balanced accuracy        f1  precision  \\\n",
       "majmin                                                       \n",
       "majority  0.240133           0.541953  0.248778    0.14308   \n",
       "minority  0.142697           0.509615  0.209685    0.11731   \n",
       "\n",
       "          false positive rate  false negative rate  selection rate    count  \n",
       "majmin                                                                       \n",
       "majority             0.868283             0.047812        0.879370  69170.0  \n",
       "minority             0.967257             0.013514        0.969474  20540.0  "
      ]
     },
     "execution_count": 57,
     "metadata": {},
     "output_type": "execute_result"
    }
   ],
   "source": [
    "metric_frame.by_group"
   ]
  },
  {
   "cell_type": "code",
   "execution_count": 58,
   "id": "a9ddbe63",
   "metadata": {
    "execution": {
     "iopub.execute_input": "2025-07-23T14:35:56.440736Z",
     "iopub.status.busy": "2025-07-23T14:35:56.439970Z",
     "iopub.status.idle": "2025-07-23T14:35:58.422498Z",
     "shell.execute_reply": "2025-07-23T14:35:58.421449Z"
    },
    "papermill": {
     "duration": 2.00896,
     "end_time": "2025-07-23T14:35:58.423844",
     "exception": false,
     "start_time": "2025-07-23T14:35:56.414884",
     "status": "completed"
    },
    "tags": []
   },
   "outputs": [
    {
     "data": {
      "text/plain": [
       "array([[<Axes: title={'center': 'accuracy'}, xlabel='majmin'>,\n",
       "        <Axes: title={'center': 'balanced accuracy'}, xlabel='majmin'>,\n",
       "        <Axes: title={'center': 'f1'}, xlabel='majmin'>],\n",
       "       [<Axes: title={'center': 'precision'}, xlabel='majmin'>,\n",
       "        <Axes: title={'center': 'false positive rate'}, xlabel='majmin'>,\n",
       "        <Axes: title={'center': 'false negative rate'}, xlabel='majmin'>],\n",
       "       [<Axes: title={'center': 'selection rate'}, xlabel='majmin'>,\n",
       "        <Axes: title={'center': 'count'}, xlabel='majmin'>,\n",
       "        <Axes: xlabel='majmin'>]], dtype=object)"
      ]
     },
     "execution_count": 58,
     "metadata": {},
     "output_type": "execute_result"
    },
    {
     "data": {
      "image/png": "[encoded data removed]",
      "text/plain": [
       "<Figure size 1200x800 with 9 Axes>"
      ]
     },
     "metadata": {},
     "output_type": "display_data"
    }
   ],
   "source": [
    "# In a graphic\n",
    "metric_frame.by_group.plot.bar(\n",
    "    subplots=True,\n",
    "    layout=[3, 3],\n",
    "    legend=False,\n",
    "    figsize=[12, 8],\n",
    "    title=\"Show all metrics\",\n",
    ")"
   ]
  },
  {
   "cell_type": "markdown",
   "id": "f57a0bac",
   "metadata": {
    "papermill": {
     "duration": 0.013473,
     "end_time": "2025-07-23T14:35:58.451687",
     "exception": false,
     "start_time": "2025-07-23T14:35:58.438214",
     "status": "completed"
    },
    "tags": []
   },
   "source": [
    "# Final Output"
   ]
  },
  {
   "cell_type": "code",
   "execution_count": 59,
   "id": "96d280a3",
   "metadata": {
    "execution": {
     "iopub.execute_input": "2025-07-23T14:35:58.490884Z",
     "iopub.status.busy": "2025-07-23T14:35:58.490242Z",
     "iopub.status.idle": "2025-07-23T14:35:58.499126Z",
     "shell.execute_reply": "2025-07-23T14:35:58.498046Z"
    },
    "papermill": {
     "duration": 0.035274,
     "end_time": "2025-07-23T14:35:58.501170",
     "exception": false,
     "start_time": "2025-07-23T14:35:58.465896",
     "status": "completed"
    },
    "tags": []
   },
   "outputs": [
    {
     "data": {
      "text/plain": [
       "4"
      ]
     },
     "execution_count": 59,
     "metadata": {},
     "output_type": "execute_result"
    }
   ],
   "source": [
    "sub_universes = universe_analysis.generate_sub_universes()\n",
    "len(sub_universes)"
   ]
  },
  {
   "cell_type": "code",
   "execution_count": 60,
   "id": "92adf7ba",
   "metadata": {
    "execution": {
     "iopub.execute_input": "2025-07-23T14:35:58.561375Z",
     "iopub.status.busy": "2025-07-23T14:35:58.560414Z",
     "iopub.status.idle": "2025-07-23T14:35:58.568041Z",
     "shell.execute_reply": "2025-07-23T14:35:58.566883Z"
    },
    "papermill": {
     "duration": 0.037326,
     "end_time": "2025-07-23T14:35:58.570141",
     "exception": false,
     "start_time": "2025-07-23T14:35:58.532815",
     "status": "completed"
    },
    "tags": []
   },
   "outputs": [],
   "source": [
    "def filter_sub_universe_data(sub_universe, org_test):\n",
    "    # Keep all rows — no filtering\n",
    "    keep_rows_mask = np.ones(org_test.shape[0], dtype=bool)\n",
    "\n",
    "    print(f\"[INFO] Keeping all rows: {keep_rows_mask.sum()} rows retained.\")\n",
    "    return keep_rows_mask"
   ]
  },
  {
   "cell_type": "code",
   "execution_count": 61,
   "id": "4a759155",
   "metadata": {
    "execution": {
     "iopub.execute_input": "2025-07-23T14:35:58.634018Z",
     "iopub.status.busy": "2025-07-23T14:35:58.633506Z",
     "iopub.status.idle": "2025-07-23T14:36:14.135590Z",
     "shell.execute_reply": "2025-07-23T14:36:14.133740Z"
    },
    "papermill": {
     "duration": 15.537911,
     "end_time": "2025-07-23T14:36:14.138695",
     "exception": false,
     "start_time": "2025-07-23T14:35:58.600784",
     "status": "completed"
    },
    "tags": []
   },
   "outputs": [
    {
     "name": "stdout",
     "output_type": "stream",
     "text": [
      "Stopping execution_time clock.\n",
      "[INFO] Keeping all rows: 89710 rows retained.\n"
     ]
    },
    {
     "name": "stdout",
     "output_type": "stream",
     "text": [
      "[INFO] Keeping all rows: 89710 rows retained.\n"
     ]
    },
    {
     "name": "stdout",
     "output_type": "stream",
     "text": [
      "[INFO] Keeping all rows: 89710 rows retained.\n"
     ]
    },
    {
     "name": "stdout",
     "output_type": "stream",
     "text": [
      "[INFO] Keeping all rows: 89710 rows retained.\n"
     ]
    },
    {
     "data": {
      "text/html": [
       "<div>\n",
       "<style scoped>\n",
       "    .dataframe tbody tr th:only-of-type {\n",
       "        vertical-align: middle;\n",
       "    }\n",
       "\n",
       "    .dataframe tbody tr th {\n",
       "        vertical-align: top;\n",
       "    }\n",
       "\n",
       "    .dataframe thead th {\n",
       "        text-align: right;\n",
       "    }\n",
       "</style>\n",
       "<table border=\"1\" class=\"dataframe\">\n",
       "  <thead>\n",
       "    <tr style=\"text-align: right;\">\n",
       "      <th></th>\n",
       "      <th>run_no</th>\n",
       "      <th>universe_id</th>\n",
       "      <th>universe_settings</th>\n",
       "      <th>execution_time</th>\n",
       "      <th>test_size_n</th>\n",
       "      <th>test_size_frac</th>\n",
       "      <th>fair_main_equalized_odds_difference</th>\n",
       "      <th>fair_main_equalized_odds_ratio</th>\n",
       "      <th>fair_main_demographic_parity_difference</th>\n",
       "      <th>fair_main_demographic_parity_ratio</th>\n",
       "      <th>...</th>\n",
       "      <th>perf_grp_precision_0</th>\n",
       "      <th>perf_grp_precision_1</th>\n",
       "      <th>perf_grp_false positive rate_0</th>\n",
       "      <th>perf_grp_false positive rate_1</th>\n",
       "      <th>perf_grp_false negative rate_0</th>\n",
       "      <th>perf_grp_false negative rate_1</th>\n",
       "      <th>perf_grp_selection rate_0</th>\n",
       "      <th>perf_grp_selection rate_1</th>\n",
       "      <th>perf_grp_count_0</th>\n",
       "      <th>perf_grp_count_1</th>\n",
       "    </tr>\n",
       "  </thead>\n",
       "  <tbody>\n",
       "    <tr>\n",
       "      <th>0</th>\n",
       "      <td>9</td>\n",
       "      <td>60eeda26081f16b3f8f6849c5e95d393</td>\n",
       "      <td>{\"cutoff\": \"quantile_0.1\", \"eval_fairness_grou...</td>\n",
       "      <td>19.748032</td>\n",
       "      <td>89710</td>\n",
       "      <td>1.0</td>\n",
       "      <td>0.098975</td>\n",
       "      <td>0.897675</td>\n",
       "      <td>0.090105</td>\n",
       "      <td>0.907058</td>\n",
       "      <td>...</td>\n",
       "      <td>NaN</td>\n",
       "      <td>NaN</td>\n",
       "      <td>NaN</td>\n",
       "      <td>NaN</td>\n",
       "      <td>NaN</td>\n",
       "      <td>NaN</td>\n",
       "      <td>NaN</td>\n",
       "      <td>NaN</td>\n",
       "      <td>NaN</td>\n",
       "      <td>NaN</td>\n",
       "    </tr>\n",
       "    <tr>\n",
       "      <th>0</th>\n",
       "      <td>9</td>\n",
       "      <td>60eeda26081f16b3f8f6849c5e95d393</td>\n",
       "      <td>{\"cutoff\": \"quantile_0.1\", \"eval_fairness_grou...</td>\n",
       "      <td>19.748032</td>\n",
       "      <td>89710</td>\n",
       "      <td>1.0</td>\n",
       "      <td>0.098975</td>\n",
       "      <td>0.897675</td>\n",
       "      <td>0.090105</td>\n",
       "      <td>0.907058</td>\n",
       "      <td>...</td>\n",
       "      <td>0.117310</td>\n",
       "      <td>0.143080</td>\n",
       "      <td>0.967257</td>\n",
       "      <td>0.868283</td>\n",
       "      <td>0.013514</td>\n",
       "      <td>0.047812</td>\n",
       "      <td>0.969474</td>\n",
       "      <td>0.879370</td>\n",
       "      <td>20540.0</td>\n",
       "      <td>69170.0</td>\n",
       "    </tr>\n",
       "    <tr>\n",
       "      <th>0</th>\n",
       "      <td>9</td>\n",
       "      <td>60eeda26081f16b3f8f6849c5e95d393</td>\n",
       "      <td>{\"cutoff\": \"quantile_0.25\", \"eval_fairness_gro...</td>\n",
       "      <td>19.748032</td>\n",
       "      <td>89710</td>\n",
       "      <td>1.0</td>\n",
       "      <td>0.223047</td>\n",
       "      <td>0.752415</td>\n",
       "      <td>0.203895</td>\n",
       "      <td>0.775250</td>\n",
       "      <td>...</td>\n",
       "      <td>NaN</td>\n",
       "      <td>NaN</td>\n",
       "      <td>NaN</td>\n",
       "      <td>NaN</td>\n",
       "      <td>NaN</td>\n",
       "      <td>NaN</td>\n",
       "      <td>NaN</td>\n",
       "      <td>NaN</td>\n",
       "      <td>NaN</td>\n",
       "      <td>NaN</td>\n",
       "    </tr>\n",
       "    <tr>\n",
       "      <th>0</th>\n",
       "      <td>9</td>\n",
       "      <td>60eeda26081f16b3f8f6849c5e95d393</td>\n",
       "      <td>{\"cutoff\": \"quantile_0.25\", \"eval_fairness_gro...</td>\n",
       "      <td>19.748032</td>\n",
       "      <td>89710</td>\n",
       "      <td>1.0</td>\n",
       "      <td>0.223047</td>\n",
       "      <td>0.752415</td>\n",
       "      <td>0.203895</td>\n",
       "      <td>0.775250</td>\n",
       "      <td>...</td>\n",
       "      <td>0.121445</td>\n",
       "      <td>0.163563</td>\n",
       "      <td>0.900891</td>\n",
       "      <td>0.677844</td>\n",
       "      <td>0.044341</td>\n",
       "      <td>0.129431</td>\n",
       "      <td>0.907205</td>\n",
       "      <td>0.703311</td>\n",
       "      <td>20540.0</td>\n",
       "      <td>69170.0</td>\n",
       "    </tr>\n",
       "  </tbody>\n",
       "</table>\n",
       "<p>4 rows × 50 columns</p>\n",
       "</div>"
      ],
      "text/plain": [
       "  run_no                       universe_id  \\\n",
       "0      9  60eeda26081f16b3f8f6849c5e95d393   \n",
       "0      9  60eeda26081f16b3f8f6849c5e95d393   \n",
       "0      9  60eeda26081f16b3f8f6849c5e95d393   \n",
       "0      9  60eeda26081f16b3f8f6849c5e95d393   \n",
       "\n",
       "                                   universe_settings  execution_time  \\\n",
       "0  {\"cutoff\": \"quantile_0.1\", \"eval_fairness_grou...       19.748032   \n",
       "0  {\"cutoff\": \"quantile_0.1\", \"eval_fairness_grou...       19.748032   \n",
       "0  {\"cutoff\": \"quantile_0.25\", \"eval_fairness_gro...       19.748032   \n",
       "0  {\"cutoff\": \"quantile_0.25\", \"eval_fairness_gro...       19.748032   \n",
       "\n",
       "   test_size_n  test_size_frac  fair_main_equalized_odds_difference  \\\n",
       "0        89710             1.0                             0.098975   \n",
       "0        89710             1.0                             0.098975   \n",
       "0        89710             1.0                             0.223047   \n",
       "0        89710             1.0                             0.223047   \n",
       "\n",
       "   fair_main_equalized_odds_ratio  fair_main_demographic_parity_difference  \\\n",
       "0                        0.897675                                 0.090105   \n",
       "0                        0.897675                                 0.090105   \n",
       "0                        0.752415                                 0.203895   \n",
       "0                        0.752415                                 0.203895   \n",
       "\n",
       "   fair_main_demographic_parity_ratio  ...  perf_grp_precision_0  \\\n",
       "0                            0.907058  ...                   NaN   \n",
       "0                            0.907058  ...              0.117310   \n",
       "0                            0.775250  ...                   NaN   \n",
       "0                            0.775250  ...              0.121445   \n",
       "\n",
       "   perf_grp_precision_1  perf_grp_false positive rate_0  \\\n",
       "0                   NaN                             NaN   \n",
       "0              0.143080                        0.967257   \n",
       "0                   NaN                             NaN   \n",
       "0              0.163563                        0.900891   \n",
       "\n",
       "   perf_grp_false positive rate_1  perf_grp_false negative rate_0  \\\n",
       "0                             NaN                             NaN   \n",
       "0                        0.868283                        0.013514   \n",
       "0                             NaN                             NaN   \n",
       "0                        0.677844                        0.044341   \n",
       "\n",
       "   perf_grp_false negative rate_1  perf_grp_selection rate_0  \\\n",
       "0                             NaN                        NaN   \n",
       "0                        0.047812                   0.969474   \n",
       "0                             NaN                        NaN   \n",
       "0                        0.129431                   0.907205   \n",
       "\n",
       "   perf_grp_selection rate_1  perf_grp_count_0  perf_grp_count_1  \n",
       "0                        NaN               NaN               NaN  \n",
       "0                   0.879370           20540.0           69170.0  \n",
       "0                        NaN               NaN               NaN  \n",
       "0                   0.703311           20540.0           69170.0  \n",
       "\n",
       "[4 rows x 50 columns]"
      ]
     },
     "execution_count": 61,
     "metadata": {},
     "output_type": "execute_result"
    }
   ],
   "source": [
    "final_output = universe_analysis.generate_final_output(\n",
    "    y_pred_prob=probs_test,\n",
    "    y_test=y_true,\n",
    "    org_test=org_test,\n",
    "    filter_data=filter_sub_universe_data,\n",
    "    cp_metrics_df=cp_metrics_df,\n",
    "    save=True,\n",
    ")\n",
    "final_output"
   ]
  },
  {
   "cell_type": "code",
   "execution_count": null,
   "id": "721ff514-cb11-46f8-b6fc-50392f74b5cb",
   "metadata": {
    "papermill": {
     "duration": 0.056684,
     "end_time": "2025-07-23T14:36:14.257499",
     "exception": false,
     "start_time": "2025-07-23T14:36:14.200815",
     "status": "completed"
    },
    "tags": []
   },
   "outputs": [],
   "source": []
  }
 ],
 "metadata": {
  "celltoolbar": "Tags",
  "kernelspec": {
   "display_name": "Python (CMA Fairness)",
   "language": "python",
   "name": "cma_fair_env"
  },
  "language_info": {
   "codemirror_mode": {
    "name": "ipython",
    "version": 3
   },
   "file_extension": ".py",
   "mimetype": "text/x-python",
   "name": "python",
   "nbconvert_exporter": "python",
   "pygments_lexer": "ipython3",
   "version": "3.10.12"
  },
  "papermill": {
   "default_parameters": {},
   "duration": 40.173832,
   "end_time": "2025-07-23T14:36:15.346334",
   "environment_variables": {},
   "exception": null,
   "input_path": "universe_analysis.ipynb",
   "output_path": "output/runs/9/notebooks/m_9-60eeda26081f16b3f8f6849c5e95d393.ipynb",
   "parameters": {
    "output_dir": "output",
    "run_no": "9",
    "seed": "2023",
    "universe": "{\"cutoff\": [\"quantile_0.1\", \"quantile_0.25\"], \"eval_fairness_grouping\": [\"majority-minority\", \"nationality-all\"], \"exclude_features\": \"nationality-sex\", \"exclude_subgroups\": \"drop-non-german\", \"model\": \"penalized_logreg\", \"scale\": \"do-not-scale\"}",
    "universe_id": "60eeda26081f16b3f8f6849c5e95d393"
   },
   "start_time": "2025-07-23T14:35:35.172502",
   "version": "2.6.0"
  }
 },
 "nbformat": 4,
 "nbformat_minor": 5
}