{
 "cells": [
  {
   "cell_type": "code",
   "execution_count": 1,
   "id": "f159f837-637b-42ba-96b5-ec9a68c44524",
   "metadata": {
    "execution": {
     "iopub.execute_input": "2025-07-23T14:38:03.203717Z",
     "iopub.status.busy": "2025-07-23T14:38:03.203334Z",
     "iopub.status.idle": "2025-07-23T14:38:03.214669Z",
     "shell.execute_reply": "2025-07-23T14:38:03.213523Z"
    },
    "papermill": {
     "duration": 0.023258,
     "end_time": "2025-07-23T14:38:03.216149",
     "exception": false,
     "start_time": "2025-07-23T14:38:03.192891",
     "status": "completed"
    },
    "tags": []
   },
   "outputs": [
    {
     "name": "stdout",
     "output_type": "stream",
     "text": [
      "/dss/dsshome1/0C/ra93lal2/cma/CMA_Fairness_v2\n"
     ]
    },
    {
     "name": "stderr",
     "output_type": "stream",
     "text": [
      "/dss/dsshome1/0C/ra93lal2/.local/share/virtualenvs/CMA_Fairness_v2-3j10GkSs/lib/python3.10/site-packages/IPython/core/magics/osm.py:393: UserWarning: This is now an optional IPython functionality, using bookmarks requires you to install the `pickleshare` library.\n",
      "  bkms = self.shell.db.get('bookmarks', {})\n",
      "/dss/dsshome1/0C/ra93lal2/.local/share/virtualenvs/CMA_Fairness_v2-3j10GkSs/lib/python3.10/site-packages/IPython/core/magics/osm.py:417: UserWarning: This is now an optional IPython functionality, setting dhist requires you to install the `pickleshare` library.\n",
      "  self.shell.db['dhist'] = compress_dhist(dhist)[-100:]\n"
     ]
    }
   ],
   "source": [
    "%cd ~/cma/CMA_Fairness_v2"
   ]
  },
  {
   "cell_type": "markdown",
   "id": "de2603b9",
   "metadata": {
    "papermill": {
     "duration": 0.00896,
     "end_time": "2025-07-23T14:38:03.234959",
     "exception": false,
     "start_time": "2025-07-23T14:38:03.225999",
     "status": "completed"
    },
    "tags": []
   },
   "source": [
    "The following cell holds the definition of our parameters, these values can be overriden by rendering the with e.g. the following command:\n",
    "\n",
    "papermill -p alpha 0.2 -p ratio 0.3 universe_analysis.ipynb output/test_run.ipynb"
   ]
  },
  {
   "cell_type": "code",
   "execution_count": 2,
   "id": "a80968a0-40bb-4fa9-85ef-2d5eefb01975",
   "metadata": {
    "execution": {
     "iopub.execute_input": "2025-07-23T14:38:03.254862Z",
     "iopub.status.busy": "2025-07-23T14:38:03.254088Z",
     "iopub.status.idle": "2025-07-23T14:38:03.259465Z",
     "shell.execute_reply": "2025-07-23T14:38:03.258645Z"
    },
    "papermill": {
     "duration": 0.016998,
     "end_time": "2025-07-23T14:38:03.261030",
     "exception": false,
     "start_time": "2025-07-23T14:38:03.244032",
     "status": "completed"
    },
    "tags": []
   },
   "outputs": [
    {
     "name": "stdout",
     "output_type": "stream",
     "text": [
      "Current working directory: /dss/dsshome1/0C/ra93lal2/cma/CMA_Fairness_v2\n"
     ]
    }
   ],
   "source": [
    "import os\n",
    "print(\"Current working directory:\", os.getcwd())"
   ]
  },
  {
   "cell_type": "code",
   "execution_count": 3,
   "id": "2dce4c03",
   "metadata": {
    "execution": {
     "iopub.execute_input": "2025-07-23T14:38:03.281875Z",
     "iopub.status.busy": "2025-07-23T14:38:03.281074Z",
     "iopub.status.idle": "2025-07-23T14:38:03.286830Z",
     "shell.execute_reply": "2025-07-23T14:38:03.286090Z"
    },
    "papermill": {
     "duration": 0.017514,
     "end_time": "2025-07-23T14:38:03.288434",
     "exception": false,
     "start_time": "2025-07-23T14:38:03.270920",
     "status": "completed"
    },
    "tags": [
     "parameters"
    ]
   },
   "outputs": [],
   "source": [
    "run_no = 0\n",
    "universe_id = \"test\"\n",
    "universe = {\n",
    "    \"scale\": \"scale\", # \"scale\", \"do-not-scale\",\n",
    "    \"model\": \"elasticnet\", # \"logreg\", \"penalized_logreg\", \"rf\", \"gbm\", \"elasticnet\"\n",
    "    \"cutoff\": [\"quantile_0.15\", \"quantile_0.30\"],\n",
    "    \"exclude_features\": \"age\", # \"none\", \"nationality\", \"sex\", \"nationality-sex\", \"age\"\n",
    "    \"exclude_subgroups\": \"keep-all\", # \"keep-all\", \"drop-non-german\"\n",
    "    #\"training_sample\": \"restricted\", # \"restricted\", \"full\"\n",
    "    \"eval_fairness_grouping\": [\"majority-minority\", \"nationality-all\"]\n",
    "}\n",
    "\n",
    "output_dir=\"./output\"\n",
    "seed=0"
   ]
  },
  {
   "cell_type": "code",
   "execution_count": 4,
   "id": "e5f29ce5",
   "metadata": {
    "execution": {
     "iopub.execute_input": "2025-07-23T14:38:03.308902Z",
     "iopub.status.busy": "2025-07-23T14:38:03.308286Z",
     "iopub.status.idle": "2025-07-23T14:38:03.313223Z",
     "shell.execute_reply": "2025-07-23T14:38:03.312425Z"
    },
    "papermill": {
     "duration": 0.016559,
     "end_time": "2025-07-23T14:38:03.314691",
     "exception": false,
     "start_time": "2025-07-23T14:38:03.298132",
     "status": "completed"
    },
    "tags": [
     "injected-parameters"
    ]
   },
   "outputs": [],
   "source": [
    "# Parameters\n",
    "universe_id = \"3c0844472bc99e5292e40448579d3510\"\n",
    "run_no = \"9\"\n",
    "universe = \"{\\\"cutoff\\\": [\\\"quantile_0.1\\\", \\\"quantile_0.25\\\"], \\\"eval_fairness_grouping\\\": [\\\"majority-minority\\\", \\\"nationality-all\\\"], \\\"exclude_features\\\": \\\"nationality\\\", \\\"exclude_subgroups\\\": \\\"drop-non-german\\\", \\\"model\\\": \\\"gbm\\\", \\\"scale\\\": \\\"do-not-scale\\\"}\"\n",
    "output_dir = \"output\"\n",
    "seed = \"2023\"\n"
   ]
  },
  {
   "cell_type": "code",
   "execution_count": 5,
   "id": "1650acaf",
   "metadata": {
    "execution": {
     "iopub.execute_input": "2025-07-23T14:38:03.334986Z",
     "iopub.status.busy": "2025-07-23T14:38:03.334254Z",
     "iopub.status.idle": "2025-07-23T14:38:03.339046Z",
     "shell.execute_reply": "2025-07-23T14:38:03.338258Z"
    },
    "papermill": {
     "duration": 0.016206,
     "end_time": "2025-07-23T14:38:03.340610",
     "exception": false,
     "start_time": "2025-07-23T14:38:03.324404",
     "status": "completed"
    },
    "tags": []
   },
   "outputs": [],
   "source": [
    "import json\n",
    "# Parse universe into dict if it is passed as a string\n",
    "if isinstance(universe, str):\n",
    "    universe = json.loads(universe)"
   ]
  },
  {
   "cell_type": "code",
   "execution_count": 6,
   "id": "16620c48",
   "metadata": {
    "execution": {
     "iopub.execute_input": "2025-07-23T14:38:03.361789Z",
     "iopub.status.busy": "2025-07-23T14:38:03.361034Z",
     "iopub.status.idle": "2025-07-23T14:38:03.400662Z",
     "shell.execute_reply": "2025-07-23T14:38:03.399536Z"
    },
    "papermill": {
     "duration": 0.052489,
     "end_time": "2025-07-23T14:38:03.402844",
     "exception": false,
     "start_time": "2025-07-23T14:38:03.350355",
     "status": "completed"
    },
    "tags": []
   },
   "outputs": [],
   "source": [
    "# Auto-reload the custom package\n",
    "%load_ext autoreload\n",
    "%autoreload 1\n",
    "%aimport fairness_multiverse"
   ]
  },
  {
   "cell_type": "code",
   "execution_count": 7,
   "id": "01c5c9f3",
   "metadata": {
    "execution": {
     "iopub.execute_input": "2025-07-23T14:38:03.442109Z",
     "iopub.status.busy": "2025-07-23T14:38:03.441731Z",
     "iopub.status.idle": "2025-07-23T14:38:05.638488Z",
     "shell.execute_reply": "2025-07-23T14:38:05.637351Z"
    },
    "papermill": {
     "duration": 2.218385,
     "end_time": "2025-07-23T14:38:05.640550",
     "exception": false,
     "start_time": "2025-07-23T14:38:03.422165",
     "status": "completed"
    },
    "tags": []
   },
   "outputs": [],
   "source": [
    "from fairness_multiverse.universe import UniverseAnalysis\n",
    "\n",
    "universe_analysis = UniverseAnalysis(\n",
    "    run_no = run_no,\n",
    "    universe_id = universe_id,\n",
    "    universe = universe,\n",
    "    output_dir=output_dir,\n",
    ")"
   ]
  },
  {
   "cell_type": "code",
   "execution_count": 8,
   "id": "106241f5",
   "metadata": {
    "execution": {
     "iopub.execute_input": "2025-07-23T14:38:05.677130Z",
     "iopub.status.busy": "2025-07-23T14:38:05.676150Z",
     "iopub.status.idle": "2025-07-23T14:38:05.683194Z",
     "shell.execute_reply": "2025-07-23T14:38:05.682137Z"
    },
    "papermill": {
     "duration": 0.027076,
     "end_time": "2025-07-23T14:38:05.685180",
     "exception": false,
     "start_time": "2025-07-23T14:38:05.658104",
     "status": "completed"
    },
    "tags": []
   },
   "outputs": [
    {
     "name": "stdout",
     "output_type": "stream",
     "text": [
      "Using Seed: 2023\n"
     ]
    }
   ],
   "source": [
    "import numpy as np\n",
    "parsed_seed = int(seed)\n",
    "np.random.seed(parsed_seed)\n",
    "print(f\"Using Seed: {parsed_seed}\")"
   ]
  },
  {
   "cell_type": "markdown",
   "id": "e0ebdc57",
   "metadata": {
    "papermill": {
     "duration": 0.011375,
     "end_time": "2025-07-23T14:38:05.711079",
     "exception": false,
     "start_time": "2025-07-23T14:38:05.699704",
     "status": "completed"
    },
    "tags": []
   },
   "source": [
    "# Loading Data"
   ]
  },
  {
   "cell_type": "markdown",
   "id": "681925a3",
   "metadata": {
    "papermill": {
     "duration": 0.018935,
     "end_time": "2025-07-23T14:38:05.740436",
     "exception": false,
     "start_time": "2025-07-23T14:38:05.721501",
     "status": "completed"
    },
    "tags": []
   },
   "source": [
    "Load siab_train, siab_test, siab_calib and/or \n",
    "load siab_train_features, siab_train_labels"
   ]
  },
  {
   "cell_type": "code",
   "execution_count": 9,
   "id": "f0496b8a",
   "metadata": {
    "execution": {
     "iopub.execute_input": "2025-07-23T14:38:05.778222Z",
     "iopub.status.busy": "2025-07-23T14:38:05.777788Z",
     "iopub.status.idle": "2025-07-23T14:38:05.783400Z",
     "shell.execute_reply": "2025-07-23T14:38:05.782427Z"
    },
    "papermill": {
     "duration": 0.026031,
     "end_time": "2025-07-23T14:38:05.784874",
     "exception": false,
     "start_time": "2025-07-23T14:38:05.758843",
     "status": "completed"
    },
    "tags": []
   },
   "outputs": [],
   "source": [
    "# Do I need to load siab? Delete this cell?\n",
    "\n",
    "#from pathlib import Path\n",
    "#import pandas as pd\n",
    "#\n",
    "## File paths\n",
    "#raw_file = Path(\"data/raw/siab.csv\")\n",
    "#cache_file = Path(\"data/siab_cached.csv.gz\")\n",
    "#\n",
    "## Ensure cache directory exists\n",
    "#cache_file.parent.mkdir(parents=True, exist_ok=True)\n",
    "#\n",
    "## Load with simple caching\n",
    "#if cache_file.exists():\n",
    "#    print(f\"Loading SIAB data from cache: {cache_file}\")\n",
    "#    siab = pd.read_csv(cache_file, compression='gzip')\n",
    "#else:\n",
    "#    print(f\"Cache not found. Reading raw SIAB data: {raw_file}\")\n",
    "#    siab = pd.read_csv(raw_file)\n",
    "#    siab.to_csv(cache_file, index=False, compression='gzip')\n",
    "#    print(f\"Cached SIAB data to: {cache_file}\")\n",
    "#\n",
    "## Now use `siab` DataFrame as needed\n",
    "#print(siab.shape)\n"
   ]
  },
  {
   "cell_type": "code",
   "execution_count": 10,
   "id": "a0edb063",
   "metadata": {
    "execution": {
     "iopub.execute_input": "2025-07-23T14:38:05.806077Z",
     "iopub.status.busy": "2025-07-23T14:38:05.805544Z",
     "iopub.status.idle": "2025-07-23T14:38:06.641003Z",
     "shell.execute_reply": "2025-07-23T14:38:06.640193Z"
    },
    "papermill": {
     "duration": 0.847673,
     "end_time": "2025-07-23T14:38:06.642555",
     "exception": false,
     "start_time": "2025-07-23T14:38:05.794882",
     "status": "completed"
    },
    "tags": []
   },
   "outputs": [],
   "source": [
    "import pandas as pd\n",
    "\n",
    "X_train = pd.read_csv(\"./data/X_train.csv\")\n",
    "y_train = pd.read_csv(\"./data/y_train.csv\")"
   ]
  },
  {
   "cell_type": "code",
   "execution_count": 11,
   "id": "63d08085",
   "metadata": {
    "execution": {
     "iopub.execute_input": "2025-07-23T14:38:06.663295Z",
     "iopub.status.busy": "2025-07-23T14:38:06.663000Z",
     "iopub.status.idle": "2025-07-23T14:38:07.629571Z",
     "shell.execute_reply": "2025-07-23T14:38:07.628796Z"
    },
    "papermill": {
     "duration": 0.978851,
     "end_time": "2025-07-23T14:38:07.631189",
     "exception": false,
     "start_time": "2025-07-23T14:38:06.652338",
     "status": "completed"
    },
    "tags": []
   },
   "outputs": [],
   "source": [
    "X_test = pd.read_csv(\"./data/X_test.csv\")\n",
    "y_true = pd.read_csv(\"./data/y_test.csv\")"
   ]
  },
  {
   "cell_type": "code",
   "execution_count": 12,
   "id": "98a8d0fa-1d3d-4ed8-bb2c-281470e24add",
   "metadata": {
    "execution": {
     "iopub.execute_input": "2025-07-23T14:38:07.651692Z",
     "iopub.status.busy": "2025-07-23T14:38:07.651352Z",
     "iopub.status.idle": "2025-07-23T14:38:08.565665Z",
     "shell.execute_reply": "2025-07-23T14:38:08.564844Z"
    },
    "papermill": {
     "duration": 0.925967,
     "end_time": "2025-07-23T14:38:08.567266",
     "exception": false,
     "start_time": "2025-07-23T14:38:07.641299",
     "status": "completed"
    },
    "tags": []
   },
   "outputs": [],
   "source": [
    "# Calibration data for conformal\n",
    "X_calib = pd.read_csv(\"./data/X_calib.csv\")\n",
    "y_calib = pd.read_csv(\"./data/y_calib.csv\")"
   ]
  },
  {
   "cell_type": "code",
   "execution_count": 13,
   "id": "e6c733c5",
   "metadata": {
    "execution": {
     "iopub.execute_input": "2025-07-23T14:38:08.587502Z",
     "iopub.status.busy": "2025-07-23T14:38:08.587113Z",
     "iopub.status.idle": "2025-07-23T14:38:08.685180Z",
     "shell.execute_reply": "2025-07-23T14:38:08.684371Z"
    },
    "papermill": {
     "duration": 0.109729,
     "end_time": "2025-07-23T14:38:08.686724",
     "exception": false,
     "start_time": "2025-07-23T14:38:08.576995",
     "status": "completed"
    },
    "tags": []
   },
   "outputs": [],
   "source": [
    "# Auxiliary data needed downstream in the pipeline\n",
    "\n",
    "org_train = X_train.copy()\n",
    "org_test = X_test.copy()\n",
    "org_calib = X_calib.copy()"
   ]
  },
  {
   "cell_type": "markdown",
   "id": "0a4a1b33",
   "metadata": {
    "papermill": {
     "duration": 0.009205,
     "end_time": "2025-07-23T14:38:08.705814",
     "exception": false,
     "start_time": "2025-07-23T14:38:08.696609",
     "status": "completed"
    },
    "tags": []
   },
   "source": [
    "# Preprocessing Data"
   ]
  },
  {
   "cell_type": "code",
   "execution_count": 14,
   "id": "ca879031",
   "metadata": {
    "execution": {
     "iopub.execute_input": "2025-07-23T14:38:08.726423Z",
     "iopub.status.busy": "2025-07-23T14:38:08.725990Z",
     "iopub.status.idle": "2025-07-23T14:38:08.731096Z",
     "shell.execute_reply": "2025-07-23T14:38:08.730253Z"
    },
    "papermill": {
     "duration": 0.017582,
     "end_time": "2025-07-23T14:38:08.732581",
     "exception": false,
     "start_time": "2025-07-23T14:38:08.714999",
     "status": "completed"
    },
    "tags": []
   },
   "outputs": [],
   "source": [
    "# EXCLUDE PROTECTED FEATURES\n",
    "# ----------------------\n",
    "# \"exclude_features\": \"none\", # \"nationality\", \"sex\", \"nationality-sex\"\n",
    "\n",
    "excluded_features = universe[\"exclude_features\"].split(\"-\") # split, e.g.: \"nationality-sex\" -> [\"nationality\", \"sex\"]\n",
    "excluded_features_dictionary = {\n",
    "    \"nationality\": [\"maxdeutsch1\", \"maxdeutsch.Missing.\"],\n",
    "    \"sex\": [\"frau1\"],\n",
    "    \"age\": [\"age\"],\n",
    "}\n"
   ]
  },
  {
   "cell_type": "code",
   "execution_count": 15,
   "id": "b745ac60",
   "metadata": {
    "execution": {
     "iopub.execute_input": "2025-07-23T14:38:08.753585Z",
     "iopub.status.busy": "2025-07-23T14:38:08.753073Z",
     "iopub.status.idle": "2025-07-23T14:38:08.758022Z",
     "shell.execute_reply": "2025-07-23T14:38:08.757221Z"
    },
    "papermill": {
     "duration": 0.016621,
     "end_time": "2025-07-23T14:38:08.759385",
     "exception": false,
     "start_time": "2025-07-23T14:38:08.742764",
     "status": "completed"
    },
    "tags": []
   },
   "outputs": [],
   "source": [
    "# Code nice names to column names\n",
    "\n",
    "excluded_features_columns = [\n",
    "    excluded_features_dictionary[f] for f in excluded_features if len(f) > 0 and f != \"none\"\n",
    "]"
   ]
  },
  {
   "cell_type": "code",
   "execution_count": 16,
   "id": "f84f73a2",
   "metadata": {
    "execution": {
     "iopub.execute_input": "2025-07-23T14:38:08.781398Z",
     "iopub.status.busy": "2025-07-23T14:38:08.780711Z",
     "iopub.status.idle": "2025-07-23T14:38:08.786665Z",
     "shell.execute_reply": "2025-07-23T14:38:08.785762Z"
    },
    "papermill": {
     "duration": 0.018333,
     "end_time": "2025-07-23T14:38:08.788089",
     "exception": false,
     "start_time": "2025-07-23T14:38:08.769756",
     "status": "completed"
    },
    "tags": []
   },
   "outputs": [],
   "source": [
    "from utils import flatten_once\n",
    "\n",
    "excluded_features_columns = flatten_once(excluded_features_columns)"
   ]
  },
  {
   "cell_type": "code",
   "execution_count": 17,
   "id": "884dea22",
   "metadata": {
    "execution": {
     "iopub.execute_input": "2025-07-23T14:38:08.813281Z",
     "iopub.status.busy": "2025-07-23T14:38:08.812737Z",
     "iopub.status.idle": "2025-07-23T14:38:08.856705Z",
     "shell.execute_reply": "2025-07-23T14:38:08.855727Z"
    },
    "papermill": {
     "duration": 0.057146,
     "end_time": "2025-07-23T14:38:08.858335",
     "exception": false,
     "start_time": "2025-07-23T14:38:08.801189",
     "status": "completed"
    },
    "tags": []
   },
   "outputs": [
    {
     "name": "stdout",
     "output_type": "stream",
     "text": [
      "Dropping features: ['maxdeutsch1', 'maxdeutsch.Missing.']\n"
     ]
    }
   ],
   "source": [
    "if len(excluded_features_columns) > 0:\n",
    "    print(f\"Dropping features: {excluded_features_columns}\")\n",
    "    X_train.drop(excluded_features_columns, axis=1, inplace=True)"
   ]
  },
  {
   "cell_type": "code",
   "execution_count": 18,
   "id": "95ab8b16",
   "metadata": {
    "execution": {
     "iopub.execute_input": "2025-07-23T14:38:08.879796Z",
     "iopub.status.busy": "2025-07-23T14:38:08.879009Z",
     "iopub.status.idle": "2025-07-23T14:38:08.929325Z",
     "shell.execute_reply": "2025-07-23T14:38:08.928419Z"
    },
    "papermill": {
     "duration": 0.062283,
     "end_time": "2025-07-23T14:38:08.930834",
     "exception": false,
     "start_time": "2025-07-23T14:38:08.868551",
     "status": "completed"
    },
    "tags": []
   },
   "outputs": [
    {
     "name": "stdout",
     "output_type": "stream",
     "text": [
      "Dropping features: ['maxdeutsch1', 'maxdeutsch.Missing.']\n"
     ]
    }
   ],
   "source": [
    "if len(excluded_features_columns) > 0:\n",
    "    print(f\"Dropping features: {excluded_features_columns}\")\n",
    "    X_test.drop(excluded_features_columns, axis=1, inplace=True)"
   ]
  },
  {
   "cell_type": "code",
   "execution_count": 19,
   "id": "1853aaf5-fb9f-46cb-a2b5-8ea4ae2237e4",
   "metadata": {
    "execution": {
     "iopub.execute_input": "2025-07-23T14:38:08.952657Z",
     "iopub.status.busy": "2025-07-23T14:38:08.951823Z",
     "iopub.status.idle": "2025-07-23T14:38:09.002790Z",
     "shell.execute_reply": "2025-07-23T14:38:09.001764Z"
    },
    "papermill": {
     "duration": 0.062906,
     "end_time": "2025-07-23T14:38:09.004217",
     "exception": false,
     "start_time": "2025-07-23T14:38:08.941311",
     "status": "completed"
    },
    "tags": []
   },
   "outputs": [
    {
     "name": "stdout",
     "output_type": "stream",
     "text": [
      "Dropping features: ['maxdeutsch1', 'maxdeutsch.Missing.']\n"
     ]
    }
   ],
   "source": [
    "if len(excluded_features_columns) > 0:\n",
    "    print(f\"Dropping features: {excluded_features_columns}\")\n",
    "    X_calib.drop(excluded_features_columns, axis=1, inplace=True)"
   ]
  },
  {
   "cell_type": "code",
   "execution_count": 20,
   "id": "76c4dc6d",
   "metadata": {
    "execution": {
     "iopub.execute_input": "2025-07-23T14:38:09.028777Z",
     "iopub.status.busy": "2025-07-23T14:38:09.026390Z",
     "iopub.status.idle": "2025-07-23T14:38:09.034748Z",
     "shell.execute_reply": "2025-07-23T14:38:09.033630Z"
    },
    "papermill": {
     "duration": 0.021652,
     "end_time": "2025-07-23T14:38:09.036611",
     "exception": false,
     "start_time": "2025-07-23T14:38:09.014959",
     "status": "completed"
    },
    "tags": []
   },
   "outputs": [],
   "source": [
    "# EXCLUDE CERTAIN SUBGROUPS\n",
    "# ----------------------\n",
    "\n",
    "mode = universe.get(\"exclude_subgroups\", \"keep-all\") \n",
    "# Fetches the exclude_subgroups setting from the universe dict.\n",
    "# Defaults to \"keep-all\" if the key is missing."
   ]
  },
  {
   "cell_type": "code",
   "execution_count": 21,
   "id": "21994072",
   "metadata": {
    "execution": {
     "iopub.execute_input": "2025-07-23T14:38:09.076586Z",
     "iopub.status.busy": "2025-07-23T14:38:09.076076Z",
     "iopub.status.idle": "2025-07-23T14:38:09.083698Z",
     "shell.execute_reply": "2025-07-23T14:38:09.082679Z"
    },
    "papermill": {
     "duration": 0.030299,
     "end_time": "2025-07-23T14:38:09.085516",
     "exception": false,
     "start_time": "2025-07-23T14:38:09.055217",
     "status": "completed"
    },
    "tags": []
   },
   "outputs": [],
   "source": [
    "if mode == \"keep-all\":\n",
    "    keep_mask = pd.Series(True, index=org_train.index)\n",
    "\n",
    "# org_train contains the original feature columns from features_org (in Simson)\n",
    "# features_org contains unprocessed features, for me X_train at beginning ???\n",
    "# For keep-all, creates a boolean Series (keep_mask) of all True, so no rows are removed.\n",
    "\n",
    "elif mode == \"drop-non-german\":\n",
    "    keep_mask = org_train[\"maxdeutsch1\"] == 1 # ??? what about missing values?\n",
    "\n",
    "else:\n",
    "    raise ValueError(f\"Unsupported mode for exclude_subgroups: {mode}\")\n"
   ]
  },
  {
   "cell_type": "code",
   "execution_count": 22,
   "id": "71651440",
   "metadata": {
    "execution": {
     "iopub.execute_input": "2025-07-23T14:38:09.127847Z",
     "iopub.status.busy": "2025-07-23T14:38:09.127122Z",
     "iopub.status.idle": "2025-07-23T14:38:09.135344Z",
     "shell.execute_reply": "2025-07-23T14:38:09.134174Z"
    },
    "papermill": {
     "duration": 0.03127,
     "end_time": "2025-07-23T14:38:09.137125",
     "exception": false,
     "start_time": "2025-07-23T14:38:09.105855",
     "status": "completed"
    },
    "tags": []
   },
   "outputs": [
    {
     "name": "stdout",
     "output_type": "stream",
     "text": [
      "Dropping 10036 rows (13.38%) where mode='drop-non-german'\n"
     ]
    }
   ],
   "source": [
    "n_drop = (~keep_mask).sum() # Calculates how many rows are set to be dropped\n",
    "if n_drop > 0:\n",
    "    pct = n_drop / len(keep_mask) * 100\n",
    "    print(f\"Dropping {n_drop} rows ({pct:.2f}%) where mode='{mode}'\")"
   ]
  },
  {
   "cell_type": "code",
   "execution_count": 23,
   "id": "5fb8eee5",
   "metadata": {
    "execution": {
     "iopub.execute_input": "2025-07-23T14:38:09.175710Z",
     "iopub.status.busy": "2025-07-23T14:38:09.174892Z",
     "iopub.status.idle": "2025-07-23T14:38:09.236083Z",
     "shell.execute_reply": "2025-07-23T14:38:09.234971Z"
    },
    "papermill": {
     "duration": 0.081553,
     "end_time": "2025-07-23T14:38:09.237875",
     "exception": false,
     "start_time": "2025-07-23T14:38:09.156322",
     "status": "completed"
    },
    "tags": []
   },
   "outputs": [],
   "source": [
    "X_train = X_train[keep_mask]"
   ]
  },
  {
   "cell_type": "code",
   "execution_count": 24,
   "id": "b202bb3a",
   "metadata": {
    "execution": {
     "iopub.execute_input": "2025-07-23T14:38:09.277895Z",
     "iopub.status.busy": "2025-07-23T14:38:09.277391Z",
     "iopub.status.idle": "2025-07-23T14:38:09.285888Z",
     "shell.execute_reply": "2025-07-23T14:38:09.284808Z"
    },
    "papermill": {
     "duration": 0.03123,
     "end_time": "2025-07-23T14:38:09.287735",
     "exception": false,
     "start_time": "2025-07-23T14:38:09.256505",
     "status": "completed"
    },
    "tags": []
   },
   "outputs": [],
   "source": [
    "y_train = y_train[keep_mask]"
   ]
  },
  {
   "cell_type": "markdown",
   "id": "493e2ac3",
   "metadata": {
    "papermill": {
     "duration": 0.019447,
     "end_time": "2025-07-23T14:38:09.326921",
     "exception": false,
     "start_time": "2025-07-23T14:38:09.307474",
     "status": "completed"
    },
    "tags": []
   },
   "source": [
    "# Model Training"
   ]
  },
  {
   "cell_type": "code",
   "execution_count": 25,
   "id": "679e1268",
   "metadata": {
    "execution": {
     "iopub.execute_input": "2025-07-23T14:38:09.368142Z",
     "iopub.status.busy": "2025-07-23T14:38:09.367413Z",
     "iopub.status.idle": "2025-07-23T14:38:09.568751Z",
     "shell.execute_reply": "2025-07-23T14:38:09.567476Z"
    },
    "papermill": {
     "duration": 0.224558,
     "end_time": "2025-07-23T14:38:09.571162",
     "exception": false,
     "start_time": "2025-07-23T14:38:09.346604",
     "status": "completed"
    },
    "tags": []
   },
   "outputs": [],
   "source": [
    "from sklearn.linear_model import LogisticRegression\n",
    "from sklearn.ensemble import GradientBoostingClassifier, RandomForestClassifier\n",
    "\n",
    "if (universe[\"model\"] == \"logreg\"):\n",
    "    model = LogisticRegression() #penalty=\"none\") #, solver=\"newton-cg\", max_iter=1) # include random_state=19 ?\n",
    "elif (universe[\"model\"] == \"penalized_logreg\"):\n",
    "    model = LogisticRegression(penalty=\"l2\", C=1.0) #, solver=\"newton-cg\", max_iter=1)\n",
    "elif (universe[\"model\"] == \"rf\"):\n",
    "    model = RandomForestClassifier(n_estimators=100, n_jobs=-1)\n",
    "elif (universe[\"model\"] == \"gbm\"):\n",
    "    model = GradientBoostingClassifier()\n",
    "elif (universe[\"model\"] == \"elasticnet\"):\n",
    "    model = LogisticRegression(penalty = 'elasticnet', solver = 'saga', l1_ratio = 0.5, max_iter=5000) # which solver to use?\n",
    "else:\n",
    "    raise \"Unsupported universe.model\""
   ]
  },
  {
   "cell_type": "code",
   "execution_count": 26,
   "id": "0cc8f744",
   "metadata": {
    "execution": {
     "iopub.execute_input": "2025-07-23T14:38:09.618641Z",
     "iopub.status.busy": "2025-07-23T14:38:09.617891Z",
     "iopub.status.idle": "2025-07-23T14:38:09.625282Z",
     "shell.execute_reply": "2025-07-23T14:38:09.624188Z"
    },
    "papermill": {
     "duration": 0.0335,
     "end_time": "2025-07-23T14:38:09.627143",
     "exception": false,
     "start_time": "2025-07-23T14:38:09.593643",
     "status": "completed"
    },
    "tags": []
   },
   "outputs": [],
   "source": [
    "import numpy as np\n",
    "from sklearn.pipeline import Pipeline\n",
    "from sklearn.preprocessing import StandardScaler\n",
    "\n",
    "model = Pipeline([\n",
    "    #(\"continuous_processor\", continuous_processor),\n",
    "    #(\"categorical_preprocessor\", categorical_preprocessor),\n",
    "    (\"scale\", StandardScaler() if universe[\"scale\"] == \"scale\" else None), \n",
    "    (\"model\", model),\n",
    "])"
   ]
  },
  {
   "cell_type": "code",
   "execution_count": 27,
   "id": "9442c04d",
   "metadata": {
    "execution": {
     "iopub.execute_input": "2025-07-23T14:38:09.671293Z",
     "iopub.status.busy": "2025-07-23T14:38:09.670342Z",
     "iopub.status.idle": "2025-07-23T14:39:36.388316Z",
     "shell.execute_reply": "2025-07-23T14:39:36.387005Z"
    },
    "papermill": {
     "duration": 86.766898,
     "end_time": "2025-07-23T14:39:36.415525",
     "exception": false,
     "start_time": "2025-07-23T14:38:09.648627",
     "status": "completed"
    },
    "tags": []
   },
   "outputs": [
    {
     "data": {
      "text/html": [
       "<style>#sk-container-id-1 {color: black;background-color: white;}#sk-container-id-1 pre{padding: 0;}#sk-container-id-1 div.sk-toggleable {background-color: white;}#sk-container-id-1 label.sk-toggleable__label {cursor: pointer;display: block;width: 100%;margin-bottom: 0;padding: 0.3em;box-sizing: border-box;text-align: center;}#sk-container-id-1 label.sk-toggleable__label-arrow:before {content: \"▸\";float: left;margin-right: 0.25em;color: #696969;}#sk-container-id-1 label.sk-toggleable__label-arrow:hover:before {color: black;}#sk-container-id-1 div.sk-estimator:hover label.sk-toggleable__label-arrow:before {color: black;}#sk-container-id-1 div.sk-toggleable__content {max-height: 0;max-width: 0;overflow: hidden;text-align: left;background-color: #f0f8ff;}#sk-container-id-1 div.sk-toggleable__content pre {margin: 0.2em;color: black;border-radius: 0.25em;background-color: #f0f8ff;}#sk-container-id-1 input.sk-toggleable__control:checked~div.sk-toggleable__content {max-height: 200px;max-width: 100%;overflow: auto;}#sk-container-id-1 input.sk-toggleable__control:checked~label.sk-toggleable__label-arrow:before {content: \"▾\";}#sk-container-id-1 div.sk-estimator input.sk-toggleable__control:checked~label.sk-toggleable__label {background-color: #d4ebff;}#sk-container-id-1 div.sk-label input.sk-toggleable__control:checked~label.sk-toggleable__label {background-color: #d4ebff;}#sk-container-id-1 input.sk-hidden--visually {border: 0;clip: rect(1px 1px 1px 1px);clip: rect(1px, 1px, 1px, 1px);height: 1px;margin: -1px;overflow: hidden;padding: 0;position: absolute;width: 1px;}#sk-container-id-1 div.sk-estimator {font-family: monospace;background-color: #f0f8ff;border: 1px dotted black;border-radius: 0.25em;box-sizing: border-box;margin-bottom: 0.5em;}#sk-container-id-1 div.sk-estimator:hover {background-color: #d4ebff;}#sk-container-id-1 div.sk-parallel-item::after {content: \"\";width: 100%;border-bottom: 1px solid gray;flex-grow: 1;}#sk-container-id-1 div.sk-label:hover label.sk-toggleable__label {background-color: #d4ebff;}#sk-container-id-1 div.sk-serial::before {content: \"\";position: absolute;border-left: 1px solid gray;box-sizing: border-box;top: 0;bottom: 0;left: 50%;z-index: 0;}#sk-container-id-1 div.sk-serial {display: flex;flex-direction: column;align-items: center;background-color: white;padding-right: 0.2em;padding-left: 0.2em;position: relative;}#sk-container-id-1 div.sk-item {position: relative;z-index: 1;}#sk-container-id-1 div.sk-parallel {display: flex;align-items: stretch;justify-content: center;background-color: white;position: relative;}#sk-container-id-1 div.sk-item::before, #sk-container-id-1 div.sk-parallel-item::before {content: \"\";position: absolute;border-left: 1px solid gray;box-sizing: border-box;top: 0;bottom: 0;left: 50%;z-index: -1;}#sk-container-id-1 div.sk-parallel-item {display: flex;flex-direction: column;z-index: 1;position: relative;background-color: white;}#sk-container-id-1 div.sk-parallel-item:first-child::after {align-self: flex-end;width: 50%;}#sk-container-id-1 div.sk-parallel-item:last-child::after {align-self: flex-start;width: 50%;}#sk-container-id-1 div.sk-parallel-item:only-child::after {width: 0;}#sk-container-id-1 div.sk-dashed-wrapped {border: 1px dashed gray;margin: 0 0.4em 0.5em 0.4em;box-sizing: border-box;padding-bottom: 0.4em;background-color: white;}#sk-container-id-1 div.sk-label label {font-family: monospace;font-weight: bold;display: inline-block;line-height: 1.2em;}#sk-container-id-1 div.sk-label-container {text-align: center;}#sk-container-id-1 div.sk-container {/* jupyter's `normalize.less` sets `[hidden] { display: none; }` but bootstrap.min.css set `[hidden] { display: none !important; }` so we also need the `!important` here to be able to override the default hidden behavior on the sphinx rendered scikit-learn.org. See: https://github.com/scikit-learn/scikit-learn/issues/21755 */display: inline-block !important;position: relative;}#sk-container-id-1 div.sk-text-repr-fallback {display: none;}</style><div id=\"sk-container-id-1\" class=\"sk-top-container\"><div class=\"sk-text-repr-fallback\"><pre>Pipeline(steps=[(&#x27;scale&#x27;, None), (&#x27;model&#x27;, GradientBoostingClassifier())])</pre><b>In a Jupyter environment, please rerun this cell to show the HTML representation or trust the notebook. <br />On GitHub, the HTML representation is unable to render, please try loading this page with nbviewer.org.</b></div><div class=\"sk-container\" hidden><div class=\"sk-item sk-dashed-wrapped\"><div class=\"sk-label-container\"><div class=\"sk-label sk-toggleable\"><input class=\"sk-toggleable__control sk-hidden--visually\" id=\"sk-estimator-id-1\" type=\"checkbox\" ><label for=\"sk-estimator-id-1\" class=\"sk-toggleable__label sk-toggleable__label-arrow\">Pipeline</label><div class=\"sk-toggleable__content\"><pre>Pipeline(steps=[(&#x27;scale&#x27;, None), (&#x27;model&#x27;, GradientBoostingClassifier())])</pre></div></div></div><div class=\"sk-serial\"><div class=\"sk-item\"><div class=\"sk-estimator sk-toggleable\"><input class=\"sk-toggleable__control sk-hidden--visually\" id=\"sk-estimator-id-2\" type=\"checkbox\" ><label for=\"sk-estimator-id-2\" class=\"sk-toggleable__label sk-toggleable__label-arrow\">None</label><div class=\"sk-toggleable__content\"><pre>None</pre></div></div></div><div class=\"sk-item\"><div class=\"sk-estimator sk-toggleable\"><input class=\"sk-toggleable__control sk-hidden--visually\" id=\"sk-estimator-id-3\" type=\"checkbox\" ><label for=\"sk-estimator-id-3\" class=\"sk-toggleable__label sk-toggleable__label-arrow\">GradientBoostingClassifier</label><div class=\"sk-toggleable__content\"><pre>GradientBoostingClassifier()</pre></div></div></div></div></div></div></div>"
      ],
      "text/plain": [
       "Pipeline(steps=[('scale', None), ('model', GradientBoostingClassifier())])"
      ]
     },
     "execution_count": 27,
     "metadata": {},
     "output_type": "execute_result"
    }
   ],
   "source": [
    "model.fit(X_train, y_train.values.ravel())"
   ]
  },
  {
   "cell_type": "code",
   "execution_count": 28,
   "id": "af59f8c0",
   "metadata": {
    "execution": {
     "iopub.execute_input": "2025-07-23T14:39:36.458565Z",
     "iopub.status.busy": "2025-07-23T14:39:36.457738Z",
     "iopub.status.idle": "2025-07-23T14:39:36.465018Z",
     "shell.execute_reply": "2025-07-23T14:39:36.463836Z"
    },
    "papermill": {
     "duration": 0.031178,
     "end_time": "2025-07-23T14:39:36.467173",
     "exception": false,
     "start_time": "2025-07-23T14:39:36.435995",
     "status": "completed"
    },
    "tags": []
   },
   "outputs": [],
   "source": [
    "from fairness_multiverse.universe import predict_w_threshold"
   ]
  },
  {
   "cell_type": "code",
   "execution_count": 29,
   "id": "a7cf2e16",
   "metadata": {
    "execution": {
     "iopub.execute_input": "2025-07-23T14:39:36.511155Z",
     "iopub.status.busy": "2025-07-23T14:39:36.510535Z",
     "iopub.status.idle": "2025-07-23T14:39:37.278409Z",
     "shell.execute_reply": "2025-07-23T14:39:37.277311Z"
    },
    "papermill": {
     "duration": 0.792116,
     "end_time": "2025-07-23T14:39:37.280190",
     "exception": false,
     "start_time": "2025-07-23T14:39:36.488074",
     "status": "completed"
    },
    "tags": []
   },
   "outputs": [
    {
     "data": {
      "text/plain": [
       "0.8712406643629472"
      ]
     },
     "execution_count": 29,
     "metadata": {},
     "output_type": "execute_result"
    }
   ],
   "source": [
    "probs_test = model.predict_proba(X_test)\n",
    "\n",
    "'''\n",
    "Below code returns a boolean array (or binary 0/1 array depending on how it’s used) where each element \n",
    "is True if the probability of class 1 is greater than or equal to the threshold, and False otherwise.\n",
    "'''\n",
    "y_pred_default = predict_w_threshold(probs_test, 0.5)\n",
    "\n",
    "from sklearn.metrics import accuracy_score\n",
    "\n",
    "# Naive prediction\n",
    "accuracy_score(y_true = y_true, y_pred = y_pred_default)"
   ]
  },
  {
   "cell_type": "code",
   "execution_count": 30,
   "id": "081964c3",
   "metadata": {
    "execution": {
     "iopub.execute_input": "2025-07-23T14:39:37.327024Z",
     "iopub.status.busy": "2025-07-23T14:39:37.326501Z",
     "iopub.status.idle": "2025-07-23T14:39:37.826269Z",
     "shell.execute_reply": "2025-07-23T14:39:37.825508Z"
    },
    "papermill": {
     "duration": 0.523605,
     "end_time": "2025-07-23T14:39:37.827618",
     "exception": false,
     "start_time": "2025-07-23T14:39:37.304013",
     "status": "completed"
    },
    "tags": []
   },
   "outputs": [
    {
     "data": {
      "text/plain": [
       "array([0, 0, 0, ..., 0, 0, 0])"
      ]
     },
     "execution_count": 30,
     "metadata": {},
     "output_type": "execute_result"
    }
   ],
   "source": [
    "model.predict(X_test)"
   ]
  },
  {
   "cell_type": "markdown",
   "id": "56c9705b",
   "metadata": {
    "papermill": {
     "duration": 0.011121,
     "end_time": "2025-07-23T14:39:37.849891",
     "exception": false,
     "start_time": "2025-07-23T14:39:37.838770",
     "status": "completed"
    },
    "tags": []
   },
   "source": [
    "# Conformal Prediction"
   ]
  },
  {
   "cell_type": "code",
   "execution_count": 31,
   "id": "160ec6ff",
   "metadata": {
    "execution": {
     "iopub.execute_input": "2025-07-23T14:39:37.873569Z",
     "iopub.status.busy": "2025-07-23T14:39:37.872690Z",
     "iopub.status.idle": "2025-07-23T14:39:37.877642Z",
     "shell.execute_reply": "2025-07-23T14:39:37.876855Z"
    },
    "papermill": {
     "duration": 0.018529,
     "end_time": "2025-07-23T14:39:37.879206",
     "exception": false,
     "start_time": "2025-07-23T14:39:37.860677",
     "status": "completed"
    },
    "tags": []
   },
   "outputs": [],
   "source": [
    "# Miscoverage level for conformal prediction (10% allowed error rate => 90% target coverage)\n",
    "alpha = 0.1"
   ]
  },
  {
   "cell_type": "code",
   "execution_count": 32,
   "id": "eadf4555-3dd3-440e-8e35-f82a4ad9f855",
   "metadata": {
    "execution": {
     "iopub.execute_input": "2025-07-23T14:39:37.903500Z",
     "iopub.status.busy": "2025-07-23T14:39:37.902956Z",
     "iopub.status.idle": "2025-07-23T14:39:38.439533Z",
     "shell.execute_reply": "2025-07-23T14:39:38.438689Z"
    },
    "papermill": {
     "duration": 0.55057,
     "end_time": "2025-07-23T14:39:38.441507",
     "exception": false,
     "start_time": "2025-07-23T14:39:37.890937",
     "status": "completed"
    },
    "tags": []
   },
   "outputs": [],
   "source": [
    "probs_calib = model.predict_proba(X_calib)"
   ]
  },
  {
   "cell_type": "code",
   "execution_count": 33,
   "id": "2ed93547-6d5d-4983-9b36-1ecb300da49a",
   "metadata": {
    "execution": {
     "iopub.execute_input": "2025-07-23T14:39:38.470963Z",
     "iopub.status.busy": "2025-07-23T14:39:38.470589Z",
     "iopub.status.idle": "2025-07-23T14:39:38.475563Z",
     "shell.execute_reply": "2025-07-23T14:39:38.474607Z"
    },
    "papermill": {
     "duration": 0.018355,
     "end_time": "2025-07-23T14:39:38.477022",
     "exception": false,
     "start_time": "2025-07-23T14:39:38.458667",
     "status": "completed"
    },
    "tags": []
   },
   "outputs": [],
   "source": [
    "y_calib = y_calib.values.ravel().astype(int)"
   ]
  },
  {
   "cell_type": "code",
   "execution_count": 34,
   "id": "65d1320d-f588-4b38-9072-62af1ae97f7d",
   "metadata": {
    "execution": {
     "iopub.execute_input": "2025-07-23T14:39:38.503836Z",
     "iopub.status.busy": "2025-07-23T14:39:38.503229Z",
     "iopub.status.idle": "2025-07-23T14:39:38.511532Z",
     "shell.execute_reply": "2025-07-23T14:39:38.510452Z"
    },
    "papermill": {
     "duration": 0.024788,
     "end_time": "2025-07-23T14:39:38.513477",
     "exception": false,
     "start_time": "2025-07-23T14:39:38.488689",
     "status": "completed"
    },
    "tags": []
   },
   "outputs": [],
   "source": [
    "from fairness_multiverse.conformal import compute_nc_scores\n",
    "\n",
    "# Compute nonconformity scores on calibration set (1 - probability of true class)\n",
    "nc_scores = compute_nc_scores(probs_calib, y_calib)"
   ]
  },
  {
   "cell_type": "code",
   "execution_count": 35,
   "id": "df3b8ca3-53b7-43d5-9667-7c85da7aeda2",
   "metadata": {
    "execution": {
     "iopub.execute_input": "2025-07-23T14:39:38.560256Z",
     "iopub.status.busy": "2025-07-23T14:39:38.559253Z",
     "iopub.status.idle": "2025-07-23T14:39:38.567055Z",
     "shell.execute_reply": "2025-07-23T14:39:38.566046Z"
    },
    "papermill": {
     "duration": 0.03238,
     "end_time": "2025-07-23T14:39:38.568773",
     "exception": false,
     "start_time": "2025-07-23T14:39:38.536393",
     "status": "completed"
    },
    "tags": []
   },
   "outputs": [],
   "source": [
    "from fairness_multiverse.conformal import find_threshold\n",
    "\n",
    "# Find conformal threshold q_hat for the given alpha (split conformal method)\n",
    "q_hat = find_threshold(nc_scores, alpha)"
   ]
  },
  {
   "cell_type": "code",
   "execution_count": 36,
   "id": "4d29e6c1-0ef6-4aa4-b8fe-4fe79b0d033a",
   "metadata": {
    "execution": {
     "iopub.execute_input": "2025-07-23T14:39:38.615731Z",
     "iopub.status.busy": "2025-07-23T14:39:38.615157Z",
     "iopub.status.idle": "2025-07-23T14:39:38.622932Z",
     "shell.execute_reply": "2025-07-23T14:39:38.622046Z"
    },
    "papermill": {
     "duration": 0.03229,
     "end_time": "2025-07-23T14:39:38.624265",
     "exception": false,
     "start_time": "2025-07-23T14:39:38.591975",
     "status": "completed"
    },
    "tags": []
   },
   "outputs": [
    {
     "data": {
      "text/plain": [
       "0.6587779121458418"
      ]
     },
     "execution_count": 36,
     "metadata": {},
     "output_type": "execute_result"
    }
   ],
   "source": [
    "q_hat"
   ]
  },
  {
   "cell_type": "code",
   "execution_count": 37,
   "id": "92460794-cdac-4be2-ba28-f28c0515a6fb",
   "metadata": {
    "execution": {
     "iopub.execute_input": "2025-07-23T14:39:38.649353Z",
     "iopub.status.busy": "2025-07-23T14:39:38.648946Z",
     "iopub.status.idle": "2025-07-23T14:39:39.595006Z",
     "shell.execute_reply": "2025-07-23T14:39:39.594212Z"
    },
    "papermill": {
     "duration": 0.959611,
     "end_time": "2025-07-23T14:39:39.596613",
     "exception": false,
     "start_time": "2025-07-23T14:39:38.637002",
     "status": "completed"
    },
    "tags": []
   },
   "outputs": [],
   "source": [
    "from fairness_multiverse.conformal import predict_conformal_sets\n",
    "\n",
    "# Generate prediction sets for each test example\n",
    "pred_sets = predict_conformal_sets(model, X_test, q_hat)"
   ]
  },
  {
   "cell_type": "code",
   "execution_count": 38,
   "id": "d90c9a65-e6db-4f5d-80cd-e68fb7e46829",
   "metadata": {
    "execution": {
     "iopub.execute_input": "2025-07-23T14:39:39.620673Z",
     "iopub.status.busy": "2025-07-23T14:39:39.620013Z",
     "iopub.status.idle": "2025-07-23T14:39:39.624910Z",
     "shell.execute_reply": "2025-07-23T14:39:39.624102Z"
    },
    "papermill": {
     "duration": 0.018375,
     "end_time": "2025-07-23T14:39:39.626423",
     "exception": false,
     "start_time": "2025-07-23T14:39:39.608048",
     "status": "completed"
    },
    "tags": []
   },
   "outputs": [],
   "source": [
    "y_true = y_true.squeeze()"
   ]
  },
  {
   "cell_type": "code",
   "execution_count": 39,
   "id": "3a58a54a-1e68-46b9-927a-df01f18aebc8",
   "metadata": {
    "execution": {
     "iopub.execute_input": "2025-07-23T14:39:39.650790Z",
     "iopub.status.busy": "2025-07-23T14:39:39.649984Z",
     "iopub.status.idle": "2025-07-23T14:39:40.187431Z",
     "shell.execute_reply": "2025-07-23T14:39:40.186616Z"
    },
    "papermill": {
     "duration": 0.550856,
     "end_time": "2025-07-23T14:39:40.188992",
     "exception": false,
     "start_time": "2025-07-23T14:39:39.638136",
     "status": "completed"
    },
    "tags": []
   },
   "outputs": [],
   "source": [
    "from fairness_multiverse.conformal import evaluate_sets\n",
    "\n",
    "# Evaluate coverage and average set size on test data\n",
    "metrics = evaluate_sets(pred_sets, y_true)"
   ]
  },
  {
   "cell_type": "code",
   "execution_count": 40,
   "id": "5ce0a5cb-201f-45a0-ade5-94c7f0bd6095",
   "metadata": {
    "execution": {
     "iopub.execute_input": "2025-07-23T14:39:40.212990Z",
     "iopub.status.busy": "2025-07-23T14:39:40.212332Z",
     "iopub.status.idle": "2025-07-23T14:39:40.218839Z",
     "shell.execute_reply": "2025-07-23T14:39:40.217940Z"
    },
    "papermill": {
     "duration": 0.019584,
     "end_time": "2025-07-23T14:39:40.220232",
     "exception": false,
     "start_time": "2025-07-23T14:39:40.200648",
     "status": "completed"
    },
    "tags": []
   },
   "outputs": [
    {
     "data": {
      "text/plain": [
       "{'coverage': 0.9114925872255044, 'avg_size': 1.1106677070560695}"
      ]
     },
     "execution_count": 40,
     "metadata": {},
     "output_type": "execute_result"
    }
   ],
   "source": [
    "metrics"
   ]
  },
  {
   "cell_type": "code",
   "execution_count": 41,
   "id": "9b9a838d-31c9-430b-ae14-12baee460d17",
   "metadata": {
    "execution": {
     "iopub.execute_input": "2025-07-23T14:39:40.244303Z",
     "iopub.status.busy": "2025-07-23T14:39:40.243622Z",
     "iopub.status.idle": "2025-07-23T14:39:40.248764Z",
     "shell.execute_reply": "2025-07-23T14:39:40.247952Z"
    },
    "papermill": {
     "duration": 0.018485,
     "end_time": "2025-07-23T14:39:40.250254",
     "exception": false,
     "start_time": "2025-07-23T14:39:40.231769",
     "status": "completed"
    },
    "tags": []
   },
   "outputs": [],
   "source": [
    "example_universe = universe.copy()\n",
    "universe_model = example_universe.get(\"model\")\n",
    "universe_exclude_features = example_universe.get(\"exclude_features\")\n",
    "universe_exclude_subgroups = example_universe.get(\"exclude_subgroups\")\n",
    "universe_scale = example_universe.get(\"scale\")"
   ]
  },
  {
   "cell_type": "code",
   "execution_count": 42,
   "id": "f4b6a8ac-9dc0-4245-8a91-5b3b5999c4f9",
   "metadata": {
    "execution": {
     "iopub.execute_input": "2025-07-23T14:39:40.274388Z",
     "iopub.status.busy": "2025-07-23T14:39:40.273700Z",
     "iopub.status.idle": "2025-07-23T14:39:40.278968Z",
     "shell.execute_reply": "2025-07-23T14:39:40.278257Z"
    },
    "papermill": {
     "duration": 0.01852,
     "end_time": "2025-07-23T14:39:40.280415",
     "exception": false,
     "start_time": "2025-07-23T14:39:40.261895",
     "status": "completed"
    },
    "tags": []
   },
   "outputs": [],
   "source": [
    "cp_metrics_dict = {\n",
    "    \"universe_id\": [universe_id],\n",
    "    \"universe_model\": [universe_model],\n",
    "    \"universe_exclude_features\": [universe_exclude_features],\n",
    "    \"universe_exclude_subgroups\": [universe_exclude_subgroups],\n",
    "    \"universe_scale\": [universe_scale],\n",
    "    \"q_hat\": [q_hat],\n",
    "    \"coverage\": [metrics[\"coverage\"]],\n",
    "    \"avg_size\": [metrics[\"avg_size\"]],\n",
    "}"
   ]
  },
  {
   "cell_type": "code",
   "execution_count": 43,
   "id": "908acbb1-0371-4915-85ca-3fa520d2efe2",
   "metadata": {
    "execution": {
     "iopub.execute_input": "2025-07-23T14:39:40.304762Z",
     "iopub.status.busy": "2025-07-23T14:39:40.304054Z",
     "iopub.status.idle": "2025-07-23T14:39:40.310729Z",
     "shell.execute_reply": "2025-07-23T14:39:40.309796Z"
    },
    "papermill": {
     "duration": 0.019875,
     "end_time": "2025-07-23T14:39:40.312116",
     "exception": false,
     "start_time": "2025-07-23T14:39:40.292241",
     "status": "completed"
    },
    "tags": []
   },
   "outputs": [
    {
     "data": {
      "text/plain": [
       "{'universe_id': ['3c0844472bc99e5292e40448579d3510'],\n",
       " 'universe_model': ['gbm'],\n",
       " 'universe_exclude_features': ['nationality'],\n",
       " 'universe_exclude_subgroups': ['drop-non-german'],\n",
       " 'universe_scale': ['do-not-scale'],\n",
       " 'q_hat': [0.6587779121458418],\n",
       " 'coverage': [0.9114925872255044],\n",
       " 'avg_size': [1.1106677070560695]}"
      ]
     },
     "execution_count": 43,
     "metadata": {},
     "output_type": "execute_result"
    }
   ],
   "source": [
    "cp_metrics_dict"
   ]
  },
  {
   "cell_type": "code",
   "execution_count": 44,
   "id": "33007efc-14e9-4ec6-97ac-56a455c82265",
   "metadata": {
    "execution": {
     "iopub.execute_input": "2025-07-23T14:39:40.336493Z",
     "iopub.status.busy": "2025-07-23T14:39:40.335934Z",
     "iopub.status.idle": "2025-07-23T14:39:40.341003Z",
     "shell.execute_reply": "2025-07-23T14:39:40.340245Z"
    },
    "papermill": {
     "duration": 0.018555,
     "end_time": "2025-07-23T14:39:40.342430",
     "exception": false,
     "start_time": "2025-07-23T14:39:40.323875",
     "status": "completed"
    },
    "tags": []
   },
   "outputs": [],
   "source": [
    "cp_metrics_df = pd.DataFrame(cp_metrics_dict)"
   ]
  },
  {
   "cell_type": "code",
   "execution_count": 45,
   "id": "db12611b-57b2-4910-b9d0-355adfd6e7bf",
   "metadata": {
    "execution": {
     "iopub.execute_input": "2025-07-23T14:39:40.373951Z",
     "iopub.status.busy": "2025-07-23T14:39:40.373341Z",
     "iopub.status.idle": "2025-07-23T14:39:40.392394Z",
     "shell.execute_reply": "2025-07-23T14:39:40.391224Z"
    },
    "papermill": {
     "duration": 0.040246,
     "end_time": "2025-07-23T14:39:40.394565",
     "exception": false,
     "start_time": "2025-07-23T14:39:40.354319",
     "status": "completed"
    },
    "tags": []
   },
   "outputs": [
    {
     "data": {
      "text/html": [
       "<div>\n",
       "<style scoped>\n",
       "    .dataframe tbody tr th:only-of-type {\n",
       "        vertical-align: middle;\n",
       "    }\n",
       "\n",
       "    .dataframe tbody tr th {\n",
       "        vertical-align: top;\n",
       "    }\n",
       "\n",
       "    .dataframe thead th {\n",
       "        text-align: right;\n",
       "    }\n",
       "</style>\n",
       "<table border=\"1\" class=\"dataframe\">\n",
       "  <thead>\n",
       "    <tr style=\"text-align: right;\">\n",
       "      <th></th>\n",
       "      <th>universe_id</th>\n",
       "      <th>universe_model</th>\n",
       "      <th>universe_exclude_features</th>\n",
       "      <th>universe_exclude_subgroups</th>\n",
       "      <th>universe_scale</th>\n",
       "      <th>q_hat</th>\n",
       "      <th>coverage</th>\n",
       "      <th>avg_size</th>\n",
       "    </tr>\n",
       "  </thead>\n",
       "  <tbody>\n",
       "    <tr>\n",
       "      <th>0</th>\n",
       "      <td>3c0844472bc99e5292e40448579d3510</td>\n",
       "      <td>gbm</td>\n",
       "      <td>nationality</td>\n",
       "      <td>drop-non-german</td>\n",
       "      <td>do-not-scale</td>\n",
       "      <td>0.658778</td>\n",
       "      <td>0.911493</td>\n",
       "      <td>1.110668</td>\n",
       "    </tr>\n",
       "  </tbody>\n",
       "</table>\n",
       "</div>"
      ],
      "text/plain": [
       "                        universe_id universe_model universe_exclude_features  \\\n",
       "0  3c0844472bc99e5292e40448579d3510            gbm               nationality   \n",
       "\n",
       "  universe_exclude_subgroups universe_scale     q_hat  coverage  avg_size  \n",
       "0            drop-non-german   do-not-scale  0.658778  0.911493  1.110668  "
      ]
     },
     "execution_count": 45,
     "metadata": {},
     "output_type": "execute_result"
    }
   ],
   "source": [
    "cp_metrics_df"
   ]
  },
  {
   "cell_type": "code",
   "execution_count": 46,
   "id": "b7fbde55-a0a1-47e4-9af6-fe4a17fa8c61",
   "metadata": {
    "execution": {
     "iopub.execute_input": "2025-07-23T14:39:40.423750Z",
     "iopub.status.busy": "2025-07-23T14:39:40.423317Z",
     "iopub.status.idle": "2025-07-23T14:39:40.429022Z",
     "shell.execute_reply": "2025-07-23T14:39:40.428036Z"
    },
    "papermill": {
     "duration": 0.019838,
     "end_time": "2025-07-23T14:39:40.430505",
     "exception": false,
     "start_time": "2025-07-23T14:39:40.410667",
     "status": "completed"
    },
    "tags": []
   },
   "outputs": [],
   "source": [
    "# Conditional Coverage & looking at subgroups"
   ]
  },
  {
   "cell_type": "code",
   "execution_count": 47,
   "id": "027ae886-68dd-4141-96c7-805a5450e1ef",
   "metadata": {
    "execution": {
     "iopub.execute_input": "2025-07-23T14:39:40.457171Z",
     "iopub.status.busy": "2025-07-23T14:39:40.456770Z",
     "iopub.status.idle": "2025-07-23T14:39:40.650588Z",
     "shell.execute_reply": "2025-07-23T14:39:40.649492Z"
    },
    "papermill": {
     "duration": 0.209602,
     "end_time": "2025-07-23T14:39:40.652297",
     "exception": false,
     "start_time": "2025-07-23T14:39:40.442695",
     "status": "completed"
    },
    "tags": []
   },
   "outputs": [],
   "source": [
    "from fairness_multiverse.conformal import build_cp_groups\n",
    "\n",
    "cp_groups_df = build_cp_groups(pred_sets, y_true, X_test.index, org_test)\n",
    "#needs universe_id and setting"
   ]
  },
  {
   "cell_type": "code",
   "execution_count": 48,
   "id": "c3b92545-903e-4839-89af-0f057907d7d6",
   "metadata": {
    "execution": {
     "iopub.execute_input": "2025-07-23T14:39:40.695135Z",
     "iopub.status.busy": "2025-07-23T14:39:40.694504Z",
     "iopub.status.idle": "2025-07-23T14:39:42.440886Z",
     "shell.execute_reply": "2025-07-23T14:39:42.439770Z"
    },
    "papermill": {
     "duration": 1.766553,
     "end_time": "2025-07-23T14:39:42.442959",
     "exception": false,
     "start_time": "2025-07-23T14:39:40.676406",
     "status": "completed"
    },
    "tags": []
   },
   "outputs": [],
   "source": [
    "# Define covered = 1 if true_label is in the predicted set\n",
    "cp_groups_df['covered'] = cp_groups_df.apply(\n",
    "    lambda r: int(r['true_label'] in r['pred_set']),\n",
    "    axis=1\n",
    ")"
   ]
  },
  {
   "cell_type": "code",
   "execution_count": 49,
   "id": "338ff529-1a6b-4b87-a931-8e4788d52aad",
   "metadata": {
    "execution": {
     "iopub.execute_input": "2025-07-23T14:39:42.493493Z",
     "iopub.status.busy": "2025-07-23T14:39:42.492383Z",
     "iopub.status.idle": "2025-07-23T14:39:42.498547Z",
     "shell.execute_reply": "2025-07-23T14:39:42.497496Z"
    },
    "papermill": {
     "duration": 0.032824,
     "end_time": "2025-07-23T14:39:42.500347",
     "exception": false,
     "start_time": "2025-07-23T14:39:42.467523",
     "status": "completed"
    },
    "tags": []
   },
   "outputs": [],
   "source": [
    "#cp_groups_df"
   ]
  },
  {
   "cell_type": "code",
   "execution_count": 50,
   "id": "90032e27-66df-4540-9169-4e89cfbaa758",
   "metadata": {
    "execution": {
     "iopub.execute_input": "2025-07-23T14:39:42.545869Z",
     "iopub.status.busy": "2025-07-23T14:39:42.545111Z",
     "iopub.status.idle": "2025-07-23T14:39:42.558289Z",
     "shell.execute_reply": "2025-07-23T14:39:42.557290Z"
    },
    "papermill": {
     "duration": 0.038085,
     "end_time": "2025-07-23T14:39:42.560528",
     "exception": false,
     "start_time": "2025-07-23T14:39:42.522443",
     "status": "completed"
    },
    "tags": []
   },
   "outputs": [],
   "source": [
    "subgroups = ['frau1','nongerman','nongerman_male','nongerman_female']\n",
    "\n",
    "# Conditional coverage for subgroup==1\n",
    "cond_coverage = {\n",
    "    g: cp_groups_df.loc[cp_groups_df[g]==1, 'covered'].mean()\n",
    "    for g in subgroups\n",
    "}"
   ]
  },
  {
   "cell_type": "code",
   "execution_count": 51,
   "id": "1e348fb1-b9c3-45bc-ba23-f016827a7e0d",
   "metadata": {
    "execution": {
     "iopub.execute_input": "2025-07-23T14:39:42.613263Z",
     "iopub.status.busy": "2025-07-23T14:39:42.612527Z",
     "iopub.status.idle": "2025-07-23T14:39:42.621069Z",
     "shell.execute_reply": "2025-07-23T14:39:42.619960Z"
    },
    "papermill": {
     "duration": 0.037251,
     "end_time": "2025-07-23T14:39:42.622892",
     "exception": false,
     "start_time": "2025-07-23T14:39:42.585641",
     "status": "completed"
    },
    "tags": []
   },
   "outputs": [
    {
     "data": {
      "text/plain": [
       "{'frau1': 0.9146515702924922,\n",
       " 'nongerman': 0.9095604333913434,\n",
       " 'nongerman_male': 0.9252454291632892,\n",
       " 'nongerman_female': 0.8836065573770492}"
      ]
     },
     "execution_count": 51,
     "metadata": {},
     "output_type": "execute_result"
    }
   ],
   "source": [
    "cond_coverage"
   ]
  },
  {
   "cell_type": "code",
   "execution_count": 52,
   "id": "f5093324-c3dd-4d63-bc4c-8d945e5c8bbb",
   "metadata": {
    "execution": {
     "iopub.execute_input": "2025-07-23T14:39:42.676776Z",
     "iopub.status.busy": "2025-07-23T14:39:42.675980Z",
     "iopub.status.idle": "2025-07-23T14:39:42.683924Z",
     "shell.execute_reply": "2025-07-23T14:39:42.682967Z"
    },
    "papermill": {
     "duration": 0.036417,
     "end_time": "2025-07-23T14:39:42.686047",
     "exception": false,
     "start_time": "2025-07-23T14:39:42.649630",
     "status": "completed"
    },
    "tags": []
   },
   "outputs": [],
   "source": [
    "for subgroup, cov in cond_coverage.items():\n",
    "    cp_metrics_df[f\"cov_{subgroup}\"] = cov"
   ]
  },
  {
   "cell_type": "code",
   "execution_count": 53,
   "id": "6e872e10-dbe5-49e8-b554-5030c98ff75d",
   "metadata": {
    "execution": {
     "iopub.execute_input": "2025-07-23T14:39:42.738095Z",
     "iopub.status.busy": "2025-07-23T14:39:42.737368Z",
     "iopub.status.idle": "2025-07-23T14:39:42.757735Z",
     "shell.execute_reply": "2025-07-23T14:39:42.756092Z"
    },
    "papermill": {
     "duration": 0.048325,
     "end_time": "2025-07-23T14:39:42.759568",
     "exception": false,
     "start_time": "2025-07-23T14:39:42.711243",
     "status": "completed"
    },
    "tags": []
   },
   "outputs": [
    {
     "data": {
      "text/html": [
       "<div>\n",
       "<style scoped>\n",
       "    .dataframe tbody tr th:only-of-type {\n",
       "        vertical-align: middle;\n",
       "    }\n",
       "\n",
       "    .dataframe tbody tr th {\n",
       "        vertical-align: top;\n",
       "    }\n",
       "\n",
       "    .dataframe thead th {\n",
       "        text-align: right;\n",
       "    }\n",
       "</style>\n",
       "<table border=\"1\" class=\"dataframe\">\n",
       "  <thead>\n",
       "    <tr style=\"text-align: right;\">\n",
       "      <th></th>\n",
       "      <th>universe_id</th>\n",
       "      <th>universe_model</th>\n",
       "      <th>universe_exclude_features</th>\n",
       "      <th>universe_exclude_subgroups</th>\n",
       "      <th>universe_scale</th>\n",
       "      <th>q_hat</th>\n",
       "      <th>coverage</th>\n",
       "      <th>avg_size</th>\n",
       "      <th>cov_frau1</th>\n",
       "      <th>cov_nongerman</th>\n",
       "      <th>cov_nongerman_male</th>\n",
       "      <th>cov_nongerman_female</th>\n",
       "    </tr>\n",
       "  </thead>\n",
       "  <tbody>\n",
       "    <tr>\n",
       "      <th>0</th>\n",
       "      <td>3c0844472bc99e5292e40448579d3510</td>\n",
       "      <td>gbm</td>\n",
       "      <td>nationality</td>\n",
       "      <td>drop-non-german</td>\n",
       "      <td>do-not-scale</td>\n",
       "      <td>0.658778</td>\n",
       "      <td>0.911493</td>\n",
       "      <td>1.110668</td>\n",
       "      <td>0.914652</td>\n",
       "      <td>0.90956</td>\n",
       "      <td>0.925245</td>\n",
       "      <td>0.883607</td>\n",
       "    </tr>\n",
       "  </tbody>\n",
       "</table>\n",
       "</div>"
      ],
      "text/plain": [
       "                        universe_id universe_model universe_exclude_features  \\\n",
       "0  3c0844472bc99e5292e40448579d3510            gbm               nationality   \n",
       "\n",
       "  universe_exclude_subgroups universe_scale     q_hat  coverage  avg_size  \\\n",
       "0            drop-non-german   do-not-scale  0.658778  0.911493  1.110668   \n",
       "\n",
       "   cov_frau1  cov_nongerman  cov_nongerman_male  cov_nongerman_female  \n",
       "0   0.914652        0.90956            0.925245              0.883607  "
      ]
     },
     "execution_count": 53,
     "metadata": {},
     "output_type": "execute_result"
    }
   ],
   "source": [
    "cp_metrics_df"
   ]
  },
  {
   "cell_type": "markdown",
   "id": "33774451",
   "metadata": {
    "papermill": {
     "duration": 0.022604,
     "end_time": "2025-07-23T14:39:42.804770",
     "exception": false,
     "start_time": "2025-07-23T14:39:42.782166",
     "status": "completed"
    },
    "tags": []
   },
   "source": [
    "# (Fairness) Metrics"
   ]
  },
  {
   "cell_type": "code",
   "execution_count": 54,
   "id": "debc5d62",
   "metadata": {
    "execution": {
     "iopub.execute_input": "2025-07-23T14:39:42.852695Z",
     "iopub.status.busy": "2025-07-23T14:39:42.851940Z",
     "iopub.status.idle": "2025-07-23T14:39:42.877932Z",
     "shell.execute_reply": "2025-07-23T14:39:42.876761Z"
    },
    "papermill": {
     "duration": 0.051663,
     "end_time": "2025-07-23T14:39:42.879779",
     "exception": false,
     "start_time": "2025-07-23T14:39:42.828116",
     "status": "completed"
    },
    "tags": []
   },
   "outputs": [],
   "source": [
    "# do I need to include maxdeutsch1.missing?\n",
    "\n",
    "import numpy as np\n",
    "\n",
    "colname_to_bin = \"maxdeutsch1\"\n",
    "majority_value = org_train[colname_to_bin].mode()[0]\n",
    "\n",
    "org_test[\"majmin\"] = np.where(org_test[colname_to_bin] == majority_value, \"majority\", \"minority\")"
   ]
  },
  {
   "cell_type": "code",
   "execution_count": 55,
   "id": "06a50de5",
   "metadata": {
    "execution": {
     "iopub.execute_input": "2025-07-23T14:39:42.926822Z",
     "iopub.status.busy": "2025-07-23T14:39:42.926296Z",
     "iopub.status.idle": "2025-07-23T14:39:46.189836Z",
     "shell.execute_reply": "2025-07-23T14:39:46.188812Z"
    },
    "papermill": {
     "duration": 3.289445,
     "end_time": "2025-07-23T14:39:46.191804",
     "exception": false,
     "start_time": "2025-07-23T14:39:42.902359",
     "status": "completed"
    },
    "tags": []
   },
   "outputs": [],
   "source": [
    "example_universe = universe.copy()\n",
    "example_universe[\"cutoff\"] = example_universe[\"cutoff\"][0]\n",
    "example_universe[\"eval_fairness_grouping\"] = example_universe[\"eval_fairness_grouping\"][0]\n",
    "fairness_dict, metric_frame = universe_analysis.compute_metrics(\n",
    "    example_universe,\n",
    "    y_pred_prob=probs_test,\n",
    "    y_test=y_true,\n",
    "    org_test=org_test,\n",
    ")"
   ]
  },
  {
   "cell_type": "markdown",
   "id": "f95d4e02",
   "metadata": {
    "papermill": {
     "duration": 0.025863,
     "end_time": "2025-07-23T14:39:46.257964",
     "exception": false,
     "start_time": "2025-07-23T14:39:46.232101",
     "status": "completed"
    },
    "tags": []
   },
   "source": [
    "# Overall"
   ]
  },
  {
   "cell_type": "markdown",
   "id": "bdee4871",
   "metadata": {
    "papermill": {
     "duration": 0.022103,
     "end_time": "2025-07-23T14:39:46.303773",
     "exception": false,
     "start_time": "2025-07-23T14:39:46.281670",
     "status": "completed"
    },
    "tags": []
   },
   "source": [
    "Fairness\n",
    "Main fairness target: Equalized Odds. Seems to be a better fit than equal opportunity, since we're not only interested in Y = 1. Seems to be a better fit than demographic parity, since we also care about accuracy, not just equal distribution of preds.\n",
    "\n",
    "Pick column for computation of fairness metrics\n",
    "\n",
    "Performance\n",
    "Overall performance measures, most interesting in relation to the measures split by group below"
   ]
  },
  {
   "cell_type": "code",
   "execution_count": 56,
   "id": "c4e067c6",
   "metadata": {
    "execution": {
     "iopub.execute_input": "2025-07-23T14:39:46.350541Z",
     "iopub.status.busy": "2025-07-23T14:39:46.349719Z",
     "iopub.status.idle": "2025-07-23T14:39:46.358274Z",
     "shell.execute_reply": "2025-07-23T14:39:46.357356Z"
    },
    "papermill": {
     "duration": 0.033302,
     "end_time": "2025-07-23T14:39:46.359923",
     "exception": false,
     "start_time": "2025-07-23T14:39:46.326621",
     "status": "completed"
    },
    "tags": []
   },
   "outputs": [
    {
     "data": {
      "text/plain": [
       "accuracy                   0.225538\n",
       "balanced accuracy          0.551227\n",
       "f1                         0.246837\n",
       "precision                  0.141010\n",
       "false positive rate        0.886857\n",
       "false negative rate        0.010688\n",
       "selection rate             0.900000\n",
       "count                  89710.000000\n",
       "dtype: float64"
      ]
     },
     "execution_count": 56,
     "metadata": {},
     "output_type": "execute_result"
    }
   ],
   "source": [
    "metric_frame.overall"
   ]
  },
  {
   "cell_type": "markdown",
   "id": "e968fe9d",
   "metadata": {
    "papermill": {
     "duration": 0.027843,
     "end_time": "2025-07-23T14:39:46.412763",
     "exception": false,
     "start_time": "2025-07-23T14:39:46.384920",
     "status": "completed"
    },
    "tags": []
   },
   "source": [
    "By Group"
   ]
  },
  {
   "cell_type": "code",
   "execution_count": 57,
   "id": "ec325bce",
   "metadata": {
    "execution": {
     "iopub.execute_input": "2025-07-23T14:39:46.471981Z",
     "iopub.status.busy": "2025-07-23T14:39:46.471338Z",
     "iopub.status.idle": "2025-07-23T14:39:46.489096Z",
     "shell.execute_reply": "2025-07-23T14:39:46.487900Z"
    },
    "papermill": {
     "duration": 0.043432,
     "end_time": "2025-07-23T14:39:46.490979",
     "exception": false,
     "start_time": "2025-07-23T14:39:46.447547",
     "status": "completed"
    },
    "tags": []
   },
   "outputs": [
    {
     "data": {
      "text/html": [
       "<div>\n",
       "<style scoped>\n",
       "    .dataframe tbody tr th:only-of-type {\n",
       "        vertical-align: middle;\n",
       "    }\n",
       "\n",
       "    .dataframe tbody tr th {\n",
       "        vertical-align: top;\n",
       "    }\n",
       "\n",
       "    .dataframe thead th {\n",
       "        text-align: right;\n",
       "    }\n",
       "</style>\n",
       "<table border=\"1\" class=\"dataframe\">\n",
       "  <thead>\n",
       "    <tr style=\"text-align: right;\">\n",
       "      <th></th>\n",
       "      <th>accuracy</th>\n",
       "      <th>balanced accuracy</th>\n",
       "      <th>f1</th>\n",
       "      <th>precision</th>\n",
       "      <th>false positive rate</th>\n",
       "      <th>false negative rate</th>\n",
       "      <th>selection rate</th>\n",
       "      <th>count</th>\n",
       "    </tr>\n",
       "    <tr>\n",
       "      <th>majmin</th>\n",
       "      <th></th>\n",
       "      <th></th>\n",
       "      <th></th>\n",
       "      <th></th>\n",
       "      <th></th>\n",
       "      <th></th>\n",
       "      <th></th>\n",
       "      <th></th>\n",
       "    </tr>\n",
       "  </thead>\n",
       "  <tbody>\n",
       "    <tr>\n",
       "      <th>majority</th>\n",
       "      <td>0.244803</td>\n",
       "      <td>0.560133</td>\n",
       "      <td>0.257058</td>\n",
       "      <td>0.147733</td>\n",
       "      <td>0.868466</td>\n",
       "      <td>0.011269</td>\n",
       "      <td>0.884357</td>\n",
       "      <td>69170.0</td>\n",
       "    </tr>\n",
       "    <tr>\n",
       "      <th>minority</th>\n",
       "      <td>0.160662</td>\n",
       "      <td>0.521971</td>\n",
       "      <td>0.214077</td>\n",
       "      <td>0.119992</td>\n",
       "      <td>0.947612</td>\n",
       "      <td>0.008446</td>\n",
       "      <td>0.952678</td>\n",
       "      <td>20540.0</td>\n",
       "    </tr>\n",
       "  </tbody>\n",
       "</table>\n",
       "</div>"
      ],
      "text/plain": [
       "          accuracy  balanced accuracy        f1  precision  \\\n",
       "majmin                                                       \n",
       "majority  0.244803           0.560133  0.257058   0.147733   \n",
       "minority  0.160662           0.521971  0.214077   0.119992   \n",
       "\n",
       "          false positive rate  false negative rate  selection rate    count  \n",
       "majmin                                                                       \n",
       "majority             0.868466             0.011269        0.884357  69170.0  \n",
       "minority             0.947612             0.008446        0.952678  20540.0  "
      ]
     },
     "execution_count": 57,
     "metadata": {},
     "output_type": "execute_result"
    }
   ],
   "source": [
    "metric_frame.by_group"
   ]
  },
  {
   "cell_type": "code",
   "execution_count": 58,
   "id": "a9ddbe63",
   "metadata": {
    "execution": {
     "iopub.execute_input": "2025-07-23T14:39:46.540963Z",
     "iopub.status.busy": "2025-07-23T14:39:46.539910Z",
     "iopub.status.idle": "2025-07-23T14:39:49.282771Z",
     "shell.execute_reply": "2025-07-23T14:39:49.281621Z"
    },
    "papermill": {
     "duration": 2.769375,
     "end_time": "2025-07-23T14:39:49.284728",
     "exception": false,
     "start_time": "2025-07-23T14:39:46.515353",
     "status": "completed"
    },
    "tags": []
   },
   "outputs": [
    {
     "data": {
      "text/plain": [
       "array([[<Axes: title={'center': 'accuracy'}, xlabel='majmin'>,\n",
       "        <Axes: title={'center': 'balanced accuracy'}, xlabel='majmin'>,\n",
       "        <Axes: title={'center': 'f1'}, xlabel='majmin'>],\n",
       "       [<Axes: title={'center': 'precision'}, xlabel='majmin'>,\n",
       "        <Axes: title={'center': 'false positive rate'}, xlabel='majmin'>,\n",
       "        <Axes: title={'center': 'false negative rate'}, xlabel='majmin'>],\n",
       "       [<Axes: title={'center': 'selection rate'}, xlabel='majmin'>,\n",
       "        <Axes: title={'center': 'count'}, xlabel='majmin'>,\n",
       "        <Axes: xlabel='majmin'>]], dtype=object)"
      ]
     },
     "execution_count": 58,
     "metadata": {},
     "output_type": "execute_result"
    },
    {
     "data": {
      "image/png": "[encoded data removed]",
      "text/plain": [
       "<Figure size 1200x800 with 9 Axes>"
      ]
     },
     "metadata": {},
     "output_type": "display_data"
    }
   ],
   "source": [
    "# In a graphic\n",
    "metric_frame.by_group.plot.bar(\n",
    "    subplots=True,\n",
    "    layout=[3, 3],\n",
    "    legend=False,\n",
    "    figsize=[12, 8],\n",
    "    title=\"Show all metrics\",\n",
    ")"
   ]
  },
  {
   "cell_type": "markdown",
   "id": "f57a0bac",
   "metadata": {
    "papermill": {
     "duration": 0.026876,
     "end_time": "2025-07-23T14:39:49.338580",
     "exception": false,
     "start_time": "2025-07-23T14:39:49.311704",
     "status": "completed"
    },
    "tags": []
   },
   "source": [
    "# Final Output"
   ]
  },
  {
   "cell_type": "code",
   "execution_count": 59,
   "id": "96d280a3",
   "metadata": {
    "execution": {
     "iopub.execute_input": "2025-07-23T14:39:49.396032Z",
     "iopub.status.busy": "2025-07-23T14:39:49.394836Z",
     "iopub.status.idle": "2025-07-23T14:39:49.405053Z",
     "shell.execute_reply": "2025-07-23T14:39:49.403981Z"
    },
    "papermill": {
     "duration": 0.041135,
     "end_time": "2025-07-23T14:39:49.406873",
     "exception": false,
     "start_time": "2025-07-23T14:39:49.365738",
     "status": "completed"
    },
    "tags": []
   },
   "outputs": [
    {
     "data": {
      "text/plain": [
       "4"
      ]
     },
     "execution_count": 59,
     "metadata": {},
     "output_type": "execute_result"
    }
   ],
   "source": [
    "sub_universes = universe_analysis.generate_sub_universes()\n",
    "len(sub_universes)"
   ]
  },
  {
   "cell_type": "code",
   "execution_count": 60,
   "id": "92adf7ba",
   "metadata": {
    "execution": {
     "iopub.execute_input": "2025-07-23T14:39:49.464740Z",
     "iopub.status.busy": "2025-07-23T14:39:49.463959Z",
     "iopub.status.idle": "2025-07-23T14:39:49.470999Z",
     "shell.execute_reply": "2025-07-23T14:39:49.469803Z"
    },
    "papermill": {
     "duration": 0.037321,
     "end_time": "2025-07-23T14:39:49.472940",
     "exception": false,
     "start_time": "2025-07-23T14:39:49.435619",
     "status": "completed"
    },
    "tags": []
   },
   "outputs": [],
   "source": [
    "def filter_sub_universe_data(sub_universe, org_test):\n",
    "    # Keep all rows — no filtering\n",
    "    keep_rows_mask = np.ones(org_test.shape[0], dtype=bool)\n",
    "\n",
    "    print(f\"[INFO] Keeping all rows: {keep_rows_mask.sum()} rows retained.\")\n",
    "    return keep_rows_mask"
   ]
  },
  {
   "cell_type": "code",
   "execution_count": 61,
   "id": "4a759155",
   "metadata": {
    "execution": {
     "iopub.execute_input": "2025-07-23T14:39:49.535152Z",
     "iopub.status.busy": "2025-07-23T14:39:49.534652Z",
     "iopub.status.idle": "2025-07-23T14:39:57.874048Z",
     "shell.execute_reply": "2025-07-23T14:39:57.872955Z"
    },
    "papermill": {
     "duration": 8.369537,
     "end_time": "2025-07-23T14:39:57.875961",
     "exception": false,
     "start_time": "2025-07-23T14:39:49.506424",
     "status": "completed"
    },
    "tags": []
   },
   "outputs": [
    {
     "name": "stdout",
     "output_type": "stream",
     "text": [
      "Stopping execution_time clock.\n",
      "[INFO] Keeping all rows: 89710 rows retained.\n"
     ]
    },
    {
     "name": "stdout",
     "output_type": "stream",
     "text": [
      "[INFO] Keeping all rows: 89710 rows retained.\n"
     ]
    },
    {
     "name": "stdout",
     "output_type": "stream",
     "text": [
      "[INFO] Keeping all rows: 89710 rows retained.\n"
     ]
    },
    {
     "name": "stdout",
     "output_type": "stream",
     "text": [
      "[INFO] Keeping all rows: 89710 rows retained.\n"
     ]
    },
    {
     "data": {
      "text/html": [
       "<div>\n",
       "<style scoped>\n",
       "    .dataframe tbody tr th:only-of-type {\n",
       "        vertical-align: middle;\n",
       "    }\n",
       "\n",
       "    .dataframe tbody tr th {\n",
       "        vertical-align: top;\n",
       "    }\n",
       "\n",
       "    .dataframe thead th {\n",
       "        text-align: right;\n",
       "    }\n",
       "</style>\n",
       "<table border=\"1\" class=\"dataframe\">\n",
       "  <thead>\n",
       "    <tr style=\"text-align: right;\">\n",
       "      <th></th>\n",
       "      <th>run_no</th>\n",
       "      <th>universe_id</th>\n",
       "      <th>universe_settings</th>\n",
       "      <th>execution_time</th>\n",
       "      <th>test_size_n</th>\n",
       "      <th>test_size_frac</th>\n",
       "      <th>fair_main_equalized_odds_difference</th>\n",
       "      <th>fair_main_equalized_odds_ratio</th>\n",
       "      <th>fair_main_demographic_parity_difference</th>\n",
       "      <th>fair_main_demographic_parity_ratio</th>\n",
       "      <th>...</th>\n",
       "      <th>perf_grp_precision_0</th>\n",
       "      <th>perf_grp_precision_1</th>\n",
       "      <th>perf_grp_false positive rate_0</th>\n",
       "      <th>perf_grp_false positive rate_1</th>\n",
       "      <th>perf_grp_false negative rate_0</th>\n",
       "      <th>perf_grp_false negative rate_1</th>\n",
       "      <th>perf_grp_selection rate_0</th>\n",
       "      <th>perf_grp_selection rate_1</th>\n",
       "      <th>perf_grp_count_0</th>\n",
       "      <th>perf_grp_count_1</th>\n",
       "    </tr>\n",
       "  </thead>\n",
       "  <tbody>\n",
       "    <tr>\n",
       "      <th>0</th>\n",
       "      <td>9</td>\n",
       "      <td>3c0844472bc99e5292e40448579d3510</td>\n",
       "      <td>{\"cutoff\": \"quantile_0.1\", \"eval_fairness_grou...</td>\n",
       "      <td>103.944139</td>\n",
       "      <td>89710</td>\n",
       "      <td>1.0</td>\n",
       "      <td>0.079146</td>\n",
       "      <td>0.916479</td>\n",
       "      <td>0.068320</td>\n",
       "      <td>0.928286</td>\n",
       "      <td>...</td>\n",
       "      <td>NaN</td>\n",
       "      <td>NaN</td>\n",
       "      <td>NaN</td>\n",
       "      <td>NaN</td>\n",
       "      <td>NaN</td>\n",
       "      <td>NaN</td>\n",
       "      <td>NaN</td>\n",
       "      <td>NaN</td>\n",
       "      <td>NaN</td>\n",
       "      <td>NaN</td>\n",
       "    </tr>\n",
       "    <tr>\n",
       "      <th>0</th>\n",
       "      <td>9</td>\n",
       "      <td>3c0844472bc99e5292e40448579d3510</td>\n",
       "      <td>{\"cutoff\": \"quantile_0.1\", \"eval_fairness_grou...</td>\n",
       "      <td>103.944139</td>\n",
       "      <td>89710</td>\n",
       "      <td>1.0</td>\n",
       "      <td>0.079146</td>\n",
       "      <td>0.916479</td>\n",
       "      <td>0.068320</td>\n",
       "      <td>0.928286</td>\n",
       "      <td>...</td>\n",
       "      <td>0.119992</td>\n",
       "      <td>0.147733</td>\n",
       "      <td>0.947612</td>\n",
       "      <td>0.868466</td>\n",
       "      <td>0.008446</td>\n",
       "      <td>0.011269</td>\n",
       "      <td>0.952678</td>\n",
       "      <td>0.884357</td>\n",
       "      <td>20540.0</td>\n",
       "      <td>69170.0</td>\n",
       "    </tr>\n",
       "    <tr>\n",
       "      <th>0</th>\n",
       "      <td>9</td>\n",
       "      <td>3c0844472bc99e5292e40448579d3510</td>\n",
       "      <td>{\"cutoff\": \"quantile_0.25\", \"eval_fairness_gro...</td>\n",
       "      <td>103.944139</td>\n",
       "      <td>89710</td>\n",
       "      <td>1.0</td>\n",
       "      <td>0.082711</td>\n",
       "      <td>0.894481</td>\n",
       "      <td>0.066496</td>\n",
       "      <td>0.917011</td>\n",
       "      <td>...</td>\n",
       "      <td>NaN</td>\n",
       "      <td>NaN</td>\n",
       "      <td>NaN</td>\n",
       "      <td>NaN</td>\n",
       "      <td>NaN</td>\n",
       "      <td>NaN</td>\n",
       "      <td>NaN</td>\n",
       "      <td>NaN</td>\n",
       "      <td>NaN</td>\n",
       "      <td>NaN</td>\n",
       "    </tr>\n",
       "    <tr>\n",
       "      <th>0</th>\n",
       "      <td>9</td>\n",
       "      <td>3c0844472bc99e5292e40448579d3510</td>\n",
       "      <td>{\"cutoff\": \"quantile_0.25\", \"eval_fairness_gro...</td>\n",
       "      <td>103.944139</td>\n",
       "      <td>89710</td>\n",
       "      <td>1.0</td>\n",
       "      <td>0.082711</td>\n",
       "      <td>0.894481</td>\n",
       "      <td>0.066496</td>\n",
       "      <td>0.917011</td>\n",
       "      <td>...</td>\n",
       "      <td>0.134524</td>\n",
       "      <td>0.171868</td>\n",
       "      <td>0.783843</td>\n",
       "      <td>0.701133</td>\n",
       "      <td>0.065034</td>\n",
       "      <td>0.044311</td>\n",
       "      <td>0.801266</td>\n",
       "      <td>0.734769</td>\n",
       "      <td>20540.0</td>\n",
       "      <td>69170.0</td>\n",
       "    </tr>\n",
       "  </tbody>\n",
       "</table>\n",
       "<p>4 rows × 50 columns</p>\n",
       "</div>"
      ],
      "text/plain": [
       "  run_no                       universe_id  \\\n",
       "0      9  3c0844472bc99e5292e40448579d3510   \n",
       "0      9  3c0844472bc99e5292e40448579d3510   \n",
       "0      9  3c0844472bc99e5292e40448579d3510   \n",
       "0      9  3c0844472bc99e5292e40448579d3510   \n",
       "\n",
       "                                   universe_settings  execution_time  \\\n",
       "0  {\"cutoff\": \"quantile_0.1\", \"eval_fairness_grou...      103.944139   \n",
       "0  {\"cutoff\": \"quantile_0.1\", \"eval_fairness_grou...      103.944139   \n",
       "0  {\"cutoff\": \"quantile_0.25\", \"eval_fairness_gro...      103.944139   \n",
       "0  {\"cutoff\": \"quantile_0.25\", \"eval_fairness_gro...      103.944139   \n",
       "\n",
       "   test_size_n  test_size_frac  fair_main_equalized_odds_difference  \\\n",
       "0        89710             1.0                             0.079146   \n",
       "0        89710             1.0                             0.079146   \n",
       "0        89710             1.0                             0.082711   \n",
       "0        89710             1.0                             0.082711   \n",
       "\n",
       "   fair_main_equalized_odds_ratio  fair_main_demographic_parity_difference  \\\n",
       "0                        0.916479                                 0.068320   \n",
       "0                        0.916479                                 0.068320   \n",
       "0                        0.894481                                 0.066496   \n",
       "0                        0.894481                                 0.066496   \n",
       "\n",
       "   fair_main_demographic_parity_ratio  ...  perf_grp_precision_0  \\\n",
       "0                            0.928286  ...                   NaN   \n",
       "0                            0.928286  ...              0.119992   \n",
       "0                            0.917011  ...                   NaN   \n",
       "0                            0.917011  ...              0.134524   \n",
       "\n",
       "   perf_grp_precision_1  perf_grp_false positive rate_0  \\\n",
       "0                   NaN                             NaN   \n",
       "0              0.147733                        0.947612   \n",
       "0                   NaN                             NaN   \n",
       "0              0.171868                        0.783843   \n",
       "\n",
       "   perf_grp_false positive rate_1  perf_grp_false negative rate_0  \\\n",
       "0                             NaN                             NaN   \n",
       "0                        0.868466                        0.008446   \n",
       "0                             NaN                             NaN   \n",
       "0                        0.701133                        0.065034   \n",
       "\n",
       "   perf_grp_false negative rate_1  perf_grp_selection rate_0  \\\n",
       "0                             NaN                        NaN   \n",
       "0                        0.011269                   0.952678   \n",
       "0                             NaN                        NaN   \n",
       "0                        0.044311                   0.801266   \n",
       "\n",
       "   perf_grp_selection rate_1  perf_grp_count_0  perf_grp_count_1  \n",
       "0                        NaN               NaN               NaN  \n",
       "0                   0.884357           20540.0           69170.0  \n",
       "0                        NaN               NaN               NaN  \n",
       "0                   0.734769           20540.0           69170.0  \n",
       "\n",
       "[4 rows x 50 columns]"
      ]
     },
     "execution_count": 61,
     "metadata": {},
     "output_type": "execute_result"
    }
   ],
   "source": [
    "final_output = universe_analysis.generate_final_output(\n",
    "    y_pred_prob=probs_test,\n",
    "    y_test=y_true,\n",
    "    org_test=org_test,\n",
    "    filter_data=filter_sub_universe_data,\n",
    "    cp_metrics_df=cp_metrics_df,\n",
    "    save=True,\n",
    ")\n",
    "final_output"
   ]
  },
  {
   "cell_type": "code",
   "execution_count": null,
   "id": "721ff514-cb11-46f8-b6fc-50392f74b5cb",
   "metadata": {
    "papermill": {
     "duration": 0.028872,
     "end_time": "2025-07-23T14:39:57.935357",
     "exception": false,
     "start_time": "2025-07-23T14:39:57.906485",
     "status": "completed"
    },
    "tags": []
   },
   "outputs": [],
   "source": []
  }
 ],
 "metadata": {
  "celltoolbar": "Tags",
  "kernelspec": {
   "display_name": "Python (CMA Fairness)",
   "language": "python",
   "name": "cma_fair_env"
  },
  "language_info": {
   "codemirror_mode": {
    "name": "ipython",
    "version": 3
   },
   "file_extension": ".py",
   "mimetype": "text/x-python",
   "name": "python",
   "nbconvert_exporter": "python",
   "pygments_lexer": "ipython3",
   "version": "3.10.12"
  },
  "papermill": {
   "default_parameters": {},
   "duration": 116.776463,
   "end_time": "2025-07-23T14:39:58.785714",
   "environment_variables": {},
   "exception": null,
   "input_path": "universe_analysis.ipynb",
   "output_path": "output/runs/9/notebooks/m_9-3c0844472bc99e5292e40448579d3510.ipynb",
   "parameters": {
    "output_dir": "output",
    "run_no": "9",
    "seed": "2023",
    "universe": "{\"cutoff\": [\"quantile_0.1\", \"quantile_0.25\"], \"eval_fairness_grouping\": [\"majority-minority\", \"nationality-all\"], \"exclude_features\": \"nationality\", \"exclude_subgroups\": \"drop-non-german\", \"model\": \"gbm\", \"scale\": \"do-not-scale\"}",
    "universe_id": "3c0844472bc99e5292e40448579d3510"
   },
   "start_time": "2025-07-23T14:38:02.009251",
   "version": "2.6.0"
  }
 },
 "nbformat": 4,
 "nbformat_minor": 5
}