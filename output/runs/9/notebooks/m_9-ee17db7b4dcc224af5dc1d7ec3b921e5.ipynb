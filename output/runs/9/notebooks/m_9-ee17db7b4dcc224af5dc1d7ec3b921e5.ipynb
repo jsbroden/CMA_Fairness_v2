{
 "cells": [
  {
   "cell_type": "code",
   "execution_count": 1,
   "id": "f159f837-637b-42ba-96b5-ec9a68c44524",
   "metadata": {
    "execution": {
     "iopub.execute_input": "2025-07-23T14:33:58.380507Z",
     "iopub.status.busy": "2025-07-23T14:33:58.379624Z",
     "iopub.status.idle": "2025-07-23T14:33:58.393735Z",
     "shell.execute_reply": "2025-07-23T14:33:58.392409Z"
    },
    "papermill": {
     "duration": 0.033822,
     "end_time": "2025-07-23T14:33:58.395565",
     "exception": false,
     "start_time": "2025-07-23T14:33:58.361743",
     "status": "completed"
    },
    "tags": []
   },
   "outputs": [
    {
     "name": "stdout",
     "output_type": "stream",
     "text": [
      "/dss/dsshome1/0C/ra93lal2/cma/CMA_Fairness_v2\n"
     ]
    },
    {
     "name": "stderr",
     "output_type": "stream",
     "text": [
      "/dss/dsshome1/0C/ra93lal2/.local/share/virtualenvs/CMA_Fairness_v2-3j10GkSs/lib/python3.10/site-packages/IPython/core/magics/osm.py:393: UserWarning: This is now an optional IPython functionality, using bookmarks requires you to install the `pickleshare` library.\n",
      "  bkms = self.shell.db.get('bookmarks', {})\n",
      "/dss/dsshome1/0C/ra93lal2/.local/share/virtualenvs/CMA_Fairness_v2-3j10GkSs/lib/python3.10/site-packages/IPython/core/magics/osm.py:417: UserWarning: This is now an optional IPython functionality, setting dhist requires you to install the `pickleshare` library.\n",
      "  self.shell.db['dhist'] = compress_dhist(dhist)[-100:]\n"
     ]
    }
   ],
   "source": [
    "%cd ~/cma/CMA_Fairness_v2"
   ]
  },
  {
   "cell_type": "markdown",
   "id": "de2603b9",
   "metadata": {
    "papermill": {
     "duration": 0.015967,
     "end_time": "2025-07-23T14:33:58.429536",
     "exception": false,
     "start_time": "2025-07-23T14:33:58.413569",
     "status": "completed"
    },
    "tags": []
   },
   "source": [
    "The following cell holds the definition of our parameters, these values can be overriden by rendering the with e.g. the following command:\n",
    "\n",
    "papermill -p alpha 0.2 -p ratio 0.3 universe_analysis.ipynb output/test_run.ipynb"
   ]
  },
  {
   "cell_type": "code",
   "execution_count": 2,
   "id": "a80968a0-40bb-4fa9-85ef-2d5eefb01975",
   "metadata": {
    "execution": {
     "iopub.execute_input": "2025-07-23T14:33:58.465637Z",
     "iopub.status.busy": "2025-07-23T14:33:58.464665Z",
     "iopub.status.idle": "2025-07-23T14:33:58.470356Z",
     "shell.execute_reply": "2025-07-23T14:33:58.469292Z"
    },
    "papermill": {
     "duration": 0.02626,
     "end_time": "2025-07-23T14:33:58.471997",
     "exception": false,
     "start_time": "2025-07-23T14:33:58.445737",
     "status": "completed"
    },
    "tags": []
   },
   "outputs": [
    {
     "name": "stdout",
     "output_type": "stream",
     "text": [
      "Current working directory: /dss/dsshome1/0C/ra93lal2/cma/CMA_Fairness_v2\n"
     ]
    }
   ],
   "source": [
    "import os\n",
    "print(\"Current working directory:\", os.getcwd())"
   ]
  },
  {
   "cell_type": "code",
   "execution_count": 3,
   "id": "2dce4c03",
   "metadata": {
    "execution": {
     "iopub.execute_input": "2025-07-23T14:33:58.507494Z",
     "iopub.status.busy": "2025-07-23T14:33:58.506616Z",
     "iopub.status.idle": "2025-07-23T14:33:58.513526Z",
     "shell.execute_reply": "2025-07-23T14:33:58.512432Z"
    },
    "papermill": {
     "duration": 0.026758,
     "end_time": "2025-07-23T14:33:58.515453",
     "exception": false,
     "start_time": "2025-07-23T14:33:58.488695",
     "status": "completed"
    },
    "tags": [
     "parameters"
    ]
   },
   "outputs": [],
   "source": [
    "run_no = 0\n",
    "universe_id = \"test\"\n",
    "universe = {\n",
    "    \"scale\": \"scale\", # \"scale\", \"do-not-scale\",\n",
    "    \"model\": \"elasticnet\", # \"logreg\", \"penalized_logreg\", \"rf\", \"gbm\", \"elasticnet\"\n",
    "    \"cutoff\": [\"quantile_0.15\", \"quantile_0.30\"],\n",
    "    \"exclude_features\": \"age\", # \"none\", \"nationality\", \"sex\", \"nationality-sex\", \"age\"\n",
    "    \"exclude_subgroups\": \"keep-all\", # \"keep-all\", \"drop-non-german\"\n",
    "    #\"training_sample\": \"restricted\", # \"restricted\", \"full\"\n",
    "    \"eval_fairness_grouping\": [\"majority-minority\", \"nationality-all\"]\n",
    "}\n",
    "\n",
    "output_dir=\"./output\"\n",
    "seed=0"
   ]
  },
  {
   "cell_type": "code",
   "execution_count": 4,
   "id": "d935c448",
   "metadata": {
    "execution": {
     "iopub.execute_input": "2025-07-23T14:33:58.553265Z",
     "iopub.status.busy": "2025-07-23T14:33:58.552467Z",
     "iopub.status.idle": "2025-07-23T14:33:58.558973Z",
     "shell.execute_reply": "2025-07-23T14:33:58.558091Z"
    },
    "papermill": {
     "duration": 0.026404,
     "end_time": "2025-07-23T14:33:58.560860",
     "exception": false,
     "start_time": "2025-07-23T14:33:58.534456",
     "status": "completed"
    },
    "tags": [
     "injected-parameters"
    ]
   },
   "outputs": [],
   "source": [
    "# Parameters\n",
    "universe_id = \"ee17db7b4dcc224af5dc1d7ec3b921e5\"\n",
    "run_no = \"9\"\n",
    "universe = \"{\\\"cutoff\\\": [\\\"quantile_0.1\\\", \\\"quantile_0.25\\\"], \\\"eval_fairness_grouping\\\": [\\\"majority-minority\\\", \\\"nationality-all\\\"], \\\"exclude_features\\\": \\\"age\\\", \\\"exclude_subgroups\\\": \\\"drop-non-german\\\", \\\"model\\\": \\\"elasticnet\\\", \\\"scale\\\": \\\"scale\\\"}\"\n",
    "output_dir = \"output\"\n",
    "seed = \"2023\"\n"
   ]
  },
  {
   "cell_type": "code",
   "execution_count": 5,
   "id": "1650acaf",
   "metadata": {
    "execution": {
     "iopub.execute_input": "2025-07-23T14:33:58.596410Z",
     "iopub.status.busy": "2025-07-23T14:33:58.595412Z",
     "iopub.status.idle": "2025-07-23T14:33:58.600650Z",
     "shell.execute_reply": "2025-07-23T14:33:58.599762Z"
    },
    "papermill": {
     "duration": 0.024823,
     "end_time": "2025-07-23T14:33:58.602466",
     "exception": false,
     "start_time": "2025-07-23T14:33:58.577643",
     "status": "completed"
    },
    "tags": []
   },
   "outputs": [],
   "source": [
    "import json\n",
    "# Parse universe into dict if it is passed as a string\n",
    "if isinstance(universe, str):\n",
    "    universe = json.loads(universe)"
   ]
  },
  {
   "cell_type": "code",
   "execution_count": 6,
   "id": "16620c48",
   "metadata": {
    "execution": {
     "iopub.execute_input": "2025-07-23T14:33:58.637369Z",
     "iopub.status.busy": "2025-07-23T14:33:58.636517Z",
     "iopub.status.idle": "2025-07-23T14:33:58.684623Z",
     "shell.execute_reply": "2025-07-23T14:33:58.683712Z"
    },
    "papermill": {
     "duration": 0.067287,
     "end_time": "2025-07-23T14:33:58.686505",
     "exception": false,
     "start_time": "2025-07-23T14:33:58.619218",
     "status": "completed"
    },
    "tags": []
   },
   "outputs": [],
   "source": [
    "# Auto-reload the custom package\n",
    "%load_ext autoreload\n",
    "%autoreload 1\n",
    "%aimport fairness_multiverse"
   ]
  },
  {
   "cell_type": "code",
   "execution_count": 7,
   "id": "01c5c9f3",
   "metadata": {
    "execution": {
     "iopub.execute_input": "2025-07-23T14:33:58.722715Z",
     "iopub.status.busy": "2025-07-23T14:33:58.721858Z",
     "iopub.status.idle": "2025-07-23T14:34:00.643272Z",
     "shell.execute_reply": "2025-07-23T14:34:00.642414Z"
    },
    "papermill": {
     "duration": 1.941287,
     "end_time": "2025-07-23T14:34:00.644913",
     "exception": false,
     "start_time": "2025-07-23T14:33:58.703626",
     "status": "completed"
    },
    "tags": []
   },
   "outputs": [],
   "source": [
    "from fairness_multiverse.universe import UniverseAnalysis\n",
    "\n",
    "universe_analysis = UniverseAnalysis(\n",
    "    run_no = run_no,\n",
    "    universe_id = universe_id,\n",
    "    universe = universe,\n",
    "    output_dir=output_dir,\n",
    ")"
   ]
  },
  {
   "cell_type": "code",
   "execution_count": 8,
   "id": "106241f5",
   "metadata": {
    "execution": {
     "iopub.execute_input": "2025-07-23T14:34:00.665090Z",
     "iopub.status.busy": "2025-07-23T14:34:00.664711Z",
     "iopub.status.idle": "2025-07-23T14:34:00.671526Z",
     "shell.execute_reply": "2025-07-23T14:34:00.670790Z"
    },
    "papermill": {
     "duration": 0.018414,
     "end_time": "2025-07-23T14:34:00.673150",
     "exception": false,
     "start_time": "2025-07-23T14:34:00.654736",
     "status": "completed"
    },
    "tags": []
   },
   "outputs": [
    {
     "name": "stdout",
     "output_type": "stream",
     "text": [
      "Using Seed: 2023\n"
     ]
    }
   ],
   "source": [
    "import numpy as np\n",
    "parsed_seed = int(seed)\n",
    "np.random.seed(parsed_seed)\n",
    "print(f\"Using Seed: {parsed_seed}\")"
   ]
  },
  {
   "cell_type": "markdown",
   "id": "e0ebdc57",
   "metadata": {
    "papermill": {
     "duration": 0.009038,
     "end_time": "2025-07-23T14:34:00.691995",
     "exception": false,
     "start_time": "2025-07-23T14:34:00.682957",
     "status": "completed"
    },
    "tags": []
   },
   "source": [
    "# Loading Data"
   ]
  },
  {
   "cell_type": "markdown",
   "id": "681925a3",
   "metadata": {
    "papermill": {
     "duration": 0.009094,
     "end_time": "2025-07-23T14:34:00.710329",
     "exception": false,
     "start_time": "2025-07-23T14:34:00.701235",
     "status": "completed"
    },
    "tags": []
   },
   "source": [
    "Load siab_train, siab_test, siab_calib and/or \n",
    "load siab_train_features, siab_train_labels"
   ]
  },
  {
   "cell_type": "code",
   "execution_count": 9,
   "id": "f0496b8a",
   "metadata": {
    "execution": {
     "iopub.execute_input": "2025-07-23T14:34:00.730451Z",
     "iopub.status.busy": "2025-07-23T14:34:00.729686Z",
     "iopub.status.idle": "2025-07-23T14:34:00.734917Z",
     "shell.execute_reply": "2025-07-23T14:34:00.734141Z"
    },
    "papermill": {
     "duration": 0.016995,
     "end_time": "2025-07-23T14:34:00.736541",
     "exception": false,
     "start_time": "2025-07-23T14:34:00.719546",
     "status": "completed"
    },
    "tags": []
   },
   "outputs": [],
   "source": [
    "# Do I need to load siab? Delete this cell?\n",
    "\n",
    "#from pathlib import Path\n",
    "#import pandas as pd\n",
    "#\n",
    "## File paths\n",
    "#raw_file = Path(\"data/raw/siab.csv\")\n",
    "#cache_file = Path(\"data/siab_cached.csv.gz\")\n",
    "#\n",
    "## Ensure cache directory exists\n",
    "#cache_file.parent.mkdir(parents=True, exist_ok=True)\n",
    "#\n",
    "## Load with simple caching\n",
    "#if cache_file.exists():\n",
    "#    print(f\"Loading SIAB data from cache: {cache_file}\")\n",
    "#    siab = pd.read_csv(cache_file, compression='gzip')\n",
    "#else:\n",
    "#    print(f\"Cache not found. Reading raw SIAB data: {raw_file}\")\n",
    "#    siab = pd.read_csv(raw_file)\n",
    "#    siab.to_csv(cache_file, index=False, compression='gzip')\n",
    "#    print(f\"Cached SIAB data to: {cache_file}\")\n",
    "#\n",
    "## Now use `siab` DataFrame as needed\n",
    "#print(siab.shape)\n"
   ]
  },
  {
   "cell_type": "code",
   "execution_count": 10,
   "id": "a0edb063",
   "metadata": {
    "execution": {
     "iopub.execute_input": "2025-07-23T14:34:00.757109Z",
     "iopub.status.busy": "2025-07-23T14:34:00.756481Z",
     "iopub.status.idle": "2025-07-23T14:34:01.631402Z",
     "shell.execute_reply": "2025-07-23T14:34:01.630578Z"
    },
    "papermill": {
     "duration": 0.886446,
     "end_time": "2025-07-23T14:34:01.633030",
     "exception": false,
     "start_time": "2025-07-23T14:34:00.746584",
     "status": "completed"
    },
    "tags": []
   },
   "outputs": [],
   "source": [
    "import pandas as pd\n",
    "\n",
    "X_train = pd.read_csv(\"./data/X_train.csv\")\n",
    "y_train = pd.read_csv(\"./data/y_train.csv\")"
   ]
  },
  {
   "cell_type": "code",
   "execution_count": 11,
   "id": "63d08085",
   "metadata": {
    "execution": {
     "iopub.execute_input": "2025-07-23T14:34:01.653284Z",
     "iopub.status.busy": "2025-07-23T14:34:01.652944Z",
     "iopub.status.idle": "2025-07-23T14:34:02.769403Z",
     "shell.execute_reply": "2025-07-23T14:34:02.768585Z"
    },
    "papermill": {
     "duration": 1.128175,
     "end_time": "2025-07-23T14:34:02.770932",
     "exception": false,
     "start_time": "2025-07-23T14:34:01.642757",
     "status": "completed"
    },
    "tags": []
   },
   "outputs": [],
   "source": [
    "X_test = pd.read_csv(\"./data/X_test.csv\")\n",
    "y_true = pd.read_csv(\"./data/y_test.csv\")"
   ]
  },
  {
   "cell_type": "code",
   "execution_count": 12,
   "id": "98a8d0fa-1d3d-4ed8-bb2c-281470e24add",
   "metadata": {
    "execution": {
     "iopub.execute_input": "2025-07-23T14:34:02.791793Z",
     "iopub.status.busy": "2025-07-23T14:34:02.791260Z",
     "iopub.status.idle": "2025-07-23T14:34:03.958593Z",
     "shell.execute_reply": "2025-07-23T14:34:03.957612Z"
    },
    "papermill": {
     "duration": 1.179529,
     "end_time": "2025-07-23T14:34:03.960536",
     "exception": false,
     "start_time": "2025-07-23T14:34:02.781007",
     "status": "completed"
    },
    "tags": []
   },
   "outputs": [],
   "source": [
    "# Calibration data for conformal\n",
    "X_calib = pd.read_csv(\"./data/X_calib.csv\")\n",
    "y_calib = pd.read_csv(\"./data/y_calib.csv\")"
   ]
  },
  {
   "cell_type": "code",
   "execution_count": 13,
   "id": "e6c733c5",
   "metadata": {
    "execution": {
     "iopub.execute_input": "2025-07-23T14:34:03.998532Z",
     "iopub.status.busy": "2025-07-23T14:34:03.997706Z",
     "iopub.status.idle": "2025-07-23T14:34:04.165499Z",
     "shell.execute_reply": "2025-07-23T14:34:04.164112Z"
    },
    "papermill": {
     "duration": 0.189646,
     "end_time": "2025-07-23T14:34:04.167909",
     "exception": false,
     "start_time": "2025-07-23T14:34:03.978263",
     "status": "completed"
    },
    "tags": []
   },
   "outputs": [],
   "source": [
    "# Auxiliary data needed downstream in the pipeline\n",
    "\n",
    "org_train = X_train.copy()\n",
    "org_test = X_test.copy()\n",
    "org_calib = X_calib.copy()"
   ]
  },
  {
   "cell_type": "markdown",
   "id": "0a4a1b33",
   "metadata": {
    "papermill": {
     "duration": 0.018036,
     "end_time": "2025-07-23T14:34:04.203817",
     "exception": false,
     "start_time": "2025-07-23T14:34:04.185781",
     "status": "completed"
    },
    "tags": []
   },
   "source": [
    "# Preprocessing Data"
   ]
  },
  {
   "cell_type": "code",
   "execution_count": 14,
   "id": "ca879031",
   "metadata": {
    "execution": {
     "iopub.execute_input": "2025-07-23T14:34:04.240029Z",
     "iopub.status.busy": "2025-07-23T14:34:04.239460Z",
     "iopub.status.idle": "2025-07-23T14:34:04.246820Z",
     "shell.execute_reply": "2025-07-23T14:34:04.245866Z"
    },
    "papermill": {
     "duration": 0.027166,
     "end_time": "2025-07-23T14:34:04.248520",
     "exception": false,
     "start_time": "2025-07-23T14:34:04.221354",
     "status": "completed"
    },
    "tags": []
   },
   "outputs": [],
   "source": [
    "# EXCLUDE PROTECTED FEATURES\n",
    "# ----------------------\n",
    "# \"exclude_features\": \"none\", # \"nationality\", \"sex\", \"nationality-sex\"\n",
    "\n",
    "excluded_features = universe[\"exclude_features\"].split(\"-\") # split, e.g.: \"nationality-sex\" -> [\"nationality\", \"sex\"]\n",
    "excluded_features_dictionary = {\n",
    "    \"nationality\": [\"maxdeutsch1\", \"maxdeutsch.Missing.\"],\n",
    "    \"sex\": [\"frau1\"],\n",
    "    \"age\": [\"age\"],\n",
    "}\n"
   ]
  },
  {
   "cell_type": "code",
   "execution_count": 15,
   "id": "b745ac60",
   "metadata": {
    "execution": {
     "iopub.execute_input": "2025-07-23T14:34:04.284720Z",
     "iopub.status.busy": "2025-07-23T14:34:04.284216Z",
     "iopub.status.idle": "2025-07-23T14:34:04.290478Z",
     "shell.execute_reply": "2025-07-23T14:34:04.289379Z"
    },
    "papermill": {
     "duration": 0.026364,
     "end_time": "2025-07-23T14:34:04.292280",
     "exception": false,
     "start_time": "2025-07-23T14:34:04.265916",
     "status": "completed"
    },
    "tags": []
   },
   "outputs": [],
   "source": [
    "# Code nice names to column names\n",
    "\n",
    "excluded_features_columns = [\n",
    "    excluded_features_dictionary[f] for f in excluded_features if len(f) > 0 and f != \"none\"\n",
    "]"
   ]
  },
  {
   "cell_type": "code",
   "execution_count": 16,
   "id": "f84f73a2",
   "metadata": {
    "execution": {
     "iopub.execute_input": "2025-07-23T14:34:04.320785Z",
     "iopub.status.busy": "2025-07-23T14:34:04.320355Z",
     "iopub.status.idle": "2025-07-23T14:34:04.326663Z",
     "shell.execute_reply": "2025-07-23T14:34:04.325741Z"
    },
    "papermill": {
     "duration": 0.020808,
     "end_time": "2025-07-23T14:34:04.328103",
     "exception": false,
     "start_time": "2025-07-23T14:34:04.307295",
     "status": "completed"
    },
    "tags": []
   },
   "outputs": [],
   "source": [
    "from utils import flatten_once\n",
    "\n",
    "excluded_features_columns = flatten_once(excluded_features_columns)"
   ]
  },
  {
   "cell_type": "code",
   "execution_count": 17,
   "id": "884dea22",
   "metadata": {
    "execution": {
     "iopub.execute_input": "2025-07-23T14:34:04.350929Z",
     "iopub.status.busy": "2025-07-23T14:34:04.350086Z",
     "iopub.status.idle": "2025-07-23T14:34:04.396519Z",
     "shell.execute_reply": "2025-07-23T14:34:04.395485Z"
    },
    "papermill": {
     "duration": 0.059236,
     "end_time": "2025-07-23T14:34:04.398082",
     "exception": false,
     "start_time": "2025-07-23T14:34:04.338846",
     "status": "completed"
    },
    "tags": []
   },
   "outputs": [
    {
     "name": "stdout",
     "output_type": "stream",
     "text": [
      "Dropping features: ['age']\n"
     ]
    }
   ],
   "source": [
    "if len(excluded_features_columns) > 0:\n",
    "    print(f\"Dropping features: {excluded_features_columns}\")\n",
    "    X_train.drop(excluded_features_columns, axis=1, inplace=True)"
   ]
  },
  {
   "cell_type": "code",
   "execution_count": 18,
   "id": "95ab8b16",
   "metadata": {
    "execution": {
     "iopub.execute_input": "2025-07-23T14:34:04.420999Z",
     "iopub.status.busy": "2025-07-23T14:34:04.420418Z",
     "iopub.status.idle": "2025-07-23T14:34:04.473896Z",
     "shell.execute_reply": "2025-07-23T14:34:04.472880Z"
    },
    "papermill": {
     "duration": 0.066124,
     "end_time": "2025-07-23T14:34:04.475453",
     "exception": false,
     "start_time": "2025-07-23T14:34:04.409329",
     "status": "completed"
    },
    "tags": []
   },
   "outputs": [
    {
     "name": "stdout",
     "output_type": "stream",
     "text": [
      "Dropping features: ['age']\n"
     ]
    }
   ],
   "source": [
    "if len(excluded_features_columns) > 0:\n",
    "    print(f\"Dropping features: {excluded_features_columns}\")\n",
    "    X_test.drop(excluded_features_columns, axis=1, inplace=True)"
   ]
  },
  {
   "cell_type": "code",
   "execution_count": 19,
   "id": "1853aaf5-fb9f-46cb-a2b5-8ea4ae2237e4",
   "metadata": {
    "execution": {
     "iopub.execute_input": "2025-07-23T14:34:04.511702Z",
     "iopub.status.busy": "2025-07-23T14:34:04.511168Z",
     "iopub.status.idle": "2025-07-23T14:34:04.568992Z",
     "shell.execute_reply": "2025-07-23T14:34:04.567981Z"
    },
    "papermill": {
     "duration": 0.078532,
     "end_time": "2025-07-23T14:34:04.570829",
     "exception": false,
     "start_time": "2025-07-23T14:34:04.492297",
     "status": "completed"
    },
    "tags": []
   },
   "outputs": [
    {
     "name": "stdout",
     "output_type": "stream",
     "text": [
      "Dropping features: ['age']\n"
     ]
    }
   ],
   "source": [
    "if len(excluded_features_columns) > 0:\n",
    "    print(f\"Dropping features: {excluded_features_columns}\")\n",
    "    X_calib.drop(excluded_features_columns, axis=1, inplace=True)"
   ]
  },
  {
   "cell_type": "code",
   "execution_count": 20,
   "id": "76c4dc6d",
   "metadata": {
    "execution": {
     "iopub.execute_input": "2025-07-23T14:34:04.609510Z",
     "iopub.status.busy": "2025-07-23T14:34:04.608626Z",
     "iopub.status.idle": "2025-07-23T14:34:04.614299Z",
     "shell.execute_reply": "2025-07-23T14:34:04.613365Z"
    },
    "papermill": {
     "duration": 0.026939,
     "end_time": "2025-07-23T14:34:04.616094",
     "exception": false,
     "start_time": "2025-07-23T14:34:04.589155",
     "status": "completed"
    },
    "tags": []
   },
   "outputs": [],
   "source": [
    "# EXCLUDE CERTAIN SUBGROUPS\n",
    "# ----------------------\n",
    "\n",
    "mode = universe.get(\"exclude_subgroups\", \"keep-all\") \n",
    "# Fetches the exclude_subgroups setting from the universe dict.\n",
    "# Defaults to \"keep-all\" if the key is missing."
   ]
  },
  {
   "cell_type": "code",
   "execution_count": 21,
   "id": "21994072",
   "metadata": {
    "execution": {
     "iopub.execute_input": "2025-07-23T14:34:04.654504Z",
     "iopub.status.busy": "2025-07-23T14:34:04.653552Z",
     "iopub.status.idle": "2025-07-23T14:34:04.661183Z",
     "shell.execute_reply": "2025-07-23T14:34:04.659979Z"
    },
    "papermill": {
     "duration": 0.028526,
     "end_time": "2025-07-23T14:34:04.662906",
     "exception": false,
     "start_time": "2025-07-23T14:34:04.634380",
     "status": "completed"
    },
    "tags": []
   },
   "outputs": [],
   "source": [
    "if mode == \"keep-all\":\n",
    "    keep_mask = pd.Series(True, index=org_train.index)\n",
    "\n",
    "# org_train contains the original feature columns from features_org (in Simson)\n",
    "# features_org contains unprocessed features, for me X_train at beginning ???\n",
    "# For keep-all, creates a boolean Series (keep_mask) of all True, so no rows are removed.\n",
    "\n",
    "elif mode == \"drop-non-german\":\n",
    "    keep_mask = org_train[\"maxdeutsch1\"] == 1 # ??? what about missing values?\n",
    "\n",
    "else:\n",
    "    raise ValueError(f\"Unsupported mode for exclude_subgroups: {mode}\")\n"
   ]
  },
  {
   "cell_type": "code",
   "execution_count": 22,
   "id": "71651440",
   "metadata": {
    "execution": {
     "iopub.execute_input": "2025-07-23T14:34:04.702399Z",
     "iopub.status.busy": "2025-07-23T14:34:04.701698Z",
     "iopub.status.idle": "2025-07-23T14:34:04.709265Z",
     "shell.execute_reply": "2025-07-23T14:34:04.708212Z"
    },
    "papermill": {
     "duration": 0.029183,
     "end_time": "2025-07-23T14:34:04.710843",
     "exception": false,
     "start_time": "2025-07-23T14:34:04.681660",
     "status": "completed"
    },
    "tags": []
   },
   "outputs": [
    {
     "name": "stdout",
     "output_type": "stream",
     "text": [
      "Dropping 10036 rows (13.38%) where mode='drop-non-german'\n"
     ]
    }
   ],
   "source": [
    "n_drop = (~keep_mask).sum() # Calculates how many rows are set to be dropped\n",
    "if n_drop > 0:\n",
    "    pct = n_drop / len(keep_mask) * 100\n",
    "    print(f\"Dropping {n_drop} rows ({pct:.2f}%) where mode='{mode}'\")"
   ]
  },
  {
   "cell_type": "code",
   "execution_count": 23,
   "id": "5fb8eee5",
   "metadata": {
    "execution": {
     "iopub.execute_input": "2025-07-23T14:34:04.749654Z",
     "iopub.status.busy": "2025-07-23T14:34:04.749098Z",
     "iopub.status.idle": "2025-07-23T14:34:04.824029Z",
     "shell.execute_reply": "2025-07-23T14:34:04.822665Z"
    },
    "papermill": {
     "duration": 0.097248,
     "end_time": "2025-07-23T14:34:04.826255",
     "exception": false,
     "start_time": "2025-07-23T14:34:04.729007",
     "status": "completed"
    },
    "tags": []
   },
   "outputs": [],
   "source": [
    "X_train = X_train[keep_mask]"
   ]
  },
  {
   "cell_type": "code",
   "execution_count": 24,
   "id": "b202bb3a",
   "metadata": {
    "execution": {
     "iopub.execute_input": "2025-07-23T14:34:04.868635Z",
     "iopub.status.busy": "2025-07-23T14:34:04.867611Z",
     "iopub.status.idle": "2025-07-23T14:34:04.876928Z",
     "shell.execute_reply": "2025-07-23T14:34:04.875657Z"
    },
    "papermill": {
     "duration": 0.032509,
     "end_time": "2025-07-23T14:34:04.879080",
     "exception": false,
     "start_time": "2025-07-23T14:34:04.846571",
     "status": "completed"
    },
    "tags": []
   },
   "outputs": [],
   "source": [
    "y_train = y_train[keep_mask]"
   ]
  },
  {
   "cell_type": "markdown",
   "id": "493e2ac3",
   "metadata": {
    "papermill": {
     "duration": 0.018909,
     "end_time": "2025-07-23T14:34:04.917423",
     "exception": false,
     "start_time": "2025-07-23T14:34:04.898514",
     "status": "completed"
    },
    "tags": []
   },
   "source": [
    "# Model Training"
   ]
  },
  {
   "cell_type": "code",
   "execution_count": 25,
   "id": "679e1268",
   "metadata": {
    "execution": {
     "iopub.execute_input": "2025-07-23T14:34:04.957039Z",
     "iopub.status.busy": "2025-07-23T14:34:04.956522Z",
     "iopub.status.idle": "2025-07-23T14:34:05.066748Z",
     "shell.execute_reply": "2025-07-23T14:34:05.065795Z"
    },
    "papermill": {
     "duration": 0.134011,
     "end_time": "2025-07-23T14:34:05.070104",
     "exception": false,
     "start_time": "2025-07-23T14:34:04.936093",
     "status": "completed"
    },
    "tags": []
   },
   "outputs": [],
   "source": [
    "from sklearn.linear_model import LogisticRegression\n",
    "from sklearn.ensemble import GradientBoostingClassifier, RandomForestClassifier\n",
    "\n",
    "if (universe[\"model\"] == \"logreg\"):\n",
    "    model = LogisticRegression() #penalty=\"none\") #, solver=\"newton-cg\", max_iter=1) # include random_state=19 ?\n",
    "elif (universe[\"model\"] == \"penalized_logreg\"):\n",
    "    model = LogisticRegression(penalty=\"l2\", C=1.0) #, solver=\"newton-cg\", max_iter=1)\n",
    "elif (universe[\"model\"] == \"rf\"):\n",
    "    model = RandomForestClassifier(n_estimators=100, n_jobs=-1)\n",
    "elif (universe[\"model\"] == \"gbm\"):\n",
    "    model = GradientBoostingClassifier()\n",
    "elif (universe[\"model\"] == \"elasticnet\"):\n",
    "    model = LogisticRegression(penalty = 'elasticnet', solver = 'saga', l1_ratio = 0.5, max_iter=5000) # which solver to use?\n",
    "else:\n",
    "    raise \"Unsupported universe.model\""
   ]
  },
  {
   "cell_type": "code",
   "execution_count": 26,
   "id": "0cc8f744",
   "metadata": {
    "execution": {
     "iopub.execute_input": "2025-07-23T14:34:05.113995Z",
     "iopub.status.busy": "2025-07-23T14:34:05.113035Z",
     "iopub.status.idle": "2025-07-23T14:34:05.119896Z",
     "shell.execute_reply": "2025-07-23T14:34:05.118969Z"
    },
    "papermill": {
     "duration": 0.030487,
     "end_time": "2025-07-23T14:34:05.121847",
     "exception": false,
     "start_time": "2025-07-23T14:34:05.091360",
     "status": "completed"
    },
    "tags": []
   },
   "outputs": [],
   "source": [
    "import numpy as np\n",
    "from sklearn.pipeline import Pipeline\n",
    "from sklearn.preprocessing import StandardScaler\n",
    "\n",
    "model = Pipeline([\n",
    "    #(\"continuous_processor\", continuous_processor),\n",
    "    #(\"categorical_preprocessor\", categorical_preprocessor),\n",
    "    (\"scale\", StandardScaler() if universe[\"scale\"] == \"scale\" else None), \n",
    "    (\"model\", model),\n",
    "])"
   ]
  },
  {
   "cell_type": "code",
   "execution_count": 27,
   "id": "9442c04d",
   "metadata": {
    "execution": {
     "iopub.execute_input": "2025-07-23T14:34:05.161641Z",
     "iopub.status.busy": "2025-07-23T14:34:05.160721Z",
     "iopub.status.idle": "2025-07-23T14:34:33.858169Z",
     "shell.execute_reply": "2025-07-23T14:34:33.857202Z"
    },
    "papermill": {
     "duration": 28.718573,
     "end_time": "2025-07-23T14:34:33.859511",
     "exception": false,
     "start_time": "2025-07-23T14:34:05.140938",
     "status": "completed"
    },
    "tags": []
   },
   "outputs": [
    {
     "data": {
      "text/html": [
       "<style>#sk-container-id-1 {color: black;background-color: white;}#sk-container-id-1 pre{padding: 0;}#sk-container-id-1 div.sk-toggleable {background-color: white;}#sk-container-id-1 label.sk-toggleable__label {cursor: pointer;display: block;width: 100%;margin-bottom: 0;padding: 0.3em;box-sizing: border-box;text-align: center;}#sk-container-id-1 label.sk-toggleable__label-arrow:before {content: \"▸\";float: left;margin-right: 0.25em;color: #696969;}#sk-container-id-1 label.sk-toggleable__label-arrow:hover:before {color: black;}#sk-container-id-1 div.sk-estimator:hover label.sk-toggleable__label-arrow:before {color: black;}#sk-container-id-1 div.sk-toggleable__content {max-height: 0;max-width: 0;overflow: hidden;text-align: left;background-color: #f0f8ff;}#sk-container-id-1 div.sk-toggleable__content pre {margin: 0.2em;color: black;border-radius: 0.25em;background-color: #f0f8ff;}#sk-container-id-1 input.sk-toggleable__control:checked~div.sk-toggleable__content {max-height: 200px;max-width: 100%;overflow: auto;}#sk-container-id-1 input.sk-toggleable__control:checked~label.sk-toggleable__label-arrow:before {content: \"▾\";}#sk-container-id-1 div.sk-estimator input.sk-toggleable__control:checked~label.sk-toggleable__label {background-color: #d4ebff;}#sk-container-id-1 div.sk-label input.sk-toggleable__control:checked~label.sk-toggleable__label {background-color: #d4ebff;}#sk-container-id-1 input.sk-hidden--visually {border: 0;clip: rect(1px 1px 1px 1px);clip: rect(1px, 1px, 1px, 1px);height: 1px;margin: -1px;overflow: hidden;padding: 0;position: absolute;width: 1px;}#sk-container-id-1 div.sk-estimator {font-family: monospace;background-color: #f0f8ff;border: 1px dotted black;border-radius: 0.25em;box-sizing: border-box;margin-bottom: 0.5em;}#sk-container-id-1 div.sk-estimator:hover {background-color: #d4ebff;}#sk-container-id-1 div.sk-parallel-item::after {content: \"\";width: 100%;border-bottom: 1px solid gray;flex-grow: 1;}#sk-container-id-1 div.sk-label:hover label.sk-toggleable__label {background-color: #d4ebff;}#sk-container-id-1 div.sk-serial::before {content: \"\";position: absolute;border-left: 1px solid gray;box-sizing: border-box;top: 0;bottom: 0;left: 50%;z-index: 0;}#sk-container-id-1 div.sk-serial {display: flex;flex-direction: column;align-items: center;background-color: white;padding-right: 0.2em;padding-left: 0.2em;position: relative;}#sk-container-id-1 div.sk-item {position: relative;z-index: 1;}#sk-container-id-1 div.sk-parallel {display: flex;align-items: stretch;justify-content: center;background-color: white;position: relative;}#sk-container-id-1 div.sk-item::before, #sk-container-id-1 div.sk-parallel-item::before {content: \"\";position: absolute;border-left: 1px solid gray;box-sizing: border-box;top: 0;bottom: 0;left: 50%;z-index: -1;}#sk-container-id-1 div.sk-parallel-item {display: flex;flex-direction: column;z-index: 1;position: relative;background-color: white;}#sk-container-id-1 div.sk-parallel-item:first-child::after {align-self: flex-end;width: 50%;}#sk-container-id-1 div.sk-parallel-item:last-child::after {align-self: flex-start;width: 50%;}#sk-container-id-1 div.sk-parallel-item:only-child::after {width: 0;}#sk-container-id-1 div.sk-dashed-wrapped {border: 1px dashed gray;margin: 0 0.4em 0.5em 0.4em;box-sizing: border-box;padding-bottom: 0.4em;background-color: white;}#sk-container-id-1 div.sk-label label {font-family: monospace;font-weight: bold;display: inline-block;line-height: 1.2em;}#sk-container-id-1 div.sk-label-container {text-align: center;}#sk-container-id-1 div.sk-container {/* jupyter's `normalize.less` sets `[hidden] { display: none; }` but bootstrap.min.css set `[hidden] { display: none !important; }` so we also need the `!important` here to be able to override the default hidden behavior on the sphinx rendered scikit-learn.org. See: https://github.com/scikit-learn/scikit-learn/issues/21755 */display: inline-block !important;position: relative;}#sk-container-id-1 div.sk-text-repr-fallback {display: none;}</style><div id=\"sk-container-id-1\" class=\"sk-top-container\"><div class=\"sk-text-repr-fallback\"><pre>Pipeline(steps=[(&#x27;scale&#x27;, StandardScaler()),\n",
       "                (&#x27;model&#x27;,\n",
       "                 LogisticRegression(l1_ratio=0.5, max_iter=5000,\n",
       "                                    penalty=&#x27;elasticnet&#x27;, solver=&#x27;saga&#x27;))])</pre><b>In a Jupyter environment, please rerun this cell to show the HTML representation or trust the notebook. <br />On GitHub, the HTML representation is unable to render, please try loading this page with nbviewer.org.</b></div><div class=\"sk-container\" hidden><div class=\"sk-item sk-dashed-wrapped\"><div class=\"sk-label-container\"><div class=\"sk-label sk-toggleable\"><input class=\"sk-toggleable__control sk-hidden--visually\" id=\"sk-estimator-id-1\" type=\"checkbox\" ><label for=\"sk-estimator-id-1\" class=\"sk-toggleable__label sk-toggleable__label-arrow\">Pipeline</label><div class=\"sk-toggleable__content\"><pre>Pipeline(steps=[(&#x27;scale&#x27;, StandardScaler()),\n",
       "                (&#x27;model&#x27;,\n",
       "                 LogisticRegression(l1_ratio=0.5, max_iter=5000,\n",
       "                                    penalty=&#x27;elasticnet&#x27;, solver=&#x27;saga&#x27;))])</pre></div></div></div><div class=\"sk-serial\"><div class=\"sk-item\"><div class=\"sk-estimator sk-toggleable\"><input class=\"sk-toggleable__control sk-hidden--visually\" id=\"sk-estimator-id-2\" type=\"checkbox\" ><label for=\"sk-estimator-id-2\" class=\"sk-toggleable__label sk-toggleable__label-arrow\">StandardScaler</label><div class=\"sk-toggleable__content\"><pre>StandardScaler()</pre></div></div></div><div class=\"sk-item\"><div class=\"sk-estimator sk-toggleable\"><input class=\"sk-toggleable__control sk-hidden--visually\" id=\"sk-estimator-id-3\" type=\"checkbox\" ><label for=\"sk-estimator-id-3\" class=\"sk-toggleable__label sk-toggleable__label-arrow\">LogisticRegression</label><div class=\"sk-toggleable__content\"><pre>LogisticRegression(l1_ratio=0.5, max_iter=5000, penalty=&#x27;elasticnet&#x27;,\n",
       "                   solver=&#x27;saga&#x27;)</pre></div></div></div></div></div></div></div>"
      ],
      "text/plain": [
       "Pipeline(steps=[('scale', StandardScaler()),\n",
       "                ('model',\n",
       "                 LogisticRegression(l1_ratio=0.5, max_iter=5000,\n",
       "                                    penalty='elasticnet', solver='saga'))])"
      ]
     },
     "execution_count": 27,
     "metadata": {},
     "output_type": "execute_result"
    }
   ],
   "source": [
    "model.fit(X_train, y_train.values.ravel())"
   ]
  },
  {
   "cell_type": "code",
   "execution_count": 28,
   "id": "af59f8c0",
   "metadata": {
    "execution": {
     "iopub.execute_input": "2025-07-23T14:34:33.886045Z",
     "iopub.status.busy": "2025-07-23T14:34:33.885202Z",
     "iopub.status.idle": "2025-07-23T14:34:33.891278Z",
     "shell.execute_reply": "2025-07-23T14:34:33.890014Z"
    },
    "papermill": {
     "duration": 0.020669,
     "end_time": "2025-07-23T14:34:33.893593",
     "exception": false,
     "start_time": "2025-07-23T14:34:33.872924",
     "status": "completed"
    },
    "tags": []
   },
   "outputs": [],
   "source": [
    "from fairness_multiverse.universe import predict_w_threshold"
   ]
  },
  {
   "cell_type": "code",
   "execution_count": 29,
   "id": "a7cf2e16",
   "metadata": {
    "execution": {
     "iopub.execute_input": "2025-07-23T14:34:33.938895Z",
     "iopub.status.busy": "2025-07-23T14:34:33.937787Z",
     "iopub.status.idle": "2025-07-23T14:34:34.158422Z",
     "shell.execute_reply": "2025-07-23T14:34:34.157240Z"
    },
    "papermill": {
     "duration": 0.245616,
     "end_time": "2025-07-23T14:34:34.160810",
     "exception": false,
     "start_time": "2025-07-23T14:34:33.915194",
     "status": "completed"
    },
    "tags": []
   },
   "outputs": [
    {
     "data": {
      "text/plain": [
       "0.8601270761342102"
      ]
     },
     "execution_count": 29,
     "metadata": {},
     "output_type": "execute_result"
    }
   ],
   "source": [
    "probs_test = model.predict_proba(X_test)\n",
    "\n",
    "'''\n",
    "Below code returns a boolean array (or binary 0/1 array depending on how it’s used) where each element \n",
    "is True if the probability of class 1 is greater than or equal to the threshold, and False otherwise.\n",
    "'''\n",
    "y_pred_default = predict_w_threshold(probs_test, 0.5)\n",
    "\n",
    "from sklearn.metrics import accuracy_score\n",
    "\n",
    "# Naive prediction\n",
    "accuracy_score(y_true = y_true, y_pred = y_pred_default)"
   ]
  },
  {
   "cell_type": "code",
   "execution_count": 30,
   "id": "081964c3",
   "metadata": {
    "execution": {
     "iopub.execute_input": "2025-07-23T14:34:34.205652Z",
     "iopub.status.busy": "2025-07-23T14:34:34.204615Z",
     "iopub.status.idle": "2025-07-23T14:34:34.405467Z",
     "shell.execute_reply": "2025-07-23T14:34:34.404342Z"
    },
    "papermill": {
     "duration": 0.225688,
     "end_time": "2025-07-23T14:34:34.407545",
     "exception": false,
     "start_time": "2025-07-23T14:34:34.181857",
     "status": "completed"
    },
    "tags": []
   },
   "outputs": [
    {
     "data": {
      "text/plain": [
       "array([0, 0, 0, ..., 0, 0, 0])"
      ]
     },
     "execution_count": 30,
     "metadata": {},
     "output_type": "execute_result"
    }
   ],
   "source": [
    "model.predict(X_test)"
   ]
  },
  {
   "cell_type": "markdown",
   "id": "56c9705b",
   "metadata": {
    "papermill": {
     "duration": 0.013265,
     "end_time": "2025-07-23T14:34:34.445132",
     "exception": false,
     "start_time": "2025-07-23T14:34:34.431867",
     "status": "completed"
    },
    "tags": []
   },
   "source": [
    "# Conformal Prediction"
   ]
  },
  {
   "cell_type": "code",
   "execution_count": 31,
   "id": "160ec6ff",
   "metadata": {
    "execution": {
     "iopub.execute_input": "2025-07-23T14:34:34.468869Z",
     "iopub.status.busy": "2025-07-23T14:34:34.468276Z",
     "iopub.status.idle": "2025-07-23T14:34:34.474331Z",
     "shell.execute_reply": "2025-07-23T14:34:34.473176Z"
    },
    "papermill": {
     "duration": 0.020151,
     "end_time": "2025-07-23T14:34:34.476252",
     "exception": false,
     "start_time": "2025-07-23T14:34:34.456101",
     "status": "completed"
    },
    "tags": []
   },
   "outputs": [],
   "source": [
    "# Miscoverage level for conformal prediction (10% allowed error rate => 90% target coverage)\n",
    "alpha = 0.1"
   ]
  },
  {
   "cell_type": "code",
   "execution_count": 32,
   "id": "eadf4555-3dd3-440e-8e35-f82a4ad9f855",
   "metadata": {
    "execution": {
     "iopub.execute_input": "2025-07-23T14:34:34.518875Z",
     "iopub.status.busy": "2025-07-23T14:34:34.518319Z",
     "iopub.status.idle": "2025-07-23T14:34:34.710242Z",
     "shell.execute_reply": "2025-07-23T14:34:34.709095Z"
    },
    "papermill": {
     "duration": 0.217874,
     "end_time": "2025-07-23T14:34:34.712611",
     "exception": false,
     "start_time": "2025-07-23T14:34:34.494737",
     "status": "completed"
    },
    "tags": []
   },
   "outputs": [],
   "source": [
    "probs_calib = model.predict_proba(X_calib)"
   ]
  },
  {
   "cell_type": "code",
   "execution_count": 33,
   "id": "2ed93547-6d5d-4983-9b36-1ecb300da49a",
   "metadata": {
    "execution": {
     "iopub.execute_input": "2025-07-23T14:34:34.760001Z",
     "iopub.status.busy": "2025-07-23T14:34:34.759224Z",
     "iopub.status.idle": "2025-07-23T14:34:34.766579Z",
     "shell.execute_reply": "2025-07-23T14:34:34.765548Z"
    },
    "papermill": {
     "duration": 0.033295,
     "end_time": "2025-07-23T14:34:34.768643",
     "exception": false,
     "start_time": "2025-07-23T14:34:34.735348",
     "status": "completed"
    },
    "tags": []
   },
   "outputs": [],
   "source": [
    "y_calib = y_calib.values.ravel().astype(int)"
   ]
  },
  {
   "cell_type": "code",
   "execution_count": 34,
   "id": "65d1320d-f588-4b38-9072-62af1ae97f7d",
   "metadata": {
    "execution": {
     "iopub.execute_input": "2025-07-23T14:34:34.817445Z",
     "iopub.status.busy": "2025-07-23T14:34:34.816449Z",
     "iopub.status.idle": "2025-07-23T14:34:34.825307Z",
     "shell.execute_reply": "2025-07-23T14:34:34.824460Z"
    },
    "papermill": {
     "duration": 0.034866,
     "end_time": "2025-07-23T14:34:34.826999",
     "exception": false,
     "start_time": "2025-07-23T14:34:34.792133",
     "status": "completed"
    },
    "tags": []
   },
   "outputs": [],
   "source": [
    "from fairness_multiverse.conformal import compute_nc_scores\n",
    "\n",
    "# Compute nonconformity scores on calibration set (1 - probability of true class)\n",
    "nc_scores = compute_nc_scores(probs_calib, y_calib)"
   ]
  },
  {
   "cell_type": "code",
   "execution_count": 35,
   "id": "df3b8ca3-53b7-43d5-9667-7c85da7aeda2",
   "metadata": {
    "execution": {
     "iopub.execute_input": "2025-07-23T14:34:34.851355Z",
     "iopub.status.busy": "2025-07-23T14:34:34.850799Z",
     "iopub.status.idle": "2025-07-23T14:34:34.857034Z",
     "shell.execute_reply": "2025-07-23T14:34:34.856183Z"
    },
    "papermill": {
     "duration": 0.019766,
     "end_time": "2025-07-23T14:34:34.858542",
     "exception": false,
     "start_time": "2025-07-23T14:34:34.838776",
     "status": "completed"
    },
    "tags": []
   },
   "outputs": [],
   "source": [
    "from fairness_multiverse.conformal import find_threshold\n",
    "\n",
    "# Find conformal threshold q_hat for the given alpha (split conformal method)\n",
    "q_hat = find_threshold(nc_scores, alpha)"
   ]
  },
  {
   "cell_type": "code",
   "execution_count": 36,
   "id": "4d29e6c1-0ef6-4aa4-b8fe-4fe79b0d033a",
   "metadata": {
    "execution": {
     "iopub.execute_input": "2025-07-23T14:34:34.885377Z",
     "iopub.status.busy": "2025-07-23T14:34:34.884607Z",
     "iopub.status.idle": "2025-07-23T14:34:34.891484Z",
     "shell.execute_reply": "2025-07-23T14:34:34.890590Z"
    },
    "papermill": {
     "duration": 0.021036,
     "end_time": "2025-07-23T14:34:34.893087",
     "exception": false,
     "start_time": "2025-07-23T14:34:34.872051",
     "status": "completed"
    },
    "tags": []
   },
   "outputs": [
    {
     "data": {
      "text/plain": [
       "0.6645300692394815"
      ]
     },
     "execution_count": 36,
     "metadata": {},
     "output_type": "execute_result"
    }
   ],
   "source": [
    "q_hat"
   ]
  },
  {
   "cell_type": "code",
   "execution_count": 37,
   "id": "92460794-cdac-4be2-ba28-f28c0515a6fb",
   "metadata": {
    "execution": {
     "iopub.execute_input": "2025-07-23T14:34:34.918164Z",
     "iopub.status.busy": "2025-07-23T14:34:34.917611Z",
     "iopub.status.idle": "2025-07-23T14:34:35.789799Z",
     "shell.execute_reply": "2025-07-23T14:34:35.788358Z"
    },
    "papermill": {
     "duration": 0.88657,
     "end_time": "2025-07-23T14:34:35.791838",
     "exception": false,
     "start_time": "2025-07-23T14:34:34.905268",
     "status": "completed"
    },
    "tags": []
   },
   "outputs": [],
   "source": [
    "from fairness_multiverse.conformal import predict_conformal_sets\n",
    "\n",
    "# Generate prediction sets for each test example\n",
    "pred_sets = predict_conformal_sets(model, X_test, q_hat)"
   ]
  },
  {
   "cell_type": "code",
   "execution_count": 38,
   "id": "d90c9a65-e6db-4f5d-80cd-e68fb7e46829",
   "metadata": {
    "execution": {
     "iopub.execute_input": "2025-07-23T14:34:35.839546Z",
     "iopub.status.busy": "2025-07-23T14:34:35.839155Z",
     "iopub.status.idle": "2025-07-23T14:34:35.845215Z",
     "shell.execute_reply": "2025-07-23T14:34:35.844089Z"
    },
    "papermill": {
     "duration": 0.038162,
     "end_time": "2025-07-23T14:34:35.852868",
     "exception": false,
     "start_time": "2025-07-23T14:34:35.814706",
     "status": "completed"
    },
    "tags": []
   },
   "outputs": [],
   "source": [
    "y_true = y_true.squeeze()"
   ]
  },
  {
   "cell_type": "code",
   "execution_count": 39,
   "id": "3a58a54a-1e68-46b9-927a-df01f18aebc8",
   "metadata": {
    "execution": {
     "iopub.execute_input": "2025-07-23T14:34:35.896446Z",
     "iopub.status.busy": "2025-07-23T14:34:35.895975Z",
     "iopub.status.idle": "2025-07-23T14:34:36.661151Z",
     "shell.execute_reply": "2025-07-23T14:34:36.660305Z"
    },
    "papermill": {
     "duration": 0.788641,
     "end_time": "2025-07-23T14:34:36.662747",
     "exception": false,
     "start_time": "2025-07-23T14:34:35.874106",
     "status": "completed"
    },
    "tags": []
   },
   "outputs": [],
   "source": [
    "from fairness_multiverse.conformal import evaluate_sets\n",
    "\n",
    "# Evaluate coverage and average set size on test data\n",
    "metrics = evaluate_sets(pred_sets, y_true)"
   ]
  },
  {
   "cell_type": "code",
   "execution_count": 40,
   "id": "5ce0a5cb-201f-45a0-ade5-94c7f0bd6095",
   "metadata": {
    "execution": {
     "iopub.execute_input": "2025-07-23T14:34:36.686549Z",
     "iopub.status.busy": "2025-07-23T14:34:36.686228Z",
     "iopub.status.idle": "2025-07-23T14:34:36.692812Z",
     "shell.execute_reply": "2025-07-23T14:34:36.692010Z"
    },
    "papermill": {
     "duration": 0.019907,
     "end_time": "2025-07-23T14:34:36.694370",
     "exception": false,
     "start_time": "2025-07-23T14:34:36.674463",
     "status": "completed"
    },
    "tags": []
   },
   "outputs": [
    {
     "data": {
      "text/plain": [
       "{'coverage': 0.9111581763460038, 'avg_size': 1.1261397837476312}"
      ]
     },
     "execution_count": 40,
     "metadata": {},
     "output_type": "execute_result"
    }
   ],
   "source": [
    "metrics"
   ]
  },
  {
   "cell_type": "code",
   "execution_count": 41,
   "id": "9b9a838d-31c9-430b-ae14-12baee460d17",
   "metadata": {
    "execution": {
     "iopub.execute_input": "2025-07-23T14:34:36.718715Z",
     "iopub.status.busy": "2025-07-23T14:34:36.718129Z",
     "iopub.status.idle": "2025-07-23T14:34:36.723610Z",
     "shell.execute_reply": "2025-07-23T14:34:36.722735Z"
    },
    "papermill": {
     "duration": 0.018959,
     "end_time": "2025-07-23T14:34:36.725168",
     "exception": false,
     "start_time": "2025-07-23T14:34:36.706209",
     "status": "completed"
    },
    "tags": []
   },
   "outputs": [],
   "source": [
    "example_universe = universe.copy()\n",
    "universe_model = example_universe.get(\"model\")\n",
    "universe_exclude_features = example_universe.get(\"exclude_features\")\n",
    "universe_exclude_subgroups = example_universe.get(\"exclude_subgroups\")\n",
    "universe_scale = example_universe.get(\"scale\")"
   ]
  },
  {
   "cell_type": "code",
   "execution_count": 42,
   "id": "f4b6a8ac-9dc0-4245-8a91-5b3b5999c4f9",
   "metadata": {
    "execution": {
     "iopub.execute_input": "2025-07-23T14:34:36.749934Z",
     "iopub.status.busy": "2025-07-23T14:34:36.749383Z",
     "iopub.status.idle": "2025-07-23T14:34:36.754568Z",
     "shell.execute_reply": "2025-07-23T14:34:36.753683Z"
    },
    "papermill": {
     "duration": 0.018617,
     "end_time": "2025-07-23T14:34:36.756074",
     "exception": false,
     "start_time": "2025-07-23T14:34:36.737457",
     "status": "completed"
    },
    "tags": []
   },
   "outputs": [],
   "source": [
    "cp_metrics_dict = {\n",
    "    \"universe_id\": [universe_id],\n",
    "    \"universe_model\": [universe_model],\n",
    "    \"universe_exclude_features\": [universe_exclude_features],\n",
    "    \"universe_exclude_subgroups\": [universe_exclude_subgroups],\n",
    "    \"universe_scale\": [universe_scale],\n",
    "    \"q_hat\": [q_hat],\n",
    "    \"coverage\": [metrics[\"coverage\"]],\n",
    "    \"avg_size\": [metrics[\"avg_size\"]],\n",
    "}"
   ]
  },
  {
   "cell_type": "code",
   "execution_count": 43,
   "id": "908acbb1-0371-4915-85ca-3fa520d2efe2",
   "metadata": {
    "execution": {
     "iopub.execute_input": "2025-07-23T14:34:36.781621Z",
     "iopub.status.busy": "2025-07-23T14:34:36.780894Z",
     "iopub.status.idle": "2025-07-23T14:34:36.788064Z",
     "shell.execute_reply": "2025-07-23T14:34:36.787244Z"
    },
    "papermill": {
     "duration": 0.021209,
     "end_time": "2025-07-23T14:34:36.789590",
     "exception": false,
     "start_time": "2025-07-23T14:34:36.768381",
     "status": "completed"
    },
    "tags": []
   },
   "outputs": [
    {
     "data": {
      "text/plain": [
       "{'universe_id': ['ee17db7b4dcc224af5dc1d7ec3b921e5'],\n",
       " 'universe_model': ['elasticnet'],\n",
       " 'universe_exclude_features': ['age'],\n",
       " 'universe_exclude_subgroups': ['drop-non-german'],\n",
       " 'universe_scale': ['scale'],\n",
       " 'q_hat': [0.6645300692394815],\n",
       " 'coverage': [0.9111581763460038],\n",
       " 'avg_size': [1.1261397837476312]}"
      ]
     },
     "execution_count": 43,
     "metadata": {},
     "output_type": "execute_result"
    }
   ],
   "source": [
    "cp_metrics_dict"
   ]
  },
  {
   "cell_type": "code",
   "execution_count": 44,
   "id": "33007efc-14e9-4ec6-97ac-56a455c82265",
   "metadata": {
    "execution": {
     "iopub.execute_input": "2025-07-23T14:34:36.814745Z",
     "iopub.status.busy": "2025-07-23T14:34:36.814154Z",
     "iopub.status.idle": "2025-07-23T14:34:36.819835Z",
     "shell.execute_reply": "2025-07-23T14:34:36.818935Z"
    },
    "papermill": {
     "duration": 0.019411,
     "end_time": "2025-07-23T14:34:36.821406",
     "exception": false,
     "start_time": "2025-07-23T14:34:36.801995",
     "status": "completed"
    },
    "tags": []
   },
   "outputs": [],
   "source": [
    "cp_metrics_df = pd.DataFrame(cp_metrics_dict)"
   ]
  },
  {
   "cell_type": "code",
   "execution_count": 45,
   "id": "db12611b-57b2-4910-b9d0-355adfd6e7bf",
   "metadata": {
    "execution": {
     "iopub.execute_input": "2025-07-23T14:34:36.856334Z",
     "iopub.status.busy": "2025-07-23T14:34:36.855758Z",
     "iopub.status.idle": "2025-07-23T14:34:36.870629Z",
     "shell.execute_reply": "2025-07-23T14:34:36.869750Z"
    },
    "papermill": {
     "duration": 0.037275,
     "end_time": "2025-07-23T14:34:36.872183",
     "exception": false,
     "start_time": "2025-07-23T14:34:36.834908",
     "status": "completed"
    },
    "tags": []
   },
   "outputs": [
    {
     "data": {
      "text/html": [
       "<div>\n",
       "<style scoped>\n",
       "    .dataframe tbody tr th:only-of-type {\n",
       "        vertical-align: middle;\n",
       "    }\n",
       "\n",
       "    .dataframe tbody tr th {\n",
       "        vertical-align: top;\n",
       "    }\n",
       "\n",
       "    .dataframe thead th {\n",
       "        text-align: right;\n",
       "    }\n",
       "</style>\n",
       "<table border=\"1\" class=\"dataframe\">\n",
       "  <thead>\n",
       "    <tr style=\"text-align: right;\">\n",
       "      <th></th>\n",
       "      <th>universe_id</th>\n",
       "      <th>universe_model</th>\n",
       "      <th>universe_exclude_features</th>\n",
       "      <th>universe_exclude_subgroups</th>\n",
       "      <th>universe_scale</th>\n",
       "      <th>q_hat</th>\n",
       "      <th>coverage</th>\n",
       "      <th>avg_size</th>\n",
       "    </tr>\n",
       "  </thead>\n",
       "  <tbody>\n",
       "    <tr>\n",
       "      <th>0</th>\n",
       "      <td>ee17db7b4dcc224af5dc1d7ec3b921e5</td>\n",
       "      <td>elasticnet</td>\n",
       "      <td>age</td>\n",
       "      <td>drop-non-german</td>\n",
       "      <td>scale</td>\n",
       "      <td>0.66453</td>\n",
       "      <td>0.911158</td>\n",
       "      <td>1.12614</td>\n",
       "    </tr>\n",
       "  </tbody>\n",
       "</table>\n",
       "</div>"
      ],
      "text/plain": [
       "                        universe_id universe_model universe_exclude_features  \\\n",
       "0  ee17db7b4dcc224af5dc1d7ec3b921e5     elasticnet                       age   \n",
       "\n",
       "  universe_exclude_subgroups universe_scale    q_hat  coverage  avg_size  \n",
       "0            drop-non-german          scale  0.66453  0.911158   1.12614  "
      ]
     },
     "execution_count": 45,
     "metadata": {},
     "output_type": "execute_result"
    }
   ],
   "source": [
    "cp_metrics_df"
   ]
  },
  {
   "cell_type": "code",
   "execution_count": 46,
   "id": "b7fbde55-a0a1-47e4-9af6-fe4a17fa8c61",
   "metadata": {
    "execution": {
     "iopub.execute_input": "2025-07-23T14:34:36.897239Z",
     "iopub.status.busy": "2025-07-23T14:34:36.896795Z",
     "iopub.status.idle": "2025-07-23T14:34:36.901185Z",
     "shell.execute_reply": "2025-07-23T14:34:36.900365Z"
    },
    "papermill": {
     "duration": 0.018149,
     "end_time": "2025-07-23T14:34:36.902650",
     "exception": false,
     "start_time": "2025-07-23T14:34:36.884501",
     "status": "completed"
    },
    "tags": []
   },
   "outputs": [],
   "source": [
    "# Conditional Coverage & looking at subgroups"
   ]
  },
  {
   "cell_type": "code",
   "execution_count": 47,
   "id": "027ae886-68dd-4141-96c7-805a5450e1ef",
   "metadata": {
    "execution": {
     "iopub.execute_input": "2025-07-23T14:34:36.927970Z",
     "iopub.status.busy": "2025-07-23T14:34:36.927534Z",
     "iopub.status.idle": "2025-07-23T14:34:37.119814Z",
     "shell.execute_reply": "2025-07-23T14:34:37.118962Z"
    },
    "papermill": {
     "duration": 0.206398,
     "end_time": "2025-07-23T14:34:37.121483",
     "exception": false,
     "start_time": "2025-07-23T14:34:36.915085",
     "status": "completed"
    },
    "tags": []
   },
   "outputs": [],
   "source": [
    "from fairness_multiverse.conformal import build_cp_groups\n",
    "\n",
    "cp_groups_df = build_cp_groups(pred_sets, y_true, X_test.index, org_test)\n",
    "#needs universe_id and setting"
   ]
  },
  {
   "cell_type": "code",
   "execution_count": 48,
   "id": "c3b92545-903e-4839-89af-0f057907d7d6",
   "metadata": {
    "execution": {
     "iopub.execute_input": "2025-07-23T14:34:37.163184Z",
     "iopub.status.busy": "2025-07-23T14:34:37.162682Z",
     "iopub.status.idle": "2025-07-23T14:34:39.112420Z",
     "shell.execute_reply": "2025-07-23T14:34:39.111176Z"
    },
    "papermill": {
     "duration": 1.976958,
     "end_time": "2025-07-23T14:34:39.114643",
     "exception": false,
     "start_time": "2025-07-23T14:34:37.137685",
     "status": "completed"
    },
    "tags": []
   },
   "outputs": [],
   "source": [
    "# Define covered = 1 if true_label is in the predicted set\n",
    "cp_groups_df['covered'] = cp_groups_df.apply(\n",
    "    lambda r: int(r['true_label'] in r['pred_set']),\n",
    "    axis=1\n",
    ")"
   ]
  },
  {
   "cell_type": "code",
   "execution_count": 49,
   "id": "338ff529-1a6b-4b87-a931-8e4788d52aad",
   "metadata": {
    "execution": {
     "iopub.execute_input": "2025-07-23T14:34:39.162736Z",
     "iopub.status.busy": "2025-07-23T14:34:39.162169Z",
     "iopub.status.idle": "2025-07-23T14:34:39.168446Z",
     "shell.execute_reply": "2025-07-23T14:34:39.167254Z"
    },
    "papermill": {
     "duration": 0.031781,
     "end_time": "2025-07-23T14:34:39.170493",
     "exception": false,
     "start_time": "2025-07-23T14:34:39.138712",
     "status": "completed"
    },
    "tags": []
   },
   "outputs": [],
   "source": [
    "#cp_groups_df"
   ]
  },
  {
   "cell_type": "code",
   "execution_count": 50,
   "id": "90032e27-66df-4540-9169-4e89cfbaa758",
   "metadata": {
    "execution": {
     "iopub.execute_input": "2025-07-23T14:34:39.218772Z",
     "iopub.status.busy": "2025-07-23T14:34:39.217985Z",
     "iopub.status.idle": "2025-07-23T14:34:39.232318Z",
     "shell.execute_reply": "2025-07-23T14:34:39.231178Z"
    },
    "papermill": {
     "duration": 0.039315,
     "end_time": "2025-07-23T14:34:39.234138",
     "exception": false,
     "start_time": "2025-07-23T14:34:39.194823",
     "status": "completed"
    },
    "tags": []
   },
   "outputs": [],
   "source": [
    "subgroups = ['frau1','nongerman','nongerman_male','nongerman_female']\n",
    "\n",
    "# Conditional coverage for subgroup==1\n",
    "cond_coverage = {\n",
    "    g: cp_groups_df.loc[cp_groups_df[g]==1, 'covered'].mean()\n",
    "    for g in subgroups\n",
    "}"
   ]
  },
  {
   "cell_type": "code",
   "execution_count": 51,
   "id": "1e348fb1-b9c3-45bc-ba23-f016827a7e0d",
   "metadata": {
    "execution": {
     "iopub.execute_input": "2025-07-23T14:34:39.282621Z",
     "iopub.status.busy": "2025-07-23T14:34:39.281746Z",
     "iopub.status.idle": "2025-07-23T14:34:39.290232Z",
     "shell.execute_reply": "2025-07-23T14:34:39.289013Z"
    },
    "papermill": {
     "duration": 0.033931,
     "end_time": "2025-07-23T14:34:39.292190",
     "exception": false,
     "start_time": "2025-07-23T14:34:39.258259",
     "status": "completed"
    },
    "tags": []
   },
   "outputs": [
    {
     "data": {
      "text/plain": [
       "{'frau1': 0.9100148267960642,\n",
       " 'nongerman': 0.9062482456632797,\n",
       " 'nongerman_male': 0.9234441142033685,\n",
       " 'nongerman_female': 0.8777943368107303}"
      ]
     },
     "execution_count": 51,
     "metadata": {},
     "output_type": "execute_result"
    }
   ],
   "source": [
    "cond_coverage"
   ]
  },
  {
   "cell_type": "code",
   "execution_count": 52,
   "id": "f5093324-c3dd-4d63-bc4c-8d945e5c8bbb",
   "metadata": {
    "execution": {
     "iopub.execute_input": "2025-07-23T14:34:39.341126Z",
     "iopub.status.busy": "2025-07-23T14:34:39.340275Z",
     "iopub.status.idle": "2025-07-23T14:34:39.349293Z",
     "shell.execute_reply": "2025-07-23T14:34:39.348076Z"
    },
    "papermill": {
     "duration": 0.034421,
     "end_time": "2025-07-23T14:34:39.351322",
     "exception": false,
     "start_time": "2025-07-23T14:34:39.316901",
     "status": "completed"
    },
    "tags": []
   },
   "outputs": [],
   "source": [
    "for subgroup, cov in cond_coverage.items():\n",
    "    cp_metrics_df[f\"cov_{subgroup}\"] = cov"
   ]
  },
  {
   "cell_type": "code",
   "execution_count": 53,
   "id": "6e872e10-dbe5-49e8-b554-5030c98ff75d",
   "metadata": {
    "execution": {
     "iopub.execute_input": "2025-07-23T14:34:39.400508Z",
     "iopub.status.busy": "2025-07-23T14:34:39.399636Z",
     "iopub.status.idle": "2025-07-23T14:34:39.421120Z",
     "shell.execute_reply": "2025-07-23T14:34:39.419917Z"
    },
    "papermill": {
     "duration": 0.047012,
     "end_time": "2025-07-23T14:34:39.423032",
     "exception": false,
     "start_time": "2025-07-23T14:34:39.376020",
     "status": "completed"
    },
    "tags": []
   },
   "outputs": [
    {
     "data": {
      "text/html": [
       "<div>\n",
       "<style scoped>\n",
       "    .dataframe tbody tr th:only-of-type {\n",
       "        vertical-align: middle;\n",
       "    }\n",
       "\n",
       "    .dataframe tbody tr th {\n",
       "        vertical-align: top;\n",
       "    }\n",
       "\n",
       "    .dataframe thead th {\n",
       "        text-align: right;\n",
       "    }\n",
       "</style>\n",
       "<table border=\"1\" class=\"dataframe\">\n",
       "  <thead>\n",
       "    <tr style=\"text-align: right;\">\n",
       "      <th></th>\n",
       "      <th>universe_id</th>\n",
       "      <th>universe_model</th>\n",
       "      <th>universe_exclude_features</th>\n",
       "      <th>universe_exclude_subgroups</th>\n",
       "      <th>universe_scale</th>\n",
       "      <th>q_hat</th>\n",
       "      <th>coverage</th>\n",
       "      <th>avg_size</th>\n",
       "      <th>cov_frau1</th>\n",
       "      <th>cov_nongerman</th>\n",
       "      <th>cov_nongerman_male</th>\n",
       "      <th>cov_nongerman_female</th>\n",
       "    </tr>\n",
       "  </thead>\n",
       "  <tbody>\n",
       "    <tr>\n",
       "      <th>0</th>\n",
       "      <td>ee17db7b4dcc224af5dc1d7ec3b921e5</td>\n",
       "      <td>elasticnet</td>\n",
       "      <td>age</td>\n",
       "      <td>drop-non-german</td>\n",
       "      <td>scale</td>\n",
       "      <td>0.66453</td>\n",
       "      <td>0.911158</td>\n",
       "      <td>1.12614</td>\n",
       "      <td>0.910015</td>\n",
       "      <td>0.906248</td>\n",
       "      <td>0.923444</td>\n",
       "      <td>0.877794</td>\n",
       "    </tr>\n",
       "  </tbody>\n",
       "</table>\n",
       "</div>"
      ],
      "text/plain": [
       "                        universe_id universe_model universe_exclude_features  \\\n",
       "0  ee17db7b4dcc224af5dc1d7ec3b921e5     elasticnet                       age   \n",
       "\n",
       "  universe_exclude_subgroups universe_scale    q_hat  coverage  avg_size  \\\n",
       "0            drop-non-german          scale  0.66453  0.911158   1.12614   \n",
       "\n",
       "   cov_frau1  cov_nongerman  cov_nongerman_male  cov_nongerman_female  \n",
       "0   0.910015       0.906248            0.923444              0.877794  "
      ]
     },
     "execution_count": 53,
     "metadata": {},
     "output_type": "execute_result"
    }
   ],
   "source": [
    "cp_metrics_df"
   ]
  },
  {
   "cell_type": "markdown",
   "id": "33774451",
   "metadata": {
    "papermill": {
     "duration": 0.025679,
     "end_time": "2025-07-23T14:34:39.475082",
     "exception": false,
     "start_time": "2025-07-23T14:34:39.449403",
     "status": "completed"
    },
    "tags": []
   },
   "source": [
    "# (Fairness) Metrics"
   ]
  },
  {
   "cell_type": "code",
   "execution_count": 54,
   "id": "debc5d62",
   "metadata": {
    "execution": {
     "iopub.execute_input": "2025-07-23T14:34:39.527001Z",
     "iopub.status.busy": "2025-07-23T14:34:39.526466Z",
     "iopub.status.idle": "2025-07-23T14:34:39.548871Z",
     "shell.execute_reply": "2025-07-23T14:34:39.547841Z"
    },
    "papermill": {
     "duration": 0.050425,
     "end_time": "2025-07-23T14:34:39.550555",
     "exception": false,
     "start_time": "2025-07-23T14:34:39.500130",
     "status": "completed"
    },
    "tags": []
   },
   "outputs": [],
   "source": [
    "# do I need to include maxdeutsch1.missing?\n",
    "\n",
    "import numpy as np\n",
    "\n",
    "colname_to_bin = \"maxdeutsch1\"\n",
    "majority_value = org_train[colname_to_bin].mode()[0]\n",
    "\n",
    "org_test[\"majmin\"] = np.where(org_test[colname_to_bin] == majority_value, \"majority\", \"minority\")"
   ]
  },
  {
   "cell_type": "code",
   "execution_count": 55,
   "id": "06a50de5",
   "metadata": {
    "execution": {
     "iopub.execute_input": "2025-07-23T14:34:39.596263Z",
     "iopub.status.busy": "2025-07-23T14:34:39.595788Z",
     "iopub.status.idle": "2025-07-23T14:34:41.839322Z",
     "shell.execute_reply": "2025-07-23T14:34:41.838253Z"
    },
    "papermill": {
     "duration": 2.270003,
     "end_time": "2025-07-23T14:34:41.841664",
     "exception": false,
     "start_time": "2025-07-23T14:34:39.571661",
     "status": "completed"
    },
    "tags": []
   },
   "outputs": [],
   "source": [
    "example_universe = universe.copy()\n",
    "example_universe[\"cutoff\"] = example_universe[\"cutoff\"][0]\n",
    "example_universe[\"eval_fairness_grouping\"] = example_universe[\"eval_fairness_grouping\"][0]\n",
    "fairness_dict, metric_frame = universe_analysis.compute_metrics(\n",
    "    example_universe,\n",
    "    y_pred_prob=probs_test,\n",
    "    y_test=y_true,\n",
    "    org_test=org_test,\n",
    ")"
   ]
  },
  {
   "cell_type": "markdown",
   "id": "f95d4e02",
   "metadata": {
    "papermill": {
     "duration": 0.027472,
     "end_time": "2025-07-23T14:34:41.897021",
     "exception": false,
     "start_time": "2025-07-23T14:34:41.869549",
     "status": "completed"
    },
    "tags": []
   },
   "source": [
    "# Overall"
   ]
  },
  {
   "cell_type": "markdown",
   "id": "bdee4871",
   "metadata": {
    "papermill": {
     "duration": 0.012581,
     "end_time": "2025-07-23T14:34:41.927210",
     "exception": false,
     "start_time": "2025-07-23T14:34:41.914629",
     "status": "completed"
    },
    "tags": []
   },
   "source": [
    "Fairness\n",
    "Main fairness target: Equalized Odds. Seems to be a better fit than equal opportunity, since we're not only interested in Y = 1. Seems to be a better fit than demographic parity, since we also care about accuracy, not just equal distribution of preds.\n",
    "\n",
    "Pick column for computation of fairness metrics\n",
    "\n",
    "Performance\n",
    "Overall performance measures, most interesting in relation to the measures split by group below"
   ]
  },
  {
   "cell_type": "code",
   "execution_count": 56,
   "id": "c4e067c6",
   "metadata": {
    "execution": {
     "iopub.execute_input": "2025-07-23T14:34:41.958632Z",
     "iopub.status.busy": "2025-07-23T14:34:41.958013Z",
     "iopub.status.idle": "2025-07-23T14:34:41.965963Z",
     "shell.execute_reply": "2025-07-23T14:34:41.965045Z"
    },
    "papermill": {
     "duration": 0.027676,
     "end_time": "2025-07-23T14:34:41.967389",
     "exception": false,
     "start_time": "2025-07-23T14:34:41.939713",
     "status": "completed"
    },
    "tags": []
   },
   "outputs": [
    {
     "data": {
      "text/plain": [
       "accuracy                   0.225538\n",
       "balanced accuracy          0.551227\n",
       "f1                         0.246837\n",
       "precision                  0.141010\n",
       "false positive rate        0.886857\n",
       "false negative rate        0.010688\n",
       "selection rate             0.900000\n",
       "count                  89710.000000\n",
       "dtype: float64"
      ]
     },
     "execution_count": 56,
     "metadata": {},
     "output_type": "execute_result"
    }
   ],
   "source": [
    "metric_frame.overall"
   ]
  },
  {
   "cell_type": "markdown",
   "id": "e968fe9d",
   "metadata": {
    "papermill": {
     "duration": 0.013329,
     "end_time": "2025-07-23T14:34:41.994703",
     "exception": false,
     "start_time": "2025-07-23T14:34:41.981374",
     "status": "completed"
    },
    "tags": []
   },
   "source": [
    "By Group"
   ]
  },
  {
   "cell_type": "code",
   "execution_count": 57,
   "id": "ec325bce",
   "metadata": {
    "execution": {
     "iopub.execute_input": "2025-07-23T14:34:42.046964Z",
     "iopub.status.busy": "2025-07-23T14:34:42.046109Z",
     "iopub.status.idle": "2025-07-23T14:34:42.069087Z",
     "shell.execute_reply": "2025-07-23T14:34:42.068049Z"
    },
    "papermill": {
     "duration": 0.051051,
     "end_time": "2025-07-23T14:34:42.071016",
     "exception": false,
     "start_time": "2025-07-23T14:34:42.019965",
     "status": "completed"
    },
    "tags": []
   },
   "outputs": [
    {
     "data": {
      "text/html": [
       "<div>\n",
       "<style scoped>\n",
       "    .dataframe tbody tr th:only-of-type {\n",
       "        vertical-align: middle;\n",
       "    }\n",
       "\n",
       "    .dataframe tbody tr th {\n",
       "        vertical-align: top;\n",
       "    }\n",
       "\n",
       "    .dataframe thead th {\n",
       "        text-align: right;\n",
       "    }\n",
       "</style>\n",
       "<table border=\"1\" class=\"dataframe\">\n",
       "  <thead>\n",
       "    <tr style=\"text-align: right;\">\n",
       "      <th></th>\n",
       "      <th>accuracy</th>\n",
       "      <th>balanced accuracy</th>\n",
       "      <th>f1</th>\n",
       "      <th>precision</th>\n",
       "      <th>false positive rate</th>\n",
       "      <th>false negative rate</th>\n",
       "      <th>selection rate</th>\n",
       "      <th>count</th>\n",
       "    </tr>\n",
       "    <tr>\n",
       "      <th>majmin</th>\n",
       "      <th></th>\n",
       "      <th></th>\n",
       "      <th></th>\n",
       "      <th></th>\n",
       "      <th></th>\n",
       "      <th></th>\n",
       "      <th></th>\n",
       "      <th></th>\n",
       "    </tr>\n",
       "  </thead>\n",
       "  <tbody>\n",
       "    <tr>\n",
       "      <th>majority</th>\n",
       "      <td>0.246523</td>\n",
       "      <td>0.560938</td>\n",
       "      <td>0.257409</td>\n",
       "      <td>0.147975</td>\n",
       "      <td>0.866417</td>\n",
       "      <td>0.011707</td>\n",
       "      <td>0.882521</td>\n",
       "      <td>69170.0</td>\n",
       "    </tr>\n",
       "    <tr>\n",
       "      <th>minority</th>\n",
       "      <td>0.154869</td>\n",
       "      <td>0.519431</td>\n",
       "      <td>0.213208</td>\n",
       "      <td>0.119421</td>\n",
       "      <td>0.954380</td>\n",
       "      <td>0.006757</td>\n",
       "      <td>0.958861</td>\n",
       "      <td>20540.0</td>\n",
       "    </tr>\n",
       "  </tbody>\n",
       "</table>\n",
       "</div>"
      ],
      "text/plain": [
       "          accuracy  balanced accuracy        f1  precision  \\\n",
       "majmin                                                       \n",
       "majority  0.246523           0.560938  0.257409   0.147975   \n",
       "minority  0.154869           0.519431  0.213208   0.119421   \n",
       "\n",
       "          false positive rate  false negative rate  selection rate    count  \n",
       "majmin                                                                       \n",
       "majority             0.866417             0.011707        0.882521  69170.0  \n",
       "minority             0.954380             0.006757        0.958861  20540.0  "
      ]
     },
     "execution_count": 57,
     "metadata": {},
     "output_type": "execute_result"
    }
   ],
   "source": [
    "metric_frame.by_group"
   ]
  },
  {
   "cell_type": "code",
   "execution_count": 58,
   "id": "a9ddbe63",
   "metadata": {
    "execution": {
     "iopub.execute_input": "2025-07-23T14:34:42.125474Z",
     "iopub.status.busy": "2025-07-23T14:34:42.124966Z",
     "iopub.status.idle": "2025-07-23T14:34:44.688828Z",
     "shell.execute_reply": "2025-07-23T14:34:44.687750Z"
    },
    "papermill": {
     "duration": 2.593758,
     "end_time": "2025-07-23T14:34:44.690743",
     "exception": false,
     "start_time": "2025-07-23T14:34:42.096985",
     "status": "completed"
    },
    "tags": []
   },
   "outputs": [
    {
     "data": {
      "text/plain": [
       "array([[<Axes: title={'center': 'accuracy'}, xlabel='majmin'>,\n",
       "        <Axes: title={'center': 'balanced accuracy'}, xlabel='majmin'>,\n",
       "        <Axes: title={'center': 'f1'}, xlabel='majmin'>],\n",
       "       [<Axes: title={'center': 'precision'}, xlabel='majmin'>,\n",
       "        <Axes: title={'center': 'false positive rate'}, xlabel='majmin'>,\n",
       "        <Axes: title={'center': 'false negative rate'}, xlabel='majmin'>],\n",
       "       [<Axes: title={'center': 'selection rate'}, xlabel='majmin'>,\n",
       "        <Axes: title={'center': 'count'}, xlabel='majmin'>,\n",
       "        <Axes: xlabel='majmin'>]], dtype=object)"
      ]
     },
     "execution_count": 58,
     "metadata": {},
     "output_type": "execute_result"
    },
    {
     "data": {
      "image/png": "[encoded data removed]",
      "text/plain": [
       "<Figure size 1200x800 with 9 Axes>"
      ]
     },
     "metadata": {},
     "output_type": "display_data"
    }
   ],
   "source": [
    "# In a graphic\n",
    "metric_frame.by_group.plot.bar(\n",
    "    subplots=True,\n",
    "    layout=[3, 3],\n",
    "    legend=False,\n",
    "    figsize=[12, 8],\n",
    "    title=\"Show all metrics\",\n",
    ")"
   ]
  },
  {
   "cell_type": "markdown",
   "id": "f57a0bac",
   "metadata": {
    "papermill": {
     "duration": 0.028977,
     "end_time": "2025-07-23T14:34:44.749716",
     "exception": false,
     "start_time": "2025-07-23T14:34:44.720739",
     "status": "completed"
    },
    "tags": []
   },
   "source": [
    "# Final Output"
   ]
  },
  {
   "cell_type": "code",
   "execution_count": 59,
   "id": "96d280a3",
   "metadata": {
    "execution": {
     "iopub.execute_input": "2025-07-23T14:34:44.805424Z",
     "iopub.status.busy": "2025-07-23T14:34:44.804337Z",
     "iopub.status.idle": "2025-07-23T14:34:44.812494Z",
     "shell.execute_reply": "2025-07-23T14:34:44.811501Z"
    },
    "papermill": {
     "duration": 0.035114,
     "end_time": "2025-07-23T14:34:44.814138",
     "exception": false,
     "start_time": "2025-07-23T14:34:44.779024",
     "status": "completed"
    },
    "tags": []
   },
   "outputs": [
    {
     "data": {
      "text/plain": [
       "4"
      ]
     },
     "execution_count": 59,
     "metadata": {},
     "output_type": "execute_result"
    }
   ],
   "source": [
    "sub_universes = universe_analysis.generate_sub_universes()\n",
    "len(sub_universes)"
   ]
  },
  {
   "cell_type": "code",
   "execution_count": 60,
   "id": "92adf7ba",
   "metadata": {
    "execution": {
     "iopub.execute_input": "2025-07-23T14:34:44.866375Z",
     "iopub.status.busy": "2025-07-23T14:34:44.865902Z",
     "iopub.status.idle": "2025-07-23T14:34:44.872656Z",
     "shell.execute_reply": "2025-07-23T14:34:44.871537Z"
    },
    "papermill": {
     "duration": 0.035811,
     "end_time": "2025-07-23T14:34:44.874734",
     "exception": false,
     "start_time": "2025-07-23T14:34:44.838923",
     "status": "completed"
    },
    "tags": []
   },
   "outputs": [],
   "source": [
    "def filter_sub_universe_data(sub_universe, org_test):\n",
    "    # Keep all rows — no filtering\n",
    "    keep_rows_mask = np.ones(org_test.shape[0], dtype=bool)\n",
    "\n",
    "    print(f\"[INFO] Keeping all rows: {keep_rows_mask.sum()} rows retained.\")\n",
    "    return keep_rows_mask"
   ]
  },
  {
   "cell_type": "code",
   "execution_count": 61,
   "id": "4a759155",
   "metadata": {
    "execution": {
     "iopub.execute_input": "2025-07-23T14:34:44.925004Z",
     "iopub.status.busy": "2025-07-23T14:34:44.924474Z",
     "iopub.status.idle": "2025-07-23T14:34:54.530550Z",
     "shell.execute_reply": "2025-07-23T14:34:54.529243Z"
    },
    "papermill": {
     "duration": 9.633324,
     "end_time": "2025-07-23T14:34:54.532975",
     "exception": false,
     "start_time": "2025-07-23T14:34:44.899651",
     "status": "completed"
    },
    "tags": []
   },
   "outputs": [
    {
     "name": "stdout",
     "output_type": "stream",
     "text": [
      "Stopping execution_time clock.\n",
      "[INFO] Keeping all rows: 89710 rows retained.\n"
     ]
    },
    {
     "name": "stdout",
     "output_type": "stream",
     "text": [
      "[INFO] Keeping all rows: 89710 rows retained.\n"
     ]
    },
    {
     "name": "stdout",
     "output_type": "stream",
     "text": [
      "[INFO] Keeping all rows: 89710 rows retained.\n"
     ]
    },
    {
     "name": "stdout",
     "output_type": "stream",
     "text": [
      "[INFO] Keeping all rows: 89710 rows retained.\n"
     ]
    },
    {
     "data": {
      "text/html": [
       "<div>\n",
       "<style scoped>\n",
       "    .dataframe tbody tr th:only-of-type {\n",
       "        vertical-align: middle;\n",
       "    }\n",
       "\n",
       "    .dataframe tbody tr th {\n",
       "        vertical-align: top;\n",
       "    }\n",
       "\n",
       "    .dataframe thead th {\n",
       "        text-align: right;\n",
       "    }\n",
       "</style>\n",
       "<table border=\"1\" class=\"dataframe\">\n",
       "  <thead>\n",
       "    <tr style=\"text-align: right;\">\n",
       "      <th></th>\n",
       "      <th>run_no</th>\n",
       "      <th>universe_id</th>\n",
       "      <th>universe_settings</th>\n",
       "      <th>execution_time</th>\n",
       "      <th>test_size_n</th>\n",
       "      <th>test_size_frac</th>\n",
       "      <th>fair_main_equalized_odds_difference</th>\n",
       "      <th>fair_main_equalized_odds_ratio</th>\n",
       "      <th>fair_main_demographic_parity_difference</th>\n",
       "      <th>fair_main_demographic_parity_ratio</th>\n",
       "      <th>...</th>\n",
       "      <th>perf_grp_precision_0</th>\n",
       "      <th>perf_grp_precision_1</th>\n",
       "      <th>perf_grp_false positive rate_0</th>\n",
       "      <th>perf_grp_false positive rate_1</th>\n",
       "      <th>perf_grp_false negative rate_0</th>\n",
       "      <th>perf_grp_false negative rate_1</th>\n",
       "      <th>perf_grp_selection rate_0</th>\n",
       "      <th>perf_grp_selection rate_1</th>\n",
       "      <th>perf_grp_count_0</th>\n",
       "      <th>perf_grp_count_1</th>\n",
       "    </tr>\n",
       "  </thead>\n",
       "  <tbody>\n",
       "    <tr>\n",
       "      <th>0</th>\n",
       "      <td>9</td>\n",
       "      <td>ee17db7b4dcc224af5dc1d7ec3b921e5</td>\n",
       "      <td>{\"cutoff\": \"quantile_0.1\", \"eval_fairness_grou...</td>\n",
       "      <td>44.322091</td>\n",
       "      <td>89710</td>\n",
       "      <td>1.0</td>\n",
       "      <td>0.087964</td>\n",
       "      <td>0.907832</td>\n",
       "      <td>0.076339</td>\n",
       "      <td>0.920385</td>\n",
       "      <td>...</td>\n",
       "      <td>NaN</td>\n",
       "      <td>NaN</td>\n",
       "      <td>NaN</td>\n",
       "      <td>NaN</td>\n",
       "      <td>NaN</td>\n",
       "      <td>NaN</td>\n",
       "      <td>NaN</td>\n",
       "      <td>NaN</td>\n",
       "      <td>NaN</td>\n",
       "      <td>NaN</td>\n",
       "    </tr>\n",
       "    <tr>\n",
       "      <th>0</th>\n",
       "      <td>9</td>\n",
       "      <td>ee17db7b4dcc224af5dc1d7ec3b921e5</td>\n",
       "      <td>{\"cutoff\": \"quantile_0.1\", \"eval_fairness_grou...</td>\n",
       "      <td>44.322091</td>\n",
       "      <td>89710</td>\n",
       "      <td>1.0</td>\n",
       "      <td>0.087964</td>\n",
       "      <td>0.907832</td>\n",
       "      <td>0.076339</td>\n",
       "      <td>0.920385</td>\n",
       "      <td>...</td>\n",
       "      <td>0.119421</td>\n",
       "      <td>0.147975</td>\n",
       "      <td>0.954380</td>\n",
       "      <td>0.866417</td>\n",
       "      <td>0.006757</td>\n",
       "      <td>0.011707</td>\n",
       "      <td>0.958861</td>\n",
       "      <td>0.882521</td>\n",
       "      <td>20540.0</td>\n",
       "      <td>69170.0</td>\n",
       "    </tr>\n",
       "    <tr>\n",
       "      <th>0</th>\n",
       "      <td>9</td>\n",
       "      <td>ee17db7b4dcc224af5dc1d7ec3b921e5</td>\n",
       "      <td>{\"cutoff\": \"quantile_0.25\", \"eval_fairness_gro...</td>\n",
       "      <td>44.322091</td>\n",
       "      <td>89710</td>\n",
       "      <td>1.0</td>\n",
       "      <td>0.161699</td>\n",
       "      <td>0.808536</td>\n",
       "      <td>0.140310</td>\n",
       "      <td>0.836503</td>\n",
       "      <td>...</td>\n",
       "      <td>NaN</td>\n",
       "      <td>NaN</td>\n",
       "      <td>NaN</td>\n",
       "      <td>NaN</td>\n",
       "      <td>NaN</td>\n",
       "      <td>NaN</td>\n",
       "      <td>NaN</td>\n",
       "      <td>NaN</td>\n",
       "      <td>NaN</td>\n",
       "      <td>NaN</td>\n",
       "    </tr>\n",
       "    <tr>\n",
       "      <th>0</th>\n",
       "      <td>9</td>\n",
       "      <td>ee17db7b4dcc224af5dc1d7ec3b921e5</td>\n",
       "      <td>{\"cutoff\": \"quantile_0.25\", \"eval_fairness_gro...</td>\n",
       "      <td>44.322091</td>\n",
       "      <td>89710</td>\n",
       "      <td>1.0</td>\n",
       "      <td>0.161699</td>\n",
       "      <td>0.808536</td>\n",
       "      <td>0.140310</td>\n",
       "      <td>0.836503</td>\n",
       "      <td>...</td>\n",
       "      <td>0.129347</td>\n",
       "      <td>0.174484</td>\n",
       "      <td>0.844541</td>\n",
       "      <td>0.682842</td>\n",
       "      <td>0.037162</td>\n",
       "      <td>0.052079</td>\n",
       "      <td>0.858179</td>\n",
       "      <td>0.717869</td>\n",
       "      <td>20540.0</td>\n",
       "      <td>69170.0</td>\n",
       "    </tr>\n",
       "  </tbody>\n",
       "</table>\n",
       "<p>4 rows × 50 columns</p>\n",
       "</div>"
      ],
      "text/plain": [
       "  run_no                       universe_id  \\\n",
       "0      9  ee17db7b4dcc224af5dc1d7ec3b921e5   \n",
       "0      9  ee17db7b4dcc224af5dc1d7ec3b921e5   \n",
       "0      9  ee17db7b4dcc224af5dc1d7ec3b921e5   \n",
       "0      9  ee17db7b4dcc224af5dc1d7ec3b921e5   \n",
       "\n",
       "                                   universe_settings  execution_time  \\\n",
       "0  {\"cutoff\": \"quantile_0.1\", \"eval_fairness_grou...       44.322091   \n",
       "0  {\"cutoff\": \"quantile_0.1\", \"eval_fairness_grou...       44.322091   \n",
       "0  {\"cutoff\": \"quantile_0.25\", \"eval_fairness_gro...       44.322091   \n",
       "0  {\"cutoff\": \"quantile_0.25\", \"eval_fairness_gro...       44.322091   \n",
       "\n",
       "   test_size_n  test_size_frac  fair_main_equalized_odds_difference  \\\n",
       "0        89710             1.0                             0.087964   \n",
       "0        89710             1.0                             0.087964   \n",
       "0        89710             1.0                             0.161699   \n",
       "0        89710             1.0                             0.161699   \n",
       "\n",
       "   fair_main_equalized_odds_ratio  fair_main_demographic_parity_difference  \\\n",
       "0                        0.907832                                 0.076339   \n",
       "0                        0.907832                                 0.076339   \n",
       "0                        0.808536                                 0.140310   \n",
       "0                        0.808536                                 0.140310   \n",
       "\n",
       "   fair_main_demographic_parity_ratio  ...  perf_grp_precision_0  \\\n",
       "0                            0.920385  ...                   NaN   \n",
       "0                            0.920385  ...              0.119421   \n",
       "0                            0.836503  ...                   NaN   \n",
       "0                            0.836503  ...              0.129347   \n",
       "\n",
       "   perf_grp_precision_1  perf_grp_false positive rate_0  \\\n",
       "0                   NaN                             NaN   \n",
       "0              0.147975                        0.954380   \n",
       "0                   NaN                             NaN   \n",
       "0              0.174484                        0.844541   \n",
       "\n",
       "   perf_grp_false positive rate_1  perf_grp_false negative rate_0  \\\n",
       "0                             NaN                             NaN   \n",
       "0                        0.866417                        0.006757   \n",
       "0                             NaN                             NaN   \n",
       "0                        0.682842                        0.037162   \n",
       "\n",
       "   perf_grp_false negative rate_1  perf_grp_selection rate_0  \\\n",
       "0                             NaN                        NaN   \n",
       "0                        0.011707                   0.958861   \n",
       "0                             NaN                        NaN   \n",
       "0                        0.052079                   0.858179   \n",
       "\n",
       "   perf_grp_selection rate_1  perf_grp_count_0  perf_grp_count_1  \n",
       "0                        NaN               NaN               NaN  \n",
       "0                   0.882521           20540.0           69170.0  \n",
       "0                        NaN               NaN               NaN  \n",
       "0                   0.717869           20540.0           69170.0  \n",
       "\n",
       "[4 rows x 50 columns]"
      ]
     },
     "execution_count": 61,
     "metadata": {},
     "output_type": "execute_result"
    }
   ],
   "source": [
    "final_output = universe_analysis.generate_final_output(\n",
    "    y_pred_prob=probs_test,\n",
    "    y_test=y_true,\n",
    "    org_test=org_test,\n",
    "    filter_data=filter_sub_universe_data,\n",
    "    cp_metrics_df=cp_metrics_df,\n",
    "    save=True,\n",
    ")\n",
    "final_output"
   ]
  },
  {
   "cell_type": "code",
   "execution_count": null,
   "id": "721ff514-cb11-46f8-b6fc-50392f74b5cb",
   "metadata": {
    "papermill": {
     "duration": 0.029632,
     "end_time": "2025-07-23T14:34:54.594028",
     "exception": false,
     "start_time": "2025-07-23T14:34:54.564396",
     "status": "completed"
    },
    "tags": []
   },
   "outputs": [],
   "source": []
  }
 ],
 "metadata": {
  "celltoolbar": "Tags",
  "kernelspec": {
   "display_name": "Python (CMA Fairness)",
   "language": "python",
   "name": "cma_fair_env"
  },
  "language_info": {
   "codemirror_mode": {
    "name": "ipython",
    "version": 3
   },
   "file_extension": ".py",
   "mimetype": "text/x-python",
   "name": "python",
   "nbconvert_exporter": "python",
   "pygments_lexer": "ipython3",
   "version": "3.10.12"
  },
  "papermill": {
   "default_parameters": {},
   "duration": 58.188422,
   "end_time": "2025-07-23T14:34:55.345718",
   "environment_variables": {},
   "exception": null,
   "input_path": "universe_analysis.ipynb",
   "output_path": "output/runs/9/notebooks/m_9-ee17db7b4dcc224af5dc1d7ec3b921e5.ipynb",
   "parameters": {
    "output_dir": "output",
    "run_no": "9",
    "seed": "2023",
    "universe": "{\"cutoff\": [\"quantile_0.1\", \"quantile_0.25\"], \"eval_fairness_grouping\": [\"majority-minority\", \"nationality-all\"], \"exclude_features\": \"age\", \"exclude_subgroups\": \"drop-non-german\", \"model\": \"elasticnet\", \"scale\": \"scale\"}",
    "universe_id": "ee17db7b4dcc224af5dc1d7ec3b921e5"
   },
   "start_time": "2025-07-23T14:33:57.157296",
   "version": "2.6.0"
  }
 },
 "nbformat": 4,
 "nbformat_minor": 5
}