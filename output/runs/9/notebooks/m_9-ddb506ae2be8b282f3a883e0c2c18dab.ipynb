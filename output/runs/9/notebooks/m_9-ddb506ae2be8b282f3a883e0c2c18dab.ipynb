{
 "cells": [
  {
   "cell_type": "code",
   "execution_count": 1,
   "id": "f159f837-637b-42ba-96b5-ec9a68c44524",
   "metadata": {
    "execution": {
     "iopub.execute_input": "2025-07-23T14:40:02.765448Z",
     "iopub.status.busy": "2025-07-23T14:40:02.764993Z",
     "iopub.status.idle": "2025-07-23T14:40:02.779614Z",
     "shell.execute_reply": "2025-07-23T14:40:02.778507Z"
    },
    "papermill": {
     "duration": 0.036923,
     "end_time": "2025-07-23T14:40:02.781600",
     "exception": false,
     "start_time": "2025-07-23T14:40:02.744677",
     "status": "completed"
    },
    "tags": []
   },
   "outputs": [
    {
     "name": "stdout",
     "output_type": "stream",
     "text": [
      "/dss/dsshome1/0C/ra93lal2/cma/CMA_Fairness_v2\n"
     ]
    },
    {
     "name": "stderr",
     "output_type": "stream",
     "text": [
      "/dss/dsshome1/0C/ra93lal2/.local/share/virtualenvs/CMA_Fairness_v2-3j10GkSs/lib/python3.10/site-packages/IPython/core/magics/osm.py:393: UserWarning: This is now an optional IPython functionality, using bookmarks requires you to install the `pickleshare` library.\n",
      "  bkms = self.shell.db.get('bookmarks', {})\n",
      "/dss/dsshome1/0C/ra93lal2/.local/share/virtualenvs/CMA_Fairness_v2-3j10GkSs/lib/python3.10/site-packages/IPython/core/magics/osm.py:417: UserWarning: This is now an optional IPython functionality, setting dhist requires you to install the `pickleshare` library.\n",
      "  self.shell.db['dhist'] = compress_dhist(dhist)[-100:]\n"
     ]
    }
   ],
   "source": [
    "%cd ~/cma/CMA_Fairness_v2"
   ]
  },
  {
   "cell_type": "markdown",
   "id": "de2603b9",
   "metadata": {
    "papermill": {
     "duration": 0.017754,
     "end_time": "2025-07-23T14:40:02.818252",
     "exception": false,
     "start_time": "2025-07-23T14:40:02.800498",
     "status": "completed"
    },
    "tags": []
   },
   "source": [
    "The following cell holds the definition of our parameters, these values can be overriden by rendering the with e.g. the following command:\n",
    "\n",
    "papermill -p alpha 0.2 -p ratio 0.3 universe_analysis.ipynb output/test_run.ipynb"
   ]
  },
  {
   "cell_type": "code",
   "execution_count": 2,
   "id": "a80968a0-40bb-4fa9-85ef-2d5eefb01975",
   "metadata": {
    "execution": {
     "iopub.execute_input": "2025-07-23T14:40:02.839995Z",
     "iopub.status.busy": "2025-07-23T14:40:02.839570Z",
     "iopub.status.idle": "2025-07-23T14:40:02.845759Z",
     "shell.execute_reply": "2025-07-23T14:40:02.844718Z"
    },
    "papermill": {
     "duration": 0.018181,
     "end_time": "2025-07-23T14:40:02.847291",
     "exception": false,
     "start_time": "2025-07-23T14:40:02.829110",
     "status": "completed"
    },
    "tags": []
   },
   "outputs": [
    {
     "name": "stdout",
     "output_type": "stream",
     "text": [
      "Current working directory: /dss/dsshome1/0C/ra93lal2/cma/CMA_Fairness_v2\n"
     ]
    }
   ],
   "source": [
    "import os\n",
    "print(\"Current working directory:\", os.getcwd())"
   ]
  },
  {
   "cell_type": "code",
   "execution_count": 3,
   "id": "2dce4c03",
   "metadata": {
    "execution": {
     "iopub.execute_input": "2025-07-23T14:40:02.867624Z",
     "iopub.status.busy": "2025-07-23T14:40:02.866907Z",
     "iopub.status.idle": "2025-07-23T14:40:02.872274Z",
     "shell.execute_reply": "2025-07-23T14:40:02.871517Z"
    },
    "papermill": {
     "duration": 0.016818,
     "end_time": "2025-07-23T14:40:02.873774",
     "exception": false,
     "start_time": "2025-07-23T14:40:02.856956",
     "status": "completed"
    },
    "tags": [
     "parameters"
    ]
   },
   "outputs": [],
   "source": [
    "run_no = 0\n",
    "universe_id = \"test\"\n",
    "universe = {\n",
    "    \"scale\": \"scale\", # \"scale\", \"do-not-scale\",\n",
    "    \"model\": \"elasticnet\", # \"logreg\", \"penalized_logreg\", \"rf\", \"gbm\", \"elasticnet\"\n",
    "    \"cutoff\": [\"quantile_0.15\", \"quantile_0.30\"],\n",
    "    \"exclude_features\": \"age\", # \"none\", \"nationality\", \"sex\", \"nationality-sex\", \"age\"\n",
    "    \"exclude_subgroups\": \"keep-all\", # \"keep-all\", \"drop-non-german\"\n",
    "    #\"training_sample\": \"restricted\", # \"restricted\", \"full\"\n",
    "    \"eval_fairness_grouping\": [\"majority-minority\", \"nationality-all\"]\n",
    "}\n",
    "\n",
    "output_dir=\"./output\"\n",
    "seed=0"
   ]
  },
  {
   "cell_type": "code",
   "execution_count": 4,
   "id": "d9c854ee",
   "metadata": {
    "execution": {
     "iopub.execute_input": "2025-07-23T14:40:02.893792Z",
     "iopub.status.busy": "2025-07-23T14:40:02.893086Z",
     "iopub.status.idle": "2025-07-23T14:40:02.897963Z",
     "shell.execute_reply": "2025-07-23T14:40:02.897204Z"
    },
    "papermill": {
     "duration": 0.016165,
     "end_time": "2025-07-23T14:40:02.899473",
     "exception": false,
     "start_time": "2025-07-23T14:40:02.883308",
     "status": "completed"
    },
    "tags": [
     "injected-parameters"
    ]
   },
   "outputs": [],
   "source": [
    "# Parameters\n",
    "universe_id = \"ddb506ae2be8b282f3a883e0c2c18dab\"\n",
    "run_no = \"9\"\n",
    "universe = \"{\\\"cutoff\\\": [\\\"quantile_0.1\\\", \\\"quantile_0.25\\\"], \\\"eval_fairness_grouping\\\": [\\\"majority-minority\\\", \\\"nationality-all\\\"], \\\"exclude_features\\\": \\\"none\\\", \\\"exclude_subgroups\\\": \\\"keep-all\\\", \\\"model\\\": \\\"elasticnet\\\", \\\"scale\\\": \\\"do-not-scale\\\"}\"\n",
    "output_dir = \"output\"\n",
    "seed = \"2023\"\n"
   ]
  },
  {
   "cell_type": "code",
   "execution_count": 5,
   "id": "1650acaf",
   "metadata": {
    "execution": {
     "iopub.execute_input": "2025-07-23T14:40:02.920206Z",
     "iopub.status.busy": "2025-07-23T14:40:02.919477Z",
     "iopub.status.idle": "2025-07-23T14:40:02.924245Z",
     "shell.execute_reply": "2025-07-23T14:40:02.923480Z"
    },
    "papermill": {
     "duration": 0.016269,
     "end_time": "2025-07-23T14:40:02.925639",
     "exception": false,
     "start_time": "2025-07-23T14:40:02.909370",
     "status": "completed"
    },
    "tags": []
   },
   "outputs": [],
   "source": [
    "import json\n",
    "# Parse universe into dict if it is passed as a string\n",
    "if isinstance(universe, str):\n",
    "    universe = json.loads(universe)"
   ]
  },
  {
   "cell_type": "code",
   "execution_count": 6,
   "id": "16620c48",
   "metadata": {
    "execution": {
     "iopub.execute_input": "2025-07-23T14:40:02.946680Z",
     "iopub.status.busy": "2025-07-23T14:40:02.945957Z",
     "iopub.status.idle": "2025-07-23T14:40:02.977450Z",
     "shell.execute_reply": "2025-07-23T14:40:02.976647Z"
    },
    "papermill": {
     "duration": 0.043345,
     "end_time": "2025-07-23T14:40:02.979045",
     "exception": false,
     "start_time": "2025-07-23T14:40:02.935700",
     "status": "completed"
    },
    "tags": []
   },
   "outputs": [],
   "source": [
    "# Auto-reload the custom package\n",
    "%load_ext autoreload\n",
    "%autoreload 1\n",
    "%aimport fairness_multiverse"
   ]
  },
  {
   "cell_type": "code",
   "execution_count": 7,
   "id": "01c5c9f3",
   "metadata": {
    "execution": {
     "iopub.execute_input": "2025-07-23T14:40:02.999449Z",
     "iopub.status.busy": "2025-07-23T14:40:02.998913Z",
     "iopub.status.idle": "2025-07-23T14:40:05.113633Z",
     "shell.execute_reply": "2025-07-23T14:40:05.112498Z"
    },
    "papermill": {
     "duration": 2.127111,
     "end_time": "2025-07-23T14:40:05.115792",
     "exception": false,
     "start_time": "2025-07-23T14:40:02.988681",
     "status": "completed"
    },
    "tags": []
   },
   "outputs": [],
   "source": [
    "from fairness_multiverse.universe import UniverseAnalysis\n",
    "\n",
    "universe_analysis = UniverseAnalysis(\n",
    "    run_no = run_no,\n",
    "    universe_id = universe_id,\n",
    "    universe = universe,\n",
    "    output_dir=output_dir,\n",
    ")"
   ]
  },
  {
   "cell_type": "code",
   "execution_count": 8,
   "id": "106241f5",
   "metadata": {
    "execution": {
     "iopub.execute_input": "2025-07-23T14:40:05.154188Z",
     "iopub.status.busy": "2025-07-23T14:40:05.153609Z",
     "iopub.status.idle": "2025-07-23T14:40:05.161396Z",
     "shell.execute_reply": "2025-07-23T14:40:05.160246Z"
    },
    "papermill": {
     "duration": 0.02916,
     "end_time": "2025-07-23T14:40:05.163148",
     "exception": false,
     "start_time": "2025-07-23T14:40:05.133988",
     "status": "completed"
    },
    "tags": []
   },
   "outputs": [
    {
     "name": "stdout",
     "output_type": "stream",
     "text": [
      "Using Seed: 2023\n"
     ]
    }
   ],
   "source": [
    "import numpy as np\n",
    "parsed_seed = int(seed)\n",
    "np.random.seed(parsed_seed)\n",
    "print(f\"Using Seed: {parsed_seed}\")"
   ]
  },
  {
   "cell_type": "markdown",
   "id": "e0ebdc57",
   "metadata": {
    "papermill": {
     "duration": 0.017789,
     "end_time": "2025-07-23T14:40:05.198675",
     "exception": false,
     "start_time": "2025-07-23T14:40:05.180886",
     "status": "completed"
    },
    "tags": []
   },
   "source": [
    "# Loading Data"
   ]
  },
  {
   "cell_type": "markdown",
   "id": "681925a3",
   "metadata": {
    "papermill": {
     "duration": 0.017414,
     "end_time": "2025-07-23T14:40:05.234495",
     "exception": false,
     "start_time": "2025-07-23T14:40:05.217081",
     "status": "completed"
    },
    "tags": []
   },
   "source": [
    "Load siab_train, siab_test, siab_calib and/or \n",
    "load siab_train_features, siab_train_labels"
   ]
  },
  {
   "cell_type": "code",
   "execution_count": 9,
   "id": "f0496b8a",
   "metadata": {
    "execution": {
     "iopub.execute_input": "2025-07-23T14:40:05.273780Z",
     "iopub.status.busy": "2025-07-23T14:40:05.272835Z",
     "iopub.status.idle": "2025-07-23T14:40:05.279529Z",
     "shell.execute_reply": "2025-07-23T14:40:05.278438Z"
    },
    "papermill": {
     "duration": 0.029059,
     "end_time": "2025-07-23T14:40:05.281392",
     "exception": false,
     "start_time": "2025-07-23T14:40:05.252333",
     "status": "completed"
    },
    "tags": []
   },
   "outputs": [],
   "source": [
    "# Do I need to load siab? Delete this cell?\n",
    "\n",
    "#from pathlib import Path\n",
    "#import pandas as pd\n",
    "#\n",
    "## File paths\n",
    "#raw_file = Path(\"data/raw/siab.csv\")\n",
    "#cache_file = Path(\"data/siab_cached.csv.gz\")\n",
    "#\n",
    "## Ensure cache directory exists\n",
    "#cache_file.parent.mkdir(parents=True, exist_ok=True)\n",
    "#\n",
    "## Load with simple caching\n",
    "#if cache_file.exists():\n",
    "#    print(f\"Loading SIAB data from cache: {cache_file}\")\n",
    "#    siab = pd.read_csv(cache_file, compression='gzip')\n",
    "#else:\n",
    "#    print(f\"Cache not found. Reading raw SIAB data: {raw_file}\")\n",
    "#    siab = pd.read_csv(raw_file)\n",
    "#    siab.to_csv(cache_file, index=False, compression='gzip')\n",
    "#    print(f\"Cached SIAB data to: {cache_file}\")\n",
    "#\n",
    "## Now use `siab` DataFrame as needed\n",
    "#print(siab.shape)\n"
   ]
  },
  {
   "cell_type": "code",
   "execution_count": 10,
   "id": "a0edb063",
   "metadata": {
    "execution": {
     "iopub.execute_input": "2025-07-23T14:40:05.319419Z",
     "iopub.status.busy": "2025-07-23T14:40:05.318564Z",
     "iopub.status.idle": "2025-07-23T14:40:06.639684Z",
     "shell.execute_reply": "2025-07-23T14:40:06.638688Z"
    },
    "papermill": {
     "duration": 1.342205,
     "end_time": "2025-07-23T14:40:06.641738",
     "exception": false,
     "start_time": "2025-07-23T14:40:05.299533",
     "status": "completed"
    },
    "tags": []
   },
   "outputs": [],
   "source": [
    "import pandas as pd\n",
    "\n",
    "X_train = pd.read_csv(\"./data/X_train.csv\")\n",
    "y_train = pd.read_csv(\"./data/y_train.csv\")"
   ]
  },
  {
   "cell_type": "code",
   "execution_count": 11,
   "id": "63d08085",
   "metadata": {
    "execution": {
     "iopub.execute_input": "2025-07-23T14:40:06.690574Z",
     "iopub.status.busy": "2025-07-23T14:40:06.689886Z",
     "iopub.status.idle": "2025-07-23T14:40:08.606090Z",
     "shell.execute_reply": "2025-07-23T14:40:08.604861Z"
    },
    "papermill": {
     "duration": 1.947264,
     "end_time": "2025-07-23T14:40:08.608249",
     "exception": false,
     "start_time": "2025-07-23T14:40:06.660985",
     "status": "completed"
    },
    "tags": []
   },
   "outputs": [],
   "source": [
    "X_test = pd.read_csv(\"./data/X_test.csv\")\n",
    "y_true = pd.read_csv(\"./data/y_test.csv\")"
   ]
  },
  {
   "cell_type": "code",
   "execution_count": 12,
   "id": "98a8d0fa-1d3d-4ed8-bb2c-281470e24add",
   "metadata": {
    "execution": {
     "iopub.execute_input": "2025-07-23T14:40:08.647161Z",
     "iopub.status.busy": "2025-07-23T14:40:08.646539Z",
     "iopub.status.idle": "2025-07-23T14:40:10.132709Z",
     "shell.execute_reply": "2025-07-23T14:40:10.131669Z"
    },
    "papermill": {
     "duration": 1.507905,
     "end_time": "2025-07-23T14:40:10.134824",
     "exception": false,
     "start_time": "2025-07-23T14:40:08.626919",
     "status": "completed"
    },
    "tags": []
   },
   "outputs": [],
   "source": [
    "# Calibration data for conformal\n",
    "X_calib = pd.read_csv(\"./data/X_calib.csv\")\n",
    "y_calib = pd.read_csv(\"./data/y_calib.csv\")"
   ]
  },
  {
   "cell_type": "code",
   "execution_count": 13,
   "id": "e6c733c5",
   "metadata": {
    "execution": {
     "iopub.execute_input": "2025-07-23T14:40:10.173198Z",
     "iopub.status.busy": "2025-07-23T14:40:10.172687Z",
     "iopub.status.idle": "2025-07-23T14:40:10.279684Z",
     "shell.execute_reply": "2025-07-23T14:40:10.278656Z"
    },
    "papermill": {
     "duration": 0.128471,
     "end_time": "2025-07-23T14:40:10.281897",
     "exception": false,
     "start_time": "2025-07-23T14:40:10.153426",
     "status": "completed"
    },
    "tags": []
   },
   "outputs": [],
   "source": [
    "# Auxiliary data needed downstream in the pipeline\n",
    "\n",
    "org_train = X_train.copy()\n",
    "org_test = X_test.copy()\n",
    "org_calib = X_calib.copy()"
   ]
  },
  {
   "cell_type": "markdown",
   "id": "0a4a1b33",
   "metadata": {
    "papermill": {
     "duration": 0.017437,
     "end_time": "2025-07-23T14:40:10.318299",
     "exception": false,
     "start_time": "2025-07-23T14:40:10.300862",
     "status": "completed"
    },
    "tags": []
   },
   "source": [
    "# Preprocessing Data"
   ]
  },
  {
   "cell_type": "code",
   "execution_count": 14,
   "id": "ca879031",
   "metadata": {
    "execution": {
     "iopub.execute_input": "2025-07-23T14:40:10.357837Z",
     "iopub.status.busy": "2025-07-23T14:40:10.356877Z",
     "iopub.status.idle": "2025-07-23T14:40:10.363835Z",
     "shell.execute_reply": "2025-07-23T14:40:10.362823Z"
    },
    "papermill": {
     "duration": 0.02872,
     "end_time": "2025-07-23T14:40:10.365710",
     "exception": false,
     "start_time": "2025-07-23T14:40:10.336990",
     "status": "completed"
    },
    "tags": []
   },
   "outputs": [],
   "source": [
    "# EXCLUDE PROTECTED FEATURES\n",
    "# ----------------------\n",
    "# \"exclude_features\": \"none\", # \"nationality\", \"sex\", \"nationality-sex\"\n",
    "\n",
    "excluded_features = universe[\"exclude_features\"].split(\"-\") # split, e.g.: \"nationality-sex\" -> [\"nationality\", \"sex\"]\n",
    "excluded_features_dictionary = {\n",
    "    \"nationality\": [\"maxdeutsch1\", \"maxdeutsch.Missing.\"],\n",
    "    \"sex\": [\"frau1\"],\n",
    "    \"age\": [\"age\"],\n",
    "}\n"
   ]
  },
  {
   "cell_type": "code",
   "execution_count": 15,
   "id": "b745ac60",
   "metadata": {
    "execution": {
     "iopub.execute_input": "2025-07-23T14:40:10.404764Z",
     "iopub.status.busy": "2025-07-23T14:40:10.404023Z",
     "iopub.status.idle": "2025-07-23T14:40:10.410122Z",
     "shell.execute_reply": "2025-07-23T14:40:10.409050Z"
    },
    "papermill": {
     "duration": 0.027538,
     "end_time": "2025-07-23T14:40:10.411979",
     "exception": false,
     "start_time": "2025-07-23T14:40:10.384441",
     "status": "completed"
    },
    "tags": []
   },
   "outputs": [],
   "source": [
    "# Code nice names to column names\n",
    "\n",
    "excluded_features_columns = [\n",
    "    excluded_features_dictionary[f] for f in excluded_features if len(f) > 0 and f != \"none\"\n",
    "]"
   ]
  },
  {
   "cell_type": "code",
   "execution_count": 16,
   "id": "f84f73a2",
   "metadata": {
    "execution": {
     "iopub.execute_input": "2025-07-23T14:40:10.451389Z",
     "iopub.status.busy": "2025-07-23T14:40:10.450700Z",
     "iopub.status.idle": "2025-07-23T14:40:10.458363Z",
     "shell.execute_reply": "2025-07-23T14:40:10.457386Z"
    },
    "papermill": {
     "duration": 0.029,
     "end_time": "2025-07-23T14:40:10.460222",
     "exception": false,
     "start_time": "2025-07-23T14:40:10.431222",
     "status": "completed"
    },
    "tags": []
   },
   "outputs": [],
   "source": [
    "from utils import flatten_once\n",
    "\n",
    "excluded_features_columns = flatten_once(excluded_features_columns)"
   ]
  },
  {
   "cell_type": "code",
   "execution_count": 17,
   "id": "884dea22",
   "metadata": {
    "execution": {
     "iopub.execute_input": "2025-07-23T14:40:10.499822Z",
     "iopub.status.busy": "2025-07-23T14:40:10.499289Z",
     "iopub.status.idle": "2025-07-23T14:40:10.505671Z",
     "shell.execute_reply": "2025-07-23T14:40:10.504667Z"
    },
    "papermill": {
     "duration": 0.027835,
     "end_time": "2025-07-23T14:40:10.507520",
     "exception": false,
     "start_time": "2025-07-23T14:40:10.479685",
     "status": "completed"
    },
    "tags": []
   },
   "outputs": [],
   "source": [
    "if len(excluded_features_columns) > 0:\n",
    "    print(f\"Dropping features: {excluded_features_columns}\")\n",
    "    X_train.drop(excluded_features_columns, axis=1, inplace=True)"
   ]
  },
  {
   "cell_type": "code",
   "execution_count": 18,
   "id": "95ab8b16",
   "metadata": {
    "execution": {
     "iopub.execute_input": "2025-07-23T14:40:10.545288Z",
     "iopub.status.busy": "2025-07-23T14:40:10.544516Z",
     "iopub.status.idle": "2025-07-23T14:40:10.550909Z",
     "shell.execute_reply": "2025-07-23T14:40:10.549944Z"
    },
    "papermill": {
     "duration": 0.027173,
     "end_time": "2025-07-23T14:40:10.552811",
     "exception": false,
     "start_time": "2025-07-23T14:40:10.525638",
     "status": "completed"
    },
    "tags": []
   },
   "outputs": [],
   "source": [
    "if len(excluded_features_columns) > 0:\n",
    "    print(f\"Dropping features: {excluded_features_columns}\")\n",
    "    X_test.drop(excluded_features_columns, axis=1, inplace=True)"
   ]
  },
  {
   "cell_type": "code",
   "execution_count": 19,
   "id": "1853aaf5-fb9f-46cb-a2b5-8ea4ae2237e4",
   "metadata": {
    "execution": {
     "iopub.execute_input": "2025-07-23T14:40:10.591697Z",
     "iopub.status.busy": "2025-07-23T14:40:10.590776Z",
     "iopub.status.idle": "2025-07-23T14:40:10.595900Z",
     "shell.execute_reply": "2025-07-23T14:40:10.595001Z"
    },
    "papermill": {
     "duration": 0.030604,
     "end_time": "2025-07-23T14:40:10.602785",
     "exception": false,
     "start_time": "2025-07-23T14:40:10.572181",
     "status": "completed"
    },
    "tags": []
   },
   "outputs": [],
   "source": [
    "if len(excluded_features_columns) > 0:\n",
    "    print(f\"Dropping features: {excluded_features_columns}\")\n",
    "    X_calib.drop(excluded_features_columns, axis=1, inplace=True)"
   ]
  },
  {
   "cell_type": "code",
   "execution_count": 20,
   "id": "76c4dc6d",
   "metadata": {
    "execution": {
     "iopub.execute_input": "2025-07-23T14:40:10.624972Z",
     "iopub.status.busy": "2025-07-23T14:40:10.624550Z",
     "iopub.status.idle": "2025-07-23T14:40:10.629458Z",
     "shell.execute_reply": "2025-07-23T14:40:10.628486Z"
    },
    "papermill": {
     "duration": 0.017474,
     "end_time": "2025-07-23T14:40:10.631092",
     "exception": false,
     "start_time": "2025-07-23T14:40:10.613618",
     "status": "completed"
    },
    "tags": []
   },
   "outputs": [],
   "source": [
    "# EXCLUDE CERTAIN SUBGROUPS\n",
    "# ----------------------\n",
    "\n",
    "mode = universe.get(\"exclude_subgroups\", \"keep-all\") \n",
    "# Fetches the exclude_subgroups setting from the universe dict.\n",
    "# Defaults to \"keep-all\" if the key is missing."
   ]
  },
  {
   "cell_type": "code",
   "execution_count": 21,
   "id": "21994072",
   "metadata": {
    "execution": {
     "iopub.execute_input": "2025-07-23T14:40:10.652863Z",
     "iopub.status.busy": "2025-07-23T14:40:10.652115Z",
     "iopub.status.idle": "2025-07-23T14:40:10.658470Z",
     "shell.execute_reply": "2025-07-23T14:40:10.657327Z"
    },
    "papermill": {
     "duration": 0.01933,
     "end_time": "2025-07-23T14:40:10.660844",
     "exception": false,
     "start_time": "2025-07-23T14:40:10.641514",
     "status": "completed"
    },
    "tags": []
   },
   "outputs": [],
   "source": [
    "if mode == \"keep-all\":\n",
    "    keep_mask = pd.Series(True, index=org_train.index)\n",
    "\n",
    "# org_train contains the original feature columns from features_org (in Simson)\n",
    "# features_org contains unprocessed features, for me X_train at beginning ???\n",
    "# For keep-all, creates a boolean Series (keep_mask) of all True, so no rows are removed.\n",
    "\n",
    "elif mode == \"drop-non-german\":\n",
    "    keep_mask = org_train[\"maxdeutsch1\"] == 1 # ??? what about missing values?\n",
    "\n",
    "else:\n",
    "    raise ValueError(f\"Unsupported mode for exclude_subgroups: {mode}\")\n"
   ]
  },
  {
   "cell_type": "code",
   "execution_count": 22,
   "id": "71651440",
   "metadata": {
    "execution": {
     "iopub.execute_input": "2025-07-23T14:40:10.685545Z",
     "iopub.status.busy": "2025-07-23T14:40:10.685166Z",
     "iopub.status.idle": "2025-07-23T14:40:10.690997Z",
     "shell.execute_reply": "2025-07-23T14:40:10.690181Z"
    },
    "papermill": {
     "duration": 0.019037,
     "end_time": "2025-07-23T14:40:10.692625",
     "exception": false,
     "start_time": "2025-07-23T14:40:10.673588",
     "status": "completed"
    },
    "tags": []
   },
   "outputs": [],
   "source": [
    "n_drop = (~keep_mask).sum() # Calculates how many rows are set to be dropped\n",
    "if n_drop > 0:\n",
    "    pct = n_drop / len(keep_mask) * 100\n",
    "    print(f\"Dropping {n_drop} rows ({pct:.2f}%) where mode='{mode}'\")"
   ]
  },
  {
   "cell_type": "code",
   "execution_count": 23,
   "id": "5fb8eee5",
   "metadata": {
    "execution": {
     "iopub.execute_input": "2025-07-23T14:40:10.718074Z",
     "iopub.status.busy": "2025-07-23T14:40:10.716427Z",
     "iopub.status.idle": "2025-07-23T14:40:10.776245Z",
     "shell.execute_reply": "2025-07-23T14:40:10.775188Z"
    },
    "papermill": {
     "duration": 0.074957,
     "end_time": "2025-07-23T14:40:10.778587",
     "exception": false,
     "start_time": "2025-07-23T14:40:10.703630",
     "status": "completed"
    },
    "tags": []
   },
   "outputs": [],
   "source": [
    "X_train = X_train[keep_mask]"
   ]
  },
  {
   "cell_type": "code",
   "execution_count": 24,
   "id": "b202bb3a",
   "metadata": {
    "execution": {
     "iopub.execute_input": "2025-07-23T14:40:10.819920Z",
     "iopub.status.busy": "2025-07-23T14:40:10.819350Z",
     "iopub.status.idle": "2025-07-23T14:40:10.828851Z",
     "shell.execute_reply": "2025-07-23T14:40:10.827761Z"
    },
    "papermill": {
     "duration": 0.032574,
     "end_time": "2025-07-23T14:40:10.830948",
     "exception": false,
     "start_time": "2025-07-23T14:40:10.798374",
     "status": "completed"
    },
    "tags": []
   },
   "outputs": [],
   "source": [
    "y_train = y_train[keep_mask]"
   ]
  },
  {
   "cell_type": "markdown",
   "id": "493e2ac3",
   "metadata": {
    "papermill": {
     "duration": 0.018874,
     "end_time": "2025-07-23T14:40:10.869504",
     "exception": false,
     "start_time": "2025-07-23T14:40:10.850630",
     "status": "completed"
    },
    "tags": []
   },
   "source": [
    "# Model Training"
   ]
  },
  {
   "cell_type": "code",
   "execution_count": 25,
   "id": "679e1268",
   "metadata": {
    "execution": {
     "iopub.execute_input": "2025-07-23T14:40:10.910913Z",
     "iopub.status.busy": "2025-07-23T14:40:10.910396Z",
     "iopub.status.idle": "2025-07-23T14:40:11.029233Z",
     "shell.execute_reply": "2025-07-23T14:40:11.028112Z"
    },
    "papermill": {
     "duration": 0.142913,
     "end_time": "2025-07-23T14:40:11.031533",
     "exception": false,
     "start_time": "2025-07-23T14:40:10.888620",
     "status": "completed"
    },
    "tags": []
   },
   "outputs": [],
   "source": [
    "from sklearn.linear_model import LogisticRegression\n",
    "from sklearn.ensemble import GradientBoostingClassifier, RandomForestClassifier\n",
    "\n",
    "if (universe[\"model\"] == \"logreg\"):\n",
    "    model = LogisticRegression() #penalty=\"none\") #, solver=\"newton-cg\", max_iter=1) # include random_state=19 ?\n",
    "elif (universe[\"model\"] == \"penalized_logreg\"):\n",
    "    model = LogisticRegression(penalty=\"l2\", C=1.0) #, solver=\"newton-cg\", max_iter=1)\n",
    "elif (universe[\"model\"] == \"rf\"):\n",
    "    model = RandomForestClassifier(n_estimators=100, n_jobs=-1)\n",
    "elif (universe[\"model\"] == \"gbm\"):\n",
    "    model = GradientBoostingClassifier()\n",
    "elif (universe[\"model\"] == \"elasticnet\"):\n",
    "    model = LogisticRegression(penalty = 'elasticnet', solver = 'saga', l1_ratio = 0.5, max_iter=5000) # which solver to use?\n",
    "else:\n",
    "    raise \"Unsupported universe.model\""
   ]
  },
  {
   "cell_type": "code",
   "execution_count": 26,
   "id": "0cc8f744",
   "metadata": {
    "execution": {
     "iopub.execute_input": "2025-07-23T14:40:11.074170Z",
     "iopub.status.busy": "2025-07-23T14:40:11.073129Z",
     "iopub.status.idle": "2025-07-23T14:40:11.080613Z",
     "shell.execute_reply": "2025-07-23T14:40:11.079542Z"
    },
    "papermill": {
     "duration": 0.030936,
     "end_time": "2025-07-23T14:40:11.082485",
     "exception": false,
     "start_time": "2025-07-23T14:40:11.051549",
     "status": "completed"
    },
    "tags": []
   },
   "outputs": [],
   "source": [
    "import numpy as np\n",
    "from sklearn.pipeline import Pipeline\n",
    "from sklearn.preprocessing import StandardScaler\n",
    "\n",
    "model = Pipeline([\n",
    "    #(\"continuous_processor\", continuous_processor),\n",
    "    #(\"categorical_preprocessor\", categorical_preprocessor),\n",
    "    (\"scale\", StandardScaler() if universe[\"scale\"] == \"scale\" else None), \n",
    "    (\"model\", model),\n",
    "])"
   ]
  },
  {
   "cell_type": "code",
   "execution_count": 27,
   "id": "9442c04d",
   "metadata": {
    "execution": {
     "iopub.execute_input": "2025-07-23T14:40:11.125789Z",
     "iopub.status.busy": "2025-07-23T14:40:11.124771Z",
     "iopub.status.idle": "2025-07-23T14:50:41.606814Z",
     "shell.execute_reply": "2025-07-23T14:50:41.605501Z"
    },
    "papermill": {
     "duration": 630.515313,
     "end_time": "2025-07-23T14:50:41.618737",
     "exception": false,
     "start_time": "2025-07-23T14:40:11.103424",
     "status": "completed"
    },
    "tags": []
   },
   "outputs": [
    {
     "data": {
      "text/html": [
       "<style>#sk-container-id-1 {color: black;background-color: white;}#sk-container-id-1 pre{padding: 0;}#sk-container-id-1 div.sk-toggleable {background-color: white;}#sk-container-id-1 label.sk-toggleable__label {cursor: pointer;display: block;width: 100%;margin-bottom: 0;padding: 0.3em;box-sizing: border-box;text-align: center;}#sk-container-id-1 label.sk-toggleable__label-arrow:before {content: \"▸\";float: left;margin-right: 0.25em;color: #696969;}#sk-container-id-1 label.sk-toggleable__label-arrow:hover:before {color: black;}#sk-container-id-1 div.sk-estimator:hover label.sk-toggleable__label-arrow:before {color: black;}#sk-container-id-1 div.sk-toggleable__content {max-height: 0;max-width: 0;overflow: hidden;text-align: left;background-color: #f0f8ff;}#sk-container-id-1 div.sk-toggleable__content pre {margin: 0.2em;color: black;border-radius: 0.25em;background-color: #f0f8ff;}#sk-container-id-1 input.sk-toggleable__control:checked~div.sk-toggleable__content {max-height: 200px;max-width: 100%;overflow: auto;}#sk-container-id-1 input.sk-toggleable__control:checked~label.sk-toggleable__label-arrow:before {content: \"▾\";}#sk-container-id-1 div.sk-estimator input.sk-toggleable__control:checked~label.sk-toggleable__label {background-color: #d4ebff;}#sk-container-id-1 div.sk-label input.sk-toggleable__control:checked~label.sk-toggleable__label {background-color: #d4ebff;}#sk-container-id-1 input.sk-hidden--visually {border: 0;clip: rect(1px 1px 1px 1px);clip: rect(1px, 1px, 1px, 1px);height: 1px;margin: -1px;overflow: hidden;padding: 0;position: absolute;width: 1px;}#sk-container-id-1 div.sk-estimator {font-family: monospace;background-color: #f0f8ff;border: 1px dotted black;border-radius: 0.25em;box-sizing: border-box;margin-bottom: 0.5em;}#sk-container-id-1 div.sk-estimator:hover {background-color: #d4ebff;}#sk-container-id-1 div.sk-parallel-item::after {content: \"\";width: 100%;border-bottom: 1px solid gray;flex-grow: 1;}#sk-container-id-1 div.sk-label:hover label.sk-toggleable__label {background-color: #d4ebff;}#sk-container-id-1 div.sk-serial::before {content: \"\";position: absolute;border-left: 1px solid gray;box-sizing: border-box;top: 0;bottom: 0;left: 50%;z-index: 0;}#sk-container-id-1 div.sk-serial {display: flex;flex-direction: column;align-items: center;background-color: white;padding-right: 0.2em;padding-left: 0.2em;position: relative;}#sk-container-id-1 div.sk-item {position: relative;z-index: 1;}#sk-container-id-1 div.sk-parallel {display: flex;align-items: stretch;justify-content: center;background-color: white;position: relative;}#sk-container-id-1 div.sk-item::before, #sk-container-id-1 div.sk-parallel-item::before {content: \"\";position: absolute;border-left: 1px solid gray;box-sizing: border-box;top: 0;bottom: 0;left: 50%;z-index: -1;}#sk-container-id-1 div.sk-parallel-item {display: flex;flex-direction: column;z-index: 1;position: relative;background-color: white;}#sk-container-id-1 div.sk-parallel-item:first-child::after {align-self: flex-end;width: 50%;}#sk-container-id-1 div.sk-parallel-item:last-child::after {align-self: flex-start;width: 50%;}#sk-container-id-1 div.sk-parallel-item:only-child::after {width: 0;}#sk-container-id-1 div.sk-dashed-wrapped {border: 1px dashed gray;margin: 0 0.4em 0.5em 0.4em;box-sizing: border-box;padding-bottom: 0.4em;background-color: white;}#sk-container-id-1 div.sk-label label {font-family: monospace;font-weight: bold;display: inline-block;line-height: 1.2em;}#sk-container-id-1 div.sk-label-container {text-align: center;}#sk-container-id-1 div.sk-container {/* jupyter's `normalize.less` sets `[hidden] { display: none; }` but bootstrap.min.css set `[hidden] { display: none !important; }` so we also need the `!important` here to be able to override the default hidden behavior on the sphinx rendered scikit-learn.org. See: https://github.com/scikit-learn/scikit-learn/issues/21755 */display: inline-block !important;position: relative;}#sk-container-id-1 div.sk-text-repr-fallback {display: none;}</style><div id=\"sk-container-id-1\" class=\"sk-top-container\"><div class=\"sk-text-repr-fallback\"><pre>Pipeline(steps=[(&#x27;scale&#x27;, None),\n",
       "                (&#x27;model&#x27;,\n",
       "                 LogisticRegression(l1_ratio=0.5, max_iter=5000,\n",
       "                                    penalty=&#x27;elasticnet&#x27;, solver=&#x27;saga&#x27;))])</pre><b>In a Jupyter environment, please rerun this cell to show the HTML representation or trust the notebook. <br />On GitHub, the HTML representation is unable to render, please try loading this page with nbviewer.org.</b></div><div class=\"sk-container\" hidden><div class=\"sk-item sk-dashed-wrapped\"><div class=\"sk-label-container\"><div class=\"sk-label sk-toggleable\"><input class=\"sk-toggleable__control sk-hidden--visually\" id=\"sk-estimator-id-1\" type=\"checkbox\" ><label for=\"sk-estimator-id-1\" class=\"sk-toggleable__label sk-toggleable__label-arrow\">Pipeline</label><div class=\"sk-toggleable__content\"><pre>Pipeline(steps=[(&#x27;scale&#x27;, None),\n",
       "                (&#x27;model&#x27;,\n",
       "                 LogisticRegression(l1_ratio=0.5, max_iter=5000,\n",
       "                                    penalty=&#x27;elasticnet&#x27;, solver=&#x27;saga&#x27;))])</pre></div></div></div><div class=\"sk-serial\"><div class=\"sk-item\"><div class=\"sk-estimator sk-toggleable\"><input class=\"sk-toggleable__control sk-hidden--visually\" id=\"sk-estimator-id-2\" type=\"checkbox\" ><label for=\"sk-estimator-id-2\" class=\"sk-toggleable__label sk-toggleable__label-arrow\">None</label><div class=\"sk-toggleable__content\"><pre>None</pre></div></div></div><div class=\"sk-item\"><div class=\"sk-estimator sk-toggleable\"><input class=\"sk-toggleable__control sk-hidden--visually\" id=\"sk-estimator-id-3\" type=\"checkbox\" ><label for=\"sk-estimator-id-3\" class=\"sk-toggleable__label sk-toggleable__label-arrow\">LogisticRegression</label><div class=\"sk-toggleable__content\"><pre>LogisticRegression(l1_ratio=0.5, max_iter=5000, penalty=&#x27;elasticnet&#x27;,\n",
       "                   solver=&#x27;saga&#x27;)</pre></div></div></div></div></div></div></div>"
      ],
      "text/plain": [
       "Pipeline(steps=[('scale', None),\n",
       "                ('model',\n",
       "                 LogisticRegression(l1_ratio=0.5, max_iter=5000,\n",
       "                                    penalty='elasticnet', solver='saga'))])"
      ]
     },
     "execution_count": 27,
     "metadata": {},
     "output_type": "execute_result"
    }
   ],
   "source": [
    "model.fit(X_train, y_train.values.ravel())"
   ]
  },
  {
   "cell_type": "code",
   "execution_count": 28,
   "id": "af59f8c0",
   "metadata": {
    "execution": {
     "iopub.execute_input": "2025-07-23T14:50:41.640497Z",
     "iopub.status.busy": "2025-07-23T14:50:41.640178Z",
     "iopub.status.idle": "2025-07-23T14:50:41.645511Z",
     "shell.execute_reply": "2025-07-23T14:50:41.644705Z"
    },
    "papermill": {
     "duration": 0.018081,
     "end_time": "2025-07-23T14:50:41.647025",
     "exception": false,
     "start_time": "2025-07-23T14:50:41.628944",
     "status": "completed"
    },
    "tags": []
   },
   "outputs": [],
   "source": [
    "from fairness_multiverse.universe import predict_w_threshold"
   ]
  },
  {
   "cell_type": "code",
   "execution_count": 29,
   "id": "a7cf2e16",
   "metadata": {
    "execution": {
     "iopub.execute_input": "2025-07-23T14:50:41.669303Z",
     "iopub.status.busy": "2025-07-23T14:50:41.668576Z",
     "iopub.status.idle": "2025-07-23T14:50:41.761534Z",
     "shell.execute_reply": "2025-07-23T14:50:41.760544Z"
    },
    "papermill": {
     "duration": 0.105332,
     "end_time": "2025-07-23T14:50:41.763041",
     "exception": false,
     "start_time": "2025-07-23T14:50:41.657709",
     "status": "completed"
    },
    "tags": []
   },
   "outputs": [
    {
     "data": {
      "text/plain": [
       "0.8486567829673392"
      ]
     },
     "execution_count": 29,
     "metadata": {},
     "output_type": "execute_result"
    }
   ],
   "source": [
    "probs_test = model.predict_proba(X_test)\n",
    "\n",
    "'''\n",
    "Below code returns a boolean array (or binary 0/1 array depending on how it’s used) where each element \n",
    "is True if the probability of class 1 is greater than or equal to the threshold, and False otherwise.\n",
    "'''\n",
    "y_pred_default = predict_w_threshold(probs_test, 0.5)\n",
    "\n",
    "from sklearn.metrics import accuracy_score\n",
    "\n",
    "# Naive prediction\n",
    "accuracy_score(y_true = y_true, y_pred = y_pred_default)"
   ]
  },
  {
   "cell_type": "code",
   "execution_count": 30,
   "id": "081964c3",
   "metadata": {
    "execution": {
     "iopub.execute_input": "2025-07-23T14:50:41.785595Z",
     "iopub.status.busy": "2025-07-23T14:50:41.785232Z",
     "iopub.status.idle": "2025-07-23T14:50:41.865120Z",
     "shell.execute_reply": "2025-07-23T14:50:41.864129Z"
    },
    "papermill": {
     "duration": 0.092956,
     "end_time": "2025-07-23T14:50:41.866686",
     "exception": false,
     "start_time": "2025-07-23T14:50:41.773730",
     "status": "completed"
    },
    "tags": []
   },
   "outputs": [
    {
     "data": {
      "text/plain": [
       "array([0, 0, 0, ..., 0, 0, 0])"
      ]
     },
     "execution_count": 30,
     "metadata": {},
     "output_type": "execute_result"
    }
   ],
   "source": [
    "model.predict(X_test)"
   ]
  },
  {
   "cell_type": "markdown",
   "id": "56c9705b",
   "metadata": {
    "papermill": {
     "duration": 0.010246,
     "end_time": "2025-07-23T14:50:41.887754",
     "exception": false,
     "start_time": "2025-07-23T14:50:41.877508",
     "status": "completed"
    },
    "tags": []
   },
   "source": [
    "# Conformal Prediction"
   ]
  },
  {
   "cell_type": "code",
   "execution_count": 31,
   "id": "160ec6ff",
   "metadata": {
    "execution": {
     "iopub.execute_input": "2025-07-23T14:50:41.910313Z",
     "iopub.status.busy": "2025-07-23T14:50:41.909486Z",
     "iopub.status.idle": "2025-07-23T14:50:41.914831Z",
     "shell.execute_reply": "2025-07-23T14:50:41.913965Z"
    },
    "papermill": {
     "duration": 0.018208,
     "end_time": "2025-07-23T14:50:41.916360",
     "exception": false,
     "start_time": "2025-07-23T14:50:41.898152",
     "status": "completed"
    },
    "tags": []
   },
   "outputs": [],
   "source": [
    "# Miscoverage level for conformal prediction (10% allowed error rate => 90% target coverage)\n",
    "alpha = 0.1"
   ]
  },
  {
   "cell_type": "code",
   "execution_count": 32,
   "id": "eadf4555-3dd3-440e-8e35-f82a4ad9f855",
   "metadata": {
    "execution": {
     "iopub.execute_input": "2025-07-23T14:50:41.939594Z",
     "iopub.status.busy": "2025-07-23T14:50:41.938865Z",
     "iopub.status.idle": "2025-07-23T14:50:42.017406Z",
     "shell.execute_reply": "2025-07-23T14:50:42.016538Z"
    },
    "papermill": {
     "duration": 0.091516,
     "end_time": "2025-07-23T14:50:42.019255",
     "exception": false,
     "start_time": "2025-07-23T14:50:41.927739",
     "status": "completed"
    },
    "tags": []
   },
   "outputs": [],
   "source": [
    "probs_calib = model.predict_proba(X_calib)"
   ]
  },
  {
   "cell_type": "code",
   "execution_count": 33,
   "id": "2ed93547-6d5d-4983-9b36-1ecb300da49a",
   "metadata": {
    "execution": {
     "iopub.execute_input": "2025-07-23T14:50:42.042350Z",
     "iopub.status.busy": "2025-07-23T14:50:42.041592Z",
     "iopub.status.idle": "2025-07-23T14:50:42.046999Z",
     "shell.execute_reply": "2025-07-23T14:50:42.046224Z"
    },
    "papermill": {
     "duration": 0.018399,
     "end_time": "2025-07-23T14:50:42.048660",
     "exception": false,
     "start_time": "2025-07-23T14:50:42.030261",
     "status": "completed"
    },
    "tags": []
   },
   "outputs": [],
   "source": [
    "y_calib = y_calib.values.ravel().astype(int)"
   ]
  },
  {
   "cell_type": "code",
   "execution_count": 34,
   "id": "65d1320d-f588-4b38-9072-62af1ae97f7d",
   "metadata": {
    "execution": {
     "iopub.execute_input": "2025-07-23T14:50:42.072002Z",
     "iopub.status.busy": "2025-07-23T14:50:42.071133Z",
     "iopub.status.idle": "2025-07-23T14:50:42.077648Z",
     "shell.execute_reply": "2025-07-23T14:50:42.076897Z"
    },
    "papermill": {
     "duration": 0.019441,
     "end_time": "2025-07-23T14:50:42.079153",
     "exception": false,
     "start_time": "2025-07-23T14:50:42.059712",
     "status": "completed"
    },
    "tags": []
   },
   "outputs": [],
   "source": [
    "from fairness_multiverse.conformal import compute_nc_scores\n",
    "\n",
    "# Compute nonconformity scores on calibration set (1 - probability of true class)\n",
    "nc_scores = compute_nc_scores(probs_calib, y_calib)"
   ]
  },
  {
   "cell_type": "code",
   "execution_count": 35,
   "id": "df3b8ca3-53b7-43d5-9667-7c85da7aeda2",
   "metadata": {
    "execution": {
     "iopub.execute_input": "2025-07-23T14:50:42.102379Z",
     "iopub.status.busy": "2025-07-23T14:50:42.101499Z",
     "iopub.status.idle": "2025-07-23T14:50:42.107687Z",
     "shell.execute_reply": "2025-07-23T14:50:42.106831Z"
    },
    "papermill": {
     "duration": 0.018985,
     "end_time": "2025-07-23T14:50:42.109295",
     "exception": false,
     "start_time": "2025-07-23T14:50:42.090310",
     "status": "completed"
    },
    "tags": []
   },
   "outputs": [],
   "source": [
    "from fairness_multiverse.conformal import find_threshold\n",
    "\n",
    "# Find conformal threshold q_hat for the given alpha (split conformal method)\n",
    "q_hat = find_threshold(nc_scores, alpha)"
   ]
  },
  {
   "cell_type": "code",
   "execution_count": 36,
   "id": "4d29e6c1-0ef6-4aa4-b8fe-4fe79b0d033a",
   "metadata": {
    "execution": {
     "iopub.execute_input": "2025-07-23T14:50:42.132456Z",
     "iopub.status.busy": "2025-07-23T14:50:42.131712Z",
     "iopub.status.idle": "2025-07-23T14:50:42.138609Z",
     "shell.execute_reply": "2025-07-23T14:50:42.137715Z"
    },
    "papermill": {
     "duration": 0.019572,
     "end_time": "2025-07-23T14:50:42.140051",
     "exception": false,
     "start_time": "2025-07-23T14:50:42.120479",
     "status": "completed"
    },
    "tags": []
   },
   "outputs": [
    {
     "data": {
      "text/plain": [
       "0.6853695490423958"
      ]
     },
     "execution_count": 36,
     "metadata": {},
     "output_type": "execute_result"
    }
   ],
   "source": [
    "q_hat"
   ]
  },
  {
   "cell_type": "code",
   "execution_count": 37,
   "id": "92460794-cdac-4be2-ba28-f28c0515a6fb",
   "metadata": {
    "execution": {
     "iopub.execute_input": "2025-07-23T14:50:42.163518Z",
     "iopub.status.busy": "2025-07-23T14:50:42.162785Z",
     "iopub.status.idle": "2025-07-23T14:50:42.678900Z",
     "shell.execute_reply": "2025-07-23T14:50:42.678036Z"
    },
    "papermill": {
     "duration": 0.529289,
     "end_time": "2025-07-23T14:50:42.680552",
     "exception": false,
     "start_time": "2025-07-23T14:50:42.151263",
     "status": "completed"
    },
    "tags": []
   },
   "outputs": [],
   "source": [
    "from fairness_multiverse.conformal import predict_conformal_sets\n",
    "\n",
    "# Generate prediction sets for each test example\n",
    "pred_sets = predict_conformal_sets(model, X_test, q_hat)"
   ]
  },
  {
   "cell_type": "code",
   "execution_count": 38,
   "id": "d90c9a65-e6db-4f5d-80cd-e68fb7e46829",
   "metadata": {
    "execution": {
     "iopub.execute_input": "2025-07-23T14:50:42.704219Z",
     "iopub.status.busy": "2025-07-23T14:50:42.703845Z",
     "iopub.status.idle": "2025-07-23T14:50:42.709142Z",
     "shell.execute_reply": "2025-07-23T14:50:42.708218Z"
    },
    "papermill": {
     "duration": 0.018847,
     "end_time": "2025-07-23T14:50:42.710863",
     "exception": false,
     "start_time": "2025-07-23T14:50:42.692016",
     "status": "completed"
    },
    "tags": []
   },
   "outputs": [],
   "source": [
    "y_true = y_true.squeeze()"
   ]
  },
  {
   "cell_type": "code",
   "execution_count": 39,
   "id": "3a58a54a-1e68-46b9-927a-df01f18aebc8",
   "metadata": {
    "execution": {
     "iopub.execute_input": "2025-07-23T14:50:42.735023Z",
     "iopub.status.busy": "2025-07-23T14:50:42.734184Z",
     "iopub.status.idle": "2025-07-23T14:50:43.284915Z",
     "shell.execute_reply": "2025-07-23T14:50:43.284011Z"
    },
    "papermill": {
     "duration": 0.564068,
     "end_time": "2025-07-23T14:50:43.286564",
     "exception": false,
     "start_time": "2025-07-23T14:50:42.722496",
     "status": "completed"
    },
    "tags": []
   },
   "outputs": [],
   "source": [
    "from fairness_multiverse.conformal import evaluate_sets\n",
    "\n",
    "# Evaluate coverage and average set size on test data\n",
    "metrics = evaluate_sets(pred_sets, y_true)"
   ]
  },
  {
   "cell_type": "code",
   "execution_count": 40,
   "id": "5ce0a5cb-201f-45a0-ade5-94c7f0bd6095",
   "metadata": {
    "execution": {
     "iopub.execute_input": "2025-07-23T14:50:43.309708Z",
     "iopub.status.busy": "2025-07-23T14:50:43.309342Z",
     "iopub.status.idle": "2025-07-23T14:50:43.316190Z",
     "shell.execute_reply": "2025-07-23T14:50:43.315025Z"
    },
    "papermill": {
     "duration": 0.019887,
     "end_time": "2025-07-23T14:50:43.317682",
     "exception": false,
     "start_time": "2025-07-23T14:50:43.297795",
     "status": "completed"
    },
    "tags": []
   },
   "outputs": [
    {
     "data": {
      "text/plain": [
       "{'coverage': 0.9064318359157285, 'avg_size': 1.134667261174897}"
      ]
     },
     "execution_count": 40,
     "metadata": {},
     "output_type": "execute_result"
    }
   ],
   "source": [
    "metrics"
   ]
  },
  {
   "cell_type": "code",
   "execution_count": 41,
   "id": "9b9a838d-31c9-430b-ae14-12baee460d17",
   "metadata": {
    "execution": {
     "iopub.execute_input": "2025-07-23T14:50:43.341662Z",
     "iopub.status.busy": "2025-07-23T14:50:43.340938Z",
     "iopub.status.idle": "2025-07-23T14:50:43.346506Z",
     "shell.execute_reply": "2025-07-23T14:50:43.345734Z"
    },
    "papermill": {
     "duration": 0.019015,
     "end_time": "2025-07-23T14:50:43.348101",
     "exception": false,
     "start_time": "2025-07-23T14:50:43.329086",
     "status": "completed"
    },
    "tags": []
   },
   "outputs": [],
   "source": [
    "example_universe = universe.copy()\n",
    "universe_model = example_universe.get(\"model\")\n",
    "universe_exclude_features = example_universe.get(\"exclude_features\")\n",
    "universe_exclude_subgroups = example_universe.get(\"exclude_subgroups\")\n",
    "universe_scale = example_universe.get(\"scale\")"
   ]
  },
  {
   "cell_type": "code",
   "execution_count": 42,
   "id": "f4b6a8ac-9dc0-4245-8a91-5b3b5999c4f9",
   "metadata": {
    "execution": {
     "iopub.execute_input": "2025-07-23T14:50:43.372363Z",
     "iopub.status.busy": "2025-07-23T14:50:43.371593Z",
     "iopub.status.idle": "2025-07-23T14:50:43.377341Z",
     "shell.execute_reply": "2025-07-23T14:50:43.376585Z"
    },
    "papermill": {
     "duration": 0.01912,
     "end_time": "2025-07-23T14:50:43.378916",
     "exception": false,
     "start_time": "2025-07-23T14:50:43.359796",
     "status": "completed"
    },
    "tags": []
   },
   "outputs": [],
   "source": [
    "cp_metrics_dict = {\n",
    "    \"universe_id\": [universe_id],\n",
    "    \"universe_model\": [universe_model],\n",
    "    \"universe_exclude_features\": [universe_exclude_features],\n",
    "    \"universe_exclude_subgroups\": [universe_exclude_subgroups],\n",
    "    \"universe_scale\": [universe_scale],\n",
    "    \"q_hat\": [q_hat],\n",
    "    \"coverage\": [metrics[\"coverage\"]],\n",
    "    \"avg_size\": [metrics[\"avg_size\"]],\n",
    "}"
   ]
  },
  {
   "cell_type": "code",
   "execution_count": 43,
   "id": "908acbb1-0371-4915-85ca-3fa520d2efe2",
   "metadata": {
    "execution": {
     "iopub.execute_input": "2025-07-23T14:50:43.403125Z",
     "iopub.status.busy": "2025-07-23T14:50:43.402297Z",
     "iopub.status.idle": "2025-07-23T14:50:43.409351Z",
     "shell.execute_reply": "2025-07-23T14:50:43.408419Z"
    },
    "papermill": {
     "duration": 0.020331,
     "end_time": "2025-07-23T14:50:43.410837",
     "exception": false,
     "start_time": "2025-07-23T14:50:43.390506",
     "status": "completed"
    },
    "tags": []
   },
   "outputs": [
    {
     "data": {
      "text/plain": [
       "{'universe_id': ['ddb506ae2be8b282f3a883e0c2c18dab'],\n",
       " 'universe_model': ['elasticnet'],\n",
       " 'universe_exclude_features': ['none'],\n",
       " 'universe_exclude_subgroups': ['keep-all'],\n",
       " 'universe_scale': ['do-not-scale'],\n",
       " 'q_hat': [0.6853695490423958],\n",
       " 'coverage': [0.9064318359157285],\n",
       " 'avg_size': [1.134667261174897]}"
      ]
     },
     "execution_count": 43,
     "metadata": {},
     "output_type": "execute_result"
    }
   ],
   "source": [
    "cp_metrics_dict"
   ]
  },
  {
   "cell_type": "code",
   "execution_count": 44,
   "id": "33007efc-14e9-4ec6-97ac-56a455c82265",
   "metadata": {
    "execution": {
     "iopub.execute_input": "2025-07-23T14:50:43.435702Z",
     "iopub.status.busy": "2025-07-23T14:50:43.434857Z",
     "iopub.status.idle": "2025-07-23T14:50:43.440853Z",
     "shell.execute_reply": "2025-07-23T14:50:43.439860Z"
    },
    "papermill": {
     "duration": 0.01972,
     "end_time": "2025-07-23T14:50:43.442507",
     "exception": false,
     "start_time": "2025-07-23T14:50:43.422787",
     "status": "completed"
    },
    "tags": []
   },
   "outputs": [],
   "source": [
    "cp_metrics_df = pd.DataFrame(cp_metrics_dict)"
   ]
  },
  {
   "cell_type": "code",
   "execution_count": 45,
   "id": "db12611b-57b2-4910-b9d0-355adfd6e7bf",
   "metadata": {
    "execution": {
     "iopub.execute_input": "2025-07-23T14:50:43.467534Z",
     "iopub.status.busy": "2025-07-23T14:50:43.467156Z",
     "iopub.status.idle": "2025-07-23T14:50:43.481978Z",
     "shell.execute_reply": "2025-07-23T14:50:43.481099Z"
    },
    "papermill": {
     "duration": 0.028584,
     "end_time": "2025-07-23T14:50:43.483421",
     "exception": false,
     "start_time": "2025-07-23T14:50:43.454837",
     "status": "completed"
    },
    "tags": []
   },
   "outputs": [
    {
     "data": {
      "text/html": [
       "<div>\n",
       "<style scoped>\n",
       "    .dataframe tbody tr th:only-of-type {\n",
       "        vertical-align: middle;\n",
       "    }\n",
       "\n",
       "    .dataframe tbody tr th {\n",
       "        vertical-align: top;\n",
       "    }\n",
       "\n",
       "    .dataframe thead th {\n",
       "        text-align: right;\n",
       "    }\n",
       "</style>\n",
       "<table border=\"1\" class=\"dataframe\">\n",
       "  <thead>\n",
       "    <tr style=\"text-align: right;\">\n",
       "      <th></th>\n",
       "      <th>universe_id</th>\n",
       "      <th>universe_model</th>\n",
       "      <th>universe_exclude_features</th>\n",
       "      <th>universe_exclude_subgroups</th>\n",
       "      <th>universe_scale</th>\n",
       "      <th>q_hat</th>\n",
       "      <th>coverage</th>\n",
       "      <th>avg_size</th>\n",
       "    </tr>\n",
       "  </thead>\n",
       "  <tbody>\n",
       "    <tr>\n",
       "      <th>0</th>\n",
       "      <td>ddb506ae2be8b282f3a883e0c2c18dab</td>\n",
       "      <td>elasticnet</td>\n",
       "      <td>none</td>\n",
       "      <td>keep-all</td>\n",
       "      <td>do-not-scale</td>\n",
       "      <td>0.68537</td>\n",
       "      <td>0.906432</td>\n",
       "      <td>1.134667</td>\n",
       "    </tr>\n",
       "  </tbody>\n",
       "</table>\n",
       "</div>"
      ],
      "text/plain": [
       "                        universe_id universe_model universe_exclude_features  \\\n",
       "0  ddb506ae2be8b282f3a883e0c2c18dab     elasticnet                      none   \n",
       "\n",
       "  universe_exclude_subgroups universe_scale    q_hat  coverage  avg_size  \n",
       "0                   keep-all   do-not-scale  0.68537  0.906432  1.134667  "
      ]
     },
     "execution_count": 45,
     "metadata": {},
     "output_type": "execute_result"
    }
   ],
   "source": [
    "cp_metrics_df"
   ]
  },
  {
   "cell_type": "code",
   "execution_count": 46,
   "id": "b7fbde55-a0a1-47e4-9af6-fe4a17fa8c61",
   "metadata": {
    "execution": {
     "iopub.execute_input": "2025-07-23T14:50:43.508267Z",
     "iopub.status.busy": "2025-07-23T14:50:43.507525Z",
     "iopub.status.idle": "2025-07-23T14:50:43.512443Z",
     "shell.execute_reply": "2025-07-23T14:50:43.511581Z"
    },
    "papermill": {
     "duration": 0.018624,
     "end_time": "2025-07-23T14:50:43.514073",
     "exception": false,
     "start_time": "2025-07-23T14:50:43.495449",
     "status": "completed"
    },
    "tags": []
   },
   "outputs": [],
   "source": [
    "# Conditional Coverage & looking at subgroups"
   ]
  },
  {
   "cell_type": "code",
   "execution_count": 47,
   "id": "027ae886-68dd-4141-96c7-805a5450e1ef",
   "metadata": {
    "execution": {
     "iopub.execute_input": "2025-07-23T14:50:43.539134Z",
     "iopub.status.busy": "2025-07-23T14:50:43.538397Z",
     "iopub.status.idle": "2025-07-23T14:50:43.725508Z",
     "shell.execute_reply": "2025-07-23T14:50:43.724642Z"
    },
    "papermill": {
     "duration": 0.201049,
     "end_time": "2025-07-23T14:50:43.727197",
     "exception": false,
     "start_time": "2025-07-23T14:50:43.526148",
     "status": "completed"
    },
    "tags": []
   },
   "outputs": [],
   "source": [
    "from fairness_multiverse.conformal import build_cp_groups\n",
    "\n",
    "cp_groups_df = build_cp_groups(pred_sets, y_true, X_test.index, org_test)\n",
    "#needs universe_id and setting"
   ]
  },
  {
   "cell_type": "code",
   "execution_count": 48,
   "id": "c3b92545-903e-4839-89af-0f057907d7d6",
   "metadata": {
    "execution": {
     "iopub.execute_input": "2025-07-23T14:50:43.752417Z",
     "iopub.status.busy": "2025-07-23T14:50:43.751871Z",
     "iopub.status.idle": "2025-07-23T14:50:44.774716Z",
     "shell.execute_reply": "2025-07-23T14:50:44.773858Z"
    },
    "papermill": {
     "duration": 1.037083,
     "end_time": "2025-07-23T14:50:44.776337",
     "exception": false,
     "start_time": "2025-07-23T14:50:43.739254",
     "status": "completed"
    },
    "tags": []
   },
   "outputs": [],
   "source": [
    "# Define covered = 1 if true_label is in the predicted set\n",
    "cp_groups_df['covered'] = cp_groups_df.apply(\n",
    "    lambda r: int(r['true_label'] in r['pred_set']),\n",
    "    axis=1\n",
    ")"
   ]
  },
  {
   "cell_type": "code",
   "execution_count": 49,
   "id": "338ff529-1a6b-4b87-a931-8e4788d52aad",
   "metadata": {
    "execution": {
     "iopub.execute_input": "2025-07-23T14:50:44.800718Z",
     "iopub.status.busy": "2025-07-23T14:50:44.800321Z",
     "iopub.status.idle": "2025-07-23T14:50:44.804901Z",
     "shell.execute_reply": "2025-07-23T14:50:44.803853Z"
    },
    "papermill": {
     "duration": 0.018317,
     "end_time": "2025-07-23T14:50:44.806491",
     "exception": false,
     "start_time": "2025-07-23T14:50:44.788174",
     "status": "completed"
    },
    "tags": []
   },
   "outputs": [],
   "source": [
    "#cp_groups_df"
   ]
  },
  {
   "cell_type": "code",
   "execution_count": 50,
   "id": "90032e27-66df-4540-9169-4e89cfbaa758",
   "metadata": {
    "execution": {
     "iopub.execute_input": "2025-07-23T14:50:44.831691Z",
     "iopub.status.busy": "2025-07-23T14:50:44.830958Z",
     "iopub.status.idle": "2025-07-23T14:50:44.841127Z",
     "shell.execute_reply": "2025-07-23T14:50:44.840314Z"
    },
    "papermill": {
     "duration": 0.024068,
     "end_time": "2025-07-23T14:50:44.842652",
     "exception": false,
     "start_time": "2025-07-23T14:50:44.818584",
     "status": "completed"
    },
    "tags": []
   },
   "outputs": [],
   "source": [
    "subgroups = ['frau1','nongerman','nongerman_male','nongerman_female']\n",
    "\n",
    "# Conditional coverage for subgroup==1\n",
    "cond_coverage = {\n",
    "    g: cp_groups_df.loc[cp_groups_df[g]==1, 'covered'].mean()\n",
    "    for g in subgroups\n",
    "}"
   ]
  },
  {
   "cell_type": "code",
   "execution_count": 51,
   "id": "1e348fb1-b9c3-45bc-ba23-f016827a7e0d",
   "metadata": {
    "execution": {
     "iopub.execute_input": "2025-07-23T14:50:44.867712Z",
     "iopub.status.busy": "2025-07-23T14:50:44.866924Z",
     "iopub.status.idle": "2025-07-23T14:50:44.873783Z",
     "shell.execute_reply": "2025-07-23T14:50:44.872830Z"
    },
    "papermill": {
     "duration": 0.020687,
     "end_time": "2025-07-23T14:50:44.875340",
     "exception": false,
     "start_time": "2025-07-23T14:50:44.854653",
     "status": "completed"
    },
    "tags": []
   },
   "outputs": [
    {
     "data": {
      "text/plain": [
       "{'frau1': 0.9055128723547647,\n",
       " 'nongerman': 0.9070903272890586,\n",
       " 'nongerman_male': 0.92227325947942,\n",
       " 'nongerman_female': 0.8819672131147541}"
      ]
     },
     "execution_count": 51,
     "metadata": {},
     "output_type": "execute_result"
    }
   ],
   "source": [
    "cond_coverage"
   ]
  },
  {
   "cell_type": "code",
   "execution_count": 52,
   "id": "f5093324-c3dd-4d63-bc4c-8d945e5c8bbb",
   "metadata": {
    "execution": {
     "iopub.execute_input": "2025-07-23T14:50:44.900664Z",
     "iopub.status.busy": "2025-07-23T14:50:44.899876Z",
     "iopub.status.idle": "2025-07-23T14:50:44.906426Z",
     "shell.execute_reply": "2025-07-23T14:50:44.905648Z"
    },
    "papermill": {
     "duration": 0.020349,
     "end_time": "2025-07-23T14:50:44.907972",
     "exception": false,
     "start_time": "2025-07-23T14:50:44.887623",
     "status": "completed"
    },
    "tags": []
   },
   "outputs": [],
   "source": [
    "for subgroup, cov in cond_coverage.items():\n",
    "    cp_metrics_df[f\"cov_{subgroup}\"] = cov"
   ]
  },
  {
   "cell_type": "code",
   "execution_count": 53,
   "id": "6e872e10-dbe5-49e8-b554-5030c98ff75d",
   "metadata": {
    "execution": {
     "iopub.execute_input": "2025-07-23T14:50:44.933925Z",
     "iopub.status.busy": "2025-07-23T14:50:44.933281Z",
     "iopub.status.idle": "2025-07-23T14:50:44.948631Z",
     "shell.execute_reply": "2025-07-23T14:50:44.947735Z"
    },
    "papermill": {
     "duration": 0.029516,
     "end_time": "2025-07-23T14:50:44.950298",
     "exception": false,
     "start_time": "2025-07-23T14:50:44.920782",
     "status": "completed"
    },
    "tags": []
   },
   "outputs": [
    {
     "data": {
      "text/html": [
       "<div>\n",
       "<style scoped>\n",
       "    .dataframe tbody tr th:only-of-type {\n",
       "        vertical-align: middle;\n",
       "    }\n",
       "\n",
       "    .dataframe tbody tr th {\n",
       "        vertical-align: top;\n",
       "    }\n",
       "\n",
       "    .dataframe thead th {\n",
       "        text-align: right;\n",
       "    }\n",
       "</style>\n",
       "<table border=\"1\" class=\"dataframe\">\n",
       "  <thead>\n",
       "    <tr style=\"text-align: right;\">\n",
       "      <th></th>\n",
       "      <th>universe_id</th>\n",
       "      <th>universe_model</th>\n",
       "      <th>universe_exclude_features</th>\n",
       "      <th>universe_exclude_subgroups</th>\n",
       "      <th>universe_scale</th>\n",
       "      <th>q_hat</th>\n",
       "      <th>coverage</th>\n",
       "      <th>avg_size</th>\n",
       "      <th>cov_frau1</th>\n",
       "      <th>cov_nongerman</th>\n",
       "      <th>cov_nongerman_male</th>\n",
       "      <th>cov_nongerman_female</th>\n",
       "    </tr>\n",
       "  </thead>\n",
       "  <tbody>\n",
       "    <tr>\n",
       "      <th>0</th>\n",
       "      <td>ddb506ae2be8b282f3a883e0c2c18dab</td>\n",
       "      <td>elasticnet</td>\n",
       "      <td>none</td>\n",
       "      <td>keep-all</td>\n",
       "      <td>do-not-scale</td>\n",
       "      <td>0.68537</td>\n",
       "      <td>0.906432</td>\n",
       "      <td>1.134667</td>\n",
       "      <td>0.905513</td>\n",
       "      <td>0.90709</td>\n",
       "      <td>0.922273</td>\n",
       "      <td>0.881967</td>\n",
       "    </tr>\n",
       "  </tbody>\n",
       "</table>\n",
       "</div>"
      ],
      "text/plain": [
       "                        universe_id universe_model universe_exclude_features  \\\n",
       "0  ddb506ae2be8b282f3a883e0c2c18dab     elasticnet                      none   \n",
       "\n",
       "  universe_exclude_subgroups universe_scale    q_hat  coverage  avg_size  \\\n",
       "0                   keep-all   do-not-scale  0.68537  0.906432  1.134667   \n",
       "\n",
       "   cov_frau1  cov_nongerman  cov_nongerman_male  cov_nongerman_female  \n",
       "0   0.905513        0.90709            0.922273              0.881967  "
      ]
     },
     "execution_count": 53,
     "metadata": {},
     "output_type": "execute_result"
    }
   ],
   "source": [
    "cp_metrics_df"
   ]
  },
  {
   "cell_type": "markdown",
   "id": "33774451",
   "metadata": {
    "papermill": {
     "duration": 0.011837,
     "end_time": "2025-07-23T14:50:44.974928",
     "exception": false,
     "start_time": "2025-07-23T14:50:44.963091",
     "status": "completed"
    },
    "tags": []
   },
   "source": [
    "# (Fairness) Metrics"
   ]
  },
  {
   "cell_type": "code",
   "execution_count": 54,
   "id": "debc5d62",
   "metadata": {
    "execution": {
     "iopub.execute_input": "2025-07-23T14:50:45.000107Z",
     "iopub.status.busy": "2025-07-23T14:50:44.999562Z",
     "iopub.status.idle": "2025-07-23T14:50:45.015542Z",
     "shell.execute_reply": "2025-07-23T14:50:45.014547Z"
    },
    "papermill": {
     "duration": 0.030386,
     "end_time": "2025-07-23T14:50:45.017044",
     "exception": false,
     "start_time": "2025-07-23T14:50:44.986658",
     "status": "completed"
    },
    "tags": []
   },
   "outputs": [],
   "source": [
    "# do I need to include maxdeutsch1.missing?\n",
    "\n",
    "import numpy as np\n",
    "\n",
    "colname_to_bin = \"maxdeutsch1\"\n",
    "majority_value = org_train[colname_to_bin].mode()[0]\n",
    "\n",
    "org_test[\"majmin\"] = np.where(org_test[colname_to_bin] == majority_value, \"majority\", \"minority\")"
   ]
  },
  {
   "cell_type": "code",
   "execution_count": 55,
   "id": "06a50de5",
   "metadata": {
    "execution": {
     "iopub.execute_input": "2025-07-23T14:50:45.043457Z",
     "iopub.status.busy": "2025-07-23T14:50:45.042700Z",
     "iopub.status.idle": "2025-07-23T14:50:46.665072Z",
     "shell.execute_reply": "2025-07-23T14:50:46.664226Z"
    },
    "papermill": {
     "duration": 1.636834,
     "end_time": "2025-07-23T14:50:46.666704",
     "exception": false,
     "start_time": "2025-07-23T14:50:45.029870",
     "status": "completed"
    },
    "tags": []
   },
   "outputs": [],
   "source": [
    "example_universe = universe.copy()\n",
    "example_universe[\"cutoff\"] = example_universe[\"cutoff\"][0]\n",
    "example_universe[\"eval_fairness_grouping\"] = example_universe[\"eval_fairness_grouping\"][0]\n",
    "fairness_dict, metric_frame = universe_analysis.compute_metrics(\n",
    "    example_universe,\n",
    "    y_pred_prob=probs_test,\n",
    "    y_test=y_true,\n",
    "    org_test=org_test,\n",
    ")"
   ]
  },
  {
   "cell_type": "markdown",
   "id": "f95d4e02",
   "metadata": {
    "papermill": {
     "duration": 0.011881,
     "end_time": "2025-07-23T14:50:46.691141",
     "exception": false,
     "start_time": "2025-07-23T14:50:46.679260",
     "status": "completed"
    },
    "tags": []
   },
   "source": [
    "# Overall"
   ]
  },
  {
   "cell_type": "markdown",
   "id": "bdee4871",
   "metadata": {
    "papermill": {
     "duration": 0.059971,
     "end_time": "2025-07-23T14:50:46.762936",
     "exception": false,
     "start_time": "2025-07-23T14:50:46.702965",
     "status": "completed"
    },
    "tags": []
   },
   "source": [
    "Fairness\n",
    "Main fairness target: Equalized Odds. Seems to be a better fit than equal opportunity, since we're not only interested in Y = 1. Seems to be a better fit than demographic parity, since we also care about accuracy, not just equal distribution of preds.\n",
    "\n",
    "Pick column for computation of fairness metrics\n",
    "\n",
    "Performance\n",
    "Overall performance measures, most interesting in relation to the measures split by group below"
   ]
  },
  {
   "cell_type": "code",
   "execution_count": 56,
   "id": "c4e067c6",
   "metadata": {
    "execution": {
     "iopub.execute_input": "2025-07-23T14:50:46.788503Z",
     "iopub.status.busy": "2025-07-23T14:50:46.788124Z",
     "iopub.status.idle": "2025-07-23T14:50:46.795959Z",
     "shell.execute_reply": "2025-07-23T14:50:46.795180Z"
    },
    "papermill": {
     "duration": 0.022418,
     "end_time": "2025-07-23T14:50:46.797475",
     "exception": false,
     "start_time": "2025-07-23T14:50:46.775057",
     "status": "completed"
    },
    "tags": []
   },
   "outputs": [
    {
     "data": {
      "text/plain": [
       "accuracy                   0.221369\n",
       "balanced accuracy          0.541907\n",
       "f1                         0.242783\n",
       "precision                  0.138694\n",
       "false positive rate        0.889248\n",
       "false negative rate        0.026938\n",
       "selection rate             0.900000\n",
       "count                  89710.000000\n",
       "dtype: float64"
      ]
     },
     "execution_count": 56,
     "metadata": {},
     "output_type": "execute_result"
    }
   ],
   "source": [
    "metric_frame.overall"
   ]
  },
  {
   "cell_type": "markdown",
   "id": "e968fe9d",
   "metadata": {
    "papermill": {
     "duration": 0.011931,
     "end_time": "2025-07-23T14:50:46.822204",
     "exception": false,
     "start_time": "2025-07-23T14:50:46.810273",
     "status": "completed"
    },
    "tags": []
   },
   "source": [
    "By Group"
   ]
  },
  {
   "cell_type": "code",
   "execution_count": 57,
   "id": "ec325bce",
   "metadata": {
    "execution": {
     "iopub.execute_input": "2025-07-23T14:50:46.847981Z",
     "iopub.status.busy": "2025-07-23T14:50:46.847209Z",
     "iopub.status.idle": "2025-07-23T14:50:46.860815Z",
     "shell.execute_reply": "2025-07-23T14:50:46.859872Z"
    },
    "papermill": {
     "duration": 0.028333,
     "end_time": "2025-07-23T14:50:46.862375",
     "exception": false,
     "start_time": "2025-07-23T14:50:46.834042",
     "status": "completed"
    },
    "tags": []
   },
   "outputs": [
    {
     "data": {
      "text/html": [
       "<div>\n",
       "<style scoped>\n",
       "    .dataframe tbody tr th:only-of-type {\n",
       "        vertical-align: middle;\n",
       "    }\n",
       "\n",
       "    .dataframe tbody tr th {\n",
       "        vertical-align: top;\n",
       "    }\n",
       "\n",
       "    .dataframe thead th {\n",
       "        text-align: right;\n",
       "    }\n",
       "</style>\n",
       "<table border=\"1\" class=\"dataframe\">\n",
       "  <thead>\n",
       "    <tr style=\"text-align: right;\">\n",
       "      <th></th>\n",
       "      <th>accuracy</th>\n",
       "      <th>balanced accuracy</th>\n",
       "      <th>f1</th>\n",
       "      <th>precision</th>\n",
       "      <th>false positive rate</th>\n",
       "      <th>false negative rate</th>\n",
       "      <th>selection rate</th>\n",
       "      <th>count</th>\n",
       "    </tr>\n",
       "    <tr>\n",
       "      <th>majmin</th>\n",
       "      <th></th>\n",
       "      <th></th>\n",
       "      <th></th>\n",
       "      <th></th>\n",
       "      <th></th>\n",
       "      <th></th>\n",
       "      <th></th>\n",
       "      <th></th>\n",
       "    </tr>\n",
       "  </thead>\n",
       "  <tbody>\n",
       "    <tr>\n",
       "      <th>majority</th>\n",
       "      <td>0.243921</td>\n",
       "      <td>0.551509</td>\n",
       "      <td>0.253120</td>\n",
       "      <td>0.145560</td>\n",
       "      <td>0.866567</td>\n",
       "      <td>0.030416</td>\n",
       "      <td>0.880179</td>\n",
       "      <td>69170.0</td>\n",
       "    </tr>\n",
       "    <tr>\n",
       "      <th>minority</th>\n",
       "      <td>0.145424</td>\n",
       "      <td>0.511155</td>\n",
       "      <td>0.210214</td>\n",
       "      <td>0.117641</td>\n",
       "      <td>0.964176</td>\n",
       "      <td>0.013514</td>\n",
       "      <td>0.966748</td>\n",
       "      <td>20540.0</td>\n",
       "    </tr>\n",
       "  </tbody>\n",
       "</table>\n",
       "</div>"
      ],
      "text/plain": [
       "          accuracy  balanced accuracy        f1  precision  \\\n",
       "majmin                                                       \n",
       "majority  0.243921           0.551509  0.253120   0.145560   \n",
       "minority  0.145424           0.511155  0.210214   0.117641   \n",
       "\n",
       "          false positive rate  false negative rate  selection rate    count  \n",
       "majmin                                                                       \n",
       "majority             0.866567             0.030416        0.880179  69170.0  \n",
       "minority             0.964176             0.013514        0.966748  20540.0  "
      ]
     },
     "execution_count": 57,
     "metadata": {},
     "output_type": "execute_result"
    }
   ],
   "source": [
    "metric_frame.by_group"
   ]
  },
  {
   "cell_type": "code",
   "execution_count": 58,
   "id": "a9ddbe63",
   "metadata": {
    "execution": {
     "iopub.execute_input": "2025-07-23T14:50:46.889164Z",
     "iopub.status.busy": "2025-07-23T14:50:46.888638Z",
     "iopub.status.idle": "2025-07-23T14:50:48.589335Z",
     "shell.execute_reply": "2025-07-23T14:50:48.588483Z"
    },
    "papermill": {
     "duration": 1.715138,
     "end_time": "2025-07-23T14:50:48.590696",
     "exception": false,
     "start_time": "2025-07-23T14:50:46.875558",
     "status": "completed"
    },
    "tags": []
   },
   "outputs": [
    {
     "data": {
      "text/plain": [
       "array([[<Axes: title={'center': 'accuracy'}, xlabel='majmin'>,\n",
       "        <Axes: title={'center': 'balanced accuracy'}, xlabel='majmin'>,\n",
       "        <Axes: title={'center': 'f1'}, xlabel='majmin'>],\n",
       "       [<Axes: title={'center': 'precision'}, xlabel='majmin'>,\n",
       "        <Axes: title={'center': 'false positive rate'}, xlabel='majmin'>,\n",
       "        <Axes: title={'center': 'false negative rate'}, xlabel='majmin'>],\n",
       "       [<Axes: title={'center': 'selection rate'}, xlabel='majmin'>,\n",
       "        <Axes: title={'center': 'count'}, xlabel='majmin'>,\n",
       "        <Axes: xlabel='majmin'>]], dtype=object)"
      ]
     },
     "execution_count": 58,
     "metadata": {},
     "output_type": "execute_result"
    },
    {
     "data": {
      "image/png": "[encoded data removed]",
      "text/plain": [
       "<Figure size 1200x800 with 9 Axes>"
      ]
     },
     "metadata": {},
     "output_type": "display_data"
    }
   ],
   "source": [
    "# In a graphic\n",
    "metric_frame.by_group.plot.bar(\n",
    "    subplots=True,\n",
    "    layout=[3, 3],\n",
    "    legend=False,\n",
    "    figsize=[12, 8],\n",
    "    title=\"Show all metrics\",\n",
    ")"
   ]
  },
  {
   "cell_type": "markdown",
   "id": "f57a0bac",
   "metadata": {
    "papermill": {
     "duration": 0.013294,
     "end_time": "2025-07-23T14:50:48.620533",
     "exception": false,
     "start_time": "2025-07-23T14:50:48.607239",
     "status": "completed"
    },
    "tags": []
   },
   "source": [
    "# Final Output"
   ]
  },
  {
   "cell_type": "code",
   "execution_count": 59,
   "id": "96d280a3",
   "metadata": {
    "execution": {
     "iopub.execute_input": "2025-07-23T14:50:48.649732Z",
     "iopub.status.busy": "2025-07-23T14:50:48.648765Z",
     "iopub.status.idle": "2025-07-23T14:50:48.656829Z",
     "shell.execute_reply": "2025-07-23T14:50:48.655868Z"
    },
    "papermill": {
     "duration": 0.0242,
     "end_time": "2025-07-23T14:50:48.658334",
     "exception": false,
     "start_time": "2025-07-23T14:50:48.634134",
     "status": "completed"
    },
    "tags": []
   },
   "outputs": [
    {
     "data": {
      "text/plain": [
       "4"
      ]
     },
     "execution_count": 59,
     "metadata": {},
     "output_type": "execute_result"
    }
   ],
   "source": [
    "sub_universes = universe_analysis.generate_sub_universes()\n",
    "len(sub_universes)"
   ]
  },
  {
   "cell_type": "code",
   "execution_count": 60,
   "id": "92adf7ba",
   "metadata": {
    "execution": {
     "iopub.execute_input": "2025-07-23T14:50:48.688340Z",
     "iopub.status.busy": "2025-07-23T14:50:48.687605Z",
     "iopub.status.idle": "2025-07-23T14:50:48.693509Z",
     "shell.execute_reply": "2025-07-23T14:50:48.692625Z"
    },
    "papermill": {
     "duration": 0.022147,
     "end_time": "2025-07-23T14:50:48.695003",
     "exception": false,
     "start_time": "2025-07-23T14:50:48.672856",
     "status": "completed"
    },
    "tags": []
   },
   "outputs": [],
   "source": [
    "def filter_sub_universe_data(sub_universe, org_test):\n",
    "    # Keep all rows — no filtering\n",
    "    keep_rows_mask = np.ones(org_test.shape[0], dtype=bool)\n",
    "\n",
    "    print(f\"[INFO] Keeping all rows: {keep_rows_mask.sum()} rows retained.\")\n",
    "    return keep_rows_mask"
   ]
  },
  {
   "cell_type": "code",
   "execution_count": 61,
   "id": "4a759155",
   "metadata": {
    "execution": {
     "iopub.execute_input": "2025-07-23T14:50:48.724693Z",
     "iopub.status.busy": "2025-07-23T14:50:48.723947Z",
     "iopub.status.idle": "2025-07-23T14:50:55.050374Z",
     "shell.execute_reply": "2025-07-23T14:50:55.049477Z"
    },
    "papermill": {
     "duration": 6.342179,
     "end_time": "2025-07-23T14:50:55.051817",
     "exception": false,
     "start_time": "2025-07-23T14:50:48.709638",
     "status": "completed"
    },
    "tags": []
   },
   "outputs": [
    {
     "name": "stdout",
     "output_type": "stream",
     "text": [
      "Stopping execution_time clock.\n",
      "[INFO] Keeping all rows: 89710 rows retained.\n"
     ]
    },
    {
     "name": "stdout",
     "output_type": "stream",
     "text": [
      "[INFO] Keeping all rows: 89710 rows retained.\n"
     ]
    },
    {
     "name": "stdout",
     "output_type": "stream",
     "text": [
      "[INFO] Keeping all rows: 89710 rows retained.\n"
     ]
    },
    {
     "name": "stdout",
     "output_type": "stream",
     "text": [
      "[INFO] Keeping all rows: 89710 rows retained.\n"
     ]
    },
    {
     "data": {
      "text/html": [
       "<div>\n",
       "<style scoped>\n",
       "    .dataframe tbody tr th:only-of-type {\n",
       "        vertical-align: middle;\n",
       "    }\n",
       "\n",
       "    .dataframe tbody tr th {\n",
       "        vertical-align: top;\n",
       "    }\n",
       "\n",
       "    .dataframe thead th {\n",
       "        text-align: right;\n",
       "    }\n",
       "</style>\n",
       "<table border=\"1\" class=\"dataframe\">\n",
       "  <thead>\n",
       "    <tr style=\"text-align: right;\">\n",
       "      <th></th>\n",
       "      <th>run_no</th>\n",
       "      <th>universe_id</th>\n",
       "      <th>universe_settings</th>\n",
       "      <th>execution_time</th>\n",
       "      <th>test_size_n</th>\n",
       "      <th>test_size_frac</th>\n",
       "      <th>fair_main_equalized_odds_difference</th>\n",
       "      <th>fair_main_equalized_odds_ratio</th>\n",
       "      <th>fair_main_demographic_parity_difference</th>\n",
       "      <th>fair_main_demographic_parity_ratio</th>\n",
       "      <th>...</th>\n",
       "      <th>perf_grp_precision_0</th>\n",
       "      <th>perf_grp_precision_1</th>\n",
       "      <th>perf_grp_false positive rate_0</th>\n",
       "      <th>perf_grp_false positive rate_1</th>\n",
       "      <th>perf_grp_false negative rate_0</th>\n",
       "      <th>perf_grp_false negative rate_1</th>\n",
       "      <th>perf_grp_selection rate_0</th>\n",
       "      <th>perf_grp_selection rate_1</th>\n",
       "      <th>perf_grp_count_0</th>\n",
       "      <th>perf_grp_count_1</th>\n",
       "    </tr>\n",
       "  </thead>\n",
       "  <tbody>\n",
       "    <tr>\n",
       "      <th>0</th>\n",
       "      <td>9</td>\n",
       "      <td>ddb506ae2be8b282f3a883e0c2c18dab</td>\n",
       "      <td>{\"cutoff\": \"quantile_0.1\", \"eval_fairness_grou...</td>\n",
       "      <td>643.682086</td>\n",
       "      <td>89710</td>\n",
       "      <td>1.0</td>\n",
       "      <td>0.097609</td>\n",
       "      <td>0.898764</td>\n",
       "      <td>0.086569</td>\n",
       "      <td>0.910454</td>\n",
       "      <td>...</td>\n",
       "      <td>NaN</td>\n",
       "      <td>NaN</td>\n",
       "      <td>NaN</td>\n",
       "      <td>NaN</td>\n",
       "      <td>NaN</td>\n",
       "      <td>NaN</td>\n",
       "      <td>NaN</td>\n",
       "      <td>NaN</td>\n",
       "      <td>NaN</td>\n",
       "      <td>NaN</td>\n",
       "    </tr>\n",
       "    <tr>\n",
       "      <th>0</th>\n",
       "      <td>9</td>\n",
       "      <td>ddb506ae2be8b282f3a883e0c2c18dab</td>\n",
       "      <td>{\"cutoff\": \"quantile_0.1\", \"eval_fairness_grou...</td>\n",
       "      <td>643.682086</td>\n",
       "      <td>89710</td>\n",
       "      <td>1.0</td>\n",
       "      <td>0.097609</td>\n",
       "      <td>0.898764</td>\n",
       "      <td>0.086569</td>\n",
       "      <td>0.910454</td>\n",
       "      <td>...</td>\n",
       "      <td>0.117641</td>\n",
       "      <td>0.145560</td>\n",
       "      <td>0.964176</td>\n",
       "      <td>0.866567</td>\n",
       "      <td>0.013514</td>\n",
       "      <td>0.030416</td>\n",
       "      <td>0.966748</td>\n",
       "      <td>0.880179</td>\n",
       "      <td>20540.0</td>\n",
       "      <td>69170.0</td>\n",
       "    </tr>\n",
       "    <tr>\n",
       "      <th>0</th>\n",
       "      <td>9</td>\n",
       "      <td>ddb506ae2be8b282f3a883e0c2c18dab</td>\n",
       "      <td>{\"cutoff\": \"quantile_0.25\", \"eval_fairness_gro...</td>\n",
       "      <td>643.682086</td>\n",
       "      <td>89710</td>\n",
       "      <td>1.0</td>\n",
       "      <td>0.195559</td>\n",
       "      <td>0.776904</td>\n",
       "      <td>0.171881</td>\n",
       "      <td>0.805238</td>\n",
       "      <td>...</td>\n",
       "      <td>NaN</td>\n",
       "      <td>NaN</td>\n",
       "      <td>NaN</td>\n",
       "      <td>NaN</td>\n",
       "      <td>NaN</td>\n",
       "      <td>NaN</td>\n",
       "      <td>NaN</td>\n",
       "      <td>NaN</td>\n",
       "      <td>NaN</td>\n",
       "      <td>NaN</td>\n",
       "    </tr>\n",
       "    <tr>\n",
       "      <th>0</th>\n",
       "      <td>9</td>\n",
       "      <td>ddb506ae2be8b282f3a883e0c2c18dab</td>\n",
       "      <td>{\"cutoff\": \"quantile_0.25\", \"eval_fairness_gro...</td>\n",
       "      <td>643.682086</td>\n",
       "      <td>89710</td>\n",
       "      <td>1.0</td>\n",
       "      <td>0.195559</td>\n",
       "      <td>0.776904</td>\n",
       "      <td>0.171881</td>\n",
       "      <td>0.805238</td>\n",
       "      <td>...</td>\n",
       "      <td>0.121256</td>\n",
       "      <td>0.168325</td>\n",
       "      <td>0.876568</td>\n",
       "      <td>0.681009</td>\n",
       "      <td>0.071791</td>\n",
       "      <td>0.094748</td>\n",
       "      <td>0.882522</td>\n",
       "      <td>0.710640</td>\n",
       "      <td>20540.0</td>\n",
       "      <td>69170.0</td>\n",
       "    </tr>\n",
       "  </tbody>\n",
       "</table>\n",
       "<p>4 rows × 50 columns</p>\n",
       "</div>"
      ],
      "text/plain": [
       "  run_no                       universe_id  \\\n",
       "0      9  ddb506ae2be8b282f3a883e0c2c18dab   \n",
       "0      9  ddb506ae2be8b282f3a883e0c2c18dab   \n",
       "0      9  ddb506ae2be8b282f3a883e0c2c18dab   \n",
       "0      9  ddb506ae2be8b282f3a883e0c2c18dab   \n",
       "\n",
       "                                   universe_settings  execution_time  \\\n",
       "0  {\"cutoff\": \"quantile_0.1\", \"eval_fairness_grou...      643.682086   \n",
       "0  {\"cutoff\": \"quantile_0.1\", \"eval_fairness_grou...      643.682086   \n",
       "0  {\"cutoff\": \"quantile_0.25\", \"eval_fairness_gro...      643.682086   \n",
       "0  {\"cutoff\": \"quantile_0.25\", \"eval_fairness_gro...      643.682086   \n",
       "\n",
       "   test_size_n  test_size_frac  fair_main_equalized_odds_difference  \\\n",
       "0        89710             1.0                             0.097609   \n",
       "0        89710             1.0                             0.097609   \n",
       "0        89710             1.0                             0.195559   \n",
       "0        89710             1.0                             0.195559   \n",
       "\n",
       "   fair_main_equalized_odds_ratio  fair_main_demographic_parity_difference  \\\n",
       "0                        0.898764                                 0.086569   \n",
       "0                        0.898764                                 0.086569   \n",
       "0                        0.776904                                 0.171881   \n",
       "0                        0.776904                                 0.171881   \n",
       "\n",
       "   fair_main_demographic_parity_ratio  ...  perf_grp_precision_0  \\\n",
       "0                            0.910454  ...                   NaN   \n",
       "0                            0.910454  ...              0.117641   \n",
       "0                            0.805238  ...                   NaN   \n",
       "0                            0.805238  ...              0.121256   \n",
       "\n",
       "   perf_grp_precision_1  perf_grp_false positive rate_0  \\\n",
       "0                   NaN                             NaN   \n",
       "0              0.145560                        0.964176   \n",
       "0                   NaN                             NaN   \n",
       "0              0.168325                        0.876568   \n",
       "\n",
       "   perf_grp_false positive rate_1  perf_grp_false negative rate_0  \\\n",
       "0                             NaN                             NaN   \n",
       "0                        0.866567                        0.013514   \n",
       "0                             NaN                             NaN   \n",
       "0                        0.681009                        0.071791   \n",
       "\n",
       "   perf_grp_false negative rate_1  perf_grp_selection rate_0  \\\n",
       "0                             NaN                        NaN   \n",
       "0                        0.030416                   0.966748   \n",
       "0                             NaN                        NaN   \n",
       "0                        0.094748                   0.882522   \n",
       "\n",
       "   perf_grp_selection rate_1  perf_grp_count_0  perf_grp_count_1  \n",
       "0                        NaN               NaN               NaN  \n",
       "0                   0.880179           20540.0           69170.0  \n",
       "0                        NaN               NaN               NaN  \n",
       "0                   0.710640           20540.0           69170.0  \n",
       "\n",
       "[4 rows x 50 columns]"
      ]
     },
     "execution_count": 61,
     "metadata": {},
     "output_type": "execute_result"
    }
   ],
   "source": [
    "final_output = universe_analysis.generate_final_output(\n",
    "    y_pred_prob=probs_test,\n",
    "    y_test=y_true,\n",
    "    org_test=org_test,\n",
    "    filter_data=filter_sub_universe_data,\n",
    "    cp_metrics_df=cp_metrics_df,\n",
    "    save=True,\n",
    ")\n",
    "final_output"
   ]
  },
  {
   "cell_type": "code",
   "execution_count": null,
   "id": "721ff514-cb11-46f8-b6fc-50392f74b5cb",
   "metadata": {
    "papermill": {
     "duration": 0.014038,
     "end_time": "2025-07-23T14:50:55.083124",
     "exception": false,
     "start_time": "2025-07-23T14:50:55.069086",
     "status": "completed"
    },
    "tags": []
   },
   "outputs": [],
   "source": []
  }
 ],
 "metadata": {
  "celltoolbar": "Tags",
  "kernelspec": {
   "display_name": "Python (CMA Fairness)",
   "language": "python",
   "name": "cma_fair_env"
  },
  "language_info": {
   "codemirror_mode": {
    "name": "ipython",
    "version": 3
   },
   "file_extension": ".py",
   "mimetype": "text/x-python",
   "name": "python",
   "nbconvert_exporter": "python",
   "pygments_lexer": "ipython3",
   "version": "3.10.12"
  },
  "papermill": {
   "default_parameters": {},
   "duration": 654.233679,
   "end_time": "2025-07-23T14:50:55.715574",
   "environment_variables": {},
   "exception": null,
   "input_path": "universe_analysis.ipynb",
   "output_path": "output/runs/9/notebooks/m_9-ddb506ae2be8b282f3a883e0c2c18dab.ipynb",
   "parameters": {
    "output_dir": "output",
    "run_no": "9",
    "seed": "2023",
    "universe": "{\"cutoff\": [\"quantile_0.1\", \"quantile_0.25\"], \"eval_fairness_grouping\": [\"majority-minority\", \"nationality-all\"], \"exclude_features\": \"none\", \"exclude_subgroups\": \"keep-all\", \"model\": \"elasticnet\", \"scale\": \"do-not-scale\"}",
    "universe_id": "ddb506ae2be8b282f3a883e0c2c18dab"
   },
   "start_time": "2025-07-23T14:40:01.481895",
   "version": "2.6.0"
  }
 },
 "nbformat": 4,
 "nbformat_minor": 5
}