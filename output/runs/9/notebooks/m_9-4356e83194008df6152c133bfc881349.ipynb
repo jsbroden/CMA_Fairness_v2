{
 "cells": [
  {
   "cell_type": "code",
   "execution_count": 1,
   "id": "f159f837-637b-42ba-96b5-ec9a68c44524",
   "metadata": {
    "execution": {
     "iopub.execute_input": "2025-07-23T14:27:27.450213Z",
     "iopub.status.busy": "2025-07-23T14:27:27.449837Z",
     "iopub.status.idle": "2025-07-23T14:27:27.461250Z",
     "shell.execute_reply": "2025-07-23T14:27:27.460330Z"
    },
    "papermill": {
     "duration": 0.029443,
     "end_time": "2025-07-23T14:27:27.462818",
     "exception": false,
     "start_time": "2025-07-23T14:27:27.433375",
     "status": "completed"
    },
    "tags": []
   },
   "outputs": [
    {
     "name": "stdout",
     "output_type": "stream",
     "text": [
      "/dss/dsshome1/0C/ra93lal2/cma/CMA_Fairness_v2\n"
     ]
    },
    {
     "name": "stderr",
     "output_type": "stream",
     "text": [
      "/dss/dsshome1/0C/ra93lal2/.local/share/virtualenvs/CMA_Fairness_v2-3j10GkSs/lib/python3.10/site-packages/IPython/core/magics/osm.py:393: UserWarning: This is now an optional IPython functionality, using bookmarks requires you to install the `pickleshare` library.\n",
      "  bkms = self.shell.db.get('bookmarks', {})\n",
      "/dss/dsshome1/0C/ra93lal2/.local/share/virtualenvs/CMA_Fairness_v2-3j10GkSs/lib/python3.10/site-packages/IPython/core/magics/osm.py:417: UserWarning: This is now an optional IPython functionality, setting dhist requires you to install the `pickleshare` library.\n",
      "  self.shell.db['dhist'] = compress_dhist(dhist)[-100:]\n"
     ]
    }
   ],
   "source": [
    "%cd ~/cma/CMA_Fairness_v2"
   ]
  },
  {
   "cell_type": "markdown",
   "id": "de2603b9",
   "metadata": {
    "papermill": {
     "duration": 0.009009,
     "end_time": "2025-07-23T14:27:27.481856",
     "exception": false,
     "start_time": "2025-07-23T14:27:27.472847",
     "status": "completed"
    },
    "tags": []
   },
   "source": [
    "The following cell holds the definition of our parameters, these values can be overriden by rendering the with e.g. the following command:\n",
    "\n",
    "papermill -p alpha 0.2 -p ratio 0.3 universe_analysis.ipynb output/test_run.ipynb"
   ]
  },
  {
   "cell_type": "code",
   "execution_count": 2,
   "id": "a80968a0-40bb-4fa9-85ef-2d5eefb01975",
   "metadata": {
    "execution": {
     "iopub.execute_input": "2025-07-23T14:27:27.513622Z",
     "iopub.status.busy": "2025-07-23T14:27:27.513187Z",
     "iopub.status.idle": "2025-07-23T14:27:27.518783Z",
     "shell.execute_reply": "2025-07-23T14:27:27.517766Z"
    },
    "papermill": {
     "duration": 0.029404,
     "end_time": "2025-07-23T14:27:27.520541",
     "exception": false,
     "start_time": "2025-07-23T14:27:27.491137",
     "status": "completed"
    },
    "tags": []
   },
   "outputs": [
    {
     "name": "stdout",
     "output_type": "stream",
     "text": [
      "Current working directory: /dss/dsshome1/0C/ra93lal2/cma/CMA_Fairness_v2\n"
     ]
    }
   ],
   "source": [
    "import os\n",
    "print(\"Current working directory:\", os.getcwd())"
   ]
  },
  {
   "cell_type": "code",
   "execution_count": 3,
   "id": "2dce4c03",
   "metadata": {
    "execution": {
     "iopub.execute_input": "2025-07-23T14:27:27.555543Z",
     "iopub.status.busy": "2025-07-23T14:27:27.555231Z",
     "iopub.status.idle": "2025-07-23T14:27:27.560046Z",
     "shell.execute_reply": "2025-07-23T14:27:27.559338Z"
    },
    "papermill": {
     "duration": 0.022606,
     "end_time": "2025-07-23T14:27:27.561724",
     "exception": false,
     "start_time": "2025-07-23T14:27:27.539118",
     "status": "completed"
    },
    "tags": [
     "parameters"
    ]
   },
   "outputs": [],
   "source": [
    "run_no = 0\n",
    "universe_id = \"test\"\n",
    "universe = {\n",
    "    \"scale\": \"scale\", # \"scale\", \"do-not-scale\",\n",
    "    \"model\": \"elasticnet\", # \"logreg\", \"penalized_logreg\", \"rf\", \"gbm\", \"elasticnet\"\n",
    "    \"cutoff\": [\"quantile_0.15\", \"quantile_0.30\"],\n",
    "    \"exclude_features\": \"age\", # \"none\", \"nationality\", \"sex\", \"nationality-sex\", \"age\"\n",
    "    \"exclude_subgroups\": \"keep-all\", # \"keep-all\", \"drop-non-german\"\n",
    "    #\"training_sample\": \"restricted\", # \"restricted\", \"full\"\n",
    "    \"eval_fairness_grouping\": [\"majority-minority\", \"nationality-all\"]\n",
    "}\n",
    "\n",
    "output_dir=\"./output\"\n",
    "seed=0"
   ]
  },
  {
   "cell_type": "code",
   "execution_count": 4,
   "id": "6632ae64",
   "metadata": {
    "execution": {
     "iopub.execute_input": "2025-07-23T14:27:27.581354Z",
     "iopub.status.busy": "2025-07-23T14:27:27.580817Z",
     "iopub.status.idle": "2025-07-23T14:27:27.585347Z",
     "shell.execute_reply": "2025-07-23T14:27:27.584190Z"
    },
    "papermill": {
     "duration": 0.015867,
     "end_time": "2025-07-23T14:27:27.587180",
     "exception": false,
     "start_time": "2025-07-23T14:27:27.571313",
     "status": "completed"
    },
    "tags": [
     "injected-parameters"
    ]
   },
   "outputs": [],
   "source": [
    "# Parameters\n",
    "universe_id = \"4356e83194008df6152c133bfc881349\"\n",
    "run_no = \"9\"\n",
    "universe = \"{\\\"cutoff\\\": [\\\"quantile_0.1\\\", \\\"quantile_0.25\\\"], \\\"eval_fairness_grouping\\\": [\\\"majority-minority\\\", \\\"nationality-all\\\"], \\\"exclude_features\\\": \\\"nationality-sex\\\", \\\"exclude_subgroups\\\": \\\"keep-all\\\", \\\"model\\\": \\\"penalized_logreg\\\", \\\"scale\\\": \\\"scale\\\"}\"\n",
    "output_dir = \"output\"\n",
    "seed = \"2023\"\n"
   ]
  },
  {
   "cell_type": "code",
   "execution_count": 5,
   "id": "1650acaf",
   "metadata": {
    "execution": {
     "iopub.execute_input": "2025-07-23T14:27:27.621827Z",
     "iopub.status.busy": "2025-07-23T14:27:27.620952Z",
     "iopub.status.idle": "2025-07-23T14:27:27.626327Z",
     "shell.execute_reply": "2025-07-23T14:27:27.625169Z"
    },
    "papermill": {
     "duration": 0.026924,
     "end_time": "2025-07-23T14:27:27.628045",
     "exception": false,
     "start_time": "2025-07-23T14:27:27.601121",
     "status": "completed"
    },
    "tags": []
   },
   "outputs": [],
   "source": [
    "import json\n",
    "# Parse universe into dict if it is passed as a string\n",
    "if isinstance(universe, str):\n",
    "    universe = json.loads(universe)"
   ]
  },
  {
   "cell_type": "code",
   "execution_count": 6,
   "id": "16620c48",
   "metadata": {
    "execution": {
     "iopub.execute_input": "2025-07-23T14:27:27.662514Z",
     "iopub.status.busy": "2025-07-23T14:27:27.662133Z",
     "iopub.status.idle": "2025-07-23T14:27:27.709624Z",
     "shell.execute_reply": "2025-07-23T14:27:27.708406Z"
    },
    "papermill": {
     "duration": 0.066554,
     "end_time": "2025-07-23T14:27:27.712128",
     "exception": false,
     "start_time": "2025-07-23T14:27:27.645574",
     "status": "completed"
    },
    "tags": []
   },
   "outputs": [],
   "source": [
    "# Auto-reload the custom package\n",
    "%load_ext autoreload\n",
    "%autoreload 1\n",
    "%aimport fairness_multiverse"
   ]
  },
  {
   "cell_type": "code",
   "execution_count": 7,
   "id": "01c5c9f3",
   "metadata": {
    "execution": {
     "iopub.execute_input": "2025-07-23T14:27:27.750524Z",
     "iopub.status.busy": "2025-07-23T14:27:27.750017Z",
     "iopub.status.idle": "2025-07-23T14:27:29.635059Z",
     "shell.execute_reply": "2025-07-23T14:27:29.633786Z"
    },
    "papermill": {
     "duration": 1.906418,
     "end_time": "2025-07-23T14:27:29.637363",
     "exception": false,
     "start_time": "2025-07-23T14:27:27.730945",
     "status": "completed"
    },
    "tags": []
   },
   "outputs": [],
   "source": [
    "from fairness_multiverse.universe import UniverseAnalysis\n",
    "\n",
    "universe_analysis = UniverseAnalysis(\n",
    "    run_no = run_no,\n",
    "    universe_id = universe_id,\n",
    "    universe = universe,\n",
    "    output_dir=output_dir,\n",
    ")"
   ]
  },
  {
   "cell_type": "code",
   "execution_count": 8,
   "id": "106241f5",
   "metadata": {
    "execution": {
     "iopub.execute_input": "2025-07-23T14:27:29.674150Z",
     "iopub.status.busy": "2025-07-23T14:27:29.673493Z",
     "iopub.status.idle": "2025-07-23T14:27:29.681211Z",
     "shell.execute_reply": "2025-07-23T14:27:29.680329Z"
    },
    "papermill": {
     "duration": 0.027741,
     "end_time": "2025-07-23T14:27:29.682624",
     "exception": false,
     "start_time": "2025-07-23T14:27:29.654883",
     "status": "completed"
    },
    "tags": []
   },
   "outputs": [
    {
     "name": "stdout",
     "output_type": "stream",
     "text": [
      "Using Seed: 2023\n"
     ]
    }
   ],
   "source": [
    "import numpy as np\n",
    "parsed_seed = int(seed)\n",
    "np.random.seed(parsed_seed)\n",
    "print(f\"Using Seed: {parsed_seed}\")"
   ]
  },
  {
   "cell_type": "markdown",
   "id": "e0ebdc57",
   "metadata": {
    "papermill": {
     "duration": 0.010156,
     "end_time": "2025-07-23T14:27:29.703028",
     "exception": false,
     "start_time": "2025-07-23T14:27:29.692872",
     "status": "completed"
    },
    "tags": []
   },
   "source": [
    "# Loading Data"
   ]
  },
  {
   "cell_type": "markdown",
   "id": "681925a3",
   "metadata": {
    "papermill": {
     "duration": 0.015968,
     "end_time": "2025-07-23T14:27:29.728790",
     "exception": false,
     "start_time": "2025-07-23T14:27:29.712822",
     "status": "completed"
    },
    "tags": []
   },
   "source": [
    "Load siab_train, siab_test, siab_calib and/or \n",
    "load siab_train_features, siab_train_labels"
   ]
  },
  {
   "cell_type": "code",
   "execution_count": 9,
   "id": "f0496b8a",
   "metadata": {
    "execution": {
     "iopub.execute_input": "2025-07-23T14:27:29.772375Z",
     "iopub.status.busy": "2025-07-23T14:27:29.771254Z",
     "iopub.status.idle": "2025-07-23T14:27:29.778277Z",
     "shell.execute_reply": "2025-07-23T14:27:29.777015Z"
    },
    "papermill": {
     "duration": 0.030949,
     "end_time": "2025-07-23T14:27:29.780406",
     "exception": false,
     "start_time": "2025-07-23T14:27:29.749457",
     "status": "completed"
    },
    "tags": []
   },
   "outputs": [],
   "source": [
    "# Do I need to load siab? Delete this cell?\n",
    "\n",
    "#from pathlib import Path\n",
    "#import pandas as pd\n",
    "#\n",
    "## File paths\n",
    "#raw_file = Path(\"data/raw/siab.csv\")\n",
    "#cache_file = Path(\"data/siab_cached.csv.gz\")\n",
    "#\n",
    "## Ensure cache directory exists\n",
    "#cache_file.parent.mkdir(parents=True, exist_ok=True)\n",
    "#\n",
    "## Load with simple caching\n",
    "#if cache_file.exists():\n",
    "#    print(f\"Loading SIAB data from cache: {cache_file}\")\n",
    "#    siab = pd.read_csv(cache_file, compression='gzip')\n",
    "#else:\n",
    "#    print(f\"Cache not found. Reading raw SIAB data: {raw_file}\")\n",
    "#    siab = pd.read_csv(raw_file)\n",
    "#    siab.to_csv(cache_file, index=False, compression='gzip')\n",
    "#    print(f\"Cached SIAB data to: {cache_file}\")\n",
    "#\n",
    "## Now use `siab` DataFrame as needed\n",
    "#print(siab.shape)\n"
   ]
  },
  {
   "cell_type": "code",
   "execution_count": 10,
   "id": "a0edb063",
   "metadata": {
    "execution": {
     "iopub.execute_input": "2025-07-23T14:27:29.823995Z",
     "iopub.status.busy": "2025-07-23T14:27:29.823447Z",
     "iopub.status.idle": "2025-07-23T14:27:31.044611Z",
     "shell.execute_reply": "2025-07-23T14:27:31.043593Z"
    },
    "papermill": {
     "duration": 1.246643,
     "end_time": "2025-07-23T14:27:31.046812",
     "exception": false,
     "start_time": "2025-07-23T14:27:29.800169",
     "status": "completed"
    },
    "tags": []
   },
   "outputs": [],
   "source": [
    "import pandas as pd\n",
    "\n",
    "X_train = pd.read_csv(\"./data/X_train.csv\")\n",
    "y_train = pd.read_csv(\"./data/y_train.csv\")"
   ]
  },
  {
   "cell_type": "code",
   "execution_count": 11,
   "id": "63d08085",
   "metadata": {
    "execution": {
     "iopub.execute_input": "2025-07-23T14:27:31.081816Z",
     "iopub.status.busy": "2025-07-23T14:27:31.081221Z",
     "iopub.status.idle": "2025-07-23T14:27:32.522792Z",
     "shell.execute_reply": "2025-07-23T14:27:32.521617Z"
    },
    "papermill": {
     "duration": 1.456503,
     "end_time": "2025-07-23T14:27:32.524881",
     "exception": false,
     "start_time": "2025-07-23T14:27:31.068378",
     "status": "completed"
    },
    "tags": []
   },
   "outputs": [],
   "source": [
    "X_test = pd.read_csv(\"./data/X_test.csv\")\n",
    "y_true = pd.read_csv(\"./data/y_test.csv\")"
   ]
  },
  {
   "cell_type": "code",
   "execution_count": 12,
   "id": "98a8d0fa-1d3d-4ed8-bb2c-281470e24add",
   "metadata": {
    "execution": {
     "iopub.execute_input": "2025-07-23T14:27:32.547458Z",
     "iopub.status.busy": "2025-07-23T14:27:32.546771Z",
     "iopub.status.idle": "2025-07-23T14:27:34.047681Z",
     "shell.execute_reply": "2025-07-23T14:27:34.046497Z"
    },
    "papermill": {
     "duration": 1.51431,
     "end_time": "2025-07-23T14:27:34.049425",
     "exception": false,
     "start_time": "2025-07-23T14:27:32.535115",
     "status": "completed"
    },
    "tags": []
   },
   "outputs": [],
   "source": [
    "# Calibration data for conformal\n",
    "X_calib = pd.read_csv(\"./data/X_calib.csv\")\n",
    "y_calib = pd.read_csv(\"./data/y_calib.csv\")"
   ]
  },
  {
   "cell_type": "code",
   "execution_count": 13,
   "id": "e6c733c5",
   "metadata": {
    "execution": {
     "iopub.execute_input": "2025-07-23T14:27:34.085637Z",
     "iopub.status.busy": "2025-07-23T14:27:34.084847Z",
     "iopub.status.idle": "2025-07-23T14:27:34.196478Z",
     "shell.execute_reply": "2025-07-23T14:27:34.195201Z"
    },
    "papermill": {
     "duration": 0.133511,
     "end_time": "2025-07-23T14:27:34.198372",
     "exception": false,
     "start_time": "2025-07-23T14:27:34.064861",
     "status": "completed"
    },
    "tags": []
   },
   "outputs": [],
   "source": [
    "# Auxiliary data needed downstream in the pipeline\n",
    "\n",
    "org_train = X_train.copy()\n",
    "org_test = X_test.copy()\n",
    "org_calib = X_calib.copy()"
   ]
  },
  {
   "cell_type": "markdown",
   "id": "0a4a1b33",
   "metadata": {
    "papermill": {
     "duration": 0.018941,
     "end_time": "2025-07-23T14:27:34.234280",
     "exception": false,
     "start_time": "2025-07-23T14:27:34.215339",
     "status": "completed"
    },
    "tags": []
   },
   "source": [
    "# Preprocessing Data"
   ]
  },
  {
   "cell_type": "code",
   "execution_count": 14,
   "id": "ca879031",
   "metadata": {
    "execution": {
     "iopub.execute_input": "2025-07-23T14:27:34.275647Z",
     "iopub.status.busy": "2025-07-23T14:27:34.275082Z",
     "iopub.status.idle": "2025-07-23T14:27:34.281192Z",
     "shell.execute_reply": "2025-07-23T14:27:34.280257Z"
    },
    "papermill": {
     "duration": 0.030315,
     "end_time": "2025-07-23T14:27:34.284420",
     "exception": false,
     "start_time": "2025-07-23T14:27:34.254105",
     "status": "completed"
    },
    "tags": []
   },
   "outputs": [],
   "source": [
    "# EXCLUDE PROTECTED FEATURES\n",
    "# ----------------------\n",
    "# \"exclude_features\": \"none\", # \"nationality\", \"sex\", \"nationality-sex\"\n",
    "\n",
    "excluded_features = universe[\"exclude_features\"].split(\"-\") # split, e.g.: \"nationality-sex\" -> [\"nationality\", \"sex\"]\n",
    "excluded_features_dictionary = {\n",
    "    \"nationality\": [\"maxdeutsch1\", \"maxdeutsch.Missing.\"],\n",
    "    \"sex\": [\"frau1\"],\n",
    "    \"age\": [\"age\"],\n",
    "}\n"
   ]
  },
  {
   "cell_type": "code",
   "execution_count": 15,
   "id": "b745ac60",
   "metadata": {
    "execution": {
     "iopub.execute_input": "2025-07-23T14:27:34.327437Z",
     "iopub.status.busy": "2025-07-23T14:27:34.326891Z",
     "iopub.status.idle": "2025-07-23T14:27:34.333382Z",
     "shell.execute_reply": "2025-07-23T14:27:34.332235Z"
    },
    "papermill": {
     "duration": 0.029814,
     "end_time": "2025-07-23T14:27:34.335341",
     "exception": false,
     "start_time": "2025-07-23T14:27:34.305527",
     "status": "completed"
    },
    "tags": []
   },
   "outputs": [],
   "source": [
    "# Code nice names to column names\n",
    "\n",
    "excluded_features_columns = [\n",
    "    excluded_features_dictionary[f] for f in excluded_features if len(f) > 0 and f != \"none\"\n",
    "]"
   ]
  },
  {
   "cell_type": "code",
   "execution_count": 16,
   "id": "f84f73a2",
   "metadata": {
    "execution": {
     "iopub.execute_input": "2025-07-23T14:27:34.376528Z",
     "iopub.status.busy": "2025-07-23T14:27:34.375744Z",
     "iopub.status.idle": "2025-07-23T14:27:34.383351Z",
     "shell.execute_reply": "2025-07-23T14:27:34.382270Z"
    },
    "papermill": {
     "duration": 0.030536,
     "end_time": "2025-07-23T14:27:34.385575",
     "exception": false,
     "start_time": "2025-07-23T14:27:34.355039",
     "status": "completed"
    },
    "tags": []
   },
   "outputs": [],
   "source": [
    "from utils import flatten_once\n",
    "\n",
    "excluded_features_columns = flatten_once(excluded_features_columns)"
   ]
  },
  {
   "cell_type": "code",
   "execution_count": 17,
   "id": "884dea22",
   "metadata": {
    "execution": {
     "iopub.execute_input": "2025-07-23T14:27:34.429713Z",
     "iopub.status.busy": "2025-07-23T14:27:34.428438Z",
     "iopub.status.idle": "2025-07-23T14:27:34.478997Z",
     "shell.execute_reply": "2025-07-23T14:27:34.478000Z"
    },
    "papermill": {
     "duration": 0.074959,
     "end_time": "2025-07-23T14:27:34.480961",
     "exception": false,
     "start_time": "2025-07-23T14:27:34.406002",
     "status": "completed"
    },
    "tags": []
   },
   "outputs": [
    {
     "name": "stdout",
     "output_type": "stream",
     "text": [
      "Dropping features: ['maxdeutsch1', 'maxdeutsch.Missing.', 'frau1']\n"
     ]
    }
   ],
   "source": [
    "if len(excluded_features_columns) > 0:\n",
    "    print(f\"Dropping features: {excluded_features_columns}\")\n",
    "    X_train.drop(excluded_features_columns, axis=1, inplace=True)"
   ]
  },
  {
   "cell_type": "code",
   "execution_count": 18,
   "id": "95ab8b16",
   "metadata": {
    "execution": {
     "iopub.execute_input": "2025-07-23T14:27:34.528023Z",
     "iopub.status.busy": "2025-07-23T14:27:34.526956Z",
     "iopub.status.idle": "2025-07-23T14:27:34.595084Z",
     "shell.execute_reply": "2025-07-23T14:27:34.593646Z"
    },
    "papermill": {
     "duration": 0.093442,
     "end_time": "2025-07-23T14:27:34.597254",
     "exception": false,
     "start_time": "2025-07-23T14:27:34.503812",
     "status": "completed"
    },
    "tags": []
   },
   "outputs": [
    {
     "name": "stdout",
     "output_type": "stream",
     "text": [
      "Dropping features: ['maxdeutsch1', 'maxdeutsch.Missing.', 'frau1']\n"
     ]
    }
   ],
   "source": [
    "if len(excluded_features_columns) > 0:\n",
    "    print(f\"Dropping features: {excluded_features_columns}\")\n",
    "    X_test.drop(excluded_features_columns, axis=1, inplace=True)"
   ]
  },
  {
   "cell_type": "code",
   "execution_count": 19,
   "id": "1853aaf5-fb9f-46cb-a2b5-8ea4ae2237e4",
   "metadata": {
    "execution": {
     "iopub.execute_input": "2025-07-23T14:27:34.640708Z",
     "iopub.status.busy": "2025-07-23T14:27:34.639989Z",
     "iopub.status.idle": "2025-07-23T14:27:34.701807Z",
     "shell.execute_reply": "2025-07-23T14:27:34.700687Z"
    },
    "papermill": {
     "duration": 0.086057,
     "end_time": "2025-07-23T14:27:34.704166",
     "exception": false,
     "start_time": "2025-07-23T14:27:34.618109",
     "status": "completed"
    },
    "tags": []
   },
   "outputs": [
    {
     "name": "stdout",
     "output_type": "stream",
     "text": [
      "Dropping features: ['maxdeutsch1', 'maxdeutsch.Missing.', 'frau1']\n"
     ]
    }
   ],
   "source": [
    "if len(excluded_features_columns) > 0:\n",
    "    print(f\"Dropping features: {excluded_features_columns}\")\n",
    "    X_calib.drop(excluded_features_columns, axis=1, inplace=True)"
   ]
  },
  {
   "cell_type": "code",
   "execution_count": 20,
   "id": "76c4dc6d",
   "metadata": {
    "execution": {
     "iopub.execute_input": "2025-07-23T14:27:34.751078Z",
     "iopub.status.busy": "2025-07-23T14:27:34.750567Z",
     "iopub.status.idle": "2025-07-23T14:27:34.758542Z",
     "shell.execute_reply": "2025-07-23T14:27:34.757327Z"
    },
    "papermill": {
     "duration": 0.033674,
     "end_time": "2025-07-23T14:27:34.760372",
     "exception": false,
     "start_time": "2025-07-23T14:27:34.726698",
     "status": "completed"
    },
    "tags": []
   },
   "outputs": [],
   "source": [
    "# EXCLUDE CERTAIN SUBGROUPS\n",
    "# ----------------------\n",
    "\n",
    "mode = universe.get(\"exclude_subgroups\", \"keep-all\") \n",
    "# Fetches the exclude_subgroups setting from the universe dict.\n",
    "# Defaults to \"keep-all\" if the key is missing."
   ]
  },
  {
   "cell_type": "code",
   "execution_count": 21,
   "id": "21994072",
   "metadata": {
    "execution": {
     "iopub.execute_input": "2025-07-23T14:27:34.808072Z",
     "iopub.status.busy": "2025-07-23T14:27:34.807256Z",
     "iopub.status.idle": "2025-07-23T14:27:34.815315Z",
     "shell.execute_reply": "2025-07-23T14:27:34.814380Z"
    },
    "papermill": {
     "duration": 0.033364,
     "end_time": "2025-07-23T14:27:34.817079",
     "exception": false,
     "start_time": "2025-07-23T14:27:34.783715",
     "status": "completed"
    },
    "tags": []
   },
   "outputs": [],
   "source": [
    "if mode == \"keep-all\":\n",
    "    keep_mask = pd.Series(True, index=org_train.index)\n",
    "\n",
    "# org_train contains the original feature columns from features_org (in Simson)\n",
    "# features_org contains unprocessed features, for me X_train at beginning ???\n",
    "# For keep-all, creates a boolean Series (keep_mask) of all True, so no rows are removed.\n",
    "\n",
    "elif mode == \"drop-non-german\":\n",
    "    keep_mask = org_train[\"maxdeutsch1\"] == 1 # ??? what about missing values?\n",
    "\n",
    "else:\n",
    "    raise ValueError(f\"Unsupported mode for exclude_subgroups: {mode}\")\n"
   ]
  },
  {
   "cell_type": "code",
   "execution_count": 22,
   "id": "71651440",
   "metadata": {
    "execution": {
     "iopub.execute_input": "2025-07-23T14:27:34.849576Z",
     "iopub.status.busy": "2025-07-23T14:27:34.849189Z",
     "iopub.status.idle": "2025-07-23T14:27:34.855160Z",
     "shell.execute_reply": "2025-07-23T14:27:34.854257Z"
    },
    "papermill": {
     "duration": 0.021624,
     "end_time": "2025-07-23T14:27:34.856687",
     "exception": false,
     "start_time": "2025-07-23T14:27:34.835063",
     "status": "completed"
    },
    "tags": []
   },
   "outputs": [],
   "source": [
    "n_drop = (~keep_mask).sum() # Calculates how many rows are set to be dropped\n",
    "if n_drop > 0:\n",
    "    pct = n_drop / len(keep_mask) * 100\n",
    "    print(f\"Dropping {n_drop} rows ({pct:.2f}%) where mode='{mode}'\")"
   ]
  },
  {
   "cell_type": "code",
   "execution_count": 23,
   "id": "5fb8eee5",
   "metadata": {
    "execution": {
     "iopub.execute_input": "2025-07-23T14:27:34.880274Z",
     "iopub.status.busy": "2025-07-23T14:27:34.879704Z",
     "iopub.status.idle": "2025-07-23T14:27:34.936256Z",
     "shell.execute_reply": "2025-07-23T14:27:34.935164Z"
    },
    "papermill": {
     "duration": 0.073833,
     "end_time": "2025-07-23T14:27:34.942102",
     "exception": false,
     "start_time": "2025-07-23T14:27:34.868269",
     "status": "completed"
    },
    "tags": []
   },
   "outputs": [],
   "source": [
    "X_train = X_train[keep_mask]"
   ]
  },
  {
   "cell_type": "code",
   "execution_count": 24,
   "id": "b202bb3a",
   "metadata": {
    "execution": {
     "iopub.execute_input": "2025-07-23T14:27:34.985710Z",
     "iopub.status.busy": "2025-07-23T14:27:34.985251Z",
     "iopub.status.idle": "2025-07-23T14:27:34.993686Z",
     "shell.execute_reply": "2025-07-23T14:27:34.992619Z"
    },
    "papermill": {
     "duration": 0.032321,
     "end_time": "2025-07-23T14:27:34.995590",
     "exception": false,
     "start_time": "2025-07-23T14:27:34.963269",
     "status": "completed"
    },
    "tags": []
   },
   "outputs": [],
   "source": [
    "y_train = y_train[keep_mask]"
   ]
  },
  {
   "cell_type": "markdown",
   "id": "493e2ac3",
   "metadata": {
    "papermill": {
     "duration": 0.019805,
     "end_time": "2025-07-23T14:27:35.028960",
     "exception": false,
     "start_time": "2025-07-23T14:27:35.009155",
     "status": "completed"
    },
    "tags": []
   },
   "source": [
    "# Model Training"
   ]
  },
  {
   "cell_type": "code",
   "execution_count": 25,
   "id": "679e1268",
   "metadata": {
    "execution": {
     "iopub.execute_input": "2025-07-23T14:27:35.073265Z",
     "iopub.status.busy": "2025-07-23T14:27:35.072138Z",
     "iopub.status.idle": "2025-07-23T14:27:35.176321Z",
     "shell.execute_reply": "2025-07-23T14:27:35.175082Z"
    },
    "papermill": {
     "duration": 0.128834,
     "end_time": "2025-07-23T14:27:35.178046",
     "exception": false,
     "start_time": "2025-07-23T14:27:35.049212",
     "status": "completed"
    },
    "tags": []
   },
   "outputs": [],
   "source": [
    "from sklearn.linear_model import LogisticRegression\n",
    "from sklearn.ensemble import GradientBoostingClassifier, RandomForestClassifier\n",
    "\n",
    "if (universe[\"model\"] == \"logreg\"):\n",
    "    model = LogisticRegression() #penalty=\"none\") #, solver=\"newton-cg\", max_iter=1) # include random_state=19 ?\n",
    "elif (universe[\"model\"] == \"penalized_logreg\"):\n",
    "    model = LogisticRegression(penalty=\"l2\", C=1.0) #, solver=\"newton-cg\", max_iter=1)\n",
    "elif (universe[\"model\"] == \"rf\"):\n",
    "    model = RandomForestClassifier(n_estimators=100, n_jobs=-1)\n",
    "elif (universe[\"model\"] == \"gbm\"):\n",
    "    model = GradientBoostingClassifier()\n",
    "elif (universe[\"model\"] == \"elasticnet\"):\n",
    "    model = LogisticRegression(penalty = 'elasticnet', solver = 'saga', l1_ratio = 0.5, max_iter=5000) # which solver to use?\n",
    "else:\n",
    "    raise \"Unsupported universe.model\""
   ]
  },
  {
   "cell_type": "code",
   "execution_count": 26,
   "id": "0cc8f744",
   "metadata": {
    "execution": {
     "iopub.execute_input": "2025-07-23T14:27:35.219864Z",
     "iopub.status.busy": "2025-07-23T14:27:35.219316Z",
     "iopub.status.idle": "2025-07-23T14:27:35.226460Z",
     "shell.execute_reply": "2025-07-23T14:27:35.225356Z"
    },
    "papermill": {
     "duration": 0.034798,
     "end_time": "2025-07-23T14:27:35.228769",
     "exception": false,
     "start_time": "2025-07-23T14:27:35.193971",
     "status": "completed"
    },
    "tags": []
   },
   "outputs": [],
   "source": [
    "import numpy as np\n",
    "from sklearn.pipeline import Pipeline\n",
    "from sklearn.preprocessing import StandardScaler\n",
    "\n",
    "model = Pipeline([\n",
    "    #(\"continuous_processor\", continuous_processor),\n",
    "    #(\"categorical_preprocessor\", categorical_preprocessor),\n",
    "    (\"scale\", StandardScaler() if universe[\"scale\"] == \"scale\" else None), \n",
    "    (\"model\", model),\n",
    "])"
   ]
  },
  {
   "cell_type": "code",
   "execution_count": 27,
   "id": "9442c04d",
   "metadata": {
    "execution": {
     "iopub.execute_input": "2025-07-23T14:27:35.277671Z",
     "iopub.status.busy": "2025-07-23T14:27:35.277116Z",
     "iopub.status.idle": "2025-07-23T14:27:39.342052Z",
     "shell.execute_reply": "2025-07-23T14:27:39.340340Z"
    },
    "papermill": {
     "duration": 4.092724,
     "end_time": "2025-07-23T14:27:39.344934",
     "exception": false,
     "start_time": "2025-07-23T14:27:35.252210",
     "status": "completed"
    },
    "tags": []
   },
   "outputs": [
    {
     "name": "stderr",
     "output_type": "stream",
     "text": [
      "/dss/dsshome1/0C/ra93lal2/.local/share/virtualenvs/CMA_Fairness_v2-3j10GkSs/lib/python3.10/site-packages/sklearn/linear_model/_logistic.py:444: ConvergenceWarning: lbfgs failed to converge (status=1):\n",
      "STOP: TOTAL NO. of ITERATIONS REACHED LIMIT.\n",
      "\n",
      "Increase the number of iterations (max_iter) or scale the data as shown in:\n",
      "    https://scikit-learn.org/stable/modules/preprocessing.html\n",
      "Please also refer to the documentation for alternative solver options:\n",
      "    https://scikit-learn.org/stable/modules/linear_model.html#logistic-regression\n",
      "  n_iter_i = _check_optimize_result(\n"
     ]
    },
    {
     "data": {
      "text/html": [
       "<style>#sk-container-id-1 {color: black;background-color: white;}#sk-container-id-1 pre{padding: 0;}#sk-container-id-1 div.sk-toggleable {background-color: white;}#sk-container-id-1 label.sk-toggleable__label {cursor: pointer;display: block;width: 100%;margin-bottom: 0;padding: 0.3em;box-sizing: border-box;text-align: center;}#sk-container-id-1 label.sk-toggleable__label-arrow:before {content: \"▸\";float: left;margin-right: 0.25em;color: #696969;}#sk-container-id-1 label.sk-toggleable__label-arrow:hover:before {color: black;}#sk-container-id-1 div.sk-estimator:hover label.sk-toggleable__label-arrow:before {color: black;}#sk-container-id-1 div.sk-toggleable__content {max-height: 0;max-width: 0;overflow: hidden;text-align: left;background-color: #f0f8ff;}#sk-container-id-1 div.sk-toggleable__content pre {margin: 0.2em;color: black;border-radius: 0.25em;background-color: #f0f8ff;}#sk-container-id-1 input.sk-toggleable__control:checked~div.sk-toggleable__content {max-height: 200px;max-width: 100%;overflow: auto;}#sk-container-id-1 input.sk-toggleable__control:checked~label.sk-toggleable__label-arrow:before {content: \"▾\";}#sk-container-id-1 div.sk-estimator input.sk-toggleable__control:checked~label.sk-toggleable__label {background-color: #d4ebff;}#sk-container-id-1 div.sk-label input.sk-toggleable__control:checked~label.sk-toggleable__label {background-color: #d4ebff;}#sk-container-id-1 input.sk-hidden--visually {border: 0;clip: rect(1px 1px 1px 1px);clip: rect(1px, 1px, 1px, 1px);height: 1px;margin: -1px;overflow: hidden;padding: 0;position: absolute;width: 1px;}#sk-container-id-1 div.sk-estimator {font-family: monospace;background-color: #f0f8ff;border: 1px dotted black;border-radius: 0.25em;box-sizing: border-box;margin-bottom: 0.5em;}#sk-container-id-1 div.sk-estimator:hover {background-color: #d4ebff;}#sk-container-id-1 div.sk-parallel-item::after {content: \"\";width: 100%;border-bottom: 1px solid gray;flex-grow: 1;}#sk-container-id-1 div.sk-label:hover label.sk-toggleable__label {background-color: #d4ebff;}#sk-container-id-1 div.sk-serial::before {content: \"\";position: absolute;border-left: 1px solid gray;box-sizing: border-box;top: 0;bottom: 0;left: 50%;z-index: 0;}#sk-container-id-1 div.sk-serial {display: flex;flex-direction: column;align-items: center;background-color: white;padding-right: 0.2em;padding-left: 0.2em;position: relative;}#sk-container-id-1 div.sk-item {position: relative;z-index: 1;}#sk-container-id-1 div.sk-parallel {display: flex;align-items: stretch;justify-content: center;background-color: white;position: relative;}#sk-container-id-1 div.sk-item::before, #sk-container-id-1 div.sk-parallel-item::before {content: \"\";position: absolute;border-left: 1px solid gray;box-sizing: border-box;top: 0;bottom: 0;left: 50%;z-index: -1;}#sk-container-id-1 div.sk-parallel-item {display: flex;flex-direction: column;z-index: 1;position: relative;background-color: white;}#sk-container-id-1 div.sk-parallel-item:first-child::after {align-self: flex-end;width: 50%;}#sk-container-id-1 div.sk-parallel-item:last-child::after {align-self: flex-start;width: 50%;}#sk-container-id-1 div.sk-parallel-item:only-child::after {width: 0;}#sk-container-id-1 div.sk-dashed-wrapped {border: 1px dashed gray;margin: 0 0.4em 0.5em 0.4em;box-sizing: border-box;padding-bottom: 0.4em;background-color: white;}#sk-container-id-1 div.sk-label label {font-family: monospace;font-weight: bold;display: inline-block;line-height: 1.2em;}#sk-container-id-1 div.sk-label-container {text-align: center;}#sk-container-id-1 div.sk-container {/* jupyter's `normalize.less` sets `[hidden] { display: none; }` but bootstrap.min.css set `[hidden] { display: none !important; }` so we also need the `!important` here to be able to override the default hidden behavior on the sphinx rendered scikit-learn.org. See: https://github.com/scikit-learn/scikit-learn/issues/21755 */display: inline-block !important;position: relative;}#sk-container-id-1 div.sk-text-repr-fallback {display: none;}</style><div id=\"sk-container-id-1\" class=\"sk-top-container\"><div class=\"sk-text-repr-fallback\"><pre>Pipeline(steps=[(&#x27;scale&#x27;, StandardScaler()), (&#x27;model&#x27;, LogisticRegression())])</pre><b>In a Jupyter environment, please rerun this cell to show the HTML representation or trust the notebook. <br />On GitHub, the HTML representation is unable to render, please try loading this page with nbviewer.org.</b></div><div class=\"sk-container\" hidden><div class=\"sk-item sk-dashed-wrapped\"><div class=\"sk-label-container\"><div class=\"sk-label sk-toggleable\"><input class=\"sk-toggleable__control sk-hidden--visually\" id=\"sk-estimator-id-1\" type=\"checkbox\" ><label for=\"sk-estimator-id-1\" class=\"sk-toggleable__label sk-toggleable__label-arrow\">Pipeline</label><div class=\"sk-toggleable__content\"><pre>Pipeline(steps=[(&#x27;scale&#x27;, StandardScaler()), (&#x27;model&#x27;, LogisticRegression())])</pre></div></div></div><div class=\"sk-serial\"><div class=\"sk-item\"><div class=\"sk-estimator sk-toggleable\"><input class=\"sk-toggleable__control sk-hidden--visually\" id=\"sk-estimator-id-2\" type=\"checkbox\" ><label for=\"sk-estimator-id-2\" class=\"sk-toggleable__label sk-toggleable__label-arrow\">StandardScaler</label><div class=\"sk-toggleable__content\"><pre>StandardScaler()</pre></div></div></div><div class=\"sk-item\"><div class=\"sk-estimator sk-toggleable\"><input class=\"sk-toggleable__control sk-hidden--visually\" id=\"sk-estimator-id-3\" type=\"checkbox\" ><label for=\"sk-estimator-id-3\" class=\"sk-toggleable__label sk-toggleable__label-arrow\">LogisticRegression</label><div class=\"sk-toggleable__content\"><pre>LogisticRegression()</pre></div></div></div></div></div></div></div>"
      ],
      "text/plain": [
       "Pipeline(steps=[('scale', StandardScaler()), ('model', LogisticRegression())])"
      ]
     },
     "execution_count": 27,
     "metadata": {},
     "output_type": "execute_result"
    }
   ],
   "source": [
    "model.fit(X_train, y_train.values.ravel())"
   ]
  },
  {
   "cell_type": "code",
   "execution_count": 28,
   "id": "af59f8c0",
   "metadata": {
    "execution": {
     "iopub.execute_input": "2025-07-23T14:27:39.401162Z",
     "iopub.status.busy": "2025-07-23T14:27:39.400738Z",
     "iopub.status.idle": "2025-07-23T14:27:39.406081Z",
     "shell.execute_reply": "2025-07-23T14:27:39.405128Z"
    },
    "papermill": {
     "duration": 0.019353,
     "end_time": "2025-07-23T14:27:39.407636",
     "exception": false,
     "start_time": "2025-07-23T14:27:39.388283",
     "status": "completed"
    },
    "tags": []
   },
   "outputs": [],
   "source": [
    "from fairness_multiverse.universe import predict_w_threshold"
   ]
  },
  {
   "cell_type": "code",
   "execution_count": 29,
   "id": "a7cf2e16",
   "metadata": {
    "execution": {
     "iopub.execute_input": "2025-07-23T14:27:39.432728Z",
     "iopub.status.busy": "2025-07-23T14:27:39.432016Z",
     "iopub.status.idle": "2025-07-23T14:27:39.640366Z",
     "shell.execute_reply": "2025-07-23T14:27:39.639367Z"
    },
    "papermill": {
     "duration": 0.223285,
     "end_time": "2025-07-23T14:27:39.642759",
     "exception": false,
     "start_time": "2025-07-23T14:27:39.419474",
     "status": "completed"
    },
    "tags": []
   },
   "outputs": [
    {
     "data": {
      "text/plain": [
       "0.8628246572288485"
      ]
     },
     "execution_count": 29,
     "metadata": {},
     "output_type": "execute_result"
    }
   ],
   "source": [
    "probs_test = model.predict_proba(X_test)\n",
    "\n",
    "'''\n",
    "Below code returns a boolean array (or binary 0/1 array depending on how it’s used) where each element \n",
    "is True if the probability of class 1 is greater than or equal to the threshold, and False otherwise.\n",
    "'''\n",
    "y_pred_default = predict_w_threshold(probs_test, 0.5)\n",
    "\n",
    "from sklearn.metrics import accuracy_score\n",
    "\n",
    "# Naive prediction\n",
    "accuracy_score(y_true = y_true, y_pred = y_pred_default)"
   ]
  },
  {
   "cell_type": "code",
   "execution_count": 30,
   "id": "081964c3",
   "metadata": {
    "execution": {
     "iopub.execute_input": "2025-07-23T14:27:39.669142Z",
     "iopub.status.busy": "2025-07-23T14:27:39.668749Z",
     "iopub.status.idle": "2025-07-23T14:27:39.903088Z",
     "shell.execute_reply": "2025-07-23T14:27:39.901669Z"
    },
    "papermill": {
     "duration": 0.248831,
     "end_time": "2025-07-23T14:27:39.905684",
     "exception": false,
     "start_time": "2025-07-23T14:27:39.656853",
     "status": "completed"
    },
    "tags": []
   },
   "outputs": [
    {
     "data": {
      "text/plain": [
       "array([0, 0, 0, ..., 0, 0, 0])"
      ]
     },
     "execution_count": 30,
     "metadata": {},
     "output_type": "execute_result"
    }
   ],
   "source": [
    "model.predict(X_test)"
   ]
  },
  {
   "cell_type": "markdown",
   "id": "56c9705b",
   "metadata": {
    "papermill": {
     "duration": 0.029267,
     "end_time": "2025-07-23T14:27:39.965381",
     "exception": false,
     "start_time": "2025-07-23T14:27:39.936114",
     "status": "completed"
    },
    "tags": []
   },
   "source": [
    "# Conformal Prediction"
   ]
  },
  {
   "cell_type": "code",
   "execution_count": 31,
   "id": "160ec6ff",
   "metadata": {
    "execution": {
     "iopub.execute_input": "2025-07-23T14:27:40.021808Z",
     "iopub.status.busy": "2025-07-23T14:27:40.021236Z",
     "iopub.status.idle": "2025-07-23T14:27:40.027531Z",
     "shell.execute_reply": "2025-07-23T14:27:40.026138Z"
    },
    "papermill": {
     "duration": 0.03805,
     "end_time": "2025-07-23T14:27:40.029389",
     "exception": false,
     "start_time": "2025-07-23T14:27:39.991339",
     "status": "completed"
    },
    "tags": []
   },
   "outputs": [],
   "source": [
    "# Miscoverage level for conformal prediction (10% allowed error rate => 90% target coverage)\n",
    "alpha = 0.1"
   ]
  },
  {
   "cell_type": "code",
   "execution_count": 32,
   "id": "eadf4555-3dd3-440e-8e35-f82a4ad9f855",
   "metadata": {
    "execution": {
     "iopub.execute_input": "2025-07-23T14:27:40.077157Z",
     "iopub.status.busy": "2025-07-23T14:27:40.076689Z",
     "iopub.status.idle": "2025-07-23T14:27:40.269293Z",
     "shell.execute_reply": "2025-07-23T14:27:40.268108Z"
    },
    "papermill": {
     "duration": 0.218172,
     "end_time": "2025-07-23T14:27:40.271492",
     "exception": false,
     "start_time": "2025-07-23T14:27:40.053320",
     "status": "completed"
    },
    "tags": []
   },
   "outputs": [],
   "source": [
    "probs_calib = model.predict_proba(X_calib)"
   ]
  },
  {
   "cell_type": "code",
   "execution_count": 33,
   "id": "2ed93547-6d5d-4983-9b36-1ecb300da49a",
   "metadata": {
    "execution": {
     "iopub.execute_input": "2025-07-23T14:27:40.299928Z",
     "iopub.status.busy": "2025-07-23T14:27:40.299540Z",
     "iopub.status.idle": "2025-07-23T14:27:40.304498Z",
     "shell.execute_reply": "2025-07-23T14:27:40.303510Z"
    },
    "papermill": {
     "duration": 0.019074,
     "end_time": "2025-07-23T14:27:40.306081",
     "exception": false,
     "start_time": "2025-07-23T14:27:40.287007",
     "status": "completed"
    },
    "tags": []
   },
   "outputs": [],
   "source": [
    "y_calib = y_calib.values.ravel().astype(int)"
   ]
  },
  {
   "cell_type": "code",
   "execution_count": 34,
   "id": "65d1320d-f588-4b38-9072-62af1ae97f7d",
   "metadata": {
    "execution": {
     "iopub.execute_input": "2025-07-23T14:27:40.330896Z",
     "iopub.status.busy": "2025-07-23T14:27:40.330506Z",
     "iopub.status.idle": "2025-07-23T14:27:40.375399Z",
     "shell.execute_reply": "2025-07-23T14:27:40.374146Z"
    },
    "papermill": {
     "duration": 0.060449,
     "end_time": "2025-07-23T14:27:40.378268",
     "exception": false,
     "start_time": "2025-07-23T14:27:40.317819",
     "status": "completed"
    },
    "tags": []
   },
   "outputs": [],
   "source": [
    "from fairness_multiverse.conformal import compute_nc_scores\n",
    "\n",
    "# Compute nonconformity scores on calibration set (1 - probability of true class)\n",
    "nc_scores = compute_nc_scores(probs_calib, y_calib)"
   ]
  },
  {
   "cell_type": "code",
   "execution_count": 35,
   "id": "df3b8ca3-53b7-43d5-9667-7c85da7aeda2",
   "metadata": {
    "execution": {
     "iopub.execute_input": "2025-07-23T14:27:40.426209Z",
     "iopub.status.busy": "2025-07-23T14:27:40.425492Z",
     "iopub.status.idle": "2025-07-23T14:27:40.433559Z",
     "shell.execute_reply": "2025-07-23T14:27:40.432259Z"
    },
    "papermill": {
     "duration": 0.035291,
     "end_time": "2025-07-23T14:27:40.435470",
     "exception": false,
     "start_time": "2025-07-23T14:27:40.400179",
     "status": "completed"
    },
    "tags": []
   },
   "outputs": [],
   "source": [
    "from fairness_multiverse.conformal import find_threshold\n",
    "\n",
    "# Find conformal threshold q_hat for the given alpha (split conformal method)\n",
    "q_hat = find_threshold(nc_scores, alpha)"
   ]
  },
  {
   "cell_type": "code",
   "execution_count": 36,
   "id": "4d29e6c1-0ef6-4aa4-b8fe-4fe79b0d033a",
   "metadata": {
    "execution": {
     "iopub.execute_input": "2025-07-23T14:27:40.482273Z",
     "iopub.status.busy": "2025-07-23T14:27:40.481804Z",
     "iopub.status.idle": "2025-07-23T14:27:40.489854Z",
     "shell.execute_reply": "2025-07-23T14:27:40.488959Z"
    },
    "papermill": {
     "duration": 0.032167,
     "end_time": "2025-07-23T14:27:40.491379",
     "exception": false,
     "start_time": "2025-07-23T14:27:40.459212",
     "status": "completed"
    },
    "tags": []
   },
   "outputs": [
    {
     "data": {
      "text/plain": [
       "0.6611530621982908"
      ]
     },
     "execution_count": 36,
     "metadata": {},
     "output_type": "execute_result"
    }
   ],
   "source": [
    "q_hat"
   ]
  },
  {
   "cell_type": "code",
   "execution_count": 37,
   "id": "92460794-cdac-4be2-ba28-f28c0515a6fb",
   "metadata": {
    "execution": {
     "iopub.execute_input": "2025-07-23T14:27:40.518370Z",
     "iopub.status.busy": "2025-07-23T14:27:40.517465Z",
     "iopub.status.idle": "2025-07-23T14:27:41.491187Z",
     "shell.execute_reply": "2025-07-23T14:27:41.489902Z"
    },
    "papermill": {
     "duration": 0.989229,
     "end_time": "2025-07-23T14:27:41.493869",
     "exception": false,
     "start_time": "2025-07-23T14:27:40.504640",
     "status": "completed"
    },
    "tags": []
   },
   "outputs": [],
   "source": [
    "from fairness_multiverse.conformal import predict_conformal_sets\n",
    "\n",
    "# Generate prediction sets for each test example\n",
    "pred_sets = predict_conformal_sets(model, X_test, q_hat)"
   ]
  },
  {
   "cell_type": "code",
   "execution_count": 38,
   "id": "d90c9a65-e6db-4f5d-80cd-e68fb7e46829",
   "metadata": {
    "execution": {
     "iopub.execute_input": "2025-07-23T14:27:41.546719Z",
     "iopub.status.busy": "2025-07-23T14:27:41.546135Z",
     "iopub.status.idle": "2025-07-23T14:27:41.553634Z",
     "shell.execute_reply": "2025-07-23T14:27:41.552334Z"
    },
    "papermill": {
     "duration": 0.034241,
     "end_time": "2025-07-23T14:27:41.555756",
     "exception": false,
     "start_time": "2025-07-23T14:27:41.521515",
     "status": "completed"
    },
    "tags": []
   },
   "outputs": [],
   "source": [
    "y_true = y_true.squeeze()"
   ]
  },
  {
   "cell_type": "code",
   "execution_count": 39,
   "id": "3a58a54a-1e68-46b9-927a-df01f18aebc8",
   "metadata": {
    "execution": {
     "iopub.execute_input": "2025-07-23T14:27:41.607599Z",
     "iopub.status.busy": "2025-07-23T14:27:41.607017Z",
     "iopub.status.idle": "2025-07-23T14:27:43.440497Z",
     "shell.execute_reply": "2025-07-23T14:27:43.439332Z"
    },
    "papermill": {
     "duration": 1.863726,
     "end_time": "2025-07-23T14:27:43.443011",
     "exception": false,
     "start_time": "2025-07-23T14:27:41.579285",
     "status": "completed"
    },
    "tags": []
   },
   "outputs": [],
   "source": [
    "from fairness_multiverse.conformal import evaluate_sets\n",
    "\n",
    "# Evaluate coverage and average set size on test data\n",
    "metrics = evaluate_sets(pred_sets, y_true)"
   ]
  },
  {
   "cell_type": "code",
   "execution_count": 40,
   "id": "5ce0a5cb-201f-45a0-ade5-94c7f0bd6095",
   "metadata": {
    "execution": {
     "iopub.execute_input": "2025-07-23T14:27:43.483067Z",
     "iopub.status.busy": "2025-07-23T14:27:43.482588Z",
     "iopub.status.idle": "2025-07-23T14:27:43.491715Z",
     "shell.execute_reply": "2025-07-23T14:27:43.490453Z"
    },
    "papermill": {
     "duration": 0.029233,
     "end_time": "2025-07-23T14:27:43.496625",
     "exception": false,
     "start_time": "2025-07-23T14:27:43.467392",
     "status": "completed"
    },
    "tags": []
   },
   "outputs": [
    {
     "data": {
      "text/plain": [
       "{'coverage': 0.9114145580202876, 'avg_size': 1.1245011704380783}"
      ]
     },
     "execution_count": 40,
     "metadata": {},
     "output_type": "execute_result"
    }
   ],
   "source": [
    "metrics"
   ]
  },
  {
   "cell_type": "code",
   "execution_count": 41,
   "id": "9b9a838d-31c9-430b-ae14-12baee460d17",
   "metadata": {
    "execution": {
     "iopub.execute_input": "2025-07-23T14:27:43.594685Z",
     "iopub.status.busy": "2025-07-23T14:27:43.594182Z",
     "iopub.status.idle": "2025-07-23T14:27:43.602397Z",
     "shell.execute_reply": "2025-07-23T14:27:43.601174Z"
    },
    "papermill": {
     "duration": 0.053205,
     "end_time": "2025-07-23T14:27:43.606104",
     "exception": false,
     "start_time": "2025-07-23T14:27:43.552899",
     "status": "completed"
    },
    "tags": []
   },
   "outputs": [],
   "source": [
    "example_universe = universe.copy()\n",
    "universe_model = example_universe.get(\"model\")\n",
    "universe_exclude_features = example_universe.get(\"exclude_features\")\n",
    "universe_exclude_subgroups = example_universe.get(\"exclude_subgroups\")\n",
    "universe_scale = example_universe.get(\"scale\")"
   ]
  },
  {
   "cell_type": "code",
   "execution_count": 42,
   "id": "f4b6a8ac-9dc0-4245-8a91-5b3b5999c4f9",
   "metadata": {
    "execution": {
     "iopub.execute_input": "2025-07-23T14:27:43.672202Z",
     "iopub.status.busy": "2025-07-23T14:27:43.671746Z",
     "iopub.status.idle": "2025-07-23T14:27:43.681519Z",
     "shell.execute_reply": "2025-07-23T14:27:43.680310Z"
    },
    "papermill": {
     "duration": 0.053498,
     "end_time": "2025-07-23T14:27:43.683922",
     "exception": false,
     "start_time": "2025-07-23T14:27:43.630424",
     "status": "completed"
    },
    "tags": []
   },
   "outputs": [],
   "source": [
    "cp_metrics_dict = {\n",
    "    \"universe_id\": [universe_id],\n",
    "    \"universe_model\": [universe_model],\n",
    "    \"universe_exclude_features\": [universe_exclude_features],\n",
    "    \"universe_exclude_subgroups\": [universe_exclude_subgroups],\n",
    "    \"universe_scale\": [universe_scale],\n",
    "    \"q_hat\": [q_hat],\n",
    "    \"coverage\": [metrics[\"coverage\"]],\n",
    "    \"avg_size\": [metrics[\"avg_size\"]],\n",
    "}"
   ]
  },
  {
   "cell_type": "code",
   "execution_count": 43,
   "id": "908acbb1-0371-4915-85ca-3fa520d2efe2",
   "metadata": {
    "execution": {
     "iopub.execute_input": "2025-07-23T14:27:43.779454Z",
     "iopub.status.busy": "2025-07-23T14:27:43.778902Z",
     "iopub.status.idle": "2025-07-23T14:27:43.789641Z",
     "shell.execute_reply": "2025-07-23T14:27:43.788228Z"
    },
    "papermill": {
     "duration": 0.054352,
     "end_time": "2025-07-23T14:27:43.791626",
     "exception": false,
     "start_time": "2025-07-23T14:27:43.737274",
     "status": "completed"
    },
    "tags": []
   },
   "outputs": [
    {
     "data": {
      "text/plain": [
       "{'universe_id': ['4356e83194008df6152c133bfc881349'],\n",
       " 'universe_model': ['penalized_logreg'],\n",
       " 'universe_exclude_features': ['nationality-sex'],\n",
       " 'universe_exclude_subgroups': ['keep-all'],\n",
       " 'universe_scale': ['scale'],\n",
       " 'q_hat': [0.6611530621982908],\n",
       " 'coverage': [0.9114145580202876],\n",
       " 'avg_size': [1.1245011704380783]}"
      ]
     },
     "execution_count": 43,
     "metadata": {},
     "output_type": "execute_result"
    }
   ],
   "source": [
    "cp_metrics_dict"
   ]
  },
  {
   "cell_type": "code",
   "execution_count": 44,
   "id": "33007efc-14e9-4ec6-97ac-56a455c82265",
   "metadata": {
    "execution": {
     "iopub.execute_input": "2025-07-23T14:27:43.887773Z",
     "iopub.status.busy": "2025-07-23T14:27:43.886980Z",
     "iopub.status.idle": "2025-07-23T14:27:43.895296Z",
     "shell.execute_reply": "2025-07-23T14:27:43.893982Z"
    },
    "papermill": {
     "duration": 0.052095,
     "end_time": "2025-07-23T14:27:43.897333",
     "exception": false,
     "start_time": "2025-07-23T14:27:43.845238",
     "status": "completed"
    },
    "tags": []
   },
   "outputs": [],
   "source": [
    "cp_metrics_df = pd.DataFrame(cp_metrics_dict)"
   ]
  },
  {
   "cell_type": "code",
   "execution_count": 45,
   "id": "db12611b-57b2-4910-b9d0-355adfd6e7bf",
   "metadata": {
    "execution": {
     "iopub.execute_input": "2025-07-23T14:27:43.995413Z",
     "iopub.status.busy": "2025-07-23T14:27:43.994651Z",
     "iopub.status.idle": "2025-07-23T14:27:44.046967Z",
     "shell.execute_reply": "2025-07-23T14:27:44.045764Z"
    },
    "papermill": {
     "duration": 0.096425,
     "end_time": "2025-07-23T14:27:44.049699",
     "exception": false,
     "start_time": "2025-07-23T14:27:43.953274",
     "status": "completed"
    },
    "tags": []
   },
   "outputs": [
    {
     "data": {
      "text/html": [
       "<div>\n",
       "<style scoped>\n",
       "    .dataframe tbody tr th:only-of-type {\n",
       "        vertical-align: middle;\n",
       "    }\n",
       "\n",
       "    .dataframe tbody tr th {\n",
       "        vertical-align: top;\n",
       "    }\n",
       "\n",
       "    .dataframe thead th {\n",
       "        text-align: right;\n",
       "    }\n",
       "</style>\n",
       "<table border=\"1\" class=\"dataframe\">\n",
       "  <thead>\n",
       "    <tr style=\"text-align: right;\">\n",
       "      <th></th>\n",
       "      <th>universe_id</th>\n",
       "      <th>universe_model</th>\n",
       "      <th>universe_exclude_features</th>\n",
       "      <th>universe_exclude_subgroups</th>\n",
       "      <th>universe_scale</th>\n",
       "      <th>q_hat</th>\n",
       "      <th>coverage</th>\n",
       "      <th>avg_size</th>\n",
       "    </tr>\n",
       "  </thead>\n",
       "  <tbody>\n",
       "    <tr>\n",
       "      <th>0</th>\n",
       "      <td>4356e83194008df6152c133bfc881349</td>\n",
       "      <td>penalized_logreg</td>\n",
       "      <td>nationality-sex</td>\n",
       "      <td>keep-all</td>\n",
       "      <td>scale</td>\n",
       "      <td>0.661153</td>\n",
       "      <td>0.911415</td>\n",
       "      <td>1.124501</td>\n",
       "    </tr>\n",
       "  </tbody>\n",
       "</table>\n",
       "</div>"
      ],
      "text/plain": [
       "                        universe_id    universe_model  \\\n",
       "0  4356e83194008df6152c133bfc881349  penalized_logreg   \n",
       "\n",
       "  universe_exclude_features universe_exclude_subgroups universe_scale  \\\n",
       "0           nationality-sex                   keep-all          scale   \n",
       "\n",
       "      q_hat  coverage  avg_size  \n",
       "0  0.661153  0.911415  1.124501  "
      ]
     },
     "execution_count": 45,
     "metadata": {},
     "output_type": "execute_result"
    }
   ],
   "source": [
    "cp_metrics_df"
   ]
  },
  {
   "cell_type": "code",
   "execution_count": 46,
   "id": "b7fbde55-a0a1-47e4-9af6-fe4a17fa8c61",
   "metadata": {
    "execution": {
     "iopub.execute_input": "2025-07-23T14:27:44.147037Z",
     "iopub.status.busy": "2025-07-23T14:27:44.146558Z",
     "iopub.status.idle": "2025-07-23T14:27:44.152485Z",
     "shell.execute_reply": "2025-07-23T14:27:44.151239Z"
    },
    "papermill": {
     "duration": 0.06481,
     "end_time": "2025-07-23T14:27:44.154772",
     "exception": false,
     "start_time": "2025-07-23T14:27:44.089962",
     "status": "completed"
    },
    "tags": []
   },
   "outputs": [],
   "source": [
    "# Conditional Coverage & looking at subgroups"
   ]
  },
  {
   "cell_type": "code",
   "execution_count": 47,
   "id": "027ae886-68dd-4141-96c7-805a5450e1ef",
   "metadata": {
    "execution": {
     "iopub.execute_input": "2025-07-23T14:27:44.249395Z",
     "iopub.status.busy": "2025-07-23T14:27:44.248895Z",
     "iopub.status.idle": "2025-07-23T14:27:44.775085Z",
     "shell.execute_reply": "2025-07-23T14:27:44.773905Z"
    },
    "papermill": {
     "duration": 0.572987,
     "end_time": "2025-07-23T14:27:44.777871",
     "exception": false,
     "start_time": "2025-07-23T14:27:44.204884",
     "status": "completed"
    },
    "tags": []
   },
   "outputs": [],
   "source": [
    "from fairness_multiverse.conformal import build_cp_groups\n",
    "\n",
    "cp_groups_df = build_cp_groups(pred_sets, y_true, X_test.index, org_test)\n",
    "#needs universe_id and setting"
   ]
  },
  {
   "cell_type": "code",
   "execution_count": 48,
   "id": "c3b92545-903e-4839-89af-0f057907d7d6",
   "metadata": {
    "execution": {
     "iopub.execute_input": "2025-07-23T14:27:44.891418Z",
     "iopub.status.busy": "2025-07-23T14:27:44.890917Z",
     "iopub.status.idle": "2025-07-23T14:27:48.563062Z",
     "shell.execute_reply": "2025-07-23T14:27:48.561772Z"
    },
    "papermill": {
     "duration": 3.732172,
     "end_time": "2025-07-23T14:27:48.565430",
     "exception": false,
     "start_time": "2025-07-23T14:27:44.833258",
     "status": "completed"
    },
    "tags": []
   },
   "outputs": [],
   "source": [
    "# Define covered = 1 if true_label is in the predicted set\n",
    "cp_groups_df['covered'] = cp_groups_df.apply(\n",
    "    lambda r: int(r['true_label'] in r['pred_set']),\n",
    "    axis=1\n",
    ")"
   ]
  },
  {
   "cell_type": "code",
   "execution_count": 49,
   "id": "338ff529-1a6b-4b87-a931-8e4788d52aad",
   "metadata": {
    "execution": {
     "iopub.execute_input": "2025-07-23T14:27:48.666089Z",
     "iopub.status.busy": "2025-07-23T14:27:48.665544Z",
     "iopub.status.idle": "2025-07-23T14:27:48.671455Z",
     "shell.execute_reply": "2025-07-23T14:27:48.670396Z"
    },
    "papermill": {
     "duration": 0.057622,
     "end_time": "2025-07-23T14:27:48.673324",
     "exception": false,
     "start_time": "2025-07-23T14:27:48.615702",
     "status": "completed"
    },
    "tags": []
   },
   "outputs": [],
   "source": [
    "#cp_groups_df"
   ]
  },
  {
   "cell_type": "code",
   "execution_count": 50,
   "id": "90032e27-66df-4540-9169-4e89cfbaa758",
   "metadata": {
    "execution": {
     "iopub.execute_input": "2025-07-23T14:27:48.750289Z",
     "iopub.status.busy": "2025-07-23T14:27:48.749832Z",
     "iopub.status.idle": "2025-07-23T14:27:48.764896Z",
     "shell.execute_reply": "2025-07-23T14:27:48.763531Z"
    },
    "papermill": {
     "duration": 0.042741,
     "end_time": "2025-07-23T14:27:48.767183",
     "exception": false,
     "start_time": "2025-07-23T14:27:48.724442",
     "status": "completed"
    },
    "tags": []
   },
   "outputs": [],
   "source": [
    "subgroups = ['frau1','nongerman','nongerman_male','nongerman_female']\n",
    "\n",
    "# Conditional coverage for subgroup==1\n",
    "cond_coverage = {\n",
    "    g: cp_groups_df.loc[cp_groups_df[g]==1, 'covered'].mean()\n",
    "    for g in subgroups\n",
    "}"
   ]
  },
  {
   "cell_type": "code",
   "execution_count": 51,
   "id": "1e348fb1-b9c3-45bc-ba23-f016827a7e0d",
   "metadata": {
    "execution": {
     "iopub.execute_input": "2025-07-23T14:27:48.819170Z",
     "iopub.status.busy": "2025-07-23T14:27:48.818694Z",
     "iopub.status.idle": "2025-07-23T14:27:48.827796Z",
     "shell.execute_reply": "2025-07-23T14:27:48.826590Z"
    },
    "papermill": {
     "duration": 0.039573,
     "end_time": "2025-07-23T14:27:48.832980",
     "exception": false,
     "start_time": "2025-07-23T14:27:48.793407",
     "status": "completed"
    },
    "tags": []
   },
   "outputs": [
    {
     "data": {
      "text/plain": [
       "{'frau1': 0.912144493867098,\n",
       " 'nongerman': 0.91062707011733,\n",
       " 'nongerman_male': 0.9253354949112852,\n",
       " 'nongerman_female': 0.8862891207153503}"
      ]
     },
     "execution_count": 51,
     "metadata": {},
     "output_type": "execute_result"
    }
   ],
   "source": [
    "cond_coverage"
   ]
  },
  {
   "cell_type": "code",
   "execution_count": 52,
   "id": "f5093324-c3dd-4d63-bc4c-8d945e5c8bbb",
   "metadata": {
    "execution": {
     "iopub.execute_input": "2025-07-23T14:27:48.919558Z",
     "iopub.status.busy": "2025-07-23T14:27:48.919094Z",
     "iopub.status.idle": "2025-07-23T14:27:48.929170Z",
     "shell.execute_reply": "2025-07-23T14:27:48.927940Z"
    },
    "papermill": {
     "duration": 0.058777,
     "end_time": "2025-07-23T14:27:48.931450",
     "exception": false,
     "start_time": "2025-07-23T14:27:48.872673",
     "status": "completed"
    },
    "tags": []
   },
   "outputs": [],
   "source": [
    "for subgroup, cov in cond_coverage.items():\n",
    "    cp_metrics_df[f\"cov_{subgroup}\"] = cov"
   ]
  },
  {
   "cell_type": "code",
   "execution_count": 53,
   "id": "6e872e10-dbe5-49e8-b554-5030c98ff75d",
   "metadata": {
    "execution": {
     "iopub.execute_input": "2025-07-23T14:27:49.039203Z",
     "iopub.status.busy": "2025-07-23T14:27:49.038745Z",
     "iopub.status.idle": "2025-07-23T14:27:49.065165Z",
     "shell.execute_reply": "2025-07-23T14:27:49.063998Z"
    },
    "papermill": {
     "duration": 0.09451,
     "end_time": "2025-07-23T14:27:49.067236",
     "exception": false,
     "start_time": "2025-07-23T14:27:48.972726",
     "status": "completed"
    },
    "tags": []
   },
   "outputs": [
    {
     "data": {
      "text/html": [
       "<div>\n",
       "<style scoped>\n",
       "    .dataframe tbody tr th:only-of-type {\n",
       "        vertical-align: middle;\n",
       "    }\n",
       "\n",
       "    .dataframe tbody tr th {\n",
       "        vertical-align: top;\n",
       "    }\n",
       "\n",
       "    .dataframe thead th {\n",
       "        text-align: right;\n",
       "    }\n",
       "</style>\n",
       "<table border=\"1\" class=\"dataframe\">\n",
       "  <thead>\n",
       "    <tr style=\"text-align: right;\">\n",
       "      <th></th>\n",
       "      <th>universe_id</th>\n",
       "      <th>universe_model</th>\n",
       "      <th>universe_exclude_features</th>\n",
       "      <th>universe_exclude_subgroups</th>\n",
       "      <th>universe_scale</th>\n",
       "      <th>q_hat</th>\n",
       "      <th>coverage</th>\n",
       "      <th>avg_size</th>\n",
       "      <th>cov_frau1</th>\n",
       "      <th>cov_nongerman</th>\n",
       "      <th>cov_nongerman_male</th>\n",
       "      <th>cov_nongerman_female</th>\n",
       "    </tr>\n",
       "  </thead>\n",
       "  <tbody>\n",
       "    <tr>\n",
       "      <th>0</th>\n",
       "      <td>4356e83194008df6152c133bfc881349</td>\n",
       "      <td>penalized_logreg</td>\n",
       "      <td>nationality-sex</td>\n",
       "      <td>keep-all</td>\n",
       "      <td>scale</td>\n",
       "      <td>0.661153</td>\n",
       "      <td>0.911415</td>\n",
       "      <td>1.124501</td>\n",
       "      <td>0.912144</td>\n",
       "      <td>0.910627</td>\n",
       "      <td>0.925335</td>\n",
       "      <td>0.886289</td>\n",
       "    </tr>\n",
       "  </tbody>\n",
       "</table>\n",
       "</div>"
      ],
      "text/plain": [
       "                        universe_id    universe_model  \\\n",
       "0  4356e83194008df6152c133bfc881349  penalized_logreg   \n",
       "\n",
       "  universe_exclude_features universe_exclude_subgroups universe_scale  \\\n",
       "0           nationality-sex                   keep-all          scale   \n",
       "\n",
       "      q_hat  coverage  avg_size  cov_frau1  cov_nongerman  cov_nongerman_male  \\\n",
       "0  0.661153  0.911415  1.124501   0.912144       0.910627            0.925335   \n",
       "\n",
       "   cov_nongerman_female  \n",
       "0              0.886289  "
      ]
     },
     "execution_count": 53,
     "metadata": {},
     "output_type": "execute_result"
    }
   ],
   "source": [
    "cp_metrics_df"
   ]
  },
  {
   "cell_type": "markdown",
   "id": "33774451",
   "metadata": {
    "papermill": {
     "duration": 0.035158,
     "end_time": "2025-07-23T14:27:49.127749",
     "exception": false,
     "start_time": "2025-07-23T14:27:49.092591",
     "status": "completed"
    },
    "tags": []
   },
   "source": [
    "# (Fairness) Metrics"
   ]
  },
  {
   "cell_type": "code",
   "execution_count": 54,
   "id": "debc5d62",
   "metadata": {
    "execution": {
     "iopub.execute_input": "2025-07-23T14:27:49.230447Z",
     "iopub.status.busy": "2025-07-23T14:27:49.229972Z",
     "iopub.status.idle": "2025-07-23T14:27:49.279503Z",
     "shell.execute_reply": "2025-07-23T14:27:49.278270Z"
    },
    "papermill": {
     "duration": 0.103841,
     "end_time": "2025-07-23T14:27:49.281855",
     "exception": false,
     "start_time": "2025-07-23T14:27:49.178014",
     "status": "completed"
    },
    "tags": []
   },
   "outputs": [],
   "source": [
    "# do I need to include maxdeutsch1.missing?\n",
    "\n",
    "import numpy as np\n",
    "\n",
    "colname_to_bin = \"maxdeutsch1\"\n",
    "majority_value = org_train[colname_to_bin].mode()[0]\n",
    "\n",
    "org_test[\"majmin\"] = np.where(org_test[colname_to_bin] == majority_value, \"majority\", \"minority\")"
   ]
  },
  {
   "cell_type": "code",
   "execution_count": 55,
   "id": "06a50de5",
   "metadata": {
    "execution": {
     "iopub.execute_input": "2025-07-23T14:27:49.371528Z",
     "iopub.status.busy": "2025-07-23T14:27:49.371062Z",
     "iopub.status.idle": "2025-07-23T14:27:53.404168Z",
     "shell.execute_reply": "2025-07-23T14:27:53.402979Z"
    },
    "papermill": {
     "duration": 4.087372,
     "end_time": "2025-07-23T14:27:53.406580",
     "exception": false,
     "start_time": "2025-07-23T14:27:49.319208",
     "status": "completed"
    },
    "tags": []
   },
   "outputs": [],
   "source": [
    "example_universe = universe.copy()\n",
    "example_universe[\"cutoff\"] = example_universe[\"cutoff\"][0]\n",
    "example_universe[\"eval_fairness_grouping\"] = example_universe[\"eval_fairness_grouping\"][0]\n",
    "fairness_dict, metric_frame = universe_analysis.compute_metrics(\n",
    "    example_universe,\n",
    "    y_pred_prob=probs_test,\n",
    "    y_test=y_true,\n",
    "    org_test=org_test,\n",
    ")"
   ]
  },
  {
   "cell_type": "markdown",
   "id": "f95d4e02",
   "metadata": {
    "papermill": {
     "duration": 0.026588,
     "end_time": "2025-07-23T14:27:53.493961",
     "exception": false,
     "start_time": "2025-07-23T14:27:53.467373",
     "status": "completed"
    },
    "tags": []
   },
   "source": [
    "# Overall"
   ]
  },
  {
   "cell_type": "markdown",
   "id": "bdee4871",
   "metadata": {
    "papermill": {
     "duration": 0.025968,
     "end_time": "2025-07-23T14:27:53.545806",
     "exception": false,
     "start_time": "2025-07-23T14:27:53.519838",
     "status": "completed"
    },
    "tags": []
   },
   "source": [
    "Fairness\n",
    "Main fairness target: Equalized Odds. Seems to be a better fit than equal opportunity, since we're not only interested in Y = 1. Seems to be a better fit than demographic parity, since we also care about accuracy, not just equal distribution of preds.\n",
    "\n",
    "Pick column for computation of fairness metrics\n",
    "\n",
    "Performance\n",
    "Overall performance measures, most interesting in relation to the measures split by group below"
   ]
  },
  {
   "cell_type": "code",
   "execution_count": 56,
   "id": "c4e067c6",
   "metadata": {
    "execution": {
     "iopub.execute_input": "2025-07-23T14:27:53.599976Z",
     "iopub.status.busy": "2025-07-23T14:27:53.598829Z",
     "iopub.status.idle": "2025-07-23T14:27:53.609684Z",
     "shell.execute_reply": "2025-07-23T14:27:53.608489Z"
    },
    "papermill": {
     "duration": 0.042632,
     "end_time": "2025-07-23T14:27:53.614393",
     "exception": false,
     "start_time": "2025-07-23T14:27:53.571761",
     "status": "completed"
    },
    "tags": []
   },
   "outputs": [
    {
     "data": {
      "text/plain": [
       "accuracy                   0.225850\n",
       "balanced accuracy          0.551925\n",
       "f1                         0.247141\n",
       "precision                  0.141183\n",
       "false positive rate        0.886678\n",
       "false negative rate        0.009472\n",
       "selection rate             0.900000\n",
       "count                  89710.000000\n",
       "dtype: float64"
      ]
     },
     "execution_count": 56,
     "metadata": {},
     "output_type": "execute_result"
    }
   ],
   "source": [
    "metric_frame.overall"
   ]
  },
  {
   "cell_type": "markdown",
   "id": "e968fe9d",
   "metadata": {
    "papermill": {
     "duration": 0.026117,
     "end_time": "2025-07-23T14:27:53.667399",
     "exception": false,
     "start_time": "2025-07-23T14:27:53.641282",
     "status": "completed"
    },
    "tags": []
   },
   "source": [
    "By Group"
   ]
  },
  {
   "cell_type": "code",
   "execution_count": 57,
   "id": "ec325bce",
   "metadata": {
    "execution": {
     "iopub.execute_input": "2025-07-23T14:27:53.721942Z",
     "iopub.status.busy": "2025-07-23T14:27:53.721474Z",
     "iopub.status.idle": "2025-07-23T14:27:53.745177Z",
     "shell.execute_reply": "2025-07-23T14:27:53.744113Z"
    },
    "papermill": {
     "duration": 0.053323,
     "end_time": "2025-07-23T14:27:53.747223",
     "exception": false,
     "start_time": "2025-07-23T14:27:53.693900",
     "status": "completed"
    },
    "tags": []
   },
   "outputs": [
    {
     "data": {
      "text/html": [
       "<div>\n",
       "<style scoped>\n",
       "    .dataframe tbody tr th:only-of-type {\n",
       "        vertical-align: middle;\n",
       "    }\n",
       "\n",
       "    .dataframe tbody tr th {\n",
       "        vertical-align: top;\n",
       "    }\n",
       "\n",
       "    .dataframe thead th {\n",
       "        text-align: right;\n",
       "    }\n",
       "</style>\n",
       "<table border=\"1\" class=\"dataframe\">\n",
       "  <thead>\n",
       "    <tr style=\"text-align: right;\">\n",
       "      <th></th>\n",
       "      <th>accuracy</th>\n",
       "      <th>balanced accuracy</th>\n",
       "      <th>f1</th>\n",
       "      <th>precision</th>\n",
       "      <th>false positive rate</th>\n",
       "      <th>false negative rate</th>\n",
       "      <th>selection rate</th>\n",
       "      <th>count</th>\n",
       "    </tr>\n",
       "    <tr>\n",
       "      <th>majmin</th>\n",
       "      <th></th>\n",
       "      <th></th>\n",
       "      <th></th>\n",
       "      <th></th>\n",
       "      <th></th>\n",
       "      <th></th>\n",
       "      <th></th>\n",
       "      <th></th>\n",
       "    </tr>\n",
       "  </thead>\n",
       "  <tbody>\n",
       "    <tr>\n",
       "      <th>majority</th>\n",
       "      <td>0.247752</td>\n",
       "      <td>0.562064</td>\n",
       "      <td>0.257912</td>\n",
       "      <td>0.148285</td>\n",
       "      <td>0.865151</td>\n",
       "      <td>0.010722</td>\n",
       "      <td>0.881553</td>\n",
       "      <td>69170.0</td>\n",
       "    </tr>\n",
       "    <tr>\n",
       "      <th>minority</th>\n",
       "      <td>0.152093</td>\n",
       "      <td>0.518781</td>\n",
       "      <td>0.213014</td>\n",
       "      <td>0.119269</td>\n",
       "      <td>0.957792</td>\n",
       "      <td>0.004645</td>\n",
       "      <td>0.962123</td>\n",
       "      <td>20540.0</td>\n",
       "    </tr>\n",
       "  </tbody>\n",
       "</table>\n",
       "</div>"
      ],
      "text/plain": [
       "          accuracy  balanced accuracy        f1  precision  \\\n",
       "majmin                                                       \n",
       "majority  0.247752           0.562064  0.257912   0.148285   \n",
       "minority  0.152093           0.518781  0.213014   0.119269   \n",
       "\n",
       "          false positive rate  false negative rate  selection rate    count  \n",
       "majmin                                                                       \n",
       "majority             0.865151             0.010722        0.881553  69170.0  \n",
       "minority             0.957792             0.004645        0.962123  20540.0  "
      ]
     },
     "execution_count": 57,
     "metadata": {},
     "output_type": "execute_result"
    }
   ],
   "source": [
    "metric_frame.by_group"
   ]
  },
  {
   "cell_type": "code",
   "execution_count": 58,
   "id": "a9ddbe63",
   "metadata": {
    "execution": {
     "iopub.execute_input": "2025-07-23T14:27:53.803359Z",
     "iopub.status.busy": "2025-07-23T14:27:53.802891Z",
     "iopub.status.idle": "2025-07-23T14:27:56.921398Z",
     "shell.execute_reply": "2025-07-23T14:27:56.915105Z"
    },
    "papermill": {
     "duration": 3.148402,
     "end_time": "2025-07-23T14:27:56.923217",
     "exception": false,
     "start_time": "2025-07-23T14:27:53.774815",
     "status": "completed"
    },
    "tags": []
   },
   "outputs": [
    {
     "data": {
      "text/plain": [
       "array([[<Axes: title={'center': 'accuracy'}, xlabel='majmin'>,\n",
       "        <Axes: title={'center': 'balanced accuracy'}, xlabel='majmin'>,\n",
       "        <Axes: title={'center': 'f1'}, xlabel='majmin'>],\n",
       "       [<Axes: title={'center': 'precision'}, xlabel='majmin'>,\n",
       "        <Axes: title={'center': 'false positive rate'}, xlabel='majmin'>,\n",
       "        <Axes: title={'center': 'false negative rate'}, xlabel='majmin'>],\n",
       "       [<Axes: title={'center': 'selection rate'}, xlabel='majmin'>,\n",
       "        <Axes: title={'center': 'count'}, xlabel='majmin'>,\n",
       "        <Axes: xlabel='majmin'>]], dtype=object)"
      ]
     },
     "execution_count": 58,
     "metadata": {},
     "output_type": "execute_result"
    },
    {
     "data": {
      "image/png": "[encoded data removed]",
      "text/plain": [
       "<Figure size 1200x800 with 9 Axes>"
      ]
     },
     "metadata": {},
     "output_type": "display_data"
    }
   ],
   "source": [
    "# In a graphic\n",
    "metric_frame.by_group.plot.bar(\n",
    "    subplots=True,\n",
    "    layout=[3, 3],\n",
    "    legend=False,\n",
    "    figsize=[12, 8],\n",
    "    title=\"Show all metrics\",\n",
    ")"
   ]
  },
  {
   "cell_type": "markdown",
   "id": "f57a0bac",
   "metadata": {
    "papermill": {
     "duration": 0.068796,
     "end_time": "2025-07-23T14:27:57.057502",
     "exception": false,
     "start_time": "2025-07-23T14:27:56.988706",
     "status": "completed"
    },
    "tags": []
   },
   "source": [
    "# Final Output"
   ]
  },
  {
   "cell_type": "code",
   "execution_count": 59,
   "id": "96d280a3",
   "metadata": {
    "execution": {
     "iopub.execute_input": "2025-07-23T14:27:57.175189Z",
     "iopub.status.busy": "2025-07-23T14:27:57.174539Z",
     "iopub.status.idle": "2025-07-23T14:27:57.183332Z",
     "shell.execute_reply": "2025-07-23T14:27:57.182243Z"
    },
    "papermill": {
     "duration": 0.071527,
     "end_time": "2025-07-23T14:27:57.184922",
     "exception": false,
     "start_time": "2025-07-23T14:27:57.113395",
     "status": "completed"
    },
    "tags": []
   },
   "outputs": [
    {
     "data": {
      "text/plain": [
       "4"
      ]
     },
     "execution_count": 59,
     "metadata": {},
     "output_type": "execute_result"
    }
   ],
   "source": [
    "sub_universes = universe_analysis.generate_sub_universes()\n",
    "len(sub_universes)"
   ]
  },
  {
   "cell_type": "code",
   "execution_count": 60,
   "id": "92adf7ba",
   "metadata": {
    "execution": {
     "iopub.execute_input": "2025-07-23T14:27:57.288795Z",
     "iopub.status.busy": "2025-07-23T14:27:57.288285Z",
     "iopub.status.idle": "2025-07-23T14:27:57.295458Z",
     "shell.execute_reply": "2025-07-23T14:27:57.294473Z"
    },
    "papermill": {
     "duration": 0.064048,
     "end_time": "2025-07-23T14:27:57.297394",
     "exception": false,
     "start_time": "2025-07-23T14:27:57.233346",
     "status": "completed"
    },
    "tags": []
   },
   "outputs": [],
   "source": [
    "def filter_sub_universe_data(sub_universe, org_test):\n",
    "    # Keep all rows — no filtering\n",
    "    keep_rows_mask = np.ones(org_test.shape[0], dtype=bool)\n",
    "\n",
    "    print(f\"[INFO] Keeping all rows: {keep_rows_mask.sum()} rows retained.\")\n",
    "    return keep_rows_mask"
   ]
  },
  {
   "cell_type": "code",
   "execution_count": 61,
   "id": "4a759155",
   "metadata": {
    "execution": {
     "iopub.execute_input": "2025-07-23T14:27:57.372391Z",
     "iopub.status.busy": "2025-07-23T14:27:57.371870Z",
     "iopub.status.idle": "2025-07-23T14:28:07.694144Z",
     "shell.execute_reply": "2025-07-23T14:28:07.693164Z"
    },
    "papermill": {
     "duration": 10.353097,
     "end_time": "2025-07-23T14:28:07.695708",
     "exception": false,
     "start_time": "2025-07-23T14:27:57.342611",
     "status": "completed"
    },
    "tags": []
   },
   "outputs": [
    {
     "name": "stdout",
     "output_type": "stream",
     "text": [
      "Stopping execution_time clock.\n",
      "[INFO] Keeping all rows: 89710 rows retained.\n"
     ]
    },
    {
     "name": "stdout",
     "output_type": "stream",
     "text": [
      "[INFO] Keeping all rows: 89710 rows retained.\n"
     ]
    },
    {
     "name": "stdout",
     "output_type": "stream",
     "text": [
      "[INFO] Keeping all rows: 89710 rows retained.\n"
     ]
    },
    {
     "name": "stdout",
     "output_type": "stream",
     "text": [
      "[INFO] Keeping all rows: 89710 rows retained.\n"
     ]
    },
    {
     "data": {
      "text/html": [
       "<div>\n",
       "<style scoped>\n",
       "    .dataframe tbody tr th:only-of-type {\n",
       "        vertical-align: middle;\n",
       "    }\n",
       "\n",
       "    .dataframe tbody tr th {\n",
       "        vertical-align: top;\n",
       "    }\n",
       "\n",
       "    .dataframe thead th {\n",
       "        text-align: right;\n",
       "    }\n",
       "</style>\n",
       "<table border=\"1\" class=\"dataframe\">\n",
       "  <thead>\n",
       "    <tr style=\"text-align: right;\">\n",
       "      <th></th>\n",
       "      <th>run_no</th>\n",
       "      <th>universe_id</th>\n",
       "      <th>universe_settings</th>\n",
       "      <th>execution_time</th>\n",
       "      <th>test_size_n</th>\n",
       "      <th>test_size_frac</th>\n",
       "      <th>fair_main_equalized_odds_difference</th>\n",
       "      <th>fair_main_equalized_odds_ratio</th>\n",
       "      <th>fair_main_demographic_parity_difference</th>\n",
       "      <th>fair_main_demographic_parity_ratio</th>\n",
       "      <th>...</th>\n",
       "      <th>perf_grp_precision_0</th>\n",
       "      <th>perf_grp_precision_1</th>\n",
       "      <th>perf_grp_false positive rate_0</th>\n",
       "      <th>perf_grp_false positive rate_1</th>\n",
       "      <th>perf_grp_false negative rate_0</th>\n",
       "      <th>perf_grp_false negative rate_1</th>\n",
       "      <th>perf_grp_selection rate_0</th>\n",
       "      <th>perf_grp_selection rate_1</th>\n",
       "      <th>perf_grp_count_0</th>\n",
       "      <th>perf_grp_count_1</th>\n",
       "    </tr>\n",
       "  </thead>\n",
       "  <tbody>\n",
       "    <tr>\n",
       "      <th>0</th>\n",
       "      <td>9</td>\n",
       "      <td>4356e83194008df6152c133bfc881349</td>\n",
       "      <td>{\"cutoff\": \"quantile_0.1\", \"eval_fairness_grou...</td>\n",
       "      <td>27.810102</td>\n",
       "      <td>89710</td>\n",
       "      <td>1.0</td>\n",
       "      <td>0.092641</td>\n",
       "      <td>0.903276</td>\n",
       "      <td>0.080570</td>\n",
       "      <td>0.916258</td>\n",
       "      <td>...</td>\n",
       "      <td>NaN</td>\n",
       "      <td>NaN</td>\n",
       "      <td>NaN</td>\n",
       "      <td>NaN</td>\n",
       "      <td>NaN</td>\n",
       "      <td>NaN</td>\n",
       "      <td>NaN</td>\n",
       "      <td>NaN</td>\n",
       "      <td>NaN</td>\n",
       "      <td>NaN</td>\n",
       "    </tr>\n",
       "    <tr>\n",
       "      <th>0</th>\n",
       "      <td>9</td>\n",
       "      <td>4356e83194008df6152c133bfc881349</td>\n",
       "      <td>{\"cutoff\": \"quantile_0.1\", \"eval_fairness_grou...</td>\n",
       "      <td>27.810102</td>\n",
       "      <td>89710</td>\n",
       "      <td>1.0</td>\n",
       "      <td>0.092641</td>\n",
       "      <td>0.903276</td>\n",
       "      <td>0.080570</td>\n",
       "      <td>0.916258</td>\n",
       "      <td>...</td>\n",
       "      <td>0.119269</td>\n",
       "      <td>0.148285</td>\n",
       "      <td>0.957792</td>\n",
       "      <td>0.865151</td>\n",
       "      <td>0.004645</td>\n",
       "      <td>0.010722</td>\n",
       "      <td>0.962123</td>\n",
       "      <td>0.881553</td>\n",
       "      <td>20540.0</td>\n",
       "      <td>69170.0</td>\n",
       "    </tr>\n",
       "    <tr>\n",
       "      <th>0</th>\n",
       "      <td>9</td>\n",
       "      <td>4356e83194008df6152c133bfc881349</td>\n",
       "      <td>{\"cutoff\": \"quantile_0.25\", \"eval_fairness_gro...</td>\n",
       "      <td>27.810102</td>\n",
       "      <td>89710</td>\n",
       "      <td>1.0</td>\n",
       "      <td>0.143703</td>\n",
       "      <td>0.826935</td>\n",
       "      <td>0.123577</td>\n",
       "      <td>0.853803</td>\n",
       "      <td>...</td>\n",
       "      <td>NaN</td>\n",
       "      <td>NaN</td>\n",
       "      <td>NaN</td>\n",
       "      <td>NaN</td>\n",
       "      <td>NaN</td>\n",
       "      <td>NaN</td>\n",
       "      <td>NaN</td>\n",
       "      <td>NaN</td>\n",
       "      <td>NaN</td>\n",
       "      <td>NaN</td>\n",
       "    </tr>\n",
       "    <tr>\n",
       "      <th>0</th>\n",
       "      <td>9</td>\n",
       "      <td>4356e83194008df6152c133bfc881349</td>\n",
       "      <td>{\"cutoff\": \"quantile_0.25\", \"eval_fairness_gro...</td>\n",
       "      <td>27.810102</td>\n",
       "      <td>89710</td>\n",
       "      <td>1.0</td>\n",
       "      <td>0.143703</td>\n",
       "      <td>0.826935</td>\n",
       "      <td>0.123577</td>\n",
       "      <td>0.853803</td>\n",
       "      <td>...</td>\n",
       "      <td>0.130918</td>\n",
       "      <td>0.174299</td>\n",
       "      <td>0.830343</td>\n",
       "      <td>0.686640</td>\n",
       "      <td>0.040118</td>\n",
       "      <td>0.048031</td>\n",
       "      <td>0.845278</td>\n",
       "      <td>0.721700</td>\n",
       "      <td>20540.0</td>\n",
       "      <td>69170.0</td>\n",
       "    </tr>\n",
       "  </tbody>\n",
       "</table>\n",
       "<p>4 rows × 50 columns</p>\n",
       "</div>"
      ],
      "text/plain": [
       "  run_no                       universe_id  \\\n",
       "0      9  4356e83194008df6152c133bfc881349   \n",
       "0      9  4356e83194008df6152c133bfc881349   \n",
       "0      9  4356e83194008df6152c133bfc881349   \n",
       "0      9  4356e83194008df6152c133bfc881349   \n",
       "\n",
       "                                   universe_settings  execution_time  \\\n",
       "0  {\"cutoff\": \"quantile_0.1\", \"eval_fairness_grou...       27.810102   \n",
       "0  {\"cutoff\": \"quantile_0.1\", \"eval_fairness_grou...       27.810102   \n",
       "0  {\"cutoff\": \"quantile_0.25\", \"eval_fairness_gro...       27.810102   \n",
       "0  {\"cutoff\": \"quantile_0.25\", \"eval_fairness_gro...       27.810102   \n",
       "\n",
       "   test_size_n  test_size_frac  fair_main_equalized_odds_difference  \\\n",
       "0        89710             1.0                             0.092641   \n",
       "0        89710             1.0                             0.092641   \n",
       "0        89710             1.0                             0.143703   \n",
       "0        89710             1.0                             0.143703   \n",
       "\n",
       "   fair_main_equalized_odds_ratio  fair_main_demographic_parity_difference  \\\n",
       "0                        0.903276                                 0.080570   \n",
       "0                        0.903276                                 0.080570   \n",
       "0                        0.826935                                 0.123577   \n",
       "0                        0.826935                                 0.123577   \n",
       "\n",
       "   fair_main_demographic_parity_ratio  ...  perf_grp_precision_0  \\\n",
       "0                            0.916258  ...                   NaN   \n",
       "0                            0.916258  ...              0.119269   \n",
       "0                            0.853803  ...                   NaN   \n",
       "0                            0.853803  ...              0.130918   \n",
       "\n",
       "   perf_grp_precision_1  perf_grp_false positive rate_0  \\\n",
       "0                   NaN                             NaN   \n",
       "0              0.148285                        0.957792   \n",
       "0                   NaN                             NaN   \n",
       "0              0.174299                        0.830343   \n",
       "\n",
       "   perf_grp_false positive rate_1  perf_grp_false negative rate_0  \\\n",
       "0                             NaN                             NaN   \n",
       "0                        0.865151                        0.004645   \n",
       "0                             NaN                             NaN   \n",
       "0                        0.686640                        0.040118   \n",
       "\n",
       "   perf_grp_false negative rate_1  perf_grp_selection rate_0  \\\n",
       "0                             NaN                        NaN   \n",
       "0                        0.010722                   0.962123   \n",
       "0                             NaN                        NaN   \n",
       "0                        0.048031                   0.845278   \n",
       "\n",
       "   perf_grp_selection rate_1  perf_grp_count_0  perf_grp_count_1  \n",
       "0                        NaN               NaN               NaN  \n",
       "0                   0.881553           20540.0           69170.0  \n",
       "0                        NaN               NaN               NaN  \n",
       "0                   0.721700           20540.0           69170.0  \n",
       "\n",
       "[4 rows x 50 columns]"
      ]
     },
     "execution_count": 61,
     "metadata": {},
     "output_type": "execute_result"
    }
   ],
   "source": [
    "final_output = universe_analysis.generate_final_output(\n",
    "    y_pred_prob=probs_test,\n",
    "    y_test=y_true,\n",
    "    org_test=org_test,\n",
    "    filter_data=filter_sub_universe_data,\n",
    "    cp_metrics_df=cp_metrics_df,\n",
    "    save=True,\n",
    ")\n",
    "final_output"
   ]
  },
  {
   "cell_type": "code",
   "execution_count": null,
   "id": "721ff514-cb11-46f8-b6fc-50392f74b5cb",
   "metadata": {
    "papermill": {
     "duration": 0.017779,
     "end_time": "2025-07-23T14:28:07.731425",
     "exception": false,
     "start_time": "2025-07-23T14:28:07.713646",
     "status": "completed"
    },
    "tags": []
   },
   "outputs": [],
   "source": []
  }
 ],
 "metadata": {
  "celltoolbar": "Tags",
  "kernelspec": {
   "display_name": "Python (CMA Fairness)",
   "language": "python",
   "name": "cma_fair_env"
  },
  "language_info": {
   "codemirror_mode": {
    "name": "ipython",
    "version": 3
   },
   "file_extension": ".py",
   "mimetype": "text/x-python",
   "name": "python",
   "nbconvert_exporter": "python",
   "pygments_lexer": "ipython3",
   "version": "3.10.12"
  },
  "papermill": {
   "default_parameters": {},
   "duration": 42.170958,
   "end_time": "2025-07-23T14:28:08.572840",
   "environment_variables": {},
   "exception": null,
   "input_path": "universe_analysis.ipynb",
   "output_path": "output/runs/9/notebooks/m_9-4356e83194008df6152c133bfc881349.ipynb",
   "parameters": {
    "output_dir": "output",
    "run_no": "9",
    "seed": "2023",
    "universe": "{\"cutoff\": [\"quantile_0.1\", \"quantile_0.25\"], \"eval_fairness_grouping\": [\"majority-minority\", \"nationality-all\"], \"exclude_features\": \"nationality-sex\", \"exclude_subgroups\": \"keep-all\", \"model\": \"penalized_logreg\", \"scale\": \"scale\"}",
    "universe_id": "4356e83194008df6152c133bfc881349"
   },
   "start_time": "2025-07-23T14:27:26.401882",
   "version": "2.6.0"
  }
 },
 "nbformat": 4,
 "nbformat_minor": 5
}