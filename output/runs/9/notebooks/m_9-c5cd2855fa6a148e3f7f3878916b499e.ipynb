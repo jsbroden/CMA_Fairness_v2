{
 "cells": [
  {
   "cell_type": "code",
   "execution_count": 1,
   "id": "f159f837-637b-42ba-96b5-ec9a68c44524",
   "metadata": {
    "execution": {
     "iopub.execute_input": "2025-07-23T14:38:22.830432Z",
     "iopub.status.busy": "2025-07-23T14:38:22.829690Z",
     "iopub.status.idle": "2025-07-23T14:38:22.844937Z",
     "shell.execute_reply": "2025-07-23T14:38:22.843767Z"
    },
    "papermill": {
     "duration": 0.037711,
     "end_time": "2025-07-23T14:38:22.846863",
     "exception": false,
     "start_time": "2025-07-23T14:38:22.809152",
     "status": "completed"
    },
    "tags": []
   },
   "outputs": [
    {
     "name": "stdout",
     "output_type": "stream",
     "text": [
      "/dss/dsshome1/0C/ra93lal2/cma/CMA_Fairness_v2\n"
     ]
    },
    {
     "name": "stderr",
     "output_type": "stream",
     "text": [
      "/dss/dsshome1/0C/ra93lal2/.local/share/virtualenvs/CMA_Fairness_v2-3j10GkSs/lib/python3.10/site-packages/IPython/core/magics/osm.py:393: UserWarning: This is now an optional IPython functionality, using bookmarks requires you to install the `pickleshare` library.\n",
      "  bkms = self.shell.db.get('bookmarks', {})\n",
      "/dss/dsshome1/0C/ra93lal2/.local/share/virtualenvs/CMA_Fairness_v2-3j10GkSs/lib/python3.10/site-packages/IPython/core/magics/osm.py:417: UserWarning: This is now an optional IPython functionality, setting dhist requires you to install the `pickleshare` library.\n",
      "  self.shell.db['dhist'] = compress_dhist(dhist)[-100:]\n"
     ]
    }
   ],
   "source": [
    "%cd ~/cma/CMA_Fairness_v2"
   ]
  },
  {
   "cell_type": "markdown",
   "id": "de2603b9",
   "metadata": {
    "papermill": {
     "duration": 0.018472,
     "end_time": "2025-07-23T14:38:22.883308",
     "exception": false,
     "start_time": "2025-07-23T14:38:22.864836",
     "status": "completed"
    },
    "tags": []
   },
   "source": [
    "The following cell holds the definition of our parameters, these values can be overriden by rendering the with e.g. the following command:\n",
    "\n",
    "papermill -p alpha 0.2 -p ratio 0.3 universe_analysis.ipynb output/test_run.ipynb"
   ]
  },
  {
   "cell_type": "code",
   "execution_count": 2,
   "id": "a80968a0-40bb-4fa9-85ef-2d5eefb01975",
   "metadata": {
    "execution": {
     "iopub.execute_input": "2025-07-23T14:38:22.922963Z",
     "iopub.status.busy": "2025-07-23T14:38:22.921811Z",
     "iopub.status.idle": "2025-07-23T14:38:22.928043Z",
     "shell.execute_reply": "2025-07-23T14:38:22.927019Z"
    },
    "papermill": {
     "duration": 0.028005,
     "end_time": "2025-07-23T14:38:22.929923",
     "exception": false,
     "start_time": "2025-07-23T14:38:22.901918",
     "status": "completed"
    },
    "tags": []
   },
   "outputs": [
    {
     "name": "stdout",
     "output_type": "stream",
     "text": [
      "Current working directory: /dss/dsshome1/0C/ra93lal2/cma/CMA_Fairness_v2\n"
     ]
    }
   ],
   "source": [
    "import os\n",
    "print(\"Current working directory:\", os.getcwd())"
   ]
  },
  {
   "cell_type": "code",
   "execution_count": 3,
   "id": "2dce4c03",
   "metadata": {
    "execution": {
     "iopub.execute_input": "2025-07-23T14:38:22.972939Z",
     "iopub.status.busy": "2025-07-23T14:38:22.972472Z",
     "iopub.status.idle": "2025-07-23T14:38:22.978972Z",
     "shell.execute_reply": "2025-07-23T14:38:22.977894Z"
    },
    "papermill": {
     "duration": 0.032329,
     "end_time": "2025-07-23T14:38:22.981153",
     "exception": false,
     "start_time": "2025-07-23T14:38:22.948824",
     "status": "completed"
    },
    "tags": [
     "parameters"
    ]
   },
   "outputs": [],
   "source": [
    "run_no = 0\n",
    "universe_id = \"test\"\n",
    "universe = {\n",
    "    \"scale\": \"scale\", # \"scale\", \"do-not-scale\",\n",
    "    \"model\": \"elasticnet\", # \"logreg\", \"penalized_logreg\", \"rf\", \"gbm\", \"elasticnet\"\n",
    "    \"cutoff\": [\"quantile_0.15\", \"quantile_0.30\"],\n",
    "    \"exclude_features\": \"age\", # \"none\", \"nationality\", \"sex\", \"nationality-sex\", \"age\"\n",
    "    \"exclude_subgroups\": \"keep-all\", # \"keep-all\", \"drop-non-german\"\n",
    "    #\"training_sample\": \"restricted\", # \"restricted\", \"full\"\n",
    "    \"eval_fairness_grouping\": [\"majority-minority\", \"nationality-all\"]\n",
    "}\n",
    "\n",
    "output_dir=\"./output\"\n",
    "seed=0"
   ]
  },
  {
   "cell_type": "code",
   "execution_count": 4,
   "id": "ecff9bc4",
   "metadata": {
    "execution": {
     "iopub.execute_input": "2025-07-23T14:38:23.021483Z",
     "iopub.status.busy": "2025-07-23T14:38:23.020769Z",
     "iopub.status.idle": "2025-07-23T14:38:23.027429Z",
     "shell.execute_reply": "2025-07-23T14:38:23.026314Z"
    },
    "papermill": {
     "duration": 0.028747,
     "end_time": "2025-07-23T14:38:23.029129",
     "exception": false,
     "start_time": "2025-07-23T14:38:23.000382",
     "status": "completed"
    },
    "tags": [
     "injected-parameters"
    ]
   },
   "outputs": [],
   "source": [
    "# Parameters\n",
    "universe_id = \"c5cd2855fa6a148e3f7f3878916b499e\"\n",
    "run_no = \"9\"\n",
    "universe = \"{\\\"cutoff\\\": [\\\"quantile_0.1\\\", \\\"quantile_0.25\\\"], \\\"eval_fairness_grouping\\\": [\\\"majority-minority\\\", \\\"nationality-all\\\"], \\\"exclude_features\\\": \\\"nationality-sex\\\", \\\"exclude_subgroups\\\": \\\"keep-all\\\", \\\"model\\\": \\\"gbm\\\", \\\"scale\\\": \\\"do-not-scale\\\"}\"\n",
    "output_dir = \"output\"\n",
    "seed = \"2023\"\n"
   ]
  },
  {
   "cell_type": "code",
   "execution_count": 5,
   "id": "1650acaf",
   "metadata": {
    "execution": {
     "iopub.execute_input": "2025-07-23T14:38:23.066894Z",
     "iopub.status.busy": "2025-07-23T14:38:23.066184Z",
     "iopub.status.idle": "2025-07-23T14:38:23.071735Z",
     "shell.execute_reply": "2025-07-23T14:38:23.070654Z"
    },
    "papermill": {
     "duration": 0.026074,
     "end_time": "2025-07-23T14:38:23.073553",
     "exception": false,
     "start_time": "2025-07-23T14:38:23.047479",
     "status": "completed"
    },
    "tags": []
   },
   "outputs": [],
   "source": [
    "import json\n",
    "# Parse universe into dict if it is passed as a string\n",
    "if isinstance(universe, str):\n",
    "    universe = json.loads(universe)"
   ]
  },
  {
   "cell_type": "code",
   "execution_count": 6,
   "id": "16620c48",
   "metadata": {
    "execution": {
     "iopub.execute_input": "2025-07-23T14:38:23.112742Z",
     "iopub.status.busy": "2025-07-23T14:38:23.111998Z",
     "iopub.status.idle": "2025-07-23T14:38:23.161449Z",
     "shell.execute_reply": "2025-07-23T14:38:23.160384Z"
    },
    "papermill": {
     "duration": 0.071115,
     "end_time": "2025-07-23T14:38:23.163747",
     "exception": false,
     "start_time": "2025-07-23T14:38:23.092632",
     "status": "completed"
    },
    "tags": []
   },
   "outputs": [],
   "source": [
    "# Auto-reload the custom package\n",
    "%load_ext autoreload\n",
    "%autoreload 1\n",
    "%aimport fairness_multiverse"
   ]
  },
  {
   "cell_type": "code",
   "execution_count": 7,
   "id": "01c5c9f3",
   "metadata": {
    "execution": {
     "iopub.execute_input": "2025-07-23T14:38:23.201836Z",
     "iopub.status.busy": "2025-07-23T14:38:23.201129Z",
     "iopub.status.idle": "2025-07-23T14:38:25.410118Z",
     "shell.execute_reply": "2025-07-23T14:38:25.408964Z"
    },
    "papermill": {
     "duration": 2.230046,
     "end_time": "2025-07-23T14:38:25.412344",
     "exception": false,
     "start_time": "2025-07-23T14:38:23.182298",
     "status": "completed"
    },
    "tags": []
   },
   "outputs": [],
   "source": [
    "from fairness_multiverse.universe import UniverseAnalysis\n",
    "\n",
    "universe_analysis = UniverseAnalysis(\n",
    "    run_no = run_no,\n",
    "    universe_id = universe_id,\n",
    "    universe = universe,\n",
    "    output_dir=output_dir,\n",
    ")"
   ]
  },
  {
   "cell_type": "code",
   "execution_count": 8,
   "id": "106241f5",
   "metadata": {
    "execution": {
     "iopub.execute_input": "2025-07-23T14:38:25.452778Z",
     "iopub.status.busy": "2025-07-23T14:38:25.451705Z",
     "iopub.status.idle": "2025-07-23T14:38:25.459395Z",
     "shell.execute_reply": "2025-07-23T14:38:25.458286Z"
    },
    "papermill": {
     "duration": 0.02919,
     "end_time": "2025-07-23T14:38:25.461199",
     "exception": false,
     "start_time": "2025-07-23T14:38:25.432009",
     "status": "completed"
    },
    "tags": []
   },
   "outputs": [
    {
     "name": "stdout",
     "output_type": "stream",
     "text": [
      "Using Seed: 2023\n"
     ]
    }
   ],
   "source": [
    "import numpy as np\n",
    "parsed_seed = int(seed)\n",
    "np.random.seed(parsed_seed)\n",
    "print(f\"Using Seed: {parsed_seed}\")"
   ]
  },
  {
   "cell_type": "markdown",
   "id": "e0ebdc57",
   "metadata": {
    "papermill": {
     "duration": 0.019135,
     "end_time": "2025-07-23T14:38:25.499997",
     "exception": false,
     "start_time": "2025-07-23T14:38:25.480862",
     "status": "completed"
    },
    "tags": []
   },
   "source": [
    "# Loading Data"
   ]
  },
  {
   "cell_type": "markdown",
   "id": "681925a3",
   "metadata": {
    "papermill": {
     "duration": 0.018516,
     "end_time": "2025-07-23T14:38:25.538604",
     "exception": false,
     "start_time": "2025-07-23T14:38:25.520088",
     "status": "completed"
    },
    "tags": []
   },
   "source": [
    "Load siab_train, siab_test, siab_calib and/or \n",
    "load siab_train_features, siab_train_labels"
   ]
  },
  {
   "cell_type": "code",
   "execution_count": 9,
   "id": "f0496b8a",
   "metadata": {
    "execution": {
     "iopub.execute_input": "2025-07-23T14:38:25.577779Z",
     "iopub.status.busy": "2025-07-23T14:38:25.576647Z",
     "iopub.status.idle": "2025-07-23T14:38:25.583268Z",
     "shell.execute_reply": "2025-07-23T14:38:25.582215Z"
    },
    "papermill": {
     "duration": 0.028531,
     "end_time": "2025-07-23T14:38:25.585344",
     "exception": false,
     "start_time": "2025-07-23T14:38:25.556813",
     "status": "completed"
    },
    "tags": []
   },
   "outputs": [],
   "source": [
    "# Do I need to load siab? Delete this cell?\n",
    "\n",
    "#from pathlib import Path\n",
    "#import pandas as pd\n",
    "#\n",
    "## File paths\n",
    "#raw_file = Path(\"data/raw/siab.csv\")\n",
    "#cache_file = Path(\"data/siab_cached.csv.gz\")\n",
    "#\n",
    "## Ensure cache directory exists\n",
    "#cache_file.parent.mkdir(parents=True, exist_ok=True)\n",
    "#\n",
    "## Load with simple caching\n",
    "#if cache_file.exists():\n",
    "#    print(f\"Loading SIAB data from cache: {cache_file}\")\n",
    "#    siab = pd.read_csv(cache_file, compression='gzip')\n",
    "#else:\n",
    "#    print(f\"Cache not found. Reading raw SIAB data: {raw_file}\")\n",
    "#    siab = pd.read_csv(raw_file)\n",
    "#    siab.to_csv(cache_file, index=False, compression='gzip')\n",
    "#    print(f\"Cached SIAB data to: {cache_file}\")\n",
    "#\n",
    "## Now use `siab` DataFrame as needed\n",
    "#print(siab.shape)\n"
   ]
  },
  {
   "cell_type": "code",
   "execution_count": 10,
   "id": "a0edb063",
   "metadata": {
    "execution": {
     "iopub.execute_input": "2025-07-23T14:38:25.626043Z",
     "iopub.status.busy": "2025-07-23T14:38:25.625111Z",
     "iopub.status.idle": "2025-07-23T14:38:26.935156Z",
     "shell.execute_reply": "2025-07-23T14:38:26.934106Z"
    },
    "papermill": {
     "duration": 1.332476,
     "end_time": "2025-07-23T14:38:26.937287",
     "exception": false,
     "start_time": "2025-07-23T14:38:25.604811",
     "status": "completed"
    },
    "tags": []
   },
   "outputs": [],
   "source": [
    "import pandas as pd\n",
    "\n",
    "X_train = pd.read_csv(\"./data/X_train.csv\")\n",
    "y_train = pd.read_csv(\"./data/y_train.csv\")"
   ]
  },
  {
   "cell_type": "code",
   "execution_count": 11,
   "id": "63d08085",
   "metadata": {
    "execution": {
     "iopub.execute_input": "2025-07-23T14:38:26.978449Z",
     "iopub.status.busy": "2025-07-23T14:38:26.977903Z",
     "iopub.status.idle": "2025-07-23T14:38:28.520447Z",
     "shell.execute_reply": "2025-07-23T14:38:28.519440Z"
    },
    "papermill": {
     "duration": 1.566271,
     "end_time": "2025-07-23T14:38:28.522874",
     "exception": false,
     "start_time": "2025-07-23T14:38:26.956603",
     "status": "completed"
    },
    "tags": []
   },
   "outputs": [],
   "source": [
    "X_test = pd.read_csv(\"./data/X_test.csv\")\n",
    "y_true = pd.read_csv(\"./data/y_test.csv\")"
   ]
  },
  {
   "cell_type": "code",
   "execution_count": 12,
   "id": "98a8d0fa-1d3d-4ed8-bb2c-281470e24add",
   "metadata": {
    "execution": {
     "iopub.execute_input": "2025-07-23T14:38:28.563545Z",
     "iopub.status.busy": "2025-07-23T14:38:28.562809Z",
     "iopub.status.idle": "2025-07-23T14:38:30.065797Z",
     "shell.execute_reply": "2025-07-23T14:38:30.064620Z"
    },
    "papermill": {
     "duration": 1.525546,
     "end_time": "2025-07-23T14:38:30.067888",
     "exception": false,
     "start_time": "2025-07-23T14:38:28.542342",
     "status": "completed"
    },
    "tags": []
   },
   "outputs": [],
   "source": [
    "# Calibration data for conformal\n",
    "X_calib = pd.read_csv(\"./data/X_calib.csv\")\n",
    "y_calib = pd.read_csv(\"./data/y_calib.csv\")"
   ]
  },
  {
   "cell_type": "code",
   "execution_count": 13,
   "id": "e6c733c5",
   "metadata": {
    "execution": {
     "iopub.execute_input": "2025-07-23T14:38:30.109055Z",
     "iopub.status.busy": "2025-07-23T14:38:30.108107Z",
     "iopub.status.idle": "2025-07-23T14:38:30.243914Z",
     "shell.execute_reply": "2025-07-23T14:38:30.242856Z"
    },
    "papermill": {
     "duration": 0.158855,
     "end_time": "2025-07-23T14:38:30.246185",
     "exception": false,
     "start_time": "2025-07-23T14:38:30.087330",
     "status": "completed"
    },
    "tags": []
   },
   "outputs": [],
   "source": [
    "# Auxiliary data needed downstream in the pipeline\n",
    "\n",
    "org_train = X_train.copy()\n",
    "org_test = X_test.copy()\n",
    "org_calib = X_calib.copy()"
   ]
  },
  {
   "cell_type": "markdown",
   "id": "0a4a1b33",
   "metadata": {
    "papermill": {
     "duration": 0.01999,
     "end_time": "2025-07-23T14:38:30.285762",
     "exception": false,
     "start_time": "2025-07-23T14:38:30.265772",
     "status": "completed"
    },
    "tags": []
   },
   "source": [
    "# Preprocessing Data"
   ]
  },
  {
   "cell_type": "code",
   "execution_count": 14,
   "id": "ca879031",
   "metadata": {
    "execution": {
     "iopub.execute_input": "2025-07-23T14:38:30.326761Z",
     "iopub.status.busy": "2025-07-23T14:38:30.326040Z",
     "iopub.status.idle": "2025-07-23T14:38:30.332665Z",
     "shell.execute_reply": "2025-07-23T14:38:30.331641Z"
    },
    "papermill": {
     "duration": 0.029173,
     "end_time": "2025-07-23T14:38:30.334620",
     "exception": false,
     "start_time": "2025-07-23T14:38:30.305447",
     "status": "completed"
    },
    "tags": []
   },
   "outputs": [],
   "source": [
    "# EXCLUDE PROTECTED FEATURES\n",
    "# ----------------------\n",
    "# \"exclude_features\": \"none\", # \"nationality\", \"sex\", \"nationality-sex\"\n",
    "\n",
    "excluded_features = universe[\"exclude_features\"].split(\"-\") # split, e.g.: \"nationality-sex\" -> [\"nationality\", \"sex\"]\n",
    "excluded_features_dictionary = {\n",
    "    \"nationality\": [\"maxdeutsch1\", \"maxdeutsch.Missing.\"],\n",
    "    \"sex\": [\"frau1\"],\n",
    "    \"age\": [\"age\"],\n",
    "}\n"
   ]
  },
  {
   "cell_type": "code",
   "execution_count": 15,
   "id": "b745ac60",
   "metadata": {
    "execution": {
     "iopub.execute_input": "2025-07-23T14:38:30.375234Z",
     "iopub.status.busy": "2025-07-23T14:38:30.374313Z",
     "iopub.status.idle": "2025-07-23T14:38:30.380762Z",
     "shell.execute_reply": "2025-07-23T14:38:30.379731Z"
    },
    "papermill": {
     "duration": 0.028969,
     "end_time": "2025-07-23T14:38:30.382736",
     "exception": false,
     "start_time": "2025-07-23T14:38:30.353767",
     "status": "completed"
    },
    "tags": []
   },
   "outputs": [],
   "source": [
    "# Code nice names to column names\n",
    "\n",
    "excluded_features_columns = [\n",
    "    excluded_features_dictionary[f] for f in excluded_features if len(f) > 0 and f != \"none\"\n",
    "]"
   ]
  },
  {
   "cell_type": "code",
   "execution_count": 16,
   "id": "f84f73a2",
   "metadata": {
    "execution": {
     "iopub.execute_input": "2025-07-23T14:38:30.424415Z",
     "iopub.status.busy": "2025-07-23T14:38:30.423911Z",
     "iopub.status.idle": "2025-07-23T14:38:30.430779Z",
     "shell.execute_reply": "2025-07-23T14:38:30.429697Z"
    },
    "papermill": {
     "duration": 0.029581,
     "end_time": "2025-07-23T14:38:30.432825",
     "exception": false,
     "start_time": "2025-07-23T14:38:30.403244",
     "status": "completed"
    },
    "tags": []
   },
   "outputs": [],
   "source": [
    "from utils import flatten_once\n",
    "\n",
    "excluded_features_columns = flatten_once(excluded_features_columns)"
   ]
  },
  {
   "cell_type": "code",
   "execution_count": 17,
   "id": "884dea22",
   "metadata": {
    "execution": {
     "iopub.execute_input": "2025-07-23T14:38:30.473174Z",
     "iopub.status.busy": "2025-07-23T14:38:30.472650Z",
     "iopub.status.idle": "2025-07-23T14:38:30.522372Z",
     "shell.execute_reply": "2025-07-23T14:38:30.521192Z"
    },
    "papermill": {
     "duration": 0.071896,
     "end_time": "2025-07-23T14:38:30.524260",
     "exception": false,
     "start_time": "2025-07-23T14:38:30.452364",
     "status": "completed"
    },
    "tags": []
   },
   "outputs": [
    {
     "name": "stdout",
     "output_type": "stream",
     "text": [
      "Dropping features: ['maxdeutsch1', 'maxdeutsch.Missing.', 'frau1']\n"
     ]
    }
   ],
   "source": [
    "if len(excluded_features_columns) > 0:\n",
    "    print(f\"Dropping features: {excluded_features_columns}\")\n",
    "    X_train.drop(excluded_features_columns, axis=1, inplace=True)"
   ]
  },
  {
   "cell_type": "code",
   "execution_count": 18,
   "id": "95ab8b16",
   "metadata": {
    "execution": {
     "iopub.execute_input": "2025-07-23T14:38:30.564767Z",
     "iopub.status.busy": "2025-07-23T14:38:30.563785Z",
     "iopub.status.idle": "2025-07-23T14:38:30.621775Z",
     "shell.execute_reply": "2025-07-23T14:38:30.620604Z"
    },
    "papermill": {
     "duration": 0.080521,
     "end_time": "2025-07-23T14:38:30.624232",
     "exception": false,
     "start_time": "2025-07-23T14:38:30.543711",
     "status": "completed"
    },
    "tags": []
   },
   "outputs": [
    {
     "name": "stdout",
     "output_type": "stream",
     "text": [
      "Dropping features: ['maxdeutsch1', 'maxdeutsch.Missing.', 'frau1']\n"
     ]
    }
   ],
   "source": [
    "if len(excluded_features_columns) > 0:\n",
    "    print(f\"Dropping features: {excluded_features_columns}\")\n",
    "    X_test.drop(excluded_features_columns, axis=1, inplace=True)"
   ]
  },
  {
   "cell_type": "code",
   "execution_count": 19,
   "id": "1853aaf5-fb9f-46cb-a2b5-8ea4ae2237e4",
   "metadata": {
    "execution": {
     "iopub.execute_input": "2025-07-23T14:38:30.665482Z",
     "iopub.status.busy": "2025-07-23T14:38:30.664420Z",
     "iopub.status.idle": "2025-07-23T14:38:30.724447Z",
     "shell.execute_reply": "2025-07-23T14:38:30.723363Z"
    },
    "papermill": {
     "duration": 0.082782,
     "end_time": "2025-07-23T14:38:30.726547",
     "exception": false,
     "start_time": "2025-07-23T14:38:30.643765",
     "status": "completed"
    },
    "tags": []
   },
   "outputs": [
    {
     "name": "stdout",
     "output_type": "stream",
     "text": [
      "Dropping features: ['maxdeutsch1', 'maxdeutsch.Missing.', 'frau1']\n"
     ]
    }
   ],
   "source": [
    "if len(excluded_features_columns) > 0:\n",
    "    print(f\"Dropping features: {excluded_features_columns}\")\n",
    "    X_calib.drop(excluded_features_columns, axis=1, inplace=True)"
   ]
  },
  {
   "cell_type": "code",
   "execution_count": 20,
   "id": "76c4dc6d",
   "metadata": {
    "execution": {
     "iopub.execute_input": "2025-07-23T14:38:30.769906Z",
     "iopub.status.busy": "2025-07-23T14:38:30.769168Z",
     "iopub.status.idle": "2025-07-23T14:38:30.775432Z",
     "shell.execute_reply": "2025-07-23T14:38:30.774285Z"
    },
    "papermill": {
     "duration": 0.029946,
     "end_time": "2025-07-23T14:38:30.777212",
     "exception": false,
     "start_time": "2025-07-23T14:38:30.747266",
     "status": "completed"
    },
    "tags": []
   },
   "outputs": [],
   "source": [
    "# EXCLUDE CERTAIN SUBGROUPS\n",
    "# ----------------------\n",
    "\n",
    "mode = universe.get(\"exclude_subgroups\", \"keep-all\") \n",
    "# Fetches the exclude_subgroups setting from the universe dict.\n",
    "# Defaults to \"keep-all\" if the key is missing."
   ]
  },
  {
   "cell_type": "code",
   "execution_count": 21,
   "id": "21994072",
   "metadata": {
    "execution": {
     "iopub.execute_input": "2025-07-23T14:38:30.818910Z",
     "iopub.status.busy": "2025-07-23T14:38:30.817891Z",
     "iopub.status.idle": "2025-07-23T14:38:30.825378Z",
     "shell.execute_reply": "2025-07-23T14:38:30.824342Z"
    },
    "papermill": {
     "duration": 0.030251,
     "end_time": "2025-07-23T14:38:30.827240",
     "exception": false,
     "start_time": "2025-07-23T14:38:30.796989",
     "status": "completed"
    },
    "tags": []
   },
   "outputs": [],
   "source": [
    "if mode == \"keep-all\":\n",
    "    keep_mask = pd.Series(True, index=org_train.index)\n",
    "\n",
    "# org_train contains the original feature columns from features_org (in Simson)\n",
    "# features_org contains unprocessed features, for me X_train at beginning ???\n",
    "# For keep-all, creates a boolean Series (keep_mask) of all True, so no rows are removed.\n",
    "\n",
    "elif mode == \"drop-non-german\":\n",
    "    keep_mask = org_train[\"maxdeutsch1\"] == 1 # ??? what about missing values?\n",
    "\n",
    "else:\n",
    "    raise ValueError(f\"Unsupported mode for exclude_subgroups: {mode}\")\n"
   ]
  },
  {
   "cell_type": "code",
   "execution_count": 22,
   "id": "71651440",
   "metadata": {
    "execution": {
     "iopub.execute_input": "2025-07-23T14:38:30.869183Z",
     "iopub.status.busy": "2025-07-23T14:38:30.868748Z",
     "iopub.status.idle": "2025-07-23T14:38:30.876502Z",
     "shell.execute_reply": "2025-07-23T14:38:30.875419Z"
    },
    "papermill": {
     "duration": 0.030594,
     "end_time": "2025-07-23T14:38:30.878172",
     "exception": false,
     "start_time": "2025-07-23T14:38:30.847578",
     "status": "completed"
    },
    "tags": []
   },
   "outputs": [],
   "source": [
    "n_drop = (~keep_mask).sum() # Calculates how many rows are set to be dropped\n",
    "if n_drop > 0:\n",
    "    pct = n_drop / len(keep_mask) * 100\n",
    "    print(f\"Dropping {n_drop} rows ({pct:.2f}%) where mode='{mode}'\")"
   ]
  },
  {
   "cell_type": "code",
   "execution_count": 23,
   "id": "5fb8eee5",
   "metadata": {
    "execution": {
     "iopub.execute_input": "2025-07-23T14:38:30.921216Z",
     "iopub.status.busy": "2025-07-23T14:38:30.920214Z",
     "iopub.status.idle": "2025-07-23T14:38:30.981311Z",
     "shell.execute_reply": "2025-07-23T14:38:30.980173Z"
    },
    "papermill": {
     "duration": 0.083694,
     "end_time": "2025-07-23T14:38:30.983353",
     "exception": false,
     "start_time": "2025-07-23T14:38:30.899659",
     "status": "completed"
    },
    "tags": []
   },
   "outputs": [],
   "source": [
    "X_train = X_train[keep_mask]"
   ]
  },
  {
   "cell_type": "code",
   "execution_count": 24,
   "id": "b202bb3a",
   "metadata": {
    "execution": {
     "iopub.execute_input": "2025-07-23T14:38:31.026286Z",
     "iopub.status.busy": "2025-07-23T14:38:31.025389Z",
     "iopub.status.idle": "2025-07-23T14:38:31.035432Z",
     "shell.execute_reply": "2025-07-23T14:38:31.034311Z"
    },
    "papermill": {
     "duration": 0.033841,
     "end_time": "2025-07-23T14:38:31.037545",
     "exception": false,
     "start_time": "2025-07-23T14:38:31.003704",
     "status": "completed"
    },
    "tags": []
   },
   "outputs": [],
   "source": [
    "y_train = y_train[keep_mask]"
   ]
  },
  {
   "cell_type": "markdown",
   "id": "493e2ac3",
   "metadata": {
    "papermill": {
     "duration": 0.020599,
     "end_time": "2025-07-23T14:38:31.078671",
     "exception": false,
     "start_time": "2025-07-23T14:38:31.058072",
     "status": "completed"
    },
    "tags": []
   },
   "source": [
    "# Model Training"
   ]
  },
  {
   "cell_type": "code",
   "execution_count": 25,
   "id": "679e1268",
   "metadata": {
    "execution": {
     "iopub.execute_input": "2025-07-23T14:38:31.121664Z",
     "iopub.status.busy": "2025-07-23T14:38:31.120366Z",
     "iopub.status.idle": "2025-07-23T14:38:31.234203Z",
     "shell.execute_reply": "2025-07-23T14:38:31.233117Z"
    },
    "papermill": {
     "duration": 0.137916,
     "end_time": "2025-07-23T14:38:31.236607",
     "exception": false,
     "start_time": "2025-07-23T14:38:31.098691",
     "status": "completed"
    },
    "tags": []
   },
   "outputs": [],
   "source": [
    "from sklearn.linear_model import LogisticRegression\n",
    "from sklearn.ensemble import GradientBoostingClassifier, RandomForestClassifier\n",
    "\n",
    "if (universe[\"model\"] == \"logreg\"):\n",
    "    model = LogisticRegression() #penalty=\"none\") #, solver=\"newton-cg\", max_iter=1) # include random_state=19 ?\n",
    "elif (universe[\"model\"] == \"penalized_logreg\"):\n",
    "    model = LogisticRegression(penalty=\"l2\", C=1.0) #, solver=\"newton-cg\", max_iter=1)\n",
    "elif (universe[\"model\"] == \"rf\"):\n",
    "    model = RandomForestClassifier(n_estimators=100, n_jobs=-1)\n",
    "elif (universe[\"model\"] == \"gbm\"):\n",
    "    model = GradientBoostingClassifier()\n",
    "elif (universe[\"model\"] == \"elasticnet\"):\n",
    "    model = LogisticRegression(penalty = 'elasticnet', solver = 'saga', l1_ratio = 0.5, max_iter=5000) # which solver to use?\n",
    "else:\n",
    "    raise \"Unsupported universe.model\""
   ]
  },
  {
   "cell_type": "code",
   "execution_count": 26,
   "id": "0cc8f744",
   "metadata": {
    "execution": {
     "iopub.execute_input": "2025-07-23T14:38:31.278725Z",
     "iopub.status.busy": "2025-07-23T14:38:31.277960Z",
     "iopub.status.idle": "2025-07-23T14:38:31.284875Z",
     "shell.execute_reply": "2025-07-23T14:38:31.283825Z"
    },
    "papermill": {
     "duration": 0.029794,
     "end_time": "2025-07-23T14:38:31.286714",
     "exception": false,
     "start_time": "2025-07-23T14:38:31.256920",
     "status": "completed"
    },
    "tags": []
   },
   "outputs": [],
   "source": [
    "import numpy as np\n",
    "from sklearn.pipeline import Pipeline\n",
    "from sklearn.preprocessing import StandardScaler\n",
    "\n",
    "model = Pipeline([\n",
    "    #(\"continuous_processor\", continuous_processor),\n",
    "    #(\"categorical_preprocessor\", categorical_preprocessor),\n",
    "    (\"scale\", StandardScaler() if universe[\"scale\"] == \"scale\" else None), \n",
    "    (\"model\", model),\n",
    "])"
   ]
  },
  {
   "cell_type": "code",
   "execution_count": 27,
   "id": "9442c04d",
   "metadata": {
    "execution": {
     "iopub.execute_input": "2025-07-23T14:38:31.330735Z",
     "iopub.status.busy": "2025-07-23T14:38:31.329882Z",
     "iopub.status.idle": "2025-07-23T14:40:10.603021Z",
     "shell.execute_reply": "2025-07-23T14:40:10.601598Z"
    },
    "papermill": {
     "duration": 99.308942,
     "end_time": "2025-07-23T14:40:10.617474",
     "exception": false,
     "start_time": "2025-07-23T14:38:31.308532",
     "status": "completed"
    },
    "tags": []
   },
   "outputs": [
    {
     "data": {
      "text/html": [
       "<style>#sk-container-id-1 {color: black;background-color: white;}#sk-container-id-1 pre{padding: 0;}#sk-container-id-1 div.sk-toggleable {background-color: white;}#sk-container-id-1 label.sk-toggleable__label {cursor: pointer;display: block;width: 100%;margin-bottom: 0;padding: 0.3em;box-sizing: border-box;text-align: center;}#sk-container-id-1 label.sk-toggleable__label-arrow:before {content: \"▸\";float: left;margin-right: 0.25em;color: #696969;}#sk-container-id-1 label.sk-toggleable__label-arrow:hover:before {color: black;}#sk-container-id-1 div.sk-estimator:hover label.sk-toggleable__label-arrow:before {color: black;}#sk-container-id-1 div.sk-toggleable__content {max-height: 0;max-width: 0;overflow: hidden;text-align: left;background-color: #f0f8ff;}#sk-container-id-1 div.sk-toggleable__content pre {margin: 0.2em;color: black;border-radius: 0.25em;background-color: #f0f8ff;}#sk-container-id-1 input.sk-toggleable__control:checked~div.sk-toggleable__content {max-height: 200px;max-width: 100%;overflow: auto;}#sk-container-id-1 input.sk-toggleable__control:checked~label.sk-toggleable__label-arrow:before {content: \"▾\";}#sk-container-id-1 div.sk-estimator input.sk-toggleable__control:checked~label.sk-toggleable__label {background-color: #d4ebff;}#sk-container-id-1 div.sk-label input.sk-toggleable__control:checked~label.sk-toggleable__label {background-color: #d4ebff;}#sk-container-id-1 input.sk-hidden--visually {border: 0;clip: rect(1px 1px 1px 1px);clip: rect(1px, 1px, 1px, 1px);height: 1px;margin: -1px;overflow: hidden;padding: 0;position: absolute;width: 1px;}#sk-container-id-1 div.sk-estimator {font-family: monospace;background-color: #f0f8ff;border: 1px dotted black;border-radius: 0.25em;box-sizing: border-box;margin-bottom: 0.5em;}#sk-container-id-1 div.sk-estimator:hover {background-color: #d4ebff;}#sk-container-id-1 div.sk-parallel-item::after {content: \"\";width: 100%;border-bottom: 1px solid gray;flex-grow: 1;}#sk-container-id-1 div.sk-label:hover label.sk-toggleable__label {background-color: #d4ebff;}#sk-container-id-1 div.sk-serial::before {content: \"\";position: absolute;border-left: 1px solid gray;box-sizing: border-box;top: 0;bottom: 0;left: 50%;z-index: 0;}#sk-container-id-1 div.sk-serial {display: flex;flex-direction: column;align-items: center;background-color: white;padding-right: 0.2em;padding-left: 0.2em;position: relative;}#sk-container-id-1 div.sk-item {position: relative;z-index: 1;}#sk-container-id-1 div.sk-parallel {display: flex;align-items: stretch;justify-content: center;background-color: white;position: relative;}#sk-container-id-1 div.sk-item::before, #sk-container-id-1 div.sk-parallel-item::before {content: \"\";position: absolute;border-left: 1px solid gray;box-sizing: border-box;top: 0;bottom: 0;left: 50%;z-index: -1;}#sk-container-id-1 div.sk-parallel-item {display: flex;flex-direction: column;z-index: 1;position: relative;background-color: white;}#sk-container-id-1 div.sk-parallel-item:first-child::after {align-self: flex-end;width: 50%;}#sk-container-id-1 div.sk-parallel-item:last-child::after {align-self: flex-start;width: 50%;}#sk-container-id-1 div.sk-parallel-item:only-child::after {width: 0;}#sk-container-id-1 div.sk-dashed-wrapped {border: 1px dashed gray;margin: 0 0.4em 0.5em 0.4em;box-sizing: border-box;padding-bottom: 0.4em;background-color: white;}#sk-container-id-1 div.sk-label label {font-family: monospace;font-weight: bold;display: inline-block;line-height: 1.2em;}#sk-container-id-1 div.sk-label-container {text-align: center;}#sk-container-id-1 div.sk-container {/* jupyter's `normalize.less` sets `[hidden] { display: none; }` but bootstrap.min.css set `[hidden] { display: none !important; }` so we also need the `!important` here to be able to override the default hidden behavior on the sphinx rendered scikit-learn.org. See: https://github.com/scikit-learn/scikit-learn/issues/21755 */display: inline-block !important;position: relative;}#sk-container-id-1 div.sk-text-repr-fallback {display: none;}</style><div id=\"sk-container-id-1\" class=\"sk-top-container\"><div class=\"sk-text-repr-fallback\"><pre>Pipeline(steps=[(&#x27;scale&#x27;, None), (&#x27;model&#x27;, GradientBoostingClassifier())])</pre><b>In a Jupyter environment, please rerun this cell to show the HTML representation or trust the notebook. <br />On GitHub, the HTML representation is unable to render, please try loading this page with nbviewer.org.</b></div><div class=\"sk-container\" hidden><div class=\"sk-item sk-dashed-wrapped\"><div class=\"sk-label-container\"><div class=\"sk-label sk-toggleable\"><input class=\"sk-toggleable__control sk-hidden--visually\" id=\"sk-estimator-id-1\" type=\"checkbox\" ><label for=\"sk-estimator-id-1\" class=\"sk-toggleable__label sk-toggleable__label-arrow\">Pipeline</label><div class=\"sk-toggleable__content\"><pre>Pipeline(steps=[(&#x27;scale&#x27;, None), (&#x27;model&#x27;, GradientBoostingClassifier())])</pre></div></div></div><div class=\"sk-serial\"><div class=\"sk-item\"><div class=\"sk-estimator sk-toggleable\"><input class=\"sk-toggleable__control sk-hidden--visually\" id=\"sk-estimator-id-2\" type=\"checkbox\" ><label for=\"sk-estimator-id-2\" class=\"sk-toggleable__label sk-toggleable__label-arrow\">None</label><div class=\"sk-toggleable__content\"><pre>None</pre></div></div></div><div class=\"sk-item\"><div class=\"sk-estimator sk-toggleable\"><input class=\"sk-toggleable__control sk-hidden--visually\" id=\"sk-estimator-id-3\" type=\"checkbox\" ><label for=\"sk-estimator-id-3\" class=\"sk-toggleable__label sk-toggleable__label-arrow\">GradientBoostingClassifier</label><div class=\"sk-toggleable__content\"><pre>GradientBoostingClassifier()</pre></div></div></div></div></div></div></div>"
      ],
      "text/plain": [
       "Pipeline(steps=[('scale', None), ('model', GradientBoostingClassifier())])"
      ]
     },
     "execution_count": 27,
     "metadata": {},
     "output_type": "execute_result"
    }
   ],
   "source": [
    "model.fit(X_train, y_train.values.ravel())"
   ]
  },
  {
   "cell_type": "code",
   "execution_count": 28,
   "id": "af59f8c0",
   "metadata": {
    "execution": {
     "iopub.execute_input": "2025-07-23T14:40:10.658229Z",
     "iopub.status.busy": "2025-07-23T14:40:10.657725Z",
     "iopub.status.idle": "2025-07-23T14:40:10.664581Z",
     "shell.execute_reply": "2025-07-23T14:40:10.663539Z"
    },
    "papermill": {
     "duration": 0.028421,
     "end_time": "2025-07-23T14:40:10.666399",
     "exception": false,
     "start_time": "2025-07-23T14:40:10.637978",
     "status": "completed"
    },
    "tags": []
   },
   "outputs": [],
   "source": [
    "from fairness_multiverse.universe import predict_w_threshold"
   ]
  },
  {
   "cell_type": "code",
   "execution_count": 29,
   "id": "a7cf2e16",
   "metadata": {
    "execution": {
     "iopub.execute_input": "2025-07-23T14:40:10.711690Z",
     "iopub.status.busy": "2025-07-23T14:40:10.711141Z",
     "iopub.status.idle": "2025-07-23T14:40:11.438553Z",
     "shell.execute_reply": "2025-07-23T14:40:11.437482Z"
    },
    "papermill": {
     "duration": 0.751642,
     "end_time": "2025-07-23T14:40:11.440393",
     "exception": false,
     "start_time": "2025-07-23T14:40:10.688751",
     "status": "completed"
    },
    "tags": []
   },
   "outputs": [
    {
     "data": {
      "text/plain": [
       "0.8716308103890313"
      ]
     },
     "execution_count": 29,
     "metadata": {},
     "output_type": "execute_result"
    }
   ],
   "source": [
    "probs_test = model.predict_proba(X_test)\n",
    "\n",
    "'''\n",
    "Below code returns a boolean array (or binary 0/1 array depending on how it’s used) where each element \n",
    "is True if the probability of class 1 is greater than or equal to the threshold, and False otherwise.\n",
    "'''\n",
    "y_pred_default = predict_w_threshold(probs_test, 0.5)\n",
    "\n",
    "from sklearn.metrics import accuracy_score\n",
    "\n",
    "# Naive prediction\n",
    "accuracy_score(y_true = y_true, y_pred = y_pred_default)"
   ]
  },
  {
   "cell_type": "code",
   "execution_count": 30,
   "id": "081964c3",
   "metadata": {
    "execution": {
     "iopub.execute_input": "2025-07-23T14:40:11.483775Z",
     "iopub.status.busy": "2025-07-23T14:40:11.483274Z",
     "iopub.status.idle": "2025-07-23T14:40:12.198248Z",
     "shell.execute_reply": "2025-07-23T14:40:12.197180Z"
    },
    "papermill": {
     "duration": 0.736756,
     "end_time": "2025-07-23T14:40:12.200056",
     "exception": false,
     "start_time": "2025-07-23T14:40:11.463300",
     "status": "completed"
    },
    "tags": []
   },
   "outputs": [
    {
     "data": {
      "text/plain": [
       "array([0, 0, 0, ..., 0, 0, 0])"
      ]
     },
     "execution_count": 30,
     "metadata": {},
     "output_type": "execute_result"
    }
   ],
   "source": [
    "model.predict(X_test)"
   ]
  },
  {
   "cell_type": "markdown",
   "id": "56c9705b",
   "metadata": {
    "papermill": {
     "duration": 0.020185,
     "end_time": "2025-07-23T14:40:12.241080",
     "exception": false,
     "start_time": "2025-07-23T14:40:12.220895",
     "status": "completed"
    },
    "tags": []
   },
   "source": [
    "# Conformal Prediction"
   ]
  },
  {
   "cell_type": "code",
   "execution_count": 31,
   "id": "160ec6ff",
   "metadata": {
    "execution": {
     "iopub.execute_input": "2025-07-23T14:40:12.284158Z",
     "iopub.status.busy": "2025-07-23T14:40:12.283281Z",
     "iopub.status.idle": "2025-07-23T14:40:12.290536Z",
     "shell.execute_reply": "2025-07-23T14:40:12.289409Z"
    },
    "papermill": {
     "duration": 0.030984,
     "end_time": "2025-07-23T14:40:12.292499",
     "exception": false,
     "start_time": "2025-07-23T14:40:12.261515",
     "status": "completed"
    },
    "tags": []
   },
   "outputs": [],
   "source": [
    "# Miscoverage level for conformal prediction (10% allowed error rate => 90% target coverage)\n",
    "alpha = 0.1"
   ]
  },
  {
   "cell_type": "code",
   "execution_count": 32,
   "id": "eadf4555-3dd3-440e-8e35-f82a4ad9f855",
   "metadata": {
    "execution": {
     "iopub.execute_input": "2025-07-23T14:40:12.337141Z",
     "iopub.status.busy": "2025-07-23T14:40:12.336385Z",
     "iopub.status.idle": "2025-07-23T14:40:13.016217Z",
     "shell.execute_reply": "2025-07-23T14:40:13.015226Z"
    },
    "papermill": {
     "duration": 0.703748,
     "end_time": "2025-07-23T14:40:13.018274",
     "exception": false,
     "start_time": "2025-07-23T14:40:12.314526",
     "status": "completed"
    },
    "tags": []
   },
   "outputs": [],
   "source": [
    "probs_calib = model.predict_proba(X_calib)"
   ]
  },
  {
   "cell_type": "code",
   "execution_count": 33,
   "id": "2ed93547-6d5d-4983-9b36-1ecb300da49a",
   "metadata": {
    "execution": {
     "iopub.execute_input": "2025-07-23T14:40:13.062495Z",
     "iopub.status.busy": "2025-07-23T14:40:13.061571Z",
     "iopub.status.idle": "2025-07-23T14:40:13.067611Z",
     "shell.execute_reply": "2025-07-23T14:40:13.066605Z"
    },
    "papermill": {
     "duration": 0.030101,
     "end_time": "2025-07-23T14:40:13.069601",
     "exception": false,
     "start_time": "2025-07-23T14:40:13.039500",
     "status": "completed"
    },
    "tags": []
   },
   "outputs": [],
   "source": [
    "y_calib = y_calib.values.ravel().astype(int)"
   ]
  },
  {
   "cell_type": "code",
   "execution_count": 34,
   "id": "65d1320d-f588-4b38-9072-62af1ae97f7d",
   "metadata": {
    "execution": {
     "iopub.execute_input": "2025-07-23T14:40:13.114574Z",
     "iopub.status.busy": "2025-07-23T14:40:13.113864Z",
     "iopub.status.idle": "2025-07-23T14:40:13.121979Z",
     "shell.execute_reply": "2025-07-23T14:40:13.121060Z"
    },
    "papermill": {
     "duration": 0.032196,
     "end_time": "2025-07-23T14:40:13.123676",
     "exception": false,
     "start_time": "2025-07-23T14:40:13.091480",
     "status": "completed"
    },
    "tags": []
   },
   "outputs": [],
   "source": [
    "from fairness_multiverse.conformal import compute_nc_scores\n",
    "\n",
    "# Compute nonconformity scores on calibration set (1 - probability of true class)\n",
    "nc_scores = compute_nc_scores(probs_calib, y_calib)"
   ]
  },
  {
   "cell_type": "code",
   "execution_count": 35,
   "id": "df3b8ca3-53b7-43d5-9667-7c85da7aeda2",
   "metadata": {
    "execution": {
     "iopub.execute_input": "2025-07-23T14:40:13.167683Z",
     "iopub.status.busy": "2025-07-23T14:40:13.166609Z",
     "iopub.status.idle": "2025-07-23T14:40:13.174314Z",
     "shell.execute_reply": "2025-07-23T14:40:13.173364Z"
    },
    "papermill": {
     "duration": 0.031551,
     "end_time": "2025-07-23T14:40:13.176211",
     "exception": false,
     "start_time": "2025-07-23T14:40:13.144660",
     "status": "completed"
    },
    "tags": []
   },
   "outputs": [],
   "source": [
    "from fairness_multiverse.conformal import find_threshold\n",
    "\n",
    "# Find conformal threshold q_hat for the given alpha (split conformal method)\n",
    "q_hat = find_threshold(nc_scores, alpha)"
   ]
  },
  {
   "cell_type": "code",
   "execution_count": 36,
   "id": "4d29e6c1-0ef6-4aa4-b8fe-4fe79b0d033a",
   "metadata": {
    "execution": {
     "iopub.execute_input": "2025-07-23T14:40:13.218980Z",
     "iopub.status.busy": "2025-07-23T14:40:13.218473Z",
     "iopub.status.idle": "2025-07-23T14:40:13.226581Z",
     "shell.execute_reply": "2025-07-23T14:40:13.225657Z"
    },
    "papermill": {
     "duration": 0.030234,
     "end_time": "2025-07-23T14:40:13.228383",
     "exception": false,
     "start_time": "2025-07-23T14:40:13.198149",
     "status": "completed"
    },
    "tags": []
   },
   "outputs": [
    {
     "data": {
      "text/plain": [
       "0.6614847267130588"
      ]
     },
     "execution_count": 36,
     "metadata": {},
     "output_type": "execute_result"
    }
   ],
   "source": [
    "q_hat"
   ]
  },
  {
   "cell_type": "code",
   "execution_count": 37,
   "id": "92460794-cdac-4be2-ba28-f28c0515a6fb",
   "metadata": {
    "execution": {
     "iopub.execute_input": "2025-07-23T14:40:13.277295Z",
     "iopub.status.busy": "2025-07-23T14:40:13.276326Z",
     "iopub.status.idle": "2025-07-23T14:40:14.707708Z",
     "shell.execute_reply": "2025-07-23T14:40:14.706748Z"
    },
    "papermill": {
     "duration": 1.458998,
     "end_time": "2025-07-23T14:40:14.709732",
     "exception": false,
     "start_time": "2025-07-23T14:40:13.250734",
     "status": "completed"
    },
    "tags": []
   },
   "outputs": [],
   "source": [
    "from fairness_multiverse.conformal import predict_conformal_sets\n",
    "\n",
    "# Generate prediction sets for each test example\n",
    "pred_sets = predict_conformal_sets(model, X_test, q_hat)"
   ]
  },
  {
   "cell_type": "code",
   "execution_count": 38,
   "id": "d90c9a65-e6db-4f5d-80cd-e68fb7e46829",
   "metadata": {
    "execution": {
     "iopub.execute_input": "2025-07-23T14:40:14.753405Z",
     "iopub.status.busy": "2025-07-23T14:40:14.752377Z",
     "iopub.status.idle": "2025-07-23T14:40:14.758513Z",
     "shell.execute_reply": "2025-07-23T14:40:14.757408Z"
    },
    "papermill": {
     "duration": 0.029014,
     "end_time": "2025-07-23T14:40:14.760336",
     "exception": false,
     "start_time": "2025-07-23T14:40:14.731322",
     "status": "completed"
    },
    "tags": []
   },
   "outputs": [],
   "source": [
    "y_true = y_true.squeeze()"
   ]
  },
  {
   "cell_type": "code",
   "execution_count": 39,
   "id": "3a58a54a-1e68-46b9-927a-df01f18aebc8",
   "metadata": {
    "execution": {
     "iopub.execute_input": "2025-07-23T14:40:14.802114Z",
     "iopub.status.busy": "2025-07-23T14:40:14.801398Z",
     "iopub.status.idle": "2025-07-23T14:40:15.826457Z",
     "shell.execute_reply": "2025-07-23T14:40:15.825476Z"
    },
    "papermill": {
     "duration": 1.047835,
     "end_time": "2025-07-23T14:40:15.828405",
     "exception": false,
     "start_time": "2025-07-23T14:40:14.780570",
     "status": "completed"
    },
    "tags": []
   },
   "outputs": [],
   "source": [
    "from fairness_multiverse.conformal import evaluate_sets\n",
    "\n",
    "# Evaluate coverage and average set size on test data\n",
    "metrics = evaluate_sets(pred_sets, y_true)"
   ]
  },
  {
   "cell_type": "code",
   "execution_count": 40,
   "id": "5ce0a5cb-201f-45a0-ade5-94c7f0bd6095",
   "metadata": {
    "execution": {
     "iopub.execute_input": "2025-07-23T14:40:15.870997Z",
     "iopub.status.busy": "2025-07-23T14:40:15.870213Z",
     "iopub.status.idle": "2025-07-23T14:40:15.878312Z",
     "shell.execute_reply": "2025-07-23T14:40:15.877260Z"
    },
    "papermill": {
     "duration": 0.031287,
     "end_time": "2025-07-23T14:40:15.880030",
     "exception": false,
     "start_time": "2025-07-23T14:40:15.848743",
     "status": "completed"
    },
    "tags": []
   },
   "outputs": [
    {
     "data": {
      "text/plain": [
       "{'coverage': 0.9113476758443875, 'avg_size': 1.1091405640396834}"
      ]
     },
     "execution_count": 40,
     "metadata": {},
     "output_type": "execute_result"
    }
   ],
   "source": [
    "metrics"
   ]
  },
  {
   "cell_type": "code",
   "execution_count": 41,
   "id": "9b9a838d-31c9-430b-ae14-12baee460d17",
   "metadata": {
    "execution": {
     "iopub.execute_input": "2025-07-23T14:40:15.923088Z",
     "iopub.status.busy": "2025-07-23T14:40:15.922364Z",
     "iopub.status.idle": "2025-07-23T14:40:15.929292Z",
     "shell.execute_reply": "2025-07-23T14:40:15.927998Z"
    },
    "papermill": {
     "duration": 0.030417,
     "end_time": "2025-07-23T14:40:15.931251",
     "exception": false,
     "start_time": "2025-07-23T14:40:15.900834",
     "status": "completed"
    },
    "tags": []
   },
   "outputs": [],
   "source": [
    "example_universe = universe.copy()\n",
    "universe_model = example_universe.get(\"model\")\n",
    "universe_exclude_features = example_universe.get(\"exclude_features\")\n",
    "universe_exclude_subgroups = example_universe.get(\"exclude_subgroups\")\n",
    "universe_scale = example_universe.get(\"scale\")"
   ]
  },
  {
   "cell_type": "code",
   "execution_count": 42,
   "id": "f4b6a8ac-9dc0-4245-8a91-5b3b5999c4f9",
   "metadata": {
    "execution": {
     "iopub.execute_input": "2025-07-23T14:40:15.974716Z",
     "iopub.status.busy": "2025-07-23T14:40:15.973794Z",
     "iopub.status.idle": "2025-07-23T14:40:15.981056Z",
     "shell.execute_reply": "2025-07-23T14:40:15.979921Z"
    },
    "papermill": {
     "duration": 0.031046,
     "end_time": "2025-07-23T14:40:15.982969",
     "exception": false,
     "start_time": "2025-07-23T14:40:15.951923",
     "status": "completed"
    },
    "tags": []
   },
   "outputs": [],
   "source": [
    "cp_metrics_dict = {\n",
    "    \"universe_id\": [universe_id],\n",
    "    \"universe_model\": [universe_model],\n",
    "    \"universe_exclude_features\": [universe_exclude_features],\n",
    "    \"universe_exclude_subgroups\": [universe_exclude_subgroups],\n",
    "    \"universe_scale\": [universe_scale],\n",
    "    \"q_hat\": [q_hat],\n",
    "    \"coverage\": [metrics[\"coverage\"]],\n",
    "    \"avg_size\": [metrics[\"avg_size\"]],\n",
    "}"
   ]
  },
  {
   "cell_type": "code",
   "execution_count": 43,
   "id": "908acbb1-0371-4915-85ca-3fa520d2efe2",
   "metadata": {
    "execution": {
     "iopub.execute_input": "2025-07-23T14:40:16.025801Z",
     "iopub.status.busy": "2025-07-23T14:40:16.025090Z",
     "iopub.status.idle": "2025-07-23T14:40:16.033044Z",
     "shell.execute_reply": "2025-07-23T14:40:16.031966Z"
    },
    "papermill": {
     "duration": 0.030918,
     "end_time": "2025-07-23T14:40:16.034790",
     "exception": false,
     "start_time": "2025-07-23T14:40:16.003872",
     "status": "completed"
    },
    "tags": []
   },
   "outputs": [
    {
     "data": {
      "text/plain": [
       "{'universe_id': ['c5cd2855fa6a148e3f7f3878916b499e'],\n",
       " 'universe_model': ['gbm'],\n",
       " 'universe_exclude_features': ['nationality-sex'],\n",
       " 'universe_exclude_subgroups': ['keep-all'],\n",
       " 'universe_scale': ['do-not-scale'],\n",
       " 'q_hat': [0.6614847267130588],\n",
       " 'coverage': [0.9113476758443875],\n",
       " 'avg_size': [1.1091405640396834]}"
      ]
     },
     "execution_count": 43,
     "metadata": {},
     "output_type": "execute_result"
    }
   ],
   "source": [
    "cp_metrics_dict"
   ]
  },
  {
   "cell_type": "code",
   "execution_count": 44,
   "id": "33007efc-14e9-4ec6-97ac-56a455c82265",
   "metadata": {
    "execution": {
     "iopub.execute_input": "2025-07-23T14:40:16.080076Z",
     "iopub.status.busy": "2025-07-23T14:40:16.079172Z",
     "iopub.status.idle": "2025-07-23T14:40:16.087217Z",
     "shell.execute_reply": "2025-07-23T14:40:16.085860Z"
    },
    "papermill": {
     "duration": 0.032619,
     "end_time": "2025-07-23T14:40:16.089291",
     "exception": false,
     "start_time": "2025-07-23T14:40:16.056672",
     "status": "completed"
    },
    "tags": []
   },
   "outputs": [],
   "source": [
    "cp_metrics_df = pd.DataFrame(cp_metrics_dict)"
   ]
  },
  {
   "cell_type": "code",
   "execution_count": 45,
   "id": "db12611b-57b2-4910-b9d0-355adfd6e7bf",
   "metadata": {
    "execution": {
     "iopub.execute_input": "2025-07-23T14:40:16.133329Z",
     "iopub.status.busy": "2025-07-23T14:40:16.132808Z",
     "iopub.status.idle": "2025-07-23T14:40:16.151739Z",
     "shell.execute_reply": "2025-07-23T14:40:16.150563Z"
    },
    "papermill": {
     "duration": 0.042593,
     "end_time": "2025-07-23T14:40:16.153677",
     "exception": false,
     "start_time": "2025-07-23T14:40:16.111084",
     "status": "completed"
    },
    "tags": []
   },
   "outputs": [
    {
     "data": {
      "text/html": [
       "<div>\n",
       "<style scoped>\n",
       "    .dataframe tbody tr th:only-of-type {\n",
       "        vertical-align: middle;\n",
       "    }\n",
       "\n",
       "    .dataframe tbody tr th {\n",
       "        vertical-align: top;\n",
       "    }\n",
       "\n",
       "    .dataframe thead th {\n",
       "        text-align: right;\n",
       "    }\n",
       "</style>\n",
       "<table border=\"1\" class=\"dataframe\">\n",
       "  <thead>\n",
       "    <tr style=\"text-align: right;\">\n",
       "      <th></th>\n",
       "      <th>universe_id</th>\n",
       "      <th>universe_model</th>\n",
       "      <th>universe_exclude_features</th>\n",
       "      <th>universe_exclude_subgroups</th>\n",
       "      <th>universe_scale</th>\n",
       "      <th>q_hat</th>\n",
       "      <th>coverage</th>\n",
       "      <th>avg_size</th>\n",
       "    </tr>\n",
       "  </thead>\n",
       "  <tbody>\n",
       "    <tr>\n",
       "      <th>0</th>\n",
       "      <td>c5cd2855fa6a148e3f7f3878916b499e</td>\n",
       "      <td>gbm</td>\n",
       "      <td>nationality-sex</td>\n",
       "      <td>keep-all</td>\n",
       "      <td>do-not-scale</td>\n",
       "      <td>0.661485</td>\n",
       "      <td>0.911348</td>\n",
       "      <td>1.109141</td>\n",
       "    </tr>\n",
       "  </tbody>\n",
       "</table>\n",
       "</div>"
      ],
      "text/plain": [
       "                        universe_id universe_model universe_exclude_features  \\\n",
       "0  c5cd2855fa6a148e3f7f3878916b499e            gbm           nationality-sex   \n",
       "\n",
       "  universe_exclude_subgroups universe_scale     q_hat  coverage  avg_size  \n",
       "0                   keep-all   do-not-scale  0.661485  0.911348  1.109141  "
      ]
     },
     "execution_count": 45,
     "metadata": {},
     "output_type": "execute_result"
    }
   ],
   "source": [
    "cp_metrics_df"
   ]
  },
  {
   "cell_type": "code",
   "execution_count": 46,
   "id": "b7fbde55-a0a1-47e4-9af6-fe4a17fa8c61",
   "metadata": {
    "execution": {
     "iopub.execute_input": "2025-07-23T14:40:16.197164Z",
     "iopub.status.busy": "2025-07-23T14:40:16.196667Z",
     "iopub.status.idle": "2025-07-23T14:40:16.202198Z",
     "shell.execute_reply": "2025-07-23T14:40:16.200966Z"
    },
    "papermill": {
     "duration": 0.029082,
     "end_time": "2025-07-23T14:40:16.203983",
     "exception": false,
     "start_time": "2025-07-23T14:40:16.174901",
     "status": "completed"
    },
    "tags": []
   },
   "outputs": [],
   "source": [
    "# Conditional Coverage & looking at subgroups"
   ]
  },
  {
   "cell_type": "code",
   "execution_count": 47,
   "id": "027ae886-68dd-4141-96c7-805a5450e1ef",
   "metadata": {
    "execution": {
     "iopub.execute_input": "2025-07-23T14:40:16.249732Z",
     "iopub.status.busy": "2025-07-23T14:40:16.249176Z",
     "iopub.status.idle": "2025-07-23T14:40:16.541257Z",
     "shell.execute_reply": "2025-07-23T14:40:16.540220Z"
    },
    "papermill": {
     "duration": 0.317108,
     "end_time": "2025-07-23T14:40:16.543185",
     "exception": false,
     "start_time": "2025-07-23T14:40:16.226077",
     "status": "completed"
    },
    "tags": []
   },
   "outputs": [],
   "source": [
    "from fairness_multiverse.conformal import build_cp_groups\n",
    "\n",
    "cp_groups_df = build_cp_groups(pred_sets, y_true, X_test.index, org_test)\n",
    "#needs universe_id and setting"
   ]
  },
  {
   "cell_type": "code",
   "execution_count": 48,
   "id": "c3b92545-903e-4839-89af-0f057907d7d6",
   "metadata": {
    "execution": {
     "iopub.execute_input": "2025-07-23T14:40:16.589192Z",
     "iopub.status.busy": "2025-07-23T14:40:16.588666Z",
     "iopub.status.idle": "2025-07-23T14:40:18.370257Z",
     "shell.execute_reply": "2025-07-23T14:40:18.369241Z"
    },
    "papermill": {
     "duration": 1.807756,
     "end_time": "2025-07-23T14:40:18.372363",
     "exception": false,
     "start_time": "2025-07-23T14:40:16.564607",
     "status": "completed"
    },
    "tags": []
   },
   "outputs": [],
   "source": [
    "# Define covered = 1 if true_label is in the predicted set\n",
    "cp_groups_df['covered'] = cp_groups_df.apply(\n",
    "    lambda r: int(r['true_label'] in r['pred_set']),\n",
    "    axis=1\n",
    ")"
   ]
  },
  {
   "cell_type": "code",
   "execution_count": 49,
   "id": "338ff529-1a6b-4b87-a931-8e4788d52aad",
   "metadata": {
    "execution": {
     "iopub.execute_input": "2025-07-23T14:40:18.420711Z",
     "iopub.status.busy": "2025-07-23T14:40:18.419911Z",
     "iopub.status.idle": "2025-07-23T14:40:18.425355Z",
     "shell.execute_reply": "2025-07-23T14:40:18.424369Z"
    },
    "papermill": {
     "duration": 0.031496,
     "end_time": "2025-07-23T14:40:18.427179",
     "exception": false,
     "start_time": "2025-07-23T14:40:18.395683",
     "status": "completed"
    },
    "tags": []
   },
   "outputs": [],
   "source": [
    "#cp_groups_df"
   ]
  },
  {
   "cell_type": "code",
   "execution_count": 50,
   "id": "90032e27-66df-4540-9169-4e89cfbaa758",
   "metadata": {
    "execution": {
     "iopub.execute_input": "2025-07-23T14:40:18.472520Z",
     "iopub.status.busy": "2025-07-23T14:40:18.471791Z",
     "iopub.status.idle": "2025-07-23T14:40:18.484926Z",
     "shell.execute_reply": "2025-07-23T14:40:18.483854Z"
    },
    "papermill": {
     "duration": 0.037696,
     "end_time": "2025-07-23T14:40:18.486814",
     "exception": false,
     "start_time": "2025-07-23T14:40:18.449118",
     "status": "completed"
    },
    "tags": []
   },
   "outputs": [],
   "source": [
    "subgroups = ['frau1','nongerman','nongerman_male','nongerman_female']\n",
    "\n",
    "# Conditional coverage for subgroup==1\n",
    "cond_coverage = {\n",
    "    g: cp_groups_df.loc[cp_groups_df[g]==1, 'covered'].mean()\n",
    "    for g in subgroups\n",
    "}"
   ]
  },
  {
   "cell_type": "code",
   "execution_count": 51,
   "id": "1e348fb1-b9c3-45bc-ba23-f016827a7e0d",
   "metadata": {
    "execution": {
     "iopub.execute_input": "2025-07-23T14:40:18.533423Z",
     "iopub.status.busy": "2025-07-23T14:40:18.532519Z",
     "iopub.status.idle": "2025-07-23T14:40:18.540398Z",
     "shell.execute_reply": "2025-07-23T14:40:18.539280Z"
    },
    "papermill": {
     "duration": 0.032165,
     "end_time": "2025-07-23T14:40:18.542224",
     "exception": false,
     "start_time": "2025-07-23T14:40:18.510059",
     "status": "completed"
    },
    "tags": []
   },
   "outputs": [
    {
     "data": {
      "text/plain": [
       "{'frau1': 0.9129801860088961,\n",
       " 'nongerman': 0.9093920170661877,\n",
       " 'nongerman_male': 0.9253354949112852,\n",
       " 'nongerman_female': 0.88301043219076}"
      ]
     },
     "execution_count": 51,
     "metadata": {},
     "output_type": "execute_result"
    }
   ],
   "source": [
    "cond_coverage"
   ]
  },
  {
   "cell_type": "code",
   "execution_count": 52,
   "id": "f5093324-c3dd-4d63-bc4c-8d945e5c8bbb",
   "metadata": {
    "execution": {
     "iopub.execute_input": "2025-07-23T14:40:18.591470Z",
     "iopub.status.busy": "2025-07-23T14:40:18.590747Z",
     "iopub.status.idle": "2025-07-23T14:40:18.599073Z",
     "shell.execute_reply": "2025-07-23T14:40:18.597938Z"
    },
    "papermill": {
     "duration": 0.034416,
     "end_time": "2025-07-23T14:40:18.600847",
     "exception": false,
     "start_time": "2025-07-23T14:40:18.566431",
     "status": "completed"
    },
    "tags": []
   },
   "outputs": [],
   "source": [
    "for subgroup, cov in cond_coverage.items():\n",
    "    cp_metrics_df[f\"cov_{subgroup}\"] = cov"
   ]
  },
  {
   "cell_type": "code",
   "execution_count": 53,
   "id": "6e872e10-dbe5-49e8-b554-5030c98ff75d",
   "metadata": {
    "execution": {
     "iopub.execute_input": "2025-07-23T14:40:18.649866Z",
     "iopub.status.busy": "2025-07-23T14:40:18.649155Z",
     "iopub.status.idle": "2025-07-23T14:40:18.667912Z",
     "shell.execute_reply": "2025-07-23T14:40:18.666775Z"
    },
    "papermill": {
     "duration": 0.045002,
     "end_time": "2025-07-23T14:40:18.669844",
     "exception": false,
     "start_time": "2025-07-23T14:40:18.624842",
     "status": "completed"
    },
    "tags": []
   },
   "outputs": [
    {
     "data": {
      "text/html": [
       "<div>\n",
       "<style scoped>\n",
       "    .dataframe tbody tr th:only-of-type {\n",
       "        vertical-align: middle;\n",
       "    }\n",
       "\n",
       "    .dataframe tbody tr th {\n",
       "        vertical-align: top;\n",
       "    }\n",
       "\n",
       "    .dataframe thead th {\n",
       "        text-align: right;\n",
       "    }\n",
       "</style>\n",
       "<table border=\"1\" class=\"dataframe\">\n",
       "  <thead>\n",
       "    <tr style=\"text-align: right;\">\n",
       "      <th></th>\n",
       "      <th>universe_id</th>\n",
       "      <th>universe_model</th>\n",
       "      <th>universe_exclude_features</th>\n",
       "      <th>universe_exclude_subgroups</th>\n",
       "      <th>universe_scale</th>\n",
       "      <th>q_hat</th>\n",
       "      <th>coverage</th>\n",
       "      <th>avg_size</th>\n",
       "      <th>cov_frau1</th>\n",
       "      <th>cov_nongerman</th>\n",
       "      <th>cov_nongerman_male</th>\n",
       "      <th>cov_nongerman_female</th>\n",
       "    </tr>\n",
       "  </thead>\n",
       "  <tbody>\n",
       "    <tr>\n",
       "      <th>0</th>\n",
       "      <td>c5cd2855fa6a148e3f7f3878916b499e</td>\n",
       "      <td>gbm</td>\n",
       "      <td>nationality-sex</td>\n",
       "      <td>keep-all</td>\n",
       "      <td>do-not-scale</td>\n",
       "      <td>0.661485</td>\n",
       "      <td>0.911348</td>\n",
       "      <td>1.109141</td>\n",
       "      <td>0.91298</td>\n",
       "      <td>0.909392</td>\n",
       "      <td>0.925335</td>\n",
       "      <td>0.88301</td>\n",
       "    </tr>\n",
       "  </tbody>\n",
       "</table>\n",
       "</div>"
      ],
      "text/plain": [
       "                        universe_id universe_model universe_exclude_features  \\\n",
       "0  c5cd2855fa6a148e3f7f3878916b499e            gbm           nationality-sex   \n",
       "\n",
       "  universe_exclude_subgroups universe_scale     q_hat  coverage  avg_size  \\\n",
       "0                   keep-all   do-not-scale  0.661485  0.911348  1.109141   \n",
       "\n",
       "   cov_frau1  cov_nongerman  cov_nongerman_male  cov_nongerman_female  \n",
       "0    0.91298       0.909392            0.925335               0.88301  "
      ]
     },
     "execution_count": 53,
     "metadata": {},
     "output_type": "execute_result"
    }
   ],
   "source": [
    "cp_metrics_df"
   ]
  },
  {
   "cell_type": "markdown",
   "id": "33774451",
   "metadata": {
    "papermill": {
     "duration": 0.023302,
     "end_time": "2025-07-23T14:40:18.715832",
     "exception": false,
     "start_time": "2025-07-23T14:40:18.692530",
     "status": "completed"
    },
    "tags": []
   },
   "source": [
    "# (Fairness) Metrics"
   ]
  },
  {
   "cell_type": "code",
   "execution_count": 54,
   "id": "debc5d62",
   "metadata": {
    "execution": {
     "iopub.execute_input": "2025-07-23T14:40:18.764131Z",
     "iopub.status.busy": "2025-07-23T14:40:18.763610Z",
     "iopub.status.idle": "2025-07-23T14:40:18.788666Z",
     "shell.execute_reply": "2025-07-23T14:40:18.787673Z"
    },
    "papermill": {
     "duration": 0.052736,
     "end_time": "2025-07-23T14:40:18.790609",
     "exception": false,
     "start_time": "2025-07-23T14:40:18.737873",
     "status": "completed"
    },
    "tags": []
   },
   "outputs": [],
   "source": [
    "# do I need to include maxdeutsch1.missing?\n",
    "\n",
    "import numpy as np\n",
    "\n",
    "colname_to_bin = \"maxdeutsch1\"\n",
    "majority_value = org_train[colname_to_bin].mode()[0]\n",
    "\n",
    "org_test[\"majmin\"] = np.where(org_test[colname_to_bin] == majority_value, \"majority\", \"minority\")"
   ]
  },
  {
   "cell_type": "code",
   "execution_count": 55,
   "id": "06a50de5",
   "metadata": {
    "execution": {
     "iopub.execute_input": "2025-07-23T14:40:18.840336Z",
     "iopub.status.busy": "2025-07-23T14:40:18.839602Z",
     "iopub.status.idle": "2025-07-23T14:40:22.015977Z",
     "shell.execute_reply": "2025-07-23T14:40:22.014978Z"
    },
    "papermill": {
     "duration": 3.203382,
     "end_time": "2025-07-23T14:40:22.018214",
     "exception": false,
     "start_time": "2025-07-23T14:40:18.814832",
     "status": "completed"
    },
    "tags": []
   },
   "outputs": [],
   "source": [
    "example_universe = universe.copy()\n",
    "example_universe[\"cutoff\"] = example_universe[\"cutoff\"][0]\n",
    "example_universe[\"eval_fairness_grouping\"] = example_universe[\"eval_fairness_grouping\"][0]\n",
    "fairness_dict, metric_frame = universe_analysis.compute_metrics(\n",
    "    example_universe,\n",
    "    y_pred_prob=probs_test,\n",
    "    y_test=y_true,\n",
    "    org_test=org_test,\n",
    ")"
   ]
  },
  {
   "cell_type": "markdown",
   "id": "f95d4e02",
   "metadata": {
    "papermill": {
     "duration": 0.024147,
     "end_time": "2025-07-23T14:40:22.069073",
     "exception": false,
     "start_time": "2025-07-23T14:40:22.044926",
     "status": "completed"
    },
    "tags": []
   },
   "source": [
    "# Overall"
   ]
  },
  {
   "cell_type": "markdown",
   "id": "bdee4871",
   "metadata": {
    "papermill": {
     "duration": 0.023405,
     "end_time": "2025-07-23T14:40:22.116513",
     "exception": false,
     "start_time": "2025-07-23T14:40:22.093108",
     "status": "completed"
    },
    "tags": []
   },
   "source": [
    "Fairness\n",
    "Main fairness target: Equalized Odds. Seems to be a better fit than equal opportunity, since we're not only interested in Y = 1. Seems to be a better fit than demographic parity, since we also care about accuracy, not just equal distribution of preds.\n",
    "\n",
    "Pick column for computation of fairness metrics\n",
    "\n",
    "Performance\n",
    "Overall performance measures, most interesting in relation to the measures split by group below"
   ]
  },
  {
   "cell_type": "code",
   "execution_count": 56,
   "id": "c4e067c6",
   "metadata": {
    "execution": {
     "iopub.execute_input": "2025-07-23T14:40:22.167336Z",
     "iopub.status.busy": "2025-07-23T14:40:22.166219Z",
     "iopub.status.idle": "2025-07-23T14:40:22.175830Z",
     "shell.execute_reply": "2025-07-23T14:40:22.174699Z"
    },
    "papermill": {
     "duration": 0.038244,
     "end_time": "2025-07-23T14:40:22.179359",
     "exception": false,
     "start_time": "2025-07-23T14:40:22.141115",
     "status": "completed"
    },
    "tags": []
   },
   "outputs": [
    {
     "data": {
      "text/plain": [
       "accuracy                   0.225560\n",
       "balanced accuracy          0.551277\n",
       "f1                         0.246859\n",
       "precision                  0.141022\n",
       "false positive rate        0.886844\n",
       "false negative rate        0.010601\n",
       "selection rate             0.900000\n",
       "count                  89710.000000\n",
       "dtype: float64"
      ]
     },
     "execution_count": 56,
     "metadata": {},
     "output_type": "execute_result"
    }
   ],
   "source": [
    "metric_frame.overall"
   ]
  },
  {
   "cell_type": "markdown",
   "id": "e968fe9d",
   "metadata": {
    "papermill": {
     "duration": 0.024528,
     "end_time": "2025-07-23T14:40:22.229285",
     "exception": false,
     "start_time": "2025-07-23T14:40:22.204757",
     "status": "completed"
    },
    "tags": []
   },
   "source": [
    "By Group"
   ]
  },
  {
   "cell_type": "code",
   "execution_count": 57,
   "id": "ec325bce",
   "metadata": {
    "execution": {
     "iopub.execute_input": "2025-07-23T14:40:22.278598Z",
     "iopub.status.busy": "2025-07-23T14:40:22.278030Z",
     "iopub.status.idle": "2025-07-23T14:40:22.297479Z",
     "shell.execute_reply": "2025-07-23T14:40:22.296318Z"
    },
    "papermill": {
     "duration": 0.046382,
     "end_time": "2025-07-23T14:40:22.299499",
     "exception": false,
     "start_time": "2025-07-23T14:40:22.253117",
     "status": "completed"
    },
    "tags": []
   },
   "outputs": [
    {
     "data": {
      "text/html": [
       "<div>\n",
       "<style scoped>\n",
       "    .dataframe tbody tr th:only-of-type {\n",
       "        vertical-align: middle;\n",
       "    }\n",
       "\n",
       "    .dataframe tbody tr th {\n",
       "        vertical-align: top;\n",
       "    }\n",
       "\n",
       "    .dataframe thead th {\n",
       "        text-align: right;\n",
       "    }\n",
       "</style>\n",
       "<table border=\"1\" class=\"dataframe\">\n",
       "  <thead>\n",
       "    <tr style=\"text-align: right;\">\n",
       "      <th></th>\n",
       "      <th>accuracy</th>\n",
       "      <th>balanced accuracy</th>\n",
       "      <th>f1</th>\n",
       "      <th>precision</th>\n",
       "      <th>false positive rate</th>\n",
       "      <th>false negative rate</th>\n",
       "      <th>selection rate</th>\n",
       "      <th>count</th>\n",
       "    </tr>\n",
       "    <tr>\n",
       "      <th>majmin</th>\n",
       "      <th></th>\n",
       "      <th></th>\n",
       "      <th></th>\n",
       "      <th></th>\n",
       "      <th></th>\n",
       "      <th></th>\n",
       "      <th></th>\n",
       "      <th></th>\n",
       "    </tr>\n",
       "  </thead>\n",
       "  <tbody>\n",
       "    <tr>\n",
       "      <th>majority</th>\n",
       "      <td>0.244759</td>\n",
       "      <td>0.560061</td>\n",
       "      <td>0.257026</td>\n",
       "      <td>0.147715</td>\n",
       "      <td>0.868499</td>\n",
       "      <td>0.011379</td>\n",
       "      <td>0.884372</td>\n",
       "      <td>69170.0</td>\n",
       "    </tr>\n",
       "    <tr>\n",
       "      <th>minority</th>\n",
       "      <td>0.160906</td>\n",
       "      <td>0.522476</td>\n",
       "      <td>0.214269</td>\n",
       "      <td>0.120100</td>\n",
       "      <td>0.947447</td>\n",
       "      <td>0.007601</td>\n",
       "      <td>0.952629</td>\n",
       "      <td>20540.0</td>\n",
       "    </tr>\n",
       "  </tbody>\n",
       "</table>\n",
       "</div>"
      ],
      "text/plain": [
       "          accuracy  balanced accuracy        f1  precision  \\\n",
       "majmin                                                       \n",
       "majority  0.244759           0.560061  0.257026   0.147715   \n",
       "minority  0.160906           0.522476  0.214269   0.120100   \n",
       "\n",
       "          false positive rate  false negative rate  selection rate    count  \n",
       "majmin                                                                       \n",
       "majority             0.868499             0.011379        0.884372  69170.0  \n",
       "minority             0.947447             0.007601        0.952629  20540.0  "
      ]
     },
     "execution_count": 57,
     "metadata": {},
     "output_type": "execute_result"
    }
   ],
   "source": [
    "metric_frame.by_group"
   ]
  },
  {
   "cell_type": "code",
   "execution_count": 58,
   "id": "a9ddbe63",
   "metadata": {
    "execution": {
     "iopub.execute_input": "2025-07-23T14:40:22.352820Z",
     "iopub.status.busy": "2025-07-23T14:40:22.352019Z",
     "iopub.status.idle": "2025-07-23T14:40:25.116571Z",
     "shell.execute_reply": "2025-07-23T14:40:25.115473Z"
    },
    "papermill": {
     "duration": 2.792089,
     "end_time": "2025-07-23T14:40:25.118400",
     "exception": false,
     "start_time": "2025-07-23T14:40:22.326311",
     "status": "completed"
    },
    "tags": []
   },
   "outputs": [
    {
     "data": {
      "text/plain": [
       "array([[<Axes: title={'center': 'accuracy'}, xlabel='majmin'>,\n",
       "        <Axes: title={'center': 'balanced accuracy'}, xlabel='majmin'>,\n",
       "        <Axes: title={'center': 'f1'}, xlabel='majmin'>],\n",
       "       [<Axes: title={'center': 'precision'}, xlabel='majmin'>,\n",
       "        <Axes: title={'center': 'false positive rate'}, xlabel='majmin'>,\n",
       "        <Axes: title={'center': 'false negative rate'}, xlabel='majmin'>],\n",
       "       [<Axes: title={'center': 'selection rate'}, xlabel='majmin'>,\n",
       "        <Axes: title={'center': 'count'}, xlabel='majmin'>,\n",
       "        <Axes: xlabel='majmin'>]], dtype=object)"
      ]
     },
     "execution_count": 58,
     "metadata": {},
     "output_type": "execute_result"
    },
    {
     "data": {
      "image/png": "[encoded data removed]",
      "text/plain": [
       "<Figure size 1200x800 with 9 Axes>"
      ]
     },
     "metadata": {},
     "output_type": "display_data"
    }
   ],
   "source": [
    "# In a graphic\n",
    "metric_frame.by_group.plot.bar(\n",
    "    subplots=True,\n",
    "    layout=[3, 3],\n",
    "    legend=False,\n",
    "    figsize=[12, 8],\n",
    "    title=\"Show all metrics\",\n",
    ")"
   ]
  },
  {
   "cell_type": "markdown",
   "id": "f57a0bac",
   "metadata": {
    "papermill": {
     "duration": 0.027426,
     "end_time": "2025-07-23T14:40:25.173741",
     "exception": false,
     "start_time": "2025-07-23T14:40:25.146315",
     "status": "completed"
    },
    "tags": []
   },
   "source": [
    "# Final Output"
   ]
  },
  {
   "cell_type": "code",
   "execution_count": 59,
   "id": "96d280a3",
   "metadata": {
    "execution": {
     "iopub.execute_input": "2025-07-23T14:40:25.303657Z",
     "iopub.status.busy": "2025-07-23T14:40:25.302868Z",
     "iopub.status.idle": "2025-07-23T14:40:25.312895Z",
     "shell.execute_reply": "2025-07-23T14:40:25.311840Z"
    },
    "papermill": {
     "duration": 0.112298,
     "end_time": "2025-07-23T14:40:25.314540",
     "exception": false,
     "start_time": "2025-07-23T14:40:25.202242",
     "status": "completed"
    },
    "tags": []
   },
   "outputs": [
    {
     "data": {
      "text/plain": [
       "4"
      ]
     },
     "execution_count": 59,
     "metadata": {},
     "output_type": "execute_result"
    }
   ],
   "source": [
    "sub_universes = universe_analysis.generate_sub_universes()\n",
    "len(sub_universes)"
   ]
  },
  {
   "cell_type": "code",
   "execution_count": 60,
   "id": "92adf7ba",
   "metadata": {
    "execution": {
     "iopub.execute_input": "2025-07-23T14:40:25.373202Z",
     "iopub.status.busy": "2025-07-23T14:40:25.372178Z",
     "iopub.status.idle": "2025-07-23T14:40:25.379027Z",
     "shell.execute_reply": "2025-07-23T14:40:25.378037Z"
    },
    "papermill": {
     "duration": 0.038363,
     "end_time": "2025-07-23T14:40:25.380818",
     "exception": false,
     "start_time": "2025-07-23T14:40:25.342455",
     "status": "completed"
    },
    "tags": []
   },
   "outputs": [],
   "source": [
    "def filter_sub_universe_data(sub_universe, org_test):\n",
    "    # Keep all rows — no filtering\n",
    "    keep_rows_mask = np.ones(org_test.shape[0], dtype=bool)\n",
    "\n",
    "    print(f\"[INFO] Keeping all rows: {keep_rows_mask.sum()} rows retained.\")\n",
    "    return keep_rows_mask"
   ]
  },
  {
   "cell_type": "code",
   "execution_count": 61,
   "id": "4a759155",
   "metadata": {
    "execution": {
     "iopub.execute_input": "2025-07-23T14:40:25.438856Z",
     "iopub.status.busy": "2025-07-23T14:40:25.438069Z",
     "iopub.status.idle": "2025-07-23T14:40:37.614064Z",
     "shell.execute_reply": "2025-07-23T14:40:37.612996Z"
    },
    "papermill": {
     "duration": 12.206201,
     "end_time": "2025-07-23T14:40:37.615914",
     "exception": false,
     "start_time": "2025-07-23T14:40:25.409713",
     "status": "completed"
    },
    "tags": []
   },
   "outputs": [
    {
     "name": "stdout",
     "output_type": "stream",
     "text": [
      "Stopping execution_time clock.\n",
      "[INFO] Keeping all rows: 89710 rows retained.\n"
     ]
    },
    {
     "name": "stdout",
     "output_type": "stream",
     "text": [
      "[INFO] Keeping all rows: 89710 rows retained.\n"
     ]
    },
    {
     "name": "stdout",
     "output_type": "stream",
     "text": [
      "[INFO] Keeping all rows: 89710 rows retained.\n"
     ]
    },
    {
     "name": "stdout",
     "output_type": "stream",
     "text": [
      "[INFO] Keeping all rows: 89710 rows retained.\n"
     ]
    },
    {
     "data": {
      "text/html": [
       "<div>\n",
       "<style scoped>\n",
       "    .dataframe tbody tr th:only-of-type {\n",
       "        vertical-align: middle;\n",
       "    }\n",
       "\n",
       "    .dataframe tbody tr th {\n",
       "        vertical-align: top;\n",
       "    }\n",
       "\n",
       "    .dataframe thead th {\n",
       "        text-align: right;\n",
       "    }\n",
       "</style>\n",
       "<table border=\"1\" class=\"dataframe\">\n",
       "  <thead>\n",
       "    <tr style=\"text-align: right;\">\n",
       "      <th></th>\n",
       "      <th>run_no</th>\n",
       "      <th>universe_id</th>\n",
       "      <th>universe_settings</th>\n",
       "      <th>execution_time</th>\n",
       "      <th>test_size_n</th>\n",
       "      <th>test_size_frac</th>\n",
       "      <th>fair_main_equalized_odds_difference</th>\n",
       "      <th>fair_main_equalized_odds_ratio</th>\n",
       "      <th>fair_main_demographic_parity_difference</th>\n",
       "      <th>fair_main_demographic_parity_ratio</th>\n",
       "      <th>...</th>\n",
       "      <th>perf_grp_precision_0</th>\n",
       "      <th>perf_grp_precision_1</th>\n",
       "      <th>perf_grp_false positive rate_0</th>\n",
       "      <th>perf_grp_false positive rate_1</th>\n",
       "      <th>perf_grp_false negative rate_0</th>\n",
       "      <th>perf_grp_false negative rate_1</th>\n",
       "      <th>perf_grp_selection rate_0</th>\n",
       "      <th>perf_grp_selection rate_1</th>\n",
       "      <th>perf_grp_count_0</th>\n",
       "      <th>perf_grp_count_1</th>\n",
       "    </tr>\n",
       "  </thead>\n",
       "  <tbody>\n",
       "    <tr>\n",
       "      <th>0</th>\n",
       "      <td>9</td>\n",
       "      <td>c5cd2855fa6a148e3f7f3878916b499e</td>\n",
       "      <td>{\"cutoff\": \"quantile_0.1\", \"eval_fairness_grou...</td>\n",
       "      <td>120.096976</td>\n",
       "      <td>89710</td>\n",
       "      <td>1.0</td>\n",
       "      <td>0.078948</td>\n",
       "      <td>0.916673</td>\n",
       "      <td>0.068257</td>\n",
       "      <td>0.928349</td>\n",
       "      <td>...</td>\n",
       "      <td>NaN</td>\n",
       "      <td>NaN</td>\n",
       "      <td>NaN</td>\n",
       "      <td>NaN</td>\n",
       "      <td>NaN</td>\n",
       "      <td>NaN</td>\n",
       "      <td>NaN</td>\n",
       "      <td>NaN</td>\n",
       "      <td>NaN</td>\n",
       "      <td>NaN</td>\n",
       "    </tr>\n",
       "    <tr>\n",
       "      <th>0</th>\n",
       "      <td>9</td>\n",
       "      <td>c5cd2855fa6a148e3f7f3878916b499e</td>\n",
       "      <td>{\"cutoff\": \"quantile_0.1\", \"eval_fairness_grou...</td>\n",
       "      <td>120.096976</td>\n",
       "      <td>89710</td>\n",
       "      <td>1.0</td>\n",
       "      <td>0.078948</td>\n",
       "      <td>0.916673</td>\n",
       "      <td>0.068257</td>\n",
       "      <td>0.928349</td>\n",
       "      <td>...</td>\n",
       "      <td>0.120100</td>\n",
       "      <td>0.147715</td>\n",
       "      <td>0.947447</td>\n",
       "      <td>0.868499</td>\n",
       "      <td>0.007601</td>\n",
       "      <td>0.011379</td>\n",
       "      <td>0.952629</td>\n",
       "      <td>0.884372</td>\n",
       "      <td>20540.0</td>\n",
       "      <td>69170.0</td>\n",
       "    </tr>\n",
       "    <tr>\n",
       "      <th>0</th>\n",
       "      <td>9</td>\n",
       "      <td>c5cd2855fa6a148e3f7f3878916b499e</td>\n",
       "      <td>{\"cutoff\": \"quantile_0.25\", \"eval_fairness_gro...</td>\n",
       "      <td>120.096976</td>\n",
       "      <td>89710</td>\n",
       "      <td>1.0</td>\n",
       "      <td>0.088974</td>\n",
       "      <td>0.887195</td>\n",
       "      <td>0.072558</td>\n",
       "      <td>0.909971</td>\n",
       "      <td>...</td>\n",
       "      <td>NaN</td>\n",
       "      <td>NaN</td>\n",
       "      <td>NaN</td>\n",
       "      <td>NaN</td>\n",
       "      <td>NaN</td>\n",
       "      <td>NaN</td>\n",
       "      <td>NaN</td>\n",
       "      <td>NaN</td>\n",
       "      <td>NaN</td>\n",
       "      <td>NaN</td>\n",
       "    </tr>\n",
       "    <tr>\n",
       "      <th>0</th>\n",
       "      <td>9</td>\n",
       "      <td>c5cd2855fa6a148e3f7f3878916b499e</td>\n",
       "      <td>{\"cutoff\": \"quantile_0.25\", \"eval_fairness_gro...</td>\n",
       "      <td>120.096976</td>\n",
       "      <td>89710</td>\n",
       "      <td>1.0</td>\n",
       "      <td>0.088974</td>\n",
       "      <td>0.887195</td>\n",
       "      <td>0.072558</td>\n",
       "      <td>0.909971</td>\n",
       "      <td>...</td>\n",
       "      <td>0.134167</td>\n",
       "      <td>0.171917</td>\n",
       "      <td>0.788741</td>\n",
       "      <td>0.699767</td>\n",
       "      <td>0.062078</td>\n",
       "      <td>0.045842</td>\n",
       "      <td>0.805940</td>\n",
       "      <td>0.733382</td>\n",
       "      <td>20540.0</td>\n",
       "      <td>69170.0</td>\n",
       "    </tr>\n",
       "  </tbody>\n",
       "</table>\n",
       "<p>4 rows × 50 columns</p>\n",
       "</div>"
      ],
      "text/plain": [
       "  run_no                       universe_id  \\\n",
       "0      9  c5cd2855fa6a148e3f7f3878916b499e   \n",
       "0      9  c5cd2855fa6a148e3f7f3878916b499e   \n",
       "0      9  c5cd2855fa6a148e3f7f3878916b499e   \n",
       "0      9  c5cd2855fa6a148e3f7f3878916b499e   \n",
       "\n",
       "                                   universe_settings  execution_time  \\\n",
       "0  {\"cutoff\": \"quantile_0.1\", \"eval_fairness_grou...      120.096976   \n",
       "0  {\"cutoff\": \"quantile_0.1\", \"eval_fairness_grou...      120.096976   \n",
       "0  {\"cutoff\": \"quantile_0.25\", \"eval_fairness_gro...      120.096976   \n",
       "0  {\"cutoff\": \"quantile_0.25\", \"eval_fairness_gro...      120.096976   \n",
       "\n",
       "   test_size_n  test_size_frac  fair_main_equalized_odds_difference  \\\n",
       "0        89710             1.0                             0.078948   \n",
       "0        89710             1.0                             0.078948   \n",
       "0        89710             1.0                             0.088974   \n",
       "0        89710             1.0                             0.088974   \n",
       "\n",
       "   fair_main_equalized_odds_ratio  fair_main_demographic_parity_difference  \\\n",
       "0                        0.916673                                 0.068257   \n",
       "0                        0.916673                                 0.068257   \n",
       "0                        0.887195                                 0.072558   \n",
       "0                        0.887195                                 0.072558   \n",
       "\n",
       "   fair_main_demographic_parity_ratio  ...  perf_grp_precision_0  \\\n",
       "0                            0.928349  ...                   NaN   \n",
       "0                            0.928349  ...              0.120100   \n",
       "0                            0.909971  ...                   NaN   \n",
       "0                            0.909971  ...              0.134167   \n",
       "\n",
       "   perf_grp_precision_1  perf_grp_false positive rate_0  \\\n",
       "0                   NaN                             NaN   \n",
       "0              0.147715                        0.947447   \n",
       "0                   NaN                             NaN   \n",
       "0              0.171917                        0.788741   \n",
       "\n",
       "   perf_grp_false positive rate_1  perf_grp_false negative rate_0  \\\n",
       "0                             NaN                             NaN   \n",
       "0                        0.868499                        0.007601   \n",
       "0                             NaN                             NaN   \n",
       "0                        0.699767                        0.062078   \n",
       "\n",
       "   perf_grp_false negative rate_1  perf_grp_selection rate_0  \\\n",
       "0                             NaN                        NaN   \n",
       "0                        0.011379                   0.952629   \n",
       "0                             NaN                        NaN   \n",
       "0                        0.045842                   0.805940   \n",
       "\n",
       "   perf_grp_selection rate_1  perf_grp_count_0  perf_grp_count_1  \n",
       "0                        NaN               NaN               NaN  \n",
       "0                   0.884372           20540.0           69170.0  \n",
       "0                        NaN               NaN               NaN  \n",
       "0                   0.733382           20540.0           69170.0  \n",
       "\n",
       "[4 rows x 50 columns]"
      ]
     },
     "execution_count": 61,
     "metadata": {},
     "output_type": "execute_result"
    }
   ],
   "source": [
    "final_output = universe_analysis.generate_final_output(\n",
    "    y_pred_prob=probs_test,\n",
    "    y_test=y_true,\n",
    "    org_test=org_test,\n",
    "    filter_data=filter_sub_universe_data,\n",
    "    cp_metrics_df=cp_metrics_df,\n",
    "    save=True,\n",
    ")\n",
    "final_output"
   ]
  },
  {
   "cell_type": "code",
   "execution_count": null,
   "id": "721ff514-cb11-46f8-b6fc-50392f74b5cb",
   "metadata": {
    "papermill": {
     "duration": 0.028956,
     "end_time": "2025-07-23T14:40:37.675701",
     "exception": false,
     "start_time": "2025-07-23T14:40:37.646745",
     "status": "completed"
    },
    "tags": []
   },
   "outputs": [],
   "source": []
  }
 ],
 "metadata": {
  "celltoolbar": "Tags",
  "kernelspec": {
   "display_name": "Python (CMA Fairness)",
   "language": "python",
   "name": "cma_fair_env"
  },
  "language_info": {
   "codemirror_mode": {
    "name": "ipython",
    "version": 3
   },
   "file_extension": ".py",
   "mimetype": "text/x-python",
   "name": "python",
   "nbconvert_exporter": "python",
   "pygments_lexer": "ipython3",
   "version": "3.10.12"
  },
  "papermill": {
   "default_parameters": {},
   "duration": 136.779604,
   "end_time": "2025-07-23T14:40:38.423639",
   "environment_variables": {},
   "exception": null,
   "input_path": "universe_analysis.ipynb",
   "output_path": "output/runs/9/notebooks/m_9-c5cd2855fa6a148e3f7f3878916b499e.ipynb",
   "parameters": {
    "output_dir": "output",
    "run_no": "9",
    "seed": "2023",
    "universe": "{\"cutoff\": [\"quantile_0.1\", \"quantile_0.25\"], \"eval_fairness_grouping\": [\"majority-minority\", \"nationality-all\"], \"exclude_features\": \"nationality-sex\", \"exclude_subgroups\": \"keep-all\", \"model\": \"gbm\", \"scale\": \"do-not-scale\"}",
    "universe_id": "c5cd2855fa6a148e3f7f3878916b499e"
   },
   "start_time": "2025-07-23T14:38:21.644035",
   "version": "2.6.0"
  }
 },
 "nbformat": 4,
 "nbformat_minor": 5
}