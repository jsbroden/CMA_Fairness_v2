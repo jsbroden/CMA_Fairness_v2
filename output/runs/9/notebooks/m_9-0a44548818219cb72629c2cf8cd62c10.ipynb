{
 "cells": [
  {
   "cell_type": "code",
   "execution_count": 1,
   "id": "f159f837-637b-42ba-96b5-ec9a68c44524",
   "metadata": {
    "execution": {
     "iopub.execute_input": "2025-07-23T14:28:41.246329Z",
     "iopub.status.busy": "2025-07-23T14:28:41.245887Z",
     "iopub.status.idle": "2025-07-23T14:28:41.269053Z",
     "shell.execute_reply": "2025-07-23T14:28:41.268022Z"
    },
    "papermill": {
     "duration": 0.068684,
     "end_time": "2025-07-23T14:28:41.273959",
     "exception": false,
     "start_time": "2025-07-23T14:28:41.205275",
     "status": "completed"
    },
    "tags": []
   },
   "outputs": [
    {
     "name": "stdout",
     "output_type": "stream",
     "text": [
      "/dss/dsshome1/0C/ra93lal2/cma/CMA_Fairness_v2\n"
     ]
    },
    {
     "name": "stderr",
     "output_type": "stream",
     "text": [
      "/dss/dsshome1/0C/ra93lal2/.local/share/virtualenvs/CMA_Fairness_v2-3j10GkSs/lib/python3.10/site-packages/IPython/core/magics/osm.py:393: UserWarning: This is now an optional IPython functionality, using bookmarks requires you to install the `pickleshare` library.\n",
      "  bkms = self.shell.db.get('bookmarks', {})\n",
      "/dss/dsshome1/0C/ra93lal2/.local/share/virtualenvs/CMA_Fairness_v2-3j10GkSs/lib/python3.10/site-packages/IPython/core/magics/osm.py:417: UserWarning: This is now an optional IPython functionality, setting dhist requires you to install the `pickleshare` library.\n",
      "  self.shell.db['dhist'] = compress_dhist(dhist)[-100:]\n"
     ]
    }
   ],
   "source": [
    "%cd ~/cma/CMA_Fairness_v2"
   ]
  },
  {
   "cell_type": "markdown",
   "id": "de2603b9",
   "metadata": {
    "papermill": {
     "duration": 0.056122,
     "end_time": "2025-07-23T14:28:41.396345",
     "exception": false,
     "start_time": "2025-07-23T14:28:41.340223",
     "status": "completed"
    },
    "tags": []
   },
   "source": [
    "The following cell holds the definition of our parameters, these values can be overriden by rendering the with e.g. the following command:\n",
    "\n",
    "papermill -p alpha 0.2 -p ratio 0.3 universe_analysis.ipynb output/test_run.ipynb"
   ]
  },
  {
   "cell_type": "code",
   "execution_count": 2,
   "id": "a80968a0-40bb-4fa9-85ef-2d5eefb01975",
   "metadata": {
    "execution": {
     "iopub.execute_input": "2025-07-23T14:28:41.487092Z",
     "iopub.status.busy": "2025-07-23T14:28:41.486677Z",
     "iopub.status.idle": "2025-07-23T14:28:41.493041Z",
     "shell.execute_reply": "2025-07-23T14:28:41.491888Z"
    },
    "papermill": {
     "duration": 0.058706,
     "end_time": "2025-07-23T14:28:41.495210",
     "exception": false,
     "start_time": "2025-07-23T14:28:41.436504",
     "status": "completed"
    },
    "tags": []
   },
   "outputs": [
    {
     "name": "stdout",
     "output_type": "stream",
     "text": [
      "Current working directory: /dss/dsshome1/0C/ra93lal2/cma/CMA_Fairness_v2\n"
     ]
    }
   ],
   "source": [
    "import os\n",
    "print(\"Current working directory:\", os.getcwd())"
   ]
  },
  {
   "cell_type": "code",
   "execution_count": 3,
   "id": "2dce4c03",
   "metadata": {
    "execution": {
     "iopub.execute_input": "2025-07-23T14:28:41.611240Z",
     "iopub.status.busy": "2025-07-23T14:28:41.610807Z",
     "iopub.status.idle": "2025-07-23T14:28:41.618811Z",
     "shell.execute_reply": "2025-07-23T14:28:41.617655Z"
    },
    "papermill": {
     "duration": 0.060261,
     "end_time": "2025-07-23T14:28:41.621158",
     "exception": false,
     "start_time": "2025-07-23T14:28:41.560897",
     "status": "completed"
    },
    "tags": [
     "parameters"
    ]
   },
   "outputs": [],
   "source": [
    "run_no = 0\n",
    "universe_id = \"test\"\n",
    "universe = {\n",
    "    \"scale\": \"scale\", # \"scale\", \"do-not-scale\",\n",
    "    \"model\": \"elasticnet\", # \"logreg\", \"penalized_logreg\", \"rf\", \"gbm\", \"elasticnet\"\n",
    "    \"cutoff\": [\"quantile_0.15\", \"quantile_0.30\"],\n",
    "    \"exclude_features\": \"age\", # \"none\", \"nationality\", \"sex\", \"nationality-sex\", \"age\"\n",
    "    \"exclude_subgroups\": \"keep-all\", # \"keep-all\", \"drop-non-german\"\n",
    "    #\"training_sample\": \"restricted\", # \"restricted\", \"full\"\n",
    "    \"eval_fairness_grouping\": [\"majority-minority\", \"nationality-all\"]\n",
    "}\n",
    "\n",
    "output_dir=\"./output\"\n",
    "seed=0"
   ]
  },
  {
   "cell_type": "code",
   "execution_count": 4,
   "id": "a85d6e3f",
   "metadata": {
    "execution": {
     "iopub.execute_input": "2025-07-23T14:28:41.705676Z",
     "iopub.status.busy": "2025-07-23T14:28:41.705225Z",
     "iopub.status.idle": "2025-07-23T14:28:41.711652Z",
     "shell.execute_reply": "2025-07-23T14:28:41.710608Z"
    },
    "papermill": {
     "duration": 0.045249,
     "end_time": "2025-07-23T14:28:41.715151",
     "exception": false,
     "start_time": "2025-07-23T14:28:41.669902",
     "status": "completed"
    },
    "tags": [
     "injected-parameters"
    ]
   },
   "outputs": [],
   "source": [
    "# Parameters\n",
    "universe_id = \"0a44548818219cb72629c2cf8cd62c10\"\n",
    "run_no = \"9\"\n",
    "universe = \"{\\\"cutoff\\\": [\\\"quantile_0.1\\\", \\\"quantile_0.25\\\"], \\\"eval_fairness_grouping\\\": [\\\"majority-minority\\\", \\\"nationality-all\\\"], \\\"exclude_features\\\": \\\"nationality-sex\\\", \\\"exclude_subgroups\\\": \\\"drop-non-german\\\", \\\"model\\\": \\\"rf\\\", \\\"scale\\\": \\\"scale\\\"}\"\n",
    "output_dir = \"output\"\n",
    "seed = \"2023\"\n"
   ]
  },
  {
   "cell_type": "code",
   "execution_count": 5,
   "id": "1650acaf",
   "metadata": {
    "execution": {
     "iopub.execute_input": "2025-07-23T14:28:41.806903Z",
     "iopub.status.busy": "2025-07-23T14:28:41.806466Z",
     "iopub.status.idle": "2025-07-23T14:28:41.814124Z",
     "shell.execute_reply": "2025-07-23T14:28:41.812974Z"
    },
    "papermill": {
     "duration": 0.06764,
     "end_time": "2025-07-23T14:28:41.816554",
     "exception": false,
     "start_time": "2025-07-23T14:28:41.748914",
     "status": "completed"
    },
    "tags": []
   },
   "outputs": [],
   "source": [
    "import json\n",
    "# Parse universe into dict if it is passed as a string\n",
    "if isinstance(universe, str):\n",
    "    universe = json.loads(universe)"
   ]
  },
  {
   "cell_type": "code",
   "execution_count": 6,
   "id": "16620c48",
   "metadata": {
    "execution": {
     "iopub.execute_input": "2025-07-23T14:28:41.903396Z",
     "iopub.status.busy": "2025-07-23T14:28:41.902958Z",
     "iopub.status.idle": "2025-07-23T14:28:41.998221Z",
     "shell.execute_reply": "2025-07-23T14:28:41.997199Z"
    },
    "papermill": {
     "duration": 0.139472,
     "end_time": "2025-07-23T14:28:42.000489",
     "exception": false,
     "start_time": "2025-07-23T14:28:41.861017",
     "status": "completed"
    },
    "tags": []
   },
   "outputs": [],
   "source": [
    "# Auto-reload the custom package\n",
    "%load_ext autoreload\n",
    "%autoreload 1\n",
    "%aimport fairness_multiverse"
   ]
  },
  {
   "cell_type": "code",
   "execution_count": 7,
   "id": "01c5c9f3",
   "metadata": {
    "execution": {
     "iopub.execute_input": "2025-07-23T14:28:42.117828Z",
     "iopub.status.busy": "2025-07-23T14:28:42.117384Z",
     "iopub.status.idle": "2025-07-23T14:28:49.378375Z",
     "shell.execute_reply": "2025-07-23T14:28:49.377157Z"
    },
    "papermill": {
     "duration": 7.325527,
     "end_time": "2025-07-23T14:28:49.380694",
     "exception": false,
     "start_time": "2025-07-23T14:28:42.055167",
     "status": "completed"
    },
    "tags": []
   },
   "outputs": [],
   "source": [
    "from fairness_multiverse.universe import UniverseAnalysis\n",
    "\n",
    "universe_analysis = UniverseAnalysis(\n",
    "    run_no = run_no,\n",
    "    universe_id = universe_id,\n",
    "    universe = universe,\n",
    "    output_dir=output_dir,\n",
    ")"
   ]
  },
  {
   "cell_type": "code",
   "execution_count": 8,
   "id": "106241f5",
   "metadata": {
    "execution": {
     "iopub.execute_input": "2025-07-23T14:28:49.452463Z",
     "iopub.status.busy": "2025-07-23T14:28:49.452026Z",
     "iopub.status.idle": "2025-07-23T14:28:49.461317Z",
     "shell.execute_reply": "2025-07-23T14:28:49.460155Z"
    },
    "papermill": {
     "duration": 0.058009,
     "end_time": "2025-07-23T14:28:49.463517",
     "exception": false,
     "start_time": "2025-07-23T14:28:49.405508",
     "status": "completed"
    },
    "tags": []
   },
   "outputs": [
    {
     "name": "stdout",
     "output_type": "stream",
     "text": [
      "Using Seed: 2023\n"
     ]
    }
   ],
   "source": [
    "import numpy as np\n",
    "parsed_seed = int(seed)\n",
    "np.random.seed(parsed_seed)\n",
    "print(f\"Using Seed: {parsed_seed}\")"
   ]
  },
  {
   "cell_type": "markdown",
   "id": "e0ebdc57",
   "metadata": {
    "papermill": {
     "duration": 0.025085,
     "end_time": "2025-07-23T14:28:49.530883",
     "exception": false,
     "start_time": "2025-07-23T14:28:49.505798",
     "status": "completed"
    },
    "tags": []
   },
   "source": [
    "# Loading Data"
   ]
  },
  {
   "cell_type": "markdown",
   "id": "681925a3",
   "metadata": {
    "papermill": {
     "duration": 0.114761,
     "end_time": "2025-07-23T14:28:49.685774",
     "exception": false,
     "start_time": "2025-07-23T14:28:49.571013",
     "status": "completed"
    },
    "tags": []
   },
   "source": [
    "Load siab_train, siab_test, siab_calib and/or \n",
    "load siab_train_features, siab_train_labels"
   ]
  },
  {
   "cell_type": "code",
   "execution_count": 9,
   "id": "f0496b8a",
   "metadata": {
    "execution": {
     "iopub.execute_input": "2025-07-23T14:28:49.849203Z",
     "iopub.status.busy": "2025-07-23T14:28:49.848742Z",
     "iopub.status.idle": "2025-07-23T14:28:49.855708Z",
     "shell.execute_reply": "2025-07-23T14:28:49.854465Z"
    },
    "papermill": {
     "duration": 0.125915,
     "end_time": "2025-07-23T14:28:49.858351",
     "exception": false,
     "start_time": "2025-07-23T14:28:49.732436",
     "status": "completed"
    },
    "tags": []
   },
   "outputs": [],
   "source": [
    "# Do I need to load siab? Delete this cell?\n",
    "\n",
    "#from pathlib import Path\n",
    "#import pandas as pd\n",
    "#\n",
    "## File paths\n",
    "#raw_file = Path(\"data/raw/siab.csv\")\n",
    "#cache_file = Path(\"data/siab_cached.csv.gz\")\n",
    "#\n",
    "## Ensure cache directory exists\n",
    "#cache_file.parent.mkdir(parents=True, exist_ok=True)\n",
    "#\n",
    "## Load with simple caching\n",
    "#if cache_file.exists():\n",
    "#    print(f\"Loading SIAB data from cache: {cache_file}\")\n",
    "#    siab = pd.read_csv(cache_file, compression='gzip')\n",
    "#else:\n",
    "#    print(f\"Cache not found. Reading raw SIAB data: {raw_file}\")\n",
    "#    siab = pd.read_csv(raw_file)\n",
    "#    siab.to_csv(cache_file, index=False, compression='gzip')\n",
    "#    print(f\"Cached SIAB data to: {cache_file}\")\n",
    "#\n",
    "## Now use `siab` DataFrame as needed\n",
    "#print(siab.shape)\n"
   ]
  },
  {
   "cell_type": "code",
   "execution_count": 10,
   "id": "a0edb063",
   "metadata": {
    "execution": {
     "iopub.execute_input": "2025-07-23T14:28:50.057661Z",
     "iopub.status.busy": "2025-07-23T14:28:50.057059Z",
     "iopub.status.idle": "2025-07-23T14:28:55.767527Z",
     "shell.execute_reply": "2025-07-23T14:28:55.766003Z"
    },
    "papermill": {
     "duration": 5.785479,
     "end_time": "2025-07-23T14:28:55.770631",
     "exception": false,
     "start_time": "2025-07-23T14:28:49.985152",
     "status": "completed"
    },
    "tags": []
   },
   "outputs": [],
   "source": [
    "import pandas as pd\n",
    "\n",
    "X_train = pd.read_csv(\"./data/X_train.csv\")\n",
    "y_train = pd.read_csv(\"./data/y_train.csv\")"
   ]
  },
  {
   "cell_type": "code",
   "execution_count": 11,
   "id": "63d08085",
   "metadata": {
    "execution": {
     "iopub.execute_input": "2025-07-23T14:28:55.879356Z",
     "iopub.status.busy": "2025-07-23T14:28:55.878848Z",
     "iopub.status.idle": "2025-07-23T14:28:59.766587Z",
     "shell.execute_reply": "2025-07-23T14:28:59.765427Z"
    },
    "papermill": {
     "duration": 3.94572,
     "end_time": "2025-07-23T14:28:59.768964",
     "exception": false,
     "start_time": "2025-07-23T14:28:55.823244",
     "status": "completed"
    },
    "tags": []
   },
   "outputs": [],
   "source": [
    "X_test = pd.read_csv(\"./data/X_test.csv\")\n",
    "y_true = pd.read_csv(\"./data/y_test.csv\")"
   ]
  },
  {
   "cell_type": "code",
   "execution_count": 12,
   "id": "98a8d0fa-1d3d-4ed8-bb2c-281470e24add",
   "metadata": {
    "execution": {
     "iopub.execute_input": "2025-07-23T14:28:59.871193Z",
     "iopub.status.busy": "2025-07-23T14:28:59.870723Z",
     "iopub.status.idle": "2025-07-23T14:29:04.070577Z",
     "shell.execute_reply": "2025-07-23T14:29:04.069426Z"
    },
    "papermill": {
     "duration": 4.247965,
     "end_time": "2025-07-23T14:29:04.072771",
     "exception": false,
     "start_time": "2025-07-23T14:28:59.824806",
     "status": "completed"
    },
    "tags": []
   },
   "outputs": [],
   "source": [
    "# Calibration data for conformal\n",
    "X_calib = pd.read_csv(\"./data/X_calib.csv\")\n",
    "y_calib = pd.read_csv(\"./data/y_calib.csv\")"
   ]
  },
  {
   "cell_type": "code",
   "execution_count": 13,
   "id": "e6c733c5",
   "metadata": {
    "execution": {
     "iopub.execute_input": "2025-07-23T14:29:04.113880Z",
     "iopub.status.busy": "2025-07-23T14:29:04.113399Z",
     "iopub.status.idle": "2025-07-23T14:29:04.221908Z",
     "shell.execute_reply": "2025-07-23T14:29:04.221108Z"
    },
    "papermill": {
     "duration": 0.130736,
     "end_time": "2025-07-23T14:29:04.223714",
     "exception": false,
     "start_time": "2025-07-23T14:29:04.092978",
     "status": "completed"
    },
    "tags": []
   },
   "outputs": [],
   "source": [
    "# Auxiliary data needed downstream in the pipeline\n",
    "\n",
    "org_train = X_train.copy()\n",
    "org_test = X_test.copy()\n",
    "org_calib = X_calib.copy()"
   ]
  },
  {
   "cell_type": "markdown",
   "id": "0a4a1b33",
   "metadata": {
    "papermill": {
     "duration": 0.009307,
     "end_time": "2025-07-23T14:29:04.242850",
     "exception": false,
     "start_time": "2025-07-23T14:29:04.233543",
     "status": "completed"
    },
    "tags": []
   },
   "source": [
    "# Preprocessing Data"
   ]
  },
  {
   "cell_type": "code",
   "execution_count": 14,
   "id": "ca879031",
   "metadata": {
    "execution": {
     "iopub.execute_input": "2025-07-23T14:29:04.263516Z",
     "iopub.status.busy": "2025-07-23T14:29:04.262731Z",
     "iopub.status.idle": "2025-07-23T14:29:04.268063Z",
     "shell.execute_reply": "2025-07-23T14:29:04.267337Z"
    },
    "papermill": {
     "duration": 0.017352,
     "end_time": "2025-07-23T14:29:04.269606",
     "exception": false,
     "start_time": "2025-07-23T14:29:04.252254",
     "status": "completed"
    },
    "tags": []
   },
   "outputs": [],
   "source": [
    "# EXCLUDE PROTECTED FEATURES\n",
    "# ----------------------\n",
    "# \"exclude_features\": \"none\", # \"nationality\", \"sex\", \"nationality-sex\"\n",
    "\n",
    "excluded_features = universe[\"exclude_features\"].split(\"-\") # split, e.g.: \"nationality-sex\" -> [\"nationality\", \"sex\"]\n",
    "excluded_features_dictionary = {\n",
    "    \"nationality\": [\"maxdeutsch1\", \"maxdeutsch.Missing.\"],\n",
    "    \"sex\": [\"frau1\"],\n",
    "    \"age\": [\"age\"],\n",
    "}\n"
   ]
  },
  {
   "cell_type": "code",
   "execution_count": 15,
   "id": "b745ac60",
   "metadata": {
    "execution": {
     "iopub.execute_input": "2025-07-23T14:29:04.291122Z",
     "iopub.status.busy": "2025-07-23T14:29:04.290581Z",
     "iopub.status.idle": "2025-07-23T14:29:04.295815Z",
     "shell.execute_reply": "2025-07-23T14:29:04.295034Z"
    },
    "papermill": {
     "duration": 0.017361,
     "end_time": "2025-07-23T14:29:04.297360",
     "exception": false,
     "start_time": "2025-07-23T14:29:04.279999",
     "status": "completed"
    },
    "tags": []
   },
   "outputs": [],
   "source": [
    "# Code nice names to column names\n",
    "\n",
    "excluded_features_columns = [\n",
    "    excluded_features_dictionary[f] for f in excluded_features if len(f) > 0 and f != \"none\"\n",
    "]"
   ]
  },
  {
   "cell_type": "code",
   "execution_count": 16,
   "id": "f84f73a2",
   "metadata": {
    "execution": {
     "iopub.execute_input": "2025-07-23T14:29:04.318580Z",
     "iopub.status.busy": "2025-07-23T14:29:04.318036Z",
     "iopub.status.idle": "2025-07-23T14:29:04.324091Z",
     "shell.execute_reply": "2025-07-23T14:29:04.323186Z"
    },
    "papermill": {
     "duration": 0.017863,
     "end_time": "2025-07-23T14:29:04.325537",
     "exception": false,
     "start_time": "2025-07-23T14:29:04.307674",
     "status": "completed"
    },
    "tags": []
   },
   "outputs": [],
   "source": [
    "from utils import flatten_once\n",
    "\n",
    "excluded_features_columns = flatten_once(excluded_features_columns)"
   ]
  },
  {
   "cell_type": "code",
   "execution_count": 17,
   "id": "884dea22",
   "metadata": {
    "execution": {
     "iopub.execute_input": "2025-07-23T14:29:04.347414Z",
     "iopub.status.busy": "2025-07-23T14:29:04.346875Z",
     "iopub.status.idle": "2025-07-23T14:29:04.393202Z",
     "shell.execute_reply": "2025-07-23T14:29:04.392097Z"
    },
    "papermill": {
     "duration": 0.05938,
     "end_time": "2025-07-23T14:29:04.395334",
     "exception": false,
     "start_time": "2025-07-23T14:29:04.335954",
     "status": "completed"
    },
    "tags": []
   },
   "outputs": [
    {
     "name": "stdout",
     "output_type": "stream",
     "text": [
      "Dropping features: ['maxdeutsch1', 'maxdeutsch.Missing.', 'frau1']\n"
     ]
    }
   ],
   "source": [
    "if len(excluded_features_columns) > 0:\n",
    "    print(f\"Dropping features: {excluded_features_columns}\")\n",
    "    X_train.drop(excluded_features_columns, axis=1, inplace=True)"
   ]
  },
  {
   "cell_type": "code",
   "execution_count": 18,
   "id": "95ab8b16",
   "metadata": {
    "execution": {
     "iopub.execute_input": "2025-07-23T14:29:04.416433Z",
     "iopub.status.busy": "2025-07-23T14:29:04.415911Z",
     "iopub.status.idle": "2025-07-23T14:29:04.551170Z",
     "shell.execute_reply": "2025-07-23T14:29:04.550147Z"
    },
    "papermill": {
     "duration": 0.147642,
     "end_time": "2025-07-23T14:29:04.553255",
     "exception": false,
     "start_time": "2025-07-23T14:29:04.405613",
     "status": "completed"
    },
    "tags": []
   },
   "outputs": [
    {
     "name": "stdout",
     "output_type": "stream",
     "text": [
      "Dropping features: ['maxdeutsch1', 'maxdeutsch.Missing.', 'frau1']\n"
     ]
    }
   ],
   "source": [
    "if len(excluded_features_columns) > 0:\n",
    "    print(f\"Dropping features: {excluded_features_columns}\")\n",
    "    X_test.drop(excluded_features_columns, axis=1, inplace=True)"
   ]
  },
  {
   "cell_type": "code",
   "execution_count": 19,
   "id": "1853aaf5-fb9f-46cb-a2b5-8ea4ae2237e4",
   "metadata": {
    "execution": {
     "iopub.execute_input": "2025-07-23T14:29:04.663229Z",
     "iopub.status.busy": "2025-07-23T14:29:04.662787Z",
     "iopub.status.idle": "2025-07-23T14:29:04.821777Z",
     "shell.execute_reply": "2025-07-23T14:29:04.820615Z"
    },
    "papermill": {
     "duration": 0.223086,
     "end_time": "2025-07-23T14:29:04.824089",
     "exception": false,
     "start_time": "2025-07-23T14:29:04.601003",
     "status": "completed"
    },
    "tags": []
   },
   "outputs": [
    {
     "name": "stdout",
     "output_type": "stream",
     "text": [
      "Dropping features: ['maxdeutsch1', 'maxdeutsch.Missing.', 'frau1']\n"
     ]
    }
   ],
   "source": [
    "if len(excluded_features_columns) > 0:\n",
    "    print(f\"Dropping features: {excluded_features_columns}\")\n",
    "    X_calib.drop(excluded_features_columns, axis=1, inplace=True)"
   ]
  },
  {
   "cell_type": "code",
   "execution_count": 20,
   "id": "76c4dc6d",
   "metadata": {
    "execution": {
     "iopub.execute_input": "2025-07-23T14:29:04.866678Z",
     "iopub.status.busy": "2025-07-23T14:29:04.866243Z",
     "iopub.status.idle": "2025-07-23T14:29:04.871896Z",
     "shell.execute_reply": "2025-07-23T14:29:04.870928Z"
    },
    "papermill": {
     "duration": 0.030222,
     "end_time": "2025-07-23T14:29:04.875111",
     "exception": false,
     "start_time": "2025-07-23T14:29:04.844889",
     "status": "completed"
    },
    "tags": []
   },
   "outputs": [],
   "source": [
    "# EXCLUDE CERTAIN SUBGROUPS\n",
    "# ----------------------\n",
    "\n",
    "mode = universe.get(\"exclude_subgroups\", \"keep-all\") \n",
    "# Fetches the exclude_subgroups setting from the universe dict.\n",
    "# Defaults to \"keep-all\" if the key is missing."
   ]
  },
  {
   "cell_type": "code",
   "execution_count": 21,
   "id": "21994072",
   "metadata": {
    "execution": {
     "iopub.execute_input": "2025-07-23T14:29:04.938769Z",
     "iopub.status.busy": "2025-07-23T14:29:04.938257Z",
     "iopub.status.idle": "2025-07-23T14:29:04.946305Z",
     "shell.execute_reply": "2025-07-23T14:29:04.945248Z"
    },
    "papermill": {
     "duration": 0.050854,
     "end_time": "2025-07-23T14:29:04.948030",
     "exception": false,
     "start_time": "2025-07-23T14:29:04.897176",
     "status": "completed"
    },
    "tags": []
   },
   "outputs": [],
   "source": [
    "if mode == \"keep-all\":\n",
    "    keep_mask = pd.Series(True, index=org_train.index)\n",
    "\n",
    "# org_train contains the original feature columns from features_org (in Simson)\n",
    "# features_org contains unprocessed features, for me X_train at beginning ???\n",
    "# For keep-all, creates a boolean Series (keep_mask) of all True, so no rows are removed.\n",
    "\n",
    "elif mode == \"drop-non-german\":\n",
    "    keep_mask = org_train[\"maxdeutsch1\"] == 1 # ??? what about missing values?\n",
    "\n",
    "else:\n",
    "    raise ValueError(f\"Unsupported mode for exclude_subgroups: {mode}\")\n"
   ]
  },
  {
   "cell_type": "code",
   "execution_count": 22,
   "id": "71651440",
   "metadata": {
    "execution": {
     "iopub.execute_input": "2025-07-23T14:29:05.046878Z",
     "iopub.status.busy": "2025-07-23T14:29:05.046407Z",
     "iopub.status.idle": "2025-07-23T14:29:05.055610Z",
     "shell.execute_reply": "2025-07-23T14:29:05.054631Z"
    },
    "papermill": {
     "duration": 0.069989,
     "end_time": "2025-07-23T14:29:05.057351",
     "exception": false,
     "start_time": "2025-07-23T14:29:04.987362",
     "status": "completed"
    },
    "tags": []
   },
   "outputs": [
    {
     "name": "stdout",
     "output_type": "stream",
     "text": [
      "Dropping 10036 rows (13.38%) where mode='drop-non-german'\n"
     ]
    }
   ],
   "source": [
    "n_drop = (~keep_mask).sum() # Calculates how many rows are set to be dropped\n",
    "if n_drop > 0:\n",
    "    pct = n_drop / len(keep_mask) * 100\n",
    "    print(f\"Dropping {n_drop} rows ({pct:.2f}%) where mode='{mode}'\")"
   ]
  },
  {
   "cell_type": "code",
   "execution_count": 23,
   "id": "5fb8eee5",
   "metadata": {
    "execution": {
     "iopub.execute_input": "2025-07-23T14:29:05.157265Z",
     "iopub.status.busy": "2025-07-23T14:29:05.156826Z",
     "iopub.status.idle": "2025-07-23T14:29:05.234556Z",
     "shell.execute_reply": "2025-07-23T14:29:05.233326Z"
    },
    "papermill": {
     "duration": 0.141114,
     "end_time": "2025-07-23T14:29:05.236762",
     "exception": false,
     "start_time": "2025-07-23T14:29:05.095648",
     "status": "completed"
    },
    "tags": []
   },
   "outputs": [],
   "source": [
    "X_train = X_train[keep_mask]"
   ]
  },
  {
   "cell_type": "code",
   "execution_count": 24,
   "id": "b202bb3a",
   "metadata": {
    "execution": {
     "iopub.execute_input": "2025-07-23T14:29:05.309642Z",
     "iopub.status.busy": "2025-07-23T14:29:05.309333Z",
     "iopub.status.idle": "2025-07-23T14:29:05.318001Z",
     "shell.execute_reply": "2025-07-23T14:29:05.316970Z"
    },
    "papermill": {
     "duration": 0.05151,
     "end_time": "2025-07-23T14:29:05.320138",
     "exception": false,
     "start_time": "2025-07-23T14:29:05.268628",
     "status": "completed"
    },
    "tags": []
   },
   "outputs": [],
   "source": [
    "y_train = y_train[keep_mask]"
   ]
  },
  {
   "cell_type": "markdown",
   "id": "493e2ac3",
   "metadata": {
    "papermill": {
     "duration": 0.01998,
     "end_time": "2025-07-23T14:29:05.392644",
     "exception": false,
     "start_time": "2025-07-23T14:29:05.372664",
     "status": "completed"
    },
    "tags": []
   },
   "source": [
    "# Model Training"
   ]
  },
  {
   "cell_type": "code",
   "execution_count": 25,
   "id": "679e1268",
   "metadata": {
    "execution": {
     "iopub.execute_input": "2025-07-23T14:29:05.492421Z",
     "iopub.status.busy": "2025-07-23T14:29:05.491977Z",
     "iopub.status.idle": "2025-07-23T14:29:05.603635Z",
     "shell.execute_reply": "2025-07-23T14:29:05.602425Z"
    },
    "papermill": {
     "duration": 0.157114,
     "end_time": "2025-07-23T14:29:05.605818",
     "exception": false,
     "start_time": "2025-07-23T14:29:05.448704",
     "status": "completed"
    },
    "tags": []
   },
   "outputs": [],
   "source": [
    "from sklearn.linear_model import LogisticRegression\n",
    "from sklearn.ensemble import GradientBoostingClassifier, RandomForestClassifier\n",
    "\n",
    "if (universe[\"model\"] == \"logreg\"):\n",
    "    model = LogisticRegression() #penalty=\"none\") #, solver=\"newton-cg\", max_iter=1) # include random_state=19 ?\n",
    "elif (universe[\"model\"] == \"penalized_logreg\"):\n",
    "    model = LogisticRegression(penalty=\"l2\", C=1.0) #, solver=\"newton-cg\", max_iter=1)\n",
    "elif (universe[\"model\"] == \"rf\"):\n",
    "    model = RandomForestClassifier(n_estimators=100, n_jobs=-1)\n",
    "elif (universe[\"model\"] == \"gbm\"):\n",
    "    model = GradientBoostingClassifier()\n",
    "elif (universe[\"model\"] == \"elasticnet\"):\n",
    "    model = LogisticRegression(penalty = 'elasticnet', solver = 'saga', l1_ratio = 0.5, max_iter=5000) # which solver to use?\n",
    "else:\n",
    "    raise \"Unsupported universe.model\""
   ]
  },
  {
   "cell_type": "code",
   "execution_count": 26,
   "id": "0cc8f744",
   "metadata": {
    "execution": {
     "iopub.execute_input": "2025-07-23T14:29:05.630635Z",
     "iopub.status.busy": "2025-07-23T14:29:05.630238Z",
     "iopub.status.idle": "2025-07-23T14:29:05.636655Z",
     "shell.execute_reply": "2025-07-23T14:29:05.635666Z"
    },
    "papermill": {
     "duration": 0.019239,
     "end_time": "2025-07-23T14:29:05.638197",
     "exception": false,
     "start_time": "2025-07-23T14:29:05.618958",
     "status": "completed"
    },
    "tags": []
   },
   "outputs": [],
   "source": [
    "import numpy as np\n",
    "from sklearn.pipeline import Pipeline\n",
    "from sklearn.preprocessing import StandardScaler\n",
    "\n",
    "model = Pipeline([\n",
    "    #(\"continuous_processor\", continuous_processor),\n",
    "    #(\"categorical_preprocessor\", categorical_preprocessor),\n",
    "    (\"scale\", StandardScaler() if universe[\"scale\"] == \"scale\" else None), \n",
    "    (\"model\", model),\n",
    "])"
   ]
  },
  {
   "cell_type": "code",
   "execution_count": 27,
   "id": "9442c04d",
   "metadata": {
    "execution": {
     "iopub.execute_input": "2025-07-23T14:29:05.660806Z",
     "iopub.status.busy": "2025-07-23T14:29:05.660409Z",
     "iopub.status.idle": "2025-07-23T14:29:15.465654Z",
     "shell.execute_reply": "2025-07-23T14:29:15.464236Z"
    },
    "papermill": {
     "duration": 9.817922,
     "end_time": "2025-07-23T14:29:15.467390",
     "exception": false,
     "start_time": "2025-07-23T14:29:05.649468",
     "status": "completed"
    },
    "tags": []
   },
   "outputs": [
    {
     "data": {
      "text/html": [
       "<style>#sk-container-id-1 {color: black;background-color: white;}#sk-container-id-1 pre{padding: 0;}#sk-container-id-1 div.sk-toggleable {background-color: white;}#sk-container-id-1 label.sk-toggleable__label {cursor: pointer;display: block;width: 100%;margin-bottom: 0;padding: 0.3em;box-sizing: border-box;text-align: center;}#sk-container-id-1 label.sk-toggleable__label-arrow:before {content: \"▸\";float: left;margin-right: 0.25em;color: #696969;}#sk-container-id-1 label.sk-toggleable__label-arrow:hover:before {color: black;}#sk-container-id-1 div.sk-estimator:hover label.sk-toggleable__label-arrow:before {color: black;}#sk-container-id-1 div.sk-toggleable__content {max-height: 0;max-width: 0;overflow: hidden;text-align: left;background-color: #f0f8ff;}#sk-container-id-1 div.sk-toggleable__content pre {margin: 0.2em;color: black;border-radius: 0.25em;background-color: #f0f8ff;}#sk-container-id-1 input.sk-toggleable__control:checked~div.sk-toggleable__content {max-height: 200px;max-width: 100%;overflow: auto;}#sk-container-id-1 input.sk-toggleable__control:checked~label.sk-toggleable__label-arrow:before {content: \"▾\";}#sk-container-id-1 div.sk-estimator input.sk-toggleable__control:checked~label.sk-toggleable__label {background-color: #d4ebff;}#sk-container-id-1 div.sk-label input.sk-toggleable__control:checked~label.sk-toggleable__label {background-color: #d4ebff;}#sk-container-id-1 input.sk-hidden--visually {border: 0;clip: rect(1px 1px 1px 1px);clip: rect(1px, 1px, 1px, 1px);height: 1px;margin: -1px;overflow: hidden;padding: 0;position: absolute;width: 1px;}#sk-container-id-1 div.sk-estimator {font-family: monospace;background-color: #f0f8ff;border: 1px dotted black;border-radius: 0.25em;box-sizing: border-box;margin-bottom: 0.5em;}#sk-container-id-1 div.sk-estimator:hover {background-color: #d4ebff;}#sk-container-id-1 div.sk-parallel-item::after {content: \"\";width: 100%;border-bottom: 1px solid gray;flex-grow: 1;}#sk-container-id-1 div.sk-label:hover label.sk-toggleable__label {background-color: #d4ebff;}#sk-container-id-1 div.sk-serial::before {content: \"\";position: absolute;border-left: 1px solid gray;box-sizing: border-box;top: 0;bottom: 0;left: 50%;z-index: 0;}#sk-container-id-1 div.sk-serial {display: flex;flex-direction: column;align-items: center;background-color: white;padding-right: 0.2em;padding-left: 0.2em;position: relative;}#sk-container-id-1 div.sk-item {position: relative;z-index: 1;}#sk-container-id-1 div.sk-parallel {display: flex;align-items: stretch;justify-content: center;background-color: white;position: relative;}#sk-container-id-1 div.sk-item::before, #sk-container-id-1 div.sk-parallel-item::before {content: \"\";position: absolute;border-left: 1px solid gray;box-sizing: border-box;top: 0;bottom: 0;left: 50%;z-index: -1;}#sk-container-id-1 div.sk-parallel-item {display: flex;flex-direction: column;z-index: 1;position: relative;background-color: white;}#sk-container-id-1 div.sk-parallel-item:first-child::after {align-self: flex-end;width: 50%;}#sk-container-id-1 div.sk-parallel-item:last-child::after {align-self: flex-start;width: 50%;}#sk-container-id-1 div.sk-parallel-item:only-child::after {width: 0;}#sk-container-id-1 div.sk-dashed-wrapped {border: 1px dashed gray;margin: 0 0.4em 0.5em 0.4em;box-sizing: border-box;padding-bottom: 0.4em;background-color: white;}#sk-container-id-1 div.sk-label label {font-family: monospace;font-weight: bold;display: inline-block;line-height: 1.2em;}#sk-container-id-1 div.sk-label-container {text-align: center;}#sk-container-id-1 div.sk-container {/* jupyter's `normalize.less` sets `[hidden] { display: none; }` but bootstrap.min.css set `[hidden] { display: none !important; }` so we also need the `!important` here to be able to override the default hidden behavior on the sphinx rendered scikit-learn.org. See: https://github.com/scikit-learn/scikit-learn/issues/21755 */display: inline-block !important;position: relative;}#sk-container-id-1 div.sk-text-repr-fallback {display: none;}</style><div id=\"sk-container-id-1\" class=\"sk-top-container\"><div class=\"sk-text-repr-fallback\"><pre>Pipeline(steps=[(&#x27;scale&#x27;, StandardScaler()),\n",
       "                (&#x27;model&#x27;, RandomForestClassifier(n_jobs=-1))])</pre><b>In a Jupyter environment, please rerun this cell to show the HTML representation or trust the notebook. <br />On GitHub, the HTML representation is unable to render, please try loading this page with nbviewer.org.</b></div><div class=\"sk-container\" hidden><div class=\"sk-item sk-dashed-wrapped\"><div class=\"sk-label-container\"><div class=\"sk-label sk-toggleable\"><input class=\"sk-toggleable__control sk-hidden--visually\" id=\"sk-estimator-id-1\" type=\"checkbox\" ><label for=\"sk-estimator-id-1\" class=\"sk-toggleable__label sk-toggleable__label-arrow\">Pipeline</label><div class=\"sk-toggleable__content\"><pre>Pipeline(steps=[(&#x27;scale&#x27;, StandardScaler()),\n",
       "                (&#x27;model&#x27;, RandomForestClassifier(n_jobs=-1))])</pre></div></div></div><div class=\"sk-serial\"><div class=\"sk-item\"><div class=\"sk-estimator sk-toggleable\"><input class=\"sk-toggleable__control sk-hidden--visually\" id=\"sk-estimator-id-2\" type=\"checkbox\" ><label for=\"sk-estimator-id-2\" class=\"sk-toggleable__label sk-toggleable__label-arrow\">StandardScaler</label><div class=\"sk-toggleable__content\"><pre>StandardScaler()</pre></div></div></div><div class=\"sk-item\"><div class=\"sk-estimator sk-toggleable\"><input class=\"sk-toggleable__control sk-hidden--visually\" id=\"sk-estimator-id-3\" type=\"checkbox\" ><label for=\"sk-estimator-id-3\" class=\"sk-toggleable__label sk-toggleable__label-arrow\">RandomForestClassifier</label><div class=\"sk-toggleable__content\"><pre>RandomForestClassifier(n_jobs=-1)</pre></div></div></div></div></div></div></div>"
      ],
      "text/plain": [
       "Pipeline(steps=[('scale', StandardScaler()),\n",
       "                ('model', RandomForestClassifier(n_jobs=-1))])"
      ]
     },
     "execution_count": 27,
     "metadata": {},
     "output_type": "execute_result"
    }
   ],
   "source": [
    "model.fit(X_train, y_train.values.ravel())"
   ]
  },
  {
   "cell_type": "code",
   "execution_count": 28,
   "id": "af59f8c0",
   "metadata": {
    "execution": {
     "iopub.execute_input": "2025-07-23T14:29:15.507324Z",
     "iopub.status.busy": "2025-07-23T14:29:15.506478Z",
     "iopub.status.idle": "2025-07-23T14:29:15.512125Z",
     "shell.execute_reply": "2025-07-23T14:29:15.511293Z"
    },
    "papermill": {
     "duration": 0.028774,
     "end_time": "2025-07-23T14:29:15.513692",
     "exception": false,
     "start_time": "2025-07-23T14:29:15.484918",
     "status": "completed"
    },
    "tags": []
   },
   "outputs": [],
   "source": [
    "from fairness_multiverse.universe import predict_w_threshold"
   ]
  },
  {
   "cell_type": "code",
   "execution_count": 29,
   "id": "a7cf2e16",
   "metadata": {
    "execution": {
     "iopub.execute_input": "2025-07-23T14:29:15.541803Z",
     "iopub.status.busy": "2025-07-23T14:29:15.541185Z",
     "iopub.status.idle": "2025-07-23T14:29:16.984040Z",
     "shell.execute_reply": "2025-07-23T14:29:16.983001Z"
    },
    "papermill": {
     "duration": 1.461428,
     "end_time": "2025-07-23T14:29:16.986013",
     "exception": false,
     "start_time": "2025-07-23T14:29:15.524585",
     "status": "completed"
    },
    "tags": []
   },
   "outputs": [
    {
     "data": {
      "text/plain": [
       "0.8667818526362724"
      ]
     },
     "execution_count": 29,
     "metadata": {},
     "output_type": "execute_result"
    }
   ],
   "source": [
    "probs_test = model.predict_proba(X_test)\n",
    "\n",
    "'''\n",
    "Below code returns a boolean array (or binary 0/1 array depending on how it’s used) where each element \n",
    "is True if the probability of class 1 is greater than or equal to the threshold, and False otherwise.\n",
    "'''\n",
    "y_pred_default = predict_w_threshold(probs_test, 0.5)\n",
    "\n",
    "from sklearn.metrics import accuracy_score\n",
    "\n",
    "# Naive prediction\n",
    "accuracy_score(y_true = y_true, y_pred = y_pred_default)"
   ]
  },
  {
   "cell_type": "code",
   "execution_count": 30,
   "id": "081964c3",
   "metadata": {
    "execution": {
     "iopub.execute_input": "2025-07-23T14:29:17.016907Z",
     "iopub.status.busy": "2025-07-23T14:29:17.016001Z",
     "iopub.status.idle": "2025-07-23T14:29:18.406366Z",
     "shell.execute_reply": "2025-07-23T14:29:18.405268Z"
    },
    "papermill": {
     "duration": 1.410526,
     "end_time": "2025-07-23T14:29:18.408056",
     "exception": false,
     "start_time": "2025-07-23T14:29:16.997530",
     "status": "completed"
    },
    "tags": []
   },
   "outputs": [
    {
     "data": {
      "text/plain": [
       "array([0, 0, 0, ..., 0, 0, 0])"
      ]
     },
     "execution_count": 30,
     "metadata": {},
     "output_type": "execute_result"
    }
   ],
   "source": [
    "model.predict(X_test)"
   ]
  },
  {
   "cell_type": "markdown",
   "id": "56c9705b",
   "metadata": {
    "papermill": {
     "duration": 0.019072,
     "end_time": "2025-07-23T14:29:18.446930",
     "exception": false,
     "start_time": "2025-07-23T14:29:18.427858",
     "status": "completed"
    },
    "tags": []
   },
   "source": [
    "# Conformal Prediction"
   ]
  },
  {
   "cell_type": "code",
   "execution_count": 31,
   "id": "160ec6ff",
   "metadata": {
    "execution": {
     "iopub.execute_input": "2025-07-23T14:29:18.487342Z",
     "iopub.status.busy": "2025-07-23T14:29:18.486649Z",
     "iopub.status.idle": "2025-07-23T14:29:18.492941Z",
     "shell.execute_reply": "2025-07-23T14:29:18.491937Z"
    },
    "papermill": {
     "duration": 0.028168,
     "end_time": "2025-07-23T14:29:18.494693",
     "exception": false,
     "start_time": "2025-07-23T14:29:18.466525",
     "status": "completed"
    },
    "tags": []
   },
   "outputs": [],
   "source": [
    "# Miscoverage level for conformal prediction (10% allowed error rate => 90% target coverage)\n",
    "alpha = 0.1"
   ]
  },
  {
   "cell_type": "code",
   "execution_count": 32,
   "id": "eadf4555-3dd3-440e-8e35-f82a4ad9f855",
   "metadata": {
    "execution": {
     "iopub.execute_input": "2025-07-23T14:29:18.535799Z",
     "iopub.status.busy": "2025-07-23T14:29:18.535116Z",
     "iopub.status.idle": "2025-07-23T14:29:19.997720Z",
     "shell.execute_reply": "2025-07-23T14:29:19.996533Z"
    },
    "papermill": {
     "duration": 1.485469,
     "end_time": "2025-07-23T14:29:19.999700",
     "exception": false,
     "start_time": "2025-07-23T14:29:18.514231",
     "status": "completed"
    },
    "tags": []
   },
   "outputs": [],
   "source": [
    "probs_calib = model.predict_proba(X_calib)"
   ]
  },
  {
   "cell_type": "code",
   "execution_count": 33,
   "id": "2ed93547-6d5d-4983-9b36-1ecb300da49a",
   "metadata": {
    "execution": {
     "iopub.execute_input": "2025-07-23T14:29:20.049692Z",
     "iopub.status.busy": "2025-07-23T14:29:20.049043Z",
     "iopub.status.idle": "2025-07-23T14:29:20.056196Z",
     "shell.execute_reply": "2025-07-23T14:29:20.054829Z"
    },
    "papermill": {
     "duration": 0.038576,
     "end_time": "2025-07-23T14:29:20.058428",
     "exception": false,
     "start_time": "2025-07-23T14:29:20.019852",
     "status": "completed"
    },
    "tags": []
   },
   "outputs": [],
   "source": [
    "y_calib = y_calib.values.ravel().astype(int)"
   ]
  },
  {
   "cell_type": "code",
   "execution_count": 34,
   "id": "65d1320d-f588-4b38-9072-62af1ae97f7d",
   "metadata": {
    "execution": {
     "iopub.execute_input": "2025-07-23T14:29:20.100237Z",
     "iopub.status.busy": "2025-07-23T14:29:20.099776Z",
     "iopub.status.idle": "2025-07-23T14:29:20.107295Z",
     "shell.execute_reply": "2025-07-23T14:29:20.106387Z"
    },
    "papermill": {
     "duration": 0.029622,
     "end_time": "2025-07-23T14:29:20.108996",
     "exception": false,
     "start_time": "2025-07-23T14:29:20.079374",
     "status": "completed"
    },
    "tags": []
   },
   "outputs": [],
   "source": [
    "from fairness_multiverse.conformal import compute_nc_scores\n",
    "\n",
    "# Compute nonconformity scores on calibration set (1 - probability of true class)\n",
    "nc_scores = compute_nc_scores(probs_calib, y_calib)"
   ]
  },
  {
   "cell_type": "code",
   "execution_count": 35,
   "id": "df3b8ca3-53b7-43d5-9667-7c85da7aeda2",
   "metadata": {
    "execution": {
     "iopub.execute_input": "2025-07-23T14:29:20.150175Z",
     "iopub.status.busy": "2025-07-23T14:29:20.149709Z",
     "iopub.status.idle": "2025-07-23T14:29:20.156668Z",
     "shell.execute_reply": "2025-07-23T14:29:20.155698Z"
    },
    "papermill": {
     "duration": 0.02935,
     "end_time": "2025-07-23T14:29:20.158303",
     "exception": false,
     "start_time": "2025-07-23T14:29:20.128953",
     "status": "completed"
    },
    "tags": []
   },
   "outputs": [],
   "source": [
    "from fairness_multiverse.conformal import find_threshold\n",
    "\n",
    "# Find conformal threshold q_hat for the given alpha (split conformal method)\n",
    "q_hat = find_threshold(nc_scores, alpha)"
   ]
  },
  {
   "cell_type": "code",
   "execution_count": 36,
   "id": "4d29e6c1-0ef6-4aa4-b8fe-4fe79b0d033a",
   "metadata": {
    "execution": {
     "iopub.execute_input": "2025-07-23T14:29:20.200425Z",
     "iopub.status.busy": "2025-07-23T14:29:20.199664Z",
     "iopub.status.idle": "2025-07-23T14:29:20.222790Z",
     "shell.execute_reply": "2025-07-23T14:29:20.221509Z"
    },
    "papermill": {
     "duration": 0.046687,
     "end_time": "2025-07-23T14:29:20.224819",
     "exception": false,
     "start_time": "2025-07-23T14:29:20.178132",
     "status": "completed"
    },
    "tags": []
   },
   "outputs": [
    {
     "data": {
      "text/plain": [
       "0.65"
      ]
     },
     "execution_count": 36,
     "metadata": {},
     "output_type": "execute_result"
    }
   ],
   "source": [
    "q_hat"
   ]
  },
  {
   "cell_type": "code",
   "execution_count": 37,
   "id": "92460794-cdac-4be2-ba28-f28c0515a6fb",
   "metadata": {
    "execution": {
     "iopub.execute_input": "2025-07-23T14:29:20.286070Z",
     "iopub.status.busy": "2025-07-23T14:29:20.285492Z",
     "iopub.status.idle": "2025-07-23T14:29:22.773434Z",
     "shell.execute_reply": "2025-07-23T14:29:22.772596Z"
    },
    "papermill": {
     "duration": 2.525454,
     "end_time": "2025-07-23T14:29:22.774994",
     "exception": false,
     "start_time": "2025-07-23T14:29:20.249540",
     "status": "completed"
    },
    "tags": []
   },
   "outputs": [],
   "source": [
    "from fairness_multiverse.conformal import predict_conformal_sets\n",
    "\n",
    "# Generate prediction sets for each test example\n",
    "pred_sets = predict_conformal_sets(model, X_test, q_hat)"
   ]
  },
  {
   "cell_type": "code",
   "execution_count": 38,
   "id": "d90c9a65-e6db-4f5d-80cd-e68fb7e46829",
   "metadata": {
    "execution": {
     "iopub.execute_input": "2025-07-23T14:29:22.799222Z",
     "iopub.status.busy": "2025-07-23T14:29:22.798469Z",
     "iopub.status.idle": "2025-07-23T14:29:22.803706Z",
     "shell.execute_reply": "2025-07-23T14:29:22.802964Z"
    },
    "papermill": {
     "duration": 0.018732,
     "end_time": "2025-07-23T14:29:22.805226",
     "exception": false,
     "start_time": "2025-07-23T14:29:22.786494",
     "status": "completed"
    },
    "tags": []
   },
   "outputs": [],
   "source": [
    "y_true = y_true.squeeze()"
   ]
  },
  {
   "cell_type": "code",
   "execution_count": 39,
   "id": "3a58a54a-1e68-46b9-927a-df01f18aebc8",
   "metadata": {
    "execution": {
     "iopub.execute_input": "2025-07-23T14:29:22.828464Z",
     "iopub.status.busy": "2025-07-23T14:29:22.827922Z",
     "iopub.status.idle": "2025-07-23T14:29:23.765057Z",
     "shell.execute_reply": "2025-07-23T14:29:23.763862Z"
    },
    "papermill": {
     "duration": 0.950527,
     "end_time": "2025-07-23T14:29:23.767073",
     "exception": false,
     "start_time": "2025-07-23T14:29:22.816546",
     "status": "completed"
    },
    "tags": []
   },
   "outputs": [],
   "source": [
    "from fairness_multiverse.conformal import evaluate_sets\n",
    "\n",
    "# Evaluate coverage and average set size on test data\n",
    "metrics = evaluate_sets(pred_sets, y_true)"
   ]
  },
  {
   "cell_type": "code",
   "execution_count": 40,
   "id": "5ce0a5cb-201f-45a0-ade5-94c7f0bd6095",
   "metadata": {
    "execution": {
     "iopub.execute_input": "2025-07-23T14:29:23.810583Z",
     "iopub.status.busy": "2025-07-23T14:29:23.809650Z",
     "iopub.status.idle": "2025-07-23T14:29:23.818203Z",
     "shell.execute_reply": "2025-07-23T14:29:23.816952Z"
    },
    "papermill": {
     "duration": 0.031607,
     "end_time": "2025-07-23T14:29:23.819917",
     "exception": false,
     "start_time": "2025-07-23T14:29:23.788310",
     "status": "completed"
    },
    "tags": []
   },
   "outputs": [
    {
     "data": {
      "text/plain": [
       "{'coverage': 0.9162746628023631, 'avg_size': 1.1454018504068666}"
      ]
     },
     "execution_count": 40,
     "metadata": {},
     "output_type": "execute_result"
    }
   ],
   "source": [
    "metrics"
   ]
  },
  {
   "cell_type": "code",
   "execution_count": 41,
   "id": "9b9a838d-31c9-430b-ae14-12baee460d17",
   "metadata": {
    "execution": {
     "iopub.execute_input": "2025-07-23T14:29:23.867044Z",
     "iopub.status.busy": "2025-07-23T14:29:23.866473Z",
     "iopub.status.idle": "2025-07-23T14:29:23.873484Z",
     "shell.execute_reply": "2025-07-23T14:29:23.872319Z"
    },
    "papermill": {
     "duration": 0.031656,
     "end_time": "2025-07-23T14:29:23.875449",
     "exception": false,
     "start_time": "2025-07-23T14:29:23.843793",
     "status": "completed"
    },
    "tags": []
   },
   "outputs": [],
   "source": [
    "example_universe = universe.copy()\n",
    "universe_model = example_universe.get(\"model\")\n",
    "universe_exclude_features = example_universe.get(\"exclude_features\")\n",
    "universe_exclude_subgroups = example_universe.get(\"exclude_subgroups\")\n",
    "universe_scale = example_universe.get(\"scale\")"
   ]
  },
  {
   "cell_type": "code",
   "execution_count": 42,
   "id": "f4b6a8ac-9dc0-4245-8a91-5b3b5999c4f9",
   "metadata": {
    "execution": {
     "iopub.execute_input": "2025-07-23T14:29:23.922697Z",
     "iopub.status.busy": "2025-07-23T14:29:23.921763Z",
     "iopub.status.idle": "2025-07-23T14:29:23.928831Z",
     "shell.execute_reply": "2025-07-23T14:29:23.927795Z"
    },
    "papermill": {
     "duration": 0.031102,
     "end_time": "2025-07-23T14:29:23.930623",
     "exception": false,
     "start_time": "2025-07-23T14:29:23.899521",
     "status": "completed"
    },
    "tags": []
   },
   "outputs": [],
   "source": [
    "cp_metrics_dict = {\n",
    "    \"universe_id\": [universe_id],\n",
    "    \"universe_model\": [universe_model],\n",
    "    \"universe_exclude_features\": [universe_exclude_features],\n",
    "    \"universe_exclude_subgroups\": [universe_exclude_subgroups],\n",
    "    \"universe_scale\": [universe_scale],\n",
    "    \"q_hat\": [q_hat],\n",
    "    \"coverage\": [metrics[\"coverage\"]],\n",
    "    \"avg_size\": [metrics[\"avg_size\"]],\n",
    "}"
   ]
  },
  {
   "cell_type": "code",
   "execution_count": 43,
   "id": "908acbb1-0371-4915-85ca-3fa520d2efe2",
   "metadata": {
    "execution": {
     "iopub.execute_input": "2025-07-23T14:29:23.973187Z",
     "iopub.status.busy": "2025-07-23T14:29:23.972788Z",
     "iopub.status.idle": "2025-07-23T14:29:23.980826Z",
     "shell.execute_reply": "2025-07-23T14:29:23.979792Z"
    },
    "papermill": {
     "duration": 0.03139,
     "end_time": "2025-07-23T14:29:23.982770",
     "exception": false,
     "start_time": "2025-07-23T14:29:23.951380",
     "status": "completed"
    },
    "tags": []
   },
   "outputs": [
    {
     "data": {
      "text/plain": [
       "{'universe_id': ['0a44548818219cb72629c2cf8cd62c10'],\n",
       " 'universe_model': ['rf'],\n",
       " 'universe_exclude_features': ['nationality-sex'],\n",
       " 'universe_exclude_subgroups': ['drop-non-german'],\n",
       " 'universe_scale': ['scale'],\n",
       " 'q_hat': [0.65],\n",
       " 'coverage': [0.9162746628023631],\n",
       " 'avg_size': [1.1454018504068666]}"
      ]
     },
     "execution_count": 43,
     "metadata": {},
     "output_type": "execute_result"
    }
   ],
   "source": [
    "cp_metrics_dict"
   ]
  },
  {
   "cell_type": "code",
   "execution_count": 44,
   "id": "33007efc-14e9-4ec6-97ac-56a455c82265",
   "metadata": {
    "execution": {
     "iopub.execute_input": "2025-07-23T14:29:24.026909Z",
     "iopub.status.busy": "2025-07-23T14:29:24.026254Z",
     "iopub.status.idle": "2025-07-23T14:29:24.032951Z",
     "shell.execute_reply": "2025-07-23T14:29:24.031905Z"
    },
    "papermill": {
     "duration": 0.030928,
     "end_time": "2025-07-23T14:29:24.034723",
     "exception": false,
     "start_time": "2025-07-23T14:29:24.003795",
     "status": "completed"
    },
    "tags": []
   },
   "outputs": [],
   "source": [
    "cp_metrics_df = pd.DataFrame(cp_metrics_dict)"
   ]
  },
  {
   "cell_type": "code",
   "execution_count": 45,
   "id": "db12611b-57b2-4910-b9d0-355adfd6e7bf",
   "metadata": {
    "execution": {
     "iopub.execute_input": "2025-07-23T14:29:24.077999Z",
     "iopub.status.busy": "2025-07-23T14:29:24.077223Z",
     "iopub.status.idle": "2025-07-23T14:29:24.095505Z",
     "shell.execute_reply": "2025-07-23T14:29:24.094454Z"
    },
    "papermill": {
     "duration": 0.042059,
     "end_time": "2025-07-23T14:29:24.097664",
     "exception": false,
     "start_time": "2025-07-23T14:29:24.055605",
     "status": "completed"
    },
    "tags": []
   },
   "outputs": [
    {
     "data": {
      "text/html": [
       "<div>\n",
       "<style scoped>\n",
       "    .dataframe tbody tr th:only-of-type {\n",
       "        vertical-align: middle;\n",
       "    }\n",
       "\n",
       "    .dataframe tbody tr th {\n",
       "        vertical-align: top;\n",
       "    }\n",
       "\n",
       "    .dataframe thead th {\n",
       "        text-align: right;\n",
       "    }\n",
       "</style>\n",
       "<table border=\"1\" class=\"dataframe\">\n",
       "  <thead>\n",
       "    <tr style=\"text-align: right;\">\n",
       "      <th></th>\n",
       "      <th>universe_id</th>\n",
       "      <th>universe_model</th>\n",
       "      <th>universe_exclude_features</th>\n",
       "      <th>universe_exclude_subgroups</th>\n",
       "      <th>universe_scale</th>\n",
       "      <th>q_hat</th>\n",
       "      <th>coverage</th>\n",
       "      <th>avg_size</th>\n",
       "    </tr>\n",
       "  </thead>\n",
       "  <tbody>\n",
       "    <tr>\n",
       "      <th>0</th>\n",
       "      <td>0a44548818219cb72629c2cf8cd62c10</td>\n",
       "      <td>rf</td>\n",
       "      <td>nationality-sex</td>\n",
       "      <td>drop-non-german</td>\n",
       "      <td>scale</td>\n",
       "      <td>0.65</td>\n",
       "      <td>0.916275</td>\n",
       "      <td>1.145402</td>\n",
       "    </tr>\n",
       "  </tbody>\n",
       "</table>\n",
       "</div>"
      ],
      "text/plain": [
       "                        universe_id universe_model universe_exclude_features  \\\n",
       "0  0a44548818219cb72629c2cf8cd62c10             rf           nationality-sex   \n",
       "\n",
       "  universe_exclude_subgroups universe_scale  q_hat  coverage  avg_size  \n",
       "0            drop-non-german          scale   0.65  0.916275  1.145402  "
      ]
     },
     "execution_count": 45,
     "metadata": {},
     "output_type": "execute_result"
    }
   ],
   "source": [
    "cp_metrics_df"
   ]
  },
  {
   "cell_type": "code",
   "execution_count": 46,
   "id": "b7fbde55-a0a1-47e4-9af6-fe4a17fa8c61",
   "metadata": {
    "execution": {
     "iopub.execute_input": "2025-07-23T14:29:24.144366Z",
     "iopub.status.busy": "2025-07-23T14:29:24.143653Z",
     "iopub.status.idle": "2025-07-23T14:29:24.149092Z",
     "shell.execute_reply": "2025-07-23T14:29:24.148023Z"
    },
    "papermill": {
     "duration": 0.029066,
     "end_time": "2025-07-23T14:29:24.150856",
     "exception": false,
     "start_time": "2025-07-23T14:29:24.121790",
     "status": "completed"
    },
    "tags": []
   },
   "outputs": [],
   "source": [
    "# Conditional Coverage & looking at subgroups"
   ]
  },
  {
   "cell_type": "code",
   "execution_count": 47,
   "id": "027ae886-68dd-4141-96c7-805a5450e1ef",
   "metadata": {
    "execution": {
     "iopub.execute_input": "2025-07-23T14:29:24.193500Z",
     "iopub.status.busy": "2025-07-23T14:29:24.192740Z",
     "iopub.status.idle": "2025-07-23T14:29:24.458241Z",
     "shell.execute_reply": "2025-07-23T14:29:24.457273Z"
    },
    "papermill": {
     "duration": 0.288817,
     "end_time": "2025-07-23T14:29:24.460248",
     "exception": false,
     "start_time": "2025-07-23T14:29:24.171431",
     "status": "completed"
    },
    "tags": []
   },
   "outputs": [],
   "source": [
    "from fairness_multiverse.conformal import build_cp_groups\n",
    "\n",
    "cp_groups_df = build_cp_groups(pred_sets, y_true, X_test.index, org_test)\n",
    "#needs universe_id and setting"
   ]
  },
  {
   "cell_type": "code",
   "execution_count": 48,
   "id": "c3b92545-903e-4839-89af-0f057907d7d6",
   "metadata": {
    "execution": {
     "iopub.execute_input": "2025-07-23T14:29:24.503862Z",
     "iopub.status.busy": "2025-07-23T14:29:24.503173Z",
     "iopub.status.idle": "2025-07-23T14:29:26.231373Z",
     "shell.execute_reply": "2025-07-23T14:29:26.230172Z"
    },
    "papermill": {
     "duration": 1.752229,
     "end_time": "2025-07-23T14:29:26.233425",
     "exception": false,
     "start_time": "2025-07-23T14:29:24.481196",
     "status": "completed"
    },
    "tags": []
   },
   "outputs": [],
   "source": [
    "# Define covered = 1 if true_label is in the predicted set\n",
    "cp_groups_df['covered'] = cp_groups_df.apply(\n",
    "    lambda r: int(r['true_label'] in r['pred_set']),\n",
    "    axis=1\n",
    ")"
   ]
  },
  {
   "cell_type": "code",
   "execution_count": 49,
   "id": "338ff529-1a6b-4b87-a931-8e4788d52aad",
   "metadata": {
    "execution": {
     "iopub.execute_input": "2025-07-23T14:29:26.277769Z",
     "iopub.status.busy": "2025-07-23T14:29:26.277261Z",
     "iopub.status.idle": "2025-07-23T14:29:26.282466Z",
     "shell.execute_reply": "2025-07-23T14:29:26.281603Z"
    },
    "papermill": {
     "duration": 0.028788,
     "end_time": "2025-07-23T14:29:26.284066",
     "exception": false,
     "start_time": "2025-07-23T14:29:26.255278",
     "status": "completed"
    },
    "tags": []
   },
   "outputs": [],
   "source": [
    "#cp_groups_df"
   ]
  },
  {
   "cell_type": "code",
   "execution_count": 50,
   "id": "90032e27-66df-4540-9169-4e89cfbaa758",
   "metadata": {
    "execution": {
     "iopub.execute_input": "2025-07-23T14:29:26.310009Z",
     "iopub.status.busy": "2025-07-23T14:29:26.309320Z",
     "iopub.status.idle": "2025-07-23T14:29:26.322151Z",
     "shell.execute_reply": "2025-07-23T14:29:26.321048Z"
    },
    "papermill": {
     "duration": 0.027055,
     "end_time": "2025-07-23T14:29:26.324101",
     "exception": false,
     "start_time": "2025-07-23T14:29:26.297046",
     "status": "completed"
    },
    "tags": []
   },
   "outputs": [],
   "source": [
    "subgroups = ['frau1','nongerman','nongerman_male','nongerman_female']\n",
    "\n",
    "# Conditional coverage for subgroup==1\n",
    "cond_coverage = {\n",
    "    g: cp_groups_df.loc[cp_groups_df[g]==1, 'covered'].mean()\n",
    "    for g in subgroups\n",
    "}"
   ]
  },
  {
   "cell_type": "code",
   "execution_count": 51,
   "id": "1e348fb1-b9c3-45bc-ba23-f016827a7e0d",
   "metadata": {
    "execution": {
     "iopub.execute_input": "2025-07-23T14:29:26.372130Z",
     "iopub.status.busy": "2025-07-23T14:29:26.371369Z",
     "iopub.status.idle": "2025-07-23T14:29:26.379173Z",
     "shell.execute_reply": "2025-07-23T14:29:26.378270Z"
    },
    "papermill": {
     "duration": 0.03347,
     "end_time": "2025-07-23T14:29:26.380904",
     "exception": false,
     "start_time": "2025-07-23T14:29:26.347434",
     "status": "completed"
    },
    "tags": []
   },
   "outputs": [
    {
     "data": {
      "text/plain": [
       "{'frau1': 0.9168890686076291,\n",
       " 'nongerman': 0.9121428170437321,\n",
       " 'nongerman_male': 0.9250652976672972,\n",
       " 'nongerman_female': 0.8907600596125186}"
      ]
     },
     "execution_count": 51,
     "metadata": {},
     "output_type": "execute_result"
    }
   ],
   "source": [
    "cond_coverage"
   ]
  },
  {
   "cell_type": "code",
   "execution_count": 52,
   "id": "f5093324-c3dd-4d63-bc4c-8d945e5c8bbb",
   "metadata": {
    "execution": {
     "iopub.execute_input": "2025-07-23T14:29:26.429484Z",
     "iopub.status.busy": "2025-07-23T14:29:26.429017Z",
     "iopub.status.idle": "2025-07-23T14:29:26.435862Z",
     "shell.execute_reply": "2025-07-23T14:29:26.434903Z"
    },
    "papermill": {
     "duration": 0.032725,
     "end_time": "2025-07-23T14:29:26.437473",
     "exception": false,
     "start_time": "2025-07-23T14:29:26.404748",
     "status": "completed"
    },
    "tags": []
   },
   "outputs": [],
   "source": [
    "for subgroup, cov in cond_coverage.items():\n",
    "    cp_metrics_df[f\"cov_{subgroup}\"] = cov"
   ]
  },
  {
   "cell_type": "code",
   "execution_count": 53,
   "id": "6e872e10-dbe5-49e8-b554-5030c98ff75d",
   "metadata": {
    "execution": {
     "iopub.execute_input": "2025-07-23T14:29:26.463493Z",
     "iopub.status.busy": "2025-07-23T14:29:26.463045Z",
     "iopub.status.idle": "2025-07-23T14:29:26.482395Z",
     "shell.execute_reply": "2025-07-23T14:29:26.481379Z"
    },
    "papermill": {
     "duration": 0.033849,
     "end_time": "2025-07-23T14:29:26.484163",
     "exception": false,
     "start_time": "2025-07-23T14:29:26.450314",
     "status": "completed"
    },
    "tags": []
   },
   "outputs": [
    {
     "data": {
      "text/html": [
       "<div>\n",
       "<style scoped>\n",
       "    .dataframe tbody tr th:only-of-type {\n",
       "        vertical-align: middle;\n",
       "    }\n",
       "\n",
       "    .dataframe tbody tr th {\n",
       "        vertical-align: top;\n",
       "    }\n",
       "\n",
       "    .dataframe thead th {\n",
       "        text-align: right;\n",
       "    }\n",
       "</style>\n",
       "<table border=\"1\" class=\"dataframe\">\n",
       "  <thead>\n",
       "    <tr style=\"text-align: right;\">\n",
       "      <th></th>\n",
       "      <th>universe_id</th>\n",
       "      <th>universe_model</th>\n",
       "      <th>universe_exclude_features</th>\n",
       "      <th>universe_exclude_subgroups</th>\n",
       "      <th>universe_scale</th>\n",
       "      <th>q_hat</th>\n",
       "      <th>coverage</th>\n",
       "      <th>avg_size</th>\n",
       "      <th>cov_frau1</th>\n",
       "      <th>cov_nongerman</th>\n",
       "      <th>cov_nongerman_male</th>\n",
       "      <th>cov_nongerman_female</th>\n",
       "    </tr>\n",
       "  </thead>\n",
       "  <tbody>\n",
       "    <tr>\n",
       "      <th>0</th>\n",
       "      <td>0a44548818219cb72629c2cf8cd62c10</td>\n",
       "      <td>rf</td>\n",
       "      <td>nationality-sex</td>\n",
       "      <td>drop-non-german</td>\n",
       "      <td>scale</td>\n",
       "      <td>0.65</td>\n",
       "      <td>0.916275</td>\n",
       "      <td>1.145402</td>\n",
       "      <td>0.916889</td>\n",
       "      <td>0.912143</td>\n",
       "      <td>0.925065</td>\n",
       "      <td>0.89076</td>\n",
       "    </tr>\n",
       "  </tbody>\n",
       "</table>\n",
       "</div>"
      ],
      "text/plain": [
       "                        universe_id universe_model universe_exclude_features  \\\n",
       "0  0a44548818219cb72629c2cf8cd62c10             rf           nationality-sex   \n",
       "\n",
       "  universe_exclude_subgroups universe_scale  q_hat  coverage  avg_size  \\\n",
       "0            drop-non-german          scale   0.65  0.916275  1.145402   \n",
       "\n",
       "   cov_frau1  cov_nongerman  cov_nongerman_male  cov_nongerman_female  \n",
       "0   0.916889       0.912143            0.925065               0.89076  "
      ]
     },
     "execution_count": 53,
     "metadata": {},
     "output_type": "execute_result"
    }
   ],
   "source": [
    "cp_metrics_df"
   ]
  },
  {
   "cell_type": "markdown",
   "id": "33774451",
   "metadata": {
    "papermill": {
     "duration": 0.022424,
     "end_time": "2025-07-23T14:29:26.528907",
     "exception": false,
     "start_time": "2025-07-23T14:29:26.506483",
     "status": "completed"
    },
    "tags": []
   },
   "source": [
    "# (Fairness) Metrics"
   ]
  },
  {
   "cell_type": "code",
   "execution_count": 54,
   "id": "debc5d62",
   "metadata": {
    "execution": {
     "iopub.execute_input": "2025-07-23T14:29:26.574222Z",
     "iopub.status.busy": "2025-07-23T14:29:26.573470Z",
     "iopub.status.idle": "2025-07-23T14:29:26.598517Z",
     "shell.execute_reply": "2025-07-23T14:29:26.597543Z"
    },
    "papermill": {
     "duration": 0.049889,
     "end_time": "2025-07-23T14:29:26.600484",
     "exception": false,
     "start_time": "2025-07-23T14:29:26.550595",
     "status": "completed"
    },
    "tags": []
   },
   "outputs": [],
   "source": [
    "# do I need to include maxdeutsch1.missing?\n",
    "\n",
    "import numpy as np\n",
    "\n",
    "colname_to_bin = \"maxdeutsch1\"\n",
    "majority_value = org_train[colname_to_bin].mode()[0]\n",
    "\n",
    "org_test[\"majmin\"] = np.where(org_test[colname_to_bin] == majority_value, \"majority\", \"minority\")"
   ]
  },
  {
   "cell_type": "code",
   "execution_count": 55,
   "id": "06a50de5",
   "metadata": {
    "execution": {
     "iopub.execute_input": "2025-07-23T14:29:26.650806Z",
     "iopub.status.busy": "2025-07-23T14:29:26.650080Z",
     "iopub.status.idle": "2025-07-23T14:29:29.895014Z",
     "shell.execute_reply": "2025-07-23T14:29:29.893783Z"
    },
    "papermill": {
     "duration": 3.272286,
     "end_time": "2025-07-23T14:29:29.897040",
     "exception": false,
     "start_time": "2025-07-23T14:29:26.624754",
     "status": "completed"
    },
    "tags": []
   },
   "outputs": [],
   "source": [
    "example_universe = universe.copy()\n",
    "example_universe[\"cutoff\"] = example_universe[\"cutoff\"][0]\n",
    "example_universe[\"eval_fairness_grouping\"] = example_universe[\"eval_fairness_grouping\"][0]\n",
    "fairness_dict, metric_frame = universe_analysis.compute_metrics(\n",
    "    example_universe,\n",
    "    y_pred_prob=probs_test,\n",
    "    y_test=y_true,\n",
    "    org_test=org_test,\n",
    ")"
   ]
  },
  {
   "cell_type": "markdown",
   "id": "f95d4e02",
   "metadata": {
    "papermill": {
     "duration": 0.022139,
     "end_time": "2025-07-23T14:29:29.942769",
     "exception": false,
     "start_time": "2025-07-23T14:29:29.920630",
     "status": "completed"
    },
    "tags": []
   },
   "source": [
    "# Overall"
   ]
  },
  {
   "cell_type": "markdown",
   "id": "bdee4871",
   "metadata": {
    "papermill": {
     "duration": 0.021884,
     "end_time": "2025-07-23T14:29:29.987100",
     "exception": false,
     "start_time": "2025-07-23T14:29:29.965216",
     "status": "completed"
    },
    "tags": []
   },
   "source": [
    "Fairness\n",
    "Main fairness target: Equalized Odds. Seems to be a better fit than equal opportunity, since we're not only interested in Y = 1. Seems to be a better fit than demographic parity, since we also care about accuracy, not just equal distribution of preds.\n",
    "\n",
    "Pick column for computation of fairness metrics\n",
    "\n",
    "Performance\n",
    "Overall performance measures, most interesting in relation to the measures split by group below"
   ]
  },
  {
   "cell_type": "code",
   "execution_count": 56,
   "id": "c4e067c6",
   "metadata": {
    "execution": {
     "iopub.execute_input": "2025-07-23T14:29:30.034534Z",
     "iopub.status.busy": "2025-07-23T14:29:30.033510Z",
     "iopub.status.idle": "2025-07-23T14:29:30.043759Z",
     "shell.execute_reply": "2025-07-23T14:29:30.042672Z"
    },
    "papermill": {
     "duration": 0.035877,
     "end_time": "2025-07-23T14:29:30.045490",
     "exception": false,
     "start_time": "2025-07-23T14:29:30.009613",
     "status": "completed"
    },
    "tags": []
   },
   "outputs": [
    {
     "data": {
      "text/plain": [
       "accuracy                   0.197693\n",
       "balanced accuracy          0.531254\n",
       "f1                         0.238593\n",
       "precision                  0.135833\n",
       "false positive rate        0.917419\n",
       "false negative rate        0.020073\n",
       "selection rate             0.925438\n",
       "count                  89710.000000\n",
       "dtype: float64"
      ]
     },
     "execution_count": 56,
     "metadata": {},
     "output_type": "execute_result"
    }
   ],
   "source": [
    "metric_frame.overall"
   ]
  },
  {
   "cell_type": "markdown",
   "id": "e968fe9d",
   "metadata": {
    "papermill": {
     "duration": 0.022788,
     "end_time": "2025-07-23T14:29:30.091581",
     "exception": false,
     "start_time": "2025-07-23T14:29:30.068793",
     "status": "completed"
    },
    "tags": []
   },
   "source": [
    "By Group"
   ]
  },
  {
   "cell_type": "code",
   "execution_count": 57,
   "id": "ec325bce",
   "metadata": {
    "execution": {
     "iopub.execute_input": "2025-07-23T14:29:30.137456Z",
     "iopub.status.busy": "2025-07-23T14:29:30.136520Z",
     "iopub.status.idle": "2025-07-23T14:29:30.154882Z",
     "shell.execute_reply": "2025-07-23T14:29:30.153797Z"
    },
    "papermill": {
     "duration": 0.043191,
     "end_time": "2025-07-23T14:29:30.156702",
     "exception": false,
     "start_time": "2025-07-23T14:29:30.113511",
     "status": "completed"
    },
    "tags": []
   },
   "outputs": [
    {
     "data": {
      "text/html": [
       "<div>\n",
       "<style scoped>\n",
       "    .dataframe tbody tr th:only-of-type {\n",
       "        vertical-align: middle;\n",
       "    }\n",
       "\n",
       "    .dataframe tbody tr th {\n",
       "        vertical-align: top;\n",
       "    }\n",
       "\n",
       "    .dataframe thead th {\n",
       "        text-align: right;\n",
       "    }\n",
       "</style>\n",
       "<table border=\"1\" class=\"dataframe\">\n",
       "  <thead>\n",
       "    <tr style=\"text-align: right;\">\n",
       "      <th></th>\n",
       "      <th>accuracy</th>\n",
       "      <th>balanced accuracy</th>\n",
       "      <th>f1</th>\n",
       "      <th>precision</th>\n",
       "      <th>false positive rate</th>\n",
       "      <th>false negative rate</th>\n",
       "      <th>selection rate</th>\n",
       "      <th>count</th>\n",
       "    </tr>\n",
       "    <tr>\n",
       "      <th>majmin</th>\n",
       "      <th></th>\n",
       "      <th></th>\n",
       "      <th></th>\n",
       "      <th></th>\n",
       "      <th></th>\n",
       "      <th></th>\n",
       "      <th></th>\n",
       "      <th></th>\n",
       "    </tr>\n",
       "  </thead>\n",
       "  <tbody>\n",
       "    <tr>\n",
       "      <th>majority</th>\n",
       "      <td>0.190299</td>\n",
       "      <td>0.529984</td>\n",
       "      <td>0.244527</td>\n",
       "      <td>0.139457</td>\n",
       "      <td>0.931717</td>\n",
       "      <td>0.008315</td>\n",
       "      <td>0.939641</td>\n",
       "      <td>69170.0</td>\n",
       "    </tr>\n",
       "    <tr>\n",
       "      <th>minority</th>\n",
       "      <td>0.222590</td>\n",
       "      <td>0.532180</td>\n",
       "      <td>0.217025</td>\n",
       "      <td>0.122767</td>\n",
       "      <td>0.870185</td>\n",
       "      <td>0.065456</td>\n",
       "      <td>0.877605</td>\n",
       "      <td>20540.0</td>\n",
       "    </tr>\n",
       "  </tbody>\n",
       "</table>\n",
       "</div>"
      ],
      "text/plain": [
       "          accuracy  balanced accuracy        f1  precision  \\\n",
       "majmin                                                       \n",
       "majority  0.190299           0.529984  0.244527   0.139457   \n",
       "minority  0.222590           0.532180  0.217025   0.122767   \n",
       "\n",
       "          false positive rate  false negative rate  selection rate    count  \n",
       "majmin                                                                       \n",
       "majority             0.931717             0.008315        0.939641  69170.0  \n",
       "minority             0.870185             0.065456        0.877605  20540.0  "
      ]
     },
     "execution_count": 57,
     "metadata": {},
     "output_type": "execute_result"
    }
   ],
   "source": [
    "metric_frame.by_group"
   ]
  },
  {
   "cell_type": "code",
   "execution_count": 58,
   "id": "a9ddbe63",
   "metadata": {
    "execution": {
     "iopub.execute_input": "2025-07-23T14:29:30.207728Z",
     "iopub.status.busy": "2025-07-23T14:29:30.206108Z",
     "iopub.status.idle": "2025-07-23T14:29:32.915497Z",
     "shell.execute_reply": "2025-07-23T14:29:32.914501Z"
    },
    "papermill": {
     "duration": 2.736754,
     "end_time": "2025-07-23T14:29:32.917309",
     "exception": false,
     "start_time": "2025-07-23T14:29:30.180555",
     "status": "completed"
    },
    "tags": []
   },
   "outputs": [
    {
     "data": {
      "text/plain": [
       "array([[<Axes: title={'center': 'accuracy'}, xlabel='majmin'>,\n",
       "        <Axes: title={'center': 'balanced accuracy'}, xlabel='majmin'>,\n",
       "        <Axes: title={'center': 'f1'}, xlabel='majmin'>],\n",
       "       [<Axes: title={'center': 'precision'}, xlabel='majmin'>,\n",
       "        <Axes: title={'center': 'false positive rate'}, xlabel='majmin'>,\n",
       "        <Axes: title={'center': 'false negative rate'}, xlabel='majmin'>],\n",
       "       [<Axes: title={'center': 'selection rate'}, xlabel='majmin'>,\n",
       "        <Axes: title={'center': 'count'}, xlabel='majmin'>,\n",
       "        <Axes: xlabel='majmin'>]], dtype=object)"
      ]
     },
     "execution_count": 58,
     "metadata": {},
     "output_type": "execute_result"
    },
    {
     "data": {
      "image/png": "[encoded data removed]",
      "text/plain": [
       "<Figure size 1200x800 with 9 Axes>"
      ]
     },
     "metadata": {},
     "output_type": "display_data"
    }
   ],
   "source": [
    "# In a graphic\n",
    "metric_frame.by_group.plot.bar(\n",
    "    subplots=True,\n",
    "    layout=[3, 3],\n",
    "    legend=False,\n",
    "    figsize=[12, 8],\n",
    "    title=\"Show all metrics\",\n",
    ")"
   ]
  },
  {
   "cell_type": "markdown",
   "id": "f57a0bac",
   "metadata": {
    "papermill": {
     "duration": 0.053921,
     "end_time": "2025-07-23T14:29:33.014555",
     "exception": false,
     "start_time": "2025-07-23T14:29:32.960634",
     "status": "completed"
    },
    "tags": []
   },
   "source": [
    "# Final Output"
   ]
  },
  {
   "cell_type": "code",
   "execution_count": 59,
   "id": "96d280a3",
   "metadata": {
    "execution": {
     "iopub.execute_input": "2025-07-23T14:29:33.090805Z",
     "iopub.status.busy": "2025-07-23T14:29:33.089857Z",
     "iopub.status.idle": "2025-07-23T14:29:33.099278Z",
     "shell.execute_reply": "2025-07-23T14:29:33.098072Z"
    },
    "papermill": {
     "duration": 0.048005,
     "end_time": "2025-07-23T14:29:33.101130",
     "exception": false,
     "start_time": "2025-07-23T14:29:33.053125",
     "status": "completed"
    },
    "tags": []
   },
   "outputs": [
    {
     "data": {
      "text/plain": [
       "4"
      ]
     },
     "execution_count": 59,
     "metadata": {},
     "output_type": "execute_result"
    }
   ],
   "source": [
    "sub_universes = universe_analysis.generate_sub_universes()\n",
    "len(sub_universes)"
   ]
  },
  {
   "cell_type": "code",
   "execution_count": 60,
   "id": "92adf7ba",
   "metadata": {
    "execution": {
     "iopub.execute_input": "2025-07-23T14:29:33.196906Z",
     "iopub.status.busy": "2025-07-23T14:29:33.196477Z",
     "iopub.status.idle": "2025-07-23T14:29:33.203741Z",
     "shell.execute_reply": "2025-07-23T14:29:33.202514Z"
    },
    "papermill": {
     "duration": 0.054463,
     "end_time": "2025-07-23T14:29:33.207312",
     "exception": false,
     "start_time": "2025-07-23T14:29:33.152849",
     "status": "completed"
    },
    "tags": []
   },
   "outputs": [],
   "source": [
    "def filter_sub_universe_data(sub_universe, org_test):\n",
    "    # Keep all rows — no filtering\n",
    "    keep_rows_mask = np.ones(org_test.shape[0], dtype=bool)\n",
    "\n",
    "    print(f\"[INFO] Keeping all rows: {keep_rows_mask.sum()} rows retained.\")\n",
    "    return keep_rows_mask"
   ]
  },
  {
   "cell_type": "code",
   "execution_count": 61,
   "id": "4a759155",
   "metadata": {
    "execution": {
     "iopub.execute_input": "2025-07-23T14:29:33.266291Z",
     "iopub.status.busy": "2025-07-23T14:29:33.265835Z",
     "iopub.status.idle": "2025-07-23T14:29:53.345532Z",
     "shell.execute_reply": "2025-07-23T14:29:53.344402Z"
    },
    "papermill": {
     "duration": 20.111167,
     "end_time": "2025-07-23T14:29:53.347382",
     "exception": false,
     "start_time": "2025-07-23T14:29:33.236215",
     "status": "completed"
    },
    "tags": []
   },
   "outputs": [
    {
     "name": "stdout",
     "output_type": "stream",
     "text": [
      "Stopping execution_time clock.\n",
      "[INFO] Keeping all rows: 89710 rows retained.\n"
     ]
    },
    {
     "name": "stdout",
     "output_type": "stream",
     "text": [
      "[INFO] Keeping all rows: 89710 rows retained.\n"
     ]
    },
    {
     "name": "stdout",
     "output_type": "stream",
     "text": [
      "[INFO] Keeping all rows: 89710 rows retained.\n"
     ]
    },
    {
     "name": "stdout",
     "output_type": "stream",
     "text": [
      "[INFO] Keeping all rows: 89710 rows retained.\n"
     ]
    },
    {
     "data": {
      "text/html": [
       "<div>\n",
       "<style scoped>\n",
       "    .dataframe tbody tr th:only-of-type {\n",
       "        vertical-align: middle;\n",
       "    }\n",
       "\n",
       "    .dataframe tbody tr th {\n",
       "        vertical-align: top;\n",
       "    }\n",
       "\n",
       "    .dataframe thead th {\n",
       "        text-align: right;\n",
       "    }\n",
       "</style>\n",
       "<table border=\"1\" class=\"dataframe\">\n",
       "  <thead>\n",
       "    <tr style=\"text-align: right;\">\n",
       "      <th></th>\n",
       "      <th>run_no</th>\n",
       "      <th>universe_id</th>\n",
       "      <th>universe_settings</th>\n",
       "      <th>execution_time</th>\n",
       "      <th>test_size_n</th>\n",
       "      <th>test_size_frac</th>\n",
       "      <th>fair_main_equalized_odds_difference</th>\n",
       "      <th>fair_main_equalized_odds_ratio</th>\n",
       "      <th>fair_main_demographic_parity_difference</th>\n",
       "      <th>fair_main_demographic_parity_ratio</th>\n",
       "      <th>...</th>\n",
       "      <th>perf_grp_precision_0</th>\n",
       "      <th>perf_grp_precision_1</th>\n",
       "      <th>perf_grp_false positive rate_0</th>\n",
       "      <th>perf_grp_false positive rate_1</th>\n",
       "      <th>perf_grp_false negative rate_0</th>\n",
       "      <th>perf_grp_false negative rate_1</th>\n",
       "      <th>perf_grp_selection rate_0</th>\n",
       "      <th>perf_grp_selection rate_1</th>\n",
       "      <th>perf_grp_count_0</th>\n",
       "      <th>perf_grp_count_1</th>\n",
       "    </tr>\n",
       "  </thead>\n",
       "  <tbody>\n",
       "    <tr>\n",
       "      <th>0</th>\n",
       "      <td>9</td>\n",
       "      <td>0a44548818219cb72629c2cf8cd62c10</td>\n",
       "      <td>{\"cutoff\": \"quantile_0.1\", \"eval_fairness_grou...</td>\n",
       "      <td>43.957223</td>\n",
       "      <td>89710</td>\n",
       "      <td>1.0</td>\n",
       "      <td>0.061533</td>\n",
       "      <td>0.933958</td>\n",
       "      <td>0.062037</td>\n",
       "      <td>0.933978</td>\n",
       "      <td>...</td>\n",
       "      <td>NaN</td>\n",
       "      <td>NaN</td>\n",
       "      <td>NaN</td>\n",
       "      <td>NaN</td>\n",
       "      <td>NaN</td>\n",
       "      <td>NaN</td>\n",
       "      <td>NaN</td>\n",
       "      <td>NaN</td>\n",
       "      <td>NaN</td>\n",
       "      <td>NaN</td>\n",
       "    </tr>\n",
       "    <tr>\n",
       "      <th>0</th>\n",
       "      <td>9</td>\n",
       "      <td>0a44548818219cb72629c2cf8cd62c10</td>\n",
       "      <td>{\"cutoff\": \"quantile_0.1\", \"eval_fairness_grou...</td>\n",
       "      <td>43.957223</td>\n",
       "      <td>89710</td>\n",
       "      <td>1.0</td>\n",
       "      <td>0.061533</td>\n",
       "      <td>0.933958</td>\n",
       "      <td>0.062037</td>\n",
       "      <td>0.933978</td>\n",
       "      <td>...</td>\n",
       "      <td>0.122767</td>\n",
       "      <td>0.139457</td>\n",
       "      <td>0.870185</td>\n",
       "      <td>0.931717</td>\n",
       "      <td>0.065456</td>\n",
       "      <td>0.008315</td>\n",
       "      <td>0.877605</td>\n",
       "      <td>0.939641</td>\n",
       "      <td>20540.0</td>\n",
       "      <td>69170.0</td>\n",
       "    </tr>\n",
       "    <tr>\n",
       "      <th>0</th>\n",
       "      <td>9</td>\n",
       "      <td>0a44548818219cb72629c2cf8cd62c10</td>\n",
       "      <td>{\"cutoff\": \"quantile_0.25\", \"eval_fairness_gro...</td>\n",
       "      <td>43.957223</td>\n",
       "      <td>89710</td>\n",
       "      <td>1.0</td>\n",
       "      <td>0.102393</td>\n",
       "      <td>0.893723</td>\n",
       "      <td>0.075688</td>\n",
       "      <td>0.904698</td>\n",
       "      <td>...</td>\n",
       "      <td>NaN</td>\n",
       "      <td>NaN</td>\n",
       "      <td>NaN</td>\n",
       "      <td>NaN</td>\n",
       "      <td>NaN</td>\n",
       "      <td>NaN</td>\n",
       "      <td>NaN</td>\n",
       "      <td>NaN</td>\n",
       "      <td>NaN</td>\n",
       "      <td>NaN</td>\n",
       "    </tr>\n",
       "    <tr>\n",
       "      <th>0</th>\n",
       "      <td>9</td>\n",
       "      <td>0a44548818219cb72629c2cf8cd62c10</td>\n",
       "      <td>{\"cutoff\": \"quantile_0.25\", \"eval_fairness_gro...</td>\n",
       "      <td>43.957223</td>\n",
       "      <td>89710</td>\n",
       "      <td>1.0</td>\n",
       "      <td>0.102393</td>\n",
       "      <td>0.893723</td>\n",
       "      <td>0.075688</td>\n",
       "      <td>0.904698</td>\n",
       "      <td>...</td>\n",
       "      <td>0.138162</td>\n",
       "      <td>0.160301</td>\n",
       "      <td>0.699923</td>\n",
       "      <td>0.768416</td>\n",
       "      <td>0.138936</td>\n",
       "      <td>0.036543</td>\n",
       "      <td>0.718500</td>\n",
       "      <td>0.794188</td>\n",
       "      <td>20540.0</td>\n",
       "      <td>69170.0</td>\n",
       "    </tr>\n",
       "  </tbody>\n",
       "</table>\n",
       "<p>4 rows × 50 columns</p>\n",
       "</div>"
      ],
      "text/plain": [
       "  run_no                       universe_id  \\\n",
       "0      9  0a44548818219cb72629c2cf8cd62c10   \n",
       "0      9  0a44548818219cb72629c2cf8cd62c10   \n",
       "0      9  0a44548818219cb72629c2cf8cd62c10   \n",
       "0      9  0a44548818219cb72629c2cf8cd62c10   \n",
       "\n",
       "                                   universe_settings  execution_time  \\\n",
       "0  {\"cutoff\": \"quantile_0.1\", \"eval_fairness_grou...       43.957223   \n",
       "0  {\"cutoff\": \"quantile_0.1\", \"eval_fairness_grou...       43.957223   \n",
       "0  {\"cutoff\": \"quantile_0.25\", \"eval_fairness_gro...       43.957223   \n",
       "0  {\"cutoff\": \"quantile_0.25\", \"eval_fairness_gro...       43.957223   \n",
       "\n",
       "   test_size_n  test_size_frac  fair_main_equalized_odds_difference  \\\n",
       "0        89710             1.0                             0.061533   \n",
       "0        89710             1.0                             0.061533   \n",
       "0        89710             1.0                             0.102393   \n",
       "0        89710             1.0                             0.102393   \n",
       "\n",
       "   fair_main_equalized_odds_ratio  fair_main_demographic_parity_difference  \\\n",
       "0                        0.933958                                 0.062037   \n",
       "0                        0.933958                                 0.062037   \n",
       "0                        0.893723                                 0.075688   \n",
       "0                        0.893723                                 0.075688   \n",
       "\n",
       "   fair_main_demographic_parity_ratio  ...  perf_grp_precision_0  \\\n",
       "0                            0.933978  ...                   NaN   \n",
       "0                            0.933978  ...              0.122767   \n",
       "0                            0.904698  ...                   NaN   \n",
       "0                            0.904698  ...              0.138162   \n",
       "\n",
       "   perf_grp_precision_1  perf_grp_false positive rate_0  \\\n",
       "0                   NaN                             NaN   \n",
       "0              0.139457                        0.870185   \n",
       "0                   NaN                             NaN   \n",
       "0              0.160301                        0.699923   \n",
       "\n",
       "   perf_grp_false positive rate_1  perf_grp_false negative rate_0  \\\n",
       "0                             NaN                             NaN   \n",
       "0                        0.931717                        0.065456   \n",
       "0                             NaN                             NaN   \n",
       "0                        0.768416                        0.138936   \n",
       "\n",
       "   perf_grp_false negative rate_1  perf_grp_selection rate_0  \\\n",
       "0                             NaN                        NaN   \n",
       "0                        0.008315                   0.877605   \n",
       "0                             NaN                        NaN   \n",
       "0                        0.036543                   0.718500   \n",
       "\n",
       "   perf_grp_selection rate_1  perf_grp_count_0  perf_grp_count_1  \n",
       "0                        NaN               NaN               NaN  \n",
       "0                   0.939641           20540.0           69170.0  \n",
       "0                        NaN               NaN               NaN  \n",
       "0                   0.794188           20540.0           69170.0  \n",
       "\n",
       "[4 rows x 50 columns]"
      ]
     },
     "execution_count": 61,
     "metadata": {},
     "output_type": "execute_result"
    }
   ],
   "source": [
    "final_output = universe_analysis.generate_final_output(\n",
    "    y_pred_prob=probs_test,\n",
    "    y_test=y_true,\n",
    "    org_test=org_test,\n",
    "    filter_data=filter_sub_universe_data,\n",
    "    cp_metrics_df=cp_metrics_df,\n",
    "    save=True,\n",
    ")\n",
    "final_output"
   ]
  },
  {
   "cell_type": "code",
   "execution_count": null,
   "id": "721ff514-cb11-46f8-b6fc-50392f74b5cb",
   "metadata": {
    "papermill": {
     "duration": 0.02872,
     "end_time": "2025-07-23T14:29:53.418346",
     "exception": false,
     "start_time": "2025-07-23T14:29:53.389626",
     "status": "completed"
    },
    "tags": []
   },
   "outputs": [],
   "source": []
  }
 ],
 "metadata": {
  "celltoolbar": "Tags",
  "kernelspec": {
   "display_name": "Python (CMA Fairness)",
   "language": "python",
   "name": "cma_fair_env"
  },
  "language_info": {
   "codemirror_mode": {
    "name": "ipython",
    "version": 3
   },
   "file_extension": ".py",
   "mimetype": "text/x-python",
   "name": "python",
   "nbconvert_exporter": "python",
   "pygments_lexer": "ipython3",
   "version": "3.10.12"
  },
  "papermill": {
   "default_parameters": {},
   "duration": 77.294634,
   "end_time": "2025-07-23T14:29:54.378648",
   "environment_variables": {},
   "exception": null,
   "input_path": "universe_analysis.ipynb",
   "output_path": "output/runs/9/notebooks/m_9-0a44548818219cb72629c2cf8cd62c10.ipynb",
   "parameters": {
    "output_dir": "output",
    "run_no": "9",
    "seed": "2023",
    "universe": "{\"cutoff\": [\"quantile_0.1\", \"quantile_0.25\"], \"eval_fairness_grouping\": [\"majority-minority\", \"nationality-all\"], \"exclude_features\": \"nationality-sex\", \"exclude_subgroups\": \"drop-non-german\", \"model\": \"rf\", \"scale\": \"scale\"}",
    "universe_id": "0a44548818219cb72629c2cf8cd62c10"
   },
   "start_time": "2025-07-23T14:28:37.084014",
   "version": "2.6.0"
  }
 },
 "nbformat": 4,
 "nbformat_minor": 5
}