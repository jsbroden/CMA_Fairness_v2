{
 "cells": [
  {
   "cell_type": "code",
   "execution_count": 1,
   "id": "f159f837-637b-42ba-96b5-ec9a68c44524",
   "metadata": {
    "execution": {
     "iopub.execute_input": "2025-07-23T14:33:44.198895Z",
     "iopub.status.busy": "2025-07-23T14:33:44.198363Z",
     "iopub.status.idle": "2025-07-23T14:33:44.213309Z",
     "shell.execute_reply": "2025-07-23T14:33:44.211521Z"
    },
    "papermill": {
     "duration": 0.03445,
     "end_time": "2025-07-23T14:33:44.215233",
     "exception": false,
     "start_time": "2025-07-23T14:33:44.180783",
     "status": "completed"
    },
    "tags": []
   },
   "outputs": [
    {
     "name": "stdout",
     "output_type": "stream",
     "text": [
      "/dss/dsshome1/0C/ra93lal2/cma/CMA_Fairness_v2\n"
     ]
    },
    {
     "name": "stderr",
     "output_type": "stream",
     "text": [
      "/dss/dsshome1/0C/ra93lal2/.local/share/virtualenvs/CMA_Fairness_v2-3j10GkSs/lib/python3.10/site-packages/IPython/core/magics/osm.py:393: UserWarning: This is now an optional IPython functionality, using bookmarks requires you to install the `pickleshare` library.\n",
      "  bkms = self.shell.db.get('bookmarks', {})\n",
      "/dss/dsshome1/0C/ra93lal2/.local/share/virtualenvs/CMA_Fairness_v2-3j10GkSs/lib/python3.10/site-packages/IPython/core/magics/osm.py:417: UserWarning: This is now an optional IPython functionality, setting dhist requires you to install the `pickleshare` library.\n",
      "  self.shell.db['dhist'] = compress_dhist(dhist)[-100:]\n"
     ]
    }
   ],
   "source": [
    "%cd ~/cma/CMA_Fairness_v2"
   ]
  },
  {
   "cell_type": "markdown",
   "id": "de2603b9",
   "metadata": {
    "papermill": {
     "duration": 0.018652,
     "end_time": "2025-07-23T14:33:44.253244",
     "exception": false,
     "start_time": "2025-07-23T14:33:44.234592",
     "status": "completed"
    },
    "tags": []
   },
   "source": [
    "The following cell holds the definition of our parameters, these values can be overriden by rendering the with e.g. the following command:\n",
    "\n",
    "papermill -p alpha 0.2 -p ratio 0.3 universe_analysis.ipynb output/test_run.ipynb"
   ]
  },
  {
   "cell_type": "code",
   "execution_count": 2,
   "id": "a80968a0-40bb-4fa9-85ef-2d5eefb01975",
   "metadata": {
    "execution": {
     "iopub.execute_input": "2025-07-23T14:33:44.293365Z",
     "iopub.status.busy": "2025-07-23T14:33:44.292366Z",
     "iopub.status.idle": "2025-07-23T14:33:44.299033Z",
     "shell.execute_reply": "2025-07-23T14:33:44.297897Z"
    },
    "papermill": {
     "duration": 0.028496,
     "end_time": "2025-07-23T14:33:44.300805",
     "exception": false,
     "start_time": "2025-07-23T14:33:44.272309",
     "status": "completed"
    },
    "tags": []
   },
   "outputs": [
    {
     "name": "stdout",
     "output_type": "stream",
     "text": [
      "Current working directory: /dss/dsshome1/0C/ra93lal2/cma/CMA_Fairness_v2\n"
     ]
    }
   ],
   "source": [
    "import os\n",
    "print(\"Current working directory:\", os.getcwd())"
   ]
  },
  {
   "cell_type": "code",
   "execution_count": 3,
   "id": "2dce4c03",
   "metadata": {
    "execution": {
     "iopub.execute_input": "2025-07-23T14:33:44.340992Z",
     "iopub.status.busy": "2025-07-23T14:33:44.340410Z",
     "iopub.status.idle": "2025-07-23T14:33:44.346844Z",
     "shell.execute_reply": "2025-07-23T14:33:44.345873Z"
    },
    "papermill": {
     "duration": 0.028733,
     "end_time": "2025-07-23T14:33:44.348722",
     "exception": false,
     "start_time": "2025-07-23T14:33:44.319989",
     "status": "completed"
    },
    "tags": [
     "parameters"
    ]
   },
   "outputs": [],
   "source": [
    "run_no = 0\n",
    "universe_id = \"test\"\n",
    "universe = {\n",
    "    \"scale\": \"scale\", # \"scale\", \"do-not-scale\",\n",
    "    \"model\": \"elasticnet\", # \"logreg\", \"penalized_logreg\", \"rf\", \"gbm\", \"elasticnet\"\n",
    "    \"cutoff\": [\"quantile_0.15\", \"quantile_0.30\"],\n",
    "    \"exclude_features\": \"age\", # \"none\", \"nationality\", \"sex\", \"nationality-sex\", \"age\"\n",
    "    \"exclude_subgroups\": \"keep-all\", # \"keep-all\", \"drop-non-german\"\n",
    "    #\"training_sample\": \"restricted\", # \"restricted\", \"full\"\n",
    "    \"eval_fairness_grouping\": [\"majority-minority\", \"nationality-all\"]\n",
    "}\n",
    "\n",
    "output_dir=\"./output\"\n",
    "seed=0"
   ]
  },
  {
   "cell_type": "code",
   "execution_count": 4,
   "id": "ce914149",
   "metadata": {
    "execution": {
     "iopub.execute_input": "2025-07-23T14:33:44.390261Z",
     "iopub.status.busy": "2025-07-23T14:33:44.389567Z",
     "iopub.status.idle": "2025-07-23T14:33:44.395906Z",
     "shell.execute_reply": "2025-07-23T14:33:44.394630Z"
    },
    "papermill": {
     "duration": 0.029124,
     "end_time": "2025-07-23T14:33:44.397809",
     "exception": false,
     "start_time": "2025-07-23T14:33:44.368685",
     "status": "completed"
    },
    "tags": [
     "injected-parameters"
    ]
   },
   "outputs": [],
   "source": [
    "# Parameters\n",
    "universe_id = \"faf071549fe2da5d80f6703d540ac20a\"\n",
    "run_no = \"9\"\n",
    "universe = \"{\\\"cutoff\\\": [\\\"quantile_0.1\\\", \\\"quantile_0.25\\\"], \\\"eval_fairness_grouping\\\": [\\\"majority-minority\\\", \\\"nationality-all\\\"], \\\"exclude_features\\\": \\\"age\\\", \\\"exclude_subgroups\\\": \\\"keep-all\\\", \\\"model\\\": \\\"elasticnet\\\", \\\"scale\\\": \\\"scale\\\"}\"\n",
    "output_dir = \"output\"\n",
    "seed = \"2023\"\n"
   ]
  },
  {
   "cell_type": "code",
   "execution_count": 5,
   "id": "1650acaf",
   "metadata": {
    "execution": {
     "iopub.execute_input": "2025-07-23T14:33:44.438897Z",
     "iopub.status.busy": "2025-07-23T14:33:44.438212Z",
     "iopub.status.idle": "2025-07-23T14:33:44.444031Z",
     "shell.execute_reply": "2025-07-23T14:33:44.443046Z"
    },
    "papermill": {
     "duration": 0.028039,
     "end_time": "2025-07-23T14:33:44.445886",
     "exception": false,
     "start_time": "2025-07-23T14:33:44.417847",
     "status": "completed"
    },
    "tags": []
   },
   "outputs": [],
   "source": [
    "import json\n",
    "# Parse universe into dict if it is passed as a string\n",
    "if isinstance(universe, str):\n",
    "    universe = json.loads(universe)"
   ]
  },
  {
   "cell_type": "code",
   "execution_count": 6,
   "id": "16620c48",
   "metadata": {
    "execution": {
     "iopub.execute_input": "2025-07-23T14:33:44.486116Z",
     "iopub.status.busy": "2025-07-23T14:33:44.485443Z",
     "iopub.status.idle": "2025-07-23T14:33:44.532410Z",
     "shell.execute_reply": "2025-07-23T14:33:44.531453Z"
    },
    "papermill": {
     "duration": 0.068959,
     "end_time": "2025-07-23T14:33:44.534371",
     "exception": false,
     "start_time": "2025-07-23T14:33:44.465412",
     "status": "completed"
    },
    "tags": []
   },
   "outputs": [],
   "source": [
    "# Auto-reload the custom package\n",
    "%load_ext autoreload\n",
    "%autoreload 1\n",
    "%aimport fairness_multiverse"
   ]
  },
  {
   "cell_type": "code",
   "execution_count": 7,
   "id": "01c5c9f3",
   "metadata": {
    "execution": {
     "iopub.execute_input": "2025-07-23T14:33:44.575334Z",
     "iopub.status.busy": "2025-07-23T14:33:44.574649Z",
     "iopub.status.idle": "2025-07-23T14:33:46.559108Z",
     "shell.execute_reply": "2025-07-23T14:33:46.558279Z"
    },
    "papermill": {
     "duration": 2.006375,
     "end_time": "2025-07-23T14:33:46.560722",
     "exception": false,
     "start_time": "2025-07-23T14:33:44.554347",
     "status": "completed"
    },
    "tags": []
   },
   "outputs": [],
   "source": [
    "from fairness_multiverse.universe import UniverseAnalysis\n",
    "\n",
    "universe_analysis = UniverseAnalysis(\n",
    "    run_no = run_no,\n",
    "    universe_id = universe_id,\n",
    "    universe = universe,\n",
    "    output_dir=output_dir,\n",
    ")"
   ]
  },
  {
   "cell_type": "code",
   "execution_count": 8,
   "id": "106241f5",
   "metadata": {
    "execution": {
     "iopub.execute_input": "2025-07-23T14:33:46.581827Z",
     "iopub.status.busy": "2025-07-23T14:33:46.581283Z",
     "iopub.status.idle": "2025-07-23T14:33:46.588328Z",
     "shell.execute_reply": "2025-07-23T14:33:46.587473Z"
    },
    "papermill": {
     "duration": 0.019261,
     "end_time": "2025-07-23T14:33:46.589744",
     "exception": false,
     "start_time": "2025-07-23T14:33:46.570483",
     "status": "completed"
    },
    "tags": []
   },
   "outputs": [
    {
     "name": "stdout",
     "output_type": "stream",
     "text": [
      "Using Seed: 2023\n"
     ]
    }
   ],
   "source": [
    "import numpy as np\n",
    "parsed_seed = int(seed)\n",
    "np.random.seed(parsed_seed)\n",
    "print(f\"Using Seed: {parsed_seed}\")"
   ]
  },
  {
   "cell_type": "markdown",
   "id": "e0ebdc57",
   "metadata": {
    "papermill": {
     "duration": 0.009449,
     "end_time": "2025-07-23T14:33:46.609279",
     "exception": false,
     "start_time": "2025-07-23T14:33:46.599830",
     "status": "completed"
    },
    "tags": []
   },
   "source": [
    "# Loading Data"
   ]
  },
  {
   "cell_type": "markdown",
   "id": "681925a3",
   "metadata": {
    "papermill": {
     "duration": 0.009559,
     "end_time": "2025-07-23T14:33:46.628825",
     "exception": false,
     "start_time": "2025-07-23T14:33:46.619266",
     "status": "completed"
    },
    "tags": []
   },
   "source": [
    "Load siab_train, siab_test, siab_calib and/or \n",
    "load siab_train_features, siab_train_labels"
   ]
  },
  {
   "cell_type": "code",
   "execution_count": 9,
   "id": "f0496b8a",
   "metadata": {
    "execution": {
     "iopub.execute_input": "2025-07-23T14:33:46.649447Z",
     "iopub.status.busy": "2025-07-23T14:33:46.648891Z",
     "iopub.status.idle": "2025-07-23T14:33:46.653920Z",
     "shell.execute_reply": "2025-07-23T14:33:46.653091Z"
    },
    "papermill": {
     "duration": 0.017114,
     "end_time": "2025-07-23T14:33:46.655387",
     "exception": false,
     "start_time": "2025-07-23T14:33:46.638273",
     "status": "completed"
    },
    "tags": []
   },
   "outputs": [],
   "source": [
    "# Do I need to load siab? Delete this cell?\n",
    "\n",
    "#from pathlib import Path\n",
    "#import pandas as pd\n",
    "#\n",
    "## File paths\n",
    "#raw_file = Path(\"data/raw/siab.csv\")\n",
    "#cache_file = Path(\"data/siab_cached.csv.gz\")\n",
    "#\n",
    "## Ensure cache directory exists\n",
    "#cache_file.parent.mkdir(parents=True, exist_ok=True)\n",
    "#\n",
    "## Load with simple caching\n",
    "#if cache_file.exists():\n",
    "#    print(f\"Loading SIAB data from cache: {cache_file}\")\n",
    "#    siab = pd.read_csv(cache_file, compression='gzip')\n",
    "#else:\n",
    "#    print(f\"Cache not found. Reading raw SIAB data: {raw_file}\")\n",
    "#    siab = pd.read_csv(raw_file)\n",
    "#    siab.to_csv(cache_file, index=False, compression='gzip')\n",
    "#    print(f\"Cached SIAB data to: {cache_file}\")\n",
    "#\n",
    "## Now use `siab` DataFrame as needed\n",
    "#print(siab.shape)\n"
   ]
  },
  {
   "cell_type": "code",
   "execution_count": 10,
   "id": "a0edb063",
   "metadata": {
    "execution": {
     "iopub.execute_input": "2025-07-23T14:33:46.676797Z",
     "iopub.status.busy": "2025-07-23T14:33:46.676231Z",
     "iopub.status.idle": "2025-07-23T14:33:47.763751Z",
     "shell.execute_reply": "2025-07-23T14:33:47.762753Z"
    },
    "papermill": {
     "duration": 1.100033,
     "end_time": "2025-07-23T14:33:47.765782",
     "exception": false,
     "start_time": "2025-07-23T14:33:46.665749",
     "status": "completed"
    },
    "tags": []
   },
   "outputs": [],
   "source": [
    "import pandas as pd\n",
    "\n",
    "X_train = pd.read_csv(\"./data/X_train.csv\")\n",
    "y_train = pd.read_csv(\"./data/y_train.csv\")"
   ]
  },
  {
   "cell_type": "code",
   "execution_count": 11,
   "id": "63d08085",
   "metadata": {
    "execution": {
     "iopub.execute_input": "2025-07-23T14:33:47.803137Z",
     "iopub.status.busy": "2025-07-23T14:33:47.802390Z",
     "iopub.status.idle": "2025-07-23T14:33:49.222545Z",
     "shell.execute_reply": "2025-07-23T14:33:49.221451Z"
    },
    "papermill": {
     "duration": 1.441037,
     "end_time": "2025-07-23T14:33:49.224481",
     "exception": false,
     "start_time": "2025-07-23T14:33:47.783444",
     "status": "completed"
    },
    "tags": []
   },
   "outputs": [],
   "source": [
    "X_test = pd.read_csv(\"./data/X_test.csv\")\n",
    "y_true = pd.read_csv(\"./data/y_test.csv\")"
   ]
  },
  {
   "cell_type": "code",
   "execution_count": 12,
   "id": "98a8d0fa-1d3d-4ed8-bb2c-281470e24add",
   "metadata": {
    "execution": {
     "iopub.execute_input": "2025-07-23T14:33:49.270263Z",
     "iopub.status.busy": "2025-07-23T14:33:49.269336Z",
     "iopub.status.idle": "2025-07-23T14:33:50.582812Z",
     "shell.execute_reply": "2025-07-23T14:33:50.581918Z"
    },
    "papermill": {
     "duration": 1.33348,
     "end_time": "2025-07-23T14:33:50.585111",
     "exception": false,
     "start_time": "2025-07-23T14:33:49.251631",
     "status": "completed"
    },
    "tags": []
   },
   "outputs": [],
   "source": [
    "# Calibration data for conformal\n",
    "X_calib = pd.read_csv(\"./data/X_calib.csv\")\n",
    "y_calib = pd.read_csv(\"./data/y_calib.csv\")"
   ]
  },
  {
   "cell_type": "code",
   "execution_count": 13,
   "id": "e6c733c5",
   "metadata": {
    "execution": {
     "iopub.execute_input": "2025-07-23T14:33:50.606365Z",
     "iopub.status.busy": "2025-07-23T14:33:50.605987Z",
     "iopub.status.idle": "2025-07-23T14:33:50.728412Z",
     "shell.execute_reply": "2025-07-23T14:33:50.727385Z"
    },
    "papermill": {
     "duration": 0.13878,
     "end_time": "2025-07-23T14:33:50.734012",
     "exception": false,
     "start_time": "2025-07-23T14:33:50.595232",
     "status": "completed"
    },
    "tags": []
   },
   "outputs": [],
   "source": [
    "# Auxiliary data needed downstream in the pipeline\n",
    "\n",
    "org_train = X_train.copy()\n",
    "org_test = X_test.copy()\n",
    "org_calib = X_calib.copy()"
   ]
  },
  {
   "cell_type": "markdown",
   "id": "0a4a1b33",
   "metadata": {
    "papermill": {
     "duration": 0.018836,
     "end_time": "2025-07-23T14:33:50.772450",
     "exception": false,
     "start_time": "2025-07-23T14:33:50.753614",
     "status": "completed"
    },
    "tags": []
   },
   "source": [
    "# Preprocessing Data"
   ]
  },
  {
   "cell_type": "code",
   "execution_count": 14,
   "id": "ca879031",
   "metadata": {
    "execution": {
     "iopub.execute_input": "2025-07-23T14:33:50.796548Z",
     "iopub.status.busy": "2025-07-23T14:33:50.796132Z",
     "iopub.status.idle": "2025-07-23T14:33:50.802883Z",
     "shell.execute_reply": "2025-07-23T14:33:50.801825Z"
    },
    "papermill": {
     "duration": 0.019702,
     "end_time": "2025-07-23T14:33:50.804786",
     "exception": false,
     "start_time": "2025-07-23T14:33:50.785084",
     "status": "completed"
    },
    "tags": []
   },
   "outputs": [],
   "source": [
    "# EXCLUDE PROTECTED FEATURES\n",
    "# ----------------------\n",
    "# \"exclude_features\": \"none\", # \"nationality\", \"sex\", \"nationality-sex\"\n",
    "\n",
    "excluded_features = universe[\"exclude_features\"].split(\"-\") # split, e.g.: \"nationality-sex\" -> [\"nationality\", \"sex\"]\n",
    "excluded_features_dictionary = {\n",
    "    \"nationality\": [\"maxdeutsch1\", \"maxdeutsch.Missing.\"],\n",
    "    \"sex\": [\"frau1\"],\n",
    "    \"age\": [\"age\"],\n",
    "}\n"
   ]
  },
  {
   "cell_type": "code",
   "execution_count": 15,
   "id": "b745ac60",
   "metadata": {
    "execution": {
     "iopub.execute_input": "2025-07-23T14:33:50.846223Z",
     "iopub.status.busy": "2025-07-23T14:33:50.845564Z",
     "iopub.status.idle": "2025-07-23T14:33:50.851587Z",
     "shell.execute_reply": "2025-07-23T14:33:50.850488Z"
    },
    "papermill": {
     "duration": 0.02833,
     "end_time": "2025-07-23T14:33:50.853396",
     "exception": false,
     "start_time": "2025-07-23T14:33:50.825066",
     "status": "completed"
    },
    "tags": []
   },
   "outputs": [],
   "source": [
    "# Code nice names to column names\n",
    "\n",
    "excluded_features_columns = [\n",
    "    excluded_features_dictionary[f] for f in excluded_features if len(f) > 0 and f != \"none\"\n",
    "]"
   ]
  },
  {
   "cell_type": "code",
   "execution_count": 16,
   "id": "f84f73a2",
   "metadata": {
    "execution": {
     "iopub.execute_input": "2025-07-23T14:33:50.894900Z",
     "iopub.status.busy": "2025-07-23T14:33:50.894214Z",
     "iopub.status.idle": "2025-07-23T14:33:50.901243Z",
     "shell.execute_reply": "2025-07-23T14:33:50.900168Z"
    },
    "papermill": {
     "duration": 0.029654,
     "end_time": "2025-07-23T14:33:50.903021",
     "exception": false,
     "start_time": "2025-07-23T14:33:50.873367",
     "status": "completed"
    },
    "tags": []
   },
   "outputs": [],
   "source": [
    "from utils import flatten_once\n",
    "\n",
    "excluded_features_columns = flatten_once(excluded_features_columns)"
   ]
  },
  {
   "cell_type": "code",
   "execution_count": 17,
   "id": "884dea22",
   "metadata": {
    "execution": {
     "iopub.execute_input": "2025-07-23T14:33:50.945401Z",
     "iopub.status.busy": "2025-07-23T14:33:50.944722Z",
     "iopub.status.idle": "2025-07-23T14:33:50.992655Z",
     "shell.execute_reply": "2025-07-23T14:33:50.991538Z"
    },
    "papermill": {
     "duration": 0.070731,
     "end_time": "2025-07-23T14:33:50.994711",
     "exception": false,
     "start_time": "2025-07-23T14:33:50.923980",
     "status": "completed"
    },
    "tags": []
   },
   "outputs": [
    {
     "name": "stdout",
     "output_type": "stream",
     "text": [
      "Dropping features: ['age']\n"
     ]
    }
   ],
   "source": [
    "if len(excluded_features_columns) > 0:\n",
    "    print(f\"Dropping features: {excluded_features_columns}\")\n",
    "    X_train.drop(excluded_features_columns, axis=1, inplace=True)"
   ]
  },
  {
   "cell_type": "code",
   "execution_count": 18,
   "id": "95ab8b16",
   "metadata": {
    "execution": {
     "iopub.execute_input": "2025-07-23T14:33:51.037054Z",
     "iopub.status.busy": "2025-07-23T14:33:51.036352Z",
     "iopub.status.idle": "2025-07-23T14:33:51.091588Z",
     "shell.execute_reply": "2025-07-23T14:33:51.090540Z"
    },
    "papermill": {
     "duration": 0.078123,
     "end_time": "2025-07-23T14:33:51.093578",
     "exception": false,
     "start_time": "2025-07-23T14:33:51.015455",
     "status": "completed"
    },
    "tags": []
   },
   "outputs": [
    {
     "name": "stdout",
     "output_type": "stream",
     "text": [
      "Dropping features: ['age']\n"
     ]
    }
   ],
   "source": [
    "if len(excluded_features_columns) > 0:\n",
    "    print(f\"Dropping features: {excluded_features_columns}\")\n",
    "    X_test.drop(excluded_features_columns, axis=1, inplace=True)"
   ]
  },
  {
   "cell_type": "code",
   "execution_count": 19,
   "id": "1853aaf5-fb9f-46cb-a2b5-8ea4ae2237e4",
   "metadata": {
    "execution": {
     "iopub.execute_input": "2025-07-23T14:33:51.136337Z",
     "iopub.status.busy": "2025-07-23T14:33:51.135644Z",
     "iopub.status.idle": "2025-07-23T14:33:51.188675Z",
     "shell.execute_reply": "2025-07-23T14:33:51.187470Z"
    },
    "papermill": {
     "duration": 0.077409,
     "end_time": "2025-07-23T14:33:51.191789",
     "exception": false,
     "start_time": "2025-07-23T14:33:51.114380",
     "status": "completed"
    },
    "tags": []
   },
   "outputs": [
    {
     "name": "stdout",
     "output_type": "stream",
     "text": [
      "Dropping features: ['age']\n"
     ]
    }
   ],
   "source": [
    "if len(excluded_features_columns) > 0:\n",
    "    print(f\"Dropping features: {excluded_features_columns}\")\n",
    "    X_calib.drop(excluded_features_columns, axis=1, inplace=True)"
   ]
  },
  {
   "cell_type": "code",
   "execution_count": 20,
   "id": "76c4dc6d",
   "metadata": {
    "execution": {
     "iopub.execute_input": "2025-07-23T14:33:51.234995Z",
     "iopub.status.busy": "2025-07-23T14:33:51.234322Z",
     "iopub.status.idle": "2025-07-23T14:33:51.240243Z",
     "shell.execute_reply": "2025-07-23T14:33:51.239133Z"
    },
    "papermill": {
     "duration": 0.029122,
     "end_time": "2025-07-23T14:33:51.242128",
     "exception": false,
     "start_time": "2025-07-23T14:33:51.213006",
     "status": "completed"
    },
    "tags": []
   },
   "outputs": [],
   "source": [
    "# EXCLUDE CERTAIN SUBGROUPS\n",
    "# ----------------------\n",
    "\n",
    "mode = universe.get(\"exclude_subgroups\", \"keep-all\") \n",
    "# Fetches the exclude_subgroups setting from the universe dict.\n",
    "# Defaults to \"keep-all\" if the key is missing."
   ]
  },
  {
   "cell_type": "code",
   "execution_count": 21,
   "id": "21994072",
   "metadata": {
    "execution": {
     "iopub.execute_input": "2025-07-23T14:33:51.284692Z",
     "iopub.status.busy": "2025-07-23T14:33:51.284013Z",
     "iopub.status.idle": "2025-07-23T14:33:51.296466Z",
     "shell.execute_reply": "2025-07-23T14:33:51.295372Z"
    },
    "papermill": {
     "duration": 0.048348,
     "end_time": "2025-07-23T14:33:51.311061",
     "exception": false,
     "start_time": "2025-07-23T14:33:51.262713",
     "status": "completed"
    },
    "tags": []
   },
   "outputs": [],
   "source": [
    "if mode == \"keep-all\":\n",
    "    keep_mask = pd.Series(True, index=org_train.index)\n",
    "\n",
    "# org_train contains the original feature columns from features_org (in Simson)\n",
    "# features_org contains unprocessed features, for me X_train at beginning ???\n",
    "# For keep-all, creates a boolean Series (keep_mask) of all True, so no rows are removed.\n",
    "\n",
    "elif mode == \"drop-non-german\":\n",
    "    keep_mask = org_train[\"maxdeutsch1\"] == 1 # ??? what about missing values?\n",
    "\n",
    "else:\n",
    "    raise ValueError(f\"Unsupported mode for exclude_subgroups: {mode}\")\n"
   ]
  },
  {
   "cell_type": "code",
   "execution_count": 22,
   "id": "71651440",
   "metadata": {
    "execution": {
     "iopub.execute_input": "2025-07-23T14:33:51.356254Z",
     "iopub.status.busy": "2025-07-23T14:33:51.355732Z",
     "iopub.status.idle": "2025-07-23T14:33:51.362960Z",
     "shell.execute_reply": "2025-07-23T14:33:51.361908Z"
    },
    "papermill": {
     "duration": 0.02889,
     "end_time": "2025-07-23T14:33:51.364720",
     "exception": false,
     "start_time": "2025-07-23T14:33:51.335830",
     "status": "completed"
    },
    "tags": []
   },
   "outputs": [],
   "source": [
    "n_drop = (~keep_mask).sum() # Calculates how many rows are set to be dropped\n",
    "if n_drop > 0:\n",
    "    pct = n_drop / len(keep_mask) * 100\n",
    "    print(f\"Dropping {n_drop} rows ({pct:.2f}%) where mode='{mode}'\")"
   ]
  },
  {
   "cell_type": "code",
   "execution_count": 23,
   "id": "5fb8eee5",
   "metadata": {
    "execution": {
     "iopub.execute_input": "2025-07-23T14:33:51.401676Z",
     "iopub.status.busy": "2025-07-23T14:33:51.401117Z",
     "iopub.status.idle": "2025-07-23T14:33:51.455433Z",
     "shell.execute_reply": "2025-07-23T14:33:51.454348Z"
    },
    "papermill": {
     "duration": 0.075283,
     "end_time": "2025-07-23T14:33:51.457892",
     "exception": false,
     "start_time": "2025-07-23T14:33:51.382609",
     "status": "completed"
    },
    "tags": []
   },
   "outputs": [],
   "source": [
    "X_train = X_train[keep_mask]"
   ]
  },
  {
   "cell_type": "code",
   "execution_count": 24,
   "id": "b202bb3a",
   "metadata": {
    "execution": {
     "iopub.execute_input": "2025-07-23T14:33:51.502006Z",
     "iopub.status.busy": "2025-07-23T14:33:51.501316Z",
     "iopub.status.idle": "2025-07-23T14:33:51.510561Z",
     "shell.execute_reply": "2025-07-23T14:33:51.509541Z"
    },
    "papermill": {
     "duration": 0.03267,
     "end_time": "2025-07-23T14:33:51.512308",
     "exception": false,
     "start_time": "2025-07-23T14:33:51.479638",
     "status": "completed"
    },
    "tags": []
   },
   "outputs": [],
   "source": [
    "y_train = y_train[keep_mask]"
   ]
  },
  {
   "cell_type": "markdown",
   "id": "493e2ac3",
   "metadata": {
    "papermill": {
     "duration": 0.017802,
     "end_time": "2025-07-23T14:33:51.548271",
     "exception": false,
     "start_time": "2025-07-23T14:33:51.530469",
     "status": "completed"
    },
    "tags": []
   },
   "source": [
    "# Model Training"
   ]
  },
  {
   "cell_type": "code",
   "execution_count": 25,
   "id": "679e1268",
   "metadata": {
    "execution": {
     "iopub.execute_input": "2025-07-23T14:33:51.586122Z",
     "iopub.status.busy": "2025-07-23T14:33:51.585243Z",
     "iopub.status.idle": "2025-07-23T14:33:51.698400Z",
     "shell.execute_reply": "2025-07-23T14:33:51.697373Z"
    },
    "papermill": {
     "duration": 0.1344,
     "end_time": "2025-07-23T14:33:51.700582",
     "exception": false,
     "start_time": "2025-07-23T14:33:51.566182",
     "status": "completed"
    },
    "tags": []
   },
   "outputs": [],
   "source": [
    "from sklearn.linear_model import LogisticRegression\n",
    "from sklearn.ensemble import GradientBoostingClassifier, RandomForestClassifier\n",
    "\n",
    "if (universe[\"model\"] == \"logreg\"):\n",
    "    model = LogisticRegression() #penalty=\"none\") #, solver=\"newton-cg\", max_iter=1) # include random_state=19 ?\n",
    "elif (universe[\"model\"] == \"penalized_logreg\"):\n",
    "    model = LogisticRegression(penalty=\"l2\", C=1.0) #, solver=\"newton-cg\", max_iter=1)\n",
    "elif (universe[\"model\"] == \"rf\"):\n",
    "    model = RandomForestClassifier(n_estimators=100, n_jobs=-1)\n",
    "elif (universe[\"model\"] == \"gbm\"):\n",
    "    model = GradientBoostingClassifier()\n",
    "elif (universe[\"model\"] == \"elasticnet\"):\n",
    "    model = LogisticRegression(penalty = 'elasticnet', solver = 'saga', l1_ratio = 0.5, max_iter=5000) # which solver to use?\n",
    "else:\n",
    "    raise \"Unsupported universe.model\""
   ]
  },
  {
   "cell_type": "code",
   "execution_count": 26,
   "id": "0cc8f744",
   "metadata": {
    "execution": {
     "iopub.execute_input": "2025-07-23T14:33:51.744722Z",
     "iopub.status.busy": "2025-07-23T14:33:51.743977Z",
     "iopub.status.idle": "2025-07-23T14:33:51.751117Z",
     "shell.execute_reply": "2025-07-23T14:33:51.750089Z"
    },
    "papermill": {
     "duration": 0.031071,
     "end_time": "2025-07-23T14:33:51.753049",
     "exception": false,
     "start_time": "2025-07-23T14:33:51.721978",
     "status": "completed"
    },
    "tags": []
   },
   "outputs": [],
   "source": [
    "import numpy as np\n",
    "from sklearn.pipeline import Pipeline\n",
    "from sklearn.preprocessing import StandardScaler\n",
    "\n",
    "model = Pipeline([\n",
    "    #(\"continuous_processor\", continuous_processor),\n",
    "    #(\"categorical_preprocessor\", categorical_preprocessor),\n",
    "    (\"scale\", StandardScaler() if universe[\"scale\"] == \"scale\" else None), \n",
    "    (\"model\", model),\n",
    "])"
   ]
  },
  {
   "cell_type": "code",
   "execution_count": 27,
   "id": "9442c04d",
   "metadata": {
    "execution": {
     "iopub.execute_input": "2025-07-23T14:33:51.797076Z",
     "iopub.status.busy": "2025-07-23T14:33:51.796329Z",
     "iopub.status.idle": "2025-07-23T14:34:24.225022Z",
     "shell.execute_reply": "2025-07-23T14:34:24.223840Z"
    },
    "papermill": {
     "duration": 32.479976,
     "end_time": "2025-07-23T14:34:24.254443",
     "exception": false,
     "start_time": "2025-07-23T14:33:51.774467",
     "status": "completed"
    },
    "tags": []
   },
   "outputs": [
    {
     "data": {
      "text/html": [
       "<style>#sk-container-id-1 {color: black;background-color: white;}#sk-container-id-1 pre{padding: 0;}#sk-container-id-1 div.sk-toggleable {background-color: white;}#sk-container-id-1 label.sk-toggleable__label {cursor: pointer;display: block;width: 100%;margin-bottom: 0;padding: 0.3em;box-sizing: border-box;text-align: center;}#sk-container-id-1 label.sk-toggleable__label-arrow:before {content: \"▸\";float: left;margin-right: 0.25em;color: #696969;}#sk-container-id-1 label.sk-toggleable__label-arrow:hover:before {color: black;}#sk-container-id-1 div.sk-estimator:hover label.sk-toggleable__label-arrow:before {color: black;}#sk-container-id-1 div.sk-toggleable__content {max-height: 0;max-width: 0;overflow: hidden;text-align: left;background-color: #f0f8ff;}#sk-container-id-1 div.sk-toggleable__content pre {margin: 0.2em;color: black;border-radius: 0.25em;background-color: #f0f8ff;}#sk-container-id-1 input.sk-toggleable__control:checked~div.sk-toggleable__content {max-height: 200px;max-width: 100%;overflow: auto;}#sk-container-id-1 input.sk-toggleable__control:checked~label.sk-toggleable__label-arrow:before {content: \"▾\";}#sk-container-id-1 div.sk-estimator input.sk-toggleable__control:checked~label.sk-toggleable__label {background-color: #d4ebff;}#sk-container-id-1 div.sk-label input.sk-toggleable__control:checked~label.sk-toggleable__label {background-color: #d4ebff;}#sk-container-id-1 input.sk-hidden--visually {border: 0;clip: rect(1px 1px 1px 1px);clip: rect(1px, 1px, 1px, 1px);height: 1px;margin: -1px;overflow: hidden;padding: 0;position: absolute;width: 1px;}#sk-container-id-1 div.sk-estimator {font-family: monospace;background-color: #f0f8ff;border: 1px dotted black;border-radius: 0.25em;box-sizing: border-box;margin-bottom: 0.5em;}#sk-container-id-1 div.sk-estimator:hover {background-color: #d4ebff;}#sk-container-id-1 div.sk-parallel-item::after {content: \"\";width: 100%;border-bottom: 1px solid gray;flex-grow: 1;}#sk-container-id-1 div.sk-label:hover label.sk-toggleable__label {background-color: #d4ebff;}#sk-container-id-1 div.sk-serial::before {content: \"\";position: absolute;border-left: 1px solid gray;box-sizing: border-box;top: 0;bottom: 0;left: 50%;z-index: 0;}#sk-container-id-1 div.sk-serial {display: flex;flex-direction: column;align-items: center;background-color: white;padding-right: 0.2em;padding-left: 0.2em;position: relative;}#sk-container-id-1 div.sk-item {position: relative;z-index: 1;}#sk-container-id-1 div.sk-parallel {display: flex;align-items: stretch;justify-content: center;background-color: white;position: relative;}#sk-container-id-1 div.sk-item::before, #sk-container-id-1 div.sk-parallel-item::before {content: \"\";position: absolute;border-left: 1px solid gray;box-sizing: border-box;top: 0;bottom: 0;left: 50%;z-index: -1;}#sk-container-id-1 div.sk-parallel-item {display: flex;flex-direction: column;z-index: 1;position: relative;background-color: white;}#sk-container-id-1 div.sk-parallel-item:first-child::after {align-self: flex-end;width: 50%;}#sk-container-id-1 div.sk-parallel-item:last-child::after {align-self: flex-start;width: 50%;}#sk-container-id-1 div.sk-parallel-item:only-child::after {width: 0;}#sk-container-id-1 div.sk-dashed-wrapped {border: 1px dashed gray;margin: 0 0.4em 0.5em 0.4em;box-sizing: border-box;padding-bottom: 0.4em;background-color: white;}#sk-container-id-1 div.sk-label label {font-family: monospace;font-weight: bold;display: inline-block;line-height: 1.2em;}#sk-container-id-1 div.sk-label-container {text-align: center;}#sk-container-id-1 div.sk-container {/* jupyter's `normalize.less` sets `[hidden] { display: none; }` but bootstrap.min.css set `[hidden] { display: none !important; }` so we also need the `!important` here to be able to override the default hidden behavior on the sphinx rendered scikit-learn.org. See: https://github.com/scikit-learn/scikit-learn/issues/21755 */display: inline-block !important;position: relative;}#sk-container-id-1 div.sk-text-repr-fallback {display: none;}</style><div id=\"sk-container-id-1\" class=\"sk-top-container\"><div class=\"sk-text-repr-fallback\"><pre>Pipeline(steps=[(&#x27;scale&#x27;, StandardScaler()),\n",
       "                (&#x27;model&#x27;,\n",
       "                 LogisticRegression(l1_ratio=0.5, max_iter=5000,\n",
       "                                    penalty=&#x27;elasticnet&#x27;, solver=&#x27;saga&#x27;))])</pre><b>In a Jupyter environment, please rerun this cell to show the HTML representation or trust the notebook. <br />On GitHub, the HTML representation is unable to render, please try loading this page with nbviewer.org.</b></div><div class=\"sk-container\" hidden><div class=\"sk-item sk-dashed-wrapped\"><div class=\"sk-label-container\"><div class=\"sk-label sk-toggleable\"><input class=\"sk-toggleable__control sk-hidden--visually\" id=\"sk-estimator-id-1\" type=\"checkbox\" ><label for=\"sk-estimator-id-1\" class=\"sk-toggleable__label sk-toggleable__label-arrow\">Pipeline</label><div class=\"sk-toggleable__content\"><pre>Pipeline(steps=[(&#x27;scale&#x27;, StandardScaler()),\n",
       "                (&#x27;model&#x27;,\n",
       "                 LogisticRegression(l1_ratio=0.5, max_iter=5000,\n",
       "                                    penalty=&#x27;elasticnet&#x27;, solver=&#x27;saga&#x27;))])</pre></div></div></div><div class=\"sk-serial\"><div class=\"sk-item\"><div class=\"sk-estimator sk-toggleable\"><input class=\"sk-toggleable__control sk-hidden--visually\" id=\"sk-estimator-id-2\" type=\"checkbox\" ><label for=\"sk-estimator-id-2\" class=\"sk-toggleable__label sk-toggleable__label-arrow\">StandardScaler</label><div class=\"sk-toggleable__content\"><pre>StandardScaler()</pre></div></div></div><div class=\"sk-item\"><div class=\"sk-estimator sk-toggleable\"><input class=\"sk-toggleable__control sk-hidden--visually\" id=\"sk-estimator-id-3\" type=\"checkbox\" ><label for=\"sk-estimator-id-3\" class=\"sk-toggleable__label sk-toggleable__label-arrow\">LogisticRegression</label><div class=\"sk-toggleable__content\"><pre>LogisticRegression(l1_ratio=0.5, max_iter=5000, penalty=&#x27;elasticnet&#x27;,\n",
       "                   solver=&#x27;saga&#x27;)</pre></div></div></div></div></div></div></div>"
      ],
      "text/plain": [
       "Pipeline(steps=[('scale', StandardScaler()),\n",
       "                ('model',\n",
       "                 LogisticRegression(l1_ratio=0.5, max_iter=5000,\n",
       "                                    penalty='elasticnet', solver='saga'))])"
      ]
     },
     "execution_count": 27,
     "metadata": {},
     "output_type": "execute_result"
    }
   ],
   "source": [
    "model.fit(X_train, y_train.values.ravel())"
   ]
  },
  {
   "cell_type": "code",
   "execution_count": 28,
   "id": "af59f8c0",
   "metadata": {
    "execution": {
     "iopub.execute_input": "2025-07-23T14:34:24.294417Z",
     "iopub.status.busy": "2025-07-23T14:34:24.293842Z",
     "iopub.status.idle": "2025-07-23T14:34:24.300211Z",
     "shell.execute_reply": "2025-07-23T14:34:24.299138Z"
    },
    "papermill": {
     "duration": 0.0279,
     "end_time": "2025-07-23T14:34:24.301982",
     "exception": false,
     "start_time": "2025-07-23T14:34:24.274082",
     "status": "completed"
    },
    "tags": []
   },
   "outputs": [],
   "source": [
    "from fairness_multiverse.universe import predict_w_threshold"
   ]
  },
  {
   "cell_type": "code",
   "execution_count": 29,
   "id": "a7cf2e16",
   "metadata": {
    "execution": {
     "iopub.execute_input": "2025-07-23T14:34:24.341826Z",
     "iopub.status.busy": "2025-07-23T14:34:24.341312Z",
     "iopub.status.idle": "2025-07-23T14:34:24.551775Z",
     "shell.execute_reply": "2025-07-23T14:34:24.550917Z"
    },
    "papermill": {
     "duration": 0.231766,
     "end_time": "2025-07-23T14:34:24.553516",
     "exception": false,
     "start_time": "2025-07-23T14:34:24.321750",
     "status": "completed"
    },
    "tags": []
   },
   "outputs": [
    {
     "data": {
      "text/plain": [
       "0.8599264296065099"
      ]
     },
     "execution_count": 29,
     "metadata": {},
     "output_type": "execute_result"
    }
   ],
   "source": [
    "probs_test = model.predict_proba(X_test)\n",
    "\n",
    "'''\n",
    "Below code returns a boolean array (or binary 0/1 array depending on how it’s used) where each element \n",
    "is True if the probability of class 1 is greater than or equal to the threshold, and False otherwise.\n",
    "'''\n",
    "y_pred_default = predict_w_threshold(probs_test, 0.5)\n",
    "\n",
    "from sklearn.metrics import accuracy_score\n",
    "\n",
    "# Naive prediction\n",
    "accuracy_score(y_true = y_true, y_pred = y_pred_default)"
   ]
  },
  {
   "cell_type": "code",
   "execution_count": 30,
   "id": "081964c3",
   "metadata": {
    "execution": {
     "iopub.execute_input": "2025-07-23T14:34:24.595861Z",
     "iopub.status.busy": "2025-07-23T14:34:24.595385Z",
     "iopub.status.idle": "2025-07-23T14:34:24.784383Z",
     "shell.execute_reply": "2025-07-23T14:34:24.783483Z"
    },
    "papermill": {
     "duration": 0.211528,
     "end_time": "2025-07-23T14:34:24.786146",
     "exception": false,
     "start_time": "2025-07-23T14:34:24.574618",
     "status": "completed"
    },
    "tags": []
   },
   "outputs": [
    {
     "data": {
      "text/plain": [
       "array([0, 0, 0, ..., 0, 0, 0])"
      ]
     },
     "execution_count": 30,
     "metadata": {},
     "output_type": "execute_result"
    }
   ],
   "source": [
    "model.predict(X_test)"
   ]
  },
  {
   "cell_type": "markdown",
   "id": "56c9705b",
   "metadata": {
    "papermill": {
     "duration": 0.019565,
     "end_time": "2025-07-23T14:34:24.825964",
     "exception": false,
     "start_time": "2025-07-23T14:34:24.806399",
     "status": "completed"
    },
    "tags": []
   },
   "source": [
    "# Conformal Prediction"
   ]
  },
  {
   "cell_type": "code",
   "execution_count": 31,
   "id": "160ec6ff",
   "metadata": {
    "execution": {
     "iopub.execute_input": "2025-07-23T14:34:24.867702Z",
     "iopub.status.busy": "2025-07-23T14:34:24.866968Z",
     "iopub.status.idle": "2025-07-23T14:34:24.872876Z",
     "shell.execute_reply": "2025-07-23T14:34:24.871823Z"
    },
    "papermill": {
     "duration": 0.029011,
     "end_time": "2025-07-23T14:34:24.874799",
     "exception": false,
     "start_time": "2025-07-23T14:34:24.845788",
     "status": "completed"
    },
    "tags": []
   },
   "outputs": [],
   "source": [
    "# Miscoverage level for conformal prediction (10% allowed error rate => 90% target coverage)\n",
    "alpha = 0.1"
   ]
  },
  {
   "cell_type": "code",
   "execution_count": 32,
   "id": "eadf4555-3dd3-440e-8e35-f82a4ad9f855",
   "metadata": {
    "execution": {
     "iopub.execute_input": "2025-07-23T14:34:24.918432Z",
     "iopub.status.busy": "2025-07-23T14:34:24.917409Z",
     "iopub.status.idle": "2025-07-23T14:34:25.109717Z",
     "shell.execute_reply": "2025-07-23T14:34:25.108681Z"
    },
    "papermill": {
     "duration": 0.215521,
     "end_time": "2025-07-23T14:34:25.111702",
     "exception": false,
     "start_time": "2025-07-23T14:34:24.896181",
     "status": "completed"
    },
    "tags": []
   },
   "outputs": [],
   "source": [
    "probs_calib = model.predict_proba(X_calib)"
   ]
  },
  {
   "cell_type": "code",
   "execution_count": 33,
   "id": "2ed93547-6d5d-4983-9b36-1ecb300da49a",
   "metadata": {
    "execution": {
     "iopub.execute_input": "2025-07-23T14:34:25.155873Z",
     "iopub.status.busy": "2025-07-23T14:34:25.154876Z",
     "iopub.status.idle": "2025-07-23T14:34:25.161813Z",
     "shell.execute_reply": "2025-07-23T14:34:25.160484Z"
    },
    "papermill": {
     "duration": 0.031479,
     "end_time": "2025-07-23T14:34:25.164199",
     "exception": false,
     "start_time": "2025-07-23T14:34:25.132720",
     "status": "completed"
    },
    "tags": []
   },
   "outputs": [],
   "source": [
    "y_calib = y_calib.values.ravel().astype(int)"
   ]
  },
  {
   "cell_type": "code",
   "execution_count": 34,
   "id": "65d1320d-f588-4b38-9072-62af1ae97f7d",
   "metadata": {
    "execution": {
     "iopub.execute_input": "2025-07-23T14:34:25.225789Z",
     "iopub.status.busy": "2025-07-23T14:34:25.225370Z",
     "iopub.status.idle": "2025-07-23T14:34:25.233506Z",
     "shell.execute_reply": "2025-07-23T14:34:25.232309Z"
    },
    "papermill": {
     "duration": 0.041238,
     "end_time": "2025-07-23T14:34:25.235947",
     "exception": false,
     "start_time": "2025-07-23T14:34:25.194709",
     "status": "completed"
    },
    "tags": []
   },
   "outputs": [],
   "source": [
    "from fairness_multiverse.conformal import compute_nc_scores\n",
    "\n",
    "# Compute nonconformity scores on calibration set (1 - probability of true class)\n",
    "nc_scores = compute_nc_scores(probs_calib, y_calib)"
   ]
  },
  {
   "cell_type": "code",
   "execution_count": 35,
   "id": "df3b8ca3-53b7-43d5-9667-7c85da7aeda2",
   "metadata": {
    "execution": {
     "iopub.execute_input": "2025-07-23T14:34:25.293181Z",
     "iopub.status.busy": "2025-07-23T14:34:25.292649Z",
     "iopub.status.idle": "2025-07-23T14:34:25.299661Z",
     "shell.execute_reply": "2025-07-23T14:34:25.298564Z"
    },
    "papermill": {
     "duration": 0.039471,
     "end_time": "2025-07-23T14:34:25.305905",
     "exception": false,
     "start_time": "2025-07-23T14:34:25.266434",
     "status": "completed"
    },
    "tags": []
   },
   "outputs": [],
   "source": [
    "from fairness_multiverse.conformal import find_threshold\n",
    "\n",
    "# Find conformal threshold q_hat for the given alpha (split conformal method)\n",
    "q_hat = find_threshold(nc_scores, alpha)"
   ]
  },
  {
   "cell_type": "code",
   "execution_count": 36,
   "id": "4d29e6c1-0ef6-4aa4-b8fe-4fe79b0d033a",
   "metadata": {
    "execution": {
     "iopub.execute_input": "2025-07-23T14:34:25.348146Z",
     "iopub.status.busy": "2025-07-23T14:34:25.347061Z",
     "iopub.status.idle": "2025-07-23T14:34:25.355117Z",
     "shell.execute_reply": "2025-07-23T14:34:25.353996Z"
    },
    "papermill": {
     "duration": 0.029754,
     "end_time": "2025-07-23T14:34:25.357772",
     "exception": false,
     "start_time": "2025-07-23T14:34:25.328018",
     "status": "completed"
    },
    "tags": []
   },
   "outputs": [
    {
     "data": {
      "text/plain": [
       "0.6629004530723757"
      ]
     },
     "execution_count": 36,
     "metadata": {},
     "output_type": "execute_result"
    }
   ],
   "source": [
    "q_hat"
   ]
  },
  {
   "cell_type": "code",
   "execution_count": 37,
   "id": "92460794-cdac-4be2-ba28-f28c0515a6fb",
   "metadata": {
    "execution": {
     "iopub.execute_input": "2025-07-23T14:34:25.403013Z",
     "iopub.status.busy": "2025-07-23T14:34:25.402517Z",
     "iopub.status.idle": "2025-07-23T14:34:26.319172Z",
     "shell.execute_reply": "2025-07-23T14:34:26.318074Z"
    },
    "papermill": {
     "duration": 0.941654,
     "end_time": "2025-07-23T14:34:26.321268",
     "exception": false,
     "start_time": "2025-07-23T14:34:25.379614",
     "status": "completed"
    },
    "tags": []
   },
   "outputs": [],
   "source": [
    "from fairness_multiverse.conformal import predict_conformal_sets\n",
    "\n",
    "# Generate prediction sets for each test example\n",
    "pred_sets = predict_conformal_sets(model, X_test, q_hat)"
   ]
  },
  {
   "cell_type": "code",
   "execution_count": 38,
   "id": "d90c9a65-e6db-4f5d-80cd-e68fb7e46829",
   "metadata": {
    "execution": {
     "iopub.execute_input": "2025-07-23T14:34:26.369399Z",
     "iopub.status.busy": "2025-07-23T14:34:26.368675Z",
     "iopub.status.idle": "2025-07-23T14:34:26.374903Z",
     "shell.execute_reply": "2025-07-23T14:34:26.373734Z"
    },
    "papermill": {
     "duration": 0.031969,
     "end_time": "2025-07-23T14:34:26.376743",
     "exception": false,
     "start_time": "2025-07-23T14:34:26.344774",
     "status": "completed"
    },
    "tags": []
   },
   "outputs": [],
   "source": [
    "y_true = y_true.squeeze()"
   ]
  },
  {
   "cell_type": "code",
   "execution_count": 39,
   "id": "3a58a54a-1e68-46b9-927a-df01f18aebc8",
   "metadata": {
    "execution": {
     "iopub.execute_input": "2025-07-23T14:34:26.419927Z",
     "iopub.status.busy": "2025-07-23T14:34:26.419093Z",
     "iopub.status.idle": "2025-07-23T14:34:27.423588Z",
     "shell.execute_reply": "2025-07-23T14:34:27.422649Z"
    },
    "papermill": {
     "duration": 1.027279,
     "end_time": "2025-07-23T14:34:27.425157",
     "exception": false,
     "start_time": "2025-07-23T14:34:26.397878",
     "status": "completed"
    },
    "tags": []
   },
   "outputs": [],
   "source": [
    "from fairness_multiverse.conformal import evaluate_sets\n",
    "\n",
    "# Evaluate coverage and average set size on test data\n",
    "metrics = evaluate_sets(pred_sets, y_true)"
   ]
  },
  {
   "cell_type": "code",
   "execution_count": 40,
   "id": "5ce0a5cb-201f-45a0-ade5-94c7f0bd6095",
   "metadata": {
    "execution": {
     "iopub.execute_input": "2025-07-23T14:34:27.453315Z",
     "iopub.status.busy": "2025-07-23T14:34:27.452903Z",
     "iopub.status.idle": "2025-07-23T14:34:27.459761Z",
     "shell.execute_reply": "2025-07-23T14:34:27.458985Z"
    },
    "papermill": {
     "duration": 0.024377,
     "end_time": "2025-07-23T14:34:27.461346",
     "exception": false,
     "start_time": "2025-07-23T14:34:27.436969",
     "status": "completed"
    },
    "tags": []
   },
   "outputs": [
    {
     "data": {
      "text/plain": [
       "{'coverage': 0.9106119719094862, 'avg_size': 1.1249470516107458}"
      ]
     },
     "execution_count": 40,
     "metadata": {},
     "output_type": "execute_result"
    }
   ],
   "source": [
    "metrics"
   ]
  },
  {
   "cell_type": "code",
   "execution_count": 41,
   "id": "9b9a838d-31c9-430b-ae14-12baee460d17",
   "metadata": {
    "execution": {
     "iopub.execute_input": "2025-07-23T14:34:27.485856Z",
     "iopub.status.busy": "2025-07-23T14:34:27.485076Z",
     "iopub.status.idle": "2025-07-23T14:34:27.490474Z",
     "shell.execute_reply": "2025-07-23T14:34:27.489643Z"
    },
    "papermill": {
     "duration": 0.018547,
     "end_time": "2025-07-23T14:34:27.491960",
     "exception": false,
     "start_time": "2025-07-23T14:34:27.473413",
     "status": "completed"
    },
    "tags": []
   },
   "outputs": [],
   "source": [
    "example_universe = universe.copy()\n",
    "universe_model = example_universe.get(\"model\")\n",
    "universe_exclude_features = example_universe.get(\"exclude_features\")\n",
    "universe_exclude_subgroups = example_universe.get(\"exclude_subgroups\")\n",
    "universe_scale = example_universe.get(\"scale\")"
   ]
  },
  {
   "cell_type": "code",
   "execution_count": 42,
   "id": "f4b6a8ac-9dc0-4245-8a91-5b3b5999c4f9",
   "metadata": {
    "execution": {
     "iopub.execute_input": "2025-07-23T14:34:27.529377Z",
     "iopub.status.busy": "2025-07-23T14:34:27.528503Z",
     "iopub.status.idle": "2025-07-23T14:34:27.535360Z",
     "shell.execute_reply": "2025-07-23T14:34:27.534217Z"
    },
    "papermill": {
     "duration": 0.033776,
     "end_time": "2025-07-23T14:34:27.537475",
     "exception": false,
     "start_time": "2025-07-23T14:34:27.503699",
     "status": "completed"
    },
    "tags": []
   },
   "outputs": [],
   "source": [
    "cp_metrics_dict = {\n",
    "    \"universe_id\": [universe_id],\n",
    "    \"universe_model\": [universe_model],\n",
    "    \"universe_exclude_features\": [universe_exclude_features],\n",
    "    \"universe_exclude_subgroups\": [universe_exclude_subgroups],\n",
    "    \"universe_scale\": [universe_scale],\n",
    "    \"q_hat\": [q_hat],\n",
    "    \"coverage\": [metrics[\"coverage\"]],\n",
    "    \"avg_size\": [metrics[\"avg_size\"]],\n",
    "}"
   ]
  },
  {
   "cell_type": "code",
   "execution_count": 43,
   "id": "908acbb1-0371-4915-85ca-3fa520d2efe2",
   "metadata": {
    "execution": {
     "iopub.execute_input": "2025-07-23T14:34:27.595708Z",
     "iopub.status.busy": "2025-07-23T14:34:27.594987Z",
     "iopub.status.idle": "2025-07-23T14:34:27.603041Z",
     "shell.execute_reply": "2025-07-23T14:34:27.601978Z"
    },
    "papermill": {
     "duration": 0.038206,
     "end_time": "2025-07-23T14:34:27.604785",
     "exception": false,
     "start_time": "2025-07-23T14:34:27.566579",
     "status": "completed"
    },
    "tags": []
   },
   "outputs": [
    {
     "data": {
      "text/plain": [
       "{'universe_id': ['faf071549fe2da5d80f6703d540ac20a'],\n",
       " 'universe_model': ['elasticnet'],\n",
       " 'universe_exclude_features': ['age'],\n",
       " 'universe_exclude_subgroups': ['keep-all'],\n",
       " 'universe_scale': ['scale'],\n",
       " 'q_hat': [0.6629004530723757],\n",
       " 'coverage': [0.9106119719094862],\n",
       " 'avg_size': [1.1249470516107458]}"
      ]
     },
     "execution_count": 43,
     "metadata": {},
     "output_type": "execute_result"
    }
   ],
   "source": [
    "cp_metrics_dict"
   ]
  },
  {
   "cell_type": "code",
   "execution_count": 44,
   "id": "33007efc-14e9-4ec6-97ac-56a455c82265",
   "metadata": {
    "execution": {
     "iopub.execute_input": "2025-07-23T14:34:27.650483Z",
     "iopub.status.busy": "2025-07-23T14:34:27.649773Z",
     "iopub.status.idle": "2025-07-23T14:34:27.656227Z",
     "shell.execute_reply": "2025-07-23T14:34:27.655210Z"
    },
    "papermill": {
     "duration": 0.031091,
     "end_time": "2025-07-23T14:34:27.658144",
     "exception": false,
     "start_time": "2025-07-23T14:34:27.627053",
     "status": "completed"
    },
    "tags": []
   },
   "outputs": [],
   "source": [
    "cp_metrics_df = pd.DataFrame(cp_metrics_dict)"
   ]
  },
  {
   "cell_type": "code",
   "execution_count": 45,
   "id": "db12611b-57b2-4910-b9d0-355adfd6e7bf",
   "metadata": {
    "execution": {
     "iopub.execute_input": "2025-07-23T14:34:27.703353Z",
     "iopub.status.busy": "2025-07-23T14:34:27.702651Z",
     "iopub.status.idle": "2025-07-23T14:34:27.720985Z",
     "shell.execute_reply": "2025-07-23T14:34:27.719865Z"
    },
    "papermill": {
     "duration": 0.042318,
     "end_time": "2025-07-23T14:34:27.722650",
     "exception": false,
     "start_time": "2025-07-23T14:34:27.680332",
     "status": "completed"
    },
    "tags": []
   },
   "outputs": [
    {
     "data": {
      "text/html": [
       "<div>\n",
       "<style scoped>\n",
       "    .dataframe tbody tr th:only-of-type {\n",
       "        vertical-align: middle;\n",
       "    }\n",
       "\n",
       "    .dataframe tbody tr th {\n",
       "        vertical-align: top;\n",
       "    }\n",
       "\n",
       "    .dataframe thead th {\n",
       "        text-align: right;\n",
       "    }\n",
       "</style>\n",
       "<table border=\"1\" class=\"dataframe\">\n",
       "  <thead>\n",
       "    <tr style=\"text-align: right;\">\n",
       "      <th></th>\n",
       "      <th>universe_id</th>\n",
       "      <th>universe_model</th>\n",
       "      <th>universe_exclude_features</th>\n",
       "      <th>universe_exclude_subgroups</th>\n",
       "      <th>universe_scale</th>\n",
       "      <th>q_hat</th>\n",
       "      <th>coverage</th>\n",
       "      <th>avg_size</th>\n",
       "    </tr>\n",
       "  </thead>\n",
       "  <tbody>\n",
       "    <tr>\n",
       "      <th>0</th>\n",
       "      <td>faf071549fe2da5d80f6703d540ac20a</td>\n",
       "      <td>elasticnet</td>\n",
       "      <td>age</td>\n",
       "      <td>keep-all</td>\n",
       "      <td>scale</td>\n",
       "      <td>0.6629</td>\n",
       "      <td>0.910612</td>\n",
       "      <td>1.124947</td>\n",
       "    </tr>\n",
       "  </tbody>\n",
       "</table>\n",
       "</div>"
      ],
      "text/plain": [
       "                        universe_id universe_model universe_exclude_features  \\\n",
       "0  faf071549fe2da5d80f6703d540ac20a     elasticnet                       age   \n",
       "\n",
       "  universe_exclude_subgroups universe_scale   q_hat  coverage  avg_size  \n",
       "0                   keep-all          scale  0.6629  0.910612  1.124947  "
      ]
     },
     "execution_count": 45,
     "metadata": {},
     "output_type": "execute_result"
    }
   ],
   "source": [
    "cp_metrics_df"
   ]
  },
  {
   "cell_type": "code",
   "execution_count": 46,
   "id": "b7fbde55-a0a1-47e4-9af6-fe4a17fa8c61",
   "metadata": {
    "execution": {
     "iopub.execute_input": "2025-07-23T14:34:27.768331Z",
     "iopub.status.busy": "2025-07-23T14:34:27.767680Z",
     "iopub.status.idle": "2025-07-23T14:34:27.773129Z",
     "shell.execute_reply": "2025-07-23T14:34:27.772092Z"
    },
    "papermill": {
     "duration": 0.030483,
     "end_time": "2025-07-23T14:34:27.774898",
     "exception": false,
     "start_time": "2025-07-23T14:34:27.744415",
     "status": "completed"
    },
    "tags": []
   },
   "outputs": [],
   "source": [
    "# Conditional Coverage & looking at subgroups"
   ]
  },
  {
   "cell_type": "code",
   "execution_count": 47,
   "id": "027ae886-68dd-4141-96c7-805a5450e1ef",
   "metadata": {
    "execution": {
     "iopub.execute_input": "2025-07-23T14:34:27.820840Z",
     "iopub.status.busy": "2025-07-23T14:34:27.820112Z",
     "iopub.status.idle": "2025-07-23T14:34:28.094537Z",
     "shell.execute_reply": "2025-07-23T14:34:28.093570Z"
    },
    "papermill": {
     "duration": 0.299396,
     "end_time": "2025-07-23T14:34:28.096481",
     "exception": false,
     "start_time": "2025-07-23T14:34:27.797085",
     "status": "completed"
    },
    "tags": []
   },
   "outputs": [],
   "source": [
    "from fairness_multiverse.conformal import build_cp_groups\n",
    "\n",
    "cp_groups_df = build_cp_groups(pred_sets, y_true, X_test.index, org_test)\n",
    "#needs universe_id and setting"
   ]
  },
  {
   "cell_type": "code",
   "execution_count": 48,
   "id": "c3b92545-903e-4839-89af-0f057907d7d6",
   "metadata": {
    "execution": {
     "iopub.execute_input": "2025-07-23T14:34:28.142909Z",
     "iopub.status.busy": "2025-07-23T14:34:28.142206Z",
     "iopub.status.idle": "2025-07-23T14:34:29.904469Z",
     "shell.execute_reply": "2025-07-23T14:34:29.903274Z"
    },
    "papermill": {
     "duration": 1.78795,
     "end_time": "2025-07-23T14:34:29.906922",
     "exception": false,
     "start_time": "2025-07-23T14:34:28.118972",
     "status": "completed"
    },
    "tags": []
   },
   "outputs": [],
   "source": [
    "# Define covered = 1 if true_label is in the predicted set\n",
    "cp_groups_df['covered'] = cp_groups_df.apply(\n",
    "    lambda r: int(r['true_label'] in r['pred_set']),\n",
    "    axis=1\n",
    ")"
   ]
  },
  {
   "cell_type": "code",
   "execution_count": 49,
   "id": "338ff529-1a6b-4b87-a931-8e4788d52aad",
   "metadata": {
    "execution": {
     "iopub.execute_input": "2025-07-23T14:34:29.961485Z",
     "iopub.status.busy": "2025-07-23T14:34:29.960750Z",
     "iopub.status.idle": "2025-07-23T14:34:29.966788Z",
     "shell.execute_reply": "2025-07-23T14:34:29.965583Z"
    },
    "papermill": {
     "duration": 0.036449,
     "end_time": "2025-07-23T14:34:29.969147",
     "exception": false,
     "start_time": "2025-07-23T14:34:29.932698",
     "status": "completed"
    },
    "tags": []
   },
   "outputs": [],
   "source": [
    "#cp_groups_df"
   ]
  },
  {
   "cell_type": "code",
   "execution_count": 50,
   "id": "90032e27-66df-4540-9169-4e89cfbaa758",
   "metadata": {
    "execution": {
     "iopub.execute_input": "2025-07-23T14:34:30.025548Z",
     "iopub.status.busy": "2025-07-23T14:34:30.024801Z",
     "iopub.status.idle": "2025-07-23T14:34:30.038477Z",
     "shell.execute_reply": "2025-07-23T14:34:30.037240Z"
    },
    "papermill": {
     "duration": 0.043759,
     "end_time": "2025-07-23T14:34:30.040503",
     "exception": false,
     "start_time": "2025-07-23T14:34:29.996744",
     "status": "completed"
    },
    "tags": []
   },
   "outputs": [],
   "source": [
    "subgroups = ['frau1','nongerman','nongerman_male','nongerman_female']\n",
    "\n",
    "# Conditional coverage for subgroup==1\n",
    "cond_coverage = {\n",
    "    g: cp_groups_df.loc[cp_groups_df[g]==1, 'covered'].mean()\n",
    "    for g in subgroups\n",
    "}"
   ]
  },
  {
   "cell_type": "code",
   "execution_count": 51,
   "id": "1e348fb1-b9c3-45bc-ba23-f016827a7e0d",
   "metadata": {
    "execution": {
     "iopub.execute_input": "2025-07-23T14:34:30.088064Z",
     "iopub.status.busy": "2025-07-23T14:34:30.087389Z",
     "iopub.status.idle": "2025-07-23T14:34:30.096334Z",
     "shell.execute_reply": "2025-07-23T14:34:30.095141Z"
    },
    "papermill": {
     "duration": 0.034052,
     "end_time": "2025-07-23T14:34:30.098093",
     "exception": false,
     "start_time": "2025-07-23T14:34:30.064041",
     "status": "completed"
    },
    "tags": []
   },
   "outputs": [
    {
     "data": {
      "text/plain": [
       "{'frau1': 0.9098261221188839,\n",
       " 'nongerman': 0.9077078538146298,\n",
       " 'nongerman_male': 0.9241646401873368,\n",
       " 'nongerman_female': 0.8804769001490313}"
      ]
     },
     "execution_count": 51,
     "metadata": {},
     "output_type": "execute_result"
    }
   ],
   "source": [
    "cond_coverage"
   ]
  },
  {
   "cell_type": "code",
   "execution_count": 52,
   "id": "f5093324-c3dd-4d63-bc4c-8d945e5c8bbb",
   "metadata": {
    "execution": {
     "iopub.execute_input": "2025-07-23T14:34:30.145245Z",
     "iopub.status.busy": "2025-07-23T14:34:30.144241Z",
     "iopub.status.idle": "2025-07-23T14:34:30.153103Z",
     "shell.execute_reply": "2025-07-23T14:34:30.151900Z"
    },
    "papermill": {
     "duration": 0.034341,
     "end_time": "2025-07-23T14:34:30.154985",
     "exception": false,
     "start_time": "2025-07-23T14:34:30.120644",
     "status": "completed"
    },
    "tags": []
   },
   "outputs": [],
   "source": [
    "for subgroup, cov in cond_coverage.items():\n",
    "    cp_metrics_df[f\"cov_{subgroup}\"] = cov"
   ]
  },
  {
   "cell_type": "code",
   "execution_count": 53,
   "id": "6e872e10-dbe5-49e8-b554-5030c98ff75d",
   "metadata": {
    "execution": {
     "iopub.execute_input": "2025-07-23T14:34:30.203257Z",
     "iopub.status.busy": "2025-07-23T14:34:30.202260Z",
     "iopub.status.idle": "2025-07-23T14:34:30.222244Z",
     "shell.execute_reply": "2025-07-23T14:34:30.221140Z"
    },
    "papermill": {
     "duration": 0.046333,
     "end_time": "2025-07-23T14:34:30.224184",
     "exception": false,
     "start_time": "2025-07-23T14:34:30.177851",
     "status": "completed"
    },
    "tags": []
   },
   "outputs": [
    {
     "data": {
      "text/html": [
       "<div>\n",
       "<style scoped>\n",
       "    .dataframe tbody tr th:only-of-type {\n",
       "        vertical-align: middle;\n",
       "    }\n",
       "\n",
       "    .dataframe tbody tr th {\n",
       "        vertical-align: top;\n",
       "    }\n",
       "\n",
       "    .dataframe thead th {\n",
       "        text-align: right;\n",
       "    }\n",
       "</style>\n",
       "<table border=\"1\" class=\"dataframe\">\n",
       "  <thead>\n",
       "    <tr style=\"text-align: right;\">\n",
       "      <th></th>\n",
       "      <th>universe_id</th>\n",
       "      <th>universe_model</th>\n",
       "      <th>universe_exclude_features</th>\n",
       "      <th>universe_exclude_subgroups</th>\n",
       "      <th>universe_scale</th>\n",
       "      <th>q_hat</th>\n",
       "      <th>coverage</th>\n",
       "      <th>avg_size</th>\n",
       "      <th>cov_frau1</th>\n",
       "      <th>cov_nongerman</th>\n",
       "      <th>cov_nongerman_male</th>\n",
       "      <th>cov_nongerman_female</th>\n",
       "    </tr>\n",
       "  </thead>\n",
       "  <tbody>\n",
       "    <tr>\n",
       "      <th>0</th>\n",
       "      <td>faf071549fe2da5d80f6703d540ac20a</td>\n",
       "      <td>elasticnet</td>\n",
       "      <td>age</td>\n",
       "      <td>keep-all</td>\n",
       "      <td>scale</td>\n",
       "      <td>0.6629</td>\n",
       "      <td>0.910612</td>\n",
       "      <td>1.124947</td>\n",
       "      <td>0.909826</td>\n",
       "      <td>0.907708</td>\n",
       "      <td>0.924165</td>\n",
       "      <td>0.880477</td>\n",
       "    </tr>\n",
       "  </tbody>\n",
       "</table>\n",
       "</div>"
      ],
      "text/plain": [
       "                        universe_id universe_model universe_exclude_features  \\\n",
       "0  faf071549fe2da5d80f6703d540ac20a     elasticnet                       age   \n",
       "\n",
       "  universe_exclude_subgroups universe_scale   q_hat  coverage  avg_size  \\\n",
       "0                   keep-all          scale  0.6629  0.910612  1.124947   \n",
       "\n",
       "   cov_frau1  cov_nongerman  cov_nongerman_male  cov_nongerman_female  \n",
       "0   0.909826       0.907708            0.924165              0.880477  "
      ]
     },
     "execution_count": 53,
     "metadata": {},
     "output_type": "execute_result"
    }
   ],
   "source": [
    "cp_metrics_df"
   ]
  },
  {
   "cell_type": "markdown",
   "id": "33774451",
   "metadata": {
    "papermill": {
     "duration": 0.028558,
     "end_time": "2025-07-23T14:34:30.282080",
     "exception": false,
     "start_time": "2025-07-23T14:34:30.253522",
     "status": "completed"
    },
    "tags": []
   },
   "source": [
    "# (Fairness) Metrics"
   ]
  },
  {
   "cell_type": "code",
   "execution_count": 54,
   "id": "debc5d62",
   "metadata": {
    "execution": {
     "iopub.execute_input": "2025-07-23T14:34:30.341599Z",
     "iopub.status.busy": "2025-07-23T14:34:30.340874Z",
     "iopub.status.idle": "2025-07-23T14:34:30.365453Z",
     "shell.execute_reply": "2025-07-23T14:34:30.364304Z"
    },
    "papermill": {
     "duration": 0.056909,
     "end_time": "2025-07-23T14:34:30.367483",
     "exception": false,
     "start_time": "2025-07-23T14:34:30.310574",
     "status": "completed"
    },
    "tags": []
   },
   "outputs": [],
   "source": [
    "# do I need to include maxdeutsch1.missing?\n",
    "\n",
    "import numpy as np\n",
    "\n",
    "colname_to_bin = \"maxdeutsch1\"\n",
    "majority_value = org_train[colname_to_bin].mode()[0]\n",
    "\n",
    "org_test[\"majmin\"] = np.where(org_test[colname_to_bin] == majority_value, \"majority\", \"minority\")"
   ]
  },
  {
   "cell_type": "code",
   "execution_count": 55,
   "id": "06a50de5",
   "metadata": {
    "execution": {
     "iopub.execute_input": "2025-07-23T14:34:30.416227Z",
     "iopub.status.busy": "2025-07-23T14:34:30.415290Z",
     "iopub.status.idle": "2025-07-23T14:34:33.360610Z",
     "shell.execute_reply": "2025-07-23T14:34:33.359613Z"
    },
    "papermill": {
     "duration": 2.971938,
     "end_time": "2025-07-23T14:34:33.362661",
     "exception": false,
     "start_time": "2025-07-23T14:34:30.390723",
     "status": "completed"
    },
    "tags": []
   },
   "outputs": [],
   "source": [
    "example_universe = universe.copy()\n",
    "example_universe[\"cutoff\"] = example_universe[\"cutoff\"][0]\n",
    "example_universe[\"eval_fairness_grouping\"] = example_universe[\"eval_fairness_grouping\"][0]\n",
    "fairness_dict, metric_frame = universe_analysis.compute_metrics(\n",
    "    example_universe,\n",
    "    y_pred_prob=probs_test,\n",
    "    y_test=y_true,\n",
    "    org_test=org_test,\n",
    ")"
   ]
  },
  {
   "cell_type": "markdown",
   "id": "f95d4e02",
   "metadata": {
    "papermill": {
     "duration": 0.022916,
     "end_time": "2025-07-23T14:34:33.411263",
     "exception": false,
     "start_time": "2025-07-23T14:34:33.388347",
     "status": "completed"
    },
    "tags": []
   },
   "source": [
    "# Overall"
   ]
  },
  {
   "cell_type": "markdown",
   "id": "bdee4871",
   "metadata": {
    "papermill": {
     "duration": 0.023614,
     "end_time": "2025-07-23T14:34:33.457632",
     "exception": false,
     "start_time": "2025-07-23T14:34:33.434018",
     "status": "completed"
    },
    "tags": []
   },
   "source": [
    "Fairness\n",
    "Main fairness target: Equalized Odds. Seems to be a better fit than equal opportunity, since we're not only interested in Y = 1. Seems to be a better fit than demographic parity, since we also care about accuracy, not just equal distribution of preds.\n",
    "\n",
    "Pick column for computation of fairness metrics\n",
    "\n",
    "Performance\n",
    "Overall performance measures, most interesting in relation to the measures split by group below"
   ]
  },
  {
   "cell_type": "code",
   "execution_count": 56,
   "id": "c4e067c6",
   "metadata": {
    "execution": {
     "iopub.execute_input": "2025-07-23T14:34:33.507311Z",
     "iopub.status.busy": "2025-07-23T14:34:33.506191Z",
     "iopub.status.idle": "2025-07-23T14:34:33.518041Z",
     "shell.execute_reply": "2025-07-23T14:34:33.517073Z"
    },
    "papermill": {
     "duration": 0.038635,
     "end_time": "2025-07-23T14:34:33.519803",
     "exception": false,
     "start_time": "2025-07-23T14:34:33.481168",
     "status": "completed"
    },
    "tags": []
   },
   "outputs": [
    {
     "data": {
      "text/plain": [
       "accuracy                   0.225493\n",
       "balanced accuracy          0.551128\n",
       "f1                         0.246794\n",
       "precision                  0.140985\n",
       "false positive rate        0.886883\n",
       "false negative rate        0.010862\n",
       "selection rate             0.900000\n",
       "count                  89710.000000\n",
       "dtype: float64"
      ]
     },
     "execution_count": 56,
     "metadata": {},
     "output_type": "execute_result"
    }
   ],
   "source": [
    "metric_frame.overall"
   ]
  },
  {
   "cell_type": "markdown",
   "id": "e968fe9d",
   "metadata": {
    "papermill": {
     "duration": 0.022856,
     "end_time": "2025-07-23T14:34:33.565948",
     "exception": false,
     "start_time": "2025-07-23T14:34:33.543092",
     "status": "completed"
    },
    "tags": []
   },
   "source": [
    "By Group"
   ]
  },
  {
   "cell_type": "code",
   "execution_count": 57,
   "id": "ec325bce",
   "metadata": {
    "execution": {
     "iopub.execute_input": "2025-07-23T14:34:33.613438Z",
     "iopub.status.busy": "2025-07-23T14:34:33.612873Z",
     "iopub.status.idle": "2025-07-23T14:34:33.633990Z",
     "shell.execute_reply": "2025-07-23T14:34:33.632798Z"
    },
    "papermill": {
     "duration": 0.04941,
     "end_time": "2025-07-23T14:34:33.637909",
     "exception": false,
     "start_time": "2025-07-23T14:34:33.588499",
     "status": "completed"
    },
    "tags": []
   },
   "outputs": [
    {
     "data": {
      "text/html": [
       "<div>\n",
       "<style scoped>\n",
       "    .dataframe tbody tr th:only-of-type {\n",
       "        vertical-align: middle;\n",
       "    }\n",
       "\n",
       "    .dataframe tbody tr th {\n",
       "        vertical-align: top;\n",
       "    }\n",
       "\n",
       "    .dataframe thead th {\n",
       "        text-align: right;\n",
       "    }\n",
       "</style>\n",
       "<table border=\"1\" class=\"dataframe\">\n",
       "  <thead>\n",
       "    <tr style=\"text-align: right;\">\n",
       "      <th></th>\n",
       "      <th>accuracy</th>\n",
       "      <th>balanced accuracy</th>\n",
       "      <th>f1</th>\n",
       "      <th>precision</th>\n",
       "      <th>false positive rate</th>\n",
       "      <th>false negative rate</th>\n",
       "      <th>selection rate</th>\n",
       "      <th>count</th>\n",
       "    </tr>\n",
       "    <tr>\n",
       "      <th>majmin</th>\n",
       "      <th></th>\n",
       "      <th></th>\n",
       "      <th></th>\n",
       "      <th></th>\n",
       "      <th></th>\n",
       "      <th></th>\n",
       "      <th></th>\n",
       "      <th></th>\n",
       "    </tr>\n",
       "  </thead>\n",
       "  <tbody>\n",
       "    <tr>\n",
       "      <th>majority</th>\n",
       "      <td>0.248056</td>\n",
       "      <td>0.561589</td>\n",
       "      <td>0.257693</td>\n",
       "      <td>0.148175</td>\n",
       "      <td>0.864568</td>\n",
       "      <td>0.012254</td>\n",
       "      <td>0.880844</td>\n",
       "      <td>69170.0</td>\n",
       "    </tr>\n",
       "    <tr>\n",
       "      <th>minority</th>\n",
       "      <td>0.149513</td>\n",
       "      <td>0.516956</td>\n",
       "      <td>0.212363</td>\n",
       "      <td>0.118873</td>\n",
       "      <td>0.960599</td>\n",
       "      <td>0.005490</td>\n",
       "      <td>0.964508</td>\n",
       "      <td>20540.0</td>\n",
       "    </tr>\n",
       "  </tbody>\n",
       "</table>\n",
       "</div>"
      ],
      "text/plain": [
       "          accuracy  balanced accuracy        f1  precision  \\\n",
       "majmin                                                       \n",
       "majority  0.248056           0.561589  0.257693   0.148175   \n",
       "minority  0.149513           0.516956  0.212363   0.118873   \n",
       "\n",
       "          false positive rate  false negative rate  selection rate    count  \n",
       "majmin                                                                       \n",
       "majority             0.864568             0.012254        0.880844  69170.0  \n",
       "minority             0.960599             0.005490        0.964508  20540.0  "
      ]
     },
     "execution_count": 57,
     "metadata": {},
     "output_type": "execute_result"
    }
   ],
   "source": [
    "metric_frame.by_group"
   ]
  },
  {
   "cell_type": "code",
   "execution_count": 58,
   "id": "a9ddbe63",
   "metadata": {
    "execution": {
     "iopub.execute_input": "2025-07-23T14:34:33.695981Z",
     "iopub.status.busy": "2025-07-23T14:34:33.695428Z",
     "iopub.status.idle": "2025-07-23T14:34:36.308076Z",
     "shell.execute_reply": "2025-07-23T14:34:36.307061Z"
    },
    "papermill": {
     "duration": 2.644255,
     "end_time": "2025-07-23T14:34:36.310313",
     "exception": false,
     "start_time": "2025-07-23T14:34:33.666058",
     "status": "completed"
    },
    "tags": []
   },
   "outputs": [
    {
     "data": {
      "text/plain": [
       "array([[<Axes: title={'center': 'accuracy'}, xlabel='majmin'>,\n",
       "        <Axes: title={'center': 'balanced accuracy'}, xlabel='majmin'>,\n",
       "        <Axes: title={'center': 'f1'}, xlabel='majmin'>],\n",
       "       [<Axes: title={'center': 'precision'}, xlabel='majmin'>,\n",
       "        <Axes: title={'center': 'false positive rate'}, xlabel='majmin'>,\n",
       "        <Axes: title={'center': 'false negative rate'}, xlabel='majmin'>],\n",
       "       [<Axes: title={'center': 'selection rate'}, xlabel='majmin'>,\n",
       "        <Axes: title={'center': 'count'}, xlabel='majmin'>,\n",
       "        <Axes: xlabel='majmin'>]], dtype=object)"
      ]
     },
     "execution_count": 58,
     "metadata": {},
     "output_type": "execute_result"
    },
    {
     "data": {
      "image/png": "[encoded data removed]",
      "text/plain": [
       "<Figure size 1200x800 with 9 Axes>"
      ]
     },
     "metadata": {},
     "output_type": "display_data"
    }
   ],
   "source": [
    "# In a graphic\n",
    "metric_frame.by_group.plot.bar(\n",
    "    subplots=True,\n",
    "    layout=[3, 3],\n",
    "    legend=False,\n",
    "    figsize=[12, 8],\n",
    "    title=\"Show all metrics\",\n",
    ")"
   ]
  },
  {
   "cell_type": "markdown",
   "id": "f57a0bac",
   "metadata": {
    "papermill": {
     "duration": 0.027277,
     "end_time": "2025-07-23T14:34:36.366214",
     "exception": false,
     "start_time": "2025-07-23T14:34:36.338937",
     "status": "completed"
    },
    "tags": []
   },
   "source": [
    "# Final Output"
   ]
  },
  {
   "cell_type": "code",
   "execution_count": 59,
   "id": "96d280a3",
   "metadata": {
    "execution": {
     "iopub.execute_input": "2025-07-23T14:34:36.423587Z",
     "iopub.status.busy": "2025-07-23T14:34:36.422854Z",
     "iopub.status.idle": "2025-07-23T14:34:36.432073Z",
     "shell.execute_reply": "2025-07-23T14:34:36.431030Z"
    },
    "papermill": {
     "duration": 0.039828,
     "end_time": "2025-07-23T14:34:36.433858",
     "exception": false,
     "start_time": "2025-07-23T14:34:36.394030",
     "status": "completed"
    },
    "tags": []
   },
   "outputs": [
    {
     "data": {
      "text/plain": [
       "4"
      ]
     },
     "execution_count": 59,
     "metadata": {},
     "output_type": "execute_result"
    }
   ],
   "source": [
    "sub_universes = universe_analysis.generate_sub_universes()\n",
    "len(sub_universes)"
   ]
  },
  {
   "cell_type": "code",
   "execution_count": 60,
   "id": "92adf7ba",
   "metadata": {
    "execution": {
     "iopub.execute_input": "2025-07-23T14:34:36.493062Z",
     "iopub.status.busy": "2025-07-23T14:34:36.492315Z",
     "iopub.status.idle": "2025-07-23T14:34:36.498839Z",
     "shell.execute_reply": "2025-07-23T14:34:36.497832Z"
    },
    "papermill": {
     "duration": 0.038484,
     "end_time": "2025-07-23T14:34:36.500806",
     "exception": false,
     "start_time": "2025-07-23T14:34:36.462322",
     "status": "completed"
    },
    "tags": []
   },
   "outputs": [],
   "source": [
    "def filter_sub_universe_data(sub_universe, org_test):\n",
    "    # Keep all rows — no filtering\n",
    "    keep_rows_mask = np.ones(org_test.shape[0], dtype=bool)\n",
    "\n",
    "    print(f\"[INFO] Keeping all rows: {keep_rows_mask.sum()} rows retained.\")\n",
    "    return keep_rows_mask"
   ]
  },
  {
   "cell_type": "code",
   "execution_count": 61,
   "id": "4a759155",
   "metadata": {
    "execution": {
     "iopub.execute_input": "2025-07-23T14:34:36.561438Z",
     "iopub.status.busy": "2025-07-23T14:34:36.560775Z",
     "iopub.status.idle": "2025-07-23T14:34:47.791711Z",
     "shell.execute_reply": "2025-07-23T14:34:47.790669Z"
    },
    "papermill": {
     "duration": 11.262864,
     "end_time": "2025-07-23T14:34:47.793309",
     "exception": false,
     "start_time": "2025-07-23T14:34:36.530445",
     "status": "completed"
    },
    "tags": []
   },
   "outputs": [
    {
     "name": "stdout",
     "output_type": "stream",
     "text": [
      "Stopping execution_time clock.\n",
      "[INFO] Keeping all rows: 89710 rows retained.\n"
     ]
    },
    {
     "name": "stdout",
     "output_type": "stream",
     "text": [
      "[INFO] Keeping all rows: 89710 rows retained.\n"
     ]
    },
    {
     "name": "stdout",
     "output_type": "stream",
     "text": [
      "[INFO] Keeping all rows: 89710 rows retained.\n"
     ]
    },
    {
     "name": "stdout",
     "output_type": "stream",
     "text": [
      "[INFO] Keeping all rows: 89710 rows retained.\n"
     ]
    },
    {
     "data": {
      "text/html": [
       "<div>\n",
       "<style scoped>\n",
       "    .dataframe tbody tr th:only-of-type {\n",
       "        vertical-align: middle;\n",
       "    }\n",
       "\n",
       "    .dataframe tbody tr th {\n",
       "        vertical-align: top;\n",
       "    }\n",
       "\n",
       "    .dataframe thead th {\n",
       "        text-align: right;\n",
       "    }\n",
       "</style>\n",
       "<table border=\"1\" class=\"dataframe\">\n",
       "  <thead>\n",
       "    <tr style=\"text-align: right;\">\n",
       "      <th></th>\n",
       "      <th>run_no</th>\n",
       "      <th>universe_id</th>\n",
       "      <th>universe_settings</th>\n",
       "      <th>execution_time</th>\n",
       "      <th>test_size_n</th>\n",
       "      <th>test_size_frac</th>\n",
       "      <th>fair_main_equalized_odds_difference</th>\n",
       "      <th>fair_main_equalized_odds_ratio</th>\n",
       "      <th>fair_main_demographic_parity_difference</th>\n",
       "      <th>fair_main_demographic_parity_ratio</th>\n",
       "      <th>...</th>\n",
       "      <th>perf_grp_precision_0</th>\n",
       "      <th>perf_grp_precision_1</th>\n",
       "      <th>perf_grp_false positive rate_0</th>\n",
       "      <th>perf_grp_false positive rate_1</th>\n",
       "      <th>perf_grp_false negative rate_0</th>\n",
       "      <th>perf_grp_false negative rate_1</th>\n",
       "      <th>perf_grp_selection rate_0</th>\n",
       "      <th>perf_grp_selection rate_1</th>\n",
       "      <th>perf_grp_count_0</th>\n",
       "      <th>perf_grp_count_1</th>\n",
       "    </tr>\n",
       "  </thead>\n",
       "  <tbody>\n",
       "    <tr>\n",
       "      <th>0</th>\n",
       "      <td>9</td>\n",
       "      <td>faf071549fe2da5d80f6703d540ac20a</td>\n",
       "      <td>{\"cutoff\": \"quantile_0.1\", \"eval_fairness_grou...</td>\n",
       "      <td>50.042457</td>\n",
       "      <td>89710</td>\n",
       "      <td>1.0</td>\n",
       "      <td>0.096031</td>\n",
       "      <td>0.900030</td>\n",
       "      <td>0.083664</td>\n",
       "      <td>0.913257</td>\n",
       "      <td>...</td>\n",
       "      <td>NaN</td>\n",
       "      <td>NaN</td>\n",
       "      <td>NaN</td>\n",
       "      <td>NaN</td>\n",
       "      <td>NaN</td>\n",
       "      <td>NaN</td>\n",
       "      <td>NaN</td>\n",
       "      <td>NaN</td>\n",
       "      <td>NaN</td>\n",
       "      <td>NaN</td>\n",
       "    </tr>\n",
       "    <tr>\n",
       "      <th>0</th>\n",
       "      <td>9</td>\n",
       "      <td>faf071549fe2da5d80f6703d540ac20a</td>\n",
       "      <td>{\"cutoff\": \"quantile_0.1\", \"eval_fairness_grou...</td>\n",
       "      <td>50.042457</td>\n",
       "      <td>89710</td>\n",
       "      <td>1.0</td>\n",
       "      <td>0.096031</td>\n",
       "      <td>0.900030</td>\n",
       "      <td>0.083664</td>\n",
       "      <td>0.913257</td>\n",
       "      <td>...</td>\n",
       "      <td>0.118873</td>\n",
       "      <td>0.148175</td>\n",
       "      <td>0.960599</td>\n",
       "      <td>0.864568</td>\n",
       "      <td>0.005490</td>\n",
       "      <td>0.012254</td>\n",
       "      <td>0.964508</td>\n",
       "      <td>0.880844</td>\n",
       "      <td>20540.0</td>\n",
       "      <td>69170.0</td>\n",
       "    </tr>\n",
       "    <tr>\n",
       "      <th>0</th>\n",
       "      <td>9</td>\n",
       "      <td>faf071549fe2da5d80f6703d540ac20a</td>\n",
       "      <td>{\"cutoff\": \"quantile_0.25\", \"eval_fairness_gro...</td>\n",
       "      <td>50.042457</td>\n",
       "      <td>89710</td>\n",
       "      <td>1.0</td>\n",
       "      <td>0.177844</td>\n",
       "      <td>0.792502</td>\n",
       "      <td>0.155528</td>\n",
       "      <td>0.821215</td>\n",
       "      <td>...</td>\n",
       "      <td>NaN</td>\n",
       "      <td>NaN</td>\n",
       "      <td>NaN</td>\n",
       "      <td>NaN</td>\n",
       "      <td>NaN</td>\n",
       "      <td>NaN</td>\n",
       "      <td>NaN</td>\n",
       "      <td>NaN</td>\n",
       "      <td>NaN</td>\n",
       "      <td>NaN</td>\n",
       "    </tr>\n",
       "    <tr>\n",
       "      <th>0</th>\n",
       "      <td>9</td>\n",
       "      <td>faf071549fe2da5d80f6703d540ac20a</td>\n",
       "      <td>{\"cutoff\": \"quantile_0.25\", \"eval_fairness_gro...</td>\n",
       "      <td>50.042457</td>\n",
       "      <td>89710</td>\n",
       "      <td>1.0</td>\n",
       "      <td>0.177844</td>\n",
       "      <td>0.792502</td>\n",
       "      <td>0.155528</td>\n",
       "      <td>0.821215</td>\n",
       "      <td>...</td>\n",
       "      <td>0.128330</td>\n",
       "      <td>0.174829</td>\n",
       "      <td>0.857088</td>\n",
       "      <td>0.679244</td>\n",
       "      <td>0.031672</td>\n",
       "      <td>0.054814</td>\n",
       "      <td>0.869912</td>\n",
       "      <td>0.714385</td>\n",
       "      <td>20540.0</td>\n",
       "      <td>69170.0</td>\n",
       "    </tr>\n",
       "  </tbody>\n",
       "</table>\n",
       "<p>4 rows × 50 columns</p>\n",
       "</div>"
      ],
      "text/plain": [
       "  run_no                       universe_id  \\\n",
       "0      9  faf071549fe2da5d80f6703d540ac20a   \n",
       "0      9  faf071549fe2da5d80f6703d540ac20a   \n",
       "0      9  faf071549fe2da5d80f6703d540ac20a   \n",
       "0      9  faf071549fe2da5d80f6703d540ac20a   \n",
       "\n",
       "                                   universe_settings  execution_time  \\\n",
       "0  {\"cutoff\": \"quantile_0.1\", \"eval_fairness_grou...       50.042457   \n",
       "0  {\"cutoff\": \"quantile_0.1\", \"eval_fairness_grou...       50.042457   \n",
       "0  {\"cutoff\": \"quantile_0.25\", \"eval_fairness_gro...       50.042457   \n",
       "0  {\"cutoff\": \"quantile_0.25\", \"eval_fairness_gro...       50.042457   \n",
       "\n",
       "   test_size_n  test_size_frac  fair_main_equalized_odds_difference  \\\n",
       "0        89710             1.0                             0.096031   \n",
       "0        89710             1.0                             0.096031   \n",
       "0        89710             1.0                             0.177844   \n",
       "0        89710             1.0                             0.177844   \n",
       "\n",
       "   fair_main_equalized_odds_ratio  fair_main_demographic_parity_difference  \\\n",
       "0                        0.900030                                 0.083664   \n",
       "0                        0.900030                                 0.083664   \n",
       "0                        0.792502                                 0.155528   \n",
       "0                        0.792502                                 0.155528   \n",
       "\n",
       "   fair_main_demographic_parity_ratio  ...  perf_grp_precision_0  \\\n",
       "0                            0.913257  ...                   NaN   \n",
       "0                            0.913257  ...              0.118873   \n",
       "0                            0.821215  ...                   NaN   \n",
       "0                            0.821215  ...              0.128330   \n",
       "\n",
       "   perf_grp_precision_1  perf_grp_false positive rate_0  \\\n",
       "0                   NaN                             NaN   \n",
       "0              0.148175                        0.960599   \n",
       "0                   NaN                             NaN   \n",
       "0              0.174829                        0.857088   \n",
       "\n",
       "   perf_grp_false positive rate_1  perf_grp_false negative rate_0  \\\n",
       "0                             NaN                             NaN   \n",
       "0                        0.864568                        0.005490   \n",
       "0                             NaN                             NaN   \n",
       "0                        0.679244                        0.031672   \n",
       "\n",
       "   perf_grp_false negative rate_1  perf_grp_selection rate_0  \\\n",
       "0                             NaN                        NaN   \n",
       "0                        0.012254                   0.964508   \n",
       "0                             NaN                        NaN   \n",
       "0                        0.054814                   0.869912   \n",
       "\n",
       "   perf_grp_selection rate_1  perf_grp_count_0  perf_grp_count_1  \n",
       "0                        NaN               NaN               NaN  \n",
       "0                   0.880844           20540.0           69170.0  \n",
       "0                        NaN               NaN               NaN  \n",
       "0                   0.714385           20540.0           69170.0  \n",
       "\n",
       "[4 rows x 50 columns]"
      ]
     },
     "execution_count": 61,
     "metadata": {},
     "output_type": "execute_result"
    }
   ],
   "source": [
    "final_output = universe_analysis.generate_final_output(\n",
    "    y_pred_prob=probs_test,\n",
    "    y_test=y_true,\n",
    "    org_test=org_test,\n",
    "    filter_data=filter_sub_universe_data,\n",
    "    cp_metrics_df=cp_metrics_df,\n",
    "    save=True,\n",
    ")\n",
    "final_output"
   ]
  },
  {
   "cell_type": "code",
   "execution_count": null,
   "id": "721ff514-cb11-46f8-b6fc-50392f74b5cb",
   "metadata": {
    "papermill": {
     "duration": 0.014781,
     "end_time": "2025-07-23T14:34:47.841289",
     "exception": false,
     "start_time": "2025-07-23T14:34:47.826508",
     "status": "completed"
    },
    "tags": []
   },
   "outputs": [],
   "source": []
  }
 ],
 "metadata": {
  "celltoolbar": "Tags",
  "kernelspec": {
   "display_name": "Python (CMA Fairness)",
   "language": "python",
   "name": "cma_fair_env"
  },
  "language_info": {
   "codemirror_mode": {
    "name": "ipython",
    "version": 3
   },
   "file_extension": ".py",
   "mimetype": "text/x-python",
   "name": "python",
   "nbconvert_exporter": "python",
   "pygments_lexer": "ipython3",
   "version": "3.10.12"
  },
  "papermill": {
   "default_parameters": {},
   "duration": 65.659395,
   "end_time": "2025-07-23T14:34:48.574978",
   "environment_variables": {},
   "exception": null,
   "input_path": "universe_analysis.ipynb",
   "output_path": "output/runs/9/notebooks/m_9-faf071549fe2da5d80f6703d540ac20a.ipynb",
   "parameters": {
    "output_dir": "output",
    "run_no": "9",
    "seed": "2023",
    "universe": "{\"cutoff\": [\"quantile_0.1\", \"quantile_0.25\"], \"eval_fairness_grouping\": [\"majority-minority\", \"nationality-all\"], \"exclude_features\": \"age\", \"exclude_subgroups\": \"keep-all\", \"model\": \"elasticnet\", \"scale\": \"scale\"}",
    "universe_id": "faf071549fe2da5d80f6703d540ac20a"
   },
   "start_time": "2025-07-23T14:33:42.915583",
   "version": "2.6.0"
  }
 },
 "nbformat": 4,
 "nbformat_minor": 5
}