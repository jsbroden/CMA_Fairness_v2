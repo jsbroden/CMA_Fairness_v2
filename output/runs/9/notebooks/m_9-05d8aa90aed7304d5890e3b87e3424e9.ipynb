{
 "cells": [
  {
   "cell_type": "code",
   "execution_count": 1,
   "id": "f159f837-637b-42ba-96b5-ec9a68c44524",
   "metadata": {
    "execution": {
     "iopub.execute_input": "2025-07-23T14:37:30.771707Z",
     "iopub.status.busy": "2025-07-23T14:37:30.771289Z",
     "iopub.status.idle": "2025-07-23T14:37:30.792201Z",
     "shell.execute_reply": "2025-07-23T14:37:30.791279Z"
    },
    "papermill": {
     "duration": 0.053025,
     "end_time": "2025-07-23T14:37:30.794322",
     "exception": false,
     "start_time": "2025-07-23T14:37:30.741297",
     "status": "completed"
    },
    "tags": []
   },
   "outputs": [
    {
     "name": "stdout",
     "output_type": "stream",
     "text": [
      "/dss/dsshome1/0C/ra93lal2/cma/CMA_Fairness_v2\n"
     ]
    },
    {
     "name": "stderr",
     "output_type": "stream",
     "text": [
      "/dss/dsshome1/0C/ra93lal2/.local/share/virtualenvs/CMA_Fairness_v2-3j10GkSs/lib/python3.10/site-packages/IPython/core/magics/osm.py:393: UserWarning: This is now an optional IPython functionality, using bookmarks requires you to install the `pickleshare` library.\n",
      "  bkms = self.shell.db.get('bookmarks', {})\n",
      "/dss/dsshome1/0C/ra93lal2/.local/share/virtualenvs/CMA_Fairness_v2-3j10GkSs/lib/python3.10/site-packages/IPython/core/magics/osm.py:417: UserWarning: This is now an optional IPython functionality, setting dhist requires you to install the `pickleshare` library.\n",
      "  self.shell.db['dhist'] = compress_dhist(dhist)[-100:]\n"
     ]
    }
   ],
   "source": [
    "%cd ~/cma/CMA_Fairness_v2"
   ]
  },
  {
   "cell_type": "markdown",
   "id": "de2603b9",
   "metadata": {
    "papermill": {
     "duration": 0.036615,
     "end_time": "2025-07-23T14:37:30.865006",
     "exception": false,
     "start_time": "2025-07-23T14:37:30.828391",
     "status": "completed"
    },
    "tags": []
   },
   "source": [
    "The following cell holds the definition of our parameters, these values can be overriden by rendering the with e.g. the following command:\n",
    "\n",
    "papermill -p alpha 0.2 -p ratio 0.3 universe_analysis.ipynb output/test_run.ipynb"
   ]
  },
  {
   "cell_type": "code",
   "execution_count": 2,
   "id": "a80968a0-40bb-4fa9-85ef-2d5eefb01975",
   "metadata": {
    "execution": {
     "iopub.execute_input": "2025-07-23T14:37:30.941030Z",
     "iopub.status.busy": "2025-07-23T14:37:30.940528Z",
     "iopub.status.idle": "2025-07-23T14:37:30.947088Z",
     "shell.execute_reply": "2025-07-23T14:37:30.945893Z"
    },
    "papermill": {
     "duration": 0.043413,
     "end_time": "2025-07-23T14:37:30.952476",
     "exception": false,
     "start_time": "2025-07-23T14:37:30.909063",
     "status": "completed"
    },
    "tags": []
   },
   "outputs": [
    {
     "name": "stdout",
     "output_type": "stream",
     "text": [
      "Current working directory: /dss/dsshome1/0C/ra93lal2/cma/CMA_Fairness_v2\n"
     ]
    }
   ],
   "source": [
    "import os\n",
    "print(\"Current working directory:\", os.getcwd())"
   ]
  },
  {
   "cell_type": "code",
   "execution_count": 3,
   "id": "2dce4c03",
   "metadata": {
    "execution": {
     "iopub.execute_input": "2025-07-23T14:37:31.042258Z",
     "iopub.status.busy": "2025-07-23T14:37:31.041815Z",
     "iopub.status.idle": "2025-07-23T14:37:31.050460Z",
     "shell.execute_reply": "2025-07-23T14:37:31.049159Z"
    },
    "papermill": {
     "duration": 0.053156,
     "end_time": "2025-07-23T14:37:31.052467",
     "exception": false,
     "start_time": "2025-07-23T14:37:30.999311",
     "status": "completed"
    },
    "tags": [
     "parameters"
    ]
   },
   "outputs": [],
   "source": [
    "run_no = 0\n",
    "universe_id = \"test\"\n",
    "universe = {\n",
    "    \"scale\": \"scale\", # \"scale\", \"do-not-scale\",\n",
    "    \"model\": \"elasticnet\", # \"logreg\", \"penalized_logreg\", \"rf\", \"gbm\", \"elasticnet\"\n",
    "    \"cutoff\": [\"quantile_0.15\", \"quantile_0.30\"],\n",
    "    \"exclude_features\": \"age\", # \"none\", \"nationality\", \"sex\", \"nationality-sex\", \"age\"\n",
    "    \"exclude_subgroups\": \"keep-all\", # \"keep-all\", \"drop-non-german\"\n",
    "    #\"training_sample\": \"restricted\", # \"restricted\", \"full\"\n",
    "    \"eval_fairness_grouping\": [\"majority-minority\", \"nationality-all\"]\n",
    "}\n",
    "\n",
    "output_dir=\"./output\"\n",
    "seed=0"
   ]
  },
  {
   "cell_type": "code",
   "execution_count": 4,
   "id": "6fe6a9ed",
   "metadata": {
    "execution": {
     "iopub.execute_input": "2025-07-23T14:37:31.128144Z",
     "iopub.status.busy": "2025-07-23T14:37:31.127690Z",
     "iopub.status.idle": "2025-07-23T14:37:31.134437Z",
     "shell.execute_reply": "2025-07-23T14:37:31.133384Z"
    },
    "papermill": {
     "duration": 0.065524,
     "end_time": "2025-07-23T14:37:31.137611",
     "exception": false,
     "start_time": "2025-07-23T14:37:31.072087",
     "status": "completed"
    },
    "tags": [
     "injected-parameters"
    ]
   },
   "outputs": [],
   "source": [
    "# Parameters\n",
    "universe_id = \"05d8aa90aed7304d5890e3b87e3424e9\"\n",
    "run_no = \"9\"\n",
    "universe = \"{\\\"cutoff\\\": [\\\"quantile_0.1\\\", \\\"quantile_0.25\\\"], \\\"eval_fairness_grouping\\\": [\\\"majority-minority\\\", \\\"nationality-all\\\"], \\\"exclude_features\\\": \\\"age\\\", \\\"exclude_subgroups\\\": \\\"drop-non-german\\\", \\\"model\\\": \\\"rf\\\", \\\"scale\\\": \\\"do-not-scale\\\"}\"\n",
    "output_dir = \"output\"\n",
    "seed = \"2023\"\n"
   ]
  },
  {
   "cell_type": "code",
   "execution_count": 5,
   "id": "1650acaf",
   "metadata": {
    "execution": {
     "iopub.execute_input": "2025-07-23T14:37:31.207922Z",
     "iopub.status.busy": "2025-07-23T14:37:31.207472Z",
     "iopub.status.idle": "2025-07-23T14:37:31.213359Z",
     "shell.execute_reply": "2025-07-23T14:37:31.212191Z"
    },
    "papermill": {
     "duration": 0.050827,
     "end_time": "2025-07-23T14:37:31.227300",
     "exception": false,
     "start_time": "2025-07-23T14:37:31.176473",
     "status": "completed"
    },
    "tags": []
   },
   "outputs": [],
   "source": [
    "import json\n",
    "# Parse universe into dict if it is passed as a string\n",
    "if isinstance(universe, str):\n",
    "    universe = json.loads(universe)"
   ]
  },
  {
   "cell_type": "code",
   "execution_count": 6,
   "id": "16620c48",
   "metadata": {
    "execution": {
     "iopub.execute_input": "2025-07-23T14:37:31.310702Z",
     "iopub.status.busy": "2025-07-23T14:37:31.310291Z",
     "iopub.status.idle": "2025-07-23T14:37:31.415832Z",
     "shell.execute_reply": "2025-07-23T14:37:31.414685Z"
    },
    "papermill": {
     "duration": 0.150426,
     "end_time": "2025-07-23T14:37:31.418086",
     "exception": false,
     "start_time": "2025-07-23T14:37:31.267660",
     "status": "completed"
    },
    "tags": []
   },
   "outputs": [],
   "source": [
    "# Auto-reload the custom package\n",
    "%load_ext autoreload\n",
    "%autoreload 1\n",
    "%aimport fairness_multiverse"
   ]
  },
  {
   "cell_type": "code",
   "execution_count": 7,
   "id": "01c5c9f3",
   "metadata": {
    "execution": {
     "iopub.execute_input": "2025-07-23T14:37:31.508429Z",
     "iopub.status.busy": "2025-07-23T14:37:31.507406Z",
     "iopub.status.idle": "2025-07-23T14:37:34.916258Z",
     "shell.execute_reply": "2025-07-23T14:37:34.914330Z"
    },
    "papermill": {
     "duration": 3.452651,
     "end_time": "2025-07-23T14:37:34.918241",
     "exception": false,
     "start_time": "2025-07-23T14:37:31.465590",
     "status": "completed"
    },
    "tags": []
   },
   "outputs": [],
   "source": [
    "from fairness_multiverse.universe import UniverseAnalysis\n",
    "\n",
    "universe_analysis = UniverseAnalysis(\n",
    "    run_no = run_no,\n",
    "    universe_id = universe_id,\n",
    "    universe = universe,\n",
    "    output_dir=output_dir,\n",
    ")"
   ]
  },
  {
   "cell_type": "code",
   "execution_count": 8,
   "id": "106241f5",
   "metadata": {
    "execution": {
     "iopub.execute_input": "2025-07-23T14:37:34.953094Z",
     "iopub.status.busy": "2025-07-23T14:37:34.952467Z",
     "iopub.status.idle": "2025-07-23T14:37:34.959376Z",
     "shell.execute_reply": "2025-07-23T14:37:34.958424Z"
    },
    "papermill": {
     "duration": 0.024957,
     "end_time": "2025-07-23T14:37:34.961683",
     "exception": false,
     "start_time": "2025-07-23T14:37:34.936726",
     "status": "completed"
    },
    "tags": []
   },
   "outputs": [
    {
     "name": "stdout",
     "output_type": "stream",
     "text": [
      "Using Seed: 2023\n"
     ]
    }
   ],
   "source": [
    "import numpy as np\n",
    "parsed_seed = int(seed)\n",
    "np.random.seed(parsed_seed)\n",
    "print(f\"Using Seed: {parsed_seed}\")"
   ]
  },
  {
   "cell_type": "markdown",
   "id": "e0ebdc57",
   "metadata": {
    "papermill": {
     "duration": 0.014141,
     "end_time": "2025-07-23T14:37:34.996224",
     "exception": false,
     "start_time": "2025-07-23T14:37:34.982083",
     "status": "completed"
    },
    "tags": []
   },
   "source": [
    "# Loading Data"
   ]
  },
  {
   "cell_type": "markdown",
   "id": "681925a3",
   "metadata": {
    "papermill": {
     "duration": 0.019379,
     "end_time": "2025-07-23T14:37:35.034070",
     "exception": false,
     "start_time": "2025-07-23T14:37:35.014691",
     "status": "completed"
    },
    "tags": []
   },
   "source": [
    "Load siab_train, siab_test, siab_calib and/or \n",
    "load siab_train_features, siab_train_labels"
   ]
  },
  {
   "cell_type": "code",
   "execution_count": 9,
   "id": "f0496b8a",
   "metadata": {
    "execution": {
     "iopub.execute_input": "2025-07-23T14:37:35.070284Z",
     "iopub.status.busy": "2025-07-23T14:37:35.069738Z",
     "iopub.status.idle": "2025-07-23T14:37:35.076608Z",
     "shell.execute_reply": "2025-07-23T14:37:35.075465Z"
    },
    "papermill": {
     "duration": 0.029043,
     "end_time": "2025-07-23T14:37:35.079938",
     "exception": false,
     "start_time": "2025-07-23T14:37:35.050895",
     "status": "completed"
    },
    "tags": []
   },
   "outputs": [],
   "source": [
    "# Do I need to load siab? Delete this cell?\n",
    "\n",
    "#from pathlib import Path\n",
    "#import pandas as pd\n",
    "#\n",
    "## File paths\n",
    "#raw_file = Path(\"data/raw/siab.csv\")\n",
    "#cache_file = Path(\"data/siab_cached.csv.gz\")\n",
    "#\n",
    "## Ensure cache directory exists\n",
    "#cache_file.parent.mkdir(parents=True, exist_ok=True)\n",
    "#\n",
    "## Load with simple caching\n",
    "#if cache_file.exists():\n",
    "#    print(f\"Loading SIAB data from cache: {cache_file}\")\n",
    "#    siab = pd.read_csv(cache_file, compression='gzip')\n",
    "#else:\n",
    "#    print(f\"Cache not found. Reading raw SIAB data: {raw_file}\")\n",
    "#    siab = pd.read_csv(raw_file)\n",
    "#    siab.to_csv(cache_file, index=False, compression='gzip')\n",
    "#    print(f\"Cached SIAB data to: {cache_file}\")\n",
    "#\n",
    "## Now use `siab` DataFrame as needed\n",
    "#print(siab.shape)\n"
   ]
  },
  {
   "cell_type": "code",
   "execution_count": 10,
   "id": "a0edb063",
   "metadata": {
    "execution": {
     "iopub.execute_input": "2025-07-23T14:37:35.157963Z",
     "iopub.status.busy": "2025-07-23T14:37:35.157482Z",
     "iopub.status.idle": "2025-07-23T14:37:37.034723Z",
     "shell.execute_reply": "2025-07-23T14:37:37.033533Z"
    },
    "papermill": {
     "duration": 1.919883,
     "end_time": "2025-07-23T14:37:37.036819",
     "exception": false,
     "start_time": "2025-07-23T14:37:35.116936",
     "status": "completed"
    },
    "tags": []
   },
   "outputs": [],
   "source": [
    "import pandas as pd\n",
    "\n",
    "X_train = pd.read_csv(\"./data/X_train.csv\")\n",
    "y_train = pd.read_csv(\"./data/y_train.csv\")"
   ]
  },
  {
   "cell_type": "code",
   "execution_count": 11,
   "id": "63d08085",
   "metadata": {
    "execution": {
     "iopub.execute_input": "2025-07-23T14:37:37.137606Z",
     "iopub.status.busy": "2025-07-23T14:37:37.137164Z",
     "iopub.status.idle": "2025-07-23T14:37:40.421992Z",
     "shell.execute_reply": "2025-07-23T14:37:40.420680Z"
    },
    "papermill": {
     "duration": 3.331379,
     "end_time": "2025-07-23T14:37:40.424048",
     "exception": false,
     "start_time": "2025-07-23T14:37:37.092669",
     "status": "completed"
    },
    "tags": []
   },
   "outputs": [],
   "source": [
    "X_test = pd.read_csv(\"./data/X_test.csv\")\n",
    "y_true = pd.read_csv(\"./data/y_test.csv\")"
   ]
  },
  {
   "cell_type": "code",
   "execution_count": 12,
   "id": "98a8d0fa-1d3d-4ed8-bb2c-281470e24add",
   "metadata": {
    "execution": {
     "iopub.execute_input": "2025-07-23T14:37:40.523747Z",
     "iopub.status.busy": "2025-07-23T14:37:40.522775Z",
     "iopub.status.idle": "2025-07-23T14:37:43.515755Z",
     "shell.execute_reply": "2025-07-23T14:37:43.514632Z"
    },
    "papermill": {
     "duration": 3.039247,
     "end_time": "2025-07-23T14:37:43.518120",
     "exception": false,
     "start_time": "2025-07-23T14:37:40.478873",
     "status": "completed"
    },
    "tags": []
   },
   "outputs": [],
   "source": [
    "# Calibration data for conformal\n",
    "X_calib = pd.read_csv(\"./data/X_calib.csv\")\n",
    "y_calib = pd.read_csv(\"./data/y_calib.csv\")"
   ]
  },
  {
   "cell_type": "code",
   "execution_count": 13,
   "id": "e6c733c5",
   "metadata": {
    "execution": {
     "iopub.execute_input": "2025-07-23T14:37:43.560338Z",
     "iopub.status.busy": "2025-07-23T14:37:43.559906Z",
     "iopub.status.idle": "2025-07-23T14:37:43.731776Z",
     "shell.execute_reply": "2025-07-23T14:37:43.730635Z"
    },
    "papermill": {
     "duration": 0.193823,
     "end_time": "2025-07-23T14:37:43.734213",
     "exception": false,
     "start_time": "2025-07-23T14:37:43.540390",
     "status": "completed"
    },
    "tags": []
   },
   "outputs": [],
   "source": [
    "# Auxiliary data needed downstream in the pipeline\n",
    "\n",
    "org_train = X_train.copy()\n",
    "org_test = X_test.copy()\n",
    "org_calib = X_calib.copy()"
   ]
  },
  {
   "cell_type": "markdown",
   "id": "0a4a1b33",
   "metadata": {
    "papermill": {
     "duration": 0.019475,
     "end_time": "2025-07-23T14:37:43.773355",
     "exception": false,
     "start_time": "2025-07-23T14:37:43.753880",
     "status": "completed"
    },
    "tags": []
   },
   "source": [
    "# Preprocessing Data"
   ]
  },
  {
   "cell_type": "code",
   "execution_count": 14,
   "id": "ca879031",
   "metadata": {
    "execution": {
     "iopub.execute_input": "2025-07-23T14:37:43.811800Z",
     "iopub.status.busy": "2025-07-23T14:37:43.811370Z",
     "iopub.status.idle": "2025-07-23T14:37:43.818114Z",
     "shell.execute_reply": "2025-07-23T14:37:43.816985Z"
    },
    "papermill": {
     "duration": 0.02848,
     "end_time": "2025-07-23T14:37:43.820210",
     "exception": false,
     "start_time": "2025-07-23T14:37:43.791730",
     "status": "completed"
    },
    "tags": []
   },
   "outputs": [],
   "source": [
    "# EXCLUDE PROTECTED FEATURES\n",
    "# ----------------------\n",
    "# \"exclude_features\": \"none\", # \"nationality\", \"sex\", \"nationality-sex\"\n",
    "\n",
    "excluded_features = universe[\"exclude_features\"].split(\"-\") # split, e.g.: \"nationality-sex\" -> [\"nationality\", \"sex\"]\n",
    "excluded_features_dictionary = {\n",
    "    \"nationality\": [\"maxdeutsch1\", \"maxdeutsch.Missing.\"],\n",
    "    \"sex\": [\"frau1\"],\n",
    "    \"age\": [\"age\"],\n",
    "}\n"
   ]
  },
  {
   "cell_type": "code",
   "execution_count": 15,
   "id": "b745ac60",
   "metadata": {
    "execution": {
     "iopub.execute_input": "2025-07-23T14:37:43.863129Z",
     "iopub.status.busy": "2025-07-23T14:37:43.862665Z",
     "iopub.status.idle": "2025-07-23T14:37:43.869862Z",
     "shell.execute_reply": "2025-07-23T14:37:43.868614Z"
    },
    "papermill": {
     "duration": 0.031828,
     "end_time": "2025-07-23T14:37:43.873130",
     "exception": false,
     "start_time": "2025-07-23T14:37:43.841302",
     "status": "completed"
    },
    "tags": []
   },
   "outputs": [],
   "source": [
    "# Code nice names to column names\n",
    "\n",
    "excluded_features_columns = [\n",
    "    excluded_features_dictionary[f] for f in excluded_features if len(f) > 0 and f != \"none\"\n",
    "]"
   ]
  },
  {
   "cell_type": "code",
   "execution_count": 16,
   "id": "f84f73a2",
   "metadata": {
    "execution": {
     "iopub.execute_input": "2025-07-23T14:37:43.916436Z",
     "iopub.status.busy": "2025-07-23T14:37:43.915973Z",
     "iopub.status.idle": "2025-07-23T14:37:43.923354Z",
     "shell.execute_reply": "2025-07-23T14:37:43.922138Z"
    },
    "papermill": {
     "duration": 0.033798,
     "end_time": "2025-07-23T14:37:43.927291",
     "exception": false,
     "start_time": "2025-07-23T14:37:43.893493",
     "status": "completed"
    },
    "tags": []
   },
   "outputs": [],
   "source": [
    "from utils import flatten_once\n",
    "\n",
    "excluded_features_columns = flatten_once(excluded_features_columns)"
   ]
  },
  {
   "cell_type": "code",
   "execution_count": 17,
   "id": "884dea22",
   "metadata": {
    "execution": {
     "iopub.execute_input": "2025-07-23T14:37:43.968949Z",
     "iopub.status.busy": "2025-07-23T14:37:43.968485Z",
     "iopub.status.idle": "2025-07-23T14:37:44.024909Z",
     "shell.execute_reply": "2025-07-23T14:37:44.023626Z"
    },
    "papermill": {
     "duration": 0.079135,
     "end_time": "2025-07-23T14:37:44.027135",
     "exception": false,
     "start_time": "2025-07-23T14:37:43.948000",
     "status": "completed"
    },
    "tags": []
   },
   "outputs": [
    {
     "name": "stdout",
     "output_type": "stream",
     "text": [
      "Dropping features: ['age']\n"
     ]
    }
   ],
   "source": [
    "if len(excluded_features_columns) > 0:\n",
    "    print(f\"Dropping features: {excluded_features_columns}\")\n",
    "    X_train.drop(excluded_features_columns, axis=1, inplace=True)"
   ]
  },
  {
   "cell_type": "code",
   "execution_count": 18,
   "id": "95ab8b16",
   "metadata": {
    "execution": {
     "iopub.execute_input": "2025-07-23T14:37:44.069633Z",
     "iopub.status.busy": "2025-07-23T14:37:44.069177Z",
     "iopub.status.idle": "2025-07-23T14:37:44.139211Z",
     "shell.execute_reply": "2025-07-23T14:37:44.138024Z"
    },
    "papermill": {
     "duration": 0.093635,
     "end_time": "2025-07-23T14:37:44.141534",
     "exception": false,
     "start_time": "2025-07-23T14:37:44.047899",
     "status": "completed"
    },
    "tags": []
   },
   "outputs": [
    {
     "name": "stdout",
     "output_type": "stream",
     "text": [
      "Dropping features: ['age']\n"
     ]
    }
   ],
   "source": [
    "if len(excluded_features_columns) > 0:\n",
    "    print(f\"Dropping features: {excluded_features_columns}\")\n",
    "    X_test.drop(excluded_features_columns, axis=1, inplace=True)"
   ]
  },
  {
   "cell_type": "code",
   "execution_count": 19,
   "id": "1853aaf5-fb9f-46cb-a2b5-8ea4ae2237e4",
   "metadata": {
    "execution": {
     "iopub.execute_input": "2025-07-23T14:37:44.201666Z",
     "iopub.status.busy": "2025-07-23T14:37:44.201218Z",
     "iopub.status.idle": "2025-07-23T14:37:44.268312Z",
     "shell.execute_reply": "2025-07-23T14:37:44.267039Z"
    },
    "papermill": {
     "duration": 0.096984,
     "end_time": "2025-07-23T14:37:44.270936",
     "exception": false,
     "start_time": "2025-07-23T14:37:44.173952",
     "status": "completed"
    },
    "tags": []
   },
   "outputs": [
    {
     "name": "stdout",
     "output_type": "stream",
     "text": [
      "Dropping features: ['age']\n"
     ]
    }
   ],
   "source": [
    "if len(excluded_features_columns) > 0:\n",
    "    print(f\"Dropping features: {excluded_features_columns}\")\n",
    "    X_calib.drop(excluded_features_columns, axis=1, inplace=True)"
   ]
  },
  {
   "cell_type": "code",
   "execution_count": 20,
   "id": "76c4dc6d",
   "metadata": {
    "execution": {
     "iopub.execute_input": "2025-07-23T14:37:44.314903Z",
     "iopub.status.busy": "2025-07-23T14:37:44.314442Z",
     "iopub.status.idle": "2025-07-23T14:37:44.321061Z",
     "shell.execute_reply": "2025-07-23T14:37:44.319743Z"
    },
    "papermill": {
     "duration": 0.031896,
     "end_time": "2025-07-23T14:37:44.324818",
     "exception": false,
     "start_time": "2025-07-23T14:37:44.292922",
     "status": "completed"
    },
    "tags": []
   },
   "outputs": [],
   "source": [
    "# EXCLUDE CERTAIN SUBGROUPS\n",
    "# ----------------------\n",
    "\n",
    "mode = universe.get(\"exclude_subgroups\", \"keep-all\") \n",
    "# Fetches the exclude_subgroups setting from the universe dict.\n",
    "# Defaults to \"keep-all\" if the key is missing."
   ]
  },
  {
   "cell_type": "code",
   "execution_count": 21,
   "id": "21994072",
   "metadata": {
    "execution": {
     "iopub.execute_input": "2025-07-23T14:37:44.412427Z",
     "iopub.status.busy": "2025-07-23T14:37:44.411967Z",
     "iopub.status.idle": "2025-07-23T14:37:44.420564Z",
     "shell.execute_reply": "2025-07-23T14:37:44.419145Z"
    },
    "papermill": {
     "duration": 0.034953,
     "end_time": "2025-07-23T14:37:44.424367",
     "exception": false,
     "start_time": "2025-07-23T14:37:44.389414",
     "status": "completed"
    },
    "tags": []
   },
   "outputs": [],
   "source": [
    "if mode == \"keep-all\":\n",
    "    keep_mask = pd.Series(True, index=org_train.index)\n",
    "\n",
    "# org_train contains the original feature columns from features_org (in Simson)\n",
    "# features_org contains unprocessed features, for me X_train at beginning ???\n",
    "# For keep-all, creates a boolean Series (keep_mask) of all True, so no rows are removed.\n",
    "\n",
    "elif mode == \"drop-non-german\":\n",
    "    keep_mask = org_train[\"maxdeutsch1\"] == 1 # ??? what about missing values?\n",
    "\n",
    "else:\n",
    "    raise ValueError(f\"Unsupported mode for exclude_subgroups: {mode}\")\n"
   ]
  },
  {
   "cell_type": "code",
   "execution_count": 22,
   "id": "71651440",
   "metadata": {
    "execution": {
     "iopub.execute_input": "2025-07-23T14:37:44.482654Z",
     "iopub.status.busy": "2025-07-23T14:37:44.482168Z",
     "iopub.status.idle": "2025-07-23T14:37:44.492624Z",
     "shell.execute_reply": "2025-07-23T14:37:44.491510Z"
    },
    "papermill": {
     "duration": 0.05001,
     "end_time": "2025-07-23T14:37:44.495966",
     "exception": false,
     "start_time": "2025-07-23T14:37:44.445956",
     "status": "completed"
    },
    "tags": []
   },
   "outputs": [
    {
     "name": "stdout",
     "output_type": "stream",
     "text": [
      "Dropping 10036 rows (13.38%) where mode='drop-non-german'\n"
     ]
    }
   ],
   "source": [
    "n_drop = (~keep_mask).sum() # Calculates how many rows are set to be dropped\n",
    "if n_drop > 0:\n",
    "    pct = n_drop / len(keep_mask) * 100\n",
    "    print(f\"Dropping {n_drop} rows ({pct:.2f}%) where mode='{mode}'\")"
   ]
  },
  {
   "cell_type": "code",
   "execution_count": 23,
   "id": "5fb8eee5",
   "metadata": {
    "execution": {
     "iopub.execute_input": "2025-07-23T14:37:44.593519Z",
     "iopub.status.busy": "2025-07-23T14:37:44.593050Z",
     "iopub.status.idle": "2025-07-23T14:37:44.696437Z",
     "shell.execute_reply": "2025-07-23T14:37:44.695189Z"
    },
    "papermill": {
     "duration": 0.148101,
     "end_time": "2025-07-23T14:37:44.698773",
     "exception": false,
     "start_time": "2025-07-23T14:37:44.550672",
     "status": "completed"
    },
    "tags": []
   },
   "outputs": [],
   "source": [
    "X_train = X_train[keep_mask]"
   ]
  },
  {
   "cell_type": "code",
   "execution_count": 24,
   "id": "b202bb3a",
   "metadata": {
    "execution": {
     "iopub.execute_input": "2025-07-23T14:37:44.760698Z",
     "iopub.status.busy": "2025-07-23T14:37:44.760236Z",
     "iopub.status.idle": "2025-07-23T14:37:44.769946Z",
     "shell.execute_reply": "2025-07-23T14:37:44.768570Z"
    },
    "papermill": {
     "duration": 0.053323,
     "end_time": "2025-07-23T14:37:44.773565",
     "exception": false,
     "start_time": "2025-07-23T14:37:44.720242",
     "status": "completed"
    },
    "tags": []
   },
   "outputs": [],
   "source": [
    "y_train = y_train[keep_mask]"
   ]
  },
  {
   "cell_type": "markdown",
   "id": "493e2ac3",
   "metadata": {
    "papermill": {
     "duration": 0.059144,
     "end_time": "2025-07-23T14:37:44.869935",
     "exception": false,
     "start_time": "2025-07-23T14:37:44.810791",
     "status": "completed"
    },
    "tags": []
   },
   "source": [
    "# Model Training"
   ]
  },
  {
   "cell_type": "code",
   "execution_count": 25,
   "id": "679e1268",
   "metadata": {
    "execution": {
     "iopub.execute_input": "2025-07-23T14:37:44.965514Z",
     "iopub.status.busy": "2025-07-23T14:37:44.965042Z",
     "iopub.status.idle": "2025-07-23T14:37:45.185219Z",
     "shell.execute_reply": "2025-07-23T14:37:45.184003Z"
    },
    "papermill": {
     "duration": 0.26474,
     "end_time": "2025-07-23T14:37:45.187614",
     "exception": false,
     "start_time": "2025-07-23T14:37:44.922874",
     "status": "completed"
    },
    "tags": []
   },
   "outputs": [],
   "source": [
    "from sklearn.linear_model import LogisticRegression\n",
    "from sklearn.ensemble import GradientBoostingClassifier, RandomForestClassifier\n",
    "\n",
    "if (universe[\"model\"] == \"logreg\"):\n",
    "    model = LogisticRegression() #penalty=\"none\") #, solver=\"newton-cg\", max_iter=1) # include random_state=19 ?\n",
    "elif (universe[\"model\"] == \"penalized_logreg\"):\n",
    "    model = LogisticRegression(penalty=\"l2\", C=1.0) #, solver=\"newton-cg\", max_iter=1)\n",
    "elif (universe[\"model\"] == \"rf\"):\n",
    "    model = RandomForestClassifier(n_estimators=100, n_jobs=-1)\n",
    "elif (universe[\"model\"] == \"gbm\"):\n",
    "    model = GradientBoostingClassifier()\n",
    "elif (universe[\"model\"] == \"elasticnet\"):\n",
    "    model = LogisticRegression(penalty = 'elasticnet', solver = 'saga', l1_ratio = 0.5, max_iter=5000) # which solver to use?\n",
    "else:\n",
    "    raise \"Unsupported universe.model\""
   ]
  },
  {
   "cell_type": "code",
   "execution_count": 26,
   "id": "0cc8f744",
   "metadata": {
    "execution": {
     "iopub.execute_input": "2025-07-23T14:37:45.241344Z",
     "iopub.status.busy": "2025-07-23T14:37:45.240837Z",
     "iopub.status.idle": "2025-07-23T14:37:45.250119Z",
     "shell.execute_reply": "2025-07-23T14:37:45.249036Z"
    },
    "papermill": {
     "duration": 0.043497,
     "end_time": "2025-07-23T14:37:45.252524",
     "exception": false,
     "start_time": "2025-07-23T14:37:45.209027",
     "status": "completed"
    },
    "tags": []
   },
   "outputs": [],
   "source": [
    "import numpy as np\n",
    "from sklearn.pipeline import Pipeline\n",
    "from sklearn.preprocessing import StandardScaler\n",
    "\n",
    "model = Pipeline([\n",
    "    #(\"continuous_processor\", continuous_processor),\n",
    "    #(\"categorical_preprocessor\", categorical_preprocessor),\n",
    "    (\"scale\", StandardScaler() if universe[\"scale\"] == \"scale\" else None), \n",
    "    (\"model\", model),\n",
    "])"
   ]
  },
  {
   "cell_type": "code",
   "execution_count": 27,
   "id": "9442c04d",
   "metadata": {
    "execution": {
     "iopub.execute_input": "2025-07-23T14:37:45.303746Z",
     "iopub.status.busy": "2025-07-23T14:37:45.303293Z",
     "iopub.status.idle": "2025-07-23T14:37:55.327752Z",
     "shell.execute_reply": "2025-07-23T14:37:55.326668Z"
    },
    "papermill": {
     "duration": 10.048922,
     "end_time": "2025-07-23T14:37:55.329542",
     "exception": false,
     "start_time": "2025-07-23T14:37:45.280620",
     "status": "completed"
    },
    "tags": []
   },
   "outputs": [
    {
     "data": {
      "text/html": [
       "<style>#sk-container-id-1 {color: black;background-color: white;}#sk-container-id-1 pre{padding: 0;}#sk-container-id-1 div.sk-toggleable {background-color: white;}#sk-container-id-1 label.sk-toggleable__label {cursor: pointer;display: block;width: 100%;margin-bottom: 0;padding: 0.3em;box-sizing: border-box;text-align: center;}#sk-container-id-1 label.sk-toggleable__label-arrow:before {content: \"▸\";float: left;margin-right: 0.25em;color: #696969;}#sk-container-id-1 label.sk-toggleable__label-arrow:hover:before {color: black;}#sk-container-id-1 div.sk-estimator:hover label.sk-toggleable__label-arrow:before {color: black;}#sk-container-id-1 div.sk-toggleable__content {max-height: 0;max-width: 0;overflow: hidden;text-align: left;background-color: #f0f8ff;}#sk-container-id-1 div.sk-toggleable__content pre {margin: 0.2em;color: black;border-radius: 0.25em;background-color: #f0f8ff;}#sk-container-id-1 input.sk-toggleable__control:checked~div.sk-toggleable__content {max-height: 200px;max-width: 100%;overflow: auto;}#sk-container-id-1 input.sk-toggleable__control:checked~label.sk-toggleable__label-arrow:before {content: \"▾\";}#sk-container-id-1 div.sk-estimator input.sk-toggleable__control:checked~label.sk-toggleable__label {background-color: #d4ebff;}#sk-container-id-1 div.sk-label input.sk-toggleable__control:checked~label.sk-toggleable__label {background-color: #d4ebff;}#sk-container-id-1 input.sk-hidden--visually {border: 0;clip: rect(1px 1px 1px 1px);clip: rect(1px, 1px, 1px, 1px);height: 1px;margin: -1px;overflow: hidden;padding: 0;position: absolute;width: 1px;}#sk-container-id-1 div.sk-estimator {font-family: monospace;background-color: #f0f8ff;border: 1px dotted black;border-radius: 0.25em;box-sizing: border-box;margin-bottom: 0.5em;}#sk-container-id-1 div.sk-estimator:hover {background-color: #d4ebff;}#sk-container-id-1 div.sk-parallel-item::after {content: \"\";width: 100%;border-bottom: 1px solid gray;flex-grow: 1;}#sk-container-id-1 div.sk-label:hover label.sk-toggleable__label {background-color: #d4ebff;}#sk-container-id-1 div.sk-serial::before {content: \"\";position: absolute;border-left: 1px solid gray;box-sizing: border-box;top: 0;bottom: 0;left: 50%;z-index: 0;}#sk-container-id-1 div.sk-serial {display: flex;flex-direction: column;align-items: center;background-color: white;padding-right: 0.2em;padding-left: 0.2em;position: relative;}#sk-container-id-1 div.sk-item {position: relative;z-index: 1;}#sk-container-id-1 div.sk-parallel {display: flex;align-items: stretch;justify-content: center;background-color: white;position: relative;}#sk-container-id-1 div.sk-item::before, #sk-container-id-1 div.sk-parallel-item::before {content: \"\";position: absolute;border-left: 1px solid gray;box-sizing: border-box;top: 0;bottom: 0;left: 50%;z-index: -1;}#sk-container-id-1 div.sk-parallel-item {display: flex;flex-direction: column;z-index: 1;position: relative;background-color: white;}#sk-container-id-1 div.sk-parallel-item:first-child::after {align-self: flex-end;width: 50%;}#sk-container-id-1 div.sk-parallel-item:last-child::after {align-self: flex-start;width: 50%;}#sk-container-id-1 div.sk-parallel-item:only-child::after {width: 0;}#sk-container-id-1 div.sk-dashed-wrapped {border: 1px dashed gray;margin: 0 0.4em 0.5em 0.4em;box-sizing: border-box;padding-bottom: 0.4em;background-color: white;}#sk-container-id-1 div.sk-label label {font-family: monospace;font-weight: bold;display: inline-block;line-height: 1.2em;}#sk-container-id-1 div.sk-label-container {text-align: center;}#sk-container-id-1 div.sk-container {/* jupyter's `normalize.less` sets `[hidden] { display: none; }` but bootstrap.min.css set `[hidden] { display: none !important; }` so we also need the `!important` here to be able to override the default hidden behavior on the sphinx rendered scikit-learn.org. See: https://github.com/scikit-learn/scikit-learn/issues/21755 */display: inline-block !important;position: relative;}#sk-container-id-1 div.sk-text-repr-fallback {display: none;}</style><div id=\"sk-container-id-1\" class=\"sk-top-container\"><div class=\"sk-text-repr-fallback\"><pre>Pipeline(steps=[(&#x27;scale&#x27;, None), (&#x27;model&#x27;, RandomForestClassifier(n_jobs=-1))])</pre><b>In a Jupyter environment, please rerun this cell to show the HTML representation or trust the notebook. <br />On GitHub, the HTML representation is unable to render, please try loading this page with nbviewer.org.</b></div><div class=\"sk-container\" hidden><div class=\"sk-item sk-dashed-wrapped\"><div class=\"sk-label-container\"><div class=\"sk-label sk-toggleable\"><input class=\"sk-toggleable__control sk-hidden--visually\" id=\"sk-estimator-id-1\" type=\"checkbox\" ><label for=\"sk-estimator-id-1\" class=\"sk-toggleable__label sk-toggleable__label-arrow\">Pipeline</label><div class=\"sk-toggleable__content\"><pre>Pipeline(steps=[(&#x27;scale&#x27;, None), (&#x27;model&#x27;, RandomForestClassifier(n_jobs=-1))])</pre></div></div></div><div class=\"sk-serial\"><div class=\"sk-item\"><div class=\"sk-estimator sk-toggleable\"><input class=\"sk-toggleable__control sk-hidden--visually\" id=\"sk-estimator-id-2\" type=\"checkbox\" ><label for=\"sk-estimator-id-2\" class=\"sk-toggleable__label sk-toggleable__label-arrow\">None</label><div class=\"sk-toggleable__content\"><pre>None</pre></div></div></div><div class=\"sk-item\"><div class=\"sk-estimator sk-toggleable\"><input class=\"sk-toggleable__control sk-hidden--visually\" id=\"sk-estimator-id-3\" type=\"checkbox\" ><label for=\"sk-estimator-id-3\" class=\"sk-toggleable__label sk-toggleable__label-arrow\">RandomForestClassifier</label><div class=\"sk-toggleable__content\"><pre>RandomForestClassifier(n_jobs=-1)</pre></div></div></div></div></div></div></div>"
      ],
      "text/plain": [
       "Pipeline(steps=[('scale', None), ('model', RandomForestClassifier(n_jobs=-1))])"
      ]
     },
     "execution_count": 27,
     "metadata": {},
     "output_type": "execute_result"
    }
   ],
   "source": [
    "model.fit(X_train, y_train.values.ravel())"
   ]
  },
  {
   "cell_type": "code",
   "execution_count": 28,
   "id": "af59f8c0",
   "metadata": {
    "execution": {
     "iopub.execute_input": "2025-07-23T14:37:55.377764Z",
     "iopub.status.busy": "2025-07-23T14:37:55.377232Z",
     "iopub.status.idle": "2025-07-23T14:37:55.383298Z",
     "shell.execute_reply": "2025-07-23T14:37:55.382320Z"
    },
    "papermill": {
     "duration": 0.031171,
     "end_time": "2025-07-23T14:37:55.385140",
     "exception": false,
     "start_time": "2025-07-23T14:37:55.353969",
     "status": "completed"
    },
    "tags": []
   },
   "outputs": [],
   "source": [
    "from fairness_multiverse.universe import predict_w_threshold"
   ]
  },
  {
   "cell_type": "code",
   "execution_count": 29,
   "id": "a7cf2e16",
   "metadata": {
    "execution": {
     "iopub.execute_input": "2025-07-23T14:37:55.431631Z",
     "iopub.status.busy": "2025-07-23T14:37:55.430390Z",
     "iopub.status.idle": "2025-07-23T14:37:56.624222Z",
     "shell.execute_reply": "2025-07-23T14:37:56.623280Z"
    },
    "papermill": {
     "duration": 1.218304,
     "end_time": "2025-07-23T14:37:56.625878",
     "exception": false,
     "start_time": "2025-07-23T14:37:55.407574",
     "status": "completed"
    },
    "tags": []
   },
   "outputs": [
    {
     "data": {
      "text/plain": [
       "0.867829673392041"
      ]
     },
     "execution_count": 29,
     "metadata": {},
     "output_type": "execute_result"
    }
   ],
   "source": [
    "probs_test = model.predict_proba(X_test)\n",
    "\n",
    "'''\n",
    "Below code returns a boolean array (or binary 0/1 array depending on how it’s used) where each element \n",
    "is True if the probability of class 1 is greater than or equal to the threshold, and False otherwise.\n",
    "'''\n",
    "y_pred_default = predict_w_threshold(probs_test, 0.5)\n",
    "\n",
    "from sklearn.metrics import accuracy_score\n",
    "\n",
    "# Naive prediction\n",
    "accuracy_score(y_true = y_true, y_pred = y_pred_default)"
   ]
  },
  {
   "cell_type": "code",
   "execution_count": 30,
   "id": "081964c3",
   "metadata": {
    "execution": {
     "iopub.execute_input": "2025-07-23T14:37:56.668810Z",
     "iopub.status.busy": "2025-07-23T14:37:56.668404Z",
     "iopub.status.idle": "2025-07-23T14:37:57.993259Z",
     "shell.execute_reply": "2025-07-23T14:37:57.992328Z"
    },
    "papermill": {
     "duration": 1.34718,
     "end_time": "2025-07-23T14:37:57.995001",
     "exception": false,
     "start_time": "2025-07-23T14:37:56.647821",
     "status": "completed"
    },
    "tags": []
   },
   "outputs": [
    {
     "data": {
      "text/plain": [
       "array([0, 0, 0, ..., 0, 0, 0])"
      ]
     },
     "execution_count": 30,
     "metadata": {},
     "output_type": "execute_result"
    }
   ],
   "source": [
    "model.predict(X_test)"
   ]
  },
  {
   "cell_type": "markdown",
   "id": "56c9705b",
   "metadata": {
    "papermill": {
     "duration": 0.019009,
     "end_time": "2025-07-23T14:37:58.033685",
     "exception": false,
     "start_time": "2025-07-23T14:37:58.014676",
     "status": "completed"
    },
    "tags": []
   },
   "source": [
    "# Conformal Prediction"
   ]
  },
  {
   "cell_type": "code",
   "execution_count": 31,
   "id": "160ec6ff",
   "metadata": {
    "execution": {
     "iopub.execute_input": "2025-07-23T14:37:58.074376Z",
     "iopub.status.busy": "2025-07-23T14:37:58.073617Z",
     "iopub.status.idle": "2025-07-23T14:37:58.079807Z",
     "shell.execute_reply": "2025-07-23T14:37:58.078822Z"
    },
    "papermill": {
     "duration": 0.028369,
     "end_time": "2025-07-23T14:37:58.081525",
     "exception": false,
     "start_time": "2025-07-23T14:37:58.053156",
     "status": "completed"
    },
    "tags": []
   },
   "outputs": [],
   "source": [
    "# Miscoverage level for conformal prediction (10% allowed error rate => 90% target coverage)\n",
    "alpha = 0.1"
   ]
  },
  {
   "cell_type": "code",
   "execution_count": 32,
   "id": "eadf4555-3dd3-440e-8e35-f82a4ad9f855",
   "metadata": {
    "execution": {
     "iopub.execute_input": "2025-07-23T14:37:58.122201Z",
     "iopub.status.busy": "2025-07-23T14:37:58.121592Z",
     "iopub.status.idle": "2025-07-23T14:37:59.403195Z",
     "shell.execute_reply": "2025-07-23T14:37:59.402211Z"
    },
    "papermill": {
     "duration": 1.303757,
     "end_time": "2025-07-23T14:37:59.405215",
     "exception": false,
     "start_time": "2025-07-23T14:37:58.101458",
     "status": "completed"
    },
    "tags": []
   },
   "outputs": [],
   "source": [
    "probs_calib = model.predict_proba(X_calib)"
   ]
  },
  {
   "cell_type": "code",
   "execution_count": 33,
   "id": "2ed93547-6d5d-4983-9b36-1ecb300da49a",
   "metadata": {
    "execution": {
     "iopub.execute_input": "2025-07-23T14:37:59.448951Z",
     "iopub.status.busy": "2025-07-23T14:37:59.448428Z",
     "iopub.status.idle": "2025-07-23T14:37:59.454391Z",
     "shell.execute_reply": "2025-07-23T14:37:59.453347Z"
    },
    "papermill": {
     "duration": 0.029561,
     "end_time": "2025-07-23T14:37:59.456019",
     "exception": false,
     "start_time": "2025-07-23T14:37:59.426458",
     "status": "completed"
    },
    "tags": []
   },
   "outputs": [],
   "source": [
    "y_calib = y_calib.values.ravel().astype(int)"
   ]
  },
  {
   "cell_type": "code",
   "execution_count": 34,
   "id": "65d1320d-f588-4b38-9072-62af1ae97f7d",
   "metadata": {
    "execution": {
     "iopub.execute_input": "2025-07-23T14:37:59.499047Z",
     "iopub.status.busy": "2025-07-23T14:37:59.498282Z",
     "iopub.status.idle": "2025-07-23T14:37:59.506960Z",
     "shell.execute_reply": "2025-07-23T14:37:59.506025Z"
    },
    "papermill": {
     "duration": 0.032336,
     "end_time": "2025-07-23T14:37:59.508673",
     "exception": false,
     "start_time": "2025-07-23T14:37:59.476337",
     "status": "completed"
    },
    "tags": []
   },
   "outputs": [],
   "source": [
    "from fairness_multiverse.conformal import compute_nc_scores\n",
    "\n",
    "# Compute nonconformity scores on calibration set (1 - probability of true class)\n",
    "nc_scores = compute_nc_scores(probs_calib, y_calib)"
   ]
  },
  {
   "cell_type": "code",
   "execution_count": 35,
   "id": "df3b8ca3-53b7-43d5-9667-7c85da7aeda2",
   "metadata": {
    "execution": {
     "iopub.execute_input": "2025-07-23T14:37:59.552349Z",
     "iopub.status.busy": "2025-07-23T14:37:59.551475Z",
     "iopub.status.idle": "2025-07-23T14:37:59.559365Z",
     "shell.execute_reply": "2025-07-23T14:37:59.558381Z"
    },
    "papermill": {
     "duration": 0.032266,
     "end_time": "2025-07-23T14:37:59.561245",
     "exception": false,
     "start_time": "2025-07-23T14:37:59.528979",
     "status": "completed"
    },
    "tags": []
   },
   "outputs": [],
   "source": [
    "from fairness_multiverse.conformal import find_threshold\n",
    "\n",
    "# Find conformal threshold q_hat for the given alpha (split conformal method)\n",
    "q_hat = find_threshold(nc_scores, alpha)"
   ]
  },
  {
   "cell_type": "code",
   "execution_count": 36,
   "id": "4d29e6c1-0ef6-4aa4-b8fe-4fe79b0d033a",
   "metadata": {
    "execution": {
     "iopub.execute_input": "2025-07-23T14:37:59.605166Z",
     "iopub.status.busy": "2025-07-23T14:37:59.604219Z",
     "iopub.status.idle": "2025-07-23T14:37:59.612617Z",
     "shell.execute_reply": "2025-07-23T14:37:59.611413Z"
    },
    "papermill": {
     "duration": 0.032841,
     "end_time": "2025-07-23T14:37:59.614694",
     "exception": false,
     "start_time": "2025-07-23T14:37:59.581853",
     "status": "completed"
    },
    "tags": []
   },
   "outputs": [
    {
     "data": {
      "text/plain": [
       "0.65"
      ]
     },
     "execution_count": 36,
     "metadata": {},
     "output_type": "execute_result"
    }
   ],
   "source": [
    "q_hat"
   ]
  },
  {
   "cell_type": "code",
   "execution_count": 37,
   "id": "92460794-cdac-4be2-ba28-f28c0515a6fb",
   "metadata": {
    "execution": {
     "iopub.execute_input": "2025-07-23T14:37:59.657580Z",
     "iopub.status.busy": "2025-07-23T14:37:59.657073Z",
     "iopub.status.idle": "2025-07-23T14:38:01.657040Z",
     "shell.execute_reply": "2025-07-23T14:38:01.656175Z"
    },
    "papermill": {
     "duration": 2.022931,
     "end_time": "2025-07-23T14:38:01.658586",
     "exception": false,
     "start_time": "2025-07-23T14:37:59.635655",
     "status": "completed"
    },
    "tags": []
   },
   "outputs": [],
   "source": [
    "from fairness_multiverse.conformal import predict_conformal_sets\n",
    "\n",
    "# Generate prediction sets for each test example\n",
    "pred_sets = predict_conformal_sets(model, X_test, q_hat)"
   ]
  },
  {
   "cell_type": "code",
   "execution_count": 38,
   "id": "d90c9a65-e6db-4f5d-80cd-e68fb7e46829",
   "metadata": {
    "execution": {
     "iopub.execute_input": "2025-07-23T14:38:01.690750Z",
     "iopub.status.busy": "2025-07-23T14:38:01.690103Z",
     "iopub.status.idle": "2025-07-23T14:38:01.696269Z",
     "shell.execute_reply": "2025-07-23T14:38:01.695182Z"
    },
    "papermill": {
     "duration": 0.025313,
     "end_time": "2025-07-23T14:38:01.698249",
     "exception": false,
     "start_time": "2025-07-23T14:38:01.672936",
     "status": "completed"
    },
    "tags": []
   },
   "outputs": [],
   "source": [
    "y_true = y_true.squeeze()"
   ]
  },
  {
   "cell_type": "code",
   "execution_count": 39,
   "id": "3a58a54a-1e68-46b9-927a-df01f18aebc8",
   "metadata": {
    "execution": {
     "iopub.execute_input": "2025-07-23T14:38:01.746464Z",
     "iopub.status.busy": "2025-07-23T14:38:01.745741Z",
     "iopub.status.idle": "2025-07-23T14:38:02.738802Z",
     "shell.execute_reply": "2025-07-23T14:38:02.737922Z"
    },
    "papermill": {
     "duration": 1.018827,
     "end_time": "2025-07-23T14:38:02.740369",
     "exception": false,
     "start_time": "2025-07-23T14:38:01.721542",
     "status": "completed"
    },
    "tags": []
   },
   "outputs": [],
   "source": [
    "from fairness_multiverse.conformal import evaluate_sets\n",
    "\n",
    "# Evaluate coverage and average set size on test data\n",
    "metrics = evaluate_sets(pred_sets, y_true)"
   ]
  },
  {
   "cell_type": "code",
   "execution_count": 40,
   "id": "5ce0a5cb-201f-45a0-ade5-94c7f0bd6095",
   "metadata": {
    "execution": {
     "iopub.execute_input": "2025-07-23T14:38:02.778664Z",
     "iopub.status.busy": "2025-07-23T14:38:02.778192Z",
     "iopub.status.idle": "2025-07-23T14:38:02.785839Z",
     "shell.execute_reply": "2025-07-23T14:38:02.784770Z"
    },
    "papermill": {
     "duration": 0.032557,
     "end_time": "2025-07-23T14:38:02.787503",
     "exception": false,
     "start_time": "2025-07-23T14:38:02.754946",
     "status": "completed"
    },
    "tags": []
   },
   "outputs": [
    {
     "data": {
      "text/plain": [
       "{'coverage': 0.9140564039683424, 'avg_size': 1.135057407200981}"
      ]
     },
     "execution_count": 40,
     "metadata": {},
     "output_type": "execute_result"
    }
   ],
   "source": [
    "metrics"
   ]
  },
  {
   "cell_type": "code",
   "execution_count": 41,
   "id": "9b9a838d-31c9-430b-ae14-12baee460d17",
   "metadata": {
    "execution": {
     "iopub.execute_input": "2025-07-23T14:38:02.830861Z",
     "iopub.status.busy": "2025-07-23T14:38:02.829980Z",
     "iopub.status.idle": "2025-07-23T14:38:02.837139Z",
     "shell.execute_reply": "2025-07-23T14:38:02.836095Z"
    },
    "papermill": {
     "duration": 0.030668,
     "end_time": "2025-07-23T14:38:02.838856",
     "exception": false,
     "start_time": "2025-07-23T14:38:02.808188",
     "status": "completed"
    },
    "tags": []
   },
   "outputs": [],
   "source": [
    "example_universe = universe.copy()\n",
    "universe_model = example_universe.get(\"model\")\n",
    "universe_exclude_features = example_universe.get(\"exclude_features\")\n",
    "universe_exclude_subgroups = example_universe.get(\"exclude_subgroups\")\n",
    "universe_scale = example_universe.get(\"scale\")"
   ]
  },
  {
   "cell_type": "code",
   "execution_count": 42,
   "id": "f4b6a8ac-9dc0-4245-8a91-5b3b5999c4f9",
   "metadata": {
    "execution": {
     "iopub.execute_input": "2025-07-23T14:38:02.881573Z",
     "iopub.status.busy": "2025-07-23T14:38:02.880689Z",
     "iopub.status.idle": "2025-07-23T14:38:02.887480Z",
     "shell.execute_reply": "2025-07-23T14:38:02.886549Z"
    },
    "papermill": {
     "duration": 0.029764,
     "end_time": "2025-07-23T14:38:02.889326",
     "exception": false,
     "start_time": "2025-07-23T14:38:02.859562",
     "status": "completed"
    },
    "tags": []
   },
   "outputs": [],
   "source": [
    "cp_metrics_dict = {\n",
    "    \"universe_id\": [universe_id],\n",
    "    \"universe_model\": [universe_model],\n",
    "    \"universe_exclude_features\": [universe_exclude_features],\n",
    "    \"universe_exclude_subgroups\": [universe_exclude_subgroups],\n",
    "    \"universe_scale\": [universe_scale],\n",
    "    \"q_hat\": [q_hat],\n",
    "    \"coverage\": [metrics[\"coverage\"]],\n",
    "    \"avg_size\": [metrics[\"avg_size\"]],\n",
    "}"
   ]
  },
  {
   "cell_type": "code",
   "execution_count": 43,
   "id": "908acbb1-0371-4915-85ca-3fa520d2efe2",
   "metadata": {
    "execution": {
     "iopub.execute_input": "2025-07-23T14:38:02.933067Z",
     "iopub.status.busy": "2025-07-23T14:38:02.932597Z",
     "iopub.status.idle": "2025-07-23T14:38:02.941057Z",
     "shell.execute_reply": "2025-07-23T14:38:02.939963Z"
    },
    "papermill": {
     "duration": 0.033002,
     "end_time": "2025-07-23T14:38:02.942915",
     "exception": false,
     "start_time": "2025-07-23T14:38:02.909913",
     "status": "completed"
    },
    "tags": []
   },
   "outputs": [
    {
     "data": {
      "text/plain": [
       "{'universe_id': ['05d8aa90aed7304d5890e3b87e3424e9'],\n",
       " 'universe_model': ['rf'],\n",
       " 'universe_exclude_features': ['age'],\n",
       " 'universe_exclude_subgroups': ['drop-non-german'],\n",
       " 'universe_scale': ['do-not-scale'],\n",
       " 'q_hat': [0.65],\n",
       " 'coverage': [0.9140564039683424],\n",
       " 'avg_size': [1.135057407200981]}"
      ]
     },
     "execution_count": 43,
     "metadata": {},
     "output_type": "execute_result"
    }
   ],
   "source": [
    "cp_metrics_dict"
   ]
  },
  {
   "cell_type": "code",
   "execution_count": 44,
   "id": "33007efc-14e9-4ec6-97ac-56a455c82265",
   "metadata": {
    "execution": {
     "iopub.execute_input": "2025-07-23T14:38:02.986802Z",
     "iopub.status.busy": "2025-07-23T14:38:02.986345Z",
     "iopub.status.idle": "2025-07-23T14:38:02.994084Z",
     "shell.execute_reply": "2025-07-23T14:38:02.993331Z"
    },
    "papermill": {
     "duration": 0.031344,
     "end_time": "2025-07-23T14:38:02.995668",
     "exception": false,
     "start_time": "2025-07-23T14:38:02.964324",
     "status": "completed"
    },
    "tags": []
   },
   "outputs": [],
   "source": [
    "cp_metrics_df = pd.DataFrame(cp_metrics_dict)"
   ]
  },
  {
   "cell_type": "code",
   "execution_count": 45,
   "id": "db12611b-57b2-4910-b9d0-355adfd6e7bf",
   "metadata": {
    "execution": {
     "iopub.execute_input": "2025-07-23T14:38:03.038944Z",
     "iopub.status.busy": "2025-07-23T14:38:03.038162Z",
     "iopub.status.idle": "2025-07-23T14:38:03.055643Z",
     "shell.execute_reply": "2025-07-23T14:38:03.054582Z"
    },
    "papermill": {
     "duration": 0.040356,
     "end_time": "2025-07-23T14:38:03.057008",
     "exception": false,
     "start_time": "2025-07-23T14:38:03.016652",
     "status": "completed"
    },
    "tags": []
   },
   "outputs": [
    {
     "data": {
      "text/html": [
       "<div>\n",
       "<style scoped>\n",
       "    .dataframe tbody tr th:only-of-type {\n",
       "        vertical-align: middle;\n",
       "    }\n",
       "\n",
       "    .dataframe tbody tr th {\n",
       "        vertical-align: top;\n",
       "    }\n",
       "\n",
       "    .dataframe thead th {\n",
       "        text-align: right;\n",
       "    }\n",
       "</style>\n",
       "<table border=\"1\" class=\"dataframe\">\n",
       "  <thead>\n",
       "    <tr style=\"text-align: right;\">\n",
       "      <th></th>\n",
       "      <th>universe_id</th>\n",
       "      <th>universe_model</th>\n",
       "      <th>universe_exclude_features</th>\n",
       "      <th>universe_exclude_subgroups</th>\n",
       "      <th>universe_scale</th>\n",
       "      <th>q_hat</th>\n",
       "      <th>coverage</th>\n",
       "      <th>avg_size</th>\n",
       "    </tr>\n",
       "  </thead>\n",
       "  <tbody>\n",
       "    <tr>\n",
       "      <th>0</th>\n",
       "      <td>05d8aa90aed7304d5890e3b87e3424e9</td>\n",
       "      <td>rf</td>\n",
       "      <td>age</td>\n",
       "      <td>drop-non-german</td>\n",
       "      <td>do-not-scale</td>\n",
       "      <td>0.65</td>\n",
       "      <td>0.914056</td>\n",
       "      <td>1.135057</td>\n",
       "    </tr>\n",
       "  </tbody>\n",
       "</table>\n",
       "</div>"
      ],
      "text/plain": [
       "                        universe_id universe_model universe_exclude_features  \\\n",
       "0  05d8aa90aed7304d5890e3b87e3424e9             rf                       age   \n",
       "\n",
       "  universe_exclude_subgroups universe_scale  q_hat  coverage  avg_size  \n",
       "0            drop-non-german   do-not-scale   0.65  0.914056  1.135057  "
      ]
     },
     "execution_count": 45,
     "metadata": {},
     "output_type": "execute_result"
    }
   ],
   "source": [
    "cp_metrics_df"
   ]
  },
  {
   "cell_type": "code",
   "execution_count": 46,
   "id": "b7fbde55-a0a1-47e4-9af6-fe4a17fa8c61",
   "metadata": {
    "execution": {
     "iopub.execute_input": "2025-07-23T14:38:03.081522Z",
     "iopub.status.busy": "2025-07-23T14:38:03.080938Z",
     "iopub.status.idle": "2025-07-23T14:38:03.084986Z",
     "shell.execute_reply": "2025-07-23T14:38:03.084147Z"
    },
    "papermill": {
     "duration": 0.017469,
     "end_time": "2025-07-23T14:38:03.086329",
     "exception": false,
     "start_time": "2025-07-23T14:38:03.068860",
     "status": "completed"
    },
    "tags": []
   },
   "outputs": [],
   "source": [
    "# Conditional Coverage & looking at subgroups"
   ]
  },
  {
   "cell_type": "code",
   "execution_count": 47,
   "id": "027ae886-68dd-4141-96c7-805a5450e1ef",
   "metadata": {
    "execution": {
     "iopub.execute_input": "2025-07-23T14:38:03.111138Z",
     "iopub.status.busy": "2025-07-23T14:38:03.110758Z",
     "iopub.status.idle": "2025-07-23T14:38:03.385449Z",
     "shell.execute_reply": "2025-07-23T14:38:03.384363Z"
    },
    "papermill": {
     "duration": 0.28877,
     "end_time": "2025-07-23T14:38:03.387015",
     "exception": false,
     "start_time": "2025-07-23T14:38:03.098245",
     "status": "completed"
    },
    "tags": []
   },
   "outputs": [],
   "source": [
    "from fairness_multiverse.conformal import build_cp_groups\n",
    "\n",
    "cp_groups_df = build_cp_groups(pred_sets, y_true, X_test.index, org_test)\n",
    "#needs universe_id and setting"
   ]
  },
  {
   "cell_type": "code",
   "execution_count": 48,
   "id": "c3b92545-903e-4839-89af-0f057907d7d6",
   "metadata": {
    "execution": {
     "iopub.execute_input": "2025-07-23T14:38:03.446219Z",
     "iopub.status.busy": "2025-07-23T14:38:03.445674Z",
     "iopub.status.idle": "2025-07-23T14:38:05.324858Z",
     "shell.execute_reply": "2025-07-23T14:38:05.323716Z"
    },
    "papermill": {
     "duration": 1.918928,
     "end_time": "2025-07-23T14:38:05.326858",
     "exception": false,
     "start_time": "2025-07-23T14:38:03.407930",
     "status": "completed"
    },
    "tags": []
   },
   "outputs": [],
   "source": [
    "# Define covered = 1 if true_label is in the predicted set\n",
    "cp_groups_df['covered'] = cp_groups_df.apply(\n",
    "    lambda r: int(r['true_label'] in r['pred_set']),\n",
    "    axis=1\n",
    ")"
   ]
  },
  {
   "cell_type": "code",
   "execution_count": 49,
   "id": "338ff529-1a6b-4b87-a931-8e4788d52aad",
   "metadata": {
    "execution": {
     "iopub.execute_input": "2025-07-23T14:38:05.374741Z",
     "iopub.status.busy": "2025-07-23T14:38:05.374252Z",
     "iopub.status.idle": "2025-07-23T14:38:05.378879Z",
     "shell.execute_reply": "2025-07-23T14:38:05.377745Z"
    },
    "papermill": {
     "duration": 0.029793,
     "end_time": "2025-07-23T14:38:05.380874",
     "exception": false,
     "start_time": "2025-07-23T14:38:05.351081",
     "status": "completed"
    },
    "tags": []
   },
   "outputs": [],
   "source": [
    "#cp_groups_df"
   ]
  },
  {
   "cell_type": "code",
   "execution_count": 50,
   "id": "90032e27-66df-4540-9169-4e89cfbaa758",
   "metadata": {
    "execution": {
     "iopub.execute_input": "2025-07-23T14:38:05.427308Z",
     "iopub.status.busy": "2025-07-23T14:38:05.426799Z",
     "iopub.status.idle": "2025-07-23T14:38:05.437338Z",
     "shell.execute_reply": "2025-07-23T14:38:05.436470Z"
    },
    "papermill": {
     "duration": 0.034732,
     "end_time": "2025-07-23T14:38:05.438672",
     "exception": false,
     "start_time": "2025-07-23T14:38:05.403940",
     "status": "completed"
    },
    "tags": []
   },
   "outputs": [],
   "source": [
    "subgroups = ['frau1','nongerman','nongerman_male','nongerman_female']\n",
    "\n",
    "# Conditional coverage for subgroup==1\n",
    "cond_coverage = {\n",
    "    g: cp_groups_df.loc[cp_groups_df[g]==1, 'covered'].mean()\n",
    "    for g in subgroups\n",
    "}"
   ]
  },
  {
   "cell_type": "code",
   "execution_count": 51,
   "id": "1e348fb1-b9c3-45bc-ba23-f016827a7e0d",
   "metadata": {
    "execution": {
     "iopub.execute_input": "2025-07-23T14:38:05.467340Z",
     "iopub.status.busy": "2025-07-23T14:38:05.466614Z",
     "iopub.status.idle": "2025-07-23T14:38:05.498062Z",
     "shell.execute_reply": "2025-07-23T14:38:05.497106Z"
    },
    "papermill": {
     "duration": 0.048304,
     "end_time": "2025-07-23T14:38:05.499529",
     "exception": false,
     "start_time": "2025-07-23T14:38:05.451225",
     "status": "completed"
    },
    "tags": []
   },
   "outputs": [
    {
     "data": {
      "text/plain": [
       "{'frau1': 0.914570696859415,\n",
       " 'nongerman': 0.9111884578678493,\n",
       " 'nongerman_male': 0.9256957579032694,\n",
       " 'nongerman_female': 0.8871833084947839}"
      ]
     },
     "execution_count": 51,
     "metadata": {},
     "output_type": "execute_result"
    }
   ],
   "source": [
    "cond_coverage"
   ]
  },
  {
   "cell_type": "code",
   "execution_count": 52,
   "id": "f5093324-c3dd-4d63-bc4c-8d945e5c8bbb",
   "metadata": {
    "execution": {
     "iopub.execute_input": "2025-07-23T14:38:05.542994Z",
     "iopub.status.busy": "2025-07-23T14:38:05.542007Z",
     "iopub.status.idle": "2025-07-23T14:38:05.551492Z",
     "shell.execute_reply": "2025-07-23T14:38:05.550412Z"
    },
    "papermill": {
     "duration": 0.040682,
     "end_time": "2025-07-23T14:38:05.554358",
     "exception": false,
     "start_time": "2025-07-23T14:38:05.513676",
     "status": "completed"
    },
    "tags": []
   },
   "outputs": [],
   "source": [
    "for subgroup, cov in cond_coverage.items():\n",
    "    cp_metrics_df[f\"cov_{subgroup}\"] = cov"
   ]
  },
  {
   "cell_type": "code",
   "execution_count": 53,
   "id": "6e872e10-dbe5-49e8-b554-5030c98ff75d",
   "metadata": {
    "execution": {
     "iopub.execute_input": "2025-07-23T14:38:05.613461Z",
     "iopub.status.busy": "2025-07-23T14:38:05.612930Z",
     "iopub.status.idle": "2025-07-23T14:38:05.632467Z",
     "shell.execute_reply": "2025-07-23T14:38:05.631403Z"
    },
    "papermill": {
     "duration": 0.048596,
     "end_time": "2025-07-23T14:38:05.634240",
     "exception": false,
     "start_time": "2025-07-23T14:38:05.585644",
     "status": "completed"
    },
    "tags": []
   },
   "outputs": [
    {
     "data": {
      "text/html": [
       "<div>\n",
       "<style scoped>\n",
       "    .dataframe tbody tr th:only-of-type {\n",
       "        vertical-align: middle;\n",
       "    }\n",
       "\n",
       "    .dataframe tbody tr th {\n",
       "        vertical-align: top;\n",
       "    }\n",
       "\n",
       "    .dataframe thead th {\n",
       "        text-align: right;\n",
       "    }\n",
       "</style>\n",
       "<table border=\"1\" class=\"dataframe\">\n",
       "  <thead>\n",
       "    <tr style=\"text-align: right;\">\n",
       "      <th></th>\n",
       "      <th>universe_id</th>\n",
       "      <th>universe_model</th>\n",
       "      <th>universe_exclude_features</th>\n",
       "      <th>universe_exclude_subgroups</th>\n",
       "      <th>universe_scale</th>\n",
       "      <th>q_hat</th>\n",
       "      <th>coverage</th>\n",
       "      <th>avg_size</th>\n",
       "      <th>cov_frau1</th>\n",
       "      <th>cov_nongerman</th>\n",
       "      <th>cov_nongerman_male</th>\n",
       "      <th>cov_nongerman_female</th>\n",
       "    </tr>\n",
       "  </thead>\n",
       "  <tbody>\n",
       "    <tr>\n",
       "      <th>0</th>\n",
       "      <td>05d8aa90aed7304d5890e3b87e3424e9</td>\n",
       "      <td>rf</td>\n",
       "      <td>age</td>\n",
       "      <td>drop-non-german</td>\n",
       "      <td>do-not-scale</td>\n",
       "      <td>0.65</td>\n",
       "      <td>0.914056</td>\n",
       "      <td>1.135057</td>\n",
       "      <td>0.914571</td>\n",
       "      <td>0.911188</td>\n",
       "      <td>0.925696</td>\n",
       "      <td>0.887183</td>\n",
       "    </tr>\n",
       "  </tbody>\n",
       "</table>\n",
       "</div>"
      ],
      "text/plain": [
       "                        universe_id universe_model universe_exclude_features  \\\n",
       "0  05d8aa90aed7304d5890e3b87e3424e9             rf                       age   \n",
       "\n",
       "  universe_exclude_subgroups universe_scale  q_hat  coverage  avg_size  \\\n",
       "0            drop-non-german   do-not-scale   0.65  0.914056  1.135057   \n",
       "\n",
       "   cov_frau1  cov_nongerman  cov_nongerman_male  cov_nongerman_female  \n",
       "0   0.914571       0.911188            0.925696              0.887183  "
      ]
     },
     "execution_count": 53,
     "metadata": {},
     "output_type": "execute_result"
    }
   ],
   "source": [
    "cp_metrics_df"
   ]
  },
  {
   "cell_type": "markdown",
   "id": "33774451",
   "metadata": {
    "papermill": {
     "duration": 0.012022,
     "end_time": "2025-07-23T14:38:05.660724",
     "exception": false,
     "start_time": "2025-07-23T14:38:05.648702",
     "status": "completed"
    },
    "tags": []
   },
   "source": [
    "# (Fairness) Metrics"
   ]
  },
  {
   "cell_type": "code",
   "execution_count": 54,
   "id": "debc5d62",
   "metadata": {
    "execution": {
     "iopub.execute_input": "2025-07-23T14:38:05.695884Z",
     "iopub.status.busy": "2025-07-23T14:38:05.694839Z",
     "iopub.status.idle": "2025-07-23T14:38:05.719881Z",
     "shell.execute_reply": "2025-07-23T14:38:05.718921Z"
    },
    "papermill": {
     "duration": 0.048777,
     "end_time": "2025-07-23T14:38:05.721864",
     "exception": false,
     "start_time": "2025-07-23T14:38:05.673087",
     "status": "completed"
    },
    "tags": []
   },
   "outputs": [],
   "source": [
    "# do I need to include maxdeutsch1.missing?\n",
    "\n",
    "import numpy as np\n",
    "\n",
    "colname_to_bin = \"maxdeutsch1\"\n",
    "majority_value = org_train[colname_to_bin].mode()[0]\n",
    "\n",
    "org_test[\"majmin\"] = np.where(org_test[colname_to_bin] == majority_value, \"majority\", \"minority\")"
   ]
  },
  {
   "cell_type": "code",
   "execution_count": 55,
   "id": "06a50de5",
   "metadata": {
    "execution": {
     "iopub.execute_input": "2025-07-23T14:38:05.773777Z",
     "iopub.status.busy": "2025-07-23T14:38:05.772721Z",
     "iopub.status.idle": "2025-07-23T14:38:09.026566Z",
     "shell.execute_reply": "2025-07-23T14:38:09.025263Z"
    },
    "papermill": {
     "duration": 3.281281,
     "end_time": "2025-07-23T14:38:09.028320",
     "exception": false,
     "start_time": "2025-07-23T14:38:05.747039",
     "status": "completed"
    },
    "tags": []
   },
   "outputs": [],
   "source": [
    "example_universe = universe.copy()\n",
    "example_universe[\"cutoff\"] = example_universe[\"cutoff\"][0]\n",
    "example_universe[\"eval_fairness_grouping\"] = example_universe[\"eval_fairness_grouping\"][0]\n",
    "fairness_dict, metric_frame = universe_analysis.compute_metrics(\n",
    "    example_universe,\n",
    "    y_pred_prob=probs_test,\n",
    "    y_test=y_true,\n",
    "    org_test=org_test,\n",
    ")"
   ]
  },
  {
   "cell_type": "markdown",
   "id": "f95d4e02",
   "metadata": {
    "papermill": {
     "duration": 0.016876,
     "end_time": "2025-07-23T14:38:09.062823",
     "exception": false,
     "start_time": "2025-07-23T14:38:09.045947",
     "status": "completed"
    },
    "tags": []
   },
   "source": [
    "# Overall"
   ]
  },
  {
   "cell_type": "markdown",
   "id": "bdee4871",
   "metadata": {
    "papermill": {
     "duration": 0.02414,
     "end_time": "2025-07-23T14:38:09.106789",
     "exception": false,
     "start_time": "2025-07-23T14:38:09.082649",
     "status": "completed"
    },
    "tags": []
   },
   "source": [
    "Fairness\n",
    "Main fairness target: Equalized Odds. Seems to be a better fit than equal opportunity, since we're not only interested in Y = 1. Seems to be a better fit than demographic parity, since we also care about accuracy, not just equal distribution of preds.\n",
    "\n",
    "Pick column for computation of fairness metrics\n",
    "\n",
    "Performance\n",
    "Overall performance measures, most interesting in relation to the measures split by group below"
   ]
  },
  {
   "cell_type": "code",
   "execution_count": 56,
   "id": "c4e067c6",
   "metadata": {
    "execution": {
     "iopub.execute_input": "2025-07-23T14:38:09.154486Z",
     "iopub.status.busy": "2025-07-23T14:38:09.153493Z",
     "iopub.status.idle": "2025-07-23T14:38:09.163321Z",
     "shell.execute_reply": "2025-07-23T14:38:09.162355Z"
    },
    "papermill": {
     "duration": 0.035979,
     "end_time": "2025-07-23T14:38:09.165117",
     "exception": false,
     "start_time": "2025-07-23T14:38:09.129138",
     "status": "completed"
    },
    "tags": []
   },
   "outputs": [
    {
     "data": {
      "text/plain": [
       "accuracy                   0.194783\n",
       "balanced accuracy          0.529066\n",
       "f1                         0.237711\n",
       "precision                  0.135285\n",
       "false positive rate        0.920577\n",
       "false negative rate        0.021290\n",
       "selection rate             0.928035\n",
       "count                  89710.000000\n",
       "dtype: float64"
      ]
     },
     "execution_count": 56,
     "metadata": {},
     "output_type": "execute_result"
    }
   ],
   "source": [
    "metric_frame.overall"
   ]
  },
  {
   "cell_type": "markdown",
   "id": "e968fe9d",
   "metadata": {
    "papermill": {
     "duration": 0.01281,
     "end_time": "2025-07-23T14:38:09.196388",
     "exception": false,
     "start_time": "2025-07-23T14:38:09.183578",
     "status": "completed"
    },
    "tags": []
   },
   "source": [
    "By Group"
   ]
  },
  {
   "cell_type": "code",
   "execution_count": 57,
   "id": "ec325bce",
   "metadata": {
    "execution": {
     "iopub.execute_input": "2025-07-23T14:38:09.222961Z",
     "iopub.status.busy": "2025-07-23T14:38:09.222584Z",
     "iopub.status.idle": "2025-07-23T14:38:09.235932Z",
     "shell.execute_reply": "2025-07-23T14:38:09.234934Z"
    },
    "papermill": {
     "duration": 0.032899,
     "end_time": "2025-07-23T14:38:09.241792",
     "exception": false,
     "start_time": "2025-07-23T14:38:09.208893",
     "status": "completed"
    },
    "tags": []
   },
   "outputs": [
    {
     "data": {
      "text/html": [
       "<div>\n",
       "<style scoped>\n",
       "    .dataframe tbody tr th:only-of-type {\n",
       "        vertical-align: middle;\n",
       "    }\n",
       "\n",
       "    .dataframe tbody tr th {\n",
       "        vertical-align: top;\n",
       "    }\n",
       "\n",
       "    .dataframe thead th {\n",
       "        text-align: right;\n",
       "    }\n",
       "</style>\n",
       "<table border=\"1\" class=\"dataframe\">\n",
       "  <thead>\n",
       "    <tr style=\"text-align: right;\">\n",
       "      <th></th>\n",
       "      <th>accuracy</th>\n",
       "      <th>balanced accuracy</th>\n",
       "      <th>f1</th>\n",
       "      <th>precision</th>\n",
       "      <th>false positive rate</th>\n",
       "      <th>false negative rate</th>\n",
       "      <th>selection rate</th>\n",
       "      <th>count</th>\n",
       "    </tr>\n",
       "    <tr>\n",
       "      <th>majmin</th>\n",
       "      <th></th>\n",
       "      <th></th>\n",
       "      <th></th>\n",
       "      <th></th>\n",
       "      <th></th>\n",
       "      <th></th>\n",
       "      <th></th>\n",
       "      <th></th>\n",
       "    </tr>\n",
       "  </thead>\n",
       "  <tbody>\n",
       "    <tr>\n",
       "      <th>majority</th>\n",
       "      <td>0.185398</td>\n",
       "      <td>0.527346</td>\n",
       "      <td>0.243495</td>\n",
       "      <td>0.138778</td>\n",
       "      <td>0.937431</td>\n",
       "      <td>0.007877</td>\n",
       "      <td>0.944658</td>\n",
       "      <td>69170.0</td>\n",
       "    </tr>\n",
       "    <tr>\n",
       "      <th>minority</th>\n",
       "      <td>0.226388</td>\n",
       "      <td>0.531020</td>\n",
       "      <td>0.216469</td>\n",
       "      <td>0.122544</td>\n",
       "      <td>0.864902</td>\n",
       "      <td>0.073057</td>\n",
       "      <td>0.872055</td>\n",
       "      <td>20540.0</td>\n",
       "    </tr>\n",
       "  </tbody>\n",
       "</table>\n",
       "</div>"
      ],
      "text/plain": [
       "          accuracy  balanced accuracy        f1  precision  \\\n",
       "majmin                                                       \n",
       "majority  0.185398           0.527346  0.243495   0.138778   \n",
       "minority  0.226388           0.531020  0.216469   0.122544   \n",
       "\n",
       "          false positive rate  false negative rate  selection rate    count  \n",
       "majmin                                                                       \n",
       "majority             0.937431             0.007877        0.944658  69170.0  \n",
       "minority             0.864902             0.073057        0.872055  20540.0  "
      ]
     },
     "execution_count": 57,
     "metadata": {},
     "output_type": "execute_result"
    }
   ],
   "source": [
    "metric_frame.by_group"
   ]
  },
  {
   "cell_type": "code",
   "execution_count": 58,
   "id": "a9ddbe63",
   "metadata": {
    "execution": {
     "iopub.execute_input": "2025-07-23T14:38:09.293188Z",
     "iopub.status.busy": "2025-07-23T14:38:09.292286Z",
     "iopub.status.idle": "2025-07-23T14:38:11.079768Z",
     "shell.execute_reply": "2025-07-23T14:38:11.078962Z"
    },
    "papermill": {
     "duration": 1.813192,
     "end_time": "2025-07-23T14:38:11.081162",
     "exception": false,
     "start_time": "2025-07-23T14:38:09.267970",
     "status": "completed"
    },
    "tags": []
   },
   "outputs": [
    {
     "data": {
      "text/plain": [
       "array([[<Axes: title={'center': 'accuracy'}, xlabel='majmin'>,\n",
       "        <Axes: title={'center': 'balanced accuracy'}, xlabel='majmin'>,\n",
       "        <Axes: title={'center': 'f1'}, xlabel='majmin'>],\n",
       "       [<Axes: title={'center': 'precision'}, xlabel='majmin'>,\n",
       "        <Axes: title={'center': 'false positive rate'}, xlabel='majmin'>,\n",
       "        <Axes: title={'center': 'false negative rate'}, xlabel='majmin'>],\n",
       "       [<Axes: title={'center': 'selection rate'}, xlabel='majmin'>,\n",
       "        <Axes: title={'center': 'count'}, xlabel='majmin'>,\n",
       "        <Axes: xlabel='majmin'>]], dtype=object)"
      ]
     },
     "execution_count": 58,
     "metadata": {},
     "output_type": "execute_result"
    },
    {
     "data": {
      "image/png": "[encoded data removed]",
      "text/plain": [
       "<Figure size 1200x800 with 9 Axes>"
      ]
     },
     "metadata": {},
     "output_type": "display_data"
    }
   ],
   "source": [
    "# In a graphic\n",
    "metric_frame.by_group.plot.bar(\n",
    "    subplots=True,\n",
    "    layout=[3, 3],\n",
    "    legend=False,\n",
    "    figsize=[12, 8],\n",
    "    title=\"Show all metrics\",\n",
    ")"
   ]
  },
  {
   "cell_type": "markdown",
   "id": "f57a0bac",
   "metadata": {
    "papermill": {
     "duration": 0.013632,
     "end_time": "2025-07-23T14:38:11.109024",
     "exception": false,
     "start_time": "2025-07-23T14:38:11.095392",
     "status": "completed"
    },
    "tags": []
   },
   "source": [
    "# Final Output"
   ]
  },
  {
   "cell_type": "code",
   "execution_count": 59,
   "id": "96d280a3",
   "metadata": {
    "execution": {
     "iopub.execute_input": "2025-07-23T14:38:11.138043Z",
     "iopub.status.busy": "2025-07-23T14:38:11.137549Z",
     "iopub.status.idle": "2025-07-23T14:38:11.145135Z",
     "shell.execute_reply": "2025-07-23T14:38:11.144151Z"
    },
    "papermill": {
     "duration": 0.023879,
     "end_time": "2025-07-23T14:38:11.146619",
     "exception": false,
     "start_time": "2025-07-23T14:38:11.122740",
     "status": "completed"
    },
    "tags": []
   },
   "outputs": [
    {
     "data": {
      "text/plain": [
       "4"
      ]
     },
     "execution_count": 59,
     "metadata": {},
     "output_type": "execute_result"
    }
   ],
   "source": [
    "sub_universes = universe_analysis.generate_sub_universes()\n",
    "len(sub_universes)"
   ]
  },
  {
   "cell_type": "code",
   "execution_count": 60,
   "id": "92adf7ba",
   "metadata": {
    "execution": {
     "iopub.execute_input": "2025-07-23T14:38:11.176020Z",
     "iopub.status.busy": "2025-07-23T14:38:11.175160Z",
     "iopub.status.idle": "2025-07-23T14:38:11.202770Z",
     "shell.execute_reply": "2025-07-23T14:38:11.201980Z"
    },
    "papermill": {
     "duration": 0.04371,
     "end_time": "2025-07-23T14:38:11.204327",
     "exception": false,
     "start_time": "2025-07-23T14:38:11.160617",
     "status": "completed"
    },
    "tags": []
   },
   "outputs": [],
   "source": [
    "def filter_sub_universe_data(sub_universe, org_test):\n",
    "    # Keep all rows — no filtering\n",
    "    keep_rows_mask = np.ones(org_test.shape[0], dtype=bool)\n",
    "\n",
    "    print(f\"[INFO] Keeping all rows: {keep_rows_mask.sum()} rows retained.\")\n",
    "    return keep_rows_mask"
   ]
  },
  {
   "cell_type": "code",
   "execution_count": 61,
   "id": "4a759155",
   "metadata": {
    "execution": {
     "iopub.execute_input": "2025-07-23T14:38:11.234254Z",
     "iopub.status.busy": "2025-07-23T14:38:11.233648Z",
     "iopub.status.idle": "2025-07-23T14:38:20.705110Z",
     "shell.execute_reply": "2025-07-23T14:38:20.704231Z"
    },
    "papermill": {
     "duration": 9.487372,
     "end_time": "2025-07-23T14:38:20.706531",
     "exception": false,
     "start_time": "2025-07-23T14:38:11.219159",
     "status": "completed"
    },
    "tags": []
   },
   "outputs": [
    {
     "name": "stdout",
     "output_type": "stream",
     "text": [
      "Stopping execution_time clock.\n",
      "[INFO] Keeping all rows: 89710 rows retained.\n"
     ]
    },
    {
     "name": "stdout",
     "output_type": "stream",
     "text": [
      "[INFO] Keeping all rows: 89710 rows retained.\n"
     ]
    },
    {
     "name": "stdout",
     "output_type": "stream",
     "text": [
      "[INFO] Keeping all rows: 89710 rows retained.\n"
     ]
    },
    {
     "name": "stdout",
     "output_type": "stream",
     "text": [
      "[INFO] Keeping all rows: 89710 rows retained.\n"
     ]
    },
    {
     "data": {
      "text/html": [
       "<div>\n",
       "<style scoped>\n",
       "    .dataframe tbody tr th:only-of-type {\n",
       "        vertical-align: middle;\n",
       "    }\n",
       "\n",
       "    .dataframe tbody tr th {\n",
       "        vertical-align: top;\n",
       "    }\n",
       "\n",
       "    .dataframe thead th {\n",
       "        text-align: right;\n",
       "    }\n",
       "</style>\n",
       "<table border=\"1\" class=\"dataframe\">\n",
       "  <thead>\n",
       "    <tr style=\"text-align: right;\">\n",
       "      <th></th>\n",
       "      <th>run_no</th>\n",
       "      <th>universe_id</th>\n",
       "      <th>universe_settings</th>\n",
       "      <th>execution_time</th>\n",
       "      <th>test_size_n</th>\n",
       "      <th>test_size_frac</th>\n",
       "      <th>fair_main_equalized_odds_difference</th>\n",
       "      <th>fair_main_equalized_odds_ratio</th>\n",
       "      <th>fair_main_demographic_parity_difference</th>\n",
       "      <th>fair_main_demographic_parity_ratio</th>\n",
       "      <th>...</th>\n",
       "      <th>perf_grp_precision_0</th>\n",
       "      <th>perf_grp_precision_1</th>\n",
       "      <th>perf_grp_false positive rate_0</th>\n",
       "      <th>perf_grp_false positive rate_1</th>\n",
       "      <th>perf_grp_false negative rate_0</th>\n",
       "      <th>perf_grp_false negative rate_1</th>\n",
       "      <th>perf_grp_selection rate_0</th>\n",
       "      <th>perf_grp_selection rate_1</th>\n",
       "      <th>perf_grp_count_0</th>\n",
       "      <th>perf_grp_count_1</th>\n",
       "    </tr>\n",
       "  </thead>\n",
       "  <tbody>\n",
       "    <tr>\n",
       "      <th>0</th>\n",
       "      <td>9</td>\n",
       "      <td>05d8aa90aed7304d5890e3b87e3424e9</td>\n",
       "      <td>{\"cutoff\": \"quantile_0.1\", \"eval_fairness_grou...</td>\n",
       "      <td>36.392283</td>\n",
       "      <td>89710</td>\n",
       "      <td>1.0</td>\n",
       "      <td>0.072529</td>\n",
       "      <td>0.922630</td>\n",
       "      <td>0.072604</td>\n",
       "      <td>0.923143</td>\n",
       "      <td>...</td>\n",
       "      <td>NaN</td>\n",
       "      <td>NaN</td>\n",
       "      <td>NaN</td>\n",
       "      <td>NaN</td>\n",
       "      <td>NaN</td>\n",
       "      <td>NaN</td>\n",
       "      <td>NaN</td>\n",
       "      <td>NaN</td>\n",
       "      <td>NaN</td>\n",
       "      <td>NaN</td>\n",
       "    </tr>\n",
       "    <tr>\n",
       "      <th>0</th>\n",
       "      <td>9</td>\n",
       "      <td>05d8aa90aed7304d5890e3b87e3424e9</td>\n",
       "      <td>{\"cutoff\": \"quantile_0.1\", \"eval_fairness_grou...</td>\n",
       "      <td>36.392283</td>\n",
       "      <td>89710</td>\n",
       "      <td>1.0</td>\n",
       "      <td>0.072529</td>\n",
       "      <td>0.922630</td>\n",
       "      <td>0.072604</td>\n",
       "      <td>0.923143</td>\n",
       "      <td>...</td>\n",
       "      <td>0.122544</td>\n",
       "      <td>0.138778</td>\n",
       "      <td>0.864902</td>\n",
       "      <td>0.937431</td>\n",
       "      <td>0.073057</td>\n",
       "      <td>0.007877</td>\n",
       "      <td>0.872055</td>\n",
       "      <td>0.944658</td>\n",
       "      <td>20540.0</td>\n",
       "      <td>69170.0</td>\n",
       "    </tr>\n",
       "    <tr>\n",
       "      <th>0</th>\n",
       "      <td>9</td>\n",
       "      <td>05d8aa90aed7304d5890e3b87e3424e9</td>\n",
       "      <td>{\"cutoff\": \"quantile_0.25\", \"eval_fairness_gro...</td>\n",
       "      <td>36.392283</td>\n",
       "      <td>89710</td>\n",
       "      <td>1.0</td>\n",
       "      <td>0.115033</td>\n",
       "      <td>0.880127</td>\n",
       "      <td>0.092850</td>\n",
       "      <td>0.883776</td>\n",
       "      <td>...</td>\n",
       "      <td>NaN</td>\n",
       "      <td>NaN</td>\n",
       "      <td>NaN</td>\n",
       "      <td>NaN</td>\n",
       "      <td>NaN</td>\n",
       "      <td>NaN</td>\n",
       "      <td>NaN</td>\n",
       "      <td>NaN</td>\n",
       "      <td>NaN</td>\n",
       "      <td>NaN</td>\n",
       "    </tr>\n",
       "    <tr>\n",
       "      <th>0</th>\n",
       "      <td>9</td>\n",
       "      <td>05d8aa90aed7304d5890e3b87e3424e9</td>\n",
       "      <td>{\"cutoff\": \"quantile_0.25\", \"eval_fairness_gro...</td>\n",
       "      <td>36.392283</td>\n",
       "      <td>89710</td>\n",
       "      <td>1.0</td>\n",
       "      <td>0.115033</td>\n",
       "      <td>0.880127</td>\n",
       "      <td>0.092850</td>\n",
       "      <td>0.883776</td>\n",
       "      <td>...</td>\n",
       "      <td>0.137912</td>\n",
       "      <td>0.158725</td>\n",
       "      <td>0.687982</td>\n",
       "      <td>0.774413</td>\n",
       "      <td>0.155405</td>\n",
       "      <td>0.040372</td>\n",
       "      <td>0.706037</td>\n",
       "      <td>0.798887</td>\n",
       "      <td>20540.0</td>\n",
       "      <td>69170.0</td>\n",
       "    </tr>\n",
       "  </tbody>\n",
       "</table>\n",
       "<p>4 rows × 50 columns</p>\n",
       "</div>"
      ],
      "text/plain": [
       "  run_no                       universe_id  \\\n",
       "0      9  05d8aa90aed7304d5890e3b87e3424e9   \n",
       "0      9  05d8aa90aed7304d5890e3b87e3424e9   \n",
       "0      9  05d8aa90aed7304d5890e3b87e3424e9   \n",
       "0      9  05d8aa90aed7304d5890e3b87e3424e9   \n",
       "\n",
       "                                   universe_settings  execution_time  \\\n",
       "0  {\"cutoff\": \"quantile_0.1\", \"eval_fairness_grou...       36.392283   \n",
       "0  {\"cutoff\": \"quantile_0.1\", \"eval_fairness_grou...       36.392283   \n",
       "0  {\"cutoff\": \"quantile_0.25\", \"eval_fairness_gro...       36.392283   \n",
       "0  {\"cutoff\": \"quantile_0.25\", \"eval_fairness_gro...       36.392283   \n",
       "\n",
       "   test_size_n  test_size_frac  fair_main_equalized_odds_difference  \\\n",
       "0        89710             1.0                             0.072529   \n",
       "0        89710             1.0                             0.072529   \n",
       "0        89710             1.0                             0.115033   \n",
       "0        89710             1.0                             0.115033   \n",
       "\n",
       "   fair_main_equalized_odds_ratio  fair_main_demographic_parity_difference  \\\n",
       "0                        0.922630                                 0.072604   \n",
       "0                        0.922630                                 0.072604   \n",
       "0                        0.880127                                 0.092850   \n",
       "0                        0.880127                                 0.092850   \n",
       "\n",
       "   fair_main_demographic_parity_ratio  ...  perf_grp_precision_0  \\\n",
       "0                            0.923143  ...                   NaN   \n",
       "0                            0.923143  ...              0.122544   \n",
       "0                            0.883776  ...                   NaN   \n",
       "0                            0.883776  ...              0.137912   \n",
       "\n",
       "   perf_grp_precision_1  perf_grp_false positive rate_0  \\\n",
       "0                   NaN                             NaN   \n",
       "0              0.138778                        0.864902   \n",
       "0                   NaN                             NaN   \n",
       "0              0.158725                        0.687982   \n",
       "\n",
       "   perf_grp_false positive rate_1  perf_grp_false negative rate_0  \\\n",
       "0                             NaN                             NaN   \n",
       "0                        0.937431                        0.073057   \n",
       "0                             NaN                             NaN   \n",
       "0                        0.774413                        0.155405   \n",
       "\n",
       "   perf_grp_false negative rate_1  perf_grp_selection rate_0  \\\n",
       "0                             NaN                        NaN   \n",
       "0                        0.007877                   0.872055   \n",
       "0                             NaN                        NaN   \n",
       "0                        0.040372                   0.706037   \n",
       "\n",
       "   perf_grp_selection rate_1  perf_grp_count_0  perf_grp_count_1  \n",
       "0                        NaN               NaN               NaN  \n",
       "0                   0.944658           20540.0           69170.0  \n",
       "0                        NaN               NaN               NaN  \n",
       "0                   0.798887           20540.0           69170.0  \n",
       "\n",
       "[4 rows x 50 columns]"
      ]
     },
     "execution_count": 61,
     "metadata": {},
     "output_type": "execute_result"
    }
   ],
   "source": [
    "final_output = universe_analysis.generate_final_output(\n",
    "    y_pred_prob=probs_test,\n",
    "    y_test=y_true,\n",
    "    org_test=org_test,\n",
    "    filter_data=filter_sub_universe_data,\n",
    "    cp_metrics_df=cp_metrics_df,\n",
    "    save=True,\n",
    ")\n",
    "final_output"
   ]
  },
  {
   "cell_type": "code",
   "execution_count": null,
   "id": "721ff514-cb11-46f8-b6fc-50392f74b5cb",
   "metadata": {
    "papermill": {
     "duration": 0.029497,
     "end_time": "2025-07-23T14:38:20.754183",
     "exception": false,
     "start_time": "2025-07-23T14:38:20.724686",
     "status": "completed"
    },
    "tags": []
   },
   "outputs": [],
   "source": []
  }
 ],
 "metadata": {
  "celltoolbar": "Tags",
  "kernelspec": {
   "display_name": "Python (CMA Fairness)",
   "language": "python",
   "name": "cma_fair_env"
  },
  "language_info": {
   "codemirror_mode": {
    "name": "ipython",
    "version": 3
   },
   "file_extension": ".py",
   "mimetype": "text/x-python",
   "name": "python",
   "nbconvert_exporter": "python",
   "pygments_lexer": "ipython3",
   "version": "3.10.12"
  },
  "papermill": {
   "default_parameters": {},
   "duration": 53.424267,
   "end_time": "2025-07-23T14:38:21.603127",
   "environment_variables": {},
   "exception": null,
   "input_path": "universe_analysis.ipynb",
   "output_path": "output/runs/9/notebooks/m_9-05d8aa90aed7304d5890e3b87e3424e9.ipynb",
   "parameters": {
    "output_dir": "output",
    "run_no": "9",
    "seed": "2023",
    "universe": "{\"cutoff\": [\"quantile_0.1\", \"quantile_0.25\"], \"eval_fairness_grouping\": [\"majority-minority\", \"nationality-all\"], \"exclude_features\": \"age\", \"exclude_subgroups\": \"drop-non-german\", \"model\": \"rf\", \"scale\": \"do-not-scale\"}",
    "universe_id": "05d8aa90aed7304d5890e3b87e3424e9"
   },
   "start_time": "2025-07-23T14:37:28.178860",
   "version": "2.6.0"
  }
 },
 "nbformat": 4,
 "nbformat_minor": 5
}