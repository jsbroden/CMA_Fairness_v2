{
 "cells": [
  {
   "cell_type": "code",
   "execution_count": 1,
   "id": "f159f837-637b-42ba-96b5-ec9a68c44524",
   "metadata": {
    "execution": {
     "iopub.execute_input": "2025-07-23T14:34:59.693458Z",
     "iopub.status.busy": "2025-07-23T14:34:59.692954Z",
     "iopub.status.idle": "2025-07-23T14:34:59.707718Z",
     "shell.execute_reply": "2025-07-23T14:34:59.706554Z"
    },
    "papermill": {
     "duration": 0.034506,
     "end_time": "2025-07-23T14:34:59.709515",
     "exception": false,
     "start_time": "2025-07-23T14:34:59.675009",
     "status": "completed"
    },
    "tags": []
   },
   "outputs": [
    {
     "name": "stdout",
     "output_type": "stream",
     "text": [
      "/dss/dsshome1/0C/ra93lal2/cma/CMA_Fairness_v2\n"
     ]
    },
    {
     "name": "stderr",
     "output_type": "stream",
     "text": [
      "/dss/dsshome1/0C/ra93lal2/.local/share/virtualenvs/CMA_Fairness_v2-3j10GkSs/lib/python3.10/site-packages/IPython/core/magics/osm.py:393: UserWarning: This is now an optional IPython functionality, using bookmarks requires you to install the `pickleshare` library.\n",
      "  bkms = self.shell.db.get('bookmarks', {})\n",
      "/dss/dsshome1/0C/ra93lal2/.local/share/virtualenvs/CMA_Fairness_v2-3j10GkSs/lib/python3.10/site-packages/IPython/core/magics/osm.py:417: UserWarning: This is now an optional IPython functionality, setting dhist requires you to install the `pickleshare` library.\n",
      "  self.shell.db['dhist'] = compress_dhist(dhist)[-100:]\n"
     ]
    }
   ],
   "source": [
    "%cd ~/cma/CMA_Fairness_v2"
   ]
  },
  {
   "cell_type": "markdown",
   "id": "de2603b9",
   "metadata": {
    "papermill": {
     "duration": 0.017014,
     "end_time": "2025-07-23T14:34:59.743995",
     "exception": false,
     "start_time": "2025-07-23T14:34:59.726981",
     "status": "completed"
    },
    "tags": []
   },
   "source": [
    "The following cell holds the definition of our parameters, these values can be overriden by rendering the with e.g. the following command:\n",
    "\n",
    "papermill -p alpha 0.2 -p ratio 0.3 universe_analysis.ipynb output/test_run.ipynb"
   ]
  },
  {
   "cell_type": "code",
   "execution_count": 2,
   "id": "a80968a0-40bb-4fa9-85ef-2d5eefb01975",
   "metadata": {
    "execution": {
     "iopub.execute_input": "2025-07-23T14:34:59.780787Z",
     "iopub.status.busy": "2025-07-23T14:34:59.779825Z",
     "iopub.status.idle": "2025-07-23T14:34:59.786176Z",
     "shell.execute_reply": "2025-07-23T14:34:59.785112Z"
    },
    "papermill": {
     "duration": 0.026798,
     "end_time": "2025-07-23T14:34:59.788035",
     "exception": false,
     "start_time": "2025-07-23T14:34:59.761237",
     "status": "completed"
    },
    "tags": []
   },
   "outputs": [
    {
     "name": "stdout",
     "output_type": "stream",
     "text": [
      "Current working directory: /dss/dsshome1/0C/ra93lal2/cma/CMA_Fairness_v2\n"
     ]
    }
   ],
   "source": [
    "import os\n",
    "print(\"Current working directory:\", os.getcwd())"
   ]
  },
  {
   "cell_type": "code",
   "execution_count": 3,
   "id": "2dce4c03",
   "metadata": {
    "execution": {
     "iopub.execute_input": "2025-07-23T14:34:59.825509Z",
     "iopub.status.busy": "2025-07-23T14:34:59.824582Z",
     "iopub.status.idle": "2025-07-23T14:34:59.831484Z",
     "shell.execute_reply": "2025-07-23T14:34:59.830454Z"
    },
    "papermill": {
     "duration": 0.027293,
     "end_time": "2025-07-23T14:34:59.833200",
     "exception": false,
     "start_time": "2025-07-23T14:34:59.805907",
     "status": "completed"
    },
    "tags": [
     "parameters"
    ]
   },
   "outputs": [],
   "source": [
    "run_no = 0\n",
    "universe_id = \"test\"\n",
    "universe = {\n",
    "    \"scale\": \"scale\", # \"scale\", \"do-not-scale\",\n",
    "    \"model\": \"elasticnet\", # \"logreg\", \"penalized_logreg\", \"rf\", \"gbm\", \"elasticnet\"\n",
    "    \"cutoff\": [\"quantile_0.15\", \"quantile_0.30\"],\n",
    "    \"exclude_features\": \"age\", # \"none\", \"nationality\", \"sex\", \"nationality-sex\", \"age\"\n",
    "    \"exclude_subgroups\": \"keep-all\", # \"keep-all\", \"drop-non-german\"\n",
    "    #\"training_sample\": \"restricted\", # \"restricted\", \"full\"\n",
    "    \"eval_fairness_grouping\": [\"majority-minority\", \"nationality-all\"]\n",
    "}\n",
    "\n",
    "output_dir=\"./output\"\n",
    "seed=0"
   ]
  },
  {
   "cell_type": "code",
   "execution_count": 4,
   "id": "f9cdd028",
   "metadata": {
    "execution": {
     "iopub.execute_input": "2025-07-23T14:34:59.876855Z",
     "iopub.status.busy": "2025-07-23T14:34:59.875710Z",
     "iopub.status.idle": "2025-07-23T14:34:59.882016Z",
     "shell.execute_reply": "2025-07-23T14:34:59.880799Z"
    },
    "papermill": {
     "duration": 0.030179,
     "end_time": "2025-07-23T14:34:59.884145",
     "exception": false,
     "start_time": "2025-07-23T14:34:59.853966",
     "status": "completed"
    },
    "tags": [
     "injected-parameters"
    ]
   },
   "outputs": [],
   "source": [
    "# Parameters\n",
    "universe_id = \"8631657b183932ecdcc601e19df5cb9f\"\n",
    "run_no = \"9\"\n",
    "universe = \"{\\\"cutoff\\\": [\\\"quantile_0.1\\\", \\\"quantile_0.25\\\"], \\\"eval_fairness_grouping\\\": [\\\"majority-minority\\\", \\\"nationality-all\\\"], \\\"exclude_features\\\": \\\"none\\\", \\\"exclude_subgroups\\\": \\\"keep-all\\\", \\\"model\\\": \\\"penalized_logreg\\\", \\\"scale\\\": \\\"do-not-scale\\\"}\"\n",
    "output_dir = \"output\"\n",
    "seed = \"2023\"\n"
   ]
  },
  {
   "cell_type": "code",
   "execution_count": 5,
   "id": "1650acaf",
   "metadata": {
    "execution": {
     "iopub.execute_input": "2025-07-23T14:34:59.931698Z",
     "iopub.status.busy": "2025-07-23T14:34:59.930521Z",
     "iopub.status.idle": "2025-07-23T14:34:59.937511Z",
     "shell.execute_reply": "2025-07-23T14:34:59.936240Z"
    },
    "papermill": {
     "duration": 0.0355,
     "end_time": "2025-07-23T14:34:59.939851",
     "exception": false,
     "start_time": "2025-07-23T14:34:59.904351",
     "status": "completed"
    },
    "tags": []
   },
   "outputs": [],
   "source": [
    "import json\n",
    "# Parse universe into dict if it is passed as a string\n",
    "if isinstance(universe, str):\n",
    "    universe = json.loads(universe)"
   ]
  },
  {
   "cell_type": "code",
   "execution_count": 6,
   "id": "16620c48",
   "metadata": {
    "execution": {
     "iopub.execute_input": "2025-07-23T14:34:59.987060Z",
     "iopub.status.busy": "2025-07-23T14:34:59.986307Z",
     "iopub.status.idle": "2025-07-23T14:35:00.038862Z",
     "shell.execute_reply": "2025-07-23T14:35:00.037900Z"
    },
    "papermill": {
     "duration": 0.075387,
     "end_time": "2025-07-23T14:35:00.040851",
     "exception": false,
     "start_time": "2025-07-23T14:34:59.965464",
     "status": "completed"
    },
    "tags": []
   },
   "outputs": [],
   "source": [
    "# Auto-reload the custom package\n",
    "%load_ext autoreload\n",
    "%autoreload 1\n",
    "%aimport fairness_multiverse"
   ]
  },
  {
   "cell_type": "code",
   "execution_count": 7,
   "id": "01c5c9f3",
   "metadata": {
    "execution": {
     "iopub.execute_input": "2025-07-23T14:35:00.077380Z",
     "iopub.status.busy": "2025-07-23T14:35:00.076887Z",
     "iopub.status.idle": "2025-07-23T14:35:02.125996Z",
     "shell.execute_reply": "2025-07-23T14:35:02.124898Z"
    },
    "papermill": {
     "duration": 2.069405,
     "end_time": "2025-07-23T14:35:02.127918",
     "exception": false,
     "start_time": "2025-07-23T14:35:00.058513",
     "status": "completed"
    },
    "tags": []
   },
   "outputs": [],
   "source": [
    "from fairness_multiverse.universe import UniverseAnalysis\n",
    "\n",
    "universe_analysis = UniverseAnalysis(\n",
    "    run_no = run_no,\n",
    "    universe_id = universe_id,\n",
    "    universe = universe,\n",
    "    output_dir=output_dir,\n",
    ")"
   ]
  },
  {
   "cell_type": "code",
   "execution_count": 8,
   "id": "106241f5",
   "metadata": {
    "execution": {
     "iopub.execute_input": "2025-07-23T14:35:02.166635Z",
     "iopub.status.busy": "2025-07-23T14:35:02.166087Z",
     "iopub.status.idle": "2025-07-23T14:35:02.172593Z",
     "shell.execute_reply": "2025-07-23T14:35:02.171633Z"
    },
    "papermill": {
     "duration": 0.027635,
     "end_time": "2025-07-23T14:35:02.174126",
     "exception": false,
     "start_time": "2025-07-23T14:35:02.146491",
     "status": "completed"
    },
    "tags": []
   },
   "outputs": [
    {
     "name": "stdout",
     "output_type": "stream",
     "text": [
      "Using Seed: 2023\n"
     ]
    }
   ],
   "source": [
    "import numpy as np\n",
    "parsed_seed = int(seed)\n",
    "np.random.seed(parsed_seed)\n",
    "print(f\"Using Seed: {parsed_seed}\")"
   ]
  },
  {
   "cell_type": "markdown",
   "id": "e0ebdc57",
   "metadata": {
    "papermill": {
     "duration": 0.016719,
     "end_time": "2025-07-23T14:35:02.207972",
     "exception": false,
     "start_time": "2025-07-23T14:35:02.191253",
     "status": "completed"
    },
    "tags": []
   },
   "source": [
    "# Loading Data"
   ]
  },
  {
   "cell_type": "markdown",
   "id": "681925a3",
   "metadata": {
    "papermill": {
     "duration": 0.018189,
     "end_time": "2025-07-23T14:35:02.242783",
     "exception": false,
     "start_time": "2025-07-23T14:35:02.224594",
     "status": "completed"
    },
    "tags": []
   },
   "source": [
    "Load siab_train, siab_test, siab_calib and/or \n",
    "load siab_train_features, siab_train_labels"
   ]
  },
  {
   "cell_type": "code",
   "execution_count": 9,
   "id": "f0496b8a",
   "metadata": {
    "execution": {
     "iopub.execute_input": "2025-07-23T14:35:02.279495Z",
     "iopub.status.busy": "2025-07-23T14:35:02.278964Z",
     "iopub.status.idle": "2025-07-23T14:35:02.285969Z",
     "shell.execute_reply": "2025-07-23T14:35:02.284815Z"
    },
    "papermill": {
     "duration": 0.026568,
     "end_time": "2025-07-23T14:35:02.287943",
     "exception": false,
     "start_time": "2025-07-23T14:35:02.261375",
     "status": "completed"
    },
    "tags": []
   },
   "outputs": [],
   "source": [
    "# Do I need to load siab? Delete this cell?\n",
    "\n",
    "#from pathlib import Path\n",
    "#import pandas as pd\n",
    "#\n",
    "## File paths\n",
    "#raw_file = Path(\"data/raw/siab.csv\")\n",
    "#cache_file = Path(\"data/siab_cached.csv.gz\")\n",
    "#\n",
    "## Ensure cache directory exists\n",
    "#cache_file.parent.mkdir(parents=True, exist_ok=True)\n",
    "#\n",
    "## Load with simple caching\n",
    "#if cache_file.exists():\n",
    "#    print(f\"Loading SIAB data from cache: {cache_file}\")\n",
    "#    siab = pd.read_csv(cache_file, compression='gzip')\n",
    "#else:\n",
    "#    print(f\"Cache not found. Reading raw SIAB data: {raw_file}\")\n",
    "#    siab = pd.read_csv(raw_file)\n",
    "#    siab.to_csv(cache_file, index=False, compression='gzip')\n",
    "#    print(f\"Cached SIAB data to: {cache_file}\")\n",
    "#\n",
    "## Now use `siab` DataFrame as needed\n",
    "#print(siab.shape)\n"
   ]
  },
  {
   "cell_type": "code",
   "execution_count": 10,
   "id": "a0edb063",
   "metadata": {
    "execution": {
     "iopub.execute_input": "2025-07-23T14:35:02.328125Z",
     "iopub.status.busy": "2025-07-23T14:35:02.327564Z",
     "iopub.status.idle": "2025-07-23T14:35:03.681903Z",
     "shell.execute_reply": "2025-07-23T14:35:03.680536Z"
    },
    "papermill": {
     "duration": 1.377849,
     "end_time": "2025-07-23T14:35:03.684772",
     "exception": false,
     "start_time": "2025-07-23T14:35:02.306923",
     "status": "completed"
    },
    "tags": []
   },
   "outputs": [],
   "source": [
    "import pandas as pd\n",
    "\n",
    "X_train = pd.read_csv(\"./data/X_train.csv\")\n",
    "y_train = pd.read_csv(\"./data/y_train.csv\")"
   ]
  },
  {
   "cell_type": "code",
   "execution_count": 11,
   "id": "63d08085",
   "metadata": {
    "execution": {
     "iopub.execute_input": "2025-07-23T14:35:03.742602Z",
     "iopub.status.busy": "2025-07-23T14:35:03.741429Z",
     "iopub.status.idle": "2025-07-23T14:35:05.326007Z",
     "shell.execute_reply": "2025-07-23T14:35:05.324686Z"
    },
    "papermill": {
     "duration": 1.614323,
     "end_time": "2025-07-23T14:35:05.328772",
     "exception": false,
     "start_time": "2025-07-23T14:35:03.714449",
     "status": "completed"
    },
    "tags": []
   },
   "outputs": [],
   "source": [
    "X_test = pd.read_csv(\"./data/X_test.csv\")\n",
    "y_true = pd.read_csv(\"./data/y_test.csv\")"
   ]
  },
  {
   "cell_type": "code",
   "execution_count": 12,
   "id": "98a8d0fa-1d3d-4ed8-bb2c-281470e24add",
   "metadata": {
    "execution": {
     "iopub.execute_input": "2025-07-23T14:35:05.387186Z",
     "iopub.status.busy": "2025-07-23T14:35:05.385756Z",
     "iopub.status.idle": "2025-07-23T14:35:06.699757Z",
     "shell.execute_reply": "2025-07-23T14:35:06.698534Z"
    },
    "papermill": {
     "duration": 1.34522,
     "end_time": "2025-07-23T14:35:06.701885",
     "exception": false,
     "start_time": "2025-07-23T14:35:05.356665",
     "status": "completed"
    },
    "tags": []
   },
   "outputs": [],
   "source": [
    "# Calibration data for conformal\n",
    "X_calib = pd.read_csv(\"./data/X_calib.csv\")\n",
    "y_calib = pd.read_csv(\"./data/y_calib.csv\")"
   ]
  },
  {
   "cell_type": "code",
   "execution_count": 13,
   "id": "e6c733c5",
   "metadata": {
    "execution": {
     "iopub.execute_input": "2025-07-23T14:35:06.743303Z",
     "iopub.status.busy": "2025-07-23T14:35:06.742626Z",
     "iopub.status.idle": "2025-07-23T14:35:06.883091Z",
     "shell.execute_reply": "2025-07-23T14:35:06.881946Z"
    },
    "papermill": {
     "duration": 0.165491,
     "end_time": "2025-07-23T14:35:06.885393",
     "exception": false,
     "start_time": "2025-07-23T14:35:06.719902",
     "status": "completed"
    },
    "tags": []
   },
   "outputs": [],
   "source": [
    "# Auxiliary data needed downstream in the pipeline\n",
    "\n",
    "org_train = X_train.copy()\n",
    "org_test = X_test.copy()\n",
    "org_calib = X_calib.copy()"
   ]
  },
  {
   "cell_type": "markdown",
   "id": "0a4a1b33",
   "metadata": {
    "papermill": {
     "duration": 0.020016,
     "end_time": "2025-07-23T14:35:06.923762",
     "exception": false,
     "start_time": "2025-07-23T14:35:06.903746",
     "status": "completed"
    },
    "tags": []
   },
   "source": [
    "# Preprocessing Data"
   ]
  },
  {
   "cell_type": "code",
   "execution_count": 14,
   "id": "ca879031",
   "metadata": {
    "execution": {
     "iopub.execute_input": "2025-07-23T14:35:06.963090Z",
     "iopub.status.busy": "2025-07-23T14:35:06.962108Z",
     "iopub.status.idle": "2025-07-23T14:35:06.971977Z",
     "shell.execute_reply": "2025-07-23T14:35:06.970629Z"
    },
    "papermill": {
     "duration": 0.031695,
     "end_time": "2025-07-23T14:35:06.973863",
     "exception": false,
     "start_time": "2025-07-23T14:35:06.942168",
     "status": "completed"
    },
    "tags": []
   },
   "outputs": [],
   "source": [
    "# EXCLUDE PROTECTED FEATURES\n",
    "# ----------------------\n",
    "# \"exclude_features\": \"none\", # \"nationality\", \"sex\", \"nationality-sex\"\n",
    "\n",
    "excluded_features = universe[\"exclude_features\"].split(\"-\") # split, e.g.: \"nationality-sex\" -> [\"nationality\", \"sex\"]\n",
    "excluded_features_dictionary = {\n",
    "    \"nationality\": [\"maxdeutsch1\", \"maxdeutsch.Missing.\"],\n",
    "    \"sex\": [\"frau1\"],\n",
    "    \"age\": [\"age\"],\n",
    "}\n"
   ]
  },
  {
   "cell_type": "code",
   "execution_count": 15,
   "id": "b745ac60",
   "metadata": {
    "execution": {
     "iopub.execute_input": "2025-07-23T14:35:07.013977Z",
     "iopub.status.busy": "2025-07-23T14:35:07.013469Z",
     "iopub.status.idle": "2025-07-23T14:35:07.020519Z",
     "shell.execute_reply": "2025-07-23T14:35:07.019375Z"
    },
    "papermill": {
     "duration": 0.028967,
     "end_time": "2025-07-23T14:35:07.022914",
     "exception": false,
     "start_time": "2025-07-23T14:35:06.993947",
     "status": "completed"
    },
    "tags": []
   },
   "outputs": [],
   "source": [
    "# Code nice names to column names\n",
    "\n",
    "excluded_features_columns = [\n",
    "    excluded_features_dictionary[f] for f in excluded_features if len(f) > 0 and f != \"none\"\n",
    "]"
   ]
  },
  {
   "cell_type": "code",
   "execution_count": 16,
   "id": "f84f73a2",
   "metadata": {
    "execution": {
     "iopub.execute_input": "2025-07-23T14:35:07.070059Z",
     "iopub.status.busy": "2025-07-23T14:35:07.069518Z",
     "iopub.status.idle": "2025-07-23T14:35:07.076957Z",
     "shell.execute_reply": "2025-07-23T14:35:07.075853Z"
    },
    "papermill": {
     "duration": 0.03334,
     "end_time": "2025-07-23T14:35:07.078905",
     "exception": false,
     "start_time": "2025-07-23T14:35:07.045565",
     "status": "completed"
    },
    "tags": []
   },
   "outputs": [],
   "source": [
    "from utils import flatten_once\n",
    "\n",
    "excluded_features_columns = flatten_once(excluded_features_columns)"
   ]
  },
  {
   "cell_type": "code",
   "execution_count": 17,
   "id": "884dea22",
   "metadata": {
    "execution": {
     "iopub.execute_input": "2025-07-23T14:35:07.119335Z",
     "iopub.status.busy": "2025-07-23T14:35:07.118181Z",
     "iopub.status.idle": "2025-07-23T14:35:07.125223Z",
     "shell.execute_reply": "2025-07-23T14:35:07.124092Z"
    },
    "papermill": {
     "duration": 0.029381,
     "end_time": "2025-07-23T14:35:07.127316",
     "exception": false,
     "start_time": "2025-07-23T14:35:07.097935",
     "status": "completed"
    },
    "tags": []
   },
   "outputs": [],
   "source": [
    "if len(excluded_features_columns) > 0:\n",
    "    print(f\"Dropping features: {excluded_features_columns}\")\n",
    "    X_train.drop(excluded_features_columns, axis=1, inplace=True)"
   ]
  },
  {
   "cell_type": "code",
   "execution_count": 18,
   "id": "95ab8b16",
   "metadata": {
    "execution": {
     "iopub.execute_input": "2025-07-23T14:35:07.167787Z",
     "iopub.status.busy": "2025-07-23T14:35:07.167213Z",
     "iopub.status.idle": "2025-07-23T14:35:07.174570Z",
     "shell.execute_reply": "2025-07-23T14:35:07.173331Z"
    },
    "papermill": {
     "duration": 0.02914,
     "end_time": "2025-07-23T14:35:07.176512",
     "exception": false,
     "start_time": "2025-07-23T14:35:07.147372",
     "status": "completed"
    },
    "tags": []
   },
   "outputs": [],
   "source": [
    "if len(excluded_features_columns) > 0:\n",
    "    print(f\"Dropping features: {excluded_features_columns}\")\n",
    "    X_test.drop(excluded_features_columns, axis=1, inplace=True)"
   ]
  },
  {
   "cell_type": "code",
   "execution_count": 19,
   "id": "1853aaf5-fb9f-46cb-a2b5-8ea4ae2237e4",
   "metadata": {
    "execution": {
     "iopub.execute_input": "2025-07-23T14:35:07.218344Z",
     "iopub.status.busy": "2025-07-23T14:35:07.217311Z",
     "iopub.status.idle": "2025-07-23T14:35:07.223727Z",
     "shell.execute_reply": "2025-07-23T14:35:07.222796Z"
    },
    "papermill": {
     "duration": 0.029393,
     "end_time": "2025-07-23T14:35:07.225565",
     "exception": false,
     "start_time": "2025-07-23T14:35:07.196172",
     "status": "completed"
    },
    "tags": []
   },
   "outputs": [],
   "source": [
    "if len(excluded_features_columns) > 0:\n",
    "    print(f\"Dropping features: {excluded_features_columns}\")\n",
    "    X_calib.drop(excluded_features_columns, axis=1, inplace=True)"
   ]
  },
  {
   "cell_type": "code",
   "execution_count": 20,
   "id": "76c4dc6d",
   "metadata": {
    "execution": {
     "iopub.execute_input": "2025-07-23T14:35:07.275742Z",
     "iopub.status.busy": "2025-07-23T14:35:07.274914Z",
     "iopub.status.idle": "2025-07-23T14:35:07.281489Z",
     "shell.execute_reply": "2025-07-23T14:35:07.280201Z"
    },
    "papermill": {
     "duration": 0.033197,
     "end_time": "2025-07-23T14:35:07.283573",
     "exception": false,
     "start_time": "2025-07-23T14:35:07.250376",
     "status": "completed"
    },
    "tags": []
   },
   "outputs": [],
   "source": [
    "# EXCLUDE CERTAIN SUBGROUPS\n",
    "# ----------------------\n",
    "\n",
    "mode = universe.get(\"exclude_subgroups\", \"keep-all\") \n",
    "# Fetches the exclude_subgroups setting from the universe dict.\n",
    "# Defaults to \"keep-all\" if the key is missing."
   ]
  },
  {
   "cell_type": "code",
   "execution_count": 21,
   "id": "21994072",
   "metadata": {
    "execution": {
     "iopub.execute_input": "2025-07-23T14:35:07.334028Z",
     "iopub.status.busy": "2025-07-23T14:35:07.333266Z",
     "iopub.status.idle": "2025-07-23T14:35:07.341648Z",
     "shell.execute_reply": "2025-07-23T14:35:07.340372Z"
    },
    "papermill": {
     "duration": 0.036218,
     "end_time": "2025-07-23T14:35:07.343838",
     "exception": false,
     "start_time": "2025-07-23T14:35:07.307620",
     "status": "completed"
    },
    "tags": []
   },
   "outputs": [],
   "source": [
    "if mode == \"keep-all\":\n",
    "    keep_mask = pd.Series(True, index=org_train.index)\n",
    "\n",
    "# org_train contains the original feature columns from features_org (in Simson)\n",
    "# features_org contains unprocessed features, for me X_train at beginning ???\n",
    "# For keep-all, creates a boolean Series (keep_mask) of all True, so no rows are removed.\n",
    "\n",
    "elif mode == \"drop-non-german\":\n",
    "    keep_mask = org_train[\"maxdeutsch1\"] == 1 # ??? what about missing values?\n",
    "\n",
    "else:\n",
    "    raise ValueError(f\"Unsupported mode for exclude_subgroups: {mode}\")\n"
   ]
  },
  {
   "cell_type": "code",
   "execution_count": 22,
   "id": "71651440",
   "metadata": {
    "execution": {
     "iopub.execute_input": "2025-07-23T14:35:07.393669Z",
     "iopub.status.busy": "2025-07-23T14:35:07.392888Z",
     "iopub.status.idle": "2025-07-23T14:35:07.400721Z",
     "shell.execute_reply": "2025-07-23T14:35:07.399335Z"
    },
    "papermill": {
     "duration": 0.035243,
     "end_time": "2025-07-23T14:35:07.402532",
     "exception": false,
     "start_time": "2025-07-23T14:35:07.367289",
     "status": "completed"
    },
    "tags": []
   },
   "outputs": [],
   "source": [
    "n_drop = (~keep_mask).sum() # Calculates how many rows are set to be dropped\n",
    "if n_drop > 0:\n",
    "    pct = n_drop / len(keep_mask) * 100\n",
    "    print(f\"Dropping {n_drop} rows ({pct:.2f}%) where mode='{mode}'\")"
   ]
  },
  {
   "cell_type": "code",
   "execution_count": 23,
   "id": "5fb8eee5",
   "metadata": {
    "execution": {
     "iopub.execute_input": "2025-07-23T14:35:07.453186Z",
     "iopub.status.busy": "2025-07-23T14:35:07.452203Z",
     "iopub.status.idle": "2025-07-23T14:35:07.536596Z",
     "shell.execute_reply": "2025-07-23T14:35:07.535326Z"
    },
    "papermill": {
     "duration": 0.112034,
     "end_time": "2025-07-23T14:35:07.539244",
     "exception": false,
     "start_time": "2025-07-23T14:35:07.427210",
     "status": "completed"
    },
    "tags": []
   },
   "outputs": [],
   "source": [
    "X_train = X_train[keep_mask]"
   ]
  },
  {
   "cell_type": "code",
   "execution_count": 24,
   "id": "b202bb3a",
   "metadata": {
    "execution": {
     "iopub.execute_input": "2025-07-23T14:35:07.589608Z",
     "iopub.status.busy": "2025-07-23T14:35:07.588762Z",
     "iopub.status.idle": "2025-07-23T14:35:07.599359Z",
     "shell.execute_reply": "2025-07-23T14:35:07.597902Z"
    },
    "papermill": {
     "duration": 0.038563,
     "end_time": "2025-07-23T14:35:07.601797",
     "exception": false,
     "start_time": "2025-07-23T14:35:07.563234",
     "status": "completed"
    },
    "tags": []
   },
   "outputs": [],
   "source": [
    "y_train = y_train[keep_mask]"
   ]
  },
  {
   "cell_type": "markdown",
   "id": "493e2ac3",
   "metadata": {
    "papermill": {
     "duration": 0.019102,
     "end_time": "2025-07-23T14:35:07.640239",
     "exception": false,
     "start_time": "2025-07-23T14:35:07.621137",
     "status": "completed"
    },
    "tags": []
   },
   "source": [
    "# Model Training"
   ]
  },
  {
   "cell_type": "code",
   "execution_count": 25,
   "id": "679e1268",
   "metadata": {
    "execution": {
     "iopub.execute_input": "2025-07-23T14:35:07.680131Z",
     "iopub.status.busy": "2025-07-23T14:35:07.679392Z",
     "iopub.status.idle": "2025-07-23T14:35:07.815244Z",
     "shell.execute_reply": "2025-07-23T14:35:07.814000Z"
    },
    "papermill": {
     "duration": 0.15874,
     "end_time": "2025-07-23T14:35:07.817857",
     "exception": false,
     "start_time": "2025-07-23T14:35:07.659117",
     "status": "completed"
    },
    "tags": []
   },
   "outputs": [],
   "source": [
    "from sklearn.linear_model import LogisticRegression\n",
    "from sklearn.ensemble import GradientBoostingClassifier, RandomForestClassifier\n",
    "\n",
    "if (universe[\"model\"] == \"logreg\"):\n",
    "    model = LogisticRegression() #penalty=\"none\") #, solver=\"newton-cg\", max_iter=1) # include random_state=19 ?\n",
    "elif (universe[\"model\"] == \"penalized_logreg\"):\n",
    "    model = LogisticRegression(penalty=\"l2\", C=1.0) #, solver=\"newton-cg\", max_iter=1)\n",
    "elif (universe[\"model\"] == \"rf\"):\n",
    "    model = RandomForestClassifier(n_estimators=100, n_jobs=-1)\n",
    "elif (universe[\"model\"] == \"gbm\"):\n",
    "    model = GradientBoostingClassifier()\n",
    "elif (universe[\"model\"] == \"elasticnet\"):\n",
    "    model = LogisticRegression(penalty = 'elasticnet', solver = 'saga', l1_ratio = 0.5, max_iter=5000) # which solver to use?\n",
    "else:\n",
    "    raise \"Unsupported universe.model\""
   ]
  },
  {
   "cell_type": "code",
   "execution_count": 26,
   "id": "0cc8f744",
   "metadata": {
    "execution": {
     "iopub.execute_input": "2025-07-23T14:35:07.867640Z",
     "iopub.status.busy": "2025-07-23T14:35:07.867018Z",
     "iopub.status.idle": "2025-07-23T14:35:07.875309Z",
     "shell.execute_reply": "2025-07-23T14:35:07.874137Z"
    },
    "papermill": {
     "duration": 0.035591,
     "end_time": "2025-07-23T14:35:07.877435",
     "exception": false,
     "start_time": "2025-07-23T14:35:07.841844",
     "status": "completed"
    },
    "tags": []
   },
   "outputs": [],
   "source": [
    "import numpy as np\n",
    "from sklearn.pipeline import Pipeline\n",
    "from sklearn.preprocessing import StandardScaler\n",
    "\n",
    "model = Pipeline([\n",
    "    #(\"continuous_processor\", continuous_processor),\n",
    "    #(\"categorical_preprocessor\", categorical_preprocessor),\n",
    "    (\"scale\", StandardScaler() if universe[\"scale\"] == \"scale\" else None), \n",
    "    (\"model\", model),\n",
    "])"
   ]
  },
  {
   "cell_type": "code",
   "execution_count": 27,
   "id": "9442c04d",
   "metadata": {
    "execution": {
     "iopub.execute_input": "2025-07-23T14:35:07.922884Z",
     "iopub.status.busy": "2025-07-23T14:35:07.921815Z",
     "iopub.status.idle": "2025-07-23T14:35:11.171700Z",
     "shell.execute_reply": "2025-07-23T14:35:11.170590Z"
    },
    "papermill": {
     "duration": 3.273516,
     "end_time": "2025-07-23T14:35:11.173651",
     "exception": false,
     "start_time": "2025-07-23T14:35:07.900135",
     "status": "completed"
    },
    "tags": []
   },
   "outputs": [
    {
     "name": "stderr",
     "output_type": "stream",
     "text": [
      "/dss/dsshome1/0C/ra93lal2/.local/share/virtualenvs/CMA_Fairness_v2-3j10GkSs/lib/python3.10/site-packages/sklearn/linear_model/_logistic.py:444: ConvergenceWarning: lbfgs failed to converge (status=1):\n",
      "STOP: TOTAL NO. of ITERATIONS REACHED LIMIT.\n",
      "\n",
      "Increase the number of iterations (max_iter) or scale the data as shown in:\n",
      "    https://scikit-learn.org/stable/modules/preprocessing.html\n",
      "Please also refer to the documentation for alternative solver options:\n",
      "    https://scikit-learn.org/stable/modules/linear_model.html#logistic-regression\n",
      "  n_iter_i = _check_optimize_result(\n"
     ]
    },
    {
     "data": {
      "text/html": [
       "<style>#sk-container-id-1 {color: black;background-color: white;}#sk-container-id-1 pre{padding: 0;}#sk-container-id-1 div.sk-toggleable {background-color: white;}#sk-container-id-1 label.sk-toggleable__label {cursor: pointer;display: block;width: 100%;margin-bottom: 0;padding: 0.3em;box-sizing: border-box;text-align: center;}#sk-container-id-1 label.sk-toggleable__label-arrow:before {content: \"▸\";float: left;margin-right: 0.25em;color: #696969;}#sk-container-id-1 label.sk-toggleable__label-arrow:hover:before {color: black;}#sk-container-id-1 div.sk-estimator:hover label.sk-toggleable__label-arrow:before {color: black;}#sk-container-id-1 div.sk-toggleable__content {max-height: 0;max-width: 0;overflow: hidden;text-align: left;background-color: #f0f8ff;}#sk-container-id-1 div.sk-toggleable__content pre {margin: 0.2em;color: black;border-radius: 0.25em;background-color: #f0f8ff;}#sk-container-id-1 input.sk-toggleable__control:checked~div.sk-toggleable__content {max-height: 200px;max-width: 100%;overflow: auto;}#sk-container-id-1 input.sk-toggleable__control:checked~label.sk-toggleable__label-arrow:before {content: \"▾\";}#sk-container-id-1 div.sk-estimator input.sk-toggleable__control:checked~label.sk-toggleable__label {background-color: #d4ebff;}#sk-container-id-1 div.sk-label input.sk-toggleable__control:checked~label.sk-toggleable__label {background-color: #d4ebff;}#sk-container-id-1 input.sk-hidden--visually {border: 0;clip: rect(1px 1px 1px 1px);clip: rect(1px, 1px, 1px, 1px);height: 1px;margin: -1px;overflow: hidden;padding: 0;position: absolute;width: 1px;}#sk-container-id-1 div.sk-estimator {font-family: monospace;background-color: #f0f8ff;border: 1px dotted black;border-radius: 0.25em;box-sizing: border-box;margin-bottom: 0.5em;}#sk-container-id-1 div.sk-estimator:hover {background-color: #d4ebff;}#sk-container-id-1 div.sk-parallel-item::after {content: \"\";width: 100%;border-bottom: 1px solid gray;flex-grow: 1;}#sk-container-id-1 div.sk-label:hover label.sk-toggleable__label {background-color: #d4ebff;}#sk-container-id-1 div.sk-serial::before {content: \"\";position: absolute;border-left: 1px solid gray;box-sizing: border-box;top: 0;bottom: 0;left: 50%;z-index: 0;}#sk-container-id-1 div.sk-serial {display: flex;flex-direction: column;align-items: center;background-color: white;padding-right: 0.2em;padding-left: 0.2em;position: relative;}#sk-container-id-1 div.sk-item {position: relative;z-index: 1;}#sk-container-id-1 div.sk-parallel {display: flex;align-items: stretch;justify-content: center;background-color: white;position: relative;}#sk-container-id-1 div.sk-item::before, #sk-container-id-1 div.sk-parallel-item::before {content: \"\";position: absolute;border-left: 1px solid gray;box-sizing: border-box;top: 0;bottom: 0;left: 50%;z-index: -1;}#sk-container-id-1 div.sk-parallel-item {display: flex;flex-direction: column;z-index: 1;position: relative;background-color: white;}#sk-container-id-1 div.sk-parallel-item:first-child::after {align-self: flex-end;width: 50%;}#sk-container-id-1 div.sk-parallel-item:last-child::after {align-self: flex-start;width: 50%;}#sk-container-id-1 div.sk-parallel-item:only-child::after {width: 0;}#sk-container-id-1 div.sk-dashed-wrapped {border: 1px dashed gray;margin: 0 0.4em 0.5em 0.4em;box-sizing: border-box;padding-bottom: 0.4em;background-color: white;}#sk-container-id-1 div.sk-label label {font-family: monospace;font-weight: bold;display: inline-block;line-height: 1.2em;}#sk-container-id-1 div.sk-label-container {text-align: center;}#sk-container-id-1 div.sk-container {/* jupyter's `normalize.less` sets `[hidden] { display: none; }` but bootstrap.min.css set `[hidden] { display: none !important; }` so we also need the `!important` here to be able to override the default hidden behavior on the sphinx rendered scikit-learn.org. See: https://github.com/scikit-learn/scikit-learn/issues/21755 */display: inline-block !important;position: relative;}#sk-container-id-1 div.sk-text-repr-fallback {display: none;}</style><div id=\"sk-container-id-1\" class=\"sk-top-container\"><div class=\"sk-text-repr-fallback\"><pre>Pipeline(steps=[(&#x27;scale&#x27;, None), (&#x27;model&#x27;, LogisticRegression())])</pre><b>In a Jupyter environment, please rerun this cell to show the HTML representation or trust the notebook. <br />On GitHub, the HTML representation is unable to render, please try loading this page with nbviewer.org.</b></div><div class=\"sk-container\" hidden><div class=\"sk-item sk-dashed-wrapped\"><div class=\"sk-label-container\"><div class=\"sk-label sk-toggleable\"><input class=\"sk-toggleable__control sk-hidden--visually\" id=\"sk-estimator-id-1\" type=\"checkbox\" ><label for=\"sk-estimator-id-1\" class=\"sk-toggleable__label sk-toggleable__label-arrow\">Pipeline</label><div class=\"sk-toggleable__content\"><pre>Pipeline(steps=[(&#x27;scale&#x27;, None), (&#x27;model&#x27;, LogisticRegression())])</pre></div></div></div><div class=\"sk-serial\"><div class=\"sk-item\"><div class=\"sk-estimator sk-toggleable\"><input class=\"sk-toggleable__control sk-hidden--visually\" id=\"sk-estimator-id-2\" type=\"checkbox\" ><label for=\"sk-estimator-id-2\" class=\"sk-toggleable__label sk-toggleable__label-arrow\">None</label><div class=\"sk-toggleable__content\"><pre>None</pre></div></div></div><div class=\"sk-item\"><div class=\"sk-estimator sk-toggleable\"><input class=\"sk-toggleable__control sk-hidden--visually\" id=\"sk-estimator-id-3\" type=\"checkbox\" ><label for=\"sk-estimator-id-3\" class=\"sk-toggleable__label sk-toggleable__label-arrow\">LogisticRegression</label><div class=\"sk-toggleable__content\"><pre>LogisticRegression()</pre></div></div></div></div></div></div></div>"
      ],
      "text/plain": [
       "Pipeline(steps=[('scale', None), ('model', LogisticRegression())])"
      ]
     },
     "execution_count": 27,
     "metadata": {},
     "output_type": "execute_result"
    }
   ],
   "source": [
    "model.fit(X_train, y_train.values.ravel())"
   ]
  },
  {
   "cell_type": "code",
   "execution_count": 28,
   "id": "af59f8c0",
   "metadata": {
    "execution": {
     "iopub.execute_input": "2025-07-23T14:35:11.214549Z",
     "iopub.status.busy": "2025-07-23T14:35:11.213933Z",
     "iopub.status.idle": "2025-07-23T14:35:11.220469Z",
     "shell.execute_reply": "2025-07-23T14:35:11.219370Z"
    },
    "papermill": {
     "duration": 0.029712,
     "end_time": "2025-07-23T14:35:11.222618",
     "exception": false,
     "start_time": "2025-07-23T14:35:11.192906",
     "status": "completed"
    },
    "tags": []
   },
   "outputs": [],
   "source": [
    "from fairness_multiverse.universe import predict_w_threshold"
   ]
  },
  {
   "cell_type": "code",
   "execution_count": 29,
   "id": "a7cf2e16",
   "metadata": {
    "execution": {
     "iopub.execute_input": "2025-07-23T14:35:11.263785Z",
     "iopub.status.busy": "2025-07-23T14:35:11.262994Z",
     "iopub.status.idle": "2025-07-23T14:35:11.372238Z",
     "shell.execute_reply": "2025-07-23T14:35:11.371119Z"
    },
    "papermill": {
     "duration": 0.132023,
     "end_time": "2025-07-23T14:35:11.374370",
     "exception": false,
     "start_time": "2025-07-23T14:35:11.242347",
     "status": "completed"
    },
    "tags": []
   },
   "outputs": [
    {
     "data": {
      "text/plain": [
       "0.8608739270984282"
      ]
     },
     "execution_count": 29,
     "metadata": {},
     "output_type": "execute_result"
    }
   ],
   "source": [
    "probs_test = model.predict_proba(X_test)\n",
    "\n",
    "'''\n",
    "Below code returns a boolean array (or binary 0/1 array depending on how it’s used) where each element \n",
    "is True if the probability of class 1 is greater than or equal to the threshold, and False otherwise.\n",
    "'''\n",
    "y_pred_default = predict_w_threshold(probs_test, 0.5)\n",
    "\n",
    "from sklearn.metrics import accuracy_score\n",
    "\n",
    "# Naive prediction\n",
    "accuracy_score(y_true = y_true, y_pred = y_pred_default)"
   ]
  },
  {
   "cell_type": "code",
   "execution_count": 30,
   "id": "081964c3",
   "metadata": {
    "execution": {
     "iopub.execute_input": "2025-07-23T14:35:11.414408Z",
     "iopub.status.busy": "2025-07-23T14:35:11.413550Z",
     "iopub.status.idle": "2025-07-23T14:35:11.503022Z",
     "shell.execute_reply": "2025-07-23T14:35:11.502036Z"
    },
    "papermill": {
     "duration": 0.11103,
     "end_time": "2025-07-23T14:35:11.504930",
     "exception": false,
     "start_time": "2025-07-23T14:35:11.393900",
     "status": "completed"
    },
    "tags": []
   },
   "outputs": [
    {
     "data": {
      "text/plain": [
       "array([0, 0, 0, ..., 0, 0, 0])"
      ]
     },
     "execution_count": 30,
     "metadata": {},
     "output_type": "execute_result"
    }
   ],
   "source": [
    "model.predict(X_test)"
   ]
  },
  {
   "cell_type": "markdown",
   "id": "56c9705b",
   "metadata": {
    "papermill": {
     "duration": 0.019792,
     "end_time": "2025-07-23T14:35:11.544665",
     "exception": false,
     "start_time": "2025-07-23T14:35:11.524873",
     "status": "completed"
    },
    "tags": []
   },
   "source": [
    "# Conformal Prediction"
   ]
  },
  {
   "cell_type": "code",
   "execution_count": 31,
   "id": "160ec6ff",
   "metadata": {
    "execution": {
     "iopub.execute_input": "2025-07-23T14:35:11.584990Z",
     "iopub.status.busy": "2025-07-23T14:35:11.584144Z",
     "iopub.status.idle": "2025-07-23T14:35:11.590107Z",
     "shell.execute_reply": "2025-07-23T14:35:11.589134Z"
    },
    "papermill": {
     "duration": 0.027633,
     "end_time": "2025-07-23T14:35:11.591933",
     "exception": false,
     "start_time": "2025-07-23T14:35:11.564300",
     "status": "completed"
    },
    "tags": []
   },
   "outputs": [],
   "source": [
    "# Miscoverage level for conformal prediction (10% allowed error rate => 90% target coverage)\n",
    "alpha = 0.1"
   ]
  },
  {
   "cell_type": "code",
   "execution_count": 32,
   "id": "eadf4555-3dd3-440e-8e35-f82a4ad9f855",
   "metadata": {
    "execution": {
     "iopub.execute_input": "2025-07-23T14:35:11.636828Z",
     "iopub.status.busy": "2025-07-23T14:35:11.635226Z",
     "iopub.status.idle": "2025-07-23T14:35:11.727331Z",
     "shell.execute_reply": "2025-07-23T14:35:11.726293Z"
    },
    "papermill": {
     "duration": 0.115642,
     "end_time": "2025-07-23T14:35:11.729449",
     "exception": false,
     "start_time": "2025-07-23T14:35:11.613807",
     "status": "completed"
    },
    "tags": []
   },
   "outputs": [],
   "source": [
    "probs_calib = model.predict_proba(X_calib)"
   ]
  },
  {
   "cell_type": "code",
   "execution_count": 33,
   "id": "2ed93547-6d5d-4983-9b36-1ecb300da49a",
   "metadata": {
    "execution": {
     "iopub.execute_input": "2025-07-23T14:35:11.770802Z",
     "iopub.status.busy": "2025-07-23T14:35:11.769806Z",
     "iopub.status.idle": "2025-07-23T14:35:11.776208Z",
     "shell.execute_reply": "2025-07-23T14:35:11.775202Z"
    },
    "papermill": {
     "duration": 0.028606,
     "end_time": "2025-07-23T14:35:11.777877",
     "exception": false,
     "start_time": "2025-07-23T14:35:11.749271",
     "status": "completed"
    },
    "tags": []
   },
   "outputs": [],
   "source": [
    "y_calib = y_calib.values.ravel().astype(int)"
   ]
  },
  {
   "cell_type": "code",
   "execution_count": 34,
   "id": "65d1320d-f588-4b38-9072-62af1ae97f7d",
   "metadata": {
    "execution": {
     "iopub.execute_input": "2025-07-23T14:35:11.819968Z",
     "iopub.status.busy": "2025-07-23T14:35:11.819159Z",
     "iopub.status.idle": "2025-07-23T14:35:11.827645Z",
     "shell.execute_reply": "2025-07-23T14:35:11.826526Z"
    },
    "papermill": {
     "duration": 0.030915,
     "end_time": "2025-07-23T14:35:11.829333",
     "exception": false,
     "start_time": "2025-07-23T14:35:11.798418",
     "status": "completed"
    },
    "tags": []
   },
   "outputs": [],
   "source": [
    "from fairness_multiverse.conformal import compute_nc_scores\n",
    "\n",
    "# Compute nonconformity scores on calibration set (1 - probability of true class)\n",
    "nc_scores = compute_nc_scores(probs_calib, y_calib)"
   ]
  },
  {
   "cell_type": "code",
   "execution_count": 35,
   "id": "df3b8ca3-53b7-43d5-9667-7c85da7aeda2",
   "metadata": {
    "execution": {
     "iopub.execute_input": "2025-07-23T14:35:11.869521Z",
     "iopub.status.busy": "2025-07-23T14:35:11.868606Z",
     "iopub.status.idle": "2025-07-23T14:35:11.875208Z",
     "shell.execute_reply": "2025-07-23T14:35:11.874251Z"
    },
    "papermill": {
     "duration": 0.028142,
     "end_time": "2025-07-23T14:35:11.876635",
     "exception": false,
     "start_time": "2025-07-23T14:35:11.848493",
     "status": "completed"
    },
    "tags": []
   },
   "outputs": [],
   "source": [
    "from fairness_multiverse.conformal import find_threshold\n",
    "\n",
    "# Find conformal threshold q_hat for the given alpha (split conformal method)\n",
    "q_hat = find_threshold(nc_scores, alpha)"
   ]
  },
  {
   "cell_type": "code",
   "execution_count": 36,
   "id": "4d29e6c1-0ef6-4aa4-b8fe-4fe79b0d033a",
   "metadata": {
    "execution": {
     "iopub.execute_input": "2025-07-23T14:35:11.900496Z",
     "iopub.status.busy": "2025-07-23T14:35:11.899947Z",
     "iopub.status.idle": "2025-07-23T14:35:11.906362Z",
     "shell.execute_reply": "2025-07-23T14:35:11.905507Z"
    },
    "papermill": {
     "duration": 0.019276,
     "end_time": "2025-07-23T14:35:11.907717",
     "exception": false,
     "start_time": "2025-07-23T14:35:11.888441",
     "status": "completed"
    },
    "tags": []
   },
   "outputs": [
    {
     "data": {
      "text/plain": [
       "0.6716481878665744"
      ]
     },
     "execution_count": 36,
     "metadata": {},
     "output_type": "execute_result"
    }
   ],
   "source": [
    "q_hat"
   ]
  },
  {
   "cell_type": "code",
   "execution_count": 37,
   "id": "92460794-cdac-4be2-ba28-f28c0515a6fb",
   "metadata": {
    "execution": {
     "iopub.execute_input": "2025-07-23T14:35:11.931861Z",
     "iopub.status.busy": "2025-07-23T14:35:11.931228Z",
     "iopub.status.idle": "2025-07-23T14:35:12.555234Z",
     "shell.execute_reply": "2025-07-23T14:35:12.554134Z"
    },
    "papermill": {
     "duration": 0.638031,
     "end_time": "2025-07-23T14:35:12.557382",
     "exception": false,
     "start_time": "2025-07-23T14:35:11.919351",
     "status": "completed"
    },
    "tags": []
   },
   "outputs": [],
   "source": [
    "from fairness_multiverse.conformal import predict_conformal_sets\n",
    "\n",
    "# Generate prediction sets for each test example\n",
    "pred_sets = predict_conformal_sets(model, X_test, q_hat)"
   ]
  },
  {
   "cell_type": "code",
   "execution_count": 38,
   "id": "d90c9a65-e6db-4f5d-80cd-e68fb7e46829",
   "metadata": {
    "execution": {
     "iopub.execute_input": "2025-07-23T14:35:12.606190Z",
     "iopub.status.busy": "2025-07-23T14:35:12.605214Z",
     "iopub.status.idle": "2025-07-23T14:35:12.611473Z",
     "shell.execute_reply": "2025-07-23T14:35:12.610178Z"
    },
    "papermill": {
     "duration": 0.032287,
     "end_time": "2025-07-23T14:35:12.613602",
     "exception": false,
     "start_time": "2025-07-23T14:35:12.581315",
     "status": "completed"
    },
    "tags": []
   },
   "outputs": [],
   "source": [
    "y_true = y_true.squeeze()"
   ]
  },
  {
   "cell_type": "code",
   "execution_count": 39,
   "id": "3a58a54a-1e68-46b9-927a-df01f18aebc8",
   "metadata": {
    "execution": {
     "iopub.execute_input": "2025-07-23T14:35:12.663034Z",
     "iopub.status.busy": "2025-07-23T14:35:12.662597Z",
     "iopub.status.idle": "2025-07-23T14:35:13.708065Z",
     "shell.execute_reply": "2025-07-23T14:35:13.706946Z"
    },
    "papermill": {
     "duration": 1.07271,
     "end_time": "2025-07-23T14:35:13.710406",
     "exception": false,
     "start_time": "2025-07-23T14:35:12.637696",
     "status": "completed"
    },
    "tags": []
   },
   "outputs": [],
   "source": [
    "from fairness_multiverse.conformal import evaluate_sets\n",
    "\n",
    "# Evaluate coverage and average set size on test data\n",
    "metrics = evaluate_sets(pred_sets, y_true)"
   ]
  },
  {
   "cell_type": "code",
   "execution_count": 40,
   "id": "5ce0a5cb-201f-45a0-ade5-94c7f0bd6095",
   "metadata": {
    "execution": {
     "iopub.execute_input": "2025-07-23T14:35:13.753668Z",
     "iopub.status.busy": "2025-07-23T14:35:13.753135Z",
     "iopub.status.idle": "2025-07-23T14:35:13.760899Z",
     "shell.execute_reply": "2025-07-23T14:35:13.759814Z"
    },
    "papermill": {
     "duration": 0.031127,
     "end_time": "2025-07-23T14:35:13.762820",
     "exception": false,
     "start_time": "2025-07-23T14:35:13.731693",
     "status": "completed"
    },
    "tags": []
   },
   "outputs": [
    {
     "data": {
      "text/plain": [
       "{'coverage': 0.9118715862222717, 'avg_size': 1.2046817523130087}"
      ]
     },
     "execution_count": 40,
     "metadata": {},
     "output_type": "execute_result"
    }
   ],
   "source": [
    "metrics"
   ]
  },
  {
   "cell_type": "code",
   "execution_count": 41,
   "id": "9b9a838d-31c9-430b-ae14-12baee460d17",
   "metadata": {
    "execution": {
     "iopub.execute_input": "2025-07-23T14:35:13.807872Z",
     "iopub.status.busy": "2025-07-23T14:35:13.807156Z",
     "iopub.status.idle": "2025-07-23T14:35:13.813790Z",
     "shell.execute_reply": "2025-07-23T14:35:13.812634Z"
    },
    "papermill": {
     "duration": 0.031249,
     "end_time": "2025-07-23T14:35:13.815772",
     "exception": false,
     "start_time": "2025-07-23T14:35:13.784523",
     "status": "completed"
    },
    "tags": []
   },
   "outputs": [],
   "source": [
    "example_universe = universe.copy()\n",
    "universe_model = example_universe.get(\"model\")\n",
    "universe_exclude_features = example_universe.get(\"exclude_features\")\n",
    "universe_exclude_subgroups = example_universe.get(\"exclude_subgroups\")\n",
    "universe_scale = example_universe.get(\"scale\")"
   ]
  },
  {
   "cell_type": "code",
   "execution_count": 42,
   "id": "f4b6a8ac-9dc0-4245-8a91-5b3b5999c4f9",
   "metadata": {
    "execution": {
     "iopub.execute_input": "2025-07-23T14:35:13.859811Z",
     "iopub.status.busy": "2025-07-23T14:35:13.858983Z",
     "iopub.status.idle": "2025-07-23T14:35:13.866031Z",
     "shell.execute_reply": "2025-07-23T14:35:13.865064Z"
    },
    "papermill": {
     "duration": 0.031107,
     "end_time": "2025-07-23T14:35:13.867718",
     "exception": false,
     "start_time": "2025-07-23T14:35:13.836611",
     "status": "completed"
    },
    "tags": []
   },
   "outputs": [],
   "source": [
    "cp_metrics_dict = {\n",
    "    \"universe_id\": [universe_id],\n",
    "    \"universe_model\": [universe_model],\n",
    "    \"universe_exclude_features\": [universe_exclude_features],\n",
    "    \"universe_exclude_subgroups\": [universe_exclude_subgroups],\n",
    "    \"universe_scale\": [universe_scale],\n",
    "    \"q_hat\": [q_hat],\n",
    "    \"coverage\": [metrics[\"coverage\"]],\n",
    "    \"avg_size\": [metrics[\"avg_size\"]],\n",
    "}"
   ]
  },
  {
   "cell_type": "code",
   "execution_count": 43,
   "id": "908acbb1-0371-4915-85ca-3fa520d2efe2",
   "metadata": {
    "execution": {
     "iopub.execute_input": "2025-07-23T14:35:13.912013Z",
     "iopub.status.busy": "2025-07-23T14:35:13.911296Z",
     "iopub.status.idle": "2025-07-23T14:35:13.919648Z",
     "shell.execute_reply": "2025-07-23T14:35:13.918606Z"
    },
    "papermill": {
     "duration": 0.032098,
     "end_time": "2025-07-23T14:35:13.921313",
     "exception": false,
     "start_time": "2025-07-23T14:35:13.889215",
     "status": "completed"
    },
    "tags": []
   },
   "outputs": [
    {
     "data": {
      "text/plain": [
       "{'universe_id': ['8631657b183932ecdcc601e19df5cb9f'],\n",
       " 'universe_model': ['penalized_logreg'],\n",
       " 'universe_exclude_features': ['none'],\n",
       " 'universe_exclude_subgroups': ['keep-all'],\n",
       " 'universe_scale': ['do-not-scale'],\n",
       " 'q_hat': [0.6716481878665744],\n",
       " 'coverage': [0.9118715862222717],\n",
       " 'avg_size': [1.2046817523130087]}"
      ]
     },
     "execution_count": 43,
     "metadata": {},
     "output_type": "execute_result"
    }
   ],
   "source": [
    "cp_metrics_dict"
   ]
  },
  {
   "cell_type": "code",
   "execution_count": 44,
   "id": "33007efc-14e9-4ec6-97ac-56a455c82265",
   "metadata": {
    "execution": {
     "iopub.execute_input": "2025-07-23T14:35:13.965859Z",
     "iopub.status.busy": "2025-07-23T14:35:13.965120Z",
     "iopub.status.idle": "2025-07-23T14:35:13.971710Z",
     "shell.execute_reply": "2025-07-23T14:35:13.970767Z"
    },
    "papermill": {
     "duration": 0.029509,
     "end_time": "2025-07-23T14:35:13.973393",
     "exception": false,
     "start_time": "2025-07-23T14:35:13.943884",
     "status": "completed"
    },
    "tags": []
   },
   "outputs": [],
   "source": [
    "cp_metrics_df = pd.DataFrame(cp_metrics_dict)"
   ]
  },
  {
   "cell_type": "code",
   "execution_count": 45,
   "id": "db12611b-57b2-4910-b9d0-355adfd6e7bf",
   "metadata": {
    "execution": {
     "iopub.execute_input": "2025-07-23T14:35:14.019930Z",
     "iopub.status.busy": "2025-07-23T14:35:14.019187Z",
     "iopub.status.idle": "2025-07-23T14:35:14.039022Z",
     "shell.execute_reply": "2025-07-23T14:35:14.037880Z"
    },
    "papermill": {
     "duration": 0.044924,
     "end_time": "2025-07-23T14:35:14.042102",
     "exception": false,
     "start_time": "2025-07-23T14:35:13.997178",
     "status": "completed"
    },
    "tags": []
   },
   "outputs": [
    {
     "data": {
      "text/html": [
       "<div>\n",
       "<style scoped>\n",
       "    .dataframe tbody tr th:only-of-type {\n",
       "        vertical-align: middle;\n",
       "    }\n",
       "\n",
       "    .dataframe tbody tr th {\n",
       "        vertical-align: top;\n",
       "    }\n",
       "\n",
       "    .dataframe thead th {\n",
       "        text-align: right;\n",
       "    }\n",
       "</style>\n",
       "<table border=\"1\" class=\"dataframe\">\n",
       "  <thead>\n",
       "    <tr style=\"text-align: right;\">\n",
       "      <th></th>\n",
       "      <th>universe_id</th>\n",
       "      <th>universe_model</th>\n",
       "      <th>universe_exclude_features</th>\n",
       "      <th>universe_exclude_subgroups</th>\n",
       "      <th>universe_scale</th>\n",
       "      <th>q_hat</th>\n",
       "      <th>coverage</th>\n",
       "      <th>avg_size</th>\n",
       "    </tr>\n",
       "  </thead>\n",
       "  <tbody>\n",
       "    <tr>\n",
       "      <th>0</th>\n",
       "      <td>8631657b183932ecdcc601e19df5cb9f</td>\n",
       "      <td>penalized_logreg</td>\n",
       "      <td>none</td>\n",
       "      <td>keep-all</td>\n",
       "      <td>do-not-scale</td>\n",
       "      <td>0.671648</td>\n",
       "      <td>0.911872</td>\n",
       "      <td>1.204682</td>\n",
       "    </tr>\n",
       "  </tbody>\n",
       "</table>\n",
       "</div>"
      ],
      "text/plain": [
       "                        universe_id    universe_model  \\\n",
       "0  8631657b183932ecdcc601e19df5cb9f  penalized_logreg   \n",
       "\n",
       "  universe_exclude_features universe_exclude_subgroups universe_scale  \\\n",
       "0                      none                   keep-all   do-not-scale   \n",
       "\n",
       "      q_hat  coverage  avg_size  \n",
       "0  0.671648  0.911872  1.204682  "
      ]
     },
     "execution_count": 45,
     "metadata": {},
     "output_type": "execute_result"
    }
   ],
   "source": [
    "cp_metrics_df"
   ]
  },
  {
   "cell_type": "code",
   "execution_count": 46,
   "id": "b7fbde55-a0a1-47e4-9af6-fe4a17fa8c61",
   "metadata": {
    "execution": {
     "iopub.execute_input": "2025-07-23T14:35:14.086340Z",
     "iopub.status.busy": "2025-07-23T14:35:14.085640Z",
     "iopub.status.idle": "2025-07-23T14:35:14.091027Z",
     "shell.execute_reply": "2025-07-23T14:35:14.090051Z"
    },
    "papermill": {
     "duration": 0.028822,
     "end_time": "2025-07-23T14:35:14.092748",
     "exception": false,
     "start_time": "2025-07-23T14:35:14.063926",
     "status": "completed"
    },
    "tags": []
   },
   "outputs": [],
   "source": [
    "# Conditional Coverage & looking at subgroups"
   ]
  },
  {
   "cell_type": "code",
   "execution_count": 47,
   "id": "027ae886-68dd-4141-96c7-805a5450e1ef",
   "metadata": {
    "execution": {
     "iopub.execute_input": "2025-07-23T14:35:14.137998Z",
     "iopub.status.busy": "2025-07-23T14:35:14.137061Z",
     "iopub.status.idle": "2025-07-23T14:35:14.407099Z",
     "shell.execute_reply": "2025-07-23T14:35:14.406115Z"
    },
    "papermill": {
     "duration": 0.294132,
     "end_time": "2025-07-23T14:35:14.409197",
     "exception": false,
     "start_time": "2025-07-23T14:35:14.115065",
     "status": "completed"
    },
    "tags": []
   },
   "outputs": [],
   "source": [
    "from fairness_multiverse.conformal import build_cp_groups\n",
    "\n",
    "cp_groups_df = build_cp_groups(pred_sets, y_true, X_test.index, org_test)\n",
    "#needs universe_id and setting"
   ]
  },
  {
   "cell_type": "code",
   "execution_count": 48,
   "id": "c3b92545-903e-4839-89af-0f057907d7d6",
   "metadata": {
    "execution": {
     "iopub.execute_input": "2025-07-23T14:35:14.455008Z",
     "iopub.status.busy": "2025-07-23T14:35:14.454089Z",
     "iopub.status.idle": "2025-07-23T14:35:15.804795Z",
     "shell.execute_reply": "2025-07-23T14:35:15.803944Z"
    },
    "papermill": {
     "duration": 1.375362,
     "end_time": "2025-07-23T14:35:15.806494",
     "exception": false,
     "start_time": "2025-07-23T14:35:14.431132",
     "status": "completed"
    },
    "tags": []
   },
   "outputs": [],
   "source": [
    "# Define covered = 1 if true_label is in the predicted set\n",
    "cp_groups_df['covered'] = cp_groups_df.apply(\n",
    "    lambda r: int(r['true_label'] in r['pred_set']),\n",
    "    axis=1\n",
    ")"
   ]
  },
  {
   "cell_type": "code",
   "execution_count": 49,
   "id": "338ff529-1a6b-4b87-a931-8e4788d52aad",
   "metadata": {
    "execution": {
     "iopub.execute_input": "2025-07-23T14:35:15.833376Z",
     "iopub.status.busy": "2025-07-23T14:35:15.832988Z",
     "iopub.status.idle": "2025-07-23T14:35:15.837731Z",
     "shell.execute_reply": "2025-07-23T14:35:15.836592Z"
    },
    "papermill": {
     "duration": 0.019819,
     "end_time": "2025-07-23T14:35:15.839597",
     "exception": false,
     "start_time": "2025-07-23T14:35:15.819778",
     "status": "completed"
    },
    "tags": []
   },
   "outputs": [],
   "source": [
    "#cp_groups_df"
   ]
  },
  {
   "cell_type": "code",
   "execution_count": 50,
   "id": "90032e27-66df-4540-9169-4e89cfbaa758",
   "metadata": {
    "execution": {
     "iopub.execute_input": "2025-07-23T14:35:15.887109Z",
     "iopub.status.busy": "2025-07-23T14:35:15.886452Z",
     "iopub.status.idle": "2025-07-23T14:35:15.899549Z",
     "shell.execute_reply": "2025-07-23T14:35:15.898414Z"
    },
    "papermill": {
     "duration": 0.039008,
     "end_time": "2025-07-23T14:35:15.901547",
     "exception": false,
     "start_time": "2025-07-23T14:35:15.862539",
     "status": "completed"
    },
    "tags": []
   },
   "outputs": [],
   "source": [
    "subgroups = ['frau1','nongerman','nongerman_male','nongerman_female']\n",
    "\n",
    "# Conditional coverage for subgroup==1\n",
    "cond_coverage = {\n",
    "    g: cp_groups_df.loc[cp_groups_df[g]==1, 'covered'].mean()\n",
    "    for g in subgroups\n",
    "}"
   ]
  },
  {
   "cell_type": "code",
   "execution_count": 51,
   "id": "1e348fb1-b9c3-45bc-ba23-f016827a7e0d",
   "metadata": {
    "execution": {
     "iopub.execute_input": "2025-07-23T14:35:15.949793Z",
     "iopub.status.busy": "2025-07-23T14:35:15.948732Z",
     "iopub.status.idle": "2025-07-23T14:35:15.957784Z",
     "shell.execute_reply": "2025-07-23T14:35:15.956328Z"
    },
    "papermill": {
     "duration": 0.03499,
     "end_time": "2025-07-23T14:35:15.959901",
     "exception": false,
     "start_time": "2025-07-23T14:35:15.924911",
     "status": "completed"
    },
    "tags": []
   },
   "outputs": [
    {
     "data": {
      "text/plain": [
       "{'frau1': 0.9110661814260682,\n",
       " 'nongerman': 0.9305563352607646,\n",
       " 'nongerman_male': 0.9437989732504728,\n",
       " 'nongerman_female': 0.9086438152011922}"
      ]
     },
     "execution_count": 51,
     "metadata": {},
     "output_type": "execute_result"
    }
   ],
   "source": [
    "cond_coverage"
   ]
  },
  {
   "cell_type": "code",
   "execution_count": 52,
   "id": "f5093324-c3dd-4d63-bc4c-8d945e5c8bbb",
   "metadata": {
    "execution": {
     "iopub.execute_input": "2025-07-23T14:35:16.006019Z",
     "iopub.status.busy": "2025-07-23T14:35:16.005510Z",
     "iopub.status.idle": "2025-07-23T14:35:16.013485Z",
     "shell.execute_reply": "2025-07-23T14:35:16.012637Z"
    },
    "papermill": {
     "duration": 0.027537,
     "end_time": "2025-07-23T14:35:16.014976",
     "exception": false,
     "start_time": "2025-07-23T14:35:15.987439",
     "status": "completed"
    },
    "tags": []
   },
   "outputs": [],
   "source": [
    "for subgroup, cov in cond_coverage.items():\n",
    "    cp_metrics_df[f\"cov_{subgroup}\"] = cov"
   ]
  },
  {
   "cell_type": "code",
   "execution_count": 53,
   "id": "6e872e10-dbe5-49e8-b554-5030c98ff75d",
   "metadata": {
    "execution": {
     "iopub.execute_input": "2025-07-23T14:35:16.044074Z",
     "iopub.status.busy": "2025-07-23T14:35:16.043297Z",
     "iopub.status.idle": "2025-07-23T14:35:16.058418Z",
     "shell.execute_reply": "2025-07-23T14:35:16.057131Z"
    },
    "papermill": {
     "duration": 0.030555,
     "end_time": "2025-07-23T14:35:16.059866",
     "exception": false,
     "start_time": "2025-07-23T14:35:16.029311",
     "status": "completed"
    },
    "tags": []
   },
   "outputs": [
    {
     "data": {
      "text/html": [
       "<div>\n",
       "<style scoped>\n",
       "    .dataframe tbody tr th:only-of-type {\n",
       "        vertical-align: middle;\n",
       "    }\n",
       "\n",
       "    .dataframe tbody tr th {\n",
       "        vertical-align: top;\n",
       "    }\n",
       "\n",
       "    .dataframe thead th {\n",
       "        text-align: right;\n",
       "    }\n",
       "</style>\n",
       "<table border=\"1\" class=\"dataframe\">\n",
       "  <thead>\n",
       "    <tr style=\"text-align: right;\">\n",
       "      <th></th>\n",
       "      <th>universe_id</th>\n",
       "      <th>universe_model</th>\n",
       "      <th>universe_exclude_features</th>\n",
       "      <th>universe_exclude_subgroups</th>\n",
       "      <th>universe_scale</th>\n",
       "      <th>q_hat</th>\n",
       "      <th>coverage</th>\n",
       "      <th>avg_size</th>\n",
       "      <th>cov_frau1</th>\n",
       "      <th>cov_nongerman</th>\n",
       "      <th>cov_nongerman_male</th>\n",
       "      <th>cov_nongerman_female</th>\n",
       "    </tr>\n",
       "  </thead>\n",
       "  <tbody>\n",
       "    <tr>\n",
       "      <th>0</th>\n",
       "      <td>8631657b183932ecdcc601e19df5cb9f</td>\n",
       "      <td>penalized_logreg</td>\n",
       "      <td>none</td>\n",
       "      <td>keep-all</td>\n",
       "      <td>do-not-scale</td>\n",
       "      <td>0.671648</td>\n",
       "      <td>0.911872</td>\n",
       "      <td>1.204682</td>\n",
       "      <td>0.911066</td>\n",
       "      <td>0.930556</td>\n",
       "      <td>0.943799</td>\n",
       "      <td>0.908644</td>\n",
       "    </tr>\n",
       "  </tbody>\n",
       "</table>\n",
       "</div>"
      ],
      "text/plain": [
       "                        universe_id    universe_model  \\\n",
       "0  8631657b183932ecdcc601e19df5cb9f  penalized_logreg   \n",
       "\n",
       "  universe_exclude_features universe_exclude_subgroups universe_scale  \\\n",
       "0                      none                   keep-all   do-not-scale   \n",
       "\n",
       "      q_hat  coverage  avg_size  cov_frau1  cov_nongerman  cov_nongerman_male  \\\n",
       "0  0.671648  0.911872  1.204682   0.911066       0.930556            0.943799   \n",
       "\n",
       "   cov_nongerman_female  \n",
       "0              0.908644  "
      ]
     },
     "execution_count": 53,
     "metadata": {},
     "output_type": "execute_result"
    }
   ],
   "source": [
    "cp_metrics_df"
   ]
  },
  {
   "cell_type": "markdown",
   "id": "33774451",
   "metadata": {
    "papermill": {
     "duration": 0.012471,
     "end_time": "2025-07-23T14:35:16.086324",
     "exception": false,
     "start_time": "2025-07-23T14:35:16.073853",
     "status": "completed"
    },
    "tags": []
   },
   "source": [
    "# (Fairness) Metrics"
   ]
  },
  {
   "cell_type": "code",
   "execution_count": 54,
   "id": "debc5d62",
   "metadata": {
    "execution": {
     "iopub.execute_input": "2025-07-23T14:35:16.113276Z",
     "iopub.status.busy": "2025-07-23T14:35:16.112716Z",
     "iopub.status.idle": "2025-07-23T14:35:16.129089Z",
     "shell.execute_reply": "2025-07-23T14:35:16.128215Z"
    },
    "papermill": {
     "duration": 0.031536,
     "end_time": "2025-07-23T14:35:16.130707",
     "exception": false,
     "start_time": "2025-07-23T14:35:16.099171",
     "status": "completed"
    },
    "tags": []
   },
   "outputs": [],
   "source": [
    "# do I need to include maxdeutsch1.missing?\n",
    "\n",
    "import numpy as np\n",
    "\n",
    "colname_to_bin = \"maxdeutsch1\"\n",
    "majority_value = org_train[colname_to_bin].mode()[0]\n",
    "\n",
    "org_test[\"majmin\"] = np.where(org_test[colname_to_bin] == majority_value, \"majority\", \"minority\")"
   ]
  },
  {
   "cell_type": "code",
   "execution_count": 55,
   "id": "06a50de5",
   "metadata": {
    "execution": {
     "iopub.execute_input": "2025-07-23T14:35:16.158114Z",
     "iopub.status.busy": "2025-07-23T14:35:16.157310Z",
     "iopub.status.idle": "2025-07-23T14:35:18.679207Z",
     "shell.execute_reply": "2025-07-23T14:35:18.678119Z"
    },
    "papermill": {
     "duration": 2.537613,
     "end_time": "2025-07-23T14:35:18.681215",
     "exception": false,
     "start_time": "2025-07-23T14:35:16.143602",
     "status": "completed"
    },
    "tags": []
   },
   "outputs": [],
   "source": [
    "example_universe = universe.copy()\n",
    "example_universe[\"cutoff\"] = example_universe[\"cutoff\"][0]\n",
    "example_universe[\"eval_fairness_grouping\"] = example_universe[\"eval_fairness_grouping\"][0]\n",
    "fairness_dict, metric_frame = universe_analysis.compute_metrics(\n",
    "    example_universe,\n",
    "    y_pred_prob=probs_test,\n",
    "    y_test=y_true,\n",
    "    org_test=org_test,\n",
    ")"
   ]
  },
  {
   "cell_type": "markdown",
   "id": "f95d4e02",
   "metadata": {
    "papermill": {
     "duration": 0.02746,
     "end_time": "2025-07-23T14:35:18.736775",
     "exception": false,
     "start_time": "2025-07-23T14:35:18.709315",
     "status": "completed"
    },
    "tags": []
   },
   "source": [
    "# Overall"
   ]
  },
  {
   "cell_type": "markdown",
   "id": "bdee4871",
   "metadata": {
    "papermill": {
     "duration": 0.027475,
     "end_time": "2025-07-23T14:35:18.791528",
     "exception": false,
     "start_time": "2025-07-23T14:35:18.764053",
     "status": "completed"
    },
    "tags": []
   },
   "source": [
    "Fairness\n",
    "Main fairness target: Equalized Odds. Seems to be a better fit than equal opportunity, since we're not only interested in Y = 1. Seems to be a better fit than demographic parity, since we also care about accuracy, not just equal distribution of preds.\n",
    "\n",
    "Pick column for computation of fairness metrics\n",
    "\n",
    "Performance\n",
    "Overall performance measures, most interesting in relation to the measures split by group below"
   ]
  },
  {
   "cell_type": "code",
   "execution_count": 56,
   "id": "c4e067c6",
   "metadata": {
    "execution": {
     "iopub.execute_input": "2025-07-23T14:35:18.848708Z",
     "iopub.status.busy": "2025-07-23T14:35:18.848094Z",
     "iopub.status.idle": "2025-07-23T14:35:18.858563Z",
     "shell.execute_reply": "2025-07-23T14:35:18.857306Z"
    },
    "papermill": {
     "duration": 0.041278,
     "end_time": "2025-07-23T14:35:18.860814",
     "exception": false,
     "start_time": "2025-07-23T14:35:18.819536",
     "status": "completed"
    },
    "tags": []
   },
   "outputs": [
    {
     "data": {
      "text/plain": [
       "accuracy                   0.217601\n",
       "balanced accuracy          0.533484\n",
       "f1                         0.239119\n",
       "precision                  0.136601\n",
       "false positive rate        0.891409\n",
       "false negative rate        0.041623\n",
       "selection rate             0.900000\n",
       "count                  89710.000000\n",
       "dtype: float64"
      ]
     },
     "execution_count": 56,
     "metadata": {},
     "output_type": "execute_result"
    }
   ],
   "source": [
    "metric_frame.overall"
   ]
  },
  {
   "cell_type": "markdown",
   "id": "e968fe9d",
   "metadata": {
    "papermill": {
     "duration": 0.030986,
     "end_time": "2025-07-23T14:35:18.919884",
     "exception": false,
     "start_time": "2025-07-23T14:35:18.888898",
     "status": "completed"
    },
    "tags": []
   },
   "source": [
    "By Group"
   ]
  },
  {
   "cell_type": "code",
   "execution_count": 57,
   "id": "ec325bce",
   "metadata": {
    "execution": {
     "iopub.execute_input": "2025-07-23T14:35:18.977781Z",
     "iopub.status.busy": "2025-07-23T14:35:18.977219Z",
     "iopub.status.idle": "2025-07-23T14:35:18.995620Z",
     "shell.execute_reply": "2025-07-23T14:35:18.994454Z"
    },
    "papermill": {
     "duration": 0.049513,
     "end_time": "2025-07-23T14:35:18.997373",
     "exception": false,
     "start_time": "2025-07-23T14:35:18.947860",
     "status": "completed"
    },
    "tags": []
   },
   "outputs": [
    {
     "data": {
      "text/html": [
       "<div>\n",
       "<style scoped>\n",
       "    .dataframe tbody tr th:only-of-type {\n",
       "        vertical-align: middle;\n",
       "    }\n",
       "\n",
       "    .dataframe tbody tr th {\n",
       "        vertical-align: top;\n",
       "    }\n",
       "\n",
       "    .dataframe thead th {\n",
       "        text-align: right;\n",
       "    }\n",
       "</style>\n",
       "<table border=\"1\" class=\"dataframe\">\n",
       "  <thead>\n",
       "    <tr style=\"text-align: right;\">\n",
       "      <th></th>\n",
       "      <th>accuracy</th>\n",
       "      <th>balanced accuracy</th>\n",
       "      <th>f1</th>\n",
       "      <th>precision</th>\n",
       "      <th>false positive rate</th>\n",
       "      <th>false negative rate</th>\n",
       "      <th>selection rate</th>\n",
       "      <th>count</th>\n",
       "    </tr>\n",
       "    <tr>\n",
       "      <th>majmin</th>\n",
       "      <th></th>\n",
       "      <th></th>\n",
       "      <th></th>\n",
       "      <th></th>\n",
       "      <th></th>\n",
       "      <th></th>\n",
       "      <th></th>\n",
       "      <th></th>\n",
       "    </tr>\n",
       "  </thead>\n",
       "  <tbody>\n",
       "    <tr>\n",
       "      <th>majority</th>\n",
       "      <td>0.239960</td>\n",
       "      <td>0.541250</td>\n",
       "      <td>0.248456</td>\n",
       "      <td>0.142899</td>\n",
       "      <td>0.868266</td>\n",
       "      <td>0.049234</td>\n",
       "      <td>0.879167</td>\n",
       "      <td>69170.0</td>\n",
       "    </tr>\n",
       "    <tr>\n",
       "      <th>minority</th>\n",
       "      <td>0.142308</td>\n",
       "      <td>0.509945</td>\n",
       "      <td>0.209823</td>\n",
       "      <td>0.117378</td>\n",
       "      <td>0.967863</td>\n",
       "      <td>0.012247</td>\n",
       "      <td>0.970156</td>\n",
       "      <td>20540.0</td>\n",
       "    </tr>\n",
       "  </tbody>\n",
       "</table>\n",
       "</div>"
      ],
      "text/plain": [
       "          accuracy  balanced accuracy        f1  precision  \\\n",
       "majmin                                                       \n",
       "majority  0.239960           0.541250  0.248456   0.142899   \n",
       "minority  0.142308           0.509945  0.209823   0.117378   \n",
       "\n",
       "          false positive rate  false negative rate  selection rate    count  \n",
       "majmin                                                                       \n",
       "majority             0.868266             0.049234        0.879167  69170.0  \n",
       "minority             0.967863             0.012247        0.970156  20540.0  "
      ]
     },
     "execution_count": 57,
     "metadata": {},
     "output_type": "execute_result"
    }
   ],
   "source": [
    "metric_frame.by_group"
   ]
  },
  {
   "cell_type": "code",
   "execution_count": 58,
   "id": "a9ddbe63",
   "metadata": {
    "execution": {
     "iopub.execute_input": "2025-07-23T14:35:19.047726Z",
     "iopub.status.busy": "2025-07-23T14:35:19.046828Z",
     "iopub.status.idle": "2025-07-23T14:35:21.655082Z",
     "shell.execute_reply": "2025-07-23T14:35:21.653827Z"
    },
    "papermill": {
     "duration": 2.637019,
     "end_time": "2025-07-23T14:35:21.656950",
     "exception": false,
     "start_time": "2025-07-23T14:35:19.019931",
     "status": "completed"
    },
    "tags": []
   },
   "outputs": [
    {
     "data": {
      "text/plain": [
       "array([[<Axes: title={'center': 'accuracy'}, xlabel='majmin'>,\n",
       "        <Axes: title={'center': 'balanced accuracy'}, xlabel='majmin'>,\n",
       "        <Axes: title={'center': 'f1'}, xlabel='majmin'>],\n",
       "       [<Axes: title={'center': 'precision'}, xlabel='majmin'>,\n",
       "        <Axes: title={'center': 'false positive rate'}, xlabel='majmin'>,\n",
       "        <Axes: title={'center': 'false negative rate'}, xlabel='majmin'>],\n",
       "       [<Axes: title={'center': 'selection rate'}, xlabel='majmin'>,\n",
       "        <Axes: title={'center': 'count'}, xlabel='majmin'>,\n",
       "        <Axes: xlabel='majmin'>]], dtype=object)"
      ]
     },
     "execution_count": 58,
     "metadata": {},
     "output_type": "execute_result"
    },
    {
     "data": {
      "image/png": "[encoded data removed]",
      "text/plain": [
       "<Figure size 1200x800 with 9 Axes>"
      ]
     },
     "metadata": {},
     "output_type": "display_data"
    }
   ],
   "source": [
    "# In a graphic\n",
    "metric_frame.by_group.plot.bar(\n",
    "    subplots=True,\n",
    "    layout=[3, 3],\n",
    "    legend=False,\n",
    "    figsize=[12, 8],\n",
    "    title=\"Show all metrics\",\n",
    ")"
   ]
  },
  {
   "cell_type": "markdown",
   "id": "f57a0bac",
   "metadata": {
    "papermill": {
     "duration": 0.02542,
     "end_time": "2025-07-23T14:35:21.708137",
     "exception": false,
     "start_time": "2025-07-23T14:35:21.682717",
     "status": "completed"
    },
    "tags": []
   },
   "source": [
    "# Final Output"
   ]
  },
  {
   "cell_type": "code",
   "execution_count": 59,
   "id": "96d280a3",
   "metadata": {
    "execution": {
     "iopub.execute_input": "2025-07-23T14:35:21.764816Z",
     "iopub.status.busy": "2025-07-23T14:35:21.764016Z",
     "iopub.status.idle": "2025-07-23T14:35:21.774095Z",
     "shell.execute_reply": "2025-07-23T14:35:21.773106Z"
    },
    "papermill": {
     "duration": 0.042034,
     "end_time": "2025-07-23T14:35:21.775697",
     "exception": false,
     "start_time": "2025-07-23T14:35:21.733663",
     "status": "completed"
    },
    "tags": []
   },
   "outputs": [
    {
     "data": {
      "text/plain": [
       "4"
      ]
     },
     "execution_count": 59,
     "metadata": {},
     "output_type": "execute_result"
    }
   ],
   "source": [
    "sub_universes = universe_analysis.generate_sub_universes()\n",
    "len(sub_universes)"
   ]
  },
  {
   "cell_type": "code",
   "execution_count": 60,
   "id": "92adf7ba",
   "metadata": {
    "execution": {
     "iopub.execute_input": "2025-07-23T14:35:21.830268Z",
     "iopub.status.busy": "2025-07-23T14:35:21.829304Z",
     "iopub.status.idle": "2025-07-23T14:35:21.836781Z",
     "shell.execute_reply": "2025-07-23T14:35:21.835661Z"
    },
    "papermill": {
     "duration": 0.036904,
     "end_time": "2025-07-23T14:35:21.838636",
     "exception": false,
     "start_time": "2025-07-23T14:35:21.801732",
     "status": "completed"
    },
    "tags": []
   },
   "outputs": [],
   "source": [
    "def filter_sub_universe_data(sub_universe, org_test):\n",
    "    # Keep all rows — no filtering\n",
    "    keep_rows_mask = np.ones(org_test.shape[0], dtype=bool)\n",
    "\n",
    "    print(f\"[INFO] Keeping all rows: {keep_rows_mask.sum()} rows retained.\")\n",
    "    return keep_rows_mask"
   ]
  },
  {
   "cell_type": "code",
   "execution_count": 61,
   "id": "4a759155",
   "metadata": {
    "execution": {
     "iopub.execute_input": "2025-07-23T14:35:21.893137Z",
     "iopub.status.busy": "2025-07-23T14:35:21.892216Z",
     "iopub.status.idle": "2025-07-23T14:35:34.204042Z",
     "shell.execute_reply": "2025-07-23T14:35:34.202705Z"
    },
    "papermill": {
     "duration": 12.342277,
     "end_time": "2025-07-23T14:35:34.206217",
     "exception": false,
     "start_time": "2025-07-23T14:35:21.863940",
     "status": "completed"
    },
    "tags": []
   },
   "outputs": [
    {
     "name": "stdout",
     "output_type": "stream",
     "text": [
      "Stopping execution_time clock.\n",
      "[INFO] Keeping all rows: 89710 rows retained.\n"
     ]
    },
    {
     "name": "stdout",
     "output_type": "stream",
     "text": [
      "[INFO] Keeping all rows: 89710 rows retained.\n"
     ]
    },
    {
     "name": "stdout",
     "output_type": "stream",
     "text": [
      "[INFO] Keeping all rows: 89710 rows retained.\n"
     ]
    },
    {
     "name": "stdout",
     "output_type": "stream",
     "text": [
      "[INFO] Keeping all rows: 89710 rows retained.\n"
     ]
    },
    {
     "data": {
      "text/html": [
       "<div>\n",
       "<style scoped>\n",
       "    .dataframe tbody tr th:only-of-type {\n",
       "        vertical-align: middle;\n",
       "    }\n",
       "\n",
       "    .dataframe tbody tr th {\n",
       "        vertical-align: top;\n",
       "    }\n",
       "\n",
       "    .dataframe thead th {\n",
       "        text-align: right;\n",
       "    }\n",
       "</style>\n",
       "<table border=\"1\" class=\"dataframe\">\n",
       "  <thead>\n",
       "    <tr style=\"text-align: right;\">\n",
       "      <th></th>\n",
       "      <th>run_no</th>\n",
       "      <th>universe_id</th>\n",
       "      <th>universe_settings</th>\n",
       "      <th>execution_time</th>\n",
       "      <th>test_size_n</th>\n",
       "      <th>test_size_frac</th>\n",
       "      <th>fair_main_equalized_odds_difference</th>\n",
       "      <th>fair_main_equalized_odds_ratio</th>\n",
       "      <th>fair_main_demographic_parity_difference</th>\n",
       "      <th>fair_main_demographic_parity_ratio</th>\n",
       "      <th>...</th>\n",
       "      <th>perf_grp_precision_0</th>\n",
       "      <th>perf_grp_precision_1</th>\n",
       "      <th>perf_grp_false positive rate_0</th>\n",
       "      <th>perf_grp_false positive rate_1</th>\n",
       "      <th>perf_grp_false negative rate_0</th>\n",
       "      <th>perf_grp_false negative rate_1</th>\n",
       "      <th>perf_grp_selection rate_0</th>\n",
       "      <th>perf_grp_selection rate_1</th>\n",
       "      <th>perf_grp_count_0</th>\n",
       "      <th>perf_grp_count_1</th>\n",
       "    </tr>\n",
       "  </thead>\n",
       "  <tbody>\n",
       "    <tr>\n",
       "      <th>0</th>\n",
       "      <td>9</td>\n",
       "      <td>8631657b183932ecdcc601e19df5cb9f</td>\n",
       "      <td>{\"cutoff\": \"quantile_0.1\", \"eval_fairness_grou...</td>\n",
       "      <td>19.810987</td>\n",
       "      <td>89710</td>\n",
       "      <td>1.0</td>\n",
       "      <td>0.099597</td>\n",
       "      <td>0.897096</td>\n",
       "      <td>0.090989</td>\n",
       "      <td>0.906212</td>\n",
       "      <td>...</td>\n",
       "      <td>NaN</td>\n",
       "      <td>NaN</td>\n",
       "      <td>NaN</td>\n",
       "      <td>NaN</td>\n",
       "      <td>NaN</td>\n",
       "      <td>NaN</td>\n",
       "      <td>NaN</td>\n",
       "      <td>NaN</td>\n",
       "      <td>NaN</td>\n",
       "      <td>NaN</td>\n",
       "    </tr>\n",
       "    <tr>\n",
       "      <th>0</th>\n",
       "      <td>9</td>\n",
       "      <td>8631657b183932ecdcc601e19df5cb9f</td>\n",
       "      <td>{\"cutoff\": \"quantile_0.1\", \"eval_fairness_grou...</td>\n",
       "      <td>19.810987</td>\n",
       "      <td>89710</td>\n",
       "      <td>1.0</td>\n",
       "      <td>0.099597</td>\n",
       "      <td>0.897096</td>\n",
       "      <td>0.090989</td>\n",
       "      <td>0.906212</td>\n",
       "      <td>...</td>\n",
       "      <td>0.117378</td>\n",
       "      <td>0.142899</td>\n",
       "      <td>0.967863</td>\n",
       "      <td>0.868266</td>\n",
       "      <td>0.012247</td>\n",
       "      <td>0.049234</td>\n",
       "      <td>0.970156</td>\n",
       "      <td>0.879167</td>\n",
       "      <td>20540.0</td>\n",
       "      <td>69170.0</td>\n",
       "    </tr>\n",
       "    <tr>\n",
       "      <th>0</th>\n",
       "      <td>9</td>\n",
       "      <td>8631657b183932ecdcc601e19df5cb9f</td>\n",
       "      <td>{\"cutoff\": \"quantile_0.25\", \"eval_fairness_gro...</td>\n",
       "      <td>19.810987</td>\n",
       "      <td>89710</td>\n",
       "      <td>1.0</td>\n",
       "      <td>0.218096</td>\n",
       "      <td>0.757020</td>\n",
       "      <td>0.200043</td>\n",
       "      <td>0.778771</td>\n",
       "      <td>...</td>\n",
       "      <td>NaN</td>\n",
       "      <td>NaN</td>\n",
       "      <td>NaN</td>\n",
       "      <td>NaN</td>\n",
       "      <td>NaN</td>\n",
       "      <td>NaN</td>\n",
       "      <td>NaN</td>\n",
       "      <td>NaN</td>\n",
       "      <td>NaN</td>\n",
       "      <td>NaN</td>\n",
       "    </tr>\n",
       "    <tr>\n",
       "      <th>0</th>\n",
       "      <td>9</td>\n",
       "      <td>8631657b183932ecdcc601e19df5cb9f</td>\n",
       "      <td>{\"cutoff\": \"quantile_0.25\", \"eval_fairness_gro...</td>\n",
       "      <td>19.810987</td>\n",
       "      <td>89710</td>\n",
       "      <td>1.0</td>\n",
       "      <td>0.218096</td>\n",
       "      <td>0.757020</td>\n",
       "      <td>0.200043</td>\n",
       "      <td>0.778771</td>\n",
       "      <td>...</td>\n",
       "      <td>0.121790</td>\n",
       "      <td>0.162578</td>\n",
       "      <td>0.897590</td>\n",
       "      <td>0.679494</td>\n",
       "      <td>0.044764</td>\n",
       "      <td>0.133589</td>\n",
       "      <td>0.904236</td>\n",
       "      <td>0.704193</td>\n",
       "      <td>20540.0</td>\n",
       "      <td>69170.0</td>\n",
       "    </tr>\n",
       "  </tbody>\n",
       "</table>\n",
       "<p>4 rows × 50 columns</p>\n",
       "</div>"
      ],
      "text/plain": [
       "  run_no                       universe_id  \\\n",
       "0      9  8631657b183932ecdcc601e19df5cb9f   \n",
       "0      9  8631657b183932ecdcc601e19df5cb9f   \n",
       "0      9  8631657b183932ecdcc601e19df5cb9f   \n",
       "0      9  8631657b183932ecdcc601e19df5cb9f   \n",
       "\n",
       "                                   universe_settings  execution_time  \\\n",
       "0  {\"cutoff\": \"quantile_0.1\", \"eval_fairness_grou...       19.810987   \n",
       "0  {\"cutoff\": \"quantile_0.1\", \"eval_fairness_grou...       19.810987   \n",
       "0  {\"cutoff\": \"quantile_0.25\", \"eval_fairness_gro...       19.810987   \n",
       "0  {\"cutoff\": \"quantile_0.25\", \"eval_fairness_gro...       19.810987   \n",
       "\n",
       "   test_size_n  test_size_frac  fair_main_equalized_odds_difference  \\\n",
       "0        89710             1.0                             0.099597   \n",
       "0        89710             1.0                             0.099597   \n",
       "0        89710             1.0                             0.218096   \n",
       "0        89710             1.0                             0.218096   \n",
       "\n",
       "   fair_main_equalized_odds_ratio  fair_main_demographic_parity_difference  \\\n",
       "0                        0.897096                                 0.090989   \n",
       "0                        0.897096                                 0.090989   \n",
       "0                        0.757020                                 0.200043   \n",
       "0                        0.757020                                 0.200043   \n",
       "\n",
       "   fair_main_demographic_parity_ratio  ...  perf_grp_precision_0  \\\n",
       "0                            0.906212  ...                   NaN   \n",
       "0                            0.906212  ...              0.117378   \n",
       "0                            0.778771  ...                   NaN   \n",
       "0                            0.778771  ...              0.121790   \n",
       "\n",
       "   perf_grp_precision_1  perf_grp_false positive rate_0  \\\n",
       "0                   NaN                             NaN   \n",
       "0              0.142899                        0.967863   \n",
       "0                   NaN                             NaN   \n",
       "0              0.162578                        0.897590   \n",
       "\n",
       "   perf_grp_false positive rate_1  perf_grp_false negative rate_0  \\\n",
       "0                             NaN                             NaN   \n",
       "0                        0.868266                        0.012247   \n",
       "0                             NaN                             NaN   \n",
       "0                        0.679494                        0.044764   \n",
       "\n",
       "   perf_grp_false negative rate_1  perf_grp_selection rate_0  \\\n",
       "0                             NaN                        NaN   \n",
       "0                        0.049234                   0.970156   \n",
       "0                             NaN                        NaN   \n",
       "0                        0.133589                   0.904236   \n",
       "\n",
       "   perf_grp_selection rate_1  perf_grp_count_0  perf_grp_count_1  \n",
       "0                        NaN               NaN               NaN  \n",
       "0                   0.879167           20540.0           69170.0  \n",
       "0                        NaN               NaN               NaN  \n",
       "0                   0.704193           20540.0           69170.0  \n",
       "\n",
       "[4 rows x 50 columns]"
      ]
     },
     "execution_count": 61,
     "metadata": {},
     "output_type": "execute_result"
    }
   ],
   "source": [
    "final_output = universe_analysis.generate_final_output(\n",
    "    y_pred_prob=probs_test,\n",
    "    y_test=y_true,\n",
    "    org_test=org_test,\n",
    "    filter_data=filter_sub_universe_data,\n",
    "    cp_metrics_df=cp_metrics_df,\n",
    "    save=True,\n",
    ")\n",
    "final_output"
   ]
  },
  {
   "cell_type": "code",
   "execution_count": null,
   "id": "721ff514-cb11-46f8-b6fc-50392f74b5cb",
   "metadata": {
    "papermill": {
     "duration": 0.026676,
     "end_time": "2025-07-23T14:35:34.261949",
     "exception": false,
     "start_time": "2025-07-23T14:35:34.235273",
     "status": "completed"
    },
    "tags": []
   },
   "outputs": [],
   "source": []
  }
 ],
 "metadata": {
  "celltoolbar": "Tags",
  "kernelspec": {
   "display_name": "Python (CMA Fairness)",
   "language": "python",
   "name": "cma_fair_env"
  },
  "language_info": {
   "codemirror_mode": {
    "name": "ipython",
    "version": 3
   },
   "file_extension": ".py",
   "mimetype": "text/x-python",
   "name": "python",
   "nbconvert_exporter": "python",
   "pygments_lexer": "ipython3",
   "version": "3.10.12"
  },
  "papermill": {
   "default_parameters": {},
   "duration": 36.514172,
   "end_time": "2025-07-23T14:35:35.108657",
   "environment_variables": {},
   "exception": null,
   "input_path": "universe_analysis.ipynb",
   "output_path": "output/runs/9/notebooks/m_9-8631657b183932ecdcc601e19df5cb9f.ipynb",
   "parameters": {
    "output_dir": "output",
    "run_no": "9",
    "seed": "2023",
    "universe": "{\"cutoff\": [\"quantile_0.1\", \"quantile_0.25\"], \"eval_fairness_grouping\": [\"majority-minority\", \"nationality-all\"], \"exclude_features\": \"none\", \"exclude_subgroups\": \"keep-all\", \"model\": \"penalized_logreg\", \"scale\": \"do-not-scale\"}",
    "universe_id": "8631657b183932ecdcc601e19df5cb9f"
   },
   "start_time": "2025-07-23T14:34:58.594485",
   "version": "2.6.0"
  }
 },
 "nbformat": 4,
 "nbformat_minor": 5
}