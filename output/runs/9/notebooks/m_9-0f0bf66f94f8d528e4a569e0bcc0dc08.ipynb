{
 "cells": [
  {
   "cell_type": "code",
   "execution_count": 1,
   "id": "f159f837-637b-42ba-96b5-ec9a68c44524",
   "metadata": {
    "execution": {
     "iopub.execute_input": "2025-07-23T14:29:34.910653Z",
     "iopub.status.busy": "2025-07-23T14:29:34.910221Z",
     "iopub.status.idle": "2025-07-23T14:29:34.933144Z",
     "shell.execute_reply": "2025-07-23T14:29:34.932042Z"
    },
    "papermill": {
     "duration": 0.066347,
     "end_time": "2025-07-23T14:29:34.935250",
     "exception": false,
     "start_time": "2025-07-23T14:29:34.868903",
     "status": "completed"
    },
    "tags": []
   },
   "outputs": [
    {
     "name": "stdout",
     "output_type": "stream",
     "text": [
      "/dss/dsshome1/0C/ra93lal2/cma/CMA_Fairness_v2\n"
     ]
    },
    {
     "name": "stderr",
     "output_type": "stream",
     "text": [
      "/dss/dsshome1/0C/ra93lal2/.local/share/virtualenvs/CMA_Fairness_v2-3j10GkSs/lib/python3.10/site-packages/IPython/core/magics/osm.py:393: UserWarning: This is now an optional IPython functionality, using bookmarks requires you to install the `pickleshare` library.\n",
      "  bkms = self.shell.db.get('bookmarks', {})\n",
      "/dss/dsshome1/0C/ra93lal2/.local/share/virtualenvs/CMA_Fairness_v2-3j10GkSs/lib/python3.10/site-packages/IPython/core/magics/osm.py:417: UserWarning: This is now an optional IPython functionality, setting dhist requires you to install the `pickleshare` library.\n",
      "  self.shell.db['dhist'] = compress_dhist(dhist)[-100:]\n"
     ]
    }
   ],
   "source": [
    "%cd ~/cma/CMA_Fairness_v2"
   ]
  },
  {
   "cell_type": "markdown",
   "id": "de2603b9",
   "metadata": {
    "papermill": {
     "duration": 0.035135,
     "end_time": "2025-07-23T14:29:35.002995",
     "exception": false,
     "start_time": "2025-07-23T14:29:34.967860",
     "status": "completed"
    },
    "tags": []
   },
   "source": [
    "The following cell holds the definition of our parameters, these values can be overriden by rendering the with e.g. the following command:\n",
    "\n",
    "papermill -p alpha 0.2 -p ratio 0.3 universe_analysis.ipynb output/test_run.ipynb"
   ]
  },
  {
   "cell_type": "code",
   "execution_count": 2,
   "id": "a80968a0-40bb-4fa9-85ef-2d5eefb01975",
   "metadata": {
    "execution": {
     "iopub.execute_input": "2025-07-23T14:29:35.080543Z",
     "iopub.status.busy": "2025-07-23T14:29:35.080130Z",
     "iopub.status.idle": "2025-07-23T14:29:35.086406Z",
     "shell.execute_reply": "2025-07-23T14:29:35.085367Z"
    },
    "papermill": {
     "duration": 0.050258,
     "end_time": "2025-07-23T14:29:35.088470",
     "exception": false,
     "start_time": "2025-07-23T14:29:35.038212",
     "status": "completed"
    },
    "tags": []
   },
   "outputs": [
    {
     "name": "stdout",
     "output_type": "stream",
     "text": [
      "Current working directory: /dss/dsshome1/0C/ra93lal2/cma/CMA_Fairness_v2\n"
     ]
    }
   ],
   "source": [
    "import os\n",
    "print(\"Current working directory:\", os.getcwd())"
   ]
  },
  {
   "cell_type": "code",
   "execution_count": 3,
   "id": "2dce4c03",
   "metadata": {
    "execution": {
     "iopub.execute_input": "2025-07-23T14:29:35.167046Z",
     "iopub.status.busy": "2025-07-23T14:29:35.166582Z",
     "iopub.status.idle": "2025-07-23T14:29:35.173740Z",
     "shell.execute_reply": "2025-07-23T14:29:35.172799Z"
    },
    "papermill": {
     "duration": 0.051314,
     "end_time": "2025-07-23T14:29:35.175526",
     "exception": false,
     "start_time": "2025-07-23T14:29:35.124212",
     "status": "completed"
    },
    "tags": [
     "parameters"
    ]
   },
   "outputs": [],
   "source": [
    "run_no = 0\n",
    "universe_id = \"test\"\n",
    "universe = {\n",
    "    \"scale\": \"scale\", # \"scale\", \"do-not-scale\",\n",
    "    \"model\": \"elasticnet\", # \"logreg\", \"penalized_logreg\", \"rf\", \"gbm\", \"elasticnet\"\n",
    "    \"cutoff\": [\"quantile_0.15\", \"quantile_0.30\"],\n",
    "    \"exclude_features\": \"age\", # \"none\", \"nationality\", \"sex\", \"nationality-sex\", \"age\"\n",
    "    \"exclude_subgroups\": \"keep-all\", # \"keep-all\", \"drop-non-german\"\n",
    "    #\"training_sample\": \"restricted\", # \"restricted\", \"full\"\n",
    "    \"eval_fairness_grouping\": [\"majority-minority\", \"nationality-all\"]\n",
    "}\n",
    "\n",
    "output_dir=\"./output\"\n",
    "seed=0"
   ]
  },
  {
   "cell_type": "code",
   "execution_count": 4,
   "id": "d7eb3e09",
   "metadata": {
    "execution": {
     "iopub.execute_input": "2025-07-23T14:29:35.247112Z",
     "iopub.status.busy": "2025-07-23T14:29:35.246687Z",
     "iopub.status.idle": "2025-07-23T14:29:35.257249Z",
     "shell.execute_reply": "2025-07-23T14:29:35.255612Z"
    },
    "papermill": {
     "duration": 0.044586,
     "end_time": "2025-07-23T14:29:35.259217",
     "exception": false,
     "start_time": "2025-07-23T14:29:35.214631",
     "status": "completed"
    },
    "tags": [
     "injected-parameters"
    ]
   },
   "outputs": [],
   "source": [
    "# Parameters\n",
    "universe_id = \"0f0bf66f94f8d528e4a569e0bcc0dc08\"\n",
    "run_no = \"9\"\n",
    "universe = \"{\\\"cutoff\\\": [\\\"quantile_0.1\\\", \\\"quantile_0.25\\\"], \\\"eval_fairness_grouping\\\": [\\\"majority-minority\\\", \\\"nationality-all\\\"], \\\"exclude_features\\\": \\\"nationality\\\", \\\"exclude_subgroups\\\": \\\"keep-all\\\", \\\"model\\\": \\\"gbm\\\", \\\"scale\\\": \\\"scale\\\"}\"\n",
    "output_dir = \"output\"\n",
    "seed = \"2023\"\n"
   ]
  },
  {
   "cell_type": "code",
   "execution_count": 5,
   "id": "1650acaf",
   "metadata": {
    "execution": {
     "iopub.execute_input": "2025-07-23T14:29:35.330814Z",
     "iopub.status.busy": "2025-07-23T14:29:35.330336Z",
     "iopub.status.idle": "2025-07-23T14:29:35.339726Z",
     "shell.execute_reply": "2025-07-23T14:29:35.337442Z"
    },
    "papermill": {
     "duration": 0.044896,
     "end_time": "2025-07-23T14:29:35.341462",
     "exception": false,
     "start_time": "2025-07-23T14:29:35.296566",
     "status": "completed"
    },
    "tags": []
   },
   "outputs": [],
   "source": [
    "import json\n",
    "# Parse universe into dict if it is passed as a string\n",
    "if isinstance(universe, str):\n",
    "    universe = json.loads(universe)"
   ]
  },
  {
   "cell_type": "code",
   "execution_count": 6,
   "id": "16620c48",
   "metadata": {
    "execution": {
     "iopub.execute_input": "2025-07-23T14:29:35.421417Z",
     "iopub.status.busy": "2025-07-23T14:29:35.420954Z",
     "iopub.status.idle": "2025-07-23T14:29:35.559828Z",
     "shell.execute_reply": "2025-07-23T14:29:35.558772Z"
    },
    "papermill": {
     "duration": 0.18337,
     "end_time": "2025-07-23T14:29:35.562087",
     "exception": false,
     "start_time": "2025-07-23T14:29:35.378717",
     "status": "completed"
    },
    "tags": []
   },
   "outputs": [],
   "source": [
    "# Auto-reload the custom package\n",
    "%load_ext autoreload\n",
    "%autoreload 1\n",
    "%aimport fairness_multiverse"
   ]
  },
  {
   "cell_type": "code",
   "execution_count": 7,
   "id": "01c5c9f3",
   "metadata": {
    "execution": {
     "iopub.execute_input": "2025-07-23T14:29:35.602004Z",
     "iopub.status.busy": "2025-07-23T14:29:35.601606Z",
     "iopub.status.idle": "2025-07-23T14:29:39.571311Z",
     "shell.execute_reply": "2025-07-23T14:29:39.570048Z"
    },
    "papermill": {
     "duration": 3.991917,
     "end_time": "2025-07-23T14:29:39.573394",
     "exception": false,
     "start_time": "2025-07-23T14:29:35.581477",
     "status": "completed"
    },
    "tags": []
   },
   "outputs": [],
   "source": [
    "from fairness_multiverse.universe import UniverseAnalysis\n",
    "\n",
    "universe_analysis = UniverseAnalysis(\n",
    "    run_no = run_no,\n",
    "    universe_id = universe_id,\n",
    "    universe = universe,\n",
    "    output_dir=output_dir,\n",
    ")"
   ]
  },
  {
   "cell_type": "code",
   "execution_count": 8,
   "id": "106241f5",
   "metadata": {
    "execution": {
     "iopub.execute_input": "2025-07-23T14:29:39.686673Z",
     "iopub.status.busy": "2025-07-23T14:29:39.685552Z",
     "iopub.status.idle": "2025-07-23T14:29:39.694145Z",
     "shell.execute_reply": "2025-07-23T14:29:39.692969Z"
    },
    "papermill": {
     "duration": 0.06695,
     "end_time": "2025-07-23T14:29:39.695794",
     "exception": false,
     "start_time": "2025-07-23T14:29:39.628844",
     "status": "completed"
    },
    "tags": []
   },
   "outputs": [
    {
     "name": "stdout",
     "output_type": "stream",
     "text": [
      "Using Seed: 2023\n"
     ]
    }
   ],
   "source": [
    "import numpy as np\n",
    "parsed_seed = int(seed)\n",
    "np.random.seed(parsed_seed)\n",
    "print(f\"Using Seed: {parsed_seed}\")"
   ]
  },
  {
   "cell_type": "markdown",
   "id": "e0ebdc57",
   "metadata": {
    "papermill": {
     "duration": 0.033359,
     "end_time": "2025-07-23T14:29:39.763663",
     "exception": false,
     "start_time": "2025-07-23T14:29:39.730304",
     "status": "completed"
    },
    "tags": []
   },
   "source": [
    "# Loading Data"
   ]
  },
  {
   "cell_type": "markdown",
   "id": "681925a3",
   "metadata": {
    "papermill": {
     "duration": 0.046498,
     "end_time": "2025-07-23T14:29:39.845032",
     "exception": false,
     "start_time": "2025-07-23T14:29:39.798534",
     "status": "completed"
    },
    "tags": []
   },
   "source": [
    "Load siab_train, siab_test, siab_calib and/or \n",
    "load siab_train_features, siab_train_labels"
   ]
  },
  {
   "cell_type": "code",
   "execution_count": 9,
   "id": "f0496b8a",
   "metadata": {
    "execution": {
     "iopub.execute_input": "2025-07-23T14:29:39.910901Z",
     "iopub.status.busy": "2025-07-23T14:29:39.910462Z",
     "iopub.status.idle": "2025-07-23T14:29:39.917305Z",
     "shell.execute_reply": "2025-07-23T14:29:39.916179Z"
    },
    "papermill": {
     "duration": 0.040984,
     "end_time": "2025-07-23T14:29:39.919092",
     "exception": false,
     "start_time": "2025-07-23T14:29:39.878108",
     "status": "completed"
    },
    "tags": []
   },
   "outputs": [],
   "source": [
    "# Do I need to load siab? Delete this cell?\n",
    "\n",
    "#from pathlib import Path\n",
    "#import pandas as pd\n",
    "#\n",
    "## File paths\n",
    "#raw_file = Path(\"data/raw/siab.csv\")\n",
    "#cache_file = Path(\"data/siab_cached.csv.gz\")\n",
    "#\n",
    "## Ensure cache directory exists\n",
    "#cache_file.parent.mkdir(parents=True, exist_ok=True)\n",
    "#\n",
    "## Load with simple caching\n",
    "#if cache_file.exists():\n",
    "#    print(f\"Loading SIAB data from cache: {cache_file}\")\n",
    "#    siab = pd.read_csv(cache_file, compression='gzip')\n",
    "#else:\n",
    "#    print(f\"Cache not found. Reading raw SIAB data: {raw_file}\")\n",
    "#    siab = pd.read_csv(raw_file)\n",
    "#    siab.to_csv(cache_file, index=False, compression='gzip')\n",
    "#    print(f\"Cached SIAB data to: {cache_file}\")\n",
    "#\n",
    "## Now use `siab` DataFrame as needed\n",
    "#print(siab.shape)\n"
   ]
  },
  {
   "cell_type": "code",
   "execution_count": 10,
   "id": "a0edb063",
   "metadata": {
    "execution": {
     "iopub.execute_input": "2025-07-23T14:29:39.997529Z",
     "iopub.status.busy": "2025-07-23T14:29:39.997118Z",
     "iopub.status.idle": "2025-07-23T14:29:42.290128Z",
     "shell.execute_reply": "2025-07-23T14:29:42.288951Z"
    },
    "papermill": {
     "duration": 2.330708,
     "end_time": "2025-07-23T14:29:42.291925",
     "exception": false,
     "start_time": "2025-07-23T14:29:39.961217",
     "status": "completed"
    },
    "tags": []
   },
   "outputs": [],
   "source": [
    "import pandas as pd\n",
    "\n",
    "X_train = pd.read_csv(\"./data/X_train.csv\")\n",
    "y_train = pd.read_csv(\"./data/y_train.csv\")"
   ]
  },
  {
   "cell_type": "code",
   "execution_count": 11,
   "id": "63d08085",
   "metadata": {
    "execution": {
     "iopub.execute_input": "2025-07-23T14:29:42.336608Z",
     "iopub.status.busy": "2025-07-23T14:29:42.335876Z",
     "iopub.status.idle": "2025-07-23T14:29:44.151981Z",
     "shell.execute_reply": "2025-07-23T14:29:44.150812Z"
    },
    "papermill": {
     "duration": 1.840359,
     "end_time": "2025-07-23T14:29:44.154354",
     "exception": false,
     "start_time": "2025-07-23T14:29:42.313995",
     "status": "completed"
    },
    "tags": []
   },
   "outputs": [],
   "source": [
    "X_test = pd.read_csv(\"./data/X_test.csv\")\n",
    "y_true = pd.read_csv(\"./data/y_test.csv\")"
   ]
  },
  {
   "cell_type": "code",
   "execution_count": 12,
   "id": "98a8d0fa-1d3d-4ed8-bb2c-281470e24add",
   "metadata": {
    "execution": {
     "iopub.execute_input": "2025-07-23T14:29:44.192072Z",
     "iopub.status.busy": "2025-07-23T14:29:44.191532Z",
     "iopub.status.idle": "2025-07-23T14:29:47.444256Z",
     "shell.execute_reply": "2025-07-23T14:29:47.443207Z"
    },
    "papermill": {
     "duration": 3.27399,
     "end_time": "2025-07-23T14:29:47.446507",
     "exception": false,
     "start_time": "2025-07-23T14:29:44.172517",
     "status": "completed"
    },
    "tags": []
   },
   "outputs": [],
   "source": [
    "# Calibration data for conformal\n",
    "X_calib = pd.read_csv(\"./data/X_calib.csv\")\n",
    "y_calib = pd.read_csv(\"./data/y_calib.csv\")"
   ]
  },
  {
   "cell_type": "code",
   "execution_count": 13,
   "id": "e6c733c5",
   "metadata": {
    "execution": {
     "iopub.execute_input": "2025-07-23T14:29:47.486981Z",
     "iopub.status.busy": "2025-07-23T14:29:47.486559Z",
     "iopub.status.idle": "2025-07-23T14:29:47.600680Z",
     "shell.execute_reply": "2025-07-23T14:29:47.599380Z"
    },
    "papermill": {
     "duration": 0.135905,
     "end_time": "2025-07-23T14:29:47.603171",
     "exception": false,
     "start_time": "2025-07-23T14:29:47.467266",
     "status": "completed"
    },
    "tags": []
   },
   "outputs": [],
   "source": [
    "# Auxiliary data needed downstream in the pipeline\n",
    "\n",
    "org_train = X_train.copy()\n",
    "org_test = X_test.copy()\n",
    "org_calib = X_calib.copy()"
   ]
  },
  {
   "cell_type": "markdown",
   "id": "0a4a1b33",
   "metadata": {
    "papermill": {
     "duration": 0.017854,
     "end_time": "2025-07-23T14:29:47.639590",
     "exception": false,
     "start_time": "2025-07-23T14:29:47.621736",
     "status": "completed"
    },
    "tags": []
   },
   "source": [
    "# Preprocessing Data"
   ]
  },
  {
   "cell_type": "code",
   "execution_count": 14,
   "id": "ca879031",
   "metadata": {
    "execution": {
     "iopub.execute_input": "2025-07-23T14:29:47.677695Z",
     "iopub.status.busy": "2025-07-23T14:29:47.677256Z",
     "iopub.status.idle": "2025-07-23T14:29:47.684390Z",
     "shell.execute_reply": "2025-07-23T14:29:47.683057Z"
    },
    "papermill": {
     "duration": 0.030393,
     "end_time": "2025-07-23T14:29:47.687943",
     "exception": false,
     "start_time": "2025-07-23T14:29:47.657550",
     "status": "completed"
    },
    "tags": []
   },
   "outputs": [],
   "source": [
    "# EXCLUDE PROTECTED FEATURES\n",
    "# ----------------------\n",
    "# \"exclude_features\": \"none\", # \"nationality\", \"sex\", \"nationality-sex\"\n",
    "\n",
    "excluded_features = universe[\"exclude_features\"].split(\"-\") # split, e.g.: \"nationality-sex\" -> [\"nationality\", \"sex\"]\n",
    "excluded_features_dictionary = {\n",
    "    \"nationality\": [\"maxdeutsch1\", \"maxdeutsch.Missing.\"],\n",
    "    \"sex\": [\"frau1\"],\n",
    "    \"age\": [\"age\"],\n",
    "}\n"
   ]
  },
  {
   "cell_type": "code",
   "execution_count": 15,
   "id": "b745ac60",
   "metadata": {
    "execution": {
     "iopub.execute_input": "2025-07-23T14:29:47.731079Z",
     "iopub.status.busy": "2025-07-23T14:29:47.730602Z",
     "iopub.status.idle": "2025-07-23T14:29:47.738069Z",
     "shell.execute_reply": "2025-07-23T14:29:47.736552Z"
    },
    "papermill": {
     "duration": 0.033783,
     "end_time": "2025-07-23T14:29:47.742331",
     "exception": false,
     "start_time": "2025-07-23T14:29:47.708548",
     "status": "completed"
    },
    "tags": []
   },
   "outputs": [],
   "source": [
    "# Code nice names to column names\n",
    "\n",
    "excluded_features_columns = [\n",
    "    excluded_features_dictionary[f] for f in excluded_features if len(f) > 0 and f != \"none\"\n",
    "]"
   ]
  },
  {
   "cell_type": "code",
   "execution_count": 16,
   "id": "f84f73a2",
   "metadata": {
    "execution": {
     "iopub.execute_input": "2025-07-23T14:29:47.792287Z",
     "iopub.status.busy": "2025-07-23T14:29:47.791716Z",
     "iopub.status.idle": "2025-07-23T14:29:47.801554Z",
     "shell.execute_reply": "2025-07-23T14:29:47.799917Z"
    },
    "papermill": {
     "duration": 0.042557,
     "end_time": "2025-07-23T14:29:47.806882",
     "exception": false,
     "start_time": "2025-07-23T14:29:47.764325",
     "status": "completed"
    },
    "tags": []
   },
   "outputs": [],
   "source": [
    "from utils import flatten_once\n",
    "\n",
    "excluded_features_columns = flatten_once(excluded_features_columns)"
   ]
  },
  {
   "cell_type": "code",
   "execution_count": 17,
   "id": "884dea22",
   "metadata": {
    "execution": {
     "iopub.execute_input": "2025-07-23T14:29:47.872225Z",
     "iopub.status.busy": "2025-07-23T14:29:47.871804Z",
     "iopub.status.idle": "2025-07-23T14:29:47.925735Z",
     "shell.execute_reply": "2025-07-23T14:29:47.924620Z"
    },
    "papermill": {
     "duration": 0.094389,
     "end_time": "2025-07-23T14:29:47.927799",
     "exception": false,
     "start_time": "2025-07-23T14:29:47.833410",
     "status": "completed"
    },
    "tags": []
   },
   "outputs": [
    {
     "name": "stdout",
     "output_type": "stream",
     "text": [
      "Dropping features: ['maxdeutsch1', 'maxdeutsch.Missing.']\n"
     ]
    }
   ],
   "source": [
    "if len(excluded_features_columns) > 0:\n",
    "    print(f\"Dropping features: {excluded_features_columns}\")\n",
    "    X_train.drop(excluded_features_columns, axis=1, inplace=True)"
   ]
  },
  {
   "cell_type": "code",
   "execution_count": 18,
   "id": "95ab8b16",
   "metadata": {
    "execution": {
     "iopub.execute_input": "2025-07-23T14:29:48.022414Z",
     "iopub.status.busy": "2025-07-23T14:29:48.021994Z",
     "iopub.status.idle": "2025-07-23T14:29:48.159540Z",
     "shell.execute_reply": "2025-07-23T14:29:48.158343Z"
    },
    "papermill": {
     "duration": 0.185689,
     "end_time": "2025-07-23T14:29:48.162479",
     "exception": false,
     "start_time": "2025-07-23T14:29:47.976790",
     "status": "completed"
    },
    "tags": []
   },
   "outputs": [
    {
     "name": "stdout",
     "output_type": "stream",
     "text": [
      "Dropping features: ['maxdeutsch1', 'maxdeutsch.Missing.']\n"
     ]
    }
   ],
   "source": [
    "if len(excluded_features_columns) > 0:\n",
    "    print(f\"Dropping features: {excluded_features_columns}\")\n",
    "    X_test.drop(excluded_features_columns, axis=1, inplace=True)"
   ]
  },
  {
   "cell_type": "code",
   "execution_count": 19,
   "id": "1853aaf5-fb9f-46cb-a2b5-8ea4ae2237e4",
   "metadata": {
    "execution": {
     "iopub.execute_input": "2025-07-23T14:29:48.244308Z",
     "iopub.status.busy": "2025-07-23T14:29:48.243840Z",
     "iopub.status.idle": "2025-07-23T14:29:48.375559Z",
     "shell.execute_reply": "2025-07-23T14:29:48.374477Z"
    },
    "papermill": {
     "duration": 0.165156,
     "end_time": "2025-07-23T14:29:48.377862",
     "exception": false,
     "start_time": "2025-07-23T14:29:48.212706",
     "status": "completed"
    },
    "tags": []
   },
   "outputs": [
    {
     "name": "stdout",
     "output_type": "stream",
     "text": [
      "Dropping features: ['maxdeutsch1', 'maxdeutsch.Missing.']\n"
     ]
    }
   ],
   "source": [
    "if len(excluded_features_columns) > 0:\n",
    "    print(f\"Dropping features: {excluded_features_columns}\")\n",
    "    X_calib.drop(excluded_features_columns, axis=1, inplace=True)"
   ]
  },
  {
   "cell_type": "code",
   "execution_count": 20,
   "id": "76c4dc6d",
   "metadata": {
    "execution": {
     "iopub.execute_input": "2025-07-23T14:29:48.424184Z",
     "iopub.status.busy": "2025-07-23T14:29:48.423741Z",
     "iopub.status.idle": "2025-07-23T14:29:48.429978Z",
     "shell.execute_reply": "2025-07-23T14:29:48.428753Z"
    },
    "papermill": {
     "duration": 0.033096,
     "end_time": "2025-07-23T14:29:48.433824",
     "exception": false,
     "start_time": "2025-07-23T14:29:48.400728",
     "status": "completed"
    },
    "tags": []
   },
   "outputs": [],
   "source": [
    "# EXCLUDE CERTAIN SUBGROUPS\n",
    "# ----------------------\n",
    "\n",
    "mode = universe.get(\"exclude_subgroups\", \"keep-all\") \n",
    "# Fetches the exclude_subgroups setting from the universe dict.\n",
    "# Defaults to \"keep-all\" if the key is missing."
   ]
  },
  {
   "cell_type": "code",
   "execution_count": 21,
   "id": "21994072",
   "metadata": {
    "execution": {
     "iopub.execute_input": "2025-07-23T14:29:48.475901Z",
     "iopub.status.busy": "2025-07-23T14:29:48.475460Z",
     "iopub.status.idle": "2025-07-23T14:29:48.483502Z",
     "shell.execute_reply": "2025-07-23T14:29:48.482199Z"
    },
    "papermill": {
     "duration": 0.03239,
     "end_time": "2025-07-23T14:29:48.487070",
     "exception": false,
     "start_time": "2025-07-23T14:29:48.454680",
     "status": "completed"
    },
    "tags": []
   },
   "outputs": [],
   "source": [
    "if mode == \"keep-all\":\n",
    "    keep_mask = pd.Series(True, index=org_train.index)\n",
    "\n",
    "# org_train contains the original feature columns from features_org (in Simson)\n",
    "# features_org contains unprocessed features, for me X_train at beginning ???\n",
    "# For keep-all, creates a boolean Series (keep_mask) of all True, so no rows are removed.\n",
    "\n",
    "elif mode == \"drop-non-german\":\n",
    "    keep_mask = org_train[\"maxdeutsch1\"] == 1 # ??? what about missing values?\n",
    "\n",
    "else:\n",
    "    raise ValueError(f\"Unsupported mode for exclude_subgroups: {mode}\")\n"
   ]
  },
  {
   "cell_type": "code",
   "execution_count": 22,
   "id": "71651440",
   "metadata": {
    "execution": {
     "iopub.execute_input": "2025-07-23T14:29:48.531068Z",
     "iopub.status.busy": "2025-07-23T14:29:48.530617Z",
     "iopub.status.idle": "2025-07-23T14:29:48.539781Z",
     "shell.execute_reply": "2025-07-23T14:29:48.538563Z"
    },
    "papermill": {
     "duration": 0.033681,
     "end_time": "2025-07-23T14:29:48.542145",
     "exception": false,
     "start_time": "2025-07-23T14:29:48.508464",
     "status": "completed"
    },
    "tags": []
   },
   "outputs": [],
   "source": [
    "n_drop = (~keep_mask).sum() # Calculates how many rows are set to be dropped\n",
    "if n_drop > 0:\n",
    "    pct = n_drop / len(keep_mask) * 100\n",
    "    print(f\"Dropping {n_drop} rows ({pct:.2f}%) where mode='{mode}'\")"
   ]
  },
  {
   "cell_type": "code",
   "execution_count": 23,
   "id": "5fb8eee5",
   "metadata": {
    "execution": {
     "iopub.execute_input": "2025-07-23T14:29:48.609219Z",
     "iopub.status.busy": "2025-07-23T14:29:48.608761Z",
     "iopub.status.idle": "2025-07-23T14:29:48.739158Z",
     "shell.execute_reply": "2025-07-23T14:29:48.737753Z"
    },
    "papermill": {
     "duration": 0.15792,
     "end_time": "2025-07-23T14:29:48.741618",
     "exception": false,
     "start_time": "2025-07-23T14:29:48.583698",
     "status": "completed"
    },
    "tags": []
   },
   "outputs": [],
   "source": [
    "X_train = X_train[keep_mask]"
   ]
  },
  {
   "cell_type": "code",
   "execution_count": 24,
   "id": "b202bb3a",
   "metadata": {
    "execution": {
     "iopub.execute_input": "2025-07-23T14:29:48.809702Z",
     "iopub.status.busy": "2025-07-23T14:29:48.809218Z",
     "iopub.status.idle": "2025-07-23T14:29:48.819067Z",
     "shell.execute_reply": "2025-07-23T14:29:48.817808Z"
    },
    "papermill": {
     "duration": 0.043226,
     "end_time": "2025-07-23T14:29:48.820955",
     "exception": false,
     "start_time": "2025-07-23T14:29:48.777729",
     "status": "completed"
    },
    "tags": []
   },
   "outputs": [],
   "source": [
    "y_train = y_train[keep_mask]"
   ]
  },
  {
   "cell_type": "markdown",
   "id": "493e2ac3",
   "metadata": {
    "papermill": {
     "duration": 0.019269,
     "end_time": "2025-07-23T14:29:48.878313",
     "exception": false,
     "start_time": "2025-07-23T14:29:48.859044",
     "status": "completed"
    },
    "tags": []
   },
   "source": [
    "# Model Training"
   ]
  },
  {
   "cell_type": "code",
   "execution_count": 25,
   "id": "679e1268",
   "metadata": {
    "execution": {
     "iopub.execute_input": "2025-07-23T14:29:48.920227Z",
     "iopub.status.busy": "2025-07-23T14:29:48.919173Z",
     "iopub.status.idle": "2025-07-23T14:29:49.083681Z",
     "shell.execute_reply": "2025-07-23T14:29:49.082535Z"
    },
    "papermill": {
     "duration": 0.188379,
     "end_time": "2025-07-23T14:29:49.086119",
     "exception": false,
     "start_time": "2025-07-23T14:29:48.897740",
     "status": "completed"
    },
    "tags": []
   },
   "outputs": [],
   "source": [
    "from sklearn.linear_model import LogisticRegression\n",
    "from sklearn.ensemble import GradientBoostingClassifier, RandomForestClassifier\n",
    "\n",
    "if (universe[\"model\"] == \"logreg\"):\n",
    "    model = LogisticRegression() #penalty=\"none\") #, solver=\"newton-cg\", max_iter=1) # include random_state=19 ?\n",
    "elif (universe[\"model\"] == \"penalized_logreg\"):\n",
    "    model = LogisticRegression(penalty=\"l2\", C=1.0) #, solver=\"newton-cg\", max_iter=1)\n",
    "elif (universe[\"model\"] == \"rf\"):\n",
    "    model = RandomForestClassifier(n_estimators=100, n_jobs=-1)\n",
    "elif (universe[\"model\"] == \"gbm\"):\n",
    "    model = GradientBoostingClassifier()\n",
    "elif (universe[\"model\"] == \"elasticnet\"):\n",
    "    model = LogisticRegression(penalty = 'elasticnet', solver = 'saga', l1_ratio = 0.5, max_iter=5000) # which solver to use?\n",
    "else:\n",
    "    raise \"Unsupported universe.model\""
   ]
  },
  {
   "cell_type": "code",
   "execution_count": 26,
   "id": "0cc8f744",
   "metadata": {
    "execution": {
     "iopub.execute_input": "2025-07-23T14:29:49.163382Z",
     "iopub.status.busy": "2025-07-23T14:29:49.162893Z",
     "iopub.status.idle": "2025-07-23T14:29:49.171226Z",
     "shell.execute_reply": "2025-07-23T14:29:49.169880Z"
    },
    "papermill": {
     "duration": 0.052143,
     "end_time": "2025-07-23T14:29:49.173303",
     "exception": false,
     "start_time": "2025-07-23T14:29:49.121160",
     "status": "completed"
    },
    "tags": []
   },
   "outputs": [],
   "source": [
    "import numpy as np\n",
    "from sklearn.pipeline import Pipeline\n",
    "from sklearn.preprocessing import StandardScaler\n",
    "\n",
    "model = Pipeline([\n",
    "    #(\"continuous_processor\", continuous_processor),\n",
    "    #(\"categorical_preprocessor\", categorical_preprocessor),\n",
    "    (\"scale\", StandardScaler() if universe[\"scale\"] == \"scale\" else None), \n",
    "    (\"model\", model),\n",
    "])"
   ]
  },
  {
   "cell_type": "code",
   "execution_count": 27,
   "id": "9442c04d",
   "metadata": {
    "execution": {
     "iopub.execute_input": "2025-07-23T14:29:49.230263Z",
     "iopub.status.busy": "2025-07-23T14:29:49.229819Z",
     "iopub.status.idle": "2025-07-23T14:31:31.572233Z",
     "shell.execute_reply": "2025-07-23T14:31:31.571033Z"
    },
    "papermill": {
     "duration": 102.38645,
     "end_time": "2025-07-23T14:31:31.595775",
     "exception": false,
     "start_time": "2025-07-23T14:29:49.209325",
     "status": "completed"
    },
    "tags": []
   },
   "outputs": [
    {
     "data": {
      "text/html": [
       "<style>#sk-container-id-1 {color: black;background-color: white;}#sk-container-id-1 pre{padding: 0;}#sk-container-id-1 div.sk-toggleable {background-color: white;}#sk-container-id-1 label.sk-toggleable__label {cursor: pointer;display: block;width: 100%;margin-bottom: 0;padding: 0.3em;box-sizing: border-box;text-align: center;}#sk-container-id-1 label.sk-toggleable__label-arrow:before {content: \"▸\";float: left;margin-right: 0.25em;color: #696969;}#sk-container-id-1 label.sk-toggleable__label-arrow:hover:before {color: black;}#sk-container-id-1 div.sk-estimator:hover label.sk-toggleable__label-arrow:before {color: black;}#sk-container-id-1 div.sk-toggleable__content {max-height: 0;max-width: 0;overflow: hidden;text-align: left;background-color: #f0f8ff;}#sk-container-id-1 div.sk-toggleable__content pre {margin: 0.2em;color: black;border-radius: 0.25em;background-color: #f0f8ff;}#sk-container-id-1 input.sk-toggleable__control:checked~div.sk-toggleable__content {max-height: 200px;max-width: 100%;overflow: auto;}#sk-container-id-1 input.sk-toggleable__control:checked~label.sk-toggleable__label-arrow:before {content: \"▾\";}#sk-container-id-1 div.sk-estimator input.sk-toggleable__control:checked~label.sk-toggleable__label {background-color: #d4ebff;}#sk-container-id-1 div.sk-label input.sk-toggleable__control:checked~label.sk-toggleable__label {background-color: #d4ebff;}#sk-container-id-1 input.sk-hidden--visually {border: 0;clip: rect(1px 1px 1px 1px);clip: rect(1px, 1px, 1px, 1px);height: 1px;margin: -1px;overflow: hidden;padding: 0;position: absolute;width: 1px;}#sk-container-id-1 div.sk-estimator {font-family: monospace;background-color: #f0f8ff;border: 1px dotted black;border-radius: 0.25em;box-sizing: border-box;margin-bottom: 0.5em;}#sk-container-id-1 div.sk-estimator:hover {background-color: #d4ebff;}#sk-container-id-1 div.sk-parallel-item::after {content: \"\";width: 100%;border-bottom: 1px solid gray;flex-grow: 1;}#sk-container-id-1 div.sk-label:hover label.sk-toggleable__label {background-color: #d4ebff;}#sk-container-id-1 div.sk-serial::before {content: \"\";position: absolute;border-left: 1px solid gray;box-sizing: border-box;top: 0;bottom: 0;left: 50%;z-index: 0;}#sk-container-id-1 div.sk-serial {display: flex;flex-direction: column;align-items: center;background-color: white;padding-right: 0.2em;padding-left: 0.2em;position: relative;}#sk-container-id-1 div.sk-item {position: relative;z-index: 1;}#sk-container-id-1 div.sk-parallel {display: flex;align-items: stretch;justify-content: center;background-color: white;position: relative;}#sk-container-id-1 div.sk-item::before, #sk-container-id-1 div.sk-parallel-item::before {content: \"\";position: absolute;border-left: 1px solid gray;box-sizing: border-box;top: 0;bottom: 0;left: 50%;z-index: -1;}#sk-container-id-1 div.sk-parallel-item {display: flex;flex-direction: column;z-index: 1;position: relative;background-color: white;}#sk-container-id-1 div.sk-parallel-item:first-child::after {align-self: flex-end;width: 50%;}#sk-container-id-1 div.sk-parallel-item:last-child::after {align-self: flex-start;width: 50%;}#sk-container-id-1 div.sk-parallel-item:only-child::after {width: 0;}#sk-container-id-1 div.sk-dashed-wrapped {border: 1px dashed gray;margin: 0 0.4em 0.5em 0.4em;box-sizing: border-box;padding-bottom: 0.4em;background-color: white;}#sk-container-id-1 div.sk-label label {font-family: monospace;font-weight: bold;display: inline-block;line-height: 1.2em;}#sk-container-id-1 div.sk-label-container {text-align: center;}#sk-container-id-1 div.sk-container {/* jupyter's `normalize.less` sets `[hidden] { display: none; }` but bootstrap.min.css set `[hidden] { display: none !important; }` so we also need the `!important` here to be able to override the default hidden behavior on the sphinx rendered scikit-learn.org. See: https://github.com/scikit-learn/scikit-learn/issues/21755 */display: inline-block !important;position: relative;}#sk-container-id-1 div.sk-text-repr-fallback {display: none;}</style><div id=\"sk-container-id-1\" class=\"sk-top-container\"><div class=\"sk-text-repr-fallback\"><pre>Pipeline(steps=[(&#x27;scale&#x27;, StandardScaler()),\n",
       "                (&#x27;model&#x27;, GradientBoostingClassifier())])</pre><b>In a Jupyter environment, please rerun this cell to show the HTML representation or trust the notebook. <br />On GitHub, the HTML representation is unable to render, please try loading this page with nbviewer.org.</b></div><div class=\"sk-container\" hidden><div class=\"sk-item sk-dashed-wrapped\"><div class=\"sk-label-container\"><div class=\"sk-label sk-toggleable\"><input class=\"sk-toggleable__control sk-hidden--visually\" id=\"sk-estimator-id-1\" type=\"checkbox\" ><label for=\"sk-estimator-id-1\" class=\"sk-toggleable__label sk-toggleable__label-arrow\">Pipeline</label><div class=\"sk-toggleable__content\"><pre>Pipeline(steps=[(&#x27;scale&#x27;, StandardScaler()),\n",
       "                (&#x27;model&#x27;, GradientBoostingClassifier())])</pre></div></div></div><div class=\"sk-serial\"><div class=\"sk-item\"><div class=\"sk-estimator sk-toggleable\"><input class=\"sk-toggleable__control sk-hidden--visually\" id=\"sk-estimator-id-2\" type=\"checkbox\" ><label for=\"sk-estimator-id-2\" class=\"sk-toggleable__label sk-toggleable__label-arrow\">StandardScaler</label><div class=\"sk-toggleable__content\"><pre>StandardScaler()</pre></div></div></div><div class=\"sk-item\"><div class=\"sk-estimator sk-toggleable\"><input class=\"sk-toggleable__control sk-hidden--visually\" id=\"sk-estimator-id-3\" type=\"checkbox\" ><label for=\"sk-estimator-id-3\" class=\"sk-toggleable__label sk-toggleable__label-arrow\">GradientBoostingClassifier</label><div class=\"sk-toggleable__content\"><pre>GradientBoostingClassifier()</pre></div></div></div></div></div></div></div>"
      ],
      "text/plain": [
       "Pipeline(steps=[('scale', StandardScaler()),\n",
       "                ('model', GradientBoostingClassifier())])"
      ]
     },
     "execution_count": 27,
     "metadata": {},
     "output_type": "execute_result"
    }
   ],
   "source": [
    "model.fit(X_train, y_train.values.ravel())"
   ]
  },
  {
   "cell_type": "code",
   "execution_count": 28,
   "id": "af59f8c0",
   "metadata": {
    "execution": {
     "iopub.execute_input": "2025-07-23T14:31:31.639920Z",
     "iopub.status.busy": "2025-07-23T14:31:31.638918Z",
     "iopub.status.idle": "2025-07-23T14:31:31.645364Z",
     "shell.execute_reply": "2025-07-23T14:31:31.644182Z"
    },
    "papermill": {
     "duration": 0.031352,
     "end_time": "2025-07-23T14:31:31.647666",
     "exception": false,
     "start_time": "2025-07-23T14:31:31.616314",
     "status": "completed"
    },
    "tags": []
   },
   "outputs": [],
   "source": [
    "from fairness_multiverse.universe import predict_w_threshold"
   ]
  },
  {
   "cell_type": "code",
   "execution_count": 29,
   "id": "a7cf2e16",
   "metadata": {
    "execution": {
     "iopub.execute_input": "2025-07-23T14:31:31.691849Z",
     "iopub.status.busy": "2025-07-23T14:31:31.690877Z",
     "iopub.status.idle": "2025-07-23T14:31:32.561396Z",
     "shell.execute_reply": "2025-07-23T14:31:32.560367Z"
    },
    "papermill": {
     "duration": 0.894412,
     "end_time": "2025-07-23T14:31:32.563258",
     "exception": false,
     "start_time": "2025-07-23T14:31:31.668846",
     "status": "completed"
    },
    "tags": []
   },
   "outputs": [
    {
     "data": {
      "text/plain": [
       "0.8715081930665478"
      ]
     },
     "execution_count": 29,
     "metadata": {},
     "output_type": "execute_result"
    }
   ],
   "source": [
    "probs_test = model.predict_proba(X_test)\n",
    "\n",
    "'''\n",
    "Below code returns a boolean array (or binary 0/1 array depending on how it’s used) where each element \n",
    "is True if the probability of class 1 is greater than or equal to the threshold, and False otherwise.\n",
    "'''\n",
    "y_pred_default = predict_w_threshold(probs_test, 0.5)\n",
    "\n",
    "from sklearn.metrics import accuracy_score\n",
    "\n",
    "# Naive prediction\n",
    "accuracy_score(y_true = y_true, y_pred = y_pred_default)"
   ]
  },
  {
   "cell_type": "code",
   "execution_count": 30,
   "id": "081964c3",
   "metadata": {
    "execution": {
     "iopub.execute_input": "2025-07-23T14:31:32.607538Z",
     "iopub.status.busy": "2025-07-23T14:31:32.606716Z",
     "iopub.status.idle": "2025-07-23T14:31:33.435419Z",
     "shell.execute_reply": "2025-07-23T14:31:33.434472Z"
    },
    "papermill": {
     "duration": 0.852723,
     "end_time": "2025-07-23T14:31:33.437395",
     "exception": false,
     "start_time": "2025-07-23T14:31:32.584672",
     "status": "completed"
    },
    "tags": []
   },
   "outputs": [
    {
     "data": {
      "text/plain": [
       "array([0, 0, 0, ..., 0, 0, 0])"
      ]
     },
     "execution_count": 30,
     "metadata": {},
     "output_type": "execute_result"
    }
   ],
   "source": [
    "model.predict(X_test)"
   ]
  },
  {
   "cell_type": "markdown",
   "id": "56c9705b",
   "metadata": {
    "papermill": {
     "duration": 0.021056,
     "end_time": "2025-07-23T14:31:33.480452",
     "exception": false,
     "start_time": "2025-07-23T14:31:33.459396",
     "status": "completed"
    },
    "tags": []
   },
   "source": [
    "# Conformal Prediction"
   ]
  },
  {
   "cell_type": "code",
   "execution_count": 31,
   "id": "160ec6ff",
   "metadata": {
    "execution": {
     "iopub.execute_input": "2025-07-23T14:31:33.526652Z",
     "iopub.status.busy": "2025-07-23T14:31:33.525873Z",
     "iopub.status.idle": "2025-07-23T14:31:33.531789Z",
     "shell.execute_reply": "2025-07-23T14:31:33.530495Z"
    },
    "papermill": {
     "duration": 0.031592,
     "end_time": "2025-07-23T14:31:33.533903",
     "exception": false,
     "start_time": "2025-07-23T14:31:33.502311",
     "status": "completed"
    },
    "tags": []
   },
   "outputs": [],
   "source": [
    "# Miscoverage level for conformal prediction (10% allowed error rate => 90% target coverage)\n",
    "alpha = 0.1"
   ]
  },
  {
   "cell_type": "code",
   "execution_count": 32,
   "id": "eadf4555-3dd3-440e-8e35-f82a4ad9f855",
   "metadata": {
    "execution": {
     "iopub.execute_input": "2025-07-23T14:31:33.578945Z",
     "iopub.status.busy": "2025-07-23T14:31:33.578310Z",
     "iopub.status.idle": "2025-07-23T14:31:34.378001Z",
     "shell.execute_reply": "2025-07-23T14:31:34.376947Z"
    },
    "papermill": {
     "duration": 0.82421,
     "end_time": "2025-07-23T14:31:34.379937",
     "exception": false,
     "start_time": "2025-07-23T14:31:33.555727",
     "status": "completed"
    },
    "tags": []
   },
   "outputs": [],
   "source": [
    "probs_calib = model.predict_proba(X_calib)"
   ]
  },
  {
   "cell_type": "code",
   "execution_count": 33,
   "id": "2ed93547-6d5d-4983-9b36-1ecb300da49a",
   "metadata": {
    "execution": {
     "iopub.execute_input": "2025-07-23T14:31:34.425668Z",
     "iopub.status.busy": "2025-07-23T14:31:34.425042Z",
     "iopub.status.idle": "2025-07-23T14:31:34.431344Z",
     "shell.execute_reply": "2025-07-23T14:31:34.430213Z"
    },
    "papermill": {
     "duration": 0.031131,
     "end_time": "2025-07-23T14:31:34.433074",
     "exception": false,
     "start_time": "2025-07-23T14:31:34.401943",
     "status": "completed"
    },
    "tags": []
   },
   "outputs": [],
   "source": [
    "y_calib = y_calib.values.ravel().astype(int)"
   ]
  },
  {
   "cell_type": "code",
   "execution_count": 34,
   "id": "65d1320d-f588-4b38-9072-62af1ae97f7d",
   "metadata": {
    "execution": {
     "iopub.execute_input": "2025-07-23T14:31:34.477898Z",
     "iopub.status.busy": "2025-07-23T14:31:34.476750Z",
     "iopub.status.idle": "2025-07-23T14:31:34.485856Z",
     "shell.execute_reply": "2025-07-23T14:31:34.484790Z"
    },
    "papermill": {
     "duration": 0.043435,
     "end_time": "2025-07-23T14:31:34.497937",
     "exception": false,
     "start_time": "2025-07-23T14:31:34.454502",
     "status": "completed"
    },
    "tags": []
   },
   "outputs": [],
   "source": [
    "from fairness_multiverse.conformal import compute_nc_scores\n",
    "\n",
    "# Compute nonconformity scores on calibration set (1 - probability of true class)\n",
    "nc_scores = compute_nc_scores(probs_calib, y_calib)"
   ]
  },
  {
   "cell_type": "code",
   "execution_count": 35,
   "id": "df3b8ca3-53b7-43d5-9667-7c85da7aeda2",
   "metadata": {
    "execution": {
     "iopub.execute_input": "2025-07-23T14:31:34.558421Z",
     "iopub.status.busy": "2025-07-23T14:31:34.557647Z",
     "iopub.status.idle": "2025-07-23T14:31:34.565336Z",
     "shell.execute_reply": "2025-07-23T14:31:34.564356Z"
    },
    "papermill": {
     "duration": 0.033109,
     "end_time": "2025-07-23T14:31:34.567322",
     "exception": false,
     "start_time": "2025-07-23T14:31:34.534213",
     "status": "completed"
    },
    "tags": []
   },
   "outputs": [],
   "source": [
    "from fairness_multiverse.conformal import find_threshold\n",
    "\n",
    "# Find conformal threshold q_hat for the given alpha (split conformal method)\n",
    "q_hat = find_threshold(nc_scores, alpha)"
   ]
  },
  {
   "cell_type": "code",
   "execution_count": 36,
   "id": "4d29e6c1-0ef6-4aa4-b8fe-4fe79b0d033a",
   "metadata": {
    "execution": {
     "iopub.execute_input": "2025-07-23T14:31:34.621958Z",
     "iopub.status.busy": "2025-07-23T14:31:34.621394Z",
     "iopub.status.idle": "2025-07-23T14:31:34.629420Z",
     "shell.execute_reply": "2025-07-23T14:31:34.628319Z"
    },
    "papermill": {
     "duration": 0.040817,
     "end_time": "2025-07-23T14:31:34.631163",
     "exception": false,
     "start_time": "2025-07-23T14:31:34.590346",
     "status": "completed"
    },
    "tags": []
   },
   "outputs": [
    {
     "data": {
      "text/plain": [
       "0.6627967829558848"
      ]
     },
     "execution_count": 36,
     "metadata": {},
     "output_type": "execute_result"
    }
   ],
   "source": [
    "q_hat"
   ]
  },
  {
   "cell_type": "code",
   "execution_count": 37,
   "id": "92460794-cdac-4be2-ba28-f28c0515a6fb",
   "metadata": {
    "execution": {
     "iopub.execute_input": "2025-07-23T14:31:34.677253Z",
     "iopub.status.busy": "2025-07-23T14:31:34.676176Z",
     "iopub.status.idle": "2025-07-23T14:31:36.302623Z",
     "shell.execute_reply": "2025-07-23T14:31:36.301540Z"
    },
    "papermill": {
     "duration": 1.651914,
     "end_time": "2025-07-23T14:31:36.304632",
     "exception": false,
     "start_time": "2025-07-23T14:31:34.652718",
     "status": "completed"
    },
    "tags": []
   },
   "outputs": [],
   "source": [
    "from fairness_multiverse.conformal import predict_conformal_sets\n",
    "\n",
    "# Generate prediction sets for each test example\n",
    "pred_sets = predict_conformal_sets(model, X_test, q_hat)"
   ]
  },
  {
   "cell_type": "code",
   "execution_count": 38,
   "id": "d90c9a65-e6db-4f5d-80cd-e68fb7e46829",
   "metadata": {
    "execution": {
     "iopub.execute_input": "2025-07-23T14:31:36.349707Z",
     "iopub.status.busy": "2025-07-23T14:31:36.349089Z",
     "iopub.status.idle": "2025-07-23T14:31:36.355319Z",
     "shell.execute_reply": "2025-07-23T14:31:36.354259Z"
    },
    "papermill": {
     "duration": 0.030393,
     "end_time": "2025-07-23T14:31:36.357329",
     "exception": false,
     "start_time": "2025-07-23T14:31:36.326936",
     "status": "completed"
    },
    "tags": []
   },
   "outputs": [],
   "source": [
    "y_true = y_true.squeeze()"
   ]
  },
  {
   "cell_type": "code",
   "execution_count": 39,
   "id": "3a58a54a-1e68-46b9-927a-df01f18aebc8",
   "metadata": {
    "execution": {
     "iopub.execute_input": "2025-07-23T14:31:36.402596Z",
     "iopub.status.busy": "2025-07-23T14:31:36.401629Z",
     "iopub.status.idle": "2025-07-23T14:31:37.503554Z",
     "shell.execute_reply": "2025-07-23T14:31:37.502459Z"
    },
    "papermill": {
     "duration": 1.126294,
     "end_time": "2025-07-23T14:31:37.505809",
     "exception": false,
     "start_time": "2025-07-23T14:31:36.379515",
     "status": "completed"
    },
    "tags": []
   },
   "outputs": [],
   "source": [
    "from fairness_multiverse.conformal import evaluate_sets\n",
    "\n",
    "# Evaluate coverage and average set size on test data\n",
    "metrics = evaluate_sets(pred_sets, y_true)"
   ]
  },
  {
   "cell_type": "code",
   "execution_count": 40,
   "id": "5ce0a5cb-201f-45a0-ade5-94c7f0bd6095",
   "metadata": {
    "execution": {
     "iopub.execute_input": "2025-07-23T14:31:37.550981Z",
     "iopub.status.busy": "2025-07-23T14:31:37.550237Z",
     "iopub.status.idle": "2025-07-23T14:31:37.558607Z",
     "shell.execute_reply": "2025-07-23T14:31:37.557588Z"
    },
    "papermill": {
     "duration": 0.032496,
     "end_time": "2025-07-23T14:31:37.560404",
     "exception": false,
     "start_time": "2025-07-23T14:31:37.527908",
     "status": "completed"
    },
    "tags": []
   },
   "outputs": [
    {
     "data": {
      "text/plain": [
       "{'coverage': 0.9111247352580537, 'avg_size': 1.1091405640396834}"
      ]
     },
     "execution_count": 40,
     "metadata": {},
     "output_type": "execute_result"
    }
   ],
   "source": [
    "metrics"
   ]
  },
  {
   "cell_type": "code",
   "execution_count": 41,
   "id": "9b9a838d-31c9-430b-ae14-12baee460d17",
   "metadata": {
    "execution": {
     "iopub.execute_input": "2025-07-23T14:31:37.606417Z",
     "iopub.status.busy": "2025-07-23T14:31:37.605651Z",
     "iopub.status.idle": "2025-07-23T14:31:37.612765Z",
     "shell.execute_reply": "2025-07-23T14:31:37.611609Z"
    },
    "papermill": {
     "duration": 0.031667,
     "end_time": "2025-07-23T14:31:37.614594",
     "exception": false,
     "start_time": "2025-07-23T14:31:37.582927",
     "status": "completed"
    },
    "tags": []
   },
   "outputs": [],
   "source": [
    "example_universe = universe.copy()\n",
    "universe_model = example_universe.get(\"model\")\n",
    "universe_exclude_features = example_universe.get(\"exclude_features\")\n",
    "universe_exclude_subgroups = example_universe.get(\"exclude_subgroups\")\n",
    "universe_scale = example_universe.get(\"scale\")"
   ]
  },
  {
   "cell_type": "code",
   "execution_count": 42,
   "id": "f4b6a8ac-9dc0-4245-8a91-5b3b5999c4f9",
   "metadata": {
    "execution": {
     "iopub.execute_input": "2025-07-23T14:31:37.660743Z",
     "iopub.status.busy": "2025-07-23T14:31:37.659767Z",
     "iopub.status.idle": "2025-07-23T14:31:37.666804Z",
     "shell.execute_reply": "2025-07-23T14:31:37.665702Z"
    },
    "papermill": {
     "duration": 0.031963,
     "end_time": "2025-07-23T14:31:37.668769",
     "exception": false,
     "start_time": "2025-07-23T14:31:37.636806",
     "status": "completed"
    },
    "tags": []
   },
   "outputs": [],
   "source": [
    "cp_metrics_dict = {\n",
    "    \"universe_id\": [universe_id],\n",
    "    \"universe_model\": [universe_model],\n",
    "    \"universe_exclude_features\": [universe_exclude_features],\n",
    "    \"universe_exclude_subgroups\": [universe_exclude_subgroups],\n",
    "    \"universe_scale\": [universe_scale],\n",
    "    \"q_hat\": [q_hat],\n",
    "    \"coverage\": [metrics[\"coverage\"]],\n",
    "    \"avg_size\": [metrics[\"avg_size\"]],\n",
    "}"
   ]
  },
  {
   "cell_type": "code",
   "execution_count": 43,
   "id": "908acbb1-0371-4915-85ca-3fa520d2efe2",
   "metadata": {
    "execution": {
     "iopub.execute_input": "2025-07-23T14:31:37.715787Z",
     "iopub.status.busy": "2025-07-23T14:31:37.715148Z",
     "iopub.status.idle": "2025-07-23T14:31:37.723905Z",
     "shell.execute_reply": "2025-07-23T14:31:37.722861Z"
    },
    "papermill": {
     "duration": 0.034453,
     "end_time": "2025-07-23T14:31:37.725850",
     "exception": false,
     "start_time": "2025-07-23T14:31:37.691397",
     "status": "completed"
    },
    "tags": []
   },
   "outputs": [
    {
     "data": {
      "text/plain": [
       "{'universe_id': ['0f0bf66f94f8d528e4a569e0bcc0dc08'],\n",
       " 'universe_model': ['gbm'],\n",
       " 'universe_exclude_features': ['nationality'],\n",
       " 'universe_exclude_subgroups': ['keep-all'],\n",
       " 'universe_scale': ['scale'],\n",
       " 'q_hat': [0.6627967829558848],\n",
       " 'coverage': [0.9111247352580537],\n",
       " 'avg_size': [1.1091405640396834]}"
      ]
     },
     "execution_count": 43,
     "metadata": {},
     "output_type": "execute_result"
    }
   ],
   "source": [
    "cp_metrics_dict"
   ]
  },
  {
   "cell_type": "code",
   "execution_count": 44,
   "id": "33007efc-14e9-4ec6-97ac-56a455c82265",
   "metadata": {
    "execution": {
     "iopub.execute_input": "2025-07-23T14:31:37.773802Z",
     "iopub.status.busy": "2025-07-23T14:31:37.773048Z",
     "iopub.status.idle": "2025-07-23T14:31:37.780020Z",
     "shell.execute_reply": "2025-07-23T14:31:37.778975Z"
    },
    "papermill": {
     "duration": 0.03258,
     "end_time": "2025-07-23T14:31:37.781941",
     "exception": false,
     "start_time": "2025-07-23T14:31:37.749361",
     "status": "completed"
    },
    "tags": []
   },
   "outputs": [],
   "source": [
    "cp_metrics_df = pd.DataFrame(cp_metrics_dict)"
   ]
  },
  {
   "cell_type": "code",
   "execution_count": 45,
   "id": "db12611b-57b2-4910-b9d0-355adfd6e7bf",
   "metadata": {
    "execution": {
     "iopub.execute_input": "2025-07-23T14:31:37.829273Z",
     "iopub.status.busy": "2025-07-23T14:31:37.828837Z",
     "iopub.status.idle": "2025-07-23T14:31:37.848016Z",
     "shell.execute_reply": "2025-07-23T14:31:37.846954Z"
    },
    "papermill": {
     "duration": 0.045781,
     "end_time": "2025-07-23T14:31:37.849938",
     "exception": false,
     "start_time": "2025-07-23T14:31:37.804157",
     "status": "completed"
    },
    "tags": []
   },
   "outputs": [
    {
     "data": {
      "text/html": [
       "<div>\n",
       "<style scoped>\n",
       "    .dataframe tbody tr th:only-of-type {\n",
       "        vertical-align: middle;\n",
       "    }\n",
       "\n",
       "    .dataframe tbody tr th {\n",
       "        vertical-align: top;\n",
       "    }\n",
       "\n",
       "    .dataframe thead th {\n",
       "        text-align: right;\n",
       "    }\n",
       "</style>\n",
       "<table border=\"1\" class=\"dataframe\">\n",
       "  <thead>\n",
       "    <tr style=\"text-align: right;\">\n",
       "      <th></th>\n",
       "      <th>universe_id</th>\n",
       "      <th>universe_model</th>\n",
       "      <th>universe_exclude_features</th>\n",
       "      <th>universe_exclude_subgroups</th>\n",
       "      <th>universe_scale</th>\n",
       "      <th>q_hat</th>\n",
       "      <th>coverage</th>\n",
       "      <th>avg_size</th>\n",
       "    </tr>\n",
       "  </thead>\n",
       "  <tbody>\n",
       "    <tr>\n",
       "      <th>0</th>\n",
       "      <td>0f0bf66f94f8d528e4a569e0bcc0dc08</td>\n",
       "      <td>gbm</td>\n",
       "      <td>nationality</td>\n",
       "      <td>keep-all</td>\n",
       "      <td>scale</td>\n",
       "      <td>0.662797</td>\n",
       "      <td>0.911125</td>\n",
       "      <td>1.109141</td>\n",
       "    </tr>\n",
       "  </tbody>\n",
       "</table>\n",
       "</div>"
      ],
      "text/plain": [
       "                        universe_id universe_model universe_exclude_features  \\\n",
       "0  0f0bf66f94f8d528e4a569e0bcc0dc08            gbm               nationality   \n",
       "\n",
       "  universe_exclude_subgroups universe_scale     q_hat  coverage  avg_size  \n",
       "0                   keep-all          scale  0.662797  0.911125  1.109141  "
      ]
     },
     "execution_count": 45,
     "metadata": {},
     "output_type": "execute_result"
    }
   ],
   "source": [
    "cp_metrics_df"
   ]
  },
  {
   "cell_type": "code",
   "execution_count": 46,
   "id": "b7fbde55-a0a1-47e4-9af6-fe4a17fa8c61",
   "metadata": {
    "execution": {
     "iopub.execute_input": "2025-07-23T14:31:37.897617Z",
     "iopub.status.busy": "2025-07-23T14:31:37.897031Z",
     "iopub.status.idle": "2025-07-23T14:31:37.902826Z",
     "shell.execute_reply": "2025-07-23T14:31:37.901757Z"
    },
    "papermill": {
     "duration": 0.030995,
     "end_time": "2025-07-23T14:31:37.904844",
     "exception": false,
     "start_time": "2025-07-23T14:31:37.873849",
     "status": "completed"
    },
    "tags": []
   },
   "outputs": [],
   "source": [
    "# Conditional Coverage & looking at subgroups"
   ]
  },
  {
   "cell_type": "code",
   "execution_count": 47,
   "id": "027ae886-68dd-4141-96c7-805a5450e1ef",
   "metadata": {
    "execution": {
     "iopub.execute_input": "2025-07-23T14:31:37.952797Z",
     "iopub.status.busy": "2025-07-23T14:31:37.952249Z",
     "iopub.status.idle": "2025-07-23T14:31:38.234626Z",
     "shell.execute_reply": "2025-07-23T14:31:38.233615Z"
    },
    "papermill": {
     "duration": 0.309319,
     "end_time": "2025-07-23T14:31:38.236799",
     "exception": false,
     "start_time": "2025-07-23T14:31:37.927480",
     "status": "completed"
    },
    "tags": []
   },
   "outputs": [],
   "source": [
    "from fairness_multiverse.conformal import build_cp_groups\n",
    "\n",
    "cp_groups_df = build_cp_groups(pred_sets, y_true, X_test.index, org_test)\n",
    "#needs universe_id and setting"
   ]
  },
  {
   "cell_type": "code",
   "execution_count": 48,
   "id": "c3b92545-903e-4839-89af-0f057907d7d6",
   "metadata": {
    "execution": {
     "iopub.execute_input": "2025-07-23T14:31:38.293125Z",
     "iopub.status.busy": "2025-07-23T14:31:38.292118Z",
     "iopub.status.idle": "2025-07-23T14:31:40.158740Z",
     "shell.execute_reply": "2025-07-23T14:31:40.157655Z"
    },
    "papermill": {
     "duration": 1.892603,
     "end_time": "2025-07-23T14:31:40.160954",
     "exception": false,
     "start_time": "2025-07-23T14:31:38.268351",
     "status": "completed"
    },
    "tags": []
   },
   "outputs": [],
   "source": [
    "# Define covered = 1 if true_label is in the predicted set\n",
    "cp_groups_df['covered'] = cp_groups_df.apply(\n",
    "    lambda r: int(r['true_label'] in r['pred_set']),\n",
    "    axis=1\n",
    ")"
   ]
  },
  {
   "cell_type": "code",
   "execution_count": 49,
   "id": "338ff529-1a6b-4b87-a931-8e4788d52aad",
   "metadata": {
    "execution": {
     "iopub.execute_input": "2025-07-23T14:31:40.210107Z",
     "iopub.status.busy": "2025-07-23T14:31:40.209068Z",
     "iopub.status.idle": "2025-07-23T14:31:40.214798Z",
     "shell.execute_reply": "2025-07-23T14:31:40.213775Z"
    },
    "papermill": {
     "duration": 0.031778,
     "end_time": "2025-07-23T14:31:40.216821",
     "exception": false,
     "start_time": "2025-07-23T14:31:40.185043",
     "status": "completed"
    },
    "tags": []
   },
   "outputs": [],
   "source": [
    "#cp_groups_df"
   ]
  },
  {
   "cell_type": "code",
   "execution_count": 50,
   "id": "90032e27-66df-4540-9169-4e89cfbaa758",
   "metadata": {
    "execution": {
     "iopub.execute_input": "2025-07-23T14:31:40.265901Z",
     "iopub.status.busy": "2025-07-23T14:31:40.265098Z",
     "iopub.status.idle": "2025-07-23T14:31:40.277580Z",
     "shell.execute_reply": "2025-07-23T14:31:40.276461Z"
    },
    "papermill": {
     "duration": 0.038852,
     "end_time": "2025-07-23T14:31:40.279377",
     "exception": false,
     "start_time": "2025-07-23T14:31:40.240525",
     "status": "completed"
    },
    "tags": []
   },
   "outputs": [],
   "source": [
    "subgroups = ['frau1','nongerman','nongerman_male','nongerman_female']\n",
    "\n",
    "# Conditional coverage for subgroup==1\n",
    "cond_coverage = {\n",
    "    g: cp_groups_df.loc[cp_groups_df[g]==1, 'covered'].mean()\n",
    "    for g in subgroups\n",
    "}"
   ]
  },
  {
   "cell_type": "code",
   "execution_count": 51,
   "id": "1e348fb1-b9c3-45bc-ba23-f016827a7e0d",
   "metadata": {
    "execution": {
     "iopub.execute_input": "2025-07-23T14:31:40.329188Z",
     "iopub.status.busy": "2025-07-23T14:31:40.328104Z",
     "iopub.status.idle": "2025-07-23T14:31:40.336124Z",
     "shell.execute_reply": "2025-07-23T14:31:40.335036Z"
    },
    "papermill": {
     "duration": 0.034702,
     "end_time": "2025-07-23T14:31:40.337880",
     "exception": false,
     "start_time": "2025-07-23T14:31:40.303178",
     "status": "completed"
    },
    "tags": []
   },
   "outputs": [
    {
     "data": {
      "text/plain": [
       "{'frau1': 0.9137350047176169,\n",
       " 'nongerman': 0.9094481558412395,\n",
       " 'nongerman_male': 0.924795100423309,\n",
       " 'nongerman_female': 0.884053651266766}"
      ]
     },
     "execution_count": 51,
     "metadata": {},
     "output_type": "execute_result"
    }
   ],
   "source": [
    "cond_coverage"
   ]
  },
  {
   "cell_type": "code",
   "execution_count": 52,
   "id": "f5093324-c3dd-4d63-bc4c-8d945e5c8bbb",
   "metadata": {
    "execution": {
     "iopub.execute_input": "2025-07-23T14:31:40.387955Z",
     "iopub.status.busy": "2025-07-23T14:31:40.387330Z",
     "iopub.status.idle": "2025-07-23T14:31:40.395378Z",
     "shell.execute_reply": "2025-07-23T14:31:40.394232Z"
    },
    "papermill": {
     "duration": 0.035233,
     "end_time": "2025-07-23T14:31:40.397304",
     "exception": false,
     "start_time": "2025-07-23T14:31:40.362071",
     "status": "completed"
    },
    "tags": []
   },
   "outputs": [],
   "source": [
    "for subgroup, cov in cond_coverage.items():\n",
    "    cp_metrics_df[f\"cov_{subgroup}\"] = cov"
   ]
  },
  {
   "cell_type": "code",
   "execution_count": 53,
   "id": "6e872e10-dbe5-49e8-b554-5030c98ff75d",
   "metadata": {
    "execution": {
     "iopub.execute_input": "2025-07-23T14:31:40.447177Z",
     "iopub.status.busy": "2025-07-23T14:31:40.446360Z",
     "iopub.status.idle": "2025-07-23T14:31:40.466554Z",
     "shell.execute_reply": "2025-07-23T14:31:40.465469Z"
    },
    "papermill": {
     "duration": 0.047258,
     "end_time": "2025-07-23T14:31:40.468586",
     "exception": false,
     "start_time": "2025-07-23T14:31:40.421328",
     "status": "completed"
    },
    "tags": []
   },
   "outputs": [
    {
     "data": {
      "text/html": [
       "<div>\n",
       "<style scoped>\n",
       "    .dataframe tbody tr th:only-of-type {\n",
       "        vertical-align: middle;\n",
       "    }\n",
       "\n",
       "    .dataframe tbody tr th {\n",
       "        vertical-align: top;\n",
       "    }\n",
       "\n",
       "    .dataframe thead th {\n",
       "        text-align: right;\n",
       "    }\n",
       "</style>\n",
       "<table border=\"1\" class=\"dataframe\">\n",
       "  <thead>\n",
       "    <tr style=\"text-align: right;\">\n",
       "      <th></th>\n",
       "      <th>universe_id</th>\n",
       "      <th>universe_model</th>\n",
       "      <th>universe_exclude_features</th>\n",
       "      <th>universe_exclude_subgroups</th>\n",
       "      <th>universe_scale</th>\n",
       "      <th>q_hat</th>\n",
       "      <th>coverage</th>\n",
       "      <th>avg_size</th>\n",
       "      <th>cov_frau1</th>\n",
       "      <th>cov_nongerman</th>\n",
       "      <th>cov_nongerman_male</th>\n",
       "      <th>cov_nongerman_female</th>\n",
       "    </tr>\n",
       "  </thead>\n",
       "  <tbody>\n",
       "    <tr>\n",
       "      <th>0</th>\n",
       "      <td>0f0bf66f94f8d528e4a569e0bcc0dc08</td>\n",
       "      <td>gbm</td>\n",
       "      <td>nationality</td>\n",
       "      <td>keep-all</td>\n",
       "      <td>scale</td>\n",
       "      <td>0.662797</td>\n",
       "      <td>0.911125</td>\n",
       "      <td>1.109141</td>\n",
       "      <td>0.913735</td>\n",
       "      <td>0.909448</td>\n",
       "      <td>0.924795</td>\n",
       "      <td>0.884054</td>\n",
       "    </tr>\n",
       "  </tbody>\n",
       "</table>\n",
       "</div>"
      ],
      "text/plain": [
       "                        universe_id universe_model universe_exclude_features  \\\n",
       "0  0f0bf66f94f8d528e4a569e0bcc0dc08            gbm               nationality   \n",
       "\n",
       "  universe_exclude_subgroups universe_scale     q_hat  coverage  avg_size  \\\n",
       "0                   keep-all          scale  0.662797  0.911125  1.109141   \n",
       "\n",
       "   cov_frau1  cov_nongerman  cov_nongerman_male  cov_nongerman_female  \n",
       "0   0.913735       0.909448            0.924795              0.884054  "
      ]
     },
     "execution_count": 53,
     "metadata": {},
     "output_type": "execute_result"
    }
   ],
   "source": [
    "cp_metrics_df"
   ]
  },
  {
   "cell_type": "markdown",
   "id": "33774451",
   "metadata": {
    "papermill": {
     "duration": 0.023932,
     "end_time": "2025-07-23T14:31:40.516618",
     "exception": false,
     "start_time": "2025-07-23T14:31:40.492686",
     "status": "completed"
    },
    "tags": []
   },
   "source": [
    "# (Fairness) Metrics"
   ]
  },
  {
   "cell_type": "code",
   "execution_count": 54,
   "id": "debc5d62",
   "metadata": {
    "execution": {
     "iopub.execute_input": "2025-07-23T14:31:40.567086Z",
     "iopub.status.busy": "2025-07-23T14:31:40.566280Z",
     "iopub.status.idle": "2025-07-23T14:31:40.590306Z",
     "shell.execute_reply": "2025-07-23T14:31:40.589330Z"
    },
    "papermill": {
     "duration": 0.051948,
     "end_time": "2025-07-23T14:31:40.592392",
     "exception": false,
     "start_time": "2025-07-23T14:31:40.540444",
     "status": "completed"
    },
    "tags": []
   },
   "outputs": [],
   "source": [
    "# do I need to include maxdeutsch1.missing?\n",
    "\n",
    "import numpy as np\n",
    "\n",
    "colname_to_bin = \"maxdeutsch1\"\n",
    "majority_value = org_train[colname_to_bin].mode()[0]\n",
    "\n",
    "org_test[\"majmin\"] = np.where(org_test[colname_to_bin] == majority_value, \"majority\", \"minority\")"
   ]
  },
  {
   "cell_type": "code",
   "execution_count": 55,
   "id": "06a50de5",
   "metadata": {
    "execution": {
     "iopub.execute_input": "2025-07-23T14:31:40.642360Z",
     "iopub.status.busy": "2025-07-23T14:31:40.641647Z",
     "iopub.status.idle": "2025-07-23T14:31:43.835331Z",
     "shell.execute_reply": "2025-07-23T14:31:43.834155Z"
    },
    "papermill": {
     "duration": 3.220438,
     "end_time": "2025-07-23T14:31:43.837476",
     "exception": false,
     "start_time": "2025-07-23T14:31:40.617038",
     "status": "completed"
    },
    "tags": []
   },
   "outputs": [],
   "source": [
    "example_universe = universe.copy()\n",
    "example_universe[\"cutoff\"] = example_universe[\"cutoff\"][0]\n",
    "example_universe[\"eval_fairness_grouping\"] = example_universe[\"eval_fairness_grouping\"][0]\n",
    "fairness_dict, metric_frame = universe_analysis.compute_metrics(\n",
    "    example_universe,\n",
    "    y_pred_prob=probs_test,\n",
    "    y_test=y_true,\n",
    "    org_test=org_test,\n",
    ")"
   ]
  },
  {
   "cell_type": "markdown",
   "id": "f95d4e02",
   "metadata": {
    "papermill": {
     "duration": 0.023616,
     "end_time": "2025-07-23T14:31:43.886157",
     "exception": false,
     "start_time": "2025-07-23T14:31:43.862541",
     "status": "completed"
    },
    "tags": []
   },
   "source": [
    "# Overall"
   ]
  },
  {
   "cell_type": "markdown",
   "id": "bdee4871",
   "metadata": {
    "papermill": {
     "duration": 0.024402,
     "end_time": "2025-07-23T14:31:43.934461",
     "exception": false,
     "start_time": "2025-07-23T14:31:43.910059",
     "status": "completed"
    },
    "tags": []
   },
   "source": [
    "Fairness\n",
    "Main fairness target: Equalized Odds. Seems to be a better fit than equal opportunity, since we're not only interested in Y = 1. Seems to be a better fit than demographic parity, since we also care about accuracy, not just equal distribution of preds.\n",
    "\n",
    "Pick column for computation of fairness metrics\n",
    "\n",
    "Performance\n",
    "Overall performance measures, most interesting in relation to the measures split by group below"
   ]
  },
  {
   "cell_type": "code",
   "execution_count": 56,
   "id": "c4e067c6",
   "metadata": {
    "execution": {
     "iopub.execute_input": "2025-07-23T14:31:43.984473Z",
     "iopub.status.busy": "2025-07-23T14:31:43.983511Z",
     "iopub.status.idle": "2025-07-23T14:31:43.993677Z",
     "shell.execute_reply": "2025-07-23T14:31:43.992481Z"
    },
    "papermill": {
     "duration": 0.037212,
     "end_time": "2025-07-23T14:31:43.995751",
     "exception": false,
     "start_time": "2025-07-23T14:31:43.958539",
     "status": "completed"
    },
    "tags": []
   },
   "outputs": [
    {
     "data": {
      "text/plain": [
       "accuracy                   0.225538\n",
       "balanced accuracy          0.551227\n",
       "f1                         0.246837\n",
       "precision                  0.141010\n",
       "false positive rate        0.886857\n",
       "false negative rate        0.010688\n",
       "selection rate             0.900000\n",
       "count                  89710.000000\n",
       "dtype: float64"
      ]
     },
     "execution_count": 56,
     "metadata": {},
     "output_type": "execute_result"
    }
   ],
   "source": [
    "metric_frame.overall"
   ]
  },
  {
   "cell_type": "markdown",
   "id": "e968fe9d",
   "metadata": {
    "papermill": {
     "duration": 0.024397,
     "end_time": "2025-07-23T14:31:44.045535",
     "exception": false,
     "start_time": "2025-07-23T14:31:44.021138",
     "status": "completed"
    },
    "tags": []
   },
   "source": [
    "By Group"
   ]
  },
  {
   "cell_type": "code",
   "execution_count": 57,
   "id": "ec325bce",
   "metadata": {
    "execution": {
     "iopub.execute_input": "2025-07-23T14:31:44.096695Z",
     "iopub.status.busy": "2025-07-23T14:31:44.095756Z",
     "iopub.status.idle": "2025-07-23T14:31:44.113982Z",
     "shell.execute_reply": "2025-07-23T14:31:44.112817Z"
    },
    "papermill": {
     "duration": 0.045455,
     "end_time": "2025-07-23T14:31:44.115683",
     "exception": false,
     "start_time": "2025-07-23T14:31:44.070228",
     "status": "completed"
    },
    "tags": []
   },
   "outputs": [
    {
     "data": {
      "text/html": [
       "<div>\n",
       "<style scoped>\n",
       "    .dataframe tbody tr th:only-of-type {\n",
       "        vertical-align: middle;\n",
       "    }\n",
       "\n",
       "    .dataframe tbody tr th {\n",
       "        vertical-align: top;\n",
       "    }\n",
       "\n",
       "    .dataframe thead th {\n",
       "        text-align: right;\n",
       "    }\n",
       "</style>\n",
       "<table border=\"1\" class=\"dataframe\">\n",
       "  <thead>\n",
       "    <tr style=\"text-align: right;\">\n",
       "      <th></th>\n",
       "      <th>accuracy</th>\n",
       "      <th>balanced accuracy</th>\n",
       "      <th>f1</th>\n",
       "      <th>precision</th>\n",
       "      <th>false positive rate</th>\n",
       "      <th>false negative rate</th>\n",
       "      <th>selection rate</th>\n",
       "      <th>count</th>\n",
       "    </tr>\n",
       "    <tr>\n",
       "      <th>majmin</th>\n",
       "      <th></th>\n",
       "      <th></th>\n",
       "      <th></th>\n",
       "      <th></th>\n",
       "      <th></th>\n",
       "      <th></th>\n",
       "      <th></th>\n",
       "      <th></th>\n",
       "    </tr>\n",
       "  </thead>\n",
       "  <tbody>\n",
       "    <tr>\n",
       "      <th>majority</th>\n",
       "      <td>0.244615</td>\n",
       "      <td>0.560024</td>\n",
       "      <td>0.257010</td>\n",
       "      <td>0.147702</td>\n",
       "      <td>0.868682</td>\n",
       "      <td>0.011269</td>\n",
       "      <td>0.884545</td>\n",
       "      <td>69170.0</td>\n",
       "    </tr>\n",
       "    <tr>\n",
       "      <th>minority</th>\n",
       "      <td>0.161295</td>\n",
       "      <td>0.522329</td>\n",
       "      <td>0.214204</td>\n",
       "      <td>0.120072</td>\n",
       "      <td>0.946896</td>\n",
       "      <td>0.008446</td>\n",
       "      <td>0.952045</td>\n",
       "      <td>20540.0</td>\n",
       "    </tr>\n",
       "  </tbody>\n",
       "</table>\n",
       "</div>"
      ],
      "text/plain": [
       "          accuracy  balanced accuracy        f1  precision  \\\n",
       "majmin                                                       \n",
       "majority  0.244615           0.560024  0.257010   0.147702   \n",
       "minority  0.161295           0.522329  0.214204   0.120072   \n",
       "\n",
       "          false positive rate  false negative rate  selection rate    count  \n",
       "majmin                                                                       \n",
       "majority             0.868682             0.011269        0.884545  69170.0  \n",
       "minority             0.946896             0.008446        0.952045  20540.0  "
      ]
     },
     "execution_count": 57,
     "metadata": {},
     "output_type": "execute_result"
    }
   ],
   "source": [
    "metric_frame.by_group"
   ]
  },
  {
   "cell_type": "code",
   "execution_count": 58,
   "id": "a9ddbe63",
   "metadata": {
    "execution": {
     "iopub.execute_input": "2025-07-23T14:31:44.169800Z",
     "iopub.status.busy": "2025-07-23T14:31:44.169004Z",
     "iopub.status.idle": "2025-07-23T14:31:46.750749Z",
     "shell.execute_reply": "2025-07-23T14:31:46.749659Z"
    },
    "papermill": {
     "duration": 2.610852,
     "end_time": "2025-07-23T14:31:46.752886",
     "exception": false,
     "start_time": "2025-07-23T14:31:44.142034",
     "status": "completed"
    },
    "tags": []
   },
   "outputs": [
    {
     "data": {
      "text/plain": [
       "array([[<Axes: title={'center': 'accuracy'}, xlabel='majmin'>,\n",
       "        <Axes: title={'center': 'balanced accuracy'}, xlabel='majmin'>,\n",
       "        <Axes: title={'center': 'f1'}, xlabel='majmin'>],\n",
       "       [<Axes: title={'center': 'precision'}, xlabel='majmin'>,\n",
       "        <Axes: title={'center': 'false positive rate'}, xlabel='majmin'>,\n",
       "        <Axes: title={'center': 'false negative rate'}, xlabel='majmin'>],\n",
       "       [<Axes: title={'center': 'selection rate'}, xlabel='majmin'>,\n",
       "        <Axes: title={'center': 'count'}, xlabel='majmin'>,\n",
       "        <Axes: xlabel='majmin'>]], dtype=object)"
      ]
     },
     "execution_count": 58,
     "metadata": {},
     "output_type": "execute_result"
    },
    {
     "data": {
      "image/png": "[encoded data removed]",
      "text/plain": [
       "<Figure size 1200x800 with 9 Axes>"
      ]
     },
     "metadata": {},
     "output_type": "display_data"
    }
   ],
   "source": [
    "# In a graphic\n",
    "metric_frame.by_group.plot.bar(\n",
    "    subplots=True,\n",
    "    layout=[3, 3],\n",
    "    legend=False,\n",
    "    figsize=[12, 8],\n",
    "    title=\"Show all metrics\",\n",
    ")"
   ]
  },
  {
   "cell_type": "markdown",
   "id": "f57a0bac",
   "metadata": {
    "papermill": {
     "duration": 0.027154,
     "end_time": "2025-07-23T14:31:46.810081",
     "exception": false,
     "start_time": "2025-07-23T14:31:46.782927",
     "status": "completed"
    },
    "tags": []
   },
   "source": [
    "# Final Output"
   ]
  },
  {
   "cell_type": "code",
   "execution_count": 59,
   "id": "96d280a3",
   "metadata": {
    "execution": {
     "iopub.execute_input": "2025-07-23T14:31:46.866420Z",
     "iopub.status.busy": "2025-07-23T14:31:46.865744Z",
     "iopub.status.idle": "2025-07-23T14:31:46.874788Z",
     "shell.execute_reply": "2025-07-23T14:31:46.873792Z"
    },
    "papermill": {
     "duration": 0.038946,
     "end_time": "2025-07-23T14:31:46.876477",
     "exception": false,
     "start_time": "2025-07-23T14:31:46.837531",
     "status": "completed"
    },
    "tags": []
   },
   "outputs": [
    {
     "data": {
      "text/plain": [
       "4"
      ]
     },
     "execution_count": 59,
     "metadata": {},
     "output_type": "execute_result"
    }
   ],
   "source": [
    "sub_universes = universe_analysis.generate_sub_universes()\n",
    "len(sub_universes)"
   ]
  },
  {
   "cell_type": "code",
   "execution_count": 60,
   "id": "92adf7ba",
   "metadata": {
    "execution": {
     "iopub.execute_input": "2025-07-23T14:31:46.935347Z",
     "iopub.status.busy": "2025-07-23T14:31:46.934351Z",
     "iopub.status.idle": "2025-07-23T14:31:46.942034Z",
     "shell.execute_reply": "2025-07-23T14:31:46.940827Z"
    },
    "papermill": {
     "duration": 0.039304,
     "end_time": "2025-07-23T14:31:46.944029",
     "exception": false,
     "start_time": "2025-07-23T14:31:46.904725",
     "status": "completed"
    },
    "tags": []
   },
   "outputs": [],
   "source": [
    "def filter_sub_universe_data(sub_universe, org_test):\n",
    "    # Keep all rows — no filtering\n",
    "    keep_rows_mask = np.ones(org_test.shape[0], dtype=bool)\n",
    "\n",
    "    print(f\"[INFO] Keeping all rows: {keep_rows_mask.sum()} rows retained.\")\n",
    "    return keep_rows_mask"
   ]
  },
  {
   "cell_type": "code",
   "execution_count": 61,
   "id": "4a759155",
   "metadata": {
    "execution": {
     "iopub.execute_input": "2025-07-23T14:31:46.999876Z",
     "iopub.status.busy": "2025-07-23T14:31:46.999137Z",
     "iopub.status.idle": "2025-07-23T14:31:59.033875Z",
     "shell.execute_reply": "2025-07-23T14:31:59.032701Z"
    },
    "papermill": {
     "duration": 12.063058,
     "end_time": "2025-07-23T14:31:59.035672",
     "exception": false,
     "start_time": "2025-07-23T14:31:46.972614",
     "status": "completed"
    },
    "tags": []
   },
   "outputs": [
    {
     "name": "stdout",
     "output_type": "stream",
     "text": [
      "Stopping execution_time clock.\n",
      "[INFO] Keeping all rows: 89710 rows retained.\n"
     ]
    },
    {
     "name": "stdout",
     "output_type": "stream",
     "text": [
      "[INFO] Keeping all rows: 89710 rows retained.\n"
     ]
    },
    {
     "name": "stdout",
     "output_type": "stream",
     "text": [
      "[INFO] Keeping all rows: 89710 rows retained.\n"
     ]
    },
    {
     "name": "stdout",
     "output_type": "stream",
     "text": [
      "[INFO] Keeping all rows: 89710 rows retained.\n"
     ]
    },
    {
     "data": {
      "text/html": [
       "<div>\n",
       "<style scoped>\n",
       "    .dataframe tbody tr th:only-of-type {\n",
       "        vertical-align: middle;\n",
       "    }\n",
       "\n",
       "    .dataframe tbody tr th {\n",
       "        vertical-align: top;\n",
       "    }\n",
       "\n",
       "    .dataframe thead th {\n",
       "        text-align: right;\n",
       "    }\n",
       "</style>\n",
       "<table border=\"1\" class=\"dataframe\">\n",
       "  <thead>\n",
       "    <tr style=\"text-align: right;\">\n",
       "      <th></th>\n",
       "      <th>run_no</th>\n",
       "      <th>universe_id</th>\n",
       "      <th>universe_settings</th>\n",
       "      <th>execution_time</th>\n",
       "      <th>test_size_n</th>\n",
       "      <th>test_size_frac</th>\n",
       "      <th>fair_main_equalized_odds_difference</th>\n",
       "      <th>fair_main_equalized_odds_ratio</th>\n",
       "      <th>fair_main_demographic_parity_difference</th>\n",
       "      <th>fair_main_demographic_parity_ratio</th>\n",
       "      <th>...</th>\n",
       "      <th>perf_grp_precision_0</th>\n",
       "      <th>perf_grp_precision_1</th>\n",
       "      <th>perf_grp_false positive rate_0</th>\n",
       "      <th>perf_grp_false positive rate_1</th>\n",
       "      <th>perf_grp_false negative rate_0</th>\n",
       "      <th>perf_grp_false negative rate_1</th>\n",
       "      <th>perf_grp_selection rate_0</th>\n",
       "      <th>perf_grp_selection rate_1</th>\n",
       "      <th>perf_grp_count_0</th>\n",
       "      <th>perf_grp_count_1</th>\n",
       "    </tr>\n",
       "  </thead>\n",
       "  <tbody>\n",
       "    <tr>\n",
       "      <th>0</th>\n",
       "      <td>9</td>\n",
       "      <td>0f0bf66f94f8d528e4a569e0bcc0dc08</td>\n",
       "      <td>{\"cutoff\": \"quantile_0.1\", \"eval_fairness_grou...</td>\n",
       "      <td>127.566248</td>\n",
       "      <td>89710</td>\n",
       "      <td>1.0</td>\n",
       "      <td>0.078214</td>\n",
       "      <td>0.917400</td>\n",
       "      <td>0.067499</td>\n",
       "      <td>0.929101</td>\n",
       "      <td>...</td>\n",
       "      <td>NaN</td>\n",
       "      <td>NaN</td>\n",
       "      <td>NaN</td>\n",
       "      <td>NaN</td>\n",
       "      <td>NaN</td>\n",
       "      <td>NaN</td>\n",
       "      <td>NaN</td>\n",
       "      <td>NaN</td>\n",
       "      <td>NaN</td>\n",
       "      <td>NaN</td>\n",
       "    </tr>\n",
       "    <tr>\n",
       "      <th>0</th>\n",
       "      <td>9</td>\n",
       "      <td>0f0bf66f94f8d528e4a569e0bcc0dc08</td>\n",
       "      <td>{\"cutoff\": \"quantile_0.1\", \"eval_fairness_grou...</td>\n",
       "      <td>127.566248</td>\n",
       "      <td>89710</td>\n",
       "      <td>1.0</td>\n",
       "      <td>0.078214</td>\n",
       "      <td>0.917400</td>\n",
       "      <td>0.067499</td>\n",
       "      <td>0.929101</td>\n",
       "      <td>...</td>\n",
       "      <td>0.120072</td>\n",
       "      <td>0.147702</td>\n",
       "      <td>0.946896</td>\n",
       "      <td>0.868682</td>\n",
       "      <td>0.008446</td>\n",
       "      <td>0.011269</td>\n",
       "      <td>0.952045</td>\n",
       "      <td>0.884545</td>\n",
       "      <td>20540.0</td>\n",
       "      <td>69170.0</td>\n",
       "    </tr>\n",
       "    <tr>\n",
       "      <th>0</th>\n",
       "      <td>9</td>\n",
       "      <td>0f0bf66f94f8d528e4a569e0bcc0dc08</td>\n",
       "      <td>{\"cutoff\": \"quantile_0.25\", \"eval_fairness_gro...</td>\n",
       "      <td>127.566248</td>\n",
       "      <td>89710</td>\n",
       "      <td>1.0</td>\n",
       "      <td>0.086257</td>\n",
       "      <td>0.890334</td>\n",
       "      <td>0.070159</td>\n",
       "      <td>0.912748</td>\n",
       "      <td>...</td>\n",
       "      <td>NaN</td>\n",
       "      <td>NaN</td>\n",
       "      <td>NaN</td>\n",
       "      <td>NaN</td>\n",
       "      <td>NaN</td>\n",
       "      <td>NaN</td>\n",
       "      <td>NaN</td>\n",
       "      <td>NaN</td>\n",
       "      <td>NaN</td>\n",
       "      <td>NaN</td>\n",
       "    </tr>\n",
       "    <tr>\n",
       "      <th>0</th>\n",
       "      <td>9</td>\n",
       "      <td>0f0bf66f94f8d528e4a569e0bcc0dc08</td>\n",
       "      <td>{\"cutoff\": \"quantile_0.25\", \"eval_fairness_gro...</td>\n",
       "      <td>127.566248</td>\n",
       "      <td>89710</td>\n",
       "      <td>1.0</td>\n",
       "      <td>0.086257</td>\n",
       "      <td>0.890334</td>\n",
       "      <td>0.070159</td>\n",
       "      <td>0.912748</td>\n",
       "      <td>...</td>\n",
       "      <td>0.134597</td>\n",
       "      <td>0.171926</td>\n",
       "      <td>0.786540</td>\n",
       "      <td>0.700283</td>\n",
       "      <td>0.061233</td>\n",
       "      <td>0.045077</td>\n",
       "      <td>0.804090</td>\n",
       "      <td>0.733931</td>\n",
       "      <td>20540.0</td>\n",
       "      <td>69170.0</td>\n",
       "    </tr>\n",
       "  </tbody>\n",
       "</table>\n",
       "<p>4 rows × 50 columns</p>\n",
       "</div>"
      ],
      "text/plain": [
       "  run_no                       universe_id  \\\n",
       "0      9  0f0bf66f94f8d528e4a569e0bcc0dc08   \n",
       "0      9  0f0bf66f94f8d528e4a569e0bcc0dc08   \n",
       "0      9  0f0bf66f94f8d528e4a569e0bcc0dc08   \n",
       "0      9  0f0bf66f94f8d528e4a569e0bcc0dc08   \n",
       "\n",
       "                                   universe_settings  execution_time  \\\n",
       "0  {\"cutoff\": \"quantile_0.1\", \"eval_fairness_grou...      127.566248   \n",
       "0  {\"cutoff\": \"quantile_0.1\", \"eval_fairness_grou...      127.566248   \n",
       "0  {\"cutoff\": \"quantile_0.25\", \"eval_fairness_gro...      127.566248   \n",
       "0  {\"cutoff\": \"quantile_0.25\", \"eval_fairness_gro...      127.566248   \n",
       "\n",
       "   test_size_n  test_size_frac  fair_main_equalized_odds_difference  \\\n",
       "0        89710             1.0                             0.078214   \n",
       "0        89710             1.0                             0.078214   \n",
       "0        89710             1.0                             0.086257   \n",
       "0        89710             1.0                             0.086257   \n",
       "\n",
       "   fair_main_equalized_odds_ratio  fair_main_demographic_parity_difference  \\\n",
       "0                        0.917400                                 0.067499   \n",
       "0                        0.917400                                 0.067499   \n",
       "0                        0.890334                                 0.070159   \n",
       "0                        0.890334                                 0.070159   \n",
       "\n",
       "   fair_main_demographic_parity_ratio  ...  perf_grp_precision_0  \\\n",
       "0                            0.929101  ...                   NaN   \n",
       "0                            0.929101  ...              0.120072   \n",
       "0                            0.912748  ...                   NaN   \n",
       "0                            0.912748  ...              0.134597   \n",
       "\n",
       "   perf_grp_precision_1  perf_grp_false positive rate_0  \\\n",
       "0                   NaN                             NaN   \n",
       "0              0.147702                        0.946896   \n",
       "0                   NaN                             NaN   \n",
       "0              0.171926                        0.786540   \n",
       "\n",
       "   perf_grp_false positive rate_1  perf_grp_false negative rate_0  \\\n",
       "0                             NaN                             NaN   \n",
       "0                        0.868682                        0.008446   \n",
       "0                             NaN                             NaN   \n",
       "0                        0.700283                        0.061233   \n",
       "\n",
       "   perf_grp_false negative rate_1  perf_grp_selection rate_0  \\\n",
       "0                             NaN                        NaN   \n",
       "0                        0.011269                   0.952045   \n",
       "0                             NaN                        NaN   \n",
       "0                        0.045077                   0.804090   \n",
       "\n",
       "   perf_grp_selection rate_1  perf_grp_count_0  perf_grp_count_1  \n",
       "0                        NaN               NaN               NaN  \n",
       "0                   0.884545           20540.0           69170.0  \n",
       "0                        NaN               NaN               NaN  \n",
       "0                   0.733931           20540.0           69170.0  \n",
       "\n",
       "[4 rows x 50 columns]"
      ]
     },
     "execution_count": 61,
     "metadata": {},
     "output_type": "execute_result"
    }
   ],
   "source": [
    "final_output = universe_analysis.generate_final_output(\n",
    "    y_pred_prob=probs_test,\n",
    "    y_test=y_true,\n",
    "    org_test=org_test,\n",
    "    filter_data=filter_sub_universe_data,\n",
    "    cp_metrics_df=cp_metrics_df,\n",
    "    save=True,\n",
    ")\n",
    "final_output"
   ]
  },
  {
   "cell_type": "code",
   "execution_count": null,
   "id": "721ff514-cb11-46f8-b6fc-50392f74b5cb",
   "metadata": {
    "papermill": {
     "duration": 0.014161,
     "end_time": "2025-07-23T14:31:59.067684",
     "exception": false,
     "start_time": "2025-07-23T14:31:59.053523",
     "status": "completed"
    },
    "tags": []
   },
   "outputs": [],
   "source": []
  }
 ],
 "metadata": {
  "celltoolbar": "Tags",
  "kernelspec": {
   "display_name": "Python (CMA Fairness)",
   "language": "python",
   "name": "cma_fair_env"
  },
  "language_info": {
   "codemirror_mode": {
    "name": "ipython",
    "version": 3
   },
   "file_extension": ".py",
   "mimetype": "text/x-python",
   "name": "python",
   "nbconvert_exporter": "python",
   "pygments_lexer": "ipython3",
   "version": "3.10.12"
  },
  "papermill": {
   "default_parameters": {},
   "duration": 147.319562,
   "end_time": "2025-07-23T14:31:59.901101",
   "environment_variables": {},
   "exception": null,
   "input_path": "universe_analysis.ipynb",
   "output_path": "output/runs/9/notebooks/m_9-0f0bf66f94f8d528e4a569e0bcc0dc08.ipynb",
   "parameters": {
    "output_dir": "output",
    "run_no": "9",
    "seed": "2023",
    "universe": "{\"cutoff\": [\"quantile_0.1\", \"quantile_0.25\"], \"eval_fairness_grouping\": [\"majority-minority\", \"nationality-all\"], \"exclude_features\": \"nationality\", \"exclude_subgroups\": \"keep-all\", \"model\": \"gbm\", \"scale\": \"scale\"}",
    "universe_id": "0f0bf66f94f8d528e4a569e0bcc0dc08"
   },
   "start_time": "2025-07-23T14:29:32.581539",
   "version": "2.6.0"
  }
 },
 "nbformat": 4,
 "nbformat_minor": 5
}