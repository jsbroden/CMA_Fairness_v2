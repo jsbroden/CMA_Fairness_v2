{
 "cells": [
  {
   "cell_type": "code",
   "execution_count": 1,
   "id": "f159f837-637b-42ba-96b5-ec9a68c44524",
   "metadata": {
    "execution": {
     "iopub.execute_input": "2025-07-23T14:40:39.745115Z",
     "iopub.status.busy": "2025-07-23T14:40:39.744345Z",
     "iopub.status.idle": "2025-07-23T14:40:39.760191Z",
     "shell.execute_reply": "2025-07-23T14:40:39.759191Z"
    },
    "papermill": {
     "duration": 0.038655,
     "end_time": "2025-07-23T14:40:39.762164",
     "exception": false,
     "start_time": "2025-07-23T14:40:39.723509",
     "status": "completed"
    },
    "tags": []
   },
   "outputs": [
    {
     "name": "stdout",
     "output_type": "stream",
     "text": [
      "/dss/dsshome1/0C/ra93lal2/cma/CMA_Fairness_v2\n"
     ]
    },
    {
     "name": "stderr",
     "output_type": "stream",
     "text": [
      "/dss/dsshome1/0C/ra93lal2/.local/share/virtualenvs/CMA_Fairness_v2-3j10GkSs/lib/python3.10/site-packages/IPython/core/magics/osm.py:393: UserWarning: This is now an optional IPython functionality, using bookmarks requires you to install the `pickleshare` library.\n",
      "  bkms = self.shell.db.get('bookmarks', {})\n",
      "/dss/dsshome1/0C/ra93lal2/.local/share/virtualenvs/CMA_Fairness_v2-3j10GkSs/lib/python3.10/site-packages/IPython/core/magics/osm.py:417: UserWarning: This is now an optional IPython functionality, setting dhist requires you to install the `pickleshare` library.\n",
      "  self.shell.db['dhist'] = compress_dhist(dhist)[-100:]\n"
     ]
    }
   ],
   "source": [
    "%cd ~/cma/CMA_Fairness_v2"
   ]
  },
  {
   "cell_type": "markdown",
   "id": "de2603b9",
   "metadata": {
    "papermill": {
     "duration": 0.018667,
     "end_time": "2025-07-23T14:40:39.799345",
     "exception": false,
     "start_time": "2025-07-23T14:40:39.780678",
     "status": "completed"
    },
    "tags": []
   },
   "source": [
    "The following cell holds the definition of our parameters, these values can be overriden by rendering the with e.g. the following command:\n",
    "\n",
    "papermill -p alpha 0.2 -p ratio 0.3 universe_analysis.ipynb output/test_run.ipynb"
   ]
  },
  {
   "cell_type": "code",
   "execution_count": 2,
   "id": "a80968a0-40bb-4fa9-85ef-2d5eefb01975",
   "metadata": {
    "execution": {
     "iopub.execute_input": "2025-07-23T14:40:39.837407Z",
     "iopub.status.busy": "2025-07-23T14:40:39.836699Z",
     "iopub.status.idle": "2025-07-23T14:40:39.842192Z",
     "shell.execute_reply": "2025-07-23T14:40:39.841302Z"
    },
    "papermill": {
     "duration": 0.026269,
     "end_time": "2025-07-23T14:40:39.843879",
     "exception": false,
     "start_time": "2025-07-23T14:40:39.817610",
     "status": "completed"
    },
    "tags": []
   },
   "outputs": [
    {
     "name": "stdout",
     "output_type": "stream",
     "text": [
      "Current working directory: /dss/dsshome1/0C/ra93lal2/cma/CMA_Fairness_v2\n"
     ]
    }
   ],
   "source": [
    "import os\n",
    "print(\"Current working directory:\", os.getcwd())"
   ]
  },
  {
   "cell_type": "code",
   "execution_count": 3,
   "id": "2dce4c03",
   "metadata": {
    "execution": {
     "iopub.execute_input": "2025-07-23T14:40:39.882893Z",
     "iopub.status.busy": "2025-07-23T14:40:39.882176Z",
     "iopub.status.idle": "2025-07-23T14:40:39.888919Z",
     "shell.execute_reply": "2025-07-23T14:40:39.887771Z"
    },
    "papermill": {
     "duration": 0.027729,
     "end_time": "2025-07-23T14:40:39.890686",
     "exception": false,
     "start_time": "2025-07-23T14:40:39.862957",
     "status": "completed"
    },
    "tags": [
     "parameters"
    ]
   },
   "outputs": [],
   "source": [
    "run_no = 0\n",
    "universe_id = \"test\"\n",
    "universe = {\n",
    "    \"scale\": \"scale\", # \"scale\", \"do-not-scale\",\n",
    "    \"model\": \"elasticnet\", # \"logreg\", \"penalized_logreg\", \"rf\", \"gbm\", \"elasticnet\"\n",
    "    \"cutoff\": [\"quantile_0.15\", \"quantile_0.30\"],\n",
    "    \"exclude_features\": \"age\", # \"none\", \"nationality\", \"sex\", \"nationality-sex\", \"age\"\n",
    "    \"exclude_subgroups\": \"keep-all\", # \"keep-all\", \"drop-non-german\"\n",
    "    #\"training_sample\": \"restricted\", # \"restricted\", \"full\"\n",
    "    \"eval_fairness_grouping\": [\"majority-minority\", \"nationality-all\"]\n",
    "}\n",
    "\n",
    "output_dir=\"./output\"\n",
    "seed=0"
   ]
  },
  {
   "cell_type": "code",
   "execution_count": 4,
   "id": "deced53b",
   "metadata": {
    "execution": {
     "iopub.execute_input": "2025-07-23T14:40:39.929693Z",
     "iopub.status.busy": "2025-07-23T14:40:39.928797Z",
     "iopub.status.idle": "2025-07-23T14:40:39.935001Z",
     "shell.execute_reply": "2025-07-23T14:40:39.934022Z"
    },
    "papermill": {
     "duration": 0.027255,
     "end_time": "2025-07-23T14:40:39.936723",
     "exception": false,
     "start_time": "2025-07-23T14:40:39.909468",
     "status": "completed"
    },
    "tags": [
     "injected-parameters"
    ]
   },
   "outputs": [],
   "source": [
    "# Parameters\n",
    "universe_id = \"d7bdbf272aab48e36e28e914be5b0a44\"\n",
    "run_no = \"9\"\n",
    "universe = \"{\\\"cutoff\\\": [\\\"quantile_0.1\\\", \\\"quantile_0.25\\\"], \\\"eval_fairness_grouping\\\": [\\\"majority-minority\\\", \\\"nationality-all\\\"], \\\"exclude_features\\\": \\\"nationality\\\", \\\"exclude_subgroups\\\": \\\"drop-non-german\\\", \\\"model\\\": \\\"elasticnet\\\", \\\"scale\\\": \\\"do-not-scale\\\"}\"\n",
    "output_dir = \"output\"\n",
    "seed = \"2023\"\n"
   ]
  },
  {
   "cell_type": "code",
   "execution_count": 5,
   "id": "1650acaf",
   "metadata": {
    "execution": {
     "iopub.execute_input": "2025-07-23T14:40:39.976894Z",
     "iopub.status.busy": "2025-07-23T14:40:39.976184Z",
     "iopub.status.idle": "2025-07-23T14:40:39.982294Z",
     "shell.execute_reply": "2025-07-23T14:40:39.981192Z"
    },
    "papermill": {
     "duration": 0.028045,
     "end_time": "2025-07-23T14:40:39.983992",
     "exception": false,
     "start_time": "2025-07-23T14:40:39.955947",
     "status": "completed"
    },
    "tags": []
   },
   "outputs": [],
   "source": [
    "import json\n",
    "# Parse universe into dict if it is passed as a string\n",
    "if isinstance(universe, str):\n",
    "    universe = json.loads(universe)"
   ]
  },
  {
   "cell_type": "code",
   "execution_count": 6,
   "id": "16620c48",
   "metadata": {
    "execution": {
     "iopub.execute_input": "2025-07-23T14:40:40.023083Z",
     "iopub.status.busy": "2025-07-23T14:40:40.022383Z",
     "iopub.status.idle": "2025-07-23T14:40:40.073114Z",
     "shell.execute_reply": "2025-07-23T14:40:40.072038Z"
    },
    "papermill": {
     "duration": 0.071957,
     "end_time": "2025-07-23T14:40:40.075166",
     "exception": false,
     "start_time": "2025-07-23T14:40:40.003209",
     "status": "completed"
    },
    "tags": []
   },
   "outputs": [],
   "source": [
    "# Auto-reload the custom package\n",
    "%load_ext autoreload\n",
    "%autoreload 1\n",
    "%aimport fairness_multiverse"
   ]
  },
  {
   "cell_type": "code",
   "execution_count": 7,
   "id": "01c5c9f3",
   "metadata": {
    "execution": {
     "iopub.execute_input": "2025-07-23T14:40:40.113778Z",
     "iopub.status.busy": "2025-07-23T14:40:40.112927Z",
     "iopub.status.idle": "2025-07-23T14:40:42.281867Z",
     "shell.execute_reply": "2025-07-23T14:40:42.280775Z"
    },
    "papermill": {
     "duration": 2.19028,
     "end_time": "2025-07-23T14:40:42.283877",
     "exception": false,
     "start_time": "2025-07-23T14:40:40.093597",
     "status": "completed"
    },
    "tags": []
   },
   "outputs": [],
   "source": [
    "from fairness_multiverse.universe import UniverseAnalysis\n",
    "\n",
    "universe_analysis = UniverseAnalysis(\n",
    "    run_no = run_no,\n",
    "    universe_id = universe_id,\n",
    "    universe = universe,\n",
    "    output_dir=output_dir,\n",
    ")"
   ]
  },
  {
   "cell_type": "code",
   "execution_count": 8,
   "id": "106241f5",
   "metadata": {
    "execution": {
     "iopub.execute_input": "2025-07-23T14:40:42.323924Z",
     "iopub.status.busy": "2025-07-23T14:40:42.323361Z",
     "iopub.status.idle": "2025-07-23T14:40:42.330710Z",
     "shell.execute_reply": "2025-07-23T14:40:42.329694Z"
    },
    "papermill": {
     "duration": 0.029401,
     "end_time": "2025-07-23T14:40:42.332631",
     "exception": false,
     "start_time": "2025-07-23T14:40:42.303230",
     "status": "completed"
    },
    "tags": []
   },
   "outputs": [
    {
     "name": "stdout",
     "output_type": "stream",
     "text": [
      "Using Seed: 2023\n"
     ]
    }
   ],
   "source": [
    "import numpy as np\n",
    "parsed_seed = int(seed)\n",
    "np.random.seed(parsed_seed)\n",
    "print(f\"Using Seed: {parsed_seed}\")"
   ]
  },
  {
   "cell_type": "markdown",
   "id": "e0ebdc57",
   "metadata": {
    "papermill": {
     "duration": 0.01862,
     "end_time": "2025-07-23T14:40:42.370320",
     "exception": false,
     "start_time": "2025-07-23T14:40:42.351700",
     "status": "completed"
    },
    "tags": []
   },
   "source": [
    "# Loading Data"
   ]
  },
  {
   "cell_type": "markdown",
   "id": "681925a3",
   "metadata": {
    "papermill": {
     "duration": 0.018029,
     "end_time": "2025-07-23T14:40:42.406890",
     "exception": false,
     "start_time": "2025-07-23T14:40:42.388861",
     "status": "completed"
    },
    "tags": []
   },
   "source": [
    "Load siab_train, siab_test, siab_calib and/or \n",
    "load siab_train_features, siab_train_labels"
   ]
  },
  {
   "cell_type": "code",
   "execution_count": 9,
   "id": "f0496b8a",
   "metadata": {
    "execution": {
     "iopub.execute_input": "2025-07-23T14:40:42.445265Z",
     "iopub.status.busy": "2025-07-23T14:40:42.444477Z",
     "iopub.status.idle": "2025-07-23T14:40:42.450776Z",
     "shell.execute_reply": "2025-07-23T14:40:42.449703Z"
    },
    "papermill": {
     "duration": 0.028215,
     "end_time": "2025-07-23T14:40:42.452746",
     "exception": false,
     "start_time": "2025-07-23T14:40:42.424531",
     "status": "completed"
    },
    "tags": []
   },
   "outputs": [],
   "source": [
    "# Do I need to load siab? Delete this cell?\n",
    "\n",
    "#from pathlib import Path\n",
    "#import pandas as pd\n",
    "#\n",
    "## File paths\n",
    "#raw_file = Path(\"data/raw/siab.csv\")\n",
    "#cache_file = Path(\"data/siab_cached.csv.gz\")\n",
    "#\n",
    "## Ensure cache directory exists\n",
    "#cache_file.parent.mkdir(parents=True, exist_ok=True)\n",
    "#\n",
    "## Load with simple caching\n",
    "#if cache_file.exists():\n",
    "#    print(f\"Loading SIAB data from cache: {cache_file}\")\n",
    "#    siab = pd.read_csv(cache_file, compression='gzip')\n",
    "#else:\n",
    "#    print(f\"Cache not found. Reading raw SIAB data: {raw_file}\")\n",
    "#    siab = pd.read_csv(raw_file)\n",
    "#    siab.to_csv(cache_file, index=False, compression='gzip')\n",
    "#    print(f\"Cached SIAB data to: {cache_file}\")\n",
    "#\n",
    "## Now use `siab` DataFrame as needed\n",
    "#print(siab.shape)\n"
   ]
  },
  {
   "cell_type": "code",
   "execution_count": 10,
   "id": "a0edb063",
   "metadata": {
    "execution": {
     "iopub.execute_input": "2025-07-23T14:40:42.492846Z",
     "iopub.status.busy": "2025-07-23T14:40:42.492100Z",
     "iopub.status.idle": "2025-07-23T14:40:43.840247Z",
     "shell.execute_reply": "2025-07-23T14:40:43.839213Z"
    },
    "papermill": {
     "duration": 1.369748,
     "end_time": "2025-07-23T14:40:43.842430",
     "exception": false,
     "start_time": "2025-07-23T14:40:42.472682",
     "status": "completed"
    },
    "tags": []
   },
   "outputs": [],
   "source": [
    "import pandas as pd\n",
    "\n",
    "X_train = pd.read_csv(\"./data/X_train.csv\")\n",
    "y_train = pd.read_csv(\"./data/y_train.csv\")"
   ]
  },
  {
   "cell_type": "code",
   "execution_count": 11,
   "id": "63d08085",
   "metadata": {
    "execution": {
     "iopub.execute_input": "2025-07-23T14:40:43.883183Z",
     "iopub.status.busy": "2025-07-23T14:40:43.882556Z",
     "iopub.status.idle": "2025-07-23T14:40:45.448123Z",
     "shell.execute_reply": "2025-07-23T14:40:45.447059Z"
    },
    "papermill": {
     "duration": 1.587998,
     "end_time": "2025-07-23T14:40:45.450257",
     "exception": false,
     "start_time": "2025-07-23T14:40:43.862259",
     "status": "completed"
    },
    "tags": []
   },
   "outputs": [],
   "source": [
    "X_test = pd.read_csv(\"./data/X_test.csv\")\n",
    "y_true = pd.read_csv(\"./data/y_test.csv\")"
   ]
  },
  {
   "cell_type": "code",
   "execution_count": 12,
   "id": "98a8d0fa-1d3d-4ed8-bb2c-281470e24add",
   "metadata": {
    "execution": {
     "iopub.execute_input": "2025-07-23T14:40:45.491602Z",
     "iopub.status.busy": "2025-07-23T14:40:45.490704Z",
     "iopub.status.idle": "2025-07-23T14:40:47.068431Z",
     "shell.execute_reply": "2025-07-23T14:40:47.067265Z"
    },
    "papermill": {
     "duration": 1.600364,
     "end_time": "2025-07-23T14:40:47.070550",
     "exception": false,
     "start_time": "2025-07-23T14:40:45.470186",
     "status": "completed"
    },
    "tags": []
   },
   "outputs": [],
   "source": [
    "# Calibration data for conformal\n",
    "X_calib = pd.read_csv(\"./data/X_calib.csv\")\n",
    "y_calib = pd.read_csv(\"./data/y_calib.csv\")"
   ]
  },
  {
   "cell_type": "code",
   "execution_count": 13,
   "id": "e6c733c5",
   "metadata": {
    "execution": {
     "iopub.execute_input": "2025-07-23T14:40:47.112798Z",
     "iopub.status.busy": "2025-07-23T14:40:47.111745Z",
     "iopub.status.idle": "2025-07-23T14:40:47.226964Z",
     "shell.execute_reply": "2025-07-23T14:40:47.225894Z"
    },
    "papermill": {
     "duration": 0.136604,
     "end_time": "2025-07-23T14:40:47.229042",
     "exception": false,
     "start_time": "2025-07-23T14:40:47.092438",
     "status": "completed"
    },
    "tags": []
   },
   "outputs": [],
   "source": [
    "# Auxiliary data needed downstream in the pipeline\n",
    "\n",
    "org_train = X_train.copy()\n",
    "org_test = X_test.copy()\n",
    "org_calib = X_calib.copy()"
   ]
  },
  {
   "cell_type": "markdown",
   "id": "0a4a1b33",
   "metadata": {
    "papermill": {
     "duration": 0.018751,
     "end_time": "2025-07-23T14:40:47.267864",
     "exception": false,
     "start_time": "2025-07-23T14:40:47.249113",
     "status": "completed"
    },
    "tags": []
   },
   "source": [
    "# Preprocessing Data"
   ]
  },
  {
   "cell_type": "code",
   "execution_count": 14,
   "id": "ca879031",
   "metadata": {
    "execution": {
     "iopub.execute_input": "2025-07-23T14:40:47.307470Z",
     "iopub.status.busy": "2025-07-23T14:40:47.306522Z",
     "iopub.status.idle": "2025-07-23T14:40:47.313542Z",
     "shell.execute_reply": "2025-07-23T14:40:47.312399Z"
    },
    "papermill": {
     "duration": 0.028663,
     "end_time": "2025-07-23T14:40:47.315433",
     "exception": false,
     "start_time": "2025-07-23T14:40:47.286770",
     "status": "completed"
    },
    "tags": []
   },
   "outputs": [],
   "source": [
    "# EXCLUDE PROTECTED FEATURES\n",
    "# ----------------------\n",
    "# \"exclude_features\": \"none\", # \"nationality\", \"sex\", \"nationality-sex\"\n",
    "\n",
    "excluded_features = universe[\"exclude_features\"].split(\"-\") # split, e.g.: \"nationality-sex\" -> [\"nationality\", \"sex\"]\n",
    "excluded_features_dictionary = {\n",
    "    \"nationality\": [\"maxdeutsch1\", \"maxdeutsch.Missing.\"],\n",
    "    \"sex\": [\"frau1\"],\n",
    "    \"age\": [\"age\"],\n",
    "}\n"
   ]
  },
  {
   "cell_type": "code",
   "execution_count": 15,
   "id": "b745ac60",
   "metadata": {
    "execution": {
     "iopub.execute_input": "2025-07-23T14:40:47.355411Z",
     "iopub.status.busy": "2025-07-23T14:40:47.354689Z",
     "iopub.status.idle": "2025-07-23T14:40:47.361092Z",
     "shell.execute_reply": "2025-07-23T14:40:47.359860Z"
    },
    "papermill": {
     "duration": 0.028039,
     "end_time": "2025-07-23T14:40:47.363000",
     "exception": false,
     "start_time": "2025-07-23T14:40:47.334961",
     "status": "completed"
    },
    "tags": []
   },
   "outputs": [],
   "source": [
    "# Code nice names to column names\n",
    "\n",
    "excluded_features_columns = [\n",
    "    excluded_features_dictionary[f] for f in excluded_features if len(f) > 0 and f != \"none\"\n",
    "]"
   ]
  },
  {
   "cell_type": "code",
   "execution_count": 16,
   "id": "f84f73a2",
   "metadata": {
    "execution": {
     "iopub.execute_input": "2025-07-23T14:40:47.403578Z",
     "iopub.status.busy": "2025-07-23T14:40:47.402857Z",
     "iopub.status.idle": "2025-07-23T14:40:47.410030Z",
     "shell.execute_reply": "2025-07-23T14:40:47.408960Z"
    },
    "papermill": {
     "duration": 0.029087,
     "end_time": "2025-07-23T14:40:47.411721",
     "exception": false,
     "start_time": "2025-07-23T14:40:47.382634",
     "status": "completed"
    },
    "tags": []
   },
   "outputs": [],
   "source": [
    "from utils import flatten_once\n",
    "\n",
    "excluded_features_columns = flatten_once(excluded_features_columns)"
   ]
  },
  {
   "cell_type": "code",
   "execution_count": 17,
   "id": "884dea22",
   "metadata": {
    "execution": {
     "iopub.execute_input": "2025-07-23T14:40:47.452555Z",
     "iopub.status.busy": "2025-07-23T14:40:47.451909Z",
     "iopub.status.idle": "2025-07-23T14:40:47.501275Z",
     "shell.execute_reply": "2025-07-23T14:40:47.500176Z"
    },
    "papermill": {
     "duration": 0.071419,
     "end_time": "2025-07-23T14:40:47.503110",
     "exception": false,
     "start_time": "2025-07-23T14:40:47.431691",
     "status": "completed"
    },
    "tags": []
   },
   "outputs": [
    {
     "name": "stdout",
     "output_type": "stream",
     "text": [
      "Dropping features: ['maxdeutsch1', 'maxdeutsch.Missing.']\n"
     ]
    }
   ],
   "source": [
    "if len(excluded_features_columns) > 0:\n",
    "    print(f\"Dropping features: {excluded_features_columns}\")\n",
    "    X_train.drop(excluded_features_columns, axis=1, inplace=True)"
   ]
  },
  {
   "cell_type": "code",
   "execution_count": 18,
   "id": "95ab8b16",
   "metadata": {
    "execution": {
     "iopub.execute_input": "2025-07-23T14:40:47.544665Z",
     "iopub.status.busy": "2025-07-23T14:40:47.544027Z",
     "iopub.status.idle": "2025-07-23T14:40:47.601160Z",
     "shell.execute_reply": "2025-07-23T14:40:47.599904Z"
    },
    "papermill": {
     "duration": 0.079787,
     "end_time": "2025-07-23T14:40:47.602943",
     "exception": false,
     "start_time": "2025-07-23T14:40:47.523156",
     "status": "completed"
    },
    "tags": []
   },
   "outputs": [
    {
     "name": "stdout",
     "output_type": "stream",
     "text": [
      "Dropping features: ['maxdeutsch1', 'maxdeutsch.Missing.']\n"
     ]
    }
   ],
   "source": [
    "if len(excluded_features_columns) > 0:\n",
    "    print(f\"Dropping features: {excluded_features_columns}\")\n",
    "    X_test.drop(excluded_features_columns, axis=1, inplace=True)"
   ]
  },
  {
   "cell_type": "code",
   "execution_count": 19,
   "id": "1853aaf5-fb9f-46cb-a2b5-8ea4ae2237e4",
   "metadata": {
    "execution": {
     "iopub.execute_input": "2025-07-23T14:40:47.644209Z",
     "iopub.status.busy": "2025-07-23T14:40:47.643214Z",
     "iopub.status.idle": "2025-07-23T14:40:47.701346Z",
     "shell.execute_reply": "2025-07-23T14:40:47.700196Z"
    },
    "papermill": {
     "duration": 0.080547,
     "end_time": "2025-07-23T14:40:47.703168",
     "exception": false,
     "start_time": "2025-07-23T14:40:47.622621",
     "status": "completed"
    },
    "tags": []
   },
   "outputs": [
    {
     "name": "stdout",
     "output_type": "stream",
     "text": [
      "Dropping features: ['maxdeutsch1', 'maxdeutsch.Missing.']\n"
     ]
    }
   ],
   "source": [
    "if len(excluded_features_columns) > 0:\n",
    "    print(f\"Dropping features: {excluded_features_columns}\")\n",
    "    X_calib.drop(excluded_features_columns, axis=1, inplace=True)"
   ]
  },
  {
   "cell_type": "code",
   "execution_count": 20,
   "id": "76c4dc6d",
   "metadata": {
    "execution": {
     "iopub.execute_input": "2025-07-23T14:40:47.744996Z",
     "iopub.status.busy": "2025-07-23T14:40:47.744089Z",
     "iopub.status.idle": "2025-07-23T14:40:47.750110Z",
     "shell.execute_reply": "2025-07-23T14:40:47.749075Z"
    },
    "papermill": {
     "duration": 0.028438,
     "end_time": "2025-07-23T14:40:47.751986",
     "exception": false,
     "start_time": "2025-07-23T14:40:47.723548",
     "status": "completed"
    },
    "tags": []
   },
   "outputs": [],
   "source": [
    "# EXCLUDE CERTAIN SUBGROUPS\n",
    "# ----------------------\n",
    "\n",
    "mode = universe.get(\"exclude_subgroups\", \"keep-all\") \n",
    "# Fetches the exclude_subgroups setting from the universe dict.\n",
    "# Defaults to \"keep-all\" if the key is missing."
   ]
  },
  {
   "cell_type": "code",
   "execution_count": 21,
   "id": "21994072",
   "metadata": {
    "execution": {
     "iopub.execute_input": "2025-07-23T14:40:47.794439Z",
     "iopub.status.busy": "2025-07-23T14:40:47.793585Z",
     "iopub.status.idle": "2025-07-23T14:40:47.801412Z",
     "shell.execute_reply": "2025-07-23T14:40:47.800269Z"
    },
    "papermill": {
     "duration": 0.030512,
     "end_time": "2025-07-23T14:40:47.803301",
     "exception": false,
     "start_time": "2025-07-23T14:40:47.772789",
     "status": "completed"
    },
    "tags": []
   },
   "outputs": [],
   "source": [
    "if mode == \"keep-all\":\n",
    "    keep_mask = pd.Series(True, index=org_train.index)\n",
    "\n",
    "# org_train contains the original feature columns from features_org (in Simson)\n",
    "# features_org contains unprocessed features, for me X_train at beginning ???\n",
    "# For keep-all, creates a boolean Series (keep_mask) of all True, so no rows are removed.\n",
    "\n",
    "elif mode == \"drop-non-german\":\n",
    "    keep_mask = org_train[\"maxdeutsch1\"] == 1 # ??? what about missing values?\n",
    "\n",
    "else:\n",
    "    raise ValueError(f\"Unsupported mode for exclude_subgroups: {mode}\")\n"
   ]
  },
  {
   "cell_type": "code",
   "execution_count": 22,
   "id": "71651440",
   "metadata": {
    "execution": {
     "iopub.execute_input": "2025-07-23T14:40:47.846093Z",
     "iopub.status.busy": "2025-07-23T14:40:47.845264Z",
     "iopub.status.idle": "2025-07-23T14:40:47.853804Z",
     "shell.execute_reply": "2025-07-23T14:40:47.852726Z"
    },
    "papermill": {
     "duration": 0.031473,
     "end_time": "2025-07-23T14:40:47.855652",
     "exception": false,
     "start_time": "2025-07-23T14:40:47.824179",
     "status": "completed"
    },
    "tags": []
   },
   "outputs": [
    {
     "name": "stdout",
     "output_type": "stream",
     "text": [
      "Dropping 10036 rows (13.38%) where mode='drop-non-german'\n"
     ]
    }
   ],
   "source": [
    "n_drop = (~keep_mask).sum() # Calculates how many rows are set to be dropped\n",
    "if n_drop > 0:\n",
    "    pct = n_drop / len(keep_mask) * 100\n",
    "    print(f\"Dropping {n_drop} rows ({pct:.2f}%) where mode='{mode}'\")"
   ]
  },
  {
   "cell_type": "code",
   "execution_count": 23,
   "id": "5fb8eee5",
   "metadata": {
    "execution": {
     "iopub.execute_input": "2025-07-23T14:40:47.899002Z",
     "iopub.status.busy": "2025-07-23T14:40:47.898061Z",
     "iopub.status.idle": "2025-07-23T14:40:47.955629Z",
     "shell.execute_reply": "2025-07-23T14:40:47.954608Z"
    },
    "papermill": {
     "duration": 0.081335,
     "end_time": "2025-07-23T14:40:47.957745",
     "exception": false,
     "start_time": "2025-07-23T14:40:47.876410",
     "status": "completed"
    },
    "tags": []
   },
   "outputs": [],
   "source": [
    "X_train = X_train[keep_mask]"
   ]
  },
  {
   "cell_type": "code",
   "execution_count": 24,
   "id": "b202bb3a",
   "metadata": {
    "execution": {
     "iopub.execute_input": "2025-07-23T14:40:48.000147Z",
     "iopub.status.busy": "2025-07-23T14:40:47.999426Z",
     "iopub.status.idle": "2025-07-23T14:40:48.007944Z",
     "shell.execute_reply": "2025-07-23T14:40:48.006984Z"
    },
    "papermill": {
     "duration": 0.031236,
     "end_time": "2025-07-23T14:40:48.009813",
     "exception": false,
     "start_time": "2025-07-23T14:40:47.978577",
     "status": "completed"
    },
    "tags": []
   },
   "outputs": [],
   "source": [
    "y_train = y_train[keep_mask]"
   ]
  },
  {
   "cell_type": "markdown",
   "id": "493e2ac3",
   "metadata": {
    "papermill": {
     "duration": 0.020313,
     "end_time": "2025-07-23T14:40:48.050226",
     "exception": false,
     "start_time": "2025-07-23T14:40:48.029913",
     "status": "completed"
    },
    "tags": []
   },
   "source": [
    "# Model Training"
   ]
  },
  {
   "cell_type": "code",
   "execution_count": 25,
   "id": "679e1268",
   "metadata": {
    "execution": {
     "iopub.execute_input": "2025-07-23T14:40:48.092713Z",
     "iopub.status.busy": "2025-07-23T14:40:48.091630Z",
     "iopub.status.idle": "2025-07-23T14:40:48.207943Z",
     "shell.execute_reply": "2025-07-23T14:40:48.206898Z"
    },
    "papermill": {
     "duration": 0.140376,
     "end_time": "2025-07-23T14:40:48.210187",
     "exception": false,
     "start_time": "2025-07-23T14:40:48.069811",
     "status": "completed"
    },
    "tags": []
   },
   "outputs": [],
   "source": [
    "from sklearn.linear_model import LogisticRegression\n",
    "from sklearn.ensemble import GradientBoostingClassifier, RandomForestClassifier\n",
    "\n",
    "if (universe[\"model\"] == \"logreg\"):\n",
    "    model = LogisticRegression() #penalty=\"none\") #, solver=\"newton-cg\", max_iter=1) # include random_state=19 ?\n",
    "elif (universe[\"model\"] == \"penalized_logreg\"):\n",
    "    model = LogisticRegression(penalty=\"l2\", C=1.0) #, solver=\"newton-cg\", max_iter=1)\n",
    "elif (universe[\"model\"] == \"rf\"):\n",
    "    model = RandomForestClassifier(n_estimators=100, n_jobs=-1)\n",
    "elif (universe[\"model\"] == \"gbm\"):\n",
    "    model = GradientBoostingClassifier()\n",
    "elif (universe[\"model\"] == \"elasticnet\"):\n",
    "    model = LogisticRegression(penalty = 'elasticnet', solver = 'saga', l1_ratio = 0.5, max_iter=5000) # which solver to use?\n",
    "else:\n",
    "    raise \"Unsupported universe.model\""
   ]
  },
  {
   "cell_type": "code",
   "execution_count": 26,
   "id": "0cc8f744",
   "metadata": {
    "execution": {
     "iopub.execute_input": "2025-07-23T14:40:48.253920Z",
     "iopub.status.busy": "2025-07-23T14:40:48.252907Z",
     "iopub.status.idle": "2025-07-23T14:40:48.260612Z",
     "shell.execute_reply": "2025-07-23T14:40:48.259526Z"
    },
    "papermill": {
     "duration": 0.030862,
     "end_time": "2025-07-23T14:40:48.262528",
     "exception": false,
     "start_time": "2025-07-23T14:40:48.231666",
     "status": "completed"
    },
    "tags": []
   },
   "outputs": [],
   "source": [
    "import numpy as np\n",
    "from sklearn.pipeline import Pipeline\n",
    "from sklearn.preprocessing import StandardScaler\n",
    "\n",
    "model = Pipeline([\n",
    "    #(\"continuous_processor\", continuous_processor),\n",
    "    #(\"categorical_preprocessor\", categorical_preprocessor),\n",
    "    (\"scale\", StandardScaler() if universe[\"scale\"] == \"scale\" else None), \n",
    "    (\"model\", model),\n",
    "])"
   ]
  },
  {
   "cell_type": "code",
   "execution_count": 27,
   "id": "9442c04d",
   "metadata": {
    "execution": {
     "iopub.execute_input": "2025-07-23T14:40:48.305910Z",
     "iopub.status.busy": "2025-07-23T14:40:48.304939Z",
     "iopub.status.idle": "2025-07-23T14:49:55.882708Z",
     "shell.execute_reply": "2025-07-23T14:49:55.881494Z"
    },
    "papermill": {
     "duration": 547.60946,
     "end_time": "2025-07-23T14:49:55.892418",
     "exception": false,
     "start_time": "2025-07-23T14:40:48.282958",
     "status": "completed"
    },
    "tags": []
   },
   "outputs": [
    {
     "data": {
      "text/html": [
       "<style>#sk-container-id-1 {color: black;background-color: white;}#sk-container-id-1 pre{padding: 0;}#sk-container-id-1 div.sk-toggleable {background-color: white;}#sk-container-id-1 label.sk-toggleable__label {cursor: pointer;display: block;width: 100%;margin-bottom: 0;padding: 0.3em;box-sizing: border-box;text-align: center;}#sk-container-id-1 label.sk-toggleable__label-arrow:before {content: \"▸\";float: left;margin-right: 0.25em;color: #696969;}#sk-container-id-1 label.sk-toggleable__label-arrow:hover:before {color: black;}#sk-container-id-1 div.sk-estimator:hover label.sk-toggleable__label-arrow:before {color: black;}#sk-container-id-1 div.sk-toggleable__content {max-height: 0;max-width: 0;overflow: hidden;text-align: left;background-color: #f0f8ff;}#sk-container-id-1 div.sk-toggleable__content pre {margin: 0.2em;color: black;border-radius: 0.25em;background-color: #f0f8ff;}#sk-container-id-1 input.sk-toggleable__control:checked~div.sk-toggleable__content {max-height: 200px;max-width: 100%;overflow: auto;}#sk-container-id-1 input.sk-toggleable__control:checked~label.sk-toggleable__label-arrow:before {content: \"▾\";}#sk-container-id-1 div.sk-estimator input.sk-toggleable__control:checked~label.sk-toggleable__label {background-color: #d4ebff;}#sk-container-id-1 div.sk-label input.sk-toggleable__control:checked~label.sk-toggleable__label {background-color: #d4ebff;}#sk-container-id-1 input.sk-hidden--visually {border: 0;clip: rect(1px 1px 1px 1px);clip: rect(1px, 1px, 1px, 1px);height: 1px;margin: -1px;overflow: hidden;padding: 0;position: absolute;width: 1px;}#sk-container-id-1 div.sk-estimator {font-family: monospace;background-color: #f0f8ff;border: 1px dotted black;border-radius: 0.25em;box-sizing: border-box;margin-bottom: 0.5em;}#sk-container-id-1 div.sk-estimator:hover {background-color: #d4ebff;}#sk-container-id-1 div.sk-parallel-item::after {content: \"\";width: 100%;border-bottom: 1px solid gray;flex-grow: 1;}#sk-container-id-1 div.sk-label:hover label.sk-toggleable__label {background-color: #d4ebff;}#sk-container-id-1 div.sk-serial::before {content: \"\";position: absolute;border-left: 1px solid gray;box-sizing: border-box;top: 0;bottom: 0;left: 50%;z-index: 0;}#sk-container-id-1 div.sk-serial {display: flex;flex-direction: column;align-items: center;background-color: white;padding-right: 0.2em;padding-left: 0.2em;position: relative;}#sk-container-id-1 div.sk-item {position: relative;z-index: 1;}#sk-container-id-1 div.sk-parallel {display: flex;align-items: stretch;justify-content: center;background-color: white;position: relative;}#sk-container-id-1 div.sk-item::before, #sk-container-id-1 div.sk-parallel-item::before {content: \"\";position: absolute;border-left: 1px solid gray;box-sizing: border-box;top: 0;bottom: 0;left: 50%;z-index: -1;}#sk-container-id-1 div.sk-parallel-item {display: flex;flex-direction: column;z-index: 1;position: relative;background-color: white;}#sk-container-id-1 div.sk-parallel-item:first-child::after {align-self: flex-end;width: 50%;}#sk-container-id-1 div.sk-parallel-item:last-child::after {align-self: flex-start;width: 50%;}#sk-container-id-1 div.sk-parallel-item:only-child::after {width: 0;}#sk-container-id-1 div.sk-dashed-wrapped {border: 1px dashed gray;margin: 0 0.4em 0.5em 0.4em;box-sizing: border-box;padding-bottom: 0.4em;background-color: white;}#sk-container-id-1 div.sk-label label {font-family: monospace;font-weight: bold;display: inline-block;line-height: 1.2em;}#sk-container-id-1 div.sk-label-container {text-align: center;}#sk-container-id-1 div.sk-container {/* jupyter's `normalize.less` sets `[hidden] { display: none; }` but bootstrap.min.css set `[hidden] { display: none !important; }` so we also need the `!important` here to be able to override the default hidden behavior on the sphinx rendered scikit-learn.org. See: https://github.com/scikit-learn/scikit-learn/issues/21755 */display: inline-block !important;position: relative;}#sk-container-id-1 div.sk-text-repr-fallback {display: none;}</style><div id=\"sk-container-id-1\" class=\"sk-top-container\"><div class=\"sk-text-repr-fallback\"><pre>Pipeline(steps=[(&#x27;scale&#x27;, None),\n",
       "                (&#x27;model&#x27;,\n",
       "                 LogisticRegression(l1_ratio=0.5, max_iter=5000,\n",
       "                                    penalty=&#x27;elasticnet&#x27;, solver=&#x27;saga&#x27;))])</pre><b>In a Jupyter environment, please rerun this cell to show the HTML representation or trust the notebook. <br />On GitHub, the HTML representation is unable to render, please try loading this page with nbviewer.org.</b></div><div class=\"sk-container\" hidden><div class=\"sk-item sk-dashed-wrapped\"><div class=\"sk-label-container\"><div class=\"sk-label sk-toggleable\"><input class=\"sk-toggleable__control sk-hidden--visually\" id=\"sk-estimator-id-1\" type=\"checkbox\" ><label for=\"sk-estimator-id-1\" class=\"sk-toggleable__label sk-toggleable__label-arrow\">Pipeline</label><div class=\"sk-toggleable__content\"><pre>Pipeline(steps=[(&#x27;scale&#x27;, None),\n",
       "                (&#x27;model&#x27;,\n",
       "                 LogisticRegression(l1_ratio=0.5, max_iter=5000,\n",
       "                                    penalty=&#x27;elasticnet&#x27;, solver=&#x27;saga&#x27;))])</pre></div></div></div><div class=\"sk-serial\"><div class=\"sk-item\"><div class=\"sk-estimator sk-toggleable\"><input class=\"sk-toggleable__control sk-hidden--visually\" id=\"sk-estimator-id-2\" type=\"checkbox\" ><label for=\"sk-estimator-id-2\" class=\"sk-toggleable__label sk-toggleable__label-arrow\">None</label><div class=\"sk-toggleable__content\"><pre>None</pre></div></div></div><div class=\"sk-item\"><div class=\"sk-estimator sk-toggleable\"><input class=\"sk-toggleable__control sk-hidden--visually\" id=\"sk-estimator-id-3\" type=\"checkbox\" ><label for=\"sk-estimator-id-3\" class=\"sk-toggleable__label sk-toggleable__label-arrow\">LogisticRegression</label><div class=\"sk-toggleable__content\"><pre>LogisticRegression(l1_ratio=0.5, max_iter=5000, penalty=&#x27;elasticnet&#x27;,\n",
       "                   solver=&#x27;saga&#x27;)</pre></div></div></div></div></div></div></div>"
      ],
      "text/plain": [
       "Pipeline(steps=[('scale', None),\n",
       "                ('model',\n",
       "                 LogisticRegression(l1_ratio=0.5, max_iter=5000,\n",
       "                                    penalty='elasticnet', solver='saga'))])"
      ]
     },
     "execution_count": 27,
     "metadata": {},
     "output_type": "execute_result"
    }
   ],
   "source": [
    "model.fit(X_train, y_train.values.ravel())"
   ]
  },
  {
   "cell_type": "code",
   "execution_count": 28,
   "id": "af59f8c0",
   "metadata": {
    "execution": {
     "iopub.execute_input": "2025-07-23T14:49:55.931643Z",
     "iopub.status.busy": "2025-07-23T14:49:55.930888Z",
     "iopub.status.idle": "2025-07-23T14:49:55.937213Z",
     "shell.execute_reply": "2025-07-23T14:49:55.936158Z"
    },
    "papermill": {
     "duration": 0.027907,
     "end_time": "2025-07-23T14:49:55.939028",
     "exception": false,
     "start_time": "2025-07-23T14:49:55.911121",
     "status": "completed"
    },
    "tags": []
   },
   "outputs": [],
   "source": [
    "from fairness_multiverse.universe import predict_w_threshold"
   ]
  },
  {
   "cell_type": "code",
   "execution_count": 29,
   "id": "a7cf2e16",
   "metadata": {
    "execution": {
     "iopub.execute_input": "2025-07-23T14:49:55.978696Z",
     "iopub.status.busy": "2025-07-23T14:49:55.977989Z",
     "iopub.status.idle": "2025-07-23T14:49:56.081467Z",
     "shell.execute_reply": "2025-07-23T14:49:56.080500Z"
    },
    "papermill": {
     "duration": 0.124862,
     "end_time": "2025-07-23T14:49:56.083196",
     "exception": false,
     "start_time": "2025-07-23T14:49:55.958334",
     "status": "completed"
    },
    "tags": []
   },
   "outputs": [
    {
     "data": {
      "text/plain": [
       "0.8493813398729239"
      ]
     },
     "execution_count": 29,
     "metadata": {},
     "output_type": "execute_result"
    }
   ],
   "source": [
    "probs_test = model.predict_proba(X_test)\n",
    "\n",
    "'''\n",
    "Below code returns a boolean array (or binary 0/1 array depending on how it’s used) where each element \n",
    "is True if the probability of class 1 is greater than or equal to the threshold, and False otherwise.\n",
    "'''\n",
    "y_pred_default = predict_w_threshold(probs_test, 0.5)\n",
    "\n",
    "from sklearn.metrics import accuracy_score\n",
    "\n",
    "# Naive prediction\n",
    "accuracy_score(y_true = y_true, y_pred = y_pred_default)"
   ]
  },
  {
   "cell_type": "code",
   "execution_count": 30,
   "id": "081964c3",
   "metadata": {
    "execution": {
     "iopub.execute_input": "2025-07-23T14:49:56.123101Z",
     "iopub.status.busy": "2025-07-23T14:49:56.122398Z",
     "iopub.status.idle": "2025-07-23T14:49:56.208003Z",
     "shell.execute_reply": "2025-07-23T14:49:56.207013Z"
    },
    "papermill": {
     "duration": 0.107322,
     "end_time": "2025-07-23T14:49:56.209780",
     "exception": false,
     "start_time": "2025-07-23T14:49:56.102458",
     "status": "completed"
    },
    "tags": []
   },
   "outputs": [
    {
     "data": {
      "text/plain": [
       "array([0, 0, 0, ..., 0, 0, 0])"
      ]
     },
     "execution_count": 30,
     "metadata": {},
     "output_type": "execute_result"
    }
   ],
   "source": [
    "model.predict(X_test)"
   ]
  },
  {
   "cell_type": "markdown",
   "id": "56c9705b",
   "metadata": {
    "papermill": {
     "duration": 0.018735,
     "end_time": "2025-07-23T14:49:56.248069",
     "exception": false,
     "start_time": "2025-07-23T14:49:56.229334",
     "status": "completed"
    },
    "tags": []
   },
   "source": [
    "# Conformal Prediction"
   ]
  },
  {
   "cell_type": "code",
   "execution_count": 31,
   "id": "160ec6ff",
   "metadata": {
    "execution": {
     "iopub.execute_input": "2025-07-23T14:49:56.287504Z",
     "iopub.status.busy": "2025-07-23T14:49:56.286794Z",
     "iopub.status.idle": "2025-07-23T14:49:56.292139Z",
     "shell.execute_reply": "2025-07-23T14:49:56.291149Z"
    },
    "papermill": {
     "duration": 0.027043,
     "end_time": "2025-07-23T14:49:56.293910",
     "exception": false,
     "start_time": "2025-07-23T14:49:56.266867",
     "status": "completed"
    },
    "tags": []
   },
   "outputs": [],
   "source": [
    "# Miscoverage level for conformal prediction (10% allowed error rate => 90% target coverage)\n",
    "alpha = 0.1"
   ]
  },
  {
   "cell_type": "code",
   "execution_count": 32,
   "id": "eadf4555-3dd3-440e-8e35-f82a4ad9f855",
   "metadata": {
    "execution": {
     "iopub.execute_input": "2025-07-23T14:49:56.334113Z",
     "iopub.status.busy": "2025-07-23T14:49:56.333394Z",
     "iopub.status.idle": "2025-07-23T14:49:56.417041Z",
     "shell.execute_reply": "2025-07-23T14:49:56.416015Z"
    },
    "papermill": {
     "duration": 0.105864,
     "end_time": "2025-07-23T14:49:56.419069",
     "exception": false,
     "start_time": "2025-07-23T14:49:56.313205",
     "status": "completed"
    },
    "tags": []
   },
   "outputs": [],
   "source": [
    "probs_calib = model.predict_proba(X_calib)"
   ]
  },
  {
   "cell_type": "code",
   "execution_count": 33,
   "id": "2ed93547-6d5d-4983-9b36-1ecb300da49a",
   "metadata": {
    "execution": {
     "iopub.execute_input": "2025-07-23T14:49:56.460163Z",
     "iopub.status.busy": "2025-07-23T14:49:56.459458Z",
     "iopub.status.idle": "2025-07-23T14:49:56.465357Z",
     "shell.execute_reply": "2025-07-23T14:49:56.464373Z"
    },
    "papermill": {
     "duration": 0.027899,
     "end_time": "2025-07-23T14:49:56.467062",
     "exception": false,
     "start_time": "2025-07-23T14:49:56.439163",
     "status": "completed"
    },
    "tags": []
   },
   "outputs": [],
   "source": [
    "y_calib = y_calib.values.ravel().astype(int)"
   ]
  },
  {
   "cell_type": "code",
   "execution_count": 34,
   "id": "65d1320d-f588-4b38-9072-62af1ae97f7d",
   "metadata": {
    "execution": {
     "iopub.execute_input": "2025-07-23T14:49:56.507433Z",
     "iopub.status.busy": "2025-07-23T14:49:56.506731Z",
     "iopub.status.idle": "2025-07-23T14:49:56.515018Z",
     "shell.execute_reply": "2025-07-23T14:49:56.514044Z"
    },
    "papermill": {
     "duration": 0.030259,
     "end_time": "2025-07-23T14:49:56.516749",
     "exception": false,
     "start_time": "2025-07-23T14:49:56.486490",
     "status": "completed"
    },
    "tags": []
   },
   "outputs": [],
   "source": [
    "from fairness_multiverse.conformal import compute_nc_scores\n",
    "\n",
    "# Compute nonconformity scores on calibration set (1 - probability of true class)\n",
    "nc_scores = compute_nc_scores(probs_calib, y_calib)"
   ]
  },
  {
   "cell_type": "code",
   "execution_count": 35,
   "id": "df3b8ca3-53b7-43d5-9667-7c85da7aeda2",
   "metadata": {
    "execution": {
     "iopub.execute_input": "2025-07-23T14:49:56.557167Z",
     "iopub.status.busy": "2025-07-23T14:49:56.556415Z",
     "iopub.status.idle": "2025-07-23T14:49:56.563630Z",
     "shell.execute_reply": "2025-07-23T14:49:56.562742Z"
    },
    "papermill": {
     "duration": 0.028946,
     "end_time": "2025-07-23T14:49:56.565280",
     "exception": false,
     "start_time": "2025-07-23T14:49:56.536334",
     "status": "completed"
    },
    "tags": []
   },
   "outputs": [],
   "source": [
    "from fairness_multiverse.conformal import find_threshold\n",
    "\n",
    "# Find conformal threshold q_hat for the given alpha (split conformal method)\n",
    "q_hat = find_threshold(nc_scores, alpha)"
   ]
  },
  {
   "cell_type": "code",
   "execution_count": 36,
   "id": "4d29e6c1-0ef6-4aa4-b8fe-4fe79b0d033a",
   "metadata": {
    "execution": {
     "iopub.execute_input": "2025-07-23T14:49:56.605891Z",
     "iopub.status.busy": "2025-07-23T14:49:56.605197Z",
     "iopub.status.idle": "2025-07-23T14:49:56.612714Z",
     "shell.execute_reply": "2025-07-23T14:49:56.611815Z"
    },
    "papermill": {
     "duration": 0.029462,
     "end_time": "2025-07-23T14:49:56.614518",
     "exception": false,
     "start_time": "2025-07-23T14:49:56.585056",
     "status": "completed"
    },
    "tags": []
   },
   "outputs": [
    {
     "data": {
      "text/plain": [
       "0.6852432067647816"
      ]
     },
     "execution_count": 36,
     "metadata": {},
     "output_type": "execute_result"
    }
   ],
   "source": [
    "q_hat"
   ]
  },
  {
   "cell_type": "code",
   "execution_count": 37,
   "id": "92460794-cdac-4be2-ba28-f28c0515a6fb",
   "metadata": {
    "execution": {
     "iopub.execute_input": "2025-07-23T14:49:56.655475Z",
     "iopub.status.busy": "2025-07-23T14:49:56.654781Z",
     "iopub.status.idle": "2025-07-23T14:49:57.488291Z",
     "shell.execute_reply": "2025-07-23T14:49:57.487214Z"
    },
    "papermill": {
     "duration": 0.856005,
     "end_time": "2025-07-23T14:49:57.490306",
     "exception": false,
     "start_time": "2025-07-23T14:49:56.634301",
     "status": "completed"
    },
    "tags": []
   },
   "outputs": [],
   "source": [
    "from fairness_multiverse.conformal import predict_conformal_sets\n",
    "\n",
    "# Generate prediction sets for each test example\n",
    "pred_sets = predict_conformal_sets(model, X_test, q_hat)"
   ]
  },
  {
   "cell_type": "code",
   "execution_count": 38,
   "id": "d90c9a65-e6db-4f5d-80cd-e68fb7e46829",
   "metadata": {
    "execution": {
     "iopub.execute_input": "2025-07-23T14:49:57.531994Z",
     "iopub.status.busy": "2025-07-23T14:49:57.531218Z",
     "iopub.status.idle": "2025-07-23T14:49:57.537705Z",
     "shell.execute_reply": "2025-07-23T14:49:57.536689Z"
    },
    "papermill": {
     "duration": 0.029001,
     "end_time": "2025-07-23T14:49:57.539535",
     "exception": false,
     "start_time": "2025-07-23T14:49:57.510534",
     "status": "completed"
    },
    "tags": []
   },
   "outputs": [],
   "source": [
    "y_true = y_true.squeeze()"
   ]
  },
  {
   "cell_type": "code",
   "execution_count": 39,
   "id": "3a58a54a-1e68-46b9-927a-df01f18aebc8",
   "metadata": {
    "execution": {
     "iopub.execute_input": "2025-07-23T14:49:57.580868Z",
     "iopub.status.busy": "2025-07-23T14:49:57.580274Z",
     "iopub.status.idle": "2025-07-23T14:49:58.539957Z",
     "shell.execute_reply": "2025-07-23T14:49:58.539001Z"
    },
    "papermill": {
     "duration": 0.982149,
     "end_time": "2025-07-23T14:49:58.541831",
     "exception": false,
     "start_time": "2025-07-23T14:49:57.559682",
     "status": "completed"
    },
    "tags": []
   },
   "outputs": [],
   "source": [
    "from fairness_multiverse.conformal import evaluate_sets\n",
    "\n",
    "# Evaluate coverage and average set size on test data\n",
    "metrics = evaluate_sets(pred_sets, y_true)"
   ]
  },
  {
   "cell_type": "code",
   "execution_count": 40,
   "id": "5ce0a5cb-201f-45a0-ade5-94c7f0bd6095",
   "metadata": {
    "execution": {
     "iopub.execute_input": "2025-07-23T14:49:58.583348Z",
     "iopub.status.busy": "2025-07-23T14:49:58.582851Z",
     "iopub.status.idle": "2025-07-23T14:49:58.590215Z",
     "shell.execute_reply": "2025-07-23T14:49:58.589212Z"
    },
    "papermill": {
     "duration": 0.029938,
     "end_time": "2025-07-23T14:49:58.591988",
     "exception": false,
     "start_time": "2025-07-23T14:49:58.562050",
     "status": "completed"
    },
    "tags": []
   },
   "outputs": [
    {
     "data": {
      "text/plain": [
       "{'coverage': 0.9066324824434289, 'avg_size': 1.1349793779957642}"
      ]
     },
     "execution_count": 40,
     "metadata": {},
     "output_type": "execute_result"
    }
   ],
   "source": [
    "metrics"
   ]
  },
  {
   "cell_type": "code",
   "execution_count": 41,
   "id": "9b9a838d-31c9-430b-ae14-12baee460d17",
   "metadata": {
    "execution": {
     "iopub.execute_input": "2025-07-23T14:49:58.634339Z",
     "iopub.status.busy": "2025-07-23T14:49:58.633640Z",
     "iopub.status.idle": "2025-07-23T14:49:58.639976Z",
     "shell.execute_reply": "2025-07-23T14:49:58.639039Z"
    },
    "papermill": {
     "duration": 0.029219,
     "end_time": "2025-07-23T14:49:58.641720",
     "exception": false,
     "start_time": "2025-07-23T14:49:58.612501",
     "status": "completed"
    },
    "tags": []
   },
   "outputs": [],
   "source": [
    "example_universe = universe.copy()\n",
    "universe_model = example_universe.get(\"model\")\n",
    "universe_exclude_features = example_universe.get(\"exclude_features\")\n",
    "universe_exclude_subgroups = example_universe.get(\"exclude_subgroups\")\n",
    "universe_scale = example_universe.get(\"scale\")"
   ]
  },
  {
   "cell_type": "code",
   "execution_count": 42,
   "id": "f4b6a8ac-9dc0-4245-8a91-5b3b5999c4f9",
   "metadata": {
    "execution": {
     "iopub.execute_input": "2025-07-23T14:49:58.684330Z",
     "iopub.status.busy": "2025-07-23T14:49:58.683623Z",
     "iopub.status.idle": "2025-07-23T14:49:58.690207Z",
     "shell.execute_reply": "2025-07-23T14:49:58.689236Z"
    },
    "papermill": {
     "duration": 0.029583,
     "end_time": "2025-07-23T14:49:58.691970",
     "exception": false,
     "start_time": "2025-07-23T14:49:58.662387",
     "status": "completed"
    },
    "tags": []
   },
   "outputs": [],
   "source": [
    "cp_metrics_dict = {\n",
    "    \"universe_id\": [universe_id],\n",
    "    \"universe_model\": [universe_model],\n",
    "    \"universe_exclude_features\": [universe_exclude_features],\n",
    "    \"universe_exclude_subgroups\": [universe_exclude_subgroups],\n",
    "    \"universe_scale\": [universe_scale],\n",
    "    \"q_hat\": [q_hat],\n",
    "    \"coverage\": [metrics[\"coverage\"]],\n",
    "    \"avg_size\": [metrics[\"avg_size\"]],\n",
    "}"
   ]
  },
  {
   "cell_type": "code",
   "execution_count": 43,
   "id": "908acbb1-0371-4915-85ca-3fa520d2efe2",
   "metadata": {
    "execution": {
     "iopub.execute_input": "2025-07-23T14:49:58.734688Z",
     "iopub.status.busy": "2025-07-23T14:49:58.733986Z",
     "iopub.status.idle": "2025-07-23T14:49:58.742228Z",
     "shell.execute_reply": "2025-07-23T14:49:58.741015Z"
    },
    "papermill": {
     "duration": 0.031377,
     "end_time": "2025-07-23T14:49:58.744109",
     "exception": false,
     "start_time": "2025-07-23T14:49:58.712732",
     "status": "completed"
    },
    "tags": []
   },
   "outputs": [
    {
     "data": {
      "text/plain": [
       "{'universe_id': ['d7bdbf272aab48e36e28e914be5b0a44'],\n",
       " 'universe_model': ['elasticnet'],\n",
       " 'universe_exclude_features': ['nationality'],\n",
       " 'universe_exclude_subgroups': ['drop-non-german'],\n",
       " 'universe_scale': ['do-not-scale'],\n",
       " 'q_hat': [0.6852432067647816],\n",
       " 'coverage': [0.9066324824434289],\n",
       " 'avg_size': [1.1349793779957642]}"
      ]
     },
     "execution_count": 43,
     "metadata": {},
     "output_type": "execute_result"
    }
   ],
   "source": [
    "cp_metrics_dict"
   ]
  },
  {
   "cell_type": "code",
   "execution_count": 44,
   "id": "33007efc-14e9-4ec6-97ac-56a455c82265",
   "metadata": {
    "execution": {
     "iopub.execute_input": "2025-07-23T14:49:58.786826Z",
     "iopub.status.busy": "2025-07-23T14:49:58.786326Z",
     "iopub.status.idle": "2025-07-23T14:49:58.792948Z",
     "shell.execute_reply": "2025-07-23T14:49:58.791941Z"
    },
    "papermill": {
     "duration": 0.029774,
     "end_time": "2025-07-23T14:49:58.794653",
     "exception": false,
     "start_time": "2025-07-23T14:49:58.764879",
     "status": "completed"
    },
    "tags": []
   },
   "outputs": [],
   "source": [
    "cp_metrics_df = pd.DataFrame(cp_metrics_dict)"
   ]
  },
  {
   "cell_type": "code",
   "execution_count": 45,
   "id": "db12611b-57b2-4910-b9d0-355adfd6e7bf",
   "metadata": {
    "execution": {
     "iopub.execute_input": "2025-07-23T14:49:58.837009Z",
     "iopub.status.busy": "2025-07-23T14:49:58.836500Z",
     "iopub.status.idle": "2025-07-23T14:49:58.854529Z",
     "shell.execute_reply": "2025-07-23T14:49:58.853636Z"
    },
    "papermill": {
     "duration": 0.040961,
     "end_time": "2025-07-23T14:49:58.856348",
     "exception": false,
     "start_time": "2025-07-23T14:49:58.815387",
     "status": "completed"
    },
    "tags": []
   },
   "outputs": [
    {
     "data": {
      "text/html": [
       "<div>\n",
       "<style scoped>\n",
       "    .dataframe tbody tr th:only-of-type {\n",
       "        vertical-align: middle;\n",
       "    }\n",
       "\n",
       "    .dataframe tbody tr th {\n",
       "        vertical-align: top;\n",
       "    }\n",
       "\n",
       "    .dataframe thead th {\n",
       "        text-align: right;\n",
       "    }\n",
       "</style>\n",
       "<table border=\"1\" class=\"dataframe\">\n",
       "  <thead>\n",
       "    <tr style=\"text-align: right;\">\n",
       "      <th></th>\n",
       "      <th>universe_id</th>\n",
       "      <th>universe_model</th>\n",
       "      <th>universe_exclude_features</th>\n",
       "      <th>universe_exclude_subgroups</th>\n",
       "      <th>universe_scale</th>\n",
       "      <th>q_hat</th>\n",
       "      <th>coverage</th>\n",
       "      <th>avg_size</th>\n",
       "    </tr>\n",
       "  </thead>\n",
       "  <tbody>\n",
       "    <tr>\n",
       "      <th>0</th>\n",
       "      <td>d7bdbf272aab48e36e28e914be5b0a44</td>\n",
       "      <td>elasticnet</td>\n",
       "      <td>nationality</td>\n",
       "      <td>drop-non-german</td>\n",
       "      <td>do-not-scale</td>\n",
       "      <td>0.685243</td>\n",
       "      <td>0.906632</td>\n",
       "      <td>1.134979</td>\n",
       "    </tr>\n",
       "  </tbody>\n",
       "</table>\n",
       "</div>"
      ],
      "text/plain": [
       "                        universe_id universe_model universe_exclude_features  \\\n",
       "0  d7bdbf272aab48e36e28e914be5b0a44     elasticnet               nationality   \n",
       "\n",
       "  universe_exclude_subgroups universe_scale     q_hat  coverage  avg_size  \n",
       "0            drop-non-german   do-not-scale  0.685243  0.906632  1.134979  "
      ]
     },
     "execution_count": 45,
     "metadata": {},
     "output_type": "execute_result"
    }
   ],
   "source": [
    "cp_metrics_df"
   ]
  },
  {
   "cell_type": "code",
   "execution_count": 46,
   "id": "b7fbde55-a0a1-47e4-9af6-fe4a17fa8c61",
   "metadata": {
    "execution": {
     "iopub.execute_input": "2025-07-23T14:49:58.899394Z",
     "iopub.status.busy": "2025-07-23T14:49:58.898444Z",
     "iopub.status.idle": "2025-07-23T14:49:58.903832Z",
     "shell.execute_reply": "2025-07-23T14:49:58.902890Z"
    },
    "papermill": {
     "duration": 0.028487,
     "end_time": "2025-07-23T14:49:58.905602",
     "exception": false,
     "start_time": "2025-07-23T14:49:58.877115",
     "status": "completed"
    },
    "tags": []
   },
   "outputs": [],
   "source": [
    "# Conditional Coverage & looking at subgroups"
   ]
  },
  {
   "cell_type": "code",
   "execution_count": 47,
   "id": "027ae886-68dd-4141-96c7-805a5450e1ef",
   "metadata": {
    "execution": {
     "iopub.execute_input": "2025-07-23T14:49:58.948173Z",
     "iopub.status.busy": "2025-07-23T14:49:58.947682Z",
     "iopub.status.idle": "2025-07-23T14:49:59.225214Z",
     "shell.execute_reply": "2025-07-23T14:49:59.224187Z"
    },
    "papermill": {
     "duration": 0.300715,
     "end_time": "2025-07-23T14:49:59.227096",
     "exception": false,
     "start_time": "2025-07-23T14:49:58.926381",
     "status": "completed"
    },
    "tags": []
   },
   "outputs": [],
   "source": [
    "from fairness_multiverse.conformal import build_cp_groups\n",
    "\n",
    "cp_groups_df = build_cp_groups(pred_sets, y_true, X_test.index, org_test)\n",
    "#needs universe_id and setting"
   ]
  },
  {
   "cell_type": "code",
   "execution_count": 48,
   "id": "c3b92545-903e-4839-89af-0f057907d7d6",
   "metadata": {
    "execution": {
     "iopub.execute_input": "2025-07-23T14:49:59.270413Z",
     "iopub.status.busy": "2025-07-23T14:49:59.269897Z",
     "iopub.status.idle": "2025-07-23T14:50:00.967771Z",
     "shell.execute_reply": "2025-07-23T14:50:00.966803Z"
    },
    "papermill": {
     "duration": 1.721576,
     "end_time": "2025-07-23T14:50:00.969803",
     "exception": false,
     "start_time": "2025-07-23T14:49:59.248227",
     "status": "completed"
    },
    "tags": []
   },
   "outputs": [],
   "source": [
    "# Define covered = 1 if true_label is in the predicted set\n",
    "cp_groups_df['covered'] = cp_groups_df.apply(\n",
    "    lambda r: int(r['true_label'] in r['pred_set']),\n",
    "    axis=1\n",
    ")"
   ]
  },
  {
   "cell_type": "code",
   "execution_count": 49,
   "id": "338ff529-1a6b-4b87-a931-8e4788d52aad",
   "metadata": {
    "execution": {
     "iopub.execute_input": "2025-07-23T14:50:01.014889Z",
     "iopub.status.busy": "2025-07-23T14:50:01.014183Z",
     "iopub.status.idle": "2025-07-23T14:50:01.019775Z",
     "shell.execute_reply": "2025-07-23T14:50:01.018859Z"
    },
    "papermill": {
     "duration": 0.029524,
     "end_time": "2025-07-23T14:50:01.021487",
     "exception": false,
     "start_time": "2025-07-23T14:50:00.991963",
     "status": "completed"
    },
    "tags": []
   },
   "outputs": [],
   "source": [
    "#cp_groups_df"
   ]
  },
  {
   "cell_type": "code",
   "execution_count": 50,
   "id": "90032e27-66df-4540-9169-4e89cfbaa758",
   "metadata": {
    "execution": {
     "iopub.execute_input": "2025-07-23T14:50:01.066318Z",
     "iopub.status.busy": "2025-07-23T14:50:01.065555Z",
     "iopub.status.idle": "2025-07-23T14:50:01.078669Z",
     "shell.execute_reply": "2025-07-23T14:50:01.077658Z"
    },
    "papermill": {
     "duration": 0.037571,
     "end_time": "2025-07-23T14:50:01.080410",
     "exception": false,
     "start_time": "2025-07-23T14:50:01.042839",
     "status": "completed"
    },
    "tags": []
   },
   "outputs": [],
   "source": [
    "subgroups = ['frau1','nongerman','nongerman_male','nongerman_female']\n",
    "\n",
    "# Conditional coverage for subgroup==1\n",
    "cond_coverage = {\n",
    "    g: cp_groups_df.loc[cp_groups_df[g]==1, 'covered'].mean()\n",
    "    for g in subgroups\n",
    "}"
   ]
  },
  {
   "cell_type": "code",
   "execution_count": 51,
   "id": "1e348fb1-b9c3-45bc-ba23-f016827a7e0d",
   "metadata": {
    "execution": {
     "iopub.execute_input": "2025-07-23T14:50:01.124192Z",
     "iopub.status.busy": "2025-07-23T14:50:01.123494Z",
     "iopub.status.idle": "2025-07-23T14:50:01.131006Z",
     "shell.execute_reply": "2025-07-23T14:50:01.130091Z"
    },
    "papermill": {
     "duration": 0.031021,
     "end_time": "2025-07-23T14:50:01.132685",
     "exception": false,
     "start_time": "2025-07-23T14:50:01.101664",
     "status": "completed"
    },
    "tags": []
   },
   "outputs": [
    {
     "data": {
      "text/plain": [
       "{'frau1': 0.9054319989216876,\n",
       " 'nongerman': 0.9069780497389547,\n",
       " 'nongerman_male': 0.922183193731424,\n",
       " 'nongerman_female': 0.8818181818181818}"
      ]
     },
     "execution_count": 51,
     "metadata": {},
     "output_type": "execute_result"
    }
   ],
   "source": [
    "cond_coverage"
   ]
  },
  {
   "cell_type": "code",
   "execution_count": 52,
   "id": "f5093324-c3dd-4d63-bc4c-8d945e5c8bbb",
   "metadata": {
    "execution": {
     "iopub.execute_input": "2025-07-23T14:50:01.177066Z",
     "iopub.status.busy": "2025-07-23T14:50:01.176356Z",
     "iopub.status.idle": "2025-07-23T14:50:01.184070Z",
     "shell.execute_reply": "2025-07-23T14:50:01.183084Z"
    },
    "papermill": {
     "duration": 0.031719,
     "end_time": "2025-07-23T14:50:01.185804",
     "exception": false,
     "start_time": "2025-07-23T14:50:01.154085",
     "status": "completed"
    },
    "tags": []
   },
   "outputs": [],
   "source": [
    "for subgroup, cov in cond_coverage.items():\n",
    "    cp_metrics_df[f\"cov_{subgroup}\"] = cov"
   ]
  },
  {
   "cell_type": "code",
   "execution_count": 53,
   "id": "6e872e10-dbe5-49e8-b554-5030c98ff75d",
   "metadata": {
    "execution": {
     "iopub.execute_input": "2025-07-23T14:50:01.230215Z",
     "iopub.status.busy": "2025-07-23T14:50:01.229712Z",
     "iopub.status.idle": "2025-07-23T14:50:01.248116Z",
     "shell.execute_reply": "2025-07-23T14:50:01.247117Z"
    },
    "papermill": {
     "duration": 0.042474,
     "end_time": "2025-07-23T14:50:01.249901",
     "exception": false,
     "start_time": "2025-07-23T14:50:01.207427",
     "status": "completed"
    },
    "tags": []
   },
   "outputs": [
    {
     "data": {
      "text/html": [
       "<div>\n",
       "<style scoped>\n",
       "    .dataframe tbody tr th:only-of-type {\n",
       "        vertical-align: middle;\n",
       "    }\n",
       "\n",
       "    .dataframe tbody tr th {\n",
       "        vertical-align: top;\n",
       "    }\n",
       "\n",
       "    .dataframe thead th {\n",
       "        text-align: right;\n",
       "    }\n",
       "</style>\n",
       "<table border=\"1\" class=\"dataframe\">\n",
       "  <thead>\n",
       "    <tr style=\"text-align: right;\">\n",
       "      <th></th>\n",
       "      <th>universe_id</th>\n",
       "      <th>universe_model</th>\n",
       "      <th>universe_exclude_features</th>\n",
       "      <th>universe_exclude_subgroups</th>\n",
       "      <th>universe_scale</th>\n",
       "      <th>q_hat</th>\n",
       "      <th>coverage</th>\n",
       "      <th>avg_size</th>\n",
       "      <th>cov_frau1</th>\n",
       "      <th>cov_nongerman</th>\n",
       "      <th>cov_nongerman_male</th>\n",
       "      <th>cov_nongerman_female</th>\n",
       "    </tr>\n",
       "  </thead>\n",
       "  <tbody>\n",
       "    <tr>\n",
       "      <th>0</th>\n",
       "      <td>d7bdbf272aab48e36e28e914be5b0a44</td>\n",
       "      <td>elasticnet</td>\n",
       "      <td>nationality</td>\n",
       "      <td>drop-non-german</td>\n",
       "      <td>do-not-scale</td>\n",
       "      <td>0.685243</td>\n",
       "      <td>0.906632</td>\n",
       "      <td>1.134979</td>\n",
       "      <td>0.905432</td>\n",
       "      <td>0.906978</td>\n",
       "      <td>0.922183</td>\n",
       "      <td>0.881818</td>\n",
       "    </tr>\n",
       "  </tbody>\n",
       "</table>\n",
       "</div>"
      ],
      "text/plain": [
       "                        universe_id universe_model universe_exclude_features  \\\n",
       "0  d7bdbf272aab48e36e28e914be5b0a44     elasticnet               nationality   \n",
       "\n",
       "  universe_exclude_subgroups universe_scale     q_hat  coverage  avg_size  \\\n",
       "0            drop-non-german   do-not-scale  0.685243  0.906632  1.134979   \n",
       "\n",
       "   cov_frau1  cov_nongerman  cov_nongerman_male  cov_nongerman_female  \n",
       "0   0.905432       0.906978            0.922183              0.881818  "
      ]
     },
     "execution_count": 53,
     "metadata": {},
     "output_type": "execute_result"
    }
   ],
   "source": [
    "cp_metrics_df"
   ]
  },
  {
   "cell_type": "markdown",
   "id": "33774451",
   "metadata": {
    "papermill": {
     "duration": 0.021029,
     "end_time": "2025-07-23T14:50:01.292883",
     "exception": false,
     "start_time": "2025-07-23T14:50:01.271854",
     "status": "completed"
    },
    "tags": []
   },
   "source": [
    "# (Fairness) Metrics"
   ]
  },
  {
   "cell_type": "code",
   "execution_count": 54,
   "id": "debc5d62",
   "metadata": {
    "execution": {
     "iopub.execute_input": "2025-07-23T14:50:01.336994Z",
     "iopub.status.busy": "2025-07-23T14:50:01.336282Z",
     "iopub.status.idle": "2025-07-23T14:50:01.360618Z",
     "shell.execute_reply": "2025-07-23T14:50:01.359653Z"
    },
    "papermill": {
     "duration": 0.048548,
     "end_time": "2025-07-23T14:50:01.362428",
     "exception": false,
     "start_time": "2025-07-23T14:50:01.313880",
     "status": "completed"
    },
    "tags": []
   },
   "outputs": [],
   "source": [
    "# do I need to include maxdeutsch1.missing?\n",
    "\n",
    "import numpy as np\n",
    "\n",
    "colname_to_bin = \"maxdeutsch1\"\n",
    "majority_value = org_train[colname_to_bin].mode()[0]\n",
    "\n",
    "org_test[\"majmin\"] = np.where(org_test[colname_to_bin] == majority_value, \"majority\", \"minority\")"
   ]
  },
  {
   "cell_type": "code",
   "execution_count": 55,
   "id": "06a50de5",
   "metadata": {
    "execution": {
     "iopub.execute_input": "2025-07-23T14:50:01.407801Z",
     "iopub.status.busy": "2025-07-23T14:50:01.407105Z",
     "iopub.status.idle": "2025-07-23T14:50:04.686697Z",
     "shell.execute_reply": "2025-07-23T14:50:04.685744Z"
    },
    "papermill": {
     "duration": 3.304006,
     "end_time": "2025-07-23T14:50:04.688660",
     "exception": false,
     "start_time": "2025-07-23T14:50:01.384654",
     "status": "completed"
    },
    "tags": []
   },
   "outputs": [],
   "source": [
    "example_universe = universe.copy()\n",
    "example_universe[\"cutoff\"] = example_universe[\"cutoff\"][0]\n",
    "example_universe[\"eval_fairness_grouping\"] = example_universe[\"eval_fairness_grouping\"][0]\n",
    "fairness_dict, metric_frame = universe_analysis.compute_metrics(\n",
    "    example_universe,\n",
    "    y_pred_prob=probs_test,\n",
    "    y_test=y_true,\n",
    "    org_test=org_test,\n",
    ")"
   ]
  },
  {
   "cell_type": "markdown",
   "id": "f95d4e02",
   "metadata": {
    "papermill": {
     "duration": 0.021993,
     "end_time": "2025-07-23T14:50:04.735275",
     "exception": false,
     "start_time": "2025-07-23T14:50:04.713282",
     "status": "completed"
    },
    "tags": []
   },
   "source": [
    "# Overall"
   ]
  },
  {
   "cell_type": "markdown",
   "id": "bdee4871",
   "metadata": {
    "papermill": {
     "duration": 0.021741,
     "end_time": "2025-07-23T14:50:04.779353",
     "exception": false,
     "start_time": "2025-07-23T14:50:04.757612",
     "status": "completed"
    },
    "tags": []
   },
   "source": [
    "Fairness\n",
    "Main fairness target: Equalized Odds. Seems to be a better fit than equal opportunity, since we're not only interested in Y = 1. Seems to be a better fit than demographic parity, since we also care about accuracy, not just equal distribution of preds.\n",
    "\n",
    "Pick column for computation of fairness metrics\n",
    "\n",
    "Performance\n",
    "Overall performance measures, most interesting in relation to the measures split by group below"
   ]
  },
  {
   "cell_type": "code",
   "execution_count": 56,
   "id": "c4e067c6",
   "metadata": {
    "execution": {
     "iopub.execute_input": "2025-07-23T14:50:04.824884Z",
     "iopub.status.busy": "2025-07-23T14:50:04.824160Z",
     "iopub.status.idle": "2025-07-23T14:50:04.833198Z",
     "shell.execute_reply": "2025-07-23T14:50:04.832245Z"
    },
    "papermill": {
     "duration": 0.033598,
     "end_time": "2025-07-23T14:50:04.834852",
     "exception": false,
     "start_time": "2025-07-23T14:50:04.801254",
     "status": "completed"
    },
    "tags": []
   },
   "outputs": [
    {
     "data": {
      "text/plain": [
       "accuracy                   0.221369\n",
       "balanced accuracy          0.541907\n",
       "f1                         0.242783\n",
       "precision                  0.138694\n",
       "false positive rate        0.889248\n",
       "false negative rate        0.026938\n",
       "selection rate             0.900000\n",
       "count                  89710.000000\n",
       "dtype: float64"
      ]
     },
     "execution_count": 56,
     "metadata": {},
     "output_type": "execute_result"
    }
   ],
   "source": [
    "metric_frame.overall"
   ]
  },
  {
   "cell_type": "markdown",
   "id": "e968fe9d",
   "metadata": {
    "papermill": {
     "duration": 0.021886,
     "end_time": "2025-07-23T14:50:04.879333",
     "exception": false,
     "start_time": "2025-07-23T14:50:04.857447",
     "status": "completed"
    },
    "tags": []
   },
   "source": [
    "By Group"
   ]
  },
  {
   "cell_type": "code",
   "execution_count": 57,
   "id": "ec325bce",
   "metadata": {
    "execution": {
     "iopub.execute_input": "2025-07-23T14:50:04.925105Z",
     "iopub.status.busy": "2025-07-23T14:50:04.924325Z",
     "iopub.status.idle": "2025-07-23T14:50:04.941879Z",
     "shell.execute_reply": "2025-07-23T14:50:04.940769Z"
    },
    "papermill": {
     "duration": 0.042164,
     "end_time": "2025-07-23T14:50:04.943515",
     "exception": false,
     "start_time": "2025-07-23T14:50:04.901351",
     "status": "completed"
    },
    "tags": []
   },
   "outputs": [
    {
     "data": {
      "text/html": [
       "<div>\n",
       "<style scoped>\n",
       "    .dataframe tbody tr th:only-of-type {\n",
       "        vertical-align: middle;\n",
       "    }\n",
       "\n",
       "    .dataframe tbody tr th {\n",
       "        vertical-align: top;\n",
       "    }\n",
       "\n",
       "    .dataframe thead th {\n",
       "        text-align: right;\n",
       "    }\n",
       "</style>\n",
       "<table border=\"1\" class=\"dataframe\">\n",
       "  <thead>\n",
       "    <tr style=\"text-align: right;\">\n",
       "      <th></th>\n",
       "      <th>accuracy</th>\n",
       "      <th>balanced accuracy</th>\n",
       "      <th>f1</th>\n",
       "      <th>precision</th>\n",
       "      <th>false positive rate</th>\n",
       "      <th>false negative rate</th>\n",
       "      <th>selection rate</th>\n",
       "      <th>count</th>\n",
       "    </tr>\n",
       "    <tr>\n",
       "      <th>majmin</th>\n",
       "      <th></th>\n",
       "      <th></th>\n",
       "      <th></th>\n",
       "      <th></th>\n",
       "      <th></th>\n",
       "      <th></th>\n",
       "      <th></th>\n",
       "      <th></th>\n",
       "    </tr>\n",
       "  </thead>\n",
       "  <tbody>\n",
       "    <tr>\n",
       "      <th>majority</th>\n",
       "      <td>0.244080</td>\n",
       "      <td>0.551600</td>\n",
       "      <td>0.25316</td>\n",
       "      <td>0.145587</td>\n",
       "      <td>0.866383</td>\n",
       "      <td>0.030416</td>\n",
       "      <td>0.880020</td>\n",
       "      <td>69170.0</td>\n",
       "    </tr>\n",
       "    <tr>\n",
       "      <th>minority</th>\n",
       "      <td>0.144888</td>\n",
       "      <td>0.510853</td>\n",
       "      <td>0.21011</td>\n",
       "      <td>0.117576</td>\n",
       "      <td>0.964781</td>\n",
       "      <td>0.013514</td>\n",
       "      <td>0.967283</td>\n",
       "      <td>20540.0</td>\n",
       "    </tr>\n",
       "  </tbody>\n",
       "</table>\n",
       "</div>"
      ],
      "text/plain": [
       "          accuracy  balanced accuracy       f1  precision  \\\n",
       "majmin                                                      \n",
       "majority  0.244080           0.551600  0.25316   0.145587   \n",
       "minority  0.144888           0.510853  0.21011   0.117576   \n",
       "\n",
       "          false positive rate  false negative rate  selection rate    count  \n",
       "majmin                                                                       \n",
       "majority             0.866383             0.030416        0.880020  69170.0  \n",
       "minority             0.964781             0.013514        0.967283  20540.0  "
      ]
     },
     "execution_count": 57,
     "metadata": {},
     "output_type": "execute_result"
    }
   ],
   "source": [
    "metric_frame.by_group"
   ]
  },
  {
   "cell_type": "code",
   "execution_count": 58,
   "id": "a9ddbe63",
   "metadata": {
    "execution": {
     "iopub.execute_input": "2025-07-23T14:50:04.991119Z",
     "iopub.status.busy": "2025-07-23T14:50:04.990411Z",
     "iopub.status.idle": "2025-07-23T14:50:07.493732Z",
     "shell.execute_reply": "2025-07-23T14:50:07.492708Z"
    },
    "papermill": {
     "duration": 2.52876,
     "end_time": "2025-07-23T14:50:07.495388",
     "exception": false,
     "start_time": "2025-07-23T14:50:04.966628",
     "status": "completed"
    },
    "tags": []
   },
   "outputs": [
    {
     "data": {
      "text/plain": [
       "array([[<Axes: title={'center': 'accuracy'}, xlabel='majmin'>,\n",
       "        <Axes: title={'center': 'balanced accuracy'}, xlabel='majmin'>,\n",
       "        <Axes: title={'center': 'f1'}, xlabel='majmin'>],\n",
       "       [<Axes: title={'center': 'precision'}, xlabel='majmin'>,\n",
       "        <Axes: title={'center': 'false positive rate'}, xlabel='majmin'>,\n",
       "        <Axes: title={'center': 'false negative rate'}, xlabel='majmin'>],\n",
       "       [<Axes: title={'center': 'selection rate'}, xlabel='majmin'>,\n",
       "        <Axes: title={'center': 'count'}, xlabel='majmin'>,\n",
       "        <Axes: xlabel='majmin'>]], dtype=object)"
      ]
     },
     "execution_count": 58,
     "metadata": {},
     "output_type": "execute_result"
    },
    {
     "data": {
      "image/png": "[encoded data removed]",
      "text/plain": [
       "<Figure size 1200x800 with 9 Axes>"
      ]
     },
     "metadata": {},
     "output_type": "display_data"
    }
   ],
   "source": [
    "# In a graphic\n",
    "metric_frame.by_group.plot.bar(\n",
    "    subplots=True,\n",
    "    layout=[3, 3],\n",
    "    legend=False,\n",
    "    figsize=[12, 8],\n",
    "    title=\"Show all metrics\",\n",
    ")"
   ]
  },
  {
   "cell_type": "markdown",
   "id": "f57a0bac",
   "metadata": {
    "papermill": {
     "duration": 0.023962,
     "end_time": "2025-07-23T14:50:07.544478",
     "exception": false,
     "start_time": "2025-07-23T14:50:07.520516",
     "status": "completed"
    },
    "tags": []
   },
   "source": [
    "# Final Output"
   ]
  },
  {
   "cell_type": "code",
   "execution_count": 59,
   "id": "96d280a3",
   "metadata": {
    "execution": {
     "iopub.execute_input": "2025-07-23T14:50:07.594665Z",
     "iopub.status.busy": "2025-07-23T14:50:07.593992Z",
     "iopub.status.idle": "2025-07-23T14:50:07.602056Z",
     "shell.execute_reply": "2025-07-23T14:50:07.601040Z"
    },
    "papermill": {
     "duration": 0.034865,
     "end_time": "2025-07-23T14:50:07.603735",
     "exception": false,
     "start_time": "2025-07-23T14:50:07.568870",
     "status": "completed"
    },
    "tags": []
   },
   "outputs": [
    {
     "data": {
      "text/plain": [
       "4"
      ]
     },
     "execution_count": 59,
     "metadata": {},
     "output_type": "execute_result"
    }
   ],
   "source": [
    "sub_universes = universe_analysis.generate_sub_universes()\n",
    "len(sub_universes)"
   ]
  },
  {
   "cell_type": "code",
   "execution_count": 60,
   "id": "92adf7ba",
   "metadata": {
    "execution": {
     "iopub.execute_input": "2025-07-23T14:50:07.655117Z",
     "iopub.status.busy": "2025-07-23T14:50:07.654514Z",
     "iopub.status.idle": "2025-07-23T14:50:07.661216Z",
     "shell.execute_reply": "2025-07-23T14:50:07.660190Z"
    },
    "papermill": {
     "duration": 0.034074,
     "end_time": "2025-07-23T14:50:07.663009",
     "exception": false,
     "start_time": "2025-07-23T14:50:07.628935",
     "status": "completed"
    },
    "tags": []
   },
   "outputs": [],
   "source": [
    "def filter_sub_universe_data(sub_universe, org_test):\n",
    "    # Keep all rows — no filtering\n",
    "    keep_rows_mask = np.ones(org_test.shape[0], dtype=bool)\n",
    "\n",
    "    print(f\"[INFO] Keeping all rows: {keep_rows_mask.sum()} rows retained.\")\n",
    "    return keep_rows_mask"
   ]
  },
  {
   "cell_type": "code",
   "execution_count": 61,
   "id": "4a759155",
   "metadata": {
    "execution": {
     "iopub.execute_input": "2025-07-23T14:50:07.713833Z",
     "iopub.status.busy": "2025-07-23T14:50:07.713344Z",
     "iopub.status.idle": "2025-07-23T14:50:20.102813Z",
     "shell.execute_reply": "2025-07-23T14:50:20.101923Z"
    },
    "papermill": {
     "duration": 12.416793,
     "end_time": "2025-07-23T14:50:20.104468",
     "exception": false,
     "start_time": "2025-07-23T14:50:07.687675",
     "status": "completed"
    },
    "tags": []
   },
   "outputs": [
    {
     "name": "stdout",
     "output_type": "stream",
     "text": [
      "Stopping execution_time clock.\n",
      "[INFO] Keeping all rows: 89710 rows retained.\n"
     ]
    },
    {
     "name": "stdout",
     "output_type": "stream",
     "text": [
      "[INFO] Keeping all rows: 89710 rows retained.\n"
     ]
    },
    {
     "name": "stdout",
     "output_type": "stream",
     "text": [
      "[INFO] Keeping all rows: 89710 rows retained.\n"
     ]
    },
    {
     "name": "stdout",
     "output_type": "stream",
     "text": [
      "[INFO] Keeping all rows: 89710 rows retained.\n"
     ]
    },
    {
     "data": {
      "text/html": [
       "<div>\n",
       "<style scoped>\n",
       "    .dataframe tbody tr th:only-of-type {\n",
       "        vertical-align: middle;\n",
       "    }\n",
       "\n",
       "    .dataframe tbody tr th {\n",
       "        vertical-align: top;\n",
       "    }\n",
       "\n",
       "    .dataframe thead th {\n",
       "        text-align: right;\n",
       "    }\n",
       "</style>\n",
       "<table border=\"1\" class=\"dataframe\">\n",
       "  <thead>\n",
       "    <tr style=\"text-align: right;\">\n",
       "      <th></th>\n",
       "      <th>run_no</th>\n",
       "      <th>universe_id</th>\n",
       "      <th>universe_settings</th>\n",
       "      <th>execution_time</th>\n",
       "      <th>test_size_n</th>\n",
       "      <th>test_size_frac</th>\n",
       "      <th>fair_main_equalized_odds_difference</th>\n",
       "      <th>fair_main_equalized_odds_ratio</th>\n",
       "      <th>fair_main_demographic_parity_difference</th>\n",
       "      <th>fair_main_demographic_parity_ratio</th>\n",
       "      <th>...</th>\n",
       "      <th>perf_grp_precision_0</th>\n",
       "      <th>perf_grp_precision_1</th>\n",
       "      <th>perf_grp_false positive rate_0</th>\n",
       "      <th>perf_grp_false positive rate_1</th>\n",
       "      <th>perf_grp_false negative rate_0</th>\n",
       "      <th>perf_grp_false negative rate_1</th>\n",
       "      <th>perf_grp_selection rate_0</th>\n",
       "      <th>perf_grp_selection rate_1</th>\n",
       "      <th>perf_grp_count_0</th>\n",
       "      <th>perf_grp_count_1</th>\n",
       "    </tr>\n",
       "  </thead>\n",
       "  <tbody>\n",
       "    <tr>\n",
       "      <th>0</th>\n",
       "      <td>9</td>\n",
       "      <td>d7bdbf272aab48e36e28e914be5b0a44</td>\n",
       "      <td>{\"cutoff\": \"quantile_0.1\", \"eval_fairness_grou...</td>\n",
       "      <td>565.500187</td>\n",
       "      <td>89710</td>\n",
       "      <td>1.0</td>\n",
       "      <td>0.098398</td>\n",
       "      <td>0.898011</td>\n",
       "      <td>0.087263</td>\n",
       "      <td>0.909785</td>\n",
       "      <td>...</td>\n",
       "      <td>NaN</td>\n",
       "      <td>NaN</td>\n",
       "      <td>NaN</td>\n",
       "      <td>NaN</td>\n",
       "      <td>NaN</td>\n",
       "      <td>NaN</td>\n",
       "      <td>NaN</td>\n",
       "      <td>NaN</td>\n",
       "      <td>NaN</td>\n",
       "      <td>NaN</td>\n",
       "    </tr>\n",
       "    <tr>\n",
       "      <th>0</th>\n",
       "      <td>9</td>\n",
       "      <td>d7bdbf272aab48e36e28e914be5b0a44</td>\n",
       "      <td>{\"cutoff\": \"quantile_0.1\", \"eval_fairness_grou...</td>\n",
       "      <td>565.500187</td>\n",
       "      <td>89710</td>\n",
       "      <td>1.0</td>\n",
       "      <td>0.098398</td>\n",
       "      <td>0.898011</td>\n",
       "      <td>0.087263</td>\n",
       "      <td>0.909785</td>\n",
       "      <td>...</td>\n",
       "      <td>0.117576</td>\n",
       "      <td>0.145587</td>\n",
       "      <td>0.964781</td>\n",
       "      <td>0.866383</td>\n",
       "      <td>0.013514</td>\n",
       "      <td>0.030416</td>\n",
       "      <td>0.967283</td>\n",
       "      <td>0.880020</td>\n",
       "      <td>20540.0</td>\n",
       "      <td>69170.0</td>\n",
       "    </tr>\n",
       "    <tr>\n",
       "      <th>0</th>\n",
       "      <td>9</td>\n",
       "      <td>d7bdbf272aab48e36e28e914be5b0a44</td>\n",
       "      <td>{\"cutoff\": \"quantile_0.25\", \"eval_fairness_gro...</td>\n",
       "      <td>565.500187</td>\n",
       "      <td>89710</td>\n",
       "      <td>1.0</td>\n",
       "      <td>0.200794</td>\n",
       "      <td>0.771934</td>\n",
       "      <td>0.177122</td>\n",
       "      <td>0.800215</td>\n",
       "      <td>...</td>\n",
       "      <td>NaN</td>\n",
       "      <td>NaN</td>\n",
       "      <td>NaN</td>\n",
       "      <td>NaN</td>\n",
       "      <td>NaN</td>\n",
       "      <td>NaN</td>\n",
       "      <td>NaN</td>\n",
       "      <td>NaN</td>\n",
       "      <td>NaN</td>\n",
       "      <td>NaN</td>\n",
       "    </tr>\n",
       "    <tr>\n",
       "      <th>0</th>\n",
       "      <td>9</td>\n",
       "      <td>d7bdbf272aab48e36e28e914be5b0a44</td>\n",
       "      <td>{\"cutoff\": \"quantile_0.25\", \"eval_fairness_gro...</td>\n",
       "      <td>565.500187</td>\n",
       "      <td>89710</td>\n",
       "      <td>1.0</td>\n",
       "      <td>0.200794</td>\n",
       "      <td>0.771934</td>\n",
       "      <td>0.177122</td>\n",
       "      <td>0.800215</td>\n",
       "      <td>...</td>\n",
       "      <td>0.121417</td>\n",
       "      <td>0.168609</td>\n",
       "      <td>0.880420</td>\n",
       "      <td>0.679627</td>\n",
       "      <td>0.066301</td>\n",
       "      <td>0.094748</td>\n",
       "      <td>0.886563</td>\n",
       "      <td>0.709441</td>\n",
       "      <td>20540.0</td>\n",
       "      <td>69170.0</td>\n",
       "    </tr>\n",
       "  </tbody>\n",
       "</table>\n",
       "<p>4 rows × 50 columns</p>\n",
       "</div>"
      ],
      "text/plain": [
       "  run_no                       universe_id  \\\n",
       "0      9  d7bdbf272aab48e36e28e914be5b0a44   \n",
       "0      9  d7bdbf272aab48e36e28e914be5b0a44   \n",
       "0      9  d7bdbf272aab48e36e28e914be5b0a44   \n",
       "0      9  d7bdbf272aab48e36e28e914be5b0a44   \n",
       "\n",
       "                                   universe_settings  execution_time  \\\n",
       "0  {\"cutoff\": \"quantile_0.1\", \"eval_fairness_grou...      565.500187   \n",
       "0  {\"cutoff\": \"quantile_0.1\", \"eval_fairness_grou...      565.500187   \n",
       "0  {\"cutoff\": \"quantile_0.25\", \"eval_fairness_gro...      565.500187   \n",
       "0  {\"cutoff\": \"quantile_0.25\", \"eval_fairness_gro...      565.500187   \n",
       "\n",
       "   test_size_n  test_size_frac  fair_main_equalized_odds_difference  \\\n",
       "0        89710             1.0                             0.098398   \n",
       "0        89710             1.0                             0.098398   \n",
       "0        89710             1.0                             0.200794   \n",
       "0        89710             1.0                             0.200794   \n",
       "\n",
       "   fair_main_equalized_odds_ratio  fair_main_demographic_parity_difference  \\\n",
       "0                        0.898011                                 0.087263   \n",
       "0                        0.898011                                 0.087263   \n",
       "0                        0.771934                                 0.177122   \n",
       "0                        0.771934                                 0.177122   \n",
       "\n",
       "   fair_main_demographic_parity_ratio  ...  perf_grp_precision_0  \\\n",
       "0                            0.909785  ...                   NaN   \n",
       "0                            0.909785  ...              0.117576   \n",
       "0                            0.800215  ...                   NaN   \n",
       "0                            0.800215  ...              0.121417   \n",
       "\n",
       "   perf_grp_precision_1  perf_grp_false positive rate_0  \\\n",
       "0                   NaN                             NaN   \n",
       "0              0.145587                        0.964781   \n",
       "0                   NaN                             NaN   \n",
       "0              0.168609                        0.880420   \n",
       "\n",
       "   perf_grp_false positive rate_1  perf_grp_false negative rate_0  \\\n",
       "0                             NaN                             NaN   \n",
       "0                        0.866383                        0.013514   \n",
       "0                             NaN                             NaN   \n",
       "0                        0.679627                        0.066301   \n",
       "\n",
       "   perf_grp_false negative rate_1  perf_grp_selection rate_0  \\\n",
       "0                             NaN                        NaN   \n",
       "0                        0.030416                   0.967283   \n",
       "0                             NaN                        NaN   \n",
       "0                        0.094748                   0.886563   \n",
       "\n",
       "   perf_grp_selection rate_1  perf_grp_count_0  perf_grp_count_1  \n",
       "0                        NaN               NaN               NaN  \n",
       "0                   0.880020           20540.0           69170.0  \n",
       "0                        NaN               NaN               NaN  \n",
       "0                   0.709441           20540.0           69170.0  \n",
       "\n",
       "[4 rows x 50 columns]"
      ]
     },
     "execution_count": 61,
     "metadata": {},
     "output_type": "execute_result"
    }
   ],
   "source": [
    "final_output = universe_analysis.generate_final_output(\n",
    "    y_pred_prob=probs_test,\n",
    "    y_test=y_true,\n",
    "    org_test=org_test,\n",
    "    filter_data=filter_sub_universe_data,\n",
    "    cp_metrics_df=cp_metrics_df,\n",
    "    save=True,\n",
    ")\n",
    "final_output"
   ]
  },
  {
   "cell_type": "code",
   "execution_count": null,
   "id": "721ff514-cb11-46f8-b6fc-50392f74b5cb",
   "metadata": {
    "papermill": {
     "duration": 0.025295,
     "end_time": "2025-07-23T14:50:20.157699",
     "exception": false,
     "start_time": "2025-07-23T14:50:20.132404",
     "status": "completed"
    },
    "tags": []
   },
   "outputs": [],
   "source": []
  }
 ],
 "metadata": {
  "celltoolbar": "Tags",
  "kernelspec": {
   "display_name": "Python (CMA Fairness)",
   "language": "python",
   "name": "cma_fair_env"
  },
  "language_info": {
   "codemirror_mode": {
    "name": "ipython",
    "version": 3
   },
   "file_extension": ".py",
   "mimetype": "text/x-python",
   "name": "python",
   "nbconvert_exporter": "python",
   "pygments_lexer": "ipython3",
   "version": "3.10.12"
  },
  "papermill": {
   "default_parameters": {},
   "duration": 582.408958,
   "end_time": "2025-07-23T14:50:20.902103",
   "environment_variables": {},
   "exception": null,
   "input_path": "universe_analysis.ipynb",
   "output_path": "output/runs/9/notebooks/m_9-d7bdbf272aab48e36e28e914be5b0a44.ipynb",
   "parameters": {
    "output_dir": "output",
    "run_no": "9",
    "seed": "2023",
    "universe": "{\"cutoff\": [\"quantile_0.1\", \"quantile_0.25\"], \"eval_fairness_grouping\": [\"majority-minority\", \"nationality-all\"], \"exclude_features\": \"nationality\", \"exclude_subgroups\": \"drop-non-german\", \"model\": \"elasticnet\", \"scale\": \"do-not-scale\"}",
    "universe_id": "d7bdbf272aab48e36e28e914be5b0a44"
   },
   "start_time": "2025-07-23T14:40:38.493145",
   "version": "2.6.0"
  }
 },
 "nbformat": 4,
 "nbformat_minor": 5
}