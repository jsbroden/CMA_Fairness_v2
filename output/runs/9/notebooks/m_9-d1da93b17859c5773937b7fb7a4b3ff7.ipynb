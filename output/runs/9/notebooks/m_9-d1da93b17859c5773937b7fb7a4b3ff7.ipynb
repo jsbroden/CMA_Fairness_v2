{
 "cells": [
  {
   "cell_type": "code",
   "execution_count": 1,
   "id": "f159f837-637b-42ba-96b5-ec9a68c44524",
   "metadata": {
    "execution": {
     "iopub.execute_input": "2025-07-23T14:34:56.586370Z",
     "iopub.status.busy": "2025-07-23T14:34:56.585334Z",
     "iopub.status.idle": "2025-07-23T14:34:56.600326Z",
     "shell.execute_reply": "2025-07-23T14:34:56.599182Z"
    },
    "papermill": {
     "duration": 0.037551,
     "end_time": "2025-07-23T14:34:56.602299",
     "exception": false,
     "start_time": "2025-07-23T14:34:56.564748",
     "status": "completed"
    },
    "tags": []
   },
   "outputs": [
    {
     "name": "stdout",
     "output_type": "stream",
     "text": [
      "/dss/dsshome1/0C/ra93lal2/cma/CMA_Fairness_v2\n"
     ]
    },
    {
     "name": "stderr",
     "output_type": "stream",
     "text": [
      "/dss/dsshome1/0C/ra93lal2/.local/share/virtualenvs/CMA_Fairness_v2-3j10GkSs/lib/python3.10/site-packages/IPython/core/magics/osm.py:393: UserWarning: This is now an optional IPython functionality, using bookmarks requires you to install the `pickleshare` library.\n",
      "  bkms = self.shell.db.get('bookmarks', {})\n",
      "/dss/dsshome1/0C/ra93lal2/.local/share/virtualenvs/CMA_Fairness_v2-3j10GkSs/lib/python3.10/site-packages/IPython/core/magics/osm.py:417: UserWarning: This is now an optional IPython functionality, setting dhist requires you to install the `pickleshare` library.\n",
      "  self.shell.db['dhist'] = compress_dhist(dhist)[-100:]\n"
     ]
    }
   ],
   "source": [
    "%cd ~/cma/CMA_Fairness_v2"
   ]
  },
  {
   "cell_type": "markdown",
   "id": "de2603b9",
   "metadata": {
    "papermill": {
     "duration": 0.016559,
     "end_time": "2025-07-23T14:34:56.636407",
     "exception": false,
     "start_time": "2025-07-23T14:34:56.619848",
     "status": "completed"
    },
    "tags": []
   },
   "source": [
    "The following cell holds the definition of our parameters, these values can be overriden by rendering the with e.g. the following command:\n",
    "\n",
    "papermill -p alpha 0.2 -p ratio 0.3 universe_analysis.ipynb output/test_run.ipynb"
   ]
  },
  {
   "cell_type": "code",
   "execution_count": 2,
   "id": "a80968a0-40bb-4fa9-85ef-2d5eefb01975",
   "metadata": {
    "execution": {
     "iopub.execute_input": "2025-07-23T14:34:56.672168Z",
     "iopub.status.busy": "2025-07-23T14:34:56.671638Z",
     "iopub.status.idle": "2025-07-23T14:34:56.678067Z",
     "shell.execute_reply": "2025-07-23T14:34:56.677012Z"
    },
    "papermill": {
     "duration": 0.027765,
     "end_time": "2025-07-23T14:34:56.680078",
     "exception": false,
     "start_time": "2025-07-23T14:34:56.652313",
     "status": "completed"
    },
    "tags": []
   },
   "outputs": [
    {
     "name": "stdout",
     "output_type": "stream",
     "text": [
      "Current working directory: /dss/dsshome1/0C/ra93lal2/cma/CMA_Fairness_v2\n"
     ]
    }
   ],
   "source": [
    "import os\n",
    "print(\"Current working directory:\", os.getcwd())"
   ]
  },
  {
   "cell_type": "code",
   "execution_count": 3,
   "id": "2dce4c03",
   "metadata": {
    "execution": {
     "iopub.execute_input": "2025-07-23T14:34:56.717225Z",
     "iopub.status.busy": "2025-07-23T14:34:56.716664Z",
     "iopub.status.idle": "2025-07-23T14:34:56.723712Z",
     "shell.execute_reply": "2025-07-23T14:34:56.722616Z"
    },
    "papermill": {
     "duration": 0.028051,
     "end_time": "2025-07-23T14:34:56.725673",
     "exception": false,
     "start_time": "2025-07-23T14:34:56.697622",
     "status": "completed"
    },
    "tags": [
     "parameters"
    ]
   },
   "outputs": [],
   "source": [
    "run_no = 0\n",
    "universe_id = \"test\"\n",
    "universe = {\n",
    "    \"scale\": \"scale\", # \"scale\", \"do-not-scale\",\n",
    "    \"model\": \"elasticnet\", # \"logreg\", \"penalized_logreg\", \"rf\", \"gbm\", \"elasticnet\"\n",
    "    \"cutoff\": [\"quantile_0.15\", \"quantile_0.30\"],\n",
    "    \"exclude_features\": \"age\", # \"none\", \"nationality\", \"sex\", \"nationality-sex\", \"age\"\n",
    "    \"exclude_subgroups\": \"keep-all\", # \"keep-all\", \"drop-non-german\"\n",
    "    #\"training_sample\": \"restricted\", # \"restricted\", \"full\"\n",
    "    \"eval_fairness_grouping\": [\"majority-minority\", \"nationality-all\"]\n",
    "}\n",
    "\n",
    "output_dir=\"./output\"\n",
    "seed=0"
   ]
  },
  {
   "cell_type": "code",
   "execution_count": 4,
   "id": "4d9165e1",
   "metadata": {
    "execution": {
     "iopub.execute_input": "2025-07-23T14:34:56.765162Z",
     "iopub.status.busy": "2025-07-23T14:34:56.764307Z",
     "iopub.status.idle": "2025-07-23T14:34:56.770238Z",
     "shell.execute_reply": "2025-07-23T14:34:56.769136Z"
    },
    "papermill": {
     "duration": 0.028286,
     "end_time": "2025-07-23T14:34:56.772118",
     "exception": false,
     "start_time": "2025-07-23T14:34:56.743832",
     "status": "completed"
    },
    "tags": [
     "injected-parameters"
    ]
   },
   "outputs": [],
   "source": [
    "# Parameters\n",
    "universe_id = \"d1da93b17859c5773937b7fb7a4b3ff7\"\n",
    "run_no = \"9\"\n",
    "universe = \"{\\\"cutoff\\\": [\\\"quantile_0.1\\\", \\\"quantile_0.25\\\"], \\\"eval_fairness_grouping\\\": [\\\"majority-minority\\\", \\\"nationality-all\\\"], \\\"exclude_features\\\": \\\"age\\\", \\\"exclude_subgroups\\\": \\\"keep-all\\\", \\\"model\\\": \\\"logreg\\\", \\\"scale\\\": \\\"do-not-scale\\\"}\"\n",
    "output_dir = \"output\"\n",
    "seed = \"2023\"\n"
   ]
  },
  {
   "cell_type": "code",
   "execution_count": 5,
   "id": "1650acaf",
   "metadata": {
    "execution": {
     "iopub.execute_input": "2025-07-23T14:34:56.809972Z",
     "iopub.status.busy": "2025-07-23T14:34:56.809077Z",
     "iopub.status.idle": "2025-07-23T14:34:56.815741Z",
     "shell.execute_reply": "2025-07-23T14:34:56.813630Z"
    },
    "papermill": {
     "duration": 0.026912,
     "end_time": "2025-07-23T14:34:56.817823",
     "exception": false,
     "start_time": "2025-07-23T14:34:56.790911",
     "status": "completed"
    },
    "tags": []
   },
   "outputs": [],
   "source": [
    "import json\n",
    "# Parse universe into dict if it is passed as a string\n",
    "if isinstance(universe, str):\n",
    "    universe = json.loads(universe)"
   ]
  },
  {
   "cell_type": "code",
   "execution_count": 6,
   "id": "16620c48",
   "metadata": {
    "execution": {
     "iopub.execute_input": "2025-07-23T14:34:56.861190Z",
     "iopub.status.busy": "2025-07-23T14:34:56.860160Z",
     "iopub.status.idle": "2025-07-23T14:34:56.912240Z",
     "shell.execute_reply": "2025-07-23T14:34:56.911319Z"
    },
    "papermill": {
     "duration": 0.074875,
     "end_time": "2025-07-23T14:34:56.913891",
     "exception": false,
     "start_time": "2025-07-23T14:34:56.839016",
     "status": "completed"
    },
    "tags": []
   },
   "outputs": [],
   "source": [
    "# Auto-reload the custom package\n",
    "%load_ext autoreload\n",
    "%autoreload 1\n",
    "%aimport fairness_multiverse"
   ]
  },
  {
   "cell_type": "code",
   "execution_count": 7,
   "id": "01c5c9f3",
   "metadata": {
    "execution": {
     "iopub.execute_input": "2025-07-23T14:34:56.934566Z",
     "iopub.status.busy": "2025-07-23T14:34:56.934095Z",
     "iopub.status.idle": "2025-07-23T14:34:59.052449Z",
     "shell.execute_reply": "2025-07-23T14:34:59.051360Z"
    },
    "papermill": {
     "duration": 2.131173,
     "end_time": "2025-07-23T14:34:59.054613",
     "exception": false,
     "start_time": "2025-07-23T14:34:56.923440",
     "status": "completed"
    },
    "tags": []
   },
   "outputs": [],
   "source": [
    "from fairness_multiverse.universe import UniverseAnalysis\n",
    "\n",
    "universe_analysis = UniverseAnalysis(\n",
    "    run_no = run_no,\n",
    "    universe_id = universe_id,\n",
    "    universe = universe,\n",
    "    output_dir=output_dir,\n",
    ")"
   ]
  },
  {
   "cell_type": "code",
   "execution_count": 8,
   "id": "106241f5",
   "metadata": {
    "execution": {
     "iopub.execute_input": "2025-07-23T14:34:59.091243Z",
     "iopub.status.busy": "2025-07-23T14:34:59.090382Z",
     "iopub.status.idle": "2025-07-23T14:34:59.098383Z",
     "shell.execute_reply": "2025-07-23T14:34:59.097158Z"
    },
    "papermill": {
     "duration": 0.028173,
     "end_time": "2025-07-23T14:34:59.100167",
     "exception": false,
     "start_time": "2025-07-23T14:34:59.071994",
     "status": "completed"
    },
    "tags": []
   },
   "outputs": [
    {
     "name": "stdout",
     "output_type": "stream",
     "text": [
      "Using Seed: 2023\n"
     ]
    }
   ],
   "source": [
    "import numpy as np\n",
    "parsed_seed = int(seed)\n",
    "np.random.seed(parsed_seed)\n",
    "print(f\"Using Seed: {parsed_seed}\")"
   ]
  },
  {
   "cell_type": "markdown",
   "id": "e0ebdc57",
   "metadata": {
    "papermill": {
     "duration": 0.01793,
     "end_time": "2025-07-23T14:34:59.136416",
     "exception": false,
     "start_time": "2025-07-23T14:34:59.118486",
     "status": "completed"
    },
    "tags": []
   },
   "source": [
    "# Loading Data"
   ]
  },
  {
   "cell_type": "markdown",
   "id": "681925a3",
   "metadata": {
    "papermill": {
     "duration": 0.017424,
     "end_time": "2025-07-23T14:34:59.171338",
     "exception": false,
     "start_time": "2025-07-23T14:34:59.153914",
     "status": "completed"
    },
    "tags": []
   },
   "source": [
    "Load siab_train, siab_test, siab_calib and/or \n",
    "load siab_train_features, siab_train_labels"
   ]
  },
  {
   "cell_type": "code",
   "execution_count": 9,
   "id": "f0496b8a",
   "metadata": {
    "execution": {
     "iopub.execute_input": "2025-07-23T14:34:59.211227Z",
     "iopub.status.busy": "2025-07-23T14:34:59.210646Z",
     "iopub.status.idle": "2025-07-23T14:34:59.217765Z",
     "shell.execute_reply": "2025-07-23T14:34:59.216691Z"
    },
    "papermill": {
     "duration": 0.029923,
     "end_time": "2025-07-23T14:34:59.219664",
     "exception": false,
     "start_time": "2025-07-23T14:34:59.189741",
     "status": "completed"
    },
    "tags": []
   },
   "outputs": [],
   "source": [
    "# Do I need to load siab? Delete this cell?\n",
    "\n",
    "#from pathlib import Path\n",
    "#import pandas as pd\n",
    "#\n",
    "## File paths\n",
    "#raw_file = Path(\"data/raw/siab.csv\")\n",
    "#cache_file = Path(\"data/siab_cached.csv.gz\")\n",
    "#\n",
    "## Ensure cache directory exists\n",
    "#cache_file.parent.mkdir(parents=True, exist_ok=True)\n",
    "#\n",
    "## Load with simple caching\n",
    "#if cache_file.exists():\n",
    "#    print(f\"Loading SIAB data from cache: {cache_file}\")\n",
    "#    siab = pd.read_csv(cache_file, compression='gzip')\n",
    "#else:\n",
    "#    print(f\"Cache not found. Reading raw SIAB data: {raw_file}\")\n",
    "#    siab = pd.read_csv(raw_file)\n",
    "#    siab.to_csv(cache_file, index=False, compression='gzip')\n",
    "#    print(f\"Cached SIAB data to: {cache_file}\")\n",
    "#\n",
    "## Now use `siab` DataFrame as needed\n",
    "#print(siab.shape)\n"
   ]
  },
  {
   "cell_type": "code",
   "execution_count": 10,
   "id": "a0edb063",
   "metadata": {
    "execution": {
     "iopub.execute_input": "2025-07-23T14:34:59.259630Z",
     "iopub.status.busy": "2025-07-23T14:34:59.258578Z",
     "iopub.status.idle": "2025-07-23T14:35:00.342805Z",
     "shell.execute_reply": "2025-07-23T14:35:00.341664Z"
    },
    "papermill": {
     "duration": 1.106898,
     "end_time": "2025-07-23T14:35:00.345135",
     "exception": false,
     "start_time": "2025-07-23T14:34:59.238237",
     "status": "completed"
    },
    "tags": []
   },
   "outputs": [],
   "source": [
    "import pandas as pd\n",
    "\n",
    "X_train = pd.read_csv(\"./data/X_train.csv\")\n",
    "y_train = pd.read_csv(\"./data/y_train.csv\")"
   ]
  },
  {
   "cell_type": "code",
   "execution_count": 11,
   "id": "63d08085",
   "metadata": {
    "execution": {
     "iopub.execute_input": "2025-07-23T14:35:00.388060Z",
     "iopub.status.busy": "2025-07-23T14:35:00.387254Z",
     "iopub.status.idle": "2025-07-23T14:35:01.907310Z",
     "shell.execute_reply": "2025-07-23T14:35:01.906251Z"
    },
    "papermill": {
     "duration": 1.544059,
     "end_time": "2025-07-23T14:35:01.909553",
     "exception": false,
     "start_time": "2025-07-23T14:35:00.365494",
     "status": "completed"
    },
    "tags": []
   },
   "outputs": [],
   "source": [
    "X_test = pd.read_csv(\"./data/X_test.csv\")\n",
    "y_true = pd.read_csv(\"./data/y_test.csv\")"
   ]
  },
  {
   "cell_type": "code",
   "execution_count": 12,
   "id": "98a8d0fa-1d3d-4ed8-bb2c-281470e24add",
   "metadata": {
    "execution": {
     "iopub.execute_input": "2025-07-23T14:35:01.944750Z",
     "iopub.status.busy": "2025-07-23T14:35:01.944020Z",
     "iopub.status.idle": "2025-07-23T14:35:03.016446Z",
     "shell.execute_reply": "2025-07-23T14:35:03.015590Z"
    },
    "papermill": {
     "duration": 1.088613,
     "end_time": "2025-07-23T14:35:03.018079",
     "exception": false,
     "start_time": "2025-07-23T14:35:01.929466",
     "status": "completed"
    },
    "tags": []
   },
   "outputs": [],
   "source": [
    "# Calibration data for conformal\n",
    "X_calib = pd.read_csv(\"./data/X_calib.csv\")\n",
    "y_calib = pd.read_csv(\"./data/y_calib.csv\")"
   ]
  },
  {
   "cell_type": "code",
   "execution_count": 13,
   "id": "e6c733c5",
   "metadata": {
    "execution": {
     "iopub.execute_input": "2025-07-23T14:35:03.038600Z",
     "iopub.status.busy": "2025-07-23T14:35:03.037966Z",
     "iopub.status.idle": "2025-07-23T14:35:03.160642Z",
     "shell.execute_reply": "2025-07-23T14:35:03.159830Z"
    },
    "papermill": {
     "duration": 0.134487,
     "end_time": "2025-07-23T14:35:03.162213",
     "exception": false,
     "start_time": "2025-07-23T14:35:03.027726",
     "status": "completed"
    },
    "tags": []
   },
   "outputs": [],
   "source": [
    "# Auxiliary data needed downstream in the pipeline\n",
    "\n",
    "org_train = X_train.copy()\n",
    "org_test = X_test.copy()\n",
    "org_calib = X_calib.copy()"
   ]
  },
  {
   "cell_type": "markdown",
   "id": "0a4a1b33",
   "metadata": {
    "papermill": {
     "duration": 0.009151,
     "end_time": "2025-07-23T14:35:03.181177",
     "exception": false,
     "start_time": "2025-07-23T14:35:03.172026",
     "status": "completed"
    },
    "tags": []
   },
   "source": [
    "# Preprocessing Data"
   ]
  },
  {
   "cell_type": "code",
   "execution_count": 14,
   "id": "ca879031",
   "metadata": {
    "execution": {
     "iopub.execute_input": "2025-07-23T14:35:03.201168Z",
     "iopub.status.busy": "2025-07-23T14:35:03.200351Z",
     "iopub.status.idle": "2025-07-23T14:35:03.205705Z",
     "shell.execute_reply": "2025-07-23T14:35:03.204976Z"
    },
    "papermill": {
     "duration": 0.017012,
     "end_time": "2025-07-23T14:35:03.207263",
     "exception": false,
     "start_time": "2025-07-23T14:35:03.190251",
     "status": "completed"
    },
    "tags": []
   },
   "outputs": [],
   "source": [
    "# EXCLUDE PROTECTED FEATURES\n",
    "# ----------------------\n",
    "# \"exclude_features\": \"none\", # \"nationality\", \"sex\", \"nationality-sex\"\n",
    "\n",
    "excluded_features = universe[\"exclude_features\"].split(\"-\") # split, e.g.: \"nationality-sex\" -> [\"nationality\", \"sex\"]\n",
    "excluded_features_dictionary = {\n",
    "    \"nationality\": [\"maxdeutsch1\", \"maxdeutsch.Missing.\"],\n",
    "    \"sex\": [\"frau1\"],\n",
    "    \"age\": [\"age\"],\n",
    "}\n"
   ]
  },
  {
   "cell_type": "code",
   "execution_count": 15,
   "id": "b745ac60",
   "metadata": {
    "execution": {
     "iopub.execute_input": "2025-07-23T14:35:03.228367Z",
     "iopub.status.busy": "2025-07-23T14:35:03.227654Z",
     "iopub.status.idle": "2025-07-23T14:35:03.232867Z",
     "shell.execute_reply": "2025-07-23T14:35:03.232154Z"
    },
    "papermill": {
     "duration": 0.016965,
     "end_time": "2025-07-23T14:35:03.234353",
     "exception": false,
     "start_time": "2025-07-23T14:35:03.217388",
     "status": "completed"
    },
    "tags": []
   },
   "outputs": [],
   "source": [
    "# Code nice names to column names\n",
    "\n",
    "excluded_features_columns = [\n",
    "    excluded_features_dictionary[f] for f in excluded_features if len(f) > 0 and f != \"none\"\n",
    "]"
   ]
  },
  {
   "cell_type": "code",
   "execution_count": 16,
   "id": "f84f73a2",
   "metadata": {
    "execution": {
     "iopub.execute_input": "2025-07-23T14:35:03.255147Z",
     "iopub.status.busy": "2025-07-23T14:35:03.254623Z",
     "iopub.status.idle": "2025-07-23T14:35:03.263347Z",
     "shell.execute_reply": "2025-07-23T14:35:03.262209Z"
    },
    "papermill": {
     "duration": 0.021122,
     "end_time": "2025-07-23T14:35:03.265676",
     "exception": false,
     "start_time": "2025-07-23T14:35:03.244554",
     "status": "completed"
    },
    "tags": []
   },
   "outputs": [],
   "source": [
    "from utils import flatten_once\n",
    "\n",
    "excluded_features_columns = flatten_once(excluded_features_columns)"
   ]
  },
  {
   "cell_type": "code",
   "execution_count": 17,
   "id": "884dea22",
   "metadata": {
    "execution": {
     "iopub.execute_input": "2025-07-23T14:35:03.307995Z",
     "iopub.status.busy": "2025-07-23T14:35:03.307466Z",
     "iopub.status.idle": "2025-07-23T14:35:03.383675Z",
     "shell.execute_reply": "2025-07-23T14:35:03.382520Z"
    },
    "papermill": {
     "duration": 0.099733,
     "end_time": "2025-07-23T14:35:03.385585",
     "exception": false,
     "start_time": "2025-07-23T14:35:03.285852",
     "status": "completed"
    },
    "tags": []
   },
   "outputs": [
    {
     "name": "stdout",
     "output_type": "stream",
     "text": [
      "Dropping features: ['age']\n"
     ]
    }
   ],
   "source": [
    "if len(excluded_features_columns) > 0:\n",
    "    print(f\"Dropping features: {excluded_features_columns}\")\n",
    "    X_train.drop(excluded_features_columns, axis=1, inplace=True)"
   ]
  },
  {
   "cell_type": "code",
   "execution_count": 18,
   "id": "95ab8b16",
   "metadata": {
    "execution": {
     "iopub.execute_input": "2025-07-23T14:35:03.428151Z",
     "iopub.status.busy": "2025-07-23T14:35:03.427062Z",
     "iopub.status.idle": "2025-07-23T14:35:03.485126Z",
     "shell.execute_reply": "2025-07-23T14:35:03.483950Z"
    },
    "papermill": {
     "duration": 0.080907,
     "end_time": "2025-07-23T14:35:03.486976",
     "exception": false,
     "start_time": "2025-07-23T14:35:03.406069",
     "status": "completed"
    },
    "tags": []
   },
   "outputs": [
    {
     "name": "stdout",
     "output_type": "stream",
     "text": [
      "Dropping features: ['age']\n"
     ]
    }
   ],
   "source": [
    "if len(excluded_features_columns) > 0:\n",
    "    print(f\"Dropping features: {excluded_features_columns}\")\n",
    "    X_test.drop(excluded_features_columns, axis=1, inplace=True)"
   ]
  },
  {
   "cell_type": "code",
   "execution_count": 19,
   "id": "1853aaf5-fb9f-46cb-a2b5-8ea4ae2237e4",
   "metadata": {
    "execution": {
     "iopub.execute_input": "2025-07-23T14:35:03.530057Z",
     "iopub.status.busy": "2025-07-23T14:35:03.529507Z",
     "iopub.status.idle": "2025-07-23T14:35:03.588352Z",
     "shell.execute_reply": "2025-07-23T14:35:03.587202Z"
    },
    "papermill": {
     "duration": 0.082977,
     "end_time": "2025-07-23T14:35:03.590500",
     "exception": false,
     "start_time": "2025-07-23T14:35:03.507523",
     "status": "completed"
    },
    "tags": []
   },
   "outputs": [
    {
     "name": "stdout",
     "output_type": "stream",
     "text": [
      "Dropping features: ['age']\n"
     ]
    }
   ],
   "source": [
    "if len(excluded_features_columns) > 0:\n",
    "    print(f\"Dropping features: {excluded_features_columns}\")\n",
    "    X_calib.drop(excluded_features_columns, axis=1, inplace=True)"
   ]
  },
  {
   "cell_type": "code",
   "execution_count": 20,
   "id": "76c4dc6d",
   "metadata": {
    "execution": {
     "iopub.execute_input": "2025-07-23T14:35:03.638121Z",
     "iopub.status.busy": "2025-07-23T14:35:03.637542Z",
     "iopub.status.idle": "2025-07-23T14:35:03.644028Z",
     "shell.execute_reply": "2025-07-23T14:35:03.642838Z"
    },
    "papermill": {
     "duration": 0.034464,
     "end_time": "2025-07-23T14:35:03.645923",
     "exception": false,
     "start_time": "2025-07-23T14:35:03.611459",
     "status": "completed"
    },
    "tags": []
   },
   "outputs": [],
   "source": [
    "# EXCLUDE CERTAIN SUBGROUPS\n",
    "# ----------------------\n",
    "\n",
    "mode = universe.get(\"exclude_subgroups\", \"keep-all\") \n",
    "# Fetches the exclude_subgroups setting from the universe dict.\n",
    "# Defaults to \"keep-all\" if the key is missing."
   ]
  },
  {
   "cell_type": "code",
   "execution_count": 21,
   "id": "21994072",
   "metadata": {
    "execution": {
     "iopub.execute_input": "2025-07-23T14:35:03.691792Z",
     "iopub.status.busy": "2025-07-23T14:35:03.691024Z",
     "iopub.status.idle": "2025-07-23T14:35:03.699767Z",
     "shell.execute_reply": "2025-07-23T14:35:03.698519Z"
    },
    "papermill": {
     "duration": 0.033829,
     "end_time": "2025-07-23T14:35:03.701815",
     "exception": false,
     "start_time": "2025-07-23T14:35:03.667986",
     "status": "completed"
    },
    "tags": []
   },
   "outputs": [],
   "source": [
    "if mode == \"keep-all\":\n",
    "    keep_mask = pd.Series(True, index=org_train.index)\n",
    "\n",
    "# org_train contains the original feature columns from features_org (in Simson)\n",
    "# features_org contains unprocessed features, for me X_train at beginning ???\n",
    "# For keep-all, creates a boolean Series (keep_mask) of all True, so no rows are removed.\n",
    "\n",
    "elif mode == \"drop-non-german\":\n",
    "    keep_mask = org_train[\"maxdeutsch1\"] == 1 # ??? what about missing values?\n",
    "\n",
    "else:\n",
    "    raise ValueError(f\"Unsupported mode for exclude_subgroups: {mode}\")\n"
   ]
  },
  {
   "cell_type": "code",
   "execution_count": 22,
   "id": "71651440",
   "metadata": {
    "execution": {
     "iopub.execute_input": "2025-07-23T14:35:03.747817Z",
     "iopub.status.busy": "2025-07-23T14:35:03.747111Z",
     "iopub.status.idle": "2025-07-23T14:35:03.756626Z",
     "shell.execute_reply": "2025-07-23T14:35:03.754915Z"
    },
    "papermill": {
     "duration": 0.035476,
     "end_time": "2025-07-23T14:35:03.758874",
     "exception": false,
     "start_time": "2025-07-23T14:35:03.723398",
     "status": "completed"
    },
    "tags": []
   },
   "outputs": [],
   "source": [
    "n_drop = (~keep_mask).sum() # Calculates how many rows are set to be dropped\n",
    "if n_drop > 0:\n",
    "    pct = n_drop / len(keep_mask) * 100\n",
    "    print(f\"Dropping {n_drop} rows ({pct:.2f}%) where mode='{mode}'\")"
   ]
  },
  {
   "cell_type": "code",
   "execution_count": 23,
   "id": "5fb8eee5",
   "metadata": {
    "execution": {
     "iopub.execute_input": "2025-07-23T14:35:03.805312Z",
     "iopub.status.busy": "2025-07-23T14:35:03.804159Z",
     "iopub.status.idle": "2025-07-23T14:35:03.897987Z",
     "shell.execute_reply": "2025-07-23T14:35:03.896882Z"
    },
    "papermill": {
     "duration": 0.119151,
     "end_time": "2025-07-23T14:35:03.900309",
     "exception": false,
     "start_time": "2025-07-23T14:35:03.781158",
     "status": "completed"
    },
    "tags": []
   },
   "outputs": [],
   "source": [
    "X_train = X_train[keep_mask]"
   ]
  },
  {
   "cell_type": "code",
   "execution_count": 24,
   "id": "b202bb3a",
   "metadata": {
    "execution": {
     "iopub.execute_input": "2025-07-23T14:35:03.945502Z",
     "iopub.status.busy": "2025-07-23T14:35:03.944968Z",
     "iopub.status.idle": "2025-07-23T14:35:03.954280Z",
     "shell.execute_reply": "2025-07-23T14:35:03.953031Z"
    },
    "papermill": {
     "duration": 0.034208,
     "end_time": "2025-07-23T14:35:03.956382",
     "exception": false,
     "start_time": "2025-07-23T14:35:03.922174",
     "status": "completed"
    },
    "tags": []
   },
   "outputs": [],
   "source": [
    "y_train = y_train[keep_mask]"
   ]
  },
  {
   "cell_type": "markdown",
   "id": "493e2ac3",
   "metadata": {
    "papermill": {
     "duration": 0.02156,
     "end_time": "2025-07-23T14:35:04.000036",
     "exception": false,
     "start_time": "2025-07-23T14:35:03.978476",
     "status": "completed"
    },
    "tags": []
   },
   "source": [
    "# Model Training"
   ]
  },
  {
   "cell_type": "code",
   "execution_count": 25,
   "id": "679e1268",
   "metadata": {
    "execution": {
     "iopub.execute_input": "2025-07-23T14:35:04.045250Z",
     "iopub.status.busy": "2025-07-23T14:35:04.044518Z",
     "iopub.status.idle": "2025-07-23T14:35:04.158587Z",
     "shell.execute_reply": "2025-07-23T14:35:04.157385Z"
    },
    "papermill": {
     "duration": 0.138892,
     "end_time": "2025-07-23T14:35:04.160781",
     "exception": false,
     "start_time": "2025-07-23T14:35:04.021889",
     "status": "completed"
    },
    "tags": []
   },
   "outputs": [],
   "source": [
    "from sklearn.linear_model import LogisticRegression\n",
    "from sklearn.ensemble import GradientBoostingClassifier, RandomForestClassifier\n",
    "\n",
    "if (universe[\"model\"] == \"logreg\"):\n",
    "    model = LogisticRegression() #penalty=\"none\") #, solver=\"newton-cg\", max_iter=1) # include random_state=19 ?\n",
    "elif (universe[\"model\"] == \"penalized_logreg\"):\n",
    "    model = LogisticRegression(penalty=\"l2\", C=1.0) #, solver=\"newton-cg\", max_iter=1)\n",
    "elif (universe[\"model\"] == \"rf\"):\n",
    "    model = RandomForestClassifier(n_estimators=100, n_jobs=-1)\n",
    "elif (universe[\"model\"] == \"gbm\"):\n",
    "    model = GradientBoostingClassifier()\n",
    "elif (universe[\"model\"] == \"elasticnet\"):\n",
    "    model = LogisticRegression(penalty = 'elasticnet', solver = 'saga', l1_ratio = 0.5, max_iter=5000) # which solver to use?\n",
    "else:\n",
    "    raise \"Unsupported universe.model\""
   ]
  },
  {
   "cell_type": "code",
   "execution_count": 26,
   "id": "0cc8f744",
   "metadata": {
    "execution": {
     "iopub.execute_input": "2025-07-23T14:35:04.206241Z",
     "iopub.status.busy": "2025-07-23T14:35:04.205695Z",
     "iopub.status.idle": "2025-07-23T14:35:04.212490Z",
     "shell.execute_reply": "2025-07-23T14:35:04.211426Z"
    },
    "papermill": {
     "duration": 0.031748,
     "end_time": "2025-07-23T14:35:04.214569",
     "exception": false,
     "start_time": "2025-07-23T14:35:04.182821",
     "status": "completed"
    },
    "tags": []
   },
   "outputs": [],
   "source": [
    "import numpy as np\n",
    "from sklearn.pipeline import Pipeline\n",
    "from sklearn.preprocessing import StandardScaler\n",
    "\n",
    "model = Pipeline([\n",
    "    #(\"continuous_processor\", continuous_processor),\n",
    "    #(\"categorical_preprocessor\", categorical_preprocessor),\n",
    "    (\"scale\", StandardScaler() if universe[\"scale\"] == \"scale\" else None), \n",
    "    (\"model\", model),\n",
    "])"
   ]
  },
  {
   "cell_type": "code",
   "execution_count": 27,
   "id": "9442c04d",
   "metadata": {
    "execution": {
     "iopub.execute_input": "2025-07-23T14:35:04.258094Z",
     "iopub.status.busy": "2025-07-23T14:35:04.257417Z",
     "iopub.status.idle": "2025-07-23T14:35:07.852438Z",
     "shell.execute_reply": "2025-07-23T14:35:07.851268Z"
    },
    "papermill": {
     "duration": 3.617254,
     "end_time": "2025-07-23T14:35:07.854258",
     "exception": false,
     "start_time": "2025-07-23T14:35:04.237004",
     "status": "completed"
    },
    "tags": []
   },
   "outputs": [
    {
     "name": "stderr",
     "output_type": "stream",
     "text": [
      "/dss/dsshome1/0C/ra93lal2/.local/share/virtualenvs/CMA_Fairness_v2-3j10GkSs/lib/python3.10/site-packages/sklearn/linear_model/_logistic.py:444: ConvergenceWarning: lbfgs failed to converge (status=1):\n",
      "STOP: TOTAL NO. of ITERATIONS REACHED LIMIT.\n",
      "\n",
      "Increase the number of iterations (max_iter) or scale the data as shown in:\n",
      "    https://scikit-learn.org/stable/modules/preprocessing.html\n",
      "Please also refer to the documentation for alternative solver options:\n",
      "    https://scikit-learn.org/stable/modules/linear_model.html#logistic-regression\n",
      "  n_iter_i = _check_optimize_result(\n"
     ]
    },
    {
     "data": {
      "text/html": [
       "<style>#sk-container-id-1 {color: black;background-color: white;}#sk-container-id-1 pre{padding: 0;}#sk-container-id-1 div.sk-toggleable {background-color: white;}#sk-container-id-1 label.sk-toggleable__label {cursor: pointer;display: block;width: 100%;margin-bottom: 0;padding: 0.3em;box-sizing: border-box;text-align: center;}#sk-container-id-1 label.sk-toggleable__label-arrow:before {content: \"▸\";float: left;margin-right: 0.25em;color: #696969;}#sk-container-id-1 label.sk-toggleable__label-arrow:hover:before {color: black;}#sk-container-id-1 div.sk-estimator:hover label.sk-toggleable__label-arrow:before {color: black;}#sk-container-id-1 div.sk-toggleable__content {max-height: 0;max-width: 0;overflow: hidden;text-align: left;background-color: #f0f8ff;}#sk-container-id-1 div.sk-toggleable__content pre {margin: 0.2em;color: black;border-radius: 0.25em;background-color: #f0f8ff;}#sk-container-id-1 input.sk-toggleable__control:checked~div.sk-toggleable__content {max-height: 200px;max-width: 100%;overflow: auto;}#sk-container-id-1 input.sk-toggleable__control:checked~label.sk-toggleable__label-arrow:before {content: \"▾\";}#sk-container-id-1 div.sk-estimator input.sk-toggleable__control:checked~label.sk-toggleable__label {background-color: #d4ebff;}#sk-container-id-1 div.sk-label input.sk-toggleable__control:checked~label.sk-toggleable__label {background-color: #d4ebff;}#sk-container-id-1 input.sk-hidden--visually {border: 0;clip: rect(1px 1px 1px 1px);clip: rect(1px, 1px, 1px, 1px);height: 1px;margin: -1px;overflow: hidden;padding: 0;position: absolute;width: 1px;}#sk-container-id-1 div.sk-estimator {font-family: monospace;background-color: #f0f8ff;border: 1px dotted black;border-radius: 0.25em;box-sizing: border-box;margin-bottom: 0.5em;}#sk-container-id-1 div.sk-estimator:hover {background-color: #d4ebff;}#sk-container-id-1 div.sk-parallel-item::after {content: \"\";width: 100%;border-bottom: 1px solid gray;flex-grow: 1;}#sk-container-id-1 div.sk-label:hover label.sk-toggleable__label {background-color: #d4ebff;}#sk-container-id-1 div.sk-serial::before {content: \"\";position: absolute;border-left: 1px solid gray;box-sizing: border-box;top: 0;bottom: 0;left: 50%;z-index: 0;}#sk-container-id-1 div.sk-serial {display: flex;flex-direction: column;align-items: center;background-color: white;padding-right: 0.2em;padding-left: 0.2em;position: relative;}#sk-container-id-1 div.sk-item {position: relative;z-index: 1;}#sk-container-id-1 div.sk-parallel {display: flex;align-items: stretch;justify-content: center;background-color: white;position: relative;}#sk-container-id-1 div.sk-item::before, #sk-container-id-1 div.sk-parallel-item::before {content: \"\";position: absolute;border-left: 1px solid gray;box-sizing: border-box;top: 0;bottom: 0;left: 50%;z-index: -1;}#sk-container-id-1 div.sk-parallel-item {display: flex;flex-direction: column;z-index: 1;position: relative;background-color: white;}#sk-container-id-1 div.sk-parallel-item:first-child::after {align-self: flex-end;width: 50%;}#sk-container-id-1 div.sk-parallel-item:last-child::after {align-self: flex-start;width: 50%;}#sk-container-id-1 div.sk-parallel-item:only-child::after {width: 0;}#sk-container-id-1 div.sk-dashed-wrapped {border: 1px dashed gray;margin: 0 0.4em 0.5em 0.4em;box-sizing: border-box;padding-bottom: 0.4em;background-color: white;}#sk-container-id-1 div.sk-label label {font-family: monospace;font-weight: bold;display: inline-block;line-height: 1.2em;}#sk-container-id-1 div.sk-label-container {text-align: center;}#sk-container-id-1 div.sk-container {/* jupyter's `normalize.less` sets `[hidden] { display: none; }` but bootstrap.min.css set `[hidden] { display: none !important; }` so we also need the `!important` here to be able to override the default hidden behavior on the sphinx rendered scikit-learn.org. See: https://github.com/scikit-learn/scikit-learn/issues/21755 */display: inline-block !important;position: relative;}#sk-container-id-1 div.sk-text-repr-fallback {display: none;}</style><div id=\"sk-container-id-1\" class=\"sk-top-container\"><div class=\"sk-text-repr-fallback\"><pre>Pipeline(steps=[(&#x27;scale&#x27;, None), (&#x27;model&#x27;, LogisticRegression())])</pre><b>In a Jupyter environment, please rerun this cell to show the HTML representation or trust the notebook. <br />On GitHub, the HTML representation is unable to render, please try loading this page with nbviewer.org.</b></div><div class=\"sk-container\" hidden><div class=\"sk-item sk-dashed-wrapped\"><div class=\"sk-label-container\"><div class=\"sk-label sk-toggleable\"><input class=\"sk-toggleable__control sk-hidden--visually\" id=\"sk-estimator-id-1\" type=\"checkbox\" ><label for=\"sk-estimator-id-1\" class=\"sk-toggleable__label sk-toggleable__label-arrow\">Pipeline</label><div class=\"sk-toggleable__content\"><pre>Pipeline(steps=[(&#x27;scale&#x27;, None), (&#x27;model&#x27;, LogisticRegression())])</pre></div></div></div><div class=\"sk-serial\"><div class=\"sk-item\"><div class=\"sk-estimator sk-toggleable\"><input class=\"sk-toggleable__control sk-hidden--visually\" id=\"sk-estimator-id-2\" type=\"checkbox\" ><label for=\"sk-estimator-id-2\" class=\"sk-toggleable__label sk-toggleable__label-arrow\">None</label><div class=\"sk-toggleable__content\"><pre>None</pre></div></div></div><div class=\"sk-item\"><div class=\"sk-estimator sk-toggleable\"><input class=\"sk-toggleable__control sk-hidden--visually\" id=\"sk-estimator-id-3\" type=\"checkbox\" ><label for=\"sk-estimator-id-3\" class=\"sk-toggleable__label sk-toggleable__label-arrow\">LogisticRegression</label><div class=\"sk-toggleable__content\"><pre>LogisticRegression()</pre></div></div></div></div></div></div></div>"
      ],
      "text/plain": [
       "Pipeline(steps=[('scale', None), ('model', LogisticRegression())])"
      ]
     },
     "execution_count": 27,
     "metadata": {},
     "output_type": "execute_result"
    }
   ],
   "source": [
    "model.fit(X_train, y_train.values.ravel())"
   ]
  },
  {
   "cell_type": "code",
   "execution_count": 28,
   "id": "af59f8c0",
   "metadata": {
    "execution": {
     "iopub.execute_input": "2025-07-23T14:35:07.896175Z",
     "iopub.status.busy": "2025-07-23T14:35:07.895535Z",
     "iopub.status.idle": "2025-07-23T14:35:07.902292Z",
     "shell.execute_reply": "2025-07-23T14:35:07.901152Z"
    },
    "papermill": {
     "duration": 0.030054,
     "end_time": "2025-07-23T14:35:07.903998",
     "exception": false,
     "start_time": "2025-07-23T14:35:07.873944",
     "status": "completed"
    },
    "tags": []
   },
   "outputs": [],
   "source": [
    "from fairness_multiverse.universe import predict_w_threshold"
   ]
  },
  {
   "cell_type": "code",
   "execution_count": 29,
   "id": "a7cf2e16",
   "metadata": {
    "execution": {
     "iopub.execute_input": "2025-07-23T14:35:07.954388Z",
     "iopub.status.busy": "2025-07-23T14:35:07.953307Z",
     "iopub.status.idle": "2025-07-23T14:35:08.091302Z",
     "shell.execute_reply": "2025-07-23T14:35:08.090265Z"
    },
    "papermill": {
     "duration": 0.16231,
     "end_time": "2025-07-23T14:35:08.093358",
     "exception": false,
     "start_time": "2025-07-23T14:35:07.931048",
     "status": "completed"
    },
    "tags": []
   },
   "outputs": [
    {
     "data": {
      "text/plain": [
       "0.8613643963883625"
      ]
     },
     "execution_count": 29,
     "metadata": {},
     "output_type": "execute_result"
    }
   ],
   "source": [
    "probs_test = model.predict_proba(X_test)\n",
    "\n",
    "'''\n",
    "Below code returns a boolean array (or binary 0/1 array depending on how it’s used) where each element \n",
    "is True if the probability of class 1 is greater than or equal to the threshold, and False otherwise.\n",
    "'''\n",
    "y_pred_default = predict_w_threshold(probs_test, 0.5)\n",
    "\n",
    "from sklearn.metrics import accuracy_score\n",
    "\n",
    "# Naive prediction\n",
    "accuracy_score(y_true = y_true, y_pred = y_pred_default)"
   ]
  },
  {
   "cell_type": "code",
   "execution_count": 30,
   "id": "081964c3",
   "metadata": {
    "execution": {
     "iopub.execute_input": "2025-07-23T14:35:08.136047Z",
     "iopub.status.busy": "2025-07-23T14:35:08.135355Z",
     "iopub.status.idle": "2025-07-23T14:35:08.255530Z",
     "shell.execute_reply": "2025-07-23T14:35:08.254332Z"
    },
    "papermill": {
     "duration": 0.144476,
     "end_time": "2025-07-23T14:35:08.257669",
     "exception": false,
     "start_time": "2025-07-23T14:35:08.113193",
     "status": "completed"
    },
    "tags": []
   },
   "outputs": [
    {
     "data": {
      "text/plain": [
       "array([0, 0, 0, ..., 0, 0, 0])"
      ]
     },
     "execution_count": 30,
     "metadata": {},
     "output_type": "execute_result"
    }
   ],
   "source": [
    "model.predict(X_test)"
   ]
  },
  {
   "cell_type": "markdown",
   "id": "56c9705b",
   "metadata": {
    "papermill": {
     "duration": 0.020201,
     "end_time": "2025-07-23T14:35:08.297996",
     "exception": false,
     "start_time": "2025-07-23T14:35:08.277795",
     "status": "completed"
    },
    "tags": []
   },
   "source": [
    "# Conformal Prediction"
   ]
  },
  {
   "cell_type": "code",
   "execution_count": 31,
   "id": "160ec6ff",
   "metadata": {
    "execution": {
     "iopub.execute_input": "2025-07-23T14:35:08.348092Z",
     "iopub.status.busy": "2025-07-23T14:35:08.347045Z",
     "iopub.status.idle": "2025-07-23T14:35:08.353168Z",
     "shell.execute_reply": "2025-07-23T14:35:08.351963Z"
    },
    "papermill": {
     "duration": 0.034754,
     "end_time": "2025-07-23T14:35:08.355447",
     "exception": false,
     "start_time": "2025-07-23T14:35:08.320693",
     "status": "completed"
    },
    "tags": []
   },
   "outputs": [],
   "source": [
    "# Miscoverage level for conformal prediction (10% allowed error rate => 90% target coverage)\n",
    "alpha = 0.1"
   ]
  },
  {
   "cell_type": "code",
   "execution_count": 32,
   "id": "eadf4555-3dd3-440e-8e35-f82a4ad9f855",
   "metadata": {
    "execution": {
     "iopub.execute_input": "2025-07-23T14:35:08.410536Z",
     "iopub.status.busy": "2025-07-23T14:35:08.409772Z",
     "iopub.status.idle": "2025-07-23T14:35:08.502179Z",
     "shell.execute_reply": "2025-07-23T14:35:08.501052Z"
    },
    "papermill": {
     "duration": 0.122616,
     "end_time": "2025-07-23T14:35:08.504658",
     "exception": false,
     "start_time": "2025-07-23T14:35:08.382042",
     "status": "completed"
    },
    "tags": []
   },
   "outputs": [],
   "source": [
    "probs_calib = model.predict_proba(X_calib)"
   ]
  },
  {
   "cell_type": "code",
   "execution_count": 33,
   "id": "2ed93547-6d5d-4983-9b36-1ecb300da49a",
   "metadata": {
    "execution": {
     "iopub.execute_input": "2025-07-23T14:35:08.558818Z",
     "iopub.status.busy": "2025-07-23T14:35:08.558013Z",
     "iopub.status.idle": "2025-07-23T14:35:08.564742Z",
     "shell.execute_reply": "2025-07-23T14:35:08.563686Z"
    },
    "papermill": {
     "duration": 0.036552,
     "end_time": "2025-07-23T14:35:08.566964",
     "exception": false,
     "start_time": "2025-07-23T14:35:08.530412",
     "status": "completed"
    },
    "tags": []
   },
   "outputs": [],
   "source": [
    "y_calib = y_calib.values.ravel().astype(int)"
   ]
  },
  {
   "cell_type": "code",
   "execution_count": 34,
   "id": "65d1320d-f588-4b38-9072-62af1ae97f7d",
   "metadata": {
    "execution": {
     "iopub.execute_input": "2025-07-23T14:35:08.622911Z",
     "iopub.status.busy": "2025-07-23T14:35:08.621824Z",
     "iopub.status.idle": "2025-07-23T14:35:08.631125Z",
     "shell.execute_reply": "2025-07-23T14:35:08.629859Z"
    },
    "papermill": {
     "duration": 0.03997,
     "end_time": "2025-07-23T14:35:08.633608",
     "exception": false,
     "start_time": "2025-07-23T14:35:08.593638",
     "status": "completed"
    },
    "tags": []
   },
   "outputs": [],
   "source": [
    "from fairness_multiverse.conformal import compute_nc_scores\n",
    "\n",
    "# Compute nonconformity scores on calibration set (1 - probability of true class)\n",
    "nc_scores = compute_nc_scores(probs_calib, y_calib)"
   ]
  },
  {
   "cell_type": "code",
   "execution_count": 35,
   "id": "df3b8ca3-53b7-43d5-9667-7c85da7aeda2",
   "metadata": {
    "execution": {
     "iopub.execute_input": "2025-07-23T14:35:08.687730Z",
     "iopub.status.busy": "2025-07-23T14:35:08.686873Z",
     "iopub.status.idle": "2025-07-23T14:35:08.695024Z",
     "shell.execute_reply": "2025-07-23T14:35:08.693722Z"
    },
    "papermill": {
     "duration": 0.038072,
     "end_time": "2025-07-23T14:35:08.697438",
     "exception": false,
     "start_time": "2025-07-23T14:35:08.659366",
     "status": "completed"
    },
    "tags": []
   },
   "outputs": [],
   "source": [
    "from fairness_multiverse.conformal import find_threshold\n",
    "\n",
    "# Find conformal threshold q_hat for the given alpha (split conformal method)\n",
    "q_hat = find_threshold(nc_scores, alpha)"
   ]
  },
  {
   "cell_type": "code",
   "execution_count": 36,
   "id": "4d29e6c1-0ef6-4aa4-b8fe-4fe79b0d033a",
   "metadata": {
    "execution": {
     "iopub.execute_input": "2025-07-23T14:35:08.751261Z",
     "iopub.status.busy": "2025-07-23T14:35:08.750560Z",
     "iopub.status.idle": "2025-07-23T14:35:08.756656Z",
     "shell.execute_reply": "2025-07-23T14:35:08.755795Z"
    },
    "papermill": {
     "duration": 0.035149,
     "end_time": "2025-07-23T14:35:08.758738",
     "exception": false,
     "start_time": "2025-07-23T14:35:08.723589",
     "status": "completed"
    },
    "tags": []
   },
   "outputs": [
    {
     "data": {
      "text/plain": [
       "0.6649481465457131"
      ]
     },
     "execution_count": 36,
     "metadata": {},
     "output_type": "execute_result"
    }
   ],
   "source": [
    "q_hat"
   ]
  },
  {
   "cell_type": "code",
   "execution_count": 37,
   "id": "92460794-cdac-4be2-ba28-f28c0515a6fb",
   "metadata": {
    "execution": {
     "iopub.execute_input": "2025-07-23T14:35:08.813663Z",
     "iopub.status.busy": "2025-07-23T14:35:08.813092Z",
     "iopub.status.idle": "2025-07-23T14:35:09.373367Z",
     "shell.execute_reply": "2025-07-23T14:35:09.372542Z"
    },
    "papermill": {
     "duration": 0.590399,
     "end_time": "2025-07-23T14:35:09.375671",
     "exception": false,
     "start_time": "2025-07-23T14:35:08.785272",
     "status": "completed"
    },
    "tags": []
   },
   "outputs": [],
   "source": [
    "from fairness_multiverse.conformal import predict_conformal_sets\n",
    "\n",
    "# Generate prediction sets for each test example\n",
    "pred_sets = predict_conformal_sets(model, X_test, q_hat)"
   ]
  },
  {
   "cell_type": "code",
   "execution_count": 38,
   "id": "d90c9a65-e6db-4f5d-80cd-e68fb7e46829",
   "metadata": {
    "execution": {
     "iopub.execute_input": "2025-07-23T14:35:09.430483Z",
     "iopub.status.busy": "2025-07-23T14:35:09.429675Z",
     "iopub.status.idle": "2025-07-23T14:35:09.437695Z",
     "shell.execute_reply": "2025-07-23T14:35:09.436366Z"
    },
    "papermill": {
     "duration": 0.037879,
     "end_time": "2025-07-23T14:35:09.440058",
     "exception": false,
     "start_time": "2025-07-23T14:35:09.402179",
     "status": "completed"
    },
    "tags": []
   },
   "outputs": [],
   "source": [
    "y_true = y_true.squeeze()"
   ]
  },
  {
   "cell_type": "code",
   "execution_count": 39,
   "id": "3a58a54a-1e68-46b9-927a-df01f18aebc8",
   "metadata": {
    "execution": {
     "iopub.execute_input": "2025-07-23T14:35:09.487725Z",
     "iopub.status.busy": "2025-07-23T14:35:09.486769Z",
     "iopub.status.idle": "2025-07-23T14:35:10.358262Z",
     "shell.execute_reply": "2025-07-23T14:35:10.357098Z"
    },
    "papermill": {
     "duration": 0.897677,
     "end_time": "2025-07-23T14:35:10.360725",
     "exception": false,
     "start_time": "2025-07-23T14:35:09.463048",
     "status": "completed"
    },
    "tags": []
   },
   "outputs": [],
   "source": [
    "from fairness_multiverse.conformal import evaluate_sets\n",
    "\n",
    "# Evaluate coverage and average set size on test data\n",
    "metrics = evaluate_sets(pred_sets, y_true)"
   ]
  },
  {
   "cell_type": "code",
   "execution_count": 40,
   "id": "5ce0a5cb-201f-45a0-ade5-94c7f0bd6095",
   "metadata": {
    "execution": {
     "iopub.execute_input": "2025-07-23T14:35:10.414232Z",
     "iopub.status.busy": "2025-07-23T14:35:10.413724Z",
     "iopub.status.idle": "2025-07-23T14:35:10.421958Z",
     "shell.execute_reply": "2025-07-23T14:35:10.420691Z"
    },
    "papermill": {
     "duration": 0.035382,
     "end_time": "2025-07-23T14:35:10.423830",
     "exception": false,
     "start_time": "2025-07-23T14:35:10.388448",
     "status": "completed"
    },
    "tags": []
   },
   "outputs": [
    {
     "data": {
      "text/plain": [
       "{'coverage': 0.9131869356816409, 'avg_size': 1.2549660015605841}"
      ]
     },
     "execution_count": 40,
     "metadata": {},
     "output_type": "execute_result"
    }
   ],
   "source": [
    "metrics"
   ]
  },
  {
   "cell_type": "code",
   "execution_count": 41,
   "id": "9b9a838d-31c9-430b-ae14-12baee460d17",
   "metadata": {
    "execution": {
     "iopub.execute_input": "2025-07-23T14:35:10.474177Z",
     "iopub.status.busy": "2025-07-23T14:35:10.473302Z",
     "iopub.status.idle": "2025-07-23T14:35:10.480428Z",
     "shell.execute_reply": "2025-07-23T14:35:10.479315Z"
    },
    "papermill": {
     "duration": 0.034439,
     "end_time": "2025-07-23T14:35:10.482433",
     "exception": false,
     "start_time": "2025-07-23T14:35:10.447994",
     "status": "completed"
    },
    "tags": []
   },
   "outputs": [],
   "source": [
    "example_universe = universe.copy()\n",
    "universe_model = example_universe.get(\"model\")\n",
    "universe_exclude_features = example_universe.get(\"exclude_features\")\n",
    "universe_exclude_subgroups = example_universe.get(\"exclude_subgroups\")\n",
    "universe_scale = example_universe.get(\"scale\")"
   ]
  },
  {
   "cell_type": "code",
   "execution_count": 42,
   "id": "f4b6a8ac-9dc0-4245-8a91-5b3b5999c4f9",
   "metadata": {
    "execution": {
     "iopub.execute_input": "2025-07-23T14:35:10.530771Z",
     "iopub.status.busy": "2025-07-23T14:35:10.529729Z",
     "iopub.status.idle": "2025-07-23T14:35:10.537146Z",
     "shell.execute_reply": "2025-07-23T14:35:10.535966Z"
    },
    "papermill": {
     "duration": 0.034109,
     "end_time": "2025-07-23T14:35:10.539251",
     "exception": false,
     "start_time": "2025-07-23T14:35:10.505142",
     "status": "completed"
    },
    "tags": []
   },
   "outputs": [],
   "source": [
    "cp_metrics_dict = {\n",
    "    \"universe_id\": [universe_id],\n",
    "    \"universe_model\": [universe_model],\n",
    "    \"universe_exclude_features\": [universe_exclude_features],\n",
    "    \"universe_exclude_subgroups\": [universe_exclude_subgroups],\n",
    "    \"universe_scale\": [universe_scale],\n",
    "    \"q_hat\": [q_hat],\n",
    "    \"coverage\": [metrics[\"coverage\"]],\n",
    "    \"avg_size\": [metrics[\"avg_size\"]],\n",
    "}"
   ]
  },
  {
   "cell_type": "code",
   "execution_count": 43,
   "id": "908acbb1-0371-4915-85ca-3fa520d2efe2",
   "metadata": {
    "execution": {
     "iopub.execute_input": "2025-07-23T14:35:10.589274Z",
     "iopub.status.busy": "2025-07-23T14:35:10.588743Z",
     "iopub.status.idle": "2025-07-23T14:35:10.598144Z",
     "shell.execute_reply": "2025-07-23T14:35:10.596636Z"
    },
    "papermill": {
     "duration": 0.036857,
     "end_time": "2025-07-23T14:35:10.600303",
     "exception": false,
     "start_time": "2025-07-23T14:35:10.563446",
     "status": "completed"
    },
    "tags": []
   },
   "outputs": [
    {
     "data": {
      "text/plain": [
       "{'universe_id': ['d1da93b17859c5773937b7fb7a4b3ff7'],\n",
       " 'universe_model': ['logreg'],\n",
       " 'universe_exclude_features': ['age'],\n",
       " 'universe_exclude_subgroups': ['keep-all'],\n",
       " 'universe_scale': ['do-not-scale'],\n",
       " 'q_hat': [0.6649481465457131],\n",
       " 'coverage': [0.9131869356816409],\n",
       " 'avg_size': [1.2549660015605841]}"
      ]
     },
     "execution_count": 43,
     "metadata": {},
     "output_type": "execute_result"
    }
   ],
   "source": [
    "cp_metrics_dict"
   ]
  },
  {
   "cell_type": "code",
   "execution_count": 44,
   "id": "33007efc-14e9-4ec6-97ac-56a455c82265",
   "metadata": {
    "execution": {
     "iopub.execute_input": "2025-07-23T14:35:10.651149Z",
     "iopub.status.busy": "2025-07-23T14:35:10.650230Z",
     "iopub.status.idle": "2025-07-23T14:35:10.657313Z",
     "shell.execute_reply": "2025-07-23T14:35:10.656118Z"
    },
    "papermill": {
     "duration": 0.034415,
     "end_time": "2025-07-23T14:35:10.659311",
     "exception": false,
     "start_time": "2025-07-23T14:35:10.624896",
     "status": "completed"
    },
    "tags": []
   },
   "outputs": [],
   "source": [
    "cp_metrics_df = pd.DataFrame(cp_metrics_dict)"
   ]
  },
  {
   "cell_type": "code",
   "execution_count": 45,
   "id": "db12611b-57b2-4910-b9d0-355adfd6e7bf",
   "metadata": {
    "execution": {
     "iopub.execute_input": "2025-07-23T14:35:10.711598Z",
     "iopub.status.busy": "2025-07-23T14:35:10.711022Z",
     "iopub.status.idle": "2025-07-23T14:35:10.731411Z",
     "shell.execute_reply": "2025-07-23T14:35:10.730306Z"
    },
    "papermill": {
     "duration": 0.04934,
     "end_time": "2025-07-23T14:35:10.733624",
     "exception": false,
     "start_time": "2025-07-23T14:35:10.684284",
     "status": "completed"
    },
    "tags": []
   },
   "outputs": [
    {
     "data": {
      "text/html": [
       "<div>\n",
       "<style scoped>\n",
       "    .dataframe tbody tr th:only-of-type {\n",
       "        vertical-align: middle;\n",
       "    }\n",
       "\n",
       "    .dataframe tbody tr th {\n",
       "        vertical-align: top;\n",
       "    }\n",
       "\n",
       "    .dataframe thead th {\n",
       "        text-align: right;\n",
       "    }\n",
       "</style>\n",
       "<table border=\"1\" class=\"dataframe\">\n",
       "  <thead>\n",
       "    <tr style=\"text-align: right;\">\n",
       "      <th></th>\n",
       "      <th>universe_id</th>\n",
       "      <th>universe_model</th>\n",
       "      <th>universe_exclude_features</th>\n",
       "      <th>universe_exclude_subgroups</th>\n",
       "      <th>universe_scale</th>\n",
       "      <th>q_hat</th>\n",
       "      <th>coverage</th>\n",
       "      <th>avg_size</th>\n",
       "    </tr>\n",
       "  </thead>\n",
       "  <tbody>\n",
       "    <tr>\n",
       "      <th>0</th>\n",
       "      <td>d1da93b17859c5773937b7fb7a4b3ff7</td>\n",
       "      <td>logreg</td>\n",
       "      <td>age</td>\n",
       "      <td>keep-all</td>\n",
       "      <td>do-not-scale</td>\n",
       "      <td>0.664948</td>\n",
       "      <td>0.913187</td>\n",
       "      <td>1.254966</td>\n",
       "    </tr>\n",
       "  </tbody>\n",
       "</table>\n",
       "</div>"
      ],
      "text/plain": [
       "                        universe_id universe_model universe_exclude_features  \\\n",
       "0  d1da93b17859c5773937b7fb7a4b3ff7         logreg                       age   \n",
       "\n",
       "  universe_exclude_subgroups universe_scale     q_hat  coverage  avg_size  \n",
       "0                   keep-all   do-not-scale  0.664948  0.913187  1.254966  "
      ]
     },
     "execution_count": 45,
     "metadata": {},
     "output_type": "execute_result"
    }
   ],
   "source": [
    "cp_metrics_df"
   ]
  },
  {
   "cell_type": "code",
   "execution_count": 46,
   "id": "b7fbde55-a0a1-47e4-9af6-fe4a17fa8c61",
   "metadata": {
    "execution": {
     "iopub.execute_input": "2025-07-23T14:35:10.782123Z",
     "iopub.status.busy": "2025-07-23T14:35:10.781314Z",
     "iopub.status.idle": "2025-07-23T14:35:10.787050Z",
     "shell.execute_reply": "2025-07-23T14:35:10.785875Z"
    },
    "papermill": {
     "duration": 0.032258,
     "end_time": "2025-07-23T14:35:10.789332",
     "exception": false,
     "start_time": "2025-07-23T14:35:10.757074",
     "status": "completed"
    },
    "tags": []
   },
   "outputs": [],
   "source": [
    "# Conditional Coverage & looking at subgroups"
   ]
  },
  {
   "cell_type": "code",
   "execution_count": 47,
   "id": "027ae886-68dd-4141-96c7-805a5450e1ef",
   "metadata": {
    "execution": {
     "iopub.execute_input": "2025-07-23T14:35:10.841811Z",
     "iopub.status.busy": "2025-07-23T14:35:10.841254Z",
     "iopub.status.idle": "2025-07-23T14:35:11.147305Z",
     "shell.execute_reply": "2025-07-23T14:35:11.146480Z"
    },
    "papermill": {
     "duration": 0.334785,
     "end_time": "2025-07-23T14:35:11.149484",
     "exception": false,
     "start_time": "2025-07-23T14:35:10.814699",
     "status": "completed"
    },
    "tags": []
   },
   "outputs": [],
   "source": [
    "from fairness_multiverse.conformal import build_cp_groups\n",
    "\n",
    "cp_groups_df = build_cp_groups(pred_sets, y_true, X_test.index, org_test)\n",
    "#needs universe_id and setting"
   ]
  },
  {
   "cell_type": "code",
   "execution_count": 48,
   "id": "c3b92545-903e-4839-89af-0f057907d7d6",
   "metadata": {
    "execution": {
     "iopub.execute_input": "2025-07-23T14:35:11.202877Z",
     "iopub.status.busy": "2025-07-23T14:35:11.202332Z",
     "iopub.status.idle": "2025-07-23T14:35:13.041771Z",
     "shell.execute_reply": "2025-07-23T14:35:13.040771Z"
    },
    "papermill": {
     "duration": 1.866409,
     "end_time": "2025-07-23T14:35:13.044095",
     "exception": false,
     "start_time": "2025-07-23T14:35:11.177686",
     "status": "completed"
    },
    "tags": []
   },
   "outputs": [],
   "source": [
    "# Define covered = 1 if true_label is in the predicted set\n",
    "cp_groups_df['covered'] = cp_groups_df.apply(\n",
    "    lambda r: int(r['true_label'] in r['pred_set']),\n",
    "    axis=1\n",
    ")"
   ]
  },
  {
   "cell_type": "code",
   "execution_count": 49,
   "id": "338ff529-1a6b-4b87-a931-8e4788d52aad",
   "metadata": {
    "execution": {
     "iopub.execute_input": "2025-07-23T14:35:13.095569Z",
     "iopub.status.busy": "2025-07-23T14:35:13.094592Z",
     "iopub.status.idle": "2025-07-23T14:35:13.100049Z",
     "shell.execute_reply": "2025-07-23T14:35:13.099095Z"
    },
    "papermill": {
     "duration": 0.033506,
     "end_time": "2025-07-23T14:35:13.101550",
     "exception": false,
     "start_time": "2025-07-23T14:35:13.068044",
     "status": "completed"
    },
    "tags": []
   },
   "outputs": [],
   "source": [
    "#cp_groups_df"
   ]
  },
  {
   "cell_type": "code",
   "execution_count": 50,
   "id": "90032e27-66df-4540-9169-4e89cfbaa758",
   "metadata": {
    "execution": {
     "iopub.execute_input": "2025-07-23T14:35:13.127054Z",
     "iopub.status.busy": "2025-07-23T14:35:13.126514Z",
     "iopub.status.idle": "2025-07-23T14:35:13.136149Z",
     "shell.execute_reply": "2025-07-23T14:35:13.135377Z"
    },
    "papermill": {
     "duration": 0.023172,
     "end_time": "2025-07-23T14:35:13.137533",
     "exception": false,
     "start_time": "2025-07-23T14:35:13.114361",
     "status": "completed"
    },
    "tags": []
   },
   "outputs": [],
   "source": [
    "subgroups = ['frau1','nongerman','nongerman_male','nongerman_female']\n",
    "\n",
    "# Conditional coverage for subgroup==1\n",
    "cond_coverage = {\n",
    "    g: cp_groups_df.loc[cp_groups_df[g]==1, 'covered'].mean()\n",
    "    for g in subgroups\n",
    "}"
   ]
  },
  {
   "cell_type": "code",
   "execution_count": 51,
   "id": "1e348fb1-b9c3-45bc-ba23-f016827a7e0d",
   "metadata": {
    "execution": {
     "iopub.execute_input": "2025-07-23T14:35:13.165592Z",
     "iopub.status.busy": "2025-07-23T14:35:13.164846Z",
     "iopub.status.idle": "2025-07-23T14:35:13.171563Z",
     "shell.execute_reply": "2025-07-23T14:35:13.170616Z"
    },
    "papermill": {
     "duration": 0.022956,
     "end_time": "2025-07-23T14:35:13.173019",
     "exception": false,
     "start_time": "2025-07-23T14:35:13.150063",
     "status": "completed"
    },
    "tags": []
   },
   "outputs": [
    {
     "data": {
      "text/plain": [
       "{'frau1': 0.9131419328750505,\n",
       " 'nongerman': 0.9636220737663505,\n",
       " 'nongerman_male': 0.9691074484373593,\n",
       " 'nongerman_female': 0.9545454545454546}"
      ]
     },
     "execution_count": 51,
     "metadata": {},
     "output_type": "execute_result"
    }
   ],
   "source": [
    "cond_coverage"
   ]
  },
  {
   "cell_type": "code",
   "execution_count": 52,
   "id": "f5093324-c3dd-4d63-bc4c-8d945e5c8bbb",
   "metadata": {
    "execution": {
     "iopub.execute_input": "2025-07-23T14:35:13.198493Z",
     "iopub.status.busy": "2025-07-23T14:35:13.197959Z",
     "iopub.status.idle": "2025-07-23T14:35:13.203815Z",
     "shell.execute_reply": "2025-07-23T14:35:13.203095Z"
    },
    "papermill": {
     "duration": 0.01972,
     "end_time": "2025-07-23T14:35:13.205273",
     "exception": false,
     "start_time": "2025-07-23T14:35:13.185553",
     "status": "completed"
    },
    "tags": []
   },
   "outputs": [],
   "source": [
    "for subgroup, cov in cond_coverage.items():\n",
    "    cp_metrics_df[f\"cov_{subgroup}\"] = cov"
   ]
  },
  {
   "cell_type": "code",
   "execution_count": 53,
   "id": "6e872e10-dbe5-49e8-b554-5030c98ff75d",
   "metadata": {
    "execution": {
     "iopub.execute_input": "2025-07-23T14:35:13.231146Z",
     "iopub.status.busy": "2025-07-23T14:35:13.230025Z",
     "iopub.status.idle": "2025-07-23T14:35:13.244082Z",
     "shell.execute_reply": "2025-07-23T14:35:13.243209Z"
    },
    "papermill": {
     "duration": 0.027921,
     "end_time": "2025-07-23T14:35:13.245447",
     "exception": false,
     "start_time": "2025-07-23T14:35:13.217526",
     "status": "completed"
    },
    "tags": []
   },
   "outputs": [
    {
     "data": {
      "text/html": [
       "<div>\n",
       "<style scoped>\n",
       "    .dataframe tbody tr th:only-of-type {\n",
       "        vertical-align: middle;\n",
       "    }\n",
       "\n",
       "    .dataframe tbody tr th {\n",
       "        vertical-align: top;\n",
       "    }\n",
       "\n",
       "    .dataframe thead th {\n",
       "        text-align: right;\n",
       "    }\n",
       "</style>\n",
       "<table border=\"1\" class=\"dataframe\">\n",
       "  <thead>\n",
       "    <tr style=\"text-align: right;\">\n",
       "      <th></th>\n",
       "      <th>universe_id</th>\n",
       "      <th>universe_model</th>\n",
       "      <th>universe_exclude_features</th>\n",
       "      <th>universe_exclude_subgroups</th>\n",
       "      <th>universe_scale</th>\n",
       "      <th>q_hat</th>\n",
       "      <th>coverage</th>\n",
       "      <th>avg_size</th>\n",
       "      <th>cov_frau1</th>\n",
       "      <th>cov_nongerman</th>\n",
       "      <th>cov_nongerman_male</th>\n",
       "      <th>cov_nongerman_female</th>\n",
       "    </tr>\n",
       "  </thead>\n",
       "  <tbody>\n",
       "    <tr>\n",
       "      <th>0</th>\n",
       "      <td>d1da93b17859c5773937b7fb7a4b3ff7</td>\n",
       "      <td>logreg</td>\n",
       "      <td>age</td>\n",
       "      <td>keep-all</td>\n",
       "      <td>do-not-scale</td>\n",
       "      <td>0.664948</td>\n",
       "      <td>0.913187</td>\n",
       "      <td>1.254966</td>\n",
       "      <td>0.913142</td>\n",
       "      <td>0.963622</td>\n",
       "      <td>0.969107</td>\n",
       "      <td>0.954545</td>\n",
       "    </tr>\n",
       "  </tbody>\n",
       "</table>\n",
       "</div>"
      ],
      "text/plain": [
       "                        universe_id universe_model universe_exclude_features  \\\n",
       "0  d1da93b17859c5773937b7fb7a4b3ff7         logreg                       age   \n",
       "\n",
       "  universe_exclude_subgroups universe_scale     q_hat  coverage  avg_size  \\\n",
       "0                   keep-all   do-not-scale  0.664948  0.913187  1.254966   \n",
       "\n",
       "   cov_frau1  cov_nongerman  cov_nongerman_male  cov_nongerman_female  \n",
       "0   0.913142       0.963622            0.969107              0.954545  "
      ]
     },
     "execution_count": 53,
     "metadata": {},
     "output_type": "execute_result"
    }
   ],
   "source": [
    "cp_metrics_df"
   ]
  },
  {
   "cell_type": "markdown",
   "id": "33774451",
   "metadata": {
    "papermill": {
     "duration": 0.012017,
     "end_time": "2025-07-23T14:35:13.270297",
     "exception": false,
     "start_time": "2025-07-23T14:35:13.258280",
     "status": "completed"
    },
    "tags": []
   },
   "source": [
    "# (Fairness) Metrics"
   ]
  },
  {
   "cell_type": "code",
   "execution_count": 54,
   "id": "debc5d62",
   "metadata": {
    "execution": {
     "iopub.execute_input": "2025-07-23T14:35:13.296043Z",
     "iopub.status.busy": "2025-07-23T14:35:13.295341Z",
     "iopub.status.idle": "2025-07-23T14:35:13.310457Z",
     "shell.execute_reply": "2025-07-23T14:35:13.309583Z"
    },
    "papermill": {
     "duration": 0.029562,
     "end_time": "2025-07-23T14:35:13.311850",
     "exception": false,
     "start_time": "2025-07-23T14:35:13.282288",
     "status": "completed"
    },
    "tags": []
   },
   "outputs": [],
   "source": [
    "# do I need to include maxdeutsch1.missing?\n",
    "\n",
    "import numpy as np\n",
    "\n",
    "colname_to_bin = \"maxdeutsch1\"\n",
    "majority_value = org_train[colname_to_bin].mode()[0]\n",
    "\n",
    "org_test[\"majmin\"] = np.where(org_test[colname_to_bin] == majority_value, \"majority\", \"minority\")"
   ]
  },
  {
   "cell_type": "code",
   "execution_count": 55,
   "id": "06a50de5",
   "metadata": {
    "execution": {
     "iopub.execute_input": "2025-07-23T14:35:13.337408Z",
     "iopub.status.busy": "2025-07-23T14:35:13.336738Z",
     "iopub.status.idle": "2025-07-23T14:35:15.990793Z",
     "shell.execute_reply": "2025-07-23T14:35:15.989618Z"
    },
    "papermill": {
     "duration": 2.668828,
     "end_time": "2025-07-23T14:35:15.993018",
     "exception": false,
     "start_time": "2025-07-23T14:35:13.324190",
     "status": "completed"
    },
    "tags": []
   },
   "outputs": [],
   "source": [
    "example_universe = universe.copy()\n",
    "example_universe[\"cutoff\"] = example_universe[\"cutoff\"][0]\n",
    "example_universe[\"eval_fairness_grouping\"] = example_universe[\"eval_fairness_grouping\"][0]\n",
    "fairness_dict, metric_frame = universe_analysis.compute_metrics(\n",
    "    example_universe,\n",
    "    y_pred_prob=probs_test,\n",
    "    y_test=y_true,\n",
    "    org_test=org_test,\n",
    ")"
   ]
  },
  {
   "cell_type": "markdown",
   "id": "f95d4e02",
   "metadata": {
    "papermill": {
     "duration": 0.027482,
     "end_time": "2025-07-23T14:35:16.050462",
     "exception": false,
     "start_time": "2025-07-23T14:35:16.022980",
     "status": "completed"
    },
    "tags": []
   },
   "source": [
    "# Overall"
   ]
  },
  {
   "cell_type": "markdown",
   "id": "bdee4871",
   "metadata": {
    "papermill": {
     "duration": 0.025583,
     "end_time": "2025-07-23T14:35:16.102882",
     "exception": false,
     "start_time": "2025-07-23T14:35:16.077299",
     "status": "completed"
    },
    "tags": []
   },
   "source": [
    "Fairness\n",
    "Main fairness target: Equalized Odds. Seems to be a better fit than equal opportunity, since we're not only interested in Y = 1. Seems to be a better fit than demographic parity, since we also care about accuracy, not just equal distribution of preds.\n",
    "\n",
    "Pick column for computation of fairness metrics\n",
    "\n",
    "Performance\n",
    "Overall performance measures, most interesting in relation to the measures split by group below"
   ]
  },
  {
   "cell_type": "code",
   "execution_count": 56,
   "id": "c4e067c6",
   "metadata": {
    "execution": {
     "iopub.execute_input": "2025-07-23T14:35:16.157644Z",
     "iopub.status.busy": "2025-07-23T14:35:16.156672Z",
     "iopub.status.idle": "2025-07-23T14:35:16.166677Z",
     "shell.execute_reply": "2025-07-23T14:35:16.165633Z"
    },
    "papermill": {
     "duration": 0.039088,
     "end_time": "2025-07-23T14:35:16.168474",
     "exception": false,
     "start_time": "2025-07-23T14:35:16.129386",
     "status": "completed"
    },
    "tags": []
   },
   "outputs": [
    {
     "data": {
      "text/plain": [
       "accuracy                   0.216397\n",
       "balanced accuracy          0.530792\n",
       "f1                         0.237948\n",
       "precision                  0.135932\n",
       "false positive rate        0.892100\n",
       "false negative rate        0.046316\n",
       "selection rate             0.900000\n",
       "count                  89710.000000\n",
       "dtype: float64"
      ]
     },
     "execution_count": 56,
     "metadata": {},
     "output_type": "execute_result"
    }
   ],
   "source": [
    "metric_frame.overall"
   ]
  },
  {
   "cell_type": "markdown",
   "id": "e968fe9d",
   "metadata": {
    "papermill": {
     "duration": 0.026411,
     "end_time": "2025-07-23T14:35:16.221555",
     "exception": false,
     "start_time": "2025-07-23T14:35:16.195144",
     "status": "completed"
    },
    "tags": []
   },
   "source": [
    "By Group"
   ]
  },
  {
   "cell_type": "code",
   "execution_count": 57,
   "id": "ec325bce",
   "metadata": {
    "execution": {
     "iopub.execute_input": "2025-07-23T14:35:16.275885Z",
     "iopub.status.busy": "2025-07-23T14:35:16.275161Z",
     "iopub.status.idle": "2025-07-23T14:35:16.292581Z",
     "shell.execute_reply": "2025-07-23T14:35:16.291538Z"
    },
    "papermill": {
     "duration": 0.04657,
     "end_time": "2025-07-23T14:35:16.294419",
     "exception": false,
     "start_time": "2025-07-23T14:35:16.247849",
     "status": "completed"
    },
    "tags": []
   },
   "outputs": [
    {
     "data": {
      "text/html": [
       "<div>\n",
       "<style scoped>\n",
       "    .dataframe tbody tr th:only-of-type {\n",
       "        vertical-align: middle;\n",
       "    }\n",
       "\n",
       "    .dataframe tbody tr th {\n",
       "        vertical-align: top;\n",
       "    }\n",
       "\n",
       "    .dataframe thead th {\n",
       "        text-align: right;\n",
       "    }\n",
       "</style>\n",
       "<table border=\"1\" class=\"dataframe\">\n",
       "  <thead>\n",
       "    <tr style=\"text-align: right;\">\n",
       "      <th></th>\n",
       "      <th>accuracy</th>\n",
       "      <th>balanced accuracy</th>\n",
       "      <th>f1</th>\n",
       "      <th>precision</th>\n",
       "      <th>false positive rate</th>\n",
       "      <th>false negative rate</th>\n",
       "      <th>selection rate</th>\n",
       "      <th>count</th>\n",
       "    </tr>\n",
       "    <tr>\n",
       "      <th>majmin</th>\n",
       "      <th></th>\n",
       "      <th></th>\n",
       "      <th></th>\n",
       "      <th></th>\n",
       "      <th></th>\n",
       "      <th></th>\n",
       "      <th></th>\n",
       "      <th></th>\n",
       "    </tr>\n",
       "  </thead>\n",
       "  <tbody>\n",
       "    <tr>\n",
       "      <th>majority</th>\n",
       "      <td>0.239237</td>\n",
       "      <td>0.538468</td>\n",
       "      <td>0.247182</td>\n",
       "      <td>0.142182</td>\n",
       "      <td>0.868249</td>\n",
       "      <td>0.054814</td>\n",
       "      <td>0.878415</td>\n",
       "      <td>69170.0</td>\n",
       "    </tr>\n",
       "    <tr>\n",
       "      <th>minority</th>\n",
       "      <td>0.139484</td>\n",
       "      <td>0.507799</td>\n",
       "      <td>0.209066</td>\n",
       "      <td>0.116923</td>\n",
       "      <td>0.970889</td>\n",
       "      <td>0.013514</td>\n",
       "      <td>0.972687</td>\n",
       "      <td>20540.0</td>\n",
       "    </tr>\n",
       "  </tbody>\n",
       "</table>\n",
       "</div>"
      ],
      "text/plain": [
       "          accuracy  balanced accuracy        f1  precision  \\\n",
       "majmin                                                       \n",
       "majority  0.239237           0.538468  0.247182   0.142182   \n",
       "minority  0.139484           0.507799  0.209066   0.116923   \n",
       "\n",
       "          false positive rate  false negative rate  selection rate    count  \n",
       "majmin                                                                       \n",
       "majority             0.868249             0.054814        0.878415  69170.0  \n",
       "minority             0.970889             0.013514        0.972687  20540.0  "
      ]
     },
     "execution_count": 57,
     "metadata": {},
     "output_type": "execute_result"
    }
   ],
   "source": [
    "metric_frame.by_group"
   ]
  },
  {
   "cell_type": "code",
   "execution_count": 58,
   "id": "a9ddbe63",
   "metadata": {
    "execution": {
     "iopub.execute_input": "2025-07-23T14:35:16.346326Z",
     "iopub.status.busy": "2025-07-23T14:35:16.345554Z",
     "iopub.status.idle": "2025-07-23T14:35:18.892067Z",
     "shell.execute_reply": "2025-07-23T14:35:18.891038Z"
    },
    "papermill": {
     "duration": 2.574133,
     "end_time": "2025-07-23T14:35:18.894079",
     "exception": false,
     "start_time": "2025-07-23T14:35:16.319946",
     "status": "completed"
    },
    "tags": []
   },
   "outputs": [
    {
     "data": {
      "text/plain": [
       "array([[<Axes: title={'center': 'accuracy'}, xlabel='majmin'>,\n",
       "        <Axes: title={'center': 'balanced accuracy'}, xlabel='majmin'>,\n",
       "        <Axes: title={'center': 'f1'}, xlabel='majmin'>],\n",
       "       [<Axes: title={'center': 'precision'}, xlabel='majmin'>,\n",
       "        <Axes: title={'center': 'false positive rate'}, xlabel='majmin'>,\n",
       "        <Axes: title={'center': 'false negative rate'}, xlabel='majmin'>],\n",
       "       [<Axes: title={'center': 'selection rate'}, xlabel='majmin'>,\n",
       "        <Axes: title={'center': 'count'}, xlabel='majmin'>,\n",
       "        <Axes: xlabel='majmin'>]], dtype=object)"
      ]
     },
     "execution_count": 58,
     "metadata": {},
     "output_type": "execute_result"
    },
    {
     "data": {
      "image/png": "[encoded data removed]",
      "text/plain": [
       "<Figure size 1200x800 with 9 Axes>"
      ]
     },
     "metadata": {},
     "output_type": "display_data"
    }
   ],
   "source": [
    "# In a graphic\n",
    "metric_frame.by_group.plot.bar(\n",
    "    subplots=True,\n",
    "    layout=[3, 3],\n",
    "    legend=False,\n",
    "    figsize=[12, 8],\n",
    "    title=\"Show all metrics\",\n",
    ")"
   ]
  },
  {
   "cell_type": "markdown",
   "id": "f57a0bac",
   "metadata": {
    "papermill": {
     "duration": 0.014144,
     "end_time": "2025-07-23T14:35:18.926645",
     "exception": false,
     "start_time": "2025-07-23T14:35:18.912501",
     "status": "completed"
    },
    "tags": []
   },
   "source": [
    "# Final Output"
   ]
  },
  {
   "cell_type": "code",
   "execution_count": 59,
   "id": "96d280a3",
   "metadata": {
    "execution": {
     "iopub.execute_input": "2025-07-23T14:35:18.956930Z",
     "iopub.status.busy": "2025-07-23T14:35:18.956332Z",
     "iopub.status.idle": "2025-07-23T14:35:18.965158Z",
     "shell.execute_reply": "2025-07-23T14:35:18.964374Z"
    },
    "papermill": {
     "duration": 0.025351,
     "end_time": "2025-07-23T14:35:18.966469",
     "exception": false,
     "start_time": "2025-07-23T14:35:18.941118",
     "status": "completed"
    },
    "tags": []
   },
   "outputs": [
    {
     "data": {
      "text/plain": [
       "4"
      ]
     },
     "execution_count": 59,
     "metadata": {},
     "output_type": "execute_result"
    }
   ],
   "source": [
    "sub_universes = universe_analysis.generate_sub_universes()\n",
    "len(sub_universes)"
   ]
  },
  {
   "cell_type": "code",
   "execution_count": 60,
   "id": "92adf7ba",
   "metadata": {
    "execution": {
     "iopub.execute_input": "2025-07-23T14:35:19.011930Z",
     "iopub.status.busy": "2025-07-23T14:35:19.011543Z",
     "iopub.status.idle": "2025-07-23T14:35:19.025049Z",
     "shell.execute_reply": "2025-07-23T14:35:19.023903Z"
    },
    "papermill": {
     "duration": 0.043112,
     "end_time": "2025-07-23T14:35:19.027409",
     "exception": false,
     "start_time": "2025-07-23T14:35:18.984297",
     "status": "completed"
    },
    "tags": []
   },
   "outputs": [],
   "source": [
    "def filter_sub_universe_data(sub_universe, org_test):\n",
    "    # Keep all rows — no filtering\n",
    "    keep_rows_mask = np.ones(org_test.shape[0], dtype=bool)\n",
    "\n",
    "    print(f\"[INFO] Keeping all rows: {keep_rows_mask.sum()} rows retained.\")\n",
    "    return keep_rows_mask"
   ]
  },
  {
   "cell_type": "code",
   "execution_count": 61,
   "id": "4a759155",
   "metadata": {
    "execution": {
     "iopub.execute_input": "2025-07-23T14:35:19.084146Z",
     "iopub.status.busy": "2025-07-23T14:35:19.083095Z",
     "iopub.status.idle": "2025-07-23T14:35:29.896995Z",
     "shell.execute_reply": "2025-07-23T14:35:29.895629Z"
    },
    "papermill": {
     "duration": 10.842121,
     "end_time": "2025-07-23T14:35:29.899092",
     "exception": false,
     "start_time": "2025-07-23T14:35:19.056971",
     "status": "completed"
    },
    "tags": []
   },
   "outputs": [
    {
     "name": "stdout",
     "output_type": "stream",
     "text": [
      "Stopping execution_time clock.\n",
      "[INFO] Keeping all rows: 89710 rows retained.\n"
     ]
    },
    {
     "name": "stdout",
     "output_type": "stream",
     "text": [
      "[INFO] Keeping all rows: 89710 rows retained.\n"
     ]
    },
    {
     "name": "stdout",
     "output_type": "stream",
     "text": [
      "[INFO] Keeping all rows: 89710 rows retained.\n"
     ]
    },
    {
     "name": "stdout",
     "output_type": "stream",
     "text": [
      "[INFO] Keeping all rows: 89710 rows retained.\n"
     ]
    },
    {
     "data": {
      "text/html": [
       "<div>\n",
       "<style scoped>\n",
       "    .dataframe tbody tr th:only-of-type {\n",
       "        vertical-align: middle;\n",
       "    }\n",
       "\n",
       "    .dataframe tbody tr th {\n",
       "        vertical-align: top;\n",
       "    }\n",
       "\n",
       "    .dataframe thead th {\n",
       "        text-align: right;\n",
       "    }\n",
       "</style>\n",
       "<table border=\"1\" class=\"dataframe\">\n",
       "  <thead>\n",
       "    <tr style=\"text-align: right;\">\n",
       "      <th></th>\n",
       "      <th>run_no</th>\n",
       "      <th>universe_id</th>\n",
       "      <th>universe_settings</th>\n",
       "      <th>execution_time</th>\n",
       "      <th>test_size_n</th>\n",
       "      <th>test_size_frac</th>\n",
       "      <th>fair_main_equalized_odds_difference</th>\n",
       "      <th>fair_main_equalized_odds_ratio</th>\n",
       "      <th>fair_main_demographic_parity_difference</th>\n",
       "      <th>fair_main_demographic_parity_ratio</th>\n",
       "      <th>...</th>\n",
       "      <th>perf_grp_precision_0</th>\n",
       "      <th>perf_grp_precision_1</th>\n",
       "      <th>perf_grp_false positive rate_0</th>\n",
       "      <th>perf_grp_false positive rate_1</th>\n",
       "      <th>perf_grp_false negative rate_0</th>\n",
       "      <th>perf_grp_false negative rate_1</th>\n",
       "      <th>perf_grp_selection rate_0</th>\n",
       "      <th>perf_grp_selection rate_1</th>\n",
       "      <th>perf_grp_count_0</th>\n",
       "      <th>perf_grp_count_1</th>\n",
       "    </tr>\n",
       "  </thead>\n",
       "  <tbody>\n",
       "    <tr>\n",
       "      <th>0</th>\n",
       "      <td>9</td>\n",
       "      <td>d1da93b17859c5773937b7fb7a4b3ff7</td>\n",
       "      <td>{\"cutoff\": \"quantile_0.1\", \"eval_fairness_grou...</td>\n",
       "      <td>20.101167</td>\n",
       "      <td>89710</td>\n",
       "      <td>1.0</td>\n",
       "      <td>0.102640</td>\n",
       "      <td>0.894282</td>\n",
       "      <td>0.094272</td>\n",
       "      <td>0.903081</td>\n",
       "      <td>...</td>\n",
       "      <td>NaN</td>\n",
       "      <td>NaN</td>\n",
       "      <td>NaN</td>\n",
       "      <td>NaN</td>\n",
       "      <td>NaN</td>\n",
       "      <td>NaN</td>\n",
       "      <td>NaN</td>\n",
       "      <td>NaN</td>\n",
       "      <td>NaN</td>\n",
       "      <td>NaN</td>\n",
       "    </tr>\n",
       "    <tr>\n",
       "      <th>0</th>\n",
       "      <td>9</td>\n",
       "      <td>d1da93b17859c5773937b7fb7a4b3ff7</td>\n",
       "      <td>{\"cutoff\": \"quantile_0.1\", \"eval_fairness_grou...</td>\n",
       "      <td>20.101167</td>\n",
       "      <td>89710</td>\n",
       "      <td>1.0</td>\n",
       "      <td>0.102640</td>\n",
       "      <td>0.894282</td>\n",
       "      <td>0.094272</td>\n",
       "      <td>0.903081</td>\n",
       "      <td>...</td>\n",
       "      <td>0.116923</td>\n",
       "      <td>0.142182</td>\n",
       "      <td>0.970889</td>\n",
       "      <td>0.868249</td>\n",
       "      <td>0.013514</td>\n",
       "      <td>0.054814</td>\n",
       "      <td>0.972687</td>\n",
       "      <td>0.878415</td>\n",
       "      <td>20540.0</td>\n",
       "      <td>69170.0</td>\n",
       "    </tr>\n",
       "    <tr>\n",
       "      <th>0</th>\n",
       "      <td>9</td>\n",
       "      <td>d1da93b17859c5773937b7fb7a4b3ff7</td>\n",
       "      <td>{\"cutoff\": \"quantile_0.25\", \"eval_fairness_gro...</td>\n",
       "      <td>20.101167</td>\n",
       "      <td>89710</td>\n",
       "      <td>1.0</td>\n",
       "      <td>0.239703</td>\n",
       "      <td>0.738448</td>\n",
       "      <td>0.222080</td>\n",
       "      <td>0.758930</td>\n",
       "      <td>...</td>\n",
       "      <td>NaN</td>\n",
       "      <td>NaN</td>\n",
       "      <td>NaN</td>\n",
       "      <td>NaN</td>\n",
       "      <td>NaN</td>\n",
       "      <td>NaN</td>\n",
       "      <td>NaN</td>\n",
       "      <td>NaN</td>\n",
       "      <td>NaN</td>\n",
       "      <td>NaN</td>\n",
       "    </tr>\n",
       "    <tr>\n",
       "      <th>0</th>\n",
       "      <td>9</td>\n",
       "      <td>d1da93b17859c5773937b7fb7a4b3ff7</td>\n",
       "      <td>{\"cutoff\": \"quantile_0.25\", \"eval_fairness_gro...</td>\n",
       "      <td>20.101167</td>\n",
       "      <td>89710</td>\n",
       "      <td>1.0</td>\n",
       "      <td>0.239703</td>\n",
       "      <td>0.738448</td>\n",
       "      <td>0.222080</td>\n",
       "      <td>0.758930</td>\n",
       "      <td>...</td>\n",
       "      <td>0.119860</td>\n",
       "      <td>0.159926</td>\n",
       "      <td>0.916465</td>\n",
       "      <td>0.676762</td>\n",
       "      <td>0.042230</td>\n",
       "      <td>0.153829</td>\n",
       "      <td>0.921227</td>\n",
       "      <td>0.699147</td>\n",
       "      <td>20540.0</td>\n",
       "      <td>69170.0</td>\n",
       "    </tr>\n",
       "  </tbody>\n",
       "</table>\n",
       "<p>4 rows × 50 columns</p>\n",
       "</div>"
      ],
      "text/plain": [
       "  run_no                       universe_id  \\\n",
       "0      9  d1da93b17859c5773937b7fb7a4b3ff7   \n",
       "0      9  d1da93b17859c5773937b7fb7a4b3ff7   \n",
       "0      9  d1da93b17859c5773937b7fb7a4b3ff7   \n",
       "0      9  d1da93b17859c5773937b7fb7a4b3ff7   \n",
       "\n",
       "                                   universe_settings  execution_time  \\\n",
       "0  {\"cutoff\": \"quantile_0.1\", \"eval_fairness_grou...       20.101167   \n",
       "0  {\"cutoff\": \"quantile_0.1\", \"eval_fairness_grou...       20.101167   \n",
       "0  {\"cutoff\": \"quantile_0.25\", \"eval_fairness_gro...       20.101167   \n",
       "0  {\"cutoff\": \"quantile_0.25\", \"eval_fairness_gro...       20.101167   \n",
       "\n",
       "   test_size_n  test_size_frac  fair_main_equalized_odds_difference  \\\n",
       "0        89710             1.0                             0.102640   \n",
       "0        89710             1.0                             0.102640   \n",
       "0        89710             1.0                             0.239703   \n",
       "0        89710             1.0                             0.239703   \n",
       "\n",
       "   fair_main_equalized_odds_ratio  fair_main_demographic_parity_difference  \\\n",
       "0                        0.894282                                 0.094272   \n",
       "0                        0.894282                                 0.094272   \n",
       "0                        0.738448                                 0.222080   \n",
       "0                        0.738448                                 0.222080   \n",
       "\n",
       "   fair_main_demographic_parity_ratio  ...  perf_grp_precision_0  \\\n",
       "0                            0.903081  ...                   NaN   \n",
       "0                            0.903081  ...              0.116923   \n",
       "0                            0.758930  ...                   NaN   \n",
       "0                            0.758930  ...              0.119860   \n",
       "\n",
       "   perf_grp_precision_1  perf_grp_false positive rate_0  \\\n",
       "0                   NaN                             NaN   \n",
       "0              0.142182                        0.970889   \n",
       "0                   NaN                             NaN   \n",
       "0              0.159926                        0.916465   \n",
       "\n",
       "   perf_grp_false positive rate_1  perf_grp_false negative rate_0  \\\n",
       "0                             NaN                             NaN   \n",
       "0                        0.868249                        0.013514   \n",
       "0                             NaN                             NaN   \n",
       "0                        0.676762                        0.042230   \n",
       "\n",
       "   perf_grp_false negative rate_1  perf_grp_selection rate_0  \\\n",
       "0                             NaN                        NaN   \n",
       "0                        0.054814                   0.972687   \n",
       "0                             NaN                        NaN   \n",
       "0                        0.153829                   0.921227   \n",
       "\n",
       "   perf_grp_selection rate_1  perf_grp_count_0  perf_grp_count_1  \n",
       "0                        NaN               NaN               NaN  \n",
       "0                   0.878415           20540.0           69170.0  \n",
       "0                        NaN               NaN               NaN  \n",
       "0                   0.699147           20540.0           69170.0  \n",
       "\n",
       "[4 rows x 50 columns]"
      ]
     },
     "execution_count": 61,
     "metadata": {},
     "output_type": "execute_result"
    }
   ],
   "source": [
    "final_output = universe_analysis.generate_final_output(\n",
    "    y_pred_prob=probs_test,\n",
    "    y_test=y_true,\n",
    "    org_test=org_test,\n",
    "    filter_data=filter_sub_universe_data,\n",
    "    cp_metrics_df=cp_metrics_df,\n",
    "    save=True,\n",
    ")\n",
    "final_output"
   ]
  },
  {
   "cell_type": "code",
   "execution_count": null,
   "id": "721ff514-cb11-46f8-b6fc-50392f74b5cb",
   "metadata": {
    "papermill": {
     "duration": 0.027139,
     "end_time": "2025-07-23T14:35:29.958108",
     "exception": false,
     "start_time": "2025-07-23T14:35:29.930969",
     "status": "completed"
    },
    "tags": []
   },
   "outputs": [],
   "source": []
  }
 ],
 "metadata": {
  "celltoolbar": "Tags",
  "kernelspec": {
   "display_name": "Python (CMA Fairness)",
   "language": "python",
   "name": "cma_fair_env"
  },
  "language_info": {
   "codemirror_mode": {
    "name": "ipython",
    "version": 3
   },
   "file_extension": ".py",
   "mimetype": "text/x-python",
   "name": "python",
   "nbconvert_exporter": "python",
   "pygments_lexer": "ipython3",
   "version": "3.10.12"
  },
  "papermill": {
   "default_parameters": {},
   "duration": 35.295466,
   "end_time": "2025-07-23T14:35:30.704172",
   "environment_variables": {},
   "exception": null,
   "input_path": "universe_analysis.ipynb",
   "output_path": "output/runs/9/notebooks/m_9-d1da93b17859c5773937b7fb7a4b3ff7.ipynb",
   "parameters": {
    "output_dir": "output",
    "run_no": "9",
    "seed": "2023",
    "universe": "{\"cutoff\": [\"quantile_0.1\", \"quantile_0.25\"], \"eval_fairness_grouping\": [\"majority-minority\", \"nationality-all\"], \"exclude_features\": \"age\", \"exclude_subgroups\": \"keep-all\", \"model\": \"logreg\", \"scale\": \"do-not-scale\"}",
    "universe_id": "d1da93b17859c5773937b7fb7a4b3ff7"
   },
   "start_time": "2025-07-23T14:34:55.408706",
   "version": "2.6.0"
  }
 },
 "nbformat": 4,
 "nbformat_minor": 5
}