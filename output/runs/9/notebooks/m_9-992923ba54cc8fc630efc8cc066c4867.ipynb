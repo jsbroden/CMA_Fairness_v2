{
 "cells": [
  {
   "cell_type": "code",
   "execution_count": 1,
   "id": "f159f837-637b-42ba-96b5-ec9a68c44524",
   "metadata": {
    "execution": {
     "iopub.execute_input": "2025-07-23T14:32:34.274451Z",
     "iopub.status.busy": "2025-07-23T14:32:34.273515Z",
     "iopub.status.idle": "2025-07-23T14:32:34.290126Z",
     "shell.execute_reply": "2025-07-23T14:32:34.288919Z"
    },
    "papermill": {
     "duration": 0.036437,
     "end_time": "2025-07-23T14:32:34.292164",
     "exception": false,
     "start_time": "2025-07-23T14:32:34.255727",
     "status": "completed"
    },
    "tags": []
   },
   "outputs": [
    {
     "name": "stdout",
     "output_type": "stream",
     "text": [
      "/dss/dsshome1/0C/ra93lal2/cma/CMA_Fairness_v2\n"
     ]
    },
    {
     "name": "stderr",
     "output_type": "stream",
     "text": [
      "/dss/dsshome1/0C/ra93lal2/.local/share/virtualenvs/CMA_Fairness_v2-3j10GkSs/lib/python3.10/site-packages/IPython/core/magics/osm.py:393: UserWarning: This is now an optional IPython functionality, using bookmarks requires you to install the `pickleshare` library.\n",
      "  bkms = self.shell.db.get('bookmarks', {})\n",
      "/dss/dsshome1/0C/ra93lal2/.local/share/virtualenvs/CMA_Fairness_v2-3j10GkSs/lib/python3.10/site-packages/IPython/core/magics/osm.py:417: UserWarning: This is now an optional IPython functionality, setting dhist requires you to install the `pickleshare` library.\n",
      "  self.shell.db['dhist'] = compress_dhist(dhist)[-100:]\n"
     ]
    }
   ],
   "source": [
    "%cd ~/cma/CMA_Fairness_v2"
   ]
  },
  {
   "cell_type": "markdown",
   "id": "de2603b9",
   "metadata": {
    "papermill": {
     "duration": 0.016024,
     "end_time": "2025-07-23T14:32:34.324498",
     "exception": false,
     "start_time": "2025-07-23T14:32:34.308474",
     "status": "completed"
    },
    "tags": []
   },
   "source": [
    "The following cell holds the definition of our parameters, these values can be overriden by rendering the with e.g. the following command:\n",
    "\n",
    "papermill -p alpha 0.2 -p ratio 0.3 universe_analysis.ipynb output/test_run.ipynb"
   ]
  },
  {
   "cell_type": "code",
   "execution_count": 2,
   "id": "a80968a0-40bb-4fa9-85ef-2d5eefb01975",
   "metadata": {
    "execution": {
     "iopub.execute_input": "2025-07-23T14:32:34.357931Z",
     "iopub.status.busy": "2025-07-23T14:32:34.357263Z",
     "iopub.status.idle": "2025-07-23T14:32:34.363558Z",
     "shell.execute_reply": "2025-07-23T14:32:34.362532Z"
    },
    "papermill": {
     "duration": 0.024896,
     "end_time": "2025-07-23T14:32:34.365229",
     "exception": false,
     "start_time": "2025-07-23T14:32:34.340333",
     "status": "completed"
    },
    "tags": []
   },
   "outputs": [
    {
     "name": "stdout",
     "output_type": "stream",
     "text": [
      "Current working directory: /dss/dsshome1/0C/ra93lal2/cma/CMA_Fairness_v2\n"
     ]
    }
   ],
   "source": [
    "import os\n",
    "print(\"Current working directory:\", os.getcwd())"
   ]
  },
  {
   "cell_type": "code",
   "execution_count": 3,
   "id": "2dce4c03",
   "metadata": {
    "execution": {
     "iopub.execute_input": "2025-07-23T14:32:34.399829Z",
     "iopub.status.busy": "2025-07-23T14:32:34.399379Z",
     "iopub.status.idle": "2025-07-23T14:32:34.405529Z",
     "shell.execute_reply": "2025-07-23T14:32:34.404521Z"
    },
    "papermill": {
     "duration": 0.02561,
     "end_time": "2025-07-23T14:32:34.407407",
     "exception": false,
     "start_time": "2025-07-23T14:32:34.381797",
     "status": "completed"
    },
    "tags": [
     "parameters"
    ]
   },
   "outputs": [],
   "source": [
    "run_no = 0\n",
    "universe_id = \"test\"\n",
    "universe = {\n",
    "    \"scale\": \"scale\", # \"scale\", \"do-not-scale\",\n",
    "    \"model\": \"elasticnet\", # \"logreg\", \"penalized_logreg\", \"rf\", \"gbm\", \"elasticnet\"\n",
    "    \"cutoff\": [\"quantile_0.15\", \"quantile_0.30\"],\n",
    "    \"exclude_features\": \"age\", # \"none\", \"nationality\", \"sex\", \"nationality-sex\", \"age\"\n",
    "    \"exclude_subgroups\": \"keep-all\", # \"keep-all\", \"drop-non-german\"\n",
    "    #\"training_sample\": \"restricted\", # \"restricted\", \"full\"\n",
    "    \"eval_fairness_grouping\": [\"majority-minority\", \"nationality-all\"]\n",
    "}\n",
    "\n",
    "output_dir=\"./output\"\n",
    "seed=0"
   ]
  },
  {
   "cell_type": "code",
   "execution_count": 4,
   "id": "91d26646",
   "metadata": {
    "execution": {
     "iopub.execute_input": "2025-07-23T14:32:34.445653Z",
     "iopub.status.busy": "2025-07-23T14:32:34.444968Z",
     "iopub.status.idle": "2025-07-23T14:32:34.451026Z",
     "shell.execute_reply": "2025-07-23T14:32:34.449983Z"
    },
    "papermill": {
     "duration": 0.027366,
     "end_time": "2025-07-23T14:32:34.452943",
     "exception": false,
     "start_time": "2025-07-23T14:32:34.425577",
     "status": "completed"
    },
    "tags": [
     "injected-parameters"
    ]
   },
   "outputs": [],
   "source": [
    "# Parameters\n",
    "universe_id = \"992923ba54cc8fc630efc8cc066c4867\"\n",
    "run_no = \"9\"\n",
    "universe = \"{\\\"cutoff\\\": [\\\"quantile_0.1\\\", \\\"quantile_0.25\\\"], \\\"eval_fairness_grouping\\\": [\\\"majority-minority\\\", \\\"nationality-all\\\"], \\\"exclude_features\\\": \\\"nationality\\\", \\\"exclude_subgroups\\\": \\\"drop-non-german\\\", \\\"model\\\": \\\"elasticnet\\\", \\\"scale\\\": \\\"scale\\\"}\"\n",
    "output_dir = \"output\"\n",
    "seed = \"2023\"\n"
   ]
  },
  {
   "cell_type": "code",
   "execution_count": 5,
   "id": "1650acaf",
   "metadata": {
    "execution": {
     "iopub.execute_input": "2025-07-23T14:32:34.491170Z",
     "iopub.status.busy": "2025-07-23T14:32:34.490492Z",
     "iopub.status.idle": "2025-07-23T14:32:34.496123Z",
     "shell.execute_reply": "2025-07-23T14:32:34.495163Z"
    },
    "papermill": {
     "duration": 0.026635,
     "end_time": "2025-07-23T14:32:34.497929",
     "exception": false,
     "start_time": "2025-07-23T14:32:34.471294",
     "status": "completed"
    },
    "tags": []
   },
   "outputs": [],
   "source": [
    "import json\n",
    "# Parse universe into dict if it is passed as a string\n",
    "if isinstance(universe, str):\n",
    "    universe = json.loads(universe)"
   ]
  },
  {
   "cell_type": "code",
   "execution_count": 6,
   "id": "16620c48",
   "metadata": {
    "execution": {
     "iopub.execute_input": "2025-07-23T14:32:34.536251Z",
     "iopub.status.busy": "2025-07-23T14:32:34.535567Z",
     "iopub.status.idle": "2025-07-23T14:32:34.581853Z",
     "shell.execute_reply": "2025-07-23T14:32:34.580909Z"
    },
    "papermill": {
     "duration": 0.067917,
     "end_time": "2025-07-23T14:32:34.583938",
     "exception": false,
     "start_time": "2025-07-23T14:32:34.516021",
     "status": "completed"
    },
    "tags": []
   },
   "outputs": [],
   "source": [
    "# Auto-reload the custom package\n",
    "%load_ext autoreload\n",
    "%autoreload 1\n",
    "%aimport fairness_multiverse"
   ]
  },
  {
   "cell_type": "code",
   "execution_count": 7,
   "id": "01c5c9f3",
   "metadata": {
    "execution": {
     "iopub.execute_input": "2025-07-23T14:32:34.622839Z",
     "iopub.status.busy": "2025-07-23T14:32:34.622156Z",
     "iopub.status.idle": "2025-07-23T14:32:36.732132Z",
     "shell.execute_reply": "2025-07-23T14:32:36.731060Z"
    },
    "papermill": {
     "duration": 2.131703,
     "end_time": "2025-07-23T14:32:36.734367",
     "exception": false,
     "start_time": "2025-07-23T14:32:34.602664",
     "status": "completed"
    },
    "tags": []
   },
   "outputs": [],
   "source": [
    "from fairness_multiverse.universe import UniverseAnalysis\n",
    "\n",
    "universe_analysis = UniverseAnalysis(\n",
    "    run_no = run_no,\n",
    "    universe_id = universe_id,\n",
    "    universe = universe,\n",
    "    output_dir=output_dir,\n",
    ")"
   ]
  },
  {
   "cell_type": "code",
   "execution_count": 8,
   "id": "106241f5",
   "metadata": {
    "execution": {
     "iopub.execute_input": "2025-07-23T14:32:36.774612Z",
     "iopub.status.busy": "2025-07-23T14:32:36.773905Z",
     "iopub.status.idle": "2025-07-23T14:32:36.780515Z",
     "shell.execute_reply": "2025-07-23T14:32:36.779557Z"
    },
    "papermill": {
     "duration": 0.028364,
     "end_time": "2025-07-23T14:32:36.782311",
     "exception": false,
     "start_time": "2025-07-23T14:32:36.753947",
     "status": "completed"
    },
    "tags": []
   },
   "outputs": [
    {
     "name": "stdout",
     "output_type": "stream",
     "text": [
      "Using Seed: 2023\n"
     ]
    }
   ],
   "source": [
    "import numpy as np\n",
    "parsed_seed = int(seed)\n",
    "np.random.seed(parsed_seed)\n",
    "print(f\"Using Seed: {parsed_seed}\")"
   ]
  },
  {
   "cell_type": "markdown",
   "id": "e0ebdc57",
   "metadata": {
    "papermill": {
     "duration": 0.018445,
     "end_time": "2025-07-23T14:32:36.819977",
     "exception": false,
     "start_time": "2025-07-23T14:32:36.801532",
     "status": "completed"
    },
    "tags": []
   },
   "source": [
    "# Loading Data"
   ]
  },
  {
   "cell_type": "markdown",
   "id": "681925a3",
   "metadata": {
    "papermill": {
     "duration": 0.018654,
     "end_time": "2025-07-23T14:32:36.857276",
     "exception": false,
     "start_time": "2025-07-23T14:32:36.838622",
     "status": "completed"
    },
    "tags": []
   },
   "source": [
    "Load siab_train, siab_test, siab_calib and/or \n",
    "load siab_train_features, siab_train_labels"
   ]
  },
  {
   "cell_type": "code",
   "execution_count": 9,
   "id": "f0496b8a",
   "metadata": {
    "execution": {
     "iopub.execute_input": "2025-07-23T14:32:36.896821Z",
     "iopub.status.busy": "2025-07-23T14:32:36.896089Z",
     "iopub.status.idle": "2025-07-23T14:32:36.902340Z",
     "shell.execute_reply": "2025-07-23T14:32:36.901294Z"
    },
    "papermill": {
     "duration": 0.028016,
     "end_time": "2025-07-23T14:32:36.904055",
     "exception": false,
     "start_time": "2025-07-23T14:32:36.876039",
     "status": "completed"
    },
    "tags": []
   },
   "outputs": [],
   "source": [
    "# Do I need to load siab? Delete this cell?\n",
    "\n",
    "#from pathlib import Path\n",
    "#import pandas as pd\n",
    "#\n",
    "## File paths\n",
    "#raw_file = Path(\"data/raw/siab.csv\")\n",
    "#cache_file = Path(\"data/siab_cached.csv.gz\")\n",
    "#\n",
    "## Ensure cache directory exists\n",
    "#cache_file.parent.mkdir(parents=True, exist_ok=True)\n",
    "#\n",
    "## Load with simple caching\n",
    "#if cache_file.exists():\n",
    "#    print(f\"Loading SIAB data from cache: {cache_file}\")\n",
    "#    siab = pd.read_csv(cache_file, compression='gzip')\n",
    "#else:\n",
    "#    print(f\"Cache not found. Reading raw SIAB data: {raw_file}\")\n",
    "#    siab = pd.read_csv(raw_file)\n",
    "#    siab.to_csv(cache_file, index=False, compression='gzip')\n",
    "#    print(f\"Cached SIAB data to: {cache_file}\")\n",
    "#\n",
    "## Now use `siab` DataFrame as needed\n",
    "#print(siab.shape)\n"
   ]
  },
  {
   "cell_type": "code",
   "execution_count": 10,
   "id": "a0edb063",
   "metadata": {
    "execution": {
     "iopub.execute_input": "2025-07-23T14:32:36.944309Z",
     "iopub.status.busy": "2025-07-23T14:32:36.943604Z",
     "iopub.status.idle": "2025-07-23T14:32:38.156639Z",
     "shell.execute_reply": "2025-07-23T14:32:38.155656Z"
    },
    "papermill": {
     "duration": 1.234629,
     "end_time": "2025-07-23T14:32:38.158112",
     "exception": false,
     "start_time": "2025-07-23T14:32:36.923483",
     "status": "completed"
    },
    "tags": []
   },
   "outputs": [],
   "source": [
    "import pandas as pd\n",
    "\n",
    "X_train = pd.read_csv(\"./data/X_train.csv\")\n",
    "y_train = pd.read_csv(\"./data/y_train.csv\")"
   ]
  },
  {
   "cell_type": "code",
   "execution_count": 11,
   "id": "63d08085",
   "metadata": {
    "execution": {
     "iopub.execute_input": "2025-07-23T14:32:38.201833Z",
     "iopub.status.busy": "2025-07-23T14:32:38.201407Z",
     "iopub.status.idle": "2025-07-23T14:32:39.594755Z",
     "shell.execute_reply": "2025-07-23T14:32:39.593842Z"
    },
    "papermill": {
     "duration": 1.421757,
     "end_time": "2025-07-23T14:32:39.596721",
     "exception": false,
     "start_time": "2025-07-23T14:32:38.174964",
     "status": "completed"
    },
    "tags": []
   },
   "outputs": [],
   "source": [
    "X_test = pd.read_csv(\"./data/X_test.csv\")\n",
    "y_true = pd.read_csv(\"./data/y_test.csv\")"
   ]
  },
  {
   "cell_type": "code",
   "execution_count": 12,
   "id": "98a8d0fa-1d3d-4ed8-bb2c-281470e24add",
   "metadata": {
    "execution": {
     "iopub.execute_input": "2025-07-23T14:32:39.632438Z",
     "iopub.status.busy": "2025-07-23T14:32:39.631742Z",
     "iopub.status.idle": "2025-07-23T14:32:41.062216Z",
     "shell.execute_reply": "2025-07-23T14:32:41.061203Z"
    },
    "papermill": {
     "duration": 1.450215,
     "end_time": "2025-07-23T14:32:41.064195",
     "exception": false,
     "start_time": "2025-07-23T14:32:39.613980",
     "status": "completed"
    },
    "tags": []
   },
   "outputs": [],
   "source": [
    "# Calibration data for conformal\n",
    "X_calib = pd.read_csv(\"./data/X_calib.csv\")\n",
    "y_calib = pd.read_csv(\"./data/y_calib.csv\")"
   ]
  },
  {
   "cell_type": "code",
   "execution_count": 13,
   "id": "e6c733c5",
   "metadata": {
    "execution": {
     "iopub.execute_input": "2025-07-23T14:32:41.100065Z",
     "iopub.status.busy": "2025-07-23T14:32:41.099561Z",
     "iopub.status.idle": "2025-07-23T14:32:41.207078Z",
     "shell.execute_reply": "2025-07-23T14:32:41.206133Z"
    },
    "papermill": {
     "duration": 0.127905,
     "end_time": "2025-07-23T14:32:41.209108",
     "exception": false,
     "start_time": "2025-07-23T14:32:41.081203",
     "status": "completed"
    },
    "tags": []
   },
   "outputs": [],
   "source": [
    "# Auxiliary data needed downstream in the pipeline\n",
    "\n",
    "org_train = X_train.copy()\n",
    "org_test = X_test.copy()\n",
    "org_calib = X_calib.copy()"
   ]
  },
  {
   "cell_type": "markdown",
   "id": "0a4a1b33",
   "metadata": {
    "papermill": {
     "duration": 0.016782,
     "end_time": "2025-07-23T14:32:41.243137",
     "exception": false,
     "start_time": "2025-07-23T14:32:41.226355",
     "status": "completed"
    },
    "tags": []
   },
   "source": [
    "# Preprocessing Data"
   ]
  },
  {
   "cell_type": "code",
   "execution_count": 14,
   "id": "ca879031",
   "metadata": {
    "execution": {
     "iopub.execute_input": "2025-07-23T14:32:41.278356Z",
     "iopub.status.busy": "2025-07-23T14:32:41.277665Z",
     "iopub.status.idle": "2025-07-23T14:32:41.284215Z",
     "shell.execute_reply": "2025-07-23T14:32:41.283087Z"
    },
    "papermill": {
     "duration": 0.026101,
     "end_time": "2025-07-23T14:32:41.285953",
     "exception": false,
     "start_time": "2025-07-23T14:32:41.259852",
     "status": "completed"
    },
    "tags": []
   },
   "outputs": [],
   "source": [
    "# EXCLUDE PROTECTED FEATURES\n",
    "# ----------------------\n",
    "# \"exclude_features\": \"none\", # \"nationality\", \"sex\", \"nationality-sex\"\n",
    "\n",
    "excluded_features = universe[\"exclude_features\"].split(\"-\") # split, e.g.: \"nationality-sex\" -> [\"nationality\", \"sex\"]\n",
    "excluded_features_dictionary = {\n",
    "    \"nationality\": [\"maxdeutsch1\", \"maxdeutsch.Missing.\"],\n",
    "    \"sex\": [\"frau1\"],\n",
    "    \"age\": [\"age\"],\n",
    "}\n"
   ]
  },
  {
   "cell_type": "code",
   "execution_count": 15,
   "id": "b745ac60",
   "metadata": {
    "execution": {
     "iopub.execute_input": "2025-07-23T14:32:41.322073Z",
     "iopub.status.busy": "2025-07-23T14:32:41.321209Z",
     "iopub.status.idle": "2025-07-23T14:32:41.327367Z",
     "shell.execute_reply": "2025-07-23T14:32:41.326388Z"
    },
    "papermill": {
     "duration": 0.025743,
     "end_time": "2025-07-23T14:32:41.329111",
     "exception": false,
     "start_time": "2025-07-23T14:32:41.303368",
     "status": "completed"
    },
    "tags": []
   },
   "outputs": [],
   "source": [
    "# Code nice names to column names\n",
    "\n",
    "excluded_features_columns = [\n",
    "    excluded_features_dictionary[f] for f in excluded_features if len(f) > 0 and f != \"none\"\n",
    "]"
   ]
  },
  {
   "cell_type": "code",
   "execution_count": 16,
   "id": "f84f73a2",
   "metadata": {
    "execution": {
     "iopub.execute_input": "2025-07-23T14:32:41.365392Z",
     "iopub.status.busy": "2025-07-23T14:32:41.364430Z",
     "iopub.status.idle": "2025-07-23T14:32:41.371274Z",
     "shell.execute_reply": "2025-07-23T14:32:41.370261Z"
    },
    "papermill": {
     "duration": 0.026519,
     "end_time": "2025-07-23T14:32:41.372980",
     "exception": false,
     "start_time": "2025-07-23T14:32:41.346461",
     "status": "completed"
    },
    "tags": []
   },
   "outputs": [],
   "source": [
    "from utils import flatten_once\n",
    "\n",
    "excluded_features_columns = flatten_once(excluded_features_columns)"
   ]
  },
  {
   "cell_type": "code",
   "execution_count": 17,
   "id": "884dea22",
   "metadata": {
    "execution": {
     "iopub.execute_input": "2025-07-23T14:32:41.409768Z",
     "iopub.status.busy": "2025-07-23T14:32:41.409091Z",
     "iopub.status.idle": "2025-07-23T14:32:41.454737Z",
     "shell.execute_reply": "2025-07-23T14:32:41.453603Z"
    },
    "papermill": {
     "duration": 0.065535,
     "end_time": "2025-07-23T14:32:41.456520",
     "exception": false,
     "start_time": "2025-07-23T14:32:41.390985",
     "status": "completed"
    },
    "tags": []
   },
   "outputs": [
    {
     "name": "stdout",
     "output_type": "stream",
     "text": [
      "Dropping features: ['maxdeutsch1', 'maxdeutsch.Missing.']\n"
     ]
    }
   ],
   "source": [
    "if len(excluded_features_columns) > 0:\n",
    "    print(f\"Dropping features: {excluded_features_columns}\")\n",
    "    X_train.drop(excluded_features_columns, axis=1, inplace=True)"
   ]
  },
  {
   "cell_type": "code",
   "execution_count": 18,
   "id": "95ab8b16",
   "metadata": {
    "execution": {
     "iopub.execute_input": "2025-07-23T14:32:41.494965Z",
     "iopub.status.busy": "2025-07-23T14:32:41.494269Z",
     "iopub.status.idle": "2025-07-23T14:32:41.546990Z",
     "shell.execute_reply": "2025-07-23T14:32:41.545842Z"
    },
    "papermill": {
     "duration": 0.074293,
     "end_time": "2025-07-23T14:32:41.549185",
     "exception": false,
     "start_time": "2025-07-23T14:32:41.474892",
     "status": "completed"
    },
    "tags": []
   },
   "outputs": [
    {
     "name": "stdout",
     "output_type": "stream",
     "text": [
      "Dropping features: ['maxdeutsch1', 'maxdeutsch.Missing.']\n"
     ]
    }
   ],
   "source": [
    "if len(excluded_features_columns) > 0:\n",
    "    print(f\"Dropping features: {excluded_features_columns}\")\n",
    "    X_test.drop(excluded_features_columns, axis=1, inplace=True)"
   ]
  },
  {
   "cell_type": "code",
   "execution_count": 19,
   "id": "1853aaf5-fb9f-46cb-a2b5-8ea4ae2237e4",
   "metadata": {
    "execution": {
     "iopub.execute_input": "2025-07-23T14:32:41.586767Z",
     "iopub.status.busy": "2025-07-23T14:32:41.585805Z",
     "iopub.status.idle": "2025-07-23T14:32:41.639659Z",
     "shell.execute_reply": "2025-07-23T14:32:41.638545Z"
    },
    "papermill": {
     "duration": 0.074387,
     "end_time": "2025-07-23T14:32:41.641685",
     "exception": false,
     "start_time": "2025-07-23T14:32:41.567298",
     "status": "completed"
    },
    "tags": []
   },
   "outputs": [
    {
     "name": "stdout",
     "output_type": "stream",
     "text": [
      "Dropping features: ['maxdeutsch1', 'maxdeutsch.Missing.']\n"
     ]
    }
   ],
   "source": [
    "if len(excluded_features_columns) > 0:\n",
    "    print(f\"Dropping features: {excluded_features_columns}\")\n",
    "    X_calib.drop(excluded_features_columns, axis=1, inplace=True)"
   ]
  },
  {
   "cell_type": "code",
   "execution_count": 20,
   "id": "76c4dc6d",
   "metadata": {
    "execution": {
     "iopub.execute_input": "2025-07-23T14:32:41.679858Z",
     "iopub.status.busy": "2025-07-23T14:32:41.679181Z",
     "iopub.status.idle": "2025-07-23T14:32:41.684794Z",
     "shell.execute_reply": "2025-07-23T14:32:41.683757Z"
    },
    "papermill": {
     "duration": 0.026198,
     "end_time": "2025-07-23T14:32:41.686671",
     "exception": false,
     "start_time": "2025-07-23T14:32:41.660473",
     "status": "completed"
    },
    "tags": []
   },
   "outputs": [],
   "source": [
    "# EXCLUDE CERTAIN SUBGROUPS\n",
    "# ----------------------\n",
    "\n",
    "mode = universe.get(\"exclude_subgroups\", \"keep-all\") \n",
    "# Fetches the exclude_subgroups setting from the universe dict.\n",
    "# Defaults to \"keep-all\" if the key is missing."
   ]
  },
  {
   "cell_type": "code",
   "execution_count": 21,
   "id": "21994072",
   "metadata": {
    "execution": {
     "iopub.execute_input": "2025-07-23T14:32:41.725782Z",
     "iopub.status.busy": "2025-07-23T14:32:41.725104Z",
     "iopub.status.idle": "2025-07-23T14:32:41.732588Z",
     "shell.execute_reply": "2025-07-23T14:32:41.731610Z"
    },
    "papermill": {
     "duration": 0.028552,
     "end_time": "2025-07-23T14:32:41.734249",
     "exception": false,
     "start_time": "2025-07-23T14:32:41.705697",
     "status": "completed"
    },
    "tags": []
   },
   "outputs": [],
   "source": [
    "if mode == \"keep-all\":\n",
    "    keep_mask = pd.Series(True, index=org_train.index)\n",
    "\n",
    "# org_train contains the original feature columns from features_org (in Simson)\n",
    "# features_org contains unprocessed features, for me X_train at beginning ???\n",
    "# For keep-all, creates a boolean Series (keep_mask) of all True, so no rows are removed.\n",
    "\n",
    "elif mode == \"drop-non-german\":\n",
    "    keep_mask = org_train[\"maxdeutsch1\"] == 1 # ??? what about missing values?\n",
    "\n",
    "else:\n",
    "    raise ValueError(f\"Unsupported mode for exclude_subgroups: {mode}\")\n"
   ]
  },
  {
   "cell_type": "code",
   "execution_count": 22,
   "id": "71651440",
   "metadata": {
    "execution": {
     "iopub.execute_input": "2025-07-23T14:32:41.771811Z",
     "iopub.status.busy": "2025-07-23T14:32:41.770791Z",
     "iopub.status.idle": "2025-07-23T14:32:41.778469Z",
     "shell.execute_reply": "2025-07-23T14:32:41.777392Z"
    },
    "papermill": {
     "duration": 0.02758,
     "end_time": "2025-07-23T14:32:41.780095",
     "exception": false,
     "start_time": "2025-07-23T14:32:41.752515",
     "status": "completed"
    },
    "tags": []
   },
   "outputs": [
    {
     "name": "stdout",
     "output_type": "stream",
     "text": [
      "Dropping 10036 rows (13.38%) where mode='drop-non-german'\n"
     ]
    }
   ],
   "source": [
    "n_drop = (~keep_mask).sum() # Calculates how many rows are set to be dropped\n",
    "if n_drop > 0:\n",
    "    pct = n_drop / len(keep_mask) * 100\n",
    "    print(f\"Dropping {n_drop} rows ({pct:.2f}%) where mode='{mode}'\")"
   ]
  },
  {
   "cell_type": "code",
   "execution_count": 23,
   "id": "5fb8eee5",
   "metadata": {
    "execution": {
     "iopub.execute_input": "2025-07-23T14:32:41.817412Z",
     "iopub.status.busy": "2025-07-23T14:32:41.816738Z",
     "iopub.status.idle": "2025-07-23T14:32:41.864987Z",
     "shell.execute_reply": "2025-07-23T14:32:41.863975Z"
    },
    "papermill": {
     "duration": 0.068927,
     "end_time": "2025-07-23T14:32:41.867181",
     "exception": false,
     "start_time": "2025-07-23T14:32:41.798254",
     "status": "completed"
    },
    "tags": []
   },
   "outputs": [],
   "source": [
    "X_train = X_train[keep_mask]"
   ]
  },
  {
   "cell_type": "code",
   "execution_count": 24,
   "id": "b202bb3a",
   "metadata": {
    "execution": {
     "iopub.execute_input": "2025-07-23T14:32:41.906858Z",
     "iopub.status.busy": "2025-07-23T14:32:41.906138Z",
     "iopub.status.idle": "2025-07-23T14:32:41.914341Z",
     "shell.execute_reply": "2025-07-23T14:32:41.913366Z"
    },
    "papermill": {
     "duration": 0.029735,
     "end_time": "2025-07-23T14:32:41.915961",
     "exception": false,
     "start_time": "2025-07-23T14:32:41.886226",
     "status": "completed"
    },
    "tags": []
   },
   "outputs": [],
   "source": [
    "y_train = y_train[keep_mask]"
   ]
  },
  {
   "cell_type": "markdown",
   "id": "493e2ac3",
   "metadata": {
    "papermill": {
     "duration": 0.017628,
     "end_time": "2025-07-23T14:32:41.951729",
     "exception": false,
     "start_time": "2025-07-23T14:32:41.934101",
     "status": "completed"
    },
    "tags": []
   },
   "source": [
    "# Model Training"
   ]
  },
  {
   "cell_type": "code",
   "execution_count": 25,
   "id": "679e1268",
   "metadata": {
    "execution": {
     "iopub.execute_input": "2025-07-23T14:32:41.989203Z",
     "iopub.status.busy": "2025-07-23T14:32:41.988668Z",
     "iopub.status.idle": "2025-07-23T14:32:42.102256Z",
     "shell.execute_reply": "2025-07-23T14:32:42.101268Z"
    },
    "papermill": {
     "duration": 0.134323,
     "end_time": "2025-07-23T14:32:42.104013",
     "exception": false,
     "start_time": "2025-07-23T14:32:41.969690",
     "status": "completed"
    },
    "tags": []
   },
   "outputs": [],
   "source": [
    "from sklearn.linear_model import LogisticRegression\n",
    "from sklearn.ensemble import GradientBoostingClassifier, RandomForestClassifier\n",
    "\n",
    "if (universe[\"model\"] == \"logreg\"):\n",
    "    model = LogisticRegression() #penalty=\"none\") #, solver=\"newton-cg\", max_iter=1) # include random_state=19 ?\n",
    "elif (universe[\"model\"] == \"penalized_logreg\"):\n",
    "    model = LogisticRegression(penalty=\"l2\", C=1.0) #, solver=\"newton-cg\", max_iter=1)\n",
    "elif (universe[\"model\"] == \"rf\"):\n",
    "    model = RandomForestClassifier(n_estimators=100, n_jobs=-1)\n",
    "elif (universe[\"model\"] == \"gbm\"):\n",
    "    model = GradientBoostingClassifier()\n",
    "elif (universe[\"model\"] == \"elasticnet\"):\n",
    "    model = LogisticRegression(penalty = 'elasticnet', solver = 'saga', l1_ratio = 0.5, max_iter=5000) # which solver to use?\n",
    "else:\n",
    "    raise \"Unsupported universe.model\""
   ]
  },
  {
   "cell_type": "code",
   "execution_count": 26,
   "id": "0cc8f744",
   "metadata": {
    "execution": {
     "iopub.execute_input": "2025-07-23T14:32:42.141474Z",
     "iopub.status.busy": "2025-07-23T14:32:42.140744Z",
     "iopub.status.idle": "2025-07-23T14:32:42.147397Z",
     "shell.execute_reply": "2025-07-23T14:32:42.146631Z"
    },
    "papermill": {
     "duration": 0.026367,
     "end_time": "2025-07-23T14:32:42.148547",
     "exception": false,
     "start_time": "2025-07-23T14:32:42.122180",
     "status": "completed"
    },
    "tags": []
   },
   "outputs": [],
   "source": [
    "import numpy as np\n",
    "from sklearn.pipeline import Pipeline\n",
    "from sklearn.preprocessing import StandardScaler\n",
    "\n",
    "model = Pipeline([\n",
    "    #(\"continuous_processor\", continuous_processor),\n",
    "    #(\"categorical_preprocessor\", categorical_preprocessor),\n",
    "    (\"scale\", StandardScaler() if universe[\"scale\"] == \"scale\" else None), \n",
    "    (\"model\", model),\n",
    "])"
   ]
  },
  {
   "cell_type": "code",
   "execution_count": 27,
   "id": "9442c04d",
   "metadata": {
    "execution": {
     "iopub.execute_input": "2025-07-23T14:32:42.191550Z",
     "iopub.status.busy": "2025-07-23T14:32:42.191066Z",
     "iopub.status.idle": "2025-07-23T14:33:20.282713Z",
     "shell.execute_reply": "2025-07-23T14:33:20.281501Z"
    },
    "papermill": {
     "duration": 38.123556,
     "end_time": "2025-07-23T14:33:20.292980",
     "exception": false,
     "start_time": "2025-07-23T14:32:42.169424",
     "status": "completed"
    },
    "tags": []
   },
   "outputs": [
    {
     "data": {
      "text/html": [
       "<style>#sk-container-id-1 {color: black;background-color: white;}#sk-container-id-1 pre{padding: 0;}#sk-container-id-1 div.sk-toggleable {background-color: white;}#sk-container-id-1 label.sk-toggleable__label {cursor: pointer;display: block;width: 100%;margin-bottom: 0;padding: 0.3em;box-sizing: border-box;text-align: center;}#sk-container-id-1 label.sk-toggleable__label-arrow:before {content: \"▸\";float: left;margin-right: 0.25em;color: #696969;}#sk-container-id-1 label.sk-toggleable__label-arrow:hover:before {color: black;}#sk-container-id-1 div.sk-estimator:hover label.sk-toggleable__label-arrow:before {color: black;}#sk-container-id-1 div.sk-toggleable__content {max-height: 0;max-width: 0;overflow: hidden;text-align: left;background-color: #f0f8ff;}#sk-container-id-1 div.sk-toggleable__content pre {margin: 0.2em;color: black;border-radius: 0.25em;background-color: #f0f8ff;}#sk-container-id-1 input.sk-toggleable__control:checked~div.sk-toggleable__content {max-height: 200px;max-width: 100%;overflow: auto;}#sk-container-id-1 input.sk-toggleable__control:checked~label.sk-toggleable__label-arrow:before {content: \"▾\";}#sk-container-id-1 div.sk-estimator input.sk-toggleable__control:checked~label.sk-toggleable__label {background-color: #d4ebff;}#sk-container-id-1 div.sk-label input.sk-toggleable__control:checked~label.sk-toggleable__label {background-color: #d4ebff;}#sk-container-id-1 input.sk-hidden--visually {border: 0;clip: rect(1px 1px 1px 1px);clip: rect(1px, 1px, 1px, 1px);height: 1px;margin: -1px;overflow: hidden;padding: 0;position: absolute;width: 1px;}#sk-container-id-1 div.sk-estimator {font-family: monospace;background-color: #f0f8ff;border: 1px dotted black;border-radius: 0.25em;box-sizing: border-box;margin-bottom: 0.5em;}#sk-container-id-1 div.sk-estimator:hover {background-color: #d4ebff;}#sk-container-id-1 div.sk-parallel-item::after {content: \"\";width: 100%;border-bottom: 1px solid gray;flex-grow: 1;}#sk-container-id-1 div.sk-label:hover label.sk-toggleable__label {background-color: #d4ebff;}#sk-container-id-1 div.sk-serial::before {content: \"\";position: absolute;border-left: 1px solid gray;box-sizing: border-box;top: 0;bottom: 0;left: 50%;z-index: 0;}#sk-container-id-1 div.sk-serial {display: flex;flex-direction: column;align-items: center;background-color: white;padding-right: 0.2em;padding-left: 0.2em;position: relative;}#sk-container-id-1 div.sk-item {position: relative;z-index: 1;}#sk-container-id-1 div.sk-parallel {display: flex;align-items: stretch;justify-content: center;background-color: white;position: relative;}#sk-container-id-1 div.sk-item::before, #sk-container-id-1 div.sk-parallel-item::before {content: \"\";position: absolute;border-left: 1px solid gray;box-sizing: border-box;top: 0;bottom: 0;left: 50%;z-index: -1;}#sk-container-id-1 div.sk-parallel-item {display: flex;flex-direction: column;z-index: 1;position: relative;background-color: white;}#sk-container-id-1 div.sk-parallel-item:first-child::after {align-self: flex-end;width: 50%;}#sk-container-id-1 div.sk-parallel-item:last-child::after {align-self: flex-start;width: 50%;}#sk-container-id-1 div.sk-parallel-item:only-child::after {width: 0;}#sk-container-id-1 div.sk-dashed-wrapped {border: 1px dashed gray;margin: 0 0.4em 0.5em 0.4em;box-sizing: border-box;padding-bottom: 0.4em;background-color: white;}#sk-container-id-1 div.sk-label label {font-family: monospace;font-weight: bold;display: inline-block;line-height: 1.2em;}#sk-container-id-1 div.sk-label-container {text-align: center;}#sk-container-id-1 div.sk-container {/* jupyter's `normalize.less` sets `[hidden] { display: none; }` but bootstrap.min.css set `[hidden] { display: none !important; }` so we also need the `!important` here to be able to override the default hidden behavior on the sphinx rendered scikit-learn.org. See: https://github.com/scikit-learn/scikit-learn/issues/21755 */display: inline-block !important;position: relative;}#sk-container-id-1 div.sk-text-repr-fallback {display: none;}</style><div id=\"sk-container-id-1\" class=\"sk-top-container\"><div class=\"sk-text-repr-fallback\"><pre>Pipeline(steps=[(&#x27;scale&#x27;, StandardScaler()),\n",
       "                (&#x27;model&#x27;,\n",
       "                 LogisticRegression(l1_ratio=0.5, max_iter=5000,\n",
       "                                    penalty=&#x27;elasticnet&#x27;, solver=&#x27;saga&#x27;))])</pre><b>In a Jupyter environment, please rerun this cell to show the HTML representation or trust the notebook. <br />On GitHub, the HTML representation is unable to render, please try loading this page with nbviewer.org.</b></div><div class=\"sk-container\" hidden><div class=\"sk-item sk-dashed-wrapped\"><div class=\"sk-label-container\"><div class=\"sk-label sk-toggleable\"><input class=\"sk-toggleable__control sk-hidden--visually\" id=\"sk-estimator-id-1\" type=\"checkbox\" ><label for=\"sk-estimator-id-1\" class=\"sk-toggleable__label sk-toggleable__label-arrow\">Pipeline</label><div class=\"sk-toggleable__content\"><pre>Pipeline(steps=[(&#x27;scale&#x27;, StandardScaler()),\n",
       "                (&#x27;model&#x27;,\n",
       "                 LogisticRegression(l1_ratio=0.5, max_iter=5000,\n",
       "                                    penalty=&#x27;elasticnet&#x27;, solver=&#x27;saga&#x27;))])</pre></div></div></div><div class=\"sk-serial\"><div class=\"sk-item\"><div class=\"sk-estimator sk-toggleable\"><input class=\"sk-toggleable__control sk-hidden--visually\" id=\"sk-estimator-id-2\" type=\"checkbox\" ><label for=\"sk-estimator-id-2\" class=\"sk-toggleable__label sk-toggleable__label-arrow\">StandardScaler</label><div class=\"sk-toggleable__content\"><pre>StandardScaler()</pre></div></div></div><div class=\"sk-item\"><div class=\"sk-estimator sk-toggleable\"><input class=\"sk-toggleable__control sk-hidden--visually\" id=\"sk-estimator-id-3\" type=\"checkbox\" ><label for=\"sk-estimator-id-3\" class=\"sk-toggleable__label sk-toggleable__label-arrow\">LogisticRegression</label><div class=\"sk-toggleable__content\"><pre>LogisticRegression(l1_ratio=0.5, max_iter=5000, penalty=&#x27;elasticnet&#x27;,\n",
       "                   solver=&#x27;saga&#x27;)</pre></div></div></div></div></div></div></div>"
      ],
      "text/plain": [
       "Pipeline(steps=[('scale', StandardScaler()),\n",
       "                ('model',\n",
       "                 LogisticRegression(l1_ratio=0.5, max_iter=5000,\n",
       "                                    penalty='elasticnet', solver='saga'))])"
      ]
     },
     "execution_count": 27,
     "metadata": {},
     "output_type": "execute_result"
    }
   ],
   "source": [
    "model.fit(X_train, y_train.values.ravel())"
   ]
  },
  {
   "cell_type": "code",
   "execution_count": 28,
   "id": "af59f8c0",
   "metadata": {
    "execution": {
     "iopub.execute_input": "2025-07-23T14:33:20.332124Z",
     "iopub.status.busy": "2025-07-23T14:33:20.331618Z",
     "iopub.status.idle": "2025-07-23T14:33:20.337830Z",
     "shell.execute_reply": "2025-07-23T14:33:20.336826Z"
    },
    "papermill": {
     "duration": 0.028045,
     "end_time": "2025-07-23T14:33:20.339504",
     "exception": false,
     "start_time": "2025-07-23T14:33:20.311459",
     "status": "completed"
    },
    "tags": []
   },
   "outputs": [],
   "source": [
    "from fairness_multiverse.universe import predict_w_threshold"
   ]
  },
  {
   "cell_type": "code",
   "execution_count": 29,
   "id": "a7cf2e16",
   "metadata": {
    "execution": {
     "iopub.execute_input": "2025-07-23T14:33:20.379371Z",
     "iopub.status.busy": "2025-07-23T14:33:20.378506Z",
     "iopub.status.idle": "2025-07-23T14:33:20.578664Z",
     "shell.execute_reply": "2025-07-23T14:33:20.577626Z"
    },
    "papermill": {
     "duration": 0.221987,
     "end_time": "2025-07-23T14:33:20.580451",
     "exception": false,
     "start_time": "2025-07-23T14:33:20.358464",
     "status": "completed"
    },
    "tags": []
   },
   "outputs": [
    {
     "data": {
      "text/plain": [
       "0.8628135101995318"
      ]
     },
     "execution_count": 29,
     "metadata": {},
     "output_type": "execute_result"
    }
   ],
   "source": [
    "probs_test = model.predict_proba(X_test)\n",
    "\n",
    "'''\n",
    "Below code returns a boolean array (or binary 0/1 array depending on how it’s used) where each element \n",
    "is True if the probability of class 1 is greater than or equal to the threshold, and False otherwise.\n",
    "'''\n",
    "y_pred_default = predict_w_threshold(probs_test, 0.5)\n",
    "\n",
    "from sklearn.metrics import accuracy_score\n",
    "\n",
    "# Naive prediction\n",
    "accuracy_score(y_true = y_true, y_pred = y_pred_default)"
   ]
  },
  {
   "cell_type": "code",
   "execution_count": 30,
   "id": "081964c3",
   "metadata": {
    "execution": {
     "iopub.execute_input": "2025-07-23T14:33:20.620970Z",
     "iopub.status.busy": "2025-07-23T14:33:20.620250Z",
     "iopub.status.idle": "2025-07-23T14:33:20.803446Z",
     "shell.execute_reply": "2025-07-23T14:33:20.802468Z"
    },
    "papermill": {
     "duration": 0.204767,
     "end_time": "2025-07-23T14:33:20.805268",
     "exception": false,
     "start_time": "2025-07-23T14:33:20.600501",
     "status": "completed"
    },
    "tags": []
   },
   "outputs": [
    {
     "data": {
      "text/plain": [
       "array([0, 0, 0, ..., 0, 0, 0])"
      ]
     },
     "execution_count": 30,
     "metadata": {},
     "output_type": "execute_result"
    }
   ],
   "source": [
    "model.predict(X_test)"
   ]
  },
  {
   "cell_type": "markdown",
   "id": "56c9705b",
   "metadata": {
    "papermill": {
     "duration": 0.018534,
     "end_time": "2025-07-23T14:33:20.843078",
     "exception": false,
     "start_time": "2025-07-23T14:33:20.824544",
     "status": "completed"
    },
    "tags": []
   },
   "source": [
    "# Conformal Prediction"
   ]
  },
  {
   "cell_type": "code",
   "execution_count": 31,
   "id": "160ec6ff",
   "metadata": {
    "execution": {
     "iopub.execute_input": "2025-07-23T14:33:20.886211Z",
     "iopub.status.busy": "2025-07-23T14:33:20.885510Z",
     "iopub.status.idle": "2025-07-23T14:33:20.890889Z",
     "shell.execute_reply": "2025-07-23T14:33:20.889823Z"
    },
    "papermill": {
     "duration": 0.030717,
     "end_time": "2025-07-23T14:33:20.892688",
     "exception": false,
     "start_time": "2025-07-23T14:33:20.861971",
     "status": "completed"
    },
    "tags": []
   },
   "outputs": [],
   "source": [
    "# Miscoverage level for conformal prediction (10% allowed error rate => 90% target coverage)\n",
    "alpha = 0.1"
   ]
  },
  {
   "cell_type": "code",
   "execution_count": 32,
   "id": "eadf4555-3dd3-440e-8e35-f82a4ad9f855",
   "metadata": {
    "execution": {
     "iopub.execute_input": "2025-07-23T14:33:20.933266Z",
     "iopub.status.busy": "2025-07-23T14:33:20.932509Z",
     "iopub.status.idle": "2025-07-23T14:33:21.111832Z",
     "shell.execute_reply": "2025-07-23T14:33:21.110856Z"
    },
    "papermill": {
     "duration": 0.20154,
     "end_time": "2025-07-23T14:33:21.113823",
     "exception": false,
     "start_time": "2025-07-23T14:33:20.912283",
     "status": "completed"
    },
    "tags": []
   },
   "outputs": [],
   "source": [
    "probs_calib = model.predict_proba(X_calib)"
   ]
  },
  {
   "cell_type": "code",
   "execution_count": 33,
   "id": "2ed93547-6d5d-4983-9b36-1ecb300da49a",
   "metadata": {
    "execution": {
     "iopub.execute_input": "2025-07-23T14:33:21.154734Z",
     "iopub.status.busy": "2025-07-23T14:33:21.154052Z",
     "iopub.status.idle": "2025-07-23T14:33:21.160374Z",
     "shell.execute_reply": "2025-07-23T14:33:21.159422Z"
    },
    "papermill": {
     "duration": 0.028376,
     "end_time": "2025-07-23T14:33:21.162132",
     "exception": false,
     "start_time": "2025-07-23T14:33:21.133756",
     "status": "completed"
    },
    "tags": []
   },
   "outputs": [],
   "source": [
    "y_calib = y_calib.values.ravel().astype(int)"
   ]
  },
  {
   "cell_type": "code",
   "execution_count": 34,
   "id": "65d1320d-f588-4b38-9072-62af1ae97f7d",
   "metadata": {
    "execution": {
     "iopub.execute_input": "2025-07-23T14:33:21.202711Z",
     "iopub.status.busy": "2025-07-23T14:33:21.202012Z",
     "iopub.status.idle": "2025-07-23T14:33:21.209834Z",
     "shell.execute_reply": "2025-07-23T14:33:21.208980Z"
    },
    "papermill": {
     "duration": 0.029636,
     "end_time": "2025-07-23T14:33:21.211547",
     "exception": false,
     "start_time": "2025-07-23T14:33:21.181911",
     "status": "completed"
    },
    "tags": []
   },
   "outputs": [],
   "source": [
    "from fairness_multiverse.conformal import compute_nc_scores\n",
    "\n",
    "# Compute nonconformity scores on calibration set (1 - probability of true class)\n",
    "nc_scores = compute_nc_scores(probs_calib, y_calib)"
   ]
  },
  {
   "cell_type": "code",
   "execution_count": 35,
   "id": "df3b8ca3-53b7-43d5-9667-7c85da7aeda2",
   "metadata": {
    "execution": {
     "iopub.execute_input": "2025-07-23T14:33:21.252438Z",
     "iopub.status.busy": "2025-07-23T14:33:21.251740Z",
     "iopub.status.idle": "2025-07-23T14:33:21.259082Z",
     "shell.execute_reply": "2025-07-23T14:33:21.258094Z"
    },
    "papermill": {
     "duration": 0.029539,
     "end_time": "2025-07-23T14:33:21.260770",
     "exception": false,
     "start_time": "2025-07-23T14:33:21.231231",
     "status": "completed"
    },
    "tags": []
   },
   "outputs": [],
   "source": [
    "from fairness_multiverse.conformal import find_threshold\n",
    "\n",
    "# Find conformal threshold q_hat for the given alpha (split conformal method)\n",
    "q_hat = find_threshold(nc_scores, alpha)"
   ]
  },
  {
   "cell_type": "code",
   "execution_count": 36,
   "id": "4d29e6c1-0ef6-4aa4-b8fe-4fe79b0d033a",
   "metadata": {
    "execution": {
     "iopub.execute_input": "2025-07-23T14:33:21.301020Z",
     "iopub.status.busy": "2025-07-23T14:33:21.300485Z",
     "iopub.status.idle": "2025-07-23T14:33:21.307732Z",
     "shell.execute_reply": "2025-07-23T14:33:21.306641Z"
    },
    "papermill": {
     "duration": 0.028987,
     "end_time": "2025-07-23T14:33:21.309365",
     "exception": false,
     "start_time": "2025-07-23T14:33:21.280378",
     "status": "completed"
    },
    "tags": []
   },
   "outputs": [
    {
     "data": {
      "text/plain": [
       "0.66009543995427"
      ]
     },
     "execution_count": 36,
     "metadata": {},
     "output_type": "execute_result"
    }
   ],
   "source": [
    "q_hat"
   ]
  },
  {
   "cell_type": "code",
   "execution_count": 37,
   "id": "92460794-cdac-4be2-ba28-f28c0515a6fb",
   "metadata": {
    "execution": {
     "iopub.execute_input": "2025-07-23T14:33:21.350845Z",
     "iopub.status.busy": "2025-07-23T14:33:21.350136Z",
     "iopub.status.idle": "2025-07-23T14:33:22.293170Z",
     "shell.execute_reply": "2025-07-23T14:33:22.292188Z"
    },
    "papermill": {
     "duration": 0.965789,
     "end_time": "2025-07-23T14:33:22.295190",
     "exception": false,
     "start_time": "2025-07-23T14:33:21.329401",
     "status": "completed"
    },
    "tags": []
   },
   "outputs": [],
   "source": [
    "from fairness_multiverse.conformal import predict_conformal_sets\n",
    "\n",
    "# Generate prediction sets for each test example\n",
    "pred_sets = predict_conformal_sets(model, X_test, q_hat)"
   ]
  },
  {
   "cell_type": "code",
   "execution_count": 38,
   "id": "d90c9a65-e6db-4f5d-80cd-e68fb7e46829",
   "metadata": {
    "execution": {
     "iopub.execute_input": "2025-07-23T14:33:22.340367Z",
     "iopub.status.busy": "2025-07-23T14:33:22.339965Z",
     "iopub.status.idle": "2025-07-23T14:33:22.345979Z",
     "shell.execute_reply": "2025-07-23T14:33:22.344787Z"
    },
    "papermill": {
     "duration": 0.030272,
     "end_time": "2025-07-23T14:33:22.347940",
     "exception": false,
     "start_time": "2025-07-23T14:33:22.317668",
     "status": "completed"
    },
    "tags": []
   },
   "outputs": [],
   "source": [
    "y_true = y_true.squeeze()"
   ]
  },
  {
   "cell_type": "code",
   "execution_count": 39,
   "id": "3a58a54a-1e68-46b9-927a-df01f18aebc8",
   "metadata": {
    "execution": {
     "iopub.execute_input": "2025-07-23T14:33:22.389473Z",
     "iopub.status.busy": "2025-07-23T14:33:22.388790Z",
     "iopub.status.idle": "2025-07-23T14:33:23.323424Z",
     "shell.execute_reply": "2025-07-23T14:33:23.322470Z"
    },
    "papermill": {
     "duration": 0.95712,
     "end_time": "2025-07-23T14:33:23.325454",
     "exception": false,
     "start_time": "2025-07-23T14:33:22.368334",
     "status": "completed"
    },
    "tags": []
   },
   "outputs": [],
   "source": [
    "from fairness_multiverse.conformal import evaluate_sets\n",
    "\n",
    "# Evaluate coverage and average set size on test data\n",
    "metrics = evaluate_sets(pred_sets, y_true)"
   ]
  },
  {
   "cell_type": "code",
   "execution_count": 40,
   "id": "5ce0a5cb-201f-45a0-ade5-94c7f0bd6095",
   "metadata": {
    "execution": {
     "iopub.execute_input": "2025-07-23T14:33:23.367006Z",
     "iopub.status.busy": "2025-07-23T14:33:23.366487Z",
     "iopub.status.idle": "2025-07-23T14:33:23.373699Z",
     "shell.execute_reply": "2025-07-23T14:33:23.372733Z"
    },
    "papermill": {
     "duration": 0.030017,
     "end_time": "2025-07-23T14:33:23.375567",
     "exception": false,
     "start_time": "2025-07-23T14:33:23.345550",
     "status": "completed"
    },
    "tags": []
   },
   "outputs": [
    {
     "data": {
      "text/plain": [
       "{'coverage': 0.9113922639616542, 'avg_size': 1.1246014937019284}"
      ]
     },
     "execution_count": 40,
     "metadata": {},
     "output_type": "execute_result"
    }
   ],
   "source": [
    "metrics"
   ]
  },
  {
   "cell_type": "code",
   "execution_count": 41,
   "id": "9b9a838d-31c9-430b-ae14-12baee460d17",
   "metadata": {
    "execution": {
     "iopub.execute_input": "2025-07-23T14:33:23.417139Z",
     "iopub.status.busy": "2025-07-23T14:33:23.416611Z",
     "iopub.status.idle": "2025-07-23T14:33:23.423316Z",
     "shell.execute_reply": "2025-07-23T14:33:23.422343Z"
    },
    "papermill": {
     "duration": 0.029149,
     "end_time": "2025-07-23T14:33:23.425040",
     "exception": false,
     "start_time": "2025-07-23T14:33:23.395891",
     "status": "completed"
    },
    "tags": []
   },
   "outputs": [],
   "source": [
    "example_universe = universe.copy()\n",
    "universe_model = example_universe.get(\"model\")\n",
    "universe_exclude_features = example_universe.get(\"exclude_features\")\n",
    "universe_exclude_subgroups = example_universe.get(\"exclude_subgroups\")\n",
    "universe_scale = example_universe.get(\"scale\")"
   ]
  },
  {
   "cell_type": "code",
   "execution_count": 42,
   "id": "f4b6a8ac-9dc0-4245-8a91-5b3b5999c4f9",
   "metadata": {
    "execution": {
     "iopub.execute_input": "2025-07-23T14:33:23.466831Z",
     "iopub.status.busy": "2025-07-23T14:33:23.466074Z",
     "iopub.status.idle": "2025-07-23T14:33:23.473089Z",
     "shell.execute_reply": "2025-07-23T14:33:23.472098Z"
    },
    "papermill": {
     "duration": 0.029608,
     "end_time": "2025-07-23T14:33:23.474765",
     "exception": false,
     "start_time": "2025-07-23T14:33:23.445157",
     "status": "completed"
    },
    "tags": []
   },
   "outputs": [],
   "source": [
    "cp_metrics_dict = {\n",
    "    \"universe_id\": [universe_id],\n",
    "    \"universe_model\": [universe_model],\n",
    "    \"universe_exclude_features\": [universe_exclude_features],\n",
    "    \"universe_exclude_subgroups\": [universe_exclude_subgroups],\n",
    "    \"universe_scale\": [universe_scale],\n",
    "    \"q_hat\": [q_hat],\n",
    "    \"coverage\": [metrics[\"coverage\"]],\n",
    "    \"avg_size\": [metrics[\"avg_size\"]],\n",
    "}"
   ]
  },
  {
   "cell_type": "code",
   "execution_count": 43,
   "id": "908acbb1-0371-4915-85ca-3fa520d2efe2",
   "metadata": {
    "execution": {
     "iopub.execute_input": "2025-07-23T14:33:23.517501Z",
     "iopub.status.busy": "2025-07-23T14:33:23.516789Z",
     "iopub.status.idle": "2025-07-23T14:33:23.525331Z",
     "shell.execute_reply": "2025-07-23T14:33:23.524367Z"
    },
    "papermill": {
     "duration": 0.03155,
     "end_time": "2025-07-23T14:33:23.527019",
     "exception": false,
     "start_time": "2025-07-23T14:33:23.495469",
     "status": "completed"
    },
    "tags": []
   },
   "outputs": [
    {
     "data": {
      "text/plain": [
       "{'universe_id': ['992923ba54cc8fc630efc8cc066c4867'],\n",
       " 'universe_model': ['elasticnet'],\n",
       " 'universe_exclude_features': ['nationality'],\n",
       " 'universe_exclude_subgroups': ['drop-non-german'],\n",
       " 'universe_scale': ['scale'],\n",
       " 'q_hat': [0.66009543995427],\n",
       " 'coverage': [0.9113922639616542],\n",
       " 'avg_size': [1.1246014937019284]}"
      ]
     },
     "execution_count": 43,
     "metadata": {},
     "output_type": "execute_result"
    }
   ],
   "source": [
    "cp_metrics_dict"
   ]
  },
  {
   "cell_type": "code",
   "execution_count": 44,
   "id": "33007efc-14e9-4ec6-97ac-56a455c82265",
   "metadata": {
    "execution": {
     "iopub.execute_input": "2025-07-23T14:33:23.570142Z",
     "iopub.status.busy": "2025-07-23T14:33:23.569442Z",
     "iopub.status.idle": "2025-07-23T14:33:23.576251Z",
     "shell.execute_reply": "2025-07-23T14:33:23.575347Z"
    },
    "papermill": {
     "duration": 0.029823,
     "end_time": "2025-07-23T14:33:23.577940",
     "exception": false,
     "start_time": "2025-07-23T14:33:23.548117",
     "status": "completed"
    },
    "tags": []
   },
   "outputs": [],
   "source": [
    "cp_metrics_df = pd.DataFrame(cp_metrics_dict)"
   ]
  },
  {
   "cell_type": "code",
   "execution_count": 45,
   "id": "db12611b-57b2-4910-b9d0-355adfd6e7bf",
   "metadata": {
    "execution": {
     "iopub.execute_input": "2025-07-23T14:33:23.620609Z",
     "iopub.status.busy": "2025-07-23T14:33:23.619887Z",
     "iopub.status.idle": "2025-07-23T14:33:23.638150Z",
     "shell.execute_reply": "2025-07-23T14:33:23.637172Z"
    },
    "papermill": {
     "duration": 0.04132,
     "end_time": "2025-07-23T14:33:23.639772",
     "exception": false,
     "start_time": "2025-07-23T14:33:23.598452",
     "status": "completed"
    },
    "tags": []
   },
   "outputs": [
    {
     "data": {
      "text/html": [
       "<div>\n",
       "<style scoped>\n",
       "    .dataframe tbody tr th:only-of-type {\n",
       "        vertical-align: middle;\n",
       "    }\n",
       "\n",
       "    .dataframe tbody tr th {\n",
       "        vertical-align: top;\n",
       "    }\n",
       "\n",
       "    .dataframe thead th {\n",
       "        text-align: right;\n",
       "    }\n",
       "</style>\n",
       "<table border=\"1\" class=\"dataframe\">\n",
       "  <thead>\n",
       "    <tr style=\"text-align: right;\">\n",
       "      <th></th>\n",
       "      <th>universe_id</th>\n",
       "      <th>universe_model</th>\n",
       "      <th>universe_exclude_features</th>\n",
       "      <th>universe_exclude_subgroups</th>\n",
       "      <th>universe_scale</th>\n",
       "      <th>q_hat</th>\n",
       "      <th>coverage</th>\n",
       "      <th>avg_size</th>\n",
       "    </tr>\n",
       "  </thead>\n",
       "  <tbody>\n",
       "    <tr>\n",
       "      <th>0</th>\n",
       "      <td>992923ba54cc8fc630efc8cc066c4867</td>\n",
       "      <td>elasticnet</td>\n",
       "      <td>nationality</td>\n",
       "      <td>drop-non-german</td>\n",
       "      <td>scale</td>\n",
       "      <td>0.660095</td>\n",
       "      <td>0.911392</td>\n",
       "      <td>1.124601</td>\n",
       "    </tr>\n",
       "  </tbody>\n",
       "</table>\n",
       "</div>"
      ],
      "text/plain": [
       "                        universe_id universe_model universe_exclude_features  \\\n",
       "0  992923ba54cc8fc630efc8cc066c4867     elasticnet               nationality   \n",
       "\n",
       "  universe_exclude_subgroups universe_scale     q_hat  coverage  avg_size  \n",
       "0            drop-non-german          scale  0.660095  0.911392  1.124601  "
      ]
     },
     "execution_count": 45,
     "metadata": {},
     "output_type": "execute_result"
    }
   ],
   "source": [
    "cp_metrics_df"
   ]
  },
  {
   "cell_type": "code",
   "execution_count": 46,
   "id": "b7fbde55-a0a1-47e4-9af6-fe4a17fa8c61",
   "metadata": {
    "execution": {
     "iopub.execute_input": "2025-07-23T14:33:23.683680Z",
     "iopub.status.busy": "2025-07-23T14:33:23.682994Z",
     "iopub.status.idle": "2025-07-23T14:33:23.688201Z",
     "shell.execute_reply": "2025-07-23T14:33:23.687273Z"
    },
    "papermill": {
     "duration": 0.02883,
     "end_time": "2025-07-23T14:33:23.689860",
     "exception": false,
     "start_time": "2025-07-23T14:33:23.661030",
     "status": "completed"
    },
    "tags": []
   },
   "outputs": [],
   "source": [
    "# Conditional Coverage & looking at subgroups"
   ]
  },
  {
   "cell_type": "code",
   "execution_count": 47,
   "id": "027ae886-68dd-4141-96c7-805a5450e1ef",
   "metadata": {
    "execution": {
     "iopub.execute_input": "2025-07-23T14:33:23.733391Z",
     "iopub.status.busy": "2025-07-23T14:33:23.732660Z",
     "iopub.status.idle": "2025-07-23T14:33:24.003991Z",
     "shell.execute_reply": "2025-07-23T14:33:24.003027Z"
    },
    "papermill": {
     "duration": 0.295062,
     "end_time": "2025-07-23T14:33:24.006014",
     "exception": false,
     "start_time": "2025-07-23T14:33:23.710952",
     "status": "completed"
    },
    "tags": []
   },
   "outputs": [],
   "source": [
    "from fairness_multiverse.conformal import build_cp_groups\n",
    "\n",
    "cp_groups_df = build_cp_groups(pred_sets, y_true, X_test.index, org_test)\n",
    "#needs universe_id and setting"
   ]
  },
  {
   "cell_type": "code",
   "execution_count": 48,
   "id": "c3b92545-903e-4839-89af-0f057907d7d6",
   "metadata": {
    "execution": {
     "iopub.execute_input": "2025-07-23T14:33:24.051143Z",
     "iopub.status.busy": "2025-07-23T14:33:24.050428Z",
     "iopub.status.idle": "2025-07-23T14:33:25.753314Z",
     "shell.execute_reply": "2025-07-23T14:33:25.752172Z"
    },
    "papermill": {
     "duration": 1.727281,
     "end_time": "2025-07-23T14:33:25.755319",
     "exception": false,
     "start_time": "2025-07-23T14:33:24.028038",
     "status": "completed"
    },
    "tags": []
   },
   "outputs": [],
   "source": [
    "# Define covered = 1 if true_label is in the predicted set\n",
    "cp_groups_df['covered'] = cp_groups_df.apply(\n",
    "    lambda r: int(r['true_label'] in r['pred_set']),\n",
    "    axis=1\n",
    ")"
   ]
  },
  {
   "cell_type": "code",
   "execution_count": 49,
   "id": "338ff529-1a6b-4b87-a931-8e4788d52aad",
   "metadata": {
    "execution": {
     "iopub.execute_input": "2025-07-23T14:33:25.805921Z",
     "iopub.status.busy": "2025-07-23T14:33:25.805191Z",
     "iopub.status.idle": "2025-07-23T14:33:25.811317Z",
     "shell.execute_reply": "2025-07-23T14:33:25.810324Z"
    },
    "papermill": {
     "duration": 0.033513,
     "end_time": "2025-07-23T14:33:25.813036",
     "exception": false,
     "start_time": "2025-07-23T14:33:25.779523",
     "status": "completed"
    },
    "tags": []
   },
   "outputs": [],
   "source": [
    "#cp_groups_df"
   ]
  },
  {
   "cell_type": "code",
   "execution_count": 50,
   "id": "90032e27-66df-4540-9169-4e89cfbaa758",
   "metadata": {
    "execution": {
     "iopub.execute_input": "2025-07-23T14:33:25.857935Z",
     "iopub.status.busy": "2025-07-23T14:33:25.857041Z",
     "iopub.status.idle": "2025-07-23T14:33:25.870493Z",
     "shell.execute_reply": "2025-07-23T14:33:25.869591Z"
    },
    "papermill": {
     "duration": 0.03773,
     "end_time": "2025-07-23T14:33:25.872323",
     "exception": false,
     "start_time": "2025-07-23T14:33:25.834593",
     "status": "completed"
    },
    "tags": []
   },
   "outputs": [],
   "source": [
    "subgroups = ['frau1','nongerman','nongerman_male','nongerman_female']\n",
    "\n",
    "# Conditional coverage for subgroup==1\n",
    "cond_coverage = {\n",
    "    g: cp_groups_df.loc[cp_groups_df[g]==1, 'covered'].mean()\n",
    "    for g in subgroups\n",
    "}"
   ]
  },
  {
   "cell_type": "code",
   "execution_count": 51,
   "id": "1e348fb1-b9c3-45bc-ba23-f016827a7e0d",
   "metadata": {
    "execution": {
     "iopub.execute_input": "2025-07-23T14:33:25.918695Z",
     "iopub.status.busy": "2025-07-23T14:33:25.918310Z",
     "iopub.status.idle": "2025-07-23T14:33:25.925024Z",
     "shell.execute_reply": "2025-07-23T14:33:25.923895Z"
    },
    "papermill": {
     "duration": 0.037504,
     "end_time": "2025-07-23T14:33:25.933982",
     "exception": false,
     "start_time": "2025-07-23T14:33:25.896478",
     "status": "completed"
    },
    "tags": []
   },
   "outputs": [
    {
     "data": {
      "text/plain": [
       "{'frau1': 0.9112818439142741,\n",
       " 'nongerman': 0.9102902374670184,\n",
       " 'nongerman_male': 0.9256957579032694,\n",
       " 'nongerman_female': 0.8847988077496274}"
      ]
     },
     "execution_count": 51,
     "metadata": {},
     "output_type": "execute_result"
    }
   ],
   "source": [
    "cond_coverage"
   ]
  },
  {
   "cell_type": "code",
   "execution_count": 52,
   "id": "f5093324-c3dd-4d63-bc4c-8d945e5c8bbb",
   "metadata": {
    "execution": {
     "iopub.execute_input": "2025-07-23T14:33:25.981686Z",
     "iopub.status.busy": "2025-07-23T14:33:25.980976Z",
     "iopub.status.idle": "2025-07-23T14:33:25.989345Z",
     "shell.execute_reply": "2025-07-23T14:33:25.988195Z"
    },
    "papermill": {
     "duration": 0.035406,
     "end_time": "2025-07-23T14:33:25.991236",
     "exception": false,
     "start_time": "2025-07-23T14:33:25.955830",
     "status": "completed"
    },
    "tags": []
   },
   "outputs": [],
   "source": [
    "for subgroup, cov in cond_coverage.items():\n",
    "    cp_metrics_df[f\"cov_{subgroup}\"] = cov"
   ]
  },
  {
   "cell_type": "code",
   "execution_count": 53,
   "id": "6e872e10-dbe5-49e8-b554-5030c98ff75d",
   "metadata": {
    "execution": {
     "iopub.execute_input": "2025-07-23T14:33:26.029368Z",
     "iopub.status.busy": "2025-07-23T14:33:26.028940Z",
     "iopub.status.idle": "2025-07-23T14:33:26.044595Z",
     "shell.execute_reply": "2025-07-23T14:33:26.043822Z"
    },
    "papermill": {
     "duration": 0.032367,
     "end_time": "2025-07-23T14:33:26.046062",
     "exception": false,
     "start_time": "2025-07-23T14:33:26.013695",
     "status": "completed"
    },
    "tags": []
   },
   "outputs": [
    {
     "data": {
      "text/html": [
       "<div>\n",
       "<style scoped>\n",
       "    .dataframe tbody tr th:only-of-type {\n",
       "        vertical-align: middle;\n",
       "    }\n",
       "\n",
       "    .dataframe tbody tr th {\n",
       "        vertical-align: top;\n",
       "    }\n",
       "\n",
       "    .dataframe thead th {\n",
       "        text-align: right;\n",
       "    }\n",
       "</style>\n",
       "<table border=\"1\" class=\"dataframe\">\n",
       "  <thead>\n",
       "    <tr style=\"text-align: right;\">\n",
       "      <th></th>\n",
       "      <th>universe_id</th>\n",
       "      <th>universe_model</th>\n",
       "      <th>universe_exclude_features</th>\n",
       "      <th>universe_exclude_subgroups</th>\n",
       "      <th>universe_scale</th>\n",
       "      <th>q_hat</th>\n",
       "      <th>coverage</th>\n",
       "      <th>avg_size</th>\n",
       "      <th>cov_frau1</th>\n",
       "      <th>cov_nongerman</th>\n",
       "      <th>cov_nongerman_male</th>\n",
       "      <th>cov_nongerman_female</th>\n",
       "    </tr>\n",
       "  </thead>\n",
       "  <tbody>\n",
       "    <tr>\n",
       "      <th>0</th>\n",
       "      <td>992923ba54cc8fc630efc8cc066c4867</td>\n",
       "      <td>elasticnet</td>\n",
       "      <td>nationality</td>\n",
       "      <td>drop-non-german</td>\n",
       "      <td>scale</td>\n",
       "      <td>0.660095</td>\n",
       "      <td>0.911392</td>\n",
       "      <td>1.124601</td>\n",
       "      <td>0.911282</td>\n",
       "      <td>0.91029</td>\n",
       "      <td>0.925696</td>\n",
       "      <td>0.884799</td>\n",
       "    </tr>\n",
       "  </tbody>\n",
       "</table>\n",
       "</div>"
      ],
      "text/plain": [
       "                        universe_id universe_model universe_exclude_features  \\\n",
       "0  992923ba54cc8fc630efc8cc066c4867     elasticnet               nationality   \n",
       "\n",
       "  universe_exclude_subgroups universe_scale     q_hat  coverage  avg_size  \\\n",
       "0            drop-non-german          scale  0.660095  0.911392  1.124601   \n",
       "\n",
       "   cov_frau1  cov_nongerman  cov_nongerman_male  cov_nongerman_female  \n",
       "0   0.911282        0.91029            0.925696              0.884799  "
      ]
     },
     "execution_count": 53,
     "metadata": {},
     "output_type": "execute_result"
    }
   ],
   "source": [
    "cp_metrics_df"
   ]
  },
  {
   "cell_type": "markdown",
   "id": "33774451",
   "metadata": {
    "papermill": {
     "duration": 0.011727,
     "end_time": "2025-07-23T14:33:26.070601",
     "exception": false,
     "start_time": "2025-07-23T14:33:26.058874",
     "status": "completed"
    },
    "tags": []
   },
   "source": [
    "# (Fairness) Metrics"
   ]
  },
  {
   "cell_type": "code",
   "execution_count": 54,
   "id": "debc5d62",
   "metadata": {
    "execution": {
     "iopub.execute_input": "2025-07-23T14:33:26.096174Z",
     "iopub.status.busy": "2025-07-23T14:33:26.095418Z",
     "iopub.status.idle": "2025-07-23T14:33:26.119568Z",
     "shell.execute_reply": "2025-07-23T14:33:26.118512Z"
    },
    "papermill": {
     "duration": 0.03914,
     "end_time": "2025-07-23T14:33:26.121504",
     "exception": false,
     "start_time": "2025-07-23T14:33:26.082364",
     "status": "completed"
    },
    "tags": []
   },
   "outputs": [],
   "source": [
    "# do I need to include maxdeutsch1.missing?\n",
    "\n",
    "import numpy as np\n",
    "\n",
    "colname_to_bin = \"maxdeutsch1\"\n",
    "majority_value = org_train[colname_to_bin].mode()[0]\n",
    "\n",
    "org_test[\"majmin\"] = np.where(org_test[colname_to_bin] == majority_value, \"majority\", \"minority\")"
   ]
  },
  {
   "cell_type": "code",
   "execution_count": 55,
   "id": "06a50de5",
   "metadata": {
    "execution": {
     "iopub.execute_input": "2025-07-23T14:33:26.172652Z",
     "iopub.status.busy": "2025-07-23T14:33:26.172130Z",
     "iopub.status.idle": "2025-07-23T14:33:29.449880Z",
     "shell.execute_reply": "2025-07-23T14:33:29.448902Z"
    },
    "papermill": {
     "duration": 3.304469,
     "end_time": "2025-07-23T14:33:29.451813",
     "exception": false,
     "start_time": "2025-07-23T14:33:26.147344",
     "status": "completed"
    },
    "tags": []
   },
   "outputs": [],
   "source": [
    "example_universe = universe.copy()\n",
    "example_universe[\"cutoff\"] = example_universe[\"cutoff\"][0]\n",
    "example_universe[\"eval_fairness_grouping\"] = example_universe[\"eval_fairness_grouping\"][0]\n",
    "fairness_dict, metric_frame = universe_analysis.compute_metrics(\n",
    "    example_universe,\n",
    "    y_pred_prob=probs_test,\n",
    "    y_test=y_true,\n",
    "    org_test=org_test,\n",
    ")"
   ]
  },
  {
   "cell_type": "markdown",
   "id": "f95d4e02",
   "metadata": {
    "papermill": {
     "duration": 0.024021,
     "end_time": "2025-07-23T14:33:29.499840",
     "exception": false,
     "start_time": "2025-07-23T14:33:29.475819",
     "status": "completed"
    },
    "tags": []
   },
   "source": [
    "# Overall"
   ]
  },
  {
   "cell_type": "markdown",
   "id": "bdee4871",
   "metadata": {
    "papermill": {
     "duration": 0.023822,
     "end_time": "2025-07-23T14:33:29.546230",
     "exception": false,
     "start_time": "2025-07-23T14:33:29.522408",
     "status": "completed"
    },
    "tags": []
   },
   "source": [
    "Fairness\n",
    "Main fairness target: Equalized Odds. Seems to be a better fit than equal opportunity, since we're not only interested in Y = 1. Seems to be a better fit than demographic parity, since we also care about accuracy, not just equal distribution of preds.\n",
    "\n",
    "Pick column for computation of fairness metrics\n",
    "\n",
    "Performance\n",
    "Overall performance measures, most interesting in relation to the measures split by group below"
   ]
  },
  {
   "cell_type": "code",
   "execution_count": 56,
   "id": "c4e067c6",
   "metadata": {
    "execution": {
     "iopub.execute_input": "2025-07-23T14:33:29.594860Z",
     "iopub.status.busy": "2025-07-23T14:33:29.594134Z",
     "iopub.status.idle": "2025-07-23T14:33:29.603275Z",
     "shell.execute_reply": "2025-07-23T14:33:29.602258Z"
    },
    "papermill": {
     "duration": 0.03529,
     "end_time": "2025-07-23T14:33:29.605055",
     "exception": false,
     "start_time": "2025-07-23T14:33:29.569765",
     "status": "completed"
    },
    "tags": []
   },
   "outputs": [
    {
     "data": {
      "text/plain": [
       "accuracy                   0.225738\n",
       "balanced accuracy          0.551676\n",
       "f1                         0.247032\n",
       "precision                  0.141121\n",
       "false positive rate        0.886742\n",
       "false negative rate        0.009906\n",
       "selection rate             0.900000\n",
       "count                  89710.000000\n",
       "dtype: float64"
      ]
     },
     "execution_count": 56,
     "metadata": {},
     "output_type": "execute_result"
    }
   ],
   "source": [
    "metric_frame.overall"
   ]
  },
  {
   "cell_type": "markdown",
   "id": "e968fe9d",
   "metadata": {
    "papermill": {
     "duration": 0.023128,
     "end_time": "2025-07-23T14:33:29.652313",
     "exception": false,
     "start_time": "2025-07-23T14:33:29.629185",
     "status": "completed"
    },
    "tags": []
   },
   "source": [
    "By Group"
   ]
  },
  {
   "cell_type": "code",
   "execution_count": 57,
   "id": "ec325bce",
   "metadata": {
    "execution": {
     "iopub.execute_input": "2025-07-23T14:33:29.810303Z",
     "iopub.status.busy": "2025-07-23T14:33:29.809524Z",
     "iopub.status.idle": "2025-07-23T14:33:29.826468Z",
     "shell.execute_reply": "2025-07-23T14:33:29.825477Z"
    },
    "papermill": {
     "duration": 0.152347,
     "end_time": "2025-07-23T14:33:29.828947",
     "exception": false,
     "start_time": "2025-07-23T14:33:29.676600",
     "status": "completed"
    },
    "tags": []
   },
   "outputs": [
    {
     "data": {
      "text/html": [
       "<div>\n",
       "<style scoped>\n",
       "    .dataframe tbody tr th:only-of-type {\n",
       "        vertical-align: middle;\n",
       "    }\n",
       "\n",
       "    .dataframe tbody tr th {\n",
       "        vertical-align: top;\n",
       "    }\n",
       "\n",
       "    .dataframe thead th {\n",
       "        text-align: right;\n",
       "    }\n",
       "</style>\n",
       "<table border=\"1\" class=\"dataframe\">\n",
       "  <thead>\n",
       "    <tr style=\"text-align: right;\">\n",
       "      <th></th>\n",
       "      <th>accuracy</th>\n",
       "      <th>balanced accuracy</th>\n",
       "      <th>f1</th>\n",
       "      <th>precision</th>\n",
       "      <th>false positive rate</th>\n",
       "      <th>false negative rate</th>\n",
       "      <th>selection rate</th>\n",
       "      <th>count</th>\n",
       "    </tr>\n",
       "    <tr>\n",
       "      <th>majmin</th>\n",
       "      <th></th>\n",
       "      <th></th>\n",
       "      <th></th>\n",
       "      <th></th>\n",
       "      <th></th>\n",
       "      <th></th>\n",
       "      <th></th>\n",
       "      <th></th>\n",
       "    </tr>\n",
       "  </thead>\n",
       "  <tbody>\n",
       "    <tr>\n",
       "      <th>majority</th>\n",
       "      <td>0.247752</td>\n",
       "      <td>0.561878</td>\n",
       "      <td>0.257827</td>\n",
       "      <td>0.148239</td>\n",
       "      <td>0.865084</td>\n",
       "      <td>0.011160</td>\n",
       "      <td>0.881437</td>\n",
       "      <td>69170.0</td>\n",
       "    </tr>\n",
       "    <tr>\n",
       "      <th>minority</th>\n",
       "      <td>0.151607</td>\n",
       "      <td>0.518322</td>\n",
       "      <td>0.212847</td>\n",
       "      <td>0.119170</td>\n",
       "      <td>0.958287</td>\n",
       "      <td>0.005068</td>\n",
       "      <td>0.962512</td>\n",
       "      <td>20540.0</td>\n",
       "    </tr>\n",
       "  </tbody>\n",
       "</table>\n",
       "</div>"
      ],
      "text/plain": [
       "          accuracy  balanced accuracy        f1  precision  \\\n",
       "majmin                                                       \n",
       "majority  0.247752           0.561878  0.257827   0.148239   \n",
       "minority  0.151607           0.518322  0.212847   0.119170   \n",
       "\n",
       "          false positive rate  false negative rate  selection rate    count  \n",
       "majmin                                                                       \n",
       "majority             0.865084             0.011160        0.881437  69170.0  \n",
       "minority             0.958287             0.005068        0.962512  20540.0  "
      ]
     },
     "execution_count": 57,
     "metadata": {},
     "output_type": "execute_result"
    }
   ],
   "source": [
    "metric_frame.by_group"
   ]
  },
  {
   "cell_type": "code",
   "execution_count": 58,
   "id": "a9ddbe63",
   "metadata": {
    "execution": {
     "iopub.execute_input": "2025-07-23T14:33:29.893370Z",
     "iopub.status.busy": "2025-07-23T14:33:29.892657Z",
     "iopub.status.idle": "2025-07-23T14:33:32.386780Z",
     "shell.execute_reply": "2025-07-23T14:33:32.385471Z"
    },
    "papermill": {
     "duration": 2.524554,
     "end_time": "2025-07-23T14:33:32.388837",
     "exception": false,
     "start_time": "2025-07-23T14:33:29.864283",
     "status": "completed"
    },
    "tags": []
   },
   "outputs": [
    {
     "data": {
      "text/plain": [
       "array([[<Axes: title={'center': 'accuracy'}, xlabel='majmin'>,\n",
       "        <Axes: title={'center': 'balanced accuracy'}, xlabel='majmin'>,\n",
       "        <Axes: title={'center': 'f1'}, xlabel='majmin'>],\n",
       "       [<Axes: title={'center': 'precision'}, xlabel='majmin'>,\n",
       "        <Axes: title={'center': 'false positive rate'}, xlabel='majmin'>,\n",
       "        <Axes: title={'center': 'false negative rate'}, xlabel='majmin'>],\n",
       "       [<Axes: title={'center': 'selection rate'}, xlabel='majmin'>,\n",
       "        <Axes: title={'center': 'count'}, xlabel='majmin'>,\n",
       "        <Axes: xlabel='majmin'>]], dtype=object)"
      ]
     },
     "execution_count": 58,
     "metadata": {},
     "output_type": "execute_result"
    },
    {
     "data": {
      "image/png": "[encoded data removed]",
      "text/plain": [
       "<Figure size 1200x800 with 9 Axes>"
      ]
     },
     "metadata": {},
     "output_type": "display_data"
    }
   ],
   "source": [
    "# In a graphic\n",
    "metric_frame.by_group.plot.bar(\n",
    "    subplots=True,\n",
    "    layout=[3, 3],\n",
    "    legend=False,\n",
    "    figsize=[12, 8],\n",
    "    title=\"Show all metrics\",\n",
    ")"
   ]
  },
  {
   "cell_type": "markdown",
   "id": "f57a0bac",
   "metadata": {
    "papermill": {
     "duration": 0.028101,
     "end_time": "2025-07-23T14:33:32.445526",
     "exception": false,
     "start_time": "2025-07-23T14:33:32.417425",
     "status": "completed"
    },
    "tags": []
   },
   "source": [
    "# Final Output"
   ]
  },
  {
   "cell_type": "code",
   "execution_count": 59,
   "id": "96d280a3",
   "metadata": {
    "execution": {
     "iopub.execute_input": "2025-07-23T14:33:32.477500Z",
     "iopub.status.busy": "2025-07-23T14:33:32.476690Z",
     "iopub.status.idle": "2025-07-23T14:33:32.484318Z",
     "shell.execute_reply": "2025-07-23T14:33:32.483410Z"
    },
    "papermill": {
     "duration": 0.026409,
     "end_time": "2025-07-23T14:33:32.485781",
     "exception": false,
     "start_time": "2025-07-23T14:33:32.459372",
     "status": "completed"
    },
    "tags": []
   },
   "outputs": [
    {
     "data": {
      "text/plain": [
       "4"
      ]
     },
     "execution_count": 59,
     "metadata": {},
     "output_type": "execute_result"
    }
   ],
   "source": [
    "sub_universes = universe_analysis.generate_sub_universes()\n",
    "len(sub_universes)"
   ]
  },
  {
   "cell_type": "code",
   "execution_count": 60,
   "id": "92adf7ba",
   "metadata": {
    "execution": {
     "iopub.execute_input": "2025-07-23T14:33:32.550959Z",
     "iopub.status.busy": "2025-07-23T14:33:32.550380Z",
     "iopub.status.idle": "2025-07-23T14:33:32.557232Z",
     "shell.execute_reply": "2025-07-23T14:33:32.555950Z"
    },
    "papermill": {
     "duration": 0.046033,
     "end_time": "2025-07-23T14:33:32.559242",
     "exception": false,
     "start_time": "2025-07-23T14:33:32.513209",
     "status": "completed"
    },
    "tags": []
   },
   "outputs": [],
   "source": [
    "def filter_sub_universe_data(sub_universe, org_test):\n",
    "    # Keep all rows — no filtering\n",
    "    keep_rows_mask = np.ones(org_test.shape[0], dtype=bool)\n",
    "\n",
    "    print(f\"[INFO] Keeping all rows: {keep_rows_mask.sum()} rows retained.\")\n",
    "    return keep_rows_mask"
   ]
  },
  {
   "cell_type": "code",
   "execution_count": 61,
   "id": "4a759155",
   "metadata": {
    "execution": {
     "iopub.execute_input": "2025-07-23T14:33:32.614450Z",
     "iopub.status.busy": "2025-07-23T14:33:32.613325Z",
     "iopub.status.idle": "2025-07-23T14:33:42.040205Z",
     "shell.execute_reply": "2025-07-23T14:33:42.039141Z"
    },
    "papermill": {
     "duration": 9.45359,
     "end_time": "2025-07-23T14:33:42.041990",
     "exception": false,
     "start_time": "2025-07-23T14:33:32.588400",
     "status": "completed"
    },
    "tags": []
   },
   "outputs": [
    {
     "name": "stdout",
     "output_type": "stream",
     "text": [
      "Stopping execution_time clock.\n",
      "[INFO] Keeping all rows: 89710 rows retained.\n"
     ]
    },
    {
     "name": "stdout",
     "output_type": "stream",
     "text": [
      "[INFO] Keeping all rows: 89710 rows retained.\n"
     ]
    },
    {
     "name": "stdout",
     "output_type": "stream",
     "text": [
      "[INFO] Keeping all rows: 89710 rows retained.\n"
     ]
    },
    {
     "name": "stdout",
     "output_type": "stream",
     "text": [
      "[INFO] Keeping all rows: 89710 rows retained.\n"
     ]
    },
    {
     "data": {
      "text/html": [
       "<div>\n",
       "<style scoped>\n",
       "    .dataframe tbody tr th:only-of-type {\n",
       "        vertical-align: middle;\n",
       "    }\n",
       "\n",
       "    .dataframe tbody tr th {\n",
       "        vertical-align: top;\n",
       "    }\n",
       "\n",
       "    .dataframe thead th {\n",
       "        text-align: right;\n",
       "    }\n",
       "</style>\n",
       "<table border=\"1\" class=\"dataframe\">\n",
       "  <thead>\n",
       "    <tr style=\"text-align: right;\">\n",
       "      <th></th>\n",
       "      <th>run_no</th>\n",
       "      <th>universe_id</th>\n",
       "      <th>universe_settings</th>\n",
       "      <th>execution_time</th>\n",
       "      <th>test_size_n</th>\n",
       "      <th>test_size_frac</th>\n",
       "      <th>fair_main_equalized_odds_difference</th>\n",
       "      <th>fair_main_equalized_odds_ratio</th>\n",
       "      <th>fair_main_demographic_parity_difference</th>\n",
       "      <th>fair_main_demographic_parity_ratio</th>\n",
       "      <th>...</th>\n",
       "      <th>perf_grp_precision_0</th>\n",
       "      <th>perf_grp_precision_1</th>\n",
       "      <th>perf_grp_false positive rate_0</th>\n",
       "      <th>perf_grp_false positive rate_1</th>\n",
       "      <th>perf_grp_false negative rate_0</th>\n",
       "      <th>perf_grp_false negative rate_1</th>\n",
       "      <th>perf_grp_selection rate_0</th>\n",
       "      <th>perf_grp_selection rate_1</th>\n",
       "      <th>perf_grp_count_0</th>\n",
       "      <th>perf_grp_count_1</th>\n",
       "    </tr>\n",
       "  </thead>\n",
       "  <tbody>\n",
       "    <tr>\n",
       "      <th>0</th>\n",
       "      <td>9</td>\n",
       "      <td>992923ba54cc8fc630efc8cc066c4867</td>\n",
       "      <td>{\"cutoff\": \"quantile_0.1\", \"eval_fairness_grou...</td>\n",
       "      <td>55.946043</td>\n",
       "      <td>89710</td>\n",
       "      <td>1.0</td>\n",
       "      <td>0.093203</td>\n",
       "      <td>0.902740</td>\n",
       "      <td>0.081075</td>\n",
       "      <td>0.915767</td>\n",
       "      <td>...</td>\n",
       "      <td>NaN</td>\n",
       "      <td>NaN</td>\n",
       "      <td>NaN</td>\n",
       "      <td>NaN</td>\n",
       "      <td>NaN</td>\n",
       "      <td>NaN</td>\n",
       "      <td>NaN</td>\n",
       "      <td>NaN</td>\n",
       "      <td>NaN</td>\n",
       "      <td>NaN</td>\n",
       "    </tr>\n",
       "    <tr>\n",
       "      <th>0</th>\n",
       "      <td>9</td>\n",
       "      <td>992923ba54cc8fc630efc8cc066c4867</td>\n",
       "      <td>{\"cutoff\": \"quantile_0.1\", \"eval_fairness_grou...</td>\n",
       "      <td>55.946043</td>\n",
       "      <td>89710</td>\n",
       "      <td>1.0</td>\n",
       "      <td>0.093203</td>\n",
       "      <td>0.902740</td>\n",
       "      <td>0.081075</td>\n",
       "      <td>0.915767</td>\n",
       "      <td>...</td>\n",
       "      <td>0.119170</td>\n",
       "      <td>0.148239</td>\n",
       "      <td>0.958287</td>\n",
       "      <td>0.865084</td>\n",
       "      <td>0.005068</td>\n",
       "      <td>0.011160</td>\n",
       "      <td>0.962512</td>\n",
       "      <td>0.881437</td>\n",
       "      <td>20540.0</td>\n",
       "      <td>69170.0</td>\n",
       "    </tr>\n",
       "    <tr>\n",
       "      <th>0</th>\n",
       "      <td>9</td>\n",
       "      <td>992923ba54cc8fc630efc8cc066c4867</td>\n",
       "      <td>{\"cutoff\": \"quantile_0.25\", \"eval_fairness_gro...</td>\n",
       "      <td>55.946043</td>\n",
       "      <td>89710</td>\n",
       "      <td>1.0</td>\n",
       "      <td>0.139777</td>\n",
       "      <td>0.831048</td>\n",
       "      <td>0.119978</td>\n",
       "      <td>0.857593</td>\n",
       "      <td>...</td>\n",
       "      <td>NaN</td>\n",
       "      <td>NaN</td>\n",
       "      <td>NaN</td>\n",
       "      <td>NaN</td>\n",
       "      <td>NaN</td>\n",
       "      <td>NaN</td>\n",
       "      <td>NaN</td>\n",
       "      <td>NaN</td>\n",
       "      <td>NaN</td>\n",
       "      <td>NaN</td>\n",
       "    </tr>\n",
       "    <tr>\n",
       "      <th>0</th>\n",
       "      <td>9</td>\n",
       "      <td>992923ba54cc8fc630efc8cc066c4867</td>\n",
       "      <td>{\"cutoff\": \"quantile_0.25\", \"eval_fairness_gro...</td>\n",
       "      <td>55.946043</td>\n",
       "      <td>89710</td>\n",
       "      <td>1.0</td>\n",
       "      <td>0.139777</td>\n",
       "      <td>0.831048</td>\n",
       "      <td>0.119978</td>\n",
       "      <td>0.857593</td>\n",
       "      <td>...</td>\n",
       "      <td>0.131234</td>\n",
       "      <td>0.174160</td>\n",
       "      <td>0.827317</td>\n",
       "      <td>0.687540</td>\n",
       "      <td>0.040963</td>\n",
       "      <td>0.047702</td>\n",
       "      <td>0.842502</td>\n",
       "      <td>0.722524</td>\n",
       "      <td>20540.0</td>\n",
       "      <td>69170.0</td>\n",
       "    </tr>\n",
       "  </tbody>\n",
       "</table>\n",
       "<p>4 rows × 50 columns</p>\n",
       "</div>"
      ],
      "text/plain": [
       "  run_no                       universe_id  \\\n",
       "0      9  992923ba54cc8fc630efc8cc066c4867   \n",
       "0      9  992923ba54cc8fc630efc8cc066c4867   \n",
       "0      9  992923ba54cc8fc630efc8cc066c4867   \n",
       "0      9  992923ba54cc8fc630efc8cc066c4867   \n",
       "\n",
       "                                   universe_settings  execution_time  \\\n",
       "0  {\"cutoff\": \"quantile_0.1\", \"eval_fairness_grou...       55.946043   \n",
       "0  {\"cutoff\": \"quantile_0.1\", \"eval_fairness_grou...       55.946043   \n",
       "0  {\"cutoff\": \"quantile_0.25\", \"eval_fairness_gro...       55.946043   \n",
       "0  {\"cutoff\": \"quantile_0.25\", \"eval_fairness_gro...       55.946043   \n",
       "\n",
       "   test_size_n  test_size_frac  fair_main_equalized_odds_difference  \\\n",
       "0        89710             1.0                             0.093203   \n",
       "0        89710             1.0                             0.093203   \n",
       "0        89710             1.0                             0.139777   \n",
       "0        89710             1.0                             0.139777   \n",
       "\n",
       "   fair_main_equalized_odds_ratio  fair_main_demographic_parity_difference  \\\n",
       "0                        0.902740                                 0.081075   \n",
       "0                        0.902740                                 0.081075   \n",
       "0                        0.831048                                 0.119978   \n",
       "0                        0.831048                                 0.119978   \n",
       "\n",
       "   fair_main_demographic_parity_ratio  ...  perf_grp_precision_0  \\\n",
       "0                            0.915767  ...                   NaN   \n",
       "0                            0.915767  ...              0.119170   \n",
       "0                            0.857593  ...                   NaN   \n",
       "0                            0.857593  ...              0.131234   \n",
       "\n",
       "   perf_grp_precision_1  perf_grp_false positive rate_0  \\\n",
       "0                   NaN                             NaN   \n",
       "0              0.148239                        0.958287   \n",
       "0                   NaN                             NaN   \n",
       "0              0.174160                        0.827317   \n",
       "\n",
       "   perf_grp_false positive rate_1  perf_grp_false negative rate_0  \\\n",
       "0                             NaN                             NaN   \n",
       "0                        0.865084                        0.005068   \n",
       "0                             NaN                             NaN   \n",
       "0                        0.687540                        0.040963   \n",
       "\n",
       "   perf_grp_false negative rate_1  perf_grp_selection rate_0  \\\n",
       "0                             NaN                        NaN   \n",
       "0                        0.011160                   0.962512   \n",
       "0                             NaN                        NaN   \n",
       "0                        0.047702                   0.842502   \n",
       "\n",
       "   perf_grp_selection rate_1  perf_grp_count_0  perf_grp_count_1  \n",
       "0                        NaN               NaN               NaN  \n",
       "0                   0.881437           20540.0           69170.0  \n",
       "0                        NaN               NaN               NaN  \n",
       "0                   0.722524           20540.0           69170.0  \n",
       "\n",
       "[4 rows x 50 columns]"
      ]
     },
     "execution_count": 61,
     "metadata": {},
     "output_type": "execute_result"
    }
   ],
   "source": [
    "final_output = universe_analysis.generate_final_output(\n",
    "    y_pred_prob=probs_test,\n",
    "    y_test=y_true,\n",
    "    org_test=org_test,\n",
    "    filter_data=filter_sub_universe_data,\n",
    "    cp_metrics_df=cp_metrics_df,\n",
    "    save=True,\n",
    ")\n",
    "final_output"
   ]
  },
  {
   "cell_type": "code",
   "execution_count": null,
   "id": "721ff514-cb11-46f8-b6fc-50392f74b5cb",
   "metadata": {
    "papermill": {
     "duration": 0.025091,
     "end_time": "2025-07-23T14:33:42.095607",
     "exception": false,
     "start_time": "2025-07-23T14:33:42.070516",
     "status": "completed"
    },
    "tags": []
   },
   "outputs": [],
   "source": []
  }
 ],
 "metadata": {
  "celltoolbar": "Tags",
  "kernelspec": {
   "display_name": "Python (CMA Fairness)",
   "language": "python",
   "name": "cma_fair_env"
  },
  "language_info": {
   "codemirror_mode": {
    "name": "ipython",
    "version": 3
   },
   "file_extension": ".py",
   "mimetype": "text/x-python",
   "name": "python",
   "nbconvert_exporter": "python",
   "pygments_lexer": "ipython3",
   "version": "3.10.12"
  },
  "papermill": {
   "default_parameters": {},
   "duration": 69.799038,
   "end_time": "2025-07-23T14:33:42.841436",
   "environment_variables": {},
   "exception": null,
   "input_path": "universe_analysis.ipynb",
   "output_path": "output/runs/9/notebooks/m_9-992923ba54cc8fc630efc8cc066c4867.ipynb",
   "parameters": {
    "output_dir": "output",
    "run_no": "9",
    "seed": "2023",
    "universe": "{\"cutoff\": [\"quantile_0.1\", \"quantile_0.25\"], \"eval_fairness_grouping\": [\"majority-minority\", \"nationality-all\"], \"exclude_features\": \"nationality\", \"exclude_subgroups\": \"drop-non-german\", \"model\": \"elasticnet\", \"scale\": \"scale\"}",
    "universe_id": "992923ba54cc8fc630efc8cc066c4867"
   },
   "start_time": "2025-07-23T14:32:33.042398",
   "version": "2.6.0"
  }
 },
 "nbformat": 4,
 "nbformat_minor": 5
}