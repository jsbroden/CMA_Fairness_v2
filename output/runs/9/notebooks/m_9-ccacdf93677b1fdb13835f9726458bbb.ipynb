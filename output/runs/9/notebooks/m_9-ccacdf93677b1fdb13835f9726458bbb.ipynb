{
 "cells": [
  {
   "cell_type": "code",
   "execution_count": 1,
   "id": "f159f837-637b-42ba-96b5-ec9a68c44524",
   "metadata": {
    "execution": {
     "iopub.execute_input": "2025-07-23T14:41:53.961292Z",
     "iopub.status.busy": "2025-07-23T14:41:53.960596Z",
     "iopub.status.idle": "2025-07-23T14:41:53.974846Z",
     "shell.execute_reply": "2025-07-23T14:41:53.973742Z"
    },
    "papermill": {
     "duration": 0.035111,
     "end_time": "2025-07-23T14:41:53.976847",
     "exception": false,
     "start_time": "2025-07-23T14:41:53.941736",
     "status": "completed"
    },
    "tags": []
   },
   "outputs": [
    {
     "name": "stdout",
     "output_type": "stream",
     "text": [
      "/dss/dsshome1/0C/ra93lal2/cma/CMA_Fairness_v2\n"
     ]
    },
    {
     "name": "stderr",
     "output_type": "stream",
     "text": [
      "/dss/dsshome1/0C/ra93lal2/.local/share/virtualenvs/CMA_Fairness_v2-3j10GkSs/lib/python3.10/site-packages/IPython/core/magics/osm.py:393: UserWarning: This is now an optional IPython functionality, using bookmarks requires you to install the `pickleshare` library.\n",
      "  bkms = self.shell.db.get('bookmarks', {})\n",
      "/dss/dsshome1/0C/ra93lal2/.local/share/virtualenvs/CMA_Fairness_v2-3j10GkSs/lib/python3.10/site-packages/IPython/core/magics/osm.py:417: UserWarning: This is now an optional IPython functionality, setting dhist requires you to install the `pickleshare` library.\n",
      "  self.shell.db['dhist'] = compress_dhist(dhist)[-100:]\n"
     ]
    }
   ],
   "source": [
    "%cd ~/cma/CMA_Fairness_v2"
   ]
  },
  {
   "cell_type": "markdown",
   "id": "de2603b9",
   "metadata": {
    "papermill": {
     "duration": 0.017567,
     "end_time": "2025-07-23T14:41:54.012552",
     "exception": false,
     "start_time": "2025-07-23T14:41:53.994985",
     "status": "completed"
    },
    "tags": []
   },
   "source": [
    "The following cell holds the definition of our parameters, these values can be overriden by rendering the with e.g. the following command:\n",
    "\n",
    "papermill -p alpha 0.2 -p ratio 0.3 universe_analysis.ipynb output/test_run.ipynb"
   ]
  },
  {
   "cell_type": "code",
   "execution_count": 2,
   "id": "a80968a0-40bb-4fa9-85ef-2d5eefb01975",
   "metadata": {
    "execution": {
     "iopub.execute_input": "2025-07-23T14:41:54.047983Z",
     "iopub.status.busy": "2025-07-23T14:41:54.047289Z",
     "iopub.status.idle": "2025-07-23T14:41:54.053168Z",
     "shell.execute_reply": "2025-07-23T14:41:54.052098Z"
    },
    "papermill": {
     "duration": 0.025625,
     "end_time": "2025-07-23T14:41:54.054954",
     "exception": false,
     "start_time": "2025-07-23T14:41:54.029329",
     "status": "completed"
    },
    "tags": []
   },
   "outputs": [
    {
     "name": "stdout",
     "output_type": "stream",
     "text": [
      "Current working directory: /dss/dsshome1/0C/ra93lal2/cma/CMA_Fairness_v2\n"
     ]
    }
   ],
   "source": [
    "import os\n",
    "print(\"Current working directory:\", os.getcwd())"
   ]
  },
  {
   "cell_type": "code",
   "execution_count": 3,
   "id": "2dce4c03",
   "metadata": {
    "execution": {
     "iopub.execute_input": "2025-07-23T14:41:54.092448Z",
     "iopub.status.busy": "2025-07-23T14:41:54.091768Z",
     "iopub.status.idle": "2025-07-23T14:41:54.098614Z",
     "shell.execute_reply": "2025-07-23T14:41:54.097512Z"
    },
    "papermill": {
     "duration": 0.026809,
     "end_time": "2025-07-23T14:41:54.100505",
     "exception": false,
     "start_time": "2025-07-23T14:41:54.073696",
     "status": "completed"
    },
    "tags": [
     "parameters"
    ]
   },
   "outputs": [],
   "source": [
    "run_no = 0\n",
    "universe_id = \"test\"\n",
    "universe = {\n",
    "    \"scale\": \"scale\", # \"scale\", \"do-not-scale\",\n",
    "    \"model\": \"elasticnet\", # \"logreg\", \"penalized_logreg\", \"rf\", \"gbm\", \"elasticnet\"\n",
    "    \"cutoff\": [\"quantile_0.15\", \"quantile_0.30\"],\n",
    "    \"exclude_features\": \"age\", # \"none\", \"nationality\", \"sex\", \"nationality-sex\", \"age\"\n",
    "    \"exclude_subgroups\": \"keep-all\", # \"keep-all\", \"drop-non-german\"\n",
    "    #\"training_sample\": \"restricted\", # \"restricted\", \"full\"\n",
    "    \"eval_fairness_grouping\": [\"majority-minority\", \"nationality-all\"]\n",
    "}\n",
    "\n",
    "output_dir=\"./output\"\n",
    "seed=0"
   ]
  },
  {
   "cell_type": "code",
   "execution_count": 4,
   "id": "a77b2b52",
   "metadata": {
    "execution": {
     "iopub.execute_input": "2025-07-23T14:41:54.139366Z",
     "iopub.status.busy": "2025-07-23T14:41:54.138679Z",
     "iopub.status.idle": "2025-07-23T14:41:54.144287Z",
     "shell.execute_reply": "2025-07-23T14:41:54.143242Z"
    },
    "papermill": {
     "duration": 0.026561,
     "end_time": "2025-07-23T14:41:54.146228",
     "exception": false,
     "start_time": "2025-07-23T14:41:54.119667",
     "status": "completed"
    },
    "tags": [
     "injected-parameters"
    ]
   },
   "outputs": [],
   "source": [
    "# Parameters\n",
    "universe_id = \"ccacdf93677b1fdb13835f9726458bbb\"\n",
    "run_no = \"9\"\n",
    "universe = \"{\\\"cutoff\\\": [\\\"quantile_0.1\\\", \\\"quantile_0.25\\\"], \\\"eval_fairness_grouping\\\": [\\\"majority-minority\\\", \\\"nationality-all\\\"], \\\"exclude_features\\\": \\\"nationality-sex\\\", \\\"exclude_subgroups\\\": \\\"keep-all\\\", \\\"model\\\": \\\"elasticnet\\\", \\\"scale\\\": \\\"do-not-scale\\\"}\"\n",
    "output_dir = \"output\"\n",
    "seed = \"2023\"\n"
   ]
  },
  {
   "cell_type": "code",
   "execution_count": 5,
   "id": "1650acaf",
   "metadata": {
    "execution": {
     "iopub.execute_input": "2025-07-23T14:41:54.183131Z",
     "iopub.status.busy": "2025-07-23T14:41:54.182437Z",
     "iopub.status.idle": "2025-07-23T14:41:54.187800Z",
     "shell.execute_reply": "2025-07-23T14:41:54.186620Z"
    },
    "papermill": {
     "duration": 0.026161,
     "end_time": "2025-07-23T14:41:54.189753",
     "exception": false,
     "start_time": "2025-07-23T14:41:54.163592",
     "status": "completed"
    },
    "tags": []
   },
   "outputs": [],
   "source": [
    "import json\n",
    "# Parse universe into dict if it is passed as a string\n",
    "if isinstance(universe, str):\n",
    "    universe = json.loads(universe)"
   ]
  },
  {
   "cell_type": "code",
   "execution_count": 6,
   "id": "16620c48",
   "metadata": {
    "execution": {
     "iopub.execute_input": "2025-07-23T14:41:54.226902Z",
     "iopub.status.busy": "2025-07-23T14:41:54.226217Z",
     "iopub.status.idle": "2025-07-23T14:41:54.274236Z",
     "shell.execute_reply": "2025-07-23T14:41:54.273227Z"
    },
    "papermill": {
     "duration": 0.067858,
     "end_time": "2025-07-23T14:41:54.276250",
     "exception": false,
     "start_time": "2025-07-23T14:41:54.208392",
     "status": "completed"
    },
    "tags": []
   },
   "outputs": [],
   "source": [
    "# Auto-reload the custom package\n",
    "%load_ext autoreload\n",
    "%autoreload 1\n",
    "%aimport fairness_multiverse"
   ]
  },
  {
   "cell_type": "code",
   "execution_count": 7,
   "id": "01c5c9f3",
   "metadata": {
    "execution": {
     "iopub.execute_input": "2025-07-23T14:41:54.314165Z",
     "iopub.status.busy": "2025-07-23T14:41:54.313481Z",
     "iopub.status.idle": "2025-07-23T14:41:56.197320Z",
     "shell.execute_reply": "2025-07-23T14:41:56.196464Z"
    },
    "papermill": {
     "duration": 1.903903,
     "end_time": "2025-07-23T14:41:56.198918",
     "exception": false,
     "start_time": "2025-07-23T14:41:54.295015",
     "status": "completed"
    },
    "tags": []
   },
   "outputs": [],
   "source": [
    "from fairness_multiverse.universe import UniverseAnalysis\n",
    "\n",
    "universe_analysis = UniverseAnalysis(\n",
    "    run_no = run_no,\n",
    "    universe_id = universe_id,\n",
    "    universe = universe,\n",
    "    output_dir=output_dir,\n",
    ")"
   ]
  },
  {
   "cell_type": "code",
   "execution_count": 8,
   "id": "106241f5",
   "metadata": {
    "execution": {
     "iopub.execute_input": "2025-07-23T14:41:56.220895Z",
     "iopub.status.busy": "2025-07-23T14:41:56.220079Z",
     "iopub.status.idle": "2025-07-23T14:41:56.226092Z",
     "shell.execute_reply": "2025-07-23T14:41:56.225190Z"
    },
    "papermill": {
     "duration": 0.018418,
     "end_time": "2025-07-23T14:41:56.227555",
     "exception": false,
     "start_time": "2025-07-23T14:41:56.209137",
     "status": "completed"
    },
    "tags": []
   },
   "outputs": [
    {
     "name": "stdout",
     "output_type": "stream",
     "text": [
      "Using Seed: 2023\n"
     ]
    }
   ],
   "source": [
    "import numpy as np\n",
    "parsed_seed = int(seed)\n",
    "np.random.seed(parsed_seed)\n",
    "print(f\"Using Seed: {parsed_seed}\")"
   ]
  },
  {
   "cell_type": "markdown",
   "id": "e0ebdc57",
   "metadata": {
    "papermill": {
     "duration": 0.00999,
     "end_time": "2025-07-23T14:41:56.248292",
     "exception": false,
     "start_time": "2025-07-23T14:41:56.238302",
     "status": "completed"
    },
    "tags": []
   },
   "source": [
    "# Loading Data"
   ]
  },
  {
   "cell_type": "markdown",
   "id": "681925a3",
   "metadata": {
    "papermill": {
     "duration": 0.009828,
     "end_time": "2025-07-23T14:41:56.268062",
     "exception": false,
     "start_time": "2025-07-23T14:41:56.258234",
     "status": "completed"
    },
    "tags": []
   },
   "source": [
    "Load siab_train, siab_test, siab_calib and/or \n",
    "load siab_train_features, siab_train_labels"
   ]
  },
  {
   "cell_type": "code",
   "execution_count": 9,
   "id": "f0496b8a",
   "metadata": {
    "execution": {
     "iopub.execute_input": "2025-07-23T14:41:56.289401Z",
     "iopub.status.busy": "2025-07-23T14:41:56.288848Z",
     "iopub.status.idle": "2025-07-23T14:41:56.294130Z",
     "shell.execute_reply": "2025-07-23T14:41:56.293229Z"
    },
    "papermill": {
     "duration": 0.017719,
     "end_time": "2025-07-23T14:41:56.295656",
     "exception": false,
     "start_time": "2025-07-23T14:41:56.277937",
     "status": "completed"
    },
    "tags": []
   },
   "outputs": [],
   "source": [
    "# Do I need to load siab? Delete this cell?\n",
    "\n",
    "#from pathlib import Path\n",
    "#import pandas as pd\n",
    "#\n",
    "## File paths\n",
    "#raw_file = Path(\"data/raw/siab.csv\")\n",
    "#cache_file = Path(\"data/siab_cached.csv.gz\")\n",
    "#\n",
    "## Ensure cache directory exists\n",
    "#cache_file.parent.mkdir(parents=True, exist_ok=True)\n",
    "#\n",
    "## Load with simple caching\n",
    "#if cache_file.exists():\n",
    "#    print(f\"Loading SIAB data from cache: {cache_file}\")\n",
    "#    siab = pd.read_csv(cache_file, compression='gzip')\n",
    "#else:\n",
    "#    print(f\"Cache not found. Reading raw SIAB data: {raw_file}\")\n",
    "#    siab = pd.read_csv(raw_file)\n",
    "#    siab.to_csv(cache_file, index=False, compression='gzip')\n",
    "#    print(f\"Cached SIAB data to: {cache_file}\")\n",
    "#\n",
    "## Now use `siab` DataFrame as needed\n",
    "#print(siab.shape)\n"
   ]
  },
  {
   "cell_type": "code",
   "execution_count": 10,
   "id": "a0edb063",
   "metadata": {
    "execution": {
     "iopub.execute_input": "2025-07-23T14:41:56.317009Z",
     "iopub.status.busy": "2025-07-23T14:41:56.316419Z",
     "iopub.status.idle": "2025-07-23T14:41:57.429192Z",
     "shell.execute_reply": "2025-07-23T14:41:57.428257Z"
    },
    "papermill": {
     "duration": 1.124898,
     "end_time": "2025-07-23T14:41:57.431046",
     "exception": false,
     "start_time": "2025-07-23T14:41:56.306148",
     "status": "completed"
    },
    "tags": []
   },
   "outputs": [],
   "source": [
    "import pandas as pd\n",
    "\n",
    "X_train = pd.read_csv(\"./data/X_train.csv\")\n",
    "y_train = pd.read_csv(\"./data/y_train.csv\")"
   ]
  },
  {
   "cell_type": "code",
   "execution_count": 11,
   "id": "63d08085",
   "metadata": {
    "execution": {
     "iopub.execute_input": "2025-07-23T14:41:57.468541Z",
     "iopub.status.busy": "2025-07-23T14:41:57.467844Z",
     "iopub.status.idle": "2025-07-23T14:41:58.878194Z",
     "shell.execute_reply": "2025-07-23T14:41:58.877233Z"
    },
    "papermill": {
     "duration": 1.429986,
     "end_time": "2025-07-23T14:41:58.880223",
     "exception": false,
     "start_time": "2025-07-23T14:41:57.450237",
     "status": "completed"
    },
    "tags": []
   },
   "outputs": [],
   "source": [
    "X_test = pd.read_csv(\"./data/X_test.csv\")\n",
    "y_true = pd.read_csv(\"./data/y_test.csv\")"
   ]
  },
  {
   "cell_type": "code",
   "execution_count": 12,
   "id": "98a8d0fa-1d3d-4ed8-bb2c-281470e24add",
   "metadata": {
    "execution": {
     "iopub.execute_input": "2025-07-23T14:41:58.916940Z",
     "iopub.status.busy": "2025-07-23T14:41:58.916223Z",
     "iopub.status.idle": "2025-07-23T14:42:00.337001Z",
     "shell.execute_reply": "2025-07-23T14:42:00.335977Z"
    },
    "papermill": {
     "duration": 1.440823,
     "end_time": "2025-07-23T14:42:00.338927",
     "exception": false,
     "start_time": "2025-07-23T14:41:58.898104",
     "status": "completed"
    },
    "tags": []
   },
   "outputs": [],
   "source": [
    "# Calibration data for conformal\n",
    "X_calib = pd.read_csv(\"./data/X_calib.csv\")\n",
    "y_calib = pd.read_csv(\"./data/y_calib.csv\")"
   ]
  },
  {
   "cell_type": "code",
   "execution_count": 13,
   "id": "e6c733c5",
   "metadata": {
    "execution": {
     "iopub.execute_input": "2025-07-23T14:42:00.376872Z",
     "iopub.status.busy": "2025-07-23T14:42:00.376367Z",
     "iopub.status.idle": "2025-07-23T14:42:00.482430Z",
     "shell.execute_reply": "2025-07-23T14:42:00.481488Z"
    },
    "papermill": {
     "duration": 0.125873,
     "end_time": "2025-07-23T14:42:00.484418",
     "exception": false,
     "start_time": "2025-07-23T14:42:00.358545",
     "status": "completed"
    },
    "tags": []
   },
   "outputs": [],
   "source": [
    "# Auxiliary data needed downstream in the pipeline\n",
    "\n",
    "org_train = X_train.copy()\n",
    "org_test = X_test.copy()\n",
    "org_calib = X_calib.copy()"
   ]
  },
  {
   "cell_type": "markdown",
   "id": "0a4a1b33",
   "metadata": {
    "papermill": {
     "duration": 0.016414,
     "end_time": "2025-07-23T14:42:00.518083",
     "exception": false,
     "start_time": "2025-07-23T14:42:00.501669",
     "status": "completed"
    },
    "tags": []
   },
   "source": [
    "# Preprocessing Data"
   ]
  },
  {
   "cell_type": "code",
   "execution_count": 14,
   "id": "ca879031",
   "metadata": {
    "execution": {
     "iopub.execute_input": "2025-07-23T14:42:00.553254Z",
     "iopub.status.busy": "2025-07-23T14:42:00.552531Z",
     "iopub.status.idle": "2025-07-23T14:42:00.558838Z",
     "shell.execute_reply": "2025-07-23T14:42:00.557923Z"
    },
    "papermill": {
     "duration": 0.025755,
     "end_time": "2025-07-23T14:42:00.560514",
     "exception": false,
     "start_time": "2025-07-23T14:42:00.534759",
     "status": "completed"
    },
    "tags": []
   },
   "outputs": [],
   "source": [
    "# EXCLUDE PROTECTED FEATURES\n",
    "# ----------------------\n",
    "# \"exclude_features\": \"none\", # \"nationality\", \"sex\", \"nationality-sex\"\n",
    "\n",
    "excluded_features = universe[\"exclude_features\"].split(\"-\") # split, e.g.: \"nationality-sex\" -> [\"nationality\", \"sex\"]\n",
    "excluded_features_dictionary = {\n",
    "    \"nationality\": [\"maxdeutsch1\", \"maxdeutsch.Missing.\"],\n",
    "    \"sex\": [\"frau1\"],\n",
    "    \"age\": [\"age\"],\n",
    "}\n"
   ]
  },
  {
   "cell_type": "code",
   "execution_count": 15,
   "id": "b745ac60",
   "metadata": {
    "execution": {
     "iopub.execute_input": "2025-07-23T14:42:00.596305Z",
     "iopub.status.busy": "2025-07-23T14:42:00.595617Z",
     "iopub.status.idle": "2025-07-23T14:42:00.601660Z",
     "shell.execute_reply": "2025-07-23T14:42:00.600661Z"
    },
    "papermill": {
     "duration": 0.025444,
     "end_time": "2025-07-23T14:42:00.603367",
     "exception": false,
     "start_time": "2025-07-23T14:42:00.577923",
     "status": "completed"
    },
    "tags": []
   },
   "outputs": [],
   "source": [
    "# Code nice names to column names\n",
    "\n",
    "excluded_features_columns = [\n",
    "    excluded_features_dictionary[f] for f in excluded_features if len(f) > 0 and f != \"none\"\n",
    "]"
   ]
  },
  {
   "cell_type": "code",
   "execution_count": 16,
   "id": "f84f73a2",
   "metadata": {
    "execution": {
     "iopub.execute_input": "2025-07-23T14:42:00.639016Z",
     "iopub.status.busy": "2025-07-23T14:42:00.638331Z",
     "iopub.status.idle": "2025-07-23T14:42:00.645164Z",
     "shell.execute_reply": "2025-07-23T14:42:00.644241Z"
    },
    "papermill": {
     "duration": 0.026057,
     "end_time": "2025-07-23T14:42:00.646694",
     "exception": false,
     "start_time": "2025-07-23T14:42:00.620637",
     "status": "completed"
    },
    "tags": []
   },
   "outputs": [],
   "source": [
    "from utils import flatten_once\n",
    "\n",
    "excluded_features_columns = flatten_once(excluded_features_columns)"
   ]
  },
  {
   "cell_type": "code",
   "execution_count": 17,
   "id": "884dea22",
   "metadata": {
    "execution": {
     "iopub.execute_input": "2025-07-23T14:42:00.682864Z",
     "iopub.status.busy": "2025-07-23T14:42:00.682187Z",
     "iopub.status.idle": "2025-07-23T14:42:00.729272Z",
     "shell.execute_reply": "2025-07-23T14:42:00.728086Z"
    },
    "papermill": {
     "duration": 0.066952,
     "end_time": "2025-07-23T14:42:00.731055",
     "exception": false,
     "start_time": "2025-07-23T14:42:00.664103",
     "status": "completed"
    },
    "tags": []
   },
   "outputs": [
    {
     "name": "stdout",
     "output_type": "stream",
     "text": [
      "Dropping features: ['maxdeutsch1', 'maxdeutsch.Missing.', 'frau1']\n"
     ]
    }
   ],
   "source": [
    "if len(excluded_features_columns) > 0:\n",
    "    print(f\"Dropping features: {excluded_features_columns}\")\n",
    "    X_train.drop(excluded_features_columns, axis=1, inplace=True)"
   ]
  },
  {
   "cell_type": "code",
   "execution_count": 18,
   "id": "95ab8b16",
   "metadata": {
    "execution": {
     "iopub.execute_input": "2025-07-23T14:42:00.767665Z",
     "iopub.status.busy": "2025-07-23T14:42:00.766969Z",
     "iopub.status.idle": "2025-07-23T14:42:00.825469Z",
     "shell.execute_reply": "2025-07-23T14:42:00.824388Z"
    },
    "papermill": {
     "duration": 0.078288,
     "end_time": "2025-07-23T14:42:00.827216",
     "exception": false,
     "start_time": "2025-07-23T14:42:00.748928",
     "status": "completed"
    },
    "tags": []
   },
   "outputs": [
    {
     "name": "stdout",
     "output_type": "stream",
     "text": [
      "Dropping features: ['maxdeutsch1', 'maxdeutsch.Missing.', 'frau1']\n"
     ]
    }
   ],
   "source": [
    "if len(excluded_features_columns) > 0:\n",
    "    print(f\"Dropping features: {excluded_features_columns}\")\n",
    "    X_test.drop(excluded_features_columns, axis=1, inplace=True)"
   ]
  },
  {
   "cell_type": "code",
   "execution_count": 19,
   "id": "1853aaf5-fb9f-46cb-a2b5-8ea4ae2237e4",
   "metadata": {
    "execution": {
     "iopub.execute_input": "2025-07-23T14:42:00.864045Z",
     "iopub.status.busy": "2025-07-23T14:42:00.863344Z",
     "iopub.status.idle": "2025-07-23T14:42:00.919805Z",
     "shell.execute_reply": "2025-07-23T14:42:00.918688Z"
    },
    "papermill": {
     "duration": 0.077304,
     "end_time": "2025-07-23T14:42:00.922434",
     "exception": false,
     "start_time": "2025-07-23T14:42:00.845130",
     "status": "completed"
    },
    "tags": []
   },
   "outputs": [
    {
     "name": "stdout",
     "output_type": "stream",
     "text": [
      "Dropping features: ['maxdeutsch1', 'maxdeutsch.Missing.', 'frau1']\n"
     ]
    }
   ],
   "source": [
    "if len(excluded_features_columns) > 0:\n",
    "    print(f\"Dropping features: {excluded_features_columns}\")\n",
    "    X_calib.drop(excluded_features_columns, axis=1, inplace=True)"
   ]
  },
  {
   "cell_type": "code",
   "execution_count": 20,
   "id": "76c4dc6d",
   "metadata": {
    "execution": {
     "iopub.execute_input": "2025-07-23T14:42:00.960526Z",
     "iopub.status.busy": "2025-07-23T14:42:00.959830Z",
     "iopub.status.idle": "2025-07-23T14:42:00.965396Z",
     "shell.execute_reply": "2025-07-23T14:42:00.964493Z"
    },
    "papermill": {
     "duration": 0.026219,
     "end_time": "2025-07-23T14:42:00.967116",
     "exception": false,
     "start_time": "2025-07-23T14:42:00.940897",
     "status": "completed"
    },
    "tags": []
   },
   "outputs": [],
   "source": [
    "# EXCLUDE CERTAIN SUBGROUPS\n",
    "# ----------------------\n",
    "\n",
    "mode = universe.get(\"exclude_subgroups\", \"keep-all\") \n",
    "# Fetches the exclude_subgroups setting from the universe dict.\n",
    "# Defaults to \"keep-all\" if the key is missing."
   ]
  },
  {
   "cell_type": "code",
   "execution_count": 21,
   "id": "21994072",
   "metadata": {
    "execution": {
     "iopub.execute_input": "2025-07-23T14:42:01.004444Z",
     "iopub.status.busy": "2025-07-23T14:42:01.003745Z",
     "iopub.status.idle": "2025-07-23T14:42:01.010930Z",
     "shell.execute_reply": "2025-07-23T14:42:01.009934Z"
    },
    "papermill": {
     "duration": 0.027589,
     "end_time": "2025-07-23T14:42:01.012671",
     "exception": false,
     "start_time": "2025-07-23T14:42:00.985082",
     "status": "completed"
    },
    "tags": []
   },
   "outputs": [],
   "source": [
    "if mode == \"keep-all\":\n",
    "    keep_mask = pd.Series(True, index=org_train.index)\n",
    "\n",
    "# org_train contains the original feature columns from features_org (in Simson)\n",
    "# features_org contains unprocessed features, for me X_train at beginning ???\n",
    "# For keep-all, creates a boolean Series (keep_mask) of all True, so no rows are removed.\n",
    "\n",
    "elif mode == \"drop-non-german\":\n",
    "    keep_mask = org_train[\"maxdeutsch1\"] == 1 # ??? what about missing values?\n",
    "\n",
    "else:\n",
    "    raise ValueError(f\"Unsupported mode for exclude_subgroups: {mode}\")\n"
   ]
  },
  {
   "cell_type": "code",
   "execution_count": 22,
   "id": "71651440",
   "metadata": {
    "execution": {
     "iopub.execute_input": "2025-07-23T14:42:01.050003Z",
     "iopub.status.busy": "2025-07-23T14:42:01.049275Z",
     "iopub.status.idle": "2025-07-23T14:42:01.056525Z",
     "shell.execute_reply": "2025-07-23T14:42:01.055604Z"
    },
    "papermill": {
     "duration": 0.027488,
     "end_time": "2025-07-23T14:42:01.058276",
     "exception": false,
     "start_time": "2025-07-23T14:42:01.030788",
     "status": "completed"
    },
    "tags": []
   },
   "outputs": [],
   "source": [
    "n_drop = (~keep_mask).sum() # Calculates how many rows are set to be dropped\n",
    "if n_drop > 0:\n",
    "    pct = n_drop / len(keep_mask) * 100\n",
    "    print(f\"Dropping {n_drop} rows ({pct:.2f}%) where mode='{mode}'\")"
   ]
  },
  {
   "cell_type": "code",
   "execution_count": 23,
   "id": "5fb8eee5",
   "metadata": {
    "execution": {
     "iopub.execute_input": "2025-07-23T14:42:01.095427Z",
     "iopub.status.busy": "2025-07-23T14:42:01.094734Z",
     "iopub.status.idle": "2025-07-23T14:42:01.149927Z",
     "shell.execute_reply": "2025-07-23T14:42:01.148947Z"
    },
    "papermill": {
     "duration": 0.075638,
     "end_time": "2025-07-23T14:42:01.151856",
     "exception": false,
     "start_time": "2025-07-23T14:42:01.076218",
     "status": "completed"
    },
    "tags": []
   },
   "outputs": [],
   "source": [
    "X_train = X_train[keep_mask]"
   ]
  },
  {
   "cell_type": "code",
   "execution_count": 24,
   "id": "b202bb3a",
   "metadata": {
    "execution": {
     "iopub.execute_input": "2025-07-23T14:42:01.189761Z",
     "iopub.status.busy": "2025-07-23T14:42:01.189069Z",
     "iopub.status.idle": "2025-07-23T14:42:01.196618Z",
     "shell.execute_reply": "2025-07-23T14:42:01.195769Z"
    },
    "papermill": {
     "duration": 0.028038,
     "end_time": "2025-07-23T14:42:01.198278",
     "exception": false,
     "start_time": "2025-07-23T14:42:01.170240",
     "status": "completed"
    },
    "tags": []
   },
   "outputs": [],
   "source": [
    "y_train = y_train[keep_mask]"
   ]
  },
  {
   "cell_type": "markdown",
   "id": "493e2ac3",
   "metadata": {
    "papermill": {
     "duration": 0.017521,
     "end_time": "2025-07-23T14:42:01.234088",
     "exception": false,
     "start_time": "2025-07-23T14:42:01.216567",
     "status": "completed"
    },
    "tags": []
   },
   "source": [
    "# Model Training"
   ]
  },
  {
   "cell_type": "code",
   "execution_count": 25,
   "id": "679e1268",
   "metadata": {
    "execution": {
     "iopub.execute_input": "2025-07-23T14:42:01.271232Z",
     "iopub.status.busy": "2025-07-23T14:42:01.270347Z",
     "iopub.status.idle": "2025-07-23T14:42:01.381456Z",
     "shell.execute_reply": "2025-07-23T14:42:01.380464Z"
    },
    "papermill": {
     "duration": 0.131747,
     "end_time": "2025-07-23T14:42:01.383448",
     "exception": false,
     "start_time": "2025-07-23T14:42:01.251701",
     "status": "completed"
    },
    "tags": []
   },
   "outputs": [],
   "source": [
    "from sklearn.linear_model import LogisticRegression\n",
    "from sklearn.ensemble import GradientBoostingClassifier, RandomForestClassifier\n",
    "\n",
    "if (universe[\"model\"] == \"logreg\"):\n",
    "    model = LogisticRegression() #penalty=\"none\") #, solver=\"newton-cg\", max_iter=1) # include random_state=19 ?\n",
    "elif (universe[\"model\"] == \"penalized_logreg\"):\n",
    "    model = LogisticRegression(penalty=\"l2\", C=1.0) #, solver=\"newton-cg\", max_iter=1)\n",
    "elif (universe[\"model\"] == \"rf\"):\n",
    "    model = RandomForestClassifier(n_estimators=100, n_jobs=-1)\n",
    "elif (universe[\"model\"] == \"gbm\"):\n",
    "    model = GradientBoostingClassifier()\n",
    "elif (universe[\"model\"] == \"elasticnet\"):\n",
    "    model = LogisticRegression(penalty = 'elasticnet', solver = 'saga', l1_ratio = 0.5, max_iter=5000) # which solver to use?\n",
    "else:\n",
    "    raise \"Unsupported universe.model\""
   ]
  },
  {
   "cell_type": "code",
   "execution_count": 26,
   "id": "0cc8f744",
   "metadata": {
    "execution": {
     "iopub.execute_input": "2025-07-23T14:42:01.421482Z",
     "iopub.status.busy": "2025-07-23T14:42:01.420766Z",
     "iopub.status.idle": "2025-07-23T14:42:01.427759Z",
     "shell.execute_reply": "2025-07-23T14:42:01.426766Z"
    },
    "papermill": {
     "duration": 0.027695,
     "end_time": "2025-07-23T14:42:01.429541",
     "exception": false,
     "start_time": "2025-07-23T14:42:01.401846",
     "status": "completed"
    },
    "tags": []
   },
   "outputs": [],
   "source": [
    "import numpy as np\n",
    "from sklearn.pipeline import Pipeline\n",
    "from sklearn.preprocessing import StandardScaler\n",
    "\n",
    "model = Pipeline([\n",
    "    #(\"continuous_processor\", continuous_processor),\n",
    "    #(\"categorical_preprocessor\", categorical_preprocessor),\n",
    "    (\"scale\", StandardScaler() if universe[\"scale\"] == \"scale\" else None), \n",
    "    (\"model\", model),\n",
    "])"
   ]
  },
  {
   "cell_type": "code",
   "execution_count": 27,
   "id": "9442c04d",
   "metadata": {
    "execution": {
     "iopub.execute_input": "2025-07-23T14:42:01.467640Z",
     "iopub.status.busy": "2025-07-23T14:42:01.466939Z",
     "iopub.status.idle": "2025-07-23T14:52:10.493728Z",
     "shell.execute_reply": "2025-07-23T14:52:10.492809Z"
    },
    "papermill": {
     "duration": 609.067217,
     "end_time": "2025-07-23T14:52:10.515386",
     "exception": false,
     "start_time": "2025-07-23T14:42:01.448169",
     "status": "completed"
    },
    "tags": []
   },
   "outputs": [
    {
     "data": {
      "text/html": [
       "<style>#sk-container-id-1 {color: black;background-color: white;}#sk-container-id-1 pre{padding: 0;}#sk-container-id-1 div.sk-toggleable {background-color: white;}#sk-container-id-1 label.sk-toggleable__label {cursor: pointer;display: block;width: 100%;margin-bottom: 0;padding: 0.3em;box-sizing: border-box;text-align: center;}#sk-container-id-1 label.sk-toggleable__label-arrow:before {content: \"▸\";float: left;margin-right: 0.25em;color: #696969;}#sk-container-id-1 label.sk-toggleable__label-arrow:hover:before {color: black;}#sk-container-id-1 div.sk-estimator:hover label.sk-toggleable__label-arrow:before {color: black;}#sk-container-id-1 div.sk-toggleable__content {max-height: 0;max-width: 0;overflow: hidden;text-align: left;background-color: #f0f8ff;}#sk-container-id-1 div.sk-toggleable__content pre {margin: 0.2em;color: black;border-radius: 0.25em;background-color: #f0f8ff;}#sk-container-id-1 input.sk-toggleable__control:checked~div.sk-toggleable__content {max-height: 200px;max-width: 100%;overflow: auto;}#sk-container-id-1 input.sk-toggleable__control:checked~label.sk-toggleable__label-arrow:before {content: \"▾\";}#sk-container-id-1 div.sk-estimator input.sk-toggleable__control:checked~label.sk-toggleable__label {background-color: #d4ebff;}#sk-container-id-1 div.sk-label input.sk-toggleable__control:checked~label.sk-toggleable__label {background-color: #d4ebff;}#sk-container-id-1 input.sk-hidden--visually {border: 0;clip: rect(1px 1px 1px 1px);clip: rect(1px, 1px, 1px, 1px);height: 1px;margin: -1px;overflow: hidden;padding: 0;position: absolute;width: 1px;}#sk-container-id-1 div.sk-estimator {font-family: monospace;background-color: #f0f8ff;border: 1px dotted black;border-radius: 0.25em;box-sizing: border-box;margin-bottom: 0.5em;}#sk-container-id-1 div.sk-estimator:hover {background-color: #d4ebff;}#sk-container-id-1 div.sk-parallel-item::after {content: \"\";width: 100%;border-bottom: 1px solid gray;flex-grow: 1;}#sk-container-id-1 div.sk-label:hover label.sk-toggleable__label {background-color: #d4ebff;}#sk-container-id-1 div.sk-serial::before {content: \"\";position: absolute;border-left: 1px solid gray;box-sizing: border-box;top: 0;bottom: 0;left: 50%;z-index: 0;}#sk-container-id-1 div.sk-serial {display: flex;flex-direction: column;align-items: center;background-color: white;padding-right: 0.2em;padding-left: 0.2em;position: relative;}#sk-container-id-1 div.sk-item {position: relative;z-index: 1;}#sk-container-id-1 div.sk-parallel {display: flex;align-items: stretch;justify-content: center;background-color: white;position: relative;}#sk-container-id-1 div.sk-item::before, #sk-container-id-1 div.sk-parallel-item::before {content: \"\";position: absolute;border-left: 1px solid gray;box-sizing: border-box;top: 0;bottom: 0;left: 50%;z-index: -1;}#sk-container-id-1 div.sk-parallel-item {display: flex;flex-direction: column;z-index: 1;position: relative;background-color: white;}#sk-container-id-1 div.sk-parallel-item:first-child::after {align-self: flex-end;width: 50%;}#sk-container-id-1 div.sk-parallel-item:last-child::after {align-self: flex-start;width: 50%;}#sk-container-id-1 div.sk-parallel-item:only-child::after {width: 0;}#sk-container-id-1 div.sk-dashed-wrapped {border: 1px dashed gray;margin: 0 0.4em 0.5em 0.4em;box-sizing: border-box;padding-bottom: 0.4em;background-color: white;}#sk-container-id-1 div.sk-label label {font-family: monospace;font-weight: bold;display: inline-block;line-height: 1.2em;}#sk-container-id-1 div.sk-label-container {text-align: center;}#sk-container-id-1 div.sk-container {/* jupyter's `normalize.less` sets `[hidden] { display: none; }` but bootstrap.min.css set `[hidden] { display: none !important; }` so we also need the `!important` here to be able to override the default hidden behavior on the sphinx rendered scikit-learn.org. See: https://github.com/scikit-learn/scikit-learn/issues/21755 */display: inline-block !important;position: relative;}#sk-container-id-1 div.sk-text-repr-fallback {display: none;}</style><div id=\"sk-container-id-1\" class=\"sk-top-container\"><div class=\"sk-text-repr-fallback\"><pre>Pipeline(steps=[(&#x27;scale&#x27;, None),\n",
       "                (&#x27;model&#x27;,\n",
       "                 LogisticRegression(l1_ratio=0.5, max_iter=5000,\n",
       "                                    penalty=&#x27;elasticnet&#x27;, solver=&#x27;saga&#x27;))])</pre><b>In a Jupyter environment, please rerun this cell to show the HTML representation or trust the notebook. <br />On GitHub, the HTML representation is unable to render, please try loading this page with nbviewer.org.</b></div><div class=\"sk-container\" hidden><div class=\"sk-item sk-dashed-wrapped\"><div class=\"sk-label-container\"><div class=\"sk-label sk-toggleable\"><input class=\"sk-toggleable__control sk-hidden--visually\" id=\"sk-estimator-id-1\" type=\"checkbox\" ><label for=\"sk-estimator-id-1\" class=\"sk-toggleable__label sk-toggleable__label-arrow\">Pipeline</label><div class=\"sk-toggleable__content\"><pre>Pipeline(steps=[(&#x27;scale&#x27;, None),\n",
       "                (&#x27;model&#x27;,\n",
       "                 LogisticRegression(l1_ratio=0.5, max_iter=5000,\n",
       "                                    penalty=&#x27;elasticnet&#x27;, solver=&#x27;saga&#x27;))])</pre></div></div></div><div class=\"sk-serial\"><div class=\"sk-item\"><div class=\"sk-estimator sk-toggleable\"><input class=\"sk-toggleable__control sk-hidden--visually\" id=\"sk-estimator-id-2\" type=\"checkbox\" ><label for=\"sk-estimator-id-2\" class=\"sk-toggleable__label sk-toggleable__label-arrow\">None</label><div class=\"sk-toggleable__content\"><pre>None</pre></div></div></div><div class=\"sk-item\"><div class=\"sk-estimator sk-toggleable\"><input class=\"sk-toggleable__control sk-hidden--visually\" id=\"sk-estimator-id-3\" type=\"checkbox\" ><label for=\"sk-estimator-id-3\" class=\"sk-toggleable__label sk-toggleable__label-arrow\">LogisticRegression</label><div class=\"sk-toggleable__content\"><pre>LogisticRegression(l1_ratio=0.5, max_iter=5000, penalty=&#x27;elasticnet&#x27;,\n",
       "                   solver=&#x27;saga&#x27;)</pre></div></div></div></div></div></div></div>"
      ],
      "text/plain": [
       "Pipeline(steps=[('scale', None),\n",
       "                ('model',\n",
       "                 LogisticRegression(l1_ratio=0.5, max_iter=5000,\n",
       "                                    penalty='elasticnet', solver='saga'))])"
      ]
     },
     "execution_count": 27,
     "metadata": {},
     "output_type": "execute_result"
    }
   ],
   "source": [
    "model.fit(X_train, y_train.values.ravel())"
   ]
  },
  {
   "cell_type": "code",
   "execution_count": 28,
   "id": "af59f8c0",
   "metadata": {
    "execution": {
     "iopub.execute_input": "2025-07-23T14:52:10.552310Z",
     "iopub.status.busy": "2025-07-23T14:52:10.551909Z",
     "iopub.status.idle": "2025-07-23T14:52:10.556742Z",
     "shell.execute_reply": "2025-07-23T14:52:10.555905Z"
    },
    "papermill": {
     "duration": 0.024974,
     "end_time": "2025-07-23T14:52:10.558203",
     "exception": false,
     "start_time": "2025-07-23T14:52:10.533229",
     "status": "completed"
    },
    "tags": []
   },
   "outputs": [],
   "source": [
    "from fairness_multiverse.universe import predict_w_threshold"
   ]
  },
  {
   "cell_type": "code",
   "execution_count": 29,
   "id": "a7cf2e16",
   "metadata": {
    "execution": {
     "iopub.execute_input": "2025-07-23T14:52:10.595754Z",
     "iopub.status.busy": "2025-07-23T14:52:10.595408Z",
     "iopub.status.idle": "2025-07-23T14:52:10.681702Z",
     "shell.execute_reply": "2025-07-23T14:52:10.680801Z"
    },
    "papermill": {
     "duration": 0.106247,
     "end_time": "2025-07-23T14:52:10.682978",
     "exception": false,
     "start_time": "2025-07-23T14:52:10.576731",
     "status": "completed"
    },
    "tags": []
   },
   "outputs": [
    {
     "data": {
      "text/plain": [
       "0.8487236651432394"
      ]
     },
     "execution_count": 29,
     "metadata": {},
     "output_type": "execute_result"
    }
   ],
   "source": [
    "probs_test = model.predict_proba(X_test)\n",
    "\n",
    "'''\n",
    "Below code returns a boolean array (or binary 0/1 array depending on how it’s used) where each element \n",
    "is True if the probability of class 1 is greater than or equal to the threshold, and False otherwise.\n",
    "'''\n",
    "y_pred_default = predict_w_threshold(probs_test, 0.5)\n",
    "\n",
    "from sklearn.metrics import accuracy_score\n",
    "\n",
    "# Naive prediction\n",
    "accuracy_score(y_true = y_true, y_pred = y_pred_default)"
   ]
  },
  {
   "cell_type": "code",
   "execution_count": 30,
   "id": "081964c3",
   "metadata": {
    "execution": {
     "iopub.execute_input": "2025-07-23T14:52:10.705605Z",
     "iopub.status.busy": "2025-07-23T14:52:10.705212Z",
     "iopub.status.idle": "2025-07-23T14:52:10.789679Z",
     "shell.execute_reply": "2025-07-23T14:52:10.788712Z"
    },
    "papermill": {
     "duration": 0.097077,
     "end_time": "2025-07-23T14:52:10.790976",
     "exception": false,
     "start_time": "2025-07-23T14:52:10.693899",
     "status": "completed"
    },
    "tags": []
   },
   "outputs": [
    {
     "data": {
      "text/plain": [
       "array([0, 0, 0, ..., 0, 0, 0])"
      ]
     },
     "execution_count": 30,
     "metadata": {},
     "output_type": "execute_result"
    }
   ],
   "source": [
    "model.predict(X_test)"
   ]
  },
  {
   "cell_type": "markdown",
   "id": "56c9705b",
   "metadata": {
    "papermill": {
     "duration": 0.010218,
     "end_time": "2025-07-23T14:52:10.812192",
     "exception": false,
     "start_time": "2025-07-23T14:52:10.801974",
     "status": "completed"
    },
    "tags": []
   },
   "source": [
    "# Conformal Prediction"
   ]
  },
  {
   "cell_type": "code",
   "execution_count": 31,
   "id": "160ec6ff",
   "metadata": {
    "execution": {
     "iopub.execute_input": "2025-07-23T14:52:10.834467Z",
     "iopub.status.busy": "2025-07-23T14:52:10.834058Z",
     "iopub.status.idle": "2025-07-23T14:52:10.839201Z",
     "shell.execute_reply": "2025-07-23T14:52:10.838357Z"
    },
    "papermill": {
     "duration": 0.01817,
     "end_time": "2025-07-23T14:52:10.840625",
     "exception": false,
     "start_time": "2025-07-23T14:52:10.822455",
     "status": "completed"
    },
    "tags": []
   },
   "outputs": [],
   "source": [
    "# Miscoverage level for conformal prediction (10% allowed error rate => 90% target coverage)\n",
    "alpha = 0.1"
   ]
  },
  {
   "cell_type": "code",
   "execution_count": 32,
   "id": "eadf4555-3dd3-440e-8e35-f82a4ad9f855",
   "metadata": {
    "execution": {
     "iopub.execute_input": "2025-07-23T14:52:10.863062Z",
     "iopub.status.busy": "2025-07-23T14:52:10.862704Z",
     "iopub.status.idle": "2025-07-23T14:52:10.944635Z",
     "shell.execute_reply": "2025-07-23T14:52:10.943679Z"
    },
    "papermill": {
     "duration": 0.094702,
     "end_time": "2025-07-23T14:52:10.946198",
     "exception": false,
     "start_time": "2025-07-23T14:52:10.851496",
     "status": "completed"
    },
    "tags": []
   },
   "outputs": [],
   "source": [
    "probs_calib = model.predict_proba(X_calib)"
   ]
  },
  {
   "cell_type": "code",
   "execution_count": 33,
   "id": "2ed93547-6d5d-4983-9b36-1ecb300da49a",
   "metadata": {
    "execution": {
     "iopub.execute_input": "2025-07-23T14:52:10.969106Z",
     "iopub.status.busy": "2025-07-23T14:52:10.968674Z",
     "iopub.status.idle": "2025-07-23T14:52:10.973992Z",
     "shell.execute_reply": "2025-07-23T14:52:10.973262Z"
    },
    "papermill": {
     "duration": 0.018083,
     "end_time": "2025-07-23T14:52:10.975332",
     "exception": false,
     "start_time": "2025-07-23T14:52:10.957249",
     "status": "completed"
    },
    "tags": []
   },
   "outputs": [],
   "source": [
    "y_calib = y_calib.values.ravel().astype(int)"
   ]
  },
  {
   "cell_type": "code",
   "execution_count": 34,
   "id": "65d1320d-f588-4b38-9072-62af1ae97f7d",
   "metadata": {
    "execution": {
     "iopub.execute_input": "2025-07-23T14:52:10.997998Z",
     "iopub.status.busy": "2025-07-23T14:52:10.997630Z",
     "iopub.status.idle": "2025-07-23T14:52:11.004985Z",
     "shell.execute_reply": "2025-07-23T14:52:11.004077Z"
    },
    "papermill": {
     "duration": 0.019837,
     "end_time": "2025-07-23T14:52:11.006258",
     "exception": false,
     "start_time": "2025-07-23T14:52:10.986421",
     "status": "completed"
    },
    "tags": []
   },
   "outputs": [],
   "source": [
    "from fairness_multiverse.conformal import compute_nc_scores\n",
    "\n",
    "# Compute nonconformity scores on calibration set (1 - probability of true class)\n",
    "nc_scores = compute_nc_scores(probs_calib, y_calib)"
   ]
  },
  {
   "cell_type": "code",
   "execution_count": 35,
   "id": "df3b8ca3-53b7-43d5-9667-7c85da7aeda2",
   "metadata": {
    "execution": {
     "iopub.execute_input": "2025-07-23T14:52:11.028665Z",
     "iopub.status.busy": "2025-07-23T14:52:11.028267Z",
     "iopub.status.idle": "2025-07-23T14:52:11.034172Z",
     "shell.execute_reply": "2025-07-23T14:52:11.033375Z"
    },
    "papermill": {
     "duration": 0.018637,
     "end_time": "2025-07-23T14:52:11.035611",
     "exception": false,
     "start_time": "2025-07-23T14:52:11.016974",
     "status": "completed"
    },
    "tags": []
   },
   "outputs": [],
   "source": [
    "from fairness_multiverse.conformal import find_threshold\n",
    "\n",
    "# Find conformal threshold q_hat for the given alpha (split conformal method)\n",
    "q_hat = find_threshold(nc_scores, alpha)"
   ]
  },
  {
   "cell_type": "code",
   "execution_count": 36,
   "id": "4d29e6c1-0ef6-4aa4-b8fe-4fe79b0d033a",
   "metadata": {
    "execution": {
     "iopub.execute_input": "2025-07-23T14:52:11.074484Z",
     "iopub.status.busy": "2025-07-23T14:52:11.073907Z",
     "iopub.status.idle": "2025-07-23T14:52:11.079545Z",
     "shell.execute_reply": "2025-07-23T14:52:11.078802Z"
    },
    "papermill": {
     "duration": 0.026508,
     "end_time": "2025-07-23T14:52:11.081070",
     "exception": false,
     "start_time": "2025-07-23T14:52:11.054562",
     "status": "completed"
    },
    "tags": []
   },
   "outputs": [
    {
     "data": {
      "text/plain": [
       "0.685495152060602"
      ]
     },
     "execution_count": 36,
     "metadata": {},
     "output_type": "execute_result"
    }
   ],
   "source": [
    "q_hat"
   ]
  },
  {
   "cell_type": "code",
   "execution_count": 37,
   "id": "92460794-cdac-4be2-ba28-f28c0515a6fb",
   "metadata": {
    "execution": {
     "iopub.execute_input": "2025-07-23T14:52:11.119908Z",
     "iopub.status.busy": "2025-07-23T14:52:11.119575Z",
     "iopub.status.idle": "2025-07-23T14:52:11.645163Z",
     "shell.execute_reply": "2025-07-23T14:52:11.644328Z"
    },
    "papermill": {
     "duration": 0.54682,
     "end_time": "2025-07-23T14:52:11.646923",
     "exception": false,
     "start_time": "2025-07-23T14:52:11.100103",
     "status": "completed"
    },
    "tags": []
   },
   "outputs": [],
   "source": [
    "from fairness_multiverse.conformal import predict_conformal_sets\n",
    "\n",
    "# Generate prediction sets for each test example\n",
    "pred_sets = predict_conformal_sets(model, X_test, q_hat)"
   ]
  },
  {
   "cell_type": "code",
   "execution_count": 38,
   "id": "d90c9a65-e6db-4f5d-80cd-e68fb7e46829",
   "metadata": {
    "execution": {
     "iopub.execute_input": "2025-07-23T14:52:11.670953Z",
     "iopub.status.busy": "2025-07-23T14:52:11.670553Z",
     "iopub.status.idle": "2025-07-23T14:52:11.675963Z",
     "shell.execute_reply": "2025-07-23T14:52:11.675191Z"
    },
    "papermill": {
     "duration": 0.018551,
     "end_time": "2025-07-23T14:52:11.677539",
     "exception": false,
     "start_time": "2025-07-23T14:52:11.658988",
     "status": "completed"
    },
    "tags": []
   },
   "outputs": [],
   "source": [
    "y_true = y_true.squeeze()"
   ]
  },
  {
   "cell_type": "code",
   "execution_count": 39,
   "id": "3a58a54a-1e68-46b9-927a-df01f18aebc8",
   "metadata": {
    "execution": {
     "iopub.execute_input": "2025-07-23T14:52:11.716729Z",
     "iopub.status.busy": "2025-07-23T14:52:11.716321Z",
     "iopub.status.idle": "2025-07-23T14:52:12.267836Z",
     "shell.execute_reply": "2025-07-23T14:52:12.267027Z"
    },
    "papermill": {
     "duration": 0.57315,
     "end_time": "2025-07-23T14:52:12.269686",
     "exception": false,
     "start_time": "2025-07-23T14:52:11.696536",
     "status": "completed"
    },
    "tags": []
   },
   "outputs": [],
   "source": [
    "from fairness_multiverse.conformal import evaluate_sets\n",
    "\n",
    "# Evaluate coverage and average set size on test data\n",
    "metrics = evaluate_sets(pred_sets, y_true)"
   ]
  },
  {
   "cell_type": "code",
   "execution_count": 40,
   "id": "5ce0a5cb-201f-45a0-ade5-94c7f0bd6095",
   "metadata": {
    "execution": {
     "iopub.execute_input": "2025-07-23T14:52:12.309931Z",
     "iopub.status.busy": "2025-07-23T14:52:12.309571Z",
     "iopub.status.idle": "2025-07-23T14:52:12.315214Z",
     "shell.execute_reply": "2025-07-23T14:52:12.314368Z"
    },
    "papermill": {
     "duration": 0.027294,
     "end_time": "2025-07-23T14:52:12.316606",
     "exception": false,
     "start_time": "2025-07-23T14:52:12.289312",
     "status": "completed"
    },
    "tags": []
   },
   "outputs": [
    {
     "data": {
      "text/plain": [
       "{'coverage': 0.9064429829450451, 'avg_size': 1.1347118492921637}"
      ]
     },
     "execution_count": 40,
     "metadata": {},
     "output_type": "execute_result"
    }
   ],
   "source": [
    "metrics"
   ]
  },
  {
   "cell_type": "code",
   "execution_count": 41,
   "id": "9b9a838d-31c9-430b-ae14-12baee460d17",
   "metadata": {
    "execution": {
     "iopub.execute_input": "2025-07-23T14:52:12.339962Z",
     "iopub.status.busy": "2025-07-23T14:52:12.339595Z",
     "iopub.status.idle": "2025-07-23T14:52:12.345278Z",
     "shell.execute_reply": "2025-07-23T14:52:12.344495Z"
    },
    "papermill": {
     "duration": 0.018644,
     "end_time": "2025-07-23T14:52:12.346639",
     "exception": false,
     "start_time": "2025-07-23T14:52:12.327995",
     "status": "completed"
    },
    "tags": []
   },
   "outputs": [],
   "source": [
    "example_universe = universe.copy()\n",
    "universe_model = example_universe.get(\"model\")\n",
    "universe_exclude_features = example_universe.get(\"exclude_features\")\n",
    "universe_exclude_subgroups = example_universe.get(\"exclude_subgroups\")\n",
    "universe_scale = example_universe.get(\"scale\")"
   ]
  },
  {
   "cell_type": "code",
   "execution_count": 42,
   "id": "f4b6a8ac-9dc0-4245-8a91-5b3b5999c4f9",
   "metadata": {
    "execution": {
     "iopub.execute_input": "2025-07-23T14:52:12.369597Z",
     "iopub.status.busy": "2025-07-23T14:52:12.369284Z",
     "iopub.status.idle": "2025-07-23T14:52:12.374036Z",
     "shell.execute_reply": "2025-07-23T14:52:12.373110Z"
    },
    "papermill": {
     "duration": 0.017538,
     "end_time": "2025-07-23T14:52:12.375299",
     "exception": false,
     "start_time": "2025-07-23T14:52:12.357761",
     "status": "completed"
    },
    "tags": []
   },
   "outputs": [],
   "source": [
    "cp_metrics_dict = {\n",
    "    \"universe_id\": [universe_id],\n",
    "    \"universe_model\": [universe_model],\n",
    "    \"universe_exclude_features\": [universe_exclude_features],\n",
    "    \"universe_exclude_subgroups\": [universe_exclude_subgroups],\n",
    "    \"universe_scale\": [universe_scale],\n",
    "    \"q_hat\": [q_hat],\n",
    "    \"coverage\": [metrics[\"coverage\"]],\n",
    "    \"avg_size\": [metrics[\"avg_size\"]],\n",
    "}"
   ]
  },
  {
   "cell_type": "code",
   "execution_count": 43,
   "id": "908acbb1-0371-4915-85ca-3fa520d2efe2",
   "metadata": {
    "execution": {
     "iopub.execute_input": "2025-07-23T14:52:12.399062Z",
     "iopub.status.busy": "2025-07-23T14:52:12.398434Z",
     "iopub.status.idle": "2025-07-23T14:52:12.405362Z",
     "shell.execute_reply": "2025-07-23T14:52:12.404394Z"
    },
    "papermill": {
     "duration": 0.019981,
     "end_time": "2025-07-23T14:52:12.406746",
     "exception": false,
     "start_time": "2025-07-23T14:52:12.386765",
     "status": "completed"
    },
    "tags": []
   },
   "outputs": [
    {
     "data": {
      "text/plain": [
       "{'universe_id': ['ccacdf93677b1fdb13835f9726458bbb'],\n",
       " 'universe_model': ['elasticnet'],\n",
       " 'universe_exclude_features': ['nationality-sex'],\n",
       " 'universe_exclude_subgroups': ['keep-all'],\n",
       " 'universe_scale': ['do-not-scale'],\n",
       " 'q_hat': [0.685495152060602],\n",
       " 'coverage': [0.9064429829450451],\n",
       " 'avg_size': [1.1347118492921637]}"
      ]
     },
     "execution_count": 43,
     "metadata": {},
     "output_type": "execute_result"
    }
   ],
   "source": [
    "cp_metrics_dict"
   ]
  },
  {
   "cell_type": "code",
   "execution_count": 44,
   "id": "33007efc-14e9-4ec6-97ac-56a455c82265",
   "metadata": {
    "execution": {
     "iopub.execute_input": "2025-07-23T14:52:12.430773Z",
     "iopub.status.busy": "2025-07-23T14:52:12.430152Z",
     "iopub.status.idle": "2025-07-23T14:52:12.436046Z",
     "shell.execute_reply": "2025-07-23T14:52:12.435170Z"
    },
    "papermill": {
     "duration": 0.019588,
     "end_time": "2025-07-23T14:52:12.437847",
     "exception": false,
     "start_time": "2025-07-23T14:52:12.418259",
     "status": "completed"
    },
    "tags": []
   },
   "outputs": [],
   "source": [
    "cp_metrics_df = pd.DataFrame(cp_metrics_dict)"
   ]
  },
  {
   "cell_type": "code",
   "execution_count": 45,
   "id": "db12611b-57b2-4910-b9d0-355adfd6e7bf",
   "metadata": {
    "execution": {
     "iopub.execute_input": "2025-07-23T14:52:12.478927Z",
     "iopub.status.busy": "2025-07-23T14:52:12.478463Z",
     "iopub.status.idle": "2025-07-23T14:52:12.492333Z",
     "shell.execute_reply": "2025-07-23T14:52:12.491573Z"
    },
    "papermill": {
     "duration": 0.035901,
     "end_time": "2025-07-23T14:52:12.493897",
     "exception": false,
     "start_time": "2025-07-23T14:52:12.457996",
     "status": "completed"
    },
    "tags": []
   },
   "outputs": [
    {
     "data": {
      "text/html": [
       "<div>\n",
       "<style scoped>\n",
       "    .dataframe tbody tr th:only-of-type {\n",
       "        vertical-align: middle;\n",
       "    }\n",
       "\n",
       "    .dataframe tbody tr th {\n",
       "        vertical-align: top;\n",
       "    }\n",
       "\n",
       "    .dataframe thead th {\n",
       "        text-align: right;\n",
       "    }\n",
       "</style>\n",
       "<table border=\"1\" class=\"dataframe\">\n",
       "  <thead>\n",
       "    <tr style=\"text-align: right;\">\n",
       "      <th></th>\n",
       "      <th>universe_id</th>\n",
       "      <th>universe_model</th>\n",
       "      <th>universe_exclude_features</th>\n",
       "      <th>universe_exclude_subgroups</th>\n",
       "      <th>universe_scale</th>\n",
       "      <th>q_hat</th>\n",
       "      <th>coverage</th>\n",
       "      <th>avg_size</th>\n",
       "    </tr>\n",
       "  </thead>\n",
       "  <tbody>\n",
       "    <tr>\n",
       "      <th>0</th>\n",
       "      <td>ccacdf93677b1fdb13835f9726458bbb</td>\n",
       "      <td>elasticnet</td>\n",
       "      <td>nationality-sex</td>\n",
       "      <td>keep-all</td>\n",
       "      <td>do-not-scale</td>\n",
       "      <td>0.685495</td>\n",
       "      <td>0.906443</td>\n",
       "      <td>1.134712</td>\n",
       "    </tr>\n",
       "  </tbody>\n",
       "</table>\n",
       "</div>"
      ],
      "text/plain": [
       "                        universe_id universe_model universe_exclude_features  \\\n",
       "0  ccacdf93677b1fdb13835f9726458bbb     elasticnet           nationality-sex   \n",
       "\n",
       "  universe_exclude_subgroups universe_scale     q_hat  coverage  avg_size  \n",
       "0                   keep-all   do-not-scale  0.685495  0.906443  1.134712  "
      ]
     },
     "execution_count": 45,
     "metadata": {},
     "output_type": "execute_result"
    }
   ],
   "source": [
    "cp_metrics_df"
   ]
  },
  {
   "cell_type": "code",
   "execution_count": 46,
   "id": "b7fbde55-a0a1-47e4-9af6-fe4a17fa8c61",
   "metadata": {
    "execution": {
     "iopub.execute_input": "2025-07-23T14:52:12.535027Z",
     "iopub.status.busy": "2025-07-23T14:52:12.534686Z",
     "iopub.status.idle": "2025-07-23T14:52:12.538749Z",
     "shell.execute_reply": "2025-07-23T14:52:12.538040Z"
    },
    "papermill": {
     "duration": 0.026202,
     "end_time": "2025-07-23T14:52:12.540266",
     "exception": false,
     "start_time": "2025-07-23T14:52:12.514064",
     "status": "completed"
    },
    "tags": []
   },
   "outputs": [],
   "source": [
    "# Conditional Coverage & looking at subgroups"
   ]
  },
  {
   "cell_type": "code",
   "execution_count": 47,
   "id": "027ae886-68dd-4141-96c7-805a5450e1ef",
   "metadata": {
    "execution": {
     "iopub.execute_input": "2025-07-23T14:52:12.581401Z",
     "iopub.status.busy": "2025-07-23T14:52:12.581062Z",
     "iopub.status.idle": "2025-07-23T14:52:12.763022Z",
     "shell.execute_reply": "2025-07-23T14:52:12.762216Z"
    },
    "papermill": {
     "duration": 0.204323,
     "end_time": "2025-07-23T14:52:12.764836",
     "exception": false,
     "start_time": "2025-07-23T14:52:12.560513",
     "status": "completed"
    },
    "tags": []
   },
   "outputs": [],
   "source": [
    "from fairness_multiverse.conformal import build_cp_groups\n",
    "\n",
    "cp_groups_df = build_cp_groups(pred_sets, y_true, X_test.index, org_test)\n",
    "#needs universe_id and setting"
   ]
  },
  {
   "cell_type": "code",
   "execution_count": 48,
   "id": "c3b92545-903e-4839-89af-0f057907d7d6",
   "metadata": {
    "execution": {
     "iopub.execute_input": "2025-07-23T14:52:12.806544Z",
     "iopub.status.busy": "2025-07-23T14:52:12.806184Z",
     "iopub.status.idle": "2025-07-23T14:52:13.772772Z",
     "shell.execute_reply": "2025-07-23T14:52:13.771926Z"
    },
    "papermill": {
     "duration": 0.989149,
     "end_time": "2025-07-23T14:52:13.774628",
     "exception": false,
     "start_time": "2025-07-23T14:52:12.785479",
     "status": "completed"
    },
    "tags": []
   },
   "outputs": [],
   "source": [
    "# Define covered = 1 if true_label is in the predicted set\n",
    "cp_groups_df['covered'] = cp_groups_df.apply(\n",
    "    lambda r: int(r['true_label'] in r['pred_set']),\n",
    "    axis=1\n",
    ")"
   ]
  },
  {
   "cell_type": "code",
   "execution_count": 49,
   "id": "338ff529-1a6b-4b87-a931-8e4788d52aad",
   "metadata": {
    "execution": {
     "iopub.execute_input": "2025-07-23T14:52:13.816636Z",
     "iopub.status.busy": "2025-07-23T14:52:13.816249Z",
     "iopub.status.idle": "2025-07-23T14:52:13.820413Z",
     "shell.execute_reply": "2025-07-23T14:52:13.819595Z"
    },
    "papermill": {
     "duration": 0.02641,
     "end_time": "2025-07-23T14:52:13.822005",
     "exception": false,
     "start_time": "2025-07-23T14:52:13.795595",
     "status": "completed"
    },
    "tags": []
   },
   "outputs": [],
   "source": [
    "#cp_groups_df"
   ]
  },
  {
   "cell_type": "code",
   "execution_count": 50,
   "id": "90032e27-66df-4540-9169-4e89cfbaa758",
   "metadata": {
    "execution": {
     "iopub.execute_input": "2025-07-23T14:52:13.863900Z",
     "iopub.status.busy": "2025-07-23T14:52:13.863549Z",
     "iopub.status.idle": "2025-07-23T14:52:13.872489Z",
     "shell.execute_reply": "2025-07-23T14:52:13.871769Z"
    },
    "papermill": {
     "duration": 0.031362,
     "end_time": "2025-07-23T14:52:13.874059",
     "exception": false,
     "start_time": "2025-07-23T14:52:13.842697",
     "status": "completed"
    },
    "tags": []
   },
   "outputs": [],
   "source": [
    "subgroups = ['frau1','nongerman','nongerman_male','nongerman_female']\n",
    "\n",
    "# Conditional coverage for subgroup==1\n",
    "cond_coverage = {\n",
    "    g: cp_groups_df.loc[cp_groups_df[g]==1, 'covered'].mean()\n",
    "    for g in subgroups\n",
    "}"
   ]
  },
  {
   "cell_type": "code",
   "execution_count": 51,
   "id": "1e348fb1-b9c3-45bc-ba23-f016827a7e0d",
   "metadata": {
    "execution": {
     "iopub.execute_input": "2025-07-23T14:52:13.916100Z",
     "iopub.status.busy": "2025-07-23T14:52:13.915751Z",
     "iopub.status.idle": "2025-07-23T14:52:13.921412Z",
     "shell.execute_reply": "2025-07-23T14:52:13.920631Z"
    },
    "papermill": {
     "duration": 0.028147,
     "end_time": "2025-07-23T14:52:13.922884",
     "exception": false,
     "start_time": "2025-07-23T14:52:13.894737",
     "status": "completed"
    },
    "tags": []
   },
   "outputs": [
    {
     "data": {
      "text/plain": [
       "{'frau1': 0.9055398301657905,\n",
       " 'nongerman': 0.9070903272890586,\n",
       " 'nongerman_male': 0.92227325947942,\n",
       " 'nongerman_female': 0.8819672131147541}"
      ]
     },
     "execution_count": 51,
     "metadata": {},
     "output_type": "execute_result"
    }
   ],
   "source": [
    "cond_coverage"
   ]
  },
  {
   "cell_type": "code",
   "execution_count": 52,
   "id": "f5093324-c3dd-4d63-bc4c-8d945e5c8bbb",
   "metadata": {
    "execution": {
     "iopub.execute_input": "2025-07-23T14:52:13.952355Z",
     "iopub.status.busy": "2025-07-23T14:52:13.951667Z",
     "iopub.status.idle": "2025-07-23T14:52:13.958765Z",
     "shell.execute_reply": "2025-07-23T14:52:13.958038Z"
    },
    "papermill": {
     "duration": 0.02097,
     "end_time": "2025-07-23T14:52:13.960275",
     "exception": false,
     "start_time": "2025-07-23T14:52:13.939305",
     "status": "completed"
    },
    "tags": []
   },
   "outputs": [],
   "source": [
    "for subgroup, cov in cond_coverage.items():\n",
    "    cp_metrics_df[f\"cov_{subgroup}\"] = cov"
   ]
  },
  {
   "cell_type": "code",
   "execution_count": 53,
   "id": "6e872e10-dbe5-49e8-b554-5030c98ff75d",
   "metadata": {
    "execution": {
     "iopub.execute_input": "2025-07-23T14:52:14.003224Z",
     "iopub.status.busy": "2025-07-23T14:52:14.002875Z",
     "iopub.status.idle": "2025-07-23T14:52:14.015657Z",
     "shell.execute_reply": "2025-07-23T14:52:14.014912Z"
    },
    "papermill": {
     "duration": 0.035972,
     "end_time": "2025-07-23T14:52:14.017284",
     "exception": false,
     "start_time": "2025-07-23T14:52:13.981312",
     "status": "completed"
    },
    "tags": []
   },
   "outputs": [
    {
     "data": {
      "text/html": [
       "<div>\n",
       "<style scoped>\n",
       "    .dataframe tbody tr th:only-of-type {\n",
       "        vertical-align: middle;\n",
       "    }\n",
       "\n",
       "    .dataframe tbody tr th {\n",
       "        vertical-align: top;\n",
       "    }\n",
       "\n",
       "    .dataframe thead th {\n",
       "        text-align: right;\n",
       "    }\n",
       "</style>\n",
       "<table border=\"1\" class=\"dataframe\">\n",
       "  <thead>\n",
       "    <tr style=\"text-align: right;\">\n",
       "      <th></th>\n",
       "      <th>universe_id</th>\n",
       "      <th>universe_model</th>\n",
       "      <th>universe_exclude_features</th>\n",
       "      <th>universe_exclude_subgroups</th>\n",
       "      <th>universe_scale</th>\n",
       "      <th>q_hat</th>\n",
       "      <th>coverage</th>\n",
       "      <th>avg_size</th>\n",
       "      <th>cov_frau1</th>\n",
       "      <th>cov_nongerman</th>\n",
       "      <th>cov_nongerman_male</th>\n",
       "      <th>cov_nongerman_female</th>\n",
       "    </tr>\n",
       "  </thead>\n",
       "  <tbody>\n",
       "    <tr>\n",
       "      <th>0</th>\n",
       "      <td>ccacdf93677b1fdb13835f9726458bbb</td>\n",
       "      <td>elasticnet</td>\n",
       "      <td>nationality-sex</td>\n",
       "      <td>keep-all</td>\n",
       "      <td>do-not-scale</td>\n",
       "      <td>0.685495</td>\n",
       "      <td>0.906443</td>\n",
       "      <td>1.134712</td>\n",
       "      <td>0.90554</td>\n",
       "      <td>0.90709</td>\n",
       "      <td>0.922273</td>\n",
       "      <td>0.881967</td>\n",
       "    </tr>\n",
       "  </tbody>\n",
       "</table>\n",
       "</div>"
      ],
      "text/plain": [
       "                        universe_id universe_model universe_exclude_features  \\\n",
       "0  ccacdf93677b1fdb13835f9726458bbb     elasticnet           nationality-sex   \n",
       "\n",
       "  universe_exclude_subgroups universe_scale     q_hat  coverage  avg_size  \\\n",
       "0                   keep-all   do-not-scale  0.685495  0.906443  1.134712   \n",
       "\n",
       "   cov_frau1  cov_nongerman  cov_nongerman_male  cov_nongerman_female  \n",
       "0    0.90554        0.90709            0.922273              0.881967  "
      ]
     },
     "execution_count": 53,
     "metadata": {},
     "output_type": "execute_result"
    }
   ],
   "source": [
    "cp_metrics_df"
   ]
  },
  {
   "cell_type": "markdown",
   "id": "33774451",
   "metadata": {
    "papermill": {
     "duration": 0.020691,
     "end_time": "2025-07-23T14:52:14.059632",
     "exception": false,
     "start_time": "2025-07-23T14:52:14.038941",
     "status": "completed"
    },
    "tags": []
   },
   "source": [
    "# (Fairness) Metrics"
   ]
  },
  {
   "cell_type": "code",
   "execution_count": 54,
   "id": "debc5d62",
   "metadata": {
    "execution": {
     "iopub.execute_input": "2025-07-23T14:52:14.099150Z",
     "iopub.status.busy": "2025-07-23T14:52:14.098683Z",
     "iopub.status.idle": "2025-07-23T14:52:14.121564Z",
     "shell.execute_reply": "2025-07-23T14:52:14.120690Z"
    },
    "papermill": {
     "duration": 0.04273,
     "end_time": "2025-07-23T14:52:14.122887",
     "exception": false,
     "start_time": "2025-07-23T14:52:14.080157",
     "status": "completed"
    },
    "tags": []
   },
   "outputs": [],
   "source": [
    "# do I need to include maxdeutsch1.missing?\n",
    "\n",
    "import numpy as np\n",
    "\n",
    "colname_to_bin = \"maxdeutsch1\"\n",
    "majority_value = org_train[colname_to_bin].mode()[0]\n",
    "\n",
    "org_test[\"majmin\"] = np.where(org_test[colname_to_bin] == majority_value, \"majority\", \"minority\")"
   ]
  },
  {
   "cell_type": "code",
   "execution_count": 55,
   "id": "06a50de5",
   "metadata": {
    "execution": {
     "iopub.execute_input": "2025-07-23T14:52:14.149245Z",
     "iopub.status.busy": "2025-07-23T14:52:14.148769Z",
     "iopub.status.idle": "2025-07-23T14:52:17.280992Z",
     "shell.execute_reply": "2025-07-23T14:52:17.280068Z"
    },
    "papermill": {
     "duration": 3.1468,
     "end_time": "2025-07-23T14:52:17.282514",
     "exception": false,
     "start_time": "2025-07-23T14:52:14.135714",
     "status": "completed"
    },
    "tags": []
   },
   "outputs": [],
   "source": [
    "example_universe = universe.copy()\n",
    "example_universe[\"cutoff\"] = example_universe[\"cutoff\"][0]\n",
    "example_universe[\"eval_fairness_grouping\"] = example_universe[\"eval_fairness_grouping\"][0]\n",
    "fairness_dict, metric_frame = universe_analysis.compute_metrics(\n",
    "    example_universe,\n",
    "    y_pred_prob=probs_test,\n",
    "    y_test=y_true,\n",
    "    org_test=org_test,\n",
    ")"
   ]
  },
  {
   "cell_type": "markdown",
   "id": "f95d4e02",
   "metadata": {
    "papermill": {
     "duration": 0.015795,
     "end_time": "2025-07-23T14:52:17.311282",
     "exception": false,
     "start_time": "2025-07-23T14:52:17.295487",
     "status": "completed"
    },
    "tags": []
   },
   "source": [
    "# Overall"
   ]
  },
  {
   "cell_type": "markdown",
   "id": "bdee4871",
   "metadata": {
    "papermill": {
     "duration": 0.012063,
     "end_time": "2025-07-23T14:52:17.335564",
     "exception": false,
     "start_time": "2025-07-23T14:52:17.323501",
     "status": "completed"
    },
    "tags": []
   },
   "source": [
    "Fairness\n",
    "Main fairness target: Equalized Odds. Seems to be a better fit than equal opportunity, since we're not only interested in Y = 1. Seems to be a better fit than demographic parity, since we also care about accuracy, not just equal distribution of preds.\n",
    "\n",
    "Pick column for computation of fairness metrics\n",
    "\n",
    "Performance\n",
    "Overall performance measures, most interesting in relation to the measures split by group below"
   ]
  },
  {
   "cell_type": "code",
   "execution_count": 56,
   "id": "c4e067c6",
   "metadata": {
    "execution": {
     "iopub.execute_input": "2025-07-23T14:52:17.361294Z",
     "iopub.status.busy": "2025-07-23T14:52:17.360781Z",
     "iopub.status.idle": "2025-07-23T14:52:17.369022Z",
     "shell.execute_reply": "2025-07-23T14:52:17.368095Z"
    },
    "papermill": {
     "duration": 0.022839,
     "end_time": "2025-07-23T14:52:17.370316",
     "exception": false,
     "start_time": "2025-07-23T14:52:17.347477",
     "status": "completed"
    },
    "tags": []
   },
   "outputs": [
    {
     "data": {
      "text/plain": [
       "accuracy                   0.221391\n",
       "balanced accuracy          0.541957\n",
       "f1                         0.242805\n",
       "precision                  0.138706\n",
       "false positive rate        0.889236\n",
       "false negative rate        0.026851\n",
       "selection rate             0.900000\n",
       "count                  89710.000000\n",
       "dtype: float64"
      ]
     },
     "execution_count": 56,
     "metadata": {},
     "output_type": "execute_result"
    }
   ],
   "source": [
    "metric_frame.overall"
   ]
  },
  {
   "cell_type": "markdown",
   "id": "e968fe9d",
   "metadata": {
    "papermill": {
     "duration": 0.011937,
     "end_time": "2025-07-23T14:52:17.394903",
     "exception": false,
     "start_time": "2025-07-23T14:52:17.382966",
     "status": "completed"
    },
    "tags": []
   },
   "source": [
    "By Group"
   ]
  },
  {
   "cell_type": "code",
   "execution_count": 57,
   "id": "ec325bce",
   "metadata": {
    "execution": {
     "iopub.execute_input": "2025-07-23T14:52:17.420346Z",
     "iopub.status.busy": "2025-07-23T14:52:17.419920Z",
     "iopub.status.idle": "2025-07-23T14:52:17.435496Z",
     "shell.execute_reply": "2025-07-23T14:52:17.434702Z"
    },
    "papermill": {
     "duration": 0.03001,
     "end_time": "2025-07-23T14:52:17.436858",
     "exception": false,
     "start_time": "2025-07-23T14:52:17.406848",
     "status": "completed"
    },
    "tags": []
   },
   "outputs": [
    {
     "data": {
      "text/html": [
       "<div>\n",
       "<style scoped>\n",
       "    .dataframe tbody tr th:only-of-type {\n",
       "        vertical-align: middle;\n",
       "    }\n",
       "\n",
       "    .dataframe tbody tr th {\n",
       "        vertical-align: top;\n",
       "    }\n",
       "\n",
       "    .dataframe thead th {\n",
       "        text-align: right;\n",
       "    }\n",
       "</style>\n",
       "<table border=\"1\" class=\"dataframe\">\n",
       "  <thead>\n",
       "    <tr style=\"text-align: right;\">\n",
       "      <th></th>\n",
       "      <th>accuracy</th>\n",
       "      <th>balanced accuracy</th>\n",
       "      <th>f1</th>\n",
       "      <th>precision</th>\n",
       "      <th>false positive rate</th>\n",
       "      <th>false negative rate</th>\n",
       "      <th>selection rate</th>\n",
       "      <th>count</th>\n",
       "    </tr>\n",
       "    <tr>\n",
       "      <th>majmin</th>\n",
       "      <th></th>\n",
       "      <th></th>\n",
       "      <th></th>\n",
       "      <th></th>\n",
       "      <th></th>\n",
       "      <th></th>\n",
       "      <th></th>\n",
       "      <th></th>\n",
       "    </tr>\n",
       "  </thead>\n",
       "  <tbody>\n",
       "    <tr>\n",
       "      <th>majority</th>\n",
       "      <td>0.243921</td>\n",
       "      <td>0.551555</td>\n",
       "      <td>0.253142</td>\n",
       "      <td>0.145572</td>\n",
       "      <td>0.866583</td>\n",
       "      <td>0.030306</td>\n",
       "      <td>0.880208</td>\n",
       "      <td>69170.0</td>\n",
       "    </tr>\n",
       "    <tr>\n",
       "      <th>minority</th>\n",
       "      <td>0.145521</td>\n",
       "      <td>0.511210</td>\n",
       "      <td>0.210233</td>\n",
       "      <td>0.117653</td>\n",
       "      <td>0.964066</td>\n",
       "      <td>0.013514</td>\n",
       "      <td>0.966650</td>\n",
       "      <td>20540.0</td>\n",
       "    </tr>\n",
       "  </tbody>\n",
       "</table>\n",
       "</div>"
      ],
      "text/plain": [
       "          accuracy  balanced accuracy        f1  precision  \\\n",
       "majmin                                                       \n",
       "majority  0.243921           0.551555  0.253142   0.145572   \n",
       "minority  0.145521           0.511210  0.210233   0.117653   \n",
       "\n",
       "          false positive rate  false negative rate  selection rate    count  \n",
       "majmin                                                                       \n",
       "majority             0.866583             0.030306        0.880208  69170.0  \n",
       "minority             0.964066             0.013514        0.966650  20540.0  "
      ]
     },
     "execution_count": 57,
     "metadata": {},
     "output_type": "execute_result"
    }
   ],
   "source": [
    "metric_frame.by_group"
   ]
  },
  {
   "cell_type": "code",
   "execution_count": 58,
   "id": "a9ddbe63",
   "metadata": {
    "execution": {
     "iopub.execute_input": "2025-07-23T14:52:17.463382Z",
     "iopub.status.busy": "2025-07-23T14:52:17.463008Z",
     "iopub.status.idle": "2025-07-23T14:52:19.802488Z",
     "shell.execute_reply": "2025-07-23T14:52:19.801619Z"
    },
    "papermill": {
     "duration": 2.354355,
     "end_time": "2025-07-23T14:52:19.804036",
     "exception": false,
     "start_time": "2025-07-23T14:52:17.449681",
     "status": "completed"
    },
    "tags": []
   },
   "outputs": [
    {
     "data": {
      "text/plain": [
       "array([[<Axes: title={'center': 'accuracy'}, xlabel='majmin'>,\n",
       "        <Axes: title={'center': 'balanced accuracy'}, xlabel='majmin'>,\n",
       "        <Axes: title={'center': 'f1'}, xlabel='majmin'>],\n",
       "       [<Axes: title={'center': 'precision'}, xlabel='majmin'>,\n",
       "        <Axes: title={'center': 'false positive rate'}, xlabel='majmin'>,\n",
       "        <Axes: title={'center': 'false negative rate'}, xlabel='majmin'>],\n",
       "       [<Axes: title={'center': 'selection rate'}, xlabel='majmin'>,\n",
       "        <Axes: title={'center': 'count'}, xlabel='majmin'>,\n",
       "        <Axes: xlabel='majmin'>]], dtype=object)"
      ]
     },
     "execution_count": 58,
     "metadata": {},
     "output_type": "execute_result"
    },
    {
     "data": {
      "image/png": "[encoded data removed]",
      "text/plain": [
       "<Figure size 1200x800 with 9 Axes>"
      ]
     },
     "metadata": {},
     "output_type": "display_data"
    }
   ],
   "source": [
    "# In a graphic\n",
    "metric_frame.by_group.plot.bar(\n",
    "    subplots=True,\n",
    "    layout=[3, 3],\n",
    "    legend=False,\n",
    "    figsize=[12, 8],\n",
    "    title=\"Show all metrics\",\n",
    ")"
   ]
  },
  {
   "cell_type": "markdown",
   "id": "f57a0bac",
   "metadata": {
    "papermill": {
     "duration": 0.022554,
     "end_time": "2025-07-23T14:52:19.850475",
     "exception": false,
     "start_time": "2025-07-23T14:52:19.827921",
     "status": "completed"
    },
    "tags": []
   },
   "source": [
    "# Final Output"
   ]
  },
  {
   "cell_type": "code",
   "execution_count": 59,
   "id": "96d280a3",
   "metadata": {
    "execution": {
     "iopub.execute_input": "2025-07-23T14:52:19.897318Z",
     "iopub.status.busy": "2025-07-23T14:52:19.896665Z",
     "iopub.status.idle": "2025-07-23T14:52:19.904048Z",
     "shell.execute_reply": "2025-07-23T14:52:19.903146Z"
    },
    "papermill": {
     "duration": 0.032737,
     "end_time": "2025-07-23T14:52:19.905726",
     "exception": false,
     "start_time": "2025-07-23T14:52:19.872989",
     "status": "completed"
    },
    "tags": []
   },
   "outputs": [
    {
     "data": {
      "text/plain": [
       "4"
      ]
     },
     "execution_count": 59,
     "metadata": {},
     "output_type": "execute_result"
    }
   ],
   "source": [
    "sub_universes = universe_analysis.generate_sub_universes()\n",
    "len(sub_universes)"
   ]
  },
  {
   "cell_type": "code",
   "execution_count": 60,
   "id": "92adf7ba",
   "metadata": {
    "execution": {
     "iopub.execute_input": "2025-07-23T14:52:19.953919Z",
     "iopub.status.busy": "2025-07-23T14:52:19.953522Z",
     "iopub.status.idle": "2025-07-23T14:52:19.959497Z",
     "shell.execute_reply": "2025-07-23T14:52:19.958739Z"
    },
    "papermill": {
     "duration": 0.031775,
     "end_time": "2025-07-23T14:52:19.961091",
     "exception": false,
     "start_time": "2025-07-23T14:52:19.929316",
     "status": "completed"
    },
    "tags": []
   },
   "outputs": [],
   "source": [
    "def filter_sub_universe_data(sub_universe, org_test):\n",
    "    # Keep all rows — no filtering\n",
    "    keep_rows_mask = np.ones(org_test.shape[0], dtype=bool)\n",
    "\n",
    "    print(f\"[INFO] Keeping all rows: {keep_rows_mask.sum()} rows retained.\")\n",
    "    return keep_rows_mask"
   ]
  },
  {
   "cell_type": "code",
   "execution_count": 61,
   "id": "4a759155",
   "metadata": {
    "execution": {
     "iopub.execute_input": "2025-07-23T14:52:20.009112Z",
     "iopub.status.busy": "2025-07-23T14:52:20.008496Z",
     "iopub.status.idle": "2025-07-23T14:52:26.371358Z",
     "shell.execute_reply": "2025-07-23T14:52:26.370582Z"
    },
    "papermill": {
     "duration": 6.388302,
     "end_time": "2025-07-23T14:52:26.372880",
     "exception": false,
     "start_time": "2025-07-23T14:52:19.984578",
     "status": "completed"
    },
    "tags": []
   },
   "outputs": [
    {
     "name": "stdout",
     "output_type": "stream",
     "text": [
      "Stopping execution_time clock.\n",
      "[INFO] Keeping all rows: 89710 rows retained.\n"
     ]
    },
    {
     "name": "stdout",
     "output_type": "stream",
     "text": [
      "[INFO] Keeping all rows: 89710 rows retained.\n"
     ]
    },
    {
     "name": "stdout",
     "output_type": "stream",
     "text": [
      "[INFO] Keeping all rows: 89710 rows retained.\n"
     ]
    },
    {
     "name": "stdout",
     "output_type": "stream",
     "text": [
      "[INFO] Keeping all rows: 89710 rows retained.\n"
     ]
    },
    {
     "data": {
      "text/html": [
       "<div>\n",
       "<style scoped>\n",
       "    .dataframe tbody tr th:only-of-type {\n",
       "        vertical-align: middle;\n",
       "    }\n",
       "\n",
       "    .dataframe tbody tr th {\n",
       "        vertical-align: top;\n",
       "    }\n",
       "\n",
       "    .dataframe thead th {\n",
       "        text-align: right;\n",
       "    }\n",
       "</style>\n",
       "<table border=\"1\" class=\"dataframe\">\n",
       "  <thead>\n",
       "    <tr style=\"text-align: right;\">\n",
       "      <th></th>\n",
       "      <th>run_no</th>\n",
       "      <th>universe_id</th>\n",
       "      <th>universe_settings</th>\n",
       "      <th>execution_time</th>\n",
       "      <th>test_size_n</th>\n",
       "      <th>test_size_frac</th>\n",
       "      <th>fair_main_equalized_odds_difference</th>\n",
       "      <th>fair_main_equalized_odds_ratio</th>\n",
       "      <th>fair_main_demographic_parity_difference</th>\n",
       "      <th>fair_main_demographic_parity_ratio</th>\n",
       "      <th>...</th>\n",
       "      <th>perf_grp_precision_0</th>\n",
       "      <th>perf_grp_precision_1</th>\n",
       "      <th>perf_grp_false positive rate_0</th>\n",
       "      <th>perf_grp_false positive rate_1</th>\n",
       "      <th>perf_grp_false negative rate_0</th>\n",
       "      <th>perf_grp_false negative rate_1</th>\n",
       "      <th>perf_grp_selection rate_0</th>\n",
       "      <th>perf_grp_selection rate_1</th>\n",
       "      <th>perf_grp_count_0</th>\n",
       "      <th>perf_grp_count_1</th>\n",
       "    </tr>\n",
       "  </thead>\n",
       "  <tbody>\n",
       "    <tr>\n",
       "      <th>0</th>\n",
       "      <td>9</td>\n",
       "      <td>ccacdf93677b1fdb13835f9726458bbb</td>\n",
       "      <td>{\"cutoff\": \"quantile_0.1\", \"eval_fairness_grou...</td>\n",
       "      <td>623.85471</td>\n",
       "      <td>89710</td>\n",
       "      <td>1.0</td>\n",
       "      <td>0.097482</td>\n",
       "      <td>0.898884</td>\n",
       "      <td>0.086442</td>\n",
       "      <td>0.910575</td>\n",
       "      <td>...</td>\n",
       "      <td>NaN</td>\n",
       "      <td>NaN</td>\n",
       "      <td>NaN</td>\n",
       "      <td>NaN</td>\n",
       "      <td>NaN</td>\n",
       "      <td>NaN</td>\n",
       "      <td>NaN</td>\n",
       "      <td>NaN</td>\n",
       "      <td>NaN</td>\n",
       "      <td>NaN</td>\n",
       "    </tr>\n",
       "    <tr>\n",
       "      <th>0</th>\n",
       "      <td>9</td>\n",
       "      <td>ccacdf93677b1fdb13835f9726458bbb</td>\n",
       "      <td>{\"cutoff\": \"quantile_0.1\", \"eval_fairness_grou...</td>\n",
       "      <td>623.85471</td>\n",
       "      <td>89710</td>\n",
       "      <td>1.0</td>\n",
       "      <td>0.097482</td>\n",
       "      <td>0.898884</td>\n",
       "      <td>0.086442</td>\n",
       "      <td>0.910575</td>\n",
       "      <td>...</td>\n",
       "      <td>0.117653</td>\n",
       "      <td>0.145572</td>\n",
       "      <td>0.964066</td>\n",
       "      <td>0.866583</td>\n",
       "      <td>0.013514</td>\n",
       "      <td>0.030306</td>\n",
       "      <td>0.96665</td>\n",
       "      <td>0.880208</td>\n",
       "      <td>20540.0</td>\n",
       "      <td>69170.0</td>\n",
       "    </tr>\n",
       "    <tr>\n",
       "      <th>0</th>\n",
       "      <td>9</td>\n",
       "      <td>ccacdf93677b1fdb13835f9726458bbb</td>\n",
       "      <td>{\"cutoff\": \"quantile_0.25\", \"eval_fairness_gro...</td>\n",
       "      <td>623.85471</td>\n",
       "      <td>89710</td>\n",
       "      <td>1.0</td>\n",
       "      <td>0.195200</td>\n",
       "      <td>0.777243</td>\n",
       "      <td>0.171503</td>\n",
       "      <td>0.805603</td>\n",
       "      <td>...</td>\n",
       "      <td>NaN</td>\n",
       "      <td>NaN</td>\n",
       "      <td>NaN</td>\n",
       "      <td>NaN</td>\n",
       "      <td>NaN</td>\n",
       "      <td>NaN</td>\n",
       "      <td>NaN</td>\n",
       "      <td>NaN</td>\n",
       "      <td>NaN</td>\n",
       "      <td>NaN</td>\n",
       "    </tr>\n",
       "    <tr>\n",
       "      <th>0</th>\n",
       "      <td>9</td>\n",
       "      <td>ccacdf93677b1fdb13835f9726458bbb</td>\n",
       "      <td>{\"cutoff\": \"quantile_0.25\", \"eval_fairness_gro...</td>\n",
       "      <td>623.85471</td>\n",
       "      <td>89710</td>\n",
       "      <td>1.0</td>\n",
       "      <td>0.195200</td>\n",
       "      <td>0.777243</td>\n",
       "      <td>0.171503</td>\n",
       "      <td>0.805603</td>\n",
       "      <td>...</td>\n",
       "      <td>0.121241</td>\n",
       "      <td>0.168324</td>\n",
       "      <td>0.876293</td>\n",
       "      <td>0.681093</td>\n",
       "      <td>0.072213</td>\n",
       "      <td>0.094639</td>\n",
       "      <td>0.88223</td>\n",
       "      <td>0.710727</td>\n",
       "      <td>20540.0</td>\n",
       "      <td>69170.0</td>\n",
       "    </tr>\n",
       "  </tbody>\n",
       "</table>\n",
       "<p>4 rows × 50 columns</p>\n",
       "</div>"
      ],
      "text/plain": [
       "  run_no                       universe_id  \\\n",
       "0      9  ccacdf93677b1fdb13835f9726458bbb   \n",
       "0      9  ccacdf93677b1fdb13835f9726458bbb   \n",
       "0      9  ccacdf93677b1fdb13835f9726458bbb   \n",
       "0      9  ccacdf93677b1fdb13835f9726458bbb   \n",
       "\n",
       "                                   universe_settings  execution_time  \\\n",
       "0  {\"cutoff\": \"quantile_0.1\", \"eval_fairness_grou...       623.85471   \n",
       "0  {\"cutoff\": \"quantile_0.1\", \"eval_fairness_grou...       623.85471   \n",
       "0  {\"cutoff\": \"quantile_0.25\", \"eval_fairness_gro...       623.85471   \n",
       "0  {\"cutoff\": \"quantile_0.25\", \"eval_fairness_gro...       623.85471   \n",
       "\n",
       "   test_size_n  test_size_frac  fair_main_equalized_odds_difference  \\\n",
       "0        89710             1.0                             0.097482   \n",
       "0        89710             1.0                             0.097482   \n",
       "0        89710             1.0                             0.195200   \n",
       "0        89710             1.0                             0.195200   \n",
       "\n",
       "   fair_main_equalized_odds_ratio  fair_main_demographic_parity_difference  \\\n",
       "0                        0.898884                                 0.086442   \n",
       "0                        0.898884                                 0.086442   \n",
       "0                        0.777243                                 0.171503   \n",
       "0                        0.777243                                 0.171503   \n",
       "\n",
       "   fair_main_demographic_parity_ratio  ...  perf_grp_precision_0  \\\n",
       "0                            0.910575  ...                   NaN   \n",
       "0                            0.910575  ...              0.117653   \n",
       "0                            0.805603  ...                   NaN   \n",
       "0                            0.805603  ...              0.121241   \n",
       "\n",
       "   perf_grp_precision_1  perf_grp_false positive rate_0  \\\n",
       "0                   NaN                             NaN   \n",
       "0              0.145572                        0.964066   \n",
       "0                   NaN                             NaN   \n",
       "0              0.168324                        0.876293   \n",
       "\n",
       "   perf_grp_false positive rate_1  perf_grp_false negative rate_0  \\\n",
       "0                             NaN                             NaN   \n",
       "0                        0.866583                        0.013514   \n",
       "0                             NaN                             NaN   \n",
       "0                        0.681093                        0.072213   \n",
       "\n",
       "   perf_grp_false negative rate_1  perf_grp_selection rate_0  \\\n",
       "0                             NaN                        NaN   \n",
       "0                        0.030306                    0.96665   \n",
       "0                             NaN                        NaN   \n",
       "0                        0.094639                    0.88223   \n",
       "\n",
       "   perf_grp_selection rate_1  perf_grp_count_0  perf_grp_count_1  \n",
       "0                        NaN               NaN               NaN  \n",
       "0                   0.880208           20540.0           69170.0  \n",
       "0                        NaN               NaN               NaN  \n",
       "0                   0.710727           20540.0           69170.0  \n",
       "\n",
       "[4 rows x 50 columns]"
      ]
     },
     "execution_count": 61,
     "metadata": {},
     "output_type": "execute_result"
    }
   ],
   "source": [
    "final_output = universe_analysis.generate_final_output(\n",
    "    y_pred_prob=probs_test,\n",
    "    y_test=y_true,\n",
    "    org_test=org_test,\n",
    "    filter_data=filter_sub_universe_data,\n",
    "    cp_metrics_df=cp_metrics_df,\n",
    "    save=True,\n",
    ")\n",
    "final_output"
   ]
  },
  {
   "cell_type": "code",
   "execution_count": null,
   "id": "721ff514-cb11-46f8-b6fc-50392f74b5cb",
   "metadata": {
    "papermill": {
     "duration": 0.023732,
     "end_time": "2025-07-23T14:52:26.423365",
     "exception": false,
     "start_time": "2025-07-23T14:52:26.399633",
     "status": "completed"
    },
    "tags": []
   },
   "outputs": [],
   "source": []
  }
 ],
 "metadata": {
  "celltoolbar": "Tags",
  "kernelspec": {
   "display_name": "Python (CMA Fairness)",
   "language": "python",
   "name": "cma_fair_env"
  },
  "language_info": {
   "codemirror_mode": {
    "name": "ipython",
    "version": 3
   },
   "file_extension": ".py",
   "mimetype": "text/x-python",
   "name": "python",
   "nbconvert_exporter": "python",
   "pygments_lexer": "ipython3",
   "version": "3.10.12"
  },
  "papermill": {
   "default_parameters": {},
   "duration": 634.340281,
   "end_time": "2025-07-23T14:52:27.064589",
   "environment_variables": {},
   "exception": null,
   "input_path": "universe_analysis.ipynb",
   "output_path": "output/runs/9/notebooks/m_9-ccacdf93677b1fdb13835f9726458bbb.ipynb",
   "parameters": {
    "output_dir": "output",
    "run_no": "9",
    "seed": "2023",
    "universe": "{\"cutoff\": [\"quantile_0.1\", \"quantile_0.25\"], \"eval_fairness_grouping\": [\"majority-minority\", \"nationality-all\"], \"exclude_features\": \"nationality-sex\", \"exclude_subgroups\": \"keep-all\", \"model\": \"elasticnet\", \"scale\": \"do-not-scale\"}",
    "universe_id": "ccacdf93677b1fdb13835f9726458bbb"
   },
   "start_time": "2025-07-23T14:41:52.724308",
   "version": "2.6.0"
  }
 },
 "nbformat": 4,
 "nbformat_minor": 5
}