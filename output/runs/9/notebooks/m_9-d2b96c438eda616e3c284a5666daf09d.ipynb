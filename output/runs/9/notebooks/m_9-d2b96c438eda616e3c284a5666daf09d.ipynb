{
 "cells": [
  {
   "cell_type": "code",
   "execution_count": 1,
   "id": "f159f837-637b-42ba-96b5-ec9a68c44524",
   "metadata": {
    "execution": {
     "iopub.execute_input": "2025-07-23T14:34:41.752187Z",
     "iopub.status.busy": "2025-07-23T14:34:41.751605Z",
     "iopub.status.idle": "2025-07-23T14:34:41.766669Z",
     "shell.execute_reply": "2025-07-23T14:34:41.765657Z"
    },
    "papermill": {
     "duration": 0.036818,
     "end_time": "2025-07-23T14:34:41.768429",
     "exception": false,
     "start_time": "2025-07-23T14:34:41.731611",
     "status": "completed"
    },
    "tags": []
   },
   "outputs": [
    {
     "name": "stdout",
     "output_type": "stream",
     "text": [
      "/dss/dsshome1/0C/ra93lal2/cma/CMA_Fairness_v2\n"
     ]
    },
    {
     "name": "stderr",
     "output_type": "stream",
     "text": [
      "/dss/dsshome1/0C/ra93lal2/.local/share/virtualenvs/CMA_Fairness_v2-3j10GkSs/lib/python3.10/site-packages/IPython/core/magics/osm.py:393: UserWarning: This is now an optional IPython functionality, using bookmarks requires you to install the `pickleshare` library.\n",
      "  bkms = self.shell.db.get('bookmarks', {})\n",
      "/dss/dsshome1/0C/ra93lal2/.local/share/virtualenvs/CMA_Fairness_v2-3j10GkSs/lib/python3.10/site-packages/IPython/core/magics/osm.py:417: UserWarning: This is now an optional IPython functionality, setting dhist requires you to install the `pickleshare` library.\n",
      "  self.shell.db['dhist'] = compress_dhist(dhist)[-100:]\n"
     ]
    }
   ],
   "source": [
    "%cd ~/cma/CMA_Fairness_v2"
   ]
  },
  {
   "cell_type": "markdown",
   "id": "de2603b9",
   "metadata": {
    "papermill": {
     "duration": 0.01649,
     "end_time": "2025-07-23T14:34:41.802561",
     "exception": false,
     "start_time": "2025-07-23T14:34:41.786071",
     "status": "completed"
    },
    "tags": []
   },
   "source": [
    "The following cell holds the definition of our parameters, these values can be overriden by rendering the with e.g. the following command:\n",
    "\n",
    "papermill -p alpha 0.2 -p ratio 0.3 universe_analysis.ipynb output/test_run.ipynb"
   ]
  },
  {
   "cell_type": "code",
   "execution_count": 2,
   "id": "a80968a0-40bb-4fa9-85ef-2d5eefb01975",
   "metadata": {
    "execution": {
     "iopub.execute_input": "2025-07-23T14:34:41.838555Z",
     "iopub.status.busy": "2025-07-23T14:34:41.837953Z",
     "iopub.status.idle": "2025-07-23T14:34:41.844488Z",
     "shell.execute_reply": "2025-07-23T14:34:41.843558Z"
    },
    "papermill": {
     "duration": 0.026984,
     "end_time": "2025-07-23T14:34:41.845994",
     "exception": false,
     "start_time": "2025-07-23T14:34:41.819010",
     "status": "completed"
    },
    "tags": []
   },
   "outputs": [
    {
     "name": "stdout",
     "output_type": "stream",
     "text": [
      "Current working directory: /dss/dsshome1/0C/ra93lal2/cma/CMA_Fairness_v2\n"
     ]
    }
   ],
   "source": [
    "import os\n",
    "print(\"Current working directory:\", os.getcwd())"
   ]
  },
  {
   "cell_type": "code",
   "execution_count": 3,
   "id": "2dce4c03",
   "metadata": {
    "execution": {
     "iopub.execute_input": "2025-07-23T14:34:41.867320Z",
     "iopub.status.busy": "2025-07-23T14:34:41.866433Z",
     "iopub.status.idle": "2025-07-23T14:34:41.871794Z",
     "shell.execute_reply": "2025-07-23T14:34:41.871073Z"
    },
    "papermill": {
     "duration": 0.017381,
     "end_time": "2025-07-23T14:34:41.873431",
     "exception": false,
     "start_time": "2025-07-23T14:34:41.856050",
     "status": "completed"
    },
    "tags": [
     "parameters"
    ]
   },
   "outputs": [],
   "source": [
    "run_no = 0\n",
    "universe_id = \"test\"\n",
    "universe = {\n",
    "    \"scale\": \"scale\", # \"scale\", \"do-not-scale\",\n",
    "    \"model\": \"elasticnet\", # \"logreg\", \"penalized_logreg\", \"rf\", \"gbm\", \"elasticnet\"\n",
    "    \"cutoff\": [\"quantile_0.15\", \"quantile_0.30\"],\n",
    "    \"exclude_features\": \"age\", # \"none\", \"nationality\", \"sex\", \"nationality-sex\", \"age\"\n",
    "    \"exclude_subgroups\": \"keep-all\", # \"keep-all\", \"drop-non-german\"\n",
    "    #\"training_sample\": \"restricted\", # \"restricted\", \"full\"\n",
    "    \"eval_fairness_grouping\": [\"majority-minority\", \"nationality-all\"]\n",
    "}\n",
    "\n",
    "output_dir=\"./output\"\n",
    "seed=0"
   ]
  },
  {
   "cell_type": "code",
   "execution_count": 4,
   "id": "763a0e18",
   "metadata": {
    "execution": {
     "iopub.execute_input": "2025-07-23T14:34:41.894624Z",
     "iopub.status.busy": "2025-07-23T14:34:41.894061Z",
     "iopub.status.idle": "2025-07-23T14:34:41.899373Z",
     "shell.execute_reply": "2025-07-23T14:34:41.898202Z"
    },
    "papermill": {
     "duration": 0.017917,
     "end_time": "2025-07-23T14:34:41.901462",
     "exception": false,
     "start_time": "2025-07-23T14:34:41.883545",
     "status": "completed"
    },
    "tags": [
     "injected-parameters"
    ]
   },
   "outputs": [],
   "source": [
    "# Parameters\n",
    "universe_id = \"d2b96c438eda616e3c284a5666daf09d\"\n",
    "run_no = \"9\"\n",
    "universe = \"{\\\"cutoff\\\": [\\\"quantile_0.1\\\", \\\"quantile_0.25\\\"], \\\"eval_fairness_grouping\\\": [\\\"majority-minority\\\", \\\"nationality-all\\\"], \\\"exclude_features\\\": \\\"nationality-sex\\\", \\\"exclude_subgroups\\\": \\\"keep-all\\\", \\\"model\\\": \\\"logreg\\\", \\\"scale\\\": \\\"do-not-scale\\\"}\"\n",
    "output_dir = \"output\"\n",
    "seed = \"2023\"\n"
   ]
  },
  {
   "cell_type": "code",
   "execution_count": 5,
   "id": "1650acaf",
   "metadata": {
    "execution": {
     "iopub.execute_input": "2025-07-23T14:34:41.944168Z",
     "iopub.status.busy": "2025-07-23T14:34:41.943384Z",
     "iopub.status.idle": "2025-07-23T14:34:41.949572Z",
     "shell.execute_reply": "2025-07-23T14:34:41.948180Z"
    },
    "papermill": {
     "duration": 0.03088,
     "end_time": "2025-07-23T14:34:41.952451",
     "exception": false,
     "start_time": "2025-07-23T14:34:41.921571",
     "status": "completed"
    },
    "tags": []
   },
   "outputs": [],
   "source": [
    "import json\n",
    "# Parse universe into dict if it is passed as a string\n",
    "if isinstance(universe, str):\n",
    "    universe = json.loads(universe)"
   ]
  },
  {
   "cell_type": "code",
   "execution_count": 6,
   "id": "16620c48",
   "metadata": {
    "execution": {
     "iopub.execute_input": "2025-07-23T14:34:41.997663Z",
     "iopub.status.busy": "2025-07-23T14:34:41.997101Z",
     "iopub.status.idle": "2025-07-23T14:34:42.049362Z",
     "shell.execute_reply": "2025-07-23T14:34:42.048306Z"
    },
    "papermill": {
     "duration": 0.077611,
     "end_time": "2025-07-23T14:34:42.051232",
     "exception": false,
     "start_time": "2025-07-23T14:34:41.973621",
     "status": "completed"
    },
    "tags": []
   },
   "outputs": [],
   "source": [
    "# Auto-reload the custom package\n",
    "%load_ext autoreload\n",
    "%autoreload 1\n",
    "%aimport fairness_multiverse"
   ]
  },
  {
   "cell_type": "code",
   "execution_count": 7,
   "id": "01c5c9f3",
   "metadata": {
    "execution": {
     "iopub.execute_input": "2025-07-23T14:34:42.095490Z",
     "iopub.status.busy": "2025-07-23T14:34:42.094952Z",
     "iopub.status.idle": "2025-07-23T14:34:44.168382Z",
     "shell.execute_reply": "2025-07-23T14:34:44.167512Z"
    },
    "papermill": {
     "duration": 2.096206,
     "end_time": "2025-07-23T14:34:44.170049",
     "exception": false,
     "start_time": "2025-07-23T14:34:42.073843",
     "status": "completed"
    },
    "tags": []
   },
   "outputs": [],
   "source": [
    "from fairness_multiverse.universe import UniverseAnalysis\n",
    "\n",
    "universe_analysis = UniverseAnalysis(\n",
    "    run_no = run_no,\n",
    "    universe_id = universe_id,\n",
    "    universe = universe,\n",
    "    output_dir=output_dir,\n",
    ")"
   ]
  },
  {
   "cell_type": "code",
   "execution_count": 8,
   "id": "106241f5",
   "metadata": {
    "execution": {
     "iopub.execute_input": "2025-07-23T14:34:44.191383Z",
     "iopub.status.busy": "2025-07-23T14:34:44.190541Z",
     "iopub.status.idle": "2025-07-23T14:34:44.197017Z",
     "shell.execute_reply": "2025-07-23T14:34:44.195769Z"
    },
    "papermill": {
     "duration": 0.01866,
     "end_time": "2025-07-23T14:34:44.198563",
     "exception": false,
     "start_time": "2025-07-23T14:34:44.179903",
     "status": "completed"
    },
    "tags": []
   },
   "outputs": [
    {
     "name": "stdout",
     "output_type": "stream",
     "text": [
      "Using Seed: 2023\n"
     ]
    }
   ],
   "source": [
    "import numpy as np\n",
    "parsed_seed = int(seed)\n",
    "np.random.seed(parsed_seed)\n",
    "print(f\"Using Seed: {parsed_seed}\")"
   ]
  },
  {
   "cell_type": "markdown",
   "id": "e0ebdc57",
   "metadata": {
    "papermill": {
     "duration": 0.009817,
     "end_time": "2025-07-23T14:34:44.218980",
     "exception": false,
     "start_time": "2025-07-23T14:34:44.209163",
     "status": "completed"
    },
    "tags": []
   },
   "source": [
    "# Loading Data"
   ]
  },
  {
   "cell_type": "markdown",
   "id": "681925a3",
   "metadata": {
    "papermill": {
     "duration": 0.0097,
     "end_time": "2025-07-23T14:34:44.238492",
     "exception": false,
     "start_time": "2025-07-23T14:34:44.228792",
     "status": "completed"
    },
    "tags": []
   },
   "source": [
    "Load siab_train, siab_test, siab_calib and/or \n",
    "load siab_train_features, siab_train_labels"
   ]
  },
  {
   "cell_type": "code",
   "execution_count": 9,
   "id": "f0496b8a",
   "metadata": {
    "execution": {
     "iopub.execute_input": "2025-07-23T14:34:44.259860Z",
     "iopub.status.busy": "2025-07-23T14:34:44.259304Z",
     "iopub.status.idle": "2025-07-23T14:34:44.264539Z",
     "shell.execute_reply": "2025-07-23T14:34:44.263641Z"
    },
    "papermill": {
     "duration": 0.017727,
     "end_time": "2025-07-23T14:34:44.266165",
     "exception": false,
     "start_time": "2025-07-23T14:34:44.248438",
     "status": "completed"
    },
    "tags": []
   },
   "outputs": [],
   "source": [
    "# Do I need to load siab? Delete this cell?\n",
    "\n",
    "#from pathlib import Path\n",
    "#import pandas as pd\n",
    "#\n",
    "## File paths\n",
    "#raw_file = Path(\"data/raw/siab.csv\")\n",
    "#cache_file = Path(\"data/siab_cached.csv.gz\")\n",
    "#\n",
    "## Ensure cache directory exists\n",
    "#cache_file.parent.mkdir(parents=True, exist_ok=True)\n",
    "#\n",
    "## Load with simple caching\n",
    "#if cache_file.exists():\n",
    "#    print(f\"Loading SIAB data from cache: {cache_file}\")\n",
    "#    siab = pd.read_csv(cache_file, compression='gzip')\n",
    "#else:\n",
    "#    print(f\"Cache not found. Reading raw SIAB data: {raw_file}\")\n",
    "#    siab = pd.read_csv(raw_file)\n",
    "#    siab.to_csv(cache_file, index=False, compression='gzip')\n",
    "#    print(f\"Cached SIAB data to: {cache_file}\")\n",
    "#\n",
    "## Now use `siab` DataFrame as needed\n",
    "#print(siab.shape)\n"
   ]
  },
  {
   "cell_type": "code",
   "execution_count": 10,
   "id": "a0edb063",
   "metadata": {
    "execution": {
     "iopub.execute_input": "2025-07-23T14:34:44.287976Z",
     "iopub.status.busy": "2025-07-23T14:34:44.287187Z",
     "iopub.status.idle": "2025-07-23T14:34:45.398110Z",
     "shell.execute_reply": "2025-07-23T14:34:45.396938Z"
    },
    "papermill": {
     "duration": 1.123781,
     "end_time": "2025-07-23T14:34:45.400294",
     "exception": false,
     "start_time": "2025-07-23T14:34:44.276513",
     "status": "completed"
    },
    "tags": []
   },
   "outputs": [],
   "source": [
    "import pandas as pd\n",
    "\n",
    "X_train = pd.read_csv(\"./data/X_train.csv\")\n",
    "y_train = pd.read_csv(\"./data/y_train.csv\")"
   ]
  },
  {
   "cell_type": "code",
   "execution_count": 11,
   "id": "63d08085",
   "metadata": {
    "execution": {
     "iopub.execute_input": "2025-07-23T14:34:45.443351Z",
     "iopub.status.busy": "2025-07-23T14:34:45.442608Z",
     "iopub.status.idle": "2025-07-23T14:34:46.936069Z",
     "shell.execute_reply": "2025-07-23T14:34:46.935112Z"
    },
    "papermill": {
     "duration": 1.517149,
     "end_time": "2025-07-23T14:34:46.938089",
     "exception": false,
     "start_time": "2025-07-23T14:34:45.420940",
     "status": "completed"
    },
    "tags": []
   },
   "outputs": [],
   "source": [
    "X_test = pd.read_csv(\"./data/X_test.csv\")\n",
    "y_true = pd.read_csv(\"./data/y_test.csv\")"
   ]
  },
  {
   "cell_type": "code",
   "execution_count": 12,
   "id": "98a8d0fa-1d3d-4ed8-bb2c-281470e24add",
   "metadata": {
    "execution": {
     "iopub.execute_input": "2025-07-23T14:34:46.975165Z",
     "iopub.status.busy": "2025-07-23T14:34:46.974662Z",
     "iopub.status.idle": "2025-07-23T14:34:48.459537Z",
     "shell.execute_reply": "2025-07-23T14:34:48.458319Z"
    },
    "papermill": {
     "duration": 1.505679,
     "end_time": "2025-07-23T14:34:48.461599",
     "exception": false,
     "start_time": "2025-07-23T14:34:46.955920",
     "status": "completed"
    },
    "tags": []
   },
   "outputs": [],
   "source": [
    "# Calibration data for conformal\n",
    "X_calib = pd.read_csv(\"./data/X_calib.csv\")\n",
    "y_calib = pd.read_csv(\"./data/y_calib.csv\")"
   ]
  },
  {
   "cell_type": "code",
   "execution_count": 13,
   "id": "e6c733c5",
   "metadata": {
    "execution": {
     "iopub.execute_input": "2025-07-23T14:34:48.504013Z",
     "iopub.status.busy": "2025-07-23T14:34:48.503199Z",
     "iopub.status.idle": "2025-07-23T14:34:48.618346Z",
     "shell.execute_reply": "2025-07-23T14:34:48.617253Z"
    },
    "papermill": {
     "duration": 0.137431,
     "end_time": "2025-07-23T14:34:48.620428",
     "exception": false,
     "start_time": "2025-07-23T14:34:48.482997",
     "status": "completed"
    },
    "tags": []
   },
   "outputs": [],
   "source": [
    "# Auxiliary data needed downstream in the pipeline\n",
    "\n",
    "org_train = X_train.copy()\n",
    "org_test = X_test.copy()\n",
    "org_calib = X_calib.copy()"
   ]
  },
  {
   "cell_type": "markdown",
   "id": "0a4a1b33",
   "metadata": {
    "papermill": {
     "duration": 0.017534,
     "end_time": "2025-07-23T14:34:48.655435",
     "exception": false,
     "start_time": "2025-07-23T14:34:48.637901",
     "status": "completed"
    },
    "tags": []
   },
   "source": [
    "# Preprocessing Data"
   ]
  },
  {
   "cell_type": "code",
   "execution_count": 14,
   "id": "ca879031",
   "metadata": {
    "execution": {
     "iopub.execute_input": "2025-07-23T14:34:48.692884Z",
     "iopub.status.busy": "2025-07-23T14:34:48.691796Z",
     "iopub.status.idle": "2025-07-23T14:34:48.698883Z",
     "shell.execute_reply": "2025-07-23T14:34:48.697817Z"
    },
    "papermill": {
     "duration": 0.02808,
     "end_time": "2025-07-23T14:34:48.701101",
     "exception": false,
     "start_time": "2025-07-23T14:34:48.673021",
     "status": "completed"
    },
    "tags": []
   },
   "outputs": [],
   "source": [
    "# EXCLUDE PROTECTED FEATURES\n",
    "# ----------------------\n",
    "# \"exclude_features\": \"none\", # \"nationality\", \"sex\", \"nationality-sex\"\n",
    "\n",
    "excluded_features = universe[\"exclude_features\"].split(\"-\") # split, e.g.: \"nationality-sex\" -> [\"nationality\", \"sex\"]\n",
    "excluded_features_dictionary = {\n",
    "    \"nationality\": [\"maxdeutsch1\", \"maxdeutsch.Missing.\"],\n",
    "    \"sex\": [\"frau1\"],\n",
    "    \"age\": [\"age\"],\n",
    "}\n"
   ]
  },
  {
   "cell_type": "code",
   "execution_count": 15,
   "id": "b745ac60",
   "metadata": {
    "execution": {
     "iopub.execute_input": "2025-07-23T14:34:48.738797Z",
     "iopub.status.busy": "2025-07-23T14:34:48.738025Z",
     "iopub.status.idle": "2025-07-23T14:34:48.744849Z",
     "shell.execute_reply": "2025-07-23T14:34:48.743546Z"
    },
    "papermill": {
     "duration": 0.027433,
     "end_time": "2025-07-23T14:34:48.746716",
     "exception": false,
     "start_time": "2025-07-23T14:34:48.719283",
     "status": "completed"
    },
    "tags": []
   },
   "outputs": [],
   "source": [
    "# Code nice names to column names\n",
    "\n",
    "excluded_features_columns = [\n",
    "    excluded_features_dictionary[f] for f in excluded_features if len(f) > 0 and f != \"none\"\n",
    "]"
   ]
  },
  {
   "cell_type": "code",
   "execution_count": 16,
   "id": "f84f73a2",
   "metadata": {
    "execution": {
     "iopub.execute_input": "2025-07-23T14:34:48.785206Z",
     "iopub.status.busy": "2025-07-23T14:34:48.784678Z",
     "iopub.status.idle": "2025-07-23T14:34:48.791116Z",
     "shell.execute_reply": "2025-07-23T14:34:48.790069Z"
    },
    "papermill": {
     "duration": 0.027523,
     "end_time": "2025-07-23T14:34:48.793163",
     "exception": false,
     "start_time": "2025-07-23T14:34:48.765640",
     "status": "completed"
    },
    "tags": []
   },
   "outputs": [],
   "source": [
    "from utils import flatten_once\n",
    "\n",
    "excluded_features_columns = flatten_once(excluded_features_columns)"
   ]
  },
  {
   "cell_type": "code",
   "execution_count": 17,
   "id": "884dea22",
   "metadata": {
    "execution": {
     "iopub.execute_input": "2025-07-23T14:34:48.834349Z",
     "iopub.status.busy": "2025-07-23T14:34:48.833780Z",
     "iopub.status.idle": "2025-07-23T14:34:48.885504Z",
     "shell.execute_reply": "2025-07-23T14:34:48.884267Z"
    },
    "papermill": {
     "duration": 0.074595,
     "end_time": "2025-07-23T14:34:48.887654",
     "exception": false,
     "start_time": "2025-07-23T14:34:48.813059",
     "status": "completed"
    },
    "tags": []
   },
   "outputs": [
    {
     "name": "stdout",
     "output_type": "stream",
     "text": [
      "Dropping features: ['maxdeutsch1', 'maxdeutsch.Missing.', 'frau1']\n"
     ]
    }
   ],
   "source": [
    "if len(excluded_features_columns) > 0:\n",
    "    print(f\"Dropping features: {excluded_features_columns}\")\n",
    "    X_train.drop(excluded_features_columns, axis=1, inplace=True)"
   ]
  },
  {
   "cell_type": "code",
   "execution_count": 18,
   "id": "95ab8b16",
   "metadata": {
    "execution": {
     "iopub.execute_input": "2025-07-23T14:34:48.930763Z",
     "iopub.status.busy": "2025-07-23T14:34:48.929828Z",
     "iopub.status.idle": "2025-07-23T14:34:48.991771Z",
     "shell.execute_reply": "2025-07-23T14:34:48.990604Z"
    },
    "papermill": {
     "duration": 0.085513,
     "end_time": "2025-07-23T14:34:48.993838",
     "exception": false,
     "start_time": "2025-07-23T14:34:48.908325",
     "status": "completed"
    },
    "tags": []
   },
   "outputs": [
    {
     "name": "stdout",
     "output_type": "stream",
     "text": [
      "Dropping features: ['maxdeutsch1', 'maxdeutsch.Missing.', 'frau1']\n"
     ]
    }
   ],
   "source": [
    "if len(excluded_features_columns) > 0:\n",
    "    print(f\"Dropping features: {excluded_features_columns}\")\n",
    "    X_test.drop(excluded_features_columns, axis=1, inplace=True)"
   ]
  },
  {
   "cell_type": "code",
   "execution_count": 19,
   "id": "1853aaf5-fb9f-46cb-a2b5-8ea4ae2237e4",
   "metadata": {
    "execution": {
     "iopub.execute_input": "2025-07-23T14:34:49.032122Z",
     "iopub.status.busy": "2025-07-23T14:34:49.031329Z",
     "iopub.status.idle": "2025-07-23T14:34:49.089822Z",
     "shell.execute_reply": "2025-07-23T14:34:49.088689Z"
    },
    "papermill": {
     "duration": 0.079578,
     "end_time": "2025-07-23T14:34:49.091761",
     "exception": false,
     "start_time": "2025-07-23T14:34:49.012183",
     "status": "completed"
    },
    "tags": []
   },
   "outputs": [
    {
     "name": "stdout",
     "output_type": "stream",
     "text": [
      "Dropping features: ['maxdeutsch1', 'maxdeutsch.Missing.', 'frau1']\n"
     ]
    }
   ],
   "source": [
    "if len(excluded_features_columns) > 0:\n",
    "    print(f\"Dropping features: {excluded_features_columns}\")\n",
    "    X_calib.drop(excluded_features_columns, axis=1, inplace=True)"
   ]
  },
  {
   "cell_type": "code",
   "execution_count": 20,
   "id": "76c4dc6d",
   "metadata": {
    "execution": {
     "iopub.execute_input": "2025-07-23T14:34:49.130248Z",
     "iopub.status.busy": "2025-07-23T14:34:49.129275Z",
     "iopub.status.idle": "2025-07-23T14:34:49.135079Z",
     "shell.execute_reply": "2025-07-23T14:34:49.134212Z"
    },
    "papermill": {
     "duration": 0.027024,
     "end_time": "2025-07-23T14:34:49.136857",
     "exception": false,
     "start_time": "2025-07-23T14:34:49.109833",
     "status": "completed"
    },
    "tags": []
   },
   "outputs": [],
   "source": [
    "# EXCLUDE CERTAIN SUBGROUPS\n",
    "# ----------------------\n",
    "\n",
    "mode = universe.get(\"exclude_subgroups\", \"keep-all\") \n",
    "# Fetches the exclude_subgroups setting from the universe dict.\n",
    "# Defaults to \"keep-all\" if the key is missing."
   ]
  },
  {
   "cell_type": "code",
   "execution_count": 21,
   "id": "21994072",
   "metadata": {
    "execution": {
     "iopub.execute_input": "2025-07-23T14:34:49.176334Z",
     "iopub.status.busy": "2025-07-23T14:34:49.175588Z",
     "iopub.status.idle": "2025-07-23T14:34:49.183308Z",
     "shell.execute_reply": "2025-07-23T14:34:49.182188Z"
    },
    "papermill": {
     "duration": 0.029818,
     "end_time": "2025-07-23T14:34:49.185240",
     "exception": false,
     "start_time": "2025-07-23T14:34:49.155422",
     "status": "completed"
    },
    "tags": []
   },
   "outputs": [],
   "source": [
    "if mode == \"keep-all\":\n",
    "    keep_mask = pd.Series(True, index=org_train.index)\n",
    "\n",
    "# org_train contains the original feature columns from features_org (in Simson)\n",
    "# features_org contains unprocessed features, for me X_train at beginning ???\n",
    "# For keep-all, creates a boolean Series (keep_mask) of all True, so no rows are removed.\n",
    "\n",
    "elif mode == \"drop-non-german\":\n",
    "    keep_mask = org_train[\"maxdeutsch1\"] == 1 # ??? what about missing values?\n",
    "\n",
    "else:\n",
    "    raise ValueError(f\"Unsupported mode for exclude_subgroups: {mode}\")\n"
   ]
  },
  {
   "cell_type": "code",
   "execution_count": 22,
   "id": "71651440",
   "metadata": {
    "execution": {
     "iopub.execute_input": "2025-07-23T14:34:49.225490Z",
     "iopub.status.busy": "2025-07-23T14:34:49.224511Z",
     "iopub.status.idle": "2025-07-23T14:34:49.231701Z",
     "shell.execute_reply": "2025-07-23T14:34:49.230765Z"
    },
    "papermill": {
     "duration": 0.028407,
     "end_time": "2025-07-23T14:34:49.233512",
     "exception": false,
     "start_time": "2025-07-23T14:34:49.205105",
     "status": "completed"
    },
    "tags": []
   },
   "outputs": [],
   "source": [
    "n_drop = (~keep_mask).sum() # Calculates how many rows are set to be dropped\n",
    "if n_drop > 0:\n",
    "    pct = n_drop / len(keep_mask) * 100\n",
    "    print(f\"Dropping {n_drop} rows ({pct:.2f}%) where mode='{mode}'\")"
   ]
  },
  {
   "cell_type": "code",
   "execution_count": 23,
   "id": "5fb8eee5",
   "metadata": {
    "execution": {
     "iopub.execute_input": "2025-07-23T14:34:49.273411Z",
     "iopub.status.busy": "2025-07-23T14:34:49.272581Z",
     "iopub.status.idle": "2025-07-23T14:34:49.328437Z",
     "shell.execute_reply": "2025-07-23T14:34:49.327353Z"
    },
    "papermill": {
     "duration": 0.077575,
     "end_time": "2025-07-23T14:34:49.330446",
     "exception": false,
     "start_time": "2025-07-23T14:34:49.252871",
     "status": "completed"
    },
    "tags": []
   },
   "outputs": [],
   "source": [
    "X_train = X_train[keep_mask]"
   ]
  },
  {
   "cell_type": "code",
   "execution_count": 24,
   "id": "b202bb3a",
   "metadata": {
    "execution": {
     "iopub.execute_input": "2025-07-23T14:34:49.369891Z",
     "iopub.status.busy": "2025-07-23T14:34:49.369173Z",
     "iopub.status.idle": "2025-07-23T14:34:49.377930Z",
     "shell.execute_reply": "2025-07-23T14:34:49.376935Z"
    },
    "papermill": {
     "duration": 0.030666,
     "end_time": "2025-07-23T14:34:49.379987",
     "exception": false,
     "start_time": "2025-07-23T14:34:49.349321",
     "status": "completed"
    },
    "tags": []
   },
   "outputs": [],
   "source": [
    "y_train = y_train[keep_mask]"
   ]
  },
  {
   "cell_type": "markdown",
   "id": "493e2ac3",
   "metadata": {
    "papermill": {
     "duration": 0.019073,
     "end_time": "2025-07-23T14:34:49.417875",
     "exception": false,
     "start_time": "2025-07-23T14:34:49.398802",
     "status": "completed"
    },
    "tags": []
   },
   "source": [
    "# Model Training"
   ]
  },
  {
   "cell_type": "code",
   "execution_count": 25,
   "id": "679e1268",
   "metadata": {
    "execution": {
     "iopub.execute_input": "2025-07-23T14:34:49.456537Z",
     "iopub.status.busy": "2025-07-23T14:34:49.455793Z",
     "iopub.status.idle": "2025-07-23T14:34:49.572172Z",
     "shell.execute_reply": "2025-07-23T14:34:49.571148Z"
    },
    "papermill": {
     "duration": 0.137952,
     "end_time": "2025-07-23T14:34:49.574298",
     "exception": false,
     "start_time": "2025-07-23T14:34:49.436346",
     "status": "completed"
    },
    "tags": []
   },
   "outputs": [],
   "source": [
    "from sklearn.linear_model import LogisticRegression\n",
    "from sklearn.ensemble import GradientBoostingClassifier, RandomForestClassifier\n",
    "\n",
    "if (universe[\"model\"] == \"logreg\"):\n",
    "    model = LogisticRegression() #penalty=\"none\") #, solver=\"newton-cg\", max_iter=1) # include random_state=19 ?\n",
    "elif (universe[\"model\"] == \"penalized_logreg\"):\n",
    "    model = LogisticRegression(penalty=\"l2\", C=1.0) #, solver=\"newton-cg\", max_iter=1)\n",
    "elif (universe[\"model\"] == \"rf\"):\n",
    "    model = RandomForestClassifier(n_estimators=100, n_jobs=-1)\n",
    "elif (universe[\"model\"] == \"gbm\"):\n",
    "    model = GradientBoostingClassifier()\n",
    "elif (universe[\"model\"] == \"elasticnet\"):\n",
    "    model = LogisticRegression(penalty = 'elasticnet', solver = 'saga', l1_ratio = 0.5, max_iter=5000) # which solver to use?\n",
    "else:\n",
    "    raise \"Unsupported universe.model\""
   ]
  },
  {
   "cell_type": "code",
   "execution_count": 26,
   "id": "0cc8f744",
   "metadata": {
    "execution": {
     "iopub.execute_input": "2025-07-23T14:34:49.614856Z",
     "iopub.status.busy": "2025-07-23T14:34:49.614037Z",
     "iopub.status.idle": "2025-07-23T14:34:49.621035Z",
     "shell.execute_reply": "2025-07-23T14:34:49.620007Z"
    },
    "papermill": {
     "duration": 0.029536,
     "end_time": "2025-07-23T14:34:49.622916",
     "exception": false,
     "start_time": "2025-07-23T14:34:49.593380",
     "status": "completed"
    },
    "tags": []
   },
   "outputs": [],
   "source": [
    "import numpy as np\n",
    "from sklearn.pipeline import Pipeline\n",
    "from sklearn.preprocessing import StandardScaler\n",
    "\n",
    "model = Pipeline([\n",
    "    #(\"continuous_processor\", continuous_processor),\n",
    "    #(\"categorical_preprocessor\", categorical_preprocessor),\n",
    "    (\"scale\", StandardScaler() if universe[\"scale\"] == \"scale\" else None), \n",
    "    (\"model\", model),\n",
    "])"
   ]
  },
  {
   "cell_type": "code",
   "execution_count": 27,
   "id": "9442c04d",
   "metadata": {
    "execution": {
     "iopub.execute_input": "2025-07-23T14:34:49.663805Z",
     "iopub.status.busy": "2025-07-23T14:34:49.663227Z",
     "iopub.status.idle": "2025-07-23T14:34:52.843281Z",
     "shell.execute_reply": "2025-07-23T14:34:52.842066Z"
    },
    "papermill": {
     "duration": 3.202352,
     "end_time": "2025-07-23T14:34:52.845209",
     "exception": false,
     "start_time": "2025-07-23T14:34:49.642857",
     "status": "completed"
    },
    "tags": []
   },
   "outputs": [
    {
     "name": "stderr",
     "output_type": "stream",
     "text": [
      "/dss/dsshome1/0C/ra93lal2/.local/share/virtualenvs/CMA_Fairness_v2-3j10GkSs/lib/python3.10/site-packages/sklearn/linear_model/_logistic.py:444: ConvergenceWarning: lbfgs failed to converge (status=1):\n",
      "STOP: TOTAL NO. of ITERATIONS REACHED LIMIT.\n",
      "\n",
      "Increase the number of iterations (max_iter) or scale the data as shown in:\n",
      "    https://scikit-learn.org/stable/modules/preprocessing.html\n",
      "Please also refer to the documentation for alternative solver options:\n",
      "    https://scikit-learn.org/stable/modules/linear_model.html#logistic-regression\n",
      "  n_iter_i = _check_optimize_result(\n"
     ]
    },
    {
     "data": {
      "text/html": [
       "<style>#sk-container-id-1 {color: black;background-color: white;}#sk-container-id-1 pre{padding: 0;}#sk-container-id-1 div.sk-toggleable {background-color: white;}#sk-container-id-1 label.sk-toggleable__label {cursor: pointer;display: block;width: 100%;margin-bottom: 0;padding: 0.3em;box-sizing: border-box;text-align: center;}#sk-container-id-1 label.sk-toggleable__label-arrow:before {content: \"▸\";float: left;margin-right: 0.25em;color: #696969;}#sk-container-id-1 label.sk-toggleable__label-arrow:hover:before {color: black;}#sk-container-id-1 div.sk-estimator:hover label.sk-toggleable__label-arrow:before {color: black;}#sk-container-id-1 div.sk-toggleable__content {max-height: 0;max-width: 0;overflow: hidden;text-align: left;background-color: #f0f8ff;}#sk-container-id-1 div.sk-toggleable__content pre {margin: 0.2em;color: black;border-radius: 0.25em;background-color: #f0f8ff;}#sk-container-id-1 input.sk-toggleable__control:checked~div.sk-toggleable__content {max-height: 200px;max-width: 100%;overflow: auto;}#sk-container-id-1 input.sk-toggleable__control:checked~label.sk-toggleable__label-arrow:before {content: \"▾\";}#sk-container-id-1 div.sk-estimator input.sk-toggleable__control:checked~label.sk-toggleable__label {background-color: #d4ebff;}#sk-container-id-1 div.sk-label input.sk-toggleable__control:checked~label.sk-toggleable__label {background-color: #d4ebff;}#sk-container-id-1 input.sk-hidden--visually {border: 0;clip: rect(1px 1px 1px 1px);clip: rect(1px, 1px, 1px, 1px);height: 1px;margin: -1px;overflow: hidden;padding: 0;position: absolute;width: 1px;}#sk-container-id-1 div.sk-estimator {font-family: monospace;background-color: #f0f8ff;border: 1px dotted black;border-radius: 0.25em;box-sizing: border-box;margin-bottom: 0.5em;}#sk-container-id-1 div.sk-estimator:hover {background-color: #d4ebff;}#sk-container-id-1 div.sk-parallel-item::after {content: \"\";width: 100%;border-bottom: 1px solid gray;flex-grow: 1;}#sk-container-id-1 div.sk-label:hover label.sk-toggleable__label {background-color: #d4ebff;}#sk-container-id-1 div.sk-serial::before {content: \"\";position: absolute;border-left: 1px solid gray;box-sizing: border-box;top: 0;bottom: 0;left: 50%;z-index: 0;}#sk-container-id-1 div.sk-serial {display: flex;flex-direction: column;align-items: center;background-color: white;padding-right: 0.2em;padding-left: 0.2em;position: relative;}#sk-container-id-1 div.sk-item {position: relative;z-index: 1;}#sk-container-id-1 div.sk-parallel {display: flex;align-items: stretch;justify-content: center;background-color: white;position: relative;}#sk-container-id-1 div.sk-item::before, #sk-container-id-1 div.sk-parallel-item::before {content: \"\";position: absolute;border-left: 1px solid gray;box-sizing: border-box;top: 0;bottom: 0;left: 50%;z-index: -1;}#sk-container-id-1 div.sk-parallel-item {display: flex;flex-direction: column;z-index: 1;position: relative;background-color: white;}#sk-container-id-1 div.sk-parallel-item:first-child::after {align-self: flex-end;width: 50%;}#sk-container-id-1 div.sk-parallel-item:last-child::after {align-self: flex-start;width: 50%;}#sk-container-id-1 div.sk-parallel-item:only-child::after {width: 0;}#sk-container-id-1 div.sk-dashed-wrapped {border: 1px dashed gray;margin: 0 0.4em 0.5em 0.4em;box-sizing: border-box;padding-bottom: 0.4em;background-color: white;}#sk-container-id-1 div.sk-label label {font-family: monospace;font-weight: bold;display: inline-block;line-height: 1.2em;}#sk-container-id-1 div.sk-label-container {text-align: center;}#sk-container-id-1 div.sk-container {/* jupyter's `normalize.less` sets `[hidden] { display: none; }` but bootstrap.min.css set `[hidden] { display: none !important; }` so we also need the `!important` here to be able to override the default hidden behavior on the sphinx rendered scikit-learn.org. See: https://github.com/scikit-learn/scikit-learn/issues/21755 */display: inline-block !important;position: relative;}#sk-container-id-1 div.sk-text-repr-fallback {display: none;}</style><div id=\"sk-container-id-1\" class=\"sk-top-container\"><div class=\"sk-text-repr-fallback\"><pre>Pipeline(steps=[(&#x27;scale&#x27;, None), (&#x27;model&#x27;, LogisticRegression())])</pre><b>In a Jupyter environment, please rerun this cell to show the HTML representation or trust the notebook. <br />On GitHub, the HTML representation is unable to render, please try loading this page with nbviewer.org.</b></div><div class=\"sk-container\" hidden><div class=\"sk-item sk-dashed-wrapped\"><div class=\"sk-label-container\"><div class=\"sk-label sk-toggleable\"><input class=\"sk-toggleable__control sk-hidden--visually\" id=\"sk-estimator-id-1\" type=\"checkbox\" ><label for=\"sk-estimator-id-1\" class=\"sk-toggleable__label sk-toggleable__label-arrow\">Pipeline</label><div class=\"sk-toggleable__content\"><pre>Pipeline(steps=[(&#x27;scale&#x27;, None), (&#x27;model&#x27;, LogisticRegression())])</pre></div></div></div><div class=\"sk-serial\"><div class=\"sk-item\"><div class=\"sk-estimator sk-toggleable\"><input class=\"sk-toggleable__control sk-hidden--visually\" id=\"sk-estimator-id-2\" type=\"checkbox\" ><label for=\"sk-estimator-id-2\" class=\"sk-toggleable__label sk-toggleable__label-arrow\">None</label><div class=\"sk-toggleable__content\"><pre>None</pre></div></div></div><div class=\"sk-item\"><div class=\"sk-estimator sk-toggleable\"><input class=\"sk-toggleable__control sk-hidden--visually\" id=\"sk-estimator-id-3\" type=\"checkbox\" ><label for=\"sk-estimator-id-3\" class=\"sk-toggleable__label sk-toggleable__label-arrow\">LogisticRegression</label><div class=\"sk-toggleable__content\"><pre>LogisticRegression()</pre></div></div></div></div></div></div></div>"
      ],
      "text/plain": [
       "Pipeline(steps=[('scale', None), ('model', LogisticRegression())])"
      ]
     },
     "execution_count": 27,
     "metadata": {},
     "output_type": "execute_result"
    }
   ],
   "source": [
    "model.fit(X_train, y_train.values.ravel())"
   ]
  },
  {
   "cell_type": "code",
   "execution_count": 28,
   "id": "af59f8c0",
   "metadata": {
    "execution": {
     "iopub.execute_input": "2025-07-23T14:34:52.889084Z",
     "iopub.status.busy": "2025-07-23T14:34:52.888402Z",
     "iopub.status.idle": "2025-07-23T14:34:52.893711Z",
     "shell.execute_reply": "2025-07-23T14:34:52.892894Z"
    },
    "papermill": {
     "duration": 0.028427,
     "end_time": "2025-07-23T14:34:52.895216",
     "exception": false,
     "start_time": "2025-07-23T14:34:52.866789",
     "status": "completed"
    },
    "tags": []
   },
   "outputs": [],
   "source": [
    "from fairness_multiverse.universe import predict_w_threshold"
   ]
  },
  {
   "cell_type": "code",
   "execution_count": 29,
   "id": "a7cf2e16",
   "metadata": {
    "execution": {
     "iopub.execute_input": "2025-07-23T14:34:52.918349Z",
     "iopub.status.busy": "2025-07-23T14:34:52.917724Z",
     "iopub.status.idle": "2025-07-23T14:34:53.009189Z",
     "shell.execute_reply": "2025-07-23T14:34:53.008181Z"
    },
    "papermill": {
     "duration": 0.104136,
     "end_time": "2025-07-23T14:34:53.010716",
     "exception": false,
     "start_time": "2025-07-23T14:34:52.906580",
     "status": "completed"
    },
    "tags": []
   },
   "outputs": [
    {
     "data": {
      "text/plain": [
       "0.860350016720544"
      ]
     },
     "execution_count": 29,
     "metadata": {},
     "output_type": "execute_result"
    }
   ],
   "source": [
    "probs_test = model.predict_proba(X_test)\n",
    "\n",
    "'''\n",
    "Below code returns a boolean array (or binary 0/1 array depending on how it’s used) where each element \n",
    "is True if the probability of class 1 is greater than or equal to the threshold, and False otherwise.\n",
    "'''\n",
    "y_pred_default = predict_w_threshold(probs_test, 0.5)\n",
    "\n",
    "from sklearn.metrics import accuracy_score\n",
    "\n",
    "# Naive prediction\n",
    "accuracy_score(y_true = y_true, y_pred = y_pred_default)"
   ]
  },
  {
   "cell_type": "code",
   "execution_count": 30,
   "id": "081964c3",
   "metadata": {
    "execution": {
     "iopub.execute_input": "2025-07-23T14:34:53.034394Z",
     "iopub.status.busy": "2025-07-23T14:34:53.033547Z",
     "iopub.status.idle": "2025-07-23T14:34:53.122730Z",
     "shell.execute_reply": "2025-07-23T14:34:53.121675Z"
    },
    "papermill": {
     "duration": 0.102468,
     "end_time": "2025-07-23T14:34:53.124223",
     "exception": false,
     "start_time": "2025-07-23T14:34:53.021755",
     "status": "completed"
    },
    "tags": []
   },
   "outputs": [
    {
     "data": {
      "text/plain": [
       "array([0, 0, 0, ..., 0, 0, 0])"
      ]
     },
     "execution_count": 30,
     "metadata": {},
     "output_type": "execute_result"
    }
   ],
   "source": [
    "model.predict(X_test)"
   ]
  },
  {
   "cell_type": "markdown",
   "id": "56c9705b",
   "metadata": {
    "papermill": {
     "duration": 0.020874,
     "end_time": "2025-07-23T14:34:53.166249",
     "exception": false,
     "start_time": "2025-07-23T14:34:53.145375",
     "status": "completed"
    },
    "tags": []
   },
   "source": [
    "# Conformal Prediction"
   ]
  },
  {
   "cell_type": "code",
   "execution_count": 31,
   "id": "160ec6ff",
   "metadata": {
    "execution": {
     "iopub.execute_input": "2025-07-23T14:34:53.207647Z",
     "iopub.status.busy": "2025-07-23T14:34:53.207130Z",
     "iopub.status.idle": "2025-07-23T14:34:53.212841Z",
     "shell.execute_reply": "2025-07-23T14:34:53.211553Z"
    },
    "papermill": {
     "duration": 0.02932,
     "end_time": "2025-07-23T14:34:53.215777",
     "exception": false,
     "start_time": "2025-07-23T14:34:53.186457",
     "status": "completed"
    },
    "tags": []
   },
   "outputs": [],
   "source": [
    "# Miscoverage level for conformal prediction (10% allowed error rate => 90% target coverage)\n",
    "alpha = 0.1"
   ]
  },
  {
   "cell_type": "code",
   "execution_count": 32,
   "id": "eadf4555-3dd3-440e-8e35-f82a4ad9f855",
   "metadata": {
    "execution": {
     "iopub.execute_input": "2025-07-23T14:34:53.257527Z",
     "iopub.status.busy": "2025-07-23T14:34:53.257055Z",
     "iopub.status.idle": "2025-07-23T14:34:53.338052Z",
     "shell.execute_reply": "2025-07-23T14:34:53.337078Z"
    },
    "papermill": {
     "duration": 0.103874,
     "end_time": "2025-07-23T14:34:53.340005",
     "exception": false,
     "start_time": "2025-07-23T14:34:53.236131",
     "status": "completed"
    },
    "tags": []
   },
   "outputs": [],
   "source": [
    "probs_calib = model.predict_proba(X_calib)"
   ]
  },
  {
   "cell_type": "code",
   "execution_count": 33,
   "id": "2ed93547-6d5d-4983-9b36-1ecb300da49a",
   "metadata": {
    "execution": {
     "iopub.execute_input": "2025-07-23T14:34:53.385260Z",
     "iopub.status.busy": "2025-07-23T14:34:53.384246Z",
     "iopub.status.idle": "2025-07-23T14:34:53.390255Z",
     "shell.execute_reply": "2025-07-23T14:34:53.389317Z"
    },
    "papermill": {
     "duration": 0.028905,
     "end_time": "2025-07-23T14:34:53.391856",
     "exception": false,
     "start_time": "2025-07-23T14:34:53.362951",
     "status": "completed"
    },
    "tags": []
   },
   "outputs": [],
   "source": [
    "y_calib = y_calib.values.ravel().astype(int)"
   ]
  },
  {
   "cell_type": "code",
   "execution_count": 34,
   "id": "65d1320d-f588-4b38-9072-62af1ae97f7d",
   "metadata": {
    "execution": {
     "iopub.execute_input": "2025-07-23T14:34:53.433664Z",
     "iopub.status.busy": "2025-07-23T14:34:53.432975Z",
     "iopub.status.idle": "2025-07-23T14:34:53.441351Z",
     "shell.execute_reply": "2025-07-23T14:34:53.440153Z"
    },
    "papermill": {
     "duration": 0.031087,
     "end_time": "2025-07-23T14:34:53.443093",
     "exception": false,
     "start_time": "2025-07-23T14:34:53.412006",
     "status": "completed"
    },
    "tags": []
   },
   "outputs": [],
   "source": [
    "from fairness_multiverse.conformal import compute_nc_scores\n",
    "\n",
    "# Compute nonconformity scores on calibration set (1 - probability of true class)\n",
    "nc_scores = compute_nc_scores(probs_calib, y_calib)"
   ]
  },
  {
   "cell_type": "code",
   "execution_count": 35,
   "id": "df3b8ca3-53b7-43d5-9667-7c85da7aeda2",
   "metadata": {
    "execution": {
     "iopub.execute_input": "2025-07-23T14:34:53.485586Z",
     "iopub.status.busy": "2025-07-23T14:34:53.484628Z",
     "iopub.status.idle": "2025-07-23T14:34:53.491198Z",
     "shell.execute_reply": "2025-07-23T14:34:53.490216Z"
    },
    "papermill": {
     "duration": 0.029881,
     "end_time": "2025-07-23T14:34:53.492906",
     "exception": false,
     "start_time": "2025-07-23T14:34:53.463025",
     "status": "completed"
    },
    "tags": []
   },
   "outputs": [],
   "source": [
    "from fairness_multiverse.conformal import find_threshold\n",
    "\n",
    "# Find conformal threshold q_hat for the given alpha (split conformal method)\n",
    "q_hat = find_threshold(nc_scores, alpha)"
   ]
  },
  {
   "cell_type": "code",
   "execution_count": 36,
   "id": "4d29e6c1-0ef6-4aa4-b8fe-4fe79b0d033a",
   "metadata": {
    "execution": {
     "iopub.execute_input": "2025-07-23T14:34:53.533984Z",
     "iopub.status.busy": "2025-07-23T14:34:53.533135Z",
     "iopub.status.idle": "2025-07-23T14:34:53.541197Z",
     "shell.execute_reply": "2025-07-23T14:34:53.540089Z"
    },
    "papermill": {
     "duration": 0.030316,
     "end_time": "2025-07-23T14:34:53.542869",
     "exception": false,
     "start_time": "2025-07-23T14:34:53.512553",
     "status": "completed"
    },
    "tags": []
   },
   "outputs": [
    {
     "data": {
      "text/plain": [
       "0.680225500534467"
      ]
     },
     "execution_count": 36,
     "metadata": {},
     "output_type": "execute_result"
    }
   ],
   "source": [
    "q_hat"
   ]
  },
  {
   "cell_type": "code",
   "execution_count": 37,
   "id": "92460794-cdac-4be2-ba28-f28c0515a6fb",
   "metadata": {
    "execution": {
     "iopub.execute_input": "2025-07-23T14:34:53.586537Z",
     "iopub.status.busy": "2025-07-23T14:34:53.585523Z",
     "iopub.status.idle": "2025-07-23T14:34:54.407607Z",
     "shell.execute_reply": "2025-07-23T14:34:54.406545Z"
    },
    "papermill": {
     "duration": 0.846218,
     "end_time": "2025-07-23T14:34:54.409706",
     "exception": false,
     "start_time": "2025-07-23T14:34:53.563488",
     "status": "completed"
    },
    "tags": []
   },
   "outputs": [],
   "source": [
    "from fairness_multiverse.conformal import predict_conformal_sets\n",
    "\n",
    "# Generate prediction sets for each test example\n",
    "pred_sets = predict_conformal_sets(model, X_test, q_hat)"
   ]
  },
  {
   "cell_type": "code",
   "execution_count": 38,
   "id": "d90c9a65-e6db-4f5d-80cd-e68fb7e46829",
   "metadata": {
    "execution": {
     "iopub.execute_input": "2025-07-23T14:34:54.455163Z",
     "iopub.status.busy": "2025-07-23T14:34:54.454308Z",
     "iopub.status.idle": "2025-07-23T14:34:54.461184Z",
     "shell.execute_reply": "2025-07-23T14:34:54.460005Z"
    },
    "papermill": {
     "duration": 0.030236,
     "end_time": "2025-07-23T14:34:54.463082",
     "exception": false,
     "start_time": "2025-07-23T14:34:54.432846",
     "status": "completed"
    },
    "tags": []
   },
   "outputs": [],
   "source": [
    "y_true = y_true.squeeze()"
   ]
  },
  {
   "cell_type": "code",
   "execution_count": 39,
   "id": "3a58a54a-1e68-46b9-927a-df01f18aebc8",
   "metadata": {
    "execution": {
     "iopub.execute_input": "2025-07-23T14:34:54.505579Z",
     "iopub.status.busy": "2025-07-23T14:34:54.504732Z",
     "iopub.status.idle": "2025-07-23T14:34:55.371193Z",
     "shell.execute_reply": "2025-07-23T14:34:55.370271Z"
    },
    "papermill": {
     "duration": 0.886324,
     "end_time": "2025-07-23T14:34:55.373332",
     "exception": false,
     "start_time": "2025-07-23T14:34:54.487008",
     "status": "completed"
    },
    "tags": []
   },
   "outputs": [],
   "source": [
    "from fairness_multiverse.conformal import evaluate_sets\n",
    "\n",
    "# Evaluate coverage and average set size on test data\n",
    "metrics = evaluate_sets(pred_sets, y_true)"
   ]
  },
  {
   "cell_type": "code",
   "execution_count": 40,
   "id": "5ce0a5cb-201f-45a0-ade5-94c7f0bd6095",
   "metadata": {
    "execution": {
     "iopub.execute_input": "2025-07-23T14:34:55.412305Z",
     "iopub.status.busy": "2025-07-23T14:34:55.411926Z",
     "iopub.status.idle": "2025-07-23T14:34:55.418799Z",
     "shell.execute_reply": "2025-07-23T14:34:55.417911Z"
    },
    "papermill": {
     "duration": 0.020409,
     "end_time": "2025-07-23T14:34:55.420191",
     "exception": false,
     "start_time": "2025-07-23T14:34:55.399782",
     "status": "completed"
    },
    "tags": []
   },
   "outputs": [
    {
     "data": {
      "text/plain": [
       "{'coverage': 0.9117043807825215, 'avg_size': 1.20366737264519}"
      ]
     },
     "execution_count": 40,
     "metadata": {},
     "output_type": "execute_result"
    }
   ],
   "source": [
    "metrics"
   ]
  },
  {
   "cell_type": "code",
   "execution_count": 41,
   "id": "9b9a838d-31c9-430b-ae14-12baee460d17",
   "metadata": {
    "execution": {
     "iopub.execute_input": "2025-07-23T14:34:55.457058Z",
     "iopub.status.busy": "2025-07-23T14:34:55.456203Z",
     "iopub.status.idle": "2025-07-23T14:34:55.463109Z",
     "shell.execute_reply": "2025-07-23T14:34:55.462052Z"
    },
    "papermill": {
     "duration": 0.033086,
     "end_time": "2025-07-23T14:34:55.465080",
     "exception": false,
     "start_time": "2025-07-23T14:34:55.431994",
     "status": "completed"
    },
    "tags": []
   },
   "outputs": [],
   "source": [
    "example_universe = universe.copy()\n",
    "universe_model = example_universe.get(\"model\")\n",
    "universe_exclude_features = example_universe.get(\"exclude_features\")\n",
    "universe_exclude_subgroups = example_universe.get(\"exclude_subgroups\")\n",
    "universe_scale = example_universe.get(\"scale\")"
   ]
  },
  {
   "cell_type": "code",
   "execution_count": 42,
   "id": "f4b6a8ac-9dc0-4245-8a91-5b3b5999c4f9",
   "metadata": {
    "execution": {
     "iopub.execute_input": "2025-07-23T14:34:55.511628Z",
     "iopub.status.busy": "2025-07-23T14:34:55.510734Z",
     "iopub.status.idle": "2025-07-23T14:34:55.517752Z",
     "shell.execute_reply": "2025-07-23T14:34:55.516652Z"
    },
    "papermill": {
     "duration": 0.031197,
     "end_time": "2025-07-23T14:34:55.519406",
     "exception": false,
     "start_time": "2025-07-23T14:34:55.488209",
     "status": "completed"
    },
    "tags": []
   },
   "outputs": [],
   "source": [
    "cp_metrics_dict = {\n",
    "    \"universe_id\": [universe_id],\n",
    "    \"universe_model\": [universe_model],\n",
    "    \"universe_exclude_features\": [universe_exclude_features],\n",
    "    \"universe_exclude_subgroups\": [universe_exclude_subgroups],\n",
    "    \"universe_scale\": [universe_scale],\n",
    "    \"q_hat\": [q_hat],\n",
    "    \"coverage\": [metrics[\"coverage\"]],\n",
    "    \"avg_size\": [metrics[\"avg_size\"]],\n",
    "}"
   ]
  },
  {
   "cell_type": "code",
   "execution_count": 43,
   "id": "908acbb1-0371-4915-85ca-3fa520d2efe2",
   "metadata": {
    "execution": {
     "iopub.execute_input": "2025-07-23T14:34:55.562744Z",
     "iopub.status.busy": "2025-07-23T14:34:55.562206Z",
     "iopub.status.idle": "2025-07-23T14:34:55.570595Z",
     "shell.execute_reply": "2025-07-23T14:34:55.569564Z"
    },
    "papermill": {
     "duration": 0.031624,
     "end_time": "2025-07-23T14:34:55.572391",
     "exception": false,
     "start_time": "2025-07-23T14:34:55.540767",
     "status": "completed"
    },
    "tags": []
   },
   "outputs": [
    {
     "data": {
      "text/plain": [
       "{'universe_id': ['d2b96c438eda616e3c284a5666daf09d'],\n",
       " 'universe_model': ['logreg'],\n",
       " 'universe_exclude_features': ['nationality-sex'],\n",
       " 'universe_exclude_subgroups': ['keep-all'],\n",
       " 'universe_scale': ['do-not-scale'],\n",
       " 'q_hat': [0.680225500534467],\n",
       " 'coverage': [0.9117043807825215],\n",
       " 'avg_size': [1.20366737264519]}"
      ]
     },
     "execution_count": 43,
     "metadata": {},
     "output_type": "execute_result"
    }
   ],
   "source": [
    "cp_metrics_dict"
   ]
  },
  {
   "cell_type": "code",
   "execution_count": 44,
   "id": "33007efc-14e9-4ec6-97ac-56a455c82265",
   "metadata": {
    "execution": {
     "iopub.execute_input": "2025-07-23T14:34:55.616452Z",
     "iopub.status.busy": "2025-07-23T14:34:55.615621Z",
     "iopub.status.idle": "2025-07-23T14:34:55.623451Z",
     "shell.execute_reply": "2025-07-23T14:34:55.622260Z"
    },
    "papermill": {
     "duration": 0.030965,
     "end_time": "2025-07-23T14:34:55.625032",
     "exception": false,
     "start_time": "2025-07-23T14:34:55.594067",
     "status": "completed"
    },
    "tags": []
   },
   "outputs": [],
   "source": [
    "cp_metrics_df = pd.DataFrame(cp_metrics_dict)"
   ]
  },
  {
   "cell_type": "code",
   "execution_count": 45,
   "id": "db12611b-57b2-4910-b9d0-355adfd6e7bf",
   "metadata": {
    "execution": {
     "iopub.execute_input": "2025-07-23T14:34:55.650381Z",
     "iopub.status.busy": "2025-07-23T14:34:55.649663Z",
     "iopub.status.idle": "2025-07-23T14:34:55.664388Z",
     "shell.execute_reply": "2025-07-23T14:34:55.663530Z"
    },
    "papermill": {
     "duration": 0.028727,
     "end_time": "2025-07-23T14:34:55.665922",
     "exception": false,
     "start_time": "2025-07-23T14:34:55.637195",
     "status": "completed"
    },
    "tags": []
   },
   "outputs": [
    {
     "data": {
      "text/html": [
       "<div>\n",
       "<style scoped>\n",
       "    .dataframe tbody tr th:only-of-type {\n",
       "        vertical-align: middle;\n",
       "    }\n",
       "\n",
       "    .dataframe tbody tr th {\n",
       "        vertical-align: top;\n",
       "    }\n",
       "\n",
       "    .dataframe thead th {\n",
       "        text-align: right;\n",
       "    }\n",
       "</style>\n",
       "<table border=\"1\" class=\"dataframe\">\n",
       "  <thead>\n",
       "    <tr style=\"text-align: right;\">\n",
       "      <th></th>\n",
       "      <th>universe_id</th>\n",
       "      <th>universe_model</th>\n",
       "      <th>universe_exclude_features</th>\n",
       "      <th>universe_exclude_subgroups</th>\n",
       "      <th>universe_scale</th>\n",
       "      <th>q_hat</th>\n",
       "      <th>coverage</th>\n",
       "      <th>avg_size</th>\n",
       "    </tr>\n",
       "  </thead>\n",
       "  <tbody>\n",
       "    <tr>\n",
       "      <th>0</th>\n",
       "      <td>d2b96c438eda616e3c284a5666daf09d</td>\n",
       "      <td>logreg</td>\n",
       "      <td>nationality-sex</td>\n",
       "      <td>keep-all</td>\n",
       "      <td>do-not-scale</td>\n",
       "      <td>0.680226</td>\n",
       "      <td>0.911704</td>\n",
       "      <td>1.203667</td>\n",
       "    </tr>\n",
       "  </tbody>\n",
       "</table>\n",
       "</div>"
      ],
      "text/plain": [
       "                        universe_id universe_model universe_exclude_features  \\\n",
       "0  d2b96c438eda616e3c284a5666daf09d         logreg           nationality-sex   \n",
       "\n",
       "  universe_exclude_subgroups universe_scale     q_hat  coverage  avg_size  \n",
       "0                   keep-all   do-not-scale  0.680226  0.911704  1.203667  "
      ]
     },
     "execution_count": 45,
     "metadata": {},
     "output_type": "execute_result"
    }
   ],
   "source": [
    "cp_metrics_df"
   ]
  },
  {
   "cell_type": "code",
   "execution_count": 46,
   "id": "b7fbde55-a0a1-47e4-9af6-fe4a17fa8c61",
   "metadata": {
    "execution": {
     "iopub.execute_input": "2025-07-23T14:34:55.691146Z",
     "iopub.status.busy": "2025-07-23T14:34:55.690564Z",
     "iopub.status.idle": "2025-07-23T14:34:55.695453Z",
     "shell.execute_reply": "2025-07-23T14:34:55.694655Z"
    },
    "papermill": {
     "duration": 0.019217,
     "end_time": "2025-07-23T14:34:55.697081",
     "exception": false,
     "start_time": "2025-07-23T14:34:55.677864",
     "status": "completed"
    },
    "tags": []
   },
   "outputs": [],
   "source": [
    "# Conditional Coverage & looking at subgroups"
   ]
  },
  {
   "cell_type": "code",
   "execution_count": 47,
   "id": "027ae886-68dd-4141-96c7-805a5450e1ef",
   "metadata": {
    "execution": {
     "iopub.execute_input": "2025-07-23T14:34:55.723670Z",
     "iopub.status.busy": "2025-07-23T14:34:55.723102Z",
     "iopub.status.idle": "2025-07-23T14:34:55.931859Z",
     "shell.execute_reply": "2025-07-23T14:34:55.930831Z"
    },
    "papermill": {
     "duration": 0.224076,
     "end_time": "2025-07-23T14:34:55.933961",
     "exception": false,
     "start_time": "2025-07-23T14:34:55.709885",
     "status": "completed"
    },
    "tags": []
   },
   "outputs": [],
   "source": [
    "from fairness_multiverse.conformal import build_cp_groups\n",
    "\n",
    "cp_groups_df = build_cp_groups(pred_sets, y_true, X_test.index, org_test)\n",
    "#needs universe_id and setting"
   ]
  },
  {
   "cell_type": "code",
   "execution_count": 48,
   "id": "c3b92545-903e-4839-89af-0f057907d7d6",
   "metadata": {
    "execution": {
     "iopub.execute_input": "2025-07-23T14:34:55.978662Z",
     "iopub.status.busy": "2025-07-23T14:34:55.978149Z",
     "iopub.status.idle": "2025-07-23T14:34:57.711547Z",
     "shell.execute_reply": "2025-07-23T14:34:57.709930Z"
    },
    "papermill": {
     "duration": 1.758259,
     "end_time": "2025-07-23T14:34:57.713701",
     "exception": false,
     "start_time": "2025-07-23T14:34:55.955442",
     "status": "completed"
    },
    "tags": []
   },
   "outputs": [],
   "source": [
    "# Define covered = 1 if true_label is in the predicted set\n",
    "cp_groups_df['covered'] = cp_groups_df.apply(\n",
    "    lambda r: int(r['true_label'] in r['pred_set']),\n",
    "    axis=1\n",
    ")"
   ]
  },
  {
   "cell_type": "code",
   "execution_count": 49,
   "id": "338ff529-1a6b-4b87-a931-8e4788d52aad",
   "metadata": {
    "execution": {
     "iopub.execute_input": "2025-07-23T14:34:57.766112Z",
     "iopub.status.busy": "2025-07-23T14:34:57.765578Z",
     "iopub.status.idle": "2025-07-23T14:34:57.771013Z",
     "shell.execute_reply": "2025-07-23T14:34:57.769946Z"
    },
    "papermill": {
     "duration": 0.032008,
     "end_time": "2025-07-23T14:34:57.772545",
     "exception": false,
     "start_time": "2025-07-23T14:34:57.740537",
     "status": "completed"
    },
    "tags": []
   },
   "outputs": [],
   "source": [
    "#cp_groups_df"
   ]
  },
  {
   "cell_type": "code",
   "execution_count": 50,
   "id": "90032e27-66df-4540-9169-4e89cfbaa758",
   "metadata": {
    "execution": {
     "iopub.execute_input": "2025-07-23T14:34:57.817799Z",
     "iopub.status.busy": "2025-07-23T14:34:57.816980Z",
     "iopub.status.idle": "2025-07-23T14:34:57.964994Z",
     "shell.execute_reply": "2025-07-23T14:34:57.964101Z"
    },
    "papermill": {
     "duration": 0.172988,
     "end_time": "2025-07-23T14:34:57.967025",
     "exception": false,
     "start_time": "2025-07-23T14:34:57.794037",
     "status": "completed"
    },
    "tags": []
   },
   "outputs": [],
   "source": [
    "subgroups = ['frau1','nongerman','nongerman_male','nongerman_female']\n",
    "\n",
    "# Conditional coverage for subgroup==1\n",
    "cond_coverage = {\n",
    "    g: cp_groups_df.loc[cp_groups_df[g]==1, 'covered'].mean()\n",
    "    for g in subgroups\n",
    "}"
   ]
  },
  {
   "cell_type": "code",
   "execution_count": 51,
   "id": "1e348fb1-b9c3-45bc-ba23-f016827a7e0d",
   "metadata": {
    "execution": {
     "iopub.execute_input": "2025-07-23T14:34:58.017907Z",
     "iopub.status.busy": "2025-07-23T14:34:58.017090Z",
     "iopub.status.idle": "2025-07-23T14:34:58.026684Z",
     "shell.execute_reply": "2025-07-23T14:34:58.025495Z"
    },
    "papermill": {
     "duration": 0.037491,
     "end_time": "2025-07-23T14:34:58.028513",
     "exception": false,
     "start_time": "2025-07-23T14:34:57.991022",
     "status": "completed"
    },
    "tags": []
   },
   "outputs": [
    {
     "data": {
      "text/plain": [
       "{'frau1': 0.9105809408276048,\n",
       " 'nongerman': 0.9281985067085836,\n",
       " 'nongerman_male': 0.9424479870305323,\n",
       " 'nongerman_female': 0.9046199701937406}"
      ]
     },
     "execution_count": 51,
     "metadata": {},
     "output_type": "execute_result"
    }
   ],
   "source": [
    "cond_coverage"
   ]
  },
  {
   "cell_type": "code",
   "execution_count": 52,
   "id": "f5093324-c3dd-4d63-bc4c-8d945e5c8bbb",
   "metadata": {
    "execution": {
     "iopub.execute_input": "2025-07-23T14:34:58.074131Z",
     "iopub.status.busy": "2025-07-23T14:34:58.073729Z",
     "iopub.status.idle": "2025-07-23T14:34:58.080306Z",
     "shell.execute_reply": "2025-07-23T14:34:58.079399Z"
    },
    "papermill": {
     "duration": 0.03209,
     "end_time": "2025-07-23T14:34:58.082823",
     "exception": false,
     "start_time": "2025-07-23T14:34:58.050733",
     "status": "completed"
    },
    "tags": []
   },
   "outputs": [],
   "source": [
    "for subgroup, cov in cond_coverage.items():\n",
    "    cp_metrics_df[f\"cov_{subgroup}\"] = cov"
   ]
  },
  {
   "cell_type": "code",
   "execution_count": 53,
   "id": "6e872e10-dbe5-49e8-b554-5030c98ff75d",
   "metadata": {
    "execution": {
     "iopub.execute_input": "2025-07-23T14:34:58.139451Z",
     "iopub.status.busy": "2025-07-23T14:34:58.139071Z",
     "iopub.status.idle": "2025-07-23T14:34:58.154402Z",
     "shell.execute_reply": "2025-07-23T14:34:58.152016Z"
    },
    "papermill": {
     "duration": 0.042525,
     "end_time": "2025-07-23T14:34:58.156392",
     "exception": false,
     "start_time": "2025-07-23T14:34:58.113867",
     "status": "completed"
    },
    "tags": []
   },
   "outputs": [
    {
     "data": {
      "text/html": [
       "<div>\n",
       "<style scoped>\n",
       "    .dataframe tbody tr th:only-of-type {\n",
       "        vertical-align: middle;\n",
       "    }\n",
       "\n",
       "    .dataframe tbody tr th {\n",
       "        vertical-align: top;\n",
       "    }\n",
       "\n",
       "    .dataframe thead th {\n",
       "        text-align: right;\n",
       "    }\n",
       "</style>\n",
       "<table border=\"1\" class=\"dataframe\">\n",
       "  <thead>\n",
       "    <tr style=\"text-align: right;\">\n",
       "      <th></th>\n",
       "      <th>universe_id</th>\n",
       "      <th>universe_model</th>\n",
       "      <th>universe_exclude_features</th>\n",
       "      <th>universe_exclude_subgroups</th>\n",
       "      <th>universe_scale</th>\n",
       "      <th>q_hat</th>\n",
       "      <th>coverage</th>\n",
       "      <th>avg_size</th>\n",
       "      <th>cov_frau1</th>\n",
       "      <th>cov_nongerman</th>\n",
       "      <th>cov_nongerman_male</th>\n",
       "      <th>cov_nongerman_female</th>\n",
       "    </tr>\n",
       "  </thead>\n",
       "  <tbody>\n",
       "    <tr>\n",
       "      <th>0</th>\n",
       "      <td>d2b96c438eda616e3c284a5666daf09d</td>\n",
       "      <td>logreg</td>\n",
       "      <td>nationality-sex</td>\n",
       "      <td>keep-all</td>\n",
       "      <td>do-not-scale</td>\n",
       "      <td>0.680226</td>\n",
       "      <td>0.911704</td>\n",
       "      <td>1.203667</td>\n",
       "      <td>0.910581</td>\n",
       "      <td>0.928199</td>\n",
       "      <td>0.942448</td>\n",
       "      <td>0.90462</td>\n",
       "    </tr>\n",
       "  </tbody>\n",
       "</table>\n",
       "</div>"
      ],
      "text/plain": [
       "                        universe_id universe_model universe_exclude_features  \\\n",
       "0  d2b96c438eda616e3c284a5666daf09d         logreg           nationality-sex   \n",
       "\n",
       "  universe_exclude_subgroups universe_scale     q_hat  coverage  avg_size  \\\n",
       "0                   keep-all   do-not-scale  0.680226  0.911704  1.203667   \n",
       "\n",
       "   cov_frau1  cov_nongerman  cov_nongerman_male  cov_nongerman_female  \n",
       "0   0.910581       0.928199            0.942448               0.90462  "
      ]
     },
     "execution_count": 53,
     "metadata": {},
     "output_type": "execute_result"
    }
   ],
   "source": [
    "cp_metrics_df"
   ]
  },
  {
   "cell_type": "markdown",
   "id": "33774451",
   "metadata": {
    "papermill": {
     "duration": 0.018662,
     "end_time": "2025-07-23T14:34:58.189606",
     "exception": false,
     "start_time": "2025-07-23T14:34:58.170944",
     "status": "completed"
    },
    "tags": []
   },
   "source": [
    "# (Fairness) Metrics"
   ]
  },
  {
   "cell_type": "code",
   "execution_count": 54,
   "id": "debc5d62",
   "metadata": {
    "execution": {
     "iopub.execute_input": "2025-07-23T14:34:58.226988Z",
     "iopub.status.busy": "2025-07-23T14:34:58.226285Z",
     "iopub.status.idle": "2025-07-23T14:34:58.250056Z",
     "shell.execute_reply": "2025-07-23T14:34:58.249000Z"
    },
    "papermill": {
     "duration": 0.039433,
     "end_time": "2025-07-23T14:34:58.251664",
     "exception": false,
     "start_time": "2025-07-23T14:34:58.212231",
     "status": "completed"
    },
    "tags": []
   },
   "outputs": [],
   "source": [
    "# do I need to include maxdeutsch1.missing?\n",
    "\n",
    "import numpy as np\n",
    "\n",
    "colname_to_bin = \"maxdeutsch1\"\n",
    "majority_value = org_train[colname_to_bin].mode()[0]\n",
    "\n",
    "org_test[\"majmin\"] = np.where(org_test[colname_to_bin] == majority_value, \"majority\", \"minority\")"
   ]
  },
  {
   "cell_type": "code",
   "execution_count": 55,
   "id": "06a50de5",
   "metadata": {
    "execution": {
     "iopub.execute_input": "2025-07-23T14:34:58.300529Z",
     "iopub.status.busy": "2025-07-23T14:34:58.299599Z",
     "iopub.status.idle": "2025-07-23T14:35:01.365345Z",
     "shell.execute_reply": "2025-07-23T14:35:01.364227Z"
    },
    "papermill": {
     "duration": 3.094722,
     "end_time": "2025-07-23T14:35:01.367341",
     "exception": false,
     "start_time": "2025-07-23T14:34:58.272619",
     "status": "completed"
    },
    "tags": []
   },
   "outputs": [],
   "source": [
    "example_universe = universe.copy()\n",
    "example_universe[\"cutoff\"] = example_universe[\"cutoff\"][0]\n",
    "example_universe[\"eval_fairness_grouping\"] = example_universe[\"eval_fairness_grouping\"][0]\n",
    "fairness_dict, metric_frame = universe_analysis.compute_metrics(\n",
    "    example_universe,\n",
    "    y_pred_prob=probs_test,\n",
    "    y_test=y_true,\n",
    "    org_test=org_test,\n",
    ")"
   ]
  },
  {
   "cell_type": "markdown",
   "id": "f95d4e02",
   "metadata": {
    "papermill": {
     "duration": 0.022409,
     "end_time": "2025-07-23T14:35:01.414703",
     "exception": false,
     "start_time": "2025-07-23T14:35:01.392294",
     "status": "completed"
    },
    "tags": []
   },
   "source": [
    "# Overall"
   ]
  },
  {
   "cell_type": "markdown",
   "id": "bdee4871",
   "metadata": {
    "papermill": {
     "duration": 0.022646,
     "end_time": "2025-07-23T14:35:01.459831",
     "exception": false,
     "start_time": "2025-07-23T14:35:01.437185",
     "status": "completed"
    },
    "tags": []
   },
   "source": [
    "Fairness\n",
    "Main fairness target: Equalized Odds. Seems to be a better fit than equal opportunity, since we're not only interested in Y = 1. Seems to be a better fit than demographic parity, since we also care about accuracy, not just equal distribution of preds.\n",
    "\n",
    "Pick column for computation of fairness metrics\n",
    "\n",
    "Performance\n",
    "Overall performance measures, most interesting in relation to the measures split by group below"
   ]
  },
  {
   "cell_type": "code",
   "execution_count": 56,
   "id": "c4e067c6",
   "metadata": {
    "execution": {
     "iopub.execute_input": "2025-07-23T14:35:01.518318Z",
     "iopub.status.busy": "2025-07-23T14:35:01.517401Z",
     "iopub.status.idle": "2025-07-23T14:35:01.526727Z",
     "shell.execute_reply": "2025-07-23T14:35:01.525653Z"
    },
    "papermill": {
     "duration": 0.043824,
     "end_time": "2025-07-23T14:35:01.528477",
     "exception": false,
     "start_time": "2025-07-23T14:35:01.484653",
     "status": "completed"
    },
    "tags": []
   },
   "outputs": [
    {
     "data": {
      "text/plain": [
       "accuracy                   0.217690\n",
       "balanced accuracy          0.533683\n",
       "f1                         0.239206\n",
       "precision                  0.136650\n",
       "false positive rate        0.891358\n",
       "false negative rate        0.041276\n",
       "selection rate             0.900000\n",
       "count                  89710.000000\n",
       "dtype: float64"
      ]
     },
     "execution_count": 56,
     "metadata": {},
     "output_type": "execute_result"
    }
   ],
   "source": [
    "metric_frame.overall"
   ]
  },
  {
   "cell_type": "markdown",
   "id": "e968fe9d",
   "metadata": {
    "papermill": {
     "duration": 0.022579,
     "end_time": "2025-07-23T14:35:01.574560",
     "exception": false,
     "start_time": "2025-07-23T14:35:01.551981",
     "status": "completed"
    },
    "tags": []
   },
   "source": [
    "By Group"
   ]
  },
  {
   "cell_type": "code",
   "execution_count": 57,
   "id": "ec325bce",
   "metadata": {
    "execution": {
     "iopub.execute_input": "2025-07-23T14:35:01.624180Z",
     "iopub.status.busy": "2025-07-23T14:35:01.623622Z",
     "iopub.status.idle": "2025-07-23T14:35:01.642470Z",
     "shell.execute_reply": "2025-07-23T14:35:01.641312Z"
    },
    "papermill": {
     "duration": 0.046139,
     "end_time": "2025-07-23T14:35:01.644305",
     "exception": false,
     "start_time": "2025-07-23T14:35:01.598166",
     "status": "completed"
    },
    "tags": []
   },
   "outputs": [
    {
     "data": {
      "text/html": [
       "<div>\n",
       "<style scoped>\n",
       "    .dataframe tbody tr th:only-of-type {\n",
       "        vertical-align: middle;\n",
       "    }\n",
       "\n",
       "    .dataframe tbody tr th {\n",
       "        vertical-align: top;\n",
       "    }\n",
       "\n",
       "    .dataframe thead th {\n",
       "        text-align: right;\n",
       "    }\n",
       "</style>\n",
       "<table border=\"1\" class=\"dataframe\">\n",
       "  <thead>\n",
       "    <tr style=\"text-align: right;\">\n",
       "      <th></th>\n",
       "      <th>accuracy</th>\n",
       "      <th>balanced accuracy</th>\n",
       "      <th>f1</th>\n",
       "      <th>precision</th>\n",
       "      <th>false positive rate</th>\n",
       "      <th>false negative rate</th>\n",
       "      <th>selection rate</th>\n",
       "      <th>count</th>\n",
       "    </tr>\n",
       "    <tr>\n",
       "      <th>majmin</th>\n",
       "      <th></th>\n",
       "      <th></th>\n",
       "      <th></th>\n",
       "      <th></th>\n",
       "      <th></th>\n",
       "      <th></th>\n",
       "      <th></th>\n",
       "      <th></th>\n",
       "    </tr>\n",
       "  </thead>\n",
       "  <tbody>\n",
       "    <tr>\n",
       "      <th>majority</th>\n",
       "      <td>0.240827</td>\n",
       "      <td>0.541750</td>\n",
       "      <td>0.248669</td>\n",
       "      <td>0.143041</td>\n",
       "      <td>0.867266</td>\n",
       "      <td>0.049234</td>\n",
       "      <td>0.878300</td>\n",
       "      <td>69170.0</td>\n",
       "    </tr>\n",
       "    <tr>\n",
       "      <th>minority</th>\n",
       "      <td>0.139776</td>\n",
       "      <td>0.509249</td>\n",
       "      <td>0.209618</td>\n",
       "      <td>0.117226</td>\n",
       "      <td>0.970944</td>\n",
       "      <td>0.010557</td>\n",
       "      <td>0.973077</td>\n",
       "      <td>20540.0</td>\n",
       "    </tr>\n",
       "  </tbody>\n",
       "</table>\n",
       "</div>"
      ],
      "text/plain": [
       "          accuracy  balanced accuracy        f1  precision  \\\n",
       "majmin                                                       \n",
       "majority  0.240827           0.541750  0.248669   0.143041   \n",
       "minority  0.139776           0.509249  0.209618   0.117226   \n",
       "\n",
       "          false positive rate  false negative rate  selection rate    count  \n",
       "majmin                                                                       \n",
       "majority             0.867266             0.049234        0.878300  69170.0  \n",
       "minority             0.970944             0.010557        0.973077  20540.0  "
      ]
     },
     "execution_count": 57,
     "metadata": {},
     "output_type": "execute_result"
    }
   ],
   "source": [
    "metric_frame.by_group"
   ]
  },
  {
   "cell_type": "code",
   "execution_count": 58,
   "id": "a9ddbe63",
   "metadata": {
    "execution": {
     "iopub.execute_input": "2025-07-23T14:35:01.695952Z",
     "iopub.status.busy": "2025-07-23T14:35:01.694956Z",
     "iopub.status.idle": "2025-07-23T14:35:04.299820Z",
     "shell.execute_reply": "2025-07-23T14:35:04.298926Z"
    },
    "papermill": {
     "duration": 2.63353,
     "end_time": "2025-07-23T14:35:04.301593",
     "exception": false,
     "start_time": "2025-07-23T14:35:01.668063",
     "status": "completed"
    },
    "tags": []
   },
   "outputs": [
    {
     "data": {
      "text/plain": [
       "array([[<Axes: title={'center': 'accuracy'}, xlabel='majmin'>,\n",
       "        <Axes: title={'center': 'balanced accuracy'}, xlabel='majmin'>,\n",
       "        <Axes: title={'center': 'f1'}, xlabel='majmin'>],\n",
       "       [<Axes: title={'center': 'precision'}, xlabel='majmin'>,\n",
       "        <Axes: title={'center': 'false positive rate'}, xlabel='majmin'>,\n",
       "        <Axes: title={'center': 'false negative rate'}, xlabel='majmin'>],\n",
       "       [<Axes: title={'center': 'selection rate'}, xlabel='majmin'>,\n",
       "        <Axes: title={'center': 'count'}, xlabel='majmin'>,\n",
       "        <Axes: xlabel='majmin'>]], dtype=object)"
      ]
     },
     "execution_count": 58,
     "metadata": {},
     "output_type": "execute_result"
    },
    {
     "data": {
      "image/png": "[encoded data removed]",
      "text/plain": [
       "<Figure size 1200x800 with 9 Axes>"
      ]
     },
     "metadata": {},
     "output_type": "display_data"
    }
   ],
   "source": [
    "# In a graphic\n",
    "metric_frame.by_group.plot.bar(\n",
    "    subplots=True,\n",
    "    layout=[3, 3],\n",
    "    legend=False,\n",
    "    figsize=[12, 8],\n",
    "    title=\"Show all metrics\",\n",
    ")"
   ]
  },
  {
   "cell_type": "markdown",
   "id": "f57a0bac",
   "metadata": {
    "papermill": {
     "duration": 0.027729,
     "end_time": "2025-07-23T14:35:04.355050",
     "exception": false,
     "start_time": "2025-07-23T14:35:04.327321",
     "status": "completed"
    },
    "tags": []
   },
   "source": [
    "# Final Output"
   ]
  },
  {
   "cell_type": "code",
   "execution_count": 59,
   "id": "96d280a3",
   "metadata": {
    "execution": {
     "iopub.execute_input": "2025-07-23T14:35:04.411297Z",
     "iopub.status.busy": "2025-07-23T14:35:04.410606Z",
     "iopub.status.idle": "2025-07-23T14:35:04.420140Z",
     "shell.execute_reply": "2025-07-23T14:35:04.419015Z"
    },
    "papermill": {
     "duration": 0.039905,
     "end_time": "2025-07-23T14:35:04.422002",
     "exception": false,
     "start_time": "2025-07-23T14:35:04.382097",
     "status": "completed"
    },
    "tags": []
   },
   "outputs": [
    {
     "data": {
      "text/plain": [
       "4"
      ]
     },
     "execution_count": 59,
     "metadata": {},
     "output_type": "execute_result"
    }
   ],
   "source": [
    "sub_universes = universe_analysis.generate_sub_universes()\n",
    "len(sub_universes)"
   ]
  },
  {
   "cell_type": "code",
   "execution_count": 60,
   "id": "92adf7ba",
   "metadata": {
    "execution": {
     "iopub.execute_input": "2025-07-23T14:35:04.479027Z",
     "iopub.status.busy": "2025-07-23T14:35:04.478349Z",
     "iopub.status.idle": "2025-07-23T14:35:04.483342Z",
     "shell.execute_reply": "2025-07-23T14:35:04.482616Z"
    },
    "papermill": {
     "duration": 0.036315,
     "end_time": "2025-07-23T14:35:04.485141",
     "exception": false,
     "start_time": "2025-07-23T14:35:04.448826",
     "status": "completed"
    },
    "tags": []
   },
   "outputs": [],
   "source": [
    "def filter_sub_universe_data(sub_universe, org_test):\n",
    "    # Keep all rows — no filtering\n",
    "    keep_rows_mask = np.ones(org_test.shape[0], dtype=bool)\n",
    "\n",
    "    print(f\"[INFO] Keeping all rows: {keep_rows_mask.sum()} rows retained.\")\n",
    "    return keep_rows_mask"
   ]
  },
  {
   "cell_type": "code",
   "execution_count": 61,
   "id": "4a759155",
   "metadata": {
    "execution": {
     "iopub.execute_input": "2025-07-23T14:35:04.542859Z",
     "iopub.status.busy": "2025-07-23T14:35:04.542313Z",
     "iopub.status.idle": "2025-07-23T14:35:15.490740Z",
     "shell.execute_reply": "2025-07-23T14:35:15.489543Z"
    },
    "papermill": {
     "duration": 10.98118,
     "end_time": "2025-07-23T14:35:15.492796",
     "exception": false,
     "start_time": "2025-07-23T14:35:04.511616",
     "status": "completed"
    },
    "tags": []
   },
   "outputs": [
    {
     "name": "stdout",
     "output_type": "stream",
     "text": [
      "Stopping execution_time clock.\n",
      "[INFO] Keeping all rows: 89710 rows retained.\n"
     ]
    },
    {
     "name": "stdout",
     "output_type": "stream",
     "text": [
      "[INFO] Keeping all rows: 89710 rows retained.\n"
     ]
    },
    {
     "name": "stdout",
     "output_type": "stream",
     "text": [
      "[INFO] Keeping all rows: 89710 rows retained.\n"
     ]
    },
    {
     "name": "stdout",
     "output_type": "stream",
     "text": [
      "[INFO] Keeping all rows: 89710 rows retained.\n"
     ]
    },
    {
     "data": {
      "text/html": [
       "<div>\n",
       "<style scoped>\n",
       "    .dataframe tbody tr th:only-of-type {\n",
       "        vertical-align: middle;\n",
       "    }\n",
       "\n",
       "    .dataframe tbody tr th {\n",
       "        vertical-align: top;\n",
       "    }\n",
       "\n",
       "    .dataframe thead th {\n",
       "        text-align: right;\n",
       "    }\n",
       "</style>\n",
       "<table border=\"1\" class=\"dataframe\">\n",
       "  <thead>\n",
       "    <tr style=\"text-align: right;\">\n",
       "      <th></th>\n",
       "      <th>run_no</th>\n",
       "      <th>universe_id</th>\n",
       "      <th>universe_settings</th>\n",
       "      <th>execution_time</th>\n",
       "      <th>test_size_n</th>\n",
       "      <th>test_size_frac</th>\n",
       "      <th>fair_main_equalized_odds_difference</th>\n",
       "      <th>fair_main_equalized_odds_ratio</th>\n",
       "      <th>fair_main_demographic_parity_difference</th>\n",
       "      <th>fair_main_demographic_parity_ratio</th>\n",
       "      <th>...</th>\n",
       "      <th>perf_grp_precision_0</th>\n",
       "      <th>perf_grp_precision_1</th>\n",
       "      <th>perf_grp_false positive rate_0</th>\n",
       "      <th>perf_grp_false positive rate_1</th>\n",
       "      <th>perf_grp_false negative rate_0</th>\n",
       "      <th>perf_grp_false negative rate_1</th>\n",
       "      <th>perf_grp_selection rate_0</th>\n",
       "      <th>perf_grp_selection rate_1</th>\n",
       "      <th>perf_grp_count_0</th>\n",
       "      <th>perf_grp_count_1</th>\n",
       "    </tr>\n",
       "  </thead>\n",
       "  <tbody>\n",
       "    <tr>\n",
       "      <th>0</th>\n",
       "      <td>9</td>\n",
       "      <td>d2b96c438eda616e3c284a5666daf09d</td>\n",
       "      <td>{\"cutoff\": \"quantile_0.1\", \"eval_fairness_grou...</td>\n",
       "      <td>20.417027</td>\n",
       "      <td>89710</td>\n",
       "      <td>1.0</td>\n",
       "      <td>0.103678</td>\n",
       "      <td>0.893219</td>\n",
       "      <td>0.094777</td>\n",
       "      <td>0.902601</td>\n",
       "      <td>...</td>\n",
       "      <td>NaN</td>\n",
       "      <td>NaN</td>\n",
       "      <td>NaN</td>\n",
       "      <td>NaN</td>\n",
       "      <td>NaN</td>\n",
       "      <td>NaN</td>\n",
       "      <td>NaN</td>\n",
       "      <td>NaN</td>\n",
       "      <td>NaN</td>\n",
       "      <td>NaN</td>\n",
       "    </tr>\n",
       "    <tr>\n",
       "      <th>0</th>\n",
       "      <td>9</td>\n",
       "      <td>d2b96c438eda616e3c284a5666daf09d</td>\n",
       "      <td>{\"cutoff\": \"quantile_0.1\", \"eval_fairness_grou...</td>\n",
       "      <td>20.417027</td>\n",
       "      <td>89710</td>\n",
       "      <td>1.0</td>\n",
       "      <td>0.103678</td>\n",
       "      <td>0.893219</td>\n",
       "      <td>0.094777</td>\n",
       "      <td>0.902601</td>\n",
       "      <td>...</td>\n",
       "      <td>0.117226</td>\n",
       "      <td>0.143041</td>\n",
       "      <td>0.970944</td>\n",
       "      <td>0.867266</td>\n",
       "      <td>0.010557</td>\n",
       "      <td>0.049234</td>\n",
       "      <td>0.973077</td>\n",
       "      <td>0.878300</td>\n",
       "      <td>20540.0</td>\n",
       "      <td>69170.0</td>\n",
       "    </tr>\n",
       "    <tr>\n",
       "      <th>0</th>\n",
       "      <td>9</td>\n",
       "      <td>d2b96c438eda616e3c284a5666daf09d</td>\n",
       "      <td>{\"cutoff\": \"quantile_0.25\", \"eval_fairness_gro...</td>\n",
       "      <td>20.417027</td>\n",
       "      <td>89710</td>\n",
       "      <td>1.0</td>\n",
       "      <td>0.222552</td>\n",
       "      <td>0.752979</td>\n",
       "      <td>0.204274</td>\n",
       "      <td>0.774904</td>\n",
       "      <td>...</td>\n",
       "      <td>NaN</td>\n",
       "      <td>NaN</td>\n",
       "      <td>NaN</td>\n",
       "      <td>NaN</td>\n",
       "      <td>NaN</td>\n",
       "      <td>NaN</td>\n",
       "      <td>NaN</td>\n",
       "      <td>NaN</td>\n",
       "      <td>NaN</td>\n",
       "      <td>NaN</td>\n",
       "    </tr>\n",
       "    <tr>\n",
       "      <th>0</th>\n",
       "      <td>9</td>\n",
       "      <td>d2b96c438eda616e3c284a5666daf09d</td>\n",
       "      <td>{\"cutoff\": \"quantile_0.25\", \"eval_fairness_gro...</td>\n",
       "      <td>20.417027</td>\n",
       "      <td>89710</td>\n",
       "      <td>1.0</td>\n",
       "      <td>0.222552</td>\n",
       "      <td>0.752979</td>\n",
       "      <td>0.204274</td>\n",
       "      <td>0.774904</td>\n",
       "      <td>...</td>\n",
       "      <td>0.121674</td>\n",
       "      <td>0.162781</td>\n",
       "      <td>0.900947</td>\n",
       "      <td>0.678394</td>\n",
       "      <td>0.042230</td>\n",
       "      <td>0.133698</td>\n",
       "      <td>0.907498</td>\n",
       "      <td>0.703224</td>\n",
       "      <td>20540.0</td>\n",
       "      <td>69170.0</td>\n",
       "    </tr>\n",
       "  </tbody>\n",
       "</table>\n",
       "<p>4 rows × 50 columns</p>\n",
       "</div>"
      ],
      "text/plain": [
       "  run_no                       universe_id  \\\n",
       "0      9  d2b96c438eda616e3c284a5666daf09d   \n",
       "0      9  d2b96c438eda616e3c284a5666daf09d   \n",
       "0      9  d2b96c438eda616e3c284a5666daf09d   \n",
       "0      9  d2b96c438eda616e3c284a5666daf09d   \n",
       "\n",
       "                                   universe_settings  execution_time  \\\n",
       "0  {\"cutoff\": \"quantile_0.1\", \"eval_fairness_grou...       20.417027   \n",
       "0  {\"cutoff\": \"quantile_0.1\", \"eval_fairness_grou...       20.417027   \n",
       "0  {\"cutoff\": \"quantile_0.25\", \"eval_fairness_gro...       20.417027   \n",
       "0  {\"cutoff\": \"quantile_0.25\", \"eval_fairness_gro...       20.417027   \n",
       "\n",
       "   test_size_n  test_size_frac  fair_main_equalized_odds_difference  \\\n",
       "0        89710             1.0                             0.103678   \n",
       "0        89710             1.0                             0.103678   \n",
       "0        89710             1.0                             0.222552   \n",
       "0        89710             1.0                             0.222552   \n",
       "\n",
       "   fair_main_equalized_odds_ratio  fair_main_demographic_parity_difference  \\\n",
       "0                        0.893219                                 0.094777   \n",
       "0                        0.893219                                 0.094777   \n",
       "0                        0.752979                                 0.204274   \n",
       "0                        0.752979                                 0.204274   \n",
       "\n",
       "   fair_main_demographic_parity_ratio  ...  perf_grp_precision_0  \\\n",
       "0                            0.902601  ...                   NaN   \n",
       "0                            0.902601  ...              0.117226   \n",
       "0                            0.774904  ...                   NaN   \n",
       "0                            0.774904  ...              0.121674   \n",
       "\n",
       "   perf_grp_precision_1  perf_grp_false positive rate_0  \\\n",
       "0                   NaN                             NaN   \n",
       "0              0.143041                        0.970944   \n",
       "0                   NaN                             NaN   \n",
       "0              0.162781                        0.900947   \n",
       "\n",
       "   perf_grp_false positive rate_1  perf_grp_false negative rate_0  \\\n",
       "0                             NaN                             NaN   \n",
       "0                        0.867266                        0.010557   \n",
       "0                             NaN                             NaN   \n",
       "0                        0.678394                        0.042230   \n",
       "\n",
       "   perf_grp_false negative rate_1  perf_grp_selection rate_0  \\\n",
       "0                             NaN                        NaN   \n",
       "0                        0.049234                   0.973077   \n",
       "0                             NaN                        NaN   \n",
       "0                        0.133698                   0.907498   \n",
       "\n",
       "   perf_grp_selection rate_1  perf_grp_count_0  perf_grp_count_1  \n",
       "0                        NaN               NaN               NaN  \n",
       "0                   0.878300           20540.0           69170.0  \n",
       "0                        NaN               NaN               NaN  \n",
       "0                   0.703224           20540.0           69170.0  \n",
       "\n",
       "[4 rows x 50 columns]"
      ]
     },
     "execution_count": 61,
     "metadata": {},
     "output_type": "execute_result"
    }
   ],
   "source": [
    "final_output = universe_analysis.generate_final_output(\n",
    "    y_pred_prob=probs_test,\n",
    "    y_test=y_true,\n",
    "    org_test=org_test,\n",
    "    filter_data=filter_sub_universe_data,\n",
    "    cp_metrics_df=cp_metrics_df,\n",
    "    save=True,\n",
    ")\n",
    "final_output"
   ]
  },
  {
   "cell_type": "code",
   "execution_count": null,
   "id": "721ff514-cb11-46f8-b6fc-50392f74b5cb",
   "metadata": {
    "papermill": {
     "duration": 0.031032,
     "end_time": "2025-07-23T14:35:15.557623",
     "exception": false,
     "start_time": "2025-07-23T14:35:15.526591",
     "status": "completed"
    },
    "tags": []
   },
   "outputs": [],
   "source": []
  }
 ],
 "metadata": {
  "celltoolbar": "Tags",
  "kernelspec": {
   "display_name": "Python (CMA Fairness)",
   "language": "python",
   "name": "cma_fair_env"
  },
  "language_info": {
   "codemirror_mode": {
    "name": "ipython",
    "version": 3
   },
   "file_extension": ".py",
   "mimetype": "text/x-python",
   "name": "python",
   "nbconvert_exporter": "python",
   "pygments_lexer": "ipython3",
   "version": "3.10.12"
  },
  "papermill": {
   "default_parameters": {},
   "duration": 35.893564,
   "end_time": "2025-07-23T14:35:16.409466",
   "environment_variables": {},
   "exception": null,
   "input_path": "universe_analysis.ipynb",
   "output_path": "output/runs/9/notebooks/m_9-d2b96c438eda616e3c284a5666daf09d.ipynb",
   "parameters": {
    "output_dir": "output",
    "run_no": "9",
    "seed": "2023",
    "universe": "{\"cutoff\": [\"quantile_0.1\", \"quantile_0.25\"], \"eval_fairness_grouping\": [\"majority-minority\", \"nationality-all\"], \"exclude_features\": \"nationality-sex\", \"exclude_subgroups\": \"keep-all\", \"model\": \"logreg\", \"scale\": \"do-not-scale\"}",
    "universe_id": "d2b96c438eda616e3c284a5666daf09d"
   },
   "start_time": "2025-07-23T14:34:40.515902",
   "version": "2.6.0"
  }
 },
 "nbformat": 4,
 "nbformat_minor": 5
}