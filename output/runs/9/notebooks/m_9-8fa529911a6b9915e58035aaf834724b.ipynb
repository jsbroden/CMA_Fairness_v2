{
 "cells": [
  {
   "cell_type": "code",
   "execution_count": 1,
   "id": "f159f837-637b-42ba-96b5-ec9a68c44524",
   "metadata": {
    "execution": {
     "iopub.execute_input": "2025-07-23T14:35:53.108590Z",
     "iopub.status.busy": "2025-07-23T14:35:53.108113Z",
     "iopub.status.idle": "2025-07-23T14:35:53.122082Z",
     "shell.execute_reply": "2025-07-23T14:35:53.120925Z"
    },
    "papermill": {
     "duration": 0.036085,
     "end_time": "2025-07-23T14:35:53.123837",
     "exception": false,
     "start_time": "2025-07-23T14:35:53.087752",
     "status": "completed"
    },
    "tags": []
   },
   "outputs": [
    {
     "name": "stdout",
     "output_type": "stream",
     "text": [
      "/dss/dsshome1/0C/ra93lal2/cma/CMA_Fairness_v2\n"
     ]
    },
    {
     "name": "stderr",
     "output_type": "stream",
     "text": [
      "/dss/dsshome1/0C/ra93lal2/.local/share/virtualenvs/CMA_Fairness_v2-3j10GkSs/lib/python3.10/site-packages/IPython/core/magics/osm.py:393: UserWarning: This is now an optional IPython functionality, using bookmarks requires you to install the `pickleshare` library.\n",
      "  bkms = self.shell.db.get('bookmarks', {})\n",
      "/dss/dsshome1/0C/ra93lal2/.local/share/virtualenvs/CMA_Fairness_v2-3j10GkSs/lib/python3.10/site-packages/IPython/core/magics/osm.py:417: UserWarning: This is now an optional IPython functionality, setting dhist requires you to install the `pickleshare` library.\n",
      "  self.shell.db['dhist'] = compress_dhist(dhist)[-100:]\n"
     ]
    }
   ],
   "source": [
    "%cd ~/cma/CMA_Fairness_v2"
   ]
  },
  {
   "cell_type": "markdown",
   "id": "de2603b9",
   "metadata": {
    "papermill": {
     "duration": 0.018492,
     "end_time": "2025-07-23T14:35:53.156192",
     "exception": false,
     "start_time": "2025-07-23T14:35:53.137700",
     "status": "completed"
    },
    "tags": []
   },
   "source": [
    "The following cell holds the definition of our parameters, these values can be overriden by rendering the with e.g. the following command:\n",
    "\n",
    "papermill -p alpha 0.2 -p ratio 0.3 universe_analysis.ipynb output/test_run.ipynb"
   ]
  },
  {
   "cell_type": "code",
   "execution_count": 2,
   "id": "a80968a0-40bb-4fa9-85ef-2d5eefb01975",
   "metadata": {
    "execution": {
     "iopub.execute_input": "2025-07-23T14:35:53.195625Z",
     "iopub.status.busy": "2025-07-23T14:35:53.195023Z",
     "iopub.status.idle": "2025-07-23T14:35:53.201586Z",
     "shell.execute_reply": "2025-07-23T14:35:53.200190Z"
    },
    "papermill": {
     "duration": 0.028888,
     "end_time": "2025-07-23T14:35:53.203606",
     "exception": false,
     "start_time": "2025-07-23T14:35:53.174718",
     "status": "completed"
    },
    "tags": []
   },
   "outputs": [
    {
     "name": "stdout",
     "output_type": "stream",
     "text": [
      "Current working directory: /dss/dsshome1/0C/ra93lal2/cma/CMA_Fairness_v2\n"
     ]
    }
   ],
   "source": [
    "import os\n",
    "print(\"Current working directory:\", os.getcwd())"
   ]
  },
  {
   "cell_type": "code",
   "execution_count": 3,
   "id": "2dce4c03",
   "metadata": {
    "execution": {
     "iopub.execute_input": "2025-07-23T14:35:53.244617Z",
     "iopub.status.busy": "2025-07-23T14:35:53.244056Z",
     "iopub.status.idle": "2025-07-23T14:35:53.250179Z",
     "shell.execute_reply": "2025-07-23T14:35:53.249362Z"
    },
    "papermill": {
     "duration": 0.030227,
     "end_time": "2025-07-23T14:35:53.253525",
     "exception": false,
     "start_time": "2025-07-23T14:35:53.223298",
     "status": "completed"
    },
    "tags": [
     "parameters"
    ]
   },
   "outputs": [],
   "source": [
    "run_no = 0\n",
    "universe_id = \"test\"\n",
    "universe = {\n",
    "    \"scale\": \"scale\", # \"scale\", \"do-not-scale\",\n",
    "    \"model\": \"elasticnet\", # \"logreg\", \"penalized_logreg\", \"rf\", \"gbm\", \"elasticnet\"\n",
    "    \"cutoff\": [\"quantile_0.15\", \"quantile_0.30\"],\n",
    "    \"exclude_features\": \"age\", # \"none\", \"nationality\", \"sex\", \"nationality-sex\", \"age\"\n",
    "    \"exclude_subgroups\": \"keep-all\", # \"keep-all\", \"drop-non-german\"\n",
    "    #\"training_sample\": \"restricted\", # \"restricted\", \"full\"\n",
    "    \"eval_fairness_grouping\": [\"majority-minority\", \"nationality-all\"]\n",
    "}\n",
    "\n",
    "output_dir=\"./output\"\n",
    "seed=0"
   ]
  },
  {
   "cell_type": "code",
   "execution_count": 4,
   "id": "2946bf77",
   "metadata": {
    "execution": {
     "iopub.execute_input": "2025-07-23T14:35:53.283715Z",
     "iopub.status.busy": "2025-07-23T14:35:53.283183Z",
     "iopub.status.idle": "2025-07-23T14:35:53.287851Z",
     "shell.execute_reply": "2025-07-23T14:35:53.287092Z"
    },
    "papermill": {
     "duration": 0.016539,
     "end_time": "2025-07-23T14:35:53.289318",
     "exception": false,
     "start_time": "2025-07-23T14:35:53.272779",
     "status": "completed"
    },
    "tags": [
     "injected-parameters"
    ]
   },
   "outputs": [],
   "source": [
    "# Parameters\n",
    "universe_id = \"8fa529911a6b9915e58035aaf834724b\"\n",
    "run_no = \"9\"\n",
    "universe = \"{\\\"cutoff\\\": [\\\"quantile_0.1\\\", \\\"quantile_0.25\\\"], \\\"eval_fairness_grouping\\\": [\\\"majority-minority\\\", \\\"nationality-all\\\"], \\\"exclude_features\\\": \\\"none\\\", \\\"exclude_subgroups\\\": \\\"keep-all\\\", \\\"model\\\": \\\"rf\\\", \\\"scale\\\": \\\"do-not-scale\\\"}\"\n",
    "output_dir = \"output\"\n",
    "seed = \"2023\"\n"
   ]
  },
  {
   "cell_type": "code",
   "execution_count": 5,
   "id": "1650acaf",
   "metadata": {
    "execution": {
     "iopub.execute_input": "2025-07-23T14:35:53.311343Z",
     "iopub.status.busy": "2025-07-23T14:35:53.310134Z",
     "iopub.status.idle": "2025-07-23T14:35:53.316361Z",
     "shell.execute_reply": "2025-07-23T14:35:53.315319Z"
    },
    "papermill": {
     "duration": 0.018819,
     "end_time": "2025-07-23T14:35:53.318280",
     "exception": false,
     "start_time": "2025-07-23T14:35:53.299461",
     "status": "completed"
    },
    "tags": []
   },
   "outputs": [],
   "source": [
    "import json\n",
    "# Parse universe into dict if it is passed as a string\n",
    "if isinstance(universe, str):\n",
    "    universe = json.loads(universe)"
   ]
  },
  {
   "cell_type": "code",
   "execution_count": 6,
   "id": "16620c48",
   "metadata": {
    "execution": {
     "iopub.execute_input": "2025-07-23T14:35:53.352374Z",
     "iopub.status.busy": "2025-07-23T14:35:53.351828Z",
     "iopub.status.idle": "2025-07-23T14:35:53.424615Z",
     "shell.execute_reply": "2025-07-23T14:35:53.406364Z"
    },
    "papermill": {
     "duration": 0.0931,
     "end_time": "2025-07-23T14:35:53.426467",
     "exception": false,
     "start_time": "2025-07-23T14:35:53.333367",
     "status": "completed"
    },
    "tags": []
   },
   "outputs": [],
   "source": [
    "# Auto-reload the custom package\n",
    "%load_ext autoreload\n",
    "%autoreload 1\n",
    "%aimport fairness_multiverse"
   ]
  },
  {
   "cell_type": "code",
   "execution_count": 7,
   "id": "01c5c9f3",
   "metadata": {
    "execution": {
     "iopub.execute_input": "2025-07-23T14:35:53.470910Z",
     "iopub.status.busy": "2025-07-23T14:35:53.469774Z",
     "iopub.status.idle": "2025-07-23T14:35:55.389102Z",
     "shell.execute_reply": "2025-07-23T14:35:55.387887Z"
    },
    "papermill": {
     "duration": 1.943389,
     "end_time": "2025-07-23T14:35:55.391346",
     "exception": false,
     "start_time": "2025-07-23T14:35:53.447957",
     "status": "completed"
    },
    "tags": []
   },
   "outputs": [],
   "source": [
    "from fairness_multiverse.universe import UniverseAnalysis\n",
    "\n",
    "universe_analysis = UniverseAnalysis(\n",
    "    run_no = run_no,\n",
    "    universe_id = universe_id,\n",
    "    universe = universe,\n",
    "    output_dir=output_dir,\n",
    ")"
   ]
  },
  {
   "cell_type": "code",
   "execution_count": 8,
   "id": "106241f5",
   "metadata": {
    "execution": {
     "iopub.execute_input": "2025-07-23T14:35:55.431814Z",
     "iopub.status.busy": "2025-07-23T14:35:55.430816Z",
     "iopub.status.idle": "2025-07-23T14:35:55.438453Z",
     "shell.execute_reply": "2025-07-23T14:35:55.437243Z"
    },
    "papermill": {
     "duration": 0.02968,
     "end_time": "2025-07-23T14:35:55.440383",
     "exception": false,
     "start_time": "2025-07-23T14:35:55.410703",
     "status": "completed"
    },
    "tags": []
   },
   "outputs": [
    {
     "name": "stdout",
     "output_type": "stream",
     "text": [
      "Using Seed: 2023\n"
     ]
    }
   ],
   "source": [
    "import numpy as np\n",
    "parsed_seed = int(seed)\n",
    "np.random.seed(parsed_seed)\n",
    "print(f\"Using Seed: {parsed_seed}\")"
   ]
  },
  {
   "cell_type": "markdown",
   "id": "e0ebdc57",
   "metadata": {
    "papermill": {
     "duration": 0.017636,
     "end_time": "2025-07-23T14:35:55.477312",
     "exception": false,
     "start_time": "2025-07-23T14:35:55.459676",
     "status": "completed"
    },
    "tags": []
   },
   "source": [
    "# Loading Data"
   ]
  },
  {
   "cell_type": "markdown",
   "id": "681925a3",
   "metadata": {
    "papermill": {
     "duration": 0.025615,
     "end_time": "2025-07-23T14:35:55.524795",
     "exception": false,
     "start_time": "2025-07-23T14:35:55.499180",
     "status": "completed"
    },
    "tags": []
   },
   "source": [
    "Load siab_train, siab_test, siab_calib and/or \n",
    "load siab_train_features, siab_train_labels"
   ]
  },
  {
   "cell_type": "code",
   "execution_count": 9,
   "id": "f0496b8a",
   "metadata": {
    "execution": {
     "iopub.execute_input": "2025-07-23T14:35:55.579191Z",
     "iopub.status.busy": "2025-07-23T14:35:55.578387Z",
     "iopub.status.idle": "2025-07-23T14:35:55.585363Z",
     "shell.execute_reply": "2025-07-23T14:35:55.584029Z"
    },
    "papermill": {
     "duration": 0.036599,
     "end_time": "2025-07-23T14:35:55.587678",
     "exception": false,
     "start_time": "2025-07-23T14:35:55.551079",
     "status": "completed"
    },
    "tags": []
   },
   "outputs": [],
   "source": [
    "# Do I need to load siab? Delete this cell?\n",
    "\n",
    "#from pathlib import Path\n",
    "#import pandas as pd\n",
    "#\n",
    "## File paths\n",
    "#raw_file = Path(\"data/raw/siab.csv\")\n",
    "#cache_file = Path(\"data/siab_cached.csv.gz\")\n",
    "#\n",
    "## Ensure cache directory exists\n",
    "#cache_file.parent.mkdir(parents=True, exist_ok=True)\n",
    "#\n",
    "## Load with simple caching\n",
    "#if cache_file.exists():\n",
    "#    print(f\"Loading SIAB data from cache: {cache_file}\")\n",
    "#    siab = pd.read_csv(cache_file, compression='gzip')\n",
    "#else:\n",
    "#    print(f\"Cache not found. Reading raw SIAB data: {raw_file}\")\n",
    "#    siab = pd.read_csv(raw_file)\n",
    "#    siab.to_csv(cache_file, index=False, compression='gzip')\n",
    "#    print(f\"Cached SIAB data to: {cache_file}\")\n",
    "#\n",
    "## Now use `siab` DataFrame as needed\n",
    "#print(siab.shape)\n"
   ]
  },
  {
   "cell_type": "code",
   "execution_count": 10,
   "id": "a0edb063",
   "metadata": {
    "execution": {
     "iopub.execute_input": "2025-07-23T14:35:55.644287Z",
     "iopub.status.busy": "2025-07-23T14:35:55.643441Z",
     "iopub.status.idle": "2025-07-23T14:35:57.034416Z",
     "shell.execute_reply": "2025-07-23T14:35:57.033129Z"
    },
    "papermill": {
     "duration": 1.421521,
     "end_time": "2025-07-23T14:35:57.036726",
     "exception": false,
     "start_time": "2025-07-23T14:35:55.615205",
     "status": "completed"
    },
    "tags": []
   },
   "outputs": [],
   "source": [
    "import pandas as pd\n",
    "\n",
    "X_train = pd.read_csv(\"./data/X_train.csv\")\n",
    "y_train = pd.read_csv(\"./data/y_train.csv\")"
   ]
  },
  {
   "cell_type": "code",
   "execution_count": 11,
   "id": "63d08085",
   "metadata": {
    "execution": {
     "iopub.execute_input": "2025-07-23T14:35:57.077831Z",
     "iopub.status.busy": "2025-07-23T14:35:57.076983Z",
     "iopub.status.idle": "2025-07-23T14:35:58.675532Z",
     "shell.execute_reply": "2025-07-23T14:35:58.674287Z"
    },
    "papermill": {
     "duration": 1.621749,
     "end_time": "2025-07-23T14:35:58.678029",
     "exception": false,
     "start_time": "2025-07-23T14:35:57.056280",
     "status": "completed"
    },
    "tags": []
   },
   "outputs": [],
   "source": [
    "X_test = pd.read_csv(\"./data/X_test.csv\")\n",
    "y_true = pd.read_csv(\"./data/y_test.csv\")"
   ]
  },
  {
   "cell_type": "code",
   "execution_count": 12,
   "id": "98a8d0fa-1d3d-4ed8-bb2c-281470e24add",
   "metadata": {
    "execution": {
     "iopub.execute_input": "2025-07-23T14:35:58.736230Z",
     "iopub.status.busy": "2025-07-23T14:35:58.735529Z",
     "iopub.status.idle": "2025-07-23T14:36:00.060688Z",
     "shell.execute_reply": "2025-07-23T14:36:00.059618Z"
    },
    "papermill": {
     "duration": 1.356322,
     "end_time": "2025-07-23T14:36:00.062606",
     "exception": false,
     "start_time": "2025-07-23T14:35:58.706284",
     "status": "completed"
    },
    "tags": []
   },
   "outputs": [],
   "source": [
    "# Calibration data for conformal\n",
    "X_calib = pd.read_csv(\"./data/X_calib.csv\")\n",
    "y_calib = pd.read_csv(\"./data/y_calib.csv\")"
   ]
  },
  {
   "cell_type": "code",
   "execution_count": 13,
   "id": "e6c733c5",
   "metadata": {
    "execution": {
     "iopub.execute_input": "2025-07-23T14:36:00.101977Z",
     "iopub.status.busy": "2025-07-23T14:36:00.101447Z",
     "iopub.status.idle": "2025-07-23T14:36:00.241287Z",
     "shell.execute_reply": "2025-07-23T14:36:00.240318Z"
    },
    "papermill": {
     "duration": 0.162497,
     "end_time": "2025-07-23T14:36:00.243369",
     "exception": false,
     "start_time": "2025-07-23T14:36:00.080872",
     "status": "completed"
    },
    "tags": []
   },
   "outputs": [],
   "source": [
    "# Auxiliary data needed downstream in the pipeline\n",
    "\n",
    "org_train = X_train.copy()\n",
    "org_test = X_test.copy()\n",
    "org_calib = X_calib.copy()"
   ]
  },
  {
   "cell_type": "markdown",
   "id": "0a4a1b33",
   "metadata": {
    "papermill": {
     "duration": 0.019433,
     "end_time": "2025-07-23T14:36:00.281137",
     "exception": false,
     "start_time": "2025-07-23T14:36:00.261704",
     "status": "completed"
    },
    "tags": []
   },
   "source": [
    "# Preprocessing Data"
   ]
  },
  {
   "cell_type": "code",
   "execution_count": 14,
   "id": "ca879031",
   "metadata": {
    "execution": {
     "iopub.execute_input": "2025-07-23T14:36:00.319531Z",
     "iopub.status.busy": "2025-07-23T14:36:00.318830Z",
     "iopub.status.idle": "2025-07-23T14:36:00.326064Z",
     "shell.execute_reply": "2025-07-23T14:36:00.325139Z"
    },
    "papermill": {
     "duration": 0.028455,
     "end_time": "2025-07-23T14:36:00.327828",
     "exception": false,
     "start_time": "2025-07-23T14:36:00.299373",
     "status": "completed"
    },
    "tags": []
   },
   "outputs": [],
   "source": [
    "# EXCLUDE PROTECTED FEATURES\n",
    "# ----------------------\n",
    "# \"exclude_features\": \"none\", # \"nationality\", \"sex\", \"nationality-sex\"\n",
    "\n",
    "excluded_features = universe[\"exclude_features\"].split(\"-\") # split, e.g.: \"nationality-sex\" -> [\"nationality\", \"sex\"]\n",
    "excluded_features_dictionary = {\n",
    "    \"nationality\": [\"maxdeutsch1\", \"maxdeutsch.Missing.\"],\n",
    "    \"sex\": [\"frau1\"],\n",
    "    \"age\": [\"age\"],\n",
    "}\n"
   ]
  },
  {
   "cell_type": "code",
   "execution_count": 15,
   "id": "b745ac60",
   "metadata": {
    "execution": {
     "iopub.execute_input": "2025-07-23T14:36:00.366277Z",
     "iopub.status.busy": "2025-07-23T14:36:00.365366Z",
     "iopub.status.idle": "2025-07-23T14:36:00.371854Z",
     "shell.execute_reply": "2025-07-23T14:36:00.370820Z"
    },
    "papermill": {
     "duration": 0.027236,
     "end_time": "2025-07-23T14:36:00.373615",
     "exception": false,
     "start_time": "2025-07-23T14:36:00.346379",
     "status": "completed"
    },
    "tags": []
   },
   "outputs": [],
   "source": [
    "# Code nice names to column names\n",
    "\n",
    "excluded_features_columns = [\n",
    "    excluded_features_dictionary[f] for f in excluded_features if len(f) > 0 and f != \"none\"\n",
    "]"
   ]
  },
  {
   "cell_type": "code",
   "execution_count": 16,
   "id": "f84f73a2",
   "metadata": {
    "execution": {
     "iopub.execute_input": "2025-07-23T14:36:00.415140Z",
     "iopub.status.busy": "2025-07-23T14:36:00.414425Z",
     "iopub.status.idle": "2025-07-23T14:36:00.422060Z",
     "shell.execute_reply": "2025-07-23T14:36:00.421001Z"
    },
    "papermill": {
     "duration": 0.03138,
     "end_time": "2025-07-23T14:36:00.423687",
     "exception": false,
     "start_time": "2025-07-23T14:36:00.392307",
     "status": "completed"
    },
    "tags": []
   },
   "outputs": [],
   "source": [
    "from utils import flatten_once\n",
    "\n",
    "excluded_features_columns = flatten_once(excluded_features_columns)"
   ]
  },
  {
   "cell_type": "code",
   "execution_count": 17,
   "id": "884dea22",
   "metadata": {
    "execution": {
     "iopub.execute_input": "2025-07-23T14:36:00.466191Z",
     "iopub.status.busy": "2025-07-23T14:36:00.465478Z",
     "iopub.status.idle": "2025-07-23T14:36:00.472200Z",
     "shell.execute_reply": "2025-07-23T14:36:00.471176Z"
    },
    "papermill": {
     "duration": 0.027853,
     "end_time": "2025-07-23T14:36:00.473900",
     "exception": false,
     "start_time": "2025-07-23T14:36:00.446047",
     "status": "completed"
    },
    "tags": []
   },
   "outputs": [],
   "source": [
    "if len(excluded_features_columns) > 0:\n",
    "    print(f\"Dropping features: {excluded_features_columns}\")\n",
    "    X_train.drop(excluded_features_columns, axis=1, inplace=True)"
   ]
  },
  {
   "cell_type": "code",
   "execution_count": 18,
   "id": "95ab8b16",
   "metadata": {
    "execution": {
     "iopub.execute_input": "2025-07-23T14:36:00.512337Z",
     "iopub.status.busy": "2025-07-23T14:36:00.511592Z",
     "iopub.status.idle": "2025-07-23T14:36:00.517789Z",
     "shell.execute_reply": "2025-07-23T14:36:00.516714Z"
    },
    "papermill": {
     "duration": 0.027196,
     "end_time": "2025-07-23T14:36:00.519599",
     "exception": false,
     "start_time": "2025-07-23T14:36:00.492403",
     "status": "completed"
    },
    "tags": []
   },
   "outputs": [],
   "source": [
    "if len(excluded_features_columns) > 0:\n",
    "    print(f\"Dropping features: {excluded_features_columns}\")\n",
    "    X_test.drop(excluded_features_columns, axis=1, inplace=True)"
   ]
  },
  {
   "cell_type": "code",
   "execution_count": 19,
   "id": "1853aaf5-fb9f-46cb-a2b5-8ea4ae2237e4",
   "metadata": {
    "execution": {
     "iopub.execute_input": "2025-07-23T14:36:00.557953Z",
     "iopub.status.busy": "2025-07-23T14:36:00.557238Z",
     "iopub.status.idle": "2025-07-23T14:36:00.563430Z",
     "shell.execute_reply": "2025-07-23T14:36:00.562414Z"
    },
    "papermill": {
     "duration": 0.026888,
     "end_time": "2025-07-23T14:36:00.565233",
     "exception": false,
     "start_time": "2025-07-23T14:36:00.538345",
     "status": "completed"
    },
    "tags": []
   },
   "outputs": [],
   "source": [
    "if len(excluded_features_columns) > 0:\n",
    "    print(f\"Dropping features: {excluded_features_columns}\")\n",
    "    X_calib.drop(excluded_features_columns, axis=1, inplace=True)"
   ]
  },
  {
   "cell_type": "code",
   "execution_count": 20,
   "id": "76c4dc6d",
   "metadata": {
    "execution": {
     "iopub.execute_input": "2025-07-23T14:36:00.604927Z",
     "iopub.status.busy": "2025-07-23T14:36:00.604208Z",
     "iopub.status.idle": "2025-07-23T14:36:00.609891Z",
     "shell.execute_reply": "2025-07-23T14:36:00.608949Z"
    },
    "papermill": {
     "duration": 0.027861,
     "end_time": "2025-07-23T14:36:00.611679",
     "exception": false,
     "start_time": "2025-07-23T14:36:00.583818",
     "status": "completed"
    },
    "tags": []
   },
   "outputs": [],
   "source": [
    "# EXCLUDE CERTAIN SUBGROUPS\n",
    "# ----------------------\n",
    "\n",
    "mode = universe.get(\"exclude_subgroups\", \"keep-all\") \n",
    "# Fetches the exclude_subgroups setting from the universe dict.\n",
    "# Defaults to \"keep-all\" if the key is missing."
   ]
  },
  {
   "cell_type": "code",
   "execution_count": 21,
   "id": "21994072",
   "metadata": {
    "execution": {
     "iopub.execute_input": "2025-07-23T14:36:00.654564Z",
     "iopub.status.busy": "2025-07-23T14:36:00.653852Z",
     "iopub.status.idle": "2025-07-23T14:36:00.661181Z",
     "shell.execute_reply": "2025-07-23T14:36:00.660080Z"
    },
    "papermill": {
     "duration": 0.031922,
     "end_time": "2025-07-23T14:36:00.662929",
     "exception": false,
     "start_time": "2025-07-23T14:36:00.631007",
     "status": "completed"
    },
    "tags": []
   },
   "outputs": [],
   "source": [
    "if mode == \"keep-all\":\n",
    "    keep_mask = pd.Series(True, index=org_train.index)\n",
    "\n",
    "# org_train contains the original feature columns from features_org (in Simson)\n",
    "# features_org contains unprocessed features, for me X_train at beginning ???\n",
    "# For keep-all, creates a boolean Series (keep_mask) of all True, so no rows are removed.\n",
    "\n",
    "elif mode == \"drop-non-german\":\n",
    "    keep_mask = org_train[\"maxdeutsch1\"] == 1 # ??? what about missing values?\n",
    "\n",
    "else:\n",
    "    raise ValueError(f\"Unsupported mode for exclude_subgroups: {mode}\")\n"
   ]
  },
  {
   "cell_type": "code",
   "execution_count": 22,
   "id": "71651440",
   "metadata": {
    "execution": {
     "iopub.execute_input": "2025-07-23T14:36:00.701566Z",
     "iopub.status.busy": "2025-07-23T14:36:00.700852Z",
     "iopub.status.idle": "2025-07-23T14:36:00.708535Z",
     "shell.execute_reply": "2025-07-23T14:36:00.707419Z"
    },
    "papermill": {
     "duration": 0.028844,
     "end_time": "2025-07-23T14:36:00.710444",
     "exception": false,
     "start_time": "2025-07-23T14:36:00.681600",
     "status": "completed"
    },
    "tags": []
   },
   "outputs": [],
   "source": [
    "n_drop = (~keep_mask).sum() # Calculates how many rows are set to be dropped\n",
    "if n_drop > 0:\n",
    "    pct = n_drop / len(keep_mask) * 100\n",
    "    print(f\"Dropping {n_drop} rows ({pct:.2f}%) where mode='{mode}'\")"
   ]
  },
  {
   "cell_type": "code",
   "execution_count": 23,
   "id": "5fb8eee5",
   "metadata": {
    "execution": {
     "iopub.execute_input": "2025-07-23T14:36:00.749546Z",
     "iopub.status.busy": "2025-07-23T14:36:00.748830Z",
     "iopub.status.idle": "2025-07-23T14:36:00.805606Z",
     "shell.execute_reply": "2025-07-23T14:36:00.804618Z"
    },
    "papermill": {
     "duration": 0.078392,
     "end_time": "2025-07-23T14:36:00.807623",
     "exception": false,
     "start_time": "2025-07-23T14:36:00.729231",
     "status": "completed"
    },
    "tags": []
   },
   "outputs": [],
   "source": [
    "X_train = X_train[keep_mask]"
   ]
  },
  {
   "cell_type": "code",
   "execution_count": 24,
   "id": "b202bb3a",
   "metadata": {
    "execution": {
     "iopub.execute_input": "2025-07-23T14:36:00.846659Z",
     "iopub.status.busy": "2025-07-23T14:36:00.845951Z",
     "iopub.status.idle": "2025-07-23T14:36:00.855498Z",
     "shell.execute_reply": "2025-07-23T14:36:00.854425Z"
    },
    "papermill": {
     "duration": 0.031574,
     "end_time": "2025-07-23T14:36:00.857597",
     "exception": false,
     "start_time": "2025-07-23T14:36:00.826023",
     "status": "completed"
    },
    "tags": []
   },
   "outputs": [],
   "source": [
    "y_train = y_train[keep_mask]"
   ]
  },
  {
   "cell_type": "markdown",
   "id": "493e2ac3",
   "metadata": {
    "papermill": {
     "duration": 0.018482,
     "end_time": "2025-07-23T14:36:00.894771",
     "exception": false,
     "start_time": "2025-07-23T14:36:00.876289",
     "status": "completed"
    },
    "tags": []
   },
   "source": [
    "# Model Training"
   ]
  },
  {
   "cell_type": "code",
   "execution_count": 25,
   "id": "679e1268",
   "metadata": {
    "execution": {
     "iopub.execute_input": "2025-07-23T14:36:00.933907Z",
     "iopub.status.busy": "2025-07-23T14:36:00.933404Z",
     "iopub.status.idle": "2025-07-23T14:36:01.048838Z",
     "shell.execute_reply": "2025-07-23T14:36:01.047771Z"
    },
    "papermill": {
     "duration": 0.137144,
     "end_time": "2025-07-23T14:36:01.050894",
     "exception": false,
     "start_time": "2025-07-23T14:36:00.913750",
     "status": "completed"
    },
    "tags": []
   },
   "outputs": [],
   "source": [
    "from sklearn.linear_model import LogisticRegression\n",
    "from sklearn.ensemble import GradientBoostingClassifier, RandomForestClassifier\n",
    "\n",
    "if (universe[\"model\"] == \"logreg\"):\n",
    "    model = LogisticRegression() #penalty=\"none\") #, solver=\"newton-cg\", max_iter=1) # include random_state=19 ?\n",
    "elif (universe[\"model\"] == \"penalized_logreg\"):\n",
    "    model = LogisticRegression(penalty=\"l2\", C=1.0) #, solver=\"newton-cg\", max_iter=1)\n",
    "elif (universe[\"model\"] == \"rf\"):\n",
    "    model = RandomForestClassifier(n_estimators=100, n_jobs=-1)\n",
    "elif (universe[\"model\"] == \"gbm\"):\n",
    "    model = GradientBoostingClassifier()\n",
    "elif (universe[\"model\"] == \"elasticnet\"):\n",
    "    model = LogisticRegression(penalty = 'elasticnet', solver = 'saga', l1_ratio = 0.5, max_iter=5000) # which solver to use?\n",
    "else:\n",
    "    raise \"Unsupported universe.model\""
   ]
  },
  {
   "cell_type": "code",
   "execution_count": 26,
   "id": "0cc8f744",
   "metadata": {
    "execution": {
     "iopub.execute_input": "2025-07-23T14:36:01.090026Z",
     "iopub.status.busy": "2025-07-23T14:36:01.089430Z",
     "iopub.status.idle": "2025-07-23T14:36:01.096647Z",
     "shell.execute_reply": "2025-07-23T14:36:01.095545Z"
    },
    "papermill": {
     "duration": 0.028563,
     "end_time": "2025-07-23T14:36:01.098471",
     "exception": false,
     "start_time": "2025-07-23T14:36:01.069908",
     "status": "completed"
    },
    "tags": []
   },
   "outputs": [],
   "source": [
    "import numpy as np\n",
    "from sklearn.pipeline import Pipeline\n",
    "from sklearn.preprocessing import StandardScaler\n",
    "\n",
    "model = Pipeline([\n",
    "    #(\"continuous_processor\", continuous_processor),\n",
    "    #(\"categorical_preprocessor\", categorical_preprocessor),\n",
    "    (\"scale\", StandardScaler() if universe[\"scale\"] == \"scale\" else None), \n",
    "    (\"model\", model),\n",
    "])"
   ]
  },
  {
   "cell_type": "code",
   "execution_count": 27,
   "id": "9442c04d",
   "metadata": {
    "execution": {
     "iopub.execute_input": "2025-07-23T14:36:01.140377Z",
     "iopub.status.busy": "2025-07-23T14:36:01.139735Z",
     "iopub.status.idle": "2025-07-23T14:36:11.727934Z",
     "shell.execute_reply": "2025-07-23T14:36:11.726743Z"
    },
    "papermill": {
     "duration": 10.61143,
     "end_time": "2025-07-23T14:36:11.729914",
     "exception": false,
     "start_time": "2025-07-23T14:36:01.118484",
     "status": "completed"
    },
    "tags": []
   },
   "outputs": [
    {
     "data": {
      "text/html": [
       "<style>#sk-container-id-1 {color: black;background-color: white;}#sk-container-id-1 pre{padding: 0;}#sk-container-id-1 div.sk-toggleable {background-color: white;}#sk-container-id-1 label.sk-toggleable__label {cursor: pointer;display: block;width: 100%;margin-bottom: 0;padding: 0.3em;box-sizing: border-box;text-align: center;}#sk-container-id-1 label.sk-toggleable__label-arrow:before {content: \"▸\";float: left;margin-right: 0.25em;color: #696969;}#sk-container-id-1 label.sk-toggleable__label-arrow:hover:before {color: black;}#sk-container-id-1 div.sk-estimator:hover label.sk-toggleable__label-arrow:before {color: black;}#sk-container-id-1 div.sk-toggleable__content {max-height: 0;max-width: 0;overflow: hidden;text-align: left;background-color: #f0f8ff;}#sk-container-id-1 div.sk-toggleable__content pre {margin: 0.2em;color: black;border-radius: 0.25em;background-color: #f0f8ff;}#sk-container-id-1 input.sk-toggleable__control:checked~div.sk-toggleable__content {max-height: 200px;max-width: 100%;overflow: auto;}#sk-container-id-1 input.sk-toggleable__control:checked~label.sk-toggleable__label-arrow:before {content: \"▾\";}#sk-container-id-1 div.sk-estimator input.sk-toggleable__control:checked~label.sk-toggleable__label {background-color: #d4ebff;}#sk-container-id-1 div.sk-label input.sk-toggleable__control:checked~label.sk-toggleable__label {background-color: #d4ebff;}#sk-container-id-1 input.sk-hidden--visually {border: 0;clip: rect(1px 1px 1px 1px);clip: rect(1px, 1px, 1px, 1px);height: 1px;margin: -1px;overflow: hidden;padding: 0;position: absolute;width: 1px;}#sk-container-id-1 div.sk-estimator {font-family: monospace;background-color: #f0f8ff;border: 1px dotted black;border-radius: 0.25em;box-sizing: border-box;margin-bottom: 0.5em;}#sk-container-id-1 div.sk-estimator:hover {background-color: #d4ebff;}#sk-container-id-1 div.sk-parallel-item::after {content: \"\";width: 100%;border-bottom: 1px solid gray;flex-grow: 1;}#sk-container-id-1 div.sk-label:hover label.sk-toggleable__label {background-color: #d4ebff;}#sk-container-id-1 div.sk-serial::before {content: \"\";position: absolute;border-left: 1px solid gray;box-sizing: border-box;top: 0;bottom: 0;left: 50%;z-index: 0;}#sk-container-id-1 div.sk-serial {display: flex;flex-direction: column;align-items: center;background-color: white;padding-right: 0.2em;padding-left: 0.2em;position: relative;}#sk-container-id-1 div.sk-item {position: relative;z-index: 1;}#sk-container-id-1 div.sk-parallel {display: flex;align-items: stretch;justify-content: center;background-color: white;position: relative;}#sk-container-id-1 div.sk-item::before, #sk-container-id-1 div.sk-parallel-item::before {content: \"\";position: absolute;border-left: 1px solid gray;box-sizing: border-box;top: 0;bottom: 0;left: 50%;z-index: -1;}#sk-container-id-1 div.sk-parallel-item {display: flex;flex-direction: column;z-index: 1;position: relative;background-color: white;}#sk-container-id-1 div.sk-parallel-item:first-child::after {align-self: flex-end;width: 50%;}#sk-container-id-1 div.sk-parallel-item:last-child::after {align-self: flex-start;width: 50%;}#sk-container-id-1 div.sk-parallel-item:only-child::after {width: 0;}#sk-container-id-1 div.sk-dashed-wrapped {border: 1px dashed gray;margin: 0 0.4em 0.5em 0.4em;box-sizing: border-box;padding-bottom: 0.4em;background-color: white;}#sk-container-id-1 div.sk-label label {font-family: monospace;font-weight: bold;display: inline-block;line-height: 1.2em;}#sk-container-id-1 div.sk-label-container {text-align: center;}#sk-container-id-1 div.sk-container {/* jupyter's `normalize.less` sets `[hidden] { display: none; }` but bootstrap.min.css set `[hidden] { display: none !important; }` so we also need the `!important` here to be able to override the default hidden behavior on the sphinx rendered scikit-learn.org. See: https://github.com/scikit-learn/scikit-learn/issues/21755 */display: inline-block !important;position: relative;}#sk-container-id-1 div.sk-text-repr-fallback {display: none;}</style><div id=\"sk-container-id-1\" class=\"sk-top-container\"><div class=\"sk-text-repr-fallback\"><pre>Pipeline(steps=[(&#x27;scale&#x27;, None), (&#x27;model&#x27;, RandomForestClassifier(n_jobs=-1))])</pre><b>In a Jupyter environment, please rerun this cell to show the HTML representation or trust the notebook. <br />On GitHub, the HTML representation is unable to render, please try loading this page with nbviewer.org.</b></div><div class=\"sk-container\" hidden><div class=\"sk-item sk-dashed-wrapped\"><div class=\"sk-label-container\"><div class=\"sk-label sk-toggleable\"><input class=\"sk-toggleable__control sk-hidden--visually\" id=\"sk-estimator-id-1\" type=\"checkbox\" ><label for=\"sk-estimator-id-1\" class=\"sk-toggleable__label sk-toggleable__label-arrow\">Pipeline</label><div class=\"sk-toggleable__content\"><pre>Pipeline(steps=[(&#x27;scale&#x27;, None), (&#x27;model&#x27;, RandomForestClassifier(n_jobs=-1))])</pre></div></div></div><div class=\"sk-serial\"><div class=\"sk-item\"><div class=\"sk-estimator sk-toggleable\"><input class=\"sk-toggleable__control sk-hidden--visually\" id=\"sk-estimator-id-2\" type=\"checkbox\" ><label for=\"sk-estimator-id-2\" class=\"sk-toggleable__label sk-toggleable__label-arrow\">None</label><div class=\"sk-toggleable__content\"><pre>None</pre></div></div></div><div class=\"sk-item\"><div class=\"sk-estimator sk-toggleable\"><input class=\"sk-toggleable__control sk-hidden--visually\" id=\"sk-estimator-id-3\" type=\"checkbox\" ><label for=\"sk-estimator-id-3\" class=\"sk-toggleable__label sk-toggleable__label-arrow\">RandomForestClassifier</label><div class=\"sk-toggleable__content\"><pre>RandomForestClassifier(n_jobs=-1)</pre></div></div></div></div></div></div></div>"
      ],
      "text/plain": [
       "Pipeline(steps=[('scale', None), ('model', RandomForestClassifier(n_jobs=-1))])"
      ]
     },
     "execution_count": 27,
     "metadata": {},
     "output_type": "execute_result"
    }
   ],
   "source": [
    "model.fit(X_train, y_train.values.ravel())"
   ]
  },
  {
   "cell_type": "code",
   "execution_count": 28,
   "id": "af59f8c0",
   "metadata": {
    "execution": {
     "iopub.execute_input": "2025-07-23T14:36:11.774918Z",
     "iopub.status.busy": "2025-07-23T14:36:11.773912Z",
     "iopub.status.idle": "2025-07-23T14:36:11.780137Z",
     "shell.execute_reply": "2025-07-23T14:36:11.779060Z"
    },
    "papermill": {
     "duration": 0.028782,
     "end_time": "2025-07-23T14:36:11.782007",
     "exception": false,
     "start_time": "2025-07-23T14:36:11.753225",
     "status": "completed"
    },
    "tags": []
   },
   "outputs": [],
   "source": [
    "from fairness_multiverse.universe import predict_w_threshold"
   ]
  },
  {
   "cell_type": "code",
   "execution_count": 29,
   "id": "a7cf2e16",
   "metadata": {
    "execution": {
     "iopub.execute_input": "2025-07-23T14:36:11.821984Z",
     "iopub.status.busy": "2025-07-23T14:36:11.821408Z",
     "iopub.status.idle": "2025-07-23T14:36:13.062290Z",
     "shell.execute_reply": "2025-07-23T14:36:13.061263Z"
    },
    "papermill": {
     "duration": 1.262705,
     "end_time": "2025-07-23T14:36:13.064287",
     "exception": false,
     "start_time": "2025-07-23T14:36:11.801582",
     "status": "completed"
    },
    "tags": []
   },
   "outputs": [
    {
     "data": {
      "text/plain": [
       "0.8673614981607402"
      ]
     },
     "execution_count": 29,
     "metadata": {},
     "output_type": "execute_result"
    }
   ],
   "source": [
    "probs_test = model.predict_proba(X_test)\n",
    "\n",
    "'''\n",
    "Below code returns a boolean array (or binary 0/1 array depending on how it’s used) where each element \n",
    "is True if the probability of class 1 is greater than or equal to the threshold, and False otherwise.\n",
    "'''\n",
    "y_pred_default = predict_w_threshold(probs_test, 0.5)\n",
    "\n",
    "from sklearn.metrics import accuracy_score\n",
    "\n",
    "# Naive prediction\n",
    "accuracy_score(y_true = y_true, y_pred = y_pred_default)"
   ]
  },
  {
   "cell_type": "code",
   "execution_count": 30,
   "id": "081964c3",
   "metadata": {
    "execution": {
     "iopub.execute_input": "2025-07-23T14:36:13.098852Z",
     "iopub.status.busy": "2025-07-23T14:36:13.098435Z",
     "iopub.status.idle": "2025-07-23T14:36:14.486689Z",
     "shell.execute_reply": "2025-07-23T14:36:14.485608Z"
    },
    "papermill": {
     "duration": 1.404593,
     "end_time": "2025-07-23T14:36:14.488417",
     "exception": false,
     "start_time": "2025-07-23T14:36:13.083824",
     "status": "completed"
    },
    "tags": []
   },
   "outputs": [
    {
     "data": {
      "text/plain": [
       "array([0, 0, 0, ..., 0, 0, 0])"
      ]
     },
     "execution_count": 30,
     "metadata": {},
     "output_type": "execute_result"
    }
   ],
   "source": [
    "model.predict(X_test)"
   ]
  },
  {
   "cell_type": "markdown",
   "id": "56c9705b",
   "metadata": {
    "papermill": {
     "duration": 0.018844,
     "end_time": "2025-07-23T14:36:14.527191",
     "exception": false,
     "start_time": "2025-07-23T14:36:14.508347",
     "status": "completed"
    },
    "tags": []
   },
   "source": [
    "# Conformal Prediction"
   ]
  },
  {
   "cell_type": "code",
   "execution_count": 31,
   "id": "160ec6ff",
   "metadata": {
    "execution": {
     "iopub.execute_input": "2025-07-23T14:36:14.567900Z",
     "iopub.status.busy": "2025-07-23T14:36:14.567017Z",
     "iopub.status.idle": "2025-07-23T14:36:14.572602Z",
     "shell.execute_reply": "2025-07-23T14:36:14.571509Z"
    },
    "papermill": {
     "duration": 0.028249,
     "end_time": "2025-07-23T14:36:14.574536",
     "exception": false,
     "start_time": "2025-07-23T14:36:14.546287",
     "status": "completed"
    },
    "tags": []
   },
   "outputs": [],
   "source": [
    "# Miscoverage level for conformal prediction (10% allowed error rate => 90% target coverage)\n",
    "alpha = 0.1"
   ]
  },
  {
   "cell_type": "code",
   "execution_count": 32,
   "id": "eadf4555-3dd3-440e-8e35-f82a4ad9f855",
   "metadata": {
    "execution": {
     "iopub.execute_input": "2025-07-23T14:36:14.619284Z",
     "iopub.status.busy": "2025-07-23T14:36:14.618578Z",
     "iopub.status.idle": "2025-07-23T14:36:15.819284Z",
     "shell.execute_reply": "2025-07-23T14:36:15.818494Z"
    },
    "papermill": {
     "duration": 1.225791,
     "end_time": "2025-07-23T14:36:15.821325",
     "exception": false,
     "start_time": "2025-07-23T14:36:14.595534",
     "status": "completed"
    },
    "tags": []
   },
   "outputs": [],
   "source": [
    "probs_calib = model.predict_proba(X_calib)"
   ]
  },
  {
   "cell_type": "code",
   "execution_count": 33,
   "id": "2ed93547-6d5d-4983-9b36-1ecb300da49a",
   "metadata": {
    "execution": {
     "iopub.execute_input": "2025-07-23T14:36:15.867043Z",
     "iopub.status.busy": "2025-07-23T14:36:15.866515Z",
     "iopub.status.idle": "2025-07-23T14:36:15.872988Z",
     "shell.execute_reply": "2025-07-23T14:36:15.871822Z"
    },
    "papermill": {
     "duration": 0.03153,
     "end_time": "2025-07-23T14:36:15.874762",
     "exception": false,
     "start_time": "2025-07-23T14:36:15.843232",
     "status": "completed"
    },
    "tags": []
   },
   "outputs": [],
   "source": [
    "y_calib = y_calib.values.ravel().astype(int)"
   ]
  },
  {
   "cell_type": "code",
   "execution_count": 34,
   "id": "65d1320d-f588-4b38-9072-62af1ae97f7d",
   "metadata": {
    "execution": {
     "iopub.execute_input": "2025-07-23T14:36:15.920121Z",
     "iopub.status.busy": "2025-07-23T14:36:15.919561Z",
     "iopub.status.idle": "2025-07-23T14:36:15.928193Z",
     "shell.execute_reply": "2025-07-23T14:36:15.927071Z"
    },
    "papermill": {
     "duration": 0.033895,
     "end_time": "2025-07-23T14:36:15.930107",
     "exception": false,
     "start_time": "2025-07-23T14:36:15.896212",
     "status": "completed"
    },
    "tags": []
   },
   "outputs": [],
   "source": [
    "from fairness_multiverse.conformal import compute_nc_scores\n",
    "\n",
    "# Compute nonconformity scores on calibration set (1 - probability of true class)\n",
    "nc_scores = compute_nc_scores(probs_calib, y_calib)"
   ]
  },
  {
   "cell_type": "code",
   "execution_count": 35,
   "id": "df3b8ca3-53b7-43d5-9667-7c85da7aeda2",
   "metadata": {
    "execution": {
     "iopub.execute_input": "2025-07-23T14:36:15.976598Z",
     "iopub.status.busy": "2025-07-23T14:36:15.976019Z",
     "iopub.status.idle": "2025-07-23T14:36:15.984519Z",
     "shell.execute_reply": "2025-07-23T14:36:15.983298Z"
    },
    "papermill": {
     "duration": 0.034081,
     "end_time": "2025-07-23T14:36:15.986622",
     "exception": false,
     "start_time": "2025-07-23T14:36:15.952541",
     "status": "completed"
    },
    "tags": []
   },
   "outputs": [],
   "source": [
    "from fairness_multiverse.conformal import find_threshold\n",
    "\n",
    "# Find conformal threshold q_hat for the given alpha (split conformal method)\n",
    "q_hat = find_threshold(nc_scores, alpha)"
   ]
  },
  {
   "cell_type": "code",
   "execution_count": 36,
   "id": "4d29e6c1-0ef6-4aa4-b8fe-4fe79b0d033a",
   "metadata": {
    "execution": {
     "iopub.execute_input": "2025-07-23T14:36:16.034762Z",
     "iopub.status.busy": "2025-07-23T14:36:16.033715Z",
     "iopub.status.idle": "2025-07-23T14:36:16.040604Z",
     "shell.execute_reply": "2025-07-23T14:36:16.039638Z"
    },
    "papermill": {
     "duration": 0.033188,
     "end_time": "2025-07-23T14:36:16.042163",
     "exception": false,
     "start_time": "2025-07-23T14:36:16.008975",
     "status": "completed"
    },
    "tags": []
   },
   "outputs": [
    {
     "data": {
      "text/plain": [
       "0.65"
      ]
     },
     "execution_count": 36,
     "metadata": {},
     "output_type": "execute_result"
    }
   ],
   "source": [
    "q_hat"
   ]
  },
  {
   "cell_type": "code",
   "execution_count": 37,
   "id": "92460794-cdac-4be2-ba28-f28c0515a6fb",
   "metadata": {
    "execution": {
     "iopub.execute_input": "2025-07-23T14:36:16.066142Z",
     "iopub.status.busy": "2025-07-23T14:36:16.065776Z",
     "iopub.status.idle": "2025-07-23T14:36:17.860203Z",
     "shell.execute_reply": "2025-07-23T14:36:17.859358Z"
    },
    "papermill": {
     "duration": 1.807903,
     "end_time": "2025-07-23T14:36:17.861793",
     "exception": false,
     "start_time": "2025-07-23T14:36:16.053890",
     "status": "completed"
    },
    "tags": []
   },
   "outputs": [],
   "source": [
    "from fairness_multiverse.conformal import predict_conformal_sets\n",
    "\n",
    "# Generate prediction sets for each test example\n",
    "pred_sets = predict_conformal_sets(model, X_test, q_hat)"
   ]
  },
  {
   "cell_type": "code",
   "execution_count": 38,
   "id": "d90c9a65-e6db-4f5d-80cd-e68fb7e46829",
   "metadata": {
    "execution": {
     "iopub.execute_input": "2025-07-23T14:36:17.899720Z",
     "iopub.status.busy": "2025-07-23T14:36:17.899051Z",
     "iopub.status.idle": "2025-07-23T14:36:17.904064Z",
     "shell.execute_reply": "2025-07-23T14:36:17.903183Z"
    },
    "papermill": {
     "duration": 0.020674,
     "end_time": "2025-07-23T14:36:17.905926",
     "exception": false,
     "start_time": "2025-07-23T14:36:17.885252",
     "status": "completed"
    },
    "tags": []
   },
   "outputs": [],
   "source": [
    "y_true = y_true.squeeze()"
   ]
  },
  {
   "cell_type": "code",
   "execution_count": 39,
   "id": "3a58a54a-1e68-46b9-927a-df01f18aebc8",
   "metadata": {
    "execution": {
     "iopub.execute_input": "2025-07-23T14:36:17.952738Z",
     "iopub.status.busy": "2025-07-23T14:36:17.952314Z",
     "iopub.status.idle": "2025-07-23T14:36:19.440336Z",
     "shell.execute_reply": "2025-07-23T14:36:19.438926Z"
    },
    "papermill": {
     "duration": 1.513742,
     "end_time": "2025-07-23T14:36:19.442902",
     "exception": false,
     "start_time": "2025-07-23T14:36:17.929160",
     "status": "completed"
    },
    "tags": []
   },
   "outputs": [],
   "source": [
    "from fairness_multiverse.conformal import evaluate_sets\n",
    "\n",
    "# Evaluate coverage and average set size on test data\n",
    "metrics = evaluate_sets(pred_sets, y_true)"
   ]
  },
  {
   "cell_type": "code",
   "execution_count": 40,
   "id": "5ce0a5cb-201f-45a0-ade5-94c7f0bd6095",
   "metadata": {
    "execution": {
     "iopub.execute_input": "2025-07-23T14:36:19.507970Z",
     "iopub.status.busy": "2025-07-23T14:36:19.506848Z",
     "iopub.status.idle": "2025-07-23T14:36:19.515567Z",
     "shell.execute_reply": "2025-07-23T14:36:19.514568Z"
    },
    "papermill": {
     "duration": 0.049858,
     "end_time": "2025-07-23T14:36:19.517447",
     "exception": false,
     "start_time": "2025-07-23T14:36:19.467589",
     "status": "completed"
    },
    "tags": []
   },
   "outputs": [
    {
     "data": {
      "text/plain": [
       "{'coverage': 0.9155723999554118, 'avg_size': 1.1419908594359602}"
      ]
     },
     "execution_count": 40,
     "metadata": {},
     "output_type": "execute_result"
    }
   ],
   "source": [
    "metrics"
   ]
  },
  {
   "cell_type": "code",
   "execution_count": 41,
   "id": "9b9a838d-31c9-430b-ae14-12baee460d17",
   "metadata": {
    "execution": {
     "iopub.execute_input": "2025-07-23T14:36:19.606744Z",
     "iopub.status.busy": "2025-07-23T14:36:19.605641Z",
     "iopub.status.idle": "2025-07-23T14:36:19.612902Z",
     "shell.execute_reply": "2025-07-23T14:36:19.611674Z"
    },
    "papermill": {
     "duration": 0.045978,
     "end_time": "2025-07-23T14:36:19.615218",
     "exception": false,
     "start_time": "2025-07-23T14:36:19.569240",
     "status": "completed"
    },
    "tags": []
   },
   "outputs": [],
   "source": [
    "example_universe = universe.copy()\n",
    "universe_model = example_universe.get(\"model\")\n",
    "universe_exclude_features = example_universe.get(\"exclude_features\")\n",
    "universe_exclude_subgroups = example_universe.get(\"exclude_subgroups\")\n",
    "universe_scale = example_universe.get(\"scale\")"
   ]
  },
  {
   "cell_type": "code",
   "execution_count": 42,
   "id": "f4b6a8ac-9dc0-4245-8a91-5b3b5999c4f9",
   "metadata": {
    "execution": {
     "iopub.execute_input": "2025-07-23T14:36:19.666618Z",
     "iopub.status.busy": "2025-07-23T14:36:19.666134Z",
     "iopub.status.idle": "2025-07-23T14:36:19.674220Z",
     "shell.execute_reply": "2025-07-23T14:36:19.672825Z"
    },
    "papermill": {
     "duration": 0.036169,
     "end_time": "2025-07-23T14:36:19.678251",
     "exception": false,
     "start_time": "2025-07-23T14:36:19.642082",
     "status": "completed"
    },
    "tags": []
   },
   "outputs": [],
   "source": [
    "cp_metrics_dict = {\n",
    "    \"universe_id\": [universe_id],\n",
    "    \"universe_model\": [universe_model],\n",
    "    \"universe_exclude_features\": [universe_exclude_features],\n",
    "    \"universe_exclude_subgroups\": [universe_exclude_subgroups],\n",
    "    \"universe_scale\": [universe_scale],\n",
    "    \"q_hat\": [q_hat],\n",
    "    \"coverage\": [metrics[\"coverage\"]],\n",
    "    \"avg_size\": [metrics[\"avg_size\"]],\n",
    "}"
   ]
  },
  {
   "cell_type": "code",
   "execution_count": 43,
   "id": "908acbb1-0371-4915-85ca-3fa520d2efe2",
   "metadata": {
    "execution": {
     "iopub.execute_input": "2025-07-23T14:36:19.741984Z",
     "iopub.status.busy": "2025-07-23T14:36:19.741506Z",
     "iopub.status.idle": "2025-07-23T14:36:19.750255Z",
     "shell.execute_reply": "2025-07-23T14:36:19.748956Z"
    },
    "papermill": {
     "duration": 0.046473,
     "end_time": "2025-07-23T14:36:19.752634",
     "exception": false,
     "start_time": "2025-07-23T14:36:19.706161",
     "status": "completed"
    },
    "tags": []
   },
   "outputs": [
    {
     "data": {
      "text/plain": [
       "{'universe_id': ['8fa529911a6b9915e58035aaf834724b'],\n",
       " 'universe_model': ['rf'],\n",
       " 'universe_exclude_features': ['none'],\n",
       " 'universe_exclude_subgroups': ['keep-all'],\n",
       " 'universe_scale': ['do-not-scale'],\n",
       " 'q_hat': [0.65],\n",
       " 'coverage': [0.9155723999554118],\n",
       " 'avg_size': [1.1419908594359602]}"
      ]
     },
     "execution_count": 43,
     "metadata": {},
     "output_type": "execute_result"
    }
   ],
   "source": [
    "cp_metrics_dict"
   ]
  },
  {
   "cell_type": "code",
   "execution_count": 44,
   "id": "33007efc-14e9-4ec6-97ac-56a455c82265",
   "metadata": {
    "execution": {
     "iopub.execute_input": "2025-07-23T14:36:19.836785Z",
     "iopub.status.busy": "2025-07-23T14:36:19.836311Z",
     "iopub.status.idle": "2025-07-23T14:36:19.844010Z",
     "shell.execute_reply": "2025-07-23T14:36:19.842926Z"
    },
    "papermill": {
     "duration": 0.037576,
     "end_time": "2025-07-23T14:36:19.845919",
     "exception": false,
     "start_time": "2025-07-23T14:36:19.808343",
     "status": "completed"
    },
    "tags": []
   },
   "outputs": [],
   "source": [
    "cp_metrics_df = pd.DataFrame(cp_metrics_dict)"
   ]
  },
  {
   "cell_type": "code",
   "execution_count": 45,
   "id": "db12611b-57b2-4910-b9d0-355adfd6e7bf",
   "metadata": {
    "execution": {
     "iopub.execute_input": "2025-07-23T14:36:19.945007Z",
     "iopub.status.busy": "2025-07-23T14:36:19.944455Z",
     "iopub.status.idle": "2025-07-23T14:36:19.977903Z",
     "shell.execute_reply": "2025-07-23T14:36:19.976635Z"
    },
    "papermill": {
     "duration": 0.084199,
     "end_time": "2025-07-23T14:36:19.980200",
     "exception": false,
     "start_time": "2025-07-23T14:36:19.896001",
     "status": "completed"
    },
    "tags": []
   },
   "outputs": [
    {
     "data": {
      "text/html": [
       "<div>\n",
       "<style scoped>\n",
       "    .dataframe tbody tr th:only-of-type {\n",
       "        vertical-align: middle;\n",
       "    }\n",
       "\n",
       "    .dataframe tbody tr th {\n",
       "        vertical-align: top;\n",
       "    }\n",
       "\n",
       "    .dataframe thead th {\n",
       "        text-align: right;\n",
       "    }\n",
       "</style>\n",
       "<table border=\"1\" class=\"dataframe\">\n",
       "  <thead>\n",
       "    <tr style=\"text-align: right;\">\n",
       "      <th></th>\n",
       "      <th>universe_id</th>\n",
       "      <th>universe_model</th>\n",
       "      <th>universe_exclude_features</th>\n",
       "      <th>universe_exclude_subgroups</th>\n",
       "      <th>universe_scale</th>\n",
       "      <th>q_hat</th>\n",
       "      <th>coverage</th>\n",
       "      <th>avg_size</th>\n",
       "    </tr>\n",
       "  </thead>\n",
       "  <tbody>\n",
       "    <tr>\n",
       "      <th>0</th>\n",
       "      <td>8fa529911a6b9915e58035aaf834724b</td>\n",
       "      <td>rf</td>\n",
       "      <td>none</td>\n",
       "      <td>keep-all</td>\n",
       "      <td>do-not-scale</td>\n",
       "      <td>0.65</td>\n",
       "      <td>0.915572</td>\n",
       "      <td>1.141991</td>\n",
       "    </tr>\n",
       "  </tbody>\n",
       "</table>\n",
       "</div>"
      ],
      "text/plain": [
       "                        universe_id universe_model universe_exclude_features  \\\n",
       "0  8fa529911a6b9915e58035aaf834724b             rf                      none   \n",
       "\n",
       "  universe_exclude_subgroups universe_scale  q_hat  coverage  avg_size  \n",
       "0                   keep-all   do-not-scale   0.65  0.915572  1.141991  "
      ]
     },
     "execution_count": 45,
     "metadata": {},
     "output_type": "execute_result"
    }
   ],
   "source": [
    "cp_metrics_df"
   ]
  },
  {
   "cell_type": "code",
   "execution_count": 46,
   "id": "b7fbde55-a0a1-47e4-9af6-fe4a17fa8c61",
   "metadata": {
    "execution": {
     "iopub.execute_input": "2025-07-23T14:36:20.075111Z",
     "iopub.status.busy": "2025-07-23T14:36:20.074654Z",
     "iopub.status.idle": "2025-07-23T14:36:20.081093Z",
     "shell.execute_reply": "2025-07-23T14:36:20.080108Z"
    },
    "papermill": {
     "duration": 0.05103,
     "end_time": "2025-07-23T14:36:20.084189",
     "exception": false,
     "start_time": "2025-07-23T14:36:20.033159",
     "status": "completed"
    },
    "tags": []
   },
   "outputs": [],
   "source": [
    "# Conditional Coverage & looking at subgroups"
   ]
  },
  {
   "cell_type": "code",
   "execution_count": 47,
   "id": "027ae886-68dd-4141-96c7-805a5450e1ef",
   "metadata": {
    "execution": {
     "iopub.execute_input": "2025-07-23T14:36:20.150091Z",
     "iopub.status.busy": "2025-07-23T14:36:20.149633Z",
     "iopub.status.idle": "2025-07-23T14:36:20.622683Z",
     "shell.execute_reply": "2025-07-23T14:36:20.617201Z"
    },
    "papermill": {
     "duration": 0.501411,
     "end_time": "2025-07-23T14:36:20.625163",
     "exception": false,
     "start_time": "2025-07-23T14:36:20.123752",
     "status": "completed"
    },
    "tags": []
   },
   "outputs": [],
   "source": [
    "from fairness_multiverse.conformal import build_cp_groups\n",
    "\n",
    "cp_groups_df = build_cp_groups(pred_sets, y_true, X_test.index, org_test)\n",
    "#needs universe_id and setting"
   ]
  },
  {
   "cell_type": "code",
   "execution_count": 48,
   "id": "c3b92545-903e-4839-89af-0f057907d7d6",
   "metadata": {
    "execution": {
     "iopub.execute_input": "2025-07-23T14:36:20.731587Z",
     "iopub.status.busy": "2025-07-23T14:36:20.731129Z",
     "iopub.status.idle": "2025-07-23T14:36:23.801867Z",
     "shell.execute_reply": "2025-07-23T14:36:23.800629Z"
    },
    "papermill": {
     "duration": 3.145416,
     "end_time": "2025-07-23T14:36:23.804024",
     "exception": false,
     "start_time": "2025-07-23T14:36:20.658608",
     "status": "completed"
    },
    "tags": []
   },
   "outputs": [],
   "source": [
    "# Define covered = 1 if true_label is in the predicted set\n",
    "cp_groups_df['covered'] = cp_groups_df.apply(\n",
    "    lambda r: int(r['true_label'] in r['pred_set']),\n",
    "    axis=1\n",
    ")"
   ]
  },
  {
   "cell_type": "code",
   "execution_count": 49,
   "id": "338ff529-1a6b-4b87-a931-8e4788d52aad",
   "metadata": {
    "execution": {
     "iopub.execute_input": "2025-07-23T14:36:23.901088Z",
     "iopub.status.busy": "2025-07-23T14:36:23.900575Z",
     "iopub.status.idle": "2025-07-23T14:36:23.906555Z",
     "shell.execute_reply": "2025-07-23T14:36:23.905211Z"
    },
    "papermill": {
     "duration": 0.049426,
     "end_time": "2025-07-23T14:36:23.908618",
     "exception": false,
     "start_time": "2025-07-23T14:36:23.859192",
     "status": "completed"
    },
    "tags": []
   },
   "outputs": [],
   "source": [
    "#cp_groups_df"
   ]
  },
  {
   "cell_type": "code",
   "execution_count": 50,
   "id": "90032e27-66df-4540-9169-4e89cfbaa758",
   "metadata": {
    "execution": {
     "iopub.execute_input": "2025-07-23T14:36:24.011895Z",
     "iopub.status.busy": "2025-07-23T14:36:24.011430Z",
     "iopub.status.idle": "2025-07-23T14:36:24.031686Z",
     "shell.execute_reply": "2025-07-23T14:36:24.030503Z"
    },
    "papermill": {
     "duration": 0.073025,
     "end_time": "2025-07-23T14:36:24.034132",
     "exception": false,
     "start_time": "2025-07-23T14:36:23.961107",
     "status": "completed"
    },
    "tags": []
   },
   "outputs": [],
   "source": [
    "subgroups = ['frau1','nongerman','nongerman_male','nongerman_female']\n",
    "\n",
    "# Conditional coverage for subgroup==1\n",
    "cond_coverage = {\n",
    "    g: cp_groups_df.loc[cp_groups_df[g]==1, 'covered'].mean()\n",
    "    for g in subgroups\n",
    "}"
   ]
  },
  {
   "cell_type": "code",
   "execution_count": 51,
   "id": "1e348fb1-b9c3-45bc-ba23-f016827a7e0d",
   "metadata": {
    "execution": {
     "iopub.execute_input": "2025-07-23T14:36:24.128059Z",
     "iopub.status.busy": "2025-07-23T14:36:24.127619Z",
     "iopub.status.idle": "2025-07-23T14:36:24.136018Z",
     "shell.execute_reply": "2025-07-23T14:36:24.134850Z"
    },
    "papermill": {
     "duration": 0.056258,
     "end_time": "2025-07-23T14:36:24.141414",
     "exception": false,
     "start_time": "2025-07-23T14:36:24.085156",
     "status": "completed"
    },
    "tags": []
   },
   "outputs": [
    {
     "data": {
      "text/plain": [
       "{'frau1': 0.9158107561665992,\n",
       " 'nongerman': 0.9128726211194071,\n",
       " 'nongerman_male': 0.9267765468792218,\n",
       " 'nongerman_female': 0.889865871833085}"
      ]
     },
     "execution_count": 51,
     "metadata": {},
     "output_type": "execute_result"
    }
   ],
   "source": [
    "cond_coverage"
   ]
  },
  {
   "cell_type": "code",
   "execution_count": 52,
   "id": "f5093324-c3dd-4d63-bc4c-8d945e5c8bbb",
   "metadata": {
    "execution": {
     "iopub.execute_input": "2025-07-23T14:36:24.198985Z",
     "iopub.status.busy": "2025-07-23T14:36:24.198503Z",
     "iopub.status.idle": "2025-07-23T14:36:24.206776Z",
     "shell.execute_reply": "2025-07-23T14:36:24.205586Z"
    },
    "papermill": {
     "duration": 0.037086,
     "end_time": "2025-07-23T14:36:24.210583",
     "exception": false,
     "start_time": "2025-07-23T14:36:24.173497",
     "status": "completed"
    },
    "tags": []
   },
   "outputs": [],
   "source": [
    "for subgroup, cov in cond_coverage.items():\n",
    "    cp_metrics_df[f\"cov_{subgroup}\"] = cov"
   ]
  },
  {
   "cell_type": "code",
   "execution_count": 53,
   "id": "6e872e10-dbe5-49e8-b554-5030c98ff75d",
   "metadata": {
    "execution": {
     "iopub.execute_input": "2025-07-23T14:36:24.323120Z",
     "iopub.status.busy": "2025-07-23T14:36:24.322660Z",
     "iopub.status.idle": "2025-07-23T14:36:24.365846Z",
     "shell.execute_reply": "2025-07-23T14:36:24.364627Z"
    },
    "papermill": {
     "duration": 0.09498,
     "end_time": "2025-07-23T14:36:24.368082",
     "exception": false,
     "start_time": "2025-07-23T14:36:24.273102",
     "status": "completed"
    },
    "tags": []
   },
   "outputs": [
    {
     "data": {
      "text/html": [
       "<div>\n",
       "<style scoped>\n",
       "    .dataframe tbody tr th:only-of-type {\n",
       "        vertical-align: middle;\n",
       "    }\n",
       "\n",
       "    .dataframe tbody tr th {\n",
       "        vertical-align: top;\n",
       "    }\n",
       "\n",
       "    .dataframe thead th {\n",
       "        text-align: right;\n",
       "    }\n",
       "</style>\n",
       "<table border=\"1\" class=\"dataframe\">\n",
       "  <thead>\n",
       "    <tr style=\"text-align: right;\">\n",
       "      <th></th>\n",
       "      <th>universe_id</th>\n",
       "      <th>universe_model</th>\n",
       "      <th>universe_exclude_features</th>\n",
       "      <th>universe_exclude_subgroups</th>\n",
       "      <th>universe_scale</th>\n",
       "      <th>q_hat</th>\n",
       "      <th>coverage</th>\n",
       "      <th>avg_size</th>\n",
       "      <th>cov_frau1</th>\n",
       "      <th>cov_nongerman</th>\n",
       "      <th>cov_nongerman_male</th>\n",
       "      <th>cov_nongerman_female</th>\n",
       "    </tr>\n",
       "  </thead>\n",
       "  <tbody>\n",
       "    <tr>\n",
       "      <th>0</th>\n",
       "      <td>8fa529911a6b9915e58035aaf834724b</td>\n",
       "      <td>rf</td>\n",
       "      <td>none</td>\n",
       "      <td>keep-all</td>\n",
       "      <td>do-not-scale</td>\n",
       "      <td>0.65</td>\n",
       "      <td>0.915572</td>\n",
       "      <td>1.141991</td>\n",
       "      <td>0.915811</td>\n",
       "      <td>0.912873</td>\n",
       "      <td>0.926777</td>\n",
       "      <td>0.889866</td>\n",
       "    </tr>\n",
       "  </tbody>\n",
       "</table>\n",
       "</div>"
      ],
      "text/plain": [
       "                        universe_id universe_model universe_exclude_features  \\\n",
       "0  8fa529911a6b9915e58035aaf834724b             rf                      none   \n",
       "\n",
       "  universe_exclude_subgroups universe_scale  q_hat  coverage  avg_size  \\\n",
       "0                   keep-all   do-not-scale   0.65  0.915572  1.141991   \n",
       "\n",
       "   cov_frau1  cov_nongerman  cov_nongerman_male  cov_nongerman_female  \n",
       "0   0.915811       0.912873            0.926777              0.889866  "
      ]
     },
     "execution_count": 53,
     "metadata": {},
     "output_type": "execute_result"
    }
   ],
   "source": [
    "cp_metrics_df"
   ]
  },
  {
   "cell_type": "markdown",
   "id": "33774451",
   "metadata": {
    "papermill": {
     "duration": 0.072684,
     "end_time": "2025-07-23T14:36:24.513854",
     "exception": false,
     "start_time": "2025-07-23T14:36:24.441170",
     "status": "completed"
    },
    "tags": []
   },
   "source": [
    "# (Fairness) Metrics"
   ]
  },
  {
   "cell_type": "code",
   "execution_count": 54,
   "id": "debc5d62",
   "metadata": {
    "execution": {
     "iopub.execute_input": "2025-07-23T14:36:24.668342Z",
     "iopub.status.busy": "2025-07-23T14:36:24.667900Z",
     "iopub.status.idle": "2025-07-23T14:36:24.732597Z",
     "shell.execute_reply": "2025-07-23T14:36:24.731452Z"
    },
    "papermill": {
     "duration": 0.141779,
     "end_time": "2025-07-23T14:36:24.734830",
     "exception": false,
     "start_time": "2025-07-23T14:36:24.593051",
     "status": "completed"
    },
    "tags": []
   },
   "outputs": [],
   "source": [
    "# do I need to include maxdeutsch1.missing?\n",
    "\n",
    "import numpy as np\n",
    "\n",
    "colname_to_bin = \"maxdeutsch1\"\n",
    "majority_value = org_train[colname_to_bin].mode()[0]\n",
    "\n",
    "org_test[\"majmin\"] = np.where(org_test[colname_to_bin] == majority_value, \"majority\", \"minority\")"
   ]
  },
  {
   "cell_type": "code",
   "execution_count": 55,
   "id": "06a50de5",
   "metadata": {
    "execution": {
     "iopub.execute_input": "2025-07-23T14:36:24.859671Z",
     "iopub.status.busy": "2025-07-23T14:36:24.859243Z",
     "iopub.status.idle": "2025-07-23T14:36:30.203886Z",
     "shell.execute_reply": "2025-07-23T14:36:30.202721Z"
    },
    "papermill": {
     "duration": 5.40543,
     "end_time": "2025-07-23T14:36:30.206604",
     "exception": false,
     "start_time": "2025-07-23T14:36:24.801174",
     "status": "completed"
    },
    "tags": []
   },
   "outputs": [],
   "source": [
    "example_universe = universe.copy()\n",
    "example_universe[\"cutoff\"] = example_universe[\"cutoff\"][0]\n",
    "example_universe[\"eval_fairness_grouping\"] = example_universe[\"eval_fairness_grouping\"][0]\n",
    "fairness_dict, metric_frame = universe_analysis.compute_metrics(\n",
    "    example_universe,\n",
    "    y_pred_prob=probs_test,\n",
    "    y_test=y_true,\n",
    "    org_test=org_test,\n",
    ")"
   ]
  },
  {
   "cell_type": "markdown",
   "id": "f95d4e02",
   "metadata": {
    "papermill": {
     "duration": 0.047287,
     "end_time": "2025-07-23T14:36:30.336120",
     "exception": false,
     "start_time": "2025-07-23T14:36:30.288833",
     "status": "completed"
    },
    "tags": []
   },
   "source": [
    "# Overall"
   ]
  },
  {
   "cell_type": "markdown",
   "id": "bdee4871",
   "metadata": {
    "papermill": {
     "duration": 0.052157,
     "end_time": "2025-07-23T14:36:30.445293",
     "exception": false,
     "start_time": "2025-07-23T14:36:30.393136",
     "status": "completed"
    },
    "tags": []
   },
   "source": [
    "Fairness\n",
    "Main fairness target: Equalized Odds. Seems to be a better fit than equal opportunity, since we're not only interested in Y = 1. Seems to be a better fit than demographic parity, since we also care about accuracy, not just equal distribution of preds.\n",
    "\n",
    "Pick column for computation of fairness metrics\n",
    "\n",
    "Performance\n",
    "Overall performance measures, most interesting in relation to the measures split by group below"
   ]
  },
  {
   "cell_type": "code",
   "execution_count": 56,
   "id": "c4e067c6",
   "metadata": {
    "execution": {
     "iopub.execute_input": "2025-07-23T14:36:30.550591Z",
     "iopub.status.busy": "2025-07-23T14:36:30.549983Z",
     "iopub.status.idle": "2025-07-23T14:36:30.571481Z",
     "shell.execute_reply": "2025-07-23T14:36:30.569804Z"
    },
    "papermill": {
     "duration": 0.081564,
     "end_time": "2025-07-23T14:36:30.574704",
     "exception": false,
     "start_time": "2025-07-23T14:36:30.493140",
     "status": "completed"
    },
    "tags": []
   },
   "outputs": [
    {
     "data": {
      "text/plain": [
       "accuracy                   0.197837\n",
       "balanced accuracy          0.530930\n",
       "f1                         0.238449\n",
       "precision                  0.135758\n",
       "false positive rate        0.917112\n",
       "false negative rate        0.021029\n",
       "selection rate             0.925047\n",
       "count                  89710.000000\n",
       "dtype: float64"
      ]
     },
     "execution_count": 56,
     "metadata": {},
     "output_type": "execute_result"
    }
   ],
   "source": [
    "metric_frame.overall"
   ]
  },
  {
   "cell_type": "markdown",
   "id": "e968fe9d",
   "metadata": {
    "papermill": {
     "duration": 0.05528,
     "end_time": "2025-07-23T14:36:30.689421",
     "exception": false,
     "start_time": "2025-07-23T14:36:30.634141",
     "status": "completed"
    },
    "tags": []
   },
   "source": [
    "By Group"
   ]
  },
  {
   "cell_type": "code",
   "execution_count": 57,
   "id": "ec325bce",
   "metadata": {
    "execution": {
     "iopub.execute_input": "2025-07-23T14:36:30.803868Z",
     "iopub.status.busy": "2025-07-23T14:36:30.803405Z",
     "iopub.status.idle": "2025-07-23T14:36:30.850075Z",
     "shell.execute_reply": "2025-07-23T14:36:30.848657Z"
    },
    "papermill": {
     "duration": 0.111566,
     "end_time": "2025-07-23T14:36:30.852658",
     "exception": false,
     "start_time": "2025-07-23T14:36:30.741092",
     "status": "completed"
    },
    "tags": []
   },
   "outputs": [
    {
     "data": {
      "text/html": [
       "<div>\n",
       "<style scoped>\n",
       "    .dataframe tbody tr th:only-of-type {\n",
       "        vertical-align: middle;\n",
       "    }\n",
       "\n",
       "    .dataframe tbody tr th {\n",
       "        vertical-align: top;\n",
       "    }\n",
       "\n",
       "    .dataframe thead th {\n",
       "        text-align: right;\n",
       "    }\n",
       "</style>\n",
       "<table border=\"1\" class=\"dataframe\">\n",
       "  <thead>\n",
       "    <tr style=\"text-align: right;\">\n",
       "      <th></th>\n",
       "      <th>accuracy</th>\n",
       "      <th>balanced accuracy</th>\n",
       "      <th>f1</th>\n",
       "      <th>precision</th>\n",
       "      <th>false positive rate</th>\n",
       "      <th>false negative rate</th>\n",
       "      <th>selection rate</th>\n",
       "      <th>count</th>\n",
       "    </tr>\n",
       "    <tr>\n",
       "      <th>majmin</th>\n",
       "      <th></th>\n",
       "      <th></th>\n",
       "      <th></th>\n",
       "      <th></th>\n",
       "      <th></th>\n",
       "      <th></th>\n",
       "      <th></th>\n",
       "      <th></th>\n",
       "    </tr>\n",
       "  </thead>\n",
       "  <tbody>\n",
       "    <tr>\n",
       "      <th>majority</th>\n",
       "      <td>0.185977</td>\n",
       "      <td>0.527679</td>\n",
       "      <td>0.243626</td>\n",
       "      <td>0.138863</td>\n",
       "      <td>0.936765</td>\n",
       "      <td>0.007877</td>\n",
       "      <td>0.944080</td>\n",
       "      <td>69170.0</td>\n",
       "    </tr>\n",
       "    <tr>\n",
       "      <th>minority</th>\n",
       "      <td>0.237780</td>\n",
       "      <td>0.538010</td>\n",
       "      <td>0.219230</td>\n",
       "      <td>0.124293</td>\n",
       "      <td>0.852190</td>\n",
       "      <td>0.071791</td>\n",
       "      <td>0.860954</td>\n",
       "      <td>20540.0</td>\n",
       "    </tr>\n",
       "  </tbody>\n",
       "</table>\n",
       "</div>"
      ],
      "text/plain": [
       "          accuracy  balanced accuracy        f1  precision  \\\n",
       "majmin                                                       \n",
       "majority  0.185977           0.527679  0.243626   0.138863   \n",
       "minority  0.237780           0.538010  0.219230   0.124293   \n",
       "\n",
       "          false positive rate  false negative rate  selection rate    count  \n",
       "majmin                                                                       \n",
       "majority             0.936765             0.007877        0.944080  69170.0  \n",
       "minority             0.852190             0.071791        0.860954  20540.0  "
      ]
     },
     "execution_count": 57,
     "metadata": {},
     "output_type": "execute_result"
    }
   ],
   "source": [
    "metric_frame.by_group"
   ]
  },
  {
   "cell_type": "code",
   "execution_count": 58,
   "id": "a9ddbe63",
   "metadata": {
    "execution": {
     "iopub.execute_input": "2025-07-23T14:36:30.948604Z",
     "iopub.status.busy": "2025-07-23T14:36:30.947980Z",
     "iopub.status.idle": "2025-07-23T14:36:40.828179Z",
     "shell.execute_reply": "2025-07-23T14:36:40.827095Z"
    },
    "papermill": {
     "duration": 9.93675,
     "end_time": "2025-07-23T14:36:40.829924",
     "exception": false,
     "start_time": "2025-07-23T14:36:30.893174",
     "status": "completed"
    },
    "tags": []
   },
   "outputs": [
    {
     "data": {
      "text/plain": [
       "array([[<Axes: title={'center': 'accuracy'}, xlabel='majmin'>,\n",
       "        <Axes: title={'center': 'balanced accuracy'}, xlabel='majmin'>,\n",
       "        <Axes: title={'center': 'f1'}, xlabel='majmin'>],\n",
       "       [<Axes: title={'center': 'precision'}, xlabel='majmin'>,\n",
       "        <Axes: title={'center': 'false positive rate'}, xlabel='majmin'>,\n",
       "        <Axes: title={'center': 'false negative rate'}, xlabel='majmin'>],\n",
       "       [<Axes: title={'center': 'selection rate'}, xlabel='majmin'>,\n",
       "        <Axes: title={'center': 'count'}, xlabel='majmin'>,\n",
       "        <Axes: xlabel='majmin'>]], dtype=object)"
      ]
     },
     "execution_count": 58,
     "metadata": {},
     "output_type": "execute_result"
    },
    {
     "data": {
      "image/png": "[encoded data removed]",
      "text/plain": [
       "<Figure size 1200x800 with 9 Axes>"
      ]
     },
     "metadata": {},
     "output_type": "display_data"
    }
   ],
   "source": [
    "# In a graphic\n",
    "metric_frame.by_group.plot.bar(\n",
    "    subplots=True,\n",
    "    layout=[3, 3],\n",
    "    legend=False,\n",
    "    figsize=[12, 8],\n",
    "    title=\"Show all metrics\",\n",
    ")"
   ]
  },
  {
   "cell_type": "markdown",
   "id": "f57a0bac",
   "metadata": {
    "papermill": {
     "duration": 0.093553,
     "end_time": "2025-07-23T14:36:40.997084",
     "exception": false,
     "start_time": "2025-07-23T14:36:40.903531",
     "status": "completed"
    },
    "tags": []
   },
   "source": [
    "# Final Output"
   ]
  },
  {
   "cell_type": "code",
   "execution_count": 59,
   "id": "96d280a3",
   "metadata": {
    "execution": {
     "iopub.execute_input": "2025-07-23T14:36:41.183147Z",
     "iopub.status.busy": "2025-07-23T14:36:41.182563Z",
     "iopub.status.idle": "2025-07-23T14:36:41.193463Z",
     "shell.execute_reply": "2025-07-23T14:36:41.192439Z"
    },
    "papermill": {
     "duration": 0.118604,
     "end_time": "2025-07-23T14:36:41.195452",
     "exception": false,
     "start_time": "2025-07-23T14:36:41.076848",
     "status": "completed"
    },
    "tags": []
   },
   "outputs": [
    {
     "data": {
      "text/plain": [
       "4"
      ]
     },
     "execution_count": 59,
     "metadata": {},
     "output_type": "execute_result"
    }
   ],
   "source": [
    "sub_universes = universe_analysis.generate_sub_universes()\n",
    "len(sub_universes)"
   ]
  },
  {
   "cell_type": "code",
   "execution_count": 60,
   "id": "92adf7ba",
   "metadata": {
    "execution": {
     "iopub.execute_input": "2025-07-23T14:36:41.273125Z",
     "iopub.status.busy": "2025-07-23T14:36:41.269130Z",
     "iopub.status.idle": "2025-07-23T14:36:41.279674Z",
     "shell.execute_reply": "2025-07-23T14:36:41.278549Z"
    },
    "papermill": {
     "duration": 0.041772,
     "end_time": "2025-07-23T14:36:41.283439",
     "exception": false,
     "start_time": "2025-07-23T14:36:41.241667",
     "status": "completed"
    },
    "tags": []
   },
   "outputs": [],
   "source": [
    "def filter_sub_universe_data(sub_universe, org_test):\n",
    "    # Keep all rows — no filtering\n",
    "    keep_rows_mask = np.ones(org_test.shape[0], dtype=bool)\n",
    "\n",
    "    print(f\"[INFO] Keeping all rows: {keep_rows_mask.sum()} rows retained.\")\n",
    "    return keep_rows_mask"
   ]
  },
  {
   "cell_type": "code",
   "execution_count": 61,
   "id": "4a759155",
   "metadata": {
    "execution": {
     "iopub.execute_input": "2025-07-23T14:36:41.339196Z",
     "iopub.status.busy": "2025-07-23T14:36:41.338729Z",
     "iopub.status.idle": "2025-07-23T14:37:06.253378Z",
     "shell.execute_reply": "2025-07-23T14:37:06.251952Z"
    },
    "papermill": {
     "duration": 24.944391,
     "end_time": "2025-07-23T14:37:06.255772",
     "exception": false,
     "start_time": "2025-07-23T14:36:41.311381",
     "status": "completed"
    },
    "tags": []
   },
   "outputs": [
    {
     "name": "stdout",
     "output_type": "stream",
     "text": [
      "Stopping execution_time clock.\n",
      "[INFO] Keeping all rows: 89710 rows retained.\n"
     ]
    },
    {
     "name": "stdout",
     "output_type": "stream",
     "text": [
      "[INFO] Keeping all rows: 89710 rows retained.\n"
     ]
    },
    {
     "name": "stdout",
     "output_type": "stream",
     "text": [
      "[INFO] Keeping all rows: 89710 rows retained.\n"
     ]
    },
    {
     "name": "stdout",
     "output_type": "stream",
     "text": [
      "[INFO] Keeping all rows: 89710 rows retained.\n"
     ]
    },
    {
     "data": {
      "text/html": [
       "<div>\n",
       "<style scoped>\n",
       "    .dataframe tbody tr th:only-of-type {\n",
       "        vertical-align: middle;\n",
       "    }\n",
       "\n",
       "    .dataframe tbody tr th {\n",
       "        vertical-align: top;\n",
       "    }\n",
       "\n",
       "    .dataframe thead th {\n",
       "        text-align: right;\n",
       "    }\n",
       "</style>\n",
       "<table border=\"1\" class=\"dataframe\">\n",
       "  <thead>\n",
       "    <tr style=\"text-align: right;\">\n",
       "      <th></th>\n",
       "      <th>run_no</th>\n",
       "      <th>universe_id</th>\n",
       "      <th>universe_settings</th>\n",
       "      <th>execution_time</th>\n",
       "      <th>test_size_n</th>\n",
       "      <th>test_size_frac</th>\n",
       "      <th>fair_main_equalized_odds_difference</th>\n",
       "      <th>fair_main_equalized_odds_ratio</th>\n",
       "      <th>fair_main_demographic_parity_difference</th>\n",
       "      <th>fair_main_demographic_parity_ratio</th>\n",
       "      <th>...</th>\n",
       "      <th>perf_grp_precision_0</th>\n",
       "      <th>perf_grp_precision_1</th>\n",
       "      <th>perf_grp_false positive rate_0</th>\n",
       "      <th>perf_grp_false positive rate_1</th>\n",
       "      <th>perf_grp_false negative rate_0</th>\n",
       "      <th>perf_grp_false negative rate_1</th>\n",
       "      <th>perf_grp_selection rate_0</th>\n",
       "      <th>perf_grp_selection rate_1</th>\n",
       "      <th>perf_grp_count_0</th>\n",
       "      <th>perf_grp_count_1</th>\n",
       "    </tr>\n",
       "  </thead>\n",
       "  <tbody>\n",
       "    <tr>\n",
       "      <th>0</th>\n",
       "      <td>9</td>\n",
       "      <td>8fa529911a6b9915e58035aaf834724b</td>\n",
       "      <td>{\"cutoff\": \"quantile_0.1\", \"eval_fairness_grou...</td>\n",
       "      <td>46.021741</td>\n",
       "      <td>89710</td>\n",
       "      <td>1.0</td>\n",
       "      <td>0.084575</td>\n",
       "      <td>0.909716</td>\n",
       "      <td>0.083126</td>\n",
       "      <td>0.911951</td>\n",
       "      <td>...</td>\n",
       "      <td>NaN</td>\n",
       "      <td>NaN</td>\n",
       "      <td>NaN</td>\n",
       "      <td>NaN</td>\n",
       "      <td>NaN</td>\n",
       "      <td>NaN</td>\n",
       "      <td>NaN</td>\n",
       "      <td>NaN</td>\n",
       "      <td>NaN</td>\n",
       "      <td>NaN</td>\n",
       "    </tr>\n",
       "    <tr>\n",
       "      <th>0</th>\n",
       "      <td>9</td>\n",
       "      <td>8fa529911a6b9915e58035aaf834724b</td>\n",
       "      <td>{\"cutoff\": \"quantile_0.1\", \"eval_fairness_grou...</td>\n",
       "      <td>46.021741</td>\n",
       "      <td>89710</td>\n",
       "      <td>1.0</td>\n",
       "      <td>0.084575</td>\n",
       "      <td>0.909716</td>\n",
       "      <td>0.083126</td>\n",
       "      <td>0.911951</td>\n",
       "      <td>...</td>\n",
       "      <td>0.124293</td>\n",
       "      <td>0.138863</td>\n",
       "      <td>0.852190</td>\n",
       "      <td>0.936765</td>\n",
       "      <td>0.071791</td>\n",
       "      <td>0.007877</td>\n",
       "      <td>0.860954</td>\n",
       "      <td>0.944080</td>\n",
       "      <td>20540.0</td>\n",
       "      <td>69170.0</td>\n",
       "    </tr>\n",
       "    <tr>\n",
       "      <th>0</th>\n",
       "      <td>9</td>\n",
       "      <td>8fa529911a6b9915e58035aaf834724b</td>\n",
       "      <td>{\"cutoff\": \"quantile_0.25\", \"eval_fairness_gro...</td>\n",
       "      <td>46.021741</td>\n",
       "      <td>89710</td>\n",
       "      <td>1.0</td>\n",
       "      <td>0.096107</td>\n",
       "      <td>0.881095</td>\n",
       "      <td>0.095806</td>\n",
       "      <td>0.880270</td>\n",
       "      <td>...</td>\n",
       "      <td>NaN</td>\n",
       "      <td>NaN</td>\n",
       "      <td>NaN</td>\n",
       "      <td>NaN</td>\n",
       "      <td>NaN</td>\n",
       "      <td>NaN</td>\n",
       "      <td>NaN</td>\n",
       "      <td>NaN</td>\n",
       "      <td>NaN</td>\n",
       "      <td>NaN</td>\n",
       "    </tr>\n",
       "    <tr>\n",
       "      <th>0</th>\n",
       "      <td>9</td>\n",
       "      <td>8fa529911a6b9915e58035aaf834724b</td>\n",
       "      <td>{\"cutoff\": \"quantile_0.25\", \"eval_fairness_gro...</td>\n",
       "      <td>46.021741</td>\n",
       "      <td>89710</td>\n",
       "      <td>1.0</td>\n",
       "      <td>0.096107</td>\n",
       "      <td>0.881095</td>\n",
       "      <td>0.095806</td>\n",
       "      <td>0.880270</td>\n",
       "      <td>...</td>\n",
       "      <td>0.141692</td>\n",
       "      <td>0.158829</td>\n",
       "      <td>0.683359</td>\n",
       "      <td>0.775579</td>\n",
       "      <td>0.134291</td>\n",
       "      <td>0.038184</td>\n",
       "      <td>0.704382</td>\n",
       "      <td>0.800188</td>\n",
       "      <td>20540.0</td>\n",
       "      <td>69170.0</td>\n",
       "    </tr>\n",
       "  </tbody>\n",
       "</table>\n",
       "<p>4 rows × 50 columns</p>\n",
       "</div>"
      ],
      "text/plain": [
       "  run_no                       universe_id  \\\n",
       "0      9  8fa529911a6b9915e58035aaf834724b   \n",
       "0      9  8fa529911a6b9915e58035aaf834724b   \n",
       "0      9  8fa529911a6b9915e58035aaf834724b   \n",
       "0      9  8fa529911a6b9915e58035aaf834724b   \n",
       "\n",
       "                                   universe_settings  execution_time  \\\n",
       "0  {\"cutoff\": \"quantile_0.1\", \"eval_fairness_grou...       46.021741   \n",
       "0  {\"cutoff\": \"quantile_0.1\", \"eval_fairness_grou...       46.021741   \n",
       "0  {\"cutoff\": \"quantile_0.25\", \"eval_fairness_gro...       46.021741   \n",
       "0  {\"cutoff\": \"quantile_0.25\", \"eval_fairness_gro...       46.021741   \n",
       "\n",
       "   test_size_n  test_size_frac  fair_main_equalized_odds_difference  \\\n",
       "0        89710             1.0                             0.084575   \n",
       "0        89710             1.0                             0.084575   \n",
       "0        89710             1.0                             0.096107   \n",
       "0        89710             1.0                             0.096107   \n",
       "\n",
       "   fair_main_equalized_odds_ratio  fair_main_demographic_parity_difference  \\\n",
       "0                        0.909716                                 0.083126   \n",
       "0                        0.909716                                 0.083126   \n",
       "0                        0.881095                                 0.095806   \n",
       "0                        0.881095                                 0.095806   \n",
       "\n",
       "   fair_main_demographic_parity_ratio  ...  perf_grp_precision_0  \\\n",
       "0                            0.911951  ...                   NaN   \n",
       "0                            0.911951  ...              0.124293   \n",
       "0                            0.880270  ...                   NaN   \n",
       "0                            0.880270  ...              0.141692   \n",
       "\n",
       "   perf_grp_precision_1  perf_grp_false positive rate_0  \\\n",
       "0                   NaN                             NaN   \n",
       "0              0.138863                        0.852190   \n",
       "0                   NaN                             NaN   \n",
       "0              0.158829                        0.683359   \n",
       "\n",
       "   perf_grp_false positive rate_1  perf_grp_false negative rate_0  \\\n",
       "0                             NaN                             NaN   \n",
       "0                        0.936765                        0.071791   \n",
       "0                             NaN                             NaN   \n",
       "0                        0.775579                        0.134291   \n",
       "\n",
       "   perf_grp_false negative rate_1  perf_grp_selection rate_0  \\\n",
       "0                             NaN                        NaN   \n",
       "0                        0.007877                   0.860954   \n",
       "0                             NaN                        NaN   \n",
       "0                        0.038184                   0.704382   \n",
       "\n",
       "   perf_grp_selection rate_1  perf_grp_count_0  perf_grp_count_1  \n",
       "0                        NaN               NaN               NaN  \n",
       "0                   0.944080           20540.0           69170.0  \n",
       "0                        NaN               NaN               NaN  \n",
       "0                   0.800188           20540.0           69170.0  \n",
       "\n",
       "[4 rows x 50 columns]"
      ]
     },
     "execution_count": 61,
     "metadata": {},
     "output_type": "execute_result"
    }
   ],
   "source": [
    "final_output = universe_analysis.generate_final_output(\n",
    "    y_pred_prob=probs_test,\n",
    "    y_test=y_true,\n",
    "    org_test=org_test,\n",
    "    filter_data=filter_sub_universe_data,\n",
    "    cp_metrics_df=cp_metrics_df,\n",
    "    save=True,\n",
    ")\n",
    "final_output"
   ]
  },
  {
   "cell_type": "code",
   "execution_count": null,
   "id": "721ff514-cb11-46f8-b6fc-50392f74b5cb",
   "metadata": {
    "papermill": {
     "duration": 0.032209,
     "end_time": "2025-07-23T14:37:06.325520",
     "exception": false,
     "start_time": "2025-07-23T14:37:06.293311",
     "status": "completed"
    },
    "tags": []
   },
   "outputs": [],
   "source": []
  }
 ],
 "metadata": {
  "celltoolbar": "Tags",
  "kernelspec": {
   "display_name": "Python (CMA Fairness)",
   "language": "python",
   "name": "cma_fair_env"
  },
  "language_info": {
   "codemirror_mode": {
    "name": "ipython",
    "version": 3
   },
   "file_extension": ".py",
   "mimetype": "text/x-python",
   "name": "python",
   "nbconvert_exporter": "python",
   "pygments_lexer": "ipython3",
   "version": "3.10.12"
  },
  "papermill": {
   "default_parameters": {},
   "duration": 75.42084,
   "end_time": "2025-07-23T14:37:07.473204",
   "environment_variables": {},
   "exception": null,
   "input_path": "universe_analysis.ipynb",
   "output_path": "output/runs/9/notebooks/m_9-8fa529911a6b9915e58035aaf834724b.ipynb",
   "parameters": {
    "output_dir": "output",
    "run_no": "9",
    "seed": "2023",
    "universe": "{\"cutoff\": [\"quantile_0.1\", \"quantile_0.25\"], \"eval_fairness_grouping\": [\"majority-minority\", \"nationality-all\"], \"exclude_features\": \"none\", \"exclude_subgroups\": \"keep-all\", \"model\": \"rf\", \"scale\": \"do-not-scale\"}",
    "universe_id": "8fa529911a6b9915e58035aaf834724b"
   },
   "start_time": "2025-07-23T14:35:52.052364",
   "version": "2.6.0"
  }
 },
 "nbformat": 4,
 "nbformat_minor": 5
}