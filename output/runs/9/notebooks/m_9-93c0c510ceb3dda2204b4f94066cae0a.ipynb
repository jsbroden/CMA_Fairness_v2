{
 "cells": [
  {
   "cell_type": "code",
   "execution_count": 1,
   "id": "f159f837-637b-42ba-96b5-ec9a68c44524",
   "metadata": {
    "execution": {
     "iopub.execute_input": "2025-07-23T14:36:52.966802Z",
     "iopub.status.busy": "2025-07-23T14:36:52.966333Z",
     "iopub.status.idle": "2025-07-23T14:36:52.990936Z",
     "shell.execute_reply": "2025-07-23T14:36:52.989881Z"
    },
    "papermill": {
     "duration": 0.052537,
     "end_time": "2025-07-23T14:36:52.992747",
     "exception": false,
     "start_time": "2025-07-23T14:36:52.940210",
     "status": "completed"
    },
    "tags": []
   },
   "outputs": [
    {
     "name": "stdout",
     "output_type": "stream",
     "text": [
      "/dss/dsshome1/0C/ra93lal2/cma/CMA_Fairness_v2\n"
     ]
    },
    {
     "name": "stderr",
     "output_type": "stream",
     "text": [
      "/dss/dsshome1/0C/ra93lal2/.local/share/virtualenvs/CMA_Fairness_v2-3j10GkSs/lib/python3.10/site-packages/IPython/core/magics/osm.py:393: UserWarning: This is now an optional IPython functionality, using bookmarks requires you to install the `pickleshare` library.\n",
      "  bkms = self.shell.db.get('bookmarks', {})\n",
      "/dss/dsshome1/0C/ra93lal2/.local/share/virtualenvs/CMA_Fairness_v2-3j10GkSs/lib/python3.10/site-packages/IPython/core/magics/osm.py:417: UserWarning: This is now an optional IPython functionality, setting dhist requires you to install the `pickleshare` library.\n",
      "  self.shell.db['dhist'] = compress_dhist(dhist)[-100:]\n"
     ]
    }
   ],
   "source": [
    "%cd ~/cma/CMA_Fairness_v2"
   ]
  },
  {
   "cell_type": "markdown",
   "id": "de2603b9",
   "metadata": {
    "papermill": {
     "duration": 0.032315,
     "end_time": "2025-07-23T14:36:53.069342",
     "exception": false,
     "start_time": "2025-07-23T14:36:53.037027",
     "status": "completed"
    },
    "tags": []
   },
   "source": [
    "The following cell holds the definition of our parameters, these values can be overriden by rendering the with e.g. the following command:\n",
    "\n",
    "papermill -p alpha 0.2 -p ratio 0.3 universe_analysis.ipynb output/test_run.ipynb"
   ]
  },
  {
   "cell_type": "code",
   "execution_count": 2,
   "id": "a80968a0-40bb-4fa9-85ef-2d5eefb01975",
   "metadata": {
    "execution": {
     "iopub.execute_input": "2025-07-23T14:36:53.138062Z",
     "iopub.status.busy": "2025-07-23T14:36:53.137620Z",
     "iopub.status.idle": "2025-07-23T14:36:53.143810Z",
     "shell.execute_reply": "2025-07-23T14:36:53.142782Z"
    },
    "papermill": {
     "duration": 0.04226,
     "end_time": "2025-07-23T14:36:53.145835",
     "exception": false,
     "start_time": "2025-07-23T14:36:53.103575",
     "status": "completed"
    },
    "tags": []
   },
   "outputs": [
    {
     "name": "stdout",
     "output_type": "stream",
     "text": [
      "Current working directory: /dss/dsshome1/0C/ra93lal2/cma/CMA_Fairness_v2\n"
     ]
    }
   ],
   "source": [
    "import os\n",
    "print(\"Current working directory:\", os.getcwd())"
   ]
  },
  {
   "cell_type": "code",
   "execution_count": 3,
   "id": "2dce4c03",
   "metadata": {
    "execution": {
     "iopub.execute_input": "2025-07-23T14:36:53.202462Z",
     "iopub.status.busy": "2025-07-23T14:36:53.202024Z",
     "iopub.status.idle": "2025-07-23T14:36:53.209176Z",
     "shell.execute_reply": "2025-07-23T14:36:53.207934Z"
    },
    "papermill": {
     "duration": 0.031918,
     "end_time": "2025-07-23T14:36:53.213137",
     "exception": false,
     "start_time": "2025-07-23T14:36:53.181219",
     "status": "completed"
    },
    "tags": [
     "parameters"
    ]
   },
   "outputs": [],
   "source": [
    "run_no = 0\n",
    "universe_id = \"test\"\n",
    "universe = {\n",
    "    \"scale\": \"scale\", # \"scale\", \"do-not-scale\",\n",
    "    \"model\": \"elasticnet\", # \"logreg\", \"penalized_logreg\", \"rf\", \"gbm\", \"elasticnet\"\n",
    "    \"cutoff\": [\"quantile_0.15\", \"quantile_0.30\"],\n",
    "    \"exclude_features\": \"age\", # \"none\", \"nationality\", \"sex\", \"nationality-sex\", \"age\"\n",
    "    \"exclude_subgroups\": \"keep-all\", # \"keep-all\", \"drop-non-german\"\n",
    "    #\"training_sample\": \"restricted\", # \"restricted\", \"full\"\n",
    "    \"eval_fairness_grouping\": [\"majority-minority\", \"nationality-all\"]\n",
    "}\n",
    "\n",
    "output_dir=\"./output\"\n",
    "seed=0"
   ]
  },
  {
   "cell_type": "code",
   "execution_count": 4,
   "id": "0d7efce4",
   "metadata": {
    "execution": {
     "iopub.execute_input": "2025-07-23T14:36:53.252187Z",
     "iopub.status.busy": "2025-07-23T14:36:53.251756Z",
     "iopub.status.idle": "2025-07-23T14:36:53.258374Z",
     "shell.execute_reply": "2025-07-23T14:36:53.257183Z"
    },
    "papermill": {
     "duration": 0.029624,
     "end_time": "2025-07-23T14:36:53.261751",
     "exception": false,
     "start_time": "2025-07-23T14:36:53.232127",
     "status": "completed"
    },
    "tags": [
     "injected-parameters"
    ]
   },
   "outputs": [],
   "source": [
    "# Parameters\n",
    "universe_id = \"93c0c510ceb3dda2204b4f94066cae0a\"\n",
    "run_no = \"9\"\n",
    "universe = \"{\\\"cutoff\\\": [\\\"quantile_0.1\\\", \\\"quantile_0.25\\\"], \\\"eval_fairness_grouping\\\": [\\\"majority-minority\\\", \\\"nationality-all\\\"], \\\"exclude_features\\\": \\\"nationality-sex\\\", \\\"exclude_subgroups\\\": \\\"keep-all\\\", \\\"model\\\": \\\"rf\\\", \\\"scale\\\": \\\"do-not-scale\\\"}\"\n",
    "output_dir = \"output\"\n",
    "seed = \"2023\"\n"
   ]
  },
  {
   "cell_type": "code",
   "execution_count": 5,
   "id": "1650acaf",
   "metadata": {
    "execution": {
     "iopub.execute_input": "2025-07-23T14:36:53.332599Z",
     "iopub.status.busy": "2025-07-23T14:36:53.332171Z",
     "iopub.status.idle": "2025-07-23T14:36:53.339190Z",
     "shell.execute_reply": "2025-07-23T14:36:53.338190Z"
    },
    "papermill": {
     "duration": 0.044482,
     "end_time": "2025-07-23T14:36:53.341345",
     "exception": false,
     "start_time": "2025-07-23T14:36:53.296863",
     "status": "completed"
    },
    "tags": []
   },
   "outputs": [],
   "source": [
    "import json\n",
    "# Parse universe into dict if it is passed as a string\n",
    "if isinstance(universe, str):\n",
    "    universe = json.loads(universe)"
   ]
  },
  {
   "cell_type": "code",
   "execution_count": 6,
   "id": "16620c48",
   "metadata": {
    "execution": {
     "iopub.execute_input": "2025-07-23T14:36:53.397142Z",
     "iopub.status.busy": "2025-07-23T14:36:53.396705Z",
     "iopub.status.idle": "2025-07-23T14:36:53.463858Z",
     "shell.execute_reply": "2025-07-23T14:36:53.462735Z"
    },
    "papermill": {
     "duration": 0.105181,
     "end_time": "2025-07-23T14:36:53.466214",
     "exception": false,
     "start_time": "2025-07-23T14:36:53.361033",
     "status": "completed"
    },
    "tags": []
   },
   "outputs": [],
   "source": [
    "# Auto-reload the custom package\n",
    "%load_ext autoreload\n",
    "%autoreload 1\n",
    "%aimport fairness_multiverse"
   ]
  },
  {
   "cell_type": "code",
   "execution_count": 7,
   "id": "01c5c9f3",
   "metadata": {
    "execution": {
     "iopub.execute_input": "2025-07-23T14:36:53.504761Z",
     "iopub.status.busy": "2025-07-23T14:36:53.504314Z",
     "iopub.status.idle": "2025-07-23T14:36:59.533940Z",
     "shell.execute_reply": "2025-07-23T14:36:59.532756Z"
    },
    "papermill": {
     "duration": 6.051723,
     "end_time": "2025-07-23T14:36:59.535969",
     "exception": false,
     "start_time": "2025-07-23T14:36:53.484246",
     "status": "completed"
    },
    "tags": []
   },
   "outputs": [],
   "source": [
    "from fairness_multiverse.universe import UniverseAnalysis\n",
    "\n",
    "universe_analysis = UniverseAnalysis(\n",
    "    run_no = run_no,\n",
    "    universe_id = universe_id,\n",
    "    universe = universe,\n",
    "    output_dir=output_dir,\n",
    ")"
   ]
  },
  {
   "cell_type": "code",
   "execution_count": 8,
   "id": "106241f5",
   "metadata": {
    "execution": {
     "iopub.execute_input": "2025-07-23T14:36:59.638032Z",
     "iopub.status.busy": "2025-07-23T14:36:59.637597Z",
     "iopub.status.idle": "2025-07-23T14:36:59.644767Z",
     "shell.execute_reply": "2025-07-23T14:36:59.643787Z"
    },
    "papermill": {
     "duration": 0.059929,
     "end_time": "2025-07-23T14:36:59.646481",
     "exception": false,
     "start_time": "2025-07-23T14:36:59.586552",
     "status": "completed"
    },
    "tags": []
   },
   "outputs": [
    {
     "name": "stdout",
     "output_type": "stream",
     "text": [
      "Using Seed: 2023\n"
     ]
    }
   ],
   "source": [
    "import numpy as np\n",
    "parsed_seed = int(seed)\n",
    "np.random.seed(parsed_seed)\n",
    "print(f\"Using Seed: {parsed_seed}\")"
   ]
  },
  {
   "cell_type": "markdown",
   "id": "e0ebdc57",
   "metadata": {
    "papermill": {
     "duration": 0.05238,
     "end_time": "2025-07-23T14:36:59.769073",
     "exception": false,
     "start_time": "2025-07-23T14:36:59.716693",
     "status": "completed"
    },
    "tags": []
   },
   "source": [
    "# Loading Data"
   ]
  },
  {
   "cell_type": "markdown",
   "id": "681925a3",
   "metadata": {
    "papermill": {
     "duration": 0.020557,
     "end_time": "2025-07-23T14:36:59.825528",
     "exception": false,
     "start_time": "2025-07-23T14:36:59.804971",
     "status": "completed"
    },
    "tags": []
   },
   "source": [
    "Load siab_train, siab_test, siab_calib and/or \n",
    "load siab_train_features, siab_train_labels"
   ]
  },
  {
   "cell_type": "code",
   "execution_count": 9,
   "id": "f0496b8a",
   "metadata": {
    "execution": {
     "iopub.execute_input": "2025-07-23T14:36:59.922614Z",
     "iopub.status.busy": "2025-07-23T14:36:59.922192Z",
     "iopub.status.idle": "2025-07-23T14:36:59.929958Z",
     "shell.execute_reply": "2025-07-23T14:36:59.928916Z"
    },
    "papermill": {
     "duration": 0.049221,
     "end_time": "2025-07-23T14:36:59.932169",
     "exception": false,
     "start_time": "2025-07-23T14:36:59.882948",
     "status": "completed"
    },
    "tags": []
   },
   "outputs": [],
   "source": [
    "# Do I need to load siab? Delete this cell?\n",
    "\n",
    "#from pathlib import Path\n",
    "#import pandas as pd\n",
    "#\n",
    "## File paths\n",
    "#raw_file = Path(\"data/raw/siab.csv\")\n",
    "#cache_file = Path(\"data/siab_cached.csv.gz\")\n",
    "#\n",
    "## Ensure cache directory exists\n",
    "#cache_file.parent.mkdir(parents=True, exist_ok=True)\n",
    "#\n",
    "## Load with simple caching\n",
    "#if cache_file.exists():\n",
    "#    print(f\"Loading SIAB data from cache: {cache_file}\")\n",
    "#    siab = pd.read_csv(cache_file, compression='gzip')\n",
    "#else:\n",
    "#    print(f\"Cache not found. Reading raw SIAB data: {raw_file}\")\n",
    "#    siab = pd.read_csv(raw_file)\n",
    "#    siab.to_csv(cache_file, index=False, compression='gzip')\n",
    "#    print(f\"Cached SIAB data to: {cache_file}\")\n",
    "#\n",
    "## Now use `siab` DataFrame as needed\n",
    "#print(siab.shape)\n"
   ]
  },
  {
   "cell_type": "code",
   "execution_count": 10,
   "id": "a0edb063",
   "metadata": {
    "execution": {
     "iopub.execute_input": "2025-07-23T14:37:00.014599Z",
     "iopub.status.busy": "2025-07-23T14:37:00.014176Z",
     "iopub.status.idle": "2025-07-23T14:37:02.273836Z",
     "shell.execute_reply": "2025-07-23T14:37:02.272600Z"
    },
    "papermill": {
     "duration": 2.298838,
     "end_time": "2025-07-23T14:37:02.275621",
     "exception": false,
     "start_time": "2025-07-23T14:36:59.976783",
     "status": "completed"
    },
    "tags": []
   },
   "outputs": [],
   "source": [
    "import pandas as pd\n",
    "\n",
    "X_train = pd.read_csv(\"./data/X_train.csv\")\n",
    "y_train = pd.read_csv(\"./data/y_train.csv\")"
   ]
  },
  {
   "cell_type": "code",
   "execution_count": 11,
   "id": "63d08085",
   "metadata": {
    "execution": {
     "iopub.execute_input": "2025-07-23T14:37:02.317467Z",
     "iopub.status.busy": "2025-07-23T14:37:02.317018Z",
     "iopub.status.idle": "2025-07-23T14:37:04.335918Z",
     "shell.execute_reply": "2025-07-23T14:37:04.334658Z"
    },
    "papermill": {
     "duration": 2.041264,
     "end_time": "2025-07-23T14:37:04.338053",
     "exception": false,
     "start_time": "2025-07-23T14:37:02.296789",
     "status": "completed"
    },
    "tags": []
   },
   "outputs": [],
   "source": [
    "X_test = pd.read_csv(\"./data/X_test.csv\")\n",
    "y_true = pd.read_csv(\"./data/y_test.csv\")"
   ]
  },
  {
   "cell_type": "code",
   "execution_count": 12,
   "id": "98a8d0fa-1d3d-4ed8-bb2c-281470e24add",
   "metadata": {
    "execution": {
     "iopub.execute_input": "2025-07-23T14:37:04.380309Z",
     "iopub.status.busy": "2025-07-23T14:37:04.379758Z",
     "iopub.status.idle": "2025-07-23T14:37:06.157550Z",
     "shell.execute_reply": "2025-07-23T14:37:06.156389Z"
    },
    "papermill": {
     "duration": 1.801187,
     "end_time": "2025-07-23T14:37:06.159680",
     "exception": false,
     "start_time": "2025-07-23T14:37:04.358493",
     "status": "completed"
    },
    "tags": []
   },
   "outputs": [],
   "source": [
    "# Calibration data for conformal\n",
    "X_calib = pd.read_csv(\"./data/X_calib.csv\")\n",
    "y_calib = pd.read_csv(\"./data/y_calib.csv\")"
   ]
  },
  {
   "cell_type": "code",
   "execution_count": 13,
   "id": "e6c733c5",
   "metadata": {
    "execution": {
     "iopub.execute_input": "2025-07-23T14:37:06.198086Z",
     "iopub.status.busy": "2025-07-23T14:37:06.197605Z",
     "iopub.status.idle": "2025-07-23T14:37:06.303869Z",
     "shell.execute_reply": "2025-07-23T14:37:06.302801Z"
    },
    "papermill": {
     "duration": 0.128124,
     "end_time": "2025-07-23T14:37:06.306049",
     "exception": false,
     "start_time": "2025-07-23T14:37:06.177925",
     "status": "completed"
    },
    "tags": []
   },
   "outputs": [],
   "source": [
    "# Auxiliary data needed downstream in the pipeline\n",
    "\n",
    "org_train = X_train.copy()\n",
    "org_test = X_test.copy()\n",
    "org_calib = X_calib.copy()"
   ]
  },
  {
   "cell_type": "markdown",
   "id": "0a4a1b33",
   "metadata": {
    "papermill": {
     "duration": 0.018635,
     "end_time": "2025-07-23T14:37:06.342170",
     "exception": false,
     "start_time": "2025-07-23T14:37:06.323535",
     "status": "completed"
    },
    "tags": []
   },
   "source": [
    "# Preprocessing Data"
   ]
  },
  {
   "cell_type": "code",
   "execution_count": 14,
   "id": "ca879031",
   "metadata": {
    "execution": {
     "iopub.execute_input": "2025-07-23T14:37:06.442395Z",
     "iopub.status.busy": "2025-07-23T14:37:06.441890Z",
     "iopub.status.idle": "2025-07-23T14:37:06.448838Z",
     "shell.execute_reply": "2025-07-23T14:37:06.447690Z"
    },
    "papermill": {
     "duration": 0.042853,
     "end_time": "2025-07-23T14:37:06.459203",
     "exception": false,
     "start_time": "2025-07-23T14:37:06.416350",
     "status": "completed"
    },
    "tags": []
   },
   "outputs": [],
   "source": [
    "# EXCLUDE PROTECTED FEATURES\n",
    "# ----------------------\n",
    "# \"exclude_features\": \"none\", # \"nationality\", \"sex\", \"nationality-sex\"\n",
    "\n",
    "excluded_features = universe[\"exclude_features\"].split(\"-\") # split, e.g.: \"nationality-sex\" -> [\"nationality\", \"sex\"]\n",
    "excluded_features_dictionary = {\n",
    "    \"nationality\": [\"maxdeutsch1\", \"maxdeutsch.Missing.\"],\n",
    "    \"sex\": [\"frau1\"],\n",
    "    \"age\": [\"age\"],\n",
    "}\n"
   ]
  },
  {
   "cell_type": "code",
   "execution_count": 15,
   "id": "b745ac60",
   "metadata": {
    "execution": {
     "iopub.execute_input": "2025-07-23T14:37:06.501916Z",
     "iopub.status.busy": "2025-07-23T14:37:06.501436Z",
     "iopub.status.idle": "2025-07-23T14:37:06.508041Z",
     "shell.execute_reply": "2025-07-23T14:37:06.506869Z"
    },
    "papermill": {
     "duration": 0.031913,
     "end_time": "2025-07-23T14:37:06.511427",
     "exception": false,
     "start_time": "2025-07-23T14:37:06.479514",
     "status": "completed"
    },
    "tags": []
   },
   "outputs": [],
   "source": [
    "# Code nice names to column names\n",
    "\n",
    "excluded_features_columns = [\n",
    "    excluded_features_dictionary[f] for f in excluded_features if len(f) > 0 and f != \"none\"\n",
    "]"
   ]
  },
  {
   "cell_type": "code",
   "execution_count": 16,
   "id": "f84f73a2",
   "metadata": {
    "execution": {
     "iopub.execute_input": "2025-07-23T14:37:06.598389Z",
     "iopub.status.busy": "2025-07-23T14:37:06.597975Z",
     "iopub.status.idle": "2025-07-23T14:37:06.604514Z",
     "shell.execute_reply": "2025-07-23T14:37:06.603446Z"
    },
    "papermill": {
     "duration": 0.055452,
     "end_time": "2025-07-23T14:37:06.608440",
     "exception": false,
     "start_time": "2025-07-23T14:37:06.552988",
     "status": "completed"
    },
    "tags": []
   },
   "outputs": [],
   "source": [
    "from utils import flatten_once\n",
    "\n",
    "excluded_features_columns = flatten_once(excluded_features_columns)"
   ]
  },
  {
   "cell_type": "code",
   "execution_count": 17,
   "id": "884dea22",
   "metadata": {
    "execution": {
     "iopub.execute_input": "2025-07-23T14:37:06.699554Z",
     "iopub.status.busy": "2025-07-23T14:37:06.699115Z",
     "iopub.status.idle": "2025-07-23T14:37:06.771190Z",
     "shell.execute_reply": "2025-07-23T14:37:06.767667Z"
    },
    "papermill": {
     "duration": 0.116098,
     "end_time": "2025-07-23T14:37:06.773417",
     "exception": false,
     "start_time": "2025-07-23T14:37:06.657319",
     "status": "completed"
    },
    "tags": []
   },
   "outputs": [
    {
     "name": "stdout",
     "output_type": "stream",
     "text": [
      "Dropping features: ['maxdeutsch1', 'maxdeutsch.Missing.', 'frau1']\n"
     ]
    }
   ],
   "source": [
    "if len(excluded_features_columns) > 0:\n",
    "    print(f\"Dropping features: {excluded_features_columns}\")\n",
    "    X_train.drop(excluded_features_columns, axis=1, inplace=True)"
   ]
  },
  {
   "cell_type": "code",
   "execution_count": 18,
   "id": "95ab8b16",
   "metadata": {
    "execution": {
     "iopub.execute_input": "2025-07-23T14:37:06.846210Z",
     "iopub.status.busy": "2025-07-23T14:37:06.845782Z",
     "iopub.status.idle": "2025-07-23T14:37:06.960325Z",
     "shell.execute_reply": "2025-07-23T14:37:06.959124Z"
    },
    "papermill": {
     "duration": 0.153469,
     "end_time": "2025-07-23T14:37:06.962243",
     "exception": false,
     "start_time": "2025-07-23T14:37:06.808774",
     "status": "completed"
    },
    "tags": []
   },
   "outputs": [
    {
     "name": "stdout",
     "output_type": "stream",
     "text": [
      "Dropping features: ['maxdeutsch1', 'maxdeutsch.Missing.', 'frau1']\n"
     ]
    }
   ],
   "source": [
    "if len(excluded_features_columns) > 0:\n",
    "    print(f\"Dropping features: {excluded_features_columns}\")\n",
    "    X_test.drop(excluded_features_columns, axis=1, inplace=True)"
   ]
  },
  {
   "cell_type": "code",
   "execution_count": 19,
   "id": "1853aaf5-fb9f-46cb-a2b5-8ea4ae2237e4",
   "metadata": {
    "execution": {
     "iopub.execute_input": "2025-07-23T14:37:07.047502Z",
     "iopub.status.busy": "2025-07-23T14:37:07.047038Z",
     "iopub.status.idle": "2025-07-23T14:37:07.160941Z",
     "shell.execute_reply": "2025-07-23T14:37:07.159573Z"
    },
    "papermill": {
     "duration": 0.165535,
     "end_time": "2025-07-23T14:37:07.162973",
     "exception": false,
     "start_time": "2025-07-23T14:37:06.997438",
     "status": "completed"
    },
    "tags": []
   },
   "outputs": [
    {
     "name": "stdout",
     "output_type": "stream",
     "text": [
      "Dropping features: ['maxdeutsch1', 'maxdeutsch.Missing.', 'frau1']\n"
     ]
    }
   ],
   "source": [
    "if len(excluded_features_columns) > 0:\n",
    "    print(f\"Dropping features: {excluded_features_columns}\")\n",
    "    X_calib.drop(excluded_features_columns, axis=1, inplace=True)"
   ]
  },
  {
   "cell_type": "code",
   "execution_count": 20,
   "id": "76c4dc6d",
   "metadata": {
    "execution": {
     "iopub.execute_input": "2025-07-23T14:37:07.241421Z",
     "iopub.status.busy": "2025-07-23T14:37:07.240982Z",
     "iopub.status.idle": "2025-07-23T14:37:07.246976Z",
     "shell.execute_reply": "2025-07-23T14:37:07.245860Z"
    },
    "papermill": {
     "duration": 0.043756,
     "end_time": "2025-07-23T14:37:07.248796",
     "exception": false,
     "start_time": "2025-07-23T14:37:07.205040",
     "status": "completed"
    },
    "tags": []
   },
   "outputs": [],
   "source": [
    "# EXCLUDE CERTAIN SUBGROUPS\n",
    "# ----------------------\n",
    "\n",
    "mode = universe.get(\"exclude_subgroups\", \"keep-all\") \n",
    "# Fetches the exclude_subgroups setting from the universe dict.\n",
    "# Defaults to \"keep-all\" if the key is missing."
   ]
  },
  {
   "cell_type": "code",
   "execution_count": 21,
   "id": "21994072",
   "metadata": {
    "execution": {
     "iopub.execute_input": "2025-07-23T14:37:07.323221Z",
     "iopub.status.busy": "2025-07-23T14:37:07.322810Z",
     "iopub.status.idle": "2025-07-23T14:37:07.330874Z",
     "shell.execute_reply": "2025-07-23T14:37:07.329564Z"
    },
    "papermill": {
     "duration": 0.043704,
     "end_time": "2025-07-23T14:37:07.332855",
     "exception": false,
     "start_time": "2025-07-23T14:37:07.289151",
     "status": "completed"
    },
    "tags": []
   },
   "outputs": [],
   "source": [
    "if mode == \"keep-all\":\n",
    "    keep_mask = pd.Series(True, index=org_train.index)\n",
    "\n",
    "# org_train contains the original feature columns from features_org (in Simson)\n",
    "# features_org contains unprocessed features, for me X_train at beginning ???\n",
    "# For keep-all, creates a boolean Series (keep_mask) of all True, so no rows are removed.\n",
    "\n",
    "elif mode == \"drop-non-german\":\n",
    "    keep_mask = org_train[\"maxdeutsch1\"] == 1 # ??? what about missing values?\n",
    "\n",
    "else:\n",
    "    raise ValueError(f\"Unsupported mode for exclude_subgroups: {mode}\")\n"
   ]
  },
  {
   "cell_type": "code",
   "execution_count": 22,
   "id": "71651440",
   "metadata": {
    "execution": {
     "iopub.execute_input": "2025-07-23T14:37:07.367959Z",
     "iopub.status.busy": "2025-07-23T14:37:07.367437Z",
     "iopub.status.idle": "2025-07-23T14:37:07.374891Z",
     "shell.execute_reply": "2025-07-23T14:37:07.373948Z"
    },
    "papermill": {
     "duration": 0.021661,
     "end_time": "2025-07-23T14:37:07.376698",
     "exception": false,
     "start_time": "2025-07-23T14:37:07.355037",
     "status": "completed"
    },
    "tags": []
   },
   "outputs": [],
   "source": [
    "n_drop = (~keep_mask).sum() # Calculates how many rows are set to be dropped\n",
    "if n_drop > 0:\n",
    "    pct = n_drop / len(keep_mask) * 100\n",
    "    print(f\"Dropping {n_drop} rows ({pct:.2f}%) where mode='{mode}'\")"
   ]
  },
  {
   "cell_type": "code",
   "execution_count": 23,
   "id": "5fb8eee5",
   "metadata": {
    "execution": {
     "iopub.execute_input": "2025-07-23T14:37:07.415904Z",
     "iopub.status.busy": "2025-07-23T14:37:07.415175Z",
     "iopub.status.idle": "2025-07-23T14:37:07.471873Z",
     "shell.execute_reply": "2025-07-23T14:37:07.470749Z"
    },
    "papermill": {
     "duration": 0.079348,
     "end_time": "2025-07-23T14:37:07.474374",
     "exception": false,
     "start_time": "2025-07-23T14:37:07.395026",
     "status": "completed"
    },
    "tags": []
   },
   "outputs": [],
   "source": [
    "X_train = X_train[keep_mask]"
   ]
  },
  {
   "cell_type": "code",
   "execution_count": 24,
   "id": "b202bb3a",
   "metadata": {
    "execution": {
     "iopub.execute_input": "2025-07-23T14:37:07.515252Z",
     "iopub.status.busy": "2025-07-23T14:37:07.514459Z",
     "iopub.status.idle": "2025-07-23T14:37:07.522846Z",
     "shell.execute_reply": "2025-07-23T14:37:07.521775Z"
    },
    "papermill": {
     "duration": 0.031907,
     "end_time": "2025-07-23T14:37:07.524943",
     "exception": false,
     "start_time": "2025-07-23T14:37:07.493036",
     "status": "completed"
    },
    "tags": []
   },
   "outputs": [],
   "source": [
    "y_train = y_train[keep_mask]"
   ]
  },
  {
   "cell_type": "markdown",
   "id": "493e2ac3",
   "metadata": {
    "papermill": {
     "duration": 0.022893,
     "end_time": "2025-07-23T14:37:07.571004",
     "exception": false,
     "start_time": "2025-07-23T14:37:07.548111",
     "status": "completed"
    },
    "tags": []
   },
   "source": [
    "# Model Training"
   ]
  },
  {
   "cell_type": "code",
   "execution_count": 25,
   "id": "679e1268",
   "metadata": {
    "execution": {
     "iopub.execute_input": "2025-07-23T14:37:07.613726Z",
     "iopub.status.busy": "2025-07-23T14:37:07.613187Z",
     "iopub.status.idle": "2025-07-23T14:37:07.842436Z",
     "shell.execute_reply": "2025-07-23T14:37:07.839786Z"
    },
    "papermill": {
     "duration": 0.253743,
     "end_time": "2025-07-23T14:37:07.844320",
     "exception": false,
     "start_time": "2025-07-23T14:37:07.590577",
     "status": "completed"
    },
    "tags": []
   },
   "outputs": [],
   "source": [
    "from sklearn.linear_model import LogisticRegression\n",
    "from sklearn.ensemble import GradientBoostingClassifier, RandomForestClassifier\n",
    "\n",
    "if (universe[\"model\"] == \"logreg\"):\n",
    "    model = LogisticRegression() #penalty=\"none\") #, solver=\"newton-cg\", max_iter=1) # include random_state=19 ?\n",
    "elif (universe[\"model\"] == \"penalized_logreg\"):\n",
    "    model = LogisticRegression(penalty=\"l2\", C=1.0) #, solver=\"newton-cg\", max_iter=1)\n",
    "elif (universe[\"model\"] == \"rf\"):\n",
    "    model = RandomForestClassifier(n_estimators=100, n_jobs=-1)\n",
    "elif (universe[\"model\"] == \"gbm\"):\n",
    "    model = GradientBoostingClassifier()\n",
    "elif (universe[\"model\"] == \"elasticnet\"):\n",
    "    model = LogisticRegression(penalty = 'elasticnet', solver = 'saga', l1_ratio = 0.5, max_iter=5000) # which solver to use?\n",
    "else:\n",
    "    raise \"Unsupported universe.model\""
   ]
  },
  {
   "cell_type": "code",
   "execution_count": 26,
   "id": "0cc8f744",
   "metadata": {
    "execution": {
     "iopub.execute_input": "2025-07-23T14:37:07.927276Z",
     "iopub.status.busy": "2025-07-23T14:37:07.926725Z",
     "iopub.status.idle": "2025-07-23T14:37:07.933858Z",
     "shell.execute_reply": "2025-07-23T14:37:07.932789Z"
    },
    "papermill": {
     "duration": 0.044189,
     "end_time": "2025-07-23T14:37:07.935408",
     "exception": false,
     "start_time": "2025-07-23T14:37:07.891219",
     "status": "completed"
    },
    "tags": []
   },
   "outputs": [],
   "source": [
    "import numpy as np\n",
    "from sklearn.pipeline import Pipeline\n",
    "from sklearn.preprocessing import StandardScaler\n",
    "\n",
    "model = Pipeline([\n",
    "    #(\"continuous_processor\", continuous_processor),\n",
    "    #(\"categorical_preprocessor\", categorical_preprocessor),\n",
    "    (\"scale\", StandardScaler() if universe[\"scale\"] == \"scale\" else None), \n",
    "    (\"model\", model),\n",
    "])"
   ]
  },
  {
   "cell_type": "code",
   "execution_count": 27,
   "id": "9442c04d",
   "metadata": {
    "execution": {
     "iopub.execute_input": "2025-07-23T14:37:07.972876Z",
     "iopub.status.busy": "2025-07-23T14:37:07.972420Z",
     "iopub.status.idle": "2025-07-23T14:37:18.151154Z",
     "shell.execute_reply": "2025-07-23T14:37:18.150098Z"
    },
    "papermill": {
     "duration": 10.201062,
     "end_time": "2025-07-23T14:37:18.152921",
     "exception": false,
     "start_time": "2025-07-23T14:37:07.951859",
     "status": "completed"
    },
    "tags": []
   },
   "outputs": [
    {
     "data": {
      "text/html": [
       "<style>#sk-container-id-1 {color: black;background-color: white;}#sk-container-id-1 pre{padding: 0;}#sk-container-id-1 div.sk-toggleable {background-color: white;}#sk-container-id-1 label.sk-toggleable__label {cursor: pointer;display: block;width: 100%;margin-bottom: 0;padding: 0.3em;box-sizing: border-box;text-align: center;}#sk-container-id-1 label.sk-toggleable__label-arrow:before {content: \"▸\";float: left;margin-right: 0.25em;color: #696969;}#sk-container-id-1 label.sk-toggleable__label-arrow:hover:before {color: black;}#sk-container-id-1 div.sk-estimator:hover label.sk-toggleable__label-arrow:before {color: black;}#sk-container-id-1 div.sk-toggleable__content {max-height: 0;max-width: 0;overflow: hidden;text-align: left;background-color: #f0f8ff;}#sk-container-id-1 div.sk-toggleable__content pre {margin: 0.2em;color: black;border-radius: 0.25em;background-color: #f0f8ff;}#sk-container-id-1 input.sk-toggleable__control:checked~div.sk-toggleable__content {max-height: 200px;max-width: 100%;overflow: auto;}#sk-container-id-1 input.sk-toggleable__control:checked~label.sk-toggleable__label-arrow:before {content: \"▾\";}#sk-container-id-1 div.sk-estimator input.sk-toggleable__control:checked~label.sk-toggleable__label {background-color: #d4ebff;}#sk-container-id-1 div.sk-label input.sk-toggleable__control:checked~label.sk-toggleable__label {background-color: #d4ebff;}#sk-container-id-1 input.sk-hidden--visually {border: 0;clip: rect(1px 1px 1px 1px);clip: rect(1px, 1px, 1px, 1px);height: 1px;margin: -1px;overflow: hidden;padding: 0;position: absolute;width: 1px;}#sk-container-id-1 div.sk-estimator {font-family: monospace;background-color: #f0f8ff;border: 1px dotted black;border-radius: 0.25em;box-sizing: border-box;margin-bottom: 0.5em;}#sk-container-id-1 div.sk-estimator:hover {background-color: #d4ebff;}#sk-container-id-1 div.sk-parallel-item::after {content: \"\";width: 100%;border-bottom: 1px solid gray;flex-grow: 1;}#sk-container-id-1 div.sk-label:hover label.sk-toggleable__label {background-color: #d4ebff;}#sk-container-id-1 div.sk-serial::before {content: \"\";position: absolute;border-left: 1px solid gray;box-sizing: border-box;top: 0;bottom: 0;left: 50%;z-index: 0;}#sk-container-id-1 div.sk-serial {display: flex;flex-direction: column;align-items: center;background-color: white;padding-right: 0.2em;padding-left: 0.2em;position: relative;}#sk-container-id-1 div.sk-item {position: relative;z-index: 1;}#sk-container-id-1 div.sk-parallel {display: flex;align-items: stretch;justify-content: center;background-color: white;position: relative;}#sk-container-id-1 div.sk-item::before, #sk-container-id-1 div.sk-parallel-item::before {content: \"\";position: absolute;border-left: 1px solid gray;box-sizing: border-box;top: 0;bottom: 0;left: 50%;z-index: -1;}#sk-container-id-1 div.sk-parallel-item {display: flex;flex-direction: column;z-index: 1;position: relative;background-color: white;}#sk-container-id-1 div.sk-parallel-item:first-child::after {align-self: flex-end;width: 50%;}#sk-container-id-1 div.sk-parallel-item:last-child::after {align-self: flex-start;width: 50%;}#sk-container-id-1 div.sk-parallel-item:only-child::after {width: 0;}#sk-container-id-1 div.sk-dashed-wrapped {border: 1px dashed gray;margin: 0 0.4em 0.5em 0.4em;box-sizing: border-box;padding-bottom: 0.4em;background-color: white;}#sk-container-id-1 div.sk-label label {font-family: monospace;font-weight: bold;display: inline-block;line-height: 1.2em;}#sk-container-id-1 div.sk-label-container {text-align: center;}#sk-container-id-1 div.sk-container {/* jupyter's `normalize.less` sets `[hidden] { display: none; }` but bootstrap.min.css set `[hidden] { display: none !important; }` so we also need the `!important` here to be able to override the default hidden behavior on the sphinx rendered scikit-learn.org. See: https://github.com/scikit-learn/scikit-learn/issues/21755 */display: inline-block !important;position: relative;}#sk-container-id-1 div.sk-text-repr-fallback {display: none;}</style><div id=\"sk-container-id-1\" class=\"sk-top-container\"><div class=\"sk-text-repr-fallback\"><pre>Pipeline(steps=[(&#x27;scale&#x27;, None), (&#x27;model&#x27;, RandomForestClassifier(n_jobs=-1))])</pre><b>In a Jupyter environment, please rerun this cell to show the HTML representation or trust the notebook. <br />On GitHub, the HTML representation is unable to render, please try loading this page with nbviewer.org.</b></div><div class=\"sk-container\" hidden><div class=\"sk-item sk-dashed-wrapped\"><div class=\"sk-label-container\"><div class=\"sk-label sk-toggleable\"><input class=\"sk-toggleable__control sk-hidden--visually\" id=\"sk-estimator-id-1\" type=\"checkbox\" ><label for=\"sk-estimator-id-1\" class=\"sk-toggleable__label sk-toggleable__label-arrow\">Pipeline</label><div class=\"sk-toggleable__content\"><pre>Pipeline(steps=[(&#x27;scale&#x27;, None), (&#x27;model&#x27;, RandomForestClassifier(n_jobs=-1))])</pre></div></div></div><div class=\"sk-serial\"><div class=\"sk-item\"><div class=\"sk-estimator sk-toggleable\"><input class=\"sk-toggleable__control sk-hidden--visually\" id=\"sk-estimator-id-2\" type=\"checkbox\" ><label for=\"sk-estimator-id-2\" class=\"sk-toggleable__label sk-toggleable__label-arrow\">None</label><div class=\"sk-toggleable__content\"><pre>None</pre></div></div></div><div class=\"sk-item\"><div class=\"sk-estimator sk-toggleable\"><input class=\"sk-toggleable__control sk-hidden--visually\" id=\"sk-estimator-id-3\" type=\"checkbox\" ><label for=\"sk-estimator-id-3\" class=\"sk-toggleable__label sk-toggleable__label-arrow\">RandomForestClassifier</label><div class=\"sk-toggleable__content\"><pre>RandomForestClassifier(n_jobs=-1)</pre></div></div></div></div></div></div></div>"
      ],
      "text/plain": [
       "Pipeline(steps=[('scale', None), ('model', RandomForestClassifier(n_jobs=-1))])"
      ]
     },
     "execution_count": 27,
     "metadata": {},
     "output_type": "execute_result"
    }
   ],
   "source": [
    "model.fit(X_train, y_train.values.ravel())"
   ]
  },
  {
   "cell_type": "code",
   "execution_count": 28,
   "id": "af59f8c0",
   "metadata": {
    "execution": {
     "iopub.execute_input": "2025-07-23T14:37:18.197042Z",
     "iopub.status.busy": "2025-07-23T14:37:18.196263Z",
     "iopub.status.idle": "2025-07-23T14:37:18.202650Z",
     "shell.execute_reply": "2025-07-23T14:37:18.201583Z"
    },
    "papermill": {
     "duration": 0.029382,
     "end_time": "2025-07-23T14:37:18.204377",
     "exception": false,
     "start_time": "2025-07-23T14:37:18.174995",
     "status": "completed"
    },
    "tags": []
   },
   "outputs": [],
   "source": [
    "from fairness_multiverse.universe import predict_w_threshold"
   ]
  },
  {
   "cell_type": "code",
   "execution_count": 29,
   "id": "a7cf2e16",
   "metadata": {
    "execution": {
     "iopub.execute_input": "2025-07-23T14:37:18.245243Z",
     "iopub.status.busy": "2025-07-23T14:37:18.244832Z",
     "iopub.status.idle": "2025-07-23T14:37:19.614785Z",
     "shell.execute_reply": "2025-07-23T14:37:19.613886Z"
    },
    "papermill": {
     "duration": 1.391866,
     "end_time": "2025-07-23T14:37:19.616519",
     "exception": false,
     "start_time": "2025-07-23T14:37:18.224653",
     "status": "completed"
    },
    "tags": []
   },
   "outputs": [
    {
     "data": {
      "text/plain": [
       "0.8677627912161409"
      ]
     },
     "execution_count": 29,
     "metadata": {},
     "output_type": "execute_result"
    }
   ],
   "source": [
    "probs_test = model.predict_proba(X_test)\n",
    "\n",
    "'''\n",
    "Below code returns a boolean array (or binary 0/1 array depending on how it’s used) where each element \n",
    "is True if the probability of class 1 is greater than or equal to the threshold, and False otherwise.\n",
    "'''\n",
    "y_pred_default = predict_w_threshold(probs_test, 0.5)\n",
    "\n",
    "from sklearn.metrics import accuracy_score\n",
    "\n",
    "# Naive prediction\n",
    "accuracy_score(y_true = y_true, y_pred = y_pred_default)"
   ]
  },
  {
   "cell_type": "code",
   "execution_count": 30,
   "id": "081964c3",
   "metadata": {
    "execution": {
     "iopub.execute_input": "2025-07-23T14:37:19.660499Z",
     "iopub.status.busy": "2025-07-23T14:37:19.659534Z",
     "iopub.status.idle": "2025-07-23T14:37:20.969025Z",
     "shell.execute_reply": "2025-07-23T14:37:20.968148Z"
    },
    "papermill": {
     "duration": 1.331925,
     "end_time": "2025-07-23T14:37:20.970578",
     "exception": false,
     "start_time": "2025-07-23T14:37:19.638653",
     "status": "completed"
    },
    "tags": []
   },
   "outputs": [
    {
     "data": {
      "text/plain": [
       "array([0, 0, 0, ..., 0, 0, 0])"
      ]
     },
     "execution_count": 30,
     "metadata": {},
     "output_type": "execute_result"
    }
   ],
   "source": [
    "model.predict(X_test)"
   ]
  },
  {
   "cell_type": "markdown",
   "id": "56c9705b",
   "metadata": {
    "papermill": {
     "duration": 0.010347,
     "end_time": "2025-07-23T14:37:20.992877",
     "exception": false,
     "start_time": "2025-07-23T14:37:20.982530",
     "status": "completed"
    },
    "tags": []
   },
   "source": [
    "# Conformal Prediction"
   ]
  },
  {
   "cell_type": "code",
   "execution_count": 31,
   "id": "160ec6ff",
   "metadata": {
    "execution": {
     "iopub.execute_input": "2025-07-23T14:37:21.021861Z",
     "iopub.status.busy": "2025-07-23T14:37:21.021385Z",
     "iopub.status.idle": "2025-07-23T14:37:21.027293Z",
     "shell.execute_reply": "2025-07-23T14:37:21.026163Z"
    },
    "papermill": {
     "duration": 0.026301,
     "end_time": "2025-07-23T14:37:21.029602",
     "exception": false,
     "start_time": "2025-07-23T14:37:21.003301",
     "status": "completed"
    },
    "tags": []
   },
   "outputs": [],
   "source": [
    "# Miscoverage level for conformal prediction (10% allowed error rate => 90% target coverage)\n",
    "alpha = 0.1"
   ]
  },
  {
   "cell_type": "code",
   "execution_count": 32,
   "id": "eadf4555-3dd3-440e-8e35-f82a4ad9f855",
   "metadata": {
    "execution": {
     "iopub.execute_input": "2025-07-23T14:37:21.075960Z",
     "iopub.status.busy": "2025-07-23T14:37:21.075022Z",
     "iopub.status.idle": "2025-07-23T14:37:22.306069Z",
     "shell.execute_reply": "2025-07-23T14:37:22.305032Z"
    },
    "papermill": {
     "duration": 1.255443,
     "end_time": "2025-07-23T14:37:22.307925",
     "exception": false,
     "start_time": "2025-07-23T14:37:21.052482",
     "status": "completed"
    },
    "tags": []
   },
   "outputs": [],
   "source": [
    "probs_calib = model.predict_proba(X_calib)"
   ]
  },
  {
   "cell_type": "code",
   "execution_count": 33,
   "id": "2ed93547-6d5d-4983-9b36-1ecb300da49a",
   "metadata": {
    "execution": {
     "iopub.execute_input": "2025-07-23T14:37:22.343442Z",
     "iopub.status.busy": "2025-07-23T14:37:22.343070Z",
     "iopub.status.idle": "2025-07-23T14:37:22.348642Z",
     "shell.execute_reply": "2025-07-23T14:37:22.347841Z"
    },
    "papermill": {
     "duration": 0.020589,
     "end_time": "2025-07-23T14:37:22.350152",
     "exception": false,
     "start_time": "2025-07-23T14:37:22.329563",
     "status": "completed"
    },
    "tags": []
   },
   "outputs": [],
   "source": [
    "y_calib = y_calib.values.ravel().astype(int)"
   ]
  },
  {
   "cell_type": "code",
   "execution_count": 34,
   "id": "65d1320d-f588-4b38-9072-62af1ae97f7d",
   "metadata": {
    "execution": {
     "iopub.execute_input": "2025-07-23T14:37:22.376059Z",
     "iopub.status.busy": "2025-07-23T14:37:22.375682Z",
     "iopub.status.idle": "2025-07-23T14:37:22.382423Z",
     "shell.execute_reply": "2025-07-23T14:37:22.381501Z"
    },
    "papermill": {
     "duration": 0.02027,
     "end_time": "2025-07-23T14:37:22.383872",
     "exception": false,
     "start_time": "2025-07-23T14:37:22.363602",
     "status": "completed"
    },
    "tags": []
   },
   "outputs": [],
   "source": [
    "from fairness_multiverse.conformal import compute_nc_scores\n",
    "\n",
    "# Compute nonconformity scores on calibration set (1 - probability of true class)\n",
    "nc_scores = compute_nc_scores(probs_calib, y_calib)"
   ]
  },
  {
   "cell_type": "code",
   "execution_count": 35,
   "id": "df3b8ca3-53b7-43d5-9667-7c85da7aeda2",
   "metadata": {
    "execution": {
     "iopub.execute_input": "2025-07-23T14:37:22.411209Z",
     "iopub.status.busy": "2025-07-23T14:37:22.410169Z",
     "iopub.status.idle": "2025-07-23T14:37:22.433228Z",
     "shell.execute_reply": "2025-07-23T14:37:22.432272Z"
    },
    "papermill": {
     "duration": 0.039355,
     "end_time": "2025-07-23T14:37:22.435146",
     "exception": false,
     "start_time": "2025-07-23T14:37:22.395791",
     "status": "completed"
    },
    "tags": []
   },
   "outputs": [],
   "source": [
    "from fairness_multiverse.conformal import find_threshold\n",
    "\n",
    "# Find conformal threshold q_hat for the given alpha (split conformal method)\n",
    "q_hat = find_threshold(nc_scores, alpha)"
   ]
  },
  {
   "cell_type": "code",
   "execution_count": 36,
   "id": "4d29e6c1-0ef6-4aa4-b8fe-4fe79b0d033a",
   "metadata": {
    "execution": {
     "iopub.execute_input": "2025-07-23T14:37:22.459808Z",
     "iopub.status.busy": "2025-07-23T14:37:22.458991Z",
     "iopub.status.idle": "2025-07-23T14:37:22.465535Z",
     "shell.execute_reply": "2025-07-23T14:37:22.464762Z"
    },
    "papermill": {
     "duration": 0.020371,
     "end_time": "2025-07-23T14:37:22.467251",
     "exception": false,
     "start_time": "2025-07-23T14:37:22.446880",
     "status": "completed"
    },
    "tags": []
   },
   "outputs": [
    {
     "data": {
      "text/plain": [
       "0.65"
      ]
     },
     "execution_count": 36,
     "metadata": {},
     "output_type": "execute_result"
    }
   ],
   "source": [
    "q_hat"
   ]
  },
  {
   "cell_type": "code",
   "execution_count": 37,
   "id": "92460794-cdac-4be2-ba28-f28c0515a6fb",
   "metadata": {
    "execution": {
     "iopub.execute_input": "2025-07-23T14:37:22.494918Z",
     "iopub.status.busy": "2025-07-23T14:37:22.494537Z",
     "iopub.status.idle": "2025-07-23T14:37:25.024359Z",
     "shell.execute_reply": "2025-07-23T14:37:25.013359Z"
    },
    "papermill": {
     "duration": 2.545649,
     "end_time": "2025-07-23T14:37:25.026746",
     "exception": false,
     "start_time": "2025-07-23T14:37:22.481097",
     "status": "completed"
    },
    "tags": []
   },
   "outputs": [],
   "source": [
    "from fairness_multiverse.conformal import predict_conformal_sets\n",
    "\n",
    "# Generate prediction sets for each test example\n",
    "pred_sets = predict_conformal_sets(model, X_test, q_hat)"
   ]
  },
  {
   "cell_type": "code",
   "execution_count": 38,
   "id": "d90c9a65-e6db-4f5d-80cd-e68fb7e46829",
   "metadata": {
    "execution": {
     "iopub.execute_input": "2025-07-23T14:37:25.117693Z",
     "iopub.status.busy": "2025-07-23T14:37:25.116579Z",
     "iopub.status.idle": "2025-07-23T14:37:25.123199Z",
     "shell.execute_reply": "2025-07-23T14:37:25.122129Z"
    },
    "papermill": {
     "duration": 0.049341,
     "end_time": "2025-07-23T14:37:25.126444",
     "exception": false,
     "start_time": "2025-07-23T14:37:25.077103",
     "status": "completed"
    },
    "tags": []
   },
   "outputs": [],
   "source": [
    "y_true = y_true.squeeze()"
   ]
  },
  {
   "cell_type": "code",
   "execution_count": 39,
   "id": "3a58a54a-1e68-46b9-927a-df01f18aebc8",
   "metadata": {
    "execution": {
     "iopub.execute_input": "2025-07-23T14:37:25.214976Z",
     "iopub.status.busy": "2025-07-23T14:37:25.214526Z",
     "iopub.status.idle": "2025-07-23T14:37:27.353914Z",
     "shell.execute_reply": "2025-07-23T14:37:27.352637Z"
    },
    "papermill": {
     "duration": 2.176851,
     "end_time": "2025-07-23T14:37:27.356073",
     "exception": false,
     "start_time": "2025-07-23T14:37:25.179222",
     "status": "completed"
    },
    "tags": []
   },
   "outputs": [],
   "source": [
    "from fairness_multiverse.conformal import evaluate_sets\n",
    "\n",
    "# Evaluate coverage and average set size on test data\n",
    "metrics = evaluate_sets(pred_sets, y_true)"
   ]
  },
  {
   "cell_type": "code",
   "execution_count": 40,
   "id": "5ce0a5cb-201f-45a0-ade5-94c7f0bd6095",
   "metadata": {
    "execution": {
     "iopub.execute_input": "2025-07-23T14:37:27.459013Z",
     "iopub.status.busy": "2025-07-23T14:37:27.458568Z",
     "iopub.status.idle": "2025-07-23T14:37:27.467757Z",
     "shell.execute_reply": "2025-07-23T14:37:27.466690Z"
    },
    "papermill": {
     "duration": 0.058299,
     "end_time": "2025-07-23T14:37:27.470495",
     "exception": false,
     "start_time": "2025-07-23T14:37:27.412196",
     "status": "completed"
    },
    "tags": []
   },
   "outputs": [
    {
     "data": {
      "text/plain": [
       "{'coverage': 0.915494370750195, 'avg_size': 1.1390591907256715}"
      ]
     },
     "execution_count": 40,
     "metadata": {},
     "output_type": "execute_result"
    }
   ],
   "source": [
    "metrics"
   ]
  },
  {
   "cell_type": "code",
   "execution_count": 41,
   "id": "9b9a838d-31c9-430b-ae14-12baee460d17",
   "metadata": {
    "execution": {
     "iopub.execute_input": "2025-07-23T14:37:27.575469Z",
     "iopub.status.busy": "2025-07-23T14:37:27.575052Z",
     "iopub.status.idle": "2025-07-23T14:37:27.583178Z",
     "shell.execute_reply": "2025-07-23T14:37:27.581979Z"
    },
    "papermill": {
     "duration": 0.060194,
     "end_time": "2025-07-23T14:37:27.585201",
     "exception": false,
     "start_time": "2025-07-23T14:37:27.525007",
     "status": "completed"
    },
    "tags": []
   },
   "outputs": [],
   "source": [
    "example_universe = universe.copy()\n",
    "universe_model = example_universe.get(\"model\")\n",
    "universe_exclude_features = example_universe.get(\"exclude_features\")\n",
    "universe_exclude_subgroups = example_universe.get(\"exclude_subgroups\")\n",
    "universe_scale = example_universe.get(\"scale\")"
   ]
  },
  {
   "cell_type": "code",
   "execution_count": 42,
   "id": "f4b6a8ac-9dc0-4245-8a91-5b3b5999c4f9",
   "metadata": {
    "execution": {
     "iopub.execute_input": "2025-07-23T14:37:27.677994Z",
     "iopub.status.busy": "2025-07-23T14:37:27.677526Z",
     "iopub.status.idle": "2025-07-23T14:37:27.685111Z",
     "shell.execute_reply": "2025-07-23T14:37:27.684019Z"
    },
    "papermill": {
     "duration": 0.051128,
     "end_time": "2025-07-23T14:37:27.688300",
     "exception": false,
     "start_time": "2025-07-23T14:37:27.637172",
     "status": "completed"
    },
    "tags": []
   },
   "outputs": [],
   "source": [
    "cp_metrics_dict = {\n",
    "    \"universe_id\": [universe_id],\n",
    "    \"universe_model\": [universe_model],\n",
    "    \"universe_exclude_features\": [universe_exclude_features],\n",
    "    \"universe_exclude_subgroups\": [universe_exclude_subgroups],\n",
    "    \"universe_scale\": [universe_scale],\n",
    "    \"q_hat\": [q_hat],\n",
    "    \"coverage\": [metrics[\"coverage\"]],\n",
    "    \"avg_size\": [metrics[\"avg_size\"]],\n",
    "}"
   ]
  },
  {
   "cell_type": "code",
   "execution_count": 43,
   "id": "908acbb1-0371-4915-85ca-3fa520d2efe2",
   "metadata": {
    "execution": {
     "iopub.execute_input": "2025-07-23T14:37:27.799501Z",
     "iopub.status.busy": "2025-07-23T14:37:27.799061Z",
     "iopub.status.idle": "2025-07-23T14:37:27.807742Z",
     "shell.execute_reply": "2025-07-23T14:37:27.806653Z"
    },
    "papermill": {
     "duration": 0.079649,
     "end_time": "2025-07-23T14:37:27.812545",
     "exception": false,
     "start_time": "2025-07-23T14:37:27.732896",
     "status": "completed"
    },
    "tags": []
   },
   "outputs": [
    {
     "data": {
      "text/plain": [
       "{'universe_id': ['93c0c510ceb3dda2204b4f94066cae0a'],\n",
       " 'universe_model': ['rf'],\n",
       " 'universe_exclude_features': ['nationality-sex'],\n",
       " 'universe_exclude_subgroups': ['keep-all'],\n",
       " 'universe_scale': ['do-not-scale'],\n",
       " 'q_hat': [0.65],\n",
       " 'coverage': [0.915494370750195],\n",
       " 'avg_size': [1.1390591907256715]}"
      ]
     },
     "execution_count": 43,
     "metadata": {},
     "output_type": "execute_result"
    }
   ],
   "source": [
    "cp_metrics_dict"
   ]
  },
  {
   "cell_type": "code",
   "execution_count": 44,
   "id": "33007efc-14e9-4ec6-97ac-56a455c82265",
   "metadata": {
    "execution": {
     "iopub.execute_input": "2025-07-23T14:37:27.929363Z",
     "iopub.status.busy": "2025-07-23T14:37:27.928929Z",
     "iopub.status.idle": "2025-07-23T14:37:27.935880Z",
     "shell.execute_reply": "2025-07-23T14:37:27.934853Z"
    },
    "papermill": {
     "duration": 0.056828,
     "end_time": "2025-07-23T14:37:27.937630",
     "exception": false,
     "start_time": "2025-07-23T14:37:27.880802",
     "status": "completed"
    },
    "tags": []
   },
   "outputs": [],
   "source": [
    "cp_metrics_df = pd.DataFrame(cp_metrics_dict)"
   ]
  },
  {
   "cell_type": "code",
   "execution_count": 45,
   "id": "db12611b-57b2-4910-b9d0-355adfd6e7bf",
   "metadata": {
    "execution": {
     "iopub.execute_input": "2025-07-23T14:37:28.035581Z",
     "iopub.status.busy": "2025-07-23T14:37:28.035158Z",
     "iopub.status.idle": "2025-07-23T14:37:28.074966Z",
     "shell.execute_reply": "2025-07-23T14:37:28.073798Z"
    },
    "papermill": {
     "duration": 0.088646,
     "end_time": "2025-07-23T14:37:28.077455",
     "exception": false,
     "start_time": "2025-07-23T14:37:27.988809",
     "status": "completed"
    },
    "tags": []
   },
   "outputs": [
    {
     "data": {
      "text/html": [
       "<div>\n",
       "<style scoped>\n",
       "    .dataframe tbody tr th:only-of-type {\n",
       "        vertical-align: middle;\n",
       "    }\n",
       "\n",
       "    .dataframe tbody tr th {\n",
       "        vertical-align: top;\n",
       "    }\n",
       "\n",
       "    .dataframe thead th {\n",
       "        text-align: right;\n",
       "    }\n",
       "</style>\n",
       "<table border=\"1\" class=\"dataframe\">\n",
       "  <thead>\n",
       "    <tr style=\"text-align: right;\">\n",
       "      <th></th>\n",
       "      <th>universe_id</th>\n",
       "      <th>universe_model</th>\n",
       "      <th>universe_exclude_features</th>\n",
       "      <th>universe_exclude_subgroups</th>\n",
       "      <th>universe_scale</th>\n",
       "      <th>q_hat</th>\n",
       "      <th>coverage</th>\n",
       "      <th>avg_size</th>\n",
       "    </tr>\n",
       "  </thead>\n",
       "  <tbody>\n",
       "    <tr>\n",
       "      <th>0</th>\n",
       "      <td>93c0c510ceb3dda2204b4f94066cae0a</td>\n",
       "      <td>rf</td>\n",
       "      <td>nationality-sex</td>\n",
       "      <td>keep-all</td>\n",
       "      <td>do-not-scale</td>\n",
       "      <td>0.65</td>\n",
       "      <td>0.915494</td>\n",
       "      <td>1.139059</td>\n",
       "    </tr>\n",
       "  </tbody>\n",
       "</table>\n",
       "</div>"
      ],
      "text/plain": [
       "                        universe_id universe_model universe_exclude_features  \\\n",
       "0  93c0c510ceb3dda2204b4f94066cae0a             rf           nationality-sex   \n",
       "\n",
       "  universe_exclude_subgroups universe_scale  q_hat  coverage  avg_size  \n",
       "0                   keep-all   do-not-scale   0.65  0.915494  1.139059  "
      ]
     },
     "execution_count": 45,
     "metadata": {},
     "output_type": "execute_result"
    }
   ],
   "source": [
    "cp_metrics_df"
   ]
  },
  {
   "cell_type": "code",
   "execution_count": 46,
   "id": "b7fbde55-a0a1-47e4-9af6-fe4a17fa8c61",
   "metadata": {
    "execution": {
     "iopub.execute_input": "2025-07-23T14:37:28.170176Z",
     "iopub.status.busy": "2025-07-23T14:37:28.169712Z",
     "iopub.status.idle": "2025-07-23T14:37:28.177125Z",
     "shell.execute_reply": "2025-07-23T14:37:28.175927Z"
    },
    "papermill": {
     "duration": 0.050331,
     "end_time": "2025-07-23T14:37:28.179507",
     "exception": false,
     "start_time": "2025-07-23T14:37:28.129176",
     "status": "completed"
    },
    "tags": []
   },
   "outputs": [],
   "source": [
    "# Conditional Coverage & looking at subgroups"
   ]
  },
  {
   "cell_type": "code",
   "execution_count": 47,
   "id": "027ae886-68dd-4141-96c7-805a5450e1ef",
   "metadata": {
    "execution": {
     "iopub.execute_input": "2025-07-23T14:37:28.287574Z",
     "iopub.status.busy": "2025-07-23T14:37:28.287138Z",
     "iopub.status.idle": "2025-07-23T14:37:28.883040Z",
     "shell.execute_reply": "2025-07-23T14:37:28.881876Z"
    },
    "papermill": {
     "duration": 0.65204,
     "end_time": "2025-07-23T14:37:28.885386",
     "exception": false,
     "start_time": "2025-07-23T14:37:28.233346",
     "status": "completed"
    },
    "tags": []
   },
   "outputs": [],
   "source": [
    "from fairness_multiverse.conformal import build_cp_groups\n",
    "\n",
    "cp_groups_df = build_cp_groups(pred_sets, y_true, X_test.index, org_test)\n",
    "#needs universe_id and setting"
   ]
  },
  {
   "cell_type": "code",
   "execution_count": 48,
   "id": "c3b92545-903e-4839-89af-0f057907d7d6",
   "metadata": {
    "execution": {
     "iopub.execute_input": "2025-07-23T14:37:28.983143Z",
     "iopub.status.busy": "2025-07-23T14:37:28.982714Z",
     "iopub.status.idle": "2025-07-23T14:37:30.852081Z",
     "shell.execute_reply": "2025-07-23T14:37:30.851040Z"
    },
    "papermill": {
     "duration": 1.912676,
     "end_time": "2025-07-23T14:37:30.854210",
     "exception": false,
     "start_time": "2025-07-23T14:37:28.941534",
     "status": "completed"
    },
    "tags": []
   },
   "outputs": [],
   "source": [
    "# Define covered = 1 if true_label is in the predicted set\n",
    "cp_groups_df['covered'] = cp_groups_df.apply(\n",
    "    lambda r: int(r['true_label'] in r['pred_set']),\n",
    "    axis=1\n",
    ")"
   ]
  },
  {
   "cell_type": "code",
   "execution_count": 49,
   "id": "338ff529-1a6b-4b87-a931-8e4788d52aad",
   "metadata": {
    "execution": {
     "iopub.execute_input": "2025-07-23T14:37:30.951956Z",
     "iopub.status.busy": "2025-07-23T14:37:30.951456Z",
     "iopub.status.idle": "2025-07-23T14:37:30.957289Z",
     "shell.execute_reply": "2025-07-23T14:37:30.956115Z"
    },
    "papermill": {
     "duration": 0.060593,
     "end_time": "2025-07-23T14:37:30.959457",
     "exception": false,
     "start_time": "2025-07-23T14:37:30.898864",
     "status": "completed"
    },
    "tags": []
   },
   "outputs": [],
   "source": [
    "#cp_groups_df"
   ]
  },
  {
   "cell_type": "code",
   "execution_count": 50,
   "id": "90032e27-66df-4540-9169-4e89cfbaa758",
   "metadata": {
    "execution": {
     "iopub.execute_input": "2025-07-23T14:37:31.087191Z",
     "iopub.status.busy": "2025-07-23T14:37:31.086756Z",
     "iopub.status.idle": "2025-07-23T14:37:31.102169Z",
     "shell.execute_reply": "2025-07-23T14:37:31.100985Z"
    },
    "papermill": {
     "duration": 0.089801,
     "end_time": "2025-07-23T14:37:31.104443",
     "exception": false,
     "start_time": "2025-07-23T14:37:31.014642",
     "status": "completed"
    },
    "tags": []
   },
   "outputs": [],
   "source": [
    "subgroups = ['frau1','nongerman','nongerman_male','nongerman_female']\n",
    "\n",
    "# Conditional coverage for subgroup==1\n",
    "cond_coverage = {\n",
    "    g: cp_groups_df.loc[cp_groups_df[g]==1, 'covered'].mean()\n",
    "    for g in subgroups\n",
    "}"
   ]
  },
  {
   "cell_type": "code",
   "execution_count": 51,
   "id": "1e348fb1-b9c3-45bc-ba23-f016827a7e0d",
   "metadata": {
    "execution": {
     "iopub.execute_input": "2025-07-23T14:37:31.215947Z",
     "iopub.status.busy": "2025-07-23T14:37:31.215429Z",
     "iopub.status.idle": "2025-07-23T14:37:31.224816Z",
     "shell.execute_reply": "2025-07-23T14:37:31.223312Z"
    },
    "papermill": {
     "duration": 0.069777,
     "end_time": "2025-07-23T14:37:31.229972",
     "exception": false,
     "start_time": "2025-07-23T14:37:31.160195",
     "status": "completed"
    },
    "tags": []
   },
   "outputs": [
    {
     "data": {
      "text/plain": [
       "{'frau1': 0.9160803342768568,\n",
       " 'nongerman': 0.9117498456183686,\n",
       " 'nongerman_male': 0.9254255606592813,\n",
       " 'nongerman_female': 0.8891207153502235}"
      ]
     },
     "execution_count": 51,
     "metadata": {},
     "output_type": "execute_result"
    }
   ],
   "source": [
    "cond_coverage"
   ]
  },
  {
   "cell_type": "code",
   "execution_count": 52,
   "id": "f5093324-c3dd-4d63-bc4c-8d945e5c8bbb",
   "metadata": {
    "execution": {
     "iopub.execute_input": "2025-07-23T14:37:31.339693Z",
     "iopub.status.busy": "2025-07-23T14:37:31.339225Z",
     "iopub.status.idle": "2025-07-23T14:37:31.349122Z",
     "shell.execute_reply": "2025-07-23T14:37:31.347984Z"
    },
    "papermill": {
     "duration": 0.063837,
     "end_time": "2025-07-23T14:37:31.351265",
     "exception": false,
     "start_time": "2025-07-23T14:37:31.287428",
     "status": "completed"
    },
    "tags": []
   },
   "outputs": [],
   "source": [
    "for subgroup, cov in cond_coverage.items():\n",
    "    cp_metrics_df[f\"cov_{subgroup}\"] = cov"
   ]
  },
  {
   "cell_type": "code",
   "execution_count": 53,
   "id": "6e872e10-dbe5-49e8-b554-5030c98ff75d",
   "metadata": {
    "execution": {
     "iopub.execute_input": "2025-07-23T14:37:31.419345Z",
     "iopub.status.busy": "2025-07-23T14:37:31.418867Z",
     "iopub.status.idle": "2025-07-23T14:37:31.443887Z",
     "shell.execute_reply": "2025-07-23T14:37:31.442791Z"
    },
    "papermill": {
     "duration": 0.055239,
     "end_time": "2025-07-23T14:37:31.446504",
     "exception": false,
     "start_time": "2025-07-23T14:37:31.391265",
     "status": "completed"
    },
    "tags": []
   },
   "outputs": [
    {
     "data": {
      "text/html": [
       "<div>\n",
       "<style scoped>\n",
       "    .dataframe tbody tr th:only-of-type {\n",
       "        vertical-align: middle;\n",
       "    }\n",
       "\n",
       "    .dataframe tbody tr th {\n",
       "        vertical-align: top;\n",
       "    }\n",
       "\n",
       "    .dataframe thead th {\n",
       "        text-align: right;\n",
       "    }\n",
       "</style>\n",
       "<table border=\"1\" class=\"dataframe\">\n",
       "  <thead>\n",
       "    <tr style=\"text-align: right;\">\n",
       "      <th></th>\n",
       "      <th>universe_id</th>\n",
       "      <th>universe_model</th>\n",
       "      <th>universe_exclude_features</th>\n",
       "      <th>universe_exclude_subgroups</th>\n",
       "      <th>universe_scale</th>\n",
       "      <th>q_hat</th>\n",
       "      <th>coverage</th>\n",
       "      <th>avg_size</th>\n",
       "      <th>cov_frau1</th>\n",
       "      <th>cov_nongerman</th>\n",
       "      <th>cov_nongerman_male</th>\n",
       "      <th>cov_nongerman_female</th>\n",
       "    </tr>\n",
       "  </thead>\n",
       "  <tbody>\n",
       "    <tr>\n",
       "      <th>0</th>\n",
       "      <td>93c0c510ceb3dda2204b4f94066cae0a</td>\n",
       "      <td>rf</td>\n",
       "      <td>nationality-sex</td>\n",
       "      <td>keep-all</td>\n",
       "      <td>do-not-scale</td>\n",
       "      <td>0.65</td>\n",
       "      <td>0.915494</td>\n",
       "      <td>1.139059</td>\n",
       "      <td>0.91608</td>\n",
       "      <td>0.91175</td>\n",
       "      <td>0.925426</td>\n",
       "      <td>0.889121</td>\n",
       "    </tr>\n",
       "  </tbody>\n",
       "</table>\n",
       "</div>"
      ],
      "text/plain": [
       "                        universe_id universe_model universe_exclude_features  \\\n",
       "0  93c0c510ceb3dda2204b4f94066cae0a             rf           nationality-sex   \n",
       "\n",
       "  universe_exclude_subgroups universe_scale  q_hat  coverage  avg_size  \\\n",
       "0                   keep-all   do-not-scale   0.65  0.915494  1.139059   \n",
       "\n",
       "   cov_frau1  cov_nongerman  cov_nongerman_male  cov_nongerman_female  \n",
       "0    0.91608        0.91175            0.925426              0.889121  "
      ]
     },
     "execution_count": 53,
     "metadata": {},
     "output_type": "execute_result"
    }
   ],
   "source": [
    "cp_metrics_df"
   ]
  },
  {
   "cell_type": "markdown",
   "id": "33774451",
   "metadata": {
    "papermill": {
     "duration": 0.057644,
     "end_time": "2025-07-23T14:37:31.545022",
     "exception": false,
     "start_time": "2025-07-23T14:37:31.487378",
     "status": "completed"
    },
    "tags": []
   },
   "source": [
    "# (Fairness) Metrics"
   ]
  },
  {
   "cell_type": "code",
   "execution_count": 54,
   "id": "debc5d62",
   "metadata": {
    "execution": {
     "iopub.execute_input": "2025-07-23T14:37:31.639824Z",
     "iopub.status.busy": "2025-07-23T14:37:31.639370Z",
     "iopub.status.idle": "2025-07-23T14:37:31.669131Z",
     "shell.execute_reply": "2025-07-23T14:37:31.668004Z"
    },
    "papermill": {
     "duration": 0.08348,
     "end_time": "2025-07-23T14:37:31.670937",
     "exception": false,
     "start_time": "2025-07-23T14:37:31.587457",
     "status": "completed"
    },
    "tags": []
   },
   "outputs": [],
   "source": [
    "# do I need to include maxdeutsch1.missing?\n",
    "\n",
    "import numpy as np\n",
    "\n",
    "colname_to_bin = \"maxdeutsch1\"\n",
    "majority_value = org_train[colname_to_bin].mode()[0]\n",
    "\n",
    "org_test[\"majmin\"] = np.where(org_test[colname_to_bin] == majority_value, \"majority\", \"minority\")"
   ]
  },
  {
   "cell_type": "code",
   "execution_count": 55,
   "id": "06a50de5",
   "metadata": {
    "execution": {
     "iopub.execute_input": "2025-07-23T14:37:31.751246Z",
     "iopub.status.busy": "2025-07-23T14:37:31.750808Z",
     "iopub.status.idle": "2025-07-23T14:37:35.460528Z",
     "shell.execute_reply": "2025-07-23T14:37:35.452708Z"
    },
    "papermill": {
     "duration": 3.75356,
     "end_time": "2025-07-23T14:37:35.462692",
     "exception": false,
     "start_time": "2025-07-23T14:37:31.709132",
     "status": "completed"
    },
    "tags": []
   },
   "outputs": [],
   "source": [
    "example_universe = universe.copy()\n",
    "example_universe[\"cutoff\"] = example_universe[\"cutoff\"][0]\n",
    "example_universe[\"eval_fairness_grouping\"] = example_universe[\"eval_fairness_grouping\"][0]\n",
    "fairness_dict, metric_frame = universe_analysis.compute_metrics(\n",
    "    example_universe,\n",
    "    y_pred_prob=probs_test,\n",
    "    y_test=y_true,\n",
    "    org_test=org_test,\n",
    ")"
   ]
  },
  {
   "cell_type": "markdown",
   "id": "f95d4e02",
   "metadata": {
    "papermill": {
     "duration": 0.047134,
     "end_time": "2025-07-23T14:37:35.534091",
     "exception": false,
     "start_time": "2025-07-23T14:37:35.486957",
     "status": "completed"
    },
    "tags": []
   },
   "source": [
    "# Overall"
   ]
  },
  {
   "cell_type": "markdown",
   "id": "bdee4871",
   "metadata": {
    "papermill": {
     "duration": 0.083406,
     "end_time": "2025-07-23T14:37:35.649301",
     "exception": false,
     "start_time": "2025-07-23T14:37:35.565895",
     "status": "completed"
    },
    "tags": []
   },
   "source": [
    "Fairness\n",
    "Main fairness target: Equalized Odds. Seems to be a better fit than equal opportunity, since we're not only interested in Y = 1. Seems to be a better fit than demographic parity, since we also care about accuracy, not just equal distribution of preds.\n",
    "\n",
    "Pick column for computation of fairness metrics\n",
    "\n",
    "Performance\n",
    "Overall performance measures, most interesting in relation to the measures split by group below"
   ]
  },
  {
   "cell_type": "code",
   "execution_count": 56,
   "id": "c4e067c6",
   "metadata": {
    "execution": {
     "iopub.execute_input": "2025-07-23T14:37:35.699561Z",
     "iopub.status.busy": "2025-07-23T14:37:35.698977Z",
     "iopub.status.idle": "2025-07-23T14:37:35.710492Z",
     "shell.execute_reply": "2025-07-23T14:37:35.709411Z"
    },
    "papermill": {
     "duration": 0.04221,
     "end_time": "2025-07-23T14:37:35.715381",
     "exception": false,
     "start_time": "2025-07-23T14:37:35.673171",
     "status": "completed"
    },
    "tags": []
   },
   "outputs": [
    {
     "data": {
      "text/plain": [
       "accuracy                   0.200814\n",
       "balanced accuracy          0.532044\n",
       "f1                         0.238866\n",
       "precision                  0.136055\n",
       "false positive rate        0.913493\n",
       "false negative rate        0.022419\n",
       "selection rate             0.921714\n",
       "count                  89710.000000\n",
       "dtype: float64"
      ]
     },
     "execution_count": 56,
     "metadata": {},
     "output_type": "execute_result"
    }
   ],
   "source": [
    "metric_frame.overall"
   ]
  },
  {
   "cell_type": "markdown",
   "id": "e968fe9d",
   "metadata": {
    "papermill": {
     "duration": 0.054432,
     "end_time": "2025-07-23T14:37:35.793270",
     "exception": false,
     "start_time": "2025-07-23T14:37:35.738838",
     "status": "completed"
    },
    "tags": []
   },
   "source": [
    "By Group"
   ]
  },
  {
   "cell_type": "code",
   "execution_count": 57,
   "id": "ec325bce",
   "metadata": {
    "execution": {
     "iopub.execute_input": "2025-07-23T14:37:35.899162Z",
     "iopub.status.busy": "2025-07-23T14:37:35.898713Z",
     "iopub.status.idle": "2025-07-23T14:37:35.931087Z",
     "shell.execute_reply": "2025-07-23T14:37:35.930048Z"
    },
    "papermill": {
     "duration": 0.091913,
     "end_time": "2025-07-23T14:37:35.933083",
     "exception": false,
     "start_time": "2025-07-23T14:37:35.841170",
     "status": "completed"
    },
    "tags": []
   },
   "outputs": [
    {
     "data": {
      "text/html": [
       "<div>\n",
       "<style scoped>\n",
       "    .dataframe tbody tr th:only-of-type {\n",
       "        vertical-align: middle;\n",
       "    }\n",
       "\n",
       "    .dataframe tbody tr th {\n",
       "        vertical-align: top;\n",
       "    }\n",
       "\n",
       "    .dataframe thead th {\n",
       "        text-align: right;\n",
       "    }\n",
       "</style>\n",
       "<table border=\"1\" class=\"dataframe\">\n",
       "  <thead>\n",
       "    <tr style=\"text-align: right;\">\n",
       "      <th></th>\n",
       "      <th>accuracy</th>\n",
       "      <th>balanced accuracy</th>\n",
       "      <th>f1</th>\n",
       "      <th>precision</th>\n",
       "      <th>false positive rate</th>\n",
       "      <th>false negative rate</th>\n",
       "      <th>selection rate</th>\n",
       "      <th>count</th>\n",
       "    </tr>\n",
       "    <tr>\n",
       "      <th>majmin</th>\n",
       "      <th></th>\n",
       "      <th></th>\n",
       "      <th></th>\n",
       "      <th></th>\n",
       "      <th></th>\n",
       "      <th></th>\n",
       "      <th></th>\n",
       "      <th></th>\n",
       "    </tr>\n",
       "  </thead>\n",
       "  <tbody>\n",
       "    <tr>\n",
       "      <th>majority</th>\n",
       "      <td>0.188333</td>\n",
       "      <td>0.528897</td>\n",
       "      <td>0.244099</td>\n",
       "      <td>0.139177</td>\n",
       "      <td>0.934000</td>\n",
       "      <td>0.008206</td>\n",
       "      <td>0.941637</td>\n",
       "      <td>69170.0</td>\n",
       "    </tr>\n",
       "    <tr>\n",
       "      <th>minority</th>\n",
       "      <td>0.242843</td>\n",
       "      <td>0.538484</td>\n",
       "      <td>0.219355</td>\n",
       "      <td>0.124473</td>\n",
       "      <td>0.845752</td>\n",
       "      <td>0.077280</td>\n",
       "      <td>0.854625</td>\n",
       "      <td>20540.0</td>\n",
       "    </tr>\n",
       "  </tbody>\n",
       "</table>\n",
       "</div>"
      ],
      "text/plain": [
       "          accuracy  balanced accuracy        f1  precision  \\\n",
       "majmin                                                       \n",
       "majority  0.188333           0.528897  0.244099   0.139177   \n",
       "minority  0.242843           0.538484  0.219355   0.124473   \n",
       "\n",
       "          false positive rate  false negative rate  selection rate    count  \n",
       "majmin                                                                       \n",
       "majority             0.934000             0.008206        0.941637  69170.0  \n",
       "minority             0.845752             0.077280        0.854625  20540.0  "
      ]
     },
     "execution_count": 57,
     "metadata": {},
     "output_type": "execute_result"
    }
   ],
   "source": [
    "metric_frame.by_group"
   ]
  },
  {
   "cell_type": "code",
   "execution_count": 58,
   "id": "a9ddbe63",
   "metadata": {
    "execution": {
     "iopub.execute_input": "2025-07-23T14:37:36.041295Z",
     "iopub.status.busy": "2025-07-23T14:37:36.040701Z",
     "iopub.status.idle": "2025-07-23T14:37:41.272983Z",
     "shell.execute_reply": "2025-07-23T14:37:41.271853Z"
    },
    "papermill": {
     "duration": 5.281702,
     "end_time": "2025-07-23T14:37:41.274877",
     "exception": false,
     "start_time": "2025-07-23T14:37:35.993175",
     "status": "completed"
    },
    "tags": []
   },
   "outputs": [
    {
     "data": {
      "text/plain": [
       "array([[<Axes: title={'center': 'accuracy'}, xlabel='majmin'>,\n",
       "        <Axes: title={'center': 'balanced accuracy'}, xlabel='majmin'>,\n",
       "        <Axes: title={'center': 'f1'}, xlabel='majmin'>],\n",
       "       [<Axes: title={'center': 'precision'}, xlabel='majmin'>,\n",
       "        <Axes: title={'center': 'false positive rate'}, xlabel='majmin'>,\n",
       "        <Axes: title={'center': 'false negative rate'}, xlabel='majmin'>],\n",
       "       [<Axes: title={'center': 'selection rate'}, xlabel='majmin'>,\n",
       "        <Axes: title={'center': 'count'}, xlabel='majmin'>,\n",
       "        <Axes: xlabel='majmin'>]], dtype=object)"
      ]
     },
     "execution_count": 58,
     "metadata": {},
     "output_type": "execute_result"
    },
    {
     "data": {
      "image/png": "[encoded data removed]",
      "text/plain": [
       "<Figure size 1200x800 with 9 Axes>"
      ]
     },
     "metadata": {},
     "output_type": "display_data"
    }
   ],
   "source": [
    "# In a graphic\n",
    "metric_frame.by_group.plot.bar(\n",
    "    subplots=True,\n",
    "    layout=[3, 3],\n",
    "    legend=False,\n",
    "    figsize=[12, 8],\n",
    "    title=\"Show all metrics\",\n",
    ")"
   ]
  },
  {
   "cell_type": "markdown",
   "id": "f57a0bac",
   "metadata": {
    "papermill": {
     "duration": 0.058058,
     "end_time": "2025-07-23T14:37:41.385570",
     "exception": false,
     "start_time": "2025-07-23T14:37:41.327512",
     "status": "completed"
    },
    "tags": []
   },
   "source": [
    "# Final Output"
   ]
  },
  {
   "cell_type": "code",
   "execution_count": 59,
   "id": "96d280a3",
   "metadata": {
    "execution": {
     "iopub.execute_input": "2025-07-23T14:37:41.450149Z",
     "iopub.status.busy": "2025-07-23T14:37:41.449537Z",
     "iopub.status.idle": "2025-07-23T14:37:41.459224Z",
     "shell.execute_reply": "2025-07-23T14:37:41.458180Z"
    },
    "papermill": {
     "duration": 0.042504,
     "end_time": "2025-07-23T14:37:41.463893",
     "exception": false,
     "start_time": "2025-07-23T14:37:41.421389",
     "status": "completed"
    },
    "tags": []
   },
   "outputs": [
    {
     "data": {
      "text/plain": [
       "4"
      ]
     },
     "execution_count": 59,
     "metadata": {},
     "output_type": "execute_result"
    }
   ],
   "source": [
    "sub_universes = universe_analysis.generate_sub_universes()\n",
    "len(sub_universes)"
   ]
  },
  {
   "cell_type": "code",
   "execution_count": 60,
   "id": "92adf7ba",
   "metadata": {
    "execution": {
     "iopub.execute_input": "2025-07-23T14:37:41.522221Z",
     "iopub.status.busy": "2025-07-23T14:37:41.521742Z",
     "iopub.status.idle": "2025-07-23T14:37:41.529517Z",
     "shell.execute_reply": "2025-07-23T14:37:41.528077Z"
    },
    "papermill": {
     "duration": 0.041574,
     "end_time": "2025-07-23T14:37:41.533468",
     "exception": false,
     "start_time": "2025-07-23T14:37:41.491894",
     "status": "completed"
    },
    "tags": []
   },
   "outputs": [],
   "source": [
    "def filter_sub_universe_data(sub_universe, org_test):\n",
    "    # Keep all rows — no filtering\n",
    "    keep_rows_mask = np.ones(org_test.shape[0], dtype=bool)\n",
    "\n",
    "    print(f\"[INFO] Keeping all rows: {keep_rows_mask.sum()} rows retained.\")\n",
    "    return keep_rows_mask"
   ]
  },
  {
   "cell_type": "code",
   "execution_count": 61,
   "id": "4a759155",
   "metadata": {
    "execution": {
     "iopub.execute_input": "2025-07-23T14:37:41.667694Z",
     "iopub.status.busy": "2025-07-23T14:37:41.667286Z",
     "iopub.status.idle": "2025-07-23T14:38:01.022699Z",
     "shell.execute_reply": "2025-07-23T14:38:01.021776Z"
    },
    "papermill": {
     "duration": 19.455782,
     "end_time": "2025-07-23T14:38:01.024509",
     "exception": false,
     "start_time": "2025-07-23T14:37:41.568727",
     "status": "completed"
    },
    "tags": []
   },
   "outputs": [
    {
     "name": "stdout",
     "output_type": "stream",
     "text": [
      "Stopping execution_time clock.\n",
      "[INFO] Keeping all rows: 89710 rows retained.\n"
     ]
    },
    {
     "name": "stdout",
     "output_type": "stream",
     "text": [
      "[INFO] Keeping all rows: 89710 rows retained.\n"
     ]
    },
    {
     "name": "stdout",
     "output_type": "stream",
     "text": [
      "[INFO] Keeping all rows: 89710 rows retained.\n"
     ]
    },
    {
     "name": "stdout",
     "output_type": "stream",
     "text": [
      "[INFO] Keeping all rows: 89710 rows retained.\n"
     ]
    },
    {
     "data": {
      "text/html": [
       "<div>\n",
       "<style scoped>\n",
       "    .dataframe tbody tr th:only-of-type {\n",
       "        vertical-align: middle;\n",
       "    }\n",
       "\n",
       "    .dataframe tbody tr th {\n",
       "        vertical-align: top;\n",
       "    }\n",
       "\n",
       "    .dataframe thead th {\n",
       "        text-align: right;\n",
       "    }\n",
       "</style>\n",
       "<table border=\"1\" class=\"dataframe\">\n",
       "  <thead>\n",
       "    <tr style=\"text-align: right;\">\n",
       "      <th></th>\n",
       "      <th>run_no</th>\n",
       "      <th>universe_id</th>\n",
       "      <th>universe_settings</th>\n",
       "      <th>execution_time</th>\n",
       "      <th>test_size_n</th>\n",
       "      <th>test_size_frac</th>\n",
       "      <th>fair_main_equalized_odds_difference</th>\n",
       "      <th>fair_main_equalized_odds_ratio</th>\n",
       "      <th>fair_main_demographic_parity_difference</th>\n",
       "      <th>fair_main_demographic_parity_ratio</th>\n",
       "      <th>...</th>\n",
       "      <th>perf_grp_precision_0</th>\n",
       "      <th>perf_grp_precision_1</th>\n",
       "      <th>perf_grp_false positive rate_0</th>\n",
       "      <th>perf_grp_false positive rate_1</th>\n",
       "      <th>perf_grp_false negative rate_0</th>\n",
       "      <th>perf_grp_false negative rate_1</th>\n",
       "      <th>perf_grp_selection rate_0</th>\n",
       "      <th>perf_grp_selection rate_1</th>\n",
       "      <th>perf_grp_count_0</th>\n",
       "      <th>perf_grp_count_1</th>\n",
       "    </tr>\n",
       "  </thead>\n",
       "  <tbody>\n",
       "    <tr>\n",
       "      <th>0</th>\n",
       "      <td>9</td>\n",
       "      <td>93c0c510ceb3dda2204b4f94066cae0a</td>\n",
       "      <td>{\"cutoff\": \"quantile_0.1\", \"eval_fairness_grou...</td>\n",
       "      <td>42.352104</td>\n",
       "      <td>89710</td>\n",
       "      <td>1.0</td>\n",
       "      <td>0.088248</td>\n",
       "      <td>0.905516</td>\n",
       "      <td>0.087011</td>\n",
       "      <td>0.907596</td>\n",
       "      <td>...</td>\n",
       "      <td>NaN</td>\n",
       "      <td>NaN</td>\n",
       "      <td>NaN</td>\n",
       "      <td>NaN</td>\n",
       "      <td>NaN</td>\n",
       "      <td>NaN</td>\n",
       "      <td>NaN</td>\n",
       "      <td>NaN</td>\n",
       "      <td>NaN</td>\n",
       "      <td>NaN</td>\n",
       "    </tr>\n",
       "    <tr>\n",
       "      <th>0</th>\n",
       "      <td>9</td>\n",
       "      <td>93c0c510ceb3dda2204b4f94066cae0a</td>\n",
       "      <td>{\"cutoff\": \"quantile_0.1\", \"eval_fairness_grou...</td>\n",
       "      <td>42.352104</td>\n",
       "      <td>89710</td>\n",
       "      <td>1.0</td>\n",
       "      <td>0.088248</td>\n",
       "      <td>0.905516</td>\n",
       "      <td>0.087011</td>\n",
       "      <td>0.907596</td>\n",
       "      <td>...</td>\n",
       "      <td>0.124473</td>\n",
       "      <td>0.139177</td>\n",
       "      <td>0.845752</td>\n",
       "      <td>0.934000</td>\n",
       "      <td>0.077280</td>\n",
       "      <td>0.008206</td>\n",
       "      <td>0.854625</td>\n",
       "      <td>0.941637</td>\n",
       "      <td>20540.0</td>\n",
       "      <td>69170.0</td>\n",
       "    </tr>\n",
       "    <tr>\n",
       "      <th>0</th>\n",
       "      <td>9</td>\n",
       "      <td>93c0c510ceb3dda2204b4f94066cae0a</td>\n",
       "      <td>{\"cutoff\": \"quantile_0.25\", \"eval_fairness_gro...</td>\n",
       "      <td>42.352104</td>\n",
       "      <td>89710</td>\n",
       "      <td>1.0</td>\n",
       "      <td>0.112997</td>\n",
       "      <td>0.880963</td>\n",
       "      <td>0.097904</td>\n",
       "      <td>0.877723</td>\n",
       "      <td>...</td>\n",
       "      <td>NaN</td>\n",
       "      <td>NaN</td>\n",
       "      <td>NaN</td>\n",
       "      <td>NaN</td>\n",
       "      <td>NaN</td>\n",
       "      <td>NaN</td>\n",
       "      <td>NaN</td>\n",
       "      <td>NaN</td>\n",
       "      <td>NaN</td>\n",
       "      <td>NaN</td>\n",
       "    </tr>\n",
       "    <tr>\n",
       "      <th>0</th>\n",
       "      <td>9</td>\n",
       "      <td>93c0c510ceb3dda2204b4f94066cae0a</td>\n",
       "      <td>{\"cutoff\": \"quantile_0.25\", \"eval_fairness_gro...</td>\n",
       "      <td>42.352104</td>\n",
       "      <td>89710</td>\n",
       "      <td>1.0</td>\n",
       "      <td>0.112997</td>\n",
       "      <td>0.880963</td>\n",
       "      <td>0.097904</td>\n",
       "      <td>0.877723</td>\n",
       "      <td>...</td>\n",
       "      <td>0.139730</td>\n",
       "      <td>0.159219</td>\n",
       "      <td>0.683359</td>\n",
       "      <td>0.775695</td>\n",
       "      <td>0.148226</td>\n",
       "      <td>0.035230</td>\n",
       "      <td>0.702775</td>\n",
       "      <td>0.800679</td>\n",
       "      <td>20540.0</td>\n",
       "      <td>69170.0</td>\n",
       "    </tr>\n",
       "  </tbody>\n",
       "</table>\n",
       "<p>4 rows × 50 columns</p>\n",
       "</div>"
      ],
      "text/plain": [
       "  run_no                       universe_id  \\\n",
       "0      9  93c0c510ceb3dda2204b4f94066cae0a   \n",
       "0      9  93c0c510ceb3dda2204b4f94066cae0a   \n",
       "0      9  93c0c510ceb3dda2204b4f94066cae0a   \n",
       "0      9  93c0c510ceb3dda2204b4f94066cae0a   \n",
       "\n",
       "                                   universe_settings  execution_time  \\\n",
       "0  {\"cutoff\": \"quantile_0.1\", \"eval_fairness_grou...       42.352104   \n",
       "0  {\"cutoff\": \"quantile_0.1\", \"eval_fairness_grou...       42.352104   \n",
       "0  {\"cutoff\": \"quantile_0.25\", \"eval_fairness_gro...       42.352104   \n",
       "0  {\"cutoff\": \"quantile_0.25\", \"eval_fairness_gro...       42.352104   \n",
       "\n",
       "   test_size_n  test_size_frac  fair_main_equalized_odds_difference  \\\n",
       "0        89710             1.0                             0.088248   \n",
       "0        89710             1.0                             0.088248   \n",
       "0        89710             1.0                             0.112997   \n",
       "0        89710             1.0                             0.112997   \n",
       "\n",
       "   fair_main_equalized_odds_ratio  fair_main_demographic_parity_difference  \\\n",
       "0                        0.905516                                 0.087011   \n",
       "0                        0.905516                                 0.087011   \n",
       "0                        0.880963                                 0.097904   \n",
       "0                        0.880963                                 0.097904   \n",
       "\n",
       "   fair_main_demographic_parity_ratio  ...  perf_grp_precision_0  \\\n",
       "0                            0.907596  ...                   NaN   \n",
       "0                            0.907596  ...              0.124473   \n",
       "0                            0.877723  ...                   NaN   \n",
       "0                            0.877723  ...              0.139730   \n",
       "\n",
       "   perf_grp_precision_1  perf_grp_false positive rate_0  \\\n",
       "0                   NaN                             NaN   \n",
       "0              0.139177                        0.845752   \n",
       "0                   NaN                             NaN   \n",
       "0              0.159219                        0.683359   \n",
       "\n",
       "   perf_grp_false positive rate_1  perf_grp_false negative rate_0  \\\n",
       "0                             NaN                             NaN   \n",
       "0                        0.934000                        0.077280   \n",
       "0                             NaN                             NaN   \n",
       "0                        0.775695                        0.148226   \n",
       "\n",
       "   perf_grp_false negative rate_1  perf_grp_selection rate_0  \\\n",
       "0                             NaN                        NaN   \n",
       "0                        0.008206                   0.854625   \n",
       "0                             NaN                        NaN   \n",
       "0                        0.035230                   0.702775   \n",
       "\n",
       "   perf_grp_selection rate_1  perf_grp_count_0  perf_grp_count_1  \n",
       "0                        NaN               NaN               NaN  \n",
       "0                   0.941637           20540.0           69170.0  \n",
       "0                        NaN               NaN               NaN  \n",
       "0                   0.800679           20540.0           69170.0  \n",
       "\n",
       "[4 rows x 50 columns]"
      ]
     },
     "execution_count": 61,
     "metadata": {},
     "output_type": "execute_result"
    }
   ],
   "source": [
    "final_output = universe_analysis.generate_final_output(\n",
    "    y_pred_prob=probs_test,\n",
    "    y_test=y_true,\n",
    "    org_test=org_test,\n",
    "    filter_data=filter_sub_universe_data,\n",
    "    cp_metrics_df=cp_metrics_df,\n",
    "    save=True,\n",
    ")\n",
    "final_output"
   ]
  },
  {
   "cell_type": "code",
   "execution_count": null,
   "id": "721ff514-cb11-46f8-b6fc-50392f74b5cb",
   "metadata": {
    "papermill": {
     "duration": 0.030248,
     "end_time": "2025-07-23T14:38:01.086875",
     "exception": false,
     "start_time": "2025-07-23T14:38:01.056627",
     "status": "completed"
    },
    "tags": []
   },
   "outputs": [],
   "source": []
  }
 ],
 "metadata": {
  "celltoolbar": "Tags",
  "kernelspec": {
   "display_name": "Python (CMA Fairness)",
   "language": "python",
   "name": "cma_fair_env"
  },
  "language_info": {
   "codemirror_mode": {
    "name": "ipython",
    "version": 3
   },
   "file_extension": ".py",
   "mimetype": "text/x-python",
   "name": "python",
   "nbconvert_exporter": "python",
   "pygments_lexer": "ipython3",
   "version": "3.10.12"
  },
  "papermill": {
   "default_parameters": {},
   "duration": 72.208095,
   "end_time": "2025-07-23T14:38:01.938014",
   "environment_variables": {},
   "exception": null,
   "input_path": "universe_analysis.ipynb",
   "output_path": "output/runs/9/notebooks/m_9-93c0c510ceb3dda2204b4f94066cae0a.ipynb",
   "parameters": {
    "output_dir": "output",
    "run_no": "9",
    "seed": "2023",
    "universe": "{\"cutoff\": [\"quantile_0.1\", \"quantile_0.25\"], \"eval_fairness_grouping\": [\"majority-minority\", \"nationality-all\"], \"exclude_features\": \"nationality-sex\", \"exclude_subgroups\": \"keep-all\", \"model\": \"rf\", \"scale\": \"do-not-scale\"}",
    "universe_id": "93c0c510ceb3dda2204b4f94066cae0a"
   },
   "start_time": "2025-07-23T14:36:49.729919",
   "version": "2.6.0"
  }
 },
 "nbformat": 4,
 "nbformat_minor": 5
}