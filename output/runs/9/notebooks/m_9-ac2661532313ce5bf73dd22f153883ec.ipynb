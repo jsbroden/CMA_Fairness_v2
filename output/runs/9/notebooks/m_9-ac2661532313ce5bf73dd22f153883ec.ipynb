{
 "cells": [
  {
   "cell_type": "code",
   "execution_count": 1,
   "id": "f159f837-637b-42ba-96b5-ec9a68c44524",
   "metadata": {
    "execution": {
     "iopub.execute_input": "2025-07-23T14:34:39.819270Z",
     "iopub.status.busy": "2025-07-23T14:34:39.818819Z",
     "iopub.status.idle": "2025-07-23T14:34:39.833828Z",
     "shell.execute_reply": "2025-07-23T14:34:39.832775Z"
    },
    "papermill": {
     "duration": 0.03672,
     "end_time": "2025-07-23T14:34:39.835723",
     "exception": false,
     "start_time": "2025-07-23T14:34:39.799003",
     "status": "completed"
    },
    "tags": []
   },
   "outputs": [
    {
     "name": "stdout",
     "output_type": "stream",
     "text": [
      "/dss/dsshome1/0C/ra93lal2/cma/CMA_Fairness_v2\n"
     ]
    },
    {
     "name": "stderr",
     "output_type": "stream",
     "text": [
      "/dss/dsshome1/0C/ra93lal2/.local/share/virtualenvs/CMA_Fairness_v2-3j10GkSs/lib/python3.10/site-packages/IPython/core/magics/osm.py:393: UserWarning: This is now an optional IPython functionality, using bookmarks requires you to install the `pickleshare` library.\n",
      "  bkms = self.shell.db.get('bookmarks', {})\n",
      "/dss/dsshome1/0C/ra93lal2/.local/share/virtualenvs/CMA_Fairness_v2-3j10GkSs/lib/python3.10/site-packages/IPython/core/magics/osm.py:417: UserWarning: This is now an optional IPython functionality, setting dhist requires you to install the `pickleshare` library.\n",
      "  self.shell.db['dhist'] = compress_dhist(dhist)[-100:]\n"
     ]
    }
   ],
   "source": [
    "%cd ~/cma/CMA_Fairness_v2"
   ]
  },
  {
   "cell_type": "markdown",
   "id": "de2603b9",
   "metadata": {
    "papermill": {
     "duration": 0.019435,
     "end_time": "2025-07-23T14:34:39.875159",
     "exception": false,
     "start_time": "2025-07-23T14:34:39.855724",
     "status": "completed"
    },
    "tags": []
   },
   "source": [
    "The following cell holds the definition of our parameters, these values can be overriden by rendering the with e.g. the following command:\n",
    "\n",
    "papermill -p alpha 0.2 -p ratio 0.3 universe_analysis.ipynb output/test_run.ipynb"
   ]
  },
  {
   "cell_type": "code",
   "execution_count": 2,
   "id": "a80968a0-40bb-4fa9-85ef-2d5eefb01975",
   "metadata": {
    "execution": {
     "iopub.execute_input": "2025-07-23T14:34:39.915531Z",
     "iopub.status.busy": "2025-07-23T14:34:39.914824Z",
     "iopub.status.idle": "2025-07-23T14:34:39.921311Z",
     "shell.execute_reply": "2025-07-23T14:34:39.920168Z"
    },
    "papermill": {
     "duration": 0.028514,
     "end_time": "2025-07-23T14:34:39.923113",
     "exception": false,
     "start_time": "2025-07-23T14:34:39.894599",
     "status": "completed"
    },
    "tags": []
   },
   "outputs": [
    {
     "name": "stdout",
     "output_type": "stream",
     "text": [
      "Current working directory: /dss/dsshome1/0C/ra93lal2/cma/CMA_Fairness_v2\n"
     ]
    }
   ],
   "source": [
    "import os\n",
    "print(\"Current working directory:\", os.getcwd())"
   ]
  },
  {
   "cell_type": "code",
   "execution_count": 3,
   "id": "2dce4c03",
   "metadata": {
    "execution": {
     "iopub.execute_input": "2025-07-23T14:34:39.964441Z",
     "iopub.status.busy": "2025-07-23T14:34:39.963728Z",
     "iopub.status.idle": "2025-07-23T14:34:39.971228Z",
     "shell.execute_reply": "2025-07-23T14:34:39.969982Z"
    },
    "papermill": {
     "duration": 0.030162,
     "end_time": "2025-07-23T14:34:39.973075",
     "exception": false,
     "start_time": "2025-07-23T14:34:39.942913",
     "status": "completed"
    },
    "tags": [
     "parameters"
    ]
   },
   "outputs": [],
   "source": [
    "run_no = 0\n",
    "universe_id = \"test\"\n",
    "universe = {\n",
    "    \"scale\": \"scale\", # \"scale\", \"do-not-scale\",\n",
    "    \"model\": \"elasticnet\", # \"logreg\", \"penalized_logreg\", \"rf\", \"gbm\", \"elasticnet\"\n",
    "    \"cutoff\": [\"quantile_0.15\", \"quantile_0.30\"],\n",
    "    \"exclude_features\": \"age\", # \"none\", \"nationality\", \"sex\", \"nationality-sex\", \"age\"\n",
    "    \"exclude_subgroups\": \"keep-all\", # \"keep-all\", \"drop-non-german\"\n",
    "    #\"training_sample\": \"restricted\", # \"restricted\", \"full\"\n",
    "    \"eval_fairness_grouping\": [\"majority-minority\", \"nationality-all\"]\n",
    "}\n",
    "\n",
    "output_dir=\"./output\"\n",
    "seed=0"
   ]
  },
  {
   "cell_type": "code",
   "execution_count": 4,
   "id": "5bb28b8b",
   "metadata": {
    "execution": {
     "iopub.execute_input": "2025-07-23T14:34:40.014680Z",
     "iopub.status.busy": "2025-07-23T14:34:40.013968Z",
     "iopub.status.idle": "2025-07-23T14:34:40.020141Z",
     "shell.execute_reply": "2025-07-23T14:34:40.018866Z"
    },
    "papermill": {
     "duration": 0.028946,
     "end_time": "2025-07-23T14:34:40.022269",
     "exception": false,
     "start_time": "2025-07-23T14:34:39.993323",
     "status": "completed"
    },
    "tags": [
     "injected-parameters"
    ]
   },
   "outputs": [],
   "source": [
    "# Parameters\n",
    "universe_id = \"ac2661532313ce5bf73dd22f153883ec\"\n",
    "run_no = \"9\"\n",
    "universe = \"{\\\"cutoff\\\": [\\\"quantile_0.1\\\", \\\"quantile_0.25\\\"], \\\"eval_fairness_grouping\\\": [\\\"majority-minority\\\", \\\"nationality-all\\\"], \\\"exclude_features\\\": \\\"sex\\\", \\\"exclude_subgroups\\\": \\\"drop-non-german\\\", \\\"model\\\": \\\"logreg\\\", \\\"scale\\\": \\\"do-not-scale\\\"}\"\n",
    "output_dir = \"output\"\n",
    "seed = \"2023\"\n"
   ]
  },
  {
   "cell_type": "code",
   "execution_count": 5,
   "id": "1650acaf",
   "metadata": {
    "execution": {
     "iopub.execute_input": "2025-07-23T14:34:40.063605Z",
     "iopub.status.busy": "2025-07-23T14:34:40.062902Z",
     "iopub.status.idle": "2025-07-23T14:34:40.068386Z",
     "shell.execute_reply": "2025-07-23T14:34:40.067331Z"
    },
    "papermill": {
     "duration": 0.027901,
     "end_time": "2025-07-23T14:34:40.070283",
     "exception": false,
     "start_time": "2025-07-23T14:34:40.042382",
     "status": "completed"
    },
    "tags": []
   },
   "outputs": [],
   "source": [
    "import json\n",
    "# Parse universe into dict if it is passed as a string\n",
    "if isinstance(universe, str):\n",
    "    universe = json.loads(universe)"
   ]
  },
  {
   "cell_type": "code",
   "execution_count": 6,
   "id": "16620c48",
   "metadata": {
    "execution": {
     "iopub.execute_input": "2025-07-23T14:34:40.113865Z",
     "iopub.status.busy": "2025-07-23T14:34:40.112784Z",
     "iopub.status.idle": "2025-07-23T14:34:40.164467Z",
     "shell.execute_reply": "2025-07-23T14:34:40.163422Z"
    },
    "papermill": {
     "duration": 0.076159,
     "end_time": "2025-07-23T14:34:40.166631",
     "exception": false,
     "start_time": "2025-07-23T14:34:40.090472",
     "status": "completed"
    },
    "tags": []
   },
   "outputs": [],
   "source": [
    "# Auto-reload the custom package\n",
    "%load_ext autoreload\n",
    "%autoreload 1\n",
    "%aimport fairness_multiverse"
   ]
  },
  {
   "cell_type": "code",
   "execution_count": 7,
   "id": "01c5c9f3",
   "metadata": {
    "execution": {
     "iopub.execute_input": "2025-07-23T14:34:40.208807Z",
     "iopub.status.busy": "2025-07-23T14:34:40.208218Z",
     "iopub.status.idle": "2025-07-23T14:34:42.399766Z",
     "shell.execute_reply": "2025-07-23T14:34:42.398639Z"
    },
    "papermill": {
     "duration": 2.215706,
     "end_time": "2025-07-23T14:34:42.402193",
     "exception": false,
     "start_time": "2025-07-23T14:34:40.186487",
     "status": "completed"
    },
    "tags": []
   },
   "outputs": [],
   "source": [
    "from fairness_multiverse.universe import UniverseAnalysis\n",
    "\n",
    "universe_analysis = UniverseAnalysis(\n",
    "    run_no = run_no,\n",
    "    universe_id = universe_id,\n",
    "    universe = universe,\n",
    "    output_dir=output_dir,\n",
    ")"
   ]
  },
  {
   "cell_type": "code",
   "execution_count": 8,
   "id": "106241f5",
   "metadata": {
    "execution": {
     "iopub.execute_input": "2025-07-23T14:34:42.446956Z",
     "iopub.status.busy": "2025-07-23T14:34:42.446334Z",
     "iopub.status.idle": "2025-07-23T14:34:42.454412Z",
     "shell.execute_reply": "2025-07-23T14:34:42.453097Z"
    },
    "papermill": {
     "duration": 0.033825,
     "end_time": "2025-07-23T14:34:42.456469",
     "exception": false,
     "start_time": "2025-07-23T14:34:42.422644",
     "status": "completed"
    },
    "tags": []
   },
   "outputs": [
    {
     "name": "stdout",
     "output_type": "stream",
     "text": [
      "Using Seed: 2023\n"
     ]
    }
   ],
   "source": [
    "import numpy as np\n",
    "parsed_seed = int(seed)\n",
    "np.random.seed(parsed_seed)\n",
    "print(f\"Using Seed: {parsed_seed}\")"
   ]
  },
  {
   "cell_type": "markdown",
   "id": "e0ebdc57",
   "metadata": {
    "papermill": {
     "duration": 0.017795,
     "end_time": "2025-07-23T14:34:42.494743",
     "exception": false,
     "start_time": "2025-07-23T14:34:42.476948",
     "status": "completed"
    },
    "tags": []
   },
   "source": [
    "# Loading Data"
   ]
  },
  {
   "cell_type": "markdown",
   "id": "681925a3",
   "metadata": {
    "papermill": {
     "duration": 0.017001,
     "end_time": "2025-07-23T14:34:42.528810",
     "exception": false,
     "start_time": "2025-07-23T14:34:42.511809",
     "status": "completed"
    },
    "tags": []
   },
   "source": [
    "Load siab_train, siab_test, siab_calib and/or \n",
    "load siab_train_features, siab_train_labels"
   ]
  },
  {
   "cell_type": "code",
   "execution_count": 9,
   "id": "f0496b8a",
   "metadata": {
    "execution": {
     "iopub.execute_input": "2025-07-23T14:34:42.565449Z",
     "iopub.status.busy": "2025-07-23T14:34:42.564552Z",
     "iopub.status.idle": "2025-07-23T14:34:42.571493Z",
     "shell.execute_reply": "2025-07-23T14:34:42.570402Z"
    },
    "papermill": {
     "duration": 0.027757,
     "end_time": "2025-07-23T14:34:42.573807",
     "exception": false,
     "start_time": "2025-07-23T14:34:42.546050",
     "status": "completed"
    },
    "tags": []
   },
   "outputs": [],
   "source": [
    "# Do I need to load siab? Delete this cell?\n",
    "\n",
    "#from pathlib import Path\n",
    "#import pandas as pd\n",
    "#\n",
    "## File paths\n",
    "#raw_file = Path(\"data/raw/siab.csv\")\n",
    "#cache_file = Path(\"data/siab_cached.csv.gz\")\n",
    "#\n",
    "## Ensure cache directory exists\n",
    "#cache_file.parent.mkdir(parents=True, exist_ok=True)\n",
    "#\n",
    "## Load with simple caching\n",
    "#if cache_file.exists():\n",
    "#    print(f\"Loading SIAB data from cache: {cache_file}\")\n",
    "#    siab = pd.read_csv(cache_file, compression='gzip')\n",
    "#else:\n",
    "#    print(f\"Cache not found. Reading raw SIAB data: {raw_file}\")\n",
    "#    siab = pd.read_csv(raw_file)\n",
    "#    siab.to_csv(cache_file, index=False, compression='gzip')\n",
    "#    print(f\"Cached SIAB data to: {cache_file}\")\n",
    "#\n",
    "## Now use `siab` DataFrame as needed\n",
    "#print(siab.shape)\n"
   ]
  },
  {
   "cell_type": "code",
   "execution_count": 10,
   "id": "a0edb063",
   "metadata": {
    "execution": {
     "iopub.execute_input": "2025-07-23T14:34:42.613694Z",
     "iopub.status.busy": "2025-07-23T14:34:42.613163Z",
     "iopub.status.idle": "2025-07-23T14:34:43.900349Z",
     "shell.execute_reply": "2025-07-23T14:34:43.899528Z"
    },
    "papermill": {
     "duration": 1.308895,
     "end_time": "2025-07-23T14:34:43.901917",
     "exception": false,
     "start_time": "2025-07-23T14:34:42.593022",
     "status": "completed"
    },
    "tags": []
   },
   "outputs": [],
   "source": [
    "import pandas as pd\n",
    "\n",
    "X_train = pd.read_csv(\"./data/X_train.csv\")\n",
    "y_train = pd.read_csv(\"./data/y_train.csv\")"
   ]
  },
  {
   "cell_type": "code",
   "execution_count": 11,
   "id": "63d08085",
   "metadata": {
    "execution": {
     "iopub.execute_input": "2025-07-23T14:34:43.923605Z",
     "iopub.status.busy": "2025-07-23T14:34:43.922692Z",
     "iopub.status.idle": "2025-07-23T14:34:45.658333Z",
     "shell.execute_reply": "2025-07-23T14:34:45.657155Z"
    },
    "papermill": {
     "duration": 1.748729,
     "end_time": "2025-07-23T14:34:45.660529",
     "exception": false,
     "start_time": "2025-07-23T14:34:43.911800",
     "status": "completed"
    },
    "tags": []
   },
   "outputs": [],
   "source": [
    "X_test = pd.read_csv(\"./data/X_test.csv\")\n",
    "y_true = pd.read_csv(\"./data/y_test.csv\")"
   ]
  },
  {
   "cell_type": "code",
   "execution_count": 12,
   "id": "98a8d0fa-1d3d-4ed8-bb2c-281470e24add",
   "metadata": {
    "execution": {
     "iopub.execute_input": "2025-07-23T14:34:45.703795Z",
     "iopub.status.busy": "2025-07-23T14:34:45.702797Z",
     "iopub.status.idle": "2025-07-23T14:34:47.219152Z",
     "shell.execute_reply": "2025-07-23T14:34:47.217962Z"
    },
    "papermill": {
     "duration": 1.539924,
     "end_time": "2025-07-23T14:34:47.221086",
     "exception": false,
     "start_time": "2025-07-23T14:34:45.681162",
     "status": "completed"
    },
    "tags": []
   },
   "outputs": [],
   "source": [
    "# Calibration data for conformal\n",
    "X_calib = pd.read_csv(\"./data/X_calib.csv\")\n",
    "y_calib = pd.read_csv(\"./data/y_calib.csv\")"
   ]
  },
  {
   "cell_type": "code",
   "execution_count": 13,
   "id": "e6c733c5",
   "metadata": {
    "execution": {
     "iopub.execute_input": "2025-07-23T14:34:47.258059Z",
     "iopub.status.busy": "2025-07-23T14:34:47.257334Z",
     "iopub.status.idle": "2025-07-23T14:34:47.371371Z",
     "shell.execute_reply": "2025-07-23T14:34:47.370423Z"
    },
    "papermill": {
     "duration": 0.134735,
     "end_time": "2025-07-23T14:34:47.373320",
     "exception": false,
     "start_time": "2025-07-23T14:34:47.238585",
     "status": "completed"
    },
    "tags": []
   },
   "outputs": [],
   "source": [
    "# Auxiliary data needed downstream in the pipeline\n",
    "\n",
    "org_train = X_train.copy()\n",
    "org_test = X_test.copy()\n",
    "org_calib = X_calib.copy()"
   ]
  },
  {
   "cell_type": "markdown",
   "id": "0a4a1b33",
   "metadata": {
    "papermill": {
     "duration": 0.016979,
     "end_time": "2025-07-23T14:34:47.407899",
     "exception": false,
     "start_time": "2025-07-23T14:34:47.390920",
     "status": "completed"
    },
    "tags": []
   },
   "source": [
    "# Preprocessing Data"
   ]
  },
  {
   "cell_type": "code",
   "execution_count": 14,
   "id": "ca879031",
   "metadata": {
    "execution": {
     "iopub.execute_input": "2025-07-23T14:34:47.443977Z",
     "iopub.status.busy": "2025-07-23T14:34:47.443447Z",
     "iopub.status.idle": "2025-07-23T14:34:47.449969Z",
     "shell.execute_reply": "2025-07-23T14:34:47.448949Z"
    },
    "papermill": {
     "duration": 0.026834,
     "end_time": "2025-07-23T14:34:47.451837",
     "exception": false,
     "start_time": "2025-07-23T14:34:47.425003",
     "status": "completed"
    },
    "tags": []
   },
   "outputs": [],
   "source": [
    "# EXCLUDE PROTECTED FEATURES\n",
    "# ----------------------\n",
    "# \"exclude_features\": \"none\", # \"nationality\", \"sex\", \"nationality-sex\"\n",
    "\n",
    "excluded_features = universe[\"exclude_features\"].split(\"-\") # split, e.g.: \"nationality-sex\" -> [\"nationality\", \"sex\"]\n",
    "excluded_features_dictionary = {\n",
    "    \"nationality\": [\"maxdeutsch1\", \"maxdeutsch.Missing.\"],\n",
    "    \"sex\": [\"frau1\"],\n",
    "    \"age\": [\"age\"],\n",
    "}\n"
   ]
  },
  {
   "cell_type": "code",
   "execution_count": 15,
   "id": "b745ac60",
   "metadata": {
    "execution": {
     "iopub.execute_input": "2025-07-23T14:34:47.488859Z",
     "iopub.status.busy": "2025-07-23T14:34:47.488367Z",
     "iopub.status.idle": "2025-07-23T14:34:47.494542Z",
     "shell.execute_reply": "2025-07-23T14:34:47.493579Z"
    },
    "papermill": {
     "duration": 0.026239,
     "end_time": "2025-07-23T14:34:47.496248",
     "exception": false,
     "start_time": "2025-07-23T14:34:47.470009",
     "status": "completed"
    },
    "tags": []
   },
   "outputs": [],
   "source": [
    "# Code nice names to column names\n",
    "\n",
    "excluded_features_columns = [\n",
    "    excluded_features_dictionary[f] for f in excluded_features if len(f) > 0 and f != \"none\"\n",
    "]"
   ]
  },
  {
   "cell_type": "code",
   "execution_count": 16,
   "id": "f84f73a2",
   "metadata": {
    "execution": {
     "iopub.execute_input": "2025-07-23T14:34:47.533598Z",
     "iopub.status.busy": "2025-07-23T14:34:47.533056Z",
     "iopub.status.idle": "2025-07-23T14:34:47.539907Z",
     "shell.execute_reply": "2025-07-23T14:34:47.538776Z"
    },
    "papermill": {
     "duration": 0.027464,
     "end_time": "2025-07-23T14:34:47.541802",
     "exception": false,
     "start_time": "2025-07-23T14:34:47.514338",
     "status": "completed"
    },
    "tags": []
   },
   "outputs": [],
   "source": [
    "from utils import flatten_once\n",
    "\n",
    "excluded_features_columns = flatten_once(excluded_features_columns)"
   ]
  },
  {
   "cell_type": "code",
   "execution_count": 17,
   "id": "884dea22",
   "metadata": {
    "execution": {
     "iopub.execute_input": "2025-07-23T14:34:47.579191Z",
     "iopub.status.busy": "2025-07-23T14:34:47.578400Z",
     "iopub.status.idle": "2025-07-23T14:34:47.626332Z",
     "shell.execute_reply": "2025-07-23T14:34:47.625267Z"
    },
    "papermill": {
     "duration": 0.067969,
     "end_time": "2025-07-23T14:34:47.628230",
     "exception": false,
     "start_time": "2025-07-23T14:34:47.560261",
     "status": "completed"
    },
    "tags": []
   },
   "outputs": [
    {
     "name": "stdout",
     "output_type": "stream",
     "text": [
      "Dropping features: ['frau1']\n"
     ]
    }
   ],
   "source": [
    "if len(excluded_features_columns) > 0:\n",
    "    print(f\"Dropping features: {excluded_features_columns}\")\n",
    "    X_train.drop(excluded_features_columns, axis=1, inplace=True)"
   ]
  },
  {
   "cell_type": "code",
   "execution_count": 18,
   "id": "95ab8b16",
   "metadata": {
    "execution": {
     "iopub.execute_input": "2025-07-23T14:34:47.666652Z",
     "iopub.status.busy": "2025-07-23T14:34:47.665968Z",
     "iopub.status.idle": "2025-07-23T14:34:47.719239Z",
     "shell.execute_reply": "2025-07-23T14:34:47.718038Z"
    },
    "papermill": {
     "duration": 0.074101,
     "end_time": "2025-07-23T14:34:47.721059",
     "exception": false,
     "start_time": "2025-07-23T14:34:47.646958",
     "status": "completed"
    },
    "tags": []
   },
   "outputs": [
    {
     "name": "stdout",
     "output_type": "stream",
     "text": [
      "Dropping features: ['frau1']\n"
     ]
    }
   ],
   "source": [
    "if len(excluded_features_columns) > 0:\n",
    "    print(f\"Dropping features: {excluded_features_columns}\")\n",
    "    X_test.drop(excluded_features_columns, axis=1, inplace=True)"
   ]
  },
  {
   "cell_type": "code",
   "execution_count": 19,
   "id": "1853aaf5-fb9f-46cb-a2b5-8ea4ae2237e4",
   "metadata": {
    "execution": {
     "iopub.execute_input": "2025-07-23T14:34:47.760962Z",
     "iopub.status.busy": "2025-07-23T14:34:47.760090Z",
     "iopub.status.idle": "2025-07-23T14:34:47.824701Z",
     "shell.execute_reply": "2025-07-23T14:34:47.823691Z"
    },
    "papermill": {
     "duration": 0.085918,
     "end_time": "2025-07-23T14:34:47.826725",
     "exception": false,
     "start_time": "2025-07-23T14:34:47.740807",
     "status": "completed"
    },
    "tags": []
   },
   "outputs": [
    {
     "name": "stdout",
     "output_type": "stream",
     "text": [
      "Dropping features: ['frau1']\n"
     ]
    }
   ],
   "source": [
    "if len(excluded_features_columns) > 0:\n",
    "    print(f\"Dropping features: {excluded_features_columns}\")\n",
    "    X_calib.drop(excluded_features_columns, axis=1, inplace=True)"
   ]
  },
  {
   "cell_type": "code",
   "execution_count": 20,
   "id": "76c4dc6d",
   "metadata": {
    "execution": {
     "iopub.execute_input": "2025-07-23T14:34:47.865693Z",
     "iopub.status.busy": "2025-07-23T14:34:47.865201Z",
     "iopub.status.idle": "2025-07-23T14:34:47.870342Z",
     "shell.execute_reply": "2025-07-23T14:34:47.869592Z"
    },
    "papermill": {
     "duration": 0.025982,
     "end_time": "2025-07-23T14:34:47.871817",
     "exception": false,
     "start_time": "2025-07-23T14:34:47.845835",
     "status": "completed"
    },
    "tags": []
   },
   "outputs": [],
   "source": [
    "# EXCLUDE CERTAIN SUBGROUPS\n",
    "# ----------------------\n",
    "\n",
    "mode = universe.get(\"exclude_subgroups\", \"keep-all\") \n",
    "# Fetches the exclude_subgroups setting from the universe dict.\n",
    "# Defaults to \"keep-all\" if the key is missing."
   ]
  },
  {
   "cell_type": "code",
   "execution_count": 21,
   "id": "21994072",
   "metadata": {
    "execution": {
     "iopub.execute_input": "2025-07-23T14:34:47.893911Z",
     "iopub.status.busy": "2025-07-23T14:34:47.893547Z",
     "iopub.status.idle": "2025-07-23T14:34:47.899297Z",
     "shell.execute_reply": "2025-07-23T14:34:47.898428Z"
    },
    "papermill": {
     "duration": 0.018114,
     "end_time": "2025-07-23T14:34:47.900847",
     "exception": false,
     "start_time": "2025-07-23T14:34:47.882733",
     "status": "completed"
    },
    "tags": []
   },
   "outputs": [],
   "source": [
    "if mode == \"keep-all\":\n",
    "    keep_mask = pd.Series(True, index=org_train.index)\n",
    "\n",
    "# org_train contains the original feature columns from features_org (in Simson)\n",
    "# features_org contains unprocessed features, for me X_train at beginning ???\n",
    "# For keep-all, creates a boolean Series (keep_mask) of all True, so no rows are removed.\n",
    "\n",
    "elif mode == \"drop-non-german\":\n",
    "    keep_mask = org_train[\"maxdeutsch1\"] == 1 # ??? what about missing values?\n",
    "\n",
    "else:\n",
    "    raise ValueError(f\"Unsupported mode for exclude_subgroups: {mode}\")\n"
   ]
  },
  {
   "cell_type": "code",
   "execution_count": 22,
   "id": "71651440",
   "metadata": {
    "execution": {
     "iopub.execute_input": "2025-07-23T14:34:47.946059Z",
     "iopub.status.busy": "2025-07-23T14:34:47.945515Z",
     "iopub.status.idle": "2025-07-23T14:34:47.953103Z",
     "shell.execute_reply": "2025-07-23T14:34:47.952082Z"
    },
    "papermill": {
     "duration": 0.03188,
     "end_time": "2025-07-23T14:34:47.954942",
     "exception": false,
     "start_time": "2025-07-23T14:34:47.923062",
     "status": "completed"
    },
    "tags": []
   },
   "outputs": [
    {
     "name": "stdout",
     "output_type": "stream",
     "text": [
      "Dropping 10036 rows (13.38%) where mode='drop-non-german'\n"
     ]
    }
   ],
   "source": [
    "n_drop = (~keep_mask).sum() # Calculates how many rows are set to be dropped\n",
    "if n_drop > 0:\n",
    "    pct = n_drop / len(keep_mask) * 100\n",
    "    print(f\"Dropping {n_drop} rows ({pct:.2f}%) where mode='{mode}'\")"
   ]
  },
  {
   "cell_type": "code",
   "execution_count": 23,
   "id": "5fb8eee5",
   "metadata": {
    "execution": {
     "iopub.execute_input": "2025-07-23T14:34:47.997970Z",
     "iopub.status.busy": "2025-07-23T14:34:47.997244Z",
     "iopub.status.idle": "2025-07-23T14:34:48.048602Z",
     "shell.execute_reply": "2025-07-23T14:34:48.047576Z"
    },
    "papermill": {
     "duration": 0.073914,
     "end_time": "2025-07-23T14:34:48.050774",
     "exception": false,
     "start_time": "2025-07-23T14:34:47.976860",
     "status": "completed"
    },
    "tags": []
   },
   "outputs": [],
   "source": [
    "X_train = X_train[keep_mask]"
   ]
  },
  {
   "cell_type": "code",
   "execution_count": 24,
   "id": "b202bb3a",
   "metadata": {
    "execution": {
     "iopub.execute_input": "2025-07-23T14:34:48.097201Z",
     "iopub.status.busy": "2025-07-23T14:34:48.096672Z",
     "iopub.status.idle": "2025-07-23T14:34:48.104580Z",
     "shell.execute_reply": "2025-07-23T14:34:48.103703Z"
    },
    "papermill": {
     "duration": 0.031286,
     "end_time": "2025-07-23T14:34:48.106650",
     "exception": false,
     "start_time": "2025-07-23T14:34:48.075364",
     "status": "completed"
    },
    "tags": []
   },
   "outputs": [],
   "source": [
    "y_train = y_train[keep_mask]"
   ]
  },
  {
   "cell_type": "markdown",
   "id": "493e2ac3",
   "metadata": {
    "papermill": {
     "duration": 0.019957,
     "end_time": "2025-07-23T14:34:48.148413",
     "exception": false,
     "start_time": "2025-07-23T14:34:48.128456",
     "status": "completed"
    },
    "tags": []
   },
   "source": [
    "# Model Training"
   ]
  },
  {
   "cell_type": "code",
   "execution_count": 25,
   "id": "679e1268",
   "metadata": {
    "execution": {
     "iopub.execute_input": "2025-07-23T14:34:48.195225Z",
     "iopub.status.busy": "2025-07-23T14:34:48.194675Z",
     "iopub.status.idle": "2025-07-23T14:34:48.309648Z",
     "shell.execute_reply": "2025-07-23T14:34:48.308542Z"
    },
    "papermill": {
     "duration": 0.145231,
     "end_time": "2025-07-23T14:34:48.311950",
     "exception": false,
     "start_time": "2025-07-23T14:34:48.166719",
     "status": "completed"
    },
    "tags": []
   },
   "outputs": [],
   "source": [
    "from sklearn.linear_model import LogisticRegression\n",
    "from sklearn.ensemble import GradientBoostingClassifier, RandomForestClassifier\n",
    "\n",
    "if (universe[\"model\"] == \"logreg\"):\n",
    "    model = LogisticRegression() #penalty=\"none\") #, solver=\"newton-cg\", max_iter=1) # include random_state=19 ?\n",
    "elif (universe[\"model\"] == \"penalized_logreg\"):\n",
    "    model = LogisticRegression(penalty=\"l2\", C=1.0) #, solver=\"newton-cg\", max_iter=1)\n",
    "elif (universe[\"model\"] == \"rf\"):\n",
    "    model = RandomForestClassifier(n_estimators=100, n_jobs=-1)\n",
    "elif (universe[\"model\"] == \"gbm\"):\n",
    "    model = GradientBoostingClassifier()\n",
    "elif (universe[\"model\"] == \"elasticnet\"):\n",
    "    model = LogisticRegression(penalty = 'elasticnet', solver = 'saga', l1_ratio = 0.5, max_iter=5000) # which solver to use?\n",
    "else:\n",
    "    raise \"Unsupported universe.model\""
   ]
  },
  {
   "cell_type": "code",
   "execution_count": 26,
   "id": "0cc8f744",
   "metadata": {
    "execution": {
     "iopub.execute_input": "2025-07-23T14:34:48.357298Z",
     "iopub.status.busy": "2025-07-23T14:34:48.356528Z",
     "iopub.status.idle": "2025-07-23T14:34:48.363410Z",
     "shell.execute_reply": "2025-07-23T14:34:48.362296Z"
    },
    "papermill": {
     "duration": 0.030937,
     "end_time": "2025-07-23T14:34:48.365362",
     "exception": false,
     "start_time": "2025-07-23T14:34:48.334425",
     "status": "completed"
    },
    "tags": []
   },
   "outputs": [],
   "source": [
    "import numpy as np\n",
    "from sklearn.pipeline import Pipeline\n",
    "from sklearn.preprocessing import StandardScaler\n",
    "\n",
    "model = Pipeline([\n",
    "    #(\"continuous_processor\", continuous_processor),\n",
    "    #(\"categorical_preprocessor\", categorical_preprocessor),\n",
    "    (\"scale\", StandardScaler() if universe[\"scale\"] == \"scale\" else None), \n",
    "    (\"model\", model),\n",
    "])"
   ]
  },
  {
   "cell_type": "code",
   "execution_count": 27,
   "id": "9442c04d",
   "metadata": {
    "execution": {
     "iopub.execute_input": "2025-07-23T14:34:48.408803Z",
     "iopub.status.busy": "2025-07-23T14:34:48.408009Z",
     "iopub.status.idle": "2025-07-23T14:34:51.352021Z",
     "shell.execute_reply": "2025-07-23T14:34:51.350982Z"
    },
    "papermill": {
     "duration": 2.968018,
     "end_time": "2025-07-23T14:34:51.353858",
     "exception": false,
     "start_time": "2025-07-23T14:34:48.385840",
     "status": "completed"
    },
    "tags": []
   },
   "outputs": [
    {
     "name": "stderr",
     "output_type": "stream",
     "text": [
      "/dss/dsshome1/0C/ra93lal2/.local/share/virtualenvs/CMA_Fairness_v2-3j10GkSs/lib/python3.10/site-packages/sklearn/linear_model/_logistic.py:444: ConvergenceWarning: lbfgs failed to converge (status=1):\n",
      "STOP: TOTAL NO. of ITERATIONS REACHED LIMIT.\n",
      "\n",
      "Increase the number of iterations (max_iter) or scale the data as shown in:\n",
      "    https://scikit-learn.org/stable/modules/preprocessing.html\n",
      "Please also refer to the documentation for alternative solver options:\n",
      "    https://scikit-learn.org/stable/modules/linear_model.html#logistic-regression\n",
      "  n_iter_i = _check_optimize_result(\n"
     ]
    },
    {
     "data": {
      "text/html": [
       "<style>#sk-container-id-1 {color: black;background-color: white;}#sk-container-id-1 pre{padding: 0;}#sk-container-id-1 div.sk-toggleable {background-color: white;}#sk-container-id-1 label.sk-toggleable__label {cursor: pointer;display: block;width: 100%;margin-bottom: 0;padding: 0.3em;box-sizing: border-box;text-align: center;}#sk-container-id-1 label.sk-toggleable__label-arrow:before {content: \"▸\";float: left;margin-right: 0.25em;color: #696969;}#sk-container-id-1 label.sk-toggleable__label-arrow:hover:before {color: black;}#sk-container-id-1 div.sk-estimator:hover label.sk-toggleable__label-arrow:before {color: black;}#sk-container-id-1 div.sk-toggleable__content {max-height: 0;max-width: 0;overflow: hidden;text-align: left;background-color: #f0f8ff;}#sk-container-id-1 div.sk-toggleable__content pre {margin: 0.2em;color: black;border-radius: 0.25em;background-color: #f0f8ff;}#sk-container-id-1 input.sk-toggleable__control:checked~div.sk-toggleable__content {max-height: 200px;max-width: 100%;overflow: auto;}#sk-container-id-1 input.sk-toggleable__control:checked~label.sk-toggleable__label-arrow:before {content: \"▾\";}#sk-container-id-1 div.sk-estimator input.sk-toggleable__control:checked~label.sk-toggleable__label {background-color: #d4ebff;}#sk-container-id-1 div.sk-label input.sk-toggleable__control:checked~label.sk-toggleable__label {background-color: #d4ebff;}#sk-container-id-1 input.sk-hidden--visually {border: 0;clip: rect(1px 1px 1px 1px);clip: rect(1px, 1px, 1px, 1px);height: 1px;margin: -1px;overflow: hidden;padding: 0;position: absolute;width: 1px;}#sk-container-id-1 div.sk-estimator {font-family: monospace;background-color: #f0f8ff;border: 1px dotted black;border-radius: 0.25em;box-sizing: border-box;margin-bottom: 0.5em;}#sk-container-id-1 div.sk-estimator:hover {background-color: #d4ebff;}#sk-container-id-1 div.sk-parallel-item::after {content: \"\";width: 100%;border-bottom: 1px solid gray;flex-grow: 1;}#sk-container-id-1 div.sk-label:hover label.sk-toggleable__label {background-color: #d4ebff;}#sk-container-id-1 div.sk-serial::before {content: \"\";position: absolute;border-left: 1px solid gray;box-sizing: border-box;top: 0;bottom: 0;left: 50%;z-index: 0;}#sk-container-id-1 div.sk-serial {display: flex;flex-direction: column;align-items: center;background-color: white;padding-right: 0.2em;padding-left: 0.2em;position: relative;}#sk-container-id-1 div.sk-item {position: relative;z-index: 1;}#sk-container-id-1 div.sk-parallel {display: flex;align-items: stretch;justify-content: center;background-color: white;position: relative;}#sk-container-id-1 div.sk-item::before, #sk-container-id-1 div.sk-parallel-item::before {content: \"\";position: absolute;border-left: 1px solid gray;box-sizing: border-box;top: 0;bottom: 0;left: 50%;z-index: -1;}#sk-container-id-1 div.sk-parallel-item {display: flex;flex-direction: column;z-index: 1;position: relative;background-color: white;}#sk-container-id-1 div.sk-parallel-item:first-child::after {align-self: flex-end;width: 50%;}#sk-container-id-1 div.sk-parallel-item:last-child::after {align-self: flex-start;width: 50%;}#sk-container-id-1 div.sk-parallel-item:only-child::after {width: 0;}#sk-container-id-1 div.sk-dashed-wrapped {border: 1px dashed gray;margin: 0 0.4em 0.5em 0.4em;box-sizing: border-box;padding-bottom: 0.4em;background-color: white;}#sk-container-id-1 div.sk-label label {font-family: monospace;font-weight: bold;display: inline-block;line-height: 1.2em;}#sk-container-id-1 div.sk-label-container {text-align: center;}#sk-container-id-1 div.sk-container {/* jupyter's `normalize.less` sets `[hidden] { display: none; }` but bootstrap.min.css set `[hidden] { display: none !important; }` so we also need the `!important` here to be able to override the default hidden behavior on the sphinx rendered scikit-learn.org. See: https://github.com/scikit-learn/scikit-learn/issues/21755 */display: inline-block !important;position: relative;}#sk-container-id-1 div.sk-text-repr-fallback {display: none;}</style><div id=\"sk-container-id-1\" class=\"sk-top-container\"><div class=\"sk-text-repr-fallback\"><pre>Pipeline(steps=[(&#x27;scale&#x27;, None), (&#x27;model&#x27;, LogisticRegression())])</pre><b>In a Jupyter environment, please rerun this cell to show the HTML representation or trust the notebook. <br />On GitHub, the HTML representation is unable to render, please try loading this page with nbviewer.org.</b></div><div class=\"sk-container\" hidden><div class=\"sk-item sk-dashed-wrapped\"><div class=\"sk-label-container\"><div class=\"sk-label sk-toggleable\"><input class=\"sk-toggleable__control sk-hidden--visually\" id=\"sk-estimator-id-1\" type=\"checkbox\" ><label for=\"sk-estimator-id-1\" class=\"sk-toggleable__label sk-toggleable__label-arrow\">Pipeline</label><div class=\"sk-toggleable__content\"><pre>Pipeline(steps=[(&#x27;scale&#x27;, None), (&#x27;model&#x27;, LogisticRegression())])</pre></div></div></div><div class=\"sk-serial\"><div class=\"sk-item\"><div class=\"sk-estimator sk-toggleable\"><input class=\"sk-toggleable__control sk-hidden--visually\" id=\"sk-estimator-id-2\" type=\"checkbox\" ><label for=\"sk-estimator-id-2\" class=\"sk-toggleable__label sk-toggleable__label-arrow\">None</label><div class=\"sk-toggleable__content\"><pre>None</pre></div></div></div><div class=\"sk-item\"><div class=\"sk-estimator sk-toggleable\"><input class=\"sk-toggleable__control sk-hidden--visually\" id=\"sk-estimator-id-3\" type=\"checkbox\" ><label for=\"sk-estimator-id-3\" class=\"sk-toggleable__label sk-toggleable__label-arrow\">LogisticRegression</label><div class=\"sk-toggleable__content\"><pre>LogisticRegression()</pre></div></div></div></div></div></div></div>"
      ],
      "text/plain": [
       "Pipeline(steps=[('scale', None), ('model', LogisticRegression())])"
      ]
     },
     "execution_count": 27,
     "metadata": {},
     "output_type": "execute_result"
    }
   ],
   "source": [
    "model.fit(X_train, y_train.values.ravel())"
   ]
  },
  {
   "cell_type": "code",
   "execution_count": 28,
   "id": "af59f8c0",
   "metadata": {
    "execution": {
     "iopub.execute_input": "2025-07-23T14:34:51.398298Z",
     "iopub.status.busy": "2025-07-23T14:34:51.397545Z",
     "iopub.status.idle": "2025-07-23T14:34:51.403772Z",
     "shell.execute_reply": "2025-07-23T14:34:51.402669Z"
    },
    "papermill": {
     "duration": 0.030207,
     "end_time": "2025-07-23T14:34:51.406120",
     "exception": false,
     "start_time": "2025-07-23T14:34:51.375913",
     "status": "completed"
    },
    "tags": []
   },
   "outputs": [],
   "source": [
    "from fairness_multiverse.universe import predict_w_threshold"
   ]
  },
  {
   "cell_type": "code",
   "execution_count": 29,
   "id": "a7cf2e16",
   "metadata": {
    "execution": {
     "iopub.execute_input": "2025-07-23T14:34:51.458335Z",
     "iopub.status.busy": "2025-07-23T14:34:51.457580Z",
     "iopub.status.idle": "2025-07-23T14:34:51.561247Z",
     "shell.execute_reply": "2025-07-23T14:34:51.560033Z"
    },
    "papermill": {
     "duration": 0.132244,
     "end_time": "2025-07-23T14:34:51.563321",
     "exception": false,
     "start_time": "2025-07-23T14:34:51.431077",
     "status": "completed"
    },
    "tags": []
   },
   "outputs": [
    {
     "data": {
      "text/plain": [
       "0.8605841043361944"
      ]
     },
     "execution_count": 29,
     "metadata": {},
     "output_type": "execute_result"
    }
   ],
   "source": [
    "probs_test = model.predict_proba(X_test)\n",
    "\n",
    "'''\n",
    "Below code returns a boolean array (or binary 0/1 array depending on how it’s used) where each element \n",
    "is True if the probability of class 1 is greater than or equal to the threshold, and False otherwise.\n",
    "'''\n",
    "y_pred_default = predict_w_threshold(probs_test, 0.5)\n",
    "\n",
    "from sklearn.metrics import accuracy_score\n",
    "\n",
    "# Naive prediction\n",
    "accuracy_score(y_true = y_true, y_pred = y_pred_default)"
   ]
  },
  {
   "cell_type": "code",
   "execution_count": 30,
   "id": "081964c3",
   "metadata": {
    "execution": {
     "iopub.execute_input": "2025-07-23T14:34:51.615722Z",
     "iopub.status.busy": "2025-07-23T14:34:51.614796Z",
     "iopub.status.idle": "2025-07-23T14:34:51.705828Z",
     "shell.execute_reply": "2025-07-23T14:34:51.704701Z"
    },
    "papermill": {
     "duration": 0.120678,
     "end_time": "2025-07-23T14:34:51.708481",
     "exception": false,
     "start_time": "2025-07-23T14:34:51.587803",
     "status": "completed"
    },
    "tags": []
   },
   "outputs": [
    {
     "data": {
      "text/plain": [
       "array([0, 0, 0, ..., 0, 0, 0])"
      ]
     },
     "execution_count": 30,
     "metadata": {},
     "output_type": "execute_result"
    }
   ],
   "source": [
    "model.predict(X_test)"
   ]
  },
  {
   "cell_type": "markdown",
   "id": "56c9705b",
   "metadata": {
    "papermill": {
     "duration": 0.025326,
     "end_time": "2025-07-23T14:34:51.758610",
     "exception": false,
     "start_time": "2025-07-23T14:34:51.733284",
     "status": "completed"
    },
    "tags": []
   },
   "source": [
    "# Conformal Prediction"
   ]
  },
  {
   "cell_type": "code",
   "execution_count": 31,
   "id": "160ec6ff",
   "metadata": {
    "execution": {
     "iopub.execute_input": "2025-07-23T14:34:51.812225Z",
     "iopub.status.busy": "2025-07-23T14:34:51.811473Z",
     "iopub.status.idle": "2025-07-23T14:34:51.817282Z",
     "shell.execute_reply": "2025-07-23T14:34:51.816143Z"
    },
    "papermill": {
     "duration": 0.03498,
     "end_time": "2025-07-23T14:34:51.819283",
     "exception": false,
     "start_time": "2025-07-23T14:34:51.784303",
     "status": "completed"
    },
    "tags": []
   },
   "outputs": [],
   "source": [
    "# Miscoverage level for conformal prediction (10% allowed error rate => 90% target coverage)\n",
    "alpha = 0.1"
   ]
  },
  {
   "cell_type": "code",
   "execution_count": 32,
   "id": "eadf4555-3dd3-440e-8e35-f82a4ad9f855",
   "metadata": {
    "execution": {
     "iopub.execute_input": "2025-07-23T14:34:51.871868Z",
     "iopub.status.busy": "2025-07-23T14:34:51.871101Z",
     "iopub.status.idle": "2025-07-23T14:34:51.957815Z",
     "shell.execute_reply": "2025-07-23T14:34:51.956705Z"
    },
    "papermill": {
     "duration": 0.115502,
     "end_time": "2025-07-23T14:34:51.960198",
     "exception": false,
     "start_time": "2025-07-23T14:34:51.844696",
     "status": "completed"
    },
    "tags": []
   },
   "outputs": [],
   "source": [
    "probs_calib = model.predict_proba(X_calib)"
   ]
  },
  {
   "cell_type": "code",
   "execution_count": 33,
   "id": "2ed93547-6d5d-4983-9b36-1ecb300da49a",
   "metadata": {
    "execution": {
     "iopub.execute_input": "2025-07-23T14:34:52.014761Z",
     "iopub.status.busy": "2025-07-23T14:34:52.014007Z",
     "iopub.status.idle": "2025-07-23T14:34:52.020967Z",
     "shell.execute_reply": "2025-07-23T14:34:52.019713Z"
    },
    "papermill": {
     "duration": 0.036683,
     "end_time": "2025-07-23T14:34:52.023080",
     "exception": false,
     "start_time": "2025-07-23T14:34:51.986397",
     "status": "completed"
    },
    "tags": []
   },
   "outputs": [],
   "source": [
    "y_calib = y_calib.values.ravel().astype(int)"
   ]
  },
  {
   "cell_type": "code",
   "execution_count": 34,
   "id": "65d1320d-f588-4b38-9072-62af1ae97f7d",
   "metadata": {
    "execution": {
     "iopub.execute_input": "2025-07-23T14:34:52.076872Z",
     "iopub.status.busy": "2025-07-23T14:34:52.076085Z",
     "iopub.status.idle": "2025-07-23T14:34:52.085112Z",
     "shell.execute_reply": "2025-07-23T14:34:52.083881Z"
    },
    "papermill": {
     "duration": 0.038497,
     "end_time": "2025-07-23T14:34:52.087490",
     "exception": false,
     "start_time": "2025-07-23T14:34:52.048993",
     "status": "completed"
    },
    "tags": []
   },
   "outputs": [],
   "source": [
    "from fairness_multiverse.conformal import compute_nc_scores\n",
    "\n",
    "# Compute nonconformity scores on calibration set (1 - probability of true class)\n",
    "nc_scores = compute_nc_scores(probs_calib, y_calib)"
   ]
  },
  {
   "cell_type": "code",
   "execution_count": 35,
   "id": "df3b8ca3-53b7-43d5-9667-7c85da7aeda2",
   "metadata": {
    "execution": {
     "iopub.execute_input": "2025-07-23T14:34:52.140500Z",
     "iopub.status.busy": "2025-07-23T14:34:52.139736Z",
     "iopub.status.idle": "2025-07-23T14:34:52.147620Z",
     "shell.execute_reply": "2025-07-23T14:34:52.146331Z"
    },
    "papermill": {
     "duration": 0.036632,
     "end_time": "2025-07-23T14:34:52.149904",
     "exception": false,
     "start_time": "2025-07-23T14:34:52.113272",
     "status": "completed"
    },
    "tags": []
   },
   "outputs": [],
   "source": [
    "from fairness_multiverse.conformal import find_threshold\n",
    "\n",
    "# Find conformal threshold q_hat for the given alpha (split conformal method)\n",
    "q_hat = find_threshold(nc_scores, alpha)"
   ]
  },
  {
   "cell_type": "code",
   "execution_count": 36,
   "id": "4d29e6c1-0ef6-4aa4-b8fe-4fe79b0d033a",
   "metadata": {
    "execution": {
     "iopub.execute_input": "2025-07-23T14:34:52.194285Z",
     "iopub.status.busy": "2025-07-23T14:34:52.193727Z",
     "iopub.status.idle": "2025-07-23T14:34:52.202840Z",
     "shell.execute_reply": "2025-07-23T14:34:52.201791Z"
    },
    "papermill": {
     "duration": 0.033846,
     "end_time": "2025-07-23T14:34:52.204783",
     "exception": false,
     "start_time": "2025-07-23T14:34:52.170937",
     "status": "completed"
    },
    "tags": []
   },
   "outputs": [
    {
     "data": {
      "text/plain": [
       "0.6674386630626485"
      ]
     },
     "execution_count": 36,
     "metadata": {},
     "output_type": "execute_result"
    }
   ],
   "source": [
    "q_hat"
   ]
  },
  {
   "cell_type": "code",
   "execution_count": 37,
   "id": "92460794-cdac-4be2-ba28-f28c0515a6fb",
   "metadata": {
    "execution": {
     "iopub.execute_input": "2025-07-23T14:34:52.248819Z",
     "iopub.status.busy": "2025-07-23T14:34:52.248307Z",
     "iopub.status.idle": "2025-07-23T14:34:53.113633Z",
     "shell.execute_reply": "2025-07-23T14:34:53.112663Z"
    },
    "papermill": {
     "duration": 0.889238,
     "end_time": "2025-07-23T14:34:53.115653",
     "exception": false,
     "start_time": "2025-07-23T14:34:52.226415",
     "status": "completed"
    },
    "tags": []
   },
   "outputs": [],
   "source": [
    "from fairness_multiverse.conformal import predict_conformal_sets\n",
    "\n",
    "# Generate prediction sets for each test example\n",
    "pred_sets = predict_conformal_sets(model, X_test, q_hat)"
   ]
  },
  {
   "cell_type": "code",
   "execution_count": 38,
   "id": "d90c9a65-e6db-4f5d-80cd-e68fb7e46829",
   "metadata": {
    "execution": {
     "iopub.execute_input": "2025-07-23T14:34:53.162481Z",
     "iopub.status.busy": "2025-07-23T14:34:53.161725Z",
     "iopub.status.idle": "2025-07-23T14:34:53.167681Z",
     "shell.execute_reply": "2025-07-23T14:34:53.166680Z"
    },
    "papermill": {
     "duration": 0.031741,
     "end_time": "2025-07-23T14:34:53.169480",
     "exception": false,
     "start_time": "2025-07-23T14:34:53.137739",
     "status": "completed"
    },
    "tags": []
   },
   "outputs": [],
   "source": [
    "y_true = y_true.squeeze()"
   ]
  },
  {
   "cell_type": "code",
   "execution_count": 39,
   "id": "3a58a54a-1e68-46b9-927a-df01f18aebc8",
   "metadata": {
    "execution": {
     "iopub.execute_input": "2025-07-23T14:34:53.213563Z",
     "iopub.status.busy": "2025-07-23T14:34:53.212499Z",
     "iopub.status.idle": "2025-07-23T14:34:54.342120Z",
     "shell.execute_reply": "2025-07-23T14:34:54.340776Z"
    },
    "papermill": {
     "duration": 1.153981,
     "end_time": "2025-07-23T14:34:54.344243",
     "exception": false,
     "start_time": "2025-07-23T14:34:53.190262",
     "status": "completed"
    },
    "tags": []
   },
   "outputs": [],
   "source": [
    "from fairness_multiverse.conformal import evaluate_sets\n",
    "\n",
    "# Evaluate coverage and average set size on test data\n",
    "metrics = evaluate_sets(pred_sets, y_true)"
   ]
  },
  {
   "cell_type": "code",
   "execution_count": 40,
   "id": "5ce0a5cb-201f-45a0-ade5-94c7f0bd6095",
   "metadata": {
    "execution": {
     "iopub.execute_input": "2025-07-23T14:34:54.389646Z",
     "iopub.status.busy": "2025-07-23T14:34:54.388708Z",
     "iopub.status.idle": "2025-07-23T14:34:54.396927Z",
     "shell.execute_reply": "2025-07-23T14:34:54.395687Z"
    },
    "papermill": {
     "duration": 0.033464,
     "end_time": "2025-07-23T14:34:54.398671",
     "exception": false,
     "start_time": "2025-07-23T14:34:54.365207",
     "status": "completed"
    },
    "tags": []
   },
   "outputs": [
    {
     "data": {
      "text/plain": [
       "{'coverage': 0.912362055512206, 'avg_size': 1.2164084271541633}"
      ]
     },
     "execution_count": 40,
     "metadata": {},
     "output_type": "execute_result"
    }
   ],
   "source": [
    "metrics"
   ]
  },
  {
   "cell_type": "code",
   "execution_count": 41,
   "id": "9b9a838d-31c9-430b-ae14-12baee460d17",
   "metadata": {
    "execution": {
     "iopub.execute_input": "2025-07-23T14:34:54.441111Z",
     "iopub.status.busy": "2025-07-23T14:34:54.440632Z",
     "iopub.status.idle": "2025-07-23T14:34:54.447293Z",
     "shell.execute_reply": "2025-07-23T14:34:54.446199Z"
    },
    "papermill": {
     "duration": 0.032309,
     "end_time": "2025-07-23T14:34:54.449189",
     "exception": false,
     "start_time": "2025-07-23T14:34:54.416880",
     "status": "completed"
    },
    "tags": []
   },
   "outputs": [],
   "source": [
    "example_universe = universe.copy()\n",
    "universe_model = example_universe.get(\"model\")\n",
    "universe_exclude_features = example_universe.get(\"exclude_features\")\n",
    "universe_exclude_subgroups = example_universe.get(\"exclude_subgroups\")\n",
    "universe_scale = example_universe.get(\"scale\")"
   ]
  },
  {
   "cell_type": "code",
   "execution_count": 42,
   "id": "f4b6a8ac-9dc0-4245-8a91-5b3b5999c4f9",
   "metadata": {
    "execution": {
     "iopub.execute_input": "2025-07-23T14:34:54.495208Z",
     "iopub.status.busy": "2025-07-23T14:34:54.494634Z",
     "iopub.status.idle": "2025-07-23T14:34:54.502019Z",
     "shell.execute_reply": "2025-07-23T14:34:54.500917Z"
    },
    "papermill": {
     "duration": 0.03432,
     "end_time": "2025-07-23T14:34:54.503890",
     "exception": false,
     "start_time": "2025-07-23T14:34:54.469570",
     "status": "completed"
    },
    "tags": []
   },
   "outputs": [],
   "source": [
    "cp_metrics_dict = {\n",
    "    \"universe_id\": [universe_id],\n",
    "    \"universe_model\": [universe_model],\n",
    "    \"universe_exclude_features\": [universe_exclude_features],\n",
    "    \"universe_exclude_subgroups\": [universe_exclude_subgroups],\n",
    "    \"universe_scale\": [universe_scale],\n",
    "    \"q_hat\": [q_hat],\n",
    "    \"coverage\": [metrics[\"coverage\"]],\n",
    "    \"avg_size\": [metrics[\"avg_size\"]],\n",
    "}"
   ]
  },
  {
   "cell_type": "code",
   "execution_count": 43,
   "id": "908acbb1-0371-4915-85ca-3fa520d2efe2",
   "metadata": {
    "execution": {
     "iopub.execute_input": "2025-07-23T14:34:54.532403Z",
     "iopub.status.busy": "2025-07-23T14:34:54.531643Z",
     "iopub.status.idle": "2025-07-23T14:34:54.541364Z",
     "shell.execute_reply": "2025-07-23T14:34:54.540253Z"
    },
    "papermill": {
     "duration": 0.026325,
     "end_time": "2025-07-23T14:34:54.543575",
     "exception": false,
     "start_time": "2025-07-23T14:34:54.517250",
     "status": "completed"
    },
    "tags": []
   },
   "outputs": [
    {
     "data": {
      "text/plain": [
       "{'universe_id': ['ac2661532313ce5bf73dd22f153883ec'],\n",
       " 'universe_model': ['logreg'],\n",
       " 'universe_exclude_features': ['sex'],\n",
       " 'universe_exclude_subgroups': ['drop-non-german'],\n",
       " 'universe_scale': ['do-not-scale'],\n",
       " 'q_hat': [0.6674386630626485],\n",
       " 'coverage': [0.912362055512206],\n",
       " 'avg_size': [1.2164084271541633]}"
      ]
     },
     "execution_count": 43,
     "metadata": {},
     "output_type": "execute_result"
    }
   ],
   "source": [
    "cp_metrics_dict"
   ]
  },
  {
   "cell_type": "code",
   "execution_count": 44,
   "id": "33007efc-14e9-4ec6-97ac-56a455c82265",
   "metadata": {
    "execution": {
     "iopub.execute_input": "2025-07-23T14:34:54.590845Z",
     "iopub.status.busy": "2025-07-23T14:34:54.590348Z",
     "iopub.status.idle": "2025-07-23T14:34:54.597574Z",
     "shell.execute_reply": "2025-07-23T14:34:54.596501Z"
    },
    "papermill": {
     "duration": 0.033855,
     "end_time": "2025-07-23T14:34:54.599625",
     "exception": false,
     "start_time": "2025-07-23T14:34:54.565770",
     "status": "completed"
    },
    "tags": []
   },
   "outputs": [],
   "source": [
    "cp_metrics_df = pd.DataFrame(cp_metrics_dict)"
   ]
  },
  {
   "cell_type": "code",
   "execution_count": 45,
   "id": "db12611b-57b2-4910-b9d0-355adfd6e7bf",
   "metadata": {
    "execution": {
     "iopub.execute_input": "2025-07-23T14:34:54.646292Z",
     "iopub.status.busy": "2025-07-23T14:34:54.645750Z",
     "iopub.status.idle": "2025-07-23T14:34:54.666281Z",
     "shell.execute_reply": "2025-07-23T14:34:54.665291Z"
    },
    "papermill": {
     "duration": 0.046915,
     "end_time": "2025-07-23T14:34:54.668017",
     "exception": false,
     "start_time": "2025-07-23T14:34:54.621102",
     "status": "completed"
    },
    "tags": []
   },
   "outputs": [
    {
     "data": {
      "text/html": [
       "<div>\n",
       "<style scoped>\n",
       "    .dataframe tbody tr th:only-of-type {\n",
       "        vertical-align: middle;\n",
       "    }\n",
       "\n",
       "    .dataframe tbody tr th {\n",
       "        vertical-align: top;\n",
       "    }\n",
       "\n",
       "    .dataframe thead th {\n",
       "        text-align: right;\n",
       "    }\n",
       "</style>\n",
       "<table border=\"1\" class=\"dataframe\">\n",
       "  <thead>\n",
       "    <tr style=\"text-align: right;\">\n",
       "      <th></th>\n",
       "      <th>universe_id</th>\n",
       "      <th>universe_model</th>\n",
       "      <th>universe_exclude_features</th>\n",
       "      <th>universe_exclude_subgroups</th>\n",
       "      <th>universe_scale</th>\n",
       "      <th>q_hat</th>\n",
       "      <th>coverage</th>\n",
       "      <th>avg_size</th>\n",
       "    </tr>\n",
       "  </thead>\n",
       "  <tbody>\n",
       "    <tr>\n",
       "      <th>0</th>\n",
       "      <td>ac2661532313ce5bf73dd22f153883ec</td>\n",
       "      <td>logreg</td>\n",
       "      <td>sex</td>\n",
       "      <td>drop-non-german</td>\n",
       "      <td>do-not-scale</td>\n",
       "      <td>0.667439</td>\n",
       "      <td>0.912362</td>\n",
       "      <td>1.216408</td>\n",
       "    </tr>\n",
       "  </tbody>\n",
       "</table>\n",
       "</div>"
      ],
      "text/plain": [
       "                        universe_id universe_model universe_exclude_features  \\\n",
       "0  ac2661532313ce5bf73dd22f153883ec         logreg                       sex   \n",
       "\n",
       "  universe_exclude_subgroups universe_scale     q_hat  coverage  avg_size  \n",
       "0            drop-non-german   do-not-scale  0.667439  0.912362  1.216408  "
      ]
     },
     "execution_count": 45,
     "metadata": {},
     "output_type": "execute_result"
    }
   ],
   "source": [
    "cp_metrics_df"
   ]
  },
  {
   "cell_type": "code",
   "execution_count": 46,
   "id": "b7fbde55-a0a1-47e4-9af6-fe4a17fa8c61",
   "metadata": {
    "execution": {
     "iopub.execute_input": "2025-07-23T14:34:54.714944Z",
     "iopub.status.busy": "2025-07-23T14:34:54.713835Z",
     "iopub.status.idle": "2025-07-23T14:34:54.719726Z",
     "shell.execute_reply": "2025-07-23T14:34:54.718582Z"
    },
    "papermill": {
     "duration": 0.030613,
     "end_time": "2025-07-23T14:34:54.721623",
     "exception": false,
     "start_time": "2025-07-23T14:34:54.691010",
     "status": "completed"
    },
    "tags": []
   },
   "outputs": [],
   "source": [
    "# Conditional Coverage & looking at subgroups"
   ]
  },
  {
   "cell_type": "code",
   "execution_count": 47,
   "id": "027ae886-68dd-4141-96c7-805a5450e1ef",
   "metadata": {
    "execution": {
     "iopub.execute_input": "2025-07-23T14:34:54.767355Z",
     "iopub.status.busy": "2025-07-23T14:34:54.766267Z",
     "iopub.status.idle": "2025-07-23T14:34:55.087255Z",
     "shell.execute_reply": "2025-07-23T14:34:55.086103Z"
    },
    "papermill": {
     "duration": 0.346129,
     "end_time": "2025-07-23T14:34:55.089237",
     "exception": false,
     "start_time": "2025-07-23T14:34:54.743108",
     "status": "completed"
    },
    "tags": []
   },
   "outputs": [],
   "source": [
    "from fairness_multiverse.conformal import build_cp_groups\n",
    "\n",
    "cp_groups_df = build_cp_groups(pred_sets, y_true, X_test.index, org_test)\n",
    "#needs universe_id and setting"
   ]
  },
  {
   "cell_type": "code",
   "execution_count": 48,
   "id": "c3b92545-903e-4839-89af-0f057907d7d6",
   "metadata": {
    "execution": {
     "iopub.execute_input": "2025-07-23T14:34:55.134187Z",
     "iopub.status.busy": "2025-07-23T14:34:55.133509Z",
     "iopub.status.idle": "2025-07-23T14:34:57.039206Z",
     "shell.execute_reply": "2025-07-23T14:34:57.036261Z"
    },
    "papermill": {
     "duration": 1.930167,
     "end_time": "2025-07-23T14:34:57.041205",
     "exception": false,
     "start_time": "2025-07-23T14:34:55.111038",
     "status": "completed"
    },
    "tags": []
   },
   "outputs": [],
   "source": [
    "# Define covered = 1 if true_label is in the predicted set\n",
    "cp_groups_df['covered'] = cp_groups_df.apply(\n",
    "    lambda r: int(r['true_label'] in r['pred_set']),\n",
    "    axis=1\n",
    ")"
   ]
  },
  {
   "cell_type": "code",
   "execution_count": 49,
   "id": "338ff529-1a6b-4b87-a931-8e4788d52aad",
   "metadata": {
    "execution": {
     "iopub.execute_input": "2025-07-23T14:34:57.092347Z",
     "iopub.status.busy": "2025-07-23T14:34:57.091861Z",
     "iopub.status.idle": "2025-07-23T14:34:57.097355Z",
     "shell.execute_reply": "2025-07-23T14:34:57.096114Z"
    },
    "papermill": {
     "duration": 0.031965,
     "end_time": "2025-07-23T14:34:57.099447",
     "exception": false,
     "start_time": "2025-07-23T14:34:57.067482",
     "status": "completed"
    },
    "tags": []
   },
   "outputs": [],
   "source": [
    "#cp_groups_df"
   ]
  },
  {
   "cell_type": "code",
   "execution_count": 50,
   "id": "90032e27-66df-4540-9169-4e89cfbaa758",
   "metadata": {
    "execution": {
     "iopub.execute_input": "2025-07-23T14:34:57.150417Z",
     "iopub.status.busy": "2025-07-23T14:34:57.149380Z",
     "iopub.status.idle": "2025-07-23T14:34:57.162147Z",
     "shell.execute_reply": "2025-07-23T14:34:57.161099Z"
    },
    "papermill": {
     "duration": 0.039839,
     "end_time": "2025-07-23T14:34:57.164050",
     "exception": false,
     "start_time": "2025-07-23T14:34:57.124211",
     "status": "completed"
    },
    "tags": []
   },
   "outputs": [],
   "source": [
    "subgroups = ['frau1','nongerman','nongerman_male','nongerman_female']\n",
    "\n",
    "# Conditional coverage for subgroup==1\n",
    "cond_coverage = {\n",
    "    g: cp_groups_df.loc[cp_groups_df[g]==1, 'covered'].mean()\n",
    "    for g in subgroups\n",
    "}"
   ]
  },
  {
   "cell_type": "code",
   "execution_count": 51,
   "id": "1e348fb1-b9c3-45bc-ba23-f016827a7e0d",
   "metadata": {
    "execution": {
     "iopub.execute_input": "2025-07-23T14:34:57.216234Z",
     "iopub.status.busy": "2025-07-23T14:34:57.215131Z",
     "iopub.status.idle": "2025-07-23T14:34:57.224527Z",
     "shell.execute_reply": "2025-07-23T14:34:57.223470Z"
    },
    "papermill": {
     "duration": 0.037686,
     "end_time": "2025-07-23T14:34:57.226599",
     "exception": false,
     "start_time": "2025-07-23T14:34:57.188913",
     "status": "completed"
    },
    "tags": []
   },
   "outputs": [
    {
     "data": {
      "text/plain": [
       "{'frau1': 0.9114975064024802,\n",
       " 'nongerman': 0.9372368494919441,\n",
       " 'nongerman_male': 0.9487525893902549,\n",
       " 'nongerman_female': 0.9181818181818182}"
      ]
     },
     "execution_count": 51,
     "metadata": {},
     "output_type": "execute_result"
    }
   ],
   "source": [
    "cond_coverage"
   ]
  },
  {
   "cell_type": "code",
   "execution_count": 52,
   "id": "f5093324-c3dd-4d63-bc4c-8d945e5c8bbb",
   "metadata": {
    "execution": {
     "iopub.execute_input": "2025-07-23T14:34:57.281066Z",
     "iopub.status.busy": "2025-07-23T14:34:57.279092Z",
     "iopub.status.idle": "2025-07-23T14:34:57.287603Z",
     "shell.execute_reply": "2025-07-23T14:34:57.286309Z"
    },
    "papermill": {
     "duration": 0.037325,
     "end_time": "2025-07-23T14:34:57.289658",
     "exception": false,
     "start_time": "2025-07-23T14:34:57.252333",
     "status": "completed"
    },
    "tags": []
   },
   "outputs": [],
   "source": [
    "for subgroup, cov in cond_coverage.items():\n",
    "    cp_metrics_df[f\"cov_{subgroup}\"] = cov"
   ]
  },
  {
   "cell_type": "code",
   "execution_count": 53,
   "id": "6e872e10-dbe5-49e8-b554-5030c98ff75d",
   "metadata": {
    "execution": {
     "iopub.execute_input": "2025-07-23T14:34:57.341303Z",
     "iopub.status.busy": "2025-07-23T14:34:57.340276Z",
     "iopub.status.idle": "2025-07-23T14:34:57.360513Z",
     "shell.execute_reply": "2025-07-23T14:34:57.359363Z"
    },
    "papermill": {
     "duration": 0.047848,
     "end_time": "2025-07-23T14:34:57.362316",
     "exception": false,
     "start_time": "2025-07-23T14:34:57.314468",
     "status": "completed"
    },
    "tags": []
   },
   "outputs": [
    {
     "data": {
      "text/html": [
       "<div>\n",
       "<style scoped>\n",
       "    .dataframe tbody tr th:only-of-type {\n",
       "        vertical-align: middle;\n",
       "    }\n",
       "\n",
       "    .dataframe tbody tr th {\n",
       "        vertical-align: top;\n",
       "    }\n",
       "\n",
       "    .dataframe thead th {\n",
       "        text-align: right;\n",
       "    }\n",
       "</style>\n",
       "<table border=\"1\" class=\"dataframe\">\n",
       "  <thead>\n",
       "    <tr style=\"text-align: right;\">\n",
       "      <th></th>\n",
       "      <th>universe_id</th>\n",
       "      <th>universe_model</th>\n",
       "      <th>universe_exclude_features</th>\n",
       "      <th>universe_exclude_subgroups</th>\n",
       "      <th>universe_scale</th>\n",
       "      <th>q_hat</th>\n",
       "      <th>coverage</th>\n",
       "      <th>avg_size</th>\n",
       "      <th>cov_frau1</th>\n",
       "      <th>cov_nongerman</th>\n",
       "      <th>cov_nongerman_male</th>\n",
       "      <th>cov_nongerman_female</th>\n",
       "    </tr>\n",
       "  </thead>\n",
       "  <tbody>\n",
       "    <tr>\n",
       "      <th>0</th>\n",
       "      <td>ac2661532313ce5bf73dd22f153883ec</td>\n",
       "      <td>logreg</td>\n",
       "      <td>sex</td>\n",
       "      <td>drop-non-german</td>\n",
       "      <td>do-not-scale</td>\n",
       "      <td>0.667439</td>\n",
       "      <td>0.912362</td>\n",
       "      <td>1.216408</td>\n",
       "      <td>0.911498</td>\n",
       "      <td>0.937237</td>\n",
       "      <td>0.948753</td>\n",
       "      <td>0.918182</td>\n",
       "    </tr>\n",
       "  </tbody>\n",
       "</table>\n",
       "</div>"
      ],
      "text/plain": [
       "                        universe_id universe_model universe_exclude_features  \\\n",
       "0  ac2661532313ce5bf73dd22f153883ec         logreg                       sex   \n",
       "\n",
       "  universe_exclude_subgroups universe_scale     q_hat  coverage  avg_size  \\\n",
       "0            drop-non-german   do-not-scale  0.667439  0.912362  1.216408   \n",
       "\n",
       "   cov_frau1  cov_nongerman  cov_nongerman_male  cov_nongerman_female  \n",
       "0   0.911498       0.937237            0.948753              0.918182  "
      ]
     },
     "execution_count": 53,
     "metadata": {},
     "output_type": "execute_result"
    }
   ],
   "source": [
    "cp_metrics_df"
   ]
  },
  {
   "cell_type": "markdown",
   "id": "33774451",
   "metadata": {
    "papermill": {
     "duration": 0.023456,
     "end_time": "2025-07-23T14:34:57.411022",
     "exception": false,
     "start_time": "2025-07-23T14:34:57.387566",
     "status": "completed"
    },
    "tags": []
   },
   "source": [
    "# (Fairness) Metrics"
   ]
  },
  {
   "cell_type": "code",
   "execution_count": 54,
   "id": "debc5d62",
   "metadata": {
    "execution": {
     "iopub.execute_input": "2025-07-23T14:34:57.460798Z",
     "iopub.status.busy": "2025-07-23T14:34:57.460409Z",
     "iopub.status.idle": "2025-07-23T14:34:57.481267Z",
     "shell.execute_reply": "2025-07-23T14:34:57.479889Z"
    },
    "papermill": {
     "duration": 0.048393,
     "end_time": "2025-07-23T14:34:57.483313",
     "exception": false,
     "start_time": "2025-07-23T14:34:57.434920",
     "status": "completed"
    },
    "tags": []
   },
   "outputs": [],
   "source": [
    "# do I need to include maxdeutsch1.missing?\n",
    "\n",
    "import numpy as np\n",
    "\n",
    "colname_to_bin = \"maxdeutsch1\"\n",
    "majority_value = org_train[colname_to_bin].mode()[0]\n",
    "\n",
    "org_test[\"majmin\"] = np.where(org_test[colname_to_bin] == majority_value, \"majority\", \"minority\")"
   ]
  },
  {
   "cell_type": "code",
   "execution_count": 55,
   "id": "06a50de5",
   "metadata": {
    "execution": {
     "iopub.execute_input": "2025-07-23T14:34:57.534349Z",
     "iopub.status.busy": "2025-07-23T14:34:57.533816Z",
     "iopub.status.idle": "2025-07-23T14:35:00.306160Z",
     "shell.execute_reply": "2025-07-23T14:35:00.304740Z"
    },
    "papermill": {
     "duration": 2.800827,
     "end_time": "2025-07-23T14:35:00.309044",
     "exception": false,
     "start_time": "2025-07-23T14:34:57.508217",
     "status": "completed"
    },
    "tags": []
   },
   "outputs": [],
   "source": [
    "example_universe = universe.copy()\n",
    "example_universe[\"cutoff\"] = example_universe[\"cutoff\"][0]\n",
    "example_universe[\"eval_fairness_grouping\"] = example_universe[\"eval_fairness_grouping\"][0]\n",
    "fairness_dict, metric_frame = universe_analysis.compute_metrics(\n",
    "    example_universe,\n",
    "    y_pred_prob=probs_test,\n",
    "    y_test=y_true,\n",
    "    org_test=org_test,\n",
    ")"
   ]
  },
  {
   "cell_type": "markdown",
   "id": "f95d4e02",
   "metadata": {
    "papermill": {
     "duration": 0.01477,
     "end_time": "2025-07-23T14:35:00.353378",
     "exception": false,
     "start_time": "2025-07-23T14:35:00.338608",
     "status": "completed"
    },
    "tags": []
   },
   "source": [
    "# Overall"
   ]
  },
  {
   "cell_type": "markdown",
   "id": "bdee4871",
   "metadata": {
    "papermill": {
     "duration": 0.01262,
     "end_time": "2025-07-23T14:35:00.378939",
     "exception": false,
     "start_time": "2025-07-23T14:35:00.366319",
     "status": "completed"
    },
    "tags": []
   },
   "source": [
    "Fairness\n",
    "Main fairness target: Equalized Odds. Seems to be a better fit than equal opportunity, since we're not only interested in Y = 1. Seems to be a better fit than demographic parity, since we also care about accuracy, not just equal distribution of preds.\n",
    "\n",
    "Pick column for computation of fairness metrics\n",
    "\n",
    "Performance\n",
    "Overall performance measures, most interesting in relation to the measures split by group below"
   ]
  },
  {
   "cell_type": "code",
   "execution_count": 56,
   "id": "c4e067c6",
   "metadata": {
    "execution": {
     "iopub.execute_input": "2025-07-23T14:35:00.409537Z",
     "iopub.status.busy": "2025-07-23T14:35:00.409040Z",
     "iopub.status.idle": "2025-07-23T14:35:00.417097Z",
     "shell.execute_reply": "2025-07-23T14:35:00.416174Z"
    },
    "papermill": {
     "duration": 0.024208,
     "end_time": "2025-07-23T14:35:00.418545",
     "exception": false,
     "start_time": "2025-07-23T14:35:00.394337",
     "status": "completed"
    },
    "tags": []
   },
   "outputs": [
    {
     "data": {
      "text/plain": [
       "accuracy                   0.217623\n",
       "balanced accuracy          0.533534\n",
       "f1                         0.239141\n",
       "precision                  0.136613\n",
       "false positive rate        0.891397\n",
       "false negative rate        0.041536\n",
       "selection rate             0.900000\n",
       "count                  89710.000000\n",
       "dtype: float64"
      ]
     },
     "execution_count": 56,
     "metadata": {},
     "output_type": "execute_result"
    }
   ],
   "source": [
    "metric_frame.overall"
   ]
  },
  {
   "cell_type": "markdown",
   "id": "e968fe9d",
   "metadata": {
    "papermill": {
     "duration": 0.012926,
     "end_time": "2025-07-23T14:35:00.444918",
     "exception": false,
     "start_time": "2025-07-23T14:35:00.431992",
     "status": "completed"
    },
    "tags": []
   },
   "source": [
    "By Group"
   ]
  },
  {
   "cell_type": "code",
   "execution_count": 57,
   "id": "ec325bce",
   "metadata": {
    "execution": {
     "iopub.execute_input": "2025-07-23T14:35:00.472819Z",
     "iopub.status.busy": "2025-07-23T14:35:00.472301Z",
     "iopub.status.idle": "2025-07-23T14:35:00.489543Z",
     "shell.execute_reply": "2025-07-23T14:35:00.488411Z"
    },
    "papermill": {
     "duration": 0.033456,
     "end_time": "2025-07-23T14:35:00.491529",
     "exception": false,
     "start_time": "2025-07-23T14:35:00.458073",
     "status": "completed"
    },
    "tags": []
   },
   "outputs": [
    {
     "data": {
      "text/html": [
       "<div>\n",
       "<style scoped>\n",
       "    .dataframe tbody tr th:only-of-type {\n",
       "        vertical-align: middle;\n",
       "    }\n",
       "\n",
       "    .dataframe tbody tr th {\n",
       "        vertical-align: top;\n",
       "    }\n",
       "\n",
       "    .dataframe thead th {\n",
       "        text-align: right;\n",
       "    }\n",
       "</style>\n",
       "<table border=\"1\" class=\"dataframe\">\n",
       "  <thead>\n",
       "    <tr style=\"text-align: right;\">\n",
       "      <th></th>\n",
       "      <th>accuracy</th>\n",
       "      <th>balanced accuracy</th>\n",
       "      <th>f1</th>\n",
       "      <th>precision</th>\n",
       "      <th>false positive rate</th>\n",
       "      <th>false negative rate</th>\n",
       "      <th>selection rate</th>\n",
       "      <th>count</th>\n",
       "    </tr>\n",
       "    <tr>\n",
       "      <th>majmin</th>\n",
       "      <th></th>\n",
       "      <th></th>\n",
       "      <th></th>\n",
       "      <th></th>\n",
       "      <th></th>\n",
       "      <th></th>\n",
       "      <th></th>\n",
       "      <th></th>\n",
       "    </tr>\n",
       "  </thead>\n",
       "  <tbody>\n",
       "    <tr>\n",
       "      <th>majority</th>\n",
       "      <td>0.240191</td>\n",
       "      <td>0.541522</td>\n",
       "      <td>0.248577</td>\n",
       "      <td>0.142972</td>\n",
       "      <td>0.868049</td>\n",
       "      <td>0.048906</td>\n",
       "      <td>0.879023</td>\n",
       "      <td>69170.0</td>\n",
       "    </tr>\n",
       "    <tr>\n",
       "      <th>minority</th>\n",
       "      <td>0.141626</td>\n",
       "      <td>0.509193</td>\n",
       "      <td>0.209549</td>\n",
       "      <td>0.117219</td>\n",
       "      <td>0.968523</td>\n",
       "      <td>0.013091</td>\n",
       "      <td>0.970643</td>\n",
       "      <td>20540.0</td>\n",
       "    </tr>\n",
       "  </tbody>\n",
       "</table>\n",
       "</div>"
      ],
      "text/plain": [
       "          accuracy  balanced accuracy        f1  precision  \\\n",
       "majmin                                                       \n",
       "majority  0.240191           0.541522  0.248577   0.142972   \n",
       "minority  0.141626           0.509193  0.209549   0.117219   \n",
       "\n",
       "          false positive rate  false negative rate  selection rate    count  \n",
       "majmin                                                                       \n",
       "majority             0.868049             0.048906        0.879023  69170.0  \n",
       "minority             0.968523             0.013091        0.970643  20540.0  "
      ]
     },
     "execution_count": 57,
     "metadata": {},
     "output_type": "execute_result"
    }
   ],
   "source": [
    "metric_frame.by_group"
   ]
  },
  {
   "cell_type": "code",
   "execution_count": 58,
   "id": "a9ddbe63",
   "metadata": {
    "execution": {
     "iopub.execute_input": "2025-07-23T14:35:00.545106Z",
     "iopub.status.busy": "2025-07-23T14:35:00.544306Z",
     "iopub.status.idle": "2025-07-23T14:35:03.307360Z",
     "shell.execute_reply": "2025-07-23T14:35:03.306226Z"
    },
    "papermill": {
     "duration": 2.794112,
     "end_time": "2025-07-23T14:35:03.310556",
     "exception": false,
     "start_time": "2025-07-23T14:35:00.516444",
     "status": "completed"
    },
    "tags": []
   },
   "outputs": [
    {
     "data": {
      "text/plain": [
       "array([[<Axes: title={'center': 'accuracy'}, xlabel='majmin'>,\n",
       "        <Axes: title={'center': 'balanced accuracy'}, xlabel='majmin'>,\n",
       "        <Axes: title={'center': 'f1'}, xlabel='majmin'>],\n",
       "       [<Axes: title={'center': 'precision'}, xlabel='majmin'>,\n",
       "        <Axes: title={'center': 'false positive rate'}, xlabel='majmin'>,\n",
       "        <Axes: title={'center': 'false negative rate'}, xlabel='majmin'>],\n",
       "       [<Axes: title={'center': 'selection rate'}, xlabel='majmin'>,\n",
       "        <Axes: title={'center': 'count'}, xlabel='majmin'>,\n",
       "        <Axes: xlabel='majmin'>]], dtype=object)"
      ]
     },
     "execution_count": 58,
     "metadata": {},
     "output_type": "execute_result"
    },
    {
     "data": {
      "image/png": "[encoded data removed]",
      "text/plain": [
       "<Figure size 1200x800 with 9 Axes>"
      ]
     },
     "metadata": {},
     "output_type": "display_data"
    }
   ],
   "source": [
    "# In a graphic\n",
    "metric_frame.by_group.plot.bar(\n",
    "    subplots=True,\n",
    "    layout=[3, 3],\n",
    "    legend=False,\n",
    "    figsize=[12, 8],\n",
    "    title=\"Show all metrics\",\n",
    ")"
   ]
  },
  {
   "cell_type": "markdown",
   "id": "f57a0bac",
   "metadata": {
    "papermill": {
     "duration": 0.033542,
     "end_time": "2025-07-23T14:35:03.388283",
     "exception": false,
     "start_time": "2025-07-23T14:35:03.354741",
     "status": "completed"
    },
    "tags": []
   },
   "source": [
    "# Final Output"
   ]
  },
  {
   "cell_type": "code",
   "execution_count": 59,
   "id": "96d280a3",
   "metadata": {
    "execution": {
     "iopub.execute_input": "2025-07-23T14:35:03.448784Z",
     "iopub.status.busy": "2025-07-23T14:35:03.447965Z",
     "iopub.status.idle": "2025-07-23T14:35:03.458420Z",
     "shell.execute_reply": "2025-07-23T14:35:03.457339Z"
    },
    "papermill": {
     "duration": 0.043049,
     "end_time": "2025-07-23T14:35:03.460277",
     "exception": false,
     "start_time": "2025-07-23T14:35:03.417228",
     "status": "completed"
    },
    "tags": []
   },
   "outputs": [
    {
     "data": {
      "text/plain": [
       "4"
      ]
     },
     "execution_count": 59,
     "metadata": {},
     "output_type": "execute_result"
    }
   ],
   "source": [
    "sub_universes = universe_analysis.generate_sub_universes()\n",
    "len(sub_universes)"
   ]
  },
  {
   "cell_type": "code",
   "execution_count": 60,
   "id": "92adf7ba",
   "metadata": {
    "execution": {
     "iopub.execute_input": "2025-07-23T14:35:03.521548Z",
     "iopub.status.busy": "2025-07-23T14:35:03.521017Z",
     "iopub.status.idle": "2025-07-23T14:35:03.560539Z",
     "shell.execute_reply": "2025-07-23T14:35:03.559202Z"
    },
    "papermill": {
     "duration": 0.072683,
     "end_time": "2025-07-23T14:35:03.563012",
     "exception": false,
     "start_time": "2025-07-23T14:35:03.490329",
     "status": "completed"
    },
    "tags": []
   },
   "outputs": [],
   "source": [
    "def filter_sub_universe_data(sub_universe, org_test):\n",
    "    # Keep all rows — no filtering\n",
    "    keep_rows_mask = np.ones(org_test.shape[0], dtype=bool)\n",
    "\n",
    "    print(f\"[INFO] Keeping all rows: {keep_rows_mask.sum()} rows retained.\")\n",
    "    return keep_rows_mask"
   ]
  },
  {
   "cell_type": "code",
   "execution_count": 61,
   "id": "4a759155",
   "metadata": {
    "execution": {
     "iopub.execute_input": "2025-07-23T14:35:03.624103Z",
     "iopub.status.busy": "2025-07-23T14:35:03.623581Z",
     "iopub.status.idle": "2025-07-23T14:35:14.611307Z",
     "shell.execute_reply": "2025-07-23T14:35:14.610164Z"
    },
    "papermill": {
     "duration": 11.020169,
     "end_time": "2025-07-23T14:35:14.613233",
     "exception": false,
     "start_time": "2025-07-23T14:35:03.593064",
     "status": "completed"
    },
    "tags": []
   },
   "outputs": [
    {
     "name": "stdout",
     "output_type": "stream",
     "text": [
      "Stopping execution_time clock.\n",
      "[INFO] Keeping all rows: 89710 rows retained.\n"
     ]
    },
    {
     "name": "stdout",
     "output_type": "stream",
     "text": [
      "[INFO] Keeping all rows: 89710 rows retained.\n"
     ]
    },
    {
     "name": "stdout",
     "output_type": "stream",
     "text": [
      "[INFO] Keeping all rows: 89710 rows retained.\n"
     ]
    },
    {
     "name": "stdout",
     "output_type": "stream",
     "text": [
      "[INFO] Keeping all rows: 89710 rows retained.\n"
     ]
    },
    {
     "data": {
      "text/html": [
       "<div>\n",
       "<style scoped>\n",
       "    .dataframe tbody tr th:only-of-type {\n",
       "        vertical-align: middle;\n",
       "    }\n",
       "\n",
       "    .dataframe tbody tr th {\n",
       "        vertical-align: top;\n",
       "    }\n",
       "\n",
       "    .dataframe thead th {\n",
       "        text-align: right;\n",
       "    }\n",
       "</style>\n",
       "<table border=\"1\" class=\"dataframe\">\n",
       "  <thead>\n",
       "    <tr style=\"text-align: right;\">\n",
       "      <th></th>\n",
       "      <th>run_no</th>\n",
       "      <th>universe_id</th>\n",
       "      <th>universe_settings</th>\n",
       "      <th>execution_time</th>\n",
       "      <th>test_size_n</th>\n",
       "      <th>test_size_frac</th>\n",
       "      <th>fair_main_equalized_odds_difference</th>\n",
       "      <th>fair_main_equalized_odds_ratio</th>\n",
       "      <th>fair_main_demographic_parity_difference</th>\n",
       "      <th>fair_main_demographic_parity_ratio</th>\n",
       "      <th>...</th>\n",
       "      <th>perf_grp_precision_0</th>\n",
       "      <th>perf_grp_precision_1</th>\n",
       "      <th>perf_grp_false positive rate_0</th>\n",
       "      <th>perf_grp_false positive rate_1</th>\n",
       "      <th>perf_grp_false negative rate_0</th>\n",
       "      <th>perf_grp_false negative rate_1</th>\n",
       "      <th>perf_grp_selection rate_0</th>\n",
       "      <th>perf_grp_selection rate_1</th>\n",
       "      <th>perf_grp_count_0</th>\n",
       "      <th>perf_grp_count_1</th>\n",
       "    </tr>\n",
       "  </thead>\n",
       "  <tbody>\n",
       "    <tr>\n",
       "      <th>0</th>\n",
       "      <td>9</td>\n",
       "      <td>ac2661532313ce5bf73dd22f153883ec</td>\n",
       "      <td>{\"cutoff\": \"quantile_0.1\", \"eval_fairness_grou...</td>\n",
       "      <td>21.29594</td>\n",
       "      <td>89710</td>\n",
       "      <td>1.0</td>\n",
       "      <td>0.100474</td>\n",
       "      <td>0.896261</td>\n",
       "      <td>0.09162</td>\n",
       "      <td>0.905609</td>\n",
       "      <td>...</td>\n",
       "      <td>NaN</td>\n",
       "      <td>NaN</td>\n",
       "      <td>NaN</td>\n",
       "      <td>NaN</td>\n",
       "      <td>NaN</td>\n",
       "      <td>NaN</td>\n",
       "      <td>NaN</td>\n",
       "      <td>NaN</td>\n",
       "      <td>NaN</td>\n",
       "      <td>NaN</td>\n",
       "    </tr>\n",
       "    <tr>\n",
       "      <th>0</th>\n",
       "      <td>9</td>\n",
       "      <td>ac2661532313ce5bf73dd22f153883ec</td>\n",
       "      <td>{\"cutoff\": \"quantile_0.1\", \"eval_fairness_grou...</td>\n",
       "      <td>21.29594</td>\n",
       "      <td>89710</td>\n",
       "      <td>1.0</td>\n",
       "      <td>0.100474</td>\n",
       "      <td>0.896261</td>\n",
       "      <td>0.09162</td>\n",
       "      <td>0.905609</td>\n",
       "      <td>...</td>\n",
       "      <td>0.117219</td>\n",
       "      <td>0.142972</td>\n",
       "      <td>0.968523</td>\n",
       "      <td>0.868049</td>\n",
       "      <td>0.013091</td>\n",
       "      <td>0.048906</td>\n",
       "      <td>0.970643</td>\n",
       "      <td>0.879023</td>\n",
       "      <td>20540.0</td>\n",
       "      <td>69170.0</td>\n",
       "    </tr>\n",
       "    <tr>\n",
       "      <th>0</th>\n",
       "      <td>9</td>\n",
       "      <td>ac2661532313ce5bf73dd22f153883ec</td>\n",
       "      <td>{\"cutoff\": \"quantile_0.25\", \"eval_fairness_gro...</td>\n",
       "      <td>21.29594</td>\n",
       "      <td>89710</td>\n",
       "      <td>1.0</td>\n",
       "      <td>0.226677</td>\n",
       "      <td>0.749289</td>\n",
       "      <td>0.20781</td>\n",
       "      <td>0.771694</td>\n",
       "      <td>...</td>\n",
       "      <td>NaN</td>\n",
       "      <td>NaN</td>\n",
       "      <td>NaN</td>\n",
       "      <td>NaN</td>\n",
       "      <td>NaN</td>\n",
       "      <td>NaN</td>\n",
       "      <td>NaN</td>\n",
       "      <td>NaN</td>\n",
       "      <td>NaN</td>\n",
       "      <td>NaN</td>\n",
       "    </tr>\n",
       "    <tr>\n",
       "      <th>0</th>\n",
       "      <td>9</td>\n",
       "      <td>ac2661532313ce5bf73dd22f153883ec</td>\n",
       "      <td>{\"cutoff\": \"quantile_0.25\", \"eval_fairness_gro...</td>\n",
       "      <td>21.29594</td>\n",
       "      <td>89710</td>\n",
       "      <td>1.0</td>\n",
       "      <td>0.226677</td>\n",
       "      <td>0.749289</td>\n",
       "      <td>0.20781</td>\n",
       "      <td>0.771694</td>\n",
       "      <td>...</td>\n",
       "      <td>0.121202</td>\n",
       "      <td>0.162969</td>\n",
       "      <td>0.904138</td>\n",
       "      <td>0.677461</td>\n",
       "      <td>0.043074</td>\n",
       "      <td>0.133698</td>\n",
       "      <td>0.910224</td>\n",
       "      <td>0.702414</td>\n",
       "      <td>20540.0</td>\n",
       "      <td>69170.0</td>\n",
       "    </tr>\n",
       "  </tbody>\n",
       "</table>\n",
       "<p>4 rows × 50 columns</p>\n",
       "</div>"
      ],
      "text/plain": [
       "  run_no                       universe_id  \\\n",
       "0      9  ac2661532313ce5bf73dd22f153883ec   \n",
       "0      9  ac2661532313ce5bf73dd22f153883ec   \n",
       "0      9  ac2661532313ce5bf73dd22f153883ec   \n",
       "0      9  ac2661532313ce5bf73dd22f153883ec   \n",
       "\n",
       "                                   universe_settings  execution_time  \\\n",
       "0  {\"cutoff\": \"quantile_0.1\", \"eval_fairness_grou...        21.29594   \n",
       "0  {\"cutoff\": \"quantile_0.1\", \"eval_fairness_grou...        21.29594   \n",
       "0  {\"cutoff\": \"quantile_0.25\", \"eval_fairness_gro...        21.29594   \n",
       "0  {\"cutoff\": \"quantile_0.25\", \"eval_fairness_gro...        21.29594   \n",
       "\n",
       "   test_size_n  test_size_frac  fair_main_equalized_odds_difference  \\\n",
       "0        89710             1.0                             0.100474   \n",
       "0        89710             1.0                             0.100474   \n",
       "0        89710             1.0                             0.226677   \n",
       "0        89710             1.0                             0.226677   \n",
       "\n",
       "   fair_main_equalized_odds_ratio  fair_main_demographic_parity_difference  \\\n",
       "0                        0.896261                                  0.09162   \n",
       "0                        0.896261                                  0.09162   \n",
       "0                        0.749289                                  0.20781   \n",
       "0                        0.749289                                  0.20781   \n",
       "\n",
       "   fair_main_demographic_parity_ratio  ...  perf_grp_precision_0  \\\n",
       "0                            0.905609  ...                   NaN   \n",
       "0                            0.905609  ...              0.117219   \n",
       "0                            0.771694  ...                   NaN   \n",
       "0                            0.771694  ...              0.121202   \n",
       "\n",
       "   perf_grp_precision_1  perf_grp_false positive rate_0  \\\n",
       "0                   NaN                             NaN   \n",
       "0              0.142972                        0.968523   \n",
       "0                   NaN                             NaN   \n",
       "0              0.162969                        0.904138   \n",
       "\n",
       "   perf_grp_false positive rate_1  perf_grp_false negative rate_0  \\\n",
       "0                             NaN                             NaN   \n",
       "0                        0.868049                        0.013091   \n",
       "0                             NaN                             NaN   \n",
       "0                        0.677461                        0.043074   \n",
       "\n",
       "   perf_grp_false negative rate_1  perf_grp_selection rate_0  \\\n",
       "0                             NaN                        NaN   \n",
       "0                        0.048906                   0.970643   \n",
       "0                             NaN                        NaN   \n",
       "0                        0.133698                   0.910224   \n",
       "\n",
       "   perf_grp_selection rate_1  perf_grp_count_0  perf_grp_count_1  \n",
       "0                        NaN               NaN               NaN  \n",
       "0                   0.879023           20540.0           69170.0  \n",
       "0                        NaN               NaN               NaN  \n",
       "0                   0.702414           20540.0           69170.0  \n",
       "\n",
       "[4 rows x 50 columns]"
      ]
     },
     "execution_count": 61,
     "metadata": {},
     "output_type": "execute_result"
    }
   ],
   "source": [
    "final_output = universe_analysis.generate_final_output(\n",
    "    y_pred_prob=probs_test,\n",
    "    y_test=y_true,\n",
    "    org_test=org_test,\n",
    "    filter_data=filter_sub_universe_data,\n",
    "    cp_metrics_df=cp_metrics_df,\n",
    "    save=True,\n",
    ")\n",
    "final_output"
   ]
  },
  {
   "cell_type": "code",
   "execution_count": null,
   "id": "721ff514-cb11-46f8-b6fc-50392f74b5cb",
   "metadata": {
    "papermill": {
     "duration": 0.026643,
     "end_time": "2025-07-23T14:35:14.667989",
     "exception": false,
     "start_time": "2025-07-23T14:35:14.641346",
     "status": "completed"
    },
    "tags": []
   },
   "outputs": [],
   "source": []
  }
 ],
 "metadata": {
  "celltoolbar": "Tags",
  "kernelspec": {
   "display_name": "Python (CMA Fairness)",
   "language": "python",
   "name": "cma_fair_env"
  },
  "language_info": {
   "codemirror_mode": {
    "name": "ipython",
    "version": 3
   },
   "file_extension": ".py",
   "mimetype": "text/x-python",
   "name": "python",
   "nbconvert_exporter": "python",
   "pygments_lexer": "ipython3",
   "version": "3.10.12"
  },
  "papermill": {
   "default_parameters": {},
   "duration": 36.710965,
   "end_time": "2025-07-23T14:35:15.413477",
   "environment_variables": {},
   "exception": null,
   "input_path": "universe_analysis.ipynb",
   "output_path": "output/runs/9/notebooks/m_9-ac2661532313ce5bf73dd22f153883ec.ipynb",
   "parameters": {
    "output_dir": "output",
    "run_no": "9",
    "seed": "2023",
    "universe": "{\"cutoff\": [\"quantile_0.1\", \"quantile_0.25\"], \"eval_fairness_grouping\": [\"majority-minority\", \"nationality-all\"], \"exclude_features\": \"sex\", \"exclude_subgroups\": \"drop-non-german\", \"model\": \"logreg\", \"scale\": \"do-not-scale\"}",
    "universe_id": "ac2661532313ce5bf73dd22f153883ec"
   },
   "start_time": "2025-07-23T14:34:38.702512",
   "version": "2.6.0"
  }
 },
 "nbformat": 4,
 "nbformat_minor": 5
}