{
 "cells": [
  {
   "cell_type": "code",
   "execution_count": 1,
   "id": "f159f837-637b-42ba-96b5-ec9a68c44524",
   "metadata": {
    "execution": {
     "iopub.execute_input": "2025-07-23T14:40:08.835399Z",
     "iopub.status.busy": "2025-07-23T14:40:08.834831Z",
     "iopub.status.idle": "2025-07-23T14:40:08.849358Z",
     "shell.execute_reply": "2025-07-23T14:40:08.848368Z"
    },
    "papermill": {
     "duration": 0.035178,
     "end_time": "2025-07-23T14:40:08.851332",
     "exception": false,
     "start_time": "2025-07-23T14:40:08.816154",
     "status": "completed"
    },
    "tags": []
   },
   "outputs": [
    {
     "name": "stdout",
     "output_type": "stream",
     "text": [
      "/dss/dsshome1/0C/ra93lal2/cma/CMA_Fairness_v2\n"
     ]
    },
    {
     "name": "stderr",
     "output_type": "stream",
     "text": [
      "/dss/dsshome1/0C/ra93lal2/.local/share/virtualenvs/CMA_Fairness_v2-3j10GkSs/lib/python3.10/site-packages/IPython/core/magics/osm.py:393: UserWarning: This is now an optional IPython functionality, using bookmarks requires you to install the `pickleshare` library.\n",
      "  bkms = self.shell.db.get('bookmarks', {})\n",
      "/dss/dsshome1/0C/ra93lal2/.local/share/virtualenvs/CMA_Fairness_v2-3j10GkSs/lib/python3.10/site-packages/IPython/core/magics/osm.py:417: UserWarning: This is now an optional IPython functionality, setting dhist requires you to install the `pickleshare` library.\n",
      "  self.shell.db['dhist'] = compress_dhist(dhist)[-100:]\n"
     ]
    }
   ],
   "source": [
    "%cd ~/cma/CMA_Fairness_v2"
   ]
  },
  {
   "cell_type": "markdown",
   "id": "de2603b9",
   "metadata": {
    "papermill": {
     "duration": 0.017214,
     "end_time": "2025-07-23T14:40:08.886254",
     "exception": false,
     "start_time": "2025-07-23T14:40:08.869040",
     "status": "completed"
    },
    "tags": []
   },
   "source": [
    "The following cell holds the definition of our parameters, these values can be overriden by rendering the with e.g. the following command:\n",
    "\n",
    "papermill -p alpha 0.2 -p ratio 0.3 universe_analysis.ipynb output/test_run.ipynb"
   ]
  },
  {
   "cell_type": "code",
   "execution_count": 2,
   "id": "a80968a0-40bb-4fa9-85ef-2d5eefb01975",
   "metadata": {
    "execution": {
     "iopub.execute_input": "2025-07-23T14:40:08.923843Z",
     "iopub.status.busy": "2025-07-23T14:40:08.923081Z",
     "iopub.status.idle": "2025-07-23T14:40:08.928808Z",
     "shell.execute_reply": "2025-07-23T14:40:08.927910Z"
    },
    "papermill": {
     "duration": 0.026168,
     "end_time": "2025-07-23T14:40:08.930507",
     "exception": false,
     "start_time": "2025-07-23T14:40:08.904339",
     "status": "completed"
    },
    "tags": []
   },
   "outputs": [
    {
     "name": "stdout",
     "output_type": "stream",
     "text": [
      "Current working directory: /dss/dsshome1/0C/ra93lal2/cma/CMA_Fairness_v2\n"
     ]
    }
   ],
   "source": [
    "import os\n",
    "print(\"Current working directory:\", os.getcwd())"
   ]
  },
  {
   "cell_type": "code",
   "execution_count": 3,
   "id": "2dce4c03",
   "metadata": {
    "execution": {
     "iopub.execute_input": "2025-07-23T14:40:08.969064Z",
     "iopub.status.busy": "2025-07-23T14:40:08.967901Z",
     "iopub.status.idle": "2025-07-23T14:40:08.993534Z",
     "shell.execute_reply": "2025-07-23T14:40:08.992377Z"
    },
    "papermill": {
     "duration": 0.047686,
     "end_time": "2025-07-23T14:40:08.995659",
     "exception": false,
     "start_time": "2025-07-23T14:40:08.947973",
     "status": "completed"
    },
    "tags": [
     "parameters"
    ]
   },
   "outputs": [],
   "source": [
    "run_no = 0\n",
    "universe_id = \"test\"\n",
    "universe = {\n",
    "    \"scale\": \"scale\", # \"scale\", \"do-not-scale\",\n",
    "    \"model\": \"elasticnet\", # \"logreg\", \"penalized_logreg\", \"rf\", \"gbm\", \"elasticnet\"\n",
    "    \"cutoff\": [\"quantile_0.15\", \"quantile_0.30\"],\n",
    "    \"exclude_features\": \"age\", # \"none\", \"nationality\", \"sex\", \"nationality-sex\", \"age\"\n",
    "    \"exclude_subgroups\": \"keep-all\", # \"keep-all\", \"drop-non-german\"\n",
    "    #\"training_sample\": \"restricted\", # \"restricted\", \"full\"\n",
    "    \"eval_fairness_grouping\": [\"majority-minority\", \"nationality-all\"]\n",
    "}\n",
    "\n",
    "output_dir=\"./output\"\n",
    "seed=0"
   ]
  },
  {
   "cell_type": "code",
   "execution_count": 4,
   "id": "f745ca0d",
   "metadata": {
    "execution": {
     "iopub.execute_input": "2025-07-23T14:40:09.034824Z",
     "iopub.status.busy": "2025-07-23T14:40:09.034384Z",
     "iopub.status.idle": "2025-07-23T14:40:09.040346Z",
     "shell.execute_reply": "2025-07-23T14:40:09.039228Z"
    },
    "papermill": {
     "duration": 0.0279,
     "end_time": "2025-07-23T14:40:09.042238",
     "exception": false,
     "start_time": "2025-07-23T14:40:09.014338",
     "status": "completed"
    },
    "tags": [
     "injected-parameters"
    ]
   },
   "outputs": [],
   "source": [
    "# Parameters\n",
    "universe_id = \"41eaf70782011ea35bf8303122f41955\"\n",
    "run_no = \"9\"\n",
    "universe = \"{\\\"cutoff\\\": [\\\"quantile_0.1\\\", \\\"quantile_0.25\\\"], \\\"eval_fairness_grouping\\\": [\\\"majority-minority\\\", \\\"nationality-all\\\"], \\\"exclude_features\\\": \\\"none\\\", \\\"exclude_subgroups\\\": \\\"drop-non-german\\\", \\\"model\\\": \\\"elasticnet\\\", \\\"scale\\\": \\\"do-not-scale\\\"}\"\n",
    "output_dir = \"output\"\n",
    "seed = \"2023\"\n"
   ]
  },
  {
   "cell_type": "code",
   "execution_count": 5,
   "id": "1650acaf",
   "metadata": {
    "execution": {
     "iopub.execute_input": "2025-07-23T14:40:09.080949Z",
     "iopub.status.busy": "2025-07-23T14:40:09.080198Z",
     "iopub.status.idle": "2025-07-23T14:40:09.085824Z",
     "shell.execute_reply": "2025-07-23T14:40:09.084680Z"
    },
    "papermill": {
     "duration": 0.027014,
     "end_time": "2025-07-23T14:40:09.087692",
     "exception": false,
     "start_time": "2025-07-23T14:40:09.060678",
     "status": "completed"
    },
    "tags": []
   },
   "outputs": [],
   "source": [
    "import json\n",
    "# Parse universe into dict if it is passed as a string\n",
    "if isinstance(universe, str):\n",
    "    universe = json.loads(universe)"
   ]
  },
  {
   "cell_type": "code",
   "execution_count": 6,
   "id": "16620c48",
   "metadata": {
    "execution": {
     "iopub.execute_input": "2025-07-23T14:40:09.126212Z",
     "iopub.status.busy": "2025-07-23T14:40:09.125247Z",
     "iopub.status.idle": "2025-07-23T14:40:09.175010Z",
     "shell.execute_reply": "2025-07-23T14:40:09.173980Z"
    },
    "papermill": {
     "duration": 0.070824,
     "end_time": "2025-07-23T14:40:09.177168",
     "exception": false,
     "start_time": "2025-07-23T14:40:09.106344",
     "status": "completed"
    },
    "tags": []
   },
   "outputs": [],
   "source": [
    "# Auto-reload the custom package\n",
    "%load_ext autoreload\n",
    "%autoreload 1\n",
    "%aimport fairness_multiverse"
   ]
  },
  {
   "cell_type": "code",
   "execution_count": 7,
   "id": "01c5c9f3",
   "metadata": {
    "execution": {
     "iopub.execute_input": "2025-07-23T14:40:09.215915Z",
     "iopub.status.busy": "2025-07-23T14:40:09.215159Z",
     "iopub.status.idle": "2025-07-23T14:40:11.382393Z",
     "shell.execute_reply": "2025-07-23T14:40:11.381265Z"
    },
    "papermill": {
     "duration": 2.18879,
     "end_time": "2025-07-23T14:40:11.384800",
     "exception": false,
     "start_time": "2025-07-23T14:40:09.196010",
     "status": "completed"
    },
    "tags": []
   },
   "outputs": [],
   "source": [
    "from fairness_multiverse.universe import UniverseAnalysis\n",
    "\n",
    "universe_analysis = UniverseAnalysis(\n",
    "    run_no = run_no,\n",
    "    universe_id = universe_id,\n",
    "    universe = universe,\n",
    "    output_dir=output_dir,\n",
    ")"
   ]
  },
  {
   "cell_type": "code",
   "execution_count": 8,
   "id": "106241f5",
   "metadata": {
    "execution": {
     "iopub.execute_input": "2025-07-23T14:40:11.427723Z",
     "iopub.status.busy": "2025-07-23T14:40:11.426984Z",
     "iopub.status.idle": "2025-07-23T14:40:11.435340Z",
     "shell.execute_reply": "2025-07-23T14:40:11.433527Z"
    },
    "papermill": {
     "duration": 0.032087,
     "end_time": "2025-07-23T14:40:11.438925",
     "exception": false,
     "start_time": "2025-07-23T14:40:11.406838",
     "status": "completed"
    },
    "tags": []
   },
   "outputs": [
    {
     "name": "stdout",
     "output_type": "stream",
     "text": [
      "Using Seed: 2023\n"
     ]
    }
   ],
   "source": [
    "import numpy as np\n",
    "parsed_seed = int(seed)\n",
    "np.random.seed(parsed_seed)\n",
    "print(f\"Using Seed: {parsed_seed}\")"
   ]
  },
  {
   "cell_type": "markdown",
   "id": "e0ebdc57",
   "metadata": {
    "papermill": {
     "duration": 0.017994,
     "end_time": "2025-07-23T14:40:11.478102",
     "exception": false,
     "start_time": "2025-07-23T14:40:11.460108",
     "status": "completed"
    },
    "tags": []
   },
   "source": [
    "# Loading Data"
   ]
  },
  {
   "cell_type": "markdown",
   "id": "681925a3",
   "metadata": {
    "papermill": {
     "duration": 0.018511,
     "end_time": "2025-07-23T14:40:11.514430",
     "exception": false,
     "start_time": "2025-07-23T14:40:11.495919",
     "status": "completed"
    },
    "tags": []
   },
   "source": [
    "Load siab_train, siab_test, siab_calib and/or \n",
    "load siab_train_features, siab_train_labels"
   ]
  },
  {
   "cell_type": "code",
   "execution_count": 9,
   "id": "f0496b8a",
   "metadata": {
    "execution": {
     "iopub.execute_input": "2025-07-23T14:40:11.553022Z",
     "iopub.status.busy": "2025-07-23T14:40:11.552448Z",
     "iopub.status.idle": "2025-07-23T14:40:11.558728Z",
     "shell.execute_reply": "2025-07-23T14:40:11.557764Z"
    },
    "papermill": {
     "duration": 0.028356,
     "end_time": "2025-07-23T14:40:11.560800",
     "exception": false,
     "start_time": "2025-07-23T14:40:11.532444",
     "status": "completed"
    },
    "tags": []
   },
   "outputs": [],
   "source": [
    "# Do I need to load siab? Delete this cell?\n",
    "\n",
    "#from pathlib import Path\n",
    "#import pandas as pd\n",
    "#\n",
    "## File paths\n",
    "#raw_file = Path(\"data/raw/siab.csv\")\n",
    "#cache_file = Path(\"data/siab_cached.csv.gz\")\n",
    "#\n",
    "## Ensure cache directory exists\n",
    "#cache_file.parent.mkdir(parents=True, exist_ok=True)\n",
    "#\n",
    "## Load with simple caching\n",
    "#if cache_file.exists():\n",
    "#    print(f\"Loading SIAB data from cache: {cache_file}\")\n",
    "#    siab = pd.read_csv(cache_file, compression='gzip')\n",
    "#else:\n",
    "#    print(f\"Cache not found. Reading raw SIAB data: {raw_file}\")\n",
    "#    siab = pd.read_csv(raw_file)\n",
    "#    siab.to_csv(cache_file, index=False, compression='gzip')\n",
    "#    print(f\"Cached SIAB data to: {cache_file}\")\n",
    "#\n",
    "## Now use `siab` DataFrame as needed\n",
    "#print(siab.shape)\n"
   ]
  },
  {
   "cell_type": "code",
   "execution_count": 10,
   "id": "a0edb063",
   "metadata": {
    "execution": {
     "iopub.execute_input": "2025-07-23T14:40:11.600099Z",
     "iopub.status.busy": "2025-07-23T14:40:11.599367Z",
     "iopub.status.idle": "2025-07-23T14:40:12.931772Z",
     "shell.execute_reply": "2025-07-23T14:40:12.930795Z"
    },
    "papermill": {
     "duration": 1.354177,
     "end_time": "2025-07-23T14:40:12.933991",
     "exception": false,
     "start_time": "2025-07-23T14:40:11.579814",
     "status": "completed"
    },
    "tags": []
   },
   "outputs": [],
   "source": [
    "import pandas as pd\n",
    "\n",
    "X_train = pd.read_csv(\"./data/X_train.csv\")\n",
    "y_train = pd.read_csv(\"./data/y_train.csv\")"
   ]
  },
  {
   "cell_type": "code",
   "execution_count": 11,
   "id": "63d08085",
   "metadata": {
    "execution": {
     "iopub.execute_input": "2025-07-23T14:40:12.973714Z",
     "iopub.status.busy": "2025-07-23T14:40:12.972970Z",
     "iopub.status.idle": "2025-07-23T14:40:14.467103Z",
     "shell.execute_reply": "2025-07-23T14:40:14.466116Z"
    },
    "papermill": {
     "duration": 1.516153,
     "end_time": "2025-07-23T14:40:14.469252",
     "exception": false,
     "start_time": "2025-07-23T14:40:12.953099",
     "status": "completed"
    },
    "tags": []
   },
   "outputs": [],
   "source": [
    "X_test = pd.read_csv(\"./data/X_test.csv\")\n",
    "y_true = pd.read_csv(\"./data/y_test.csv\")"
   ]
  },
  {
   "cell_type": "code",
   "execution_count": 12,
   "id": "98a8d0fa-1d3d-4ed8-bb2c-281470e24add",
   "metadata": {
    "execution": {
     "iopub.execute_input": "2025-07-23T14:40:14.512158Z",
     "iopub.status.busy": "2025-07-23T14:40:14.511178Z",
     "iopub.status.idle": "2025-07-23T14:40:16.005403Z",
     "shell.execute_reply": "2025-07-23T14:40:16.004306Z"
    },
    "papermill": {
     "duration": 1.516656,
     "end_time": "2025-07-23T14:40:16.007489",
     "exception": false,
     "start_time": "2025-07-23T14:40:14.490833",
     "status": "completed"
    },
    "tags": []
   },
   "outputs": [],
   "source": [
    "# Calibration data for conformal\n",
    "X_calib = pd.read_csv(\"./data/X_calib.csv\")\n",
    "y_calib = pd.read_csv(\"./data/y_calib.csv\")"
   ]
  },
  {
   "cell_type": "code",
   "execution_count": 13,
   "id": "e6c733c5",
   "metadata": {
    "execution": {
     "iopub.execute_input": "2025-07-23T14:40:16.045901Z",
     "iopub.status.busy": "2025-07-23T14:40:16.045363Z",
     "iopub.status.idle": "2025-07-23T14:40:16.157506Z",
     "shell.execute_reply": "2025-07-23T14:40:16.156379Z"
    },
    "papermill": {
     "duration": 0.134881,
     "end_time": "2025-07-23T14:40:16.159684",
     "exception": false,
     "start_time": "2025-07-23T14:40:16.024803",
     "status": "completed"
    },
    "tags": []
   },
   "outputs": [],
   "source": [
    "# Auxiliary data needed downstream in the pipeline\n",
    "\n",
    "org_train = X_train.copy()\n",
    "org_test = X_test.copy()\n",
    "org_calib = X_calib.copy()"
   ]
  },
  {
   "cell_type": "markdown",
   "id": "0a4a1b33",
   "metadata": {
    "papermill": {
     "duration": 0.017035,
     "end_time": "2025-07-23T14:40:16.195040",
     "exception": false,
     "start_time": "2025-07-23T14:40:16.178005",
     "status": "completed"
    },
    "tags": []
   },
   "source": [
    "# Preprocessing Data"
   ]
  },
  {
   "cell_type": "code",
   "execution_count": 14,
   "id": "ca879031",
   "metadata": {
    "execution": {
     "iopub.execute_input": "2025-07-23T14:40:16.232692Z",
     "iopub.status.busy": "2025-07-23T14:40:16.231812Z",
     "iopub.status.idle": "2025-07-23T14:40:16.239918Z",
     "shell.execute_reply": "2025-07-23T14:40:16.238926Z"
    },
    "papermill": {
     "duration": 0.027828,
     "end_time": "2025-07-23T14:40:16.241571",
     "exception": false,
     "start_time": "2025-07-23T14:40:16.213743",
     "status": "completed"
    },
    "tags": []
   },
   "outputs": [],
   "source": [
    "# EXCLUDE PROTECTED FEATURES\n",
    "# ----------------------\n",
    "# \"exclude_features\": \"none\", # \"nationality\", \"sex\", \"nationality-sex\"\n",
    "\n",
    "excluded_features = universe[\"exclude_features\"].split(\"-\") # split, e.g.: \"nationality-sex\" -> [\"nationality\", \"sex\"]\n",
    "excluded_features_dictionary = {\n",
    "    \"nationality\": [\"maxdeutsch1\", \"maxdeutsch.Missing.\"],\n",
    "    \"sex\": [\"frau1\"],\n",
    "    \"age\": [\"age\"],\n",
    "}\n"
   ]
  },
  {
   "cell_type": "code",
   "execution_count": 15,
   "id": "b745ac60",
   "metadata": {
    "execution": {
     "iopub.execute_input": "2025-07-23T14:40:16.277942Z",
     "iopub.status.busy": "2025-07-23T14:40:16.277364Z",
     "iopub.status.idle": "2025-07-23T14:40:16.283745Z",
     "shell.execute_reply": "2025-07-23T14:40:16.282740Z"
    },
    "papermill": {
     "duration": 0.026298,
     "end_time": "2025-07-23T14:40:16.285549",
     "exception": false,
     "start_time": "2025-07-23T14:40:16.259251",
     "status": "completed"
    },
    "tags": []
   },
   "outputs": [],
   "source": [
    "# Code nice names to column names\n",
    "\n",
    "excluded_features_columns = [\n",
    "    excluded_features_dictionary[f] for f in excluded_features if len(f) > 0 and f != \"none\"\n",
    "]"
   ]
  },
  {
   "cell_type": "code",
   "execution_count": 16,
   "id": "f84f73a2",
   "metadata": {
    "execution": {
     "iopub.execute_input": "2025-07-23T14:40:16.322838Z",
     "iopub.status.busy": "2025-07-23T14:40:16.322116Z",
     "iopub.status.idle": "2025-07-23T14:40:16.328953Z",
     "shell.execute_reply": "2025-07-23T14:40:16.327897Z"
    },
    "papermill": {
     "duration": 0.026515,
     "end_time": "2025-07-23T14:40:16.330611",
     "exception": false,
     "start_time": "2025-07-23T14:40:16.304096",
     "status": "completed"
    },
    "tags": []
   },
   "outputs": [],
   "source": [
    "from utils import flatten_once\n",
    "\n",
    "excluded_features_columns = flatten_once(excluded_features_columns)"
   ]
  },
  {
   "cell_type": "code",
   "execution_count": 17,
   "id": "884dea22",
   "metadata": {
    "execution": {
     "iopub.execute_input": "2025-07-23T14:40:16.369137Z",
     "iopub.status.busy": "2025-07-23T14:40:16.368403Z",
     "iopub.status.idle": "2025-07-23T14:40:16.374596Z",
     "shell.execute_reply": "2025-07-23T14:40:16.373583Z"
    },
    "papermill": {
     "duration": 0.02763,
     "end_time": "2025-07-23T14:40:16.376261",
     "exception": false,
     "start_time": "2025-07-23T14:40:16.348631",
     "status": "completed"
    },
    "tags": []
   },
   "outputs": [],
   "source": [
    "if len(excluded_features_columns) > 0:\n",
    "    print(f\"Dropping features: {excluded_features_columns}\")\n",
    "    X_train.drop(excluded_features_columns, axis=1, inplace=True)"
   ]
  },
  {
   "cell_type": "code",
   "execution_count": 18,
   "id": "95ab8b16",
   "metadata": {
    "execution": {
     "iopub.execute_input": "2025-07-23T14:40:16.414489Z",
     "iopub.status.busy": "2025-07-23T14:40:16.413778Z",
     "iopub.status.idle": "2025-07-23T14:40:16.419940Z",
     "shell.execute_reply": "2025-07-23T14:40:16.418868Z"
    },
    "papermill": {
     "duration": 0.027396,
     "end_time": "2025-07-23T14:40:16.421889",
     "exception": false,
     "start_time": "2025-07-23T14:40:16.394493",
     "status": "completed"
    },
    "tags": []
   },
   "outputs": [],
   "source": [
    "if len(excluded_features_columns) > 0:\n",
    "    print(f\"Dropping features: {excluded_features_columns}\")\n",
    "    X_test.drop(excluded_features_columns, axis=1, inplace=True)"
   ]
  },
  {
   "cell_type": "code",
   "execution_count": 19,
   "id": "1853aaf5-fb9f-46cb-a2b5-8ea4ae2237e4",
   "metadata": {
    "execution": {
     "iopub.execute_input": "2025-07-23T14:40:16.462605Z",
     "iopub.status.busy": "2025-07-23T14:40:16.461895Z",
     "iopub.status.idle": "2025-07-23T14:40:16.468034Z",
     "shell.execute_reply": "2025-07-23T14:40:16.467069Z"
    },
    "papermill": {
     "duration": 0.028564,
     "end_time": "2025-07-23T14:40:16.469756",
     "exception": false,
     "start_time": "2025-07-23T14:40:16.441192",
     "status": "completed"
    },
    "tags": []
   },
   "outputs": [],
   "source": [
    "if len(excluded_features_columns) > 0:\n",
    "    print(f\"Dropping features: {excluded_features_columns}\")\n",
    "    X_calib.drop(excluded_features_columns, axis=1, inplace=True)"
   ]
  },
  {
   "cell_type": "code",
   "execution_count": 20,
   "id": "76c4dc6d",
   "metadata": {
    "execution": {
     "iopub.execute_input": "2025-07-23T14:40:16.507861Z",
     "iopub.status.busy": "2025-07-23T14:40:16.507084Z",
     "iopub.status.idle": "2025-07-23T14:40:16.513081Z",
     "shell.execute_reply": "2025-07-23T14:40:16.512083Z"
    },
    "papermill": {
     "duration": 0.027547,
     "end_time": "2025-07-23T14:40:16.515176",
     "exception": false,
     "start_time": "2025-07-23T14:40:16.487629",
     "status": "completed"
    },
    "tags": []
   },
   "outputs": [],
   "source": [
    "# EXCLUDE CERTAIN SUBGROUPS\n",
    "# ----------------------\n",
    "\n",
    "mode = universe.get(\"exclude_subgroups\", \"keep-all\") \n",
    "# Fetches the exclude_subgroups setting from the universe dict.\n",
    "# Defaults to \"keep-all\" if the key is missing."
   ]
  },
  {
   "cell_type": "code",
   "execution_count": 21,
   "id": "21994072",
   "metadata": {
    "execution": {
     "iopub.execute_input": "2025-07-23T14:40:16.556168Z",
     "iopub.status.busy": "2025-07-23T14:40:16.555653Z",
     "iopub.status.idle": "2025-07-23T14:40:16.563235Z",
     "shell.execute_reply": "2025-07-23T14:40:16.562111Z"
    },
    "papermill": {
     "duration": 0.031441,
     "end_time": "2025-07-23T14:40:16.565193",
     "exception": false,
     "start_time": "2025-07-23T14:40:16.533752",
     "status": "completed"
    },
    "tags": []
   },
   "outputs": [],
   "source": [
    "if mode == \"keep-all\":\n",
    "    keep_mask = pd.Series(True, index=org_train.index)\n",
    "\n",
    "# org_train contains the original feature columns from features_org (in Simson)\n",
    "# features_org contains unprocessed features, for me X_train at beginning ???\n",
    "# For keep-all, creates a boolean Series (keep_mask) of all True, so no rows are removed.\n",
    "\n",
    "elif mode == \"drop-non-german\":\n",
    "    keep_mask = org_train[\"maxdeutsch1\"] == 1 # ??? what about missing values?\n",
    "\n",
    "else:\n",
    "    raise ValueError(f\"Unsupported mode for exclude_subgroups: {mode}\")\n"
   ]
  },
  {
   "cell_type": "code",
   "execution_count": 22,
   "id": "71651440",
   "metadata": {
    "execution": {
     "iopub.execute_input": "2025-07-23T14:40:16.602899Z",
     "iopub.status.busy": "2025-07-23T14:40:16.602285Z",
     "iopub.status.idle": "2025-07-23T14:40:16.610853Z",
     "shell.execute_reply": "2025-07-23T14:40:16.609855Z"
    },
    "papermill": {
     "duration": 0.029568,
     "end_time": "2025-07-23T14:40:16.612782",
     "exception": false,
     "start_time": "2025-07-23T14:40:16.583214",
     "status": "completed"
    },
    "tags": []
   },
   "outputs": [
    {
     "name": "stdout",
     "output_type": "stream",
     "text": [
      "Dropping 10036 rows (13.38%) where mode='drop-non-german'\n"
     ]
    }
   ],
   "source": [
    "n_drop = (~keep_mask).sum() # Calculates how many rows are set to be dropped\n",
    "if n_drop > 0:\n",
    "    pct = n_drop / len(keep_mask) * 100\n",
    "    print(f\"Dropping {n_drop} rows ({pct:.2f}%) where mode='{mode}'\")"
   ]
  },
  {
   "cell_type": "code",
   "execution_count": 23,
   "id": "5fb8eee5",
   "metadata": {
    "execution": {
     "iopub.execute_input": "2025-07-23T14:40:16.650087Z",
     "iopub.status.busy": "2025-07-23T14:40:16.649354Z",
     "iopub.status.idle": "2025-07-23T14:40:16.703273Z",
     "shell.execute_reply": "2025-07-23T14:40:16.702277Z"
    },
    "papermill": {
     "duration": 0.074401,
     "end_time": "2025-07-23T14:40:16.705256",
     "exception": false,
     "start_time": "2025-07-23T14:40:16.630855",
     "status": "completed"
    },
    "tags": []
   },
   "outputs": [],
   "source": [
    "X_train = X_train[keep_mask]"
   ]
  },
  {
   "cell_type": "code",
   "execution_count": 24,
   "id": "b202bb3a",
   "metadata": {
    "execution": {
     "iopub.execute_input": "2025-07-23T14:40:16.743112Z",
     "iopub.status.busy": "2025-07-23T14:40:16.742167Z",
     "iopub.status.idle": "2025-07-23T14:40:16.750174Z",
     "shell.execute_reply": "2025-07-23T14:40:16.749184Z"
    },
    "papermill": {
     "duration": 0.02883,
     "end_time": "2025-07-23T14:40:16.752201",
     "exception": false,
     "start_time": "2025-07-23T14:40:16.723371",
     "status": "completed"
    },
    "tags": []
   },
   "outputs": [],
   "source": [
    "y_train = y_train[keep_mask]"
   ]
  },
  {
   "cell_type": "markdown",
   "id": "493e2ac3",
   "metadata": {
    "papermill": {
     "duration": 0.019405,
     "end_time": "2025-07-23T14:40:16.791733",
     "exception": false,
     "start_time": "2025-07-23T14:40:16.772328",
     "status": "completed"
    },
    "tags": []
   },
   "source": [
    "# Model Training"
   ]
  },
  {
   "cell_type": "code",
   "execution_count": 25,
   "id": "679e1268",
   "metadata": {
    "execution": {
     "iopub.execute_input": "2025-07-23T14:40:16.831767Z",
     "iopub.status.busy": "2025-07-23T14:40:16.831047Z",
     "iopub.status.idle": "2025-07-23T14:40:16.944326Z",
     "shell.execute_reply": "2025-07-23T14:40:16.943377Z"
    },
    "papermill": {
     "duration": 0.1359,
     "end_time": "2025-07-23T14:40:16.946439",
     "exception": false,
     "start_time": "2025-07-23T14:40:16.810539",
     "status": "completed"
    },
    "tags": []
   },
   "outputs": [],
   "source": [
    "from sklearn.linear_model import LogisticRegression\n",
    "from sklearn.ensemble import GradientBoostingClassifier, RandomForestClassifier\n",
    "\n",
    "if (universe[\"model\"] == \"logreg\"):\n",
    "    model = LogisticRegression() #penalty=\"none\") #, solver=\"newton-cg\", max_iter=1) # include random_state=19 ?\n",
    "elif (universe[\"model\"] == \"penalized_logreg\"):\n",
    "    model = LogisticRegression(penalty=\"l2\", C=1.0) #, solver=\"newton-cg\", max_iter=1)\n",
    "elif (universe[\"model\"] == \"rf\"):\n",
    "    model = RandomForestClassifier(n_estimators=100, n_jobs=-1)\n",
    "elif (universe[\"model\"] == \"gbm\"):\n",
    "    model = GradientBoostingClassifier()\n",
    "elif (universe[\"model\"] == \"elasticnet\"):\n",
    "    model = LogisticRegression(penalty = 'elasticnet', solver = 'saga', l1_ratio = 0.5, max_iter=5000) # which solver to use?\n",
    "else:\n",
    "    raise \"Unsupported universe.model\""
   ]
  },
  {
   "cell_type": "code",
   "execution_count": 26,
   "id": "0cc8f744",
   "metadata": {
    "execution": {
     "iopub.execute_input": "2025-07-23T14:40:16.988023Z",
     "iopub.status.busy": "2025-07-23T14:40:16.987322Z",
     "iopub.status.idle": "2025-07-23T14:40:16.993758Z",
     "shell.execute_reply": "2025-07-23T14:40:16.992829Z"
    },
    "papermill": {
     "duration": 0.029102,
     "end_time": "2025-07-23T14:40:16.995643",
     "exception": false,
     "start_time": "2025-07-23T14:40:16.966541",
     "status": "completed"
    },
    "tags": []
   },
   "outputs": [],
   "source": [
    "import numpy as np\n",
    "from sklearn.pipeline import Pipeline\n",
    "from sklearn.preprocessing import StandardScaler\n",
    "\n",
    "model = Pipeline([\n",
    "    #(\"continuous_processor\", continuous_processor),\n",
    "    #(\"categorical_preprocessor\", categorical_preprocessor),\n",
    "    (\"scale\", StandardScaler() if universe[\"scale\"] == \"scale\" else None), \n",
    "    (\"model\", model),\n",
    "])"
   ]
  },
  {
   "cell_type": "code",
   "execution_count": 27,
   "id": "9442c04d",
   "metadata": {
    "execution": {
     "iopub.execute_input": "2025-07-23T14:40:17.036046Z",
     "iopub.status.busy": "2025-07-23T14:40:17.035544Z",
     "iopub.status.idle": "2025-07-23T14:49:34.034668Z",
     "shell.execute_reply": "2025-07-23T14:49:34.033463Z"
    },
    "papermill": {
     "duration": 557.027003,
     "end_time": "2025-07-23T14:49:34.042245",
     "exception": false,
     "start_time": "2025-07-23T14:40:17.015242",
     "status": "completed"
    },
    "tags": []
   },
   "outputs": [
    {
     "data": {
      "text/html": [
       "<style>#sk-container-id-1 {color: black;background-color: white;}#sk-container-id-1 pre{padding: 0;}#sk-container-id-1 div.sk-toggleable {background-color: white;}#sk-container-id-1 label.sk-toggleable__label {cursor: pointer;display: block;width: 100%;margin-bottom: 0;padding: 0.3em;box-sizing: border-box;text-align: center;}#sk-container-id-1 label.sk-toggleable__label-arrow:before {content: \"▸\";float: left;margin-right: 0.25em;color: #696969;}#sk-container-id-1 label.sk-toggleable__label-arrow:hover:before {color: black;}#sk-container-id-1 div.sk-estimator:hover label.sk-toggleable__label-arrow:before {color: black;}#sk-container-id-1 div.sk-toggleable__content {max-height: 0;max-width: 0;overflow: hidden;text-align: left;background-color: #f0f8ff;}#sk-container-id-1 div.sk-toggleable__content pre {margin: 0.2em;color: black;border-radius: 0.25em;background-color: #f0f8ff;}#sk-container-id-1 input.sk-toggleable__control:checked~div.sk-toggleable__content {max-height: 200px;max-width: 100%;overflow: auto;}#sk-container-id-1 input.sk-toggleable__control:checked~label.sk-toggleable__label-arrow:before {content: \"▾\";}#sk-container-id-1 div.sk-estimator input.sk-toggleable__control:checked~label.sk-toggleable__label {background-color: #d4ebff;}#sk-container-id-1 div.sk-label input.sk-toggleable__control:checked~label.sk-toggleable__label {background-color: #d4ebff;}#sk-container-id-1 input.sk-hidden--visually {border: 0;clip: rect(1px 1px 1px 1px);clip: rect(1px, 1px, 1px, 1px);height: 1px;margin: -1px;overflow: hidden;padding: 0;position: absolute;width: 1px;}#sk-container-id-1 div.sk-estimator {font-family: monospace;background-color: #f0f8ff;border: 1px dotted black;border-radius: 0.25em;box-sizing: border-box;margin-bottom: 0.5em;}#sk-container-id-1 div.sk-estimator:hover {background-color: #d4ebff;}#sk-container-id-1 div.sk-parallel-item::after {content: \"\";width: 100%;border-bottom: 1px solid gray;flex-grow: 1;}#sk-container-id-1 div.sk-label:hover label.sk-toggleable__label {background-color: #d4ebff;}#sk-container-id-1 div.sk-serial::before {content: \"\";position: absolute;border-left: 1px solid gray;box-sizing: border-box;top: 0;bottom: 0;left: 50%;z-index: 0;}#sk-container-id-1 div.sk-serial {display: flex;flex-direction: column;align-items: center;background-color: white;padding-right: 0.2em;padding-left: 0.2em;position: relative;}#sk-container-id-1 div.sk-item {position: relative;z-index: 1;}#sk-container-id-1 div.sk-parallel {display: flex;align-items: stretch;justify-content: center;background-color: white;position: relative;}#sk-container-id-1 div.sk-item::before, #sk-container-id-1 div.sk-parallel-item::before {content: \"\";position: absolute;border-left: 1px solid gray;box-sizing: border-box;top: 0;bottom: 0;left: 50%;z-index: -1;}#sk-container-id-1 div.sk-parallel-item {display: flex;flex-direction: column;z-index: 1;position: relative;background-color: white;}#sk-container-id-1 div.sk-parallel-item:first-child::after {align-self: flex-end;width: 50%;}#sk-container-id-1 div.sk-parallel-item:last-child::after {align-self: flex-start;width: 50%;}#sk-container-id-1 div.sk-parallel-item:only-child::after {width: 0;}#sk-container-id-1 div.sk-dashed-wrapped {border: 1px dashed gray;margin: 0 0.4em 0.5em 0.4em;box-sizing: border-box;padding-bottom: 0.4em;background-color: white;}#sk-container-id-1 div.sk-label label {font-family: monospace;font-weight: bold;display: inline-block;line-height: 1.2em;}#sk-container-id-1 div.sk-label-container {text-align: center;}#sk-container-id-1 div.sk-container {/* jupyter's `normalize.less` sets `[hidden] { display: none; }` but bootstrap.min.css set `[hidden] { display: none !important; }` so we also need the `!important` here to be able to override the default hidden behavior on the sphinx rendered scikit-learn.org. See: https://github.com/scikit-learn/scikit-learn/issues/21755 */display: inline-block !important;position: relative;}#sk-container-id-1 div.sk-text-repr-fallback {display: none;}</style><div id=\"sk-container-id-1\" class=\"sk-top-container\"><div class=\"sk-text-repr-fallback\"><pre>Pipeline(steps=[(&#x27;scale&#x27;, None),\n",
       "                (&#x27;model&#x27;,\n",
       "                 LogisticRegression(l1_ratio=0.5, max_iter=5000,\n",
       "                                    penalty=&#x27;elasticnet&#x27;, solver=&#x27;saga&#x27;))])</pre><b>In a Jupyter environment, please rerun this cell to show the HTML representation or trust the notebook. <br />On GitHub, the HTML representation is unable to render, please try loading this page with nbviewer.org.</b></div><div class=\"sk-container\" hidden><div class=\"sk-item sk-dashed-wrapped\"><div class=\"sk-label-container\"><div class=\"sk-label sk-toggleable\"><input class=\"sk-toggleable__control sk-hidden--visually\" id=\"sk-estimator-id-1\" type=\"checkbox\" ><label for=\"sk-estimator-id-1\" class=\"sk-toggleable__label sk-toggleable__label-arrow\">Pipeline</label><div class=\"sk-toggleable__content\"><pre>Pipeline(steps=[(&#x27;scale&#x27;, None),\n",
       "                (&#x27;model&#x27;,\n",
       "                 LogisticRegression(l1_ratio=0.5, max_iter=5000,\n",
       "                                    penalty=&#x27;elasticnet&#x27;, solver=&#x27;saga&#x27;))])</pre></div></div></div><div class=\"sk-serial\"><div class=\"sk-item\"><div class=\"sk-estimator sk-toggleable\"><input class=\"sk-toggleable__control sk-hidden--visually\" id=\"sk-estimator-id-2\" type=\"checkbox\" ><label for=\"sk-estimator-id-2\" class=\"sk-toggleable__label sk-toggleable__label-arrow\">None</label><div class=\"sk-toggleable__content\"><pre>None</pre></div></div></div><div class=\"sk-item\"><div class=\"sk-estimator sk-toggleable\"><input class=\"sk-toggleable__control sk-hidden--visually\" id=\"sk-estimator-id-3\" type=\"checkbox\" ><label for=\"sk-estimator-id-3\" class=\"sk-toggleable__label sk-toggleable__label-arrow\">LogisticRegression</label><div class=\"sk-toggleable__content\"><pre>LogisticRegression(l1_ratio=0.5, max_iter=5000, penalty=&#x27;elasticnet&#x27;,\n",
       "                   solver=&#x27;saga&#x27;)</pre></div></div></div></div></div></div></div>"
      ],
      "text/plain": [
       "Pipeline(steps=[('scale', None),\n",
       "                ('model',\n",
       "                 LogisticRegression(l1_ratio=0.5, max_iter=5000,\n",
       "                                    penalty='elasticnet', solver='saga'))])"
      ]
     },
     "execution_count": 27,
     "metadata": {},
     "output_type": "execute_result"
    }
   ],
   "source": [
    "model.fit(X_train, y_train.values.ravel())"
   ]
  },
  {
   "cell_type": "code",
   "execution_count": 28,
   "id": "af59f8c0",
   "metadata": {
    "execution": {
     "iopub.execute_input": "2025-07-23T14:49:34.079961Z",
     "iopub.status.busy": "2025-07-23T14:49:34.079202Z",
     "iopub.status.idle": "2025-07-23T14:49:34.085467Z",
     "shell.execute_reply": "2025-07-23T14:49:34.084465Z"
    },
    "papermill": {
     "duration": 0.027139,
     "end_time": "2025-07-23T14:49:34.087207",
     "exception": false,
     "start_time": "2025-07-23T14:49:34.060068",
     "status": "completed"
    },
    "tags": []
   },
   "outputs": [],
   "source": [
    "from fairness_multiverse.universe import predict_w_threshold"
   ]
  },
  {
   "cell_type": "code",
   "execution_count": 29,
   "id": "a7cf2e16",
   "metadata": {
    "execution": {
     "iopub.execute_input": "2025-07-23T14:49:34.125651Z",
     "iopub.status.busy": "2025-07-23T14:49:34.124939Z",
     "iopub.status.idle": "2025-07-23T14:49:34.226477Z",
     "shell.execute_reply": "2025-07-23T14:49:34.225503Z"
    },
    "papermill": {
     "duration": 0.122499,
     "end_time": "2025-07-23T14:49:34.228321",
     "exception": false,
     "start_time": "2025-07-23T14:49:34.105822",
     "status": "completed"
    },
    "tags": []
   },
   "outputs": [
    {
     "data": {
      "text/plain": [
       "0.8493256047263404"
      ]
     },
     "execution_count": 29,
     "metadata": {},
     "output_type": "execute_result"
    }
   ],
   "source": [
    "probs_test = model.predict_proba(X_test)\n",
    "\n",
    "'''\n",
    "Below code returns a boolean array (or binary 0/1 array depending on how it’s used) where each element \n",
    "is True if the probability of class 1 is greater than or equal to the threshold, and False otherwise.\n",
    "'''\n",
    "y_pred_default = predict_w_threshold(probs_test, 0.5)\n",
    "\n",
    "from sklearn.metrics import accuracy_score\n",
    "\n",
    "# Naive prediction\n",
    "accuracy_score(y_true = y_true, y_pred = y_pred_default)"
   ]
  },
  {
   "cell_type": "code",
   "execution_count": 30,
   "id": "081964c3",
   "metadata": {
    "execution": {
     "iopub.execute_input": "2025-07-23T14:49:34.267048Z",
     "iopub.status.busy": "2025-07-23T14:49:34.266350Z",
     "iopub.status.idle": "2025-07-23T14:49:34.351901Z",
     "shell.execute_reply": "2025-07-23T14:49:34.350925Z"
    },
    "papermill": {
     "duration": 0.106765,
     "end_time": "2025-07-23T14:49:34.353818",
     "exception": false,
     "start_time": "2025-07-23T14:49:34.247053",
     "status": "completed"
    },
    "tags": []
   },
   "outputs": [
    {
     "data": {
      "text/plain": [
       "array([0, 0, 0, ..., 0, 0, 0])"
      ]
     },
     "execution_count": 30,
     "metadata": {},
     "output_type": "execute_result"
    }
   ],
   "source": [
    "model.predict(X_test)"
   ]
  },
  {
   "cell_type": "markdown",
   "id": "56c9705b",
   "metadata": {
    "papermill": {
     "duration": 0.018316,
     "end_time": "2025-07-23T14:49:34.391034",
     "exception": false,
     "start_time": "2025-07-23T14:49:34.372718",
     "status": "completed"
    },
    "tags": []
   },
   "source": [
    "# Conformal Prediction"
   ]
  },
  {
   "cell_type": "code",
   "execution_count": 31,
   "id": "160ec6ff",
   "metadata": {
    "execution": {
     "iopub.execute_input": "2025-07-23T14:49:34.429942Z",
     "iopub.status.busy": "2025-07-23T14:49:34.429246Z",
     "iopub.status.idle": "2025-07-23T14:49:34.434759Z",
     "shell.execute_reply": "2025-07-23T14:49:34.433735Z"
    },
    "papermill": {
     "duration": 0.026799,
     "end_time": "2025-07-23T14:49:34.436462",
     "exception": false,
     "start_time": "2025-07-23T14:49:34.409663",
     "status": "completed"
    },
    "tags": []
   },
   "outputs": [],
   "source": [
    "# Miscoverage level for conformal prediction (10% allowed error rate => 90% target coverage)\n",
    "alpha = 0.1"
   ]
  },
  {
   "cell_type": "code",
   "execution_count": 32,
   "id": "eadf4555-3dd3-440e-8e35-f82a4ad9f855",
   "metadata": {
    "execution": {
     "iopub.execute_input": "2025-07-23T14:49:34.475888Z",
     "iopub.status.busy": "2025-07-23T14:49:34.475183Z",
     "iopub.status.idle": "2025-07-23T14:49:34.558826Z",
     "shell.execute_reply": "2025-07-23T14:49:34.557859Z"
    },
    "papermill": {
     "duration": 0.105267,
     "end_time": "2025-07-23T14:49:34.560800",
     "exception": false,
     "start_time": "2025-07-23T14:49:34.455533",
     "status": "completed"
    },
    "tags": []
   },
   "outputs": [],
   "source": [
    "probs_calib = model.predict_proba(X_calib)"
   ]
  },
  {
   "cell_type": "code",
   "execution_count": 33,
   "id": "2ed93547-6d5d-4983-9b36-1ecb300da49a",
   "metadata": {
    "execution": {
     "iopub.execute_input": "2025-07-23T14:49:34.600496Z",
     "iopub.status.busy": "2025-07-23T14:49:34.599801Z",
     "iopub.status.idle": "2025-07-23T14:49:34.606017Z",
     "shell.execute_reply": "2025-07-23T14:49:34.604970Z"
    },
    "papermill": {
     "duration": 0.027697,
     "end_time": "2025-07-23T14:49:34.607693",
     "exception": false,
     "start_time": "2025-07-23T14:49:34.579996",
     "status": "completed"
    },
    "tags": []
   },
   "outputs": [],
   "source": [
    "y_calib = y_calib.values.ravel().astype(int)"
   ]
  },
  {
   "cell_type": "code",
   "execution_count": 34,
   "id": "65d1320d-f588-4b38-9072-62af1ae97f7d",
   "metadata": {
    "execution": {
     "iopub.execute_input": "2025-07-23T14:49:34.647580Z",
     "iopub.status.busy": "2025-07-23T14:49:34.646888Z",
     "iopub.status.idle": "2025-07-23T14:49:34.654955Z",
     "shell.execute_reply": "2025-07-23T14:49:34.654052Z"
    },
    "papermill": {
     "duration": 0.029798,
     "end_time": "2025-07-23T14:49:34.656733",
     "exception": false,
     "start_time": "2025-07-23T14:49:34.626935",
     "status": "completed"
    },
    "tags": []
   },
   "outputs": [],
   "source": [
    "from fairness_multiverse.conformal import compute_nc_scores\n",
    "\n",
    "# Compute nonconformity scores on calibration set (1 - probability of true class)\n",
    "nc_scores = compute_nc_scores(probs_calib, y_calib)"
   ]
  },
  {
   "cell_type": "code",
   "execution_count": 35,
   "id": "df3b8ca3-53b7-43d5-9667-7c85da7aeda2",
   "metadata": {
    "execution": {
     "iopub.execute_input": "2025-07-23T14:49:34.697184Z",
     "iopub.status.busy": "2025-07-23T14:49:34.696422Z",
     "iopub.status.idle": "2025-07-23T14:49:34.704043Z",
     "shell.execute_reply": "2025-07-23T14:49:34.703151Z"
    },
    "papermill": {
     "duration": 0.029703,
     "end_time": "2025-07-23T14:49:34.705834",
     "exception": false,
     "start_time": "2025-07-23T14:49:34.676131",
     "status": "completed"
    },
    "tags": []
   },
   "outputs": [],
   "source": [
    "from fairness_multiverse.conformal import find_threshold\n",
    "\n",
    "# Find conformal threshold q_hat for the given alpha (split conformal method)\n",
    "q_hat = find_threshold(nc_scores, alpha)"
   ]
  },
  {
   "cell_type": "code",
   "execution_count": 36,
   "id": "4d29e6c1-0ef6-4aa4-b8fe-4fe79b0d033a",
   "metadata": {
    "execution": {
     "iopub.execute_input": "2025-07-23T14:49:34.746014Z",
     "iopub.status.busy": "2025-07-23T14:49:34.745303Z",
     "iopub.status.idle": "2025-07-23T14:49:34.753223Z",
     "shell.execute_reply": "2025-07-23T14:49:34.752313Z"
    },
    "papermill": {
     "duration": 0.029885,
     "end_time": "2025-07-23T14:49:34.754947",
     "exception": false,
     "start_time": "2025-07-23T14:49:34.725062",
     "status": "completed"
    },
    "tags": []
   },
   "outputs": [
    {
     "data": {
      "text/plain": [
       "0.685251051280641"
      ]
     },
     "execution_count": 36,
     "metadata": {},
     "output_type": "execute_result"
    }
   ],
   "source": [
    "q_hat"
   ]
  },
  {
   "cell_type": "code",
   "execution_count": 37,
   "id": "92460794-cdac-4be2-ba28-f28c0515a6fb",
   "metadata": {
    "execution": {
     "iopub.execute_input": "2025-07-23T14:49:34.795312Z",
     "iopub.status.busy": "2025-07-23T14:49:34.794604Z",
     "iopub.status.idle": "2025-07-23T14:49:35.608774Z",
     "shell.execute_reply": "2025-07-23T14:49:35.607796Z"
    },
    "papermill": {
     "duration": 0.836252,
     "end_time": "2025-07-23T14:49:35.610715",
     "exception": false,
     "start_time": "2025-07-23T14:49:34.774463",
     "status": "completed"
    },
    "tags": []
   },
   "outputs": [],
   "source": [
    "from fairness_multiverse.conformal import predict_conformal_sets\n",
    "\n",
    "# Generate prediction sets for each test example\n",
    "pred_sets = predict_conformal_sets(model, X_test, q_hat)"
   ]
  },
  {
   "cell_type": "code",
   "execution_count": 38,
   "id": "d90c9a65-e6db-4f5d-80cd-e68fb7e46829",
   "metadata": {
    "execution": {
     "iopub.execute_input": "2025-07-23T14:49:35.651111Z",
     "iopub.status.busy": "2025-07-23T14:49:35.650400Z",
     "iopub.status.idle": "2025-07-23T14:49:35.656384Z",
     "shell.execute_reply": "2025-07-23T14:49:35.655410Z"
    },
    "papermill": {
     "duration": 0.027758,
     "end_time": "2025-07-23T14:49:35.658179",
     "exception": false,
     "start_time": "2025-07-23T14:49:35.630421",
     "status": "completed"
    },
    "tags": []
   },
   "outputs": [],
   "source": [
    "y_true = y_true.squeeze()"
   ]
  },
  {
   "cell_type": "code",
   "execution_count": 39,
   "id": "3a58a54a-1e68-46b9-927a-df01f18aebc8",
   "metadata": {
    "execution": {
     "iopub.execute_input": "2025-07-23T14:49:35.699002Z",
     "iopub.status.busy": "2025-07-23T14:49:35.698310Z",
     "iopub.status.idle": "2025-07-23T14:49:36.685210Z",
     "shell.execute_reply": "2025-07-23T14:49:36.684256Z"
    },
    "papermill": {
     "duration": 1.009345,
     "end_time": "2025-07-23T14:49:36.687116",
     "exception": false,
     "start_time": "2025-07-23T14:49:35.677771",
     "status": "completed"
    },
    "tags": []
   },
   "outputs": [],
   "source": [
    "from fairness_multiverse.conformal import evaluate_sets\n",
    "\n",
    "# Evaluate coverage and average set size on test data\n",
    "metrics = evaluate_sets(pred_sets, y_true)"
   ]
  },
  {
   "cell_type": "code",
   "execution_count": 40,
   "id": "5ce0a5cb-201f-45a0-ade5-94c7f0bd6095",
   "metadata": {
    "execution": {
     "iopub.execute_input": "2025-07-23T14:49:36.728466Z",
     "iopub.status.busy": "2025-07-23T14:49:36.727770Z",
     "iopub.status.idle": "2025-07-23T14:49:36.735359Z",
     "shell.execute_reply": "2025-07-23T14:49:36.734343Z"
    },
    "papermill": {
     "duration": 0.029719,
     "end_time": "2025-07-23T14:49:36.736985",
     "exception": false,
     "start_time": "2025-07-23T14:49:36.707266",
     "status": "completed"
    },
    "tags": []
   },
   "outputs": [
    {
     "data": {
      "text/plain": [
       "{'coverage': 0.9066436294727455, 'avg_size': 1.1350239661130308}"
      ]
     },
     "execution_count": 40,
     "metadata": {},
     "output_type": "execute_result"
    }
   ],
   "source": [
    "metrics"
   ]
  },
  {
   "cell_type": "code",
   "execution_count": 41,
   "id": "9b9a838d-31c9-430b-ae14-12baee460d17",
   "metadata": {
    "execution": {
     "iopub.execute_input": "2025-07-23T14:49:36.777983Z",
     "iopub.status.busy": "2025-07-23T14:49:36.777285Z",
     "iopub.status.idle": "2025-07-23T14:49:36.783756Z",
     "shell.execute_reply": "2025-07-23T14:49:36.782809Z"
    },
    "papermill": {
     "duration": 0.028719,
     "end_time": "2025-07-23T14:49:36.785509",
     "exception": false,
     "start_time": "2025-07-23T14:49:36.756790",
     "status": "completed"
    },
    "tags": []
   },
   "outputs": [],
   "source": [
    "example_universe = universe.copy()\n",
    "universe_model = example_universe.get(\"model\")\n",
    "universe_exclude_features = example_universe.get(\"exclude_features\")\n",
    "universe_exclude_subgroups = example_universe.get(\"exclude_subgroups\")\n",
    "universe_scale = example_universe.get(\"scale\")"
   ]
  },
  {
   "cell_type": "code",
   "execution_count": 42,
   "id": "f4b6a8ac-9dc0-4245-8a91-5b3b5999c4f9",
   "metadata": {
    "execution": {
     "iopub.execute_input": "2025-07-23T14:49:36.826646Z",
     "iopub.status.busy": "2025-07-23T14:49:36.825952Z",
     "iopub.status.idle": "2025-07-23T14:49:36.832474Z",
     "shell.execute_reply": "2025-07-23T14:49:36.831571Z"
    },
    "papermill": {
     "duration": 0.02882,
     "end_time": "2025-07-23T14:49:36.834184",
     "exception": false,
     "start_time": "2025-07-23T14:49:36.805364",
     "status": "completed"
    },
    "tags": []
   },
   "outputs": [],
   "source": [
    "cp_metrics_dict = {\n",
    "    \"universe_id\": [universe_id],\n",
    "    \"universe_model\": [universe_model],\n",
    "    \"universe_exclude_features\": [universe_exclude_features],\n",
    "    \"universe_exclude_subgroups\": [universe_exclude_subgroups],\n",
    "    \"universe_scale\": [universe_scale],\n",
    "    \"q_hat\": [q_hat],\n",
    "    \"coverage\": [metrics[\"coverage\"]],\n",
    "    \"avg_size\": [metrics[\"avg_size\"]],\n",
    "}"
   ]
  },
  {
   "cell_type": "code",
   "execution_count": 43,
   "id": "908acbb1-0371-4915-85ca-3fa520d2efe2",
   "metadata": {
    "execution": {
     "iopub.execute_input": "2025-07-23T14:49:36.875563Z",
     "iopub.status.busy": "2025-07-23T14:49:36.874868Z",
     "iopub.status.idle": "2025-07-23T14:49:36.882698Z",
     "shell.execute_reply": "2025-07-23T14:49:36.881707Z"
    },
    "papermill": {
     "duration": 0.030075,
     "end_time": "2025-07-23T14:49:36.884344",
     "exception": false,
     "start_time": "2025-07-23T14:49:36.854269",
     "status": "completed"
    },
    "tags": []
   },
   "outputs": [
    {
     "data": {
      "text/plain": [
       "{'universe_id': ['41eaf70782011ea35bf8303122f41955'],\n",
       " 'universe_model': ['elasticnet'],\n",
       " 'universe_exclude_features': ['none'],\n",
       " 'universe_exclude_subgroups': ['drop-non-german'],\n",
       " 'universe_scale': ['do-not-scale'],\n",
       " 'q_hat': [0.685251051280641],\n",
       " 'coverage': [0.9066436294727455],\n",
       " 'avg_size': [1.1350239661130308]}"
      ]
     },
     "execution_count": 43,
     "metadata": {},
     "output_type": "execute_result"
    }
   ],
   "source": [
    "cp_metrics_dict"
   ]
  },
  {
   "cell_type": "code",
   "execution_count": 44,
   "id": "33007efc-14e9-4ec6-97ac-56a455c82265",
   "metadata": {
    "execution": {
     "iopub.execute_input": "2025-07-23T14:49:36.926563Z",
     "iopub.status.busy": "2025-07-23T14:49:36.925870Z",
     "iopub.status.idle": "2025-07-23T14:49:36.932692Z",
     "shell.execute_reply": "2025-07-23T14:49:36.931697Z"
    },
    "papermill": {
     "duration": 0.029772,
     "end_time": "2025-07-23T14:49:36.934384",
     "exception": false,
     "start_time": "2025-07-23T14:49:36.904612",
     "status": "completed"
    },
    "tags": []
   },
   "outputs": [],
   "source": [
    "cp_metrics_df = pd.DataFrame(cp_metrics_dict)"
   ]
  },
  {
   "cell_type": "code",
   "execution_count": 45,
   "id": "db12611b-57b2-4910-b9d0-355adfd6e7bf",
   "metadata": {
    "execution": {
     "iopub.execute_input": "2025-07-23T14:49:36.976357Z",
     "iopub.status.busy": "2025-07-23T14:49:36.975669Z",
     "iopub.status.idle": "2025-07-23T14:49:36.993782Z",
     "shell.execute_reply": "2025-07-23T14:49:36.992628Z"
    },
    "papermill": {
     "duration": 0.040738,
     "end_time": "2025-07-23T14:49:36.995408",
     "exception": false,
     "start_time": "2025-07-23T14:49:36.954670",
     "status": "completed"
    },
    "tags": []
   },
   "outputs": [
    {
     "data": {
      "text/html": [
       "<div>\n",
       "<style scoped>\n",
       "    .dataframe tbody tr th:only-of-type {\n",
       "        vertical-align: middle;\n",
       "    }\n",
       "\n",
       "    .dataframe tbody tr th {\n",
       "        vertical-align: top;\n",
       "    }\n",
       "\n",
       "    .dataframe thead th {\n",
       "        text-align: right;\n",
       "    }\n",
       "</style>\n",
       "<table border=\"1\" class=\"dataframe\">\n",
       "  <thead>\n",
       "    <tr style=\"text-align: right;\">\n",
       "      <th></th>\n",
       "      <th>universe_id</th>\n",
       "      <th>universe_model</th>\n",
       "      <th>universe_exclude_features</th>\n",
       "      <th>universe_exclude_subgroups</th>\n",
       "      <th>universe_scale</th>\n",
       "      <th>q_hat</th>\n",
       "      <th>coverage</th>\n",
       "      <th>avg_size</th>\n",
       "    </tr>\n",
       "  </thead>\n",
       "  <tbody>\n",
       "    <tr>\n",
       "      <th>0</th>\n",
       "      <td>41eaf70782011ea35bf8303122f41955</td>\n",
       "      <td>elasticnet</td>\n",
       "      <td>none</td>\n",
       "      <td>drop-non-german</td>\n",
       "      <td>do-not-scale</td>\n",
       "      <td>0.685251</td>\n",
       "      <td>0.906644</td>\n",
       "      <td>1.135024</td>\n",
       "    </tr>\n",
       "  </tbody>\n",
       "</table>\n",
       "</div>"
      ],
      "text/plain": [
       "                        universe_id universe_model universe_exclude_features  \\\n",
       "0  41eaf70782011ea35bf8303122f41955     elasticnet                      none   \n",
       "\n",
       "  universe_exclude_subgroups universe_scale     q_hat  coverage  avg_size  \n",
       "0            drop-non-german   do-not-scale  0.685251  0.906644  1.135024  "
      ]
     },
     "execution_count": 45,
     "metadata": {},
     "output_type": "execute_result"
    }
   ],
   "source": [
    "cp_metrics_df"
   ]
  },
  {
   "cell_type": "code",
   "execution_count": 46,
   "id": "b7fbde55-a0a1-47e4-9af6-fe4a17fa8c61",
   "metadata": {
    "execution": {
     "iopub.execute_input": "2025-07-23T14:49:37.038353Z",
     "iopub.status.busy": "2025-07-23T14:49:37.037651Z",
     "iopub.status.idle": "2025-07-23T14:49:37.043089Z",
     "shell.execute_reply": "2025-07-23T14:49:37.042170Z"
    },
    "papermill": {
     "duration": 0.028594,
     "end_time": "2025-07-23T14:49:37.044777",
     "exception": false,
     "start_time": "2025-07-23T14:49:37.016183",
     "status": "completed"
    },
    "tags": []
   },
   "outputs": [],
   "source": [
    "# Conditional Coverage & looking at subgroups"
   ]
  },
  {
   "cell_type": "code",
   "execution_count": 47,
   "id": "027ae886-68dd-4141-96c7-805a5450e1ef",
   "metadata": {
    "execution": {
     "iopub.execute_input": "2025-07-23T14:49:37.087497Z",
     "iopub.status.busy": "2025-07-23T14:49:37.086800Z",
     "iopub.status.idle": "2025-07-23T14:49:37.350796Z",
     "shell.execute_reply": "2025-07-23T14:49:37.349836Z"
    },
    "papermill": {
     "duration": 0.287412,
     "end_time": "2025-07-23T14:49:37.352859",
     "exception": false,
     "start_time": "2025-07-23T14:49:37.065447",
     "status": "completed"
    },
    "tags": []
   },
   "outputs": [],
   "source": [
    "from fairness_multiverse.conformal import build_cp_groups\n",
    "\n",
    "cp_groups_df = build_cp_groups(pred_sets, y_true, X_test.index, org_test)\n",
    "#needs universe_id and setting"
   ]
  },
  {
   "cell_type": "code",
   "execution_count": 48,
   "id": "c3b92545-903e-4839-89af-0f057907d7d6",
   "metadata": {
    "execution": {
     "iopub.execute_input": "2025-07-23T14:49:37.395811Z",
     "iopub.status.busy": "2025-07-23T14:49:37.395114Z",
     "iopub.status.idle": "2025-07-23T14:49:39.089281Z",
     "shell.execute_reply": "2025-07-23T14:49:39.088316Z"
    },
    "papermill": {
     "duration": 1.717517,
     "end_time": "2025-07-23T14:49:39.091218",
     "exception": false,
     "start_time": "2025-07-23T14:49:37.373701",
     "status": "completed"
    },
    "tags": []
   },
   "outputs": [],
   "source": [
    "# Define covered = 1 if true_label is in the predicted set\n",
    "cp_groups_df['covered'] = cp_groups_df.apply(\n",
    "    lambda r: int(r['true_label'] in r['pred_set']),\n",
    "    axis=1\n",
    ")"
   ]
  },
  {
   "cell_type": "code",
   "execution_count": 49,
   "id": "338ff529-1a6b-4b87-a931-8e4788d52aad",
   "metadata": {
    "execution": {
     "iopub.execute_input": "2025-07-23T14:49:39.136481Z",
     "iopub.status.busy": "2025-07-23T14:49:39.135789Z",
     "iopub.status.idle": "2025-07-23T14:49:39.141034Z",
     "shell.execute_reply": "2025-07-23T14:49:39.139965Z"
    },
    "papermill": {
     "duration": 0.028686,
     "end_time": "2025-07-23T14:49:39.142881",
     "exception": false,
     "start_time": "2025-07-23T14:49:39.114195",
     "status": "completed"
    },
    "tags": []
   },
   "outputs": [],
   "source": [
    "#cp_groups_df"
   ]
  },
  {
   "cell_type": "code",
   "execution_count": 50,
   "id": "90032e27-66df-4540-9169-4e89cfbaa758",
   "metadata": {
    "execution": {
     "iopub.execute_input": "2025-07-23T14:49:39.185940Z",
     "iopub.status.busy": "2025-07-23T14:49:39.185209Z",
     "iopub.status.idle": "2025-07-23T14:49:39.197181Z",
     "shell.execute_reply": "2025-07-23T14:49:39.196219Z"
    },
    "papermill": {
     "duration": 0.0351,
     "end_time": "2025-07-23T14:49:39.198879",
     "exception": false,
     "start_time": "2025-07-23T14:49:39.163779",
     "status": "completed"
    },
    "tags": []
   },
   "outputs": [],
   "source": [
    "subgroups = ['frau1','nongerman','nongerman_male','nongerman_female']\n",
    "\n",
    "# Conditional coverage for subgroup==1\n",
    "cond_coverage = {\n",
    "    g: cp_groups_df.loc[cp_groups_df[g]==1, 'covered'].mean()\n",
    "    for g in subgroups\n",
    "}"
   ]
  },
  {
   "cell_type": "code",
   "execution_count": 51,
   "id": "1e348fb1-b9c3-45bc-ba23-f016827a7e0d",
   "metadata": {
    "execution": {
     "iopub.execute_input": "2025-07-23T14:49:39.242278Z",
     "iopub.status.busy": "2025-07-23T14:49:39.241586Z",
     "iopub.status.idle": "2025-07-23T14:49:39.249010Z",
     "shell.execute_reply": "2025-07-23T14:49:39.248009Z"
    },
    "papermill": {
     "duration": 0.030824,
     "end_time": "2025-07-23T14:49:39.250640",
     "exception": false,
     "start_time": "2025-07-23T14:49:39.219816",
     "status": "completed"
    },
    "tags": []
   },
   "outputs": [
    {
     "data": {
      "text/plain": [
       "{'frau1': 0.9054319989216876,\n",
       " 'nongerman': 0.9069780497389547,\n",
       " 'nongerman_male': 0.922183193731424,\n",
       " 'nongerman_female': 0.8818181818181818}"
      ]
     },
     "execution_count": 51,
     "metadata": {},
     "output_type": "execute_result"
    }
   ],
   "source": [
    "cond_coverage"
   ]
  },
  {
   "cell_type": "code",
   "execution_count": 52,
   "id": "f5093324-c3dd-4d63-bc4c-8d945e5c8bbb",
   "metadata": {
    "execution": {
     "iopub.execute_input": "2025-07-23T14:49:39.294763Z",
     "iopub.status.busy": "2025-07-23T14:49:39.294070Z",
     "iopub.status.idle": "2025-07-23T14:49:39.301820Z",
     "shell.execute_reply": "2025-07-23T14:49:39.300888Z"
    },
    "papermill": {
     "duration": 0.031596,
     "end_time": "2025-07-23T14:49:39.303581",
     "exception": false,
     "start_time": "2025-07-23T14:49:39.271985",
     "status": "completed"
    },
    "tags": []
   },
   "outputs": [],
   "source": [
    "for subgroup, cov in cond_coverage.items():\n",
    "    cp_metrics_df[f\"cov_{subgroup}\"] = cov"
   ]
  },
  {
   "cell_type": "code",
   "execution_count": 53,
   "id": "6e872e10-dbe5-49e8-b554-5030c98ff75d",
   "metadata": {
    "execution": {
     "iopub.execute_input": "2025-07-23T14:49:39.347383Z",
     "iopub.status.busy": "2025-07-23T14:49:39.346691Z",
     "iopub.status.idle": "2025-07-23T14:49:39.365463Z",
     "shell.execute_reply": "2025-07-23T14:49:39.364434Z"
    },
    "papermill": {
     "duration": 0.042234,
     "end_time": "2025-07-23T14:49:39.367183",
     "exception": false,
     "start_time": "2025-07-23T14:49:39.324949",
     "status": "completed"
    },
    "tags": []
   },
   "outputs": [
    {
     "data": {
      "text/html": [
       "<div>\n",
       "<style scoped>\n",
       "    .dataframe tbody tr th:only-of-type {\n",
       "        vertical-align: middle;\n",
       "    }\n",
       "\n",
       "    .dataframe tbody tr th {\n",
       "        vertical-align: top;\n",
       "    }\n",
       "\n",
       "    .dataframe thead th {\n",
       "        text-align: right;\n",
       "    }\n",
       "</style>\n",
       "<table border=\"1\" class=\"dataframe\">\n",
       "  <thead>\n",
       "    <tr style=\"text-align: right;\">\n",
       "      <th></th>\n",
       "      <th>universe_id</th>\n",
       "      <th>universe_model</th>\n",
       "      <th>universe_exclude_features</th>\n",
       "      <th>universe_exclude_subgroups</th>\n",
       "      <th>universe_scale</th>\n",
       "      <th>q_hat</th>\n",
       "      <th>coverage</th>\n",
       "      <th>avg_size</th>\n",
       "      <th>cov_frau1</th>\n",
       "      <th>cov_nongerman</th>\n",
       "      <th>cov_nongerman_male</th>\n",
       "      <th>cov_nongerman_female</th>\n",
       "    </tr>\n",
       "  </thead>\n",
       "  <tbody>\n",
       "    <tr>\n",
       "      <th>0</th>\n",
       "      <td>41eaf70782011ea35bf8303122f41955</td>\n",
       "      <td>elasticnet</td>\n",
       "      <td>none</td>\n",
       "      <td>drop-non-german</td>\n",
       "      <td>do-not-scale</td>\n",
       "      <td>0.685251</td>\n",
       "      <td>0.906644</td>\n",
       "      <td>1.135024</td>\n",
       "      <td>0.905432</td>\n",
       "      <td>0.906978</td>\n",
       "      <td>0.922183</td>\n",
       "      <td>0.881818</td>\n",
       "    </tr>\n",
       "  </tbody>\n",
       "</table>\n",
       "</div>"
      ],
      "text/plain": [
       "                        universe_id universe_model universe_exclude_features  \\\n",
       "0  41eaf70782011ea35bf8303122f41955     elasticnet                      none   \n",
       "\n",
       "  universe_exclude_subgroups universe_scale     q_hat  coverage  avg_size  \\\n",
       "0            drop-non-german   do-not-scale  0.685251  0.906644  1.135024   \n",
       "\n",
       "   cov_frau1  cov_nongerman  cov_nongerman_male  cov_nongerman_female  \n",
       "0   0.905432       0.906978            0.922183              0.881818  "
      ]
     },
     "execution_count": 53,
     "metadata": {},
     "output_type": "execute_result"
    }
   ],
   "source": [
    "cp_metrics_df"
   ]
  },
  {
   "cell_type": "markdown",
   "id": "33774451",
   "metadata": {
    "papermill": {
     "duration": 0.020663,
     "end_time": "2025-07-23T14:49:39.409279",
     "exception": false,
     "start_time": "2025-07-23T14:49:39.388616",
     "status": "completed"
    },
    "tags": []
   },
   "source": [
    "# (Fairness) Metrics"
   ]
  },
  {
   "cell_type": "code",
   "execution_count": 54,
   "id": "debc5d62",
   "metadata": {
    "execution": {
     "iopub.execute_input": "2025-07-23T14:49:39.452712Z",
     "iopub.status.busy": "2025-07-23T14:49:39.451982Z",
     "iopub.status.idle": "2025-07-23T14:49:39.476055Z",
     "shell.execute_reply": "2025-07-23T14:49:39.475152Z"
    },
    "papermill": {
     "duration": 0.047783,
     "end_time": "2025-07-23T14:49:39.477795",
     "exception": false,
     "start_time": "2025-07-23T14:49:39.430012",
     "status": "completed"
    },
    "tags": []
   },
   "outputs": [],
   "source": [
    "# do I need to include maxdeutsch1.missing?\n",
    "\n",
    "import numpy as np\n",
    "\n",
    "colname_to_bin = \"maxdeutsch1\"\n",
    "majority_value = org_train[colname_to_bin].mode()[0]\n",
    "\n",
    "org_test[\"majmin\"] = np.where(org_test[colname_to_bin] == majority_value, \"majority\", \"minority\")"
   ]
  },
  {
   "cell_type": "code",
   "execution_count": 55,
   "id": "06a50de5",
   "metadata": {
    "execution": {
     "iopub.execute_input": "2025-07-23T14:49:39.521951Z",
     "iopub.status.busy": "2025-07-23T14:49:39.521242Z",
     "iopub.status.idle": "2025-07-23T14:49:42.773340Z",
     "shell.execute_reply": "2025-07-23T14:49:42.772255Z"
    },
    "papermill": {
     "duration": 3.276052,
     "end_time": "2025-07-23T14:49:42.775377",
     "exception": false,
     "start_time": "2025-07-23T14:49:39.499325",
     "status": "completed"
    },
    "tags": []
   },
   "outputs": [],
   "source": [
    "example_universe = universe.copy()\n",
    "example_universe[\"cutoff\"] = example_universe[\"cutoff\"][0]\n",
    "example_universe[\"eval_fairness_grouping\"] = example_universe[\"eval_fairness_grouping\"][0]\n",
    "fairness_dict, metric_frame = universe_analysis.compute_metrics(\n",
    "    example_universe,\n",
    "    y_pred_prob=probs_test,\n",
    "    y_test=y_true,\n",
    "    org_test=org_test,\n",
    ")"
   ]
  },
  {
   "cell_type": "markdown",
   "id": "f95d4e02",
   "metadata": {
    "papermill": {
     "duration": 0.021009,
     "end_time": "2025-07-23T14:49:42.820309",
     "exception": false,
     "start_time": "2025-07-23T14:49:42.799300",
     "status": "completed"
    },
    "tags": []
   },
   "source": [
    "# Overall"
   ]
  },
  {
   "cell_type": "markdown",
   "id": "bdee4871",
   "metadata": {
    "papermill": {
     "duration": 0.020732,
     "end_time": "2025-07-23T14:49:42.861819",
     "exception": false,
     "start_time": "2025-07-23T14:49:42.841087",
     "status": "completed"
    },
    "tags": []
   },
   "source": [
    "Fairness\n",
    "Main fairness target: Equalized Odds. Seems to be a better fit than equal opportunity, since we're not only interested in Y = 1. Seems to be a better fit than demographic parity, since we also care about accuracy, not just equal distribution of preds.\n",
    "\n",
    "Pick column for computation of fairness metrics\n",
    "\n",
    "Performance\n",
    "Overall performance measures, most interesting in relation to the measures split by group below"
   ]
  },
  {
   "cell_type": "code",
   "execution_count": 56,
   "id": "c4e067c6",
   "metadata": {
    "execution": {
     "iopub.execute_input": "2025-07-23T14:49:42.905283Z",
     "iopub.status.busy": "2025-07-23T14:49:42.904549Z",
     "iopub.status.idle": "2025-07-23T14:49:42.913672Z",
     "shell.execute_reply": "2025-07-23T14:49:42.912733Z"
    },
    "papermill": {
     "duration": 0.032785,
     "end_time": "2025-07-23T14:49:42.915325",
     "exception": false,
     "start_time": "2025-07-23T14:49:42.882540",
     "status": "completed"
    },
    "tags": []
   },
   "outputs": [
    {
     "data": {
      "text/plain": [
       "accuracy                   0.221391\n",
       "balanced accuracy          0.541957\n",
       "f1                         0.242805\n",
       "precision                  0.138706\n",
       "false positive rate        0.889236\n",
       "false negative rate        0.026851\n",
       "selection rate             0.900000\n",
       "count                  89710.000000\n",
       "dtype: float64"
      ]
     },
     "execution_count": 56,
     "metadata": {},
     "output_type": "execute_result"
    }
   ],
   "source": [
    "metric_frame.overall"
   ]
  },
  {
   "cell_type": "markdown",
   "id": "e968fe9d",
   "metadata": {
    "papermill": {
     "duration": 0.020889,
     "end_time": "2025-07-23T14:49:42.958170",
     "exception": false,
     "start_time": "2025-07-23T14:49:42.937281",
     "status": "completed"
    },
    "tags": []
   },
   "source": [
    "By Group"
   ]
  },
  {
   "cell_type": "code",
   "execution_count": 57,
   "id": "ec325bce",
   "metadata": {
    "execution": {
     "iopub.execute_input": "2025-07-23T14:49:43.002075Z",
     "iopub.status.busy": "2025-07-23T14:49:43.001358Z",
     "iopub.status.idle": "2025-07-23T14:49:43.018472Z",
     "shell.execute_reply": "2025-07-23T14:49:43.017562Z"
    },
    "papermill": {
     "duration": 0.041104,
     "end_time": "2025-07-23T14:49:43.020227",
     "exception": false,
     "start_time": "2025-07-23T14:49:42.979123",
     "status": "completed"
    },
    "tags": []
   },
   "outputs": [
    {
     "data": {
      "text/html": [
       "<div>\n",
       "<style scoped>\n",
       "    .dataframe tbody tr th:only-of-type {\n",
       "        vertical-align: middle;\n",
       "    }\n",
       "\n",
       "    .dataframe tbody tr th {\n",
       "        vertical-align: top;\n",
       "    }\n",
       "\n",
       "    .dataframe thead th {\n",
       "        text-align: right;\n",
       "    }\n",
       "</style>\n",
       "<table border=\"1\" class=\"dataframe\">\n",
       "  <thead>\n",
       "    <tr style=\"text-align: right;\">\n",
       "      <th></th>\n",
       "      <th>accuracy</th>\n",
       "      <th>balanced accuracy</th>\n",
       "      <th>f1</th>\n",
       "      <th>precision</th>\n",
       "      <th>false positive rate</th>\n",
       "      <th>false negative rate</th>\n",
       "      <th>selection rate</th>\n",
       "      <th>count</th>\n",
       "    </tr>\n",
       "    <tr>\n",
       "      <th>majmin</th>\n",
       "      <th></th>\n",
       "      <th></th>\n",
       "      <th></th>\n",
       "      <th></th>\n",
       "      <th></th>\n",
       "      <th></th>\n",
       "      <th></th>\n",
       "      <th></th>\n",
       "    </tr>\n",
       "  </thead>\n",
       "  <tbody>\n",
       "    <tr>\n",
       "      <th>majority</th>\n",
       "      <td>0.244195</td>\n",
       "      <td>0.551667</td>\n",
       "      <td>0.253189</td>\n",
       "      <td>0.145606</td>\n",
       "      <td>0.866250</td>\n",
       "      <td>0.030416</td>\n",
       "      <td>0.879905</td>\n",
       "      <td>69170.0</td>\n",
       "    </tr>\n",
       "    <tr>\n",
       "      <th>minority</th>\n",
       "      <td>0.144596</td>\n",
       "      <td>0.510871</td>\n",
       "      <td>0.210124</td>\n",
       "      <td>0.117579</td>\n",
       "      <td>0.965166</td>\n",
       "      <td>0.013091</td>\n",
       "      <td>0.967673</td>\n",
       "      <td>20540.0</td>\n",
       "    </tr>\n",
       "  </tbody>\n",
       "</table>\n",
       "</div>"
      ],
      "text/plain": [
       "          accuracy  balanced accuracy        f1  precision  \\\n",
       "majmin                                                       \n",
       "majority  0.244195           0.551667  0.253189   0.145606   \n",
       "minority  0.144596           0.510871  0.210124   0.117579   \n",
       "\n",
       "          false positive rate  false negative rate  selection rate    count  \n",
       "majmin                                                                       \n",
       "majority             0.866250             0.030416        0.879905  69170.0  \n",
       "minority             0.965166             0.013091        0.967673  20540.0  "
      ]
     },
     "execution_count": 57,
     "metadata": {},
     "output_type": "execute_result"
    }
   ],
   "source": [
    "metric_frame.by_group"
   ]
  },
  {
   "cell_type": "code",
   "execution_count": 58,
   "id": "a9ddbe63",
   "metadata": {
    "execution": {
     "iopub.execute_input": "2025-07-23T14:49:43.065695Z",
     "iopub.status.busy": "2025-07-23T14:49:43.064981Z",
     "iopub.status.idle": "2025-07-23T14:49:45.473763Z",
     "shell.execute_reply": "2025-07-23T14:49:45.472852Z"
    },
    "papermill": {
     "duration": 2.433005,
     "end_time": "2025-07-23T14:49:45.475460",
     "exception": false,
     "start_time": "2025-07-23T14:49:43.042455",
     "status": "completed"
    },
    "tags": []
   },
   "outputs": [
    {
     "data": {
      "text/plain": [
       "array([[<Axes: title={'center': 'accuracy'}, xlabel='majmin'>,\n",
       "        <Axes: title={'center': 'balanced accuracy'}, xlabel='majmin'>,\n",
       "        <Axes: title={'center': 'f1'}, xlabel='majmin'>],\n",
       "       [<Axes: title={'center': 'precision'}, xlabel='majmin'>,\n",
       "        <Axes: title={'center': 'false positive rate'}, xlabel='majmin'>,\n",
       "        <Axes: title={'center': 'false negative rate'}, xlabel='majmin'>],\n",
       "       [<Axes: title={'center': 'selection rate'}, xlabel='majmin'>,\n",
       "        <Axes: title={'center': 'count'}, xlabel='majmin'>,\n",
       "        <Axes: xlabel='majmin'>]], dtype=object)"
      ]
     },
     "execution_count": 58,
     "metadata": {},
     "output_type": "execute_result"
    },
    {
     "data": {
      "image/png": "[encoded data removed]",
      "text/plain": [
       "<Figure size 1200x800 with 9 Axes>"
      ]
     },
     "metadata": {},
     "output_type": "display_data"
    }
   ],
   "source": [
    "# In a graphic\n",
    "metric_frame.by_group.plot.bar(\n",
    "    subplots=True,\n",
    "    layout=[3, 3],\n",
    "    legend=False,\n",
    "    figsize=[12, 8],\n",
    "    title=\"Show all metrics\",\n",
    ")"
   ]
  },
  {
   "cell_type": "markdown",
   "id": "f57a0bac",
   "metadata": {
    "papermill": {
     "duration": 0.023149,
     "end_time": "2025-07-23T14:49:45.522607",
     "exception": false,
     "start_time": "2025-07-23T14:49:45.499458",
     "status": "completed"
    },
    "tags": []
   },
   "source": [
    "# Final Output"
   ]
  },
  {
   "cell_type": "code",
   "execution_count": 59,
   "id": "96d280a3",
   "metadata": {
    "execution": {
     "iopub.execute_input": "2025-07-23T14:49:45.636264Z",
     "iopub.status.busy": "2025-07-23T14:49:45.635408Z",
     "iopub.status.idle": "2025-07-23T14:49:45.643814Z",
     "shell.execute_reply": "2025-07-23T14:49:45.642867Z"
    },
    "papermill": {
     "duration": 0.035101,
     "end_time": "2025-07-23T14:49:45.645546",
     "exception": false,
     "start_time": "2025-07-23T14:49:45.610445",
     "status": "completed"
    },
    "tags": []
   },
   "outputs": [
    {
     "data": {
      "text/plain": [
       "4"
      ]
     },
     "execution_count": 59,
     "metadata": {},
     "output_type": "execute_result"
    }
   ],
   "source": [
    "sub_universes = universe_analysis.generate_sub_universes()\n",
    "len(sub_universes)"
   ]
  },
  {
   "cell_type": "code",
   "execution_count": 60,
   "id": "92adf7ba",
   "metadata": {
    "execution": {
     "iopub.execute_input": "2025-07-23T14:49:45.695509Z",
     "iopub.status.busy": "2025-07-23T14:49:45.694788Z",
     "iopub.status.idle": "2025-07-23T14:49:45.701156Z",
     "shell.execute_reply": "2025-07-23T14:49:45.700176Z"
    },
    "papermill": {
     "duration": 0.033026,
     "end_time": "2025-07-23T14:49:45.702875",
     "exception": false,
     "start_time": "2025-07-23T14:49:45.669849",
     "status": "completed"
    },
    "tags": []
   },
   "outputs": [],
   "source": [
    "def filter_sub_universe_data(sub_universe, org_test):\n",
    "    # Keep all rows — no filtering\n",
    "    keep_rows_mask = np.ones(org_test.shape[0], dtype=bool)\n",
    "\n",
    "    print(f\"[INFO] Keeping all rows: {keep_rows_mask.sum()} rows retained.\")\n",
    "    return keep_rows_mask"
   ]
  },
  {
   "cell_type": "code",
   "execution_count": 61,
   "id": "4a759155",
   "metadata": {
    "execution": {
     "iopub.execute_input": "2025-07-23T14:49:45.752535Z",
     "iopub.status.busy": "2025-07-23T14:49:45.751834Z",
     "iopub.status.idle": "2025-07-23T14:49:58.098644Z",
     "shell.execute_reply": "2025-07-23T14:49:58.097741Z"
    },
    "papermill": {
     "duration": 12.373254,
     "end_time": "2025-07-23T14:49:58.100335",
     "exception": false,
     "start_time": "2025-07-23T14:49:45.727081",
     "status": "completed"
    },
    "tags": []
   },
   "outputs": [
    {
     "name": "stdout",
     "output_type": "stream",
     "text": [
      "Stopping execution_time clock.\n",
      "[INFO] Keeping all rows: 89710 rows retained.\n"
     ]
    },
    {
     "name": "stdout",
     "output_type": "stream",
     "text": [
      "[INFO] Keeping all rows: 89710 rows retained.\n"
     ]
    },
    {
     "name": "stdout",
     "output_type": "stream",
     "text": [
      "[INFO] Keeping all rows: 89710 rows retained.\n"
     ]
    },
    {
     "name": "stdout",
     "output_type": "stream",
     "text": [
      "[INFO] Keeping all rows: 89710 rows retained.\n"
     ]
    },
    {
     "data": {
      "text/html": [
       "<div>\n",
       "<style scoped>\n",
       "    .dataframe tbody tr th:only-of-type {\n",
       "        vertical-align: middle;\n",
       "    }\n",
       "\n",
       "    .dataframe tbody tr th {\n",
       "        vertical-align: top;\n",
       "    }\n",
       "\n",
       "    .dataframe thead th {\n",
       "        text-align: right;\n",
       "    }\n",
       "</style>\n",
       "<table border=\"1\" class=\"dataframe\">\n",
       "  <thead>\n",
       "    <tr style=\"text-align: right;\">\n",
       "      <th></th>\n",
       "      <th>run_no</th>\n",
       "      <th>universe_id</th>\n",
       "      <th>universe_settings</th>\n",
       "      <th>execution_time</th>\n",
       "      <th>test_size_n</th>\n",
       "      <th>test_size_frac</th>\n",
       "      <th>fair_main_equalized_odds_difference</th>\n",
       "      <th>fair_main_equalized_odds_ratio</th>\n",
       "      <th>fair_main_demographic_parity_difference</th>\n",
       "      <th>fair_main_demographic_parity_ratio</th>\n",
       "      <th>...</th>\n",
       "      <th>perf_grp_precision_0</th>\n",
       "      <th>perf_grp_precision_1</th>\n",
       "      <th>perf_grp_false positive rate_0</th>\n",
       "      <th>perf_grp_false positive rate_1</th>\n",
       "      <th>perf_grp_false negative rate_0</th>\n",
       "      <th>perf_grp_false negative rate_1</th>\n",
       "      <th>perf_grp_selection rate_0</th>\n",
       "      <th>perf_grp_selection rate_1</th>\n",
       "      <th>perf_grp_count_0</th>\n",
       "      <th>perf_grp_count_1</th>\n",
       "    </tr>\n",
       "  </thead>\n",
       "  <tbody>\n",
       "    <tr>\n",
       "      <th>0</th>\n",
       "      <td>9</td>\n",
       "      <td>41eaf70782011ea35bf8303122f41955</td>\n",
       "      <td>{\"cutoff\": \"quantile_0.1\", \"eval_fairness_grou...</td>\n",
       "      <td>574.435398</td>\n",
       "      <td>89710</td>\n",
       "      <td>1.0</td>\n",
       "      <td>0.098916</td>\n",
       "      <td>0.897514</td>\n",
       "      <td>0.087768</td>\n",
       "      <td>0.909300</td>\n",
       "      <td>...</td>\n",
       "      <td>NaN</td>\n",
       "      <td>NaN</td>\n",
       "      <td>NaN</td>\n",
       "      <td>NaN</td>\n",
       "      <td>NaN</td>\n",
       "      <td>NaN</td>\n",
       "      <td>NaN</td>\n",
       "      <td>NaN</td>\n",
       "      <td>NaN</td>\n",
       "      <td>NaN</td>\n",
       "    </tr>\n",
       "    <tr>\n",
       "      <th>0</th>\n",
       "      <td>9</td>\n",
       "      <td>41eaf70782011ea35bf8303122f41955</td>\n",
       "      <td>{\"cutoff\": \"quantile_0.1\", \"eval_fairness_grou...</td>\n",
       "      <td>574.435398</td>\n",
       "      <td>89710</td>\n",
       "      <td>1.0</td>\n",
       "      <td>0.098916</td>\n",
       "      <td>0.897514</td>\n",
       "      <td>0.087768</td>\n",
       "      <td>0.909300</td>\n",
       "      <td>...</td>\n",
       "      <td>0.117579</td>\n",
       "      <td>0.145606</td>\n",
       "      <td>0.965166</td>\n",
       "      <td>0.86625</td>\n",
       "      <td>0.013091</td>\n",
       "      <td>0.030416</td>\n",
       "      <td>0.967673</td>\n",
       "      <td>0.879905</td>\n",
       "      <td>20540.0</td>\n",
       "      <td>69170.0</td>\n",
       "    </tr>\n",
       "    <tr>\n",
       "      <th>0</th>\n",
       "      <td>9</td>\n",
       "      <td>41eaf70782011ea35bf8303122f41955</td>\n",
       "      <td>{\"cutoff\": \"quantile_0.25\", \"eval_fairness_gro...</td>\n",
       "      <td>574.435398</td>\n",
       "      <td>89710</td>\n",
       "      <td>1.0</td>\n",
       "      <td>0.201941</td>\n",
       "      <td>0.770861</td>\n",
       "      <td>0.178133</td>\n",
       "      <td>0.799251</td>\n",
       "      <td>...</td>\n",
       "      <td>NaN</td>\n",
       "      <td>NaN</td>\n",
       "      <td>NaN</td>\n",
       "      <td>NaN</td>\n",
       "      <td>NaN</td>\n",
       "      <td>NaN</td>\n",
       "      <td>NaN</td>\n",
       "      <td>NaN</td>\n",
       "      <td>NaN</td>\n",
       "      <td>NaN</td>\n",
       "    </tr>\n",
       "    <tr>\n",
       "      <th>0</th>\n",
       "      <td>9</td>\n",
       "      <td>41eaf70782011ea35bf8303122f41955</td>\n",
       "      <td>{\"cutoff\": \"quantile_0.25\", \"eval_fairness_gro...</td>\n",
       "      <td>574.435398</td>\n",
       "      <td>89710</td>\n",
       "      <td>1.0</td>\n",
       "      <td>0.201941</td>\n",
       "      <td>0.770861</td>\n",
       "      <td>0.178133</td>\n",
       "      <td>0.799251</td>\n",
       "      <td>...</td>\n",
       "      <td>0.121310</td>\n",
       "      <td>0.168664</td>\n",
       "      <td>0.881301</td>\n",
       "      <td>0.67936</td>\n",
       "      <td>0.066301</td>\n",
       "      <td>0.094748</td>\n",
       "      <td>0.887342</td>\n",
       "      <td>0.709209</td>\n",
       "      <td>20540.0</td>\n",
       "      <td>69170.0</td>\n",
       "    </tr>\n",
       "  </tbody>\n",
       "</table>\n",
       "<p>4 rows × 50 columns</p>\n",
       "</div>"
      ],
      "text/plain": [
       "  run_no                       universe_id  \\\n",
       "0      9  41eaf70782011ea35bf8303122f41955   \n",
       "0      9  41eaf70782011ea35bf8303122f41955   \n",
       "0      9  41eaf70782011ea35bf8303122f41955   \n",
       "0      9  41eaf70782011ea35bf8303122f41955   \n",
       "\n",
       "                                   universe_settings  execution_time  \\\n",
       "0  {\"cutoff\": \"quantile_0.1\", \"eval_fairness_grou...      574.435398   \n",
       "0  {\"cutoff\": \"quantile_0.1\", \"eval_fairness_grou...      574.435398   \n",
       "0  {\"cutoff\": \"quantile_0.25\", \"eval_fairness_gro...      574.435398   \n",
       "0  {\"cutoff\": \"quantile_0.25\", \"eval_fairness_gro...      574.435398   \n",
       "\n",
       "   test_size_n  test_size_frac  fair_main_equalized_odds_difference  \\\n",
       "0        89710             1.0                             0.098916   \n",
       "0        89710             1.0                             0.098916   \n",
       "0        89710             1.0                             0.201941   \n",
       "0        89710             1.0                             0.201941   \n",
       "\n",
       "   fair_main_equalized_odds_ratio  fair_main_demographic_parity_difference  \\\n",
       "0                        0.897514                                 0.087768   \n",
       "0                        0.897514                                 0.087768   \n",
       "0                        0.770861                                 0.178133   \n",
       "0                        0.770861                                 0.178133   \n",
       "\n",
       "   fair_main_demographic_parity_ratio  ...  perf_grp_precision_0  \\\n",
       "0                            0.909300  ...                   NaN   \n",
       "0                            0.909300  ...              0.117579   \n",
       "0                            0.799251  ...                   NaN   \n",
       "0                            0.799251  ...              0.121310   \n",
       "\n",
       "   perf_grp_precision_1  perf_grp_false positive rate_0  \\\n",
       "0                   NaN                             NaN   \n",
       "0              0.145606                        0.965166   \n",
       "0                   NaN                             NaN   \n",
       "0              0.168664                        0.881301   \n",
       "\n",
       "   perf_grp_false positive rate_1  perf_grp_false negative rate_0  \\\n",
       "0                             NaN                             NaN   \n",
       "0                         0.86625                        0.013091   \n",
       "0                             NaN                             NaN   \n",
       "0                         0.67936                        0.066301   \n",
       "\n",
       "   perf_grp_false negative rate_1  perf_grp_selection rate_0  \\\n",
       "0                             NaN                        NaN   \n",
       "0                        0.030416                   0.967673   \n",
       "0                             NaN                        NaN   \n",
       "0                        0.094748                   0.887342   \n",
       "\n",
       "   perf_grp_selection rate_1  perf_grp_count_0  perf_grp_count_1  \n",
       "0                        NaN               NaN               NaN  \n",
       "0                   0.879905           20540.0           69170.0  \n",
       "0                        NaN               NaN               NaN  \n",
       "0                   0.709209           20540.0           69170.0  \n",
       "\n",
       "[4 rows x 50 columns]"
      ]
     },
     "execution_count": 61,
     "metadata": {},
     "output_type": "execute_result"
    }
   ],
   "source": [
    "final_output = universe_analysis.generate_final_output(\n",
    "    y_pred_prob=probs_test,\n",
    "    y_test=y_true,\n",
    "    org_test=org_test,\n",
    "    filter_data=filter_sub_universe_data,\n",
    "    cp_metrics_df=cp_metrics_df,\n",
    "    save=True,\n",
    ")\n",
    "final_output"
   ]
  },
  {
   "cell_type": "code",
   "execution_count": null,
   "id": "721ff514-cb11-46f8-b6fc-50392f74b5cb",
   "metadata": {
    "papermill": {
     "duration": 0.024948,
     "end_time": "2025-07-23T14:49:58.152749",
     "exception": false,
     "start_time": "2025-07-23T14:49:58.127801",
     "status": "completed"
    },
    "tags": []
   },
   "outputs": [],
   "source": []
  }
 ],
 "metadata": {
  "celltoolbar": "Tags",
  "kernelspec": {
   "display_name": "Python (CMA Fairness)",
   "language": "python",
   "name": "cma_fair_env"
  },
  "language_info": {
   "codemirror_mode": {
    "name": "ipython",
    "version": 3
   },
   "file_extension": ".py",
   "mimetype": "text/x-python",
   "name": "python",
   "nbconvert_exporter": "python",
   "pygments_lexer": "ipython3",
   "version": "3.10.12"
  },
  "papermill": {
   "default_parameters": {},
   "duration": 591.235182,
   "end_time": "2025-07-23T14:49:58.897564",
   "environment_variables": {},
   "exception": null,
   "input_path": "universe_analysis.ipynb",
   "output_path": "output/runs/9/notebooks/m_9-41eaf70782011ea35bf8303122f41955.ipynb",
   "parameters": {
    "output_dir": "output",
    "run_no": "9",
    "seed": "2023",
    "universe": "{\"cutoff\": [\"quantile_0.1\", \"quantile_0.25\"], \"eval_fairness_grouping\": [\"majority-minority\", \"nationality-all\"], \"exclude_features\": \"none\", \"exclude_subgroups\": \"drop-non-german\", \"model\": \"elasticnet\", \"scale\": \"do-not-scale\"}",
    "universe_id": "41eaf70782011ea35bf8303122f41955"
   },
   "start_time": "2025-07-23T14:40:07.662382",
   "version": "2.6.0"
  }
 },
 "nbformat": 4,
 "nbformat_minor": 5
}