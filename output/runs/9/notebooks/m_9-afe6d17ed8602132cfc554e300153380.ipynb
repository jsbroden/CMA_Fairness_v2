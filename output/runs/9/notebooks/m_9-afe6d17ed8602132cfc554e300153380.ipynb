{
 "cells": [
  {
   "cell_type": "code",
   "execution_count": 1,
   "id": "f159f837-637b-42ba-96b5-ec9a68c44524",
   "metadata": {
    "execution": {
     "iopub.execute_input": "2025-07-23T14:35:17.692867Z",
     "iopub.status.busy": "2025-07-23T14:35:17.692374Z",
     "iopub.status.idle": "2025-07-23T14:35:17.707443Z",
     "shell.execute_reply": "2025-07-23T14:35:17.706539Z"
    },
    "papermill": {
     "duration": 0.036803,
     "end_time": "2025-07-23T14:35:17.709282",
     "exception": false,
     "start_time": "2025-07-23T14:35:17.672479",
     "status": "completed"
    },
    "tags": []
   },
   "outputs": [
    {
     "name": "stdout",
     "output_type": "stream",
     "text": [
      "/dss/dsshome1/0C/ra93lal2/cma/CMA_Fairness_v2\n"
     ]
    },
    {
     "name": "stderr",
     "output_type": "stream",
     "text": [
      "/dss/dsshome1/0C/ra93lal2/.local/share/virtualenvs/CMA_Fairness_v2-3j10GkSs/lib/python3.10/site-packages/IPython/core/magics/osm.py:393: UserWarning: This is now an optional IPython functionality, using bookmarks requires you to install the `pickleshare` library.\n",
      "  bkms = self.shell.db.get('bookmarks', {})\n",
      "/dss/dsshome1/0C/ra93lal2/.local/share/virtualenvs/CMA_Fairness_v2-3j10GkSs/lib/python3.10/site-packages/IPython/core/magics/osm.py:417: UserWarning: This is now an optional IPython functionality, setting dhist requires you to install the `pickleshare` library.\n",
      "  self.shell.db['dhist'] = compress_dhist(dhist)[-100:]\n"
     ]
    }
   ],
   "source": [
    "%cd ~/cma/CMA_Fairness_v2"
   ]
  },
  {
   "cell_type": "markdown",
   "id": "de2603b9",
   "metadata": {
    "papermill": {
     "duration": 0.016443,
     "end_time": "2025-07-23T14:35:17.743285",
     "exception": false,
     "start_time": "2025-07-23T14:35:17.726842",
     "status": "completed"
    },
    "tags": []
   },
   "source": [
    "The following cell holds the definition of our parameters, these values can be overriden by rendering the with e.g. the following command:\n",
    "\n",
    "papermill -p alpha 0.2 -p ratio 0.3 universe_analysis.ipynb output/test_run.ipynb"
   ]
  },
  {
   "cell_type": "code",
   "execution_count": 2,
   "id": "a80968a0-40bb-4fa9-85ef-2d5eefb01975",
   "metadata": {
    "execution": {
     "iopub.execute_input": "2025-07-23T14:35:17.779433Z",
     "iopub.status.busy": "2025-07-23T14:35:17.778443Z",
     "iopub.status.idle": "2025-07-23T14:35:17.784669Z",
     "shell.execute_reply": "2025-07-23T14:35:17.783608Z"
    },
    "papermill": {
     "duration": 0.02669,
     "end_time": "2025-07-23T14:35:17.786455",
     "exception": false,
     "start_time": "2025-07-23T14:35:17.759765",
     "status": "completed"
    },
    "tags": []
   },
   "outputs": [
    {
     "name": "stdout",
     "output_type": "stream",
     "text": [
      "Current working directory: /dss/dsshome1/0C/ra93lal2/cma/CMA_Fairness_v2\n"
     ]
    }
   ],
   "source": [
    "import os\n",
    "print(\"Current working directory:\", os.getcwd())"
   ]
  },
  {
   "cell_type": "code",
   "execution_count": 3,
   "id": "2dce4c03",
   "metadata": {
    "execution": {
     "iopub.execute_input": "2025-07-23T14:35:17.821645Z",
     "iopub.status.busy": "2025-07-23T14:35:17.820882Z",
     "iopub.status.idle": "2025-07-23T14:35:17.827516Z",
     "shell.execute_reply": "2025-07-23T14:35:17.826578Z"
    },
    "papermill": {
     "duration": 0.026124,
     "end_time": "2025-07-23T14:35:17.829330",
     "exception": false,
     "start_time": "2025-07-23T14:35:17.803206",
     "status": "completed"
    },
    "tags": [
     "parameters"
    ]
   },
   "outputs": [],
   "source": [
    "run_no = 0\n",
    "universe_id = \"test\"\n",
    "universe = {\n",
    "    \"scale\": \"scale\", # \"scale\", \"do-not-scale\",\n",
    "    \"model\": \"elasticnet\", # \"logreg\", \"penalized_logreg\", \"rf\", \"gbm\", \"elasticnet\"\n",
    "    \"cutoff\": [\"quantile_0.15\", \"quantile_0.30\"],\n",
    "    \"exclude_features\": \"age\", # \"none\", \"nationality\", \"sex\", \"nationality-sex\", \"age\"\n",
    "    \"exclude_subgroups\": \"keep-all\", # \"keep-all\", \"drop-non-german\"\n",
    "    #\"training_sample\": \"restricted\", # \"restricted\", \"full\"\n",
    "    \"eval_fairness_grouping\": [\"majority-minority\", \"nationality-all\"]\n",
    "}\n",
    "\n",
    "output_dir=\"./output\"\n",
    "seed=0"
   ]
  },
  {
   "cell_type": "code",
   "execution_count": 4,
   "id": "85043b4f",
   "metadata": {
    "execution": {
     "iopub.execute_input": "2025-07-23T14:35:17.865905Z",
     "iopub.status.busy": "2025-07-23T14:35:17.864915Z",
     "iopub.status.idle": "2025-07-23T14:35:17.870698Z",
     "shell.execute_reply": "2025-07-23T14:35:17.869611Z"
    },
    "papermill": {
     "duration": 0.026435,
     "end_time": "2025-07-23T14:35:17.873190",
     "exception": false,
     "start_time": "2025-07-23T14:35:17.846755",
     "status": "completed"
    },
    "tags": [
     "injected-parameters"
    ]
   },
   "outputs": [],
   "source": [
    "# Parameters\n",
    "universe_id = \"afe6d17ed8602132cfc554e300153380\"\n",
    "run_no = \"9\"\n",
    "universe = \"{\\\"cutoff\\\": [\\\"quantile_0.1\\\", \\\"quantile_0.25\\\"], \\\"eval_fairness_grouping\\\": [\\\"majority-minority\\\", \\\"nationality-all\\\"], \\\"exclude_features\\\": \\\"nationality\\\", \\\"exclude_subgroups\\\": \\\"drop-non-german\\\", \\\"model\\\": \\\"penalized_logreg\\\", \\\"scale\\\": \\\"do-not-scale\\\"}\"\n",
    "output_dir = \"output\"\n",
    "seed = \"2023\"\n"
   ]
  },
  {
   "cell_type": "code",
   "execution_count": 5,
   "id": "1650acaf",
   "metadata": {
    "execution": {
     "iopub.execute_input": "2025-07-23T14:35:17.920540Z",
     "iopub.status.busy": "2025-07-23T14:35:17.919804Z",
     "iopub.status.idle": "2025-07-23T14:35:17.925858Z",
     "shell.execute_reply": "2025-07-23T14:35:17.924657Z"
    },
    "papermill": {
     "duration": 0.031874,
     "end_time": "2025-07-23T14:35:17.927922",
     "exception": false,
     "start_time": "2025-07-23T14:35:17.896048",
     "status": "completed"
    },
    "tags": []
   },
   "outputs": [],
   "source": [
    "import json\n",
    "# Parse universe into dict if it is passed as a string\n",
    "if isinstance(universe, str):\n",
    "    universe = json.loads(universe)"
   ]
  },
  {
   "cell_type": "code",
   "execution_count": 6,
   "id": "16620c48",
   "metadata": {
    "execution": {
     "iopub.execute_input": "2025-07-23T14:35:17.971877Z",
     "iopub.status.busy": "2025-07-23T14:35:17.971153Z",
     "iopub.status.idle": "2025-07-23T14:35:18.019879Z",
     "shell.execute_reply": "2025-07-23T14:35:18.018849Z"
    },
    "papermill": {
     "duration": 0.072871,
     "end_time": "2025-07-23T14:35:18.022263",
     "exception": false,
     "start_time": "2025-07-23T14:35:17.949392",
     "status": "completed"
    },
    "tags": []
   },
   "outputs": [],
   "source": [
    "# Auto-reload the custom package\n",
    "%load_ext autoreload\n",
    "%autoreload 1\n",
    "%aimport fairness_multiverse"
   ]
  },
  {
   "cell_type": "code",
   "execution_count": 7,
   "id": "01c5c9f3",
   "metadata": {
    "execution": {
     "iopub.execute_input": "2025-07-23T14:35:18.066655Z",
     "iopub.status.busy": "2025-07-23T14:35:18.065938Z",
     "iopub.status.idle": "2025-07-23T14:35:20.289523Z",
     "shell.execute_reply": "2025-07-23T14:35:20.288191Z"
    },
    "papermill": {
     "duration": 2.248421,
     "end_time": "2025-07-23T14:35:20.291968",
     "exception": false,
     "start_time": "2025-07-23T14:35:18.043547",
     "status": "completed"
    },
    "tags": []
   },
   "outputs": [],
   "source": [
    "from fairness_multiverse.universe import UniverseAnalysis\n",
    "\n",
    "universe_analysis = UniverseAnalysis(\n",
    "    run_no = run_no,\n",
    "    universe_id = universe_id,\n",
    "    universe = universe,\n",
    "    output_dir=output_dir,\n",
    ")"
   ]
  },
  {
   "cell_type": "code",
   "execution_count": 8,
   "id": "106241f5",
   "metadata": {
    "execution": {
     "iopub.execute_input": "2025-07-23T14:35:20.338297Z",
     "iopub.status.busy": "2025-07-23T14:35:20.337154Z",
     "iopub.status.idle": "2025-07-23T14:35:20.345162Z",
     "shell.execute_reply": "2025-07-23T14:35:20.343919Z"
    },
    "papermill": {
     "duration": 0.032645,
     "end_time": "2025-07-23T14:35:20.347186",
     "exception": false,
     "start_time": "2025-07-23T14:35:20.314541",
     "status": "completed"
    },
    "tags": []
   },
   "outputs": [
    {
     "name": "stdout",
     "output_type": "stream",
     "text": [
      "Using Seed: 2023\n"
     ]
    }
   ],
   "source": [
    "import numpy as np\n",
    "parsed_seed = int(seed)\n",
    "np.random.seed(parsed_seed)\n",
    "print(f\"Using Seed: {parsed_seed}\")"
   ]
  },
  {
   "cell_type": "markdown",
   "id": "e0ebdc57",
   "metadata": {
    "papermill": {
     "duration": 0.02108,
     "end_time": "2025-07-23T14:35:20.389665",
     "exception": false,
     "start_time": "2025-07-23T14:35:20.368585",
     "status": "completed"
    },
    "tags": []
   },
   "source": [
    "# Loading Data"
   ]
  },
  {
   "cell_type": "markdown",
   "id": "681925a3",
   "metadata": {
    "papermill": {
     "duration": 0.02013,
     "end_time": "2025-07-23T14:35:20.430056",
     "exception": false,
     "start_time": "2025-07-23T14:35:20.409926",
     "status": "completed"
    },
    "tags": []
   },
   "source": [
    "Load siab_train, siab_test, siab_calib and/or \n",
    "load siab_train_features, siab_train_labels"
   ]
  },
  {
   "cell_type": "code",
   "execution_count": 9,
   "id": "f0496b8a",
   "metadata": {
    "execution": {
     "iopub.execute_input": "2025-07-23T14:35:20.473013Z",
     "iopub.status.busy": "2025-07-23T14:35:20.471862Z",
     "iopub.status.idle": "2025-07-23T14:35:20.478835Z",
     "shell.execute_reply": "2025-07-23T14:35:20.477646Z"
    },
    "papermill": {
     "duration": 0.031288,
     "end_time": "2025-07-23T14:35:20.481653",
     "exception": false,
     "start_time": "2025-07-23T14:35:20.450365",
     "status": "completed"
    },
    "tags": []
   },
   "outputs": [],
   "source": [
    "# Do I need to load siab? Delete this cell?\n",
    "\n",
    "#from pathlib import Path\n",
    "#import pandas as pd\n",
    "#\n",
    "## File paths\n",
    "#raw_file = Path(\"data/raw/siab.csv\")\n",
    "#cache_file = Path(\"data/siab_cached.csv.gz\")\n",
    "#\n",
    "## Ensure cache directory exists\n",
    "#cache_file.parent.mkdir(parents=True, exist_ok=True)\n",
    "#\n",
    "## Load with simple caching\n",
    "#if cache_file.exists():\n",
    "#    print(f\"Loading SIAB data from cache: {cache_file}\")\n",
    "#    siab = pd.read_csv(cache_file, compression='gzip')\n",
    "#else:\n",
    "#    print(f\"Cache not found. Reading raw SIAB data: {raw_file}\")\n",
    "#    siab = pd.read_csv(raw_file)\n",
    "#    siab.to_csv(cache_file, index=False, compression='gzip')\n",
    "#    print(f\"Cached SIAB data to: {cache_file}\")\n",
    "#\n",
    "## Now use `siab` DataFrame as needed\n",
    "#print(siab.shape)\n"
   ]
  },
  {
   "cell_type": "code",
   "execution_count": 10,
   "id": "a0edb063",
   "metadata": {
    "execution": {
     "iopub.execute_input": "2025-07-23T14:35:20.520770Z",
     "iopub.status.busy": "2025-07-23T14:35:20.520187Z",
     "iopub.status.idle": "2025-07-23T14:35:21.737196Z",
     "shell.execute_reply": "2025-07-23T14:35:21.736154Z"
    },
    "papermill": {
     "duration": 1.238828,
     "end_time": "2025-07-23T14:35:21.739105",
     "exception": false,
     "start_time": "2025-07-23T14:35:20.500277",
     "status": "completed"
    },
    "tags": []
   },
   "outputs": [],
   "source": [
    "import pandas as pd\n",
    "\n",
    "X_train = pd.read_csv(\"./data/X_train.csv\")\n",
    "y_train = pd.read_csv(\"./data/y_train.csv\")"
   ]
  },
  {
   "cell_type": "code",
   "execution_count": 11,
   "id": "63d08085",
   "metadata": {
    "execution": {
     "iopub.execute_input": "2025-07-23T14:35:21.780076Z",
     "iopub.status.busy": "2025-07-23T14:35:21.779525Z",
     "iopub.status.idle": "2025-07-23T14:35:23.313456Z",
     "shell.execute_reply": "2025-07-23T14:35:23.312409Z"
    },
    "papermill": {
     "duration": 1.558024,
     "end_time": "2025-07-23T14:35:23.315649",
     "exception": false,
     "start_time": "2025-07-23T14:35:21.757625",
     "status": "completed"
    },
    "tags": []
   },
   "outputs": [],
   "source": [
    "X_test = pd.read_csv(\"./data/X_test.csv\")\n",
    "y_true = pd.read_csv(\"./data/y_test.csv\")"
   ]
  },
  {
   "cell_type": "code",
   "execution_count": 12,
   "id": "98a8d0fa-1d3d-4ed8-bb2c-281470e24add",
   "metadata": {
    "execution": {
     "iopub.execute_input": "2025-07-23T14:35:23.357369Z",
     "iopub.status.busy": "2025-07-23T14:35:23.356613Z",
     "iopub.status.idle": "2025-07-23T14:35:24.845591Z",
     "shell.execute_reply": "2025-07-23T14:35:24.844438Z"
    },
    "papermill": {
     "duration": 1.511738,
     "end_time": "2025-07-23T14:35:24.847545",
     "exception": false,
     "start_time": "2025-07-23T14:35:23.335807",
     "status": "completed"
    },
    "tags": []
   },
   "outputs": [],
   "source": [
    "# Calibration data for conformal\n",
    "X_calib = pd.read_csv(\"./data/X_calib.csv\")\n",
    "y_calib = pd.read_csv(\"./data/y_calib.csv\")"
   ]
  },
  {
   "cell_type": "code",
   "execution_count": 13,
   "id": "e6c733c5",
   "metadata": {
    "execution": {
     "iopub.execute_input": "2025-07-23T14:35:24.887468Z",
     "iopub.status.busy": "2025-07-23T14:35:24.887011Z",
     "iopub.status.idle": "2025-07-23T14:35:25.022926Z",
     "shell.execute_reply": "2025-07-23T14:35:25.021893Z"
    },
    "papermill": {
     "duration": 0.157026,
     "end_time": "2025-07-23T14:35:25.025043",
     "exception": false,
     "start_time": "2025-07-23T14:35:24.868017",
     "status": "completed"
    },
    "tags": []
   },
   "outputs": [],
   "source": [
    "# Auxiliary data needed downstream in the pipeline\n",
    "\n",
    "org_train = X_train.copy()\n",
    "org_test = X_test.copy()\n",
    "org_calib = X_calib.copy()"
   ]
  },
  {
   "cell_type": "markdown",
   "id": "0a4a1b33",
   "metadata": {
    "papermill": {
     "duration": 0.018267,
     "end_time": "2025-07-23T14:35:25.062068",
     "exception": false,
     "start_time": "2025-07-23T14:35:25.043801",
     "status": "completed"
    },
    "tags": []
   },
   "source": [
    "# Preprocessing Data"
   ]
  },
  {
   "cell_type": "code",
   "execution_count": 14,
   "id": "ca879031",
   "metadata": {
    "execution": {
     "iopub.execute_input": "2025-07-23T14:35:25.103867Z",
     "iopub.status.busy": "2025-07-23T14:35:25.103180Z",
     "iopub.status.idle": "2025-07-23T14:35:25.109441Z",
     "shell.execute_reply": "2025-07-23T14:35:25.108506Z"
    },
    "papermill": {
     "duration": 0.027875,
     "end_time": "2025-07-23T14:35:25.111149",
     "exception": false,
     "start_time": "2025-07-23T14:35:25.083274",
     "status": "completed"
    },
    "tags": []
   },
   "outputs": [],
   "source": [
    "# EXCLUDE PROTECTED FEATURES\n",
    "# ----------------------\n",
    "# \"exclude_features\": \"none\", # \"nationality\", \"sex\", \"nationality-sex\"\n",
    "\n",
    "excluded_features = universe[\"exclude_features\"].split(\"-\") # split, e.g.: \"nationality-sex\" -> [\"nationality\", \"sex\"]\n",
    "excluded_features_dictionary = {\n",
    "    \"nationality\": [\"maxdeutsch1\", \"maxdeutsch.Missing.\"],\n",
    "    \"sex\": [\"frau1\"],\n",
    "    \"age\": [\"age\"],\n",
    "}\n"
   ]
  },
  {
   "cell_type": "code",
   "execution_count": 15,
   "id": "b745ac60",
   "metadata": {
    "execution": {
     "iopub.execute_input": "2025-07-23T14:35:25.149088Z",
     "iopub.status.busy": "2025-07-23T14:35:25.148370Z",
     "iopub.status.idle": "2025-07-23T14:35:25.154263Z",
     "shell.execute_reply": "2025-07-23T14:35:25.153203Z"
    },
    "papermill": {
     "duration": 0.026594,
     "end_time": "2025-07-23T14:35:25.155913",
     "exception": false,
     "start_time": "2025-07-23T14:35:25.129319",
     "status": "completed"
    },
    "tags": []
   },
   "outputs": [],
   "source": [
    "# Code nice names to column names\n",
    "\n",
    "excluded_features_columns = [\n",
    "    excluded_features_dictionary[f] for f in excluded_features if len(f) > 0 and f != \"none\"\n",
    "]"
   ]
  },
  {
   "cell_type": "code",
   "execution_count": 16,
   "id": "f84f73a2",
   "metadata": {
    "execution": {
     "iopub.execute_input": "2025-07-23T14:35:25.193371Z",
     "iopub.status.busy": "2025-07-23T14:35:25.192649Z",
     "iopub.status.idle": "2025-07-23T14:35:25.199576Z",
     "shell.execute_reply": "2025-07-23T14:35:25.198628Z"
    },
    "papermill": {
     "duration": 0.027855,
     "end_time": "2025-07-23T14:35:25.201438",
     "exception": false,
     "start_time": "2025-07-23T14:35:25.173583",
     "status": "completed"
    },
    "tags": []
   },
   "outputs": [],
   "source": [
    "from utils import flatten_once\n",
    "\n",
    "excluded_features_columns = flatten_once(excluded_features_columns)"
   ]
  },
  {
   "cell_type": "code",
   "execution_count": 17,
   "id": "884dea22",
   "metadata": {
    "execution": {
     "iopub.execute_input": "2025-07-23T14:35:25.240845Z",
     "iopub.status.busy": "2025-07-23T14:35:25.240066Z",
     "iopub.status.idle": "2025-07-23T14:35:25.290357Z",
     "shell.execute_reply": "2025-07-23T14:35:25.289185Z"
    },
    "papermill": {
     "duration": 0.072382,
     "end_time": "2025-07-23T14:35:25.292085",
     "exception": false,
     "start_time": "2025-07-23T14:35:25.219703",
     "status": "completed"
    },
    "tags": []
   },
   "outputs": [
    {
     "name": "stdout",
     "output_type": "stream",
     "text": [
      "Dropping features: ['maxdeutsch1', 'maxdeutsch.Missing.']\n"
     ]
    }
   ],
   "source": [
    "if len(excluded_features_columns) > 0:\n",
    "    print(f\"Dropping features: {excluded_features_columns}\")\n",
    "    X_train.drop(excluded_features_columns, axis=1, inplace=True)"
   ]
  },
  {
   "cell_type": "code",
   "execution_count": 18,
   "id": "95ab8b16",
   "metadata": {
    "execution": {
     "iopub.execute_input": "2025-07-23T14:35:25.342219Z",
     "iopub.status.busy": "2025-07-23T14:35:25.341664Z",
     "iopub.status.idle": "2025-07-23T14:35:25.400379Z",
     "shell.execute_reply": "2025-07-23T14:35:25.399159Z"
    },
    "papermill": {
     "duration": 0.093616,
     "end_time": "2025-07-23T14:35:25.406890",
     "exception": false,
     "start_time": "2025-07-23T14:35:25.313274",
     "status": "completed"
    },
    "tags": []
   },
   "outputs": [
    {
     "name": "stdout",
     "output_type": "stream",
     "text": [
      "Dropping features: ['maxdeutsch1', 'maxdeutsch.Missing.']\n"
     ]
    }
   ],
   "source": [
    "if len(excluded_features_columns) > 0:\n",
    "    print(f\"Dropping features: {excluded_features_columns}\")\n",
    "    X_test.drop(excluded_features_columns, axis=1, inplace=True)"
   ]
  },
  {
   "cell_type": "code",
   "execution_count": 19,
   "id": "1853aaf5-fb9f-46cb-a2b5-8ea4ae2237e4",
   "metadata": {
    "execution": {
     "iopub.execute_input": "2025-07-23T14:35:25.446874Z",
     "iopub.status.busy": "2025-07-23T14:35:25.446447Z",
     "iopub.status.idle": "2025-07-23T14:35:25.505535Z",
     "shell.execute_reply": "2025-07-23T14:35:25.504340Z"
    },
    "papermill": {
     "duration": 0.081685,
     "end_time": "2025-07-23T14:35:25.507234",
     "exception": false,
     "start_time": "2025-07-23T14:35:25.425549",
     "status": "completed"
    },
    "tags": []
   },
   "outputs": [
    {
     "name": "stdout",
     "output_type": "stream",
     "text": [
      "Dropping features: ['maxdeutsch1', 'maxdeutsch.Missing.']\n"
     ]
    }
   ],
   "source": [
    "if len(excluded_features_columns) > 0:\n",
    "    print(f\"Dropping features: {excluded_features_columns}\")\n",
    "    X_calib.drop(excluded_features_columns, axis=1, inplace=True)"
   ]
  },
  {
   "cell_type": "code",
   "execution_count": 20,
   "id": "76c4dc6d",
   "metadata": {
    "execution": {
     "iopub.execute_input": "2025-07-23T14:35:25.547400Z",
     "iopub.status.busy": "2025-07-23T14:35:25.546904Z",
     "iopub.status.idle": "2025-07-23T14:35:25.552606Z",
     "shell.execute_reply": "2025-07-23T14:35:25.551569Z"
    },
    "papermill": {
     "duration": 0.027496,
     "end_time": "2025-07-23T14:35:25.554340",
     "exception": false,
     "start_time": "2025-07-23T14:35:25.526844",
     "status": "completed"
    },
    "tags": []
   },
   "outputs": [],
   "source": [
    "# EXCLUDE CERTAIN SUBGROUPS\n",
    "# ----------------------\n",
    "\n",
    "mode = universe.get(\"exclude_subgroups\", \"keep-all\") \n",
    "# Fetches the exclude_subgroups setting from the universe dict.\n",
    "# Defaults to \"keep-all\" if the key is missing."
   ]
  },
  {
   "cell_type": "code",
   "execution_count": 21,
   "id": "21994072",
   "metadata": {
    "execution": {
     "iopub.execute_input": "2025-07-23T14:35:25.594324Z",
     "iopub.status.busy": "2025-07-23T14:35:25.593618Z",
     "iopub.status.idle": "2025-07-23T14:35:25.601587Z",
     "shell.execute_reply": "2025-07-23T14:35:25.600580Z"
    },
    "papermill": {
     "duration": 0.029564,
     "end_time": "2025-07-23T14:35:25.603315",
     "exception": false,
     "start_time": "2025-07-23T14:35:25.573751",
     "status": "completed"
    },
    "tags": []
   },
   "outputs": [],
   "source": [
    "if mode == \"keep-all\":\n",
    "    keep_mask = pd.Series(True, index=org_train.index)\n",
    "\n",
    "# org_train contains the original feature columns from features_org (in Simson)\n",
    "# features_org contains unprocessed features, for me X_train at beginning ???\n",
    "# For keep-all, creates a boolean Series (keep_mask) of all True, so no rows are removed.\n",
    "\n",
    "elif mode == \"drop-non-german\":\n",
    "    keep_mask = org_train[\"maxdeutsch1\"] == 1 # ??? what about missing values?\n",
    "\n",
    "else:\n",
    "    raise ValueError(f\"Unsupported mode for exclude_subgroups: {mode}\")\n"
   ]
  },
  {
   "cell_type": "code",
   "execution_count": 22,
   "id": "71651440",
   "metadata": {
    "execution": {
     "iopub.execute_input": "2025-07-23T14:35:25.644276Z",
     "iopub.status.busy": "2025-07-23T14:35:25.643575Z",
     "iopub.status.idle": "2025-07-23T14:35:25.651691Z",
     "shell.execute_reply": "2025-07-23T14:35:25.650672Z"
    },
    "papermill": {
     "duration": 0.030064,
     "end_time": "2025-07-23T14:35:25.653478",
     "exception": false,
     "start_time": "2025-07-23T14:35:25.623414",
     "status": "completed"
    },
    "tags": []
   },
   "outputs": [
    {
     "name": "stdout",
     "output_type": "stream",
     "text": [
      "Dropping 10036 rows (13.38%) where mode='drop-non-german'\n"
     ]
    }
   ],
   "source": [
    "n_drop = (~keep_mask).sum() # Calculates how many rows are set to be dropped\n",
    "if n_drop > 0:\n",
    "    pct = n_drop / len(keep_mask) * 100\n",
    "    print(f\"Dropping {n_drop} rows ({pct:.2f}%) where mode='{mode}'\")"
   ]
  },
  {
   "cell_type": "code",
   "execution_count": 23,
   "id": "5fb8eee5",
   "metadata": {
    "execution": {
     "iopub.execute_input": "2025-07-23T14:35:25.693668Z",
     "iopub.status.busy": "2025-07-23T14:35:25.692950Z",
     "iopub.status.idle": "2025-07-23T14:35:25.744277Z",
     "shell.execute_reply": "2025-07-23T14:35:25.743322Z"
    },
    "papermill": {
     "duration": 0.0736,
     "end_time": "2025-07-23T14:35:25.746270",
     "exception": false,
     "start_time": "2025-07-23T14:35:25.672670",
     "status": "completed"
    },
    "tags": []
   },
   "outputs": [],
   "source": [
    "X_train = X_train[keep_mask]"
   ]
  },
  {
   "cell_type": "code",
   "execution_count": 24,
   "id": "b202bb3a",
   "metadata": {
    "execution": {
     "iopub.execute_input": "2025-07-23T14:35:25.787168Z",
     "iopub.status.busy": "2025-07-23T14:35:25.786573Z",
     "iopub.status.idle": "2025-07-23T14:35:25.794948Z",
     "shell.execute_reply": "2025-07-23T14:35:25.794008Z"
    },
    "papermill": {
     "duration": 0.030532,
     "end_time": "2025-07-23T14:35:25.796814",
     "exception": false,
     "start_time": "2025-07-23T14:35:25.766282",
     "status": "completed"
    },
    "tags": []
   },
   "outputs": [],
   "source": [
    "y_train = y_train[keep_mask]"
   ]
  },
  {
   "cell_type": "markdown",
   "id": "493e2ac3",
   "metadata": {
    "papermill": {
     "duration": 0.01963,
     "end_time": "2025-07-23T14:35:25.835784",
     "exception": false,
     "start_time": "2025-07-23T14:35:25.816154",
     "status": "completed"
    },
    "tags": []
   },
   "source": [
    "# Model Training"
   ]
  },
  {
   "cell_type": "code",
   "execution_count": 25,
   "id": "679e1268",
   "metadata": {
    "execution": {
     "iopub.execute_input": "2025-07-23T14:35:25.875525Z",
     "iopub.status.busy": "2025-07-23T14:35:25.874806Z",
     "iopub.status.idle": "2025-07-23T14:35:25.990853Z",
     "shell.execute_reply": "2025-07-23T14:35:25.989734Z"
    },
    "papermill": {
     "duration": 0.138354,
     "end_time": "2025-07-23T14:35:25.993046",
     "exception": false,
     "start_time": "2025-07-23T14:35:25.854692",
     "status": "completed"
    },
    "tags": []
   },
   "outputs": [],
   "source": [
    "from sklearn.linear_model import LogisticRegression\n",
    "from sklearn.ensemble import GradientBoostingClassifier, RandomForestClassifier\n",
    "\n",
    "if (universe[\"model\"] == \"logreg\"):\n",
    "    model = LogisticRegression() #penalty=\"none\") #, solver=\"newton-cg\", max_iter=1) # include random_state=19 ?\n",
    "elif (universe[\"model\"] == \"penalized_logreg\"):\n",
    "    model = LogisticRegression(penalty=\"l2\", C=1.0) #, solver=\"newton-cg\", max_iter=1)\n",
    "elif (universe[\"model\"] == \"rf\"):\n",
    "    model = RandomForestClassifier(n_estimators=100, n_jobs=-1)\n",
    "elif (universe[\"model\"] == \"gbm\"):\n",
    "    model = GradientBoostingClassifier()\n",
    "elif (universe[\"model\"] == \"elasticnet\"):\n",
    "    model = LogisticRegression(penalty = 'elasticnet', solver = 'saga', l1_ratio = 0.5, max_iter=5000) # which solver to use?\n",
    "else:\n",
    "    raise \"Unsupported universe.model\""
   ]
  },
  {
   "cell_type": "code",
   "execution_count": 26,
   "id": "0cc8f744",
   "metadata": {
    "execution": {
     "iopub.execute_input": "2025-07-23T14:35:26.033568Z",
     "iopub.status.busy": "2025-07-23T14:35:26.032831Z",
     "iopub.status.idle": "2025-07-23T14:35:26.039761Z",
     "shell.execute_reply": "2025-07-23T14:35:26.038729Z"
    },
    "papermill": {
     "duration": 0.028997,
     "end_time": "2025-07-23T14:35:26.041616",
     "exception": false,
     "start_time": "2025-07-23T14:35:26.012619",
     "status": "completed"
    },
    "tags": []
   },
   "outputs": [],
   "source": [
    "import numpy as np\n",
    "from sklearn.pipeline import Pipeline\n",
    "from sklearn.preprocessing import StandardScaler\n",
    "\n",
    "model = Pipeline([\n",
    "    #(\"continuous_processor\", continuous_processor),\n",
    "    #(\"categorical_preprocessor\", categorical_preprocessor),\n",
    "    (\"scale\", StandardScaler() if universe[\"scale\"] == \"scale\" else None), \n",
    "    (\"model\", model),\n",
    "])"
   ]
  },
  {
   "cell_type": "code",
   "execution_count": 27,
   "id": "9442c04d",
   "metadata": {
    "execution": {
     "iopub.execute_input": "2025-07-23T14:35:26.082811Z",
     "iopub.status.busy": "2025-07-23T14:35:26.081931Z",
     "iopub.status.idle": "2025-07-23T14:35:29.021786Z",
     "shell.execute_reply": "2025-07-23T14:35:29.020450Z"
    },
    "papermill": {
     "duration": 2.962544,
     "end_time": "2025-07-23T14:35:29.024142",
     "exception": false,
     "start_time": "2025-07-23T14:35:26.061598",
     "status": "completed"
    },
    "tags": []
   },
   "outputs": [
    {
     "name": "stderr",
     "output_type": "stream",
     "text": [
      "/dss/dsshome1/0C/ra93lal2/.local/share/virtualenvs/CMA_Fairness_v2-3j10GkSs/lib/python3.10/site-packages/sklearn/linear_model/_logistic.py:444: ConvergenceWarning: lbfgs failed to converge (status=1):\n",
      "STOP: TOTAL NO. of ITERATIONS REACHED LIMIT.\n",
      "\n",
      "Increase the number of iterations (max_iter) or scale the data as shown in:\n",
      "    https://scikit-learn.org/stable/modules/preprocessing.html\n",
      "Please also refer to the documentation for alternative solver options:\n",
      "    https://scikit-learn.org/stable/modules/linear_model.html#logistic-regression\n",
      "  n_iter_i = _check_optimize_result(\n"
     ]
    },
    {
     "data": {
      "text/html": [
       "<style>#sk-container-id-1 {color: black;background-color: white;}#sk-container-id-1 pre{padding: 0;}#sk-container-id-1 div.sk-toggleable {background-color: white;}#sk-container-id-1 label.sk-toggleable__label {cursor: pointer;display: block;width: 100%;margin-bottom: 0;padding: 0.3em;box-sizing: border-box;text-align: center;}#sk-container-id-1 label.sk-toggleable__label-arrow:before {content: \"▸\";float: left;margin-right: 0.25em;color: #696969;}#sk-container-id-1 label.sk-toggleable__label-arrow:hover:before {color: black;}#sk-container-id-1 div.sk-estimator:hover label.sk-toggleable__label-arrow:before {color: black;}#sk-container-id-1 div.sk-toggleable__content {max-height: 0;max-width: 0;overflow: hidden;text-align: left;background-color: #f0f8ff;}#sk-container-id-1 div.sk-toggleable__content pre {margin: 0.2em;color: black;border-radius: 0.25em;background-color: #f0f8ff;}#sk-container-id-1 input.sk-toggleable__control:checked~div.sk-toggleable__content {max-height: 200px;max-width: 100%;overflow: auto;}#sk-container-id-1 input.sk-toggleable__control:checked~label.sk-toggleable__label-arrow:before {content: \"▾\";}#sk-container-id-1 div.sk-estimator input.sk-toggleable__control:checked~label.sk-toggleable__label {background-color: #d4ebff;}#sk-container-id-1 div.sk-label input.sk-toggleable__control:checked~label.sk-toggleable__label {background-color: #d4ebff;}#sk-container-id-1 input.sk-hidden--visually {border: 0;clip: rect(1px 1px 1px 1px);clip: rect(1px, 1px, 1px, 1px);height: 1px;margin: -1px;overflow: hidden;padding: 0;position: absolute;width: 1px;}#sk-container-id-1 div.sk-estimator {font-family: monospace;background-color: #f0f8ff;border: 1px dotted black;border-radius: 0.25em;box-sizing: border-box;margin-bottom: 0.5em;}#sk-container-id-1 div.sk-estimator:hover {background-color: #d4ebff;}#sk-container-id-1 div.sk-parallel-item::after {content: \"\";width: 100%;border-bottom: 1px solid gray;flex-grow: 1;}#sk-container-id-1 div.sk-label:hover label.sk-toggleable__label {background-color: #d4ebff;}#sk-container-id-1 div.sk-serial::before {content: \"\";position: absolute;border-left: 1px solid gray;box-sizing: border-box;top: 0;bottom: 0;left: 50%;z-index: 0;}#sk-container-id-1 div.sk-serial {display: flex;flex-direction: column;align-items: center;background-color: white;padding-right: 0.2em;padding-left: 0.2em;position: relative;}#sk-container-id-1 div.sk-item {position: relative;z-index: 1;}#sk-container-id-1 div.sk-parallel {display: flex;align-items: stretch;justify-content: center;background-color: white;position: relative;}#sk-container-id-1 div.sk-item::before, #sk-container-id-1 div.sk-parallel-item::before {content: \"\";position: absolute;border-left: 1px solid gray;box-sizing: border-box;top: 0;bottom: 0;left: 50%;z-index: -1;}#sk-container-id-1 div.sk-parallel-item {display: flex;flex-direction: column;z-index: 1;position: relative;background-color: white;}#sk-container-id-1 div.sk-parallel-item:first-child::after {align-self: flex-end;width: 50%;}#sk-container-id-1 div.sk-parallel-item:last-child::after {align-self: flex-start;width: 50%;}#sk-container-id-1 div.sk-parallel-item:only-child::after {width: 0;}#sk-container-id-1 div.sk-dashed-wrapped {border: 1px dashed gray;margin: 0 0.4em 0.5em 0.4em;box-sizing: border-box;padding-bottom: 0.4em;background-color: white;}#sk-container-id-1 div.sk-label label {font-family: monospace;font-weight: bold;display: inline-block;line-height: 1.2em;}#sk-container-id-1 div.sk-label-container {text-align: center;}#sk-container-id-1 div.sk-container {/* jupyter's `normalize.less` sets `[hidden] { display: none; }` but bootstrap.min.css set `[hidden] { display: none !important; }` so we also need the `!important` here to be able to override the default hidden behavior on the sphinx rendered scikit-learn.org. See: https://github.com/scikit-learn/scikit-learn/issues/21755 */display: inline-block !important;position: relative;}#sk-container-id-1 div.sk-text-repr-fallback {display: none;}</style><div id=\"sk-container-id-1\" class=\"sk-top-container\"><div class=\"sk-text-repr-fallback\"><pre>Pipeline(steps=[(&#x27;scale&#x27;, None), (&#x27;model&#x27;, LogisticRegression())])</pre><b>In a Jupyter environment, please rerun this cell to show the HTML representation or trust the notebook. <br />On GitHub, the HTML representation is unable to render, please try loading this page with nbviewer.org.</b></div><div class=\"sk-container\" hidden><div class=\"sk-item sk-dashed-wrapped\"><div class=\"sk-label-container\"><div class=\"sk-label sk-toggleable\"><input class=\"sk-toggleable__control sk-hidden--visually\" id=\"sk-estimator-id-1\" type=\"checkbox\" ><label for=\"sk-estimator-id-1\" class=\"sk-toggleable__label sk-toggleable__label-arrow\">Pipeline</label><div class=\"sk-toggleable__content\"><pre>Pipeline(steps=[(&#x27;scale&#x27;, None), (&#x27;model&#x27;, LogisticRegression())])</pre></div></div></div><div class=\"sk-serial\"><div class=\"sk-item\"><div class=\"sk-estimator sk-toggleable\"><input class=\"sk-toggleable__control sk-hidden--visually\" id=\"sk-estimator-id-2\" type=\"checkbox\" ><label for=\"sk-estimator-id-2\" class=\"sk-toggleable__label sk-toggleable__label-arrow\">None</label><div class=\"sk-toggleable__content\"><pre>None</pre></div></div></div><div class=\"sk-item\"><div class=\"sk-estimator sk-toggleable\"><input class=\"sk-toggleable__control sk-hidden--visually\" id=\"sk-estimator-id-3\" type=\"checkbox\" ><label for=\"sk-estimator-id-3\" class=\"sk-toggleable__label sk-toggleable__label-arrow\">LogisticRegression</label><div class=\"sk-toggleable__content\"><pre>LogisticRegression()</pre></div></div></div></div></div></div></div>"
      ],
      "text/plain": [
       "Pipeline(steps=[('scale', None), ('model', LogisticRegression())])"
      ]
     },
     "execution_count": 27,
     "metadata": {},
     "output_type": "execute_result"
    }
   ],
   "source": [
    "model.fit(X_train, y_train.values.ravel())"
   ]
  },
  {
   "cell_type": "code",
   "execution_count": 28,
   "id": "af59f8c0",
   "metadata": {
    "execution": {
     "iopub.execute_input": "2025-07-23T14:35:29.083100Z",
     "iopub.status.busy": "2025-07-23T14:35:29.082273Z",
     "iopub.status.idle": "2025-07-23T14:35:29.089234Z",
     "shell.execute_reply": "2025-07-23T14:35:29.087938Z"
    },
    "papermill": {
     "duration": 0.038785,
     "end_time": "2025-07-23T14:35:29.091231",
     "exception": false,
     "start_time": "2025-07-23T14:35:29.052446",
     "status": "completed"
    },
    "tags": []
   },
   "outputs": [],
   "source": [
    "from fairness_multiverse.universe import predict_w_threshold"
   ]
  },
  {
   "cell_type": "code",
   "execution_count": 29,
   "id": "a7cf2e16",
   "metadata": {
    "execution": {
     "iopub.execute_input": "2025-07-23T14:35:29.132012Z",
     "iopub.status.busy": "2025-07-23T14:35:29.131129Z",
     "iopub.status.idle": "2025-07-23T14:35:29.250156Z",
     "shell.execute_reply": "2025-07-23T14:35:29.249188Z"
    },
    "papermill": {
     "duration": 0.140768,
     "end_time": "2025-07-23T14:35:29.251927",
     "exception": false,
     "start_time": "2025-07-23T14:35:29.111159",
     "status": "completed"
    },
    "tags": []
   },
   "outputs": [
    {
     "data": {
      "text/plain": [
       "0.8590792553784417"
      ]
     },
     "execution_count": 29,
     "metadata": {},
     "output_type": "execute_result"
    }
   ],
   "source": [
    "probs_test = model.predict_proba(X_test)\n",
    "\n",
    "'''\n",
    "Below code returns a boolean array (or binary 0/1 array depending on how it’s used) where each element \n",
    "is True if the probability of class 1 is greater than or equal to the threshold, and False otherwise.\n",
    "'''\n",
    "y_pred_default = predict_w_threshold(probs_test, 0.5)\n",
    "\n",
    "from sklearn.metrics import accuracy_score\n",
    "\n",
    "# Naive prediction\n",
    "accuracy_score(y_true = y_true, y_pred = y_pred_default)"
   ]
  },
  {
   "cell_type": "code",
   "execution_count": 30,
   "id": "081964c3",
   "metadata": {
    "execution": {
     "iopub.execute_input": "2025-07-23T14:35:29.293033Z",
     "iopub.status.busy": "2025-07-23T14:35:29.292416Z",
     "iopub.status.idle": "2025-07-23T14:35:29.382347Z",
     "shell.execute_reply": "2025-07-23T14:35:29.381348Z"
    },
    "papermill": {
     "duration": 0.112451,
     "end_time": "2025-07-23T14:35:29.384299",
     "exception": false,
     "start_time": "2025-07-23T14:35:29.271848",
     "status": "completed"
    },
    "tags": []
   },
   "outputs": [
    {
     "data": {
      "text/plain": [
       "array([0, 0, 0, ..., 0, 0, 0])"
      ]
     },
     "execution_count": 30,
     "metadata": {},
     "output_type": "execute_result"
    }
   ],
   "source": [
    "model.predict(X_test)"
   ]
  },
  {
   "cell_type": "markdown",
   "id": "56c9705b",
   "metadata": {
    "papermill": {
     "duration": 0.022097,
     "end_time": "2025-07-23T14:35:29.429512",
     "exception": false,
     "start_time": "2025-07-23T14:35:29.407415",
     "status": "completed"
    },
    "tags": []
   },
   "source": [
    "# Conformal Prediction"
   ]
  },
  {
   "cell_type": "code",
   "execution_count": 31,
   "id": "160ec6ff",
   "metadata": {
    "execution": {
     "iopub.execute_input": "2025-07-23T14:35:29.476204Z",
     "iopub.status.busy": "2025-07-23T14:35:29.475246Z",
     "iopub.status.idle": "2025-07-23T14:35:29.481276Z",
     "shell.execute_reply": "2025-07-23T14:35:29.480207Z"
    },
    "papermill": {
     "duration": 0.03162,
     "end_time": "2025-07-23T14:35:29.483265",
     "exception": false,
     "start_time": "2025-07-23T14:35:29.451645",
     "status": "completed"
    },
    "tags": []
   },
   "outputs": [],
   "source": [
    "# Miscoverage level for conformal prediction (10% allowed error rate => 90% target coverage)\n",
    "alpha = 0.1"
   ]
  },
  {
   "cell_type": "code",
   "execution_count": 32,
   "id": "eadf4555-3dd3-440e-8e35-f82a4ad9f855",
   "metadata": {
    "execution": {
     "iopub.execute_input": "2025-07-23T14:35:29.530715Z",
     "iopub.status.busy": "2025-07-23T14:35:29.529902Z",
     "iopub.status.idle": "2025-07-23T14:35:29.627675Z",
     "shell.execute_reply": "2025-07-23T14:35:29.626544Z"
    },
    "papermill": {
     "duration": 0.123577,
     "end_time": "2025-07-23T14:35:29.629751",
     "exception": false,
     "start_time": "2025-07-23T14:35:29.506174",
     "status": "completed"
    },
    "tags": []
   },
   "outputs": [],
   "source": [
    "probs_calib = model.predict_proba(X_calib)"
   ]
  },
  {
   "cell_type": "code",
   "execution_count": 33,
   "id": "2ed93547-6d5d-4983-9b36-1ecb300da49a",
   "metadata": {
    "execution": {
     "iopub.execute_input": "2025-07-23T14:35:29.682045Z",
     "iopub.status.busy": "2025-07-23T14:35:29.681413Z",
     "iopub.status.idle": "2025-07-23T14:35:29.687549Z",
     "shell.execute_reply": "2025-07-23T14:35:29.686365Z"
    },
    "papermill": {
     "duration": 0.039497,
     "end_time": "2025-07-23T14:35:29.689507",
     "exception": false,
     "start_time": "2025-07-23T14:35:29.650010",
     "status": "completed"
    },
    "tags": []
   },
   "outputs": [],
   "source": [
    "y_calib = y_calib.values.ravel().astype(int)"
   ]
  },
  {
   "cell_type": "code",
   "execution_count": 34,
   "id": "65d1320d-f588-4b38-9072-62af1ae97f7d",
   "metadata": {
    "execution": {
     "iopub.execute_input": "2025-07-23T14:35:29.731891Z",
     "iopub.status.busy": "2025-07-23T14:35:29.731308Z",
     "iopub.status.idle": "2025-07-23T14:35:29.739373Z",
     "shell.execute_reply": "2025-07-23T14:35:29.738359Z"
    },
    "papermill": {
     "duration": 0.031187,
     "end_time": "2025-07-23T14:35:29.741347",
     "exception": false,
     "start_time": "2025-07-23T14:35:29.710160",
     "status": "completed"
    },
    "tags": []
   },
   "outputs": [],
   "source": [
    "from fairness_multiverse.conformal import compute_nc_scores\n",
    "\n",
    "# Compute nonconformity scores on calibration set (1 - probability of true class)\n",
    "nc_scores = compute_nc_scores(probs_calib, y_calib)"
   ]
  },
  {
   "cell_type": "code",
   "execution_count": 35,
   "id": "df3b8ca3-53b7-43d5-9667-7c85da7aeda2",
   "metadata": {
    "execution": {
     "iopub.execute_input": "2025-07-23T14:35:29.782908Z",
     "iopub.status.busy": "2025-07-23T14:35:29.782029Z",
     "iopub.status.idle": "2025-07-23T14:35:29.789626Z",
     "shell.execute_reply": "2025-07-23T14:35:29.788458Z"
    },
    "papermill": {
     "duration": 0.029856,
     "end_time": "2025-07-23T14:35:29.791368",
     "exception": false,
     "start_time": "2025-07-23T14:35:29.761512",
     "status": "completed"
    },
    "tags": []
   },
   "outputs": [],
   "source": [
    "from fairness_multiverse.conformal import find_threshold\n",
    "\n",
    "# Find conformal threshold q_hat for the given alpha (split conformal method)\n",
    "q_hat = find_threshold(nc_scores, alpha)"
   ]
  },
  {
   "cell_type": "code",
   "execution_count": 36,
   "id": "4d29e6c1-0ef6-4aa4-b8fe-4fe79b0d033a",
   "metadata": {
    "execution": {
     "iopub.execute_input": "2025-07-23T14:35:29.836832Z",
     "iopub.status.busy": "2025-07-23T14:35:29.835970Z",
     "iopub.status.idle": "2025-07-23T14:35:29.844331Z",
     "shell.execute_reply": "2025-07-23T14:35:29.843286Z"
    },
    "papermill": {
     "duration": 0.033035,
     "end_time": "2025-07-23T14:35:29.846067",
     "exception": false,
     "start_time": "2025-07-23T14:35:29.813032",
     "status": "completed"
    },
    "tags": []
   },
   "outputs": [
    {
     "data": {
      "text/plain": [
       "0.6689558975383726"
      ]
     },
     "execution_count": 36,
     "metadata": {},
     "output_type": "execute_result"
    }
   ],
   "source": [
    "q_hat"
   ]
  },
  {
   "cell_type": "code",
   "execution_count": 37,
   "id": "92460794-cdac-4be2-ba28-f28c0515a6fb",
   "metadata": {
    "execution": {
     "iopub.execute_input": "2025-07-23T14:35:29.890497Z",
     "iopub.status.busy": "2025-07-23T14:35:29.889645Z",
     "iopub.status.idle": "2025-07-23T14:35:30.872006Z",
     "shell.execute_reply": "2025-07-23T14:35:30.870944Z"
    },
    "papermill": {
     "duration": 1.007028,
     "end_time": "2025-07-23T14:35:30.874365",
     "exception": false,
     "start_time": "2025-07-23T14:35:29.867337",
     "status": "completed"
    },
    "tags": []
   },
   "outputs": [],
   "source": [
    "from fairness_multiverse.conformal import predict_conformal_sets\n",
    "\n",
    "# Generate prediction sets for each test example\n",
    "pred_sets = predict_conformal_sets(model, X_test, q_hat)"
   ]
  },
  {
   "cell_type": "code",
   "execution_count": 38,
   "id": "d90c9a65-e6db-4f5d-80cd-e68fb7e46829",
   "metadata": {
    "execution": {
     "iopub.execute_input": "2025-07-23T14:35:30.919789Z",
     "iopub.status.busy": "2025-07-23T14:35:30.918860Z",
     "iopub.status.idle": "2025-07-23T14:35:30.924802Z",
     "shell.execute_reply": "2025-07-23T14:35:30.923715Z"
    },
    "papermill": {
     "duration": 0.029837,
     "end_time": "2025-07-23T14:35:30.926690",
     "exception": false,
     "start_time": "2025-07-23T14:35:30.896853",
     "status": "completed"
    },
    "tags": []
   },
   "outputs": [],
   "source": [
    "y_true = y_true.squeeze()"
   ]
  },
  {
   "cell_type": "code",
   "execution_count": 39,
   "id": "3a58a54a-1e68-46b9-927a-df01f18aebc8",
   "metadata": {
    "execution": {
     "iopub.execute_input": "2025-07-23T14:35:30.972907Z",
     "iopub.status.busy": "2025-07-23T14:35:30.971946Z",
     "iopub.status.idle": "2025-07-23T14:35:32.049743Z",
     "shell.execute_reply": "2025-07-23T14:35:32.048713Z"
    },
    "papermill": {
     "duration": 1.102689,
     "end_time": "2025-07-23T14:35:32.051912",
     "exception": false,
     "start_time": "2025-07-23T14:35:30.949223",
     "status": "completed"
    },
    "tags": []
   },
   "outputs": [],
   "source": [
    "from fairness_multiverse.conformal import evaluate_sets\n",
    "\n",
    "# Evaluate coverage and average set size on test data\n",
    "metrics = evaluate_sets(pred_sets, y_true)"
   ]
  },
  {
   "cell_type": "code",
   "execution_count": 40,
   "id": "5ce0a5cb-201f-45a0-ade5-94c7f0bd6095",
   "metadata": {
    "execution": {
     "iopub.execute_input": "2025-07-23T14:35:32.105777Z",
     "iopub.status.busy": "2025-07-23T14:35:32.105300Z",
     "iopub.status.idle": "2025-07-23T14:35:32.113601Z",
     "shell.execute_reply": "2025-07-23T14:35:32.112532Z"
    },
    "papermill": {
     "duration": 0.03678,
     "end_time": "2025-07-23T14:35:32.115582",
     "exception": false,
     "start_time": "2025-07-23T14:35:32.078802",
     "status": "completed"
    },
    "tags": []
   },
   "outputs": [
    {
     "data": {
      "text/plain": [
       "{'coverage': 0.9118381451343217, 'avg_size': 1.2146471965221268}"
      ]
     },
     "execution_count": 40,
     "metadata": {},
     "output_type": "execute_result"
    }
   ],
   "source": [
    "metrics"
   ]
  },
  {
   "cell_type": "code",
   "execution_count": 41,
   "id": "9b9a838d-31c9-430b-ae14-12baee460d17",
   "metadata": {
    "execution": {
     "iopub.execute_input": "2025-07-23T14:35:32.166000Z",
     "iopub.status.busy": "2025-07-23T14:35:32.165086Z",
     "iopub.status.idle": "2025-07-23T14:35:32.171853Z",
     "shell.execute_reply": "2025-07-23T14:35:32.170790Z"
    },
    "papermill": {
     "duration": 0.034104,
     "end_time": "2025-07-23T14:35:32.173963",
     "exception": false,
     "start_time": "2025-07-23T14:35:32.139859",
     "status": "completed"
    },
    "tags": []
   },
   "outputs": [],
   "source": [
    "example_universe = universe.copy()\n",
    "universe_model = example_universe.get(\"model\")\n",
    "universe_exclude_features = example_universe.get(\"exclude_features\")\n",
    "universe_exclude_subgroups = example_universe.get(\"exclude_subgroups\")\n",
    "universe_scale = example_universe.get(\"scale\")"
   ]
  },
  {
   "cell_type": "code",
   "execution_count": 42,
   "id": "f4b6a8ac-9dc0-4245-8a91-5b3b5999c4f9",
   "metadata": {
    "execution": {
     "iopub.execute_input": "2025-07-23T14:35:32.226658Z",
     "iopub.status.busy": "2025-07-23T14:35:32.225634Z",
     "iopub.status.idle": "2025-07-23T14:35:32.233058Z",
     "shell.execute_reply": "2025-07-23T14:35:32.231972Z"
    },
    "papermill": {
     "duration": 0.035983,
     "end_time": "2025-07-23T14:35:32.234982",
     "exception": false,
     "start_time": "2025-07-23T14:35:32.198999",
     "status": "completed"
    },
    "tags": []
   },
   "outputs": [],
   "source": [
    "cp_metrics_dict = {\n",
    "    \"universe_id\": [universe_id],\n",
    "    \"universe_model\": [universe_model],\n",
    "    \"universe_exclude_features\": [universe_exclude_features],\n",
    "    \"universe_exclude_subgroups\": [universe_exclude_subgroups],\n",
    "    \"universe_scale\": [universe_scale],\n",
    "    \"q_hat\": [q_hat],\n",
    "    \"coverage\": [metrics[\"coverage\"]],\n",
    "    \"avg_size\": [metrics[\"avg_size\"]],\n",
    "}"
   ]
  },
  {
   "cell_type": "code",
   "execution_count": 43,
   "id": "908acbb1-0371-4915-85ca-3fa520d2efe2",
   "metadata": {
    "execution": {
     "iopub.execute_input": "2025-07-23T14:35:32.280225Z",
     "iopub.status.busy": "2025-07-23T14:35:32.279250Z",
     "iopub.status.idle": "2025-07-23T14:35:32.288313Z",
     "shell.execute_reply": "2025-07-23T14:35:32.287209Z"
    },
    "papermill": {
     "duration": 0.032457,
     "end_time": "2025-07-23T14:35:32.290309",
     "exception": false,
     "start_time": "2025-07-23T14:35:32.257852",
     "status": "completed"
    },
    "tags": []
   },
   "outputs": [
    {
     "data": {
      "text/plain": [
       "{'universe_id': ['afe6d17ed8602132cfc554e300153380'],\n",
       " 'universe_model': ['penalized_logreg'],\n",
       " 'universe_exclude_features': ['nationality'],\n",
       " 'universe_exclude_subgroups': ['drop-non-german'],\n",
       " 'universe_scale': ['do-not-scale'],\n",
       " 'q_hat': [0.6689558975383726],\n",
       " 'coverage': [0.9118381451343217],\n",
       " 'avg_size': [1.2146471965221268]}"
      ]
     },
     "execution_count": 43,
     "metadata": {},
     "output_type": "execute_result"
    }
   ],
   "source": [
    "cp_metrics_dict"
   ]
  },
  {
   "cell_type": "code",
   "execution_count": 44,
   "id": "33007efc-14e9-4ec6-97ac-56a455c82265",
   "metadata": {
    "execution": {
     "iopub.execute_input": "2025-07-23T14:35:32.342214Z",
     "iopub.status.busy": "2025-07-23T14:35:32.341327Z",
     "iopub.status.idle": "2025-07-23T14:35:32.348266Z",
     "shell.execute_reply": "2025-07-23T14:35:32.347204Z"
    },
    "papermill": {
     "duration": 0.034208,
     "end_time": "2025-07-23T14:35:32.350138",
     "exception": false,
     "start_time": "2025-07-23T14:35:32.315930",
     "status": "completed"
    },
    "tags": []
   },
   "outputs": [],
   "source": [
    "cp_metrics_df = pd.DataFrame(cp_metrics_dict)"
   ]
  },
  {
   "cell_type": "code",
   "execution_count": 45,
   "id": "db12611b-57b2-4910-b9d0-355adfd6e7bf",
   "metadata": {
    "execution": {
     "iopub.execute_input": "2025-07-23T14:35:32.393447Z",
     "iopub.status.busy": "2025-07-23T14:35:32.392981Z",
     "iopub.status.idle": "2025-07-23T14:35:32.410973Z",
     "shell.execute_reply": "2025-07-23T14:35:32.409839Z"
    },
    "papermill": {
     "duration": 0.041451,
     "end_time": "2025-07-23T14:35:32.412678",
     "exception": false,
     "start_time": "2025-07-23T14:35:32.371227",
     "status": "completed"
    },
    "tags": []
   },
   "outputs": [
    {
     "data": {
      "text/html": [
       "<div>\n",
       "<style scoped>\n",
       "    .dataframe tbody tr th:only-of-type {\n",
       "        vertical-align: middle;\n",
       "    }\n",
       "\n",
       "    .dataframe tbody tr th {\n",
       "        vertical-align: top;\n",
       "    }\n",
       "\n",
       "    .dataframe thead th {\n",
       "        text-align: right;\n",
       "    }\n",
       "</style>\n",
       "<table border=\"1\" class=\"dataframe\">\n",
       "  <thead>\n",
       "    <tr style=\"text-align: right;\">\n",
       "      <th></th>\n",
       "      <th>universe_id</th>\n",
       "      <th>universe_model</th>\n",
       "      <th>universe_exclude_features</th>\n",
       "      <th>universe_exclude_subgroups</th>\n",
       "      <th>universe_scale</th>\n",
       "      <th>q_hat</th>\n",
       "      <th>coverage</th>\n",
       "      <th>avg_size</th>\n",
       "    </tr>\n",
       "  </thead>\n",
       "  <tbody>\n",
       "    <tr>\n",
       "      <th>0</th>\n",
       "      <td>afe6d17ed8602132cfc554e300153380</td>\n",
       "      <td>penalized_logreg</td>\n",
       "      <td>nationality</td>\n",
       "      <td>drop-non-german</td>\n",
       "      <td>do-not-scale</td>\n",
       "      <td>0.668956</td>\n",
       "      <td>0.911838</td>\n",
       "      <td>1.214647</td>\n",
       "    </tr>\n",
       "  </tbody>\n",
       "</table>\n",
       "</div>"
      ],
      "text/plain": [
       "                        universe_id    universe_model  \\\n",
       "0  afe6d17ed8602132cfc554e300153380  penalized_logreg   \n",
       "\n",
       "  universe_exclude_features universe_exclude_subgroups universe_scale  \\\n",
       "0               nationality            drop-non-german   do-not-scale   \n",
       "\n",
       "      q_hat  coverage  avg_size  \n",
       "0  0.668956  0.911838  1.214647  "
      ]
     },
     "execution_count": 45,
     "metadata": {},
     "output_type": "execute_result"
    }
   ],
   "source": [
    "cp_metrics_df"
   ]
  },
  {
   "cell_type": "code",
   "execution_count": 46,
   "id": "b7fbde55-a0a1-47e4-9af6-fe4a17fa8c61",
   "metadata": {
    "execution": {
     "iopub.execute_input": "2025-07-23T14:35:32.460478Z",
     "iopub.status.busy": "2025-07-23T14:35:32.459489Z",
     "iopub.status.idle": "2025-07-23T14:35:32.464996Z",
     "shell.execute_reply": "2025-07-23T14:35:32.463941Z"
    },
    "papermill": {
     "duration": 0.030758,
     "end_time": "2025-07-23T14:35:32.466850",
     "exception": false,
     "start_time": "2025-07-23T14:35:32.436092",
     "status": "completed"
    },
    "tags": []
   },
   "outputs": [],
   "source": [
    "# Conditional Coverage & looking at subgroups"
   ]
  },
  {
   "cell_type": "code",
   "execution_count": 47,
   "id": "027ae886-68dd-4141-96c7-805a5450e1ef",
   "metadata": {
    "execution": {
     "iopub.execute_input": "2025-07-23T14:35:32.515276Z",
     "iopub.status.busy": "2025-07-23T14:35:32.514351Z",
     "iopub.status.idle": "2025-07-23T14:35:32.841613Z",
     "shell.execute_reply": "2025-07-23T14:35:32.840804Z"
    },
    "papermill": {
     "duration": 0.353094,
     "end_time": "2025-07-23T14:35:32.843598",
     "exception": false,
     "start_time": "2025-07-23T14:35:32.490504",
     "status": "completed"
    },
    "tags": []
   },
   "outputs": [],
   "source": [
    "from fairness_multiverse.conformal import build_cp_groups\n",
    "\n",
    "cp_groups_df = build_cp_groups(pred_sets, y_true, X_test.index, org_test)\n",
    "#needs universe_id and setting"
   ]
  },
  {
   "cell_type": "code",
   "execution_count": 48,
   "id": "c3b92545-903e-4839-89af-0f057907d7d6",
   "metadata": {
    "execution": {
     "iopub.execute_input": "2025-07-23T14:35:32.889005Z",
     "iopub.status.busy": "2025-07-23T14:35:32.888460Z",
     "iopub.status.idle": "2025-07-23T14:35:34.689670Z",
     "shell.execute_reply": "2025-07-23T14:35:34.688888Z"
    },
    "papermill": {
     "duration": 1.82629,
     "end_time": "2025-07-23T14:35:34.691702",
     "exception": false,
     "start_time": "2025-07-23T14:35:32.865412",
     "status": "completed"
    },
    "tags": []
   },
   "outputs": [],
   "source": [
    "# Define covered = 1 if true_label is in the predicted set\n",
    "cp_groups_df['covered'] = cp_groups_df.apply(\n",
    "    lambda r: int(r['true_label'] in r['pred_set']),\n",
    "    axis=1\n",
    ")"
   ]
  },
  {
   "cell_type": "code",
   "execution_count": 49,
   "id": "338ff529-1a6b-4b87-a931-8e4788d52aad",
   "metadata": {
    "execution": {
     "iopub.execute_input": "2025-07-23T14:35:34.731719Z",
     "iopub.status.busy": "2025-07-23T14:35:34.731318Z",
     "iopub.status.idle": "2025-07-23T14:35:34.735620Z",
     "shell.execute_reply": "2025-07-23T14:35:34.734856Z"
    },
    "papermill": {
     "duration": 0.018746,
     "end_time": "2025-07-23T14:35:34.737126",
     "exception": false,
     "start_time": "2025-07-23T14:35:34.718380",
     "status": "completed"
    },
    "tags": []
   },
   "outputs": [],
   "source": [
    "#cp_groups_df"
   ]
  },
  {
   "cell_type": "code",
   "execution_count": 50,
   "id": "90032e27-66df-4540-9169-4e89cfbaa758",
   "metadata": {
    "execution": {
     "iopub.execute_input": "2025-07-23T14:35:34.793579Z",
     "iopub.status.busy": "2025-07-23T14:35:34.793193Z",
     "iopub.status.idle": "2025-07-23T14:35:34.804605Z",
     "shell.execute_reply": "2025-07-23T14:35:34.803471Z"
    },
    "papermill": {
     "duration": 0.043206,
     "end_time": "2025-07-23T14:35:34.806410",
     "exception": false,
     "start_time": "2025-07-23T14:35:34.763204",
     "status": "completed"
    },
    "tags": []
   },
   "outputs": [],
   "source": [
    "subgroups = ['frau1','nongerman','nongerman_male','nongerman_female']\n",
    "\n",
    "# Conditional coverage for subgroup==1\n",
    "cond_coverage = {\n",
    "    g: cp_groups_df.loc[cp_groups_df[g]==1, 'covered'].mean()\n",
    "    for g in subgroups\n",
    "}"
   ]
  },
  {
   "cell_type": "code",
   "execution_count": 51,
   "id": "1e348fb1-b9c3-45bc-ba23-f016827a7e0d",
   "metadata": {
    "execution": {
     "iopub.execute_input": "2025-07-23T14:35:34.857850Z",
     "iopub.status.busy": "2025-07-23T14:35:34.857382Z",
     "iopub.status.idle": "2025-07-23T14:35:34.865185Z",
     "shell.execute_reply": "2025-07-23T14:35:34.864018Z"
    },
    "papermill": {
     "duration": 0.035392,
     "end_time": "2025-07-23T14:35:34.867081",
     "exception": false,
     "start_time": "2025-07-23T14:35:34.831689",
     "status": "completed"
    },
    "tags": []
   },
   "outputs": [
    {
     "data": {
      "text/plain": [
       "{'frau1': 0.9112548861032485,\n",
       " 'nongerman': 0.9362824903160613,\n",
       " 'nongerman_male': 0.9477618661622985,\n",
       " 'nongerman_female': 0.9172876304023845}"
      ]
     },
     "execution_count": 51,
     "metadata": {},
     "output_type": "execute_result"
    }
   ],
   "source": [
    "cond_coverage"
   ]
  },
  {
   "cell_type": "code",
   "execution_count": 52,
   "id": "f5093324-c3dd-4d63-bc4c-8d945e5c8bbb",
   "metadata": {
    "execution": {
     "iopub.execute_input": "2025-07-23T14:35:34.913546Z",
     "iopub.status.busy": "2025-07-23T14:35:34.912993Z",
     "iopub.status.idle": "2025-07-23T14:35:34.921381Z",
     "shell.execute_reply": "2025-07-23T14:35:34.920139Z"
    },
    "papermill": {
     "duration": 0.032511,
     "end_time": "2025-07-23T14:35:34.923518",
     "exception": false,
     "start_time": "2025-07-23T14:35:34.891007",
     "status": "completed"
    },
    "tags": []
   },
   "outputs": [],
   "source": [
    "for subgroup, cov in cond_coverage.items():\n",
    "    cp_metrics_df[f\"cov_{subgroup}\"] = cov"
   ]
  },
  {
   "cell_type": "code",
   "execution_count": 53,
   "id": "6e872e10-dbe5-49e8-b554-5030c98ff75d",
   "metadata": {
    "execution": {
     "iopub.execute_input": "2025-07-23T14:35:34.974078Z",
     "iopub.status.busy": "2025-07-23T14:35:34.973553Z",
     "iopub.status.idle": "2025-07-23T14:35:34.993217Z",
     "shell.execute_reply": "2025-07-23T14:35:34.992414Z"
    },
    "papermill": {
     "duration": 0.046238,
     "end_time": "2025-07-23T14:35:34.994515",
     "exception": false,
     "start_time": "2025-07-23T14:35:34.948277",
     "status": "completed"
    },
    "tags": []
   },
   "outputs": [
    {
     "data": {
      "text/html": [
       "<div>\n",
       "<style scoped>\n",
       "    .dataframe tbody tr th:only-of-type {\n",
       "        vertical-align: middle;\n",
       "    }\n",
       "\n",
       "    .dataframe tbody tr th {\n",
       "        vertical-align: top;\n",
       "    }\n",
       "\n",
       "    .dataframe thead th {\n",
       "        text-align: right;\n",
       "    }\n",
       "</style>\n",
       "<table border=\"1\" class=\"dataframe\">\n",
       "  <thead>\n",
       "    <tr style=\"text-align: right;\">\n",
       "      <th></th>\n",
       "      <th>universe_id</th>\n",
       "      <th>universe_model</th>\n",
       "      <th>universe_exclude_features</th>\n",
       "      <th>universe_exclude_subgroups</th>\n",
       "      <th>universe_scale</th>\n",
       "      <th>q_hat</th>\n",
       "      <th>coverage</th>\n",
       "      <th>avg_size</th>\n",
       "      <th>cov_frau1</th>\n",
       "      <th>cov_nongerman</th>\n",
       "      <th>cov_nongerman_male</th>\n",
       "      <th>cov_nongerman_female</th>\n",
       "    </tr>\n",
       "  </thead>\n",
       "  <tbody>\n",
       "    <tr>\n",
       "      <th>0</th>\n",
       "      <td>afe6d17ed8602132cfc554e300153380</td>\n",
       "      <td>penalized_logreg</td>\n",
       "      <td>nationality</td>\n",
       "      <td>drop-non-german</td>\n",
       "      <td>do-not-scale</td>\n",
       "      <td>0.668956</td>\n",
       "      <td>0.911838</td>\n",
       "      <td>1.214647</td>\n",
       "      <td>0.911255</td>\n",
       "      <td>0.936282</td>\n",
       "      <td>0.947762</td>\n",
       "      <td>0.917288</td>\n",
       "    </tr>\n",
       "  </tbody>\n",
       "</table>\n",
       "</div>"
      ],
      "text/plain": [
       "                        universe_id    universe_model  \\\n",
       "0  afe6d17ed8602132cfc554e300153380  penalized_logreg   \n",
       "\n",
       "  universe_exclude_features universe_exclude_subgroups universe_scale  \\\n",
       "0               nationality            drop-non-german   do-not-scale   \n",
       "\n",
       "      q_hat  coverage  avg_size  cov_frau1  cov_nongerman  cov_nongerman_male  \\\n",
       "0  0.668956  0.911838  1.214647   0.911255       0.936282            0.947762   \n",
       "\n",
       "   cov_nongerman_female  \n",
       "0              0.917288  "
      ]
     },
     "execution_count": 53,
     "metadata": {},
     "output_type": "execute_result"
    }
   ],
   "source": [
    "cp_metrics_df"
   ]
  },
  {
   "cell_type": "markdown",
   "id": "33774451",
   "metadata": {
    "papermill": {
     "duration": 0.012887,
     "end_time": "2025-07-23T14:35:35.021037",
     "exception": false,
     "start_time": "2025-07-23T14:35:35.008150",
     "status": "completed"
    },
    "tags": []
   },
   "source": [
    "# (Fairness) Metrics"
   ]
  },
  {
   "cell_type": "code",
   "execution_count": 54,
   "id": "debc5d62",
   "metadata": {
    "execution": {
     "iopub.execute_input": "2025-07-23T14:35:35.059266Z",
     "iopub.status.busy": "2025-07-23T14:35:35.058726Z",
     "iopub.status.idle": "2025-07-23T14:35:35.078110Z",
     "shell.execute_reply": "2025-07-23T14:35:35.077126Z"
    },
    "papermill": {
     "duration": 0.045716,
     "end_time": "2025-07-23T14:35:35.080093",
     "exception": false,
     "start_time": "2025-07-23T14:35:35.034377",
     "status": "completed"
    },
    "tags": []
   },
   "outputs": [],
   "source": [
    "# do I need to include maxdeutsch1.missing?\n",
    "\n",
    "import numpy as np\n",
    "\n",
    "colname_to_bin = \"maxdeutsch1\"\n",
    "majority_value = org_train[colname_to_bin].mode()[0]\n",
    "\n",
    "org_test[\"majmin\"] = np.where(org_test[colname_to_bin] == majority_value, \"majority\", \"minority\")"
   ]
  },
  {
   "cell_type": "code",
   "execution_count": 55,
   "id": "06a50de5",
   "metadata": {
    "execution": {
     "iopub.execute_input": "2025-07-23T14:35:35.134207Z",
     "iopub.status.busy": "2025-07-23T14:35:35.133586Z",
     "iopub.status.idle": "2025-07-23T14:35:37.497446Z",
     "shell.execute_reply": "2025-07-23T14:35:37.496649Z"
    },
    "papermill": {
     "duration": 2.393567,
     "end_time": "2025-07-23T14:35:37.498969",
     "exception": false,
     "start_time": "2025-07-23T14:35:35.105402",
     "status": "completed"
    },
    "tags": []
   },
   "outputs": [],
   "source": [
    "example_universe = universe.copy()\n",
    "example_universe[\"cutoff\"] = example_universe[\"cutoff\"][0]\n",
    "example_universe[\"eval_fairness_grouping\"] = example_universe[\"eval_fairness_grouping\"][0]\n",
    "fairness_dict, metric_frame = universe_analysis.compute_metrics(\n",
    "    example_universe,\n",
    "    y_pred_prob=probs_test,\n",
    "    y_test=y_true,\n",
    "    org_test=org_test,\n",
    ")"
   ]
  },
  {
   "cell_type": "markdown",
   "id": "f95d4e02",
   "metadata": {
    "papermill": {
     "duration": 0.013342,
     "end_time": "2025-07-23T14:35:37.527643",
     "exception": false,
     "start_time": "2025-07-23T14:35:37.514301",
     "status": "completed"
    },
    "tags": []
   },
   "source": [
    "# Overall"
   ]
  },
  {
   "cell_type": "markdown",
   "id": "bdee4871",
   "metadata": {
    "papermill": {
     "duration": 0.012338,
     "end_time": "2025-07-23T14:35:37.552839",
     "exception": false,
     "start_time": "2025-07-23T14:35:37.540501",
     "status": "completed"
    },
    "tags": []
   },
   "source": [
    "Fairness\n",
    "Main fairness target: Equalized Odds. Seems to be a better fit than equal opportunity, since we're not only interested in Y = 1. Seems to be a better fit than demographic parity, since we also care about accuracy, not just equal distribution of preds.\n",
    "\n",
    "Pick column for computation of fairness metrics\n",
    "\n",
    "Performance\n",
    "Overall performance measures, most interesting in relation to the measures split by group below"
   ]
  },
  {
   "cell_type": "code",
   "execution_count": 56,
   "id": "c4e067c6",
   "metadata": {
    "execution": {
     "iopub.execute_input": "2025-07-23T14:35:37.579723Z",
     "iopub.status.busy": "2025-07-23T14:35:37.579184Z",
     "iopub.status.idle": "2025-07-23T14:35:37.587739Z",
     "shell.execute_reply": "2025-07-23T14:35:37.586838Z"
    },
    "papermill": {
     "duration": 0.023815,
     "end_time": "2025-07-23T14:35:37.589234",
     "exception": false,
     "start_time": "2025-07-23T14:35:37.565419",
     "status": "completed"
    },
    "tags": []
   },
   "outputs": [
    {
     "data": {
      "text/plain": [
       "accuracy                   0.217958\n",
       "balanced accuracy          0.534281\n",
       "f1                         0.239466\n",
       "precision                  0.136799\n",
       "false positive rate        0.891205\n",
       "false negative rate        0.040233\n",
       "selection rate             0.900000\n",
       "count                  89710.000000\n",
       "dtype: float64"
      ]
     },
     "execution_count": 56,
     "metadata": {},
     "output_type": "execute_result"
    }
   ],
   "source": [
    "metric_frame.overall"
   ]
  },
  {
   "cell_type": "markdown",
   "id": "e968fe9d",
   "metadata": {
    "papermill": {
     "duration": 0.01287,
     "end_time": "2025-07-23T14:35:37.615762",
     "exception": false,
     "start_time": "2025-07-23T14:35:37.602892",
     "status": "completed"
    },
    "tags": []
   },
   "source": [
    "By Group"
   ]
  },
  {
   "cell_type": "code",
   "execution_count": 57,
   "id": "ec325bce",
   "metadata": {
    "execution": {
     "iopub.execute_input": "2025-07-23T14:35:37.642913Z",
     "iopub.status.busy": "2025-07-23T14:35:37.642379Z",
     "iopub.status.idle": "2025-07-23T14:35:37.657376Z",
     "shell.execute_reply": "2025-07-23T14:35:37.656338Z"
    },
    "papermill": {
     "duration": 0.030139,
     "end_time": "2025-07-23T14:35:37.658754",
     "exception": false,
     "start_time": "2025-07-23T14:35:37.628615",
     "status": "completed"
    },
    "tags": []
   },
   "outputs": [
    {
     "data": {
      "text/html": [
       "<div>\n",
       "<style scoped>\n",
       "    .dataframe tbody tr th:only-of-type {\n",
       "        vertical-align: middle;\n",
       "    }\n",
       "\n",
       "    .dataframe tbody tr th {\n",
       "        vertical-align: top;\n",
       "    }\n",
       "\n",
       "    .dataframe thead th {\n",
       "        text-align: right;\n",
       "    }\n",
       "</style>\n",
       "<table border=\"1\" class=\"dataframe\">\n",
       "  <thead>\n",
       "    <tr style=\"text-align: right;\">\n",
       "      <th></th>\n",
       "      <th>accuracy</th>\n",
       "      <th>balanced accuracy</th>\n",
       "      <th>f1</th>\n",
       "      <th>precision</th>\n",
       "      <th>false positive rate</th>\n",
       "      <th>false negative rate</th>\n",
       "      <th>selection rate</th>\n",
       "      <th>count</th>\n",
       "    </tr>\n",
       "    <tr>\n",
       "      <th>majmin</th>\n",
       "      <th></th>\n",
       "      <th></th>\n",
       "      <th></th>\n",
       "      <th></th>\n",
       "      <th></th>\n",
       "      <th></th>\n",
       "      <th></th>\n",
       "      <th></th>\n",
       "    </tr>\n",
       "  </thead>\n",
       "  <tbody>\n",
       "    <tr>\n",
       "      <th>majority</th>\n",
       "      <td>0.240711</td>\n",
       "      <td>0.542425</td>\n",
       "      <td>0.248985</td>\n",
       "      <td>0.143210</td>\n",
       "      <td>0.867666</td>\n",
       "      <td>0.047484</td>\n",
       "      <td>0.878878</td>\n",
       "      <td>69170.0</td>\n",
       "    </tr>\n",
       "    <tr>\n",
       "      <th>minority</th>\n",
       "      <td>0.141334</td>\n",
       "      <td>0.509395</td>\n",
       "      <td>0.209635</td>\n",
       "      <td>0.117261</td>\n",
       "      <td>0.968963</td>\n",
       "      <td>0.012247</td>\n",
       "      <td>0.971130</td>\n",
       "      <td>20540.0</td>\n",
       "    </tr>\n",
       "  </tbody>\n",
       "</table>\n",
       "</div>"
      ],
      "text/plain": [
       "          accuracy  balanced accuracy        f1  precision  \\\n",
       "majmin                                                       \n",
       "majority  0.240711           0.542425  0.248985   0.143210   \n",
       "minority  0.141334           0.509395  0.209635   0.117261   \n",
       "\n",
       "          false positive rate  false negative rate  selection rate    count  \n",
       "majmin                                                                       \n",
       "majority             0.867666             0.047484        0.878878  69170.0  \n",
       "minority             0.968963             0.012247        0.971130  20540.0  "
      ]
     },
     "execution_count": 57,
     "metadata": {},
     "output_type": "execute_result"
    }
   ],
   "source": [
    "metric_frame.by_group"
   ]
  },
  {
   "cell_type": "code",
   "execution_count": 58,
   "id": "a9ddbe63",
   "metadata": {
    "execution": {
     "iopub.execute_input": "2025-07-23T14:35:37.686686Z",
     "iopub.status.busy": "2025-07-23T14:35:37.686157Z",
     "iopub.status.idle": "2025-07-23T14:35:39.908669Z",
     "shell.execute_reply": "2025-07-23T14:35:39.907436Z"
    },
    "papermill": {
     "duration": 2.237926,
     "end_time": "2025-07-23T14:35:39.910138",
     "exception": false,
     "start_time": "2025-07-23T14:35:37.672212",
     "status": "completed"
    },
    "tags": []
   },
   "outputs": [
    {
     "data": {
      "text/plain": [
       "array([[<Axes: title={'center': 'accuracy'}, xlabel='majmin'>,\n",
       "        <Axes: title={'center': 'balanced accuracy'}, xlabel='majmin'>,\n",
       "        <Axes: title={'center': 'f1'}, xlabel='majmin'>],\n",
       "       [<Axes: title={'center': 'precision'}, xlabel='majmin'>,\n",
       "        <Axes: title={'center': 'false positive rate'}, xlabel='majmin'>,\n",
       "        <Axes: title={'center': 'false negative rate'}, xlabel='majmin'>],\n",
       "       [<Axes: title={'center': 'selection rate'}, xlabel='majmin'>,\n",
       "        <Axes: title={'center': 'count'}, xlabel='majmin'>,\n",
       "        <Axes: xlabel='majmin'>]], dtype=object)"
      ]
     },
     "execution_count": 58,
     "metadata": {},
     "output_type": "execute_result"
    },
    {
     "data": {
      "image/png": "[encoded data removed]",
      "text/plain": [
       "<Figure size 1200x800 with 9 Axes>"
      ]
     },
     "metadata": {},
     "output_type": "display_data"
    }
   ],
   "source": [
    "# In a graphic\n",
    "metric_frame.by_group.plot.bar(\n",
    "    subplots=True,\n",
    "    layout=[3, 3],\n",
    "    legend=False,\n",
    "    figsize=[12, 8],\n",
    "    title=\"Show all metrics\",\n",
    ")"
   ]
  },
  {
   "cell_type": "markdown",
   "id": "f57a0bac",
   "metadata": {
    "papermill": {
     "duration": 0.017743,
     "end_time": "2025-07-23T14:35:39.943889",
     "exception": false,
     "start_time": "2025-07-23T14:35:39.926146",
     "status": "completed"
    },
    "tags": []
   },
   "source": [
    "# Final Output"
   ]
  },
  {
   "cell_type": "code",
   "execution_count": 59,
   "id": "96d280a3",
   "metadata": {
    "execution": {
     "iopub.execute_input": "2025-07-23T14:35:39.975503Z",
     "iopub.status.busy": "2025-07-23T14:35:39.974802Z",
     "iopub.status.idle": "2025-07-23T14:35:39.983021Z",
     "shell.execute_reply": "2025-07-23T14:35:39.982156Z"
    },
    "papermill": {
     "duration": 0.025909,
     "end_time": "2025-07-23T14:35:39.984524",
     "exception": false,
     "start_time": "2025-07-23T14:35:39.958615",
     "status": "completed"
    },
    "tags": []
   },
   "outputs": [
    {
     "data": {
      "text/plain": [
       "4"
      ]
     },
     "execution_count": 59,
     "metadata": {},
     "output_type": "execute_result"
    }
   ],
   "source": [
    "sub_universes = universe_analysis.generate_sub_universes()\n",
    "len(sub_universes)"
   ]
  },
  {
   "cell_type": "code",
   "execution_count": 60,
   "id": "92adf7ba",
   "metadata": {
    "execution": {
     "iopub.execute_input": "2025-07-23T14:35:40.021368Z",
     "iopub.status.busy": "2025-07-23T14:35:40.020548Z",
     "iopub.status.idle": "2025-07-23T14:35:40.026521Z",
     "shell.execute_reply": "2025-07-23T14:35:40.025714Z"
    },
    "papermill": {
     "duration": 0.022944,
     "end_time": "2025-07-23T14:35:40.027907",
     "exception": false,
     "start_time": "2025-07-23T14:35:40.004963",
     "status": "completed"
    },
    "tags": []
   },
   "outputs": [],
   "source": [
    "def filter_sub_universe_data(sub_universe, org_test):\n",
    "    # Keep all rows — no filtering\n",
    "    keep_rows_mask = np.ones(org_test.shape[0], dtype=bool)\n",
    "\n",
    "    print(f\"[INFO] Keeping all rows: {keep_rows_mask.sum()} rows retained.\")\n",
    "    return keep_rows_mask"
   ]
  },
  {
   "cell_type": "code",
   "execution_count": 61,
   "id": "4a759155",
   "metadata": {
    "execution": {
     "iopub.execute_input": "2025-07-23T14:35:40.077521Z",
     "iopub.status.busy": "2025-07-23T14:35:40.076994Z",
     "iopub.status.idle": "2025-07-23T14:35:51.088387Z",
     "shell.execute_reply": "2025-07-23T14:35:51.087146Z"
    },
    "papermill": {
     "duration": 11.04358,
     "end_time": "2025-07-23T14:35:51.090403",
     "exception": false,
     "start_time": "2025-07-23T14:35:40.046823",
     "status": "completed"
    },
    "tags": []
   },
   "outputs": [
    {
     "name": "stdout",
     "output_type": "stream",
     "text": [
      "Stopping execution_time clock.\n",
      "[INFO] Keeping all rows: 89710 rows retained.\n"
     ]
    },
    {
     "name": "stdout",
     "output_type": "stream",
     "text": [
      "[INFO] Keeping all rows: 89710 rows retained.\n"
     ]
    },
    {
     "name": "stdout",
     "output_type": "stream",
     "text": [
      "[INFO] Keeping all rows: 89710 rows retained.\n"
     ]
    },
    {
     "name": "stdout",
     "output_type": "stream",
     "text": [
      "[INFO] Keeping all rows: 89710 rows retained.\n"
     ]
    },
    {
     "data": {
      "text/html": [
       "<div>\n",
       "<style scoped>\n",
       "    .dataframe tbody tr th:only-of-type {\n",
       "        vertical-align: middle;\n",
       "    }\n",
       "\n",
       "    .dataframe tbody tr th {\n",
       "        vertical-align: top;\n",
       "    }\n",
       "\n",
       "    .dataframe thead th {\n",
       "        text-align: right;\n",
       "    }\n",
       "</style>\n",
       "<table border=\"1\" class=\"dataframe\">\n",
       "  <thead>\n",
       "    <tr style=\"text-align: right;\">\n",
       "      <th></th>\n",
       "      <th>run_no</th>\n",
       "      <th>universe_id</th>\n",
       "      <th>universe_settings</th>\n",
       "      <th>execution_time</th>\n",
       "      <th>test_size_n</th>\n",
       "      <th>test_size_frac</th>\n",
       "      <th>fair_main_equalized_odds_difference</th>\n",
       "      <th>fair_main_equalized_odds_ratio</th>\n",
       "      <th>fair_main_demographic_parity_difference</th>\n",
       "      <th>fair_main_demographic_parity_ratio</th>\n",
       "      <th>...</th>\n",
       "      <th>perf_grp_precision_0</th>\n",
       "      <th>perf_grp_precision_1</th>\n",
       "      <th>perf_grp_false positive rate_0</th>\n",
       "      <th>perf_grp_false positive rate_1</th>\n",
       "      <th>perf_grp_false negative rate_0</th>\n",
       "      <th>perf_grp_false negative rate_1</th>\n",
       "      <th>perf_grp_selection rate_0</th>\n",
       "      <th>perf_grp_selection rate_1</th>\n",
       "      <th>perf_grp_count_0</th>\n",
       "      <th>perf_grp_count_1</th>\n",
       "    </tr>\n",
       "  </thead>\n",
       "  <tbody>\n",
       "    <tr>\n",
       "      <th>0</th>\n",
       "      <td>9</td>\n",
       "      <td>afe6d17ed8602132cfc554e300153380</td>\n",
       "      <td>{\"cutoff\": \"quantile_0.1\", \"eval_fairness_grou...</td>\n",
       "      <td>19.863664</td>\n",
       "      <td>89710</td>\n",
       "      <td>1.0</td>\n",
       "      <td>0.101297</td>\n",
       "      <td>0.895458</td>\n",
       "      <td>0.092251</td>\n",
       "      <td>0.905006</td>\n",
       "      <td>...</td>\n",
       "      <td>NaN</td>\n",
       "      <td>NaN</td>\n",
       "      <td>NaN</td>\n",
       "      <td>NaN</td>\n",
       "      <td>NaN</td>\n",
       "      <td>NaN</td>\n",
       "      <td>NaN</td>\n",
       "      <td>NaN</td>\n",
       "      <td>NaN</td>\n",
       "      <td>NaN</td>\n",
       "    </tr>\n",
       "    <tr>\n",
       "      <th>0</th>\n",
       "      <td>9</td>\n",
       "      <td>afe6d17ed8602132cfc554e300153380</td>\n",
       "      <td>{\"cutoff\": \"quantile_0.1\", \"eval_fairness_grou...</td>\n",
       "      <td>19.863664</td>\n",
       "      <td>89710</td>\n",
       "      <td>1.0</td>\n",
       "      <td>0.101297</td>\n",
       "      <td>0.895458</td>\n",
       "      <td>0.092251</td>\n",
       "      <td>0.905006</td>\n",
       "      <td>...</td>\n",
       "      <td>0.117261</td>\n",
       "      <td>0.143210</td>\n",
       "      <td>0.968963</td>\n",
       "      <td>0.867666</td>\n",
       "      <td>0.012247</td>\n",
       "      <td>0.047484</td>\n",
       "      <td>0.971130</td>\n",
       "      <td>0.878878</td>\n",
       "      <td>20540.0</td>\n",
       "      <td>69170.0</td>\n",
       "    </tr>\n",
       "    <tr>\n",
       "      <th>0</th>\n",
       "      <td>9</td>\n",
       "      <td>afe6d17ed8602132cfc554e300153380</td>\n",
       "      <td>{\"cutoff\": \"quantile_0.25\", \"eval_fairness_gro...</td>\n",
       "      <td>19.863664</td>\n",
       "      <td>89710</td>\n",
       "      <td>1.0</td>\n",
       "      <td>0.224998</td>\n",
       "      <td>0.750707</td>\n",
       "      <td>0.206042</td>\n",
       "      <td>0.773297</td>\n",
       "      <td>...</td>\n",
       "      <td>NaN</td>\n",
       "      <td>NaN</td>\n",
       "      <td>NaN</td>\n",
       "      <td>NaN</td>\n",
       "      <td>NaN</td>\n",
       "      <td>NaN</td>\n",
       "      <td>NaN</td>\n",
       "      <td>NaN</td>\n",
       "      <td>NaN</td>\n",
       "      <td>NaN</td>\n",
       "    </tr>\n",
       "    <tr>\n",
       "      <th>0</th>\n",
       "      <td>9</td>\n",
       "      <td>afe6d17ed8602132cfc554e300153380</td>\n",
       "      <td>{\"cutoff\": \"quantile_0.25\", \"eval_fairness_gro...</td>\n",
       "      <td>19.863664</td>\n",
       "      <td>89710</td>\n",
       "      <td>1.0</td>\n",
       "      <td>0.224998</td>\n",
       "      <td>0.750707</td>\n",
       "      <td>0.206042</td>\n",
       "      <td>0.773297</td>\n",
       "      <td>...</td>\n",
       "      <td>0.121438</td>\n",
       "      <td>0.163348</td>\n",
       "      <td>0.902542</td>\n",
       "      <td>0.677545</td>\n",
       "      <td>0.042652</td>\n",
       "      <td>0.131182</td>\n",
       "      <td>0.908861</td>\n",
       "      <td>0.702819</td>\n",
       "      <td>20540.0</td>\n",
       "      <td>69170.0</td>\n",
       "    </tr>\n",
       "  </tbody>\n",
       "</table>\n",
       "<p>4 rows × 50 columns</p>\n",
       "</div>"
      ],
      "text/plain": [
       "  run_no                       universe_id  \\\n",
       "0      9  afe6d17ed8602132cfc554e300153380   \n",
       "0      9  afe6d17ed8602132cfc554e300153380   \n",
       "0      9  afe6d17ed8602132cfc554e300153380   \n",
       "0      9  afe6d17ed8602132cfc554e300153380   \n",
       "\n",
       "                                   universe_settings  execution_time  \\\n",
       "0  {\"cutoff\": \"quantile_0.1\", \"eval_fairness_grou...       19.863664   \n",
       "0  {\"cutoff\": \"quantile_0.1\", \"eval_fairness_grou...       19.863664   \n",
       "0  {\"cutoff\": \"quantile_0.25\", \"eval_fairness_gro...       19.863664   \n",
       "0  {\"cutoff\": \"quantile_0.25\", \"eval_fairness_gro...       19.863664   \n",
       "\n",
       "   test_size_n  test_size_frac  fair_main_equalized_odds_difference  \\\n",
       "0        89710             1.0                             0.101297   \n",
       "0        89710             1.0                             0.101297   \n",
       "0        89710             1.0                             0.224998   \n",
       "0        89710             1.0                             0.224998   \n",
       "\n",
       "   fair_main_equalized_odds_ratio  fair_main_demographic_parity_difference  \\\n",
       "0                        0.895458                                 0.092251   \n",
       "0                        0.895458                                 0.092251   \n",
       "0                        0.750707                                 0.206042   \n",
       "0                        0.750707                                 0.206042   \n",
       "\n",
       "   fair_main_demographic_parity_ratio  ...  perf_grp_precision_0  \\\n",
       "0                            0.905006  ...                   NaN   \n",
       "0                            0.905006  ...              0.117261   \n",
       "0                            0.773297  ...                   NaN   \n",
       "0                            0.773297  ...              0.121438   \n",
       "\n",
       "   perf_grp_precision_1  perf_grp_false positive rate_0  \\\n",
       "0                   NaN                             NaN   \n",
       "0              0.143210                        0.968963   \n",
       "0                   NaN                             NaN   \n",
       "0              0.163348                        0.902542   \n",
       "\n",
       "   perf_grp_false positive rate_1  perf_grp_false negative rate_0  \\\n",
       "0                             NaN                             NaN   \n",
       "0                        0.867666                        0.012247   \n",
       "0                             NaN                             NaN   \n",
       "0                        0.677545                        0.042652   \n",
       "\n",
       "   perf_grp_false negative rate_1  perf_grp_selection rate_0  \\\n",
       "0                             NaN                        NaN   \n",
       "0                        0.047484                   0.971130   \n",
       "0                             NaN                        NaN   \n",
       "0                        0.131182                   0.908861   \n",
       "\n",
       "   perf_grp_selection rate_1  perf_grp_count_0  perf_grp_count_1  \n",
       "0                        NaN               NaN               NaN  \n",
       "0                   0.878878           20540.0           69170.0  \n",
       "0                        NaN               NaN               NaN  \n",
       "0                   0.702819           20540.0           69170.0  \n",
       "\n",
       "[4 rows x 50 columns]"
      ]
     },
     "execution_count": 61,
     "metadata": {},
     "output_type": "execute_result"
    }
   ],
   "source": [
    "final_output = universe_analysis.generate_final_output(\n",
    "    y_pred_prob=probs_test,\n",
    "    y_test=y_true,\n",
    "    org_test=org_test,\n",
    "    filter_data=filter_sub_universe_data,\n",
    "    cp_metrics_df=cp_metrics_df,\n",
    "    save=True,\n",
    ")\n",
    "final_output"
   ]
  },
  {
   "cell_type": "code",
   "execution_count": null,
   "id": "721ff514-cb11-46f8-b6fc-50392f74b5cb",
   "metadata": {
    "papermill": {
     "duration": 0.02873,
     "end_time": "2025-07-23T14:35:51.151872",
     "exception": false,
     "start_time": "2025-07-23T14:35:51.123142",
     "status": "completed"
    },
    "tags": []
   },
   "outputs": [],
   "source": []
  }
 ],
 "metadata": {
  "celltoolbar": "Tags",
  "kernelspec": {
   "display_name": "Python (CMA Fairness)",
   "language": "python",
   "name": "cma_fair_env"
  },
  "language_info": {
   "codemirror_mode": {
    "name": "ipython",
    "version": 3
   },
   "file_extension": ".py",
   "mimetype": "text/x-python",
   "name": "python",
   "nbconvert_exporter": "python",
   "pygments_lexer": "ipython3",
   "version": "3.10.12"
  },
  "papermill": {
   "default_parameters": {},
   "duration": 35.52375,
   "end_time": "2025-07-23T14:35:52.000829",
   "environment_variables": {},
   "exception": null,
   "input_path": "universe_analysis.ipynb",
   "output_path": "output/runs/9/notebooks/m_9-afe6d17ed8602132cfc554e300153380.ipynb",
   "parameters": {
    "output_dir": "output",
    "run_no": "9",
    "seed": "2023",
    "universe": "{\"cutoff\": [\"quantile_0.1\", \"quantile_0.25\"], \"eval_fairness_grouping\": [\"majority-minority\", \"nationality-all\"], \"exclude_features\": \"nationality\", \"exclude_subgroups\": \"drop-non-german\", \"model\": \"penalized_logreg\", \"scale\": \"do-not-scale\"}",
    "universe_id": "afe6d17ed8602132cfc554e300153380"
   },
   "start_time": "2025-07-23T14:35:16.477079",
   "version": "2.6.0"
  }
 },
 "nbformat": 4,
 "nbformat_minor": 5
}