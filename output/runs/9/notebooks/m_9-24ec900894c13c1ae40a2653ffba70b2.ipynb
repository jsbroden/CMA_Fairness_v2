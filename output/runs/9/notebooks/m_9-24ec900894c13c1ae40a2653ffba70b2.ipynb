{
 "cells": [
  {
   "cell_type": "code",
   "execution_count": 1,
   "id": "f159f837-637b-42ba-96b5-ec9a68c44524",
   "metadata": {
    "execution": {
     "iopub.execute_input": "2025-07-23T14:37:35.451164Z",
     "iopub.status.busy": "2025-07-23T14:37:35.450710Z",
     "iopub.status.idle": "2025-07-23T14:37:35.474557Z",
     "shell.execute_reply": "2025-07-23T14:37:35.473531Z"
    },
    "papermill": {
     "duration": 0.058572,
     "end_time": "2025-07-23T14:37:35.476668",
     "exception": false,
     "start_time": "2025-07-23T14:37:35.418096",
     "status": "completed"
    },
    "tags": []
   },
   "outputs": [
    {
     "name": "stdout",
     "output_type": "stream",
     "text": [
      "/dss/dsshome1/0C/ra93lal2/cma/CMA_Fairness_v2\n"
     ]
    },
    {
     "name": "stderr",
     "output_type": "stream",
     "text": [
      "/dss/dsshome1/0C/ra93lal2/.local/share/virtualenvs/CMA_Fairness_v2-3j10GkSs/lib/python3.10/site-packages/IPython/core/magics/osm.py:393: UserWarning: This is now an optional IPython functionality, using bookmarks requires you to install the `pickleshare` library.\n",
      "  bkms = self.shell.db.get('bookmarks', {})\n",
      "/dss/dsshome1/0C/ra93lal2/.local/share/virtualenvs/CMA_Fairness_v2-3j10GkSs/lib/python3.10/site-packages/IPython/core/magics/osm.py:417: UserWarning: This is now an optional IPython functionality, setting dhist requires you to install the `pickleshare` library.\n",
      "  self.shell.db['dhist'] = compress_dhist(dhist)[-100:]\n"
     ]
    }
   ],
   "source": [
    "%cd ~/cma/CMA_Fairness_v2"
   ]
  },
  {
   "cell_type": "markdown",
   "id": "de2603b9",
   "metadata": {
    "papermill": {
     "duration": 0.018249,
     "end_time": "2025-07-23T14:37:35.525031",
     "exception": false,
     "start_time": "2025-07-23T14:37:35.506782",
     "status": "completed"
    },
    "tags": []
   },
   "source": [
    "The following cell holds the definition of our parameters, these values can be overriden by rendering the with e.g. the following command:\n",
    "\n",
    "papermill -p alpha 0.2 -p ratio 0.3 universe_analysis.ipynb output/test_run.ipynb"
   ]
  },
  {
   "cell_type": "code",
   "execution_count": 2,
   "id": "a80968a0-40bb-4fa9-85ef-2d5eefb01975",
   "metadata": {
    "execution": {
     "iopub.execute_input": "2025-07-23T14:37:35.563407Z",
     "iopub.status.busy": "2025-07-23T14:37:35.562944Z",
     "iopub.status.idle": "2025-07-23T14:37:35.569216Z",
     "shell.execute_reply": "2025-07-23T14:37:35.568080Z"
    },
    "papermill": {
     "duration": 0.030274,
     "end_time": "2025-07-23T14:37:35.574033",
     "exception": false,
     "start_time": "2025-07-23T14:37:35.543759",
     "status": "completed"
    },
    "tags": []
   },
   "outputs": [
    {
     "name": "stdout",
     "output_type": "stream",
     "text": [
      "Current working directory: /dss/dsshome1/0C/ra93lal2/cma/CMA_Fairness_v2\n"
     ]
    }
   ],
   "source": [
    "import os\n",
    "print(\"Current working directory:\", os.getcwd())"
   ]
  },
  {
   "cell_type": "code",
   "execution_count": 3,
   "id": "2dce4c03",
   "metadata": {
    "execution": {
     "iopub.execute_input": "2025-07-23T14:37:35.612571Z",
     "iopub.status.busy": "2025-07-23T14:37:35.612101Z",
     "iopub.status.idle": "2025-07-23T14:37:35.619201Z",
     "shell.execute_reply": "2025-07-23T14:37:35.618056Z"
    },
    "papermill": {
     "duration": 0.029531,
     "end_time": "2025-07-23T14:37:35.621810",
     "exception": false,
     "start_time": "2025-07-23T14:37:35.592279",
     "status": "completed"
    },
    "tags": [
     "parameters"
    ]
   },
   "outputs": [],
   "source": [
    "run_no = 0\n",
    "universe_id = \"test\"\n",
    "universe = {\n",
    "    \"scale\": \"scale\", # \"scale\", \"do-not-scale\",\n",
    "    \"model\": \"elasticnet\", # \"logreg\", \"penalized_logreg\", \"rf\", \"gbm\", \"elasticnet\"\n",
    "    \"cutoff\": [\"quantile_0.15\", \"quantile_0.30\"],\n",
    "    \"exclude_features\": \"age\", # \"none\", \"nationality\", \"sex\", \"nationality-sex\", \"age\"\n",
    "    \"exclude_subgroups\": \"keep-all\", # \"keep-all\", \"drop-non-german\"\n",
    "    #\"training_sample\": \"restricted\", # \"restricted\", \"full\"\n",
    "    \"eval_fairness_grouping\": [\"majority-minority\", \"nationality-all\"]\n",
    "}\n",
    "\n",
    "output_dir=\"./output\"\n",
    "seed=0"
   ]
  },
  {
   "cell_type": "code",
   "execution_count": 4,
   "id": "3615edc7",
   "metadata": {
    "execution": {
     "iopub.execute_input": "2025-07-23T14:37:35.666336Z",
     "iopub.status.busy": "2025-07-23T14:37:35.665839Z",
     "iopub.status.idle": "2025-07-23T14:37:35.671743Z",
     "shell.execute_reply": "2025-07-23T14:37:35.670642Z"
    },
    "papermill": {
     "duration": 0.033545,
     "end_time": "2025-07-23T14:37:35.675101",
     "exception": false,
     "start_time": "2025-07-23T14:37:35.641556",
     "status": "completed"
    },
    "tags": [
     "injected-parameters"
    ]
   },
   "outputs": [],
   "source": [
    "# Parameters\n",
    "universe_id = \"24ec900894c13c1ae40a2653ffba70b2\"\n",
    "run_no = \"9\"\n",
    "universe = \"{\\\"cutoff\\\": [\\\"quantile_0.1\\\", \\\"quantile_0.25\\\"], \\\"eval_fairness_grouping\\\": [\\\"majority-minority\\\", \\\"nationality-all\\\"], \\\"exclude_features\\\": \\\"none\\\", \\\"exclude_subgroups\\\": \\\"keep-all\\\", \\\"model\\\": \\\"gbm\\\", \\\"scale\\\": \\\"do-not-scale\\\"}\"\n",
    "output_dir = \"output\"\n",
    "seed = \"2023\"\n"
   ]
  },
  {
   "cell_type": "code",
   "execution_count": 5,
   "id": "1650acaf",
   "metadata": {
    "execution": {
     "iopub.execute_input": "2025-07-23T14:37:35.725114Z",
     "iopub.status.busy": "2025-07-23T14:37:35.724656Z",
     "iopub.status.idle": "2025-07-23T14:37:35.730241Z",
     "shell.execute_reply": "2025-07-23T14:37:35.729200Z"
    },
    "papermill": {
     "duration": 0.03918,
     "end_time": "2025-07-23T14:37:35.733714",
     "exception": false,
     "start_time": "2025-07-23T14:37:35.694534",
     "status": "completed"
    },
    "tags": []
   },
   "outputs": [],
   "source": [
    "import json\n",
    "# Parse universe into dict if it is passed as a string\n",
    "if isinstance(universe, str):\n",
    "    universe = json.loads(universe)"
   ]
  },
  {
   "cell_type": "code",
   "execution_count": 6,
   "id": "16620c48",
   "metadata": {
    "execution": {
     "iopub.execute_input": "2025-07-23T14:37:35.790951Z",
     "iopub.status.busy": "2025-07-23T14:37:35.790462Z",
     "iopub.status.idle": "2025-07-23T14:37:35.895864Z",
     "shell.execute_reply": "2025-07-23T14:37:35.894729Z"
    },
    "papermill": {
     "duration": 0.145221,
     "end_time": "2025-07-23T14:37:35.898501",
     "exception": false,
     "start_time": "2025-07-23T14:37:35.753280",
     "status": "completed"
    },
    "tags": []
   },
   "outputs": [],
   "source": [
    "# Auto-reload the custom package\n",
    "%load_ext autoreload\n",
    "%autoreload 1\n",
    "%aimport fairness_multiverse"
   ]
  },
  {
   "cell_type": "code",
   "execution_count": 7,
   "id": "01c5c9f3",
   "metadata": {
    "execution": {
     "iopub.execute_input": "2025-07-23T14:37:35.964124Z",
     "iopub.status.busy": "2025-07-23T14:37:35.963744Z",
     "iopub.status.idle": "2025-07-23T14:37:40.927350Z",
     "shell.execute_reply": "2025-07-23T14:37:40.926041Z"
    },
    "papermill": {
     "duration": 4.992801,
     "end_time": "2025-07-23T14:37:40.929998",
     "exception": false,
     "start_time": "2025-07-23T14:37:35.937197",
     "status": "completed"
    },
    "tags": []
   },
   "outputs": [],
   "source": [
    "from fairness_multiverse.universe import UniverseAnalysis\n",
    "\n",
    "universe_analysis = UniverseAnalysis(\n",
    "    run_no = run_no,\n",
    "    universe_id = universe_id,\n",
    "    universe = universe,\n",
    "    output_dir=output_dir,\n",
    ")"
   ]
  },
  {
   "cell_type": "code",
   "execution_count": 8,
   "id": "106241f5",
   "metadata": {
    "execution": {
     "iopub.execute_input": "2025-07-23T14:37:41.004665Z",
     "iopub.status.busy": "2025-07-23T14:37:41.004156Z",
     "iopub.status.idle": "2025-07-23T14:37:41.012475Z",
     "shell.execute_reply": "2025-07-23T14:37:41.011111Z"
    },
    "papermill": {
     "duration": 0.064397,
     "end_time": "2025-07-23T14:37:41.019991",
     "exception": false,
     "start_time": "2025-07-23T14:37:40.955594",
     "status": "completed"
    },
    "tags": []
   },
   "outputs": [
    {
     "name": "stdout",
     "output_type": "stream",
     "text": [
      "Using Seed: 2023\n"
     ]
    }
   ],
   "source": [
    "import numpy as np\n",
    "parsed_seed = int(seed)\n",
    "np.random.seed(parsed_seed)\n",
    "print(f\"Using Seed: {parsed_seed}\")"
   ]
  },
  {
   "cell_type": "markdown",
   "id": "e0ebdc57",
   "metadata": {
    "papermill": {
     "duration": 0.032886,
     "end_time": "2025-07-23T14:37:41.105558",
     "exception": false,
     "start_time": "2025-07-23T14:37:41.072672",
     "status": "completed"
    },
    "tags": []
   },
   "source": [
    "# Loading Data"
   ]
  },
  {
   "cell_type": "markdown",
   "id": "681925a3",
   "metadata": {
    "papermill": {
     "duration": 0.018953,
     "end_time": "2025-07-23T14:37:41.148341",
     "exception": false,
     "start_time": "2025-07-23T14:37:41.129388",
     "status": "completed"
    },
    "tags": []
   },
   "source": [
    "Load siab_train, siab_test, siab_calib and/or \n",
    "load siab_train_features, siab_train_labels"
   ]
  },
  {
   "cell_type": "code",
   "execution_count": 9,
   "id": "f0496b8a",
   "metadata": {
    "execution": {
     "iopub.execute_input": "2025-07-23T14:37:41.188225Z",
     "iopub.status.busy": "2025-07-23T14:37:41.187774Z",
     "iopub.status.idle": "2025-07-23T14:37:41.194683Z",
     "shell.execute_reply": "2025-07-23T14:37:41.193437Z"
    },
    "papermill": {
     "duration": 0.031017,
     "end_time": "2025-07-23T14:37:41.198384",
     "exception": false,
     "start_time": "2025-07-23T14:37:41.167367",
     "status": "completed"
    },
    "tags": []
   },
   "outputs": [],
   "source": [
    "# Do I need to load siab? Delete this cell?\n",
    "\n",
    "#from pathlib import Path\n",
    "#import pandas as pd\n",
    "#\n",
    "## File paths\n",
    "#raw_file = Path(\"data/raw/siab.csv\")\n",
    "#cache_file = Path(\"data/siab_cached.csv.gz\")\n",
    "#\n",
    "## Ensure cache directory exists\n",
    "#cache_file.parent.mkdir(parents=True, exist_ok=True)\n",
    "#\n",
    "## Load with simple caching\n",
    "#if cache_file.exists():\n",
    "#    print(f\"Loading SIAB data from cache: {cache_file}\")\n",
    "#    siab = pd.read_csv(cache_file, compression='gzip')\n",
    "#else:\n",
    "#    print(f\"Cache not found. Reading raw SIAB data: {raw_file}\")\n",
    "#    siab = pd.read_csv(raw_file)\n",
    "#    siab.to_csv(cache_file, index=False, compression='gzip')\n",
    "#    print(f\"Cached SIAB data to: {cache_file}\")\n",
    "#\n",
    "## Now use `siab` DataFrame as needed\n",
    "#print(siab.shape)\n"
   ]
  },
  {
   "cell_type": "code",
   "execution_count": 10,
   "id": "a0edb063",
   "metadata": {
    "execution": {
     "iopub.execute_input": "2025-07-23T14:37:41.239939Z",
     "iopub.status.busy": "2025-07-23T14:37:41.239491Z",
     "iopub.status.idle": "2025-07-23T14:37:43.995980Z",
     "shell.execute_reply": "2025-07-23T14:37:43.994810Z"
    },
    "papermill": {
     "duration": 2.780354,
     "end_time": "2025-07-23T14:37:43.998688",
     "exception": false,
     "start_time": "2025-07-23T14:37:41.218334",
     "status": "completed"
    },
    "tags": []
   },
   "outputs": [],
   "source": [
    "import pandas as pd\n",
    "\n",
    "X_train = pd.read_csv(\"./data/X_train.csv\")\n",
    "y_train = pd.read_csv(\"./data/y_train.csv\")"
   ]
  },
  {
   "cell_type": "code",
   "execution_count": 11,
   "id": "63d08085",
   "metadata": {
    "execution": {
     "iopub.execute_input": "2025-07-23T14:37:44.083448Z",
     "iopub.status.busy": "2025-07-23T14:37:44.082954Z",
     "iopub.status.idle": "2025-07-23T14:37:46.910302Z",
     "shell.execute_reply": "2025-07-23T14:37:46.909040Z"
    },
    "papermill": {
     "duration": 2.877439,
     "end_time": "2025-07-23T14:37:46.912525",
     "exception": false,
     "start_time": "2025-07-23T14:37:44.035086",
     "status": "completed"
    },
    "tags": []
   },
   "outputs": [],
   "source": [
    "X_test = pd.read_csv(\"./data/X_test.csv\")\n",
    "y_true = pd.read_csv(\"./data/y_test.csv\")"
   ]
  },
  {
   "cell_type": "code",
   "execution_count": 12,
   "id": "98a8d0fa-1d3d-4ed8-bb2c-281470e24add",
   "metadata": {
    "execution": {
     "iopub.execute_input": "2025-07-23T14:37:47.055504Z",
     "iopub.status.busy": "2025-07-23T14:37:47.054336Z",
     "iopub.status.idle": "2025-07-23T14:37:50.391513Z",
     "shell.execute_reply": "2025-07-23T14:37:50.389881Z"
    },
    "papermill": {
     "duration": 3.430516,
     "end_time": "2025-07-23T14:37:50.393754",
     "exception": false,
     "start_time": "2025-07-23T14:37:46.963238",
     "status": "completed"
    },
    "tags": []
   },
   "outputs": [],
   "source": [
    "# Calibration data for conformal\n",
    "X_calib = pd.read_csv(\"./data/X_calib.csv\")\n",
    "y_calib = pd.read_csv(\"./data/y_calib.csv\")"
   ]
  },
  {
   "cell_type": "code",
   "execution_count": 13,
   "id": "e6c733c5",
   "metadata": {
    "execution": {
     "iopub.execute_input": "2025-07-23T14:37:50.464000Z",
     "iopub.status.busy": "2025-07-23T14:37:50.462937Z",
     "iopub.status.idle": "2025-07-23T14:37:50.691131Z",
     "shell.execute_reply": "2025-07-23T14:37:50.690048Z"
    },
    "papermill": {
     "duration": 0.265957,
     "end_time": "2025-07-23T14:37:50.693561",
     "exception": false,
     "start_time": "2025-07-23T14:37:50.427604",
     "status": "completed"
    },
    "tags": []
   },
   "outputs": [],
   "source": [
    "# Auxiliary data needed downstream in the pipeline\n",
    "\n",
    "org_train = X_train.copy()\n",
    "org_test = X_test.copy()\n",
    "org_calib = X_calib.copy()"
   ]
  },
  {
   "cell_type": "markdown",
   "id": "0a4a1b33",
   "metadata": {
    "papermill": {
     "duration": 0.0446,
     "end_time": "2025-07-23T14:37:50.773029",
     "exception": false,
     "start_time": "2025-07-23T14:37:50.728429",
     "status": "completed"
    },
    "tags": []
   },
   "source": [
    "# Preprocessing Data"
   ]
  },
  {
   "cell_type": "code",
   "execution_count": 14,
   "id": "ca879031",
   "metadata": {
    "execution": {
     "iopub.execute_input": "2025-07-23T14:37:50.843211Z",
     "iopub.status.busy": "2025-07-23T14:37:50.842796Z",
     "iopub.status.idle": "2025-07-23T14:37:50.850912Z",
     "shell.execute_reply": "2025-07-23T14:37:50.849717Z"
    },
    "papermill": {
     "duration": 0.046208,
     "end_time": "2025-07-23T14:37:50.853209",
     "exception": false,
     "start_time": "2025-07-23T14:37:50.807001",
     "status": "completed"
    },
    "tags": []
   },
   "outputs": [],
   "source": [
    "# EXCLUDE PROTECTED FEATURES\n",
    "# ----------------------\n",
    "# \"exclude_features\": \"none\", # \"nationality\", \"sex\", \"nationality-sex\"\n",
    "\n",
    "excluded_features = universe[\"exclude_features\"].split(\"-\") # split, e.g.: \"nationality-sex\" -> [\"nationality\", \"sex\"]\n",
    "excluded_features_dictionary = {\n",
    "    \"nationality\": [\"maxdeutsch1\", \"maxdeutsch.Missing.\"],\n",
    "    \"sex\": [\"frau1\"],\n",
    "    \"age\": [\"age\"],\n",
    "}\n"
   ]
  },
  {
   "cell_type": "code",
   "execution_count": 15,
   "id": "b745ac60",
   "metadata": {
    "execution": {
     "iopub.execute_input": "2025-07-23T14:37:50.967595Z",
     "iopub.status.busy": "2025-07-23T14:37:50.967146Z",
     "iopub.status.idle": "2025-07-23T14:37:50.975149Z",
     "shell.execute_reply": "2025-07-23T14:37:50.973946Z"
    },
    "papermill": {
     "duration": 0.095519,
     "end_time": "2025-07-23T14:37:50.977178",
     "exception": false,
     "start_time": "2025-07-23T14:37:50.881659",
     "status": "completed"
    },
    "tags": []
   },
   "outputs": [],
   "source": [
    "# Code nice names to column names\n",
    "\n",
    "excluded_features_columns = [\n",
    "    excluded_features_dictionary[f] for f in excluded_features if len(f) > 0 and f != \"none\"\n",
    "]"
   ]
  },
  {
   "cell_type": "code",
   "execution_count": 16,
   "id": "f84f73a2",
   "metadata": {
    "execution": {
     "iopub.execute_input": "2025-07-23T14:37:51.073386Z",
     "iopub.status.busy": "2025-07-23T14:37:51.072950Z",
     "iopub.status.idle": "2025-07-23T14:37:51.081231Z",
     "shell.execute_reply": "2025-07-23T14:37:51.080045Z"
    },
    "papermill": {
     "duration": 0.046465,
     "end_time": "2025-07-23T14:37:51.083325",
     "exception": false,
     "start_time": "2025-07-23T14:37:51.036860",
     "status": "completed"
    },
    "tags": []
   },
   "outputs": [],
   "source": [
    "from utils import flatten_once\n",
    "\n",
    "excluded_features_columns = flatten_once(excluded_features_columns)"
   ]
  },
  {
   "cell_type": "code",
   "execution_count": 17,
   "id": "884dea22",
   "metadata": {
    "execution": {
     "iopub.execute_input": "2025-07-23T14:37:51.166042Z",
     "iopub.status.busy": "2025-07-23T14:37:51.165607Z",
     "iopub.status.idle": "2025-07-23T14:37:51.173404Z",
     "shell.execute_reply": "2025-07-23T14:37:51.172251Z"
    },
    "papermill": {
     "duration": 0.046653,
     "end_time": "2025-07-23T14:37:51.175763",
     "exception": false,
     "start_time": "2025-07-23T14:37:51.129110",
     "status": "completed"
    },
    "tags": []
   },
   "outputs": [],
   "source": [
    "if len(excluded_features_columns) > 0:\n",
    "    print(f\"Dropping features: {excluded_features_columns}\")\n",
    "    X_train.drop(excluded_features_columns, axis=1, inplace=True)"
   ]
  },
  {
   "cell_type": "code",
   "execution_count": 18,
   "id": "95ab8b16",
   "metadata": {
    "execution": {
     "iopub.execute_input": "2025-07-23T14:37:51.259898Z",
     "iopub.status.busy": "2025-07-23T14:37:51.259492Z",
     "iopub.status.idle": "2025-07-23T14:37:51.267294Z",
     "shell.execute_reply": "2025-07-23T14:37:51.266154Z"
    },
    "papermill": {
     "duration": 0.048363,
     "end_time": "2025-07-23T14:37:51.269254",
     "exception": false,
     "start_time": "2025-07-23T14:37:51.220891",
     "status": "completed"
    },
    "tags": []
   },
   "outputs": [],
   "source": [
    "if len(excluded_features_columns) > 0:\n",
    "    print(f\"Dropping features: {excluded_features_columns}\")\n",
    "    X_test.drop(excluded_features_columns, axis=1, inplace=True)"
   ]
  },
  {
   "cell_type": "code",
   "execution_count": 19,
   "id": "1853aaf5-fb9f-46cb-a2b5-8ea4ae2237e4",
   "metadata": {
    "execution": {
     "iopub.execute_input": "2025-07-23T14:37:51.375484Z",
     "iopub.status.busy": "2025-07-23T14:37:51.374307Z",
     "iopub.status.idle": "2025-07-23T14:37:51.381327Z",
     "shell.execute_reply": "2025-07-23T14:37:51.380371Z"
    },
    "papermill": {
     "duration": 0.066473,
     "end_time": "2025-07-23T14:37:51.383149",
     "exception": false,
     "start_time": "2025-07-23T14:37:51.316676",
     "status": "completed"
    },
    "tags": []
   },
   "outputs": [],
   "source": [
    "if len(excluded_features_columns) > 0:\n",
    "    print(f\"Dropping features: {excluded_features_columns}\")\n",
    "    X_calib.drop(excluded_features_columns, axis=1, inplace=True)"
   ]
  },
  {
   "cell_type": "code",
   "execution_count": 20,
   "id": "76c4dc6d",
   "metadata": {
    "execution": {
     "iopub.execute_input": "2025-07-23T14:37:51.511715Z",
     "iopub.status.busy": "2025-07-23T14:37:51.511254Z",
     "iopub.status.idle": "2025-07-23T14:37:51.519250Z",
     "shell.execute_reply": "2025-07-23T14:37:51.518110Z"
    },
    "papermill": {
     "duration": 0.072456,
     "end_time": "2025-07-23T14:37:51.521379",
     "exception": false,
     "start_time": "2025-07-23T14:37:51.448923",
     "status": "completed"
    },
    "tags": []
   },
   "outputs": [],
   "source": [
    "# EXCLUDE CERTAIN SUBGROUPS\n",
    "# ----------------------\n",
    "\n",
    "mode = universe.get(\"exclude_subgroups\", \"keep-all\") \n",
    "# Fetches the exclude_subgroups setting from the universe dict.\n",
    "# Defaults to \"keep-all\" if the key is missing."
   ]
  },
  {
   "cell_type": "code",
   "execution_count": 21,
   "id": "21994072",
   "metadata": {
    "execution": {
     "iopub.execute_input": "2025-07-23T14:37:51.622270Z",
     "iopub.status.busy": "2025-07-23T14:37:51.621795Z",
     "iopub.status.idle": "2025-07-23T14:37:51.631670Z",
     "shell.execute_reply": "2025-07-23T14:37:51.630432Z"
    },
    "papermill": {
     "duration": 0.049297,
     "end_time": "2025-07-23T14:37:51.633977",
     "exception": false,
     "start_time": "2025-07-23T14:37:51.584680",
     "status": "completed"
    },
    "tags": []
   },
   "outputs": [],
   "source": [
    "if mode == \"keep-all\":\n",
    "    keep_mask = pd.Series(True, index=org_train.index)\n",
    "\n",
    "# org_train contains the original feature columns from features_org (in Simson)\n",
    "# features_org contains unprocessed features, for me X_train at beginning ???\n",
    "# For keep-all, creates a boolean Series (keep_mask) of all True, so no rows are removed.\n",
    "\n",
    "elif mode == \"drop-non-german\":\n",
    "    keep_mask = org_train[\"maxdeutsch1\"] == 1 # ??? what about missing values?\n",
    "\n",
    "else:\n",
    "    raise ValueError(f\"Unsupported mode for exclude_subgroups: {mode}\")\n"
   ]
  },
  {
   "cell_type": "code",
   "execution_count": 22,
   "id": "71651440",
   "metadata": {
    "execution": {
     "iopub.execute_input": "2025-07-23T14:37:51.722976Z",
     "iopub.status.busy": "2025-07-23T14:37:51.722514Z",
     "iopub.status.idle": "2025-07-23T14:37:51.731050Z",
     "shell.execute_reply": "2025-07-23T14:37:51.730009Z"
    },
    "papermill": {
     "duration": 0.056279,
     "end_time": "2025-07-23T14:37:51.734492",
     "exception": false,
     "start_time": "2025-07-23T14:37:51.678213",
     "status": "completed"
    },
    "tags": []
   },
   "outputs": [],
   "source": [
    "n_drop = (~keep_mask).sum() # Calculates how many rows are set to be dropped\n",
    "if n_drop > 0:\n",
    "    pct = n_drop / len(keep_mask) * 100\n",
    "    print(f\"Dropping {n_drop} rows ({pct:.2f}%) where mode='{mode}'\")"
   ]
  },
  {
   "cell_type": "code",
   "execution_count": 23,
   "id": "5fb8eee5",
   "metadata": {
    "execution": {
     "iopub.execute_input": "2025-07-23T14:37:51.851210Z",
     "iopub.status.busy": "2025-07-23T14:37:51.850787Z",
     "iopub.status.idle": "2025-07-23T14:37:51.974933Z",
     "shell.execute_reply": "2025-07-23T14:37:51.973638Z"
    },
    "papermill": {
     "duration": 0.188447,
     "end_time": "2025-07-23T14:37:51.977551",
     "exception": false,
     "start_time": "2025-07-23T14:37:51.789104",
     "status": "completed"
    },
    "tags": []
   },
   "outputs": [],
   "source": [
    "X_train = X_train[keep_mask]"
   ]
  },
  {
   "cell_type": "code",
   "execution_count": 24,
   "id": "b202bb3a",
   "metadata": {
    "execution": {
     "iopub.execute_input": "2025-07-23T14:37:52.055188Z",
     "iopub.status.busy": "2025-07-23T14:37:52.054705Z",
     "iopub.status.idle": "2025-07-23T14:37:52.064367Z",
     "shell.execute_reply": "2025-07-23T14:37:52.062941Z"
    },
    "papermill": {
     "duration": 0.045222,
     "end_time": "2025-07-23T14:37:52.066293",
     "exception": false,
     "start_time": "2025-07-23T14:37:52.021071",
     "status": "completed"
    },
    "tags": []
   },
   "outputs": [],
   "source": [
    "y_train = y_train[keep_mask]"
   ]
  },
  {
   "cell_type": "markdown",
   "id": "493e2ac3",
   "metadata": {
    "papermill": {
     "duration": 0.019981,
     "end_time": "2025-07-23T14:37:52.106587",
     "exception": false,
     "start_time": "2025-07-23T14:37:52.086606",
     "status": "completed"
    },
    "tags": []
   },
   "source": [
    "# Model Training"
   ]
  },
  {
   "cell_type": "code",
   "execution_count": 25,
   "id": "679e1268",
   "metadata": {
    "execution": {
     "iopub.execute_input": "2025-07-23T14:37:52.181316Z",
     "iopub.status.busy": "2025-07-23T14:37:52.180885Z",
     "iopub.status.idle": "2025-07-23T14:37:52.448271Z",
     "shell.execute_reply": "2025-07-23T14:37:52.447155Z"
    },
    "papermill": {
     "duration": 0.310711,
     "end_time": "2025-07-23T14:37:52.450557",
     "exception": false,
     "start_time": "2025-07-23T14:37:52.139846",
     "status": "completed"
    },
    "tags": []
   },
   "outputs": [],
   "source": [
    "from sklearn.linear_model import LogisticRegression\n",
    "from sklearn.ensemble import GradientBoostingClassifier, RandomForestClassifier\n",
    "\n",
    "if (universe[\"model\"] == \"logreg\"):\n",
    "    model = LogisticRegression() #penalty=\"none\") #, solver=\"newton-cg\", max_iter=1) # include random_state=19 ?\n",
    "elif (universe[\"model\"] == \"penalized_logreg\"):\n",
    "    model = LogisticRegression(penalty=\"l2\", C=1.0) #, solver=\"newton-cg\", max_iter=1)\n",
    "elif (universe[\"model\"] == \"rf\"):\n",
    "    model = RandomForestClassifier(n_estimators=100, n_jobs=-1)\n",
    "elif (universe[\"model\"] == \"gbm\"):\n",
    "    model = GradientBoostingClassifier()\n",
    "elif (universe[\"model\"] == \"elasticnet\"):\n",
    "    model = LogisticRegression(penalty = 'elasticnet', solver = 'saga', l1_ratio = 0.5, max_iter=5000) # which solver to use?\n",
    "else:\n",
    "    raise \"Unsupported universe.model\""
   ]
  },
  {
   "cell_type": "code",
   "execution_count": 26,
   "id": "0cc8f744",
   "metadata": {
    "execution": {
     "iopub.execute_input": "2025-07-23T14:37:52.552344Z",
     "iopub.status.busy": "2025-07-23T14:37:52.551840Z",
     "iopub.status.idle": "2025-07-23T14:37:52.560715Z",
     "shell.execute_reply": "2025-07-23T14:37:52.559412Z"
    },
    "papermill": {
     "duration": 0.082165,
     "end_time": "2025-07-23T14:37:52.563003",
     "exception": false,
     "start_time": "2025-07-23T14:37:52.480838",
     "status": "completed"
    },
    "tags": []
   },
   "outputs": [],
   "source": [
    "import numpy as np\n",
    "from sklearn.pipeline import Pipeline\n",
    "from sklearn.preprocessing import StandardScaler\n",
    "\n",
    "model = Pipeline([\n",
    "    #(\"continuous_processor\", continuous_processor),\n",
    "    #(\"categorical_preprocessor\", categorical_preprocessor),\n",
    "    (\"scale\", StandardScaler() if universe[\"scale\"] == \"scale\" else None), \n",
    "    (\"model\", model),\n",
    "])"
   ]
  },
  {
   "cell_type": "code",
   "execution_count": 27,
   "id": "9442c04d",
   "metadata": {
    "execution": {
     "iopub.execute_input": "2025-07-23T14:37:52.637845Z",
     "iopub.status.busy": "2025-07-23T14:37:52.637370Z",
     "iopub.status.idle": "2025-07-23T14:39:33.546719Z",
     "shell.execute_reply": "2025-07-23T14:39:33.545519Z"
    },
    "papermill": {
     "duration": 100.956575,
     "end_time": "2025-07-23T14:39:33.562597",
     "exception": false,
     "start_time": "2025-07-23T14:37:52.606022",
     "status": "completed"
    },
    "tags": []
   },
   "outputs": [
    {
     "data": {
      "text/html": [
       "<style>#sk-container-id-1 {color: black;background-color: white;}#sk-container-id-1 pre{padding: 0;}#sk-container-id-1 div.sk-toggleable {background-color: white;}#sk-container-id-1 label.sk-toggleable__label {cursor: pointer;display: block;width: 100%;margin-bottom: 0;padding: 0.3em;box-sizing: border-box;text-align: center;}#sk-container-id-1 label.sk-toggleable__label-arrow:before {content: \"▸\";float: left;margin-right: 0.25em;color: #696969;}#sk-container-id-1 label.sk-toggleable__label-arrow:hover:before {color: black;}#sk-container-id-1 div.sk-estimator:hover label.sk-toggleable__label-arrow:before {color: black;}#sk-container-id-1 div.sk-toggleable__content {max-height: 0;max-width: 0;overflow: hidden;text-align: left;background-color: #f0f8ff;}#sk-container-id-1 div.sk-toggleable__content pre {margin: 0.2em;color: black;border-radius: 0.25em;background-color: #f0f8ff;}#sk-container-id-1 input.sk-toggleable__control:checked~div.sk-toggleable__content {max-height: 200px;max-width: 100%;overflow: auto;}#sk-container-id-1 input.sk-toggleable__control:checked~label.sk-toggleable__label-arrow:before {content: \"▾\";}#sk-container-id-1 div.sk-estimator input.sk-toggleable__control:checked~label.sk-toggleable__label {background-color: #d4ebff;}#sk-container-id-1 div.sk-label input.sk-toggleable__control:checked~label.sk-toggleable__label {background-color: #d4ebff;}#sk-container-id-1 input.sk-hidden--visually {border: 0;clip: rect(1px 1px 1px 1px);clip: rect(1px, 1px, 1px, 1px);height: 1px;margin: -1px;overflow: hidden;padding: 0;position: absolute;width: 1px;}#sk-container-id-1 div.sk-estimator {font-family: monospace;background-color: #f0f8ff;border: 1px dotted black;border-radius: 0.25em;box-sizing: border-box;margin-bottom: 0.5em;}#sk-container-id-1 div.sk-estimator:hover {background-color: #d4ebff;}#sk-container-id-1 div.sk-parallel-item::after {content: \"\";width: 100%;border-bottom: 1px solid gray;flex-grow: 1;}#sk-container-id-1 div.sk-label:hover label.sk-toggleable__label {background-color: #d4ebff;}#sk-container-id-1 div.sk-serial::before {content: \"\";position: absolute;border-left: 1px solid gray;box-sizing: border-box;top: 0;bottom: 0;left: 50%;z-index: 0;}#sk-container-id-1 div.sk-serial {display: flex;flex-direction: column;align-items: center;background-color: white;padding-right: 0.2em;padding-left: 0.2em;position: relative;}#sk-container-id-1 div.sk-item {position: relative;z-index: 1;}#sk-container-id-1 div.sk-parallel {display: flex;align-items: stretch;justify-content: center;background-color: white;position: relative;}#sk-container-id-1 div.sk-item::before, #sk-container-id-1 div.sk-parallel-item::before {content: \"\";position: absolute;border-left: 1px solid gray;box-sizing: border-box;top: 0;bottom: 0;left: 50%;z-index: -1;}#sk-container-id-1 div.sk-parallel-item {display: flex;flex-direction: column;z-index: 1;position: relative;background-color: white;}#sk-container-id-1 div.sk-parallel-item:first-child::after {align-self: flex-end;width: 50%;}#sk-container-id-1 div.sk-parallel-item:last-child::after {align-self: flex-start;width: 50%;}#sk-container-id-1 div.sk-parallel-item:only-child::after {width: 0;}#sk-container-id-1 div.sk-dashed-wrapped {border: 1px dashed gray;margin: 0 0.4em 0.5em 0.4em;box-sizing: border-box;padding-bottom: 0.4em;background-color: white;}#sk-container-id-1 div.sk-label label {font-family: monospace;font-weight: bold;display: inline-block;line-height: 1.2em;}#sk-container-id-1 div.sk-label-container {text-align: center;}#sk-container-id-1 div.sk-container {/* jupyter's `normalize.less` sets `[hidden] { display: none; }` but bootstrap.min.css set `[hidden] { display: none !important; }` so we also need the `!important` here to be able to override the default hidden behavior on the sphinx rendered scikit-learn.org. See: https://github.com/scikit-learn/scikit-learn/issues/21755 */display: inline-block !important;position: relative;}#sk-container-id-1 div.sk-text-repr-fallback {display: none;}</style><div id=\"sk-container-id-1\" class=\"sk-top-container\"><div class=\"sk-text-repr-fallback\"><pre>Pipeline(steps=[(&#x27;scale&#x27;, None), (&#x27;model&#x27;, GradientBoostingClassifier())])</pre><b>In a Jupyter environment, please rerun this cell to show the HTML representation or trust the notebook. <br />On GitHub, the HTML representation is unable to render, please try loading this page with nbviewer.org.</b></div><div class=\"sk-container\" hidden><div class=\"sk-item sk-dashed-wrapped\"><div class=\"sk-label-container\"><div class=\"sk-label sk-toggleable\"><input class=\"sk-toggleable__control sk-hidden--visually\" id=\"sk-estimator-id-1\" type=\"checkbox\" ><label for=\"sk-estimator-id-1\" class=\"sk-toggleable__label sk-toggleable__label-arrow\">Pipeline</label><div class=\"sk-toggleable__content\"><pre>Pipeline(steps=[(&#x27;scale&#x27;, None), (&#x27;model&#x27;, GradientBoostingClassifier())])</pre></div></div></div><div class=\"sk-serial\"><div class=\"sk-item\"><div class=\"sk-estimator sk-toggleable\"><input class=\"sk-toggleable__control sk-hidden--visually\" id=\"sk-estimator-id-2\" type=\"checkbox\" ><label for=\"sk-estimator-id-2\" class=\"sk-toggleable__label sk-toggleable__label-arrow\">None</label><div class=\"sk-toggleable__content\"><pre>None</pre></div></div></div><div class=\"sk-item\"><div class=\"sk-estimator sk-toggleable\"><input class=\"sk-toggleable__control sk-hidden--visually\" id=\"sk-estimator-id-3\" type=\"checkbox\" ><label for=\"sk-estimator-id-3\" class=\"sk-toggleable__label sk-toggleable__label-arrow\">GradientBoostingClassifier</label><div class=\"sk-toggleable__content\"><pre>GradientBoostingClassifier()</pre></div></div></div></div></div></div></div>"
      ],
      "text/plain": [
       "Pipeline(steps=[('scale', None), ('model', GradientBoostingClassifier())])"
      ]
     },
     "execution_count": 27,
     "metadata": {},
     "output_type": "execute_result"
    }
   ],
   "source": [
    "model.fit(X_train, y_train.values.ravel())"
   ]
  },
  {
   "cell_type": "code",
   "execution_count": 28,
   "id": "af59f8c0",
   "metadata": {
    "execution": {
     "iopub.execute_input": "2025-07-23T14:39:33.605312Z",
     "iopub.status.busy": "2025-07-23T14:39:33.604225Z",
     "iopub.status.idle": "2025-07-23T14:39:33.610987Z",
     "shell.execute_reply": "2025-07-23T14:39:33.609914Z"
    },
    "papermill": {
     "duration": 0.030248,
     "end_time": "2025-07-23T14:39:33.612893",
     "exception": false,
     "start_time": "2025-07-23T14:39:33.582645",
     "status": "completed"
    },
    "tags": []
   },
   "outputs": [],
   "source": [
    "from fairness_multiverse.universe import predict_w_threshold"
   ]
  },
  {
   "cell_type": "code",
   "execution_count": 29,
   "id": "a7cf2e16",
   "metadata": {
    "execution": {
     "iopub.execute_input": "2025-07-23T14:39:33.655913Z",
     "iopub.status.busy": "2025-07-23T14:39:33.654956Z",
     "iopub.status.idle": "2025-07-23T14:39:34.360665Z",
     "shell.execute_reply": "2025-07-23T14:39:34.359630Z"
    },
    "papermill": {
     "duration": 0.729133,
     "end_time": "2025-07-23T14:39:34.362626",
     "exception": false,
     "start_time": "2025-07-23T14:39:33.633493",
     "status": "completed"
    },
    "tags": []
   },
   "outputs": [
    {
     "data": {
      "text/plain": [
       "0.8715193400958644"
      ]
     },
     "execution_count": 29,
     "metadata": {},
     "output_type": "execute_result"
    }
   ],
   "source": [
    "probs_test = model.predict_proba(X_test)\n",
    "\n",
    "'''\n",
    "Below code returns a boolean array (or binary 0/1 array depending on how it’s used) where each element \n",
    "is True if the probability of class 1 is greater than or equal to the threshold, and False otherwise.\n",
    "'''\n",
    "y_pred_default = predict_w_threshold(probs_test, 0.5)\n",
    "\n",
    "from sklearn.metrics import accuracy_score\n",
    "\n",
    "# Naive prediction\n",
    "accuracy_score(y_true = y_true, y_pred = y_pred_default)"
   ]
  },
  {
   "cell_type": "code",
   "execution_count": 30,
   "id": "081964c3",
   "metadata": {
    "execution": {
     "iopub.execute_input": "2025-07-23T14:39:34.404808Z",
     "iopub.status.busy": "2025-07-23T14:39:34.404084Z",
     "iopub.status.idle": "2025-07-23T14:39:35.119983Z",
     "shell.execute_reply": "2025-07-23T14:39:35.118998Z"
    },
    "papermill": {
     "duration": 0.738448,
     "end_time": "2025-07-23T14:39:35.121759",
     "exception": false,
     "start_time": "2025-07-23T14:39:34.383311",
     "status": "completed"
    },
    "tags": []
   },
   "outputs": [
    {
     "data": {
      "text/plain": [
       "array([0, 0, 0, ..., 0, 0, 0])"
      ]
     },
     "execution_count": 30,
     "metadata": {},
     "output_type": "execute_result"
    }
   ],
   "source": [
    "model.predict(X_test)"
   ]
  },
  {
   "cell_type": "markdown",
   "id": "56c9705b",
   "metadata": {
    "papermill": {
     "duration": 0.020504,
     "end_time": "2025-07-23T14:39:35.163309",
     "exception": false,
     "start_time": "2025-07-23T14:39:35.142805",
     "status": "completed"
    },
    "tags": []
   },
   "source": [
    "# Conformal Prediction"
   ]
  },
  {
   "cell_type": "code",
   "execution_count": 31,
   "id": "160ec6ff",
   "metadata": {
    "execution": {
     "iopub.execute_input": "2025-07-23T14:39:35.207256Z",
     "iopub.status.busy": "2025-07-23T14:39:35.206712Z",
     "iopub.status.idle": "2025-07-23T14:39:35.212742Z",
     "shell.execute_reply": "2025-07-23T14:39:35.211644Z"
    },
    "papermill": {
     "duration": 0.030322,
     "end_time": "2025-07-23T14:39:35.214630",
     "exception": false,
     "start_time": "2025-07-23T14:39:35.184308",
     "status": "completed"
    },
    "tags": []
   },
   "outputs": [],
   "source": [
    "# Miscoverage level for conformal prediction (10% allowed error rate => 90% target coverage)\n",
    "alpha = 0.1"
   ]
  },
  {
   "cell_type": "code",
   "execution_count": 32,
   "id": "eadf4555-3dd3-440e-8e35-f82a4ad9f855",
   "metadata": {
    "execution": {
     "iopub.execute_input": "2025-07-23T14:39:35.258598Z",
     "iopub.status.busy": "2025-07-23T14:39:35.257744Z",
     "iopub.status.idle": "2025-07-23T14:39:35.762967Z",
     "shell.execute_reply": "2025-07-23T14:39:35.762157Z"
    },
    "papermill": {
     "duration": 0.529151,
     "end_time": "2025-07-23T14:39:35.765108",
     "exception": false,
     "start_time": "2025-07-23T14:39:35.235957",
     "status": "completed"
    },
    "tags": []
   },
   "outputs": [],
   "source": [
    "probs_calib = model.predict_proba(X_calib)"
   ]
  },
  {
   "cell_type": "code",
   "execution_count": 33,
   "id": "2ed93547-6d5d-4983-9b36-1ecb300da49a",
   "metadata": {
    "execution": {
     "iopub.execute_input": "2025-07-23T14:39:35.813227Z",
     "iopub.status.busy": "2025-07-23T14:39:35.812611Z",
     "iopub.status.idle": "2025-07-23T14:39:35.819198Z",
     "shell.execute_reply": "2025-07-23T14:39:35.818066Z"
    },
    "papermill": {
     "duration": 0.031946,
     "end_time": "2025-07-23T14:39:35.821091",
     "exception": false,
     "start_time": "2025-07-23T14:39:35.789145",
     "status": "completed"
    },
    "tags": []
   },
   "outputs": [],
   "source": [
    "y_calib = y_calib.values.ravel().astype(int)"
   ]
  },
  {
   "cell_type": "code",
   "execution_count": 34,
   "id": "65d1320d-f588-4b38-9072-62af1ae97f7d",
   "metadata": {
    "execution": {
     "iopub.execute_input": "2025-07-23T14:39:35.865712Z",
     "iopub.status.busy": "2025-07-23T14:39:35.864951Z",
     "iopub.status.idle": "2025-07-23T14:39:35.873126Z",
     "shell.execute_reply": "2025-07-23T14:39:35.871954Z"
    },
    "papermill": {
     "duration": 0.032489,
     "end_time": "2025-07-23T14:39:35.875205",
     "exception": false,
     "start_time": "2025-07-23T14:39:35.842716",
     "status": "completed"
    },
    "tags": []
   },
   "outputs": [],
   "source": [
    "from fairness_multiverse.conformal import compute_nc_scores\n",
    "\n",
    "# Compute nonconformity scores on calibration set (1 - probability of true class)\n",
    "nc_scores = compute_nc_scores(probs_calib, y_calib)"
   ]
  },
  {
   "cell_type": "code",
   "execution_count": 35,
   "id": "df3b8ca3-53b7-43d5-9667-7c85da7aeda2",
   "metadata": {
    "execution": {
     "iopub.execute_input": "2025-07-23T14:39:35.921911Z",
     "iopub.status.busy": "2025-07-23T14:39:35.920957Z",
     "iopub.status.idle": "2025-07-23T14:39:35.928663Z",
     "shell.execute_reply": "2025-07-23T14:39:35.927430Z"
    },
    "papermill": {
     "duration": 0.033428,
     "end_time": "2025-07-23T14:39:35.930824",
     "exception": false,
     "start_time": "2025-07-23T14:39:35.897396",
     "status": "completed"
    },
    "tags": []
   },
   "outputs": [],
   "source": [
    "from fairness_multiverse.conformal import find_threshold\n",
    "\n",
    "# Find conformal threshold q_hat for the given alpha (split conformal method)\n",
    "q_hat = find_threshold(nc_scores, alpha)"
   ]
  },
  {
   "cell_type": "code",
   "execution_count": 36,
   "id": "4d29e6c1-0ef6-4aa4-b8fe-4fe79b0d033a",
   "metadata": {
    "execution": {
     "iopub.execute_input": "2025-07-23T14:39:35.977832Z",
     "iopub.status.busy": "2025-07-23T14:39:35.976810Z",
     "iopub.status.idle": "2025-07-23T14:39:35.985238Z",
     "shell.execute_reply": "2025-07-23T14:39:35.984370Z"
    },
    "papermill": {
     "duration": 0.033768,
     "end_time": "2025-07-23T14:39:35.987052",
     "exception": false,
     "start_time": "2025-07-23T14:39:35.953284",
     "status": "completed"
    },
    "tags": []
   },
   "outputs": [
    {
     "data": {
      "text/plain": [
       "0.6626252801817313"
      ]
     },
     "execution_count": 36,
     "metadata": {},
     "output_type": "execute_result"
    }
   ],
   "source": [
    "q_hat"
   ]
  },
  {
   "cell_type": "code",
   "execution_count": 37,
   "id": "92460794-cdac-4be2-ba28-f28c0515a6fb",
   "metadata": {
    "execution": {
     "iopub.execute_input": "2025-07-23T14:39:36.032474Z",
     "iopub.status.busy": "2025-07-23T14:39:36.031278Z",
     "iopub.status.idle": "2025-07-23T14:39:37.093605Z",
     "shell.execute_reply": "2025-07-23T14:39:37.092757Z"
    },
    "papermill": {
     "duration": 1.086644,
     "end_time": "2025-07-23T14:39:37.095220",
     "exception": false,
     "start_time": "2025-07-23T14:39:36.008576",
     "status": "completed"
    },
    "tags": []
   },
   "outputs": [],
   "source": [
    "from fairness_multiverse.conformal import predict_conformal_sets\n",
    "\n",
    "# Generate prediction sets for each test example\n",
    "pred_sets = predict_conformal_sets(model, X_test, q_hat)"
   ]
  },
  {
   "cell_type": "code",
   "execution_count": 38,
   "id": "d90c9a65-e6db-4f5d-80cd-e68fb7e46829",
   "metadata": {
    "execution": {
     "iopub.execute_input": "2025-07-23T14:39:37.123506Z",
     "iopub.status.busy": "2025-07-23T14:39:37.123122Z",
     "iopub.status.idle": "2025-07-23T14:39:37.128147Z",
     "shell.execute_reply": "2025-07-23T14:39:37.127170Z"
    },
    "papermill": {
     "duration": 0.01923,
     "end_time": "2025-07-23T14:39:37.129798",
     "exception": false,
     "start_time": "2025-07-23T14:39:37.110568",
     "status": "completed"
    },
    "tags": []
   },
   "outputs": [],
   "source": [
    "y_true = y_true.squeeze()"
   ]
  },
  {
   "cell_type": "code",
   "execution_count": 39,
   "id": "3a58a54a-1e68-46b9-927a-df01f18aebc8",
   "metadata": {
    "execution": {
     "iopub.execute_input": "2025-07-23T14:39:37.155472Z",
     "iopub.status.busy": "2025-07-23T14:39:37.154514Z",
     "iopub.status.idle": "2025-07-23T14:39:38.174663Z",
     "shell.execute_reply": "2025-07-23T14:39:38.173851Z"
    },
    "papermill": {
     "duration": 1.034174,
     "end_time": "2025-07-23T14:39:38.176229",
     "exception": false,
     "start_time": "2025-07-23T14:39:37.142055",
     "status": "completed"
    },
    "tags": []
   },
   "outputs": [],
   "source": [
    "from fairness_multiverse.conformal import evaluate_sets\n",
    "\n",
    "# Evaluate coverage and average set size on test data\n",
    "metrics = evaluate_sets(pred_sets, y_true)"
   ]
  },
  {
   "cell_type": "code",
   "execution_count": 40,
   "id": "5ce0a5cb-201f-45a0-ade5-94c7f0bd6095",
   "metadata": {
    "execution": {
     "iopub.execute_input": "2025-07-23T14:39:38.204094Z",
     "iopub.status.busy": "2025-07-23T14:39:38.203698Z",
     "iopub.status.idle": "2025-07-23T14:39:38.210682Z",
     "shell.execute_reply": "2025-07-23T14:39:38.209590Z"
    },
    "papermill": {
     "duration": 0.020917,
     "end_time": "2025-07-23T14:39:38.212095",
     "exception": false,
     "start_time": "2025-07-23T14:39:38.191178",
     "status": "completed"
    },
    "tags": []
   },
   "outputs": [
    {
     "data": {
      "text/plain": [
       "{'coverage': 0.9111024411994204, 'avg_size': 1.1090848288931}"
      ]
     },
     "execution_count": 40,
     "metadata": {},
     "output_type": "execute_result"
    }
   ],
   "source": [
    "metrics"
   ]
  },
  {
   "cell_type": "code",
   "execution_count": 41,
   "id": "9b9a838d-31c9-430b-ae14-12baee460d17",
   "metadata": {
    "execution": {
     "iopub.execute_input": "2025-07-23T14:39:38.242987Z",
     "iopub.status.busy": "2025-07-23T14:39:38.242544Z",
     "iopub.status.idle": "2025-07-23T14:39:38.247454Z",
     "shell.execute_reply": "2025-07-23T14:39:38.246554Z"
    },
    "papermill": {
     "duration": 0.024552,
     "end_time": "2025-07-23T14:39:38.248873",
     "exception": false,
     "start_time": "2025-07-23T14:39:38.224321",
     "status": "completed"
    },
    "tags": []
   },
   "outputs": [],
   "source": [
    "example_universe = universe.copy()\n",
    "universe_model = example_universe.get(\"model\")\n",
    "universe_exclude_features = example_universe.get(\"exclude_features\")\n",
    "universe_exclude_subgroups = example_universe.get(\"exclude_subgroups\")\n",
    "universe_scale = example_universe.get(\"scale\")"
   ]
  },
  {
   "cell_type": "code",
   "execution_count": 42,
   "id": "f4b6a8ac-9dc0-4245-8a91-5b3b5999c4f9",
   "metadata": {
    "execution": {
     "iopub.execute_input": "2025-07-23T14:39:38.273434Z",
     "iopub.status.busy": "2025-07-23T14:39:38.272871Z",
     "iopub.status.idle": "2025-07-23T14:39:38.339423Z",
     "shell.execute_reply": "2025-07-23T14:39:38.338259Z"
    },
    "papermill": {
     "duration": 0.08112,
     "end_time": "2025-07-23T14:39:38.341652",
     "exception": false,
     "start_time": "2025-07-23T14:39:38.260532",
     "status": "completed"
    },
    "tags": []
   },
   "outputs": [],
   "source": [
    "cp_metrics_dict = {\n",
    "    \"universe_id\": [universe_id],\n",
    "    \"universe_model\": [universe_model],\n",
    "    \"universe_exclude_features\": [universe_exclude_features],\n",
    "    \"universe_exclude_subgroups\": [universe_exclude_subgroups],\n",
    "    \"universe_scale\": [universe_scale],\n",
    "    \"q_hat\": [q_hat],\n",
    "    \"coverage\": [metrics[\"coverage\"]],\n",
    "    \"avg_size\": [metrics[\"avg_size\"]],\n",
    "}"
   ]
  },
  {
   "cell_type": "code",
   "execution_count": 43,
   "id": "908acbb1-0371-4915-85ca-3fa520d2efe2",
   "metadata": {
    "execution": {
     "iopub.execute_input": "2025-07-23T14:39:38.384254Z",
     "iopub.status.busy": "2025-07-23T14:39:38.383518Z",
     "iopub.status.idle": "2025-07-23T14:39:38.392866Z",
     "shell.execute_reply": "2025-07-23T14:39:38.391742Z"
    },
    "papermill": {
     "duration": 0.034561,
     "end_time": "2025-07-23T14:39:38.395032",
     "exception": false,
     "start_time": "2025-07-23T14:39:38.360471",
     "status": "completed"
    },
    "tags": []
   },
   "outputs": [
    {
     "data": {
      "text/plain": [
       "{'universe_id': ['24ec900894c13c1ae40a2653ffba70b2'],\n",
       " 'universe_model': ['gbm'],\n",
       " 'universe_exclude_features': ['none'],\n",
       " 'universe_exclude_subgroups': ['keep-all'],\n",
       " 'universe_scale': ['do-not-scale'],\n",
       " 'q_hat': [0.6626252801817313],\n",
       " 'coverage': [0.9111024411994204],\n",
       " 'avg_size': [1.1090848288931]}"
      ]
     },
     "execution_count": 43,
     "metadata": {},
     "output_type": "execute_result"
    }
   ],
   "source": [
    "cp_metrics_dict"
   ]
  },
  {
   "cell_type": "code",
   "execution_count": 44,
   "id": "33007efc-14e9-4ec6-97ac-56a455c82265",
   "metadata": {
    "execution": {
     "iopub.execute_input": "2025-07-23T14:39:38.441966Z",
     "iopub.status.busy": "2025-07-23T14:39:38.441028Z",
     "iopub.status.idle": "2025-07-23T14:39:38.447906Z",
     "shell.execute_reply": "2025-07-23T14:39:38.446969Z"
    },
    "papermill": {
     "duration": 0.031422,
     "end_time": "2025-07-23T14:39:38.449715",
     "exception": false,
     "start_time": "2025-07-23T14:39:38.418293",
     "status": "completed"
    },
    "tags": []
   },
   "outputs": [],
   "source": [
    "cp_metrics_df = pd.DataFrame(cp_metrics_dict)"
   ]
  },
  {
   "cell_type": "code",
   "execution_count": 45,
   "id": "db12611b-57b2-4910-b9d0-355adfd6e7bf",
   "metadata": {
    "execution": {
     "iopub.execute_input": "2025-07-23T14:39:38.493930Z",
     "iopub.status.busy": "2025-07-23T14:39:38.493021Z",
     "iopub.status.idle": "2025-07-23T14:39:38.513681Z",
     "shell.execute_reply": "2025-07-23T14:39:38.512597Z"
    },
    "papermill": {
     "duration": 0.044789,
     "end_time": "2025-07-23T14:39:38.515635",
     "exception": false,
     "start_time": "2025-07-23T14:39:38.470846",
     "status": "completed"
    },
    "tags": []
   },
   "outputs": [
    {
     "data": {
      "text/html": [
       "<div>\n",
       "<style scoped>\n",
       "    .dataframe tbody tr th:only-of-type {\n",
       "        vertical-align: middle;\n",
       "    }\n",
       "\n",
       "    .dataframe tbody tr th {\n",
       "        vertical-align: top;\n",
       "    }\n",
       "\n",
       "    .dataframe thead th {\n",
       "        text-align: right;\n",
       "    }\n",
       "</style>\n",
       "<table border=\"1\" class=\"dataframe\">\n",
       "  <thead>\n",
       "    <tr style=\"text-align: right;\">\n",
       "      <th></th>\n",
       "      <th>universe_id</th>\n",
       "      <th>universe_model</th>\n",
       "      <th>universe_exclude_features</th>\n",
       "      <th>universe_exclude_subgroups</th>\n",
       "      <th>universe_scale</th>\n",
       "      <th>q_hat</th>\n",
       "      <th>coverage</th>\n",
       "      <th>avg_size</th>\n",
       "    </tr>\n",
       "  </thead>\n",
       "  <tbody>\n",
       "    <tr>\n",
       "      <th>0</th>\n",
       "      <td>24ec900894c13c1ae40a2653ffba70b2</td>\n",
       "      <td>gbm</td>\n",
       "      <td>none</td>\n",
       "      <td>keep-all</td>\n",
       "      <td>do-not-scale</td>\n",
       "      <td>0.662625</td>\n",
       "      <td>0.911102</td>\n",
       "      <td>1.109085</td>\n",
       "    </tr>\n",
       "  </tbody>\n",
       "</table>\n",
       "</div>"
      ],
      "text/plain": [
       "                        universe_id universe_model universe_exclude_features  \\\n",
       "0  24ec900894c13c1ae40a2653ffba70b2            gbm                      none   \n",
       "\n",
       "  universe_exclude_subgroups universe_scale     q_hat  coverage  avg_size  \n",
       "0                   keep-all   do-not-scale  0.662625  0.911102  1.109085  "
      ]
     },
     "execution_count": 45,
     "metadata": {},
     "output_type": "execute_result"
    }
   ],
   "source": [
    "cp_metrics_df"
   ]
  },
  {
   "cell_type": "code",
   "execution_count": 46,
   "id": "b7fbde55-a0a1-47e4-9af6-fe4a17fa8c61",
   "metadata": {
    "execution": {
     "iopub.execute_input": "2025-07-23T14:39:38.563728Z",
     "iopub.status.busy": "2025-07-23T14:39:38.562654Z",
     "iopub.status.idle": "2025-07-23T14:39:38.568638Z",
     "shell.execute_reply": "2025-07-23T14:39:38.567551Z"
    },
    "papermill": {
     "duration": 0.031077,
     "end_time": "2025-07-23T14:39:38.570477",
     "exception": false,
     "start_time": "2025-07-23T14:39:38.539400",
     "status": "completed"
    },
    "tags": []
   },
   "outputs": [],
   "source": [
    "# Conditional Coverage & looking at subgroups"
   ]
  },
  {
   "cell_type": "code",
   "execution_count": 47,
   "id": "027ae886-68dd-4141-96c7-805a5450e1ef",
   "metadata": {
    "execution": {
     "iopub.execute_input": "2025-07-23T14:39:38.622120Z",
     "iopub.status.busy": "2025-07-23T14:39:38.621605Z",
     "iopub.status.idle": "2025-07-23T14:39:38.899302Z",
     "shell.execute_reply": "2025-07-23T14:39:38.898275Z"
    },
    "papermill": {
     "duration": 0.305242,
     "end_time": "2025-07-23T14:39:38.901030",
     "exception": false,
     "start_time": "2025-07-23T14:39:38.595788",
     "status": "completed"
    },
    "tags": []
   },
   "outputs": [],
   "source": [
    "from fairness_multiverse.conformal import build_cp_groups\n",
    "\n",
    "cp_groups_df = build_cp_groups(pred_sets, y_true, X_test.index, org_test)\n",
    "#needs universe_id and setting"
   ]
  },
  {
   "cell_type": "code",
   "execution_count": 48,
   "id": "c3b92545-903e-4839-89af-0f057907d7d6",
   "metadata": {
    "execution": {
     "iopub.execute_input": "2025-07-23T14:39:38.948021Z",
     "iopub.status.busy": "2025-07-23T14:39:38.947310Z",
     "iopub.status.idle": "2025-07-23T14:39:40.716353Z",
     "shell.execute_reply": "2025-07-23T14:39:40.715337Z"
    },
    "papermill": {
     "duration": 1.794451,
     "end_time": "2025-07-23T14:39:40.718482",
     "exception": false,
     "start_time": "2025-07-23T14:39:38.924031",
     "status": "completed"
    },
    "tags": []
   },
   "outputs": [],
   "source": [
    "# Define covered = 1 if true_label is in the predicted set\n",
    "cp_groups_df['covered'] = cp_groups_df.apply(\n",
    "    lambda r: int(r['true_label'] in r['pred_set']),\n",
    "    axis=1\n",
    ")"
   ]
  },
  {
   "cell_type": "code",
   "execution_count": 49,
   "id": "338ff529-1a6b-4b87-a931-8e4788d52aad",
   "metadata": {
    "execution": {
     "iopub.execute_input": "2025-07-23T14:39:40.766306Z",
     "iopub.status.busy": "2025-07-23T14:39:40.766011Z",
     "iopub.status.idle": "2025-07-23T14:39:40.770869Z",
     "shell.execute_reply": "2025-07-23T14:39:40.770082Z"
    },
    "papermill": {
     "duration": 0.028637,
     "end_time": "2025-07-23T14:39:40.772349",
     "exception": false,
     "start_time": "2025-07-23T14:39:40.743712",
     "status": "completed"
    },
    "tags": []
   },
   "outputs": [],
   "source": [
    "#cp_groups_df"
   ]
  },
  {
   "cell_type": "code",
   "execution_count": 50,
   "id": "90032e27-66df-4540-9169-4e89cfbaa758",
   "metadata": {
    "execution": {
     "iopub.execute_input": "2025-07-23T14:39:40.797751Z",
     "iopub.status.busy": "2025-07-23T14:39:40.797163Z",
     "iopub.status.idle": "2025-07-23T14:39:40.808112Z",
     "shell.execute_reply": "2025-07-23T14:39:40.807227Z"
    },
    "papermill": {
     "duration": 0.025183,
     "end_time": "2025-07-23T14:39:40.809887",
     "exception": false,
     "start_time": "2025-07-23T14:39:40.784704",
     "status": "completed"
    },
    "tags": []
   },
   "outputs": [],
   "source": [
    "subgroups = ['frau1','nongerman','nongerman_male','nongerman_female']\n",
    "\n",
    "# Conditional coverage for subgroup==1\n",
    "cond_coverage = {\n",
    "    g: cp_groups_df.loc[cp_groups_df[g]==1, 'covered'].mean()\n",
    "    for g in subgroups\n",
    "}"
   ]
  },
  {
   "cell_type": "code",
   "execution_count": 51,
   "id": "1e348fb1-b9c3-45bc-ba23-f016827a7e0d",
   "metadata": {
    "execution": {
     "iopub.execute_input": "2025-07-23T14:39:40.837468Z",
     "iopub.status.busy": "2025-07-23T14:39:40.837028Z",
     "iopub.status.idle": "2025-07-23T14:39:40.843835Z",
     "shell.execute_reply": "2025-07-23T14:39:40.843078Z"
    },
    "papermill": {
     "duration": 0.021564,
     "end_time": "2025-07-23T14:39:40.845447",
     "exception": false,
     "start_time": "2025-07-23T14:39:40.823883",
     "status": "completed"
    },
    "tags": []
   },
   "outputs": [
    {
     "data": {
      "text/plain": [
       "{'frau1': 0.9136810890955654,\n",
       " 'nongerman': 0.9094481558412395,\n",
       " 'nongerman_male': 0.924795100423309,\n",
       " 'nongerman_female': 0.884053651266766}"
      ]
     },
     "execution_count": 51,
     "metadata": {},
     "output_type": "execute_result"
    }
   ],
   "source": [
    "cond_coverage"
   ]
  },
  {
   "cell_type": "code",
   "execution_count": 52,
   "id": "f5093324-c3dd-4d63-bc4c-8d945e5c8bbb",
   "metadata": {
    "execution": {
     "iopub.execute_input": "2025-07-23T14:39:40.872766Z",
     "iopub.status.busy": "2025-07-23T14:39:40.871782Z",
     "iopub.status.idle": "2025-07-23T14:39:40.878921Z",
     "shell.execute_reply": "2025-07-23T14:39:40.878153Z"
    },
    "papermill": {
     "duration": 0.021712,
     "end_time": "2025-07-23T14:39:40.880476",
     "exception": false,
     "start_time": "2025-07-23T14:39:40.858764",
     "status": "completed"
    },
    "tags": []
   },
   "outputs": [],
   "source": [
    "for subgroup, cov in cond_coverage.items():\n",
    "    cp_metrics_df[f\"cov_{subgroup}\"] = cov"
   ]
  },
  {
   "cell_type": "code",
   "execution_count": 53,
   "id": "6e872e10-dbe5-49e8-b554-5030c98ff75d",
   "metadata": {
    "execution": {
     "iopub.execute_input": "2025-07-23T14:39:40.907882Z",
     "iopub.status.busy": "2025-07-23T14:39:40.907040Z",
     "iopub.status.idle": "2025-07-23T14:39:40.921122Z",
     "shell.execute_reply": "2025-07-23T14:39:40.920131Z"
    },
    "papermill": {
     "duration": 0.02893,
     "end_time": "2025-07-23T14:39:40.922567",
     "exception": false,
     "start_time": "2025-07-23T14:39:40.893637",
     "status": "completed"
    },
    "tags": []
   },
   "outputs": [
    {
     "data": {
      "text/html": [
       "<div>\n",
       "<style scoped>\n",
       "    .dataframe tbody tr th:only-of-type {\n",
       "        vertical-align: middle;\n",
       "    }\n",
       "\n",
       "    .dataframe tbody tr th {\n",
       "        vertical-align: top;\n",
       "    }\n",
       "\n",
       "    .dataframe thead th {\n",
       "        text-align: right;\n",
       "    }\n",
       "</style>\n",
       "<table border=\"1\" class=\"dataframe\">\n",
       "  <thead>\n",
       "    <tr style=\"text-align: right;\">\n",
       "      <th></th>\n",
       "      <th>universe_id</th>\n",
       "      <th>universe_model</th>\n",
       "      <th>universe_exclude_features</th>\n",
       "      <th>universe_exclude_subgroups</th>\n",
       "      <th>universe_scale</th>\n",
       "      <th>q_hat</th>\n",
       "      <th>coverage</th>\n",
       "      <th>avg_size</th>\n",
       "      <th>cov_frau1</th>\n",
       "      <th>cov_nongerman</th>\n",
       "      <th>cov_nongerman_male</th>\n",
       "      <th>cov_nongerman_female</th>\n",
       "    </tr>\n",
       "  </thead>\n",
       "  <tbody>\n",
       "    <tr>\n",
       "      <th>0</th>\n",
       "      <td>24ec900894c13c1ae40a2653ffba70b2</td>\n",
       "      <td>gbm</td>\n",
       "      <td>none</td>\n",
       "      <td>keep-all</td>\n",
       "      <td>do-not-scale</td>\n",
       "      <td>0.662625</td>\n",
       "      <td>0.911102</td>\n",
       "      <td>1.109085</td>\n",
       "      <td>0.913681</td>\n",
       "      <td>0.909448</td>\n",
       "      <td>0.924795</td>\n",
       "      <td>0.884054</td>\n",
       "    </tr>\n",
       "  </tbody>\n",
       "</table>\n",
       "</div>"
      ],
      "text/plain": [
       "                        universe_id universe_model universe_exclude_features  \\\n",
       "0  24ec900894c13c1ae40a2653ffba70b2            gbm                      none   \n",
       "\n",
       "  universe_exclude_subgroups universe_scale     q_hat  coverage  avg_size  \\\n",
       "0                   keep-all   do-not-scale  0.662625  0.911102  1.109085   \n",
       "\n",
       "   cov_frau1  cov_nongerman  cov_nongerman_male  cov_nongerman_female  \n",
       "0   0.913681       0.909448            0.924795              0.884054  "
      ]
     },
     "execution_count": 53,
     "metadata": {},
     "output_type": "execute_result"
    }
   ],
   "source": [
    "cp_metrics_df"
   ]
  },
  {
   "cell_type": "markdown",
   "id": "33774451",
   "metadata": {
    "papermill": {
     "duration": 0.012118,
     "end_time": "2025-07-23T14:39:40.947928",
     "exception": false,
     "start_time": "2025-07-23T14:39:40.935810",
     "status": "completed"
    },
    "tags": []
   },
   "source": [
    "# (Fairness) Metrics"
   ]
  },
  {
   "cell_type": "code",
   "execution_count": 54,
   "id": "debc5d62",
   "metadata": {
    "execution": {
     "iopub.execute_input": "2025-07-23T14:39:40.974314Z",
     "iopub.status.busy": "2025-07-23T14:39:40.973769Z",
     "iopub.status.idle": "2025-07-23T14:39:40.989828Z",
     "shell.execute_reply": "2025-07-23T14:39:40.989032Z"
    },
    "papermill": {
     "duration": 0.031281,
     "end_time": "2025-07-23T14:39:40.991367",
     "exception": false,
     "start_time": "2025-07-23T14:39:40.960086",
     "status": "completed"
    },
    "tags": []
   },
   "outputs": [],
   "source": [
    "# do I need to include maxdeutsch1.missing?\n",
    "\n",
    "import numpy as np\n",
    "\n",
    "colname_to_bin = \"maxdeutsch1\"\n",
    "majority_value = org_train[colname_to_bin].mode()[0]\n",
    "\n",
    "org_test[\"majmin\"] = np.where(org_test[colname_to_bin] == majority_value, \"majority\", \"minority\")"
   ]
  },
  {
   "cell_type": "code",
   "execution_count": 55,
   "id": "06a50de5",
   "metadata": {
    "execution": {
     "iopub.execute_input": "2025-07-23T14:39:41.017535Z",
     "iopub.status.busy": "2025-07-23T14:39:41.017226Z",
     "iopub.status.idle": "2025-07-23T14:39:43.897862Z",
     "shell.execute_reply": "2025-07-23T14:39:43.896759Z"
    },
    "papermill": {
     "duration": 2.896191,
     "end_time": "2025-07-23T14:39:43.900110",
     "exception": false,
     "start_time": "2025-07-23T14:39:41.003919",
     "status": "completed"
    },
    "tags": []
   },
   "outputs": [],
   "source": [
    "example_universe = universe.copy()\n",
    "example_universe[\"cutoff\"] = example_universe[\"cutoff\"][0]\n",
    "example_universe[\"eval_fairness_grouping\"] = example_universe[\"eval_fairness_grouping\"][0]\n",
    "fairness_dict, metric_frame = universe_analysis.compute_metrics(\n",
    "    example_universe,\n",
    "    y_pred_prob=probs_test,\n",
    "    y_test=y_true,\n",
    "    org_test=org_test,\n",
    ")"
   ]
  },
  {
   "cell_type": "markdown",
   "id": "f95d4e02",
   "metadata": {
    "papermill": {
     "duration": 0.024905,
     "end_time": "2025-07-23T14:39:43.952622",
     "exception": false,
     "start_time": "2025-07-23T14:39:43.927717",
     "status": "completed"
    },
    "tags": []
   },
   "source": [
    "# Overall"
   ]
  },
  {
   "cell_type": "markdown",
   "id": "bdee4871",
   "metadata": {
    "papermill": {
     "duration": 0.093783,
     "end_time": "2025-07-23T14:39:44.070770",
     "exception": false,
     "start_time": "2025-07-23T14:39:43.976987",
     "status": "completed"
    },
    "tags": []
   },
   "source": [
    "Fairness\n",
    "Main fairness target: Equalized Odds. Seems to be a better fit than equal opportunity, since we're not only interested in Y = 1. Seems to be a better fit than demographic parity, since we also care about accuracy, not just equal distribution of preds.\n",
    "\n",
    "Pick column for computation of fairness metrics\n",
    "\n",
    "Performance\n",
    "Overall performance measures, most interesting in relation to the measures split by group below"
   ]
  },
  {
   "cell_type": "code",
   "execution_count": 56,
   "id": "c4e067c6",
   "metadata": {
    "execution": {
     "iopub.execute_input": "2025-07-23T14:39:44.121861Z",
     "iopub.status.busy": "2025-07-23T14:39:44.120859Z",
     "iopub.status.idle": "2025-07-23T14:39:44.130336Z",
     "shell.execute_reply": "2025-07-23T14:39:44.129247Z"
    },
    "papermill": {
     "duration": 0.037088,
     "end_time": "2025-07-23T14:39:44.132264",
     "exception": false,
     "start_time": "2025-07-23T14:39:44.095176",
     "status": "completed"
    },
    "tags": []
   },
   "outputs": [
    {
     "data": {
      "text/plain": [
       "accuracy                   0.225516\n",
       "balanced accuracy          0.551177\n",
       "f1                         0.246816\n",
       "precision                  0.140998\n",
       "false positive rate        0.886870\n",
       "false negative rate        0.010775\n",
       "selection rate             0.900000\n",
       "count                  89710.000000\n",
       "dtype: float64"
      ]
     },
     "execution_count": 56,
     "metadata": {},
     "output_type": "execute_result"
    }
   ],
   "source": [
    "metric_frame.overall"
   ]
  },
  {
   "cell_type": "markdown",
   "id": "e968fe9d",
   "metadata": {
    "papermill": {
     "duration": 0.024601,
     "end_time": "2025-07-23T14:39:44.182100",
     "exception": false,
     "start_time": "2025-07-23T14:39:44.157499",
     "status": "completed"
    },
    "tags": []
   },
   "source": [
    "By Group"
   ]
  },
  {
   "cell_type": "code",
   "execution_count": 57,
   "id": "ec325bce",
   "metadata": {
    "execution": {
     "iopub.execute_input": "2025-07-23T14:39:44.233220Z",
     "iopub.status.busy": "2025-07-23T14:39:44.232163Z",
     "iopub.status.idle": "2025-07-23T14:39:44.251191Z",
     "shell.execute_reply": "2025-07-23T14:39:44.249980Z"
    },
    "papermill": {
     "duration": 0.046444,
     "end_time": "2025-07-23T14:39:44.253252",
     "exception": false,
     "start_time": "2025-07-23T14:39:44.206808",
     "status": "completed"
    },
    "tags": []
   },
   "outputs": [
    {
     "data": {
      "text/html": [
       "<div>\n",
       "<style scoped>\n",
       "    .dataframe tbody tr th:only-of-type {\n",
       "        vertical-align: middle;\n",
       "    }\n",
       "\n",
       "    .dataframe tbody tr th {\n",
       "        vertical-align: top;\n",
       "    }\n",
       "\n",
       "    .dataframe thead th {\n",
       "        text-align: right;\n",
       "    }\n",
       "</style>\n",
       "<table border=\"1\" class=\"dataframe\">\n",
       "  <thead>\n",
       "    <tr style=\"text-align: right;\">\n",
       "      <th></th>\n",
       "      <th>accuracy</th>\n",
       "      <th>balanced accuracy</th>\n",
       "      <th>f1</th>\n",
       "      <th>precision</th>\n",
       "      <th>false positive rate</th>\n",
       "      <th>false negative rate</th>\n",
       "      <th>selection rate</th>\n",
       "      <th>count</th>\n",
       "    </tr>\n",
       "    <tr>\n",
       "      <th>majmin</th>\n",
       "      <th></th>\n",
       "      <th></th>\n",
       "      <th></th>\n",
       "      <th></th>\n",
       "      <th></th>\n",
       "      <th></th>\n",
       "      <th></th>\n",
       "      <th></th>\n",
       "    </tr>\n",
       "  </thead>\n",
       "  <tbody>\n",
       "    <tr>\n",
       "      <th>majority</th>\n",
       "      <td>0.244600</td>\n",
       "      <td>0.560016</td>\n",
       "      <td>0.257007</td>\n",
       "      <td>0.147700</td>\n",
       "      <td>0.868699</td>\n",
       "      <td>0.011269</td>\n",
       "      <td>0.884560</td>\n",
       "      <td>69170.0</td>\n",
       "    </tr>\n",
       "    <tr>\n",
       "      <th>minority</th>\n",
       "      <td>0.161246</td>\n",
       "      <td>0.522118</td>\n",
       "      <td>0.214123</td>\n",
       "      <td>0.120027</td>\n",
       "      <td>0.946896</td>\n",
       "      <td>0.008868</td>\n",
       "      <td>0.951996</td>\n",
       "      <td>20540.0</td>\n",
       "    </tr>\n",
       "  </tbody>\n",
       "</table>\n",
       "</div>"
      ],
      "text/plain": [
       "          accuracy  balanced accuracy        f1  precision  \\\n",
       "majmin                                                       \n",
       "majority  0.244600           0.560016  0.257007   0.147700   \n",
       "minority  0.161246           0.522118  0.214123   0.120027   \n",
       "\n",
       "          false positive rate  false negative rate  selection rate    count  \n",
       "majmin                                                                       \n",
       "majority             0.868699             0.011269        0.884560  69170.0  \n",
       "minority             0.946896             0.008868        0.951996  20540.0  "
      ]
     },
     "execution_count": 57,
     "metadata": {},
     "output_type": "execute_result"
    }
   ],
   "source": [
    "metric_frame.by_group"
   ]
  },
  {
   "cell_type": "code",
   "execution_count": 58,
   "id": "a9ddbe63",
   "metadata": {
    "execution": {
     "iopub.execute_input": "2025-07-23T14:39:44.307597Z",
     "iopub.status.busy": "2025-07-23T14:39:44.306597Z",
     "iopub.status.idle": "2025-07-23T14:39:46.148425Z",
     "shell.execute_reply": "2025-07-23T14:39:46.147388Z"
    },
    "papermill": {
     "duration": 1.870681,
     "end_time": "2025-07-23T14:39:46.150355",
     "exception": false,
     "start_time": "2025-07-23T14:39:44.279674",
     "status": "completed"
    },
    "tags": []
   },
   "outputs": [
    {
     "data": {
      "text/plain": [
       "array([[<Axes: title={'center': 'accuracy'}, xlabel='majmin'>,\n",
       "        <Axes: title={'center': 'balanced accuracy'}, xlabel='majmin'>,\n",
       "        <Axes: title={'center': 'f1'}, xlabel='majmin'>],\n",
       "       [<Axes: title={'center': 'precision'}, xlabel='majmin'>,\n",
       "        <Axes: title={'center': 'false positive rate'}, xlabel='majmin'>,\n",
       "        <Axes: title={'center': 'false negative rate'}, xlabel='majmin'>],\n",
       "       [<Axes: title={'center': 'selection rate'}, xlabel='majmin'>,\n",
       "        <Axes: title={'center': 'count'}, xlabel='majmin'>,\n",
       "        <Axes: xlabel='majmin'>]], dtype=object)"
      ]
     },
     "execution_count": 58,
     "metadata": {},
     "output_type": "execute_result"
    },
    {
     "data": {
      "image/png": "[encoded data removed]",
      "text/plain": [
       "<Figure size 1200x800 with 9 Axes>"
      ]
     },
     "metadata": {},
     "output_type": "display_data"
    }
   ],
   "source": [
    "# In a graphic\n",
    "metric_frame.by_group.plot.bar(\n",
    "    subplots=True,\n",
    "    layout=[3, 3],\n",
    "    legend=False,\n",
    "    figsize=[12, 8],\n",
    "    title=\"Show all metrics\",\n",
    ")"
   ]
  },
  {
   "cell_type": "markdown",
   "id": "f57a0bac",
   "metadata": {
    "papermill": {
     "duration": 0.026386,
     "end_time": "2025-07-23T14:39:46.203317",
     "exception": false,
     "start_time": "2025-07-23T14:39:46.176931",
     "status": "completed"
    },
    "tags": []
   },
   "source": [
    "# Final Output"
   ]
  },
  {
   "cell_type": "code",
   "execution_count": 59,
   "id": "96d280a3",
   "metadata": {
    "execution": {
     "iopub.execute_input": "2025-07-23T14:39:46.259497Z",
     "iopub.status.busy": "2025-07-23T14:39:46.258342Z",
     "iopub.status.idle": "2025-07-23T14:39:46.267131Z",
     "shell.execute_reply": "2025-07-23T14:39:46.266085Z"
    },
    "papermill": {
     "duration": 0.038986,
     "end_time": "2025-07-23T14:39:46.268789",
     "exception": false,
     "start_time": "2025-07-23T14:39:46.229803",
     "status": "completed"
    },
    "tags": []
   },
   "outputs": [
    {
     "data": {
      "text/plain": [
       "4"
      ]
     },
     "execution_count": 59,
     "metadata": {},
     "output_type": "execute_result"
    }
   ],
   "source": [
    "sub_universes = universe_analysis.generate_sub_universes()\n",
    "len(sub_universes)"
   ]
  },
  {
   "cell_type": "code",
   "execution_count": 60,
   "id": "92adf7ba",
   "metadata": {
    "execution": {
     "iopub.execute_input": "2025-07-23T14:39:46.324021Z",
     "iopub.status.busy": "2025-07-23T14:39:46.323259Z",
     "iopub.status.idle": "2025-07-23T14:39:46.418371Z",
     "shell.execute_reply": "2025-07-23T14:39:46.417324Z"
    },
    "papermill": {
     "duration": 0.127634,
     "end_time": "2025-07-23T14:39:46.420786",
     "exception": false,
     "start_time": "2025-07-23T14:39:46.293152",
     "status": "completed"
    },
    "tags": []
   },
   "outputs": [],
   "source": [
    "def filter_sub_universe_data(sub_universe, org_test):\n",
    "    # Keep all rows — no filtering\n",
    "    keep_rows_mask = np.ones(org_test.shape[0], dtype=bool)\n",
    "\n",
    "    print(f\"[INFO] Keeping all rows: {keep_rows_mask.sum()} rows retained.\")\n",
    "    return keep_rows_mask"
   ]
  },
  {
   "cell_type": "code",
   "execution_count": 61,
   "id": "4a759155",
   "metadata": {
    "execution": {
     "iopub.execute_input": "2025-07-23T14:39:46.457282Z",
     "iopub.status.busy": "2025-07-23T14:39:46.456917Z",
     "iopub.status.idle": "2025-07-23T14:39:56.337071Z",
     "shell.execute_reply": "2025-07-23T14:39:56.335990Z"
    },
    "papermill": {
     "duration": 9.896461,
     "end_time": "2025-07-23T14:39:56.339007",
     "exception": false,
     "start_time": "2025-07-23T14:39:46.442546",
     "status": "completed"
    },
    "tags": []
   },
   "outputs": [
    {
     "name": "stdout",
     "output_type": "stream",
     "text": [
      "Stopping execution_time clock.\n",
      "[INFO] Keeping all rows: 89710 rows retained.\n"
     ]
    },
    {
     "name": "stdout",
     "output_type": "stream",
     "text": [
      "[INFO] Keeping all rows: 89710 rows retained.\n"
     ]
    },
    {
     "name": "stdout",
     "output_type": "stream",
     "text": [
      "[INFO] Keeping all rows: 89710 rows retained.\n"
     ]
    },
    {
     "name": "stdout",
     "output_type": "stream",
     "text": [
      "[INFO] Keeping all rows: 89710 rows retained.\n"
     ]
    },
    {
     "data": {
      "text/html": [
       "<div>\n",
       "<style scoped>\n",
       "    .dataframe tbody tr th:only-of-type {\n",
       "        vertical-align: middle;\n",
       "    }\n",
       "\n",
       "    .dataframe tbody tr th {\n",
       "        vertical-align: top;\n",
       "    }\n",
       "\n",
       "    .dataframe thead th {\n",
       "        text-align: right;\n",
       "    }\n",
       "</style>\n",
       "<table border=\"1\" class=\"dataframe\">\n",
       "  <thead>\n",
       "    <tr style=\"text-align: right;\">\n",
       "      <th></th>\n",
       "      <th>run_no</th>\n",
       "      <th>universe_id</th>\n",
       "      <th>universe_settings</th>\n",
       "      <th>execution_time</th>\n",
       "      <th>test_size_n</th>\n",
       "      <th>test_size_frac</th>\n",
       "      <th>fair_main_equalized_odds_difference</th>\n",
       "      <th>fair_main_equalized_odds_ratio</th>\n",
       "      <th>fair_main_demographic_parity_difference</th>\n",
       "      <th>fair_main_demographic_parity_ratio</th>\n",
       "      <th>...</th>\n",
       "      <th>perf_grp_precision_0</th>\n",
       "      <th>perf_grp_precision_1</th>\n",
       "      <th>perf_grp_false positive rate_0</th>\n",
       "      <th>perf_grp_false positive rate_1</th>\n",
       "      <th>perf_grp_false negative rate_0</th>\n",
       "      <th>perf_grp_false negative rate_1</th>\n",
       "      <th>perf_grp_selection rate_0</th>\n",
       "      <th>perf_grp_selection rate_1</th>\n",
       "      <th>perf_grp_count_0</th>\n",
       "      <th>perf_grp_count_1</th>\n",
       "    </tr>\n",
       "  </thead>\n",
       "  <tbody>\n",
       "    <tr>\n",
       "      <th>0</th>\n",
       "      <td>9</td>\n",
       "      <td>24ec900894c13c1ae40a2653ffba70b2</td>\n",
       "      <td>{\"cutoff\": \"quantile_0.1\", \"eval_fairness_grou...</td>\n",
       "      <td>125.650901</td>\n",
       "      <td>89710</td>\n",
       "      <td>1.0</td>\n",
       "      <td>0.078197</td>\n",
       "      <td>0.917417</td>\n",
       "      <td>0.067436</td>\n",
       "      <td>0.929163</td>\n",
       "      <td>...</td>\n",
       "      <td>NaN</td>\n",
       "      <td>NaN</td>\n",
       "      <td>NaN</td>\n",
       "      <td>NaN</td>\n",
       "      <td>NaN</td>\n",
       "      <td>NaN</td>\n",
       "      <td>NaN</td>\n",
       "      <td>NaN</td>\n",
       "      <td>NaN</td>\n",
       "      <td>NaN</td>\n",
       "    </tr>\n",
       "    <tr>\n",
       "      <th>0</th>\n",
       "      <td>9</td>\n",
       "      <td>24ec900894c13c1ae40a2653ffba70b2</td>\n",
       "      <td>{\"cutoff\": \"quantile_0.1\", \"eval_fairness_grou...</td>\n",
       "      <td>125.650901</td>\n",
       "      <td>89710</td>\n",
       "      <td>1.0</td>\n",
       "      <td>0.078197</td>\n",
       "      <td>0.917417</td>\n",
       "      <td>0.067436</td>\n",
       "      <td>0.929163</td>\n",
       "      <td>...</td>\n",
       "      <td>0.120027</td>\n",
       "      <td>0.147700</td>\n",
       "      <td>0.946896</td>\n",
       "      <td>0.868699</td>\n",
       "      <td>0.008868</td>\n",
       "      <td>0.011269</td>\n",
       "      <td>0.951996</td>\n",
       "      <td>0.884560</td>\n",
       "      <td>20540.0</td>\n",
       "      <td>69170.0</td>\n",
       "    </tr>\n",
       "    <tr>\n",
       "      <th>0</th>\n",
       "      <td>9</td>\n",
       "      <td>24ec900894c13c1ae40a2653ffba70b2</td>\n",
       "      <td>{\"cutoff\": \"quantile_0.25\", \"eval_fairness_gro...</td>\n",
       "      <td>125.650901</td>\n",
       "      <td>89710</td>\n",
       "      <td>1.0</td>\n",
       "      <td>0.086257</td>\n",
       "      <td>0.890334</td>\n",
       "      <td>0.070159</td>\n",
       "      <td>0.912748</td>\n",
       "      <td>...</td>\n",
       "      <td>NaN</td>\n",
       "      <td>NaN</td>\n",
       "      <td>NaN</td>\n",
       "      <td>NaN</td>\n",
       "      <td>NaN</td>\n",
       "      <td>NaN</td>\n",
       "      <td>NaN</td>\n",
       "      <td>NaN</td>\n",
       "      <td>NaN</td>\n",
       "      <td>NaN</td>\n",
       "    </tr>\n",
       "    <tr>\n",
       "      <th>0</th>\n",
       "      <td>9</td>\n",
       "      <td>24ec900894c13c1ae40a2653ffba70b2</td>\n",
       "      <td>{\"cutoff\": \"quantile_0.25\", \"eval_fairness_gro...</td>\n",
       "      <td>125.650901</td>\n",
       "      <td>89710</td>\n",
       "      <td>1.0</td>\n",
       "      <td>0.086257</td>\n",
       "      <td>0.890334</td>\n",
       "      <td>0.070159</td>\n",
       "      <td>0.912748</td>\n",
       "      <td>...</td>\n",
       "      <td>0.134597</td>\n",
       "      <td>0.171926</td>\n",
       "      <td>0.786540</td>\n",
       "      <td>0.700283</td>\n",
       "      <td>0.061233</td>\n",
       "      <td>0.045077</td>\n",
       "      <td>0.804090</td>\n",
       "      <td>0.733931</td>\n",
       "      <td>20540.0</td>\n",
       "      <td>69170.0</td>\n",
       "    </tr>\n",
       "  </tbody>\n",
       "</table>\n",
       "<p>4 rows × 50 columns</p>\n",
       "</div>"
      ],
      "text/plain": [
       "  run_no                       universe_id  \\\n",
       "0      9  24ec900894c13c1ae40a2653ffba70b2   \n",
       "0      9  24ec900894c13c1ae40a2653ffba70b2   \n",
       "0      9  24ec900894c13c1ae40a2653ffba70b2   \n",
       "0      9  24ec900894c13c1ae40a2653ffba70b2   \n",
       "\n",
       "                                   universe_settings  execution_time  \\\n",
       "0  {\"cutoff\": \"quantile_0.1\", \"eval_fairness_grou...      125.650901   \n",
       "0  {\"cutoff\": \"quantile_0.1\", \"eval_fairness_grou...      125.650901   \n",
       "0  {\"cutoff\": \"quantile_0.25\", \"eval_fairness_gro...      125.650901   \n",
       "0  {\"cutoff\": \"quantile_0.25\", \"eval_fairness_gro...      125.650901   \n",
       "\n",
       "   test_size_n  test_size_frac  fair_main_equalized_odds_difference  \\\n",
       "0        89710             1.0                             0.078197   \n",
       "0        89710             1.0                             0.078197   \n",
       "0        89710             1.0                             0.086257   \n",
       "0        89710             1.0                             0.086257   \n",
       "\n",
       "   fair_main_equalized_odds_ratio  fair_main_demographic_parity_difference  \\\n",
       "0                        0.917417                                 0.067436   \n",
       "0                        0.917417                                 0.067436   \n",
       "0                        0.890334                                 0.070159   \n",
       "0                        0.890334                                 0.070159   \n",
       "\n",
       "   fair_main_demographic_parity_ratio  ...  perf_grp_precision_0  \\\n",
       "0                            0.929163  ...                   NaN   \n",
       "0                            0.929163  ...              0.120027   \n",
       "0                            0.912748  ...                   NaN   \n",
       "0                            0.912748  ...              0.134597   \n",
       "\n",
       "   perf_grp_precision_1  perf_grp_false positive rate_0  \\\n",
       "0                   NaN                             NaN   \n",
       "0              0.147700                        0.946896   \n",
       "0                   NaN                             NaN   \n",
       "0              0.171926                        0.786540   \n",
       "\n",
       "   perf_grp_false positive rate_1  perf_grp_false negative rate_0  \\\n",
       "0                             NaN                             NaN   \n",
       "0                        0.868699                        0.008868   \n",
       "0                             NaN                             NaN   \n",
       "0                        0.700283                        0.061233   \n",
       "\n",
       "   perf_grp_false negative rate_1  perf_grp_selection rate_0  \\\n",
       "0                             NaN                        NaN   \n",
       "0                        0.011269                   0.951996   \n",
       "0                             NaN                        NaN   \n",
       "0                        0.045077                   0.804090   \n",
       "\n",
       "   perf_grp_selection rate_1  perf_grp_count_0  perf_grp_count_1  \n",
       "0                        NaN               NaN               NaN  \n",
       "0                   0.884560           20540.0           69170.0  \n",
       "0                        NaN               NaN               NaN  \n",
       "0                   0.733931           20540.0           69170.0  \n",
       "\n",
       "[4 rows x 50 columns]"
      ]
     },
     "execution_count": 61,
     "metadata": {},
     "output_type": "execute_result"
    }
   ],
   "source": [
    "final_output = universe_analysis.generate_final_output(\n",
    "    y_pred_prob=probs_test,\n",
    "    y_test=y_true,\n",
    "    org_test=org_test,\n",
    "    filter_data=filter_sub_universe_data,\n",
    "    cp_metrics_df=cp_metrics_df,\n",
    "    save=True,\n",
    ")\n",
    "final_output"
   ]
  },
  {
   "cell_type": "code",
   "execution_count": null,
   "id": "721ff514-cb11-46f8-b6fc-50392f74b5cb",
   "metadata": {
    "papermill": {
     "duration": 0.026574,
     "end_time": "2025-07-23T14:39:56.395622",
     "exception": false,
     "start_time": "2025-07-23T14:39:56.369048",
     "status": "completed"
    },
    "tags": []
   },
   "outputs": [],
   "source": []
  }
 ],
 "metadata": {
  "celltoolbar": "Tags",
  "kernelspec": {
   "display_name": "Python (CMA Fairness)",
   "language": "python",
   "name": "cma_fair_env"
  },
  "language_info": {
   "codemirror_mode": {
    "name": "ipython",
    "version": 3
   },
   "file_extension": ".py",
   "mimetype": "text/x-python",
   "name": "python",
   "nbconvert_exporter": "python",
   "pygments_lexer": "ipython3",
   "version": "3.10.12"
  },
  "papermill": {
   "default_parameters": {},
   "duration": 143.599968,
   "end_time": "2025-07-23T14:39:57.147302",
   "environment_variables": {},
   "exception": null,
   "input_path": "universe_analysis.ipynb",
   "output_path": "output/runs/9/notebooks/m_9-24ec900894c13c1ae40a2653ffba70b2.ipynb",
   "parameters": {
    "output_dir": "output",
    "run_no": "9",
    "seed": "2023",
    "universe": "{\"cutoff\": [\"quantile_0.1\", \"quantile_0.25\"], \"eval_fairness_grouping\": [\"majority-minority\", \"nationality-all\"], \"exclude_features\": \"none\", \"exclude_subgroups\": \"keep-all\", \"model\": \"gbm\", \"scale\": \"do-not-scale\"}",
    "universe_id": "24ec900894c13c1ae40a2653ffba70b2"
   },
   "start_time": "2025-07-23T14:37:33.547334",
   "version": "2.6.0"
  }
 },
 "nbformat": 4,
 "nbformat_minor": 5
}