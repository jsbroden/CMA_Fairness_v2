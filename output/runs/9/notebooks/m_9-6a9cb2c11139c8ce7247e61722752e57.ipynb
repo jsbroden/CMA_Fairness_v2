{
 "cells": [
  {
   "cell_type": "code",
   "execution_count": 1,
   "id": "f159f837-637b-42ba-96b5-ec9a68c44524",
   "metadata": {
    "execution": {
     "iopub.execute_input": "2025-07-23T14:50:22.158511Z",
     "iopub.status.busy": "2025-07-23T14:50:22.157829Z",
     "iopub.status.idle": "2025-07-23T14:50:22.173557Z",
     "shell.execute_reply": "2025-07-23T14:50:22.172424Z"
    },
    "papermill": {
     "duration": 0.034979,
     "end_time": "2025-07-23T14:50:22.175190",
     "exception": false,
     "start_time": "2025-07-23T14:50:22.140211",
     "status": "completed"
    },
    "tags": []
   },
   "outputs": [
    {
     "name": "stdout",
     "output_type": "stream",
     "text": [
      "/dss/dsshome1/0C/ra93lal2/cma/CMA_Fairness_v2\n"
     ]
    },
    {
     "name": "stderr",
     "output_type": "stream",
     "text": [
      "/dss/dsshome1/0C/ra93lal2/.local/share/virtualenvs/CMA_Fairness_v2-3j10GkSs/lib/python3.10/site-packages/IPython/core/magics/osm.py:393: UserWarning: This is now an optional IPython functionality, using bookmarks requires you to install the `pickleshare` library.\n",
      "  bkms = self.shell.db.get('bookmarks', {})\n",
      "/dss/dsshome1/0C/ra93lal2/.local/share/virtualenvs/CMA_Fairness_v2-3j10GkSs/lib/python3.10/site-packages/IPython/core/magics/osm.py:417: UserWarning: This is now an optional IPython functionality, setting dhist requires you to install the `pickleshare` library.\n",
      "  self.shell.db['dhist'] = compress_dhist(dhist)[-100:]\n"
     ]
    }
   ],
   "source": [
    "%cd ~/cma/CMA_Fairness_v2"
   ]
  },
  {
   "cell_type": "markdown",
   "id": "de2603b9",
   "metadata": {
    "papermill": {
     "duration": 0.015876,
     "end_time": "2025-07-23T14:50:22.210885",
     "exception": false,
     "start_time": "2025-07-23T14:50:22.195009",
     "status": "completed"
    },
    "tags": []
   },
   "source": [
    "The following cell holds the definition of our parameters, these values can be overriden by rendering the with e.g. the following command:\n",
    "\n",
    "papermill -p alpha 0.2 -p ratio 0.3 universe_analysis.ipynb output/test_run.ipynb"
   ]
  },
  {
   "cell_type": "code",
   "execution_count": 2,
   "id": "a80968a0-40bb-4fa9-85ef-2d5eefb01975",
   "metadata": {
    "execution": {
     "iopub.execute_input": "2025-07-23T14:50:22.244169Z",
     "iopub.status.busy": "2025-07-23T14:50:22.243485Z",
     "iopub.status.idle": "2025-07-23T14:50:22.249346Z",
     "shell.execute_reply": "2025-07-23T14:50:22.248337Z"
    },
    "papermill": {
     "duration": 0.024549,
     "end_time": "2025-07-23T14:50:22.251045",
     "exception": false,
     "start_time": "2025-07-23T14:50:22.226496",
     "status": "completed"
    },
    "tags": []
   },
   "outputs": [
    {
     "name": "stdout",
     "output_type": "stream",
     "text": [
      "Current working directory: /dss/dsshome1/0C/ra93lal2/cma/CMA_Fairness_v2\n"
     ]
    }
   ],
   "source": [
    "import os\n",
    "print(\"Current working directory:\", os.getcwd())"
   ]
  },
  {
   "cell_type": "code",
   "execution_count": 3,
   "id": "2dce4c03",
   "metadata": {
    "execution": {
     "iopub.execute_input": "2025-07-23T14:50:22.285165Z",
     "iopub.status.busy": "2025-07-23T14:50:22.284281Z",
     "iopub.status.idle": "2025-07-23T14:50:22.290848Z",
     "shell.execute_reply": "2025-07-23T14:50:22.289933Z"
    },
    "papermill": {
     "duration": 0.025145,
     "end_time": "2025-07-23T14:50:22.292511",
     "exception": false,
     "start_time": "2025-07-23T14:50:22.267366",
     "status": "completed"
    },
    "tags": [
     "parameters"
    ]
   },
   "outputs": [],
   "source": [
    "run_no = 0\n",
    "universe_id = \"test\"\n",
    "universe = {\n",
    "    \"scale\": \"scale\", # \"scale\", \"do-not-scale\",\n",
    "    \"model\": \"elasticnet\", # \"logreg\", \"penalized_logreg\", \"rf\", \"gbm\", \"elasticnet\"\n",
    "    \"cutoff\": [\"quantile_0.15\", \"quantile_0.30\"],\n",
    "    \"exclude_features\": \"age\", # \"none\", \"nationality\", \"sex\", \"nationality-sex\", \"age\"\n",
    "    \"exclude_subgroups\": \"keep-all\", # \"keep-all\", \"drop-non-german\"\n",
    "    #\"training_sample\": \"restricted\", # \"restricted\", \"full\"\n",
    "    \"eval_fairness_grouping\": [\"majority-minority\", \"nationality-all\"]\n",
    "}\n",
    "\n",
    "output_dir=\"./output\"\n",
    "seed=0"
   ]
  },
  {
   "cell_type": "code",
   "execution_count": 4,
   "id": "ed53ba52",
   "metadata": {
    "execution": {
     "iopub.execute_input": "2025-07-23T14:50:22.327112Z",
     "iopub.status.busy": "2025-07-23T14:50:22.326219Z",
     "iopub.status.idle": "2025-07-23T14:50:22.332036Z",
     "shell.execute_reply": "2025-07-23T14:50:22.331090Z"
    },
    "papermill": {
     "duration": 0.024637,
     "end_time": "2025-07-23T14:50:22.333742",
     "exception": false,
     "start_time": "2025-07-23T14:50:22.309105",
     "status": "completed"
    },
    "tags": [
     "injected-parameters"
    ]
   },
   "outputs": [],
   "source": [
    "# Parameters\n",
    "universe_id = \"6a9cb2c11139c8ce7247e61722752e57\"\n",
    "run_no = \"9\"\n",
    "universe = \"{\\\"cutoff\\\": [\\\"quantile_0.1\\\", \\\"quantile_0.25\\\"], \\\"eval_fairness_grouping\\\": [\\\"majority-minority\\\", \\\"nationality-all\\\"], \\\"exclude_features\\\": \\\"age\\\", \\\"exclude_subgroups\\\": \\\"drop-non-german\\\", \\\"model\\\": \\\"elasticnet\\\", \\\"scale\\\": \\\"do-not-scale\\\"}\"\n",
    "output_dir = \"output\"\n",
    "seed = \"2023\"\n"
   ]
  },
  {
   "cell_type": "code",
   "execution_count": 5,
   "id": "1650acaf",
   "metadata": {
    "execution": {
     "iopub.execute_input": "2025-07-23T14:50:22.368205Z",
     "iopub.status.busy": "2025-07-23T14:50:22.367343Z",
     "iopub.status.idle": "2025-07-23T14:50:22.373018Z",
     "shell.execute_reply": "2025-07-23T14:50:22.371988Z"
    },
    "papermill": {
     "duration": 0.02439,
     "end_time": "2025-07-23T14:50:22.374703",
     "exception": false,
     "start_time": "2025-07-23T14:50:22.350313",
     "status": "completed"
    },
    "tags": []
   },
   "outputs": [],
   "source": [
    "import json\n",
    "# Parse universe into dict if it is passed as a string\n",
    "if isinstance(universe, str):\n",
    "    universe = json.loads(universe)"
   ]
  },
  {
   "cell_type": "code",
   "execution_count": 6,
   "id": "16620c48",
   "metadata": {
    "execution": {
     "iopub.execute_input": "2025-07-23T14:50:22.408997Z",
     "iopub.status.busy": "2025-07-23T14:50:22.408249Z",
     "iopub.status.idle": "2025-07-23T14:50:22.455809Z",
     "shell.execute_reply": "2025-07-23T14:50:22.454913Z"
    },
    "papermill": {
     "duration": 0.066949,
     "end_time": "2025-07-23T14:50:22.458106",
     "exception": false,
     "start_time": "2025-07-23T14:50:22.391157",
     "status": "completed"
    },
    "tags": []
   },
   "outputs": [],
   "source": [
    "# Auto-reload the custom package\n",
    "%load_ext autoreload\n",
    "%autoreload 1\n",
    "%aimport fairness_multiverse"
   ]
  },
  {
   "cell_type": "code",
   "execution_count": 7,
   "id": "01c5c9f3",
   "metadata": {
    "execution": {
     "iopub.execute_input": "2025-07-23T14:50:22.493064Z",
     "iopub.status.busy": "2025-07-23T14:50:22.492402Z",
     "iopub.status.idle": "2025-07-23T14:50:24.593470Z",
     "shell.execute_reply": "2025-07-23T14:50:24.592470Z"
    },
    "papermill": {
     "duration": 2.120527,
     "end_time": "2025-07-23T14:50:24.595467",
     "exception": false,
     "start_time": "2025-07-23T14:50:22.474940",
     "status": "completed"
    },
    "tags": []
   },
   "outputs": [],
   "source": [
    "from fairness_multiverse.universe import UniverseAnalysis\n",
    "\n",
    "universe_analysis = UniverseAnalysis(\n",
    "    run_no = run_no,\n",
    "    universe_id = universe_id,\n",
    "    universe = universe,\n",
    "    output_dir=output_dir,\n",
    ")"
   ]
  },
  {
   "cell_type": "code",
   "execution_count": 8,
   "id": "106241f5",
   "metadata": {
    "execution": {
     "iopub.execute_input": "2025-07-23T14:50:24.630358Z",
     "iopub.status.busy": "2025-07-23T14:50:24.629641Z",
     "iopub.status.idle": "2025-07-23T14:50:24.636213Z",
     "shell.execute_reply": "2025-07-23T14:50:24.635233Z"
    },
    "papermill": {
     "duration": 0.025674,
     "end_time": "2025-07-23T14:50:24.637983",
     "exception": false,
     "start_time": "2025-07-23T14:50:24.612309",
     "status": "completed"
    },
    "tags": []
   },
   "outputs": [
    {
     "name": "stdout",
     "output_type": "stream",
     "text": [
      "Using Seed: 2023\n"
     ]
    }
   ],
   "source": [
    "import numpy as np\n",
    "parsed_seed = int(seed)\n",
    "np.random.seed(parsed_seed)\n",
    "print(f\"Using Seed: {parsed_seed}\")"
   ]
  },
  {
   "cell_type": "markdown",
   "id": "e0ebdc57",
   "metadata": {
    "papermill": {
     "duration": 0.016289,
     "end_time": "2025-07-23T14:50:24.671147",
     "exception": false,
     "start_time": "2025-07-23T14:50:24.654858",
     "status": "completed"
    },
    "tags": []
   },
   "source": [
    "# Loading Data"
   ]
  },
  {
   "cell_type": "markdown",
   "id": "681925a3",
   "metadata": {
    "papermill": {
     "duration": 0.016365,
     "end_time": "2025-07-23T14:50:24.703776",
     "exception": false,
     "start_time": "2025-07-23T14:50:24.687411",
     "status": "completed"
    },
    "tags": []
   },
   "source": [
    "Load siab_train, siab_test, siab_calib and/or \n",
    "load siab_train_features, siab_train_labels"
   ]
  },
  {
   "cell_type": "code",
   "execution_count": 9,
   "id": "f0496b8a",
   "metadata": {
    "execution": {
     "iopub.execute_input": "2025-07-23T14:50:24.738359Z",
     "iopub.status.busy": "2025-07-23T14:50:24.737645Z",
     "iopub.status.idle": "2025-07-23T14:50:24.743787Z",
     "shell.execute_reply": "2025-07-23T14:50:24.742859Z"
    },
    "papermill": {
     "duration": 0.025531,
     "end_time": "2025-07-23T14:50:24.745460",
     "exception": false,
     "start_time": "2025-07-23T14:50:24.719929",
     "status": "completed"
    },
    "tags": []
   },
   "outputs": [],
   "source": [
    "# Do I need to load siab? Delete this cell?\n",
    "\n",
    "#from pathlib import Path\n",
    "#import pandas as pd\n",
    "#\n",
    "## File paths\n",
    "#raw_file = Path(\"data/raw/siab.csv\")\n",
    "#cache_file = Path(\"data/siab_cached.csv.gz\")\n",
    "#\n",
    "## Ensure cache directory exists\n",
    "#cache_file.parent.mkdir(parents=True, exist_ok=True)\n",
    "#\n",
    "## Load with simple caching\n",
    "#if cache_file.exists():\n",
    "#    print(f\"Loading SIAB data from cache: {cache_file}\")\n",
    "#    siab = pd.read_csv(cache_file, compression='gzip')\n",
    "#else:\n",
    "#    print(f\"Cache not found. Reading raw SIAB data: {raw_file}\")\n",
    "#    siab = pd.read_csv(raw_file)\n",
    "#    siab.to_csv(cache_file, index=False, compression='gzip')\n",
    "#    print(f\"Cached SIAB data to: {cache_file}\")\n",
    "#\n",
    "## Now use `siab` DataFrame as needed\n",
    "#print(siab.shape)\n"
   ]
  },
  {
   "cell_type": "code",
   "execution_count": 10,
   "id": "a0edb063",
   "metadata": {
    "execution": {
     "iopub.execute_input": "2025-07-23T14:50:24.780421Z",
     "iopub.status.busy": "2025-07-23T14:50:24.779538Z",
     "iopub.status.idle": "2025-07-23T14:50:26.030926Z",
     "shell.execute_reply": "2025-07-23T14:50:26.030001Z"
    },
    "papermill": {
     "duration": 1.270678,
     "end_time": "2025-07-23T14:50:26.032902",
     "exception": false,
     "start_time": "2025-07-23T14:50:24.762224",
     "status": "completed"
    },
    "tags": []
   },
   "outputs": [],
   "source": [
    "import pandas as pd\n",
    "\n",
    "X_train = pd.read_csv(\"./data/X_train.csv\")\n",
    "y_train = pd.read_csv(\"./data/y_train.csv\")"
   ]
  },
  {
   "cell_type": "code",
   "execution_count": 11,
   "id": "63d08085",
   "metadata": {
    "execution": {
     "iopub.execute_input": "2025-07-23T14:50:26.067878Z",
     "iopub.status.busy": "2025-07-23T14:50:26.067382Z",
     "iopub.status.idle": "2025-07-23T14:50:27.502619Z",
     "shell.execute_reply": "2025-07-23T14:50:27.501688Z"
    },
    "papermill": {
     "duration": 1.45478,
     "end_time": "2025-07-23T14:50:27.504665",
     "exception": false,
     "start_time": "2025-07-23T14:50:26.049885",
     "status": "completed"
    },
    "tags": []
   },
   "outputs": [],
   "source": [
    "X_test = pd.read_csv(\"./data/X_test.csv\")\n",
    "y_true = pd.read_csv(\"./data/y_test.csv\")"
   ]
  },
  {
   "cell_type": "code",
   "execution_count": 12,
   "id": "98a8d0fa-1d3d-4ed8-bb2c-281470e24add",
   "metadata": {
    "execution": {
     "iopub.execute_input": "2025-07-23T14:50:27.540419Z",
     "iopub.status.busy": "2025-07-23T14:50:27.539734Z",
     "iopub.status.idle": "2025-07-23T14:50:28.938181Z",
     "shell.execute_reply": "2025-07-23T14:50:28.937124Z"
    },
    "papermill": {
     "duration": 1.418628,
     "end_time": "2025-07-23T14:50:28.940482",
     "exception": false,
     "start_time": "2025-07-23T14:50:27.521854",
     "status": "completed"
    },
    "tags": []
   },
   "outputs": [],
   "source": [
    "# Calibration data for conformal\n",
    "X_calib = pd.read_csv(\"./data/X_calib.csv\")\n",
    "y_calib = pd.read_csv(\"./data/y_calib.csv\")"
   ]
  },
  {
   "cell_type": "code",
   "execution_count": 13,
   "id": "e6c733c5",
   "metadata": {
    "execution": {
     "iopub.execute_input": "2025-07-23T14:50:28.976520Z",
     "iopub.status.busy": "2025-07-23T14:50:28.975827Z",
     "iopub.status.idle": "2025-07-23T14:50:29.082946Z",
     "shell.execute_reply": "2025-07-23T14:50:29.082009Z"
    },
    "papermill": {
     "duration": 0.127078,
     "end_time": "2025-07-23T14:50:29.084992",
     "exception": false,
     "start_time": "2025-07-23T14:50:28.957914",
     "status": "completed"
    },
    "tags": []
   },
   "outputs": [],
   "source": [
    "# Auxiliary data needed downstream in the pipeline\n",
    "\n",
    "org_train = X_train.copy()\n",
    "org_test = X_test.copy()\n",
    "org_calib = X_calib.copy()"
   ]
  },
  {
   "cell_type": "markdown",
   "id": "0a4a1b33",
   "metadata": {
    "papermill": {
     "duration": 0.016694,
     "end_time": "2025-07-23T14:50:29.118960",
     "exception": false,
     "start_time": "2025-07-23T14:50:29.102266",
     "status": "completed"
    },
    "tags": []
   },
   "source": [
    "# Preprocessing Data"
   ]
  },
  {
   "cell_type": "code",
   "execution_count": 14,
   "id": "ca879031",
   "metadata": {
    "execution": {
     "iopub.execute_input": "2025-07-23T14:50:29.154392Z",
     "iopub.status.busy": "2025-07-23T14:50:29.153700Z",
     "iopub.status.idle": "2025-07-23T14:50:29.160149Z",
     "shell.execute_reply": "2025-07-23T14:50:29.159146Z"
    },
    "papermill": {
     "duration": 0.026236,
     "end_time": "2025-07-23T14:50:29.161917",
     "exception": false,
     "start_time": "2025-07-23T14:50:29.135681",
     "status": "completed"
    },
    "tags": []
   },
   "outputs": [],
   "source": [
    "# EXCLUDE PROTECTED FEATURES\n",
    "# ----------------------\n",
    "# \"exclude_features\": \"none\", # \"nationality\", \"sex\", \"nationality-sex\"\n",
    "\n",
    "excluded_features = universe[\"exclude_features\"].split(\"-\") # split, e.g.: \"nationality-sex\" -> [\"nationality\", \"sex\"]\n",
    "excluded_features_dictionary = {\n",
    "    \"nationality\": [\"maxdeutsch1\", \"maxdeutsch.Missing.\"],\n",
    "    \"sex\": [\"frau1\"],\n",
    "    \"age\": [\"age\"],\n",
    "}\n"
   ]
  },
  {
   "cell_type": "code",
   "execution_count": 15,
   "id": "b745ac60",
   "metadata": {
    "execution": {
     "iopub.execute_input": "2025-07-23T14:50:29.197869Z",
     "iopub.status.busy": "2025-07-23T14:50:29.197190Z",
     "iopub.status.idle": "2025-07-23T14:50:29.203448Z",
     "shell.execute_reply": "2025-07-23T14:50:29.202458Z"
    },
    "papermill": {
     "duration": 0.025676,
     "end_time": "2025-07-23T14:50:29.205036",
     "exception": false,
     "start_time": "2025-07-23T14:50:29.179360",
     "status": "completed"
    },
    "tags": []
   },
   "outputs": [],
   "source": [
    "# Code nice names to column names\n",
    "\n",
    "excluded_features_columns = [\n",
    "    excluded_features_dictionary[f] for f in excluded_features if len(f) > 0 and f != \"none\"\n",
    "]"
   ]
  },
  {
   "cell_type": "code",
   "execution_count": 16,
   "id": "f84f73a2",
   "metadata": {
    "execution": {
     "iopub.execute_input": "2025-07-23T14:50:29.241182Z",
     "iopub.status.busy": "2025-07-23T14:50:29.240483Z",
     "iopub.status.idle": "2025-07-23T14:50:29.247024Z",
     "shell.execute_reply": "2025-07-23T14:50:29.246106Z"
    },
    "papermill": {
     "duration": 0.026269,
     "end_time": "2025-07-23T14:50:29.248757",
     "exception": false,
     "start_time": "2025-07-23T14:50:29.222488",
     "status": "completed"
    },
    "tags": []
   },
   "outputs": [],
   "source": [
    "from utils import flatten_once\n",
    "\n",
    "excluded_features_columns = flatten_once(excluded_features_columns)"
   ]
  },
  {
   "cell_type": "code",
   "execution_count": 17,
   "id": "884dea22",
   "metadata": {
    "execution": {
     "iopub.execute_input": "2025-07-23T14:50:29.284674Z",
     "iopub.status.busy": "2025-07-23T14:50:29.283945Z",
     "iopub.status.idle": "2025-07-23T14:50:29.333320Z",
     "shell.execute_reply": "2025-07-23T14:50:29.332243Z"
    },
    "papermill": {
     "duration": 0.069249,
     "end_time": "2025-07-23T14:50:29.335286",
     "exception": false,
     "start_time": "2025-07-23T14:50:29.266037",
     "status": "completed"
    },
    "tags": []
   },
   "outputs": [
    {
     "name": "stdout",
     "output_type": "stream",
     "text": [
      "Dropping features: ['age']\n"
     ]
    }
   ],
   "source": [
    "if len(excluded_features_columns) > 0:\n",
    "    print(f\"Dropping features: {excluded_features_columns}\")\n",
    "    X_train.drop(excluded_features_columns, axis=1, inplace=True)"
   ]
  },
  {
   "cell_type": "code",
   "execution_count": 18,
   "id": "95ab8b16",
   "metadata": {
    "execution": {
     "iopub.execute_input": "2025-07-23T14:50:29.371481Z",
     "iopub.status.busy": "2025-07-23T14:50:29.370783Z",
     "iopub.status.idle": "2025-07-23T14:50:29.425146Z",
     "shell.execute_reply": "2025-07-23T14:50:29.424112Z"
    },
    "papermill": {
     "duration": 0.074036,
     "end_time": "2025-07-23T14:50:29.426865",
     "exception": false,
     "start_time": "2025-07-23T14:50:29.352829",
     "status": "completed"
    },
    "tags": []
   },
   "outputs": [
    {
     "name": "stdout",
     "output_type": "stream",
     "text": [
      "Dropping features: ['age']\n"
     ]
    }
   ],
   "source": [
    "if len(excluded_features_columns) > 0:\n",
    "    print(f\"Dropping features: {excluded_features_columns}\")\n",
    "    X_test.drop(excluded_features_columns, axis=1, inplace=True)"
   ]
  },
  {
   "cell_type": "code",
   "execution_count": 19,
   "id": "1853aaf5-fb9f-46cb-a2b5-8ea4ae2237e4",
   "metadata": {
    "execution": {
     "iopub.execute_input": "2025-07-23T14:50:29.463904Z",
     "iopub.status.busy": "2025-07-23T14:50:29.463200Z",
     "iopub.status.idle": "2025-07-23T14:50:29.515964Z",
     "shell.execute_reply": "2025-07-23T14:50:29.514877Z"
    },
    "papermill": {
     "duration": 0.073931,
     "end_time": "2025-07-23T14:50:29.518732",
     "exception": false,
     "start_time": "2025-07-23T14:50:29.444801",
     "status": "completed"
    },
    "tags": []
   },
   "outputs": [
    {
     "name": "stdout",
     "output_type": "stream",
     "text": [
      "Dropping features: ['age']\n"
     ]
    }
   ],
   "source": [
    "if len(excluded_features_columns) > 0:\n",
    "    print(f\"Dropping features: {excluded_features_columns}\")\n",
    "    X_calib.drop(excluded_features_columns, axis=1, inplace=True)"
   ]
  },
  {
   "cell_type": "code",
   "execution_count": 20,
   "id": "76c4dc6d",
   "metadata": {
    "execution": {
     "iopub.execute_input": "2025-07-23T14:50:29.555575Z",
     "iopub.status.busy": "2025-07-23T14:50:29.554880Z",
     "iopub.status.idle": "2025-07-23T14:50:29.560795Z",
     "shell.execute_reply": "2025-07-23T14:50:29.559877Z"
    },
    "papermill": {
     "duration": 0.025898,
     "end_time": "2025-07-23T14:50:29.562519",
     "exception": false,
     "start_time": "2025-07-23T14:50:29.536621",
     "status": "completed"
    },
    "tags": []
   },
   "outputs": [],
   "source": [
    "# EXCLUDE CERTAIN SUBGROUPS\n",
    "# ----------------------\n",
    "\n",
    "mode = universe.get(\"exclude_subgroups\", \"keep-all\") \n",
    "# Fetches the exclude_subgroups setting from the universe dict.\n",
    "# Defaults to \"keep-all\" if the key is missing."
   ]
  },
  {
   "cell_type": "code",
   "execution_count": 21,
   "id": "21994072",
   "metadata": {
    "execution": {
     "iopub.execute_input": "2025-07-23T14:50:29.599588Z",
     "iopub.status.busy": "2025-07-23T14:50:29.598710Z",
     "iopub.status.idle": "2025-07-23T14:50:29.605830Z",
     "shell.execute_reply": "2025-07-23T14:50:29.604928Z"
    },
    "papermill": {
     "duration": 0.027215,
     "end_time": "2025-07-23T14:50:29.607615",
     "exception": false,
     "start_time": "2025-07-23T14:50:29.580400",
     "status": "completed"
    },
    "tags": []
   },
   "outputs": [],
   "source": [
    "if mode == \"keep-all\":\n",
    "    keep_mask = pd.Series(True, index=org_train.index)\n",
    "\n",
    "# org_train contains the original feature columns from features_org (in Simson)\n",
    "# features_org contains unprocessed features, for me X_train at beginning ???\n",
    "# For keep-all, creates a boolean Series (keep_mask) of all True, so no rows are removed.\n",
    "\n",
    "elif mode == \"drop-non-german\":\n",
    "    keep_mask = org_train[\"maxdeutsch1\"] == 1 # ??? what about missing values?\n",
    "\n",
    "else:\n",
    "    raise ValueError(f\"Unsupported mode for exclude_subgroups: {mode}\")\n"
   ]
  },
  {
   "cell_type": "code",
   "execution_count": 22,
   "id": "71651440",
   "metadata": {
    "execution": {
     "iopub.execute_input": "2025-07-23T14:50:29.644654Z",
     "iopub.status.busy": "2025-07-23T14:50:29.643952Z",
     "iopub.status.idle": "2025-07-23T14:50:29.651965Z",
     "shell.execute_reply": "2025-07-23T14:50:29.650910Z"
    },
    "papermill": {
     "duration": 0.028071,
     "end_time": "2025-07-23T14:50:29.653612",
     "exception": false,
     "start_time": "2025-07-23T14:50:29.625541",
     "status": "completed"
    },
    "tags": []
   },
   "outputs": [
    {
     "name": "stdout",
     "output_type": "stream",
     "text": [
      "Dropping 10036 rows (13.38%) where mode='drop-non-german'\n"
     ]
    }
   ],
   "source": [
    "n_drop = (~keep_mask).sum() # Calculates how many rows are set to be dropped\n",
    "if n_drop > 0:\n",
    "    pct = n_drop / len(keep_mask) * 100\n",
    "    print(f\"Dropping {n_drop} rows ({pct:.2f}%) where mode='{mode}'\")"
   ]
  },
  {
   "cell_type": "code",
   "execution_count": 23,
   "id": "5fb8eee5",
   "metadata": {
    "execution": {
     "iopub.execute_input": "2025-07-23T14:50:29.691064Z",
     "iopub.status.busy": "2025-07-23T14:50:29.690375Z",
     "iopub.status.idle": "2025-07-23T14:50:29.740002Z",
     "shell.execute_reply": "2025-07-23T14:50:29.739072Z"
    },
    "papermill": {
     "duration": 0.070339,
     "end_time": "2025-07-23T14:50:29.741935",
     "exception": false,
     "start_time": "2025-07-23T14:50:29.671596",
     "status": "completed"
    },
    "tags": []
   },
   "outputs": [],
   "source": [
    "X_train = X_train[keep_mask]"
   ]
  },
  {
   "cell_type": "code",
   "execution_count": 24,
   "id": "b202bb3a",
   "metadata": {
    "execution": {
     "iopub.execute_input": "2025-07-23T14:50:29.779383Z",
     "iopub.status.busy": "2025-07-23T14:50:29.778627Z",
     "iopub.status.idle": "2025-07-23T14:50:29.786974Z",
     "shell.execute_reply": "2025-07-23T14:50:29.786077Z"
    },
    "papermill": {
     "duration": 0.028584,
     "end_time": "2025-07-23T14:50:29.788678",
     "exception": false,
     "start_time": "2025-07-23T14:50:29.760094",
     "status": "completed"
    },
    "tags": []
   },
   "outputs": [],
   "source": [
    "y_train = y_train[keep_mask]"
   ]
  },
  {
   "cell_type": "markdown",
   "id": "493e2ac3",
   "metadata": {
    "papermill": {
     "duration": 0.017532,
     "end_time": "2025-07-23T14:50:29.824190",
     "exception": false,
     "start_time": "2025-07-23T14:50:29.806658",
     "status": "completed"
    },
    "tags": []
   },
   "source": [
    "# Model Training"
   ]
  },
  {
   "cell_type": "code",
   "execution_count": 25,
   "id": "679e1268",
   "metadata": {
    "execution": {
     "iopub.execute_input": "2025-07-23T14:50:29.861019Z",
     "iopub.status.busy": "2025-07-23T14:50:29.860304Z",
     "iopub.status.idle": "2025-07-23T14:50:29.971648Z",
     "shell.execute_reply": "2025-07-23T14:50:29.970714Z"
    },
    "papermill": {
     "duration": 0.131891,
     "end_time": "2025-07-23T14:50:29.973581",
     "exception": false,
     "start_time": "2025-07-23T14:50:29.841690",
     "status": "completed"
    },
    "tags": []
   },
   "outputs": [],
   "source": [
    "from sklearn.linear_model import LogisticRegression\n",
    "from sklearn.ensemble import GradientBoostingClassifier, RandomForestClassifier\n",
    "\n",
    "if (universe[\"model\"] == \"logreg\"):\n",
    "    model = LogisticRegression() #penalty=\"none\") #, solver=\"newton-cg\", max_iter=1) # include random_state=19 ?\n",
    "elif (universe[\"model\"] == \"penalized_logreg\"):\n",
    "    model = LogisticRegression(penalty=\"l2\", C=1.0) #, solver=\"newton-cg\", max_iter=1)\n",
    "elif (universe[\"model\"] == \"rf\"):\n",
    "    model = RandomForestClassifier(n_estimators=100, n_jobs=-1)\n",
    "elif (universe[\"model\"] == \"gbm\"):\n",
    "    model = GradientBoostingClassifier()\n",
    "elif (universe[\"model\"] == \"elasticnet\"):\n",
    "    model = LogisticRegression(penalty = 'elasticnet', solver = 'saga', l1_ratio = 0.5, max_iter=5000) # which solver to use?\n",
    "else:\n",
    "    raise \"Unsupported universe.model\""
   ]
  },
  {
   "cell_type": "code",
   "execution_count": 26,
   "id": "0cc8f744",
   "metadata": {
    "execution": {
     "iopub.execute_input": "2025-07-23T14:50:30.011838Z",
     "iopub.status.busy": "2025-07-23T14:50:30.010851Z",
     "iopub.status.idle": "2025-07-23T14:50:30.017701Z",
     "shell.execute_reply": "2025-07-23T14:50:30.016804Z"
    },
    "papermill": {
     "duration": 0.027536,
     "end_time": "2025-07-23T14:50:30.019510",
     "exception": false,
     "start_time": "2025-07-23T14:50:29.991974",
     "status": "completed"
    },
    "tags": []
   },
   "outputs": [],
   "source": [
    "import numpy as np\n",
    "from sklearn.pipeline import Pipeline\n",
    "from sklearn.preprocessing import StandardScaler\n",
    "\n",
    "model = Pipeline([\n",
    "    #(\"continuous_processor\", continuous_processor),\n",
    "    #(\"categorical_preprocessor\", categorical_preprocessor),\n",
    "    (\"scale\", StandardScaler() if universe[\"scale\"] == \"scale\" else None), \n",
    "    (\"model\", model),\n",
    "])"
   ]
  },
  {
   "cell_type": "code",
   "execution_count": 27,
   "id": "9442c04d",
   "metadata": {
    "execution": {
     "iopub.execute_input": "2025-07-23T14:50:30.057642Z",
     "iopub.status.busy": "2025-07-23T14:50:30.056757Z",
     "iopub.status.idle": "2025-07-23T15:04:59.402290Z",
     "shell.execute_reply": "2025-07-23T15:04:59.401422Z"
    },
    "papermill": {
     "duration": 869.37762,
     "end_time": "2025-07-23T15:04:59.415596",
     "exception": false,
     "start_time": "2025-07-23T14:50:30.037976",
     "status": "completed"
    },
    "tags": []
   },
   "outputs": [
    {
     "name": "stderr",
     "output_type": "stream",
     "text": [
      "/dss/dsshome1/0C/ra93lal2/.local/share/virtualenvs/CMA_Fairness_v2-3j10GkSs/lib/python3.10/site-packages/sklearn/linear_model/_sag.py:350: ConvergenceWarning: The max_iter was reached which means the coef_ did not converge\n",
      "  warnings.warn(\n"
     ]
    },
    {
     "data": {
      "text/html": [
       "<style>#sk-container-id-1 {color: black;background-color: white;}#sk-container-id-1 pre{padding: 0;}#sk-container-id-1 div.sk-toggleable {background-color: white;}#sk-container-id-1 label.sk-toggleable__label {cursor: pointer;display: block;width: 100%;margin-bottom: 0;padding: 0.3em;box-sizing: border-box;text-align: center;}#sk-container-id-1 label.sk-toggleable__label-arrow:before {content: \"▸\";float: left;margin-right: 0.25em;color: #696969;}#sk-container-id-1 label.sk-toggleable__label-arrow:hover:before {color: black;}#sk-container-id-1 div.sk-estimator:hover label.sk-toggleable__label-arrow:before {color: black;}#sk-container-id-1 div.sk-toggleable__content {max-height: 0;max-width: 0;overflow: hidden;text-align: left;background-color: #f0f8ff;}#sk-container-id-1 div.sk-toggleable__content pre {margin: 0.2em;color: black;border-radius: 0.25em;background-color: #f0f8ff;}#sk-container-id-1 input.sk-toggleable__control:checked~div.sk-toggleable__content {max-height: 200px;max-width: 100%;overflow: auto;}#sk-container-id-1 input.sk-toggleable__control:checked~label.sk-toggleable__label-arrow:before {content: \"▾\";}#sk-container-id-1 div.sk-estimator input.sk-toggleable__control:checked~label.sk-toggleable__label {background-color: #d4ebff;}#sk-container-id-1 div.sk-label input.sk-toggleable__control:checked~label.sk-toggleable__label {background-color: #d4ebff;}#sk-container-id-1 input.sk-hidden--visually {border: 0;clip: rect(1px 1px 1px 1px);clip: rect(1px, 1px, 1px, 1px);height: 1px;margin: -1px;overflow: hidden;padding: 0;position: absolute;width: 1px;}#sk-container-id-1 div.sk-estimator {font-family: monospace;background-color: #f0f8ff;border: 1px dotted black;border-radius: 0.25em;box-sizing: border-box;margin-bottom: 0.5em;}#sk-container-id-1 div.sk-estimator:hover {background-color: #d4ebff;}#sk-container-id-1 div.sk-parallel-item::after {content: \"\";width: 100%;border-bottom: 1px solid gray;flex-grow: 1;}#sk-container-id-1 div.sk-label:hover label.sk-toggleable__label {background-color: #d4ebff;}#sk-container-id-1 div.sk-serial::before {content: \"\";position: absolute;border-left: 1px solid gray;box-sizing: border-box;top: 0;bottom: 0;left: 50%;z-index: 0;}#sk-container-id-1 div.sk-serial {display: flex;flex-direction: column;align-items: center;background-color: white;padding-right: 0.2em;padding-left: 0.2em;position: relative;}#sk-container-id-1 div.sk-item {position: relative;z-index: 1;}#sk-container-id-1 div.sk-parallel {display: flex;align-items: stretch;justify-content: center;background-color: white;position: relative;}#sk-container-id-1 div.sk-item::before, #sk-container-id-1 div.sk-parallel-item::before {content: \"\";position: absolute;border-left: 1px solid gray;box-sizing: border-box;top: 0;bottom: 0;left: 50%;z-index: -1;}#sk-container-id-1 div.sk-parallel-item {display: flex;flex-direction: column;z-index: 1;position: relative;background-color: white;}#sk-container-id-1 div.sk-parallel-item:first-child::after {align-self: flex-end;width: 50%;}#sk-container-id-1 div.sk-parallel-item:last-child::after {align-self: flex-start;width: 50%;}#sk-container-id-1 div.sk-parallel-item:only-child::after {width: 0;}#sk-container-id-1 div.sk-dashed-wrapped {border: 1px dashed gray;margin: 0 0.4em 0.5em 0.4em;box-sizing: border-box;padding-bottom: 0.4em;background-color: white;}#sk-container-id-1 div.sk-label label {font-family: monospace;font-weight: bold;display: inline-block;line-height: 1.2em;}#sk-container-id-1 div.sk-label-container {text-align: center;}#sk-container-id-1 div.sk-container {/* jupyter's `normalize.less` sets `[hidden] { display: none; }` but bootstrap.min.css set `[hidden] { display: none !important; }` so we also need the `!important` here to be able to override the default hidden behavior on the sphinx rendered scikit-learn.org. See: https://github.com/scikit-learn/scikit-learn/issues/21755 */display: inline-block !important;position: relative;}#sk-container-id-1 div.sk-text-repr-fallback {display: none;}</style><div id=\"sk-container-id-1\" class=\"sk-top-container\"><div class=\"sk-text-repr-fallback\"><pre>Pipeline(steps=[(&#x27;scale&#x27;, None),\n",
       "                (&#x27;model&#x27;,\n",
       "                 LogisticRegression(l1_ratio=0.5, max_iter=5000,\n",
       "                                    penalty=&#x27;elasticnet&#x27;, solver=&#x27;saga&#x27;))])</pre><b>In a Jupyter environment, please rerun this cell to show the HTML representation or trust the notebook. <br />On GitHub, the HTML representation is unable to render, please try loading this page with nbviewer.org.</b></div><div class=\"sk-container\" hidden><div class=\"sk-item sk-dashed-wrapped\"><div class=\"sk-label-container\"><div class=\"sk-label sk-toggleable\"><input class=\"sk-toggleable__control sk-hidden--visually\" id=\"sk-estimator-id-1\" type=\"checkbox\" ><label for=\"sk-estimator-id-1\" class=\"sk-toggleable__label sk-toggleable__label-arrow\">Pipeline</label><div class=\"sk-toggleable__content\"><pre>Pipeline(steps=[(&#x27;scale&#x27;, None),\n",
       "                (&#x27;model&#x27;,\n",
       "                 LogisticRegression(l1_ratio=0.5, max_iter=5000,\n",
       "                                    penalty=&#x27;elasticnet&#x27;, solver=&#x27;saga&#x27;))])</pre></div></div></div><div class=\"sk-serial\"><div class=\"sk-item\"><div class=\"sk-estimator sk-toggleable\"><input class=\"sk-toggleable__control sk-hidden--visually\" id=\"sk-estimator-id-2\" type=\"checkbox\" ><label for=\"sk-estimator-id-2\" class=\"sk-toggleable__label sk-toggleable__label-arrow\">None</label><div class=\"sk-toggleable__content\"><pre>None</pre></div></div></div><div class=\"sk-item\"><div class=\"sk-estimator sk-toggleable\"><input class=\"sk-toggleable__control sk-hidden--visually\" id=\"sk-estimator-id-3\" type=\"checkbox\" ><label for=\"sk-estimator-id-3\" class=\"sk-toggleable__label sk-toggleable__label-arrow\">LogisticRegression</label><div class=\"sk-toggleable__content\"><pre>LogisticRegression(l1_ratio=0.5, max_iter=5000, penalty=&#x27;elasticnet&#x27;,\n",
       "                   solver=&#x27;saga&#x27;)</pre></div></div></div></div></div></div></div>"
      ],
      "text/plain": [
       "Pipeline(steps=[('scale', None),\n",
       "                ('model',\n",
       "                 LogisticRegression(l1_ratio=0.5, max_iter=5000,\n",
       "                                    penalty='elasticnet', solver='saga'))])"
      ]
     },
     "execution_count": 27,
     "metadata": {},
     "output_type": "execute_result"
    }
   ],
   "source": [
    "model.fit(X_train, y_train.values.ravel())"
   ]
  },
  {
   "cell_type": "code",
   "execution_count": 28,
   "id": "af59f8c0",
   "metadata": {
    "execution": {
     "iopub.execute_input": "2025-07-23T15:04:59.436467Z",
     "iopub.status.busy": "2025-07-23T15:04:59.436201Z",
     "iopub.status.idle": "2025-07-23T15:04:59.440725Z",
     "shell.execute_reply": "2025-07-23T15:04:59.439971Z"
    },
    "papermill": {
     "duration": 0.016126,
     "end_time": "2025-07-23T15:04:59.441966",
     "exception": false,
     "start_time": "2025-07-23T15:04:59.425840",
     "status": "completed"
    },
    "tags": []
   },
   "outputs": [],
   "source": [
    "from fairness_multiverse.universe import predict_w_threshold"
   ]
  },
  {
   "cell_type": "code",
   "execution_count": 29,
   "id": "a7cf2e16",
   "metadata": {
    "execution": {
     "iopub.execute_input": "2025-07-23T15:04:59.462693Z",
     "iopub.status.busy": "2025-07-23T15:04:59.462441Z",
     "iopub.status.idle": "2025-07-23T15:04:59.547869Z",
     "shell.execute_reply": "2025-07-23T15:04:59.547152Z"
    },
    "papermill": {
     "duration": 0.096882,
     "end_time": "2025-07-23T15:04:59.549081",
     "exception": false,
     "start_time": "2025-07-23T15:04:59.452199",
     "status": "completed"
    },
    "tags": []
   },
   "outputs": [
    {
     "data": {
      "text/plain": [
       "0.8522684204659459"
      ]
     },
     "execution_count": 29,
     "metadata": {},
     "output_type": "execute_result"
    }
   ],
   "source": [
    "probs_test = model.predict_proba(X_test)\n",
    "\n",
    "'''\n",
    "Below code returns a boolean array (or binary 0/1 array depending on how it’s used) where each element \n",
    "is True if the probability of class 1 is greater than or equal to the threshold, and False otherwise.\n",
    "'''\n",
    "y_pred_default = predict_w_threshold(probs_test, 0.5)\n",
    "\n",
    "from sklearn.metrics import accuracy_score\n",
    "\n",
    "# Naive prediction\n",
    "accuracy_score(y_true = y_true, y_pred = y_pred_default)"
   ]
  },
  {
   "cell_type": "code",
   "execution_count": 30,
   "id": "081964c3",
   "metadata": {
    "execution": {
     "iopub.execute_input": "2025-07-23T15:04:59.570284Z",
     "iopub.status.busy": "2025-07-23T15:04:59.569999Z",
     "iopub.status.idle": "2025-07-23T15:04:59.644592Z",
     "shell.execute_reply": "2025-07-23T15:04:59.643830Z"
    },
    "papermill": {
     "duration": 0.086205,
     "end_time": "2025-07-23T15:04:59.645833",
     "exception": false,
     "start_time": "2025-07-23T15:04:59.559628",
     "status": "completed"
    },
    "tags": []
   },
   "outputs": [
    {
     "data": {
      "text/plain": [
       "array([0, 0, 0, ..., 0, 0, 0])"
      ]
     },
     "execution_count": 30,
     "metadata": {},
     "output_type": "execute_result"
    }
   ],
   "source": [
    "model.predict(X_test)"
   ]
  },
  {
   "cell_type": "markdown",
   "id": "56c9705b",
   "metadata": {
    "papermill": {
     "duration": 0.009865,
     "end_time": "2025-07-23T15:04:59.666245",
     "exception": false,
     "start_time": "2025-07-23T15:04:59.656380",
     "status": "completed"
    },
    "tags": []
   },
   "source": [
    "# Conformal Prediction"
   ]
  },
  {
   "cell_type": "code",
   "execution_count": 31,
   "id": "160ec6ff",
   "metadata": {
    "execution": {
     "iopub.execute_input": "2025-07-23T15:04:59.686661Z",
     "iopub.status.busy": "2025-07-23T15:04:59.686369Z",
     "iopub.status.idle": "2025-07-23T15:04:59.690190Z",
     "shell.execute_reply": "2025-07-23T15:04:59.689508Z"
    },
    "papermill": {
     "duration": 0.015816,
     "end_time": "2025-07-23T15:04:59.691750",
     "exception": false,
     "start_time": "2025-07-23T15:04:59.675934",
     "status": "completed"
    },
    "tags": []
   },
   "outputs": [],
   "source": [
    "# Miscoverage level for conformal prediction (10% allowed error rate => 90% target coverage)\n",
    "alpha = 0.1"
   ]
  },
  {
   "cell_type": "code",
   "execution_count": 32,
   "id": "eadf4555-3dd3-440e-8e35-f82a4ad9f855",
   "metadata": {
    "execution": {
     "iopub.execute_input": "2025-07-23T15:04:59.727982Z",
     "iopub.status.busy": "2025-07-23T15:04:59.727708Z",
     "iopub.status.idle": "2025-07-23T15:04:59.801194Z",
     "shell.execute_reply": "2025-07-23T15:04:59.800327Z"
    },
    "papermill": {
     "duration": 0.093343,
     "end_time": "2025-07-23T15:04:59.802988",
     "exception": false,
     "start_time": "2025-07-23T15:04:59.709645",
     "status": "completed"
    },
    "tags": []
   },
   "outputs": [],
   "source": [
    "probs_calib = model.predict_proba(X_calib)"
   ]
  },
  {
   "cell_type": "code",
   "execution_count": 33,
   "id": "2ed93547-6d5d-4983-9b36-1ecb300da49a",
   "metadata": {
    "execution": {
     "iopub.execute_input": "2025-07-23T15:04:59.839982Z",
     "iopub.status.busy": "2025-07-23T15:04:59.839710Z",
     "iopub.status.idle": "2025-07-23T15:04:59.843727Z",
     "shell.execute_reply": "2025-07-23T15:04:59.843095Z"
    },
    "papermill": {
     "duration": 0.023639,
     "end_time": "2025-07-23T15:04:59.845293",
     "exception": false,
     "start_time": "2025-07-23T15:04:59.821654",
     "status": "completed"
    },
    "tags": []
   },
   "outputs": [],
   "source": [
    "y_calib = y_calib.values.ravel().astype(int)"
   ]
  },
  {
   "cell_type": "code",
   "execution_count": 34,
   "id": "65d1320d-f588-4b38-9072-62af1ae97f7d",
   "metadata": {
    "execution": {
     "iopub.execute_input": "2025-07-23T15:04:59.881801Z",
     "iopub.status.busy": "2025-07-23T15:04:59.881527Z",
     "iopub.status.idle": "2025-07-23T15:04:59.886529Z",
     "shell.execute_reply": "2025-07-23T15:04:59.885843Z"
    },
    "papermill": {
     "duration": 0.024699,
     "end_time": "2025-07-23T15:04:59.887982",
     "exception": false,
     "start_time": "2025-07-23T15:04:59.863283",
     "status": "completed"
    },
    "tags": []
   },
   "outputs": [],
   "source": [
    "from fairness_multiverse.conformal import compute_nc_scores\n",
    "\n",
    "# Compute nonconformity scores on calibration set (1 - probability of true class)\n",
    "nc_scores = compute_nc_scores(probs_calib, y_calib)"
   ]
  },
  {
   "cell_type": "code",
   "execution_count": 35,
   "id": "df3b8ca3-53b7-43d5-9667-7c85da7aeda2",
   "metadata": {
    "execution": {
     "iopub.execute_input": "2025-07-23T15:04:59.924640Z",
     "iopub.status.busy": "2025-07-23T15:04:59.924328Z",
     "iopub.status.idle": "2025-07-23T15:04:59.929031Z",
     "shell.execute_reply": "2025-07-23T15:04:59.928293Z"
    },
    "papermill": {
     "duration": 0.024503,
     "end_time": "2025-07-23T15:04:59.930511",
     "exception": false,
     "start_time": "2025-07-23T15:04:59.906008",
     "status": "completed"
    },
    "tags": []
   },
   "outputs": [],
   "source": [
    "from fairness_multiverse.conformal import find_threshold\n",
    "\n",
    "# Find conformal threshold q_hat for the given alpha (split conformal method)\n",
    "q_hat = find_threshold(nc_scores, alpha)"
   ]
  },
  {
   "cell_type": "code",
   "execution_count": 36,
   "id": "4d29e6c1-0ef6-4aa4-b8fe-4fe79b0d033a",
   "metadata": {
    "execution": {
     "iopub.execute_input": "2025-07-23T15:04:59.953053Z",
     "iopub.status.busy": "2025-07-23T15:04:59.952762Z",
     "iopub.status.idle": "2025-07-23T15:04:59.958113Z",
     "shell.execute_reply": "2025-07-23T15:04:59.957389Z"
    },
    "papermill": {
     "duration": 0.017321,
     "end_time": "2025-07-23T15:04:59.959337",
     "exception": false,
     "start_time": "2025-07-23T15:04:59.942016",
     "status": "completed"
    },
    "tags": []
   },
   "outputs": [
    {
     "data": {
      "text/plain": [
       "0.6476304068587618"
      ]
     },
     "execution_count": 36,
     "metadata": {},
     "output_type": "execute_result"
    }
   ],
   "source": [
    "q_hat"
   ]
  },
  {
   "cell_type": "code",
   "execution_count": 37,
   "id": "92460794-cdac-4be2-ba28-f28c0515a6fb",
   "metadata": {
    "execution": {
     "iopub.execute_input": "2025-07-23T15:04:59.981048Z",
     "iopub.status.busy": "2025-07-23T15:04:59.980769Z",
     "iopub.status.idle": "2025-07-23T15:05:00.464293Z",
     "shell.execute_reply": "2025-07-23T15:05:00.463527Z"
    },
    "papermill": {
     "duration": 0.495901,
     "end_time": "2025-07-23T15:05:00.465752",
     "exception": false,
     "start_time": "2025-07-23T15:04:59.969851",
     "status": "completed"
    },
    "tags": []
   },
   "outputs": [],
   "source": [
    "from fairness_multiverse.conformal import predict_conformal_sets\n",
    "\n",
    "# Generate prediction sets for each test example\n",
    "pred_sets = predict_conformal_sets(model, X_test, q_hat)"
   ]
  },
  {
   "cell_type": "code",
   "execution_count": 38,
   "id": "d90c9a65-e6db-4f5d-80cd-e68fb7e46829",
   "metadata": {
    "execution": {
     "iopub.execute_input": "2025-07-23T15:05:00.488063Z",
     "iopub.status.busy": "2025-07-23T15:05:00.487772Z",
     "iopub.status.idle": "2025-07-23T15:05:00.492340Z",
     "shell.execute_reply": "2025-07-23T15:05:00.491625Z"
    },
    "papermill": {
     "duration": 0.017034,
     "end_time": "2025-07-23T15:05:00.493722",
     "exception": false,
     "start_time": "2025-07-23T15:05:00.476688",
     "status": "completed"
    },
    "tags": []
   },
   "outputs": [],
   "source": [
    "y_true = y_true.squeeze()"
   ]
  },
  {
   "cell_type": "code",
   "execution_count": 39,
   "id": "3a58a54a-1e68-46b9-927a-df01f18aebc8",
   "metadata": {
    "execution": {
     "iopub.execute_input": "2025-07-23T15:05:00.516120Z",
     "iopub.status.busy": "2025-07-23T15:05:00.515864Z",
     "iopub.status.idle": "2025-07-23T15:05:01.041813Z",
     "shell.execute_reply": "2025-07-23T15:05:01.041058Z"
    },
    "papermill": {
     "duration": 0.538213,
     "end_time": "2025-07-23T15:05:01.043235",
     "exception": false,
     "start_time": "2025-07-23T15:05:00.505022",
     "status": "completed"
    },
    "tags": []
   },
   "outputs": [],
   "source": [
    "from fairness_multiverse.conformal import evaluate_sets\n",
    "\n",
    "# Evaluate coverage and average set size on test data\n",
    "metrics = evaluate_sets(pred_sets, y_true)"
   ]
  },
  {
   "cell_type": "code",
   "execution_count": 40,
   "id": "5ce0a5cb-201f-45a0-ade5-94c7f0bd6095",
   "metadata": {
    "execution": {
     "iopub.execute_input": "2025-07-23T15:05:01.065688Z",
     "iopub.status.busy": "2025-07-23T15:05:01.065400Z",
     "iopub.status.idle": "2025-07-23T15:05:01.070804Z",
     "shell.execute_reply": "2025-07-23T15:05:01.070135Z"
    },
    "papermill": {
     "duration": 0.017891,
     "end_time": "2025-07-23T15:05:01.072079",
     "exception": false,
     "start_time": "2025-07-23T15:05:01.054188",
     "status": "completed"
    },
    "tags": []
   },
   "outputs": [
    {
     "data": {
      "text/plain": [
       "{'coverage': 0.9112919406978041, 'avg_size': 1.2421134767584439}"
      ]
     },
     "execution_count": 40,
     "metadata": {},
     "output_type": "execute_result"
    }
   ],
   "source": [
    "metrics"
   ]
  },
  {
   "cell_type": "code",
   "execution_count": 41,
   "id": "9b9a838d-31c9-430b-ae14-12baee460d17",
   "metadata": {
    "execution": {
     "iopub.execute_input": "2025-07-23T15:05:01.094258Z",
     "iopub.status.busy": "2025-07-23T15:05:01.093983Z",
     "iopub.status.idle": "2025-07-23T15:05:01.098543Z",
     "shell.execute_reply": "2025-07-23T15:05:01.097823Z"
    },
    "papermill": {
     "duration": 0.016915,
     "end_time": "2025-07-23T15:05:01.099881",
     "exception": false,
     "start_time": "2025-07-23T15:05:01.082966",
     "status": "completed"
    },
    "tags": []
   },
   "outputs": [],
   "source": [
    "example_universe = universe.copy()\n",
    "universe_model = example_universe.get(\"model\")\n",
    "universe_exclude_features = example_universe.get(\"exclude_features\")\n",
    "universe_exclude_subgroups = example_universe.get(\"exclude_subgroups\")\n",
    "universe_scale = example_universe.get(\"scale\")"
   ]
  },
  {
   "cell_type": "code",
   "execution_count": 42,
   "id": "f4b6a8ac-9dc0-4245-8a91-5b3b5999c4f9",
   "metadata": {
    "execution": {
     "iopub.execute_input": "2025-07-23T15:05:01.121829Z",
     "iopub.status.busy": "2025-07-23T15:05:01.121572Z",
     "iopub.status.idle": "2025-07-23T15:05:01.126145Z",
     "shell.execute_reply": "2025-07-23T15:05:01.125442Z"
    },
    "papermill": {
     "duration": 0.016943,
     "end_time": "2025-07-23T15:05:01.127473",
     "exception": false,
     "start_time": "2025-07-23T15:05:01.110530",
     "status": "completed"
    },
    "tags": []
   },
   "outputs": [],
   "source": [
    "cp_metrics_dict = {\n",
    "    \"universe_id\": [universe_id],\n",
    "    \"universe_model\": [universe_model],\n",
    "    \"universe_exclude_features\": [universe_exclude_features],\n",
    "    \"universe_exclude_subgroups\": [universe_exclude_subgroups],\n",
    "    \"universe_scale\": [universe_scale],\n",
    "    \"q_hat\": [q_hat],\n",
    "    \"coverage\": [metrics[\"coverage\"]],\n",
    "    \"avg_size\": [metrics[\"avg_size\"]],\n",
    "}"
   ]
  },
  {
   "cell_type": "code",
   "execution_count": 43,
   "id": "908acbb1-0371-4915-85ca-3fa520d2efe2",
   "metadata": {
    "execution": {
     "iopub.execute_input": "2025-07-23T15:05:01.149922Z",
     "iopub.status.busy": "2025-07-23T15:05:01.149627Z",
     "iopub.status.idle": "2025-07-23T15:05:01.155166Z",
     "shell.execute_reply": "2025-07-23T15:05:01.154391Z"
    },
    "papermill": {
     "duration": 0.018046,
     "end_time": "2025-07-23T15:05:01.156397",
     "exception": false,
     "start_time": "2025-07-23T15:05:01.138351",
     "status": "completed"
    },
    "tags": []
   },
   "outputs": [
    {
     "data": {
      "text/plain": [
       "{'universe_id': ['6a9cb2c11139c8ce7247e61722752e57'],\n",
       " 'universe_model': ['elasticnet'],\n",
       " 'universe_exclude_features': ['age'],\n",
       " 'universe_exclude_subgroups': ['drop-non-german'],\n",
       " 'universe_scale': ['do-not-scale'],\n",
       " 'q_hat': [0.6476304068587618],\n",
       " 'coverage': [0.9112919406978041],\n",
       " 'avg_size': [1.2421134767584439]}"
      ]
     },
     "execution_count": 43,
     "metadata": {},
     "output_type": "execute_result"
    }
   ],
   "source": [
    "cp_metrics_dict"
   ]
  },
  {
   "cell_type": "code",
   "execution_count": 44,
   "id": "33007efc-14e9-4ec6-97ac-56a455c82265",
   "metadata": {
    "execution": {
     "iopub.execute_input": "2025-07-23T15:05:01.178919Z",
     "iopub.status.busy": "2025-07-23T15:05:01.178654Z",
     "iopub.status.idle": "2025-07-23T15:05:01.183005Z",
     "shell.execute_reply": "2025-07-23T15:05:01.182297Z"
    },
    "papermill": {
     "duration": 0.01683,
     "end_time": "2025-07-23T15:05:01.184262",
     "exception": false,
     "start_time": "2025-07-23T15:05:01.167432",
     "status": "completed"
    },
    "tags": []
   },
   "outputs": [],
   "source": [
    "cp_metrics_df = pd.DataFrame(cp_metrics_dict)"
   ]
  },
  {
   "cell_type": "code",
   "execution_count": 45,
   "id": "db12611b-57b2-4910-b9d0-355adfd6e7bf",
   "metadata": {
    "execution": {
     "iopub.execute_input": "2025-07-23T15:05:01.206680Z",
     "iopub.status.busy": "2025-07-23T15:05:01.206438Z",
     "iopub.status.idle": "2025-07-23T15:05:01.218526Z",
     "shell.execute_reply": "2025-07-23T15:05:01.217832Z"
    },
    "papermill": {
     "duration": 0.024612,
     "end_time": "2025-07-23T15:05:01.219801",
     "exception": false,
     "start_time": "2025-07-23T15:05:01.195189",
     "status": "completed"
    },
    "tags": []
   },
   "outputs": [
    {
     "data": {
      "text/html": [
       "<div>\n",
       "<style scoped>\n",
       "    .dataframe tbody tr th:only-of-type {\n",
       "        vertical-align: middle;\n",
       "    }\n",
       "\n",
       "    .dataframe tbody tr th {\n",
       "        vertical-align: top;\n",
       "    }\n",
       "\n",
       "    .dataframe thead th {\n",
       "        text-align: right;\n",
       "    }\n",
       "</style>\n",
       "<table border=\"1\" class=\"dataframe\">\n",
       "  <thead>\n",
       "    <tr style=\"text-align: right;\">\n",
       "      <th></th>\n",
       "      <th>universe_id</th>\n",
       "      <th>universe_model</th>\n",
       "      <th>universe_exclude_features</th>\n",
       "      <th>universe_exclude_subgroups</th>\n",
       "      <th>universe_scale</th>\n",
       "      <th>q_hat</th>\n",
       "      <th>coverage</th>\n",
       "      <th>avg_size</th>\n",
       "    </tr>\n",
       "  </thead>\n",
       "  <tbody>\n",
       "    <tr>\n",
       "      <th>0</th>\n",
       "      <td>6a9cb2c11139c8ce7247e61722752e57</td>\n",
       "      <td>elasticnet</td>\n",
       "      <td>age</td>\n",
       "      <td>drop-non-german</td>\n",
       "      <td>do-not-scale</td>\n",
       "      <td>0.64763</td>\n",
       "      <td>0.911292</td>\n",
       "      <td>1.242113</td>\n",
       "    </tr>\n",
       "  </tbody>\n",
       "</table>\n",
       "</div>"
      ],
      "text/plain": [
       "                        universe_id universe_model universe_exclude_features  \\\n",
       "0  6a9cb2c11139c8ce7247e61722752e57     elasticnet                       age   \n",
       "\n",
       "  universe_exclude_subgroups universe_scale    q_hat  coverage  avg_size  \n",
       "0            drop-non-german   do-not-scale  0.64763  0.911292  1.242113  "
      ]
     },
     "execution_count": 45,
     "metadata": {},
     "output_type": "execute_result"
    }
   ],
   "source": [
    "cp_metrics_df"
   ]
  },
  {
   "cell_type": "code",
   "execution_count": 46,
   "id": "b7fbde55-a0a1-47e4-9af6-fe4a17fa8c61",
   "metadata": {
    "execution": {
     "iopub.execute_input": "2025-07-23T15:05:01.242218Z",
     "iopub.status.busy": "2025-07-23T15:05:01.241962Z",
     "iopub.status.idle": "2025-07-23T15:05:01.245595Z",
     "shell.execute_reply": "2025-07-23T15:05:01.244912Z"
    },
    "papermill": {
     "duration": 0.01627,
     "end_time": "2025-07-23T15:05:01.246828",
     "exception": false,
     "start_time": "2025-07-23T15:05:01.230558",
     "status": "completed"
    },
    "tags": []
   },
   "outputs": [],
   "source": [
    "# Conditional Coverage & looking at subgroups"
   ]
  },
  {
   "cell_type": "code",
   "execution_count": 47,
   "id": "027ae886-68dd-4141-96c7-805a5450e1ef",
   "metadata": {
    "execution": {
     "iopub.execute_input": "2025-07-23T15:05:01.269785Z",
     "iopub.status.busy": "2025-07-23T15:05:01.269492Z",
     "iopub.status.idle": "2025-07-23T15:05:01.434217Z",
     "shell.execute_reply": "2025-07-23T15:05:01.433439Z"
    },
    "papermill": {
     "duration": 0.177829,
     "end_time": "2025-07-23T15:05:01.435724",
     "exception": false,
     "start_time": "2025-07-23T15:05:01.257895",
     "status": "completed"
    },
    "tags": []
   },
   "outputs": [],
   "source": [
    "from fairness_multiverse.conformal import build_cp_groups\n",
    "\n",
    "cp_groups_df = build_cp_groups(pred_sets, y_true, X_test.index, org_test)\n",
    "#needs universe_id and setting"
   ]
  },
  {
   "cell_type": "code",
   "execution_count": 48,
   "id": "c3b92545-903e-4839-89af-0f057907d7d6",
   "metadata": {
    "execution": {
     "iopub.execute_input": "2025-07-23T15:05:01.459029Z",
     "iopub.status.busy": "2025-07-23T15:05:01.458722Z",
     "iopub.status.idle": "2025-07-23T15:05:02.383597Z",
     "shell.execute_reply": "2025-07-23T15:05:02.382850Z"
    },
    "papermill": {
     "duration": 0.93789,
     "end_time": "2025-07-23T15:05:02.385114",
     "exception": false,
     "start_time": "2025-07-23T15:05:01.447224",
     "status": "completed"
    },
    "tags": []
   },
   "outputs": [],
   "source": [
    "# Define covered = 1 if true_label is in the predicted set\n",
    "cp_groups_df['covered'] = cp_groups_df.apply(\n",
    "    lambda r: int(r['true_label'] in r['pred_set']),\n",
    "    axis=1\n",
    ")"
   ]
  },
  {
   "cell_type": "code",
   "execution_count": 49,
   "id": "338ff529-1a6b-4b87-a931-8e4788d52aad",
   "metadata": {
    "execution": {
     "iopub.execute_input": "2025-07-23T15:05:02.408761Z",
     "iopub.status.busy": "2025-07-23T15:05:02.408454Z",
     "iopub.status.idle": "2025-07-23T15:05:02.412293Z",
     "shell.execute_reply": "2025-07-23T15:05:02.411554Z"
    },
    "papermill": {
     "duration": 0.016663,
     "end_time": "2025-07-23T15:05:02.413532",
     "exception": false,
     "start_time": "2025-07-23T15:05:02.396869",
     "status": "completed"
    },
    "tags": []
   },
   "outputs": [],
   "source": [
    "#cp_groups_df"
   ]
  },
  {
   "cell_type": "code",
   "execution_count": 50,
   "id": "90032e27-66df-4540-9169-4e89cfbaa758",
   "metadata": {
    "execution": {
     "iopub.execute_input": "2025-07-23T15:05:02.436767Z",
     "iopub.status.busy": "2025-07-23T15:05:02.436461Z",
     "iopub.status.idle": "2025-07-23T15:05:02.444526Z",
     "shell.execute_reply": "2025-07-23T15:05:02.443844Z"
    },
    "papermill": {
     "duration": 0.020689,
     "end_time": "2025-07-23T15:05:02.445790",
     "exception": false,
     "start_time": "2025-07-23T15:05:02.425101",
     "status": "completed"
    },
    "tags": []
   },
   "outputs": [],
   "source": [
    "subgroups = ['frau1','nongerman','nongerman_male','nongerman_female']\n",
    "\n",
    "# Conditional coverage for subgroup==1\n",
    "cond_coverage = {\n",
    "    g: cp_groups_df.loc[cp_groups_df[g]==1, 'covered'].mean()\n",
    "    for g in subgroups\n",
    "}"
   ]
  },
  {
   "cell_type": "code",
   "execution_count": 51,
   "id": "1e348fb1-b9c3-45bc-ba23-f016827a7e0d",
   "metadata": {
    "execution": {
     "iopub.execute_input": "2025-07-23T15:05:02.468716Z",
     "iopub.status.busy": "2025-07-23T15:05:02.468424Z",
     "iopub.status.idle": "2025-07-23T15:05:02.473241Z",
     "shell.execute_reply": "2025-07-23T15:05:02.472599Z"
    },
    "papermill": {
     "duration": 0.017387,
     "end_time": "2025-07-23T15:05:02.474513",
     "exception": false,
     "start_time": "2025-07-23T15:05:02.457126",
     "status": "completed"
    },
    "tags": []
   },
   "outputs": [
    {
     "data": {
      "text/plain": [
       "{'frau1': 0.9089904299770859,\n",
       " 'nongerman': 0.9562117554594959,\n",
       " 'nongerman_male': 0.965955147257498,\n",
       " 'nongerman_female': 0.9400894187779434}"
      ]
     },
     "execution_count": 51,
     "metadata": {},
     "output_type": "execute_result"
    }
   ],
   "source": [
    "cond_coverage"
   ]
  },
  {
   "cell_type": "code",
   "execution_count": 52,
   "id": "f5093324-c3dd-4d63-bc4c-8d945e5c8bbb",
   "metadata": {
    "execution": {
     "iopub.execute_input": "2025-07-23T15:05:02.497822Z",
     "iopub.status.busy": "2025-07-23T15:05:02.497550Z",
     "iopub.status.idle": "2025-07-23T15:05:02.502879Z",
     "shell.execute_reply": "2025-07-23T15:05:02.502096Z"
    },
    "papermill": {
     "duration": 0.018037,
     "end_time": "2025-07-23T15:05:02.504092",
     "exception": false,
     "start_time": "2025-07-23T15:05:02.486055",
     "status": "completed"
    },
    "tags": []
   },
   "outputs": [],
   "source": [
    "for subgroup, cov in cond_coverage.items():\n",
    "    cp_metrics_df[f\"cov_{subgroup}\"] = cov"
   ]
  },
  {
   "cell_type": "code",
   "execution_count": 53,
   "id": "6e872e10-dbe5-49e8-b554-5030c98ff75d",
   "metadata": {
    "execution": {
     "iopub.execute_input": "2025-07-23T15:05:02.527686Z",
     "iopub.status.busy": "2025-07-23T15:05:02.527414Z",
     "iopub.status.idle": "2025-07-23T15:05:02.539244Z",
     "shell.execute_reply": "2025-07-23T15:05:02.538510Z"
    },
    "papermill": {
     "duration": 0.02461,
     "end_time": "2025-07-23T15:05:02.540466",
     "exception": false,
     "start_time": "2025-07-23T15:05:02.515856",
     "status": "completed"
    },
    "tags": []
   },
   "outputs": [
    {
     "data": {
      "text/html": [
       "<div>\n",
       "<style scoped>\n",
       "    .dataframe tbody tr th:only-of-type {\n",
       "        vertical-align: middle;\n",
       "    }\n",
       "\n",
       "    .dataframe tbody tr th {\n",
       "        vertical-align: top;\n",
       "    }\n",
       "\n",
       "    .dataframe thead th {\n",
       "        text-align: right;\n",
       "    }\n",
       "</style>\n",
       "<table border=\"1\" class=\"dataframe\">\n",
       "  <thead>\n",
       "    <tr style=\"text-align: right;\">\n",
       "      <th></th>\n",
       "      <th>universe_id</th>\n",
       "      <th>universe_model</th>\n",
       "      <th>universe_exclude_features</th>\n",
       "      <th>universe_exclude_subgroups</th>\n",
       "      <th>universe_scale</th>\n",
       "      <th>q_hat</th>\n",
       "      <th>coverage</th>\n",
       "      <th>avg_size</th>\n",
       "      <th>cov_frau1</th>\n",
       "      <th>cov_nongerman</th>\n",
       "      <th>cov_nongerman_male</th>\n",
       "      <th>cov_nongerman_female</th>\n",
       "    </tr>\n",
       "  </thead>\n",
       "  <tbody>\n",
       "    <tr>\n",
       "      <th>0</th>\n",
       "      <td>6a9cb2c11139c8ce7247e61722752e57</td>\n",
       "      <td>elasticnet</td>\n",
       "      <td>age</td>\n",
       "      <td>drop-non-german</td>\n",
       "      <td>do-not-scale</td>\n",
       "      <td>0.64763</td>\n",
       "      <td>0.911292</td>\n",
       "      <td>1.242113</td>\n",
       "      <td>0.90899</td>\n",
       "      <td>0.956212</td>\n",
       "      <td>0.965955</td>\n",
       "      <td>0.940089</td>\n",
       "    </tr>\n",
       "  </tbody>\n",
       "</table>\n",
       "</div>"
      ],
      "text/plain": [
       "                        universe_id universe_model universe_exclude_features  \\\n",
       "0  6a9cb2c11139c8ce7247e61722752e57     elasticnet                       age   \n",
       "\n",
       "  universe_exclude_subgroups universe_scale    q_hat  coverage  avg_size  \\\n",
       "0            drop-non-german   do-not-scale  0.64763  0.911292  1.242113   \n",
       "\n",
       "   cov_frau1  cov_nongerman  cov_nongerman_male  cov_nongerman_female  \n",
       "0    0.90899       0.956212            0.965955              0.940089  "
      ]
     },
     "execution_count": 53,
     "metadata": {},
     "output_type": "execute_result"
    }
   ],
   "source": [
    "cp_metrics_df"
   ]
  },
  {
   "cell_type": "markdown",
   "id": "33774451",
   "metadata": {
    "papermill": {
     "duration": 0.011283,
     "end_time": "2025-07-23T15:05:02.563646",
     "exception": false,
     "start_time": "2025-07-23T15:05:02.552363",
     "status": "completed"
    },
    "tags": []
   },
   "source": [
    "# (Fairness) Metrics"
   ]
  },
  {
   "cell_type": "code",
   "execution_count": 54,
   "id": "debc5d62",
   "metadata": {
    "execution": {
     "iopub.execute_input": "2025-07-23T15:05:02.586717Z",
     "iopub.status.busy": "2025-07-23T15:05:02.586431Z",
     "iopub.status.idle": "2025-07-23T15:05:02.600432Z",
     "shell.execute_reply": "2025-07-23T15:05:02.599779Z"
    },
    "papermill": {
     "duration": 0.027029,
     "end_time": "2025-07-23T15:05:02.601637",
     "exception": false,
     "start_time": "2025-07-23T15:05:02.574608",
     "status": "completed"
    },
    "tags": []
   },
   "outputs": [],
   "source": [
    "# do I need to include maxdeutsch1.missing?\n",
    "\n",
    "import numpy as np\n",
    "\n",
    "colname_to_bin = \"maxdeutsch1\"\n",
    "majority_value = org_train[colname_to_bin].mode()[0]\n",
    "\n",
    "org_test[\"majmin\"] = np.where(org_test[colname_to_bin] == majority_value, \"majority\", \"minority\")"
   ]
  },
  {
   "cell_type": "code",
   "execution_count": 55,
   "id": "06a50de5",
   "metadata": {
    "execution": {
     "iopub.execute_input": "2025-07-23T15:05:02.625043Z",
     "iopub.status.busy": "2025-07-23T15:05:02.624714Z",
     "iopub.status.idle": "2025-07-23T15:05:04.105699Z",
     "shell.execute_reply": "2025-07-23T15:05:04.104962Z"
    },
    "papermill": {
     "duration": 1.494031,
     "end_time": "2025-07-23T15:05:04.107102",
     "exception": false,
     "start_time": "2025-07-23T15:05:02.613071",
     "status": "completed"
    },
    "tags": []
   },
   "outputs": [],
   "source": [
    "example_universe = universe.copy()\n",
    "example_universe[\"cutoff\"] = example_universe[\"cutoff\"][0]\n",
    "example_universe[\"eval_fairness_grouping\"] = example_universe[\"eval_fairness_grouping\"][0]\n",
    "fairness_dict, metric_frame = universe_analysis.compute_metrics(\n",
    "    example_universe,\n",
    "    y_pred_prob=probs_test,\n",
    "    y_test=y_true,\n",
    "    org_test=org_test,\n",
    ")"
   ]
  },
  {
   "cell_type": "markdown",
   "id": "f95d4e02",
   "metadata": {
    "papermill": {
     "duration": 0.011531,
     "end_time": "2025-07-23T15:05:04.132914",
     "exception": false,
     "start_time": "2025-07-23T15:05:04.121383",
     "status": "completed"
    },
    "tags": []
   },
   "source": [
    "# Overall"
   ]
  },
  {
   "cell_type": "markdown",
   "id": "bdee4871",
   "metadata": {
    "papermill": {
     "duration": 0.011271,
     "end_time": "2025-07-23T15:05:04.155460",
     "exception": false,
     "start_time": "2025-07-23T15:05:04.144189",
     "status": "completed"
    },
    "tags": []
   },
   "source": [
    "Fairness\n",
    "Main fairness target: Equalized Odds. Seems to be a better fit than equal opportunity, since we're not only interested in Y = 1. Seems to be a better fit than demographic parity, since we also care about accuracy, not just equal distribution of preds.\n",
    "\n",
    "Pick column for computation of fairness metrics\n",
    "\n",
    "Performance\n",
    "Overall performance measures, most interesting in relation to the measures split by group below"
   ]
  },
  {
   "cell_type": "code",
   "execution_count": 56,
   "id": "c4e067c6",
   "metadata": {
    "execution": {
     "iopub.execute_input": "2025-07-23T15:05:04.179125Z",
     "iopub.status.busy": "2025-07-23T15:05:04.178764Z",
     "iopub.status.idle": "2025-07-23T15:05:04.185040Z",
     "shell.execute_reply": "2025-07-23T15:05:04.184247Z"
    },
    "papermill": {
     "duration": 0.019552,
     "end_time": "2025-07-23T15:05:04.186255",
     "exception": false,
     "start_time": "2025-07-23T15:05:04.166703",
     "status": "completed"
    },
    "tags": []
   },
   "outputs": [
    {
     "data": {
      "text/plain": [
       "accuracy                   0.220366\n",
       "balanced accuracy          0.539664\n",
       "f1                         0.241807\n",
       "precision                  0.138136\n",
       "false positive rate        0.889824\n",
       "false negative rate        0.030848\n",
       "selection rate             0.900000\n",
       "count                  89710.000000\n",
       "dtype: float64"
      ]
     },
     "execution_count": 56,
     "metadata": {},
     "output_type": "execute_result"
    }
   ],
   "source": [
    "metric_frame.overall"
   ]
  },
  {
   "cell_type": "markdown",
   "id": "e968fe9d",
   "metadata": {
    "papermill": {
     "duration": 0.011193,
     "end_time": "2025-07-23T15:05:04.209511",
     "exception": false,
     "start_time": "2025-07-23T15:05:04.198318",
     "status": "completed"
    },
    "tags": []
   },
   "source": [
    "By Group"
   ]
  },
  {
   "cell_type": "code",
   "execution_count": 57,
   "id": "ec325bce",
   "metadata": {
    "execution": {
     "iopub.execute_input": "2025-07-23T15:05:04.233126Z",
     "iopub.status.busy": "2025-07-23T15:05:04.232784Z",
     "iopub.status.idle": "2025-07-23T15:05:04.243962Z",
     "shell.execute_reply": "2025-07-23T15:05:04.243248Z"
    },
    "papermill": {
     "duration": 0.024531,
     "end_time": "2025-07-23T15:05:04.245213",
     "exception": false,
     "start_time": "2025-07-23T15:05:04.220682",
     "status": "completed"
    },
    "tags": []
   },
   "outputs": [
    {
     "data": {
      "text/html": [
       "<div>\n",
       "<style scoped>\n",
       "    .dataframe tbody tr th:only-of-type {\n",
       "        vertical-align: middle;\n",
       "    }\n",
       "\n",
       "    .dataframe tbody tr th {\n",
       "        vertical-align: top;\n",
       "    }\n",
       "\n",
       "    .dataframe thead th {\n",
       "        text-align: right;\n",
       "    }\n",
       "</style>\n",
       "<table border=\"1\" class=\"dataframe\">\n",
       "  <thead>\n",
       "    <tr style=\"text-align: right;\">\n",
       "      <th></th>\n",
       "      <th>accuracy</th>\n",
       "      <th>balanced accuracy</th>\n",
       "      <th>f1</th>\n",
       "      <th>precision</th>\n",
       "      <th>false positive rate</th>\n",
       "      <th>false negative rate</th>\n",
       "      <th>selection rate</th>\n",
       "      <th>count</th>\n",
       "    </tr>\n",
       "    <tr>\n",
       "      <th>majmin</th>\n",
       "      <th></th>\n",
       "      <th></th>\n",
       "      <th></th>\n",
       "      <th></th>\n",
       "      <th></th>\n",
       "      <th></th>\n",
       "      <th></th>\n",
       "      <th></th>\n",
       "    </tr>\n",
       "  </thead>\n",
       "  <tbody>\n",
       "    <tr>\n",
       "      <th>majority</th>\n",
       "      <td>0.244774</td>\n",
       "      <td>0.549589</td>\n",
       "      <td>0.252222</td>\n",
       "      <td>0.145095</td>\n",
       "      <td>0.864718</td>\n",
       "      <td>0.036105</td>\n",
       "      <td>0.877823</td>\n",
       "      <td>69170.0</td>\n",
       "    </tr>\n",
       "    <tr>\n",
       "      <th>minority</th>\n",
       "      <td>0.138169</td>\n",
       "      <td>0.508341</td>\n",
       "      <td>0.209309</td>\n",
       "      <td>0.117033</td>\n",
       "      <td>0.972760</td>\n",
       "      <td>0.010557</td>\n",
       "      <td>0.974684</td>\n",
       "      <td>20540.0</td>\n",
       "    </tr>\n",
       "  </tbody>\n",
       "</table>\n",
       "</div>"
      ],
      "text/plain": [
       "          accuracy  balanced accuracy        f1  precision  \\\n",
       "majmin                                                       \n",
       "majority  0.244774           0.549589  0.252222   0.145095   \n",
       "minority  0.138169           0.508341  0.209309   0.117033   \n",
       "\n",
       "          false positive rate  false negative rate  selection rate    count  \n",
       "majmin                                                                       \n",
       "majority             0.864718             0.036105        0.877823  69170.0  \n",
       "minority             0.972760             0.010557        0.974684  20540.0  "
      ]
     },
     "execution_count": 57,
     "metadata": {},
     "output_type": "execute_result"
    }
   ],
   "source": [
    "metric_frame.by_group"
   ]
  },
  {
   "cell_type": "code",
   "execution_count": 58,
   "id": "a9ddbe63",
   "metadata": {
    "execution": {
     "iopub.execute_input": "2025-07-23T15:05:04.270166Z",
     "iopub.status.busy": "2025-07-23T15:05:04.269867Z",
     "iopub.status.idle": "2025-07-23T15:05:05.809397Z",
     "shell.execute_reply": "2025-07-23T15:05:05.808631Z"
    },
    "papermill": {
     "duration": 1.552848,
     "end_time": "2025-07-23T15:05:05.810614",
     "exception": false,
     "start_time": "2025-07-23T15:05:04.257766",
     "status": "completed"
    },
    "tags": []
   },
   "outputs": [
    {
     "data": {
      "text/plain": [
       "array([[<Axes: title={'center': 'accuracy'}, xlabel='majmin'>,\n",
       "        <Axes: title={'center': 'balanced accuracy'}, xlabel='majmin'>,\n",
       "        <Axes: title={'center': 'f1'}, xlabel='majmin'>],\n",
       "       [<Axes: title={'center': 'precision'}, xlabel='majmin'>,\n",
       "        <Axes: title={'center': 'false positive rate'}, xlabel='majmin'>,\n",
       "        <Axes: title={'center': 'false negative rate'}, xlabel='majmin'>],\n",
       "       [<Axes: title={'center': 'selection rate'}, xlabel='majmin'>,\n",
       "        <Axes: title={'center': 'count'}, xlabel='majmin'>,\n",
       "        <Axes: xlabel='majmin'>]], dtype=object)"
      ]
     },
     "execution_count": 58,
     "metadata": {},
     "output_type": "execute_result"
    },
    {
     "data": {
      "image/png": "[encoded data removed]",
      "text/plain": [
       "<Figure size 1200x800 with 9 Axes>"
      ]
     },
     "metadata": {},
     "output_type": "display_data"
    }
   ],
   "source": [
    "# In a graphic\n",
    "metric_frame.by_group.plot.bar(\n",
    "    subplots=True,\n",
    "    layout=[3, 3],\n",
    "    legend=False,\n",
    "    figsize=[12, 8],\n",
    "    title=\"Show all metrics\",\n",
    ")"
   ]
  },
  {
   "cell_type": "markdown",
   "id": "f57a0bac",
   "metadata": {
    "papermill": {
     "duration": 0.013002,
     "end_time": "2025-07-23T15:05:05.837530",
     "exception": false,
     "start_time": "2025-07-23T15:05:05.824528",
     "status": "completed"
    },
    "tags": []
   },
   "source": [
    "# Final Output"
   ]
  },
  {
   "cell_type": "code",
   "execution_count": 59,
   "id": "96d280a3",
   "metadata": {
    "execution": {
     "iopub.execute_input": "2025-07-23T15:05:05.863951Z",
     "iopub.status.busy": "2025-07-23T15:05:05.863487Z",
     "iopub.status.idle": "2025-07-23T15:05:05.869440Z",
     "shell.execute_reply": "2025-07-23T15:05:05.868641Z"
    },
    "papermill": {
     "duration": 0.020766,
     "end_time": "2025-07-23T15:05:05.870715",
     "exception": false,
     "start_time": "2025-07-23T15:05:05.849949",
     "status": "completed"
    },
    "tags": []
   },
   "outputs": [
    {
     "data": {
      "text/plain": [
       "4"
      ]
     },
     "execution_count": 59,
     "metadata": {},
     "output_type": "execute_result"
    }
   ],
   "source": [
    "sub_universes = universe_analysis.generate_sub_universes()\n",
    "len(sub_universes)"
   ]
  },
  {
   "cell_type": "code",
   "execution_count": 60,
   "id": "92adf7ba",
   "metadata": {
    "execution": {
     "iopub.execute_input": "2025-07-23T15:05:05.897682Z",
     "iopub.status.busy": "2025-07-23T15:05:05.897382Z",
     "iopub.status.idle": "2025-07-23T15:05:05.901633Z",
     "shell.execute_reply": "2025-07-23T15:05:05.900837Z"
    },
    "papermill": {
     "duration": 0.018723,
     "end_time": "2025-07-23T15:05:05.902845",
     "exception": false,
     "start_time": "2025-07-23T15:05:05.884122",
     "status": "completed"
    },
    "tags": []
   },
   "outputs": [],
   "source": [
    "def filter_sub_universe_data(sub_universe, org_test):\n",
    "    # Keep all rows — no filtering\n",
    "    keep_rows_mask = np.ones(org_test.shape[0], dtype=bool)\n",
    "\n",
    "    print(f\"[INFO] Keeping all rows: {keep_rows_mask.sum()} rows retained.\")\n",
    "    return keep_rows_mask"
   ]
  },
  {
   "cell_type": "code",
   "execution_count": 61,
   "id": "4a759155",
   "metadata": {
    "execution": {
     "iopub.execute_input": "2025-07-23T15:05:05.929858Z",
     "iopub.status.busy": "2025-07-23T15:05:05.929545Z",
     "iopub.status.idle": "2025-07-23T15:05:11.704523Z",
     "shell.execute_reply": "2025-07-23T15:05:11.703771Z"
    },
    "papermill": {
     "duration": 5.78951,
     "end_time": "2025-07-23T15:05:11.705766",
     "exception": false,
     "start_time": "2025-07-23T15:05:05.916256",
     "status": "completed"
    },
    "tags": []
   },
   "outputs": [
    {
     "name": "stdout",
     "output_type": "stream",
     "text": [
      "Stopping execution_time clock.\n",
      "[INFO] Keeping all rows: 89710 rows retained.\n"
     ]
    },
    {
     "name": "stdout",
     "output_type": "stream",
     "text": [
      "[INFO] Keeping all rows: 89710 rows retained.\n"
     ]
    },
    {
     "name": "stdout",
     "output_type": "stream",
     "text": [
      "[INFO] Keeping all rows: 89710 rows retained.\n"
     ]
    },
    {
     "name": "stdout",
     "output_type": "stream",
     "text": [
      "[INFO] Keeping all rows: 89710 rows retained.\n"
     ]
    },
    {
     "data": {
      "text/html": [
       "<div>\n",
       "<style scoped>\n",
       "    .dataframe tbody tr th:only-of-type {\n",
       "        vertical-align: middle;\n",
       "    }\n",
       "\n",
       "    .dataframe tbody tr th {\n",
       "        vertical-align: top;\n",
       "    }\n",
       "\n",
       "    .dataframe thead th {\n",
       "        text-align: right;\n",
       "    }\n",
       "</style>\n",
       "<table border=\"1\" class=\"dataframe\">\n",
       "  <thead>\n",
       "    <tr style=\"text-align: right;\">\n",
       "      <th></th>\n",
       "      <th>run_no</th>\n",
       "      <th>universe_id</th>\n",
       "      <th>universe_settings</th>\n",
       "      <th>execution_time</th>\n",
       "      <th>test_size_n</th>\n",
       "      <th>test_size_frac</th>\n",
       "      <th>fair_main_equalized_odds_difference</th>\n",
       "      <th>fair_main_equalized_odds_ratio</th>\n",
       "      <th>fair_main_demographic_parity_difference</th>\n",
       "      <th>fair_main_demographic_parity_ratio</th>\n",
       "      <th>...</th>\n",
       "      <th>perf_grp_precision_0</th>\n",
       "      <th>perf_grp_precision_1</th>\n",
       "      <th>perf_grp_false positive rate_0</th>\n",
       "      <th>perf_grp_false positive rate_1</th>\n",
       "      <th>perf_grp_false negative rate_0</th>\n",
       "      <th>perf_grp_false negative rate_1</th>\n",
       "      <th>perf_grp_selection rate_0</th>\n",
       "      <th>perf_grp_selection rate_1</th>\n",
       "      <th>perf_grp_count_0</th>\n",
       "      <th>perf_grp_count_1</th>\n",
       "    </tr>\n",
       "  </thead>\n",
       "  <tbody>\n",
       "    <tr>\n",
       "      <th>0</th>\n",
       "      <td>9</td>\n",
       "      <td>6a9cb2c11139c8ce7247e61722752e57</td>\n",
       "      <td>{\"cutoff\": \"quantile_0.1\", \"eval_fairness_grou...</td>\n",
       "      <td>881.399634</td>\n",
       "      <td>89710</td>\n",
       "      <td>1.0</td>\n",
       "      <td>0.108043</td>\n",
       "      <td>0.888932</td>\n",
       "      <td>0.096861</td>\n",
       "      <td>0.900623</td>\n",
       "      <td>...</td>\n",
       "      <td>NaN</td>\n",
       "      <td>NaN</td>\n",
       "      <td>NaN</td>\n",
       "      <td>NaN</td>\n",
       "      <td>NaN</td>\n",
       "      <td>NaN</td>\n",
       "      <td>NaN</td>\n",
       "      <td>NaN</td>\n",
       "      <td>NaN</td>\n",
       "      <td>NaN</td>\n",
       "    </tr>\n",
       "    <tr>\n",
       "      <th>0</th>\n",
       "      <td>9</td>\n",
       "      <td>6a9cb2c11139c8ce7247e61722752e57</td>\n",
       "      <td>{\"cutoff\": \"quantile_0.1\", \"eval_fairness_grou...</td>\n",
       "      <td>881.399634</td>\n",
       "      <td>89710</td>\n",
       "      <td>1.0</td>\n",
       "      <td>0.108043</td>\n",
       "      <td>0.888932</td>\n",
       "      <td>0.096861</td>\n",
       "      <td>0.900623</td>\n",
       "      <td>...</td>\n",
       "      <td>0.117033</td>\n",
       "      <td>0.145095</td>\n",
       "      <td>0.972760</td>\n",
       "      <td>0.864718</td>\n",
       "      <td>0.010557</td>\n",
       "      <td>0.036105</td>\n",
       "      <td>0.974684</td>\n",
       "      <td>0.877823</td>\n",
       "      <td>20540.0</td>\n",
       "      <td>69170.0</td>\n",
       "    </tr>\n",
       "    <tr>\n",
       "      <th>0</th>\n",
       "      <td>9</td>\n",
       "      <td>6a9cb2c11139c8ce7247e61722752e57</td>\n",
       "      <td>{\"cutoff\": \"quantile_0.25\", \"eval_fairness_gro...</td>\n",
       "      <td>881.399634</td>\n",
       "      <td>89710</td>\n",
       "      <td>1.0</td>\n",
       "      <td>0.252111</td>\n",
       "      <td>0.726470</td>\n",
       "      <td>0.229089</td>\n",
       "      <td>0.752772</td>\n",
       "      <td>...</td>\n",
       "      <td>NaN</td>\n",
       "      <td>NaN</td>\n",
       "      <td>NaN</td>\n",
       "      <td>NaN</td>\n",
       "      <td>NaN</td>\n",
       "      <td>NaN</td>\n",
       "      <td>NaN</td>\n",
       "      <td>NaN</td>\n",
       "      <td>NaN</td>\n",
       "      <td>NaN</td>\n",
       "    </tr>\n",
       "    <tr>\n",
       "      <th>0</th>\n",
       "      <td>9</td>\n",
       "      <td>6a9cb2c11139c8ce7247e61722752e57</td>\n",
       "      <td>{\"cutoff\": \"quantile_0.25\", \"eval_fairness_gro...</td>\n",
       "      <td>881.399634</td>\n",
       "      <td>89710</td>\n",
       "      <td>1.0</td>\n",
       "      <td>0.252111</td>\n",
       "      <td>0.726470</td>\n",
       "      <td>0.229089</td>\n",
       "      <td>0.752772</td>\n",
       "      <td>...</td>\n",
       "      <td>0.120002</td>\n",
       "      <td>0.166926</td>\n",
       "      <td>0.921693</td>\n",
       "      <td>0.669582</td>\n",
       "      <td>0.035473</td>\n",
       "      <td>0.118818</td>\n",
       "      <td>0.926631</td>\n",
       "      <td>0.697542</td>\n",
       "      <td>20540.0</td>\n",
       "      <td>69170.0</td>\n",
       "    </tr>\n",
       "  </tbody>\n",
       "</table>\n",
       "<p>4 rows × 50 columns</p>\n",
       "</div>"
      ],
      "text/plain": [
       "  run_no                       universe_id  \\\n",
       "0      9  6a9cb2c11139c8ce7247e61722752e57   \n",
       "0      9  6a9cb2c11139c8ce7247e61722752e57   \n",
       "0      9  6a9cb2c11139c8ce7247e61722752e57   \n",
       "0      9  6a9cb2c11139c8ce7247e61722752e57   \n",
       "\n",
       "                                   universe_settings  execution_time  \\\n",
       "0  {\"cutoff\": \"quantile_0.1\", \"eval_fairness_grou...      881.399634   \n",
       "0  {\"cutoff\": \"quantile_0.1\", \"eval_fairness_grou...      881.399634   \n",
       "0  {\"cutoff\": \"quantile_0.25\", \"eval_fairness_gro...      881.399634   \n",
       "0  {\"cutoff\": \"quantile_0.25\", \"eval_fairness_gro...      881.399634   \n",
       "\n",
       "   test_size_n  test_size_frac  fair_main_equalized_odds_difference  \\\n",
       "0        89710             1.0                             0.108043   \n",
       "0        89710             1.0                             0.108043   \n",
       "0        89710             1.0                             0.252111   \n",
       "0        89710             1.0                             0.252111   \n",
       "\n",
       "   fair_main_equalized_odds_ratio  fair_main_demographic_parity_difference  \\\n",
       "0                        0.888932                                 0.096861   \n",
       "0                        0.888932                                 0.096861   \n",
       "0                        0.726470                                 0.229089   \n",
       "0                        0.726470                                 0.229089   \n",
       "\n",
       "   fair_main_demographic_parity_ratio  ...  perf_grp_precision_0  \\\n",
       "0                            0.900623  ...                   NaN   \n",
       "0                            0.900623  ...              0.117033   \n",
       "0                            0.752772  ...                   NaN   \n",
       "0                            0.752772  ...              0.120002   \n",
       "\n",
       "   perf_grp_precision_1  perf_grp_false positive rate_0  \\\n",
       "0                   NaN                             NaN   \n",
       "0              0.145095                        0.972760   \n",
       "0                   NaN                             NaN   \n",
       "0              0.166926                        0.921693   \n",
       "\n",
       "   perf_grp_false positive rate_1  perf_grp_false negative rate_0  \\\n",
       "0                             NaN                             NaN   \n",
       "0                        0.864718                        0.010557   \n",
       "0                             NaN                             NaN   \n",
       "0                        0.669582                        0.035473   \n",
       "\n",
       "   perf_grp_false negative rate_1  perf_grp_selection rate_0  \\\n",
       "0                             NaN                        NaN   \n",
       "0                        0.036105                   0.974684   \n",
       "0                             NaN                        NaN   \n",
       "0                        0.118818                   0.926631   \n",
       "\n",
       "   perf_grp_selection rate_1  perf_grp_count_0  perf_grp_count_1  \n",
       "0                        NaN               NaN               NaN  \n",
       "0                   0.877823           20540.0           69170.0  \n",
       "0                        NaN               NaN               NaN  \n",
       "0                   0.697542           20540.0           69170.0  \n",
       "\n",
       "[4 rows x 50 columns]"
      ]
     },
     "execution_count": 61,
     "metadata": {},
     "output_type": "execute_result"
    }
   ],
   "source": [
    "final_output = universe_analysis.generate_final_output(\n",
    "    y_pred_prob=probs_test,\n",
    "    y_test=y_true,\n",
    "    org_test=org_test,\n",
    "    filter_data=filter_sub_universe_data,\n",
    "    cp_metrics_df=cp_metrics_df,\n",
    "    save=True,\n",
    ")\n",
    "final_output"
   ]
  },
  {
   "cell_type": "code",
   "execution_count": null,
   "id": "721ff514-cb11-46f8-b6fc-50392f74b5cb",
   "metadata": {
    "papermill": {
     "duration": 0.013045,
     "end_time": "2025-07-23T15:05:11.737738",
     "exception": false,
     "start_time": "2025-07-23T15:05:11.724693",
     "status": "completed"
    },
    "tags": []
   },
   "outputs": [],
   "source": []
  }
 ],
 "metadata": {
  "celltoolbar": "Tags",
  "kernelspec": {
   "display_name": "Python (CMA Fairness)",
   "language": "python",
   "name": "cma_fair_env"
  },
  "language_info": {
   "codemirror_mode": {
    "name": "ipython",
    "version": 3
   },
   "file_extension": ".py",
   "mimetype": "text/x-python",
   "name": "python",
   "nbconvert_exporter": "python",
   "pygments_lexer": "ipython3",
   "version": "3.10.12"
  },
  "papermill": {
   "default_parameters": {},
   "duration": 891.303218,
   "end_time": "2025-07-23T15:05:12.268373",
   "environment_variables": {},
   "exception": null,
   "input_path": "universe_analysis.ipynb",
   "output_path": "output/runs/9/notebooks/m_9-6a9cb2c11139c8ce7247e61722752e57.ipynb",
   "parameters": {
    "output_dir": "output",
    "run_no": "9",
    "seed": "2023",
    "universe": "{\"cutoff\": [\"quantile_0.1\", \"quantile_0.25\"], \"eval_fairness_grouping\": [\"majority-minority\", \"nationality-all\"], \"exclude_features\": \"age\", \"exclude_subgroups\": \"drop-non-german\", \"model\": \"elasticnet\", \"scale\": \"do-not-scale\"}",
    "universe_id": "6a9cb2c11139c8ce7247e61722752e57"
   },
   "start_time": "2025-07-23T14:50:20.965155",
   "version": "2.6.0"
  }
 },
 "nbformat": 4,
 "nbformat_minor": 5
}