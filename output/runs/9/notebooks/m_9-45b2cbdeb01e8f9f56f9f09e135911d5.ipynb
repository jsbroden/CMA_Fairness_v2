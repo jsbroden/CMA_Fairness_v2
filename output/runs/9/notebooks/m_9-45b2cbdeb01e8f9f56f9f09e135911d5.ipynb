{
 "cells": [
  {
   "cell_type": "code",
   "execution_count": 1,
   "id": "f159f837-637b-42ba-96b5-ec9a68c44524",
   "metadata": {
    "execution": {
     "iopub.execute_input": "2025-07-23T14:36:25.393493Z",
     "iopub.status.busy": "2025-07-23T14:36:25.393061Z",
     "iopub.status.idle": "2025-07-23T14:36:25.413854Z",
     "shell.execute_reply": "2025-07-23T14:36:25.412601Z"
    },
    "papermill": {
     "duration": 0.059034,
     "end_time": "2025-07-23T14:36:25.415801",
     "exception": false,
     "start_time": "2025-07-23T14:36:25.356767",
     "status": "completed"
    },
    "tags": []
   },
   "outputs": [
    {
     "name": "stdout",
     "output_type": "stream",
     "text": [
      "/dss/dsshome1/0C/ra93lal2/cma/CMA_Fairness_v2\n"
     ]
    },
    {
     "name": "stderr",
     "output_type": "stream",
     "text": [
      "/dss/dsshome1/0C/ra93lal2/.local/share/virtualenvs/CMA_Fairness_v2-3j10GkSs/lib/python3.10/site-packages/IPython/core/magics/osm.py:393: UserWarning: This is now an optional IPython functionality, using bookmarks requires you to install the `pickleshare` library.\n",
      "  bkms = self.shell.db.get('bookmarks', {})\n",
      "/dss/dsshome1/0C/ra93lal2/.local/share/virtualenvs/CMA_Fairness_v2-3j10GkSs/lib/python3.10/site-packages/IPython/core/magics/osm.py:417: UserWarning: This is now an optional IPython functionality, setting dhist requires you to install the `pickleshare` library.\n",
      "  self.shell.db['dhist'] = compress_dhist(dhist)[-100:]\n"
     ]
    }
   ],
   "source": [
    "%cd ~/cma/CMA_Fairness_v2"
   ]
  },
  {
   "cell_type": "markdown",
   "id": "de2603b9",
   "metadata": {
    "papermill": {
     "duration": 0.043436,
     "end_time": "2025-07-23T14:36:25.493212",
     "exception": false,
     "start_time": "2025-07-23T14:36:25.449776",
     "status": "completed"
    },
    "tags": []
   },
   "source": [
    "The following cell holds the definition of our parameters, these values can be overriden by rendering the with e.g. the following command:\n",
    "\n",
    "papermill -p alpha 0.2 -p ratio 0.3 universe_analysis.ipynb output/test_run.ipynb"
   ]
  },
  {
   "cell_type": "code",
   "execution_count": 2,
   "id": "a80968a0-40bb-4fa9-85ef-2d5eefb01975",
   "metadata": {
    "execution": {
     "iopub.execute_input": "2025-07-23T14:36:25.563500Z",
     "iopub.status.busy": "2025-07-23T14:36:25.562389Z",
     "iopub.status.idle": "2025-07-23T14:36:25.568931Z",
     "shell.execute_reply": "2025-07-23T14:36:25.567750Z"
    },
    "papermill": {
     "duration": 0.044139,
     "end_time": "2025-07-23T14:36:25.570935",
     "exception": false,
     "start_time": "2025-07-23T14:36:25.526796",
     "status": "completed"
    },
    "tags": []
   },
   "outputs": [
    {
     "name": "stdout",
     "output_type": "stream",
     "text": [
      "Current working directory: /dss/dsshome1/0C/ra93lal2/cma/CMA_Fairness_v2\n"
     ]
    }
   ],
   "source": [
    "import os\n",
    "print(\"Current working directory:\", os.getcwd())"
   ]
  },
  {
   "cell_type": "code",
   "execution_count": 3,
   "id": "2dce4c03",
   "metadata": {
    "execution": {
     "iopub.execute_input": "2025-07-23T14:36:25.653047Z",
     "iopub.status.busy": "2025-07-23T14:36:25.652603Z",
     "iopub.status.idle": "2025-07-23T14:36:25.659513Z",
     "shell.execute_reply": "2025-07-23T14:36:25.658372Z"
    },
    "papermill": {
     "duration": 0.04405,
     "end_time": "2025-07-23T14:36:25.661185",
     "exception": false,
     "start_time": "2025-07-23T14:36:25.617135",
     "status": "completed"
    },
    "tags": [
     "parameters"
    ]
   },
   "outputs": [],
   "source": [
    "run_no = 0\n",
    "universe_id = \"test\"\n",
    "universe = {\n",
    "    \"scale\": \"scale\", # \"scale\", \"do-not-scale\",\n",
    "    \"model\": \"elasticnet\", # \"logreg\", \"penalized_logreg\", \"rf\", \"gbm\", \"elasticnet\"\n",
    "    \"cutoff\": [\"quantile_0.15\", \"quantile_0.30\"],\n",
    "    \"exclude_features\": \"age\", # \"none\", \"nationality\", \"sex\", \"nationality-sex\", \"age\"\n",
    "    \"exclude_subgroups\": \"keep-all\", # \"keep-all\", \"drop-non-german\"\n",
    "    #\"training_sample\": \"restricted\", # \"restricted\", \"full\"\n",
    "    \"eval_fairness_grouping\": [\"majority-minority\", \"nationality-all\"]\n",
    "}\n",
    "\n",
    "output_dir=\"./output\"\n",
    "seed=0"
   ]
  },
  {
   "cell_type": "code",
   "execution_count": 4,
   "id": "4b326c86",
   "metadata": {
    "execution": {
     "iopub.execute_input": "2025-07-23T14:36:25.747262Z",
     "iopub.status.busy": "2025-07-23T14:36:25.746833Z",
     "iopub.status.idle": "2025-07-23T14:36:25.754231Z",
     "shell.execute_reply": "2025-07-23T14:36:25.753043Z"
    },
    "papermill": {
     "duration": 0.0606,
     "end_time": "2025-07-23T14:36:25.756372",
     "exception": false,
     "start_time": "2025-07-23T14:36:25.695772",
     "status": "completed"
    },
    "tags": [
     "injected-parameters"
    ]
   },
   "outputs": [],
   "source": [
    "# Parameters\n",
    "universe_id = \"45b2cbdeb01e8f9f56f9f09e135911d5\"\n",
    "run_no = \"9\"\n",
    "universe = \"{\\\"cutoff\\\": [\\\"quantile_0.1\\\", \\\"quantile_0.25\\\"], \\\"eval_fairness_grouping\\\": [\\\"majority-minority\\\", \\\"nationality-all\\\"], \\\"exclude_features\\\": \\\"sex\\\", \\\"exclude_subgroups\\\": \\\"drop-non-german\\\", \\\"model\\\": \\\"rf\\\", \\\"scale\\\": \\\"do-not-scale\\\"}\"\n",
    "output_dir = \"output\"\n",
    "seed = \"2023\"\n"
   ]
  },
  {
   "cell_type": "code",
   "execution_count": 5,
   "id": "1650acaf",
   "metadata": {
    "execution": {
     "iopub.execute_input": "2025-07-23T14:36:25.867773Z",
     "iopub.status.busy": "2025-07-23T14:36:25.867356Z",
     "iopub.status.idle": "2025-07-23T14:36:25.874384Z",
     "shell.execute_reply": "2025-07-23T14:36:25.873383Z"
    },
    "papermill": {
     "duration": 0.072876,
     "end_time": "2025-07-23T14:36:25.876639",
     "exception": false,
     "start_time": "2025-07-23T14:36:25.803763",
     "status": "completed"
    },
    "tags": []
   },
   "outputs": [],
   "source": [
    "import json\n",
    "# Parse universe into dict if it is passed as a string\n",
    "if isinstance(universe, str):\n",
    "    universe = json.loads(universe)"
   ]
  },
  {
   "cell_type": "code",
   "execution_count": 6,
   "id": "16620c48",
   "metadata": {
    "execution": {
     "iopub.execute_input": "2025-07-23T14:36:25.949984Z",
     "iopub.status.busy": "2025-07-23T14:36:25.948817Z",
     "iopub.status.idle": "2025-07-23T14:36:26.032012Z",
     "shell.execute_reply": "2025-07-23T14:36:26.031011Z"
    },
    "papermill": {
     "duration": 0.120406,
     "end_time": "2025-07-23T14:36:26.033966",
     "exception": false,
     "start_time": "2025-07-23T14:36:25.913560",
     "status": "completed"
    },
    "tags": []
   },
   "outputs": [],
   "source": [
    "# Auto-reload the custom package\n",
    "%load_ext autoreload\n",
    "%autoreload 1\n",
    "%aimport fairness_multiverse"
   ]
  },
  {
   "cell_type": "code",
   "execution_count": 7,
   "id": "01c5c9f3",
   "metadata": {
    "execution": {
     "iopub.execute_input": "2025-07-23T14:36:26.111284Z",
     "iopub.status.busy": "2025-07-23T14:36:26.110842Z",
     "iopub.status.idle": "2025-07-23T14:36:31.487802Z",
     "shell.execute_reply": "2025-07-23T14:36:31.486642Z"
    },
    "papermill": {
     "duration": 5.421543,
     "end_time": "2025-07-23T14:36:31.489834",
     "exception": false,
     "start_time": "2025-07-23T14:36:26.068291",
     "status": "completed"
    },
    "tags": []
   },
   "outputs": [],
   "source": [
    "from fairness_multiverse.universe import UniverseAnalysis\n",
    "\n",
    "universe_analysis = UniverseAnalysis(\n",
    "    run_no = run_no,\n",
    "    universe_id = universe_id,\n",
    "    universe = universe,\n",
    "    output_dir=output_dir,\n",
    ")"
   ]
  },
  {
   "cell_type": "code",
   "execution_count": 8,
   "id": "106241f5",
   "metadata": {
    "execution": {
     "iopub.execute_input": "2025-07-23T14:36:31.587568Z",
     "iopub.status.busy": "2025-07-23T14:36:31.587138Z",
     "iopub.status.idle": "2025-07-23T14:36:31.601407Z",
     "shell.execute_reply": "2025-07-23T14:36:31.600349Z"
    },
    "papermill": {
     "duration": 0.066774,
     "end_time": "2025-07-23T14:36:31.603498",
     "exception": false,
     "start_time": "2025-07-23T14:36:31.536724",
     "status": "completed"
    },
    "tags": []
   },
   "outputs": [
    {
     "name": "stdout",
     "output_type": "stream",
     "text": [
      "Using Seed: 2023\n"
     ]
    }
   ],
   "source": [
    "import numpy as np\n",
    "parsed_seed = int(seed)\n",
    "np.random.seed(parsed_seed)\n",
    "print(f\"Using Seed: {parsed_seed}\")"
   ]
  },
  {
   "cell_type": "markdown",
   "id": "e0ebdc57",
   "metadata": {
    "papermill": {
     "duration": 0.038994,
     "end_time": "2025-07-23T14:36:31.678803",
     "exception": false,
     "start_time": "2025-07-23T14:36:31.639809",
     "status": "completed"
    },
    "tags": []
   },
   "source": [
    "# Loading Data"
   ]
  },
  {
   "cell_type": "markdown",
   "id": "681925a3",
   "metadata": {
    "papermill": {
     "duration": 0.035633,
     "end_time": "2025-07-23T14:36:31.764298",
     "exception": false,
     "start_time": "2025-07-23T14:36:31.728665",
     "status": "completed"
    },
    "tags": []
   },
   "source": [
    "Load siab_train, siab_test, siab_calib and/or \n",
    "load siab_train_features, siab_train_labels"
   ]
  },
  {
   "cell_type": "code",
   "execution_count": 9,
   "id": "f0496b8a",
   "metadata": {
    "execution": {
     "iopub.execute_input": "2025-07-23T14:36:31.845115Z",
     "iopub.status.busy": "2025-07-23T14:36:31.844663Z",
     "iopub.status.idle": "2025-07-23T14:36:31.852757Z",
     "shell.execute_reply": "2025-07-23T14:36:31.851693Z"
    },
    "papermill": {
     "duration": 0.050213,
     "end_time": "2025-07-23T14:36:31.855045",
     "exception": false,
     "start_time": "2025-07-23T14:36:31.804832",
     "status": "completed"
    },
    "tags": []
   },
   "outputs": [],
   "source": [
    "# Do I need to load siab? Delete this cell?\n",
    "\n",
    "#from pathlib import Path\n",
    "#import pandas as pd\n",
    "#\n",
    "## File paths\n",
    "#raw_file = Path(\"data/raw/siab.csv\")\n",
    "#cache_file = Path(\"data/siab_cached.csv.gz\")\n",
    "#\n",
    "## Ensure cache directory exists\n",
    "#cache_file.parent.mkdir(parents=True, exist_ok=True)\n",
    "#\n",
    "## Load with simple caching\n",
    "#if cache_file.exists():\n",
    "#    print(f\"Loading SIAB data from cache: {cache_file}\")\n",
    "#    siab = pd.read_csv(cache_file, compression='gzip')\n",
    "#else:\n",
    "#    print(f\"Cache not found. Reading raw SIAB data: {raw_file}\")\n",
    "#    siab = pd.read_csv(raw_file)\n",
    "#    siab.to_csv(cache_file, index=False, compression='gzip')\n",
    "#    print(f\"Cached SIAB data to: {cache_file}\")\n",
    "#\n",
    "## Now use `siab` DataFrame as needed\n",
    "#print(siab.shape)\n"
   ]
  },
  {
   "cell_type": "code",
   "execution_count": 10,
   "id": "a0edb063",
   "metadata": {
    "execution": {
     "iopub.execute_input": "2025-07-23T14:36:32.058925Z",
     "iopub.status.busy": "2025-07-23T14:36:32.058449Z",
     "iopub.status.idle": "2025-07-23T14:36:35.262464Z",
     "shell.execute_reply": "2025-07-23T14:36:35.260736Z"
    },
    "papermill": {
     "duration": 3.303418,
     "end_time": "2025-07-23T14:36:35.264467",
     "exception": false,
     "start_time": "2025-07-23T14:36:31.961049",
     "status": "completed"
    },
    "tags": []
   },
   "outputs": [],
   "source": [
    "import pandas as pd\n",
    "\n",
    "X_train = pd.read_csv(\"./data/X_train.csv\")\n",
    "y_train = pd.read_csv(\"./data/y_train.csv\")"
   ]
  },
  {
   "cell_type": "code",
   "execution_count": 11,
   "id": "63d08085",
   "metadata": {
    "execution": {
     "iopub.execute_input": "2025-07-23T14:36:35.478998Z",
     "iopub.status.busy": "2025-07-23T14:36:35.478515Z",
     "iopub.status.idle": "2025-07-23T14:36:42.327793Z",
     "shell.execute_reply": "2025-07-23T14:36:42.326605Z"
    },
    "papermill": {
     "duration": 6.977167,
     "end_time": "2025-07-23T14:36:42.329879",
     "exception": false,
     "start_time": "2025-07-23T14:36:35.352712",
     "status": "completed"
    },
    "tags": []
   },
   "outputs": [],
   "source": [
    "X_test = pd.read_csv(\"./data/X_test.csv\")\n",
    "y_true = pd.read_csv(\"./data/y_test.csv\")"
   ]
  },
  {
   "cell_type": "code",
   "execution_count": 12,
   "id": "98a8d0fa-1d3d-4ed8-bb2c-281470e24add",
   "metadata": {
    "execution": {
     "iopub.execute_input": "2025-07-23T14:36:42.451339Z",
     "iopub.status.busy": "2025-07-23T14:36:42.450877Z",
     "iopub.status.idle": "2025-07-23T14:36:47.567158Z",
     "shell.execute_reply": "2025-07-23T14:36:47.565911Z"
    },
    "papermill": {
     "duration": 5.189271,
     "end_time": "2025-07-23T14:36:47.569531",
     "exception": false,
     "start_time": "2025-07-23T14:36:42.380260",
     "status": "completed"
    },
    "tags": []
   },
   "outputs": [],
   "source": [
    "# Calibration data for conformal\n",
    "X_calib = pd.read_csv(\"./data/X_calib.csv\")\n",
    "y_calib = pd.read_csv(\"./data/y_calib.csv\")"
   ]
  },
  {
   "cell_type": "code",
   "execution_count": 13,
   "id": "e6c733c5",
   "metadata": {
    "execution": {
     "iopub.execute_input": "2025-07-23T14:36:47.707456Z",
     "iopub.status.busy": "2025-07-23T14:36:47.706972Z",
     "iopub.status.idle": "2025-07-23T14:36:48.262879Z",
     "shell.execute_reply": "2025-07-23T14:36:48.261748Z"
    },
    "papermill": {
     "duration": 0.6289,
     "end_time": "2025-07-23T14:36:48.265625",
     "exception": false,
     "start_time": "2025-07-23T14:36:47.636725",
     "status": "completed"
    },
    "tags": []
   },
   "outputs": [],
   "source": [
    "# Auxiliary data needed downstream in the pipeline\n",
    "\n",
    "org_train = X_train.copy()\n",
    "org_test = X_test.copy()\n",
    "org_calib = X_calib.copy()"
   ]
  },
  {
   "cell_type": "markdown",
   "id": "0a4a1b33",
   "metadata": {
    "papermill": {
     "duration": 0.056243,
     "end_time": "2025-07-23T14:36:48.381080",
     "exception": false,
     "start_time": "2025-07-23T14:36:48.324837",
     "status": "completed"
    },
    "tags": []
   },
   "source": [
    "# Preprocessing Data"
   ]
  },
  {
   "cell_type": "code",
   "execution_count": 14,
   "id": "ca879031",
   "metadata": {
    "execution": {
     "iopub.execute_input": "2025-07-23T14:36:48.495177Z",
     "iopub.status.busy": "2025-07-23T14:36:48.494729Z",
     "iopub.status.idle": "2025-07-23T14:36:48.502139Z",
     "shell.execute_reply": "2025-07-23T14:36:48.500932Z"
    },
    "papermill": {
     "duration": 0.065109,
     "end_time": "2025-07-23T14:36:48.505973",
     "exception": false,
     "start_time": "2025-07-23T14:36:48.440864",
     "status": "completed"
    },
    "tags": []
   },
   "outputs": [],
   "source": [
    "# EXCLUDE PROTECTED FEATURES\n",
    "# ----------------------\n",
    "# \"exclude_features\": \"none\", # \"nationality\", \"sex\", \"nationality-sex\"\n",
    "\n",
    "excluded_features = universe[\"exclude_features\"].split(\"-\") # split, e.g.: \"nationality-sex\" -> [\"nationality\", \"sex\"]\n",
    "excluded_features_dictionary = {\n",
    "    \"nationality\": [\"maxdeutsch1\", \"maxdeutsch.Missing.\"],\n",
    "    \"sex\": [\"frau1\"],\n",
    "    \"age\": [\"age\"],\n",
    "}\n"
   ]
  },
  {
   "cell_type": "code",
   "execution_count": 15,
   "id": "b745ac60",
   "metadata": {
    "execution": {
     "iopub.execute_input": "2025-07-23T14:36:48.626191Z",
     "iopub.status.busy": "2025-07-23T14:36:48.625649Z",
     "iopub.status.idle": "2025-07-23T14:36:48.632637Z",
     "shell.execute_reply": "2025-07-23T14:36:48.631490Z"
    },
    "papermill": {
     "duration": 0.055536,
     "end_time": "2025-07-23T14:36:48.636345",
     "exception": false,
     "start_time": "2025-07-23T14:36:48.580809",
     "status": "completed"
    },
    "tags": []
   },
   "outputs": [],
   "source": [
    "# Code nice names to column names\n",
    "\n",
    "excluded_features_columns = [\n",
    "    excluded_features_dictionary[f] for f in excluded_features if len(f) > 0 and f != \"none\"\n",
    "]"
   ]
  },
  {
   "cell_type": "code",
   "execution_count": 16,
   "id": "f84f73a2",
   "metadata": {
    "execution": {
     "iopub.execute_input": "2025-07-23T14:36:48.770944Z",
     "iopub.status.busy": "2025-07-23T14:36:48.770480Z",
     "iopub.status.idle": "2025-07-23T14:36:48.779131Z",
     "shell.execute_reply": "2025-07-23T14:36:48.778005Z"
    },
    "papermill": {
     "duration": 0.082196,
     "end_time": "2025-07-23T14:36:48.781946",
     "exception": false,
     "start_time": "2025-07-23T14:36:48.699750",
     "status": "completed"
    },
    "tags": []
   },
   "outputs": [],
   "source": [
    "from utils import flatten_once\n",
    "\n",
    "excluded_features_columns = flatten_once(excluded_features_columns)"
   ]
  },
  {
   "cell_type": "code",
   "execution_count": 17,
   "id": "884dea22",
   "metadata": {
    "execution": {
     "iopub.execute_input": "2025-07-23T14:36:48.910913Z",
     "iopub.status.busy": "2025-07-23T14:36:48.910441Z",
     "iopub.status.idle": "2025-07-23T14:36:49.010225Z",
     "shell.execute_reply": "2025-07-23T14:36:49.009081Z"
    },
    "papermill": {
     "duration": 0.163351,
     "end_time": "2025-07-23T14:36:49.012410",
     "exception": false,
     "start_time": "2025-07-23T14:36:48.849059",
     "status": "completed"
    },
    "tags": []
   },
   "outputs": [
    {
     "name": "stdout",
     "output_type": "stream",
     "text": [
      "Dropping features: ['frau1']\n"
     ]
    }
   ],
   "source": [
    "if len(excluded_features_columns) > 0:\n",
    "    print(f\"Dropping features: {excluded_features_columns}\")\n",
    "    X_train.drop(excluded_features_columns, axis=1, inplace=True)"
   ]
  },
  {
   "cell_type": "code",
   "execution_count": 18,
   "id": "95ab8b16",
   "metadata": {
    "execution": {
     "iopub.execute_input": "2025-07-23T14:36:49.119731Z",
     "iopub.status.busy": "2025-07-23T14:36:49.119270Z",
     "iopub.status.idle": "2025-07-23T14:36:49.246391Z",
     "shell.execute_reply": "2025-07-23T14:36:49.240696Z"
    },
    "papermill": {
     "duration": 0.179152,
     "end_time": "2025-07-23T14:36:49.248395",
     "exception": false,
     "start_time": "2025-07-23T14:36:49.069243",
     "status": "completed"
    },
    "tags": []
   },
   "outputs": [
    {
     "name": "stdout",
     "output_type": "stream",
     "text": [
      "Dropping features: ['frau1']\n"
     ]
    }
   ],
   "source": [
    "if len(excluded_features_columns) > 0:\n",
    "    print(f\"Dropping features: {excluded_features_columns}\")\n",
    "    X_test.drop(excluded_features_columns, axis=1, inplace=True)"
   ]
  },
  {
   "cell_type": "code",
   "execution_count": 19,
   "id": "1853aaf5-fb9f-46cb-a2b5-8ea4ae2237e4",
   "metadata": {
    "execution": {
     "iopub.execute_input": "2025-07-23T14:36:49.359025Z",
     "iopub.status.busy": "2025-07-23T14:36:49.358572Z",
     "iopub.status.idle": "2025-07-23T14:36:49.485487Z",
     "shell.execute_reply": "2025-07-23T14:36:49.475362Z"
    },
    "papermill": {
     "duration": 0.191174,
     "end_time": "2025-07-23T14:36:49.488080",
     "exception": false,
     "start_time": "2025-07-23T14:36:49.296906",
     "status": "completed"
    },
    "tags": []
   },
   "outputs": [
    {
     "name": "stdout",
     "output_type": "stream",
     "text": [
      "Dropping features: ['frau1']\n"
     ]
    }
   ],
   "source": [
    "if len(excluded_features_columns) > 0:\n",
    "    print(f\"Dropping features: {excluded_features_columns}\")\n",
    "    X_calib.drop(excluded_features_columns, axis=1, inplace=True)"
   ]
  },
  {
   "cell_type": "code",
   "execution_count": 20,
   "id": "76c4dc6d",
   "metadata": {
    "execution": {
     "iopub.execute_input": "2025-07-23T14:36:49.558838Z",
     "iopub.status.busy": "2025-07-23T14:36:49.558375Z",
     "iopub.status.idle": "2025-07-23T14:36:49.566626Z",
     "shell.execute_reply": "2025-07-23T14:36:49.565456Z"
    },
    "papermill": {
     "duration": 0.05284,
     "end_time": "2025-07-23T14:36:49.569072",
     "exception": false,
     "start_time": "2025-07-23T14:36:49.516232",
     "status": "completed"
    },
    "tags": []
   },
   "outputs": [],
   "source": [
    "# EXCLUDE CERTAIN SUBGROUPS\n",
    "# ----------------------\n",
    "\n",
    "mode = universe.get(\"exclude_subgroups\", \"keep-all\") \n",
    "# Fetches the exclude_subgroups setting from the universe dict.\n",
    "# Defaults to \"keep-all\" if the key is missing."
   ]
  },
  {
   "cell_type": "code",
   "execution_count": 21,
   "id": "21994072",
   "metadata": {
    "execution": {
     "iopub.execute_input": "2025-07-23T14:36:49.669954Z",
     "iopub.status.busy": "2025-07-23T14:36:49.669490Z",
     "iopub.status.idle": "2025-07-23T14:36:49.678403Z",
     "shell.execute_reply": "2025-07-23T14:36:49.677293Z"
    },
    "papermill": {
     "duration": 0.054736,
     "end_time": "2025-07-23T14:36:49.682258",
     "exception": false,
     "start_time": "2025-07-23T14:36:49.627522",
     "status": "completed"
    },
    "tags": []
   },
   "outputs": [],
   "source": [
    "if mode == \"keep-all\":\n",
    "    keep_mask = pd.Series(True, index=org_train.index)\n",
    "\n",
    "# org_train contains the original feature columns from features_org (in Simson)\n",
    "# features_org contains unprocessed features, for me X_train at beginning ???\n",
    "# For keep-all, creates a boolean Series (keep_mask) of all True, so no rows are removed.\n",
    "\n",
    "elif mode == \"drop-non-german\":\n",
    "    keep_mask = org_train[\"maxdeutsch1\"] == 1 # ??? what about missing values?\n",
    "\n",
    "else:\n",
    "    raise ValueError(f\"Unsupported mode for exclude_subgroups: {mode}\")\n"
   ]
  },
  {
   "cell_type": "code",
   "execution_count": 22,
   "id": "71651440",
   "metadata": {
    "execution": {
     "iopub.execute_input": "2025-07-23T14:36:49.795609Z",
     "iopub.status.busy": "2025-07-23T14:36:49.795137Z",
     "iopub.status.idle": "2025-07-23T14:36:49.804778Z",
     "shell.execute_reply": "2025-07-23T14:36:49.803454Z"
    },
    "papermill": {
     "duration": 0.070634,
     "end_time": "2025-07-23T14:36:49.808957",
     "exception": false,
     "start_time": "2025-07-23T14:36:49.738323",
     "status": "completed"
    },
    "tags": []
   },
   "outputs": [
    {
     "name": "stdout",
     "output_type": "stream",
     "text": [
      "Dropping 10036 rows (13.38%) where mode='drop-non-german'\n"
     ]
    }
   ],
   "source": [
    "n_drop = (~keep_mask).sum() # Calculates how many rows are set to be dropped\n",
    "if n_drop > 0:\n",
    "    pct = n_drop / len(keep_mask) * 100\n",
    "    print(f\"Dropping {n_drop} rows ({pct:.2f}%) where mode='{mode}'\")"
   ]
  },
  {
   "cell_type": "code",
   "execution_count": 23,
   "id": "5fb8eee5",
   "metadata": {
    "execution": {
     "iopub.execute_input": "2025-07-23T14:36:49.906034Z",
     "iopub.status.busy": "2025-07-23T14:36:49.905562Z",
     "iopub.status.idle": "2025-07-23T14:36:50.010456Z",
     "shell.execute_reply": "2025-07-23T14:36:50.009387Z"
    },
    "papermill": {
     "duration": 0.155581,
     "end_time": "2025-07-23T14:36:50.012583",
     "exception": false,
     "start_time": "2025-07-23T14:36:49.857002",
     "status": "completed"
    },
    "tags": []
   },
   "outputs": [],
   "source": [
    "X_train = X_train[keep_mask]"
   ]
  },
  {
   "cell_type": "code",
   "execution_count": 24,
   "id": "b202bb3a",
   "metadata": {
    "execution": {
     "iopub.execute_input": "2025-07-23T14:36:50.131156Z",
     "iopub.status.busy": "2025-07-23T14:36:50.130690Z",
     "iopub.status.idle": "2025-07-23T14:36:50.140134Z",
     "shell.execute_reply": "2025-07-23T14:36:50.139037Z"
    },
    "papermill": {
     "duration": 0.086227,
     "end_time": "2025-07-23T14:36:50.144013",
     "exception": false,
     "start_time": "2025-07-23T14:36:50.057786",
     "status": "completed"
    },
    "tags": []
   },
   "outputs": [],
   "source": [
    "y_train = y_train[keep_mask]"
   ]
  },
  {
   "cell_type": "markdown",
   "id": "493e2ac3",
   "metadata": {
    "papermill": {
     "duration": 0.068267,
     "end_time": "2025-07-23T14:36:50.284921",
     "exception": false,
     "start_time": "2025-07-23T14:36:50.216654",
     "status": "completed"
    },
    "tags": []
   },
   "source": [
    "# Model Training"
   ]
  },
  {
   "cell_type": "code",
   "execution_count": 25,
   "id": "679e1268",
   "metadata": {
    "execution": {
     "iopub.execute_input": "2025-07-23T14:36:50.406426Z",
     "iopub.status.busy": "2025-07-23T14:36:50.405976Z",
     "iopub.status.idle": "2025-07-23T14:36:50.779042Z",
     "shell.execute_reply": "2025-07-23T14:36:50.777860Z"
    },
    "papermill": {
     "duration": 0.436501,
     "end_time": "2025-07-23T14:36:50.781189",
     "exception": false,
     "start_time": "2025-07-23T14:36:50.344688",
     "status": "completed"
    },
    "tags": []
   },
   "outputs": [],
   "source": [
    "from sklearn.linear_model import LogisticRegression\n",
    "from sklearn.ensemble import GradientBoostingClassifier, RandomForestClassifier\n",
    "\n",
    "if (universe[\"model\"] == \"logreg\"):\n",
    "    model = LogisticRegression() #penalty=\"none\") #, solver=\"newton-cg\", max_iter=1) # include random_state=19 ?\n",
    "elif (universe[\"model\"] == \"penalized_logreg\"):\n",
    "    model = LogisticRegression(penalty=\"l2\", C=1.0) #, solver=\"newton-cg\", max_iter=1)\n",
    "elif (universe[\"model\"] == \"rf\"):\n",
    "    model = RandomForestClassifier(n_estimators=100, n_jobs=-1)\n",
    "elif (universe[\"model\"] == \"gbm\"):\n",
    "    model = GradientBoostingClassifier()\n",
    "elif (universe[\"model\"] == \"elasticnet\"):\n",
    "    model = LogisticRegression(penalty = 'elasticnet', solver = 'saga', l1_ratio = 0.5, max_iter=5000) # which solver to use?\n",
    "else:\n",
    "    raise \"Unsupported universe.model\""
   ]
  },
  {
   "cell_type": "code",
   "execution_count": 26,
   "id": "0cc8f744",
   "metadata": {
    "execution": {
     "iopub.execute_input": "2025-07-23T14:36:50.915371Z",
     "iopub.status.busy": "2025-07-23T14:36:50.914887Z",
     "iopub.status.idle": "2025-07-23T14:36:50.924675Z",
     "shell.execute_reply": "2025-07-23T14:36:50.923292Z"
    },
    "papermill": {
     "duration": 0.083158,
     "end_time": "2025-07-23T14:36:50.927530",
     "exception": false,
     "start_time": "2025-07-23T14:36:50.844372",
     "status": "completed"
    },
    "tags": []
   },
   "outputs": [],
   "source": [
    "import numpy as np\n",
    "from sklearn.pipeline import Pipeline\n",
    "from sklearn.preprocessing import StandardScaler\n",
    "\n",
    "model = Pipeline([\n",
    "    #(\"continuous_processor\", continuous_processor),\n",
    "    #(\"categorical_preprocessor\", categorical_preprocessor),\n",
    "    (\"scale\", StandardScaler() if universe[\"scale\"] == \"scale\" else None), \n",
    "    (\"model\", model),\n",
    "])"
   ]
  },
  {
   "cell_type": "code",
   "execution_count": 27,
   "id": "9442c04d",
   "metadata": {
    "execution": {
     "iopub.execute_input": "2025-07-23T14:36:51.058889Z",
     "iopub.status.busy": "2025-07-23T14:36:51.058403Z",
     "iopub.status.idle": "2025-07-23T14:37:03.288910Z",
     "shell.execute_reply": "2025-07-23T14:37:03.287829Z"
    },
    "papermill": {
     "duration": 12.297265,
     "end_time": "2025-07-23T14:37:03.290393",
     "exception": false,
     "start_time": "2025-07-23T14:36:50.993128",
     "status": "completed"
    },
    "tags": []
   },
   "outputs": [
    {
     "data": {
      "text/html": [
       "<style>#sk-container-id-1 {color: black;background-color: white;}#sk-container-id-1 pre{padding: 0;}#sk-container-id-1 div.sk-toggleable {background-color: white;}#sk-container-id-1 label.sk-toggleable__label {cursor: pointer;display: block;width: 100%;margin-bottom: 0;padding: 0.3em;box-sizing: border-box;text-align: center;}#sk-container-id-1 label.sk-toggleable__label-arrow:before {content: \"▸\";float: left;margin-right: 0.25em;color: #696969;}#sk-container-id-1 label.sk-toggleable__label-arrow:hover:before {color: black;}#sk-container-id-1 div.sk-estimator:hover label.sk-toggleable__label-arrow:before {color: black;}#sk-container-id-1 div.sk-toggleable__content {max-height: 0;max-width: 0;overflow: hidden;text-align: left;background-color: #f0f8ff;}#sk-container-id-1 div.sk-toggleable__content pre {margin: 0.2em;color: black;border-radius: 0.25em;background-color: #f0f8ff;}#sk-container-id-1 input.sk-toggleable__control:checked~div.sk-toggleable__content {max-height: 200px;max-width: 100%;overflow: auto;}#sk-container-id-1 input.sk-toggleable__control:checked~label.sk-toggleable__label-arrow:before {content: \"▾\";}#sk-container-id-1 div.sk-estimator input.sk-toggleable__control:checked~label.sk-toggleable__label {background-color: #d4ebff;}#sk-container-id-1 div.sk-label input.sk-toggleable__control:checked~label.sk-toggleable__label {background-color: #d4ebff;}#sk-container-id-1 input.sk-hidden--visually {border: 0;clip: rect(1px 1px 1px 1px);clip: rect(1px, 1px, 1px, 1px);height: 1px;margin: -1px;overflow: hidden;padding: 0;position: absolute;width: 1px;}#sk-container-id-1 div.sk-estimator {font-family: monospace;background-color: #f0f8ff;border: 1px dotted black;border-radius: 0.25em;box-sizing: border-box;margin-bottom: 0.5em;}#sk-container-id-1 div.sk-estimator:hover {background-color: #d4ebff;}#sk-container-id-1 div.sk-parallel-item::after {content: \"\";width: 100%;border-bottom: 1px solid gray;flex-grow: 1;}#sk-container-id-1 div.sk-label:hover label.sk-toggleable__label {background-color: #d4ebff;}#sk-container-id-1 div.sk-serial::before {content: \"\";position: absolute;border-left: 1px solid gray;box-sizing: border-box;top: 0;bottom: 0;left: 50%;z-index: 0;}#sk-container-id-1 div.sk-serial {display: flex;flex-direction: column;align-items: center;background-color: white;padding-right: 0.2em;padding-left: 0.2em;position: relative;}#sk-container-id-1 div.sk-item {position: relative;z-index: 1;}#sk-container-id-1 div.sk-parallel {display: flex;align-items: stretch;justify-content: center;background-color: white;position: relative;}#sk-container-id-1 div.sk-item::before, #sk-container-id-1 div.sk-parallel-item::before {content: \"\";position: absolute;border-left: 1px solid gray;box-sizing: border-box;top: 0;bottom: 0;left: 50%;z-index: -1;}#sk-container-id-1 div.sk-parallel-item {display: flex;flex-direction: column;z-index: 1;position: relative;background-color: white;}#sk-container-id-1 div.sk-parallel-item:first-child::after {align-self: flex-end;width: 50%;}#sk-container-id-1 div.sk-parallel-item:last-child::after {align-self: flex-start;width: 50%;}#sk-container-id-1 div.sk-parallel-item:only-child::after {width: 0;}#sk-container-id-1 div.sk-dashed-wrapped {border: 1px dashed gray;margin: 0 0.4em 0.5em 0.4em;box-sizing: border-box;padding-bottom: 0.4em;background-color: white;}#sk-container-id-1 div.sk-label label {font-family: monospace;font-weight: bold;display: inline-block;line-height: 1.2em;}#sk-container-id-1 div.sk-label-container {text-align: center;}#sk-container-id-1 div.sk-container {/* jupyter's `normalize.less` sets `[hidden] { display: none; }` but bootstrap.min.css set `[hidden] { display: none !important; }` so we also need the `!important` here to be able to override the default hidden behavior on the sphinx rendered scikit-learn.org. See: https://github.com/scikit-learn/scikit-learn/issues/21755 */display: inline-block !important;position: relative;}#sk-container-id-1 div.sk-text-repr-fallback {display: none;}</style><div id=\"sk-container-id-1\" class=\"sk-top-container\"><div class=\"sk-text-repr-fallback\"><pre>Pipeline(steps=[(&#x27;scale&#x27;, None), (&#x27;model&#x27;, RandomForestClassifier(n_jobs=-1))])</pre><b>In a Jupyter environment, please rerun this cell to show the HTML representation or trust the notebook. <br />On GitHub, the HTML representation is unable to render, please try loading this page with nbviewer.org.</b></div><div class=\"sk-container\" hidden><div class=\"sk-item sk-dashed-wrapped\"><div class=\"sk-label-container\"><div class=\"sk-label sk-toggleable\"><input class=\"sk-toggleable__control sk-hidden--visually\" id=\"sk-estimator-id-1\" type=\"checkbox\" ><label for=\"sk-estimator-id-1\" class=\"sk-toggleable__label sk-toggleable__label-arrow\">Pipeline</label><div class=\"sk-toggleable__content\"><pre>Pipeline(steps=[(&#x27;scale&#x27;, None), (&#x27;model&#x27;, RandomForestClassifier(n_jobs=-1))])</pre></div></div></div><div class=\"sk-serial\"><div class=\"sk-item\"><div class=\"sk-estimator sk-toggleable\"><input class=\"sk-toggleable__control sk-hidden--visually\" id=\"sk-estimator-id-2\" type=\"checkbox\" ><label for=\"sk-estimator-id-2\" class=\"sk-toggleable__label sk-toggleable__label-arrow\">None</label><div class=\"sk-toggleable__content\"><pre>None</pre></div></div></div><div class=\"sk-item\"><div class=\"sk-estimator sk-toggleable\"><input class=\"sk-toggleable__control sk-hidden--visually\" id=\"sk-estimator-id-3\" type=\"checkbox\" ><label for=\"sk-estimator-id-3\" class=\"sk-toggleable__label sk-toggleable__label-arrow\">RandomForestClassifier</label><div class=\"sk-toggleable__content\"><pre>RandomForestClassifier(n_jobs=-1)</pre></div></div></div></div></div></div></div>"
      ],
      "text/plain": [
       "Pipeline(steps=[('scale', None), ('model', RandomForestClassifier(n_jobs=-1))])"
      ]
     },
     "execution_count": 27,
     "metadata": {},
     "output_type": "execute_result"
    }
   ],
   "source": [
    "model.fit(X_train, y_train.values.ravel())"
   ]
  },
  {
   "cell_type": "code",
   "execution_count": 28,
   "id": "af59f8c0",
   "metadata": {
    "execution": {
     "iopub.execute_input": "2025-07-23T14:37:03.316117Z",
     "iopub.status.busy": "2025-07-23T14:37:03.315362Z",
     "iopub.status.idle": "2025-07-23T14:37:03.321441Z",
     "shell.execute_reply": "2025-07-23T14:37:03.320488Z"
    },
    "papermill": {
     "duration": 0.019587,
     "end_time": "2025-07-23T14:37:03.323082",
     "exception": false,
     "start_time": "2025-07-23T14:37:03.303495",
     "status": "completed"
    },
    "tags": []
   },
   "outputs": [],
   "source": [
    "from fairness_multiverse.universe import predict_w_threshold"
   ]
  },
  {
   "cell_type": "code",
   "execution_count": 29,
   "id": "a7cf2e16",
   "metadata": {
    "execution": {
     "iopub.execute_input": "2025-07-23T14:37:03.346836Z",
     "iopub.status.busy": "2025-07-23T14:37:03.346262Z",
     "iopub.status.idle": "2025-07-23T14:37:04.793501Z",
     "shell.execute_reply": "2025-07-23T14:37:04.792616Z"
    },
    "papermill": {
     "duration": 1.460676,
     "end_time": "2025-07-23T14:37:04.794825",
     "exception": false,
     "start_time": "2025-07-23T14:37:03.334149",
     "status": "completed"
    },
    "tags": []
   },
   "outputs": [
    {
     "data": {
      "text/plain": [
       "0.8660350016720544"
      ]
     },
     "execution_count": 29,
     "metadata": {},
     "output_type": "execute_result"
    }
   ],
   "source": [
    "probs_test = model.predict_proba(X_test)\n",
    "\n",
    "'''\n",
    "Below code returns a boolean array (or binary 0/1 array depending on how it’s used) where each element \n",
    "is True if the probability of class 1 is greater than or equal to the threshold, and False otherwise.\n",
    "'''\n",
    "y_pred_default = predict_w_threshold(probs_test, 0.5)\n",
    "\n",
    "from sklearn.metrics import accuracy_score\n",
    "\n",
    "# Naive prediction\n",
    "accuracy_score(y_true = y_true, y_pred = y_pred_default)"
   ]
  },
  {
   "cell_type": "code",
   "execution_count": 30,
   "id": "081964c3",
   "metadata": {
    "execution": {
     "iopub.execute_input": "2025-07-23T14:37:04.830612Z",
     "iopub.status.busy": "2025-07-23T14:37:04.829917Z",
     "iopub.status.idle": "2025-07-23T14:37:06.120693Z",
     "shell.execute_reply": "2025-07-23T14:37:06.119778Z"
    },
    "papermill": {
     "duration": 1.309318,
     "end_time": "2025-07-23T14:37:06.122054",
     "exception": false,
     "start_time": "2025-07-23T14:37:04.812736",
     "status": "completed"
    },
    "tags": []
   },
   "outputs": [
    {
     "data": {
      "text/plain": [
       "array([0, 0, 0, ..., 0, 0, 0])"
      ]
     },
     "execution_count": 30,
     "metadata": {},
     "output_type": "execute_result"
    }
   ],
   "source": [
    "model.predict(X_test)"
   ]
  },
  {
   "cell_type": "markdown",
   "id": "56c9705b",
   "metadata": {
    "papermill": {
     "duration": 0.010604,
     "end_time": "2025-07-23T14:37:06.143710",
     "exception": false,
     "start_time": "2025-07-23T14:37:06.133106",
     "status": "completed"
    },
    "tags": []
   },
   "source": [
    "# Conformal Prediction"
   ]
  },
  {
   "cell_type": "code",
   "execution_count": 31,
   "id": "160ec6ff",
   "metadata": {
    "execution": {
     "iopub.execute_input": "2025-07-23T14:37:06.175577Z",
     "iopub.status.busy": "2025-07-23T14:37:06.174942Z",
     "iopub.status.idle": "2025-07-23T14:37:06.180784Z",
     "shell.execute_reply": "2025-07-23T14:37:06.179958Z"
    },
    "papermill": {
     "duration": 0.028033,
     "end_time": "2025-07-23T14:37:06.182458",
     "exception": false,
     "start_time": "2025-07-23T14:37:06.154425",
     "status": "completed"
    },
    "tags": []
   },
   "outputs": [],
   "source": [
    "# Miscoverage level for conformal prediction (10% allowed error rate => 90% target coverage)\n",
    "alpha = 0.1"
   ]
  },
  {
   "cell_type": "code",
   "execution_count": 32,
   "id": "eadf4555-3dd3-440e-8e35-f82a4ad9f855",
   "metadata": {
    "execution": {
     "iopub.execute_input": "2025-07-23T14:37:06.208172Z",
     "iopub.status.busy": "2025-07-23T14:37:06.207599Z",
     "iopub.status.idle": "2025-07-23T14:37:07.366078Z",
     "shell.execute_reply": "2025-07-23T14:37:07.365032Z"
    },
    "papermill": {
     "duration": 1.174377,
     "end_time": "2025-07-23T14:37:07.368138",
     "exception": false,
     "start_time": "2025-07-23T14:37:06.193761",
     "status": "completed"
    },
    "tags": []
   },
   "outputs": [],
   "source": [
    "probs_calib = model.predict_proba(X_calib)"
   ]
  },
  {
   "cell_type": "code",
   "execution_count": 33,
   "id": "2ed93547-6d5d-4983-9b36-1ecb300da49a",
   "metadata": {
    "execution": {
     "iopub.execute_input": "2025-07-23T14:37:07.393289Z",
     "iopub.status.busy": "2025-07-23T14:37:07.392951Z",
     "iopub.status.idle": "2025-07-23T14:37:07.397593Z",
     "shell.execute_reply": "2025-07-23T14:37:07.396856Z"
    },
    "papermill": {
     "duration": 0.017596,
     "end_time": "2025-07-23T14:37:07.398940",
     "exception": false,
     "start_time": "2025-07-23T14:37:07.381344",
     "status": "completed"
    },
    "tags": []
   },
   "outputs": [],
   "source": [
    "y_calib = y_calib.values.ravel().astype(int)"
   ]
  },
  {
   "cell_type": "code",
   "execution_count": 34,
   "id": "65d1320d-f588-4b38-9072-62af1ae97f7d",
   "metadata": {
    "execution": {
     "iopub.execute_input": "2025-07-23T14:37:07.424003Z",
     "iopub.status.busy": "2025-07-23T14:37:07.423502Z",
     "iopub.status.idle": "2025-07-23T14:37:07.429882Z",
     "shell.execute_reply": "2025-07-23T14:37:07.429086Z"
    },
    "papermill": {
     "duration": 0.021307,
     "end_time": "2025-07-23T14:37:07.431269",
     "exception": false,
     "start_time": "2025-07-23T14:37:07.409962",
     "status": "completed"
    },
    "tags": []
   },
   "outputs": [],
   "source": [
    "from fairness_multiverse.conformal import compute_nc_scores\n",
    "\n",
    "# Compute nonconformity scores on calibration set (1 - probability of true class)\n",
    "nc_scores = compute_nc_scores(probs_calib, y_calib)"
   ]
  },
  {
   "cell_type": "code",
   "execution_count": 35,
   "id": "df3b8ca3-53b7-43d5-9667-7c85da7aeda2",
   "metadata": {
    "execution": {
     "iopub.execute_input": "2025-07-23T14:37:07.455907Z",
     "iopub.status.busy": "2025-07-23T14:37:07.455409Z",
     "iopub.status.idle": "2025-07-23T14:37:07.463243Z",
     "shell.execute_reply": "2025-07-23T14:37:07.462350Z"
    },
    "papermill": {
     "duration": 0.021571,
     "end_time": "2025-07-23T14:37:07.464691",
     "exception": false,
     "start_time": "2025-07-23T14:37:07.443120",
     "status": "completed"
    },
    "tags": []
   },
   "outputs": [],
   "source": [
    "from fairness_multiverse.conformal import find_threshold\n",
    "\n",
    "# Find conformal threshold q_hat for the given alpha (split conformal method)\n",
    "q_hat = find_threshold(nc_scores, alpha)"
   ]
  },
  {
   "cell_type": "code",
   "execution_count": 36,
   "id": "4d29e6c1-0ef6-4aa4-b8fe-4fe79b0d033a",
   "metadata": {
    "execution": {
     "iopub.execute_input": "2025-07-23T14:37:07.504781Z",
     "iopub.status.busy": "2025-07-23T14:37:07.504260Z",
     "iopub.status.idle": "2025-07-23T14:37:07.511869Z",
     "shell.execute_reply": "2025-07-23T14:37:07.510778Z"
    },
    "papermill": {
     "duration": 0.031488,
     "end_time": "2025-07-23T14:37:07.513612",
     "exception": false,
     "start_time": "2025-07-23T14:37:07.482124",
     "status": "completed"
    },
    "tags": []
   },
   "outputs": [
    {
     "data": {
      "text/plain": [
       "0.65"
      ]
     },
     "execution_count": 36,
     "metadata": {},
     "output_type": "execute_result"
    }
   ],
   "source": [
    "q_hat"
   ]
  },
  {
   "cell_type": "code",
   "execution_count": 37,
   "id": "92460794-cdac-4be2-ba28-f28c0515a6fb",
   "metadata": {
    "execution": {
     "iopub.execute_input": "2025-07-23T14:37:07.560908Z",
     "iopub.status.busy": "2025-07-23T14:37:07.560394Z",
     "iopub.status.idle": "2025-07-23T14:37:10.072527Z",
     "shell.execute_reply": "2025-07-23T14:37:10.071019Z"
    },
    "papermill": {
     "duration": 2.53794,
     "end_time": "2025-07-23T14:37:10.074713",
     "exception": false,
     "start_time": "2025-07-23T14:37:07.536773",
     "status": "completed"
    },
    "tags": []
   },
   "outputs": [],
   "source": [
    "from fairness_multiverse.conformal import predict_conformal_sets\n",
    "\n",
    "# Generate prediction sets for each test example\n",
    "pred_sets = predict_conformal_sets(model, X_test, q_hat)"
   ]
  },
  {
   "cell_type": "code",
   "execution_count": 38,
   "id": "d90c9a65-e6db-4f5d-80cd-e68fb7e46829",
   "metadata": {
    "execution": {
     "iopub.execute_input": "2025-07-23T14:37:10.154404Z",
     "iopub.status.busy": "2025-07-23T14:37:10.153736Z",
     "iopub.status.idle": "2025-07-23T14:37:10.161102Z",
     "shell.execute_reply": "2025-07-23T14:37:10.159939Z"
    },
    "papermill": {
     "duration": 0.052422,
     "end_time": "2025-07-23T14:37:10.164417",
     "exception": false,
     "start_time": "2025-07-23T14:37:10.111995",
     "status": "completed"
    },
    "tags": []
   },
   "outputs": [],
   "source": [
    "y_true = y_true.squeeze()"
   ]
  },
  {
   "cell_type": "code",
   "execution_count": 39,
   "id": "3a58a54a-1e68-46b9-927a-df01f18aebc8",
   "metadata": {
    "execution": {
     "iopub.execute_input": "2025-07-23T14:37:10.302928Z",
     "iopub.status.busy": "2025-07-23T14:37:10.302511Z",
     "iopub.status.idle": "2025-07-23T14:37:11.933755Z",
     "shell.execute_reply": "2025-07-23T14:37:11.932612Z"
    },
    "papermill": {
     "duration": 1.693598,
     "end_time": "2025-07-23T14:37:11.935833",
     "exception": false,
     "start_time": "2025-07-23T14:37:10.242235",
     "status": "completed"
    },
    "tags": []
   },
   "outputs": [],
   "source": [
    "from fairness_multiverse.conformal import evaluate_sets\n",
    "\n",
    "# Evaluate coverage and average set size on test data\n",
    "metrics = evaluate_sets(pred_sets, y_true)"
   ]
  },
  {
   "cell_type": "code",
   "execution_count": 40,
   "id": "5ce0a5cb-201f-45a0-ade5-94c7f0bd6095",
   "metadata": {
    "execution": {
     "iopub.execute_input": "2025-07-23T14:37:12.048748Z",
     "iopub.status.busy": "2025-07-23T14:37:12.048250Z",
     "iopub.status.idle": "2025-07-23T14:37:12.056217Z",
     "shell.execute_reply": "2025-07-23T14:37:12.055172Z"
    },
    "papermill": {
     "duration": 0.061614,
     "end_time": "2025-07-23T14:37:12.058134",
     "exception": false,
     "start_time": "2025-07-23T14:37:11.996520",
     "status": "completed"
    },
    "tags": []
   },
   "outputs": [
    {
     "data": {
      "text/plain": [
       "{'coverage': 0.9156615761899454, 'avg_size': 1.144064206888864}"
      ]
     },
     "execution_count": 40,
     "metadata": {},
     "output_type": "execute_result"
    }
   ],
   "source": [
    "metrics"
   ]
  },
  {
   "cell_type": "code",
   "execution_count": 41,
   "id": "9b9a838d-31c9-430b-ae14-12baee460d17",
   "metadata": {
    "execution": {
     "iopub.execute_input": "2025-07-23T14:37:12.158880Z",
     "iopub.status.busy": "2025-07-23T14:37:12.158455Z",
     "iopub.status.idle": "2025-07-23T14:37:12.165502Z",
     "shell.execute_reply": "2025-07-23T14:37:12.164483Z"
    },
    "papermill": {
     "duration": 0.073766,
     "end_time": "2025-07-23T14:37:12.171923",
     "exception": false,
     "start_time": "2025-07-23T14:37:12.098157",
     "status": "completed"
    },
    "tags": []
   },
   "outputs": [],
   "source": [
    "example_universe = universe.copy()\n",
    "universe_model = example_universe.get(\"model\")\n",
    "universe_exclude_features = example_universe.get(\"exclude_features\")\n",
    "universe_exclude_subgroups = example_universe.get(\"exclude_subgroups\")\n",
    "universe_scale = example_universe.get(\"scale\")"
   ]
  },
  {
   "cell_type": "code",
   "execution_count": 42,
   "id": "f4b6a8ac-9dc0-4245-8a91-5b3b5999c4f9",
   "metadata": {
    "execution": {
     "iopub.execute_input": "2025-07-23T14:37:12.338796Z",
     "iopub.status.busy": "2025-07-23T14:37:12.338383Z",
     "iopub.status.idle": "2025-07-23T14:37:12.347247Z",
     "shell.execute_reply": "2025-07-23T14:37:12.346070Z"
    },
    "papermill": {
     "duration": 0.104964,
     "end_time": "2025-07-23T14:37:12.349363",
     "exception": false,
     "start_time": "2025-07-23T14:37:12.244399",
     "status": "completed"
    },
    "tags": []
   },
   "outputs": [],
   "source": [
    "cp_metrics_dict = {\n",
    "    \"universe_id\": [universe_id],\n",
    "    \"universe_model\": [universe_model],\n",
    "    \"universe_exclude_features\": [universe_exclude_features],\n",
    "    \"universe_exclude_subgroups\": [universe_exclude_subgroups],\n",
    "    \"universe_scale\": [universe_scale],\n",
    "    \"q_hat\": [q_hat],\n",
    "    \"coverage\": [metrics[\"coverage\"]],\n",
    "    \"avg_size\": [metrics[\"avg_size\"]],\n",
    "}"
   ]
  },
  {
   "cell_type": "code",
   "execution_count": 43,
   "id": "908acbb1-0371-4915-85ca-3fa520d2efe2",
   "metadata": {
    "execution": {
     "iopub.execute_input": "2025-07-23T14:37:12.483144Z",
     "iopub.status.busy": "2025-07-23T14:37:12.482723Z",
     "iopub.status.idle": "2025-07-23T14:37:12.491704Z",
     "shell.execute_reply": "2025-07-23T14:37:12.490562Z"
    },
    "papermill": {
     "duration": 0.080678,
     "end_time": "2025-07-23T14:37:12.493473",
     "exception": false,
     "start_time": "2025-07-23T14:37:12.412795",
     "status": "completed"
    },
    "tags": []
   },
   "outputs": [
    {
     "data": {
      "text/plain": [
       "{'universe_id': ['45b2cbdeb01e8f9f56f9f09e135911d5'],\n",
       " 'universe_model': ['rf'],\n",
       " 'universe_exclude_features': ['sex'],\n",
       " 'universe_exclude_subgroups': ['drop-non-german'],\n",
       " 'universe_scale': ['do-not-scale'],\n",
       " 'q_hat': [0.65],\n",
       " 'coverage': [0.9156615761899454],\n",
       " 'avg_size': [1.144064206888864]}"
      ]
     },
     "execution_count": 43,
     "metadata": {},
     "output_type": "execute_result"
    }
   ],
   "source": [
    "cp_metrics_dict"
   ]
  },
  {
   "cell_type": "code",
   "execution_count": 44,
   "id": "33007efc-14e9-4ec6-97ac-56a455c82265",
   "metadata": {
    "execution": {
     "iopub.execute_input": "2025-07-23T14:37:12.638023Z",
     "iopub.status.busy": "2025-07-23T14:37:12.637323Z",
     "iopub.status.idle": "2025-07-23T14:37:12.645598Z",
     "shell.execute_reply": "2025-07-23T14:37:12.644224Z"
    },
    "papermill": {
     "duration": 0.056771,
     "end_time": "2025-07-23T14:37:12.649460",
     "exception": false,
     "start_time": "2025-07-23T14:37:12.592689",
     "status": "completed"
    },
    "tags": []
   },
   "outputs": [],
   "source": [
    "cp_metrics_df = pd.DataFrame(cp_metrics_dict)"
   ]
  },
  {
   "cell_type": "code",
   "execution_count": 45,
   "id": "db12611b-57b2-4910-b9d0-355adfd6e7bf",
   "metadata": {
    "execution": {
     "iopub.execute_input": "2025-07-23T14:37:12.715575Z",
     "iopub.status.busy": "2025-07-23T14:37:12.715101Z",
     "iopub.status.idle": "2025-07-23T14:37:12.755014Z",
     "shell.execute_reply": "2025-07-23T14:37:12.753905Z"
    },
    "papermill": {
     "duration": 0.083785,
     "end_time": "2025-07-23T14:37:12.757199",
     "exception": false,
     "start_time": "2025-07-23T14:37:12.673414",
     "status": "completed"
    },
    "tags": []
   },
   "outputs": [
    {
     "data": {
      "text/html": [
       "<div>\n",
       "<style scoped>\n",
       "    .dataframe tbody tr th:only-of-type {\n",
       "        vertical-align: middle;\n",
       "    }\n",
       "\n",
       "    .dataframe tbody tr th {\n",
       "        vertical-align: top;\n",
       "    }\n",
       "\n",
       "    .dataframe thead th {\n",
       "        text-align: right;\n",
       "    }\n",
       "</style>\n",
       "<table border=\"1\" class=\"dataframe\">\n",
       "  <thead>\n",
       "    <tr style=\"text-align: right;\">\n",
       "      <th></th>\n",
       "      <th>universe_id</th>\n",
       "      <th>universe_model</th>\n",
       "      <th>universe_exclude_features</th>\n",
       "      <th>universe_exclude_subgroups</th>\n",
       "      <th>universe_scale</th>\n",
       "      <th>q_hat</th>\n",
       "      <th>coverage</th>\n",
       "      <th>avg_size</th>\n",
       "    </tr>\n",
       "  </thead>\n",
       "  <tbody>\n",
       "    <tr>\n",
       "      <th>0</th>\n",
       "      <td>45b2cbdeb01e8f9f56f9f09e135911d5</td>\n",
       "      <td>rf</td>\n",
       "      <td>sex</td>\n",
       "      <td>drop-non-german</td>\n",
       "      <td>do-not-scale</td>\n",
       "      <td>0.65</td>\n",
       "      <td>0.915662</td>\n",
       "      <td>1.144064</td>\n",
       "    </tr>\n",
       "  </tbody>\n",
       "</table>\n",
       "</div>"
      ],
      "text/plain": [
       "                        universe_id universe_model universe_exclude_features  \\\n",
       "0  45b2cbdeb01e8f9f56f9f09e135911d5             rf                       sex   \n",
       "\n",
       "  universe_exclude_subgroups universe_scale  q_hat  coverage  avg_size  \n",
       "0            drop-non-german   do-not-scale   0.65  0.915662  1.144064  "
      ]
     },
     "execution_count": 45,
     "metadata": {},
     "output_type": "execute_result"
    }
   ],
   "source": [
    "cp_metrics_df"
   ]
  },
  {
   "cell_type": "code",
   "execution_count": 46,
   "id": "b7fbde55-a0a1-47e4-9af6-fe4a17fa8c61",
   "metadata": {
    "execution": {
     "iopub.execute_input": "2025-07-23T14:37:12.850319Z",
     "iopub.status.busy": "2025-07-23T14:37:12.849861Z",
     "iopub.status.idle": "2025-07-23T14:37:12.855852Z",
     "shell.execute_reply": "2025-07-23T14:37:12.854790Z"
    },
    "papermill": {
     "duration": 0.051029,
     "end_time": "2025-07-23T14:37:12.859888",
     "exception": false,
     "start_time": "2025-07-23T14:37:12.808859",
     "status": "completed"
    },
    "tags": []
   },
   "outputs": [],
   "source": [
    "# Conditional Coverage & looking at subgroups"
   ]
  },
  {
   "cell_type": "code",
   "execution_count": 47,
   "id": "027ae886-68dd-4141-96c7-805a5450e1ef",
   "metadata": {
    "execution": {
     "iopub.execute_input": "2025-07-23T14:37:12.911171Z",
     "iopub.status.busy": "2025-07-23T14:37:12.910730Z",
     "iopub.status.idle": "2025-07-23T14:37:13.340183Z",
     "shell.execute_reply": "2025-07-23T14:37:13.338881Z"
    },
    "papermill": {
     "duration": 0.457683,
     "end_time": "2025-07-23T14:37:13.342590",
     "exception": false,
     "start_time": "2025-07-23T14:37:12.884907",
     "status": "completed"
    },
    "tags": []
   },
   "outputs": [],
   "source": [
    "from fairness_multiverse.conformal import build_cp_groups\n",
    "\n",
    "cp_groups_df = build_cp_groups(pred_sets, y_true, X_test.index, org_test)\n",
    "#needs universe_id and setting"
   ]
  },
  {
   "cell_type": "code",
   "execution_count": 48,
   "id": "c3b92545-903e-4839-89af-0f057907d7d6",
   "metadata": {
    "execution": {
     "iopub.execute_input": "2025-07-23T14:37:13.435409Z",
     "iopub.status.busy": "2025-07-23T14:37:13.434912Z",
     "iopub.status.idle": "2025-07-23T14:37:16.701109Z",
     "shell.execute_reply": "2025-07-23T14:37:16.699909Z"
    },
    "papermill": {
     "duration": 3.310265,
     "end_time": "2025-07-23T14:37:16.703507",
     "exception": false,
     "start_time": "2025-07-23T14:37:13.393242",
     "status": "completed"
    },
    "tags": []
   },
   "outputs": [],
   "source": [
    "# Define covered = 1 if true_label is in the predicted set\n",
    "cp_groups_df['covered'] = cp_groups_df.apply(\n",
    "    lambda r: int(r['true_label'] in r['pred_set']),\n",
    "    axis=1\n",
    ")"
   ]
  },
  {
   "cell_type": "code",
   "execution_count": 49,
   "id": "338ff529-1a6b-4b87-a931-8e4788d52aad",
   "metadata": {
    "execution": {
     "iopub.execute_input": "2025-07-23T14:37:16.814950Z",
     "iopub.status.busy": "2025-07-23T14:37:16.814485Z",
     "iopub.status.idle": "2025-07-23T14:37:16.821014Z",
     "shell.execute_reply": "2025-07-23T14:37:16.819881Z"
    },
    "papermill": {
     "duration": 0.062478,
     "end_time": "2025-07-23T14:37:16.823329",
     "exception": false,
     "start_time": "2025-07-23T14:37:16.760851",
     "status": "completed"
    },
    "tags": []
   },
   "outputs": [],
   "source": [
    "#cp_groups_df"
   ]
  },
  {
   "cell_type": "code",
   "execution_count": 50,
   "id": "90032e27-66df-4540-9169-4e89cfbaa758",
   "metadata": {
    "execution": {
     "iopub.execute_input": "2025-07-23T14:37:16.931619Z",
     "iopub.status.busy": "2025-07-23T14:37:16.931149Z",
     "iopub.status.idle": "2025-07-23T14:37:16.957821Z",
     "shell.execute_reply": "2025-07-23T14:37:16.956631Z"
    },
    "papermill": {
     "duration": 0.082864,
     "end_time": "2025-07-23T14:37:16.960102",
     "exception": false,
     "start_time": "2025-07-23T14:37:16.877238",
     "status": "completed"
    },
    "tags": []
   },
   "outputs": [],
   "source": [
    "subgroups = ['frau1','nongerman','nongerman_male','nongerman_female']\n",
    "\n",
    "# Conditional coverage for subgroup==1\n",
    "cond_coverage = {\n",
    "    g: cp_groups_df.loc[cp_groups_df[g]==1, 'covered'].mean()\n",
    "    for g in subgroups\n",
    "}"
   ]
  },
  {
   "cell_type": "code",
   "execution_count": 51,
   "id": "1e348fb1-b9c3-45bc-ba23-f016827a7e0d",
   "metadata": {
    "execution": {
     "iopub.execute_input": "2025-07-23T14:37:17.045274Z",
     "iopub.status.busy": "2025-07-23T14:37:17.044823Z",
     "iopub.status.idle": "2025-07-23T14:37:17.053893Z",
     "shell.execute_reply": "2025-07-23T14:37:17.052631Z"
    },
    "papermill": {
     "duration": 0.059903,
     "end_time": "2025-07-23T14:37:17.057085",
     "exception": false,
     "start_time": "2025-07-23T14:37:16.997182",
     "status": "completed"
    },
    "tags": []
   },
   "outputs": [
    {
     "data": {
      "text/plain": [
       "{'frau1': 0.9158107561665992,\n",
       " 'nongerman': 0.9122550945938359,\n",
       " 'nongerman_male': 0.924885166171305,\n",
       " 'nongerman_female': 0.8913561847988077}"
      ]
     },
     "execution_count": 51,
     "metadata": {},
     "output_type": "execute_result"
    }
   ],
   "source": [
    "cond_coverage"
   ]
  },
  {
   "cell_type": "code",
   "execution_count": 52,
   "id": "f5093324-c3dd-4d63-bc4c-8d945e5c8bbb",
   "metadata": {
    "execution": {
     "iopub.execute_input": "2025-07-23T14:37:17.167682Z",
     "iopub.status.busy": "2025-07-23T14:37:17.167211Z",
     "iopub.status.idle": "2025-07-23T14:37:17.177483Z",
     "shell.execute_reply": "2025-07-23T14:37:17.176372Z"
    },
    "papermill": {
     "duration": 0.066446,
     "end_time": "2025-07-23T14:37:17.179682",
     "exception": false,
     "start_time": "2025-07-23T14:37:17.113236",
     "status": "completed"
    },
    "tags": []
   },
   "outputs": [],
   "source": [
    "for subgroup, cov in cond_coverage.items():\n",
    "    cp_metrics_df[f\"cov_{subgroup}\"] = cov"
   ]
  },
  {
   "cell_type": "code",
   "execution_count": 53,
   "id": "6e872e10-dbe5-49e8-b554-5030c98ff75d",
   "metadata": {
    "execution": {
     "iopub.execute_input": "2025-07-23T14:37:17.286858Z",
     "iopub.status.busy": "2025-07-23T14:37:17.286310Z",
     "iopub.status.idle": "2025-07-23T14:37:17.310344Z",
     "shell.execute_reply": "2025-07-23T14:37:17.309172Z"
    },
    "papermill": {
     "duration": 0.079358,
     "end_time": "2025-07-23T14:37:17.312538",
     "exception": false,
     "start_time": "2025-07-23T14:37:17.233180",
     "status": "completed"
    },
    "tags": []
   },
   "outputs": [
    {
     "data": {
      "text/html": [
       "<div>\n",
       "<style scoped>\n",
       "    .dataframe tbody tr th:only-of-type {\n",
       "        vertical-align: middle;\n",
       "    }\n",
       "\n",
       "    .dataframe tbody tr th {\n",
       "        vertical-align: top;\n",
       "    }\n",
       "\n",
       "    .dataframe thead th {\n",
       "        text-align: right;\n",
       "    }\n",
       "</style>\n",
       "<table border=\"1\" class=\"dataframe\">\n",
       "  <thead>\n",
       "    <tr style=\"text-align: right;\">\n",
       "      <th></th>\n",
       "      <th>universe_id</th>\n",
       "      <th>universe_model</th>\n",
       "      <th>universe_exclude_features</th>\n",
       "      <th>universe_exclude_subgroups</th>\n",
       "      <th>universe_scale</th>\n",
       "      <th>q_hat</th>\n",
       "      <th>coverage</th>\n",
       "      <th>avg_size</th>\n",
       "      <th>cov_frau1</th>\n",
       "      <th>cov_nongerman</th>\n",
       "      <th>cov_nongerman_male</th>\n",
       "      <th>cov_nongerman_female</th>\n",
       "    </tr>\n",
       "  </thead>\n",
       "  <tbody>\n",
       "    <tr>\n",
       "      <th>0</th>\n",
       "      <td>45b2cbdeb01e8f9f56f9f09e135911d5</td>\n",
       "      <td>rf</td>\n",
       "      <td>sex</td>\n",
       "      <td>drop-non-german</td>\n",
       "      <td>do-not-scale</td>\n",
       "      <td>0.65</td>\n",
       "      <td>0.915662</td>\n",
       "      <td>1.144064</td>\n",
       "      <td>0.915811</td>\n",
       "      <td>0.912255</td>\n",
       "      <td>0.924885</td>\n",
       "      <td>0.891356</td>\n",
       "    </tr>\n",
       "  </tbody>\n",
       "</table>\n",
       "</div>"
      ],
      "text/plain": [
       "                        universe_id universe_model universe_exclude_features  \\\n",
       "0  45b2cbdeb01e8f9f56f9f09e135911d5             rf                       sex   \n",
       "\n",
       "  universe_exclude_subgroups universe_scale  q_hat  coverage  avg_size  \\\n",
       "0            drop-non-german   do-not-scale   0.65  0.915662  1.144064   \n",
       "\n",
       "   cov_frau1  cov_nongerman  cov_nongerman_male  cov_nongerman_female  \n",
       "0   0.915811       0.912255            0.924885              0.891356  "
      ]
     },
     "execution_count": 53,
     "metadata": {},
     "output_type": "execute_result"
    }
   ],
   "source": [
    "cp_metrics_df"
   ]
  },
  {
   "cell_type": "markdown",
   "id": "33774451",
   "metadata": {
    "papermill": {
     "duration": 0.052286,
     "end_time": "2025-07-23T14:37:17.421442",
     "exception": false,
     "start_time": "2025-07-23T14:37:17.369156",
     "status": "completed"
    },
    "tags": []
   },
   "source": [
    "# (Fairness) Metrics"
   ]
  },
  {
   "cell_type": "code",
   "execution_count": 54,
   "id": "debc5d62",
   "metadata": {
    "execution": {
     "iopub.execute_input": "2025-07-23T14:37:17.527236Z",
     "iopub.status.busy": "2025-07-23T14:37:17.526759Z",
     "iopub.status.idle": "2025-07-23T14:37:17.581772Z",
     "shell.execute_reply": "2025-07-23T14:37:17.580616Z"
    },
    "papermill": {
     "duration": 0.11077,
     "end_time": "2025-07-23T14:37:17.583966",
     "exception": false,
     "start_time": "2025-07-23T14:37:17.473196",
     "status": "completed"
    },
    "tags": []
   },
   "outputs": [],
   "source": [
    "# do I need to include maxdeutsch1.missing?\n",
    "\n",
    "import numpy as np\n",
    "\n",
    "colname_to_bin = \"maxdeutsch1\"\n",
    "majority_value = org_train[colname_to_bin].mode()[0]\n",
    "\n",
    "org_test[\"majmin\"] = np.where(org_test[colname_to_bin] == majority_value, \"majority\", \"minority\")"
   ]
  },
  {
   "cell_type": "code",
   "execution_count": 55,
   "id": "06a50de5",
   "metadata": {
    "execution": {
     "iopub.execute_input": "2025-07-23T14:37:17.681580Z",
     "iopub.status.busy": "2025-07-23T14:37:17.681122Z",
     "iopub.status.idle": "2025-07-23T14:37:21.328804Z",
     "shell.execute_reply": "2025-07-23T14:37:21.327396Z"
    },
    "papermill": {
     "duration": 3.715573,
     "end_time": "2025-07-23T14:37:21.330894",
     "exception": false,
     "start_time": "2025-07-23T14:37:17.615321",
     "status": "completed"
    },
    "tags": []
   },
   "outputs": [],
   "source": [
    "example_universe = universe.copy()\n",
    "example_universe[\"cutoff\"] = example_universe[\"cutoff\"][0]\n",
    "example_universe[\"eval_fairness_grouping\"] = example_universe[\"eval_fairness_grouping\"][0]\n",
    "fairness_dict, metric_frame = universe_analysis.compute_metrics(\n",
    "    example_universe,\n",
    "    y_pred_prob=probs_test,\n",
    "    y_test=y_true,\n",
    "    org_test=org_test,\n",
    ")"
   ]
  },
  {
   "cell_type": "markdown",
   "id": "f95d4e02",
   "metadata": {
    "papermill": {
     "duration": 0.112394,
     "end_time": "2025-07-23T14:37:21.485308",
     "exception": false,
     "start_time": "2025-07-23T14:37:21.372914",
     "status": "completed"
    },
    "tags": []
   },
   "source": [
    "# Overall"
   ]
  },
  {
   "cell_type": "markdown",
   "id": "bdee4871",
   "metadata": {
    "papermill": {
     "duration": 0.069228,
     "end_time": "2025-07-23T14:37:21.585299",
     "exception": false,
     "start_time": "2025-07-23T14:37:21.516071",
     "status": "completed"
    },
    "tags": []
   },
   "source": [
    "Fairness\n",
    "Main fairness target: Equalized Odds. Seems to be a better fit than equal opportunity, since we're not only interested in Y = 1. Seems to be a better fit than demographic parity, since we also care about accuracy, not just equal distribution of preds.\n",
    "\n",
    "Pick column for computation of fairness metrics\n",
    "\n",
    "Performance\n",
    "Overall performance measures, most interesting in relation to the measures split by group below"
   ]
  },
  {
   "cell_type": "code",
   "execution_count": 56,
   "id": "c4e067c6",
   "metadata": {
    "execution": {
     "iopub.execute_input": "2025-07-23T14:37:21.633941Z",
     "iopub.status.busy": "2025-07-23T14:37:21.633474Z",
     "iopub.status.idle": "2025-07-23T14:37:21.644152Z",
     "shell.execute_reply": "2025-07-23T14:37:21.643025Z"
    },
    "papermill": {
     "duration": 0.042359,
     "end_time": "2025-07-23T14:37:21.649334",
     "exception": false,
     "start_time": "2025-07-23T14:37:21.606975",
     "status": "completed"
    },
    "tags": []
   },
   "outputs": [
    {
     "data": {
      "text/plain": [
       "accuracy                   0.197113\n",
       "balanced accuracy          0.531033\n",
       "f1                         0.238511\n",
       "precision                  0.135774\n",
       "false positive rate        0.918122\n",
       "false negative rate        0.019812\n",
       "selection rate             0.926084\n",
       "count                  89710.000000\n",
       "dtype: float64"
      ]
     },
     "execution_count": 56,
     "metadata": {},
     "output_type": "execute_result"
    }
   ],
   "source": [
    "metric_frame.overall"
   ]
  },
  {
   "cell_type": "markdown",
   "id": "e968fe9d",
   "metadata": {
    "papermill": {
     "duration": 0.03086,
     "end_time": "2025-07-23T14:37:21.706246",
     "exception": false,
     "start_time": "2025-07-23T14:37:21.675386",
     "status": "completed"
    },
    "tags": []
   },
   "source": [
    "By Group"
   ]
  },
  {
   "cell_type": "code",
   "execution_count": 57,
   "id": "ec325bce",
   "metadata": {
    "execution": {
     "iopub.execute_input": "2025-07-23T14:37:21.759792Z",
     "iopub.status.busy": "2025-07-23T14:37:21.759346Z",
     "iopub.status.idle": "2025-07-23T14:37:21.782900Z",
     "shell.execute_reply": "2025-07-23T14:37:21.781870Z"
    },
    "papermill": {
     "duration": 0.052308,
     "end_time": "2025-07-23T14:37:21.784884",
     "exception": false,
     "start_time": "2025-07-23T14:37:21.732576",
     "status": "completed"
    },
    "tags": []
   },
   "outputs": [
    {
     "data": {
      "text/html": [
       "<div>\n",
       "<style scoped>\n",
       "    .dataframe tbody tr th:only-of-type {\n",
       "        vertical-align: middle;\n",
       "    }\n",
       "\n",
       "    .dataframe tbody tr th {\n",
       "        vertical-align: top;\n",
       "    }\n",
       "\n",
       "    .dataframe thead th {\n",
       "        text-align: right;\n",
       "    }\n",
       "</style>\n",
       "<table border=\"1\" class=\"dataframe\">\n",
       "  <thead>\n",
       "    <tr style=\"text-align: right;\">\n",
       "      <th></th>\n",
       "      <th>accuracy</th>\n",
       "      <th>balanced accuracy</th>\n",
       "      <th>f1</th>\n",
       "      <th>precision</th>\n",
       "      <th>false positive rate</th>\n",
       "      <th>false negative rate</th>\n",
       "      <th>selection rate</th>\n",
       "      <th>count</th>\n",
       "    </tr>\n",
       "    <tr>\n",
       "      <th>majmin</th>\n",
       "      <th></th>\n",
       "      <th></th>\n",
       "      <th></th>\n",
       "      <th></th>\n",
       "      <th></th>\n",
       "      <th></th>\n",
       "      <th></th>\n",
       "      <th></th>\n",
       "    </tr>\n",
       "  </thead>\n",
       "  <tbody>\n",
       "    <tr>\n",
       "      <th>majority</th>\n",
       "      <td>0.190545</td>\n",
       "      <td>0.530079</td>\n",
       "      <td>0.244563</td>\n",
       "      <td>0.139482</td>\n",
       "      <td>0.931418</td>\n",
       "      <td>0.008425</td>\n",
       "      <td>0.939367</td>\n",
       "      <td>69170.0</td>\n",
       "    </tr>\n",
       "    <tr>\n",
       "      <th>minority</th>\n",
       "      <td>0.219231</td>\n",
       "      <td>0.531016</td>\n",
       "      <td>0.216599</td>\n",
       "      <td>0.122466</td>\n",
       "      <td>0.874202</td>\n",
       "      <td>0.063767</td>\n",
       "      <td>0.881353</td>\n",
       "      <td>20540.0</td>\n",
       "    </tr>\n",
       "  </tbody>\n",
       "</table>\n",
       "</div>"
      ],
      "text/plain": [
       "          accuracy  balanced accuracy        f1  precision  \\\n",
       "majmin                                                       \n",
       "majority  0.190545           0.530079  0.244563   0.139482   \n",
       "minority  0.219231           0.531016  0.216599   0.122466   \n",
       "\n",
       "          false positive rate  false negative rate  selection rate    count  \n",
       "majmin                                                                       \n",
       "majority             0.931418             0.008425        0.939367  69170.0  \n",
       "minority             0.874202             0.063767        0.881353  20540.0  "
      ]
     },
     "execution_count": 57,
     "metadata": {},
     "output_type": "execute_result"
    }
   ],
   "source": [
    "metric_frame.by_group"
   ]
  },
  {
   "cell_type": "code",
   "execution_count": 58,
   "id": "a9ddbe63",
   "metadata": {
    "execution": {
     "iopub.execute_input": "2025-07-23T14:37:21.837484Z",
     "iopub.status.busy": "2025-07-23T14:37:21.837034Z",
     "iopub.status.idle": "2025-07-23T14:37:26.912141Z",
     "shell.execute_reply": "2025-07-23T14:37:26.911029Z"
    },
    "papermill": {
     "duration": 5.102867,
     "end_time": "2025-07-23T14:37:26.914086",
     "exception": false,
     "start_time": "2025-07-23T14:37:21.811219",
     "status": "completed"
    },
    "tags": []
   },
   "outputs": [
    {
     "data": {
      "text/plain": [
       "array([[<Axes: title={'center': 'accuracy'}, xlabel='majmin'>,\n",
       "        <Axes: title={'center': 'balanced accuracy'}, xlabel='majmin'>,\n",
       "        <Axes: title={'center': 'f1'}, xlabel='majmin'>],\n",
       "       [<Axes: title={'center': 'precision'}, xlabel='majmin'>,\n",
       "        <Axes: title={'center': 'false positive rate'}, xlabel='majmin'>,\n",
       "        <Axes: title={'center': 'false negative rate'}, xlabel='majmin'>],\n",
       "       [<Axes: title={'center': 'selection rate'}, xlabel='majmin'>,\n",
       "        <Axes: title={'center': 'count'}, xlabel='majmin'>,\n",
       "        <Axes: xlabel='majmin'>]], dtype=object)"
      ]
     },
     "execution_count": 58,
     "metadata": {},
     "output_type": "execute_result"
    },
    {
     "data": {
      "image/png": "[encoded data removed]",
      "text/plain": [
       "<Figure size 1200x800 with 9 Axes>"
      ]
     },
     "metadata": {},
     "output_type": "display_data"
    }
   ],
   "source": [
    "# In a graphic\n",
    "metric_frame.by_group.plot.bar(\n",
    "    subplots=True,\n",
    "    layout=[3, 3],\n",
    "    legend=False,\n",
    "    figsize=[12, 8],\n",
    "    title=\"Show all metrics\",\n",
    ")"
   ]
  },
  {
   "cell_type": "markdown",
   "id": "f57a0bac",
   "metadata": {
    "papermill": {
     "duration": 0.058177,
     "end_time": "2025-07-23T14:37:27.029664",
     "exception": false,
     "start_time": "2025-07-23T14:37:26.971487",
     "status": "completed"
    },
    "tags": []
   },
   "source": [
    "# Final Output"
   ]
  },
  {
   "cell_type": "code",
   "execution_count": 59,
   "id": "96d280a3",
   "metadata": {
    "execution": {
     "iopub.execute_input": "2025-07-23T14:37:27.137168Z",
     "iopub.status.busy": "2025-07-23T14:37:27.136495Z",
     "iopub.status.idle": "2025-07-23T14:37:27.145931Z",
     "shell.execute_reply": "2025-07-23T14:37:27.144837Z"
    },
    "papermill": {
     "duration": 0.061856,
     "end_time": "2025-07-23T14:37:27.147937",
     "exception": false,
     "start_time": "2025-07-23T14:37:27.086081",
     "status": "completed"
    },
    "tags": []
   },
   "outputs": [
    {
     "data": {
      "text/plain": [
       "4"
      ]
     },
     "execution_count": 59,
     "metadata": {},
     "output_type": "execute_result"
    }
   ],
   "source": [
    "sub_universes = universe_analysis.generate_sub_universes()\n",
    "len(sub_universes)"
   ]
  },
  {
   "cell_type": "code",
   "execution_count": 60,
   "id": "92adf7ba",
   "metadata": {
    "execution": {
     "iopub.execute_input": "2025-07-23T14:37:27.242192Z",
     "iopub.status.busy": "2025-07-23T14:37:27.241715Z",
     "iopub.status.idle": "2025-07-23T14:37:27.248908Z",
     "shell.execute_reply": "2025-07-23T14:37:27.247594Z"
    },
    "papermill": {
     "duration": 0.046489,
     "end_time": "2025-07-23T14:37:27.251855",
     "exception": false,
     "start_time": "2025-07-23T14:37:27.205366",
     "status": "completed"
    },
    "tags": []
   },
   "outputs": [],
   "source": [
    "def filter_sub_universe_data(sub_universe, org_test):\n",
    "    # Keep all rows — no filtering\n",
    "    keep_rows_mask = np.ones(org_test.shape[0], dtype=bool)\n",
    "\n",
    "    print(f\"[INFO] Keeping all rows: {keep_rows_mask.sum()} rows retained.\")\n",
    "    return keep_rows_mask"
   ]
  },
  {
   "cell_type": "code",
   "execution_count": 61,
   "id": "4a759155",
   "metadata": {
    "execution": {
     "iopub.execute_input": "2025-07-23T14:37:27.322759Z",
     "iopub.status.busy": "2025-07-23T14:37:27.322305Z",
     "iopub.status.idle": "2025-07-23T14:37:44.741068Z",
     "shell.execute_reply": "2025-07-23T14:37:44.739715Z"
    },
    "papermill": {
     "duration": 17.464218,
     "end_time": "2025-07-23T14:37:44.743258",
     "exception": false,
     "start_time": "2025-07-23T14:37:27.279040",
     "status": "completed"
    },
    "tags": []
   },
   "outputs": [
    {
     "name": "stdout",
     "output_type": "stream",
     "text": [
      "Stopping execution_time clock.\n",
      "[INFO] Keeping all rows: 89710 rows retained.\n"
     ]
    },
    {
     "name": "stdout",
     "output_type": "stream",
     "text": [
      "[INFO] Keeping all rows: 89710 rows retained.\n"
     ]
    },
    {
     "name": "stdout",
     "output_type": "stream",
     "text": [
      "[INFO] Keeping all rows: 89710 rows retained.\n"
     ]
    },
    {
     "name": "stdout",
     "output_type": "stream",
     "text": [
      "[INFO] Keeping all rows: 89710 rows retained.\n"
     ]
    },
    {
     "data": {
      "text/html": [
       "<div>\n",
       "<style scoped>\n",
       "    .dataframe tbody tr th:only-of-type {\n",
       "        vertical-align: middle;\n",
       "    }\n",
       "\n",
       "    .dataframe tbody tr th {\n",
       "        vertical-align: top;\n",
       "    }\n",
       "\n",
       "    .dataframe thead th {\n",
       "        text-align: right;\n",
       "    }\n",
       "</style>\n",
       "<table border=\"1\" class=\"dataframe\">\n",
       "  <thead>\n",
       "    <tr style=\"text-align: right;\">\n",
       "      <th></th>\n",
       "      <th>run_no</th>\n",
       "      <th>universe_id</th>\n",
       "      <th>universe_settings</th>\n",
       "      <th>execution_time</th>\n",
       "      <th>test_size_n</th>\n",
       "      <th>test_size_frac</th>\n",
       "      <th>fair_main_equalized_odds_difference</th>\n",
       "      <th>fair_main_equalized_odds_ratio</th>\n",
       "      <th>fair_main_demographic_parity_difference</th>\n",
       "      <th>fair_main_demographic_parity_ratio</th>\n",
       "      <th>...</th>\n",
       "      <th>perf_grp_precision_0</th>\n",
       "      <th>perf_grp_precision_1</th>\n",
       "      <th>perf_grp_false positive rate_0</th>\n",
       "      <th>perf_grp_false positive rate_1</th>\n",
       "      <th>perf_grp_false negative rate_0</th>\n",
       "      <th>perf_grp_false negative rate_1</th>\n",
       "      <th>perf_grp_selection rate_0</th>\n",
       "      <th>perf_grp_selection rate_1</th>\n",
       "      <th>perf_grp_count_0</th>\n",
       "      <th>perf_grp_count_1</th>\n",
       "    </tr>\n",
       "  </thead>\n",
       "  <tbody>\n",
       "    <tr>\n",
       "      <th>0</th>\n",
       "      <td>9</td>\n",
       "      <td>45b2cbdeb01e8f9f56f9f09e135911d5</td>\n",
       "      <td>{\"cutoff\": \"quantile_0.1\", \"eval_fairness_grou...</td>\n",
       "      <td>55.959069</td>\n",
       "      <td>89710</td>\n",
       "      <td>1.0</td>\n",
       "      <td>0.057216</td>\n",
       "      <td>0.938572</td>\n",
       "      <td>0.058013</td>\n",
       "      <td>0.938242</td>\n",
       "      <td>...</td>\n",
       "      <td>NaN</td>\n",
       "      <td>NaN</td>\n",
       "      <td>NaN</td>\n",
       "      <td>NaN</td>\n",
       "      <td>NaN</td>\n",
       "      <td>NaN</td>\n",
       "      <td>NaN</td>\n",
       "      <td>NaN</td>\n",
       "      <td>NaN</td>\n",
       "      <td>NaN</td>\n",
       "    </tr>\n",
       "    <tr>\n",
       "      <th>0</th>\n",
       "      <td>9</td>\n",
       "      <td>45b2cbdeb01e8f9f56f9f09e135911d5</td>\n",
       "      <td>{\"cutoff\": \"quantile_0.1\", \"eval_fairness_grou...</td>\n",
       "      <td>55.959069</td>\n",
       "      <td>89710</td>\n",
       "      <td>1.0</td>\n",
       "      <td>0.057216</td>\n",
       "      <td>0.938572</td>\n",
       "      <td>0.058013</td>\n",
       "      <td>0.938242</td>\n",
       "      <td>...</td>\n",
       "      <td>0.122466</td>\n",
       "      <td>0.139482</td>\n",
       "      <td>0.874202</td>\n",
       "      <td>0.931418</td>\n",
       "      <td>0.063767</td>\n",
       "      <td>0.008425</td>\n",
       "      <td>0.881353</td>\n",
       "      <td>0.939367</td>\n",
       "      <td>20540.0</td>\n",
       "      <td>69170.0</td>\n",
       "    </tr>\n",
       "    <tr>\n",
       "      <th>0</th>\n",
       "      <td>9</td>\n",
       "      <td>45b2cbdeb01e8f9f56f9f09e135911d5</td>\n",
       "      <td>{\"cutoff\": \"quantile_0.25\", \"eval_fairness_gro...</td>\n",
       "      <td>55.959069</td>\n",
       "      <td>89710</td>\n",
       "      <td>1.0</td>\n",
       "      <td>0.093715</td>\n",
       "      <td>0.902365</td>\n",
       "      <td>0.068145</td>\n",
       "      <td>0.914206</td>\n",
       "      <td>...</td>\n",
       "      <td>NaN</td>\n",
       "      <td>NaN</td>\n",
       "      <td>NaN</td>\n",
       "      <td>NaN</td>\n",
       "      <td>NaN</td>\n",
       "      <td>NaN</td>\n",
       "      <td>NaN</td>\n",
       "      <td>NaN</td>\n",
       "      <td>NaN</td>\n",
       "      <td>NaN</td>\n",
       "    </tr>\n",
       "    <tr>\n",
       "      <th>0</th>\n",
       "      <td>9</td>\n",
       "      <td>45b2cbdeb01e8f9f56f9f09e135911d5</td>\n",
       "      <td>{\"cutoff\": \"quantile_0.25\", \"eval_fairness_gro...</td>\n",
       "      <td>55.959069</td>\n",
       "      <td>89710</td>\n",
       "      <td>1.0</td>\n",
       "      <td>0.093715</td>\n",
       "      <td>0.902365</td>\n",
       "      <td>0.068145</td>\n",
       "      <td>0.914206</td>\n",
       "      <td>...</td>\n",
       "      <td>0.137513</td>\n",
       "      <td>0.159680</td>\n",
       "      <td>0.707902</td>\n",
       "      <td>0.769082</td>\n",
       "      <td>0.133868</td>\n",
       "      <td>0.040153</td>\n",
       "      <td>0.726144</td>\n",
       "      <td>0.794289</td>\n",
       "      <td>20540.0</td>\n",
       "      <td>69170.0</td>\n",
       "    </tr>\n",
       "  </tbody>\n",
       "</table>\n",
       "<p>4 rows × 50 columns</p>\n",
       "</div>"
      ],
      "text/plain": [
       "  run_no                       universe_id  \\\n",
       "0      9  45b2cbdeb01e8f9f56f9f09e135911d5   \n",
       "0      9  45b2cbdeb01e8f9f56f9f09e135911d5   \n",
       "0      9  45b2cbdeb01e8f9f56f9f09e135911d5   \n",
       "0      9  45b2cbdeb01e8f9f56f9f09e135911d5   \n",
       "\n",
       "                                   universe_settings  execution_time  \\\n",
       "0  {\"cutoff\": \"quantile_0.1\", \"eval_fairness_grou...       55.959069   \n",
       "0  {\"cutoff\": \"quantile_0.1\", \"eval_fairness_grou...       55.959069   \n",
       "0  {\"cutoff\": \"quantile_0.25\", \"eval_fairness_gro...       55.959069   \n",
       "0  {\"cutoff\": \"quantile_0.25\", \"eval_fairness_gro...       55.959069   \n",
       "\n",
       "   test_size_n  test_size_frac  fair_main_equalized_odds_difference  \\\n",
       "0        89710             1.0                             0.057216   \n",
       "0        89710             1.0                             0.057216   \n",
       "0        89710             1.0                             0.093715   \n",
       "0        89710             1.0                             0.093715   \n",
       "\n",
       "   fair_main_equalized_odds_ratio  fair_main_demographic_parity_difference  \\\n",
       "0                        0.938572                                 0.058013   \n",
       "0                        0.938572                                 0.058013   \n",
       "0                        0.902365                                 0.068145   \n",
       "0                        0.902365                                 0.068145   \n",
       "\n",
       "   fair_main_demographic_parity_ratio  ...  perf_grp_precision_0  \\\n",
       "0                            0.938242  ...                   NaN   \n",
       "0                            0.938242  ...              0.122466   \n",
       "0                            0.914206  ...                   NaN   \n",
       "0                            0.914206  ...              0.137513   \n",
       "\n",
       "   perf_grp_precision_1  perf_grp_false positive rate_0  \\\n",
       "0                   NaN                             NaN   \n",
       "0              0.139482                        0.874202   \n",
       "0                   NaN                             NaN   \n",
       "0              0.159680                        0.707902   \n",
       "\n",
       "   perf_grp_false positive rate_1  perf_grp_false negative rate_0  \\\n",
       "0                             NaN                             NaN   \n",
       "0                        0.931418                        0.063767   \n",
       "0                             NaN                             NaN   \n",
       "0                        0.769082                        0.133868   \n",
       "\n",
       "   perf_grp_false negative rate_1  perf_grp_selection rate_0  \\\n",
       "0                             NaN                        NaN   \n",
       "0                        0.008425                   0.881353   \n",
       "0                             NaN                        NaN   \n",
       "0                        0.040153                   0.726144   \n",
       "\n",
       "   perf_grp_selection rate_1  perf_grp_count_0  perf_grp_count_1  \n",
       "0                        NaN               NaN               NaN  \n",
       "0                   0.939367           20540.0           69170.0  \n",
       "0                        NaN               NaN               NaN  \n",
       "0                   0.794289           20540.0           69170.0  \n",
       "\n",
       "[4 rows x 50 columns]"
      ]
     },
     "execution_count": 61,
     "metadata": {},
     "output_type": "execute_result"
    }
   ],
   "source": [
    "final_output = universe_analysis.generate_final_output(\n",
    "    y_pred_prob=probs_test,\n",
    "    y_test=y_true,\n",
    "    org_test=org_test,\n",
    "    filter_data=filter_sub_universe_data,\n",
    "    cp_metrics_df=cp_metrics_df,\n",
    "    save=True,\n",
    ")\n",
    "final_output"
   ]
  },
  {
   "cell_type": "code",
   "execution_count": null,
   "id": "721ff514-cb11-46f8-b6fc-50392f74b5cb",
   "metadata": {
    "papermill": {
     "duration": 0.067695,
     "end_time": "2025-07-23T14:37:44.880705",
     "exception": false,
     "start_time": "2025-07-23T14:37:44.813010",
     "status": "completed"
    },
    "tags": []
   },
   "outputs": [],
   "source": []
  }
 ],
 "metadata": {
  "celltoolbar": "Tags",
  "kernelspec": {
   "display_name": "Python (CMA Fairness)",
   "language": "python",
   "name": "cma_fair_env"
  },
  "language_info": {
   "codemirror_mode": {
    "name": "ipython",
    "version": 3
   },
   "file_extension": ".py",
   "mimetype": "text/x-python",
   "name": "python",
   "nbconvert_exporter": "python",
   "pygments_lexer": "ipython3",
   "version": "3.10.12"
  },
  "papermill": {
   "default_parameters": {},
   "duration": 83.2212,
   "end_time": "2025-07-23T14:37:46.087288",
   "environment_variables": {},
   "exception": null,
   "input_path": "universe_analysis.ipynb",
   "output_path": "output/runs/9/notebooks/m_9-45b2cbdeb01e8f9f56f9f09e135911d5.ipynb",
   "parameters": {
    "output_dir": "output",
    "run_no": "9",
    "seed": "2023",
    "universe": "{\"cutoff\": [\"quantile_0.1\", \"quantile_0.25\"], \"eval_fairness_grouping\": [\"majority-minority\", \"nationality-all\"], \"exclude_features\": \"sex\", \"exclude_subgroups\": \"drop-non-german\", \"model\": \"rf\", \"scale\": \"do-not-scale\"}",
    "universe_id": "45b2cbdeb01e8f9f56f9f09e135911d5"
   },
   "start_time": "2025-07-23T14:36:22.866088",
   "version": "2.6.0"
  }
 },
 "nbformat": 4,
 "nbformat_minor": 5
}