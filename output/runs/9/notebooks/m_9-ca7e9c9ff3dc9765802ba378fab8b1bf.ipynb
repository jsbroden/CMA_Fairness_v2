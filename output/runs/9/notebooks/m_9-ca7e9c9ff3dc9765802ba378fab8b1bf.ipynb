{
 "cells": [
  {
   "cell_type": "code",
   "execution_count": 1,
   "id": "f159f837-637b-42ba-96b5-ec9a68c44524",
   "metadata": {
    "execution": {
     "iopub.execute_input": "2025-07-23T14:29:25.249055Z",
     "iopub.status.busy": "2025-07-23T14:29:25.248592Z",
     "iopub.status.idle": "2025-07-23T14:29:25.262933Z",
     "shell.execute_reply": "2025-07-23T14:29:25.261856Z"
    },
    "papermill": {
     "duration": 0.033812,
     "end_time": "2025-07-23T14:29:25.264662",
     "exception": false,
     "start_time": "2025-07-23T14:29:25.230850",
     "status": "completed"
    },
    "tags": []
   },
   "outputs": [
    {
     "name": "stdout",
     "output_type": "stream",
     "text": [
      "/dss/dsshome1/0C/ra93lal2/cma/CMA_Fairness_v2\n"
     ]
    },
    {
     "name": "stderr",
     "output_type": "stream",
     "text": [
      "/dss/dsshome1/0C/ra93lal2/.local/share/virtualenvs/CMA_Fairness_v2-3j10GkSs/lib/python3.10/site-packages/IPython/core/magics/osm.py:393: UserWarning: This is now an optional IPython functionality, using bookmarks requires you to install the `pickleshare` library.\n",
      "  bkms = self.shell.db.get('bookmarks', {})\n",
      "/dss/dsshome1/0C/ra93lal2/.local/share/virtualenvs/CMA_Fairness_v2-3j10GkSs/lib/python3.10/site-packages/IPython/core/magics/osm.py:417: UserWarning: This is now an optional IPython functionality, setting dhist requires you to install the `pickleshare` library.\n",
      "  self.shell.db['dhist'] = compress_dhist(dhist)[-100:]\n"
     ]
    }
   ],
   "source": [
    "%cd ~/cma/CMA_Fairness_v2"
   ]
  },
  {
   "cell_type": "markdown",
   "id": "de2603b9",
   "metadata": {
    "papermill": {
     "duration": 0.015939,
     "end_time": "2025-07-23T14:29:25.297853",
     "exception": false,
     "start_time": "2025-07-23T14:29:25.281914",
     "status": "completed"
    },
    "tags": []
   },
   "source": [
    "The following cell holds the definition of our parameters, these values can be overriden by rendering the with e.g. the following command:\n",
    "\n",
    "papermill -p alpha 0.2 -p ratio 0.3 universe_analysis.ipynb output/test_run.ipynb"
   ]
  },
  {
   "cell_type": "code",
   "execution_count": 2,
   "id": "a80968a0-40bb-4fa9-85ef-2d5eefb01975",
   "metadata": {
    "execution": {
     "iopub.execute_input": "2025-07-23T14:29:25.332817Z",
     "iopub.status.busy": "2025-07-23T14:29:25.331812Z",
     "iopub.status.idle": "2025-07-23T14:29:25.337524Z",
     "shell.execute_reply": "2025-07-23T14:29:25.336658Z"
    },
    "papermill": {
     "duration": 0.025724,
     "end_time": "2025-07-23T14:29:25.339924",
     "exception": false,
     "start_time": "2025-07-23T14:29:25.314200",
     "status": "completed"
    },
    "tags": []
   },
   "outputs": [
    {
     "name": "stdout",
     "output_type": "stream",
     "text": [
      "Current working directory: /dss/dsshome1/0C/ra93lal2/cma/CMA_Fairness_v2\n"
     ]
    }
   ],
   "source": [
    "import os\n",
    "print(\"Current working directory:\", os.getcwd())"
   ]
  },
  {
   "cell_type": "code",
   "execution_count": 3,
   "id": "2dce4c03",
   "metadata": {
    "execution": {
     "iopub.execute_input": "2025-07-23T14:29:25.380607Z",
     "iopub.status.busy": "2025-07-23T14:29:25.379900Z",
     "iopub.status.idle": "2025-07-23T14:29:25.387353Z",
     "shell.execute_reply": "2025-07-23T14:29:25.386423Z"
    },
    "papermill": {
     "duration": 0.027372,
     "end_time": "2025-07-23T14:29:25.389174",
     "exception": false,
     "start_time": "2025-07-23T14:29:25.361802",
     "status": "completed"
    },
    "tags": [
     "parameters"
    ]
   },
   "outputs": [],
   "source": [
    "run_no = 0\n",
    "universe_id = \"test\"\n",
    "universe = {\n",
    "    \"scale\": \"scale\", # \"scale\", \"do-not-scale\",\n",
    "    \"model\": \"elasticnet\", # \"logreg\", \"penalized_logreg\", \"rf\", \"gbm\", \"elasticnet\"\n",
    "    \"cutoff\": [\"quantile_0.15\", \"quantile_0.30\"],\n",
    "    \"exclude_features\": \"age\", # \"none\", \"nationality\", \"sex\", \"nationality-sex\", \"age\"\n",
    "    \"exclude_subgroups\": \"keep-all\", # \"keep-all\", \"drop-non-german\"\n",
    "    #\"training_sample\": \"restricted\", # \"restricted\", \"full\"\n",
    "    \"eval_fairness_grouping\": [\"majority-minority\", \"nationality-all\"]\n",
    "}\n",
    "\n",
    "output_dir=\"./output\"\n",
    "seed=0"
   ]
  },
  {
   "cell_type": "code",
   "execution_count": 4,
   "id": "3a8900b3",
   "metadata": {
    "execution": {
     "iopub.execute_input": "2025-07-23T14:29:25.424081Z",
     "iopub.status.busy": "2025-07-23T14:29:25.423756Z",
     "iopub.status.idle": "2025-07-23T14:29:25.428636Z",
     "shell.execute_reply": "2025-07-23T14:29:25.427688Z"
    },
    "papermill": {
     "duration": 0.02437,
     "end_time": "2025-07-23T14:29:25.430433",
     "exception": false,
     "start_time": "2025-07-23T14:29:25.406063",
     "status": "completed"
    },
    "tags": [
     "injected-parameters"
    ]
   },
   "outputs": [],
   "source": [
    "# Parameters\n",
    "universe_id = \"ca7e9c9ff3dc9765802ba378fab8b1bf\"\n",
    "run_no = \"9\"\n",
    "universe = \"{\\\"cutoff\\\": [\\\"quantile_0.1\\\", \\\"quantile_0.25\\\"], \\\"eval_fairness_grouping\\\": [\\\"majority-minority\\\", \\\"nationality-all\\\"], \\\"exclude_features\\\": \\\"age\\\", \\\"exclude_subgroups\\\": \\\"keep-all\\\", \\\"model\\\": \\\"rf\\\", \\\"scale\\\": \\\"scale\\\"}\"\n",
    "output_dir = \"output\"\n",
    "seed = \"2023\"\n"
   ]
  },
  {
   "cell_type": "code",
   "execution_count": 5,
   "id": "1650acaf",
   "metadata": {
    "execution": {
     "iopub.execute_input": "2025-07-23T14:29:25.464972Z",
     "iopub.status.busy": "2025-07-23T14:29:25.464230Z",
     "iopub.status.idle": "2025-07-23T14:29:25.469465Z",
     "shell.execute_reply": "2025-07-23T14:29:25.468462Z"
    },
    "papermill": {
     "duration": 0.02397,
     "end_time": "2025-07-23T14:29:25.471163",
     "exception": false,
     "start_time": "2025-07-23T14:29:25.447193",
     "status": "completed"
    },
    "tags": []
   },
   "outputs": [],
   "source": [
    "import json\n",
    "# Parse universe into dict if it is passed as a string\n",
    "if isinstance(universe, str):\n",
    "    universe = json.loads(universe)"
   ]
  },
  {
   "cell_type": "code",
   "execution_count": 6,
   "id": "16620c48",
   "metadata": {
    "execution": {
     "iopub.execute_input": "2025-07-23T14:29:25.507093Z",
     "iopub.status.busy": "2025-07-23T14:29:25.506325Z",
     "iopub.status.idle": "2025-07-23T14:29:25.553924Z",
     "shell.execute_reply": "2025-07-23T14:29:25.553067Z"
    },
    "papermill": {
     "duration": 0.066889,
     "end_time": "2025-07-23T14:29:25.555776",
     "exception": false,
     "start_time": "2025-07-23T14:29:25.488887",
     "status": "completed"
    },
    "tags": []
   },
   "outputs": [],
   "source": [
    "# Auto-reload the custom package\n",
    "%load_ext autoreload\n",
    "%autoreload 1\n",
    "%aimport fairness_multiverse"
   ]
  },
  {
   "cell_type": "code",
   "execution_count": 7,
   "id": "01c5c9f3",
   "metadata": {
    "execution": {
     "iopub.execute_input": "2025-07-23T14:29:25.592093Z",
     "iopub.status.busy": "2025-07-23T14:29:25.591401Z",
     "iopub.status.idle": "2025-07-23T14:29:27.328091Z",
     "shell.execute_reply": "2025-07-23T14:29:27.327261Z"
    },
    "papermill": {
     "duration": 1.755738,
     "end_time": "2025-07-23T14:29:27.329637",
     "exception": false,
     "start_time": "2025-07-23T14:29:25.573899",
     "status": "completed"
    },
    "tags": []
   },
   "outputs": [],
   "source": [
    "from fairness_multiverse.universe import UniverseAnalysis\n",
    "\n",
    "universe_analysis = UniverseAnalysis(\n",
    "    run_no = run_no,\n",
    "    universe_id = universe_id,\n",
    "    universe = universe,\n",
    "    output_dir=output_dir,\n",
    ")"
   ]
  },
  {
   "cell_type": "code",
   "execution_count": 8,
   "id": "106241f5",
   "metadata": {
    "execution": {
     "iopub.execute_input": "2025-07-23T14:29:27.349919Z",
     "iopub.status.busy": "2025-07-23T14:29:27.349178Z",
     "iopub.status.idle": "2025-07-23T14:29:27.355150Z",
     "shell.execute_reply": "2025-07-23T14:29:27.354154Z"
    },
    "papermill": {
     "duration": 0.017748,
     "end_time": "2025-07-23T14:29:27.356954",
     "exception": false,
     "start_time": "2025-07-23T14:29:27.339206",
     "status": "completed"
    },
    "tags": []
   },
   "outputs": [
    {
     "name": "stdout",
     "output_type": "stream",
     "text": [
      "Using Seed: 2023\n"
     ]
    }
   ],
   "source": [
    "import numpy as np\n",
    "parsed_seed = int(seed)\n",
    "np.random.seed(parsed_seed)\n",
    "print(f\"Using Seed: {parsed_seed}\")"
   ]
  },
  {
   "cell_type": "markdown",
   "id": "e0ebdc57",
   "metadata": {
    "papermill": {
     "duration": 0.009337,
     "end_time": "2025-07-23T14:29:27.376064",
     "exception": false,
     "start_time": "2025-07-23T14:29:27.366727",
     "status": "completed"
    },
    "tags": []
   },
   "source": [
    "# Loading Data"
   ]
  },
  {
   "cell_type": "markdown",
   "id": "681925a3",
   "metadata": {
    "papermill": {
     "duration": 0.009069,
     "end_time": "2025-07-23T14:29:27.394296",
     "exception": false,
     "start_time": "2025-07-23T14:29:27.385227",
     "status": "completed"
    },
    "tags": []
   },
   "source": [
    "Load siab_train, siab_test, siab_calib and/or \n",
    "load siab_train_features, siab_train_labels"
   ]
  },
  {
   "cell_type": "code",
   "execution_count": 9,
   "id": "f0496b8a",
   "metadata": {
    "execution": {
     "iopub.execute_input": "2025-07-23T14:29:27.414172Z",
     "iopub.status.busy": "2025-07-23T14:29:27.413621Z",
     "iopub.status.idle": "2025-07-23T14:29:27.419060Z",
     "shell.execute_reply": "2025-07-23T14:29:27.418212Z"
    },
    "papermill": {
     "duration": 0.017113,
     "end_time": "2025-07-23T14:29:27.420626",
     "exception": false,
     "start_time": "2025-07-23T14:29:27.403513",
     "status": "completed"
    },
    "tags": []
   },
   "outputs": [],
   "source": [
    "# Do I need to load siab? Delete this cell?\n",
    "\n",
    "#from pathlib import Path\n",
    "#import pandas as pd\n",
    "#\n",
    "## File paths\n",
    "#raw_file = Path(\"data/raw/siab.csv\")\n",
    "#cache_file = Path(\"data/siab_cached.csv.gz\")\n",
    "#\n",
    "## Ensure cache directory exists\n",
    "#cache_file.parent.mkdir(parents=True, exist_ok=True)\n",
    "#\n",
    "## Load with simple caching\n",
    "#if cache_file.exists():\n",
    "#    print(f\"Loading SIAB data from cache: {cache_file}\")\n",
    "#    siab = pd.read_csv(cache_file, compression='gzip')\n",
    "#else:\n",
    "#    print(f\"Cache not found. Reading raw SIAB data: {raw_file}\")\n",
    "#    siab = pd.read_csv(raw_file)\n",
    "#    siab.to_csv(cache_file, index=False, compression='gzip')\n",
    "#    print(f\"Cached SIAB data to: {cache_file}\")\n",
    "#\n",
    "## Now use `siab` DataFrame as needed\n",
    "#print(siab.shape)\n"
   ]
  },
  {
   "cell_type": "code",
   "execution_count": 10,
   "id": "a0edb063",
   "metadata": {
    "execution": {
     "iopub.execute_input": "2025-07-23T14:29:27.441249Z",
     "iopub.status.busy": "2025-07-23T14:29:27.440679Z",
     "iopub.status.idle": "2025-07-23T14:29:28.292146Z",
     "shell.execute_reply": "2025-07-23T14:29:28.291333Z"
    },
    "papermill": {
     "duration": 0.863119,
     "end_time": "2025-07-23T14:29:28.293792",
     "exception": false,
     "start_time": "2025-07-23T14:29:27.430673",
     "status": "completed"
    },
    "tags": []
   },
   "outputs": [],
   "source": [
    "import pandas as pd\n",
    "\n",
    "X_train = pd.read_csv(\"./data/X_train.csv\")\n",
    "y_train = pd.read_csv(\"./data/y_train.csv\")"
   ]
  },
  {
   "cell_type": "code",
   "execution_count": 11,
   "id": "63d08085",
   "metadata": {
    "execution": {
     "iopub.execute_input": "2025-07-23T14:29:28.314242Z",
     "iopub.status.busy": "2025-07-23T14:29:28.313905Z",
     "iopub.status.idle": "2025-07-23T14:29:29.825449Z",
     "shell.execute_reply": "2025-07-23T14:29:29.824630Z"
    },
    "papermill": {
     "duration": 1.523492,
     "end_time": "2025-07-23T14:29:29.826980",
     "exception": false,
     "start_time": "2025-07-23T14:29:28.303488",
     "status": "completed"
    },
    "tags": []
   },
   "outputs": [],
   "source": [
    "X_test = pd.read_csv(\"./data/X_test.csv\")\n",
    "y_true = pd.read_csv(\"./data/y_test.csv\")"
   ]
  },
  {
   "cell_type": "code",
   "execution_count": 12,
   "id": "98a8d0fa-1d3d-4ed8-bb2c-281470e24add",
   "metadata": {
    "execution": {
     "iopub.execute_input": "2025-07-23T14:29:29.847873Z",
     "iopub.status.busy": "2025-07-23T14:29:29.847277Z",
     "iopub.status.idle": "2025-07-23T14:29:30.959679Z",
     "shell.execute_reply": "2025-07-23T14:29:30.958575Z"
    },
    "papermill": {
     "duration": 1.124379,
     "end_time": "2025-07-23T14:29:30.961446",
     "exception": false,
     "start_time": "2025-07-23T14:29:29.837067",
     "status": "completed"
    },
    "tags": []
   },
   "outputs": [],
   "source": [
    "# Calibration data for conformal\n",
    "X_calib = pd.read_csv(\"./data/X_calib.csv\")\n",
    "y_calib = pd.read_csv(\"./data/y_calib.csv\")"
   ]
  },
  {
   "cell_type": "code",
   "execution_count": 13,
   "id": "e6c733c5",
   "metadata": {
    "execution": {
     "iopub.execute_input": "2025-07-23T14:29:30.998759Z",
     "iopub.status.busy": "2025-07-23T14:29:30.998201Z",
     "iopub.status.idle": "2025-07-23T14:29:31.130618Z",
     "shell.execute_reply": "2025-07-23T14:29:31.129446Z"
    },
    "papermill": {
     "duration": 0.152934,
     "end_time": "2025-07-23T14:29:31.132591",
     "exception": false,
     "start_time": "2025-07-23T14:29:30.979657",
     "status": "completed"
    },
    "tags": []
   },
   "outputs": [],
   "source": [
    "# Auxiliary data needed downstream in the pipeline\n",
    "\n",
    "org_train = X_train.copy()\n",
    "org_test = X_test.copy()\n",
    "org_calib = X_calib.copy()"
   ]
  },
  {
   "cell_type": "markdown",
   "id": "0a4a1b33",
   "metadata": {
    "papermill": {
     "duration": 0.017129,
     "end_time": "2025-07-23T14:29:31.167155",
     "exception": false,
     "start_time": "2025-07-23T14:29:31.150026",
     "status": "completed"
    },
    "tags": []
   },
   "source": [
    "# Preprocessing Data"
   ]
  },
  {
   "cell_type": "code",
   "execution_count": 14,
   "id": "ca879031",
   "metadata": {
    "execution": {
     "iopub.execute_input": "2025-07-23T14:29:31.203289Z",
     "iopub.status.busy": "2025-07-23T14:29:31.202283Z",
     "iopub.status.idle": "2025-07-23T14:29:31.208887Z",
     "shell.execute_reply": "2025-07-23T14:29:31.207808Z"
    },
    "papermill": {
     "duration": 0.027079,
     "end_time": "2025-07-23T14:29:31.211016",
     "exception": false,
     "start_time": "2025-07-23T14:29:31.183937",
     "status": "completed"
    },
    "tags": []
   },
   "outputs": [],
   "source": [
    "# EXCLUDE PROTECTED FEATURES\n",
    "# ----------------------\n",
    "# \"exclude_features\": \"none\", # \"nationality\", \"sex\", \"nationality-sex\"\n",
    "\n",
    "excluded_features = universe[\"exclude_features\"].split(\"-\") # split, e.g.: \"nationality-sex\" -> [\"nationality\", \"sex\"]\n",
    "excluded_features_dictionary = {\n",
    "    \"nationality\": [\"maxdeutsch1\", \"maxdeutsch.Missing.\"],\n",
    "    \"sex\": [\"frau1\"],\n",
    "    \"age\": [\"age\"],\n",
    "}\n"
   ]
  },
  {
   "cell_type": "code",
   "execution_count": 15,
   "id": "b745ac60",
   "metadata": {
    "execution": {
     "iopub.execute_input": "2025-07-23T14:29:31.248327Z",
     "iopub.status.busy": "2025-07-23T14:29:31.247918Z",
     "iopub.status.idle": "2025-07-23T14:29:31.253021Z",
     "shell.execute_reply": "2025-07-23T14:29:31.251961Z"
    },
    "papermill": {
     "duration": 0.028381,
     "end_time": "2025-07-23T14:29:31.257476",
     "exception": false,
     "start_time": "2025-07-23T14:29:31.229095",
     "status": "completed"
    },
    "tags": []
   },
   "outputs": [],
   "source": [
    "# Code nice names to column names\n",
    "\n",
    "excluded_features_columns = [\n",
    "    excluded_features_dictionary[f] for f in excluded_features if len(f) > 0 and f != \"none\"\n",
    "]"
   ]
  },
  {
   "cell_type": "code",
   "execution_count": 16,
   "id": "f84f73a2",
   "metadata": {
    "execution": {
     "iopub.execute_input": "2025-07-23T14:29:31.280029Z",
     "iopub.status.busy": "2025-07-23T14:29:31.279263Z",
     "iopub.status.idle": "2025-07-23T14:29:31.285820Z",
     "shell.execute_reply": "2025-07-23T14:29:31.284494Z"
    },
    "papermill": {
     "duration": 0.018598,
     "end_time": "2025-07-23T14:29:31.287359",
     "exception": false,
     "start_time": "2025-07-23T14:29:31.268761",
     "status": "completed"
    },
    "tags": []
   },
   "outputs": [],
   "source": [
    "from utils import flatten_once\n",
    "\n",
    "excluded_features_columns = flatten_once(excluded_features_columns)"
   ]
  },
  {
   "cell_type": "code",
   "execution_count": 17,
   "id": "884dea22",
   "metadata": {
    "execution": {
     "iopub.execute_input": "2025-07-23T14:29:31.324908Z",
     "iopub.status.busy": "2025-07-23T14:29:31.324372Z",
     "iopub.status.idle": "2025-07-23T14:29:31.371039Z",
     "shell.execute_reply": "2025-07-23T14:29:31.370057Z"
    },
    "papermill": {
     "duration": 0.067413,
     "end_time": "2025-07-23T14:29:31.372588",
     "exception": false,
     "start_time": "2025-07-23T14:29:31.305175",
     "status": "completed"
    },
    "tags": []
   },
   "outputs": [
    {
     "name": "stdout",
     "output_type": "stream",
     "text": [
      "Dropping features: ['age']\n"
     ]
    }
   ],
   "source": [
    "if len(excluded_features_columns) > 0:\n",
    "    print(f\"Dropping features: {excluded_features_columns}\")\n",
    "    X_train.drop(excluded_features_columns, axis=1, inplace=True)"
   ]
  },
  {
   "cell_type": "code",
   "execution_count": 18,
   "id": "95ab8b16",
   "metadata": {
    "execution": {
     "iopub.execute_input": "2025-07-23T14:29:31.394238Z",
     "iopub.status.busy": "2025-07-23T14:29:31.393862Z",
     "iopub.status.idle": "2025-07-23T14:29:31.449224Z",
     "shell.execute_reply": "2025-07-23T14:29:31.448300Z"
    },
    "papermill": {
     "duration": 0.067344,
     "end_time": "2025-07-23T14:29:31.450522",
     "exception": false,
     "start_time": "2025-07-23T14:29:31.383178",
     "status": "completed"
    },
    "tags": []
   },
   "outputs": [
    {
     "name": "stdout",
     "output_type": "stream",
     "text": [
      "Dropping features: ['age']\n"
     ]
    }
   ],
   "source": [
    "if len(excluded_features_columns) > 0:\n",
    "    print(f\"Dropping features: {excluded_features_columns}\")\n",
    "    X_test.drop(excluded_features_columns, axis=1, inplace=True)"
   ]
  },
  {
   "cell_type": "code",
   "execution_count": 19,
   "id": "1853aaf5-fb9f-46cb-a2b5-8ea4ae2237e4",
   "metadata": {
    "execution": {
     "iopub.execute_input": "2025-07-23T14:29:31.473686Z",
     "iopub.status.busy": "2025-07-23T14:29:31.473165Z",
     "iopub.status.idle": "2025-07-23T14:29:31.534819Z",
     "shell.execute_reply": "2025-07-23T14:29:31.533668Z"
    },
    "papermill": {
     "duration": 0.075785,
     "end_time": "2025-07-23T14:29:31.536910",
     "exception": false,
     "start_time": "2025-07-23T14:29:31.461125",
     "status": "completed"
    },
    "tags": []
   },
   "outputs": [
    {
     "name": "stdout",
     "output_type": "stream",
     "text": [
      "Dropping features: ['age']\n"
     ]
    }
   ],
   "source": [
    "if len(excluded_features_columns) > 0:\n",
    "    print(f\"Dropping features: {excluded_features_columns}\")\n",
    "    X_calib.drop(excluded_features_columns, axis=1, inplace=True)"
   ]
  },
  {
   "cell_type": "code",
   "execution_count": 20,
   "id": "76c4dc6d",
   "metadata": {
    "execution": {
     "iopub.execute_input": "2025-07-23T14:29:31.582836Z",
     "iopub.status.busy": "2025-07-23T14:29:31.582269Z",
     "iopub.status.idle": "2025-07-23T14:29:31.588924Z",
     "shell.execute_reply": "2025-07-23T14:29:31.587806Z"
    },
    "papermill": {
     "duration": 0.031006,
     "end_time": "2025-07-23T14:29:31.590610",
     "exception": false,
     "start_time": "2025-07-23T14:29:31.559604",
     "status": "completed"
    },
    "tags": []
   },
   "outputs": [],
   "source": [
    "# EXCLUDE CERTAIN SUBGROUPS\n",
    "# ----------------------\n",
    "\n",
    "mode = universe.get(\"exclude_subgroups\", \"keep-all\") \n",
    "# Fetches the exclude_subgroups setting from the universe dict.\n",
    "# Defaults to \"keep-all\" if the key is missing."
   ]
  },
  {
   "cell_type": "code",
   "execution_count": 21,
   "id": "21994072",
   "metadata": {
    "execution": {
     "iopub.execute_input": "2025-07-23T14:29:31.629599Z",
     "iopub.status.busy": "2025-07-23T14:29:31.629133Z",
     "iopub.status.idle": "2025-07-23T14:29:31.634438Z",
     "shell.execute_reply": "2025-07-23T14:29:31.633607Z"
    },
    "papermill": {
     "duration": 0.026765,
     "end_time": "2025-07-23T14:29:31.635890",
     "exception": false,
     "start_time": "2025-07-23T14:29:31.609125",
     "status": "completed"
    },
    "tags": []
   },
   "outputs": [],
   "source": [
    "if mode == \"keep-all\":\n",
    "    keep_mask = pd.Series(True, index=org_train.index)\n",
    "\n",
    "# org_train contains the original feature columns from features_org (in Simson)\n",
    "# features_org contains unprocessed features, for me X_train at beginning ???\n",
    "# For keep-all, creates a boolean Series (keep_mask) of all True, so no rows are removed.\n",
    "\n",
    "elif mode == \"drop-non-german\":\n",
    "    keep_mask = org_train[\"maxdeutsch1\"] == 1 # ??? what about missing values?\n",
    "\n",
    "else:\n",
    "    raise ValueError(f\"Unsupported mode for exclude_subgroups: {mode}\")\n"
   ]
  },
  {
   "cell_type": "code",
   "execution_count": 22,
   "id": "71651440",
   "metadata": {
    "execution": {
     "iopub.execute_input": "2025-07-23T14:29:31.662904Z",
     "iopub.status.busy": "2025-07-23T14:29:31.662164Z",
     "iopub.status.idle": "2025-07-23T14:29:31.669219Z",
     "shell.execute_reply": "2025-07-23T14:29:31.668065Z"
    },
    "papermill": {
     "duration": 0.025238,
     "end_time": "2025-07-23T14:29:31.671526",
     "exception": false,
     "start_time": "2025-07-23T14:29:31.646288",
     "status": "completed"
    },
    "tags": []
   },
   "outputs": [],
   "source": [
    "n_drop = (~keep_mask).sum() # Calculates how many rows are set to be dropped\n",
    "if n_drop > 0:\n",
    "    pct = n_drop / len(keep_mask) * 100\n",
    "    print(f\"Dropping {n_drop} rows ({pct:.2f}%) where mode='{mode}'\")"
   ]
  },
  {
   "cell_type": "code",
   "execution_count": 23,
   "id": "5fb8eee5",
   "metadata": {
    "execution": {
     "iopub.execute_input": "2025-07-23T14:29:31.721355Z",
     "iopub.status.busy": "2025-07-23T14:29:31.720123Z",
     "iopub.status.idle": "2025-07-23T14:29:31.779233Z",
     "shell.execute_reply": "2025-07-23T14:29:31.778164Z"
    },
    "papermill": {
     "duration": 0.084509,
     "end_time": "2025-07-23T14:29:31.781329",
     "exception": false,
     "start_time": "2025-07-23T14:29:31.696820",
     "status": "completed"
    },
    "tags": []
   },
   "outputs": [],
   "source": [
    "X_train = X_train[keep_mask]"
   ]
  },
  {
   "cell_type": "code",
   "execution_count": 24,
   "id": "b202bb3a",
   "metadata": {
    "execution": {
     "iopub.execute_input": "2025-07-23T14:29:31.819368Z",
     "iopub.status.busy": "2025-07-23T14:29:31.819020Z",
     "iopub.status.idle": "2025-07-23T14:29:31.827313Z",
     "shell.execute_reply": "2025-07-23T14:29:31.826178Z"
    },
    "papermill": {
     "duration": 0.02724,
     "end_time": "2025-07-23T14:29:31.829371",
     "exception": false,
     "start_time": "2025-07-23T14:29:31.802131",
     "status": "completed"
    },
    "tags": []
   },
   "outputs": [],
   "source": [
    "y_train = y_train[keep_mask]"
   ]
  },
  {
   "cell_type": "markdown",
   "id": "493e2ac3",
   "metadata": {
    "papermill": {
     "duration": 0.021032,
     "end_time": "2025-07-23T14:29:31.871900",
     "exception": false,
     "start_time": "2025-07-23T14:29:31.850868",
     "status": "completed"
    },
    "tags": []
   },
   "source": [
    "# Model Training"
   ]
  },
  {
   "cell_type": "code",
   "execution_count": 25,
   "id": "679e1268",
   "metadata": {
    "execution": {
     "iopub.execute_input": "2025-07-23T14:29:31.918165Z",
     "iopub.status.busy": "2025-07-23T14:29:31.917197Z",
     "iopub.status.idle": "2025-07-23T14:29:32.045901Z",
     "shell.execute_reply": "2025-07-23T14:29:32.044834Z"
    },
    "papermill": {
     "duration": 0.15476,
     "end_time": "2025-07-23T14:29:32.047867",
     "exception": false,
     "start_time": "2025-07-23T14:29:31.893107",
     "status": "completed"
    },
    "tags": []
   },
   "outputs": [],
   "source": [
    "from sklearn.linear_model import LogisticRegression\n",
    "from sklearn.ensemble import GradientBoostingClassifier, RandomForestClassifier\n",
    "\n",
    "if (universe[\"model\"] == \"logreg\"):\n",
    "    model = LogisticRegression() #penalty=\"none\") #, solver=\"newton-cg\", max_iter=1) # include random_state=19 ?\n",
    "elif (universe[\"model\"] == \"penalized_logreg\"):\n",
    "    model = LogisticRegression(penalty=\"l2\", C=1.0) #, solver=\"newton-cg\", max_iter=1)\n",
    "elif (universe[\"model\"] == \"rf\"):\n",
    "    model = RandomForestClassifier(n_estimators=100, n_jobs=-1)\n",
    "elif (universe[\"model\"] == \"gbm\"):\n",
    "    model = GradientBoostingClassifier()\n",
    "elif (universe[\"model\"] == \"elasticnet\"):\n",
    "    model = LogisticRegression(penalty = 'elasticnet', solver = 'saga', l1_ratio = 0.5, max_iter=5000) # which solver to use?\n",
    "else:\n",
    "    raise \"Unsupported universe.model\""
   ]
  },
  {
   "cell_type": "code",
   "execution_count": 26,
   "id": "0cc8f744",
   "metadata": {
    "execution": {
     "iopub.execute_input": "2025-07-23T14:29:32.086041Z",
     "iopub.status.busy": "2025-07-23T14:29:32.085522Z",
     "iopub.status.idle": "2025-07-23T14:29:32.092476Z",
     "shell.execute_reply": "2025-07-23T14:29:32.091306Z"
    },
    "papermill": {
     "duration": 0.027666,
     "end_time": "2025-07-23T14:29:32.094434",
     "exception": false,
     "start_time": "2025-07-23T14:29:32.066768",
     "status": "completed"
    },
    "tags": []
   },
   "outputs": [],
   "source": [
    "import numpy as np\n",
    "from sklearn.pipeline import Pipeline\n",
    "from sklearn.preprocessing import StandardScaler\n",
    "\n",
    "model = Pipeline([\n",
    "    #(\"continuous_processor\", continuous_processor),\n",
    "    #(\"categorical_preprocessor\", categorical_preprocessor),\n",
    "    (\"scale\", StandardScaler() if universe[\"scale\"] == \"scale\" else None), \n",
    "    (\"model\", model),\n",
    "])"
   ]
  },
  {
   "cell_type": "code",
   "execution_count": 27,
   "id": "9442c04d",
   "metadata": {
    "execution": {
     "iopub.execute_input": "2025-07-23T14:29:32.138172Z",
     "iopub.status.busy": "2025-07-23T14:29:32.137448Z",
     "iopub.status.idle": "2025-07-23T14:29:42.199358Z",
     "shell.execute_reply": "2025-07-23T14:29:42.197873Z"
    },
    "papermill": {
     "duration": 10.085684,
     "end_time": "2025-07-23T14:29:42.201711",
     "exception": false,
     "start_time": "2025-07-23T14:29:32.116027",
     "status": "completed"
    },
    "tags": []
   },
   "outputs": [
    {
     "data": {
      "text/html": [
       "<style>#sk-container-id-1 {color: black;background-color: white;}#sk-container-id-1 pre{padding: 0;}#sk-container-id-1 div.sk-toggleable {background-color: white;}#sk-container-id-1 label.sk-toggleable__label {cursor: pointer;display: block;width: 100%;margin-bottom: 0;padding: 0.3em;box-sizing: border-box;text-align: center;}#sk-container-id-1 label.sk-toggleable__label-arrow:before {content: \"▸\";float: left;margin-right: 0.25em;color: #696969;}#sk-container-id-1 label.sk-toggleable__label-arrow:hover:before {color: black;}#sk-container-id-1 div.sk-estimator:hover label.sk-toggleable__label-arrow:before {color: black;}#sk-container-id-1 div.sk-toggleable__content {max-height: 0;max-width: 0;overflow: hidden;text-align: left;background-color: #f0f8ff;}#sk-container-id-1 div.sk-toggleable__content pre {margin: 0.2em;color: black;border-radius: 0.25em;background-color: #f0f8ff;}#sk-container-id-1 input.sk-toggleable__control:checked~div.sk-toggleable__content {max-height: 200px;max-width: 100%;overflow: auto;}#sk-container-id-1 input.sk-toggleable__control:checked~label.sk-toggleable__label-arrow:before {content: \"▾\";}#sk-container-id-1 div.sk-estimator input.sk-toggleable__control:checked~label.sk-toggleable__label {background-color: #d4ebff;}#sk-container-id-1 div.sk-label input.sk-toggleable__control:checked~label.sk-toggleable__label {background-color: #d4ebff;}#sk-container-id-1 input.sk-hidden--visually {border: 0;clip: rect(1px 1px 1px 1px);clip: rect(1px, 1px, 1px, 1px);height: 1px;margin: -1px;overflow: hidden;padding: 0;position: absolute;width: 1px;}#sk-container-id-1 div.sk-estimator {font-family: monospace;background-color: #f0f8ff;border: 1px dotted black;border-radius: 0.25em;box-sizing: border-box;margin-bottom: 0.5em;}#sk-container-id-1 div.sk-estimator:hover {background-color: #d4ebff;}#sk-container-id-1 div.sk-parallel-item::after {content: \"\";width: 100%;border-bottom: 1px solid gray;flex-grow: 1;}#sk-container-id-1 div.sk-label:hover label.sk-toggleable__label {background-color: #d4ebff;}#sk-container-id-1 div.sk-serial::before {content: \"\";position: absolute;border-left: 1px solid gray;box-sizing: border-box;top: 0;bottom: 0;left: 50%;z-index: 0;}#sk-container-id-1 div.sk-serial {display: flex;flex-direction: column;align-items: center;background-color: white;padding-right: 0.2em;padding-left: 0.2em;position: relative;}#sk-container-id-1 div.sk-item {position: relative;z-index: 1;}#sk-container-id-1 div.sk-parallel {display: flex;align-items: stretch;justify-content: center;background-color: white;position: relative;}#sk-container-id-1 div.sk-item::before, #sk-container-id-1 div.sk-parallel-item::before {content: \"\";position: absolute;border-left: 1px solid gray;box-sizing: border-box;top: 0;bottom: 0;left: 50%;z-index: -1;}#sk-container-id-1 div.sk-parallel-item {display: flex;flex-direction: column;z-index: 1;position: relative;background-color: white;}#sk-container-id-1 div.sk-parallel-item:first-child::after {align-self: flex-end;width: 50%;}#sk-container-id-1 div.sk-parallel-item:last-child::after {align-self: flex-start;width: 50%;}#sk-container-id-1 div.sk-parallel-item:only-child::after {width: 0;}#sk-container-id-1 div.sk-dashed-wrapped {border: 1px dashed gray;margin: 0 0.4em 0.5em 0.4em;box-sizing: border-box;padding-bottom: 0.4em;background-color: white;}#sk-container-id-1 div.sk-label label {font-family: monospace;font-weight: bold;display: inline-block;line-height: 1.2em;}#sk-container-id-1 div.sk-label-container {text-align: center;}#sk-container-id-1 div.sk-container {/* jupyter's `normalize.less` sets `[hidden] { display: none; }` but bootstrap.min.css set `[hidden] { display: none !important; }` so we also need the `!important` here to be able to override the default hidden behavior on the sphinx rendered scikit-learn.org. See: https://github.com/scikit-learn/scikit-learn/issues/21755 */display: inline-block !important;position: relative;}#sk-container-id-1 div.sk-text-repr-fallback {display: none;}</style><div id=\"sk-container-id-1\" class=\"sk-top-container\"><div class=\"sk-text-repr-fallback\"><pre>Pipeline(steps=[(&#x27;scale&#x27;, StandardScaler()),\n",
       "                (&#x27;model&#x27;, RandomForestClassifier(n_jobs=-1))])</pre><b>In a Jupyter environment, please rerun this cell to show the HTML representation or trust the notebook. <br />On GitHub, the HTML representation is unable to render, please try loading this page with nbviewer.org.</b></div><div class=\"sk-container\" hidden><div class=\"sk-item sk-dashed-wrapped\"><div class=\"sk-label-container\"><div class=\"sk-label sk-toggleable\"><input class=\"sk-toggleable__control sk-hidden--visually\" id=\"sk-estimator-id-1\" type=\"checkbox\" ><label for=\"sk-estimator-id-1\" class=\"sk-toggleable__label sk-toggleable__label-arrow\">Pipeline</label><div class=\"sk-toggleable__content\"><pre>Pipeline(steps=[(&#x27;scale&#x27;, StandardScaler()),\n",
       "                (&#x27;model&#x27;, RandomForestClassifier(n_jobs=-1))])</pre></div></div></div><div class=\"sk-serial\"><div class=\"sk-item\"><div class=\"sk-estimator sk-toggleable\"><input class=\"sk-toggleable__control sk-hidden--visually\" id=\"sk-estimator-id-2\" type=\"checkbox\" ><label for=\"sk-estimator-id-2\" class=\"sk-toggleable__label sk-toggleable__label-arrow\">StandardScaler</label><div class=\"sk-toggleable__content\"><pre>StandardScaler()</pre></div></div></div><div class=\"sk-item\"><div class=\"sk-estimator sk-toggleable\"><input class=\"sk-toggleable__control sk-hidden--visually\" id=\"sk-estimator-id-3\" type=\"checkbox\" ><label for=\"sk-estimator-id-3\" class=\"sk-toggleable__label sk-toggleable__label-arrow\">RandomForestClassifier</label><div class=\"sk-toggleable__content\"><pre>RandomForestClassifier(n_jobs=-1)</pre></div></div></div></div></div></div></div>"
      ],
      "text/plain": [
       "Pipeline(steps=[('scale', StandardScaler()),\n",
       "                ('model', RandomForestClassifier(n_jobs=-1))])"
      ]
     },
     "execution_count": 27,
     "metadata": {},
     "output_type": "execute_result"
    }
   ],
   "source": [
    "model.fit(X_train, y_train.values.ravel())"
   ]
  },
  {
   "cell_type": "code",
   "execution_count": 28,
   "id": "af59f8c0",
   "metadata": {
    "execution": {
     "iopub.execute_input": "2025-07-23T14:29:42.256061Z",
     "iopub.status.busy": "2025-07-23T14:29:42.255466Z",
     "iopub.status.idle": "2025-07-23T14:29:42.261635Z",
     "shell.execute_reply": "2025-07-23T14:29:42.260603Z"
    },
    "papermill": {
     "duration": 0.031614,
     "end_time": "2025-07-23T14:29:42.263484",
     "exception": false,
     "start_time": "2025-07-23T14:29:42.231870",
     "status": "completed"
    },
    "tags": []
   },
   "outputs": [],
   "source": [
    "from fairness_multiverse.universe import predict_w_threshold"
   ]
  },
  {
   "cell_type": "code",
   "execution_count": 29,
   "id": "a7cf2e16",
   "metadata": {
    "execution": {
     "iopub.execute_input": "2025-07-23T14:29:42.305093Z",
     "iopub.status.busy": "2025-07-23T14:29:42.304270Z",
     "iopub.status.idle": "2025-07-23T14:29:43.918954Z",
     "shell.execute_reply": "2025-07-23T14:29:43.917777Z"
    },
    "papermill": {
     "duration": 1.638497,
     "end_time": "2025-07-23T14:29:43.921517",
     "exception": false,
     "start_time": "2025-07-23T14:29:42.283020",
     "status": "completed"
    },
    "tags": []
   },
   "outputs": [
    {
     "data": {
      "text/plain": [
       "0.8676736149816074"
      ]
     },
     "execution_count": 29,
     "metadata": {},
     "output_type": "execute_result"
    }
   ],
   "source": [
    "probs_test = model.predict_proba(X_test)\n",
    "\n",
    "'''\n",
    "Below code returns a boolean array (or binary 0/1 array depending on how it’s used) where each element \n",
    "is True if the probability of class 1 is greater than or equal to the threshold, and False otherwise.\n",
    "'''\n",
    "y_pred_default = predict_w_threshold(probs_test, 0.5)\n",
    "\n",
    "from sklearn.metrics import accuracy_score\n",
    "\n",
    "# Naive prediction\n",
    "accuracy_score(y_true = y_true, y_pred = y_pred_default)"
   ]
  },
  {
   "cell_type": "code",
   "execution_count": 30,
   "id": "081964c3",
   "metadata": {
    "execution": {
     "iopub.execute_input": "2025-07-23T14:29:43.983847Z",
     "iopub.status.busy": "2025-07-23T14:29:43.979545Z",
     "iopub.status.idle": "2025-07-23T14:29:46.100535Z",
     "shell.execute_reply": "2025-07-23T14:29:46.099447Z"
    },
    "papermill": {
     "duration": 2.159023,
     "end_time": "2025-07-23T14:29:46.102728",
     "exception": false,
     "start_time": "2025-07-23T14:29:43.943705",
     "status": "completed"
    },
    "tags": []
   },
   "outputs": [
    {
     "data": {
      "text/plain": [
       "array([0, 0, 0, ..., 0, 0, 0])"
      ]
     },
     "execution_count": 30,
     "metadata": {},
     "output_type": "execute_result"
    }
   ],
   "source": [
    "model.predict(X_test)"
   ]
  },
  {
   "cell_type": "markdown",
   "id": "56c9705b",
   "metadata": {
    "papermill": {
     "duration": 0.038775,
     "end_time": "2025-07-23T14:29:46.188118",
     "exception": false,
     "start_time": "2025-07-23T14:29:46.149343",
     "status": "completed"
    },
    "tags": []
   },
   "source": [
    "# Conformal Prediction"
   ]
  },
  {
   "cell_type": "code",
   "execution_count": 31,
   "id": "160ec6ff",
   "metadata": {
    "execution": {
     "iopub.execute_input": "2025-07-23T14:29:46.281566Z",
     "iopub.status.busy": "2025-07-23T14:29:46.280409Z",
     "iopub.status.idle": "2025-07-23T14:29:46.286269Z",
     "shell.execute_reply": "2025-07-23T14:29:46.285212Z"
    },
    "papermill": {
     "duration": 0.047181,
     "end_time": "2025-07-23T14:29:46.288236",
     "exception": false,
     "start_time": "2025-07-23T14:29:46.241055",
     "status": "completed"
    },
    "tags": []
   },
   "outputs": [],
   "source": [
    "# Miscoverage level for conformal prediction (10% allowed error rate => 90% target coverage)\n",
    "alpha = 0.1"
   ]
  },
  {
   "cell_type": "code",
   "execution_count": 32,
   "id": "eadf4555-3dd3-440e-8e35-f82a4ad9f855",
   "metadata": {
    "execution": {
     "iopub.execute_input": "2025-07-23T14:29:46.377179Z",
     "iopub.status.busy": "2025-07-23T14:29:46.376730Z",
     "iopub.status.idle": "2025-07-23T14:29:48.293171Z",
     "shell.execute_reply": "2025-07-23T14:29:48.292050Z"
    },
    "papermill": {
     "duration": 1.958458,
     "end_time": "2025-07-23T14:29:48.295810",
     "exception": false,
     "start_time": "2025-07-23T14:29:46.337352",
     "status": "completed"
    },
    "tags": []
   },
   "outputs": [],
   "source": [
    "probs_calib = model.predict_proba(X_calib)"
   ]
  },
  {
   "cell_type": "code",
   "execution_count": 33,
   "id": "2ed93547-6d5d-4983-9b36-1ecb300da49a",
   "metadata": {
    "execution": {
     "iopub.execute_input": "2025-07-23T14:29:48.375984Z",
     "iopub.status.busy": "2025-07-23T14:29:48.375532Z",
     "iopub.status.idle": "2025-07-23T14:29:48.382475Z",
     "shell.execute_reply": "2025-07-23T14:29:48.381380Z"
    },
    "papermill": {
     "duration": 0.054879,
     "end_time": "2025-07-23T14:29:48.386154",
     "exception": false,
     "start_time": "2025-07-23T14:29:48.331275",
     "status": "completed"
    },
    "tags": []
   },
   "outputs": [],
   "source": [
    "y_calib = y_calib.values.ravel().astype(int)"
   ]
  },
  {
   "cell_type": "code",
   "execution_count": 34,
   "id": "65d1320d-f588-4b38-9072-62af1ae97f7d",
   "metadata": {
    "execution": {
     "iopub.execute_input": "2025-07-23T14:29:48.480330Z",
     "iopub.status.busy": "2025-07-23T14:29:48.479873Z",
     "iopub.status.idle": "2025-07-23T14:29:48.489298Z",
     "shell.execute_reply": "2025-07-23T14:29:48.488106Z"
    },
    "papermill": {
     "duration": 0.049843,
     "end_time": "2025-07-23T14:29:48.491688",
     "exception": false,
     "start_time": "2025-07-23T14:29:48.441845",
     "status": "completed"
    },
    "tags": []
   },
   "outputs": [],
   "source": [
    "from fairness_multiverse.conformal import compute_nc_scores\n",
    "\n",
    "# Compute nonconformity scores on calibration set (1 - probability of true class)\n",
    "nc_scores = compute_nc_scores(probs_calib, y_calib)"
   ]
  },
  {
   "cell_type": "code",
   "execution_count": 35,
   "id": "df3b8ca3-53b7-43d5-9667-7c85da7aeda2",
   "metadata": {
    "execution": {
     "iopub.execute_input": "2025-07-23T14:29:48.599063Z",
     "iopub.status.busy": "2025-07-23T14:29:48.598550Z",
     "iopub.status.idle": "2025-07-23T14:29:48.607321Z",
     "shell.execute_reply": "2025-07-23T14:29:48.606290Z"
    },
    "papermill": {
     "duration": 0.075515,
     "end_time": "2025-07-23T14:29:48.613954",
     "exception": false,
     "start_time": "2025-07-23T14:29:48.538439",
     "status": "completed"
    },
    "tags": []
   },
   "outputs": [],
   "source": [
    "from fairness_multiverse.conformal import find_threshold\n",
    "\n",
    "# Find conformal threshold q_hat for the given alpha (split conformal method)\n",
    "q_hat = find_threshold(nc_scores, alpha)"
   ]
  },
  {
   "cell_type": "code",
   "execution_count": 36,
   "id": "4d29e6c1-0ef6-4aa4-b8fe-4fe79b0d033a",
   "metadata": {
    "execution": {
     "iopub.execute_input": "2025-07-23T14:29:48.711657Z",
     "iopub.status.busy": "2025-07-23T14:29:48.711174Z",
     "iopub.status.idle": "2025-07-23T14:29:48.719589Z",
     "shell.execute_reply": "2025-07-23T14:29:48.718480Z"
    },
    "papermill": {
     "duration": 0.056997,
     "end_time": "2025-07-23T14:29:48.721331",
     "exception": false,
     "start_time": "2025-07-23T14:29:48.664334",
     "status": "completed"
    },
    "tags": []
   },
   "outputs": [
    {
     "data": {
      "text/plain": [
       "0.6599999999999999"
      ]
     },
     "execution_count": 36,
     "metadata": {},
     "output_type": "execute_result"
    }
   ],
   "source": [
    "q_hat"
   ]
  },
  {
   "cell_type": "code",
   "execution_count": 37,
   "id": "92460794-cdac-4be2-ba28-f28c0515a6fb",
   "metadata": {
    "execution": {
     "iopub.execute_input": "2025-07-23T14:29:48.811413Z",
     "iopub.status.busy": "2025-07-23T14:29:48.810956Z",
     "iopub.status.idle": "2025-07-23T14:29:52.538071Z",
     "shell.execute_reply": "2025-07-23T14:29:52.536639Z"
    },
    "papermill": {
     "duration": 3.779839,
     "end_time": "2025-07-23T14:29:52.539852",
     "exception": false,
     "start_time": "2025-07-23T14:29:48.760013",
     "status": "completed"
    },
    "tags": []
   },
   "outputs": [],
   "source": [
    "from fairness_multiverse.conformal import predict_conformal_sets\n",
    "\n",
    "# Generate prediction sets for each test example\n",
    "pred_sets = predict_conformal_sets(model, X_test, q_hat)"
   ]
  },
  {
   "cell_type": "code",
   "execution_count": 38,
   "id": "d90c9a65-e6db-4f5d-80cd-e68fb7e46829",
   "metadata": {
    "execution": {
     "iopub.execute_input": "2025-07-23T14:29:52.674825Z",
     "iopub.status.busy": "2025-07-23T14:29:52.674377Z",
     "iopub.status.idle": "2025-07-23T14:29:52.680754Z",
     "shell.execute_reply": "2025-07-23T14:29:52.679579Z"
    },
    "papermill": {
     "duration": 0.089678,
     "end_time": "2025-07-23T14:29:52.682463",
     "exception": false,
     "start_time": "2025-07-23T14:29:52.592785",
     "status": "completed"
    },
    "tags": []
   },
   "outputs": [],
   "source": [
    "y_true = y_true.squeeze()"
   ]
  },
  {
   "cell_type": "code",
   "execution_count": 39,
   "id": "3a58a54a-1e68-46b9-927a-df01f18aebc8",
   "metadata": {
    "execution": {
     "iopub.execute_input": "2025-07-23T14:29:52.779269Z",
     "iopub.status.busy": "2025-07-23T14:29:52.778777Z",
     "iopub.status.idle": "2025-07-23T14:29:53.825928Z",
     "shell.execute_reply": "2025-07-23T14:29:53.824663Z"
    },
    "papermill": {
     "duration": 1.102714,
     "end_time": "2025-07-23T14:29:53.827823",
     "exception": false,
     "start_time": "2025-07-23T14:29:52.725109",
     "status": "completed"
    },
    "tags": []
   },
   "outputs": [],
   "source": [
    "from fairness_multiverse.conformal import evaluate_sets\n",
    "\n",
    "# Evaluate coverage and average set size on test data\n",
    "metrics = evaluate_sets(pred_sets, y_true)"
   ]
  },
  {
   "cell_type": "code",
   "execution_count": 40,
   "id": "5ce0a5cb-201f-45a0-ade5-94c7f0bd6095",
   "metadata": {
    "execution": {
     "iopub.execute_input": "2025-07-23T14:29:53.899454Z",
     "iopub.status.busy": "2025-07-23T14:29:53.898345Z",
     "iopub.status.idle": "2025-07-23T14:29:53.908305Z",
     "shell.execute_reply": "2025-07-23T14:29:53.907071Z"
    },
    "papermill": {
     "duration": 0.076683,
     "end_time": "2025-07-23T14:29:53.925050",
     "exception": false,
     "start_time": "2025-07-23T14:29:53.848367",
     "status": "completed"
    },
    "tags": []
   },
   "outputs": [
    {
     "data": {
      "text/plain": [
       "{'coverage': 0.9173447776167651, 'avg_size': 1.1461152602831346}"
      ]
     },
     "execution_count": 40,
     "metadata": {},
     "output_type": "execute_result"
    }
   ],
   "source": [
    "metrics"
   ]
  },
  {
   "cell_type": "code",
   "execution_count": 41,
   "id": "9b9a838d-31c9-430b-ae14-12baee460d17",
   "metadata": {
    "execution": {
     "iopub.execute_input": "2025-07-23T14:29:54.072962Z",
     "iopub.status.busy": "2025-07-23T14:29:54.072497Z",
     "iopub.status.idle": "2025-07-23T14:29:54.079530Z",
     "shell.execute_reply": "2025-07-23T14:29:54.078479Z"
    },
    "papermill": {
     "duration": 0.093174,
     "end_time": "2025-07-23T14:29:54.083217",
     "exception": false,
     "start_time": "2025-07-23T14:29:53.990043",
     "status": "completed"
    },
    "tags": []
   },
   "outputs": [],
   "source": [
    "example_universe = universe.copy()\n",
    "universe_model = example_universe.get(\"model\")\n",
    "universe_exclude_features = example_universe.get(\"exclude_features\")\n",
    "universe_exclude_subgroups = example_universe.get(\"exclude_subgroups\")\n",
    "universe_scale = example_universe.get(\"scale\")"
   ]
  },
  {
   "cell_type": "code",
   "execution_count": 42,
   "id": "f4b6a8ac-9dc0-4245-8a91-5b3b5999c4f9",
   "metadata": {
    "execution": {
     "iopub.execute_input": "2025-07-23T14:29:54.186863Z",
     "iopub.status.busy": "2025-07-23T14:29:54.186417Z",
     "iopub.status.idle": "2025-07-23T14:29:54.193515Z",
     "shell.execute_reply": "2025-07-23T14:29:54.192417Z"
    },
    "papermill": {
     "duration": 0.071092,
     "end_time": "2025-07-23T14:29:54.197330",
     "exception": false,
     "start_time": "2025-07-23T14:29:54.126238",
     "status": "completed"
    },
    "tags": []
   },
   "outputs": [],
   "source": [
    "cp_metrics_dict = {\n",
    "    \"universe_id\": [universe_id],\n",
    "    \"universe_model\": [universe_model],\n",
    "    \"universe_exclude_features\": [universe_exclude_features],\n",
    "    \"universe_exclude_subgroups\": [universe_exclude_subgroups],\n",
    "    \"universe_scale\": [universe_scale],\n",
    "    \"q_hat\": [q_hat],\n",
    "    \"coverage\": [metrics[\"coverage\"]],\n",
    "    \"avg_size\": [metrics[\"avg_size\"]],\n",
    "}"
   ]
  },
  {
   "cell_type": "code",
   "execution_count": 43,
   "id": "908acbb1-0371-4915-85ca-3fa520d2efe2",
   "metadata": {
    "execution": {
     "iopub.execute_input": "2025-07-23T14:29:54.301363Z",
     "iopub.status.busy": "2025-07-23T14:29:54.300906Z",
     "iopub.status.idle": "2025-07-23T14:29:54.309479Z",
     "shell.execute_reply": "2025-07-23T14:29:54.308244Z"
    },
    "papermill": {
     "duration": 0.037472,
     "end_time": "2025-07-23T14:29:54.314279",
     "exception": false,
     "start_time": "2025-07-23T14:29:54.276807",
     "status": "completed"
    },
    "tags": []
   },
   "outputs": [
    {
     "data": {
      "text/plain": [
       "{'universe_id': ['ca7e9c9ff3dc9765802ba378fab8b1bf'],\n",
       " 'universe_model': ['rf'],\n",
       " 'universe_exclude_features': ['age'],\n",
       " 'universe_exclude_subgroups': ['keep-all'],\n",
       " 'universe_scale': ['scale'],\n",
       " 'q_hat': [0.6599999999999999],\n",
       " 'coverage': [0.9173447776167651],\n",
       " 'avg_size': [1.1461152602831346]}"
      ]
     },
     "execution_count": 43,
     "metadata": {},
     "output_type": "execute_result"
    }
   ],
   "source": [
    "cp_metrics_dict"
   ]
  },
  {
   "cell_type": "code",
   "execution_count": 44,
   "id": "33007efc-14e9-4ec6-97ac-56a455c82265",
   "metadata": {
    "execution": {
     "iopub.execute_input": "2025-07-23T14:29:54.362313Z",
     "iopub.status.busy": "2025-07-23T14:29:54.361854Z",
     "iopub.status.idle": "2025-07-23T14:29:54.370090Z",
     "shell.execute_reply": "2025-07-23T14:29:54.369007Z"
    },
    "papermill": {
     "duration": 0.036204,
     "end_time": "2025-07-23T14:29:54.373534",
     "exception": false,
     "start_time": "2025-07-23T14:29:54.337330",
     "status": "completed"
    },
    "tags": []
   },
   "outputs": [],
   "source": [
    "cp_metrics_df = pd.DataFrame(cp_metrics_dict)"
   ]
  },
  {
   "cell_type": "code",
   "execution_count": 45,
   "id": "db12611b-57b2-4910-b9d0-355adfd6e7bf",
   "metadata": {
    "execution": {
     "iopub.execute_input": "2025-07-23T14:29:54.419782Z",
     "iopub.status.busy": "2025-07-23T14:29:54.419330Z",
     "iopub.status.idle": "2025-07-23T14:29:54.443996Z",
     "shell.execute_reply": "2025-07-23T14:29:54.442977Z"
    },
    "papermill": {
     "duration": 0.049943,
     "end_time": "2025-07-23T14:29:54.446038",
     "exception": false,
     "start_time": "2025-07-23T14:29:54.396095",
     "status": "completed"
    },
    "tags": []
   },
   "outputs": [
    {
     "data": {
      "text/html": [
       "<div>\n",
       "<style scoped>\n",
       "    .dataframe tbody tr th:only-of-type {\n",
       "        vertical-align: middle;\n",
       "    }\n",
       "\n",
       "    .dataframe tbody tr th {\n",
       "        vertical-align: top;\n",
       "    }\n",
       "\n",
       "    .dataframe thead th {\n",
       "        text-align: right;\n",
       "    }\n",
       "</style>\n",
       "<table border=\"1\" class=\"dataframe\">\n",
       "  <thead>\n",
       "    <tr style=\"text-align: right;\">\n",
       "      <th></th>\n",
       "      <th>universe_id</th>\n",
       "      <th>universe_model</th>\n",
       "      <th>universe_exclude_features</th>\n",
       "      <th>universe_exclude_subgroups</th>\n",
       "      <th>universe_scale</th>\n",
       "      <th>q_hat</th>\n",
       "      <th>coverage</th>\n",
       "      <th>avg_size</th>\n",
       "    </tr>\n",
       "  </thead>\n",
       "  <tbody>\n",
       "    <tr>\n",
       "      <th>0</th>\n",
       "      <td>ca7e9c9ff3dc9765802ba378fab8b1bf</td>\n",
       "      <td>rf</td>\n",
       "      <td>age</td>\n",
       "      <td>keep-all</td>\n",
       "      <td>scale</td>\n",
       "      <td>0.66</td>\n",
       "      <td>0.917345</td>\n",
       "      <td>1.146115</td>\n",
       "    </tr>\n",
       "  </tbody>\n",
       "</table>\n",
       "</div>"
      ],
      "text/plain": [
       "                        universe_id universe_model universe_exclude_features  \\\n",
       "0  ca7e9c9ff3dc9765802ba378fab8b1bf             rf                       age   \n",
       "\n",
       "  universe_exclude_subgroups universe_scale  q_hat  coverage  avg_size  \n",
       "0                   keep-all          scale   0.66  0.917345  1.146115  "
      ]
     },
     "execution_count": 45,
     "metadata": {},
     "output_type": "execute_result"
    }
   ],
   "source": [
    "cp_metrics_df"
   ]
  },
  {
   "cell_type": "code",
   "execution_count": 46,
   "id": "b7fbde55-a0a1-47e4-9af6-fe4a17fa8c61",
   "metadata": {
    "execution": {
     "iopub.execute_input": "2025-07-23T14:29:54.512690Z",
     "iopub.status.busy": "2025-07-23T14:29:54.512195Z",
     "iopub.status.idle": "2025-07-23T14:29:54.519775Z",
     "shell.execute_reply": "2025-07-23T14:29:54.518553Z"
    },
    "papermill": {
     "duration": 0.052376,
     "end_time": "2025-07-23T14:29:54.522283",
     "exception": false,
     "start_time": "2025-07-23T14:29:54.469907",
     "status": "completed"
    },
    "tags": []
   },
   "outputs": [],
   "source": [
    "# Conditional Coverage & looking at subgroups"
   ]
  },
  {
   "cell_type": "code",
   "execution_count": 47,
   "id": "027ae886-68dd-4141-96c7-805a5450e1ef",
   "metadata": {
    "execution": {
     "iopub.execute_input": "2025-07-23T14:29:54.569635Z",
     "iopub.status.busy": "2025-07-23T14:29:54.569187Z",
     "iopub.status.idle": "2025-07-23T14:29:55.033657Z",
     "shell.execute_reply": "2025-07-23T14:29:55.032109Z"
    },
    "papermill": {
     "duration": 0.490933,
     "end_time": "2025-07-23T14:29:55.036603",
     "exception": false,
     "start_time": "2025-07-23T14:29:54.545670",
     "status": "completed"
    },
    "tags": []
   },
   "outputs": [],
   "source": [
    "from fairness_multiverse.conformal import build_cp_groups\n",
    "\n",
    "cp_groups_df = build_cp_groups(pred_sets, y_true, X_test.index, org_test)\n",
    "#needs universe_id and setting"
   ]
  },
  {
   "cell_type": "code",
   "execution_count": 48,
   "id": "c3b92545-903e-4839-89af-0f057907d7d6",
   "metadata": {
    "execution": {
     "iopub.execute_input": "2025-07-23T14:29:55.084444Z",
     "iopub.status.busy": "2025-07-23T14:29:55.083442Z",
     "iopub.status.idle": "2025-07-23T14:29:57.141939Z",
     "shell.execute_reply": "2025-07-23T14:29:57.140623Z"
    },
    "papermill": {
     "duration": 2.084137,
     "end_time": "2025-07-23T14:29:57.143994",
     "exception": false,
     "start_time": "2025-07-23T14:29:55.059857",
     "status": "completed"
    },
    "tags": []
   },
   "outputs": [],
   "source": [
    "# Define covered = 1 if true_label is in the predicted set\n",
    "cp_groups_df['covered'] = cp_groups_df.apply(\n",
    "    lambda r: int(r['true_label'] in r['pred_set']),\n",
    "    axis=1\n",
    ")"
   ]
  },
  {
   "cell_type": "code",
   "execution_count": 49,
   "id": "338ff529-1a6b-4b87-a931-8e4788d52aad",
   "metadata": {
    "execution": {
     "iopub.execute_input": "2025-07-23T14:29:57.247801Z",
     "iopub.status.busy": "2025-07-23T14:29:57.246674Z",
     "iopub.status.idle": "2025-07-23T14:29:57.252635Z",
     "shell.execute_reply": "2025-07-23T14:29:57.251627Z"
    },
    "papermill": {
     "duration": 0.065483,
     "end_time": "2025-07-23T14:29:57.254289",
     "exception": false,
     "start_time": "2025-07-23T14:29:57.188806",
     "status": "completed"
    },
    "tags": []
   },
   "outputs": [],
   "source": [
    "#cp_groups_df"
   ]
  },
  {
   "cell_type": "code",
   "execution_count": 50,
   "id": "90032e27-66df-4540-9169-4e89cfbaa758",
   "metadata": {
    "execution": {
     "iopub.execute_input": "2025-07-23T14:29:57.300368Z",
     "iopub.status.busy": "2025-07-23T14:29:57.299295Z",
     "iopub.status.idle": "2025-07-23T14:29:57.327018Z",
     "shell.execute_reply": "2025-07-23T14:29:57.325584Z"
    },
    "papermill": {
     "duration": 0.056102,
     "end_time": "2025-07-23T14:29:57.330711",
     "exception": false,
     "start_time": "2025-07-23T14:29:57.274609",
     "status": "completed"
    },
    "tags": []
   },
   "outputs": [],
   "source": [
    "subgroups = ['frau1','nongerman','nongerman_male','nongerman_female']\n",
    "\n",
    "# Conditional coverage for subgroup==1\n",
    "cond_coverage = {\n",
    "    g: cp_groups_df.loc[cp_groups_df[g]==1, 'covered'].mean()\n",
    "    for g in subgroups\n",
    "}"
   ]
  },
  {
   "cell_type": "code",
   "execution_count": 51,
   "id": "1e348fb1-b9c3-45bc-ba23-f016827a7e0d",
   "metadata": {
    "execution": {
     "iopub.execute_input": "2025-07-23T14:29:57.447259Z",
     "iopub.status.busy": "2025-07-23T14:29:57.446825Z",
     "iopub.status.idle": "2025-07-23T14:29:57.455053Z",
     "shell.execute_reply": "2025-07-23T14:29:57.454043Z"
    },
    "papermill": {
     "duration": 0.088999,
     "end_time": "2025-07-23T14:29:57.456742",
     "exception": false,
     "start_time": "2025-07-23T14:29:57.367743",
     "status": "completed"
    },
    "tags": []
   },
   "outputs": [
    {
     "data": {
      "text/plain": [
       "{'frau1': 0.9172395201509638,\n",
       " 'nongerman': 0.913041037444563,\n",
       " 'nongerman_male': 0.9260560208952535,\n",
       " 'nongerman_female': 0.89150521609538}"
      ]
     },
     "execution_count": 51,
     "metadata": {},
     "output_type": "execute_result"
    }
   ],
   "source": [
    "cond_coverage"
   ]
  },
  {
   "cell_type": "code",
   "execution_count": 52,
   "id": "f5093324-c3dd-4d63-bc4c-8d945e5c8bbb",
   "metadata": {
    "execution": {
     "iopub.execute_input": "2025-07-23T14:29:57.540762Z",
     "iopub.status.busy": "2025-07-23T14:29:57.540296Z",
     "iopub.status.idle": "2025-07-23T14:29:57.548715Z",
     "shell.execute_reply": "2025-07-23T14:29:57.547655Z"
    },
    "papermill": {
     "duration": 0.052587,
     "end_time": "2025-07-23T14:29:57.552024",
     "exception": false,
     "start_time": "2025-07-23T14:29:57.499437",
     "status": "completed"
    },
    "tags": []
   },
   "outputs": [],
   "source": [
    "for subgroup, cov in cond_coverage.items():\n",
    "    cp_metrics_df[f\"cov_{subgroup}\"] = cov"
   ]
  },
  {
   "cell_type": "code",
   "execution_count": 53,
   "id": "6e872e10-dbe5-49e8-b554-5030c98ff75d",
   "metadata": {
    "execution": {
     "iopub.execute_input": "2025-07-23T14:29:57.601460Z",
     "iopub.status.busy": "2025-07-23T14:29:57.601010Z",
     "iopub.status.idle": "2025-07-23T14:29:57.626504Z",
     "shell.execute_reply": "2025-07-23T14:29:57.625216Z"
    },
    "papermill": {
     "duration": 0.052022,
     "end_time": "2025-07-23T14:29:57.628448",
     "exception": false,
     "start_time": "2025-07-23T14:29:57.576426",
     "status": "completed"
    },
    "tags": []
   },
   "outputs": [
    {
     "data": {
      "text/html": [
       "<div>\n",
       "<style scoped>\n",
       "    .dataframe tbody tr th:only-of-type {\n",
       "        vertical-align: middle;\n",
       "    }\n",
       "\n",
       "    .dataframe tbody tr th {\n",
       "        vertical-align: top;\n",
       "    }\n",
       "\n",
       "    .dataframe thead th {\n",
       "        text-align: right;\n",
       "    }\n",
       "</style>\n",
       "<table border=\"1\" class=\"dataframe\">\n",
       "  <thead>\n",
       "    <tr style=\"text-align: right;\">\n",
       "      <th></th>\n",
       "      <th>universe_id</th>\n",
       "      <th>universe_model</th>\n",
       "      <th>universe_exclude_features</th>\n",
       "      <th>universe_exclude_subgroups</th>\n",
       "      <th>universe_scale</th>\n",
       "      <th>q_hat</th>\n",
       "      <th>coverage</th>\n",
       "      <th>avg_size</th>\n",
       "      <th>cov_frau1</th>\n",
       "      <th>cov_nongerman</th>\n",
       "      <th>cov_nongerman_male</th>\n",
       "      <th>cov_nongerman_female</th>\n",
       "    </tr>\n",
       "  </thead>\n",
       "  <tbody>\n",
       "    <tr>\n",
       "      <th>0</th>\n",
       "      <td>ca7e9c9ff3dc9765802ba378fab8b1bf</td>\n",
       "      <td>rf</td>\n",
       "      <td>age</td>\n",
       "      <td>keep-all</td>\n",
       "      <td>scale</td>\n",
       "      <td>0.66</td>\n",
       "      <td>0.917345</td>\n",
       "      <td>1.146115</td>\n",
       "      <td>0.91724</td>\n",
       "      <td>0.913041</td>\n",
       "      <td>0.926056</td>\n",
       "      <td>0.891505</td>\n",
       "    </tr>\n",
       "  </tbody>\n",
       "</table>\n",
       "</div>"
      ],
      "text/plain": [
       "                        universe_id universe_model universe_exclude_features  \\\n",
       "0  ca7e9c9ff3dc9765802ba378fab8b1bf             rf                       age   \n",
       "\n",
       "  universe_exclude_subgroups universe_scale  q_hat  coverage  avg_size  \\\n",
       "0                   keep-all          scale   0.66  0.917345  1.146115   \n",
       "\n",
       "   cov_frau1  cov_nongerman  cov_nongerman_male  cov_nongerman_female  \n",
       "0    0.91724       0.913041            0.926056              0.891505  "
      ]
     },
     "execution_count": 53,
     "metadata": {},
     "output_type": "execute_result"
    }
   ],
   "source": [
    "cp_metrics_df"
   ]
  },
  {
   "cell_type": "markdown",
   "id": "33774451",
   "metadata": {
    "papermill": {
     "duration": 0.023988,
     "end_time": "2025-07-23T14:29:57.677993",
     "exception": false,
     "start_time": "2025-07-23T14:29:57.654005",
     "status": "completed"
    },
    "tags": []
   },
   "source": [
    "# (Fairness) Metrics"
   ]
  },
  {
   "cell_type": "code",
   "execution_count": 54,
   "id": "debc5d62",
   "metadata": {
    "execution": {
     "iopub.execute_input": "2025-07-23T14:29:57.729698Z",
     "iopub.status.busy": "2025-07-23T14:29:57.729233Z",
     "iopub.status.idle": "2025-07-23T14:29:57.773068Z",
     "shell.execute_reply": "2025-07-23T14:29:57.771811Z"
    },
    "papermill": {
     "duration": 0.073204,
     "end_time": "2025-07-23T14:29:57.775448",
     "exception": false,
     "start_time": "2025-07-23T14:29:57.702244",
     "status": "completed"
    },
    "tags": []
   },
   "outputs": [],
   "source": [
    "# do I need to include maxdeutsch1.missing?\n",
    "\n",
    "import numpy as np\n",
    "\n",
    "colname_to_bin = \"maxdeutsch1\"\n",
    "majority_value = org_train[colname_to_bin].mode()[0]\n",
    "\n",
    "org_test[\"majmin\"] = np.where(org_test[colname_to_bin] == majority_value, \"majority\", \"minority\")"
   ]
  },
  {
   "cell_type": "code",
   "execution_count": 55,
   "id": "06a50de5",
   "metadata": {
    "execution": {
     "iopub.execute_input": "2025-07-23T14:29:57.858335Z",
     "iopub.status.busy": "2025-07-23T14:29:57.857774Z",
     "iopub.status.idle": "2025-07-23T14:30:01.063391Z",
     "shell.execute_reply": "2025-07-23T14:30:01.062419Z"
    },
    "papermill": {
     "duration": 3.256703,
     "end_time": "2025-07-23T14:30:01.065438",
     "exception": false,
     "start_time": "2025-07-23T14:29:57.808735",
     "status": "completed"
    },
    "tags": []
   },
   "outputs": [],
   "source": [
    "example_universe = universe.copy()\n",
    "example_universe[\"cutoff\"] = example_universe[\"cutoff\"][0]\n",
    "example_universe[\"eval_fairness_grouping\"] = example_universe[\"eval_fairness_grouping\"][0]\n",
    "fairness_dict, metric_frame = universe_analysis.compute_metrics(\n",
    "    example_universe,\n",
    "    y_pred_prob=probs_test,\n",
    "    y_test=y_true,\n",
    "    org_test=org_test,\n",
    ")"
   ]
  },
  {
   "cell_type": "markdown",
   "id": "f95d4e02",
   "metadata": {
    "papermill": {
     "duration": 0.023457,
     "end_time": "2025-07-23T14:30:01.115281",
     "exception": false,
     "start_time": "2025-07-23T14:30:01.091824",
     "status": "completed"
    },
    "tags": []
   },
   "source": [
    "# Overall"
   ]
  },
  {
   "cell_type": "markdown",
   "id": "bdee4871",
   "metadata": {
    "papermill": {
     "duration": 0.023729,
     "end_time": "2025-07-23T14:30:01.162048",
     "exception": false,
     "start_time": "2025-07-23T14:30:01.138319",
     "status": "completed"
    },
    "tags": []
   },
   "source": [
    "Fairness\n",
    "Main fairness target: Equalized Odds. Seems to be a better fit than equal opportunity, since we're not only interested in Y = 1. Seems to be a better fit than demographic parity, since we also care about accuracy, not just equal distribution of preds.\n",
    "\n",
    "Pick column for computation of fairness metrics\n",
    "\n",
    "Performance\n",
    "Overall performance measures, most interesting in relation to the measures split by group below"
   ]
  },
  {
   "cell_type": "code",
   "execution_count": 56,
   "id": "c4e067c6",
   "metadata": {
    "execution": {
     "iopub.execute_input": "2025-07-23T14:30:01.211950Z",
     "iopub.status.busy": "2025-07-23T14:30:01.210977Z",
     "iopub.status.idle": "2025-07-23T14:30:01.220402Z",
     "shell.execute_reply": "2025-07-23T14:30:01.219246Z"
    },
    "papermill": {
     "duration": 0.036561,
     "end_time": "2025-07-23T14:30:01.222213",
     "exception": false,
     "start_time": "2025-07-23T14:30:01.185652",
     "status": "completed"
    },
    "tags": []
   },
   "outputs": [
    {
     "data": {
      "text/plain": [
       "accuracy                   0.217768\n",
       "balanced accuracy          0.542361\n",
       "f1                         0.243048\n",
       "precision                  0.138747\n",
       "false positive rate        0.894248\n",
       "false negative rate        0.021029\n",
       "selection rate             0.905116\n",
       "count                  89710.000000\n",
       "dtype: float64"
      ]
     },
     "execution_count": 56,
     "metadata": {},
     "output_type": "execute_result"
    }
   ],
   "source": [
    "metric_frame.overall"
   ]
  },
  {
   "cell_type": "markdown",
   "id": "e968fe9d",
   "metadata": {
    "papermill": {
     "duration": 0.024629,
     "end_time": "2025-07-23T14:30:01.271953",
     "exception": false,
     "start_time": "2025-07-23T14:30:01.247324",
     "status": "completed"
    },
    "tags": []
   },
   "source": [
    "By Group"
   ]
  },
  {
   "cell_type": "code",
   "execution_count": 57,
   "id": "ec325bce",
   "metadata": {
    "execution": {
     "iopub.execute_input": "2025-07-23T14:30:01.322848Z",
     "iopub.status.busy": "2025-07-23T14:30:01.322112Z",
     "iopub.status.idle": "2025-07-23T14:30:01.339526Z",
     "shell.execute_reply": "2025-07-23T14:30:01.338489Z"
    },
    "papermill": {
     "duration": 0.04492,
     "end_time": "2025-07-23T14:30:01.341228",
     "exception": false,
     "start_time": "2025-07-23T14:30:01.296308",
     "status": "completed"
    },
    "tags": []
   },
   "outputs": [
    {
     "data": {
      "text/html": [
       "<div>\n",
       "<style scoped>\n",
       "    .dataframe tbody tr th:only-of-type {\n",
       "        vertical-align: middle;\n",
       "    }\n",
       "\n",
       "    .dataframe tbody tr th {\n",
       "        vertical-align: top;\n",
       "    }\n",
       "\n",
       "    .dataframe thead th {\n",
       "        text-align: right;\n",
       "    }\n",
       "</style>\n",
       "<table border=\"1\" class=\"dataframe\">\n",
       "  <thead>\n",
       "    <tr style=\"text-align: right;\">\n",
       "      <th></th>\n",
       "      <th>accuracy</th>\n",
       "      <th>balanced accuracy</th>\n",
       "      <th>f1</th>\n",
       "      <th>precision</th>\n",
       "      <th>false positive rate</th>\n",
       "      <th>false negative rate</th>\n",
       "      <th>selection rate</th>\n",
       "      <th>count</th>\n",
       "    </tr>\n",
       "    <tr>\n",
       "      <th>majmin</th>\n",
       "      <th></th>\n",
       "      <th></th>\n",
       "      <th></th>\n",
       "      <th></th>\n",
       "      <th></th>\n",
       "      <th></th>\n",
       "      <th></th>\n",
       "      <th></th>\n",
       "    </tr>\n",
       "  </thead>\n",
       "  <tbody>\n",
       "    <tr>\n",
       "      <th>majority</th>\n",
       "      <td>0.215368</td>\n",
       "      <td>0.542247</td>\n",
       "      <td>0.249409</td>\n",
       "      <td>0.142749</td>\n",
       "      <td>0.902049</td>\n",
       "      <td>0.013457</td>\n",
       "      <td>0.913214</td>\n",
       "      <td>69170.0</td>\n",
       "    </tr>\n",
       "    <tr>\n",
       "      <th>minority</th>\n",
       "      <td>0.225852</td>\n",
       "      <td>0.540634</td>\n",
       "      <td>0.220501</td>\n",
       "      <td>0.124730</td>\n",
       "      <td>0.868479</td>\n",
       "      <td>0.050253</td>\n",
       "      <td>0.877848</td>\n",
       "      <td>20540.0</td>\n",
       "    </tr>\n",
       "  </tbody>\n",
       "</table>\n",
       "</div>"
      ],
      "text/plain": [
       "          accuracy  balanced accuracy        f1  precision  \\\n",
       "majmin                                                       \n",
       "majority  0.215368           0.542247  0.249409   0.142749   \n",
       "minority  0.225852           0.540634  0.220501   0.124730   \n",
       "\n",
       "          false positive rate  false negative rate  selection rate    count  \n",
       "majmin                                                                       \n",
       "majority             0.902049             0.013457        0.913214  69170.0  \n",
       "minority             0.868479             0.050253        0.877848  20540.0  "
      ]
     },
     "execution_count": 57,
     "metadata": {},
     "output_type": "execute_result"
    }
   ],
   "source": [
    "metric_frame.by_group"
   ]
  },
  {
   "cell_type": "code",
   "execution_count": 58,
   "id": "a9ddbe63",
   "metadata": {
    "execution": {
     "iopub.execute_input": "2025-07-23T14:30:01.393460Z",
     "iopub.status.busy": "2025-07-23T14:30:01.392718Z",
     "iopub.status.idle": "2025-07-23T14:30:04.067172Z",
     "shell.execute_reply": "2025-07-23T14:30:04.066136Z"
    },
    "papermill": {
     "duration": 2.702351,
     "end_time": "2025-07-23T14:30:04.069318",
     "exception": false,
     "start_time": "2025-07-23T14:30:01.366967",
     "status": "completed"
    },
    "tags": []
   },
   "outputs": [
    {
     "data": {
      "text/plain": [
       "array([[<Axes: title={'center': 'accuracy'}, xlabel='majmin'>,\n",
       "        <Axes: title={'center': 'balanced accuracy'}, xlabel='majmin'>,\n",
       "        <Axes: title={'center': 'f1'}, xlabel='majmin'>],\n",
       "       [<Axes: title={'center': 'precision'}, xlabel='majmin'>,\n",
       "        <Axes: title={'center': 'false positive rate'}, xlabel='majmin'>,\n",
       "        <Axes: title={'center': 'false negative rate'}, xlabel='majmin'>],\n",
       "       [<Axes: title={'center': 'selection rate'}, xlabel='majmin'>,\n",
       "        <Axes: title={'center': 'count'}, xlabel='majmin'>,\n",
       "        <Axes: xlabel='majmin'>]], dtype=object)"
      ]
     },
     "execution_count": 58,
     "metadata": {},
     "output_type": "execute_result"
    },
    {
     "data": {
      "image/png": "[encoded data removed]",
      "text/plain": [
       "<Figure size 1200x800 with 9 Axes>"
      ]
     },
     "metadata": {},
     "output_type": "display_data"
    }
   ],
   "source": [
    "# In a graphic\n",
    "metric_frame.by_group.plot.bar(\n",
    "    subplots=True,\n",
    "    layout=[3, 3],\n",
    "    legend=False,\n",
    "    figsize=[12, 8],\n",
    "    title=\"Show all metrics\",\n",
    ")"
   ]
  },
  {
   "cell_type": "markdown",
   "id": "f57a0bac",
   "metadata": {
    "papermill": {
     "duration": 0.026107,
     "end_time": "2025-07-23T14:30:04.124620",
     "exception": false,
     "start_time": "2025-07-23T14:30:04.098513",
     "status": "completed"
    },
    "tags": []
   },
   "source": [
    "# Final Output"
   ]
  },
  {
   "cell_type": "code",
   "execution_count": 59,
   "id": "96d280a3",
   "metadata": {
    "execution": {
     "iopub.execute_input": "2025-07-23T14:30:04.179890Z",
     "iopub.status.busy": "2025-07-23T14:30:04.179124Z",
     "iopub.status.idle": "2025-07-23T14:30:04.188344Z",
     "shell.execute_reply": "2025-07-23T14:30:04.187226Z"
    },
    "papermill": {
     "duration": 0.039251,
     "end_time": "2025-07-23T14:30:04.190227",
     "exception": false,
     "start_time": "2025-07-23T14:30:04.150976",
     "status": "completed"
    },
    "tags": []
   },
   "outputs": [
    {
     "data": {
      "text/plain": [
       "4"
      ]
     },
     "execution_count": 59,
     "metadata": {},
     "output_type": "execute_result"
    }
   ],
   "source": [
    "sub_universes = universe_analysis.generate_sub_universes()\n",
    "len(sub_universes)"
   ]
  },
  {
   "cell_type": "code",
   "execution_count": 60,
   "id": "92adf7ba",
   "metadata": {
    "execution": {
     "iopub.execute_input": "2025-07-23T14:30:04.245350Z",
     "iopub.status.busy": "2025-07-23T14:30:04.244799Z",
     "iopub.status.idle": "2025-07-23T14:30:04.251657Z",
     "shell.execute_reply": "2025-07-23T14:30:04.250632Z"
    },
    "papermill": {
     "duration": 0.036217,
     "end_time": "2025-07-23T14:30:04.253517",
     "exception": false,
     "start_time": "2025-07-23T14:30:04.217300",
     "status": "completed"
    },
    "tags": []
   },
   "outputs": [],
   "source": [
    "def filter_sub_universe_data(sub_universe, org_test):\n",
    "    # Keep all rows — no filtering\n",
    "    keep_rows_mask = np.ones(org_test.shape[0], dtype=bool)\n",
    "\n",
    "    print(f\"[INFO] Keeping all rows: {keep_rows_mask.sum()} rows retained.\")\n",
    "    return keep_rows_mask"
   ]
  },
  {
   "cell_type": "code",
   "execution_count": 61,
   "id": "4a759155",
   "metadata": {
    "execution": {
     "iopub.execute_input": "2025-07-23T14:30:04.287317Z",
     "iopub.status.busy": "2025-07-23T14:30:04.286508Z",
     "iopub.status.idle": "2025-07-23T14:30:14.059012Z",
     "shell.execute_reply": "2025-07-23T14:30:14.057792Z"
    },
    "papermill": {
     "duration": 9.790887,
     "end_time": "2025-07-23T14:30:14.060864",
     "exception": false,
     "start_time": "2025-07-23T14:30:04.269977",
     "status": "completed"
    },
    "tags": []
   },
   "outputs": [
    {
     "name": "stdout",
     "output_type": "stream",
     "text": [
      "Stopping execution_time clock.\n",
      "[INFO] Keeping all rows: 89710 rows retained.\n"
     ]
    },
    {
     "name": "stdout",
     "output_type": "stream",
     "text": [
      "[INFO] Keeping all rows: 89710 rows retained.\n"
     ]
    },
    {
     "name": "stdout",
     "output_type": "stream",
     "text": [
      "[INFO] Keeping all rows: 89710 rows retained.\n"
     ]
    },
    {
     "name": "stdout",
     "output_type": "stream",
     "text": [
      "[INFO] Keeping all rows: 89710 rows retained.\n"
     ]
    },
    {
     "data": {
      "text/html": [
       "<div>\n",
       "<style scoped>\n",
       "    .dataframe tbody tr th:only-of-type {\n",
       "        vertical-align: middle;\n",
       "    }\n",
       "\n",
       "    .dataframe tbody tr th {\n",
       "        vertical-align: top;\n",
       "    }\n",
       "\n",
       "    .dataframe thead th {\n",
       "        text-align: right;\n",
       "    }\n",
       "</style>\n",
       "<table border=\"1\" class=\"dataframe\">\n",
       "  <thead>\n",
       "    <tr style=\"text-align: right;\">\n",
       "      <th></th>\n",
       "      <th>run_no</th>\n",
       "      <th>universe_id</th>\n",
       "      <th>universe_settings</th>\n",
       "      <th>execution_time</th>\n",
       "      <th>test_size_n</th>\n",
       "      <th>test_size_frac</th>\n",
       "      <th>fair_main_equalized_odds_difference</th>\n",
       "      <th>fair_main_equalized_odds_ratio</th>\n",
       "      <th>fair_main_demographic_parity_difference</th>\n",
       "      <th>fair_main_demographic_parity_ratio</th>\n",
       "      <th>...</th>\n",
       "      <th>perf_grp_precision_0</th>\n",
       "      <th>perf_grp_precision_1</th>\n",
       "      <th>perf_grp_false positive rate_0</th>\n",
       "      <th>perf_grp_false positive rate_1</th>\n",
       "      <th>perf_grp_false negative rate_0</th>\n",
       "      <th>perf_grp_false negative rate_1</th>\n",
       "      <th>perf_grp_selection rate_0</th>\n",
       "      <th>perf_grp_selection rate_1</th>\n",
       "      <th>perf_grp_count_0</th>\n",
       "      <th>perf_grp_count_1</th>\n",
       "    </tr>\n",
       "  </thead>\n",
       "  <tbody>\n",
       "    <tr>\n",
       "      <th>0</th>\n",
       "      <td>9</td>\n",
       "      <td>ca7e9c9ff3dc9765802ba378fab8b1bf</td>\n",
       "      <td>{\"cutoff\": \"quantile_0.1\", \"eval_fairness_grou...</td>\n",
       "      <td>37.002049</td>\n",
       "      <td>89710</td>\n",
       "      <td>1.0</td>\n",
       "      <td>0.036796</td>\n",
       "      <td>0.962702</td>\n",
       "      <td>0.035366</td>\n",
       "      <td>0.961273</td>\n",
       "      <td>...</td>\n",
       "      <td>NaN</td>\n",
       "      <td>NaN</td>\n",
       "      <td>NaN</td>\n",
       "      <td>NaN</td>\n",
       "      <td>NaN</td>\n",
       "      <td>NaN</td>\n",
       "      <td>NaN</td>\n",
       "      <td>NaN</td>\n",
       "      <td>NaN</td>\n",
       "      <td>NaN</td>\n",
       "    </tr>\n",
       "    <tr>\n",
       "      <th>0</th>\n",
       "      <td>9</td>\n",
       "      <td>ca7e9c9ff3dc9765802ba378fab8b1bf</td>\n",
       "      <td>{\"cutoff\": \"quantile_0.1\", \"eval_fairness_grou...</td>\n",
       "      <td>37.002049</td>\n",
       "      <td>89710</td>\n",
       "      <td>1.0</td>\n",
       "      <td>0.036796</td>\n",
       "      <td>0.962702</td>\n",
       "      <td>0.035366</td>\n",
       "      <td>0.961273</td>\n",
       "      <td>...</td>\n",
       "      <td>0.124730</td>\n",
       "      <td>0.142749</td>\n",
       "      <td>0.868479</td>\n",
       "      <td>0.902049</td>\n",
       "      <td>0.050253</td>\n",
       "      <td>0.013457</td>\n",
       "      <td>0.877848</td>\n",
       "      <td>0.913214</td>\n",
       "      <td>20540.0</td>\n",
       "      <td>69170.0</td>\n",
       "    </tr>\n",
       "    <tr>\n",
       "      <th>0</th>\n",
       "      <td>9</td>\n",
       "      <td>ca7e9c9ff3dc9765802ba378fab8b1bf</td>\n",
       "      <td>{\"cutoff\": \"quantile_0.25\", \"eval_fairness_gro...</td>\n",
       "      <td>37.002049</td>\n",
       "      <td>89710</td>\n",
       "      <td>1.0</td>\n",
       "      <td>0.084054</td>\n",
       "      <td>0.908763</td>\n",
       "      <td>0.073133</td>\n",
       "      <td>0.905006</td>\n",
       "      <td>...</td>\n",
       "      <td>NaN</td>\n",
       "      <td>NaN</td>\n",
       "      <td>NaN</td>\n",
       "      <td>NaN</td>\n",
       "      <td>NaN</td>\n",
       "      <td>NaN</td>\n",
       "      <td>NaN</td>\n",
       "      <td>NaN</td>\n",
       "      <td>NaN</td>\n",
       "      <td>NaN</td>\n",
       "    </tr>\n",
       "    <tr>\n",
       "      <th>0</th>\n",
       "      <td>9</td>\n",
       "      <td>ca7e9c9ff3dc9765802ba378fab8b1bf</td>\n",
       "      <td>{\"cutoff\": \"quantile_0.25\", \"eval_fairness_gro...</td>\n",
       "      <td>37.002049</td>\n",
       "      <td>89710</td>\n",
       "      <td>1.0</td>\n",
       "      <td>0.084054</td>\n",
       "      <td>0.908763</td>\n",
       "      <td>0.073133</td>\n",
       "      <td>0.905006</td>\n",
       "      <td>...</td>\n",
       "      <td>0.143666</td>\n",
       "      <td>0.163449</td>\n",
       "      <td>0.674389</td>\n",
       "      <td>0.742096</td>\n",
       "      <td>0.131757</td>\n",
       "      <td>0.047702</td>\n",
       "      <td>0.696738</td>\n",
       "      <td>0.769871</td>\n",
       "      <td>20540.0</td>\n",
       "      <td>69170.0</td>\n",
       "    </tr>\n",
       "  </tbody>\n",
       "</table>\n",
       "<p>4 rows × 50 columns</p>\n",
       "</div>"
      ],
      "text/plain": [
       "  run_no                       universe_id  \\\n",
       "0      9  ca7e9c9ff3dc9765802ba378fab8b1bf   \n",
       "0      9  ca7e9c9ff3dc9765802ba378fab8b1bf   \n",
       "0      9  ca7e9c9ff3dc9765802ba378fab8b1bf   \n",
       "0      9  ca7e9c9ff3dc9765802ba378fab8b1bf   \n",
       "\n",
       "                                   universe_settings  execution_time  \\\n",
       "0  {\"cutoff\": \"quantile_0.1\", \"eval_fairness_grou...       37.002049   \n",
       "0  {\"cutoff\": \"quantile_0.1\", \"eval_fairness_grou...       37.002049   \n",
       "0  {\"cutoff\": \"quantile_0.25\", \"eval_fairness_gro...       37.002049   \n",
       "0  {\"cutoff\": \"quantile_0.25\", \"eval_fairness_gro...       37.002049   \n",
       "\n",
       "   test_size_n  test_size_frac  fair_main_equalized_odds_difference  \\\n",
       "0        89710             1.0                             0.036796   \n",
       "0        89710             1.0                             0.036796   \n",
       "0        89710             1.0                             0.084054   \n",
       "0        89710             1.0                             0.084054   \n",
       "\n",
       "   fair_main_equalized_odds_ratio  fair_main_demographic_parity_difference  \\\n",
       "0                        0.962702                                 0.035366   \n",
       "0                        0.962702                                 0.035366   \n",
       "0                        0.908763                                 0.073133   \n",
       "0                        0.908763                                 0.073133   \n",
       "\n",
       "   fair_main_demographic_parity_ratio  ...  perf_grp_precision_0  \\\n",
       "0                            0.961273  ...                   NaN   \n",
       "0                            0.961273  ...              0.124730   \n",
       "0                            0.905006  ...                   NaN   \n",
       "0                            0.905006  ...              0.143666   \n",
       "\n",
       "   perf_grp_precision_1  perf_grp_false positive rate_0  \\\n",
       "0                   NaN                             NaN   \n",
       "0              0.142749                        0.868479   \n",
       "0                   NaN                             NaN   \n",
       "0              0.163449                        0.674389   \n",
       "\n",
       "   perf_grp_false positive rate_1  perf_grp_false negative rate_0  \\\n",
       "0                             NaN                             NaN   \n",
       "0                        0.902049                        0.050253   \n",
       "0                             NaN                             NaN   \n",
       "0                        0.742096                        0.131757   \n",
       "\n",
       "   perf_grp_false negative rate_1  perf_grp_selection rate_0  \\\n",
       "0                             NaN                        NaN   \n",
       "0                        0.013457                   0.877848   \n",
       "0                             NaN                        NaN   \n",
       "0                        0.047702                   0.696738   \n",
       "\n",
       "   perf_grp_selection rate_1  perf_grp_count_0  perf_grp_count_1  \n",
       "0                        NaN               NaN               NaN  \n",
       "0                   0.913214           20540.0           69170.0  \n",
       "0                        NaN               NaN               NaN  \n",
       "0                   0.769871           20540.0           69170.0  \n",
       "\n",
       "[4 rows x 50 columns]"
      ]
     },
     "execution_count": 61,
     "metadata": {},
     "output_type": "execute_result"
    }
   ],
   "source": [
    "final_output = universe_analysis.generate_final_output(\n",
    "    y_pred_prob=probs_test,\n",
    "    y_test=y_true,\n",
    "    org_test=org_test,\n",
    "    filter_data=filter_sub_universe_data,\n",
    "    cp_metrics_df=cp_metrics_df,\n",
    "    save=True,\n",
    ")\n",
    "final_output"
   ]
  },
  {
   "cell_type": "code",
   "execution_count": null,
   "id": "721ff514-cb11-46f8-b6fc-50392f74b5cb",
   "metadata": {
    "papermill": {
     "duration": 0.027196,
     "end_time": "2025-07-23T14:30:14.118221",
     "exception": false,
     "start_time": "2025-07-23T14:30:14.091025",
     "status": "completed"
    },
    "tags": []
   },
   "outputs": [],
   "source": []
  }
 ],
 "metadata": {
  "celltoolbar": "Tags",
  "kernelspec": {
   "display_name": "Python (CMA Fairness)",
   "language": "python",
   "name": "cma_fair_env"
  },
  "language_info": {
   "codemirror_mode": {
    "name": "ipython",
    "version": 3
   },
   "file_extension": ".py",
   "mimetype": "text/x-python",
   "name": "python",
   "nbconvert_exporter": "python",
   "pygments_lexer": "ipython3",
   "version": "3.10.12"
  },
  "papermill": {
   "default_parameters": {},
   "duration": 51.040567,
   "end_time": "2025-07-23T14:30:14.965860",
   "environment_variables": {},
   "exception": null,
   "input_path": "universe_analysis.ipynb",
   "output_path": "output/runs/9/notebooks/m_9-ca7e9c9ff3dc9765802ba378fab8b1bf.ipynb",
   "parameters": {
    "output_dir": "output",
    "run_no": "9",
    "seed": "2023",
    "universe": "{\"cutoff\": [\"quantile_0.1\", \"quantile_0.25\"], \"eval_fairness_grouping\": [\"majority-minority\", \"nationality-all\"], \"exclude_features\": \"age\", \"exclude_subgroups\": \"keep-all\", \"model\": \"rf\", \"scale\": \"scale\"}",
    "universe_id": "ca7e9c9ff3dc9765802ba378fab8b1bf"
   },
   "start_time": "2025-07-23T14:29:23.925293",
   "version": "2.6.0"
  }
 },
 "nbformat": 4,
 "nbformat_minor": 5
}