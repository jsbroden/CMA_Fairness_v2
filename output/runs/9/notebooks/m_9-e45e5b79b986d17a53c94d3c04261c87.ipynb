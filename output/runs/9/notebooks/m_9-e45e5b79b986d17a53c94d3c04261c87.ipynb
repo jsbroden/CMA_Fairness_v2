{
 "cells": [
  {
   "cell_type": "code",
   "execution_count": 1,
   "id": "f159f837-637b-42ba-96b5-ec9a68c44524",
   "metadata": {
    "execution": {
     "iopub.execute_input": "2025-07-23T14:28:14.489497Z",
     "iopub.status.busy": "2025-07-23T14:28:14.489092Z",
     "iopub.status.idle": "2025-07-23T14:28:14.506489Z",
     "shell.execute_reply": "2025-07-23T14:28:14.505372Z"
    },
    "papermill": {
     "duration": 0.054691,
     "end_time": "2025-07-23T14:28:14.508373",
     "exception": false,
     "start_time": "2025-07-23T14:28:14.453682",
     "status": "completed"
    },
    "tags": []
   },
   "outputs": [
    {
     "name": "stdout",
     "output_type": "stream",
     "text": [
      "/dss/dsshome1/0C/ra93lal2/cma/CMA_Fairness_v2\n"
     ]
    },
    {
     "name": "stderr",
     "output_type": "stream",
     "text": [
      "/dss/dsshome1/0C/ra93lal2/.local/share/virtualenvs/CMA_Fairness_v2-3j10GkSs/lib/python3.10/site-packages/IPython/core/magics/osm.py:393: UserWarning: This is now an optional IPython functionality, using bookmarks requires you to install the `pickleshare` library.\n",
      "  bkms = self.shell.db.get('bookmarks', {})\n",
      "/dss/dsshome1/0C/ra93lal2/.local/share/virtualenvs/CMA_Fairness_v2-3j10GkSs/lib/python3.10/site-packages/IPython/core/magics/osm.py:417: UserWarning: This is now an optional IPython functionality, setting dhist requires you to install the `pickleshare` library.\n",
      "  self.shell.db['dhist'] = compress_dhist(dhist)[-100:]\n"
     ]
    }
   ],
   "source": [
    "%cd ~/cma/CMA_Fairness_v2"
   ]
  },
  {
   "cell_type": "markdown",
   "id": "de2603b9",
   "metadata": {
    "papermill": {
     "duration": 0.043733,
     "end_time": "2025-07-23T14:28:14.585249",
     "exception": false,
     "start_time": "2025-07-23T14:28:14.541516",
     "status": "completed"
    },
    "tags": []
   },
   "source": [
    "The following cell holds the definition of our parameters, these values can be overriden by rendering the with e.g. the following command:\n",
    "\n",
    "papermill -p alpha 0.2 -p ratio 0.3 universe_analysis.ipynb output/test_run.ipynb"
   ]
  },
  {
   "cell_type": "code",
   "execution_count": 2,
   "id": "a80968a0-40bb-4fa9-85ef-2d5eefb01975",
   "metadata": {
    "execution": {
     "iopub.execute_input": "2025-07-23T14:28:14.655052Z",
     "iopub.status.busy": "2025-07-23T14:28:14.654613Z",
     "iopub.status.idle": "2025-07-23T14:28:14.660627Z",
     "shell.execute_reply": "2025-07-23T14:28:14.659639Z"
    },
    "papermill": {
     "duration": 0.043311,
     "end_time": "2025-07-23T14:28:14.662618",
     "exception": false,
     "start_time": "2025-07-23T14:28:14.619307",
     "status": "completed"
    },
    "tags": []
   },
   "outputs": [
    {
     "name": "stdout",
     "output_type": "stream",
     "text": [
      "Current working directory: /dss/dsshome1/0C/ra93lal2/cma/CMA_Fairness_v2\n"
     ]
    }
   ],
   "source": [
    "import os\n",
    "print(\"Current working directory:\", os.getcwd())"
   ]
  },
  {
   "cell_type": "code",
   "execution_count": 3,
   "id": "2dce4c03",
   "metadata": {
    "execution": {
     "iopub.execute_input": "2025-07-23T14:28:14.718303Z",
     "iopub.status.busy": "2025-07-23T14:28:14.717222Z",
     "iopub.status.idle": "2025-07-23T14:28:14.724183Z",
     "shell.execute_reply": "2025-07-23T14:28:14.723002Z"
    },
    "papermill": {
     "duration": 0.029132,
     "end_time": "2025-07-23T14:28:14.726498",
     "exception": false,
     "start_time": "2025-07-23T14:28:14.697366",
     "status": "completed"
    },
    "tags": [
     "parameters"
    ]
   },
   "outputs": [],
   "source": [
    "run_no = 0\n",
    "universe_id = \"test\"\n",
    "universe = {\n",
    "    \"scale\": \"scale\", # \"scale\", \"do-not-scale\",\n",
    "    \"model\": \"elasticnet\", # \"logreg\", \"penalized_logreg\", \"rf\", \"gbm\", \"elasticnet\"\n",
    "    \"cutoff\": [\"quantile_0.15\", \"quantile_0.30\"],\n",
    "    \"exclude_features\": \"age\", # \"none\", \"nationality\", \"sex\", \"nationality-sex\", \"age\"\n",
    "    \"exclude_subgroups\": \"keep-all\", # \"keep-all\", \"drop-non-german\"\n",
    "    #\"training_sample\": \"restricted\", # \"restricted\", \"full\"\n",
    "    \"eval_fairness_grouping\": [\"majority-minority\", \"nationality-all\"]\n",
    "}\n",
    "\n",
    "output_dir=\"./output\"\n",
    "seed=0"
   ]
  },
  {
   "cell_type": "code",
   "execution_count": 4,
   "id": "278d63bf",
   "metadata": {
    "execution": {
     "iopub.execute_input": "2025-07-23T14:28:14.764517Z",
     "iopub.status.busy": "2025-07-23T14:28:14.764119Z",
     "iopub.status.idle": "2025-07-23T14:28:14.769856Z",
     "shell.execute_reply": "2025-07-23T14:28:14.768689Z"
    },
    "papermill": {
     "duration": 0.027699,
     "end_time": "2025-07-23T14:28:14.773175",
     "exception": false,
     "start_time": "2025-07-23T14:28:14.745476",
     "status": "completed"
    },
    "tags": [
     "injected-parameters"
    ]
   },
   "outputs": [],
   "source": [
    "# Parameters\n",
    "universe_id = \"e45e5b79b986d17a53c94d3c04261c87\"\n",
    "run_no = \"9\"\n",
    "universe = \"{\\\"cutoff\\\": [\\\"quantile_0.1\\\", \\\"quantile_0.25\\\"], \\\"eval_fairness_grouping\\\": [\\\"majority-minority\\\", \\\"nationality-all\\\"], \\\"exclude_features\\\": \\\"sex\\\", \\\"exclude_subgroups\\\": \\\"drop-non-german\\\", \\\"model\\\": \\\"rf\\\", \\\"scale\\\": \\\"scale\\\"}\"\n",
    "output_dir = \"output\"\n",
    "seed = \"2023\"\n"
   ]
  },
  {
   "cell_type": "code",
   "execution_count": 5,
   "id": "1650acaf",
   "metadata": {
    "execution": {
     "iopub.execute_input": "2025-07-23T14:28:14.810311Z",
     "iopub.status.busy": "2025-07-23T14:28:14.809882Z",
     "iopub.status.idle": "2025-07-23T14:28:14.815624Z",
     "shell.execute_reply": "2025-07-23T14:28:14.814423Z"
    },
    "papermill": {
     "duration": 0.026322,
     "end_time": "2025-07-23T14:28:14.817620",
     "exception": false,
     "start_time": "2025-07-23T14:28:14.791298",
     "status": "completed"
    },
    "tags": []
   },
   "outputs": [],
   "source": [
    "import json\n",
    "# Parse universe into dict if it is passed as a string\n",
    "if isinstance(universe, str):\n",
    "    universe = json.loads(universe)"
   ]
  },
  {
   "cell_type": "code",
   "execution_count": 6,
   "id": "16620c48",
   "metadata": {
    "execution": {
     "iopub.execute_input": "2025-07-23T14:28:14.905082Z",
     "iopub.status.busy": "2025-07-23T14:28:14.904530Z",
     "iopub.status.idle": "2025-07-23T14:28:15.036870Z",
     "shell.execute_reply": "2025-07-23T14:28:15.035438Z"
    },
    "papermill": {
     "duration": 0.169979,
     "end_time": "2025-07-23T14:28:15.038826",
     "exception": false,
     "start_time": "2025-07-23T14:28:14.868847",
     "status": "completed"
    },
    "tags": []
   },
   "outputs": [],
   "source": [
    "# Auto-reload the custom package\n",
    "%load_ext autoreload\n",
    "%autoreload 1\n",
    "%aimport fairness_multiverse"
   ]
  },
  {
   "cell_type": "code",
   "execution_count": 7,
   "id": "01c5c9f3",
   "metadata": {
    "execution": {
     "iopub.execute_input": "2025-07-23T14:28:15.146877Z",
     "iopub.status.busy": "2025-07-23T14:28:15.146406Z",
     "iopub.status.idle": "2025-07-23T14:28:19.507033Z",
     "shell.execute_reply": "2025-07-23T14:28:19.505878Z"
    },
    "papermill": {
     "duration": 4.426066,
     "end_time": "2025-07-23T14:28:19.509502",
     "exception": false,
     "start_time": "2025-07-23T14:28:15.083436",
     "status": "completed"
    },
    "tags": []
   },
   "outputs": [],
   "source": [
    "from fairness_multiverse.universe import UniverseAnalysis\n",
    "\n",
    "universe_analysis = UniverseAnalysis(\n",
    "    run_no = run_no,\n",
    "    universe_id = universe_id,\n",
    "    universe = universe,\n",
    "    output_dir=output_dir,\n",
    ")"
   ]
  },
  {
   "cell_type": "code",
   "execution_count": 8,
   "id": "106241f5",
   "metadata": {
    "execution": {
     "iopub.execute_input": "2025-07-23T14:28:19.602185Z",
     "iopub.status.busy": "2025-07-23T14:28:19.601635Z",
     "iopub.status.idle": "2025-07-23T14:28:19.610899Z",
     "shell.execute_reply": "2025-07-23T14:28:19.609878Z"
    },
    "papermill": {
     "duration": 0.058207,
     "end_time": "2025-07-23T14:28:19.613928",
     "exception": false,
     "start_time": "2025-07-23T14:28:19.555721",
     "status": "completed"
    },
    "tags": []
   },
   "outputs": [
    {
     "name": "stdout",
     "output_type": "stream",
     "text": [
      "Using Seed: 2023\n"
     ]
    }
   ],
   "source": [
    "import numpy as np\n",
    "parsed_seed = int(seed)\n",
    "np.random.seed(parsed_seed)\n",
    "print(f\"Using Seed: {parsed_seed}\")"
   ]
  },
  {
   "cell_type": "markdown",
   "id": "e0ebdc57",
   "metadata": {
    "papermill": {
     "duration": 0.018083,
     "end_time": "2025-07-23T14:28:19.650542",
     "exception": false,
     "start_time": "2025-07-23T14:28:19.632459",
     "status": "completed"
    },
    "tags": []
   },
   "source": [
    "# Loading Data"
   ]
  },
  {
   "cell_type": "markdown",
   "id": "681925a3",
   "metadata": {
    "papermill": {
     "duration": 0.018157,
     "end_time": "2025-07-23T14:28:19.685887",
     "exception": false,
     "start_time": "2025-07-23T14:28:19.667730",
     "status": "completed"
    },
    "tags": []
   },
   "source": [
    "Load siab_train, siab_test, siab_calib and/or \n",
    "load siab_train_features, siab_train_labels"
   ]
  },
  {
   "cell_type": "code",
   "execution_count": 9,
   "id": "f0496b8a",
   "metadata": {
    "execution": {
     "iopub.execute_input": "2025-07-23T14:28:19.746266Z",
     "iopub.status.busy": "2025-07-23T14:28:19.745841Z",
     "iopub.status.idle": "2025-07-23T14:28:19.752049Z",
     "shell.execute_reply": "2025-07-23T14:28:19.751113Z"
    },
    "papermill": {
     "duration": 0.048692,
     "end_time": "2025-07-23T14:28:19.756943",
     "exception": false,
     "start_time": "2025-07-23T14:28:19.708251",
     "status": "completed"
    },
    "tags": []
   },
   "outputs": [],
   "source": [
    "# Do I need to load siab? Delete this cell?\n",
    "\n",
    "#from pathlib import Path\n",
    "#import pandas as pd\n",
    "#\n",
    "## File paths\n",
    "#raw_file = Path(\"data/raw/siab.csv\")\n",
    "#cache_file = Path(\"data/siab_cached.csv.gz\")\n",
    "#\n",
    "## Ensure cache directory exists\n",
    "#cache_file.parent.mkdir(parents=True, exist_ok=True)\n",
    "#\n",
    "## Load with simple caching\n",
    "#if cache_file.exists():\n",
    "#    print(f\"Loading SIAB data from cache: {cache_file}\")\n",
    "#    siab = pd.read_csv(cache_file, compression='gzip')\n",
    "#else:\n",
    "#    print(f\"Cache not found. Reading raw SIAB data: {raw_file}\")\n",
    "#    siab = pd.read_csv(raw_file)\n",
    "#    siab.to_csv(cache_file, index=False, compression='gzip')\n",
    "#    print(f\"Cached SIAB data to: {cache_file}\")\n",
    "#\n",
    "## Now use `siab` DataFrame as needed\n",
    "#print(siab.shape)\n"
   ]
  },
  {
   "cell_type": "code",
   "execution_count": 10,
   "id": "a0edb063",
   "metadata": {
    "execution": {
     "iopub.execute_input": "2025-07-23T14:28:19.798977Z",
     "iopub.status.busy": "2025-07-23T14:28:19.798542Z",
     "iopub.status.idle": "2025-07-23T14:28:21.202916Z",
     "shell.execute_reply": "2025-07-23T14:28:21.201742Z"
    },
    "papermill": {
     "duration": 1.424933,
     "end_time": "2025-07-23T14:28:21.205086",
     "exception": false,
     "start_time": "2025-07-23T14:28:19.780153",
     "status": "completed"
    },
    "tags": []
   },
   "outputs": [],
   "source": [
    "import pandas as pd\n",
    "\n",
    "X_train = pd.read_csv(\"./data/X_train.csv\")\n",
    "y_train = pd.read_csv(\"./data/y_train.csv\")"
   ]
  },
  {
   "cell_type": "code",
   "execution_count": 11,
   "id": "63d08085",
   "metadata": {
    "execution": {
     "iopub.execute_input": "2025-07-23T14:28:21.299174Z",
     "iopub.status.busy": "2025-07-23T14:28:21.298679Z",
     "iopub.status.idle": "2025-07-23T14:28:23.058002Z",
     "shell.execute_reply": "2025-07-23T14:28:23.056656Z"
    },
    "papermill": {
     "duration": 1.815722,
     "end_time": "2025-07-23T14:28:23.060385",
     "exception": false,
     "start_time": "2025-07-23T14:28:21.244663",
     "status": "completed"
    },
    "tags": []
   },
   "outputs": [],
   "source": [
    "X_test = pd.read_csv(\"./data/X_test.csv\")\n",
    "y_true = pd.read_csv(\"./data/y_test.csv\")"
   ]
  },
  {
   "cell_type": "code",
   "execution_count": 12,
   "id": "98a8d0fa-1d3d-4ed8-bb2c-281470e24add",
   "metadata": {
    "execution": {
     "iopub.execute_input": "2025-07-23T14:28:23.187002Z",
     "iopub.status.busy": "2025-07-23T14:28:23.186506Z",
     "iopub.status.idle": "2025-07-23T14:28:28.109917Z",
     "shell.execute_reply": "2025-07-23T14:28:28.108628Z"
    },
    "papermill": {
     "duration": 5.001092,
     "end_time": "2025-07-23T14:28:28.112293",
     "exception": false,
     "start_time": "2025-07-23T14:28:23.111201",
     "status": "completed"
    },
    "tags": []
   },
   "outputs": [],
   "source": [
    "# Calibration data for conformal\n",
    "X_calib = pd.read_csv(\"./data/X_calib.csv\")\n",
    "y_calib = pd.read_csv(\"./data/y_calib.csv\")"
   ]
  },
  {
   "cell_type": "code",
   "execution_count": 13,
   "id": "e6c733c5",
   "metadata": {
    "execution": {
     "iopub.execute_input": "2025-07-23T14:28:28.218978Z",
     "iopub.status.busy": "2025-07-23T14:28:28.218515Z",
     "iopub.status.idle": "2025-07-23T14:28:28.615658Z",
     "shell.execute_reply": "2025-07-23T14:28:28.614483Z"
    },
    "papermill": {
     "duration": 0.462328,
     "end_time": "2025-07-23T14:28:28.618102",
     "exception": false,
     "start_time": "2025-07-23T14:28:28.155774",
     "status": "completed"
    },
    "tags": []
   },
   "outputs": [],
   "source": [
    "# Auxiliary data needed downstream in the pipeline\n",
    "\n",
    "org_train = X_train.copy()\n",
    "org_test = X_test.copy()\n",
    "org_calib = X_calib.copy()"
   ]
  },
  {
   "cell_type": "markdown",
   "id": "0a4a1b33",
   "metadata": {
    "papermill": {
     "duration": 0.060332,
     "end_time": "2025-07-23T14:28:28.741037",
     "exception": false,
     "start_time": "2025-07-23T14:28:28.680705",
     "status": "completed"
    },
    "tags": []
   },
   "source": [
    "# Preprocessing Data"
   ]
  },
  {
   "cell_type": "code",
   "execution_count": 14,
   "id": "ca879031",
   "metadata": {
    "execution": {
     "iopub.execute_input": "2025-07-23T14:28:28.870929Z",
     "iopub.status.busy": "2025-07-23T14:28:28.870456Z",
     "iopub.status.idle": "2025-07-23T14:28:28.877956Z",
     "shell.execute_reply": "2025-07-23T14:28:28.876718Z"
    },
    "papermill": {
     "duration": 0.087487,
     "end_time": "2025-07-23T14:28:28.881678",
     "exception": false,
     "start_time": "2025-07-23T14:28:28.794191",
     "status": "completed"
    },
    "tags": []
   },
   "outputs": [],
   "source": [
    "# EXCLUDE PROTECTED FEATURES\n",
    "# ----------------------\n",
    "# \"exclude_features\": \"none\", # \"nationality\", \"sex\", \"nationality-sex\"\n",
    "\n",
    "excluded_features = universe[\"exclude_features\"].split(\"-\") # split, e.g.: \"nationality-sex\" -> [\"nationality\", \"sex\"]\n",
    "excluded_features_dictionary = {\n",
    "    \"nationality\": [\"maxdeutsch1\", \"maxdeutsch.Missing.\"],\n",
    "    \"sex\": [\"frau1\"],\n",
    "    \"age\": [\"age\"],\n",
    "}\n"
   ]
  },
  {
   "cell_type": "code",
   "execution_count": 15,
   "id": "b745ac60",
   "metadata": {
    "execution": {
     "iopub.execute_input": "2025-07-23T14:28:29.051169Z",
     "iopub.status.busy": "2025-07-23T14:28:29.050702Z",
     "iopub.status.idle": "2025-07-23T14:28:29.057622Z",
     "shell.execute_reply": "2025-07-23T14:28:29.056424Z"
    },
    "papermill": {
     "duration": 0.084671,
     "end_time": "2025-07-23T14:28:29.061512",
     "exception": false,
     "start_time": "2025-07-23T14:28:28.976841",
     "status": "completed"
    },
    "tags": []
   },
   "outputs": [],
   "source": [
    "# Code nice names to column names\n",
    "\n",
    "excluded_features_columns = [\n",
    "    excluded_features_dictionary[f] for f in excluded_features if len(f) > 0 and f != \"none\"\n",
    "]"
   ]
  },
  {
   "cell_type": "code",
   "execution_count": 16,
   "id": "f84f73a2",
   "metadata": {
    "execution": {
     "iopub.execute_input": "2025-07-23T14:28:29.239205Z",
     "iopub.status.busy": "2025-07-23T14:28:29.238727Z",
     "iopub.status.idle": "2025-07-23T14:28:29.246140Z",
     "shell.execute_reply": "2025-07-23T14:28:29.244931Z"
    },
    "papermill": {
     "duration": 0.097263,
     "end_time": "2025-07-23T14:28:29.250097",
     "exception": false,
     "start_time": "2025-07-23T14:28:29.152834",
     "status": "completed"
    },
    "tags": []
   },
   "outputs": [],
   "source": [
    "from utils import flatten_once\n",
    "\n",
    "excluded_features_columns = flatten_once(excluded_features_columns)"
   ]
  },
  {
   "cell_type": "code",
   "execution_count": 17,
   "id": "884dea22",
   "metadata": {
    "execution": {
     "iopub.execute_input": "2025-07-23T14:28:29.418789Z",
     "iopub.status.busy": "2025-07-23T14:28:29.418329Z",
     "iopub.status.idle": "2025-07-23T14:28:29.617922Z",
     "shell.execute_reply": "2025-07-23T14:28:29.616639Z"
    },
    "papermill": {
     "duration": 0.279764,
     "end_time": "2025-07-23T14:28:29.620606",
     "exception": false,
     "start_time": "2025-07-23T14:28:29.340842",
     "status": "completed"
    },
    "tags": []
   },
   "outputs": [
    {
     "name": "stdout",
     "output_type": "stream",
     "text": [
      "Dropping features: ['frau1']\n"
     ]
    }
   ],
   "source": [
    "if len(excluded_features_columns) > 0:\n",
    "    print(f\"Dropping features: {excluded_features_columns}\")\n",
    "    X_train.drop(excluded_features_columns, axis=1, inplace=True)"
   ]
  },
  {
   "cell_type": "code",
   "execution_count": 18,
   "id": "95ab8b16",
   "metadata": {
    "execution": {
     "iopub.execute_input": "2025-07-23T14:28:29.738938Z",
     "iopub.status.busy": "2025-07-23T14:28:29.738496Z",
     "iopub.status.idle": "2025-07-23T14:28:29.974025Z",
     "shell.execute_reply": "2025-07-23T14:28:29.972650Z"
    },
    "papermill": {
     "duration": 0.314349,
     "end_time": "2025-07-23T14:28:29.976467",
     "exception": false,
     "start_time": "2025-07-23T14:28:29.662118",
     "status": "completed"
    },
    "tags": []
   },
   "outputs": [
    {
     "name": "stdout",
     "output_type": "stream",
     "text": [
      "Dropping features: ['frau1']\n"
     ]
    }
   ],
   "source": [
    "if len(excluded_features_columns) > 0:\n",
    "    print(f\"Dropping features: {excluded_features_columns}\")\n",
    "    X_test.drop(excluded_features_columns, axis=1, inplace=True)"
   ]
  },
  {
   "cell_type": "code",
   "execution_count": 19,
   "id": "1853aaf5-fb9f-46cb-a2b5-8ea4ae2237e4",
   "metadata": {
    "execution": {
     "iopub.execute_input": "2025-07-23T14:28:30.110730Z",
     "iopub.status.busy": "2025-07-23T14:28:30.110256Z",
     "iopub.status.idle": "2025-07-23T14:28:30.348512Z",
     "shell.execute_reply": "2025-07-23T14:28:30.347204Z"
    },
    "papermill": {
     "duration": 0.322192,
     "end_time": "2025-07-23T14:28:30.351009",
     "exception": false,
     "start_time": "2025-07-23T14:28:30.028817",
     "status": "completed"
    },
    "tags": []
   },
   "outputs": [
    {
     "name": "stdout",
     "output_type": "stream",
     "text": [
      "Dropping features: ['frau1']\n"
     ]
    }
   ],
   "source": [
    "if len(excluded_features_columns) > 0:\n",
    "    print(f\"Dropping features: {excluded_features_columns}\")\n",
    "    X_calib.drop(excluded_features_columns, axis=1, inplace=True)"
   ]
  },
  {
   "cell_type": "code",
   "execution_count": 20,
   "id": "76c4dc6d",
   "metadata": {
    "execution": {
     "iopub.execute_input": "2025-07-23T14:28:30.499001Z",
     "iopub.status.busy": "2025-07-23T14:28:30.498525Z",
     "iopub.status.idle": "2025-07-23T14:28:30.505087Z",
     "shell.execute_reply": "2025-07-23T14:28:30.504011Z"
    },
    "papermill": {
     "duration": 0.1054,
     "end_time": "2025-07-23T14:28:30.513177",
     "exception": false,
     "start_time": "2025-07-23T14:28:30.407777",
     "status": "completed"
    },
    "tags": []
   },
   "outputs": [],
   "source": [
    "# EXCLUDE CERTAIN SUBGROUPS\n",
    "# ----------------------\n",
    "\n",
    "mode = universe.get(\"exclude_subgroups\", \"keep-all\") \n",
    "# Fetches the exclude_subgroups setting from the universe dict.\n",
    "# Defaults to \"keep-all\" if the key is missing."
   ]
  },
  {
   "cell_type": "code",
   "execution_count": 21,
   "id": "21994072",
   "metadata": {
    "execution": {
     "iopub.execute_input": "2025-07-23T14:28:30.687049Z",
     "iopub.status.busy": "2025-07-23T14:28:30.686586Z",
     "iopub.status.idle": "2025-07-23T14:28:30.697203Z",
     "shell.execute_reply": "2025-07-23T14:28:30.695871Z"
    },
    "papermill": {
     "duration": 0.097057,
     "end_time": "2025-07-23T14:28:30.699710",
     "exception": false,
     "start_time": "2025-07-23T14:28:30.602653",
     "status": "completed"
    },
    "tags": []
   },
   "outputs": [],
   "source": [
    "if mode == \"keep-all\":\n",
    "    keep_mask = pd.Series(True, index=org_train.index)\n",
    "\n",
    "# org_train contains the original feature columns from features_org (in Simson)\n",
    "# features_org contains unprocessed features, for me X_train at beginning ???\n",
    "# For keep-all, creates a boolean Series (keep_mask) of all True, so no rows are removed.\n",
    "\n",
    "elif mode == \"drop-non-german\":\n",
    "    keep_mask = org_train[\"maxdeutsch1\"] == 1 # ??? what about missing values?\n",
    "\n",
    "else:\n",
    "    raise ValueError(f\"Unsupported mode for exclude_subgroups: {mode}\")\n"
   ]
  },
  {
   "cell_type": "code",
   "execution_count": 22,
   "id": "71651440",
   "metadata": {
    "execution": {
     "iopub.execute_input": "2025-07-23T14:28:30.882810Z",
     "iopub.status.busy": "2025-07-23T14:28:30.882354Z",
     "iopub.status.idle": "2025-07-23T14:28:30.891439Z",
     "shell.execute_reply": "2025-07-23T14:28:30.890316Z"
    },
    "papermill": {
     "duration": 0.09957,
     "end_time": "2025-07-23T14:28:30.896271",
     "exception": false,
     "start_time": "2025-07-23T14:28:30.796701",
     "status": "completed"
    },
    "tags": []
   },
   "outputs": [
    {
     "name": "stdout",
     "output_type": "stream",
     "text": [
      "Dropping 10036 rows (13.38%) where mode='drop-non-german'\n"
     ]
    }
   ],
   "source": [
    "n_drop = (~keep_mask).sum() # Calculates how many rows are set to be dropped\n",
    "if n_drop > 0:\n",
    "    pct = n_drop / len(keep_mask) * 100\n",
    "    print(f\"Dropping {n_drop} rows ({pct:.2f}%) where mode='{mode}'\")"
   ]
  },
  {
   "cell_type": "code",
   "execution_count": 23,
   "id": "5fb8eee5",
   "metadata": {
    "execution": {
     "iopub.execute_input": "2025-07-23T14:28:31.082805Z",
     "iopub.status.busy": "2025-07-23T14:28:31.082332Z",
     "iopub.status.idle": "2025-07-23T14:28:31.257853Z",
     "shell.execute_reply": "2025-07-23T14:28:31.256630Z"
    },
    "papermill": {
     "duration": 0.271026,
     "end_time": "2025-07-23T14:28:31.260200",
     "exception": false,
     "start_time": "2025-07-23T14:28:30.989174",
     "status": "completed"
    },
    "tags": []
   },
   "outputs": [],
   "source": [
    "X_train = X_train[keep_mask]"
   ]
  },
  {
   "cell_type": "code",
   "execution_count": 24,
   "id": "b202bb3a",
   "metadata": {
    "execution": {
     "iopub.execute_input": "2025-07-23T14:28:31.402825Z",
     "iopub.status.busy": "2025-07-23T14:28:31.402358Z",
     "iopub.status.idle": "2025-07-23T14:28:31.411748Z",
     "shell.execute_reply": "2025-07-23T14:28:31.410384Z"
    },
    "papermill": {
     "duration": 0.102374,
     "end_time": "2025-07-23T14:28:31.415641",
     "exception": false,
     "start_time": "2025-07-23T14:28:31.313267",
     "status": "completed"
    },
    "tags": []
   },
   "outputs": [],
   "source": [
    "y_train = y_train[keep_mask]"
   ]
  },
  {
   "cell_type": "markdown",
   "id": "493e2ac3",
   "metadata": {
    "papermill": {
     "duration": 0.077051,
     "end_time": "2025-07-23T14:28:31.593751",
     "exception": false,
     "start_time": "2025-07-23T14:28:31.516700",
     "status": "completed"
    },
    "tags": []
   },
   "source": [
    "# Model Training"
   ]
  },
  {
   "cell_type": "code",
   "execution_count": 25,
   "id": "679e1268",
   "metadata": {
    "execution": {
     "iopub.execute_input": "2025-07-23T14:28:31.770848Z",
     "iopub.status.busy": "2025-07-23T14:28:31.770382Z",
     "iopub.status.idle": "2025-07-23T14:28:32.245941Z",
     "shell.execute_reply": "2025-07-23T14:28:32.244649Z"
    },
    "papermill": {
     "duration": 0.567673,
     "end_time": "2025-07-23T14:28:32.248356",
     "exception": false,
     "start_time": "2025-07-23T14:28:31.680683",
     "status": "completed"
    },
    "tags": []
   },
   "outputs": [],
   "source": [
    "from sklearn.linear_model import LogisticRegression\n",
    "from sklearn.ensemble import GradientBoostingClassifier, RandomForestClassifier\n",
    "\n",
    "if (universe[\"model\"] == \"logreg\"):\n",
    "    model = LogisticRegression() #penalty=\"none\") #, solver=\"newton-cg\", max_iter=1) # include random_state=19 ?\n",
    "elif (universe[\"model\"] == \"penalized_logreg\"):\n",
    "    model = LogisticRegression(penalty=\"l2\", C=1.0) #, solver=\"newton-cg\", max_iter=1)\n",
    "elif (universe[\"model\"] == \"rf\"):\n",
    "    model = RandomForestClassifier(n_estimators=100, n_jobs=-1)\n",
    "elif (universe[\"model\"] == \"gbm\"):\n",
    "    model = GradientBoostingClassifier()\n",
    "elif (universe[\"model\"] == \"elasticnet\"):\n",
    "    model = LogisticRegression(penalty = 'elasticnet', solver = 'saga', l1_ratio = 0.5, max_iter=5000) # which solver to use?\n",
    "else:\n",
    "    raise \"Unsupported universe.model\""
   ]
  },
  {
   "cell_type": "code",
   "execution_count": 26,
   "id": "0cc8f744",
   "metadata": {
    "execution": {
     "iopub.execute_input": "2025-07-23T14:28:32.412048Z",
     "iopub.status.busy": "2025-07-23T14:28:32.411586Z",
     "iopub.status.idle": "2025-07-23T14:28:32.419402Z",
     "shell.execute_reply": "2025-07-23T14:28:32.418279Z"
    },
    "papermill": {
     "duration": 0.111116,
     "end_time": "2025-07-23T14:28:32.423947",
     "exception": false,
     "start_time": "2025-07-23T14:28:32.312831",
     "status": "completed"
    },
    "tags": []
   },
   "outputs": [],
   "source": [
    "import numpy as np\n",
    "from sklearn.pipeline import Pipeline\n",
    "from sklearn.preprocessing import StandardScaler\n",
    "\n",
    "model = Pipeline([\n",
    "    #(\"continuous_processor\", continuous_processor),\n",
    "    #(\"categorical_preprocessor\", categorical_preprocessor),\n",
    "    (\"scale\", StandardScaler() if universe[\"scale\"] == \"scale\" else None), \n",
    "    (\"model\", model),\n",
    "])"
   ]
  },
  {
   "cell_type": "code",
   "execution_count": 27,
   "id": "9442c04d",
   "metadata": {
    "execution": {
     "iopub.execute_input": "2025-07-23T14:28:32.610810Z",
     "iopub.status.busy": "2025-07-23T14:28:32.610354Z",
     "iopub.status.idle": "2025-07-23T14:28:53.222001Z",
     "shell.execute_reply": "2025-07-23T14:28:53.220643Z"
    },
    "papermill": {
     "duration": 20.705663,
     "end_time": "2025-07-23T14:28:53.224347",
     "exception": false,
     "start_time": "2025-07-23T14:28:32.518684",
     "status": "completed"
    },
    "tags": []
   },
   "outputs": [
    {
     "data": {
      "text/html": [
       "<style>#sk-container-id-1 {color: black;background-color: white;}#sk-container-id-1 pre{padding: 0;}#sk-container-id-1 div.sk-toggleable {background-color: white;}#sk-container-id-1 label.sk-toggleable__label {cursor: pointer;display: block;width: 100%;margin-bottom: 0;padding: 0.3em;box-sizing: border-box;text-align: center;}#sk-container-id-1 label.sk-toggleable__label-arrow:before {content: \"▸\";float: left;margin-right: 0.25em;color: #696969;}#sk-container-id-1 label.sk-toggleable__label-arrow:hover:before {color: black;}#sk-container-id-1 div.sk-estimator:hover label.sk-toggleable__label-arrow:before {color: black;}#sk-container-id-1 div.sk-toggleable__content {max-height: 0;max-width: 0;overflow: hidden;text-align: left;background-color: #f0f8ff;}#sk-container-id-1 div.sk-toggleable__content pre {margin: 0.2em;color: black;border-radius: 0.25em;background-color: #f0f8ff;}#sk-container-id-1 input.sk-toggleable__control:checked~div.sk-toggleable__content {max-height: 200px;max-width: 100%;overflow: auto;}#sk-container-id-1 input.sk-toggleable__control:checked~label.sk-toggleable__label-arrow:before {content: \"▾\";}#sk-container-id-1 div.sk-estimator input.sk-toggleable__control:checked~label.sk-toggleable__label {background-color: #d4ebff;}#sk-container-id-1 div.sk-label input.sk-toggleable__control:checked~label.sk-toggleable__label {background-color: #d4ebff;}#sk-container-id-1 input.sk-hidden--visually {border: 0;clip: rect(1px 1px 1px 1px);clip: rect(1px, 1px, 1px, 1px);height: 1px;margin: -1px;overflow: hidden;padding: 0;position: absolute;width: 1px;}#sk-container-id-1 div.sk-estimator {font-family: monospace;background-color: #f0f8ff;border: 1px dotted black;border-radius: 0.25em;box-sizing: border-box;margin-bottom: 0.5em;}#sk-container-id-1 div.sk-estimator:hover {background-color: #d4ebff;}#sk-container-id-1 div.sk-parallel-item::after {content: \"\";width: 100%;border-bottom: 1px solid gray;flex-grow: 1;}#sk-container-id-1 div.sk-label:hover label.sk-toggleable__label {background-color: #d4ebff;}#sk-container-id-1 div.sk-serial::before {content: \"\";position: absolute;border-left: 1px solid gray;box-sizing: border-box;top: 0;bottom: 0;left: 50%;z-index: 0;}#sk-container-id-1 div.sk-serial {display: flex;flex-direction: column;align-items: center;background-color: white;padding-right: 0.2em;padding-left: 0.2em;position: relative;}#sk-container-id-1 div.sk-item {position: relative;z-index: 1;}#sk-container-id-1 div.sk-parallel {display: flex;align-items: stretch;justify-content: center;background-color: white;position: relative;}#sk-container-id-1 div.sk-item::before, #sk-container-id-1 div.sk-parallel-item::before {content: \"\";position: absolute;border-left: 1px solid gray;box-sizing: border-box;top: 0;bottom: 0;left: 50%;z-index: -1;}#sk-container-id-1 div.sk-parallel-item {display: flex;flex-direction: column;z-index: 1;position: relative;background-color: white;}#sk-container-id-1 div.sk-parallel-item:first-child::after {align-self: flex-end;width: 50%;}#sk-container-id-1 div.sk-parallel-item:last-child::after {align-self: flex-start;width: 50%;}#sk-container-id-1 div.sk-parallel-item:only-child::after {width: 0;}#sk-container-id-1 div.sk-dashed-wrapped {border: 1px dashed gray;margin: 0 0.4em 0.5em 0.4em;box-sizing: border-box;padding-bottom: 0.4em;background-color: white;}#sk-container-id-1 div.sk-label label {font-family: monospace;font-weight: bold;display: inline-block;line-height: 1.2em;}#sk-container-id-1 div.sk-label-container {text-align: center;}#sk-container-id-1 div.sk-container {/* jupyter's `normalize.less` sets `[hidden] { display: none; }` but bootstrap.min.css set `[hidden] { display: none !important; }` so we also need the `!important` here to be able to override the default hidden behavior on the sphinx rendered scikit-learn.org. See: https://github.com/scikit-learn/scikit-learn/issues/21755 */display: inline-block !important;position: relative;}#sk-container-id-1 div.sk-text-repr-fallback {display: none;}</style><div id=\"sk-container-id-1\" class=\"sk-top-container\"><div class=\"sk-text-repr-fallback\"><pre>Pipeline(steps=[(&#x27;scale&#x27;, StandardScaler()),\n",
       "                (&#x27;model&#x27;, RandomForestClassifier(n_jobs=-1))])</pre><b>In a Jupyter environment, please rerun this cell to show the HTML representation or trust the notebook. <br />On GitHub, the HTML representation is unable to render, please try loading this page with nbviewer.org.</b></div><div class=\"sk-container\" hidden><div class=\"sk-item sk-dashed-wrapped\"><div class=\"sk-label-container\"><div class=\"sk-label sk-toggleable\"><input class=\"sk-toggleable__control sk-hidden--visually\" id=\"sk-estimator-id-1\" type=\"checkbox\" ><label for=\"sk-estimator-id-1\" class=\"sk-toggleable__label sk-toggleable__label-arrow\">Pipeline</label><div class=\"sk-toggleable__content\"><pre>Pipeline(steps=[(&#x27;scale&#x27;, StandardScaler()),\n",
       "                (&#x27;model&#x27;, RandomForestClassifier(n_jobs=-1))])</pre></div></div></div><div class=\"sk-serial\"><div class=\"sk-item\"><div class=\"sk-estimator sk-toggleable\"><input class=\"sk-toggleable__control sk-hidden--visually\" id=\"sk-estimator-id-2\" type=\"checkbox\" ><label for=\"sk-estimator-id-2\" class=\"sk-toggleable__label sk-toggleable__label-arrow\">StandardScaler</label><div class=\"sk-toggleable__content\"><pre>StandardScaler()</pre></div></div></div><div class=\"sk-item\"><div class=\"sk-estimator sk-toggleable\"><input class=\"sk-toggleable__control sk-hidden--visually\" id=\"sk-estimator-id-3\" type=\"checkbox\" ><label for=\"sk-estimator-id-3\" class=\"sk-toggleable__label sk-toggleable__label-arrow\">RandomForestClassifier</label><div class=\"sk-toggleable__content\"><pre>RandomForestClassifier(n_jobs=-1)</pre></div></div></div></div></div></div></div>"
      ],
      "text/plain": [
       "Pipeline(steps=[('scale', StandardScaler()),\n",
       "                ('model', RandomForestClassifier(n_jobs=-1))])"
      ]
     },
     "execution_count": 27,
     "metadata": {},
     "output_type": "execute_result"
    }
   ],
   "source": [
    "model.fit(X_train, y_train.values.ravel())"
   ]
  },
  {
   "cell_type": "code",
   "execution_count": 28,
   "id": "af59f8c0",
   "metadata": {
    "execution": {
     "iopub.execute_input": "2025-07-23T14:28:53.339599Z",
     "iopub.status.busy": "2025-07-23T14:28:53.339149Z",
     "iopub.status.idle": "2025-07-23T14:28:53.345103Z",
     "shell.execute_reply": "2025-07-23T14:28:53.344087Z"
    },
    "papermill": {
     "duration": 0.071574,
     "end_time": "2025-07-23T14:28:53.346893",
     "exception": false,
     "start_time": "2025-07-23T14:28:53.275319",
     "status": "completed"
    },
    "tags": []
   },
   "outputs": [],
   "source": [
    "from fairness_multiverse.universe import predict_w_threshold"
   ]
  },
  {
   "cell_type": "code",
   "execution_count": 29,
   "id": "a7cf2e16",
   "metadata": {
    "execution": {
     "iopub.execute_input": "2025-07-23T14:28:53.475313Z",
     "iopub.status.busy": "2025-07-23T14:28:53.474882Z",
     "iopub.status.idle": "2025-07-23T14:28:56.629746Z",
     "shell.execute_reply": "2025-07-23T14:28:56.628631Z"
    },
    "papermill": {
     "duration": 3.226413,
     "end_time": "2025-07-23T14:28:56.631590",
     "exception": false,
     "start_time": "2025-07-23T14:28:53.405177",
     "status": "completed"
    },
    "tags": []
   },
   "outputs": [
    {
     "data": {
      "text/plain": [
       "0.8655222383234867"
      ]
     },
     "execution_count": 29,
     "metadata": {},
     "output_type": "execute_result"
    }
   ],
   "source": [
    "probs_test = model.predict_proba(X_test)\n",
    "\n",
    "'''\n",
    "Below code returns a boolean array (or binary 0/1 array depending on how it’s used) where each element \n",
    "is True if the probability of class 1 is greater than or equal to the threshold, and False otherwise.\n",
    "'''\n",
    "y_pred_default = predict_w_threshold(probs_test, 0.5)\n",
    "\n",
    "from sklearn.metrics import accuracy_score\n",
    "\n",
    "# Naive prediction\n",
    "accuracy_score(y_true = y_true, y_pred = y_pred_default)"
   ]
  },
  {
   "cell_type": "code",
   "execution_count": 30,
   "id": "081964c3",
   "metadata": {
    "execution": {
     "iopub.execute_input": "2025-07-23T14:28:56.764135Z",
     "iopub.status.busy": "2025-07-23T14:28:56.763660Z",
     "iopub.status.idle": "2025-07-23T14:28:59.023770Z",
     "shell.execute_reply": "2025-07-23T14:28:59.022652Z"
    },
    "papermill": {
     "duration": 2.328888,
     "end_time": "2025-07-23T14:28:59.025570",
     "exception": false,
     "start_time": "2025-07-23T14:28:56.696682",
     "status": "completed"
    },
    "tags": []
   },
   "outputs": [
    {
     "data": {
      "text/plain": [
       "array([0, 0, 0, ..., 0, 0, 0])"
      ]
     },
     "execution_count": 30,
     "metadata": {},
     "output_type": "execute_result"
    }
   ],
   "source": [
    "model.predict(X_test)"
   ]
  },
  {
   "cell_type": "markdown",
   "id": "56c9705b",
   "metadata": {
    "papermill": {
     "duration": 0.047597,
     "end_time": "2025-07-23T14:28:59.113444",
     "exception": false,
     "start_time": "2025-07-23T14:28:59.065847",
     "status": "completed"
    },
    "tags": []
   },
   "source": [
    "# Conformal Prediction"
   ]
  },
  {
   "cell_type": "code",
   "execution_count": 31,
   "id": "160ec6ff",
   "metadata": {
    "execution": {
     "iopub.execute_input": "2025-07-23T14:28:59.203241Z",
     "iopub.status.busy": "2025-07-23T14:28:59.202818Z",
     "iopub.status.idle": "2025-07-23T14:28:59.209008Z",
     "shell.execute_reply": "2025-07-23T14:28:59.207789Z"
    },
    "papermill": {
     "duration": 0.059849,
     "end_time": "2025-07-23T14:28:59.210853",
     "exception": false,
     "start_time": "2025-07-23T14:28:59.151004",
     "status": "completed"
    },
    "tags": []
   },
   "outputs": [],
   "source": [
    "# Miscoverage level for conformal prediction (10% allowed error rate => 90% target coverage)\n",
    "alpha = 0.1"
   ]
  },
  {
   "cell_type": "code",
   "execution_count": 32,
   "id": "eadf4555-3dd3-440e-8e35-f82a4ad9f855",
   "metadata": {
    "execution": {
     "iopub.execute_input": "2025-07-23T14:28:59.279612Z",
     "iopub.status.busy": "2025-07-23T14:28:59.279188Z",
     "iopub.status.idle": "2025-07-23T14:29:01.613581Z",
     "shell.execute_reply": "2025-07-23T14:29:01.612476Z"
    },
    "papermill": {
     "duration": 2.372509,
     "end_time": "2025-07-23T14:29:01.616261",
     "exception": false,
     "start_time": "2025-07-23T14:28:59.243752",
     "status": "completed"
    },
    "tags": []
   },
   "outputs": [],
   "source": [
    "probs_calib = model.predict_proba(X_calib)"
   ]
  },
  {
   "cell_type": "code",
   "execution_count": 33,
   "id": "2ed93547-6d5d-4983-9b36-1ecb300da49a",
   "metadata": {
    "execution": {
     "iopub.execute_input": "2025-07-23T14:29:01.713316Z",
     "iopub.status.busy": "2025-07-23T14:29:01.712811Z",
     "iopub.status.idle": "2025-07-23T14:29:01.719906Z",
     "shell.execute_reply": "2025-07-23T14:29:01.718730Z"
    },
    "papermill": {
     "duration": 0.065236,
     "end_time": "2025-07-23T14:29:01.721859",
     "exception": false,
     "start_time": "2025-07-23T14:29:01.656623",
     "status": "completed"
    },
    "tags": []
   },
   "outputs": [],
   "source": [
    "y_calib = y_calib.values.ravel().astype(int)"
   ]
  },
  {
   "cell_type": "code",
   "execution_count": 34,
   "id": "65d1320d-f588-4b38-9072-62af1ae97f7d",
   "metadata": {
    "execution": {
     "iopub.execute_input": "2025-07-23T14:29:01.812005Z",
     "iopub.status.busy": "2025-07-23T14:29:01.811510Z",
     "iopub.status.idle": "2025-07-23T14:29:01.820174Z",
     "shell.execute_reply": "2025-07-23T14:29:01.819058Z"
    },
    "papermill": {
     "duration": 0.06267,
     "end_time": "2025-07-23T14:29:01.822121",
     "exception": false,
     "start_time": "2025-07-23T14:29:01.759451",
     "status": "completed"
    },
    "tags": []
   },
   "outputs": [],
   "source": [
    "from fairness_multiverse.conformal import compute_nc_scores\n",
    "\n",
    "# Compute nonconformity scores on calibration set (1 - probability of true class)\n",
    "nc_scores = compute_nc_scores(probs_calib, y_calib)"
   ]
  },
  {
   "cell_type": "code",
   "execution_count": 35,
   "id": "df3b8ca3-53b7-43d5-9667-7c85da7aeda2",
   "metadata": {
    "execution": {
     "iopub.execute_input": "2025-07-23T14:29:01.895640Z",
     "iopub.status.busy": "2025-07-23T14:29:01.895185Z",
     "iopub.status.idle": "2025-07-23T14:29:01.903128Z",
     "shell.execute_reply": "2025-07-23T14:29:01.902010Z"
    },
    "papermill": {
     "duration": 0.046662,
     "end_time": "2025-07-23T14:29:01.906958",
     "exception": false,
     "start_time": "2025-07-23T14:29:01.860296",
     "status": "completed"
    },
    "tags": []
   },
   "outputs": [],
   "source": [
    "from fairness_multiverse.conformal import find_threshold\n",
    "\n",
    "# Find conformal threshold q_hat for the given alpha (split conformal method)\n",
    "q_hat = find_threshold(nc_scores, alpha)"
   ]
  },
  {
   "cell_type": "code",
   "execution_count": 36,
   "id": "4d29e6c1-0ef6-4aa4-b8fe-4fe79b0d033a",
   "metadata": {
    "execution": {
     "iopub.execute_input": "2025-07-23T14:29:01.954454Z",
     "iopub.status.busy": "2025-07-23T14:29:01.953977Z",
     "iopub.status.idle": "2025-07-23T14:29:01.962760Z",
     "shell.execute_reply": "2025-07-23T14:29:01.961547Z"
    },
    "papermill": {
     "duration": 0.037596,
     "end_time": "2025-07-23T14:29:01.967867",
     "exception": false,
     "start_time": "2025-07-23T14:29:01.930271",
     "status": "completed"
    },
    "tags": []
   },
   "outputs": [
    {
     "data": {
      "text/plain": [
       "0.65"
      ]
     },
     "execution_count": 36,
     "metadata": {},
     "output_type": "execute_result"
    }
   ],
   "source": [
    "q_hat"
   ]
  },
  {
   "cell_type": "code",
   "execution_count": 37,
   "id": "92460794-cdac-4be2-ba28-f28c0515a6fb",
   "metadata": {
    "execution": {
     "iopub.execute_input": "2025-07-23T14:29:02.015679Z",
     "iopub.status.busy": "2025-07-23T14:29:02.015233Z",
     "iopub.status.idle": "2025-07-23T14:29:04.812374Z",
     "shell.execute_reply": "2025-07-23T14:29:04.811191Z"
    },
    "papermill": {
     "duration": 2.823994,
     "end_time": "2025-07-23T14:29:04.814883",
     "exception": false,
     "start_time": "2025-07-23T14:29:01.990889",
     "status": "completed"
    },
    "tags": []
   },
   "outputs": [],
   "source": [
    "from fairness_multiverse.conformal import predict_conformal_sets\n",
    "\n",
    "# Generate prediction sets for each test example\n",
    "pred_sets = predict_conformal_sets(model, X_test, q_hat)"
   ]
  },
  {
   "cell_type": "code",
   "execution_count": 38,
   "id": "d90c9a65-e6db-4f5d-80cd-e68fb7e46829",
   "metadata": {
    "execution": {
     "iopub.execute_input": "2025-07-23T14:29:04.864646Z",
     "iopub.status.busy": "2025-07-23T14:29:04.864132Z",
     "iopub.status.idle": "2025-07-23T14:29:04.870634Z",
     "shell.execute_reply": "2025-07-23T14:29:04.869442Z"
    },
    "papermill": {
     "duration": 0.03478,
     "end_time": "2025-07-23T14:29:04.874145",
     "exception": false,
     "start_time": "2025-07-23T14:29:04.839365",
     "status": "completed"
    },
    "tags": []
   },
   "outputs": [],
   "source": [
    "y_true = y_true.squeeze()"
   ]
  },
  {
   "cell_type": "code",
   "execution_count": 39,
   "id": "3a58a54a-1e68-46b9-927a-df01f18aebc8",
   "metadata": {
    "execution": {
     "iopub.execute_input": "2025-07-23T14:29:04.924548Z",
     "iopub.status.busy": "2025-07-23T14:29:04.924065Z",
     "iopub.status.idle": "2025-07-23T14:29:06.128243Z",
     "shell.execute_reply": "2025-07-23T14:29:06.127083Z"
    },
    "papermill": {
     "duration": 1.231331,
     "end_time": "2025-07-23T14:29:06.130591",
     "exception": false,
     "start_time": "2025-07-23T14:29:04.899260",
     "status": "completed"
    },
    "tags": []
   },
   "outputs": [],
   "source": [
    "from fairness_multiverse.conformal import evaluate_sets\n",
    "\n",
    "# Evaluate coverage and average set size on test data\n",
    "metrics = evaluate_sets(pred_sets, y_true)"
   ]
  },
  {
   "cell_type": "code",
   "execution_count": 40,
   "id": "5ce0a5cb-201f-45a0-ade5-94c7f0bd6095",
   "metadata": {
    "execution": {
     "iopub.execute_input": "2025-07-23T14:29:06.219965Z",
     "iopub.status.busy": "2025-07-23T14:29:06.218834Z",
     "iopub.status.idle": "2025-07-23T14:29:06.228752Z",
     "shell.execute_reply": "2025-07-23T14:29:06.227663Z"
    },
    "papermill": {
     "duration": 0.071299,
     "end_time": "2025-07-23T14:29:06.236295",
     "exception": false,
     "start_time": "2025-07-23T14:29:06.164996",
     "status": "completed"
    },
    "tags": []
   },
   "outputs": [
    {
     "data": {
      "text/plain": [
       "{'coverage': 0.9159513989521793, 'avg_size': 1.1446884405305986}"
      ]
     },
     "execution_count": 40,
     "metadata": {},
     "output_type": "execute_result"
    }
   ],
   "source": [
    "metrics"
   ]
  },
  {
   "cell_type": "code",
   "execution_count": 41,
   "id": "9b9a838d-31c9-430b-ae14-12baee460d17",
   "metadata": {
    "execution": {
     "iopub.execute_input": "2025-07-23T14:29:06.378834Z",
     "iopub.status.busy": "2025-07-23T14:29:06.378387Z",
     "iopub.status.idle": "2025-07-23T14:29:06.385733Z",
     "shell.execute_reply": "2025-07-23T14:29:06.384700Z"
    },
    "papermill": {
     "duration": 0.072861,
     "end_time": "2025-07-23T14:29:06.389223",
     "exception": false,
     "start_time": "2025-07-23T14:29:06.316362",
     "status": "completed"
    },
    "tags": []
   },
   "outputs": [],
   "source": [
    "example_universe = universe.copy()\n",
    "universe_model = example_universe.get(\"model\")\n",
    "universe_exclude_features = example_universe.get(\"exclude_features\")\n",
    "universe_exclude_subgroups = example_universe.get(\"exclude_subgroups\")\n",
    "universe_scale = example_universe.get(\"scale\")"
   ]
  },
  {
   "cell_type": "code",
   "execution_count": 42,
   "id": "f4b6a8ac-9dc0-4245-8a91-5b3b5999c4f9",
   "metadata": {
    "execution": {
     "iopub.execute_input": "2025-07-23T14:29:06.545005Z",
     "iopub.status.busy": "2025-07-23T14:29:06.544552Z",
     "iopub.status.idle": "2025-07-23T14:29:06.552340Z",
     "shell.execute_reply": "2025-07-23T14:29:06.551008Z"
    },
    "papermill": {
     "duration": 0.075703,
     "end_time": "2025-07-23T14:29:06.556470",
     "exception": false,
     "start_time": "2025-07-23T14:29:06.480767",
     "status": "completed"
    },
    "tags": []
   },
   "outputs": [],
   "source": [
    "cp_metrics_dict = {\n",
    "    \"universe_id\": [universe_id],\n",
    "    \"universe_model\": [universe_model],\n",
    "    \"universe_exclude_features\": [universe_exclude_features],\n",
    "    \"universe_exclude_subgroups\": [universe_exclude_subgroups],\n",
    "    \"universe_scale\": [universe_scale],\n",
    "    \"q_hat\": [q_hat],\n",
    "    \"coverage\": [metrics[\"coverage\"]],\n",
    "    \"avg_size\": [metrics[\"avg_size\"]],\n",
    "}"
   ]
  },
  {
   "cell_type": "code",
   "execution_count": 43,
   "id": "908acbb1-0371-4915-85ca-3fa520d2efe2",
   "metadata": {
    "execution": {
     "iopub.execute_input": "2025-07-23T14:29:06.751094Z",
     "iopub.status.busy": "2025-07-23T14:29:06.750612Z",
     "iopub.status.idle": "2025-07-23T14:29:06.759924Z",
     "shell.execute_reply": "2025-07-23T14:29:06.758935Z"
    },
    "papermill": {
     "duration": 0.115113,
     "end_time": "2025-07-23T14:29:06.764491",
     "exception": false,
     "start_time": "2025-07-23T14:29:06.649378",
     "status": "completed"
    },
    "tags": []
   },
   "outputs": [
    {
     "data": {
      "text/plain": [
       "{'universe_id': ['e45e5b79b986d17a53c94d3c04261c87'],\n",
       " 'universe_model': ['rf'],\n",
       " 'universe_exclude_features': ['sex'],\n",
       " 'universe_exclude_subgroups': ['drop-non-german'],\n",
       " 'universe_scale': ['scale'],\n",
       " 'q_hat': [0.65],\n",
       " 'coverage': [0.9159513989521793],\n",
       " 'avg_size': [1.1446884405305986]}"
      ]
     },
     "execution_count": 43,
     "metadata": {},
     "output_type": "execute_result"
    }
   ],
   "source": [
    "cp_metrics_dict"
   ]
  },
  {
   "cell_type": "code",
   "execution_count": 44,
   "id": "33007efc-14e9-4ec6-97ac-56a455c82265",
   "metadata": {
    "execution": {
     "iopub.execute_input": "2025-07-23T14:29:06.900756Z",
     "iopub.status.busy": "2025-07-23T14:29:06.900299Z",
     "iopub.status.idle": "2025-07-23T14:29:06.918053Z",
     "shell.execute_reply": "2025-07-23T14:29:06.916873Z"
    },
    "papermill": {
     "duration": 0.074284,
     "end_time": "2025-07-23T14:29:06.920447",
     "exception": false,
     "start_time": "2025-07-23T14:29:06.846163",
     "status": "completed"
    },
    "tags": []
   },
   "outputs": [],
   "source": [
    "cp_metrics_df = pd.DataFrame(cp_metrics_dict)"
   ]
  },
  {
   "cell_type": "code",
   "execution_count": 45,
   "id": "db12611b-57b2-4910-b9d0-355adfd6e7bf",
   "metadata": {
    "execution": {
     "iopub.execute_input": "2025-07-23T14:29:07.054826Z",
     "iopub.status.busy": "2025-07-23T14:29:07.054403Z",
     "iopub.status.idle": "2025-07-23T14:29:07.118054Z",
     "shell.execute_reply": "2025-07-23T14:29:07.116958Z"
    },
    "papermill": {
     "duration": 0.134793,
     "end_time": "2025-07-23T14:29:07.119928",
     "exception": false,
     "start_time": "2025-07-23T14:29:06.985135",
     "status": "completed"
    },
    "tags": []
   },
   "outputs": [
    {
     "data": {
      "text/html": [
       "<div>\n",
       "<style scoped>\n",
       "    .dataframe tbody tr th:only-of-type {\n",
       "        vertical-align: middle;\n",
       "    }\n",
       "\n",
       "    .dataframe tbody tr th {\n",
       "        vertical-align: top;\n",
       "    }\n",
       "\n",
       "    .dataframe thead th {\n",
       "        text-align: right;\n",
       "    }\n",
       "</style>\n",
       "<table border=\"1\" class=\"dataframe\">\n",
       "  <thead>\n",
       "    <tr style=\"text-align: right;\">\n",
       "      <th></th>\n",
       "      <th>universe_id</th>\n",
       "      <th>universe_model</th>\n",
       "      <th>universe_exclude_features</th>\n",
       "      <th>universe_exclude_subgroups</th>\n",
       "      <th>universe_scale</th>\n",
       "      <th>q_hat</th>\n",
       "      <th>coverage</th>\n",
       "      <th>avg_size</th>\n",
       "    </tr>\n",
       "  </thead>\n",
       "  <tbody>\n",
       "    <tr>\n",
       "      <th>0</th>\n",
       "      <td>e45e5b79b986d17a53c94d3c04261c87</td>\n",
       "      <td>rf</td>\n",
       "      <td>sex</td>\n",
       "      <td>drop-non-german</td>\n",
       "      <td>scale</td>\n",
       "      <td>0.65</td>\n",
       "      <td>0.915951</td>\n",
       "      <td>1.144688</td>\n",
       "    </tr>\n",
       "  </tbody>\n",
       "</table>\n",
       "</div>"
      ],
      "text/plain": [
       "                        universe_id universe_model universe_exclude_features  \\\n",
       "0  e45e5b79b986d17a53c94d3c04261c87             rf                       sex   \n",
       "\n",
       "  universe_exclude_subgroups universe_scale  q_hat  coverage  avg_size  \n",
       "0            drop-non-german          scale   0.65  0.915951  1.144688  "
      ]
     },
     "execution_count": 45,
     "metadata": {},
     "output_type": "execute_result"
    }
   ],
   "source": [
    "cp_metrics_df"
   ]
  },
  {
   "cell_type": "code",
   "execution_count": 46,
   "id": "b7fbde55-a0a1-47e4-9af6-fe4a17fa8c61",
   "metadata": {
    "execution": {
     "iopub.execute_input": "2025-07-23T14:29:07.262050Z",
     "iopub.status.busy": "2025-07-23T14:29:07.260974Z",
     "iopub.status.idle": "2025-07-23T14:29:07.266888Z",
     "shell.execute_reply": "2025-07-23T14:29:07.265841Z"
    },
    "papermill": {
     "duration": 0.081221,
     "end_time": "2025-07-23T14:29:07.270402",
     "exception": false,
     "start_time": "2025-07-23T14:29:07.189181",
     "status": "completed"
    },
    "tags": []
   },
   "outputs": [],
   "source": [
    "# Conditional Coverage & looking at subgroups"
   ]
  },
  {
   "cell_type": "code",
   "execution_count": 47,
   "id": "027ae886-68dd-4141-96c7-805a5450e1ef",
   "metadata": {
    "execution": {
     "iopub.execute_input": "2025-07-23T14:29:07.382716Z",
     "iopub.status.busy": "2025-07-23T14:29:07.381729Z",
     "iopub.status.idle": "2025-07-23T14:29:07.986681Z",
     "shell.execute_reply": "2025-07-23T14:29:07.985428Z"
    },
    "papermill": {
     "duration": 0.648716,
     "end_time": "2025-07-23T14:29:07.988665",
     "exception": false,
     "start_time": "2025-07-23T14:29:07.339949",
     "status": "completed"
    },
    "tags": []
   },
   "outputs": [],
   "source": [
    "from fairness_multiverse.conformal import build_cp_groups\n",
    "\n",
    "cp_groups_df = build_cp_groups(pred_sets, y_true, X_test.index, org_test)\n",
    "#needs universe_id and setting"
   ]
  },
  {
   "cell_type": "code",
   "execution_count": 48,
   "id": "c3b92545-903e-4839-89af-0f057907d7d6",
   "metadata": {
    "execution": {
     "iopub.execute_input": "2025-07-23T14:29:08.107155Z",
     "iopub.status.busy": "2025-07-23T14:29:08.106719Z",
     "iopub.status.idle": "2025-07-23T14:29:10.707341Z",
     "shell.execute_reply": "2025-07-23T14:29:10.705959Z"
    },
    "papermill": {
     "duration": 2.664529,
     "end_time": "2025-07-23T14:29:10.709692",
     "exception": false,
     "start_time": "2025-07-23T14:29:08.045163",
     "status": "completed"
    },
    "tags": []
   },
   "outputs": [],
   "source": [
    "# Define covered = 1 if true_label is in the predicted set\n",
    "cp_groups_df['covered'] = cp_groups_df.apply(\n",
    "    lambda r: int(r['true_label'] in r['pred_set']),\n",
    "    axis=1\n",
    ")"
   ]
  },
  {
   "cell_type": "code",
   "execution_count": 49,
   "id": "338ff529-1a6b-4b87-a931-8e4788d52aad",
   "metadata": {
    "execution": {
     "iopub.execute_input": "2025-07-23T14:29:10.777052Z",
     "iopub.status.busy": "2025-07-23T14:29:10.776020Z",
     "iopub.status.idle": "2025-07-23T14:29:10.782145Z",
     "shell.execute_reply": "2025-07-23T14:29:10.781240Z"
    },
    "papermill": {
     "duration": 0.050363,
     "end_time": "2025-07-23T14:29:10.783986",
     "exception": false,
     "start_time": "2025-07-23T14:29:10.733623",
     "status": "completed"
    },
    "tags": []
   },
   "outputs": [],
   "source": [
    "#cp_groups_df"
   ]
  },
  {
   "cell_type": "code",
   "execution_count": 50,
   "id": "90032e27-66df-4540-9169-4e89cfbaa758",
   "metadata": {
    "execution": {
     "iopub.execute_input": "2025-07-23T14:29:10.875297Z",
     "iopub.status.busy": "2025-07-23T14:29:10.874869Z",
     "iopub.status.idle": "2025-07-23T14:29:10.890340Z",
     "shell.execute_reply": "2025-07-23T14:29:10.888965Z"
    },
    "papermill": {
     "duration": 0.058238,
     "end_time": "2025-07-23T14:29:10.893349",
     "exception": false,
     "start_time": "2025-07-23T14:29:10.835111",
     "status": "completed"
    },
    "tags": []
   },
   "outputs": [],
   "source": [
    "subgroups = ['frau1','nongerman','nongerman_male','nongerman_female']\n",
    "\n",
    "# Conditional coverage for subgroup==1\n",
    "cond_coverage = {\n",
    "    g: cp_groups_df.loc[cp_groups_df[g]==1, 'covered'].mean()\n",
    "    for g in subgroups\n",
    "}"
   ]
  },
  {
   "cell_type": "code",
   "execution_count": 51,
   "id": "1e348fb1-b9c3-45bc-ba23-f016827a7e0d",
   "metadata": {
    "execution": {
     "iopub.execute_input": "2025-07-23T14:29:11.063249Z",
     "iopub.status.busy": "2025-07-23T14:29:11.062793Z",
     "iopub.status.idle": "2025-07-23T14:29:11.071599Z",
     "shell.execute_reply": "2025-07-23T14:29:11.070295Z"
    },
    "papermill": {
     "duration": 0.078344,
     "end_time": "2025-07-23T14:29:11.073423",
     "exception": false,
     "start_time": "2025-07-23T14:29:10.995079",
     "status": "completed"
    },
    "tags": []
   },
   "outputs": [
    {
     "data": {
      "text/plain": [
       "{'frau1': 0.9161342498989082,\n",
       " 'nongerman': 0.9126480660191995,\n",
       " 'nongerman_male': 0.9254255606592813,\n",
       " 'nongerman_female': 0.89150521609538}"
      ]
     },
     "execution_count": 51,
     "metadata": {},
     "output_type": "execute_result"
    }
   ],
   "source": [
    "cond_coverage"
   ]
  },
  {
   "cell_type": "code",
   "execution_count": 52,
   "id": "f5093324-c3dd-4d63-bc4c-8d945e5c8bbb",
   "metadata": {
    "execution": {
     "iopub.execute_input": "2025-07-23T14:29:11.241215Z",
     "iopub.status.busy": "2025-07-23T14:29:11.240772Z",
     "iopub.status.idle": "2025-07-23T14:29:11.249412Z",
     "shell.execute_reply": "2025-07-23T14:29:11.248255Z"
    },
    "papermill": {
     "duration": 0.109655,
     "end_time": "2025-07-23T14:29:11.258541",
     "exception": false,
     "start_time": "2025-07-23T14:29:11.148886",
     "status": "completed"
    },
    "tags": []
   },
   "outputs": [],
   "source": [
    "for subgroup, cov in cond_coverage.items():\n",
    "    cp_metrics_df[f\"cov_{subgroup}\"] = cov"
   ]
  },
  {
   "cell_type": "code",
   "execution_count": 53,
   "id": "6e872e10-dbe5-49e8-b554-5030c98ff75d",
   "metadata": {
    "execution": {
     "iopub.execute_input": "2025-07-23T14:29:11.446968Z",
     "iopub.status.busy": "2025-07-23T14:29:11.446479Z",
     "iopub.status.idle": "2025-07-23T14:29:11.489824Z",
     "shell.execute_reply": "2025-07-23T14:29:11.488548Z"
    },
    "papermill": {
     "duration": 0.110622,
     "end_time": "2025-07-23T14:29:11.491809",
     "exception": false,
     "start_time": "2025-07-23T14:29:11.381187",
     "status": "completed"
    },
    "tags": []
   },
   "outputs": [
    {
     "data": {
      "text/html": [
       "<div>\n",
       "<style scoped>\n",
       "    .dataframe tbody tr th:only-of-type {\n",
       "        vertical-align: middle;\n",
       "    }\n",
       "\n",
       "    .dataframe tbody tr th {\n",
       "        vertical-align: top;\n",
       "    }\n",
       "\n",
       "    .dataframe thead th {\n",
       "        text-align: right;\n",
       "    }\n",
       "</style>\n",
       "<table border=\"1\" class=\"dataframe\">\n",
       "  <thead>\n",
       "    <tr style=\"text-align: right;\">\n",
       "      <th></th>\n",
       "      <th>universe_id</th>\n",
       "      <th>universe_model</th>\n",
       "      <th>universe_exclude_features</th>\n",
       "      <th>universe_exclude_subgroups</th>\n",
       "      <th>universe_scale</th>\n",
       "      <th>q_hat</th>\n",
       "      <th>coverage</th>\n",
       "      <th>avg_size</th>\n",
       "      <th>cov_frau1</th>\n",
       "      <th>cov_nongerman</th>\n",
       "      <th>cov_nongerman_male</th>\n",
       "      <th>cov_nongerman_female</th>\n",
       "    </tr>\n",
       "  </thead>\n",
       "  <tbody>\n",
       "    <tr>\n",
       "      <th>0</th>\n",
       "      <td>e45e5b79b986d17a53c94d3c04261c87</td>\n",
       "      <td>rf</td>\n",
       "      <td>sex</td>\n",
       "      <td>drop-non-german</td>\n",
       "      <td>scale</td>\n",
       "      <td>0.65</td>\n",
       "      <td>0.915951</td>\n",
       "      <td>1.144688</td>\n",
       "      <td>0.916134</td>\n",
       "      <td>0.912648</td>\n",
       "      <td>0.925426</td>\n",
       "      <td>0.891505</td>\n",
       "    </tr>\n",
       "  </tbody>\n",
       "</table>\n",
       "</div>"
      ],
      "text/plain": [
       "                        universe_id universe_model universe_exclude_features  \\\n",
       "0  e45e5b79b986d17a53c94d3c04261c87             rf                       sex   \n",
       "\n",
       "  universe_exclude_subgroups universe_scale  q_hat  coverage  avg_size  \\\n",
       "0            drop-non-german          scale   0.65  0.915951  1.144688   \n",
       "\n",
       "   cov_frau1  cov_nongerman  cov_nongerman_male  cov_nongerman_female  \n",
       "0   0.916134       0.912648            0.925426              0.891505  "
      ]
     },
     "execution_count": 53,
     "metadata": {},
     "output_type": "execute_result"
    }
   ],
   "source": [
    "cp_metrics_df"
   ]
  },
  {
   "cell_type": "markdown",
   "id": "33774451",
   "metadata": {
    "papermill": {
     "duration": 0.064628,
     "end_time": "2025-07-23T14:29:11.621487",
     "exception": false,
     "start_time": "2025-07-23T14:29:11.556859",
     "status": "completed"
    },
    "tags": []
   },
   "source": [
    "# (Fairness) Metrics"
   ]
  },
  {
   "cell_type": "code",
   "execution_count": 54,
   "id": "debc5d62",
   "metadata": {
    "execution": {
     "iopub.execute_input": "2025-07-23T14:29:11.766835Z",
     "iopub.status.busy": "2025-07-23T14:29:11.766365Z",
     "iopub.status.idle": "2025-07-23T14:29:11.793345Z",
     "shell.execute_reply": "2025-07-23T14:29:11.792153Z"
    },
    "papermill": {
     "duration": 0.083648,
     "end_time": "2025-07-23T14:29:11.795491",
     "exception": false,
     "start_time": "2025-07-23T14:29:11.711843",
     "status": "completed"
    },
    "tags": []
   },
   "outputs": [],
   "source": [
    "# do I need to include maxdeutsch1.missing?\n",
    "\n",
    "import numpy as np\n",
    "\n",
    "colname_to_bin = \"maxdeutsch1\"\n",
    "majority_value = org_train[colname_to_bin].mode()[0]\n",
    "\n",
    "org_test[\"majmin\"] = np.where(org_test[colname_to_bin] == majority_value, \"majority\", \"minority\")"
   ]
  },
  {
   "cell_type": "code",
   "execution_count": 55,
   "id": "06a50de5",
   "metadata": {
    "execution": {
     "iopub.execute_input": "2025-07-23T14:29:11.847461Z",
     "iopub.status.busy": "2025-07-23T14:29:11.847012Z",
     "iopub.status.idle": "2025-07-23T14:29:16.610919Z",
     "shell.execute_reply": "2025-07-23T14:29:16.609763Z"
    },
    "papermill": {
     "duration": 4.791489,
     "end_time": "2025-07-23T14:29:16.613038",
     "exception": false,
     "start_time": "2025-07-23T14:29:11.821549",
     "status": "completed"
    },
    "tags": []
   },
   "outputs": [],
   "source": [
    "example_universe = universe.copy()\n",
    "example_universe[\"cutoff\"] = example_universe[\"cutoff\"][0]\n",
    "example_universe[\"eval_fairness_grouping\"] = example_universe[\"eval_fairness_grouping\"][0]\n",
    "fairness_dict, metric_frame = universe_analysis.compute_metrics(\n",
    "    example_universe,\n",
    "    y_pred_prob=probs_test,\n",
    "    y_test=y_true,\n",
    "    org_test=org_test,\n",
    ")"
   ]
  },
  {
   "cell_type": "markdown",
   "id": "f95d4e02",
   "metadata": {
    "papermill": {
     "duration": 0.049521,
     "end_time": "2025-07-23T14:29:16.708160",
     "exception": false,
     "start_time": "2025-07-23T14:29:16.658639",
     "status": "completed"
    },
    "tags": []
   },
   "source": [
    "# Overall"
   ]
  },
  {
   "cell_type": "markdown",
   "id": "bdee4871",
   "metadata": {
    "papermill": {
     "duration": 0.024841,
     "end_time": "2025-07-23T14:29:16.755122",
     "exception": false,
     "start_time": "2025-07-23T14:29:16.730281",
     "status": "completed"
    },
    "tags": []
   },
   "source": [
    "Fairness\n",
    "Main fairness target: Equalized Odds. Seems to be a better fit than equal opportunity, since we're not only interested in Y = 1. Seems to be a better fit than demographic parity, since we also care about accuracy, not just equal distribution of preds.\n",
    "\n",
    "Pick column for computation of fairness metrics\n",
    "\n",
    "Performance\n",
    "Overall performance measures, most interesting in relation to the measures split by group below"
   ]
  },
  {
   "cell_type": "code",
   "execution_count": 56,
   "id": "c4e067c6",
   "metadata": {
    "execution": {
     "iopub.execute_input": "2025-07-23T14:29:16.862743Z",
     "iopub.status.busy": "2025-07-23T14:29:16.862196Z",
     "iopub.status.idle": "2025-07-23T14:29:16.871750Z",
     "shell.execute_reply": "2025-07-23T14:29:16.870725Z"
    },
    "papermill": {
     "duration": 0.080737,
     "end_time": "2025-07-23T14:29:16.873549",
     "exception": false,
     "start_time": "2025-07-23T14:29:16.792812",
     "status": "completed"
    },
    "tags": []
   },
   "outputs": [
    {
     "data": {
      "text/plain": [
       "accuracy                   0.197135\n",
       "balanced accuracy          0.531083\n",
       "f1                         0.238532\n",
       "precision                  0.135786\n",
       "false positive rate        0.918110\n",
       "false negative rate        0.019725\n",
       "selection rate             0.926084\n",
       "count                  89710.000000\n",
       "dtype: float64"
      ]
     },
     "execution_count": 56,
     "metadata": {},
     "output_type": "execute_result"
    }
   ],
   "source": [
    "metric_frame.overall"
   ]
  },
  {
   "cell_type": "markdown",
   "id": "e968fe9d",
   "metadata": {
    "papermill": {
     "duration": 0.025074,
     "end_time": "2025-07-23T14:29:16.958298",
     "exception": false,
     "start_time": "2025-07-23T14:29:16.933224",
     "status": "completed"
    },
    "tags": []
   },
   "source": [
    "By Group"
   ]
  },
  {
   "cell_type": "code",
   "execution_count": 57,
   "id": "ec325bce",
   "metadata": {
    "execution": {
     "iopub.execute_input": "2025-07-23T14:29:16.987416Z",
     "iopub.status.busy": "2025-07-23T14:29:16.986867Z",
     "iopub.status.idle": "2025-07-23T14:29:17.005743Z",
     "shell.execute_reply": "2025-07-23T14:29:17.004660Z"
    },
    "papermill": {
     "duration": 0.036236,
     "end_time": "2025-07-23T14:29:17.007651",
     "exception": false,
     "start_time": "2025-07-23T14:29:16.971415",
     "status": "completed"
    },
    "tags": []
   },
   "outputs": [
    {
     "data": {
      "text/html": [
       "<div>\n",
       "<style scoped>\n",
       "    .dataframe tbody tr th:only-of-type {\n",
       "        vertical-align: middle;\n",
       "    }\n",
       "\n",
       "    .dataframe tbody tr th {\n",
       "        vertical-align: top;\n",
       "    }\n",
       "\n",
       "    .dataframe thead th {\n",
       "        text-align: right;\n",
       "    }\n",
       "</style>\n",
       "<table border=\"1\" class=\"dataframe\">\n",
       "  <thead>\n",
       "    <tr style=\"text-align: right;\">\n",
       "      <th></th>\n",
       "      <th>accuracy</th>\n",
       "      <th>balanced accuracy</th>\n",
       "      <th>f1</th>\n",
       "      <th>precision</th>\n",
       "      <th>false positive rate</th>\n",
       "      <th>false negative rate</th>\n",
       "      <th>selection rate</th>\n",
       "      <th>count</th>\n",
       "    </tr>\n",
       "    <tr>\n",
       "      <th>majmin</th>\n",
       "      <th></th>\n",
       "      <th></th>\n",
       "      <th></th>\n",
       "      <th></th>\n",
       "      <th></th>\n",
       "      <th></th>\n",
       "      <th></th>\n",
       "      <th></th>\n",
       "    </tr>\n",
       "  </thead>\n",
       "  <tbody>\n",
       "    <tr>\n",
       "      <th>majority</th>\n",
       "      <td>0.190559</td>\n",
       "      <td>0.530087</td>\n",
       "      <td>0.244566</td>\n",
       "      <td>0.139484</td>\n",
       "      <td>0.931401</td>\n",
       "      <td>0.008425</td>\n",
       "      <td>0.939352</td>\n",
       "      <td>69170.0</td>\n",
       "    </tr>\n",
       "    <tr>\n",
       "      <th>minority</th>\n",
       "      <td>0.219279</td>\n",
       "      <td>0.531227</td>\n",
       "      <td>0.216686</td>\n",
       "      <td>0.122514</td>\n",
       "      <td>0.874202</td>\n",
       "      <td>0.063345</td>\n",
       "      <td>0.881402</td>\n",
       "      <td>20540.0</td>\n",
       "    </tr>\n",
       "  </tbody>\n",
       "</table>\n",
       "</div>"
      ],
      "text/plain": [
       "          accuracy  balanced accuracy        f1  precision  \\\n",
       "majmin                                                       \n",
       "majority  0.190559           0.530087  0.244566   0.139484   \n",
       "minority  0.219279           0.531227  0.216686   0.122514   \n",
       "\n",
       "          false positive rate  false negative rate  selection rate    count  \n",
       "majmin                                                                       \n",
       "majority             0.931401             0.008425        0.939352  69170.0  \n",
       "minority             0.874202             0.063345        0.881402  20540.0  "
      ]
     },
     "execution_count": 57,
     "metadata": {},
     "output_type": "execute_result"
    }
   ],
   "source": [
    "metric_frame.by_group"
   ]
  },
  {
   "cell_type": "code",
   "execution_count": 58,
   "id": "a9ddbe63",
   "metadata": {
    "execution": {
     "iopub.execute_input": "2025-07-23T14:29:17.041013Z",
     "iopub.status.busy": "2025-07-23T14:29:17.040247Z",
     "iopub.status.idle": "2025-07-23T14:29:20.040739Z",
     "shell.execute_reply": "2025-07-23T14:29:20.039712Z"
    },
    "papermill": {
     "duration": 3.016767,
     "end_time": "2025-07-23T14:29:20.042418",
     "exception": false,
     "start_time": "2025-07-23T14:29:17.025651",
     "status": "completed"
    },
    "tags": []
   },
   "outputs": [
    {
     "data": {
      "text/plain": [
       "array([[<Axes: title={'center': 'accuracy'}, xlabel='majmin'>,\n",
       "        <Axes: title={'center': 'balanced accuracy'}, xlabel='majmin'>,\n",
       "        <Axes: title={'center': 'f1'}, xlabel='majmin'>],\n",
       "       [<Axes: title={'center': 'precision'}, xlabel='majmin'>,\n",
       "        <Axes: title={'center': 'false positive rate'}, xlabel='majmin'>,\n",
       "        <Axes: title={'center': 'false negative rate'}, xlabel='majmin'>],\n",
       "       [<Axes: title={'center': 'selection rate'}, xlabel='majmin'>,\n",
       "        <Axes: title={'center': 'count'}, xlabel='majmin'>,\n",
       "        <Axes: xlabel='majmin'>]], dtype=object)"
      ]
     },
     "execution_count": 58,
     "metadata": {},
     "output_type": "execute_result"
    },
    {
     "data": {
      "image/png": "[encoded data removed]",
      "text/plain": [
       "<Figure size 1200x800 with 9 Axes>"
      ]
     },
     "metadata": {},
     "output_type": "display_data"
    }
   ],
   "source": [
    "# In a graphic\n",
    "metric_frame.by_group.plot.bar(\n",
    "    subplots=True,\n",
    "    layout=[3, 3],\n",
    "    legend=False,\n",
    "    figsize=[12, 8],\n",
    "    title=\"Show all metrics\",\n",
    ")"
   ]
  },
  {
   "cell_type": "markdown",
   "id": "f57a0bac",
   "metadata": {
    "papermill": {
     "duration": 0.023865,
     "end_time": "2025-07-23T14:29:20.091812",
     "exception": false,
     "start_time": "2025-07-23T14:29:20.067947",
     "status": "completed"
    },
    "tags": []
   },
   "source": [
    "# Final Output"
   ]
  },
  {
   "cell_type": "code",
   "execution_count": 59,
   "id": "96d280a3",
   "metadata": {
    "execution": {
     "iopub.execute_input": "2025-07-23T14:29:20.142231Z",
     "iopub.status.busy": "2025-07-23T14:29:20.141524Z",
     "iopub.status.idle": "2025-07-23T14:29:20.150324Z",
     "shell.execute_reply": "2025-07-23T14:29:20.149390Z"
    },
    "papermill": {
     "duration": 0.036115,
     "end_time": "2025-07-23T14:29:20.152086",
     "exception": false,
     "start_time": "2025-07-23T14:29:20.115971",
     "status": "completed"
    },
    "tags": []
   },
   "outputs": [
    {
     "data": {
      "text/plain": [
       "4"
      ]
     },
     "execution_count": 59,
     "metadata": {},
     "output_type": "execute_result"
    }
   ],
   "source": [
    "sub_universes = universe_analysis.generate_sub_universes()\n",
    "len(sub_universes)"
   ]
  },
  {
   "cell_type": "code",
   "execution_count": 60,
   "id": "92adf7ba",
   "metadata": {
    "execution": {
     "iopub.execute_input": "2025-07-23T14:29:20.205156Z",
     "iopub.status.busy": "2025-07-23T14:29:20.204608Z",
     "iopub.status.idle": "2025-07-23T14:29:20.211526Z",
     "shell.execute_reply": "2025-07-23T14:29:20.210442Z"
    },
    "papermill": {
     "duration": 0.03655,
     "end_time": "2025-07-23T14:29:20.213461",
     "exception": false,
     "start_time": "2025-07-23T14:29:20.176911",
     "status": "completed"
    },
    "tags": []
   },
   "outputs": [],
   "source": [
    "def filter_sub_universe_data(sub_universe, org_test):\n",
    "    # Keep all rows — no filtering\n",
    "    keep_rows_mask = np.ones(org_test.shape[0], dtype=bool)\n",
    "\n",
    "    print(f\"[INFO] Keeping all rows: {keep_rows_mask.sum()} rows retained.\")\n",
    "    return keep_rows_mask"
   ]
  },
  {
   "cell_type": "code",
   "execution_count": 61,
   "id": "4a759155",
   "metadata": {
    "execution": {
     "iopub.execute_input": "2025-07-23T14:29:20.267344Z",
     "iopub.status.busy": "2025-07-23T14:29:20.266430Z",
     "iopub.status.idle": "2025-07-23T14:29:30.766903Z",
     "shell.execute_reply": "2025-07-23T14:29:30.765449Z"
    },
    "papermill": {
     "duration": 10.528874,
     "end_time": "2025-07-23T14:29:30.768740",
     "exception": false,
     "start_time": "2025-07-23T14:29:20.239866",
     "status": "completed"
    },
    "tags": []
   },
   "outputs": [
    {
     "name": "stdout",
     "output_type": "stream",
     "text": [
      "Stopping execution_time clock.\n",
      "[INFO] Keeping all rows: 89710 rows retained.\n"
     ]
    },
    {
     "name": "stdout",
     "output_type": "stream",
     "text": [
      "[INFO] Keeping all rows: 89710 rows retained.\n"
     ]
    },
    {
     "name": "stdout",
     "output_type": "stream",
     "text": [
      "[INFO] Keeping all rows: 89710 rows retained.\n"
     ]
    },
    {
     "name": "stdout",
     "output_type": "stream",
     "text": [
      "[INFO] Keeping all rows: 89710 rows retained.\n"
     ]
    },
    {
     "data": {
      "text/html": [
       "<div>\n",
       "<style scoped>\n",
       "    .dataframe tbody tr th:only-of-type {\n",
       "        vertical-align: middle;\n",
       "    }\n",
       "\n",
       "    .dataframe tbody tr th {\n",
       "        vertical-align: top;\n",
       "    }\n",
       "\n",
       "    .dataframe thead th {\n",
       "        text-align: right;\n",
       "    }\n",
       "</style>\n",
       "<table border=\"1\" class=\"dataframe\">\n",
       "  <thead>\n",
       "    <tr style=\"text-align: right;\">\n",
       "      <th></th>\n",
       "      <th>run_no</th>\n",
       "      <th>universe_id</th>\n",
       "      <th>universe_settings</th>\n",
       "      <th>execution_time</th>\n",
       "      <th>test_size_n</th>\n",
       "      <th>test_size_frac</th>\n",
       "      <th>fair_main_equalized_odds_difference</th>\n",
       "      <th>fair_main_equalized_odds_ratio</th>\n",
       "      <th>fair_main_demographic_parity_difference</th>\n",
       "      <th>fair_main_demographic_parity_ratio</th>\n",
       "      <th>...</th>\n",
       "      <th>perf_grp_precision_0</th>\n",
       "      <th>perf_grp_precision_1</th>\n",
       "      <th>perf_grp_false positive rate_0</th>\n",
       "      <th>perf_grp_false positive rate_1</th>\n",
       "      <th>perf_grp_false negative rate_0</th>\n",
       "      <th>perf_grp_false negative rate_1</th>\n",
       "      <th>perf_grp_selection rate_0</th>\n",
       "      <th>perf_grp_selection rate_1</th>\n",
       "      <th>perf_grp_count_0</th>\n",
       "      <th>perf_grp_count_1</th>\n",
       "    </tr>\n",
       "  </thead>\n",
       "  <tbody>\n",
       "    <tr>\n",
       "      <th>0</th>\n",
       "      <td>9</td>\n",
       "      <td>e45e5b79b986d17a53c94d3c04261c87</td>\n",
       "      <td>{\"cutoff\": \"quantile_0.1\", \"eval_fairness_grou...</td>\n",
       "      <td>60.897269</td>\n",
       "      <td>89710</td>\n",
       "      <td>1.0</td>\n",
       "      <td>0.057199</td>\n",
       "      <td>0.938588</td>\n",
       "      <td>0.057950</td>\n",
       "      <td>0.938308</td>\n",
       "      <td>...</td>\n",
       "      <td>NaN</td>\n",
       "      <td>NaN</td>\n",
       "      <td>NaN</td>\n",
       "      <td>NaN</td>\n",
       "      <td>NaN</td>\n",
       "      <td>NaN</td>\n",
       "      <td>NaN</td>\n",
       "      <td>NaN</td>\n",
       "      <td>NaN</td>\n",
       "      <td>NaN</td>\n",
       "    </tr>\n",
       "    <tr>\n",
       "      <th>0</th>\n",
       "      <td>9</td>\n",
       "      <td>e45e5b79b986d17a53c94d3c04261c87</td>\n",
       "      <td>{\"cutoff\": \"quantile_0.1\", \"eval_fairness_grou...</td>\n",
       "      <td>60.897269</td>\n",
       "      <td>89710</td>\n",
       "      <td>1.0</td>\n",
       "      <td>0.057199</td>\n",
       "      <td>0.938588</td>\n",
       "      <td>0.057950</td>\n",
       "      <td>0.938308</td>\n",
       "      <td>...</td>\n",
       "      <td>0.122514</td>\n",
       "      <td>0.139484</td>\n",
       "      <td>0.874202</td>\n",
       "      <td>0.931401</td>\n",
       "      <td>0.063345</td>\n",
       "      <td>0.008425</td>\n",
       "      <td>0.881402</td>\n",
       "      <td>0.939352</td>\n",
       "      <td>20540.0</td>\n",
       "      <td>69170.0</td>\n",
       "    </tr>\n",
       "    <tr>\n",
       "      <th>0</th>\n",
       "      <td>9</td>\n",
       "      <td>e45e5b79b986d17a53c94d3c04261c87</td>\n",
       "      <td>{\"cutoff\": \"quantile_0.25\", \"eval_fairness_gro...</td>\n",
       "      <td>60.897269</td>\n",
       "      <td>89710</td>\n",
       "      <td>1.0</td>\n",
       "      <td>0.093919</td>\n",
       "      <td>0.902130</td>\n",
       "      <td>0.067175</td>\n",
       "      <td>0.915438</td>\n",
       "      <td>...</td>\n",
       "      <td>NaN</td>\n",
       "      <td>NaN</td>\n",
       "      <td>NaN</td>\n",
       "      <td>NaN</td>\n",
       "      <td>NaN</td>\n",
       "      <td>NaN</td>\n",
       "      <td>NaN</td>\n",
       "      <td>NaN</td>\n",
       "      <td>NaN</td>\n",
       "      <td>NaN</td>\n",
       "    </tr>\n",
       "    <tr>\n",
       "      <th>0</th>\n",
       "      <td>9</td>\n",
       "      <td>e45e5b79b986d17a53c94d3c04261c87</td>\n",
       "      <td>{\"cutoff\": \"quantile_0.25\", \"eval_fairness_gro...</td>\n",
       "      <td>60.897269</td>\n",
       "      <td>89710</td>\n",
       "      <td>1.0</td>\n",
       "      <td>0.093919</td>\n",
       "      <td>0.902130</td>\n",
       "      <td>0.067175</td>\n",
       "      <td>0.915438</td>\n",
       "      <td>...</td>\n",
       "      <td>0.137243</td>\n",
       "      <td>0.159624</td>\n",
       "      <td>0.709168</td>\n",
       "      <td>0.769232</td>\n",
       "      <td>0.134291</td>\n",
       "      <td>0.040372</td>\n",
       "      <td>0.727215</td>\n",
       "      <td>0.794391</td>\n",
       "      <td>20540.0</td>\n",
       "      <td>69170.0</td>\n",
       "    </tr>\n",
       "  </tbody>\n",
       "</table>\n",
       "<p>4 rows × 50 columns</p>\n",
       "</div>"
      ],
      "text/plain": [
       "  run_no                       universe_id  \\\n",
       "0      9  e45e5b79b986d17a53c94d3c04261c87   \n",
       "0      9  e45e5b79b986d17a53c94d3c04261c87   \n",
       "0      9  e45e5b79b986d17a53c94d3c04261c87   \n",
       "0      9  e45e5b79b986d17a53c94d3c04261c87   \n",
       "\n",
       "                                   universe_settings  execution_time  \\\n",
       "0  {\"cutoff\": \"quantile_0.1\", \"eval_fairness_grou...       60.897269   \n",
       "0  {\"cutoff\": \"quantile_0.1\", \"eval_fairness_grou...       60.897269   \n",
       "0  {\"cutoff\": \"quantile_0.25\", \"eval_fairness_gro...       60.897269   \n",
       "0  {\"cutoff\": \"quantile_0.25\", \"eval_fairness_gro...       60.897269   \n",
       "\n",
       "   test_size_n  test_size_frac  fair_main_equalized_odds_difference  \\\n",
       "0        89710             1.0                             0.057199   \n",
       "0        89710             1.0                             0.057199   \n",
       "0        89710             1.0                             0.093919   \n",
       "0        89710             1.0                             0.093919   \n",
       "\n",
       "   fair_main_equalized_odds_ratio  fair_main_demographic_parity_difference  \\\n",
       "0                        0.938588                                 0.057950   \n",
       "0                        0.938588                                 0.057950   \n",
       "0                        0.902130                                 0.067175   \n",
       "0                        0.902130                                 0.067175   \n",
       "\n",
       "   fair_main_demographic_parity_ratio  ...  perf_grp_precision_0  \\\n",
       "0                            0.938308  ...                   NaN   \n",
       "0                            0.938308  ...              0.122514   \n",
       "0                            0.915438  ...                   NaN   \n",
       "0                            0.915438  ...              0.137243   \n",
       "\n",
       "   perf_grp_precision_1  perf_grp_false positive rate_0  \\\n",
       "0                   NaN                             NaN   \n",
       "0              0.139484                        0.874202   \n",
       "0                   NaN                             NaN   \n",
       "0              0.159624                        0.709168   \n",
       "\n",
       "   perf_grp_false positive rate_1  perf_grp_false negative rate_0  \\\n",
       "0                             NaN                             NaN   \n",
       "0                        0.931401                        0.063345   \n",
       "0                             NaN                             NaN   \n",
       "0                        0.769232                        0.134291   \n",
       "\n",
       "   perf_grp_false negative rate_1  perf_grp_selection rate_0  \\\n",
       "0                             NaN                        NaN   \n",
       "0                        0.008425                   0.881402   \n",
       "0                             NaN                        NaN   \n",
       "0                        0.040372                   0.727215   \n",
       "\n",
       "   perf_grp_selection rate_1  perf_grp_count_0  perf_grp_count_1  \n",
       "0                        NaN               NaN               NaN  \n",
       "0                   0.939352           20540.0           69170.0  \n",
       "0                        NaN               NaN               NaN  \n",
       "0                   0.794391           20540.0           69170.0  \n",
       "\n",
       "[4 rows x 50 columns]"
      ]
     },
     "execution_count": 61,
     "metadata": {},
     "output_type": "execute_result"
    }
   ],
   "source": [
    "final_output = universe_analysis.generate_final_output(\n",
    "    y_pred_prob=probs_test,\n",
    "    y_test=y_true,\n",
    "    org_test=org_test,\n",
    "    filter_data=filter_sub_universe_data,\n",
    "    cp_metrics_df=cp_metrics_df,\n",
    "    save=True,\n",
    ")\n",
    "final_output"
   ]
  },
  {
   "cell_type": "code",
   "execution_count": null,
   "id": "721ff514-cb11-46f8-b6fc-50392f74b5cb",
   "metadata": {
    "papermill": {
     "duration": 0.027571,
     "end_time": "2025-07-23T14:29:30.825089",
     "exception": false,
     "start_time": "2025-07-23T14:29:30.797518",
     "status": "completed"
    },
    "tags": []
   },
   "outputs": [],
   "source": []
  }
 ],
 "metadata": {
  "celltoolbar": "Tags",
  "kernelspec": {
   "display_name": "Python (CMA Fairness)",
   "language": "python",
   "name": "cma_fair_env"
  },
  "language_info": {
   "codemirror_mode": {
    "name": "ipython",
    "version": 3
   },
   "file_extension": ".py",
   "mimetype": "text/x-python",
   "name": "python",
   "nbconvert_exporter": "python",
   "pygments_lexer": "ipython3",
   "version": "3.10.12"
  },
  "papermill": {
   "default_parameters": {},
   "duration": 79.571795,
   "end_time": "2025-07-23T14:29:31.673483",
   "environment_variables": {},
   "exception": null,
   "input_path": "universe_analysis.ipynb",
   "output_path": "output/runs/9/notebooks/m_9-e45e5b79b986d17a53c94d3c04261c87.ipynb",
   "parameters": {
    "output_dir": "output",
    "run_no": "9",
    "seed": "2023",
    "universe": "{\"cutoff\": [\"quantile_0.1\", \"quantile_0.25\"], \"eval_fairness_grouping\": [\"majority-minority\", \"nationality-all\"], \"exclude_features\": \"sex\", \"exclude_subgroups\": \"drop-non-german\", \"model\": \"rf\", \"scale\": \"scale\"}",
    "universe_id": "e45e5b79b986d17a53c94d3c04261c87"
   },
   "start_time": "2025-07-23T14:28:12.101688",
   "version": "2.6.0"
  }
 },
 "nbformat": 4,
 "nbformat_minor": 5
}