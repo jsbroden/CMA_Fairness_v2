{
 "cells": [
  {
   "cell_type": "code",
   "execution_count": 1,
   "id": "f159f837-637b-42ba-96b5-ec9a68c44524",
   "metadata": {
    "execution": {
     "iopub.execute_input": "2025-07-23T14:33:20.232212Z",
     "iopub.status.busy": "2025-07-23T14:33:20.231352Z",
     "iopub.status.idle": "2025-07-23T14:33:20.246530Z",
     "shell.execute_reply": "2025-07-23T14:33:20.245409Z"
    },
    "papermill": {
     "duration": 0.034941,
     "end_time": "2025-07-23T14:33:20.248237",
     "exception": false,
     "start_time": "2025-07-23T14:33:20.213296",
     "status": "completed"
    },
    "tags": []
   },
   "outputs": [
    {
     "name": "stdout",
     "output_type": "stream",
     "text": [
      "/dss/dsshome1/0C/ra93lal2/cma/CMA_Fairness_v2\n"
     ]
    },
    {
     "name": "stderr",
     "output_type": "stream",
     "text": [
      "/dss/dsshome1/0C/ra93lal2/.local/share/virtualenvs/CMA_Fairness_v2-3j10GkSs/lib/python3.10/site-packages/IPython/core/magics/osm.py:393: UserWarning: This is now an optional IPython functionality, using bookmarks requires you to install the `pickleshare` library.\n",
      "  bkms = self.shell.db.get('bookmarks', {})\n",
      "/dss/dsshome1/0C/ra93lal2/.local/share/virtualenvs/CMA_Fairness_v2-3j10GkSs/lib/python3.10/site-packages/IPython/core/magics/osm.py:417: UserWarning: This is now an optional IPython functionality, setting dhist requires you to install the `pickleshare` library.\n",
      "  self.shell.db['dhist'] = compress_dhist(dhist)[-100:]\n"
     ]
    }
   ],
   "source": [
    "%cd ~/cma/CMA_Fairness_v2"
   ]
  },
  {
   "cell_type": "markdown",
   "id": "de2603b9",
   "metadata": {
    "papermill": {
     "duration": 0.016027,
     "end_time": "2025-07-23T14:33:20.281185",
     "exception": false,
     "start_time": "2025-07-23T14:33:20.265158",
     "status": "completed"
    },
    "tags": []
   },
   "source": [
    "The following cell holds the definition of our parameters, these values can be overriden by rendering the with e.g. the following command:\n",
    "\n",
    "papermill -p alpha 0.2 -p ratio 0.3 universe_analysis.ipynb output/test_run.ipynb"
   ]
  },
  {
   "cell_type": "code",
   "execution_count": 2,
   "id": "a80968a0-40bb-4fa9-85ef-2d5eefb01975",
   "metadata": {
    "execution": {
     "iopub.execute_input": "2025-07-23T14:33:20.315140Z",
     "iopub.status.busy": "2025-07-23T14:33:20.314660Z",
     "iopub.status.idle": "2025-07-23T14:33:20.320248Z",
     "shell.execute_reply": "2025-07-23T14:33:20.319304Z"
    },
    "papermill": {
     "duration": 0.024538,
     "end_time": "2025-07-23T14:33:20.321934",
     "exception": false,
     "start_time": "2025-07-23T14:33:20.297396",
     "status": "completed"
    },
    "tags": []
   },
   "outputs": [
    {
     "name": "stdout",
     "output_type": "stream",
     "text": [
      "Current working directory: /dss/dsshome1/0C/ra93lal2/cma/CMA_Fairness_v2\n"
     ]
    }
   ],
   "source": [
    "import os\n",
    "print(\"Current working directory:\", os.getcwd())"
   ]
  },
  {
   "cell_type": "code",
   "execution_count": 3,
   "id": "2dce4c03",
   "metadata": {
    "execution": {
     "iopub.execute_input": "2025-07-23T14:33:20.356677Z",
     "iopub.status.busy": "2025-07-23T14:33:20.356184Z",
     "iopub.status.idle": "2025-07-23T14:33:20.362397Z",
     "shell.execute_reply": "2025-07-23T14:33:20.361310Z"
    },
    "papermill": {
     "duration": 0.025385,
     "end_time": "2025-07-23T14:33:20.364022",
     "exception": false,
     "start_time": "2025-07-23T14:33:20.338637",
     "status": "completed"
    },
    "tags": [
     "parameters"
    ]
   },
   "outputs": [],
   "source": [
    "run_no = 0\n",
    "universe_id = \"test\"\n",
    "universe = {\n",
    "    \"scale\": \"scale\", # \"scale\", \"do-not-scale\",\n",
    "    \"model\": \"elasticnet\", # \"logreg\", \"penalized_logreg\", \"rf\", \"gbm\", \"elasticnet\"\n",
    "    \"cutoff\": [\"quantile_0.15\", \"quantile_0.30\"],\n",
    "    \"exclude_features\": \"age\", # \"none\", \"nationality\", \"sex\", \"nationality-sex\", \"age\"\n",
    "    \"exclude_subgroups\": \"keep-all\", # \"keep-all\", \"drop-non-german\"\n",
    "    #\"training_sample\": \"restricted\", # \"restricted\", \"full\"\n",
    "    \"eval_fairness_grouping\": [\"majority-minority\", \"nationality-all\"]\n",
    "}\n",
    "\n",
    "output_dir=\"./output\"\n",
    "seed=0"
   ]
  },
  {
   "cell_type": "code",
   "execution_count": 4,
   "id": "956acac4",
   "metadata": {
    "execution": {
     "iopub.execute_input": "2025-07-23T14:33:20.399607Z",
     "iopub.status.busy": "2025-07-23T14:33:20.399097Z",
     "iopub.status.idle": "2025-07-23T14:33:20.404700Z",
     "shell.execute_reply": "2025-07-23T14:33:20.403552Z"
    },
    "papermill": {
     "duration": 0.025551,
     "end_time": "2025-07-23T14:33:20.406494",
     "exception": false,
     "start_time": "2025-07-23T14:33:20.380943",
     "status": "completed"
    },
    "tags": [
     "injected-parameters"
    ]
   },
   "outputs": [],
   "source": [
    "# Parameters\n",
    "universe_id = \"b0bb8714a0c6b65a9693758732c3f60a\"\n",
    "run_no = \"9\"\n",
    "universe = \"{\\\"cutoff\\\": [\\\"quantile_0.1\\\", \\\"quantile_0.25\\\"], \\\"eval_fairness_grouping\\\": [\\\"majority-minority\\\", \\\"nationality-all\\\"], \\\"exclude_features\\\": \\\"nationality-sex\\\", \\\"exclude_subgroups\\\": \\\"keep-all\\\", \\\"model\\\": \\\"elasticnet\\\", \\\"scale\\\": \\\"scale\\\"}\"\n",
    "output_dir = \"output\"\n",
    "seed = \"2023\"\n"
   ]
  },
  {
   "cell_type": "code",
   "execution_count": 5,
   "id": "1650acaf",
   "metadata": {
    "execution": {
     "iopub.execute_input": "2025-07-23T14:33:20.442475Z",
     "iopub.status.busy": "2025-07-23T14:33:20.441970Z",
     "iopub.status.idle": "2025-07-23T14:33:20.447448Z",
     "shell.execute_reply": "2025-07-23T14:33:20.446450Z"
    },
    "papermill": {
     "duration": 0.025418,
     "end_time": "2025-07-23T14:33:20.449226",
     "exception": false,
     "start_time": "2025-07-23T14:33:20.423808",
     "status": "completed"
    },
    "tags": []
   },
   "outputs": [],
   "source": [
    "import json\n",
    "# Parse universe into dict if it is passed as a string\n",
    "if isinstance(universe, str):\n",
    "    universe = json.loads(universe)"
   ]
  },
  {
   "cell_type": "code",
   "execution_count": 6,
   "id": "16620c48",
   "metadata": {
    "execution": {
     "iopub.execute_input": "2025-07-23T14:33:20.485358Z",
     "iopub.status.busy": "2025-07-23T14:33:20.484613Z",
     "iopub.status.idle": "2025-07-23T14:33:20.532999Z",
     "shell.execute_reply": "2025-07-23T14:33:20.532058Z"
    },
    "papermill": {
     "duration": 0.068375,
     "end_time": "2025-07-23T14:33:20.534916",
     "exception": false,
     "start_time": "2025-07-23T14:33:20.466541",
     "status": "completed"
    },
    "tags": []
   },
   "outputs": [],
   "source": [
    "# Auto-reload the custom package\n",
    "%load_ext autoreload\n",
    "%autoreload 1\n",
    "%aimport fairness_multiverse"
   ]
  },
  {
   "cell_type": "code",
   "execution_count": 7,
   "id": "01c5c9f3",
   "metadata": {
    "execution": {
     "iopub.execute_input": "2025-07-23T14:33:20.570987Z",
     "iopub.status.busy": "2025-07-23T14:33:20.570097Z",
     "iopub.status.idle": "2025-07-23T14:33:22.646231Z",
     "shell.execute_reply": "2025-07-23T14:33:22.645225Z"
    },
    "papermill": {
     "duration": 2.096208,
     "end_time": "2025-07-23T14:33:22.648153",
     "exception": false,
     "start_time": "2025-07-23T14:33:20.551945",
     "status": "completed"
    },
    "tags": []
   },
   "outputs": [],
   "source": [
    "from fairness_multiverse.universe import UniverseAnalysis\n",
    "\n",
    "universe_analysis = UniverseAnalysis(\n",
    "    run_no = run_no,\n",
    "    universe_id = universe_id,\n",
    "    universe = universe,\n",
    "    output_dir=output_dir,\n",
    ")"
   ]
  },
  {
   "cell_type": "code",
   "execution_count": 8,
   "id": "106241f5",
   "metadata": {
    "execution": {
     "iopub.execute_input": "2025-07-23T14:33:22.682486Z",
     "iopub.status.busy": "2025-07-23T14:33:22.681978Z",
     "iopub.status.idle": "2025-07-23T14:33:22.689025Z",
     "shell.execute_reply": "2025-07-23T14:33:22.687991Z"
    },
    "papermill": {
     "duration": 0.025884,
     "end_time": "2025-07-23T14:33:22.690754",
     "exception": false,
     "start_time": "2025-07-23T14:33:22.664870",
     "status": "completed"
    },
    "tags": []
   },
   "outputs": [
    {
     "name": "stdout",
     "output_type": "stream",
     "text": [
      "Using Seed: 2023\n"
     ]
    }
   ],
   "source": [
    "import numpy as np\n",
    "parsed_seed = int(seed)\n",
    "np.random.seed(parsed_seed)\n",
    "print(f\"Using Seed: {parsed_seed}\")"
   ]
  },
  {
   "cell_type": "markdown",
   "id": "e0ebdc57",
   "metadata": {
    "papermill": {
     "duration": 0.015853,
     "end_time": "2025-07-23T14:33:22.723348",
     "exception": false,
     "start_time": "2025-07-23T14:33:22.707495",
     "status": "completed"
    },
    "tags": []
   },
   "source": [
    "# Loading Data"
   ]
  },
  {
   "cell_type": "markdown",
   "id": "681925a3",
   "metadata": {
    "papermill": {
     "duration": 0.015881,
     "end_time": "2025-07-23T14:33:22.755183",
     "exception": false,
     "start_time": "2025-07-23T14:33:22.739302",
     "status": "completed"
    },
    "tags": []
   },
   "source": [
    "Load siab_train, siab_test, siab_calib and/or \n",
    "load siab_train_features, siab_train_labels"
   ]
  },
  {
   "cell_type": "code",
   "execution_count": 9,
   "id": "f0496b8a",
   "metadata": {
    "execution": {
     "iopub.execute_input": "2025-07-23T14:33:22.788843Z",
     "iopub.status.busy": "2025-07-23T14:33:22.788288Z",
     "iopub.status.idle": "2025-07-23T14:33:22.794480Z",
     "shell.execute_reply": "2025-07-23T14:33:22.793408Z"
    },
    "papermill": {
     "duration": 0.024973,
     "end_time": "2025-07-23T14:33:22.796108",
     "exception": false,
     "start_time": "2025-07-23T14:33:22.771135",
     "status": "completed"
    },
    "tags": []
   },
   "outputs": [],
   "source": [
    "# Do I need to load siab? Delete this cell?\n",
    "\n",
    "#from pathlib import Path\n",
    "#import pandas as pd\n",
    "#\n",
    "## File paths\n",
    "#raw_file = Path(\"data/raw/siab.csv\")\n",
    "#cache_file = Path(\"data/siab_cached.csv.gz\")\n",
    "#\n",
    "## Ensure cache directory exists\n",
    "#cache_file.parent.mkdir(parents=True, exist_ok=True)\n",
    "#\n",
    "## Load with simple caching\n",
    "#if cache_file.exists():\n",
    "#    print(f\"Loading SIAB data from cache: {cache_file}\")\n",
    "#    siab = pd.read_csv(cache_file, compression='gzip')\n",
    "#else:\n",
    "#    print(f\"Cache not found. Reading raw SIAB data: {raw_file}\")\n",
    "#    siab = pd.read_csv(raw_file)\n",
    "#    siab.to_csv(cache_file, index=False, compression='gzip')\n",
    "#    print(f\"Cached SIAB data to: {cache_file}\")\n",
    "#\n",
    "## Now use `siab` DataFrame as needed\n",
    "#print(siab.shape)\n"
   ]
  },
  {
   "cell_type": "code",
   "execution_count": 10,
   "id": "a0edb063",
   "metadata": {
    "execution": {
     "iopub.execute_input": "2025-07-23T14:33:22.830702Z",
     "iopub.status.busy": "2025-07-23T14:33:22.829769Z",
     "iopub.status.idle": "2025-07-23T14:33:24.102776Z",
     "shell.execute_reply": "2025-07-23T14:33:24.101845Z"
    },
    "papermill": {
     "duration": 1.292008,
     "end_time": "2025-07-23T14:33:24.104737",
     "exception": false,
     "start_time": "2025-07-23T14:33:22.812729",
     "status": "completed"
    },
    "tags": []
   },
   "outputs": [],
   "source": [
    "import pandas as pd\n",
    "\n",
    "X_train = pd.read_csv(\"./data/X_train.csv\")\n",
    "y_train = pd.read_csv(\"./data/y_train.csv\")"
   ]
  },
  {
   "cell_type": "code",
   "execution_count": 11,
   "id": "63d08085",
   "metadata": {
    "execution": {
     "iopub.execute_input": "2025-07-23T14:33:24.139336Z",
     "iopub.status.busy": "2025-07-23T14:33:24.138867Z",
     "iopub.status.idle": "2025-07-23T14:33:25.518873Z",
     "shell.execute_reply": "2025-07-23T14:33:25.518069Z"
    },
    "papermill": {
     "duration": 1.398765,
     "end_time": "2025-07-23T14:33:25.520426",
     "exception": false,
     "start_time": "2025-07-23T14:33:24.121661",
     "status": "completed"
    },
    "tags": []
   },
   "outputs": [],
   "source": [
    "X_test = pd.read_csv(\"./data/X_test.csv\")\n",
    "y_true = pd.read_csv(\"./data/y_test.csv\")"
   ]
  },
  {
   "cell_type": "code",
   "execution_count": 12,
   "id": "98a8d0fa-1d3d-4ed8-bb2c-281470e24add",
   "metadata": {
    "execution": {
     "iopub.execute_input": "2025-07-23T14:33:25.548034Z",
     "iopub.status.busy": "2025-07-23T14:33:25.547553Z",
     "iopub.status.idle": "2025-07-23T14:33:26.915400Z",
     "shell.execute_reply": "2025-07-23T14:33:26.914425Z"
    },
    "papermill": {
     "duration": 1.385602,
     "end_time": "2025-07-23T14:33:26.917088",
     "exception": false,
     "start_time": "2025-07-23T14:33:25.531486",
     "status": "completed"
    },
    "tags": []
   },
   "outputs": [],
   "source": [
    "# Calibration data for conformal\n",
    "X_calib = pd.read_csv(\"./data/X_calib.csv\")\n",
    "y_calib = pd.read_csv(\"./data/y_calib.csv\")"
   ]
  },
  {
   "cell_type": "code",
   "execution_count": 13,
   "id": "e6c733c5",
   "metadata": {
    "execution": {
     "iopub.execute_input": "2025-07-23T14:33:26.937946Z",
     "iopub.status.busy": "2025-07-23T14:33:26.937114Z",
     "iopub.status.idle": "2025-07-23T14:33:27.066472Z",
     "shell.execute_reply": "2025-07-23T14:33:27.065674Z"
    },
    "papermill": {
     "duration": 0.141195,
     "end_time": "2025-07-23T14:33:27.068069",
     "exception": false,
     "start_time": "2025-07-23T14:33:26.926874",
     "status": "completed"
    },
    "tags": []
   },
   "outputs": [],
   "source": [
    "# Auxiliary data needed downstream in the pipeline\n",
    "\n",
    "org_train = X_train.copy()\n",
    "org_test = X_test.copy()\n",
    "org_calib = X_calib.copy()"
   ]
  },
  {
   "cell_type": "markdown",
   "id": "0a4a1b33",
   "metadata": {
    "papermill": {
     "duration": 0.011409,
     "end_time": "2025-07-23T14:33:27.090055",
     "exception": false,
     "start_time": "2025-07-23T14:33:27.078646",
     "status": "completed"
    },
    "tags": []
   },
   "source": [
    "# Preprocessing Data"
   ]
  },
  {
   "cell_type": "code",
   "execution_count": 14,
   "id": "ca879031",
   "metadata": {
    "execution": {
     "iopub.execute_input": "2025-07-23T14:33:27.109772Z",
     "iopub.status.busy": "2025-07-23T14:33:27.109409Z",
     "iopub.status.idle": "2025-07-23T14:33:27.114453Z",
     "shell.execute_reply": "2025-07-23T14:33:27.113692Z"
    },
    "papermill": {
     "duration": 0.016662,
     "end_time": "2025-07-23T14:33:27.115856",
     "exception": false,
     "start_time": "2025-07-23T14:33:27.099194",
     "status": "completed"
    },
    "tags": []
   },
   "outputs": [],
   "source": [
    "# EXCLUDE PROTECTED FEATURES\n",
    "# ----------------------\n",
    "# \"exclude_features\": \"none\", # \"nationality\", \"sex\", \"nationality-sex\"\n",
    "\n",
    "excluded_features = universe[\"exclude_features\"].split(\"-\") # split, e.g.: \"nationality-sex\" -> [\"nationality\", \"sex\"]\n",
    "excluded_features_dictionary = {\n",
    "    \"nationality\": [\"maxdeutsch1\", \"maxdeutsch.Missing.\"],\n",
    "    \"sex\": [\"frau1\"],\n",
    "    \"age\": [\"age\"],\n",
    "}\n"
   ]
  },
  {
   "cell_type": "code",
   "execution_count": 15,
   "id": "b745ac60",
   "metadata": {
    "execution": {
     "iopub.execute_input": "2025-07-23T14:33:27.140104Z",
     "iopub.status.busy": "2025-07-23T14:33:27.139758Z",
     "iopub.status.idle": "2025-07-23T14:33:27.144846Z",
     "shell.execute_reply": "2025-07-23T14:33:27.143890Z"
    },
    "papermill": {
     "duration": 0.016803,
     "end_time": "2025-07-23T14:33:27.146324",
     "exception": false,
     "start_time": "2025-07-23T14:33:27.129521",
     "status": "completed"
    },
    "tags": []
   },
   "outputs": [],
   "source": [
    "# Code nice names to column names\n",
    "\n",
    "excluded_features_columns = [\n",
    "    excluded_features_dictionary[f] for f in excluded_features if len(f) > 0 and f != \"none\"\n",
    "]"
   ]
  },
  {
   "cell_type": "code",
   "execution_count": 16,
   "id": "f84f73a2",
   "metadata": {
    "execution": {
     "iopub.execute_input": "2025-07-23T14:33:27.170955Z",
     "iopub.status.busy": "2025-07-23T14:33:27.170494Z",
     "iopub.status.idle": "2025-07-23T14:33:27.176177Z",
     "shell.execute_reply": "2025-07-23T14:33:27.175380Z"
    },
    "papermill": {
     "duration": 0.02117,
     "end_time": "2025-07-23T14:33:27.177680",
     "exception": false,
     "start_time": "2025-07-23T14:33:27.156510",
     "status": "completed"
    },
    "tags": []
   },
   "outputs": [],
   "source": [
    "from utils import flatten_once\n",
    "\n",
    "excluded_features_columns = flatten_once(excluded_features_columns)"
   ]
  },
  {
   "cell_type": "code",
   "execution_count": 17,
   "id": "884dea22",
   "metadata": {
    "execution": {
     "iopub.execute_input": "2025-07-23T14:33:27.198771Z",
     "iopub.status.busy": "2025-07-23T14:33:27.198081Z",
     "iopub.status.idle": "2025-07-23T14:33:27.243148Z",
     "shell.execute_reply": "2025-07-23T14:33:27.242068Z"
    },
    "papermill": {
     "duration": 0.05745,
     "end_time": "2025-07-23T14:33:27.245091",
     "exception": false,
     "start_time": "2025-07-23T14:33:27.187641",
     "status": "completed"
    },
    "tags": []
   },
   "outputs": [
    {
     "name": "stdout",
     "output_type": "stream",
     "text": [
      "Dropping features: ['maxdeutsch1', 'maxdeutsch.Missing.', 'frau1']\n"
     ]
    }
   ],
   "source": [
    "if len(excluded_features_columns) > 0:\n",
    "    print(f\"Dropping features: {excluded_features_columns}\")\n",
    "    X_train.drop(excluded_features_columns, axis=1, inplace=True)"
   ]
  },
  {
   "cell_type": "code",
   "execution_count": 18,
   "id": "95ab8b16",
   "metadata": {
    "execution": {
     "iopub.execute_input": "2025-07-23T14:33:27.281046Z",
     "iopub.status.busy": "2025-07-23T14:33:27.280022Z",
     "iopub.status.idle": "2025-07-23T14:33:27.328878Z",
     "shell.execute_reply": "2025-07-23T14:33:27.327828Z"
    },
    "papermill": {
     "duration": 0.063638,
     "end_time": "2025-07-23T14:33:27.330594",
     "exception": false,
     "start_time": "2025-07-23T14:33:27.266956",
     "status": "completed"
    },
    "tags": []
   },
   "outputs": [
    {
     "name": "stdout",
     "output_type": "stream",
     "text": [
      "Dropping features: ['maxdeutsch1', 'maxdeutsch.Missing.', 'frau1']\n"
     ]
    }
   ],
   "source": [
    "if len(excluded_features_columns) > 0:\n",
    "    print(f\"Dropping features: {excluded_features_columns}\")\n",
    "    X_test.drop(excluded_features_columns, axis=1, inplace=True)"
   ]
  },
  {
   "cell_type": "code",
   "execution_count": 19,
   "id": "1853aaf5-fb9f-46cb-a2b5-8ea4ae2237e4",
   "metadata": {
    "execution": {
     "iopub.execute_input": "2025-07-23T14:33:27.366848Z",
     "iopub.status.busy": "2025-07-23T14:33:27.366407Z",
     "iopub.status.idle": "2025-07-23T14:33:27.418737Z",
     "shell.execute_reply": "2025-07-23T14:33:27.417488Z"
    },
    "papermill": {
     "duration": 0.072015,
     "end_time": "2025-07-23T14:33:27.420377",
     "exception": false,
     "start_time": "2025-07-23T14:33:27.348362",
     "status": "completed"
    },
    "tags": []
   },
   "outputs": [
    {
     "name": "stdout",
     "output_type": "stream",
     "text": [
      "Dropping features: ['maxdeutsch1', 'maxdeutsch.Missing.', 'frau1']\n"
     ]
    }
   ],
   "source": [
    "if len(excluded_features_columns) > 0:\n",
    "    print(f\"Dropping features: {excluded_features_columns}\")\n",
    "    X_calib.drop(excluded_features_columns, axis=1, inplace=True)"
   ]
  },
  {
   "cell_type": "code",
   "execution_count": 20,
   "id": "76c4dc6d",
   "metadata": {
    "execution": {
     "iopub.execute_input": "2025-07-23T14:33:27.457473Z",
     "iopub.status.busy": "2025-07-23T14:33:27.456576Z",
     "iopub.status.idle": "2025-07-23T14:33:27.462636Z",
     "shell.execute_reply": "2025-07-23T14:33:27.461609Z"
    },
    "papermill": {
     "duration": 0.02605,
     "end_time": "2025-07-23T14:33:27.464406",
     "exception": false,
     "start_time": "2025-07-23T14:33:27.438356",
     "status": "completed"
    },
    "tags": []
   },
   "outputs": [],
   "source": [
    "# EXCLUDE CERTAIN SUBGROUPS\n",
    "# ----------------------\n",
    "\n",
    "mode = universe.get(\"exclude_subgroups\", \"keep-all\") \n",
    "# Fetches the exclude_subgroups setting from the universe dict.\n",
    "# Defaults to \"keep-all\" if the key is missing."
   ]
  },
  {
   "cell_type": "code",
   "execution_count": 21,
   "id": "21994072",
   "metadata": {
    "execution": {
     "iopub.execute_input": "2025-07-23T14:33:27.506663Z",
     "iopub.status.busy": "2025-07-23T14:33:27.505602Z",
     "iopub.status.idle": "2025-07-23T14:33:27.513022Z",
     "shell.execute_reply": "2025-07-23T14:33:27.512054Z"
    },
    "papermill": {
     "duration": 0.030121,
     "end_time": "2025-07-23T14:33:27.514781",
     "exception": false,
     "start_time": "2025-07-23T14:33:27.484660",
     "status": "completed"
    },
    "tags": []
   },
   "outputs": [],
   "source": [
    "if mode == \"keep-all\":\n",
    "    keep_mask = pd.Series(True, index=org_train.index)\n",
    "\n",
    "# org_train contains the original feature columns from features_org (in Simson)\n",
    "# features_org contains unprocessed features, for me X_train at beginning ???\n",
    "# For keep-all, creates a boolean Series (keep_mask) of all True, so no rows are removed.\n",
    "\n",
    "elif mode == \"drop-non-german\":\n",
    "    keep_mask = org_train[\"maxdeutsch1\"] == 1 # ??? what about missing values?\n",
    "\n",
    "else:\n",
    "    raise ValueError(f\"Unsupported mode for exclude_subgroups: {mode}\")\n"
   ]
  },
  {
   "cell_type": "code",
   "execution_count": 22,
   "id": "71651440",
   "metadata": {
    "execution": {
     "iopub.execute_input": "2025-07-23T14:33:27.551919Z",
     "iopub.status.busy": "2025-07-23T14:33:27.551336Z",
     "iopub.status.idle": "2025-07-23T14:33:27.559486Z",
     "shell.execute_reply": "2025-07-23T14:33:27.558553Z"
    },
    "papermill": {
     "duration": 0.028619,
     "end_time": "2025-07-23T14:33:27.561384",
     "exception": false,
     "start_time": "2025-07-23T14:33:27.532765",
     "status": "completed"
    },
    "tags": []
   },
   "outputs": [],
   "source": [
    "n_drop = (~keep_mask).sum() # Calculates how many rows are set to be dropped\n",
    "if n_drop > 0:\n",
    "    pct = n_drop / len(keep_mask) * 100\n",
    "    print(f\"Dropping {n_drop} rows ({pct:.2f}%) where mode='{mode}'\")"
   ]
  },
  {
   "cell_type": "code",
   "execution_count": 23,
   "id": "5fb8eee5",
   "metadata": {
    "execution": {
     "iopub.execute_input": "2025-07-23T14:33:27.597779Z",
     "iopub.status.busy": "2025-07-23T14:33:27.597292Z",
     "iopub.status.idle": "2025-07-23T14:33:27.656542Z",
     "shell.execute_reply": "2025-07-23T14:33:27.655585Z"
    },
    "papermill": {
     "duration": 0.079461,
     "end_time": "2025-07-23T14:33:27.658461",
     "exception": false,
     "start_time": "2025-07-23T14:33:27.579000",
     "status": "completed"
    },
    "tags": []
   },
   "outputs": [],
   "source": [
    "X_train = X_train[keep_mask]"
   ]
  },
  {
   "cell_type": "code",
   "execution_count": 24,
   "id": "b202bb3a",
   "metadata": {
    "execution": {
     "iopub.execute_input": "2025-07-23T14:33:27.695796Z",
     "iopub.status.busy": "2025-07-23T14:33:27.694948Z",
     "iopub.status.idle": "2025-07-23T14:33:27.703181Z",
     "shell.execute_reply": "2025-07-23T14:33:27.702180Z"
    },
    "papermill": {
     "duration": 0.028707,
     "end_time": "2025-07-23T14:33:27.705030",
     "exception": false,
     "start_time": "2025-07-23T14:33:27.676323",
     "status": "completed"
    },
    "tags": []
   },
   "outputs": [],
   "source": [
    "y_train = y_train[keep_mask]"
   ]
  },
  {
   "cell_type": "markdown",
   "id": "493e2ac3",
   "metadata": {
    "papermill": {
     "duration": 0.017162,
     "end_time": "2025-07-23T14:33:27.739824",
     "exception": false,
     "start_time": "2025-07-23T14:33:27.722662",
     "status": "completed"
    },
    "tags": []
   },
   "source": [
    "# Model Training"
   ]
  },
  {
   "cell_type": "code",
   "execution_count": 25,
   "id": "679e1268",
   "metadata": {
    "execution": {
     "iopub.execute_input": "2025-07-23T14:33:27.777228Z",
     "iopub.status.busy": "2025-07-23T14:33:27.776271Z",
     "iopub.status.idle": "2025-07-23T14:33:27.885747Z",
     "shell.execute_reply": "2025-07-23T14:33:27.884709Z"
    },
    "papermill": {
     "duration": 0.130363,
     "end_time": "2025-07-23T14:33:27.887689",
     "exception": false,
     "start_time": "2025-07-23T14:33:27.757326",
     "status": "completed"
    },
    "tags": []
   },
   "outputs": [],
   "source": [
    "from sklearn.linear_model import LogisticRegression\n",
    "from sklearn.ensemble import GradientBoostingClassifier, RandomForestClassifier\n",
    "\n",
    "if (universe[\"model\"] == \"logreg\"):\n",
    "    model = LogisticRegression() #penalty=\"none\") #, solver=\"newton-cg\", max_iter=1) # include random_state=19 ?\n",
    "elif (universe[\"model\"] == \"penalized_logreg\"):\n",
    "    model = LogisticRegression(penalty=\"l2\", C=1.0) #, solver=\"newton-cg\", max_iter=1)\n",
    "elif (universe[\"model\"] == \"rf\"):\n",
    "    model = RandomForestClassifier(n_estimators=100, n_jobs=-1)\n",
    "elif (universe[\"model\"] == \"gbm\"):\n",
    "    model = GradientBoostingClassifier()\n",
    "elif (universe[\"model\"] == \"elasticnet\"):\n",
    "    model = LogisticRegression(penalty = 'elasticnet', solver = 'saga', l1_ratio = 0.5, max_iter=5000) # which solver to use?\n",
    "else:\n",
    "    raise \"Unsupported universe.model\""
   ]
  },
  {
   "cell_type": "code",
   "execution_count": 26,
   "id": "0cc8f744",
   "metadata": {
    "execution": {
     "iopub.execute_input": "2025-07-23T14:33:27.926871Z",
     "iopub.status.busy": "2025-07-23T14:33:27.925946Z",
     "iopub.status.idle": "2025-07-23T14:33:27.933104Z",
     "shell.execute_reply": "2025-07-23T14:33:27.932007Z"
    },
    "papermill": {
     "duration": 0.028871,
     "end_time": "2025-07-23T14:33:27.934835",
     "exception": false,
     "start_time": "2025-07-23T14:33:27.905964",
     "status": "completed"
    },
    "tags": []
   },
   "outputs": [],
   "source": [
    "import numpy as np\n",
    "from sklearn.pipeline import Pipeline\n",
    "from sklearn.preprocessing import StandardScaler\n",
    "\n",
    "model = Pipeline([\n",
    "    #(\"continuous_processor\", continuous_processor),\n",
    "    #(\"categorical_preprocessor\", categorical_preprocessor),\n",
    "    (\"scale\", StandardScaler() if universe[\"scale\"] == \"scale\" else None), \n",
    "    (\"model\", model),\n",
    "])"
   ]
  },
  {
   "cell_type": "code",
   "execution_count": 27,
   "id": "9442c04d",
   "metadata": {
    "execution": {
     "iopub.execute_input": "2025-07-23T14:33:27.971886Z",
     "iopub.status.busy": "2025-07-23T14:33:27.971302Z",
     "iopub.status.idle": "2025-07-23T14:34:08.003510Z",
     "shell.execute_reply": "2025-07-23T14:34:08.002265Z"
    },
    "papermill": {
     "duration": 40.075212,
     "end_time": "2025-07-23T14:34:08.027982",
     "exception": false,
     "start_time": "2025-07-23T14:33:27.952770",
     "status": "completed"
    },
    "tags": []
   },
   "outputs": [
    {
     "data": {
      "text/html": [
       "<style>#sk-container-id-1 {color: black;background-color: white;}#sk-container-id-1 pre{padding: 0;}#sk-container-id-1 div.sk-toggleable {background-color: white;}#sk-container-id-1 label.sk-toggleable__label {cursor: pointer;display: block;width: 100%;margin-bottom: 0;padding: 0.3em;box-sizing: border-box;text-align: center;}#sk-container-id-1 label.sk-toggleable__label-arrow:before {content: \"▸\";float: left;margin-right: 0.25em;color: #696969;}#sk-container-id-1 label.sk-toggleable__label-arrow:hover:before {color: black;}#sk-container-id-1 div.sk-estimator:hover label.sk-toggleable__label-arrow:before {color: black;}#sk-container-id-1 div.sk-toggleable__content {max-height: 0;max-width: 0;overflow: hidden;text-align: left;background-color: #f0f8ff;}#sk-container-id-1 div.sk-toggleable__content pre {margin: 0.2em;color: black;border-radius: 0.25em;background-color: #f0f8ff;}#sk-container-id-1 input.sk-toggleable__control:checked~div.sk-toggleable__content {max-height: 200px;max-width: 100%;overflow: auto;}#sk-container-id-1 input.sk-toggleable__control:checked~label.sk-toggleable__label-arrow:before {content: \"▾\";}#sk-container-id-1 div.sk-estimator input.sk-toggleable__control:checked~label.sk-toggleable__label {background-color: #d4ebff;}#sk-container-id-1 div.sk-label input.sk-toggleable__control:checked~label.sk-toggleable__label {background-color: #d4ebff;}#sk-container-id-1 input.sk-hidden--visually {border: 0;clip: rect(1px 1px 1px 1px);clip: rect(1px, 1px, 1px, 1px);height: 1px;margin: -1px;overflow: hidden;padding: 0;position: absolute;width: 1px;}#sk-container-id-1 div.sk-estimator {font-family: monospace;background-color: #f0f8ff;border: 1px dotted black;border-radius: 0.25em;box-sizing: border-box;margin-bottom: 0.5em;}#sk-container-id-1 div.sk-estimator:hover {background-color: #d4ebff;}#sk-container-id-1 div.sk-parallel-item::after {content: \"\";width: 100%;border-bottom: 1px solid gray;flex-grow: 1;}#sk-container-id-1 div.sk-label:hover label.sk-toggleable__label {background-color: #d4ebff;}#sk-container-id-1 div.sk-serial::before {content: \"\";position: absolute;border-left: 1px solid gray;box-sizing: border-box;top: 0;bottom: 0;left: 50%;z-index: 0;}#sk-container-id-1 div.sk-serial {display: flex;flex-direction: column;align-items: center;background-color: white;padding-right: 0.2em;padding-left: 0.2em;position: relative;}#sk-container-id-1 div.sk-item {position: relative;z-index: 1;}#sk-container-id-1 div.sk-parallel {display: flex;align-items: stretch;justify-content: center;background-color: white;position: relative;}#sk-container-id-1 div.sk-item::before, #sk-container-id-1 div.sk-parallel-item::before {content: \"\";position: absolute;border-left: 1px solid gray;box-sizing: border-box;top: 0;bottom: 0;left: 50%;z-index: -1;}#sk-container-id-1 div.sk-parallel-item {display: flex;flex-direction: column;z-index: 1;position: relative;background-color: white;}#sk-container-id-1 div.sk-parallel-item:first-child::after {align-self: flex-end;width: 50%;}#sk-container-id-1 div.sk-parallel-item:last-child::after {align-self: flex-start;width: 50%;}#sk-container-id-1 div.sk-parallel-item:only-child::after {width: 0;}#sk-container-id-1 div.sk-dashed-wrapped {border: 1px dashed gray;margin: 0 0.4em 0.5em 0.4em;box-sizing: border-box;padding-bottom: 0.4em;background-color: white;}#sk-container-id-1 div.sk-label label {font-family: monospace;font-weight: bold;display: inline-block;line-height: 1.2em;}#sk-container-id-1 div.sk-label-container {text-align: center;}#sk-container-id-1 div.sk-container {/* jupyter's `normalize.less` sets `[hidden] { display: none; }` but bootstrap.min.css set `[hidden] { display: none !important; }` so we also need the `!important` here to be able to override the default hidden behavior on the sphinx rendered scikit-learn.org. See: https://github.com/scikit-learn/scikit-learn/issues/21755 */display: inline-block !important;position: relative;}#sk-container-id-1 div.sk-text-repr-fallback {display: none;}</style><div id=\"sk-container-id-1\" class=\"sk-top-container\"><div class=\"sk-text-repr-fallback\"><pre>Pipeline(steps=[(&#x27;scale&#x27;, StandardScaler()),\n",
       "                (&#x27;model&#x27;,\n",
       "                 LogisticRegression(l1_ratio=0.5, max_iter=5000,\n",
       "                                    penalty=&#x27;elasticnet&#x27;, solver=&#x27;saga&#x27;))])</pre><b>In a Jupyter environment, please rerun this cell to show the HTML representation or trust the notebook. <br />On GitHub, the HTML representation is unable to render, please try loading this page with nbviewer.org.</b></div><div class=\"sk-container\" hidden><div class=\"sk-item sk-dashed-wrapped\"><div class=\"sk-label-container\"><div class=\"sk-label sk-toggleable\"><input class=\"sk-toggleable__control sk-hidden--visually\" id=\"sk-estimator-id-1\" type=\"checkbox\" ><label for=\"sk-estimator-id-1\" class=\"sk-toggleable__label sk-toggleable__label-arrow\">Pipeline</label><div class=\"sk-toggleable__content\"><pre>Pipeline(steps=[(&#x27;scale&#x27;, StandardScaler()),\n",
       "                (&#x27;model&#x27;,\n",
       "                 LogisticRegression(l1_ratio=0.5, max_iter=5000,\n",
       "                                    penalty=&#x27;elasticnet&#x27;, solver=&#x27;saga&#x27;))])</pre></div></div></div><div class=\"sk-serial\"><div class=\"sk-item\"><div class=\"sk-estimator sk-toggleable\"><input class=\"sk-toggleable__control sk-hidden--visually\" id=\"sk-estimator-id-2\" type=\"checkbox\" ><label for=\"sk-estimator-id-2\" class=\"sk-toggleable__label sk-toggleable__label-arrow\">StandardScaler</label><div class=\"sk-toggleable__content\"><pre>StandardScaler()</pre></div></div></div><div class=\"sk-item\"><div class=\"sk-estimator sk-toggleable\"><input class=\"sk-toggleable__control sk-hidden--visually\" id=\"sk-estimator-id-3\" type=\"checkbox\" ><label for=\"sk-estimator-id-3\" class=\"sk-toggleable__label sk-toggleable__label-arrow\">LogisticRegression</label><div class=\"sk-toggleable__content\"><pre>LogisticRegression(l1_ratio=0.5, max_iter=5000, penalty=&#x27;elasticnet&#x27;,\n",
       "                   solver=&#x27;saga&#x27;)</pre></div></div></div></div></div></div></div>"
      ],
      "text/plain": [
       "Pipeline(steps=[('scale', StandardScaler()),\n",
       "                ('model',\n",
       "                 LogisticRegression(l1_ratio=0.5, max_iter=5000,\n",
       "                                    penalty='elasticnet', solver='saga'))])"
      ]
     },
     "execution_count": 27,
     "metadata": {},
     "output_type": "execute_result"
    }
   ],
   "source": [
    "model.fit(X_train, y_train.values.ravel())"
   ]
  },
  {
   "cell_type": "code",
   "execution_count": 28,
   "id": "af59f8c0",
   "metadata": {
    "execution": {
     "iopub.execute_input": "2025-07-23T14:34:08.072874Z",
     "iopub.status.busy": "2025-07-23T14:34:08.071787Z",
     "iopub.status.idle": "2025-07-23T14:34:08.079065Z",
     "shell.execute_reply": "2025-07-23T14:34:08.077963Z"
    },
    "papermill": {
     "duration": 0.03162,
     "end_time": "2025-07-23T14:34:08.080949",
     "exception": false,
     "start_time": "2025-07-23T14:34:08.049329",
     "status": "completed"
    },
    "tags": []
   },
   "outputs": [],
   "source": [
    "from fairness_multiverse.universe import predict_w_threshold"
   ]
  },
  {
   "cell_type": "code",
   "execution_count": 29,
   "id": "a7cf2e16",
   "metadata": {
    "execution": {
     "iopub.execute_input": "2025-07-23T14:34:08.126275Z",
     "iopub.status.busy": "2025-07-23T14:34:08.125551Z",
     "iopub.status.idle": "2025-07-23T14:34:08.334427Z",
     "shell.execute_reply": "2025-07-23T14:34:08.333348Z"
    },
    "papermill": {
     "duration": 0.233242,
     "end_time": "2025-07-23T14:34:08.336275",
     "exception": false,
     "start_time": "2025-07-23T14:34:08.103033",
     "status": "completed"
    },
    "tags": []
   },
   "outputs": [
    {
     "data": {
      "text/plain": [
       "0.8628246572288485"
      ]
     },
     "execution_count": 29,
     "metadata": {},
     "output_type": "execute_result"
    }
   ],
   "source": [
    "probs_test = model.predict_proba(X_test)\n",
    "\n",
    "'''\n",
    "Below code returns a boolean array (or binary 0/1 array depending on how it’s used) where each element \n",
    "is True if the probability of class 1 is greater than or equal to the threshold, and False otherwise.\n",
    "'''\n",
    "y_pred_default = predict_w_threshold(probs_test, 0.5)\n",
    "\n",
    "from sklearn.metrics import accuracy_score\n",
    "\n",
    "# Naive prediction\n",
    "accuracy_score(y_true = y_true, y_pred = y_pred_default)"
   ]
  },
  {
   "cell_type": "code",
   "execution_count": 30,
   "id": "081964c3",
   "metadata": {
    "execution": {
     "iopub.execute_input": "2025-07-23T14:34:08.379696Z",
     "iopub.status.busy": "2025-07-23T14:34:08.378753Z",
     "iopub.status.idle": "2025-07-23T14:34:08.572794Z",
     "shell.execute_reply": "2025-07-23T14:34:08.571469Z"
    },
    "papermill": {
     "duration": 0.217608,
     "end_time": "2025-07-23T14:34:08.574805",
     "exception": false,
     "start_time": "2025-07-23T14:34:08.357197",
     "status": "completed"
    },
    "tags": []
   },
   "outputs": [
    {
     "data": {
      "text/plain": [
       "array([0, 0, 0, ..., 0, 0, 0])"
      ]
     },
     "execution_count": 30,
     "metadata": {},
     "output_type": "execute_result"
    }
   ],
   "source": [
    "model.predict(X_test)"
   ]
  },
  {
   "cell_type": "markdown",
   "id": "56c9705b",
   "metadata": {
    "papermill": {
     "duration": 0.022585,
     "end_time": "2025-07-23T14:34:08.621570",
     "exception": false,
     "start_time": "2025-07-23T14:34:08.598985",
     "status": "completed"
    },
    "tags": []
   },
   "source": [
    "# Conformal Prediction"
   ]
  },
  {
   "cell_type": "code",
   "execution_count": 31,
   "id": "160ec6ff",
   "metadata": {
    "execution": {
     "iopub.execute_input": "2025-07-23T14:34:08.664686Z",
     "iopub.status.busy": "2025-07-23T14:34:08.663959Z",
     "iopub.status.idle": "2025-07-23T14:34:08.669528Z",
     "shell.execute_reply": "2025-07-23T14:34:08.668483Z"
    },
    "papermill": {
     "duration": 0.032937,
     "end_time": "2025-07-23T14:34:08.671584",
     "exception": false,
     "start_time": "2025-07-23T14:34:08.638647",
     "status": "completed"
    },
    "tags": []
   },
   "outputs": [],
   "source": [
    "# Miscoverage level for conformal prediction (10% allowed error rate => 90% target coverage)\n",
    "alpha = 0.1"
   ]
  },
  {
   "cell_type": "code",
   "execution_count": 32,
   "id": "eadf4555-3dd3-440e-8e35-f82a4ad9f855",
   "metadata": {
    "execution": {
     "iopub.execute_input": "2025-07-23T14:34:08.704508Z",
     "iopub.status.busy": "2025-07-23T14:34:08.703944Z",
     "iopub.status.idle": "2025-07-23T14:34:08.967908Z",
     "shell.execute_reply": "2025-07-23T14:34:08.966927Z"
    },
    "papermill": {
     "duration": 0.278626,
     "end_time": "2025-07-23T14:34:08.969812",
     "exception": false,
     "start_time": "2025-07-23T14:34:08.691186",
     "status": "completed"
    },
    "tags": []
   },
   "outputs": [],
   "source": [
    "probs_calib = model.predict_proba(X_calib)"
   ]
  },
  {
   "cell_type": "code",
   "execution_count": 33,
   "id": "2ed93547-6d5d-4983-9b36-1ecb300da49a",
   "metadata": {
    "execution": {
     "iopub.execute_input": "2025-07-23T14:34:09.010651Z",
     "iopub.status.busy": "2025-07-23T14:34:09.009951Z",
     "iopub.status.idle": "2025-07-23T14:34:09.016735Z",
     "shell.execute_reply": "2025-07-23T14:34:09.015641Z"
    },
    "papermill": {
     "duration": 0.028668,
     "end_time": "2025-07-23T14:34:09.018324",
     "exception": false,
     "start_time": "2025-07-23T14:34:08.989656",
     "status": "completed"
    },
    "tags": []
   },
   "outputs": [],
   "source": [
    "y_calib = y_calib.values.ravel().astype(int)"
   ]
  },
  {
   "cell_type": "code",
   "execution_count": 34,
   "id": "65d1320d-f588-4b38-9072-62af1ae97f7d",
   "metadata": {
    "execution": {
     "iopub.execute_input": "2025-07-23T14:34:09.059549Z",
     "iopub.status.busy": "2025-07-23T14:34:09.058842Z",
     "iopub.status.idle": "2025-07-23T14:34:09.067760Z",
     "shell.execute_reply": "2025-07-23T14:34:09.066725Z"
    },
    "papermill": {
     "duration": 0.032008,
     "end_time": "2025-07-23T14:34:09.069915",
     "exception": false,
     "start_time": "2025-07-23T14:34:09.037907",
     "status": "completed"
    },
    "tags": []
   },
   "outputs": [],
   "source": [
    "from fairness_multiverse.conformal import compute_nc_scores\n",
    "\n",
    "# Compute nonconformity scores on calibration set (1 - probability of true class)\n",
    "nc_scores = compute_nc_scores(probs_calib, y_calib)"
   ]
  },
  {
   "cell_type": "code",
   "execution_count": 35,
   "id": "df3b8ca3-53b7-43d5-9667-7c85da7aeda2",
   "metadata": {
    "execution": {
     "iopub.execute_input": "2025-07-23T14:34:09.113328Z",
     "iopub.status.busy": "2025-07-23T14:34:09.112625Z",
     "iopub.status.idle": "2025-07-23T14:34:09.119302Z",
     "shell.execute_reply": "2025-07-23T14:34:09.118372Z"
    },
    "papermill": {
     "duration": 0.028944,
     "end_time": "2025-07-23T14:34:09.120966",
     "exception": false,
     "start_time": "2025-07-23T14:34:09.092022",
     "status": "completed"
    },
    "tags": []
   },
   "outputs": [],
   "source": [
    "from fairness_multiverse.conformal import find_threshold\n",
    "\n",
    "# Find conformal threshold q_hat for the given alpha (split conformal method)\n",
    "q_hat = find_threshold(nc_scores, alpha)"
   ]
  },
  {
   "cell_type": "code",
   "execution_count": 36,
   "id": "4d29e6c1-0ef6-4aa4-b8fe-4fe79b0d033a",
   "metadata": {
    "execution": {
     "iopub.execute_input": "2025-07-23T14:34:09.162942Z",
     "iopub.status.busy": "2025-07-23T14:34:09.162194Z",
     "iopub.status.idle": "2025-07-23T14:34:09.170385Z",
     "shell.execute_reply": "2025-07-23T14:34:09.169180Z"
    },
    "papermill": {
     "duration": 0.031719,
     "end_time": "2025-07-23T14:34:09.172357",
     "exception": false,
     "start_time": "2025-07-23T14:34:09.140638",
     "status": "completed"
    },
    "tags": []
   },
   "outputs": [
    {
     "data": {
      "text/plain": [
       "0.661085162466996"
      ]
     },
     "execution_count": 36,
     "metadata": {},
     "output_type": "execute_result"
    }
   ],
   "source": [
    "q_hat"
   ]
  },
  {
   "cell_type": "code",
   "execution_count": 37,
   "id": "92460794-cdac-4be2-ba28-f28c0515a6fb",
   "metadata": {
    "execution": {
     "iopub.execute_input": "2025-07-23T14:34:09.217952Z",
     "iopub.status.busy": "2025-07-23T14:34:09.217412Z",
     "iopub.status.idle": "2025-07-23T14:34:10.231918Z",
     "shell.execute_reply": "2025-07-23T14:34:10.230959Z"
    },
    "papermill": {
     "duration": 1.037931,
     "end_time": "2025-07-23T14:34:10.233861",
     "exception": false,
     "start_time": "2025-07-23T14:34:09.195930",
     "status": "completed"
    },
    "tags": []
   },
   "outputs": [],
   "source": [
    "from fairness_multiverse.conformal import predict_conformal_sets\n",
    "\n",
    "# Generate prediction sets for each test example\n",
    "pred_sets = predict_conformal_sets(model, X_test, q_hat)"
   ]
  },
  {
   "cell_type": "code",
   "execution_count": 38,
   "id": "d90c9a65-e6db-4f5d-80cd-e68fb7e46829",
   "metadata": {
    "execution": {
     "iopub.execute_input": "2025-07-23T14:34:10.277706Z",
     "iopub.status.busy": "2025-07-23T14:34:10.277150Z",
     "iopub.status.idle": "2025-07-23T14:34:10.283857Z",
     "shell.execute_reply": "2025-07-23T14:34:10.282823Z"
    },
    "papermill": {
     "duration": 0.030276,
     "end_time": "2025-07-23T14:34:10.285570",
     "exception": false,
     "start_time": "2025-07-23T14:34:10.255294",
     "status": "completed"
    },
    "tags": []
   },
   "outputs": [],
   "source": [
    "y_true = y_true.squeeze()"
   ]
  },
  {
   "cell_type": "code",
   "execution_count": 39,
   "id": "3a58a54a-1e68-46b9-927a-df01f18aebc8",
   "metadata": {
    "execution": {
     "iopub.execute_input": "2025-07-23T14:34:10.328452Z",
     "iopub.status.busy": "2025-07-23T14:34:10.327477Z",
     "iopub.status.idle": "2025-07-23T14:34:11.439672Z",
     "shell.execute_reply": "2025-07-23T14:34:11.438310Z"
    },
    "papermill": {
     "duration": 1.13562,
     "end_time": "2025-07-23T14:34:11.441979",
     "exception": false,
     "start_time": "2025-07-23T14:34:10.306359",
     "status": "completed"
    },
    "tags": []
   },
   "outputs": [],
   "source": [
    "from fairness_multiverse.conformal import evaluate_sets\n",
    "\n",
    "# Evaluate coverage and average set size on test data\n",
    "metrics = evaluate_sets(pred_sets, y_true)"
   ]
  },
  {
   "cell_type": "code",
   "execution_count": 40,
   "id": "5ce0a5cb-201f-45a0-ade5-94c7f0bd6095",
   "metadata": {
    "execution": {
     "iopub.execute_input": "2025-07-23T14:34:11.477881Z",
     "iopub.status.busy": "2025-07-23T14:34:11.477427Z",
     "iopub.status.idle": "2025-07-23T14:34:11.485386Z",
     "shell.execute_reply": "2025-07-23T14:34:11.484372Z"
    },
    "papermill": {
     "duration": 0.02136,
     "end_time": "2025-07-23T14:34:11.486816",
     "exception": false,
     "start_time": "2025-07-23T14:34:11.465456",
     "status": "completed"
    },
    "tags": []
   },
   "outputs": [
    {
     "data": {
      "text/plain": [
       "{'coverage': 0.9114145580202876, 'avg_size': 1.1244565823208115}"
      ]
     },
     "execution_count": 40,
     "metadata": {},
     "output_type": "execute_result"
    }
   ],
   "source": [
    "metrics"
   ]
  },
  {
   "cell_type": "code",
   "execution_count": 41,
   "id": "9b9a838d-31c9-430b-ae14-12baee460d17",
   "metadata": {
    "execution": {
     "iopub.execute_input": "2025-07-23T14:34:11.515392Z",
     "iopub.status.busy": "2025-07-23T14:34:11.514869Z",
     "iopub.status.idle": "2025-07-23T14:34:11.523273Z",
     "shell.execute_reply": "2025-07-23T14:34:11.521930Z"
    },
    "papermill": {
     "duration": 0.026794,
     "end_time": "2025-07-23T14:34:11.525356",
     "exception": false,
     "start_time": "2025-07-23T14:34:11.498562",
     "status": "completed"
    },
    "tags": []
   },
   "outputs": [],
   "source": [
    "example_universe = universe.copy()\n",
    "universe_model = example_universe.get(\"model\")\n",
    "universe_exclude_features = example_universe.get(\"exclude_features\")\n",
    "universe_exclude_subgroups = example_universe.get(\"exclude_subgroups\")\n",
    "universe_scale = example_universe.get(\"scale\")"
   ]
  },
  {
   "cell_type": "code",
   "execution_count": 42,
   "id": "f4b6a8ac-9dc0-4245-8a91-5b3b5999c4f9",
   "metadata": {
    "execution": {
     "iopub.execute_input": "2025-07-23T14:34:11.571360Z",
     "iopub.status.busy": "2025-07-23T14:34:11.570641Z",
     "iopub.status.idle": "2025-07-23T14:34:11.580125Z",
     "shell.execute_reply": "2025-07-23T14:34:11.578661Z"
    },
    "papermill": {
     "duration": 0.034267,
     "end_time": "2025-07-23T14:34:11.582417",
     "exception": false,
     "start_time": "2025-07-23T14:34:11.548150",
     "status": "completed"
    },
    "tags": []
   },
   "outputs": [],
   "source": [
    "cp_metrics_dict = {\n",
    "    \"universe_id\": [universe_id],\n",
    "    \"universe_model\": [universe_model],\n",
    "    \"universe_exclude_features\": [universe_exclude_features],\n",
    "    \"universe_exclude_subgroups\": [universe_exclude_subgroups],\n",
    "    \"universe_scale\": [universe_scale],\n",
    "    \"q_hat\": [q_hat],\n",
    "    \"coverage\": [metrics[\"coverage\"]],\n",
    "    \"avg_size\": [metrics[\"avg_size\"]],\n",
    "}"
   ]
  },
  {
   "cell_type": "code",
   "execution_count": 43,
   "id": "908acbb1-0371-4915-85ca-3fa520d2efe2",
   "metadata": {
    "execution": {
     "iopub.execute_input": "2025-07-23T14:34:11.629702Z",
     "iopub.status.busy": "2025-07-23T14:34:11.629199Z",
     "iopub.status.idle": "2025-07-23T14:34:11.637465Z",
     "shell.execute_reply": "2025-07-23T14:34:11.636461Z"
    },
    "papermill": {
     "duration": 0.03324,
     "end_time": "2025-07-23T14:34:11.639215",
     "exception": false,
     "start_time": "2025-07-23T14:34:11.605975",
     "status": "completed"
    },
    "tags": []
   },
   "outputs": [
    {
     "data": {
      "text/plain": [
       "{'universe_id': ['b0bb8714a0c6b65a9693758732c3f60a'],\n",
       " 'universe_model': ['elasticnet'],\n",
       " 'universe_exclude_features': ['nationality-sex'],\n",
       " 'universe_exclude_subgroups': ['keep-all'],\n",
       " 'universe_scale': ['scale'],\n",
       " 'q_hat': [0.661085162466996],\n",
       " 'coverage': [0.9114145580202876],\n",
       " 'avg_size': [1.1244565823208115]}"
      ]
     },
     "execution_count": 43,
     "metadata": {},
     "output_type": "execute_result"
    }
   ],
   "source": [
    "cp_metrics_dict"
   ]
  },
  {
   "cell_type": "code",
   "execution_count": 44,
   "id": "33007efc-14e9-4ec6-97ac-56a455c82265",
   "metadata": {
    "execution": {
     "iopub.execute_input": "2025-07-23T14:34:11.684154Z",
     "iopub.status.busy": "2025-07-23T14:34:11.683597Z",
     "iopub.status.idle": "2025-07-23T14:34:11.690759Z",
     "shell.execute_reply": "2025-07-23T14:34:11.689604Z"
    },
    "papermill": {
     "duration": 0.030293,
     "end_time": "2025-07-23T14:34:11.692407",
     "exception": false,
     "start_time": "2025-07-23T14:34:11.662114",
     "status": "completed"
    },
    "tags": []
   },
   "outputs": [],
   "source": [
    "cp_metrics_df = pd.DataFrame(cp_metrics_dict)"
   ]
  },
  {
   "cell_type": "code",
   "execution_count": 45,
   "id": "db12611b-57b2-4910-b9d0-355adfd6e7bf",
   "metadata": {
    "execution": {
     "iopub.execute_input": "2025-07-23T14:34:11.738250Z",
     "iopub.status.busy": "2025-07-23T14:34:11.737662Z",
     "iopub.status.idle": "2025-07-23T14:34:11.759488Z",
     "shell.execute_reply": "2025-07-23T14:34:11.758407Z"
    },
    "papermill": {
     "duration": 0.046341,
     "end_time": "2025-07-23T14:34:11.761408",
     "exception": false,
     "start_time": "2025-07-23T14:34:11.715067",
     "status": "completed"
    },
    "tags": []
   },
   "outputs": [
    {
     "data": {
      "text/html": [
       "<div>\n",
       "<style scoped>\n",
       "    .dataframe tbody tr th:only-of-type {\n",
       "        vertical-align: middle;\n",
       "    }\n",
       "\n",
       "    .dataframe tbody tr th {\n",
       "        vertical-align: top;\n",
       "    }\n",
       "\n",
       "    .dataframe thead th {\n",
       "        text-align: right;\n",
       "    }\n",
       "</style>\n",
       "<table border=\"1\" class=\"dataframe\">\n",
       "  <thead>\n",
       "    <tr style=\"text-align: right;\">\n",
       "      <th></th>\n",
       "      <th>universe_id</th>\n",
       "      <th>universe_model</th>\n",
       "      <th>universe_exclude_features</th>\n",
       "      <th>universe_exclude_subgroups</th>\n",
       "      <th>universe_scale</th>\n",
       "      <th>q_hat</th>\n",
       "      <th>coverage</th>\n",
       "      <th>avg_size</th>\n",
       "    </tr>\n",
       "  </thead>\n",
       "  <tbody>\n",
       "    <tr>\n",
       "      <th>0</th>\n",
       "      <td>b0bb8714a0c6b65a9693758732c3f60a</td>\n",
       "      <td>elasticnet</td>\n",
       "      <td>nationality-sex</td>\n",
       "      <td>keep-all</td>\n",
       "      <td>scale</td>\n",
       "      <td>0.661085</td>\n",
       "      <td>0.911415</td>\n",
       "      <td>1.124457</td>\n",
       "    </tr>\n",
       "  </tbody>\n",
       "</table>\n",
       "</div>"
      ],
      "text/plain": [
       "                        universe_id universe_model universe_exclude_features  \\\n",
       "0  b0bb8714a0c6b65a9693758732c3f60a     elasticnet           nationality-sex   \n",
       "\n",
       "  universe_exclude_subgroups universe_scale     q_hat  coverage  avg_size  \n",
       "0                   keep-all          scale  0.661085  0.911415  1.124457  "
      ]
     },
     "execution_count": 45,
     "metadata": {},
     "output_type": "execute_result"
    }
   ],
   "source": [
    "cp_metrics_df"
   ]
  },
  {
   "cell_type": "code",
   "execution_count": 46,
   "id": "b7fbde55-a0a1-47e4-9af6-fe4a17fa8c61",
   "metadata": {
    "execution": {
     "iopub.execute_input": "2025-07-23T14:34:11.808607Z",
     "iopub.status.busy": "2025-07-23T14:34:11.808038Z",
     "iopub.status.idle": "2025-07-23T14:34:11.813842Z",
     "shell.execute_reply": "2025-07-23T14:34:11.812623Z"
    },
    "papermill": {
     "duration": 0.030327,
     "end_time": "2025-07-23T14:34:11.815721",
     "exception": false,
     "start_time": "2025-07-23T14:34:11.785394",
     "status": "completed"
    },
    "tags": []
   },
   "outputs": [],
   "source": [
    "# Conditional Coverage & looking at subgroups"
   ]
  },
  {
   "cell_type": "code",
   "execution_count": 47,
   "id": "027ae886-68dd-4141-96c7-805a5450e1ef",
   "metadata": {
    "execution": {
     "iopub.execute_input": "2025-07-23T14:34:11.861994Z",
     "iopub.status.busy": "2025-07-23T14:34:11.861469Z",
     "iopub.status.idle": "2025-07-23T14:34:12.091119Z",
     "shell.execute_reply": "2025-07-23T14:34:12.090273Z"
    },
    "papermill": {
     "duration": 0.253693,
     "end_time": "2025-07-23T14:34:12.093086",
     "exception": false,
     "start_time": "2025-07-23T14:34:11.839393",
     "status": "completed"
    },
    "tags": []
   },
   "outputs": [],
   "source": [
    "from fairness_multiverse.conformal import build_cp_groups\n",
    "\n",
    "cp_groups_df = build_cp_groups(pred_sets, y_true, X_test.index, org_test)\n",
    "#needs universe_id and setting"
   ]
  },
  {
   "cell_type": "code",
   "execution_count": 48,
   "id": "c3b92545-903e-4839-89af-0f057907d7d6",
   "metadata": {
    "execution": {
     "iopub.execute_input": "2025-07-23T14:34:12.140528Z",
     "iopub.status.busy": "2025-07-23T14:34:12.140047Z",
     "iopub.status.idle": "2025-07-23T14:34:14.049969Z",
     "shell.execute_reply": "2025-07-23T14:34:14.048936Z"
    },
    "papermill": {
     "duration": 1.935529,
     "end_time": "2025-07-23T14:34:14.052111",
     "exception": false,
     "start_time": "2025-07-23T14:34:12.116582",
     "status": "completed"
    },
    "tags": []
   },
   "outputs": [],
   "source": [
    "# Define covered = 1 if true_label is in the predicted set\n",
    "cp_groups_df['covered'] = cp_groups_df.apply(\n",
    "    lambda r: int(r['true_label'] in r['pred_set']),\n",
    "    axis=1\n",
    ")"
   ]
  },
  {
   "cell_type": "code",
   "execution_count": 49,
   "id": "338ff529-1a6b-4b87-a931-8e4788d52aad",
   "metadata": {
    "execution": {
     "iopub.execute_input": "2025-07-23T14:34:14.102497Z",
     "iopub.status.busy": "2025-07-23T14:34:14.101483Z",
     "iopub.status.idle": "2025-07-23T14:34:14.107295Z",
     "shell.execute_reply": "2025-07-23T14:34:14.106235Z"
    },
    "papermill": {
     "duration": 0.031791,
     "end_time": "2025-07-23T14:34:14.109223",
     "exception": false,
     "start_time": "2025-07-23T14:34:14.077432",
     "status": "completed"
    },
    "tags": []
   },
   "outputs": [],
   "source": [
    "#cp_groups_df"
   ]
  },
  {
   "cell_type": "code",
   "execution_count": 50,
   "id": "90032e27-66df-4540-9169-4e89cfbaa758",
   "metadata": {
    "execution": {
     "iopub.execute_input": "2025-07-23T14:34:14.157996Z",
     "iopub.status.busy": "2025-07-23T14:34:14.157046Z",
     "iopub.status.idle": "2025-07-23T14:34:14.169280Z",
     "shell.execute_reply": "2025-07-23T14:34:14.168188Z"
    },
    "papermill": {
     "duration": 0.039819,
     "end_time": "2025-07-23T14:34:14.171448",
     "exception": false,
     "start_time": "2025-07-23T14:34:14.131629",
     "status": "completed"
    },
    "tags": []
   },
   "outputs": [],
   "source": [
    "subgroups = ['frau1','nongerman','nongerman_male','nongerman_female']\n",
    "\n",
    "# Conditional coverage for subgroup==1\n",
    "cond_coverage = {\n",
    "    g: cp_groups_df.loc[cp_groups_df[g]==1, 'covered'].mean()\n",
    "    for g in subgroups\n",
    "}"
   ]
  },
  {
   "cell_type": "code",
   "execution_count": 51,
   "id": "1e348fb1-b9c3-45bc-ba23-f016827a7e0d",
   "metadata": {
    "execution": {
     "iopub.execute_input": "2025-07-23T14:34:14.219534Z",
     "iopub.status.busy": "2025-07-23T14:34:14.218381Z",
     "iopub.status.idle": "2025-07-23T14:34:14.229196Z",
     "shell.execute_reply": "2025-07-23T14:34:14.227795Z"
    },
    "papermill": {
     "duration": 0.037529,
     "end_time": "2025-07-23T14:34:14.231366",
     "exception": false,
     "start_time": "2025-07-23T14:34:14.193837",
     "status": "completed"
    },
    "tags": []
   },
   "outputs": [
    {
     "data": {
      "text/plain": [
       "{'frau1': 0.9122253673001752,\n",
       " 'nongerman': 0.910683208892382,\n",
       " 'nongerman_male': 0.9252454291632892,\n",
       " 'nongerman_female': 0.8865871833084947}"
      ]
     },
     "execution_count": 51,
     "metadata": {},
     "output_type": "execute_result"
    }
   ],
   "source": [
    "cond_coverage"
   ]
  },
  {
   "cell_type": "code",
   "execution_count": 52,
   "id": "f5093324-c3dd-4d63-bc4c-8d945e5c8bbb",
   "metadata": {
    "execution": {
     "iopub.execute_input": "2025-07-23T14:34:14.285629Z",
     "iopub.status.busy": "2025-07-23T14:34:14.285121Z",
     "iopub.status.idle": "2025-07-23T14:34:14.294884Z",
     "shell.execute_reply": "2025-07-23T14:34:14.293597Z"
    },
    "papermill": {
     "duration": 0.041521,
     "end_time": "2025-07-23T14:34:14.297048",
     "exception": false,
     "start_time": "2025-07-23T14:34:14.255527",
     "status": "completed"
    },
    "tags": []
   },
   "outputs": [],
   "source": [
    "for subgroup, cov in cond_coverage.items():\n",
    "    cp_metrics_df[f\"cov_{subgroup}\"] = cov"
   ]
  },
  {
   "cell_type": "code",
   "execution_count": 53,
   "id": "6e872e10-dbe5-49e8-b554-5030c98ff75d",
   "metadata": {
    "execution": {
     "iopub.execute_input": "2025-07-23T14:34:14.345709Z",
     "iopub.status.busy": "2025-07-23T14:34:14.344605Z",
     "iopub.status.idle": "2025-07-23T14:34:14.368497Z",
     "shell.execute_reply": "2025-07-23T14:34:14.367082Z"
    },
    "papermill": {
     "duration": 0.049757,
     "end_time": "2025-07-23T14:34:14.370648",
     "exception": false,
     "start_time": "2025-07-23T14:34:14.320891",
     "status": "completed"
    },
    "tags": []
   },
   "outputs": [
    {
     "data": {
      "text/html": [
       "<div>\n",
       "<style scoped>\n",
       "    .dataframe tbody tr th:only-of-type {\n",
       "        vertical-align: middle;\n",
       "    }\n",
       "\n",
       "    .dataframe tbody tr th {\n",
       "        vertical-align: top;\n",
       "    }\n",
       "\n",
       "    .dataframe thead th {\n",
       "        text-align: right;\n",
       "    }\n",
       "</style>\n",
       "<table border=\"1\" class=\"dataframe\">\n",
       "  <thead>\n",
       "    <tr style=\"text-align: right;\">\n",
       "      <th></th>\n",
       "      <th>universe_id</th>\n",
       "      <th>universe_model</th>\n",
       "      <th>universe_exclude_features</th>\n",
       "      <th>universe_exclude_subgroups</th>\n",
       "      <th>universe_scale</th>\n",
       "      <th>q_hat</th>\n",
       "      <th>coverage</th>\n",
       "      <th>avg_size</th>\n",
       "      <th>cov_frau1</th>\n",
       "      <th>cov_nongerman</th>\n",
       "      <th>cov_nongerman_male</th>\n",
       "      <th>cov_nongerman_female</th>\n",
       "    </tr>\n",
       "  </thead>\n",
       "  <tbody>\n",
       "    <tr>\n",
       "      <th>0</th>\n",
       "      <td>b0bb8714a0c6b65a9693758732c3f60a</td>\n",
       "      <td>elasticnet</td>\n",
       "      <td>nationality-sex</td>\n",
       "      <td>keep-all</td>\n",
       "      <td>scale</td>\n",
       "      <td>0.661085</td>\n",
       "      <td>0.911415</td>\n",
       "      <td>1.124457</td>\n",
       "      <td>0.912225</td>\n",
       "      <td>0.910683</td>\n",
       "      <td>0.925245</td>\n",
       "      <td>0.886587</td>\n",
       "    </tr>\n",
       "  </tbody>\n",
       "</table>\n",
       "</div>"
      ],
      "text/plain": [
       "                        universe_id universe_model universe_exclude_features  \\\n",
       "0  b0bb8714a0c6b65a9693758732c3f60a     elasticnet           nationality-sex   \n",
       "\n",
       "  universe_exclude_subgroups universe_scale     q_hat  coverage  avg_size  \\\n",
       "0                   keep-all          scale  0.661085  0.911415  1.124457   \n",
       "\n",
       "   cov_frau1  cov_nongerman  cov_nongerman_male  cov_nongerman_female  \n",
       "0   0.912225       0.910683            0.925245              0.886587  "
      ]
     },
     "execution_count": 53,
     "metadata": {},
     "output_type": "execute_result"
    }
   ],
   "source": [
    "cp_metrics_df"
   ]
  },
  {
   "cell_type": "markdown",
   "id": "33774451",
   "metadata": {
    "papermill": {
     "duration": 0.023612,
     "end_time": "2025-07-23T14:34:14.417042",
     "exception": false,
     "start_time": "2025-07-23T14:34:14.393430",
     "status": "completed"
    },
    "tags": []
   },
   "source": [
    "# (Fairness) Metrics"
   ]
  },
  {
   "cell_type": "code",
   "execution_count": 54,
   "id": "debc5d62",
   "metadata": {
    "execution": {
     "iopub.execute_input": "2025-07-23T14:34:14.465289Z",
     "iopub.status.busy": "2025-07-23T14:34:14.464504Z",
     "iopub.status.idle": "2025-07-23T14:34:14.492380Z",
     "shell.execute_reply": "2025-07-23T14:34:14.491178Z"
    },
    "papermill": {
     "duration": 0.054441,
     "end_time": "2025-07-23T14:34:14.494594",
     "exception": false,
     "start_time": "2025-07-23T14:34:14.440153",
     "status": "completed"
    },
    "tags": []
   },
   "outputs": [],
   "source": [
    "# do I need to include maxdeutsch1.missing?\n",
    "\n",
    "import numpy as np\n",
    "\n",
    "colname_to_bin = \"maxdeutsch1\"\n",
    "majority_value = org_train[colname_to_bin].mode()[0]\n",
    "\n",
    "org_test[\"majmin\"] = np.where(org_test[colname_to_bin] == majority_value, \"majority\", \"minority\")"
   ]
  },
  {
   "cell_type": "code",
   "execution_count": 55,
   "id": "06a50de5",
   "metadata": {
    "execution": {
     "iopub.execute_input": "2025-07-23T14:34:14.550047Z",
     "iopub.status.busy": "2025-07-23T14:34:14.549510Z",
     "iopub.status.idle": "2025-07-23T14:34:17.223825Z",
     "shell.execute_reply": "2025-07-23T14:34:17.222737Z"
    },
    "papermill": {
     "duration": 2.708183,
     "end_time": "2025-07-23T14:34:17.225930",
     "exception": false,
     "start_time": "2025-07-23T14:34:14.517747",
     "status": "completed"
    },
    "tags": []
   },
   "outputs": [],
   "source": [
    "example_universe = universe.copy()\n",
    "example_universe[\"cutoff\"] = example_universe[\"cutoff\"][0]\n",
    "example_universe[\"eval_fairness_grouping\"] = example_universe[\"eval_fairness_grouping\"][0]\n",
    "fairness_dict, metric_frame = universe_analysis.compute_metrics(\n",
    "    example_universe,\n",
    "    y_pred_prob=probs_test,\n",
    "    y_test=y_true,\n",
    "    org_test=org_test,\n",
    ")"
   ]
  },
  {
   "cell_type": "markdown",
   "id": "f95d4e02",
   "metadata": {
    "papermill": {
     "duration": 0.023522,
     "end_time": "2025-07-23T14:34:17.274722",
     "exception": false,
     "start_time": "2025-07-23T14:34:17.251200",
     "status": "completed"
    },
    "tags": []
   },
   "source": [
    "# Overall"
   ]
  },
  {
   "cell_type": "markdown",
   "id": "bdee4871",
   "metadata": {
    "papermill": {
     "duration": 0.022277,
     "end_time": "2025-07-23T14:34:17.319982",
     "exception": false,
     "start_time": "2025-07-23T14:34:17.297705",
     "status": "completed"
    },
    "tags": []
   },
   "source": [
    "Fairness\n",
    "Main fairness target: Equalized Odds. Seems to be a better fit than equal opportunity, since we're not only interested in Y = 1. Seems to be a better fit than demographic parity, since we also care about accuracy, not just equal distribution of preds.\n",
    "\n",
    "Pick column for computation of fairness metrics\n",
    "\n",
    "Performance\n",
    "Overall performance measures, most interesting in relation to the measures split by group below"
   ]
  },
  {
   "cell_type": "code",
   "execution_count": 56,
   "id": "c4e067c6",
   "metadata": {
    "execution": {
     "iopub.execute_input": "2025-07-23T14:34:17.368341Z",
     "iopub.status.busy": "2025-07-23T14:34:17.367284Z",
     "iopub.status.idle": "2025-07-23T14:34:17.377057Z",
     "shell.execute_reply": "2025-07-23T14:34:17.375996Z"
    },
    "papermill": {
     "duration": 0.03556,
     "end_time": "2025-07-23T14:34:17.378780",
     "exception": false,
     "start_time": "2025-07-23T14:34:17.343220",
     "status": "completed"
    },
    "tags": []
   },
   "outputs": [
    {
     "data": {
      "text/plain": [
       "accuracy                   0.225828\n",
       "balanced accuracy          0.551875\n",
       "f1                         0.247119\n",
       "precision                  0.141171\n",
       "false positive rate        0.886691\n",
       "false negative rate        0.009559\n",
       "selection rate             0.900000\n",
       "count                  89710.000000\n",
       "dtype: float64"
      ]
     },
     "execution_count": 56,
     "metadata": {},
     "output_type": "execute_result"
    }
   ],
   "source": [
    "metric_frame.overall"
   ]
  },
  {
   "cell_type": "markdown",
   "id": "e968fe9d",
   "metadata": {
    "papermill": {
     "duration": 0.022694,
     "end_time": "2025-07-23T14:34:17.425800",
     "exception": false,
     "start_time": "2025-07-23T14:34:17.403106",
     "status": "completed"
    },
    "tags": []
   },
   "source": [
    "By Group"
   ]
  },
  {
   "cell_type": "code",
   "execution_count": 57,
   "id": "ec325bce",
   "metadata": {
    "execution": {
     "iopub.execute_input": "2025-07-23T14:34:17.553183Z",
     "iopub.status.busy": "2025-07-23T14:34:17.552685Z",
     "iopub.status.idle": "2025-07-23T14:34:17.569939Z",
     "shell.execute_reply": "2025-07-23T14:34:17.568961Z"
    },
    "papermill": {
     "duration": 0.044333,
     "end_time": "2025-07-23T14:34:17.571694",
     "exception": false,
     "start_time": "2025-07-23T14:34:17.527361",
     "status": "completed"
    },
    "tags": []
   },
   "outputs": [
    {
     "data": {
      "text/html": [
       "<div>\n",
       "<style scoped>\n",
       "    .dataframe tbody tr th:only-of-type {\n",
       "        vertical-align: middle;\n",
       "    }\n",
       "\n",
       "    .dataframe tbody tr th {\n",
       "        vertical-align: top;\n",
       "    }\n",
       "\n",
       "    .dataframe thead th {\n",
       "        text-align: right;\n",
       "    }\n",
       "</style>\n",
       "<table border=\"1\" class=\"dataframe\">\n",
       "  <thead>\n",
       "    <tr style=\"text-align: right;\">\n",
       "      <th></th>\n",
       "      <th>accuracy</th>\n",
       "      <th>balanced accuracy</th>\n",
       "      <th>f1</th>\n",
       "      <th>precision</th>\n",
       "      <th>false positive rate</th>\n",
       "      <th>false negative rate</th>\n",
       "      <th>selection rate</th>\n",
       "      <th>count</th>\n",
       "    </tr>\n",
       "    <tr>\n",
       "      <th>majmin</th>\n",
       "      <th></th>\n",
       "      <th></th>\n",
       "      <th></th>\n",
       "      <th></th>\n",
       "      <th></th>\n",
       "      <th></th>\n",
       "      <th></th>\n",
       "      <th></th>\n",
       "    </tr>\n",
       "  </thead>\n",
       "  <tbody>\n",
       "    <tr>\n",
       "      <th>majority</th>\n",
       "      <td>0.247723</td>\n",
       "      <td>0.562001</td>\n",
       "      <td>0.257883</td>\n",
       "      <td>0.148269</td>\n",
       "      <td>0.865167</td>\n",
       "      <td>0.010832</td>\n",
       "      <td>0.881553</td>\n",
       "      <td>69170.0</td>\n",
       "    </tr>\n",
       "    <tr>\n",
       "      <th>minority</th>\n",
       "      <td>0.152093</td>\n",
       "      <td>0.518781</td>\n",
       "      <td>0.213014</td>\n",
       "      <td>0.119269</td>\n",
       "      <td>0.957792</td>\n",
       "      <td>0.004645</td>\n",
       "      <td>0.962123</td>\n",
       "      <td>20540.0</td>\n",
       "    </tr>\n",
       "  </tbody>\n",
       "</table>\n",
       "</div>"
      ],
      "text/plain": [
       "          accuracy  balanced accuracy        f1  precision  \\\n",
       "majmin                                                       \n",
       "majority  0.247723           0.562001  0.257883   0.148269   \n",
       "minority  0.152093           0.518781  0.213014   0.119269   \n",
       "\n",
       "          false positive rate  false negative rate  selection rate    count  \n",
       "majmin                                                                       \n",
       "majority             0.865167             0.010832        0.881553  69170.0  \n",
       "minority             0.957792             0.004645        0.962123  20540.0  "
      ]
     },
     "execution_count": 57,
     "metadata": {},
     "output_type": "execute_result"
    }
   ],
   "source": [
    "metric_frame.by_group"
   ]
  },
  {
   "cell_type": "code",
   "execution_count": 58,
   "id": "a9ddbe63",
   "metadata": {
    "execution": {
     "iopub.execute_input": "2025-07-23T14:34:17.622166Z",
     "iopub.status.busy": "2025-07-23T14:34:17.621484Z",
     "iopub.status.idle": "2025-07-23T14:34:20.028714Z",
     "shell.execute_reply": "2025-07-23T14:34:20.027607Z"
    },
    "papermill": {
     "duration": 2.433815,
     "end_time": "2025-07-23T14:34:20.030459",
     "exception": false,
     "start_time": "2025-07-23T14:34:17.596644",
     "status": "completed"
    },
    "tags": []
   },
   "outputs": [
    {
     "data": {
      "text/plain": [
       "array([[<Axes: title={'center': 'accuracy'}, xlabel='majmin'>,\n",
       "        <Axes: title={'center': 'balanced accuracy'}, xlabel='majmin'>,\n",
       "        <Axes: title={'center': 'f1'}, xlabel='majmin'>],\n",
       "       [<Axes: title={'center': 'precision'}, xlabel='majmin'>,\n",
       "        <Axes: title={'center': 'false positive rate'}, xlabel='majmin'>,\n",
       "        <Axes: title={'center': 'false negative rate'}, xlabel='majmin'>],\n",
       "       [<Axes: title={'center': 'selection rate'}, xlabel='majmin'>,\n",
       "        <Axes: title={'center': 'count'}, xlabel='majmin'>,\n",
       "        <Axes: xlabel='majmin'>]], dtype=object)"
      ]
     },
     "execution_count": 58,
     "metadata": {},
     "output_type": "execute_result"
    },
    {
     "data": {
      "image/png": "[encoded data removed]",
      "text/plain": [
       "<Figure size 1200x800 with 9 Axes>"
      ]
     },
     "metadata": {},
     "output_type": "display_data"
    }
   ],
   "source": [
    "# In a graphic\n",
    "metric_frame.by_group.plot.bar(\n",
    "    subplots=True,\n",
    "    layout=[3, 3],\n",
    "    legend=False,\n",
    "    figsize=[12, 8],\n",
    "    title=\"Show all metrics\",\n",
    ")"
   ]
  },
  {
   "cell_type": "markdown",
   "id": "f57a0bac",
   "metadata": {
    "papermill": {
     "duration": 0.027241,
     "end_time": "2025-07-23T14:34:20.083561",
     "exception": false,
     "start_time": "2025-07-23T14:34:20.056320",
     "status": "completed"
    },
    "tags": []
   },
   "source": [
    "# Final Output"
   ]
  },
  {
   "cell_type": "code",
   "execution_count": 59,
   "id": "96d280a3",
   "metadata": {
    "execution": {
     "iopub.execute_input": "2025-07-23T14:34:20.135113Z",
     "iopub.status.busy": "2025-07-23T14:34:20.134380Z",
     "iopub.status.idle": "2025-07-23T14:34:20.142789Z",
     "shell.execute_reply": "2025-07-23T14:34:20.141749Z"
    },
    "papermill": {
     "duration": 0.036917,
     "end_time": "2025-07-23T14:34:20.144555",
     "exception": false,
     "start_time": "2025-07-23T14:34:20.107638",
     "status": "completed"
    },
    "tags": []
   },
   "outputs": [
    {
     "data": {
      "text/plain": [
       "4"
      ]
     },
     "execution_count": 59,
     "metadata": {},
     "output_type": "execute_result"
    }
   ],
   "source": [
    "sub_universes = universe_analysis.generate_sub_universes()\n",
    "len(sub_universes)"
   ]
  },
  {
   "cell_type": "code",
   "execution_count": 60,
   "id": "92adf7ba",
   "metadata": {
    "execution": {
     "iopub.execute_input": "2025-07-23T14:34:20.201633Z",
     "iopub.status.busy": "2025-07-23T14:34:20.200732Z",
     "iopub.status.idle": "2025-07-23T14:34:20.207442Z",
     "shell.execute_reply": "2025-07-23T14:34:20.206359Z"
    },
    "papermill": {
     "duration": 0.037442,
     "end_time": "2025-07-23T14:34:20.209529",
     "exception": false,
     "start_time": "2025-07-23T14:34:20.172087",
     "status": "completed"
    },
    "tags": []
   },
   "outputs": [],
   "source": [
    "def filter_sub_universe_data(sub_universe, org_test):\n",
    "    # Keep all rows — no filtering\n",
    "    keep_rows_mask = np.ones(org_test.shape[0], dtype=bool)\n",
    "\n",
    "    print(f\"[INFO] Keeping all rows: {keep_rows_mask.sum()} rows retained.\")\n",
    "    return keep_rows_mask"
   ]
  },
  {
   "cell_type": "code",
   "execution_count": 61,
   "id": "4a759155",
   "metadata": {
    "execution": {
     "iopub.execute_input": "2025-07-23T14:34:20.266228Z",
     "iopub.status.busy": "2025-07-23T14:34:20.265722Z",
     "iopub.status.idle": "2025-07-23T14:34:31.290123Z",
     "shell.execute_reply": "2025-07-23T14:34:31.289041Z"
    },
    "papermill": {
     "duration": 11.054449,
     "end_time": "2025-07-23T14:34:31.291660",
     "exception": false,
     "start_time": "2025-07-23T14:34:20.237211",
     "status": "completed"
    },
    "tags": []
   },
   "outputs": [
    {
     "name": "stdout",
     "output_type": "stream",
     "text": [
      "Stopping execution_time clock.\n",
      "[INFO] Keeping all rows: 89710 rows retained.\n"
     ]
    },
    {
     "name": "stdout",
     "output_type": "stream",
     "text": [
      "[INFO] Keeping all rows: 89710 rows retained.\n"
     ]
    },
    {
     "name": "stdout",
     "output_type": "stream",
     "text": [
      "[INFO] Keeping all rows: 89710 rows retained.\n"
     ]
    },
    {
     "name": "stdout",
     "output_type": "stream",
     "text": [
      "[INFO] Keeping all rows: 89710 rows retained.\n"
     ]
    },
    {
     "data": {
      "text/html": [
       "<div>\n",
       "<style scoped>\n",
       "    .dataframe tbody tr th:only-of-type {\n",
       "        vertical-align: middle;\n",
       "    }\n",
       "\n",
       "    .dataframe tbody tr th {\n",
       "        vertical-align: top;\n",
       "    }\n",
       "\n",
       "    .dataframe thead th {\n",
       "        text-align: right;\n",
       "    }\n",
       "</style>\n",
       "<table border=\"1\" class=\"dataframe\">\n",
       "  <thead>\n",
       "    <tr style=\"text-align: right;\">\n",
       "      <th></th>\n",
       "      <th>run_no</th>\n",
       "      <th>universe_id</th>\n",
       "      <th>universe_settings</th>\n",
       "      <th>execution_time</th>\n",
       "      <th>test_size_n</th>\n",
       "      <th>test_size_frac</th>\n",
       "      <th>fair_main_equalized_odds_difference</th>\n",
       "      <th>fair_main_equalized_odds_ratio</th>\n",
       "      <th>fair_main_demographic_parity_difference</th>\n",
       "      <th>fair_main_demographic_parity_ratio</th>\n",
       "      <th>...</th>\n",
       "      <th>perf_grp_precision_0</th>\n",
       "      <th>perf_grp_precision_1</th>\n",
       "      <th>perf_grp_false positive rate_0</th>\n",
       "      <th>perf_grp_false positive rate_1</th>\n",
       "      <th>perf_grp_false negative rate_0</th>\n",
       "      <th>perf_grp_false negative rate_1</th>\n",
       "      <th>perf_grp_selection rate_0</th>\n",
       "      <th>perf_grp_selection rate_1</th>\n",
       "      <th>perf_grp_count_0</th>\n",
       "      <th>perf_grp_count_1</th>\n",
       "    </tr>\n",
       "  </thead>\n",
       "  <tbody>\n",
       "    <tr>\n",
       "      <th>0</th>\n",
       "      <td>9</td>\n",
       "      <td>b0bb8714a0c6b65a9693758732c3f60a</td>\n",
       "      <td>{\"cutoff\": \"quantile_0.1\", \"eval_fairness_grou...</td>\n",
       "      <td>57.685025</td>\n",
       "      <td>89710</td>\n",
       "      <td>1.0</td>\n",
       "      <td>0.092625</td>\n",
       "      <td>0.903293</td>\n",
       "      <td>0.080570</td>\n",
       "      <td>0.916258</td>\n",
       "      <td>...</td>\n",
       "      <td>NaN</td>\n",
       "      <td>NaN</td>\n",
       "      <td>NaN</td>\n",
       "      <td>NaN</td>\n",
       "      <td>NaN</td>\n",
       "      <td>NaN</td>\n",
       "      <td>NaN</td>\n",
       "      <td>NaN</td>\n",
       "      <td>NaN</td>\n",
       "      <td>NaN</td>\n",
       "    </tr>\n",
       "    <tr>\n",
       "      <th>0</th>\n",
       "      <td>9</td>\n",
       "      <td>b0bb8714a0c6b65a9693758732c3f60a</td>\n",
       "      <td>{\"cutoff\": \"quantile_0.1\", \"eval_fairness_grou...</td>\n",
       "      <td>57.685025</td>\n",
       "      <td>89710</td>\n",
       "      <td>1.0</td>\n",
       "      <td>0.092625</td>\n",
       "      <td>0.903293</td>\n",
       "      <td>0.080570</td>\n",
       "      <td>0.916258</td>\n",
       "      <td>...</td>\n",
       "      <td>0.119269</td>\n",
       "      <td>0.148269</td>\n",
       "      <td>0.957792</td>\n",
       "      <td>0.865167</td>\n",
       "      <td>0.004645</td>\n",
       "      <td>0.010832</td>\n",
       "      <td>0.962123</td>\n",
       "      <td>0.881553</td>\n",
       "      <td>20540.0</td>\n",
       "      <td>69170.0</td>\n",
       "    </tr>\n",
       "    <tr>\n",
       "      <th>0</th>\n",
       "      <td>9</td>\n",
       "      <td>b0bb8714a0c6b65a9693758732c3f60a</td>\n",
       "      <td>{\"cutoff\": \"quantile_0.25\", \"eval_fairness_gro...</td>\n",
       "      <td>57.685025</td>\n",
       "      <td>89710</td>\n",
       "      <td>1.0</td>\n",
       "      <td>0.143779</td>\n",
       "      <td>0.826902</td>\n",
       "      <td>0.123662</td>\n",
       "      <td>0.853745</td>\n",
       "      <td>...</td>\n",
       "      <td>NaN</td>\n",
       "      <td>NaN</td>\n",
       "      <td>NaN</td>\n",
       "      <td>NaN</td>\n",
       "      <td>NaN</td>\n",
       "      <td>NaN</td>\n",
       "      <td>NaN</td>\n",
       "      <td>NaN</td>\n",
       "      <td>NaN</td>\n",
       "      <td>NaN</td>\n",
       "    </tr>\n",
       "    <tr>\n",
       "      <th>0</th>\n",
       "      <td>9</td>\n",
       "      <td>b0bb8714a0c6b65a9693758732c3f60a</td>\n",
       "      <td>{\"cutoff\": \"quantile_0.25\", \"eval_fairness_gro...</td>\n",
       "      <td>57.685025</td>\n",
       "      <td>89710</td>\n",
       "      <td>1.0</td>\n",
       "      <td>0.143779</td>\n",
       "      <td>0.826902</td>\n",
       "      <td>0.123662</td>\n",
       "      <td>0.853745</td>\n",
       "      <td>...</td>\n",
       "      <td>0.130880</td>\n",
       "      <td>0.174240</td>\n",
       "      <td>0.830619</td>\n",
       "      <td>0.686840</td>\n",
       "      <td>0.040118</td>\n",
       "      <td>0.048140</td>\n",
       "      <td>0.845521</td>\n",
       "      <td>0.721859</td>\n",
       "      <td>20540.0</td>\n",
       "      <td>69170.0</td>\n",
       "    </tr>\n",
       "  </tbody>\n",
       "</table>\n",
       "<p>4 rows × 50 columns</p>\n",
       "</div>"
      ],
      "text/plain": [
       "  run_no                       universe_id  \\\n",
       "0      9  b0bb8714a0c6b65a9693758732c3f60a   \n",
       "0      9  b0bb8714a0c6b65a9693758732c3f60a   \n",
       "0      9  b0bb8714a0c6b65a9693758732c3f60a   \n",
       "0      9  b0bb8714a0c6b65a9693758732c3f60a   \n",
       "\n",
       "                                   universe_settings  execution_time  \\\n",
       "0  {\"cutoff\": \"quantile_0.1\", \"eval_fairness_grou...       57.685025   \n",
       "0  {\"cutoff\": \"quantile_0.1\", \"eval_fairness_grou...       57.685025   \n",
       "0  {\"cutoff\": \"quantile_0.25\", \"eval_fairness_gro...       57.685025   \n",
       "0  {\"cutoff\": \"quantile_0.25\", \"eval_fairness_gro...       57.685025   \n",
       "\n",
       "   test_size_n  test_size_frac  fair_main_equalized_odds_difference  \\\n",
       "0        89710             1.0                             0.092625   \n",
       "0        89710             1.0                             0.092625   \n",
       "0        89710             1.0                             0.143779   \n",
       "0        89710             1.0                             0.143779   \n",
       "\n",
       "   fair_main_equalized_odds_ratio  fair_main_demographic_parity_difference  \\\n",
       "0                        0.903293                                 0.080570   \n",
       "0                        0.903293                                 0.080570   \n",
       "0                        0.826902                                 0.123662   \n",
       "0                        0.826902                                 0.123662   \n",
       "\n",
       "   fair_main_demographic_parity_ratio  ...  perf_grp_precision_0  \\\n",
       "0                            0.916258  ...                   NaN   \n",
       "0                            0.916258  ...              0.119269   \n",
       "0                            0.853745  ...                   NaN   \n",
       "0                            0.853745  ...              0.130880   \n",
       "\n",
       "   perf_grp_precision_1  perf_grp_false positive rate_0  \\\n",
       "0                   NaN                             NaN   \n",
       "0              0.148269                        0.957792   \n",
       "0                   NaN                             NaN   \n",
       "0              0.174240                        0.830619   \n",
       "\n",
       "   perf_grp_false positive rate_1  perf_grp_false negative rate_0  \\\n",
       "0                             NaN                             NaN   \n",
       "0                        0.865167                        0.004645   \n",
       "0                             NaN                             NaN   \n",
       "0                        0.686840                        0.040118   \n",
       "\n",
       "   perf_grp_false negative rate_1  perf_grp_selection rate_0  \\\n",
       "0                             NaN                        NaN   \n",
       "0                        0.010832                   0.962123   \n",
       "0                             NaN                        NaN   \n",
       "0                        0.048140                   0.845521   \n",
       "\n",
       "   perf_grp_selection rate_1  perf_grp_count_0  perf_grp_count_1  \n",
       "0                        NaN               NaN               NaN  \n",
       "0                   0.881553           20540.0           69170.0  \n",
       "0                        NaN               NaN               NaN  \n",
       "0                   0.721859           20540.0           69170.0  \n",
       "\n",
       "[4 rows x 50 columns]"
      ]
     },
     "execution_count": 61,
     "metadata": {},
     "output_type": "execute_result"
    }
   ],
   "source": [
    "final_output = universe_analysis.generate_final_output(\n",
    "    y_pred_prob=probs_test,\n",
    "    y_test=y_true,\n",
    "    org_test=org_test,\n",
    "    filter_data=filter_sub_universe_data,\n",
    "    cp_metrics_df=cp_metrics_df,\n",
    "    save=True,\n",
    ")\n",
    "final_output"
   ]
  },
  {
   "cell_type": "code",
   "execution_count": null,
   "id": "721ff514-cb11-46f8-b6fc-50392f74b5cb",
   "metadata": {
    "papermill": {
     "duration": 0.03805,
     "end_time": "2025-07-23T14:34:31.369567",
     "exception": false,
     "start_time": "2025-07-23T14:34:31.331517",
     "status": "completed"
    },
    "tags": []
   },
   "outputs": [],
   "source": []
  }
 ],
 "metadata": {
  "celltoolbar": "Tags",
  "kernelspec": {
   "display_name": "Python (CMA Fairness)",
   "language": "python",
   "name": "cma_fair_env"
  },
  "language_info": {
   "codemirror_mode": {
    "name": "ipython",
    "version": 3
   },
   "file_extension": ".py",
   "mimetype": "text/x-python",
   "name": "python",
   "nbconvert_exporter": "python",
   "pygments_lexer": "ipython3",
   "version": "3.10.12"
  },
  "papermill": {
   "default_parameters": {},
   "duration": 73.134094,
   "end_time": "2025-07-23T14:34:32.123216",
   "environment_variables": {},
   "exception": null,
   "input_path": "universe_analysis.ipynb",
   "output_path": "output/runs/9/notebooks/m_9-b0bb8714a0c6b65a9693758732c3f60a.ipynb",
   "parameters": {
    "output_dir": "output",
    "run_no": "9",
    "seed": "2023",
    "universe": "{\"cutoff\": [\"quantile_0.1\", \"quantile_0.25\"], \"eval_fairness_grouping\": [\"majority-minority\", \"nationality-all\"], \"exclude_features\": \"nationality-sex\", \"exclude_subgroups\": \"keep-all\", \"model\": \"elasticnet\", \"scale\": \"scale\"}",
    "universe_id": "b0bb8714a0c6b65a9693758732c3f60a"
   },
   "start_time": "2025-07-23T14:33:18.989122",
   "version": "2.6.0"
  }
 },
 "nbformat": 4,
 "nbformat_minor": 5
}