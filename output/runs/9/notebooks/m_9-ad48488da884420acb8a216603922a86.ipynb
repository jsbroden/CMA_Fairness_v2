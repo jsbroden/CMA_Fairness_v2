{
 "cells": [
  {
   "cell_type": "code",
   "execution_count": 1,
   "id": "f159f837-637b-42ba-96b5-ec9a68c44524",
   "metadata": {
    "execution": {
     "iopub.execute_input": "2025-07-23T14:31:16.227061Z",
     "iopub.status.busy": "2025-07-23T14:31:16.226196Z",
     "iopub.status.idle": "2025-07-23T14:31:16.237326Z",
     "shell.execute_reply": "2025-07-23T14:31:16.236180Z"
    },
    "papermill": {
     "duration": 0.022886,
     "end_time": "2025-07-23T14:31:16.238734",
     "exception": false,
     "start_time": "2025-07-23T14:31:16.215848",
     "status": "completed"
    },
    "tags": []
   },
   "outputs": [
    {
     "name": "stdout",
     "output_type": "stream",
     "text": [
      "/dss/dsshome1/0C/ra93lal2/cma/CMA_Fairness_v2\n"
     ]
    },
    {
     "name": "stderr",
     "output_type": "stream",
     "text": [
      "/dss/dsshome1/0C/ra93lal2/.local/share/virtualenvs/CMA_Fairness_v2-3j10GkSs/lib/python3.10/site-packages/IPython/core/magics/osm.py:393: UserWarning: This is now an optional IPython functionality, using bookmarks requires you to install the `pickleshare` library.\n",
      "  bkms = self.shell.db.get('bookmarks', {})\n",
      "/dss/dsshome1/0C/ra93lal2/.local/share/virtualenvs/CMA_Fairness_v2-3j10GkSs/lib/python3.10/site-packages/IPython/core/magics/osm.py:417: UserWarning: This is now an optional IPython functionality, setting dhist requires you to install the `pickleshare` library.\n",
      "  self.shell.db['dhist'] = compress_dhist(dhist)[-100:]\n"
     ]
    }
   ],
   "source": [
    "%cd ~/cma/CMA_Fairness_v2"
   ]
  },
  {
   "cell_type": "markdown",
   "id": "de2603b9",
   "metadata": {
    "papermill": {
     "duration": 0.008705,
     "end_time": "2025-07-23T14:31:16.257069",
     "exception": false,
     "start_time": "2025-07-23T14:31:16.248364",
     "status": "completed"
    },
    "tags": []
   },
   "source": [
    "The following cell holds the definition of our parameters, these values can be overriden by rendering the with e.g. the following command:\n",
    "\n",
    "papermill -p alpha 0.2 -p ratio 0.3 universe_analysis.ipynb output/test_run.ipynb"
   ]
  },
  {
   "cell_type": "code",
   "execution_count": 2,
   "id": "a80968a0-40bb-4fa9-85ef-2d5eefb01975",
   "metadata": {
    "execution": {
     "iopub.execute_input": "2025-07-23T14:31:16.276137Z",
     "iopub.status.busy": "2025-07-23T14:31:16.275609Z",
     "iopub.status.idle": "2025-07-23T14:31:16.280975Z",
     "shell.execute_reply": "2025-07-23T14:31:16.280228Z"
    },
    "papermill": {
     "duration": 0.016663,
     "end_time": "2025-07-23T14:31:16.282489",
     "exception": false,
     "start_time": "2025-07-23T14:31:16.265826",
     "status": "completed"
    },
    "tags": []
   },
   "outputs": [
    {
     "name": "stdout",
     "output_type": "stream",
     "text": [
      "Current working directory: /dss/dsshome1/0C/ra93lal2/cma/CMA_Fairness_v2\n"
     ]
    }
   ],
   "source": [
    "import os\n",
    "print(\"Current working directory:\", os.getcwd())"
   ]
  },
  {
   "cell_type": "code",
   "execution_count": 3,
   "id": "2dce4c03",
   "metadata": {
    "execution": {
     "iopub.execute_input": "2025-07-23T14:31:16.302643Z",
     "iopub.status.busy": "2025-07-23T14:31:16.301797Z",
     "iopub.status.idle": "2025-07-23T14:31:16.307056Z",
     "shell.execute_reply": "2025-07-23T14:31:16.306330Z"
    },
    "papermill": {
     "duration": 0.016559,
     "end_time": "2025-07-23T14:31:16.308583",
     "exception": false,
     "start_time": "2025-07-23T14:31:16.292024",
     "status": "completed"
    },
    "tags": [
     "parameters"
    ]
   },
   "outputs": [],
   "source": [
    "run_no = 0\n",
    "universe_id = \"test\"\n",
    "universe = {\n",
    "    \"scale\": \"scale\", # \"scale\", \"do-not-scale\",\n",
    "    \"model\": \"elasticnet\", # \"logreg\", \"penalized_logreg\", \"rf\", \"gbm\", \"elasticnet\"\n",
    "    \"cutoff\": [\"quantile_0.15\", \"quantile_0.30\"],\n",
    "    \"exclude_features\": \"age\", # \"none\", \"nationality\", \"sex\", \"nationality-sex\", \"age\"\n",
    "    \"exclude_subgroups\": \"keep-all\", # \"keep-all\", \"drop-non-german\"\n",
    "    #\"training_sample\": \"restricted\", # \"restricted\", \"full\"\n",
    "    \"eval_fairness_grouping\": [\"majority-minority\", \"nationality-all\"]\n",
    "}\n",
    "\n",
    "output_dir=\"./output\"\n",
    "seed=0"
   ]
  },
  {
   "cell_type": "code",
   "execution_count": 4,
   "id": "af63d9af",
   "metadata": {
    "execution": {
     "iopub.execute_input": "2025-07-23T14:31:16.328956Z",
     "iopub.status.busy": "2025-07-23T14:31:16.328439Z",
     "iopub.status.idle": "2025-07-23T14:31:16.333348Z",
     "shell.execute_reply": "2025-07-23T14:31:16.332538Z"
    },
    "papermill": {
     "duration": 0.016144,
     "end_time": "2025-07-23T14:31:16.334869",
     "exception": false,
     "start_time": "2025-07-23T14:31:16.318725",
     "status": "completed"
    },
    "tags": [
     "injected-parameters"
    ]
   },
   "outputs": [],
   "source": [
    "# Parameters\n",
    "universe_id = \"ad48488da884420acb8a216603922a86\"\n",
    "run_no = \"9\"\n",
    "universe = \"{\\\"cutoff\\\": [\\\"quantile_0.1\\\", \\\"quantile_0.25\\\"], \\\"eval_fairness_grouping\\\": [\\\"majority-minority\\\", \\\"nationality-all\\\"], \\\"exclude_features\\\": \\\"nationality-sex\\\", \\\"exclude_subgroups\\\": \\\"drop-non-german\\\", \\\"model\\\": \\\"gbm\\\", \\\"scale\\\": \\\"scale\\\"}\"\n",
    "output_dir = \"output\"\n",
    "seed = \"2023\"\n"
   ]
  },
  {
   "cell_type": "code",
   "execution_count": 5,
   "id": "1650acaf",
   "metadata": {
    "execution": {
     "iopub.execute_input": "2025-07-23T14:31:16.354858Z",
     "iopub.status.busy": "2025-07-23T14:31:16.354142Z",
     "iopub.status.idle": "2025-07-23T14:31:16.358906Z",
     "shell.execute_reply": "2025-07-23T14:31:16.358104Z"
    },
    "papermill": {
     "duration": 0.016073,
     "end_time": "2025-07-23T14:31:16.360376",
     "exception": false,
     "start_time": "2025-07-23T14:31:16.344303",
     "status": "completed"
    },
    "tags": []
   },
   "outputs": [],
   "source": [
    "import json\n",
    "# Parse universe into dict if it is passed as a string\n",
    "if isinstance(universe, str):\n",
    "    universe = json.loads(universe)"
   ]
  },
  {
   "cell_type": "code",
   "execution_count": 6,
   "id": "16620c48",
   "metadata": {
    "execution": {
     "iopub.execute_input": "2025-07-23T14:31:16.380729Z",
     "iopub.status.busy": "2025-07-23T14:31:16.380205Z",
     "iopub.status.idle": "2025-07-23T14:31:16.411092Z",
     "shell.execute_reply": "2025-07-23T14:31:16.410322Z"
    },
    "papermill": {
     "duration": 0.042438,
     "end_time": "2025-07-23T14:31:16.412681",
     "exception": false,
     "start_time": "2025-07-23T14:31:16.370243",
     "status": "completed"
    },
    "tags": []
   },
   "outputs": [],
   "source": [
    "# Auto-reload the custom package\n",
    "%load_ext autoreload\n",
    "%autoreload 1\n",
    "%aimport fairness_multiverse"
   ]
  },
  {
   "cell_type": "code",
   "execution_count": 7,
   "id": "01c5c9f3",
   "metadata": {
    "execution": {
     "iopub.execute_input": "2025-07-23T14:31:16.432098Z",
     "iopub.status.busy": "2025-07-23T14:31:16.431690Z",
     "iopub.status.idle": "2025-07-23T14:31:17.811772Z",
     "shell.execute_reply": "2025-07-23T14:31:17.810961Z"
    },
    "papermill": {
     "duration": 1.391515,
     "end_time": "2025-07-23T14:31:17.813546",
     "exception": false,
     "start_time": "2025-07-23T14:31:16.422031",
     "status": "completed"
    },
    "tags": []
   },
   "outputs": [],
   "source": [
    "from fairness_multiverse.universe import UniverseAnalysis\n",
    "\n",
    "universe_analysis = UniverseAnalysis(\n",
    "    run_no = run_no,\n",
    "    universe_id = universe_id,\n",
    "    universe = universe,\n",
    "    output_dir=output_dir,\n",
    ")"
   ]
  },
  {
   "cell_type": "code",
   "execution_count": 8,
   "id": "106241f5",
   "metadata": {
    "execution": {
     "iopub.execute_input": "2025-07-23T14:31:17.835693Z",
     "iopub.status.busy": "2025-07-23T14:31:17.835330Z",
     "iopub.status.idle": "2025-07-23T14:31:17.841276Z",
     "shell.execute_reply": "2025-07-23T14:31:17.840502Z"
    },
    "papermill": {
     "duration": 0.017352,
     "end_time": "2025-07-23T14:31:17.842748",
     "exception": false,
     "start_time": "2025-07-23T14:31:17.825396",
     "status": "completed"
    },
    "tags": []
   },
   "outputs": [
    {
     "name": "stdout",
     "output_type": "stream",
     "text": [
      "Using Seed: 2023\n"
     ]
    }
   ],
   "source": [
    "import numpy as np\n",
    "parsed_seed = int(seed)\n",
    "np.random.seed(parsed_seed)\n",
    "print(f\"Using Seed: {parsed_seed}\")"
   ]
  },
  {
   "cell_type": "markdown",
   "id": "e0ebdc57",
   "metadata": {
    "papermill": {
     "duration": 0.008954,
     "end_time": "2025-07-23T14:31:17.861529",
     "exception": false,
     "start_time": "2025-07-23T14:31:17.852575",
     "status": "completed"
    },
    "tags": []
   },
   "source": [
    "# Loading Data"
   ]
  },
  {
   "cell_type": "markdown",
   "id": "681925a3",
   "metadata": {
    "papermill": {
     "duration": 0.009048,
     "end_time": "2025-07-23T14:31:17.879610",
     "exception": false,
     "start_time": "2025-07-23T14:31:17.870562",
     "status": "completed"
    },
    "tags": []
   },
   "source": [
    "Load siab_train, siab_test, siab_calib and/or \n",
    "load siab_train_features, siab_train_labels"
   ]
  },
  {
   "cell_type": "code",
   "execution_count": 9,
   "id": "f0496b8a",
   "metadata": {
    "execution": {
     "iopub.execute_input": "2025-07-23T14:31:17.899538Z",
     "iopub.status.busy": "2025-07-23T14:31:17.898993Z",
     "iopub.status.idle": "2025-07-23T14:31:17.904172Z",
     "shell.execute_reply": "2025-07-23T14:31:17.903345Z"
    },
    "papermill": {
     "duration": 0.016873,
     "end_time": "2025-07-23T14:31:17.905704",
     "exception": false,
     "start_time": "2025-07-23T14:31:17.888831",
     "status": "completed"
    },
    "tags": []
   },
   "outputs": [],
   "source": [
    "# Do I need to load siab? Delete this cell?\n",
    "\n",
    "#from pathlib import Path\n",
    "#import pandas as pd\n",
    "#\n",
    "## File paths\n",
    "#raw_file = Path(\"data/raw/siab.csv\")\n",
    "#cache_file = Path(\"data/siab_cached.csv.gz\")\n",
    "#\n",
    "## Ensure cache directory exists\n",
    "#cache_file.parent.mkdir(parents=True, exist_ok=True)\n",
    "#\n",
    "## Load with simple caching\n",
    "#if cache_file.exists():\n",
    "#    print(f\"Loading SIAB data from cache: {cache_file}\")\n",
    "#    siab = pd.read_csv(cache_file, compression='gzip')\n",
    "#else:\n",
    "#    print(f\"Cache not found. Reading raw SIAB data: {raw_file}\")\n",
    "#    siab = pd.read_csv(raw_file)\n",
    "#    siab.to_csv(cache_file, index=False, compression='gzip')\n",
    "#    print(f\"Cached SIAB data to: {cache_file}\")\n",
    "#\n",
    "## Now use `siab` DataFrame as needed\n",
    "#print(siab.shape)\n"
   ]
  },
  {
   "cell_type": "code",
   "execution_count": 10,
   "id": "a0edb063",
   "metadata": {
    "execution": {
     "iopub.execute_input": "2025-07-23T14:31:17.926366Z",
     "iopub.status.busy": "2025-07-23T14:31:17.925847Z",
     "iopub.status.idle": "2025-07-23T14:31:18.780554Z",
     "shell.execute_reply": "2025-07-23T14:31:18.779474Z"
    },
    "papermill": {
     "duration": 0.866309,
     "end_time": "2025-07-23T14:31:18.782083",
     "exception": false,
     "start_time": "2025-07-23T14:31:17.915774",
     "status": "completed"
    },
    "tags": []
   },
   "outputs": [],
   "source": [
    "import pandas as pd\n",
    "\n",
    "X_train = pd.read_csv(\"./data/X_train.csv\")\n",
    "y_train = pd.read_csv(\"./data/y_train.csv\")"
   ]
  },
  {
   "cell_type": "code",
   "execution_count": 11,
   "id": "63d08085",
   "metadata": {
    "execution": {
     "iopub.execute_input": "2025-07-23T14:31:18.802740Z",
     "iopub.status.busy": "2025-07-23T14:31:18.802175Z",
     "iopub.status.idle": "2025-07-23T14:31:19.825346Z",
     "shell.execute_reply": "2025-07-23T14:31:19.824535Z"
    },
    "papermill": {
     "duration": 1.035167,
     "end_time": "2025-07-23T14:31:19.827022",
     "exception": false,
     "start_time": "2025-07-23T14:31:18.791855",
     "status": "completed"
    },
    "tags": []
   },
   "outputs": [],
   "source": [
    "X_test = pd.read_csv(\"./data/X_test.csv\")\n",
    "y_true = pd.read_csv(\"./data/y_test.csv\")"
   ]
  },
  {
   "cell_type": "code",
   "execution_count": 12,
   "id": "98a8d0fa-1d3d-4ed8-bb2c-281470e24add",
   "metadata": {
    "execution": {
     "iopub.execute_input": "2025-07-23T14:31:19.850111Z",
     "iopub.status.busy": "2025-07-23T14:31:19.849442Z",
     "iopub.status.idle": "2025-07-23T14:31:20.797417Z",
     "shell.execute_reply": "2025-07-23T14:31:20.796625Z"
    },
    "papermill": {
     "duration": 0.959986,
     "end_time": "2025-07-23T14:31:20.798996",
     "exception": false,
     "start_time": "2025-07-23T14:31:19.839010",
     "status": "completed"
    },
    "tags": []
   },
   "outputs": [],
   "source": [
    "# Calibration data for conformal\n",
    "X_calib = pd.read_csv(\"./data/X_calib.csv\")\n",
    "y_calib = pd.read_csv(\"./data/y_calib.csv\")"
   ]
  },
  {
   "cell_type": "code",
   "execution_count": 13,
   "id": "e6c733c5",
   "metadata": {
    "execution": {
     "iopub.execute_input": "2025-07-23T14:31:20.822135Z",
     "iopub.status.busy": "2025-07-23T14:31:20.821460Z",
     "iopub.status.idle": "2025-07-23T14:31:20.919982Z",
     "shell.execute_reply": "2025-07-23T14:31:20.919151Z"
    },
    "papermill": {
     "duration": 0.110603,
     "end_time": "2025-07-23T14:31:20.921616",
     "exception": false,
     "start_time": "2025-07-23T14:31:20.811013",
     "status": "completed"
    },
    "tags": []
   },
   "outputs": [],
   "source": [
    "# Auxiliary data needed downstream in the pipeline\n",
    "\n",
    "org_train = X_train.copy()\n",
    "org_test = X_test.copy()\n",
    "org_calib = X_calib.copy()"
   ]
  },
  {
   "cell_type": "markdown",
   "id": "0a4a1b33",
   "metadata": {
    "papermill": {
     "duration": 0.009295,
     "end_time": "2025-07-23T14:31:20.940945",
     "exception": false,
     "start_time": "2025-07-23T14:31:20.931650",
     "status": "completed"
    },
    "tags": []
   },
   "source": [
    "# Preprocessing Data"
   ]
  },
  {
   "cell_type": "code",
   "execution_count": 14,
   "id": "ca879031",
   "metadata": {
    "execution": {
     "iopub.execute_input": "2025-07-23T14:31:20.961075Z",
     "iopub.status.busy": "2025-07-23T14:31:20.960492Z",
     "iopub.status.idle": "2025-07-23T14:31:20.966401Z",
     "shell.execute_reply": "2025-07-23T14:31:20.965598Z"
    },
    "papermill": {
     "duration": 0.01758,
     "end_time": "2025-07-23T14:31:20.967798",
     "exception": false,
     "start_time": "2025-07-23T14:31:20.950218",
     "status": "completed"
    },
    "tags": []
   },
   "outputs": [],
   "source": [
    "# EXCLUDE PROTECTED FEATURES\n",
    "# ----------------------\n",
    "# \"exclude_features\": \"none\", # \"nationality\", \"sex\", \"nationality-sex\"\n",
    "\n",
    "excluded_features = universe[\"exclude_features\"].split(\"-\") # split, e.g.: \"nationality-sex\" -> [\"nationality\", \"sex\"]\n",
    "excluded_features_dictionary = {\n",
    "    \"nationality\": [\"maxdeutsch1\", \"maxdeutsch.Missing.\"],\n",
    "    \"sex\": [\"frau1\"],\n",
    "    \"age\": [\"age\"],\n",
    "}\n"
   ]
  },
  {
   "cell_type": "code",
   "execution_count": 15,
   "id": "b745ac60",
   "metadata": {
    "execution": {
     "iopub.execute_input": "2025-07-23T14:31:20.989019Z",
     "iopub.status.busy": "2025-07-23T14:31:20.988257Z",
     "iopub.status.idle": "2025-07-23T14:31:20.993561Z",
     "shell.execute_reply": "2025-07-23T14:31:20.992811Z"
    },
    "papermill": {
     "duration": 0.017146,
     "end_time": "2025-07-23T14:31:20.995064",
     "exception": false,
     "start_time": "2025-07-23T14:31:20.977918",
     "status": "completed"
    },
    "tags": []
   },
   "outputs": [],
   "source": [
    "# Code nice names to column names\n",
    "\n",
    "excluded_features_columns = [\n",
    "    excluded_features_dictionary[f] for f in excluded_features if len(f) > 0 and f != \"none\"\n",
    "]"
   ]
  },
  {
   "cell_type": "code",
   "execution_count": 16,
   "id": "f84f73a2",
   "metadata": {
    "execution": {
     "iopub.execute_input": "2025-07-23T14:31:21.016455Z",
     "iopub.status.busy": "2025-07-23T14:31:21.015606Z",
     "iopub.status.idle": "2025-07-23T14:31:21.021403Z",
     "shell.execute_reply": "2025-07-23T14:31:21.020643Z"
    },
    "papermill": {
     "duration": 0.017546,
     "end_time": "2025-07-23T14:31:21.022846",
     "exception": false,
     "start_time": "2025-07-23T14:31:21.005300",
     "status": "completed"
    },
    "tags": []
   },
   "outputs": [],
   "source": [
    "from utils import flatten_once\n",
    "\n",
    "excluded_features_columns = flatten_once(excluded_features_columns)"
   ]
  },
  {
   "cell_type": "code",
   "execution_count": 17,
   "id": "884dea22",
   "metadata": {
    "execution": {
     "iopub.execute_input": "2025-07-23T14:31:21.044016Z",
     "iopub.status.busy": "2025-07-23T14:31:21.043481Z",
     "iopub.status.idle": "2025-07-23T14:31:21.087752Z",
     "shell.execute_reply": "2025-07-23T14:31:21.086735Z"
    },
    "papermill": {
     "duration": 0.056236,
     "end_time": "2025-07-23T14:31:21.089282",
     "exception": false,
     "start_time": "2025-07-23T14:31:21.033046",
     "status": "completed"
    },
    "tags": []
   },
   "outputs": [
    {
     "name": "stdout",
     "output_type": "stream",
     "text": [
      "Dropping features: ['maxdeutsch1', 'maxdeutsch.Missing.', 'frau1']\n"
     ]
    }
   ],
   "source": [
    "if len(excluded_features_columns) > 0:\n",
    "    print(f\"Dropping features: {excluded_features_columns}\")\n",
    "    X_train.drop(excluded_features_columns, axis=1, inplace=True)"
   ]
  },
  {
   "cell_type": "code",
   "execution_count": 18,
   "id": "95ab8b16",
   "metadata": {
    "execution": {
     "iopub.execute_input": "2025-07-23T14:31:21.111488Z",
     "iopub.status.busy": "2025-07-23T14:31:21.110682Z",
     "iopub.status.idle": "2025-07-23T14:31:21.159787Z",
     "shell.execute_reply": "2025-07-23T14:31:21.158811Z"
    },
    "papermill": {
     "duration": 0.061898,
     "end_time": "2025-07-23T14:31:21.161727",
     "exception": false,
     "start_time": "2025-07-23T14:31:21.099829",
     "status": "completed"
    },
    "tags": []
   },
   "outputs": [
    {
     "name": "stdout",
     "output_type": "stream",
     "text": [
      "Dropping features: ['maxdeutsch1', 'maxdeutsch.Missing.', 'frau1']\n"
     ]
    }
   ],
   "source": [
    "if len(excluded_features_columns) > 0:\n",
    "    print(f\"Dropping features: {excluded_features_columns}\")\n",
    "    X_test.drop(excluded_features_columns, axis=1, inplace=True)"
   ]
  },
  {
   "cell_type": "code",
   "execution_count": 19,
   "id": "1853aaf5-fb9f-46cb-a2b5-8ea4ae2237e4",
   "metadata": {
    "execution": {
     "iopub.execute_input": "2025-07-23T14:31:21.183464Z",
     "iopub.status.busy": "2025-07-23T14:31:21.182934Z",
     "iopub.status.idle": "2025-07-23T14:31:21.233877Z",
     "shell.execute_reply": "2025-07-23T14:31:21.232940Z"
    },
    "papermill": {
     "duration": 0.062978,
     "end_time": "2025-07-23T14:31:21.235278",
     "exception": false,
     "start_time": "2025-07-23T14:31:21.172300",
     "status": "completed"
    },
    "tags": []
   },
   "outputs": [
    {
     "name": "stdout",
     "output_type": "stream",
     "text": [
      "Dropping features: ['maxdeutsch1', 'maxdeutsch.Missing.', 'frau1']\n"
     ]
    }
   ],
   "source": [
    "if len(excluded_features_columns) > 0:\n",
    "    print(f\"Dropping features: {excluded_features_columns}\")\n",
    "    X_calib.drop(excluded_features_columns, axis=1, inplace=True)"
   ]
  },
  {
   "cell_type": "code",
   "execution_count": 20,
   "id": "76c4dc6d",
   "metadata": {
    "execution": {
     "iopub.execute_input": "2025-07-23T14:31:21.256831Z",
     "iopub.status.busy": "2025-07-23T14:31:21.256471Z",
     "iopub.status.idle": "2025-07-23T14:31:21.260871Z",
     "shell.execute_reply": "2025-07-23T14:31:21.260013Z"
    },
    "papermill": {
     "duration": 0.016348,
     "end_time": "2025-07-23T14:31:21.262327",
     "exception": false,
     "start_time": "2025-07-23T14:31:21.245979",
     "status": "completed"
    },
    "tags": []
   },
   "outputs": [],
   "source": [
    "# EXCLUDE CERTAIN SUBGROUPS\n",
    "# ----------------------\n",
    "\n",
    "mode = universe.get(\"exclude_subgroups\", \"keep-all\") \n",
    "# Fetches the exclude_subgroups setting from the universe dict.\n",
    "# Defaults to \"keep-all\" if the key is missing."
   ]
  },
  {
   "cell_type": "code",
   "execution_count": 21,
   "id": "21994072",
   "metadata": {
    "execution": {
     "iopub.execute_input": "2025-07-23T14:31:21.283950Z",
     "iopub.status.busy": "2025-07-23T14:31:21.283178Z",
     "iopub.status.idle": "2025-07-23T14:31:21.289351Z",
     "shell.execute_reply": "2025-07-23T14:31:21.288603Z"
    },
    "papermill": {
     "duration": 0.018186,
     "end_time": "2025-07-23T14:31:21.290896",
     "exception": false,
     "start_time": "2025-07-23T14:31:21.272710",
     "status": "completed"
    },
    "tags": []
   },
   "outputs": [],
   "source": [
    "if mode == \"keep-all\":\n",
    "    keep_mask = pd.Series(True, index=org_train.index)\n",
    "\n",
    "# org_train contains the original feature columns from features_org (in Simson)\n",
    "# features_org contains unprocessed features, for me X_train at beginning ???\n",
    "# For keep-all, creates a boolean Series (keep_mask) of all True, so no rows are removed.\n",
    "\n",
    "elif mode == \"drop-non-german\":\n",
    "    keep_mask = org_train[\"maxdeutsch1\"] == 1 # ??? what about missing values?\n",
    "\n",
    "else:\n",
    "    raise ValueError(f\"Unsupported mode for exclude_subgroups: {mode}\")\n"
   ]
  },
  {
   "cell_type": "code",
   "execution_count": 22,
   "id": "71651440",
   "metadata": {
    "execution": {
     "iopub.execute_input": "2025-07-23T14:31:21.313316Z",
     "iopub.status.busy": "2025-07-23T14:31:21.312038Z",
     "iopub.status.idle": "2025-07-23T14:31:21.319185Z",
     "shell.execute_reply": "2025-07-23T14:31:21.318363Z"
    },
    "papermill": {
     "duration": 0.019196,
     "end_time": "2025-07-23T14:31:21.320683",
     "exception": false,
     "start_time": "2025-07-23T14:31:21.301487",
     "status": "completed"
    },
    "tags": []
   },
   "outputs": [
    {
     "name": "stdout",
     "output_type": "stream",
     "text": [
      "Dropping 10036 rows (13.38%) where mode='drop-non-german'\n"
     ]
    }
   ],
   "source": [
    "n_drop = (~keep_mask).sum() # Calculates how many rows are set to be dropped\n",
    "if n_drop > 0:\n",
    "    pct = n_drop / len(keep_mask) * 100\n",
    "    print(f\"Dropping {n_drop} rows ({pct:.2f}%) where mode='{mode}'\")"
   ]
  },
  {
   "cell_type": "code",
   "execution_count": 23,
   "id": "5fb8eee5",
   "metadata": {
    "execution": {
     "iopub.execute_input": "2025-07-23T14:31:21.342812Z",
     "iopub.status.busy": "2025-07-23T14:31:21.342103Z",
     "iopub.status.idle": "2025-07-23T14:31:21.385032Z",
     "shell.execute_reply": "2025-07-23T14:31:21.384183Z"
    },
    "papermill": {
     "duration": 0.055341,
     "end_time": "2025-07-23T14:31:21.386620",
     "exception": false,
     "start_time": "2025-07-23T14:31:21.331279",
     "status": "completed"
    },
    "tags": []
   },
   "outputs": [],
   "source": [
    "X_train = X_train[keep_mask]"
   ]
  },
  {
   "cell_type": "code",
   "execution_count": 24,
   "id": "b202bb3a",
   "metadata": {
    "execution": {
     "iopub.execute_input": "2025-07-23T14:31:21.408961Z",
     "iopub.status.busy": "2025-07-23T14:31:21.408206Z",
     "iopub.status.idle": "2025-07-23T14:31:21.414417Z",
     "shell.execute_reply": "2025-07-23T14:31:21.413646Z"
    },
    "papermill": {
     "duration": 0.018399,
     "end_time": "2025-07-23T14:31:21.415894",
     "exception": false,
     "start_time": "2025-07-23T14:31:21.397495",
     "status": "completed"
    },
    "tags": []
   },
   "outputs": [],
   "source": [
    "y_train = y_train[keep_mask]"
   ]
  },
  {
   "cell_type": "markdown",
   "id": "493e2ac3",
   "metadata": {
    "papermill": {
     "duration": 0.009841,
     "end_time": "2025-07-23T14:31:21.436194",
     "exception": false,
     "start_time": "2025-07-23T14:31:21.426353",
     "status": "completed"
    },
    "tags": []
   },
   "source": [
    "# Model Training"
   ]
  },
  {
   "cell_type": "code",
   "execution_count": 25,
   "id": "679e1268",
   "metadata": {
    "execution": {
     "iopub.execute_input": "2025-07-23T14:31:21.457726Z",
     "iopub.status.busy": "2025-07-23T14:31:21.457197Z",
     "iopub.status.idle": "2025-07-23T14:31:21.538953Z",
     "shell.execute_reply": "2025-07-23T14:31:21.538153Z"
    },
    "papermill": {
     "duration": 0.09433,
     "end_time": "2025-07-23T14:31:21.540505",
     "exception": false,
     "start_time": "2025-07-23T14:31:21.446175",
     "status": "completed"
    },
    "tags": []
   },
   "outputs": [],
   "source": [
    "from sklearn.linear_model import LogisticRegression\n",
    "from sklearn.ensemble import GradientBoostingClassifier, RandomForestClassifier\n",
    "\n",
    "if (universe[\"model\"] == \"logreg\"):\n",
    "    model = LogisticRegression() #penalty=\"none\") #, solver=\"newton-cg\", max_iter=1) # include random_state=19 ?\n",
    "elif (universe[\"model\"] == \"penalized_logreg\"):\n",
    "    model = LogisticRegression(penalty=\"l2\", C=1.0) #, solver=\"newton-cg\", max_iter=1)\n",
    "elif (universe[\"model\"] == \"rf\"):\n",
    "    model = RandomForestClassifier(n_estimators=100, n_jobs=-1)\n",
    "elif (universe[\"model\"] == \"gbm\"):\n",
    "    model = GradientBoostingClassifier()\n",
    "elif (universe[\"model\"] == \"elasticnet\"):\n",
    "    model = LogisticRegression(penalty = 'elasticnet', solver = 'saga', l1_ratio = 0.5, max_iter=5000) # which solver to use?\n",
    "else:\n",
    "    raise \"Unsupported universe.model\""
   ]
  },
  {
   "cell_type": "code",
   "execution_count": 26,
   "id": "0cc8f744",
   "metadata": {
    "execution": {
     "iopub.execute_input": "2025-07-23T14:31:21.562265Z",
     "iopub.status.busy": "2025-07-23T14:31:21.561726Z",
     "iopub.status.idle": "2025-07-23T14:31:21.567121Z",
     "shell.execute_reply": "2025-07-23T14:31:21.566399Z"
    },
    "papermill": {
     "duration": 0.017669,
     "end_time": "2025-07-23T14:31:21.568591",
     "exception": false,
     "start_time": "2025-07-23T14:31:21.550922",
     "status": "completed"
    },
    "tags": []
   },
   "outputs": [],
   "source": [
    "import numpy as np\n",
    "from sklearn.pipeline import Pipeline\n",
    "from sklearn.preprocessing import StandardScaler\n",
    "\n",
    "model = Pipeline([\n",
    "    #(\"continuous_processor\", continuous_processor),\n",
    "    #(\"categorical_preprocessor\", categorical_preprocessor),\n",
    "    (\"scale\", StandardScaler() if universe[\"scale\"] == \"scale\" else None), \n",
    "    (\"model\", model),\n",
    "])"
   ]
  },
  {
   "cell_type": "code",
   "execution_count": 27,
   "id": "9442c04d",
   "metadata": {
    "execution": {
     "iopub.execute_input": "2025-07-23T14:31:21.590674Z",
     "iopub.status.busy": "2025-07-23T14:31:21.589884Z",
     "iopub.status.idle": "2025-07-23T14:32:34.102397Z",
     "shell.execute_reply": "2025-07-23T14:32:34.101179Z"
    },
    "papermill": {
     "duration": 72.536295,
     "end_time": "2025-07-23T14:32:34.115422",
     "exception": false,
     "start_time": "2025-07-23T14:31:21.579127",
     "status": "completed"
    },
    "tags": []
   },
   "outputs": [
    {
     "data": {
      "text/html": [
       "<style>#sk-container-id-1 {color: black;background-color: white;}#sk-container-id-1 pre{padding: 0;}#sk-container-id-1 div.sk-toggleable {background-color: white;}#sk-container-id-1 label.sk-toggleable__label {cursor: pointer;display: block;width: 100%;margin-bottom: 0;padding: 0.3em;box-sizing: border-box;text-align: center;}#sk-container-id-1 label.sk-toggleable__label-arrow:before {content: \"▸\";float: left;margin-right: 0.25em;color: #696969;}#sk-container-id-1 label.sk-toggleable__label-arrow:hover:before {color: black;}#sk-container-id-1 div.sk-estimator:hover label.sk-toggleable__label-arrow:before {color: black;}#sk-container-id-1 div.sk-toggleable__content {max-height: 0;max-width: 0;overflow: hidden;text-align: left;background-color: #f0f8ff;}#sk-container-id-1 div.sk-toggleable__content pre {margin: 0.2em;color: black;border-radius: 0.25em;background-color: #f0f8ff;}#sk-container-id-1 input.sk-toggleable__control:checked~div.sk-toggleable__content {max-height: 200px;max-width: 100%;overflow: auto;}#sk-container-id-1 input.sk-toggleable__control:checked~label.sk-toggleable__label-arrow:before {content: \"▾\";}#sk-container-id-1 div.sk-estimator input.sk-toggleable__control:checked~label.sk-toggleable__label {background-color: #d4ebff;}#sk-container-id-1 div.sk-label input.sk-toggleable__control:checked~label.sk-toggleable__label {background-color: #d4ebff;}#sk-container-id-1 input.sk-hidden--visually {border: 0;clip: rect(1px 1px 1px 1px);clip: rect(1px, 1px, 1px, 1px);height: 1px;margin: -1px;overflow: hidden;padding: 0;position: absolute;width: 1px;}#sk-container-id-1 div.sk-estimator {font-family: monospace;background-color: #f0f8ff;border: 1px dotted black;border-radius: 0.25em;box-sizing: border-box;margin-bottom: 0.5em;}#sk-container-id-1 div.sk-estimator:hover {background-color: #d4ebff;}#sk-container-id-1 div.sk-parallel-item::after {content: \"\";width: 100%;border-bottom: 1px solid gray;flex-grow: 1;}#sk-container-id-1 div.sk-label:hover label.sk-toggleable__label {background-color: #d4ebff;}#sk-container-id-1 div.sk-serial::before {content: \"\";position: absolute;border-left: 1px solid gray;box-sizing: border-box;top: 0;bottom: 0;left: 50%;z-index: 0;}#sk-container-id-1 div.sk-serial {display: flex;flex-direction: column;align-items: center;background-color: white;padding-right: 0.2em;padding-left: 0.2em;position: relative;}#sk-container-id-1 div.sk-item {position: relative;z-index: 1;}#sk-container-id-1 div.sk-parallel {display: flex;align-items: stretch;justify-content: center;background-color: white;position: relative;}#sk-container-id-1 div.sk-item::before, #sk-container-id-1 div.sk-parallel-item::before {content: \"\";position: absolute;border-left: 1px solid gray;box-sizing: border-box;top: 0;bottom: 0;left: 50%;z-index: -1;}#sk-container-id-1 div.sk-parallel-item {display: flex;flex-direction: column;z-index: 1;position: relative;background-color: white;}#sk-container-id-1 div.sk-parallel-item:first-child::after {align-self: flex-end;width: 50%;}#sk-container-id-1 div.sk-parallel-item:last-child::after {align-self: flex-start;width: 50%;}#sk-container-id-1 div.sk-parallel-item:only-child::after {width: 0;}#sk-container-id-1 div.sk-dashed-wrapped {border: 1px dashed gray;margin: 0 0.4em 0.5em 0.4em;box-sizing: border-box;padding-bottom: 0.4em;background-color: white;}#sk-container-id-1 div.sk-label label {font-family: monospace;font-weight: bold;display: inline-block;line-height: 1.2em;}#sk-container-id-1 div.sk-label-container {text-align: center;}#sk-container-id-1 div.sk-container {/* jupyter's `normalize.less` sets `[hidden] { display: none; }` but bootstrap.min.css set `[hidden] { display: none !important; }` so we also need the `!important` here to be able to override the default hidden behavior on the sphinx rendered scikit-learn.org. See: https://github.com/scikit-learn/scikit-learn/issues/21755 */display: inline-block !important;position: relative;}#sk-container-id-1 div.sk-text-repr-fallback {display: none;}</style><div id=\"sk-container-id-1\" class=\"sk-top-container\"><div class=\"sk-text-repr-fallback\"><pre>Pipeline(steps=[(&#x27;scale&#x27;, StandardScaler()),\n",
       "                (&#x27;model&#x27;, GradientBoostingClassifier())])</pre><b>In a Jupyter environment, please rerun this cell to show the HTML representation or trust the notebook. <br />On GitHub, the HTML representation is unable to render, please try loading this page with nbviewer.org.</b></div><div class=\"sk-container\" hidden><div class=\"sk-item sk-dashed-wrapped\"><div class=\"sk-label-container\"><div class=\"sk-label sk-toggleable\"><input class=\"sk-toggleable__control sk-hidden--visually\" id=\"sk-estimator-id-1\" type=\"checkbox\" ><label for=\"sk-estimator-id-1\" class=\"sk-toggleable__label sk-toggleable__label-arrow\">Pipeline</label><div class=\"sk-toggleable__content\"><pre>Pipeline(steps=[(&#x27;scale&#x27;, StandardScaler()),\n",
       "                (&#x27;model&#x27;, GradientBoostingClassifier())])</pre></div></div></div><div class=\"sk-serial\"><div class=\"sk-item\"><div class=\"sk-estimator sk-toggleable\"><input class=\"sk-toggleable__control sk-hidden--visually\" id=\"sk-estimator-id-2\" type=\"checkbox\" ><label for=\"sk-estimator-id-2\" class=\"sk-toggleable__label sk-toggleable__label-arrow\">StandardScaler</label><div class=\"sk-toggleable__content\"><pre>StandardScaler()</pre></div></div></div><div class=\"sk-item\"><div class=\"sk-estimator sk-toggleable\"><input class=\"sk-toggleable__control sk-hidden--visually\" id=\"sk-estimator-id-3\" type=\"checkbox\" ><label for=\"sk-estimator-id-3\" class=\"sk-toggleable__label sk-toggleable__label-arrow\">GradientBoostingClassifier</label><div class=\"sk-toggleable__content\"><pre>GradientBoostingClassifier()</pre></div></div></div></div></div></div></div>"
      ],
      "text/plain": [
       "Pipeline(steps=[('scale', StandardScaler()),\n",
       "                ('model', GradientBoostingClassifier())])"
      ]
     },
     "execution_count": 27,
     "metadata": {},
     "output_type": "execute_result"
    }
   ],
   "source": [
    "model.fit(X_train, y_train.values.ravel())"
   ]
  },
  {
   "cell_type": "code",
   "execution_count": 28,
   "id": "af59f8c0",
   "metadata": {
    "execution": {
     "iopub.execute_input": "2025-07-23T14:32:34.137394Z",
     "iopub.status.busy": "2025-07-23T14:32:34.136959Z",
     "iopub.status.idle": "2025-07-23T14:32:34.142812Z",
     "shell.execute_reply": "2025-07-23T14:32:34.141975Z"
    },
    "papermill": {
     "duration": 0.018652,
     "end_time": "2025-07-23T14:32:34.144320",
     "exception": false,
     "start_time": "2025-07-23T14:32:34.125668",
     "status": "completed"
    },
    "tags": []
   },
   "outputs": [],
   "source": [
    "from fairness_multiverse.universe import predict_w_threshold"
   ]
  },
  {
   "cell_type": "code",
   "execution_count": 29,
   "id": "a7cf2e16",
   "metadata": {
    "execution": {
     "iopub.execute_input": "2025-07-23T14:32:34.167018Z",
     "iopub.status.busy": "2025-07-23T14:32:34.166282Z",
     "iopub.status.idle": "2025-07-23T14:32:34.762272Z",
     "shell.execute_reply": "2025-07-23T14:32:34.761521Z"
    },
    "papermill": {
     "duration": 0.608282,
     "end_time": "2025-07-23T14:32:34.763542",
     "exception": false,
     "start_time": "2025-07-23T14:32:34.155260",
     "status": "completed"
    },
    "tags": []
   },
   "outputs": [
    {
     "data": {
      "text/plain": [
       "0.8712183703043139"
      ]
     },
     "execution_count": 29,
     "metadata": {},
     "output_type": "execute_result"
    }
   ],
   "source": [
    "probs_test = model.predict_proba(X_test)\n",
    "\n",
    "'''\n",
    "Below code returns a boolean array (or binary 0/1 array depending on how it’s used) where each element \n",
    "is True if the probability of class 1 is greater than or equal to the threshold, and False otherwise.\n",
    "'''\n",
    "y_pred_default = predict_w_threshold(probs_test, 0.5)\n",
    "\n",
    "from sklearn.metrics import accuracy_score\n",
    "\n",
    "# Naive prediction\n",
    "accuracy_score(y_true = y_true, y_pred = y_pred_default)"
   ]
  },
  {
   "cell_type": "code",
   "execution_count": 30,
   "id": "081964c3",
   "metadata": {
    "execution": {
     "iopub.execute_input": "2025-07-23T14:32:34.786172Z",
     "iopub.status.busy": "2025-07-23T14:32:34.785686Z",
     "iopub.status.idle": "2025-07-23T14:32:35.299914Z",
     "shell.execute_reply": "2025-07-23T14:32:35.299128Z"
    },
    "papermill": {
     "duration": 0.526829,
     "end_time": "2025-07-23T14:32:35.301344",
     "exception": false,
     "start_time": "2025-07-23T14:32:34.774515",
     "status": "completed"
    },
    "tags": []
   },
   "outputs": [
    {
     "data": {
      "text/plain": [
       "array([0, 0, 0, ..., 0, 0, 0])"
      ]
     },
     "execution_count": 30,
     "metadata": {},
     "output_type": "execute_result"
    }
   ],
   "source": [
    "model.predict(X_test)"
   ]
  },
  {
   "cell_type": "markdown",
   "id": "56c9705b",
   "metadata": {
    "papermill": {
     "duration": 0.0104,
     "end_time": "2025-07-23T14:32:35.322651",
     "exception": false,
     "start_time": "2025-07-23T14:32:35.312251",
     "status": "completed"
    },
    "tags": []
   },
   "source": [
    "# Conformal Prediction"
   ]
  },
  {
   "cell_type": "code",
   "execution_count": 31,
   "id": "160ec6ff",
   "metadata": {
    "execution": {
     "iopub.execute_input": "2025-07-23T14:32:35.345120Z",
     "iopub.status.busy": "2025-07-23T14:32:35.344547Z",
     "iopub.status.idle": "2025-07-23T14:32:35.349418Z",
     "shell.execute_reply": "2025-07-23T14:32:35.348644Z"
    },
    "papermill": {
     "duration": 0.017935,
     "end_time": "2025-07-23T14:32:35.350965",
     "exception": false,
     "start_time": "2025-07-23T14:32:35.333030",
     "status": "completed"
    },
    "tags": []
   },
   "outputs": [],
   "source": [
    "# Miscoverage level for conformal prediction (10% allowed error rate => 90% target coverage)\n",
    "alpha = 0.1"
   ]
  },
  {
   "cell_type": "code",
   "execution_count": 32,
   "id": "eadf4555-3dd3-440e-8e35-f82a4ad9f855",
   "metadata": {
    "execution": {
     "iopub.execute_input": "2025-07-23T14:32:35.375010Z",
     "iopub.status.busy": "2025-07-23T14:32:35.374287Z",
     "iopub.status.idle": "2025-07-23T14:32:35.851821Z",
     "shell.execute_reply": "2025-07-23T14:32:35.851008Z"
    },
    "papermill": {
     "duration": 0.491046,
     "end_time": "2025-07-23T14:32:35.853415",
     "exception": false,
     "start_time": "2025-07-23T14:32:35.362369",
     "status": "completed"
    },
    "tags": []
   },
   "outputs": [],
   "source": [
    "probs_calib = model.predict_proba(X_calib)"
   ]
  },
  {
   "cell_type": "code",
   "execution_count": 33,
   "id": "2ed93547-6d5d-4983-9b36-1ecb300da49a",
   "metadata": {
    "execution": {
     "iopub.execute_input": "2025-07-23T14:32:35.877064Z",
     "iopub.status.busy": "2025-07-23T14:32:35.876712Z",
     "iopub.status.idle": "2025-07-23T14:32:35.882003Z",
     "shell.execute_reply": "2025-07-23T14:32:35.881188Z"
    },
    "papermill": {
     "duration": 0.018247,
     "end_time": "2025-07-23T14:32:35.883365",
     "exception": false,
     "start_time": "2025-07-23T14:32:35.865118",
     "status": "completed"
    },
    "tags": []
   },
   "outputs": [],
   "source": [
    "y_calib = y_calib.values.ravel().astype(int)"
   ]
  },
  {
   "cell_type": "code",
   "execution_count": 34,
   "id": "65d1320d-f588-4b38-9072-62af1ae97f7d",
   "metadata": {
    "execution": {
     "iopub.execute_input": "2025-07-23T14:32:35.906353Z",
     "iopub.status.busy": "2025-07-23T14:32:35.905962Z",
     "iopub.status.idle": "2025-07-23T14:32:35.912312Z",
     "shell.execute_reply": "2025-07-23T14:32:35.911560Z"
    },
    "papermill": {
     "duration": 0.019357,
     "end_time": "2025-07-23T14:32:35.913890",
     "exception": false,
     "start_time": "2025-07-23T14:32:35.894533",
     "status": "completed"
    },
    "tags": []
   },
   "outputs": [],
   "source": [
    "from fairness_multiverse.conformal import compute_nc_scores\n",
    "\n",
    "# Compute nonconformity scores on calibration set (1 - probability of true class)\n",
    "nc_scores = compute_nc_scores(probs_calib, y_calib)"
   ]
  },
  {
   "cell_type": "code",
   "execution_count": 35,
   "id": "df3b8ca3-53b7-43d5-9667-7c85da7aeda2",
   "metadata": {
    "execution": {
     "iopub.execute_input": "2025-07-23T14:32:35.937092Z",
     "iopub.status.busy": "2025-07-23T14:32:35.936382Z",
     "iopub.status.idle": "2025-07-23T14:32:35.942542Z",
     "shell.execute_reply": "2025-07-23T14:32:35.941749Z"
    },
    "papermill": {
     "duration": 0.019055,
     "end_time": "2025-07-23T14:32:35.943983",
     "exception": false,
     "start_time": "2025-07-23T14:32:35.924928",
     "status": "completed"
    },
    "tags": []
   },
   "outputs": [],
   "source": [
    "from fairness_multiverse.conformal import find_threshold\n",
    "\n",
    "# Find conformal threshold q_hat for the given alpha (split conformal method)\n",
    "q_hat = find_threshold(nc_scores, alpha)"
   ]
  },
  {
   "cell_type": "code",
   "execution_count": 36,
   "id": "4d29e6c1-0ef6-4aa4-b8fe-4fe79b0d033a",
   "metadata": {
    "execution": {
     "iopub.execute_input": "2025-07-23T14:32:35.968153Z",
     "iopub.status.busy": "2025-07-23T14:32:35.967245Z",
     "iopub.status.idle": "2025-07-23T14:32:35.974149Z",
     "shell.execute_reply": "2025-07-23T14:32:35.973199Z"
    },
    "papermill": {
     "duration": 0.019888,
     "end_time": "2025-07-23T14:32:35.975563",
     "exception": false,
     "start_time": "2025-07-23T14:32:35.955675",
     "status": "completed"
    },
    "tags": []
   },
   "outputs": [
    {
     "data": {
      "text/plain": [
       "0.6592582589467844"
      ]
     },
     "execution_count": 36,
     "metadata": {},
     "output_type": "execute_result"
    }
   ],
   "source": [
    "q_hat"
   ]
  },
  {
   "cell_type": "code",
   "execution_count": 37,
   "id": "92460794-cdac-4be2-ba28-f28c0515a6fb",
   "metadata": {
    "execution": {
     "iopub.execute_input": "2025-07-23T14:32:35.999855Z",
     "iopub.status.busy": "2025-07-23T14:32:35.998937Z",
     "iopub.status.idle": "2025-07-23T14:32:37.088672Z",
     "shell.execute_reply": "2025-07-23T14:32:37.087815Z"
    },
    "papermill": {
     "duration": 1.103074,
     "end_time": "2025-07-23T14:32:37.090232",
     "exception": false,
     "start_time": "2025-07-23T14:32:35.987158",
     "status": "completed"
    },
    "tags": []
   },
   "outputs": [],
   "source": [
    "from fairness_multiverse.conformal import predict_conformal_sets\n",
    "\n",
    "# Generate prediction sets for each test example\n",
    "pred_sets = predict_conformal_sets(model, X_test, q_hat)"
   ]
  },
  {
   "cell_type": "code",
   "execution_count": 38,
   "id": "d90c9a65-e6db-4f5d-80cd-e68fb7e46829",
   "metadata": {
    "execution": {
     "iopub.execute_input": "2025-07-23T14:32:37.114224Z",
     "iopub.status.busy": "2025-07-23T14:32:37.113688Z",
     "iopub.status.idle": "2025-07-23T14:32:37.118566Z",
     "shell.execute_reply": "2025-07-23T14:32:37.117794Z"
    },
    "papermill": {
     "duration": 0.018208,
     "end_time": "2025-07-23T14:32:37.120037",
     "exception": false,
     "start_time": "2025-07-23T14:32:37.101829",
     "status": "completed"
    },
    "tags": []
   },
   "outputs": [],
   "source": [
    "y_true = y_true.squeeze()"
   ]
  },
  {
   "cell_type": "code",
   "execution_count": 39,
   "id": "3a58a54a-1e68-46b9-927a-df01f18aebc8",
   "metadata": {
    "execution": {
     "iopub.execute_input": "2025-07-23T14:32:37.144142Z",
     "iopub.status.busy": "2025-07-23T14:32:37.143412Z",
     "iopub.status.idle": "2025-07-23T14:32:37.696969Z",
     "shell.execute_reply": "2025-07-23T14:32:37.696145Z"
    },
    "papermill": {
     "duration": 0.566831,
     "end_time": "2025-07-23T14:32:37.698572",
     "exception": false,
     "start_time": "2025-07-23T14:32:37.131741",
     "status": "completed"
    },
    "tags": []
   },
   "outputs": [],
   "source": [
    "from fairness_multiverse.conformal import evaluate_sets\n",
    "\n",
    "# Evaluate coverage and average set size on test data\n",
    "metrics = evaluate_sets(pred_sets, y_true)"
   ]
  },
  {
   "cell_type": "code",
   "execution_count": 40,
   "id": "5ce0a5cb-201f-45a0-ade5-94c7f0bd6095",
   "metadata": {
    "execution": {
     "iopub.execute_input": "2025-07-23T14:32:37.722387Z",
     "iopub.status.busy": "2025-07-23T14:32:37.722021Z",
     "iopub.status.idle": "2025-07-23T14:32:37.728475Z",
     "shell.execute_reply": "2025-07-23T14:32:37.727661Z"
    },
    "papermill": {
     "duration": 0.019924,
     "end_time": "2025-07-23T14:32:37.729948",
     "exception": false,
     "start_time": "2025-07-23T14:32:37.710024",
     "status": "completed"
    },
    "tags": []
   },
   "outputs": [
    {
     "data": {
      "text/plain": [
       "{'coverage': 0.9110244119942036, 'avg_size': 1.1098205328280013}"
      ]
     },
     "execution_count": 40,
     "metadata": {},
     "output_type": "execute_result"
    }
   ],
   "source": [
    "metrics"
   ]
  },
  {
   "cell_type": "code",
   "execution_count": 41,
   "id": "9b9a838d-31c9-430b-ae14-12baee460d17",
   "metadata": {
    "execution": {
     "iopub.execute_input": "2025-07-23T14:32:37.754637Z",
     "iopub.status.busy": "2025-07-23T14:32:37.753786Z",
     "iopub.status.idle": "2025-07-23T14:32:37.759288Z",
     "shell.execute_reply": "2025-07-23T14:32:37.758439Z"
    },
    "papermill": {
     "duration": 0.018997,
     "end_time": "2025-07-23T14:32:37.760783",
     "exception": false,
     "start_time": "2025-07-23T14:32:37.741786",
     "status": "completed"
    },
    "tags": []
   },
   "outputs": [],
   "source": [
    "example_universe = universe.copy()\n",
    "universe_model = example_universe.get(\"model\")\n",
    "universe_exclude_features = example_universe.get(\"exclude_features\")\n",
    "universe_exclude_subgroups = example_universe.get(\"exclude_subgroups\")\n",
    "universe_scale = example_universe.get(\"scale\")"
   ]
  },
  {
   "cell_type": "code",
   "execution_count": 42,
   "id": "f4b6a8ac-9dc0-4245-8a91-5b3b5999c4f9",
   "metadata": {
    "execution": {
     "iopub.execute_input": "2025-07-23T14:32:37.786113Z",
     "iopub.status.busy": "2025-07-23T14:32:37.785410Z",
     "iopub.status.idle": "2025-07-23T14:32:37.790957Z",
     "shell.execute_reply": "2025-07-23T14:32:37.790081Z"
    },
    "papermill": {
     "duration": 0.019436,
     "end_time": "2025-07-23T14:32:37.792326",
     "exception": false,
     "start_time": "2025-07-23T14:32:37.772890",
     "status": "completed"
    },
    "tags": []
   },
   "outputs": [],
   "source": [
    "cp_metrics_dict = {\n",
    "    \"universe_id\": [universe_id],\n",
    "    \"universe_model\": [universe_model],\n",
    "    \"universe_exclude_features\": [universe_exclude_features],\n",
    "    \"universe_exclude_subgroups\": [universe_exclude_subgroups],\n",
    "    \"universe_scale\": [universe_scale],\n",
    "    \"q_hat\": [q_hat],\n",
    "    \"coverage\": [metrics[\"coverage\"]],\n",
    "    \"avg_size\": [metrics[\"avg_size\"]],\n",
    "}"
   ]
  },
  {
   "cell_type": "code",
   "execution_count": 43,
   "id": "908acbb1-0371-4915-85ca-3fa520d2efe2",
   "metadata": {
    "execution": {
     "iopub.execute_input": "2025-07-23T14:32:37.817586Z",
     "iopub.status.busy": "2025-07-23T14:32:37.816762Z",
     "iopub.status.idle": "2025-07-23T14:32:37.823587Z",
     "shell.execute_reply": "2025-07-23T14:32:37.822719Z"
    },
    "papermill": {
     "duration": 0.020503,
     "end_time": "2025-07-23T14:32:37.825047",
     "exception": false,
     "start_time": "2025-07-23T14:32:37.804544",
     "status": "completed"
    },
    "tags": []
   },
   "outputs": [
    {
     "data": {
      "text/plain": [
       "{'universe_id': ['ad48488da884420acb8a216603922a86'],\n",
       " 'universe_model': ['gbm'],\n",
       " 'universe_exclude_features': ['nationality-sex'],\n",
       " 'universe_exclude_subgroups': ['drop-non-german'],\n",
       " 'universe_scale': ['scale'],\n",
       " 'q_hat': [0.6592582589467844],\n",
       " 'coverage': [0.9110244119942036],\n",
       " 'avg_size': [1.1098205328280013]}"
      ]
     },
     "execution_count": 43,
     "metadata": {},
     "output_type": "execute_result"
    }
   ],
   "source": [
    "cp_metrics_dict"
   ]
  },
  {
   "cell_type": "code",
   "execution_count": 44,
   "id": "33007efc-14e9-4ec6-97ac-56a455c82265",
   "metadata": {
    "execution": {
     "iopub.execute_input": "2025-07-23T14:32:37.849705Z",
     "iopub.status.busy": "2025-07-23T14:32:37.849192Z",
     "iopub.status.idle": "2025-07-23T14:32:37.855001Z",
     "shell.execute_reply": "2025-07-23T14:32:37.854141Z"
    },
    "papermill": {
     "duration": 0.019303,
     "end_time": "2025-07-23T14:32:37.856374",
     "exception": false,
     "start_time": "2025-07-23T14:32:37.837071",
     "status": "completed"
    },
    "tags": []
   },
   "outputs": [],
   "source": [
    "cp_metrics_df = pd.DataFrame(cp_metrics_dict)"
   ]
  },
  {
   "cell_type": "code",
   "execution_count": 45,
   "id": "db12611b-57b2-4910-b9d0-355adfd6e7bf",
   "metadata": {
    "execution": {
     "iopub.execute_input": "2025-07-23T14:32:37.881327Z",
     "iopub.status.busy": "2025-07-23T14:32:37.880644Z",
     "iopub.status.idle": "2025-07-23T14:32:37.895570Z",
     "shell.execute_reply": "2025-07-23T14:32:37.894872Z"
    },
    "papermill": {
     "duration": 0.028655,
     "end_time": "2025-07-23T14:32:37.897175",
     "exception": false,
     "start_time": "2025-07-23T14:32:37.868520",
     "status": "completed"
    },
    "tags": []
   },
   "outputs": [
    {
     "data": {
      "text/html": [
       "<div>\n",
       "<style scoped>\n",
       "    .dataframe tbody tr th:only-of-type {\n",
       "        vertical-align: middle;\n",
       "    }\n",
       "\n",
       "    .dataframe tbody tr th {\n",
       "        vertical-align: top;\n",
       "    }\n",
       "\n",
       "    .dataframe thead th {\n",
       "        text-align: right;\n",
       "    }\n",
       "</style>\n",
       "<table border=\"1\" class=\"dataframe\">\n",
       "  <thead>\n",
       "    <tr style=\"text-align: right;\">\n",
       "      <th></th>\n",
       "      <th>universe_id</th>\n",
       "      <th>universe_model</th>\n",
       "      <th>universe_exclude_features</th>\n",
       "      <th>universe_exclude_subgroups</th>\n",
       "      <th>universe_scale</th>\n",
       "      <th>q_hat</th>\n",
       "      <th>coverage</th>\n",
       "      <th>avg_size</th>\n",
       "    </tr>\n",
       "  </thead>\n",
       "  <tbody>\n",
       "    <tr>\n",
       "      <th>0</th>\n",
       "      <td>ad48488da884420acb8a216603922a86</td>\n",
       "      <td>gbm</td>\n",
       "      <td>nationality-sex</td>\n",
       "      <td>drop-non-german</td>\n",
       "      <td>scale</td>\n",
       "      <td>0.659258</td>\n",
       "      <td>0.911024</td>\n",
       "      <td>1.109821</td>\n",
       "    </tr>\n",
       "  </tbody>\n",
       "</table>\n",
       "</div>"
      ],
      "text/plain": [
       "                        universe_id universe_model universe_exclude_features  \\\n",
       "0  ad48488da884420acb8a216603922a86            gbm           nationality-sex   \n",
       "\n",
       "  universe_exclude_subgroups universe_scale     q_hat  coverage  avg_size  \n",
       "0            drop-non-german          scale  0.659258  0.911024  1.109821  "
      ]
     },
     "execution_count": 45,
     "metadata": {},
     "output_type": "execute_result"
    }
   ],
   "source": [
    "cp_metrics_df"
   ]
  },
  {
   "cell_type": "code",
   "execution_count": 46,
   "id": "b7fbde55-a0a1-47e4-9af6-fe4a17fa8c61",
   "metadata": {
    "execution": {
     "iopub.execute_input": "2025-07-23T14:32:37.921906Z",
     "iopub.status.busy": "2025-07-23T14:32:37.921187Z",
     "iopub.status.idle": "2025-07-23T14:32:37.925885Z",
     "shell.execute_reply": "2025-07-23T14:32:37.925085Z"
    },
    "papermill": {
     "duration": 0.018478,
     "end_time": "2025-07-23T14:32:37.927384",
     "exception": false,
     "start_time": "2025-07-23T14:32:37.908906",
     "status": "completed"
    },
    "tags": []
   },
   "outputs": [],
   "source": [
    "# Conditional Coverage & looking at subgroups"
   ]
  },
  {
   "cell_type": "code",
   "execution_count": 47,
   "id": "027ae886-68dd-4141-96c7-805a5450e1ef",
   "metadata": {
    "execution": {
     "iopub.execute_input": "2025-07-23T14:32:37.952915Z",
     "iopub.status.busy": "2025-07-23T14:32:37.952188Z",
     "iopub.status.idle": "2025-07-23T14:32:38.143346Z",
     "shell.execute_reply": "2025-07-23T14:32:38.142520Z"
    },
    "papermill": {
     "duration": 0.205505,
     "end_time": "2025-07-23T14:32:38.145002",
     "exception": false,
     "start_time": "2025-07-23T14:32:37.939497",
     "status": "completed"
    },
    "tags": []
   },
   "outputs": [],
   "source": [
    "from fairness_multiverse.conformal import build_cp_groups\n",
    "\n",
    "cp_groups_df = build_cp_groups(pred_sets, y_true, X_test.index, org_test)\n",
    "#needs universe_id and setting"
   ]
  },
  {
   "cell_type": "code",
   "execution_count": 48,
   "id": "c3b92545-903e-4839-89af-0f057907d7d6",
   "metadata": {
    "execution": {
     "iopub.execute_input": "2025-07-23T14:32:38.186525Z",
     "iopub.status.busy": "2025-07-23T14:32:38.185978Z",
     "iopub.status.idle": "2025-07-23T14:32:39.160290Z",
     "shell.execute_reply": "2025-07-23T14:32:39.159493Z"
    },
    "papermill": {
     "duration": 1.000714,
     "end_time": "2025-07-23T14:32:39.161880",
     "exception": false,
     "start_time": "2025-07-23T14:32:38.161166",
     "status": "completed"
    },
    "tags": []
   },
   "outputs": [],
   "source": [
    "# Define covered = 1 if true_label is in the predicted set\n",
    "cp_groups_df['covered'] = cp_groups_df.apply(\n",
    "    lambda r: int(r['true_label'] in r['pred_set']),\n",
    "    axis=1\n",
    ")"
   ]
  },
  {
   "cell_type": "code",
   "execution_count": 49,
   "id": "338ff529-1a6b-4b87-a931-8e4788d52aad",
   "metadata": {
    "execution": {
     "iopub.execute_input": "2025-07-23T14:32:39.186746Z",
     "iopub.status.busy": "2025-07-23T14:32:39.186378Z",
     "iopub.status.idle": "2025-07-23T14:32:39.190804Z",
     "shell.execute_reply": "2025-07-23T14:32:39.189958Z"
    },
    "papermill": {
     "duration": 0.018255,
     "end_time": "2025-07-23T14:32:39.192148",
     "exception": false,
     "start_time": "2025-07-23T14:32:39.173893",
     "status": "completed"
    },
    "tags": []
   },
   "outputs": [],
   "source": [
    "#cp_groups_df"
   ]
  },
  {
   "cell_type": "code",
   "execution_count": 50,
   "id": "90032e27-66df-4540-9169-4e89cfbaa758",
   "metadata": {
    "execution": {
     "iopub.execute_input": "2025-07-23T14:32:39.217897Z",
     "iopub.status.busy": "2025-07-23T14:32:39.217372Z",
     "iopub.status.idle": "2025-07-23T14:32:39.227099Z",
     "shell.execute_reply": "2025-07-23T14:32:39.226310Z"
    },
    "papermill": {
     "duration": 0.023555,
     "end_time": "2025-07-23T14:32:39.228492",
     "exception": false,
     "start_time": "2025-07-23T14:32:39.204937",
     "status": "completed"
    },
    "tags": []
   },
   "outputs": [],
   "source": [
    "subgroups = ['frau1','nongerman','nongerman_male','nongerman_female']\n",
    "\n",
    "# Conditional coverage for subgroup==1\n",
    "cond_coverage = {\n",
    "    g: cp_groups_df.loc[cp_groups_df[g]==1, 'covered'].mean()\n",
    "    for g in subgroups\n",
    "}"
   ]
  },
  {
   "cell_type": "code",
   "execution_count": 51,
   "id": "1e348fb1-b9c3-45bc-ba23-f016827a7e0d",
   "metadata": {
    "execution": {
     "iopub.execute_input": "2025-07-23T14:32:39.253986Z",
     "iopub.status.busy": "2025-07-23T14:32:39.253526Z",
     "iopub.status.idle": "2025-07-23T14:32:39.260492Z",
     "shell.execute_reply": "2025-07-23T14:32:39.259770Z"
    },
    "papermill": {
     "duration": 0.021261,
     "end_time": "2025-07-23T14:32:39.261998",
     "exception": false,
     "start_time": "2025-07-23T14:32:39.240737",
     "status": "completed"
    },
    "tags": []
   },
   "outputs": [
    {
     "data": {
      "text/plain": [
       "{'frau1': 0.9137080469065911,\n",
       " 'nongerman': 0.9095604333913434,\n",
       " 'nongerman_male': 0.9254255606592813,\n",
       " 'nongerman_female': 0.8833084947839046}"
      ]
     },
     "execution_count": 51,
     "metadata": {},
     "output_type": "execute_result"
    }
   ],
   "source": [
    "cond_coverage"
   ]
  },
  {
   "cell_type": "code",
   "execution_count": 52,
   "id": "f5093324-c3dd-4d63-bc4c-8d945e5c8bbb",
   "metadata": {
    "execution": {
     "iopub.execute_input": "2025-07-23T14:32:39.287364Z",
     "iopub.status.busy": "2025-07-23T14:32:39.286652Z",
     "iopub.status.idle": "2025-07-23T14:32:39.293246Z",
     "shell.execute_reply": "2025-07-23T14:32:39.292479Z"
    },
    "papermill": {
     "duration": 0.020595,
     "end_time": "2025-07-23T14:32:39.294825",
     "exception": false,
     "start_time": "2025-07-23T14:32:39.274230",
     "status": "completed"
    },
    "tags": []
   },
   "outputs": [],
   "source": [
    "for subgroup, cov in cond_coverage.items():\n",
    "    cp_metrics_df[f\"cov_{subgroup}\"] = cov"
   ]
  },
  {
   "cell_type": "code",
   "execution_count": 53,
   "id": "6e872e10-dbe5-49e8-b554-5030c98ff75d",
   "metadata": {
    "execution": {
     "iopub.execute_input": "2025-07-23T14:32:39.320739Z",
     "iopub.status.busy": "2025-07-23T14:32:39.319845Z",
     "iopub.status.idle": "2025-07-23T14:32:39.333767Z",
     "shell.execute_reply": "2025-07-23T14:32:39.332800Z"
    },
    "papermill": {
     "duration": 0.027805,
     "end_time": "2025-07-23T14:32:39.335218",
     "exception": false,
     "start_time": "2025-07-23T14:32:39.307413",
     "status": "completed"
    },
    "tags": []
   },
   "outputs": [
    {
     "data": {
      "text/html": [
       "<div>\n",
       "<style scoped>\n",
       "    .dataframe tbody tr th:only-of-type {\n",
       "        vertical-align: middle;\n",
       "    }\n",
       "\n",
       "    .dataframe tbody tr th {\n",
       "        vertical-align: top;\n",
       "    }\n",
       "\n",
       "    .dataframe thead th {\n",
       "        text-align: right;\n",
       "    }\n",
       "</style>\n",
       "<table border=\"1\" class=\"dataframe\">\n",
       "  <thead>\n",
       "    <tr style=\"text-align: right;\">\n",
       "      <th></th>\n",
       "      <th>universe_id</th>\n",
       "      <th>universe_model</th>\n",
       "      <th>universe_exclude_features</th>\n",
       "      <th>universe_exclude_subgroups</th>\n",
       "      <th>universe_scale</th>\n",
       "      <th>q_hat</th>\n",
       "      <th>coverage</th>\n",
       "      <th>avg_size</th>\n",
       "      <th>cov_frau1</th>\n",
       "      <th>cov_nongerman</th>\n",
       "      <th>cov_nongerman_male</th>\n",
       "      <th>cov_nongerman_female</th>\n",
       "    </tr>\n",
       "  </thead>\n",
       "  <tbody>\n",
       "    <tr>\n",
       "      <th>0</th>\n",
       "      <td>ad48488da884420acb8a216603922a86</td>\n",
       "      <td>gbm</td>\n",
       "      <td>nationality-sex</td>\n",
       "      <td>drop-non-german</td>\n",
       "      <td>scale</td>\n",
       "      <td>0.659258</td>\n",
       "      <td>0.911024</td>\n",
       "      <td>1.109821</td>\n",
       "      <td>0.913708</td>\n",
       "      <td>0.90956</td>\n",
       "      <td>0.925426</td>\n",
       "      <td>0.883308</td>\n",
       "    </tr>\n",
       "  </tbody>\n",
       "</table>\n",
       "</div>"
      ],
      "text/plain": [
       "                        universe_id universe_model universe_exclude_features  \\\n",
       "0  ad48488da884420acb8a216603922a86            gbm           nationality-sex   \n",
       "\n",
       "  universe_exclude_subgroups universe_scale     q_hat  coverage  avg_size  \\\n",
       "0            drop-non-german          scale  0.659258  0.911024  1.109821   \n",
       "\n",
       "   cov_frau1  cov_nongerman  cov_nongerman_male  cov_nongerman_female  \n",
       "0   0.913708        0.90956            0.925426              0.883308  "
      ]
     },
     "execution_count": 53,
     "metadata": {},
     "output_type": "execute_result"
    }
   ],
   "source": [
    "cp_metrics_df"
   ]
  },
  {
   "cell_type": "markdown",
   "id": "33774451",
   "metadata": {
    "papermill": {
     "duration": 0.011878,
     "end_time": "2025-07-23T14:32:39.359841",
     "exception": false,
     "start_time": "2025-07-23T14:32:39.347963",
     "status": "completed"
    },
    "tags": []
   },
   "source": [
    "# (Fairness) Metrics"
   ]
  },
  {
   "cell_type": "code",
   "execution_count": 54,
   "id": "debc5d62",
   "metadata": {
    "execution": {
     "iopub.execute_input": "2025-07-23T14:32:39.385415Z",
     "iopub.status.busy": "2025-07-23T14:32:39.384979Z",
     "iopub.status.idle": "2025-07-23T14:32:39.400922Z",
     "shell.execute_reply": "2025-07-23T14:32:39.399908Z"
    },
    "papermill": {
     "duration": 0.030471,
     "end_time": "2025-07-23T14:32:39.402487",
     "exception": false,
     "start_time": "2025-07-23T14:32:39.372016",
     "status": "completed"
    },
    "tags": []
   },
   "outputs": [],
   "source": [
    "# do I need to include maxdeutsch1.missing?\n",
    "\n",
    "import numpy as np\n",
    "\n",
    "colname_to_bin = \"maxdeutsch1\"\n",
    "majority_value = org_train[colname_to_bin].mode()[0]\n",
    "\n",
    "org_test[\"majmin\"] = np.where(org_test[colname_to_bin] == majority_value, \"majority\", \"minority\")"
   ]
  },
  {
   "cell_type": "code",
   "execution_count": 55,
   "id": "06a50de5",
   "metadata": {
    "execution": {
     "iopub.execute_input": "2025-07-23T14:32:39.429173Z",
     "iopub.status.busy": "2025-07-23T14:32:39.428495Z",
     "iopub.status.idle": "2025-07-23T14:32:41.956824Z",
     "shell.execute_reply": "2025-07-23T14:32:41.956020Z"
    },
    "papermill": {
     "duration": 2.543341,
     "end_time": "2025-07-23T14:32:41.958359",
     "exception": false,
     "start_time": "2025-07-23T14:32:39.415018",
     "status": "completed"
    },
    "tags": []
   },
   "outputs": [],
   "source": [
    "example_universe = universe.copy()\n",
    "example_universe[\"cutoff\"] = example_universe[\"cutoff\"][0]\n",
    "example_universe[\"eval_fairness_grouping\"] = example_universe[\"eval_fairness_grouping\"][0]\n",
    "fairness_dict, metric_frame = universe_analysis.compute_metrics(\n",
    "    example_universe,\n",
    "    y_pred_prob=probs_test,\n",
    "    y_test=y_true,\n",
    "    org_test=org_test,\n",
    ")"
   ]
  },
  {
   "cell_type": "markdown",
   "id": "f95d4e02",
   "metadata": {
    "papermill": {
     "duration": 0.012047,
     "end_time": "2025-07-23T14:32:41.983051",
     "exception": false,
     "start_time": "2025-07-23T14:32:41.971004",
     "status": "completed"
    },
    "tags": []
   },
   "source": [
    "# Overall"
   ]
  },
  {
   "cell_type": "markdown",
   "id": "bdee4871",
   "metadata": {
    "papermill": {
     "duration": 0.023539,
     "end_time": "2025-07-23T14:32:42.025749",
     "exception": false,
     "start_time": "2025-07-23T14:32:42.002210",
     "status": "completed"
    },
    "tags": []
   },
   "source": [
    "Fairness\n",
    "Main fairness target: Equalized Odds. Seems to be a better fit than equal opportunity, since we're not only interested in Y = 1. Seems to be a better fit than demographic parity, since we also care about accuracy, not just equal distribution of preds.\n",
    "\n",
    "Pick column for computation of fairness metrics\n",
    "\n",
    "Performance\n",
    "Overall performance measures, most interesting in relation to the measures split by group below"
   ]
  },
  {
   "cell_type": "code",
   "execution_count": 56,
   "id": "c4e067c6",
   "metadata": {
    "execution": {
     "iopub.execute_input": "2025-07-23T14:32:42.073991Z",
     "iopub.status.busy": "2025-07-23T14:32:42.073024Z",
     "iopub.status.idle": "2025-07-23T14:32:42.081674Z",
     "shell.execute_reply": "2025-07-23T14:32:42.080521Z"
    },
    "papermill": {
     "duration": 0.03471,
     "end_time": "2025-07-23T14:32:42.083555",
     "exception": false,
     "start_time": "2025-07-23T14:32:42.048845",
     "status": "completed"
    },
    "tags": []
   },
   "outputs": [
    {
     "data": {
      "text/plain": [
       "accuracy                   0.225449\n",
       "balanced accuracy          0.551028\n",
       "f1                         0.246751\n",
       "precision                  0.140960\n",
       "false positive rate        0.886908\n",
       "false negative rate        0.011036\n",
       "selection rate             0.900000\n",
       "count                  89710.000000\n",
       "dtype: float64"
      ]
     },
     "execution_count": 56,
     "metadata": {},
     "output_type": "execute_result"
    }
   ],
   "source": [
    "metric_frame.overall"
   ]
  },
  {
   "cell_type": "markdown",
   "id": "e968fe9d",
   "metadata": {
    "papermill": {
     "duration": 0.013374,
     "end_time": "2025-07-23T14:32:42.110679",
     "exception": false,
     "start_time": "2025-07-23T14:32:42.097305",
     "status": "completed"
    },
    "tags": []
   },
   "source": [
    "By Group"
   ]
  },
  {
   "cell_type": "code",
   "execution_count": 57,
   "id": "ec325bce",
   "metadata": {
    "execution": {
     "iopub.execute_input": "2025-07-23T14:32:42.136504Z",
     "iopub.status.busy": "2025-07-23T14:32:42.136084Z",
     "iopub.status.idle": "2025-07-23T14:32:42.152823Z",
     "shell.execute_reply": "2025-07-23T14:32:42.151740Z"
    },
    "papermill": {
     "duration": 0.031928,
     "end_time": "2025-07-23T14:32:42.154661",
     "exception": false,
     "start_time": "2025-07-23T14:32:42.122733",
     "status": "completed"
    },
    "tags": []
   },
   "outputs": [
    {
     "data": {
      "text/html": [
       "<div>\n",
       "<style scoped>\n",
       "    .dataframe tbody tr th:only-of-type {\n",
       "        vertical-align: middle;\n",
       "    }\n",
       "\n",
       "    .dataframe tbody tr th {\n",
       "        vertical-align: top;\n",
       "    }\n",
       "\n",
       "    .dataframe thead th {\n",
       "        text-align: right;\n",
       "    }\n",
       "</style>\n",
       "<table border=\"1\" class=\"dataframe\">\n",
       "  <thead>\n",
       "    <tr style=\"text-align: right;\">\n",
       "      <th></th>\n",
       "      <th>accuracy</th>\n",
       "      <th>balanced accuracy</th>\n",
       "      <th>f1</th>\n",
       "      <th>precision</th>\n",
       "      <th>false positive rate</th>\n",
       "      <th>false negative rate</th>\n",
       "      <th>selection rate</th>\n",
       "      <th>count</th>\n",
       "    </tr>\n",
       "    <tr>\n",
       "      <th>majmin</th>\n",
       "      <th></th>\n",
       "      <th></th>\n",
       "      <th></th>\n",
       "      <th></th>\n",
       "      <th></th>\n",
       "      <th></th>\n",
       "      <th></th>\n",
       "      <th></th>\n",
       "    </tr>\n",
       "  </thead>\n",
       "  <tbody>\n",
       "    <tr>\n",
       "      <th>majority</th>\n",
       "      <td>0.244499</td>\n",
       "      <td>0.559772</td>\n",
       "      <td>0.256897</td>\n",
       "      <td>0.147637</td>\n",
       "      <td>0.868749</td>\n",
       "      <td>0.011707</td>\n",
       "      <td>0.884545</td>\n",
       "      <td>69170.0</td>\n",
       "    </tr>\n",
       "    <tr>\n",
       "      <th>minority</th>\n",
       "      <td>0.161295</td>\n",
       "      <td>0.522329</td>\n",
       "      <td>0.214204</td>\n",
       "      <td>0.120072</td>\n",
       "      <td>0.946896</td>\n",
       "      <td>0.008446</td>\n",
       "      <td>0.952045</td>\n",
       "      <td>20540.0</td>\n",
       "    </tr>\n",
       "  </tbody>\n",
       "</table>\n",
       "</div>"
      ],
      "text/plain": [
       "          accuracy  balanced accuracy        f1  precision  \\\n",
       "majmin                                                       \n",
       "majority  0.244499           0.559772  0.256897   0.147637   \n",
       "minority  0.161295           0.522329  0.214204   0.120072   \n",
       "\n",
       "          false positive rate  false negative rate  selection rate    count  \n",
       "majmin                                                                       \n",
       "majority             0.868749             0.011707        0.884545  69170.0  \n",
       "minority             0.946896             0.008446        0.952045  20540.0  "
      ]
     },
     "execution_count": 57,
     "metadata": {},
     "output_type": "execute_result"
    }
   ],
   "source": [
    "metric_frame.by_group"
   ]
  },
  {
   "cell_type": "code",
   "execution_count": 58,
   "id": "a9ddbe63",
   "metadata": {
    "execution": {
     "iopub.execute_input": "2025-07-23T14:32:42.214069Z",
     "iopub.status.busy": "2025-07-23T14:32:42.213632Z",
     "iopub.status.idle": "2025-07-23T14:32:43.888726Z",
     "shell.execute_reply": "2025-07-23T14:32:43.887174Z"
    },
    "papermill": {
     "duration": 1.70862,
     "end_time": "2025-07-23T14:32:43.890054",
     "exception": false,
     "start_time": "2025-07-23T14:32:42.181434",
     "status": "completed"
    },
    "tags": []
   },
   "outputs": [
    {
     "data": {
      "text/plain": [
       "array([[<Axes: title={'center': 'accuracy'}, xlabel='majmin'>,\n",
       "        <Axes: title={'center': 'balanced accuracy'}, xlabel='majmin'>,\n",
       "        <Axes: title={'center': 'f1'}, xlabel='majmin'>],\n",
       "       [<Axes: title={'center': 'precision'}, xlabel='majmin'>,\n",
       "        <Axes: title={'center': 'false positive rate'}, xlabel='majmin'>,\n",
       "        <Axes: title={'center': 'false negative rate'}, xlabel='majmin'>],\n",
       "       [<Axes: title={'center': 'selection rate'}, xlabel='majmin'>,\n",
       "        <Axes: title={'center': 'count'}, xlabel='majmin'>,\n",
       "        <Axes: xlabel='majmin'>]], dtype=object)"
      ]
     },
     "execution_count": 58,
     "metadata": {},
     "output_type": "execute_result"
    },
    {
     "data": {
      "image/png": "[encoded data removed]",
      "text/plain": [
       "<Figure size 1200x800 with 9 Axes>"
      ]
     },
     "metadata": {},
     "output_type": "display_data"
    }
   ],
   "source": [
    "# In a graphic\n",
    "metric_frame.by_group.plot.bar(\n",
    "    subplots=True,\n",
    "    layout=[3, 3],\n",
    "    legend=False,\n",
    "    figsize=[12, 8],\n",
    "    title=\"Show all metrics\",\n",
    ")"
   ]
  },
  {
   "cell_type": "markdown",
   "id": "f57a0bac",
   "metadata": {
    "papermill": {
     "duration": 0.013408,
     "end_time": "2025-07-23T14:32:43.917430",
     "exception": false,
     "start_time": "2025-07-23T14:32:43.904022",
     "status": "completed"
    },
    "tags": []
   },
   "source": [
    "# Final Output"
   ]
  },
  {
   "cell_type": "code",
   "execution_count": 59,
   "id": "96d280a3",
   "metadata": {
    "execution": {
     "iopub.execute_input": "2025-07-23T14:32:43.946705Z",
     "iopub.status.busy": "2025-07-23T14:32:43.946219Z",
     "iopub.status.idle": "2025-07-23T14:32:43.953647Z",
     "shell.execute_reply": "2025-07-23T14:32:43.952826Z"
    },
    "papermill": {
     "duration": 0.024358,
     "end_time": "2025-07-23T14:32:43.955035",
     "exception": false,
     "start_time": "2025-07-23T14:32:43.930677",
     "status": "completed"
    },
    "tags": []
   },
   "outputs": [
    {
     "data": {
      "text/plain": [
       "4"
      ]
     },
     "execution_count": 59,
     "metadata": {},
     "output_type": "execute_result"
    }
   ],
   "source": [
    "sub_universes = universe_analysis.generate_sub_universes()\n",
    "len(sub_universes)"
   ]
  },
  {
   "cell_type": "code",
   "execution_count": 60,
   "id": "92adf7ba",
   "metadata": {
    "execution": {
     "iopub.execute_input": "2025-07-23T14:32:43.984711Z",
     "iopub.status.busy": "2025-07-23T14:32:43.983775Z",
     "iopub.status.idle": "2025-07-23T14:32:44.003170Z",
     "shell.execute_reply": "2025-07-23T14:32:44.002356Z"
    },
    "papermill": {
     "duration": 0.035579,
     "end_time": "2025-07-23T14:32:44.004666",
     "exception": false,
     "start_time": "2025-07-23T14:32:43.969087",
     "status": "completed"
    },
    "tags": []
   },
   "outputs": [],
   "source": [
    "def filter_sub_universe_data(sub_universe, org_test):\n",
    "    # Keep all rows — no filtering\n",
    "    keep_rows_mask = np.ones(org_test.shape[0], dtype=bool)\n",
    "\n",
    "    print(f\"[INFO] Keeping all rows: {keep_rows_mask.sum()} rows retained.\")\n",
    "    return keep_rows_mask"
   ]
  },
  {
   "cell_type": "code",
   "execution_count": 61,
   "id": "4a759155",
   "metadata": {
    "execution": {
     "iopub.execute_input": "2025-07-23T14:32:44.034994Z",
     "iopub.status.busy": "2025-07-23T14:32:44.034068Z",
     "iopub.status.idle": "2025-07-23T14:32:50.728551Z",
     "shell.execute_reply": "2025-07-23T14:32:50.727695Z"
    },
    "papermill": {
     "duration": 6.710681,
     "end_time": "2025-07-23T14:32:50.729955",
     "exception": false,
     "start_time": "2025-07-23T14:32:44.019274",
     "status": "completed"
    },
    "tags": []
   },
   "outputs": [
    {
     "name": "stdout",
     "output_type": "stream",
     "text": [
      "Stopping execution_time clock.\n",
      "[INFO] Keeping all rows: 89710 rows retained.\n"
     ]
    },
    {
     "name": "stdout",
     "output_type": "stream",
     "text": [
      "[INFO] Keeping all rows: 89710 rows retained.\n"
     ]
    },
    {
     "name": "stdout",
     "output_type": "stream",
     "text": [
      "[INFO] Keeping all rows: 89710 rows retained.\n"
     ]
    },
    {
     "name": "stdout",
     "output_type": "stream",
     "text": [
      "[INFO] Keeping all rows: 89710 rows retained.\n"
     ]
    },
    {
     "data": {
      "text/html": [
       "<div>\n",
       "<style scoped>\n",
       "    .dataframe tbody tr th:only-of-type {\n",
       "        vertical-align: middle;\n",
       "    }\n",
       "\n",
       "    .dataframe tbody tr th {\n",
       "        vertical-align: top;\n",
       "    }\n",
       "\n",
       "    .dataframe thead th {\n",
       "        text-align: right;\n",
       "    }\n",
       "</style>\n",
       "<table border=\"1\" class=\"dataframe\">\n",
       "  <thead>\n",
       "    <tr style=\"text-align: right;\">\n",
       "      <th></th>\n",
       "      <th>run_no</th>\n",
       "      <th>universe_id</th>\n",
       "      <th>universe_settings</th>\n",
       "      <th>execution_time</th>\n",
       "      <th>test_size_n</th>\n",
       "      <th>test_size_frac</th>\n",
       "      <th>fair_main_equalized_odds_difference</th>\n",
       "      <th>fair_main_equalized_odds_ratio</th>\n",
       "      <th>fair_main_demographic_parity_difference</th>\n",
       "      <th>fair_main_demographic_parity_ratio</th>\n",
       "      <th>...</th>\n",
       "      <th>perf_grp_precision_0</th>\n",
       "      <th>perf_grp_precision_1</th>\n",
       "      <th>perf_grp_false positive rate_0</th>\n",
       "      <th>perf_grp_false positive rate_1</th>\n",
       "      <th>perf_grp_false negative rate_0</th>\n",
       "      <th>perf_grp_false negative rate_1</th>\n",
       "      <th>perf_grp_selection rate_0</th>\n",
       "      <th>perf_grp_selection rate_1</th>\n",
       "      <th>perf_grp_count_0</th>\n",
       "      <th>perf_grp_count_1</th>\n",
       "    </tr>\n",
       "  </thead>\n",
       "  <tbody>\n",
       "    <tr>\n",
       "      <th>0</th>\n",
       "      <td>9</td>\n",
       "      <td>ad48488da884420acb8a216603922a86</td>\n",
       "      <td>{\"cutoff\": \"quantile_0.1\", \"eval_fairness_grou...</td>\n",
       "      <td>86.263341</td>\n",
       "      <td>89710</td>\n",
       "      <td>1.0</td>\n",
       "      <td>0.078147</td>\n",
       "      <td>0.917470</td>\n",
       "      <td>0.067499</td>\n",
       "      <td>0.929101</td>\n",
       "      <td>...</td>\n",
       "      <td>NaN</td>\n",
       "      <td>NaN</td>\n",
       "      <td>NaN</td>\n",
       "      <td>NaN</td>\n",
       "      <td>NaN</td>\n",
       "      <td>NaN</td>\n",
       "      <td>NaN</td>\n",
       "      <td>NaN</td>\n",
       "      <td>NaN</td>\n",
       "      <td>NaN</td>\n",
       "    </tr>\n",
       "    <tr>\n",
       "      <th>0</th>\n",
       "      <td>9</td>\n",
       "      <td>ad48488da884420acb8a216603922a86</td>\n",
       "      <td>{\"cutoff\": \"quantile_0.1\", \"eval_fairness_grou...</td>\n",
       "      <td>86.263341</td>\n",
       "      <td>89710</td>\n",
       "      <td>1.0</td>\n",
       "      <td>0.078147</td>\n",
       "      <td>0.917470</td>\n",
       "      <td>0.067499</td>\n",
       "      <td>0.929101</td>\n",
       "      <td>...</td>\n",
       "      <td>0.120072</td>\n",
       "      <td>0.147637</td>\n",
       "      <td>0.946896</td>\n",
       "      <td>0.868749</td>\n",
       "      <td>0.008446</td>\n",
       "      <td>0.011707</td>\n",
       "      <td>0.952045</td>\n",
       "      <td>0.884545</td>\n",
       "      <td>20540.0</td>\n",
       "      <td>69170.0</td>\n",
       "    </tr>\n",
       "    <tr>\n",
       "      <th>0</th>\n",
       "      <td>9</td>\n",
       "      <td>ad48488da884420acb8a216603922a86</td>\n",
       "      <td>{\"cutoff\": \"quantile_0.25\", \"eval_fairness_gro...</td>\n",
       "      <td>86.263341</td>\n",
       "      <td>89710</td>\n",
       "      <td>1.0</td>\n",
       "      <td>0.080200</td>\n",
       "      <td>0.897453</td>\n",
       "      <td>0.064127</td>\n",
       "      <td>0.919797</td>\n",
       "      <td>...</td>\n",
       "      <td>NaN</td>\n",
       "      <td>NaN</td>\n",
       "      <td>NaN</td>\n",
       "      <td>NaN</td>\n",
       "      <td>NaN</td>\n",
       "      <td>NaN</td>\n",
       "      <td>NaN</td>\n",
       "      <td>NaN</td>\n",
       "      <td>NaN</td>\n",
       "      <td>NaN</td>\n",
       "    </tr>\n",
       "    <tr>\n",
       "      <th>0</th>\n",
       "      <td>9</td>\n",
       "      <td>ad48488da884420acb8a216603922a86</td>\n",
       "      <td>{\"cutoff\": \"quantile_0.25\", \"eval_fairness_gro...</td>\n",
       "      <td>86.263341</td>\n",
       "      <td>89710</td>\n",
       "      <td>1.0</td>\n",
       "      <td>0.080200</td>\n",
       "      <td>0.897453</td>\n",
       "      <td>0.064127</td>\n",
       "      <td>0.919797</td>\n",
       "      <td>...</td>\n",
       "      <td>0.134628</td>\n",
       "      <td>0.171732</td>\n",
       "      <td>0.782082</td>\n",
       "      <td>0.701882</td>\n",
       "      <td>0.066301</td>\n",
       "      <td>0.044201</td>\n",
       "      <td>0.799562</td>\n",
       "      <td>0.735434</td>\n",
       "      <td>20540.0</td>\n",
       "      <td>69170.0</td>\n",
       "    </tr>\n",
       "  </tbody>\n",
       "</table>\n",
       "<p>4 rows × 50 columns</p>\n",
       "</div>"
      ],
      "text/plain": [
       "  run_no                       universe_id  \\\n",
       "0      9  ad48488da884420acb8a216603922a86   \n",
       "0      9  ad48488da884420acb8a216603922a86   \n",
       "0      9  ad48488da884420acb8a216603922a86   \n",
       "0      9  ad48488da884420acb8a216603922a86   \n",
       "\n",
       "                                   universe_settings  execution_time  \\\n",
       "0  {\"cutoff\": \"quantile_0.1\", \"eval_fairness_grou...       86.263341   \n",
       "0  {\"cutoff\": \"quantile_0.1\", \"eval_fairness_grou...       86.263341   \n",
       "0  {\"cutoff\": \"quantile_0.25\", \"eval_fairness_gro...       86.263341   \n",
       "0  {\"cutoff\": \"quantile_0.25\", \"eval_fairness_gro...       86.263341   \n",
       "\n",
       "   test_size_n  test_size_frac  fair_main_equalized_odds_difference  \\\n",
       "0        89710             1.0                             0.078147   \n",
       "0        89710             1.0                             0.078147   \n",
       "0        89710             1.0                             0.080200   \n",
       "0        89710             1.0                             0.080200   \n",
       "\n",
       "   fair_main_equalized_odds_ratio  fair_main_demographic_parity_difference  \\\n",
       "0                        0.917470                                 0.067499   \n",
       "0                        0.917470                                 0.067499   \n",
       "0                        0.897453                                 0.064127   \n",
       "0                        0.897453                                 0.064127   \n",
       "\n",
       "   fair_main_demographic_parity_ratio  ...  perf_grp_precision_0  \\\n",
       "0                            0.929101  ...                   NaN   \n",
       "0                            0.929101  ...              0.120072   \n",
       "0                            0.919797  ...                   NaN   \n",
       "0                            0.919797  ...              0.134628   \n",
       "\n",
       "   perf_grp_precision_1  perf_grp_false positive rate_0  \\\n",
       "0                   NaN                             NaN   \n",
       "0              0.147637                        0.946896   \n",
       "0                   NaN                             NaN   \n",
       "0              0.171732                        0.782082   \n",
       "\n",
       "   perf_grp_false positive rate_1  perf_grp_false negative rate_0  \\\n",
       "0                             NaN                             NaN   \n",
       "0                        0.868749                        0.008446   \n",
       "0                             NaN                             NaN   \n",
       "0                        0.701882                        0.066301   \n",
       "\n",
       "   perf_grp_false negative rate_1  perf_grp_selection rate_0  \\\n",
       "0                             NaN                        NaN   \n",
       "0                        0.011707                   0.952045   \n",
       "0                             NaN                        NaN   \n",
       "0                        0.044201                   0.799562   \n",
       "\n",
       "   perf_grp_selection rate_1  perf_grp_count_0  perf_grp_count_1  \n",
       "0                        NaN               NaN               NaN  \n",
       "0                   0.884545           20540.0           69170.0  \n",
       "0                        NaN               NaN               NaN  \n",
       "0                   0.735434           20540.0           69170.0  \n",
       "\n",
       "[4 rows x 50 columns]"
      ]
     },
     "execution_count": 61,
     "metadata": {},
     "output_type": "execute_result"
    }
   ],
   "source": [
    "final_output = universe_analysis.generate_final_output(\n",
    "    y_pred_prob=probs_test,\n",
    "    y_test=y_true,\n",
    "    org_test=org_test,\n",
    "    filter_data=filter_sub_universe_data,\n",
    "    cp_metrics_df=cp_metrics_df,\n",
    "    save=True,\n",
    ")\n",
    "final_output"
   ]
  },
  {
   "cell_type": "code",
   "execution_count": null,
   "id": "721ff514-cb11-46f8-b6fc-50392f74b5cb",
   "metadata": {
    "papermill": {
     "duration": 0.013677,
     "end_time": "2025-07-23T14:32:50.760793",
     "exception": false,
     "start_time": "2025-07-23T14:32:50.747116",
     "status": "completed"
    },
    "tags": []
   },
   "outputs": [],
   "source": []
  }
 ],
 "metadata": {
  "celltoolbar": "Tags",
  "kernelspec": {
   "display_name": "Python (CMA Fairness)",
   "language": "python",
   "name": "cma_fair_env"
  },
  "language_info": {
   "codemirror_mode": {
    "name": "ipython",
    "version": 3
   },
   "file_extension": ".py",
   "mimetype": "text/x-python",
   "name": "python",
   "nbconvert_exporter": "python",
   "pygments_lexer": "ipython3",
   "version": "3.10.12"
  },
  "papermill": {
   "default_parameters": {},
   "duration": 96.056335,
   "end_time": "2025-07-23T14:32:51.392889",
   "environment_variables": {},
   "exception": null,
   "input_path": "universe_analysis.ipynb",
   "output_path": "output/runs/9/notebooks/m_9-ad48488da884420acb8a216603922a86.ipynb",
   "parameters": {
    "output_dir": "output",
    "run_no": "9",
    "seed": "2023",
    "universe": "{\"cutoff\": [\"quantile_0.1\", \"quantile_0.25\"], \"eval_fairness_grouping\": [\"majority-minority\", \"nationality-all\"], \"exclude_features\": \"nationality-sex\", \"exclude_subgroups\": \"drop-non-german\", \"model\": \"gbm\", \"scale\": \"scale\"}",
    "universe_id": "ad48488da884420acb8a216603922a86"
   },
   "start_time": "2025-07-23T14:31:15.336554",
   "version": "2.6.0"
  }
 },
 "nbformat": 4,
 "nbformat_minor": 5
}