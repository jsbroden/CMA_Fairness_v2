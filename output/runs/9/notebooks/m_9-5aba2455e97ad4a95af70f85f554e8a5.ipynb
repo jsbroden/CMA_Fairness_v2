{
 "cells": [
  {
   "cell_type": "code",
   "execution_count": 1,
   "id": "f159f837-637b-42ba-96b5-ec9a68c44524",
   "metadata": {
    "execution": {
     "iopub.execute_input": "2025-07-23T14:32:52.326867Z",
     "iopub.status.busy": "2025-07-23T14:32:52.326512Z",
     "iopub.status.idle": "2025-07-23T14:32:52.336997Z",
     "shell.execute_reply": "2025-07-23T14:32:52.335908Z"
    },
    "papermill": {
     "duration": 0.027039,
     "end_time": "2025-07-23T14:32:52.338581",
     "exception": false,
     "start_time": "2025-07-23T14:32:52.311542",
     "status": "completed"
    },
    "tags": []
   },
   "outputs": [
    {
     "name": "stdout",
     "output_type": "stream",
     "text": [
      "/dss/dsshome1/0C/ra93lal2/cma/CMA_Fairness_v2\n"
     ]
    },
    {
     "name": "stderr",
     "output_type": "stream",
     "text": [
      "/dss/dsshome1/0C/ra93lal2/.local/share/virtualenvs/CMA_Fairness_v2-3j10GkSs/lib/python3.10/site-packages/IPython/core/magics/osm.py:393: UserWarning: This is now an optional IPython functionality, using bookmarks requires you to install the `pickleshare` library.\n",
      "  bkms = self.shell.db.get('bookmarks', {})\n",
      "/dss/dsshome1/0C/ra93lal2/.local/share/virtualenvs/CMA_Fairness_v2-3j10GkSs/lib/python3.10/site-packages/IPython/core/magics/osm.py:417: UserWarning: This is now an optional IPython functionality, setting dhist requires you to install the `pickleshare` library.\n",
      "  self.shell.db['dhist'] = compress_dhist(dhist)[-100:]\n"
     ]
    }
   ],
   "source": [
    "%cd ~/cma/CMA_Fairness_v2"
   ]
  },
  {
   "cell_type": "markdown",
   "id": "de2603b9",
   "metadata": {
    "papermill": {
     "duration": 0.008731,
     "end_time": "2025-07-23T14:32:52.356730",
     "exception": false,
     "start_time": "2025-07-23T14:32:52.347999",
     "status": "completed"
    },
    "tags": []
   },
   "source": [
    "The following cell holds the definition of our parameters, these values can be overriden by rendering the with e.g. the following command:\n",
    "\n",
    "papermill -p alpha 0.2 -p ratio 0.3 universe_analysis.ipynb output/test_run.ipynb"
   ]
  },
  {
   "cell_type": "code",
   "execution_count": 2,
   "id": "a80968a0-40bb-4fa9-85ef-2d5eefb01975",
   "metadata": {
    "execution": {
     "iopub.execute_input": "2025-07-23T14:32:52.381349Z",
     "iopub.status.busy": "2025-07-23T14:32:52.380998Z",
     "iopub.status.idle": "2025-07-23T14:32:52.386098Z",
     "shell.execute_reply": "2025-07-23T14:32:52.385101Z"
    },
    "papermill": {
     "duration": 0.020201,
     "end_time": "2025-07-23T14:32:52.387480",
     "exception": false,
     "start_time": "2025-07-23T14:32:52.367279",
     "status": "completed"
    },
    "tags": []
   },
   "outputs": [
    {
     "name": "stdout",
     "output_type": "stream",
     "text": [
      "Current working directory: /dss/dsshome1/0C/ra93lal2/cma/CMA_Fairness_v2\n"
     ]
    }
   ],
   "source": [
    "import os\n",
    "print(\"Current working directory:\", os.getcwd())"
   ]
  },
  {
   "cell_type": "code",
   "execution_count": 3,
   "id": "2dce4c03",
   "metadata": {
    "execution": {
     "iopub.execute_input": "2025-07-23T14:32:52.406982Z",
     "iopub.status.busy": "2025-07-23T14:32:52.406674Z",
     "iopub.status.idle": "2025-07-23T14:32:52.411488Z",
     "shell.execute_reply": "2025-07-23T14:32:52.410688Z"
    },
    "papermill": {
     "duration": 0.015979,
     "end_time": "2025-07-23T14:32:52.412976",
     "exception": false,
     "start_time": "2025-07-23T14:32:52.396997",
     "status": "completed"
    },
    "tags": [
     "parameters"
    ]
   },
   "outputs": [],
   "source": [
    "run_no = 0\n",
    "universe_id = \"test\"\n",
    "universe = {\n",
    "    \"scale\": \"scale\", # \"scale\", \"do-not-scale\",\n",
    "    \"model\": \"elasticnet\", # \"logreg\", \"penalized_logreg\", \"rf\", \"gbm\", \"elasticnet\"\n",
    "    \"cutoff\": [\"quantile_0.15\", \"quantile_0.30\"],\n",
    "    \"exclude_features\": \"age\", # \"none\", \"nationality\", \"sex\", \"nationality-sex\", \"age\"\n",
    "    \"exclude_subgroups\": \"keep-all\", # \"keep-all\", \"drop-non-german\"\n",
    "    #\"training_sample\": \"restricted\", # \"restricted\", \"full\"\n",
    "    \"eval_fairness_grouping\": [\"majority-minority\", \"nationality-all\"]\n",
    "}\n",
    "\n",
    "output_dir=\"./output\"\n",
    "seed=0"
   ]
  },
  {
   "cell_type": "code",
   "execution_count": 4,
   "id": "83fd54ae",
   "metadata": {
    "execution": {
     "iopub.execute_input": "2025-07-23T14:32:52.437843Z",
     "iopub.status.busy": "2025-07-23T14:32:52.437504Z",
     "iopub.status.idle": "2025-07-23T14:32:52.441940Z",
     "shell.execute_reply": "2025-07-23T14:32:52.441088Z"
    },
    "papermill": {
     "duration": 0.016138,
     "end_time": "2025-07-23T14:32:52.443278",
     "exception": false,
     "start_time": "2025-07-23T14:32:52.427140",
     "status": "completed"
    },
    "tags": [
     "injected-parameters"
    ]
   },
   "outputs": [],
   "source": [
    "# Parameters\n",
    "universe_id = \"5aba2455e97ad4a95af70f85f554e8a5\"\n",
    "run_no = \"9\"\n",
    "universe = \"{\\\"cutoff\\\": [\\\"quantile_0.1\\\", \\\"quantile_0.25\\\"], \\\"eval_fairness_grouping\\\": [\\\"majority-minority\\\", \\\"nationality-all\\\"], \\\"exclude_features\\\": \\\"sex\\\", \\\"exclude_subgroups\\\": \\\"keep-all\\\", \\\"model\\\": \\\"elasticnet\\\", \\\"scale\\\": \\\"scale\\\"}\"\n",
    "output_dir = \"output\"\n",
    "seed = \"2023\"\n"
   ]
  },
  {
   "cell_type": "code",
   "execution_count": 5,
   "id": "1650acaf",
   "metadata": {
    "execution": {
     "iopub.execute_input": "2025-07-23T14:32:52.463464Z",
     "iopub.status.busy": "2025-07-23T14:32:52.462888Z",
     "iopub.status.idle": "2025-07-23T14:32:52.468148Z",
     "shell.execute_reply": "2025-07-23T14:32:52.466418Z"
    },
    "papermill": {
     "duration": 0.017046,
     "end_time": "2025-07-23T14:32:52.469962",
     "exception": false,
     "start_time": "2025-07-23T14:32:52.452916",
     "status": "completed"
    },
    "tags": []
   },
   "outputs": [],
   "source": [
    "import json\n",
    "# Parse universe into dict if it is passed as a string\n",
    "if isinstance(universe, str):\n",
    "    universe = json.loads(universe)"
   ]
  },
  {
   "cell_type": "code",
   "execution_count": 6,
   "id": "16620c48",
   "metadata": {
    "execution": {
     "iopub.execute_input": "2025-07-23T14:32:52.498828Z",
     "iopub.status.busy": "2025-07-23T14:32:52.498488Z",
     "iopub.status.idle": "2025-07-23T14:32:52.540949Z",
     "shell.execute_reply": "2025-07-23T14:32:52.539851Z"
    },
    "papermill": {
     "duration": 0.053965,
     "end_time": "2025-07-23T14:32:52.542626",
     "exception": false,
     "start_time": "2025-07-23T14:32:52.488661",
     "status": "completed"
    },
    "tags": []
   },
   "outputs": [],
   "source": [
    "# Auto-reload the custom package\n",
    "%load_ext autoreload\n",
    "%autoreload 1\n",
    "%aimport fairness_multiverse"
   ]
  },
  {
   "cell_type": "code",
   "execution_count": 7,
   "id": "01c5c9f3",
   "metadata": {
    "execution": {
     "iopub.execute_input": "2025-07-23T14:32:52.580065Z",
     "iopub.status.busy": "2025-07-23T14:32:52.579243Z",
     "iopub.status.idle": "2025-07-23T14:32:54.131591Z",
     "shell.execute_reply": "2025-07-23T14:32:54.130770Z"
    },
    "papermill": {
     "duration": 1.573095,
     "end_time": "2025-07-23T14:32:54.133172",
     "exception": false,
     "start_time": "2025-07-23T14:32:52.560077",
     "status": "completed"
    },
    "tags": []
   },
   "outputs": [],
   "source": [
    "from fairness_multiverse.universe import UniverseAnalysis\n",
    "\n",
    "universe_analysis = UniverseAnalysis(\n",
    "    run_no = run_no,\n",
    "    universe_id = universe_id,\n",
    "    universe = universe,\n",
    "    output_dir=output_dir,\n",
    ")"
   ]
  },
  {
   "cell_type": "code",
   "execution_count": 8,
   "id": "106241f5",
   "metadata": {
    "execution": {
     "iopub.execute_input": "2025-07-23T14:32:54.153906Z",
     "iopub.status.busy": "2025-07-23T14:32:54.153297Z",
     "iopub.status.idle": "2025-07-23T14:32:54.159106Z",
     "shell.execute_reply": "2025-07-23T14:32:54.158233Z"
    },
    "papermill": {
     "duration": 0.017257,
     "end_time": "2025-07-23T14:32:54.160602",
     "exception": false,
     "start_time": "2025-07-23T14:32:54.143345",
     "status": "completed"
    },
    "tags": []
   },
   "outputs": [
    {
     "name": "stdout",
     "output_type": "stream",
     "text": [
      "Using Seed: 2023\n"
     ]
    }
   ],
   "source": [
    "import numpy as np\n",
    "parsed_seed = int(seed)\n",
    "np.random.seed(parsed_seed)\n",
    "print(f\"Using Seed: {parsed_seed}\")"
   ]
  },
  {
   "cell_type": "markdown",
   "id": "e0ebdc57",
   "metadata": {
    "papermill": {
     "duration": 0.009005,
     "end_time": "2025-07-23T14:32:54.179193",
     "exception": false,
     "start_time": "2025-07-23T14:32:54.170188",
     "status": "completed"
    },
    "tags": []
   },
   "source": [
    "# Loading Data"
   ]
  },
  {
   "cell_type": "markdown",
   "id": "681925a3",
   "metadata": {
    "papermill": {
     "duration": 0.00914,
     "end_time": "2025-07-23T14:32:54.197229",
     "exception": false,
     "start_time": "2025-07-23T14:32:54.188089",
     "status": "completed"
    },
    "tags": []
   },
   "source": [
    "Load siab_train, siab_test, siab_calib and/or \n",
    "load siab_train_features, siab_train_labels"
   ]
  },
  {
   "cell_type": "code",
   "execution_count": 9,
   "id": "f0496b8a",
   "metadata": {
    "execution": {
     "iopub.execute_input": "2025-07-23T14:32:54.217083Z",
     "iopub.status.busy": "2025-07-23T14:32:54.216318Z",
     "iopub.status.idle": "2025-07-23T14:32:54.221480Z",
     "shell.execute_reply": "2025-07-23T14:32:54.220748Z"
    },
    "papermill": {
     "duration": 0.016713,
     "end_time": "2025-07-23T14:32:54.223015",
     "exception": false,
     "start_time": "2025-07-23T14:32:54.206302",
     "status": "completed"
    },
    "tags": []
   },
   "outputs": [],
   "source": [
    "# Do I need to load siab? Delete this cell?\n",
    "\n",
    "#from pathlib import Path\n",
    "#import pandas as pd\n",
    "#\n",
    "## File paths\n",
    "#raw_file = Path(\"data/raw/siab.csv\")\n",
    "#cache_file = Path(\"data/siab_cached.csv.gz\")\n",
    "#\n",
    "## Ensure cache directory exists\n",
    "#cache_file.parent.mkdir(parents=True, exist_ok=True)\n",
    "#\n",
    "## Load with simple caching\n",
    "#if cache_file.exists():\n",
    "#    print(f\"Loading SIAB data from cache: {cache_file}\")\n",
    "#    siab = pd.read_csv(cache_file, compression='gzip')\n",
    "#else:\n",
    "#    print(f\"Cache not found. Reading raw SIAB data: {raw_file}\")\n",
    "#    siab = pd.read_csv(raw_file)\n",
    "#    siab.to_csv(cache_file, index=False, compression='gzip')\n",
    "#    print(f\"Cached SIAB data to: {cache_file}\")\n",
    "#\n",
    "## Now use `siab` DataFrame as needed\n",
    "#print(siab.shape)\n"
   ]
  },
  {
   "cell_type": "code",
   "execution_count": 10,
   "id": "a0edb063",
   "metadata": {
    "execution": {
     "iopub.execute_input": "2025-07-23T14:32:54.243672Z",
     "iopub.status.busy": "2025-07-23T14:32:54.242998Z",
     "iopub.status.idle": "2025-07-23T14:32:55.236056Z",
     "shell.execute_reply": "2025-07-23T14:32:55.235047Z"
    },
    "papermill": {
     "duration": 1.005091,
     "end_time": "2025-07-23T14:32:55.238158",
     "exception": false,
     "start_time": "2025-07-23T14:32:54.233067",
     "status": "completed"
    },
    "tags": []
   },
   "outputs": [],
   "source": [
    "import pandas as pd\n",
    "\n",
    "X_train = pd.read_csv(\"./data/X_train.csv\")\n",
    "y_train = pd.read_csv(\"./data/y_train.csv\")"
   ]
  },
  {
   "cell_type": "code",
   "execution_count": 11,
   "id": "63d08085",
   "metadata": {
    "execution": {
     "iopub.execute_input": "2025-07-23T14:32:55.281396Z",
     "iopub.status.busy": "2025-07-23T14:32:55.280991Z",
     "iopub.status.idle": "2025-07-23T14:32:56.746815Z",
     "shell.execute_reply": "2025-07-23T14:32:56.745836Z"
    },
    "papermill": {
     "duration": 1.494673,
     "end_time": "2025-07-23T14:32:56.748970",
     "exception": false,
     "start_time": "2025-07-23T14:32:55.254297",
     "status": "completed"
    },
    "tags": []
   },
   "outputs": [],
   "source": [
    "X_test = pd.read_csv(\"./data/X_test.csv\")\n",
    "y_true = pd.read_csv(\"./data/y_test.csv\")"
   ]
  },
  {
   "cell_type": "code",
   "execution_count": 12,
   "id": "98a8d0fa-1d3d-4ed8-bb2c-281470e24add",
   "metadata": {
    "execution": {
     "iopub.execute_input": "2025-07-23T14:32:56.793600Z",
     "iopub.status.busy": "2025-07-23T14:32:56.792695Z",
     "iopub.status.idle": "2025-07-23T14:32:58.230613Z",
     "shell.execute_reply": "2025-07-23T14:32:58.229744Z"
    },
    "papermill": {
     "duration": 1.46039,
     "end_time": "2025-07-23T14:32:58.232166",
     "exception": false,
     "start_time": "2025-07-23T14:32:56.771776",
     "status": "completed"
    },
    "tags": []
   },
   "outputs": [],
   "source": [
    "# Calibration data for conformal\n",
    "X_calib = pd.read_csv(\"./data/X_calib.csv\")\n",
    "y_calib = pd.read_csv(\"./data/y_calib.csv\")"
   ]
  },
  {
   "cell_type": "code",
   "execution_count": 13,
   "id": "e6c733c5",
   "metadata": {
    "execution": {
     "iopub.execute_input": "2025-07-23T14:32:58.252289Z",
     "iopub.status.busy": "2025-07-23T14:32:58.251961Z",
     "iopub.status.idle": "2025-07-23T14:32:58.353520Z",
     "shell.execute_reply": "2025-07-23T14:32:58.352736Z"
    },
    "papermill": {
     "duration": 0.113178,
     "end_time": "2025-07-23T14:32:58.355094",
     "exception": false,
     "start_time": "2025-07-23T14:32:58.241916",
     "status": "completed"
    },
    "tags": []
   },
   "outputs": [],
   "source": [
    "# Auxiliary data needed downstream in the pipeline\n",
    "\n",
    "org_train = X_train.copy()\n",
    "org_test = X_test.copy()\n",
    "org_calib = X_calib.copy()"
   ]
  },
  {
   "cell_type": "markdown",
   "id": "0a4a1b33",
   "metadata": {
    "papermill": {
     "duration": 0.009153,
     "end_time": "2025-07-23T14:32:58.373964",
     "exception": false,
     "start_time": "2025-07-23T14:32:58.364811",
     "status": "completed"
    },
    "tags": []
   },
   "source": [
    "# Preprocessing Data"
   ]
  },
  {
   "cell_type": "code",
   "execution_count": 14,
   "id": "ca879031",
   "metadata": {
    "execution": {
     "iopub.execute_input": "2025-07-23T14:32:58.401119Z",
     "iopub.status.busy": "2025-07-23T14:32:58.400576Z",
     "iopub.status.idle": "2025-07-23T14:32:58.407191Z",
     "shell.execute_reply": "2025-07-23T14:32:58.406088Z"
    },
    "papermill": {
     "duration": 0.025728,
     "end_time": "2025-07-23T14:32:58.409425",
     "exception": false,
     "start_time": "2025-07-23T14:32:58.383697",
     "status": "completed"
    },
    "tags": []
   },
   "outputs": [],
   "source": [
    "# EXCLUDE PROTECTED FEATURES\n",
    "# ----------------------\n",
    "# \"exclude_features\": \"none\", # \"nationality\", \"sex\", \"nationality-sex\"\n",
    "\n",
    "excluded_features = universe[\"exclude_features\"].split(\"-\") # split, e.g.: \"nationality-sex\" -> [\"nationality\", \"sex\"]\n",
    "excluded_features_dictionary = {\n",
    "    \"nationality\": [\"maxdeutsch1\", \"maxdeutsch.Missing.\"],\n",
    "    \"sex\": [\"frau1\"],\n",
    "    \"age\": [\"age\"],\n",
    "}\n"
   ]
  },
  {
   "cell_type": "code",
   "execution_count": 15,
   "id": "b745ac60",
   "metadata": {
    "execution": {
     "iopub.execute_input": "2025-07-23T14:32:58.454197Z",
     "iopub.status.busy": "2025-07-23T14:32:58.453568Z",
     "iopub.status.idle": "2025-07-23T14:32:58.460183Z",
     "shell.execute_reply": "2025-07-23T14:32:58.458847Z"
    },
    "papermill": {
     "duration": 0.031074,
     "end_time": "2025-07-23T14:32:58.462176",
     "exception": false,
     "start_time": "2025-07-23T14:32:58.431102",
     "status": "completed"
    },
    "tags": []
   },
   "outputs": [],
   "source": [
    "# Code nice names to column names\n",
    "\n",
    "excluded_features_columns = [\n",
    "    excluded_features_dictionary[f] for f in excluded_features if len(f) > 0 and f != \"none\"\n",
    "]"
   ]
  },
  {
   "cell_type": "code",
   "execution_count": 16,
   "id": "f84f73a2",
   "metadata": {
    "execution": {
     "iopub.execute_input": "2025-07-23T14:32:58.506570Z",
     "iopub.status.busy": "2025-07-23T14:32:58.505688Z",
     "iopub.status.idle": "2025-07-23T14:32:58.513104Z",
     "shell.execute_reply": "2025-07-23T14:32:58.511868Z"
    },
    "papermill": {
     "duration": 0.031219,
     "end_time": "2025-07-23T14:32:58.514906",
     "exception": false,
     "start_time": "2025-07-23T14:32:58.483687",
     "status": "completed"
    },
    "tags": []
   },
   "outputs": [],
   "source": [
    "from utils import flatten_once\n",
    "\n",
    "excluded_features_columns = flatten_once(excluded_features_columns)"
   ]
  },
  {
   "cell_type": "code",
   "execution_count": 17,
   "id": "884dea22",
   "metadata": {
    "execution": {
     "iopub.execute_input": "2025-07-23T14:32:58.559222Z",
     "iopub.status.busy": "2025-07-23T14:32:58.558193Z",
     "iopub.status.idle": "2025-07-23T14:32:58.609483Z",
     "shell.execute_reply": "2025-07-23T14:32:58.608219Z"
    },
    "papermill": {
     "duration": 0.075427,
     "end_time": "2025-07-23T14:32:58.611614",
     "exception": false,
     "start_time": "2025-07-23T14:32:58.536187",
     "status": "completed"
    },
    "tags": []
   },
   "outputs": [
    {
     "name": "stdout",
     "output_type": "stream",
     "text": [
      "Dropping features: ['frau1']\n"
     ]
    }
   ],
   "source": [
    "if len(excluded_features_columns) > 0:\n",
    "    print(f\"Dropping features: {excluded_features_columns}\")\n",
    "    X_train.drop(excluded_features_columns, axis=1, inplace=True)"
   ]
  },
  {
   "cell_type": "code",
   "execution_count": 18,
   "id": "95ab8b16",
   "metadata": {
    "execution": {
     "iopub.execute_input": "2025-07-23T14:32:58.654676Z",
     "iopub.status.busy": "2025-07-23T14:32:58.653735Z",
     "iopub.status.idle": "2025-07-23T14:32:58.712260Z",
     "shell.execute_reply": "2025-07-23T14:32:58.711062Z"
    },
    "papermill": {
     "duration": 0.081865,
     "end_time": "2025-07-23T14:32:58.714444",
     "exception": false,
     "start_time": "2025-07-23T14:32:58.632579",
     "status": "completed"
    },
    "tags": []
   },
   "outputs": [
    {
     "name": "stdout",
     "output_type": "stream",
     "text": [
      "Dropping features: ['frau1']\n"
     ]
    }
   ],
   "source": [
    "if len(excluded_features_columns) > 0:\n",
    "    print(f\"Dropping features: {excluded_features_columns}\")\n",
    "    X_test.drop(excluded_features_columns, axis=1, inplace=True)"
   ]
  },
  {
   "cell_type": "code",
   "execution_count": 19,
   "id": "1853aaf5-fb9f-46cb-a2b5-8ea4ae2237e4",
   "metadata": {
    "execution": {
     "iopub.execute_input": "2025-07-23T14:32:58.759946Z",
     "iopub.status.busy": "2025-07-23T14:32:58.758917Z",
     "iopub.status.idle": "2025-07-23T14:32:58.818568Z",
     "shell.execute_reply": "2025-07-23T14:32:58.817440Z"
    },
    "papermill": {
     "duration": 0.08436,
     "end_time": "2025-07-23T14:32:58.820747",
     "exception": false,
     "start_time": "2025-07-23T14:32:58.736387",
     "status": "completed"
    },
    "tags": []
   },
   "outputs": [
    {
     "name": "stdout",
     "output_type": "stream",
     "text": [
      "Dropping features: ['frau1']\n"
     ]
    }
   ],
   "source": [
    "if len(excluded_features_columns) > 0:\n",
    "    print(f\"Dropping features: {excluded_features_columns}\")\n",
    "    X_calib.drop(excluded_features_columns, axis=1, inplace=True)"
   ]
  },
  {
   "cell_type": "code",
   "execution_count": 20,
   "id": "76c4dc6d",
   "metadata": {
    "execution": {
     "iopub.execute_input": "2025-07-23T14:32:58.866246Z",
     "iopub.status.busy": "2025-07-23T14:32:58.865250Z",
     "iopub.status.idle": "2025-07-23T14:32:58.871492Z",
     "shell.execute_reply": "2025-07-23T14:32:58.870256Z"
    },
    "papermill": {
     "duration": 0.030546,
     "end_time": "2025-07-23T14:32:58.873543",
     "exception": false,
     "start_time": "2025-07-23T14:32:58.842997",
     "status": "completed"
    },
    "tags": []
   },
   "outputs": [],
   "source": [
    "# EXCLUDE CERTAIN SUBGROUPS\n",
    "# ----------------------\n",
    "\n",
    "mode = universe.get(\"exclude_subgroups\", \"keep-all\") \n",
    "# Fetches the exclude_subgroups setting from the universe dict.\n",
    "# Defaults to \"keep-all\" if the key is missing."
   ]
  },
  {
   "cell_type": "code",
   "execution_count": 21,
   "id": "21994072",
   "metadata": {
    "execution": {
     "iopub.execute_input": "2025-07-23T14:32:58.918438Z",
     "iopub.status.busy": "2025-07-23T14:32:58.917439Z",
     "iopub.status.idle": "2025-07-23T14:32:58.925311Z",
     "shell.execute_reply": "2025-07-23T14:32:58.924147Z"
    },
    "papermill": {
     "duration": 0.032185,
     "end_time": "2025-07-23T14:32:58.927359",
     "exception": false,
     "start_time": "2025-07-23T14:32:58.895174",
     "status": "completed"
    },
    "tags": []
   },
   "outputs": [],
   "source": [
    "if mode == \"keep-all\":\n",
    "    keep_mask = pd.Series(True, index=org_train.index)\n",
    "\n",
    "# org_train contains the original feature columns from features_org (in Simson)\n",
    "# features_org contains unprocessed features, for me X_train at beginning ???\n",
    "# For keep-all, creates a boolean Series (keep_mask) of all True, so no rows are removed.\n",
    "\n",
    "elif mode == \"drop-non-german\":\n",
    "    keep_mask = org_train[\"maxdeutsch1\"] == 1 # ??? what about missing values?\n",
    "\n",
    "else:\n",
    "    raise ValueError(f\"Unsupported mode for exclude_subgroups: {mode}\")\n"
   ]
  },
  {
   "cell_type": "code",
   "execution_count": 22,
   "id": "71651440",
   "metadata": {
    "execution": {
     "iopub.execute_input": "2025-07-23T14:32:58.971796Z",
     "iopub.status.busy": "2025-07-23T14:32:58.971156Z",
     "iopub.status.idle": "2025-07-23T14:32:58.978890Z",
     "shell.execute_reply": "2025-07-23T14:32:58.977722Z"
    },
    "papermill": {
     "duration": 0.03184,
     "end_time": "2025-07-23T14:32:58.980730",
     "exception": false,
     "start_time": "2025-07-23T14:32:58.948890",
     "status": "completed"
    },
    "tags": []
   },
   "outputs": [],
   "source": [
    "n_drop = (~keep_mask).sum() # Calculates how many rows are set to be dropped\n",
    "if n_drop > 0:\n",
    "    pct = n_drop / len(keep_mask) * 100\n",
    "    print(f\"Dropping {n_drop} rows ({pct:.2f}%) where mode='{mode}'\")"
   ]
  },
  {
   "cell_type": "code",
   "execution_count": 23,
   "id": "5fb8eee5",
   "metadata": {
    "execution": {
     "iopub.execute_input": "2025-07-23T14:32:59.025634Z",
     "iopub.status.busy": "2025-07-23T14:32:59.024654Z",
     "iopub.status.idle": "2025-07-23T14:32:59.081233Z",
     "shell.execute_reply": "2025-07-23T14:32:59.080060Z"
    },
    "papermill": {
     "duration": 0.081111,
     "end_time": "2025-07-23T14:32:59.083515",
     "exception": false,
     "start_time": "2025-07-23T14:32:59.002404",
     "status": "completed"
    },
    "tags": []
   },
   "outputs": [],
   "source": [
    "X_train = X_train[keep_mask]"
   ]
  },
  {
   "cell_type": "code",
   "execution_count": 24,
   "id": "b202bb3a",
   "metadata": {
    "execution": {
     "iopub.execute_input": "2025-07-23T14:32:59.129298Z",
     "iopub.status.busy": "2025-07-23T14:32:59.128213Z",
     "iopub.status.idle": "2025-07-23T14:32:59.136738Z",
     "shell.execute_reply": "2025-07-23T14:32:59.135701Z"
    },
    "papermill": {
     "duration": 0.032946,
     "end_time": "2025-07-23T14:32:59.138660",
     "exception": false,
     "start_time": "2025-07-23T14:32:59.105714",
     "status": "completed"
    },
    "tags": []
   },
   "outputs": [],
   "source": [
    "y_train = y_train[keep_mask]"
   ]
  },
  {
   "cell_type": "markdown",
   "id": "493e2ac3",
   "metadata": {
    "papermill": {
     "duration": 0.021405,
     "end_time": "2025-07-23T14:32:59.182222",
     "exception": false,
     "start_time": "2025-07-23T14:32:59.160817",
     "status": "completed"
    },
    "tags": []
   },
   "source": [
    "# Model Training"
   ]
  },
  {
   "cell_type": "code",
   "execution_count": 25,
   "id": "679e1268",
   "metadata": {
    "execution": {
     "iopub.execute_input": "2025-07-23T14:32:59.227137Z",
     "iopub.status.busy": "2025-07-23T14:32:59.226251Z",
     "iopub.status.idle": "2025-07-23T14:32:59.348925Z",
     "shell.execute_reply": "2025-07-23T14:32:59.347965Z"
    },
    "papermill": {
     "duration": 0.147389,
     "end_time": "2025-07-23T14:32:59.350917",
     "exception": false,
     "start_time": "2025-07-23T14:32:59.203528",
     "status": "completed"
    },
    "tags": []
   },
   "outputs": [],
   "source": [
    "from sklearn.linear_model import LogisticRegression\n",
    "from sklearn.ensemble import GradientBoostingClassifier, RandomForestClassifier\n",
    "\n",
    "if (universe[\"model\"] == \"logreg\"):\n",
    "    model = LogisticRegression() #penalty=\"none\") #, solver=\"newton-cg\", max_iter=1) # include random_state=19 ?\n",
    "elif (universe[\"model\"] == \"penalized_logreg\"):\n",
    "    model = LogisticRegression(penalty=\"l2\", C=1.0) #, solver=\"newton-cg\", max_iter=1)\n",
    "elif (universe[\"model\"] == \"rf\"):\n",
    "    model = RandomForestClassifier(n_estimators=100, n_jobs=-1)\n",
    "elif (universe[\"model\"] == \"gbm\"):\n",
    "    model = GradientBoostingClassifier()\n",
    "elif (universe[\"model\"] == \"elasticnet\"):\n",
    "    model = LogisticRegression(penalty = 'elasticnet', solver = 'saga', l1_ratio = 0.5, max_iter=5000) # which solver to use?\n",
    "else:\n",
    "    raise \"Unsupported universe.model\""
   ]
  },
  {
   "cell_type": "code",
   "execution_count": 26,
   "id": "0cc8f744",
   "metadata": {
    "execution": {
     "iopub.execute_input": "2025-07-23T14:32:59.375382Z",
     "iopub.status.busy": "2025-07-23T14:32:59.375007Z",
     "iopub.status.idle": "2025-07-23T14:32:59.380883Z",
     "shell.execute_reply": "2025-07-23T14:32:59.379956Z"
    },
    "papermill": {
     "duration": 0.018396,
     "end_time": "2025-07-23T14:32:59.382352",
     "exception": false,
     "start_time": "2025-07-23T14:32:59.363956",
     "status": "completed"
    },
    "tags": []
   },
   "outputs": [],
   "source": [
    "import numpy as np\n",
    "from sklearn.pipeline import Pipeline\n",
    "from sklearn.preprocessing import StandardScaler\n",
    "\n",
    "model = Pipeline([\n",
    "    #(\"continuous_processor\", continuous_processor),\n",
    "    #(\"categorical_preprocessor\", categorical_preprocessor),\n",
    "    (\"scale\", StandardScaler() if universe[\"scale\"] == \"scale\" else None), \n",
    "    (\"model\", model),\n",
    "])"
   ]
  },
  {
   "cell_type": "code",
   "execution_count": 27,
   "id": "9442c04d",
   "metadata": {
    "execution": {
     "iopub.execute_input": "2025-07-23T14:32:59.404749Z",
     "iopub.status.busy": "2025-07-23T14:32:59.404061Z",
     "iopub.status.idle": "2025-07-23T14:33:32.131931Z",
     "shell.execute_reply": "2025-07-23T14:33:32.130549Z"
    },
    "papermill": {
     "duration": 32.760251,
     "end_time": "2025-07-23T14:33:32.153612",
     "exception": false,
     "start_time": "2025-07-23T14:32:59.393361",
     "status": "completed"
    },
    "tags": []
   },
   "outputs": [
    {
     "data": {
      "text/html": [
       "<style>#sk-container-id-1 {color: black;background-color: white;}#sk-container-id-1 pre{padding: 0;}#sk-container-id-1 div.sk-toggleable {background-color: white;}#sk-container-id-1 label.sk-toggleable__label {cursor: pointer;display: block;width: 100%;margin-bottom: 0;padding: 0.3em;box-sizing: border-box;text-align: center;}#sk-container-id-1 label.sk-toggleable__label-arrow:before {content: \"▸\";float: left;margin-right: 0.25em;color: #696969;}#sk-container-id-1 label.sk-toggleable__label-arrow:hover:before {color: black;}#sk-container-id-1 div.sk-estimator:hover label.sk-toggleable__label-arrow:before {color: black;}#sk-container-id-1 div.sk-toggleable__content {max-height: 0;max-width: 0;overflow: hidden;text-align: left;background-color: #f0f8ff;}#sk-container-id-1 div.sk-toggleable__content pre {margin: 0.2em;color: black;border-radius: 0.25em;background-color: #f0f8ff;}#sk-container-id-1 input.sk-toggleable__control:checked~div.sk-toggleable__content {max-height: 200px;max-width: 100%;overflow: auto;}#sk-container-id-1 input.sk-toggleable__control:checked~label.sk-toggleable__label-arrow:before {content: \"▾\";}#sk-container-id-1 div.sk-estimator input.sk-toggleable__control:checked~label.sk-toggleable__label {background-color: #d4ebff;}#sk-container-id-1 div.sk-label input.sk-toggleable__control:checked~label.sk-toggleable__label {background-color: #d4ebff;}#sk-container-id-1 input.sk-hidden--visually {border: 0;clip: rect(1px 1px 1px 1px);clip: rect(1px, 1px, 1px, 1px);height: 1px;margin: -1px;overflow: hidden;padding: 0;position: absolute;width: 1px;}#sk-container-id-1 div.sk-estimator {font-family: monospace;background-color: #f0f8ff;border: 1px dotted black;border-radius: 0.25em;box-sizing: border-box;margin-bottom: 0.5em;}#sk-container-id-1 div.sk-estimator:hover {background-color: #d4ebff;}#sk-container-id-1 div.sk-parallel-item::after {content: \"\";width: 100%;border-bottom: 1px solid gray;flex-grow: 1;}#sk-container-id-1 div.sk-label:hover label.sk-toggleable__label {background-color: #d4ebff;}#sk-container-id-1 div.sk-serial::before {content: \"\";position: absolute;border-left: 1px solid gray;box-sizing: border-box;top: 0;bottom: 0;left: 50%;z-index: 0;}#sk-container-id-1 div.sk-serial {display: flex;flex-direction: column;align-items: center;background-color: white;padding-right: 0.2em;padding-left: 0.2em;position: relative;}#sk-container-id-1 div.sk-item {position: relative;z-index: 1;}#sk-container-id-1 div.sk-parallel {display: flex;align-items: stretch;justify-content: center;background-color: white;position: relative;}#sk-container-id-1 div.sk-item::before, #sk-container-id-1 div.sk-parallel-item::before {content: \"\";position: absolute;border-left: 1px solid gray;box-sizing: border-box;top: 0;bottom: 0;left: 50%;z-index: -1;}#sk-container-id-1 div.sk-parallel-item {display: flex;flex-direction: column;z-index: 1;position: relative;background-color: white;}#sk-container-id-1 div.sk-parallel-item:first-child::after {align-self: flex-end;width: 50%;}#sk-container-id-1 div.sk-parallel-item:last-child::after {align-self: flex-start;width: 50%;}#sk-container-id-1 div.sk-parallel-item:only-child::after {width: 0;}#sk-container-id-1 div.sk-dashed-wrapped {border: 1px dashed gray;margin: 0 0.4em 0.5em 0.4em;box-sizing: border-box;padding-bottom: 0.4em;background-color: white;}#sk-container-id-1 div.sk-label label {font-family: monospace;font-weight: bold;display: inline-block;line-height: 1.2em;}#sk-container-id-1 div.sk-label-container {text-align: center;}#sk-container-id-1 div.sk-container {/* jupyter's `normalize.less` sets `[hidden] { display: none; }` but bootstrap.min.css set `[hidden] { display: none !important; }` so we also need the `!important` here to be able to override the default hidden behavior on the sphinx rendered scikit-learn.org. See: https://github.com/scikit-learn/scikit-learn/issues/21755 */display: inline-block !important;position: relative;}#sk-container-id-1 div.sk-text-repr-fallback {display: none;}</style><div id=\"sk-container-id-1\" class=\"sk-top-container\"><div class=\"sk-text-repr-fallback\"><pre>Pipeline(steps=[(&#x27;scale&#x27;, StandardScaler()),\n",
       "                (&#x27;model&#x27;,\n",
       "                 LogisticRegression(l1_ratio=0.5, max_iter=5000,\n",
       "                                    penalty=&#x27;elasticnet&#x27;, solver=&#x27;saga&#x27;))])</pre><b>In a Jupyter environment, please rerun this cell to show the HTML representation or trust the notebook. <br />On GitHub, the HTML representation is unable to render, please try loading this page with nbviewer.org.</b></div><div class=\"sk-container\" hidden><div class=\"sk-item sk-dashed-wrapped\"><div class=\"sk-label-container\"><div class=\"sk-label sk-toggleable\"><input class=\"sk-toggleable__control sk-hidden--visually\" id=\"sk-estimator-id-1\" type=\"checkbox\" ><label for=\"sk-estimator-id-1\" class=\"sk-toggleable__label sk-toggleable__label-arrow\">Pipeline</label><div class=\"sk-toggleable__content\"><pre>Pipeline(steps=[(&#x27;scale&#x27;, StandardScaler()),\n",
       "                (&#x27;model&#x27;,\n",
       "                 LogisticRegression(l1_ratio=0.5, max_iter=5000,\n",
       "                                    penalty=&#x27;elasticnet&#x27;, solver=&#x27;saga&#x27;))])</pre></div></div></div><div class=\"sk-serial\"><div class=\"sk-item\"><div class=\"sk-estimator sk-toggleable\"><input class=\"sk-toggleable__control sk-hidden--visually\" id=\"sk-estimator-id-2\" type=\"checkbox\" ><label for=\"sk-estimator-id-2\" class=\"sk-toggleable__label sk-toggleable__label-arrow\">StandardScaler</label><div class=\"sk-toggleable__content\"><pre>StandardScaler()</pre></div></div></div><div class=\"sk-item\"><div class=\"sk-estimator sk-toggleable\"><input class=\"sk-toggleable__control sk-hidden--visually\" id=\"sk-estimator-id-3\" type=\"checkbox\" ><label for=\"sk-estimator-id-3\" class=\"sk-toggleable__label sk-toggleable__label-arrow\">LogisticRegression</label><div class=\"sk-toggleable__content\"><pre>LogisticRegression(l1_ratio=0.5, max_iter=5000, penalty=&#x27;elasticnet&#x27;,\n",
       "                   solver=&#x27;saga&#x27;)</pre></div></div></div></div></div></div></div>"
      ],
      "text/plain": [
       "Pipeline(steps=[('scale', StandardScaler()),\n",
       "                ('model',\n",
       "                 LogisticRegression(l1_ratio=0.5, max_iter=5000,\n",
       "                                    penalty='elasticnet', solver='saga'))])"
      ]
     },
     "execution_count": 27,
     "metadata": {},
     "output_type": "execute_result"
    }
   ],
   "source": [
    "model.fit(X_train, y_train.values.ravel())"
   ]
  },
  {
   "cell_type": "code",
   "execution_count": 28,
   "id": "af59f8c0",
   "metadata": {
    "execution": {
     "iopub.execute_input": "2025-07-23T14:33:32.198272Z",
     "iopub.status.busy": "2025-07-23T14:33:32.195338Z",
     "iopub.status.idle": "2025-07-23T14:33:32.203562Z",
     "shell.execute_reply": "2025-07-23T14:33:32.202792Z"
    },
    "papermill": {
     "duration": 0.022749,
     "end_time": "2025-07-23T14:33:32.205005",
     "exception": false,
     "start_time": "2025-07-23T14:33:32.182256",
     "status": "completed"
    },
    "tags": []
   },
   "outputs": [],
   "source": [
    "from fairness_multiverse.universe import predict_w_threshold"
   ]
  },
  {
   "cell_type": "code",
   "execution_count": 29,
   "id": "a7cf2e16",
   "metadata": {
    "execution": {
     "iopub.execute_input": "2025-07-23T14:33:32.228251Z",
     "iopub.status.busy": "2025-07-23T14:33:32.227516Z",
     "iopub.status.idle": "2025-07-23T14:33:32.444746Z",
     "shell.execute_reply": "2025-07-23T14:33:32.443972Z"
    },
    "papermill": {
     "duration": 0.230307,
     "end_time": "2025-07-23T14:33:32.446443",
     "exception": false,
     "start_time": "2025-07-23T14:33:32.216136",
     "status": "completed"
    },
    "tags": []
   },
   "outputs": [
    {
     "data": {
      "text/plain": [
       "0.8627800691115818"
      ]
     },
     "execution_count": 29,
     "metadata": {},
     "output_type": "execute_result"
    }
   ],
   "source": [
    "probs_test = model.predict_proba(X_test)\n",
    "\n",
    "'''\n",
    "Below code returns a boolean array (or binary 0/1 array depending on how it’s used) where each element \n",
    "is True if the probability of class 1 is greater than or equal to the threshold, and False otherwise.\n",
    "'''\n",
    "y_pred_default = predict_w_threshold(probs_test, 0.5)\n",
    "\n",
    "from sklearn.metrics import accuracy_score\n",
    "\n",
    "# Naive prediction\n",
    "accuracy_score(y_true = y_true, y_pred = y_pred_default)"
   ]
  },
  {
   "cell_type": "code",
   "execution_count": 30,
   "id": "081964c3",
   "metadata": {
    "execution": {
     "iopub.execute_input": "2025-07-23T14:33:32.489963Z",
     "iopub.status.busy": "2025-07-23T14:33:32.488987Z",
     "iopub.status.idle": "2025-07-23T14:33:32.696283Z",
     "shell.execute_reply": "2025-07-23T14:33:32.695137Z"
    },
    "papermill": {
     "duration": 0.229986,
     "end_time": "2025-07-23T14:33:32.698324",
     "exception": false,
     "start_time": "2025-07-23T14:33:32.468338",
     "status": "completed"
    },
    "tags": []
   },
   "outputs": [
    {
     "data": {
      "text/plain": [
       "array([0, 0, 0, ..., 0, 0, 0])"
      ]
     },
     "execution_count": 30,
     "metadata": {},
     "output_type": "execute_result"
    }
   ],
   "source": [
    "model.predict(X_test)"
   ]
  },
  {
   "cell_type": "markdown",
   "id": "56c9705b",
   "metadata": {
    "papermill": {
     "duration": 0.020444,
     "end_time": "2025-07-23T14:33:32.739537",
     "exception": false,
     "start_time": "2025-07-23T14:33:32.719093",
     "status": "completed"
    },
    "tags": []
   },
   "source": [
    "# Conformal Prediction"
   ]
  },
  {
   "cell_type": "code",
   "execution_count": 31,
   "id": "160ec6ff",
   "metadata": {
    "execution": {
     "iopub.execute_input": "2025-07-23T14:33:32.777052Z",
     "iopub.status.busy": "2025-07-23T14:33:32.776276Z",
     "iopub.status.idle": "2025-07-23T14:33:32.782440Z",
     "shell.execute_reply": "2025-07-23T14:33:32.781563Z"
    },
    "papermill": {
     "duration": 0.02511,
     "end_time": "2025-07-23T14:33:32.785496",
     "exception": false,
     "start_time": "2025-07-23T14:33:32.760386",
     "status": "completed"
    },
    "tags": []
   },
   "outputs": [],
   "source": [
    "# Miscoverage level for conformal prediction (10% allowed error rate => 90% target coverage)\n",
    "alpha = 0.1"
   ]
  },
  {
   "cell_type": "code",
   "execution_count": 32,
   "id": "eadf4555-3dd3-440e-8e35-f82a4ad9f855",
   "metadata": {
    "execution": {
     "iopub.execute_input": "2025-07-23T14:33:32.809223Z",
     "iopub.status.busy": "2025-07-23T14:33:32.808253Z",
     "iopub.status.idle": "2025-07-23T14:33:33.040086Z",
     "shell.execute_reply": "2025-07-23T14:33:33.038808Z"
    },
    "papermill": {
     "duration": 0.245473,
     "end_time": "2025-07-23T14:33:33.042354",
     "exception": false,
     "start_time": "2025-07-23T14:33:32.796881",
     "status": "completed"
    },
    "tags": []
   },
   "outputs": [],
   "source": [
    "probs_calib = model.predict_proba(X_calib)"
   ]
  },
  {
   "cell_type": "code",
   "execution_count": 33,
   "id": "2ed93547-6d5d-4983-9b36-1ecb300da49a",
   "metadata": {
    "execution": {
     "iopub.execute_input": "2025-07-23T14:33:33.089409Z",
     "iopub.status.busy": "2025-07-23T14:33:33.088355Z",
     "iopub.status.idle": "2025-07-23T14:33:33.096010Z",
     "shell.execute_reply": "2025-07-23T14:33:33.094750Z"
    },
    "papermill": {
     "duration": 0.033243,
     "end_time": "2025-07-23T14:33:33.098486",
     "exception": false,
     "start_time": "2025-07-23T14:33:33.065243",
     "status": "completed"
    },
    "tags": []
   },
   "outputs": [],
   "source": [
    "y_calib = y_calib.values.ravel().astype(int)"
   ]
  },
  {
   "cell_type": "code",
   "execution_count": 34,
   "id": "65d1320d-f588-4b38-9072-62af1ae97f7d",
   "metadata": {
    "execution": {
     "iopub.execute_input": "2025-07-23T14:33:33.157699Z",
     "iopub.status.busy": "2025-07-23T14:33:33.157283Z",
     "iopub.status.idle": "2025-07-23T14:33:33.165921Z",
     "shell.execute_reply": "2025-07-23T14:33:33.164663Z"
    },
    "papermill": {
     "duration": 0.041413,
     "end_time": "2025-07-23T14:33:33.168767",
     "exception": false,
     "start_time": "2025-07-23T14:33:33.127354",
     "status": "completed"
    },
    "tags": []
   },
   "outputs": [],
   "source": [
    "from fairness_multiverse.conformal import compute_nc_scores\n",
    "\n",
    "# Compute nonconformity scores on calibration set (1 - probability of true class)\n",
    "nc_scores = compute_nc_scores(probs_calib, y_calib)"
   ]
  },
  {
   "cell_type": "code",
   "execution_count": 35,
   "id": "df3b8ca3-53b7-43d5-9667-7c85da7aeda2",
   "metadata": {
    "execution": {
     "iopub.execute_input": "2025-07-23T14:33:33.223578Z",
     "iopub.status.busy": "2025-07-23T14:33:33.222354Z",
     "iopub.status.idle": "2025-07-23T14:33:33.230839Z",
     "shell.execute_reply": "2025-07-23T14:33:33.229718Z"
    },
    "papermill": {
     "duration": 0.037599,
     "end_time": "2025-07-23T14:33:33.232626",
     "exception": false,
     "start_time": "2025-07-23T14:33:33.195027",
     "status": "completed"
    },
    "tags": []
   },
   "outputs": [],
   "source": [
    "from fairness_multiverse.conformal import find_threshold\n",
    "\n",
    "# Find conformal threshold q_hat for the given alpha (split conformal method)\n",
    "q_hat = find_threshold(nc_scores, alpha)"
   ]
  },
  {
   "cell_type": "code",
   "execution_count": 36,
   "id": "4d29e6c1-0ef6-4aa4-b8fe-4fe79b0d033a",
   "metadata": {
    "execution": {
     "iopub.execute_input": "2025-07-23T14:33:33.275098Z",
     "iopub.status.busy": "2025-07-23T14:33:33.274389Z",
     "iopub.status.idle": "2025-07-23T14:33:33.282188Z",
     "shell.execute_reply": "2025-07-23T14:33:33.281166Z"
    },
    "papermill": {
     "duration": 0.030997,
     "end_time": "2025-07-23T14:33:33.283891",
     "exception": false,
     "start_time": "2025-07-23T14:33:33.252894",
     "status": "completed"
    },
    "tags": []
   },
   "outputs": [
    {
     "data": {
      "text/plain": [
       "0.6608962793543618"
      ]
     },
     "execution_count": 36,
     "metadata": {},
     "output_type": "execute_result"
    }
   ],
   "source": [
    "q_hat"
   ]
  },
  {
   "cell_type": "code",
   "execution_count": 37,
   "id": "92460794-cdac-4be2-ba28-f28c0515a6fb",
   "metadata": {
    "execution": {
     "iopub.execute_input": "2025-07-23T14:33:33.325899Z",
     "iopub.status.busy": "2025-07-23T14:33:33.324947Z",
     "iopub.status.idle": "2025-07-23T14:33:34.261719Z",
     "shell.execute_reply": "2025-07-23T14:33:34.260750Z"
    },
    "papermill": {
     "duration": 0.959519,
     "end_time": "2025-07-23T14:33:34.263666",
     "exception": false,
     "start_time": "2025-07-23T14:33:33.304147",
     "status": "completed"
    },
    "tags": []
   },
   "outputs": [],
   "source": [
    "from fairness_multiverse.conformal import predict_conformal_sets\n",
    "\n",
    "# Generate prediction sets for each test example\n",
    "pred_sets = predict_conformal_sets(model, X_test, q_hat)"
   ]
  },
  {
   "cell_type": "code",
   "execution_count": 38,
   "id": "d90c9a65-e6db-4f5d-80cd-e68fb7e46829",
   "metadata": {
    "execution": {
     "iopub.execute_input": "2025-07-23T14:33:34.307446Z",
     "iopub.status.busy": "2025-07-23T14:33:34.306714Z",
     "iopub.status.idle": "2025-07-23T14:33:34.313195Z",
     "shell.execute_reply": "2025-07-23T14:33:34.312093Z"
    },
    "papermill": {
     "duration": 0.031267,
     "end_time": "2025-07-23T14:33:34.315001",
     "exception": false,
     "start_time": "2025-07-23T14:33:34.283734",
     "status": "completed"
    },
    "tags": []
   },
   "outputs": [],
   "source": [
    "y_true = y_true.squeeze()"
   ]
  },
  {
   "cell_type": "code",
   "execution_count": 39,
   "id": "3a58a54a-1e68-46b9-927a-df01f18aebc8",
   "metadata": {
    "execution": {
     "iopub.execute_input": "2025-07-23T14:33:34.358447Z",
     "iopub.status.busy": "2025-07-23T14:33:34.357519Z",
     "iopub.status.idle": "2025-07-23T14:33:35.329058Z",
     "shell.execute_reply": "2025-07-23T14:33:35.328045Z"
    },
    "papermill": {
     "duration": 0.994798,
     "end_time": "2025-07-23T14:33:35.331024",
     "exception": false,
     "start_time": "2025-07-23T14:33:34.336226",
     "status": "completed"
    },
    "tags": []
   },
   "outputs": [],
   "source": [
    "from fairness_multiverse.conformal import evaluate_sets\n",
    "\n",
    "# Evaluate coverage and average set size on test data\n",
    "metrics = evaluate_sets(pred_sets, y_true)"
   ]
  },
  {
   "cell_type": "code",
   "execution_count": 40,
   "id": "5ce0a5cb-201f-45a0-ade5-94c7f0bd6095",
   "metadata": {
    "execution": {
     "iopub.execute_input": "2025-07-23T14:33:35.373415Z",
     "iopub.status.busy": "2025-07-23T14:33:35.372707Z",
     "iopub.status.idle": "2025-07-23T14:33:35.380213Z",
     "shell.execute_reply": "2025-07-23T14:33:35.379164Z"
    },
    "papermill": {
     "duration": 0.030301,
     "end_time": "2025-07-23T14:33:35.381914",
     "exception": false,
     "start_time": "2025-07-23T14:33:35.351613",
     "status": "completed"
    },
    "tags": []
   },
   "outputs": [
    {
     "data": {
      "text/plain": [
       "{'coverage': 0.911436852078921, 'avg_size': 1.1244231412328614}"
      ]
     },
     "execution_count": 40,
     "metadata": {},
     "output_type": "execute_result"
    }
   ],
   "source": [
    "metrics"
   ]
  },
  {
   "cell_type": "code",
   "execution_count": 41,
   "id": "9b9a838d-31c9-430b-ae14-12baee460d17",
   "metadata": {
    "execution": {
     "iopub.execute_input": "2025-07-23T14:33:35.424659Z",
     "iopub.status.busy": "2025-07-23T14:33:35.423936Z",
     "iopub.status.idle": "2025-07-23T14:33:35.430376Z",
     "shell.execute_reply": "2025-07-23T14:33:35.429430Z"
    },
    "papermill": {
     "duration": 0.029425,
     "end_time": "2025-07-23T14:33:35.432110",
     "exception": false,
     "start_time": "2025-07-23T14:33:35.402685",
     "status": "completed"
    },
    "tags": []
   },
   "outputs": [],
   "source": [
    "example_universe = universe.copy()\n",
    "universe_model = example_universe.get(\"model\")\n",
    "universe_exclude_features = example_universe.get(\"exclude_features\")\n",
    "universe_exclude_subgroups = example_universe.get(\"exclude_subgroups\")\n",
    "universe_scale = example_universe.get(\"scale\")"
   ]
  },
  {
   "cell_type": "code",
   "execution_count": 42,
   "id": "f4b6a8ac-9dc0-4245-8a91-5b3b5999c4f9",
   "metadata": {
    "execution": {
     "iopub.execute_input": "2025-07-23T14:33:35.474702Z",
     "iopub.status.busy": "2025-07-23T14:33:35.473765Z",
     "iopub.status.idle": "2025-07-23T14:33:35.480516Z",
     "shell.execute_reply": "2025-07-23T14:33:35.479503Z"
    },
    "papermill": {
     "duration": 0.029717,
     "end_time": "2025-07-23T14:33:35.482344",
     "exception": false,
     "start_time": "2025-07-23T14:33:35.452627",
     "status": "completed"
    },
    "tags": []
   },
   "outputs": [],
   "source": [
    "cp_metrics_dict = {\n",
    "    \"universe_id\": [universe_id],\n",
    "    \"universe_model\": [universe_model],\n",
    "    \"universe_exclude_features\": [universe_exclude_features],\n",
    "    \"universe_exclude_subgroups\": [universe_exclude_subgroups],\n",
    "    \"universe_scale\": [universe_scale],\n",
    "    \"q_hat\": [q_hat],\n",
    "    \"coverage\": [metrics[\"coverage\"]],\n",
    "    \"avg_size\": [metrics[\"avg_size\"]],\n",
    "}"
   ]
  },
  {
   "cell_type": "code",
   "execution_count": 43,
   "id": "908acbb1-0371-4915-85ca-3fa520d2efe2",
   "metadata": {
    "execution": {
     "iopub.execute_input": "2025-07-23T14:33:35.525548Z",
     "iopub.status.busy": "2025-07-23T14:33:35.524617Z",
     "iopub.status.idle": "2025-07-23T14:33:35.533776Z",
     "shell.execute_reply": "2025-07-23T14:33:35.532763Z"
    },
    "papermill": {
     "duration": 0.032328,
     "end_time": "2025-07-23T14:33:35.535607",
     "exception": false,
     "start_time": "2025-07-23T14:33:35.503279",
     "status": "completed"
    },
    "tags": []
   },
   "outputs": [
    {
     "data": {
      "text/plain": [
       "{'universe_id': ['5aba2455e97ad4a95af70f85f554e8a5'],\n",
       " 'universe_model': ['elasticnet'],\n",
       " 'universe_exclude_features': ['sex'],\n",
       " 'universe_exclude_subgroups': ['keep-all'],\n",
       " 'universe_scale': ['scale'],\n",
       " 'q_hat': [0.6608962793543618],\n",
       " 'coverage': [0.911436852078921],\n",
       " 'avg_size': [1.1244231412328614]}"
      ]
     },
     "execution_count": 43,
     "metadata": {},
     "output_type": "execute_result"
    }
   ],
   "source": [
    "cp_metrics_dict"
   ]
  },
  {
   "cell_type": "code",
   "execution_count": 44,
   "id": "33007efc-14e9-4ec6-97ac-56a455c82265",
   "metadata": {
    "execution": {
     "iopub.execute_input": "2025-07-23T14:33:35.580443Z",
     "iopub.status.busy": "2025-07-23T14:33:35.579348Z",
     "iopub.status.idle": "2025-07-23T14:33:35.585942Z",
     "shell.execute_reply": "2025-07-23T14:33:35.585002Z"
    },
    "papermill": {
     "duration": 0.030238,
     "end_time": "2025-07-23T14:33:35.587707",
     "exception": false,
     "start_time": "2025-07-23T14:33:35.557469",
     "status": "completed"
    },
    "tags": []
   },
   "outputs": [],
   "source": [
    "cp_metrics_df = pd.DataFrame(cp_metrics_dict)"
   ]
  },
  {
   "cell_type": "code",
   "execution_count": 45,
   "id": "db12611b-57b2-4910-b9d0-355adfd6e7bf",
   "metadata": {
    "execution": {
     "iopub.execute_input": "2025-07-23T14:33:35.632166Z",
     "iopub.status.busy": "2025-07-23T14:33:35.631462Z",
     "iopub.status.idle": "2025-07-23T14:33:35.650048Z",
     "shell.execute_reply": "2025-07-23T14:33:35.648928Z"
    },
    "papermill": {
     "duration": 0.042924,
     "end_time": "2025-07-23T14:33:35.651942",
     "exception": false,
     "start_time": "2025-07-23T14:33:35.609018",
     "status": "completed"
    },
    "tags": []
   },
   "outputs": [
    {
     "data": {
      "text/html": [
       "<div>\n",
       "<style scoped>\n",
       "    .dataframe tbody tr th:only-of-type {\n",
       "        vertical-align: middle;\n",
       "    }\n",
       "\n",
       "    .dataframe tbody tr th {\n",
       "        vertical-align: top;\n",
       "    }\n",
       "\n",
       "    .dataframe thead th {\n",
       "        text-align: right;\n",
       "    }\n",
       "</style>\n",
       "<table border=\"1\" class=\"dataframe\">\n",
       "  <thead>\n",
       "    <tr style=\"text-align: right;\">\n",
       "      <th></th>\n",
       "      <th>universe_id</th>\n",
       "      <th>universe_model</th>\n",
       "      <th>universe_exclude_features</th>\n",
       "      <th>universe_exclude_subgroups</th>\n",
       "      <th>universe_scale</th>\n",
       "      <th>q_hat</th>\n",
       "      <th>coverage</th>\n",
       "      <th>avg_size</th>\n",
       "    </tr>\n",
       "  </thead>\n",
       "  <tbody>\n",
       "    <tr>\n",
       "      <th>0</th>\n",
       "      <td>5aba2455e97ad4a95af70f85f554e8a5</td>\n",
       "      <td>elasticnet</td>\n",
       "      <td>sex</td>\n",
       "      <td>keep-all</td>\n",
       "      <td>scale</td>\n",
       "      <td>0.660896</td>\n",
       "      <td>0.911437</td>\n",
       "      <td>1.124423</td>\n",
       "    </tr>\n",
       "  </tbody>\n",
       "</table>\n",
       "</div>"
      ],
      "text/plain": [
       "                        universe_id universe_model universe_exclude_features  \\\n",
       "0  5aba2455e97ad4a95af70f85f554e8a5     elasticnet                       sex   \n",
       "\n",
       "  universe_exclude_subgroups universe_scale     q_hat  coverage  avg_size  \n",
       "0                   keep-all          scale  0.660896  0.911437  1.124423  "
      ]
     },
     "execution_count": 45,
     "metadata": {},
     "output_type": "execute_result"
    }
   ],
   "source": [
    "cp_metrics_df"
   ]
  },
  {
   "cell_type": "code",
   "execution_count": 46,
   "id": "b7fbde55-a0a1-47e4-9af6-fe4a17fa8c61",
   "metadata": {
    "execution": {
     "iopub.execute_input": "2025-07-23T14:33:35.699419Z",
     "iopub.status.busy": "2025-07-23T14:33:35.698712Z",
     "iopub.status.idle": "2025-07-23T14:33:35.704170Z",
     "shell.execute_reply": "2025-07-23T14:33:35.703150Z"
    },
    "papermill": {
     "duration": 0.029851,
     "end_time": "2025-07-23T14:33:35.705933",
     "exception": false,
     "start_time": "2025-07-23T14:33:35.676082",
     "status": "completed"
    },
    "tags": []
   },
   "outputs": [],
   "source": [
    "# Conditional Coverage & looking at subgroups"
   ]
  },
  {
   "cell_type": "code",
   "execution_count": 47,
   "id": "027ae886-68dd-4141-96c7-805a5450e1ef",
   "metadata": {
    "execution": {
     "iopub.execute_input": "2025-07-23T14:33:35.750486Z",
     "iopub.status.busy": "2025-07-23T14:33:35.749780Z",
     "iopub.status.idle": "2025-07-23T14:33:36.018947Z",
     "shell.execute_reply": "2025-07-23T14:33:36.018003Z"
    },
    "papermill": {
     "duration": 0.293592,
     "end_time": "2025-07-23T14:33:36.020873",
     "exception": false,
     "start_time": "2025-07-23T14:33:35.727281",
     "status": "completed"
    },
    "tags": []
   },
   "outputs": [],
   "source": [
    "from fairness_multiverse.conformal import build_cp_groups\n",
    "\n",
    "cp_groups_df = build_cp_groups(pred_sets, y_true, X_test.index, org_test)\n",
    "#needs universe_id and setting"
   ]
  },
  {
   "cell_type": "code",
   "execution_count": 48,
   "id": "c3b92545-903e-4839-89af-0f057907d7d6",
   "metadata": {
    "execution": {
     "iopub.execute_input": "2025-07-23T14:33:36.068742Z",
     "iopub.status.busy": "2025-07-23T14:33:36.067651Z",
     "iopub.status.idle": "2025-07-23T14:33:37.793564Z",
     "shell.execute_reply": "2025-07-23T14:33:37.792508Z"
    },
    "papermill": {
     "duration": 1.75045,
     "end_time": "2025-07-23T14:33:37.795697",
     "exception": false,
     "start_time": "2025-07-23T14:33:36.045247",
     "status": "completed"
    },
    "tags": []
   },
   "outputs": [],
   "source": [
    "# Define covered = 1 if true_label is in the predicted set\n",
    "cp_groups_df['covered'] = cp_groups_df.apply(\n",
    "    lambda r: int(r['true_label'] in r['pred_set']),\n",
    "    axis=1\n",
    ")"
   ]
  },
  {
   "cell_type": "code",
   "execution_count": 49,
   "id": "338ff529-1a6b-4b87-a931-8e4788d52aad",
   "metadata": {
    "execution": {
     "iopub.execute_input": "2025-07-23T14:33:37.850684Z",
     "iopub.status.busy": "2025-07-23T14:33:37.850099Z",
     "iopub.status.idle": "2025-07-23T14:33:37.855876Z",
     "shell.execute_reply": "2025-07-23T14:33:37.854733Z"
    },
    "papermill": {
     "duration": 0.037019,
     "end_time": "2025-07-23T14:33:37.857802",
     "exception": false,
     "start_time": "2025-07-23T14:33:37.820783",
     "status": "completed"
    },
    "tags": []
   },
   "outputs": [],
   "source": [
    "#cp_groups_df"
   ]
  },
  {
   "cell_type": "code",
   "execution_count": 50,
   "id": "90032e27-66df-4540-9169-4e89cfbaa758",
   "metadata": {
    "execution": {
     "iopub.execute_input": "2025-07-23T14:33:37.911048Z",
     "iopub.status.busy": "2025-07-23T14:33:37.909941Z",
     "iopub.status.idle": "2025-07-23T14:33:37.922342Z",
     "shell.execute_reply": "2025-07-23T14:33:37.921294Z"
    },
    "papermill": {
     "duration": 0.040494,
     "end_time": "2025-07-23T14:33:37.924466",
     "exception": false,
     "start_time": "2025-07-23T14:33:37.883972",
     "status": "completed"
    },
    "tags": []
   },
   "outputs": [],
   "source": [
    "subgroups = ['frau1','nongerman','nongerman_male','nongerman_female']\n",
    "\n",
    "# Conditional coverage for subgroup==1\n",
    "cond_coverage = {\n",
    "    g: cp_groups_df.loc[cp_groups_df[g]==1, 'covered'].mean()\n",
    "    for g in subgroups\n",
    "}"
   ]
  },
  {
   "cell_type": "code",
   "execution_count": 51,
   "id": "1e348fb1-b9c3-45bc-ba23-f016827a7e0d",
   "metadata": {
    "execution": {
     "iopub.execute_input": "2025-07-23T14:33:37.975952Z",
     "iopub.status.busy": "2025-07-23T14:33:37.974961Z",
     "iopub.status.idle": "2025-07-23T14:33:37.983122Z",
     "shell.execute_reply": "2025-07-23T14:33:37.981957Z"
    },
    "papermill": {
     "duration": 0.03604,
     "end_time": "2025-07-23T14:33:37.985107",
     "exception": false,
     "start_time": "2025-07-23T14:33:37.949067",
     "status": "completed"
    },
    "tags": []
   },
   "outputs": [
    {
     "data": {
      "text/plain": [
       "{'frau1': 0.912252325111201,\n",
       " 'nongerman': 0.91062707011733,\n",
       " 'nongerman_male': 0.9252454291632892,\n",
       " 'nongerman_female': 0.8864381520119226}"
      ]
     },
     "execution_count": 51,
     "metadata": {},
     "output_type": "execute_result"
    }
   ],
   "source": [
    "cond_coverage"
   ]
  },
  {
   "cell_type": "code",
   "execution_count": 52,
   "id": "f5093324-c3dd-4d63-bc4c-8d945e5c8bbb",
   "metadata": {
    "execution": {
     "iopub.execute_input": "2025-07-23T14:33:38.035626Z",
     "iopub.status.busy": "2025-07-23T14:33:38.035209Z",
     "iopub.status.idle": "2025-07-23T14:33:38.043283Z",
     "shell.execute_reply": "2025-07-23T14:33:38.042329Z"
    },
    "papermill": {
     "duration": 0.035581,
     "end_time": "2025-07-23T14:33:38.045185",
     "exception": false,
     "start_time": "2025-07-23T14:33:38.009604",
     "status": "completed"
    },
    "tags": []
   },
   "outputs": [],
   "source": [
    "for subgroup, cov in cond_coverage.items():\n",
    "    cp_metrics_df[f\"cov_{subgroup}\"] = cov"
   ]
  },
  {
   "cell_type": "code",
   "execution_count": 53,
   "id": "6e872e10-dbe5-49e8-b554-5030c98ff75d",
   "metadata": {
    "execution": {
     "iopub.execute_input": "2025-07-23T14:33:38.096771Z",
     "iopub.status.busy": "2025-07-23T14:33:38.095864Z",
     "iopub.status.idle": "2025-07-23T14:33:38.116850Z",
     "shell.execute_reply": "2025-07-23T14:33:38.115871Z"
    },
    "papermill": {
     "duration": 0.048782,
     "end_time": "2025-07-23T14:33:38.118693",
     "exception": false,
     "start_time": "2025-07-23T14:33:38.069911",
     "status": "completed"
    },
    "tags": []
   },
   "outputs": [
    {
     "data": {
      "text/html": [
       "<div>\n",
       "<style scoped>\n",
       "    .dataframe tbody tr th:only-of-type {\n",
       "        vertical-align: middle;\n",
       "    }\n",
       "\n",
       "    .dataframe tbody tr th {\n",
       "        vertical-align: top;\n",
       "    }\n",
       "\n",
       "    .dataframe thead th {\n",
       "        text-align: right;\n",
       "    }\n",
       "</style>\n",
       "<table border=\"1\" class=\"dataframe\">\n",
       "  <thead>\n",
       "    <tr style=\"text-align: right;\">\n",
       "      <th></th>\n",
       "      <th>universe_id</th>\n",
       "      <th>universe_model</th>\n",
       "      <th>universe_exclude_features</th>\n",
       "      <th>universe_exclude_subgroups</th>\n",
       "      <th>universe_scale</th>\n",
       "      <th>q_hat</th>\n",
       "      <th>coverage</th>\n",
       "      <th>avg_size</th>\n",
       "      <th>cov_frau1</th>\n",
       "      <th>cov_nongerman</th>\n",
       "      <th>cov_nongerman_male</th>\n",
       "      <th>cov_nongerman_female</th>\n",
       "    </tr>\n",
       "  </thead>\n",
       "  <tbody>\n",
       "    <tr>\n",
       "      <th>0</th>\n",
       "      <td>5aba2455e97ad4a95af70f85f554e8a5</td>\n",
       "      <td>elasticnet</td>\n",
       "      <td>sex</td>\n",
       "      <td>keep-all</td>\n",
       "      <td>scale</td>\n",
       "      <td>0.660896</td>\n",
       "      <td>0.911437</td>\n",
       "      <td>1.124423</td>\n",
       "      <td>0.912252</td>\n",
       "      <td>0.910627</td>\n",
       "      <td>0.925245</td>\n",
       "      <td>0.886438</td>\n",
       "    </tr>\n",
       "  </tbody>\n",
       "</table>\n",
       "</div>"
      ],
      "text/plain": [
       "                        universe_id universe_model universe_exclude_features  \\\n",
       "0  5aba2455e97ad4a95af70f85f554e8a5     elasticnet                       sex   \n",
       "\n",
       "  universe_exclude_subgroups universe_scale     q_hat  coverage  avg_size  \\\n",
       "0                   keep-all          scale  0.660896  0.911437  1.124423   \n",
       "\n",
       "   cov_frau1  cov_nongerman  cov_nongerman_male  cov_nongerman_female  \n",
       "0   0.912252       0.910627            0.925245              0.886438  "
      ]
     },
     "execution_count": 53,
     "metadata": {},
     "output_type": "execute_result"
    }
   ],
   "source": [
    "cp_metrics_df"
   ]
  },
  {
   "cell_type": "markdown",
   "id": "33774451",
   "metadata": {
    "papermill": {
     "duration": 0.021959,
     "end_time": "2025-07-23T14:33:38.162745",
     "exception": false,
     "start_time": "2025-07-23T14:33:38.140786",
     "status": "completed"
    },
    "tags": []
   },
   "source": [
    "# (Fairness) Metrics"
   ]
  },
  {
   "cell_type": "code",
   "execution_count": 54,
   "id": "debc5d62",
   "metadata": {
    "execution": {
     "iopub.execute_input": "2025-07-23T14:33:38.208530Z",
     "iopub.status.busy": "2025-07-23T14:33:38.207823Z",
     "iopub.status.idle": "2025-07-23T14:33:38.232415Z",
     "shell.execute_reply": "2025-07-23T14:33:38.231197Z"
    },
    "papermill": {
     "duration": 0.049885,
     "end_time": "2025-07-23T14:33:38.234466",
     "exception": false,
     "start_time": "2025-07-23T14:33:38.184581",
     "status": "completed"
    },
    "tags": []
   },
   "outputs": [],
   "source": [
    "# do I need to include maxdeutsch1.missing?\n",
    "\n",
    "import numpy as np\n",
    "\n",
    "colname_to_bin = \"maxdeutsch1\"\n",
    "majority_value = org_train[colname_to_bin].mode()[0]\n",
    "\n",
    "org_test[\"majmin\"] = np.where(org_test[colname_to_bin] == majority_value, \"majority\", \"minority\")"
   ]
  },
  {
   "cell_type": "code",
   "execution_count": 55,
   "id": "06a50de5",
   "metadata": {
    "execution": {
     "iopub.execute_input": "2025-07-23T14:33:38.281040Z",
     "iopub.status.busy": "2025-07-23T14:33:38.280279Z",
     "iopub.status.idle": "2025-07-23T14:33:41.539062Z",
     "shell.execute_reply": "2025-07-23T14:33:41.538083Z"
    },
    "papermill": {
     "duration": 3.284192,
     "end_time": "2025-07-23T14:33:41.540992",
     "exception": false,
     "start_time": "2025-07-23T14:33:38.256800",
     "status": "completed"
    },
    "tags": []
   },
   "outputs": [],
   "source": [
    "example_universe = universe.copy()\n",
    "example_universe[\"cutoff\"] = example_universe[\"cutoff\"][0]\n",
    "example_universe[\"eval_fairness_grouping\"] = example_universe[\"eval_fairness_grouping\"][0]\n",
    "fairness_dict, metric_frame = universe_analysis.compute_metrics(\n",
    "    example_universe,\n",
    "    y_pred_prob=probs_test,\n",
    "    y_test=y_true,\n",
    "    org_test=org_test,\n",
    ")"
   ]
  },
  {
   "cell_type": "markdown",
   "id": "f95d4e02",
   "metadata": {
    "papermill": {
     "duration": 0.021467,
     "end_time": "2025-07-23T14:33:41.586945",
     "exception": false,
     "start_time": "2025-07-23T14:33:41.565478",
     "status": "completed"
    },
    "tags": []
   },
   "source": [
    "# Overall"
   ]
  },
  {
   "cell_type": "markdown",
   "id": "bdee4871",
   "metadata": {
    "papermill": {
     "duration": 0.021332,
     "end_time": "2025-07-23T14:33:41.629772",
     "exception": false,
     "start_time": "2025-07-23T14:33:41.608440",
     "status": "completed"
    },
    "tags": []
   },
   "source": [
    "Fairness\n",
    "Main fairness target: Equalized Odds. Seems to be a better fit than equal opportunity, since we're not only interested in Y = 1. Seems to be a better fit than demographic parity, since we also care about accuracy, not just equal distribution of preds.\n",
    "\n",
    "Pick column for computation of fairness metrics\n",
    "\n",
    "Performance\n",
    "Overall performance measures, most interesting in relation to the measures split by group below"
   ]
  },
  {
   "cell_type": "code",
   "execution_count": 56,
   "id": "c4e067c6",
   "metadata": {
    "execution": {
     "iopub.execute_input": "2025-07-23T14:33:41.674771Z",
     "iopub.status.busy": "2025-07-23T14:33:41.674074Z",
     "iopub.status.idle": "2025-07-23T14:33:41.683258Z",
     "shell.execute_reply": "2025-07-23T14:33:41.682199Z"
    },
    "papermill": {
     "duration": 0.033471,
     "end_time": "2025-07-23T14:33:41.684868",
     "exception": false,
     "start_time": "2025-07-23T14:33:41.651397",
     "status": "completed"
    },
    "tags": []
   },
   "outputs": [
    {
     "data": {
      "text/plain": [
       "accuracy                   0.225828\n",
       "balanced accuracy          0.551875\n",
       "f1                         0.247119\n",
       "precision                  0.141171\n",
       "false positive rate        0.886691\n",
       "false negative rate        0.009559\n",
       "selection rate             0.900000\n",
       "count                  89710.000000\n",
       "dtype: float64"
      ]
     },
     "execution_count": 56,
     "metadata": {},
     "output_type": "execute_result"
    }
   ],
   "source": [
    "metric_frame.overall"
   ]
  },
  {
   "cell_type": "markdown",
   "id": "e968fe9d",
   "metadata": {
    "papermill": {
     "duration": 0.021834,
     "end_time": "2025-07-23T14:33:41.729098",
     "exception": false,
     "start_time": "2025-07-23T14:33:41.707264",
     "status": "completed"
    },
    "tags": []
   },
   "source": [
    "By Group"
   ]
  },
  {
   "cell_type": "code",
   "execution_count": 57,
   "id": "ec325bce",
   "metadata": {
    "execution": {
     "iopub.execute_input": "2025-07-23T14:33:41.838233Z",
     "iopub.status.busy": "2025-07-23T14:33:41.837741Z",
     "iopub.status.idle": "2025-07-23T14:33:41.853633Z",
     "shell.execute_reply": "2025-07-23T14:33:41.852597Z"
    },
    "papermill": {
     "duration": 0.040429,
     "end_time": "2025-07-23T14:33:41.855265",
     "exception": false,
     "start_time": "2025-07-23T14:33:41.814836",
     "status": "completed"
    },
    "tags": []
   },
   "outputs": [
    {
     "data": {
      "text/html": [
       "<div>\n",
       "<style scoped>\n",
       "    .dataframe tbody tr th:only-of-type {\n",
       "        vertical-align: middle;\n",
       "    }\n",
       "\n",
       "    .dataframe tbody tr th {\n",
       "        vertical-align: top;\n",
       "    }\n",
       "\n",
       "    .dataframe thead th {\n",
       "        text-align: right;\n",
       "    }\n",
       "</style>\n",
       "<table border=\"1\" class=\"dataframe\">\n",
       "  <thead>\n",
       "    <tr style=\"text-align: right;\">\n",
       "      <th></th>\n",
       "      <th>accuracy</th>\n",
       "      <th>balanced accuracy</th>\n",
       "      <th>f1</th>\n",
       "      <th>precision</th>\n",
       "      <th>false positive rate</th>\n",
       "      <th>false negative rate</th>\n",
       "      <th>selection rate</th>\n",
       "      <th>count</th>\n",
       "    </tr>\n",
       "    <tr>\n",
       "      <th>majmin</th>\n",
       "      <th></th>\n",
       "      <th></th>\n",
       "      <th></th>\n",
       "      <th></th>\n",
       "      <th></th>\n",
       "      <th></th>\n",
       "      <th></th>\n",
       "      <th></th>\n",
       "    </tr>\n",
       "  </thead>\n",
       "  <tbody>\n",
       "    <tr>\n",
       "      <th>majority</th>\n",
       "      <td>0.247578</td>\n",
       "      <td>0.561917</td>\n",
       "      <td>0.257846</td>\n",
       "      <td>0.148245</td>\n",
       "      <td>0.865334</td>\n",
       "      <td>0.010832</td>\n",
       "      <td>0.881697</td>\n",
       "      <td>69170.0</td>\n",
       "    </tr>\n",
       "    <tr>\n",
       "      <th>minority</th>\n",
       "      <td>0.152580</td>\n",
       "      <td>0.519056</td>\n",
       "      <td>0.213110</td>\n",
       "      <td>0.119330</td>\n",
       "      <td>0.957242</td>\n",
       "      <td>0.004645</td>\n",
       "      <td>0.961636</td>\n",
       "      <td>20540.0</td>\n",
       "    </tr>\n",
       "  </tbody>\n",
       "</table>\n",
       "</div>"
      ],
      "text/plain": [
       "          accuracy  balanced accuracy        f1  precision  \\\n",
       "majmin                                                       \n",
       "majority  0.247578           0.561917  0.257846   0.148245   \n",
       "minority  0.152580           0.519056  0.213110   0.119330   \n",
       "\n",
       "          false positive rate  false negative rate  selection rate    count  \n",
       "majmin                                                                       \n",
       "majority             0.865334             0.010832        0.881697  69170.0  \n",
       "minority             0.957242             0.004645        0.961636  20540.0  "
      ]
     },
     "execution_count": 57,
     "metadata": {},
     "output_type": "execute_result"
    }
   ],
   "source": [
    "metric_frame.by_group"
   ]
  },
  {
   "cell_type": "code",
   "execution_count": 58,
   "id": "a9ddbe63",
   "metadata": {
    "execution": {
     "iopub.execute_input": "2025-07-23T14:33:41.903551Z",
     "iopub.status.busy": "2025-07-23T14:33:41.902493Z",
     "iopub.status.idle": "2025-07-23T14:33:44.090857Z",
     "shell.execute_reply": "2025-07-23T14:33:44.089796Z"
    },
    "papermill": {
     "duration": 2.214299,
     "end_time": "2025-07-23T14:33:44.092679",
     "exception": false,
     "start_time": "2025-07-23T14:33:41.878380",
     "status": "completed"
    },
    "tags": []
   },
   "outputs": [
    {
     "data": {
      "text/plain": [
       "array([[<Axes: title={'center': 'accuracy'}, xlabel='majmin'>,\n",
       "        <Axes: title={'center': 'balanced accuracy'}, xlabel='majmin'>,\n",
       "        <Axes: title={'center': 'f1'}, xlabel='majmin'>],\n",
       "       [<Axes: title={'center': 'precision'}, xlabel='majmin'>,\n",
       "        <Axes: title={'center': 'false positive rate'}, xlabel='majmin'>,\n",
       "        <Axes: title={'center': 'false negative rate'}, xlabel='majmin'>],\n",
       "       [<Axes: title={'center': 'selection rate'}, xlabel='majmin'>,\n",
       "        <Axes: title={'center': 'count'}, xlabel='majmin'>,\n",
       "        <Axes: xlabel='majmin'>]], dtype=object)"
      ]
     },
     "execution_count": 58,
     "metadata": {},
     "output_type": "execute_result"
    },
    {
     "data": {
      "image/png": "[encoded data removed]",
      "text/plain": [
       "<Figure size 1200x800 with 9 Axes>"
      ]
     },
     "metadata": {},
     "output_type": "display_data"
    }
   ],
   "source": [
    "# In a graphic\n",
    "metric_frame.by_group.plot.bar(\n",
    "    subplots=True,\n",
    "    layout=[3, 3],\n",
    "    legend=False,\n",
    "    figsize=[12, 8],\n",
    "    title=\"Show all metrics\",\n",
    ")"
   ]
  },
  {
   "cell_type": "markdown",
   "id": "f57a0bac",
   "metadata": {
    "papermill": {
     "duration": 0.026584,
     "end_time": "2025-07-23T14:33:44.146507",
     "exception": false,
     "start_time": "2025-07-23T14:33:44.119923",
     "status": "completed"
    },
    "tags": []
   },
   "source": [
    "# Final Output"
   ]
  },
  {
   "cell_type": "code",
   "execution_count": 59,
   "id": "96d280a3",
   "metadata": {
    "execution": {
     "iopub.execute_input": "2025-07-23T14:33:44.202836Z",
     "iopub.status.busy": "2025-07-23T14:33:44.201880Z",
     "iopub.status.idle": "2025-07-23T14:33:44.211806Z",
     "shell.execute_reply": "2025-07-23T14:33:44.210751Z"
    },
    "papermill": {
     "duration": 0.040647,
     "end_time": "2025-07-23T14:33:44.213764",
     "exception": false,
     "start_time": "2025-07-23T14:33:44.173117",
     "status": "completed"
    },
    "tags": []
   },
   "outputs": [
    {
     "data": {
      "text/plain": [
       "4"
      ]
     },
     "execution_count": 59,
     "metadata": {},
     "output_type": "execute_result"
    }
   ],
   "source": [
    "sub_universes = universe_analysis.generate_sub_universes()\n",
    "len(sub_universes)"
   ]
  },
  {
   "cell_type": "code",
   "execution_count": 60,
   "id": "92adf7ba",
   "metadata": {
    "execution": {
     "iopub.execute_input": "2025-07-23T14:33:44.264701Z",
     "iopub.status.busy": "2025-07-23T14:33:44.263673Z",
     "iopub.status.idle": "2025-07-23T14:33:44.270747Z",
     "shell.execute_reply": "2025-07-23T14:33:44.269791Z"
    },
    "papermill": {
     "duration": 0.034244,
     "end_time": "2025-07-23T14:33:44.272274",
     "exception": false,
     "start_time": "2025-07-23T14:33:44.238030",
     "status": "completed"
    },
    "tags": []
   },
   "outputs": [],
   "source": [
    "def filter_sub_universe_data(sub_universe, org_test):\n",
    "    # Keep all rows — no filtering\n",
    "    keep_rows_mask = np.ones(org_test.shape[0], dtype=bool)\n",
    "\n",
    "    print(f\"[INFO] Keeping all rows: {keep_rows_mask.sum()} rows retained.\")\n",
    "    return keep_rows_mask"
   ]
  },
  {
   "cell_type": "code",
   "execution_count": 61,
   "id": "4a759155",
   "metadata": {
    "execution": {
     "iopub.execute_input": "2025-07-23T14:33:44.323105Z",
     "iopub.status.busy": "2025-07-23T14:33:44.322636Z",
     "iopub.status.idle": "2025-07-23T14:33:56.280582Z",
     "shell.execute_reply": "2025-07-23T14:33:56.279665Z"
    },
    "papermill": {
     "duration": 11.985396,
     "end_time": "2025-07-23T14:33:56.282289",
     "exception": false,
     "start_time": "2025-07-23T14:33:44.296893",
     "status": "completed"
    },
    "tags": []
   },
   "outputs": [
    {
     "name": "stdout",
     "output_type": "stream",
     "text": [
      "Stopping execution_time clock.\n",
      "[INFO] Keeping all rows: 89710 rows retained.\n"
     ]
    },
    {
     "name": "stdout",
     "output_type": "stream",
     "text": [
      "[INFO] Keeping all rows: 89710 rows retained.\n"
     ]
    },
    {
     "name": "stdout",
     "output_type": "stream",
     "text": [
      "[INFO] Keeping all rows: 89710 rows retained.\n"
     ]
    },
    {
     "name": "stdout",
     "output_type": "stream",
     "text": [
      "[INFO] Keeping all rows: 89710 rows retained.\n"
     ]
    },
    {
     "data": {
      "text/html": [
       "<div>\n",
       "<style scoped>\n",
       "    .dataframe tbody tr th:only-of-type {\n",
       "        vertical-align: middle;\n",
       "    }\n",
       "\n",
       "    .dataframe tbody tr th {\n",
       "        vertical-align: top;\n",
       "    }\n",
       "\n",
       "    .dataframe thead th {\n",
       "        text-align: right;\n",
       "    }\n",
       "</style>\n",
       "<table border=\"1\" class=\"dataframe\">\n",
       "  <thead>\n",
       "    <tr style=\"text-align: right;\">\n",
       "      <th></th>\n",
       "      <th>run_no</th>\n",
       "      <th>universe_id</th>\n",
       "      <th>universe_settings</th>\n",
       "      <th>execution_time</th>\n",
       "      <th>test_size_n</th>\n",
       "      <th>test_size_frac</th>\n",
       "      <th>fair_main_equalized_odds_difference</th>\n",
       "      <th>fair_main_equalized_odds_ratio</th>\n",
       "      <th>fair_main_demographic_parity_difference</th>\n",
       "      <th>fair_main_demographic_parity_ratio</th>\n",
       "      <th>...</th>\n",
       "      <th>perf_grp_precision_0</th>\n",
       "      <th>perf_grp_precision_1</th>\n",
       "      <th>perf_grp_false positive rate_0</th>\n",
       "      <th>perf_grp_false positive rate_1</th>\n",
       "      <th>perf_grp_false negative rate_0</th>\n",
       "      <th>perf_grp_false negative rate_1</th>\n",
       "      <th>perf_grp_selection rate_0</th>\n",
       "      <th>perf_grp_selection rate_1</th>\n",
       "      <th>perf_grp_count_0</th>\n",
       "      <th>perf_grp_count_1</th>\n",
       "    </tr>\n",
       "  </thead>\n",
       "  <tbody>\n",
       "    <tr>\n",
       "      <th>0</th>\n",
       "      <td>9</td>\n",
       "      <td>5aba2455e97ad4a95af70f85f554e8a5</td>\n",
       "      <td>{\"cutoff\": \"quantile_0.1\", \"eval_fairness_grou...</td>\n",
       "      <td>50.23172</td>\n",
       "      <td>89710</td>\n",
       "      <td>1.0</td>\n",
       "      <td>0.091908</td>\n",
       "      <td>0.903987</td>\n",
       "      <td>0.079939</td>\n",
       "      <td>0.916872</td>\n",
       "      <td>...</td>\n",
       "      <td>NaN</td>\n",
       "      <td>NaN</td>\n",
       "      <td>NaN</td>\n",
       "      <td>NaN</td>\n",
       "      <td>NaN</td>\n",
       "      <td>NaN</td>\n",
       "      <td>NaN</td>\n",
       "      <td>NaN</td>\n",
       "      <td>NaN</td>\n",
       "      <td>NaN</td>\n",
       "    </tr>\n",
       "    <tr>\n",
       "      <th>0</th>\n",
       "      <td>9</td>\n",
       "      <td>5aba2455e97ad4a95af70f85f554e8a5</td>\n",
       "      <td>{\"cutoff\": \"quantile_0.1\", \"eval_fairness_grou...</td>\n",
       "      <td>50.23172</td>\n",
       "      <td>89710</td>\n",
       "      <td>1.0</td>\n",
       "      <td>0.091908</td>\n",
       "      <td>0.903987</td>\n",
       "      <td>0.079939</td>\n",
       "      <td>0.916872</td>\n",
       "      <td>...</td>\n",
       "      <td>0.119330</td>\n",
       "      <td>0.148245</td>\n",
       "      <td>0.957242</td>\n",
       "      <td>0.865334</td>\n",
       "      <td>0.004645</td>\n",
       "      <td>0.010832</td>\n",
       "      <td>0.961636</td>\n",
       "      <td>0.881697</td>\n",
       "      <td>20540.0</td>\n",
       "      <td>69170.0</td>\n",
       "    </tr>\n",
       "    <tr>\n",
       "      <th>0</th>\n",
       "      <td>9</td>\n",
       "      <td>5aba2455e97ad4a95af70f85f554e8a5</td>\n",
       "      <td>{\"cutoff\": \"quantile_0.25\", \"eval_fairness_gro...</td>\n",
       "      <td>50.23172</td>\n",
       "      <td>89710</td>\n",
       "      <td>1.0</td>\n",
       "      <td>0.140891</td>\n",
       "      <td>0.829882</td>\n",
       "      <td>0.121052</td>\n",
       "      <td>0.856460</td>\n",
       "      <td>...</td>\n",
       "      <td>NaN</td>\n",
       "      <td>NaN</td>\n",
       "      <td>NaN</td>\n",
       "      <td>NaN</td>\n",
       "      <td>NaN</td>\n",
       "      <td>NaN</td>\n",
       "      <td>NaN</td>\n",
       "      <td>NaN</td>\n",
       "      <td>NaN</td>\n",
       "      <td>NaN</td>\n",
       "    </tr>\n",
       "    <tr>\n",
       "      <th>0</th>\n",
       "      <td>9</td>\n",
       "      <td>5aba2455e97ad4a95af70f85f554e8a5</td>\n",
       "      <td>{\"cutoff\": \"quantile_0.25\", \"eval_fairness_gro...</td>\n",
       "      <td>50.23172</td>\n",
       "      <td>89710</td>\n",
       "      <td>1.0</td>\n",
       "      <td>0.140891</td>\n",
       "      <td>0.829882</td>\n",
       "      <td>0.121052</td>\n",
       "      <td>0.856460</td>\n",
       "      <td>...</td>\n",
       "      <td>0.131163</td>\n",
       "      <td>0.174159</td>\n",
       "      <td>0.828197</td>\n",
       "      <td>0.687306</td>\n",
       "      <td>0.040541</td>\n",
       "      <td>0.048031</td>\n",
       "      <td>0.843330</td>\n",
       "      <td>0.722278</td>\n",
       "      <td>20540.0</td>\n",
       "      <td>69170.0</td>\n",
       "    </tr>\n",
       "  </tbody>\n",
       "</table>\n",
       "<p>4 rows × 50 columns</p>\n",
       "</div>"
      ],
      "text/plain": [
       "  run_no                       universe_id  \\\n",
       "0      9  5aba2455e97ad4a95af70f85f554e8a5   \n",
       "0      9  5aba2455e97ad4a95af70f85f554e8a5   \n",
       "0      9  5aba2455e97ad4a95af70f85f554e8a5   \n",
       "0      9  5aba2455e97ad4a95af70f85f554e8a5   \n",
       "\n",
       "                                   universe_settings  execution_time  \\\n",
       "0  {\"cutoff\": \"quantile_0.1\", \"eval_fairness_grou...        50.23172   \n",
       "0  {\"cutoff\": \"quantile_0.1\", \"eval_fairness_grou...        50.23172   \n",
       "0  {\"cutoff\": \"quantile_0.25\", \"eval_fairness_gro...        50.23172   \n",
       "0  {\"cutoff\": \"quantile_0.25\", \"eval_fairness_gro...        50.23172   \n",
       "\n",
       "   test_size_n  test_size_frac  fair_main_equalized_odds_difference  \\\n",
       "0        89710             1.0                             0.091908   \n",
       "0        89710             1.0                             0.091908   \n",
       "0        89710             1.0                             0.140891   \n",
       "0        89710             1.0                             0.140891   \n",
       "\n",
       "   fair_main_equalized_odds_ratio  fair_main_demographic_parity_difference  \\\n",
       "0                        0.903987                                 0.079939   \n",
       "0                        0.903987                                 0.079939   \n",
       "0                        0.829882                                 0.121052   \n",
       "0                        0.829882                                 0.121052   \n",
       "\n",
       "   fair_main_demographic_parity_ratio  ...  perf_grp_precision_0  \\\n",
       "0                            0.916872  ...                   NaN   \n",
       "0                            0.916872  ...              0.119330   \n",
       "0                            0.856460  ...                   NaN   \n",
       "0                            0.856460  ...              0.131163   \n",
       "\n",
       "   perf_grp_precision_1  perf_grp_false positive rate_0  \\\n",
       "0                   NaN                             NaN   \n",
       "0              0.148245                        0.957242   \n",
       "0                   NaN                             NaN   \n",
       "0              0.174159                        0.828197   \n",
       "\n",
       "   perf_grp_false positive rate_1  perf_grp_false negative rate_0  \\\n",
       "0                             NaN                             NaN   \n",
       "0                        0.865334                        0.004645   \n",
       "0                             NaN                             NaN   \n",
       "0                        0.687306                        0.040541   \n",
       "\n",
       "   perf_grp_false negative rate_1  perf_grp_selection rate_0  \\\n",
       "0                             NaN                        NaN   \n",
       "0                        0.010832                   0.961636   \n",
       "0                             NaN                        NaN   \n",
       "0                        0.048031                   0.843330   \n",
       "\n",
       "   perf_grp_selection rate_1  perf_grp_count_0  perf_grp_count_1  \n",
       "0                        NaN               NaN               NaN  \n",
       "0                   0.881697           20540.0           69170.0  \n",
       "0                        NaN               NaN               NaN  \n",
       "0                   0.722278           20540.0           69170.0  \n",
       "\n",
       "[4 rows x 50 columns]"
      ]
     },
     "execution_count": 61,
     "metadata": {},
     "output_type": "execute_result"
    }
   ],
   "source": [
    "final_output = universe_analysis.generate_final_output(\n",
    "    y_pred_prob=probs_test,\n",
    "    y_test=y_true,\n",
    "    org_test=org_test,\n",
    "    filter_data=filter_sub_universe_data,\n",
    "    cp_metrics_df=cp_metrics_df,\n",
    "    save=True,\n",
    ")\n",
    "final_output"
   ]
  },
  {
   "cell_type": "code",
   "execution_count": null,
   "id": "721ff514-cb11-46f8-b6fc-50392f74b5cb",
   "metadata": {
    "papermill": {
     "duration": 0.030448,
     "end_time": "2025-07-23T14:33:56.341044",
     "exception": false,
     "start_time": "2025-07-23T14:33:56.310596",
     "status": "completed"
    },
    "tags": []
   },
   "outputs": [],
   "source": []
  }
 ],
 "metadata": {
  "celltoolbar": "Tags",
  "kernelspec": {
   "display_name": "Python (CMA Fairness)",
   "language": "python",
   "name": "cma_fair_env"
  },
  "language_info": {
   "codemirror_mode": {
    "name": "ipython",
    "version": 3
   },
   "file_extension": ".py",
   "mimetype": "text/x-python",
   "name": "python",
   "nbconvert_exporter": "python",
   "pygments_lexer": "ipython3",
   "version": "3.10.12"
  },
  "papermill": {
   "default_parameters": {},
   "duration": 65.663393,
   "end_time": "2025-07-23T14:33:57.092956",
   "environment_variables": {},
   "exception": null,
   "input_path": "universe_analysis.ipynb",
   "output_path": "output/runs/9/notebooks/m_9-5aba2455e97ad4a95af70f85f554e8a5.ipynb",
   "parameters": {
    "output_dir": "output",
    "run_no": "9",
    "seed": "2023",
    "universe": "{\"cutoff\": [\"quantile_0.1\", \"quantile_0.25\"], \"eval_fairness_grouping\": [\"majority-minority\", \"nationality-all\"], \"exclude_features\": \"sex\", \"exclude_subgroups\": \"keep-all\", \"model\": \"elasticnet\", \"scale\": \"scale\"}",
    "universe_id": "5aba2455e97ad4a95af70f85f554e8a5"
   },
   "start_time": "2025-07-23T14:32:51.429563",
   "version": "2.6.0"
  }
 },
 "nbformat": 4,
 "nbformat_minor": 5
}