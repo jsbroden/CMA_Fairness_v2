{
 "cells": [
  {
   "cell_type": "code",
   "execution_count": 1,
   "id": "f159f837-637b-42ba-96b5-ec9a68c44524",
   "metadata": {
    "execution": {
     "iopub.execute_input": "2025-07-23T14:34:07.220240Z",
     "iopub.status.busy": "2025-07-23T14:34:07.219691Z",
     "iopub.status.idle": "2025-07-23T14:34:07.236018Z",
     "shell.execute_reply": "2025-07-23T14:34:07.234728Z"
    },
    "papermill": {
     "duration": 0.039123,
     "end_time": "2025-07-23T14:34:07.237925",
     "exception": false,
     "start_time": "2025-07-23T14:34:07.198802",
     "status": "completed"
    },
    "tags": []
   },
   "outputs": [
    {
     "name": "stdout",
     "output_type": "stream",
     "text": [
      "/dss/dsshome1/0C/ra93lal2/cma/CMA_Fairness_v2\n"
     ]
    },
    {
     "name": "stderr",
     "output_type": "stream",
     "text": [
      "/dss/dsshome1/0C/ra93lal2/.local/share/virtualenvs/CMA_Fairness_v2-3j10GkSs/lib/python3.10/site-packages/IPython/core/magics/osm.py:393: UserWarning: This is now an optional IPython functionality, using bookmarks requires you to install the `pickleshare` library.\n",
      "  bkms = self.shell.db.get('bookmarks', {})\n",
      "/dss/dsshome1/0C/ra93lal2/.local/share/virtualenvs/CMA_Fairness_v2-3j10GkSs/lib/python3.10/site-packages/IPython/core/magics/osm.py:417: UserWarning: This is now an optional IPython functionality, setting dhist requires you to install the `pickleshare` library.\n",
      "  self.shell.db['dhist'] = compress_dhist(dhist)[-100:]\n"
     ]
    }
   ],
   "source": [
    "%cd ~/cma/CMA_Fairness_v2"
   ]
  },
  {
   "cell_type": "markdown",
   "id": "de2603b9",
   "metadata": {
    "papermill": {
     "duration": 0.019334,
     "end_time": "2025-07-23T14:34:07.276236",
     "exception": false,
     "start_time": "2025-07-23T14:34:07.256902",
     "status": "completed"
    },
    "tags": []
   },
   "source": [
    "The following cell holds the definition of our parameters, these values can be overriden by rendering the with e.g. the following command:\n",
    "\n",
    "papermill -p alpha 0.2 -p ratio 0.3 universe_analysis.ipynb output/test_run.ipynb"
   ]
  },
  {
   "cell_type": "code",
   "execution_count": 2,
   "id": "a80968a0-40bb-4fa9-85ef-2d5eefb01975",
   "metadata": {
    "execution": {
     "iopub.execute_input": "2025-07-23T14:34:07.316104Z",
     "iopub.status.busy": "2025-07-23T14:34:07.315337Z",
     "iopub.status.idle": "2025-07-23T14:34:07.321969Z",
     "shell.execute_reply": "2025-07-23T14:34:07.320731Z"
    },
    "papermill": {
     "duration": 0.02873,
     "end_time": "2025-07-23T14:34:07.323970",
     "exception": false,
     "start_time": "2025-07-23T14:34:07.295240",
     "status": "completed"
    },
    "tags": []
   },
   "outputs": [
    {
     "name": "stdout",
     "output_type": "stream",
     "text": [
      "Current working directory: /dss/dsshome1/0C/ra93lal2/cma/CMA_Fairness_v2\n"
     ]
    }
   ],
   "source": [
    "import os\n",
    "print(\"Current working directory:\", os.getcwd())"
   ]
  },
  {
   "cell_type": "code",
   "execution_count": 3,
   "id": "2dce4c03",
   "metadata": {
    "execution": {
     "iopub.execute_input": "2025-07-23T14:34:07.364101Z",
     "iopub.status.busy": "2025-07-23T14:34:07.363656Z",
     "iopub.status.idle": "2025-07-23T14:34:07.369958Z",
     "shell.execute_reply": "2025-07-23T14:34:07.368818Z"
    },
    "papermill": {
     "duration": 0.028361,
     "end_time": "2025-07-23T14:34:07.371941",
     "exception": false,
     "start_time": "2025-07-23T14:34:07.343580",
     "status": "completed"
    },
    "tags": [
     "parameters"
    ]
   },
   "outputs": [],
   "source": [
    "run_no = 0\n",
    "universe_id = \"test\"\n",
    "universe = {\n",
    "    \"scale\": \"scale\", # \"scale\", \"do-not-scale\",\n",
    "    \"model\": \"elasticnet\", # \"logreg\", \"penalized_logreg\", \"rf\", \"gbm\", \"elasticnet\"\n",
    "    \"cutoff\": [\"quantile_0.15\", \"quantile_0.30\"],\n",
    "    \"exclude_features\": \"age\", # \"none\", \"nationality\", \"sex\", \"nationality-sex\", \"age\"\n",
    "    \"exclude_subgroups\": \"keep-all\", # \"keep-all\", \"drop-non-german\"\n",
    "    #\"training_sample\": \"restricted\", # \"restricted\", \"full\"\n",
    "    \"eval_fairness_grouping\": [\"majority-minority\", \"nationality-all\"]\n",
    "}\n",
    "\n",
    "output_dir=\"./output\"\n",
    "seed=0"
   ]
  },
  {
   "cell_type": "code",
   "execution_count": 4,
   "id": "4cf2964b",
   "metadata": {
    "execution": {
     "iopub.execute_input": "2025-07-23T14:34:07.412772Z",
     "iopub.status.busy": "2025-07-23T14:34:07.411759Z",
     "iopub.status.idle": "2025-07-23T14:34:07.417911Z",
     "shell.execute_reply": "2025-07-23T14:34:07.416943Z"
    },
    "papermill": {
     "duration": 0.028158,
     "end_time": "2025-07-23T14:34:07.419708",
     "exception": false,
     "start_time": "2025-07-23T14:34:07.391550",
     "status": "completed"
    },
    "tags": [
     "injected-parameters"
    ]
   },
   "outputs": [],
   "source": [
    "# Parameters\n",
    "universe_id = \"a485cfbef2a6a98b47ebbf81b69970f6\"\n",
    "run_no = \"9\"\n",
    "universe = \"{\\\"cutoff\\\": [\\\"quantile_0.1\\\", \\\"quantile_0.25\\\"], \\\"eval_fairness_grouping\\\": [\\\"majority-minority\\\", \\\"nationality-all\\\"], \\\"exclude_features\\\": \\\"none\\\", \\\"exclude_subgroups\\\": \\\"drop-non-german\\\", \\\"model\\\": \\\"logreg\\\", \\\"scale\\\": \\\"do-not-scale\\\"}\"\n",
    "output_dir = \"output\"\n",
    "seed = \"2023\"\n"
   ]
  },
  {
   "cell_type": "code",
   "execution_count": 5,
   "id": "1650acaf",
   "metadata": {
    "execution": {
     "iopub.execute_input": "2025-07-23T14:34:07.453516Z",
     "iopub.status.busy": "2025-07-23T14:34:07.453055Z",
     "iopub.status.idle": "2025-07-23T14:34:07.458403Z",
     "shell.execute_reply": "2025-07-23T14:34:07.457410Z"
    },
    "papermill": {
     "duration": 0.023902,
     "end_time": "2025-07-23T14:34:07.460150",
     "exception": false,
     "start_time": "2025-07-23T14:34:07.436248",
     "status": "completed"
    },
    "tags": []
   },
   "outputs": [],
   "source": [
    "import json\n",
    "# Parse universe into dict if it is passed as a string\n",
    "if isinstance(universe, str):\n",
    "    universe = json.loads(universe)"
   ]
  },
  {
   "cell_type": "code",
   "execution_count": 6,
   "id": "16620c48",
   "metadata": {
    "execution": {
     "iopub.execute_input": "2025-07-23T14:34:07.493760Z",
     "iopub.status.busy": "2025-07-23T14:34:07.493208Z",
     "iopub.status.idle": "2025-07-23T14:34:07.555799Z",
     "shell.execute_reply": "2025-07-23T14:34:07.554776Z"
    },
    "papermill": {
     "duration": 0.081206,
     "end_time": "2025-07-23T14:34:07.557704",
     "exception": false,
     "start_time": "2025-07-23T14:34:07.476498",
     "status": "completed"
    },
    "tags": []
   },
   "outputs": [],
   "source": [
    "# Auto-reload the custom package\n",
    "%load_ext autoreload\n",
    "%autoreload 1\n",
    "%aimport fairness_multiverse"
   ]
  },
  {
   "cell_type": "code",
   "execution_count": 7,
   "id": "01c5c9f3",
   "metadata": {
    "execution": {
     "iopub.execute_input": "2025-07-23T14:34:07.592323Z",
     "iopub.status.busy": "2025-07-23T14:34:07.591503Z",
     "iopub.status.idle": "2025-07-23T14:34:09.796935Z",
     "shell.execute_reply": "2025-07-23T14:34:09.795906Z"
    },
    "papermill": {
     "duration": 2.224543,
     "end_time": "2025-07-23T14:34:09.798983",
     "exception": false,
     "start_time": "2025-07-23T14:34:07.574440",
     "status": "completed"
    },
    "tags": []
   },
   "outputs": [],
   "source": [
    "from fairness_multiverse.universe import UniverseAnalysis\n",
    "\n",
    "universe_analysis = UniverseAnalysis(\n",
    "    run_no = run_no,\n",
    "    universe_id = universe_id,\n",
    "    universe = universe,\n",
    "    output_dir=output_dir,\n",
    ")"
   ]
  },
  {
   "cell_type": "code",
   "execution_count": 8,
   "id": "106241f5",
   "metadata": {
    "execution": {
     "iopub.execute_input": "2025-07-23T14:34:09.837622Z",
     "iopub.status.busy": "2025-07-23T14:34:09.836391Z",
     "iopub.status.idle": "2025-07-23T14:34:09.844825Z",
     "shell.execute_reply": "2025-07-23T14:34:09.843456Z"
    },
    "papermill": {
     "duration": 0.030236,
     "end_time": "2025-07-23T14:34:09.847400",
     "exception": false,
     "start_time": "2025-07-23T14:34:09.817164",
     "status": "completed"
    },
    "tags": []
   },
   "outputs": [
    {
     "name": "stdout",
     "output_type": "stream",
     "text": [
      "Using Seed: 2023\n"
     ]
    }
   ],
   "source": [
    "import numpy as np\n",
    "parsed_seed = int(seed)\n",
    "np.random.seed(parsed_seed)\n",
    "print(f\"Using Seed: {parsed_seed}\")"
   ]
  },
  {
   "cell_type": "markdown",
   "id": "e0ebdc57",
   "metadata": {
    "papermill": {
     "duration": 0.024181,
     "end_time": "2025-07-23T14:34:09.898991",
     "exception": false,
     "start_time": "2025-07-23T14:34:09.874810",
     "status": "completed"
    },
    "tags": []
   },
   "source": [
    "# Loading Data"
   ]
  },
  {
   "cell_type": "markdown",
   "id": "681925a3",
   "metadata": {
    "papermill": {
     "duration": 0.023978,
     "end_time": "2025-07-23T14:34:09.948949",
     "exception": false,
     "start_time": "2025-07-23T14:34:09.924971",
     "status": "completed"
    },
    "tags": []
   },
   "source": [
    "Load siab_train, siab_test, siab_calib and/or \n",
    "load siab_train_features, siab_train_labels"
   ]
  },
  {
   "cell_type": "code",
   "execution_count": 9,
   "id": "f0496b8a",
   "metadata": {
    "execution": {
     "iopub.execute_input": "2025-07-23T14:34:10.002557Z",
     "iopub.status.busy": "2025-07-23T14:34:10.001737Z",
     "iopub.status.idle": "2025-07-23T14:34:10.009060Z",
     "shell.execute_reply": "2025-07-23T14:34:10.007798Z"
    },
    "papermill": {
     "duration": 0.036337,
     "end_time": "2025-07-23T14:34:10.011424",
     "exception": false,
     "start_time": "2025-07-23T14:34:09.975087",
     "status": "completed"
    },
    "tags": []
   },
   "outputs": [],
   "source": [
    "# Do I need to load siab? Delete this cell?\n",
    "\n",
    "#from pathlib import Path\n",
    "#import pandas as pd\n",
    "#\n",
    "## File paths\n",
    "#raw_file = Path(\"data/raw/siab.csv\")\n",
    "#cache_file = Path(\"data/siab_cached.csv.gz\")\n",
    "#\n",
    "## Ensure cache directory exists\n",
    "#cache_file.parent.mkdir(parents=True, exist_ok=True)\n",
    "#\n",
    "## Load with simple caching\n",
    "#if cache_file.exists():\n",
    "#    print(f\"Loading SIAB data from cache: {cache_file}\")\n",
    "#    siab = pd.read_csv(cache_file, compression='gzip')\n",
    "#else:\n",
    "#    print(f\"Cache not found. Reading raw SIAB data: {raw_file}\")\n",
    "#    siab = pd.read_csv(raw_file)\n",
    "#    siab.to_csv(cache_file, index=False, compression='gzip')\n",
    "#    print(f\"Cached SIAB data to: {cache_file}\")\n",
    "#\n",
    "## Now use `siab` DataFrame as needed\n",
    "#print(siab.shape)\n"
   ]
  },
  {
   "cell_type": "code",
   "execution_count": 10,
   "id": "a0edb063",
   "metadata": {
    "execution": {
     "iopub.execute_input": "2025-07-23T14:34:10.053909Z",
     "iopub.status.busy": "2025-07-23T14:34:10.053233Z",
     "iopub.status.idle": "2025-07-23T14:34:11.336223Z",
     "shell.execute_reply": "2025-07-23T14:34:11.335116Z"
    },
    "papermill": {
     "duration": 1.303207,
     "end_time": "2025-07-23T14:34:11.338243",
     "exception": false,
     "start_time": "2025-07-23T14:34:10.035036",
     "status": "completed"
    },
    "tags": []
   },
   "outputs": [],
   "source": [
    "import pandas as pd\n",
    "\n",
    "X_train = pd.read_csv(\"./data/X_train.csv\")\n",
    "y_train = pd.read_csv(\"./data/y_train.csv\")"
   ]
  },
  {
   "cell_type": "code",
   "execution_count": 11,
   "id": "63d08085",
   "metadata": {
    "execution": {
     "iopub.execute_input": "2025-07-23T14:34:11.375153Z",
     "iopub.status.busy": "2025-07-23T14:34:11.374430Z",
     "iopub.status.idle": "2025-07-23T14:34:12.929269Z",
     "shell.execute_reply": "2025-07-23T14:34:12.927945Z"
    },
    "papermill": {
     "duration": 1.575276,
     "end_time": "2025-07-23T14:34:12.931610",
     "exception": false,
     "start_time": "2025-07-23T14:34:11.356334",
     "status": "completed"
    },
    "tags": []
   },
   "outputs": [],
   "source": [
    "X_test = pd.read_csv(\"./data/X_test.csv\")\n",
    "y_true = pd.read_csv(\"./data/y_test.csv\")"
   ]
  },
  {
   "cell_type": "code",
   "execution_count": 12,
   "id": "98a8d0fa-1d3d-4ed8-bb2c-281470e24add",
   "metadata": {
    "execution": {
     "iopub.execute_input": "2025-07-23T14:34:12.975970Z",
     "iopub.status.busy": "2025-07-23T14:34:12.975131Z",
     "iopub.status.idle": "2025-07-23T14:34:14.385930Z",
     "shell.execute_reply": "2025-07-23T14:34:14.384928Z"
    },
    "papermill": {
     "duration": 1.43426,
     "end_time": "2025-07-23T14:34:14.387585",
     "exception": false,
     "start_time": "2025-07-23T14:34:12.953325",
     "status": "completed"
    },
    "tags": []
   },
   "outputs": [],
   "source": [
    "# Calibration data for conformal\n",
    "X_calib = pd.read_csv(\"./data/X_calib.csv\")\n",
    "y_calib = pd.read_csv(\"./data/y_calib.csv\")"
   ]
  },
  {
   "cell_type": "code",
   "execution_count": 13,
   "id": "e6c733c5",
   "metadata": {
    "execution": {
     "iopub.execute_input": "2025-07-23T14:34:14.410837Z",
     "iopub.status.busy": "2025-07-23T14:34:14.410239Z",
     "iopub.status.idle": "2025-07-23T14:34:14.540514Z",
     "shell.execute_reply": "2025-07-23T14:34:14.539711Z"
    },
    "papermill": {
     "duration": 0.142719,
     "end_time": "2025-07-23T14:34:14.542095",
     "exception": false,
     "start_time": "2025-07-23T14:34:14.399376",
     "status": "completed"
    },
    "tags": []
   },
   "outputs": [],
   "source": [
    "# Auxiliary data needed downstream in the pipeline\n",
    "\n",
    "org_train = X_train.copy()\n",
    "org_test = X_test.copy()\n",
    "org_calib = X_calib.copy()"
   ]
  },
  {
   "cell_type": "markdown",
   "id": "0a4a1b33",
   "metadata": {
    "papermill": {
     "duration": 0.018737,
     "end_time": "2025-07-23T14:34:14.573383",
     "exception": false,
     "start_time": "2025-07-23T14:34:14.554646",
     "status": "completed"
    },
    "tags": []
   },
   "source": [
    "# Preprocessing Data"
   ]
  },
  {
   "cell_type": "code",
   "execution_count": 14,
   "id": "ca879031",
   "metadata": {
    "execution": {
     "iopub.execute_input": "2025-07-23T14:34:14.610463Z",
     "iopub.status.busy": "2025-07-23T14:34:14.609970Z",
     "iopub.status.idle": "2025-07-23T14:34:14.617757Z",
     "shell.execute_reply": "2025-07-23T14:34:14.616644Z"
    },
    "papermill": {
     "duration": 0.028311,
     "end_time": "2025-07-23T14:34:14.619486",
     "exception": false,
     "start_time": "2025-07-23T14:34:14.591175",
     "status": "completed"
    },
    "tags": []
   },
   "outputs": [],
   "source": [
    "# EXCLUDE PROTECTED FEATURES\n",
    "# ----------------------\n",
    "# \"exclude_features\": \"none\", # \"nationality\", \"sex\", \"nationality-sex\"\n",
    "\n",
    "excluded_features = universe[\"exclude_features\"].split(\"-\") # split, e.g.: \"nationality-sex\" -> [\"nationality\", \"sex\"]\n",
    "excluded_features_dictionary = {\n",
    "    \"nationality\": [\"maxdeutsch1\", \"maxdeutsch.Missing.\"],\n",
    "    \"sex\": [\"frau1\"],\n",
    "    \"age\": [\"age\"],\n",
    "}\n"
   ]
  },
  {
   "cell_type": "code",
   "execution_count": 15,
   "id": "b745ac60",
   "metadata": {
    "execution": {
     "iopub.execute_input": "2025-07-23T14:34:14.658411Z",
     "iopub.status.busy": "2025-07-23T14:34:14.657554Z",
     "iopub.status.idle": "2025-07-23T14:34:14.664053Z",
     "shell.execute_reply": "2025-07-23T14:34:14.662830Z"
    },
    "papermill": {
     "duration": 0.027503,
     "end_time": "2025-07-23T14:34:14.666014",
     "exception": false,
     "start_time": "2025-07-23T14:34:14.638511",
     "status": "completed"
    },
    "tags": []
   },
   "outputs": [],
   "source": [
    "# Code nice names to column names\n",
    "\n",
    "excluded_features_columns = [\n",
    "    excluded_features_dictionary[f] for f in excluded_features if len(f) > 0 and f != \"none\"\n",
    "]"
   ]
  },
  {
   "cell_type": "code",
   "execution_count": 16,
   "id": "f84f73a2",
   "metadata": {
    "execution": {
     "iopub.execute_input": "2025-07-23T14:34:14.706054Z",
     "iopub.status.busy": "2025-07-23T14:34:14.705312Z",
     "iopub.status.idle": "2025-07-23T14:34:14.712635Z",
     "shell.execute_reply": "2025-07-23T14:34:14.711474Z"
    },
    "papermill": {
     "duration": 0.029096,
     "end_time": "2025-07-23T14:34:14.714701",
     "exception": false,
     "start_time": "2025-07-23T14:34:14.685605",
     "status": "completed"
    },
    "tags": []
   },
   "outputs": [],
   "source": [
    "from utils import flatten_once\n",
    "\n",
    "excluded_features_columns = flatten_once(excluded_features_columns)"
   ]
  },
  {
   "cell_type": "code",
   "execution_count": 17,
   "id": "884dea22",
   "metadata": {
    "execution": {
     "iopub.execute_input": "2025-07-23T14:34:14.756249Z",
     "iopub.status.busy": "2025-07-23T14:34:14.755525Z",
     "iopub.status.idle": "2025-07-23T14:34:14.761571Z",
     "shell.execute_reply": "2025-07-23T14:34:14.760595Z"
    },
    "papermill": {
     "duration": 0.027454,
     "end_time": "2025-07-23T14:34:14.763377",
     "exception": false,
     "start_time": "2025-07-23T14:34:14.735923",
     "status": "completed"
    },
    "tags": []
   },
   "outputs": [],
   "source": [
    "if len(excluded_features_columns) > 0:\n",
    "    print(f\"Dropping features: {excluded_features_columns}\")\n",
    "    X_train.drop(excluded_features_columns, axis=1, inplace=True)"
   ]
  },
  {
   "cell_type": "code",
   "execution_count": 18,
   "id": "95ab8b16",
   "metadata": {
    "execution": {
     "iopub.execute_input": "2025-07-23T14:34:14.803404Z",
     "iopub.status.busy": "2025-07-23T14:34:14.802967Z",
     "iopub.status.idle": "2025-07-23T14:34:14.809388Z",
     "shell.execute_reply": "2025-07-23T14:34:14.808135Z"
    },
    "papermill": {
     "duration": 0.029383,
     "end_time": "2025-07-23T14:34:14.811276",
     "exception": false,
     "start_time": "2025-07-23T14:34:14.781893",
     "status": "completed"
    },
    "tags": []
   },
   "outputs": [],
   "source": [
    "if len(excluded_features_columns) > 0:\n",
    "    print(f\"Dropping features: {excluded_features_columns}\")\n",
    "    X_test.drop(excluded_features_columns, axis=1, inplace=True)"
   ]
  },
  {
   "cell_type": "code",
   "execution_count": 19,
   "id": "1853aaf5-fb9f-46cb-a2b5-8ea4ae2237e4",
   "metadata": {
    "execution": {
     "iopub.execute_input": "2025-07-23T14:34:14.852693Z",
     "iopub.status.busy": "2025-07-23T14:34:14.851950Z",
     "iopub.status.idle": "2025-07-23T14:34:14.858079Z",
     "shell.execute_reply": "2025-07-23T14:34:14.857102Z"
    },
    "papermill": {
     "duration": 0.028463,
     "end_time": "2025-07-23T14:34:14.859931",
     "exception": false,
     "start_time": "2025-07-23T14:34:14.831468",
     "status": "completed"
    },
    "tags": []
   },
   "outputs": [],
   "source": [
    "if len(excluded_features_columns) > 0:\n",
    "    print(f\"Dropping features: {excluded_features_columns}\")\n",
    "    X_calib.drop(excluded_features_columns, axis=1, inplace=True)"
   ]
  },
  {
   "cell_type": "code",
   "execution_count": 20,
   "id": "76c4dc6d",
   "metadata": {
    "execution": {
     "iopub.execute_input": "2025-07-23T14:34:14.902408Z",
     "iopub.status.busy": "2025-07-23T14:34:14.901530Z",
     "iopub.status.idle": "2025-07-23T14:34:14.907760Z",
     "shell.execute_reply": "2025-07-23T14:34:14.906614Z"
    },
    "papermill": {
     "duration": 0.027559,
     "end_time": "2025-07-23T14:34:14.909559",
     "exception": false,
     "start_time": "2025-07-23T14:34:14.882000",
     "status": "completed"
    },
    "tags": []
   },
   "outputs": [],
   "source": [
    "# EXCLUDE CERTAIN SUBGROUPS\n",
    "# ----------------------\n",
    "\n",
    "mode = universe.get(\"exclude_subgroups\", \"keep-all\") \n",
    "# Fetches the exclude_subgroups setting from the universe dict.\n",
    "# Defaults to \"keep-all\" if the key is missing."
   ]
  },
  {
   "cell_type": "code",
   "execution_count": 21,
   "id": "21994072",
   "metadata": {
    "execution": {
     "iopub.execute_input": "2025-07-23T14:34:14.948025Z",
     "iopub.status.busy": "2025-07-23T14:34:14.947317Z",
     "iopub.status.idle": "2025-07-23T14:34:14.955461Z",
     "shell.execute_reply": "2025-07-23T14:34:14.954382Z"
    },
    "papermill": {
     "duration": 0.02922,
     "end_time": "2025-07-23T14:34:14.957264",
     "exception": false,
     "start_time": "2025-07-23T14:34:14.928044",
     "status": "completed"
    },
    "tags": []
   },
   "outputs": [],
   "source": [
    "if mode == \"keep-all\":\n",
    "    keep_mask = pd.Series(True, index=org_train.index)\n",
    "\n",
    "# org_train contains the original feature columns from features_org (in Simson)\n",
    "# features_org contains unprocessed features, for me X_train at beginning ???\n",
    "# For keep-all, creates a boolean Series (keep_mask) of all True, so no rows are removed.\n",
    "\n",
    "elif mode == \"drop-non-german\":\n",
    "    keep_mask = org_train[\"maxdeutsch1\"] == 1 # ??? what about missing values?\n",
    "\n",
    "else:\n",
    "    raise ValueError(f\"Unsupported mode for exclude_subgroups: {mode}\")\n"
   ]
  },
  {
   "cell_type": "code",
   "execution_count": 22,
   "id": "71651440",
   "metadata": {
    "execution": {
     "iopub.execute_input": "2025-07-23T14:34:14.996351Z",
     "iopub.status.busy": "2025-07-23T14:34:14.995222Z",
     "iopub.status.idle": "2025-07-23T14:34:15.004005Z",
     "shell.execute_reply": "2025-07-23T14:34:15.002827Z"
    },
    "papermill": {
     "duration": 0.030024,
     "end_time": "2025-07-23T14:34:15.005768",
     "exception": false,
     "start_time": "2025-07-23T14:34:14.975744",
     "status": "completed"
    },
    "tags": []
   },
   "outputs": [
    {
     "name": "stdout",
     "output_type": "stream",
     "text": [
      "Dropping 10036 rows (13.38%) where mode='drop-non-german'\n"
     ]
    }
   ],
   "source": [
    "n_drop = (~keep_mask).sum() # Calculates how many rows are set to be dropped\n",
    "if n_drop > 0:\n",
    "    pct = n_drop / len(keep_mask) * 100\n",
    "    print(f\"Dropping {n_drop} rows ({pct:.2f}%) where mode='{mode}'\")"
   ]
  },
  {
   "cell_type": "code",
   "execution_count": 23,
   "id": "5fb8eee5",
   "metadata": {
    "execution": {
     "iopub.execute_input": "2025-07-23T14:34:15.045471Z",
     "iopub.status.busy": "2025-07-23T14:34:15.044465Z",
     "iopub.status.idle": "2025-07-23T14:34:15.077544Z",
     "shell.execute_reply": "2025-07-23T14:34:15.076510Z"
    },
    "papermill": {
     "duration": 0.054871,
     "end_time": "2025-07-23T14:34:15.079549",
     "exception": false,
     "start_time": "2025-07-23T14:34:15.024678",
     "status": "completed"
    },
    "tags": []
   },
   "outputs": [],
   "source": [
    "X_train = X_train[keep_mask]"
   ]
  },
  {
   "cell_type": "code",
   "execution_count": 24,
   "id": "b202bb3a",
   "metadata": {
    "execution": {
     "iopub.execute_input": "2025-07-23T14:34:15.120186Z",
     "iopub.status.busy": "2025-07-23T14:34:15.119455Z",
     "iopub.status.idle": "2025-07-23T14:34:15.127663Z",
     "shell.execute_reply": "2025-07-23T14:34:15.126697Z"
    },
    "papermill": {
     "duration": 0.031166,
     "end_time": "2025-07-23T14:34:15.129479",
     "exception": false,
     "start_time": "2025-07-23T14:34:15.098313",
     "status": "completed"
    },
    "tags": []
   },
   "outputs": [],
   "source": [
    "y_train = y_train[keep_mask]"
   ]
  },
  {
   "cell_type": "markdown",
   "id": "493e2ac3",
   "metadata": {
    "papermill": {
     "duration": 0.018862,
     "end_time": "2025-07-23T14:34:15.166942",
     "exception": false,
     "start_time": "2025-07-23T14:34:15.148080",
     "status": "completed"
    },
    "tags": []
   },
   "source": [
    "# Model Training"
   ]
  },
  {
   "cell_type": "code",
   "execution_count": 25,
   "id": "679e1268",
   "metadata": {
    "execution": {
     "iopub.execute_input": "2025-07-23T14:34:15.206093Z",
     "iopub.status.busy": "2025-07-23T14:34:15.204950Z",
     "iopub.status.idle": "2025-07-23T14:34:15.326829Z",
     "shell.execute_reply": "2025-07-23T14:34:15.325859Z"
    },
    "papermill": {
     "duration": 0.143479,
     "end_time": "2025-07-23T14:34:15.328901",
     "exception": false,
     "start_time": "2025-07-23T14:34:15.185422",
     "status": "completed"
    },
    "tags": []
   },
   "outputs": [],
   "source": [
    "from sklearn.linear_model import LogisticRegression\n",
    "from sklearn.ensemble import GradientBoostingClassifier, RandomForestClassifier\n",
    "\n",
    "if (universe[\"model\"] == \"logreg\"):\n",
    "    model = LogisticRegression() #penalty=\"none\") #, solver=\"newton-cg\", max_iter=1) # include random_state=19 ?\n",
    "elif (universe[\"model\"] == \"penalized_logreg\"):\n",
    "    model = LogisticRegression(penalty=\"l2\", C=1.0) #, solver=\"newton-cg\", max_iter=1)\n",
    "elif (universe[\"model\"] == \"rf\"):\n",
    "    model = RandomForestClassifier(n_estimators=100, n_jobs=-1)\n",
    "elif (universe[\"model\"] == \"gbm\"):\n",
    "    model = GradientBoostingClassifier()\n",
    "elif (universe[\"model\"] == \"elasticnet\"):\n",
    "    model = LogisticRegression(penalty = 'elasticnet', solver = 'saga', l1_ratio = 0.5, max_iter=5000) # which solver to use?\n",
    "else:\n",
    "    raise \"Unsupported universe.model\""
   ]
  },
  {
   "cell_type": "code",
   "execution_count": 26,
   "id": "0cc8f744",
   "metadata": {
    "execution": {
     "iopub.execute_input": "2025-07-23T14:34:15.368047Z",
     "iopub.status.busy": "2025-07-23T14:34:15.367307Z",
     "iopub.status.idle": "2025-07-23T14:34:15.375232Z",
     "shell.execute_reply": "2025-07-23T14:34:15.374242Z"
    },
    "papermill": {
     "duration": 0.029827,
     "end_time": "2025-07-23T14:34:15.377333",
     "exception": false,
     "start_time": "2025-07-23T14:34:15.347506",
     "status": "completed"
    },
    "tags": []
   },
   "outputs": [],
   "source": [
    "import numpy as np\n",
    "from sklearn.pipeline import Pipeline\n",
    "from sklearn.preprocessing import StandardScaler\n",
    "\n",
    "model = Pipeline([\n",
    "    #(\"continuous_processor\", continuous_processor),\n",
    "    #(\"categorical_preprocessor\", categorical_preprocessor),\n",
    "    (\"scale\", StandardScaler() if universe[\"scale\"] == \"scale\" else None), \n",
    "    (\"model\", model),\n",
    "])"
   ]
  },
  {
   "cell_type": "code",
   "execution_count": 27,
   "id": "9442c04d",
   "metadata": {
    "execution": {
     "iopub.execute_input": "2025-07-23T14:34:15.417327Z",
     "iopub.status.busy": "2025-07-23T14:34:15.416605Z",
     "iopub.status.idle": "2025-07-23T14:34:18.139386Z",
     "shell.execute_reply": "2025-07-23T14:34:18.138391Z"
    },
    "papermill": {
     "duration": 2.744547,
     "end_time": "2025-07-23T14:34:18.141086",
     "exception": false,
     "start_time": "2025-07-23T14:34:15.396539",
     "status": "completed"
    },
    "tags": []
   },
   "outputs": [
    {
     "name": "stderr",
     "output_type": "stream",
     "text": [
      "/dss/dsshome1/0C/ra93lal2/.local/share/virtualenvs/CMA_Fairness_v2-3j10GkSs/lib/python3.10/site-packages/sklearn/linear_model/_logistic.py:444: ConvergenceWarning: lbfgs failed to converge (status=1):\n",
      "STOP: TOTAL NO. of ITERATIONS REACHED LIMIT.\n",
      "\n",
      "Increase the number of iterations (max_iter) or scale the data as shown in:\n",
      "    https://scikit-learn.org/stable/modules/preprocessing.html\n",
      "Please also refer to the documentation for alternative solver options:\n",
      "    https://scikit-learn.org/stable/modules/linear_model.html#logistic-regression\n",
      "  n_iter_i = _check_optimize_result(\n"
     ]
    },
    {
     "data": {
      "text/html": [
       "<style>#sk-container-id-1 {color: black;background-color: white;}#sk-container-id-1 pre{padding: 0;}#sk-container-id-1 div.sk-toggleable {background-color: white;}#sk-container-id-1 label.sk-toggleable__label {cursor: pointer;display: block;width: 100%;margin-bottom: 0;padding: 0.3em;box-sizing: border-box;text-align: center;}#sk-container-id-1 label.sk-toggleable__label-arrow:before {content: \"▸\";float: left;margin-right: 0.25em;color: #696969;}#sk-container-id-1 label.sk-toggleable__label-arrow:hover:before {color: black;}#sk-container-id-1 div.sk-estimator:hover label.sk-toggleable__label-arrow:before {color: black;}#sk-container-id-1 div.sk-toggleable__content {max-height: 0;max-width: 0;overflow: hidden;text-align: left;background-color: #f0f8ff;}#sk-container-id-1 div.sk-toggleable__content pre {margin: 0.2em;color: black;border-radius: 0.25em;background-color: #f0f8ff;}#sk-container-id-1 input.sk-toggleable__control:checked~div.sk-toggleable__content {max-height: 200px;max-width: 100%;overflow: auto;}#sk-container-id-1 input.sk-toggleable__control:checked~label.sk-toggleable__label-arrow:before {content: \"▾\";}#sk-container-id-1 div.sk-estimator input.sk-toggleable__control:checked~label.sk-toggleable__label {background-color: #d4ebff;}#sk-container-id-1 div.sk-label input.sk-toggleable__control:checked~label.sk-toggleable__label {background-color: #d4ebff;}#sk-container-id-1 input.sk-hidden--visually {border: 0;clip: rect(1px 1px 1px 1px);clip: rect(1px, 1px, 1px, 1px);height: 1px;margin: -1px;overflow: hidden;padding: 0;position: absolute;width: 1px;}#sk-container-id-1 div.sk-estimator {font-family: monospace;background-color: #f0f8ff;border: 1px dotted black;border-radius: 0.25em;box-sizing: border-box;margin-bottom: 0.5em;}#sk-container-id-1 div.sk-estimator:hover {background-color: #d4ebff;}#sk-container-id-1 div.sk-parallel-item::after {content: \"\";width: 100%;border-bottom: 1px solid gray;flex-grow: 1;}#sk-container-id-1 div.sk-label:hover label.sk-toggleable__label {background-color: #d4ebff;}#sk-container-id-1 div.sk-serial::before {content: \"\";position: absolute;border-left: 1px solid gray;box-sizing: border-box;top: 0;bottom: 0;left: 50%;z-index: 0;}#sk-container-id-1 div.sk-serial {display: flex;flex-direction: column;align-items: center;background-color: white;padding-right: 0.2em;padding-left: 0.2em;position: relative;}#sk-container-id-1 div.sk-item {position: relative;z-index: 1;}#sk-container-id-1 div.sk-parallel {display: flex;align-items: stretch;justify-content: center;background-color: white;position: relative;}#sk-container-id-1 div.sk-item::before, #sk-container-id-1 div.sk-parallel-item::before {content: \"\";position: absolute;border-left: 1px solid gray;box-sizing: border-box;top: 0;bottom: 0;left: 50%;z-index: -1;}#sk-container-id-1 div.sk-parallel-item {display: flex;flex-direction: column;z-index: 1;position: relative;background-color: white;}#sk-container-id-1 div.sk-parallel-item:first-child::after {align-self: flex-end;width: 50%;}#sk-container-id-1 div.sk-parallel-item:last-child::after {align-self: flex-start;width: 50%;}#sk-container-id-1 div.sk-parallel-item:only-child::after {width: 0;}#sk-container-id-1 div.sk-dashed-wrapped {border: 1px dashed gray;margin: 0 0.4em 0.5em 0.4em;box-sizing: border-box;padding-bottom: 0.4em;background-color: white;}#sk-container-id-1 div.sk-label label {font-family: monospace;font-weight: bold;display: inline-block;line-height: 1.2em;}#sk-container-id-1 div.sk-label-container {text-align: center;}#sk-container-id-1 div.sk-container {/* jupyter's `normalize.less` sets `[hidden] { display: none; }` but bootstrap.min.css set `[hidden] { display: none !important; }` so we also need the `!important` here to be able to override the default hidden behavior on the sphinx rendered scikit-learn.org. See: https://github.com/scikit-learn/scikit-learn/issues/21755 */display: inline-block !important;position: relative;}#sk-container-id-1 div.sk-text-repr-fallback {display: none;}</style><div id=\"sk-container-id-1\" class=\"sk-top-container\"><div class=\"sk-text-repr-fallback\"><pre>Pipeline(steps=[(&#x27;scale&#x27;, None), (&#x27;model&#x27;, LogisticRegression())])</pre><b>In a Jupyter environment, please rerun this cell to show the HTML representation or trust the notebook. <br />On GitHub, the HTML representation is unable to render, please try loading this page with nbviewer.org.</b></div><div class=\"sk-container\" hidden><div class=\"sk-item sk-dashed-wrapped\"><div class=\"sk-label-container\"><div class=\"sk-label sk-toggleable\"><input class=\"sk-toggleable__control sk-hidden--visually\" id=\"sk-estimator-id-1\" type=\"checkbox\" ><label for=\"sk-estimator-id-1\" class=\"sk-toggleable__label sk-toggleable__label-arrow\">Pipeline</label><div class=\"sk-toggleable__content\"><pre>Pipeline(steps=[(&#x27;scale&#x27;, None), (&#x27;model&#x27;, LogisticRegression())])</pre></div></div></div><div class=\"sk-serial\"><div class=\"sk-item\"><div class=\"sk-estimator sk-toggleable\"><input class=\"sk-toggleable__control sk-hidden--visually\" id=\"sk-estimator-id-2\" type=\"checkbox\" ><label for=\"sk-estimator-id-2\" class=\"sk-toggleable__label sk-toggleable__label-arrow\">None</label><div class=\"sk-toggleable__content\"><pre>None</pre></div></div></div><div class=\"sk-item\"><div class=\"sk-estimator sk-toggleable\"><input class=\"sk-toggleable__control sk-hidden--visually\" id=\"sk-estimator-id-3\" type=\"checkbox\" ><label for=\"sk-estimator-id-3\" class=\"sk-toggleable__label sk-toggleable__label-arrow\">LogisticRegression</label><div class=\"sk-toggleable__content\"><pre>LogisticRegression()</pre></div></div></div></div></div></div></div>"
      ],
      "text/plain": [
       "Pipeline(steps=[('scale', None), ('model', LogisticRegression())])"
      ]
     },
     "execution_count": 27,
     "metadata": {},
     "output_type": "execute_result"
    }
   ],
   "source": [
    "model.fit(X_train, y_train.values.ravel())"
   ]
  },
  {
   "cell_type": "code",
   "execution_count": 28,
   "id": "af59f8c0",
   "metadata": {
    "execution": {
     "iopub.execute_input": "2025-07-23T14:34:18.180108Z",
     "iopub.status.busy": "2025-07-23T14:34:18.179594Z",
     "iopub.status.idle": "2025-07-23T14:34:18.185600Z",
     "shell.execute_reply": "2025-07-23T14:34:18.184466Z"
    },
    "papermill": {
     "duration": 0.027366,
     "end_time": "2025-07-23T14:34:18.187393",
     "exception": false,
     "start_time": "2025-07-23T14:34:18.160027",
     "status": "completed"
    },
    "tags": []
   },
   "outputs": [],
   "source": [
    "from fairness_multiverse.universe import predict_w_threshold"
   ]
  },
  {
   "cell_type": "code",
   "execution_count": 29,
   "id": "a7cf2e16",
   "metadata": {
    "execution": {
     "iopub.execute_input": "2025-07-23T14:34:18.230319Z",
     "iopub.status.busy": "2025-07-23T14:34:18.229280Z",
     "iopub.status.idle": "2025-07-23T14:34:18.333029Z",
     "shell.execute_reply": "2025-07-23T14:34:18.331966Z"
    },
    "papermill": {
     "duration": 0.128335,
     "end_time": "2025-07-23T14:34:18.335021",
     "exception": false,
     "start_time": "2025-07-23T14:34:18.206686",
     "status": "completed"
    },
    "tags": []
   },
   "outputs": [
    {
     "data": {
      "text/plain": [
       "0.8608181919518448"
      ]
     },
     "execution_count": 29,
     "metadata": {},
     "output_type": "execute_result"
    }
   ],
   "source": [
    "probs_test = model.predict_proba(X_test)\n",
    "\n",
    "'''\n",
    "Below code returns a boolean array (or binary 0/1 array depending on how it’s used) where each element \n",
    "is True if the probability of class 1 is greater than or equal to the threshold, and False otherwise.\n",
    "'''\n",
    "y_pred_default = predict_w_threshold(probs_test, 0.5)\n",
    "\n",
    "from sklearn.metrics import accuracy_score\n",
    "\n",
    "# Naive prediction\n",
    "accuracy_score(y_true = y_true, y_pred = y_pred_default)"
   ]
  },
  {
   "cell_type": "code",
   "execution_count": 30,
   "id": "081964c3",
   "metadata": {
    "execution": {
     "iopub.execute_input": "2025-07-23T14:34:18.375785Z",
     "iopub.status.busy": "2025-07-23T14:34:18.374833Z",
     "iopub.status.idle": "2025-07-23T14:34:18.463078Z",
     "shell.execute_reply": "2025-07-23T14:34:18.462033Z"
    },
    "papermill": {
     "duration": 0.11074,
     "end_time": "2025-07-23T14:34:18.465384",
     "exception": false,
     "start_time": "2025-07-23T14:34:18.354644",
     "status": "completed"
    },
    "tags": []
   },
   "outputs": [
    {
     "data": {
      "text/plain": [
       "array([0, 0, 0, ..., 0, 0, 0])"
      ]
     },
     "execution_count": 30,
     "metadata": {},
     "output_type": "execute_result"
    }
   ],
   "source": [
    "model.predict(X_test)"
   ]
  },
  {
   "cell_type": "markdown",
   "id": "56c9705b",
   "metadata": {
    "papermill": {
     "duration": 0.02159,
     "end_time": "2025-07-23T14:34:18.509930",
     "exception": false,
     "start_time": "2025-07-23T14:34:18.488340",
     "status": "completed"
    },
    "tags": []
   },
   "source": [
    "# Conformal Prediction"
   ]
  },
  {
   "cell_type": "code",
   "execution_count": 31,
   "id": "160ec6ff",
   "metadata": {
    "execution": {
     "iopub.execute_input": "2025-07-23T14:34:18.555536Z",
     "iopub.status.busy": "2025-07-23T14:34:18.554797Z",
     "iopub.status.idle": "2025-07-23T14:34:18.561360Z",
     "shell.execute_reply": "2025-07-23T14:34:18.560258Z"
    },
    "papermill": {
     "duration": 0.031767,
     "end_time": "2025-07-23T14:34:18.563438",
     "exception": false,
     "start_time": "2025-07-23T14:34:18.531671",
     "status": "completed"
    },
    "tags": []
   },
   "outputs": [],
   "source": [
    "# Miscoverage level for conformal prediction (10% allowed error rate => 90% target coverage)\n",
    "alpha = 0.1"
   ]
  },
  {
   "cell_type": "code",
   "execution_count": 32,
   "id": "eadf4555-3dd3-440e-8e35-f82a4ad9f855",
   "metadata": {
    "execution": {
     "iopub.execute_input": "2025-07-23T14:34:18.610651Z",
     "iopub.status.busy": "2025-07-23T14:34:18.610143Z",
     "iopub.status.idle": "2025-07-23T14:34:18.693594Z",
     "shell.execute_reply": "2025-07-23T14:34:18.692458Z"
    },
    "papermill": {
     "duration": 0.110439,
     "end_time": "2025-07-23T14:34:18.696991",
     "exception": false,
     "start_time": "2025-07-23T14:34:18.586552",
     "status": "completed"
    },
    "tags": []
   },
   "outputs": [],
   "source": [
    "probs_calib = model.predict_proba(X_calib)"
   ]
  },
  {
   "cell_type": "code",
   "execution_count": 33,
   "id": "2ed93547-6d5d-4983-9b36-1ecb300da49a",
   "metadata": {
    "execution": {
     "iopub.execute_input": "2025-07-23T14:34:18.742748Z",
     "iopub.status.busy": "2025-07-23T14:34:18.742238Z",
     "iopub.status.idle": "2025-07-23T14:34:18.748186Z",
     "shell.execute_reply": "2025-07-23T14:34:18.747056Z"
    },
    "papermill": {
     "duration": 0.03025,
     "end_time": "2025-07-23T14:34:18.750295",
     "exception": false,
     "start_time": "2025-07-23T14:34:18.720045",
     "status": "completed"
    },
    "tags": []
   },
   "outputs": [],
   "source": [
    "y_calib = y_calib.values.ravel().astype(int)"
   ]
  },
  {
   "cell_type": "code",
   "execution_count": 34,
   "id": "65d1320d-f588-4b38-9072-62af1ae97f7d",
   "metadata": {
    "execution": {
     "iopub.execute_input": "2025-07-23T14:34:18.796256Z",
     "iopub.status.busy": "2025-07-23T14:34:18.795349Z",
     "iopub.status.idle": "2025-07-23T14:34:18.803650Z",
     "shell.execute_reply": "2025-07-23T14:34:18.802864Z"
    },
    "papermill": {
     "duration": 0.033041,
     "end_time": "2025-07-23T14:34:18.805943",
     "exception": false,
     "start_time": "2025-07-23T14:34:18.772902",
     "status": "completed"
    },
    "tags": []
   },
   "outputs": [],
   "source": [
    "from fairness_multiverse.conformal import compute_nc_scores\n",
    "\n",
    "# Compute nonconformity scores on calibration set (1 - probability of true class)\n",
    "nc_scores = compute_nc_scores(probs_calib, y_calib)"
   ]
  },
  {
   "cell_type": "code",
   "execution_count": 35,
   "id": "df3b8ca3-53b7-43d5-9667-7c85da7aeda2",
   "metadata": {
    "execution": {
     "iopub.execute_input": "2025-07-23T14:34:18.851815Z",
     "iopub.status.busy": "2025-07-23T14:34:18.851312Z",
     "iopub.status.idle": "2025-07-23T14:34:18.857906Z",
     "shell.execute_reply": "2025-07-23T14:34:18.857130Z"
    },
    "papermill": {
     "duration": 0.031383,
     "end_time": "2025-07-23T14:34:18.859870",
     "exception": false,
     "start_time": "2025-07-23T14:34:18.828487",
     "status": "completed"
    },
    "tags": []
   },
   "outputs": [],
   "source": [
    "from fairness_multiverse.conformal import find_threshold\n",
    "\n",
    "# Find conformal threshold q_hat for the given alpha (split conformal method)\n",
    "q_hat = find_threshold(nc_scores, alpha)"
   ]
  },
  {
   "cell_type": "code",
   "execution_count": 36,
   "id": "4d29e6c1-0ef6-4aa4-b8fe-4fe79b0d033a",
   "metadata": {
    "execution": {
     "iopub.execute_input": "2025-07-23T14:34:18.904391Z",
     "iopub.status.busy": "2025-07-23T14:34:18.903899Z",
     "iopub.status.idle": "2025-07-23T14:34:18.911316Z",
     "shell.execute_reply": "2025-07-23T14:34:18.910437Z"
    },
    "papermill": {
     "duration": 0.03167,
     "end_time": "2025-07-23T14:34:18.912972",
     "exception": false,
     "start_time": "2025-07-23T14:34:18.881302",
     "status": "completed"
    },
    "tags": []
   },
   "outputs": [
    {
     "data": {
      "text/plain": [
       "0.668098115767289"
      ]
     },
     "execution_count": 36,
     "metadata": {},
     "output_type": "execute_result"
    }
   ],
   "source": [
    "q_hat"
   ]
  },
  {
   "cell_type": "code",
   "execution_count": 37,
   "id": "92460794-cdac-4be2-ba28-f28c0515a6fb",
   "metadata": {
    "execution": {
     "iopub.execute_input": "2025-07-23T14:34:18.947513Z",
     "iopub.status.busy": "2025-07-23T14:34:18.947133Z",
     "iopub.status.idle": "2025-07-23T14:34:19.845641Z",
     "shell.execute_reply": "2025-07-23T14:34:19.844472Z"
    },
    "papermill": {
     "duration": 0.922466,
     "end_time": "2025-07-23T14:34:19.847809",
     "exception": false,
     "start_time": "2025-07-23T14:34:18.925343",
     "status": "completed"
    },
    "tags": []
   },
   "outputs": [],
   "source": [
    "from fairness_multiverse.conformal import predict_conformal_sets\n",
    "\n",
    "# Generate prediction sets for each test example\n",
    "pred_sets = predict_conformal_sets(model, X_test, q_hat)"
   ]
  },
  {
   "cell_type": "code",
   "execution_count": 38,
   "id": "d90c9a65-e6db-4f5d-80cd-e68fb7e46829",
   "metadata": {
    "execution": {
     "iopub.execute_input": "2025-07-23T14:34:19.896466Z",
     "iopub.status.busy": "2025-07-23T14:34:19.895468Z",
     "iopub.status.idle": "2025-07-23T14:34:19.901761Z",
     "shell.execute_reply": "2025-07-23T14:34:19.900601Z"
    },
    "papermill": {
     "duration": 0.03227,
     "end_time": "2025-07-23T14:34:19.903784",
     "exception": false,
     "start_time": "2025-07-23T14:34:19.871514",
     "status": "completed"
    },
    "tags": []
   },
   "outputs": [],
   "source": [
    "y_true = y_true.squeeze()"
   ]
  },
  {
   "cell_type": "code",
   "execution_count": 39,
   "id": "3a58a54a-1e68-46b9-927a-df01f18aebc8",
   "metadata": {
    "execution": {
     "iopub.execute_input": "2025-07-23T14:34:19.953411Z",
     "iopub.status.busy": "2025-07-23T14:34:19.952446Z",
     "iopub.status.idle": "2025-07-23T14:34:20.899594Z",
     "shell.execute_reply": "2025-07-23T14:34:20.898820Z"
    },
    "papermill": {
     "duration": 0.972662,
     "end_time": "2025-07-23T14:34:20.901154",
     "exception": false,
     "start_time": "2025-07-23T14:34:19.928492",
     "status": "completed"
    },
    "tags": []
   },
   "outputs": [],
   "source": [
    "from fairness_multiverse.conformal import evaluate_sets\n",
    "\n",
    "# Evaluate coverage and average set size on test data\n",
    "metrics = evaluate_sets(pred_sets, y_true)"
   ]
  },
  {
   "cell_type": "code",
   "execution_count": 40,
   "id": "5ce0a5cb-201f-45a0-ade5-94c7f0bd6095",
   "metadata": {
    "execution": {
     "iopub.execute_input": "2025-07-23T14:34:20.924645Z",
     "iopub.status.busy": "2025-07-23T14:34:20.923942Z",
     "iopub.status.idle": "2025-07-23T14:34:20.930533Z",
     "shell.execute_reply": "2025-07-23T14:34:20.929727Z"
    },
    "papermill": {
     "duration": 0.019564,
     "end_time": "2025-07-23T14:34:20.931988",
     "exception": false,
     "start_time": "2025-07-23T14:34:20.912424",
     "status": "completed"
    },
    "tags": []
   },
   "outputs": [
    {
     "data": {
      "text/plain": [
       "{'coverage': 0.9124623787760562, 'avg_size': 1.218883067662468}"
      ]
     },
     "execution_count": 40,
     "metadata": {},
     "output_type": "execute_result"
    }
   ],
   "source": [
    "metrics"
   ]
  },
  {
   "cell_type": "code",
   "execution_count": 41,
   "id": "9b9a838d-31c9-430b-ae14-12baee460d17",
   "metadata": {
    "execution": {
     "iopub.execute_input": "2025-07-23T14:34:20.974679Z",
     "iopub.status.busy": "2025-07-23T14:34:20.974220Z",
     "iopub.status.idle": "2025-07-23T14:34:20.980944Z",
     "shell.execute_reply": "2025-07-23T14:34:20.979804Z"
    },
    "papermill": {
     "duration": 0.031562,
     "end_time": "2025-07-23T14:34:20.982741",
     "exception": false,
     "start_time": "2025-07-23T14:34:20.951179",
     "status": "completed"
    },
    "tags": []
   },
   "outputs": [],
   "source": [
    "example_universe = universe.copy()\n",
    "universe_model = example_universe.get(\"model\")\n",
    "universe_exclude_features = example_universe.get(\"exclude_features\")\n",
    "universe_exclude_subgroups = example_universe.get(\"exclude_subgroups\")\n",
    "universe_scale = example_universe.get(\"scale\")"
   ]
  },
  {
   "cell_type": "code",
   "execution_count": 42,
   "id": "f4b6a8ac-9dc0-4245-8a91-5b3b5999c4f9",
   "metadata": {
    "execution": {
     "iopub.execute_input": "2025-07-23T14:34:21.027659Z",
     "iopub.status.busy": "2025-07-23T14:34:21.027108Z",
     "iopub.status.idle": "2025-07-23T14:34:21.034089Z",
     "shell.execute_reply": "2025-07-23T14:34:21.033024Z"
    },
    "papermill": {
     "duration": 0.030681,
     "end_time": "2025-07-23T14:34:21.035887",
     "exception": false,
     "start_time": "2025-07-23T14:34:21.005206",
     "status": "completed"
    },
    "tags": []
   },
   "outputs": [],
   "source": [
    "cp_metrics_dict = {\n",
    "    \"universe_id\": [universe_id],\n",
    "    \"universe_model\": [universe_model],\n",
    "    \"universe_exclude_features\": [universe_exclude_features],\n",
    "    \"universe_exclude_subgroups\": [universe_exclude_subgroups],\n",
    "    \"universe_scale\": [universe_scale],\n",
    "    \"q_hat\": [q_hat],\n",
    "    \"coverage\": [metrics[\"coverage\"]],\n",
    "    \"avg_size\": [metrics[\"avg_size\"]],\n",
    "}"
   ]
  },
  {
   "cell_type": "code",
   "execution_count": 43,
   "id": "908acbb1-0371-4915-85ca-3fa520d2efe2",
   "metadata": {
    "execution": {
     "iopub.execute_input": "2025-07-23T14:34:21.066541Z",
     "iopub.status.busy": "2025-07-23T14:34:21.066143Z",
     "iopub.status.idle": "2025-07-23T14:34:21.073048Z",
     "shell.execute_reply": "2025-07-23T14:34:21.072041Z"
    },
    "papermill": {
     "duration": 0.022192,
     "end_time": "2025-07-23T14:34:21.074203",
     "exception": false,
     "start_time": "2025-07-23T14:34:21.052011",
     "status": "completed"
    },
    "tags": []
   },
   "outputs": [
    {
     "data": {
      "text/plain": [
       "{'universe_id': ['a485cfbef2a6a98b47ebbf81b69970f6'],\n",
       " 'universe_model': ['logreg'],\n",
       " 'universe_exclude_features': ['none'],\n",
       " 'universe_exclude_subgroups': ['drop-non-german'],\n",
       " 'universe_scale': ['do-not-scale'],\n",
       " 'q_hat': [0.668098115767289],\n",
       " 'coverage': [0.9124623787760562],\n",
       " 'avg_size': [1.218883067662468]}"
      ]
     },
     "execution_count": 43,
     "metadata": {},
     "output_type": "execute_result"
    }
   ],
   "source": [
    "cp_metrics_dict"
   ]
  },
  {
   "cell_type": "code",
   "execution_count": 44,
   "id": "33007efc-14e9-4ec6-97ac-56a455c82265",
   "metadata": {
    "execution": {
     "iopub.execute_input": "2025-07-23T14:34:21.097896Z",
     "iopub.status.busy": "2025-07-23T14:34:21.097520Z",
     "iopub.status.idle": "2025-07-23T14:34:21.103642Z",
     "shell.execute_reply": "2025-07-23T14:34:21.102783Z"
    },
    "papermill": {
     "duration": 0.019408,
     "end_time": "2025-07-23T14:34:21.105140",
     "exception": false,
     "start_time": "2025-07-23T14:34:21.085732",
     "status": "completed"
    },
    "tags": []
   },
   "outputs": [],
   "source": [
    "cp_metrics_df = pd.DataFrame(cp_metrics_dict)"
   ]
  },
  {
   "cell_type": "code",
   "execution_count": 45,
   "id": "db12611b-57b2-4910-b9d0-355adfd6e7bf",
   "metadata": {
    "execution": {
     "iopub.execute_input": "2025-07-23T14:34:21.129117Z",
     "iopub.status.busy": "2025-07-23T14:34:21.128528Z",
     "iopub.status.idle": "2025-07-23T14:34:21.145515Z",
     "shell.execute_reply": "2025-07-23T14:34:21.144768Z"
    },
    "papermill": {
     "duration": 0.030358,
     "end_time": "2025-07-23T14:34:21.146912",
     "exception": false,
     "start_time": "2025-07-23T14:34:21.116554",
     "status": "completed"
    },
    "tags": []
   },
   "outputs": [
    {
     "data": {
      "text/html": [
       "<div>\n",
       "<style scoped>\n",
       "    .dataframe tbody tr th:only-of-type {\n",
       "        vertical-align: middle;\n",
       "    }\n",
       "\n",
       "    .dataframe tbody tr th {\n",
       "        vertical-align: top;\n",
       "    }\n",
       "\n",
       "    .dataframe thead th {\n",
       "        text-align: right;\n",
       "    }\n",
       "</style>\n",
       "<table border=\"1\" class=\"dataframe\">\n",
       "  <thead>\n",
       "    <tr style=\"text-align: right;\">\n",
       "      <th></th>\n",
       "      <th>universe_id</th>\n",
       "      <th>universe_model</th>\n",
       "      <th>universe_exclude_features</th>\n",
       "      <th>universe_exclude_subgroups</th>\n",
       "      <th>universe_scale</th>\n",
       "      <th>q_hat</th>\n",
       "      <th>coverage</th>\n",
       "      <th>avg_size</th>\n",
       "    </tr>\n",
       "  </thead>\n",
       "  <tbody>\n",
       "    <tr>\n",
       "      <th>0</th>\n",
       "      <td>a485cfbef2a6a98b47ebbf81b69970f6</td>\n",
       "      <td>logreg</td>\n",
       "      <td>none</td>\n",
       "      <td>drop-non-german</td>\n",
       "      <td>do-not-scale</td>\n",
       "      <td>0.668098</td>\n",
       "      <td>0.912462</td>\n",
       "      <td>1.218883</td>\n",
       "    </tr>\n",
       "  </tbody>\n",
       "</table>\n",
       "</div>"
      ],
      "text/plain": [
       "                        universe_id universe_model universe_exclude_features  \\\n",
       "0  a485cfbef2a6a98b47ebbf81b69970f6         logreg                      none   \n",
       "\n",
       "  universe_exclude_subgroups universe_scale     q_hat  coverage  avg_size  \n",
       "0            drop-non-german   do-not-scale  0.668098  0.912462  1.218883  "
      ]
     },
     "execution_count": 45,
     "metadata": {},
     "output_type": "execute_result"
    }
   ],
   "source": [
    "cp_metrics_df"
   ]
  },
  {
   "cell_type": "code",
   "execution_count": 46,
   "id": "b7fbde55-a0a1-47e4-9af6-fe4a17fa8c61",
   "metadata": {
    "execution": {
     "iopub.execute_input": "2025-07-23T14:34:21.170998Z",
     "iopub.status.busy": "2025-07-23T14:34:21.170572Z",
     "iopub.status.idle": "2025-07-23T14:34:21.174786Z",
     "shell.execute_reply": "2025-07-23T14:34:21.173976Z"
    },
    "papermill": {
     "duration": 0.017606,
     "end_time": "2025-07-23T14:34:21.176177",
     "exception": false,
     "start_time": "2025-07-23T14:34:21.158571",
     "status": "completed"
    },
    "tags": []
   },
   "outputs": [],
   "source": [
    "# Conditional Coverage & looking at subgroups"
   ]
  },
  {
   "cell_type": "code",
   "execution_count": 47,
   "id": "027ae886-68dd-4141-96c7-805a5450e1ef",
   "metadata": {
    "execution": {
     "iopub.execute_input": "2025-07-23T14:34:21.200825Z",
     "iopub.status.busy": "2025-07-23T14:34:21.200219Z",
     "iopub.status.idle": "2025-07-23T14:34:21.447045Z",
     "shell.execute_reply": "2025-07-23T14:34:21.446030Z"
    },
    "papermill": {
     "duration": 0.260805,
     "end_time": "2025-07-23T14:34:21.448955",
     "exception": false,
     "start_time": "2025-07-23T14:34:21.188150",
     "status": "completed"
    },
    "tags": []
   },
   "outputs": [],
   "source": [
    "from fairness_multiverse.conformal import build_cp_groups\n",
    "\n",
    "cp_groups_df = build_cp_groups(pred_sets, y_true, X_test.index, org_test)\n",
    "#needs universe_id and setting"
   ]
  },
  {
   "cell_type": "code",
   "execution_count": 48,
   "id": "c3b92545-903e-4839-89af-0f057907d7d6",
   "metadata": {
    "execution": {
     "iopub.execute_input": "2025-07-23T14:34:21.494942Z",
     "iopub.status.busy": "2025-07-23T14:34:21.494468Z",
     "iopub.status.idle": "2025-07-23T14:34:22.718699Z",
     "shell.execute_reply": "2025-07-23T14:34:22.717605Z"
    },
    "papermill": {
     "duration": 1.250878,
     "end_time": "2025-07-23T14:34:22.720898",
     "exception": false,
     "start_time": "2025-07-23T14:34:21.470020",
     "status": "completed"
    },
    "tags": []
   },
   "outputs": [],
   "source": [
    "# Define covered = 1 if true_label is in the predicted set\n",
    "cp_groups_df['covered'] = cp_groups_df.apply(\n",
    "    lambda r: int(r['true_label'] in r['pred_set']),\n",
    "    axis=1\n",
    ")"
   ]
  },
  {
   "cell_type": "code",
   "execution_count": 49,
   "id": "338ff529-1a6b-4b87-a931-8e4788d52aad",
   "metadata": {
    "execution": {
     "iopub.execute_input": "2025-07-23T14:34:22.769507Z",
     "iopub.status.busy": "2025-07-23T14:34:22.769136Z",
     "iopub.status.idle": "2025-07-23T14:34:22.773596Z",
     "shell.execute_reply": "2025-07-23T14:34:22.772584Z"
    },
    "papermill": {
     "duration": 0.029524,
     "end_time": "2025-07-23T14:34:22.775614",
     "exception": false,
     "start_time": "2025-07-23T14:34:22.746090",
     "status": "completed"
    },
    "tags": []
   },
   "outputs": [],
   "source": [
    "#cp_groups_df"
   ]
  },
  {
   "cell_type": "code",
   "execution_count": 50,
   "id": "90032e27-66df-4540-9169-4e89cfbaa758",
   "metadata": {
    "execution": {
     "iopub.execute_input": "2025-07-23T14:34:22.824815Z",
     "iopub.status.busy": "2025-07-23T14:34:22.823762Z",
     "iopub.status.idle": "2025-07-23T14:34:22.836997Z",
     "shell.execute_reply": "2025-07-23T14:34:22.835910Z"
    },
    "papermill": {
     "duration": 0.039731,
     "end_time": "2025-07-23T14:34:22.839029",
     "exception": false,
     "start_time": "2025-07-23T14:34:22.799298",
     "status": "completed"
    },
    "tags": []
   },
   "outputs": [],
   "source": [
    "subgroups = ['frau1','nongerman','nongerman_male','nongerman_female']\n",
    "\n",
    "# Conditional coverage for subgroup==1\n",
    "cond_coverage = {\n",
    "    g: cp_groups_df.loc[cp_groups_df[g]==1, 'covered'].mean()\n",
    "    for g in subgroups\n",
    "}"
   ]
  },
  {
   "cell_type": "code",
   "execution_count": 51,
   "id": "1e348fb1-b9c3-45bc-ba23-f016827a7e0d",
   "metadata": {
    "execution": {
     "iopub.execute_input": "2025-07-23T14:34:22.889541Z",
     "iopub.status.busy": "2025-07-23T14:34:22.888358Z",
     "iopub.status.idle": "2025-07-23T14:34:22.894985Z",
     "shell.execute_reply": "2025-07-23T14:34:22.894166Z"
    },
    "papermill": {
     "duration": 0.033168,
     "end_time": "2025-07-23T14:34:22.896445",
     "exception": false,
     "start_time": "2025-07-23T14:34:22.863277",
     "status": "completed"
    },
    "tags": []
   },
   "outputs": [
    {
     "data": {
      "text/plain": [
       "{'frau1': 0.9118210001347891,\n",
       " 'nongerman': 0.9389210127435019,\n",
       " 'nongerman_male': 0.9500135098621995,\n",
       " 'nongerman_female': 0.9205663189269747}"
      ]
     },
     "execution_count": 51,
     "metadata": {},
     "output_type": "execute_result"
    }
   ],
   "source": [
    "cond_coverage"
   ]
  },
  {
   "cell_type": "code",
   "execution_count": 52,
   "id": "f5093324-c3dd-4d63-bc4c-8d945e5c8bbb",
   "metadata": {
    "execution": {
     "iopub.execute_input": "2025-07-23T14:34:22.922364Z",
     "iopub.status.busy": "2025-07-23T14:34:22.921987Z",
     "iopub.status.idle": "2025-07-23T14:34:22.928078Z",
     "shell.execute_reply": "2025-07-23T14:34:22.927243Z"
    },
    "papermill": {
     "duration": 0.02036,
     "end_time": "2025-07-23T14:34:22.929547",
     "exception": false,
     "start_time": "2025-07-23T14:34:22.909187",
     "status": "completed"
    },
    "tags": []
   },
   "outputs": [],
   "source": [
    "for subgroup, cov in cond_coverage.items():\n",
    "    cp_metrics_df[f\"cov_{subgroup}\"] = cov"
   ]
  },
  {
   "cell_type": "code",
   "execution_count": 53,
   "id": "6e872e10-dbe5-49e8-b554-5030c98ff75d",
   "metadata": {
    "execution": {
     "iopub.execute_input": "2025-07-23T14:34:22.955638Z",
     "iopub.status.busy": "2025-07-23T14:34:22.954941Z",
     "iopub.status.idle": "2025-07-23T14:34:22.969328Z",
     "shell.execute_reply": "2025-07-23T14:34:22.968480Z"
    },
    "papermill": {
     "duration": 0.028726,
     "end_time": "2025-07-23T14:34:22.970826",
     "exception": false,
     "start_time": "2025-07-23T14:34:22.942100",
     "status": "completed"
    },
    "tags": []
   },
   "outputs": [
    {
     "data": {
      "text/html": [
       "<div>\n",
       "<style scoped>\n",
       "    .dataframe tbody tr th:only-of-type {\n",
       "        vertical-align: middle;\n",
       "    }\n",
       "\n",
       "    .dataframe tbody tr th {\n",
       "        vertical-align: top;\n",
       "    }\n",
       "\n",
       "    .dataframe thead th {\n",
       "        text-align: right;\n",
       "    }\n",
       "</style>\n",
       "<table border=\"1\" class=\"dataframe\">\n",
       "  <thead>\n",
       "    <tr style=\"text-align: right;\">\n",
       "      <th></th>\n",
       "      <th>universe_id</th>\n",
       "      <th>universe_model</th>\n",
       "      <th>universe_exclude_features</th>\n",
       "      <th>universe_exclude_subgroups</th>\n",
       "      <th>universe_scale</th>\n",
       "      <th>q_hat</th>\n",
       "      <th>coverage</th>\n",
       "      <th>avg_size</th>\n",
       "      <th>cov_frau1</th>\n",
       "      <th>cov_nongerman</th>\n",
       "      <th>cov_nongerman_male</th>\n",
       "      <th>cov_nongerman_female</th>\n",
       "    </tr>\n",
       "  </thead>\n",
       "  <tbody>\n",
       "    <tr>\n",
       "      <th>0</th>\n",
       "      <td>a485cfbef2a6a98b47ebbf81b69970f6</td>\n",
       "      <td>logreg</td>\n",
       "      <td>none</td>\n",
       "      <td>drop-non-german</td>\n",
       "      <td>do-not-scale</td>\n",
       "      <td>0.668098</td>\n",
       "      <td>0.912462</td>\n",
       "      <td>1.218883</td>\n",
       "      <td>0.911821</td>\n",
       "      <td>0.938921</td>\n",
       "      <td>0.950014</td>\n",
       "      <td>0.920566</td>\n",
       "    </tr>\n",
       "  </tbody>\n",
       "</table>\n",
       "</div>"
      ],
      "text/plain": [
       "                        universe_id universe_model universe_exclude_features  \\\n",
       "0  a485cfbef2a6a98b47ebbf81b69970f6         logreg                      none   \n",
       "\n",
       "  universe_exclude_subgroups universe_scale     q_hat  coverage  avg_size  \\\n",
       "0            drop-non-german   do-not-scale  0.668098  0.912462  1.218883   \n",
       "\n",
       "   cov_frau1  cov_nongerman  cov_nongerman_male  cov_nongerman_female  \n",
       "0   0.911821       0.938921            0.950014              0.920566  "
      ]
     },
     "execution_count": 53,
     "metadata": {},
     "output_type": "execute_result"
    }
   ],
   "source": [
    "cp_metrics_df"
   ]
  },
  {
   "cell_type": "markdown",
   "id": "33774451",
   "metadata": {
    "papermill": {
     "duration": 0.011951,
     "end_time": "2025-07-23T14:34:22.995730",
     "exception": false,
     "start_time": "2025-07-23T14:34:22.983779",
     "status": "completed"
    },
    "tags": []
   },
   "source": [
    "# (Fairness) Metrics"
   ]
  },
  {
   "cell_type": "code",
   "execution_count": 54,
   "id": "debc5d62",
   "metadata": {
    "execution": {
     "iopub.execute_input": "2025-07-23T14:34:23.022142Z",
     "iopub.status.busy": "2025-07-23T14:34:23.021595Z",
     "iopub.status.idle": "2025-07-23T14:34:23.037392Z",
     "shell.execute_reply": "2025-07-23T14:34:23.036632Z"
    },
    "papermill": {
     "duration": 0.030534,
     "end_time": "2025-07-23T14:34:23.038874",
     "exception": false,
     "start_time": "2025-07-23T14:34:23.008340",
     "status": "completed"
    },
    "tags": []
   },
   "outputs": [],
   "source": [
    "# do I need to include maxdeutsch1.missing?\n",
    "\n",
    "import numpy as np\n",
    "\n",
    "colname_to_bin = \"maxdeutsch1\"\n",
    "majority_value = org_train[colname_to_bin].mode()[0]\n",
    "\n",
    "org_test[\"majmin\"] = np.where(org_test[colname_to_bin] == majority_value, \"majority\", \"minority\")"
   ]
  },
  {
   "cell_type": "code",
   "execution_count": 55,
   "id": "06a50de5",
   "metadata": {
    "execution": {
     "iopub.execute_input": "2025-07-23T14:34:23.090857Z",
     "iopub.status.busy": "2025-07-23T14:34:23.090272Z",
     "iopub.status.idle": "2025-07-23T14:34:25.245723Z",
     "shell.execute_reply": "2025-07-23T14:34:25.244681Z"
    },
    "papermill": {
     "duration": 2.183274,
     "end_time": "2025-07-23T14:34:25.247632",
     "exception": false,
     "start_time": "2025-07-23T14:34:23.064358",
     "status": "completed"
    },
    "tags": []
   },
   "outputs": [],
   "source": [
    "example_universe = universe.copy()\n",
    "example_universe[\"cutoff\"] = example_universe[\"cutoff\"][0]\n",
    "example_universe[\"eval_fairness_grouping\"] = example_universe[\"eval_fairness_grouping\"][0]\n",
    "fairness_dict, metric_frame = universe_analysis.compute_metrics(\n",
    "    example_universe,\n",
    "    y_pred_prob=probs_test,\n",
    "    y_test=y_true,\n",
    "    org_test=org_test,\n",
    ")"
   ]
  },
  {
   "cell_type": "markdown",
   "id": "f95d4e02",
   "metadata": {
    "papermill": {
     "duration": 0.022802,
     "end_time": "2025-07-23T14:34:25.293600",
     "exception": false,
     "start_time": "2025-07-23T14:34:25.270798",
     "status": "completed"
    },
    "tags": []
   },
   "source": [
    "# Overall"
   ]
  },
  {
   "cell_type": "markdown",
   "id": "bdee4871",
   "metadata": {
    "papermill": {
     "duration": 0.022574,
     "end_time": "2025-07-23T14:34:25.338976",
     "exception": false,
     "start_time": "2025-07-23T14:34:25.316402",
     "status": "completed"
    },
    "tags": []
   },
   "source": [
    "Fairness\n",
    "Main fairness target: Equalized Odds. Seems to be a better fit than equal opportunity, since we're not only interested in Y = 1. Seems to be a better fit than demographic parity, since we also care about accuracy, not just equal distribution of preds.\n",
    "\n",
    "Pick column for computation of fairness metrics\n",
    "\n",
    "Performance\n",
    "Overall performance measures, most interesting in relation to the measures split by group below"
   ]
  },
  {
   "cell_type": "code",
   "execution_count": 56,
   "id": "c4e067c6",
   "metadata": {
    "execution": {
     "iopub.execute_input": "2025-07-23T14:34:25.386092Z",
     "iopub.status.busy": "2025-07-23T14:34:25.385116Z",
     "iopub.status.idle": "2025-07-23T14:34:25.394464Z",
     "shell.execute_reply": "2025-07-23T14:34:25.393376Z"
    },
    "papermill": {
     "duration": 0.034024,
     "end_time": "2025-07-23T14:34:25.396121",
     "exception": false,
     "start_time": "2025-07-23T14:34:25.362097",
     "status": "completed"
    },
    "tags": []
   },
   "outputs": [
    {
     "data": {
      "text/plain": [
       "accuracy                   0.217735\n",
       "balanced accuracy          0.533783\n",
       "f1                         0.239249\n",
       "precision                  0.136675\n",
       "false positive rate        0.891333\n",
       "false negative rate        0.041102\n",
       "selection rate             0.900000\n",
       "count                  89710.000000\n",
       "dtype: float64"
      ]
     },
     "execution_count": 56,
     "metadata": {},
     "output_type": "execute_result"
    }
   ],
   "source": [
    "metric_frame.overall"
   ]
  },
  {
   "cell_type": "markdown",
   "id": "e968fe9d",
   "metadata": {
    "papermill": {
     "duration": 0.022265,
     "end_time": "2025-07-23T14:34:25.441675",
     "exception": false,
     "start_time": "2025-07-23T14:34:25.419410",
     "status": "completed"
    },
    "tags": []
   },
   "source": [
    "By Group"
   ]
  },
  {
   "cell_type": "code",
   "execution_count": 57,
   "id": "ec325bce",
   "metadata": {
    "execution": {
     "iopub.execute_input": "2025-07-23T14:34:25.569559Z",
     "iopub.status.busy": "2025-07-23T14:34:25.568988Z",
     "iopub.status.idle": "2025-07-23T14:34:25.587557Z",
     "shell.execute_reply": "2025-07-23T14:34:25.586416Z"
    },
    "papermill": {
     "duration": 0.125583,
     "end_time": "2025-07-23T14:34:25.589632",
     "exception": false,
     "start_time": "2025-07-23T14:34:25.464049",
     "status": "completed"
    },
    "tags": []
   },
   "outputs": [
    {
     "data": {
      "text/html": [
       "<div>\n",
       "<style scoped>\n",
       "    .dataframe tbody tr th:only-of-type {\n",
       "        vertical-align: middle;\n",
       "    }\n",
       "\n",
       "    .dataframe tbody tr th {\n",
       "        vertical-align: top;\n",
       "    }\n",
       "\n",
       "    .dataframe thead th {\n",
       "        text-align: right;\n",
       "    }\n",
       "</style>\n",
       "<table border=\"1\" class=\"dataframe\">\n",
       "  <thead>\n",
       "    <tr style=\"text-align: right;\">\n",
       "      <th></th>\n",
       "      <th>accuracy</th>\n",
       "      <th>balanced accuracy</th>\n",
       "      <th>f1</th>\n",
       "      <th>precision</th>\n",
       "      <th>false positive rate</th>\n",
       "      <th>false negative rate</th>\n",
       "      <th>selection rate</th>\n",
       "      <th>count</th>\n",
       "    </tr>\n",
       "    <tr>\n",
       "      <th>majmin</th>\n",
       "      <th></th>\n",
       "      <th></th>\n",
       "      <th></th>\n",
       "      <th></th>\n",
       "      <th></th>\n",
       "      <th></th>\n",
       "      <th></th>\n",
       "      <th></th>\n",
       "    </tr>\n",
       "  </thead>\n",
       "  <tbody>\n",
       "    <tr>\n",
       "      <th>majority</th>\n",
       "      <td>0.240610</td>\n",
       "      <td>0.541903</td>\n",
       "      <td>0.248745</td>\n",
       "      <td>0.143076</td>\n",
       "      <td>0.867616</td>\n",
       "      <td>0.048578</td>\n",
       "      <td>0.878690</td>\n",
       "      <td>69170.0</td>\n",
       "    </tr>\n",
       "    <tr>\n",
       "      <th>minority</th>\n",
       "      <td>0.140701</td>\n",
       "      <td>0.509037</td>\n",
       "      <td>0.209513</td>\n",
       "      <td>0.117184</td>\n",
       "      <td>0.969679</td>\n",
       "      <td>0.012247</td>\n",
       "      <td>0.971762</td>\n",
       "      <td>20540.0</td>\n",
       "    </tr>\n",
       "  </tbody>\n",
       "</table>\n",
       "</div>"
      ],
      "text/plain": [
       "          accuracy  balanced accuracy        f1  precision  \\\n",
       "majmin                                                       \n",
       "majority  0.240610           0.541903  0.248745   0.143076   \n",
       "minority  0.140701           0.509037  0.209513   0.117184   \n",
       "\n",
       "          false positive rate  false negative rate  selection rate    count  \n",
       "majmin                                                                       \n",
       "majority             0.867616             0.048578        0.878690  69170.0  \n",
       "minority             0.969679             0.012247        0.971762  20540.0  "
      ]
     },
     "execution_count": 57,
     "metadata": {},
     "output_type": "execute_result"
    }
   ],
   "source": [
    "metric_frame.by_group"
   ]
  },
  {
   "cell_type": "code",
   "execution_count": 58,
   "id": "a9ddbe63",
   "metadata": {
    "execution": {
     "iopub.execute_input": "2025-07-23T14:34:25.636157Z",
     "iopub.status.busy": "2025-07-23T14:34:25.635791Z",
     "iopub.status.idle": "2025-07-23T14:34:28.373745Z",
     "shell.execute_reply": "2025-07-23T14:34:28.372502Z"
    },
    "papermill": {
     "duration": 2.76254,
     "end_time": "2025-07-23T14:34:28.375582",
     "exception": false,
     "start_time": "2025-07-23T14:34:25.613042",
     "status": "completed"
    },
    "tags": []
   },
   "outputs": [
    {
     "data": {
      "text/plain": [
       "array([[<Axes: title={'center': 'accuracy'}, xlabel='majmin'>,\n",
       "        <Axes: title={'center': 'balanced accuracy'}, xlabel='majmin'>,\n",
       "        <Axes: title={'center': 'f1'}, xlabel='majmin'>],\n",
       "       [<Axes: title={'center': 'precision'}, xlabel='majmin'>,\n",
       "        <Axes: title={'center': 'false positive rate'}, xlabel='majmin'>,\n",
       "        <Axes: title={'center': 'false negative rate'}, xlabel='majmin'>],\n",
       "       [<Axes: title={'center': 'selection rate'}, xlabel='majmin'>,\n",
       "        <Axes: title={'center': 'count'}, xlabel='majmin'>,\n",
       "        <Axes: xlabel='majmin'>]], dtype=object)"
      ]
     },
     "execution_count": 58,
     "metadata": {},
     "output_type": "execute_result"
    },
    {
     "data": {
      "image/png": "[encoded data removed]",
      "text/plain": [
       "<Figure size 1200x800 with 9 Axes>"
      ]
     },
     "metadata": {},
     "output_type": "display_data"
    }
   ],
   "source": [
    "# In a graphic\n",
    "metric_frame.by_group.plot.bar(\n",
    "    subplots=True,\n",
    "    layout=[3, 3],\n",
    "    legend=False,\n",
    "    figsize=[12, 8],\n",
    "    title=\"Show all metrics\",\n",
    ")"
   ]
  },
  {
   "cell_type": "markdown",
   "id": "f57a0bac",
   "metadata": {
    "papermill": {
     "duration": 0.02477,
     "end_time": "2025-07-23T14:34:28.427899",
     "exception": false,
     "start_time": "2025-07-23T14:34:28.403129",
     "status": "completed"
    },
    "tags": []
   },
   "source": [
    "# Final Output"
   ]
  },
  {
   "cell_type": "code",
   "execution_count": 59,
   "id": "96d280a3",
   "metadata": {
    "execution": {
     "iopub.execute_input": "2025-07-23T14:34:28.481665Z",
     "iopub.status.busy": "2025-07-23T14:34:28.480474Z",
     "iopub.status.idle": "2025-07-23T14:34:28.494214Z",
     "shell.execute_reply": "2025-07-23T14:34:28.492774Z"
    },
    "papermill": {
     "duration": 0.043248,
     "end_time": "2025-07-23T14:34:28.496338",
     "exception": false,
     "start_time": "2025-07-23T14:34:28.453090",
     "status": "completed"
    },
    "tags": []
   },
   "outputs": [
    {
     "data": {
      "text/plain": [
       "4"
      ]
     },
     "execution_count": 59,
     "metadata": {},
     "output_type": "execute_result"
    }
   ],
   "source": [
    "sub_universes = universe_analysis.generate_sub_universes()\n",
    "len(sub_universes)"
   ]
  },
  {
   "cell_type": "code",
   "execution_count": 60,
   "id": "92adf7ba",
   "metadata": {
    "execution": {
     "iopub.execute_input": "2025-07-23T14:34:28.550973Z",
     "iopub.status.busy": "2025-07-23T14:34:28.550195Z",
     "iopub.status.idle": "2025-07-23T14:34:28.558311Z",
     "shell.execute_reply": "2025-07-23T14:34:28.557124Z"
    },
    "papermill": {
     "duration": 0.037608,
     "end_time": "2025-07-23T14:34:28.560358",
     "exception": false,
     "start_time": "2025-07-23T14:34:28.522750",
     "status": "completed"
    },
    "tags": []
   },
   "outputs": [],
   "source": [
    "def filter_sub_universe_data(sub_universe, org_test):\n",
    "    # Keep all rows — no filtering\n",
    "    keep_rows_mask = np.ones(org_test.shape[0], dtype=bool)\n",
    "\n",
    "    print(f\"[INFO] Keeping all rows: {keep_rows_mask.sum()} rows retained.\")\n",
    "    return keep_rows_mask"
   ]
  },
  {
   "cell_type": "code",
   "execution_count": 61,
   "id": "4a759155",
   "metadata": {
    "execution": {
     "iopub.execute_input": "2025-07-23T14:34:28.615311Z",
     "iopub.status.busy": "2025-07-23T14:34:28.614611Z",
     "iopub.status.idle": "2025-07-23T14:34:39.445166Z",
     "shell.execute_reply": "2025-07-23T14:34:39.443915Z"
    },
    "papermill": {
     "duration": 10.860359,
     "end_time": "2025-07-23T14:34:39.447176",
     "exception": false,
     "start_time": "2025-07-23T14:34:28.586817",
     "status": "completed"
    },
    "tags": []
   },
   "outputs": [
    {
     "name": "stdout",
     "output_type": "stream",
     "text": [
      "Stopping execution_time clock.\n",
      "[INFO] Keeping all rows: 89710 rows retained.\n"
     ]
    },
    {
     "name": "stdout",
     "output_type": "stream",
     "text": [
      "[INFO] Keeping all rows: 89710 rows retained.\n"
     ]
    },
    {
     "name": "stdout",
     "output_type": "stream",
     "text": [
      "[INFO] Keeping all rows: 89710 rows retained.\n"
     ]
    },
    {
     "name": "stdout",
     "output_type": "stream",
     "text": [
      "[INFO] Keeping all rows: 89710 rows retained.\n"
     ]
    },
    {
     "data": {
      "text/html": [
       "<div>\n",
       "<style scoped>\n",
       "    .dataframe tbody tr th:only-of-type {\n",
       "        vertical-align: middle;\n",
       "    }\n",
       "\n",
       "    .dataframe tbody tr th {\n",
       "        vertical-align: top;\n",
       "    }\n",
       "\n",
       "    .dataframe thead th {\n",
       "        text-align: right;\n",
       "    }\n",
       "</style>\n",
       "<table border=\"1\" class=\"dataframe\">\n",
       "  <thead>\n",
       "    <tr style=\"text-align: right;\">\n",
       "      <th></th>\n",
       "      <th>run_no</th>\n",
       "      <th>universe_id</th>\n",
       "      <th>universe_settings</th>\n",
       "      <th>execution_time</th>\n",
       "      <th>test_size_n</th>\n",
       "      <th>test_size_frac</th>\n",
       "      <th>fair_main_equalized_odds_difference</th>\n",
       "      <th>fair_main_equalized_odds_ratio</th>\n",
       "      <th>fair_main_demographic_parity_difference</th>\n",
       "      <th>fair_main_demographic_parity_ratio</th>\n",
       "      <th>...</th>\n",
       "      <th>perf_grp_precision_0</th>\n",
       "      <th>perf_grp_precision_1</th>\n",
       "      <th>perf_grp_false positive rate_0</th>\n",
       "      <th>perf_grp_false positive rate_1</th>\n",
       "      <th>perf_grp_false negative rate_0</th>\n",
       "      <th>perf_grp_false negative rate_1</th>\n",
       "      <th>perf_grp_selection rate_0</th>\n",
       "      <th>perf_grp_selection rate_1</th>\n",
       "      <th>perf_grp_count_0</th>\n",
       "      <th>perf_grp_count_1</th>\n",
       "    </tr>\n",
       "  </thead>\n",
       "  <tbody>\n",
       "    <tr>\n",
       "      <th>0</th>\n",
       "      <td>9</td>\n",
       "      <td>a485cfbef2a6a98b47ebbf81b69970f6</td>\n",
       "      <td>{\"cutoff\": \"quantile_0.1\", \"eval_fairness_grou...</td>\n",
       "      <td>18.882972</td>\n",
       "      <td>89710</td>\n",
       "      <td>1.0</td>\n",
       "      <td>0.102062</td>\n",
       "      <td>0.894746</td>\n",
       "      <td>0.093072</td>\n",
       "      <td>0.904223</td>\n",
       "      <td>...</td>\n",
       "      <td>NaN</td>\n",
       "      <td>NaN</td>\n",
       "      <td>NaN</td>\n",
       "      <td>NaN</td>\n",
       "      <td>NaN</td>\n",
       "      <td>NaN</td>\n",
       "      <td>NaN</td>\n",
       "      <td>NaN</td>\n",
       "      <td>NaN</td>\n",
       "      <td>NaN</td>\n",
       "    </tr>\n",
       "    <tr>\n",
       "      <th>0</th>\n",
       "      <td>9</td>\n",
       "      <td>a485cfbef2a6a98b47ebbf81b69970f6</td>\n",
       "      <td>{\"cutoff\": \"quantile_0.1\", \"eval_fairness_grou...</td>\n",
       "      <td>18.882972</td>\n",
       "      <td>89710</td>\n",
       "      <td>1.0</td>\n",
       "      <td>0.102062</td>\n",
       "      <td>0.894746</td>\n",
       "      <td>0.093072</td>\n",
       "      <td>0.904223</td>\n",
       "      <td>...</td>\n",
       "      <td>0.117184</td>\n",
       "      <td>0.143076</td>\n",
       "      <td>0.969679</td>\n",
       "      <td>0.867616</td>\n",
       "      <td>0.012247</td>\n",
       "      <td>0.048578</td>\n",
       "      <td>0.971762</td>\n",
       "      <td>0.87869</td>\n",
       "      <td>20540.0</td>\n",
       "      <td>69170.0</td>\n",
       "    </tr>\n",
       "    <tr>\n",
       "      <th>0</th>\n",
       "      <td>9</td>\n",
       "      <td>a485cfbef2a6a98b47ebbf81b69970f6</td>\n",
       "      <td>{\"cutoff\": \"quantile_0.25\", \"eval_fairness_gro...</td>\n",
       "      <td>18.882972</td>\n",
       "      <td>89710</td>\n",
       "      <td>1.0</td>\n",
       "      <td>0.227979</td>\n",
       "      <td>0.748110</td>\n",
       "      <td>0.209009</td>\n",
       "      <td>0.770609</td>\n",
       "      <td>...</td>\n",
       "      <td>NaN</td>\n",
       "      <td>NaN</td>\n",
       "      <td>NaN</td>\n",
       "      <td>NaN</td>\n",
       "      <td>NaN</td>\n",
       "      <td>NaN</td>\n",
       "      <td>NaN</td>\n",
       "      <td>NaN</td>\n",
       "      <td>NaN</td>\n",
       "      <td>NaN</td>\n",
       "    </tr>\n",
       "    <tr>\n",
       "      <th>0</th>\n",
       "      <td>9</td>\n",
       "      <td>a485cfbef2a6a98b47ebbf81b69970f6</td>\n",
       "      <td>{\"cutoff\": \"quantile_0.25\", \"eval_fairness_gro...</td>\n",
       "      <td>18.882972</td>\n",
       "      <td>89710</td>\n",
       "      <td>1.0</td>\n",
       "      <td>0.227979</td>\n",
       "      <td>0.748110</td>\n",
       "      <td>0.209009</td>\n",
       "      <td>0.770609</td>\n",
       "      <td>...</td>\n",
       "      <td>0.121186</td>\n",
       "      <td>0.163094</td>\n",
       "      <td>0.905074</td>\n",
       "      <td>0.677095</td>\n",
       "      <td>0.042230</td>\n",
       "      <td>0.133370</td>\n",
       "      <td>0.911149</td>\n",
       "      <td>0.70214</td>\n",
       "      <td>20540.0</td>\n",
       "      <td>69170.0</td>\n",
       "    </tr>\n",
       "  </tbody>\n",
       "</table>\n",
       "<p>4 rows × 50 columns</p>\n",
       "</div>"
      ],
      "text/plain": [
       "  run_no                       universe_id  \\\n",
       "0      9  a485cfbef2a6a98b47ebbf81b69970f6   \n",
       "0      9  a485cfbef2a6a98b47ebbf81b69970f6   \n",
       "0      9  a485cfbef2a6a98b47ebbf81b69970f6   \n",
       "0      9  a485cfbef2a6a98b47ebbf81b69970f6   \n",
       "\n",
       "                                   universe_settings  execution_time  \\\n",
       "0  {\"cutoff\": \"quantile_0.1\", \"eval_fairness_grou...       18.882972   \n",
       "0  {\"cutoff\": \"quantile_0.1\", \"eval_fairness_grou...       18.882972   \n",
       "0  {\"cutoff\": \"quantile_0.25\", \"eval_fairness_gro...       18.882972   \n",
       "0  {\"cutoff\": \"quantile_0.25\", \"eval_fairness_gro...       18.882972   \n",
       "\n",
       "   test_size_n  test_size_frac  fair_main_equalized_odds_difference  \\\n",
       "0        89710             1.0                             0.102062   \n",
       "0        89710             1.0                             0.102062   \n",
       "0        89710             1.0                             0.227979   \n",
       "0        89710             1.0                             0.227979   \n",
       "\n",
       "   fair_main_equalized_odds_ratio  fair_main_demographic_parity_difference  \\\n",
       "0                        0.894746                                 0.093072   \n",
       "0                        0.894746                                 0.093072   \n",
       "0                        0.748110                                 0.209009   \n",
       "0                        0.748110                                 0.209009   \n",
       "\n",
       "   fair_main_demographic_parity_ratio  ...  perf_grp_precision_0  \\\n",
       "0                            0.904223  ...                   NaN   \n",
       "0                            0.904223  ...              0.117184   \n",
       "0                            0.770609  ...                   NaN   \n",
       "0                            0.770609  ...              0.121186   \n",
       "\n",
       "   perf_grp_precision_1  perf_grp_false positive rate_0  \\\n",
       "0                   NaN                             NaN   \n",
       "0              0.143076                        0.969679   \n",
       "0                   NaN                             NaN   \n",
       "0              0.163094                        0.905074   \n",
       "\n",
       "   perf_grp_false positive rate_1  perf_grp_false negative rate_0  \\\n",
       "0                             NaN                             NaN   \n",
       "0                        0.867616                        0.012247   \n",
       "0                             NaN                             NaN   \n",
       "0                        0.677095                        0.042230   \n",
       "\n",
       "   perf_grp_false negative rate_1  perf_grp_selection rate_0  \\\n",
       "0                             NaN                        NaN   \n",
       "0                        0.048578                   0.971762   \n",
       "0                             NaN                        NaN   \n",
       "0                        0.133370                   0.911149   \n",
       "\n",
       "   perf_grp_selection rate_1  perf_grp_count_0  perf_grp_count_1  \n",
       "0                        NaN               NaN               NaN  \n",
       "0                    0.87869           20540.0           69170.0  \n",
       "0                        NaN               NaN               NaN  \n",
       "0                    0.70214           20540.0           69170.0  \n",
       "\n",
       "[4 rows x 50 columns]"
      ]
     },
     "execution_count": 61,
     "metadata": {},
     "output_type": "execute_result"
    }
   ],
   "source": [
    "final_output = universe_analysis.generate_final_output(\n",
    "    y_pred_prob=probs_test,\n",
    "    y_test=y_true,\n",
    "    org_test=org_test,\n",
    "    filter_data=filter_sub_universe_data,\n",
    "    cp_metrics_df=cp_metrics_df,\n",
    "    save=True,\n",
    ")\n",
    "final_output"
   ]
  },
  {
   "cell_type": "code",
   "execution_count": null,
   "id": "721ff514-cb11-46f8-b6fc-50392f74b5cb",
   "metadata": {
    "papermill": {
     "duration": 0.027976,
     "end_time": "2025-07-23T14:34:39.501728",
     "exception": false,
     "start_time": "2025-07-23T14:34:39.473752",
     "status": "completed"
    },
    "tags": []
   },
   "outputs": [],
   "source": []
  }
 ],
 "metadata": {
  "celltoolbar": "Tags",
  "kernelspec": {
   "display_name": "Python (CMA Fairness)",
   "language": "python",
   "name": "cma_fair_env"
  },
  "language_info": {
   "codemirror_mode": {
    "name": "ipython",
    "version": 3
   },
   "file_extension": ".py",
   "mimetype": "text/x-python",
   "name": "python",
   "nbconvert_exporter": "python",
   "pygments_lexer": "ipython3",
   "version": "3.10.12"
  },
  "papermill": {
   "default_parameters": {},
   "duration": 34.246107,
   "end_time": "2025-07-23T14:34:40.448694",
   "environment_variables": {},
   "exception": null,
   "input_path": "universe_analysis.ipynb",
   "output_path": "output/runs/9/notebooks/m_9-a485cfbef2a6a98b47ebbf81b69970f6.ipynb",
   "parameters": {
    "output_dir": "output",
    "run_no": "9",
    "seed": "2023",
    "universe": "{\"cutoff\": [\"quantile_0.1\", \"quantile_0.25\"], \"eval_fairness_grouping\": [\"majority-minority\", \"nationality-all\"], \"exclude_features\": \"none\", \"exclude_subgroups\": \"drop-non-german\", \"model\": \"logreg\", \"scale\": \"do-not-scale\"}",
    "universe_id": "a485cfbef2a6a98b47ebbf81b69970f6"
   },
   "start_time": "2025-07-23T14:34:06.202587",
   "version": "2.6.0"
  }
 },
 "nbformat": 4,
 "nbformat_minor": 5
}