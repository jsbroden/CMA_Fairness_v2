{
 "cells": [
  {
   "cell_type": "code",
   "execution_count": 1,
   "id": "f159f837-637b-42ba-96b5-ec9a68c44524",
   "metadata": {
    "execution": {
     "iopub.execute_input": "2025-07-23T14:36:18.170645Z",
     "iopub.status.busy": "2025-07-23T14:36:18.170134Z",
     "iopub.status.idle": "2025-07-23T14:36:18.189547Z",
     "shell.execute_reply": "2025-07-23T14:36:18.188355Z"
    },
    "papermill": {
     "duration": 0.044393,
     "end_time": "2025-07-23T14:36:18.191839",
     "exception": false,
     "start_time": "2025-07-23T14:36:18.147446",
     "status": "completed"
    },
    "tags": []
   },
   "outputs": [
    {
     "name": "stdout",
     "output_type": "stream",
     "text": [
      "/dss/dsshome1/0C/ra93lal2/cma/CMA_Fairness_v2\n"
     ]
    },
    {
     "name": "stderr",
     "output_type": "stream",
     "text": [
      "/dss/dsshome1/0C/ra93lal2/.local/share/virtualenvs/CMA_Fairness_v2-3j10GkSs/lib/python3.10/site-packages/IPython/core/magics/osm.py:393: UserWarning: This is now an optional IPython functionality, using bookmarks requires you to install the `pickleshare` library.\n",
      "  bkms = self.shell.db.get('bookmarks', {})\n",
      "/dss/dsshome1/0C/ra93lal2/.local/share/virtualenvs/CMA_Fairness_v2-3j10GkSs/lib/python3.10/site-packages/IPython/core/magics/osm.py:417: UserWarning: This is now an optional IPython functionality, setting dhist requires you to install the `pickleshare` library.\n",
      "  self.shell.db['dhist'] = compress_dhist(dhist)[-100:]\n"
     ]
    }
   ],
   "source": [
    "%cd ~/cma/CMA_Fairness_v2"
   ]
  },
  {
   "cell_type": "markdown",
   "id": "de2603b9",
   "metadata": {
    "papermill": {
     "duration": 0.017531,
     "end_time": "2025-07-23T14:36:18.322179",
     "exception": false,
     "start_time": "2025-07-23T14:36:18.304648",
     "status": "completed"
    },
    "tags": []
   },
   "source": [
    "The following cell holds the definition of our parameters, these values can be overriden by rendering the with e.g. the following command:\n",
    "\n",
    "papermill -p alpha 0.2 -p ratio 0.3 universe_analysis.ipynb output/test_run.ipynb"
   ]
  },
  {
   "cell_type": "code",
   "execution_count": 2,
   "id": "a80968a0-40bb-4fa9-85ef-2d5eefb01975",
   "metadata": {
    "execution": {
     "iopub.execute_input": "2025-07-23T14:36:18.375595Z",
     "iopub.status.busy": "2025-07-23T14:36:18.375128Z",
     "iopub.status.idle": "2025-07-23T14:36:18.381412Z",
     "shell.execute_reply": "2025-07-23T14:36:18.380213Z"
    },
    "papermill": {
     "duration": 0.044004,
     "end_time": "2025-07-23T14:36:18.383514",
     "exception": false,
     "start_time": "2025-07-23T14:36:18.339510",
     "status": "completed"
    },
    "tags": []
   },
   "outputs": [
    {
     "name": "stdout",
     "output_type": "stream",
     "text": [
      "Current working directory: /dss/dsshome1/0C/ra93lal2/cma/CMA_Fairness_v2\n"
     ]
    }
   ],
   "source": [
    "import os\n",
    "print(\"Current working directory:\", os.getcwd())"
   ]
  },
  {
   "cell_type": "code",
   "execution_count": 3,
   "id": "2dce4c03",
   "metadata": {
    "execution": {
     "iopub.execute_input": "2025-07-23T14:36:18.463856Z",
     "iopub.status.busy": "2025-07-23T14:36:18.463392Z",
     "iopub.status.idle": "2025-07-23T14:36:18.471124Z",
     "shell.execute_reply": "2025-07-23T14:36:18.469873Z"
    },
    "papermill": {
     "duration": 0.046757,
     "end_time": "2025-07-23T14:36:18.473119",
     "exception": false,
     "start_time": "2025-07-23T14:36:18.426362",
     "status": "completed"
    },
    "tags": [
     "parameters"
    ]
   },
   "outputs": [],
   "source": [
    "run_no = 0\n",
    "universe_id = \"test\"\n",
    "universe = {\n",
    "    \"scale\": \"scale\", # \"scale\", \"do-not-scale\",\n",
    "    \"model\": \"elasticnet\", # \"logreg\", \"penalized_logreg\", \"rf\", \"gbm\", \"elasticnet\"\n",
    "    \"cutoff\": [\"quantile_0.15\", \"quantile_0.30\"],\n",
    "    \"exclude_features\": \"age\", # \"none\", \"nationality\", \"sex\", \"nationality-sex\", \"age\"\n",
    "    \"exclude_subgroups\": \"keep-all\", # \"keep-all\", \"drop-non-german\"\n",
    "    #\"training_sample\": \"restricted\", # \"restricted\", \"full\"\n",
    "    \"eval_fairness_grouping\": [\"majority-minority\", \"nationality-all\"]\n",
    "}\n",
    "\n",
    "output_dir=\"./output\"\n",
    "seed=0"
   ]
  },
  {
   "cell_type": "code",
   "execution_count": 4,
   "id": "f3cf3849",
   "metadata": {
    "execution": {
     "iopub.execute_input": "2025-07-23T14:36:18.561345Z",
     "iopub.status.busy": "2025-07-23T14:36:18.560886Z",
     "iopub.status.idle": "2025-07-23T14:36:18.567435Z",
     "shell.execute_reply": "2025-07-23T14:36:18.566147Z"
    },
    "papermill": {
     "duration": 0.045046,
     "end_time": "2025-07-23T14:36:18.570113",
     "exception": false,
     "start_time": "2025-07-23T14:36:18.525067",
     "status": "completed"
    },
    "tags": [
     "injected-parameters"
    ]
   },
   "outputs": [],
   "source": [
    "# Parameters\n",
    "universe_id = \"de6d55feceb94a23585f9ab70ec712e7\"\n",
    "run_no = \"9\"\n",
    "universe = \"{\\\"cutoff\\\": [\\\"quantile_0.1\\\", \\\"quantile_0.25\\\"], \\\"eval_fairness_grouping\\\": [\\\"majority-minority\\\", \\\"nationality-all\\\"], \\\"exclude_features\\\": \\\"sex\\\", \\\"exclude_subgroups\\\": \\\"keep-all\\\", \\\"model\\\": \\\"rf\\\", \\\"scale\\\": \\\"do-not-scale\\\"}\"\n",
    "output_dir = \"output\"\n",
    "seed = \"2023\"\n"
   ]
  },
  {
   "cell_type": "code",
   "execution_count": 5,
   "id": "1650acaf",
   "metadata": {
    "execution": {
     "iopub.execute_input": "2025-07-23T14:36:18.655254Z",
     "iopub.status.busy": "2025-07-23T14:36:18.654787Z",
     "iopub.status.idle": "2025-07-23T14:36:18.661015Z",
     "shell.execute_reply": "2025-07-23T14:36:18.659853Z"
    },
    "papermill": {
     "duration": 0.056096,
     "end_time": "2025-07-23T14:36:18.662860",
     "exception": false,
     "start_time": "2025-07-23T14:36:18.606764",
     "status": "completed"
    },
    "tags": []
   },
   "outputs": [],
   "source": [
    "import json\n",
    "# Parse universe into dict if it is passed as a string\n",
    "if isinstance(universe, str):\n",
    "    universe = json.loads(universe)"
   ]
  },
  {
   "cell_type": "code",
   "execution_count": 6,
   "id": "16620c48",
   "metadata": {
    "execution": {
     "iopub.execute_input": "2025-07-23T14:36:18.719874Z",
     "iopub.status.busy": "2025-07-23T14:36:18.719404Z",
     "iopub.status.idle": "2025-07-23T14:36:18.780266Z",
     "shell.execute_reply": "2025-07-23T14:36:18.778746Z"
    },
    "papermill": {
     "duration": 0.083964,
     "end_time": "2025-07-23T14:36:18.782868",
     "exception": false,
     "start_time": "2025-07-23T14:36:18.698904",
     "status": "completed"
    },
    "tags": []
   },
   "outputs": [],
   "source": [
    "# Auto-reload the custom package\n",
    "%load_ext autoreload\n",
    "%autoreload 1\n",
    "%aimport fairness_multiverse"
   ]
  },
  {
   "cell_type": "code",
   "execution_count": 7,
   "id": "01c5c9f3",
   "metadata": {
    "execution": {
     "iopub.execute_input": "2025-07-23T14:36:18.825935Z",
     "iopub.status.busy": "2025-07-23T14:36:18.825461Z",
     "iopub.status.idle": "2025-07-23T14:36:22.931367Z",
     "shell.execute_reply": "2025-07-23T14:36:22.930060Z"
    },
    "papermill": {
     "duration": 4.130604,
     "end_time": "2025-07-23T14:36:22.933729",
     "exception": false,
     "start_time": "2025-07-23T14:36:18.803125",
     "status": "completed"
    },
    "tags": []
   },
   "outputs": [],
   "source": [
    "from fairness_multiverse.universe import UniverseAnalysis\n",
    "\n",
    "universe_analysis = UniverseAnalysis(\n",
    "    run_no = run_no,\n",
    "    universe_id = universe_id,\n",
    "    universe = universe,\n",
    "    output_dir=output_dir,\n",
    ")"
   ]
  },
  {
   "cell_type": "code",
   "execution_count": 8,
   "id": "106241f5",
   "metadata": {
    "execution": {
     "iopub.execute_input": "2025-07-23T14:36:23.005762Z",
     "iopub.status.busy": "2025-07-23T14:36:23.005302Z",
     "iopub.status.idle": "2025-07-23T14:36:23.013246Z",
     "shell.execute_reply": "2025-07-23T14:36:23.012123Z"
    },
    "papermill": {
     "duration": 0.046504,
     "end_time": "2025-07-23T14:36:23.015209",
     "exception": false,
     "start_time": "2025-07-23T14:36:22.968705",
     "status": "completed"
    },
    "tags": []
   },
   "outputs": [
    {
     "name": "stdout",
     "output_type": "stream",
     "text": [
      "Using Seed: 2023\n"
     ]
    }
   ],
   "source": [
    "import numpy as np\n",
    "parsed_seed = int(seed)\n",
    "np.random.seed(parsed_seed)\n",
    "print(f\"Using Seed: {parsed_seed}\")"
   ]
  },
  {
   "cell_type": "markdown",
   "id": "e0ebdc57",
   "metadata": {
    "papermill": {
     "duration": 0.035203,
     "end_time": "2025-07-23T14:36:23.096270",
     "exception": false,
     "start_time": "2025-07-23T14:36:23.061067",
     "status": "completed"
    },
    "tags": []
   },
   "source": [
    "# Loading Data"
   ]
  },
  {
   "cell_type": "markdown",
   "id": "681925a3",
   "metadata": {
    "papermill": {
     "duration": 0.032455,
     "end_time": "2025-07-23T14:36:23.169301",
     "exception": false,
     "start_time": "2025-07-23T14:36:23.136846",
     "status": "completed"
    },
    "tags": []
   },
   "source": [
    "Load siab_train, siab_test, siab_calib and/or \n",
    "load siab_train_features, siab_train_labels"
   ]
  },
  {
   "cell_type": "code",
   "execution_count": 9,
   "id": "f0496b8a",
   "metadata": {
    "execution": {
     "iopub.execute_input": "2025-07-23T14:36:23.212540Z",
     "iopub.status.busy": "2025-07-23T14:36:23.211561Z",
     "iopub.status.idle": "2025-07-23T14:36:23.217893Z",
     "shell.execute_reply": "2025-07-23T14:36:23.216988Z"
    },
    "papermill": {
     "duration": 0.029922,
     "end_time": "2025-07-23T14:36:23.220875",
     "exception": false,
     "start_time": "2025-07-23T14:36:23.190953",
     "status": "completed"
    },
    "tags": []
   },
   "outputs": [],
   "source": [
    "# Do I need to load siab? Delete this cell?\n",
    "\n",
    "#from pathlib import Path\n",
    "#import pandas as pd\n",
    "#\n",
    "## File paths\n",
    "#raw_file = Path(\"data/raw/siab.csv\")\n",
    "#cache_file = Path(\"data/siab_cached.csv.gz\")\n",
    "#\n",
    "## Ensure cache directory exists\n",
    "#cache_file.parent.mkdir(parents=True, exist_ok=True)\n",
    "#\n",
    "## Load with simple caching\n",
    "#if cache_file.exists():\n",
    "#    print(f\"Loading SIAB data from cache: {cache_file}\")\n",
    "#    siab = pd.read_csv(cache_file, compression='gzip')\n",
    "#else:\n",
    "#    print(f\"Cache not found. Reading raw SIAB data: {raw_file}\")\n",
    "#    siab = pd.read_csv(raw_file)\n",
    "#    siab.to_csv(cache_file, index=False, compression='gzip')\n",
    "#    print(f\"Cached SIAB data to: {cache_file}\")\n",
    "#\n",
    "## Now use `siab` DataFrame as needed\n",
    "#print(siab.shape)\n"
   ]
  },
  {
   "cell_type": "code",
   "execution_count": 10,
   "id": "a0edb063",
   "metadata": {
    "execution": {
     "iopub.execute_input": "2025-07-23T14:36:23.258638Z",
     "iopub.status.busy": "2025-07-23T14:36:23.258152Z",
     "iopub.status.idle": "2025-07-23T14:36:24.960504Z",
     "shell.execute_reply": "2025-07-23T14:36:24.958199Z"
    },
    "papermill": {
     "duration": 1.72388,
     "end_time": "2025-07-23T14:36:24.962880",
     "exception": false,
     "start_time": "2025-07-23T14:36:23.239000",
     "status": "completed"
    },
    "tags": []
   },
   "outputs": [],
   "source": [
    "import pandas as pd\n",
    "\n",
    "X_train = pd.read_csv(\"./data/X_train.csv\")\n",
    "y_train = pd.read_csv(\"./data/y_train.csv\")"
   ]
  },
  {
   "cell_type": "code",
   "execution_count": 11,
   "id": "63d08085",
   "metadata": {
    "execution": {
     "iopub.execute_input": "2025-07-23T14:36:25.031339Z",
     "iopub.status.busy": "2025-07-23T14:36:25.030878Z",
     "iopub.status.idle": "2025-07-23T14:36:27.172548Z",
     "shell.execute_reply": "2025-07-23T14:36:27.171387Z"
    },
    "papermill": {
     "duration": 2.175885,
     "end_time": "2025-07-23T14:36:27.174662",
     "exception": false,
     "start_time": "2025-07-23T14:36:24.998777",
     "status": "completed"
    },
    "tags": []
   },
   "outputs": [],
   "source": [
    "X_test = pd.read_csv(\"./data/X_test.csv\")\n",
    "y_true = pd.read_csv(\"./data/y_test.csv\")"
   ]
  },
  {
   "cell_type": "code",
   "execution_count": 12,
   "id": "98a8d0fa-1d3d-4ed8-bb2c-281470e24add",
   "metadata": {
    "execution": {
     "iopub.execute_input": "2025-07-23T14:36:27.239847Z",
     "iopub.status.busy": "2025-07-23T14:36:27.239416Z",
     "iopub.status.idle": "2025-07-23T14:36:31.103638Z",
     "shell.execute_reply": "2025-07-23T14:36:31.100333Z"
    },
    "papermill": {
     "duration": 3.90835,
     "end_time": "2025-07-23T14:36:31.106047",
     "exception": false,
     "start_time": "2025-07-23T14:36:27.197697",
     "status": "completed"
    },
    "tags": []
   },
   "outputs": [],
   "source": [
    "# Calibration data for conformal\n",
    "X_calib = pd.read_csv(\"./data/X_calib.csv\")\n",
    "y_calib = pd.read_csv(\"./data/y_calib.csv\")"
   ]
  },
  {
   "cell_type": "code",
   "execution_count": 13,
   "id": "e6c733c5",
   "metadata": {
    "execution": {
     "iopub.execute_input": "2025-07-23T14:36:31.175405Z",
     "iopub.status.busy": "2025-07-23T14:36:31.174989Z",
     "iopub.status.idle": "2025-07-23T14:36:31.384729Z",
     "shell.execute_reply": "2025-07-23T14:36:31.383570Z"
    },
    "papermill": {
     "duration": 0.256354,
     "end_time": "2025-07-23T14:36:31.386963",
     "exception": false,
     "start_time": "2025-07-23T14:36:31.130609",
     "status": "completed"
    },
    "tags": []
   },
   "outputs": [],
   "source": [
    "# Auxiliary data needed downstream in the pipeline\n",
    "\n",
    "org_train = X_train.copy()\n",
    "org_test = X_test.copy()\n",
    "org_calib = X_calib.copy()"
   ]
  },
  {
   "cell_type": "markdown",
   "id": "0a4a1b33",
   "metadata": {
    "papermill": {
     "duration": 0.034195,
     "end_time": "2025-07-23T14:36:31.455320",
     "exception": false,
     "start_time": "2025-07-23T14:36:31.421125",
     "status": "completed"
    },
    "tags": []
   },
   "source": [
    "# Preprocessing Data"
   ]
  },
  {
   "cell_type": "code",
   "execution_count": 14,
   "id": "ca879031",
   "metadata": {
    "execution": {
     "iopub.execute_input": "2025-07-23T14:36:31.510160Z",
     "iopub.status.busy": "2025-07-23T14:36:31.509062Z",
     "iopub.status.idle": "2025-07-23T14:36:31.516247Z",
     "shell.execute_reply": "2025-07-23T14:36:31.515095Z"
    },
    "papermill": {
     "duration": 0.03043,
     "end_time": "2025-07-23T14:36:31.519609",
     "exception": false,
     "start_time": "2025-07-23T14:36:31.489179",
     "status": "completed"
    },
    "tags": []
   },
   "outputs": [],
   "source": [
    "# EXCLUDE PROTECTED FEATURES\n",
    "# ----------------------\n",
    "# \"exclude_features\": \"none\", # \"nationality\", \"sex\", \"nationality-sex\"\n",
    "\n",
    "excluded_features = universe[\"exclude_features\"].split(\"-\") # split, e.g.: \"nationality-sex\" -> [\"nationality\", \"sex\"]\n",
    "excluded_features_dictionary = {\n",
    "    \"nationality\": [\"maxdeutsch1\", \"maxdeutsch.Missing.\"],\n",
    "    \"sex\": [\"frau1\"],\n",
    "    \"age\": [\"age\"],\n",
    "}\n"
   ]
  },
  {
   "cell_type": "code",
   "execution_count": 15,
   "id": "b745ac60",
   "metadata": {
    "execution": {
     "iopub.execute_input": "2025-07-23T14:36:31.561640Z",
     "iopub.status.busy": "2025-07-23T14:36:31.561194Z",
     "iopub.status.idle": "2025-07-23T14:36:31.567339Z",
     "shell.execute_reply": "2025-07-23T14:36:31.566330Z"
    },
    "papermill": {
     "duration": 0.029452,
     "end_time": "2025-07-23T14:36:31.570467",
     "exception": false,
     "start_time": "2025-07-23T14:36:31.541015",
     "status": "completed"
    },
    "tags": []
   },
   "outputs": [],
   "source": [
    "# Code nice names to column names\n",
    "\n",
    "excluded_features_columns = [\n",
    "    excluded_features_dictionary[f] for f in excluded_features if len(f) > 0 and f != \"none\"\n",
    "]"
   ]
  },
  {
   "cell_type": "code",
   "execution_count": 16,
   "id": "f84f73a2",
   "metadata": {
    "execution": {
     "iopub.execute_input": "2025-07-23T14:36:31.630446Z",
     "iopub.status.busy": "2025-07-23T14:36:31.629943Z",
     "iopub.status.idle": "2025-07-23T14:36:31.636694Z",
     "shell.execute_reply": "2025-07-23T14:36:31.635625Z"
    },
    "papermill": {
     "duration": 0.03221,
     "end_time": "2025-07-23T14:36:31.639695",
     "exception": false,
     "start_time": "2025-07-23T14:36:31.607485",
     "status": "completed"
    },
    "tags": []
   },
   "outputs": [],
   "source": [
    "from utils import flatten_once\n",
    "\n",
    "excluded_features_columns = flatten_once(excluded_features_columns)"
   ]
  },
  {
   "cell_type": "code",
   "execution_count": 17,
   "id": "884dea22",
   "metadata": {
    "execution": {
     "iopub.execute_input": "2025-07-23T14:36:31.678960Z",
     "iopub.status.busy": "2025-07-23T14:36:31.678517Z",
     "iopub.status.idle": "2025-07-23T14:36:31.749686Z",
     "shell.execute_reply": "2025-07-23T14:36:31.748611Z"
    },
    "papermill": {
     "duration": 0.09352,
     "end_time": "2025-07-23T14:36:31.751740",
     "exception": false,
     "start_time": "2025-07-23T14:36:31.658220",
     "status": "completed"
    },
    "tags": []
   },
   "outputs": [
    {
     "name": "stdout",
     "output_type": "stream",
     "text": [
      "Dropping features: ['frau1']\n"
     ]
    }
   ],
   "source": [
    "if len(excluded_features_columns) > 0:\n",
    "    print(f\"Dropping features: {excluded_features_columns}\")\n",
    "    X_train.drop(excluded_features_columns, axis=1, inplace=True)"
   ]
  },
  {
   "cell_type": "code",
   "execution_count": 18,
   "id": "95ab8b16",
   "metadata": {
    "execution": {
     "iopub.execute_input": "2025-07-23T14:36:31.822391Z",
     "iopub.status.busy": "2025-07-23T14:36:31.821971Z",
     "iopub.status.idle": "2025-07-23T14:36:32.041765Z",
     "shell.execute_reply": "2025-07-23T14:36:32.040617Z"
    },
    "papermill": {
     "duration": 0.263041,
     "end_time": "2025-07-23T14:36:32.044075",
     "exception": false,
     "start_time": "2025-07-23T14:36:31.781034",
     "status": "completed"
    },
    "tags": []
   },
   "outputs": [
    {
     "name": "stdout",
     "output_type": "stream",
     "text": [
      "Dropping features: ['frau1']\n"
     ]
    }
   ],
   "source": [
    "if len(excluded_features_columns) > 0:\n",
    "    print(f\"Dropping features: {excluded_features_columns}\")\n",
    "    X_test.drop(excluded_features_columns, axis=1, inplace=True)"
   ]
  },
  {
   "cell_type": "code",
   "execution_count": 19,
   "id": "1853aaf5-fb9f-46cb-a2b5-8ea4ae2237e4",
   "metadata": {
    "execution": {
     "iopub.execute_input": "2025-07-23T14:36:32.149592Z",
     "iopub.status.busy": "2025-07-23T14:36:32.149051Z",
     "iopub.status.idle": "2025-07-23T14:36:32.312382Z",
     "shell.execute_reply": "2025-07-23T14:36:32.311049Z"
    },
    "papermill": {
     "duration": 0.218166,
     "end_time": "2025-07-23T14:36:32.314848",
     "exception": false,
     "start_time": "2025-07-23T14:36:32.096682",
     "status": "completed"
    },
    "tags": []
   },
   "outputs": [
    {
     "name": "stdout",
     "output_type": "stream",
     "text": [
      "Dropping features: ['frau1']\n"
     ]
    }
   ],
   "source": [
    "if len(excluded_features_columns) > 0:\n",
    "    print(f\"Dropping features: {excluded_features_columns}\")\n",
    "    X_calib.drop(excluded_features_columns, axis=1, inplace=True)"
   ]
  },
  {
   "cell_type": "code",
   "execution_count": 20,
   "id": "76c4dc6d",
   "metadata": {
    "execution": {
     "iopub.execute_input": "2025-07-23T14:36:32.486874Z",
     "iopub.status.busy": "2025-07-23T14:36:32.486408Z",
     "iopub.status.idle": "2025-07-23T14:36:32.494768Z",
     "shell.execute_reply": "2025-07-23T14:36:32.493761Z"
    },
    "papermill": {
     "duration": 0.107348,
     "end_time": "2025-07-23T14:36:32.496573",
     "exception": false,
     "start_time": "2025-07-23T14:36:32.389225",
     "status": "completed"
    },
    "tags": []
   },
   "outputs": [],
   "source": [
    "# EXCLUDE CERTAIN SUBGROUPS\n",
    "# ----------------------\n",
    "\n",
    "mode = universe.get(\"exclude_subgroups\", \"keep-all\") \n",
    "# Fetches the exclude_subgroups setting from the universe dict.\n",
    "# Defaults to \"keep-all\" if the key is missing."
   ]
  },
  {
   "cell_type": "code",
   "execution_count": 21,
   "id": "21994072",
   "metadata": {
    "execution": {
     "iopub.execute_input": "2025-07-23T14:36:32.632392Z",
     "iopub.status.busy": "2025-07-23T14:36:32.631928Z",
     "iopub.status.idle": "2025-07-23T14:36:32.641502Z",
     "shell.execute_reply": "2025-07-23T14:36:32.640143Z"
    },
    "papermill": {
     "duration": 0.072387,
     "end_time": "2025-07-23T14:36:32.645490",
     "exception": false,
     "start_time": "2025-07-23T14:36:32.573103",
     "status": "completed"
    },
    "tags": []
   },
   "outputs": [],
   "source": [
    "if mode == \"keep-all\":\n",
    "    keep_mask = pd.Series(True, index=org_train.index)\n",
    "\n",
    "# org_train contains the original feature columns from features_org (in Simson)\n",
    "# features_org contains unprocessed features, for me X_train at beginning ???\n",
    "# For keep-all, creates a boolean Series (keep_mask) of all True, so no rows are removed.\n",
    "\n",
    "elif mode == \"drop-non-german\":\n",
    "    keep_mask = org_train[\"maxdeutsch1\"] == 1 # ??? what about missing values?\n",
    "\n",
    "else:\n",
    "    raise ValueError(f\"Unsupported mode for exclude_subgroups: {mode}\")\n"
   ]
  },
  {
   "cell_type": "code",
   "execution_count": 22,
   "id": "71651440",
   "metadata": {
    "execution": {
     "iopub.execute_input": "2025-07-23T14:36:32.778988Z",
     "iopub.status.busy": "2025-07-23T14:36:32.778460Z",
     "iopub.status.idle": "2025-07-23T14:36:32.785573Z",
     "shell.execute_reply": "2025-07-23T14:36:32.784422Z"
    },
    "papermill": {
     "duration": 0.062847,
     "end_time": "2025-07-23T14:36:32.787545",
     "exception": false,
     "start_time": "2025-07-23T14:36:32.724698",
     "status": "completed"
    },
    "tags": []
   },
   "outputs": [],
   "source": [
    "n_drop = (~keep_mask).sum() # Calculates how many rows are set to be dropped\n",
    "if n_drop > 0:\n",
    "    pct = n_drop / len(keep_mask) * 100\n",
    "    print(f\"Dropping {n_drop} rows ({pct:.2f}%) where mode='{mode}'\")"
   ]
  },
  {
   "cell_type": "code",
   "execution_count": 23,
   "id": "5fb8eee5",
   "metadata": {
    "execution": {
     "iopub.execute_input": "2025-07-23T14:36:32.986608Z",
     "iopub.status.busy": "2025-07-23T14:36:32.986190Z",
     "iopub.status.idle": "2025-07-23T14:36:33.169140Z",
     "shell.execute_reply": "2025-07-23T14:36:33.156640Z"
    },
    "papermill": {
     "duration": 0.267703,
     "end_time": "2025-07-23T14:36:33.171540",
     "exception": false,
     "start_time": "2025-07-23T14:36:32.903837",
     "status": "completed"
    },
    "tags": []
   },
   "outputs": [],
   "source": [
    "X_train = X_train[keep_mask]"
   ]
  },
  {
   "cell_type": "code",
   "execution_count": 24,
   "id": "b202bb3a",
   "metadata": {
    "execution": {
     "iopub.execute_input": "2025-07-23T14:36:33.270883Z",
     "iopub.status.busy": "2025-07-23T14:36:33.270354Z",
     "iopub.status.idle": "2025-07-23T14:36:33.281380Z",
     "shell.execute_reply": "2025-07-23T14:36:33.280321Z"
    },
    "papermill": {
     "duration": 0.075005,
     "end_time": "2025-07-23T14:36:33.283818",
     "exception": false,
     "start_time": "2025-07-23T14:36:33.208813",
     "status": "completed"
    },
    "tags": []
   },
   "outputs": [],
   "source": [
    "y_train = y_train[keep_mask]"
   ]
  },
  {
   "cell_type": "markdown",
   "id": "493e2ac3",
   "metadata": {
    "papermill": {
     "duration": 0.064448,
     "end_time": "2025-07-23T14:36:33.429134",
     "exception": false,
     "start_time": "2025-07-23T14:36:33.364686",
     "status": "completed"
    },
    "tags": []
   },
   "source": [
    "# Model Training"
   ]
  },
  {
   "cell_type": "code",
   "execution_count": 25,
   "id": "679e1268",
   "metadata": {
    "execution": {
     "iopub.execute_input": "2025-07-23T14:36:33.550132Z",
     "iopub.status.busy": "2025-07-23T14:36:33.549721Z",
     "iopub.status.idle": "2025-07-23T14:36:33.782367Z",
     "shell.execute_reply": "2025-07-23T14:36:33.780721Z"
    },
    "papermill": {
     "duration": 0.289148,
     "end_time": "2025-07-23T14:36:33.786287",
     "exception": false,
     "start_time": "2025-07-23T14:36:33.497139",
     "status": "completed"
    },
    "tags": []
   },
   "outputs": [],
   "source": [
    "from sklearn.linear_model import LogisticRegression\n",
    "from sklearn.ensemble import GradientBoostingClassifier, RandomForestClassifier\n",
    "\n",
    "if (universe[\"model\"] == \"logreg\"):\n",
    "    model = LogisticRegression() #penalty=\"none\") #, solver=\"newton-cg\", max_iter=1) # include random_state=19 ?\n",
    "elif (universe[\"model\"] == \"penalized_logreg\"):\n",
    "    model = LogisticRegression(penalty=\"l2\", C=1.0) #, solver=\"newton-cg\", max_iter=1)\n",
    "elif (universe[\"model\"] == \"rf\"):\n",
    "    model = RandomForestClassifier(n_estimators=100, n_jobs=-1)\n",
    "elif (universe[\"model\"] == \"gbm\"):\n",
    "    model = GradientBoostingClassifier()\n",
    "elif (universe[\"model\"] == \"elasticnet\"):\n",
    "    model = LogisticRegression(penalty = 'elasticnet', solver = 'saga', l1_ratio = 0.5, max_iter=5000) # which solver to use?\n",
    "else:\n",
    "    raise \"Unsupported universe.model\""
   ]
  },
  {
   "cell_type": "code",
   "execution_count": 26,
   "id": "0cc8f744",
   "metadata": {
    "execution": {
     "iopub.execute_input": "2025-07-23T14:36:33.897640Z",
     "iopub.status.busy": "2025-07-23T14:36:33.897065Z",
     "iopub.status.idle": "2025-07-23T14:36:33.905126Z",
     "shell.execute_reply": "2025-07-23T14:36:33.903968Z"
    },
    "papermill": {
     "duration": 0.047475,
     "end_time": "2025-07-23T14:36:33.906952",
     "exception": false,
     "start_time": "2025-07-23T14:36:33.859477",
     "status": "completed"
    },
    "tags": []
   },
   "outputs": [],
   "source": [
    "import numpy as np\n",
    "from sklearn.pipeline import Pipeline\n",
    "from sklearn.preprocessing import StandardScaler\n",
    "\n",
    "model = Pipeline([\n",
    "    #(\"continuous_processor\", continuous_processor),\n",
    "    #(\"categorical_preprocessor\", categorical_preprocessor),\n",
    "    (\"scale\", StandardScaler() if universe[\"scale\"] == \"scale\" else None), \n",
    "    (\"model\", model),\n",
    "])"
   ]
  },
  {
   "cell_type": "code",
   "execution_count": 27,
   "id": "9442c04d",
   "metadata": {
    "execution": {
     "iopub.execute_input": "2025-07-23T14:36:33.979240Z",
     "iopub.status.busy": "2025-07-23T14:36:33.978813Z",
     "iopub.status.idle": "2025-07-23T14:36:52.813984Z",
     "shell.execute_reply": "2025-07-23T14:36:52.812677Z"
    },
    "papermill": {
     "duration": 18.871649,
     "end_time": "2025-07-23T14:36:52.816816",
     "exception": false,
     "start_time": "2025-07-23T14:36:33.945167",
     "status": "completed"
    },
    "tags": []
   },
   "outputs": [
    {
     "data": {
      "text/html": [
       "<style>#sk-container-id-1 {color: black;background-color: white;}#sk-container-id-1 pre{padding: 0;}#sk-container-id-1 div.sk-toggleable {background-color: white;}#sk-container-id-1 label.sk-toggleable__label {cursor: pointer;display: block;width: 100%;margin-bottom: 0;padding: 0.3em;box-sizing: border-box;text-align: center;}#sk-container-id-1 label.sk-toggleable__label-arrow:before {content: \"▸\";float: left;margin-right: 0.25em;color: #696969;}#sk-container-id-1 label.sk-toggleable__label-arrow:hover:before {color: black;}#sk-container-id-1 div.sk-estimator:hover label.sk-toggleable__label-arrow:before {color: black;}#sk-container-id-1 div.sk-toggleable__content {max-height: 0;max-width: 0;overflow: hidden;text-align: left;background-color: #f0f8ff;}#sk-container-id-1 div.sk-toggleable__content pre {margin: 0.2em;color: black;border-radius: 0.25em;background-color: #f0f8ff;}#sk-container-id-1 input.sk-toggleable__control:checked~div.sk-toggleable__content {max-height: 200px;max-width: 100%;overflow: auto;}#sk-container-id-1 input.sk-toggleable__control:checked~label.sk-toggleable__label-arrow:before {content: \"▾\";}#sk-container-id-1 div.sk-estimator input.sk-toggleable__control:checked~label.sk-toggleable__label {background-color: #d4ebff;}#sk-container-id-1 div.sk-label input.sk-toggleable__control:checked~label.sk-toggleable__label {background-color: #d4ebff;}#sk-container-id-1 input.sk-hidden--visually {border: 0;clip: rect(1px 1px 1px 1px);clip: rect(1px, 1px, 1px, 1px);height: 1px;margin: -1px;overflow: hidden;padding: 0;position: absolute;width: 1px;}#sk-container-id-1 div.sk-estimator {font-family: monospace;background-color: #f0f8ff;border: 1px dotted black;border-radius: 0.25em;box-sizing: border-box;margin-bottom: 0.5em;}#sk-container-id-1 div.sk-estimator:hover {background-color: #d4ebff;}#sk-container-id-1 div.sk-parallel-item::after {content: \"\";width: 100%;border-bottom: 1px solid gray;flex-grow: 1;}#sk-container-id-1 div.sk-label:hover label.sk-toggleable__label {background-color: #d4ebff;}#sk-container-id-1 div.sk-serial::before {content: \"\";position: absolute;border-left: 1px solid gray;box-sizing: border-box;top: 0;bottom: 0;left: 50%;z-index: 0;}#sk-container-id-1 div.sk-serial {display: flex;flex-direction: column;align-items: center;background-color: white;padding-right: 0.2em;padding-left: 0.2em;position: relative;}#sk-container-id-1 div.sk-item {position: relative;z-index: 1;}#sk-container-id-1 div.sk-parallel {display: flex;align-items: stretch;justify-content: center;background-color: white;position: relative;}#sk-container-id-1 div.sk-item::before, #sk-container-id-1 div.sk-parallel-item::before {content: \"\";position: absolute;border-left: 1px solid gray;box-sizing: border-box;top: 0;bottom: 0;left: 50%;z-index: -1;}#sk-container-id-1 div.sk-parallel-item {display: flex;flex-direction: column;z-index: 1;position: relative;background-color: white;}#sk-container-id-1 div.sk-parallel-item:first-child::after {align-self: flex-end;width: 50%;}#sk-container-id-1 div.sk-parallel-item:last-child::after {align-self: flex-start;width: 50%;}#sk-container-id-1 div.sk-parallel-item:only-child::after {width: 0;}#sk-container-id-1 div.sk-dashed-wrapped {border: 1px dashed gray;margin: 0 0.4em 0.5em 0.4em;box-sizing: border-box;padding-bottom: 0.4em;background-color: white;}#sk-container-id-1 div.sk-label label {font-family: monospace;font-weight: bold;display: inline-block;line-height: 1.2em;}#sk-container-id-1 div.sk-label-container {text-align: center;}#sk-container-id-1 div.sk-container {/* jupyter's `normalize.less` sets `[hidden] { display: none; }` but bootstrap.min.css set `[hidden] { display: none !important; }` so we also need the `!important` here to be able to override the default hidden behavior on the sphinx rendered scikit-learn.org. See: https://github.com/scikit-learn/scikit-learn/issues/21755 */display: inline-block !important;position: relative;}#sk-container-id-1 div.sk-text-repr-fallback {display: none;}</style><div id=\"sk-container-id-1\" class=\"sk-top-container\"><div class=\"sk-text-repr-fallback\"><pre>Pipeline(steps=[(&#x27;scale&#x27;, None), (&#x27;model&#x27;, RandomForestClassifier(n_jobs=-1))])</pre><b>In a Jupyter environment, please rerun this cell to show the HTML representation or trust the notebook. <br />On GitHub, the HTML representation is unable to render, please try loading this page with nbviewer.org.</b></div><div class=\"sk-container\" hidden><div class=\"sk-item sk-dashed-wrapped\"><div class=\"sk-label-container\"><div class=\"sk-label sk-toggleable\"><input class=\"sk-toggleable__control sk-hidden--visually\" id=\"sk-estimator-id-1\" type=\"checkbox\" ><label for=\"sk-estimator-id-1\" class=\"sk-toggleable__label sk-toggleable__label-arrow\">Pipeline</label><div class=\"sk-toggleable__content\"><pre>Pipeline(steps=[(&#x27;scale&#x27;, None), (&#x27;model&#x27;, RandomForestClassifier(n_jobs=-1))])</pre></div></div></div><div class=\"sk-serial\"><div class=\"sk-item\"><div class=\"sk-estimator sk-toggleable\"><input class=\"sk-toggleable__control sk-hidden--visually\" id=\"sk-estimator-id-2\" type=\"checkbox\" ><label for=\"sk-estimator-id-2\" class=\"sk-toggleable__label sk-toggleable__label-arrow\">None</label><div class=\"sk-toggleable__content\"><pre>None</pre></div></div></div><div class=\"sk-item\"><div class=\"sk-estimator sk-toggleable\"><input class=\"sk-toggleable__control sk-hidden--visually\" id=\"sk-estimator-id-3\" type=\"checkbox\" ><label for=\"sk-estimator-id-3\" class=\"sk-toggleable__label sk-toggleable__label-arrow\">RandomForestClassifier</label><div class=\"sk-toggleable__content\"><pre>RandomForestClassifier(n_jobs=-1)</pre></div></div></div></div></div></div></div>"
      ],
      "text/plain": [
       "Pipeline(steps=[('scale', None), ('model', RandomForestClassifier(n_jobs=-1))])"
      ]
     },
     "execution_count": 27,
     "metadata": {},
     "output_type": "execute_result"
    }
   ],
   "source": [
    "model.fit(X_train, y_train.values.ravel())"
   ]
  },
  {
   "cell_type": "code",
   "execution_count": 28,
   "id": "af59f8c0",
   "metadata": {
    "execution": {
     "iopub.execute_input": "2025-07-23T14:36:52.902255Z",
     "iopub.status.busy": "2025-07-23T14:36:52.901805Z",
     "iopub.status.idle": "2025-07-23T14:36:52.908237Z",
     "shell.execute_reply": "2025-07-23T14:36:52.907212Z"
    },
    "papermill": {
     "duration": 0.048158,
     "end_time": "2025-07-23T14:36:52.911541",
     "exception": false,
     "start_time": "2025-07-23T14:36:52.863383",
     "status": "completed"
    },
    "tags": []
   },
   "outputs": [],
   "source": [
    "from fairness_multiverse.universe import predict_w_threshold"
   ]
  },
  {
   "cell_type": "code",
   "execution_count": 29,
   "id": "a7cf2e16",
   "metadata": {
    "execution": {
     "iopub.execute_input": "2025-07-23T14:36:53.011745Z",
     "iopub.status.busy": "2025-07-23T14:36:53.011289Z",
     "iopub.status.idle": "2025-07-23T14:36:55.403592Z",
     "shell.execute_reply": "2025-07-23T14:36:55.402366Z"
    },
    "papermill": {
     "duration": 2.445026,
     "end_time": "2025-07-23T14:36:55.406034",
     "exception": false,
     "start_time": "2025-07-23T14:36:52.961008",
     "status": "completed"
    },
    "tags": []
   },
   "outputs": [
    {
     "data": {
      "text/plain": [
       "0.8681752313008583"
      ]
     },
     "execution_count": 29,
     "metadata": {},
     "output_type": "execute_result"
    }
   ],
   "source": [
    "probs_test = model.predict_proba(X_test)\n",
    "\n",
    "'''\n",
    "Below code returns a boolean array (or binary 0/1 array depending on how it’s used) where each element \n",
    "is True if the probability of class 1 is greater than or equal to the threshold, and False otherwise.\n",
    "'''\n",
    "y_pred_default = predict_w_threshold(probs_test, 0.5)\n",
    "\n",
    "from sklearn.metrics import accuracy_score\n",
    "\n",
    "# Naive prediction\n",
    "accuracy_score(y_true = y_true, y_pred = y_pred_default)"
   ]
  },
  {
   "cell_type": "code",
   "execution_count": 30,
   "id": "081964c3",
   "metadata": {
    "execution": {
     "iopub.execute_input": "2025-07-23T14:36:55.492465Z",
     "iopub.status.busy": "2025-07-23T14:36:55.491274Z",
     "iopub.status.idle": "2025-07-23T14:36:57.941219Z",
     "shell.execute_reply": "2025-07-23T14:36:57.940100Z"
    },
    "papermill": {
     "duration": 2.494333,
     "end_time": "2025-07-23T14:36:57.943282",
     "exception": false,
     "start_time": "2025-07-23T14:36:55.448949",
     "status": "completed"
    },
    "tags": []
   },
   "outputs": [
    {
     "data": {
      "text/plain": [
       "array([0, 0, 0, ..., 0, 0, 0])"
      ]
     },
     "execution_count": 30,
     "metadata": {},
     "output_type": "execute_result"
    }
   ],
   "source": [
    "model.predict(X_test)"
   ]
  },
  {
   "cell_type": "markdown",
   "id": "56c9705b",
   "metadata": {
    "papermill": {
     "duration": 0.052546,
     "end_time": "2025-07-23T14:36:58.033303",
     "exception": false,
     "start_time": "2025-07-23T14:36:57.980757",
     "status": "completed"
    },
    "tags": []
   },
   "source": [
    "# Conformal Prediction"
   ]
  },
  {
   "cell_type": "code",
   "execution_count": 31,
   "id": "160ec6ff",
   "metadata": {
    "execution": {
     "iopub.execute_input": "2025-07-23T14:36:58.109566Z",
     "iopub.status.busy": "2025-07-23T14:36:58.108448Z",
     "iopub.status.idle": "2025-07-23T14:36:58.115065Z",
     "shell.execute_reply": "2025-07-23T14:36:58.113894Z"
    },
    "papermill": {
     "duration": 0.050438,
     "end_time": "2025-07-23T14:36:58.119450",
     "exception": false,
     "start_time": "2025-07-23T14:36:58.069012",
     "status": "completed"
    },
    "tags": []
   },
   "outputs": [],
   "source": [
    "# Miscoverage level for conformal prediction (10% allowed error rate => 90% target coverage)\n",
    "alpha = 0.1"
   ]
  },
  {
   "cell_type": "code",
   "execution_count": 32,
   "id": "eadf4555-3dd3-440e-8e35-f82a4ad9f855",
   "metadata": {
    "execution": {
     "iopub.execute_input": "2025-07-23T14:36:58.168323Z",
     "iopub.status.busy": "2025-07-23T14:36:58.167851Z",
     "iopub.status.idle": "2025-07-23T14:36:59.840501Z",
     "shell.execute_reply": "2025-07-23T14:36:59.839366Z"
    },
    "papermill": {
     "duration": 1.699056,
     "end_time": "2025-07-23T14:36:59.843308",
     "exception": false,
     "start_time": "2025-07-23T14:36:58.144252",
     "status": "completed"
    },
    "tags": []
   },
   "outputs": [],
   "source": [
    "probs_calib = model.predict_proba(X_calib)"
   ]
  },
  {
   "cell_type": "code",
   "execution_count": 33,
   "id": "2ed93547-6d5d-4983-9b36-1ecb300da49a",
   "metadata": {
    "execution": {
     "iopub.execute_input": "2025-07-23T14:36:59.925351Z",
     "iopub.status.busy": "2025-07-23T14:36:59.924857Z",
     "iopub.status.idle": "2025-07-23T14:36:59.931614Z",
     "shell.execute_reply": "2025-07-23T14:36:59.930566Z"
    },
    "papermill": {
     "duration": 0.059155,
     "end_time": "2025-07-23T14:36:59.935425",
     "exception": false,
     "start_time": "2025-07-23T14:36:59.876270",
     "status": "completed"
    },
    "tags": []
   },
   "outputs": [],
   "source": [
    "y_calib = y_calib.values.ravel().astype(int)"
   ]
  },
  {
   "cell_type": "code",
   "execution_count": 34,
   "id": "65d1320d-f588-4b38-9072-62af1ae97f7d",
   "metadata": {
    "execution": {
     "iopub.execute_input": "2025-07-23T14:37:00.046939Z",
     "iopub.status.busy": "2025-07-23T14:37:00.046456Z",
     "iopub.status.idle": "2025-07-23T14:37:00.056860Z",
     "shell.execute_reply": "2025-07-23T14:37:00.055623Z"
    },
    "papermill": {
     "duration": 0.069349,
     "end_time": "2025-07-23T14:37:00.059130",
     "exception": false,
     "start_time": "2025-07-23T14:36:59.989781",
     "status": "completed"
    },
    "tags": []
   },
   "outputs": [],
   "source": [
    "from fairness_multiverse.conformal import compute_nc_scores\n",
    "\n",
    "# Compute nonconformity scores on calibration set (1 - probability of true class)\n",
    "nc_scores = compute_nc_scores(probs_calib, y_calib)"
   ]
  },
  {
   "cell_type": "code",
   "execution_count": 35,
   "id": "df3b8ca3-53b7-43d5-9667-7c85da7aeda2",
   "metadata": {
    "execution": {
     "iopub.execute_input": "2025-07-23T14:37:00.150912Z",
     "iopub.status.busy": "2025-07-23T14:37:00.150440Z",
     "iopub.status.idle": "2025-07-23T14:37:00.158838Z",
     "shell.execute_reply": "2025-07-23T14:37:00.157542Z"
    },
    "papermill": {
     "duration": 0.061623,
     "end_time": "2025-07-23T14:37:00.160735",
     "exception": false,
     "start_time": "2025-07-23T14:37:00.099112",
     "status": "completed"
    },
    "tags": []
   },
   "outputs": [],
   "source": [
    "from fairness_multiverse.conformal import find_threshold\n",
    "\n",
    "# Find conformal threshold q_hat for the given alpha (split conformal method)\n",
    "q_hat = find_threshold(nc_scores, alpha)"
   ]
  },
  {
   "cell_type": "code",
   "execution_count": 36,
   "id": "4d29e6c1-0ef6-4aa4-b8fe-4fe79b0d033a",
   "metadata": {
    "execution": {
     "iopub.execute_input": "2025-07-23T14:37:00.259169Z",
     "iopub.status.busy": "2025-07-23T14:37:00.258694Z",
     "iopub.status.idle": "2025-07-23T14:37:00.267619Z",
     "shell.execute_reply": "2025-07-23T14:37:00.266291Z"
    },
    "papermill": {
     "duration": 0.064284,
     "end_time": "2025-07-23T14:37:00.269389",
     "exception": false,
     "start_time": "2025-07-23T14:37:00.205105",
     "status": "completed"
    },
    "tags": []
   },
   "outputs": [
    {
     "data": {
      "text/plain": [
       "0.65"
      ]
     },
     "execution_count": 36,
     "metadata": {},
     "output_type": "execute_result"
    }
   ],
   "source": [
    "q_hat"
   ]
  },
  {
   "cell_type": "code",
   "execution_count": 37,
   "id": "92460794-cdac-4be2-ba28-f28c0515a6fb",
   "metadata": {
    "execution": {
     "iopub.execute_input": "2025-07-23T14:37:00.367252Z",
     "iopub.status.busy": "2025-07-23T14:37:00.366773Z",
     "iopub.status.idle": "2025-07-23T14:37:03.263274Z",
     "shell.execute_reply": "2025-07-23T14:37:03.262085Z"
    },
    "papermill": {
     "duration": 2.954268,
     "end_time": "2025-07-23T14:37:03.265484",
     "exception": false,
     "start_time": "2025-07-23T14:37:00.311216",
     "status": "completed"
    },
    "tags": []
   },
   "outputs": [],
   "source": [
    "from fairness_multiverse.conformal import predict_conformal_sets\n",
    "\n",
    "# Generate prediction sets for each test example\n",
    "pred_sets = predict_conformal_sets(model, X_test, q_hat)"
   ]
  },
  {
   "cell_type": "code",
   "execution_count": 38,
   "id": "d90c9a65-e6db-4f5d-80cd-e68fb7e46829",
   "metadata": {
    "execution": {
     "iopub.execute_input": "2025-07-23T14:37:03.314893Z",
     "iopub.status.busy": "2025-07-23T14:37:03.313771Z",
     "iopub.status.idle": "2025-07-23T14:37:03.321721Z",
     "shell.execute_reply": "2025-07-23T14:37:03.320492Z"
    },
    "papermill": {
     "duration": 0.036284,
     "end_time": "2025-07-23T14:37:03.325584",
     "exception": false,
     "start_time": "2025-07-23T14:37:03.289300",
     "status": "completed"
    },
    "tags": []
   },
   "outputs": [],
   "source": [
    "y_true = y_true.squeeze()"
   ]
  },
  {
   "cell_type": "code",
   "execution_count": 39,
   "id": "3a58a54a-1e68-46b9-927a-df01f18aebc8",
   "metadata": {
    "execution": {
     "iopub.execute_input": "2025-07-23T14:37:03.376453Z",
     "iopub.status.busy": "2025-07-23T14:37:03.375394Z",
     "iopub.status.idle": "2025-07-23T14:37:04.770528Z",
     "shell.execute_reply": "2025-07-23T14:37:04.769470Z"
    },
    "papermill": {
     "duration": 1.423366,
     "end_time": "2025-07-23T14:37:04.772942",
     "exception": false,
     "start_time": "2025-07-23T14:37:03.349576",
     "status": "completed"
    },
    "tags": []
   },
   "outputs": [],
   "source": [
    "from fairness_multiverse.conformal import evaluate_sets\n",
    "\n",
    "# Evaluate coverage and average set size on test data\n",
    "metrics = evaluate_sets(pred_sets, y_true)"
   ]
  },
  {
   "cell_type": "code",
   "execution_count": 40,
   "id": "5ce0a5cb-201f-45a0-ade5-94c7f0bd6095",
   "metadata": {
    "execution": {
     "iopub.execute_input": "2025-07-23T14:37:04.815555Z",
     "iopub.status.busy": "2025-07-23T14:37:04.815058Z",
     "iopub.status.idle": "2025-07-23T14:37:04.823673Z",
     "shell.execute_reply": "2025-07-23T14:37:04.822480Z"
    },
    "papermill": {
     "duration": 0.031534,
     "end_time": "2025-07-23T14:37:04.825412",
     "exception": false,
     "start_time": "2025-07-23T14:37:04.793878",
     "status": "completed"
    },
    "tags": []
   },
   "outputs": [
    {
     "data": {
      "text/plain": [
       "{'coverage': 0.9151934009586445, 'avg_size': 1.1391372199308885}"
      ]
     },
     "execution_count": 40,
     "metadata": {},
     "output_type": "execute_result"
    }
   ],
   "source": [
    "metrics"
   ]
  },
  {
   "cell_type": "code",
   "execution_count": 41,
   "id": "9b9a838d-31c9-430b-ae14-12baee460d17",
   "metadata": {
    "execution": {
     "iopub.execute_input": "2025-07-23T14:37:04.869785Z",
     "iopub.status.busy": "2025-07-23T14:37:04.868903Z",
     "iopub.status.idle": "2025-07-23T14:37:04.876238Z",
     "shell.execute_reply": "2025-07-23T14:37:04.875065Z"
    },
    "papermill": {
     "duration": 0.03161,
     "end_time": "2025-07-23T14:37:04.878554",
     "exception": false,
     "start_time": "2025-07-23T14:37:04.846944",
     "status": "completed"
    },
    "tags": []
   },
   "outputs": [],
   "source": [
    "example_universe = universe.copy()\n",
    "universe_model = example_universe.get(\"model\")\n",
    "universe_exclude_features = example_universe.get(\"exclude_features\")\n",
    "universe_exclude_subgroups = example_universe.get(\"exclude_subgroups\")\n",
    "universe_scale = example_universe.get(\"scale\")"
   ]
  },
  {
   "cell_type": "code",
   "execution_count": 42,
   "id": "f4b6a8ac-9dc0-4245-8a91-5b3b5999c4f9",
   "metadata": {
    "execution": {
     "iopub.execute_input": "2025-07-23T14:37:04.922382Z",
     "iopub.status.busy": "2025-07-23T14:37:04.921896Z",
     "iopub.status.idle": "2025-07-23T14:37:04.928866Z",
     "shell.execute_reply": "2025-07-23T14:37:04.927791Z"
    },
    "papermill": {
     "duration": 0.030926,
     "end_time": "2025-07-23T14:37:04.930854",
     "exception": false,
     "start_time": "2025-07-23T14:37:04.899928",
     "status": "completed"
    },
    "tags": []
   },
   "outputs": [],
   "source": [
    "cp_metrics_dict = {\n",
    "    \"universe_id\": [universe_id],\n",
    "    \"universe_model\": [universe_model],\n",
    "    \"universe_exclude_features\": [universe_exclude_features],\n",
    "    \"universe_exclude_subgroups\": [universe_exclude_subgroups],\n",
    "    \"universe_scale\": [universe_scale],\n",
    "    \"q_hat\": [q_hat],\n",
    "    \"coverage\": [metrics[\"coverage\"]],\n",
    "    \"avg_size\": [metrics[\"avg_size\"]],\n",
    "}"
   ]
  },
  {
   "cell_type": "code",
   "execution_count": 43,
   "id": "908acbb1-0371-4915-85ca-3fa520d2efe2",
   "metadata": {
    "execution": {
     "iopub.execute_input": "2025-07-23T14:37:05.005863Z",
     "iopub.status.busy": "2025-07-23T14:37:05.005406Z",
     "iopub.status.idle": "2025-07-23T14:37:05.023758Z",
     "shell.execute_reply": "2025-07-23T14:37:05.022612Z"
    },
    "papermill": {
     "duration": 0.072929,
     "end_time": "2025-07-23T14:37:05.025738",
     "exception": false,
     "start_time": "2025-07-23T14:37:04.952809",
     "status": "completed"
    },
    "tags": []
   },
   "outputs": [
    {
     "data": {
      "text/plain": [
       "{'universe_id': ['de6d55feceb94a23585f9ab70ec712e7'],\n",
       " 'universe_model': ['rf'],\n",
       " 'universe_exclude_features': ['sex'],\n",
       " 'universe_exclude_subgroups': ['keep-all'],\n",
       " 'universe_scale': ['do-not-scale'],\n",
       " 'q_hat': [0.65],\n",
       " 'coverage': [0.9151934009586445],\n",
       " 'avg_size': [1.1391372199308885]}"
      ]
     },
     "execution_count": 43,
     "metadata": {},
     "output_type": "execute_result"
    }
   ],
   "source": [
    "cp_metrics_dict"
   ]
  },
  {
   "cell_type": "code",
   "execution_count": 44,
   "id": "33007efc-14e9-4ec6-97ac-56a455c82265",
   "metadata": {
    "execution": {
     "iopub.execute_input": "2025-07-23T14:37:05.073948Z",
     "iopub.status.busy": "2025-07-23T14:37:05.073495Z",
     "iopub.status.idle": "2025-07-23T14:37:05.080763Z",
     "shell.execute_reply": "2025-07-23T14:37:05.079678Z"
    },
    "papermill": {
     "duration": 0.035013,
     "end_time": "2025-07-23T14:37:05.084222",
     "exception": false,
     "start_time": "2025-07-23T14:37:05.049209",
     "status": "completed"
    },
    "tags": []
   },
   "outputs": [],
   "source": [
    "cp_metrics_df = pd.DataFrame(cp_metrics_dict)"
   ]
  },
  {
   "cell_type": "code",
   "execution_count": 45,
   "id": "db12611b-57b2-4910-b9d0-355adfd6e7bf",
   "metadata": {
    "execution": {
     "iopub.execute_input": "2025-07-23T14:37:05.132364Z",
     "iopub.status.busy": "2025-07-23T14:37:05.131905Z",
     "iopub.status.idle": "2025-07-23T14:37:05.155268Z",
     "shell.execute_reply": "2025-07-23T14:37:05.153971Z"
    },
    "papermill": {
     "duration": 0.049862,
     "end_time": "2025-07-23T14:37:05.157663",
     "exception": false,
     "start_time": "2025-07-23T14:37:05.107801",
     "status": "completed"
    },
    "tags": []
   },
   "outputs": [
    {
     "data": {
      "text/html": [
       "<div>\n",
       "<style scoped>\n",
       "    .dataframe tbody tr th:only-of-type {\n",
       "        vertical-align: middle;\n",
       "    }\n",
       "\n",
       "    .dataframe tbody tr th {\n",
       "        vertical-align: top;\n",
       "    }\n",
       "\n",
       "    .dataframe thead th {\n",
       "        text-align: right;\n",
       "    }\n",
       "</style>\n",
       "<table border=\"1\" class=\"dataframe\">\n",
       "  <thead>\n",
       "    <tr style=\"text-align: right;\">\n",
       "      <th></th>\n",
       "      <th>universe_id</th>\n",
       "      <th>universe_model</th>\n",
       "      <th>universe_exclude_features</th>\n",
       "      <th>universe_exclude_subgroups</th>\n",
       "      <th>universe_scale</th>\n",
       "      <th>q_hat</th>\n",
       "      <th>coverage</th>\n",
       "      <th>avg_size</th>\n",
       "    </tr>\n",
       "  </thead>\n",
       "  <tbody>\n",
       "    <tr>\n",
       "      <th>0</th>\n",
       "      <td>de6d55feceb94a23585f9ab70ec712e7</td>\n",
       "      <td>rf</td>\n",
       "      <td>sex</td>\n",
       "      <td>keep-all</td>\n",
       "      <td>do-not-scale</td>\n",
       "      <td>0.65</td>\n",
       "      <td>0.915193</td>\n",
       "      <td>1.139137</td>\n",
       "    </tr>\n",
       "  </tbody>\n",
       "</table>\n",
       "</div>"
      ],
      "text/plain": [
       "                        universe_id universe_model universe_exclude_features  \\\n",
       "0  de6d55feceb94a23585f9ab70ec712e7             rf                       sex   \n",
       "\n",
       "  universe_exclude_subgroups universe_scale  q_hat  coverage  avg_size  \n",
       "0                   keep-all   do-not-scale   0.65  0.915193  1.139137  "
      ]
     },
     "execution_count": 45,
     "metadata": {},
     "output_type": "execute_result"
    }
   ],
   "source": [
    "cp_metrics_df"
   ]
  },
  {
   "cell_type": "code",
   "execution_count": 46,
   "id": "b7fbde55-a0a1-47e4-9af6-fe4a17fa8c61",
   "metadata": {
    "execution": {
     "iopub.execute_input": "2025-07-23T14:37:05.206532Z",
     "iopub.status.busy": "2025-07-23T14:37:05.206076Z",
     "iopub.status.idle": "2025-07-23T14:37:05.212209Z",
     "shell.execute_reply": "2025-07-23T14:37:05.211146Z"
    },
    "papermill": {
     "duration": 0.034025,
     "end_time": "2025-07-23T14:37:05.215833",
     "exception": false,
     "start_time": "2025-07-23T14:37:05.181808",
     "status": "completed"
    },
    "tags": []
   },
   "outputs": [],
   "source": [
    "# Conditional Coverage & looking at subgroups"
   ]
  },
  {
   "cell_type": "code",
   "execution_count": 47,
   "id": "027ae886-68dd-4141-96c7-805a5450e1ef",
   "metadata": {
    "execution": {
     "iopub.execute_input": "2025-07-23T14:37:05.295037Z",
     "iopub.status.busy": "2025-07-23T14:37:05.294588Z",
     "iopub.status.idle": "2025-07-23T14:37:05.696946Z",
     "shell.execute_reply": "2025-07-23T14:37:05.695846Z"
    },
    "papermill": {
     "duration": 0.459667,
     "end_time": "2025-07-23T14:37:05.699154",
     "exception": false,
     "start_time": "2025-07-23T14:37:05.239487",
     "status": "completed"
    },
    "tags": []
   },
   "outputs": [],
   "source": [
    "from fairness_multiverse.conformal import build_cp_groups\n",
    "\n",
    "cp_groups_df = build_cp_groups(pred_sets, y_true, X_test.index, org_test)\n",
    "#needs universe_id and setting"
   ]
  },
  {
   "cell_type": "code",
   "execution_count": 48,
   "id": "c3b92545-903e-4839-89af-0f057907d7d6",
   "metadata": {
    "execution": {
     "iopub.execute_input": "2025-07-23T14:37:05.780629Z",
     "iopub.status.busy": "2025-07-23T14:37:05.780168Z",
     "iopub.status.idle": "2025-07-23T14:37:07.761870Z",
     "shell.execute_reply": "2025-07-23T14:37:07.760639Z"
    },
    "papermill": {
     "duration": 2.007816,
     "end_time": "2025-07-23T14:37:07.764102",
     "exception": false,
     "start_time": "2025-07-23T14:37:05.756286",
     "status": "completed"
    },
    "tags": []
   },
   "outputs": [],
   "source": [
    "# Define covered = 1 if true_label is in the predicted set\n",
    "cp_groups_df['covered'] = cp_groups_df.apply(\n",
    "    lambda r: int(r['true_label'] in r['pred_set']),\n",
    "    axis=1\n",
    ")"
   ]
  },
  {
   "cell_type": "code",
   "execution_count": 49,
   "id": "338ff529-1a6b-4b87-a931-8e4788d52aad",
   "metadata": {
    "execution": {
     "iopub.execute_input": "2025-07-23T14:37:07.828580Z",
     "iopub.status.busy": "2025-07-23T14:37:07.828142Z",
     "iopub.status.idle": "2025-07-23T14:37:07.834087Z",
     "shell.execute_reply": "2025-07-23T14:37:07.832923Z"
    },
    "papermill": {
     "duration": 0.049754,
     "end_time": "2025-07-23T14:37:07.837843",
     "exception": false,
     "start_time": "2025-07-23T14:37:07.788089",
     "status": "completed"
    },
    "tags": []
   },
   "outputs": [],
   "source": [
    "#cp_groups_df"
   ]
  },
  {
   "cell_type": "code",
   "execution_count": 50,
   "id": "90032e27-66df-4540-9169-4e89cfbaa758",
   "metadata": {
    "execution": {
     "iopub.execute_input": "2025-07-23T14:37:07.885582Z",
     "iopub.status.busy": "2025-07-23T14:37:07.885125Z",
     "iopub.status.idle": "2025-07-23T14:37:07.899501Z",
     "shell.execute_reply": "2025-07-23T14:37:07.898276Z"
    },
    "papermill": {
     "duration": 0.040997,
     "end_time": "2025-07-23T14:37:07.901932",
     "exception": false,
     "start_time": "2025-07-23T14:37:07.860935",
     "status": "completed"
    },
    "tags": []
   },
   "outputs": [],
   "source": [
    "subgroups = ['frau1','nongerman','nongerman_male','nongerman_female']\n",
    "\n",
    "# Conditional coverage for subgroup==1\n",
    "cond_coverage = {\n",
    "    g: cp_groups_df.loc[cp_groups_df[g]==1, 'covered'].mean()\n",
    "    for g in subgroups\n",
    "}"
   ]
  },
  {
   "cell_type": "code",
   "execution_count": 51,
   "id": "1e348fb1-b9c3-45bc-ba23-f016827a7e0d",
   "metadata": {
    "execution": {
     "iopub.execute_input": "2025-07-23T14:37:07.993953Z",
     "iopub.status.busy": "2025-07-23T14:37:07.993420Z",
     "iopub.status.idle": "2025-07-23T14:37:08.003031Z",
     "shell.execute_reply": "2025-07-23T14:37:08.001679Z"
    },
    "papermill": {
     "duration": 0.065461,
     "end_time": "2025-07-23T14:37:08.008596",
     "exception": false,
     "start_time": "2025-07-23T14:37:07.943135",
     "status": "completed"
    },
    "tags": []
   },
   "outputs": [
    {
     "data": {
      "text/plain": [
       "{'frau1': 0.9151637687019814,\n",
       " 'nongerman': 0.9123112333688879,\n",
       " 'nongerman_male': 0.9257858236512654,\n",
       " 'nongerman_female': 0.8900149031296573}"
      ]
     },
     "execution_count": 51,
     "metadata": {},
     "output_type": "execute_result"
    }
   ],
   "source": [
    "cond_coverage"
   ]
  },
  {
   "cell_type": "code",
   "execution_count": 52,
   "id": "f5093324-c3dd-4d63-bc4c-8d945e5c8bbb",
   "metadata": {
    "execution": {
     "iopub.execute_input": "2025-07-23T14:37:08.109238Z",
     "iopub.status.busy": "2025-07-23T14:37:08.108801Z",
     "iopub.status.idle": "2025-07-23T14:37:08.118008Z",
     "shell.execute_reply": "2025-07-23T14:37:08.116811Z"
    },
    "papermill": {
     "duration": 0.068998,
     "end_time": "2025-07-23T14:37:08.120227",
     "exception": false,
     "start_time": "2025-07-23T14:37:08.051229",
     "status": "completed"
    },
    "tags": []
   },
   "outputs": [],
   "source": [
    "for subgroup, cov in cond_coverage.items():\n",
    "    cp_metrics_df[f\"cov_{subgroup}\"] = cov"
   ]
  },
  {
   "cell_type": "code",
   "execution_count": 53,
   "id": "6e872e10-dbe5-49e8-b554-5030c98ff75d",
   "metadata": {
    "execution": {
     "iopub.execute_input": "2025-07-23T14:37:08.167816Z",
     "iopub.status.busy": "2025-07-23T14:37:08.167370Z",
     "iopub.status.idle": "2025-07-23T14:37:08.191094Z",
     "shell.execute_reply": "2025-07-23T14:37:08.189959Z"
    },
    "papermill": {
     "duration": 0.050593,
     "end_time": "2025-07-23T14:37:08.193601",
     "exception": false,
     "start_time": "2025-07-23T14:37:08.143008",
     "status": "completed"
    },
    "tags": []
   },
   "outputs": [
    {
     "data": {
      "text/html": [
       "<div>\n",
       "<style scoped>\n",
       "    .dataframe tbody tr th:only-of-type {\n",
       "        vertical-align: middle;\n",
       "    }\n",
       "\n",
       "    .dataframe tbody tr th {\n",
       "        vertical-align: top;\n",
       "    }\n",
       "\n",
       "    .dataframe thead th {\n",
       "        text-align: right;\n",
       "    }\n",
       "</style>\n",
       "<table border=\"1\" class=\"dataframe\">\n",
       "  <thead>\n",
       "    <tr style=\"text-align: right;\">\n",
       "      <th></th>\n",
       "      <th>universe_id</th>\n",
       "      <th>universe_model</th>\n",
       "      <th>universe_exclude_features</th>\n",
       "      <th>universe_exclude_subgroups</th>\n",
       "      <th>universe_scale</th>\n",
       "      <th>q_hat</th>\n",
       "      <th>coverage</th>\n",
       "      <th>avg_size</th>\n",
       "      <th>cov_frau1</th>\n",
       "      <th>cov_nongerman</th>\n",
       "      <th>cov_nongerman_male</th>\n",
       "      <th>cov_nongerman_female</th>\n",
       "    </tr>\n",
       "  </thead>\n",
       "  <tbody>\n",
       "    <tr>\n",
       "      <th>0</th>\n",
       "      <td>de6d55feceb94a23585f9ab70ec712e7</td>\n",
       "      <td>rf</td>\n",
       "      <td>sex</td>\n",
       "      <td>keep-all</td>\n",
       "      <td>do-not-scale</td>\n",
       "      <td>0.65</td>\n",
       "      <td>0.915193</td>\n",
       "      <td>1.139137</td>\n",
       "      <td>0.915164</td>\n",
       "      <td>0.912311</td>\n",
       "      <td>0.925786</td>\n",
       "      <td>0.890015</td>\n",
       "    </tr>\n",
       "  </tbody>\n",
       "</table>\n",
       "</div>"
      ],
      "text/plain": [
       "                        universe_id universe_model universe_exclude_features  \\\n",
       "0  de6d55feceb94a23585f9ab70ec712e7             rf                       sex   \n",
       "\n",
       "  universe_exclude_subgroups universe_scale  q_hat  coverage  avg_size  \\\n",
       "0                   keep-all   do-not-scale   0.65  0.915193  1.139137   \n",
       "\n",
       "   cov_frau1  cov_nongerman  cov_nongerman_male  cov_nongerman_female  \n",
       "0   0.915164       0.912311            0.925786              0.890015  "
      ]
     },
     "execution_count": 53,
     "metadata": {},
     "output_type": "execute_result"
    }
   ],
   "source": [
    "cp_metrics_df"
   ]
  },
  {
   "cell_type": "markdown",
   "id": "33774451",
   "metadata": {
    "papermill": {
     "duration": 0.024399,
     "end_time": "2025-07-23T14:37:08.241558",
     "exception": false,
     "start_time": "2025-07-23T14:37:08.217159",
     "status": "completed"
    },
    "tags": []
   },
   "source": [
    "# (Fairness) Metrics"
   ]
  },
  {
   "cell_type": "code",
   "execution_count": 54,
   "id": "debc5d62",
   "metadata": {
    "execution": {
     "iopub.execute_input": "2025-07-23T14:37:08.290884Z",
     "iopub.status.busy": "2025-07-23T14:37:08.290410Z",
     "iopub.status.idle": "2025-07-23T14:37:08.433828Z",
     "shell.execute_reply": "2025-07-23T14:37:08.432612Z"
    },
    "papermill": {
     "duration": 0.174466,
     "end_time": "2025-07-23T14:37:08.438997",
     "exception": false,
     "start_time": "2025-07-23T14:37:08.264531",
     "status": "completed"
    },
    "tags": []
   },
   "outputs": [],
   "source": [
    "# do I need to include maxdeutsch1.missing?\n",
    "\n",
    "import numpy as np\n",
    "\n",
    "colname_to_bin = \"maxdeutsch1\"\n",
    "majority_value = org_train[colname_to_bin].mode()[0]\n",
    "\n",
    "org_test[\"majmin\"] = np.where(org_test[colname_to_bin] == majority_value, \"majority\", \"minority\")"
   ]
  },
  {
   "cell_type": "code",
   "execution_count": 55,
   "id": "06a50de5",
   "metadata": {
    "execution": {
     "iopub.execute_input": "2025-07-23T14:37:08.594775Z",
     "iopub.status.busy": "2025-07-23T14:37:08.594312Z",
     "iopub.status.idle": "2025-07-23T14:37:14.304689Z",
     "shell.execute_reply": "2025-07-23T14:37:14.303485Z"
    },
    "papermill": {
     "duration": 5.786448,
     "end_time": "2025-07-23T14:37:14.307106",
     "exception": false,
     "start_time": "2025-07-23T14:37:08.520658",
     "status": "completed"
    },
    "tags": []
   },
   "outputs": [],
   "source": [
    "example_universe = universe.copy()\n",
    "example_universe[\"cutoff\"] = example_universe[\"cutoff\"][0]\n",
    "example_universe[\"eval_fairness_grouping\"] = example_universe[\"eval_fairness_grouping\"][0]\n",
    "fairness_dict, metric_frame = universe_analysis.compute_metrics(\n",
    "    example_universe,\n",
    "    y_pred_prob=probs_test,\n",
    "    y_test=y_true,\n",
    "    org_test=org_test,\n",
    ")"
   ]
  },
  {
   "cell_type": "markdown",
   "id": "f95d4e02",
   "metadata": {
    "papermill": {
     "duration": 0.069977,
     "end_time": "2025-07-23T14:37:14.441342",
     "exception": false,
     "start_time": "2025-07-23T14:37:14.371365",
     "status": "completed"
    },
    "tags": []
   },
   "source": [
    "# Overall"
   ]
  },
  {
   "cell_type": "markdown",
   "id": "bdee4871",
   "metadata": {
    "papermill": {
     "duration": 0.066866,
     "end_time": "2025-07-23T14:37:14.533037",
     "exception": false,
     "start_time": "2025-07-23T14:37:14.466171",
     "status": "completed"
    },
    "tags": []
   },
   "source": [
    "Fairness\n",
    "Main fairness target: Equalized Odds. Seems to be a better fit than equal opportunity, since we're not only interested in Y = 1. Seems to be a better fit than demographic parity, since we also care about accuracy, not just equal distribution of preds.\n",
    "\n",
    "Pick column for computation of fairness metrics\n",
    "\n",
    "Performance\n",
    "Overall performance measures, most interesting in relation to the measures split by group below"
   ]
  },
  {
   "cell_type": "code",
   "execution_count": 56,
   "id": "c4e067c6",
   "metadata": {
    "execution": {
     "iopub.execute_input": "2025-07-23T14:37:14.659256Z",
     "iopub.status.busy": "2025-07-23T14:37:14.658793Z",
     "iopub.status.idle": "2025-07-23T14:37:14.669039Z",
     "shell.execute_reply": "2025-07-23T14:37:14.667945Z"
    },
    "papermill": {
     "duration": 0.060535,
     "end_time": "2025-07-23T14:37:14.670946",
     "exception": false,
     "start_time": "2025-07-23T14:37:14.610411",
     "status": "completed"
    },
    "tags": []
   },
   "outputs": [
    {
     "data": {
      "text/plain": [
       "accuracy                   0.202620\n",
       "balanced accuracy          0.532968\n",
       "f1                         0.239229\n",
       "precision                  0.136296\n",
       "false positive rate        0.911383\n",
       "false negative rate        0.022680\n",
       "selection rate             0.919842\n",
       "count                  89710.000000\n",
       "dtype: float64"
      ]
     },
     "execution_count": 56,
     "metadata": {},
     "output_type": "execute_result"
    }
   ],
   "source": [
    "metric_frame.overall"
   ]
  },
  {
   "cell_type": "markdown",
   "id": "e968fe9d",
   "metadata": {
    "papermill": {
     "duration": 0.04013,
     "end_time": "2025-07-23T14:37:14.793333",
     "exception": false,
     "start_time": "2025-07-23T14:37:14.753203",
     "status": "completed"
    },
    "tags": []
   },
   "source": [
    "By Group"
   ]
  },
  {
   "cell_type": "code",
   "execution_count": 57,
   "id": "ec325bce",
   "metadata": {
    "execution": {
     "iopub.execute_input": "2025-07-23T14:37:14.927236Z",
     "iopub.status.busy": "2025-07-23T14:37:14.926782Z",
     "iopub.status.idle": "2025-07-23T14:37:14.969042Z",
     "shell.execute_reply": "2025-07-23T14:37:14.967963Z"
    },
    "papermill": {
     "duration": 0.101654,
     "end_time": "2025-07-23T14:37:14.970822",
     "exception": false,
     "start_time": "2025-07-23T14:37:14.869168",
     "status": "completed"
    },
    "tags": []
   },
   "outputs": [
    {
     "data": {
      "text/html": [
       "<div>\n",
       "<style scoped>\n",
       "    .dataframe tbody tr th:only-of-type {\n",
       "        vertical-align: middle;\n",
       "    }\n",
       "\n",
       "    .dataframe tbody tr th {\n",
       "        vertical-align: top;\n",
       "    }\n",
       "\n",
       "    .dataframe thead th {\n",
       "        text-align: right;\n",
       "    }\n",
       "</style>\n",
       "<table border=\"1\" class=\"dataframe\">\n",
       "  <thead>\n",
       "    <tr style=\"text-align: right;\">\n",
       "      <th></th>\n",
       "      <th>accuracy</th>\n",
       "      <th>balanced accuracy</th>\n",
       "      <th>f1</th>\n",
       "      <th>precision</th>\n",
       "      <th>false positive rate</th>\n",
       "      <th>false negative rate</th>\n",
       "      <th>selection rate</th>\n",
       "      <th>count</th>\n",
       "    </tr>\n",
       "    <tr>\n",
       "      <th>majmin</th>\n",
       "      <th></th>\n",
       "      <th></th>\n",
       "      <th></th>\n",
       "      <th></th>\n",
       "      <th></th>\n",
       "      <th></th>\n",
       "      <th></th>\n",
       "      <th></th>\n",
       "    </tr>\n",
       "  </thead>\n",
       "  <tbody>\n",
       "    <tr>\n",
       "      <th>majority</th>\n",
       "      <td>0.187740</td>\n",
       "      <td>0.528324</td>\n",
       "      <td>0.243863</td>\n",
       "      <td>0.139034</td>\n",
       "      <td>0.934599</td>\n",
       "      <td>0.008753</td>\n",
       "      <td>0.942085</td>\n",
       "      <td>69170.0</td>\n",
       "    </tr>\n",
       "    <tr>\n",
       "      <th>minority</th>\n",
       "      <td>0.252726</td>\n",
       "      <td>0.544437</td>\n",
       "      <td>0.221772</td>\n",
       "      <td>0.126016</td>\n",
       "      <td>0.834691</td>\n",
       "      <td>0.076436</td>\n",
       "      <td>0.844937</td>\n",
       "      <td>20540.0</td>\n",
       "    </tr>\n",
       "  </tbody>\n",
       "</table>\n",
       "</div>"
      ],
      "text/plain": [
       "          accuracy  balanced accuracy        f1  precision  \\\n",
       "majmin                                                       \n",
       "majority  0.187740           0.528324  0.243863   0.139034   \n",
       "minority  0.252726           0.544437  0.221772   0.126016   \n",
       "\n",
       "          false positive rate  false negative rate  selection rate    count  \n",
       "majmin                                                                       \n",
       "majority             0.934599             0.008753        0.942085  69170.0  \n",
       "minority             0.834691             0.076436        0.844937  20540.0  "
      ]
     },
     "execution_count": 57,
     "metadata": {},
     "output_type": "execute_result"
    }
   ],
   "source": [
    "metric_frame.by_group"
   ]
  },
  {
   "cell_type": "code",
   "execution_count": 58,
   "id": "a9ddbe63",
   "metadata": {
    "execution": {
     "iopub.execute_input": "2025-07-23T14:37:15.116170Z",
     "iopub.status.busy": "2025-07-23T14:37:15.115697Z",
     "iopub.status.idle": "2025-07-23T14:37:19.014723Z",
     "shell.execute_reply": "2025-07-23T14:37:19.013634Z"
    },
    "papermill": {
     "duration": 3.975854,
     "end_time": "2025-07-23T14:37:19.016528",
     "exception": false,
     "start_time": "2025-07-23T14:37:15.040674",
     "status": "completed"
    },
    "tags": []
   },
   "outputs": [
    {
     "data": {
      "text/plain": [
       "array([[<Axes: title={'center': 'accuracy'}, xlabel='majmin'>,\n",
       "        <Axes: title={'center': 'balanced accuracy'}, xlabel='majmin'>,\n",
       "        <Axes: title={'center': 'f1'}, xlabel='majmin'>],\n",
       "       [<Axes: title={'center': 'precision'}, xlabel='majmin'>,\n",
       "        <Axes: title={'center': 'false positive rate'}, xlabel='majmin'>,\n",
       "        <Axes: title={'center': 'false negative rate'}, xlabel='majmin'>],\n",
       "       [<Axes: title={'center': 'selection rate'}, xlabel='majmin'>,\n",
       "        <Axes: title={'center': 'count'}, xlabel='majmin'>,\n",
       "        <Axes: xlabel='majmin'>]], dtype=object)"
      ]
     },
     "execution_count": 58,
     "metadata": {},
     "output_type": "execute_result"
    },
    {
     "data": {
      "image/png": "[encoded data removed]",
      "text/plain": [
       "<Figure size 1200x800 with 9 Axes>"
      ]
     },
     "metadata": {},
     "output_type": "display_data"
    }
   ],
   "source": [
    "# In a graphic\n",
    "metric_frame.by_group.plot.bar(\n",
    "    subplots=True,\n",
    "    layout=[3, 3],\n",
    "    legend=False,\n",
    "    figsize=[12, 8],\n",
    "    title=\"Show all metrics\",\n",
    ")"
   ]
  },
  {
   "cell_type": "markdown",
   "id": "f57a0bac",
   "metadata": {
    "papermill": {
     "duration": 0.053951,
     "end_time": "2025-07-23T14:37:19.129563",
     "exception": false,
     "start_time": "2025-07-23T14:37:19.075612",
     "status": "completed"
    },
    "tags": []
   },
   "source": [
    "# Final Output"
   ]
  },
  {
   "cell_type": "code",
   "execution_count": 59,
   "id": "96d280a3",
   "metadata": {
    "execution": {
     "iopub.execute_input": "2025-07-23T14:37:19.208007Z",
     "iopub.status.busy": "2025-07-23T14:37:19.207375Z",
     "iopub.status.idle": "2025-07-23T14:37:19.217264Z",
     "shell.execute_reply": "2025-07-23T14:37:19.216068Z"
    },
    "papermill": {
     "duration": 0.054796,
     "end_time": "2025-07-23T14:37:19.225807",
     "exception": false,
     "start_time": "2025-07-23T14:37:19.171011",
     "status": "completed"
    },
    "tags": []
   },
   "outputs": [
    {
     "data": {
      "text/plain": [
       "4"
      ]
     },
     "execution_count": 59,
     "metadata": {},
     "output_type": "execute_result"
    }
   ],
   "source": [
    "sub_universes = universe_analysis.generate_sub_universes()\n",
    "len(sub_universes)"
   ]
  },
  {
   "cell_type": "code",
   "execution_count": 60,
   "id": "92adf7ba",
   "metadata": {
    "execution": {
     "iopub.execute_input": "2025-07-23T14:37:19.289017Z",
     "iopub.status.busy": "2025-07-23T14:37:19.288540Z",
     "iopub.status.idle": "2025-07-23T14:37:19.295570Z",
     "shell.execute_reply": "2025-07-23T14:37:19.294606Z"
    },
    "papermill": {
     "duration": 0.037771,
     "end_time": "2025-07-23T14:37:19.299326",
     "exception": false,
     "start_time": "2025-07-23T14:37:19.261555",
     "status": "completed"
    },
    "tags": []
   },
   "outputs": [],
   "source": [
    "def filter_sub_universe_data(sub_universe, org_test):\n",
    "    # Keep all rows — no filtering\n",
    "    keep_rows_mask = np.ones(org_test.shape[0], dtype=bool)\n",
    "\n",
    "    print(f\"[INFO] Keeping all rows: {keep_rows_mask.sum()} rows retained.\")\n",
    "    return keep_rows_mask"
   ]
  },
  {
   "cell_type": "code",
   "execution_count": 61,
   "id": "4a759155",
   "metadata": {
    "execution": {
     "iopub.execute_input": "2025-07-23T14:37:19.410798Z",
     "iopub.status.busy": "2025-07-23T14:37:19.410348Z",
     "iopub.status.idle": "2025-07-23T14:37:34.566280Z",
     "shell.execute_reply": "2025-07-23T14:37:34.565026Z"
    },
    "papermill": {
     "duration": 15.226674,
     "end_time": "2025-07-23T14:37:34.567973",
     "exception": false,
     "start_time": "2025-07-23T14:37:19.341299",
     "status": "completed"
    },
    "tags": []
   },
   "outputs": [
    {
     "name": "stdout",
     "output_type": "stream",
     "text": [
      "Stopping execution_time clock.\n",
      "[INFO] Keeping all rows: 89710 rows retained.\n"
     ]
    },
    {
     "name": "stdout",
     "output_type": "stream",
     "text": [
      "[INFO] Keeping all rows: 89710 rows retained.\n"
     ]
    },
    {
     "name": "stdout",
     "output_type": "stream",
     "text": [
      "[INFO] Keeping all rows: 89710 rows retained.\n"
     ]
    },
    {
     "name": "stdout",
     "output_type": "stream",
     "text": [
      "[INFO] Keeping all rows: 89710 rows retained.\n"
     ]
    },
    {
     "data": {
      "text/html": [
       "<div>\n",
       "<style scoped>\n",
       "    .dataframe tbody tr th:only-of-type {\n",
       "        vertical-align: middle;\n",
       "    }\n",
       "\n",
       "    .dataframe tbody tr th {\n",
       "        vertical-align: top;\n",
       "    }\n",
       "\n",
       "    .dataframe thead th {\n",
       "        text-align: right;\n",
       "    }\n",
       "</style>\n",
       "<table border=\"1\" class=\"dataframe\">\n",
       "  <thead>\n",
       "    <tr style=\"text-align: right;\">\n",
       "      <th></th>\n",
       "      <th>run_no</th>\n",
       "      <th>universe_id</th>\n",
       "      <th>universe_settings</th>\n",
       "      <th>execution_time</th>\n",
       "      <th>test_size_n</th>\n",
       "      <th>test_size_frac</th>\n",
       "      <th>fair_main_equalized_odds_difference</th>\n",
       "      <th>fair_main_equalized_odds_ratio</th>\n",
       "      <th>fair_main_demographic_parity_difference</th>\n",
       "      <th>fair_main_demographic_parity_ratio</th>\n",
       "      <th>...</th>\n",
       "      <th>perf_grp_precision_0</th>\n",
       "      <th>perf_grp_precision_1</th>\n",
       "      <th>perf_grp_false positive rate_0</th>\n",
       "      <th>perf_grp_false positive rate_1</th>\n",
       "      <th>perf_grp_false negative rate_0</th>\n",
       "      <th>perf_grp_false negative rate_1</th>\n",
       "      <th>perf_grp_selection rate_0</th>\n",
       "      <th>perf_grp_selection rate_1</th>\n",
       "      <th>perf_grp_count_0</th>\n",
       "      <th>perf_grp_count_1</th>\n",
       "    </tr>\n",
       "  </thead>\n",
       "  <tbody>\n",
       "    <tr>\n",
       "      <th>0</th>\n",
       "      <td>9</td>\n",
       "      <td>de6d55feceb94a23585f9ab70ec712e7</td>\n",
       "      <td>{\"cutoff\": \"quantile_0.1\", \"eval_fairness_grou...</td>\n",
       "      <td>56.625144</td>\n",
       "      <td>89710</td>\n",
       "      <td>1.0</td>\n",
       "      <td>0.099909</td>\n",
       "      <td>0.893100</td>\n",
       "      <td>0.097148</td>\n",
       "      <td>0.896880</td>\n",
       "      <td>...</td>\n",
       "      <td>NaN</td>\n",
       "      <td>NaN</td>\n",
       "      <td>NaN</td>\n",
       "      <td>NaN</td>\n",
       "      <td>NaN</td>\n",
       "      <td>NaN</td>\n",
       "      <td>NaN</td>\n",
       "      <td>NaN</td>\n",
       "      <td>NaN</td>\n",
       "      <td>NaN</td>\n",
       "    </tr>\n",
       "    <tr>\n",
       "      <th>0</th>\n",
       "      <td>9</td>\n",
       "      <td>de6d55feceb94a23585f9ab70ec712e7</td>\n",
       "      <td>{\"cutoff\": \"quantile_0.1\", \"eval_fairness_grou...</td>\n",
       "      <td>56.625144</td>\n",
       "      <td>89710</td>\n",
       "      <td>1.0</td>\n",
       "      <td>0.099909</td>\n",
       "      <td>0.893100</td>\n",
       "      <td>0.097148</td>\n",
       "      <td>0.896880</td>\n",
       "      <td>...</td>\n",
       "      <td>0.126016</td>\n",
       "      <td>0.139034</td>\n",
       "      <td>0.834691</td>\n",
       "      <td>0.934599</td>\n",
       "      <td>0.076436</td>\n",
       "      <td>0.008753</td>\n",
       "      <td>0.844937</td>\n",
       "      <td>0.942085</td>\n",
       "      <td>20540.0</td>\n",
       "      <td>69170.0</td>\n",
       "    </tr>\n",
       "    <tr>\n",
       "      <th>0</th>\n",
       "      <td>9</td>\n",
       "      <td>de6d55feceb94a23585f9ab70ec712e7</td>\n",
       "      <td>{\"cutoff\": \"quantile_0.25\", \"eval_fairness_gro...</td>\n",
       "      <td>56.625144</td>\n",
       "      <td>89710</td>\n",
       "      <td>1.0</td>\n",
       "      <td>0.103864</td>\n",
       "      <td>0.871043</td>\n",
       "      <td>0.103257</td>\n",
       "      <td>0.870462</td>\n",
       "      <td>...</td>\n",
       "      <td>NaN</td>\n",
       "      <td>NaN</td>\n",
       "      <td>NaN</td>\n",
       "      <td>NaN</td>\n",
       "      <td>NaN</td>\n",
       "      <td>NaN</td>\n",
       "      <td>NaN</td>\n",
       "      <td>NaN</td>\n",
       "      <td>NaN</td>\n",
       "      <td>NaN</td>\n",
       "    </tr>\n",
       "    <tr>\n",
       "      <th>0</th>\n",
       "      <td>9</td>\n",
       "      <td>de6d55feceb94a23585f9ab70ec712e7</td>\n",
       "      <td>{\"cutoff\": \"quantile_0.25\", \"eval_fairness_gro...</td>\n",
       "      <td>56.625144</td>\n",
       "      <td>89710</td>\n",
       "      <td>1.0</td>\n",
       "      <td>0.103864</td>\n",
       "      <td>0.871043</td>\n",
       "      <td>0.103257</td>\n",
       "      <td>0.870462</td>\n",
       "      <td>...</td>\n",
       "      <td>0.142787</td>\n",
       "      <td>0.159675</td>\n",
       "      <td>0.672298</td>\n",
       "      <td>0.771831</td>\n",
       "      <td>0.140625</td>\n",
       "      <td>0.036761</td>\n",
       "      <td>0.693866</td>\n",
       "      <td>0.797123</td>\n",
       "      <td>20540.0</td>\n",
       "      <td>69170.0</td>\n",
       "    </tr>\n",
       "  </tbody>\n",
       "</table>\n",
       "<p>4 rows × 50 columns</p>\n",
       "</div>"
      ],
      "text/plain": [
       "  run_no                       universe_id  \\\n",
       "0      9  de6d55feceb94a23585f9ab70ec712e7   \n",
       "0      9  de6d55feceb94a23585f9ab70ec712e7   \n",
       "0      9  de6d55feceb94a23585f9ab70ec712e7   \n",
       "0      9  de6d55feceb94a23585f9ab70ec712e7   \n",
       "\n",
       "                                   universe_settings  execution_time  \\\n",
       "0  {\"cutoff\": \"quantile_0.1\", \"eval_fairness_grou...       56.625144   \n",
       "0  {\"cutoff\": \"quantile_0.1\", \"eval_fairness_grou...       56.625144   \n",
       "0  {\"cutoff\": \"quantile_0.25\", \"eval_fairness_gro...       56.625144   \n",
       "0  {\"cutoff\": \"quantile_0.25\", \"eval_fairness_gro...       56.625144   \n",
       "\n",
       "   test_size_n  test_size_frac  fair_main_equalized_odds_difference  \\\n",
       "0        89710             1.0                             0.099909   \n",
       "0        89710             1.0                             0.099909   \n",
       "0        89710             1.0                             0.103864   \n",
       "0        89710             1.0                             0.103864   \n",
       "\n",
       "   fair_main_equalized_odds_ratio  fair_main_demographic_parity_difference  \\\n",
       "0                        0.893100                                 0.097148   \n",
       "0                        0.893100                                 0.097148   \n",
       "0                        0.871043                                 0.103257   \n",
       "0                        0.871043                                 0.103257   \n",
       "\n",
       "   fair_main_demographic_parity_ratio  ...  perf_grp_precision_0  \\\n",
       "0                            0.896880  ...                   NaN   \n",
       "0                            0.896880  ...              0.126016   \n",
       "0                            0.870462  ...                   NaN   \n",
       "0                            0.870462  ...              0.142787   \n",
       "\n",
       "   perf_grp_precision_1  perf_grp_false positive rate_0  \\\n",
       "0                   NaN                             NaN   \n",
       "0              0.139034                        0.834691   \n",
       "0                   NaN                             NaN   \n",
       "0              0.159675                        0.672298   \n",
       "\n",
       "   perf_grp_false positive rate_1  perf_grp_false negative rate_0  \\\n",
       "0                             NaN                             NaN   \n",
       "0                        0.934599                        0.076436   \n",
       "0                             NaN                             NaN   \n",
       "0                        0.771831                        0.140625   \n",
       "\n",
       "   perf_grp_false negative rate_1  perf_grp_selection rate_0  \\\n",
       "0                             NaN                        NaN   \n",
       "0                        0.008753                   0.844937   \n",
       "0                             NaN                        NaN   \n",
       "0                        0.036761                   0.693866   \n",
       "\n",
       "   perf_grp_selection rate_1  perf_grp_count_0  perf_grp_count_1  \n",
       "0                        NaN               NaN               NaN  \n",
       "0                   0.942085           20540.0           69170.0  \n",
       "0                        NaN               NaN               NaN  \n",
       "0                   0.797123           20540.0           69170.0  \n",
       "\n",
       "[4 rows x 50 columns]"
      ]
     },
     "execution_count": 61,
     "metadata": {},
     "output_type": "execute_result"
    }
   ],
   "source": [
    "final_output = universe_analysis.generate_final_output(\n",
    "    y_pred_prob=probs_test,\n",
    "    y_test=y_true,\n",
    "    org_test=org_test,\n",
    "    filter_data=filter_sub_universe_data,\n",
    "    cp_metrics_df=cp_metrics_df,\n",
    "    save=True,\n",
    ")\n",
    "final_output"
   ]
  },
  {
   "cell_type": "code",
   "execution_count": null,
   "id": "721ff514-cb11-46f8-b6fc-50392f74b5cb",
   "metadata": {
    "papermill": {
     "duration": 0.050556,
     "end_time": "2025-07-23T14:37:34.655459",
     "exception": false,
     "start_time": "2025-07-23T14:37:34.604903",
     "status": "completed"
    },
    "tags": []
   },
   "outputs": [],
   "source": []
  }
 ],
 "metadata": {
  "celltoolbar": "Tags",
  "kernelspec": {
   "display_name": "Python (CMA Fairness)",
   "language": "python",
   "name": "cma_fair_env"
  },
  "language_info": {
   "codemirror_mode": {
    "name": "ipython",
    "version": 3
   },
   "file_extension": ".py",
   "mimetype": "text/x-python",
   "name": "python",
   "nbconvert_exporter": "python",
   "pygments_lexer": "ipython3",
   "version": "3.10.12"
  },
  "papermill": {
   "default_parameters": {},
   "duration": 78.861242,
   "end_time": "2025-07-23T14:37:35.527372",
   "environment_variables": {},
   "exception": null,
   "input_path": "universe_analysis.ipynb",
   "output_path": "output/runs/9/notebooks/m_9-de6d55feceb94a23585f9ab70ec712e7.ipynb",
   "parameters": {
    "output_dir": "output",
    "run_no": "9",
    "seed": "2023",
    "universe": "{\"cutoff\": [\"quantile_0.1\", \"quantile_0.25\"], \"eval_fairness_grouping\": [\"majority-minority\", \"nationality-all\"], \"exclude_features\": \"sex\", \"exclude_subgroups\": \"keep-all\", \"model\": \"rf\", \"scale\": \"do-not-scale\"}",
    "universe_id": "de6d55feceb94a23585f9ab70ec712e7"
   },
   "start_time": "2025-07-23T14:36:16.666130",
   "version": "2.6.0"
  }
 },
 "nbformat": 4,
 "nbformat_minor": 5
}