{
 "cells": [
  {
   "cell_type": "code",
   "execution_count": 1,
   "id": "f159f837-637b-42ba-96b5-ec9a68c44524",
   "metadata": {
    "execution": {
     "iopub.execute_input": "2025-07-23T14:26:50.806102Z",
     "iopub.status.busy": "2025-07-23T14:26:50.805559Z",
     "iopub.status.idle": "2025-07-23T14:26:50.821314Z",
     "shell.execute_reply": "2025-07-23T14:26:50.820233Z"
    },
    "papermill": {
     "duration": 0.037387,
     "end_time": "2025-07-23T14:26:50.823413",
     "exception": false,
     "start_time": "2025-07-23T14:26:50.786026",
     "status": "completed"
    },
    "tags": []
   },
   "outputs": [
    {
     "name": "stdout",
     "output_type": "stream",
     "text": [
      "/dss/dsshome1/0C/ra93lal2/cma/CMA_Fairness_v2\n"
     ]
    },
    {
     "name": "stderr",
     "output_type": "stream",
     "text": [
      "/dss/dsshome1/0C/ra93lal2/.local/share/virtualenvs/CMA_Fairness_v2-3j10GkSs/lib/python3.10/site-packages/IPython/core/magics/osm.py:393: UserWarning: This is now an optional IPython functionality, using bookmarks requires you to install the `pickleshare` library.\n",
      "  bkms = self.shell.db.get('bookmarks', {})\n",
      "/dss/dsshome1/0C/ra93lal2/.local/share/virtualenvs/CMA_Fairness_v2-3j10GkSs/lib/python3.10/site-packages/IPython/core/magics/osm.py:417: UserWarning: This is now an optional IPython functionality, setting dhist requires you to install the `pickleshare` library.\n",
      "  self.shell.db['dhist'] = compress_dhist(dhist)[-100:]\n"
     ]
    }
   ],
   "source": [
    "%cd ~/cma/CMA_Fairness_v2"
   ]
  },
  {
   "cell_type": "markdown",
   "id": "de2603b9",
   "metadata": {
    "papermill": {
     "duration": 0.009158,
     "end_time": "2025-07-23T14:26:50.849597",
     "exception": false,
     "start_time": "2025-07-23T14:26:50.840439",
     "status": "completed"
    },
    "tags": []
   },
   "source": [
    "The following cell holds the definition of our parameters, these values can be overriden by rendering the with e.g. the following command:\n",
    "\n",
    "papermill -p alpha 0.2 -p ratio 0.3 universe_analysis.ipynb output/test_run.ipynb"
   ]
  },
  {
   "cell_type": "code",
   "execution_count": 2,
   "id": "a80968a0-40bb-4fa9-85ef-2d5eefb01975",
   "metadata": {
    "execution": {
     "iopub.execute_input": "2025-07-23T14:26:50.870020Z",
     "iopub.status.busy": "2025-07-23T14:26:50.869649Z",
     "iopub.status.idle": "2025-07-23T14:26:50.875011Z",
     "shell.execute_reply": "2025-07-23T14:26:50.874081Z"
    },
    "papermill": {
     "duration": 0.01757,
     "end_time": "2025-07-23T14:26:50.876542",
     "exception": false,
     "start_time": "2025-07-23T14:26:50.858972",
     "status": "completed"
    },
    "tags": []
   },
   "outputs": [
    {
     "name": "stdout",
     "output_type": "stream",
     "text": [
      "Current working directory: /dss/dsshome1/0C/ra93lal2/cma/CMA_Fairness_v2\n"
     ]
    }
   ],
   "source": [
    "import os\n",
    "print(\"Current working directory:\", os.getcwd())"
   ]
  },
  {
   "cell_type": "code",
   "execution_count": 3,
   "id": "2dce4c03",
   "metadata": {
    "execution": {
     "iopub.execute_input": "2025-07-23T14:26:50.897937Z",
     "iopub.status.busy": "2025-07-23T14:26:50.897569Z",
     "iopub.status.idle": "2025-07-23T14:26:50.903004Z",
     "shell.execute_reply": "2025-07-23T14:26:50.902227Z"
    },
    "papermill": {
     "duration": 0.017887,
     "end_time": "2025-07-23T14:26:50.904666",
     "exception": false,
     "start_time": "2025-07-23T14:26:50.886779",
     "status": "completed"
    },
    "tags": [
     "parameters"
    ]
   },
   "outputs": [],
   "source": [
    "run_no = 0\n",
    "universe_id = \"test\"\n",
    "universe = {\n",
    "    \"scale\": \"scale\", # \"scale\", \"do-not-scale\",\n",
    "    \"model\": \"elasticnet\", # \"logreg\", \"penalized_logreg\", \"rf\", \"gbm\", \"elasticnet\"\n",
    "    \"cutoff\": [\"quantile_0.15\", \"quantile_0.30\"],\n",
    "    \"exclude_features\": \"age\", # \"none\", \"nationality\", \"sex\", \"nationality-sex\", \"age\"\n",
    "    \"exclude_subgroups\": \"keep-all\", # \"keep-all\", \"drop-non-german\"\n",
    "    #\"training_sample\": \"restricted\", # \"restricted\", \"full\"\n",
    "    \"eval_fairness_grouping\": [\"majority-minority\", \"nationality-all\"]\n",
    "}\n",
    "\n",
    "output_dir=\"./output\"\n",
    "seed=0"
   ]
  },
  {
   "cell_type": "code",
   "execution_count": 4,
   "id": "ac741f9c",
   "metadata": {
    "execution": {
     "iopub.execute_input": "2025-07-23T14:26:50.935815Z",
     "iopub.status.busy": "2025-07-23T14:26:50.934904Z",
     "iopub.status.idle": "2025-07-23T14:26:50.940894Z",
     "shell.execute_reply": "2025-07-23T14:26:50.939948Z"
    },
    "papermill": {
     "duration": 0.026145,
     "end_time": "2025-07-23T14:26:50.942660",
     "exception": false,
     "start_time": "2025-07-23T14:26:50.916515",
     "status": "completed"
    },
    "tags": [
     "injected-parameters"
    ]
   },
   "outputs": [],
   "source": [
    "# Parameters\n",
    "universe_id = \"1c13f8470a08d1ebf202c9c523e48e8f\"\n",
    "run_no = \"9\"\n",
    "universe = \"{\\\"cutoff\\\": [\\\"quantile_0.1\\\", \\\"quantile_0.25\\\"], \\\"eval_fairness_grouping\\\": [\\\"majority-minority\\\", \\\"nationality-all\\\"], \\\"exclude_features\\\": \\\"age\\\", \\\"exclude_subgroups\\\": \\\"keep-all\\\", \\\"model\\\": \\\"logreg\\\", \\\"scale\\\": \\\"scale\\\"}\"\n",
    "output_dir = \"output\"\n",
    "seed = \"2023\"\n"
   ]
  },
  {
   "cell_type": "code",
   "execution_count": 5,
   "id": "1650acaf",
   "metadata": {
    "execution": {
     "iopub.execute_input": "2025-07-23T14:26:50.982656Z",
     "iopub.status.busy": "2025-07-23T14:26:50.982276Z",
     "iopub.status.idle": "2025-07-23T14:26:50.986852Z",
     "shell.execute_reply": "2025-07-23T14:26:50.986036Z"
    },
    "papermill": {
     "duration": 0.025423,
     "end_time": "2025-07-23T14:26:50.988346",
     "exception": false,
     "start_time": "2025-07-23T14:26:50.962923",
     "status": "completed"
    },
    "tags": []
   },
   "outputs": [],
   "source": [
    "import json\n",
    "# Parse universe into dict if it is passed as a string\n",
    "if isinstance(universe, str):\n",
    "    universe = json.loads(universe)"
   ]
  },
  {
   "cell_type": "code",
   "execution_count": 6,
   "id": "16620c48",
   "metadata": {
    "execution": {
     "iopub.execute_input": "2025-07-23T14:26:51.010410Z",
     "iopub.status.busy": "2025-07-23T14:26:51.009882Z",
     "iopub.status.idle": "2025-07-23T14:26:51.059093Z",
     "shell.execute_reply": "2025-07-23T14:26:51.058076Z"
    },
    "papermill": {
     "duration": 0.06298,
     "end_time": "2025-07-23T14:26:51.061419",
     "exception": false,
     "start_time": "2025-07-23T14:26:50.998439",
     "status": "completed"
    },
    "tags": []
   },
   "outputs": [],
   "source": [
    "# Auto-reload the custom package\n",
    "%load_ext autoreload\n",
    "%autoreload 1\n",
    "%aimport fairness_multiverse"
   ]
  },
  {
   "cell_type": "code",
   "execution_count": 7,
   "id": "01c5c9f3",
   "metadata": {
    "execution": {
     "iopub.execute_input": "2025-07-23T14:26:51.100438Z",
     "iopub.status.busy": "2025-07-23T14:26:51.099493Z",
     "iopub.status.idle": "2025-07-23T14:26:53.121823Z",
     "shell.execute_reply": "2025-07-23T14:26:53.120645Z"
    },
    "papermill": {
     "duration": 2.043364,
     "end_time": "2025-07-23T14:26:53.123974",
     "exception": false,
     "start_time": "2025-07-23T14:26:51.080610",
     "status": "completed"
    },
    "tags": []
   },
   "outputs": [],
   "source": [
    "from fairness_multiverse.universe import UniverseAnalysis\n",
    "\n",
    "universe_analysis = UniverseAnalysis(\n",
    "    run_no = run_no,\n",
    "    universe_id = universe_id,\n",
    "    universe = universe,\n",
    "    output_dir=output_dir,\n",
    ")"
   ]
  },
  {
   "cell_type": "code",
   "execution_count": 8,
   "id": "106241f5",
   "metadata": {
    "execution": {
     "iopub.execute_input": "2025-07-23T14:26:53.164201Z",
     "iopub.status.busy": "2025-07-23T14:26:53.163737Z",
     "iopub.status.idle": "2025-07-23T14:26:53.171191Z",
     "shell.execute_reply": "2025-07-23T14:26:53.170090Z"
    },
    "papermill": {
     "duration": 0.028107,
     "end_time": "2025-07-23T14:26:53.173108",
     "exception": false,
     "start_time": "2025-07-23T14:26:53.145001",
     "status": "completed"
    },
    "tags": []
   },
   "outputs": [
    {
     "name": "stdout",
     "output_type": "stream",
     "text": [
      "Using Seed: 2023\n"
     ]
    }
   ],
   "source": [
    "import numpy as np\n",
    "parsed_seed = int(seed)\n",
    "np.random.seed(parsed_seed)\n",
    "print(f\"Using Seed: {parsed_seed}\")"
   ]
  },
  {
   "cell_type": "markdown",
   "id": "e0ebdc57",
   "metadata": {
    "papermill": {
     "duration": 0.018555,
     "end_time": "2025-07-23T14:26:53.210661",
     "exception": false,
     "start_time": "2025-07-23T14:26:53.192106",
     "status": "completed"
    },
    "tags": []
   },
   "source": [
    "# Loading Data"
   ]
  },
  {
   "cell_type": "markdown",
   "id": "681925a3",
   "metadata": {
    "papermill": {
     "duration": 0.010727,
     "end_time": "2025-07-23T14:26:53.235196",
     "exception": false,
     "start_time": "2025-07-23T14:26:53.224469",
     "status": "completed"
    },
    "tags": []
   },
   "source": [
    "Load siab_train, siab_test, siab_calib and/or \n",
    "load siab_train_features, siab_train_labels"
   ]
  },
  {
   "cell_type": "code",
   "execution_count": 9,
   "id": "f0496b8a",
   "metadata": {
    "execution": {
     "iopub.execute_input": "2025-07-23T14:26:53.256660Z",
     "iopub.status.busy": "2025-07-23T14:26:53.256148Z",
     "iopub.status.idle": "2025-07-23T14:26:53.262339Z",
     "shell.execute_reply": "2025-07-23T14:26:53.261575Z"
    },
    "papermill": {
     "duration": 0.018843,
     "end_time": "2025-07-23T14:26:53.263828",
     "exception": false,
     "start_time": "2025-07-23T14:26:53.244985",
     "status": "completed"
    },
    "tags": []
   },
   "outputs": [],
   "source": [
    "# Do I need to load siab? Delete this cell?\n",
    "\n",
    "#from pathlib import Path\n",
    "#import pandas as pd\n",
    "#\n",
    "## File paths\n",
    "#raw_file = Path(\"data/raw/siab.csv\")\n",
    "#cache_file = Path(\"data/siab_cached.csv.gz\")\n",
    "#\n",
    "## Ensure cache directory exists\n",
    "#cache_file.parent.mkdir(parents=True, exist_ok=True)\n",
    "#\n",
    "## Load with simple caching\n",
    "#if cache_file.exists():\n",
    "#    print(f\"Loading SIAB data from cache: {cache_file}\")\n",
    "#    siab = pd.read_csv(cache_file, compression='gzip')\n",
    "#else:\n",
    "#    print(f\"Cache not found. Reading raw SIAB data: {raw_file}\")\n",
    "#    siab = pd.read_csv(raw_file)\n",
    "#    siab.to_csv(cache_file, index=False, compression='gzip')\n",
    "#    print(f\"Cached SIAB data to: {cache_file}\")\n",
    "#\n",
    "## Now use `siab` DataFrame as needed\n",
    "#print(siab.shape)\n"
   ]
  },
  {
   "cell_type": "code",
   "execution_count": 10,
   "id": "a0edb063",
   "metadata": {
    "execution": {
     "iopub.execute_input": "2025-07-23T14:26:53.289945Z",
     "iopub.status.busy": "2025-07-23T14:26:53.289170Z",
     "iopub.status.idle": "2025-07-23T14:26:54.203721Z",
     "shell.execute_reply": "2025-07-23T14:26:54.202923Z"
    },
    "papermill": {
     "duration": 0.931324,
     "end_time": "2025-07-23T14:26:54.205716",
     "exception": false,
     "start_time": "2025-07-23T14:26:53.274392",
     "status": "completed"
    },
    "tags": []
   },
   "outputs": [],
   "source": [
    "import pandas as pd\n",
    "\n",
    "X_train = pd.read_csv(\"./data/X_train.csv\")\n",
    "y_train = pd.read_csv(\"./data/y_train.csv\")"
   ]
  },
  {
   "cell_type": "code",
   "execution_count": 11,
   "id": "63d08085",
   "metadata": {
    "execution": {
     "iopub.execute_input": "2025-07-23T14:26:54.245805Z",
     "iopub.status.busy": "2025-07-23T14:26:54.245058Z",
     "iopub.status.idle": "2025-07-23T14:26:55.689754Z",
     "shell.execute_reply": "2025-07-23T14:26:55.688629Z"
    },
    "papermill": {
     "duration": 1.467417,
     "end_time": "2025-07-23T14:26:55.691320",
     "exception": false,
     "start_time": "2025-07-23T14:26:54.223903",
     "status": "completed"
    },
    "tags": []
   },
   "outputs": [],
   "source": [
    "X_test = pd.read_csv(\"./data/X_test.csv\")\n",
    "y_true = pd.read_csv(\"./data/y_test.csv\")"
   ]
  },
  {
   "cell_type": "code",
   "execution_count": 12,
   "id": "98a8d0fa-1d3d-4ed8-bb2c-281470e24add",
   "metadata": {
    "execution": {
     "iopub.execute_input": "2025-07-23T14:26:55.734108Z",
     "iopub.status.busy": "2025-07-23T14:26:55.733121Z",
     "iopub.status.idle": "2025-07-23T14:26:57.358965Z",
     "shell.execute_reply": "2025-07-23T14:26:57.357837Z"
    },
    "papermill": {
     "duration": 1.648608,
     "end_time": "2025-07-23T14:26:57.361013",
     "exception": false,
     "start_time": "2025-07-23T14:26:55.712405",
     "status": "completed"
    },
    "tags": []
   },
   "outputs": [],
   "source": [
    "# Calibration data for conformal\n",
    "X_calib = pd.read_csv(\"./data/X_calib.csv\")\n",
    "y_calib = pd.read_csv(\"./data/y_calib.csv\")"
   ]
  },
  {
   "cell_type": "code",
   "execution_count": 13,
   "id": "e6c733c5",
   "metadata": {
    "execution": {
     "iopub.execute_input": "2025-07-23T14:26:57.400771Z",
     "iopub.status.busy": "2025-07-23T14:26:57.400196Z",
     "iopub.status.idle": "2025-07-23T14:26:57.545070Z",
     "shell.execute_reply": "2025-07-23T14:26:57.543816Z"
    },
    "papermill": {
     "duration": 0.168538,
     "end_time": "2025-07-23T14:26:57.547910",
     "exception": false,
     "start_time": "2025-07-23T14:26:57.379372",
     "status": "completed"
    },
    "tags": []
   },
   "outputs": [],
   "source": [
    "# Auxiliary data needed downstream in the pipeline\n",
    "\n",
    "org_train = X_train.copy()\n",
    "org_test = X_test.copy()\n",
    "org_calib = X_calib.copy()"
   ]
  },
  {
   "cell_type": "markdown",
   "id": "0a4a1b33",
   "metadata": {
    "papermill": {
     "duration": 0.026498,
     "end_time": "2025-07-23T14:26:57.602711",
     "exception": false,
     "start_time": "2025-07-23T14:26:57.576213",
     "status": "completed"
    },
    "tags": []
   },
   "source": [
    "# Preprocessing Data"
   ]
  },
  {
   "cell_type": "code",
   "execution_count": 14,
   "id": "ca879031",
   "metadata": {
    "execution": {
     "iopub.execute_input": "2025-07-23T14:26:57.660136Z",
     "iopub.status.busy": "2025-07-23T14:26:57.659256Z",
     "iopub.status.idle": "2025-07-23T14:26:57.668438Z",
     "shell.execute_reply": "2025-07-23T14:26:57.667265Z"
    },
    "papermill": {
     "duration": 0.040482,
     "end_time": "2025-07-23T14:26:57.671322",
     "exception": false,
     "start_time": "2025-07-23T14:26:57.630840",
     "status": "completed"
    },
    "tags": []
   },
   "outputs": [],
   "source": [
    "# EXCLUDE PROTECTED FEATURES\n",
    "# ----------------------\n",
    "# \"exclude_features\": \"none\", # \"nationality\", \"sex\", \"nationality-sex\"\n",
    "\n",
    "excluded_features = universe[\"exclude_features\"].split(\"-\") # split, e.g.: \"nationality-sex\" -> [\"nationality\", \"sex\"]\n",
    "excluded_features_dictionary = {\n",
    "    \"nationality\": [\"maxdeutsch1\", \"maxdeutsch.Missing.\"],\n",
    "    \"sex\": [\"frau1\"],\n",
    "    \"age\": [\"age\"],\n",
    "}\n"
   ]
  },
  {
   "cell_type": "code",
   "execution_count": 15,
   "id": "b745ac60",
   "metadata": {
    "execution": {
     "iopub.execute_input": "2025-07-23T14:26:57.715735Z",
     "iopub.status.busy": "2025-07-23T14:26:57.714821Z",
     "iopub.status.idle": "2025-07-23T14:26:57.723818Z",
     "shell.execute_reply": "2025-07-23T14:26:57.722417Z"
    },
    "papermill": {
     "duration": 0.030268,
     "end_time": "2025-07-23T14:26:57.725902",
     "exception": false,
     "start_time": "2025-07-23T14:26:57.695634",
     "status": "completed"
    },
    "tags": []
   },
   "outputs": [],
   "source": [
    "# Code nice names to column names\n",
    "\n",
    "excluded_features_columns = [\n",
    "    excluded_features_dictionary[f] for f in excluded_features if len(f) > 0 and f != \"none\"\n",
    "]"
   ]
  },
  {
   "cell_type": "code",
   "execution_count": 16,
   "id": "f84f73a2",
   "metadata": {
    "execution": {
     "iopub.execute_input": "2025-07-23T14:26:57.767642Z",
     "iopub.status.busy": "2025-07-23T14:26:57.766589Z",
     "iopub.status.idle": "2025-07-23T14:26:57.774964Z",
     "shell.execute_reply": "2025-07-23T14:26:57.773867Z"
    },
    "papermill": {
     "duration": 0.031027,
     "end_time": "2025-07-23T14:26:57.777447",
     "exception": false,
     "start_time": "2025-07-23T14:26:57.746420",
     "status": "completed"
    },
    "tags": []
   },
   "outputs": [],
   "source": [
    "from utils import flatten_once\n",
    "\n",
    "excluded_features_columns = flatten_once(excluded_features_columns)"
   ]
  },
  {
   "cell_type": "code",
   "execution_count": 17,
   "id": "884dea22",
   "metadata": {
    "execution": {
     "iopub.execute_input": "2025-07-23T14:26:57.819290Z",
     "iopub.status.busy": "2025-07-23T14:26:57.818539Z",
     "iopub.status.idle": "2025-07-23T14:26:57.892674Z",
     "shell.execute_reply": "2025-07-23T14:26:57.891290Z"
    },
    "papermill": {
     "duration": 0.097162,
     "end_time": "2025-07-23T14:26:57.894762",
     "exception": false,
     "start_time": "2025-07-23T14:26:57.797600",
     "status": "completed"
    },
    "tags": []
   },
   "outputs": [
    {
     "name": "stdout",
     "output_type": "stream",
     "text": [
      "Dropping features: ['age']\n"
     ]
    }
   ],
   "source": [
    "if len(excluded_features_columns) > 0:\n",
    "    print(f\"Dropping features: {excluded_features_columns}\")\n",
    "    X_train.drop(excluded_features_columns, axis=1, inplace=True)"
   ]
  },
  {
   "cell_type": "code",
   "execution_count": 18,
   "id": "95ab8b16",
   "metadata": {
    "execution": {
     "iopub.execute_input": "2025-07-23T14:26:57.933744Z",
     "iopub.status.busy": "2025-07-23T14:26:57.932979Z",
     "iopub.status.idle": "2025-07-23T14:26:57.986872Z",
     "shell.execute_reply": "2025-07-23T14:26:57.985857Z"
    },
    "papermill": {
     "duration": 0.074716,
     "end_time": "2025-07-23T14:26:57.988316",
     "exception": false,
     "start_time": "2025-07-23T14:26:57.913600",
     "status": "completed"
    },
    "tags": []
   },
   "outputs": [
    {
     "name": "stdout",
     "output_type": "stream",
     "text": [
      "Dropping features: ['age']\n"
     ]
    }
   ],
   "source": [
    "if len(excluded_features_columns) > 0:\n",
    "    print(f\"Dropping features: {excluded_features_columns}\")\n",
    "    X_test.drop(excluded_features_columns, axis=1, inplace=True)"
   ]
  },
  {
   "cell_type": "code",
   "execution_count": 19,
   "id": "1853aaf5-fb9f-46cb-a2b5-8ea4ae2237e4",
   "metadata": {
    "execution": {
     "iopub.execute_input": "2025-07-23T14:26:58.010957Z",
     "iopub.status.busy": "2025-07-23T14:26:58.010405Z",
     "iopub.status.idle": "2025-07-23T14:26:58.063226Z",
     "shell.execute_reply": "2025-07-23T14:26:58.062213Z"
    },
    "papermill": {
     "duration": 0.065439,
     "end_time": "2025-07-23T14:26:58.064687",
     "exception": false,
     "start_time": "2025-07-23T14:26:57.999248",
     "status": "completed"
    },
    "tags": []
   },
   "outputs": [
    {
     "name": "stdout",
     "output_type": "stream",
     "text": [
      "Dropping features: ['age']\n"
     ]
    }
   ],
   "source": [
    "if len(excluded_features_columns) > 0:\n",
    "    print(f\"Dropping features: {excluded_features_columns}\")\n",
    "    X_calib.drop(excluded_features_columns, axis=1, inplace=True)"
   ]
  },
  {
   "cell_type": "code",
   "execution_count": 20,
   "id": "76c4dc6d",
   "metadata": {
    "execution": {
     "iopub.execute_input": "2025-07-23T14:26:58.087105Z",
     "iopub.status.busy": "2025-07-23T14:26:58.086452Z",
     "iopub.status.idle": "2025-07-23T14:26:58.091783Z",
     "shell.execute_reply": "2025-07-23T14:26:58.090967Z"
    },
    "papermill": {
     "duration": 0.017896,
     "end_time": "2025-07-23T14:26:58.093289",
     "exception": false,
     "start_time": "2025-07-23T14:26:58.075393",
     "status": "completed"
    },
    "tags": []
   },
   "outputs": [],
   "source": [
    "# EXCLUDE CERTAIN SUBGROUPS\n",
    "# ----------------------\n",
    "\n",
    "mode = universe.get(\"exclude_subgroups\", \"keep-all\") \n",
    "# Fetches the exclude_subgroups setting from the universe dict.\n",
    "# Defaults to \"keep-all\" if the key is missing."
   ]
  },
  {
   "cell_type": "code",
   "execution_count": 21,
   "id": "21994072",
   "metadata": {
    "execution": {
     "iopub.execute_input": "2025-07-23T14:26:58.116130Z",
     "iopub.status.busy": "2025-07-23T14:26:58.115237Z",
     "iopub.status.idle": "2025-07-23T14:26:58.121165Z",
     "shell.execute_reply": "2025-07-23T14:26:58.120430Z"
    },
    "papermill": {
     "duration": 0.018634,
     "end_time": "2025-07-23T14:26:58.122694",
     "exception": false,
     "start_time": "2025-07-23T14:26:58.104060",
     "status": "completed"
    },
    "tags": []
   },
   "outputs": [],
   "source": [
    "if mode == \"keep-all\":\n",
    "    keep_mask = pd.Series(True, index=org_train.index)\n",
    "\n",
    "# org_train contains the original feature columns from features_org (in Simson)\n",
    "# features_org contains unprocessed features, for me X_train at beginning ???\n",
    "# For keep-all, creates a boolean Series (keep_mask) of all True, so no rows are removed.\n",
    "\n",
    "elif mode == \"drop-non-german\":\n",
    "    keep_mask = org_train[\"maxdeutsch1\"] == 1 # ??? what about missing values?\n",
    "\n",
    "else:\n",
    "    raise ValueError(f\"Unsupported mode for exclude_subgroups: {mode}\")\n"
   ]
  },
  {
   "cell_type": "code",
   "execution_count": 22,
   "id": "71651440",
   "metadata": {
    "execution": {
     "iopub.execute_input": "2025-07-23T14:26:58.145596Z",
     "iopub.status.busy": "2025-07-23T14:26:58.145050Z",
     "iopub.status.idle": "2025-07-23T14:26:58.151318Z",
     "shell.execute_reply": "2025-07-23T14:26:58.150417Z"
    },
    "papermill": {
     "duration": 0.019407,
     "end_time": "2025-07-23T14:26:58.152872",
     "exception": false,
     "start_time": "2025-07-23T14:26:58.133465",
     "status": "completed"
    },
    "tags": []
   },
   "outputs": [],
   "source": [
    "n_drop = (~keep_mask).sum() # Calculates how many rows are set to be dropped\n",
    "if n_drop > 0:\n",
    "    pct = n_drop / len(keep_mask) * 100\n",
    "    print(f\"Dropping {n_drop} rows ({pct:.2f}%) where mode='{mode}'\")"
   ]
  },
  {
   "cell_type": "code",
   "execution_count": 23,
   "id": "5fb8eee5",
   "metadata": {
    "execution": {
     "iopub.execute_input": "2025-07-23T14:26:58.175551Z",
     "iopub.status.busy": "2025-07-23T14:26:58.175007Z",
     "iopub.status.idle": "2025-07-23T14:26:58.233064Z",
     "shell.execute_reply": "2025-07-23T14:26:58.231987Z"
    },
    "papermill": {
     "duration": 0.070981,
     "end_time": "2025-07-23T14:26:58.234708",
     "exception": false,
     "start_time": "2025-07-23T14:26:58.163727",
     "status": "completed"
    },
    "tags": []
   },
   "outputs": [],
   "source": [
    "X_train = X_train[keep_mask]"
   ]
  },
  {
   "cell_type": "code",
   "execution_count": 24,
   "id": "b202bb3a",
   "metadata": {
    "execution": {
     "iopub.execute_input": "2025-07-23T14:26:58.272986Z",
     "iopub.status.busy": "2025-07-23T14:26:58.272195Z",
     "iopub.status.idle": "2025-07-23T14:26:58.281013Z",
     "shell.execute_reply": "2025-07-23T14:26:58.279984Z"
    },
    "papermill": {
     "duration": 0.031762,
     "end_time": "2025-07-23T14:26:58.282883",
     "exception": false,
     "start_time": "2025-07-23T14:26:58.251121",
     "status": "completed"
    },
    "tags": []
   },
   "outputs": [],
   "source": [
    "y_train = y_train[keep_mask]"
   ]
  },
  {
   "cell_type": "markdown",
   "id": "493e2ac3",
   "metadata": {
    "papermill": {
     "duration": 0.019178,
     "end_time": "2025-07-23T14:26:58.322290",
     "exception": false,
     "start_time": "2025-07-23T14:26:58.303112",
     "status": "completed"
    },
    "tags": []
   },
   "source": [
    "# Model Training"
   ]
  },
  {
   "cell_type": "code",
   "execution_count": 25,
   "id": "679e1268",
   "metadata": {
    "execution": {
     "iopub.execute_input": "2025-07-23T14:26:58.362987Z",
     "iopub.status.busy": "2025-07-23T14:26:58.361860Z",
     "iopub.status.idle": "2025-07-23T14:26:58.476762Z",
     "shell.execute_reply": "2025-07-23T14:26:58.475613Z"
    },
    "papermill": {
     "duration": 0.137984,
     "end_time": "2025-07-23T14:26:58.478761",
     "exception": false,
     "start_time": "2025-07-23T14:26:58.340777",
     "status": "completed"
    },
    "tags": []
   },
   "outputs": [],
   "source": [
    "from sklearn.linear_model import LogisticRegression\n",
    "from sklearn.ensemble import GradientBoostingClassifier, RandomForestClassifier\n",
    "\n",
    "if (universe[\"model\"] == \"logreg\"):\n",
    "    model = LogisticRegression() #penalty=\"none\") #, solver=\"newton-cg\", max_iter=1) # include random_state=19 ?\n",
    "elif (universe[\"model\"] == \"penalized_logreg\"):\n",
    "    model = LogisticRegression(penalty=\"l2\", C=1.0) #, solver=\"newton-cg\", max_iter=1)\n",
    "elif (universe[\"model\"] == \"rf\"):\n",
    "    model = RandomForestClassifier(n_estimators=100, n_jobs=-1)\n",
    "elif (universe[\"model\"] == \"gbm\"):\n",
    "    model = GradientBoostingClassifier()\n",
    "elif (universe[\"model\"] == \"elasticnet\"):\n",
    "    model = LogisticRegression(penalty = 'elasticnet', solver = 'saga', l1_ratio = 0.5, max_iter=5000) # which solver to use?\n",
    "else:\n",
    "    raise \"Unsupported universe.model\""
   ]
  },
  {
   "cell_type": "code",
   "execution_count": 26,
   "id": "0cc8f744",
   "metadata": {
    "execution": {
     "iopub.execute_input": "2025-07-23T14:26:58.522160Z",
     "iopub.status.busy": "2025-07-23T14:26:58.521120Z",
     "iopub.status.idle": "2025-07-23T14:26:58.528142Z",
     "shell.execute_reply": "2025-07-23T14:26:58.526997Z"
    },
    "papermill": {
     "duration": 0.031544,
     "end_time": "2025-07-23T14:26:58.530650",
     "exception": false,
     "start_time": "2025-07-23T14:26:58.499106",
     "status": "completed"
    },
    "tags": []
   },
   "outputs": [],
   "source": [
    "import numpy as np\n",
    "from sklearn.pipeline import Pipeline\n",
    "from sklearn.preprocessing import StandardScaler\n",
    "\n",
    "model = Pipeline([\n",
    "    #(\"continuous_processor\", continuous_processor),\n",
    "    #(\"categorical_preprocessor\", categorical_preprocessor),\n",
    "    (\"scale\", StandardScaler() if universe[\"scale\"] == \"scale\" else None), \n",
    "    (\"model\", model),\n",
    "])"
   ]
  },
  {
   "cell_type": "code",
   "execution_count": 27,
   "id": "9442c04d",
   "metadata": {
    "execution": {
     "iopub.execute_input": "2025-07-23T14:26:58.589221Z",
     "iopub.status.busy": "2025-07-23T14:26:58.588626Z",
     "iopub.status.idle": "2025-07-23T14:27:02.404482Z",
     "shell.execute_reply": "2025-07-23T14:27:02.403157Z"
    },
    "papermill": {
     "duration": 3.847193,
     "end_time": "2025-07-23T14:27:02.407040",
     "exception": false,
     "start_time": "2025-07-23T14:26:58.559847",
     "status": "completed"
    },
    "tags": []
   },
   "outputs": [
    {
     "name": "stderr",
     "output_type": "stream",
     "text": [
      "/dss/dsshome1/0C/ra93lal2/.local/share/virtualenvs/CMA_Fairness_v2-3j10GkSs/lib/python3.10/site-packages/sklearn/linear_model/_logistic.py:444: ConvergenceWarning: lbfgs failed to converge (status=1):\n",
      "STOP: TOTAL NO. of ITERATIONS REACHED LIMIT.\n",
      "\n",
      "Increase the number of iterations (max_iter) or scale the data as shown in:\n",
      "    https://scikit-learn.org/stable/modules/preprocessing.html\n",
      "Please also refer to the documentation for alternative solver options:\n",
      "    https://scikit-learn.org/stable/modules/linear_model.html#logistic-regression\n",
      "  n_iter_i = _check_optimize_result(\n"
     ]
    },
    {
     "data": {
      "text/html": [
       "<style>#sk-container-id-1 {color: black;background-color: white;}#sk-container-id-1 pre{padding: 0;}#sk-container-id-1 div.sk-toggleable {background-color: white;}#sk-container-id-1 label.sk-toggleable__label {cursor: pointer;display: block;width: 100%;margin-bottom: 0;padding: 0.3em;box-sizing: border-box;text-align: center;}#sk-container-id-1 label.sk-toggleable__label-arrow:before {content: \"▸\";float: left;margin-right: 0.25em;color: #696969;}#sk-container-id-1 label.sk-toggleable__label-arrow:hover:before {color: black;}#sk-container-id-1 div.sk-estimator:hover label.sk-toggleable__label-arrow:before {color: black;}#sk-container-id-1 div.sk-toggleable__content {max-height: 0;max-width: 0;overflow: hidden;text-align: left;background-color: #f0f8ff;}#sk-container-id-1 div.sk-toggleable__content pre {margin: 0.2em;color: black;border-radius: 0.25em;background-color: #f0f8ff;}#sk-container-id-1 input.sk-toggleable__control:checked~div.sk-toggleable__content {max-height: 200px;max-width: 100%;overflow: auto;}#sk-container-id-1 input.sk-toggleable__control:checked~label.sk-toggleable__label-arrow:before {content: \"▾\";}#sk-container-id-1 div.sk-estimator input.sk-toggleable__control:checked~label.sk-toggleable__label {background-color: #d4ebff;}#sk-container-id-1 div.sk-label input.sk-toggleable__control:checked~label.sk-toggleable__label {background-color: #d4ebff;}#sk-container-id-1 input.sk-hidden--visually {border: 0;clip: rect(1px 1px 1px 1px);clip: rect(1px, 1px, 1px, 1px);height: 1px;margin: -1px;overflow: hidden;padding: 0;position: absolute;width: 1px;}#sk-container-id-1 div.sk-estimator {font-family: monospace;background-color: #f0f8ff;border: 1px dotted black;border-radius: 0.25em;box-sizing: border-box;margin-bottom: 0.5em;}#sk-container-id-1 div.sk-estimator:hover {background-color: #d4ebff;}#sk-container-id-1 div.sk-parallel-item::after {content: \"\";width: 100%;border-bottom: 1px solid gray;flex-grow: 1;}#sk-container-id-1 div.sk-label:hover label.sk-toggleable__label {background-color: #d4ebff;}#sk-container-id-1 div.sk-serial::before {content: \"\";position: absolute;border-left: 1px solid gray;box-sizing: border-box;top: 0;bottom: 0;left: 50%;z-index: 0;}#sk-container-id-1 div.sk-serial {display: flex;flex-direction: column;align-items: center;background-color: white;padding-right: 0.2em;padding-left: 0.2em;position: relative;}#sk-container-id-1 div.sk-item {position: relative;z-index: 1;}#sk-container-id-1 div.sk-parallel {display: flex;align-items: stretch;justify-content: center;background-color: white;position: relative;}#sk-container-id-1 div.sk-item::before, #sk-container-id-1 div.sk-parallel-item::before {content: \"\";position: absolute;border-left: 1px solid gray;box-sizing: border-box;top: 0;bottom: 0;left: 50%;z-index: -1;}#sk-container-id-1 div.sk-parallel-item {display: flex;flex-direction: column;z-index: 1;position: relative;background-color: white;}#sk-container-id-1 div.sk-parallel-item:first-child::after {align-self: flex-end;width: 50%;}#sk-container-id-1 div.sk-parallel-item:last-child::after {align-self: flex-start;width: 50%;}#sk-container-id-1 div.sk-parallel-item:only-child::after {width: 0;}#sk-container-id-1 div.sk-dashed-wrapped {border: 1px dashed gray;margin: 0 0.4em 0.5em 0.4em;box-sizing: border-box;padding-bottom: 0.4em;background-color: white;}#sk-container-id-1 div.sk-label label {font-family: monospace;font-weight: bold;display: inline-block;line-height: 1.2em;}#sk-container-id-1 div.sk-label-container {text-align: center;}#sk-container-id-1 div.sk-container {/* jupyter's `normalize.less` sets `[hidden] { display: none; }` but bootstrap.min.css set `[hidden] { display: none !important; }` so we also need the `!important` here to be able to override the default hidden behavior on the sphinx rendered scikit-learn.org. See: https://github.com/scikit-learn/scikit-learn/issues/21755 */display: inline-block !important;position: relative;}#sk-container-id-1 div.sk-text-repr-fallback {display: none;}</style><div id=\"sk-container-id-1\" class=\"sk-top-container\"><div class=\"sk-text-repr-fallback\"><pre>Pipeline(steps=[(&#x27;scale&#x27;, StandardScaler()), (&#x27;model&#x27;, LogisticRegression())])</pre><b>In a Jupyter environment, please rerun this cell to show the HTML representation or trust the notebook. <br />On GitHub, the HTML representation is unable to render, please try loading this page with nbviewer.org.</b></div><div class=\"sk-container\" hidden><div class=\"sk-item sk-dashed-wrapped\"><div class=\"sk-label-container\"><div class=\"sk-label sk-toggleable\"><input class=\"sk-toggleable__control sk-hidden--visually\" id=\"sk-estimator-id-1\" type=\"checkbox\" ><label for=\"sk-estimator-id-1\" class=\"sk-toggleable__label sk-toggleable__label-arrow\">Pipeline</label><div class=\"sk-toggleable__content\"><pre>Pipeline(steps=[(&#x27;scale&#x27;, StandardScaler()), (&#x27;model&#x27;, LogisticRegression())])</pre></div></div></div><div class=\"sk-serial\"><div class=\"sk-item\"><div class=\"sk-estimator sk-toggleable\"><input class=\"sk-toggleable__control sk-hidden--visually\" id=\"sk-estimator-id-2\" type=\"checkbox\" ><label for=\"sk-estimator-id-2\" class=\"sk-toggleable__label sk-toggleable__label-arrow\">StandardScaler</label><div class=\"sk-toggleable__content\"><pre>StandardScaler()</pre></div></div></div><div class=\"sk-item\"><div class=\"sk-estimator sk-toggleable\"><input class=\"sk-toggleable__control sk-hidden--visually\" id=\"sk-estimator-id-3\" type=\"checkbox\" ><label for=\"sk-estimator-id-3\" class=\"sk-toggleable__label sk-toggleable__label-arrow\">LogisticRegression</label><div class=\"sk-toggleable__content\"><pre>LogisticRegression()</pre></div></div></div></div></div></div></div>"
      ],
      "text/plain": [
       "Pipeline(steps=[('scale', StandardScaler()), ('model', LogisticRegression())])"
      ]
     },
     "execution_count": 27,
     "metadata": {},
     "output_type": "execute_result"
    }
   ],
   "source": [
    "model.fit(X_train, y_train.values.ravel())"
   ]
  },
  {
   "cell_type": "code",
   "execution_count": 28,
   "id": "af59f8c0",
   "metadata": {
    "execution": {
     "iopub.execute_input": "2025-07-23T14:27:02.462234Z",
     "iopub.status.busy": "2025-07-23T14:27:02.461630Z",
     "iopub.status.idle": "2025-07-23T14:27:02.469470Z",
     "shell.execute_reply": "2025-07-23T14:27:02.468115Z"
    },
    "papermill": {
     "duration": 0.03698,
     "end_time": "2025-07-23T14:27:02.471749",
     "exception": false,
     "start_time": "2025-07-23T14:27:02.434769",
     "status": "completed"
    },
    "tags": []
   },
   "outputs": [],
   "source": [
    "from fairness_multiverse.universe import predict_w_threshold"
   ]
  },
  {
   "cell_type": "code",
   "execution_count": 29,
   "id": "a7cf2e16",
   "metadata": {
    "execution": {
     "iopub.execute_input": "2025-07-23T14:27:02.523919Z",
     "iopub.status.busy": "2025-07-23T14:27:02.523090Z",
     "iopub.status.idle": "2025-07-23T14:27:02.742310Z",
     "shell.execute_reply": "2025-07-23T14:27:02.741108Z"
    },
    "papermill": {
     "duration": 0.248422,
     "end_time": "2025-07-23T14:27:02.744880",
     "exception": false,
     "start_time": "2025-07-23T14:27:02.496458",
     "status": "completed"
    },
    "tags": []
   },
   "outputs": [
    {
     "data": {
      "text/plain": [
       "0.8598372533719764"
      ]
     },
     "execution_count": 29,
     "metadata": {},
     "output_type": "execute_result"
    }
   ],
   "source": [
    "probs_test = model.predict_proba(X_test)\n",
    "\n",
    "'''\n",
    "Below code returns a boolean array (or binary 0/1 array depending on how it’s used) where each element \n",
    "is True if the probability of class 1 is greater than or equal to the threshold, and False otherwise.\n",
    "'''\n",
    "y_pred_default = predict_w_threshold(probs_test, 0.5)\n",
    "\n",
    "from sklearn.metrics import accuracy_score\n",
    "\n",
    "# Naive prediction\n",
    "accuracy_score(y_true = y_true, y_pred = y_pred_default)"
   ]
  },
  {
   "cell_type": "code",
   "execution_count": 30,
   "id": "081964c3",
   "metadata": {
    "execution": {
     "iopub.execute_input": "2025-07-23T14:27:02.797452Z",
     "iopub.status.busy": "2025-07-23T14:27:02.796833Z",
     "iopub.status.idle": "2025-07-23T14:27:02.992300Z",
     "shell.execute_reply": "2025-07-23T14:27:02.991503Z"
    },
    "papermill": {
     "duration": 0.224824,
     "end_time": "2025-07-23T14:27:02.994395",
     "exception": false,
     "start_time": "2025-07-23T14:27:02.769571",
     "status": "completed"
    },
    "tags": []
   },
   "outputs": [
    {
     "data": {
      "text/plain": [
       "array([0, 0, 0, ..., 0, 0, 0])"
      ]
     },
     "execution_count": 30,
     "metadata": {},
     "output_type": "execute_result"
    }
   ],
   "source": [
    "model.predict(X_test)"
   ]
  },
  {
   "cell_type": "markdown",
   "id": "56c9705b",
   "metadata": {
    "papermill": {
     "duration": 0.026231,
     "end_time": "2025-07-23T14:27:03.047741",
     "exception": false,
     "start_time": "2025-07-23T14:27:03.021510",
     "status": "completed"
    },
    "tags": []
   },
   "source": [
    "# Conformal Prediction"
   ]
  },
  {
   "cell_type": "code",
   "execution_count": 31,
   "id": "160ec6ff",
   "metadata": {
    "execution": {
     "iopub.execute_input": "2025-07-23T14:27:03.100781Z",
     "iopub.status.busy": "2025-07-23T14:27:03.100208Z",
     "iopub.status.idle": "2025-07-23T14:27:03.106456Z",
     "shell.execute_reply": "2025-07-23T14:27:03.105400Z"
    },
    "papermill": {
     "duration": 0.034916,
     "end_time": "2025-07-23T14:27:03.108659",
     "exception": false,
     "start_time": "2025-07-23T14:27:03.073743",
     "status": "completed"
    },
    "tags": []
   },
   "outputs": [],
   "source": [
    "# Miscoverage level for conformal prediction (10% allowed error rate => 90% target coverage)\n",
    "alpha = 0.1"
   ]
  },
  {
   "cell_type": "code",
   "execution_count": 32,
   "id": "eadf4555-3dd3-440e-8e35-f82a4ad9f855",
   "metadata": {
    "execution": {
     "iopub.execute_input": "2025-07-23T14:27:03.163181Z",
     "iopub.status.busy": "2025-07-23T14:27:03.162628Z",
     "iopub.status.idle": "2025-07-23T14:27:03.414149Z",
     "shell.execute_reply": "2025-07-23T14:27:03.413034Z"
    },
    "papermill": {
     "duration": 0.281122,
     "end_time": "2025-07-23T14:27:03.416374",
     "exception": false,
     "start_time": "2025-07-23T14:27:03.135252",
     "status": "completed"
    },
    "tags": []
   },
   "outputs": [],
   "source": [
    "probs_calib = model.predict_proba(X_calib)"
   ]
  },
  {
   "cell_type": "code",
   "execution_count": 33,
   "id": "2ed93547-6d5d-4983-9b36-1ecb300da49a",
   "metadata": {
    "execution": {
     "iopub.execute_input": "2025-07-23T14:27:03.461319Z",
     "iopub.status.busy": "2025-07-23T14:27:03.460523Z",
     "iopub.status.idle": "2025-07-23T14:27:03.467868Z",
     "shell.execute_reply": "2025-07-23T14:27:03.466683Z"
    },
    "papermill": {
     "duration": 0.03287,
     "end_time": "2025-07-23T14:27:03.469908",
     "exception": false,
     "start_time": "2025-07-23T14:27:03.437038",
     "status": "completed"
    },
    "tags": []
   },
   "outputs": [],
   "source": [
    "y_calib = y_calib.values.ravel().astype(int)"
   ]
  },
  {
   "cell_type": "code",
   "execution_count": 34,
   "id": "65d1320d-f588-4b38-9072-62af1ae97f7d",
   "metadata": {
    "execution": {
     "iopub.execute_input": "2025-07-23T14:27:03.514973Z",
     "iopub.status.busy": "2025-07-23T14:27:03.514067Z",
     "iopub.status.idle": "2025-07-23T14:27:03.524423Z",
     "shell.execute_reply": "2025-07-23T14:27:03.523196Z"
    },
    "papermill": {
     "duration": 0.035821,
     "end_time": "2025-07-23T14:27:03.526785",
     "exception": false,
     "start_time": "2025-07-23T14:27:03.490964",
     "status": "completed"
    },
    "tags": []
   },
   "outputs": [],
   "source": [
    "from fairness_multiverse.conformal import compute_nc_scores\n",
    "\n",
    "# Compute nonconformity scores on calibration set (1 - probability of true class)\n",
    "nc_scores = compute_nc_scores(probs_calib, y_calib)"
   ]
  },
  {
   "cell_type": "code",
   "execution_count": 35,
   "id": "df3b8ca3-53b7-43d5-9667-7c85da7aeda2",
   "metadata": {
    "execution": {
     "iopub.execute_input": "2025-07-23T14:27:03.572113Z",
     "iopub.status.busy": "2025-07-23T14:27:03.571077Z",
     "iopub.status.idle": "2025-07-23T14:27:03.579328Z",
     "shell.execute_reply": "2025-07-23T14:27:03.578052Z"
    },
    "papermill": {
     "duration": 0.034049,
     "end_time": "2025-07-23T14:27:03.581997",
     "exception": false,
     "start_time": "2025-07-23T14:27:03.547948",
     "status": "completed"
    },
    "tags": []
   },
   "outputs": [],
   "source": [
    "from fairness_multiverse.conformal import find_threshold\n",
    "\n",
    "# Find conformal threshold q_hat for the given alpha (split conformal method)\n",
    "q_hat = find_threshold(nc_scores, alpha)"
   ]
  },
  {
   "cell_type": "code",
   "execution_count": 36,
   "id": "4d29e6c1-0ef6-4aa4-b8fe-4fe79b0d033a",
   "metadata": {
    "execution": {
     "iopub.execute_input": "2025-07-23T14:27:03.639130Z",
     "iopub.status.busy": "2025-07-23T14:27:03.638287Z",
     "iopub.status.idle": "2025-07-23T14:27:03.647013Z",
     "shell.execute_reply": "2025-07-23T14:27:03.645798Z"
    },
    "papermill": {
     "duration": 0.040051,
     "end_time": "2025-07-23T14:27:03.649258",
     "exception": false,
     "start_time": "2025-07-23T14:27:03.609207",
     "status": "completed"
    },
    "tags": []
   },
   "outputs": [
    {
     "data": {
      "text/plain": [
       "0.6626998985195545"
      ]
     },
     "execution_count": 36,
     "metadata": {},
     "output_type": "execute_result"
    }
   ],
   "source": [
    "q_hat"
   ]
  },
  {
   "cell_type": "code",
   "execution_count": 37,
   "id": "92460794-cdac-4be2-ba28-f28c0515a6fb",
   "metadata": {
    "execution": {
     "iopub.execute_input": "2025-07-23T14:27:03.703932Z",
     "iopub.status.busy": "2025-07-23T14:27:03.703160Z",
     "iopub.status.idle": "2025-07-23T14:27:04.694355Z",
     "shell.execute_reply": "2025-07-23T14:27:04.692989Z"
    },
    "papermill": {
     "duration": 1.021999,
     "end_time": "2025-07-23T14:27:04.697423",
     "exception": false,
     "start_time": "2025-07-23T14:27:03.675424",
     "status": "completed"
    },
    "tags": []
   },
   "outputs": [],
   "source": [
    "from fairness_multiverse.conformal import predict_conformal_sets\n",
    "\n",
    "# Generate prediction sets for each test example\n",
    "pred_sets = predict_conformal_sets(model, X_test, q_hat)"
   ]
  },
  {
   "cell_type": "code",
   "execution_count": 38,
   "id": "d90c9a65-e6db-4f5d-80cd-e68fb7e46829",
   "metadata": {
    "execution": {
     "iopub.execute_input": "2025-07-23T14:27:04.762387Z",
     "iopub.status.busy": "2025-07-23T14:27:04.761793Z",
     "iopub.status.idle": "2025-07-23T14:27:04.769644Z",
     "shell.execute_reply": "2025-07-23T14:27:04.768484Z"
    },
    "papermill": {
     "duration": 0.046736,
     "end_time": "2025-07-23T14:27:04.771724",
     "exception": false,
     "start_time": "2025-07-23T14:27:04.724988",
     "status": "completed"
    },
    "tags": []
   },
   "outputs": [],
   "source": [
    "y_true = y_true.squeeze()"
   ]
  },
  {
   "cell_type": "code",
   "execution_count": 39,
   "id": "3a58a54a-1e68-46b9-927a-df01f18aebc8",
   "metadata": {
    "execution": {
     "iopub.execute_input": "2025-07-23T14:27:04.816745Z",
     "iopub.status.busy": "2025-07-23T14:27:04.816166Z",
     "iopub.status.idle": "2025-07-23T14:27:05.808249Z",
     "shell.execute_reply": "2025-07-23T14:27:05.807417Z"
    },
    "papermill": {
     "duration": 1.017183,
     "end_time": "2025-07-23T14:27:05.810703",
     "exception": false,
     "start_time": "2025-07-23T14:27:04.793520",
     "status": "completed"
    },
    "tags": []
   },
   "outputs": [],
   "source": [
    "from fairness_multiverse.conformal import evaluate_sets\n",
    "\n",
    "# Evaluate coverage and average set size on test data\n",
    "metrics = evaluate_sets(pred_sets, y_true)"
   ]
  },
  {
   "cell_type": "code",
   "execution_count": 40,
   "id": "5ce0a5cb-201f-45a0-ade5-94c7f0bd6095",
   "metadata": {
    "execution": {
     "iopub.execute_input": "2025-07-23T14:27:05.862427Z",
     "iopub.status.busy": "2025-07-23T14:27:05.861633Z",
     "iopub.status.idle": "2025-07-23T14:27:05.870507Z",
     "shell.execute_reply": "2025-07-23T14:27:05.869049Z"
    },
    "papermill": {
     "duration": 0.036182,
     "end_time": "2025-07-23T14:27:05.872700",
     "exception": false,
     "start_time": "2025-07-23T14:27:05.836518",
     "status": "completed"
    },
    "tags": []
   },
   "outputs": [
    {
     "data": {
      "text/plain": [
       "{'coverage': 0.9106231189388028, 'avg_size': 1.124969345669379}"
      ]
     },
     "execution_count": 40,
     "metadata": {},
     "output_type": "execute_result"
    }
   ],
   "source": [
    "metrics"
   ]
  },
  {
   "cell_type": "code",
   "execution_count": 41,
   "id": "9b9a838d-31c9-430b-ae14-12baee460d17",
   "metadata": {
    "execution": {
     "iopub.execute_input": "2025-07-23T14:27:05.913867Z",
     "iopub.status.busy": "2025-07-23T14:27:05.912806Z",
     "iopub.status.idle": "2025-07-23T14:27:05.920714Z",
     "shell.execute_reply": "2025-07-23T14:27:05.919175Z"
    },
    "papermill": {
     "duration": 0.027371,
     "end_time": "2025-07-23T14:27:05.923514",
     "exception": false,
     "start_time": "2025-07-23T14:27:05.896143",
     "status": "completed"
    },
    "tags": []
   },
   "outputs": [],
   "source": [
    "example_universe = universe.copy()\n",
    "universe_model = example_universe.get(\"model\")\n",
    "universe_exclude_features = example_universe.get(\"exclude_features\")\n",
    "universe_exclude_subgroups = example_universe.get(\"exclude_subgroups\")\n",
    "universe_scale = example_universe.get(\"scale\")"
   ]
  },
  {
   "cell_type": "code",
   "execution_count": 42,
   "id": "f4b6a8ac-9dc0-4245-8a91-5b3b5999c4f9",
   "metadata": {
    "execution": {
     "iopub.execute_input": "2025-07-23T14:27:05.980414Z",
     "iopub.status.busy": "2025-07-23T14:27:05.979929Z",
     "iopub.status.idle": "2025-07-23T14:27:05.987931Z",
     "shell.execute_reply": "2025-07-23T14:27:05.986446Z"
    },
    "papermill": {
     "duration": 0.040425,
     "end_time": "2025-07-23T14:27:05.990114",
     "exception": false,
     "start_time": "2025-07-23T14:27:05.949689",
     "status": "completed"
    },
    "tags": []
   },
   "outputs": [],
   "source": [
    "cp_metrics_dict = {\n",
    "    \"universe_id\": [universe_id],\n",
    "    \"universe_model\": [universe_model],\n",
    "    \"universe_exclude_features\": [universe_exclude_features],\n",
    "    \"universe_exclude_subgroups\": [universe_exclude_subgroups],\n",
    "    \"universe_scale\": [universe_scale],\n",
    "    \"q_hat\": [q_hat],\n",
    "    \"coverage\": [metrics[\"coverage\"]],\n",
    "    \"avg_size\": [metrics[\"avg_size\"]],\n",
    "}"
   ]
  },
  {
   "cell_type": "code",
   "execution_count": 43,
   "id": "908acbb1-0371-4915-85ca-3fa520d2efe2",
   "metadata": {
    "execution": {
     "iopub.execute_input": "2025-07-23T14:27:06.039094Z",
     "iopub.status.busy": "2025-07-23T14:27:06.038547Z",
     "iopub.status.idle": "2025-07-23T14:27:06.047631Z",
     "shell.execute_reply": "2025-07-23T14:27:06.046448Z"
    },
    "papermill": {
     "duration": 0.037406,
     "end_time": "2025-07-23T14:27:06.049466",
     "exception": false,
     "start_time": "2025-07-23T14:27:06.012060",
     "status": "completed"
    },
    "tags": []
   },
   "outputs": [
    {
     "data": {
      "text/plain": [
       "{'universe_id': ['1c13f8470a08d1ebf202c9c523e48e8f'],\n",
       " 'universe_model': ['logreg'],\n",
       " 'universe_exclude_features': ['age'],\n",
       " 'universe_exclude_subgroups': ['keep-all'],\n",
       " 'universe_scale': ['scale'],\n",
       " 'q_hat': [0.6626998985195545],\n",
       " 'coverage': [0.9106231189388028],\n",
       " 'avg_size': [1.124969345669379]}"
      ]
     },
     "execution_count": 43,
     "metadata": {},
     "output_type": "execute_result"
    }
   ],
   "source": [
    "cp_metrics_dict"
   ]
  },
  {
   "cell_type": "code",
   "execution_count": 44,
   "id": "33007efc-14e9-4ec6-97ac-56a455c82265",
   "metadata": {
    "execution": {
     "iopub.execute_input": "2025-07-23T14:27:06.099146Z",
     "iopub.status.busy": "2025-07-23T14:27:06.098683Z",
     "iopub.status.idle": "2025-07-23T14:27:06.105633Z",
     "shell.execute_reply": "2025-07-23T14:27:06.104476Z"
    },
    "papermill": {
     "duration": 0.033659,
     "end_time": "2025-07-23T14:27:06.107061",
     "exception": false,
     "start_time": "2025-07-23T14:27:06.073402",
     "status": "completed"
    },
    "tags": []
   },
   "outputs": [],
   "source": [
    "cp_metrics_df = pd.DataFrame(cp_metrics_dict)"
   ]
  },
  {
   "cell_type": "code",
   "execution_count": 45,
   "id": "db12611b-57b2-4910-b9d0-355adfd6e7bf",
   "metadata": {
    "execution": {
     "iopub.execute_input": "2025-07-23T14:27:06.134782Z",
     "iopub.status.busy": "2025-07-23T14:27:06.133935Z",
     "iopub.status.idle": "2025-07-23T14:27:06.161106Z",
     "shell.execute_reply": "2025-07-23T14:27:06.159865Z"
    },
    "papermill": {
     "duration": 0.046039,
     "end_time": "2025-07-23T14:27:06.165933",
     "exception": false,
     "start_time": "2025-07-23T14:27:06.119894",
     "status": "completed"
    },
    "tags": []
   },
   "outputs": [
    {
     "data": {
      "text/html": [
       "<div>\n",
       "<style scoped>\n",
       "    .dataframe tbody tr th:only-of-type {\n",
       "        vertical-align: middle;\n",
       "    }\n",
       "\n",
       "    .dataframe tbody tr th {\n",
       "        vertical-align: top;\n",
       "    }\n",
       "\n",
       "    .dataframe thead th {\n",
       "        text-align: right;\n",
       "    }\n",
       "</style>\n",
       "<table border=\"1\" class=\"dataframe\">\n",
       "  <thead>\n",
       "    <tr style=\"text-align: right;\">\n",
       "      <th></th>\n",
       "      <th>universe_id</th>\n",
       "      <th>universe_model</th>\n",
       "      <th>universe_exclude_features</th>\n",
       "      <th>universe_exclude_subgroups</th>\n",
       "      <th>universe_scale</th>\n",
       "      <th>q_hat</th>\n",
       "      <th>coverage</th>\n",
       "      <th>avg_size</th>\n",
       "    </tr>\n",
       "  </thead>\n",
       "  <tbody>\n",
       "    <tr>\n",
       "      <th>0</th>\n",
       "      <td>1c13f8470a08d1ebf202c9c523e48e8f</td>\n",
       "      <td>logreg</td>\n",
       "      <td>age</td>\n",
       "      <td>keep-all</td>\n",
       "      <td>scale</td>\n",
       "      <td>0.6627</td>\n",
       "      <td>0.910623</td>\n",
       "      <td>1.124969</td>\n",
       "    </tr>\n",
       "  </tbody>\n",
       "</table>\n",
       "</div>"
      ],
      "text/plain": [
       "                        universe_id universe_model universe_exclude_features  \\\n",
       "0  1c13f8470a08d1ebf202c9c523e48e8f         logreg                       age   \n",
       "\n",
       "  universe_exclude_subgroups universe_scale   q_hat  coverage  avg_size  \n",
       "0                   keep-all          scale  0.6627  0.910623  1.124969  "
      ]
     },
     "execution_count": 45,
     "metadata": {},
     "output_type": "execute_result"
    }
   ],
   "source": [
    "cp_metrics_df"
   ]
  },
  {
   "cell_type": "code",
   "execution_count": 46,
   "id": "b7fbde55-a0a1-47e4-9af6-fe4a17fa8c61",
   "metadata": {
    "execution": {
     "iopub.execute_input": "2025-07-23T14:27:06.214712Z",
     "iopub.status.busy": "2025-07-23T14:27:06.213571Z",
     "iopub.status.idle": "2025-07-23T14:27:06.219493Z",
     "shell.execute_reply": "2025-07-23T14:27:06.218312Z"
    },
    "papermill": {
     "duration": 0.030731,
     "end_time": "2025-07-23T14:27:06.221586",
     "exception": false,
     "start_time": "2025-07-23T14:27:06.190855",
     "status": "completed"
    },
    "tags": []
   },
   "outputs": [],
   "source": [
    "# Conditional Coverage & looking at subgroups"
   ]
  },
  {
   "cell_type": "code",
   "execution_count": 47,
   "id": "027ae886-68dd-4141-96c7-805a5450e1ef",
   "metadata": {
    "execution": {
     "iopub.execute_input": "2025-07-23T14:27:06.272903Z",
     "iopub.status.busy": "2025-07-23T14:27:06.271796Z",
     "iopub.status.idle": "2025-07-23T14:27:06.630203Z",
     "shell.execute_reply": "2025-07-23T14:27:06.628967Z"
    },
    "papermill": {
     "duration": 0.385427,
     "end_time": "2025-07-23T14:27:06.632397",
     "exception": false,
     "start_time": "2025-07-23T14:27:06.246970",
     "status": "completed"
    },
    "tags": []
   },
   "outputs": [],
   "source": [
    "from fairness_multiverse.conformal import build_cp_groups\n",
    "\n",
    "cp_groups_df = build_cp_groups(pred_sets, y_true, X_test.index, org_test)\n",
    "#needs universe_id and setting"
   ]
  },
  {
   "cell_type": "code",
   "execution_count": 48,
   "id": "c3b92545-903e-4839-89af-0f057907d7d6",
   "metadata": {
    "execution": {
     "iopub.execute_input": "2025-07-23T14:27:06.684156Z",
     "iopub.status.busy": "2025-07-23T14:27:06.683597Z",
     "iopub.status.idle": "2025-07-23T14:27:08.664485Z",
     "shell.execute_reply": "2025-07-23T14:27:08.663396Z"
    },
    "papermill": {
     "duration": 2.00894,
     "end_time": "2025-07-23T14:27:08.666606",
     "exception": false,
     "start_time": "2025-07-23T14:27:06.657666",
     "status": "completed"
    },
    "tags": []
   },
   "outputs": [],
   "source": [
    "# Define covered = 1 if true_label is in the predicted set\n",
    "cp_groups_df['covered'] = cp_groups_df.apply(\n",
    "    lambda r: int(r['true_label'] in r['pred_set']),\n",
    "    axis=1\n",
    ")"
   ]
  },
  {
   "cell_type": "code",
   "execution_count": 49,
   "id": "338ff529-1a6b-4b87-a931-8e4788d52aad",
   "metadata": {
    "execution": {
     "iopub.execute_input": "2025-07-23T14:27:08.718126Z",
     "iopub.status.busy": "2025-07-23T14:27:08.717566Z",
     "iopub.status.idle": "2025-07-23T14:27:08.723331Z",
     "shell.execute_reply": "2025-07-23T14:27:08.722087Z"
    },
    "papermill": {
     "duration": 0.034215,
     "end_time": "2025-07-23T14:27:08.725398",
     "exception": false,
     "start_time": "2025-07-23T14:27:08.691183",
     "status": "completed"
    },
    "tags": []
   },
   "outputs": [],
   "source": [
    "#cp_groups_df"
   ]
  },
  {
   "cell_type": "code",
   "execution_count": 50,
   "id": "90032e27-66df-4540-9169-4e89cfbaa758",
   "metadata": {
    "execution": {
     "iopub.execute_input": "2025-07-23T14:27:08.776618Z",
     "iopub.status.busy": "2025-07-23T14:27:08.776039Z",
     "iopub.status.idle": "2025-07-23T14:27:08.788345Z",
     "shell.execute_reply": "2025-07-23T14:27:08.787303Z"
    },
    "papermill": {
     "duration": 0.039814,
     "end_time": "2025-07-23T14:27:08.790399",
     "exception": false,
     "start_time": "2025-07-23T14:27:08.750585",
     "status": "completed"
    },
    "tags": []
   },
   "outputs": [],
   "source": [
    "subgroups = ['frau1','nongerman','nongerman_male','nongerman_female']\n",
    "\n",
    "# Conditional coverage for subgroup==1\n",
    "cond_coverage = {\n",
    "    g: cp_groups_df.loc[cp_groups_df[g]==1, 'covered'].mean()\n",
    "    for g in subgroups\n",
    "}"
   ]
  },
  {
   "cell_type": "code",
   "execution_count": 51,
   "id": "1e348fb1-b9c3-45bc-ba23-f016827a7e0d",
   "metadata": {
    "execution": {
     "iopub.execute_input": "2025-07-23T14:27:08.841929Z",
     "iopub.status.busy": "2025-07-23T14:27:08.841456Z",
     "iopub.status.idle": "2025-07-23T14:27:08.850313Z",
     "shell.execute_reply": "2025-07-23T14:27:08.849234Z"
    },
    "papermill": {
     "duration": 0.036266,
     "end_time": "2025-07-23T14:27:08.852125",
     "exception": false,
     "start_time": "2025-07-23T14:27:08.815859",
     "status": "completed"
    },
    "tags": []
   },
   "outputs": [
    {
     "data": {
      "text/plain": [
       "{'frau1': 0.9097722064968324,\n",
       " 'nongerman': 0.9078201313647336,\n",
       " 'nongerman_male': 0.9243447716833288,\n",
       " 'nongerman_female': 0.8804769001490313}"
      ]
     },
     "execution_count": 51,
     "metadata": {},
     "output_type": "execute_result"
    }
   ],
   "source": [
    "cond_coverage"
   ]
  },
  {
   "cell_type": "code",
   "execution_count": 52,
   "id": "f5093324-c3dd-4d63-bc4c-8d945e5c8bbb",
   "metadata": {
    "execution": {
     "iopub.execute_input": "2025-07-23T14:27:08.889238Z",
     "iopub.status.busy": "2025-07-23T14:27:08.888315Z",
     "iopub.status.idle": "2025-07-23T14:27:08.896848Z",
     "shell.execute_reply": "2025-07-23T14:27:08.895698Z"
    },
    "papermill": {
     "duration": 0.03291,
     "end_time": "2025-07-23T14:27:08.898993",
     "exception": false,
     "start_time": "2025-07-23T14:27:08.866083",
     "status": "completed"
    },
    "tags": []
   },
   "outputs": [],
   "source": [
    "for subgroup, cov in cond_coverage.items():\n",
    "    cp_metrics_df[f\"cov_{subgroup}\"] = cov"
   ]
  },
  {
   "cell_type": "code",
   "execution_count": 53,
   "id": "6e872e10-dbe5-49e8-b554-5030c98ff75d",
   "metadata": {
    "execution": {
     "iopub.execute_input": "2025-07-23T14:27:08.939488Z",
     "iopub.status.busy": "2025-07-23T14:27:08.939046Z",
     "iopub.status.idle": "2025-07-23T14:27:08.954168Z",
     "shell.execute_reply": "2025-07-23T14:27:08.953391Z"
    },
    "papermill": {
     "duration": 0.031677,
     "end_time": "2025-07-23T14:27:08.955614",
     "exception": false,
     "start_time": "2025-07-23T14:27:08.923937",
     "status": "completed"
    },
    "tags": []
   },
   "outputs": [
    {
     "data": {
      "text/html": [
       "<div>\n",
       "<style scoped>\n",
       "    .dataframe tbody tr th:only-of-type {\n",
       "        vertical-align: middle;\n",
       "    }\n",
       "\n",
       "    .dataframe tbody tr th {\n",
       "        vertical-align: top;\n",
       "    }\n",
       "\n",
       "    .dataframe thead th {\n",
       "        text-align: right;\n",
       "    }\n",
       "</style>\n",
       "<table border=\"1\" class=\"dataframe\">\n",
       "  <thead>\n",
       "    <tr style=\"text-align: right;\">\n",
       "      <th></th>\n",
       "      <th>universe_id</th>\n",
       "      <th>universe_model</th>\n",
       "      <th>universe_exclude_features</th>\n",
       "      <th>universe_exclude_subgroups</th>\n",
       "      <th>universe_scale</th>\n",
       "      <th>q_hat</th>\n",
       "      <th>coverage</th>\n",
       "      <th>avg_size</th>\n",
       "      <th>cov_frau1</th>\n",
       "      <th>cov_nongerman</th>\n",
       "      <th>cov_nongerman_male</th>\n",
       "      <th>cov_nongerman_female</th>\n",
       "    </tr>\n",
       "  </thead>\n",
       "  <tbody>\n",
       "    <tr>\n",
       "      <th>0</th>\n",
       "      <td>1c13f8470a08d1ebf202c9c523e48e8f</td>\n",
       "      <td>logreg</td>\n",
       "      <td>age</td>\n",
       "      <td>keep-all</td>\n",
       "      <td>scale</td>\n",
       "      <td>0.6627</td>\n",
       "      <td>0.910623</td>\n",
       "      <td>1.124969</td>\n",
       "      <td>0.909772</td>\n",
       "      <td>0.90782</td>\n",
       "      <td>0.924345</td>\n",
       "      <td>0.880477</td>\n",
       "    </tr>\n",
       "  </tbody>\n",
       "</table>\n",
       "</div>"
      ],
      "text/plain": [
       "                        universe_id universe_model universe_exclude_features  \\\n",
       "0  1c13f8470a08d1ebf202c9c523e48e8f         logreg                       age   \n",
       "\n",
       "  universe_exclude_subgroups universe_scale   q_hat  coverage  avg_size  \\\n",
       "0                   keep-all          scale  0.6627  0.910623  1.124969   \n",
       "\n",
       "   cov_frau1  cov_nongerman  cov_nongerman_male  cov_nongerman_female  \n",
       "0   0.909772        0.90782            0.924345              0.880477  "
      ]
     },
     "execution_count": 53,
     "metadata": {},
     "output_type": "execute_result"
    }
   ],
   "source": [
    "cp_metrics_df"
   ]
  },
  {
   "cell_type": "markdown",
   "id": "33774451",
   "metadata": {
    "papermill": {
     "duration": 0.01299,
     "end_time": "2025-07-23T14:27:08.982105",
     "exception": false,
     "start_time": "2025-07-23T14:27:08.969115",
     "status": "completed"
    },
    "tags": []
   },
   "source": [
    "# (Fairness) Metrics"
   ]
  },
  {
   "cell_type": "code",
   "execution_count": 54,
   "id": "debc5d62",
   "metadata": {
    "execution": {
     "iopub.execute_input": "2025-07-23T14:27:09.007945Z",
     "iopub.status.busy": "2025-07-23T14:27:09.007203Z",
     "iopub.status.idle": "2025-07-23T14:27:09.023336Z",
     "shell.execute_reply": "2025-07-23T14:27:09.022528Z"
    },
    "papermill": {
     "duration": 0.030825,
     "end_time": "2025-07-23T14:27:09.024921",
     "exception": false,
     "start_time": "2025-07-23T14:27:08.994096",
     "status": "completed"
    },
    "tags": []
   },
   "outputs": [],
   "source": [
    "# do I need to include maxdeutsch1.missing?\n",
    "\n",
    "import numpy as np\n",
    "\n",
    "colname_to_bin = \"maxdeutsch1\"\n",
    "majority_value = org_train[colname_to_bin].mode()[0]\n",
    "\n",
    "org_test[\"majmin\"] = np.where(org_test[colname_to_bin] == majority_value, \"majority\", \"minority\")"
   ]
  },
  {
   "cell_type": "code",
   "execution_count": 55,
   "id": "06a50de5",
   "metadata": {
    "execution": {
     "iopub.execute_input": "2025-07-23T14:27:09.051656Z",
     "iopub.status.busy": "2025-07-23T14:27:09.051103Z",
     "iopub.status.idle": "2025-07-23T14:27:12.281297Z",
     "shell.execute_reply": "2025-07-23T14:27:12.280041Z"
    },
    "papermill": {
     "duration": 3.246016,
     "end_time": "2025-07-23T14:27:12.283659",
     "exception": false,
     "start_time": "2025-07-23T14:27:09.037643",
     "status": "completed"
    },
    "tags": []
   },
   "outputs": [],
   "source": [
    "example_universe = universe.copy()\n",
    "example_universe[\"cutoff\"] = example_universe[\"cutoff\"][0]\n",
    "example_universe[\"eval_fairness_grouping\"] = example_universe[\"eval_fairness_grouping\"][0]\n",
    "fairness_dict, metric_frame = universe_analysis.compute_metrics(\n",
    "    example_universe,\n",
    "    y_pred_prob=probs_test,\n",
    "    y_test=y_true,\n",
    "    org_test=org_test,\n",
    ")"
   ]
  },
  {
   "cell_type": "markdown",
   "id": "f95d4e02",
   "metadata": {
    "papermill": {
     "duration": 0.02268,
     "end_time": "2025-07-23T14:27:12.334358",
     "exception": false,
     "start_time": "2025-07-23T14:27:12.311678",
     "status": "completed"
    },
    "tags": []
   },
   "source": [
    "# Overall"
   ]
  },
  {
   "cell_type": "markdown",
   "id": "bdee4871",
   "metadata": {
    "papermill": {
     "duration": 0.024249,
     "end_time": "2025-07-23T14:27:12.383265",
     "exception": false,
     "start_time": "2025-07-23T14:27:12.359016",
     "status": "completed"
    },
    "tags": []
   },
   "source": [
    "Fairness\n",
    "Main fairness target: Equalized Odds. Seems to be a better fit than equal opportunity, since we're not only interested in Y = 1. Seems to be a better fit than demographic parity, since we also care about accuracy, not just equal distribution of preds.\n",
    "\n",
    "Pick column for computation of fairness metrics\n",
    "\n",
    "Performance\n",
    "Overall performance measures, most interesting in relation to the measures split by group below"
   ]
  },
  {
   "cell_type": "code",
   "execution_count": 56,
   "id": "c4e067c6",
   "metadata": {
    "execution": {
     "iopub.execute_input": "2025-07-23T14:27:12.424510Z",
     "iopub.status.busy": "2025-07-23T14:27:12.423993Z",
     "iopub.status.idle": "2025-07-23T14:27:12.433620Z",
     "shell.execute_reply": "2025-07-23T14:27:12.432616Z"
    },
    "papermill": {
     "duration": 0.028277,
     "end_time": "2025-07-23T14:27:12.435222",
     "exception": false,
     "start_time": "2025-07-23T14:27:12.406945",
     "status": "completed"
    },
    "tags": []
   },
   "outputs": [
    {
     "data": {
      "text/plain": [
       "accuracy                   0.225516\n",
       "balanced accuracy          0.551177\n",
       "f1                         0.246816\n",
       "precision                  0.140998\n",
       "false positive rate        0.886870\n",
       "false negative rate        0.010775\n",
       "selection rate             0.900000\n",
       "count                  89710.000000\n",
       "dtype: float64"
      ]
     },
     "execution_count": 56,
     "metadata": {},
     "output_type": "execute_result"
    }
   ],
   "source": [
    "metric_frame.overall"
   ]
  },
  {
   "cell_type": "markdown",
   "id": "e968fe9d",
   "metadata": {
    "papermill": {
     "duration": 0.024266,
     "end_time": "2025-07-23T14:27:12.480741",
     "exception": false,
     "start_time": "2025-07-23T14:27:12.456475",
     "status": "completed"
    },
    "tags": []
   },
   "source": [
    "By Group"
   ]
  },
  {
   "cell_type": "code",
   "execution_count": 57,
   "id": "ec325bce",
   "metadata": {
    "execution": {
     "iopub.execute_input": "2025-07-23T14:27:12.526850Z",
     "iopub.status.busy": "2025-07-23T14:27:12.526317Z",
     "iopub.status.idle": "2025-07-23T14:27:12.542948Z",
     "shell.execute_reply": "2025-07-23T14:27:12.541984Z"
    },
    "papermill": {
     "duration": 0.041646,
     "end_time": "2025-07-23T14:27:12.544734",
     "exception": false,
     "start_time": "2025-07-23T14:27:12.503088",
     "status": "completed"
    },
    "tags": []
   },
   "outputs": [
    {
     "data": {
      "text/html": [
       "<div>\n",
       "<style scoped>\n",
       "    .dataframe tbody tr th:only-of-type {\n",
       "        vertical-align: middle;\n",
       "    }\n",
       "\n",
       "    .dataframe tbody tr th {\n",
       "        vertical-align: top;\n",
       "    }\n",
       "\n",
       "    .dataframe thead th {\n",
       "        text-align: right;\n",
       "    }\n",
       "</style>\n",
       "<table border=\"1\" class=\"dataframe\">\n",
       "  <thead>\n",
       "    <tr style=\"text-align: right;\">\n",
       "      <th></th>\n",
       "      <th>accuracy</th>\n",
       "      <th>balanced accuracy</th>\n",
       "      <th>f1</th>\n",
       "      <th>precision</th>\n",
       "      <th>false positive rate</th>\n",
       "      <th>false negative rate</th>\n",
       "      <th>selection rate</th>\n",
       "      <th>count</th>\n",
       "    </tr>\n",
       "    <tr>\n",
       "      <th>majmin</th>\n",
       "      <th></th>\n",
       "      <th></th>\n",
       "      <th></th>\n",
       "      <th></th>\n",
       "      <th></th>\n",
       "      <th></th>\n",
       "      <th></th>\n",
       "      <th></th>\n",
       "    </tr>\n",
       "  </thead>\n",
       "  <tbody>\n",
       "    <tr>\n",
       "      <th>majority</th>\n",
       "      <td>0.248070</td>\n",
       "      <td>0.561644</td>\n",
       "      <td>0.257717</td>\n",
       "      <td>0.148189</td>\n",
       "      <td>0.864568</td>\n",
       "      <td>0.012144</td>\n",
       "      <td>0.880859</td>\n",
       "      <td>69170.0</td>\n",
       "    </tr>\n",
       "    <tr>\n",
       "      <th>minority</th>\n",
       "      <td>0.149562</td>\n",
       "      <td>0.516983</td>\n",
       "      <td>0.212373</td>\n",
       "      <td>0.118879</td>\n",
       "      <td>0.960544</td>\n",
       "      <td>0.005490</td>\n",
       "      <td>0.964460</td>\n",
       "      <td>20540.0</td>\n",
       "    </tr>\n",
       "  </tbody>\n",
       "</table>\n",
       "</div>"
      ],
      "text/plain": [
       "          accuracy  balanced accuracy        f1  precision  \\\n",
       "majmin                                                       \n",
       "majority  0.248070           0.561644  0.257717   0.148189   \n",
       "minority  0.149562           0.516983  0.212373   0.118879   \n",
       "\n",
       "          false positive rate  false negative rate  selection rate    count  \n",
       "majmin                                                                       \n",
       "majority             0.864568             0.012144        0.880859  69170.0  \n",
       "minority             0.960544             0.005490        0.964460  20540.0  "
      ]
     },
     "execution_count": 57,
     "metadata": {},
     "output_type": "execute_result"
    }
   ],
   "source": [
    "metric_frame.by_group"
   ]
  },
  {
   "cell_type": "code",
   "execution_count": 58,
   "id": "a9ddbe63",
   "metadata": {
    "execution": {
     "iopub.execute_input": "2025-07-23T14:27:12.593466Z",
     "iopub.status.busy": "2025-07-23T14:27:12.592780Z",
     "iopub.status.idle": "2025-07-23T14:27:15.181276Z",
     "shell.execute_reply": "2025-07-23T14:27:15.180113Z"
    },
    "papermill": {
     "duration": 2.615161,
     "end_time": "2025-07-23T14:27:15.183209",
     "exception": false,
     "start_time": "2025-07-23T14:27:12.568048",
     "status": "completed"
    },
    "tags": []
   },
   "outputs": [
    {
     "data": {
      "text/plain": [
       "array([[<Axes: title={'center': 'accuracy'}, xlabel='majmin'>,\n",
       "        <Axes: title={'center': 'balanced accuracy'}, xlabel='majmin'>,\n",
       "        <Axes: title={'center': 'f1'}, xlabel='majmin'>],\n",
       "       [<Axes: title={'center': 'precision'}, xlabel='majmin'>,\n",
       "        <Axes: title={'center': 'false positive rate'}, xlabel='majmin'>,\n",
       "        <Axes: title={'center': 'false negative rate'}, xlabel='majmin'>],\n",
       "       [<Axes: title={'center': 'selection rate'}, xlabel='majmin'>,\n",
       "        <Axes: title={'center': 'count'}, xlabel='majmin'>,\n",
       "        <Axes: xlabel='majmin'>]], dtype=object)"
      ]
     },
     "execution_count": 58,
     "metadata": {},
     "output_type": "execute_result"
    },
    {
     "data": {
      "image/png": "[encoded data removed]",
      "text/plain": [
       "<Figure size 1200x800 with 9 Axes>"
      ]
     },
     "metadata": {},
     "output_type": "display_data"
    }
   ],
   "source": [
    "# In a graphic\n",
    "metric_frame.by_group.plot.bar(\n",
    "    subplots=True,\n",
    "    layout=[3, 3],\n",
    "    legend=False,\n",
    "    figsize=[12, 8],\n",
    "    title=\"Show all metrics\",\n",
    ")"
   ]
  },
  {
   "cell_type": "markdown",
   "id": "f57a0bac",
   "metadata": {
    "papermill": {
     "duration": 0.024411,
     "end_time": "2025-07-23T14:27:15.234950",
     "exception": false,
     "start_time": "2025-07-23T14:27:15.210539",
     "status": "completed"
    },
    "tags": []
   },
   "source": [
    "# Final Output"
   ]
  },
  {
   "cell_type": "code",
   "execution_count": 59,
   "id": "96d280a3",
   "metadata": {
    "execution": {
     "iopub.execute_input": "2025-07-23T14:27:15.284447Z",
     "iopub.status.busy": "2025-07-23T14:27:15.283671Z",
     "iopub.status.idle": "2025-07-23T14:27:15.292787Z",
     "shell.execute_reply": "2025-07-23T14:27:15.291577Z"
    },
    "papermill": {
     "duration": 0.035796,
     "end_time": "2025-07-23T14:27:15.294531",
     "exception": false,
     "start_time": "2025-07-23T14:27:15.258735",
     "status": "completed"
    },
    "tags": []
   },
   "outputs": [
    {
     "data": {
      "text/plain": [
       "4"
      ]
     },
     "execution_count": 59,
     "metadata": {},
     "output_type": "execute_result"
    }
   ],
   "source": [
    "sub_universes = universe_analysis.generate_sub_universes()\n",
    "len(sub_universes)"
   ]
  },
  {
   "cell_type": "code",
   "execution_count": 60,
   "id": "92adf7ba",
   "metadata": {
    "execution": {
     "iopub.execute_input": "2025-07-23T14:27:15.348769Z",
     "iopub.status.busy": "2025-07-23T14:27:15.347699Z",
     "iopub.status.idle": "2025-07-23T14:27:15.355739Z",
     "shell.execute_reply": "2025-07-23T14:27:15.354619Z"
    },
    "papermill": {
     "duration": 0.036428,
     "end_time": "2025-07-23T14:27:15.357812",
     "exception": false,
     "start_time": "2025-07-23T14:27:15.321384",
     "status": "completed"
    },
    "tags": []
   },
   "outputs": [],
   "source": [
    "def filter_sub_universe_data(sub_universe, org_test):\n",
    "    # Keep all rows — no filtering\n",
    "    keep_rows_mask = np.ones(org_test.shape[0], dtype=bool)\n",
    "\n",
    "    print(f\"[INFO] Keeping all rows: {keep_rows_mask.sum()} rows retained.\")\n",
    "    return keep_rows_mask"
   ]
  },
  {
   "cell_type": "code",
   "execution_count": 61,
   "id": "4a759155",
   "metadata": {
    "execution": {
     "iopub.execute_input": "2025-07-23T14:27:15.416532Z",
     "iopub.status.busy": "2025-07-23T14:27:15.416000Z",
     "iopub.status.idle": "2025-07-23T14:27:27.787877Z",
     "shell.execute_reply": "2025-07-23T14:27:27.786516Z"
    },
    "papermill": {
     "duration": 12.407001,
     "end_time": "2025-07-23T14:27:27.790029",
     "exception": false,
     "start_time": "2025-07-23T14:27:15.383028",
     "status": "completed"
    },
    "tags": []
   },
   "outputs": [
    {
     "name": "stdout",
     "output_type": "stream",
     "text": [
      "Stopping execution_time clock.\n",
      "[INFO] Keeping all rows: 89710 rows retained.\n"
     ]
    },
    {
     "name": "stdout",
     "output_type": "stream",
     "text": [
      "[INFO] Keeping all rows: 89710 rows retained.\n"
     ]
    },
    {
     "name": "stdout",
     "output_type": "stream",
     "text": [
      "[INFO] Keeping all rows: 89710 rows retained.\n"
     ]
    },
    {
     "name": "stdout",
     "output_type": "stream",
     "text": [
      "[INFO] Keeping all rows: 89710 rows retained.\n"
     ]
    },
    {
     "data": {
      "text/html": [
       "<div>\n",
       "<style scoped>\n",
       "    .dataframe tbody tr th:only-of-type {\n",
       "        vertical-align: middle;\n",
       "    }\n",
       "\n",
       "    .dataframe tbody tr th {\n",
       "        vertical-align: top;\n",
       "    }\n",
       "\n",
       "    .dataframe thead th {\n",
       "        text-align: right;\n",
       "    }\n",
       "</style>\n",
       "<table border=\"1\" class=\"dataframe\">\n",
       "  <thead>\n",
       "    <tr style=\"text-align: right;\">\n",
       "      <th></th>\n",
       "      <th>run_no</th>\n",
       "      <th>universe_id</th>\n",
       "      <th>universe_settings</th>\n",
       "      <th>execution_time</th>\n",
       "      <th>test_size_n</th>\n",
       "      <th>test_size_frac</th>\n",
       "      <th>fair_main_equalized_odds_difference</th>\n",
       "      <th>fair_main_equalized_odds_ratio</th>\n",
       "      <th>fair_main_demographic_parity_difference</th>\n",
       "      <th>fair_main_demographic_parity_ratio</th>\n",
       "      <th>...</th>\n",
       "      <th>perf_grp_precision_0</th>\n",
       "      <th>perf_grp_precision_1</th>\n",
       "      <th>perf_grp_false positive rate_0</th>\n",
       "      <th>perf_grp_false positive rate_1</th>\n",
       "      <th>perf_grp_false negative rate_0</th>\n",
       "      <th>perf_grp_false negative rate_1</th>\n",
       "      <th>perf_grp_selection rate_0</th>\n",
       "      <th>perf_grp_selection rate_1</th>\n",
       "      <th>perf_grp_count_0</th>\n",
       "      <th>perf_grp_count_1</th>\n",
       "    </tr>\n",
       "  </thead>\n",
       "  <tbody>\n",
       "    <tr>\n",
       "      <th>0</th>\n",
       "      <td>9</td>\n",
       "      <td>1c13f8470a08d1ebf202c9c523e48e8f</td>\n",
       "      <td>{\"cutoff\": \"quantile_0.1\", \"eval_fairness_grou...</td>\n",
       "      <td>22.369667</td>\n",
       "      <td>89710</td>\n",
       "      <td>1.0</td>\n",
       "      <td>0.095976</td>\n",
       "      <td>0.900082</td>\n",
       "      <td>0.083601</td>\n",
       "      <td>0.913318</td>\n",
       "      <td>...</td>\n",
       "      <td>NaN</td>\n",
       "      <td>NaN</td>\n",
       "      <td>NaN</td>\n",
       "      <td>NaN</td>\n",
       "      <td>NaN</td>\n",
       "      <td>NaN</td>\n",
       "      <td>NaN</td>\n",
       "      <td>NaN</td>\n",
       "      <td>NaN</td>\n",
       "      <td>NaN</td>\n",
       "    </tr>\n",
       "    <tr>\n",
       "      <th>0</th>\n",
       "      <td>9</td>\n",
       "      <td>1c13f8470a08d1ebf202c9c523e48e8f</td>\n",
       "      <td>{\"cutoff\": \"quantile_0.1\", \"eval_fairness_grou...</td>\n",
       "      <td>22.369667</td>\n",
       "      <td>89710</td>\n",
       "      <td>1.0</td>\n",
       "      <td>0.095976</td>\n",
       "      <td>0.900082</td>\n",
       "      <td>0.083601</td>\n",
       "      <td>0.913318</td>\n",
       "      <td>...</td>\n",
       "      <td>0.118879</td>\n",
       "      <td>0.148189</td>\n",
       "      <td>0.960544</td>\n",
       "      <td>0.864568</td>\n",
       "      <td>0.00549</td>\n",
       "      <td>0.012144</td>\n",
       "      <td>0.964460</td>\n",
       "      <td>0.880859</td>\n",
       "      <td>20540.0</td>\n",
       "      <td>69170.0</td>\n",
       "    </tr>\n",
       "    <tr>\n",
       "      <th>0</th>\n",
       "      <td>9</td>\n",
       "      <td>1c13f8470a08d1ebf202c9c523e48e8f</td>\n",
       "      <td>{\"cutoff\": \"quantile_0.25\", \"eval_fairness_gro...</td>\n",
       "      <td>22.369667</td>\n",
       "      <td>89710</td>\n",
       "      <td>1.0</td>\n",
       "      <td>0.178021</td>\n",
       "      <td>0.792322</td>\n",
       "      <td>0.155717</td>\n",
       "      <td>0.821027</td>\n",
       "      <td>...</td>\n",
       "      <td>NaN</td>\n",
       "      <td>NaN</td>\n",
       "      <td>NaN</td>\n",
       "      <td>NaN</td>\n",
       "      <td>NaN</td>\n",
       "      <td>NaN</td>\n",
       "      <td>NaN</td>\n",
       "      <td>NaN</td>\n",
       "      <td>NaN</td>\n",
       "      <td>NaN</td>\n",
       "    </tr>\n",
       "    <tr>\n",
       "      <th>0</th>\n",
       "      <td>9</td>\n",
       "      <td>1c13f8470a08d1ebf202c9c523e48e8f</td>\n",
       "      <td>{\"cutoff\": \"quantile_0.25\", \"eval_fairness_gro...</td>\n",
       "      <td>22.369667</td>\n",
       "      <td>89710</td>\n",
       "      <td>1.0</td>\n",
       "      <td>0.178021</td>\n",
       "      <td>0.792322</td>\n",
       "      <td>0.155717</td>\n",
       "      <td>0.821027</td>\n",
       "      <td>...</td>\n",
       "      <td>0.128364</td>\n",
       "      <td>0.174860</td>\n",
       "      <td>0.857198</td>\n",
       "      <td>0.679177</td>\n",
       "      <td>0.03125</td>\n",
       "      <td>0.054705</td>\n",
       "      <td>0.870058</td>\n",
       "      <td>0.714341</td>\n",
       "      <td>20540.0</td>\n",
       "      <td>69170.0</td>\n",
       "    </tr>\n",
       "  </tbody>\n",
       "</table>\n",
       "<p>4 rows × 50 columns</p>\n",
       "</div>"
      ],
      "text/plain": [
       "  run_no                       universe_id  \\\n",
       "0      9  1c13f8470a08d1ebf202c9c523e48e8f   \n",
       "0      9  1c13f8470a08d1ebf202c9c523e48e8f   \n",
       "0      9  1c13f8470a08d1ebf202c9c523e48e8f   \n",
       "0      9  1c13f8470a08d1ebf202c9c523e48e8f   \n",
       "\n",
       "                                   universe_settings  execution_time  \\\n",
       "0  {\"cutoff\": \"quantile_0.1\", \"eval_fairness_grou...       22.369667   \n",
       "0  {\"cutoff\": \"quantile_0.1\", \"eval_fairness_grou...       22.369667   \n",
       "0  {\"cutoff\": \"quantile_0.25\", \"eval_fairness_gro...       22.369667   \n",
       "0  {\"cutoff\": \"quantile_0.25\", \"eval_fairness_gro...       22.369667   \n",
       "\n",
       "   test_size_n  test_size_frac  fair_main_equalized_odds_difference  \\\n",
       "0        89710             1.0                             0.095976   \n",
       "0        89710             1.0                             0.095976   \n",
       "0        89710             1.0                             0.178021   \n",
       "0        89710             1.0                             0.178021   \n",
       "\n",
       "   fair_main_equalized_odds_ratio  fair_main_demographic_parity_difference  \\\n",
       "0                        0.900082                                 0.083601   \n",
       "0                        0.900082                                 0.083601   \n",
       "0                        0.792322                                 0.155717   \n",
       "0                        0.792322                                 0.155717   \n",
       "\n",
       "   fair_main_demographic_parity_ratio  ...  perf_grp_precision_0  \\\n",
       "0                            0.913318  ...                   NaN   \n",
       "0                            0.913318  ...              0.118879   \n",
       "0                            0.821027  ...                   NaN   \n",
       "0                            0.821027  ...              0.128364   \n",
       "\n",
       "   perf_grp_precision_1  perf_grp_false positive rate_0  \\\n",
       "0                   NaN                             NaN   \n",
       "0              0.148189                        0.960544   \n",
       "0                   NaN                             NaN   \n",
       "0              0.174860                        0.857198   \n",
       "\n",
       "   perf_grp_false positive rate_1  perf_grp_false negative rate_0  \\\n",
       "0                             NaN                             NaN   \n",
       "0                        0.864568                         0.00549   \n",
       "0                             NaN                             NaN   \n",
       "0                        0.679177                         0.03125   \n",
       "\n",
       "   perf_grp_false negative rate_1  perf_grp_selection rate_0  \\\n",
       "0                             NaN                        NaN   \n",
       "0                        0.012144                   0.964460   \n",
       "0                             NaN                        NaN   \n",
       "0                        0.054705                   0.870058   \n",
       "\n",
       "   perf_grp_selection rate_1  perf_grp_count_0  perf_grp_count_1  \n",
       "0                        NaN               NaN               NaN  \n",
       "0                   0.880859           20540.0           69170.0  \n",
       "0                        NaN               NaN               NaN  \n",
       "0                   0.714341           20540.0           69170.0  \n",
       "\n",
       "[4 rows x 50 columns]"
      ]
     },
     "execution_count": 61,
     "metadata": {},
     "output_type": "execute_result"
    }
   ],
   "source": [
    "final_output = universe_analysis.generate_final_output(\n",
    "    y_pred_prob=probs_test,\n",
    "    y_test=y_true,\n",
    "    org_test=org_test,\n",
    "    filter_data=filter_sub_universe_data,\n",
    "    cp_metrics_df=cp_metrics_df,\n",
    "    save=True,\n",
    ")\n",
    "final_output"
   ]
  },
  {
   "cell_type": "code",
   "execution_count": null,
   "id": "721ff514-cb11-46f8-b6fc-50392f74b5cb",
   "metadata": {
    "papermill": {
     "duration": 0.028057,
     "end_time": "2025-07-23T14:27:27.850462",
     "exception": false,
     "start_time": "2025-07-23T14:27:27.822405",
     "status": "completed"
    },
    "tags": []
   },
   "outputs": [],
   "source": []
  }
 ],
 "metadata": {
  "celltoolbar": "Tags",
  "kernelspec": {
   "display_name": "Python (CMA Fairness)",
   "language": "python",
   "name": "cma_fair_env"
  },
  "language_info": {
   "codemirror_mode": {
    "name": "ipython",
    "version": 3
   },
   "file_extension": ".py",
   "mimetype": "text/x-python",
   "name": "python",
   "nbconvert_exporter": "python",
   "pygments_lexer": "ipython3",
   "version": "3.10.12"
  },
  "papermill": {
   "default_parameters": {},
   "duration": 39.137228,
   "end_time": "2025-07-23T14:27:28.700240",
   "environment_variables": {},
   "exception": null,
   "input_path": "universe_analysis.ipynb",
   "output_path": "output/runs/9/notebooks/m_9-1c13f8470a08d1ebf202c9c523e48e8f.ipynb",
   "parameters": {
    "output_dir": "output",
    "run_no": "9",
    "seed": "2023",
    "universe": "{\"cutoff\": [\"quantile_0.1\", \"quantile_0.25\"], \"eval_fairness_grouping\": [\"majority-minority\", \"nationality-all\"], \"exclude_features\": \"age\", \"exclude_subgroups\": \"keep-all\", \"model\": \"logreg\", \"scale\": \"scale\"}",
    "universe_id": "1c13f8470a08d1ebf202c9c523e48e8f"
   },
   "start_time": "2025-07-23T14:26:49.563012",
   "version": "2.6.0"
  }
 },
 "nbformat": 4,
 "nbformat_minor": 5
}