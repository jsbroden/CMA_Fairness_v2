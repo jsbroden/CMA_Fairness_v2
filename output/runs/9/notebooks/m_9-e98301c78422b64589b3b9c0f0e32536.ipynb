{
 "cells": [
  {
   "cell_type": "code",
   "execution_count": 1,
   "id": "f159f837-637b-42ba-96b5-ec9a68c44524",
   "metadata": {
    "execution": {
     "iopub.execute_input": "2025-07-23T14:34:58.171622Z",
     "iopub.status.busy": "2025-07-23T14:34:58.171020Z",
     "iopub.status.idle": "2025-07-23T14:34:58.186394Z",
     "shell.execute_reply": "2025-07-23T14:34:58.185276Z"
    },
    "papermill": {
     "duration": 0.035881,
     "end_time": "2025-07-23T14:34:58.188451",
     "exception": false,
     "start_time": "2025-07-23T14:34:58.152570",
     "status": "completed"
    },
    "tags": []
   },
   "outputs": [
    {
     "name": "stdout",
     "output_type": "stream",
     "text": [
      "/dss/dsshome1/0C/ra93lal2/cma/CMA_Fairness_v2\n"
     ]
    },
    {
     "name": "stderr",
     "output_type": "stream",
     "text": [
      "/dss/dsshome1/0C/ra93lal2/.local/share/virtualenvs/CMA_Fairness_v2-3j10GkSs/lib/python3.10/site-packages/IPython/core/magics/osm.py:393: UserWarning: This is now an optional IPython functionality, using bookmarks requires you to install the `pickleshare` library.\n",
      "  bkms = self.shell.db.get('bookmarks', {})\n",
      "/dss/dsshome1/0C/ra93lal2/.local/share/virtualenvs/CMA_Fairness_v2-3j10GkSs/lib/python3.10/site-packages/IPython/core/magics/osm.py:417: UserWarning: This is now an optional IPython functionality, setting dhist requires you to install the `pickleshare` library.\n",
      "  self.shell.db['dhist'] = compress_dhist(dhist)[-100:]\n"
     ]
    }
   ],
   "source": [
    "%cd ~/cma/CMA_Fairness_v2"
   ]
  },
  {
   "cell_type": "markdown",
   "id": "de2603b9",
   "metadata": {
    "papermill": {
     "duration": 0.034539,
     "end_time": "2025-07-23T14:34:58.242038",
     "exception": false,
     "start_time": "2025-07-23T14:34:58.207499",
     "status": "completed"
    },
    "tags": []
   },
   "source": [
    "The following cell holds the definition of our parameters, these values can be overriden by rendering the with e.g. the following command:\n",
    "\n",
    "papermill -p alpha 0.2 -p ratio 0.3 universe_analysis.ipynb output/test_run.ipynb"
   ]
  },
  {
   "cell_type": "code",
   "execution_count": 2,
   "id": "a80968a0-40bb-4fa9-85ef-2d5eefb01975",
   "metadata": {
    "execution": {
     "iopub.execute_input": "2025-07-23T14:34:58.281210Z",
     "iopub.status.busy": "2025-07-23T14:34:58.280666Z",
     "iopub.status.idle": "2025-07-23T14:34:58.286894Z",
     "shell.execute_reply": "2025-07-23T14:34:58.285727Z"
    },
    "papermill": {
     "duration": 0.028071,
     "end_time": "2025-07-23T14:34:58.288818",
     "exception": false,
     "start_time": "2025-07-23T14:34:58.260747",
     "status": "completed"
    },
    "tags": []
   },
   "outputs": [
    {
     "name": "stdout",
     "output_type": "stream",
     "text": [
      "Current working directory: /dss/dsshome1/0C/ra93lal2/cma/CMA_Fairness_v2\n"
     ]
    }
   ],
   "source": [
    "import os\n",
    "print(\"Current working directory:\", os.getcwd())"
   ]
  },
  {
   "cell_type": "code",
   "execution_count": 3,
   "id": "2dce4c03",
   "metadata": {
    "execution": {
     "iopub.execute_input": "2025-07-23T14:34:58.326956Z",
     "iopub.status.busy": "2025-07-23T14:34:58.326376Z",
     "iopub.status.idle": "2025-07-23T14:34:58.334592Z",
     "shell.execute_reply": "2025-07-23T14:34:58.333360Z"
    },
    "papermill": {
     "duration": 0.030598,
     "end_time": "2025-07-23T14:34:58.336535",
     "exception": false,
     "start_time": "2025-07-23T14:34:58.305937",
     "status": "completed"
    },
    "tags": [
     "parameters"
    ]
   },
   "outputs": [],
   "source": [
    "run_no = 0\n",
    "universe_id = \"test\"\n",
    "universe = {\n",
    "    \"scale\": \"scale\", # \"scale\", \"do-not-scale\",\n",
    "    \"model\": \"elasticnet\", # \"logreg\", \"penalized_logreg\", \"rf\", \"gbm\", \"elasticnet\"\n",
    "    \"cutoff\": [\"quantile_0.15\", \"quantile_0.30\"],\n",
    "    \"exclude_features\": \"age\", # \"none\", \"nationality\", \"sex\", \"nationality-sex\", \"age\"\n",
    "    \"exclude_subgroups\": \"keep-all\", # \"keep-all\", \"drop-non-german\"\n",
    "    #\"training_sample\": \"restricted\", # \"restricted\", \"full\"\n",
    "    \"eval_fairness_grouping\": [\"majority-minority\", \"nationality-all\"]\n",
    "}\n",
    "\n",
    "output_dir=\"./output\"\n",
    "seed=0"
   ]
  },
  {
   "cell_type": "code",
   "execution_count": 4,
   "id": "14566162",
   "metadata": {
    "execution": {
     "iopub.execute_input": "2025-07-23T14:34:58.375410Z",
     "iopub.status.busy": "2025-07-23T14:34:58.374681Z",
     "iopub.status.idle": "2025-07-23T14:34:58.380926Z",
     "shell.execute_reply": "2025-07-23T14:34:58.379609Z"
    },
    "papermill": {
     "duration": 0.027472,
     "end_time": "2025-07-23T14:34:58.383128",
     "exception": false,
     "start_time": "2025-07-23T14:34:58.355656",
     "status": "completed"
    },
    "tags": [
     "injected-parameters"
    ]
   },
   "outputs": [],
   "source": [
    "# Parameters\n",
    "universe_id = \"e98301c78422b64589b3b9c0f0e32536\"\n",
    "run_no = \"9\"\n",
    "universe = \"{\\\"cutoff\\\": [\\\"quantile_0.1\\\", \\\"quantile_0.25\\\"], \\\"eval_fairness_grouping\\\": [\\\"majority-minority\\\", \\\"nationality-all\\\"], \\\"exclude_features\\\": \\\"age\\\", \\\"exclude_subgroups\\\": \\\"drop-non-german\\\", \\\"model\\\": \\\"logreg\\\", \\\"scale\\\": \\\"do-not-scale\\\"}\"\n",
    "output_dir = \"output\"\n",
    "seed = \"2023\"\n"
   ]
  },
  {
   "cell_type": "code",
   "execution_count": 5,
   "id": "1650acaf",
   "metadata": {
    "execution": {
     "iopub.execute_input": "2025-07-23T14:34:58.421088Z",
     "iopub.status.busy": "2025-07-23T14:34:58.420532Z",
     "iopub.status.idle": "2025-07-23T14:34:58.426441Z",
     "shell.execute_reply": "2025-07-23T14:34:58.425398Z"
    },
    "papermill": {
     "duration": 0.027028,
     "end_time": "2025-07-23T14:34:58.428378",
     "exception": false,
     "start_time": "2025-07-23T14:34:58.401350",
     "status": "completed"
    },
    "tags": []
   },
   "outputs": [],
   "source": [
    "import json\n",
    "# Parse universe into dict if it is passed as a string\n",
    "if isinstance(universe, str):\n",
    "    universe = json.loads(universe)"
   ]
  },
  {
   "cell_type": "code",
   "execution_count": 6,
   "id": "16620c48",
   "metadata": {
    "execution": {
     "iopub.execute_input": "2025-07-23T14:34:58.459462Z",
     "iopub.status.busy": "2025-07-23T14:34:58.459108Z",
     "iopub.status.idle": "2025-07-23T14:34:58.490031Z",
     "shell.execute_reply": "2025-07-23T14:34:58.489277Z"
    },
    "papermill": {
     "duration": 0.044564,
     "end_time": "2025-07-23T14:34:58.491691",
     "exception": false,
     "start_time": "2025-07-23T14:34:58.447127",
     "status": "completed"
    },
    "tags": []
   },
   "outputs": [],
   "source": [
    "# Auto-reload the custom package\n",
    "%load_ext autoreload\n",
    "%autoreload 1\n",
    "%aimport fairness_multiverse"
   ]
  },
  {
   "cell_type": "code",
   "execution_count": 7,
   "id": "01c5c9f3",
   "metadata": {
    "execution": {
     "iopub.execute_input": "2025-07-23T14:34:58.515091Z",
     "iopub.status.busy": "2025-07-23T14:34:58.514525Z",
     "iopub.status.idle": "2025-07-23T14:35:00.548455Z",
     "shell.execute_reply": "2025-07-23T14:35:00.547336Z"
    },
    "papermill": {
     "duration": 2.045721,
     "end_time": "2025-07-23T14:35:00.550627",
     "exception": false,
     "start_time": "2025-07-23T14:34:58.504906",
     "status": "completed"
    },
    "tags": []
   },
   "outputs": [],
   "source": [
    "from fairness_multiverse.universe import UniverseAnalysis\n",
    "\n",
    "universe_analysis = UniverseAnalysis(\n",
    "    run_no = run_no,\n",
    "    universe_id = universe_id,\n",
    "    universe = universe,\n",
    "    output_dir=output_dir,\n",
    ")"
   ]
  },
  {
   "cell_type": "code",
   "execution_count": 8,
   "id": "106241f5",
   "metadata": {
    "execution": {
     "iopub.execute_input": "2025-07-23T14:35:00.590126Z",
     "iopub.status.busy": "2025-07-23T14:35:00.589377Z",
     "iopub.status.idle": "2025-07-23T14:35:00.596451Z",
     "shell.execute_reply": "2025-07-23T14:35:00.595432Z"
    },
    "papermill": {
     "duration": 0.028899,
     "end_time": "2025-07-23T14:35:00.598371",
     "exception": false,
     "start_time": "2025-07-23T14:35:00.569472",
     "status": "completed"
    },
    "tags": []
   },
   "outputs": [
    {
     "name": "stdout",
     "output_type": "stream",
     "text": [
      "Using Seed: 2023\n"
     ]
    }
   ],
   "source": [
    "import numpy as np\n",
    "parsed_seed = int(seed)\n",
    "np.random.seed(parsed_seed)\n",
    "print(f\"Using Seed: {parsed_seed}\")"
   ]
  },
  {
   "cell_type": "markdown",
   "id": "e0ebdc57",
   "metadata": {
    "papermill": {
     "duration": 0.018716,
     "end_time": "2025-07-23T14:35:00.636384",
     "exception": false,
     "start_time": "2025-07-23T14:35:00.617668",
     "status": "completed"
    },
    "tags": []
   },
   "source": [
    "# Loading Data"
   ]
  },
  {
   "cell_type": "markdown",
   "id": "681925a3",
   "metadata": {
    "papermill": {
     "duration": 0.018129,
     "end_time": "2025-07-23T14:35:00.672820",
     "exception": false,
     "start_time": "2025-07-23T14:35:00.654691",
     "status": "completed"
    },
    "tags": []
   },
   "source": [
    "Load siab_train, siab_test, siab_calib and/or \n",
    "load siab_train_features, siab_train_labels"
   ]
  },
  {
   "cell_type": "code",
   "execution_count": 9,
   "id": "f0496b8a",
   "metadata": {
    "execution": {
     "iopub.execute_input": "2025-07-23T14:35:00.711183Z",
     "iopub.status.busy": "2025-07-23T14:35:00.710548Z",
     "iopub.status.idle": "2025-07-23T14:35:00.715800Z",
     "shell.execute_reply": "2025-07-23T14:35:00.714676Z"
    },
    "papermill": {
     "duration": 0.026705,
     "end_time": "2025-07-23T14:35:00.717848",
     "exception": false,
     "start_time": "2025-07-23T14:35:00.691143",
     "status": "completed"
    },
    "tags": []
   },
   "outputs": [],
   "source": [
    "# Do I need to load siab? Delete this cell?\n",
    "\n",
    "#from pathlib import Path\n",
    "#import pandas as pd\n",
    "#\n",
    "## File paths\n",
    "#raw_file = Path(\"data/raw/siab.csv\")\n",
    "#cache_file = Path(\"data/siab_cached.csv.gz\")\n",
    "#\n",
    "## Ensure cache directory exists\n",
    "#cache_file.parent.mkdir(parents=True, exist_ok=True)\n",
    "#\n",
    "## Load with simple caching\n",
    "#if cache_file.exists():\n",
    "#    print(f\"Loading SIAB data from cache: {cache_file}\")\n",
    "#    siab = pd.read_csv(cache_file, compression='gzip')\n",
    "#else:\n",
    "#    print(f\"Cache not found. Reading raw SIAB data: {raw_file}\")\n",
    "#    siab = pd.read_csv(raw_file)\n",
    "#    siab.to_csv(cache_file, index=False, compression='gzip')\n",
    "#    print(f\"Cached SIAB data to: {cache_file}\")\n",
    "#\n",
    "## Now use `siab` DataFrame as needed\n",
    "#print(siab.shape)\n"
   ]
  },
  {
   "cell_type": "code",
   "execution_count": 10,
   "id": "a0edb063",
   "metadata": {
    "execution": {
     "iopub.execute_input": "2025-07-23T14:35:00.759508Z",
     "iopub.status.busy": "2025-07-23T14:35:00.758755Z",
     "iopub.status.idle": "2025-07-23T14:35:02.218761Z",
     "shell.execute_reply": "2025-07-23T14:35:02.217681Z"
    },
    "papermill": {
     "duration": 1.4832,
     "end_time": "2025-07-23T14:35:02.220844",
     "exception": false,
     "start_time": "2025-07-23T14:35:00.737644",
     "status": "completed"
    },
    "tags": []
   },
   "outputs": [],
   "source": [
    "import pandas as pd\n",
    "\n",
    "X_train = pd.read_csv(\"./data/X_train.csv\")\n",
    "y_train = pd.read_csv(\"./data/y_train.csv\")"
   ]
  },
  {
   "cell_type": "code",
   "execution_count": 11,
   "id": "63d08085",
   "metadata": {
    "execution": {
     "iopub.execute_input": "2025-07-23T14:35:02.261409Z",
     "iopub.status.busy": "2025-07-23T14:35:02.260546Z",
     "iopub.status.idle": "2025-07-23T14:35:03.908597Z",
     "shell.execute_reply": "2025-07-23T14:35:03.907813Z"
    },
    "papermill": {
     "duration": 1.670255,
     "end_time": "2025-07-23T14:35:03.910193",
     "exception": false,
     "start_time": "2025-07-23T14:35:02.239938",
     "status": "completed"
    },
    "tags": []
   },
   "outputs": [],
   "source": [
    "X_test = pd.read_csv(\"./data/X_test.csv\")\n",
    "y_true = pd.read_csv(\"./data/y_test.csv\")"
   ]
  },
  {
   "cell_type": "code",
   "execution_count": 12,
   "id": "98a8d0fa-1d3d-4ed8-bb2c-281470e24add",
   "metadata": {
    "execution": {
     "iopub.execute_input": "2025-07-23T14:35:03.931120Z",
     "iopub.status.busy": "2025-07-23T14:35:03.930341Z",
     "iopub.status.idle": "2025-07-23T14:35:05.273393Z",
     "shell.execute_reply": "2025-07-23T14:35:05.272476Z"
    },
    "papermill": {
     "duration": 1.354938,
     "end_time": "2025-07-23T14:35:05.275066",
     "exception": false,
     "start_time": "2025-07-23T14:35:03.920128",
     "status": "completed"
    },
    "tags": []
   },
   "outputs": [],
   "source": [
    "# Calibration data for conformal\n",
    "X_calib = pd.read_csv(\"./data/X_calib.csv\")\n",
    "y_calib = pd.read_csv(\"./data/y_calib.csv\")"
   ]
  },
  {
   "cell_type": "code",
   "execution_count": 13,
   "id": "e6c733c5",
   "metadata": {
    "execution": {
     "iopub.execute_input": "2025-07-23T14:35:05.296452Z",
     "iopub.status.busy": "2025-07-23T14:35:05.296057Z",
     "iopub.status.idle": "2025-07-23T14:35:05.408092Z",
     "shell.execute_reply": "2025-07-23T14:35:05.407064Z"
    },
    "papermill": {
     "duration": 0.124966,
     "end_time": "2025-07-23T14:35:05.410106",
     "exception": false,
     "start_time": "2025-07-23T14:35:05.285140",
     "status": "completed"
    },
    "tags": []
   },
   "outputs": [],
   "source": [
    "# Auxiliary data needed downstream in the pipeline\n",
    "\n",
    "org_train = X_train.copy()\n",
    "org_test = X_test.copy()\n",
    "org_calib = X_calib.copy()"
   ]
  },
  {
   "cell_type": "markdown",
   "id": "0a4a1b33",
   "metadata": {
    "papermill": {
     "duration": 0.019065,
     "end_time": "2025-07-23T14:35:05.448222",
     "exception": false,
     "start_time": "2025-07-23T14:35:05.429157",
     "status": "completed"
    },
    "tags": []
   },
   "source": [
    "# Preprocessing Data"
   ]
  },
  {
   "cell_type": "code",
   "execution_count": 14,
   "id": "ca879031",
   "metadata": {
    "execution": {
     "iopub.execute_input": "2025-07-23T14:35:05.486848Z",
     "iopub.status.busy": "2025-07-23T14:35:05.486344Z",
     "iopub.status.idle": "2025-07-23T14:35:05.493928Z",
     "shell.execute_reply": "2025-07-23T14:35:05.492876Z"
    },
    "papermill": {
     "duration": 0.028789,
     "end_time": "2025-07-23T14:35:05.495871",
     "exception": false,
     "start_time": "2025-07-23T14:35:05.467082",
     "status": "completed"
    },
    "tags": []
   },
   "outputs": [],
   "source": [
    "# EXCLUDE PROTECTED FEATURES\n",
    "# ----------------------\n",
    "# \"exclude_features\": \"none\", # \"nationality\", \"sex\", \"nationality-sex\"\n",
    "\n",
    "excluded_features = universe[\"exclude_features\"].split(\"-\") # split, e.g.: \"nationality-sex\" -> [\"nationality\", \"sex\"]\n",
    "excluded_features_dictionary = {\n",
    "    \"nationality\": [\"maxdeutsch1\", \"maxdeutsch.Missing.\"],\n",
    "    \"sex\": [\"frau1\"],\n",
    "    \"age\": [\"age\"],\n",
    "}\n"
   ]
  },
  {
   "cell_type": "code",
   "execution_count": 15,
   "id": "b745ac60",
   "metadata": {
    "execution": {
     "iopub.execute_input": "2025-07-23T14:35:05.536100Z",
     "iopub.status.busy": "2025-07-23T14:35:05.535360Z",
     "iopub.status.idle": "2025-07-23T14:35:05.541842Z",
     "shell.execute_reply": "2025-07-23T14:35:05.540729Z"
    },
    "papermill": {
     "duration": 0.028297,
     "end_time": "2025-07-23T14:35:05.543535",
     "exception": false,
     "start_time": "2025-07-23T14:35:05.515238",
     "status": "completed"
    },
    "tags": []
   },
   "outputs": [],
   "source": [
    "# Code nice names to column names\n",
    "\n",
    "excluded_features_columns = [\n",
    "    excluded_features_dictionary[f] for f in excluded_features if len(f) > 0 and f != \"none\"\n",
    "]"
   ]
  },
  {
   "cell_type": "code",
   "execution_count": 16,
   "id": "f84f73a2",
   "metadata": {
    "execution": {
     "iopub.execute_input": "2025-07-23T14:35:05.584264Z",
     "iopub.status.busy": "2025-07-23T14:35:05.583532Z",
     "iopub.status.idle": "2025-07-23T14:35:05.590511Z",
     "shell.execute_reply": "2025-07-23T14:35:05.589629Z"
    },
    "papermill": {
     "duration": 0.029042,
     "end_time": "2025-07-23T14:35:05.592173",
     "exception": false,
     "start_time": "2025-07-23T14:35:05.563131",
     "status": "completed"
    },
    "tags": []
   },
   "outputs": [],
   "source": [
    "from utils import flatten_once\n",
    "\n",
    "excluded_features_columns = flatten_once(excluded_features_columns)"
   ]
  },
  {
   "cell_type": "code",
   "execution_count": 17,
   "id": "884dea22",
   "metadata": {
    "execution": {
     "iopub.execute_input": "2025-07-23T14:35:05.631972Z",
     "iopub.status.busy": "2025-07-23T14:35:05.631239Z",
     "iopub.status.idle": "2025-07-23T14:35:05.680290Z",
     "shell.execute_reply": "2025-07-23T14:35:05.679022Z"
    },
    "papermill": {
     "duration": 0.071152,
     "end_time": "2025-07-23T14:35:05.682143",
     "exception": false,
     "start_time": "2025-07-23T14:35:05.610991",
     "status": "completed"
    },
    "tags": []
   },
   "outputs": [
    {
     "name": "stdout",
     "output_type": "stream",
     "text": [
      "Dropping features: ['age']\n"
     ]
    }
   ],
   "source": [
    "if len(excluded_features_columns) > 0:\n",
    "    print(f\"Dropping features: {excluded_features_columns}\")\n",
    "    X_train.drop(excluded_features_columns, axis=1, inplace=True)"
   ]
  },
  {
   "cell_type": "code",
   "execution_count": 18,
   "id": "95ab8b16",
   "metadata": {
    "execution": {
     "iopub.execute_input": "2025-07-23T14:35:05.722422Z",
     "iopub.status.busy": "2025-07-23T14:35:05.721412Z",
     "iopub.status.idle": "2025-07-23T14:35:05.776829Z",
     "shell.execute_reply": "2025-07-23T14:35:05.775677Z"
    },
    "papermill": {
     "duration": 0.077109,
     "end_time": "2025-07-23T14:35:05.778758",
     "exception": false,
     "start_time": "2025-07-23T14:35:05.701649",
     "status": "completed"
    },
    "tags": []
   },
   "outputs": [
    {
     "name": "stdout",
     "output_type": "stream",
     "text": [
      "Dropping features: ['age']\n"
     ]
    }
   ],
   "source": [
    "if len(excluded_features_columns) > 0:\n",
    "    print(f\"Dropping features: {excluded_features_columns}\")\n",
    "    X_test.drop(excluded_features_columns, axis=1, inplace=True)"
   ]
  },
  {
   "cell_type": "code",
   "execution_count": 19,
   "id": "1853aaf5-fb9f-46cb-a2b5-8ea4ae2237e4",
   "metadata": {
    "execution": {
     "iopub.execute_input": "2025-07-23T14:35:05.818838Z",
     "iopub.status.busy": "2025-07-23T14:35:05.818064Z",
     "iopub.status.idle": "2025-07-23T14:35:05.877853Z",
     "shell.execute_reply": "2025-07-23T14:35:05.876620Z"
    },
    "papermill": {
     "duration": 0.083466,
     "end_time": "2025-07-23T14:35:05.881032",
     "exception": false,
     "start_time": "2025-07-23T14:35:05.797566",
     "status": "completed"
    },
    "tags": []
   },
   "outputs": [
    {
     "name": "stdout",
     "output_type": "stream",
     "text": [
      "Dropping features: ['age']\n"
     ]
    }
   ],
   "source": [
    "if len(excluded_features_columns) > 0:\n",
    "    print(f\"Dropping features: {excluded_features_columns}\")\n",
    "    X_calib.drop(excluded_features_columns, axis=1, inplace=True)"
   ]
  },
  {
   "cell_type": "code",
   "execution_count": 20,
   "id": "76c4dc6d",
   "metadata": {
    "execution": {
     "iopub.execute_input": "2025-07-23T14:35:05.920976Z",
     "iopub.status.busy": "2025-07-23T14:35:05.920241Z",
     "iopub.status.idle": "2025-07-23T14:35:05.926444Z",
     "shell.execute_reply": "2025-07-23T14:35:05.925493Z"
    },
    "papermill": {
     "duration": 0.028544,
     "end_time": "2025-07-23T14:35:05.928293",
     "exception": false,
     "start_time": "2025-07-23T14:35:05.899749",
     "status": "completed"
    },
    "tags": []
   },
   "outputs": [],
   "source": [
    "# EXCLUDE CERTAIN SUBGROUPS\n",
    "# ----------------------\n",
    "\n",
    "mode = universe.get(\"exclude_subgroups\", \"keep-all\") \n",
    "# Fetches the exclude_subgroups setting from the universe dict.\n",
    "# Defaults to \"keep-all\" if the key is missing."
   ]
  },
  {
   "cell_type": "code",
   "execution_count": 21,
   "id": "21994072",
   "metadata": {
    "execution": {
     "iopub.execute_input": "2025-07-23T14:35:05.968134Z",
     "iopub.status.busy": "2025-07-23T14:35:05.967436Z",
     "iopub.status.idle": "2025-07-23T14:35:05.975811Z",
     "shell.execute_reply": "2025-07-23T14:35:05.974472Z"
    },
    "papermill": {
     "duration": 0.03015,
     "end_time": "2025-07-23T14:35:05.977851",
     "exception": false,
     "start_time": "2025-07-23T14:35:05.947701",
     "status": "completed"
    },
    "tags": []
   },
   "outputs": [],
   "source": [
    "if mode == \"keep-all\":\n",
    "    keep_mask = pd.Series(True, index=org_train.index)\n",
    "\n",
    "# org_train contains the original feature columns from features_org (in Simson)\n",
    "# features_org contains unprocessed features, for me X_train at beginning ???\n",
    "# For keep-all, creates a boolean Series (keep_mask) of all True, so no rows are removed.\n",
    "\n",
    "elif mode == \"drop-non-german\":\n",
    "    keep_mask = org_train[\"maxdeutsch1\"] == 1 # ??? what about missing values?\n",
    "\n",
    "else:\n",
    "    raise ValueError(f\"Unsupported mode for exclude_subgroups: {mode}\")\n"
   ]
  },
  {
   "cell_type": "code",
   "execution_count": 22,
   "id": "71651440",
   "metadata": {
    "execution": {
     "iopub.execute_input": "2025-07-23T14:35:06.019694Z",
     "iopub.status.busy": "2025-07-23T14:35:06.018809Z",
     "iopub.status.idle": "2025-07-23T14:35:06.027791Z",
     "shell.execute_reply": "2025-07-23T14:35:06.026693Z"
    },
    "papermill": {
     "duration": 0.031211,
     "end_time": "2025-07-23T14:35:06.029524",
     "exception": false,
     "start_time": "2025-07-23T14:35:05.998313",
     "status": "completed"
    },
    "tags": []
   },
   "outputs": [
    {
     "name": "stdout",
     "output_type": "stream",
     "text": [
      "Dropping 10036 rows (13.38%) where mode='drop-non-german'\n"
     ]
    }
   ],
   "source": [
    "n_drop = (~keep_mask).sum() # Calculates how many rows are set to be dropped\n",
    "if n_drop > 0:\n",
    "    pct = n_drop / len(keep_mask) * 100\n",
    "    print(f\"Dropping {n_drop} rows ({pct:.2f}%) where mode='{mode}'\")"
   ]
  },
  {
   "cell_type": "code",
   "execution_count": 23,
   "id": "5fb8eee5",
   "metadata": {
    "execution": {
     "iopub.execute_input": "2025-07-23T14:35:06.070589Z",
     "iopub.status.busy": "2025-07-23T14:35:06.069640Z",
     "iopub.status.idle": "2025-07-23T14:35:06.122429Z",
     "shell.execute_reply": "2025-07-23T14:35:06.121377Z"
    },
    "papermill": {
     "duration": 0.074949,
     "end_time": "2025-07-23T14:35:06.124589",
     "exception": false,
     "start_time": "2025-07-23T14:35:06.049640",
     "status": "completed"
    },
    "tags": []
   },
   "outputs": [],
   "source": [
    "X_train = X_train[keep_mask]"
   ]
  },
  {
   "cell_type": "code",
   "execution_count": 24,
   "id": "b202bb3a",
   "metadata": {
    "execution": {
     "iopub.execute_input": "2025-07-23T14:35:06.164028Z",
     "iopub.status.busy": "2025-07-23T14:35:06.163590Z",
     "iopub.status.idle": "2025-07-23T14:35:06.172152Z",
     "shell.execute_reply": "2025-07-23T14:35:06.171040Z"
    },
    "papermill": {
     "duration": 0.030663,
     "end_time": "2025-07-23T14:35:06.174100",
     "exception": false,
     "start_time": "2025-07-23T14:35:06.143437",
     "status": "completed"
    },
    "tags": []
   },
   "outputs": [],
   "source": [
    "y_train = y_train[keep_mask]"
   ]
  },
  {
   "cell_type": "markdown",
   "id": "493e2ac3",
   "metadata": {
    "papermill": {
     "duration": 0.01939,
     "end_time": "2025-07-23T14:35:06.214021",
     "exception": false,
     "start_time": "2025-07-23T14:35:06.194631",
     "status": "completed"
    },
    "tags": []
   },
   "source": [
    "# Model Training"
   ]
  },
  {
   "cell_type": "code",
   "execution_count": 25,
   "id": "679e1268",
   "metadata": {
    "execution": {
     "iopub.execute_input": "2025-07-23T14:35:06.258041Z",
     "iopub.status.busy": "2025-07-23T14:35:06.256952Z",
     "iopub.status.idle": "2025-07-23T14:35:06.372394Z",
     "shell.execute_reply": "2025-07-23T14:35:06.371322Z"
    },
    "papermill": {
     "duration": 0.139385,
     "end_time": "2025-07-23T14:35:06.374506",
     "exception": false,
     "start_time": "2025-07-23T14:35:06.235121",
     "status": "completed"
    },
    "tags": []
   },
   "outputs": [],
   "source": [
    "from sklearn.linear_model import LogisticRegression\n",
    "from sklearn.ensemble import GradientBoostingClassifier, RandomForestClassifier\n",
    "\n",
    "if (universe[\"model\"] == \"logreg\"):\n",
    "    model = LogisticRegression() #penalty=\"none\") #, solver=\"newton-cg\", max_iter=1) # include random_state=19 ?\n",
    "elif (universe[\"model\"] == \"penalized_logreg\"):\n",
    "    model = LogisticRegression(penalty=\"l2\", C=1.0) #, solver=\"newton-cg\", max_iter=1)\n",
    "elif (universe[\"model\"] == \"rf\"):\n",
    "    model = RandomForestClassifier(n_estimators=100, n_jobs=-1)\n",
    "elif (universe[\"model\"] == \"gbm\"):\n",
    "    model = GradientBoostingClassifier()\n",
    "elif (universe[\"model\"] == \"elasticnet\"):\n",
    "    model = LogisticRegression(penalty = 'elasticnet', solver = 'saga', l1_ratio = 0.5, max_iter=5000) # which solver to use?\n",
    "else:\n",
    "    raise \"Unsupported universe.model\""
   ]
  },
  {
   "cell_type": "code",
   "execution_count": 26,
   "id": "0cc8f744",
   "metadata": {
    "execution": {
     "iopub.execute_input": "2025-07-23T14:35:06.417235Z",
     "iopub.status.busy": "2025-07-23T14:35:06.416202Z",
     "iopub.status.idle": "2025-07-23T14:35:06.423829Z",
     "shell.execute_reply": "2025-07-23T14:35:06.422800Z"
    },
    "papermill": {
     "duration": 0.031816,
     "end_time": "2025-07-23T14:35:06.425727",
     "exception": false,
     "start_time": "2025-07-23T14:35:06.393911",
     "status": "completed"
    },
    "tags": []
   },
   "outputs": [],
   "source": [
    "import numpy as np\n",
    "from sklearn.pipeline import Pipeline\n",
    "from sklearn.preprocessing import StandardScaler\n",
    "\n",
    "model = Pipeline([\n",
    "    #(\"continuous_processor\", continuous_processor),\n",
    "    #(\"categorical_preprocessor\", categorical_preprocessor),\n",
    "    (\"scale\", StandardScaler() if universe[\"scale\"] == \"scale\" else None), \n",
    "    (\"model\", model),\n",
    "])"
   ]
  },
  {
   "cell_type": "code",
   "execution_count": 27,
   "id": "9442c04d",
   "metadata": {
    "execution": {
     "iopub.execute_input": "2025-07-23T14:35:06.468432Z",
     "iopub.status.busy": "2025-07-23T14:35:06.467638Z",
     "iopub.status.idle": "2025-07-23T14:35:09.586750Z",
     "shell.execute_reply": "2025-07-23T14:35:09.585848Z"
    },
    "papermill": {
     "duration": 3.142155,
     "end_time": "2025-07-23T14:35:09.588172",
     "exception": false,
     "start_time": "2025-07-23T14:35:06.446017",
     "status": "completed"
    },
    "tags": []
   },
   "outputs": [
    {
     "name": "stderr",
     "output_type": "stream",
     "text": [
      "/dss/dsshome1/0C/ra93lal2/.local/share/virtualenvs/CMA_Fairness_v2-3j10GkSs/lib/python3.10/site-packages/sklearn/linear_model/_logistic.py:444: ConvergenceWarning: lbfgs failed to converge (status=1):\n",
      "STOP: TOTAL NO. of ITERATIONS REACHED LIMIT.\n",
      "\n",
      "Increase the number of iterations (max_iter) or scale the data as shown in:\n",
      "    https://scikit-learn.org/stable/modules/preprocessing.html\n",
      "Please also refer to the documentation for alternative solver options:\n",
      "    https://scikit-learn.org/stable/modules/linear_model.html#logistic-regression\n",
      "  n_iter_i = _check_optimize_result(\n"
     ]
    },
    {
     "data": {
      "text/html": [
       "<style>#sk-container-id-1 {color: black;background-color: white;}#sk-container-id-1 pre{padding: 0;}#sk-container-id-1 div.sk-toggleable {background-color: white;}#sk-container-id-1 label.sk-toggleable__label {cursor: pointer;display: block;width: 100%;margin-bottom: 0;padding: 0.3em;box-sizing: border-box;text-align: center;}#sk-container-id-1 label.sk-toggleable__label-arrow:before {content: \"▸\";float: left;margin-right: 0.25em;color: #696969;}#sk-container-id-1 label.sk-toggleable__label-arrow:hover:before {color: black;}#sk-container-id-1 div.sk-estimator:hover label.sk-toggleable__label-arrow:before {color: black;}#sk-container-id-1 div.sk-toggleable__content {max-height: 0;max-width: 0;overflow: hidden;text-align: left;background-color: #f0f8ff;}#sk-container-id-1 div.sk-toggleable__content pre {margin: 0.2em;color: black;border-radius: 0.25em;background-color: #f0f8ff;}#sk-container-id-1 input.sk-toggleable__control:checked~div.sk-toggleable__content {max-height: 200px;max-width: 100%;overflow: auto;}#sk-container-id-1 input.sk-toggleable__control:checked~label.sk-toggleable__label-arrow:before {content: \"▾\";}#sk-container-id-1 div.sk-estimator input.sk-toggleable__control:checked~label.sk-toggleable__label {background-color: #d4ebff;}#sk-container-id-1 div.sk-label input.sk-toggleable__control:checked~label.sk-toggleable__label {background-color: #d4ebff;}#sk-container-id-1 input.sk-hidden--visually {border: 0;clip: rect(1px 1px 1px 1px);clip: rect(1px, 1px, 1px, 1px);height: 1px;margin: -1px;overflow: hidden;padding: 0;position: absolute;width: 1px;}#sk-container-id-1 div.sk-estimator {font-family: monospace;background-color: #f0f8ff;border: 1px dotted black;border-radius: 0.25em;box-sizing: border-box;margin-bottom: 0.5em;}#sk-container-id-1 div.sk-estimator:hover {background-color: #d4ebff;}#sk-container-id-1 div.sk-parallel-item::after {content: \"\";width: 100%;border-bottom: 1px solid gray;flex-grow: 1;}#sk-container-id-1 div.sk-label:hover label.sk-toggleable__label {background-color: #d4ebff;}#sk-container-id-1 div.sk-serial::before {content: \"\";position: absolute;border-left: 1px solid gray;box-sizing: border-box;top: 0;bottom: 0;left: 50%;z-index: 0;}#sk-container-id-1 div.sk-serial {display: flex;flex-direction: column;align-items: center;background-color: white;padding-right: 0.2em;padding-left: 0.2em;position: relative;}#sk-container-id-1 div.sk-item {position: relative;z-index: 1;}#sk-container-id-1 div.sk-parallel {display: flex;align-items: stretch;justify-content: center;background-color: white;position: relative;}#sk-container-id-1 div.sk-item::before, #sk-container-id-1 div.sk-parallel-item::before {content: \"\";position: absolute;border-left: 1px solid gray;box-sizing: border-box;top: 0;bottom: 0;left: 50%;z-index: -1;}#sk-container-id-1 div.sk-parallel-item {display: flex;flex-direction: column;z-index: 1;position: relative;background-color: white;}#sk-container-id-1 div.sk-parallel-item:first-child::after {align-self: flex-end;width: 50%;}#sk-container-id-1 div.sk-parallel-item:last-child::after {align-self: flex-start;width: 50%;}#sk-container-id-1 div.sk-parallel-item:only-child::after {width: 0;}#sk-container-id-1 div.sk-dashed-wrapped {border: 1px dashed gray;margin: 0 0.4em 0.5em 0.4em;box-sizing: border-box;padding-bottom: 0.4em;background-color: white;}#sk-container-id-1 div.sk-label label {font-family: monospace;font-weight: bold;display: inline-block;line-height: 1.2em;}#sk-container-id-1 div.sk-label-container {text-align: center;}#sk-container-id-1 div.sk-container {/* jupyter's `normalize.less` sets `[hidden] { display: none; }` but bootstrap.min.css set `[hidden] { display: none !important; }` so we also need the `!important` here to be able to override the default hidden behavior on the sphinx rendered scikit-learn.org. See: https://github.com/scikit-learn/scikit-learn/issues/21755 */display: inline-block !important;position: relative;}#sk-container-id-1 div.sk-text-repr-fallback {display: none;}</style><div id=\"sk-container-id-1\" class=\"sk-top-container\"><div class=\"sk-text-repr-fallback\"><pre>Pipeline(steps=[(&#x27;scale&#x27;, None), (&#x27;model&#x27;, LogisticRegression())])</pre><b>In a Jupyter environment, please rerun this cell to show the HTML representation or trust the notebook. <br />On GitHub, the HTML representation is unable to render, please try loading this page with nbviewer.org.</b></div><div class=\"sk-container\" hidden><div class=\"sk-item sk-dashed-wrapped\"><div class=\"sk-label-container\"><div class=\"sk-label sk-toggleable\"><input class=\"sk-toggleable__control sk-hidden--visually\" id=\"sk-estimator-id-1\" type=\"checkbox\" ><label for=\"sk-estimator-id-1\" class=\"sk-toggleable__label sk-toggleable__label-arrow\">Pipeline</label><div class=\"sk-toggleable__content\"><pre>Pipeline(steps=[(&#x27;scale&#x27;, None), (&#x27;model&#x27;, LogisticRegression())])</pre></div></div></div><div class=\"sk-serial\"><div class=\"sk-item\"><div class=\"sk-estimator sk-toggleable\"><input class=\"sk-toggleable__control sk-hidden--visually\" id=\"sk-estimator-id-2\" type=\"checkbox\" ><label for=\"sk-estimator-id-2\" class=\"sk-toggleable__label sk-toggleable__label-arrow\">None</label><div class=\"sk-toggleable__content\"><pre>None</pre></div></div></div><div class=\"sk-item\"><div class=\"sk-estimator sk-toggleable\"><input class=\"sk-toggleable__control sk-hidden--visually\" id=\"sk-estimator-id-3\" type=\"checkbox\" ><label for=\"sk-estimator-id-3\" class=\"sk-toggleable__label sk-toggleable__label-arrow\">LogisticRegression</label><div class=\"sk-toggleable__content\"><pre>LogisticRegression()</pre></div></div></div></div></div></div></div>"
      ],
      "text/plain": [
       "Pipeline(steps=[('scale', None), ('model', LogisticRegression())])"
      ]
     },
     "execution_count": 27,
     "metadata": {},
     "output_type": "execute_result"
    }
   ],
   "source": [
    "model.fit(X_train, y_train.values.ravel())"
   ]
  },
  {
   "cell_type": "code",
   "execution_count": 28,
   "id": "af59f8c0",
   "metadata": {
    "execution": {
     "iopub.execute_input": "2025-07-23T14:35:09.612257Z",
     "iopub.status.busy": "2025-07-23T14:35:09.611414Z",
     "iopub.status.idle": "2025-07-23T14:35:09.617048Z",
     "shell.execute_reply": "2025-07-23T14:35:09.616309Z"
    },
    "papermill": {
     "duration": 0.019062,
     "end_time": "2025-07-23T14:35:09.618562",
     "exception": false,
     "start_time": "2025-07-23T14:35:09.599500",
     "status": "completed"
    },
    "tags": []
   },
   "outputs": [],
   "source": [
    "from fairness_multiverse.universe import predict_w_threshold"
   ]
  },
  {
   "cell_type": "code",
   "execution_count": 29,
   "id": "a7cf2e16",
   "metadata": {
    "execution": {
     "iopub.execute_input": "2025-07-23T14:35:09.643232Z",
     "iopub.status.busy": "2025-07-23T14:35:09.642173Z",
     "iopub.status.idle": "2025-07-23T14:35:09.752260Z",
     "shell.execute_reply": "2025-07-23T14:35:09.751134Z"
    },
    "papermill": {
     "duration": 0.124275,
     "end_time": "2025-07-23T14:35:09.754368",
     "exception": false,
     "start_time": "2025-07-23T14:35:09.630093",
     "status": "completed"
    },
    "tags": []
   },
   "outputs": [
    {
     "data": {
      "text/plain": [
       "0.8593133429940921"
      ]
     },
     "execution_count": 29,
     "metadata": {},
     "output_type": "execute_result"
    }
   ],
   "source": [
    "probs_test = model.predict_proba(X_test)\n",
    "\n",
    "'''\n",
    "Below code returns a boolean array (or binary 0/1 array depending on how it’s used) where each element \n",
    "is True if the probability of class 1 is greater than or equal to the threshold, and False otherwise.\n",
    "'''\n",
    "y_pred_default = predict_w_threshold(probs_test, 0.5)\n",
    "\n",
    "from sklearn.metrics import accuracy_score\n",
    "\n",
    "# Naive prediction\n",
    "accuracy_score(y_true = y_true, y_pred = y_pred_default)"
   ]
  },
  {
   "cell_type": "code",
   "execution_count": 30,
   "id": "081964c3",
   "metadata": {
    "execution": {
     "iopub.execute_input": "2025-07-23T14:35:09.799952Z",
     "iopub.status.busy": "2025-07-23T14:35:09.799399Z",
     "iopub.status.idle": "2025-07-23T14:35:09.888001Z",
     "shell.execute_reply": "2025-07-23T14:35:09.887229Z"
    },
    "papermill": {
     "duration": 0.113764,
     "end_time": "2025-07-23T14:35:09.889316",
     "exception": false,
     "start_time": "2025-07-23T14:35:09.775552",
     "status": "completed"
    },
    "tags": []
   },
   "outputs": [
    {
     "data": {
      "text/plain": [
       "array([0, 0, 0, ..., 0, 0, 0])"
      ]
     },
     "execution_count": 30,
     "metadata": {},
     "output_type": "execute_result"
    }
   ],
   "source": [
    "model.predict(X_test)"
   ]
  },
  {
   "cell_type": "markdown",
   "id": "56c9705b",
   "metadata": {
    "papermill": {
     "duration": 0.010835,
     "end_time": "2025-07-23T14:35:09.911437",
     "exception": false,
     "start_time": "2025-07-23T14:35:09.900602",
     "status": "completed"
    },
    "tags": []
   },
   "source": [
    "# Conformal Prediction"
   ]
  },
  {
   "cell_type": "code",
   "execution_count": 31,
   "id": "160ec6ff",
   "metadata": {
    "execution": {
     "iopub.execute_input": "2025-07-23T14:35:09.938737Z",
     "iopub.status.busy": "2025-07-23T14:35:09.938256Z",
     "iopub.status.idle": "2025-07-23T14:35:09.944112Z",
     "shell.execute_reply": "2025-07-23T14:35:09.943144Z"
    },
    "papermill": {
     "duration": 0.020073,
     "end_time": "2025-07-23T14:35:09.946034",
     "exception": false,
     "start_time": "2025-07-23T14:35:09.925961",
     "status": "completed"
    },
    "tags": []
   },
   "outputs": [],
   "source": [
    "# Miscoverage level for conformal prediction (10% allowed error rate => 90% target coverage)\n",
    "alpha = 0.1"
   ]
  },
  {
   "cell_type": "code",
   "execution_count": 32,
   "id": "eadf4555-3dd3-440e-8e35-f82a4ad9f855",
   "metadata": {
    "execution": {
     "iopub.execute_input": "2025-07-23T14:35:09.993206Z",
     "iopub.status.busy": "2025-07-23T14:35:09.992807Z",
     "iopub.status.idle": "2025-07-23T14:35:10.067261Z",
     "shell.execute_reply": "2025-07-23T14:35:10.066442Z"
    },
    "papermill": {
     "duration": 0.099673,
     "end_time": "2025-07-23T14:35:10.068858",
     "exception": false,
     "start_time": "2025-07-23T14:35:09.969185",
     "status": "completed"
    },
    "tags": []
   },
   "outputs": [],
   "source": [
    "probs_calib = model.predict_proba(X_calib)"
   ]
  },
  {
   "cell_type": "code",
   "execution_count": 33,
   "id": "2ed93547-6d5d-4983-9b36-1ecb300da49a",
   "metadata": {
    "execution": {
     "iopub.execute_input": "2025-07-23T14:35:10.093356Z",
     "iopub.status.busy": "2025-07-23T14:35:10.092549Z",
     "iopub.status.idle": "2025-07-23T14:35:10.098457Z",
     "shell.execute_reply": "2025-07-23T14:35:10.097571Z"
    },
    "papermill": {
     "duration": 0.019692,
     "end_time": "2025-07-23T14:35:10.099911",
     "exception": false,
     "start_time": "2025-07-23T14:35:10.080219",
     "status": "completed"
    },
    "tags": []
   },
   "outputs": [],
   "source": [
    "y_calib = y_calib.values.ravel().astype(int)"
   ]
  },
  {
   "cell_type": "code",
   "execution_count": 34,
   "id": "65d1320d-f588-4b38-9072-62af1ae97f7d",
   "metadata": {
    "execution": {
     "iopub.execute_input": "2025-07-23T14:35:10.125325Z",
     "iopub.status.busy": "2025-07-23T14:35:10.124529Z",
     "iopub.status.idle": "2025-07-23T14:35:10.133498Z",
     "shell.execute_reply": "2025-07-23T14:35:10.132293Z"
    },
    "papermill": {
     "duration": 0.023526,
     "end_time": "2025-07-23T14:35:10.135414",
     "exception": false,
     "start_time": "2025-07-23T14:35:10.111888",
     "status": "completed"
    },
    "tags": []
   },
   "outputs": [],
   "source": [
    "from fairness_multiverse.conformal import compute_nc_scores\n",
    "\n",
    "# Compute nonconformity scores on calibration set (1 - probability of true class)\n",
    "nc_scores = compute_nc_scores(probs_calib, y_calib)"
   ]
  },
  {
   "cell_type": "code",
   "execution_count": 35,
   "id": "df3b8ca3-53b7-43d5-9667-7c85da7aeda2",
   "metadata": {
    "execution": {
     "iopub.execute_input": "2025-07-23T14:35:10.176737Z",
     "iopub.status.busy": "2025-07-23T14:35:10.176180Z",
     "iopub.status.idle": "2025-07-23T14:35:10.183533Z",
     "shell.execute_reply": "2025-07-23T14:35:10.182481Z"
    },
    "papermill": {
     "duration": 0.034055,
     "end_time": "2025-07-23T14:35:10.185615",
     "exception": false,
     "start_time": "2025-07-23T14:35:10.151560",
     "status": "completed"
    },
    "tags": []
   },
   "outputs": [],
   "source": [
    "from fairness_multiverse.conformal import find_threshold\n",
    "\n",
    "# Find conformal threshold q_hat for the given alpha (split conformal method)\n",
    "q_hat = find_threshold(nc_scores, alpha)"
   ]
  },
  {
   "cell_type": "code",
   "execution_count": 36,
   "id": "4d29e6c1-0ef6-4aa4-b8fe-4fe79b0d033a",
   "metadata": {
    "execution": {
     "iopub.execute_input": "2025-07-23T14:35:10.235441Z",
     "iopub.status.busy": "2025-07-23T14:35:10.234624Z",
     "iopub.status.idle": "2025-07-23T14:35:10.242847Z",
     "shell.execute_reply": "2025-07-23T14:35:10.241795Z"
    },
    "papermill": {
     "duration": 0.035243,
     "end_time": "2025-07-23T14:35:10.244936",
     "exception": false,
     "start_time": "2025-07-23T14:35:10.209693",
     "status": "completed"
    },
    "tags": []
   },
   "outputs": [
    {
     "data": {
      "text/plain": [
       "0.6585544022888121"
      ]
     },
     "execution_count": 36,
     "metadata": {},
     "output_type": "execute_result"
    }
   ],
   "source": [
    "q_hat"
   ]
  },
  {
   "cell_type": "code",
   "execution_count": 37,
   "id": "92460794-cdac-4be2-ba28-f28c0515a6fb",
   "metadata": {
    "execution": {
     "iopub.execute_input": "2025-07-23T14:35:10.294361Z",
     "iopub.status.busy": "2025-07-23T14:35:10.293796Z",
     "iopub.status.idle": "2025-07-23T14:35:11.111068Z",
     "shell.execute_reply": "2025-07-23T14:35:11.110038Z"
    },
    "papermill": {
     "duration": 0.844428,
     "end_time": "2025-07-23T14:35:11.113300",
     "exception": false,
     "start_time": "2025-07-23T14:35:10.268872",
     "status": "completed"
    },
    "tags": []
   },
   "outputs": [],
   "source": [
    "from fairness_multiverse.conformal import predict_conformal_sets\n",
    "\n",
    "# Generate prediction sets for each test example\n",
    "pred_sets = predict_conformal_sets(model, X_test, q_hat)"
   ]
  },
  {
   "cell_type": "code",
   "execution_count": 38,
   "id": "d90c9a65-e6db-4f5d-80cd-e68fb7e46829",
   "metadata": {
    "execution": {
     "iopub.execute_input": "2025-07-23T14:35:11.157529Z",
     "iopub.status.busy": "2025-07-23T14:35:11.156577Z",
     "iopub.status.idle": "2025-07-23T14:35:11.162819Z",
     "shell.execute_reply": "2025-07-23T14:35:11.161752Z"
    },
    "papermill": {
     "duration": 0.02746,
     "end_time": "2025-07-23T14:35:11.164633",
     "exception": false,
     "start_time": "2025-07-23T14:35:11.137173",
     "status": "completed"
    },
    "tags": []
   },
   "outputs": [],
   "source": [
    "y_true = y_true.squeeze()"
   ]
  },
  {
   "cell_type": "code",
   "execution_count": 39,
   "id": "3a58a54a-1e68-46b9-927a-df01f18aebc8",
   "metadata": {
    "execution": {
     "iopub.execute_input": "2025-07-23T14:35:11.191621Z",
     "iopub.status.busy": "2025-07-23T14:35:11.191267Z",
     "iopub.status.idle": "2025-07-23T14:35:12.391206Z",
     "shell.execute_reply": "2025-07-23T14:35:12.389953Z"
    },
    "papermill": {
     "duration": 1.213945,
     "end_time": "2025-07-23T14:35:12.393487",
     "exception": false,
     "start_time": "2025-07-23T14:35:11.179542",
     "status": "completed"
    },
    "tags": []
   },
   "outputs": [],
   "source": [
    "from fairness_multiverse.conformal import evaluate_sets\n",
    "\n",
    "# Evaluate coverage and average set size on test data\n",
    "metrics = evaluate_sets(pred_sets, y_true)"
   ]
  },
  {
   "cell_type": "code",
   "execution_count": 40,
   "id": "5ce0a5cb-201f-45a0-ade5-94c7f0bd6095",
   "metadata": {
    "execution": {
     "iopub.execute_input": "2025-07-23T14:35:12.442699Z",
     "iopub.status.busy": "2025-07-23T14:35:12.442201Z",
     "iopub.status.idle": "2025-07-23T14:35:12.449747Z",
     "shell.execute_reply": "2025-07-23T14:35:12.448671Z"
    },
    "papermill": {
     "duration": 0.033497,
     "end_time": "2025-07-23T14:35:12.451718",
     "exception": false,
     "start_time": "2025-07-23T14:35:12.418221",
     "status": "completed"
    },
    "tags": []
   },
   "outputs": [
    {
     "data": {
      "text/plain": [
       "{'coverage': 0.9132203767695909, 'avg_size': 1.2540407981272992}"
      ]
     },
     "execution_count": 40,
     "metadata": {},
     "output_type": "execute_result"
    }
   ],
   "source": [
    "metrics"
   ]
  },
  {
   "cell_type": "code",
   "execution_count": 41,
   "id": "9b9a838d-31c9-430b-ae14-12baee460d17",
   "metadata": {
    "execution": {
     "iopub.execute_input": "2025-07-23T14:35:12.500026Z",
     "iopub.status.busy": "2025-07-23T14:35:12.499614Z",
     "iopub.status.idle": "2025-07-23T14:35:12.505759Z",
     "shell.execute_reply": "2025-07-23T14:35:12.504821Z"
    },
    "papermill": {
     "duration": 0.032195,
     "end_time": "2025-07-23T14:35:12.507526",
     "exception": false,
     "start_time": "2025-07-23T14:35:12.475331",
     "status": "completed"
    },
    "tags": []
   },
   "outputs": [],
   "source": [
    "example_universe = universe.copy()\n",
    "universe_model = example_universe.get(\"model\")\n",
    "universe_exclude_features = example_universe.get(\"exclude_features\")\n",
    "universe_exclude_subgroups = example_universe.get(\"exclude_subgroups\")\n",
    "universe_scale = example_universe.get(\"scale\")"
   ]
  },
  {
   "cell_type": "code",
   "execution_count": 42,
   "id": "f4b6a8ac-9dc0-4245-8a91-5b3b5999c4f9",
   "metadata": {
    "execution": {
     "iopub.execute_input": "2025-07-23T14:35:12.556387Z",
     "iopub.status.busy": "2025-07-23T14:35:12.555431Z",
     "iopub.status.idle": "2025-07-23T14:35:12.562958Z",
     "shell.execute_reply": "2025-07-23T14:35:12.561934Z"
    },
    "papermill": {
     "duration": 0.033548,
     "end_time": "2025-07-23T14:35:12.564729",
     "exception": false,
     "start_time": "2025-07-23T14:35:12.531181",
     "status": "completed"
    },
    "tags": []
   },
   "outputs": [],
   "source": [
    "cp_metrics_dict = {\n",
    "    \"universe_id\": [universe_id],\n",
    "    \"universe_model\": [universe_model],\n",
    "    \"universe_exclude_features\": [universe_exclude_features],\n",
    "    \"universe_exclude_subgroups\": [universe_exclude_subgroups],\n",
    "    \"universe_scale\": [universe_scale],\n",
    "    \"q_hat\": [q_hat],\n",
    "    \"coverage\": [metrics[\"coverage\"]],\n",
    "    \"avg_size\": [metrics[\"avg_size\"]],\n",
    "}"
   ]
  },
  {
   "cell_type": "code",
   "execution_count": 43,
   "id": "908acbb1-0371-4915-85ca-3fa520d2efe2",
   "metadata": {
    "execution": {
     "iopub.execute_input": "2025-07-23T14:35:12.607623Z",
     "iopub.status.busy": "2025-07-23T14:35:12.607163Z",
     "iopub.status.idle": "2025-07-23T14:35:12.614941Z",
     "shell.execute_reply": "2025-07-23T14:35:12.613893Z"
    },
    "papermill": {
     "duration": 0.030773,
     "end_time": "2025-07-23T14:35:12.616922",
     "exception": false,
     "start_time": "2025-07-23T14:35:12.586149",
     "status": "completed"
    },
    "tags": []
   },
   "outputs": [
    {
     "data": {
      "text/plain": [
       "{'universe_id': ['e98301c78422b64589b3b9c0f0e32536'],\n",
       " 'universe_model': ['logreg'],\n",
       " 'universe_exclude_features': ['age'],\n",
       " 'universe_exclude_subgroups': ['drop-non-german'],\n",
       " 'universe_scale': ['do-not-scale'],\n",
       " 'q_hat': [0.6585544022888121],\n",
       " 'coverage': [0.9132203767695909],\n",
       " 'avg_size': [1.2540407981272992]}"
      ]
     },
     "execution_count": 43,
     "metadata": {},
     "output_type": "execute_result"
    }
   ],
   "source": [
    "cp_metrics_dict"
   ]
  },
  {
   "cell_type": "code",
   "execution_count": 44,
   "id": "33007efc-14e9-4ec6-97ac-56a455c82265",
   "metadata": {
    "execution": {
     "iopub.execute_input": "2025-07-23T14:35:12.661917Z",
     "iopub.status.busy": "2025-07-23T14:35:12.660985Z",
     "iopub.status.idle": "2025-07-23T14:35:12.667750Z",
     "shell.execute_reply": "2025-07-23T14:35:12.666778Z"
    },
    "papermill": {
     "duration": 0.031124,
     "end_time": "2025-07-23T14:35:12.669681",
     "exception": false,
     "start_time": "2025-07-23T14:35:12.638557",
     "status": "completed"
    },
    "tags": []
   },
   "outputs": [],
   "source": [
    "cp_metrics_df = pd.DataFrame(cp_metrics_dict)"
   ]
  },
  {
   "cell_type": "code",
   "execution_count": 45,
   "id": "db12611b-57b2-4910-b9d0-355adfd6e7bf",
   "metadata": {
    "execution": {
     "iopub.execute_input": "2025-07-23T14:35:12.717423Z",
     "iopub.status.busy": "2025-07-23T14:35:12.716914Z",
     "iopub.status.idle": "2025-07-23T14:35:12.736537Z",
     "shell.execute_reply": "2025-07-23T14:35:12.735338Z"
    },
    "papermill": {
     "duration": 0.045326,
     "end_time": "2025-07-23T14:35:12.738520",
     "exception": false,
     "start_time": "2025-07-23T14:35:12.693194",
     "status": "completed"
    },
    "tags": []
   },
   "outputs": [
    {
     "data": {
      "text/html": [
       "<div>\n",
       "<style scoped>\n",
       "    .dataframe tbody tr th:only-of-type {\n",
       "        vertical-align: middle;\n",
       "    }\n",
       "\n",
       "    .dataframe tbody tr th {\n",
       "        vertical-align: top;\n",
       "    }\n",
       "\n",
       "    .dataframe thead th {\n",
       "        text-align: right;\n",
       "    }\n",
       "</style>\n",
       "<table border=\"1\" class=\"dataframe\">\n",
       "  <thead>\n",
       "    <tr style=\"text-align: right;\">\n",
       "      <th></th>\n",
       "      <th>universe_id</th>\n",
       "      <th>universe_model</th>\n",
       "      <th>universe_exclude_features</th>\n",
       "      <th>universe_exclude_subgroups</th>\n",
       "      <th>universe_scale</th>\n",
       "      <th>q_hat</th>\n",
       "      <th>coverage</th>\n",
       "      <th>avg_size</th>\n",
       "    </tr>\n",
       "  </thead>\n",
       "  <tbody>\n",
       "    <tr>\n",
       "      <th>0</th>\n",
       "      <td>e98301c78422b64589b3b9c0f0e32536</td>\n",
       "      <td>logreg</td>\n",
       "      <td>age</td>\n",
       "      <td>drop-non-german</td>\n",
       "      <td>do-not-scale</td>\n",
       "      <td>0.658554</td>\n",
       "      <td>0.91322</td>\n",
       "      <td>1.254041</td>\n",
       "    </tr>\n",
       "  </tbody>\n",
       "</table>\n",
       "</div>"
      ],
      "text/plain": [
       "                        universe_id universe_model universe_exclude_features  \\\n",
       "0  e98301c78422b64589b3b9c0f0e32536         logreg                       age   \n",
       "\n",
       "  universe_exclude_subgroups universe_scale     q_hat  coverage  avg_size  \n",
       "0            drop-non-german   do-not-scale  0.658554   0.91322  1.254041  "
      ]
     },
     "execution_count": 45,
     "metadata": {},
     "output_type": "execute_result"
    }
   ],
   "source": [
    "cp_metrics_df"
   ]
  },
  {
   "cell_type": "code",
   "execution_count": 46,
   "id": "b7fbde55-a0a1-47e4-9af6-fe4a17fa8c61",
   "metadata": {
    "execution": {
     "iopub.execute_input": "2025-07-23T14:35:12.787100Z",
     "iopub.status.busy": "2025-07-23T14:35:12.786054Z",
     "iopub.status.idle": "2025-07-23T14:35:12.792204Z",
     "shell.execute_reply": "2025-07-23T14:35:12.791088Z"
    },
    "papermill": {
     "duration": 0.031834,
     "end_time": "2025-07-23T14:35:12.794359",
     "exception": false,
     "start_time": "2025-07-23T14:35:12.762525",
     "status": "completed"
    },
    "tags": []
   },
   "outputs": [],
   "source": [
    "# Conditional Coverage & looking at subgroups"
   ]
  },
  {
   "cell_type": "code",
   "execution_count": 47,
   "id": "027ae886-68dd-4141-96c7-805a5450e1ef",
   "metadata": {
    "execution": {
     "iopub.execute_input": "2025-07-23T14:35:12.841065Z",
     "iopub.status.busy": "2025-07-23T14:35:12.840495Z",
     "iopub.status.idle": "2025-07-23T14:35:13.098887Z",
     "shell.execute_reply": "2025-07-23T14:35:13.097655Z"
    },
    "papermill": {
     "duration": 0.282206,
     "end_time": "2025-07-23T14:35:13.100920",
     "exception": false,
     "start_time": "2025-07-23T14:35:12.818714",
     "status": "completed"
    },
    "tags": []
   },
   "outputs": [],
   "source": [
    "from fairness_multiverse.conformal import build_cp_groups\n",
    "\n",
    "cp_groups_df = build_cp_groups(pred_sets, y_true, X_test.index, org_test)\n",
    "#needs universe_id and setting"
   ]
  },
  {
   "cell_type": "code",
   "execution_count": 48,
   "id": "c3b92545-903e-4839-89af-0f057907d7d6",
   "metadata": {
    "execution": {
     "iopub.execute_input": "2025-07-23T14:35:13.147551Z",
     "iopub.status.busy": "2025-07-23T14:35:13.146774Z",
     "iopub.status.idle": "2025-07-23T14:35:15.097813Z",
     "shell.execute_reply": "2025-07-23T14:35:15.096688Z"
    },
    "papermill": {
     "duration": 1.97798,
     "end_time": "2025-07-23T14:35:15.100100",
     "exception": false,
     "start_time": "2025-07-23T14:35:13.122120",
     "status": "completed"
    },
    "tags": []
   },
   "outputs": [],
   "source": [
    "# Define covered = 1 if true_label is in the predicted set\n",
    "cp_groups_df['covered'] = cp_groups_df.apply(\n",
    "    lambda r: int(r['true_label'] in r['pred_set']),\n",
    "    axis=1\n",
    ")"
   ]
  },
  {
   "cell_type": "code",
   "execution_count": 49,
   "id": "338ff529-1a6b-4b87-a931-8e4788d52aad",
   "metadata": {
    "execution": {
     "iopub.execute_input": "2025-07-23T14:35:15.154168Z",
     "iopub.status.busy": "2025-07-23T14:35:15.153080Z",
     "iopub.status.idle": "2025-07-23T14:35:15.159094Z",
     "shell.execute_reply": "2025-07-23T14:35:15.157968Z"
    },
    "papermill": {
     "duration": 0.034936,
     "end_time": "2025-07-23T14:35:15.161185",
     "exception": false,
     "start_time": "2025-07-23T14:35:15.126249",
     "status": "completed"
    },
    "tags": []
   },
   "outputs": [],
   "source": [
    "#cp_groups_df"
   ]
  },
  {
   "cell_type": "code",
   "execution_count": 50,
   "id": "90032e27-66df-4540-9169-4e89cfbaa758",
   "metadata": {
    "execution": {
     "iopub.execute_input": "2025-07-23T14:35:15.216831Z",
     "iopub.status.busy": "2025-07-23T14:35:15.215871Z",
     "iopub.status.idle": "2025-07-23T14:35:15.233949Z",
     "shell.execute_reply": "2025-07-23T14:35:15.232647Z"
    },
    "papermill": {
     "duration": 0.048675,
     "end_time": "2025-07-23T14:35:15.236240",
     "exception": false,
     "start_time": "2025-07-23T14:35:15.187565",
     "status": "completed"
    },
    "tags": []
   },
   "outputs": [],
   "source": [
    "subgroups = ['frau1','nongerman','nongerman_male','nongerman_female']\n",
    "\n",
    "# Conditional coverage for subgroup==1\n",
    "cond_coverage = {\n",
    "    g: cp_groups_df.loc[cp_groups_df[g]==1, 'covered'].mean()\n",
    "    for g in subgroups\n",
    "}"
   ]
  },
  {
   "cell_type": "code",
   "execution_count": 51,
   "id": "1e348fb1-b9c3-45bc-ba23-f016827a7e0d",
   "metadata": {
    "execution": {
     "iopub.execute_input": "2025-07-23T14:35:15.291048Z",
     "iopub.status.busy": "2025-07-23T14:35:15.290292Z",
     "iopub.status.idle": "2025-07-23T14:35:15.301052Z",
     "shell.execute_reply": "2025-07-23T14:35:15.299545Z"
    },
    "papermill": {
     "duration": 0.040631,
     "end_time": "2025-07-23T14:35:15.303184",
     "exception": false,
     "start_time": "2025-07-23T14:35:15.262553",
     "status": "completed"
    },
    "tags": []
   },
   "outputs": [
    {
     "data": {
      "text/plain": [
       "{'frau1': 0.9138428359617199,\n",
       " 'nongerman': 0.9640150451917139,\n",
       " 'nongerman_male': 0.9688372511933712,\n",
       " 'nongerman_female': 0.9560357675111774}"
      ]
     },
     "execution_count": 51,
     "metadata": {},
     "output_type": "execute_result"
    }
   ],
   "source": [
    "cond_coverage"
   ]
  },
  {
   "cell_type": "code",
   "execution_count": 52,
   "id": "f5093324-c3dd-4d63-bc4c-8d945e5c8bbb",
   "metadata": {
    "execution": {
     "iopub.execute_input": "2025-07-23T14:35:15.357783Z",
     "iopub.status.busy": "2025-07-23T14:35:15.357077Z",
     "iopub.status.idle": "2025-07-23T14:35:15.365870Z",
     "shell.execute_reply": "2025-07-23T14:35:15.364568Z"
    },
    "papermill": {
     "duration": 0.038279,
     "end_time": "2025-07-23T14:35:15.368000",
     "exception": false,
     "start_time": "2025-07-23T14:35:15.329721",
     "status": "completed"
    },
    "tags": []
   },
   "outputs": [],
   "source": [
    "for subgroup, cov in cond_coverage.items():\n",
    "    cp_metrics_df[f\"cov_{subgroup}\"] = cov"
   ]
  },
  {
   "cell_type": "code",
   "execution_count": 53,
   "id": "6e872e10-dbe5-49e8-b554-5030c98ff75d",
   "metadata": {
    "execution": {
     "iopub.execute_input": "2025-07-23T14:35:15.394230Z",
     "iopub.status.busy": "2025-07-23T14:35:15.393741Z",
     "iopub.status.idle": "2025-07-23T14:35:15.407928Z",
     "shell.execute_reply": "2025-07-23T14:35:15.407163Z"
    },
    "papermill": {
     "duration": 0.028754,
     "end_time": "2025-07-23T14:35:15.409757",
     "exception": false,
     "start_time": "2025-07-23T14:35:15.381003",
     "status": "completed"
    },
    "tags": []
   },
   "outputs": [
    {
     "data": {
      "text/html": [
       "<div>\n",
       "<style scoped>\n",
       "    .dataframe tbody tr th:only-of-type {\n",
       "        vertical-align: middle;\n",
       "    }\n",
       "\n",
       "    .dataframe tbody tr th {\n",
       "        vertical-align: top;\n",
       "    }\n",
       "\n",
       "    .dataframe thead th {\n",
       "        text-align: right;\n",
       "    }\n",
       "</style>\n",
       "<table border=\"1\" class=\"dataframe\">\n",
       "  <thead>\n",
       "    <tr style=\"text-align: right;\">\n",
       "      <th></th>\n",
       "      <th>universe_id</th>\n",
       "      <th>universe_model</th>\n",
       "      <th>universe_exclude_features</th>\n",
       "      <th>universe_exclude_subgroups</th>\n",
       "      <th>universe_scale</th>\n",
       "      <th>q_hat</th>\n",
       "      <th>coverage</th>\n",
       "      <th>avg_size</th>\n",
       "      <th>cov_frau1</th>\n",
       "      <th>cov_nongerman</th>\n",
       "      <th>cov_nongerman_male</th>\n",
       "      <th>cov_nongerman_female</th>\n",
       "    </tr>\n",
       "  </thead>\n",
       "  <tbody>\n",
       "    <tr>\n",
       "      <th>0</th>\n",
       "      <td>e98301c78422b64589b3b9c0f0e32536</td>\n",
       "      <td>logreg</td>\n",
       "      <td>age</td>\n",
       "      <td>drop-non-german</td>\n",
       "      <td>do-not-scale</td>\n",
       "      <td>0.658554</td>\n",
       "      <td>0.91322</td>\n",
       "      <td>1.254041</td>\n",
       "      <td>0.913843</td>\n",
       "      <td>0.964015</td>\n",
       "      <td>0.968837</td>\n",
       "      <td>0.956036</td>\n",
       "    </tr>\n",
       "  </tbody>\n",
       "</table>\n",
       "</div>"
      ],
      "text/plain": [
       "                        universe_id universe_model universe_exclude_features  \\\n",
       "0  e98301c78422b64589b3b9c0f0e32536         logreg                       age   \n",
       "\n",
       "  universe_exclude_subgroups universe_scale     q_hat  coverage  avg_size  \\\n",
       "0            drop-non-german   do-not-scale  0.658554   0.91322  1.254041   \n",
       "\n",
       "   cov_frau1  cov_nongerman  cov_nongerman_male  cov_nongerman_female  \n",
       "0   0.913843       0.964015            0.968837              0.956036  "
      ]
     },
     "execution_count": 53,
     "metadata": {},
     "output_type": "execute_result"
    }
   ],
   "source": [
    "cp_metrics_df"
   ]
  },
  {
   "cell_type": "markdown",
   "id": "33774451",
   "metadata": {
    "papermill": {
     "duration": 0.022004,
     "end_time": "2025-07-23T14:35:15.456629",
     "exception": false,
     "start_time": "2025-07-23T14:35:15.434625",
     "status": "completed"
    },
    "tags": []
   },
   "source": [
    "# (Fairness) Metrics"
   ]
  },
  {
   "cell_type": "code",
   "execution_count": 54,
   "id": "debc5d62",
   "metadata": {
    "execution": {
     "iopub.execute_input": "2025-07-23T14:35:15.503133Z",
     "iopub.status.busy": "2025-07-23T14:35:15.502592Z",
     "iopub.status.idle": "2025-07-23T14:35:15.527106Z",
     "shell.execute_reply": "2025-07-23T14:35:15.526015Z"
    },
    "papermill": {
     "duration": 0.049686,
     "end_time": "2025-07-23T14:35:15.529040",
     "exception": false,
     "start_time": "2025-07-23T14:35:15.479354",
     "status": "completed"
    },
    "tags": []
   },
   "outputs": [],
   "source": [
    "# do I need to include maxdeutsch1.missing?\n",
    "\n",
    "import numpy as np\n",
    "\n",
    "colname_to_bin = \"maxdeutsch1\"\n",
    "majority_value = org_train[colname_to_bin].mode()[0]\n",
    "\n",
    "org_test[\"majmin\"] = np.where(org_test[colname_to_bin] == majority_value, \"majority\", \"minority\")"
   ]
  },
  {
   "cell_type": "code",
   "execution_count": 55,
   "id": "06a50de5",
   "metadata": {
    "execution": {
     "iopub.execute_input": "2025-07-23T14:35:15.579438Z",
     "iopub.status.busy": "2025-07-23T14:35:15.578744Z",
     "iopub.status.idle": "2025-07-23T14:35:18.737541Z",
     "shell.execute_reply": "2025-07-23T14:35:18.736299Z"
    },
    "papermill": {
     "duration": 3.185937,
     "end_time": "2025-07-23T14:35:18.739623",
     "exception": false,
     "start_time": "2025-07-23T14:35:15.553686",
     "status": "completed"
    },
    "tags": []
   },
   "outputs": [],
   "source": [
    "example_universe = universe.copy()\n",
    "example_universe[\"cutoff\"] = example_universe[\"cutoff\"][0]\n",
    "example_universe[\"eval_fairness_grouping\"] = example_universe[\"eval_fairness_grouping\"][0]\n",
    "fairness_dict, metric_frame = universe_analysis.compute_metrics(\n",
    "    example_universe,\n",
    "    y_pred_prob=probs_test,\n",
    "    y_test=y_true,\n",
    "    org_test=org_test,\n",
    ")"
   ]
  },
  {
   "cell_type": "markdown",
   "id": "f95d4e02",
   "metadata": {
    "papermill": {
     "duration": 0.024756,
     "end_time": "2025-07-23T14:35:18.790041",
     "exception": false,
     "start_time": "2025-07-23T14:35:18.765285",
     "status": "completed"
    },
    "tags": []
   },
   "source": [
    "# Overall"
   ]
  },
  {
   "cell_type": "markdown",
   "id": "bdee4871",
   "metadata": {
    "papermill": {
     "duration": 0.024265,
     "end_time": "2025-07-23T14:35:18.838523",
     "exception": false,
     "start_time": "2025-07-23T14:35:18.814258",
     "status": "completed"
    },
    "tags": []
   },
   "source": [
    "Fairness\n",
    "Main fairness target: Equalized Odds. Seems to be a better fit than equal opportunity, since we're not only interested in Y = 1. Seems to be a better fit than demographic parity, since we also care about accuracy, not just equal distribution of preds.\n",
    "\n",
    "Pick column for computation of fairness metrics\n",
    "\n",
    "Performance\n",
    "Overall performance measures, most interesting in relation to the measures split by group below"
   ]
  },
  {
   "cell_type": "code",
   "execution_count": 56,
   "id": "c4e067c6",
   "metadata": {
    "execution": {
     "iopub.execute_input": "2025-07-23T14:35:18.891498Z",
     "iopub.status.busy": "2025-07-23T14:35:18.890435Z",
     "iopub.status.idle": "2025-07-23T14:35:18.900390Z",
     "shell.execute_reply": "2025-07-23T14:35:18.899291Z"
    },
    "papermill": {
     "duration": 0.03779,
     "end_time": "2025-07-23T14:35:18.902264",
     "exception": false,
     "start_time": "2025-07-23T14:35:18.864474",
     "status": "completed"
    },
    "tags": []
   },
   "outputs": [
    {
     "data": {
      "text/plain": [
       "accuracy                   0.216843\n",
       "balanced accuracy          0.531789\n",
       "f1                         0.238382\n",
       "precision                  0.136180\n",
       "false positive rate        0.891844\n",
       "false negative rate        0.044578\n",
       "selection rate             0.900000\n",
       "count                  89710.000000\n",
       "dtype: float64"
      ]
     },
     "execution_count": 56,
     "metadata": {},
     "output_type": "execute_result"
    }
   ],
   "source": [
    "metric_frame.overall"
   ]
  },
  {
   "cell_type": "markdown",
   "id": "e968fe9d",
   "metadata": {
    "papermill": {
     "duration": 0.022582,
     "end_time": "2025-07-23T14:35:18.948826",
     "exception": false,
     "start_time": "2025-07-23T14:35:18.926244",
     "status": "completed"
    },
    "tags": []
   },
   "source": [
    "By Group"
   ]
  },
  {
   "cell_type": "code",
   "execution_count": 57,
   "id": "ec325bce",
   "metadata": {
    "execution": {
     "iopub.execute_input": "2025-07-23T14:35:18.998094Z",
     "iopub.status.busy": "2025-07-23T14:35:18.997550Z",
     "iopub.status.idle": "2025-07-23T14:35:19.016219Z",
     "shell.execute_reply": "2025-07-23T14:35:19.015449Z"
    },
    "papermill": {
     "duration": 0.046477,
     "end_time": "2025-07-23T14:35:19.017589",
     "exception": false,
     "start_time": "2025-07-23T14:35:18.971112",
     "status": "completed"
    },
    "tags": []
   },
   "outputs": [
    {
     "data": {
      "text/html": [
       "<div>\n",
       "<style scoped>\n",
       "    .dataframe tbody tr th:only-of-type {\n",
       "        vertical-align: middle;\n",
       "    }\n",
       "\n",
       "    .dataframe tbody tr th {\n",
       "        vertical-align: top;\n",
       "    }\n",
       "\n",
       "    .dataframe thead th {\n",
       "        text-align: right;\n",
       "    }\n",
       "</style>\n",
       "<table border=\"1\" class=\"dataframe\">\n",
       "  <thead>\n",
       "    <tr style=\"text-align: right;\">\n",
       "      <th></th>\n",
       "      <th>accuracy</th>\n",
       "      <th>balanced accuracy</th>\n",
       "      <th>f1</th>\n",
       "      <th>precision</th>\n",
       "      <th>false positive rate</th>\n",
       "      <th>false negative rate</th>\n",
       "      <th>selection rate</th>\n",
       "      <th>count</th>\n",
       "    </tr>\n",
       "    <tr>\n",
       "      <th>majmin</th>\n",
       "      <th></th>\n",
       "      <th></th>\n",
       "      <th></th>\n",
       "      <th></th>\n",
       "      <th></th>\n",
       "      <th></th>\n",
       "      <th></th>\n",
       "      <th></th>\n",
       "    </tr>\n",
       "  </thead>\n",
       "  <tbody>\n",
       "    <tr>\n",
       "      <th>majority</th>\n",
       "      <td>0.239728</td>\n",
       "      <td>0.539633</td>\n",
       "      <td>0.247711</td>\n",
       "      <td>0.142486</td>\n",
       "      <td>0.867999</td>\n",
       "      <td>0.052735</td>\n",
       "      <td>0.878473</td>\n",
       "      <td>69170.0</td>\n",
       "    </tr>\n",
       "    <tr>\n",
       "      <th>minority</th>\n",
       "      <td>0.139776</td>\n",
       "      <td>0.508147</td>\n",
       "      <td>0.209193</td>\n",
       "      <td>0.116996</td>\n",
       "      <td>0.970614</td>\n",
       "      <td>0.013091</td>\n",
       "      <td>0.972493</td>\n",
       "      <td>20540.0</td>\n",
       "    </tr>\n",
       "  </tbody>\n",
       "</table>\n",
       "</div>"
      ],
      "text/plain": [
       "          accuracy  balanced accuracy        f1  precision  \\\n",
       "majmin                                                       \n",
       "majority  0.239728           0.539633  0.247711   0.142486   \n",
       "minority  0.139776           0.508147  0.209193   0.116996   \n",
       "\n",
       "          false positive rate  false negative rate  selection rate    count  \n",
       "majmin                                                                       \n",
       "majority             0.867999             0.052735        0.878473  69170.0  \n",
       "minority             0.970614             0.013091        0.972493  20540.0  "
      ]
     },
     "execution_count": 57,
     "metadata": {},
     "output_type": "execute_result"
    }
   ],
   "source": [
    "metric_frame.by_group"
   ]
  },
  {
   "cell_type": "code",
   "execution_count": 58,
   "id": "a9ddbe63",
   "metadata": {
    "execution": {
     "iopub.execute_input": "2025-07-23T14:35:19.070044Z",
     "iopub.status.busy": "2025-07-23T14:35:19.069147Z",
     "iopub.status.idle": "2025-07-23T14:35:21.172270Z",
     "shell.execute_reply": "2025-07-23T14:35:21.171023Z"
    },
    "papermill": {
     "duration": 2.133292,
     "end_time": "2025-07-23T14:35:21.174364",
     "exception": false,
     "start_time": "2025-07-23T14:35:19.041072",
     "status": "completed"
    },
    "tags": []
   },
   "outputs": [
    {
     "data": {
      "text/plain": [
       "array([[<Axes: title={'center': 'accuracy'}, xlabel='majmin'>,\n",
       "        <Axes: title={'center': 'balanced accuracy'}, xlabel='majmin'>,\n",
       "        <Axes: title={'center': 'f1'}, xlabel='majmin'>],\n",
       "       [<Axes: title={'center': 'precision'}, xlabel='majmin'>,\n",
       "        <Axes: title={'center': 'false positive rate'}, xlabel='majmin'>,\n",
       "        <Axes: title={'center': 'false negative rate'}, xlabel='majmin'>],\n",
       "       [<Axes: title={'center': 'selection rate'}, xlabel='majmin'>,\n",
       "        <Axes: title={'center': 'count'}, xlabel='majmin'>,\n",
       "        <Axes: xlabel='majmin'>]], dtype=object)"
      ]
     },
     "execution_count": 58,
     "metadata": {},
     "output_type": "execute_result"
    },
    {
     "data": {
      "image/png": "[encoded data removed]",
      "text/plain": [
       "<Figure size 1200x800 with 9 Axes>"
      ]
     },
     "metadata": {},
     "output_type": "display_data"
    }
   ],
   "source": [
    "# In a graphic\n",
    "metric_frame.by_group.plot.bar(\n",
    "    subplots=True,\n",
    "    layout=[3, 3],\n",
    "    legend=False,\n",
    "    figsize=[12, 8],\n",
    "    title=\"Show all metrics\",\n",
    ")"
   ]
  },
  {
   "cell_type": "markdown",
   "id": "f57a0bac",
   "metadata": {
    "papermill": {
     "duration": 0.02544,
     "end_time": "2025-07-23T14:35:21.227672",
     "exception": false,
     "start_time": "2025-07-23T14:35:21.202232",
     "status": "completed"
    },
    "tags": []
   },
   "source": [
    "# Final Output"
   ]
  },
  {
   "cell_type": "code",
   "execution_count": 59,
   "id": "96d280a3",
   "metadata": {
    "execution": {
     "iopub.execute_input": "2025-07-23T14:35:21.280613Z",
     "iopub.status.busy": "2025-07-23T14:35:21.279784Z",
     "iopub.status.idle": "2025-07-23T14:35:21.293577Z",
     "shell.execute_reply": "2025-07-23T14:35:21.292438Z"
    },
    "papermill": {
     "duration": 0.042036,
     "end_time": "2025-07-23T14:35:21.295733",
     "exception": false,
     "start_time": "2025-07-23T14:35:21.253697",
     "status": "completed"
    },
    "tags": []
   },
   "outputs": [
    {
     "data": {
      "text/plain": [
       "4"
      ]
     },
     "execution_count": 59,
     "metadata": {},
     "output_type": "execute_result"
    }
   ],
   "source": [
    "sub_universes = universe_analysis.generate_sub_universes()\n",
    "len(sub_universes)"
   ]
  },
  {
   "cell_type": "code",
   "execution_count": 60,
   "id": "92adf7ba",
   "metadata": {
    "execution": {
     "iopub.execute_input": "2025-07-23T14:35:21.357457Z",
     "iopub.status.busy": "2025-07-23T14:35:21.356473Z",
     "iopub.status.idle": "2025-07-23T14:35:21.363488Z",
     "shell.execute_reply": "2025-07-23T14:35:21.362371Z"
    },
    "papermill": {
     "duration": 0.039917,
     "end_time": "2025-07-23T14:35:21.365311",
     "exception": false,
     "start_time": "2025-07-23T14:35:21.325394",
     "status": "completed"
    },
    "tags": []
   },
   "outputs": [],
   "source": [
    "def filter_sub_universe_data(sub_universe, org_test):\n",
    "    # Keep all rows — no filtering\n",
    "    keep_rows_mask = np.ones(org_test.shape[0], dtype=bool)\n",
    "\n",
    "    print(f\"[INFO] Keeping all rows: {keep_rows_mask.sum()} rows retained.\")\n",
    "    return keep_rows_mask"
   ]
  },
  {
   "cell_type": "code",
   "execution_count": 61,
   "id": "4a759155",
   "metadata": {
    "execution": {
     "iopub.execute_input": "2025-07-23T14:35:21.419549Z",
     "iopub.status.busy": "2025-07-23T14:35:21.418947Z",
     "iopub.status.idle": "2025-07-23T14:35:33.896862Z",
     "shell.execute_reply": "2025-07-23T14:35:33.895672Z"
    },
    "papermill": {
     "duration": 12.507511,
     "end_time": "2025-07-23T14:35:33.898678",
     "exception": false,
     "start_time": "2025-07-23T14:35:21.391167",
     "status": "completed"
    },
    "tags": []
   },
   "outputs": [
    {
     "name": "stdout",
     "output_type": "stream",
     "text": [
      "Stopping execution_time clock.\n",
      "[INFO] Keeping all rows: 89710 rows retained.\n"
     ]
    },
    {
     "name": "stdout",
     "output_type": "stream",
     "text": [
      "[INFO] Keeping all rows: 89710 rows retained.\n"
     ]
    },
    {
     "name": "stdout",
     "output_type": "stream",
     "text": [
      "[INFO] Keeping all rows: 89710 rows retained.\n"
     ]
    },
    {
     "name": "stdout",
     "output_type": "stream",
     "text": [
      "[INFO] Keeping all rows: 89710 rows retained.\n"
     ]
    },
    {
     "data": {
      "text/html": [
       "<div>\n",
       "<style scoped>\n",
       "    .dataframe tbody tr th:only-of-type {\n",
       "        vertical-align: middle;\n",
       "    }\n",
       "\n",
       "    .dataframe tbody tr th {\n",
       "        vertical-align: top;\n",
       "    }\n",
       "\n",
       "    .dataframe thead th {\n",
       "        text-align: right;\n",
       "    }\n",
       "</style>\n",
       "<table border=\"1\" class=\"dataframe\">\n",
       "  <thead>\n",
       "    <tr style=\"text-align: right;\">\n",
       "      <th></th>\n",
       "      <th>run_no</th>\n",
       "      <th>universe_id</th>\n",
       "      <th>universe_settings</th>\n",
       "      <th>execution_time</th>\n",
       "      <th>test_size_n</th>\n",
       "      <th>test_size_frac</th>\n",
       "      <th>fair_main_equalized_odds_difference</th>\n",
       "      <th>fair_main_equalized_odds_ratio</th>\n",
       "      <th>fair_main_demographic_parity_difference</th>\n",
       "      <th>fair_main_demographic_parity_ratio</th>\n",
       "      <th>...</th>\n",
       "      <th>perf_grp_precision_0</th>\n",
       "      <th>perf_grp_precision_1</th>\n",
       "      <th>perf_grp_false positive rate_0</th>\n",
       "      <th>perf_grp_false positive rate_1</th>\n",
       "      <th>perf_grp_false negative rate_0</th>\n",
       "      <th>perf_grp_false negative rate_1</th>\n",
       "      <th>perf_grp_selection rate_0</th>\n",
       "      <th>perf_grp_selection rate_1</th>\n",
       "      <th>perf_grp_count_0</th>\n",
       "      <th>perf_grp_count_1</th>\n",
       "    </tr>\n",
       "  </thead>\n",
       "  <tbody>\n",
       "    <tr>\n",
       "      <th>0</th>\n",
       "      <td>9</td>\n",
       "      <td>e98301c78422b64589b3b9c0f0e32536</td>\n",
       "      <td>{\"cutoff\": \"quantile_0.1\", \"eval_fairness_grou...</td>\n",
       "      <td>20.93974</td>\n",
       "      <td>89710</td>\n",
       "      <td>1.0</td>\n",
       "      <td>0.102615</td>\n",
       "      <td>0.894278</td>\n",
       "      <td>0.094019</td>\n",
       "      <td>0.903321</td>\n",
       "      <td>...</td>\n",
       "      <td>NaN</td>\n",
       "      <td>NaN</td>\n",
       "      <td>NaN</td>\n",
       "      <td>NaN</td>\n",
       "      <td>NaN</td>\n",
       "      <td>NaN</td>\n",
       "      <td>NaN</td>\n",
       "      <td>NaN</td>\n",
       "      <td>NaN</td>\n",
       "      <td>NaN</td>\n",
       "    </tr>\n",
       "    <tr>\n",
       "      <th>0</th>\n",
       "      <td>9</td>\n",
       "      <td>e98301c78422b64589b3b9c0f0e32536</td>\n",
       "      <td>{\"cutoff\": \"quantile_0.1\", \"eval_fairness_grou...</td>\n",
       "      <td>20.93974</td>\n",
       "      <td>89710</td>\n",
       "      <td>1.0</td>\n",
       "      <td>0.102615</td>\n",
       "      <td>0.894278</td>\n",
       "      <td>0.094019</td>\n",
       "      <td>0.903321</td>\n",
       "      <td>...</td>\n",
       "      <td>0.116996</td>\n",
       "      <td>0.142486</td>\n",
       "      <td>0.970614</td>\n",
       "      <td>0.867999</td>\n",
       "      <td>0.013091</td>\n",
       "      <td>0.052735</td>\n",
       "      <td>0.972493</td>\n",
       "      <td>0.878473</td>\n",
       "      <td>20540.0</td>\n",
       "      <td>69170.0</td>\n",
       "    </tr>\n",
       "    <tr>\n",
       "      <th>0</th>\n",
       "      <td>9</td>\n",
       "      <td>e98301c78422b64589b3b9c0f0e32536</td>\n",
       "      <td>{\"cutoff\": \"quantile_0.25\", \"eval_fairness_gro...</td>\n",
       "      <td>20.93974</td>\n",
       "      <td>89710</td>\n",
       "      <td>1.0</td>\n",
       "      <td>0.240459</td>\n",
       "      <td>0.737797</td>\n",
       "      <td>0.222585</td>\n",
       "      <td>0.758484</td>\n",
       "      <td>...</td>\n",
       "      <td>NaN</td>\n",
       "      <td>NaN</td>\n",
       "      <td>NaN</td>\n",
       "      <td>NaN</td>\n",
       "      <td>NaN</td>\n",
       "      <td>NaN</td>\n",
       "      <td>NaN</td>\n",
       "      <td>NaN</td>\n",
       "      <td>NaN</td>\n",
       "      <td>NaN</td>\n",
       "    </tr>\n",
       "    <tr>\n",
       "      <th>0</th>\n",
       "      <td>9</td>\n",
       "      <td>e98301c78422b64589b3b9c0f0e32536</td>\n",
       "      <td>{\"cutoff\": \"quantile_0.25\", \"eval_fairness_gro...</td>\n",
       "      <td>20.93974</td>\n",
       "      <td>89710</td>\n",
       "      <td>1.0</td>\n",
       "      <td>0.240459</td>\n",
       "      <td>0.737797</td>\n",
       "      <td>0.222585</td>\n",
       "      <td>0.758484</td>\n",
       "      <td>...</td>\n",
       "      <td>0.119651</td>\n",
       "      <td>0.159973</td>\n",
       "      <td>0.917070</td>\n",
       "      <td>0.676612</td>\n",
       "      <td>0.043497</td>\n",
       "      <td>0.153720</td>\n",
       "      <td>0.921616</td>\n",
       "      <td>0.699031</td>\n",
       "      <td>20540.0</td>\n",
       "      <td>69170.0</td>\n",
       "    </tr>\n",
       "  </tbody>\n",
       "</table>\n",
       "<p>4 rows × 50 columns</p>\n",
       "</div>"
      ],
      "text/plain": [
       "  run_no                       universe_id  \\\n",
       "0      9  e98301c78422b64589b3b9c0f0e32536   \n",
       "0      9  e98301c78422b64589b3b9c0f0e32536   \n",
       "0      9  e98301c78422b64589b3b9c0f0e32536   \n",
       "0      9  e98301c78422b64589b3b9c0f0e32536   \n",
       "\n",
       "                                   universe_settings  execution_time  \\\n",
       "0  {\"cutoff\": \"quantile_0.1\", \"eval_fairness_grou...        20.93974   \n",
       "0  {\"cutoff\": \"quantile_0.1\", \"eval_fairness_grou...        20.93974   \n",
       "0  {\"cutoff\": \"quantile_0.25\", \"eval_fairness_gro...        20.93974   \n",
       "0  {\"cutoff\": \"quantile_0.25\", \"eval_fairness_gro...        20.93974   \n",
       "\n",
       "   test_size_n  test_size_frac  fair_main_equalized_odds_difference  \\\n",
       "0        89710             1.0                             0.102615   \n",
       "0        89710             1.0                             0.102615   \n",
       "0        89710             1.0                             0.240459   \n",
       "0        89710             1.0                             0.240459   \n",
       "\n",
       "   fair_main_equalized_odds_ratio  fair_main_demographic_parity_difference  \\\n",
       "0                        0.894278                                 0.094019   \n",
       "0                        0.894278                                 0.094019   \n",
       "0                        0.737797                                 0.222585   \n",
       "0                        0.737797                                 0.222585   \n",
       "\n",
       "   fair_main_demographic_parity_ratio  ...  perf_grp_precision_0  \\\n",
       "0                            0.903321  ...                   NaN   \n",
       "0                            0.903321  ...              0.116996   \n",
       "0                            0.758484  ...                   NaN   \n",
       "0                            0.758484  ...              0.119651   \n",
       "\n",
       "   perf_grp_precision_1  perf_grp_false positive rate_0  \\\n",
       "0                   NaN                             NaN   \n",
       "0              0.142486                        0.970614   \n",
       "0                   NaN                             NaN   \n",
       "0              0.159973                        0.917070   \n",
       "\n",
       "   perf_grp_false positive rate_1  perf_grp_false negative rate_0  \\\n",
       "0                             NaN                             NaN   \n",
       "0                        0.867999                        0.013091   \n",
       "0                             NaN                             NaN   \n",
       "0                        0.676612                        0.043497   \n",
       "\n",
       "   perf_grp_false negative rate_1  perf_grp_selection rate_0  \\\n",
       "0                             NaN                        NaN   \n",
       "0                        0.052735                   0.972493   \n",
       "0                             NaN                        NaN   \n",
       "0                        0.153720                   0.921616   \n",
       "\n",
       "   perf_grp_selection rate_1  perf_grp_count_0  perf_grp_count_1  \n",
       "0                        NaN               NaN               NaN  \n",
       "0                   0.878473           20540.0           69170.0  \n",
       "0                        NaN               NaN               NaN  \n",
       "0                   0.699031           20540.0           69170.0  \n",
       "\n",
       "[4 rows x 50 columns]"
      ]
     },
     "execution_count": 61,
     "metadata": {},
     "output_type": "execute_result"
    }
   ],
   "source": [
    "final_output = universe_analysis.generate_final_output(\n",
    "    y_pred_prob=probs_test,\n",
    "    y_test=y_true,\n",
    "    org_test=org_test,\n",
    "    filter_data=filter_sub_universe_data,\n",
    "    cp_metrics_df=cp_metrics_df,\n",
    "    save=True,\n",
    ")\n",
    "final_output"
   ]
  },
  {
   "cell_type": "code",
   "execution_count": null,
   "id": "721ff514-cb11-46f8-b6fc-50392f74b5cb",
   "metadata": {
    "papermill": {
     "duration": 0.025791,
     "end_time": "2025-07-23T14:35:33.953277",
     "exception": false,
     "start_time": "2025-07-23T14:35:33.927486",
     "status": "completed"
    },
    "tags": []
   },
   "outputs": [],
   "source": []
  }
 ],
 "metadata": {
  "celltoolbar": "Tags",
  "kernelspec": {
   "display_name": "Python (CMA Fairness)",
   "language": "python",
   "name": "cma_fair_env"
  },
  "language_info": {
   "codemirror_mode": {
    "name": "ipython",
    "version": 3
   },
   "file_extension": ".py",
   "mimetype": "text/x-python",
   "name": "python",
   "nbconvert_exporter": "python",
   "pygments_lexer": "ipython3",
   "version": "3.10.12"
  },
  "papermill": {
   "default_parameters": {},
   "duration": 37.791249,
   "end_time": "2025-07-23T14:35:34.798755",
   "environment_variables": {},
   "exception": null,
   "input_path": "universe_analysis.ipynb",
   "output_path": "output/runs/9/notebooks/m_9-e98301c78422b64589b3b9c0f0e32536.ipynb",
   "parameters": {
    "output_dir": "output",
    "run_no": "9",
    "seed": "2023",
    "universe": "{\"cutoff\": [\"quantile_0.1\", \"quantile_0.25\"], \"eval_fairness_grouping\": [\"majority-minority\", \"nationality-all\"], \"exclude_features\": \"age\", \"exclude_subgroups\": \"drop-non-german\", \"model\": \"logreg\", \"scale\": \"do-not-scale\"}",
    "universe_id": "e98301c78422b64589b3b9c0f0e32536"
   },
   "start_time": "2025-07-23T14:34:57.007506",
   "version": "2.6.0"
  }
 },
 "nbformat": 4,
 "nbformat_minor": 5
}