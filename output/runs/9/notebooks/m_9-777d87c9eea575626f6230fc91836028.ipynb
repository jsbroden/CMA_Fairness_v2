{
 "cells": [
  {
   "cell_type": "code",
   "execution_count": 1,
   "id": "f159f837-637b-42ba-96b5-ec9a68c44524",
   "metadata": {
    "execution": {
     "iopub.execute_input": "2025-07-23T14:36:06.350878Z",
     "iopub.status.busy": "2025-07-23T14:36:06.350473Z",
     "iopub.status.idle": "2025-07-23T14:36:06.377644Z",
     "shell.execute_reply": "2025-07-23T14:36:06.376511Z"
    },
    "papermill": {
     "duration": 0.069509,
     "end_time": "2025-07-23T14:36:06.379739",
     "exception": false,
     "start_time": "2025-07-23T14:36:06.310230",
     "status": "completed"
    },
    "tags": []
   },
   "outputs": [
    {
     "name": "stdout",
     "output_type": "stream",
     "text": [
      "/dss/dsshome1/0C/ra93lal2/cma/CMA_Fairness_v2\n"
     ]
    },
    {
     "name": "stderr",
     "output_type": "stream",
     "text": [
      "/dss/dsshome1/0C/ra93lal2/.local/share/virtualenvs/CMA_Fairness_v2-3j10GkSs/lib/python3.10/site-packages/IPython/core/magics/osm.py:393: UserWarning: This is now an optional IPython functionality, using bookmarks requires you to install the `pickleshare` library.\n",
      "  bkms = self.shell.db.get('bookmarks', {})\n",
      "/dss/dsshome1/0C/ra93lal2/.local/share/virtualenvs/CMA_Fairness_v2-3j10GkSs/lib/python3.10/site-packages/IPython/core/magics/osm.py:417: UserWarning: This is now an optional IPython functionality, setting dhist requires you to install the `pickleshare` library.\n",
      "  self.shell.db['dhist'] = compress_dhist(dhist)[-100:]\n"
     ]
    }
   ],
   "source": [
    "%cd ~/cma/CMA_Fairness_v2"
   ]
  },
  {
   "cell_type": "markdown",
   "id": "de2603b9",
   "metadata": {
    "papermill": {
     "duration": 0.036296,
     "end_time": "2025-07-23T14:36:06.457415",
     "exception": false,
     "start_time": "2025-07-23T14:36:06.421119",
     "status": "completed"
    },
    "tags": []
   },
   "source": [
    "The following cell holds the definition of our parameters, these values can be overriden by rendering the with e.g. the following command:\n",
    "\n",
    "papermill -p alpha 0.2 -p ratio 0.3 universe_analysis.ipynb output/test_run.ipynb"
   ]
  },
  {
   "cell_type": "code",
   "execution_count": 2,
   "id": "a80968a0-40bb-4fa9-85ef-2d5eefb01975",
   "metadata": {
    "execution": {
     "iopub.execute_input": "2025-07-23T14:36:06.538741Z",
     "iopub.status.busy": "2025-07-23T14:36:06.538335Z",
     "iopub.status.idle": "2025-07-23T14:36:06.544009Z",
     "shell.execute_reply": "2025-07-23T14:36:06.543026Z"
    },
    "papermill": {
     "duration": 0.048148,
     "end_time": "2025-07-23T14:36:06.545808",
     "exception": false,
     "start_time": "2025-07-23T14:36:06.497660",
     "status": "completed"
    },
    "tags": []
   },
   "outputs": [
    {
     "name": "stdout",
     "output_type": "stream",
     "text": [
      "Current working directory: /dss/dsshome1/0C/ra93lal2/cma/CMA_Fairness_v2\n"
     ]
    }
   ],
   "source": [
    "import os\n",
    "print(\"Current working directory:\", os.getcwd())"
   ]
  },
  {
   "cell_type": "code",
   "execution_count": 3,
   "id": "2dce4c03",
   "metadata": {
    "execution": {
     "iopub.execute_input": "2025-07-23T14:36:06.610994Z",
     "iopub.status.busy": "2025-07-23T14:36:06.610498Z",
     "iopub.status.idle": "2025-07-23T14:36:06.617466Z",
     "shell.execute_reply": "2025-07-23T14:36:06.616337Z"
    },
    "papermill": {
     "duration": 0.040698,
     "end_time": "2025-07-23T14:36:06.619401",
     "exception": false,
     "start_time": "2025-07-23T14:36:06.578703",
     "status": "completed"
    },
    "tags": [
     "parameters"
    ]
   },
   "outputs": [],
   "source": [
    "run_no = 0\n",
    "universe_id = \"test\"\n",
    "universe = {\n",
    "    \"scale\": \"scale\", # \"scale\", \"do-not-scale\",\n",
    "    \"model\": \"elasticnet\", # \"logreg\", \"penalized_logreg\", \"rf\", \"gbm\", \"elasticnet\"\n",
    "    \"cutoff\": [\"quantile_0.15\", \"quantile_0.30\"],\n",
    "    \"exclude_features\": \"age\", # \"none\", \"nationality\", \"sex\", \"nationality-sex\", \"age\"\n",
    "    \"exclude_subgroups\": \"keep-all\", # \"keep-all\", \"drop-non-german\"\n",
    "    #\"training_sample\": \"restricted\", # \"restricted\", \"full\"\n",
    "    \"eval_fairness_grouping\": [\"majority-minority\", \"nationality-all\"]\n",
    "}\n",
    "\n",
    "output_dir=\"./output\"\n",
    "seed=0"
   ]
  },
  {
   "cell_type": "code",
   "execution_count": 4,
   "id": "10a4887d",
   "metadata": {
    "execution": {
     "iopub.execute_input": "2025-07-23T14:36:06.695144Z",
     "iopub.status.busy": "2025-07-23T14:36:06.694627Z",
     "iopub.status.idle": "2025-07-23T14:36:06.700325Z",
     "shell.execute_reply": "2025-07-23T14:36:06.699295Z"
    },
    "papermill": {
     "duration": 0.046858,
     "end_time": "2025-07-23T14:36:06.702162",
     "exception": false,
     "start_time": "2025-07-23T14:36:06.655304",
     "status": "completed"
    },
    "tags": [
     "injected-parameters"
    ]
   },
   "outputs": [],
   "source": [
    "# Parameters\n",
    "universe_id = \"777d87c9eea575626f6230fc91836028\"\n",
    "run_no = \"9\"\n",
    "universe = \"{\\\"cutoff\\\": [\\\"quantile_0.1\\\", \\\"quantile_0.25\\\"], \\\"eval_fairness_grouping\\\": [\\\"majority-minority\\\", \\\"nationality-all\\\"], \\\"exclude_features\\\": \\\"none\\\", \\\"exclude_subgroups\\\": \\\"drop-non-german\\\", \\\"model\\\": \\\"rf\\\", \\\"scale\\\": \\\"do-not-scale\\\"}\"\n",
    "output_dir = \"output\"\n",
    "seed = \"2023\"\n"
   ]
  },
  {
   "cell_type": "code",
   "execution_count": 5,
   "id": "1650acaf",
   "metadata": {
    "execution": {
     "iopub.execute_input": "2025-07-23T14:36:06.768199Z",
     "iopub.status.busy": "2025-07-23T14:36:06.767770Z",
     "iopub.status.idle": "2025-07-23T14:36:06.773603Z",
     "shell.execute_reply": "2025-07-23T14:36:06.772642Z"
    },
    "papermill": {
     "duration": 0.039409,
     "end_time": "2025-07-23T14:36:06.775409",
     "exception": false,
     "start_time": "2025-07-23T14:36:06.736000",
     "status": "completed"
    },
    "tags": []
   },
   "outputs": [],
   "source": [
    "import json\n",
    "# Parse universe into dict if it is passed as a string\n",
    "if isinstance(universe, str):\n",
    "    universe = json.loads(universe)"
   ]
  },
  {
   "cell_type": "code",
   "execution_count": 6,
   "id": "16620c48",
   "metadata": {
    "execution": {
     "iopub.execute_input": "2025-07-23T14:36:06.849169Z",
     "iopub.status.busy": "2025-07-23T14:36:06.848600Z",
     "iopub.status.idle": "2025-07-23T14:36:06.963570Z",
     "shell.execute_reply": "2025-07-23T14:36:06.962593Z"
    },
    "papermill": {
     "duration": 0.149351,
     "end_time": "2025-07-23T14:36:06.965875",
     "exception": false,
     "start_time": "2025-07-23T14:36:06.816524",
     "status": "completed"
    },
    "tags": []
   },
   "outputs": [],
   "source": [
    "# Auto-reload the custom package\n",
    "%load_ext autoreload\n",
    "%autoreload 1\n",
    "%aimport fairness_multiverse"
   ]
  },
  {
   "cell_type": "code",
   "execution_count": 7,
   "id": "01c5c9f3",
   "metadata": {
    "execution": {
     "iopub.execute_input": "2025-07-23T14:36:07.049855Z",
     "iopub.status.busy": "2025-07-23T14:36:07.049116Z",
     "iopub.status.idle": "2025-07-23T14:36:11.628912Z",
     "shell.execute_reply": "2025-07-23T14:36:11.627756Z"
    },
    "papermill": {
     "duration": 4.617494,
     "end_time": "2025-07-23T14:36:11.630553",
     "exception": false,
     "start_time": "2025-07-23T14:36:07.013059",
     "status": "completed"
    },
    "tags": []
   },
   "outputs": [],
   "source": [
    "from fairness_multiverse.universe import UniverseAnalysis\n",
    "\n",
    "universe_analysis = UniverseAnalysis(\n",
    "    run_no = run_no,\n",
    "    universe_id = universe_id,\n",
    "    universe = universe,\n",
    "    output_dir=output_dir,\n",
    ")"
   ]
  },
  {
   "cell_type": "code",
   "execution_count": 8,
   "id": "106241f5",
   "metadata": {
    "execution": {
     "iopub.execute_input": "2025-07-23T14:36:11.671500Z",
     "iopub.status.busy": "2025-07-23T14:36:11.671021Z",
     "iopub.status.idle": "2025-07-23T14:36:11.677906Z",
     "shell.execute_reply": "2025-07-23T14:36:11.676833Z"
    },
    "papermill": {
     "duration": 0.028163,
     "end_time": "2025-07-23T14:36:11.679737",
     "exception": false,
     "start_time": "2025-07-23T14:36:11.651574",
     "status": "completed"
    },
    "tags": []
   },
   "outputs": [
    {
     "name": "stdout",
     "output_type": "stream",
     "text": [
      "Using Seed: 2023\n"
     ]
    }
   ],
   "source": [
    "import numpy as np\n",
    "parsed_seed = int(seed)\n",
    "np.random.seed(parsed_seed)\n",
    "print(f\"Using Seed: {parsed_seed}\")"
   ]
  },
  {
   "cell_type": "markdown",
   "id": "e0ebdc57",
   "metadata": {
    "papermill": {
     "duration": 0.017345,
     "end_time": "2025-07-23T14:36:11.714463",
     "exception": false,
     "start_time": "2025-07-23T14:36:11.697118",
     "status": "completed"
    },
    "tags": []
   },
   "source": [
    "# Loading Data"
   ]
  },
  {
   "cell_type": "markdown",
   "id": "681925a3",
   "metadata": {
    "papermill": {
     "duration": 0.016809,
     "end_time": "2025-07-23T14:36:11.750332",
     "exception": false,
     "start_time": "2025-07-23T14:36:11.733523",
     "status": "completed"
    },
    "tags": []
   },
   "source": [
    "Load siab_train, siab_test, siab_calib and/or \n",
    "load siab_train_features, siab_train_labels"
   ]
  },
  {
   "cell_type": "code",
   "execution_count": 9,
   "id": "f0496b8a",
   "metadata": {
    "execution": {
     "iopub.execute_input": "2025-07-23T14:36:11.786279Z",
     "iopub.status.busy": "2025-07-23T14:36:11.785666Z",
     "iopub.status.idle": "2025-07-23T14:36:11.791354Z",
     "shell.execute_reply": "2025-07-23T14:36:11.790602Z"
    },
    "papermill": {
     "duration": 0.025475,
     "end_time": "2025-07-23T14:36:11.792889",
     "exception": false,
     "start_time": "2025-07-23T14:36:11.767414",
     "status": "completed"
    },
    "tags": []
   },
   "outputs": [],
   "source": [
    "# Do I need to load siab? Delete this cell?\n",
    "\n",
    "#from pathlib import Path\n",
    "#import pandas as pd\n",
    "#\n",
    "## File paths\n",
    "#raw_file = Path(\"data/raw/siab.csv\")\n",
    "#cache_file = Path(\"data/siab_cached.csv.gz\")\n",
    "#\n",
    "## Ensure cache directory exists\n",
    "#cache_file.parent.mkdir(parents=True, exist_ok=True)\n",
    "#\n",
    "## Load with simple caching\n",
    "#if cache_file.exists():\n",
    "#    print(f\"Loading SIAB data from cache: {cache_file}\")\n",
    "#    siab = pd.read_csv(cache_file, compression='gzip')\n",
    "#else:\n",
    "#    print(f\"Cache not found. Reading raw SIAB data: {raw_file}\")\n",
    "#    siab = pd.read_csv(raw_file)\n",
    "#    siab.to_csv(cache_file, index=False, compression='gzip')\n",
    "#    print(f\"Cached SIAB data to: {cache_file}\")\n",
    "#\n",
    "## Now use `siab` DataFrame as needed\n",
    "#print(siab.shape)\n"
   ]
  },
  {
   "cell_type": "code",
   "execution_count": 10,
   "id": "a0edb063",
   "metadata": {
    "execution": {
     "iopub.execute_input": "2025-07-23T14:36:11.813409Z",
     "iopub.status.busy": "2025-07-23T14:36:11.812841Z",
     "iopub.status.idle": "2025-07-23T14:36:13.456237Z",
     "shell.execute_reply": "2025-07-23T14:36:13.455219Z"
    },
    "papermill": {
     "duration": 1.655277,
     "end_time": "2025-07-23T14:36:13.458055",
     "exception": false,
     "start_time": "2025-07-23T14:36:11.802778",
     "status": "completed"
    },
    "tags": []
   },
   "outputs": [],
   "source": [
    "import pandas as pd\n",
    "\n",
    "X_train = pd.read_csv(\"./data/X_train.csv\")\n",
    "y_train = pd.read_csv(\"./data/y_train.csv\")"
   ]
  },
  {
   "cell_type": "code",
   "execution_count": 11,
   "id": "63d08085",
   "metadata": {
    "execution": {
     "iopub.execute_input": "2025-07-23T14:36:13.549544Z",
     "iopub.status.busy": "2025-07-23T14:36:13.549124Z",
     "iopub.status.idle": "2025-07-23T14:36:15.258780Z",
     "shell.execute_reply": "2025-07-23T14:36:15.257614Z"
    },
    "papermill": {
     "duration": 1.757906,
     "end_time": "2025-07-23T14:36:15.261123",
     "exception": false,
     "start_time": "2025-07-23T14:36:13.503217",
     "status": "completed"
    },
    "tags": []
   },
   "outputs": [],
   "source": [
    "X_test = pd.read_csv(\"./data/X_test.csv\")\n",
    "y_true = pd.read_csv(\"./data/y_test.csv\")"
   ]
  },
  {
   "cell_type": "code",
   "execution_count": 12,
   "id": "98a8d0fa-1d3d-4ed8-bb2c-281470e24add",
   "metadata": {
    "execution": {
     "iopub.execute_input": "2025-07-23T14:36:15.308568Z",
     "iopub.status.busy": "2025-07-23T14:36:15.307491Z",
     "iopub.status.idle": "2025-07-23T14:36:16.858300Z",
     "shell.execute_reply": "2025-07-23T14:36:16.857309Z"
    },
    "papermill": {
     "duration": 1.572557,
     "end_time": "2025-07-23T14:36:16.860405",
     "exception": false,
     "start_time": "2025-07-23T14:36:15.287848",
     "status": "completed"
    },
    "tags": []
   },
   "outputs": [],
   "source": [
    "# Calibration data for conformal\n",
    "X_calib = pd.read_csv(\"./data/X_calib.csv\")\n",
    "y_calib = pd.read_csv(\"./data/y_calib.csv\")"
   ]
  },
  {
   "cell_type": "code",
   "execution_count": 13,
   "id": "e6c733c5",
   "metadata": {
    "execution": {
     "iopub.execute_input": "2025-07-23T14:36:16.925050Z",
     "iopub.status.busy": "2025-07-23T14:36:16.924577Z",
     "iopub.status.idle": "2025-07-23T14:36:17.104662Z",
     "shell.execute_reply": "2025-07-23T14:36:17.094913Z"
    },
    "papermill": {
     "duration": 0.213597,
     "end_time": "2025-07-23T14:36:17.107066",
     "exception": false,
     "start_time": "2025-07-23T14:36:16.893469",
     "status": "completed"
    },
    "tags": []
   },
   "outputs": [],
   "source": [
    "# Auxiliary data needed downstream in the pipeline\n",
    "\n",
    "org_train = X_train.copy()\n",
    "org_test = X_test.copy()\n",
    "org_calib = X_calib.copy()"
   ]
  },
  {
   "cell_type": "markdown",
   "id": "0a4a1b33",
   "metadata": {
    "papermill": {
     "duration": 0.017227,
     "end_time": "2025-07-23T14:36:17.144809",
     "exception": false,
     "start_time": "2025-07-23T14:36:17.127582",
     "status": "completed"
    },
    "tags": []
   },
   "source": [
    "# Preprocessing Data"
   ]
  },
  {
   "cell_type": "code",
   "execution_count": 14,
   "id": "ca879031",
   "metadata": {
    "execution": {
     "iopub.execute_input": "2025-07-23T14:36:17.181767Z",
     "iopub.status.busy": "2025-07-23T14:36:17.181077Z",
     "iopub.status.idle": "2025-07-23T14:36:17.187885Z",
     "shell.execute_reply": "2025-07-23T14:36:17.186667Z"
    },
    "papermill": {
     "duration": 0.027546,
     "end_time": "2025-07-23T14:36:17.189594",
     "exception": false,
     "start_time": "2025-07-23T14:36:17.162048",
     "status": "completed"
    },
    "tags": []
   },
   "outputs": [],
   "source": [
    "# EXCLUDE PROTECTED FEATURES\n",
    "# ----------------------\n",
    "# \"exclude_features\": \"none\", # \"nationality\", \"sex\", \"nationality-sex\"\n",
    "\n",
    "excluded_features = universe[\"exclude_features\"].split(\"-\") # split, e.g.: \"nationality-sex\" -> [\"nationality\", \"sex\"]\n",
    "excluded_features_dictionary = {\n",
    "    \"nationality\": [\"maxdeutsch1\", \"maxdeutsch.Missing.\"],\n",
    "    \"sex\": [\"frau1\"],\n",
    "    \"age\": [\"age\"],\n",
    "}\n"
   ]
  },
  {
   "cell_type": "code",
   "execution_count": 15,
   "id": "b745ac60",
   "metadata": {
    "execution": {
     "iopub.execute_input": "2025-07-23T14:36:17.225618Z",
     "iopub.status.busy": "2025-07-23T14:36:17.224722Z",
     "iopub.status.idle": "2025-07-23T14:36:17.230534Z",
     "shell.execute_reply": "2025-07-23T14:36:17.229716Z"
    },
    "papermill": {
     "duration": 0.025375,
     "end_time": "2025-07-23T14:36:17.232203",
     "exception": false,
     "start_time": "2025-07-23T14:36:17.206828",
     "status": "completed"
    },
    "tags": []
   },
   "outputs": [],
   "source": [
    "# Code nice names to column names\n",
    "\n",
    "excluded_features_columns = [\n",
    "    excluded_features_dictionary[f] for f in excluded_features if len(f) > 0 and f != \"none\"\n",
    "]"
   ]
  },
  {
   "cell_type": "code",
   "execution_count": 16,
   "id": "f84f73a2",
   "metadata": {
    "execution": {
     "iopub.execute_input": "2025-07-23T14:36:17.273164Z",
     "iopub.status.busy": "2025-07-23T14:36:17.272706Z",
     "iopub.status.idle": "2025-07-23T14:36:17.278753Z",
     "shell.execute_reply": "2025-07-23T14:36:17.277814Z"
    },
    "papermill": {
     "duration": 0.028751,
     "end_time": "2025-07-23T14:36:17.280725",
     "exception": false,
     "start_time": "2025-07-23T14:36:17.251974",
     "status": "completed"
    },
    "tags": []
   },
   "outputs": [],
   "source": [
    "from utils import flatten_once\n",
    "\n",
    "excluded_features_columns = flatten_once(excluded_features_columns)"
   ]
  },
  {
   "cell_type": "code",
   "execution_count": 17,
   "id": "884dea22",
   "metadata": {
    "execution": {
     "iopub.execute_input": "2025-07-23T14:36:17.321420Z",
     "iopub.status.busy": "2025-07-23T14:36:17.320474Z",
     "iopub.status.idle": "2025-07-23T14:36:17.326387Z",
     "shell.execute_reply": "2025-07-23T14:36:17.325418Z"
    },
    "papermill": {
     "duration": 0.027533,
     "end_time": "2025-07-23T14:36:17.327998",
     "exception": false,
     "start_time": "2025-07-23T14:36:17.300465",
     "status": "completed"
    },
    "tags": []
   },
   "outputs": [],
   "source": [
    "if len(excluded_features_columns) > 0:\n",
    "    print(f\"Dropping features: {excluded_features_columns}\")\n",
    "    X_train.drop(excluded_features_columns, axis=1, inplace=True)"
   ]
  },
  {
   "cell_type": "code",
   "execution_count": 18,
   "id": "95ab8b16",
   "metadata": {
    "execution": {
     "iopub.execute_input": "2025-07-23T14:36:17.365652Z",
     "iopub.status.busy": "2025-07-23T14:36:17.364687Z",
     "iopub.status.idle": "2025-07-23T14:36:17.371251Z",
     "shell.execute_reply": "2025-07-23T14:36:17.370181Z"
    },
    "papermill": {
     "duration": 0.027104,
     "end_time": "2025-07-23T14:36:17.373070",
     "exception": false,
     "start_time": "2025-07-23T14:36:17.345966",
     "status": "completed"
    },
    "tags": []
   },
   "outputs": [],
   "source": [
    "if len(excluded_features_columns) > 0:\n",
    "    print(f\"Dropping features: {excluded_features_columns}\")\n",
    "    X_test.drop(excluded_features_columns, axis=1, inplace=True)"
   ]
  },
  {
   "cell_type": "code",
   "execution_count": 19,
   "id": "1853aaf5-fb9f-46cb-a2b5-8ea4ae2237e4",
   "metadata": {
    "execution": {
     "iopub.execute_input": "2025-07-23T14:36:17.411542Z",
     "iopub.status.busy": "2025-07-23T14:36:17.411037Z",
     "iopub.status.idle": "2025-07-23T14:36:17.417785Z",
     "shell.execute_reply": "2025-07-23T14:36:17.416684Z"
    },
    "papermill": {
     "duration": 0.026939,
     "end_time": "2025-07-23T14:36:17.419491",
     "exception": false,
     "start_time": "2025-07-23T14:36:17.392552",
     "status": "completed"
    },
    "tags": []
   },
   "outputs": [],
   "source": [
    "if len(excluded_features_columns) > 0:\n",
    "    print(f\"Dropping features: {excluded_features_columns}\")\n",
    "    X_calib.drop(excluded_features_columns, axis=1, inplace=True)"
   ]
  },
  {
   "cell_type": "code",
   "execution_count": 20,
   "id": "76c4dc6d",
   "metadata": {
    "execution": {
     "iopub.execute_input": "2025-07-23T14:36:17.464080Z",
     "iopub.status.busy": "2025-07-23T14:36:17.463505Z",
     "iopub.status.idle": "2025-07-23T14:36:17.469921Z",
     "shell.execute_reply": "2025-07-23T14:36:17.468775Z"
    },
    "papermill": {
     "duration": 0.029983,
     "end_time": "2025-07-23T14:36:17.471717",
     "exception": false,
     "start_time": "2025-07-23T14:36:17.441734",
     "status": "completed"
    },
    "tags": []
   },
   "outputs": [],
   "source": [
    "# EXCLUDE CERTAIN SUBGROUPS\n",
    "# ----------------------\n",
    "\n",
    "mode = universe.get(\"exclude_subgroups\", \"keep-all\") \n",
    "# Fetches the exclude_subgroups setting from the universe dict.\n",
    "# Defaults to \"keep-all\" if the key is missing."
   ]
  },
  {
   "cell_type": "code",
   "execution_count": 21,
   "id": "21994072",
   "metadata": {
    "execution": {
     "iopub.execute_input": "2025-07-23T14:36:17.513637Z",
     "iopub.status.busy": "2025-07-23T14:36:17.513033Z",
     "iopub.status.idle": "2025-07-23T14:36:17.520794Z",
     "shell.execute_reply": "2025-07-23T14:36:17.519706Z"
    },
    "papermill": {
     "duration": 0.030494,
     "end_time": "2025-07-23T14:36:17.522718",
     "exception": false,
     "start_time": "2025-07-23T14:36:17.492224",
     "status": "completed"
    },
    "tags": []
   },
   "outputs": [],
   "source": [
    "if mode == \"keep-all\":\n",
    "    keep_mask = pd.Series(True, index=org_train.index)\n",
    "\n",
    "# org_train contains the original feature columns from features_org (in Simson)\n",
    "# features_org contains unprocessed features, for me X_train at beginning ???\n",
    "# For keep-all, creates a boolean Series (keep_mask) of all True, so no rows are removed.\n",
    "\n",
    "elif mode == \"drop-non-german\":\n",
    "    keep_mask = org_train[\"maxdeutsch1\"] == 1 # ??? what about missing values?\n",
    "\n",
    "else:\n",
    "    raise ValueError(f\"Unsupported mode for exclude_subgroups: {mode}\")\n"
   ]
  },
  {
   "cell_type": "code",
   "execution_count": 22,
   "id": "71651440",
   "metadata": {
    "execution": {
     "iopub.execute_input": "2025-07-23T14:36:17.564697Z",
     "iopub.status.busy": "2025-07-23T14:36:17.564194Z",
     "iopub.status.idle": "2025-07-23T14:36:17.571693Z",
     "shell.execute_reply": "2025-07-23T14:36:17.570588Z"
    },
    "papermill": {
     "duration": 0.030313,
     "end_time": "2025-07-23T14:36:17.573575",
     "exception": false,
     "start_time": "2025-07-23T14:36:17.543262",
     "status": "completed"
    },
    "tags": []
   },
   "outputs": [
    {
     "name": "stdout",
     "output_type": "stream",
     "text": [
      "Dropping 10036 rows (13.38%) where mode='drop-non-german'\n"
     ]
    }
   ],
   "source": [
    "n_drop = (~keep_mask).sum() # Calculates how many rows are set to be dropped\n",
    "if n_drop > 0:\n",
    "    pct = n_drop / len(keep_mask) * 100\n",
    "    print(f\"Dropping {n_drop} rows ({pct:.2f}%) where mode='{mode}'\")"
   ]
  },
  {
   "cell_type": "code",
   "execution_count": 23,
   "id": "5fb8eee5",
   "metadata": {
    "execution": {
     "iopub.execute_input": "2025-07-23T14:36:17.614069Z",
     "iopub.status.busy": "2025-07-23T14:36:17.613574Z",
     "iopub.status.idle": "2025-07-23T14:36:17.647744Z",
     "shell.execute_reply": "2025-07-23T14:36:17.646594Z"
    },
    "papermill": {
     "duration": 0.056784,
     "end_time": "2025-07-23T14:36:17.649929",
     "exception": false,
     "start_time": "2025-07-23T14:36:17.593145",
     "status": "completed"
    },
    "tags": []
   },
   "outputs": [],
   "source": [
    "X_train = X_train[keep_mask]"
   ]
  },
  {
   "cell_type": "code",
   "execution_count": 24,
   "id": "b202bb3a",
   "metadata": {
    "execution": {
     "iopub.execute_input": "2025-07-23T14:36:17.691917Z",
     "iopub.status.busy": "2025-07-23T14:36:17.691039Z",
     "iopub.status.idle": "2025-07-23T14:36:17.699594Z",
     "shell.execute_reply": "2025-07-23T14:36:17.698473Z"
    },
    "papermill": {
     "duration": 0.030855,
     "end_time": "2025-07-23T14:36:17.701376",
     "exception": false,
     "start_time": "2025-07-23T14:36:17.670521",
     "status": "completed"
    },
    "tags": []
   },
   "outputs": [],
   "source": [
    "y_train = y_train[keep_mask]"
   ]
  },
  {
   "cell_type": "markdown",
   "id": "493e2ac3",
   "metadata": {
    "papermill": {
     "duration": 0.020284,
     "end_time": "2025-07-23T14:36:17.742528",
     "exception": false,
     "start_time": "2025-07-23T14:36:17.722244",
     "status": "completed"
    },
    "tags": []
   },
   "source": [
    "# Model Training"
   ]
  },
  {
   "cell_type": "code",
   "execution_count": 25,
   "id": "679e1268",
   "metadata": {
    "execution": {
     "iopub.execute_input": "2025-07-23T14:36:17.786919Z",
     "iopub.status.busy": "2025-07-23T14:36:17.785907Z",
     "iopub.status.idle": "2025-07-23T14:36:17.911970Z",
     "shell.execute_reply": "2025-07-23T14:36:17.910786Z"
    },
    "papermill": {
     "duration": 0.150821,
     "end_time": "2025-07-23T14:36:17.914319",
     "exception": false,
     "start_time": "2025-07-23T14:36:17.763498",
     "status": "completed"
    },
    "tags": []
   },
   "outputs": [],
   "source": [
    "from sklearn.linear_model import LogisticRegression\n",
    "from sklearn.ensemble import GradientBoostingClassifier, RandomForestClassifier\n",
    "\n",
    "if (universe[\"model\"] == \"logreg\"):\n",
    "    model = LogisticRegression() #penalty=\"none\") #, solver=\"newton-cg\", max_iter=1) # include random_state=19 ?\n",
    "elif (universe[\"model\"] == \"penalized_logreg\"):\n",
    "    model = LogisticRegression(penalty=\"l2\", C=1.0) #, solver=\"newton-cg\", max_iter=1)\n",
    "elif (universe[\"model\"] == \"rf\"):\n",
    "    model = RandomForestClassifier(n_estimators=100, n_jobs=-1)\n",
    "elif (universe[\"model\"] == \"gbm\"):\n",
    "    model = GradientBoostingClassifier()\n",
    "elif (universe[\"model\"] == \"elasticnet\"):\n",
    "    model = LogisticRegression(penalty = 'elasticnet', solver = 'saga', l1_ratio = 0.5, max_iter=5000) # which solver to use?\n",
    "else:\n",
    "    raise \"Unsupported universe.model\""
   ]
  },
  {
   "cell_type": "code",
   "execution_count": 26,
   "id": "0cc8f744",
   "metadata": {
    "execution": {
     "iopub.execute_input": "2025-07-23T14:36:17.951213Z",
     "iopub.status.busy": "2025-07-23T14:36:17.950527Z",
     "iopub.status.idle": "2025-07-23T14:36:17.957595Z",
     "shell.execute_reply": "2025-07-23T14:36:17.956547Z"
    },
    "papermill": {
     "duration": 0.024223,
     "end_time": "2025-07-23T14:36:17.959375",
     "exception": false,
     "start_time": "2025-07-23T14:36:17.935152",
     "status": "completed"
    },
    "tags": []
   },
   "outputs": [],
   "source": [
    "import numpy as np\n",
    "from sklearn.pipeline import Pipeline\n",
    "from sklearn.preprocessing import StandardScaler\n",
    "\n",
    "model = Pipeline([\n",
    "    #(\"continuous_processor\", continuous_processor),\n",
    "    #(\"categorical_preprocessor\", categorical_preprocessor),\n",
    "    (\"scale\", StandardScaler() if universe[\"scale\"] == \"scale\" else None), \n",
    "    (\"model\", model),\n",
    "])"
   ]
  },
  {
   "cell_type": "code",
   "execution_count": 27,
   "id": "9442c04d",
   "metadata": {
    "execution": {
     "iopub.execute_input": "2025-07-23T14:36:17.981226Z",
     "iopub.status.busy": "2025-07-23T14:36:17.980778Z",
     "iopub.status.idle": "2025-07-23T14:36:26.799103Z",
     "shell.execute_reply": "2025-07-23T14:36:26.797861Z"
    },
    "papermill": {
     "duration": 8.831175,
     "end_time": "2025-07-23T14:36:26.801174",
     "exception": false,
     "start_time": "2025-07-23T14:36:17.969999",
     "status": "completed"
    },
    "tags": []
   },
   "outputs": [
    {
     "data": {
      "text/html": [
       "<style>#sk-container-id-1 {color: black;background-color: white;}#sk-container-id-1 pre{padding: 0;}#sk-container-id-1 div.sk-toggleable {background-color: white;}#sk-container-id-1 label.sk-toggleable__label {cursor: pointer;display: block;width: 100%;margin-bottom: 0;padding: 0.3em;box-sizing: border-box;text-align: center;}#sk-container-id-1 label.sk-toggleable__label-arrow:before {content: \"▸\";float: left;margin-right: 0.25em;color: #696969;}#sk-container-id-1 label.sk-toggleable__label-arrow:hover:before {color: black;}#sk-container-id-1 div.sk-estimator:hover label.sk-toggleable__label-arrow:before {color: black;}#sk-container-id-1 div.sk-toggleable__content {max-height: 0;max-width: 0;overflow: hidden;text-align: left;background-color: #f0f8ff;}#sk-container-id-1 div.sk-toggleable__content pre {margin: 0.2em;color: black;border-radius: 0.25em;background-color: #f0f8ff;}#sk-container-id-1 input.sk-toggleable__control:checked~div.sk-toggleable__content {max-height: 200px;max-width: 100%;overflow: auto;}#sk-container-id-1 input.sk-toggleable__control:checked~label.sk-toggleable__label-arrow:before {content: \"▾\";}#sk-container-id-1 div.sk-estimator input.sk-toggleable__control:checked~label.sk-toggleable__label {background-color: #d4ebff;}#sk-container-id-1 div.sk-label input.sk-toggleable__control:checked~label.sk-toggleable__label {background-color: #d4ebff;}#sk-container-id-1 input.sk-hidden--visually {border: 0;clip: rect(1px 1px 1px 1px);clip: rect(1px, 1px, 1px, 1px);height: 1px;margin: -1px;overflow: hidden;padding: 0;position: absolute;width: 1px;}#sk-container-id-1 div.sk-estimator {font-family: monospace;background-color: #f0f8ff;border: 1px dotted black;border-radius: 0.25em;box-sizing: border-box;margin-bottom: 0.5em;}#sk-container-id-1 div.sk-estimator:hover {background-color: #d4ebff;}#sk-container-id-1 div.sk-parallel-item::after {content: \"\";width: 100%;border-bottom: 1px solid gray;flex-grow: 1;}#sk-container-id-1 div.sk-label:hover label.sk-toggleable__label {background-color: #d4ebff;}#sk-container-id-1 div.sk-serial::before {content: \"\";position: absolute;border-left: 1px solid gray;box-sizing: border-box;top: 0;bottom: 0;left: 50%;z-index: 0;}#sk-container-id-1 div.sk-serial {display: flex;flex-direction: column;align-items: center;background-color: white;padding-right: 0.2em;padding-left: 0.2em;position: relative;}#sk-container-id-1 div.sk-item {position: relative;z-index: 1;}#sk-container-id-1 div.sk-parallel {display: flex;align-items: stretch;justify-content: center;background-color: white;position: relative;}#sk-container-id-1 div.sk-item::before, #sk-container-id-1 div.sk-parallel-item::before {content: \"\";position: absolute;border-left: 1px solid gray;box-sizing: border-box;top: 0;bottom: 0;left: 50%;z-index: -1;}#sk-container-id-1 div.sk-parallel-item {display: flex;flex-direction: column;z-index: 1;position: relative;background-color: white;}#sk-container-id-1 div.sk-parallel-item:first-child::after {align-self: flex-end;width: 50%;}#sk-container-id-1 div.sk-parallel-item:last-child::after {align-self: flex-start;width: 50%;}#sk-container-id-1 div.sk-parallel-item:only-child::after {width: 0;}#sk-container-id-1 div.sk-dashed-wrapped {border: 1px dashed gray;margin: 0 0.4em 0.5em 0.4em;box-sizing: border-box;padding-bottom: 0.4em;background-color: white;}#sk-container-id-1 div.sk-label label {font-family: monospace;font-weight: bold;display: inline-block;line-height: 1.2em;}#sk-container-id-1 div.sk-label-container {text-align: center;}#sk-container-id-1 div.sk-container {/* jupyter's `normalize.less` sets `[hidden] { display: none; }` but bootstrap.min.css set `[hidden] { display: none !important; }` so we also need the `!important` here to be able to override the default hidden behavior on the sphinx rendered scikit-learn.org. See: https://github.com/scikit-learn/scikit-learn/issues/21755 */display: inline-block !important;position: relative;}#sk-container-id-1 div.sk-text-repr-fallback {display: none;}</style><div id=\"sk-container-id-1\" class=\"sk-top-container\"><div class=\"sk-text-repr-fallback\"><pre>Pipeline(steps=[(&#x27;scale&#x27;, None), (&#x27;model&#x27;, RandomForestClassifier(n_jobs=-1))])</pre><b>In a Jupyter environment, please rerun this cell to show the HTML representation or trust the notebook. <br />On GitHub, the HTML representation is unable to render, please try loading this page with nbviewer.org.</b></div><div class=\"sk-container\" hidden><div class=\"sk-item sk-dashed-wrapped\"><div class=\"sk-label-container\"><div class=\"sk-label sk-toggleable\"><input class=\"sk-toggleable__control sk-hidden--visually\" id=\"sk-estimator-id-1\" type=\"checkbox\" ><label for=\"sk-estimator-id-1\" class=\"sk-toggleable__label sk-toggleable__label-arrow\">Pipeline</label><div class=\"sk-toggleable__content\"><pre>Pipeline(steps=[(&#x27;scale&#x27;, None), (&#x27;model&#x27;, RandomForestClassifier(n_jobs=-1))])</pre></div></div></div><div class=\"sk-serial\"><div class=\"sk-item\"><div class=\"sk-estimator sk-toggleable\"><input class=\"sk-toggleable__control sk-hidden--visually\" id=\"sk-estimator-id-2\" type=\"checkbox\" ><label for=\"sk-estimator-id-2\" class=\"sk-toggleable__label sk-toggleable__label-arrow\">None</label><div class=\"sk-toggleable__content\"><pre>None</pre></div></div></div><div class=\"sk-item\"><div class=\"sk-estimator sk-toggleable\"><input class=\"sk-toggleable__control sk-hidden--visually\" id=\"sk-estimator-id-3\" type=\"checkbox\" ><label for=\"sk-estimator-id-3\" class=\"sk-toggleable__label sk-toggleable__label-arrow\">RandomForestClassifier</label><div class=\"sk-toggleable__content\"><pre>RandomForestClassifier(n_jobs=-1)</pre></div></div></div></div></div></div></div>"
      ],
      "text/plain": [
       "Pipeline(steps=[('scale', None), ('model', RandomForestClassifier(n_jobs=-1))])"
      ]
     },
     "execution_count": 27,
     "metadata": {},
     "output_type": "execute_result"
    }
   ],
   "source": [
    "model.fit(X_train, y_train.values.ravel())"
   ]
  },
  {
   "cell_type": "code",
   "execution_count": 28,
   "id": "af59f8c0",
   "metadata": {
    "execution": {
     "iopub.execute_input": "2025-07-23T14:36:26.879449Z",
     "iopub.status.busy": "2025-07-23T14:36:26.878960Z",
     "iopub.status.idle": "2025-07-23T14:36:26.885934Z",
     "shell.execute_reply": "2025-07-23T14:36:26.884915Z"
    },
    "papermill": {
     "duration": 0.046194,
     "end_time": "2025-07-23T14:36:26.887723",
     "exception": false,
     "start_time": "2025-07-23T14:36:26.841529",
     "status": "completed"
    },
    "tags": []
   },
   "outputs": [],
   "source": [
    "from fairness_multiverse.universe import predict_w_threshold"
   ]
  },
  {
   "cell_type": "code",
   "execution_count": 29,
   "id": "a7cf2e16",
   "metadata": {
    "execution": {
     "iopub.execute_input": "2025-07-23T14:36:26.975608Z",
     "iopub.status.busy": "2025-07-23T14:36:26.975166Z",
     "iopub.status.idle": "2025-07-23T14:36:28.971319Z",
     "shell.execute_reply": "2025-07-23T14:36:28.970230Z"
    },
    "papermill": {
     "duration": 2.035868,
     "end_time": "2025-07-23T14:36:28.973003",
     "exception": false,
     "start_time": "2025-07-23T14:36:26.937135",
     "status": "completed"
    },
    "tags": []
   },
   "outputs": [
    {
     "data": {
      "text/plain": [
       "0.8660350016720544"
      ]
     },
     "execution_count": 29,
     "metadata": {},
     "output_type": "execute_result"
    }
   ],
   "source": [
    "probs_test = model.predict_proba(X_test)\n",
    "\n",
    "'''\n",
    "Below code returns a boolean array (or binary 0/1 array depending on how it’s used) where each element \n",
    "is True if the probability of class 1 is greater than or equal to the threshold, and False otherwise.\n",
    "'''\n",
    "y_pred_default = predict_w_threshold(probs_test, 0.5)\n",
    "\n",
    "from sklearn.metrics import accuracy_score\n",
    "\n",
    "# Naive prediction\n",
    "accuracy_score(y_true = y_true, y_pred = y_pred_default)"
   ]
  },
  {
   "cell_type": "code",
   "execution_count": 30,
   "id": "081964c3",
   "metadata": {
    "execution": {
     "iopub.execute_input": "2025-07-23T14:36:29.044554Z",
     "iopub.status.busy": "2025-07-23T14:36:29.044133Z",
     "iopub.status.idle": "2025-07-23T14:36:31.005191Z",
     "shell.execute_reply": "2025-07-23T14:36:31.004078Z"
    },
    "papermill": {
     "duration": 1.998704,
     "end_time": "2025-07-23T14:36:31.007576",
     "exception": false,
     "start_time": "2025-07-23T14:36:29.008872",
     "status": "completed"
    },
    "tags": []
   },
   "outputs": [
    {
     "data": {
      "text/plain": [
       "array([0, 0, 0, ..., 0, 0, 0])"
      ]
     },
     "execution_count": 30,
     "metadata": {},
     "output_type": "execute_result"
    }
   ],
   "source": [
    "model.predict(X_test)"
   ]
  },
  {
   "cell_type": "markdown",
   "id": "56c9705b",
   "metadata": {
    "papermill": {
     "duration": 0.09022,
     "end_time": "2025-07-23T14:36:31.141315",
     "exception": false,
     "start_time": "2025-07-23T14:36:31.051095",
     "status": "completed"
    },
    "tags": []
   },
   "source": [
    "# Conformal Prediction"
   ]
  },
  {
   "cell_type": "code",
   "execution_count": 31,
   "id": "160ec6ff",
   "metadata": {
    "execution": {
     "iopub.execute_input": "2025-07-23T14:36:31.283381Z",
     "iopub.status.busy": "2025-07-23T14:36:31.282935Z",
     "iopub.status.idle": "2025-07-23T14:36:31.289036Z",
     "shell.execute_reply": "2025-07-23T14:36:31.287978Z"
    },
    "papermill": {
     "duration": 0.070015,
     "end_time": "2025-07-23T14:36:31.291092",
     "exception": false,
     "start_time": "2025-07-23T14:36:31.221077",
     "status": "completed"
    },
    "tags": []
   },
   "outputs": [],
   "source": [
    "# Miscoverage level for conformal prediction (10% allowed error rate => 90% target coverage)\n",
    "alpha = 0.1"
   ]
  },
  {
   "cell_type": "code",
   "execution_count": 32,
   "id": "eadf4555-3dd3-440e-8e35-f82a4ad9f855",
   "metadata": {
    "execution": {
     "iopub.execute_input": "2025-07-23T14:36:31.395266Z",
     "iopub.status.busy": "2025-07-23T14:36:31.394782Z",
     "iopub.status.idle": "2025-07-23T14:36:33.430440Z",
     "shell.execute_reply": "2025-07-23T14:36:33.429356Z"
    },
    "papermill": {
     "duration": 2.091979,
     "end_time": "2025-07-23T14:36:33.433106",
     "exception": false,
     "start_time": "2025-07-23T14:36:31.341127",
     "status": "completed"
    },
    "tags": []
   },
   "outputs": [],
   "source": [
    "probs_calib = model.predict_proba(X_calib)"
   ]
  },
  {
   "cell_type": "code",
   "execution_count": 33,
   "id": "2ed93547-6d5d-4983-9b36-1ecb300da49a",
   "metadata": {
    "execution": {
     "iopub.execute_input": "2025-07-23T14:36:33.519107Z",
     "iopub.status.busy": "2025-07-23T14:36:33.518616Z",
     "iopub.status.idle": "2025-07-23T14:36:33.525725Z",
     "shell.execute_reply": "2025-07-23T14:36:33.524630Z"
    },
    "papermill": {
     "duration": 0.057426,
     "end_time": "2025-07-23T14:36:33.529444",
     "exception": false,
     "start_time": "2025-07-23T14:36:33.472018",
     "status": "completed"
    },
    "tags": []
   },
   "outputs": [],
   "source": [
    "y_calib = y_calib.values.ravel().astype(int)"
   ]
  },
  {
   "cell_type": "code",
   "execution_count": 34,
   "id": "65d1320d-f588-4b38-9072-62af1ae97f7d",
   "metadata": {
    "execution": {
     "iopub.execute_input": "2025-07-23T14:36:33.580849Z",
     "iopub.status.busy": "2025-07-23T14:36:33.580394Z",
     "iopub.status.idle": "2025-07-23T14:36:33.589113Z",
     "shell.execute_reply": "2025-07-23T14:36:33.587893Z"
    },
    "papermill": {
     "duration": 0.038585,
     "end_time": "2025-07-23T14:36:33.593123",
     "exception": false,
     "start_time": "2025-07-23T14:36:33.554538",
     "status": "completed"
    },
    "tags": []
   },
   "outputs": [],
   "source": [
    "from fairness_multiverse.conformal import compute_nc_scores\n",
    "\n",
    "# Compute nonconformity scores on calibration set (1 - probability of true class)\n",
    "nc_scores = compute_nc_scores(probs_calib, y_calib)"
   ]
  },
  {
   "cell_type": "code",
   "execution_count": 35,
   "id": "df3b8ca3-53b7-43d5-9667-7c85da7aeda2",
   "metadata": {
    "execution": {
     "iopub.execute_input": "2025-07-23T14:36:33.667583Z",
     "iopub.status.busy": "2025-07-23T14:36:33.667106Z",
     "iopub.status.idle": "2025-07-23T14:36:33.676749Z",
     "shell.execute_reply": "2025-07-23T14:36:33.675620Z"
    },
    "papermill": {
     "duration": 0.065887,
     "end_time": "2025-07-23T14:36:33.679039",
     "exception": false,
     "start_time": "2025-07-23T14:36:33.613152",
     "status": "completed"
    },
    "tags": []
   },
   "outputs": [],
   "source": [
    "from fairness_multiverse.conformal import find_threshold\n",
    "\n",
    "# Find conformal threshold q_hat for the given alpha (split conformal method)\n",
    "q_hat = find_threshold(nc_scores, alpha)"
   ]
  },
  {
   "cell_type": "code",
   "execution_count": 36,
   "id": "4d29e6c1-0ef6-4aa4-b8fe-4fe79b0d033a",
   "metadata": {
    "execution": {
     "iopub.execute_input": "2025-07-23T14:36:33.781375Z",
     "iopub.status.busy": "2025-07-23T14:36:33.780917Z",
     "iopub.status.idle": "2025-07-23T14:36:33.799207Z",
     "shell.execute_reply": "2025-07-23T14:36:33.797997Z"
    },
    "papermill": {
     "duration": 0.073188,
     "end_time": "2025-07-23T14:36:33.802347",
     "exception": false,
     "start_time": "2025-07-23T14:36:33.729159",
     "status": "completed"
    },
    "tags": []
   },
   "outputs": [
    {
     "data": {
      "text/plain": [
       "0.65"
      ]
     },
     "execution_count": 36,
     "metadata": {},
     "output_type": "execute_result"
    }
   ],
   "source": [
    "q_hat"
   ]
  },
  {
   "cell_type": "code",
   "execution_count": 37,
   "id": "92460794-cdac-4be2-ba28-f28c0515a6fb",
   "metadata": {
    "execution": {
     "iopub.execute_input": "2025-07-23T14:36:33.919219Z",
     "iopub.status.busy": "2025-07-23T14:36:33.918761Z",
     "iopub.status.idle": "2025-07-23T14:36:39.144954Z",
     "shell.execute_reply": "2025-07-23T14:36:39.143662Z"
    },
    "papermill": {
     "duration": 5.286316,
     "end_time": "2025-07-23T14:36:39.147339",
     "exception": false,
     "start_time": "2025-07-23T14:36:33.861023",
     "status": "completed"
    },
    "tags": []
   },
   "outputs": [],
   "source": [
    "from fairness_multiverse.conformal import predict_conformal_sets\n",
    "\n",
    "# Generate prediction sets for each test example\n",
    "pred_sets = predict_conformal_sets(model, X_test, q_hat)"
   ]
  },
  {
   "cell_type": "code",
   "execution_count": 38,
   "id": "d90c9a65-e6db-4f5d-80cd-e68fb7e46829",
   "metadata": {
    "execution": {
     "iopub.execute_input": "2025-07-23T14:36:39.243813Z",
     "iopub.status.busy": "2025-07-23T14:36:39.243336Z",
     "iopub.status.idle": "2025-07-23T14:36:39.251738Z",
     "shell.execute_reply": "2025-07-23T14:36:39.250459Z"
    },
    "papermill": {
     "duration": 0.062484,
     "end_time": "2025-07-23T14:36:39.254003",
     "exception": false,
     "start_time": "2025-07-23T14:36:39.191519",
     "status": "completed"
    },
    "tags": []
   },
   "outputs": [],
   "source": [
    "y_true = y_true.squeeze()"
   ]
  },
  {
   "cell_type": "code",
   "execution_count": 39,
   "id": "3a58a54a-1e68-46b9-927a-df01f18aebc8",
   "metadata": {
    "execution": {
     "iopub.execute_input": "2025-07-23T14:36:39.367346Z",
     "iopub.status.busy": "2025-07-23T14:36:39.366894Z",
     "iopub.status.idle": "2025-07-23T14:36:42.177928Z",
     "shell.execute_reply": "2025-07-23T14:36:42.176638Z"
    },
    "papermill": {
     "duration": 2.863301,
     "end_time": "2025-07-23T14:36:42.180013",
     "exception": false,
     "start_time": "2025-07-23T14:36:39.316712",
     "status": "completed"
    },
    "tags": []
   },
   "outputs": [],
   "source": [
    "from fairness_multiverse.conformal import evaluate_sets\n",
    "\n",
    "# Evaluate coverage and average set size on test data\n",
    "metrics = evaluate_sets(pred_sets, y_true)"
   ]
  },
  {
   "cell_type": "code",
   "execution_count": 40,
   "id": "5ce0a5cb-201f-45a0-ade5-94c7f0bd6095",
   "metadata": {
    "execution": {
     "iopub.execute_input": "2025-07-23T14:36:42.377279Z",
     "iopub.status.busy": "2025-07-23T14:36:42.376817Z",
     "iopub.status.idle": "2025-07-23T14:36:42.384875Z",
     "shell.execute_reply": "2025-07-23T14:36:42.383752Z"
    },
    "papermill": {
     "duration": 0.117949,
     "end_time": "2025-07-23T14:36:42.386776",
     "exception": false,
     "start_time": "2025-07-23T14:36:42.268827",
     "status": "completed"
    },
    "tags": []
   },
   "outputs": [
    {
     "data": {
      "text/plain": [
       "{'coverage': 0.9157173113365288, 'avg_size': 1.1460149370192843}"
      ]
     },
     "execution_count": 40,
     "metadata": {},
     "output_type": "execute_result"
    }
   ],
   "source": [
    "metrics"
   ]
  },
  {
   "cell_type": "code",
   "execution_count": 41,
   "id": "9b9a838d-31c9-430b-ae14-12baee460d17",
   "metadata": {
    "execution": {
     "iopub.execute_input": "2025-07-23T14:36:42.568868Z",
     "iopub.status.busy": "2025-07-23T14:36:42.568407Z",
     "iopub.status.idle": "2025-07-23T14:36:42.575697Z",
     "shell.execute_reply": "2025-07-23T14:36:42.574425Z"
    },
    "papermill": {
     "duration": 0.089127,
     "end_time": "2025-07-23T14:36:42.577540",
     "exception": false,
     "start_time": "2025-07-23T14:36:42.488413",
     "status": "completed"
    },
    "tags": []
   },
   "outputs": [],
   "source": [
    "example_universe = universe.copy()\n",
    "universe_model = example_universe.get(\"model\")\n",
    "universe_exclude_features = example_universe.get(\"exclude_features\")\n",
    "universe_exclude_subgroups = example_universe.get(\"exclude_subgroups\")\n",
    "universe_scale = example_universe.get(\"scale\")"
   ]
  },
  {
   "cell_type": "code",
   "execution_count": 42,
   "id": "f4b6a8ac-9dc0-4245-8a91-5b3b5999c4f9",
   "metadata": {
    "execution": {
     "iopub.execute_input": "2025-07-23T14:36:42.752888Z",
     "iopub.status.busy": "2025-07-23T14:36:42.752407Z",
     "iopub.status.idle": "2025-07-23T14:36:42.759875Z",
     "shell.execute_reply": "2025-07-23T14:36:42.758542Z"
    },
    "papermill": {
     "duration": 0.082851,
     "end_time": "2025-07-23T14:36:42.763540",
     "exception": false,
     "start_time": "2025-07-23T14:36:42.680689",
     "status": "completed"
    },
    "tags": []
   },
   "outputs": [],
   "source": [
    "cp_metrics_dict = {\n",
    "    \"universe_id\": [universe_id],\n",
    "    \"universe_model\": [universe_model],\n",
    "    \"universe_exclude_features\": [universe_exclude_features],\n",
    "    \"universe_exclude_subgroups\": [universe_exclude_subgroups],\n",
    "    \"universe_scale\": [universe_scale],\n",
    "    \"q_hat\": [q_hat],\n",
    "    \"coverage\": [metrics[\"coverage\"]],\n",
    "    \"avg_size\": [metrics[\"avg_size\"]],\n",
    "}"
   ]
  },
  {
   "cell_type": "code",
   "execution_count": 43,
   "id": "908acbb1-0371-4915-85ca-3fa520d2efe2",
   "metadata": {
    "execution": {
     "iopub.execute_input": "2025-07-23T14:36:42.921439Z",
     "iopub.status.busy": "2025-07-23T14:36:42.920980Z",
     "iopub.status.idle": "2025-07-23T14:36:42.930307Z",
     "shell.execute_reply": "2025-07-23T14:36:42.929226Z"
    },
    "papermill": {
     "duration": 0.086197,
     "end_time": "2025-07-23T14:36:42.934899",
     "exception": false,
     "start_time": "2025-07-23T14:36:42.848702",
     "status": "completed"
    },
    "tags": []
   },
   "outputs": [
    {
     "data": {
      "text/plain": [
       "{'universe_id': ['777d87c9eea575626f6230fc91836028'],\n",
       " 'universe_model': ['rf'],\n",
       " 'universe_exclude_features': ['none'],\n",
       " 'universe_exclude_subgroups': ['drop-non-german'],\n",
       " 'universe_scale': ['do-not-scale'],\n",
       " 'q_hat': [0.65],\n",
       " 'coverage': [0.9157173113365288],\n",
       " 'avg_size': [1.1460149370192843]}"
      ]
     },
     "execution_count": 43,
     "metadata": {},
     "output_type": "execute_result"
    }
   ],
   "source": [
    "cp_metrics_dict"
   ]
  },
  {
   "cell_type": "code",
   "execution_count": 44,
   "id": "33007efc-14e9-4ec6-97ac-56a455c82265",
   "metadata": {
    "execution": {
     "iopub.execute_input": "2025-07-23T14:36:43.126910Z",
     "iopub.status.busy": "2025-07-23T14:36:43.126468Z",
     "iopub.status.idle": "2025-07-23T14:36:43.135062Z",
     "shell.execute_reply": "2025-07-23T14:36:43.133973Z"
    },
    "papermill": {
     "duration": 0.094195,
     "end_time": "2025-07-23T14:36:43.138925",
     "exception": false,
     "start_time": "2025-07-23T14:36:43.044730",
     "status": "completed"
    },
    "tags": []
   },
   "outputs": [],
   "source": [
    "cp_metrics_df = pd.DataFrame(cp_metrics_dict)"
   ]
  },
  {
   "cell_type": "code",
   "execution_count": 45,
   "id": "db12611b-57b2-4910-b9d0-355adfd6e7bf",
   "metadata": {
    "execution": {
     "iopub.execute_input": "2025-07-23T14:36:43.350875Z",
     "iopub.status.busy": "2025-07-23T14:36:43.350396Z",
     "iopub.status.idle": "2025-07-23T14:36:43.403033Z",
     "shell.execute_reply": "2025-07-23T14:36:43.401876Z"
    },
    "papermill": {
     "duration": 0.160751,
     "end_time": "2025-07-23T14:36:43.405454",
     "exception": false,
     "start_time": "2025-07-23T14:36:43.244703",
     "status": "completed"
    },
    "tags": []
   },
   "outputs": [
    {
     "data": {
      "text/html": [
       "<div>\n",
       "<style scoped>\n",
       "    .dataframe tbody tr th:only-of-type {\n",
       "        vertical-align: middle;\n",
       "    }\n",
       "\n",
       "    .dataframe tbody tr th {\n",
       "        vertical-align: top;\n",
       "    }\n",
       "\n",
       "    .dataframe thead th {\n",
       "        text-align: right;\n",
       "    }\n",
       "</style>\n",
       "<table border=\"1\" class=\"dataframe\">\n",
       "  <thead>\n",
       "    <tr style=\"text-align: right;\">\n",
       "      <th></th>\n",
       "      <th>universe_id</th>\n",
       "      <th>universe_model</th>\n",
       "      <th>universe_exclude_features</th>\n",
       "      <th>universe_exclude_subgroups</th>\n",
       "      <th>universe_scale</th>\n",
       "      <th>q_hat</th>\n",
       "      <th>coverage</th>\n",
       "      <th>avg_size</th>\n",
       "    </tr>\n",
       "  </thead>\n",
       "  <tbody>\n",
       "    <tr>\n",
       "      <th>0</th>\n",
       "      <td>777d87c9eea575626f6230fc91836028</td>\n",
       "      <td>rf</td>\n",
       "      <td>none</td>\n",
       "      <td>drop-non-german</td>\n",
       "      <td>do-not-scale</td>\n",
       "      <td>0.65</td>\n",
       "      <td>0.915717</td>\n",
       "      <td>1.146015</td>\n",
       "    </tr>\n",
       "  </tbody>\n",
       "</table>\n",
       "</div>"
      ],
      "text/plain": [
       "                        universe_id universe_model universe_exclude_features  \\\n",
       "0  777d87c9eea575626f6230fc91836028             rf                      none   \n",
       "\n",
       "  universe_exclude_subgroups universe_scale  q_hat  coverage  avg_size  \n",
       "0            drop-non-german   do-not-scale   0.65  0.915717  1.146015  "
      ]
     },
     "execution_count": 45,
     "metadata": {},
     "output_type": "execute_result"
    }
   ],
   "source": [
    "cp_metrics_df"
   ]
  },
  {
   "cell_type": "code",
   "execution_count": 46,
   "id": "b7fbde55-a0a1-47e4-9af6-fe4a17fa8c61",
   "metadata": {
    "execution": {
     "iopub.execute_input": "2025-07-23T14:36:43.566055Z",
     "iopub.status.busy": "2025-07-23T14:36:43.565588Z",
     "iopub.status.idle": "2025-07-23T14:36:43.571999Z",
     "shell.execute_reply": "2025-07-23T14:36:43.570817Z"
    },
    "papermill": {
     "duration": 0.098931,
     "end_time": "2025-07-23T14:36:43.575628",
     "exception": false,
     "start_time": "2025-07-23T14:36:43.476697",
     "status": "completed"
    },
    "tags": []
   },
   "outputs": [],
   "source": [
    "# Conditional Coverage & looking at subgroups"
   ]
  },
  {
   "cell_type": "code",
   "execution_count": 47,
   "id": "027ae886-68dd-4141-96c7-805a5450e1ef",
   "metadata": {
    "execution": {
     "iopub.execute_input": "2025-07-23T14:36:43.762887Z",
     "iopub.status.busy": "2025-07-23T14:36:43.762437Z",
     "iopub.status.idle": "2025-07-23T14:36:44.403338Z",
     "shell.execute_reply": "2025-07-23T14:36:44.402203Z"
    },
    "papermill": {
     "duration": 0.724996,
     "end_time": "2025-07-23T14:36:44.405703",
     "exception": false,
     "start_time": "2025-07-23T14:36:43.680707",
     "status": "completed"
    },
    "tags": []
   },
   "outputs": [],
   "source": [
    "from fairness_multiverse.conformal import build_cp_groups\n",
    "\n",
    "cp_groups_df = build_cp_groups(pred_sets, y_true, X_test.index, org_test)\n",
    "#needs universe_id and setting"
   ]
  },
  {
   "cell_type": "code",
   "execution_count": 48,
   "id": "c3b92545-903e-4839-89af-0f057907d7d6",
   "metadata": {
    "execution": {
     "iopub.execute_input": "2025-07-23T14:36:44.564201Z",
     "iopub.status.busy": "2025-07-23T14:36:44.563748Z",
     "iopub.status.idle": "2025-07-23T14:36:49.310724Z",
     "shell.execute_reply": "2025-07-23T14:36:49.309644Z"
    },
    "papermill": {
     "duration": 4.831468,
     "end_time": "2025-07-23T14:36:49.312771",
     "exception": false,
     "start_time": "2025-07-23T14:36:44.481303",
     "status": "completed"
    },
    "tags": []
   },
   "outputs": [],
   "source": [
    "# Define covered = 1 if true_label is in the predicted set\n",
    "cp_groups_df['covered'] = cp_groups_df.apply(\n",
    "    lambda r: int(r['true_label'] in r['pred_set']),\n",
    "    axis=1\n",
    ")"
   ]
  },
  {
   "cell_type": "code",
   "execution_count": 49,
   "id": "338ff529-1a6b-4b87-a931-8e4788d52aad",
   "metadata": {
    "execution": {
     "iopub.execute_input": "2025-07-23T14:36:49.467689Z",
     "iopub.status.busy": "2025-07-23T14:36:49.467236Z",
     "iopub.status.idle": "2025-07-23T14:36:49.472828Z",
     "shell.execute_reply": "2025-07-23T14:36:49.471846Z"
    },
    "papermill": {
     "duration": 0.107565,
     "end_time": "2025-07-23T14:36:49.474593",
     "exception": false,
     "start_time": "2025-07-23T14:36:49.367028",
     "status": "completed"
    },
    "tags": []
   },
   "outputs": [],
   "source": [
    "#cp_groups_df"
   ]
  },
  {
   "cell_type": "code",
   "execution_count": 50,
   "id": "90032e27-66df-4540-9169-4e89cfbaa758",
   "metadata": {
    "execution": {
     "iopub.execute_input": "2025-07-23T14:36:49.671596Z",
     "iopub.status.busy": "2025-07-23T14:36:49.671165Z",
     "iopub.status.idle": "2025-07-23T14:36:49.685755Z",
     "shell.execute_reply": "2025-07-23T14:36:49.684682Z"
    },
    "papermill": {
     "duration": 0.111203,
     "end_time": "2025-07-23T14:36:49.687876",
     "exception": false,
     "start_time": "2025-07-23T14:36:49.576673",
     "status": "completed"
    },
    "tags": []
   },
   "outputs": [],
   "source": [
    "subgroups = ['frau1','nongerman','nongerman_male','nongerman_female']\n",
    "\n",
    "# Conditional coverage for subgroup==1\n",
    "cond_coverage = {\n",
    "    g: cp_groups_df.loc[cp_groups_df[g]==1, 'covered'].mean()\n",
    "    for g in subgroups\n",
    "}"
   ]
  },
  {
   "cell_type": "code",
   "execution_count": 51,
   "id": "1e348fb1-b9c3-45bc-ba23-f016827a7e0d",
   "metadata": {
    "execution": {
     "iopub.execute_input": "2025-07-23T14:36:49.902544Z",
     "iopub.status.busy": "2025-07-23T14:36:49.902121Z",
     "iopub.status.idle": "2025-07-23T14:36:49.909725Z",
     "shell.execute_reply": "2025-07-23T14:36:49.908221Z"
    },
    "papermill": {
     "duration": 0.151117,
     "end_time": "2025-07-23T14:36:49.915947",
     "exception": false,
     "start_time": "2025-07-23T14:36:49.764830",
     "status": "completed"
    },
    "tags": []
   },
   "outputs": [
    {
     "data": {
      "text/plain": [
       "{'frau1': 0.9168081951745518,\n",
       " 'nongerman': 0.909841127266603,\n",
       " 'nongerman_male': 0.9234441142033685,\n",
       " 'nongerman_female': 0.8873323397913562}"
      ]
     },
     "execution_count": 51,
     "metadata": {},
     "output_type": "execute_result"
    }
   ],
   "source": [
    "cond_coverage"
   ]
  },
  {
   "cell_type": "code",
   "execution_count": 52,
   "id": "f5093324-c3dd-4d63-bc4c-8d945e5c8bbb",
   "metadata": {
    "execution": {
     "iopub.execute_input": "2025-07-23T14:36:50.101669Z",
     "iopub.status.busy": "2025-07-23T14:36:50.101242Z",
     "iopub.status.idle": "2025-07-23T14:36:50.119963Z",
     "shell.execute_reply": "2025-07-23T14:36:50.118825Z"
    },
    "papermill": {
     "duration": 0.108072,
     "end_time": "2025-07-23T14:36:50.122209",
     "exception": false,
     "start_time": "2025-07-23T14:36:50.014137",
     "status": "completed"
    },
    "tags": []
   },
   "outputs": [],
   "source": [
    "for subgroup, cov in cond_coverage.items():\n",
    "    cp_metrics_df[f\"cov_{subgroup}\"] = cov"
   ]
  },
  {
   "cell_type": "code",
   "execution_count": 53,
   "id": "6e872e10-dbe5-49e8-b554-5030c98ff75d",
   "metadata": {
    "execution": {
     "iopub.execute_input": "2025-07-23T14:36:50.311445Z",
     "iopub.status.busy": "2025-07-23T14:36:50.311007Z",
     "iopub.status.idle": "2025-07-23T14:36:50.353736Z",
     "shell.execute_reply": "2025-07-23T14:36:50.352633Z"
    },
    "papermill": {
     "duration": 0.149139,
     "end_time": "2025-07-23T14:36:50.365912",
     "exception": false,
     "start_time": "2025-07-23T14:36:50.216773",
     "status": "completed"
    },
    "tags": []
   },
   "outputs": [
    {
     "data": {
      "text/html": [
       "<div>\n",
       "<style scoped>\n",
       "    .dataframe tbody tr th:only-of-type {\n",
       "        vertical-align: middle;\n",
       "    }\n",
       "\n",
       "    .dataframe tbody tr th {\n",
       "        vertical-align: top;\n",
       "    }\n",
       "\n",
       "    .dataframe thead th {\n",
       "        text-align: right;\n",
       "    }\n",
       "</style>\n",
       "<table border=\"1\" class=\"dataframe\">\n",
       "  <thead>\n",
       "    <tr style=\"text-align: right;\">\n",
       "      <th></th>\n",
       "      <th>universe_id</th>\n",
       "      <th>universe_model</th>\n",
       "      <th>universe_exclude_features</th>\n",
       "      <th>universe_exclude_subgroups</th>\n",
       "      <th>universe_scale</th>\n",
       "      <th>q_hat</th>\n",
       "      <th>coverage</th>\n",
       "      <th>avg_size</th>\n",
       "      <th>cov_frau1</th>\n",
       "      <th>cov_nongerman</th>\n",
       "      <th>cov_nongerman_male</th>\n",
       "      <th>cov_nongerman_female</th>\n",
       "    </tr>\n",
       "  </thead>\n",
       "  <tbody>\n",
       "    <tr>\n",
       "      <th>0</th>\n",
       "      <td>777d87c9eea575626f6230fc91836028</td>\n",
       "      <td>rf</td>\n",
       "      <td>none</td>\n",
       "      <td>drop-non-german</td>\n",
       "      <td>do-not-scale</td>\n",
       "      <td>0.65</td>\n",
       "      <td>0.915717</td>\n",
       "      <td>1.146015</td>\n",
       "      <td>0.916808</td>\n",
       "      <td>0.909841</td>\n",
       "      <td>0.923444</td>\n",
       "      <td>0.887332</td>\n",
       "    </tr>\n",
       "  </tbody>\n",
       "</table>\n",
       "</div>"
      ],
      "text/plain": [
       "                        universe_id universe_model universe_exclude_features  \\\n",
       "0  777d87c9eea575626f6230fc91836028             rf                      none   \n",
       "\n",
       "  universe_exclude_subgroups universe_scale  q_hat  coverage  avg_size  \\\n",
       "0            drop-non-german   do-not-scale   0.65  0.915717  1.146015   \n",
       "\n",
       "   cov_frau1  cov_nongerman  cov_nongerman_male  cov_nongerman_female  \n",
       "0   0.916808       0.909841            0.923444              0.887332  "
      ]
     },
     "execution_count": 53,
     "metadata": {},
     "output_type": "execute_result"
    }
   ],
   "source": [
    "cp_metrics_df"
   ]
  },
  {
   "cell_type": "markdown",
   "id": "33774451",
   "metadata": {
    "papermill": {
     "duration": 0.105626,
     "end_time": "2025-07-23T14:36:50.539089",
     "exception": false,
     "start_time": "2025-07-23T14:36:50.433463",
     "status": "completed"
    },
    "tags": []
   },
   "source": [
    "# (Fairness) Metrics"
   ]
  },
  {
   "cell_type": "code",
   "execution_count": 54,
   "id": "debc5d62",
   "metadata": {
    "execution": {
     "iopub.execute_input": "2025-07-23T14:36:50.668021Z",
     "iopub.status.busy": "2025-07-23T14:36:50.667600Z",
     "iopub.status.idle": "2025-07-23T14:36:50.767097Z",
     "shell.execute_reply": "2025-07-23T14:36:50.765824Z"
    },
    "papermill": {
     "duration": 0.160087,
     "end_time": "2025-07-23T14:36:50.769162",
     "exception": false,
     "start_time": "2025-07-23T14:36:50.609075",
     "status": "completed"
    },
    "tags": []
   },
   "outputs": [],
   "source": [
    "# do I need to include maxdeutsch1.missing?\n",
    "\n",
    "import numpy as np\n",
    "\n",
    "colname_to_bin = \"maxdeutsch1\"\n",
    "majority_value = org_train[colname_to_bin].mode()[0]\n",
    "\n",
    "org_test[\"majmin\"] = np.where(org_test[colname_to_bin] == majority_value, \"majority\", \"minority\")"
   ]
  },
  {
   "cell_type": "code",
   "execution_count": 55,
   "id": "06a50de5",
   "metadata": {
    "execution": {
     "iopub.execute_input": "2025-07-23T14:36:50.914893Z",
     "iopub.status.busy": "2025-07-23T14:36:50.914424Z",
     "iopub.status.idle": "2025-07-23T14:36:58.133072Z",
     "shell.execute_reply": "2025-07-23T14:36:58.122037Z"
    },
    "papermill": {
     "duration": 7.302368,
     "end_time": "2025-07-23T14:36:58.135073",
     "exception": false,
     "start_time": "2025-07-23T14:36:50.832705",
     "status": "completed"
    },
    "tags": []
   },
   "outputs": [],
   "source": [
    "example_universe = universe.copy()\n",
    "example_universe[\"cutoff\"] = example_universe[\"cutoff\"][0]\n",
    "example_universe[\"eval_fairness_grouping\"] = example_universe[\"eval_fairness_grouping\"][0]\n",
    "fairness_dict, metric_frame = universe_analysis.compute_metrics(\n",
    "    example_universe,\n",
    "    y_pred_prob=probs_test,\n",
    "    y_test=y_true,\n",
    "    org_test=org_test,\n",
    ")"
   ]
  },
  {
   "cell_type": "markdown",
   "id": "f95d4e02",
   "metadata": {
    "papermill": {
     "duration": 0.103571,
     "end_time": "2025-07-23T14:36:58.289342",
     "exception": false,
     "start_time": "2025-07-23T14:36:58.185771",
     "status": "completed"
    },
    "tags": []
   },
   "source": [
    "# Overall"
   ]
  },
  {
   "cell_type": "markdown",
   "id": "bdee4871",
   "metadata": {
    "papermill": {
     "duration": 0.05499,
     "end_time": "2025-07-23T14:36:58.392408",
     "exception": false,
     "start_time": "2025-07-23T14:36:58.337418",
     "status": "completed"
    },
    "tags": []
   },
   "source": [
    "Fairness\n",
    "Main fairness target: Equalized Odds. Seems to be a better fit than equal opportunity, since we're not only interested in Y = 1. Seems to be a better fit than demographic parity, since we also care about accuracy, not just equal distribution of preds.\n",
    "\n",
    "Pick column for computation of fairness metrics\n",
    "\n",
    "Performance\n",
    "Overall performance measures, most interesting in relation to the measures split by group below"
   ]
  },
  {
   "cell_type": "code",
   "execution_count": 56,
   "id": "c4e067c6",
   "metadata": {
    "execution": {
     "iopub.execute_input": "2025-07-23T14:36:58.498910Z",
     "iopub.status.busy": "2025-07-23T14:36:58.498436Z",
     "iopub.status.idle": "2025-07-23T14:36:58.509414Z",
     "shell.execute_reply": "2025-07-23T14:36:58.508170Z"
    },
    "papermill": {
     "duration": 0.095603,
     "end_time": "2025-07-23T14:36:58.514470",
     "exception": false,
     "start_time": "2025-07-23T14:36:58.418867",
     "status": "completed"
    },
    "tags": []
   },
   "outputs": [
    {
     "data": {
      "text/plain": [
       "accuracy                   0.194482\n",
       "balanced accuracy          0.530524\n",
       "f1                         0.238351\n",
       "precision                  0.135626\n",
       "false positive rate        0.921485\n",
       "false negative rate        0.017466\n",
       "selection rate             0.929317\n",
       "count                  89710.000000\n",
       "dtype: float64"
      ]
     },
     "execution_count": 56,
     "metadata": {},
     "output_type": "execute_result"
    }
   ],
   "source": [
    "metric_frame.overall"
   ]
  },
  {
   "cell_type": "markdown",
   "id": "e968fe9d",
   "metadata": {
    "papermill": {
     "duration": 0.043218,
     "end_time": "2025-07-23T14:36:58.613580",
     "exception": false,
     "start_time": "2025-07-23T14:36:58.570362",
     "status": "completed"
    },
    "tags": []
   },
   "source": [
    "By Group"
   ]
  },
  {
   "cell_type": "code",
   "execution_count": 57,
   "id": "ec325bce",
   "metadata": {
    "execution": {
     "iopub.execute_input": "2025-07-23T14:36:58.667002Z",
     "iopub.status.busy": "2025-07-23T14:36:58.666555Z",
     "iopub.status.idle": "2025-07-23T14:36:58.690128Z",
     "shell.execute_reply": "2025-07-23T14:36:58.689130Z"
    },
    "papermill": {
     "duration": 0.053096,
     "end_time": "2025-07-23T14:36:58.692163",
     "exception": false,
     "start_time": "2025-07-23T14:36:58.639067",
     "status": "completed"
    },
    "tags": []
   },
   "outputs": [
    {
     "data": {
      "text/html": [
       "<div>\n",
       "<style scoped>\n",
       "    .dataframe tbody tr th:only-of-type {\n",
       "        vertical-align: middle;\n",
       "    }\n",
       "\n",
       "    .dataframe tbody tr th {\n",
       "        vertical-align: top;\n",
       "    }\n",
       "\n",
       "    .dataframe thead th {\n",
       "        text-align: right;\n",
       "    }\n",
       "</style>\n",
       "<table border=\"1\" class=\"dataframe\">\n",
       "  <thead>\n",
       "    <tr style=\"text-align: right;\">\n",
       "      <th></th>\n",
       "      <th>accuracy</th>\n",
       "      <th>balanced accuracy</th>\n",
       "      <th>f1</th>\n",
       "      <th>precision</th>\n",
       "      <th>false positive rate</th>\n",
       "      <th>false negative rate</th>\n",
       "      <th>selection rate</th>\n",
       "      <th>count</th>\n",
       "    </tr>\n",
       "    <tr>\n",
       "      <th>majmin</th>\n",
       "      <th></th>\n",
       "      <th></th>\n",
       "      <th></th>\n",
       "      <th></th>\n",
       "      <th></th>\n",
       "      <th></th>\n",
       "      <th></th>\n",
       "      <th></th>\n",
       "    </tr>\n",
       "  </thead>\n",
       "  <tbody>\n",
       "    <tr>\n",
       "      <th>majority</th>\n",
       "      <td>0.188160</td>\n",
       "      <td>0.528658</td>\n",
       "      <td>0.243999</td>\n",
       "      <td>0.139118</td>\n",
       "      <td>0.93415</td>\n",
       "      <td>0.008534</td>\n",
       "      <td>0.941723</td>\n",
       "      <td>69170.0</td>\n",
       "    </tr>\n",
       "    <tr>\n",
       "      <th>minority</th>\n",
       "      <td>0.215774</td>\n",
       "      <td>0.534204</td>\n",
       "      <td>0.217982</td>\n",
       "      <td>0.123149</td>\n",
       "      <td>0.87965</td>\n",
       "      <td>0.051943</td>\n",
       "      <td>0.887537</td>\n",
       "      <td>20540.0</td>\n",
       "    </tr>\n",
       "  </tbody>\n",
       "</table>\n",
       "</div>"
      ],
      "text/plain": [
       "          accuracy  balanced accuracy        f1  precision  \\\n",
       "majmin                                                       \n",
       "majority  0.188160           0.528658  0.243999   0.139118   \n",
       "minority  0.215774           0.534204  0.217982   0.123149   \n",
       "\n",
       "          false positive rate  false negative rate  selection rate    count  \n",
       "majmin                                                                       \n",
       "majority              0.93415             0.008534        0.941723  69170.0  \n",
       "minority              0.87965             0.051943        0.887537  20540.0  "
      ]
     },
     "execution_count": 57,
     "metadata": {},
     "output_type": "execute_result"
    }
   ],
   "source": [
    "metric_frame.by_group"
   ]
  },
  {
   "cell_type": "code",
   "execution_count": 58,
   "id": "a9ddbe63",
   "metadata": {
    "execution": {
     "iopub.execute_input": "2025-07-23T14:36:58.746326Z",
     "iopub.status.busy": "2025-07-23T14:36:58.745853Z",
     "iopub.status.idle": "2025-07-23T14:37:03.791988Z",
     "shell.execute_reply": "2025-07-23T14:37:03.790853Z"
    },
    "papermill": {
     "duration": 5.075697,
     "end_time": "2025-07-23T14:37:03.794289",
     "exception": false,
     "start_time": "2025-07-23T14:36:58.718592",
     "status": "completed"
    },
    "tags": []
   },
   "outputs": [
    {
     "data": {
      "text/plain": [
       "array([[<Axes: title={'center': 'accuracy'}, xlabel='majmin'>,\n",
       "        <Axes: title={'center': 'balanced accuracy'}, xlabel='majmin'>,\n",
       "        <Axes: title={'center': 'f1'}, xlabel='majmin'>],\n",
       "       [<Axes: title={'center': 'precision'}, xlabel='majmin'>,\n",
       "        <Axes: title={'center': 'false positive rate'}, xlabel='majmin'>,\n",
       "        <Axes: title={'center': 'false negative rate'}, xlabel='majmin'>],\n",
       "       [<Axes: title={'center': 'selection rate'}, xlabel='majmin'>,\n",
       "        <Axes: title={'center': 'count'}, xlabel='majmin'>,\n",
       "        <Axes: xlabel='majmin'>]], dtype=object)"
      ]
     },
     "execution_count": 58,
     "metadata": {},
     "output_type": "execute_result"
    },
    {
     "data": {
      "image/png": "[encoded data removed]",
      "text/plain": [
       "<Figure size 1200x800 with 9 Axes>"
      ]
     },
     "metadata": {},
     "output_type": "display_data"
    }
   ],
   "source": [
    "# In a graphic\n",
    "metric_frame.by_group.plot.bar(\n",
    "    subplots=True,\n",
    "    layout=[3, 3],\n",
    "    legend=False,\n",
    "    figsize=[12, 8],\n",
    "    title=\"Show all metrics\",\n",
    ")"
   ]
  },
  {
   "cell_type": "markdown",
   "id": "f57a0bac",
   "metadata": {
    "papermill": {
     "duration": 0.088828,
     "end_time": "2025-07-23T14:37:03.929504",
     "exception": false,
     "start_time": "2025-07-23T14:37:03.840676",
     "status": "completed"
    },
    "tags": []
   },
   "source": [
    "# Final Output"
   ]
  },
  {
   "cell_type": "code",
   "execution_count": 59,
   "id": "96d280a3",
   "metadata": {
    "execution": {
     "iopub.execute_input": "2025-07-23T14:37:04.114659Z",
     "iopub.status.busy": "2025-07-23T14:37:04.112913Z",
     "iopub.status.idle": "2025-07-23T14:37:04.123573Z",
     "shell.execute_reply": "2025-07-23T14:37:04.122527Z"
    },
    "papermill": {
     "duration": 0.115859,
     "end_time": "2025-07-23T14:37:04.125283",
     "exception": false,
     "start_time": "2025-07-23T14:37:04.009424",
     "status": "completed"
    },
    "tags": []
   },
   "outputs": [
    {
     "data": {
      "text/plain": [
       "4"
      ]
     },
     "execution_count": 59,
     "metadata": {},
     "output_type": "execute_result"
    }
   ],
   "source": [
    "sub_universes = universe_analysis.generate_sub_universes()\n",
    "len(sub_universes)"
   ]
  },
  {
   "cell_type": "code",
   "execution_count": 60,
   "id": "92adf7ba",
   "metadata": {
    "execution": {
     "iopub.execute_input": "2025-07-23T14:37:04.281985Z",
     "iopub.status.busy": "2025-07-23T14:37:04.281555Z",
     "iopub.status.idle": "2025-07-23T14:37:04.288622Z",
     "shell.execute_reply": "2025-07-23T14:37:04.287462Z"
    },
    "papermill": {
     "duration": 0.087183,
     "end_time": "2025-07-23T14:37:04.290367",
     "exception": false,
     "start_time": "2025-07-23T14:37:04.203184",
     "status": "completed"
    },
    "tags": []
   },
   "outputs": [],
   "source": [
    "def filter_sub_universe_data(sub_universe, org_test):\n",
    "    # Keep all rows — no filtering\n",
    "    keep_rows_mask = np.ones(org_test.shape[0], dtype=bool)\n",
    "\n",
    "    print(f\"[INFO] Keeping all rows: {keep_rows_mask.sum()} rows retained.\")\n",
    "    return keep_rows_mask"
   ]
  },
  {
   "cell_type": "code",
   "execution_count": 61,
   "id": "4a759155",
   "metadata": {
    "execution": {
     "iopub.execute_input": "2025-07-23T14:37:04.450426Z",
     "iopub.status.busy": "2025-07-23T14:37:04.449996Z",
     "iopub.status.idle": "2025-07-23T14:37:19.782851Z",
     "shell.execute_reply": "2025-07-23T14:37:19.781807Z"
    },
    "papermill": {
     "duration": 15.432838,
     "end_time": "2025-07-23T14:37:19.784757",
     "exception": false,
     "start_time": "2025-07-23T14:37:04.351919",
     "status": "completed"
    },
    "tags": []
   },
   "outputs": [
    {
     "name": "stdout",
     "output_type": "stream",
     "text": [
      "Stopping execution_time clock.\n",
      "[INFO] Keeping all rows: 89710 rows retained.\n"
     ]
    },
    {
     "name": "stdout",
     "output_type": "stream",
     "text": [
      "[INFO] Keeping all rows: 89710 rows retained.\n"
     ]
    },
    {
     "name": "stdout",
     "output_type": "stream",
     "text": [
      "[INFO] Keeping all rows: 89710 rows retained.\n"
     ]
    },
    {
     "name": "stdout",
     "output_type": "stream",
     "text": [
      "[INFO] Keeping all rows: 89710 rows retained.\n"
     ]
    },
    {
     "data": {
      "text/html": [
       "<div>\n",
       "<style scoped>\n",
       "    .dataframe tbody tr th:only-of-type {\n",
       "        vertical-align: middle;\n",
       "    }\n",
       "\n",
       "    .dataframe tbody tr th {\n",
       "        vertical-align: top;\n",
       "    }\n",
       "\n",
       "    .dataframe thead th {\n",
       "        text-align: right;\n",
       "    }\n",
       "</style>\n",
       "<table border=\"1\" class=\"dataframe\">\n",
       "  <thead>\n",
       "    <tr style=\"text-align: right;\">\n",
       "      <th></th>\n",
       "      <th>run_no</th>\n",
       "      <th>universe_id</th>\n",
       "      <th>universe_settings</th>\n",
       "      <th>execution_time</th>\n",
       "      <th>test_size_n</th>\n",
       "      <th>test_size_frac</th>\n",
       "      <th>fair_main_equalized_odds_difference</th>\n",
       "      <th>fair_main_equalized_odds_ratio</th>\n",
       "      <th>fair_main_demographic_parity_difference</th>\n",
       "      <th>fair_main_demographic_parity_ratio</th>\n",
       "      <th>...</th>\n",
       "      <th>perf_grp_precision_0</th>\n",
       "      <th>perf_grp_precision_1</th>\n",
       "      <th>perf_grp_false positive rate_0</th>\n",
       "      <th>perf_grp_false positive rate_1</th>\n",
       "      <th>perf_grp_false negative rate_0</th>\n",
       "      <th>perf_grp_false negative rate_1</th>\n",
       "      <th>perf_grp_selection rate_0</th>\n",
       "      <th>perf_grp_selection rate_1</th>\n",
       "      <th>perf_grp_count_0</th>\n",
       "      <th>perf_grp_count_1</th>\n",
       "    </tr>\n",
       "  </thead>\n",
       "  <tbody>\n",
       "    <tr>\n",
       "      <th>0</th>\n",
       "      <td>9</td>\n",
       "      <td>777d87c9eea575626f6230fc91836028</td>\n",
       "      <td>{\"cutoff\": \"quantile_0.1\", \"eval_fairness_grou...</td>\n",
       "      <td>52.891555</td>\n",
       "      <td>89710</td>\n",
       "      <td>1.0</td>\n",
       "      <td>0.05450</td>\n",
       "      <td>0.941659</td>\n",
       "      <td>0.054187</td>\n",
       "      <td>0.942460</td>\n",
       "      <td>...</td>\n",
       "      <td>NaN</td>\n",
       "      <td>NaN</td>\n",
       "      <td>NaN</td>\n",
       "      <td>NaN</td>\n",
       "      <td>NaN</td>\n",
       "      <td>NaN</td>\n",
       "      <td>NaN</td>\n",
       "      <td>NaN</td>\n",
       "      <td>NaN</td>\n",
       "      <td>NaN</td>\n",
       "    </tr>\n",
       "    <tr>\n",
       "      <th>0</th>\n",
       "      <td>9</td>\n",
       "      <td>777d87c9eea575626f6230fc91836028</td>\n",
       "      <td>{\"cutoff\": \"quantile_0.1\", \"eval_fairness_grou...</td>\n",
       "      <td>52.891555</td>\n",
       "      <td>89710</td>\n",
       "      <td>1.0</td>\n",
       "      <td>0.05450</td>\n",
       "      <td>0.941659</td>\n",
       "      <td>0.054187</td>\n",
       "      <td>0.942460</td>\n",
       "      <td>...</td>\n",
       "      <td>0.123149</td>\n",
       "      <td>0.139118</td>\n",
       "      <td>0.879650</td>\n",
       "      <td>0.934150</td>\n",
       "      <td>0.051943</td>\n",
       "      <td>0.008534</td>\n",
       "      <td>0.887537</td>\n",
       "      <td>0.941723</td>\n",
       "      <td>20540.0</td>\n",
       "      <td>69170.0</td>\n",
       "    </tr>\n",
       "    <tr>\n",
       "      <th>0</th>\n",
       "      <td>9</td>\n",
       "      <td>777d87c9eea575626f6230fc91836028</td>\n",
       "      <td>{\"cutoff\": \"quantile_0.25\", \"eval_fairness_gro...</td>\n",
       "      <td>52.891555</td>\n",
       "      <td>89710</td>\n",
       "      <td>1.0</td>\n",
       "      <td>0.09265</td>\n",
       "      <td>0.903749</td>\n",
       "      <td>0.066672</td>\n",
       "      <td>0.916336</td>\n",
       "      <td>...</td>\n",
       "      <td>NaN</td>\n",
       "      <td>NaN</td>\n",
       "      <td>NaN</td>\n",
       "      <td>NaN</td>\n",
       "      <td>NaN</td>\n",
       "      <td>NaN</td>\n",
       "      <td>NaN</td>\n",
       "      <td>NaN</td>\n",
       "      <td>NaN</td>\n",
       "      <td>NaN</td>\n",
       "    </tr>\n",
       "    <tr>\n",
       "      <th>0</th>\n",
       "      <td>9</td>\n",
       "      <td>777d87c9eea575626f6230fc91836028</td>\n",
       "      <td>{\"cutoff\": \"quantile_0.25\", \"eval_fairness_gro...</td>\n",
       "      <td>52.891555</td>\n",
       "      <td>89710</td>\n",
       "      <td>1.0</td>\n",
       "      <td>0.09265</td>\n",
       "      <td>0.903749</td>\n",
       "      <td>0.066672</td>\n",
       "      <td>0.916336</td>\n",
       "      <td>...</td>\n",
       "      <td>0.137342</td>\n",
       "      <td>0.159610</td>\n",
       "      <td>0.712029</td>\n",
       "      <td>0.771681</td>\n",
       "      <td>0.130068</td>\n",
       "      <td>0.037418</td>\n",
       "      <td>0.730234</td>\n",
       "      <td>0.796906</td>\n",
       "      <td>20540.0</td>\n",
       "      <td>69170.0</td>\n",
       "    </tr>\n",
       "  </tbody>\n",
       "</table>\n",
       "<p>4 rows × 50 columns</p>\n",
       "</div>"
      ],
      "text/plain": [
       "  run_no                       universe_id  \\\n",
       "0      9  777d87c9eea575626f6230fc91836028   \n",
       "0      9  777d87c9eea575626f6230fc91836028   \n",
       "0      9  777d87c9eea575626f6230fc91836028   \n",
       "0      9  777d87c9eea575626f6230fc91836028   \n",
       "\n",
       "                                   universe_settings  execution_time  \\\n",
       "0  {\"cutoff\": \"quantile_0.1\", \"eval_fairness_grou...       52.891555   \n",
       "0  {\"cutoff\": \"quantile_0.1\", \"eval_fairness_grou...       52.891555   \n",
       "0  {\"cutoff\": \"quantile_0.25\", \"eval_fairness_gro...       52.891555   \n",
       "0  {\"cutoff\": \"quantile_0.25\", \"eval_fairness_gro...       52.891555   \n",
       "\n",
       "   test_size_n  test_size_frac  fair_main_equalized_odds_difference  \\\n",
       "0        89710             1.0                              0.05450   \n",
       "0        89710             1.0                              0.05450   \n",
       "0        89710             1.0                              0.09265   \n",
       "0        89710             1.0                              0.09265   \n",
       "\n",
       "   fair_main_equalized_odds_ratio  fair_main_demographic_parity_difference  \\\n",
       "0                        0.941659                                 0.054187   \n",
       "0                        0.941659                                 0.054187   \n",
       "0                        0.903749                                 0.066672   \n",
       "0                        0.903749                                 0.066672   \n",
       "\n",
       "   fair_main_demographic_parity_ratio  ...  perf_grp_precision_0  \\\n",
       "0                            0.942460  ...                   NaN   \n",
       "0                            0.942460  ...              0.123149   \n",
       "0                            0.916336  ...                   NaN   \n",
       "0                            0.916336  ...              0.137342   \n",
       "\n",
       "   perf_grp_precision_1  perf_grp_false positive rate_0  \\\n",
       "0                   NaN                             NaN   \n",
       "0              0.139118                        0.879650   \n",
       "0                   NaN                             NaN   \n",
       "0              0.159610                        0.712029   \n",
       "\n",
       "   perf_grp_false positive rate_1  perf_grp_false negative rate_0  \\\n",
       "0                             NaN                             NaN   \n",
       "0                        0.934150                        0.051943   \n",
       "0                             NaN                             NaN   \n",
       "0                        0.771681                        0.130068   \n",
       "\n",
       "   perf_grp_false negative rate_1  perf_grp_selection rate_0  \\\n",
       "0                             NaN                        NaN   \n",
       "0                        0.008534                   0.887537   \n",
       "0                             NaN                        NaN   \n",
       "0                        0.037418                   0.730234   \n",
       "\n",
       "   perf_grp_selection rate_1  perf_grp_count_0  perf_grp_count_1  \n",
       "0                        NaN               NaN               NaN  \n",
       "0                   0.941723           20540.0           69170.0  \n",
       "0                        NaN               NaN               NaN  \n",
       "0                   0.796906           20540.0           69170.0  \n",
       "\n",
       "[4 rows x 50 columns]"
      ]
     },
     "execution_count": 61,
     "metadata": {},
     "output_type": "execute_result"
    }
   ],
   "source": [
    "final_output = universe_analysis.generate_final_output(\n",
    "    y_pred_prob=probs_test,\n",
    "    y_test=y_true,\n",
    "    org_test=org_test,\n",
    "    filter_data=filter_sub_universe_data,\n",
    "    cp_metrics_df=cp_metrics_df,\n",
    "    save=True,\n",
    ")\n",
    "final_output"
   ]
  },
  {
   "cell_type": "code",
   "execution_count": null,
   "id": "721ff514-cb11-46f8-b6fc-50392f74b5cb",
   "metadata": {
    "papermill": {
     "duration": 0.070064,
     "end_time": "2025-07-23T14:37:19.926737",
     "exception": false,
     "start_time": "2025-07-23T14:37:19.856673",
     "status": "completed"
    },
    "tags": []
   },
   "outputs": [],
   "source": []
  }
 ],
 "metadata": {
  "celltoolbar": "Tags",
  "kernelspec": {
   "display_name": "Python (CMA Fairness)",
   "language": "python",
   "name": "cma_fair_env"
  },
  "language_info": {
   "codemirror_mode": {
    "name": "ipython",
    "version": 3
   },
   "file_extension": ".py",
   "mimetype": "text/x-python",
   "name": "python",
   "nbconvert_exporter": "python",
   "pygments_lexer": "ipython3",
   "version": "3.10.12"
  },
  "papermill": {
   "default_parameters": {},
   "duration": 76.614712,
   "end_time": "2025-07-23T14:37:20.916908",
   "environment_variables": {},
   "exception": null,
   "input_path": "universe_analysis.ipynb",
   "output_path": "output/runs/9/notebooks/m_9-777d87c9eea575626f6230fc91836028.ipynb",
   "parameters": {
    "output_dir": "output",
    "run_no": "9",
    "seed": "2023",
    "universe": "{\"cutoff\": [\"quantile_0.1\", \"quantile_0.25\"], \"eval_fairness_grouping\": [\"majority-minority\", \"nationality-all\"], \"exclude_features\": \"none\", \"exclude_subgroups\": \"drop-non-german\", \"model\": \"rf\", \"scale\": \"do-not-scale\"}",
    "universe_id": "777d87c9eea575626f6230fc91836028"
   },
   "start_time": "2025-07-23T14:36:04.302196",
   "version": "2.6.0"
  }
 },
 "nbformat": 4,
 "nbformat_minor": 5
}