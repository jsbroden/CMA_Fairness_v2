{
 "cells": [
  {
   "cell_type": "code",
   "execution_count": 1,
   "id": "f159f837-637b-42ba-96b5-ec9a68c44524",
   "metadata": {
    "execution": {
     "iopub.execute_input": "2025-07-23T14:28:09.332983Z",
     "iopub.status.busy": "2025-07-23T14:28:09.332030Z",
     "iopub.status.idle": "2025-07-23T14:28:09.347091Z",
     "shell.execute_reply": "2025-07-23T14:28:09.346045Z"
    },
    "papermill": {
     "duration": 0.02754,
     "end_time": "2025-07-23T14:28:09.349035",
     "exception": false,
     "start_time": "2025-07-23T14:28:09.321495",
     "status": "completed"
    },
    "tags": []
   },
   "outputs": [
    {
     "name": "stdout",
     "output_type": "stream",
     "text": [
      "/dss/dsshome1/0C/ra93lal2/cma/CMA_Fairness_v2\n"
     ]
    },
    {
     "name": "stderr",
     "output_type": "stream",
     "text": [
      "/dss/dsshome1/0C/ra93lal2/.local/share/virtualenvs/CMA_Fairness_v2-3j10GkSs/lib/python3.10/site-packages/IPython/core/magics/osm.py:393: UserWarning: This is now an optional IPython functionality, using bookmarks requires you to install the `pickleshare` library.\n",
      "  bkms = self.shell.db.get('bookmarks', {})\n",
      "/dss/dsshome1/0C/ra93lal2/.local/share/virtualenvs/CMA_Fairness_v2-3j10GkSs/lib/python3.10/site-packages/IPython/core/magics/osm.py:417: UserWarning: This is now an optional IPython functionality, setting dhist requires you to install the `pickleshare` library.\n",
      "  self.shell.db['dhist'] = compress_dhist(dhist)[-100:]\n"
     ]
    }
   ],
   "source": [
    "%cd ~/cma/CMA_Fairness_v2"
   ]
  },
  {
   "cell_type": "markdown",
   "id": "de2603b9",
   "metadata": {
    "papermill": {
     "duration": 0.016243,
     "end_time": "2025-07-23T14:28:09.382034",
     "exception": false,
     "start_time": "2025-07-23T14:28:09.365791",
     "status": "completed"
    },
    "tags": []
   },
   "source": [
    "The following cell holds the definition of our parameters, these values can be overriden by rendering the with e.g. the following command:\n",
    "\n",
    "papermill -p alpha 0.2 -p ratio 0.3 universe_analysis.ipynb output/test_run.ipynb"
   ]
  },
  {
   "cell_type": "code",
   "execution_count": 2,
   "id": "a80968a0-40bb-4fa9-85ef-2d5eefb01975",
   "metadata": {
    "execution": {
     "iopub.execute_input": "2025-07-23T14:28:09.417880Z",
     "iopub.status.busy": "2025-07-23T14:28:09.417132Z",
     "iopub.status.idle": "2025-07-23T14:28:09.423247Z",
     "shell.execute_reply": "2025-07-23T14:28:09.422114Z"
    },
    "papermill": {
     "duration": 0.025759,
     "end_time": "2025-07-23T14:28:09.424992",
     "exception": false,
     "start_time": "2025-07-23T14:28:09.399233",
     "status": "completed"
    },
    "tags": []
   },
   "outputs": [
    {
     "name": "stdout",
     "output_type": "stream",
     "text": [
      "Current working directory: /dss/dsshome1/0C/ra93lal2/cma/CMA_Fairness_v2\n"
     ]
    }
   ],
   "source": [
    "import os\n",
    "print(\"Current working directory:\", os.getcwd())"
   ]
  },
  {
   "cell_type": "code",
   "execution_count": 3,
   "id": "2dce4c03",
   "metadata": {
    "execution": {
     "iopub.execute_input": "2025-07-23T14:28:09.462607Z",
     "iopub.status.busy": "2025-07-23T14:28:09.461699Z",
     "iopub.status.idle": "2025-07-23T14:28:09.468599Z",
     "shell.execute_reply": "2025-07-23T14:28:09.467537Z"
    },
    "papermill": {
     "duration": 0.027373,
     "end_time": "2025-07-23T14:28:09.470503",
     "exception": false,
     "start_time": "2025-07-23T14:28:09.443130",
     "status": "completed"
    },
    "tags": [
     "parameters"
    ]
   },
   "outputs": [],
   "source": [
    "run_no = 0\n",
    "universe_id = \"test\"\n",
    "universe = {\n",
    "    \"scale\": \"scale\", # \"scale\", \"do-not-scale\",\n",
    "    \"model\": \"elasticnet\", # \"logreg\", \"penalized_logreg\", \"rf\", \"gbm\", \"elasticnet\"\n",
    "    \"cutoff\": [\"quantile_0.15\", \"quantile_0.30\"],\n",
    "    \"exclude_features\": \"age\", # \"none\", \"nationality\", \"sex\", \"nationality-sex\", \"age\"\n",
    "    \"exclude_subgroups\": \"keep-all\", # \"keep-all\", \"drop-non-german\"\n",
    "    #\"training_sample\": \"restricted\", # \"restricted\", \"full\"\n",
    "    \"eval_fairness_grouping\": [\"majority-minority\", \"nationality-all\"]\n",
    "}\n",
    "\n",
    "output_dir=\"./output\"\n",
    "seed=0"
   ]
  },
  {
   "cell_type": "code",
   "execution_count": 4,
   "id": "6c86abb6",
   "metadata": {
    "execution": {
     "iopub.execute_input": "2025-07-23T14:28:09.510820Z",
     "iopub.status.busy": "2025-07-23T14:28:09.510235Z",
     "iopub.status.idle": "2025-07-23T14:28:09.517244Z",
     "shell.execute_reply": "2025-07-23T14:28:09.515922Z"
    },
    "papermill": {
     "duration": 0.029627,
     "end_time": "2025-07-23T14:28:09.518973",
     "exception": false,
     "start_time": "2025-07-23T14:28:09.489346",
     "status": "completed"
    },
    "tags": [
     "injected-parameters"
    ]
   },
   "outputs": [],
   "source": [
    "# Parameters\n",
    "universe_id = \"7a51055ac1c7f1c4c63180658429fbb4\"\n",
    "run_no = \"9\"\n",
    "universe = \"{\\\"cutoff\\\": [\\\"quantile_0.1\\\", \\\"quantile_0.25\\\"], \\\"eval_fairness_grouping\\\": [\\\"majority-minority\\\", \\\"nationality-all\\\"], \\\"exclude_features\\\": \\\"nationality\\\", \\\"exclude_subgroups\\\": \\\"keep-all\\\", \\\"model\\\": \\\"rf\\\", \\\"scale\\\": \\\"scale\\\"}\"\n",
    "output_dir = \"output\"\n",
    "seed = \"2023\"\n"
   ]
  },
  {
   "cell_type": "code",
   "execution_count": 5,
   "id": "1650acaf",
   "metadata": {
    "execution": {
     "iopub.execute_input": "2025-07-23T14:28:09.556615Z",
     "iopub.status.busy": "2025-07-23T14:28:09.555540Z",
     "iopub.status.idle": "2025-07-23T14:28:09.561492Z",
     "shell.execute_reply": "2025-07-23T14:28:09.560447Z"
    },
    "papermill": {
     "duration": 0.02675,
     "end_time": "2025-07-23T14:28:09.563655",
     "exception": false,
     "start_time": "2025-07-23T14:28:09.536905",
     "status": "completed"
    },
    "tags": []
   },
   "outputs": [],
   "source": [
    "import json\n",
    "# Parse universe into dict if it is passed as a string\n",
    "if isinstance(universe, str):\n",
    "    universe = json.loads(universe)"
   ]
  },
  {
   "cell_type": "code",
   "execution_count": 6,
   "id": "16620c48",
   "metadata": {
    "execution": {
     "iopub.execute_input": "2025-07-23T14:28:09.603364Z",
     "iopub.status.busy": "2025-07-23T14:28:09.602733Z",
     "iopub.status.idle": "2025-07-23T14:28:09.653770Z",
     "shell.execute_reply": "2025-07-23T14:28:09.652396Z"
    },
    "papermill": {
     "duration": 0.072509,
     "end_time": "2025-07-23T14:28:09.655891",
     "exception": false,
     "start_time": "2025-07-23T14:28:09.583382",
     "status": "completed"
    },
    "tags": []
   },
   "outputs": [],
   "source": [
    "# Auto-reload the custom package\n",
    "%load_ext autoreload\n",
    "%autoreload 1\n",
    "%aimport fairness_multiverse"
   ]
  },
  {
   "cell_type": "code",
   "execution_count": 7,
   "id": "01c5c9f3",
   "metadata": {
    "execution": {
     "iopub.execute_input": "2025-07-23T14:28:09.688202Z",
     "iopub.status.busy": "2025-07-23T14:28:09.687802Z",
     "iopub.status.idle": "2025-07-23T14:28:11.651972Z",
     "shell.execute_reply": "2025-07-23T14:28:11.650763Z"
    },
    "papermill": {
     "duration": 1.979911,
     "end_time": "2025-07-23T14:28:11.654324",
     "exception": false,
     "start_time": "2025-07-23T14:28:09.674413",
     "status": "completed"
    },
    "tags": []
   },
   "outputs": [],
   "source": [
    "from fairness_multiverse.universe import UniverseAnalysis\n",
    "\n",
    "universe_analysis = UniverseAnalysis(\n",
    "    run_no = run_no,\n",
    "    universe_id = universe_id,\n",
    "    universe = universe,\n",
    "    output_dir=output_dir,\n",
    ")"
   ]
  },
  {
   "cell_type": "code",
   "execution_count": 8,
   "id": "106241f5",
   "metadata": {
    "execution": {
     "iopub.execute_input": "2025-07-23T14:28:11.696029Z",
     "iopub.status.busy": "2025-07-23T14:28:11.694956Z",
     "iopub.status.idle": "2025-07-23T14:28:11.702904Z",
     "shell.execute_reply": "2025-07-23T14:28:11.701714Z"
    },
    "papermill": {
     "duration": 0.031942,
     "end_time": "2025-07-23T14:28:11.704950",
     "exception": false,
     "start_time": "2025-07-23T14:28:11.673008",
     "status": "completed"
    },
    "tags": []
   },
   "outputs": [
    {
     "name": "stdout",
     "output_type": "stream",
     "text": [
      "Using Seed: 2023\n"
     ]
    }
   ],
   "source": [
    "import numpy as np\n",
    "parsed_seed = int(seed)\n",
    "np.random.seed(parsed_seed)\n",
    "print(f\"Using Seed: {parsed_seed}\")"
   ]
  },
  {
   "cell_type": "markdown",
   "id": "e0ebdc57",
   "metadata": {
    "papermill": {
     "duration": 0.019933,
     "end_time": "2025-07-23T14:28:11.744936",
     "exception": false,
     "start_time": "2025-07-23T14:28:11.725003",
     "status": "completed"
    },
    "tags": []
   },
   "source": [
    "# Loading Data"
   ]
  },
  {
   "cell_type": "markdown",
   "id": "681925a3",
   "metadata": {
    "papermill": {
     "duration": 0.019571,
     "end_time": "2025-07-23T14:28:11.784478",
     "exception": false,
     "start_time": "2025-07-23T14:28:11.764907",
     "status": "completed"
    },
    "tags": []
   },
   "source": [
    "Load siab_train, siab_test, siab_calib and/or \n",
    "load siab_train_features, siab_train_labels"
   ]
  },
  {
   "cell_type": "code",
   "execution_count": 9,
   "id": "f0496b8a",
   "metadata": {
    "execution": {
     "iopub.execute_input": "2025-07-23T14:28:11.825126Z",
     "iopub.status.busy": "2025-07-23T14:28:11.824527Z",
     "iopub.status.idle": "2025-07-23T14:28:11.831296Z",
     "shell.execute_reply": "2025-07-23T14:28:11.830089Z"
    },
    "papermill": {
     "duration": 0.029414,
     "end_time": "2025-07-23T14:28:11.833230",
     "exception": false,
     "start_time": "2025-07-23T14:28:11.803816",
     "status": "completed"
    },
    "tags": []
   },
   "outputs": [],
   "source": [
    "# Do I need to load siab? Delete this cell?\n",
    "\n",
    "#from pathlib import Path\n",
    "#import pandas as pd\n",
    "#\n",
    "## File paths\n",
    "#raw_file = Path(\"data/raw/siab.csv\")\n",
    "#cache_file = Path(\"data/siab_cached.csv.gz\")\n",
    "#\n",
    "## Ensure cache directory exists\n",
    "#cache_file.parent.mkdir(parents=True, exist_ok=True)\n",
    "#\n",
    "## Load with simple caching\n",
    "#if cache_file.exists():\n",
    "#    print(f\"Loading SIAB data from cache: {cache_file}\")\n",
    "#    siab = pd.read_csv(cache_file, compression='gzip')\n",
    "#else:\n",
    "#    print(f\"Cache not found. Reading raw SIAB data: {raw_file}\")\n",
    "#    siab = pd.read_csv(raw_file)\n",
    "#    siab.to_csv(cache_file, index=False, compression='gzip')\n",
    "#    print(f\"Cached SIAB data to: {cache_file}\")\n",
    "#\n",
    "## Now use `siab` DataFrame as needed\n",
    "#print(siab.shape)\n"
   ]
  },
  {
   "cell_type": "code",
   "execution_count": 10,
   "id": "a0edb063",
   "metadata": {
    "execution": {
     "iopub.execute_input": "2025-07-23T14:28:11.875959Z",
     "iopub.status.busy": "2025-07-23T14:28:11.875481Z",
     "iopub.status.idle": "2025-07-23T14:28:14.114763Z",
     "shell.execute_reply": "2025-07-23T14:28:14.113659Z"
    },
    "papermill": {
     "duration": 2.264318,
     "end_time": "2025-07-23T14:28:14.117189",
     "exception": false,
     "start_time": "2025-07-23T14:28:11.852871",
     "status": "completed"
    },
    "tags": []
   },
   "outputs": [],
   "source": [
    "import pandas as pd\n",
    "\n",
    "X_train = pd.read_csv(\"./data/X_train.csv\")\n",
    "y_train = pd.read_csv(\"./data/y_train.csv\")"
   ]
  },
  {
   "cell_type": "code",
   "execution_count": 11,
   "id": "63d08085",
   "metadata": {
    "execution": {
     "iopub.execute_input": "2025-07-23T14:28:14.191536Z",
     "iopub.status.busy": "2025-07-23T14:28:14.191082Z",
     "iopub.status.idle": "2025-07-23T14:28:17.040857Z",
     "shell.execute_reply": "2025-07-23T14:28:17.039647Z"
    },
    "papermill": {
     "duration": 2.896068,
     "end_time": "2025-07-23T14:28:17.042974",
     "exception": false,
     "start_time": "2025-07-23T14:28:14.146906",
     "status": "completed"
    },
    "tags": []
   },
   "outputs": [],
   "source": [
    "X_test = pd.read_csv(\"./data/X_test.csv\")\n",
    "y_true = pd.read_csv(\"./data/y_test.csv\")"
   ]
  },
  {
   "cell_type": "code",
   "execution_count": 12,
   "id": "98a8d0fa-1d3d-4ed8-bb2c-281470e24add",
   "metadata": {
    "execution": {
     "iopub.execute_input": "2025-07-23T14:28:17.106640Z",
     "iopub.status.busy": "2025-07-23T14:28:17.106173Z",
     "iopub.status.idle": "2025-07-23T14:28:19.261382Z",
     "shell.execute_reply": "2025-07-23T14:28:19.259963Z"
    },
    "papermill": {
     "duration": 2.196817,
     "end_time": "2025-07-23T14:28:19.263485",
     "exception": false,
     "start_time": "2025-07-23T14:28:17.066668",
     "status": "completed"
    },
    "tags": []
   },
   "outputs": [],
   "source": [
    "# Calibration data for conformal\n",
    "X_calib = pd.read_csv(\"./data/X_calib.csv\")\n",
    "y_calib = pd.read_csv(\"./data/y_calib.csv\")"
   ]
  },
  {
   "cell_type": "code",
   "execution_count": 13,
   "id": "e6c733c5",
   "metadata": {
    "execution": {
     "iopub.execute_input": "2025-07-23T14:28:19.363688Z",
     "iopub.status.busy": "2025-07-23T14:28:19.363203Z",
     "iopub.status.idle": "2025-07-23T14:28:19.617998Z",
     "shell.execute_reply": "2025-07-23T14:28:19.616648Z"
    },
    "papermill": {
     "duration": 0.299803,
     "end_time": "2025-07-23T14:28:19.620416",
     "exception": false,
     "start_time": "2025-07-23T14:28:19.320613",
     "status": "completed"
    },
    "tags": []
   },
   "outputs": [],
   "source": [
    "# Auxiliary data needed downstream in the pipeline\n",
    "\n",
    "org_train = X_train.copy()\n",
    "org_test = X_test.copy()\n",
    "org_calib = X_calib.copy()"
   ]
  },
  {
   "cell_type": "markdown",
   "id": "0a4a1b33",
   "metadata": {
    "papermill": {
     "duration": 0.025223,
     "end_time": "2025-07-23T14:28:19.673894",
     "exception": false,
     "start_time": "2025-07-23T14:28:19.648671",
     "status": "completed"
    },
    "tags": []
   },
   "source": [
    "# Preprocessing Data"
   ]
  },
  {
   "cell_type": "code",
   "execution_count": 14,
   "id": "ca879031",
   "metadata": {
    "execution": {
     "iopub.execute_input": "2025-07-23T14:28:19.729327Z",
     "iopub.status.busy": "2025-07-23T14:28:19.728729Z",
     "iopub.status.idle": "2025-07-23T14:28:19.739978Z",
     "shell.execute_reply": "2025-07-23T14:28:19.738387Z"
    },
    "papermill": {
     "duration": 0.041852,
     "end_time": "2025-07-23T14:28:19.743729",
     "exception": false,
     "start_time": "2025-07-23T14:28:19.701877",
     "status": "completed"
    },
    "tags": []
   },
   "outputs": [],
   "source": [
    "# EXCLUDE PROTECTED FEATURES\n",
    "# ----------------------\n",
    "# \"exclude_features\": \"none\", # \"nationality\", \"sex\", \"nationality-sex\"\n",
    "\n",
    "excluded_features = universe[\"exclude_features\"].split(\"-\") # split, e.g.: \"nationality-sex\" -> [\"nationality\", \"sex\"]\n",
    "excluded_features_dictionary = {\n",
    "    \"nationality\": [\"maxdeutsch1\", \"maxdeutsch.Missing.\"],\n",
    "    \"sex\": [\"frau1\"],\n",
    "    \"age\": [\"age\"],\n",
    "}\n"
   ]
  },
  {
   "cell_type": "code",
   "execution_count": 15,
   "id": "b745ac60",
   "metadata": {
    "execution": {
     "iopub.execute_input": "2025-07-23T14:28:19.801946Z",
     "iopub.status.busy": "2025-07-23T14:28:19.801307Z",
     "iopub.status.idle": "2025-07-23T14:28:19.810652Z",
     "shell.execute_reply": "2025-07-23T14:28:19.808857Z"
    },
    "papermill": {
     "duration": 0.043165,
     "end_time": "2025-07-23T14:28:19.815542",
     "exception": false,
     "start_time": "2025-07-23T14:28:19.772377",
     "status": "completed"
    },
    "tags": []
   },
   "outputs": [],
   "source": [
    "# Code nice names to column names\n",
    "\n",
    "excluded_features_columns = [\n",
    "    excluded_features_dictionary[f] for f in excluded_features if len(f) > 0 and f != \"none\"\n",
    "]"
   ]
  },
  {
   "cell_type": "code",
   "execution_count": 16,
   "id": "f84f73a2",
   "metadata": {
    "execution": {
     "iopub.execute_input": "2025-07-23T14:28:19.894401Z",
     "iopub.status.busy": "2025-07-23T14:28:19.893963Z",
     "iopub.status.idle": "2025-07-23T14:28:19.900701Z",
     "shell.execute_reply": "2025-07-23T14:28:19.899581Z"
    },
    "papermill": {
     "duration": 0.04837,
     "end_time": "2025-07-23T14:28:19.903928",
     "exception": false,
     "start_time": "2025-07-23T14:28:19.855558",
     "status": "completed"
    },
    "tags": []
   },
   "outputs": [],
   "source": [
    "from utils import flatten_once\n",
    "\n",
    "excluded_features_columns = flatten_once(excluded_features_columns)"
   ]
  },
  {
   "cell_type": "code",
   "execution_count": 17,
   "id": "884dea22",
   "metadata": {
    "execution": {
     "iopub.execute_input": "2025-07-23T14:28:19.949729Z",
     "iopub.status.busy": "2025-07-23T14:28:19.949325Z",
     "iopub.status.idle": "2025-07-23T14:28:20.002437Z",
     "shell.execute_reply": "2025-07-23T14:28:20.001463Z"
    },
    "papermill": {
     "duration": 0.076543,
     "end_time": "2025-07-23T14:28:20.004343",
     "exception": false,
     "start_time": "2025-07-23T14:28:19.927800",
     "status": "completed"
    },
    "tags": []
   },
   "outputs": [
    {
     "name": "stdout",
     "output_type": "stream",
     "text": [
      "Dropping features: ['maxdeutsch1', 'maxdeutsch.Missing.']\n"
     ]
    }
   ],
   "source": [
    "if len(excluded_features_columns) > 0:\n",
    "    print(f\"Dropping features: {excluded_features_columns}\")\n",
    "    X_train.drop(excluded_features_columns, axis=1, inplace=True)"
   ]
  },
  {
   "cell_type": "code",
   "execution_count": 18,
   "id": "95ab8b16",
   "metadata": {
    "execution": {
     "iopub.execute_input": "2025-07-23T14:28:20.044901Z",
     "iopub.status.busy": "2025-07-23T14:28:20.044361Z",
     "iopub.status.idle": "2025-07-23T14:28:20.096799Z",
     "shell.execute_reply": "2025-07-23T14:28:20.095931Z"
    },
    "papermill": {
     "duration": 0.075281,
     "end_time": "2025-07-23T14:28:20.098894",
     "exception": false,
     "start_time": "2025-07-23T14:28:20.023613",
     "status": "completed"
    },
    "tags": []
   },
   "outputs": [
    {
     "name": "stdout",
     "output_type": "stream",
     "text": [
      "Dropping features: ['maxdeutsch1', 'maxdeutsch.Missing.']\n"
     ]
    }
   ],
   "source": [
    "if len(excluded_features_columns) > 0:\n",
    "    print(f\"Dropping features: {excluded_features_columns}\")\n",
    "    X_test.drop(excluded_features_columns, axis=1, inplace=True)"
   ]
  },
  {
   "cell_type": "code",
   "execution_count": 19,
   "id": "1853aaf5-fb9f-46cb-a2b5-8ea4ae2237e4",
   "metadata": {
    "execution": {
     "iopub.execute_input": "2025-07-23T14:28:20.143073Z",
     "iopub.status.busy": "2025-07-23T14:28:20.142523Z",
     "iopub.status.idle": "2025-07-23T14:28:20.197590Z",
     "shell.execute_reply": "2025-07-23T14:28:20.196428Z"
    },
    "papermill": {
     "duration": 0.077202,
     "end_time": "2025-07-23T14:28:20.199135",
     "exception": false,
     "start_time": "2025-07-23T14:28:20.121933",
     "status": "completed"
    },
    "tags": []
   },
   "outputs": [
    {
     "name": "stdout",
     "output_type": "stream",
     "text": [
      "Dropping features: ['maxdeutsch1', 'maxdeutsch.Missing.']\n"
     ]
    }
   ],
   "source": [
    "if len(excluded_features_columns) > 0:\n",
    "    print(f\"Dropping features: {excluded_features_columns}\")\n",
    "    X_calib.drop(excluded_features_columns, axis=1, inplace=True)"
   ]
  },
  {
   "cell_type": "code",
   "execution_count": 20,
   "id": "76c4dc6d",
   "metadata": {
    "execution": {
     "iopub.execute_input": "2025-07-23T14:28:20.222952Z",
     "iopub.status.busy": "2025-07-23T14:28:20.222389Z",
     "iopub.status.idle": "2025-07-23T14:28:20.227438Z",
     "shell.execute_reply": "2025-07-23T14:28:20.226622Z"
    },
    "papermill": {
     "duration": 0.019156,
     "end_time": "2025-07-23T14:28:20.229066",
     "exception": false,
     "start_time": "2025-07-23T14:28:20.209910",
     "status": "completed"
    },
    "tags": []
   },
   "outputs": [],
   "source": [
    "# EXCLUDE CERTAIN SUBGROUPS\n",
    "# ----------------------\n",
    "\n",
    "mode = universe.get(\"exclude_subgroups\", \"keep-all\") \n",
    "# Fetches the exclude_subgroups setting from the universe dict.\n",
    "# Defaults to \"keep-all\" if the key is missing."
   ]
  },
  {
   "cell_type": "code",
   "execution_count": 21,
   "id": "21994072",
   "metadata": {
    "execution": {
     "iopub.execute_input": "2025-07-23T14:28:20.263368Z",
     "iopub.status.busy": "2025-07-23T14:28:20.262852Z",
     "iopub.status.idle": "2025-07-23T14:28:20.271623Z",
     "shell.execute_reply": "2025-07-23T14:28:20.270516Z"
    },
    "papermill": {
     "duration": 0.03269,
     "end_time": "2025-07-23T14:28:20.273630",
     "exception": false,
     "start_time": "2025-07-23T14:28:20.240940",
     "status": "completed"
    },
    "tags": []
   },
   "outputs": [],
   "source": [
    "if mode == \"keep-all\":\n",
    "    keep_mask = pd.Series(True, index=org_train.index)\n",
    "\n",
    "# org_train contains the original feature columns from features_org (in Simson)\n",
    "# features_org contains unprocessed features, for me X_train at beginning ???\n",
    "# For keep-all, creates a boolean Series (keep_mask) of all True, so no rows are removed.\n",
    "\n",
    "elif mode == \"drop-non-german\":\n",
    "    keep_mask = org_train[\"maxdeutsch1\"] == 1 # ??? what about missing values?\n",
    "\n",
    "else:\n",
    "    raise ValueError(f\"Unsupported mode for exclude_subgroups: {mode}\")\n"
   ]
  },
  {
   "cell_type": "code",
   "execution_count": 22,
   "id": "71651440",
   "metadata": {
    "execution": {
     "iopub.execute_input": "2025-07-23T14:28:20.327235Z",
     "iopub.status.busy": "2025-07-23T14:28:20.326795Z",
     "iopub.status.idle": "2025-07-23T14:28:20.335328Z",
     "shell.execute_reply": "2025-07-23T14:28:20.333946Z"
    },
    "papermill": {
     "duration": 0.042193,
     "end_time": "2025-07-23T14:28:20.337993",
     "exception": false,
     "start_time": "2025-07-23T14:28:20.295800",
     "status": "completed"
    },
    "tags": []
   },
   "outputs": [],
   "source": [
    "n_drop = (~keep_mask).sum() # Calculates how many rows are set to be dropped\n",
    "if n_drop > 0:\n",
    "    pct = n_drop / len(keep_mask) * 100\n",
    "    print(f\"Dropping {n_drop} rows ({pct:.2f}%) where mode='{mode}'\")"
   ]
  },
  {
   "cell_type": "code",
   "execution_count": 23,
   "id": "5fb8eee5",
   "metadata": {
    "execution": {
     "iopub.execute_input": "2025-07-23T14:28:20.397402Z",
     "iopub.status.busy": "2025-07-23T14:28:20.396895Z",
     "iopub.status.idle": "2025-07-23T14:28:20.534763Z",
     "shell.execute_reply": "2025-07-23T14:28:20.520272Z"
    },
    "papermill": {
     "duration": 0.170293,
     "end_time": "2025-07-23T14:28:20.537073",
     "exception": false,
     "start_time": "2025-07-23T14:28:20.366780",
     "status": "completed"
    },
    "tags": []
   },
   "outputs": [],
   "source": [
    "X_train = X_train[keep_mask]"
   ]
  },
  {
   "cell_type": "code",
   "execution_count": 24,
   "id": "b202bb3a",
   "metadata": {
    "execution": {
     "iopub.execute_input": "2025-07-23T14:28:20.644324Z",
     "iopub.status.busy": "2025-07-23T14:28:20.643893Z",
     "iopub.status.idle": "2025-07-23T14:28:20.652827Z",
     "shell.execute_reply": "2025-07-23T14:28:20.651720Z"
    },
    "papermill": {
     "duration": 0.088171,
     "end_time": "2025-07-23T14:28:20.654844",
     "exception": false,
     "start_time": "2025-07-23T14:28:20.566673",
     "status": "completed"
    },
    "tags": []
   },
   "outputs": [],
   "source": [
    "y_train = y_train[keep_mask]"
   ]
  },
  {
   "cell_type": "markdown",
   "id": "493e2ac3",
   "metadata": {
    "papermill": {
     "duration": 0.051919,
     "end_time": "2025-07-23T14:28:20.757212",
     "exception": false,
     "start_time": "2025-07-23T14:28:20.705293",
     "status": "completed"
    },
    "tags": []
   },
   "source": [
    "# Model Training"
   ]
  },
  {
   "cell_type": "code",
   "execution_count": 25,
   "id": "679e1268",
   "metadata": {
    "execution": {
     "iopub.execute_input": "2025-07-23T14:28:20.842878Z",
     "iopub.status.busy": "2025-07-23T14:28:20.842454Z",
     "iopub.status.idle": "2025-07-23T14:28:21.137103Z",
     "shell.execute_reply": "2025-07-23T14:28:21.124753Z"
    },
    "papermill": {
     "duration": 0.348741,
     "end_time": "2025-07-23T14:28:21.139514",
     "exception": false,
     "start_time": "2025-07-23T14:28:20.790773",
     "status": "completed"
    },
    "tags": []
   },
   "outputs": [],
   "source": [
    "from sklearn.linear_model import LogisticRegression\n",
    "from sklearn.ensemble import GradientBoostingClassifier, RandomForestClassifier\n",
    "\n",
    "if (universe[\"model\"] == \"logreg\"):\n",
    "    model = LogisticRegression() #penalty=\"none\") #, solver=\"newton-cg\", max_iter=1) # include random_state=19 ?\n",
    "elif (universe[\"model\"] == \"penalized_logreg\"):\n",
    "    model = LogisticRegression(penalty=\"l2\", C=1.0) #, solver=\"newton-cg\", max_iter=1)\n",
    "elif (universe[\"model\"] == \"rf\"):\n",
    "    model = RandomForestClassifier(n_estimators=100, n_jobs=-1)\n",
    "elif (universe[\"model\"] == \"gbm\"):\n",
    "    model = GradientBoostingClassifier()\n",
    "elif (universe[\"model\"] == \"elasticnet\"):\n",
    "    model = LogisticRegression(penalty = 'elasticnet', solver = 'saga', l1_ratio = 0.5, max_iter=5000) # which solver to use?\n",
    "else:\n",
    "    raise \"Unsupported universe.model\""
   ]
  },
  {
   "cell_type": "code",
   "execution_count": 26,
   "id": "0cc8f744",
   "metadata": {
    "execution": {
     "iopub.execute_input": "2025-07-23T14:28:21.210927Z",
     "iopub.status.busy": "2025-07-23T14:28:21.210460Z",
     "iopub.status.idle": "2025-07-23T14:28:21.218319Z",
     "shell.execute_reply": "2025-07-23T14:28:21.217083Z"
    },
    "papermill": {
     "duration": 0.050559,
     "end_time": "2025-07-23T14:28:21.225679",
     "exception": false,
     "start_time": "2025-07-23T14:28:21.175120",
     "status": "completed"
    },
    "tags": []
   },
   "outputs": [],
   "source": [
    "import numpy as np\n",
    "from sklearn.pipeline import Pipeline\n",
    "from sklearn.preprocessing import StandardScaler\n",
    "\n",
    "model = Pipeline([\n",
    "    #(\"continuous_processor\", continuous_processor),\n",
    "    #(\"categorical_preprocessor\", categorical_preprocessor),\n",
    "    (\"scale\", StandardScaler() if universe[\"scale\"] == \"scale\" else None), \n",
    "    (\"model\", model),\n",
    "])"
   ]
  },
  {
   "cell_type": "code",
   "execution_count": 27,
   "id": "9442c04d",
   "metadata": {
    "execution": {
     "iopub.execute_input": "2025-07-23T14:28:21.323208Z",
     "iopub.status.busy": "2025-07-23T14:28:21.322673Z",
     "iopub.status.idle": "2025-07-23T14:28:42.477343Z",
     "shell.execute_reply": "2025-07-23T14:28:42.469843Z"
    },
    "papermill": {
     "duration": 21.194215,
     "end_time": "2025-07-23T14:28:42.480636",
     "exception": false,
     "start_time": "2025-07-23T14:28:21.286421",
     "status": "completed"
    },
    "tags": []
   },
   "outputs": [
    {
     "data": {
      "text/html": [
       "<style>#sk-container-id-1 {color: black;background-color: white;}#sk-container-id-1 pre{padding: 0;}#sk-container-id-1 div.sk-toggleable {background-color: white;}#sk-container-id-1 label.sk-toggleable__label {cursor: pointer;display: block;width: 100%;margin-bottom: 0;padding: 0.3em;box-sizing: border-box;text-align: center;}#sk-container-id-1 label.sk-toggleable__label-arrow:before {content: \"▸\";float: left;margin-right: 0.25em;color: #696969;}#sk-container-id-1 label.sk-toggleable__label-arrow:hover:before {color: black;}#sk-container-id-1 div.sk-estimator:hover label.sk-toggleable__label-arrow:before {color: black;}#sk-container-id-1 div.sk-toggleable__content {max-height: 0;max-width: 0;overflow: hidden;text-align: left;background-color: #f0f8ff;}#sk-container-id-1 div.sk-toggleable__content pre {margin: 0.2em;color: black;border-radius: 0.25em;background-color: #f0f8ff;}#sk-container-id-1 input.sk-toggleable__control:checked~div.sk-toggleable__content {max-height: 200px;max-width: 100%;overflow: auto;}#sk-container-id-1 input.sk-toggleable__control:checked~label.sk-toggleable__label-arrow:before {content: \"▾\";}#sk-container-id-1 div.sk-estimator input.sk-toggleable__control:checked~label.sk-toggleable__label {background-color: #d4ebff;}#sk-container-id-1 div.sk-label input.sk-toggleable__control:checked~label.sk-toggleable__label {background-color: #d4ebff;}#sk-container-id-1 input.sk-hidden--visually {border: 0;clip: rect(1px 1px 1px 1px);clip: rect(1px, 1px, 1px, 1px);height: 1px;margin: -1px;overflow: hidden;padding: 0;position: absolute;width: 1px;}#sk-container-id-1 div.sk-estimator {font-family: monospace;background-color: #f0f8ff;border: 1px dotted black;border-radius: 0.25em;box-sizing: border-box;margin-bottom: 0.5em;}#sk-container-id-1 div.sk-estimator:hover {background-color: #d4ebff;}#sk-container-id-1 div.sk-parallel-item::after {content: \"\";width: 100%;border-bottom: 1px solid gray;flex-grow: 1;}#sk-container-id-1 div.sk-label:hover label.sk-toggleable__label {background-color: #d4ebff;}#sk-container-id-1 div.sk-serial::before {content: \"\";position: absolute;border-left: 1px solid gray;box-sizing: border-box;top: 0;bottom: 0;left: 50%;z-index: 0;}#sk-container-id-1 div.sk-serial {display: flex;flex-direction: column;align-items: center;background-color: white;padding-right: 0.2em;padding-left: 0.2em;position: relative;}#sk-container-id-1 div.sk-item {position: relative;z-index: 1;}#sk-container-id-1 div.sk-parallel {display: flex;align-items: stretch;justify-content: center;background-color: white;position: relative;}#sk-container-id-1 div.sk-item::before, #sk-container-id-1 div.sk-parallel-item::before {content: \"\";position: absolute;border-left: 1px solid gray;box-sizing: border-box;top: 0;bottom: 0;left: 50%;z-index: -1;}#sk-container-id-1 div.sk-parallel-item {display: flex;flex-direction: column;z-index: 1;position: relative;background-color: white;}#sk-container-id-1 div.sk-parallel-item:first-child::after {align-self: flex-end;width: 50%;}#sk-container-id-1 div.sk-parallel-item:last-child::after {align-self: flex-start;width: 50%;}#sk-container-id-1 div.sk-parallel-item:only-child::after {width: 0;}#sk-container-id-1 div.sk-dashed-wrapped {border: 1px dashed gray;margin: 0 0.4em 0.5em 0.4em;box-sizing: border-box;padding-bottom: 0.4em;background-color: white;}#sk-container-id-1 div.sk-label label {font-family: monospace;font-weight: bold;display: inline-block;line-height: 1.2em;}#sk-container-id-1 div.sk-label-container {text-align: center;}#sk-container-id-1 div.sk-container {/* jupyter's `normalize.less` sets `[hidden] { display: none; }` but bootstrap.min.css set `[hidden] { display: none !important; }` so we also need the `!important` here to be able to override the default hidden behavior on the sphinx rendered scikit-learn.org. See: https://github.com/scikit-learn/scikit-learn/issues/21755 */display: inline-block !important;position: relative;}#sk-container-id-1 div.sk-text-repr-fallback {display: none;}</style><div id=\"sk-container-id-1\" class=\"sk-top-container\"><div class=\"sk-text-repr-fallback\"><pre>Pipeline(steps=[(&#x27;scale&#x27;, StandardScaler()),\n",
       "                (&#x27;model&#x27;, RandomForestClassifier(n_jobs=-1))])</pre><b>In a Jupyter environment, please rerun this cell to show the HTML representation or trust the notebook. <br />On GitHub, the HTML representation is unable to render, please try loading this page with nbviewer.org.</b></div><div class=\"sk-container\" hidden><div class=\"sk-item sk-dashed-wrapped\"><div class=\"sk-label-container\"><div class=\"sk-label sk-toggleable\"><input class=\"sk-toggleable__control sk-hidden--visually\" id=\"sk-estimator-id-1\" type=\"checkbox\" ><label for=\"sk-estimator-id-1\" class=\"sk-toggleable__label sk-toggleable__label-arrow\">Pipeline</label><div class=\"sk-toggleable__content\"><pre>Pipeline(steps=[(&#x27;scale&#x27;, StandardScaler()),\n",
       "                (&#x27;model&#x27;, RandomForestClassifier(n_jobs=-1))])</pre></div></div></div><div class=\"sk-serial\"><div class=\"sk-item\"><div class=\"sk-estimator sk-toggleable\"><input class=\"sk-toggleable__control sk-hidden--visually\" id=\"sk-estimator-id-2\" type=\"checkbox\" ><label for=\"sk-estimator-id-2\" class=\"sk-toggleable__label sk-toggleable__label-arrow\">StandardScaler</label><div class=\"sk-toggleable__content\"><pre>StandardScaler()</pre></div></div></div><div class=\"sk-item\"><div class=\"sk-estimator sk-toggleable\"><input class=\"sk-toggleable__control sk-hidden--visually\" id=\"sk-estimator-id-3\" type=\"checkbox\" ><label for=\"sk-estimator-id-3\" class=\"sk-toggleable__label sk-toggleable__label-arrow\">RandomForestClassifier</label><div class=\"sk-toggleable__content\"><pre>RandomForestClassifier(n_jobs=-1)</pre></div></div></div></div></div></div></div>"
      ],
      "text/plain": [
       "Pipeline(steps=[('scale', StandardScaler()),\n",
       "                ('model', RandomForestClassifier(n_jobs=-1))])"
      ]
     },
     "execution_count": 27,
     "metadata": {},
     "output_type": "execute_result"
    }
   ],
   "source": [
    "model.fit(X_train, y_train.values.ravel())"
   ]
  },
  {
   "cell_type": "code",
   "execution_count": 28,
   "id": "af59f8c0",
   "metadata": {
    "execution": {
     "iopub.execute_input": "2025-07-23T14:28:42.641325Z",
     "iopub.status.busy": "2025-07-23T14:28:42.640090Z",
     "iopub.status.idle": "2025-07-23T14:28:42.647280Z",
     "shell.execute_reply": "2025-07-23T14:28:42.646224Z"
    },
    "papermill": {
     "duration": 0.0902,
     "end_time": "2025-07-23T14:28:42.650297",
     "exception": false,
     "start_time": "2025-07-23T14:28:42.560097",
     "status": "completed"
    },
    "tags": []
   },
   "outputs": [],
   "source": [
    "from fairness_multiverse.universe import predict_w_threshold"
   ]
  },
  {
   "cell_type": "code",
   "execution_count": 29,
   "id": "a7cf2e16",
   "metadata": {
    "execution": {
     "iopub.execute_input": "2025-07-23T14:28:42.837426Z",
     "iopub.status.busy": "2025-07-23T14:28:42.836931Z",
     "iopub.status.idle": "2025-07-23T14:28:46.004750Z",
     "shell.execute_reply": "2025-07-23T14:28:46.003611Z"
    },
    "papermill": {
     "duration": 3.257792,
     "end_time": "2025-07-23T14:28:46.006462",
     "exception": false,
     "start_time": "2025-07-23T14:28:42.748670",
     "status": "completed"
    },
    "tags": []
   },
   "outputs": [
    {
     "data": {
      "text/plain": [
       "0.8667818526362724"
      ]
     },
     "execution_count": 29,
     "metadata": {},
     "output_type": "execute_result"
    }
   ],
   "source": [
    "probs_test = model.predict_proba(X_test)\n",
    "\n",
    "'''\n",
    "Below code returns a boolean array (or binary 0/1 array depending on how it’s used) where each element \n",
    "is True if the probability of class 1 is greater than or equal to the threshold, and False otherwise.\n",
    "'''\n",
    "y_pred_default = predict_w_threshold(probs_test, 0.5)\n",
    "\n",
    "from sklearn.metrics import accuracy_score\n",
    "\n",
    "# Naive prediction\n",
    "accuracy_score(y_true = y_true, y_pred = y_pred_default)"
   ]
  },
  {
   "cell_type": "code",
   "execution_count": 30,
   "id": "081964c3",
   "metadata": {
    "execution": {
     "iopub.execute_input": "2025-07-23T14:28:46.178924Z",
     "iopub.status.busy": "2025-07-23T14:28:46.178445Z",
     "iopub.status.idle": "2025-07-23T14:28:49.332039Z",
     "shell.execute_reply": "2025-07-23T14:28:49.330943Z"
    },
    "papermill": {
     "duration": 3.2534,
     "end_time": "2025-07-23T14:28:49.334150",
     "exception": false,
     "start_time": "2025-07-23T14:28:46.080750",
     "status": "completed"
    },
    "tags": []
   },
   "outputs": [
    {
     "data": {
      "text/plain": [
       "array([0, 0, 0, ..., 0, 0, 0])"
      ]
     },
     "execution_count": 30,
     "metadata": {},
     "output_type": "execute_result"
    }
   ],
   "source": [
    "model.predict(X_test)"
   ]
  },
  {
   "cell_type": "markdown",
   "id": "56c9705b",
   "metadata": {
    "papermill": {
     "duration": 0.05256,
     "end_time": "2025-07-23T14:28:49.429825",
     "exception": false,
     "start_time": "2025-07-23T14:28:49.377265",
     "status": "completed"
    },
    "tags": []
   },
   "source": [
    "# Conformal Prediction"
   ]
  },
  {
   "cell_type": "code",
   "execution_count": 31,
   "id": "160ec6ff",
   "metadata": {
    "execution": {
     "iopub.execute_input": "2025-07-23T14:28:49.524276Z",
     "iopub.status.busy": "2025-07-23T14:28:49.523823Z",
     "iopub.status.idle": "2025-07-23T14:28:49.532590Z",
     "shell.execute_reply": "2025-07-23T14:28:49.531464Z"
    },
    "papermill": {
     "duration": 0.053029,
     "end_time": "2025-07-23T14:28:49.535035",
     "exception": false,
     "start_time": "2025-07-23T14:28:49.482006",
     "status": "completed"
    },
    "tags": []
   },
   "outputs": [],
   "source": [
    "# Miscoverage level for conformal prediction (10% allowed error rate => 90% target coverage)\n",
    "alpha = 0.1"
   ]
  },
  {
   "cell_type": "code",
   "execution_count": 32,
   "id": "eadf4555-3dd3-440e-8e35-f82a4ad9f855",
   "metadata": {
    "execution": {
     "iopub.execute_input": "2025-07-23T14:28:49.692147Z",
     "iopub.status.busy": "2025-07-23T14:28:49.691691Z",
     "iopub.status.idle": "2025-07-23T14:28:53.237999Z",
     "shell.execute_reply": "2025-07-23T14:28:53.236937Z"
    },
    "papermill": {
     "duration": 3.615334,
     "end_time": "2025-07-23T14:28:53.240085",
     "exception": false,
     "start_time": "2025-07-23T14:28:49.624751",
     "status": "completed"
    },
    "tags": []
   },
   "outputs": [],
   "source": [
    "probs_calib = model.predict_proba(X_calib)"
   ]
  },
  {
   "cell_type": "code",
   "execution_count": 33,
   "id": "2ed93547-6d5d-4983-9b36-1ecb300da49a",
   "metadata": {
    "execution": {
     "iopub.execute_input": "2025-07-23T14:28:53.367113Z",
     "iopub.status.busy": "2025-07-23T14:28:53.366376Z",
     "iopub.status.idle": "2025-07-23T14:28:53.373162Z",
     "shell.execute_reply": "2025-07-23T14:28:53.372011Z"
    },
    "papermill": {
     "duration": 0.071129,
     "end_time": "2025-07-23T14:28:53.375340",
     "exception": false,
     "start_time": "2025-07-23T14:28:53.304211",
     "status": "completed"
    },
    "tags": []
   },
   "outputs": [],
   "source": [
    "y_calib = y_calib.values.ravel().astype(int)"
   ]
  },
  {
   "cell_type": "code",
   "execution_count": 34,
   "id": "65d1320d-f588-4b38-9072-62af1ae97f7d",
   "metadata": {
    "execution": {
     "iopub.execute_input": "2025-07-23T14:28:53.509576Z",
     "iopub.status.busy": "2025-07-23T14:28:53.509110Z",
     "iopub.status.idle": "2025-07-23T14:28:53.520824Z",
     "shell.execute_reply": "2025-07-23T14:28:53.519438Z"
    },
    "papermill": {
     "duration": 0.066151,
     "end_time": "2025-07-23T14:28:53.523012",
     "exception": false,
     "start_time": "2025-07-23T14:28:53.456861",
     "status": "completed"
    },
    "tags": []
   },
   "outputs": [],
   "source": [
    "from fairness_multiverse.conformal import compute_nc_scores\n",
    "\n",
    "# Compute nonconformity scores on calibration set (1 - probability of true class)\n",
    "nc_scores = compute_nc_scores(probs_calib, y_calib)"
   ]
  },
  {
   "cell_type": "code",
   "execution_count": 35,
   "id": "df3b8ca3-53b7-43d5-9667-7c85da7aeda2",
   "metadata": {
    "execution": {
     "iopub.execute_input": "2025-07-23T14:28:53.616636Z",
     "iopub.status.busy": "2025-07-23T14:28:53.616151Z",
     "iopub.status.idle": "2025-07-23T14:28:53.625861Z",
     "shell.execute_reply": "2025-07-23T14:28:53.624588Z"
    },
    "papermill": {
     "duration": 0.051069,
     "end_time": "2025-07-23T14:28:53.628281",
     "exception": false,
     "start_time": "2025-07-23T14:28:53.577212",
     "status": "completed"
    },
    "tags": []
   },
   "outputs": [],
   "source": [
    "from fairness_multiverse.conformal import find_threshold\n",
    "\n",
    "# Find conformal threshold q_hat for the given alpha (split conformal method)\n",
    "q_hat = find_threshold(nc_scores, alpha)"
   ]
  },
  {
   "cell_type": "code",
   "execution_count": 36,
   "id": "4d29e6c1-0ef6-4aa4-b8fe-4fe79b0d033a",
   "metadata": {
    "execution": {
     "iopub.execute_input": "2025-07-23T14:28:53.759657Z",
     "iopub.status.busy": "2025-07-23T14:28:53.759201Z",
     "iopub.status.idle": "2025-07-23T14:28:53.770694Z",
     "shell.execute_reply": "2025-07-23T14:28:53.769558Z"
    },
    "papermill": {
     "duration": 0.076863,
     "end_time": "2025-07-23T14:28:53.772882",
     "exception": false,
     "start_time": "2025-07-23T14:28:53.696019",
     "status": "completed"
    },
    "tags": []
   },
   "outputs": [
    {
     "data": {
      "text/plain": [
       "0.65"
      ]
     },
     "execution_count": 36,
     "metadata": {},
     "output_type": "execute_result"
    }
   ],
   "source": [
    "q_hat"
   ]
  },
  {
   "cell_type": "code",
   "execution_count": 37,
   "id": "92460794-cdac-4be2-ba28-f28c0515a6fb",
   "metadata": {
    "execution": {
     "iopub.execute_input": "2025-07-23T14:28:53.914997Z",
     "iopub.status.busy": "2025-07-23T14:28:53.914523Z",
     "iopub.status.idle": "2025-07-23T14:28:59.257764Z",
     "shell.execute_reply": "2025-07-23T14:28:59.256632Z"
    },
    "papermill": {
     "duration": 5.418639,
     "end_time": "2025-07-23T14:28:59.259847",
     "exception": false,
     "start_time": "2025-07-23T14:28:53.841208",
     "status": "completed"
    },
    "tags": []
   },
   "outputs": [],
   "source": [
    "from fairness_multiverse.conformal import predict_conformal_sets\n",
    "\n",
    "# Generate prediction sets for each test example\n",
    "pred_sets = predict_conformal_sets(model, X_test, q_hat)"
   ]
  },
  {
   "cell_type": "code",
   "execution_count": 38,
   "id": "d90c9a65-e6db-4f5d-80cd-e68fb7e46829",
   "metadata": {
    "execution": {
     "iopub.execute_input": "2025-07-23T14:28:59.399650Z",
     "iopub.status.busy": "2025-07-23T14:28:59.399165Z",
     "iopub.status.idle": "2025-07-23T14:28:59.405803Z",
     "shell.execute_reply": "2025-07-23T14:28:59.404706Z"
    },
    "papermill": {
     "duration": 0.08166,
     "end_time": "2025-07-23T14:28:59.408094",
     "exception": false,
     "start_time": "2025-07-23T14:28:59.326434",
     "status": "completed"
    },
    "tags": []
   },
   "outputs": [],
   "source": [
    "y_true = y_true.squeeze()"
   ]
  },
  {
   "cell_type": "code",
   "execution_count": 39,
   "id": "3a58a54a-1e68-46b9-927a-df01f18aebc8",
   "metadata": {
    "execution": {
     "iopub.execute_input": "2025-07-23T14:28:59.544170Z",
     "iopub.status.busy": "2025-07-23T14:28:59.543596Z",
     "iopub.status.idle": "2025-07-23T14:29:02.171454Z",
     "shell.execute_reply": "2025-07-23T14:29:02.170344Z"
    },
    "papermill": {
     "duration": 2.694818,
     "end_time": "2025-07-23T14:29:02.174149",
     "exception": false,
     "start_time": "2025-07-23T14:28:59.479331",
     "status": "completed"
    },
    "tags": []
   },
   "outputs": [],
   "source": [
    "from fairness_multiverse.conformal import evaluate_sets\n",
    "\n",
    "# Evaluate coverage and average set size on test data\n",
    "metrics = evaluate_sets(pred_sets, y_true)"
   ]
  },
  {
   "cell_type": "code",
   "execution_count": 40,
   "id": "5ce0a5cb-201f-45a0-ade5-94c7f0bd6095",
   "metadata": {
    "execution": {
     "iopub.execute_input": "2025-07-23T14:29:02.251778Z",
     "iopub.status.busy": "2025-07-23T14:29:02.251214Z",
     "iopub.status.idle": "2025-07-23T14:29:02.259950Z",
     "shell.execute_reply": "2025-07-23T14:29:02.258846Z"
    },
    "papermill": {
     "duration": 0.050433,
     "end_time": "2025-07-23T14:29:02.261751",
     "exception": false,
     "start_time": "2025-07-23T14:29:02.211318",
     "status": "completed"
    },
    "tags": []
   },
   "outputs": [
    {
     "data": {
      "text/plain": [
       "{'coverage': 0.9155946940140453, 'avg_size': 1.1413666257942259}"
      ]
     },
     "execution_count": 40,
     "metadata": {},
     "output_type": "execute_result"
    }
   ],
   "source": [
    "metrics"
   ]
  },
  {
   "cell_type": "code",
   "execution_count": 41,
   "id": "9b9a838d-31c9-430b-ae14-12baee460d17",
   "metadata": {
    "execution": {
     "iopub.execute_input": "2025-07-23T14:29:02.359693Z",
     "iopub.status.busy": "2025-07-23T14:29:02.359249Z",
     "iopub.status.idle": "2025-07-23T14:29:02.367703Z",
     "shell.execute_reply": "2025-07-23T14:29:02.366613Z"
    },
    "papermill": {
     "duration": 0.056712,
     "end_time": "2025-07-23T14:29:02.369796",
     "exception": false,
     "start_time": "2025-07-23T14:29:02.313084",
     "status": "completed"
    },
    "tags": []
   },
   "outputs": [],
   "source": [
    "example_universe = universe.copy()\n",
    "universe_model = example_universe.get(\"model\")\n",
    "universe_exclude_features = example_universe.get(\"exclude_features\")\n",
    "universe_exclude_subgroups = example_universe.get(\"exclude_subgroups\")\n",
    "universe_scale = example_universe.get(\"scale\")"
   ]
  },
  {
   "cell_type": "code",
   "execution_count": 42,
   "id": "f4b6a8ac-9dc0-4245-8a91-5b3b5999c4f9",
   "metadata": {
    "execution": {
     "iopub.execute_input": "2025-07-23T14:29:02.459181Z",
     "iopub.status.busy": "2025-07-23T14:29:02.458739Z",
     "iopub.status.idle": "2025-07-23T14:29:02.465821Z",
     "shell.execute_reply": "2025-07-23T14:29:02.464728Z"
    },
    "papermill": {
     "duration": 0.048407,
     "end_time": "2025-07-23T14:29:02.469591",
     "exception": false,
     "start_time": "2025-07-23T14:29:02.421184",
     "status": "completed"
    },
    "tags": []
   },
   "outputs": [],
   "source": [
    "cp_metrics_dict = {\n",
    "    \"universe_id\": [universe_id],\n",
    "    \"universe_model\": [universe_model],\n",
    "    \"universe_exclude_features\": [universe_exclude_features],\n",
    "    \"universe_exclude_subgroups\": [universe_exclude_subgroups],\n",
    "    \"universe_scale\": [universe_scale],\n",
    "    \"q_hat\": [q_hat],\n",
    "    \"coverage\": [metrics[\"coverage\"]],\n",
    "    \"avg_size\": [metrics[\"avg_size\"]],\n",
    "}"
   ]
  },
  {
   "cell_type": "code",
   "execution_count": 43,
   "id": "908acbb1-0371-4915-85ca-3fa520d2efe2",
   "metadata": {
    "execution": {
     "iopub.execute_input": "2025-07-23T14:29:02.564145Z",
     "iopub.status.busy": "2025-07-23T14:29:02.563682Z",
     "iopub.status.idle": "2025-07-23T14:29:02.573188Z",
     "shell.execute_reply": "2025-07-23T14:29:02.572109Z"
    },
    "papermill": {
     "duration": 0.052804,
     "end_time": "2025-07-23T14:29:02.576803",
     "exception": false,
     "start_time": "2025-07-23T14:29:02.523999",
     "status": "completed"
    },
    "tags": []
   },
   "outputs": [
    {
     "data": {
      "text/plain": [
       "{'universe_id': ['7a51055ac1c7f1c4c63180658429fbb4'],\n",
       " 'universe_model': ['rf'],\n",
       " 'universe_exclude_features': ['nationality'],\n",
       " 'universe_exclude_subgroups': ['keep-all'],\n",
       " 'universe_scale': ['scale'],\n",
       " 'q_hat': [0.65],\n",
       " 'coverage': [0.9155946940140453],\n",
       " 'avg_size': [1.1413666257942259]}"
      ]
     },
     "execution_count": 43,
     "metadata": {},
     "output_type": "execute_result"
    }
   ],
   "source": [
    "cp_metrics_dict"
   ]
  },
  {
   "cell_type": "code",
   "execution_count": 44,
   "id": "33007efc-14e9-4ec6-97ac-56a455c82265",
   "metadata": {
    "execution": {
     "iopub.execute_input": "2025-07-23T14:29:02.683625Z",
     "iopub.status.busy": "2025-07-23T14:29:02.683160Z",
     "iopub.status.idle": "2025-07-23T14:29:02.691885Z",
     "shell.execute_reply": "2025-07-23T14:29:02.690718Z"
    },
    "papermill": {
     "duration": 0.066443,
     "end_time": "2025-07-23T14:29:02.693912",
     "exception": false,
     "start_time": "2025-07-23T14:29:02.627469",
     "status": "completed"
    },
    "tags": []
   },
   "outputs": [],
   "source": [
    "cp_metrics_df = pd.DataFrame(cp_metrics_dict)"
   ]
  },
  {
   "cell_type": "code",
   "execution_count": 45,
   "id": "db12611b-57b2-4910-b9d0-355adfd6e7bf",
   "metadata": {
    "execution": {
     "iopub.execute_input": "2025-07-23T14:29:02.785864Z",
     "iopub.status.busy": "2025-07-23T14:29:02.785421Z",
     "iopub.status.idle": "2025-07-23T14:29:02.822743Z",
     "shell.execute_reply": "2025-07-23T14:29:02.821709Z"
    },
    "papermill": {
     "duration": 0.079906,
     "end_time": "2025-07-23T14:29:02.825158",
     "exception": false,
     "start_time": "2025-07-23T14:29:02.745252",
     "status": "completed"
    },
    "tags": []
   },
   "outputs": [
    {
     "data": {
      "text/html": [
       "<div>\n",
       "<style scoped>\n",
       "    .dataframe tbody tr th:only-of-type {\n",
       "        vertical-align: middle;\n",
       "    }\n",
       "\n",
       "    .dataframe tbody tr th {\n",
       "        vertical-align: top;\n",
       "    }\n",
       "\n",
       "    .dataframe thead th {\n",
       "        text-align: right;\n",
       "    }\n",
       "</style>\n",
       "<table border=\"1\" class=\"dataframe\">\n",
       "  <thead>\n",
       "    <tr style=\"text-align: right;\">\n",
       "      <th></th>\n",
       "      <th>universe_id</th>\n",
       "      <th>universe_model</th>\n",
       "      <th>universe_exclude_features</th>\n",
       "      <th>universe_exclude_subgroups</th>\n",
       "      <th>universe_scale</th>\n",
       "      <th>q_hat</th>\n",
       "      <th>coverage</th>\n",
       "      <th>avg_size</th>\n",
       "    </tr>\n",
       "  </thead>\n",
       "  <tbody>\n",
       "    <tr>\n",
       "      <th>0</th>\n",
       "      <td>7a51055ac1c7f1c4c63180658429fbb4</td>\n",
       "      <td>rf</td>\n",
       "      <td>nationality</td>\n",
       "      <td>keep-all</td>\n",
       "      <td>scale</td>\n",
       "      <td>0.65</td>\n",
       "      <td>0.915595</td>\n",
       "      <td>1.141367</td>\n",
       "    </tr>\n",
       "  </tbody>\n",
       "</table>\n",
       "</div>"
      ],
      "text/plain": [
       "                        universe_id universe_model universe_exclude_features  \\\n",
       "0  7a51055ac1c7f1c4c63180658429fbb4             rf               nationality   \n",
       "\n",
       "  universe_exclude_subgroups universe_scale  q_hat  coverage  avg_size  \n",
       "0                   keep-all          scale   0.65  0.915595  1.141367  "
      ]
     },
     "execution_count": 45,
     "metadata": {},
     "output_type": "execute_result"
    }
   ],
   "source": [
    "cp_metrics_df"
   ]
  },
  {
   "cell_type": "code",
   "execution_count": 46,
   "id": "b7fbde55-a0a1-47e4-9af6-fe4a17fa8c61",
   "metadata": {
    "execution": {
     "iopub.execute_input": "2025-07-23T14:29:02.914715Z",
     "iopub.status.busy": "2025-07-23T14:29:02.914247Z",
     "iopub.status.idle": "2025-07-23T14:29:02.920019Z",
     "shell.execute_reply": "2025-07-23T14:29:02.919048Z"
    },
    "papermill": {
     "duration": 0.050398,
     "end_time": "2025-07-23T14:29:02.923539",
     "exception": false,
     "start_time": "2025-07-23T14:29:02.873141",
     "status": "completed"
    },
    "tags": []
   },
   "outputs": [],
   "source": [
    "# Conditional Coverage & looking at subgroups"
   ]
  },
  {
   "cell_type": "code",
   "execution_count": 47,
   "id": "027ae886-68dd-4141-96c7-805a5450e1ef",
   "metadata": {
    "execution": {
     "iopub.execute_input": "2025-07-23T14:29:03.031378Z",
     "iopub.status.busy": "2025-07-23T14:29:03.030929Z",
     "iopub.status.idle": "2025-07-23T14:29:03.636933Z",
     "shell.execute_reply": "2025-07-23T14:29:03.635774Z"
    },
    "papermill": {
     "duration": 0.663389,
     "end_time": "2025-07-23T14:29:03.639060",
     "exception": false,
     "start_time": "2025-07-23T14:29:02.975671",
     "status": "completed"
    },
    "tags": []
   },
   "outputs": [],
   "source": [
    "from fairness_multiverse.conformal import build_cp_groups\n",
    "\n",
    "cp_groups_df = build_cp_groups(pred_sets, y_true, X_test.index, org_test)\n",
    "#needs universe_id and setting"
   ]
  },
  {
   "cell_type": "code",
   "execution_count": 48,
   "id": "c3b92545-903e-4839-89af-0f057907d7d6",
   "metadata": {
    "execution": {
     "iopub.execute_input": "2025-07-23T14:29:03.730743Z",
     "iopub.status.busy": "2025-07-23T14:29:03.730305Z",
     "iopub.status.idle": "2025-07-23T14:29:05.925905Z",
     "shell.execute_reply": "2025-07-23T14:29:05.924639Z"
    },
    "papermill": {
     "duration": 2.25468,
     "end_time": "2025-07-23T14:29:05.927894",
     "exception": false,
     "start_time": "2025-07-23T14:29:03.673214",
     "status": "completed"
    },
    "tags": []
   },
   "outputs": [],
   "source": [
    "# Define covered = 1 if true_label is in the predicted set\n",
    "cp_groups_df['covered'] = cp_groups_df.apply(\n",
    "    lambda r: int(r['true_label'] in r['pred_set']),\n",
    "    axis=1\n",
    ")"
   ]
  },
  {
   "cell_type": "code",
   "execution_count": 49,
   "id": "338ff529-1a6b-4b87-a931-8e4788d52aad",
   "metadata": {
    "execution": {
     "iopub.execute_input": "2025-07-23T14:29:06.035499Z",
     "iopub.status.busy": "2025-07-23T14:29:06.035029Z",
     "iopub.status.idle": "2025-07-23T14:29:06.040635Z",
     "shell.execute_reply": "2025-07-23T14:29:06.039425Z"
    },
    "papermill": {
     "duration": 0.056412,
     "end_time": "2025-07-23T14:29:06.042289",
     "exception": false,
     "start_time": "2025-07-23T14:29:05.985877",
     "status": "completed"
    },
    "tags": []
   },
   "outputs": [],
   "source": [
    "#cp_groups_df"
   ]
  },
  {
   "cell_type": "code",
   "execution_count": 50,
   "id": "90032e27-66df-4540-9169-4e89cfbaa758",
   "metadata": {
    "execution": {
     "iopub.execute_input": "2025-07-23T14:29:06.159023Z",
     "iopub.status.busy": "2025-07-23T14:29:06.158553Z",
     "iopub.status.idle": "2025-07-23T14:29:06.173858Z",
     "shell.execute_reply": "2025-07-23T14:29:06.172503Z"
    },
    "papermill": {
     "duration": 0.067457,
     "end_time": "2025-07-23T14:29:06.176265",
     "exception": false,
     "start_time": "2025-07-23T14:29:06.108808",
     "status": "completed"
    },
    "tags": []
   },
   "outputs": [],
   "source": [
    "subgroups = ['frau1','nongerman','nongerman_male','nongerman_female']\n",
    "\n",
    "# Conditional coverage for subgroup==1\n",
    "cond_coverage = {\n",
    "    g: cp_groups_df.loc[cp_groups_df[g]==1, 'covered'].mean()\n",
    "    for g in subgroups\n",
    "}"
   ]
  },
  {
   "cell_type": "code",
   "execution_count": 51,
   "id": "1e348fb1-b9c3-45bc-ba23-f016827a7e0d",
   "metadata": {
    "execution": {
     "iopub.execute_input": "2025-07-23T14:29:06.416322Z",
     "iopub.status.busy": "2025-07-23T14:29:06.415787Z",
     "iopub.status.idle": "2025-07-23T14:29:06.425435Z",
     "shell.execute_reply": "2025-07-23T14:29:06.424274Z"
    },
    "papermill": {
     "duration": 0.1132,
     "end_time": "2025-07-23T14:29:06.429925",
     "exception": false,
     "start_time": "2025-07-23T14:29:06.316725",
     "status": "completed"
    },
    "tags": []
   },
   "outputs": [
    {
     "data": {
      "text/plain": [
       "{'frau1': 0.9159994608437795,\n",
       " 'nongerman': 0.9116937068433166,\n",
       " 'nongerman_male': 0.9261460866432496,\n",
       " 'nongerman_female': 0.887779433681073}"
      ]
     },
     "execution_count": 51,
     "metadata": {},
     "output_type": "execute_result"
    }
   ],
   "source": [
    "cond_coverage"
   ]
  },
  {
   "cell_type": "code",
   "execution_count": 52,
   "id": "f5093324-c3dd-4d63-bc4c-8d945e5c8bbb",
   "metadata": {
    "execution": {
     "iopub.execute_input": "2025-07-23T14:29:06.620633Z",
     "iopub.status.busy": "2025-07-23T14:29:06.620158Z",
     "iopub.status.idle": "2025-07-23T14:29:06.628829Z",
     "shell.execute_reply": "2025-07-23T14:29:06.627704Z"
    },
    "papermill": {
     "duration": 0.103836,
     "end_time": "2025-07-23T14:29:06.630685",
     "exception": false,
     "start_time": "2025-07-23T14:29:06.526849",
     "status": "completed"
    },
    "tags": []
   },
   "outputs": [],
   "source": [
    "for subgroup, cov in cond_coverage.items():\n",
    "    cp_metrics_df[f\"cov_{subgroup}\"] = cov"
   ]
  },
  {
   "cell_type": "code",
   "execution_count": 53,
   "id": "6e872e10-dbe5-49e8-b554-5030c98ff75d",
   "metadata": {
    "execution": {
     "iopub.execute_input": "2025-07-23T14:29:06.826476Z",
     "iopub.status.busy": "2025-07-23T14:29:06.826027Z",
     "iopub.status.idle": "2025-07-23T14:29:06.899014Z",
     "shell.execute_reply": "2025-07-23T14:29:06.897840Z"
    },
    "papermill": {
     "duration": 0.173271,
     "end_time": "2025-07-23T14:29:06.906880",
     "exception": false,
     "start_time": "2025-07-23T14:29:06.733609",
     "status": "completed"
    },
    "tags": []
   },
   "outputs": [
    {
     "data": {
      "text/html": [
       "<div>\n",
       "<style scoped>\n",
       "    .dataframe tbody tr th:only-of-type {\n",
       "        vertical-align: middle;\n",
       "    }\n",
       "\n",
       "    .dataframe tbody tr th {\n",
       "        vertical-align: top;\n",
       "    }\n",
       "\n",
       "    .dataframe thead th {\n",
       "        text-align: right;\n",
       "    }\n",
       "</style>\n",
       "<table border=\"1\" class=\"dataframe\">\n",
       "  <thead>\n",
       "    <tr style=\"text-align: right;\">\n",
       "      <th></th>\n",
       "      <th>universe_id</th>\n",
       "      <th>universe_model</th>\n",
       "      <th>universe_exclude_features</th>\n",
       "      <th>universe_exclude_subgroups</th>\n",
       "      <th>universe_scale</th>\n",
       "      <th>q_hat</th>\n",
       "      <th>coverage</th>\n",
       "      <th>avg_size</th>\n",
       "      <th>cov_frau1</th>\n",
       "      <th>cov_nongerman</th>\n",
       "      <th>cov_nongerman_male</th>\n",
       "      <th>cov_nongerman_female</th>\n",
       "    </tr>\n",
       "  </thead>\n",
       "  <tbody>\n",
       "    <tr>\n",
       "      <th>0</th>\n",
       "      <td>7a51055ac1c7f1c4c63180658429fbb4</td>\n",
       "      <td>rf</td>\n",
       "      <td>nationality</td>\n",
       "      <td>keep-all</td>\n",
       "      <td>scale</td>\n",
       "      <td>0.65</td>\n",
       "      <td>0.915595</td>\n",
       "      <td>1.141367</td>\n",
       "      <td>0.915999</td>\n",
       "      <td>0.911694</td>\n",
       "      <td>0.926146</td>\n",
       "      <td>0.887779</td>\n",
       "    </tr>\n",
       "  </tbody>\n",
       "</table>\n",
       "</div>"
      ],
      "text/plain": [
       "                        universe_id universe_model universe_exclude_features  \\\n",
       "0  7a51055ac1c7f1c4c63180658429fbb4             rf               nationality   \n",
       "\n",
       "  universe_exclude_subgroups universe_scale  q_hat  coverage  avg_size  \\\n",
       "0                   keep-all          scale   0.65  0.915595  1.141367   \n",
       "\n",
       "   cov_frau1  cov_nongerman  cov_nongerman_male  cov_nongerman_female  \n",
       "0   0.915999       0.911694            0.926146              0.887779  "
      ]
     },
     "execution_count": 53,
     "metadata": {},
     "output_type": "execute_result"
    }
   ],
   "source": [
    "cp_metrics_df"
   ]
  },
  {
   "cell_type": "markdown",
   "id": "33774451",
   "metadata": {
    "papermill": {
     "duration": 0.145823,
     "end_time": "2025-07-23T14:29:07.116845",
     "exception": false,
     "start_time": "2025-07-23T14:29:06.971022",
     "status": "completed"
    },
    "tags": []
   },
   "source": [
    "# (Fairness) Metrics"
   ]
  },
  {
   "cell_type": "code",
   "execution_count": 54,
   "id": "debc5d62",
   "metadata": {
    "execution": {
     "iopub.execute_input": "2025-07-23T14:29:07.278867Z",
     "iopub.status.busy": "2025-07-23T14:29:07.278415Z",
     "iopub.status.idle": "2025-07-23T14:29:07.350963Z",
     "shell.execute_reply": "2025-07-23T14:29:07.349811Z"
    },
    "papermill": {
     "duration": 0.151788,
     "end_time": "2025-07-23T14:29:07.352939",
     "exception": false,
     "start_time": "2025-07-23T14:29:07.201151",
     "status": "completed"
    },
    "tags": []
   },
   "outputs": [],
   "source": [
    "# do I need to include maxdeutsch1.missing?\n",
    "\n",
    "import numpy as np\n",
    "\n",
    "colname_to_bin = \"maxdeutsch1\"\n",
    "majority_value = org_train[colname_to_bin].mode()[0]\n",
    "\n",
    "org_test[\"majmin\"] = np.where(org_test[colname_to_bin] == majority_value, \"majority\", \"minority\")"
   ]
  },
  {
   "cell_type": "code",
   "execution_count": 55,
   "id": "06a50de5",
   "metadata": {
    "execution": {
     "iopub.execute_input": "2025-07-23T14:29:07.449366Z",
     "iopub.status.busy": "2025-07-23T14:29:07.448908Z",
     "iopub.status.idle": "2025-07-23T14:29:13.052855Z",
     "shell.execute_reply": "2025-07-23T14:29:13.051570Z"
    },
    "papermill": {
     "duration": 5.662211,
     "end_time": "2025-07-23T14:29:13.055070",
     "exception": false,
     "start_time": "2025-07-23T14:29:07.392859",
     "status": "completed"
    },
    "tags": []
   },
   "outputs": [],
   "source": [
    "example_universe = universe.copy()\n",
    "example_universe[\"cutoff\"] = example_universe[\"cutoff\"][0]\n",
    "example_universe[\"eval_fairness_grouping\"] = example_universe[\"eval_fairness_grouping\"][0]\n",
    "fairness_dict, metric_frame = universe_analysis.compute_metrics(\n",
    "    example_universe,\n",
    "    y_pred_prob=probs_test,\n",
    "    y_test=y_true,\n",
    "    org_test=org_test,\n",
    ")"
   ]
  },
  {
   "cell_type": "markdown",
   "id": "f95d4e02",
   "metadata": {
    "papermill": {
     "duration": 0.061529,
     "end_time": "2025-07-23T14:29:13.176977",
     "exception": false,
     "start_time": "2025-07-23T14:29:13.115448",
     "status": "completed"
    },
    "tags": []
   },
   "source": [
    "# Overall"
   ]
  },
  {
   "cell_type": "markdown",
   "id": "bdee4871",
   "metadata": {
    "papermill": {
     "duration": 0.052127,
     "end_time": "2025-07-23T14:29:13.285402",
     "exception": false,
     "start_time": "2025-07-23T14:29:13.233275",
     "status": "completed"
    },
    "tags": []
   },
   "source": [
    "Fairness\n",
    "Main fairness target: Equalized Odds. Seems to be a better fit than equal opportunity, since we're not only interested in Y = 1. Seems to be a better fit than demographic parity, since we also care about accuracy, not just equal distribution of preds.\n",
    "\n",
    "Pick column for computation of fairness metrics\n",
    "\n",
    "Performance\n",
    "Overall performance measures, most interesting in relation to the measures split by group below"
   ]
  },
  {
   "cell_type": "code",
   "execution_count": 56,
   "id": "c4e067c6",
   "metadata": {
    "execution": {
     "iopub.execute_input": "2025-07-23T14:29:13.375396Z",
     "iopub.status.busy": "2025-07-23T14:29:13.374933Z",
     "iopub.status.idle": "2025-07-23T14:29:13.385631Z",
     "shell.execute_reply": "2025-07-23T14:29:13.384412Z"
    },
    "papermill": {
     "duration": 0.052623,
     "end_time": "2025-07-23T14:29:13.387922",
     "exception": false,
     "start_time": "2025-07-23T14:29:13.335299",
     "status": "completed"
    },
    "tags": []
   },
   "outputs": [
    {
     "data": {
      "text/plain": [
       "accuracy                   0.199398\n",
       "balanced accuracy          0.531454\n",
       "f1                         0.238641\n",
       "precision                  0.135899\n",
       "false positive rate        0.915194\n",
       "false negative rate        0.021898\n",
       "selection rate             0.923264\n",
       "count                  89710.000000\n",
       "dtype: float64"
      ]
     },
     "execution_count": 56,
     "metadata": {},
     "output_type": "execute_result"
    }
   ],
   "source": [
    "metric_frame.overall"
   ]
  },
  {
   "cell_type": "markdown",
   "id": "e968fe9d",
   "metadata": {
    "papermill": {
     "duration": 0.051881,
     "end_time": "2025-07-23T14:29:13.481083",
     "exception": false,
     "start_time": "2025-07-23T14:29:13.429202",
     "status": "completed"
    },
    "tags": []
   },
   "source": [
    "By Group"
   ]
  },
  {
   "cell_type": "code",
   "execution_count": 57,
   "id": "ec325bce",
   "metadata": {
    "execution": {
     "iopub.execute_input": "2025-07-23T14:29:13.587534Z",
     "iopub.status.busy": "2025-07-23T14:29:13.587077Z",
     "iopub.status.idle": "2025-07-23T14:29:13.617061Z",
     "shell.execute_reply": "2025-07-23T14:29:13.616012Z"
    },
    "papermill": {
     "duration": 0.085877,
     "end_time": "2025-07-23T14:29:13.619009",
     "exception": false,
     "start_time": "2025-07-23T14:29:13.533132",
     "status": "completed"
    },
    "tags": []
   },
   "outputs": [
    {
     "data": {
      "text/html": [
       "<div>\n",
       "<style scoped>\n",
       "    .dataframe tbody tr th:only-of-type {\n",
       "        vertical-align: middle;\n",
       "    }\n",
       "\n",
       "    .dataframe tbody tr th {\n",
       "        vertical-align: top;\n",
       "    }\n",
       "\n",
       "    .dataframe thead th {\n",
       "        text-align: right;\n",
       "    }\n",
       "</style>\n",
       "<table border=\"1\" class=\"dataframe\">\n",
       "  <thead>\n",
       "    <tr style=\"text-align: right;\">\n",
       "      <th></th>\n",
       "      <th>accuracy</th>\n",
       "      <th>balanced accuracy</th>\n",
       "      <th>f1</th>\n",
       "      <th>precision</th>\n",
       "      <th>false positive rate</th>\n",
       "      <th>false negative rate</th>\n",
       "      <th>selection rate</th>\n",
       "      <th>count</th>\n",
       "    </tr>\n",
       "    <tr>\n",
       "      <th>majmin</th>\n",
       "      <th></th>\n",
       "      <th></th>\n",
       "      <th></th>\n",
       "      <th></th>\n",
       "      <th></th>\n",
       "      <th></th>\n",
       "      <th></th>\n",
       "      <th></th>\n",
       "    </tr>\n",
       "  </thead>\n",
       "  <tbody>\n",
       "    <tr>\n",
       "      <th>majority</th>\n",
       "      <td>0.187090</td>\n",
       "      <td>0.527903</td>\n",
       "      <td>0.243695</td>\n",
       "      <td>0.138927</td>\n",
       "      <td>0.935332</td>\n",
       "      <td>0.008862</td>\n",
       "      <td>0.942706</td>\n",
       "      <td>69170.0</td>\n",
       "    </tr>\n",
       "    <tr>\n",
       "      <th>minority</th>\n",
       "      <td>0.240847</td>\n",
       "      <td>0.539559</td>\n",
       "      <td>0.219843</td>\n",
       "      <td>0.124695</td>\n",
       "      <td>0.848668</td>\n",
       "      <td>0.072213</td>\n",
       "      <td>0.857790</td>\n",
       "      <td>20540.0</td>\n",
       "    </tr>\n",
       "  </tbody>\n",
       "</table>\n",
       "</div>"
      ],
      "text/plain": [
       "          accuracy  balanced accuracy        f1  precision  \\\n",
       "majmin                                                       \n",
       "majority  0.187090           0.527903  0.243695   0.138927   \n",
       "minority  0.240847           0.539559  0.219843   0.124695   \n",
       "\n",
       "          false positive rate  false negative rate  selection rate    count  \n",
       "majmin                                                                       \n",
       "majority             0.935332             0.008862        0.942706  69170.0  \n",
       "minority             0.848668             0.072213        0.857790  20540.0  "
      ]
     },
     "execution_count": 57,
     "metadata": {},
     "output_type": "execute_result"
    }
   ],
   "source": [
    "metric_frame.by_group"
   ]
  },
  {
   "cell_type": "code",
   "execution_count": 58,
   "id": "a9ddbe63",
   "metadata": {
    "execution": {
     "iopub.execute_input": "2025-07-23T14:29:13.692663Z",
     "iopub.status.busy": "2025-07-23T14:29:13.692200Z",
     "iopub.status.idle": "2025-07-23T14:29:17.206607Z",
     "shell.execute_reply": "2025-07-23T14:29:17.205518Z"
    },
    "papermill": {
     "duration": 3.547921,
     "end_time": "2025-07-23T14:29:17.208730",
     "exception": false,
     "start_time": "2025-07-23T14:29:13.660809",
     "status": "completed"
    },
    "tags": []
   },
   "outputs": [
    {
     "data": {
      "text/plain": [
       "array([[<Axes: title={'center': 'accuracy'}, xlabel='majmin'>,\n",
       "        <Axes: title={'center': 'balanced accuracy'}, xlabel='majmin'>,\n",
       "        <Axes: title={'center': 'f1'}, xlabel='majmin'>],\n",
       "       [<Axes: title={'center': 'precision'}, xlabel='majmin'>,\n",
       "        <Axes: title={'center': 'false positive rate'}, xlabel='majmin'>,\n",
       "        <Axes: title={'center': 'false negative rate'}, xlabel='majmin'>],\n",
       "       [<Axes: title={'center': 'selection rate'}, xlabel='majmin'>,\n",
       "        <Axes: title={'center': 'count'}, xlabel='majmin'>,\n",
       "        <Axes: xlabel='majmin'>]], dtype=object)"
      ]
     },
     "execution_count": 58,
     "metadata": {},
     "output_type": "execute_result"
    },
    {
     "data": {
      "image/png": "[encoded data removed]",
      "text/plain": [
       "<Figure size 1200x800 with 9 Axes>"
      ]
     },
     "metadata": {},
     "output_type": "display_data"
    }
   ],
   "source": [
    "# In a graphic\n",
    "metric_frame.by_group.plot.bar(\n",
    "    subplots=True,\n",
    "    layout=[3, 3],\n",
    "    legend=False,\n",
    "    figsize=[12, 8],\n",
    "    title=\"Show all metrics\",\n",
    ")"
   ]
  },
  {
   "cell_type": "markdown",
   "id": "f57a0bac",
   "metadata": {
    "papermill": {
     "duration": 0.042811,
     "end_time": "2025-07-23T14:29:17.315491",
     "exception": false,
     "start_time": "2025-07-23T14:29:17.272680",
     "status": "completed"
    },
    "tags": []
   },
   "source": [
    "# Final Output"
   ]
  },
  {
   "cell_type": "code",
   "execution_count": 59,
   "id": "96d280a3",
   "metadata": {
    "execution": {
     "iopub.execute_input": "2025-07-23T14:29:17.436157Z",
     "iopub.status.busy": "2025-07-23T14:29:17.435555Z",
     "iopub.status.idle": "2025-07-23T14:29:17.444185Z",
     "shell.execute_reply": "2025-07-23T14:29:17.443259Z"
    },
    "papermill": {
     "duration": 0.095152,
     "end_time": "2025-07-23T14:29:17.445966",
     "exception": false,
     "start_time": "2025-07-23T14:29:17.350814",
     "status": "completed"
    },
    "tags": []
   },
   "outputs": [
    {
     "data": {
      "text/plain": [
       "4"
      ]
     },
     "execution_count": 59,
     "metadata": {},
     "output_type": "execute_result"
    }
   ],
   "source": [
    "sub_universes = universe_analysis.generate_sub_universes()\n",
    "len(sub_universes)"
   ]
  },
  {
   "cell_type": "code",
   "execution_count": 60,
   "id": "92adf7ba",
   "metadata": {
    "execution": {
     "iopub.execute_input": "2025-07-23T14:29:17.529612Z",
     "iopub.status.busy": "2025-07-23T14:29:17.529183Z",
     "iopub.status.idle": "2025-07-23T14:29:17.535944Z",
     "shell.execute_reply": "2025-07-23T14:29:17.534945Z"
    },
    "papermill": {
     "duration": 0.053235,
     "end_time": "2025-07-23T14:29:17.537872",
     "exception": false,
     "start_time": "2025-07-23T14:29:17.484637",
     "status": "completed"
    },
    "tags": []
   },
   "outputs": [],
   "source": [
    "def filter_sub_universe_data(sub_universe, org_test):\n",
    "    # Keep all rows — no filtering\n",
    "    keep_rows_mask = np.ones(org_test.shape[0], dtype=bool)\n",
    "\n",
    "    print(f\"[INFO] Keeping all rows: {keep_rows_mask.sum()} rows retained.\")\n",
    "    return keep_rows_mask"
   ]
  },
  {
   "cell_type": "code",
   "execution_count": 61,
   "id": "4a759155",
   "metadata": {
    "execution": {
     "iopub.execute_input": "2025-07-23T14:29:17.638552Z",
     "iopub.status.busy": "2025-07-23T14:29:17.638066Z",
     "iopub.status.idle": "2025-07-23T14:29:28.406809Z",
     "shell.execute_reply": "2025-07-23T14:29:28.405841Z"
    },
    "papermill": {
     "duration": 10.812327,
     "end_time": "2025-07-23T14:29:28.408623",
     "exception": false,
     "start_time": "2025-07-23T14:29:17.596296",
     "status": "completed"
    },
    "tags": []
   },
   "outputs": [
    {
     "name": "stdout",
     "output_type": "stream",
     "text": [
      "Stopping execution_time clock.\n",
      "[INFO] Keeping all rows: 89710 rows retained.\n"
     ]
    },
    {
     "name": "stdout",
     "output_type": "stream",
     "text": [
      "[INFO] Keeping all rows: 89710 rows retained.\n"
     ]
    },
    {
     "name": "stdout",
     "output_type": "stream",
     "text": [
      "[INFO] Keeping all rows: 89710 rows retained.\n"
     ]
    },
    {
     "name": "stdout",
     "output_type": "stream",
     "text": [
      "[INFO] Keeping all rows: 89710 rows retained.\n"
     ]
    },
    {
     "data": {
      "text/html": [
       "<div>\n",
       "<style scoped>\n",
       "    .dataframe tbody tr th:only-of-type {\n",
       "        vertical-align: middle;\n",
       "    }\n",
       "\n",
       "    .dataframe tbody tr th {\n",
       "        vertical-align: top;\n",
       "    }\n",
       "\n",
       "    .dataframe thead th {\n",
       "        text-align: right;\n",
       "    }\n",
       "</style>\n",
       "<table border=\"1\" class=\"dataframe\">\n",
       "  <thead>\n",
       "    <tr style=\"text-align: right;\">\n",
       "      <th></th>\n",
       "      <th>run_no</th>\n",
       "      <th>universe_id</th>\n",
       "      <th>universe_settings</th>\n",
       "      <th>execution_time</th>\n",
       "      <th>test_size_n</th>\n",
       "      <th>test_size_frac</th>\n",
       "      <th>fair_main_equalized_odds_difference</th>\n",
       "      <th>fair_main_equalized_odds_ratio</th>\n",
       "      <th>fair_main_demographic_parity_difference</th>\n",
       "      <th>fair_main_demographic_parity_ratio</th>\n",
       "      <th>...</th>\n",
       "      <th>perf_grp_precision_0</th>\n",
       "      <th>perf_grp_precision_1</th>\n",
       "      <th>perf_grp_false positive rate_0</th>\n",
       "      <th>perf_grp_false positive rate_1</th>\n",
       "      <th>perf_grp_false negative rate_0</th>\n",
       "      <th>perf_grp_false negative rate_1</th>\n",
       "      <th>perf_grp_selection rate_0</th>\n",
       "      <th>perf_grp_selection rate_1</th>\n",
       "      <th>perf_grp_count_0</th>\n",
       "      <th>perf_grp_count_1</th>\n",
       "    </tr>\n",
       "  </thead>\n",
       "  <tbody>\n",
       "    <tr>\n",
       "      <th>0</th>\n",
       "      <td>9</td>\n",
       "      <td>7a51055ac1c7f1c4c63180658429fbb4</td>\n",
       "      <td>{\"cutoff\": \"quantile_0.1\", \"eval_fairness_grou...</td>\n",
       "      <td>66.057003</td>\n",
       "      <td>89710</td>\n",
       "      <td>1.0</td>\n",
       "      <td>0.086664</td>\n",
       "      <td>0.907344</td>\n",
       "      <td>0.084917</td>\n",
       "      <td>0.909922</td>\n",
       "      <td>...</td>\n",
       "      <td>NaN</td>\n",
       "      <td>NaN</td>\n",
       "      <td>NaN</td>\n",
       "      <td>NaN</td>\n",
       "      <td>NaN</td>\n",
       "      <td>NaN</td>\n",
       "      <td>NaN</td>\n",
       "      <td>NaN</td>\n",
       "      <td>NaN</td>\n",
       "      <td>NaN</td>\n",
       "    </tr>\n",
       "    <tr>\n",
       "      <th>0</th>\n",
       "      <td>9</td>\n",
       "      <td>7a51055ac1c7f1c4c63180658429fbb4</td>\n",
       "      <td>{\"cutoff\": \"quantile_0.1\", \"eval_fairness_grou...</td>\n",
       "      <td>66.057003</td>\n",
       "      <td>89710</td>\n",
       "      <td>1.0</td>\n",
       "      <td>0.086664</td>\n",
       "      <td>0.907344</td>\n",
       "      <td>0.084917</td>\n",
       "      <td>0.909922</td>\n",
       "      <td>...</td>\n",
       "      <td>0.124695</td>\n",
       "      <td>0.138927</td>\n",
       "      <td>0.848668</td>\n",
       "      <td>0.935332</td>\n",
       "      <td>0.072213</td>\n",
       "      <td>0.008862</td>\n",
       "      <td>0.857790</td>\n",
       "      <td>0.942706</td>\n",
       "      <td>20540.0</td>\n",
       "      <td>69170.0</td>\n",
       "    </tr>\n",
       "    <tr>\n",
       "      <th>0</th>\n",
       "      <td>9</td>\n",
       "      <td>7a51055ac1c7f1c4c63180658429fbb4</td>\n",
       "      <td>{\"cutoff\": \"quantile_0.25\", \"eval_fairness_gro...</td>\n",
       "      <td>66.057003</td>\n",
       "      <td>89710</td>\n",
       "      <td>1.0</td>\n",
       "      <td>0.096997</td>\n",
       "      <td>0.885960</td>\n",
       "      <td>0.092627</td>\n",
       "      <td>0.884319</td>\n",
       "      <td>...</td>\n",
       "      <td>NaN</td>\n",
       "      <td>NaN</td>\n",
       "      <td>NaN</td>\n",
       "      <td>NaN</td>\n",
       "      <td>NaN</td>\n",
       "      <td>NaN</td>\n",
       "      <td>NaN</td>\n",
       "      <td>NaN</td>\n",
       "      <td>NaN</td>\n",
       "      <td>NaN</td>\n",
       "    </tr>\n",
       "    <tr>\n",
       "      <th>0</th>\n",
       "      <td>9</td>\n",
       "      <td>7a51055ac1c7f1c4c63180658429fbb4</td>\n",
       "      <td>{\"cutoff\": \"quantile_0.25\", \"eval_fairness_gro...</td>\n",
       "      <td>66.057003</td>\n",
       "      <td>89710</td>\n",
       "      <td>1.0</td>\n",
       "      <td>0.096997</td>\n",
       "      <td>0.885960</td>\n",
       "      <td>0.092627</td>\n",
       "      <td>0.884319</td>\n",
       "      <td>...</td>\n",
       "      <td>0.141020</td>\n",
       "      <td>0.158942</td>\n",
       "      <td>0.687486</td>\n",
       "      <td>0.775979</td>\n",
       "      <td>0.133868</td>\n",
       "      <td>0.036871</td>\n",
       "      <td>0.708082</td>\n",
       "      <td>0.800708</td>\n",
       "      <td>20540.0</td>\n",
       "      <td>69170.0</td>\n",
       "    </tr>\n",
       "  </tbody>\n",
       "</table>\n",
       "<p>4 rows × 50 columns</p>\n",
       "</div>"
      ],
      "text/plain": [
       "  run_no                       universe_id  \\\n",
       "0      9  7a51055ac1c7f1c4c63180658429fbb4   \n",
       "0      9  7a51055ac1c7f1c4c63180658429fbb4   \n",
       "0      9  7a51055ac1c7f1c4c63180658429fbb4   \n",
       "0      9  7a51055ac1c7f1c4c63180658429fbb4   \n",
       "\n",
       "                                   universe_settings  execution_time  \\\n",
       "0  {\"cutoff\": \"quantile_0.1\", \"eval_fairness_grou...       66.057003   \n",
       "0  {\"cutoff\": \"quantile_0.1\", \"eval_fairness_grou...       66.057003   \n",
       "0  {\"cutoff\": \"quantile_0.25\", \"eval_fairness_gro...       66.057003   \n",
       "0  {\"cutoff\": \"quantile_0.25\", \"eval_fairness_gro...       66.057003   \n",
       "\n",
       "   test_size_n  test_size_frac  fair_main_equalized_odds_difference  \\\n",
       "0        89710             1.0                             0.086664   \n",
       "0        89710             1.0                             0.086664   \n",
       "0        89710             1.0                             0.096997   \n",
       "0        89710             1.0                             0.096997   \n",
       "\n",
       "   fair_main_equalized_odds_ratio  fair_main_demographic_parity_difference  \\\n",
       "0                        0.907344                                 0.084917   \n",
       "0                        0.907344                                 0.084917   \n",
       "0                        0.885960                                 0.092627   \n",
       "0                        0.885960                                 0.092627   \n",
       "\n",
       "   fair_main_demographic_parity_ratio  ...  perf_grp_precision_0  \\\n",
       "0                            0.909922  ...                   NaN   \n",
       "0                            0.909922  ...              0.124695   \n",
       "0                            0.884319  ...                   NaN   \n",
       "0                            0.884319  ...              0.141020   \n",
       "\n",
       "   perf_grp_precision_1  perf_grp_false positive rate_0  \\\n",
       "0                   NaN                             NaN   \n",
       "0              0.138927                        0.848668   \n",
       "0                   NaN                             NaN   \n",
       "0              0.158942                        0.687486   \n",
       "\n",
       "   perf_grp_false positive rate_1  perf_grp_false negative rate_0  \\\n",
       "0                             NaN                             NaN   \n",
       "0                        0.935332                        0.072213   \n",
       "0                             NaN                             NaN   \n",
       "0                        0.775979                        0.133868   \n",
       "\n",
       "   perf_grp_false negative rate_1  perf_grp_selection rate_0  \\\n",
       "0                             NaN                        NaN   \n",
       "0                        0.008862                   0.857790   \n",
       "0                             NaN                        NaN   \n",
       "0                        0.036871                   0.708082   \n",
       "\n",
       "   perf_grp_selection rate_1  perf_grp_count_0  perf_grp_count_1  \n",
       "0                        NaN               NaN               NaN  \n",
       "0                   0.942706           20540.0           69170.0  \n",
       "0                        NaN               NaN               NaN  \n",
       "0                   0.800708           20540.0           69170.0  \n",
       "\n",
       "[4 rows x 50 columns]"
      ]
     },
     "execution_count": 61,
     "metadata": {},
     "output_type": "execute_result"
    }
   ],
   "source": [
    "final_output = universe_analysis.generate_final_output(\n",
    "    y_pred_prob=probs_test,\n",
    "    y_test=y_true,\n",
    "    org_test=org_test,\n",
    "    filter_data=filter_sub_universe_data,\n",
    "    cp_metrics_df=cp_metrics_df,\n",
    "    save=True,\n",
    ")\n",
    "final_output"
   ]
  },
  {
   "cell_type": "code",
   "execution_count": null,
   "id": "721ff514-cb11-46f8-b6fc-50392f74b5cb",
   "metadata": {
    "papermill": {
     "duration": 0.029481,
     "end_time": "2025-07-23T14:29:28.467739",
     "exception": false,
     "start_time": "2025-07-23T14:29:28.438258",
     "status": "completed"
    },
    "tags": []
   },
   "outputs": [],
   "source": []
  }
 ],
 "metadata": {
  "celltoolbar": "Tags",
  "kernelspec": {
   "display_name": "Python (CMA Fairness)",
   "language": "python",
   "name": "cma_fair_env"
  },
  "language_info": {
   "codemirror_mode": {
    "name": "ipython",
    "version": 3
   },
   "file_extension": ".py",
   "mimetype": "text/x-python",
   "name": "python",
   "nbconvert_exporter": "python",
   "pygments_lexer": "ipython3",
   "version": "3.10.12"
  },
  "papermill": {
   "default_parameters": {},
   "duration": 81.175479,
   "end_time": "2025-07-23T14:29:29.213972",
   "environment_variables": {},
   "exception": null,
   "input_path": "universe_analysis.ipynb",
   "output_path": "output/runs/9/notebooks/m_9-7a51055ac1c7f1c4c63180658429fbb4.ipynb",
   "parameters": {
    "output_dir": "output",
    "run_no": "9",
    "seed": "2023",
    "universe": "{\"cutoff\": [\"quantile_0.1\", \"quantile_0.25\"], \"eval_fairness_grouping\": [\"majority-minority\", \"nationality-all\"], \"exclude_features\": \"nationality\", \"exclude_subgroups\": \"keep-all\", \"model\": \"rf\", \"scale\": \"scale\"}",
    "universe_id": "7a51055ac1c7f1c4c63180658429fbb4"
   },
   "start_time": "2025-07-23T14:28:08.038493",
   "version": "2.6.0"
  }
 },
 "nbformat": 4,
 "nbformat_minor": 5
}