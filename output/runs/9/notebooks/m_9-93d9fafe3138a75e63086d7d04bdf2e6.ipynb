{
 "cells": [
  {
   "cell_type": "code",
   "execution_count": 1,
   "id": "f159f837-637b-42ba-96b5-ec9a68c44524",
   "metadata": {
    "execution": {
     "iopub.execute_input": "2025-07-23T14:27:32.919901Z",
     "iopub.status.busy": "2025-07-23T14:27:32.919048Z",
     "iopub.status.idle": "2025-07-23T14:27:32.936903Z",
     "shell.execute_reply": "2025-07-23T14:27:32.935728Z"
    },
    "papermill": {
     "duration": 0.047705,
     "end_time": "2025-07-23T14:27:32.939013",
     "exception": false,
     "start_time": "2025-07-23T14:27:32.891308",
     "status": "completed"
    },
    "tags": []
   },
   "outputs": [
    {
     "name": "stdout",
     "output_type": "stream",
     "text": [
      "/dss/dsshome1/0C/ra93lal2/cma/CMA_Fairness_v2\n"
     ]
    },
    {
     "name": "stderr",
     "output_type": "stream",
     "text": [
      "/dss/dsshome1/0C/ra93lal2/.local/share/virtualenvs/CMA_Fairness_v2-3j10GkSs/lib/python3.10/site-packages/IPython/core/magics/osm.py:393: UserWarning: This is now an optional IPython functionality, using bookmarks requires you to install the `pickleshare` library.\n",
      "  bkms = self.shell.db.get('bookmarks', {})\n",
      "/dss/dsshome1/0C/ra93lal2/.local/share/virtualenvs/CMA_Fairness_v2-3j10GkSs/lib/python3.10/site-packages/IPython/core/magics/osm.py:417: UserWarning: This is now an optional IPython functionality, setting dhist requires you to install the `pickleshare` library.\n",
      "  self.shell.db['dhist'] = compress_dhist(dhist)[-100:]\n"
     ]
    }
   ],
   "source": [
    "%cd ~/cma/CMA_Fairness_v2"
   ]
  },
  {
   "cell_type": "markdown",
   "id": "de2603b9",
   "metadata": {
    "papermill": {
     "duration": 0.017242,
     "end_time": "2025-07-23T14:27:32.974822",
     "exception": false,
     "start_time": "2025-07-23T14:27:32.957580",
     "status": "completed"
    },
    "tags": []
   },
   "source": [
    "The following cell holds the definition of our parameters, these values can be overriden by rendering the with e.g. the following command:\n",
    "\n",
    "papermill -p alpha 0.2 -p ratio 0.3 universe_analysis.ipynb output/test_run.ipynb"
   ]
  },
  {
   "cell_type": "code",
   "execution_count": 2,
   "id": "a80968a0-40bb-4fa9-85ef-2d5eefb01975",
   "metadata": {
    "execution": {
     "iopub.execute_input": "2025-07-23T14:27:32.997816Z",
     "iopub.status.busy": "2025-07-23T14:27:32.997195Z",
     "iopub.status.idle": "2025-07-23T14:27:33.002613Z",
     "shell.execute_reply": "2025-07-23T14:27:33.001496Z"
    },
    "papermill": {
     "duration": 0.017906,
     "end_time": "2025-07-23T14:27:33.004099",
     "exception": false,
     "start_time": "2025-07-23T14:27:32.986193",
     "status": "completed"
    },
    "tags": []
   },
   "outputs": [
    {
     "name": "stdout",
     "output_type": "stream",
     "text": [
      "Current working directory: /dss/dsshome1/0C/ra93lal2/cma/CMA_Fairness_v2\n"
     ]
    }
   ],
   "source": [
    "import os\n",
    "print(\"Current working directory:\", os.getcwd())"
   ]
  },
  {
   "cell_type": "code",
   "execution_count": 3,
   "id": "2dce4c03",
   "metadata": {
    "execution": {
     "iopub.execute_input": "2025-07-23T14:27:33.025030Z",
     "iopub.status.busy": "2025-07-23T14:27:33.024634Z",
     "iopub.status.idle": "2025-07-23T14:27:33.029986Z",
     "shell.execute_reply": "2025-07-23T14:27:33.029071Z"
    },
    "papermill": {
     "duration": 0.017589,
     "end_time": "2025-07-23T14:27:33.031852",
     "exception": false,
     "start_time": "2025-07-23T14:27:33.014263",
     "status": "completed"
    },
    "tags": [
     "parameters"
    ]
   },
   "outputs": [],
   "source": [
    "run_no = 0\n",
    "universe_id = \"test\"\n",
    "universe = {\n",
    "    \"scale\": \"scale\", # \"scale\", \"do-not-scale\",\n",
    "    \"model\": \"elasticnet\", # \"logreg\", \"penalized_logreg\", \"rf\", \"gbm\", \"elasticnet\"\n",
    "    \"cutoff\": [\"quantile_0.15\", \"quantile_0.30\"],\n",
    "    \"exclude_features\": \"age\", # \"none\", \"nationality\", \"sex\", \"nationality-sex\", \"age\"\n",
    "    \"exclude_subgroups\": \"keep-all\", # \"keep-all\", \"drop-non-german\"\n",
    "    #\"training_sample\": \"restricted\", # \"restricted\", \"full\"\n",
    "    \"eval_fairness_grouping\": [\"majority-minority\", \"nationality-all\"]\n",
    "}\n",
    "\n",
    "output_dir=\"./output\"\n",
    "seed=0"
   ]
  },
  {
   "cell_type": "code",
   "execution_count": 4,
   "id": "d9207538",
   "metadata": {
    "execution": {
     "iopub.execute_input": "2025-07-23T14:27:33.069442Z",
     "iopub.status.busy": "2025-07-23T14:27:33.068880Z",
     "iopub.status.idle": "2025-07-23T14:27:33.075504Z",
     "shell.execute_reply": "2025-07-23T14:27:33.074537Z"
    },
    "papermill": {
     "duration": 0.028059,
     "end_time": "2025-07-23T14:27:33.077484",
     "exception": false,
     "start_time": "2025-07-23T14:27:33.049425",
     "status": "completed"
    },
    "tags": [
     "injected-parameters"
    ]
   },
   "outputs": [],
   "source": [
    "# Parameters\n",
    "universe_id = \"93d9fafe3138a75e63086d7d04bdf2e6\"\n",
    "run_no = \"9\"\n",
    "universe = \"{\\\"cutoff\\\": [\\\"quantile_0.1\\\", \\\"quantile_0.25\\\"], \\\"eval_fairness_grouping\\\": [\\\"majority-minority\\\", \\\"nationality-all\\\"], \\\"exclude_features\\\": \\\"none\\\", \\\"exclude_subgroups\\\": \\\"keep-all\\\", \\\"model\\\": \\\"rf\\\", \\\"scale\\\": \\\"scale\\\"}\"\n",
    "output_dir = \"output\"\n",
    "seed = \"2023\"\n"
   ]
  },
  {
   "cell_type": "code",
   "execution_count": 5,
   "id": "1650acaf",
   "metadata": {
    "execution": {
     "iopub.execute_input": "2025-07-23T14:27:33.117864Z",
     "iopub.status.busy": "2025-07-23T14:27:33.117310Z",
     "iopub.status.idle": "2025-07-23T14:27:33.123195Z",
     "shell.execute_reply": "2025-07-23T14:27:33.122086Z"
    },
    "papermill": {
     "duration": 0.028284,
     "end_time": "2025-07-23T14:27:33.125070",
     "exception": false,
     "start_time": "2025-07-23T14:27:33.096786",
     "status": "completed"
    },
    "tags": []
   },
   "outputs": [],
   "source": [
    "import json\n",
    "# Parse universe into dict if it is passed as a string\n",
    "if isinstance(universe, str):\n",
    "    universe = json.loads(universe)"
   ]
  },
  {
   "cell_type": "code",
   "execution_count": 6,
   "id": "16620c48",
   "metadata": {
    "execution": {
     "iopub.execute_input": "2025-07-23T14:27:33.165788Z",
     "iopub.status.busy": "2025-07-23T14:27:33.165239Z",
     "iopub.status.idle": "2025-07-23T14:27:33.215849Z",
     "shell.execute_reply": "2025-07-23T14:27:33.214851Z"
    },
    "papermill": {
     "duration": 0.073323,
     "end_time": "2025-07-23T14:27:33.218065",
     "exception": false,
     "start_time": "2025-07-23T14:27:33.144742",
     "status": "completed"
    },
    "tags": []
   },
   "outputs": [],
   "source": [
    "# Auto-reload the custom package\n",
    "%load_ext autoreload\n",
    "%autoreload 1\n",
    "%aimport fairness_multiverse"
   ]
  },
  {
   "cell_type": "code",
   "execution_count": 7,
   "id": "01c5c9f3",
   "metadata": {
    "execution": {
     "iopub.execute_input": "2025-07-23T14:27:33.259003Z",
     "iopub.status.busy": "2025-07-23T14:27:33.258384Z",
     "iopub.status.idle": "2025-07-23T14:27:35.470791Z",
     "shell.execute_reply": "2025-07-23T14:27:35.469551Z"
    },
    "papermill": {
     "duration": 2.236898,
     "end_time": "2025-07-23T14:27:35.473956",
     "exception": false,
     "start_time": "2025-07-23T14:27:33.237058",
     "status": "completed"
    },
    "tags": []
   },
   "outputs": [],
   "source": [
    "from fairness_multiverse.universe import UniverseAnalysis\n",
    "\n",
    "universe_analysis = UniverseAnalysis(\n",
    "    run_no = run_no,\n",
    "    universe_id = universe_id,\n",
    "    universe = universe,\n",
    "    output_dir=output_dir,\n",
    ")"
   ]
  },
  {
   "cell_type": "code",
   "execution_count": 8,
   "id": "106241f5",
   "metadata": {
    "execution": {
     "iopub.execute_input": "2025-07-23T14:27:35.519208Z",
     "iopub.status.busy": "2025-07-23T14:27:35.518261Z",
     "iopub.status.idle": "2025-07-23T14:27:35.527546Z",
     "shell.execute_reply": "2025-07-23T14:27:35.526236Z"
    },
    "papermill": {
     "duration": 0.032692,
     "end_time": "2025-07-23T14:27:35.530137",
     "exception": false,
     "start_time": "2025-07-23T14:27:35.497445",
     "status": "completed"
    },
    "tags": []
   },
   "outputs": [
    {
     "name": "stdout",
     "output_type": "stream",
     "text": [
      "Using Seed: 2023\n"
     ]
    }
   ],
   "source": [
    "import numpy as np\n",
    "parsed_seed = int(seed)\n",
    "np.random.seed(parsed_seed)\n",
    "print(f\"Using Seed: {parsed_seed}\")"
   ]
  },
  {
   "cell_type": "markdown",
   "id": "e0ebdc57",
   "metadata": {
    "papermill": {
     "duration": 0.02567,
     "end_time": "2025-07-23T14:27:35.581173",
     "exception": false,
     "start_time": "2025-07-23T14:27:35.555503",
     "status": "completed"
    },
    "tags": []
   },
   "source": [
    "# Loading Data"
   ]
  },
  {
   "cell_type": "markdown",
   "id": "681925a3",
   "metadata": {
    "papermill": {
     "duration": 0.020381,
     "end_time": "2025-07-23T14:27:35.623300",
     "exception": false,
     "start_time": "2025-07-23T14:27:35.602919",
     "status": "completed"
    },
    "tags": []
   },
   "source": [
    "Load siab_train, siab_test, siab_calib and/or \n",
    "load siab_train_features, siab_train_labels"
   ]
  },
  {
   "cell_type": "code",
   "execution_count": 9,
   "id": "f0496b8a",
   "metadata": {
    "execution": {
     "iopub.execute_input": "2025-07-23T14:27:35.667100Z",
     "iopub.status.busy": "2025-07-23T14:27:35.666083Z",
     "iopub.status.idle": "2025-07-23T14:27:35.673540Z",
     "shell.execute_reply": "2025-07-23T14:27:35.672030Z"
    },
    "papermill": {
     "duration": 0.031998,
     "end_time": "2025-07-23T14:27:35.675882",
     "exception": false,
     "start_time": "2025-07-23T14:27:35.643884",
     "status": "completed"
    },
    "tags": []
   },
   "outputs": [],
   "source": [
    "# Do I need to load siab? Delete this cell?\n",
    "\n",
    "#from pathlib import Path\n",
    "#import pandas as pd\n",
    "#\n",
    "## File paths\n",
    "#raw_file = Path(\"data/raw/siab.csv\")\n",
    "#cache_file = Path(\"data/siab_cached.csv.gz\")\n",
    "#\n",
    "## Ensure cache directory exists\n",
    "#cache_file.parent.mkdir(parents=True, exist_ok=True)\n",
    "#\n",
    "## Load with simple caching\n",
    "#if cache_file.exists():\n",
    "#    print(f\"Loading SIAB data from cache: {cache_file}\")\n",
    "#    siab = pd.read_csv(cache_file, compression='gzip')\n",
    "#else:\n",
    "#    print(f\"Cache not found. Reading raw SIAB data: {raw_file}\")\n",
    "#    siab = pd.read_csv(raw_file)\n",
    "#    siab.to_csv(cache_file, index=False, compression='gzip')\n",
    "#    print(f\"Cached SIAB data to: {cache_file}\")\n",
    "#\n",
    "## Now use `siab` DataFrame as needed\n",
    "#print(siab.shape)\n"
   ]
  },
  {
   "cell_type": "code",
   "execution_count": 10,
   "id": "a0edb063",
   "metadata": {
    "execution": {
     "iopub.execute_input": "2025-07-23T14:27:35.733511Z",
     "iopub.status.busy": "2025-07-23T14:27:35.732886Z",
     "iopub.status.idle": "2025-07-23T14:27:37.110981Z",
     "shell.execute_reply": "2025-07-23T14:27:37.109894Z"
    },
    "papermill": {
     "duration": 1.409519,
     "end_time": "2025-07-23T14:27:37.113180",
     "exception": false,
     "start_time": "2025-07-23T14:27:35.703661",
     "status": "completed"
    },
    "tags": []
   },
   "outputs": [],
   "source": [
    "import pandas as pd\n",
    "\n",
    "X_train = pd.read_csv(\"./data/X_train.csv\")\n",
    "y_train = pd.read_csv(\"./data/y_train.csv\")"
   ]
  },
  {
   "cell_type": "code",
   "execution_count": 11,
   "id": "63d08085",
   "metadata": {
    "execution": {
     "iopub.execute_input": "2025-07-23T14:27:37.154174Z",
     "iopub.status.busy": "2025-07-23T14:27:37.153685Z",
     "iopub.status.idle": "2025-07-23T14:27:38.956715Z",
     "shell.execute_reply": "2025-07-23T14:27:38.955296Z"
    },
    "papermill": {
     "duration": 1.826013,
     "end_time": "2025-07-23T14:27:38.959188",
     "exception": false,
     "start_time": "2025-07-23T14:27:37.133175",
     "status": "completed"
    },
    "tags": []
   },
   "outputs": [],
   "source": [
    "X_test = pd.read_csv(\"./data/X_test.csv\")\n",
    "y_true = pd.read_csv(\"./data/y_test.csv\")"
   ]
  },
  {
   "cell_type": "code",
   "execution_count": 12,
   "id": "98a8d0fa-1d3d-4ed8-bb2c-281470e24add",
   "metadata": {
    "execution": {
     "iopub.execute_input": "2025-07-23T14:27:39.027455Z",
     "iopub.status.busy": "2025-07-23T14:27:39.026764Z",
     "iopub.status.idle": "2025-07-23T14:27:40.578526Z",
     "shell.execute_reply": "2025-07-23T14:27:40.577362Z"
    },
    "papermill": {
     "duration": 1.581933,
     "end_time": "2025-07-23T14:27:40.580967",
     "exception": false,
     "start_time": "2025-07-23T14:27:38.999034",
     "status": "completed"
    },
    "tags": []
   },
   "outputs": [],
   "source": [
    "# Calibration data for conformal\n",
    "X_calib = pd.read_csv(\"./data/X_calib.csv\")\n",
    "y_calib = pd.read_csv(\"./data/y_calib.csv\")"
   ]
  },
  {
   "cell_type": "code",
   "execution_count": 13,
   "id": "e6c733c5",
   "metadata": {
    "execution": {
     "iopub.execute_input": "2025-07-23T14:27:40.641443Z",
     "iopub.status.busy": "2025-07-23T14:27:40.640966Z",
     "iopub.status.idle": "2025-07-23T14:27:40.785412Z",
     "shell.execute_reply": "2025-07-23T14:27:40.784279Z"
    },
    "papermill": {
     "duration": 0.185086,
     "end_time": "2025-07-23T14:27:40.787799",
     "exception": false,
     "start_time": "2025-07-23T14:27:40.602713",
     "status": "completed"
    },
    "tags": []
   },
   "outputs": [],
   "source": [
    "# Auxiliary data needed downstream in the pipeline\n",
    "\n",
    "org_train = X_train.copy()\n",
    "org_test = X_test.copy()\n",
    "org_calib = X_calib.copy()"
   ]
  },
  {
   "cell_type": "markdown",
   "id": "0a4a1b33",
   "metadata": {
    "papermill": {
     "duration": 0.020802,
     "end_time": "2025-07-23T14:27:40.829667",
     "exception": false,
     "start_time": "2025-07-23T14:27:40.808865",
     "status": "completed"
    },
    "tags": []
   },
   "source": [
    "# Preprocessing Data"
   ]
  },
  {
   "cell_type": "code",
   "execution_count": 14,
   "id": "ca879031",
   "metadata": {
    "execution": {
     "iopub.execute_input": "2025-07-23T14:27:40.873417Z",
     "iopub.status.busy": "2025-07-23T14:27:40.872852Z",
     "iopub.status.idle": "2025-07-23T14:27:40.880174Z",
     "shell.execute_reply": "2025-07-23T14:27:40.878905Z"
    },
    "papermill": {
     "duration": 0.031926,
     "end_time": "2025-07-23T14:27:40.882333",
     "exception": false,
     "start_time": "2025-07-23T14:27:40.850407",
     "status": "completed"
    },
    "tags": []
   },
   "outputs": [],
   "source": [
    "# EXCLUDE PROTECTED FEATURES\n",
    "# ----------------------\n",
    "# \"exclude_features\": \"none\", # \"nationality\", \"sex\", \"nationality-sex\"\n",
    "\n",
    "excluded_features = universe[\"exclude_features\"].split(\"-\") # split, e.g.: \"nationality-sex\" -> [\"nationality\", \"sex\"]\n",
    "excluded_features_dictionary = {\n",
    "    \"nationality\": [\"maxdeutsch1\", \"maxdeutsch.Missing.\"],\n",
    "    \"sex\": [\"frau1\"],\n",
    "    \"age\": [\"age\"],\n",
    "}\n"
   ]
  },
  {
   "cell_type": "code",
   "execution_count": 15,
   "id": "b745ac60",
   "metadata": {
    "execution": {
     "iopub.execute_input": "2025-07-23T14:27:40.926616Z",
     "iopub.status.busy": "2025-07-23T14:27:40.926035Z",
     "iopub.status.idle": "2025-07-23T14:27:40.933570Z",
     "shell.execute_reply": "2025-07-23T14:27:40.932250Z"
    },
    "papermill": {
     "duration": 0.031687,
     "end_time": "2025-07-23T14:27:40.935578",
     "exception": false,
     "start_time": "2025-07-23T14:27:40.903891",
     "status": "completed"
    },
    "tags": []
   },
   "outputs": [],
   "source": [
    "# Code nice names to column names\n",
    "\n",
    "excluded_features_columns = [\n",
    "    excluded_features_dictionary[f] for f in excluded_features if len(f) > 0 and f != \"none\"\n",
    "]"
   ]
  },
  {
   "cell_type": "code",
   "execution_count": 16,
   "id": "f84f73a2",
   "metadata": {
    "execution": {
     "iopub.execute_input": "2025-07-23T14:27:40.973116Z",
     "iopub.status.busy": "2025-07-23T14:27:40.972591Z",
     "iopub.status.idle": "2025-07-23T14:27:40.979673Z",
     "shell.execute_reply": "2025-07-23T14:27:40.978583Z"
    },
    "papermill": {
     "duration": 0.027172,
     "end_time": "2025-07-23T14:27:40.981906",
     "exception": false,
     "start_time": "2025-07-23T14:27:40.954734",
     "status": "completed"
    },
    "tags": []
   },
   "outputs": [],
   "source": [
    "from utils import flatten_once\n",
    "\n",
    "excluded_features_columns = flatten_once(excluded_features_columns)"
   ]
  },
  {
   "cell_type": "code",
   "execution_count": 17,
   "id": "884dea22",
   "metadata": {
    "execution": {
     "iopub.execute_input": "2025-07-23T14:27:41.023324Z",
     "iopub.status.busy": "2025-07-23T14:27:41.022656Z",
     "iopub.status.idle": "2025-07-23T14:27:41.030293Z",
     "shell.execute_reply": "2025-07-23T14:27:41.028962Z"
    },
    "papermill": {
     "duration": 0.029953,
     "end_time": "2025-07-23T14:27:41.032549",
     "exception": false,
     "start_time": "2025-07-23T14:27:41.002596",
     "status": "completed"
    },
    "tags": []
   },
   "outputs": [],
   "source": [
    "if len(excluded_features_columns) > 0:\n",
    "    print(f\"Dropping features: {excluded_features_columns}\")\n",
    "    X_train.drop(excluded_features_columns, axis=1, inplace=True)"
   ]
  },
  {
   "cell_type": "code",
   "execution_count": 18,
   "id": "95ab8b16",
   "metadata": {
    "execution": {
     "iopub.execute_input": "2025-07-23T14:27:41.074063Z",
     "iopub.status.busy": "2025-07-23T14:27:41.073478Z",
     "iopub.status.idle": "2025-07-23T14:27:41.081155Z",
     "shell.execute_reply": "2025-07-23T14:27:41.079810Z"
    },
    "papermill": {
     "duration": 0.032829,
     "end_time": "2025-07-23T14:27:41.084430",
     "exception": false,
     "start_time": "2025-07-23T14:27:41.051601",
     "status": "completed"
    },
    "tags": []
   },
   "outputs": [],
   "source": [
    "if len(excluded_features_columns) > 0:\n",
    "    print(f\"Dropping features: {excluded_features_columns}\")\n",
    "    X_test.drop(excluded_features_columns, axis=1, inplace=True)"
   ]
  },
  {
   "cell_type": "code",
   "execution_count": 19,
   "id": "1853aaf5-fb9f-46cb-a2b5-8ea4ae2237e4",
   "metadata": {
    "execution": {
     "iopub.execute_input": "2025-07-23T14:27:41.130029Z",
     "iopub.status.busy": "2025-07-23T14:27:41.129220Z",
     "iopub.status.idle": "2025-07-23T14:27:41.136169Z",
     "shell.execute_reply": "2025-07-23T14:27:41.134912Z"
    },
    "papermill": {
     "duration": 0.030962,
     "end_time": "2025-07-23T14:27:41.138226",
     "exception": false,
     "start_time": "2025-07-23T14:27:41.107264",
     "status": "completed"
    },
    "tags": []
   },
   "outputs": [],
   "source": [
    "if len(excluded_features_columns) > 0:\n",
    "    print(f\"Dropping features: {excluded_features_columns}\")\n",
    "    X_calib.drop(excluded_features_columns, axis=1, inplace=True)"
   ]
  },
  {
   "cell_type": "code",
   "execution_count": 20,
   "id": "76c4dc6d",
   "metadata": {
    "execution": {
     "iopub.execute_input": "2025-07-23T14:27:41.178708Z",
     "iopub.status.busy": "2025-07-23T14:27:41.177732Z",
     "iopub.status.idle": "2025-07-23T14:27:41.183301Z",
     "shell.execute_reply": "2025-07-23T14:27:41.182437Z"
    },
    "papermill": {
     "duration": 0.022796,
     "end_time": "2025-07-23T14:27:41.184990",
     "exception": false,
     "start_time": "2025-07-23T14:27:41.162194",
     "status": "completed"
    },
    "tags": []
   },
   "outputs": [],
   "source": [
    "# EXCLUDE CERTAIN SUBGROUPS\n",
    "# ----------------------\n",
    "\n",
    "mode = universe.get(\"exclude_subgroups\", \"keep-all\") \n",
    "# Fetches the exclude_subgroups setting from the universe dict.\n",
    "# Defaults to \"keep-all\" if the key is missing."
   ]
  },
  {
   "cell_type": "code",
   "execution_count": 21,
   "id": "21994072",
   "metadata": {
    "execution": {
     "iopub.execute_input": "2025-07-23T14:27:41.208675Z",
     "iopub.status.busy": "2025-07-23T14:27:41.208242Z",
     "iopub.status.idle": "2025-07-23T14:27:41.214809Z",
     "shell.execute_reply": "2025-07-23T14:27:41.213886Z"
    },
    "papermill": {
     "duration": 0.020094,
     "end_time": "2025-07-23T14:27:41.216437",
     "exception": false,
     "start_time": "2025-07-23T14:27:41.196343",
     "status": "completed"
    },
    "tags": []
   },
   "outputs": [],
   "source": [
    "if mode == \"keep-all\":\n",
    "    keep_mask = pd.Series(True, index=org_train.index)\n",
    "\n",
    "# org_train contains the original feature columns from features_org (in Simson)\n",
    "# features_org contains unprocessed features, for me X_train at beginning ???\n",
    "# For keep-all, creates a boolean Series (keep_mask) of all True, so no rows are removed.\n",
    "\n",
    "elif mode == \"drop-non-german\":\n",
    "    keep_mask = org_train[\"maxdeutsch1\"] == 1 # ??? what about missing values?\n",
    "\n",
    "else:\n",
    "    raise ValueError(f\"Unsupported mode for exclude_subgroups: {mode}\")\n"
   ]
  },
  {
   "cell_type": "code",
   "execution_count": 22,
   "id": "71651440",
   "metadata": {
    "execution": {
     "iopub.execute_input": "2025-07-23T14:27:41.244542Z",
     "iopub.status.busy": "2025-07-23T14:27:41.243984Z",
     "iopub.status.idle": "2025-07-23T14:27:41.250776Z",
     "shell.execute_reply": "2025-07-23T14:27:41.249849Z"
    },
    "papermill": {
     "duration": 0.021053,
     "end_time": "2025-07-23T14:27:41.252646",
     "exception": false,
     "start_time": "2025-07-23T14:27:41.231593",
     "status": "completed"
    },
    "tags": []
   },
   "outputs": [],
   "source": [
    "n_drop = (~keep_mask).sum() # Calculates how many rows are set to be dropped\n",
    "if n_drop > 0:\n",
    "    pct = n_drop / len(keep_mask) * 100\n",
    "    print(f\"Dropping {n_drop} rows ({pct:.2f}%) where mode='{mode}'\")"
   ]
  },
  {
   "cell_type": "code",
   "execution_count": 23,
   "id": "5fb8eee5",
   "metadata": {
    "execution": {
     "iopub.execute_input": "2025-07-23T14:27:41.275864Z",
     "iopub.status.busy": "2025-07-23T14:27:41.275298Z",
     "iopub.status.idle": "2025-07-23T14:27:41.343813Z",
     "shell.execute_reply": "2025-07-23T14:27:41.342224Z"
    },
    "papermill": {
     "duration": 0.082211,
     "end_time": "2025-07-23T14:27:41.346044",
     "exception": false,
     "start_time": "2025-07-23T14:27:41.263833",
     "status": "completed"
    },
    "tags": []
   },
   "outputs": [],
   "source": [
    "X_train = X_train[keep_mask]"
   ]
  },
  {
   "cell_type": "code",
   "execution_count": 24,
   "id": "b202bb3a",
   "metadata": {
    "execution": {
     "iopub.execute_input": "2025-07-23T14:27:41.388047Z",
     "iopub.status.busy": "2025-07-23T14:27:41.387697Z",
     "iopub.status.idle": "2025-07-23T14:27:41.398388Z",
     "shell.execute_reply": "2025-07-23T14:27:41.397145Z"
    },
    "papermill": {
     "duration": 0.036517,
     "end_time": "2025-07-23T14:27:41.401032",
     "exception": false,
     "start_time": "2025-07-23T14:27:41.364515",
     "status": "completed"
    },
    "tags": []
   },
   "outputs": [],
   "source": [
    "y_train = y_train[keep_mask]"
   ]
  },
  {
   "cell_type": "markdown",
   "id": "493e2ac3",
   "metadata": {
    "papermill": {
     "duration": 0.01946,
     "end_time": "2025-07-23T14:27:41.442058",
     "exception": false,
     "start_time": "2025-07-23T14:27:41.422598",
     "status": "completed"
    },
    "tags": []
   },
   "source": [
    "# Model Training"
   ]
  },
  {
   "cell_type": "code",
   "execution_count": 25,
   "id": "679e1268",
   "metadata": {
    "execution": {
     "iopub.execute_input": "2025-07-23T14:27:41.485620Z",
     "iopub.status.busy": "2025-07-23T14:27:41.484906Z",
     "iopub.status.idle": "2025-07-23T14:27:41.617539Z",
     "shell.execute_reply": "2025-07-23T14:27:41.616250Z"
    },
    "papermill": {
     "duration": 0.157807,
     "end_time": "2025-07-23T14:27:41.619366",
     "exception": false,
     "start_time": "2025-07-23T14:27:41.461559",
     "status": "completed"
    },
    "tags": []
   },
   "outputs": [],
   "source": [
    "from sklearn.linear_model import LogisticRegression\n",
    "from sklearn.ensemble import GradientBoostingClassifier, RandomForestClassifier\n",
    "\n",
    "if (universe[\"model\"] == \"logreg\"):\n",
    "    model = LogisticRegression() #penalty=\"none\") #, solver=\"newton-cg\", max_iter=1) # include random_state=19 ?\n",
    "elif (universe[\"model\"] == \"penalized_logreg\"):\n",
    "    model = LogisticRegression(penalty=\"l2\", C=1.0) #, solver=\"newton-cg\", max_iter=1)\n",
    "elif (universe[\"model\"] == \"rf\"):\n",
    "    model = RandomForestClassifier(n_estimators=100, n_jobs=-1)\n",
    "elif (universe[\"model\"] == \"gbm\"):\n",
    "    model = GradientBoostingClassifier()\n",
    "elif (universe[\"model\"] == \"elasticnet\"):\n",
    "    model = LogisticRegression(penalty = 'elasticnet', solver = 'saga', l1_ratio = 0.5, max_iter=5000) # which solver to use?\n",
    "else:\n",
    "    raise \"Unsupported universe.model\""
   ]
  },
  {
   "cell_type": "code",
   "execution_count": 26,
   "id": "0cc8f744",
   "metadata": {
    "execution": {
     "iopub.execute_input": "2025-07-23T14:27:41.663462Z",
     "iopub.status.busy": "2025-07-23T14:27:41.662932Z",
     "iopub.status.idle": "2025-07-23T14:27:41.671169Z",
     "shell.execute_reply": "2025-07-23T14:27:41.669988Z"
    },
    "papermill": {
     "duration": 0.033765,
     "end_time": "2025-07-23T14:27:41.673722",
     "exception": false,
     "start_time": "2025-07-23T14:27:41.639957",
     "status": "completed"
    },
    "tags": []
   },
   "outputs": [],
   "source": [
    "import numpy as np\n",
    "from sklearn.pipeline import Pipeline\n",
    "from sklearn.preprocessing import StandardScaler\n",
    "\n",
    "model = Pipeline([\n",
    "    #(\"continuous_processor\", continuous_processor),\n",
    "    #(\"categorical_preprocessor\", categorical_preprocessor),\n",
    "    (\"scale\", StandardScaler() if universe[\"scale\"] == \"scale\" else None), \n",
    "    (\"model\", model),\n",
    "])"
   ]
  },
  {
   "cell_type": "code",
   "execution_count": 27,
   "id": "9442c04d",
   "metadata": {
    "execution": {
     "iopub.execute_input": "2025-07-23T14:27:41.720222Z",
     "iopub.status.busy": "2025-07-23T14:27:41.719684Z",
     "iopub.status.idle": "2025-07-23T14:27:52.819655Z",
     "shell.execute_reply": "2025-07-23T14:27:52.818749Z"
    },
    "papermill": {
     "duration": 11.124868,
     "end_time": "2025-07-23T14:27:52.821180",
     "exception": false,
     "start_time": "2025-07-23T14:27:41.696312",
     "status": "completed"
    },
    "tags": []
   },
   "outputs": [
    {
     "data": {
      "text/html": [
       "<style>#sk-container-id-1 {color: black;background-color: white;}#sk-container-id-1 pre{padding: 0;}#sk-container-id-1 div.sk-toggleable {background-color: white;}#sk-container-id-1 label.sk-toggleable__label {cursor: pointer;display: block;width: 100%;margin-bottom: 0;padding: 0.3em;box-sizing: border-box;text-align: center;}#sk-container-id-1 label.sk-toggleable__label-arrow:before {content: \"▸\";float: left;margin-right: 0.25em;color: #696969;}#sk-container-id-1 label.sk-toggleable__label-arrow:hover:before {color: black;}#sk-container-id-1 div.sk-estimator:hover label.sk-toggleable__label-arrow:before {color: black;}#sk-container-id-1 div.sk-toggleable__content {max-height: 0;max-width: 0;overflow: hidden;text-align: left;background-color: #f0f8ff;}#sk-container-id-1 div.sk-toggleable__content pre {margin: 0.2em;color: black;border-radius: 0.25em;background-color: #f0f8ff;}#sk-container-id-1 input.sk-toggleable__control:checked~div.sk-toggleable__content {max-height: 200px;max-width: 100%;overflow: auto;}#sk-container-id-1 input.sk-toggleable__control:checked~label.sk-toggleable__label-arrow:before {content: \"▾\";}#sk-container-id-1 div.sk-estimator input.sk-toggleable__control:checked~label.sk-toggleable__label {background-color: #d4ebff;}#sk-container-id-1 div.sk-label input.sk-toggleable__control:checked~label.sk-toggleable__label {background-color: #d4ebff;}#sk-container-id-1 input.sk-hidden--visually {border: 0;clip: rect(1px 1px 1px 1px);clip: rect(1px, 1px, 1px, 1px);height: 1px;margin: -1px;overflow: hidden;padding: 0;position: absolute;width: 1px;}#sk-container-id-1 div.sk-estimator {font-family: monospace;background-color: #f0f8ff;border: 1px dotted black;border-radius: 0.25em;box-sizing: border-box;margin-bottom: 0.5em;}#sk-container-id-1 div.sk-estimator:hover {background-color: #d4ebff;}#sk-container-id-1 div.sk-parallel-item::after {content: \"\";width: 100%;border-bottom: 1px solid gray;flex-grow: 1;}#sk-container-id-1 div.sk-label:hover label.sk-toggleable__label {background-color: #d4ebff;}#sk-container-id-1 div.sk-serial::before {content: \"\";position: absolute;border-left: 1px solid gray;box-sizing: border-box;top: 0;bottom: 0;left: 50%;z-index: 0;}#sk-container-id-1 div.sk-serial {display: flex;flex-direction: column;align-items: center;background-color: white;padding-right: 0.2em;padding-left: 0.2em;position: relative;}#sk-container-id-1 div.sk-item {position: relative;z-index: 1;}#sk-container-id-1 div.sk-parallel {display: flex;align-items: stretch;justify-content: center;background-color: white;position: relative;}#sk-container-id-1 div.sk-item::before, #sk-container-id-1 div.sk-parallel-item::before {content: \"\";position: absolute;border-left: 1px solid gray;box-sizing: border-box;top: 0;bottom: 0;left: 50%;z-index: -1;}#sk-container-id-1 div.sk-parallel-item {display: flex;flex-direction: column;z-index: 1;position: relative;background-color: white;}#sk-container-id-1 div.sk-parallel-item:first-child::after {align-self: flex-end;width: 50%;}#sk-container-id-1 div.sk-parallel-item:last-child::after {align-self: flex-start;width: 50%;}#sk-container-id-1 div.sk-parallel-item:only-child::after {width: 0;}#sk-container-id-1 div.sk-dashed-wrapped {border: 1px dashed gray;margin: 0 0.4em 0.5em 0.4em;box-sizing: border-box;padding-bottom: 0.4em;background-color: white;}#sk-container-id-1 div.sk-label label {font-family: monospace;font-weight: bold;display: inline-block;line-height: 1.2em;}#sk-container-id-1 div.sk-label-container {text-align: center;}#sk-container-id-1 div.sk-container {/* jupyter's `normalize.less` sets `[hidden] { display: none; }` but bootstrap.min.css set `[hidden] { display: none !important; }` so we also need the `!important` here to be able to override the default hidden behavior on the sphinx rendered scikit-learn.org. See: https://github.com/scikit-learn/scikit-learn/issues/21755 */display: inline-block !important;position: relative;}#sk-container-id-1 div.sk-text-repr-fallback {display: none;}</style><div id=\"sk-container-id-1\" class=\"sk-top-container\"><div class=\"sk-text-repr-fallback\"><pre>Pipeline(steps=[(&#x27;scale&#x27;, StandardScaler()),\n",
       "                (&#x27;model&#x27;, RandomForestClassifier(n_jobs=-1))])</pre><b>In a Jupyter environment, please rerun this cell to show the HTML representation or trust the notebook. <br />On GitHub, the HTML representation is unable to render, please try loading this page with nbviewer.org.</b></div><div class=\"sk-container\" hidden><div class=\"sk-item sk-dashed-wrapped\"><div class=\"sk-label-container\"><div class=\"sk-label sk-toggleable\"><input class=\"sk-toggleable__control sk-hidden--visually\" id=\"sk-estimator-id-1\" type=\"checkbox\" ><label for=\"sk-estimator-id-1\" class=\"sk-toggleable__label sk-toggleable__label-arrow\">Pipeline</label><div class=\"sk-toggleable__content\"><pre>Pipeline(steps=[(&#x27;scale&#x27;, StandardScaler()),\n",
       "                (&#x27;model&#x27;, RandomForestClassifier(n_jobs=-1))])</pre></div></div></div><div class=\"sk-serial\"><div class=\"sk-item\"><div class=\"sk-estimator sk-toggleable\"><input class=\"sk-toggleable__control sk-hidden--visually\" id=\"sk-estimator-id-2\" type=\"checkbox\" ><label for=\"sk-estimator-id-2\" class=\"sk-toggleable__label sk-toggleable__label-arrow\">StandardScaler</label><div class=\"sk-toggleable__content\"><pre>StandardScaler()</pre></div></div></div><div class=\"sk-item\"><div class=\"sk-estimator sk-toggleable\"><input class=\"sk-toggleable__control sk-hidden--visually\" id=\"sk-estimator-id-3\" type=\"checkbox\" ><label for=\"sk-estimator-id-3\" class=\"sk-toggleable__label sk-toggleable__label-arrow\">RandomForestClassifier</label><div class=\"sk-toggleable__content\"><pre>RandomForestClassifier(n_jobs=-1)</pre></div></div></div></div></div></div></div>"
      ],
      "text/plain": [
       "Pipeline(steps=[('scale', StandardScaler()),\n",
       "                ('model', RandomForestClassifier(n_jobs=-1))])"
      ]
     },
     "execution_count": 27,
     "metadata": {},
     "output_type": "execute_result"
    }
   ],
   "source": [
    "model.fit(X_train, y_train.values.ravel())"
   ]
  },
  {
   "cell_type": "code",
   "execution_count": 28,
   "id": "af59f8c0",
   "metadata": {
    "execution": {
     "iopub.execute_input": "2025-07-23T14:27:52.845290Z",
     "iopub.status.busy": "2025-07-23T14:27:52.844445Z",
     "iopub.status.idle": "2025-07-23T14:27:52.849712Z",
     "shell.execute_reply": "2025-07-23T14:27:52.848916Z"
    },
    "papermill": {
     "duration": 0.017539,
     "end_time": "2025-07-23T14:27:52.851133",
     "exception": false,
     "start_time": "2025-07-23T14:27:52.833594",
     "status": "completed"
    },
    "tags": []
   },
   "outputs": [],
   "source": [
    "from fairness_multiverse.universe import predict_w_threshold"
   ]
  },
  {
   "cell_type": "code",
   "execution_count": 29,
   "id": "a7cf2e16",
   "metadata": {
    "execution": {
     "iopub.execute_input": "2025-07-23T14:27:52.873591Z",
     "iopub.status.busy": "2025-07-23T14:27:52.873021Z",
     "iopub.status.idle": "2025-07-23T14:27:54.442690Z",
     "shell.execute_reply": "2025-07-23T14:27:54.441433Z"
    },
    "papermill": {
     "duration": 1.582528,
     "end_time": "2025-07-23T14:27:54.444574",
     "exception": false,
     "start_time": "2025-07-23T14:27:52.862046",
     "status": "completed"
    },
    "tags": []
   },
   "outputs": [
    {
     "data": {
      "text/plain": [
       "0.8673837922193736"
      ]
     },
     "execution_count": 29,
     "metadata": {},
     "output_type": "execute_result"
    }
   ],
   "source": [
    "probs_test = model.predict_proba(X_test)\n",
    "\n",
    "'''\n",
    "Below code returns a boolean array (or binary 0/1 array depending on how it’s used) where each element \n",
    "is True if the probability of class 1 is greater than or equal to the threshold, and False otherwise.\n",
    "'''\n",
    "y_pred_default = predict_w_threshold(probs_test, 0.5)\n",
    "\n",
    "from sklearn.metrics import accuracy_score\n",
    "\n",
    "# Naive prediction\n",
    "accuracy_score(y_true = y_true, y_pred = y_pred_default)"
   ]
  },
  {
   "cell_type": "code",
   "execution_count": 30,
   "id": "081964c3",
   "metadata": {
    "execution": {
     "iopub.execute_input": "2025-07-23T14:27:54.484100Z",
     "iopub.status.busy": "2025-07-23T14:27:54.483718Z",
     "iopub.status.idle": "2025-07-23T14:27:55.770834Z",
     "shell.execute_reply": "2025-07-23T14:27:55.769816Z"
    },
    "papermill": {
     "duration": 1.307082,
     "end_time": "2025-07-23T14:27:55.772488",
     "exception": false,
     "start_time": "2025-07-23T14:27:54.465406",
     "status": "completed"
    },
    "tags": []
   },
   "outputs": [
    {
     "data": {
      "text/plain": [
       "array([0, 0, 0, ..., 0, 0, 0])"
      ]
     },
     "execution_count": 30,
     "metadata": {},
     "output_type": "execute_result"
    }
   ],
   "source": [
    "model.predict(X_test)"
   ]
  },
  {
   "cell_type": "markdown",
   "id": "56c9705b",
   "metadata": {
    "papermill": {
     "duration": 0.019759,
     "end_time": "2025-07-23T14:27:55.811212",
     "exception": false,
     "start_time": "2025-07-23T14:27:55.791453",
     "status": "completed"
    },
    "tags": []
   },
   "source": [
    "# Conformal Prediction"
   ]
  },
  {
   "cell_type": "code",
   "execution_count": 31,
   "id": "160ec6ff",
   "metadata": {
    "execution": {
     "iopub.execute_input": "2025-07-23T14:27:55.849858Z",
     "iopub.status.busy": "2025-07-23T14:27:55.849317Z",
     "iopub.status.idle": "2025-07-23T14:27:55.855171Z",
     "shell.execute_reply": "2025-07-23T14:27:55.854089Z"
    },
    "papermill": {
     "duration": 0.027316,
     "end_time": "2025-07-23T14:27:55.856966",
     "exception": false,
     "start_time": "2025-07-23T14:27:55.829650",
     "status": "completed"
    },
    "tags": []
   },
   "outputs": [],
   "source": [
    "# Miscoverage level for conformal prediction (10% allowed error rate => 90% target coverage)\n",
    "alpha = 0.1"
   ]
  },
  {
   "cell_type": "code",
   "execution_count": 32,
   "id": "eadf4555-3dd3-440e-8e35-f82a4ad9f855",
   "metadata": {
    "execution": {
     "iopub.execute_input": "2025-07-23T14:27:55.897711Z",
     "iopub.status.busy": "2025-07-23T14:27:55.896706Z",
     "iopub.status.idle": "2025-07-23T14:27:57.356009Z",
     "shell.execute_reply": "2025-07-23T14:27:57.355027Z"
    },
    "papermill": {
     "duration": 1.48209,
     "end_time": "2025-07-23T14:27:57.358168",
     "exception": false,
     "start_time": "2025-07-23T14:27:55.876078",
     "status": "completed"
    },
    "tags": []
   },
   "outputs": [],
   "source": [
    "probs_calib = model.predict_proba(X_calib)"
   ]
  },
  {
   "cell_type": "code",
   "execution_count": 33,
   "id": "2ed93547-6d5d-4983-9b36-1ecb300da49a",
   "metadata": {
    "execution": {
     "iopub.execute_input": "2025-07-23T14:27:57.399207Z",
     "iopub.status.busy": "2025-07-23T14:27:57.398648Z",
     "iopub.status.idle": "2025-07-23T14:27:57.405172Z",
     "shell.execute_reply": "2025-07-23T14:27:57.404100Z"
    },
    "papermill": {
     "duration": 0.028832,
     "end_time": "2025-07-23T14:27:57.406868",
     "exception": false,
     "start_time": "2025-07-23T14:27:57.378036",
     "status": "completed"
    },
    "tags": []
   },
   "outputs": [],
   "source": [
    "y_calib = y_calib.values.ravel().astype(int)"
   ]
  },
  {
   "cell_type": "code",
   "execution_count": 34,
   "id": "65d1320d-f588-4b38-9072-62af1ae97f7d",
   "metadata": {
    "execution": {
     "iopub.execute_input": "2025-07-23T14:27:57.449299Z",
     "iopub.status.busy": "2025-07-23T14:27:57.448391Z",
     "iopub.status.idle": "2025-07-23T14:27:57.457088Z",
     "shell.execute_reply": "2025-07-23T14:27:57.456079Z"
    },
    "papermill": {
     "duration": 0.031229,
     "end_time": "2025-07-23T14:27:57.458764",
     "exception": false,
     "start_time": "2025-07-23T14:27:57.427535",
     "status": "completed"
    },
    "tags": []
   },
   "outputs": [],
   "source": [
    "from fairness_multiverse.conformal import compute_nc_scores\n",
    "\n",
    "# Compute nonconformity scores on calibration set (1 - probability of true class)\n",
    "nc_scores = compute_nc_scores(probs_calib, y_calib)"
   ]
  },
  {
   "cell_type": "code",
   "execution_count": 35,
   "id": "df3b8ca3-53b7-43d5-9667-7c85da7aeda2",
   "metadata": {
    "execution": {
     "iopub.execute_input": "2025-07-23T14:27:57.498039Z",
     "iopub.status.busy": "2025-07-23T14:27:57.497288Z",
     "iopub.status.idle": "2025-07-23T14:27:57.504683Z",
     "shell.execute_reply": "2025-07-23T14:27:57.503818Z"
    },
    "papermill": {
     "duration": 0.028253,
     "end_time": "2025-07-23T14:27:57.506252",
     "exception": false,
     "start_time": "2025-07-23T14:27:57.477999",
     "status": "completed"
    },
    "tags": []
   },
   "outputs": [],
   "source": [
    "from fairness_multiverse.conformal import find_threshold\n",
    "\n",
    "# Find conformal threshold q_hat for the given alpha (split conformal method)\n",
    "q_hat = find_threshold(nc_scores, alpha)"
   ]
  },
  {
   "cell_type": "code",
   "execution_count": 36,
   "id": "4d29e6c1-0ef6-4aa4-b8fe-4fe79b0d033a",
   "metadata": {
    "execution": {
     "iopub.execute_input": "2025-07-23T14:27:57.546553Z",
     "iopub.status.busy": "2025-07-23T14:27:57.545929Z",
     "iopub.status.idle": "2025-07-23T14:27:57.554922Z",
     "shell.execute_reply": "2025-07-23T14:27:57.553965Z"
    },
    "papermill": {
     "duration": 0.030482,
     "end_time": "2025-07-23T14:27:57.556631",
     "exception": false,
     "start_time": "2025-07-23T14:27:57.526149",
     "status": "completed"
    },
    "tags": []
   },
   "outputs": [
    {
     "data": {
      "text/plain": [
       "0.65"
      ]
     },
     "execution_count": 36,
     "metadata": {},
     "output_type": "execute_result"
    }
   ],
   "source": [
    "q_hat"
   ]
  },
  {
   "cell_type": "code",
   "execution_count": 37,
   "id": "92460794-cdac-4be2-ba28-f28c0515a6fb",
   "metadata": {
    "execution": {
     "iopub.execute_input": "2025-07-23T14:27:57.597610Z",
     "iopub.status.busy": "2025-07-23T14:27:57.596691Z",
     "iopub.status.idle": "2025-07-23T14:27:59.908467Z",
     "shell.execute_reply": "2025-07-23T14:27:59.907461Z"
    },
    "papermill": {
     "duration": 2.33392,
     "end_time": "2025-07-23T14:27:59.910433",
     "exception": false,
     "start_time": "2025-07-23T14:27:57.576513",
     "status": "completed"
    },
    "tags": []
   },
   "outputs": [],
   "source": [
    "from fairness_multiverse.conformal import predict_conformal_sets\n",
    "\n",
    "# Generate prediction sets for each test example\n",
    "pred_sets = predict_conformal_sets(model, X_test, q_hat)"
   ]
  },
  {
   "cell_type": "code",
   "execution_count": 38,
   "id": "d90c9a65-e6db-4f5d-80cd-e68fb7e46829",
   "metadata": {
    "execution": {
     "iopub.execute_input": "2025-07-23T14:27:59.951788Z",
     "iopub.status.busy": "2025-07-23T14:27:59.951285Z",
     "iopub.status.idle": "2025-07-23T14:27:59.957761Z",
     "shell.execute_reply": "2025-07-23T14:27:59.956734Z"
    },
    "papermill": {
     "duration": 0.029104,
     "end_time": "2025-07-23T14:27:59.959574",
     "exception": false,
     "start_time": "2025-07-23T14:27:59.930470",
     "status": "completed"
    },
    "tags": []
   },
   "outputs": [],
   "source": [
    "y_true = y_true.squeeze()"
   ]
  },
  {
   "cell_type": "code",
   "execution_count": 39,
   "id": "3a58a54a-1e68-46b9-927a-df01f18aebc8",
   "metadata": {
    "execution": {
     "iopub.execute_input": "2025-07-23T14:28:00.000694Z",
     "iopub.status.busy": "2025-07-23T14:27:59.999861Z",
     "iopub.status.idle": "2025-07-23T14:28:01.133516Z",
     "shell.execute_reply": "2025-07-23T14:28:01.132362Z"
    },
    "papermill": {
     "duration": 1.15612,
     "end_time": "2025-07-23T14:28:01.135645",
     "exception": false,
     "start_time": "2025-07-23T14:27:59.979525",
     "status": "completed"
    },
    "tags": []
   },
   "outputs": [],
   "source": [
    "from fairness_multiverse.conformal import evaluate_sets\n",
    "\n",
    "# Evaluate coverage and average set size on test data\n",
    "metrics = evaluate_sets(pred_sets, y_true)"
   ]
  },
  {
   "cell_type": "code",
   "execution_count": 40,
   "id": "5ce0a5cb-201f-45a0-ade5-94c7f0bd6095",
   "metadata": {
    "execution": {
     "iopub.execute_input": "2025-07-23T14:28:01.177871Z",
     "iopub.status.busy": "2025-07-23T14:28:01.177191Z",
     "iopub.status.idle": "2025-07-23T14:28:01.186674Z",
     "shell.execute_reply": "2025-07-23T14:28:01.185682Z"
    },
    "papermill": {
     "duration": 0.032947,
     "end_time": "2025-07-23T14:28:01.188465",
     "exception": false,
     "start_time": "2025-07-23T14:28:01.155518",
     "status": "completed"
    },
    "tags": []
   },
   "outputs": [
    {
     "data": {
      "text/plain": [
       "{'coverage': 0.9156169880726787, 'avg_size': 1.1420577416118605}"
      ]
     },
     "execution_count": 40,
     "metadata": {},
     "output_type": "execute_result"
    }
   ],
   "source": [
    "metrics"
   ]
  },
  {
   "cell_type": "code",
   "execution_count": 41,
   "id": "9b9a838d-31c9-430b-ae14-12baee460d17",
   "metadata": {
    "execution": {
     "iopub.execute_input": "2025-07-23T14:28:01.232313Z",
     "iopub.status.busy": "2025-07-23T14:28:01.231399Z",
     "iopub.status.idle": "2025-07-23T14:28:01.238086Z",
     "shell.execute_reply": "2025-07-23T14:28:01.237036Z"
    },
    "papermill": {
     "duration": 0.029818,
     "end_time": "2025-07-23T14:28:01.240100",
     "exception": false,
     "start_time": "2025-07-23T14:28:01.210282",
     "status": "completed"
    },
    "tags": []
   },
   "outputs": [],
   "source": [
    "example_universe = universe.copy()\n",
    "universe_model = example_universe.get(\"model\")\n",
    "universe_exclude_features = example_universe.get(\"exclude_features\")\n",
    "universe_exclude_subgroups = example_universe.get(\"exclude_subgroups\")\n",
    "universe_scale = example_universe.get(\"scale\")"
   ]
  },
  {
   "cell_type": "code",
   "execution_count": 42,
   "id": "f4b6a8ac-9dc0-4245-8a91-5b3b5999c4f9",
   "metadata": {
    "execution": {
     "iopub.execute_input": "2025-07-23T14:28:01.290176Z",
     "iopub.status.busy": "2025-07-23T14:28:01.289306Z",
     "iopub.status.idle": "2025-07-23T14:28:01.296695Z",
     "shell.execute_reply": "2025-07-23T14:28:01.295593Z"
    },
    "papermill": {
     "duration": 0.034102,
     "end_time": "2025-07-23T14:28:01.298540",
     "exception": false,
     "start_time": "2025-07-23T14:28:01.264438",
     "status": "completed"
    },
    "tags": []
   },
   "outputs": [],
   "source": [
    "cp_metrics_dict = {\n",
    "    \"universe_id\": [universe_id],\n",
    "    \"universe_model\": [universe_model],\n",
    "    \"universe_exclude_features\": [universe_exclude_features],\n",
    "    \"universe_exclude_subgroups\": [universe_exclude_subgroups],\n",
    "    \"universe_scale\": [universe_scale],\n",
    "    \"q_hat\": [q_hat],\n",
    "    \"coverage\": [metrics[\"coverage\"]],\n",
    "    \"avg_size\": [metrics[\"avg_size\"]],\n",
    "}"
   ]
  },
  {
   "cell_type": "code",
   "execution_count": 43,
   "id": "908acbb1-0371-4915-85ca-3fa520d2efe2",
   "metadata": {
    "execution": {
     "iopub.execute_input": "2025-07-23T14:28:01.349295Z",
     "iopub.status.busy": "2025-07-23T14:28:01.348474Z",
     "iopub.status.idle": "2025-07-23T14:28:01.356835Z",
     "shell.execute_reply": "2025-07-23T14:28:01.355538Z"
    },
    "papermill": {
     "duration": 0.036024,
     "end_time": "2025-07-23T14:28:01.358846",
     "exception": false,
     "start_time": "2025-07-23T14:28:01.322822",
     "status": "completed"
    },
    "tags": []
   },
   "outputs": [
    {
     "data": {
      "text/plain": [
       "{'universe_id': ['93d9fafe3138a75e63086d7d04bdf2e6'],\n",
       " 'universe_model': ['rf'],\n",
       " 'universe_exclude_features': ['none'],\n",
       " 'universe_exclude_subgroups': ['keep-all'],\n",
       " 'universe_scale': ['scale'],\n",
       " 'q_hat': [0.65],\n",
       " 'coverage': [0.9156169880726787],\n",
       " 'avg_size': [1.1420577416118605]}"
      ]
     },
     "execution_count": 43,
     "metadata": {},
     "output_type": "execute_result"
    }
   ],
   "source": [
    "cp_metrics_dict"
   ]
  },
  {
   "cell_type": "code",
   "execution_count": 44,
   "id": "33007efc-14e9-4ec6-97ac-56a455c82265",
   "metadata": {
    "execution": {
     "iopub.execute_input": "2025-07-23T14:28:01.409410Z",
     "iopub.status.busy": "2025-07-23T14:28:01.408642Z",
     "iopub.status.idle": "2025-07-23T14:28:01.416820Z",
     "shell.execute_reply": "2025-07-23T14:28:01.415685Z"
    },
    "papermill": {
     "duration": 0.035439,
     "end_time": "2025-07-23T14:28:01.418854",
     "exception": false,
     "start_time": "2025-07-23T14:28:01.383415",
     "status": "completed"
    },
    "tags": []
   },
   "outputs": [],
   "source": [
    "cp_metrics_df = pd.DataFrame(cp_metrics_dict)"
   ]
  },
  {
   "cell_type": "code",
   "execution_count": 45,
   "id": "db12611b-57b2-4910-b9d0-355adfd6e7bf",
   "metadata": {
    "execution": {
     "iopub.execute_input": "2025-07-23T14:28:01.469457Z",
     "iopub.status.busy": "2025-07-23T14:28:01.468721Z",
     "iopub.status.idle": "2025-07-23T14:28:01.488114Z",
     "shell.execute_reply": "2025-07-23T14:28:01.486953Z"
    },
    "papermill": {
     "duration": 0.046519,
     "end_time": "2025-07-23T14:28:01.490227",
     "exception": false,
     "start_time": "2025-07-23T14:28:01.443708",
     "status": "completed"
    },
    "tags": []
   },
   "outputs": [
    {
     "data": {
      "text/html": [
       "<div>\n",
       "<style scoped>\n",
       "    .dataframe tbody tr th:only-of-type {\n",
       "        vertical-align: middle;\n",
       "    }\n",
       "\n",
       "    .dataframe tbody tr th {\n",
       "        vertical-align: top;\n",
       "    }\n",
       "\n",
       "    .dataframe thead th {\n",
       "        text-align: right;\n",
       "    }\n",
       "</style>\n",
       "<table border=\"1\" class=\"dataframe\">\n",
       "  <thead>\n",
       "    <tr style=\"text-align: right;\">\n",
       "      <th></th>\n",
       "      <th>universe_id</th>\n",
       "      <th>universe_model</th>\n",
       "      <th>universe_exclude_features</th>\n",
       "      <th>universe_exclude_subgroups</th>\n",
       "      <th>universe_scale</th>\n",
       "      <th>q_hat</th>\n",
       "      <th>coverage</th>\n",
       "      <th>avg_size</th>\n",
       "    </tr>\n",
       "  </thead>\n",
       "  <tbody>\n",
       "    <tr>\n",
       "      <th>0</th>\n",
       "      <td>93d9fafe3138a75e63086d7d04bdf2e6</td>\n",
       "      <td>rf</td>\n",
       "      <td>none</td>\n",
       "      <td>keep-all</td>\n",
       "      <td>scale</td>\n",
       "      <td>0.65</td>\n",
       "      <td>0.915617</td>\n",
       "      <td>1.142058</td>\n",
       "    </tr>\n",
       "  </tbody>\n",
       "</table>\n",
       "</div>"
      ],
      "text/plain": [
       "                        universe_id universe_model universe_exclude_features  \\\n",
       "0  93d9fafe3138a75e63086d7d04bdf2e6             rf                      none   \n",
       "\n",
       "  universe_exclude_subgroups universe_scale  q_hat  coverage  avg_size  \n",
       "0                   keep-all          scale   0.65  0.915617  1.142058  "
      ]
     },
     "execution_count": 45,
     "metadata": {},
     "output_type": "execute_result"
    }
   ],
   "source": [
    "cp_metrics_df"
   ]
  },
  {
   "cell_type": "code",
   "execution_count": 46,
   "id": "b7fbde55-a0a1-47e4-9af6-fe4a17fa8c61",
   "metadata": {
    "execution": {
     "iopub.execute_input": "2025-07-23T14:28:01.542017Z",
     "iopub.status.busy": "2025-07-23T14:28:01.541007Z",
     "iopub.status.idle": "2025-07-23T14:28:01.547227Z",
     "shell.execute_reply": "2025-07-23T14:28:01.546061Z"
    },
    "papermill": {
     "duration": 0.034126,
     "end_time": "2025-07-23T14:28:01.549187",
     "exception": false,
     "start_time": "2025-07-23T14:28:01.515061",
     "status": "completed"
    },
    "tags": []
   },
   "outputs": [],
   "source": [
    "# Conditional Coverage & looking at subgroups"
   ]
  },
  {
   "cell_type": "code",
   "execution_count": 47,
   "id": "027ae886-68dd-4141-96c7-805a5450e1ef",
   "metadata": {
    "execution": {
     "iopub.execute_input": "2025-07-23T14:28:01.601255Z",
     "iopub.status.busy": "2025-07-23T14:28:01.600519Z",
     "iopub.status.idle": "2025-07-23T14:28:01.880092Z",
     "shell.execute_reply": "2025-07-23T14:28:01.878947Z"
    },
    "papermill": {
     "duration": 0.307602,
     "end_time": "2025-07-23T14:28:01.882296",
     "exception": false,
     "start_time": "2025-07-23T14:28:01.574694",
     "status": "completed"
    },
    "tags": []
   },
   "outputs": [],
   "source": [
    "from fairness_multiverse.conformal import build_cp_groups\n",
    "\n",
    "cp_groups_df = build_cp_groups(pred_sets, y_true, X_test.index, org_test)\n",
    "#needs universe_id and setting"
   ]
  },
  {
   "cell_type": "code",
   "execution_count": 48,
   "id": "c3b92545-903e-4839-89af-0f057907d7d6",
   "metadata": {
    "execution": {
     "iopub.execute_input": "2025-07-23T14:28:01.924333Z",
     "iopub.status.busy": "2025-07-23T14:28:01.923849Z",
     "iopub.status.idle": "2025-07-23T14:28:03.708274Z",
     "shell.execute_reply": "2025-07-23T14:28:03.707265Z"
    },
    "papermill": {
     "duration": 1.806878,
     "end_time": "2025-07-23T14:28:03.710215",
     "exception": false,
     "start_time": "2025-07-23T14:28:01.903337",
     "status": "completed"
    },
    "tags": []
   },
   "outputs": [],
   "source": [
    "# Define covered = 1 if true_label is in the predicted set\n",
    "cp_groups_df['covered'] = cp_groups_df.apply(\n",
    "    lambda r: int(r['true_label'] in r['pred_set']),\n",
    "    axis=1\n",
    ")"
   ]
  },
  {
   "cell_type": "code",
   "execution_count": 49,
   "id": "338ff529-1a6b-4b87-a931-8e4788d52aad",
   "metadata": {
    "execution": {
     "iopub.execute_input": "2025-07-23T14:28:03.753634Z",
     "iopub.status.busy": "2025-07-23T14:28:03.753158Z",
     "iopub.status.idle": "2025-07-23T14:28:03.758686Z",
     "shell.execute_reply": "2025-07-23T14:28:03.757464Z"
    },
    "papermill": {
     "duration": 0.029086,
     "end_time": "2025-07-23T14:28:03.760648",
     "exception": false,
     "start_time": "2025-07-23T14:28:03.731562",
     "status": "completed"
    },
    "tags": []
   },
   "outputs": [],
   "source": [
    "#cp_groups_df"
   ]
  },
  {
   "cell_type": "code",
   "execution_count": 50,
   "id": "90032e27-66df-4540-9169-4e89cfbaa758",
   "metadata": {
    "execution": {
     "iopub.execute_input": "2025-07-23T14:28:03.812950Z",
     "iopub.status.busy": "2025-07-23T14:28:03.812233Z",
     "iopub.status.idle": "2025-07-23T14:28:03.825484Z",
     "shell.execute_reply": "2025-07-23T14:28:03.824153Z"
    },
    "papermill": {
     "duration": 0.041674,
     "end_time": "2025-07-23T14:28:03.827835",
     "exception": false,
     "start_time": "2025-07-23T14:28:03.786161",
     "status": "completed"
    },
    "tags": []
   },
   "outputs": [],
   "source": [
    "subgroups = ['frau1','nongerman','nongerman_male','nongerman_female']\n",
    "\n",
    "# Conditional coverage for subgroup==1\n",
    "cond_coverage = {\n",
    "    g: cp_groups_df.loc[cp_groups_df[g]==1, 'covered'].mean()\n",
    "    for g in subgroups\n",
    "}"
   ]
  },
  {
   "cell_type": "code",
   "execution_count": 51,
   "id": "1e348fb1-b9c3-45bc-ba23-f016827a7e0d",
   "metadata": {
    "execution": {
     "iopub.execute_input": "2025-07-23T14:28:03.887043Z",
     "iopub.status.busy": "2025-07-23T14:28:03.886552Z",
     "iopub.status.idle": "2025-07-23T14:28:03.893978Z",
     "shell.execute_reply": "2025-07-23T14:28:03.892911Z"
    },
    "papermill": {
     "duration": 0.037922,
     "end_time": "2025-07-23T14:28:03.895637",
     "exception": false,
     "start_time": "2025-07-23T14:28:03.857715",
     "status": "completed"
    },
    "tags": []
   },
   "outputs": [
    {
     "data": {
      "text/plain": [
       "{'frau1': 0.9157568405445478,\n",
       " 'nongerman': 0.9127042047942514,\n",
       " 'nongerman_male': 0.9265964153832298,\n",
       " 'nongerman_female': 0.8897168405365127}"
      ]
     },
     "execution_count": 51,
     "metadata": {},
     "output_type": "execute_result"
    }
   ],
   "source": [
    "cond_coverage"
   ]
  },
  {
   "cell_type": "code",
   "execution_count": 52,
   "id": "f5093324-c3dd-4d63-bc4c-8d945e5c8bbb",
   "metadata": {
    "execution": {
     "iopub.execute_input": "2025-07-23T14:28:03.940842Z",
     "iopub.status.busy": "2025-07-23T14:28:03.940119Z",
     "iopub.status.idle": "2025-07-23T14:28:03.948849Z",
     "shell.execute_reply": "2025-07-23T14:28:03.947558Z"
    },
    "papermill": {
     "duration": 0.033529,
     "end_time": "2025-07-23T14:28:03.950526",
     "exception": false,
     "start_time": "2025-07-23T14:28:03.916997",
     "status": "completed"
    },
    "tags": []
   },
   "outputs": [],
   "source": [
    "for subgroup, cov in cond_coverage.items():\n",
    "    cp_metrics_df[f\"cov_{subgroup}\"] = cov"
   ]
  },
  {
   "cell_type": "code",
   "execution_count": 53,
   "id": "6e872e10-dbe5-49e8-b554-5030c98ff75d",
   "metadata": {
    "execution": {
     "iopub.execute_input": "2025-07-23T14:28:03.995543Z",
     "iopub.status.busy": "2025-07-23T14:28:03.994989Z",
     "iopub.status.idle": "2025-07-23T14:28:04.015370Z",
     "shell.execute_reply": "2025-07-23T14:28:04.014380Z"
    },
    "papermill": {
     "duration": 0.044851,
     "end_time": "2025-07-23T14:28:04.017222",
     "exception": false,
     "start_time": "2025-07-23T14:28:03.972371",
     "status": "completed"
    },
    "tags": []
   },
   "outputs": [
    {
     "data": {
      "text/html": [
       "<div>\n",
       "<style scoped>\n",
       "    .dataframe tbody tr th:only-of-type {\n",
       "        vertical-align: middle;\n",
       "    }\n",
       "\n",
       "    .dataframe tbody tr th {\n",
       "        vertical-align: top;\n",
       "    }\n",
       "\n",
       "    .dataframe thead th {\n",
       "        text-align: right;\n",
       "    }\n",
       "</style>\n",
       "<table border=\"1\" class=\"dataframe\">\n",
       "  <thead>\n",
       "    <tr style=\"text-align: right;\">\n",
       "      <th></th>\n",
       "      <th>universe_id</th>\n",
       "      <th>universe_model</th>\n",
       "      <th>universe_exclude_features</th>\n",
       "      <th>universe_exclude_subgroups</th>\n",
       "      <th>universe_scale</th>\n",
       "      <th>q_hat</th>\n",
       "      <th>coverage</th>\n",
       "      <th>avg_size</th>\n",
       "      <th>cov_frau1</th>\n",
       "      <th>cov_nongerman</th>\n",
       "      <th>cov_nongerman_male</th>\n",
       "      <th>cov_nongerman_female</th>\n",
       "    </tr>\n",
       "  </thead>\n",
       "  <tbody>\n",
       "    <tr>\n",
       "      <th>0</th>\n",
       "      <td>93d9fafe3138a75e63086d7d04bdf2e6</td>\n",
       "      <td>rf</td>\n",
       "      <td>none</td>\n",
       "      <td>keep-all</td>\n",
       "      <td>scale</td>\n",
       "      <td>0.65</td>\n",
       "      <td>0.915617</td>\n",
       "      <td>1.142058</td>\n",
       "      <td>0.915757</td>\n",
       "      <td>0.912704</td>\n",
       "      <td>0.926596</td>\n",
       "      <td>0.889717</td>\n",
       "    </tr>\n",
       "  </tbody>\n",
       "</table>\n",
       "</div>"
      ],
      "text/plain": [
       "                        universe_id universe_model universe_exclude_features  \\\n",
       "0  93d9fafe3138a75e63086d7d04bdf2e6             rf                      none   \n",
       "\n",
       "  universe_exclude_subgroups universe_scale  q_hat  coverage  avg_size  \\\n",
       "0                   keep-all          scale   0.65  0.915617  1.142058   \n",
       "\n",
       "   cov_frau1  cov_nongerman  cov_nongerman_male  cov_nongerman_female  \n",
       "0   0.915757       0.912704            0.926596              0.889717  "
      ]
     },
     "execution_count": 53,
     "metadata": {},
     "output_type": "execute_result"
    }
   ],
   "source": [
    "cp_metrics_df"
   ]
  },
  {
   "cell_type": "markdown",
   "id": "33774451",
   "metadata": {
    "papermill": {
     "duration": 0.021412,
     "end_time": "2025-07-23T14:28:04.060391",
     "exception": false,
     "start_time": "2025-07-23T14:28:04.038979",
     "status": "completed"
    },
    "tags": []
   },
   "source": [
    "# (Fairness) Metrics"
   ]
  },
  {
   "cell_type": "code",
   "execution_count": 54,
   "id": "debc5d62",
   "metadata": {
    "execution": {
     "iopub.execute_input": "2025-07-23T14:28:04.106381Z",
     "iopub.status.busy": "2025-07-23T14:28:04.105676Z",
     "iopub.status.idle": "2025-07-23T14:28:04.128746Z",
     "shell.execute_reply": "2025-07-23T14:28:04.127688Z"
    },
    "papermill": {
     "duration": 0.048142,
     "end_time": "2025-07-23T14:28:04.130737",
     "exception": false,
     "start_time": "2025-07-23T14:28:04.082595",
     "status": "completed"
    },
    "tags": []
   },
   "outputs": [],
   "source": [
    "# do I need to include maxdeutsch1.missing?\n",
    "\n",
    "import numpy as np\n",
    "\n",
    "colname_to_bin = \"maxdeutsch1\"\n",
    "majority_value = org_train[colname_to_bin].mode()[0]\n",
    "\n",
    "org_test[\"majmin\"] = np.where(org_test[colname_to_bin] == majority_value, \"majority\", \"minority\")"
   ]
  },
  {
   "cell_type": "code",
   "execution_count": 55,
   "id": "06a50de5",
   "metadata": {
    "execution": {
     "iopub.execute_input": "2025-07-23T14:28:04.176312Z",
     "iopub.status.busy": "2025-07-23T14:28:04.175653Z",
     "iopub.status.idle": "2025-07-23T14:28:07.479016Z",
     "shell.execute_reply": "2025-07-23T14:28:07.477914Z"
    },
    "papermill": {
     "duration": 3.327703,
     "end_time": "2025-07-23T14:28:07.481108",
     "exception": false,
     "start_time": "2025-07-23T14:28:04.153405",
     "status": "completed"
    },
    "tags": []
   },
   "outputs": [],
   "source": [
    "example_universe = universe.copy()\n",
    "example_universe[\"cutoff\"] = example_universe[\"cutoff\"][0]\n",
    "example_universe[\"eval_fairness_grouping\"] = example_universe[\"eval_fairness_grouping\"][0]\n",
    "fairness_dict, metric_frame = universe_analysis.compute_metrics(\n",
    "    example_universe,\n",
    "    y_pred_prob=probs_test,\n",
    "    y_test=y_true,\n",
    "    org_test=org_test,\n",
    ")"
   ]
  },
  {
   "cell_type": "markdown",
   "id": "f95d4e02",
   "metadata": {
    "papermill": {
     "duration": 0.022761,
     "end_time": "2025-07-23T14:28:07.528635",
     "exception": false,
     "start_time": "2025-07-23T14:28:07.505874",
     "status": "completed"
    },
    "tags": []
   },
   "source": [
    "# Overall"
   ]
  },
  {
   "cell_type": "markdown",
   "id": "bdee4871",
   "metadata": {
    "papermill": {
     "duration": 0.022744,
     "end_time": "2025-07-23T14:28:07.573905",
     "exception": false,
     "start_time": "2025-07-23T14:28:07.551161",
     "status": "completed"
    },
    "tags": []
   },
   "source": [
    "Fairness\n",
    "Main fairness target: Equalized Odds. Seems to be a better fit than equal opportunity, since we're not only interested in Y = 1. Seems to be a better fit than demographic parity, since we also care about accuracy, not just equal distribution of preds.\n",
    "\n",
    "Pick column for computation of fairness metrics\n",
    "\n",
    "Performance\n",
    "Overall performance measures, most interesting in relation to the measures split by group below"
   ]
  },
  {
   "cell_type": "code",
   "execution_count": 56,
   "id": "c4e067c6",
   "metadata": {
    "execution": {
     "iopub.execute_input": "2025-07-23T14:28:07.621461Z",
     "iopub.status.busy": "2025-07-23T14:28:07.620697Z",
     "iopub.status.idle": "2025-07-23T14:28:07.631297Z",
     "shell.execute_reply": "2025-07-23T14:28:07.630354Z"
    },
    "papermill": {
     "duration": 0.035995,
     "end_time": "2025-07-23T14:28:07.633250",
     "exception": false,
     "start_time": "2025-07-23T14:28:07.597255",
     "status": "completed"
    },
    "tags": []
   },
   "outputs": [
    {
     "data": {
      "text/plain": [
       "accuracy                   0.197893\n",
       "balanced accuracy          0.530887\n",
       "f1                         0.238429\n",
       "precision                  0.135748\n",
       "false positive rate        0.917023\n",
       "false negative rate        0.021203\n",
       "selection rate             0.924947\n",
       "count                  89710.000000\n",
       "dtype: float64"
      ]
     },
     "execution_count": 56,
     "metadata": {},
     "output_type": "execute_result"
    }
   ],
   "source": [
    "metric_frame.overall"
   ]
  },
  {
   "cell_type": "markdown",
   "id": "e968fe9d",
   "metadata": {
    "papermill": {
     "duration": 0.022245,
     "end_time": "2025-07-23T14:28:07.678084",
     "exception": false,
     "start_time": "2025-07-23T14:28:07.655839",
     "status": "completed"
    },
    "tags": []
   },
   "source": [
    "By Group"
   ]
  },
  {
   "cell_type": "code",
   "execution_count": 57,
   "id": "ec325bce",
   "metadata": {
    "execution": {
     "iopub.execute_input": "2025-07-23T14:28:07.725384Z",
     "iopub.status.busy": "2025-07-23T14:28:07.724793Z",
     "iopub.status.idle": "2025-07-23T14:28:07.743557Z",
     "shell.execute_reply": "2025-07-23T14:28:07.742455Z"
    },
    "papermill": {
     "duration": 0.044349,
     "end_time": "2025-07-23T14:28:07.745455",
     "exception": false,
     "start_time": "2025-07-23T14:28:07.701106",
     "status": "completed"
    },
    "tags": []
   },
   "outputs": [
    {
     "data": {
      "text/html": [
       "<div>\n",
       "<style scoped>\n",
       "    .dataframe tbody tr th:only-of-type {\n",
       "        vertical-align: middle;\n",
       "    }\n",
       "\n",
       "    .dataframe tbody tr th {\n",
       "        vertical-align: top;\n",
       "    }\n",
       "\n",
       "    .dataframe thead th {\n",
       "        text-align: right;\n",
       "    }\n",
       "</style>\n",
       "<table border=\"1\" class=\"dataframe\">\n",
       "  <thead>\n",
       "    <tr style=\"text-align: right;\">\n",
       "      <th></th>\n",
       "      <th>accuracy</th>\n",
       "      <th>balanced accuracy</th>\n",
       "      <th>f1</th>\n",
       "      <th>precision</th>\n",
       "      <th>false positive rate</th>\n",
       "      <th>false negative rate</th>\n",
       "      <th>selection rate</th>\n",
       "      <th>count</th>\n",
       "    </tr>\n",
       "    <tr>\n",
       "      <th>majmin</th>\n",
       "      <th></th>\n",
       "      <th></th>\n",
       "      <th></th>\n",
       "      <th></th>\n",
       "      <th></th>\n",
       "      <th></th>\n",
       "      <th></th>\n",
       "      <th></th>\n",
       "    </tr>\n",
       "  </thead>\n",
       "  <tbody>\n",
       "    <tr>\n",
       "      <th>majority</th>\n",
       "      <td>0.185977</td>\n",
       "      <td>0.527679</td>\n",
       "      <td>0.243626</td>\n",
       "      <td>0.138863</td>\n",
       "      <td>0.936765</td>\n",
       "      <td>0.007877</td>\n",
       "      <td>0.944080</td>\n",
       "      <td>69170.0</td>\n",
       "    </tr>\n",
       "    <tr>\n",
       "      <th>minority</th>\n",
       "      <td>0.238023</td>\n",
       "      <td>0.537780</td>\n",
       "      <td>0.219129</td>\n",
       "      <td>0.124243</td>\n",
       "      <td>0.851805</td>\n",
       "      <td>0.072635</td>\n",
       "      <td>0.860516</td>\n",
       "      <td>20540.0</td>\n",
       "    </tr>\n",
       "  </tbody>\n",
       "</table>\n",
       "</div>"
      ],
      "text/plain": [
       "          accuracy  balanced accuracy        f1  precision  \\\n",
       "majmin                                                       \n",
       "majority  0.185977           0.527679  0.243626   0.138863   \n",
       "minority  0.238023           0.537780  0.219129   0.124243   \n",
       "\n",
       "          false positive rate  false negative rate  selection rate    count  \n",
       "majmin                                                                       \n",
       "majority             0.936765             0.007877        0.944080  69170.0  \n",
       "minority             0.851805             0.072635        0.860516  20540.0  "
      ]
     },
     "execution_count": 57,
     "metadata": {},
     "output_type": "execute_result"
    }
   ],
   "source": [
    "metric_frame.by_group"
   ]
  },
  {
   "cell_type": "code",
   "execution_count": 58,
   "id": "a9ddbe63",
   "metadata": {
    "execution": {
     "iopub.execute_input": "2025-07-23T14:28:07.795011Z",
     "iopub.status.busy": "2025-07-23T14:28:07.794077Z",
     "iopub.status.idle": "2025-07-23T14:28:09.955578Z",
     "shell.execute_reply": "2025-07-23T14:28:09.954604Z"
    },
    "papermill": {
     "duration": 2.188207,
     "end_time": "2025-07-23T14:28:09.957531",
     "exception": false,
     "start_time": "2025-07-23T14:28:07.769324",
     "status": "completed"
    },
    "tags": []
   },
   "outputs": [
    {
     "data": {
      "text/plain": [
       "array([[<Axes: title={'center': 'accuracy'}, xlabel='majmin'>,\n",
       "        <Axes: title={'center': 'balanced accuracy'}, xlabel='majmin'>,\n",
       "        <Axes: title={'center': 'f1'}, xlabel='majmin'>],\n",
       "       [<Axes: title={'center': 'precision'}, xlabel='majmin'>,\n",
       "        <Axes: title={'center': 'false positive rate'}, xlabel='majmin'>,\n",
       "        <Axes: title={'center': 'false negative rate'}, xlabel='majmin'>],\n",
       "       [<Axes: title={'center': 'selection rate'}, xlabel='majmin'>,\n",
       "        <Axes: title={'center': 'count'}, xlabel='majmin'>,\n",
       "        <Axes: xlabel='majmin'>]], dtype=object)"
      ]
     },
     "execution_count": 58,
     "metadata": {},
     "output_type": "execute_result"
    },
    {
     "data": {
      "image/png": "[encoded data removed]",
      "text/plain": [
       "<Figure size 1200x800 with 9 Axes>"
      ]
     },
     "metadata": {},
     "output_type": "display_data"
    }
   ],
   "source": [
    "# In a graphic\n",
    "metric_frame.by_group.plot.bar(\n",
    "    subplots=True,\n",
    "    layout=[3, 3],\n",
    "    legend=False,\n",
    "    figsize=[12, 8],\n",
    "    title=\"Show all metrics\",\n",
    ")"
   ]
  },
  {
   "cell_type": "markdown",
   "id": "f57a0bac",
   "metadata": {
    "papermill": {
     "duration": 0.026884,
     "end_time": "2025-07-23T14:28:10.012219",
     "exception": false,
     "start_time": "2025-07-23T14:28:09.985335",
     "status": "completed"
    },
    "tags": []
   },
   "source": [
    "# Final Output"
   ]
  },
  {
   "cell_type": "code",
   "execution_count": 59,
   "id": "96d280a3",
   "metadata": {
    "execution": {
     "iopub.execute_input": "2025-07-23T14:28:10.063313Z",
     "iopub.status.busy": "2025-07-23T14:28:10.062659Z",
     "iopub.status.idle": "2025-07-23T14:28:10.071139Z",
     "shell.execute_reply": "2025-07-23T14:28:10.070326Z"
    },
    "papermill": {
     "duration": 0.038499,
     "end_time": "2025-07-23T14:28:10.073208",
     "exception": false,
     "start_time": "2025-07-23T14:28:10.034709",
     "status": "completed"
    },
    "tags": []
   },
   "outputs": [
    {
     "data": {
      "text/plain": [
       "4"
      ]
     },
     "execution_count": 59,
     "metadata": {},
     "output_type": "execute_result"
    }
   ],
   "source": [
    "sub_universes = universe_analysis.generate_sub_universes()\n",
    "len(sub_universes)"
   ]
  },
  {
   "cell_type": "code",
   "execution_count": 60,
   "id": "92adf7ba",
   "metadata": {
    "execution": {
     "iopub.execute_input": "2025-07-23T14:28:10.126791Z",
     "iopub.status.busy": "2025-07-23T14:28:10.126213Z",
     "iopub.status.idle": "2025-07-23T14:28:10.135770Z",
     "shell.execute_reply": "2025-07-23T14:28:10.134619Z"
    },
    "papermill": {
     "duration": 0.036152,
     "end_time": "2025-07-23T14:28:10.137784",
     "exception": false,
     "start_time": "2025-07-23T14:28:10.101632",
     "status": "completed"
    },
    "tags": []
   },
   "outputs": [],
   "source": [
    "def filter_sub_universe_data(sub_universe, org_test):\n",
    "    # Keep all rows — no filtering\n",
    "    keep_rows_mask = np.ones(org_test.shape[0], dtype=bool)\n",
    "\n",
    "    print(f\"[INFO] Keeping all rows: {keep_rows_mask.sum()} rows retained.\")\n",
    "    return keep_rows_mask"
   ]
  },
  {
   "cell_type": "code",
   "execution_count": 61,
   "id": "4a759155",
   "metadata": {
    "execution": {
     "iopub.execute_input": "2025-07-23T14:28:10.179778Z",
     "iopub.status.busy": "2025-07-23T14:28:10.179287Z",
     "iopub.status.idle": "2025-07-23T14:28:33.034098Z",
     "shell.execute_reply": "2025-07-23T14:28:33.032678Z"
    },
    "papermill": {
     "duration": 22.87629,
     "end_time": "2025-07-23T14:28:33.036358",
     "exception": false,
     "start_time": "2025-07-23T14:28:10.160068",
     "status": "completed"
    },
    "tags": []
   },
   "outputs": [
    {
     "name": "stdout",
     "output_type": "stream",
     "text": [
      "Stopping execution_time clock.\n",
      "[INFO] Keeping all rows: 89710 rows retained.\n"
     ]
    },
    {
     "name": "stdout",
     "output_type": "stream",
     "text": [
      "[INFO] Keeping all rows: 89710 rows retained.\n"
     ]
    },
    {
     "name": "stdout",
     "output_type": "stream",
     "text": [
      "[INFO] Keeping all rows: 89710 rows retained.\n"
     ]
    },
    {
     "name": "stdout",
     "output_type": "stream",
     "text": [
      "[INFO] Keeping all rows: 89710 rows retained.\n"
     ]
    },
    {
     "data": {
      "text/html": [
       "<div>\n",
       "<style scoped>\n",
       "    .dataframe tbody tr th:only-of-type {\n",
       "        vertical-align: middle;\n",
       "    }\n",
       "\n",
       "    .dataframe tbody tr th {\n",
       "        vertical-align: top;\n",
       "    }\n",
       "\n",
       "    .dataframe thead th {\n",
       "        text-align: right;\n",
       "    }\n",
       "</style>\n",
       "<table border=\"1\" class=\"dataframe\">\n",
       "  <thead>\n",
       "    <tr style=\"text-align: right;\">\n",
       "      <th></th>\n",
       "      <th>run_no</th>\n",
       "      <th>universe_id</th>\n",
       "      <th>universe_settings</th>\n",
       "      <th>execution_time</th>\n",
       "      <th>test_size_n</th>\n",
       "      <th>test_size_frac</th>\n",
       "      <th>fair_main_equalized_odds_difference</th>\n",
       "      <th>fair_main_equalized_odds_ratio</th>\n",
       "      <th>fair_main_demographic_parity_difference</th>\n",
       "      <th>fair_main_demographic_parity_ratio</th>\n",
       "      <th>...</th>\n",
       "      <th>perf_grp_precision_0</th>\n",
       "      <th>perf_grp_precision_1</th>\n",
       "      <th>perf_grp_false positive rate_0</th>\n",
       "      <th>perf_grp_false positive rate_1</th>\n",
       "      <th>perf_grp_false negative rate_0</th>\n",
       "      <th>perf_grp_false negative rate_1</th>\n",
       "      <th>perf_grp_selection rate_0</th>\n",
       "      <th>perf_grp_selection rate_1</th>\n",
       "      <th>perf_grp_count_0</th>\n",
       "      <th>perf_grp_count_1</th>\n",
       "    </tr>\n",
       "  </thead>\n",
       "  <tbody>\n",
       "    <tr>\n",
       "      <th>0</th>\n",
       "      <td>9</td>\n",
       "      <td>93d9fafe3138a75e63086d7d04bdf2e6</td>\n",
       "      <td>{\"cutoff\": \"quantile_0.1\", \"eval_fairness_grou...</td>\n",
       "      <td>34.785719</td>\n",
       "      <td>89710</td>\n",
       "      <td>1.0</td>\n",
       "      <td>0.084960</td>\n",
       "      <td>0.909305</td>\n",
       "      <td>0.083564</td>\n",
       "      <td>0.911487</td>\n",
       "      <td>...</td>\n",
       "      <td>NaN</td>\n",
       "      <td>NaN</td>\n",
       "      <td>NaN</td>\n",
       "      <td>NaN</td>\n",
       "      <td>NaN</td>\n",
       "      <td>NaN</td>\n",
       "      <td>NaN</td>\n",
       "      <td>NaN</td>\n",
       "      <td>NaN</td>\n",
       "      <td>NaN</td>\n",
       "    </tr>\n",
       "    <tr>\n",
       "      <th>0</th>\n",
       "      <td>9</td>\n",
       "      <td>93d9fafe3138a75e63086d7d04bdf2e6</td>\n",
       "      <td>{\"cutoff\": \"quantile_0.1\", \"eval_fairness_grou...</td>\n",
       "      <td>34.785719</td>\n",
       "      <td>89710</td>\n",
       "      <td>1.0</td>\n",
       "      <td>0.084960</td>\n",
       "      <td>0.909305</td>\n",
       "      <td>0.083564</td>\n",
       "      <td>0.911487</td>\n",
       "      <td>...</td>\n",
       "      <td>0.124243</td>\n",
       "      <td>0.138863</td>\n",
       "      <td>0.851805</td>\n",
       "      <td>0.936765</td>\n",
       "      <td>0.072635</td>\n",
       "      <td>0.007877</td>\n",
       "      <td>0.860516</td>\n",
       "      <td>0.944080</td>\n",
       "      <td>20540.0</td>\n",
       "      <td>69170.0</td>\n",
       "    </tr>\n",
       "    <tr>\n",
       "      <th>0</th>\n",
       "      <td>9</td>\n",
       "      <td>93d9fafe3138a75e63086d7d04bdf2e6</td>\n",
       "      <td>{\"cutoff\": \"quantile_0.25\", \"eval_fairness_gro...</td>\n",
       "      <td>34.785719</td>\n",
       "      <td>89710</td>\n",
       "      <td>1.0</td>\n",
       "      <td>0.096326</td>\n",
       "      <td>0.881408</td>\n",
       "      <td>0.095630</td>\n",
       "      <td>0.880508</td>\n",
       "      <td>...</td>\n",
       "      <td>NaN</td>\n",
       "      <td>NaN</td>\n",
       "      <td>NaN</td>\n",
       "      <td>NaN</td>\n",
       "      <td>NaN</td>\n",
       "      <td>NaN</td>\n",
       "      <td>NaN</td>\n",
       "      <td>NaN</td>\n",
       "      <td>NaN</td>\n",
       "      <td>NaN</td>\n",
       "    </tr>\n",
       "    <tr>\n",
       "      <th>0</th>\n",
       "      <td>9</td>\n",
       "      <td>93d9fafe3138a75e63086d7d04bdf2e6</td>\n",
       "      <td>{\"cutoff\": \"quantile_0.25\", \"eval_fairness_gro...</td>\n",
       "      <td>34.785719</td>\n",
       "      <td>89710</td>\n",
       "      <td>1.0</td>\n",
       "      <td>0.096326</td>\n",
       "      <td>0.881408</td>\n",
       "      <td>0.095630</td>\n",
       "      <td>0.880508</td>\n",
       "      <td>...</td>\n",
       "      <td>0.141633</td>\n",
       "      <td>0.158842</td>\n",
       "      <td>0.683689</td>\n",
       "      <td>0.775679</td>\n",
       "      <td>0.134291</td>\n",
       "      <td>0.037965</td>\n",
       "      <td>0.704674</td>\n",
       "      <td>0.800304</td>\n",
       "      <td>20540.0</td>\n",
       "      <td>69170.0</td>\n",
       "    </tr>\n",
       "  </tbody>\n",
       "</table>\n",
       "<p>4 rows × 50 columns</p>\n",
       "</div>"
      ],
      "text/plain": [
       "  run_no                       universe_id  \\\n",
       "0      9  93d9fafe3138a75e63086d7d04bdf2e6   \n",
       "0      9  93d9fafe3138a75e63086d7d04bdf2e6   \n",
       "0      9  93d9fafe3138a75e63086d7d04bdf2e6   \n",
       "0      9  93d9fafe3138a75e63086d7d04bdf2e6   \n",
       "\n",
       "                                   universe_settings  execution_time  \\\n",
       "0  {\"cutoff\": \"quantile_0.1\", \"eval_fairness_grou...       34.785719   \n",
       "0  {\"cutoff\": \"quantile_0.1\", \"eval_fairness_grou...       34.785719   \n",
       "0  {\"cutoff\": \"quantile_0.25\", \"eval_fairness_gro...       34.785719   \n",
       "0  {\"cutoff\": \"quantile_0.25\", \"eval_fairness_gro...       34.785719   \n",
       "\n",
       "   test_size_n  test_size_frac  fair_main_equalized_odds_difference  \\\n",
       "0        89710             1.0                             0.084960   \n",
       "0        89710             1.0                             0.084960   \n",
       "0        89710             1.0                             0.096326   \n",
       "0        89710             1.0                             0.096326   \n",
       "\n",
       "   fair_main_equalized_odds_ratio  fair_main_demographic_parity_difference  \\\n",
       "0                        0.909305                                 0.083564   \n",
       "0                        0.909305                                 0.083564   \n",
       "0                        0.881408                                 0.095630   \n",
       "0                        0.881408                                 0.095630   \n",
       "\n",
       "   fair_main_demographic_parity_ratio  ...  perf_grp_precision_0  \\\n",
       "0                            0.911487  ...                   NaN   \n",
       "0                            0.911487  ...              0.124243   \n",
       "0                            0.880508  ...                   NaN   \n",
       "0                            0.880508  ...              0.141633   \n",
       "\n",
       "   perf_grp_precision_1  perf_grp_false positive rate_0  \\\n",
       "0                   NaN                             NaN   \n",
       "0              0.138863                        0.851805   \n",
       "0                   NaN                             NaN   \n",
       "0              0.158842                        0.683689   \n",
       "\n",
       "   perf_grp_false positive rate_1  perf_grp_false negative rate_0  \\\n",
       "0                             NaN                             NaN   \n",
       "0                        0.936765                        0.072635   \n",
       "0                             NaN                             NaN   \n",
       "0                        0.775679                        0.134291   \n",
       "\n",
       "   perf_grp_false negative rate_1  perf_grp_selection rate_0  \\\n",
       "0                             NaN                        NaN   \n",
       "0                        0.007877                   0.860516   \n",
       "0                             NaN                        NaN   \n",
       "0                        0.037965                   0.704674   \n",
       "\n",
       "   perf_grp_selection rate_1  perf_grp_count_0  perf_grp_count_1  \n",
       "0                        NaN               NaN               NaN  \n",
       "0                   0.944080           20540.0           69170.0  \n",
       "0                        NaN               NaN               NaN  \n",
       "0                   0.800304           20540.0           69170.0  \n",
       "\n",
       "[4 rows x 50 columns]"
      ]
     },
     "execution_count": 61,
     "metadata": {},
     "output_type": "execute_result"
    }
   ],
   "source": [
    "final_output = universe_analysis.generate_final_output(\n",
    "    y_pred_prob=probs_test,\n",
    "    y_test=y_true,\n",
    "    org_test=org_test,\n",
    "    filter_data=filter_sub_universe_data,\n",
    "    cp_metrics_df=cp_metrics_df,\n",
    "    save=True,\n",
    ")\n",
    "final_output"
   ]
  },
  {
   "cell_type": "code",
   "execution_count": null,
   "id": "721ff514-cb11-46f8-b6fc-50392f74b5cb",
   "metadata": {
    "papermill": {
     "duration": 0.120916,
     "end_time": "2025-07-23T14:28:33.236918",
     "exception": false,
     "start_time": "2025-07-23T14:28:33.116002",
     "status": "completed"
    },
    "tags": []
   },
   "outputs": [],
   "source": []
  }
 ],
 "metadata": {
  "celltoolbar": "Tags",
  "kernelspec": {
   "display_name": "Python (CMA Fairness)",
   "language": "python",
   "name": "cma_fair_env"
  },
  "language_info": {
   "codemirror_mode": {
    "name": "ipython",
    "version": 3
   },
   "file_extension": ".py",
   "mimetype": "text/x-python",
   "name": "python",
   "nbconvert_exporter": "python",
   "pygments_lexer": "ipython3",
   "version": "3.10.12"
  },
  "papermill": {
   "default_parameters": {},
   "duration": 65.066617,
   "end_time": "2025-07-23T14:28:36.781434",
   "environment_variables": {},
   "exception": null,
   "input_path": "universe_analysis.ipynb",
   "output_path": "output/runs/9/notebooks/m_9-93d9fafe3138a75e63086d7d04bdf2e6.ipynb",
   "parameters": {
    "output_dir": "output",
    "run_no": "9",
    "seed": "2023",
    "universe": "{\"cutoff\": [\"quantile_0.1\", \"quantile_0.25\"], \"eval_fairness_grouping\": [\"majority-minority\", \"nationality-all\"], \"exclude_features\": \"none\", \"exclude_subgroups\": \"keep-all\", \"model\": \"rf\", \"scale\": \"scale\"}",
    "universe_id": "93d9fafe3138a75e63086d7d04bdf2e6"
   },
   "start_time": "2025-07-23T14:27:31.714817",
   "version": "2.6.0"
  }
 },
 "nbformat": 4,
 "nbformat_minor": 5
}