{
 "cells": [
  {
   "cell_type": "code",
   "execution_count": 1,
   "id": "f159f837-637b-42ba-96b5-ec9a68c44524",
   "metadata": {
    "execution": {
     "iopub.execute_input": "2025-07-23T14:36:17.243372Z",
     "iopub.status.busy": "2025-07-23T14:36:17.242840Z",
     "iopub.status.idle": "2025-07-23T14:36:17.257116Z",
     "shell.execute_reply": "2025-07-23T14:36:17.255992Z"
    },
    "papermill": {
     "duration": 0.034323,
     "end_time": "2025-07-23T14:36:17.258985",
     "exception": false,
     "start_time": "2025-07-23T14:36:17.224662",
     "status": "completed"
    },
    "tags": []
   },
   "outputs": [
    {
     "name": "stdout",
     "output_type": "stream",
     "text": [
      "/dss/dsshome1/0C/ra93lal2/cma/CMA_Fairness_v2\n"
     ]
    },
    {
     "name": "stderr",
     "output_type": "stream",
     "text": [
      "/dss/dsshome1/0C/ra93lal2/.local/share/virtualenvs/CMA_Fairness_v2-3j10GkSs/lib/python3.10/site-packages/IPython/core/magics/osm.py:393: UserWarning: This is now an optional IPython functionality, using bookmarks requires you to install the `pickleshare` library.\n",
      "  bkms = self.shell.db.get('bookmarks', {})\n",
      "/dss/dsshome1/0C/ra93lal2/.local/share/virtualenvs/CMA_Fairness_v2-3j10GkSs/lib/python3.10/site-packages/IPython/core/magics/osm.py:417: UserWarning: This is now an optional IPython functionality, setting dhist requires you to install the `pickleshare` library.\n",
      "  self.shell.db['dhist'] = compress_dhist(dhist)[-100:]\n"
     ]
    }
   ],
   "source": [
    "%cd ~/cma/CMA_Fairness_v2"
   ]
  },
  {
   "cell_type": "markdown",
   "id": "de2603b9",
   "metadata": {
    "papermill": {
     "duration": 0.017893,
     "end_time": "2025-07-23T14:36:17.294645",
     "exception": false,
     "start_time": "2025-07-23T14:36:17.276752",
     "status": "completed"
    },
    "tags": []
   },
   "source": [
    "The following cell holds the definition of our parameters, these values can be overriden by rendering the with e.g. the following command:\n",
    "\n",
    "papermill -p alpha 0.2 -p ratio 0.3 universe_analysis.ipynb output/test_run.ipynb"
   ]
  },
  {
   "cell_type": "code",
   "execution_count": 2,
   "id": "a80968a0-40bb-4fa9-85ef-2d5eefb01975",
   "metadata": {
    "execution": {
     "iopub.execute_input": "2025-07-23T14:36:17.331976Z",
     "iopub.status.busy": "2025-07-23T14:36:17.331169Z",
     "iopub.status.idle": "2025-07-23T14:36:17.337902Z",
     "shell.execute_reply": "2025-07-23T14:36:17.336796Z"
    },
    "papermill": {
     "duration": 0.027615,
     "end_time": "2025-07-23T14:36:17.339791",
     "exception": false,
     "start_time": "2025-07-23T14:36:17.312176",
     "status": "completed"
    },
    "tags": []
   },
   "outputs": [
    {
     "name": "stdout",
     "output_type": "stream",
     "text": [
      "Current working directory: /dss/dsshome1/0C/ra93lal2/cma/CMA_Fairness_v2\n"
     ]
    }
   ],
   "source": [
    "import os\n",
    "print(\"Current working directory:\", os.getcwd())"
   ]
  },
  {
   "cell_type": "code",
   "execution_count": 3,
   "id": "2dce4c03",
   "metadata": {
    "execution": {
     "iopub.execute_input": "2025-07-23T14:36:17.377907Z",
     "iopub.status.busy": "2025-07-23T14:36:17.376785Z",
     "iopub.status.idle": "2025-07-23T14:36:17.384000Z",
     "shell.execute_reply": "2025-07-23T14:36:17.382864Z"
    },
    "papermill": {
     "duration": 0.033365,
     "end_time": "2025-07-23T14:36:17.390709",
     "exception": false,
     "start_time": "2025-07-23T14:36:17.357344",
     "status": "completed"
    },
    "tags": [
     "parameters"
    ]
   },
   "outputs": [],
   "source": [
    "run_no = 0\n",
    "universe_id = \"test\"\n",
    "universe = {\n",
    "    \"scale\": \"scale\", # \"scale\", \"do-not-scale\",\n",
    "    \"model\": \"elasticnet\", # \"logreg\", \"penalized_logreg\", \"rf\", \"gbm\", \"elasticnet\"\n",
    "    \"cutoff\": [\"quantile_0.15\", \"quantile_0.30\"],\n",
    "    \"exclude_features\": \"age\", # \"none\", \"nationality\", \"sex\", \"nationality-sex\", \"age\"\n",
    "    \"exclude_subgroups\": \"keep-all\", # \"keep-all\", \"drop-non-german\"\n",
    "    #\"training_sample\": \"restricted\", # \"restricted\", \"full\"\n",
    "    \"eval_fairness_grouping\": [\"majority-minority\", \"nationality-all\"]\n",
    "}\n",
    "\n",
    "output_dir=\"./output\"\n",
    "seed=0"
   ]
  },
  {
   "cell_type": "code",
   "execution_count": 4,
   "id": "34b1b712",
   "metadata": {
    "execution": {
     "iopub.execute_input": "2025-07-23T14:36:17.430667Z",
     "iopub.status.busy": "2025-07-23T14:36:17.430215Z",
     "iopub.status.idle": "2025-07-23T14:36:17.436733Z",
     "shell.execute_reply": "2025-07-23T14:36:17.435513Z"
    },
    "papermill": {
     "duration": 0.028912,
     "end_time": "2025-07-23T14:36:17.438722",
     "exception": false,
     "start_time": "2025-07-23T14:36:17.409810",
     "status": "completed"
    },
    "tags": [
     "injected-parameters"
    ]
   },
   "outputs": [],
   "source": [
    "# Parameters\n",
    "universe_id = \"2f633861fccfade6a66fb3c983dc3d3d\"\n",
    "run_no = \"9\"\n",
    "universe = \"{\\\"cutoff\\\": [\\\"quantile_0.1\\\", \\\"quantile_0.25\\\"], \\\"eval_fairness_grouping\\\": [\\\"majority-minority\\\", \\\"nationality-all\\\"], \\\"exclude_features\\\": \\\"nationality\\\", \\\"exclude_subgroups\\\": \\\"drop-non-german\\\", \\\"model\\\": \\\"rf\\\", \\\"scale\\\": \\\"do-not-scale\\\"}\"\n",
    "output_dir = \"output\"\n",
    "seed = \"2023\"\n"
   ]
  },
  {
   "cell_type": "code",
   "execution_count": 5,
   "id": "1650acaf",
   "metadata": {
    "execution": {
     "iopub.execute_input": "2025-07-23T14:36:17.478520Z",
     "iopub.status.busy": "2025-07-23T14:36:17.477939Z",
     "iopub.status.idle": "2025-07-23T14:36:17.483943Z",
     "shell.execute_reply": "2025-07-23T14:36:17.482835Z"
    },
    "papermill": {
     "duration": 0.02834,
     "end_time": "2025-07-23T14:36:17.485720",
     "exception": false,
     "start_time": "2025-07-23T14:36:17.457380",
     "status": "completed"
    },
    "tags": []
   },
   "outputs": [],
   "source": [
    "import json\n",
    "# Parse universe into dict if it is passed as a string\n",
    "if isinstance(universe, str):\n",
    "    universe = json.loads(universe)"
   ]
  },
  {
   "cell_type": "code",
   "execution_count": 6,
   "id": "16620c48",
   "metadata": {
    "execution": {
     "iopub.execute_input": "2025-07-23T14:36:17.526966Z",
     "iopub.status.busy": "2025-07-23T14:36:17.525931Z",
     "iopub.status.idle": "2025-07-23T14:36:17.575360Z",
     "shell.execute_reply": "2025-07-23T14:36:17.574317Z"
    },
    "papermill": {
     "duration": 0.072236,
     "end_time": "2025-07-23T14:36:17.577404",
     "exception": false,
     "start_time": "2025-07-23T14:36:17.505168",
     "status": "completed"
    },
    "tags": []
   },
   "outputs": [],
   "source": [
    "# Auto-reload the custom package\n",
    "%load_ext autoreload\n",
    "%autoreload 1\n",
    "%aimport fairness_multiverse"
   ]
  },
  {
   "cell_type": "code",
   "execution_count": 7,
   "id": "01c5c9f3",
   "metadata": {
    "execution": {
     "iopub.execute_input": "2025-07-23T14:36:17.619207Z",
     "iopub.status.busy": "2025-07-23T14:36:17.618654Z",
     "iopub.status.idle": "2025-07-23T14:36:21.351141Z",
     "shell.execute_reply": "2025-07-23T14:36:21.349884Z"
    },
    "papermill": {
     "duration": 3.755395,
     "end_time": "2025-07-23T14:36:21.353524",
     "exception": false,
     "start_time": "2025-07-23T14:36:17.598129",
     "status": "completed"
    },
    "tags": []
   },
   "outputs": [],
   "source": [
    "from fairness_multiverse.universe import UniverseAnalysis\n",
    "\n",
    "universe_analysis = UniverseAnalysis(\n",
    "    run_no = run_no,\n",
    "    universe_id = universe_id,\n",
    "    universe = universe,\n",
    "    output_dir=output_dir,\n",
    ")"
   ]
  },
  {
   "cell_type": "code",
   "execution_count": 8,
   "id": "106241f5",
   "metadata": {
    "execution": {
     "iopub.execute_input": "2025-07-23T14:36:21.413890Z",
     "iopub.status.busy": "2025-07-23T14:36:21.413403Z",
     "iopub.status.idle": "2025-07-23T14:36:21.421400Z",
     "shell.execute_reply": "2025-07-23T14:36:21.420123Z"
    },
    "papermill": {
     "duration": 0.042471,
     "end_time": "2025-07-23T14:36:21.423563",
     "exception": false,
     "start_time": "2025-07-23T14:36:21.381092",
     "status": "completed"
    },
    "tags": []
   },
   "outputs": [
    {
     "name": "stdout",
     "output_type": "stream",
     "text": [
      "Using Seed: 2023\n"
     ]
    }
   ],
   "source": [
    "import numpy as np\n",
    "parsed_seed = int(seed)\n",
    "np.random.seed(parsed_seed)\n",
    "print(f\"Using Seed: {parsed_seed}\")"
   ]
  },
  {
   "cell_type": "markdown",
   "id": "e0ebdc57",
   "metadata": {
    "papermill": {
     "duration": 0.035138,
     "end_time": "2025-07-23T14:36:21.508204",
     "exception": false,
     "start_time": "2025-07-23T14:36:21.473066",
     "status": "completed"
    },
    "tags": []
   },
   "source": [
    "# Loading Data"
   ]
  },
  {
   "cell_type": "markdown",
   "id": "681925a3",
   "metadata": {
    "papermill": {
     "duration": 0.045759,
     "end_time": "2025-07-23T14:36:21.589378",
     "exception": false,
     "start_time": "2025-07-23T14:36:21.543619",
     "status": "completed"
    },
    "tags": []
   },
   "source": [
    "Load siab_train, siab_test, siab_calib and/or \n",
    "load siab_train_features, siab_train_labels"
   ]
  },
  {
   "cell_type": "code",
   "execution_count": 9,
   "id": "f0496b8a",
   "metadata": {
    "execution": {
     "iopub.execute_input": "2025-07-23T14:36:21.661712Z",
     "iopub.status.busy": "2025-07-23T14:36:21.661238Z",
     "iopub.status.idle": "2025-07-23T14:36:21.669202Z",
     "shell.execute_reply": "2025-07-23T14:36:21.667975Z"
    },
    "papermill": {
     "duration": 0.046603,
     "end_time": "2025-07-23T14:36:21.671325",
     "exception": false,
     "start_time": "2025-07-23T14:36:21.624722",
     "status": "completed"
    },
    "tags": []
   },
   "outputs": [],
   "source": [
    "# Do I need to load siab? Delete this cell?\n",
    "\n",
    "#from pathlib import Path\n",
    "#import pandas as pd\n",
    "#\n",
    "## File paths\n",
    "#raw_file = Path(\"data/raw/siab.csv\")\n",
    "#cache_file = Path(\"data/siab_cached.csv.gz\")\n",
    "#\n",
    "## Ensure cache directory exists\n",
    "#cache_file.parent.mkdir(parents=True, exist_ok=True)\n",
    "#\n",
    "## Load with simple caching\n",
    "#if cache_file.exists():\n",
    "#    print(f\"Loading SIAB data from cache: {cache_file}\")\n",
    "#    siab = pd.read_csv(cache_file, compression='gzip')\n",
    "#else:\n",
    "#    print(f\"Cache not found. Reading raw SIAB data: {raw_file}\")\n",
    "#    siab = pd.read_csv(raw_file)\n",
    "#    siab.to_csv(cache_file, index=False, compression='gzip')\n",
    "#    print(f\"Cached SIAB data to: {cache_file}\")\n",
    "#\n",
    "## Now use `siab` DataFrame as needed\n",
    "#print(siab.shape)\n"
   ]
  },
  {
   "cell_type": "code",
   "execution_count": 10,
   "id": "a0edb063",
   "metadata": {
    "execution": {
     "iopub.execute_input": "2025-07-23T14:36:21.758480Z",
     "iopub.status.busy": "2025-07-23T14:36:21.758010Z",
     "iopub.status.idle": "2025-07-23T14:36:23.778919Z",
     "shell.execute_reply": "2025-07-23T14:36:23.777683Z"
    },
    "papermill": {
     "duration": 2.060101,
     "end_time": "2025-07-23T14:36:23.781152",
     "exception": false,
     "start_time": "2025-07-23T14:36:21.721051",
     "status": "completed"
    },
    "tags": []
   },
   "outputs": [],
   "source": [
    "import pandas as pd\n",
    "\n",
    "X_train = pd.read_csv(\"./data/X_train.csv\")\n",
    "y_train = pd.read_csv(\"./data/y_train.csv\")"
   ]
  },
  {
   "cell_type": "code",
   "execution_count": 11,
   "id": "63d08085",
   "metadata": {
    "execution": {
     "iopub.execute_input": "2025-07-23T14:36:23.851756Z",
     "iopub.status.busy": "2025-07-23T14:36:23.851206Z",
     "iopub.status.idle": "2025-07-23T14:36:26.017506Z",
     "shell.execute_reply": "2025-07-23T14:36:26.016297Z"
    },
    "papermill": {
     "duration": 2.204462,
     "end_time": "2025-07-23T14:36:26.019937",
     "exception": false,
     "start_time": "2025-07-23T14:36:23.815475",
     "status": "completed"
    },
    "tags": []
   },
   "outputs": [],
   "source": [
    "X_test = pd.read_csv(\"./data/X_test.csv\")\n",
    "y_true = pd.read_csv(\"./data/y_test.csv\")"
   ]
  },
  {
   "cell_type": "code",
   "execution_count": 12,
   "id": "98a8d0fa-1d3d-4ed8-bb2c-281470e24add",
   "metadata": {
    "execution": {
     "iopub.execute_input": "2025-07-23T14:36:26.060908Z",
     "iopub.status.busy": "2025-07-23T14:36:26.060448Z",
     "iopub.status.idle": "2025-07-23T14:36:29.683289Z",
     "shell.execute_reply": "2025-07-23T14:36:29.682117Z"
    },
    "papermill": {
     "duration": 3.646373,
     "end_time": "2025-07-23T14:36:29.685755",
     "exception": false,
     "start_time": "2025-07-23T14:36:26.039382",
     "status": "completed"
    },
    "tags": []
   },
   "outputs": [],
   "source": [
    "# Calibration data for conformal\n",
    "X_calib = pd.read_csv(\"./data/X_calib.csv\")\n",
    "y_calib = pd.read_csv(\"./data/y_calib.csv\")"
   ]
  },
  {
   "cell_type": "code",
   "execution_count": 13,
   "id": "e6c733c5",
   "metadata": {
    "execution": {
     "iopub.execute_input": "2025-07-23T14:36:29.760885Z",
     "iopub.status.busy": "2025-07-23T14:36:29.760311Z",
     "iopub.status.idle": "2025-07-23T14:36:30.007073Z",
     "shell.execute_reply": "2025-07-23T14:36:30.005894Z"
    },
    "papermill": {
     "duration": 0.285799,
     "end_time": "2025-07-23T14:36:30.009149",
     "exception": false,
     "start_time": "2025-07-23T14:36:29.723350",
     "status": "completed"
    },
    "tags": []
   },
   "outputs": [],
   "source": [
    "# Auxiliary data needed downstream in the pipeline\n",
    "\n",
    "org_train = X_train.copy()\n",
    "org_test = X_test.copy()\n",
    "org_calib = X_calib.copy()"
   ]
  },
  {
   "cell_type": "markdown",
   "id": "0a4a1b33",
   "metadata": {
    "papermill": {
     "duration": 0.043489,
     "end_time": "2025-07-23T14:36:30.104617",
     "exception": false,
     "start_time": "2025-07-23T14:36:30.061128",
     "status": "completed"
    },
    "tags": []
   },
   "source": [
    "# Preprocessing Data"
   ]
  },
  {
   "cell_type": "code",
   "execution_count": 14,
   "id": "ca879031",
   "metadata": {
    "execution": {
     "iopub.execute_input": "2025-07-23T14:36:30.203896Z",
     "iopub.status.busy": "2025-07-23T14:36:30.202791Z",
     "iopub.status.idle": "2025-07-23T14:36:30.210167Z",
     "shell.execute_reply": "2025-07-23T14:36:30.209143Z"
    },
    "papermill": {
     "duration": 0.066255,
     "end_time": "2025-07-23T14:36:30.219337",
     "exception": false,
     "start_time": "2025-07-23T14:36:30.153082",
     "status": "completed"
    },
    "tags": []
   },
   "outputs": [],
   "source": [
    "# EXCLUDE PROTECTED FEATURES\n",
    "# ----------------------\n",
    "# \"exclude_features\": \"none\", # \"nationality\", \"sex\", \"nationality-sex\"\n",
    "\n",
    "excluded_features = universe[\"exclude_features\"].split(\"-\") # split, e.g.: \"nationality-sex\" -> [\"nationality\", \"sex\"]\n",
    "excluded_features_dictionary = {\n",
    "    \"nationality\": [\"maxdeutsch1\", \"maxdeutsch.Missing.\"],\n",
    "    \"sex\": [\"frau1\"],\n",
    "    \"age\": [\"age\"],\n",
    "}\n"
   ]
  },
  {
   "cell_type": "code",
   "execution_count": 15,
   "id": "b745ac60",
   "metadata": {
    "execution": {
     "iopub.execute_input": "2025-07-23T14:36:30.347422Z",
     "iopub.status.busy": "2025-07-23T14:36:30.346931Z",
     "iopub.status.idle": "2025-07-23T14:36:30.354579Z",
     "shell.execute_reply": "2025-07-23T14:36:30.353455Z"
    },
    "papermill": {
     "duration": 0.079505,
     "end_time": "2025-07-23T14:36:30.356813",
     "exception": false,
     "start_time": "2025-07-23T14:36:30.277308",
     "status": "completed"
    },
    "tags": []
   },
   "outputs": [],
   "source": [
    "# Code nice names to column names\n",
    "\n",
    "excluded_features_columns = [\n",
    "    excluded_features_dictionary[f] for f in excluded_features if len(f) > 0 and f != \"none\"\n",
    "]"
   ]
  },
  {
   "cell_type": "code",
   "execution_count": 16,
   "id": "f84f73a2",
   "metadata": {
    "execution": {
     "iopub.execute_input": "2025-07-23T14:36:30.443647Z",
     "iopub.status.busy": "2025-07-23T14:36:30.443181Z",
     "iopub.status.idle": "2025-07-23T14:36:30.452117Z",
     "shell.execute_reply": "2025-07-23T14:36:30.450774Z"
    },
    "papermill": {
     "duration": 0.061248,
     "end_time": "2025-07-23T14:36:30.454384",
     "exception": false,
     "start_time": "2025-07-23T14:36:30.393136",
     "status": "completed"
    },
    "tags": []
   },
   "outputs": [],
   "source": [
    "from utils import flatten_once\n",
    "\n",
    "excluded_features_columns = flatten_once(excluded_features_columns)"
   ]
  },
  {
   "cell_type": "code",
   "execution_count": 17,
   "id": "884dea22",
   "metadata": {
    "execution": {
     "iopub.execute_input": "2025-07-23T14:36:30.539083Z",
     "iopub.status.busy": "2025-07-23T14:36:30.538586Z",
     "iopub.status.idle": "2025-07-23T14:36:30.650278Z",
     "shell.execute_reply": "2025-07-23T14:36:30.648722Z"
    },
    "papermill": {
     "duration": 0.151562,
     "end_time": "2025-07-23T14:36:30.652648",
     "exception": false,
     "start_time": "2025-07-23T14:36:30.501086",
     "status": "completed"
    },
    "tags": []
   },
   "outputs": [
    {
     "name": "stdout",
     "output_type": "stream",
     "text": [
      "Dropping features: ['maxdeutsch1', 'maxdeutsch.Missing.']\n"
     ]
    }
   ],
   "source": [
    "if len(excluded_features_columns) > 0:\n",
    "    print(f\"Dropping features: {excluded_features_columns}\")\n",
    "    X_train.drop(excluded_features_columns, axis=1, inplace=True)"
   ]
  },
  {
   "cell_type": "code",
   "execution_count": 18,
   "id": "95ab8b16",
   "metadata": {
    "execution": {
     "iopub.execute_input": "2025-07-23T14:36:30.739639Z",
     "iopub.status.busy": "2025-07-23T14:36:30.739141Z",
     "iopub.status.idle": "2025-07-23T14:36:30.852777Z",
     "shell.execute_reply": "2025-07-23T14:36:30.851169Z"
    },
    "papermill": {
     "duration": 0.153973,
     "end_time": "2025-07-23T14:36:30.855131",
     "exception": false,
     "start_time": "2025-07-23T14:36:30.701158",
     "status": "completed"
    },
    "tags": []
   },
   "outputs": [
    {
     "name": "stdout",
     "output_type": "stream",
     "text": [
      "Dropping features: ['maxdeutsch1', 'maxdeutsch.Missing.']\n"
     ]
    }
   ],
   "source": [
    "if len(excluded_features_columns) > 0:\n",
    "    print(f\"Dropping features: {excluded_features_columns}\")\n",
    "    X_test.drop(excluded_features_columns, axis=1, inplace=True)"
   ]
  },
  {
   "cell_type": "code",
   "execution_count": 19,
   "id": "1853aaf5-fb9f-46cb-a2b5-8ea4ae2237e4",
   "metadata": {
    "execution": {
     "iopub.execute_input": "2025-07-23T14:36:30.939651Z",
     "iopub.status.busy": "2025-07-23T14:36:30.939183Z",
     "iopub.status.idle": "2025-07-23T14:36:31.052541Z",
     "shell.execute_reply": "2025-07-23T14:36:31.051434Z"
    },
    "papermill": {
     "duration": 0.165492,
     "end_time": "2025-07-23T14:36:31.054658",
     "exception": false,
     "start_time": "2025-07-23T14:36:30.889166",
     "status": "completed"
    },
    "tags": []
   },
   "outputs": [
    {
     "name": "stdout",
     "output_type": "stream",
     "text": [
      "Dropping features: ['maxdeutsch1', 'maxdeutsch.Missing.']\n"
     ]
    }
   ],
   "source": [
    "if len(excluded_features_columns) > 0:\n",
    "    print(f\"Dropping features: {excluded_features_columns}\")\n",
    "    X_calib.drop(excluded_features_columns, axis=1, inplace=True)"
   ]
  },
  {
   "cell_type": "code",
   "execution_count": 20,
   "id": "76c4dc6d",
   "metadata": {
    "execution": {
     "iopub.execute_input": "2025-07-23T14:36:31.125998Z",
     "iopub.status.busy": "2025-07-23T14:36:31.125523Z",
     "iopub.status.idle": "2025-07-23T14:36:31.131702Z",
     "shell.execute_reply": "2025-07-23T14:36:31.130577Z"
    },
    "papermill": {
     "duration": 0.040141,
     "end_time": "2025-07-23T14:36:31.133728",
     "exception": false,
     "start_time": "2025-07-23T14:36:31.093587",
     "status": "completed"
    },
    "tags": []
   },
   "outputs": [],
   "source": [
    "# EXCLUDE CERTAIN SUBGROUPS\n",
    "# ----------------------\n",
    "\n",
    "mode = universe.get(\"exclude_subgroups\", \"keep-all\") \n",
    "# Fetches the exclude_subgroups setting from the universe dict.\n",
    "# Defaults to \"keep-all\" if the key is missing."
   ]
  },
  {
   "cell_type": "code",
   "execution_count": 21,
   "id": "21994072",
   "metadata": {
    "execution": {
     "iopub.execute_input": "2025-07-23T14:36:31.213957Z",
     "iopub.status.busy": "2025-07-23T14:36:31.213453Z",
     "iopub.status.idle": "2025-07-23T14:36:31.221462Z",
     "shell.execute_reply": "2025-07-23T14:36:31.220402Z"
    },
    "papermill": {
     "duration": 0.049713,
     "end_time": "2025-07-23T14:36:31.223206",
     "exception": false,
     "start_time": "2025-07-23T14:36:31.173493",
     "status": "completed"
    },
    "tags": []
   },
   "outputs": [],
   "source": [
    "if mode == \"keep-all\":\n",
    "    keep_mask = pd.Series(True, index=org_train.index)\n",
    "\n",
    "# org_train contains the original feature columns from features_org (in Simson)\n",
    "# features_org contains unprocessed features, for me X_train at beginning ???\n",
    "# For keep-all, creates a boolean Series (keep_mask) of all True, so no rows are removed.\n",
    "\n",
    "elif mode == \"drop-non-german\":\n",
    "    keep_mask = org_train[\"maxdeutsch1\"] == 1 # ??? what about missing values?\n",
    "\n",
    "else:\n",
    "    raise ValueError(f\"Unsupported mode for exclude_subgroups: {mode}\")\n"
   ]
  },
  {
   "cell_type": "code",
   "execution_count": 22,
   "id": "71651440",
   "metadata": {
    "execution": {
     "iopub.execute_input": "2025-07-23T14:36:31.295238Z",
     "iopub.status.busy": "2025-07-23T14:36:31.294735Z",
     "iopub.status.idle": "2025-07-23T14:36:31.303159Z",
     "shell.execute_reply": "2025-07-23T14:36:31.301894Z"
    },
    "papermill": {
     "duration": 0.043686,
     "end_time": "2025-07-23T14:36:31.308403",
     "exception": false,
     "start_time": "2025-07-23T14:36:31.264717",
     "status": "completed"
    },
    "tags": []
   },
   "outputs": [
    {
     "name": "stdout",
     "output_type": "stream",
     "text": [
      "Dropping 10036 rows (13.38%) where mode='drop-non-german'\n"
     ]
    }
   ],
   "source": [
    "n_drop = (~keep_mask).sum() # Calculates how many rows are set to be dropped\n",
    "if n_drop > 0:\n",
    "    pct = n_drop / len(keep_mask) * 100\n",
    "    print(f\"Dropping {n_drop} rows ({pct:.2f}%) where mode='{mode}'\")"
   ]
  },
  {
   "cell_type": "code",
   "execution_count": 23,
   "id": "5fb8eee5",
   "metadata": {
    "execution": {
     "iopub.execute_input": "2025-07-23T14:36:31.365233Z",
     "iopub.status.busy": "2025-07-23T14:36:31.364783Z",
     "iopub.status.idle": "2025-07-23T14:36:31.484647Z",
     "shell.execute_reply": "2025-07-23T14:36:31.483543Z"
    },
    "papermill": {
     "duration": 0.157095,
     "end_time": "2025-07-23T14:36:31.486997",
     "exception": false,
     "start_time": "2025-07-23T14:36:31.329902",
     "status": "completed"
    },
    "tags": []
   },
   "outputs": [],
   "source": [
    "X_train = X_train[keep_mask]"
   ]
  },
  {
   "cell_type": "code",
   "execution_count": 24,
   "id": "b202bb3a",
   "metadata": {
    "execution": {
     "iopub.execute_input": "2025-07-23T14:36:31.593365Z",
     "iopub.status.busy": "2025-07-23T14:36:31.592932Z",
     "iopub.status.idle": "2025-07-23T14:36:31.603952Z",
     "shell.execute_reply": "2025-07-23T14:36:31.602382Z"
    },
    "papermill": {
     "duration": 0.057301,
     "end_time": "2025-07-23T14:36:31.606135",
     "exception": false,
     "start_time": "2025-07-23T14:36:31.548834",
     "status": "completed"
    },
    "tags": []
   },
   "outputs": [],
   "source": [
    "y_train = y_train[keep_mask]"
   ]
  },
  {
   "cell_type": "markdown",
   "id": "493e2ac3",
   "metadata": {
    "papermill": {
     "duration": 0.036571,
     "end_time": "2025-07-23T14:36:31.689381",
     "exception": false,
     "start_time": "2025-07-23T14:36:31.652810",
     "status": "completed"
    },
    "tags": []
   },
   "source": [
    "# Model Training"
   ]
  },
  {
   "cell_type": "code",
   "execution_count": 25,
   "id": "679e1268",
   "metadata": {
    "execution": {
     "iopub.execute_input": "2025-07-23T14:36:31.775082Z",
     "iopub.status.busy": "2025-07-23T14:36:31.774626Z",
     "iopub.status.idle": "2025-07-23T14:36:32.010910Z",
     "shell.execute_reply": "2025-07-23T14:36:32.009797Z"
    },
    "papermill": {
     "duration": 0.276126,
     "end_time": "2025-07-23T14:36:32.013250",
     "exception": false,
     "start_time": "2025-07-23T14:36:31.737124",
     "status": "completed"
    },
    "tags": []
   },
   "outputs": [],
   "source": [
    "from sklearn.linear_model import LogisticRegression\n",
    "from sklearn.ensemble import GradientBoostingClassifier, RandomForestClassifier\n",
    "\n",
    "if (universe[\"model\"] == \"logreg\"):\n",
    "    model = LogisticRegression() #penalty=\"none\") #, solver=\"newton-cg\", max_iter=1) # include random_state=19 ?\n",
    "elif (universe[\"model\"] == \"penalized_logreg\"):\n",
    "    model = LogisticRegression(penalty=\"l2\", C=1.0) #, solver=\"newton-cg\", max_iter=1)\n",
    "elif (universe[\"model\"] == \"rf\"):\n",
    "    model = RandomForestClassifier(n_estimators=100, n_jobs=-1)\n",
    "elif (universe[\"model\"] == \"gbm\"):\n",
    "    model = GradientBoostingClassifier()\n",
    "elif (universe[\"model\"] == \"elasticnet\"):\n",
    "    model = LogisticRegression(penalty = 'elasticnet', solver = 'saga', l1_ratio = 0.5, max_iter=5000) # which solver to use?\n",
    "else:\n",
    "    raise \"Unsupported universe.model\""
   ]
  },
  {
   "cell_type": "code",
   "execution_count": 26,
   "id": "0cc8f744",
   "metadata": {
    "execution": {
     "iopub.execute_input": "2025-07-23T14:36:32.119275Z",
     "iopub.status.busy": "2025-07-23T14:36:32.118837Z",
     "iopub.status.idle": "2025-07-23T14:36:32.127980Z",
     "shell.execute_reply": "2025-07-23T14:36:32.126618Z"
    },
    "papermill": {
     "duration": 0.069733,
     "end_time": "2025-07-23T14:36:32.130211",
     "exception": false,
     "start_time": "2025-07-23T14:36:32.060478",
     "status": "completed"
    },
    "tags": []
   },
   "outputs": [],
   "source": [
    "import numpy as np\n",
    "from sklearn.pipeline import Pipeline\n",
    "from sklearn.preprocessing import StandardScaler\n",
    "\n",
    "model = Pipeline([\n",
    "    #(\"continuous_processor\", continuous_processor),\n",
    "    #(\"categorical_preprocessor\", categorical_preprocessor),\n",
    "    (\"scale\", StandardScaler() if universe[\"scale\"] == \"scale\" else None), \n",
    "    (\"model\", model),\n",
    "])"
   ]
  },
  {
   "cell_type": "code",
   "execution_count": 27,
   "id": "9442c04d",
   "metadata": {
    "execution": {
     "iopub.execute_input": "2025-07-23T14:36:32.224161Z",
     "iopub.status.busy": "2025-07-23T14:36:32.223687Z",
     "iopub.status.idle": "2025-07-23T14:36:48.476946Z",
     "shell.execute_reply": "2025-07-23T14:36:48.475539Z"
    },
    "papermill": {
     "duration": 16.297875,
     "end_time": "2025-07-23T14:36:48.479345",
     "exception": false,
     "start_time": "2025-07-23T14:36:32.181470",
     "status": "completed"
    },
    "tags": []
   },
   "outputs": [
    {
     "data": {
      "text/html": [
       "<style>#sk-container-id-1 {color: black;background-color: white;}#sk-container-id-1 pre{padding: 0;}#sk-container-id-1 div.sk-toggleable {background-color: white;}#sk-container-id-1 label.sk-toggleable__label {cursor: pointer;display: block;width: 100%;margin-bottom: 0;padding: 0.3em;box-sizing: border-box;text-align: center;}#sk-container-id-1 label.sk-toggleable__label-arrow:before {content: \"▸\";float: left;margin-right: 0.25em;color: #696969;}#sk-container-id-1 label.sk-toggleable__label-arrow:hover:before {color: black;}#sk-container-id-1 div.sk-estimator:hover label.sk-toggleable__label-arrow:before {color: black;}#sk-container-id-1 div.sk-toggleable__content {max-height: 0;max-width: 0;overflow: hidden;text-align: left;background-color: #f0f8ff;}#sk-container-id-1 div.sk-toggleable__content pre {margin: 0.2em;color: black;border-radius: 0.25em;background-color: #f0f8ff;}#sk-container-id-1 input.sk-toggleable__control:checked~div.sk-toggleable__content {max-height: 200px;max-width: 100%;overflow: auto;}#sk-container-id-1 input.sk-toggleable__control:checked~label.sk-toggleable__label-arrow:before {content: \"▾\";}#sk-container-id-1 div.sk-estimator input.sk-toggleable__control:checked~label.sk-toggleable__label {background-color: #d4ebff;}#sk-container-id-1 div.sk-label input.sk-toggleable__control:checked~label.sk-toggleable__label {background-color: #d4ebff;}#sk-container-id-1 input.sk-hidden--visually {border: 0;clip: rect(1px 1px 1px 1px);clip: rect(1px, 1px, 1px, 1px);height: 1px;margin: -1px;overflow: hidden;padding: 0;position: absolute;width: 1px;}#sk-container-id-1 div.sk-estimator {font-family: monospace;background-color: #f0f8ff;border: 1px dotted black;border-radius: 0.25em;box-sizing: border-box;margin-bottom: 0.5em;}#sk-container-id-1 div.sk-estimator:hover {background-color: #d4ebff;}#sk-container-id-1 div.sk-parallel-item::after {content: \"\";width: 100%;border-bottom: 1px solid gray;flex-grow: 1;}#sk-container-id-1 div.sk-label:hover label.sk-toggleable__label {background-color: #d4ebff;}#sk-container-id-1 div.sk-serial::before {content: \"\";position: absolute;border-left: 1px solid gray;box-sizing: border-box;top: 0;bottom: 0;left: 50%;z-index: 0;}#sk-container-id-1 div.sk-serial {display: flex;flex-direction: column;align-items: center;background-color: white;padding-right: 0.2em;padding-left: 0.2em;position: relative;}#sk-container-id-1 div.sk-item {position: relative;z-index: 1;}#sk-container-id-1 div.sk-parallel {display: flex;align-items: stretch;justify-content: center;background-color: white;position: relative;}#sk-container-id-1 div.sk-item::before, #sk-container-id-1 div.sk-parallel-item::before {content: \"\";position: absolute;border-left: 1px solid gray;box-sizing: border-box;top: 0;bottom: 0;left: 50%;z-index: -1;}#sk-container-id-1 div.sk-parallel-item {display: flex;flex-direction: column;z-index: 1;position: relative;background-color: white;}#sk-container-id-1 div.sk-parallel-item:first-child::after {align-self: flex-end;width: 50%;}#sk-container-id-1 div.sk-parallel-item:last-child::after {align-self: flex-start;width: 50%;}#sk-container-id-1 div.sk-parallel-item:only-child::after {width: 0;}#sk-container-id-1 div.sk-dashed-wrapped {border: 1px dashed gray;margin: 0 0.4em 0.5em 0.4em;box-sizing: border-box;padding-bottom: 0.4em;background-color: white;}#sk-container-id-1 div.sk-label label {font-family: monospace;font-weight: bold;display: inline-block;line-height: 1.2em;}#sk-container-id-1 div.sk-label-container {text-align: center;}#sk-container-id-1 div.sk-container {/* jupyter's `normalize.less` sets `[hidden] { display: none; }` but bootstrap.min.css set `[hidden] { display: none !important; }` so we also need the `!important` here to be able to override the default hidden behavior on the sphinx rendered scikit-learn.org. See: https://github.com/scikit-learn/scikit-learn/issues/21755 */display: inline-block !important;position: relative;}#sk-container-id-1 div.sk-text-repr-fallback {display: none;}</style><div id=\"sk-container-id-1\" class=\"sk-top-container\"><div class=\"sk-text-repr-fallback\"><pre>Pipeline(steps=[(&#x27;scale&#x27;, None), (&#x27;model&#x27;, RandomForestClassifier(n_jobs=-1))])</pre><b>In a Jupyter environment, please rerun this cell to show the HTML representation or trust the notebook. <br />On GitHub, the HTML representation is unable to render, please try loading this page with nbviewer.org.</b></div><div class=\"sk-container\" hidden><div class=\"sk-item sk-dashed-wrapped\"><div class=\"sk-label-container\"><div class=\"sk-label sk-toggleable\"><input class=\"sk-toggleable__control sk-hidden--visually\" id=\"sk-estimator-id-1\" type=\"checkbox\" ><label for=\"sk-estimator-id-1\" class=\"sk-toggleable__label sk-toggleable__label-arrow\">Pipeline</label><div class=\"sk-toggleable__content\"><pre>Pipeline(steps=[(&#x27;scale&#x27;, None), (&#x27;model&#x27;, RandomForestClassifier(n_jobs=-1))])</pre></div></div></div><div class=\"sk-serial\"><div class=\"sk-item\"><div class=\"sk-estimator sk-toggleable\"><input class=\"sk-toggleable__control sk-hidden--visually\" id=\"sk-estimator-id-2\" type=\"checkbox\" ><label for=\"sk-estimator-id-2\" class=\"sk-toggleable__label sk-toggleable__label-arrow\">None</label><div class=\"sk-toggleable__content\"><pre>None</pre></div></div></div><div class=\"sk-item\"><div class=\"sk-estimator sk-toggleable\"><input class=\"sk-toggleable__control sk-hidden--visually\" id=\"sk-estimator-id-3\" type=\"checkbox\" ><label for=\"sk-estimator-id-3\" class=\"sk-toggleable__label sk-toggleable__label-arrow\">RandomForestClassifier</label><div class=\"sk-toggleable__content\"><pre>RandomForestClassifier(n_jobs=-1)</pre></div></div></div></div></div></div></div>"
      ],
      "text/plain": [
       "Pipeline(steps=[('scale', None), ('model', RandomForestClassifier(n_jobs=-1))])"
      ]
     },
     "execution_count": 27,
     "metadata": {},
     "output_type": "execute_result"
    }
   ],
   "source": [
    "model.fit(X_train, y_train.values.ravel())"
   ]
  },
  {
   "cell_type": "code",
   "execution_count": 28,
   "id": "af59f8c0",
   "metadata": {
    "execution": {
     "iopub.execute_input": "2025-07-23T14:36:48.571719Z",
     "iopub.status.busy": "2025-07-23T14:36:48.570568Z",
     "iopub.status.idle": "2025-07-23T14:36:48.577455Z",
     "shell.execute_reply": "2025-07-23T14:36:48.576421Z"
    },
    "papermill": {
     "duration": 0.051854,
     "end_time": "2025-07-23T14:36:48.579142",
     "exception": false,
     "start_time": "2025-07-23T14:36:48.527288",
     "status": "completed"
    },
    "tags": []
   },
   "outputs": [],
   "source": [
    "from fairness_multiverse.universe import predict_w_threshold"
   ]
  },
  {
   "cell_type": "code",
   "execution_count": 29,
   "id": "a7cf2e16",
   "metadata": {
    "execution": {
     "iopub.execute_input": "2025-07-23T14:36:48.705667Z",
     "iopub.status.busy": "2025-07-23T14:36:48.705194Z",
     "iopub.status.idle": "2025-07-23T14:36:51.036665Z",
     "shell.execute_reply": "2025-07-23T14:36:51.035587Z"
    },
    "papermill": {
     "duration": 2.378332,
     "end_time": "2025-07-23T14:36:51.038358",
     "exception": false,
     "start_time": "2025-07-23T14:36:48.660026",
     "status": "completed"
    },
    "tags": []
   },
   "outputs": [
    {
     "data": {
      "text/plain": [
       "0.8658232081150373"
      ]
     },
     "execution_count": 29,
     "metadata": {},
     "output_type": "execute_result"
    }
   ],
   "source": [
    "probs_test = model.predict_proba(X_test)\n",
    "\n",
    "'''\n",
    "Below code returns a boolean array (or binary 0/1 array depending on how it’s used) where each element \n",
    "is True if the probability of class 1 is greater than or equal to the threshold, and False otherwise.\n",
    "'''\n",
    "y_pred_default = predict_w_threshold(probs_test, 0.5)\n",
    "\n",
    "from sklearn.metrics import accuracy_score\n",
    "\n",
    "# Naive prediction\n",
    "accuracy_score(y_true = y_true, y_pred = y_pred_default)"
   ]
  },
  {
   "cell_type": "code",
   "execution_count": 30,
   "id": "081964c3",
   "metadata": {
    "execution": {
     "iopub.execute_input": "2025-07-23T14:36:51.103558Z",
     "iopub.status.busy": "2025-07-23T14:36:51.103109Z",
     "iopub.status.idle": "2025-07-23T14:36:52.947327Z",
     "shell.execute_reply": "2025-07-23T14:36:52.946291Z"
    },
    "papermill": {
     "duration": 1.866672,
     "end_time": "2025-07-23T14:36:52.949250",
     "exception": false,
     "start_time": "2025-07-23T14:36:51.082578",
     "status": "completed"
    },
    "tags": []
   },
   "outputs": [
    {
     "data": {
      "text/plain": [
       "array([0, 0, 0, ..., 0, 0, 0])"
      ]
     },
     "execution_count": 30,
     "metadata": {},
     "output_type": "execute_result"
    }
   ],
   "source": [
    "model.predict(X_test)"
   ]
  },
  {
   "cell_type": "markdown",
   "id": "56c9705b",
   "metadata": {
    "papermill": {
     "duration": 0.042488,
     "end_time": "2025-07-23T14:36:53.031950",
     "exception": false,
     "start_time": "2025-07-23T14:36:52.989462",
     "status": "completed"
    },
    "tags": []
   },
   "source": [
    "# Conformal Prediction"
   ]
  },
  {
   "cell_type": "code",
   "execution_count": 31,
   "id": "160ec6ff",
   "metadata": {
    "execution": {
     "iopub.execute_input": "2025-07-23T14:36:53.139782Z",
     "iopub.status.busy": "2025-07-23T14:36:53.139230Z",
     "iopub.status.idle": "2025-07-23T14:36:53.146134Z",
     "shell.execute_reply": "2025-07-23T14:36:53.145037Z"
    },
    "papermill": {
     "duration": 0.060093,
     "end_time": "2025-07-23T14:36:53.148030",
     "exception": false,
     "start_time": "2025-07-23T14:36:53.087937",
     "status": "completed"
    },
    "tags": []
   },
   "outputs": [],
   "source": [
    "# Miscoverage level for conformal prediction (10% allowed error rate => 90% target coverage)\n",
    "alpha = 0.1"
   ]
  },
  {
   "cell_type": "code",
   "execution_count": 32,
   "id": "eadf4555-3dd3-440e-8e35-f82a4ad9f855",
   "metadata": {
    "execution": {
     "iopub.execute_input": "2025-07-23T14:36:53.238809Z",
     "iopub.status.busy": "2025-07-23T14:36:53.238368Z",
     "iopub.status.idle": "2025-07-23T14:36:55.382877Z",
     "shell.execute_reply": "2025-07-23T14:36:55.381788Z"
    },
    "papermill": {
     "duration": 2.191386,
     "end_time": "2025-07-23T14:36:55.385464",
     "exception": false,
     "start_time": "2025-07-23T14:36:53.194078",
     "status": "completed"
    },
    "tags": []
   },
   "outputs": [],
   "source": [
    "probs_calib = model.predict_proba(X_calib)"
   ]
  },
  {
   "cell_type": "code",
   "execution_count": 33,
   "id": "2ed93547-6d5d-4983-9b36-1ecb300da49a",
   "metadata": {
    "execution": {
     "iopub.execute_input": "2025-07-23T14:36:55.487563Z",
     "iopub.status.busy": "2025-07-23T14:36:55.486445Z",
     "iopub.status.idle": "2025-07-23T14:36:55.493769Z",
     "shell.execute_reply": "2025-07-23T14:36:55.492702Z"
    },
    "papermill": {
     "duration": 0.061215,
     "end_time": "2025-07-23T14:36:55.495616",
     "exception": false,
     "start_time": "2025-07-23T14:36:55.434401",
     "status": "completed"
    },
    "tags": []
   },
   "outputs": [],
   "source": [
    "y_calib = y_calib.values.ravel().astype(int)"
   ]
  },
  {
   "cell_type": "code",
   "execution_count": 34,
   "id": "65d1320d-f588-4b38-9072-62af1ae97f7d",
   "metadata": {
    "execution": {
     "iopub.execute_input": "2025-07-23T14:36:55.600430Z",
     "iopub.status.busy": "2025-07-23T14:36:55.599815Z",
     "iopub.status.idle": "2025-07-23T14:36:55.610302Z",
     "shell.execute_reply": "2025-07-23T14:36:55.608852Z"
    },
    "papermill": {
     "duration": 0.063868,
     "end_time": "2025-07-23T14:36:55.613090",
     "exception": false,
     "start_time": "2025-07-23T14:36:55.549222",
     "status": "completed"
    },
    "tags": []
   },
   "outputs": [],
   "source": [
    "from fairness_multiverse.conformal import compute_nc_scores\n",
    "\n",
    "# Compute nonconformity scores on calibration set (1 - probability of true class)\n",
    "nc_scores = compute_nc_scores(probs_calib, y_calib)"
   ]
  },
  {
   "cell_type": "code",
   "execution_count": 35,
   "id": "df3b8ca3-53b7-43d5-9667-7c85da7aeda2",
   "metadata": {
    "execution": {
     "iopub.execute_input": "2025-07-23T14:36:55.706180Z",
     "iopub.status.busy": "2025-07-23T14:36:55.705613Z",
     "iopub.status.idle": "2025-07-23T14:36:55.714683Z",
     "shell.execute_reply": "2025-07-23T14:36:55.713543Z"
    },
    "papermill": {
     "duration": 0.055992,
     "end_time": "2025-07-23T14:36:55.716770",
     "exception": false,
     "start_time": "2025-07-23T14:36:55.660778",
     "status": "completed"
    },
    "tags": []
   },
   "outputs": [],
   "source": [
    "from fairness_multiverse.conformal import find_threshold\n",
    "\n",
    "# Find conformal threshold q_hat for the given alpha (split conformal method)\n",
    "q_hat = find_threshold(nc_scores, alpha)"
   ]
  },
  {
   "cell_type": "code",
   "execution_count": 36,
   "id": "4d29e6c1-0ef6-4aa4-b8fe-4fe79b0d033a",
   "metadata": {
    "execution": {
     "iopub.execute_input": "2025-07-23T14:36:55.815341Z",
     "iopub.status.busy": "2025-07-23T14:36:55.814879Z",
     "iopub.status.idle": "2025-07-23T14:36:55.823058Z",
     "shell.execute_reply": "2025-07-23T14:36:55.821995Z"
    },
    "papermill": {
     "duration": 0.055818,
     "end_time": "2025-07-23T14:36:55.824878",
     "exception": false,
     "start_time": "2025-07-23T14:36:55.769060",
     "status": "completed"
    },
    "tags": []
   },
   "outputs": [
    {
     "data": {
      "text/plain": [
       "0.65"
      ]
     },
     "execution_count": 36,
     "metadata": {},
     "output_type": "execute_result"
    }
   ],
   "source": [
    "q_hat"
   ]
  },
  {
   "cell_type": "code",
   "execution_count": 37,
   "id": "92460794-cdac-4be2-ba28-f28c0515a6fb",
   "metadata": {
    "execution": {
     "iopub.execute_input": "2025-07-23T14:36:55.908005Z",
     "iopub.status.busy": "2025-07-23T14:36:55.907536Z",
     "iopub.status.idle": "2025-07-23T14:36:59.262858Z",
     "shell.execute_reply": "2025-07-23T14:36:59.261695Z"
    },
    "papermill": {
     "duration": 3.403717,
     "end_time": "2025-07-23T14:36:59.265486",
     "exception": false,
     "start_time": "2025-07-23T14:36:55.861769",
     "status": "completed"
    },
    "tags": []
   },
   "outputs": [],
   "source": [
    "from fairness_multiverse.conformal import predict_conformal_sets\n",
    "\n",
    "# Generate prediction sets for each test example\n",
    "pred_sets = predict_conformal_sets(model, X_test, q_hat)"
   ]
  },
  {
   "cell_type": "code",
   "execution_count": 38,
   "id": "d90c9a65-e6db-4f5d-80cd-e68fb7e46829",
   "metadata": {
    "execution": {
     "iopub.execute_input": "2025-07-23T14:36:59.351259Z",
     "iopub.status.busy": "2025-07-23T14:36:59.350806Z",
     "iopub.status.idle": "2025-07-23T14:36:59.357150Z",
     "shell.execute_reply": "2025-07-23T14:36:59.356122Z"
    },
    "papermill": {
     "duration": 0.059058,
     "end_time": "2025-07-23T14:36:59.360873",
     "exception": false,
     "start_time": "2025-07-23T14:36:59.301815",
     "status": "completed"
    },
    "tags": []
   },
   "outputs": [],
   "source": [
    "y_true = y_true.squeeze()"
   ]
  },
  {
   "cell_type": "code",
   "execution_count": 39,
   "id": "3a58a54a-1e68-46b9-927a-df01f18aebc8",
   "metadata": {
    "execution": {
     "iopub.execute_input": "2025-07-23T14:36:59.455353Z",
     "iopub.status.busy": "2025-07-23T14:36:59.454891Z",
     "iopub.status.idle": "2025-07-23T14:37:01.277251Z",
     "shell.execute_reply": "2025-07-23T14:37:01.276107Z"
    },
    "papermill": {
     "duration": 1.85352,
     "end_time": "2025-07-23T14:37:01.279458",
     "exception": false,
     "start_time": "2025-07-23T14:36:59.425938",
     "status": "completed"
    },
    "tags": []
   },
   "outputs": [],
   "source": [
    "from fairness_multiverse.conformal import evaluate_sets\n",
    "\n",
    "# Evaluate coverage and average set size on test data\n",
    "metrics = evaluate_sets(pred_sets, y_true)"
   ]
  },
  {
   "cell_type": "code",
   "execution_count": 40,
   "id": "5ce0a5cb-201f-45a0-ade5-94c7f0bd6095",
   "metadata": {
    "execution": {
     "iopub.execute_input": "2025-07-23T14:37:01.371142Z",
     "iopub.status.busy": "2025-07-23T14:37:01.370124Z",
     "iopub.status.idle": "2025-07-23T14:37:01.377717Z",
     "shell.execute_reply": "2025-07-23T14:37:01.376648Z"
    },
    "papermill": {
     "duration": 0.055813,
     "end_time": "2025-07-23T14:37:01.379355",
     "exception": false,
     "start_time": "2025-07-23T14:37:01.323542",
     "status": "completed"
    },
    "tags": []
   },
   "outputs": [
    {
     "data": {
      "text/plain": [
       "{'coverage': 0.9151934009586445, 'avg_size': 1.1429272098985621}"
      ]
     },
     "execution_count": 40,
     "metadata": {},
     "output_type": "execute_result"
    }
   ],
   "source": [
    "metrics"
   ]
  },
  {
   "cell_type": "code",
   "execution_count": 41,
   "id": "9b9a838d-31c9-430b-ae14-12baee460d17",
   "metadata": {
    "execution": {
     "iopub.execute_input": "2025-07-23T14:37:01.470082Z",
     "iopub.status.busy": "2025-07-23T14:37:01.469666Z",
     "iopub.status.idle": "2025-07-23T14:37:01.476663Z",
     "shell.execute_reply": "2025-07-23T14:37:01.475494Z"
    },
    "papermill": {
     "duration": 0.050937,
     "end_time": "2025-07-23T14:37:01.480038",
     "exception": false,
     "start_time": "2025-07-23T14:37:01.429101",
     "status": "completed"
    },
    "tags": []
   },
   "outputs": [],
   "source": [
    "example_universe = universe.copy()\n",
    "universe_model = example_universe.get(\"model\")\n",
    "universe_exclude_features = example_universe.get(\"exclude_features\")\n",
    "universe_exclude_subgroups = example_universe.get(\"exclude_subgroups\")\n",
    "universe_scale = example_universe.get(\"scale\")"
   ]
  },
  {
   "cell_type": "code",
   "execution_count": 42,
   "id": "f4b6a8ac-9dc0-4245-8a91-5b3b5999c4f9",
   "metadata": {
    "execution": {
     "iopub.execute_input": "2025-07-23T14:37:01.525128Z",
     "iopub.status.busy": "2025-07-23T14:37:01.524701Z",
     "iopub.status.idle": "2025-07-23T14:37:01.532228Z",
     "shell.execute_reply": "2025-07-23T14:37:01.530986Z"
    },
    "papermill": {
     "duration": 0.03404,
     "end_time": "2025-07-23T14:37:01.535726",
     "exception": false,
     "start_time": "2025-07-23T14:37:01.501686",
     "status": "completed"
    },
    "tags": []
   },
   "outputs": [],
   "source": [
    "cp_metrics_dict = {\n",
    "    \"universe_id\": [universe_id],\n",
    "    \"universe_model\": [universe_model],\n",
    "    \"universe_exclude_features\": [universe_exclude_features],\n",
    "    \"universe_exclude_subgroups\": [universe_exclude_subgroups],\n",
    "    \"universe_scale\": [universe_scale],\n",
    "    \"q_hat\": [q_hat],\n",
    "    \"coverage\": [metrics[\"coverage\"]],\n",
    "    \"avg_size\": [metrics[\"avg_size\"]],\n",
    "}"
   ]
  },
  {
   "cell_type": "code",
   "execution_count": 43,
   "id": "908acbb1-0371-4915-85ca-3fa520d2efe2",
   "metadata": {
    "execution": {
     "iopub.execute_input": "2025-07-23T14:37:01.580615Z",
     "iopub.status.busy": "2025-07-23T14:37:01.580148Z",
     "iopub.status.idle": "2025-07-23T14:37:01.588599Z",
     "shell.execute_reply": "2025-07-23T14:37:01.587363Z"
    },
    "papermill": {
     "duration": 0.033377,
     "end_time": "2025-07-23T14:37:01.590674",
     "exception": false,
     "start_time": "2025-07-23T14:37:01.557297",
     "status": "completed"
    },
    "tags": []
   },
   "outputs": [
    {
     "data": {
      "text/plain": [
       "{'universe_id': ['2f633861fccfade6a66fb3c983dc3d3d'],\n",
       " 'universe_model': ['rf'],\n",
       " 'universe_exclude_features': ['nationality'],\n",
       " 'universe_exclude_subgroups': ['drop-non-german'],\n",
       " 'universe_scale': ['do-not-scale'],\n",
       " 'q_hat': [0.65],\n",
       " 'coverage': [0.9151934009586445],\n",
       " 'avg_size': [1.1429272098985621]}"
      ]
     },
     "execution_count": 43,
     "metadata": {},
     "output_type": "execute_result"
    }
   ],
   "source": [
    "cp_metrics_dict"
   ]
  },
  {
   "cell_type": "code",
   "execution_count": 44,
   "id": "33007efc-14e9-4ec6-97ac-56a455c82265",
   "metadata": {
    "execution": {
     "iopub.execute_input": "2025-07-23T14:37:01.636378Z",
     "iopub.status.busy": "2025-07-23T14:37:01.635918Z",
     "iopub.status.idle": "2025-07-23T14:37:01.642863Z",
     "shell.execute_reply": "2025-07-23T14:37:01.641879Z"
    },
    "papermill": {
     "duration": 0.033621,
     "end_time": "2025-07-23T14:37:01.646255",
     "exception": false,
     "start_time": "2025-07-23T14:37:01.612634",
     "status": "completed"
    },
    "tags": []
   },
   "outputs": [],
   "source": [
    "cp_metrics_df = pd.DataFrame(cp_metrics_dict)"
   ]
  },
  {
   "cell_type": "code",
   "execution_count": 45,
   "id": "db12611b-57b2-4910-b9d0-355adfd6e7bf",
   "metadata": {
    "execution": {
     "iopub.execute_input": "2025-07-23T14:37:01.693238Z",
     "iopub.status.busy": "2025-07-23T14:37:01.692768Z",
     "iopub.status.idle": "2025-07-23T14:37:01.713823Z",
     "shell.execute_reply": "2025-07-23T14:37:01.712809Z"
    },
    "papermill": {
     "duration": 0.04667,
     "end_time": "2025-07-23T14:37:01.716113",
     "exception": false,
     "start_time": "2025-07-23T14:37:01.669443",
     "status": "completed"
    },
    "tags": []
   },
   "outputs": [
    {
     "data": {
      "text/html": [
       "<div>\n",
       "<style scoped>\n",
       "    .dataframe tbody tr th:only-of-type {\n",
       "        vertical-align: middle;\n",
       "    }\n",
       "\n",
       "    .dataframe tbody tr th {\n",
       "        vertical-align: top;\n",
       "    }\n",
       "\n",
       "    .dataframe thead th {\n",
       "        text-align: right;\n",
       "    }\n",
       "</style>\n",
       "<table border=\"1\" class=\"dataframe\">\n",
       "  <thead>\n",
       "    <tr style=\"text-align: right;\">\n",
       "      <th></th>\n",
       "      <th>universe_id</th>\n",
       "      <th>universe_model</th>\n",
       "      <th>universe_exclude_features</th>\n",
       "      <th>universe_exclude_subgroups</th>\n",
       "      <th>universe_scale</th>\n",
       "      <th>q_hat</th>\n",
       "      <th>coverage</th>\n",
       "      <th>avg_size</th>\n",
       "    </tr>\n",
       "  </thead>\n",
       "  <tbody>\n",
       "    <tr>\n",
       "      <th>0</th>\n",
       "      <td>2f633861fccfade6a66fb3c983dc3d3d</td>\n",
       "      <td>rf</td>\n",
       "      <td>nationality</td>\n",
       "      <td>drop-non-german</td>\n",
       "      <td>do-not-scale</td>\n",
       "      <td>0.65</td>\n",
       "      <td>0.915193</td>\n",
       "      <td>1.142927</td>\n",
       "    </tr>\n",
       "  </tbody>\n",
       "</table>\n",
       "</div>"
      ],
      "text/plain": [
       "                        universe_id universe_model universe_exclude_features  \\\n",
       "0  2f633861fccfade6a66fb3c983dc3d3d             rf               nationality   \n",
       "\n",
       "  universe_exclude_subgroups universe_scale  q_hat  coverage  avg_size  \n",
       "0            drop-non-german   do-not-scale   0.65  0.915193  1.142927  "
      ]
     },
     "execution_count": 45,
     "metadata": {},
     "output_type": "execute_result"
    }
   ],
   "source": [
    "cp_metrics_df"
   ]
  },
  {
   "cell_type": "code",
   "execution_count": 46,
   "id": "b7fbde55-a0a1-47e4-9af6-fe4a17fa8c61",
   "metadata": {
    "execution": {
     "iopub.execute_input": "2025-07-23T14:37:01.762209Z",
     "iopub.status.busy": "2025-07-23T14:37:01.761738Z",
     "iopub.status.idle": "2025-07-23T14:37:01.767227Z",
     "shell.execute_reply": "2025-07-23T14:37:01.766331Z"
    },
    "papermill": {
     "duration": 0.031921,
     "end_time": "2025-07-23T14:37:01.770522",
     "exception": false,
     "start_time": "2025-07-23T14:37:01.738601",
     "status": "completed"
    },
    "tags": []
   },
   "outputs": [],
   "source": [
    "# Conditional Coverage & looking at subgroups"
   ]
  },
  {
   "cell_type": "code",
   "execution_count": 47,
   "id": "027ae886-68dd-4141-96c7-805a5450e1ef",
   "metadata": {
    "execution": {
     "iopub.execute_input": "2025-07-23T14:37:01.862951Z",
     "iopub.status.busy": "2025-07-23T14:37:01.862523Z",
     "iopub.status.idle": "2025-07-23T14:37:02.307936Z",
     "shell.execute_reply": "2025-07-23T14:37:02.305604Z"
    },
    "papermill": {
     "duration": 0.493628,
     "end_time": "2025-07-23T14:37:02.316707",
     "exception": false,
     "start_time": "2025-07-23T14:37:01.823079",
     "status": "completed"
    },
    "tags": []
   },
   "outputs": [],
   "source": [
    "from fairness_multiverse.conformal import build_cp_groups\n",
    "\n",
    "cp_groups_df = build_cp_groups(pred_sets, y_true, X_test.index, org_test)\n",
    "#needs universe_id and setting"
   ]
  },
  {
   "cell_type": "code",
   "execution_count": 48,
   "id": "c3b92545-903e-4839-89af-0f057907d7d6",
   "metadata": {
    "execution": {
     "iopub.execute_input": "2025-07-23T14:37:02.419151Z",
     "iopub.status.busy": "2025-07-23T14:37:02.418705Z",
     "iopub.status.idle": "2025-07-23T14:37:04.696033Z",
     "shell.execute_reply": "2025-07-23T14:37:04.694972Z"
    },
    "papermill": {
     "duration": 2.331229,
     "end_time": "2025-07-23T14:37:04.697705",
     "exception": false,
     "start_time": "2025-07-23T14:37:02.366476",
     "status": "completed"
    },
    "tags": []
   },
   "outputs": [],
   "source": [
    "# Define covered = 1 if true_label is in the predicted set\n",
    "cp_groups_df['covered'] = cp_groups_df.apply(\n",
    "    lambda r: int(r['true_label'] in r['pred_set']),\n",
    "    axis=1\n",
    ")"
   ]
  },
  {
   "cell_type": "code",
   "execution_count": 49,
   "id": "338ff529-1a6b-4b87-a931-8e4788d52aad",
   "metadata": {
    "execution": {
     "iopub.execute_input": "2025-07-23T14:37:04.743319Z",
     "iopub.status.busy": "2025-07-23T14:37:04.742373Z",
     "iopub.status.idle": "2025-07-23T14:37:04.748091Z",
     "shell.execute_reply": "2025-07-23T14:37:04.747068Z"
    },
    "papermill": {
     "duration": 0.03267,
     "end_time": "2025-07-23T14:37:04.750919",
     "exception": false,
     "start_time": "2025-07-23T14:37:04.718249",
     "status": "completed"
    },
    "tags": []
   },
   "outputs": [],
   "source": [
    "#cp_groups_df"
   ]
  },
  {
   "cell_type": "code",
   "execution_count": 50,
   "id": "90032e27-66df-4540-9169-4e89cfbaa758",
   "metadata": {
    "execution": {
     "iopub.execute_input": "2025-07-23T14:37:04.798815Z",
     "iopub.status.busy": "2025-07-23T14:37:04.798265Z",
     "iopub.status.idle": "2025-07-23T14:37:04.810910Z",
     "shell.execute_reply": "2025-07-23T14:37:04.809867Z"
    },
    "papermill": {
     "duration": 0.039098,
     "end_time": "2025-07-23T14:37:04.812753",
     "exception": false,
     "start_time": "2025-07-23T14:37:04.773655",
     "status": "completed"
    },
    "tags": []
   },
   "outputs": [],
   "source": [
    "subgroups = ['frau1','nongerman','nongerman_male','nongerman_female']\n",
    "\n",
    "# Conditional coverage for subgroup==1\n",
    "cond_coverage = {\n",
    "    g: cp_groups_df.loc[cp_groups_df[g]==1, 'covered'].mean()\n",
    "    for g in subgroups\n",
    "}"
   ]
  },
  {
   "cell_type": "code",
   "execution_count": 51,
   "id": "1e348fb1-b9c3-45bc-ba23-f016827a7e0d",
   "metadata": {
    "execution": {
     "iopub.execute_input": "2025-07-23T14:37:04.862560Z",
     "iopub.status.busy": "2025-07-23T14:37:04.861720Z",
     "iopub.status.idle": "2025-07-23T14:37:04.871605Z",
     "shell.execute_reply": "2025-07-23T14:37:04.870527Z"
    },
    "papermill": {
     "duration": 0.038196,
     "end_time": "2025-07-23T14:37:04.873934",
     "exception": false,
     "start_time": "2025-07-23T14:37:04.835738",
     "status": "completed"
    },
    "tags": []
   },
   "outputs": [
    {
     "data": {
      "text/plain": [
       "{'frau1': 0.9152176843240329,\n",
       " 'nongerman': 0.9110200415426936,\n",
       " 'nongerman_male': 0.924885166171305,\n",
       " 'nongerman_female': 0.8880774962742176}"
      ]
     },
     "execution_count": 51,
     "metadata": {},
     "output_type": "execute_result"
    }
   ],
   "source": [
    "cond_coverage"
   ]
  },
  {
   "cell_type": "code",
   "execution_count": 52,
   "id": "f5093324-c3dd-4d63-bc4c-8d945e5c8bbb",
   "metadata": {
    "execution": {
     "iopub.execute_input": "2025-07-23T14:37:04.931638Z",
     "iopub.status.busy": "2025-07-23T14:37:04.931223Z",
     "iopub.status.idle": "2025-07-23T14:37:04.939229Z",
     "shell.execute_reply": "2025-07-23T14:37:04.938427Z"
    },
    "papermill": {
     "duration": 0.044178,
     "end_time": "2025-07-23T14:37:04.941069",
     "exception": false,
     "start_time": "2025-07-23T14:37:04.896891",
     "status": "completed"
    },
    "tags": []
   },
   "outputs": [],
   "source": [
    "for subgroup, cov in cond_coverage.items():\n",
    "    cp_metrics_df[f\"cov_{subgroup}\"] = cov"
   ]
  },
  {
   "cell_type": "code",
   "execution_count": 53,
   "id": "6e872e10-dbe5-49e8-b554-5030c98ff75d",
   "metadata": {
    "execution": {
     "iopub.execute_input": "2025-07-23T14:37:04.996984Z",
     "iopub.status.busy": "2025-07-23T14:37:04.996522Z",
     "iopub.status.idle": "2025-07-23T14:37:05.021375Z",
     "shell.execute_reply": "2025-07-23T14:37:05.019089Z"
    },
    "papermill": {
     "duration": 0.057378,
     "end_time": "2025-07-23T14:37:05.023477",
     "exception": false,
     "start_time": "2025-07-23T14:37:04.966099",
     "status": "completed"
    },
    "tags": []
   },
   "outputs": [
    {
     "data": {
      "text/html": [
       "<div>\n",
       "<style scoped>\n",
       "    .dataframe tbody tr th:only-of-type {\n",
       "        vertical-align: middle;\n",
       "    }\n",
       "\n",
       "    .dataframe tbody tr th {\n",
       "        vertical-align: top;\n",
       "    }\n",
       "\n",
       "    .dataframe thead th {\n",
       "        text-align: right;\n",
       "    }\n",
       "</style>\n",
       "<table border=\"1\" class=\"dataframe\">\n",
       "  <thead>\n",
       "    <tr style=\"text-align: right;\">\n",
       "      <th></th>\n",
       "      <th>universe_id</th>\n",
       "      <th>universe_model</th>\n",
       "      <th>universe_exclude_features</th>\n",
       "      <th>universe_exclude_subgroups</th>\n",
       "      <th>universe_scale</th>\n",
       "      <th>q_hat</th>\n",
       "      <th>coverage</th>\n",
       "      <th>avg_size</th>\n",
       "      <th>cov_frau1</th>\n",
       "      <th>cov_nongerman</th>\n",
       "      <th>cov_nongerman_male</th>\n",
       "      <th>cov_nongerman_female</th>\n",
       "    </tr>\n",
       "  </thead>\n",
       "  <tbody>\n",
       "    <tr>\n",
       "      <th>0</th>\n",
       "      <td>2f633861fccfade6a66fb3c983dc3d3d</td>\n",
       "      <td>rf</td>\n",
       "      <td>nationality</td>\n",
       "      <td>drop-non-german</td>\n",
       "      <td>do-not-scale</td>\n",
       "      <td>0.65</td>\n",
       "      <td>0.915193</td>\n",
       "      <td>1.142927</td>\n",
       "      <td>0.915218</td>\n",
       "      <td>0.91102</td>\n",
       "      <td>0.924885</td>\n",
       "      <td>0.888077</td>\n",
       "    </tr>\n",
       "  </tbody>\n",
       "</table>\n",
       "</div>"
      ],
      "text/plain": [
       "                        universe_id universe_model universe_exclude_features  \\\n",
       "0  2f633861fccfade6a66fb3c983dc3d3d             rf               nationality   \n",
       "\n",
       "  universe_exclude_subgroups universe_scale  q_hat  coverage  avg_size  \\\n",
       "0            drop-non-german   do-not-scale   0.65  0.915193  1.142927   \n",
       "\n",
       "   cov_frau1  cov_nongerman  cov_nongerman_male  cov_nongerman_female  \n",
       "0   0.915218        0.91102            0.924885              0.888077  "
      ]
     },
     "execution_count": 53,
     "metadata": {},
     "output_type": "execute_result"
    }
   ],
   "source": [
    "cp_metrics_df"
   ]
  },
  {
   "cell_type": "markdown",
   "id": "33774451",
   "metadata": {
    "papermill": {
     "duration": 0.024383,
     "end_time": "2025-07-23T14:37:05.082571",
     "exception": false,
     "start_time": "2025-07-23T14:37:05.058188",
     "status": "completed"
    },
    "tags": []
   },
   "source": [
    "# (Fairness) Metrics"
   ]
  },
  {
   "cell_type": "code",
   "execution_count": 54,
   "id": "debc5d62",
   "metadata": {
    "execution": {
     "iopub.execute_input": "2025-07-23T14:37:05.170296Z",
     "iopub.status.busy": "2025-07-23T14:37:05.169825Z",
     "iopub.status.idle": "2025-07-23T14:37:05.196719Z",
     "shell.execute_reply": "2025-07-23T14:37:05.195601Z"
    },
    "papermill": {
     "duration": 0.091109,
     "end_time": "2025-07-23T14:37:05.198910",
     "exception": false,
     "start_time": "2025-07-23T14:37:05.107801",
     "status": "completed"
    },
    "tags": []
   },
   "outputs": [],
   "source": [
    "# do I need to include maxdeutsch1.missing?\n",
    "\n",
    "import numpy as np\n",
    "\n",
    "colname_to_bin = \"maxdeutsch1\"\n",
    "majority_value = org_train[colname_to_bin].mode()[0]\n",
    "\n",
    "org_test[\"majmin\"] = np.where(org_test[colname_to_bin] == majority_value, \"majority\", \"minority\")"
   ]
  },
  {
   "cell_type": "code",
   "execution_count": 55,
   "id": "06a50de5",
   "metadata": {
    "execution": {
     "iopub.execute_input": "2025-07-23T14:37:05.295035Z",
     "iopub.status.busy": "2025-07-23T14:37:05.294589Z",
     "iopub.status.idle": "2025-07-23T14:37:09.237366Z",
     "shell.execute_reply": "2025-07-23T14:37:09.236039Z"
    },
    "papermill": {
     "duration": 4.006548,
     "end_time": "2025-07-23T14:37:09.239335",
     "exception": false,
     "start_time": "2025-07-23T14:37:05.232787",
     "status": "completed"
    },
    "tags": []
   },
   "outputs": [],
   "source": [
    "example_universe = universe.copy()\n",
    "example_universe[\"cutoff\"] = example_universe[\"cutoff\"][0]\n",
    "example_universe[\"eval_fairness_grouping\"] = example_universe[\"eval_fairness_grouping\"][0]\n",
    "fairness_dict, metric_frame = universe_analysis.compute_metrics(\n",
    "    example_universe,\n",
    "    y_pred_prob=probs_test,\n",
    "    y_test=y_true,\n",
    "    org_test=org_test,\n",
    ")"
   ]
  },
  {
   "cell_type": "markdown",
   "id": "f95d4e02",
   "metadata": {
    "papermill": {
     "duration": 0.059063,
     "end_time": "2025-07-23T14:37:09.336992",
     "exception": false,
     "start_time": "2025-07-23T14:37:09.277929",
     "status": "completed"
    },
    "tags": []
   },
   "source": [
    "# Overall"
   ]
  },
  {
   "cell_type": "markdown",
   "id": "bdee4871",
   "metadata": {
    "papermill": {
     "duration": 0.040189,
     "end_time": "2025-07-23T14:37:09.428989",
     "exception": false,
     "start_time": "2025-07-23T14:37:09.388800",
     "status": "completed"
    },
    "tags": []
   },
   "source": [
    "Fairness\n",
    "Main fairness target: Equalized Odds. Seems to be a better fit than equal opportunity, since we're not only interested in Y = 1. Seems to be a better fit than demographic parity, since we also care about accuracy, not just equal distribution of preds.\n",
    "\n",
    "Pick column for computation of fairness metrics\n",
    "\n",
    "Performance\n",
    "Overall performance measures, most interesting in relation to the measures split by group below"
   ]
  },
  {
   "cell_type": "code",
   "execution_count": 56,
   "id": "c4e067c6",
   "metadata": {
    "execution": {
     "iopub.execute_input": "2025-07-23T14:37:09.550796Z",
     "iopub.status.busy": "2025-07-23T14:37:09.550295Z",
     "iopub.status.idle": "2025-07-23T14:37:09.561886Z",
     "shell.execute_reply": "2025-07-23T14:37:09.560619Z"
    },
    "papermill": {
     "duration": 0.075934,
     "end_time": "2025-07-23T14:37:09.563578",
     "exception": false,
     "start_time": "2025-07-23T14:37:09.487644",
     "status": "completed"
    },
    "tags": []
   },
   "outputs": [
    {
     "data": {
      "text/plain": [
       "accuracy                   0.192877\n",
       "balanced accuracy          0.530159\n",
       "f1                         0.238230\n",
       "precision                  0.135523\n",
       "false positive rate        0.923519\n",
       "false negative rate        0.016163\n",
       "selection rate             0.931256\n",
       "count                  89710.000000\n",
       "dtype: float64"
      ]
     },
     "execution_count": 56,
     "metadata": {},
     "output_type": "execute_result"
    }
   ],
   "source": [
    "metric_frame.overall"
   ]
  },
  {
   "cell_type": "markdown",
   "id": "e968fe9d",
   "metadata": {
    "papermill": {
     "duration": 0.03866,
     "end_time": "2025-07-23T14:37:09.647772",
     "exception": false,
     "start_time": "2025-07-23T14:37:09.609112",
     "status": "completed"
    },
    "tags": []
   },
   "source": [
    "By Group"
   ]
  },
  {
   "cell_type": "code",
   "execution_count": 57,
   "id": "ec325bce",
   "metadata": {
    "execution": {
     "iopub.execute_input": "2025-07-23T14:37:09.741712Z",
     "iopub.status.busy": "2025-07-23T14:37:09.741224Z",
     "iopub.status.idle": "2025-07-23T14:37:09.771335Z",
     "shell.execute_reply": "2025-07-23T14:37:09.770152Z"
    },
    "papermill": {
     "duration": 0.072017,
     "end_time": "2025-07-23T14:37:09.773158",
     "exception": false,
     "start_time": "2025-07-23T14:37:09.701141",
     "status": "completed"
    },
    "tags": []
   },
   "outputs": [
    {
     "data": {
      "text/html": [
       "<div>\n",
       "<style scoped>\n",
       "    .dataframe tbody tr th:only-of-type {\n",
       "        vertical-align: middle;\n",
       "    }\n",
       "\n",
       "    .dataframe tbody tr th {\n",
       "        vertical-align: top;\n",
       "    }\n",
       "\n",
       "    .dataframe thead th {\n",
       "        text-align: right;\n",
       "    }\n",
       "</style>\n",
       "<table border=\"1\" class=\"dataframe\">\n",
       "  <thead>\n",
       "    <tr style=\"text-align: right;\">\n",
       "      <th></th>\n",
       "      <th>accuracy</th>\n",
       "      <th>balanced accuracy</th>\n",
       "      <th>f1</th>\n",
       "      <th>precision</th>\n",
       "      <th>false positive rate</th>\n",
       "      <th>false negative rate</th>\n",
       "      <th>selection rate</th>\n",
       "      <th>count</th>\n",
       "    </tr>\n",
       "    <tr>\n",
       "      <th>majmin</th>\n",
       "      <th></th>\n",
       "      <th></th>\n",
       "      <th></th>\n",
       "      <th></th>\n",
       "      <th></th>\n",
       "      <th></th>\n",
       "      <th></th>\n",
       "      <th></th>\n",
       "    </tr>\n",
       "  </thead>\n",
       "  <tbody>\n",
       "    <tr>\n",
       "      <th>majority</th>\n",
       "      <td>0.188695</td>\n",
       "      <td>0.529384</td>\n",
       "      <td>0.244304</td>\n",
       "      <td>0.139297</td>\n",
       "      <td>0.933683</td>\n",
       "      <td>0.007549</td>\n",
       "      <td>0.941449</td>\n",
       "      <td>69170.0</td>\n",
       "    </tr>\n",
       "    <tr>\n",
       "      <th>minority</th>\n",
       "      <td>0.206962</td>\n",
       "      <td>0.530325</td>\n",
       "      <td>0.216536</td>\n",
       "      <td>0.122184</td>\n",
       "      <td>0.889941</td>\n",
       "      <td>0.049409</td>\n",
       "      <td>0.896933</td>\n",
       "      <td>20540.0</td>\n",
       "    </tr>\n",
       "  </tbody>\n",
       "</table>\n",
       "</div>"
      ],
      "text/plain": [
       "          accuracy  balanced accuracy        f1  precision  \\\n",
       "majmin                                                       \n",
       "majority  0.188695           0.529384  0.244304   0.139297   \n",
       "minority  0.206962           0.530325  0.216536   0.122184   \n",
       "\n",
       "          false positive rate  false negative rate  selection rate    count  \n",
       "majmin                                                                       \n",
       "majority             0.933683             0.007549        0.941449  69170.0  \n",
       "minority             0.889941             0.049409        0.896933  20540.0  "
      ]
     },
     "execution_count": 57,
     "metadata": {},
     "output_type": "execute_result"
    }
   ],
   "source": [
    "metric_frame.by_group"
   ]
  },
  {
   "cell_type": "code",
   "execution_count": 58,
   "id": "a9ddbe63",
   "metadata": {
    "execution": {
     "iopub.execute_input": "2025-07-23T14:37:09.862780Z",
     "iopub.status.busy": "2025-07-23T14:37:09.862276Z",
     "iopub.status.idle": "2025-07-23T14:37:15.353301Z",
     "shell.execute_reply": "2025-07-23T14:37:15.351987Z"
    },
    "papermill": {
     "duration": 5.533951,
     "end_time": "2025-07-23T14:37:15.355128",
     "exception": false,
     "start_time": "2025-07-23T14:37:09.821177",
     "status": "completed"
    },
    "tags": []
   },
   "outputs": [
    {
     "data": {
      "text/plain": [
       "array([[<Axes: title={'center': 'accuracy'}, xlabel='majmin'>,\n",
       "        <Axes: title={'center': 'balanced accuracy'}, xlabel='majmin'>,\n",
       "        <Axes: title={'center': 'f1'}, xlabel='majmin'>],\n",
       "       [<Axes: title={'center': 'precision'}, xlabel='majmin'>,\n",
       "        <Axes: title={'center': 'false positive rate'}, xlabel='majmin'>,\n",
       "        <Axes: title={'center': 'false negative rate'}, xlabel='majmin'>],\n",
       "       [<Axes: title={'center': 'selection rate'}, xlabel='majmin'>,\n",
       "        <Axes: title={'center': 'count'}, xlabel='majmin'>,\n",
       "        <Axes: xlabel='majmin'>]], dtype=object)"
      ]
     },
     "execution_count": 58,
     "metadata": {},
     "output_type": "execute_result"
    },
    {
     "data": {
      "image/png": "[encoded data removed]",
      "text/plain": [
       "<Figure size 1200x800 with 9 Axes>"
      ]
     },
     "metadata": {},
     "output_type": "display_data"
    }
   ],
   "source": [
    "# In a graphic\n",
    "metric_frame.by_group.plot.bar(\n",
    "    subplots=True,\n",
    "    layout=[3, 3],\n",
    "    legend=False,\n",
    "    figsize=[12, 8],\n",
    "    title=\"Show all metrics\",\n",
    ")"
   ]
  },
  {
   "cell_type": "markdown",
   "id": "f57a0bac",
   "metadata": {
    "papermill": {
     "duration": 0.068633,
     "end_time": "2025-07-23T14:37:15.473056",
     "exception": false,
     "start_time": "2025-07-23T14:37:15.404423",
     "status": "completed"
    },
    "tags": []
   },
   "source": [
    "# Final Output"
   ]
  },
  {
   "cell_type": "code",
   "execution_count": 59,
   "id": "96d280a3",
   "metadata": {
    "execution": {
     "iopub.execute_input": "2025-07-23T14:37:15.584440Z",
     "iopub.status.busy": "2025-07-23T14:37:15.583639Z",
     "iopub.status.idle": "2025-07-23T14:37:15.595766Z",
     "shell.execute_reply": "2025-07-23T14:37:15.594781Z"
    },
    "papermill": {
     "duration": 0.068196,
     "end_time": "2025-07-23T14:37:15.597473",
     "exception": false,
     "start_time": "2025-07-23T14:37:15.529277",
     "status": "completed"
    },
    "tags": []
   },
   "outputs": [
    {
     "data": {
      "text/plain": [
       "4"
      ]
     },
     "execution_count": 59,
     "metadata": {},
     "output_type": "execute_result"
    }
   ],
   "source": [
    "sub_universes = universe_analysis.generate_sub_universes()\n",
    "len(sub_universes)"
   ]
  },
  {
   "cell_type": "code",
   "execution_count": 60,
   "id": "92adf7ba",
   "metadata": {
    "execution": {
     "iopub.execute_input": "2025-07-23T14:37:15.707774Z",
     "iopub.status.busy": "2025-07-23T14:37:15.707323Z",
     "iopub.status.idle": "2025-07-23T14:37:15.714413Z",
     "shell.execute_reply": "2025-07-23T14:37:15.713405Z"
    },
    "papermill": {
     "duration": 0.06935,
     "end_time": "2025-07-23T14:37:15.716258",
     "exception": false,
     "start_time": "2025-07-23T14:37:15.646908",
     "status": "completed"
    },
    "tags": []
   },
   "outputs": [],
   "source": [
    "def filter_sub_universe_data(sub_universe, org_test):\n",
    "    # Keep all rows — no filtering\n",
    "    keep_rows_mask = np.ones(org_test.shape[0], dtype=bool)\n",
    "\n",
    "    print(f\"[INFO] Keeping all rows: {keep_rows_mask.sum()} rows retained.\")\n",
    "    return keep_rows_mask"
   ]
  },
  {
   "cell_type": "code",
   "execution_count": 61,
   "id": "4a759155",
   "metadata": {
    "execution": {
     "iopub.execute_input": "2025-07-23T14:37:15.834328Z",
     "iopub.status.busy": "2025-07-23T14:37:15.833876Z",
     "iopub.status.idle": "2025-07-23T14:37:32.319747Z",
     "shell.execute_reply": "2025-07-23T14:37:32.318377Z"
    },
    "papermill": {
     "duration": 16.550086,
     "end_time": "2025-07-23T14:37:32.321847",
     "exception": false,
     "start_time": "2025-07-23T14:37:15.771761",
     "status": "completed"
    },
    "tags": []
   },
   "outputs": [
    {
     "name": "stdout",
     "output_type": "stream",
     "text": [
      "Stopping execution_time clock.\n",
      "[INFO] Keeping all rows: 89710 rows retained.\n"
     ]
    },
    {
     "name": "stdout",
     "output_type": "stream",
     "text": [
      "[INFO] Keeping all rows: 89710 rows retained.\n"
     ]
    },
    {
     "name": "stdout",
     "output_type": "stream",
     "text": [
      "[INFO] Keeping all rows: 89710 rows retained.\n"
     ]
    },
    {
     "name": "stdout",
     "output_type": "stream",
     "text": [
      "[INFO] Keeping all rows: 89710 rows retained.\n"
     ]
    },
    {
     "data": {
      "text/html": [
       "<div>\n",
       "<style scoped>\n",
       "    .dataframe tbody tr th:only-of-type {\n",
       "        vertical-align: middle;\n",
       "    }\n",
       "\n",
       "    .dataframe tbody tr th {\n",
       "        vertical-align: top;\n",
       "    }\n",
       "\n",
       "    .dataframe thead th {\n",
       "        text-align: right;\n",
       "    }\n",
       "</style>\n",
       "<table border=\"1\" class=\"dataframe\">\n",
       "  <thead>\n",
       "    <tr style=\"text-align: right;\">\n",
       "      <th></th>\n",
       "      <th>run_no</th>\n",
       "      <th>universe_id</th>\n",
       "      <th>universe_settings</th>\n",
       "      <th>execution_time</th>\n",
       "      <th>test_size_n</th>\n",
       "      <th>test_size_frac</th>\n",
       "      <th>fair_main_equalized_odds_difference</th>\n",
       "      <th>fair_main_equalized_odds_ratio</th>\n",
       "      <th>fair_main_demographic_parity_difference</th>\n",
       "      <th>fair_main_demographic_parity_ratio</th>\n",
       "      <th>...</th>\n",
       "      <th>perf_grp_precision_0</th>\n",
       "      <th>perf_grp_precision_1</th>\n",
       "      <th>perf_grp_false positive rate_0</th>\n",
       "      <th>perf_grp_false positive rate_1</th>\n",
       "      <th>perf_grp_false negative rate_0</th>\n",
       "      <th>perf_grp_false negative rate_1</th>\n",
       "      <th>perf_grp_selection rate_0</th>\n",
       "      <th>perf_grp_selection rate_1</th>\n",
       "      <th>perf_grp_count_0</th>\n",
       "      <th>perf_grp_count_1</th>\n",
       "    </tr>\n",
       "  </thead>\n",
       "  <tbody>\n",
       "    <tr>\n",
       "      <th>0</th>\n",
       "      <td>9</td>\n",
       "      <td>2f633861fccfade6a66fb3c983dc3d3d</td>\n",
       "      <td>{\"cutoff\": \"quantile_0.1\", \"eval_fairness_grou...</td>\n",
       "      <td>54.625357</td>\n",
       "      <td>89710</td>\n",
       "      <td>1.0</td>\n",
       "      <td>0.043743</td>\n",
       "      <td>0.953150</td>\n",
       "      <td>0.044516</td>\n",
       "      <td>0.952716</td>\n",
       "      <td>...</td>\n",
       "      <td>NaN</td>\n",
       "      <td>NaN</td>\n",
       "      <td>NaN</td>\n",
       "      <td>NaN</td>\n",
       "      <td>NaN</td>\n",
       "      <td>NaN</td>\n",
       "      <td>NaN</td>\n",
       "      <td>NaN</td>\n",
       "      <td>NaN</td>\n",
       "      <td>NaN</td>\n",
       "    </tr>\n",
       "    <tr>\n",
       "      <th>0</th>\n",
       "      <td>9</td>\n",
       "      <td>2f633861fccfade6a66fb3c983dc3d3d</td>\n",
       "      <td>{\"cutoff\": \"quantile_0.1\", \"eval_fairness_grou...</td>\n",
       "      <td>54.625357</td>\n",
       "      <td>89710</td>\n",
       "      <td>1.0</td>\n",
       "      <td>0.043743</td>\n",
       "      <td>0.953150</td>\n",
       "      <td>0.044516</td>\n",
       "      <td>0.952716</td>\n",
       "      <td>...</td>\n",
       "      <td>0.122184</td>\n",
       "      <td>0.139297</td>\n",
       "      <td>0.889941</td>\n",
       "      <td>0.933683</td>\n",
       "      <td>0.049409</td>\n",
       "      <td>0.007549</td>\n",
       "      <td>0.896933</td>\n",
       "      <td>0.941449</td>\n",
       "      <td>20540.0</td>\n",
       "      <td>69170.0</td>\n",
       "    </tr>\n",
       "    <tr>\n",
       "      <th>0</th>\n",
       "      <td>9</td>\n",
       "      <td>2f633861fccfade6a66fb3c983dc3d3d</td>\n",
       "      <td>{\"cutoff\": \"quantile_0.25\", \"eval_fairness_gro...</td>\n",
       "      <td>54.625357</td>\n",
       "      <td>89710</td>\n",
       "      <td>1.0</td>\n",
       "      <td>0.087333</td>\n",
       "      <td>0.909169</td>\n",
       "      <td>0.055738</td>\n",
       "      <td>0.929926</td>\n",
       "      <td>...</td>\n",
       "      <td>NaN</td>\n",
       "      <td>NaN</td>\n",
       "      <td>NaN</td>\n",
       "      <td>NaN</td>\n",
       "      <td>NaN</td>\n",
       "      <td>NaN</td>\n",
       "      <td>NaN</td>\n",
       "      <td>NaN</td>\n",
       "      <td>NaN</td>\n",
       "      <td>NaN</td>\n",
       "    </tr>\n",
       "    <tr>\n",
       "      <th>0</th>\n",
       "      <td>9</td>\n",
       "      <td>2f633861fccfade6a66fb3c983dc3d3d</td>\n",
       "      <td>{\"cutoff\": \"quantile_0.25\", \"eval_fairness_gro...</td>\n",
       "      <td>54.625357</td>\n",
       "      <td>89710</td>\n",
       "      <td>1.0</td>\n",
       "      <td>0.087333</td>\n",
       "      <td>0.909169</td>\n",
       "      <td>0.055738</td>\n",
       "      <td>0.929926</td>\n",
       "      <td>...</td>\n",
       "      <td>0.136247</td>\n",
       "      <td>0.159727</td>\n",
       "      <td>0.722155</td>\n",
       "      <td>0.770132</td>\n",
       "      <td>0.125845</td>\n",
       "      <td>0.038512</td>\n",
       "      <td>0.739679</td>\n",
       "      <td>0.795417</td>\n",
       "      <td>20540.0</td>\n",
       "      <td>69170.0</td>\n",
       "    </tr>\n",
       "  </tbody>\n",
       "</table>\n",
       "<p>4 rows × 50 columns</p>\n",
       "</div>"
      ],
      "text/plain": [
       "  run_no                       universe_id  \\\n",
       "0      9  2f633861fccfade6a66fb3c983dc3d3d   \n",
       "0      9  2f633861fccfade6a66fb3c983dc3d3d   \n",
       "0      9  2f633861fccfade6a66fb3c983dc3d3d   \n",
       "0      9  2f633861fccfade6a66fb3c983dc3d3d   \n",
       "\n",
       "                                   universe_settings  execution_time  \\\n",
       "0  {\"cutoff\": \"quantile_0.1\", \"eval_fairness_grou...       54.625357   \n",
       "0  {\"cutoff\": \"quantile_0.1\", \"eval_fairness_grou...       54.625357   \n",
       "0  {\"cutoff\": \"quantile_0.25\", \"eval_fairness_gro...       54.625357   \n",
       "0  {\"cutoff\": \"quantile_0.25\", \"eval_fairness_gro...       54.625357   \n",
       "\n",
       "   test_size_n  test_size_frac  fair_main_equalized_odds_difference  \\\n",
       "0        89710             1.0                             0.043743   \n",
       "0        89710             1.0                             0.043743   \n",
       "0        89710             1.0                             0.087333   \n",
       "0        89710             1.0                             0.087333   \n",
       "\n",
       "   fair_main_equalized_odds_ratio  fair_main_demographic_parity_difference  \\\n",
       "0                        0.953150                                 0.044516   \n",
       "0                        0.953150                                 0.044516   \n",
       "0                        0.909169                                 0.055738   \n",
       "0                        0.909169                                 0.055738   \n",
       "\n",
       "   fair_main_demographic_parity_ratio  ...  perf_grp_precision_0  \\\n",
       "0                            0.952716  ...                   NaN   \n",
       "0                            0.952716  ...              0.122184   \n",
       "0                            0.929926  ...                   NaN   \n",
       "0                            0.929926  ...              0.136247   \n",
       "\n",
       "   perf_grp_precision_1  perf_grp_false positive rate_0  \\\n",
       "0                   NaN                             NaN   \n",
       "0              0.139297                        0.889941   \n",
       "0                   NaN                             NaN   \n",
       "0              0.159727                        0.722155   \n",
       "\n",
       "   perf_grp_false positive rate_1  perf_grp_false negative rate_0  \\\n",
       "0                             NaN                             NaN   \n",
       "0                        0.933683                        0.049409   \n",
       "0                             NaN                             NaN   \n",
       "0                        0.770132                        0.125845   \n",
       "\n",
       "   perf_grp_false negative rate_1  perf_grp_selection rate_0  \\\n",
       "0                             NaN                        NaN   \n",
       "0                        0.007549                   0.896933   \n",
       "0                             NaN                        NaN   \n",
       "0                        0.038512                   0.739679   \n",
       "\n",
       "   perf_grp_selection rate_1  perf_grp_count_0  perf_grp_count_1  \n",
       "0                        NaN               NaN               NaN  \n",
       "0                   0.941449           20540.0           69170.0  \n",
       "0                        NaN               NaN               NaN  \n",
       "0                   0.795417           20540.0           69170.0  \n",
       "\n",
       "[4 rows x 50 columns]"
      ]
     },
     "execution_count": 61,
     "metadata": {},
     "output_type": "execute_result"
    }
   ],
   "source": [
    "final_output = universe_analysis.generate_final_output(\n",
    "    y_pred_prob=probs_test,\n",
    "    y_test=y_true,\n",
    "    org_test=org_test,\n",
    "    filter_data=filter_sub_universe_data,\n",
    "    cp_metrics_df=cp_metrics_df,\n",
    "    save=True,\n",
    ")\n",
    "final_output"
   ]
  },
  {
   "cell_type": "code",
   "execution_count": null,
   "id": "721ff514-cb11-46f8-b6fc-50392f74b5cb",
   "metadata": {
    "papermill": {
     "duration": 0.027469,
     "end_time": "2025-07-23T14:37:32.398461",
     "exception": false,
     "start_time": "2025-07-23T14:37:32.370992",
     "status": "completed"
    },
    "tags": []
   },
   "outputs": [],
   "source": []
  }
 ],
 "metadata": {
  "celltoolbar": "Tags",
  "kernelspec": {
   "display_name": "Python (CMA Fairness)",
   "language": "python",
   "name": "cma_fair_env"
  },
  "language_info": {
   "codemirror_mode": {
    "name": "ipython",
    "version": 3
   },
   "file_extension": ".py",
   "mimetype": "text/x-python",
   "name": "python",
   "nbconvert_exporter": "python",
   "pygments_lexer": "ipython3",
   "version": "3.10.12"
  },
  "papermill": {
   "default_parameters": {},
   "duration": 78.005478,
   "end_time": "2025-07-23T14:37:33.447117",
   "environment_variables": {},
   "exception": null,
   "input_path": "universe_analysis.ipynb",
   "output_path": "output/runs/9/notebooks/m_9-2f633861fccfade6a66fb3c983dc3d3d.ipynb",
   "parameters": {
    "output_dir": "output",
    "run_no": "9",
    "seed": "2023",
    "universe": "{\"cutoff\": [\"quantile_0.1\", \"quantile_0.25\"], \"eval_fairness_grouping\": [\"majority-minority\", \"nationality-all\"], \"exclude_features\": \"nationality\", \"exclude_subgroups\": \"drop-non-german\", \"model\": \"rf\", \"scale\": \"do-not-scale\"}",
    "universe_id": "2f633861fccfade6a66fb3c983dc3d3d"
   },
   "start_time": "2025-07-23T14:36:15.441639",
   "version": "2.6.0"
  }
 },
 "nbformat": 4,
 "nbformat_minor": 5
}