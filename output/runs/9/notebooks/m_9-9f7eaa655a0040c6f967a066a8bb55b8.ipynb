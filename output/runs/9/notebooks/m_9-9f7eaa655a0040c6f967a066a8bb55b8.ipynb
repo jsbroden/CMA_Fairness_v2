{
 "cells": [
  {
   "cell_type": "code",
   "execution_count": 1,
   "id": "f159f837-637b-42ba-96b5-ec9a68c44524",
   "metadata": {
    "execution": {
     "iopub.execute_input": "2025-07-23T14:37:22.894662Z",
     "iopub.status.busy": "2025-07-23T14:37:22.894225Z",
     "iopub.status.idle": "2025-07-23T14:37:22.915334Z",
     "shell.execute_reply": "2025-07-23T14:37:22.913815Z"
    },
    "papermill": {
     "duration": 0.089836,
     "end_time": "2025-07-23T14:37:22.917328",
     "exception": false,
     "start_time": "2025-07-23T14:37:22.827492",
     "status": "completed"
    },
    "tags": []
   },
   "outputs": [
    {
     "name": "stdout",
     "output_type": "stream",
     "text": [
      "/dss/dsshome1/0C/ra93lal2/cma/CMA_Fairness_v2\n"
     ]
    },
    {
     "name": "stderr",
     "output_type": "stream",
     "text": [
      "/dss/dsshome1/0C/ra93lal2/.local/share/virtualenvs/CMA_Fairness_v2-3j10GkSs/lib/python3.10/site-packages/IPython/core/magics/osm.py:393: UserWarning: This is now an optional IPython functionality, using bookmarks requires you to install the `pickleshare` library.\n",
      "  bkms = self.shell.db.get('bookmarks', {})\n",
      "/dss/dsshome1/0C/ra93lal2/.local/share/virtualenvs/CMA_Fairness_v2-3j10GkSs/lib/python3.10/site-packages/IPython/core/magics/osm.py:417: UserWarning: This is now an optional IPython functionality, setting dhist requires you to install the `pickleshare` library.\n",
      "  self.shell.db['dhist'] = compress_dhist(dhist)[-100:]\n"
     ]
    }
   ],
   "source": [
    "%cd ~/cma/CMA_Fairness_v2"
   ]
  },
  {
   "cell_type": "markdown",
   "id": "de2603b9",
   "metadata": {
    "papermill": {
     "duration": 0.034359,
     "end_time": "2025-07-23T14:37:22.985485",
     "exception": false,
     "start_time": "2025-07-23T14:37:22.951126",
     "status": "completed"
    },
    "tags": []
   },
   "source": [
    "The following cell holds the definition of our parameters, these values can be overriden by rendering the with e.g. the following command:\n",
    "\n",
    "papermill -p alpha 0.2 -p ratio 0.3 universe_analysis.ipynb output/test_run.ipynb"
   ]
  },
  {
   "cell_type": "code",
   "execution_count": 2,
   "id": "a80968a0-40bb-4fa9-85ef-2d5eefb01975",
   "metadata": {
    "execution": {
     "iopub.execute_input": "2025-07-23T14:37:23.062445Z",
     "iopub.status.busy": "2025-07-23T14:37:23.061987Z",
     "iopub.status.idle": "2025-07-23T14:37:23.068283Z",
     "shell.execute_reply": "2025-07-23T14:37:23.067205Z"
    },
    "papermill": {
     "duration": 0.054543,
     "end_time": "2025-07-23T14:37:23.071574",
     "exception": false,
     "start_time": "2025-07-23T14:37:23.017031",
     "status": "completed"
    },
    "tags": []
   },
   "outputs": [
    {
     "name": "stdout",
     "output_type": "stream",
     "text": [
      "Current working directory: /dss/dsshome1/0C/ra93lal2/cma/CMA_Fairness_v2\n"
     ]
    }
   ],
   "source": [
    "import os\n",
    "print(\"Current working directory:\", os.getcwd())"
   ]
  },
  {
   "cell_type": "code",
   "execution_count": 3,
   "id": "2dce4c03",
   "metadata": {
    "execution": {
     "iopub.execute_input": "2025-07-23T14:37:23.115798Z",
     "iopub.status.busy": "2025-07-23T14:37:23.115425Z",
     "iopub.status.idle": "2025-07-23T14:37:23.121729Z",
     "shell.execute_reply": "2025-07-23T14:37:23.120697Z"
    },
    "papermill": {
     "duration": 0.030135,
     "end_time": "2025-07-23T14:37:23.125160",
     "exception": false,
     "start_time": "2025-07-23T14:37:23.095025",
     "status": "completed"
    },
    "tags": [
     "parameters"
    ]
   },
   "outputs": [],
   "source": [
    "run_no = 0\n",
    "universe_id = \"test\"\n",
    "universe = {\n",
    "    \"scale\": \"scale\", # \"scale\", \"do-not-scale\",\n",
    "    \"model\": \"elasticnet\", # \"logreg\", \"penalized_logreg\", \"rf\", \"gbm\", \"elasticnet\"\n",
    "    \"cutoff\": [\"quantile_0.15\", \"quantile_0.30\"],\n",
    "    \"exclude_features\": \"age\", # \"none\", \"nationality\", \"sex\", \"nationality-sex\", \"age\"\n",
    "    \"exclude_subgroups\": \"keep-all\", # \"keep-all\", \"drop-non-german\"\n",
    "    #\"training_sample\": \"restricted\", # \"restricted\", \"full\"\n",
    "    \"eval_fairness_grouping\": [\"majority-minority\", \"nationality-all\"]\n",
    "}\n",
    "\n",
    "output_dir=\"./output\"\n",
    "seed=0"
   ]
  },
  {
   "cell_type": "code",
   "execution_count": 4,
   "id": "0c2fa855",
   "metadata": {
    "execution": {
     "iopub.execute_input": "2025-07-23T14:37:23.166082Z",
     "iopub.status.busy": "2025-07-23T14:37:23.165634Z",
     "iopub.status.idle": "2025-07-23T14:37:23.171852Z",
     "shell.execute_reply": "2025-07-23T14:37:23.170593Z"
    },
    "papermill": {
     "duration": 0.03043,
     "end_time": "2025-07-23T14:37:23.175586",
     "exception": false,
     "start_time": "2025-07-23T14:37:23.145156",
     "status": "completed"
    },
    "tags": [
     "injected-parameters"
    ]
   },
   "outputs": [],
   "source": [
    "# Parameters\n",
    "universe_id = \"9f7eaa655a0040c6f967a066a8bb55b8\"\n",
    "run_no = \"9\"\n",
    "universe = \"{\\\"cutoff\\\": [\\\"quantile_0.1\\\", \\\"quantile_0.25\\\"], \\\"eval_fairness_grouping\\\": [\\\"majority-minority\\\", \\\"nationality-all\\\"], \\\"exclude_features\\\": \\\"age\\\", \\\"exclude_subgroups\\\": \\\"keep-all\\\", \\\"model\\\": \\\"rf\\\", \\\"scale\\\": \\\"do-not-scale\\\"}\"\n",
    "output_dir = \"output\"\n",
    "seed = \"2023\"\n"
   ]
  },
  {
   "cell_type": "code",
   "execution_count": 5,
   "id": "1650acaf",
   "metadata": {
    "execution": {
     "iopub.execute_input": "2025-07-23T14:37:23.220653Z",
     "iopub.status.busy": "2025-07-23T14:37:23.220192Z",
     "iopub.status.idle": "2025-07-23T14:37:23.226337Z",
     "shell.execute_reply": "2025-07-23T14:37:23.225066Z"
    },
    "papermill": {
     "duration": 0.031779,
     "end_time": "2025-07-23T14:37:23.230176",
     "exception": false,
     "start_time": "2025-07-23T14:37:23.198397",
     "status": "completed"
    },
    "tags": []
   },
   "outputs": [],
   "source": [
    "import json\n",
    "# Parse universe into dict if it is passed as a string\n",
    "if isinstance(universe, str):\n",
    "    universe = json.loads(universe)"
   ]
  },
  {
   "cell_type": "code",
   "execution_count": 6,
   "id": "16620c48",
   "metadata": {
    "execution": {
     "iopub.execute_input": "2025-07-23T14:37:23.271326Z",
     "iopub.status.busy": "2025-07-23T14:37:23.270869Z",
     "iopub.status.idle": "2025-07-23T14:37:23.337138Z",
     "shell.execute_reply": "2025-07-23T14:37:23.335988Z"
    },
    "papermill": {
     "duration": 0.088998,
     "end_time": "2025-07-23T14:37:23.339385",
     "exception": false,
     "start_time": "2025-07-23T14:37:23.250387",
     "status": "completed"
    },
    "tags": []
   },
   "outputs": [],
   "source": [
    "# Auto-reload the custom package\n",
    "%load_ext autoreload\n",
    "%autoreload 1\n",
    "%aimport fairness_multiverse"
   ]
  },
  {
   "cell_type": "code",
   "execution_count": 7,
   "id": "01c5c9f3",
   "metadata": {
    "execution": {
     "iopub.execute_input": "2025-07-23T14:37:23.414811Z",
     "iopub.status.busy": "2025-07-23T14:37:23.414361Z",
     "iopub.status.idle": "2025-07-23T14:37:27.475490Z",
     "shell.execute_reply": "2025-07-23T14:37:27.474314Z"
    },
    "papermill": {
     "duration": 4.105203,
     "end_time": "2025-07-23T14:37:27.478295",
     "exception": false,
     "start_time": "2025-07-23T14:37:23.373092",
     "status": "completed"
    },
    "tags": []
   },
   "outputs": [],
   "source": [
    "from fairness_multiverse.universe import UniverseAnalysis\n",
    "\n",
    "universe_analysis = UniverseAnalysis(\n",
    "    run_no = run_no,\n",
    "    universe_id = universe_id,\n",
    "    universe = universe,\n",
    "    output_dir=output_dir,\n",
    ")"
   ]
  },
  {
   "cell_type": "code",
   "execution_count": 8,
   "id": "106241f5",
   "metadata": {
    "execution": {
     "iopub.execute_input": "2025-07-23T14:37:27.550721Z",
     "iopub.status.busy": "2025-07-23T14:37:27.550278Z",
     "iopub.status.idle": "2025-07-23T14:37:27.557896Z",
     "shell.execute_reply": "2025-07-23T14:37:27.556621Z"
    },
    "papermill": {
     "duration": 0.047298,
     "end_time": "2025-07-23T14:37:27.562133",
     "exception": false,
     "start_time": "2025-07-23T14:37:27.514835",
     "status": "completed"
    },
    "tags": []
   },
   "outputs": [
    {
     "name": "stdout",
     "output_type": "stream",
     "text": [
      "Using Seed: 2023\n"
     ]
    }
   ],
   "source": [
    "import numpy as np\n",
    "parsed_seed = int(seed)\n",
    "np.random.seed(parsed_seed)\n",
    "print(f\"Using Seed: {parsed_seed}\")"
   ]
  },
  {
   "cell_type": "markdown",
   "id": "e0ebdc57",
   "metadata": {
    "papermill": {
     "duration": 0.045667,
     "end_time": "2025-07-23T14:37:27.649179",
     "exception": false,
     "start_time": "2025-07-23T14:37:27.603512",
     "status": "completed"
    },
    "tags": []
   },
   "source": [
    "# Loading Data"
   ]
  },
  {
   "cell_type": "markdown",
   "id": "681925a3",
   "metadata": {
    "papermill": {
     "duration": 0.034386,
     "end_time": "2025-07-23T14:37:27.717469",
     "exception": false,
     "start_time": "2025-07-23T14:37:27.683083",
     "status": "completed"
    },
    "tags": []
   },
   "source": [
    "Load siab_train, siab_test, siab_calib and/or \n",
    "load siab_train_features, siab_train_labels"
   ]
  },
  {
   "cell_type": "code",
   "execution_count": 9,
   "id": "f0496b8a",
   "metadata": {
    "execution": {
     "iopub.execute_input": "2025-07-23T14:37:27.791132Z",
     "iopub.status.busy": "2025-07-23T14:37:27.790727Z",
     "iopub.status.idle": "2025-07-23T14:37:27.798294Z",
     "shell.execute_reply": "2025-07-23T14:37:27.797138Z"
    },
    "papermill": {
     "duration": 0.044985,
     "end_time": "2025-07-23T14:37:27.800511",
     "exception": false,
     "start_time": "2025-07-23T14:37:27.755526",
     "status": "completed"
    },
    "tags": []
   },
   "outputs": [],
   "source": [
    "# Do I need to load siab? Delete this cell?\n",
    "\n",
    "#from pathlib import Path\n",
    "#import pandas as pd\n",
    "#\n",
    "## File paths\n",
    "#raw_file = Path(\"data/raw/siab.csv\")\n",
    "#cache_file = Path(\"data/siab_cached.csv.gz\")\n",
    "#\n",
    "## Ensure cache directory exists\n",
    "#cache_file.parent.mkdir(parents=True, exist_ok=True)\n",
    "#\n",
    "## Load with simple caching\n",
    "#if cache_file.exists():\n",
    "#    print(f\"Loading SIAB data from cache: {cache_file}\")\n",
    "#    siab = pd.read_csv(cache_file, compression='gzip')\n",
    "#else:\n",
    "#    print(f\"Cache not found. Reading raw SIAB data: {raw_file}\")\n",
    "#    siab = pd.read_csv(raw_file)\n",
    "#    siab.to_csv(cache_file, index=False, compression='gzip')\n",
    "#    print(f\"Cached SIAB data to: {cache_file}\")\n",
    "#\n",
    "## Now use `siab` DataFrame as needed\n",
    "#print(siab.shape)\n"
   ]
  },
  {
   "cell_type": "code",
   "execution_count": 10,
   "id": "a0edb063",
   "metadata": {
    "execution": {
     "iopub.execute_input": "2025-07-23T14:37:27.840829Z",
     "iopub.status.busy": "2025-07-23T14:37:27.840398Z",
     "iopub.status.idle": "2025-07-23T14:37:30.040752Z",
     "shell.execute_reply": "2025-07-23T14:37:30.039673Z"
    },
    "papermill": {
     "duration": 2.223146,
     "end_time": "2025-07-23T14:37:30.043088",
     "exception": false,
     "start_time": "2025-07-23T14:37:27.819942",
     "status": "completed"
    },
    "tags": []
   },
   "outputs": [],
   "source": [
    "import pandas as pd\n",
    "\n",
    "X_train = pd.read_csv(\"./data/X_train.csv\")\n",
    "y_train = pd.read_csv(\"./data/y_train.csv\")"
   ]
  },
  {
   "cell_type": "code",
   "execution_count": 11,
   "id": "63d08085",
   "metadata": {
    "execution": {
     "iopub.execute_input": "2025-07-23T14:37:30.086564Z",
     "iopub.status.busy": "2025-07-23T14:37:30.085525Z",
     "iopub.status.idle": "2025-07-23T14:37:32.205789Z",
     "shell.execute_reply": "2025-07-23T14:37:32.204573Z"
    },
    "papermill": {
     "duration": 2.144743,
     "end_time": "2025-07-23T14:37:32.208009",
     "exception": false,
     "start_time": "2025-07-23T14:37:30.063266",
     "status": "completed"
    },
    "tags": []
   },
   "outputs": [],
   "source": [
    "X_test = pd.read_csv(\"./data/X_test.csv\")\n",
    "y_true = pd.read_csv(\"./data/y_test.csv\")"
   ]
  },
  {
   "cell_type": "code",
   "execution_count": 12,
   "id": "98a8d0fa-1d3d-4ed8-bb2c-281470e24add",
   "metadata": {
    "execution": {
     "iopub.execute_input": "2025-07-23T14:37:32.247066Z",
     "iopub.status.busy": "2025-07-23T14:37:32.246700Z",
     "iopub.status.idle": "2025-07-23T14:37:34.065327Z",
     "shell.execute_reply": "2025-07-23T14:37:34.064250Z"
    },
    "papermill": {
     "duration": 1.840011,
     "end_time": "2025-07-23T14:37:34.067278",
     "exception": false,
     "start_time": "2025-07-23T14:37:32.227267",
     "status": "completed"
    },
    "tags": []
   },
   "outputs": [],
   "source": [
    "# Calibration data for conformal\n",
    "X_calib = pd.read_csv(\"./data/X_calib.csv\")\n",
    "y_calib = pd.read_csv(\"./data/y_calib.csv\")"
   ]
  },
  {
   "cell_type": "code",
   "execution_count": 13,
   "id": "e6c733c5",
   "metadata": {
    "execution": {
     "iopub.execute_input": "2025-07-23T14:37:34.144979Z",
     "iopub.status.busy": "2025-07-23T14:37:34.144518Z",
     "iopub.status.idle": "2025-07-23T14:37:34.360165Z",
     "shell.execute_reply": "2025-07-23T14:37:34.357069Z"
    },
    "papermill": {
     "duration": 0.239934,
     "end_time": "2025-07-23T14:37:34.364564",
     "exception": false,
     "start_time": "2025-07-23T14:37:34.124630",
     "status": "completed"
    },
    "tags": []
   },
   "outputs": [],
   "source": [
    "# Auxiliary data needed downstream in the pipeline\n",
    "\n",
    "org_train = X_train.copy()\n",
    "org_test = X_test.copy()\n",
    "org_calib = X_calib.copy()"
   ]
  },
  {
   "cell_type": "markdown",
   "id": "0a4a1b33",
   "metadata": {
    "papermill": {
     "duration": 0.018422,
     "end_time": "2025-07-23T14:37:34.405301",
     "exception": false,
     "start_time": "2025-07-23T14:37:34.386879",
     "status": "completed"
    },
    "tags": []
   },
   "source": [
    "# Preprocessing Data"
   ]
  },
  {
   "cell_type": "code",
   "execution_count": 14,
   "id": "ca879031",
   "metadata": {
    "execution": {
     "iopub.execute_input": "2025-07-23T14:37:34.444936Z",
     "iopub.status.busy": "2025-07-23T14:37:34.444486Z",
     "iopub.status.idle": "2025-07-23T14:37:34.451249Z",
     "shell.execute_reply": "2025-07-23T14:37:34.450262Z"
    },
    "papermill": {
     "duration": 0.030298,
     "end_time": "2025-07-23T14:37:34.454757",
     "exception": false,
     "start_time": "2025-07-23T14:37:34.424459",
     "status": "completed"
    },
    "tags": []
   },
   "outputs": [],
   "source": [
    "# EXCLUDE PROTECTED FEATURES\n",
    "# ----------------------\n",
    "# \"exclude_features\": \"none\", # \"nationality\", \"sex\", \"nationality-sex\"\n",
    "\n",
    "excluded_features = universe[\"exclude_features\"].split(\"-\") # split, e.g.: \"nationality-sex\" -> [\"nationality\", \"sex\"]\n",
    "excluded_features_dictionary = {\n",
    "    \"nationality\": [\"maxdeutsch1\", \"maxdeutsch.Missing.\"],\n",
    "    \"sex\": [\"frau1\"],\n",
    "    \"age\": [\"age\"],\n",
    "}\n"
   ]
  },
  {
   "cell_type": "code",
   "execution_count": 15,
   "id": "b745ac60",
   "metadata": {
    "execution": {
     "iopub.execute_input": "2025-07-23T14:37:34.535506Z",
     "iopub.status.busy": "2025-07-23T14:37:34.535070Z",
     "iopub.status.idle": "2025-07-23T14:37:34.541218Z",
     "shell.execute_reply": "2025-07-23T14:37:34.540094Z"
    },
    "papermill": {
     "duration": 0.058445,
     "end_time": "2025-07-23T14:37:34.543049",
     "exception": false,
     "start_time": "2025-07-23T14:37:34.484604",
     "status": "completed"
    },
    "tags": []
   },
   "outputs": [],
   "source": [
    "# Code nice names to column names\n",
    "\n",
    "excluded_features_columns = [\n",
    "    excluded_features_dictionary[f] for f in excluded_features if len(f) > 0 and f != \"none\"\n",
    "]"
   ]
  },
  {
   "cell_type": "code",
   "execution_count": 16,
   "id": "f84f73a2",
   "metadata": {
    "execution": {
     "iopub.execute_input": "2025-07-23T14:37:34.585693Z",
     "iopub.status.busy": "2025-07-23T14:37:34.585274Z",
     "iopub.status.idle": "2025-07-23T14:37:34.592034Z",
     "shell.execute_reply": "2025-07-23T14:37:34.591028Z"
    },
    "papermill": {
     "duration": 0.030158,
     "end_time": "2025-07-23T14:37:34.595508",
     "exception": false,
     "start_time": "2025-07-23T14:37:34.565350",
     "status": "completed"
    },
    "tags": []
   },
   "outputs": [],
   "source": [
    "from utils import flatten_once\n",
    "\n",
    "excluded_features_columns = flatten_once(excluded_features_columns)"
   ]
  },
  {
   "cell_type": "code",
   "execution_count": 17,
   "id": "884dea22",
   "metadata": {
    "execution": {
     "iopub.execute_input": "2025-07-23T14:37:34.634812Z",
     "iopub.status.busy": "2025-07-23T14:37:34.634391Z",
     "iopub.status.idle": "2025-07-23T14:37:34.688502Z",
     "shell.execute_reply": "2025-07-23T14:37:34.687361Z"
    },
    "papermill": {
     "duration": 0.07623,
     "end_time": "2025-07-23T14:37:34.690645",
     "exception": false,
     "start_time": "2025-07-23T14:37:34.614415",
     "status": "completed"
    },
    "tags": []
   },
   "outputs": [
    {
     "name": "stdout",
     "output_type": "stream",
     "text": [
      "Dropping features: ['age']\n"
     ]
    }
   ],
   "source": [
    "if len(excluded_features_columns) > 0:\n",
    "    print(f\"Dropping features: {excluded_features_columns}\")\n",
    "    X_train.drop(excluded_features_columns, axis=1, inplace=True)"
   ]
  },
  {
   "cell_type": "code",
   "execution_count": 18,
   "id": "95ab8b16",
   "metadata": {
    "execution": {
     "iopub.execute_input": "2025-07-23T14:37:34.732232Z",
     "iopub.status.busy": "2025-07-23T14:37:34.731812Z",
     "iopub.status.idle": "2025-07-23T14:37:34.791488Z",
     "shell.execute_reply": "2025-07-23T14:37:34.790404Z"
    },
    "papermill": {
     "duration": 0.082278,
     "end_time": "2025-07-23T14:37:34.793226",
     "exception": false,
     "start_time": "2025-07-23T14:37:34.710948",
     "status": "completed"
    },
    "tags": []
   },
   "outputs": [
    {
     "name": "stdout",
     "output_type": "stream",
     "text": [
      "Dropping features: ['age']\n"
     ]
    }
   ],
   "source": [
    "if len(excluded_features_columns) > 0:\n",
    "    print(f\"Dropping features: {excluded_features_columns}\")\n",
    "    X_test.drop(excluded_features_columns, axis=1, inplace=True)"
   ]
  },
  {
   "cell_type": "code",
   "execution_count": 19,
   "id": "1853aaf5-fb9f-46cb-a2b5-8ea4ae2237e4",
   "metadata": {
    "execution": {
     "iopub.execute_input": "2025-07-23T14:37:34.833151Z",
     "iopub.status.busy": "2025-07-23T14:37:34.832598Z",
     "iopub.status.idle": "2025-07-23T14:37:34.891978Z",
     "shell.execute_reply": "2025-07-23T14:37:34.890722Z"
    },
    "papermill": {
     "duration": 0.081951,
     "end_time": "2025-07-23T14:37:34.894292",
     "exception": false,
     "start_time": "2025-07-23T14:37:34.812341",
     "status": "completed"
    },
    "tags": []
   },
   "outputs": [
    {
     "name": "stdout",
     "output_type": "stream",
     "text": [
      "Dropping features: ['age']\n"
     ]
    }
   ],
   "source": [
    "if len(excluded_features_columns) > 0:\n",
    "    print(f\"Dropping features: {excluded_features_columns}\")\n",
    "    X_calib.drop(excluded_features_columns, axis=1, inplace=True)"
   ]
  },
  {
   "cell_type": "code",
   "execution_count": 20,
   "id": "76c4dc6d",
   "metadata": {
    "execution": {
     "iopub.execute_input": "2025-07-23T14:37:34.942894Z",
     "iopub.status.busy": "2025-07-23T14:37:34.942395Z",
     "iopub.status.idle": "2025-07-23T14:37:34.948790Z",
     "shell.execute_reply": "2025-07-23T14:37:34.947254Z"
    },
    "papermill": {
     "duration": 0.030663,
     "end_time": "2025-07-23T14:37:34.950481",
     "exception": false,
     "start_time": "2025-07-23T14:37:34.919818",
     "status": "completed"
    },
    "tags": []
   },
   "outputs": [],
   "source": [
    "# EXCLUDE CERTAIN SUBGROUPS\n",
    "# ----------------------\n",
    "\n",
    "mode = universe.get(\"exclude_subgroups\", \"keep-all\") \n",
    "# Fetches the exclude_subgroups setting from the universe dict.\n",
    "# Defaults to \"keep-all\" if the key is missing."
   ]
  },
  {
   "cell_type": "code",
   "execution_count": 21,
   "id": "21994072",
   "metadata": {
    "execution": {
     "iopub.execute_input": "2025-07-23T14:37:34.991660Z",
     "iopub.status.busy": "2025-07-23T14:37:34.990993Z",
     "iopub.status.idle": "2025-07-23T14:37:35.000754Z",
     "shell.execute_reply": "2025-07-23T14:37:34.999383Z"
    },
    "papermill": {
     "duration": 0.034336,
     "end_time": "2025-07-23T14:37:35.002774",
     "exception": false,
     "start_time": "2025-07-23T14:37:34.968438",
     "status": "completed"
    },
    "tags": []
   },
   "outputs": [],
   "source": [
    "if mode == \"keep-all\":\n",
    "    keep_mask = pd.Series(True, index=org_train.index)\n",
    "\n",
    "# org_train contains the original feature columns from features_org (in Simson)\n",
    "# features_org contains unprocessed features, for me X_train at beginning ???\n",
    "# For keep-all, creates a boolean Series (keep_mask) of all True, so no rows are removed.\n",
    "\n",
    "elif mode == \"drop-non-german\":\n",
    "    keep_mask = org_train[\"maxdeutsch1\"] == 1 # ??? what about missing values?\n",
    "\n",
    "else:\n",
    "    raise ValueError(f\"Unsupported mode for exclude_subgroups: {mode}\")\n"
   ]
  },
  {
   "cell_type": "code",
   "execution_count": 22,
   "id": "71651440",
   "metadata": {
    "execution": {
     "iopub.execute_input": "2025-07-23T14:37:35.047270Z",
     "iopub.status.busy": "2025-07-23T14:37:35.046108Z",
     "iopub.status.idle": "2025-07-23T14:37:35.053986Z",
     "shell.execute_reply": "2025-07-23T14:37:35.052774Z"
    },
    "papermill": {
     "duration": 0.031897,
     "end_time": "2025-07-23T14:37:35.055893",
     "exception": false,
     "start_time": "2025-07-23T14:37:35.023996",
     "status": "completed"
    },
    "tags": []
   },
   "outputs": [],
   "source": [
    "n_drop = (~keep_mask).sum() # Calculates how many rows are set to be dropped\n",
    "if n_drop > 0:\n",
    "    pct = n_drop / len(keep_mask) * 100\n",
    "    print(f\"Dropping {n_drop} rows ({pct:.2f}%) where mode='{mode}'\")"
   ]
  },
  {
   "cell_type": "code",
   "execution_count": 23,
   "id": "5fb8eee5",
   "metadata": {
    "execution": {
     "iopub.execute_input": "2025-07-23T14:37:35.092813Z",
     "iopub.status.busy": "2025-07-23T14:37:35.092176Z",
     "iopub.status.idle": "2025-07-23T14:37:35.151360Z",
     "shell.execute_reply": "2025-07-23T14:37:35.150184Z"
    },
    "papermill": {
     "duration": 0.083829,
     "end_time": "2025-07-23T14:37:35.154022",
     "exception": false,
     "start_time": "2025-07-23T14:37:35.070193",
     "status": "completed"
    },
    "tags": []
   },
   "outputs": [],
   "source": [
    "X_train = X_train[keep_mask]"
   ]
  },
  {
   "cell_type": "code",
   "execution_count": 24,
   "id": "b202bb3a",
   "metadata": {
    "execution": {
     "iopub.execute_input": "2025-07-23T14:37:35.211566Z",
     "iopub.status.busy": "2025-07-23T14:37:35.211119Z",
     "iopub.status.idle": "2025-07-23T14:37:35.221467Z",
     "shell.execute_reply": "2025-07-23T14:37:35.220337Z"
    },
    "papermill": {
     "duration": 0.047147,
     "end_time": "2025-07-23T14:37:35.223284",
     "exception": false,
     "start_time": "2025-07-23T14:37:35.176137",
     "status": "completed"
    },
    "tags": []
   },
   "outputs": [],
   "source": [
    "y_train = y_train[keep_mask]"
   ]
  },
  {
   "cell_type": "markdown",
   "id": "493e2ac3",
   "metadata": {
    "papermill": {
     "duration": 0.020005,
     "end_time": "2025-07-23T14:37:35.280129",
     "exception": false,
     "start_time": "2025-07-23T14:37:35.260124",
     "status": "completed"
    },
    "tags": []
   },
   "source": [
    "# Model Training"
   ]
  },
  {
   "cell_type": "code",
   "execution_count": 25,
   "id": "679e1268",
   "metadata": {
    "execution": {
     "iopub.execute_input": "2025-07-23T14:37:35.347164Z",
     "iopub.status.busy": "2025-07-23T14:37:35.346735Z",
     "iopub.status.idle": "2025-07-23T14:37:35.557462Z",
     "shell.execute_reply": "2025-07-23T14:37:35.556364Z"
    },
    "papermill": {
     "duration": 0.24252,
     "end_time": "2025-07-23T14:37:35.559636",
     "exception": false,
     "start_time": "2025-07-23T14:37:35.317116",
     "status": "completed"
    },
    "tags": []
   },
   "outputs": [],
   "source": [
    "from sklearn.linear_model import LogisticRegression\n",
    "from sklearn.ensemble import GradientBoostingClassifier, RandomForestClassifier\n",
    "\n",
    "if (universe[\"model\"] == \"logreg\"):\n",
    "    model = LogisticRegression() #penalty=\"none\") #, solver=\"newton-cg\", max_iter=1) # include random_state=19 ?\n",
    "elif (universe[\"model\"] == \"penalized_logreg\"):\n",
    "    model = LogisticRegression(penalty=\"l2\", C=1.0) #, solver=\"newton-cg\", max_iter=1)\n",
    "elif (universe[\"model\"] == \"rf\"):\n",
    "    model = RandomForestClassifier(n_estimators=100, n_jobs=-1)\n",
    "elif (universe[\"model\"] == \"gbm\"):\n",
    "    model = GradientBoostingClassifier()\n",
    "elif (universe[\"model\"] == \"elasticnet\"):\n",
    "    model = LogisticRegression(penalty = 'elasticnet', solver = 'saga', l1_ratio = 0.5, max_iter=5000) # which solver to use?\n",
    "else:\n",
    "    raise \"Unsupported universe.model\""
   ]
  },
  {
   "cell_type": "code",
   "execution_count": 26,
   "id": "0cc8f744",
   "metadata": {
    "execution": {
     "iopub.execute_input": "2025-07-23T14:37:35.660369Z",
     "iopub.status.busy": "2025-07-23T14:37:35.659835Z",
     "iopub.status.idle": "2025-07-23T14:37:35.670916Z",
     "shell.execute_reply": "2025-07-23T14:37:35.669725Z"
    },
    "papermill": {
     "duration": 0.055833,
     "end_time": "2025-07-23T14:37:35.673329",
     "exception": false,
     "start_time": "2025-07-23T14:37:35.617496",
     "status": "completed"
    },
    "tags": []
   },
   "outputs": [],
   "source": [
    "import numpy as np\n",
    "from sklearn.pipeline import Pipeline\n",
    "from sklearn.preprocessing import StandardScaler\n",
    "\n",
    "model = Pipeline([\n",
    "    #(\"continuous_processor\", continuous_processor),\n",
    "    #(\"categorical_preprocessor\", categorical_preprocessor),\n",
    "    (\"scale\", StandardScaler() if universe[\"scale\"] == \"scale\" else None), \n",
    "    (\"model\", model),\n",
    "])"
   ]
  },
  {
   "cell_type": "code",
   "execution_count": 27,
   "id": "9442c04d",
   "metadata": {
    "execution": {
     "iopub.execute_input": "2025-07-23T14:37:35.759021Z",
     "iopub.status.busy": "2025-07-23T14:37:35.758602Z",
     "iopub.status.idle": "2025-07-23T14:37:45.676413Z",
     "shell.execute_reply": "2025-07-23T14:37:45.675073Z"
    },
    "papermill": {
     "duration": 9.960156,
     "end_time": "2025-07-23T14:37:45.678817",
     "exception": false,
     "start_time": "2025-07-23T14:37:35.718661",
     "status": "completed"
    },
    "tags": []
   },
   "outputs": [
    {
     "data": {
      "text/html": [
       "<style>#sk-container-id-1 {color: black;background-color: white;}#sk-container-id-1 pre{padding: 0;}#sk-container-id-1 div.sk-toggleable {background-color: white;}#sk-container-id-1 label.sk-toggleable__label {cursor: pointer;display: block;width: 100%;margin-bottom: 0;padding: 0.3em;box-sizing: border-box;text-align: center;}#sk-container-id-1 label.sk-toggleable__label-arrow:before {content: \"▸\";float: left;margin-right: 0.25em;color: #696969;}#sk-container-id-1 label.sk-toggleable__label-arrow:hover:before {color: black;}#sk-container-id-1 div.sk-estimator:hover label.sk-toggleable__label-arrow:before {color: black;}#sk-container-id-1 div.sk-toggleable__content {max-height: 0;max-width: 0;overflow: hidden;text-align: left;background-color: #f0f8ff;}#sk-container-id-1 div.sk-toggleable__content pre {margin: 0.2em;color: black;border-radius: 0.25em;background-color: #f0f8ff;}#sk-container-id-1 input.sk-toggleable__control:checked~div.sk-toggleable__content {max-height: 200px;max-width: 100%;overflow: auto;}#sk-container-id-1 input.sk-toggleable__control:checked~label.sk-toggleable__label-arrow:before {content: \"▾\";}#sk-container-id-1 div.sk-estimator input.sk-toggleable__control:checked~label.sk-toggleable__label {background-color: #d4ebff;}#sk-container-id-1 div.sk-label input.sk-toggleable__control:checked~label.sk-toggleable__label {background-color: #d4ebff;}#sk-container-id-1 input.sk-hidden--visually {border: 0;clip: rect(1px 1px 1px 1px);clip: rect(1px, 1px, 1px, 1px);height: 1px;margin: -1px;overflow: hidden;padding: 0;position: absolute;width: 1px;}#sk-container-id-1 div.sk-estimator {font-family: monospace;background-color: #f0f8ff;border: 1px dotted black;border-radius: 0.25em;box-sizing: border-box;margin-bottom: 0.5em;}#sk-container-id-1 div.sk-estimator:hover {background-color: #d4ebff;}#sk-container-id-1 div.sk-parallel-item::after {content: \"\";width: 100%;border-bottom: 1px solid gray;flex-grow: 1;}#sk-container-id-1 div.sk-label:hover label.sk-toggleable__label {background-color: #d4ebff;}#sk-container-id-1 div.sk-serial::before {content: \"\";position: absolute;border-left: 1px solid gray;box-sizing: border-box;top: 0;bottom: 0;left: 50%;z-index: 0;}#sk-container-id-1 div.sk-serial {display: flex;flex-direction: column;align-items: center;background-color: white;padding-right: 0.2em;padding-left: 0.2em;position: relative;}#sk-container-id-1 div.sk-item {position: relative;z-index: 1;}#sk-container-id-1 div.sk-parallel {display: flex;align-items: stretch;justify-content: center;background-color: white;position: relative;}#sk-container-id-1 div.sk-item::before, #sk-container-id-1 div.sk-parallel-item::before {content: \"\";position: absolute;border-left: 1px solid gray;box-sizing: border-box;top: 0;bottom: 0;left: 50%;z-index: -1;}#sk-container-id-1 div.sk-parallel-item {display: flex;flex-direction: column;z-index: 1;position: relative;background-color: white;}#sk-container-id-1 div.sk-parallel-item:first-child::after {align-self: flex-end;width: 50%;}#sk-container-id-1 div.sk-parallel-item:last-child::after {align-self: flex-start;width: 50%;}#sk-container-id-1 div.sk-parallel-item:only-child::after {width: 0;}#sk-container-id-1 div.sk-dashed-wrapped {border: 1px dashed gray;margin: 0 0.4em 0.5em 0.4em;box-sizing: border-box;padding-bottom: 0.4em;background-color: white;}#sk-container-id-1 div.sk-label label {font-family: monospace;font-weight: bold;display: inline-block;line-height: 1.2em;}#sk-container-id-1 div.sk-label-container {text-align: center;}#sk-container-id-1 div.sk-container {/* jupyter's `normalize.less` sets `[hidden] { display: none; }` but bootstrap.min.css set `[hidden] { display: none !important; }` so we also need the `!important` here to be able to override the default hidden behavior on the sphinx rendered scikit-learn.org. See: https://github.com/scikit-learn/scikit-learn/issues/21755 */display: inline-block !important;position: relative;}#sk-container-id-1 div.sk-text-repr-fallback {display: none;}</style><div id=\"sk-container-id-1\" class=\"sk-top-container\"><div class=\"sk-text-repr-fallback\"><pre>Pipeline(steps=[(&#x27;scale&#x27;, None), (&#x27;model&#x27;, RandomForestClassifier(n_jobs=-1))])</pre><b>In a Jupyter environment, please rerun this cell to show the HTML representation or trust the notebook. <br />On GitHub, the HTML representation is unable to render, please try loading this page with nbviewer.org.</b></div><div class=\"sk-container\" hidden><div class=\"sk-item sk-dashed-wrapped\"><div class=\"sk-label-container\"><div class=\"sk-label sk-toggleable\"><input class=\"sk-toggleable__control sk-hidden--visually\" id=\"sk-estimator-id-1\" type=\"checkbox\" ><label for=\"sk-estimator-id-1\" class=\"sk-toggleable__label sk-toggleable__label-arrow\">Pipeline</label><div class=\"sk-toggleable__content\"><pre>Pipeline(steps=[(&#x27;scale&#x27;, None), (&#x27;model&#x27;, RandomForestClassifier(n_jobs=-1))])</pre></div></div></div><div class=\"sk-serial\"><div class=\"sk-item\"><div class=\"sk-estimator sk-toggleable\"><input class=\"sk-toggleable__control sk-hidden--visually\" id=\"sk-estimator-id-2\" type=\"checkbox\" ><label for=\"sk-estimator-id-2\" class=\"sk-toggleable__label sk-toggleable__label-arrow\">None</label><div class=\"sk-toggleable__content\"><pre>None</pre></div></div></div><div class=\"sk-item\"><div class=\"sk-estimator sk-toggleable\"><input class=\"sk-toggleable__control sk-hidden--visually\" id=\"sk-estimator-id-3\" type=\"checkbox\" ><label for=\"sk-estimator-id-3\" class=\"sk-toggleable__label sk-toggleable__label-arrow\">RandomForestClassifier</label><div class=\"sk-toggleable__content\"><pre>RandomForestClassifier(n_jobs=-1)</pre></div></div></div></div></div></div></div>"
      ],
      "text/plain": [
       "Pipeline(steps=[('scale', None), ('model', RandomForestClassifier(n_jobs=-1))])"
      ]
     },
     "execution_count": 27,
     "metadata": {},
     "output_type": "execute_result"
    }
   ],
   "source": [
    "model.fit(X_train, y_train.values.ravel())"
   ]
  },
  {
   "cell_type": "code",
   "execution_count": 28,
   "id": "af59f8c0",
   "metadata": {
    "execution": {
     "iopub.execute_input": "2025-07-23T14:37:45.755489Z",
     "iopub.status.busy": "2025-07-23T14:37:45.754993Z",
     "iopub.status.idle": "2025-07-23T14:37:45.761973Z",
     "shell.execute_reply": "2025-07-23T14:37:45.760770Z"
    },
    "papermill": {
     "duration": 0.05894,
     "end_time": "2025-07-23T14:37:45.763831",
     "exception": false,
     "start_time": "2025-07-23T14:37:45.704891",
     "status": "completed"
    },
    "tags": []
   },
   "outputs": [],
   "source": [
    "from fairness_multiverse.universe import predict_w_threshold"
   ]
  },
  {
   "cell_type": "code",
   "execution_count": 29,
   "id": "a7cf2e16",
   "metadata": {
    "execution": {
     "iopub.execute_input": "2025-07-23T14:37:45.836425Z",
     "iopub.status.busy": "2025-07-23T14:37:45.835922Z",
     "iopub.status.idle": "2025-07-23T14:37:47.823969Z",
     "shell.execute_reply": "2025-07-23T14:37:47.822870Z"
    },
    "papermill": {
     "duration": 2.024051,
     "end_time": "2025-07-23T14:37:47.825848",
     "exception": false,
     "start_time": "2025-07-23T14:37:45.801797",
     "status": "completed"
    },
    "tags": []
   },
   "outputs": [
    {
     "data": {
      "text/plain": [
       "0.8678408204213577"
      ]
     },
     "execution_count": 29,
     "metadata": {},
     "output_type": "execute_result"
    }
   ],
   "source": [
    "probs_test = model.predict_proba(X_test)\n",
    "\n",
    "'''\n",
    "Below code returns a boolean array (or binary 0/1 array depending on how it’s used) where each element \n",
    "is True if the probability of class 1 is greater than or equal to the threshold, and False otherwise.\n",
    "'''\n",
    "y_pred_default = predict_w_threshold(probs_test, 0.5)\n",
    "\n",
    "from sklearn.metrics import accuracy_score\n",
    "\n",
    "# Naive prediction\n",
    "accuracy_score(y_true = y_true, y_pred = y_pred_default)"
   ]
  },
  {
   "cell_type": "code",
   "execution_count": 30,
   "id": "081964c3",
   "metadata": {
    "execution": {
     "iopub.execute_input": "2025-07-23T14:37:47.932472Z",
     "iopub.status.busy": "2025-07-23T14:37:47.931898Z",
     "iopub.status.idle": "2025-07-23T14:37:49.812596Z",
     "shell.execute_reply": "2025-07-23T14:37:49.811517Z"
    },
    "papermill": {
     "duration": 1.935201,
     "end_time": "2025-07-23T14:37:49.814508",
     "exception": false,
     "start_time": "2025-07-23T14:37:47.879307",
     "status": "completed"
    },
    "tags": []
   },
   "outputs": [
    {
     "data": {
      "text/plain": [
       "array([0, 0, 0, ..., 0, 0, 0])"
      ]
     },
     "execution_count": 30,
     "metadata": {},
     "output_type": "execute_result"
    }
   ],
   "source": [
    "model.predict(X_test)"
   ]
  },
  {
   "cell_type": "markdown",
   "id": "56c9705b",
   "metadata": {
    "papermill": {
     "duration": 0.041312,
     "end_time": "2025-07-23T14:37:49.894148",
     "exception": false,
     "start_time": "2025-07-23T14:37:49.852836",
     "status": "completed"
    },
    "tags": []
   },
   "source": [
    "# Conformal Prediction"
   ]
  },
  {
   "cell_type": "code",
   "execution_count": 31,
   "id": "160ec6ff",
   "metadata": {
    "execution": {
     "iopub.execute_input": "2025-07-23T14:37:49.986400Z",
     "iopub.status.busy": "2025-07-23T14:37:49.985971Z",
     "iopub.status.idle": "2025-07-23T14:37:49.992163Z",
     "shell.execute_reply": "2025-07-23T14:37:49.990941Z"
    },
    "papermill": {
     "duration": 0.050915,
     "end_time": "2025-07-23T14:37:49.994206",
     "exception": false,
     "start_time": "2025-07-23T14:37:49.943291",
     "status": "completed"
    },
    "tags": []
   },
   "outputs": [],
   "source": [
    "# Miscoverage level for conformal prediction (10% allowed error rate => 90% target coverage)\n",
    "alpha = 0.1"
   ]
  },
  {
   "cell_type": "code",
   "execution_count": 32,
   "id": "eadf4555-3dd3-440e-8e35-f82a4ad9f855",
   "metadata": {
    "execution": {
     "iopub.execute_input": "2025-07-23T14:37:50.094907Z",
     "iopub.status.busy": "2025-07-23T14:37:50.094436Z",
     "iopub.status.idle": "2025-07-23T14:37:52.044362Z",
     "shell.execute_reply": "2025-07-23T14:37:52.043339Z"
    },
    "papermill": {
     "duration": 2.005788,
     "end_time": "2025-07-23T14:37:52.046921",
     "exception": false,
     "start_time": "2025-07-23T14:37:50.041133",
     "status": "completed"
    },
    "tags": []
   },
   "outputs": [],
   "source": [
    "probs_calib = model.predict_proba(X_calib)"
   ]
  },
  {
   "cell_type": "code",
   "execution_count": 33,
   "id": "2ed93547-6d5d-4983-9b36-1ecb300da49a",
   "metadata": {
    "execution": {
     "iopub.execute_input": "2025-07-23T14:37:52.125353Z",
     "iopub.status.busy": "2025-07-23T14:37:52.124931Z",
     "iopub.status.idle": "2025-07-23T14:37:52.131742Z",
     "shell.execute_reply": "2025-07-23T14:37:52.130566Z"
    },
    "papermill": {
     "duration": 0.048686,
     "end_time": "2025-07-23T14:37:52.133584",
     "exception": false,
     "start_time": "2025-07-23T14:37:52.084898",
     "status": "completed"
    },
    "tags": []
   },
   "outputs": [],
   "source": [
    "y_calib = y_calib.values.ravel().astype(int)"
   ]
  },
  {
   "cell_type": "code",
   "execution_count": 34,
   "id": "65d1320d-f588-4b38-9072-62af1ae97f7d",
   "metadata": {
    "execution": {
     "iopub.execute_input": "2025-07-23T14:37:52.221679Z",
     "iopub.status.busy": "2025-07-23T14:37:52.221253Z",
     "iopub.status.idle": "2025-07-23T14:37:52.229188Z",
     "shell.execute_reply": "2025-07-23T14:37:52.228157Z"
    },
    "papermill": {
     "duration": 0.050055,
     "end_time": "2025-07-23T14:37:52.231079",
     "exception": false,
     "start_time": "2025-07-23T14:37:52.181024",
     "status": "completed"
    },
    "tags": []
   },
   "outputs": [],
   "source": [
    "from fairness_multiverse.conformal import compute_nc_scores\n",
    "\n",
    "# Compute nonconformity scores on calibration set (1 - probability of true class)\n",
    "nc_scores = compute_nc_scores(probs_calib, y_calib)"
   ]
  },
  {
   "cell_type": "code",
   "execution_count": 35,
   "id": "df3b8ca3-53b7-43d5-9667-7c85da7aeda2",
   "metadata": {
    "execution": {
     "iopub.execute_input": "2025-07-23T14:37:52.312357Z",
     "iopub.status.busy": "2025-07-23T14:37:52.311896Z",
     "iopub.status.idle": "2025-07-23T14:37:52.319823Z",
     "shell.execute_reply": "2025-07-23T14:37:52.318743Z"
    },
    "papermill": {
     "duration": 0.053077,
     "end_time": "2025-07-23T14:37:52.326245",
     "exception": false,
     "start_time": "2025-07-23T14:37:52.273168",
     "status": "completed"
    },
    "tags": []
   },
   "outputs": [],
   "source": [
    "from fairness_multiverse.conformal import find_threshold\n",
    "\n",
    "# Find conformal threshold q_hat for the given alpha (split conformal method)\n",
    "q_hat = find_threshold(nc_scores, alpha)"
   ]
  },
  {
   "cell_type": "code",
   "execution_count": 36,
   "id": "4d29e6c1-0ef6-4aa4-b8fe-4fe79b0d033a",
   "metadata": {
    "execution": {
     "iopub.execute_input": "2025-07-23T14:37:52.400648Z",
     "iopub.status.busy": "2025-07-23T14:37:52.400155Z",
     "iopub.status.idle": "2025-07-23T14:37:52.408175Z",
     "shell.execute_reply": "2025-07-23T14:37:52.407207Z"
    },
    "papermill": {
     "duration": 0.044866,
     "end_time": "2025-07-23T14:37:52.412903",
     "exception": false,
     "start_time": "2025-07-23T14:37:52.368037",
     "status": "completed"
    },
    "tags": []
   },
   "outputs": [
    {
     "data": {
      "text/plain": [
       "0.6599999999999999"
      ]
     },
     "execution_count": 36,
     "metadata": {},
     "output_type": "execute_result"
    }
   ],
   "source": [
    "q_hat"
   ]
  },
  {
   "cell_type": "code",
   "execution_count": 37,
   "id": "92460794-cdac-4be2-ba28-f28c0515a6fb",
   "metadata": {
    "execution": {
     "iopub.execute_input": "2025-07-23T14:37:52.494802Z",
     "iopub.status.busy": "2025-07-23T14:37:52.494359Z",
     "iopub.status.idle": "2025-07-23T14:37:55.473159Z",
     "shell.execute_reply": "2025-07-23T14:37:55.472356Z"
    },
    "papermill": {
     "duration": 3.039501,
     "end_time": "2025-07-23T14:37:55.474699",
     "exception": false,
     "start_time": "2025-07-23T14:37:52.435198",
     "status": "completed"
    },
    "tags": []
   },
   "outputs": [],
   "source": [
    "from fairness_multiverse.conformal import predict_conformal_sets\n",
    "\n",
    "# Generate prediction sets for each test example\n",
    "pred_sets = predict_conformal_sets(model, X_test, q_hat)"
   ]
  },
  {
   "cell_type": "code",
   "execution_count": 38,
   "id": "d90c9a65-e6db-4f5d-80cd-e68fb7e46829",
   "metadata": {
    "execution": {
     "iopub.execute_input": "2025-07-23T14:37:55.498913Z",
     "iopub.status.busy": "2025-07-23T14:37:55.498162Z",
     "iopub.status.idle": "2025-07-23T14:37:55.503358Z",
     "shell.execute_reply": "2025-07-23T14:37:55.502524Z"
    },
    "papermill": {
     "duration": 0.019024,
     "end_time": "2025-07-23T14:37:55.504980",
     "exception": false,
     "start_time": "2025-07-23T14:37:55.485956",
     "status": "completed"
    },
    "tags": []
   },
   "outputs": [],
   "source": [
    "y_true = y_true.squeeze()"
   ]
  },
  {
   "cell_type": "code",
   "execution_count": 39,
   "id": "3a58a54a-1e68-46b9-927a-df01f18aebc8",
   "metadata": {
    "execution": {
     "iopub.execute_input": "2025-07-23T14:37:55.530097Z",
     "iopub.status.busy": "2025-07-23T14:37:55.529161Z",
     "iopub.status.idle": "2025-07-23T14:37:56.893834Z",
     "shell.execute_reply": "2025-07-23T14:37:56.892613Z"
    },
    "papermill": {
     "duration": 1.37869,
     "end_time": "2025-07-23T14:37:56.895754",
     "exception": false,
     "start_time": "2025-07-23T14:37:55.517064",
     "status": "completed"
    },
    "tags": []
   },
   "outputs": [],
   "source": [
    "from fairness_multiverse.conformal import evaluate_sets\n",
    "\n",
    "# Evaluate coverage and average set size on test data\n",
    "metrics = evaluate_sets(pred_sets, y_true)"
   ]
  },
  {
   "cell_type": "code",
   "execution_count": 40,
   "id": "5ce0a5cb-201f-45a0-ade5-94c7f0bd6095",
   "metadata": {
    "execution": {
     "iopub.execute_input": "2025-07-23T14:37:56.981555Z",
     "iopub.status.busy": "2025-07-23T14:37:56.981127Z",
     "iopub.status.idle": "2025-07-23T14:37:56.991015Z",
     "shell.execute_reply": "2025-07-23T14:37:56.989975Z"
    },
    "papermill": {
     "duration": 0.064271,
     "end_time": "2025-07-23T14:37:56.993240",
     "exception": false,
     "start_time": "2025-07-23T14:37:56.928969",
     "status": "completed"
    },
    "tags": []
   },
   "outputs": [
    {
     "data": {
      "text/plain": [
       "{'coverage': 0.9175454241444655, 'avg_size': 1.1459146137554341}"
      ]
     },
     "execution_count": 40,
     "metadata": {},
     "output_type": "execute_result"
    }
   ],
   "source": [
    "metrics"
   ]
  },
  {
   "cell_type": "code",
   "execution_count": 41,
   "id": "9b9a838d-31c9-430b-ae14-12baee460d17",
   "metadata": {
    "execution": {
     "iopub.execute_input": "2025-07-23T14:37:57.077233Z",
     "iopub.status.busy": "2025-07-23T14:37:57.076412Z",
     "iopub.status.idle": "2025-07-23T14:37:57.083928Z",
     "shell.execute_reply": "2025-07-23T14:37:57.082886Z"
    },
    "papermill": {
     "duration": 0.072883,
     "end_time": "2025-07-23T14:37:57.088642",
     "exception": false,
     "start_time": "2025-07-23T14:37:57.015759",
     "status": "completed"
    },
    "tags": []
   },
   "outputs": [],
   "source": [
    "example_universe = universe.copy()\n",
    "universe_model = example_universe.get(\"model\")\n",
    "universe_exclude_features = example_universe.get(\"exclude_features\")\n",
    "universe_exclude_subgroups = example_universe.get(\"exclude_subgroups\")\n",
    "universe_scale = example_universe.get(\"scale\")"
   ]
  },
  {
   "cell_type": "code",
   "execution_count": 42,
   "id": "f4b6a8ac-9dc0-4245-8a91-5b3b5999c4f9",
   "metadata": {
    "execution": {
     "iopub.execute_input": "2025-07-23T14:37:57.193459Z",
     "iopub.status.busy": "2025-07-23T14:37:57.192973Z",
     "iopub.status.idle": "2025-07-23T14:37:57.200112Z",
     "shell.execute_reply": "2025-07-23T14:37:57.198964Z"
    },
    "papermill": {
     "duration": 0.055256,
     "end_time": "2025-07-23T14:37:57.201913",
     "exception": false,
     "start_time": "2025-07-23T14:37:57.146657",
     "status": "completed"
    },
    "tags": []
   },
   "outputs": [],
   "source": [
    "cp_metrics_dict = {\n",
    "    \"universe_id\": [universe_id],\n",
    "    \"universe_model\": [universe_model],\n",
    "    \"universe_exclude_features\": [universe_exclude_features],\n",
    "    \"universe_exclude_subgroups\": [universe_exclude_subgroups],\n",
    "    \"universe_scale\": [universe_scale],\n",
    "    \"q_hat\": [q_hat],\n",
    "    \"coverage\": [metrics[\"coverage\"]],\n",
    "    \"avg_size\": [metrics[\"avg_size\"]],\n",
    "}"
   ]
  },
  {
   "cell_type": "code",
   "execution_count": 43,
   "id": "908acbb1-0371-4915-85ca-3fa520d2efe2",
   "metadata": {
    "execution": {
     "iopub.execute_input": "2025-07-23T14:37:57.249808Z",
     "iopub.status.busy": "2025-07-23T14:37:57.249316Z",
     "iopub.status.idle": "2025-07-23T14:37:57.258622Z",
     "shell.execute_reply": "2025-07-23T14:37:57.257237Z"
    },
    "papermill": {
     "duration": 0.039002,
     "end_time": "2025-07-23T14:37:57.264179",
     "exception": false,
     "start_time": "2025-07-23T14:37:57.225177",
     "status": "completed"
    },
    "tags": []
   },
   "outputs": [
    {
     "data": {
      "text/plain": [
       "{'universe_id': ['9f7eaa655a0040c6f967a066a8bb55b8'],\n",
       " 'universe_model': ['rf'],\n",
       " 'universe_exclude_features': ['age'],\n",
       " 'universe_exclude_subgroups': ['keep-all'],\n",
       " 'universe_scale': ['do-not-scale'],\n",
       " 'q_hat': [0.6599999999999999],\n",
       " 'coverage': [0.9175454241444655],\n",
       " 'avg_size': [1.1459146137554341]}"
      ]
     },
     "execution_count": 43,
     "metadata": {},
     "output_type": "execute_result"
    }
   ],
   "source": [
    "cp_metrics_dict"
   ]
  },
  {
   "cell_type": "code",
   "execution_count": 44,
   "id": "33007efc-14e9-4ec6-97ac-56a455c82265",
   "metadata": {
    "execution": {
     "iopub.execute_input": "2025-07-23T14:37:57.313182Z",
     "iopub.status.busy": "2025-07-23T14:37:57.312744Z",
     "iopub.status.idle": "2025-07-23T14:37:57.320133Z",
     "shell.execute_reply": "2025-07-23T14:37:57.318974Z"
    },
    "papermill": {
     "duration": 0.036136,
     "end_time": "2025-07-23T14:37:57.324015",
     "exception": false,
     "start_time": "2025-07-23T14:37:57.287879",
     "status": "completed"
    },
    "tags": []
   },
   "outputs": [],
   "source": [
    "cp_metrics_df = pd.DataFrame(cp_metrics_dict)"
   ]
  },
  {
   "cell_type": "code",
   "execution_count": 45,
   "id": "db12611b-57b2-4910-b9d0-355adfd6e7bf",
   "metadata": {
    "execution": {
     "iopub.execute_input": "2025-07-23T14:37:57.374931Z",
     "iopub.status.busy": "2025-07-23T14:37:57.374409Z",
     "iopub.status.idle": "2025-07-23T14:37:57.408715Z",
     "shell.execute_reply": "2025-07-23T14:37:57.407506Z"
    },
    "papermill": {
     "duration": 0.062582,
     "end_time": "2025-07-23T14:37:57.411146",
     "exception": false,
     "start_time": "2025-07-23T14:37:57.348564",
     "status": "completed"
    },
    "tags": []
   },
   "outputs": [
    {
     "data": {
      "text/html": [
       "<div>\n",
       "<style scoped>\n",
       "    .dataframe tbody tr th:only-of-type {\n",
       "        vertical-align: middle;\n",
       "    }\n",
       "\n",
       "    .dataframe tbody tr th {\n",
       "        vertical-align: top;\n",
       "    }\n",
       "\n",
       "    .dataframe thead th {\n",
       "        text-align: right;\n",
       "    }\n",
       "</style>\n",
       "<table border=\"1\" class=\"dataframe\">\n",
       "  <thead>\n",
       "    <tr style=\"text-align: right;\">\n",
       "      <th></th>\n",
       "      <th>universe_id</th>\n",
       "      <th>universe_model</th>\n",
       "      <th>universe_exclude_features</th>\n",
       "      <th>universe_exclude_subgroups</th>\n",
       "      <th>universe_scale</th>\n",
       "      <th>q_hat</th>\n",
       "      <th>coverage</th>\n",
       "      <th>avg_size</th>\n",
       "    </tr>\n",
       "  </thead>\n",
       "  <tbody>\n",
       "    <tr>\n",
       "      <th>0</th>\n",
       "      <td>9f7eaa655a0040c6f967a066a8bb55b8</td>\n",
       "      <td>rf</td>\n",
       "      <td>age</td>\n",
       "      <td>keep-all</td>\n",
       "      <td>do-not-scale</td>\n",
       "      <td>0.66</td>\n",
       "      <td>0.917545</td>\n",
       "      <td>1.145915</td>\n",
       "    </tr>\n",
       "  </tbody>\n",
       "</table>\n",
       "</div>"
      ],
      "text/plain": [
       "                        universe_id universe_model universe_exclude_features  \\\n",
       "0  9f7eaa655a0040c6f967a066a8bb55b8             rf                       age   \n",
       "\n",
       "  universe_exclude_subgroups universe_scale  q_hat  coverage  avg_size  \n",
       "0                   keep-all   do-not-scale   0.66  0.917545  1.145915  "
      ]
     },
     "execution_count": 45,
     "metadata": {},
     "output_type": "execute_result"
    }
   ],
   "source": [
    "cp_metrics_df"
   ]
  },
  {
   "cell_type": "code",
   "execution_count": 46,
   "id": "b7fbde55-a0a1-47e4-9af6-fe4a17fa8c61",
   "metadata": {
    "execution": {
     "iopub.execute_input": "2025-07-23T14:37:57.499437Z",
     "iopub.status.busy": "2025-07-23T14:37:57.498966Z",
     "iopub.status.idle": "2025-07-23T14:37:57.505170Z",
     "shell.execute_reply": "2025-07-23T14:37:57.504123Z"
    },
    "papermill": {
     "duration": 0.038032,
     "end_time": "2025-07-23T14:37:57.506852",
     "exception": false,
     "start_time": "2025-07-23T14:37:57.468820",
     "status": "completed"
    },
    "tags": []
   },
   "outputs": [],
   "source": [
    "# Conditional Coverage & looking at subgroups"
   ]
  },
  {
   "cell_type": "code",
   "execution_count": 47,
   "id": "027ae886-68dd-4141-96c7-805a5450e1ef",
   "metadata": {
    "execution": {
     "iopub.execute_input": "2025-07-23T14:37:57.625713Z",
     "iopub.status.busy": "2025-07-23T14:37:57.625272Z",
     "iopub.status.idle": "2025-07-23T14:37:58.087269Z",
     "shell.execute_reply": "2025-07-23T14:37:58.086155Z"
    },
    "papermill": {
     "duration": 0.505919,
     "end_time": "2025-07-23T14:37:58.089297",
     "exception": false,
     "start_time": "2025-07-23T14:37:57.583378",
     "status": "completed"
    },
    "tags": []
   },
   "outputs": [],
   "source": [
    "from fairness_multiverse.conformal import build_cp_groups\n",
    "\n",
    "cp_groups_df = build_cp_groups(pred_sets, y_true, X_test.index, org_test)\n",
    "#needs universe_id and setting"
   ]
  },
  {
   "cell_type": "code",
   "execution_count": 48,
   "id": "c3b92545-903e-4839-89af-0f057907d7d6",
   "metadata": {
    "execution": {
     "iopub.execute_input": "2025-07-23T14:37:58.138016Z",
     "iopub.status.busy": "2025-07-23T14:37:58.137539Z",
     "iopub.status.idle": "2025-07-23T14:38:00.081941Z",
     "shell.execute_reply": "2025-07-23T14:38:00.080800Z"
    },
    "papermill": {
     "duration": 1.971353,
     "end_time": "2025-07-23T14:38:00.083942",
     "exception": false,
     "start_time": "2025-07-23T14:37:58.112589",
     "status": "completed"
    },
    "tags": []
   },
   "outputs": [],
   "source": [
    "# Define covered = 1 if true_label is in the predicted set\n",
    "cp_groups_df['covered'] = cp_groups_df.apply(\n",
    "    lambda r: int(r['true_label'] in r['pred_set']),\n",
    "    axis=1\n",
    ")"
   ]
  },
  {
   "cell_type": "code",
   "execution_count": 49,
   "id": "338ff529-1a6b-4b87-a931-8e4788d52aad",
   "metadata": {
    "execution": {
     "iopub.execute_input": "2025-07-23T14:38:00.203871Z",
     "iopub.status.busy": "2025-07-23T14:38:00.203384Z",
     "iopub.status.idle": "2025-07-23T14:38:00.208957Z",
     "shell.execute_reply": "2025-07-23T14:38:00.207907Z"
    },
    "papermill": {
     "duration": 0.089042,
     "end_time": "2025-07-23T14:38:00.210840",
     "exception": false,
     "start_time": "2025-07-23T14:38:00.121798",
     "status": "completed"
    },
    "tags": []
   },
   "outputs": [],
   "source": [
    "#cp_groups_df"
   ]
  },
  {
   "cell_type": "code",
   "execution_count": 50,
   "id": "90032e27-66df-4540-9169-4e89cfbaa758",
   "metadata": {
    "execution": {
     "iopub.execute_input": "2025-07-23T14:38:00.312782Z",
     "iopub.status.busy": "2025-07-23T14:38:00.312269Z",
     "iopub.status.idle": "2025-07-23T14:38:00.333722Z",
     "shell.execute_reply": "2025-07-23T14:38:00.332621Z"
    },
    "papermill": {
     "duration": 0.072809,
     "end_time": "2025-07-23T14:38:00.335571",
     "exception": false,
     "start_time": "2025-07-23T14:38:00.262762",
     "status": "completed"
    },
    "tags": []
   },
   "outputs": [],
   "source": [
    "subgroups = ['frau1','nongerman','nongerman_male','nongerman_female']\n",
    "\n",
    "# Conditional coverage for subgroup==1\n",
    "cond_coverage = {\n",
    "    g: cp_groups_df.loc[cp_groups_df[g]==1, 'covered'].mean()\n",
    "    for g in subgroups\n",
    "}"
   ]
  },
  {
   "cell_type": "code",
   "execution_count": 51,
   "id": "1e348fb1-b9c3-45bc-ba23-f016827a7e0d",
   "metadata": {
    "execution": {
     "iopub.execute_input": "2025-07-23T14:38:00.442740Z",
     "iopub.status.busy": "2025-07-23T14:38:00.442025Z",
     "iopub.status.idle": "2025-07-23T14:38:00.452013Z",
     "shell.execute_reply": "2025-07-23T14:38:00.450400Z"
    },
    "papermill": {
     "duration": 0.04891,
     "end_time": "2025-07-23T14:38:00.454185",
     "exception": false,
     "start_time": "2025-07-23T14:38:00.405275",
     "status": "completed"
    },
    "tags": []
   },
   "outputs": [
    {
     "data": {
      "text/plain": [
       "{'frau1': 0.9175899716942985,\n",
       " 'nongerman': 0.9131533149946668,\n",
       " 'nongerman_male': 0.9261460866432496,\n",
       " 'nongerman_female': 0.8916542473919523}"
      ]
     },
     "execution_count": 51,
     "metadata": {},
     "output_type": "execute_result"
    }
   ],
   "source": [
    "cond_coverage"
   ]
  },
  {
   "cell_type": "code",
   "execution_count": 52,
   "id": "f5093324-c3dd-4d63-bc4c-8d945e5c8bbb",
   "metadata": {
    "execution": {
     "iopub.execute_input": "2025-07-23T14:38:00.548153Z",
     "iopub.status.busy": "2025-07-23T14:38:00.547538Z",
     "iopub.status.idle": "2025-07-23T14:38:00.558940Z",
     "shell.execute_reply": "2025-07-23T14:38:00.557425Z"
    },
    "papermill": {
     "duration": 0.068279,
     "end_time": "2025-07-23T14:38:00.561107",
     "exception": false,
     "start_time": "2025-07-23T14:38:00.492828",
     "status": "completed"
    },
    "tags": []
   },
   "outputs": [],
   "source": [
    "for subgroup, cov in cond_coverage.items():\n",
    "    cp_metrics_df[f\"cov_{subgroup}\"] = cov"
   ]
  },
  {
   "cell_type": "code",
   "execution_count": 53,
   "id": "6e872e10-dbe5-49e8-b554-5030c98ff75d",
   "metadata": {
    "execution": {
     "iopub.execute_input": "2025-07-23T14:38:00.682779Z",
     "iopub.status.busy": "2025-07-23T14:38:00.682365Z",
     "iopub.status.idle": "2025-07-23T14:38:00.743080Z",
     "shell.execute_reply": "2025-07-23T14:38:00.716678Z"
    },
    "papermill": {
     "duration": 0.12838,
     "end_time": "2025-07-23T14:38:00.745449",
     "exception": false,
     "start_time": "2025-07-23T14:38:00.617069",
     "status": "completed"
    },
    "tags": []
   },
   "outputs": [
    {
     "data": {
      "text/html": [
       "<div>\n",
       "<style scoped>\n",
       "    .dataframe tbody tr th:only-of-type {\n",
       "        vertical-align: middle;\n",
       "    }\n",
       "\n",
       "    .dataframe tbody tr th {\n",
       "        vertical-align: top;\n",
       "    }\n",
       "\n",
       "    .dataframe thead th {\n",
       "        text-align: right;\n",
       "    }\n",
       "</style>\n",
       "<table border=\"1\" class=\"dataframe\">\n",
       "  <thead>\n",
       "    <tr style=\"text-align: right;\">\n",
       "      <th></th>\n",
       "      <th>universe_id</th>\n",
       "      <th>universe_model</th>\n",
       "      <th>universe_exclude_features</th>\n",
       "      <th>universe_exclude_subgroups</th>\n",
       "      <th>universe_scale</th>\n",
       "      <th>q_hat</th>\n",
       "      <th>coverage</th>\n",
       "      <th>avg_size</th>\n",
       "      <th>cov_frau1</th>\n",
       "      <th>cov_nongerman</th>\n",
       "      <th>cov_nongerman_male</th>\n",
       "      <th>cov_nongerman_female</th>\n",
       "    </tr>\n",
       "  </thead>\n",
       "  <tbody>\n",
       "    <tr>\n",
       "      <th>0</th>\n",
       "      <td>9f7eaa655a0040c6f967a066a8bb55b8</td>\n",
       "      <td>rf</td>\n",
       "      <td>age</td>\n",
       "      <td>keep-all</td>\n",
       "      <td>do-not-scale</td>\n",
       "      <td>0.66</td>\n",
       "      <td>0.917545</td>\n",
       "      <td>1.145915</td>\n",
       "      <td>0.91759</td>\n",
       "      <td>0.913153</td>\n",
       "      <td>0.926146</td>\n",
       "      <td>0.891654</td>\n",
       "    </tr>\n",
       "  </tbody>\n",
       "</table>\n",
       "</div>"
      ],
      "text/plain": [
       "                        universe_id universe_model universe_exclude_features  \\\n",
       "0  9f7eaa655a0040c6f967a066a8bb55b8             rf                       age   \n",
       "\n",
       "  universe_exclude_subgroups universe_scale  q_hat  coverage  avg_size  \\\n",
       "0                   keep-all   do-not-scale   0.66  0.917545  1.145915   \n",
       "\n",
       "   cov_frau1  cov_nongerman  cov_nongerman_male  cov_nongerman_female  \n",
       "0    0.91759       0.913153            0.926146              0.891654  "
      ]
     },
     "execution_count": 53,
     "metadata": {},
     "output_type": "execute_result"
    }
   ],
   "source": [
    "cp_metrics_df"
   ]
  },
  {
   "cell_type": "markdown",
   "id": "33774451",
   "metadata": {
    "papermill": {
     "duration": 0.065741,
     "end_time": "2025-07-23T14:38:00.887024",
     "exception": false,
     "start_time": "2025-07-23T14:38:00.821283",
     "status": "completed"
    },
    "tags": []
   },
   "source": [
    "# (Fairness) Metrics"
   ]
  },
  {
   "cell_type": "code",
   "execution_count": 54,
   "id": "debc5d62",
   "metadata": {
    "execution": {
     "iopub.execute_input": "2025-07-23T14:38:00.951543Z",
     "iopub.status.busy": "2025-07-23T14:38:00.951125Z",
     "iopub.status.idle": "2025-07-23T14:38:00.978853Z",
     "shell.execute_reply": "2025-07-23T14:38:00.977652Z"
    },
    "papermill": {
     "duration": 0.06803,
     "end_time": "2025-07-23T14:38:00.981222",
     "exception": false,
     "start_time": "2025-07-23T14:38:00.913192",
     "status": "completed"
    },
    "tags": []
   },
   "outputs": [],
   "source": [
    "# do I need to include maxdeutsch1.missing?\n",
    "\n",
    "import numpy as np\n",
    "\n",
    "colname_to_bin = \"maxdeutsch1\"\n",
    "majority_value = org_train[colname_to_bin].mode()[0]\n",
    "\n",
    "org_test[\"majmin\"] = np.where(org_test[colname_to_bin] == majority_value, \"majority\", \"minority\")"
   ]
  },
  {
   "cell_type": "code",
   "execution_count": 55,
   "id": "06a50de5",
   "metadata": {
    "execution": {
     "iopub.execute_input": "2025-07-23T14:38:01.032012Z",
     "iopub.status.busy": "2025-07-23T14:38:01.031530Z",
     "iopub.status.idle": "2025-07-23T14:38:03.418211Z",
     "shell.execute_reply": "2025-07-23T14:38:03.417346Z"
    },
    "papermill": {
     "duration": 2.413537,
     "end_time": "2025-07-23T14:38:03.420095",
     "exception": false,
     "start_time": "2025-07-23T14:38:01.006558",
     "status": "completed"
    },
    "tags": []
   },
   "outputs": [],
   "source": [
    "example_universe = universe.copy()\n",
    "example_universe[\"cutoff\"] = example_universe[\"cutoff\"][0]\n",
    "example_universe[\"eval_fairness_grouping\"] = example_universe[\"eval_fairness_grouping\"][0]\n",
    "fairness_dict, metric_frame = universe_analysis.compute_metrics(\n",
    "    example_universe,\n",
    "    y_pred_prob=probs_test,\n",
    "    y_test=y_true,\n",
    "    org_test=org_test,\n",
    ")"
   ]
  },
  {
   "cell_type": "markdown",
   "id": "f95d4e02",
   "metadata": {
    "papermill": {
     "duration": 0.014976,
     "end_time": "2025-07-23T14:38:03.473140",
     "exception": false,
     "start_time": "2025-07-23T14:38:03.458164",
     "status": "completed"
    },
    "tags": []
   },
   "source": [
    "# Overall"
   ]
  },
  {
   "cell_type": "markdown",
   "id": "bdee4871",
   "metadata": {
    "papermill": {
     "duration": 0.01239,
     "end_time": "2025-07-23T14:38:03.498313",
     "exception": false,
     "start_time": "2025-07-23T14:38:03.485923",
     "status": "completed"
    },
    "tags": []
   },
   "source": [
    "Fairness\n",
    "Main fairness target: Equalized Odds. Seems to be a better fit than equal opportunity, since we're not only interested in Y = 1. Seems to be a better fit than demographic parity, since we also care about accuracy, not just equal distribution of preds.\n",
    "\n",
    "Pick column for computation of fairness metrics\n",
    "\n",
    "Performance\n",
    "Overall performance measures, most interesting in relation to the measures split by group below"
   ]
  },
  {
   "cell_type": "code",
   "execution_count": 56,
   "id": "c4e067c6",
   "metadata": {
    "execution": {
     "iopub.execute_input": "2025-07-23T14:38:03.524344Z",
     "iopub.status.busy": "2025-07-23T14:38:03.523769Z",
     "iopub.status.idle": "2025-07-23T14:38:03.532262Z",
     "shell.execute_reply": "2025-07-23T14:38:03.531450Z"
    },
    "papermill": {
     "duration": 0.023444,
     "end_time": "2025-07-23T14:38:03.533780",
     "exception": false,
     "start_time": "2025-07-23T14:38:03.510336",
     "status": "completed"
    },
    "tags": []
   },
   "outputs": [
    {
     "data": {
      "text/plain": [
       "accuracy                   0.217668\n",
       "balanced accuracy          0.542378\n",
       "f1                         0.243057\n",
       "precision                  0.138750\n",
       "false positive rate        0.894389\n",
       "false negative rate        0.020855\n",
       "selection rate             0.905261\n",
       "count                  89710.000000\n",
       "dtype: float64"
      ]
     },
     "execution_count": 56,
     "metadata": {},
     "output_type": "execute_result"
    }
   ],
   "source": [
    "metric_frame.overall"
   ]
  },
  {
   "cell_type": "markdown",
   "id": "e968fe9d",
   "metadata": {
    "papermill": {
     "duration": 0.012265,
     "end_time": "2025-07-23T14:38:03.559140",
     "exception": false,
     "start_time": "2025-07-23T14:38:03.546875",
     "status": "completed"
    },
    "tags": []
   },
   "source": [
    "By Group"
   ]
  },
  {
   "cell_type": "code",
   "execution_count": 57,
   "id": "ec325bce",
   "metadata": {
    "execution": {
     "iopub.execute_input": "2025-07-23T14:38:03.585609Z",
     "iopub.status.busy": "2025-07-23T14:38:03.584642Z",
     "iopub.status.idle": "2025-07-23T14:38:03.598294Z",
     "shell.execute_reply": "2025-07-23T14:38:03.597434Z"
    },
    "papermill": {
     "duration": 0.028394,
     "end_time": "2025-07-23T14:38:03.599777",
     "exception": false,
     "start_time": "2025-07-23T14:38:03.571383",
     "status": "completed"
    },
    "tags": []
   },
   "outputs": [
    {
     "data": {
      "text/html": [
       "<div>\n",
       "<style scoped>\n",
       "    .dataframe tbody tr th:only-of-type {\n",
       "        vertical-align: middle;\n",
       "    }\n",
       "\n",
       "    .dataframe tbody tr th {\n",
       "        vertical-align: top;\n",
       "    }\n",
       "\n",
       "    .dataframe thead th {\n",
       "        text-align: right;\n",
       "    }\n",
       "</style>\n",
       "<table border=\"1\" class=\"dataframe\">\n",
       "  <thead>\n",
       "    <tr style=\"text-align: right;\">\n",
       "      <th></th>\n",
       "      <th>accuracy</th>\n",
       "      <th>balanced accuracy</th>\n",
       "      <th>f1</th>\n",
       "      <th>precision</th>\n",
       "      <th>false positive rate</th>\n",
       "      <th>false negative rate</th>\n",
       "      <th>selection rate</th>\n",
       "      <th>count</th>\n",
       "    </tr>\n",
       "    <tr>\n",
       "      <th>majmin</th>\n",
       "      <th></th>\n",
       "      <th></th>\n",
       "      <th></th>\n",
       "      <th></th>\n",
       "      <th></th>\n",
       "      <th></th>\n",
       "      <th></th>\n",
       "      <th></th>\n",
       "    </tr>\n",
       "  </thead>\n",
       "  <tbody>\n",
       "    <tr>\n",
       "      <th>majority</th>\n",
       "      <td>0.215252</td>\n",
       "      <td>0.542180</td>\n",
       "      <td>0.249381</td>\n",
       "      <td>0.142731</td>\n",
       "      <td>0.902182</td>\n",
       "      <td>0.013457</td>\n",
       "      <td>0.913329</td>\n",
       "      <td>69170.0</td>\n",
       "    </tr>\n",
       "    <tr>\n",
       "      <th>minority</th>\n",
       "      <td>0.225803</td>\n",
       "      <td>0.540974</td>\n",
       "      <td>0.220643</td>\n",
       "      <td>0.124806</td>\n",
       "      <td>0.868644</td>\n",
       "      <td>0.049409</td>\n",
       "      <td>0.878092</td>\n",
       "      <td>20540.0</td>\n",
       "    </tr>\n",
       "  </tbody>\n",
       "</table>\n",
       "</div>"
      ],
      "text/plain": [
       "          accuracy  balanced accuracy        f1  precision  \\\n",
       "majmin                                                       \n",
       "majority  0.215252           0.542180  0.249381   0.142731   \n",
       "minority  0.225803           0.540974  0.220643   0.124806   \n",
       "\n",
       "          false positive rate  false negative rate  selection rate    count  \n",
       "majmin                                                                       \n",
       "majority             0.902182             0.013457        0.913329  69170.0  \n",
       "minority             0.868644             0.049409        0.878092  20540.0  "
      ]
     },
     "execution_count": 57,
     "metadata": {},
     "output_type": "execute_result"
    }
   ],
   "source": [
    "metric_frame.by_group"
   ]
  },
  {
   "cell_type": "code",
   "execution_count": 58,
   "id": "a9ddbe63",
   "metadata": {
    "execution": {
     "iopub.execute_input": "2025-07-23T14:38:03.626418Z",
     "iopub.status.busy": "2025-07-23T14:38:03.626132Z",
     "iopub.status.idle": "2025-07-23T14:38:05.310432Z",
     "shell.execute_reply": "2025-07-23T14:38:05.309522Z"
    },
    "papermill": {
     "duration": 1.699247,
     "end_time": "2025-07-23T14:38:05.312216",
     "exception": false,
     "start_time": "2025-07-23T14:38:03.612969",
     "status": "completed"
    },
    "tags": []
   },
   "outputs": [
    {
     "data": {
      "text/plain": [
       "array([[<Axes: title={'center': 'accuracy'}, xlabel='majmin'>,\n",
       "        <Axes: title={'center': 'balanced accuracy'}, xlabel='majmin'>,\n",
       "        <Axes: title={'center': 'f1'}, xlabel='majmin'>],\n",
       "       [<Axes: title={'center': 'precision'}, xlabel='majmin'>,\n",
       "        <Axes: title={'center': 'false positive rate'}, xlabel='majmin'>,\n",
       "        <Axes: title={'center': 'false negative rate'}, xlabel='majmin'>],\n",
       "       [<Axes: title={'center': 'selection rate'}, xlabel='majmin'>,\n",
       "        <Axes: title={'center': 'count'}, xlabel='majmin'>,\n",
       "        <Axes: xlabel='majmin'>]], dtype=object)"
      ]
     },
     "execution_count": 58,
     "metadata": {},
     "output_type": "execute_result"
    },
    {
     "data": {
      "image/png": "[encoded data removed]",
      "text/plain": [
       "<Figure size 1200x800 with 9 Axes>"
      ]
     },
     "metadata": {},
     "output_type": "display_data"
    }
   ],
   "source": [
    "# In a graphic\n",
    "metric_frame.by_group.plot.bar(\n",
    "    subplots=True,\n",
    "    layout=[3, 3],\n",
    "    legend=False,\n",
    "    figsize=[12, 8],\n",
    "    title=\"Show all metrics\",\n",
    ")"
   ]
  },
  {
   "cell_type": "markdown",
   "id": "f57a0bac",
   "metadata": {
    "papermill": {
     "duration": 0.013715,
     "end_time": "2025-07-23T14:38:05.346574",
     "exception": false,
     "start_time": "2025-07-23T14:38:05.332859",
     "status": "completed"
    },
    "tags": []
   },
   "source": [
    "# Final Output"
   ]
  },
  {
   "cell_type": "code",
   "execution_count": 59,
   "id": "96d280a3",
   "metadata": {
    "execution": {
     "iopub.execute_input": "2025-07-23T14:38:05.375548Z",
     "iopub.status.busy": "2025-07-23T14:38:05.374863Z",
     "iopub.status.idle": "2025-07-23T14:38:05.383751Z",
     "shell.execute_reply": "2025-07-23T14:38:05.382795Z"
    },
    "papermill": {
     "duration": 0.025025,
     "end_time": "2025-07-23T14:38:05.385252",
     "exception": false,
     "start_time": "2025-07-23T14:38:05.360227",
     "status": "completed"
    },
    "tags": []
   },
   "outputs": [
    {
     "data": {
      "text/plain": [
       "4"
      ]
     },
     "execution_count": 59,
     "metadata": {},
     "output_type": "execute_result"
    }
   ],
   "source": [
    "sub_universes = universe_analysis.generate_sub_universes()\n",
    "len(sub_universes)"
   ]
  },
  {
   "cell_type": "code",
   "execution_count": 60,
   "id": "92adf7ba",
   "metadata": {
    "execution": {
     "iopub.execute_input": "2025-07-23T14:38:05.415384Z",
     "iopub.status.busy": "2025-07-23T14:38:05.414619Z",
     "iopub.status.idle": "2025-07-23T14:38:05.456101Z",
     "shell.execute_reply": "2025-07-23T14:38:05.454962Z"
    },
    "papermill": {
     "duration": 0.058601,
     "end_time": "2025-07-23T14:38:05.458183",
     "exception": false,
     "start_time": "2025-07-23T14:38:05.399582",
     "status": "completed"
    },
    "tags": []
   },
   "outputs": [],
   "source": [
    "def filter_sub_universe_data(sub_universe, org_test):\n",
    "    # Keep all rows — no filtering\n",
    "    keep_rows_mask = np.ones(org_test.shape[0], dtype=bool)\n",
    "\n",
    "    print(f\"[INFO] Keeping all rows: {keep_rows_mask.sum()} rows retained.\")\n",
    "    return keep_rows_mask"
   ]
  },
  {
   "cell_type": "code",
   "execution_count": 61,
   "id": "4a759155",
   "metadata": {
    "execution": {
     "iopub.execute_input": "2025-07-23T14:38:05.511940Z",
     "iopub.status.busy": "2025-07-23T14:38:05.510933Z",
     "iopub.status.idle": "2025-07-23T14:38:17.138730Z",
     "shell.execute_reply": "2025-07-23T14:38:17.137539Z"
    },
    "papermill": {
     "duration": 11.656633,
     "end_time": "2025-07-23T14:38:17.140702",
     "exception": false,
     "start_time": "2025-07-23T14:38:05.484069",
     "status": "completed"
    },
    "tags": []
   },
   "outputs": [
    {
     "name": "stdout",
     "output_type": "stream",
     "text": [
      "Stopping execution_time clock.\n",
      "[INFO] Keeping all rows: 89710 rows retained.\n"
     ]
    },
    {
     "name": "stdout",
     "output_type": "stream",
     "text": [
      "[INFO] Keeping all rows: 89710 rows retained.\n"
     ]
    },
    {
     "name": "stdout",
     "output_type": "stream",
     "text": [
      "[INFO] Keeping all rows: 89710 rows retained.\n"
     ]
    },
    {
     "name": "stdout",
     "output_type": "stream",
     "text": [
      "[INFO] Keeping all rows: 89710 rows retained.\n"
     ]
    },
    {
     "data": {
      "text/html": [
       "<div>\n",
       "<style scoped>\n",
       "    .dataframe tbody tr th:only-of-type {\n",
       "        vertical-align: middle;\n",
       "    }\n",
       "\n",
       "    .dataframe tbody tr th {\n",
       "        vertical-align: top;\n",
       "    }\n",
       "\n",
       "    .dataframe thead th {\n",
       "        text-align: right;\n",
       "    }\n",
       "</style>\n",
       "<table border=\"1\" class=\"dataframe\">\n",
       "  <thead>\n",
       "    <tr style=\"text-align: right;\">\n",
       "      <th></th>\n",
       "      <th>run_no</th>\n",
       "      <th>universe_id</th>\n",
       "      <th>universe_settings</th>\n",
       "      <th>execution_time</th>\n",
       "      <th>test_size_n</th>\n",
       "      <th>test_size_frac</th>\n",
       "      <th>fair_main_equalized_odds_difference</th>\n",
       "      <th>fair_main_equalized_odds_ratio</th>\n",
       "      <th>fair_main_demographic_parity_difference</th>\n",
       "      <th>fair_main_demographic_parity_ratio</th>\n",
       "      <th>...</th>\n",
       "      <th>perf_grp_precision_0</th>\n",
       "      <th>perf_grp_precision_1</th>\n",
       "      <th>perf_grp_false positive rate_0</th>\n",
       "      <th>perf_grp_false positive rate_1</th>\n",
       "      <th>perf_grp_false negative rate_0</th>\n",
       "      <th>perf_grp_false negative rate_1</th>\n",
       "      <th>perf_grp_selection rate_0</th>\n",
       "      <th>perf_grp_selection rate_1</th>\n",
       "      <th>perf_grp_count_0</th>\n",
       "      <th>perf_grp_count_1</th>\n",
       "    </tr>\n",
       "  </thead>\n",
       "  <tbody>\n",
       "    <tr>\n",
       "      <th>0</th>\n",
       "      <td>9</td>\n",
       "      <td>9f7eaa655a0040c6f967a066a8bb55b8</td>\n",
       "      <td>{\"cutoff\": \"quantile_0.1\", \"eval_fairness_grou...</td>\n",
       "      <td>38.205483</td>\n",
       "      <td>89710</td>\n",
       "      <td>1.0</td>\n",
       "      <td>0.035951</td>\n",
       "      <td>0.962825</td>\n",
       "      <td>0.035238</td>\n",
       "      <td>0.961418</td>\n",
       "      <td>...</td>\n",
       "      <td>NaN</td>\n",
       "      <td>NaN</td>\n",
       "      <td>NaN</td>\n",
       "      <td>NaN</td>\n",
       "      <td>NaN</td>\n",
       "      <td>NaN</td>\n",
       "      <td>NaN</td>\n",
       "      <td>NaN</td>\n",
       "      <td>NaN</td>\n",
       "      <td>NaN</td>\n",
       "    </tr>\n",
       "    <tr>\n",
       "      <th>0</th>\n",
       "      <td>9</td>\n",
       "      <td>9f7eaa655a0040c6f967a066a8bb55b8</td>\n",
       "      <td>{\"cutoff\": \"quantile_0.1\", \"eval_fairness_grou...</td>\n",
       "      <td>38.205483</td>\n",
       "      <td>89710</td>\n",
       "      <td>1.0</td>\n",
       "      <td>0.035951</td>\n",
       "      <td>0.962825</td>\n",
       "      <td>0.035238</td>\n",
       "      <td>0.961418</td>\n",
       "      <td>...</td>\n",
       "      <td>0.124806</td>\n",
       "      <td>0.142731</td>\n",
       "      <td>0.868644</td>\n",
       "      <td>0.902182</td>\n",
       "      <td>0.049409</td>\n",
       "      <td>0.013457</td>\n",
       "      <td>0.878092</td>\n",
       "      <td>0.913329</td>\n",
       "      <td>20540.0</td>\n",
       "      <td>69170.0</td>\n",
       "    </tr>\n",
       "    <tr>\n",
       "      <th>0</th>\n",
       "      <td>9</td>\n",
       "      <td>9f7eaa655a0040c6f967a066a8bb55b8</td>\n",
       "      <td>{\"cutoff\": \"quantile_0.25\", \"eval_fairness_gro...</td>\n",
       "      <td>38.205483</td>\n",
       "      <td>89710</td>\n",
       "      <td>1.0</td>\n",
       "      <td>0.083538</td>\n",
       "      <td>0.908472</td>\n",
       "      <td>0.073278</td>\n",
       "      <td>0.904836</td>\n",
       "      <td>...</td>\n",
       "      <td>NaN</td>\n",
       "      <td>NaN</td>\n",
       "      <td>NaN</td>\n",
       "      <td>NaN</td>\n",
       "      <td>NaN</td>\n",
       "      <td>NaN</td>\n",
       "      <td>NaN</td>\n",
       "      <td>NaN</td>\n",
       "      <td>NaN</td>\n",
       "      <td>NaN</td>\n",
       "    </tr>\n",
       "    <tr>\n",
       "      <th>0</th>\n",
       "      <td>9</td>\n",
       "      <td>9f7eaa655a0040c6f967a066a8bb55b8</td>\n",
       "      <td>{\"cutoff\": \"quantile_0.25\", \"eval_fairness_gro...</td>\n",
       "      <td>38.205483</td>\n",
       "      <td>89710</td>\n",
       "      <td>1.0</td>\n",
       "      <td>0.083538</td>\n",
       "      <td>0.908472</td>\n",
       "      <td>0.073278</td>\n",
       "      <td>0.904836</td>\n",
       "      <td>...</td>\n",
       "      <td>0.143805</td>\n",
       "      <td>0.163475</td>\n",
       "      <td>0.674279</td>\n",
       "      <td>0.742212</td>\n",
       "      <td>0.130912</td>\n",
       "      <td>0.047374</td>\n",
       "      <td>0.696738</td>\n",
       "      <td>0.770016</td>\n",
       "      <td>20540.0</td>\n",
       "      <td>69170.0</td>\n",
       "    </tr>\n",
       "  </tbody>\n",
       "</table>\n",
       "<p>4 rows × 50 columns</p>\n",
       "</div>"
      ],
      "text/plain": [
       "  run_no                       universe_id  \\\n",
       "0      9  9f7eaa655a0040c6f967a066a8bb55b8   \n",
       "0      9  9f7eaa655a0040c6f967a066a8bb55b8   \n",
       "0      9  9f7eaa655a0040c6f967a066a8bb55b8   \n",
       "0      9  9f7eaa655a0040c6f967a066a8bb55b8   \n",
       "\n",
       "                                   universe_settings  execution_time  \\\n",
       "0  {\"cutoff\": \"quantile_0.1\", \"eval_fairness_grou...       38.205483   \n",
       "0  {\"cutoff\": \"quantile_0.1\", \"eval_fairness_grou...       38.205483   \n",
       "0  {\"cutoff\": \"quantile_0.25\", \"eval_fairness_gro...       38.205483   \n",
       "0  {\"cutoff\": \"quantile_0.25\", \"eval_fairness_gro...       38.205483   \n",
       "\n",
       "   test_size_n  test_size_frac  fair_main_equalized_odds_difference  \\\n",
       "0        89710             1.0                             0.035951   \n",
       "0        89710             1.0                             0.035951   \n",
       "0        89710             1.0                             0.083538   \n",
       "0        89710             1.0                             0.083538   \n",
       "\n",
       "   fair_main_equalized_odds_ratio  fair_main_demographic_parity_difference  \\\n",
       "0                        0.962825                                 0.035238   \n",
       "0                        0.962825                                 0.035238   \n",
       "0                        0.908472                                 0.073278   \n",
       "0                        0.908472                                 0.073278   \n",
       "\n",
       "   fair_main_demographic_parity_ratio  ...  perf_grp_precision_0  \\\n",
       "0                            0.961418  ...                   NaN   \n",
       "0                            0.961418  ...              0.124806   \n",
       "0                            0.904836  ...                   NaN   \n",
       "0                            0.904836  ...              0.143805   \n",
       "\n",
       "   perf_grp_precision_1  perf_grp_false positive rate_0  \\\n",
       "0                   NaN                             NaN   \n",
       "0              0.142731                        0.868644   \n",
       "0                   NaN                             NaN   \n",
       "0              0.163475                        0.674279   \n",
       "\n",
       "   perf_grp_false positive rate_1  perf_grp_false negative rate_0  \\\n",
       "0                             NaN                             NaN   \n",
       "0                        0.902182                        0.049409   \n",
       "0                             NaN                             NaN   \n",
       "0                        0.742212                        0.130912   \n",
       "\n",
       "   perf_grp_false negative rate_1  perf_grp_selection rate_0  \\\n",
       "0                             NaN                        NaN   \n",
       "0                        0.013457                   0.878092   \n",
       "0                             NaN                        NaN   \n",
       "0                        0.047374                   0.696738   \n",
       "\n",
       "   perf_grp_selection rate_1  perf_grp_count_0  perf_grp_count_1  \n",
       "0                        NaN               NaN               NaN  \n",
       "0                   0.913329           20540.0           69170.0  \n",
       "0                        NaN               NaN               NaN  \n",
       "0                   0.770016           20540.0           69170.0  \n",
       "\n",
       "[4 rows x 50 columns]"
      ]
     },
     "execution_count": 61,
     "metadata": {},
     "output_type": "execute_result"
    }
   ],
   "source": [
    "final_output = universe_analysis.generate_final_output(\n",
    "    y_pred_prob=probs_test,\n",
    "    y_test=y_true,\n",
    "    org_test=org_test,\n",
    "    filter_data=filter_sub_universe_data,\n",
    "    cp_metrics_df=cp_metrics_df,\n",
    "    save=True,\n",
    ")\n",
    "final_output"
   ]
  },
  {
   "cell_type": "code",
   "execution_count": null,
   "id": "721ff514-cb11-46f8-b6fc-50392f74b5cb",
   "metadata": {
    "papermill": {
     "duration": 0.02859,
     "end_time": "2025-07-23T14:38:17.200361",
     "exception": false,
     "start_time": "2025-07-23T14:38:17.171771",
     "status": "completed"
    },
    "tags": []
   },
   "outputs": [],
   "source": []
  }
 ],
 "metadata": {
  "celltoolbar": "Tags",
  "kernelspec": {
   "display_name": "Python (CMA Fairness)",
   "language": "python",
   "name": "cma_fair_env"
  },
  "language_info": {
   "codemirror_mode": {
    "name": "ipython",
    "version": 3
   },
   "file_extension": ".py",
   "mimetype": "text/x-python",
   "name": "python",
   "nbconvert_exporter": "python",
   "pygments_lexer": "ipython3",
   "version": "3.10.12"
  },
  "papermill": {
   "default_parameters": {},
   "duration": 57.064496,
   "end_time": "2025-07-23T14:38:18.049323",
   "environment_variables": {},
   "exception": null,
   "input_path": "universe_analysis.ipynb",
   "output_path": "output/runs/9/notebooks/m_9-9f7eaa655a0040c6f967a066a8bb55b8.ipynb",
   "parameters": {
    "output_dir": "output",
    "run_no": "9",
    "seed": "2023",
    "universe": "{\"cutoff\": [\"quantile_0.1\", \"quantile_0.25\"], \"eval_fairness_grouping\": [\"majority-minority\", \"nationality-all\"], \"exclude_features\": \"age\", \"exclude_subgroups\": \"keep-all\", \"model\": \"rf\", \"scale\": \"do-not-scale\"}",
    "universe_id": "9f7eaa655a0040c6f967a066a8bb55b8"
   },
   "start_time": "2025-07-23T14:37:20.984827",
   "version": "2.6.0"
  }
 },
 "nbformat": 4,
 "nbformat_minor": 5
}