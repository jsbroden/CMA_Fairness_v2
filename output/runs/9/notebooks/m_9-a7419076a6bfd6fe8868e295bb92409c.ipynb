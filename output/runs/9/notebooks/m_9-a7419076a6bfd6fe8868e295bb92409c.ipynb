{
 "cells": [
  {
   "cell_type": "code",
   "execution_count": 1,
   "id": "f159f837-637b-42ba-96b5-ec9a68c44524",
   "metadata": {
    "execution": {
     "iopub.execute_input": "2025-07-23T14:28:09.900710Z",
     "iopub.status.busy": "2025-07-23T14:28:09.900163Z",
     "iopub.status.idle": "2025-07-23T14:28:09.914436Z",
     "shell.execute_reply": "2025-07-23T14:28:09.913344Z"
    },
    "papermill": {
     "duration": 0.0336,
     "end_time": "2025-07-23T14:28:09.916270",
     "exception": false,
     "start_time": "2025-07-23T14:28:09.882670",
     "status": "completed"
    },
    "tags": []
   },
   "outputs": [
    {
     "name": "stdout",
     "output_type": "stream",
     "text": [
      "/dss/dsshome1/0C/ra93lal2/cma/CMA_Fairness_v2\n"
     ]
    },
    {
     "name": "stderr",
     "output_type": "stream",
     "text": [
      "/dss/dsshome1/0C/ra93lal2/.local/share/virtualenvs/CMA_Fairness_v2-3j10GkSs/lib/python3.10/site-packages/IPython/core/magics/osm.py:393: UserWarning: This is now an optional IPython functionality, using bookmarks requires you to install the `pickleshare` library.\n",
      "  bkms = self.shell.db.get('bookmarks', {})\n",
      "/dss/dsshome1/0C/ra93lal2/.local/share/virtualenvs/CMA_Fairness_v2-3j10GkSs/lib/python3.10/site-packages/IPython/core/magics/osm.py:417: UserWarning: This is now an optional IPython functionality, setting dhist requires you to install the `pickleshare` library.\n",
      "  self.shell.db['dhist'] = compress_dhist(dhist)[-100:]\n"
     ]
    }
   ],
   "source": [
    "%cd ~/cma/CMA_Fairness_v2"
   ]
  },
  {
   "cell_type": "markdown",
   "id": "de2603b9",
   "metadata": {
    "papermill": {
     "duration": 0.015452,
     "end_time": "2025-07-23T14:28:09.948208",
     "exception": false,
     "start_time": "2025-07-23T14:28:09.932756",
     "status": "completed"
    },
    "tags": []
   },
   "source": [
    "The following cell holds the definition of our parameters, these values can be overriden by rendering the with e.g. the following command:\n",
    "\n",
    "papermill -p alpha 0.2 -p ratio 0.3 universe_analysis.ipynb output/test_run.ipynb"
   ]
  },
  {
   "cell_type": "code",
   "execution_count": 2,
   "id": "a80968a0-40bb-4fa9-85ef-2d5eefb01975",
   "metadata": {
    "execution": {
     "iopub.execute_input": "2025-07-23T14:28:09.970764Z",
     "iopub.status.busy": "2025-07-23T14:28:09.970390Z",
     "iopub.status.idle": "2025-07-23T14:28:09.975624Z",
     "shell.execute_reply": "2025-07-23T14:28:09.974607Z"
    },
    "papermill": {
     "duration": 0.017345,
     "end_time": "2025-07-23T14:28:09.977711",
     "exception": false,
     "start_time": "2025-07-23T14:28:09.960366",
     "status": "completed"
    },
    "tags": []
   },
   "outputs": [
    {
     "name": "stdout",
     "output_type": "stream",
     "text": [
      "Current working directory: /dss/dsshome1/0C/ra93lal2/cma/CMA_Fairness_v2\n"
     ]
    }
   ],
   "source": [
    "import os\n",
    "print(\"Current working directory:\", os.getcwd())"
   ]
  },
  {
   "cell_type": "code",
   "execution_count": 3,
   "id": "2dce4c03",
   "metadata": {
    "execution": {
     "iopub.execute_input": "2025-07-23T14:28:10.015962Z",
     "iopub.status.busy": "2025-07-23T14:28:10.015432Z",
     "iopub.status.idle": "2025-07-23T14:28:10.022378Z",
     "shell.execute_reply": "2025-07-23T14:28:10.021301Z"
    },
    "papermill": {
     "duration": 0.028182,
     "end_time": "2025-07-23T14:28:10.024313",
     "exception": false,
     "start_time": "2025-07-23T14:28:09.996131",
     "status": "completed"
    },
    "tags": [
     "parameters"
    ]
   },
   "outputs": [],
   "source": [
    "run_no = 0\n",
    "universe_id = \"test\"\n",
    "universe = {\n",
    "    \"scale\": \"scale\", # \"scale\", \"do-not-scale\",\n",
    "    \"model\": \"elasticnet\", # \"logreg\", \"penalized_logreg\", \"rf\", \"gbm\", \"elasticnet\"\n",
    "    \"cutoff\": [\"quantile_0.15\", \"quantile_0.30\"],\n",
    "    \"exclude_features\": \"age\", # \"none\", \"nationality\", \"sex\", \"nationality-sex\", \"age\"\n",
    "    \"exclude_subgroups\": \"keep-all\", # \"keep-all\", \"drop-non-german\"\n",
    "    #\"training_sample\": \"restricted\", # \"restricted\", \"full\"\n",
    "    \"eval_fairness_grouping\": [\"majority-minority\", \"nationality-all\"]\n",
    "}\n",
    "\n",
    "output_dir=\"./output\"\n",
    "seed=0"
   ]
  },
  {
   "cell_type": "code",
   "execution_count": 4,
   "id": "c289c99c",
   "metadata": {
    "execution": {
     "iopub.execute_input": "2025-07-23T14:28:10.063419Z",
     "iopub.status.busy": "2025-07-23T14:28:10.062687Z",
     "iopub.status.idle": "2025-07-23T14:28:10.068712Z",
     "shell.execute_reply": "2025-07-23T14:28:10.066833Z"
    },
    "papermill": {
     "duration": 0.027386,
     "end_time": "2025-07-23T14:28:10.070589",
     "exception": false,
     "start_time": "2025-07-23T14:28:10.043203",
     "status": "completed"
    },
    "tags": [
     "injected-parameters"
    ]
   },
   "outputs": [],
   "source": [
    "# Parameters\n",
    "universe_id = \"a7419076a6bfd6fe8868e295bb92409c\"\n",
    "run_no = \"9\"\n",
    "universe = \"{\\\"cutoff\\\": [\\\"quantile_0.1\\\", \\\"quantile_0.25\\\"], \\\"eval_fairness_grouping\\\": [\\\"majority-minority\\\", \\\"nationality-all\\\"], \\\"exclude_features\\\": \\\"nationality\\\", \\\"exclude_subgroups\\\": \\\"drop-non-german\\\", \\\"model\\\": \\\"rf\\\", \\\"scale\\\": \\\"scale\\\"}\"\n",
    "output_dir = \"output\"\n",
    "seed = \"2023\"\n"
   ]
  },
  {
   "cell_type": "code",
   "execution_count": 5,
   "id": "1650acaf",
   "metadata": {
    "execution": {
     "iopub.execute_input": "2025-07-23T14:28:10.109448Z",
     "iopub.status.busy": "2025-07-23T14:28:10.108696Z",
     "iopub.status.idle": "2025-07-23T14:28:10.114345Z",
     "shell.execute_reply": "2025-07-23T14:28:10.113298Z"
    },
    "papermill": {
     "duration": 0.026564,
     "end_time": "2025-07-23T14:28:10.116165",
     "exception": false,
     "start_time": "2025-07-23T14:28:10.089601",
     "status": "completed"
    },
    "tags": []
   },
   "outputs": [],
   "source": [
    "import json\n",
    "# Parse universe into dict if it is passed as a string\n",
    "if isinstance(universe, str):\n",
    "    universe = json.loads(universe)"
   ]
  },
  {
   "cell_type": "code",
   "execution_count": 6,
   "id": "16620c48",
   "metadata": {
    "execution": {
     "iopub.execute_input": "2025-07-23T14:28:10.151364Z",
     "iopub.status.busy": "2025-07-23T14:28:10.150193Z",
     "iopub.status.idle": "2025-07-23T14:28:10.202876Z",
     "shell.execute_reply": "2025-07-23T14:28:10.201772Z"
    },
    "papermill": {
     "duration": 0.072849,
     "end_time": "2025-07-23T14:28:10.204551",
     "exception": false,
     "start_time": "2025-07-23T14:28:10.131702",
     "status": "completed"
    },
    "tags": []
   },
   "outputs": [],
   "source": [
    "# Auto-reload the custom package\n",
    "%load_ext autoreload\n",
    "%autoreload 1\n",
    "%aimport fairness_multiverse"
   ]
  },
  {
   "cell_type": "code",
   "execution_count": 7,
   "id": "01c5c9f3",
   "metadata": {
    "execution": {
     "iopub.execute_input": "2025-07-23T14:28:10.244336Z",
     "iopub.status.busy": "2025-07-23T14:28:10.243776Z",
     "iopub.status.idle": "2025-07-23T14:28:12.378031Z",
     "shell.execute_reply": "2025-07-23T14:28:12.376845Z"
    },
    "papermill": {
     "duration": 2.156933,
     "end_time": "2025-07-23T14:28:12.380329",
     "exception": false,
     "start_time": "2025-07-23T14:28:10.223396",
     "status": "completed"
    },
    "tags": []
   },
   "outputs": [],
   "source": [
    "from fairness_multiverse.universe import UniverseAnalysis\n",
    "\n",
    "universe_analysis = UniverseAnalysis(\n",
    "    run_no = run_no,\n",
    "    universe_id = universe_id,\n",
    "    universe = universe,\n",
    "    output_dir=output_dir,\n",
    ")"
   ]
  },
  {
   "cell_type": "code",
   "execution_count": 8,
   "id": "106241f5",
   "metadata": {
    "execution": {
     "iopub.execute_input": "2025-07-23T14:28:12.452484Z",
     "iopub.status.busy": "2025-07-23T14:28:12.452029Z",
     "iopub.status.idle": "2025-07-23T14:28:12.459578Z",
     "shell.execute_reply": "2025-07-23T14:28:12.458521Z"
    },
    "papermill": {
     "duration": 0.045681,
     "end_time": "2025-07-23T14:28:12.461259",
     "exception": false,
     "start_time": "2025-07-23T14:28:12.415578",
     "status": "completed"
    },
    "tags": []
   },
   "outputs": [
    {
     "name": "stdout",
     "output_type": "stream",
     "text": [
      "Using Seed: 2023\n"
     ]
    }
   ],
   "source": [
    "import numpy as np\n",
    "parsed_seed = int(seed)\n",
    "np.random.seed(parsed_seed)\n",
    "print(f\"Using Seed: {parsed_seed}\")"
   ]
  },
  {
   "cell_type": "markdown",
   "id": "e0ebdc57",
   "metadata": {
    "papermill": {
     "duration": 0.038687,
     "end_time": "2025-07-23T14:28:12.527540",
     "exception": false,
     "start_time": "2025-07-23T14:28:12.488853",
     "status": "completed"
    },
    "tags": []
   },
   "source": [
    "# Loading Data"
   ]
  },
  {
   "cell_type": "markdown",
   "id": "681925a3",
   "metadata": {
    "papermill": {
     "duration": 0.038311,
     "end_time": "2025-07-23T14:28:12.600691",
     "exception": false,
     "start_time": "2025-07-23T14:28:12.562380",
     "status": "completed"
    },
    "tags": []
   },
   "source": [
    "Load siab_train, siab_test, siab_calib and/or \n",
    "load siab_train_features, siab_train_labels"
   ]
  },
  {
   "cell_type": "code",
   "execution_count": 9,
   "id": "f0496b8a",
   "metadata": {
    "execution": {
     "iopub.execute_input": "2025-07-23T14:28:12.650296Z",
     "iopub.status.busy": "2025-07-23T14:28:12.649314Z",
     "iopub.status.idle": "2025-07-23T14:28:12.655416Z",
     "shell.execute_reply": "2025-07-23T14:28:12.654333Z"
    },
    "papermill": {
     "duration": 0.028289,
     "end_time": "2025-07-23T14:28:12.657578",
     "exception": false,
     "start_time": "2025-07-23T14:28:12.629289",
     "status": "completed"
    },
    "tags": []
   },
   "outputs": [],
   "source": [
    "# Do I need to load siab? Delete this cell?\n",
    "\n",
    "#from pathlib import Path\n",
    "#import pandas as pd\n",
    "#\n",
    "## File paths\n",
    "#raw_file = Path(\"data/raw/siab.csv\")\n",
    "#cache_file = Path(\"data/siab_cached.csv.gz\")\n",
    "#\n",
    "## Ensure cache directory exists\n",
    "#cache_file.parent.mkdir(parents=True, exist_ok=True)\n",
    "#\n",
    "## Load with simple caching\n",
    "#if cache_file.exists():\n",
    "#    print(f\"Loading SIAB data from cache: {cache_file}\")\n",
    "#    siab = pd.read_csv(cache_file, compression='gzip')\n",
    "#else:\n",
    "#    print(f\"Cache not found. Reading raw SIAB data: {raw_file}\")\n",
    "#    siab = pd.read_csv(raw_file)\n",
    "#    siab.to_csv(cache_file, index=False, compression='gzip')\n",
    "#    print(f\"Cached SIAB data to: {cache_file}\")\n",
    "#\n",
    "## Now use `siab` DataFrame as needed\n",
    "#print(siab.shape)\n"
   ]
  },
  {
   "cell_type": "code",
   "execution_count": 10,
   "id": "a0edb063",
   "metadata": {
    "execution": {
     "iopub.execute_input": "2025-07-23T14:28:12.694356Z",
     "iopub.status.busy": "2025-07-23T14:28:12.693904Z",
     "iopub.status.idle": "2025-07-23T14:28:15.150461Z",
     "shell.execute_reply": "2025-07-23T14:28:15.149151Z"
    },
    "papermill": {
     "duration": 2.477988,
     "end_time": "2025-07-23T14:28:15.153471",
     "exception": false,
     "start_time": "2025-07-23T14:28:12.675483",
     "status": "completed"
    },
    "tags": []
   },
   "outputs": [],
   "source": [
    "import pandas as pd\n",
    "\n",
    "X_train = pd.read_csv(\"./data/X_train.csv\")\n",
    "y_train = pd.read_csv(\"./data/y_train.csv\")"
   ]
  },
  {
   "cell_type": "code",
   "execution_count": 11,
   "id": "63d08085",
   "metadata": {
    "execution": {
     "iopub.execute_input": "2025-07-23T14:28:15.203877Z",
     "iopub.status.busy": "2025-07-23T14:28:15.203399Z",
     "iopub.status.idle": "2025-07-23T14:28:17.502968Z",
     "shell.execute_reply": "2025-07-23T14:28:17.501829Z"
    },
    "papermill": {
     "duration": 2.322883,
     "end_time": "2025-07-23T14:28:17.505555",
     "exception": false,
     "start_time": "2025-07-23T14:28:15.182672",
     "status": "completed"
    },
    "tags": []
   },
   "outputs": [],
   "source": [
    "X_test = pd.read_csv(\"./data/X_test.csv\")\n",
    "y_true = pd.read_csv(\"./data/y_test.csv\")"
   ]
  },
  {
   "cell_type": "code",
   "execution_count": 12,
   "id": "98a8d0fa-1d3d-4ed8-bb2c-281470e24add",
   "metadata": {
    "execution": {
     "iopub.execute_input": "2025-07-23T14:28:17.573717Z",
     "iopub.status.busy": "2025-07-23T14:28:17.573203Z",
     "iopub.status.idle": "2025-07-23T14:28:20.241417Z",
     "shell.execute_reply": "2025-07-23T14:28:20.240063Z"
    },
    "papermill": {
     "duration": 2.703174,
     "end_time": "2025-07-23T14:28:20.243688",
     "exception": false,
     "start_time": "2025-07-23T14:28:17.540514",
     "status": "completed"
    },
    "tags": []
   },
   "outputs": [],
   "source": [
    "# Calibration data for conformal\n",
    "X_calib = pd.read_csv(\"./data/X_calib.csv\")\n",
    "y_calib = pd.read_csv(\"./data/y_calib.csv\")"
   ]
  },
  {
   "cell_type": "code",
   "execution_count": 13,
   "id": "e6c733c5",
   "metadata": {
    "execution": {
     "iopub.execute_input": "2025-07-23T14:28:20.283434Z",
     "iopub.status.busy": "2025-07-23T14:28:20.282397Z",
     "iopub.status.idle": "2025-07-23T14:28:20.398547Z",
     "shell.execute_reply": "2025-07-23T14:28:20.397602Z"
    },
    "papermill": {
     "duration": 0.136666,
     "end_time": "2025-07-23T14:28:20.400599",
     "exception": false,
     "start_time": "2025-07-23T14:28:20.263933",
     "status": "completed"
    },
    "tags": []
   },
   "outputs": [],
   "source": [
    "# Auxiliary data needed downstream in the pipeline\n",
    "\n",
    "org_train = X_train.copy()\n",
    "org_test = X_test.copy()\n",
    "org_calib = X_calib.copy()"
   ]
  },
  {
   "cell_type": "markdown",
   "id": "0a4a1b33",
   "metadata": {
    "papermill": {
     "duration": 0.044186,
     "end_time": "2025-07-23T14:28:20.488052",
     "exception": false,
     "start_time": "2025-07-23T14:28:20.443866",
     "status": "completed"
    },
    "tags": []
   },
   "source": [
    "# Preprocessing Data"
   ]
  },
  {
   "cell_type": "code",
   "execution_count": 14,
   "id": "ca879031",
   "metadata": {
    "execution": {
     "iopub.execute_input": "2025-07-23T14:28:20.565951Z",
     "iopub.status.busy": "2025-07-23T14:28:20.564920Z",
     "iopub.status.idle": "2025-07-23T14:28:20.572666Z",
     "shell.execute_reply": "2025-07-23T14:28:20.571379Z"
    },
    "papermill": {
     "duration": 0.036337,
     "end_time": "2025-07-23T14:28:20.577421",
     "exception": false,
     "start_time": "2025-07-23T14:28:20.541084",
     "status": "completed"
    },
    "tags": []
   },
   "outputs": [],
   "source": [
    "# EXCLUDE PROTECTED FEATURES\n",
    "# ----------------------\n",
    "# \"exclude_features\": \"none\", # \"nationality\", \"sex\", \"nationality-sex\"\n",
    "\n",
    "excluded_features = universe[\"exclude_features\"].split(\"-\") # split, e.g.: \"nationality-sex\" -> [\"nationality\", \"sex\"]\n",
    "excluded_features_dictionary = {\n",
    "    \"nationality\": [\"maxdeutsch1\", \"maxdeutsch.Missing.\"],\n",
    "    \"sex\": [\"frau1\"],\n",
    "    \"age\": [\"age\"],\n",
    "}\n"
   ]
  },
  {
   "cell_type": "code",
   "execution_count": 15,
   "id": "b745ac60",
   "metadata": {
    "execution": {
     "iopub.execute_input": "2025-07-23T14:28:20.628170Z",
     "iopub.status.busy": "2025-07-23T14:28:20.627725Z",
     "iopub.status.idle": "2025-07-23T14:28:20.634048Z",
     "shell.execute_reply": "2025-07-23T14:28:20.633055Z"
    },
    "papermill": {
     "duration": 0.028257,
     "end_time": "2025-07-23T14:28:20.638156",
     "exception": false,
     "start_time": "2025-07-23T14:28:20.609899",
     "status": "completed"
    },
    "tags": []
   },
   "outputs": [],
   "source": [
    "# Code nice names to column names\n",
    "\n",
    "excluded_features_columns = [\n",
    "    excluded_features_dictionary[f] for f in excluded_features if len(f) > 0 and f != \"none\"\n",
    "]"
   ]
  },
  {
   "cell_type": "code",
   "execution_count": 16,
   "id": "f84f73a2",
   "metadata": {
    "execution": {
     "iopub.execute_input": "2025-07-23T14:28:20.689012Z",
     "iopub.status.busy": "2025-07-23T14:28:20.688548Z",
     "iopub.status.idle": "2025-07-23T14:28:20.695722Z",
     "shell.execute_reply": "2025-07-23T14:28:20.694648Z"
    },
    "papermill": {
     "duration": 0.035161,
     "end_time": "2025-07-23T14:28:20.704686",
     "exception": false,
     "start_time": "2025-07-23T14:28:20.669525",
     "status": "completed"
    },
    "tags": []
   },
   "outputs": [],
   "source": [
    "from utils import flatten_once\n",
    "\n",
    "excluded_features_columns = flatten_once(excluded_features_columns)"
   ]
  },
  {
   "cell_type": "code",
   "execution_count": 17,
   "id": "884dea22",
   "metadata": {
    "execution": {
     "iopub.execute_input": "2025-07-23T14:28:20.790198Z",
     "iopub.status.busy": "2025-07-23T14:28:20.789735Z",
     "iopub.status.idle": "2025-07-23T14:28:20.841028Z",
     "shell.execute_reply": "2025-07-23T14:28:20.839780Z"
    },
    "papermill": {
     "duration": 0.09018,
     "end_time": "2025-07-23T14:28:20.842959",
     "exception": false,
     "start_time": "2025-07-23T14:28:20.752779",
     "status": "completed"
    },
    "tags": []
   },
   "outputs": [
    {
     "name": "stdout",
     "output_type": "stream",
     "text": [
      "Dropping features: ['maxdeutsch1', 'maxdeutsch.Missing.']\n"
     ]
    }
   ],
   "source": [
    "if len(excluded_features_columns) > 0:\n",
    "    print(f\"Dropping features: {excluded_features_columns}\")\n",
    "    X_train.drop(excluded_features_columns, axis=1, inplace=True)"
   ]
  },
  {
   "cell_type": "code",
   "execution_count": 18,
   "id": "95ab8b16",
   "metadata": {
    "execution": {
     "iopub.execute_input": "2025-07-23T14:28:20.883741Z",
     "iopub.status.busy": "2025-07-23T14:28:20.883284Z",
     "iopub.status.idle": "2025-07-23T14:28:20.952425Z",
     "shell.execute_reply": "2025-07-23T14:28:20.950941Z"
    },
    "papermill": {
     "duration": 0.092896,
     "end_time": "2025-07-23T14:28:20.955447",
     "exception": false,
     "start_time": "2025-07-23T14:28:20.862551",
     "status": "completed"
    },
    "tags": []
   },
   "outputs": [
    {
     "name": "stdout",
     "output_type": "stream",
     "text": [
      "Dropping features: ['maxdeutsch1', 'maxdeutsch.Missing.']\n"
     ]
    }
   ],
   "source": [
    "if len(excluded_features_columns) > 0:\n",
    "    print(f\"Dropping features: {excluded_features_columns}\")\n",
    "    X_test.drop(excluded_features_columns, axis=1, inplace=True)"
   ]
  },
  {
   "cell_type": "code",
   "execution_count": 19,
   "id": "1853aaf5-fb9f-46cb-a2b5-8ea4ae2237e4",
   "metadata": {
    "execution": {
     "iopub.execute_input": "2025-07-23T14:28:21.039552Z",
     "iopub.status.busy": "2025-07-23T14:28:21.038967Z",
     "iopub.status.idle": "2025-07-23T14:28:21.121970Z",
     "shell.execute_reply": "2025-07-23T14:28:21.120596Z"
    },
    "papermill": {
     "duration": 0.140214,
     "end_time": "2025-07-23T14:28:21.124077",
     "exception": false,
     "start_time": "2025-07-23T14:28:20.983863",
     "status": "completed"
    },
    "tags": []
   },
   "outputs": [
    {
     "name": "stdout",
     "output_type": "stream",
     "text": [
      "Dropping features: ['maxdeutsch1', 'maxdeutsch.Missing.']\n"
     ]
    }
   ],
   "source": [
    "if len(excluded_features_columns) > 0:\n",
    "    print(f\"Dropping features: {excluded_features_columns}\")\n",
    "    X_calib.drop(excluded_features_columns, axis=1, inplace=True)"
   ]
  },
  {
   "cell_type": "code",
   "execution_count": 20,
   "id": "76c4dc6d",
   "metadata": {
    "execution": {
     "iopub.execute_input": "2025-07-23T14:28:21.169341Z",
     "iopub.status.busy": "2025-07-23T14:28:21.168882Z",
     "iopub.status.idle": "2025-07-23T14:28:21.175224Z",
     "shell.execute_reply": "2025-07-23T14:28:21.174052Z"
    },
    "papermill": {
     "duration": 0.032102,
     "end_time": "2025-07-23T14:28:21.178565",
     "exception": false,
     "start_time": "2025-07-23T14:28:21.146463",
     "status": "completed"
    },
    "tags": []
   },
   "outputs": [],
   "source": [
    "# EXCLUDE CERTAIN SUBGROUPS\n",
    "# ----------------------\n",
    "\n",
    "mode = universe.get(\"exclude_subgroups\", \"keep-all\") \n",
    "# Fetches the exclude_subgroups setting from the universe dict.\n",
    "# Defaults to \"keep-all\" if the key is missing."
   ]
  },
  {
   "cell_type": "code",
   "execution_count": 21,
   "id": "21994072",
   "metadata": {
    "execution": {
     "iopub.execute_input": "2025-07-23T14:28:21.221277Z",
     "iopub.status.busy": "2025-07-23T14:28:21.220798Z",
     "iopub.status.idle": "2025-07-23T14:28:21.229284Z",
     "shell.execute_reply": "2025-07-23T14:28:21.228051Z"
    },
    "papermill": {
     "duration": 0.03405,
     "end_time": "2025-07-23T14:28:21.232905",
     "exception": false,
     "start_time": "2025-07-23T14:28:21.198855",
     "status": "completed"
    },
    "tags": []
   },
   "outputs": [],
   "source": [
    "if mode == \"keep-all\":\n",
    "    keep_mask = pd.Series(True, index=org_train.index)\n",
    "\n",
    "# org_train contains the original feature columns from features_org (in Simson)\n",
    "# features_org contains unprocessed features, for me X_train at beginning ???\n",
    "# For keep-all, creates a boolean Series (keep_mask) of all True, so no rows are removed.\n",
    "\n",
    "elif mode == \"drop-non-german\":\n",
    "    keep_mask = org_train[\"maxdeutsch1\"] == 1 # ??? what about missing values?\n",
    "\n",
    "else:\n",
    "    raise ValueError(f\"Unsupported mode for exclude_subgroups: {mode}\")\n"
   ]
  },
  {
   "cell_type": "code",
   "execution_count": 22,
   "id": "71651440",
   "metadata": {
    "execution": {
     "iopub.execute_input": "2025-07-23T14:28:21.274798Z",
     "iopub.status.busy": "2025-07-23T14:28:21.274359Z",
     "iopub.status.idle": "2025-07-23T14:28:21.282895Z",
     "shell.execute_reply": "2025-07-23T14:28:21.281524Z"
    },
    "papermill": {
     "duration": 0.034573,
     "end_time": "2025-07-23T14:28:21.287798",
     "exception": false,
     "start_time": "2025-07-23T14:28:21.253225",
     "status": "completed"
    },
    "tags": []
   },
   "outputs": [
    {
     "name": "stdout",
     "output_type": "stream",
     "text": [
      "Dropping 10036 rows (13.38%) where mode='drop-non-german'\n"
     ]
    }
   ],
   "source": [
    "n_drop = (~keep_mask).sum() # Calculates how many rows are set to be dropped\n",
    "if n_drop > 0:\n",
    "    pct = n_drop / len(keep_mask) * 100\n",
    "    print(f\"Dropping {n_drop} rows ({pct:.2f}%) where mode='{mode}'\")"
   ]
  },
  {
   "cell_type": "code",
   "execution_count": 23,
   "id": "5fb8eee5",
   "metadata": {
    "execution": {
     "iopub.execute_input": "2025-07-23T14:28:21.354201Z",
     "iopub.status.busy": "2025-07-23T14:28:21.353641Z",
     "iopub.status.idle": "2025-07-23T14:28:21.425973Z",
     "shell.execute_reply": "2025-07-23T14:28:21.424667Z"
    },
    "papermill": {
     "duration": 0.115508,
     "end_time": "2025-07-23T14:28:21.427831",
     "exception": false,
     "start_time": "2025-07-23T14:28:21.312323",
     "status": "completed"
    },
    "tags": []
   },
   "outputs": [],
   "source": [
    "X_train = X_train[keep_mask]"
   ]
  },
  {
   "cell_type": "code",
   "execution_count": 24,
   "id": "b202bb3a",
   "metadata": {
    "execution": {
     "iopub.execute_input": "2025-07-23T14:28:21.479803Z",
     "iopub.status.busy": "2025-07-23T14:28:21.479131Z",
     "iopub.status.idle": "2025-07-23T14:28:21.489896Z",
     "shell.execute_reply": "2025-07-23T14:28:21.488129Z"
    },
    "papermill": {
     "duration": 0.042401,
     "end_time": "2025-07-23T14:28:21.492425",
     "exception": false,
     "start_time": "2025-07-23T14:28:21.450024",
     "status": "completed"
    },
    "tags": []
   },
   "outputs": [],
   "source": [
    "y_train = y_train[keep_mask]"
   ]
  },
  {
   "cell_type": "markdown",
   "id": "493e2ac3",
   "metadata": {
    "papermill": {
     "duration": 0.024676,
     "end_time": "2025-07-23T14:28:21.543989",
     "exception": false,
     "start_time": "2025-07-23T14:28:21.519313",
     "status": "completed"
    },
    "tags": []
   },
   "source": [
    "# Model Training"
   ]
  },
  {
   "cell_type": "code",
   "execution_count": 25,
   "id": "679e1268",
   "metadata": {
    "execution": {
     "iopub.execute_input": "2025-07-23T14:28:21.598704Z",
     "iopub.status.busy": "2025-07-23T14:28:21.597615Z",
     "iopub.status.idle": "2025-07-23T14:28:21.729280Z",
     "shell.execute_reply": "2025-07-23T14:28:21.727956Z"
    },
    "papermill": {
     "duration": 0.16196,
     "end_time": "2025-07-23T14:28:21.732002",
     "exception": false,
     "start_time": "2025-07-23T14:28:21.570042",
     "status": "completed"
    },
    "tags": []
   },
   "outputs": [],
   "source": [
    "from sklearn.linear_model import LogisticRegression\n",
    "from sklearn.ensemble import GradientBoostingClassifier, RandomForestClassifier\n",
    "\n",
    "if (universe[\"model\"] == \"logreg\"):\n",
    "    model = LogisticRegression() #penalty=\"none\") #, solver=\"newton-cg\", max_iter=1) # include random_state=19 ?\n",
    "elif (universe[\"model\"] == \"penalized_logreg\"):\n",
    "    model = LogisticRegression(penalty=\"l2\", C=1.0) #, solver=\"newton-cg\", max_iter=1)\n",
    "elif (universe[\"model\"] == \"rf\"):\n",
    "    model = RandomForestClassifier(n_estimators=100, n_jobs=-1)\n",
    "elif (universe[\"model\"] == \"gbm\"):\n",
    "    model = GradientBoostingClassifier()\n",
    "elif (universe[\"model\"] == \"elasticnet\"):\n",
    "    model = LogisticRegression(penalty = 'elasticnet', solver = 'saga', l1_ratio = 0.5, max_iter=5000) # which solver to use?\n",
    "else:\n",
    "    raise \"Unsupported universe.model\""
   ]
  },
  {
   "cell_type": "code",
   "execution_count": 26,
   "id": "0cc8f744",
   "metadata": {
    "execution": {
     "iopub.execute_input": "2025-07-23T14:28:21.786067Z",
     "iopub.status.busy": "2025-07-23T14:28:21.785610Z",
     "iopub.status.idle": "2025-07-23T14:28:21.795097Z",
     "shell.execute_reply": "2025-07-23T14:28:21.793889Z"
    },
    "papermill": {
     "duration": 0.041417,
     "end_time": "2025-07-23T14:28:21.797434",
     "exception": false,
     "start_time": "2025-07-23T14:28:21.756017",
     "status": "completed"
    },
    "tags": []
   },
   "outputs": [],
   "source": [
    "import numpy as np\n",
    "from sklearn.pipeline import Pipeline\n",
    "from sklearn.preprocessing import StandardScaler\n",
    "\n",
    "model = Pipeline([\n",
    "    #(\"continuous_processor\", continuous_processor),\n",
    "    #(\"categorical_preprocessor\", categorical_preprocessor),\n",
    "    (\"scale\", StandardScaler() if universe[\"scale\"] == \"scale\" else None), \n",
    "    (\"model\", model),\n",
    "])"
   ]
  },
  {
   "cell_type": "code",
   "execution_count": 27,
   "id": "9442c04d",
   "metadata": {
    "execution": {
     "iopub.execute_input": "2025-07-23T14:28:21.837679Z",
     "iopub.status.busy": "2025-07-23T14:28:21.837225Z",
     "iopub.status.idle": "2025-07-23T14:28:40.822626Z",
     "shell.execute_reply": "2025-07-23T14:28:40.820653Z"
    },
    "papermill": {
     "duration": 19.009186,
     "end_time": "2025-07-23T14:28:40.825724",
     "exception": false,
     "start_time": "2025-07-23T14:28:21.816538",
     "status": "completed"
    },
    "tags": []
   },
   "outputs": [
    {
     "data": {
      "text/html": [
       "<style>#sk-container-id-1 {color: black;background-color: white;}#sk-container-id-1 pre{padding: 0;}#sk-container-id-1 div.sk-toggleable {background-color: white;}#sk-container-id-1 label.sk-toggleable__label {cursor: pointer;display: block;width: 100%;margin-bottom: 0;padding: 0.3em;box-sizing: border-box;text-align: center;}#sk-container-id-1 label.sk-toggleable__label-arrow:before {content: \"▸\";float: left;margin-right: 0.25em;color: #696969;}#sk-container-id-1 label.sk-toggleable__label-arrow:hover:before {color: black;}#sk-container-id-1 div.sk-estimator:hover label.sk-toggleable__label-arrow:before {color: black;}#sk-container-id-1 div.sk-toggleable__content {max-height: 0;max-width: 0;overflow: hidden;text-align: left;background-color: #f0f8ff;}#sk-container-id-1 div.sk-toggleable__content pre {margin: 0.2em;color: black;border-radius: 0.25em;background-color: #f0f8ff;}#sk-container-id-1 input.sk-toggleable__control:checked~div.sk-toggleable__content {max-height: 200px;max-width: 100%;overflow: auto;}#sk-container-id-1 input.sk-toggleable__control:checked~label.sk-toggleable__label-arrow:before {content: \"▾\";}#sk-container-id-1 div.sk-estimator input.sk-toggleable__control:checked~label.sk-toggleable__label {background-color: #d4ebff;}#sk-container-id-1 div.sk-label input.sk-toggleable__control:checked~label.sk-toggleable__label {background-color: #d4ebff;}#sk-container-id-1 input.sk-hidden--visually {border: 0;clip: rect(1px 1px 1px 1px);clip: rect(1px, 1px, 1px, 1px);height: 1px;margin: -1px;overflow: hidden;padding: 0;position: absolute;width: 1px;}#sk-container-id-1 div.sk-estimator {font-family: monospace;background-color: #f0f8ff;border: 1px dotted black;border-radius: 0.25em;box-sizing: border-box;margin-bottom: 0.5em;}#sk-container-id-1 div.sk-estimator:hover {background-color: #d4ebff;}#sk-container-id-1 div.sk-parallel-item::after {content: \"\";width: 100%;border-bottom: 1px solid gray;flex-grow: 1;}#sk-container-id-1 div.sk-label:hover label.sk-toggleable__label {background-color: #d4ebff;}#sk-container-id-1 div.sk-serial::before {content: \"\";position: absolute;border-left: 1px solid gray;box-sizing: border-box;top: 0;bottom: 0;left: 50%;z-index: 0;}#sk-container-id-1 div.sk-serial {display: flex;flex-direction: column;align-items: center;background-color: white;padding-right: 0.2em;padding-left: 0.2em;position: relative;}#sk-container-id-1 div.sk-item {position: relative;z-index: 1;}#sk-container-id-1 div.sk-parallel {display: flex;align-items: stretch;justify-content: center;background-color: white;position: relative;}#sk-container-id-1 div.sk-item::before, #sk-container-id-1 div.sk-parallel-item::before {content: \"\";position: absolute;border-left: 1px solid gray;box-sizing: border-box;top: 0;bottom: 0;left: 50%;z-index: -1;}#sk-container-id-1 div.sk-parallel-item {display: flex;flex-direction: column;z-index: 1;position: relative;background-color: white;}#sk-container-id-1 div.sk-parallel-item:first-child::after {align-self: flex-end;width: 50%;}#sk-container-id-1 div.sk-parallel-item:last-child::after {align-self: flex-start;width: 50%;}#sk-container-id-1 div.sk-parallel-item:only-child::after {width: 0;}#sk-container-id-1 div.sk-dashed-wrapped {border: 1px dashed gray;margin: 0 0.4em 0.5em 0.4em;box-sizing: border-box;padding-bottom: 0.4em;background-color: white;}#sk-container-id-1 div.sk-label label {font-family: monospace;font-weight: bold;display: inline-block;line-height: 1.2em;}#sk-container-id-1 div.sk-label-container {text-align: center;}#sk-container-id-1 div.sk-container {/* jupyter's `normalize.less` sets `[hidden] { display: none; }` but bootstrap.min.css set `[hidden] { display: none !important; }` so we also need the `!important` here to be able to override the default hidden behavior on the sphinx rendered scikit-learn.org. See: https://github.com/scikit-learn/scikit-learn/issues/21755 */display: inline-block !important;position: relative;}#sk-container-id-1 div.sk-text-repr-fallback {display: none;}</style><div id=\"sk-container-id-1\" class=\"sk-top-container\"><div class=\"sk-text-repr-fallback\"><pre>Pipeline(steps=[(&#x27;scale&#x27;, StandardScaler()),\n",
       "                (&#x27;model&#x27;, RandomForestClassifier(n_jobs=-1))])</pre><b>In a Jupyter environment, please rerun this cell to show the HTML representation or trust the notebook. <br />On GitHub, the HTML representation is unable to render, please try loading this page with nbviewer.org.</b></div><div class=\"sk-container\" hidden><div class=\"sk-item sk-dashed-wrapped\"><div class=\"sk-label-container\"><div class=\"sk-label sk-toggleable\"><input class=\"sk-toggleable__control sk-hidden--visually\" id=\"sk-estimator-id-1\" type=\"checkbox\" ><label for=\"sk-estimator-id-1\" class=\"sk-toggleable__label sk-toggleable__label-arrow\">Pipeline</label><div class=\"sk-toggleable__content\"><pre>Pipeline(steps=[(&#x27;scale&#x27;, StandardScaler()),\n",
       "                (&#x27;model&#x27;, RandomForestClassifier(n_jobs=-1))])</pre></div></div></div><div class=\"sk-serial\"><div class=\"sk-item\"><div class=\"sk-estimator sk-toggleable\"><input class=\"sk-toggleable__control sk-hidden--visually\" id=\"sk-estimator-id-2\" type=\"checkbox\" ><label for=\"sk-estimator-id-2\" class=\"sk-toggleable__label sk-toggleable__label-arrow\">StandardScaler</label><div class=\"sk-toggleable__content\"><pre>StandardScaler()</pre></div></div></div><div class=\"sk-item\"><div class=\"sk-estimator sk-toggleable\"><input class=\"sk-toggleable__control sk-hidden--visually\" id=\"sk-estimator-id-3\" type=\"checkbox\" ><label for=\"sk-estimator-id-3\" class=\"sk-toggleable__label sk-toggleable__label-arrow\">RandomForestClassifier</label><div class=\"sk-toggleable__content\"><pre>RandomForestClassifier(n_jobs=-1)</pre></div></div></div></div></div></div></div>"
      ],
      "text/plain": [
       "Pipeline(steps=[('scale', StandardScaler()),\n",
       "                ('model', RandomForestClassifier(n_jobs=-1))])"
      ]
     },
     "execution_count": 27,
     "metadata": {},
     "output_type": "execute_result"
    }
   ],
   "source": [
    "model.fit(X_train, y_train.values.ravel())"
   ]
  },
  {
   "cell_type": "code",
   "execution_count": 28,
   "id": "af59f8c0",
   "metadata": {
    "execution": {
     "iopub.execute_input": "2025-07-23T14:28:40.947573Z",
     "iopub.status.busy": "2025-07-23T14:28:40.947096Z",
     "iopub.status.idle": "2025-07-23T14:28:40.954307Z",
     "shell.execute_reply": "2025-07-23T14:28:40.953119Z"
    },
    "papermill": {
     "duration": 0.079993,
     "end_time": "2025-07-23T14:28:40.958136",
     "exception": false,
     "start_time": "2025-07-23T14:28:40.878143",
     "status": "completed"
    },
    "tags": []
   },
   "outputs": [],
   "source": [
    "from fairness_multiverse.universe import predict_w_threshold"
   ]
  },
  {
   "cell_type": "code",
   "execution_count": 29,
   "id": "a7cf2e16",
   "metadata": {
    "execution": {
     "iopub.execute_input": "2025-07-23T14:28:41.107453Z",
     "iopub.status.busy": "2025-07-23T14:28:41.106971Z",
     "iopub.status.idle": "2025-07-23T14:28:44.142961Z",
     "shell.execute_reply": "2025-07-23T14:28:44.141854Z"
    },
    "papermill": {
     "duration": 3.10482,
     "end_time": "2025-07-23T14:28:44.145632",
     "exception": false,
     "start_time": "2025-07-23T14:28:41.040812",
     "status": "completed"
    },
    "tags": []
   },
   "outputs": [
    {
     "data": {
      "text/plain": [
       "0.8658232081150373"
      ]
     },
     "execution_count": 29,
     "metadata": {},
     "output_type": "execute_result"
    }
   ],
   "source": [
    "probs_test = model.predict_proba(X_test)\n",
    "\n",
    "'''\n",
    "Below code returns a boolean array (or binary 0/1 array depending on how it’s used) where each element \n",
    "is True if the probability of class 1 is greater than or equal to the threshold, and False otherwise.\n",
    "'''\n",
    "y_pred_default = predict_w_threshold(probs_test, 0.5)\n",
    "\n",
    "from sklearn.metrics import accuracy_score\n",
    "\n",
    "# Naive prediction\n",
    "accuracy_score(y_true = y_true, y_pred = y_pred_default)"
   ]
  },
  {
   "cell_type": "code",
   "execution_count": 30,
   "id": "081964c3",
   "metadata": {
    "execution": {
     "iopub.execute_input": "2025-07-23T14:28:44.270890Z",
     "iopub.status.busy": "2025-07-23T14:28:44.270437Z",
     "iopub.status.idle": "2025-07-23T14:28:47.657025Z",
     "shell.execute_reply": "2025-07-23T14:28:47.655719Z"
    },
    "papermill": {
     "duration": 3.451448,
     "end_time": "2025-07-23T14:28:47.660145",
     "exception": false,
     "start_time": "2025-07-23T14:28:44.208697",
     "status": "completed"
    },
    "tags": []
   },
   "outputs": [
    {
     "data": {
      "text/plain": [
       "array([0, 0, 0, ..., 0, 0, 0])"
      ]
     },
     "execution_count": 30,
     "metadata": {},
     "output_type": "execute_result"
    }
   ],
   "source": [
    "model.predict(X_test)"
   ]
  },
  {
   "cell_type": "markdown",
   "id": "56c9705b",
   "metadata": {
    "papermill": {
     "duration": 0.115765,
     "end_time": "2025-07-23T14:28:47.880875",
     "exception": false,
     "start_time": "2025-07-23T14:28:47.765110",
     "status": "completed"
    },
    "tags": []
   },
   "source": [
    "# Conformal Prediction"
   ]
  },
  {
   "cell_type": "code",
   "execution_count": 31,
   "id": "160ec6ff",
   "metadata": {
    "execution": {
     "iopub.execute_input": "2025-07-23T14:28:48.089984Z",
     "iopub.status.busy": "2025-07-23T14:28:48.089539Z",
     "iopub.status.idle": "2025-07-23T14:28:48.095171Z",
     "shell.execute_reply": "2025-07-23T14:28:48.094195Z"
    },
    "papermill": {
     "duration": 0.107467,
     "end_time": "2025-07-23T14:28:48.104137",
     "exception": false,
     "start_time": "2025-07-23T14:28:47.996670",
     "status": "completed"
    },
    "tags": []
   },
   "outputs": [],
   "source": [
    "# Miscoverage level for conformal prediction (10% allowed error rate => 90% target coverage)\n",
    "alpha = 0.1"
   ]
  },
  {
   "cell_type": "code",
   "execution_count": 32,
   "id": "eadf4555-3dd3-440e-8e35-f82a4ad9f855",
   "metadata": {
    "execution": {
     "iopub.execute_input": "2025-07-23T14:28:48.318795Z",
     "iopub.status.busy": "2025-07-23T14:28:48.318324Z",
     "iopub.status.idle": "2025-07-23T14:28:52.016300Z",
     "shell.execute_reply": "2025-07-23T14:28:52.015142Z"
    },
    "papermill": {
     "duration": 3.794245,
     "end_time": "2025-07-23T14:28:52.019070",
     "exception": false,
     "start_time": "2025-07-23T14:28:48.224825",
     "status": "completed"
    },
    "tags": []
   },
   "outputs": [],
   "source": [
    "probs_calib = model.predict_proba(X_calib)"
   ]
  },
  {
   "cell_type": "code",
   "execution_count": 33,
   "id": "2ed93547-6d5d-4983-9b36-1ecb300da49a",
   "metadata": {
    "execution": {
     "iopub.execute_input": "2025-07-23T14:28:52.202881Z",
     "iopub.status.busy": "2025-07-23T14:28:52.202402Z",
     "iopub.status.idle": "2025-07-23T14:28:52.209820Z",
     "shell.execute_reply": "2025-07-23T14:28:52.208721Z"
    },
    "papermill": {
     "duration": 0.108162,
     "end_time": "2025-07-23T14:28:52.211677",
     "exception": false,
     "start_time": "2025-07-23T14:28:52.103515",
     "status": "completed"
    },
    "tags": []
   },
   "outputs": [],
   "source": [
    "y_calib = y_calib.values.ravel().astype(int)"
   ]
  },
  {
   "cell_type": "code",
   "execution_count": 34,
   "id": "65d1320d-f588-4b38-9072-62af1ae97f7d",
   "metadata": {
    "execution": {
     "iopub.execute_input": "2025-07-23T14:28:52.415307Z",
     "iopub.status.busy": "2025-07-23T14:28:52.414852Z",
     "iopub.status.idle": "2025-07-23T14:28:52.423900Z",
     "shell.execute_reply": "2025-07-23T14:28:52.422682Z"
    },
    "papermill": {
     "duration": 0.104029,
     "end_time": "2025-07-23T14:28:52.428848",
     "exception": false,
     "start_time": "2025-07-23T14:28:52.324819",
     "status": "completed"
    },
    "tags": []
   },
   "outputs": [],
   "source": [
    "from fairness_multiverse.conformal import compute_nc_scores\n",
    "\n",
    "# Compute nonconformity scores on calibration set (1 - probability of true class)\n",
    "nc_scores = compute_nc_scores(probs_calib, y_calib)"
   ]
  },
  {
   "cell_type": "code",
   "execution_count": 35,
   "id": "df3b8ca3-53b7-43d5-9667-7c85da7aeda2",
   "metadata": {
    "execution": {
     "iopub.execute_input": "2025-07-23T14:28:52.631344Z",
     "iopub.status.busy": "2025-07-23T14:28:52.630875Z",
     "iopub.status.idle": "2025-07-23T14:28:52.639581Z",
     "shell.execute_reply": "2025-07-23T14:28:52.638353Z"
    },
    "papermill": {
     "duration": 0.096215,
     "end_time": "2025-07-23T14:28:52.641552",
     "exception": false,
     "start_time": "2025-07-23T14:28:52.545337",
     "status": "completed"
    },
    "tags": []
   },
   "outputs": [],
   "source": [
    "from fairness_multiverse.conformal import find_threshold\n",
    "\n",
    "# Find conformal threshold q_hat for the given alpha (split conformal method)\n",
    "q_hat = find_threshold(nc_scores, alpha)"
   ]
  },
  {
   "cell_type": "code",
   "execution_count": 36,
   "id": "4d29e6c1-0ef6-4aa4-b8fe-4fe79b0d033a",
   "metadata": {
    "execution": {
     "iopub.execute_input": "2025-07-23T14:28:52.805219Z",
     "iopub.status.busy": "2025-07-23T14:28:52.804737Z",
     "iopub.status.idle": "2025-07-23T14:28:52.813747Z",
     "shell.execute_reply": "2025-07-23T14:28:52.812431Z"
    },
    "papermill": {
     "duration": 0.094175,
     "end_time": "2025-07-23T14:28:52.822094",
     "exception": false,
     "start_time": "2025-07-23T14:28:52.727919",
     "status": "completed"
    },
    "tags": []
   },
   "outputs": [
    {
     "data": {
      "text/plain": [
       "0.65"
      ]
     },
     "execution_count": 36,
     "metadata": {},
     "output_type": "execute_result"
    }
   ],
   "source": [
    "q_hat"
   ]
  },
  {
   "cell_type": "code",
   "execution_count": 37,
   "id": "92460794-cdac-4be2-ba28-f28c0515a6fb",
   "metadata": {
    "execution": {
     "iopub.execute_input": "2025-07-23T14:28:52.974871Z",
     "iopub.status.busy": "2025-07-23T14:28:52.974410Z",
     "iopub.status.idle": "2025-07-23T14:28:58.423324Z",
     "shell.execute_reply": "2025-07-23T14:28:58.421886Z"
    },
    "papermill": {
     "duration": 5.524894,
     "end_time": "2025-07-23T14:28:58.425811",
     "exception": false,
     "start_time": "2025-07-23T14:28:52.900917",
     "status": "completed"
    },
    "tags": []
   },
   "outputs": [],
   "source": [
    "from fairness_multiverse.conformal import predict_conformal_sets\n",
    "\n",
    "# Generate prediction sets for each test example\n",
    "pred_sets = predict_conformal_sets(model, X_test, q_hat)"
   ]
  },
  {
   "cell_type": "code",
   "execution_count": 38,
   "id": "d90c9a65-e6db-4f5d-80cd-e68fb7e46829",
   "metadata": {
    "execution": {
     "iopub.execute_input": "2025-07-23T14:28:58.606849Z",
     "iopub.status.busy": "2025-07-23T14:28:58.606370Z",
     "iopub.status.idle": "2025-07-23T14:28:58.613302Z",
     "shell.execute_reply": "2025-07-23T14:28:58.612202Z"
    },
    "papermill": {
     "duration": 0.100632,
     "end_time": "2025-07-23T14:28:58.615654",
     "exception": false,
     "start_time": "2025-07-23T14:28:58.515022",
     "status": "completed"
    },
    "tags": []
   },
   "outputs": [],
   "source": [
    "y_true = y_true.squeeze()"
   ]
  },
  {
   "cell_type": "code",
   "execution_count": 39,
   "id": "3a58a54a-1e68-46b9-927a-df01f18aebc8",
   "metadata": {
    "execution": {
     "iopub.execute_input": "2025-07-23T14:28:58.761401Z",
     "iopub.status.busy": "2025-07-23T14:28:58.760922Z",
     "iopub.status.idle": "2025-07-23T14:29:01.330765Z",
     "shell.execute_reply": "2025-07-23T14:29:01.329557Z"
    },
    "papermill": {
     "duration": 2.639728,
     "end_time": "2025-07-23T14:29:01.332861",
     "exception": false,
     "start_time": "2025-07-23T14:28:58.693133",
     "status": "completed"
    },
    "tags": []
   },
   "outputs": [],
   "source": [
    "from fairness_multiverse.conformal import evaluate_sets\n",
    "\n",
    "# Evaluate coverage and average set size on test data\n",
    "metrics = evaluate_sets(pred_sets, y_true)"
   ]
  },
  {
   "cell_type": "code",
   "execution_count": 40,
   "id": "5ce0a5cb-201f-45a0-ade5-94c7f0bd6095",
   "metadata": {
    "execution": {
     "iopub.execute_input": "2025-07-23T14:29:01.428887Z",
     "iopub.status.busy": "2025-07-23T14:29:01.428317Z",
     "iopub.status.idle": "2025-07-23T14:29:01.437236Z",
     "shell.execute_reply": "2025-07-23T14:29:01.436000Z"
    },
    "papermill": {
     "duration": 0.051523,
     "end_time": "2025-07-23T14:29:01.438840",
     "exception": false,
     "start_time": "2025-07-23T14:29:01.387317",
     "status": "completed"
    },
    "tags": []
   },
   "outputs": [
    {
     "data": {
      "text/plain": [
       "{'coverage': 0.9152156950172778, 'avg_size': 1.1431724445435292}"
      ]
     },
     "execution_count": 40,
     "metadata": {},
     "output_type": "execute_result"
    }
   ],
   "source": [
    "metrics"
   ]
  },
  {
   "cell_type": "code",
   "execution_count": 41,
   "id": "9b9a838d-31c9-430b-ae14-12baee460d17",
   "metadata": {
    "execution": {
     "iopub.execute_input": "2025-07-23T14:29:01.571197Z",
     "iopub.status.busy": "2025-07-23T14:29:01.570726Z",
     "iopub.status.idle": "2025-07-23T14:29:01.578054Z",
     "shell.execute_reply": "2025-07-23T14:29:01.576974Z"
    },
    "papermill": {
     "duration": 0.062655,
     "end_time": "2025-07-23T14:29:01.579803",
     "exception": false,
     "start_time": "2025-07-23T14:29:01.517148",
     "status": "completed"
    },
    "tags": []
   },
   "outputs": [],
   "source": [
    "example_universe = universe.copy()\n",
    "universe_model = example_universe.get(\"model\")\n",
    "universe_exclude_features = example_universe.get(\"exclude_features\")\n",
    "universe_exclude_subgroups = example_universe.get(\"exclude_subgroups\")\n",
    "universe_scale = example_universe.get(\"scale\")"
   ]
  },
  {
   "cell_type": "code",
   "execution_count": 42,
   "id": "f4b6a8ac-9dc0-4245-8a91-5b3b5999c4f9",
   "metadata": {
    "execution": {
     "iopub.execute_input": "2025-07-23T14:29:01.695763Z",
     "iopub.status.busy": "2025-07-23T14:29:01.695286Z",
     "iopub.status.idle": "2025-07-23T14:29:01.702908Z",
     "shell.execute_reply": "2025-07-23T14:29:01.701757Z"
    },
    "papermill": {
     "duration": 0.059986,
     "end_time": "2025-07-23T14:29:01.704862",
     "exception": false,
     "start_time": "2025-07-23T14:29:01.644876",
     "status": "completed"
    },
    "tags": []
   },
   "outputs": [],
   "source": [
    "cp_metrics_dict = {\n",
    "    \"universe_id\": [universe_id],\n",
    "    \"universe_model\": [universe_model],\n",
    "    \"universe_exclude_features\": [universe_exclude_features],\n",
    "    \"universe_exclude_subgroups\": [universe_exclude_subgroups],\n",
    "    \"universe_scale\": [universe_scale],\n",
    "    \"q_hat\": [q_hat],\n",
    "    \"coverage\": [metrics[\"coverage\"]],\n",
    "    \"avg_size\": [metrics[\"avg_size\"]],\n",
    "}"
   ]
  },
  {
   "cell_type": "code",
   "execution_count": 43,
   "id": "908acbb1-0371-4915-85ca-3fa520d2efe2",
   "metadata": {
    "execution": {
     "iopub.execute_input": "2025-07-23T14:29:01.799275Z",
     "iopub.status.busy": "2025-07-23T14:29:01.798805Z",
     "iopub.status.idle": "2025-07-23T14:29:01.807757Z",
     "shell.execute_reply": "2025-07-23T14:29:01.806732Z"
    },
    "papermill": {
     "duration": 0.066008,
     "end_time": "2025-07-23T14:29:01.809618",
     "exception": false,
     "start_time": "2025-07-23T14:29:01.743610",
     "status": "completed"
    },
    "tags": []
   },
   "outputs": [
    {
     "data": {
      "text/plain": [
       "{'universe_id': ['a7419076a6bfd6fe8868e295bb92409c'],\n",
       " 'universe_model': ['rf'],\n",
       " 'universe_exclude_features': ['nationality'],\n",
       " 'universe_exclude_subgroups': ['drop-non-german'],\n",
       " 'universe_scale': ['scale'],\n",
       " 'q_hat': [0.65],\n",
       " 'coverage': [0.9152156950172778],\n",
       " 'avg_size': [1.1431724445435292]}"
      ]
     },
     "execution_count": 43,
     "metadata": {},
     "output_type": "execute_result"
    }
   ],
   "source": [
    "cp_metrics_dict"
   ]
  },
  {
   "cell_type": "code",
   "execution_count": 44,
   "id": "33007efc-14e9-4ec6-97ac-56a455c82265",
   "metadata": {
    "execution": {
     "iopub.execute_input": "2025-07-23T14:29:01.897517Z",
     "iopub.status.busy": "2025-07-23T14:29:01.897082Z",
     "iopub.status.idle": "2025-07-23T14:29:01.905558Z",
     "shell.execute_reply": "2025-07-23T14:29:01.904276Z"
    },
    "papermill": {
     "duration": 0.050582,
     "end_time": "2025-07-23T14:29:01.907763",
     "exception": false,
     "start_time": "2025-07-23T14:29:01.857181",
     "status": "completed"
    },
    "tags": []
   },
   "outputs": [],
   "source": [
    "cp_metrics_df = pd.DataFrame(cp_metrics_dict)"
   ]
  },
  {
   "cell_type": "code",
   "execution_count": 45,
   "id": "db12611b-57b2-4910-b9d0-355adfd6e7bf",
   "metadata": {
    "execution": {
     "iopub.execute_input": "2025-07-23T14:29:02.006988Z",
     "iopub.status.busy": "2025-07-23T14:29:02.006544Z",
     "iopub.status.idle": "2025-07-23T14:29:02.038924Z",
     "shell.execute_reply": "2025-07-23T14:29:02.037831Z"
    },
    "papermill": {
     "duration": 0.081594,
     "end_time": "2025-07-23T14:29:02.040878",
     "exception": false,
     "start_time": "2025-07-23T14:29:01.959284",
     "status": "completed"
    },
    "tags": []
   },
   "outputs": [
    {
     "data": {
      "text/html": [
       "<div>\n",
       "<style scoped>\n",
       "    .dataframe tbody tr th:only-of-type {\n",
       "        vertical-align: middle;\n",
       "    }\n",
       "\n",
       "    .dataframe tbody tr th {\n",
       "        vertical-align: top;\n",
       "    }\n",
       "\n",
       "    .dataframe thead th {\n",
       "        text-align: right;\n",
       "    }\n",
       "</style>\n",
       "<table border=\"1\" class=\"dataframe\">\n",
       "  <thead>\n",
       "    <tr style=\"text-align: right;\">\n",
       "      <th></th>\n",
       "      <th>universe_id</th>\n",
       "      <th>universe_model</th>\n",
       "      <th>universe_exclude_features</th>\n",
       "      <th>universe_exclude_subgroups</th>\n",
       "      <th>universe_scale</th>\n",
       "      <th>q_hat</th>\n",
       "      <th>coverage</th>\n",
       "      <th>avg_size</th>\n",
       "    </tr>\n",
       "  </thead>\n",
       "  <tbody>\n",
       "    <tr>\n",
       "      <th>0</th>\n",
       "      <td>a7419076a6bfd6fe8868e295bb92409c</td>\n",
       "      <td>rf</td>\n",
       "      <td>nationality</td>\n",
       "      <td>drop-non-german</td>\n",
       "      <td>scale</td>\n",
       "      <td>0.65</td>\n",
       "      <td>0.915216</td>\n",
       "      <td>1.143172</td>\n",
       "    </tr>\n",
       "  </tbody>\n",
       "</table>\n",
       "</div>"
      ],
      "text/plain": [
       "                        universe_id universe_model universe_exclude_features  \\\n",
       "0  a7419076a6bfd6fe8868e295bb92409c             rf               nationality   \n",
       "\n",
       "  universe_exclude_subgroups universe_scale  q_hat  coverage  avg_size  \n",
       "0            drop-non-german          scale   0.65  0.915216  1.143172  "
      ]
     },
     "execution_count": 45,
     "metadata": {},
     "output_type": "execute_result"
    }
   ],
   "source": [
    "cp_metrics_df"
   ]
  },
  {
   "cell_type": "code",
   "execution_count": 46,
   "id": "b7fbde55-a0a1-47e4-9af6-fe4a17fa8c61",
   "metadata": {
    "execution": {
     "iopub.execute_input": "2025-07-23T14:29:02.150888Z",
     "iopub.status.busy": "2025-07-23T14:29:02.150413Z",
     "iopub.status.idle": "2025-07-23T14:29:02.156908Z",
     "shell.execute_reply": "2025-07-23T14:29:02.155731Z"
    },
    "papermill": {
     "duration": 0.063564,
     "end_time": "2025-07-23T14:29:02.160790",
     "exception": false,
     "start_time": "2025-07-23T14:29:02.097226",
     "status": "completed"
    },
    "tags": []
   },
   "outputs": [],
   "source": [
    "# Conditional Coverage & looking at subgroups"
   ]
  },
  {
   "cell_type": "code",
   "execution_count": 47,
   "id": "027ae886-68dd-4141-96c7-805a5450e1ef",
   "metadata": {
    "execution": {
     "iopub.execute_input": "2025-07-23T14:29:02.254677Z",
     "iopub.status.busy": "2025-07-23T14:29:02.254208Z",
     "iopub.status.idle": "2025-07-23T14:29:02.913841Z",
     "shell.execute_reply": "2025-07-23T14:29:02.912634Z"
    },
    "papermill": {
     "duration": 0.702591,
     "end_time": "2025-07-23T14:29:02.915813",
     "exception": false,
     "start_time": "2025-07-23T14:29:02.213222",
     "status": "completed"
    },
    "tags": []
   },
   "outputs": [],
   "source": [
    "from fairness_multiverse.conformal import build_cp_groups\n",
    "\n",
    "cp_groups_df = build_cp_groups(pred_sets, y_true, X_test.index, org_test)\n",
    "#needs universe_id and setting"
   ]
  },
  {
   "cell_type": "code",
   "execution_count": 48,
   "id": "c3b92545-903e-4839-89af-0f057907d7d6",
   "metadata": {
    "execution": {
     "iopub.execute_input": "2025-07-23T14:29:03.037991Z",
     "iopub.status.busy": "2025-07-23T14:29:03.037502Z",
     "iopub.status.idle": "2025-07-23T14:29:05.499637Z",
     "shell.execute_reply": "2025-07-23T14:29:05.487049Z"
    },
    "papermill": {
     "duration": 2.525422,
     "end_time": "2025-07-23T14:29:05.502100",
     "exception": false,
     "start_time": "2025-07-23T14:29:02.976678",
     "status": "completed"
    },
    "tags": []
   },
   "outputs": [],
   "source": [
    "# Define covered = 1 if true_label is in the predicted set\n",
    "cp_groups_df['covered'] = cp_groups_df.apply(\n",
    "    lambda r: int(r['true_label'] in r['pred_set']),\n",
    "    axis=1\n",
    ")"
   ]
  },
  {
   "cell_type": "code",
   "execution_count": 49,
   "id": "338ff529-1a6b-4b87-a931-8e4788d52aad",
   "metadata": {
    "execution": {
     "iopub.execute_input": "2025-07-23T14:29:05.557387Z",
     "iopub.status.busy": "2025-07-23T14:29:05.556821Z",
     "iopub.status.idle": "2025-07-23T14:29:05.562452Z",
     "shell.execute_reply": "2025-07-23T14:29:05.561378Z"
    },
    "papermill": {
     "duration": 0.035846,
     "end_time": "2025-07-23T14:29:05.564269",
     "exception": false,
     "start_time": "2025-07-23T14:29:05.528423",
     "status": "completed"
    },
    "tags": []
   },
   "outputs": [],
   "source": [
    "#cp_groups_df"
   ]
  },
  {
   "cell_type": "code",
   "execution_count": 50,
   "id": "90032e27-66df-4540-9169-4e89cfbaa758",
   "metadata": {
    "execution": {
     "iopub.execute_input": "2025-07-23T14:29:05.609488Z",
     "iopub.status.busy": "2025-07-23T14:29:05.608428Z",
     "iopub.status.idle": "2025-07-23T14:29:05.633131Z",
     "shell.execute_reply": "2025-07-23T14:29:05.631861Z"
    },
    "papermill": {
     "duration": 0.046123,
     "end_time": "2025-07-23T14:29:05.634995",
     "exception": false,
     "start_time": "2025-07-23T14:29:05.588872",
     "status": "completed"
    },
    "tags": []
   },
   "outputs": [],
   "source": [
    "subgroups = ['frau1','nongerman','nongerman_male','nongerman_female']\n",
    "\n",
    "# Conditional coverage for subgroup==1\n",
    "cond_coverage = {\n",
    "    g: cp_groups_df.loc[cp_groups_df[g]==1, 'covered'].mean()\n",
    "    for g in subgroups\n",
    "}"
   ]
  },
  {
   "cell_type": "code",
   "execution_count": 51,
   "id": "1e348fb1-b9c3-45bc-ba23-f016827a7e0d",
   "metadata": {
    "execution": {
     "iopub.execute_input": "2025-07-23T14:29:05.661128Z",
     "iopub.status.busy": "2025-07-23T14:29:05.660748Z",
     "iopub.status.idle": "2025-07-23T14:29:05.667821Z",
     "shell.execute_reply": "2025-07-23T14:29:05.666534Z"
    },
    "papermill": {
     "duration": 0.033358,
     "end_time": "2025-07-23T14:29:05.681688",
     "exception": false,
     "start_time": "2025-07-23T14:29:05.648330",
     "status": "completed"
    },
    "tags": []
   },
   "outputs": [
    {
     "data": {
      "text/plain": [
       "{'frau1': 0.9154333468122389,\n",
       " 'nongerman': 0.9111884578678493,\n",
       " 'nongerman_male': 0.924705034675313,\n",
       " 'nongerman_female': 0.888822652757079}"
      ]
     },
     "execution_count": 51,
     "metadata": {},
     "output_type": "execute_result"
    }
   ],
   "source": [
    "cond_coverage"
   ]
  },
  {
   "cell_type": "code",
   "execution_count": 52,
   "id": "f5093324-c3dd-4d63-bc4c-8d945e5c8bbb",
   "metadata": {
    "execution": {
     "iopub.execute_input": "2025-07-23T14:29:05.742876Z",
     "iopub.status.busy": "2025-07-23T14:29:05.742314Z",
     "iopub.status.idle": "2025-07-23T14:29:05.751014Z",
     "shell.execute_reply": "2025-07-23T14:29:05.749793Z"
    },
    "papermill": {
     "duration": 0.040322,
     "end_time": "2025-07-23T14:29:05.753228",
     "exception": false,
     "start_time": "2025-07-23T14:29:05.712906",
     "status": "completed"
    },
    "tags": []
   },
   "outputs": [],
   "source": [
    "for subgroup, cov in cond_coverage.items():\n",
    "    cp_metrics_df[f\"cov_{subgroup}\"] = cov"
   ]
  },
  {
   "cell_type": "code",
   "execution_count": 53,
   "id": "6e872e10-dbe5-49e8-b554-5030c98ff75d",
   "metadata": {
    "execution": {
     "iopub.execute_input": "2025-07-23T14:29:05.814301Z",
     "iopub.status.busy": "2025-07-23T14:29:05.813726Z",
     "iopub.status.idle": "2025-07-23T14:29:05.836595Z",
     "shell.execute_reply": "2025-07-23T14:29:05.835187Z"
    },
    "papermill": {
     "duration": 0.05286,
     "end_time": "2025-07-23T14:29:05.839896",
     "exception": false,
     "start_time": "2025-07-23T14:29:05.787036",
     "status": "completed"
    },
    "tags": []
   },
   "outputs": [
    {
     "data": {
      "text/html": [
       "<div>\n",
       "<style scoped>\n",
       "    .dataframe tbody tr th:only-of-type {\n",
       "        vertical-align: middle;\n",
       "    }\n",
       "\n",
       "    .dataframe tbody tr th {\n",
       "        vertical-align: top;\n",
       "    }\n",
       "\n",
       "    .dataframe thead th {\n",
       "        text-align: right;\n",
       "    }\n",
       "</style>\n",
       "<table border=\"1\" class=\"dataframe\">\n",
       "  <thead>\n",
       "    <tr style=\"text-align: right;\">\n",
       "      <th></th>\n",
       "      <th>universe_id</th>\n",
       "      <th>universe_model</th>\n",
       "      <th>universe_exclude_features</th>\n",
       "      <th>universe_exclude_subgroups</th>\n",
       "      <th>universe_scale</th>\n",
       "      <th>q_hat</th>\n",
       "      <th>coverage</th>\n",
       "      <th>avg_size</th>\n",
       "      <th>cov_frau1</th>\n",
       "      <th>cov_nongerman</th>\n",
       "      <th>cov_nongerman_male</th>\n",
       "      <th>cov_nongerman_female</th>\n",
       "    </tr>\n",
       "  </thead>\n",
       "  <tbody>\n",
       "    <tr>\n",
       "      <th>0</th>\n",
       "      <td>a7419076a6bfd6fe8868e295bb92409c</td>\n",
       "      <td>rf</td>\n",
       "      <td>nationality</td>\n",
       "      <td>drop-non-german</td>\n",
       "      <td>scale</td>\n",
       "      <td>0.65</td>\n",
       "      <td>0.915216</td>\n",
       "      <td>1.143172</td>\n",
       "      <td>0.915433</td>\n",
       "      <td>0.911188</td>\n",
       "      <td>0.924705</td>\n",
       "      <td>0.888823</td>\n",
       "    </tr>\n",
       "  </tbody>\n",
       "</table>\n",
       "</div>"
      ],
      "text/plain": [
       "                        universe_id universe_model universe_exclude_features  \\\n",
       "0  a7419076a6bfd6fe8868e295bb92409c             rf               nationality   \n",
       "\n",
       "  universe_exclude_subgroups universe_scale  q_hat  coverage  avg_size  \\\n",
       "0            drop-non-german          scale   0.65  0.915216  1.143172   \n",
       "\n",
       "   cov_frau1  cov_nongerman  cov_nongerman_male  cov_nongerman_female  \n",
       "0   0.915433       0.911188            0.924705              0.888823  "
      ]
     },
     "execution_count": 53,
     "metadata": {},
     "output_type": "execute_result"
    }
   ],
   "source": [
    "cp_metrics_df"
   ]
  },
  {
   "cell_type": "markdown",
   "id": "33774451",
   "metadata": {
    "papermill": {
     "duration": 0.026386,
     "end_time": "2025-07-23T14:29:05.893891",
     "exception": false,
     "start_time": "2025-07-23T14:29:05.867505",
     "status": "completed"
    },
    "tags": []
   },
   "source": [
    "# (Fairness) Metrics"
   ]
  },
  {
   "cell_type": "code",
   "execution_count": 54,
   "id": "debc5d62",
   "metadata": {
    "execution": {
     "iopub.execute_input": "2025-07-23T14:29:05.948765Z",
     "iopub.status.busy": "2025-07-23T14:29:05.948262Z",
     "iopub.status.idle": "2025-07-23T14:29:05.976334Z",
     "shell.execute_reply": "2025-07-23T14:29:05.975208Z"
    },
    "papermill": {
     "duration": 0.058303,
     "end_time": "2025-07-23T14:29:05.978586",
     "exception": false,
     "start_time": "2025-07-23T14:29:05.920283",
     "status": "completed"
    },
    "tags": []
   },
   "outputs": [],
   "source": [
    "# do I need to include maxdeutsch1.missing?\n",
    "\n",
    "import numpy as np\n",
    "\n",
    "colname_to_bin = \"maxdeutsch1\"\n",
    "majority_value = org_train[colname_to_bin].mode()[0]\n",
    "\n",
    "org_test[\"majmin\"] = np.where(org_test[colname_to_bin] == majority_value, \"majority\", \"minority\")"
   ]
  },
  {
   "cell_type": "code",
   "execution_count": 55,
   "id": "06a50de5",
   "metadata": {
    "execution": {
     "iopub.execute_input": "2025-07-23T14:29:06.033286Z",
     "iopub.status.busy": "2025-07-23T14:29:06.032813Z",
     "iopub.status.idle": "2025-07-23T14:29:11.625835Z",
     "shell.execute_reply": "2025-07-23T14:29:11.624648Z"
    },
    "papermill": {
     "duration": 5.622561,
     "end_time": "2025-07-23T14:29:11.627934",
     "exception": false,
     "start_time": "2025-07-23T14:29:06.005373",
     "status": "completed"
    },
    "tags": []
   },
   "outputs": [],
   "source": [
    "example_universe = universe.copy()\n",
    "example_universe[\"cutoff\"] = example_universe[\"cutoff\"][0]\n",
    "example_universe[\"eval_fairness_grouping\"] = example_universe[\"eval_fairness_grouping\"][0]\n",
    "fairness_dict, metric_frame = universe_analysis.compute_metrics(\n",
    "    example_universe,\n",
    "    y_pred_prob=probs_test,\n",
    "    y_test=y_true,\n",
    "    org_test=org_test,\n",
    ")"
   ]
  },
  {
   "cell_type": "markdown",
   "id": "f95d4e02",
   "metadata": {
    "papermill": {
     "duration": 0.05219,
     "end_time": "2025-07-23T14:29:11.733395",
     "exception": false,
     "start_time": "2025-07-23T14:29:11.681205",
     "status": "completed"
    },
    "tags": []
   },
   "source": [
    "# Overall"
   ]
  },
  {
   "cell_type": "markdown",
   "id": "bdee4871",
   "metadata": {
    "papermill": {
     "duration": 0.108019,
     "end_time": "2025-07-23T14:29:11.894799",
     "exception": false,
     "start_time": "2025-07-23T14:29:11.786780",
     "status": "completed"
    },
    "tags": []
   },
   "source": [
    "Fairness\n",
    "Main fairness target: Equalized Odds. Seems to be a better fit than equal opportunity, since we're not only interested in Y = 1. Seems to be a better fit than demographic parity, since we also care about accuracy, not just equal distribution of preds.\n",
    "\n",
    "Pick column for computation of fairness metrics\n",
    "\n",
    "Performance\n",
    "Overall performance measures, most interesting in relation to the measures split by group below"
   ]
  },
  {
   "cell_type": "code",
   "execution_count": 56,
   "id": "c4e067c6",
   "metadata": {
    "execution": {
     "iopub.execute_input": "2025-07-23T14:29:12.061620Z",
     "iopub.status.busy": "2025-07-23T14:29:12.061192Z",
     "iopub.status.idle": "2025-07-23T14:29:12.071110Z",
     "shell.execute_reply": "2025-07-23T14:29:12.070033Z"
    },
    "papermill": {
     "duration": 0.083794,
     "end_time": "2025-07-23T14:29:12.073039",
     "exception": false,
     "start_time": "2025-07-23T14:29:11.989245",
     "status": "completed"
    },
    "tags": []
   },
   "outputs": [
    {
     "data": {
      "text/plain": [
       "accuracy                   0.193267\n",
       "balanced accuracy          0.530309\n",
       "f1                         0.238286\n",
       "precision                  0.135562\n",
       "false positive rate        0.923045\n",
       "false negative rate        0.016336\n",
       "selection rate             0.930822\n",
       "count                  89710.000000\n",
       "dtype: float64"
      ]
     },
     "execution_count": 56,
     "metadata": {},
     "output_type": "execute_result"
    }
   ],
   "source": [
    "metric_frame.overall"
   ]
  },
  {
   "cell_type": "markdown",
   "id": "e968fe9d",
   "metadata": {
    "papermill": {
     "duration": 0.04421,
     "end_time": "2025-07-23T14:29:12.217036",
     "exception": false,
     "start_time": "2025-07-23T14:29:12.172826",
     "status": "completed"
    },
    "tags": []
   },
   "source": [
    "By Group"
   ]
  },
  {
   "cell_type": "code",
   "execution_count": 57,
   "id": "ec325bce",
   "metadata": {
    "execution": {
     "iopub.execute_input": "2025-07-23T14:29:12.336900Z",
     "iopub.status.busy": "2025-07-23T14:29:12.336453Z",
     "iopub.status.idle": "2025-07-23T14:29:12.362035Z",
     "shell.execute_reply": "2025-07-23T14:29:12.360880Z"
    },
    "papermill": {
     "duration": 0.075419,
     "end_time": "2025-07-23T14:29:12.364360",
     "exception": false,
     "start_time": "2025-07-23T14:29:12.288941",
     "status": "completed"
    },
    "tags": []
   },
   "outputs": [
    {
     "data": {
      "text/html": [
       "<div>\n",
       "<style scoped>\n",
       "    .dataframe tbody tr th:only-of-type {\n",
       "        vertical-align: middle;\n",
       "    }\n",
       "\n",
       "    .dataframe tbody tr th {\n",
       "        vertical-align: top;\n",
       "    }\n",
       "\n",
       "    .dataframe thead th {\n",
       "        text-align: right;\n",
       "    }\n",
       "</style>\n",
       "<table border=\"1\" class=\"dataframe\">\n",
       "  <thead>\n",
       "    <tr style=\"text-align: right;\">\n",
       "      <th></th>\n",
       "      <th>accuracy</th>\n",
       "      <th>balanced accuracy</th>\n",
       "      <th>f1</th>\n",
       "      <th>precision</th>\n",
       "      <th>false positive rate</th>\n",
       "      <th>false negative rate</th>\n",
       "      <th>selection rate</th>\n",
       "      <th>count</th>\n",
       "    </tr>\n",
       "    <tr>\n",
       "      <th>majmin</th>\n",
       "      <th></th>\n",
       "      <th></th>\n",
       "      <th></th>\n",
       "      <th></th>\n",
       "      <th></th>\n",
       "      <th></th>\n",
       "      <th></th>\n",
       "      <th></th>\n",
       "    </tr>\n",
       "  </thead>\n",
       "  <tbody>\n",
       "    <tr>\n",
       "      <th>majority</th>\n",
       "      <td>0.188666</td>\n",
       "      <td>0.529367</td>\n",
       "      <td>0.244297</td>\n",
       "      <td>0.139292</td>\n",
       "      <td>0.933716</td>\n",
       "      <td>0.007549</td>\n",
       "      <td>0.941478</td>\n",
       "      <td>69170.0</td>\n",
       "    </tr>\n",
       "    <tr>\n",
       "      <th>minority</th>\n",
       "      <td>0.208763</td>\n",
       "      <td>0.530976</td>\n",
       "      <td>0.216771</td>\n",
       "      <td>0.122348</td>\n",
       "      <td>0.887794</td>\n",
       "      <td>0.050253</td>\n",
       "      <td>0.894937</td>\n",
       "      <td>20540.0</td>\n",
       "    </tr>\n",
       "  </tbody>\n",
       "</table>\n",
       "</div>"
      ],
      "text/plain": [
       "          accuracy  balanced accuracy        f1  precision  \\\n",
       "majmin                                                       \n",
       "majority  0.188666           0.529367  0.244297   0.139292   \n",
       "minority  0.208763           0.530976  0.216771   0.122348   \n",
       "\n",
       "          false positive rate  false negative rate  selection rate    count  \n",
       "majmin                                                                       \n",
       "majority             0.933716             0.007549        0.941478  69170.0  \n",
       "minority             0.887794             0.050253        0.894937  20540.0  "
      ]
     },
     "execution_count": 57,
     "metadata": {},
     "output_type": "execute_result"
    }
   ],
   "source": [
    "metric_frame.by_group"
   ]
  },
  {
   "cell_type": "code",
   "execution_count": 58,
   "id": "a9ddbe63",
   "metadata": {
    "execution": {
     "iopub.execute_input": "2025-07-23T14:29:12.463009Z",
     "iopub.status.busy": "2025-07-23T14:29:12.462560Z",
     "iopub.status.idle": "2025-07-23T14:29:16.569032Z",
     "shell.execute_reply": "2025-07-23T14:29:16.567804Z"
    },
    "papermill": {
     "duration": 4.169245,
     "end_time": "2025-07-23T14:29:16.571057",
     "exception": false,
     "start_time": "2025-07-23T14:29:12.401812",
     "status": "completed"
    },
    "tags": []
   },
   "outputs": [
    {
     "data": {
      "text/plain": [
       "array([[<Axes: title={'center': 'accuracy'}, xlabel='majmin'>,\n",
       "        <Axes: title={'center': 'balanced accuracy'}, xlabel='majmin'>,\n",
       "        <Axes: title={'center': 'f1'}, xlabel='majmin'>],\n",
       "       [<Axes: title={'center': 'precision'}, xlabel='majmin'>,\n",
       "        <Axes: title={'center': 'false positive rate'}, xlabel='majmin'>,\n",
       "        <Axes: title={'center': 'false negative rate'}, xlabel='majmin'>],\n",
       "       [<Axes: title={'center': 'selection rate'}, xlabel='majmin'>,\n",
       "        <Axes: title={'center': 'count'}, xlabel='majmin'>,\n",
       "        <Axes: xlabel='majmin'>]], dtype=object)"
      ]
     },
     "execution_count": 58,
     "metadata": {},
     "output_type": "execute_result"
    },
    {
     "data": {
      "image/png": "[encoded data removed]",
      "text/plain": [
       "<Figure size 1200x800 with 9 Axes>"
      ]
     },
     "metadata": {},
     "output_type": "display_data"
    }
   ],
   "source": [
    "# In a graphic\n",
    "metric_frame.by_group.plot.bar(\n",
    "    subplots=True,\n",
    "    layout=[3, 3],\n",
    "    legend=False,\n",
    "    figsize=[12, 8],\n",
    "    title=\"Show all metrics\",\n",
    ")"
   ]
  },
  {
   "cell_type": "markdown",
   "id": "f57a0bac",
   "metadata": {
    "papermill": {
     "duration": 0.040206,
     "end_time": "2025-07-23T14:29:16.640466",
     "exception": false,
     "start_time": "2025-07-23T14:29:16.600260",
     "status": "completed"
    },
    "tags": []
   },
   "source": [
    "# Final Output"
   ]
  },
  {
   "cell_type": "code",
   "execution_count": 59,
   "id": "96d280a3",
   "metadata": {
    "execution": {
     "iopub.execute_input": "2025-07-23T14:29:16.752353Z",
     "iopub.status.busy": "2025-07-23T14:29:16.750810Z",
     "iopub.status.idle": "2025-07-23T14:29:16.761913Z",
     "shell.execute_reply": "2025-07-23T14:29:16.760827Z"
    },
    "papermill": {
     "duration": 0.042274,
     "end_time": "2025-07-23T14:29:16.765470",
     "exception": false,
     "start_time": "2025-07-23T14:29:16.723196",
     "status": "completed"
    },
    "tags": []
   },
   "outputs": [
    {
     "data": {
      "text/plain": [
       "4"
      ]
     },
     "execution_count": 59,
     "metadata": {},
     "output_type": "execute_result"
    }
   ],
   "source": [
    "sub_universes = universe_analysis.generate_sub_universes()\n",
    "len(sub_universes)"
   ]
  },
  {
   "cell_type": "code",
   "execution_count": 60,
   "id": "92adf7ba",
   "metadata": {
    "execution": {
     "iopub.execute_input": "2025-07-23T14:29:16.825822Z",
     "iopub.status.busy": "2025-07-23T14:29:16.825355Z",
     "iopub.status.idle": "2025-07-23T14:29:16.832707Z",
     "shell.execute_reply": "2025-07-23T14:29:16.831521Z"
    },
    "papermill": {
     "duration": 0.041842,
     "end_time": "2025-07-23T14:29:16.836708",
     "exception": false,
     "start_time": "2025-07-23T14:29:16.794866",
     "status": "completed"
    },
    "tags": []
   },
   "outputs": [],
   "source": [
    "def filter_sub_universe_data(sub_universe, org_test):\n",
    "    # Keep all rows — no filtering\n",
    "    keep_rows_mask = np.ones(org_test.shape[0], dtype=bool)\n",
    "\n",
    "    print(f\"[INFO] Keeping all rows: {keep_rows_mask.sum()} rows retained.\")\n",
    "    return keep_rows_mask"
   ]
  },
  {
   "cell_type": "code",
   "execution_count": 61,
   "id": "4a759155",
   "metadata": {
    "execution": {
     "iopub.execute_input": "2025-07-23T14:29:16.897899Z",
     "iopub.status.busy": "2025-07-23T14:29:16.897428Z",
     "iopub.status.idle": "2025-07-23T14:29:29.250574Z",
     "shell.execute_reply": "2025-07-23T14:29:29.249525Z"
    },
    "papermill": {
     "duration": 12.38596,
     "end_time": "2025-07-23T14:29:29.252292",
     "exception": false,
     "start_time": "2025-07-23T14:29:16.866332",
     "status": "completed"
    },
    "tags": []
   },
   "outputs": [
    {
     "name": "stdout",
     "output_type": "stream",
     "text": [
      "Stopping execution_time clock.\n",
      "[INFO] Keeping all rows: 89710 rows retained.\n"
     ]
    },
    {
     "name": "stdout",
     "output_type": "stream",
     "text": [
      "[INFO] Keeping all rows: 89710 rows retained.\n"
     ]
    },
    {
     "name": "stdout",
     "output_type": "stream",
     "text": [
      "[INFO] Keeping all rows: 89710 rows retained.\n"
     ]
    },
    {
     "name": "stdout",
     "output_type": "stream",
     "text": [
      "[INFO] Keeping all rows: 89710 rows retained.\n"
     ]
    },
    {
     "data": {
      "text/html": [
       "<div>\n",
       "<style scoped>\n",
       "    .dataframe tbody tr th:only-of-type {\n",
       "        vertical-align: middle;\n",
       "    }\n",
       "\n",
       "    .dataframe tbody tr th {\n",
       "        vertical-align: top;\n",
       "    }\n",
       "\n",
       "    .dataframe thead th {\n",
       "        text-align: right;\n",
       "    }\n",
       "</style>\n",
       "<table border=\"1\" class=\"dataframe\">\n",
       "  <thead>\n",
       "    <tr style=\"text-align: right;\">\n",
       "      <th></th>\n",
       "      <th>run_no</th>\n",
       "      <th>universe_id</th>\n",
       "      <th>universe_settings</th>\n",
       "      <th>execution_time</th>\n",
       "      <th>test_size_n</th>\n",
       "      <th>test_size_frac</th>\n",
       "      <th>fair_main_equalized_odds_difference</th>\n",
       "      <th>fair_main_equalized_odds_ratio</th>\n",
       "      <th>fair_main_demographic_parity_difference</th>\n",
       "      <th>fair_main_demographic_parity_ratio</th>\n",
       "      <th>...</th>\n",
       "      <th>perf_grp_precision_0</th>\n",
       "      <th>perf_grp_precision_1</th>\n",
       "      <th>perf_grp_false positive rate_0</th>\n",
       "      <th>perf_grp_false positive rate_1</th>\n",
       "      <th>perf_grp_false negative rate_0</th>\n",
       "      <th>perf_grp_false negative rate_1</th>\n",
       "      <th>perf_grp_selection rate_0</th>\n",
       "      <th>perf_grp_selection rate_1</th>\n",
       "      <th>perf_grp_count_0</th>\n",
       "      <th>perf_grp_count_1</th>\n",
       "    </tr>\n",
       "  </thead>\n",
       "  <tbody>\n",
       "    <tr>\n",
       "      <th>0</th>\n",
       "      <td>9</td>\n",
       "      <td>a7419076a6bfd6fe8868e295bb92409c</td>\n",
       "      <td>{\"cutoff\": \"quantile_0.1\", \"eval_fairness_grou...</td>\n",
       "      <td>64.591254</td>\n",
       "      <td>89710</td>\n",
       "      <td>1.0</td>\n",
       "      <td>0.045922</td>\n",
       "      <td>0.950818</td>\n",
       "      <td>0.046541</td>\n",
       "      <td>0.950566</td>\n",
       "      <td>...</td>\n",
       "      <td>NaN</td>\n",
       "      <td>NaN</td>\n",
       "      <td>NaN</td>\n",
       "      <td>NaN</td>\n",
       "      <td>NaN</td>\n",
       "      <td>NaN</td>\n",
       "      <td>NaN</td>\n",
       "      <td>NaN</td>\n",
       "      <td>NaN</td>\n",
       "      <td>NaN</td>\n",
       "    </tr>\n",
       "    <tr>\n",
       "      <th>0</th>\n",
       "      <td>9</td>\n",
       "      <td>a7419076a6bfd6fe8868e295bb92409c</td>\n",
       "      <td>{\"cutoff\": \"quantile_0.1\", \"eval_fairness_grou...</td>\n",
       "      <td>64.591254</td>\n",
       "      <td>89710</td>\n",
       "      <td>1.0</td>\n",
       "      <td>0.045922</td>\n",
       "      <td>0.950818</td>\n",
       "      <td>0.046541</td>\n",
       "      <td>0.950566</td>\n",
       "      <td>...</td>\n",
       "      <td>0.122348</td>\n",
       "      <td>0.139292</td>\n",
       "      <td>0.887794</td>\n",
       "      <td>0.933716</td>\n",
       "      <td>0.050253</td>\n",
       "      <td>0.007549</td>\n",
       "      <td>0.894937</td>\n",
       "      <td>0.941478</td>\n",
       "      <td>20540.0</td>\n",
       "      <td>69170.0</td>\n",
       "    </tr>\n",
       "    <tr>\n",
       "      <th>0</th>\n",
       "      <td>9</td>\n",
       "      <td>a7419076a6bfd6fe8868e295bb92409c</td>\n",
       "      <td>{\"cutoff\": \"quantile_0.25\", \"eval_fairness_gro...</td>\n",
       "      <td>64.591254</td>\n",
       "      <td>89710</td>\n",
       "      <td>1.0</td>\n",
       "      <td>0.087348</td>\n",
       "      <td>0.909195</td>\n",
       "      <td>0.054812</td>\n",
       "      <td>0.931103</td>\n",
       "      <td>...</td>\n",
       "      <td>NaN</td>\n",
       "      <td>NaN</td>\n",
       "      <td>NaN</td>\n",
       "      <td>NaN</td>\n",
       "      <td>NaN</td>\n",
       "      <td>NaN</td>\n",
       "      <td>NaN</td>\n",
       "      <td>NaN</td>\n",
       "      <td>NaN</td>\n",
       "      <td>NaN</td>\n",
       "    </tr>\n",
       "    <tr>\n",
       "      <th>0</th>\n",
       "      <td>9</td>\n",
       "      <td>a7419076a6bfd6fe8868e295bb92409c</td>\n",
       "      <td>{\"cutoff\": \"quantile_0.25\", \"eval_fairness_gro...</td>\n",
       "      <td>64.591254</td>\n",
       "      <td>89710</td>\n",
       "      <td>1.0</td>\n",
       "      <td>0.087348</td>\n",
       "      <td>0.909195</td>\n",
       "      <td>0.054812</td>\n",
       "      <td>0.931103</td>\n",
       "      <td>...</td>\n",
       "      <td>0.136116</td>\n",
       "      <td>0.159770</td>\n",
       "      <td>0.723311</td>\n",
       "      <td>0.770232</td>\n",
       "      <td>0.125422</td>\n",
       "      <td>0.038074</td>\n",
       "      <td>0.740750</td>\n",
       "      <td>0.795562</td>\n",
       "      <td>20540.0</td>\n",
       "      <td>69170.0</td>\n",
       "    </tr>\n",
       "  </tbody>\n",
       "</table>\n",
       "<p>4 rows × 50 columns</p>\n",
       "</div>"
      ],
      "text/plain": [
       "  run_no                       universe_id  \\\n",
       "0      9  a7419076a6bfd6fe8868e295bb92409c   \n",
       "0      9  a7419076a6bfd6fe8868e295bb92409c   \n",
       "0      9  a7419076a6bfd6fe8868e295bb92409c   \n",
       "0      9  a7419076a6bfd6fe8868e295bb92409c   \n",
       "\n",
       "                                   universe_settings  execution_time  \\\n",
       "0  {\"cutoff\": \"quantile_0.1\", \"eval_fairness_grou...       64.591254   \n",
       "0  {\"cutoff\": \"quantile_0.1\", \"eval_fairness_grou...       64.591254   \n",
       "0  {\"cutoff\": \"quantile_0.25\", \"eval_fairness_gro...       64.591254   \n",
       "0  {\"cutoff\": \"quantile_0.25\", \"eval_fairness_gro...       64.591254   \n",
       "\n",
       "   test_size_n  test_size_frac  fair_main_equalized_odds_difference  \\\n",
       "0        89710             1.0                             0.045922   \n",
       "0        89710             1.0                             0.045922   \n",
       "0        89710             1.0                             0.087348   \n",
       "0        89710             1.0                             0.087348   \n",
       "\n",
       "   fair_main_equalized_odds_ratio  fair_main_demographic_parity_difference  \\\n",
       "0                        0.950818                                 0.046541   \n",
       "0                        0.950818                                 0.046541   \n",
       "0                        0.909195                                 0.054812   \n",
       "0                        0.909195                                 0.054812   \n",
       "\n",
       "   fair_main_demographic_parity_ratio  ...  perf_grp_precision_0  \\\n",
       "0                            0.950566  ...                   NaN   \n",
       "0                            0.950566  ...              0.122348   \n",
       "0                            0.931103  ...                   NaN   \n",
       "0                            0.931103  ...              0.136116   \n",
       "\n",
       "   perf_grp_precision_1  perf_grp_false positive rate_0  \\\n",
       "0                   NaN                             NaN   \n",
       "0              0.139292                        0.887794   \n",
       "0                   NaN                             NaN   \n",
       "0              0.159770                        0.723311   \n",
       "\n",
       "   perf_grp_false positive rate_1  perf_grp_false negative rate_0  \\\n",
       "0                             NaN                             NaN   \n",
       "0                        0.933716                        0.050253   \n",
       "0                             NaN                             NaN   \n",
       "0                        0.770232                        0.125422   \n",
       "\n",
       "   perf_grp_false negative rate_1  perf_grp_selection rate_0  \\\n",
       "0                             NaN                        NaN   \n",
       "0                        0.007549                   0.894937   \n",
       "0                             NaN                        NaN   \n",
       "0                        0.038074                   0.740750   \n",
       "\n",
       "   perf_grp_selection rate_1  perf_grp_count_0  perf_grp_count_1  \n",
       "0                        NaN               NaN               NaN  \n",
       "0                   0.941478           20540.0           69170.0  \n",
       "0                        NaN               NaN               NaN  \n",
       "0                   0.795562           20540.0           69170.0  \n",
       "\n",
       "[4 rows x 50 columns]"
      ]
     },
     "execution_count": 61,
     "metadata": {},
     "output_type": "execute_result"
    }
   ],
   "source": [
    "final_output = universe_analysis.generate_final_output(\n",
    "    y_pred_prob=probs_test,\n",
    "    y_test=y_true,\n",
    "    org_test=org_test,\n",
    "    filter_data=filter_sub_universe_data,\n",
    "    cp_metrics_df=cp_metrics_df,\n",
    "    save=True,\n",
    ")\n",
    "final_output"
   ]
  },
  {
   "cell_type": "code",
   "execution_count": null,
   "id": "721ff514-cb11-46f8-b6fc-50392f74b5cb",
   "metadata": {
    "papermill": {
     "duration": 0.025229,
     "end_time": "2025-07-23T14:29:29.306987",
     "exception": false,
     "start_time": "2025-07-23T14:29:29.281758",
     "status": "completed"
    },
    "tags": []
   },
   "outputs": [],
   "source": []
  }
 ],
 "metadata": {
  "celltoolbar": "Tags",
  "kernelspec": {
   "display_name": "Python (CMA Fairness)",
   "language": "python",
   "name": "cma_fair_env"
  },
  "language_info": {
   "codemirror_mode": {
    "name": "ipython",
    "version": 3
   },
   "file_extension": ".py",
   "mimetype": "text/x-python",
   "name": "python",
   "nbconvert_exporter": "python",
   "pygments_lexer": "ipython3",
   "version": "3.10.12"
  },
  "papermill": {
   "default_parameters": {},
   "duration": 81.515666,
   "end_time": "2025-07-23T14:29:30.153376",
   "environment_variables": {},
   "exception": null,
   "input_path": "universe_analysis.ipynb",
   "output_path": "output/runs/9/notebooks/m_9-a7419076a6bfd6fe8868e295bb92409c.ipynb",
   "parameters": {
    "output_dir": "output",
    "run_no": "9",
    "seed": "2023",
    "universe": "{\"cutoff\": [\"quantile_0.1\", \"quantile_0.25\"], \"eval_fairness_grouping\": [\"majority-minority\", \"nationality-all\"], \"exclude_features\": \"nationality\", \"exclude_subgroups\": \"drop-non-german\", \"model\": \"rf\", \"scale\": \"scale\"}",
    "universe_id": "a7419076a6bfd6fe8868e295bb92409c"
   },
   "start_time": "2025-07-23T14:28:08.637710",
   "version": "2.6.0"
  }
 },
 "nbformat": 4,
 "nbformat_minor": 5
}