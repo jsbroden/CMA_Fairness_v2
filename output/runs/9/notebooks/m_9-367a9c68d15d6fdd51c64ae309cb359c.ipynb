{
 "cells": [
  {
   "cell_type": "code",
   "execution_count": 1,
   "id": "f159f837-637b-42ba-96b5-ec9a68c44524",
   "metadata": {
    "execution": {
     "iopub.execute_input": "2025-07-23T14:37:10.201364Z",
     "iopub.status.busy": "2025-07-23T14:37:10.200907Z",
     "iopub.status.idle": "2025-07-23T14:37:10.221780Z",
     "shell.execute_reply": "2025-07-23T14:37:10.220331Z"
    },
    "papermill": {
     "duration": 0.066726,
     "end_time": "2025-07-23T14:37:10.223545",
     "exception": false,
     "start_time": "2025-07-23T14:37:10.156819",
     "status": "completed"
    },
    "tags": []
   },
   "outputs": [
    {
     "name": "stdout",
     "output_type": "stream",
     "text": [
      "/dss/dsshome1/0C/ra93lal2/cma/CMA_Fairness_v2\n"
     ]
    },
    {
     "name": "stderr",
     "output_type": "stream",
     "text": [
      "/dss/dsshome1/0C/ra93lal2/.local/share/virtualenvs/CMA_Fairness_v2-3j10GkSs/lib/python3.10/site-packages/IPython/core/magics/osm.py:393: UserWarning: This is now an optional IPython functionality, using bookmarks requires you to install the `pickleshare` library.\n",
      "  bkms = self.shell.db.get('bookmarks', {})\n",
      "/dss/dsshome1/0C/ra93lal2/.local/share/virtualenvs/CMA_Fairness_v2-3j10GkSs/lib/python3.10/site-packages/IPython/core/magics/osm.py:417: UserWarning: This is now an optional IPython functionality, setting dhist requires you to install the `pickleshare` library.\n",
      "  self.shell.db['dhist'] = compress_dhist(dhist)[-100:]\n"
     ]
    }
   ],
   "source": [
    "%cd ~/cma/CMA_Fairness_v2"
   ]
  },
  {
   "cell_type": "markdown",
   "id": "de2603b9",
   "metadata": {
    "papermill": {
     "duration": 0.055852,
     "end_time": "2025-07-23T14:37:10.313266",
     "exception": false,
     "start_time": "2025-07-23T14:37:10.257414",
     "status": "completed"
    },
    "tags": []
   },
   "source": [
    "The following cell holds the definition of our parameters, these values can be overriden by rendering the with e.g. the following command:\n",
    "\n",
    "papermill -p alpha 0.2 -p ratio 0.3 universe_analysis.ipynb output/test_run.ipynb"
   ]
  },
  {
   "cell_type": "code",
   "execution_count": 2,
   "id": "a80968a0-40bb-4fa9-85ef-2d5eefb01975",
   "metadata": {
    "execution": {
     "iopub.execute_input": "2025-07-23T14:37:10.389400Z",
     "iopub.status.busy": "2025-07-23T14:37:10.388986Z",
     "iopub.status.idle": "2025-07-23T14:37:10.395012Z",
     "shell.execute_reply": "2025-07-23T14:37:10.393805Z"
    },
    "papermill": {
     "duration": 0.050482,
     "end_time": "2025-07-23T14:37:10.398024",
     "exception": false,
     "start_time": "2025-07-23T14:37:10.347542",
     "status": "completed"
    },
    "tags": []
   },
   "outputs": [
    {
     "name": "stdout",
     "output_type": "stream",
     "text": [
      "Current working directory: /dss/dsshome1/0C/ra93lal2/cma/CMA_Fairness_v2\n"
     ]
    }
   ],
   "source": [
    "import os\n",
    "print(\"Current working directory:\", os.getcwd())"
   ]
  },
  {
   "cell_type": "code",
   "execution_count": 3,
   "id": "2dce4c03",
   "metadata": {
    "execution": {
     "iopub.execute_input": "2025-07-23T14:37:10.498569Z",
     "iopub.status.busy": "2025-07-23T14:37:10.498139Z",
     "iopub.status.idle": "2025-07-23T14:37:10.512368Z",
     "shell.execute_reply": "2025-07-23T14:37:10.511349Z"
    },
    "papermill": {
     "duration": 0.083692,
     "end_time": "2025-07-23T14:37:10.514327",
     "exception": false,
     "start_time": "2025-07-23T14:37:10.430635",
     "status": "completed"
    },
    "tags": [
     "parameters"
    ]
   },
   "outputs": [],
   "source": [
    "run_no = 0\n",
    "universe_id = \"test\"\n",
    "universe = {\n",
    "    \"scale\": \"scale\", # \"scale\", \"do-not-scale\",\n",
    "    \"model\": \"elasticnet\", # \"logreg\", \"penalized_logreg\", \"rf\", \"gbm\", \"elasticnet\"\n",
    "    \"cutoff\": [\"quantile_0.15\", \"quantile_0.30\"],\n",
    "    \"exclude_features\": \"age\", # \"none\", \"nationality\", \"sex\", \"nationality-sex\", \"age\"\n",
    "    \"exclude_subgroups\": \"keep-all\", # \"keep-all\", \"drop-non-german\"\n",
    "    #\"training_sample\": \"restricted\", # \"restricted\", \"full\"\n",
    "    \"eval_fairness_grouping\": [\"majority-minority\", \"nationality-all\"]\n",
    "}\n",
    "\n",
    "output_dir=\"./output\"\n",
    "seed=0"
   ]
  },
  {
   "cell_type": "code",
   "execution_count": 4,
   "id": "fe0d4922",
   "metadata": {
    "execution": {
     "iopub.execute_input": "2025-07-23T14:37:10.627234Z",
     "iopub.status.busy": "2025-07-23T14:37:10.626785Z",
     "iopub.status.idle": "2025-07-23T14:37:10.637501Z",
     "shell.execute_reply": "2025-07-23T14:37:10.636157Z"
    },
    "papermill": {
     "duration": 0.062613,
     "end_time": "2025-07-23T14:37:10.639277",
     "exception": false,
     "start_time": "2025-07-23T14:37:10.576664",
     "status": "completed"
    },
    "tags": [
     "injected-parameters"
    ]
   },
   "outputs": [],
   "source": [
    "# Parameters\n",
    "universe_id = \"367a9c68d15d6fdd51c64ae309cb359c\"\n",
    "run_no = \"9\"\n",
    "universe = \"{\\\"cutoff\\\": [\\\"quantile_0.1\\\", \\\"quantile_0.25\\\"], \\\"eval_fairness_grouping\\\": [\\\"majority-minority\\\", \\\"nationality-all\\\"], \\\"exclude_features\\\": \\\"nationality-sex\\\", \\\"exclude_subgroups\\\": \\\"drop-non-german\\\", \\\"model\\\": \\\"rf\\\", \\\"scale\\\": \\\"do-not-scale\\\"}\"\n",
    "output_dir = \"output\"\n",
    "seed = \"2023\"\n"
   ]
  },
  {
   "cell_type": "code",
   "execution_count": 5,
   "id": "1650acaf",
   "metadata": {
    "execution": {
     "iopub.execute_input": "2025-07-23T14:37:10.743282Z",
     "iopub.status.busy": "2025-07-23T14:37:10.742829Z",
     "iopub.status.idle": "2025-07-23T14:37:10.749363Z",
     "shell.execute_reply": "2025-07-23T14:37:10.748052Z"
    },
    "papermill": {
     "duration": 0.068795,
     "end_time": "2025-07-23T14:37:10.751208",
     "exception": false,
     "start_time": "2025-07-23T14:37:10.682413",
     "status": "completed"
    },
    "tags": []
   },
   "outputs": [],
   "source": [
    "import json\n",
    "# Parse universe into dict if it is passed as a string\n",
    "if isinstance(universe, str):\n",
    "    universe = json.loads(universe)"
   ]
  },
  {
   "cell_type": "code",
   "execution_count": 6,
   "id": "16620c48",
   "metadata": {
    "execution": {
     "iopub.execute_input": "2025-07-23T14:37:10.825164Z",
     "iopub.status.busy": "2025-07-23T14:37:10.824735Z",
     "iopub.status.idle": "2025-07-23T14:37:10.935568Z",
     "shell.execute_reply": "2025-07-23T14:37:10.934608Z"
    },
    "papermill": {
     "duration": 0.149191,
     "end_time": "2025-07-23T14:37:10.938087",
     "exception": false,
     "start_time": "2025-07-23T14:37:10.788896",
     "status": "completed"
    },
    "tags": []
   },
   "outputs": [],
   "source": [
    "# Auto-reload the custom package\n",
    "%load_ext autoreload\n",
    "%autoreload 1\n",
    "%aimport fairness_multiverse"
   ]
  },
  {
   "cell_type": "code",
   "execution_count": 7,
   "id": "01c5c9f3",
   "metadata": {
    "execution": {
     "iopub.execute_input": "2025-07-23T14:37:11.008691Z",
     "iopub.status.busy": "2025-07-23T14:37:11.008212Z",
     "iopub.status.idle": "2025-07-23T14:37:15.721160Z",
     "shell.execute_reply": "2025-07-23T14:37:15.719607Z"
    },
    "papermill": {
     "duration": 4.751687,
     "end_time": "2025-07-23T14:37:15.724325",
     "exception": false,
     "start_time": "2025-07-23T14:37:10.972638",
     "status": "completed"
    },
    "tags": []
   },
   "outputs": [],
   "source": [
    "from fairness_multiverse.universe import UniverseAnalysis\n",
    "\n",
    "universe_analysis = UniverseAnalysis(\n",
    "    run_no = run_no,\n",
    "    universe_id = universe_id,\n",
    "    universe = universe,\n",
    "    output_dir=output_dir,\n",
    ")"
   ]
  },
  {
   "cell_type": "code",
   "execution_count": 8,
   "id": "106241f5",
   "metadata": {
    "execution": {
     "iopub.execute_input": "2025-07-23T14:37:15.798473Z",
     "iopub.status.busy": "2025-07-23T14:37:15.797980Z",
     "iopub.status.idle": "2025-07-23T14:37:15.808106Z",
     "shell.execute_reply": "2025-07-23T14:37:15.807031Z"
    },
    "papermill": {
     "duration": 0.049136,
     "end_time": "2025-07-23T14:37:15.810532",
     "exception": false,
     "start_time": "2025-07-23T14:37:15.761396",
     "status": "completed"
    },
    "tags": []
   },
   "outputs": [
    {
     "name": "stdout",
     "output_type": "stream",
     "text": [
      "Using Seed: 2023\n"
     ]
    }
   ],
   "source": [
    "import numpy as np\n",
    "parsed_seed = int(seed)\n",
    "np.random.seed(parsed_seed)\n",
    "print(f\"Using Seed: {parsed_seed}\")"
   ]
  },
  {
   "cell_type": "markdown",
   "id": "e0ebdc57",
   "metadata": {
    "papermill": {
     "duration": 0.035441,
     "end_time": "2025-07-23T14:37:15.888473",
     "exception": false,
     "start_time": "2025-07-23T14:37:15.853032",
     "status": "completed"
    },
    "tags": []
   },
   "source": [
    "# Loading Data"
   ]
  },
  {
   "cell_type": "markdown",
   "id": "681925a3",
   "metadata": {
    "papermill": {
     "duration": 0.035741,
     "end_time": "2025-07-23T14:37:15.972958",
     "exception": false,
     "start_time": "2025-07-23T14:37:15.937217",
     "status": "completed"
    },
    "tags": []
   },
   "source": [
    "Load siab_train, siab_test, siab_calib and/or \n",
    "load siab_train_features, siab_train_labels"
   ]
  },
  {
   "cell_type": "code",
   "execution_count": 9,
   "id": "f0496b8a",
   "metadata": {
    "execution": {
     "iopub.execute_input": "2025-07-23T14:37:16.011481Z",
     "iopub.status.busy": "2025-07-23T14:37:16.011064Z",
     "iopub.status.idle": "2025-07-23T14:37:16.017706Z",
     "shell.execute_reply": "2025-07-23T14:37:16.016352Z"
    },
    "papermill": {
     "duration": 0.03019,
     "end_time": "2025-07-23T14:37:16.021483",
     "exception": false,
     "start_time": "2025-07-23T14:37:15.991293",
     "status": "completed"
    },
    "tags": []
   },
   "outputs": [],
   "source": [
    "# Do I need to load siab? Delete this cell?\n",
    "\n",
    "#from pathlib import Path\n",
    "#import pandas as pd\n",
    "#\n",
    "## File paths\n",
    "#raw_file = Path(\"data/raw/siab.csv\")\n",
    "#cache_file = Path(\"data/siab_cached.csv.gz\")\n",
    "#\n",
    "## Ensure cache directory exists\n",
    "#cache_file.parent.mkdir(parents=True, exist_ok=True)\n",
    "#\n",
    "## Load with simple caching\n",
    "#if cache_file.exists():\n",
    "#    print(f\"Loading SIAB data from cache: {cache_file}\")\n",
    "#    siab = pd.read_csv(cache_file, compression='gzip')\n",
    "#else:\n",
    "#    print(f\"Cache not found. Reading raw SIAB data: {raw_file}\")\n",
    "#    siab = pd.read_csv(raw_file)\n",
    "#    siab.to_csv(cache_file, index=False, compression='gzip')\n",
    "#    print(f\"Cached SIAB data to: {cache_file}\")\n",
    "#\n",
    "## Now use `siab` DataFrame as needed\n",
    "#print(siab.shape)\n"
   ]
  },
  {
   "cell_type": "code",
   "execution_count": 10,
   "id": "a0edb063",
   "metadata": {
    "execution": {
     "iopub.execute_input": "2025-07-23T14:37:16.060249Z",
     "iopub.status.busy": "2025-07-23T14:37:16.059826Z",
     "iopub.status.idle": "2025-07-23T14:37:18.203809Z",
     "shell.execute_reply": "2025-07-23T14:37:18.202508Z"
    },
    "papermill": {
     "duration": 2.165733,
     "end_time": "2025-07-23T14:37:18.206237",
     "exception": false,
     "start_time": "2025-07-23T14:37:16.040504",
     "status": "completed"
    },
    "tags": []
   },
   "outputs": [],
   "source": [
    "import pandas as pd\n",
    "\n",
    "X_train = pd.read_csv(\"./data/X_train.csv\")\n",
    "y_train = pd.read_csv(\"./data/y_train.csv\")"
   ]
  },
  {
   "cell_type": "code",
   "execution_count": 11,
   "id": "63d08085",
   "metadata": {
    "execution": {
     "iopub.execute_input": "2025-07-23T14:37:18.245950Z",
     "iopub.status.busy": "2025-07-23T14:37:18.245089Z",
     "iopub.status.idle": "2025-07-23T14:37:19.851634Z",
     "shell.execute_reply": "2025-07-23T14:37:19.850493Z"
    },
    "papermill": {
     "duration": 1.626867,
     "end_time": "2025-07-23T14:37:19.853381",
     "exception": false,
     "start_time": "2025-07-23T14:37:18.226514",
     "status": "completed"
    },
    "tags": []
   },
   "outputs": [],
   "source": [
    "X_test = pd.read_csv(\"./data/X_test.csv\")\n",
    "y_true = pd.read_csv(\"./data/y_test.csv\")"
   ]
  },
  {
   "cell_type": "code",
   "execution_count": 12,
   "id": "98a8d0fa-1d3d-4ed8-bb2c-281470e24add",
   "metadata": {
    "execution": {
     "iopub.execute_input": "2025-07-23T14:37:19.888228Z",
     "iopub.status.busy": "2025-07-23T14:37:19.887279Z",
     "iopub.status.idle": "2025-07-23T14:37:21.589722Z",
     "shell.execute_reply": "2025-07-23T14:37:21.588609Z"
    },
    "papermill": {
     "duration": 1.725174,
     "end_time": "2025-07-23T14:37:21.594050",
     "exception": false,
     "start_time": "2025-07-23T14:37:19.868876",
     "status": "completed"
    },
    "tags": []
   },
   "outputs": [],
   "source": [
    "# Calibration data for conformal\n",
    "X_calib = pd.read_csv(\"./data/X_calib.csv\")\n",
    "y_calib = pd.read_csv(\"./data/y_calib.csv\")"
   ]
  },
  {
   "cell_type": "code",
   "execution_count": 13,
   "id": "e6c733c5",
   "metadata": {
    "execution": {
     "iopub.execute_input": "2025-07-23T14:37:21.701848Z",
     "iopub.status.busy": "2025-07-23T14:37:21.701430Z",
     "iopub.status.idle": "2025-07-23T14:37:21.876696Z",
     "shell.execute_reply": "2025-07-23T14:37:21.875468Z"
    },
    "papermill": {
     "duration": 0.209693,
     "end_time": "2025-07-23T14:37:21.878825",
     "exception": false,
     "start_time": "2025-07-23T14:37:21.669132",
     "status": "completed"
    },
    "tags": []
   },
   "outputs": [],
   "source": [
    "# Auxiliary data needed downstream in the pipeline\n",
    "\n",
    "org_train = X_train.copy()\n",
    "org_test = X_test.copy()\n",
    "org_calib = X_calib.copy()"
   ]
  },
  {
   "cell_type": "markdown",
   "id": "0a4a1b33",
   "metadata": {
    "papermill": {
     "duration": 0.030688,
     "end_time": "2025-07-23T14:37:21.943488",
     "exception": false,
     "start_time": "2025-07-23T14:37:21.912800",
     "status": "completed"
    },
    "tags": []
   },
   "source": [
    "# Preprocessing Data"
   ]
  },
  {
   "cell_type": "code",
   "execution_count": 14,
   "id": "ca879031",
   "metadata": {
    "execution": {
     "iopub.execute_input": "2025-07-23T14:37:21.998263Z",
     "iopub.status.busy": "2025-07-23T14:37:21.997229Z",
     "iopub.status.idle": "2025-07-23T14:37:22.004364Z",
     "shell.execute_reply": "2025-07-23T14:37:22.003224Z"
    },
    "papermill": {
     "duration": 0.040212,
     "end_time": "2025-07-23T14:37:22.006235",
     "exception": false,
     "start_time": "2025-07-23T14:37:21.966023",
     "status": "completed"
    },
    "tags": []
   },
   "outputs": [],
   "source": [
    "# EXCLUDE PROTECTED FEATURES\n",
    "# ----------------------\n",
    "# \"exclude_features\": \"none\", # \"nationality\", \"sex\", \"nationality-sex\"\n",
    "\n",
    "excluded_features = universe[\"exclude_features\"].split(\"-\") # split, e.g.: \"nationality-sex\" -> [\"nationality\", \"sex\"]\n",
    "excluded_features_dictionary = {\n",
    "    \"nationality\": [\"maxdeutsch1\", \"maxdeutsch.Missing.\"],\n",
    "    \"sex\": [\"frau1\"],\n",
    "    \"age\": [\"age\"],\n",
    "}\n"
   ]
  },
  {
   "cell_type": "code",
   "execution_count": 15,
   "id": "b745ac60",
   "metadata": {
    "execution": {
     "iopub.execute_input": "2025-07-23T14:37:22.082295Z",
     "iopub.status.busy": "2025-07-23T14:37:22.081831Z",
     "iopub.status.idle": "2025-07-23T14:37:22.088721Z",
     "shell.execute_reply": "2025-07-23T14:37:22.087507Z"
    },
    "papermill": {
     "duration": 0.04974,
     "end_time": "2025-07-23T14:37:22.092346",
     "exception": false,
     "start_time": "2025-07-23T14:37:22.042606",
     "status": "completed"
    },
    "tags": []
   },
   "outputs": [],
   "source": [
    "# Code nice names to column names\n",
    "\n",
    "excluded_features_columns = [\n",
    "    excluded_features_dictionary[f] for f in excluded_features if len(f) > 0 and f != \"none\"\n",
    "]"
   ]
  },
  {
   "cell_type": "code",
   "execution_count": 16,
   "id": "f84f73a2",
   "metadata": {
    "execution": {
     "iopub.execute_input": "2025-07-23T14:37:22.181659Z",
     "iopub.status.busy": "2025-07-23T14:37:22.181216Z",
     "iopub.status.idle": "2025-07-23T14:37:22.188190Z",
     "shell.execute_reply": "2025-07-23T14:37:22.187100Z"
    },
    "papermill": {
     "duration": 0.056749,
     "end_time": "2025-07-23T14:37:22.189952",
     "exception": false,
     "start_time": "2025-07-23T14:37:22.133203",
     "status": "completed"
    },
    "tags": []
   },
   "outputs": [],
   "source": [
    "from utils import flatten_once\n",
    "\n",
    "excluded_features_columns = flatten_once(excluded_features_columns)"
   ]
  },
  {
   "cell_type": "code",
   "execution_count": 17,
   "id": "884dea22",
   "metadata": {
    "execution": {
     "iopub.execute_input": "2025-07-23T14:37:22.261996Z",
     "iopub.status.busy": "2025-07-23T14:37:22.261480Z",
     "iopub.status.idle": "2025-07-23T14:37:22.309853Z",
     "shell.execute_reply": "2025-07-23T14:37:22.308627Z"
    },
    "papermill": {
     "duration": 0.071272,
     "end_time": "2025-07-23T14:37:22.312110",
     "exception": false,
     "start_time": "2025-07-23T14:37:22.240838",
     "status": "completed"
    },
    "tags": []
   },
   "outputs": [
    {
     "name": "stdout",
     "output_type": "stream",
     "text": [
      "Dropping features: ['maxdeutsch1', 'maxdeutsch.Missing.', 'frau1']\n"
     ]
    }
   ],
   "source": [
    "if len(excluded_features_columns) > 0:\n",
    "    print(f\"Dropping features: {excluded_features_columns}\")\n",
    "    X_train.drop(excluded_features_columns, axis=1, inplace=True)"
   ]
  },
  {
   "cell_type": "code",
   "execution_count": 18,
   "id": "95ab8b16",
   "metadata": {
    "execution": {
     "iopub.execute_input": "2025-07-23T14:37:22.355457Z",
     "iopub.status.busy": "2025-07-23T14:37:22.354920Z",
     "iopub.status.idle": "2025-07-23T14:37:22.415245Z",
     "shell.execute_reply": "2025-07-23T14:37:22.414281Z"
    },
    "papermill": {
     "duration": 0.086198,
     "end_time": "2025-07-23T14:37:22.418498",
     "exception": false,
     "start_time": "2025-07-23T14:37:22.332300",
     "status": "completed"
    },
    "tags": []
   },
   "outputs": [
    {
     "name": "stdout",
     "output_type": "stream",
     "text": [
      "Dropping features: ['maxdeutsch1', 'maxdeutsch.Missing.', 'frau1']\n"
     ]
    }
   ],
   "source": [
    "if len(excluded_features_columns) > 0:\n",
    "    print(f\"Dropping features: {excluded_features_columns}\")\n",
    "    X_test.drop(excluded_features_columns, axis=1, inplace=True)"
   ]
  },
  {
   "cell_type": "code",
   "execution_count": 19,
   "id": "1853aaf5-fb9f-46cb-a2b5-8ea4ae2237e4",
   "metadata": {
    "execution": {
     "iopub.execute_input": "2025-07-23T14:37:22.469007Z",
     "iopub.status.busy": "2025-07-23T14:37:22.468043Z",
     "iopub.status.idle": "2025-07-23T14:37:22.528133Z",
     "shell.execute_reply": "2025-07-23T14:37:22.527305Z"
    },
    "papermill": {
     "duration": 0.085459,
     "end_time": "2025-07-23T14:37:22.530079",
     "exception": false,
     "start_time": "2025-07-23T14:37:22.444620",
     "status": "completed"
    },
    "tags": []
   },
   "outputs": [
    {
     "name": "stdout",
     "output_type": "stream",
     "text": [
      "Dropping features: ['maxdeutsch1', 'maxdeutsch.Missing.', 'frau1']\n"
     ]
    }
   ],
   "source": [
    "if len(excluded_features_columns) > 0:\n",
    "    print(f\"Dropping features: {excluded_features_columns}\")\n",
    "    X_calib.drop(excluded_features_columns, axis=1, inplace=True)"
   ]
  },
  {
   "cell_type": "code",
   "execution_count": 20,
   "id": "76c4dc6d",
   "metadata": {
    "execution": {
     "iopub.execute_input": "2025-07-23T14:37:22.574727Z",
     "iopub.status.busy": "2025-07-23T14:37:22.574051Z",
     "iopub.status.idle": "2025-07-23T14:37:22.579910Z",
     "shell.execute_reply": "2025-07-23T14:37:22.578760Z"
    },
    "papermill": {
     "duration": 0.02932,
     "end_time": "2025-07-23T14:37:22.581480",
     "exception": false,
     "start_time": "2025-07-23T14:37:22.552160",
     "status": "completed"
    },
    "tags": []
   },
   "outputs": [],
   "source": [
    "# EXCLUDE CERTAIN SUBGROUPS\n",
    "# ----------------------\n",
    "\n",
    "mode = universe.get(\"exclude_subgroups\", \"keep-all\") \n",
    "# Fetches the exclude_subgroups setting from the universe dict.\n",
    "# Defaults to \"keep-all\" if the key is missing."
   ]
  },
  {
   "cell_type": "code",
   "execution_count": 21,
   "id": "21994072",
   "metadata": {
    "execution": {
     "iopub.execute_input": "2025-07-23T14:37:22.604496Z",
     "iopub.status.busy": "2025-07-23T14:37:22.603952Z",
     "iopub.status.idle": "2025-07-23T14:37:22.610935Z",
     "shell.execute_reply": "2025-07-23T14:37:22.609721Z"
    },
    "papermill": {
     "duration": 0.019738,
     "end_time": "2025-07-23T14:37:22.612927",
     "exception": false,
     "start_time": "2025-07-23T14:37:22.593189",
     "status": "completed"
    },
    "tags": []
   },
   "outputs": [],
   "source": [
    "if mode == \"keep-all\":\n",
    "    keep_mask = pd.Series(True, index=org_train.index)\n",
    "\n",
    "# org_train contains the original feature columns from features_org (in Simson)\n",
    "# features_org contains unprocessed features, for me X_train at beginning ???\n",
    "# For keep-all, creates a boolean Series (keep_mask) of all True, so no rows are removed.\n",
    "\n",
    "elif mode == \"drop-non-german\":\n",
    "    keep_mask = org_train[\"maxdeutsch1\"] == 1 # ??? what about missing values?\n",
    "\n",
    "else:\n",
    "    raise ValueError(f\"Unsupported mode for exclude_subgroups: {mode}\")\n"
   ]
  },
  {
   "cell_type": "code",
   "execution_count": 22,
   "id": "71651440",
   "metadata": {
    "execution": {
     "iopub.execute_input": "2025-07-23T14:37:22.656490Z",
     "iopub.status.busy": "2025-07-23T14:37:22.655964Z",
     "iopub.status.idle": "2025-07-23T14:37:22.664287Z",
     "shell.execute_reply": "2025-07-23T14:37:22.663216Z"
    },
    "papermill": {
     "duration": 0.034302,
     "end_time": "2025-07-23T14:37:22.668129",
     "exception": false,
     "start_time": "2025-07-23T14:37:22.633827",
     "status": "completed"
    },
    "tags": []
   },
   "outputs": [
    {
     "name": "stdout",
     "output_type": "stream",
     "text": [
      "Dropping 10036 rows (13.38%) where mode='drop-non-german'\n"
     ]
    }
   ],
   "source": [
    "n_drop = (~keep_mask).sum() # Calculates how many rows are set to be dropped\n",
    "if n_drop > 0:\n",
    "    pct = n_drop / len(keep_mask) * 100\n",
    "    print(f\"Dropping {n_drop} rows ({pct:.2f}%) where mode='{mode}'\")"
   ]
  },
  {
   "cell_type": "code",
   "execution_count": 23,
   "id": "5fb8eee5",
   "metadata": {
    "execution": {
     "iopub.execute_input": "2025-07-23T14:37:22.731462Z",
     "iopub.status.busy": "2025-07-23T14:37:22.730931Z",
     "iopub.status.idle": "2025-07-23T14:37:22.784349Z",
     "shell.execute_reply": "2025-07-23T14:37:22.783081Z"
    },
    "papermill": {
     "duration": 0.081117,
     "end_time": "2025-07-23T14:37:22.786551",
     "exception": false,
     "start_time": "2025-07-23T14:37:22.705434",
     "status": "completed"
    },
    "tags": []
   },
   "outputs": [],
   "source": [
    "X_train = X_train[keep_mask]"
   ]
  },
  {
   "cell_type": "code",
   "execution_count": 24,
   "id": "b202bb3a",
   "metadata": {
    "execution": {
     "iopub.execute_input": "2025-07-23T14:37:22.837971Z",
     "iopub.status.busy": "2025-07-23T14:37:22.837417Z",
     "iopub.status.idle": "2025-07-23T14:37:22.853719Z",
     "shell.execute_reply": "2025-07-23T14:37:22.852611Z"
    },
    "papermill": {
     "duration": 0.047529,
     "end_time": "2025-07-23T14:37:22.855466",
     "exception": false,
     "start_time": "2025-07-23T14:37:22.807937",
     "status": "completed"
    },
    "tags": []
   },
   "outputs": [],
   "source": [
    "y_train = y_train[keep_mask]"
   ]
  },
  {
   "cell_type": "markdown",
   "id": "493e2ac3",
   "metadata": {
    "papermill": {
     "duration": 0.040669,
     "end_time": "2025-07-23T14:37:22.933100",
     "exception": false,
     "start_time": "2025-07-23T14:37:22.892431",
     "status": "completed"
    },
    "tags": []
   },
   "source": [
    "# Model Training"
   ]
  },
  {
   "cell_type": "code",
   "execution_count": 25,
   "id": "679e1268",
   "metadata": {
    "execution": {
     "iopub.execute_input": "2025-07-23T14:37:23.025469Z",
     "iopub.status.busy": "2025-07-23T14:37:23.025013Z",
     "iopub.status.idle": "2025-07-23T14:37:23.328572Z",
     "shell.execute_reply": "2025-07-23T14:37:23.327232Z"
    },
    "papermill": {
     "duration": 0.347682,
     "end_time": "2025-07-23T14:37:23.330660",
     "exception": false,
     "start_time": "2025-07-23T14:37:22.982978",
     "status": "completed"
    },
    "tags": []
   },
   "outputs": [],
   "source": [
    "from sklearn.linear_model import LogisticRegression\n",
    "from sklearn.ensemble import GradientBoostingClassifier, RandomForestClassifier\n",
    "\n",
    "if (universe[\"model\"] == \"logreg\"):\n",
    "    model = LogisticRegression() #penalty=\"none\") #, solver=\"newton-cg\", max_iter=1) # include random_state=19 ?\n",
    "elif (universe[\"model\"] == \"penalized_logreg\"):\n",
    "    model = LogisticRegression(penalty=\"l2\", C=1.0) #, solver=\"newton-cg\", max_iter=1)\n",
    "elif (universe[\"model\"] == \"rf\"):\n",
    "    model = RandomForestClassifier(n_estimators=100, n_jobs=-1)\n",
    "elif (universe[\"model\"] == \"gbm\"):\n",
    "    model = GradientBoostingClassifier()\n",
    "elif (universe[\"model\"] == \"elasticnet\"):\n",
    "    model = LogisticRegression(penalty = 'elasticnet', solver = 'saga', l1_ratio = 0.5, max_iter=5000) # which solver to use?\n",
    "else:\n",
    "    raise \"Unsupported universe.model\""
   ]
  },
  {
   "cell_type": "code",
   "execution_count": 26,
   "id": "0cc8f744",
   "metadata": {
    "execution": {
     "iopub.execute_input": "2025-07-23T14:37:23.421327Z",
     "iopub.status.busy": "2025-07-23T14:37:23.419289Z",
     "iopub.status.idle": "2025-07-23T14:37:23.428882Z",
     "shell.execute_reply": "2025-07-23T14:37:23.427741Z"
    },
    "papermill": {
     "duration": 0.063238,
     "end_time": "2025-07-23T14:37:23.430914",
     "exception": false,
     "start_time": "2025-07-23T14:37:23.367676",
     "status": "completed"
    },
    "tags": []
   },
   "outputs": [],
   "source": [
    "import numpy as np\n",
    "from sklearn.pipeline import Pipeline\n",
    "from sklearn.preprocessing import StandardScaler\n",
    "\n",
    "model = Pipeline([\n",
    "    #(\"continuous_processor\", continuous_processor),\n",
    "    #(\"categorical_preprocessor\", categorical_preprocessor),\n",
    "    (\"scale\", StandardScaler() if universe[\"scale\"] == \"scale\" else None), \n",
    "    (\"model\", model),\n",
    "])"
   ]
  },
  {
   "cell_type": "code",
   "execution_count": 27,
   "id": "9442c04d",
   "metadata": {
    "execution": {
     "iopub.execute_input": "2025-07-23T14:37:23.515356Z",
     "iopub.status.busy": "2025-07-23T14:37:23.514919Z",
     "iopub.status.idle": "2025-07-23T14:37:32.264898Z",
     "shell.execute_reply": "2025-07-23T14:37:32.263977Z"
    },
    "papermill": {
     "duration": 8.789956,
     "end_time": "2025-07-23T14:37:32.266757",
     "exception": false,
     "start_time": "2025-07-23T14:37:23.476801",
     "status": "completed"
    },
    "tags": []
   },
   "outputs": [
    {
     "data": {
      "text/html": [
       "<style>#sk-container-id-1 {color: black;background-color: white;}#sk-container-id-1 pre{padding: 0;}#sk-container-id-1 div.sk-toggleable {background-color: white;}#sk-container-id-1 label.sk-toggleable__label {cursor: pointer;display: block;width: 100%;margin-bottom: 0;padding: 0.3em;box-sizing: border-box;text-align: center;}#sk-container-id-1 label.sk-toggleable__label-arrow:before {content: \"▸\";float: left;margin-right: 0.25em;color: #696969;}#sk-container-id-1 label.sk-toggleable__label-arrow:hover:before {color: black;}#sk-container-id-1 div.sk-estimator:hover label.sk-toggleable__label-arrow:before {color: black;}#sk-container-id-1 div.sk-toggleable__content {max-height: 0;max-width: 0;overflow: hidden;text-align: left;background-color: #f0f8ff;}#sk-container-id-1 div.sk-toggleable__content pre {margin: 0.2em;color: black;border-radius: 0.25em;background-color: #f0f8ff;}#sk-container-id-1 input.sk-toggleable__control:checked~div.sk-toggleable__content {max-height: 200px;max-width: 100%;overflow: auto;}#sk-container-id-1 input.sk-toggleable__control:checked~label.sk-toggleable__label-arrow:before {content: \"▾\";}#sk-container-id-1 div.sk-estimator input.sk-toggleable__control:checked~label.sk-toggleable__label {background-color: #d4ebff;}#sk-container-id-1 div.sk-label input.sk-toggleable__control:checked~label.sk-toggleable__label {background-color: #d4ebff;}#sk-container-id-1 input.sk-hidden--visually {border: 0;clip: rect(1px 1px 1px 1px);clip: rect(1px, 1px, 1px, 1px);height: 1px;margin: -1px;overflow: hidden;padding: 0;position: absolute;width: 1px;}#sk-container-id-1 div.sk-estimator {font-family: monospace;background-color: #f0f8ff;border: 1px dotted black;border-radius: 0.25em;box-sizing: border-box;margin-bottom: 0.5em;}#sk-container-id-1 div.sk-estimator:hover {background-color: #d4ebff;}#sk-container-id-1 div.sk-parallel-item::after {content: \"\";width: 100%;border-bottom: 1px solid gray;flex-grow: 1;}#sk-container-id-1 div.sk-label:hover label.sk-toggleable__label {background-color: #d4ebff;}#sk-container-id-1 div.sk-serial::before {content: \"\";position: absolute;border-left: 1px solid gray;box-sizing: border-box;top: 0;bottom: 0;left: 50%;z-index: 0;}#sk-container-id-1 div.sk-serial {display: flex;flex-direction: column;align-items: center;background-color: white;padding-right: 0.2em;padding-left: 0.2em;position: relative;}#sk-container-id-1 div.sk-item {position: relative;z-index: 1;}#sk-container-id-1 div.sk-parallel {display: flex;align-items: stretch;justify-content: center;background-color: white;position: relative;}#sk-container-id-1 div.sk-item::before, #sk-container-id-1 div.sk-parallel-item::before {content: \"\";position: absolute;border-left: 1px solid gray;box-sizing: border-box;top: 0;bottom: 0;left: 50%;z-index: -1;}#sk-container-id-1 div.sk-parallel-item {display: flex;flex-direction: column;z-index: 1;position: relative;background-color: white;}#sk-container-id-1 div.sk-parallel-item:first-child::after {align-self: flex-end;width: 50%;}#sk-container-id-1 div.sk-parallel-item:last-child::after {align-self: flex-start;width: 50%;}#sk-container-id-1 div.sk-parallel-item:only-child::after {width: 0;}#sk-container-id-1 div.sk-dashed-wrapped {border: 1px dashed gray;margin: 0 0.4em 0.5em 0.4em;box-sizing: border-box;padding-bottom: 0.4em;background-color: white;}#sk-container-id-1 div.sk-label label {font-family: monospace;font-weight: bold;display: inline-block;line-height: 1.2em;}#sk-container-id-1 div.sk-label-container {text-align: center;}#sk-container-id-1 div.sk-container {/* jupyter's `normalize.less` sets `[hidden] { display: none; }` but bootstrap.min.css set `[hidden] { display: none !important; }` so we also need the `!important` here to be able to override the default hidden behavior on the sphinx rendered scikit-learn.org. See: https://github.com/scikit-learn/scikit-learn/issues/21755 */display: inline-block !important;position: relative;}#sk-container-id-1 div.sk-text-repr-fallback {display: none;}</style><div id=\"sk-container-id-1\" class=\"sk-top-container\"><div class=\"sk-text-repr-fallback\"><pre>Pipeline(steps=[(&#x27;scale&#x27;, None), (&#x27;model&#x27;, RandomForestClassifier(n_jobs=-1))])</pre><b>In a Jupyter environment, please rerun this cell to show the HTML representation or trust the notebook. <br />On GitHub, the HTML representation is unable to render, please try loading this page with nbviewer.org.</b></div><div class=\"sk-container\" hidden><div class=\"sk-item sk-dashed-wrapped\"><div class=\"sk-label-container\"><div class=\"sk-label sk-toggleable\"><input class=\"sk-toggleable__control sk-hidden--visually\" id=\"sk-estimator-id-1\" type=\"checkbox\" ><label for=\"sk-estimator-id-1\" class=\"sk-toggleable__label sk-toggleable__label-arrow\">Pipeline</label><div class=\"sk-toggleable__content\"><pre>Pipeline(steps=[(&#x27;scale&#x27;, None), (&#x27;model&#x27;, RandomForestClassifier(n_jobs=-1))])</pre></div></div></div><div class=\"sk-serial\"><div class=\"sk-item\"><div class=\"sk-estimator sk-toggleable\"><input class=\"sk-toggleable__control sk-hidden--visually\" id=\"sk-estimator-id-2\" type=\"checkbox\" ><label for=\"sk-estimator-id-2\" class=\"sk-toggleable__label sk-toggleable__label-arrow\">None</label><div class=\"sk-toggleable__content\"><pre>None</pre></div></div></div><div class=\"sk-item\"><div class=\"sk-estimator sk-toggleable\"><input class=\"sk-toggleable__control sk-hidden--visually\" id=\"sk-estimator-id-3\" type=\"checkbox\" ><label for=\"sk-estimator-id-3\" class=\"sk-toggleable__label sk-toggleable__label-arrow\">RandomForestClassifier</label><div class=\"sk-toggleable__content\"><pre>RandomForestClassifier(n_jobs=-1)</pre></div></div></div></div></div></div></div>"
      ],
      "text/plain": [
       "Pipeline(steps=[('scale', None), ('model', RandomForestClassifier(n_jobs=-1))])"
      ]
     },
     "execution_count": 27,
     "metadata": {},
     "output_type": "execute_result"
    }
   ],
   "source": [
    "model.fit(X_train, y_train.values.ravel())"
   ]
  },
  {
   "cell_type": "code",
   "execution_count": 28,
   "id": "af59f8c0",
   "metadata": {
    "execution": {
     "iopub.execute_input": "2025-07-23T14:37:32.311821Z",
     "iopub.status.busy": "2025-07-23T14:37:32.310792Z",
     "iopub.status.idle": "2025-07-23T14:37:32.317553Z",
     "shell.execute_reply": "2025-07-23T14:37:32.316410Z"
    },
    "papermill": {
     "duration": 0.030658,
     "end_time": "2025-07-23T14:37:32.319556",
     "exception": false,
     "start_time": "2025-07-23T14:37:32.288898",
     "status": "completed"
    },
    "tags": []
   },
   "outputs": [],
   "source": [
    "from fairness_multiverse.universe import predict_w_threshold"
   ]
  },
  {
   "cell_type": "code",
   "execution_count": 29,
   "id": "a7cf2e16",
   "metadata": {
    "execution": {
     "iopub.execute_input": "2025-07-23T14:37:32.389599Z",
     "iopub.status.busy": "2025-07-23T14:37:32.388665Z",
     "iopub.status.idle": "2025-07-23T14:37:33.647153Z",
     "shell.execute_reply": "2025-07-23T14:37:33.646127Z"
    },
    "papermill": {
     "duration": 1.28103,
     "end_time": "2025-07-23T14:37:33.648987",
     "exception": false,
     "start_time": "2025-07-23T14:37:32.367957",
     "status": "completed"
    },
    "tags": []
   },
   "outputs": [
    {
     "data": {
      "text/plain": [
       "0.8670716753985063"
      ]
     },
     "execution_count": 29,
     "metadata": {},
     "output_type": "execute_result"
    }
   ],
   "source": [
    "probs_test = model.predict_proba(X_test)\n",
    "\n",
    "'''\n",
    "Below code returns a boolean array (or binary 0/1 array depending on how it’s used) where each element \n",
    "is True if the probability of class 1 is greater than or equal to the threshold, and False otherwise.\n",
    "'''\n",
    "y_pred_default = predict_w_threshold(probs_test, 0.5)\n",
    "\n",
    "from sklearn.metrics import accuracy_score\n",
    "\n",
    "# Naive prediction\n",
    "accuracy_score(y_true = y_true, y_pred = y_pred_default)"
   ]
  },
  {
   "cell_type": "code",
   "execution_count": 30,
   "id": "081964c3",
   "metadata": {
    "execution": {
     "iopub.execute_input": "2025-07-23T14:37:33.691847Z",
     "iopub.status.busy": "2025-07-23T14:37:33.690745Z",
     "iopub.status.idle": "2025-07-23T14:37:34.827916Z",
     "shell.execute_reply": "2025-07-23T14:37:34.826981Z"
    },
    "papermill": {
     "duration": 1.160254,
     "end_time": "2025-07-23T14:37:34.829646",
     "exception": false,
     "start_time": "2025-07-23T14:37:33.669392",
     "status": "completed"
    },
    "tags": []
   },
   "outputs": [
    {
     "data": {
      "text/plain": [
       "array([0, 0, 0, ..., 0, 0, 0])"
      ]
     },
     "execution_count": 30,
     "metadata": {},
     "output_type": "execute_result"
    }
   ],
   "source": [
    "model.predict(X_test)"
   ]
  },
  {
   "cell_type": "markdown",
   "id": "56c9705b",
   "metadata": {
    "papermill": {
     "duration": 0.020399,
     "end_time": "2025-07-23T14:37:34.869694",
     "exception": false,
     "start_time": "2025-07-23T14:37:34.849295",
     "status": "completed"
    },
    "tags": []
   },
   "source": [
    "# Conformal Prediction"
   ]
  },
  {
   "cell_type": "code",
   "execution_count": 31,
   "id": "160ec6ff",
   "metadata": {
    "execution": {
     "iopub.execute_input": "2025-07-23T14:37:34.913425Z",
     "iopub.status.busy": "2025-07-23T14:37:34.912846Z",
     "iopub.status.idle": "2025-07-23T14:37:34.918576Z",
     "shell.execute_reply": "2025-07-23T14:37:34.917707Z"
    },
    "papermill": {
     "duration": 0.030787,
     "end_time": "2025-07-23T14:37:34.920351",
     "exception": false,
     "start_time": "2025-07-23T14:37:34.889564",
     "status": "completed"
    },
    "tags": []
   },
   "outputs": [],
   "source": [
    "# Miscoverage level for conformal prediction (10% allowed error rate => 90% target coverage)\n",
    "alpha = 0.1"
   ]
  },
  {
   "cell_type": "code",
   "execution_count": 32,
   "id": "eadf4555-3dd3-440e-8e35-f82a4ad9f855",
   "metadata": {
    "execution": {
     "iopub.execute_input": "2025-07-23T14:37:34.960696Z",
     "iopub.status.busy": "2025-07-23T14:37:34.960116Z",
     "iopub.status.idle": "2025-07-23T14:37:36.058512Z",
     "shell.execute_reply": "2025-07-23T14:37:36.057461Z"
    },
    "papermill": {
     "duration": 1.119212,
     "end_time": "2025-07-23T14:37:36.061286",
     "exception": false,
     "start_time": "2025-07-23T14:37:34.942074",
     "status": "completed"
    },
    "tags": []
   },
   "outputs": [],
   "source": [
    "probs_calib = model.predict_proba(X_calib)"
   ]
  },
  {
   "cell_type": "code",
   "execution_count": 33,
   "id": "2ed93547-6d5d-4983-9b36-1ecb300da49a",
   "metadata": {
    "execution": {
     "iopub.execute_input": "2025-07-23T14:37:36.107410Z",
     "iopub.status.busy": "2025-07-23T14:37:36.106934Z",
     "iopub.status.idle": "2025-07-23T14:37:36.113919Z",
     "shell.execute_reply": "2025-07-23T14:37:36.112728Z"
    },
    "papermill": {
     "duration": 0.034018,
     "end_time": "2025-07-23T14:37:36.117761",
     "exception": false,
     "start_time": "2025-07-23T14:37:36.083743",
     "status": "completed"
    },
    "tags": []
   },
   "outputs": [],
   "source": [
    "y_calib = y_calib.values.ravel().astype(int)"
   ]
  },
  {
   "cell_type": "code",
   "execution_count": 34,
   "id": "65d1320d-f588-4b38-9072-62af1ae97f7d",
   "metadata": {
    "execution": {
     "iopub.execute_input": "2025-07-23T14:37:36.199387Z",
     "iopub.status.busy": "2025-07-23T14:37:36.198923Z",
     "iopub.status.idle": "2025-07-23T14:37:36.209524Z",
     "shell.execute_reply": "2025-07-23T14:37:36.208179Z"
    },
    "papermill": {
     "duration": 0.067929,
     "end_time": "2025-07-23T14:37:36.211816",
     "exception": false,
     "start_time": "2025-07-23T14:37:36.143887",
     "status": "completed"
    },
    "tags": []
   },
   "outputs": [],
   "source": [
    "from fairness_multiverse.conformal import compute_nc_scores\n",
    "\n",
    "# Compute nonconformity scores on calibration set (1 - probability of true class)\n",
    "nc_scores = compute_nc_scores(probs_calib, y_calib)"
   ]
  },
  {
   "cell_type": "code",
   "execution_count": 35,
   "id": "df3b8ca3-53b7-43d5-9667-7c85da7aeda2",
   "metadata": {
    "execution": {
     "iopub.execute_input": "2025-07-23T14:37:36.302727Z",
     "iopub.status.busy": "2025-07-23T14:37:36.302256Z",
     "iopub.status.idle": "2025-07-23T14:37:36.310261Z",
     "shell.execute_reply": "2025-07-23T14:37:36.309091Z"
    },
    "papermill": {
     "duration": 0.056753,
     "end_time": "2025-07-23T14:37:36.314098",
     "exception": false,
     "start_time": "2025-07-23T14:37:36.257345",
     "status": "completed"
    },
    "tags": []
   },
   "outputs": [],
   "source": [
    "from fairness_multiverse.conformal import find_threshold\n",
    "\n",
    "# Find conformal threshold q_hat for the given alpha (split conformal method)\n",
    "q_hat = find_threshold(nc_scores, alpha)"
   ]
  },
  {
   "cell_type": "code",
   "execution_count": 36,
   "id": "4d29e6c1-0ef6-4aa4-b8fe-4fe79b0d033a",
   "metadata": {
    "execution": {
     "iopub.execute_input": "2025-07-23T14:37:36.406371Z",
     "iopub.status.busy": "2025-07-23T14:37:36.405925Z",
     "iopub.status.idle": "2025-07-23T14:37:36.414638Z",
     "shell.execute_reply": "2025-07-23T14:37:36.413522Z"
    },
    "papermill": {
     "duration": 0.051424,
     "end_time": "2025-07-23T14:37:36.416482",
     "exception": false,
     "start_time": "2025-07-23T14:37:36.365058",
     "status": "completed"
    },
    "tags": []
   },
   "outputs": [
    {
     "data": {
      "text/plain": [
       "0.65"
      ]
     },
     "execution_count": 36,
     "metadata": {},
     "output_type": "execute_result"
    }
   ],
   "source": [
    "q_hat"
   ]
  },
  {
   "cell_type": "code",
   "execution_count": 37,
   "id": "92460794-cdac-4be2-ba28-f28c0515a6fb",
   "metadata": {
    "execution": {
     "iopub.execute_input": "2025-07-23T14:37:36.538959Z",
     "iopub.status.busy": "2025-07-23T14:37:36.538488Z",
     "iopub.status.idle": "2025-07-23T14:37:40.241783Z",
     "shell.execute_reply": "2025-07-23T14:37:40.236371Z"
    },
    "papermill": {
     "duration": 3.779122,
     "end_time": "2025-07-23T14:37:40.244062",
     "exception": false,
     "start_time": "2025-07-23T14:37:36.464940",
     "status": "completed"
    },
    "tags": []
   },
   "outputs": [],
   "source": [
    "from fairness_multiverse.conformal import predict_conformal_sets\n",
    "\n",
    "# Generate prediction sets for each test example\n",
    "pred_sets = predict_conformal_sets(model, X_test, q_hat)"
   ]
  },
  {
   "cell_type": "code",
   "execution_count": 38,
   "id": "d90c9a65-e6db-4f5d-80cd-e68fb7e46829",
   "metadata": {
    "execution": {
     "iopub.execute_input": "2025-07-23T14:37:40.352549Z",
     "iopub.status.busy": "2025-07-23T14:37:40.351979Z",
     "iopub.status.idle": "2025-07-23T14:37:40.359512Z",
     "shell.execute_reply": "2025-07-23T14:37:40.357755Z"
    },
    "papermill": {
     "duration": 0.079204,
     "end_time": "2025-07-23T14:37:40.361865",
     "exception": false,
     "start_time": "2025-07-23T14:37:40.282661",
     "status": "completed"
    },
    "tags": []
   },
   "outputs": [],
   "source": [
    "y_true = y_true.squeeze()"
   ]
  },
  {
   "cell_type": "code",
   "execution_count": 39,
   "id": "3a58a54a-1e68-46b9-927a-df01f18aebc8",
   "metadata": {
    "execution": {
     "iopub.execute_input": "2025-07-23T14:37:40.453338Z",
     "iopub.status.busy": "2025-07-23T14:37:40.452871Z",
     "iopub.status.idle": "2025-07-23T14:37:42.677927Z",
     "shell.execute_reply": "2025-07-23T14:37:42.676641Z"
    },
    "papermill": {
     "duration": 2.274796,
     "end_time": "2025-07-23T14:37:42.679932",
     "exception": false,
     "start_time": "2025-07-23T14:37:40.405136",
     "status": "completed"
    },
    "tags": []
   },
   "outputs": [],
   "source": [
    "from fairness_multiverse.conformal import evaluate_sets\n",
    "\n",
    "# Evaluate coverage and average set size on test data\n",
    "metrics = evaluate_sets(pred_sets, y_true)"
   ]
  },
  {
   "cell_type": "code",
   "execution_count": 40,
   "id": "5ce0a5cb-201f-45a0-ade5-94c7f0bd6095",
   "metadata": {
    "execution": {
     "iopub.execute_input": "2025-07-23T14:37:42.797227Z",
     "iopub.status.busy": "2025-07-23T14:37:42.796141Z",
     "iopub.status.idle": "2025-07-23T14:37:42.804965Z",
     "shell.execute_reply": "2025-07-23T14:37:42.803815Z"
    },
    "papermill": {
     "duration": 0.067339,
     "end_time": "2025-07-23T14:37:42.806712",
     "exception": false,
     "start_time": "2025-07-23T14:37:42.739373",
     "status": "completed"
    },
    "tags": []
   },
   "outputs": [
    {
     "data": {
      "text/plain": [
       "{'coverage': 0.91635269200758, 'avg_size': 1.145033998439416}"
      ]
     },
     "execution_count": 40,
     "metadata": {},
     "output_type": "execute_result"
    }
   ],
   "source": [
    "metrics"
   ]
  },
  {
   "cell_type": "code",
   "execution_count": 41,
   "id": "9b9a838d-31c9-430b-ae14-12baee460d17",
   "metadata": {
    "execution": {
     "iopub.execute_input": "2025-07-23T14:37:42.897748Z",
     "iopub.status.busy": "2025-07-23T14:37:42.897340Z",
     "iopub.status.idle": "2025-07-23T14:37:42.904482Z",
     "shell.execute_reply": "2025-07-23T14:37:42.903186Z"
    },
    "papermill": {
     "duration": 0.051226,
     "end_time": "2025-07-23T14:37:42.908406",
     "exception": false,
     "start_time": "2025-07-23T14:37:42.857180",
     "status": "completed"
    },
    "tags": []
   },
   "outputs": [],
   "source": [
    "example_universe = universe.copy()\n",
    "universe_model = example_universe.get(\"model\")\n",
    "universe_exclude_features = example_universe.get(\"exclude_features\")\n",
    "universe_exclude_subgroups = example_universe.get(\"exclude_subgroups\")\n",
    "universe_scale = example_universe.get(\"scale\")"
   ]
  },
  {
   "cell_type": "code",
   "execution_count": 42,
   "id": "f4b6a8ac-9dc0-4245-8a91-5b3b5999c4f9",
   "metadata": {
    "execution": {
     "iopub.execute_input": "2025-07-23T14:37:42.956676Z",
     "iopub.status.busy": "2025-07-23T14:37:42.956227Z",
     "iopub.status.idle": "2025-07-23T14:37:42.963573Z",
     "shell.execute_reply": "2025-07-23T14:37:42.962455Z"
    },
    "papermill": {
     "duration": 0.03556,
     "end_time": "2025-07-23T14:37:42.967364",
     "exception": false,
     "start_time": "2025-07-23T14:37:42.931804",
     "status": "completed"
    },
    "tags": []
   },
   "outputs": [],
   "source": [
    "cp_metrics_dict = {\n",
    "    \"universe_id\": [universe_id],\n",
    "    \"universe_model\": [universe_model],\n",
    "    \"universe_exclude_features\": [universe_exclude_features],\n",
    "    \"universe_exclude_subgroups\": [universe_exclude_subgroups],\n",
    "    \"universe_scale\": [universe_scale],\n",
    "    \"q_hat\": [q_hat],\n",
    "    \"coverage\": [metrics[\"coverage\"]],\n",
    "    \"avg_size\": [metrics[\"avg_size\"]],\n",
    "}"
   ]
  },
  {
   "cell_type": "code",
   "execution_count": 43,
   "id": "908acbb1-0371-4915-85ca-3fa520d2efe2",
   "metadata": {
    "execution": {
     "iopub.execute_input": "2025-07-23T14:37:43.070012Z",
     "iopub.status.busy": "2025-07-23T14:37:43.069542Z",
     "iopub.status.idle": "2025-07-23T14:37:43.078619Z",
     "shell.execute_reply": "2025-07-23T14:37:43.077491Z"
    },
    "papermill": {
     "duration": 0.054428,
     "end_time": "2025-07-23T14:37:43.083276",
     "exception": false,
     "start_time": "2025-07-23T14:37:43.028848",
     "status": "completed"
    },
    "tags": []
   },
   "outputs": [
    {
     "data": {
      "text/plain": [
       "{'universe_id': ['367a9c68d15d6fdd51c64ae309cb359c'],\n",
       " 'universe_model': ['rf'],\n",
       " 'universe_exclude_features': ['nationality-sex'],\n",
       " 'universe_exclude_subgroups': ['drop-non-german'],\n",
       " 'universe_scale': ['do-not-scale'],\n",
       " 'q_hat': [0.65],\n",
       " 'coverage': [0.91635269200758],\n",
       " 'avg_size': [1.145033998439416]}"
      ]
     },
     "execution_count": 43,
     "metadata": {},
     "output_type": "execute_result"
    }
   ],
   "source": [
    "cp_metrics_dict"
   ]
  },
  {
   "cell_type": "code",
   "execution_count": 44,
   "id": "33007efc-14e9-4ec6-97ac-56a455c82265",
   "metadata": {
    "execution": {
     "iopub.execute_input": "2025-07-23T14:37:43.181020Z",
     "iopub.status.busy": "2025-07-23T14:37:43.180545Z",
     "iopub.status.idle": "2025-07-23T14:37:43.188509Z",
     "shell.execute_reply": "2025-07-23T14:37:43.187314Z"
    },
    "papermill": {
     "duration": 0.055117,
     "end_time": "2025-07-23T14:37:43.191930",
     "exception": false,
     "start_time": "2025-07-23T14:37:43.136813",
     "status": "completed"
    },
    "tags": []
   },
   "outputs": [],
   "source": [
    "cp_metrics_df = pd.DataFrame(cp_metrics_dict)"
   ]
  },
  {
   "cell_type": "code",
   "execution_count": 45,
   "id": "db12611b-57b2-4910-b9d0-355adfd6e7bf",
   "metadata": {
    "execution": {
     "iopub.execute_input": "2025-07-23T14:37:43.242148Z",
     "iopub.status.busy": "2025-07-23T14:37:43.241740Z",
     "iopub.status.idle": "2025-07-23T14:37:43.266102Z",
     "shell.execute_reply": "2025-07-23T14:37:43.264965Z"
    },
    "papermill": {
     "duration": 0.051725,
     "end_time": "2025-07-23T14:37:43.268205",
     "exception": false,
     "start_time": "2025-07-23T14:37:43.216480",
     "status": "completed"
    },
    "tags": []
   },
   "outputs": [
    {
     "data": {
      "text/html": [
       "<div>\n",
       "<style scoped>\n",
       "    .dataframe tbody tr th:only-of-type {\n",
       "        vertical-align: middle;\n",
       "    }\n",
       "\n",
       "    .dataframe tbody tr th {\n",
       "        vertical-align: top;\n",
       "    }\n",
       "\n",
       "    .dataframe thead th {\n",
       "        text-align: right;\n",
       "    }\n",
       "</style>\n",
       "<table border=\"1\" class=\"dataframe\">\n",
       "  <thead>\n",
       "    <tr style=\"text-align: right;\">\n",
       "      <th></th>\n",
       "      <th>universe_id</th>\n",
       "      <th>universe_model</th>\n",
       "      <th>universe_exclude_features</th>\n",
       "      <th>universe_exclude_subgroups</th>\n",
       "      <th>universe_scale</th>\n",
       "      <th>q_hat</th>\n",
       "      <th>coverage</th>\n",
       "      <th>avg_size</th>\n",
       "    </tr>\n",
       "  </thead>\n",
       "  <tbody>\n",
       "    <tr>\n",
       "      <th>0</th>\n",
       "      <td>367a9c68d15d6fdd51c64ae309cb359c</td>\n",
       "      <td>rf</td>\n",
       "      <td>nationality-sex</td>\n",
       "      <td>drop-non-german</td>\n",
       "      <td>do-not-scale</td>\n",
       "      <td>0.65</td>\n",
       "      <td>0.916353</td>\n",
       "      <td>1.145034</td>\n",
       "    </tr>\n",
       "  </tbody>\n",
       "</table>\n",
       "</div>"
      ],
      "text/plain": [
       "                        universe_id universe_model universe_exclude_features  \\\n",
       "0  367a9c68d15d6fdd51c64ae309cb359c             rf           nationality-sex   \n",
       "\n",
       "  universe_exclude_subgroups universe_scale  q_hat  coverage  avg_size  \n",
       "0            drop-non-german   do-not-scale   0.65  0.916353  1.145034  "
      ]
     },
     "execution_count": 45,
     "metadata": {},
     "output_type": "execute_result"
    }
   ],
   "source": [
    "cp_metrics_df"
   ]
  },
  {
   "cell_type": "code",
   "execution_count": 46,
   "id": "b7fbde55-a0a1-47e4-9af6-fe4a17fa8c61",
   "metadata": {
    "execution": {
     "iopub.execute_input": "2025-07-23T14:37:43.407176Z",
     "iopub.status.busy": "2025-07-23T14:37:43.406514Z",
     "iopub.status.idle": "2025-07-23T14:37:43.416854Z",
     "shell.execute_reply": "2025-07-23T14:37:43.415218Z"
    },
    "papermill": {
     "duration": 0.079702,
     "end_time": "2025-07-23T14:37:43.420340",
     "exception": false,
     "start_time": "2025-07-23T14:37:43.340638",
     "status": "completed"
    },
    "tags": []
   },
   "outputs": [],
   "source": [
    "# Conditional Coverage & looking at subgroups"
   ]
  },
  {
   "cell_type": "code",
   "execution_count": 47,
   "id": "027ae886-68dd-4141-96c7-805a5450e1ef",
   "metadata": {
    "execution": {
     "iopub.execute_input": "2025-07-23T14:37:43.525346Z",
     "iopub.status.busy": "2025-07-23T14:37:43.524877Z",
     "iopub.status.idle": "2025-07-23T14:37:44.209772Z",
     "shell.execute_reply": "2025-07-23T14:37:44.198980Z"
    },
    "papermill": {
     "duration": 0.734136,
     "end_time": "2025-07-23T14:37:44.215782",
     "exception": false,
     "start_time": "2025-07-23T14:37:43.481646",
     "status": "completed"
    },
    "tags": []
   },
   "outputs": [],
   "source": [
    "from fairness_multiverse.conformal import build_cp_groups\n",
    "\n",
    "cp_groups_df = build_cp_groups(pred_sets, y_true, X_test.index, org_test)\n",
    "#needs universe_id and setting"
   ]
  },
  {
   "cell_type": "code",
   "execution_count": 48,
   "id": "c3b92545-903e-4839-89af-0f057907d7d6",
   "metadata": {
    "execution": {
     "iopub.execute_input": "2025-07-23T14:37:44.331462Z",
     "iopub.status.busy": "2025-07-23T14:37:44.330985Z",
     "iopub.status.idle": "2025-07-23T14:37:47.602161Z",
     "shell.execute_reply": "2025-07-23T14:37:47.600670Z"
    },
    "papermill": {
     "duration": 3.324471,
     "end_time": "2025-07-23T14:37:47.604341",
     "exception": false,
     "start_time": "2025-07-23T14:37:44.279870",
     "status": "completed"
    },
    "tags": []
   },
   "outputs": [],
   "source": [
    "# Define covered = 1 if true_label is in the predicted set\n",
    "cp_groups_df['covered'] = cp_groups_df.apply(\n",
    "    lambda r: int(r['true_label'] in r['pred_set']),\n",
    "    axis=1\n",
    ")"
   ]
  },
  {
   "cell_type": "code",
   "execution_count": 49,
   "id": "338ff529-1a6b-4b87-a931-8e4788d52aad",
   "metadata": {
    "execution": {
     "iopub.execute_input": "2025-07-23T14:37:47.759890Z",
     "iopub.status.busy": "2025-07-23T14:37:47.758732Z",
     "iopub.status.idle": "2025-07-23T14:37:47.765235Z",
     "shell.execute_reply": "2025-07-23T14:37:47.764146Z"
    },
    "papermill": {
     "duration": 0.084224,
     "end_time": "2025-07-23T14:37:47.769031",
     "exception": false,
     "start_time": "2025-07-23T14:37:47.684807",
     "status": "completed"
    },
    "tags": []
   },
   "outputs": [],
   "source": [
    "#cp_groups_df"
   ]
  },
  {
   "cell_type": "code",
   "execution_count": 50,
   "id": "90032e27-66df-4540-9169-4e89cfbaa758",
   "metadata": {
    "execution": {
     "iopub.execute_input": "2025-07-23T14:37:47.890912Z",
     "iopub.status.busy": "2025-07-23T14:37:47.890454Z",
     "iopub.status.idle": "2025-07-23T14:37:47.911770Z",
     "shell.execute_reply": "2025-07-23T14:37:47.909422Z"
    },
    "papermill": {
     "duration": 0.074797,
     "end_time": "2025-07-23T14:37:47.913905",
     "exception": false,
     "start_time": "2025-07-23T14:37:47.839108",
     "status": "completed"
    },
    "tags": []
   },
   "outputs": [],
   "source": [
    "subgroups = ['frau1','nongerman','nongerman_male','nongerman_female']\n",
    "\n",
    "# Conditional coverage for subgroup==1\n",
    "cond_coverage = {\n",
    "    g: cp_groups_df.loc[cp_groups_df[g]==1, 'covered'].mean()\n",
    "    for g in subgroups\n",
    "}"
   ]
  },
  {
   "cell_type": "code",
   "execution_count": 51,
   "id": "1e348fb1-b9c3-45bc-ba23-f016827a7e0d",
   "metadata": {
    "execution": {
     "iopub.execute_input": "2025-07-23T14:37:48.026745Z",
     "iopub.status.busy": "2025-07-23T14:37:48.026261Z",
     "iopub.status.idle": "2025-07-23T14:37:48.036161Z",
     "shell.execute_reply": "2025-07-23T14:37:48.034782Z"
    },
    "papermill": {
     "duration": 0.07225,
     "end_time": "2025-07-23T14:37:48.043328",
     "exception": false,
     "start_time": "2025-07-23T14:37:47.971078",
     "status": "completed"
    },
    "tags": []
   },
   "outputs": [
    {
     "data": {
      "text/plain": [
       "{'frau1': 0.916996899851732,\n",
       " 'nongerman': 0.9121428170437321,\n",
       " 'nongerman_male': 0.9249752319193011,\n",
       " 'nongerman_female': 0.8909090909090909}"
      ]
     },
     "execution_count": 51,
     "metadata": {},
     "output_type": "execute_result"
    }
   ],
   "source": [
    "cond_coverage"
   ]
  },
  {
   "cell_type": "code",
   "execution_count": 52,
   "id": "f5093324-c3dd-4d63-bc4c-8d945e5c8bbb",
   "metadata": {
    "execution": {
     "iopub.execute_input": "2025-07-23T14:37:48.170744Z",
     "iopub.status.busy": "2025-07-23T14:37:48.170290Z",
     "iopub.status.idle": "2025-07-23T14:37:48.178942Z",
     "shell.execute_reply": "2025-07-23T14:37:48.177876Z"
    },
    "papermill": {
     "duration": 0.076488,
     "end_time": "2025-07-23T14:37:48.189221",
     "exception": false,
     "start_time": "2025-07-23T14:37:48.112733",
     "status": "completed"
    },
    "tags": []
   },
   "outputs": [],
   "source": [
    "for subgroup, cov in cond_coverage.items():\n",
    "    cp_metrics_df[f\"cov_{subgroup}\"] = cov"
   ]
  },
  {
   "cell_type": "code",
   "execution_count": 53,
   "id": "6e872e10-dbe5-49e8-b554-5030c98ff75d",
   "metadata": {
    "execution": {
     "iopub.execute_input": "2025-07-23T14:37:48.326646Z",
     "iopub.status.busy": "2025-07-23T14:37:48.326180Z",
     "iopub.status.idle": "2025-07-23T14:37:48.377263Z",
     "shell.execute_reply": "2025-07-23T14:37:48.375004Z"
    },
    "papermill": {
     "duration": 0.125238,
     "end_time": "2025-07-23T14:37:48.379803",
     "exception": false,
     "start_time": "2025-07-23T14:37:48.254565",
     "status": "completed"
    },
    "tags": []
   },
   "outputs": [
    {
     "data": {
      "text/html": [
       "<div>\n",
       "<style scoped>\n",
       "    .dataframe tbody tr th:only-of-type {\n",
       "        vertical-align: middle;\n",
       "    }\n",
       "\n",
       "    .dataframe tbody tr th {\n",
       "        vertical-align: top;\n",
       "    }\n",
       "\n",
       "    .dataframe thead th {\n",
       "        text-align: right;\n",
       "    }\n",
       "</style>\n",
       "<table border=\"1\" class=\"dataframe\">\n",
       "  <thead>\n",
       "    <tr style=\"text-align: right;\">\n",
       "      <th></th>\n",
       "      <th>universe_id</th>\n",
       "      <th>universe_model</th>\n",
       "      <th>universe_exclude_features</th>\n",
       "      <th>universe_exclude_subgroups</th>\n",
       "      <th>universe_scale</th>\n",
       "      <th>q_hat</th>\n",
       "      <th>coverage</th>\n",
       "      <th>avg_size</th>\n",
       "      <th>cov_frau1</th>\n",
       "      <th>cov_nongerman</th>\n",
       "      <th>cov_nongerman_male</th>\n",
       "      <th>cov_nongerman_female</th>\n",
       "    </tr>\n",
       "  </thead>\n",
       "  <tbody>\n",
       "    <tr>\n",
       "      <th>0</th>\n",
       "      <td>367a9c68d15d6fdd51c64ae309cb359c</td>\n",
       "      <td>rf</td>\n",
       "      <td>nationality-sex</td>\n",
       "      <td>drop-non-german</td>\n",
       "      <td>do-not-scale</td>\n",
       "      <td>0.65</td>\n",
       "      <td>0.916353</td>\n",
       "      <td>1.145034</td>\n",
       "      <td>0.916997</td>\n",
       "      <td>0.912143</td>\n",
       "      <td>0.924975</td>\n",
       "      <td>0.890909</td>\n",
       "    </tr>\n",
       "  </tbody>\n",
       "</table>\n",
       "</div>"
      ],
      "text/plain": [
       "                        universe_id universe_model universe_exclude_features  \\\n",
       "0  367a9c68d15d6fdd51c64ae309cb359c             rf           nationality-sex   \n",
       "\n",
       "  universe_exclude_subgroups universe_scale  q_hat  coverage  avg_size  \\\n",
       "0            drop-non-german   do-not-scale   0.65  0.916353  1.145034   \n",
       "\n",
       "   cov_frau1  cov_nongerman  cov_nongerman_male  cov_nongerman_female  \n",
       "0   0.916997       0.912143            0.924975              0.890909  "
      ]
     },
     "execution_count": 53,
     "metadata": {},
     "output_type": "execute_result"
    }
   ],
   "source": [
    "cp_metrics_df"
   ]
  },
  {
   "cell_type": "markdown",
   "id": "33774451",
   "metadata": {
    "papermill": {
     "duration": 0.080424,
     "end_time": "2025-07-23T14:37:48.536707",
     "exception": false,
     "start_time": "2025-07-23T14:37:48.456283",
     "status": "completed"
    },
    "tags": []
   },
   "source": [
    "# (Fairness) Metrics"
   ]
  },
  {
   "cell_type": "code",
   "execution_count": 54,
   "id": "debc5d62",
   "metadata": {
    "execution": {
     "iopub.execute_input": "2025-07-23T14:37:48.689865Z",
     "iopub.status.busy": "2025-07-23T14:37:48.689382Z",
     "iopub.status.idle": "2025-07-23T14:37:48.742773Z",
     "shell.execute_reply": "2025-07-23T14:37:48.741456Z"
    },
    "papermill": {
     "duration": 0.137669,
     "end_time": "2025-07-23T14:37:48.745213",
     "exception": false,
     "start_time": "2025-07-23T14:37:48.607544",
     "status": "completed"
    },
    "tags": []
   },
   "outputs": [],
   "source": [
    "# do I need to include maxdeutsch1.missing?\n",
    "\n",
    "import numpy as np\n",
    "\n",
    "colname_to_bin = \"maxdeutsch1\"\n",
    "majority_value = org_train[colname_to_bin].mode()[0]\n",
    "\n",
    "org_test[\"majmin\"] = np.where(org_test[colname_to_bin] == majority_value, \"majority\", \"minority\")"
   ]
  },
  {
   "cell_type": "code",
   "execution_count": 55,
   "id": "06a50de5",
   "metadata": {
    "execution": {
     "iopub.execute_input": "2025-07-23T14:37:48.851712Z",
     "iopub.status.busy": "2025-07-23T14:37:48.851256Z",
     "iopub.status.idle": "2025-07-23T14:37:55.073920Z",
     "shell.execute_reply": "2025-07-23T14:37:55.072645Z"
    },
    "papermill": {
     "duration": 6.281042,
     "end_time": "2025-07-23T14:37:55.076276",
     "exception": false,
     "start_time": "2025-07-23T14:37:48.795234",
     "status": "completed"
    },
    "tags": []
   },
   "outputs": [],
   "source": [
    "example_universe = universe.copy()\n",
    "example_universe[\"cutoff\"] = example_universe[\"cutoff\"][0]\n",
    "example_universe[\"eval_fairness_grouping\"] = example_universe[\"eval_fairness_grouping\"][0]\n",
    "fairness_dict, metric_frame = universe_analysis.compute_metrics(\n",
    "    example_universe,\n",
    "    y_pred_prob=probs_test,\n",
    "    y_test=y_true,\n",
    "    org_test=org_test,\n",
    ")"
   ]
  },
  {
   "cell_type": "markdown",
   "id": "f95d4e02",
   "metadata": {
    "papermill": {
     "duration": 0.025017,
     "end_time": "2025-07-23T14:37:55.129867",
     "exception": false,
     "start_time": "2025-07-23T14:37:55.104850",
     "status": "completed"
    },
    "tags": []
   },
   "source": [
    "# Overall"
   ]
  },
  {
   "cell_type": "markdown",
   "id": "bdee4871",
   "metadata": {
    "papermill": {
     "duration": 0.028844,
     "end_time": "2025-07-23T14:37:55.193502",
     "exception": false,
     "start_time": "2025-07-23T14:37:55.164658",
     "status": "completed"
    },
    "tags": []
   },
   "source": [
    "Fairness\n",
    "Main fairness target: Equalized Odds. Seems to be a better fit than equal opportunity, since we're not only interested in Y = 1. Seems to be a better fit than demographic parity, since we also care about accuracy, not just equal distribution of preds.\n",
    "\n",
    "Pick column for computation of fairness metrics\n",
    "\n",
    "Performance\n",
    "Overall performance measures, most interesting in relation to the measures split by group below"
   ]
  },
  {
   "cell_type": "code",
   "execution_count": 56,
   "id": "c4e067c6",
   "metadata": {
    "execution": {
     "iopub.execute_input": "2025-07-23T14:37:55.246603Z",
     "iopub.status.busy": "2025-07-23T14:37:55.246081Z",
     "iopub.status.idle": "2025-07-23T14:37:55.255797Z",
     "shell.execute_reply": "2025-07-23T14:37:55.254704Z"
    },
    "papermill": {
     "duration": 0.038138,
     "end_time": "2025-07-23T14:37:55.257794",
     "exception": false,
     "start_time": "2025-07-23T14:37:55.219656",
     "status": "completed"
    },
    "tags": []
   },
   "outputs": [
    {
     "data": {
      "text/plain": [
       "accuracy                   0.197815\n",
       "balanced accuracy          0.531324\n",
       "f1                         0.238621\n",
       "precision                  0.135851\n",
       "false positive rate        0.917278\n",
       "false negative rate        0.020073\n",
       "selection rate             0.925315\n",
       "count                  89710.000000\n",
       "dtype: float64"
      ]
     },
     "execution_count": 56,
     "metadata": {},
     "output_type": "execute_result"
    }
   ],
   "source": [
    "metric_frame.overall"
   ]
  },
  {
   "cell_type": "markdown",
   "id": "e968fe9d",
   "metadata": {
    "papermill": {
     "duration": 0.024453,
     "end_time": "2025-07-23T14:37:55.308133",
     "exception": false,
     "start_time": "2025-07-23T14:37:55.283680",
     "status": "completed"
    },
    "tags": []
   },
   "source": [
    "By Group"
   ]
  },
  {
   "cell_type": "code",
   "execution_count": 57,
   "id": "ec325bce",
   "metadata": {
    "execution": {
     "iopub.execute_input": "2025-07-23T14:37:55.358014Z",
     "iopub.status.busy": "2025-07-23T14:37:55.357499Z",
     "iopub.status.idle": "2025-07-23T14:37:55.373731Z",
     "shell.execute_reply": "2025-07-23T14:37:55.372643Z"
    },
    "papermill": {
     "duration": 0.042794,
     "end_time": "2025-07-23T14:37:55.375375",
     "exception": false,
     "start_time": "2025-07-23T14:37:55.332581",
     "status": "completed"
    },
    "tags": []
   },
   "outputs": [
    {
     "data": {
      "text/html": [
       "<div>\n",
       "<style scoped>\n",
       "    .dataframe tbody tr th:only-of-type {\n",
       "        vertical-align: middle;\n",
       "    }\n",
       "\n",
       "    .dataframe tbody tr th {\n",
       "        vertical-align: top;\n",
       "    }\n",
       "\n",
       "    .dataframe thead th {\n",
       "        text-align: right;\n",
       "    }\n",
       "</style>\n",
       "<table border=\"1\" class=\"dataframe\">\n",
       "  <thead>\n",
       "    <tr style=\"text-align: right;\">\n",
       "      <th></th>\n",
       "      <th>accuracy</th>\n",
       "      <th>balanced accuracy</th>\n",
       "      <th>f1</th>\n",
       "      <th>precision</th>\n",
       "      <th>false positive rate</th>\n",
       "      <th>false negative rate</th>\n",
       "      <th>selection rate</th>\n",
       "      <th>count</th>\n",
       "    </tr>\n",
       "    <tr>\n",
       "      <th>majmin</th>\n",
       "      <th></th>\n",
       "      <th></th>\n",
       "      <th></th>\n",
       "      <th></th>\n",
       "      <th></th>\n",
       "      <th></th>\n",
       "      <th></th>\n",
       "      <th></th>\n",
       "    </tr>\n",
       "  </thead>\n",
       "  <tbody>\n",
       "    <tr>\n",
       "      <th>majority</th>\n",
       "      <td>0.190458</td>\n",
       "      <td>0.530075</td>\n",
       "      <td>0.244563</td>\n",
       "      <td>0.139480</td>\n",
       "      <td>0.931534</td>\n",
       "      <td>0.008315</td>\n",
       "      <td>0.939482</td>\n",
       "      <td>69170.0</td>\n",
       "    </tr>\n",
       "    <tr>\n",
       "      <th>minority</th>\n",
       "      <td>0.222590</td>\n",
       "      <td>0.532180</td>\n",
       "      <td>0.217025</td>\n",
       "      <td>0.122767</td>\n",
       "      <td>0.870185</td>\n",
       "      <td>0.065456</td>\n",
       "      <td>0.877605</td>\n",
       "      <td>20540.0</td>\n",
       "    </tr>\n",
       "  </tbody>\n",
       "</table>\n",
       "</div>"
      ],
      "text/plain": [
       "          accuracy  balanced accuracy        f1  precision  \\\n",
       "majmin                                                       \n",
       "majority  0.190458           0.530075  0.244563   0.139480   \n",
       "minority  0.222590           0.532180  0.217025   0.122767   \n",
       "\n",
       "          false positive rate  false negative rate  selection rate    count  \n",
       "majmin                                                                       \n",
       "majority             0.931534             0.008315        0.939482  69170.0  \n",
       "minority             0.870185             0.065456        0.877605  20540.0  "
      ]
     },
     "execution_count": 57,
     "metadata": {},
     "output_type": "execute_result"
    }
   ],
   "source": [
    "metric_frame.by_group"
   ]
  },
  {
   "cell_type": "code",
   "execution_count": 58,
   "id": "a9ddbe63",
   "metadata": {
    "execution": {
     "iopub.execute_input": "2025-07-23T14:37:55.427715Z",
     "iopub.status.busy": "2025-07-23T14:37:55.426743Z",
     "iopub.status.idle": "2025-07-23T14:37:58.663896Z",
     "shell.execute_reply": "2025-07-23T14:37:58.662839Z"
    },
    "papermill": {
     "duration": 3.264314,
     "end_time": "2025-07-23T14:37:58.665913",
     "exception": false,
     "start_time": "2025-07-23T14:37:55.401599",
     "status": "completed"
    },
    "tags": []
   },
   "outputs": [
    {
     "data": {
      "text/plain": [
       "array([[<Axes: title={'center': 'accuracy'}, xlabel='majmin'>,\n",
       "        <Axes: title={'center': 'balanced accuracy'}, xlabel='majmin'>,\n",
       "        <Axes: title={'center': 'f1'}, xlabel='majmin'>],\n",
       "       [<Axes: title={'center': 'precision'}, xlabel='majmin'>,\n",
       "        <Axes: title={'center': 'false positive rate'}, xlabel='majmin'>,\n",
       "        <Axes: title={'center': 'false negative rate'}, xlabel='majmin'>],\n",
       "       [<Axes: title={'center': 'selection rate'}, xlabel='majmin'>,\n",
       "        <Axes: title={'center': 'count'}, xlabel='majmin'>,\n",
       "        <Axes: xlabel='majmin'>]], dtype=object)"
      ]
     },
     "execution_count": 58,
     "metadata": {},
     "output_type": "execute_result"
    },
    {
     "data": {
      "image/png": "[encoded data removed]",
      "text/plain": [
       "<Figure size 1200x800 with 9 Axes>"
      ]
     },
     "metadata": {},
     "output_type": "display_data"
    }
   ],
   "source": [
    "# In a graphic\n",
    "metric_frame.by_group.plot.bar(\n",
    "    subplots=True,\n",
    "    layout=[3, 3],\n",
    "    legend=False,\n",
    "    figsize=[12, 8],\n",
    "    title=\"Show all metrics\",\n",
    ")"
   ]
  },
  {
   "cell_type": "markdown",
   "id": "f57a0bac",
   "metadata": {
    "papermill": {
     "duration": 0.044517,
     "end_time": "2025-07-23T14:37:58.768250",
     "exception": false,
     "start_time": "2025-07-23T14:37:58.723733",
     "status": "completed"
    },
    "tags": []
   },
   "source": [
    "# Final Output"
   ]
  },
  {
   "cell_type": "code",
   "execution_count": 59,
   "id": "96d280a3",
   "metadata": {
    "execution": {
     "iopub.execute_input": "2025-07-23T14:37:58.888516Z",
     "iopub.status.busy": "2025-07-23T14:37:58.887870Z",
     "iopub.status.idle": "2025-07-23T14:37:58.897508Z",
     "shell.execute_reply": "2025-07-23T14:37:58.896317Z"
    },
    "papermill": {
     "duration": 0.061975,
     "end_time": "2025-07-23T14:37:58.899307",
     "exception": false,
     "start_time": "2025-07-23T14:37:58.837332",
     "status": "completed"
    },
    "tags": []
   },
   "outputs": [
    {
     "data": {
      "text/plain": [
       "4"
      ]
     },
     "execution_count": 59,
     "metadata": {},
     "output_type": "execute_result"
    }
   ],
   "source": [
    "sub_universes = universe_analysis.generate_sub_universes()\n",
    "len(sub_universes)"
   ]
  },
  {
   "cell_type": "code",
   "execution_count": 60,
   "id": "92adf7ba",
   "metadata": {
    "execution": {
     "iopub.execute_input": "2025-07-23T14:37:59.018944Z",
     "iopub.status.busy": "2025-07-23T14:37:59.018482Z",
     "iopub.status.idle": "2025-07-23T14:37:59.025872Z",
     "shell.execute_reply": "2025-07-23T14:37:59.024671Z"
    },
    "papermill": {
     "duration": 0.06179,
     "end_time": "2025-07-23T14:37:59.029612",
     "exception": false,
     "start_time": "2025-07-23T14:37:58.967822",
     "status": "completed"
    },
    "tags": []
   },
   "outputs": [],
   "source": [
    "def filter_sub_universe_data(sub_universe, org_test):\n",
    "    # Keep all rows — no filtering\n",
    "    keep_rows_mask = np.ones(org_test.shape[0], dtype=bool)\n",
    "\n",
    "    print(f\"[INFO] Keeping all rows: {keep_rows_mask.sum()} rows retained.\")\n",
    "    return keep_rows_mask"
   ]
  },
  {
   "cell_type": "code",
   "execution_count": 61,
   "id": "4a759155",
   "metadata": {
    "execution": {
     "iopub.execute_input": "2025-07-23T14:37:59.128838Z",
     "iopub.status.busy": "2025-07-23T14:37:59.128348Z",
     "iopub.status.idle": "2025-07-23T14:38:11.298923Z",
     "shell.execute_reply": "2025-07-23T14:38:11.297598Z"
    },
    "papermill": {
     "duration": 12.212733,
     "end_time": "2025-07-23T14:38:11.301045",
     "exception": false,
     "start_time": "2025-07-23T14:37:59.088312",
     "status": "completed"
    },
    "tags": []
   },
   "outputs": [
    {
     "name": "stdout",
     "output_type": "stream",
     "text": [
      "Stopping execution_time clock.\n",
      "[INFO] Keeping all rows: 89710 rows retained.\n"
     ]
    },
    {
     "name": "stdout",
     "output_type": "stream",
     "text": [
      "[INFO] Keeping all rows: 89710 rows retained.\n"
     ]
    },
    {
     "name": "stdout",
     "output_type": "stream",
     "text": [
      "[INFO] Keeping all rows: 89710 rows retained.\n"
     ]
    },
    {
     "name": "stdout",
     "output_type": "stream",
     "text": [
      "[INFO] Keeping all rows: 89710 rows retained.\n"
     ]
    },
    {
     "data": {
      "text/html": [
       "<div>\n",
       "<style scoped>\n",
       "    .dataframe tbody tr th:only-of-type {\n",
       "        vertical-align: middle;\n",
       "    }\n",
       "\n",
       "    .dataframe tbody tr th {\n",
       "        vertical-align: top;\n",
       "    }\n",
       "\n",
       "    .dataframe thead th {\n",
       "        text-align: right;\n",
       "    }\n",
       "</style>\n",
       "<table border=\"1\" class=\"dataframe\">\n",
       "  <thead>\n",
       "    <tr style=\"text-align: right;\">\n",
       "      <th></th>\n",
       "      <th>run_no</th>\n",
       "      <th>universe_id</th>\n",
       "      <th>universe_settings</th>\n",
       "      <th>execution_time</th>\n",
       "      <th>test_size_n</th>\n",
       "      <th>test_size_frac</th>\n",
       "      <th>fair_main_equalized_odds_difference</th>\n",
       "      <th>fair_main_equalized_odds_ratio</th>\n",
       "      <th>fair_main_demographic_parity_difference</th>\n",
       "      <th>fair_main_demographic_parity_ratio</th>\n",
       "      <th>...</th>\n",
       "      <th>perf_grp_precision_0</th>\n",
       "      <th>perf_grp_precision_1</th>\n",
       "      <th>perf_grp_false positive rate_0</th>\n",
       "      <th>perf_grp_false positive rate_1</th>\n",
       "      <th>perf_grp_false negative rate_0</th>\n",
       "      <th>perf_grp_false negative rate_1</th>\n",
       "      <th>perf_grp_selection rate_0</th>\n",
       "      <th>perf_grp_selection rate_1</th>\n",
       "      <th>perf_grp_count_0</th>\n",
       "      <th>perf_grp_count_1</th>\n",
       "    </tr>\n",
       "  </thead>\n",
       "  <tbody>\n",
       "    <tr>\n",
       "      <th>0</th>\n",
       "      <td>9</td>\n",
       "      <td>367a9c68d15d6fdd51c64ae309cb359c</td>\n",
       "      <td>{\"cutoff\": \"quantile_0.1\", \"eval_fairness_grou...</td>\n",
       "      <td>43.521857</td>\n",
       "      <td>89710</td>\n",
       "      <td>1.0</td>\n",
       "      <td>0.061349</td>\n",
       "      <td>0.934142</td>\n",
       "      <td>0.061878</td>\n",
       "      <td>0.934136</td>\n",
       "      <td>...</td>\n",
       "      <td>NaN</td>\n",
       "      <td>NaN</td>\n",
       "      <td>NaN</td>\n",
       "      <td>NaN</td>\n",
       "      <td>NaN</td>\n",
       "      <td>NaN</td>\n",
       "      <td>NaN</td>\n",
       "      <td>NaN</td>\n",
       "      <td>NaN</td>\n",
       "      <td>NaN</td>\n",
       "    </tr>\n",
       "    <tr>\n",
       "      <th>0</th>\n",
       "      <td>9</td>\n",
       "      <td>367a9c68d15d6fdd51c64ae309cb359c</td>\n",
       "      <td>{\"cutoff\": \"quantile_0.1\", \"eval_fairness_grou...</td>\n",
       "      <td>43.521857</td>\n",
       "      <td>89710</td>\n",
       "      <td>1.0</td>\n",
       "      <td>0.061349</td>\n",
       "      <td>0.934142</td>\n",
       "      <td>0.061878</td>\n",
       "      <td>0.934136</td>\n",
       "      <td>...</td>\n",
       "      <td>0.122767</td>\n",
       "      <td>0.139480</td>\n",
       "      <td>0.870185</td>\n",
       "      <td>0.931534</td>\n",
       "      <td>0.065456</td>\n",
       "      <td>0.008315</td>\n",
       "      <td>0.877605</td>\n",
       "      <td>0.939482</td>\n",
       "      <td>20540.0</td>\n",
       "      <td>69170.0</td>\n",
       "    </tr>\n",
       "    <tr>\n",
       "      <th>0</th>\n",
       "      <td>9</td>\n",
       "      <td>367a9c68d15d6fdd51c64ae309cb359c</td>\n",
       "      <td>{\"cutoff\": \"quantile_0.25\", \"eval_fairness_gro...</td>\n",
       "      <td>43.521857</td>\n",
       "      <td>89710</td>\n",
       "      <td>1.0</td>\n",
       "      <td>0.104082</td>\n",
       "      <td>0.891970</td>\n",
       "      <td>0.077188</td>\n",
       "      <td>0.902802</td>\n",
       "      <td>...</td>\n",
       "      <td>NaN</td>\n",
       "      <td>NaN</td>\n",
       "      <td>NaN</td>\n",
       "      <td>NaN</td>\n",
       "      <td>NaN</td>\n",
       "      <td>NaN</td>\n",
       "      <td>NaN</td>\n",
       "      <td>NaN</td>\n",
       "      <td>NaN</td>\n",
       "      <td>NaN</td>\n",
       "    </tr>\n",
       "    <tr>\n",
       "      <th>0</th>\n",
       "      <td>9</td>\n",
       "      <td>367a9c68d15d6fdd51c64ae309cb359c</td>\n",
       "      <td>{\"cutoff\": \"quantile_0.25\", \"eval_fairness_gro...</td>\n",
       "      <td>43.521857</td>\n",
       "      <td>89710</td>\n",
       "      <td>1.0</td>\n",
       "      <td>0.104082</td>\n",
       "      <td>0.891970</td>\n",
       "      <td>0.077188</td>\n",
       "      <td>0.902802</td>\n",
       "      <td>...</td>\n",
       "      <td>0.138191</td>\n",
       "      <td>0.160313</td>\n",
       "      <td>0.698382</td>\n",
       "      <td>0.768349</td>\n",
       "      <td>0.140625</td>\n",
       "      <td>0.036543</td>\n",
       "      <td>0.716943</td>\n",
       "      <td>0.794130</td>\n",
       "      <td>20540.0</td>\n",
       "      <td>69170.0</td>\n",
       "    </tr>\n",
       "  </tbody>\n",
       "</table>\n",
       "<p>4 rows × 50 columns</p>\n",
       "</div>"
      ],
      "text/plain": [
       "  run_no                       universe_id  \\\n",
       "0      9  367a9c68d15d6fdd51c64ae309cb359c   \n",
       "0      9  367a9c68d15d6fdd51c64ae309cb359c   \n",
       "0      9  367a9c68d15d6fdd51c64ae309cb359c   \n",
       "0      9  367a9c68d15d6fdd51c64ae309cb359c   \n",
       "\n",
       "                                   universe_settings  execution_time  \\\n",
       "0  {\"cutoff\": \"quantile_0.1\", \"eval_fairness_grou...       43.521857   \n",
       "0  {\"cutoff\": \"quantile_0.1\", \"eval_fairness_grou...       43.521857   \n",
       "0  {\"cutoff\": \"quantile_0.25\", \"eval_fairness_gro...       43.521857   \n",
       "0  {\"cutoff\": \"quantile_0.25\", \"eval_fairness_gro...       43.521857   \n",
       "\n",
       "   test_size_n  test_size_frac  fair_main_equalized_odds_difference  \\\n",
       "0        89710             1.0                             0.061349   \n",
       "0        89710             1.0                             0.061349   \n",
       "0        89710             1.0                             0.104082   \n",
       "0        89710             1.0                             0.104082   \n",
       "\n",
       "   fair_main_equalized_odds_ratio  fair_main_demographic_parity_difference  \\\n",
       "0                        0.934142                                 0.061878   \n",
       "0                        0.934142                                 0.061878   \n",
       "0                        0.891970                                 0.077188   \n",
       "0                        0.891970                                 0.077188   \n",
       "\n",
       "   fair_main_demographic_parity_ratio  ...  perf_grp_precision_0  \\\n",
       "0                            0.934136  ...                   NaN   \n",
       "0                            0.934136  ...              0.122767   \n",
       "0                            0.902802  ...                   NaN   \n",
       "0                            0.902802  ...              0.138191   \n",
       "\n",
       "   perf_grp_precision_1  perf_grp_false positive rate_0  \\\n",
       "0                   NaN                             NaN   \n",
       "0              0.139480                        0.870185   \n",
       "0                   NaN                             NaN   \n",
       "0              0.160313                        0.698382   \n",
       "\n",
       "   perf_grp_false positive rate_1  perf_grp_false negative rate_0  \\\n",
       "0                             NaN                             NaN   \n",
       "0                        0.931534                        0.065456   \n",
       "0                             NaN                             NaN   \n",
       "0                        0.768349                        0.140625   \n",
       "\n",
       "   perf_grp_false negative rate_1  perf_grp_selection rate_0  \\\n",
       "0                             NaN                        NaN   \n",
       "0                        0.008315                   0.877605   \n",
       "0                             NaN                        NaN   \n",
       "0                        0.036543                   0.716943   \n",
       "\n",
       "   perf_grp_selection rate_1  perf_grp_count_0  perf_grp_count_1  \n",
       "0                        NaN               NaN               NaN  \n",
       "0                   0.939482           20540.0           69170.0  \n",
       "0                        NaN               NaN               NaN  \n",
       "0                   0.794130           20540.0           69170.0  \n",
       "\n",
       "[4 rows x 50 columns]"
      ]
     },
     "execution_count": 61,
     "metadata": {},
     "output_type": "execute_result"
    }
   ],
   "source": [
    "final_output = universe_analysis.generate_final_output(\n",
    "    y_pred_prob=probs_test,\n",
    "    y_test=y_true,\n",
    "    org_test=org_test,\n",
    "    filter_data=filter_sub_universe_data,\n",
    "    cp_metrics_df=cp_metrics_df,\n",
    "    save=True,\n",
    ")\n",
    "final_output"
   ]
  },
  {
   "cell_type": "code",
   "execution_count": null,
   "id": "721ff514-cb11-46f8-b6fc-50392f74b5cb",
   "metadata": {
    "papermill": {
     "duration": 0.02591,
     "end_time": "2025-07-23T14:38:11.356952",
     "exception": false,
     "start_time": "2025-07-23T14:38:11.331042",
     "status": "completed"
    },
    "tags": []
   },
   "outputs": [],
   "source": []
  }
 ],
 "metadata": {
  "celltoolbar": "Tags",
  "kernelspec": {
   "display_name": "Python (CMA Fairness)",
   "language": "python",
   "name": "cma_fair_env"
  },
  "language_info": {
   "codemirror_mode": {
    "name": "ipython",
    "version": 3
   },
   "file_extension": ".py",
   "mimetype": "text/x-python",
   "name": "python",
   "nbconvert_exporter": "python",
   "pygments_lexer": "ipython3",
   "version": "3.10.12"
  },
  "papermill": {
   "default_parameters": {},
   "duration": 64.663437,
   "end_time": "2025-07-23T14:38:12.202994",
   "environment_variables": {},
   "exception": null,
   "input_path": "universe_analysis.ipynb",
   "output_path": "output/runs/9/notebooks/m_9-367a9c68d15d6fdd51c64ae309cb359c.ipynb",
   "parameters": {
    "output_dir": "output",
    "run_no": "9",
    "seed": "2023",
    "universe": "{\"cutoff\": [\"quantile_0.1\", \"quantile_0.25\"], \"eval_fairness_grouping\": [\"majority-minority\", \"nationality-all\"], \"exclude_features\": \"nationality-sex\", \"exclude_subgroups\": \"drop-non-german\", \"model\": \"rf\", \"scale\": \"do-not-scale\"}",
    "universe_id": "367a9c68d15d6fdd51c64ae309cb359c"
   },
   "start_time": "2025-07-23T14:37:07.539557",
   "version": "2.6.0"
  }
 },
 "nbformat": 4,
 "nbformat_minor": 5
}