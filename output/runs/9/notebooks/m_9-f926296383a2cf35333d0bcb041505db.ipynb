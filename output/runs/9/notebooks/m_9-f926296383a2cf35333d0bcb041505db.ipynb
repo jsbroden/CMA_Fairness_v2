{
 "cells": [
  {
   "cell_type": "code",
   "execution_count": 1,
   "id": "f159f837-637b-42ba-96b5-ec9a68c44524",
   "metadata": {
    "execution": {
     "iopub.execute_input": "2025-07-23T14:35:16.685210Z",
     "iopub.status.busy": "2025-07-23T14:35:16.684655Z",
     "iopub.status.idle": "2025-07-23T14:35:16.700698Z",
     "shell.execute_reply": "2025-07-23T14:35:16.699405Z"
    },
    "papermill": {
     "duration": 0.038455,
     "end_time": "2025-07-23T14:35:16.702885",
     "exception": false,
     "start_time": "2025-07-23T14:35:16.664430",
     "status": "completed"
    },
    "tags": []
   },
   "outputs": [
    {
     "name": "stdout",
     "output_type": "stream",
     "text": [
      "/dss/dsshome1/0C/ra93lal2/cma/CMA_Fairness_v2\n"
     ]
    },
    {
     "name": "stderr",
     "output_type": "stream",
     "text": [
      "/dss/dsshome1/0C/ra93lal2/.local/share/virtualenvs/CMA_Fairness_v2-3j10GkSs/lib/python3.10/site-packages/IPython/core/magics/osm.py:393: UserWarning: This is now an optional IPython functionality, using bookmarks requires you to install the `pickleshare` library.\n",
      "  bkms = self.shell.db.get('bookmarks', {})\n",
      "/dss/dsshome1/0C/ra93lal2/.local/share/virtualenvs/CMA_Fairness_v2-3j10GkSs/lib/python3.10/site-packages/IPython/core/magics/osm.py:417: UserWarning: This is now an optional IPython functionality, setting dhist requires you to install the `pickleshare` library.\n",
      "  self.shell.db['dhist'] = compress_dhist(dhist)[-100:]\n"
     ]
    }
   ],
   "source": [
    "%cd ~/cma/CMA_Fairness_v2"
   ]
  },
  {
   "cell_type": "markdown",
   "id": "de2603b9",
   "metadata": {
    "papermill": {
     "duration": 0.017441,
     "end_time": "2025-07-23T14:35:16.738606",
     "exception": false,
     "start_time": "2025-07-23T14:35:16.721165",
     "status": "completed"
    },
    "tags": []
   },
   "source": [
    "The following cell holds the definition of our parameters, these values can be overriden by rendering the with e.g. the following command:\n",
    "\n",
    "papermill -p alpha 0.2 -p ratio 0.3 universe_analysis.ipynb output/test_run.ipynb"
   ]
  },
  {
   "cell_type": "code",
   "execution_count": 2,
   "id": "a80968a0-40bb-4fa9-85ef-2d5eefb01975",
   "metadata": {
    "execution": {
     "iopub.execute_input": "2025-07-23T14:35:16.777530Z",
     "iopub.status.busy": "2025-07-23T14:35:16.776675Z",
     "iopub.status.idle": "2025-07-23T14:35:16.783136Z",
     "shell.execute_reply": "2025-07-23T14:35:16.782024Z"
    },
    "papermill": {
     "duration": 0.027722,
     "end_time": "2025-07-23T14:35:16.784919",
     "exception": false,
     "start_time": "2025-07-23T14:35:16.757197",
     "status": "completed"
    },
    "tags": []
   },
   "outputs": [
    {
     "name": "stdout",
     "output_type": "stream",
     "text": [
      "Current working directory: /dss/dsshome1/0C/ra93lal2/cma/CMA_Fairness_v2\n"
     ]
    }
   ],
   "source": [
    "import os\n",
    "print(\"Current working directory:\", os.getcwd())"
   ]
  },
  {
   "cell_type": "code",
   "execution_count": 3,
   "id": "2dce4c03",
   "metadata": {
    "execution": {
     "iopub.execute_input": "2025-07-23T14:35:16.824514Z",
     "iopub.status.busy": "2025-07-23T14:35:16.823447Z",
     "iopub.status.idle": "2025-07-23T14:35:16.830416Z",
     "shell.execute_reply": "2025-07-23T14:35:16.829378Z"
    },
    "papermill": {
     "duration": 0.028546,
     "end_time": "2025-07-23T14:35:16.832319",
     "exception": false,
     "start_time": "2025-07-23T14:35:16.803773",
     "status": "completed"
    },
    "tags": [
     "parameters"
    ]
   },
   "outputs": [],
   "source": [
    "run_no = 0\n",
    "universe_id = \"test\"\n",
    "universe = {\n",
    "    \"scale\": \"scale\", # \"scale\", \"do-not-scale\",\n",
    "    \"model\": \"elasticnet\", # \"logreg\", \"penalized_logreg\", \"rf\", \"gbm\", \"elasticnet\"\n",
    "    \"cutoff\": [\"quantile_0.15\", \"quantile_0.30\"],\n",
    "    \"exclude_features\": \"age\", # \"none\", \"nationality\", \"sex\", \"nationality-sex\", \"age\"\n",
    "    \"exclude_subgroups\": \"keep-all\", # \"keep-all\", \"drop-non-german\"\n",
    "    #\"training_sample\": \"restricted\", # \"restricted\", \"full\"\n",
    "    \"eval_fairness_grouping\": [\"majority-minority\", \"nationality-all\"]\n",
    "}\n",
    "\n",
    "output_dir=\"./output\"\n",
    "seed=0"
   ]
  },
  {
   "cell_type": "code",
   "execution_count": 4,
   "id": "60c9943e",
   "metadata": {
    "execution": {
     "iopub.execute_input": "2025-07-23T14:35:16.871681Z",
     "iopub.status.busy": "2025-07-23T14:35:16.870666Z",
     "iopub.status.idle": "2025-07-23T14:35:16.876162Z",
     "shell.execute_reply": "2025-07-23T14:35:16.875346Z"
    },
    "papermill": {
     "duration": 0.026288,
     "end_time": "2025-07-23T14:35:16.877745",
     "exception": false,
     "start_time": "2025-07-23T14:35:16.851457",
     "status": "completed"
    },
    "tags": [
     "injected-parameters"
    ]
   },
   "outputs": [],
   "source": [
    "# Parameters\n",
    "universe_id = \"f926296383a2cf35333d0bcb041505db\"\n",
    "run_no = \"9\"\n",
    "universe = \"{\\\"cutoff\\\": [\\\"quantile_0.1\\\", \\\"quantile_0.25\\\"], \\\"eval_fairness_grouping\\\": [\\\"majority-minority\\\", \\\"nationality-all\\\"], \\\"exclude_features\\\": \\\"nationality\\\", \\\"exclude_subgroups\\\": \\\"keep-all\\\", \\\"model\\\": \\\"penalized_logreg\\\", \\\"scale\\\": \\\"do-not-scale\\\"}\"\n",
    "output_dir = \"output\"\n",
    "seed = \"2023\"\n"
   ]
  },
  {
   "cell_type": "code",
   "execution_count": 5,
   "id": "1650acaf",
   "metadata": {
    "execution": {
     "iopub.execute_input": "2025-07-23T14:35:16.909291Z",
     "iopub.status.busy": "2025-07-23T14:35:16.908906Z",
     "iopub.status.idle": "2025-07-23T14:35:16.914011Z",
     "shell.execute_reply": "2025-07-23T14:35:16.912845Z"
    },
    "papermill": {
     "duration": 0.025405,
     "end_time": "2025-07-23T14:35:16.915693",
     "exception": false,
     "start_time": "2025-07-23T14:35:16.890288",
     "status": "completed"
    },
    "tags": []
   },
   "outputs": [],
   "source": [
    "import json\n",
    "# Parse universe into dict if it is passed as a string\n",
    "if isinstance(universe, str):\n",
    "    universe = json.loads(universe)"
   ]
  },
  {
   "cell_type": "code",
   "execution_count": 6,
   "id": "16620c48",
   "metadata": {
    "execution": {
     "iopub.execute_input": "2025-07-23T14:35:16.943628Z",
     "iopub.status.busy": "2025-07-23T14:35:16.943265Z",
     "iopub.status.idle": "2025-07-23T14:35:16.975903Z",
     "shell.execute_reply": "2025-07-23T14:35:16.975099Z"
    },
    "papermill": {
     "duration": 0.045402,
     "end_time": "2025-07-23T14:35:16.977479",
     "exception": false,
     "start_time": "2025-07-23T14:35:16.932077",
     "status": "completed"
    },
    "tags": []
   },
   "outputs": [],
   "source": [
    "# Auto-reload the custom package\n",
    "%load_ext autoreload\n",
    "%autoreload 1\n",
    "%aimport fairness_multiverse"
   ]
  },
  {
   "cell_type": "code",
   "execution_count": 7,
   "id": "01c5c9f3",
   "metadata": {
    "execution": {
     "iopub.execute_input": "2025-07-23T14:35:16.999866Z",
     "iopub.status.busy": "2025-07-23T14:35:16.999107Z",
     "iopub.status.idle": "2025-07-23T14:35:19.066088Z",
     "shell.execute_reply": "2025-07-23T14:35:19.064897Z"
    },
    "papermill": {
     "duration": 2.080765,
     "end_time": "2025-07-23T14:35:19.068122",
     "exception": false,
     "start_time": "2025-07-23T14:35:16.987357",
     "status": "completed"
    },
    "tags": []
   },
   "outputs": [],
   "source": [
    "from fairness_multiverse.universe import UniverseAnalysis\n",
    "\n",
    "universe_analysis = UniverseAnalysis(\n",
    "    run_no = run_no,\n",
    "    universe_id = universe_id,\n",
    "    universe = universe,\n",
    "    output_dir=output_dir,\n",
    ")"
   ]
  },
  {
   "cell_type": "code",
   "execution_count": 8,
   "id": "106241f5",
   "metadata": {
    "execution": {
     "iopub.execute_input": "2025-07-23T14:35:19.108961Z",
     "iopub.status.busy": "2025-07-23T14:35:19.108331Z",
     "iopub.status.idle": "2025-07-23T14:35:19.115947Z",
     "shell.execute_reply": "2025-07-23T14:35:19.114826Z"
    },
    "papermill": {
     "duration": 0.030134,
     "end_time": "2025-07-23T14:35:19.117776",
     "exception": false,
     "start_time": "2025-07-23T14:35:19.087642",
     "status": "completed"
    },
    "tags": []
   },
   "outputs": [
    {
     "name": "stdout",
     "output_type": "stream",
     "text": [
      "Using Seed: 2023\n"
     ]
    }
   ],
   "source": [
    "import numpy as np\n",
    "parsed_seed = int(seed)\n",
    "np.random.seed(parsed_seed)\n",
    "print(f\"Using Seed: {parsed_seed}\")"
   ]
  },
  {
   "cell_type": "markdown",
   "id": "e0ebdc57",
   "metadata": {
    "papermill": {
     "duration": 0.018222,
     "end_time": "2025-07-23T14:35:19.154857",
     "exception": false,
     "start_time": "2025-07-23T14:35:19.136635",
     "status": "completed"
    },
    "tags": []
   },
   "source": [
    "# Loading Data"
   ]
  },
  {
   "cell_type": "markdown",
   "id": "681925a3",
   "metadata": {
    "papermill": {
     "duration": 0.017025,
     "end_time": "2025-07-23T14:35:19.189304",
     "exception": false,
     "start_time": "2025-07-23T14:35:19.172279",
     "status": "completed"
    },
    "tags": []
   },
   "source": [
    "Load siab_train, siab_test, siab_calib and/or \n",
    "load siab_train_features, siab_train_labels"
   ]
  },
  {
   "cell_type": "code",
   "execution_count": 9,
   "id": "f0496b8a",
   "metadata": {
    "execution": {
     "iopub.execute_input": "2025-07-23T14:35:19.226549Z",
     "iopub.status.busy": "2025-07-23T14:35:19.225614Z",
     "iopub.status.idle": "2025-07-23T14:35:19.231958Z",
     "shell.execute_reply": "2025-07-23T14:35:19.230860Z"
    },
    "papermill": {
     "duration": 0.027496,
     "end_time": "2025-07-23T14:35:19.233868",
     "exception": false,
     "start_time": "2025-07-23T14:35:19.206372",
     "status": "completed"
    },
    "tags": []
   },
   "outputs": [],
   "source": [
    "# Do I need to load siab? Delete this cell?\n",
    "\n",
    "#from pathlib import Path\n",
    "#import pandas as pd\n",
    "#\n",
    "## File paths\n",
    "#raw_file = Path(\"data/raw/siab.csv\")\n",
    "#cache_file = Path(\"data/siab_cached.csv.gz\")\n",
    "#\n",
    "## Ensure cache directory exists\n",
    "#cache_file.parent.mkdir(parents=True, exist_ok=True)\n",
    "#\n",
    "## Load with simple caching\n",
    "#if cache_file.exists():\n",
    "#    print(f\"Loading SIAB data from cache: {cache_file}\")\n",
    "#    siab = pd.read_csv(cache_file, compression='gzip')\n",
    "#else:\n",
    "#    print(f\"Cache not found. Reading raw SIAB data: {raw_file}\")\n",
    "#    siab = pd.read_csv(raw_file)\n",
    "#    siab.to_csv(cache_file, index=False, compression='gzip')\n",
    "#    print(f\"Cached SIAB data to: {cache_file}\")\n",
    "#\n",
    "## Now use `siab` DataFrame as needed\n",
    "#print(siab.shape)\n"
   ]
  },
  {
   "cell_type": "code",
   "execution_count": 10,
   "id": "a0edb063",
   "metadata": {
    "execution": {
     "iopub.execute_input": "2025-07-23T14:35:19.277086Z",
     "iopub.status.busy": "2025-07-23T14:35:19.276327Z",
     "iopub.status.idle": "2025-07-23T14:35:20.617285Z",
     "shell.execute_reply": "2025-07-23T14:35:20.616040Z"
    },
    "papermill": {
     "duration": 1.364916,
     "end_time": "2025-07-23T14:35:20.619591",
     "exception": false,
     "start_time": "2025-07-23T14:35:19.254675",
     "status": "completed"
    },
    "tags": []
   },
   "outputs": [],
   "source": [
    "import pandas as pd\n",
    "\n",
    "X_train = pd.read_csv(\"./data/X_train.csv\")\n",
    "y_train = pd.read_csv(\"./data/y_train.csv\")"
   ]
  },
  {
   "cell_type": "code",
   "execution_count": 11,
   "id": "63d08085",
   "metadata": {
    "execution": {
     "iopub.execute_input": "2025-07-23T14:35:20.662568Z",
     "iopub.status.busy": "2025-07-23T14:35:20.661816Z",
     "iopub.status.idle": "2025-07-23T14:35:22.155308Z",
     "shell.execute_reply": "2025-07-23T14:35:22.154495Z"
    },
    "papermill": {
     "duration": 1.516548,
     "end_time": "2025-07-23T14:35:22.156854",
     "exception": false,
     "start_time": "2025-07-23T14:35:20.640306",
     "status": "completed"
    },
    "tags": []
   },
   "outputs": [],
   "source": [
    "X_test = pd.read_csv(\"./data/X_test.csv\")\n",
    "y_true = pd.read_csv(\"./data/y_test.csv\")"
   ]
  },
  {
   "cell_type": "code",
   "execution_count": 12,
   "id": "98a8d0fa-1d3d-4ed8-bb2c-281470e24add",
   "metadata": {
    "execution": {
     "iopub.execute_input": "2025-07-23T14:35:22.194795Z",
     "iopub.status.busy": "2025-07-23T14:35:22.194339Z",
     "iopub.status.idle": "2025-07-23T14:35:23.695553Z",
     "shell.execute_reply": "2025-07-23T14:35:23.694363Z"
    },
    "papermill": {
     "duration": 1.523724,
     "end_time": "2025-07-23T14:35:23.697787",
     "exception": false,
     "start_time": "2025-07-23T14:35:22.174063",
     "status": "completed"
    },
    "tags": []
   },
   "outputs": [],
   "source": [
    "# Calibration data for conformal\n",
    "X_calib = pd.read_csv(\"./data/X_calib.csv\")\n",
    "y_calib = pd.read_csv(\"./data/y_calib.csv\")"
   ]
  },
  {
   "cell_type": "code",
   "execution_count": 13,
   "id": "e6c733c5",
   "metadata": {
    "execution": {
     "iopub.execute_input": "2025-07-23T14:35:23.741933Z",
     "iopub.status.busy": "2025-07-23T14:35:23.741188Z",
     "iopub.status.idle": "2025-07-23T14:35:23.849069Z",
     "shell.execute_reply": "2025-07-23T14:35:23.848025Z"
    },
    "papermill": {
     "duration": 0.131002,
     "end_time": "2025-07-23T14:35:23.851195",
     "exception": false,
     "start_time": "2025-07-23T14:35:23.720193",
     "status": "completed"
    },
    "tags": []
   },
   "outputs": [],
   "source": [
    "# Auxiliary data needed downstream in the pipeline\n",
    "\n",
    "org_train = X_train.copy()\n",
    "org_test = X_test.copy()\n",
    "org_calib = X_calib.copy()"
   ]
  },
  {
   "cell_type": "markdown",
   "id": "0a4a1b33",
   "metadata": {
    "papermill": {
     "duration": 0.01981,
     "end_time": "2025-07-23T14:35:23.891478",
     "exception": false,
     "start_time": "2025-07-23T14:35:23.871668",
     "status": "completed"
    },
    "tags": []
   },
   "source": [
    "# Preprocessing Data"
   ]
  },
  {
   "cell_type": "code",
   "execution_count": 14,
   "id": "ca879031",
   "metadata": {
    "execution": {
     "iopub.execute_input": "2025-07-23T14:35:23.932965Z",
     "iopub.status.busy": "2025-07-23T14:35:23.932238Z",
     "iopub.status.idle": "2025-07-23T14:35:23.939378Z",
     "shell.execute_reply": "2025-07-23T14:35:23.938340Z"
    },
    "papermill": {
     "duration": 0.02984,
     "end_time": "2025-07-23T14:35:23.941184",
     "exception": false,
     "start_time": "2025-07-23T14:35:23.911344",
     "status": "completed"
    },
    "tags": []
   },
   "outputs": [],
   "source": [
    "# EXCLUDE PROTECTED FEATURES\n",
    "# ----------------------\n",
    "# \"exclude_features\": \"none\", # \"nationality\", \"sex\", \"nationality-sex\"\n",
    "\n",
    "excluded_features = universe[\"exclude_features\"].split(\"-\") # split, e.g.: \"nationality-sex\" -> [\"nationality\", \"sex\"]\n",
    "excluded_features_dictionary = {\n",
    "    \"nationality\": [\"maxdeutsch1\", \"maxdeutsch.Missing.\"],\n",
    "    \"sex\": [\"frau1\"],\n",
    "    \"age\": [\"age\"],\n",
    "}\n"
   ]
  },
  {
   "cell_type": "code",
   "execution_count": 15,
   "id": "b745ac60",
   "metadata": {
    "execution": {
     "iopub.execute_input": "2025-07-23T14:35:23.982817Z",
     "iopub.status.busy": "2025-07-23T14:35:23.982100Z",
     "iopub.status.idle": "2025-07-23T14:35:23.988535Z",
     "shell.execute_reply": "2025-07-23T14:35:23.987410Z"
    },
    "papermill": {
     "duration": 0.029165,
     "end_time": "2025-07-23T14:35:23.990470",
     "exception": false,
     "start_time": "2025-07-23T14:35:23.961305",
     "status": "completed"
    },
    "tags": []
   },
   "outputs": [],
   "source": [
    "# Code nice names to column names\n",
    "\n",
    "excluded_features_columns = [\n",
    "    excluded_features_dictionary[f] for f in excluded_features if len(f) > 0 and f != \"none\"\n",
    "]"
   ]
  },
  {
   "cell_type": "code",
   "execution_count": 16,
   "id": "f84f73a2",
   "metadata": {
    "execution": {
     "iopub.execute_input": "2025-07-23T14:35:24.033030Z",
     "iopub.status.busy": "2025-07-23T14:35:24.032290Z",
     "iopub.status.idle": "2025-07-23T14:35:24.040228Z",
     "shell.execute_reply": "2025-07-23T14:35:24.039207Z"
    },
    "papermill": {
     "duration": 0.03106,
     "end_time": "2025-07-23T14:35:24.042076",
     "exception": false,
     "start_time": "2025-07-23T14:35:24.011016",
     "status": "completed"
    },
    "tags": []
   },
   "outputs": [],
   "source": [
    "from utils import flatten_once\n",
    "\n",
    "excluded_features_columns = flatten_once(excluded_features_columns)"
   ]
  },
  {
   "cell_type": "code",
   "execution_count": 17,
   "id": "884dea22",
   "metadata": {
    "execution": {
     "iopub.execute_input": "2025-07-23T14:35:24.083805Z",
     "iopub.status.busy": "2025-07-23T14:35:24.082942Z",
     "iopub.status.idle": "2025-07-23T14:35:24.131372Z",
     "shell.execute_reply": "2025-07-23T14:35:24.130327Z"
    },
    "papermill": {
     "duration": 0.071164,
     "end_time": "2025-07-23T14:35:24.133411",
     "exception": false,
     "start_time": "2025-07-23T14:35:24.062247",
     "status": "completed"
    },
    "tags": []
   },
   "outputs": [
    {
     "name": "stdout",
     "output_type": "stream",
     "text": [
      "Dropping features: ['maxdeutsch1', 'maxdeutsch.Missing.']\n"
     ]
    }
   ],
   "source": [
    "if len(excluded_features_columns) > 0:\n",
    "    print(f\"Dropping features: {excluded_features_columns}\")\n",
    "    X_train.drop(excluded_features_columns, axis=1, inplace=True)"
   ]
  },
  {
   "cell_type": "code",
   "execution_count": 18,
   "id": "95ab8b16",
   "metadata": {
    "execution": {
     "iopub.execute_input": "2025-07-23T14:35:24.176514Z",
     "iopub.status.busy": "2025-07-23T14:35:24.175793Z",
     "iopub.status.idle": "2025-07-23T14:35:24.234431Z",
     "shell.execute_reply": "2025-07-23T14:35:24.233324Z"
    },
    "papermill": {
     "duration": 0.081931,
     "end_time": "2025-07-23T14:35:24.236331",
     "exception": false,
     "start_time": "2025-07-23T14:35:24.154400",
     "status": "completed"
    },
    "tags": []
   },
   "outputs": [
    {
     "name": "stdout",
     "output_type": "stream",
     "text": [
      "Dropping features: ['maxdeutsch1', 'maxdeutsch.Missing.']\n"
     ]
    }
   ],
   "source": [
    "if len(excluded_features_columns) > 0:\n",
    "    print(f\"Dropping features: {excluded_features_columns}\")\n",
    "    X_test.drop(excluded_features_columns, axis=1, inplace=True)"
   ]
  },
  {
   "cell_type": "code",
   "execution_count": 19,
   "id": "1853aaf5-fb9f-46cb-a2b5-8ea4ae2237e4",
   "metadata": {
    "execution": {
     "iopub.execute_input": "2025-07-23T14:35:24.279647Z",
     "iopub.status.busy": "2025-07-23T14:35:24.278961Z",
     "iopub.status.idle": "2025-07-23T14:35:24.336082Z",
     "shell.execute_reply": "2025-07-23T14:35:24.334943Z"
    },
    "papermill": {
     "duration": 0.082022,
     "end_time": "2025-07-23T14:35:24.339674",
     "exception": false,
     "start_time": "2025-07-23T14:35:24.257652",
     "status": "completed"
    },
    "tags": []
   },
   "outputs": [
    {
     "name": "stdout",
     "output_type": "stream",
     "text": [
      "Dropping features: ['maxdeutsch1', 'maxdeutsch.Missing.']\n"
     ]
    }
   ],
   "source": [
    "if len(excluded_features_columns) > 0:\n",
    "    print(f\"Dropping features: {excluded_features_columns}\")\n",
    "    X_calib.drop(excluded_features_columns, axis=1, inplace=True)"
   ]
  },
  {
   "cell_type": "code",
   "execution_count": 20,
   "id": "76c4dc6d",
   "metadata": {
    "execution": {
     "iopub.execute_input": "2025-07-23T14:35:24.383230Z",
     "iopub.status.busy": "2025-07-23T14:35:24.382550Z",
     "iopub.status.idle": "2025-07-23T14:35:24.388272Z",
     "shell.execute_reply": "2025-07-23T14:35:24.387298Z"
    },
    "papermill": {
     "duration": 0.02914,
     "end_time": "2025-07-23T14:35:24.390124",
     "exception": false,
     "start_time": "2025-07-23T14:35:24.360984",
     "status": "completed"
    },
    "tags": []
   },
   "outputs": [],
   "source": [
    "# EXCLUDE CERTAIN SUBGROUPS\n",
    "# ----------------------\n",
    "\n",
    "mode = universe.get(\"exclude_subgroups\", \"keep-all\") \n",
    "# Fetches the exclude_subgroups setting from the universe dict.\n",
    "# Defaults to \"keep-all\" if the key is missing."
   ]
  },
  {
   "cell_type": "code",
   "execution_count": 21,
   "id": "21994072",
   "metadata": {
    "execution": {
     "iopub.execute_input": "2025-07-23T14:35:24.433443Z",
     "iopub.status.busy": "2025-07-23T14:35:24.432799Z",
     "iopub.status.idle": "2025-07-23T14:35:24.440708Z",
     "shell.execute_reply": "2025-07-23T14:35:24.439774Z"
    },
    "papermill": {
     "duration": 0.031636,
     "end_time": "2025-07-23T14:35:24.442740",
     "exception": false,
     "start_time": "2025-07-23T14:35:24.411104",
     "status": "completed"
    },
    "tags": []
   },
   "outputs": [],
   "source": [
    "if mode == \"keep-all\":\n",
    "    keep_mask = pd.Series(True, index=org_train.index)\n",
    "\n",
    "# org_train contains the original feature columns from features_org (in Simson)\n",
    "# features_org contains unprocessed features, for me X_train at beginning ???\n",
    "# For keep-all, creates a boolean Series (keep_mask) of all True, so no rows are removed.\n",
    "\n",
    "elif mode == \"drop-non-german\":\n",
    "    keep_mask = org_train[\"maxdeutsch1\"] == 1 # ??? what about missing values?\n",
    "\n",
    "else:\n",
    "    raise ValueError(f\"Unsupported mode for exclude_subgroups: {mode}\")\n"
   ]
  },
  {
   "cell_type": "code",
   "execution_count": 22,
   "id": "71651440",
   "metadata": {
    "execution": {
     "iopub.execute_input": "2025-07-23T14:35:24.480389Z",
     "iopub.status.busy": "2025-07-23T14:35:24.479630Z",
     "iopub.status.idle": "2025-07-23T14:35:24.486739Z",
     "shell.execute_reply": "2025-07-23T14:35:24.485839Z"
    },
    "papermill": {
     "duration": 0.027392,
     "end_time": "2025-07-23T14:35:24.488414",
     "exception": false,
     "start_time": "2025-07-23T14:35:24.461022",
     "status": "completed"
    },
    "tags": []
   },
   "outputs": [],
   "source": [
    "n_drop = (~keep_mask).sum() # Calculates how many rows are set to be dropped\n",
    "if n_drop > 0:\n",
    "    pct = n_drop / len(keep_mask) * 100\n",
    "    print(f\"Dropping {n_drop} rows ({pct:.2f}%) where mode='{mode}'\")"
   ]
  },
  {
   "cell_type": "code",
   "execution_count": 23,
   "id": "5fb8eee5",
   "metadata": {
    "execution": {
     "iopub.execute_input": "2025-07-23T14:35:24.526634Z",
     "iopub.status.busy": "2025-07-23T14:35:24.525924Z",
     "iopub.status.idle": "2025-07-23T14:35:24.584051Z",
     "shell.execute_reply": "2025-07-23T14:35:24.582980Z"
    },
    "papermill": {
     "duration": 0.079368,
     "end_time": "2025-07-23T14:35:24.585814",
     "exception": false,
     "start_time": "2025-07-23T14:35:24.506446",
     "status": "completed"
    },
    "tags": []
   },
   "outputs": [],
   "source": [
    "X_train = X_train[keep_mask]"
   ]
  },
  {
   "cell_type": "code",
   "execution_count": 24,
   "id": "b202bb3a",
   "metadata": {
    "execution": {
     "iopub.execute_input": "2025-07-23T14:35:24.618921Z",
     "iopub.status.busy": "2025-07-23T14:35:24.618408Z",
     "iopub.status.idle": "2025-07-23T14:35:24.626120Z",
     "shell.execute_reply": "2025-07-23T14:35:24.625049Z"
    },
    "papermill": {
     "duration": 0.024534,
     "end_time": "2025-07-23T14:35:24.628154",
     "exception": false,
     "start_time": "2025-07-23T14:35:24.603620",
     "status": "completed"
    },
    "tags": []
   },
   "outputs": [],
   "source": [
    "y_train = y_train[keep_mask]"
   ]
  },
  {
   "cell_type": "markdown",
   "id": "493e2ac3",
   "metadata": {
    "papermill": {
     "duration": 0.020536,
     "end_time": "2025-07-23T14:35:24.668949",
     "exception": false,
     "start_time": "2025-07-23T14:35:24.648413",
     "status": "completed"
    },
    "tags": []
   },
   "source": [
    "# Model Training"
   ]
  },
  {
   "cell_type": "code",
   "execution_count": 25,
   "id": "679e1268",
   "metadata": {
    "execution": {
     "iopub.execute_input": "2025-07-23T14:35:24.709227Z",
     "iopub.status.busy": "2025-07-23T14:35:24.708431Z",
     "iopub.status.idle": "2025-07-23T14:35:24.826830Z",
     "shell.execute_reply": "2025-07-23T14:35:24.825851Z"
    },
    "papermill": {
     "duration": 0.141881,
     "end_time": "2025-07-23T14:35:24.828491",
     "exception": false,
     "start_time": "2025-07-23T14:35:24.686610",
     "status": "completed"
    },
    "tags": []
   },
   "outputs": [],
   "source": [
    "from sklearn.linear_model import LogisticRegression\n",
    "from sklearn.ensemble import GradientBoostingClassifier, RandomForestClassifier\n",
    "\n",
    "if (universe[\"model\"] == \"logreg\"):\n",
    "    model = LogisticRegression() #penalty=\"none\") #, solver=\"newton-cg\", max_iter=1) # include random_state=19 ?\n",
    "elif (universe[\"model\"] == \"penalized_logreg\"):\n",
    "    model = LogisticRegression(penalty=\"l2\", C=1.0) #, solver=\"newton-cg\", max_iter=1)\n",
    "elif (universe[\"model\"] == \"rf\"):\n",
    "    model = RandomForestClassifier(n_estimators=100, n_jobs=-1)\n",
    "elif (universe[\"model\"] == \"gbm\"):\n",
    "    model = GradientBoostingClassifier()\n",
    "elif (universe[\"model\"] == \"elasticnet\"):\n",
    "    model = LogisticRegression(penalty = 'elasticnet', solver = 'saga', l1_ratio = 0.5, max_iter=5000) # which solver to use?\n",
    "else:\n",
    "    raise \"Unsupported universe.model\""
   ]
  },
  {
   "cell_type": "code",
   "execution_count": 26,
   "id": "0cc8f744",
   "metadata": {
    "execution": {
     "iopub.execute_input": "2025-07-23T14:35:24.872442Z",
     "iopub.status.busy": "2025-07-23T14:35:24.871742Z",
     "iopub.status.idle": "2025-07-23T14:35:24.878819Z",
     "shell.execute_reply": "2025-07-23T14:35:24.877804Z"
    },
    "papermill": {
     "duration": 0.031129,
     "end_time": "2025-07-23T14:35:24.880465",
     "exception": false,
     "start_time": "2025-07-23T14:35:24.849336",
     "status": "completed"
    },
    "tags": []
   },
   "outputs": [],
   "source": [
    "import numpy as np\n",
    "from sklearn.pipeline import Pipeline\n",
    "from sklearn.preprocessing import StandardScaler\n",
    "\n",
    "model = Pipeline([\n",
    "    #(\"continuous_processor\", continuous_processor),\n",
    "    #(\"categorical_preprocessor\", categorical_preprocessor),\n",
    "    (\"scale\", StandardScaler() if universe[\"scale\"] == \"scale\" else None), \n",
    "    (\"model\", model),\n",
    "])"
   ]
  },
  {
   "cell_type": "code",
   "execution_count": 27,
   "id": "9442c04d",
   "metadata": {
    "execution": {
     "iopub.execute_input": "2025-07-23T14:35:24.920623Z",
     "iopub.status.busy": "2025-07-23T14:35:24.919949Z",
     "iopub.status.idle": "2025-07-23T14:35:28.211356Z",
     "shell.execute_reply": "2025-07-23T14:35:28.210017Z"
    },
    "papermill": {
     "duration": 3.313467,
     "end_time": "2025-07-23T14:35:28.213059",
     "exception": false,
     "start_time": "2025-07-23T14:35:24.899592",
     "status": "completed"
    },
    "tags": []
   },
   "outputs": [
    {
     "name": "stderr",
     "output_type": "stream",
     "text": [
      "/dss/dsshome1/0C/ra93lal2/.local/share/virtualenvs/CMA_Fairness_v2-3j10GkSs/lib/python3.10/site-packages/sklearn/linear_model/_logistic.py:444: ConvergenceWarning: lbfgs failed to converge (status=1):\n",
      "STOP: TOTAL NO. of ITERATIONS REACHED LIMIT.\n",
      "\n",
      "Increase the number of iterations (max_iter) or scale the data as shown in:\n",
      "    https://scikit-learn.org/stable/modules/preprocessing.html\n",
      "Please also refer to the documentation for alternative solver options:\n",
      "    https://scikit-learn.org/stable/modules/linear_model.html#logistic-regression\n",
      "  n_iter_i = _check_optimize_result(\n"
     ]
    },
    {
     "data": {
      "text/html": [
       "<style>#sk-container-id-1 {color: black;background-color: white;}#sk-container-id-1 pre{padding: 0;}#sk-container-id-1 div.sk-toggleable {background-color: white;}#sk-container-id-1 label.sk-toggleable__label {cursor: pointer;display: block;width: 100%;margin-bottom: 0;padding: 0.3em;box-sizing: border-box;text-align: center;}#sk-container-id-1 label.sk-toggleable__label-arrow:before {content: \"▸\";float: left;margin-right: 0.25em;color: #696969;}#sk-container-id-1 label.sk-toggleable__label-arrow:hover:before {color: black;}#sk-container-id-1 div.sk-estimator:hover label.sk-toggleable__label-arrow:before {color: black;}#sk-container-id-1 div.sk-toggleable__content {max-height: 0;max-width: 0;overflow: hidden;text-align: left;background-color: #f0f8ff;}#sk-container-id-1 div.sk-toggleable__content pre {margin: 0.2em;color: black;border-radius: 0.25em;background-color: #f0f8ff;}#sk-container-id-1 input.sk-toggleable__control:checked~div.sk-toggleable__content {max-height: 200px;max-width: 100%;overflow: auto;}#sk-container-id-1 input.sk-toggleable__control:checked~label.sk-toggleable__label-arrow:before {content: \"▾\";}#sk-container-id-1 div.sk-estimator input.sk-toggleable__control:checked~label.sk-toggleable__label {background-color: #d4ebff;}#sk-container-id-1 div.sk-label input.sk-toggleable__control:checked~label.sk-toggleable__label {background-color: #d4ebff;}#sk-container-id-1 input.sk-hidden--visually {border: 0;clip: rect(1px 1px 1px 1px);clip: rect(1px, 1px, 1px, 1px);height: 1px;margin: -1px;overflow: hidden;padding: 0;position: absolute;width: 1px;}#sk-container-id-1 div.sk-estimator {font-family: monospace;background-color: #f0f8ff;border: 1px dotted black;border-radius: 0.25em;box-sizing: border-box;margin-bottom: 0.5em;}#sk-container-id-1 div.sk-estimator:hover {background-color: #d4ebff;}#sk-container-id-1 div.sk-parallel-item::after {content: \"\";width: 100%;border-bottom: 1px solid gray;flex-grow: 1;}#sk-container-id-1 div.sk-label:hover label.sk-toggleable__label {background-color: #d4ebff;}#sk-container-id-1 div.sk-serial::before {content: \"\";position: absolute;border-left: 1px solid gray;box-sizing: border-box;top: 0;bottom: 0;left: 50%;z-index: 0;}#sk-container-id-1 div.sk-serial {display: flex;flex-direction: column;align-items: center;background-color: white;padding-right: 0.2em;padding-left: 0.2em;position: relative;}#sk-container-id-1 div.sk-item {position: relative;z-index: 1;}#sk-container-id-1 div.sk-parallel {display: flex;align-items: stretch;justify-content: center;background-color: white;position: relative;}#sk-container-id-1 div.sk-item::before, #sk-container-id-1 div.sk-parallel-item::before {content: \"\";position: absolute;border-left: 1px solid gray;box-sizing: border-box;top: 0;bottom: 0;left: 50%;z-index: -1;}#sk-container-id-1 div.sk-parallel-item {display: flex;flex-direction: column;z-index: 1;position: relative;background-color: white;}#sk-container-id-1 div.sk-parallel-item:first-child::after {align-self: flex-end;width: 50%;}#sk-container-id-1 div.sk-parallel-item:last-child::after {align-self: flex-start;width: 50%;}#sk-container-id-1 div.sk-parallel-item:only-child::after {width: 0;}#sk-container-id-1 div.sk-dashed-wrapped {border: 1px dashed gray;margin: 0 0.4em 0.5em 0.4em;box-sizing: border-box;padding-bottom: 0.4em;background-color: white;}#sk-container-id-1 div.sk-label label {font-family: monospace;font-weight: bold;display: inline-block;line-height: 1.2em;}#sk-container-id-1 div.sk-label-container {text-align: center;}#sk-container-id-1 div.sk-container {/* jupyter's `normalize.less` sets `[hidden] { display: none; }` but bootstrap.min.css set `[hidden] { display: none !important; }` so we also need the `!important` here to be able to override the default hidden behavior on the sphinx rendered scikit-learn.org. See: https://github.com/scikit-learn/scikit-learn/issues/21755 */display: inline-block !important;position: relative;}#sk-container-id-1 div.sk-text-repr-fallback {display: none;}</style><div id=\"sk-container-id-1\" class=\"sk-top-container\"><div class=\"sk-text-repr-fallback\"><pre>Pipeline(steps=[(&#x27;scale&#x27;, None), (&#x27;model&#x27;, LogisticRegression())])</pre><b>In a Jupyter environment, please rerun this cell to show the HTML representation or trust the notebook. <br />On GitHub, the HTML representation is unable to render, please try loading this page with nbviewer.org.</b></div><div class=\"sk-container\" hidden><div class=\"sk-item sk-dashed-wrapped\"><div class=\"sk-label-container\"><div class=\"sk-label sk-toggleable\"><input class=\"sk-toggleable__control sk-hidden--visually\" id=\"sk-estimator-id-1\" type=\"checkbox\" ><label for=\"sk-estimator-id-1\" class=\"sk-toggleable__label sk-toggleable__label-arrow\">Pipeline</label><div class=\"sk-toggleable__content\"><pre>Pipeline(steps=[(&#x27;scale&#x27;, None), (&#x27;model&#x27;, LogisticRegression())])</pre></div></div></div><div class=\"sk-serial\"><div class=\"sk-item\"><div class=\"sk-estimator sk-toggleable\"><input class=\"sk-toggleable__control sk-hidden--visually\" id=\"sk-estimator-id-2\" type=\"checkbox\" ><label for=\"sk-estimator-id-2\" class=\"sk-toggleable__label sk-toggleable__label-arrow\">None</label><div class=\"sk-toggleable__content\"><pre>None</pre></div></div></div><div class=\"sk-item\"><div class=\"sk-estimator sk-toggleable\"><input class=\"sk-toggleable__control sk-hidden--visually\" id=\"sk-estimator-id-3\" type=\"checkbox\" ><label for=\"sk-estimator-id-3\" class=\"sk-toggleable__label sk-toggleable__label-arrow\">LogisticRegression</label><div class=\"sk-toggleable__content\"><pre>LogisticRegression()</pre></div></div></div></div></div></div></div>"
      ],
      "text/plain": [
       "Pipeline(steps=[('scale', None), ('model', LogisticRegression())])"
      ]
     },
     "execution_count": 27,
     "metadata": {},
     "output_type": "execute_result"
    }
   ],
   "source": [
    "model.fit(X_train, y_train.values.ravel())"
   ]
  },
  {
   "cell_type": "code",
   "execution_count": 28,
   "id": "af59f8c0",
   "metadata": {
    "execution": {
     "iopub.execute_input": "2025-07-23T14:35:28.262397Z",
     "iopub.status.busy": "2025-07-23T14:35:28.261455Z",
     "iopub.status.idle": "2025-07-23T14:35:28.268173Z",
     "shell.execute_reply": "2025-07-23T14:35:28.267043Z"
    },
    "papermill": {
     "duration": 0.035462,
     "end_time": "2025-07-23T14:35:28.270030",
     "exception": false,
     "start_time": "2025-07-23T14:35:28.234568",
     "status": "completed"
    },
    "tags": []
   },
   "outputs": [],
   "source": [
    "from fairness_multiverse.universe import predict_w_threshold"
   ]
  },
  {
   "cell_type": "code",
   "execution_count": 29,
   "id": "a7cf2e16",
   "metadata": {
    "execution": {
     "iopub.execute_input": "2025-07-23T14:35:28.316863Z",
     "iopub.status.busy": "2025-07-23T14:35:28.315684Z",
     "iopub.status.idle": "2025-07-23T14:35:28.427081Z",
     "shell.execute_reply": "2025-07-23T14:35:28.425597Z"
    },
    "papermill": {
     "duration": 0.137008,
     "end_time": "2025-07-23T14:35:28.429098",
     "exception": false,
     "start_time": "2025-07-23T14:35:28.292090",
     "status": "completed"
    },
    "tags": []
   },
   "outputs": [
    {
     "data": {
      "text/plain": [
       "0.8626463047597815"
      ]
     },
     "execution_count": 29,
     "metadata": {},
     "output_type": "execute_result"
    }
   ],
   "source": [
    "probs_test = model.predict_proba(X_test)\n",
    "\n",
    "'''\n",
    "Below code returns a boolean array (or binary 0/1 array depending on how it’s used) where each element \n",
    "is True if the probability of class 1 is greater than or equal to the threshold, and False otherwise.\n",
    "'''\n",
    "y_pred_default = predict_w_threshold(probs_test, 0.5)\n",
    "\n",
    "from sklearn.metrics import accuracy_score\n",
    "\n",
    "# Naive prediction\n",
    "accuracy_score(y_true = y_true, y_pred = y_pred_default)"
   ]
  },
  {
   "cell_type": "code",
   "execution_count": 30,
   "id": "081964c3",
   "metadata": {
    "execution": {
     "iopub.execute_input": "2025-07-23T14:35:28.475542Z",
     "iopub.status.busy": "2025-07-23T14:35:28.474893Z",
     "iopub.status.idle": "2025-07-23T14:35:28.570972Z",
     "shell.execute_reply": "2025-07-23T14:35:28.569835Z"
    },
    "papermill": {
     "duration": 0.122398,
     "end_time": "2025-07-23T14:35:28.573350",
     "exception": false,
     "start_time": "2025-07-23T14:35:28.450952",
     "status": "completed"
    },
    "tags": []
   },
   "outputs": [
    {
     "data": {
      "text/plain": [
       "array([0, 0, 0, ..., 0, 0, 0])"
      ]
     },
     "execution_count": 30,
     "metadata": {},
     "output_type": "execute_result"
    }
   ],
   "source": [
    "model.predict(X_test)"
   ]
  },
  {
   "cell_type": "markdown",
   "id": "56c9705b",
   "metadata": {
    "papermill": {
     "duration": 0.022079,
     "end_time": "2025-07-23T14:35:28.618188",
     "exception": false,
     "start_time": "2025-07-23T14:35:28.596109",
     "status": "completed"
    },
    "tags": []
   },
   "source": [
    "# Conformal Prediction"
   ]
  },
  {
   "cell_type": "code",
   "execution_count": 31,
   "id": "160ec6ff",
   "metadata": {
    "execution": {
     "iopub.execute_input": "2025-07-23T14:35:28.663855Z",
     "iopub.status.busy": "2025-07-23T14:35:28.662741Z",
     "iopub.status.idle": "2025-07-23T14:35:28.668861Z",
     "shell.execute_reply": "2025-07-23T14:35:28.667625Z"
    },
    "papermill": {
     "duration": 0.031009,
     "end_time": "2025-07-23T14:35:28.670989",
     "exception": false,
     "start_time": "2025-07-23T14:35:28.639980",
     "status": "completed"
    },
    "tags": []
   },
   "outputs": [],
   "source": [
    "# Miscoverage level for conformal prediction (10% allowed error rate => 90% target coverage)\n",
    "alpha = 0.1"
   ]
  },
  {
   "cell_type": "code",
   "execution_count": 32,
   "id": "eadf4555-3dd3-440e-8e35-f82a4ad9f855",
   "metadata": {
    "execution": {
     "iopub.execute_input": "2025-07-23T14:35:28.716995Z",
     "iopub.status.busy": "2025-07-23T14:35:28.716154Z",
     "iopub.status.idle": "2025-07-23T14:35:28.805125Z",
     "shell.execute_reply": "2025-07-23T14:35:28.803966Z"
    },
    "papermill": {
     "duration": 0.114098,
     "end_time": "2025-07-23T14:35:28.807203",
     "exception": false,
     "start_time": "2025-07-23T14:35:28.693105",
     "status": "completed"
    },
    "tags": []
   },
   "outputs": [],
   "source": [
    "probs_calib = model.predict_proba(X_calib)"
   ]
  },
  {
   "cell_type": "code",
   "execution_count": 33,
   "id": "2ed93547-6d5d-4983-9b36-1ecb300da49a",
   "metadata": {
    "execution": {
     "iopub.execute_input": "2025-07-23T14:35:28.852000Z",
     "iopub.status.busy": "2025-07-23T14:35:28.851078Z",
     "iopub.status.idle": "2025-07-23T14:35:28.858087Z",
     "shell.execute_reply": "2025-07-23T14:35:28.856906Z"
    },
    "papermill": {
     "duration": 0.03165,
     "end_time": "2025-07-23T14:35:28.859959",
     "exception": false,
     "start_time": "2025-07-23T14:35:28.828309",
     "status": "completed"
    },
    "tags": []
   },
   "outputs": [],
   "source": [
    "y_calib = y_calib.values.ravel().astype(int)"
   ]
  },
  {
   "cell_type": "code",
   "execution_count": 34,
   "id": "65d1320d-f588-4b38-9072-62af1ae97f7d",
   "metadata": {
    "execution": {
     "iopub.execute_input": "2025-07-23T14:35:28.904613Z",
     "iopub.status.busy": "2025-07-23T14:35:28.904202Z",
     "iopub.status.idle": "2025-07-23T14:35:28.911281Z",
     "shell.execute_reply": "2025-07-23T14:35:28.910423Z"
    },
    "papermill": {
     "duration": 0.031106,
     "end_time": "2025-07-23T14:35:28.912907",
     "exception": false,
     "start_time": "2025-07-23T14:35:28.881801",
     "status": "completed"
    },
    "tags": []
   },
   "outputs": [],
   "source": [
    "from fairness_multiverse.conformal import compute_nc_scores\n",
    "\n",
    "# Compute nonconformity scores on calibration set (1 - probability of true class)\n",
    "nc_scores = compute_nc_scores(probs_calib, y_calib)"
   ]
  },
  {
   "cell_type": "code",
   "execution_count": 35,
   "id": "df3b8ca3-53b7-43d5-9667-7c85da7aeda2",
   "metadata": {
    "execution": {
     "iopub.execute_input": "2025-07-23T14:35:28.937532Z",
     "iopub.status.busy": "2025-07-23T14:35:28.936974Z",
     "iopub.status.idle": "2025-07-23T14:35:28.943471Z",
     "shell.execute_reply": "2025-07-23T14:35:28.942659Z"
    },
    "papermill": {
     "duration": 0.020317,
     "end_time": "2025-07-23T14:35:28.945003",
     "exception": false,
     "start_time": "2025-07-23T14:35:28.924686",
     "status": "completed"
    },
    "tags": []
   },
   "outputs": [],
   "source": [
    "from fairness_multiverse.conformal import find_threshold\n",
    "\n",
    "# Find conformal threshold q_hat for the given alpha (split conformal method)\n",
    "q_hat = find_threshold(nc_scores, alpha)"
   ]
  },
  {
   "cell_type": "code",
   "execution_count": 36,
   "id": "4d29e6c1-0ef6-4aa4-b8fe-4fe79b0d033a",
   "metadata": {
    "execution": {
     "iopub.execute_input": "2025-07-23T14:35:28.971729Z",
     "iopub.status.busy": "2025-07-23T14:35:28.970832Z",
     "iopub.status.idle": "2025-07-23T14:35:28.978001Z",
     "shell.execute_reply": "2025-07-23T14:35:28.977095Z"
    },
    "papermill": {
     "duration": 0.021939,
     "end_time": "2025-07-23T14:35:28.979392",
     "exception": false,
     "start_time": "2025-07-23T14:35:28.957453",
     "status": "completed"
    },
    "tags": []
   },
   "outputs": [
    {
     "data": {
      "text/plain": [
       "0.6775451344506666"
      ]
     },
     "execution_count": 36,
     "metadata": {},
     "output_type": "execute_result"
    }
   ],
   "source": [
    "q_hat"
   ]
  },
  {
   "cell_type": "code",
   "execution_count": 37,
   "id": "92460794-cdac-4be2-ba28-f28c0515a6fb",
   "metadata": {
    "execution": {
     "iopub.execute_input": "2025-07-23T14:35:29.005288Z",
     "iopub.status.busy": "2025-07-23T14:35:29.004720Z",
     "iopub.status.idle": "2025-07-23T14:35:29.875975Z",
     "shell.execute_reply": "2025-07-23T14:35:29.874861Z"
    },
    "papermill": {
     "duration": 0.886564,
     "end_time": "2025-07-23T14:35:29.878329",
     "exception": false,
     "start_time": "2025-07-23T14:35:28.991765",
     "status": "completed"
    },
    "tags": []
   },
   "outputs": [],
   "source": [
    "from fairness_multiverse.conformal import predict_conformal_sets\n",
    "\n",
    "# Generate prediction sets for each test example\n",
    "pred_sets = predict_conformal_sets(model, X_test, q_hat)"
   ]
  },
  {
   "cell_type": "code",
   "execution_count": 38,
   "id": "d90c9a65-e6db-4f5d-80cd-e68fb7e46829",
   "metadata": {
    "execution": {
     "iopub.execute_input": "2025-07-23T14:35:29.922641Z",
     "iopub.status.busy": "2025-07-23T14:35:29.922070Z",
     "iopub.status.idle": "2025-07-23T14:35:29.928465Z",
     "shell.execute_reply": "2025-07-23T14:35:29.926920Z"
    },
    "papermill": {
     "duration": 0.031126,
     "end_time": "2025-07-23T14:35:29.930758",
     "exception": false,
     "start_time": "2025-07-23T14:35:29.899632",
     "status": "completed"
    },
    "tags": []
   },
   "outputs": [],
   "source": [
    "y_true = y_true.squeeze()"
   ]
  },
  {
   "cell_type": "code",
   "execution_count": 39,
   "id": "3a58a54a-1e68-46b9-927a-df01f18aebc8",
   "metadata": {
    "execution": {
     "iopub.execute_input": "2025-07-23T14:35:29.978841Z",
     "iopub.status.busy": "2025-07-23T14:35:29.977792Z",
     "iopub.status.idle": "2025-07-23T14:35:31.004339Z",
     "shell.execute_reply": "2025-07-23T14:35:31.003196Z"
    },
    "papermill": {
     "duration": 1.052601,
     "end_time": "2025-07-23T14:35:31.005950",
     "exception": false,
     "start_time": "2025-07-23T14:35:29.953349",
     "status": "completed"
    },
    "tags": []
   },
   "outputs": [],
   "source": [
    "from fairness_multiverse.conformal import evaluate_sets\n",
    "\n",
    "# Evaluate coverage and average set size on test data\n",
    "metrics = evaluate_sets(pred_sets, y_true)"
   ]
  },
  {
   "cell_type": "code",
   "execution_count": 40,
   "id": "5ce0a5cb-201f-45a0-ade5-94c7f0bd6095",
   "metadata": {
    "execution": {
     "iopub.execute_input": "2025-07-23T14:35:31.031332Z",
     "iopub.status.busy": "2025-07-23T14:35:31.030767Z",
     "iopub.status.idle": "2025-07-23T14:35:31.038734Z",
     "shell.execute_reply": "2025-07-23T14:35:31.037475Z"
    },
    "papermill": {
     "duration": 0.02251,
     "end_time": "2025-07-23T14:35:31.040758",
     "exception": false,
     "start_time": "2025-07-23T14:35:31.018248",
     "status": "completed"
    },
    "tags": []
   },
   "outputs": [
    {
     "data": {
      "text/plain": [
       "{'coverage': 0.9117266748411549, 'avg_size': 1.1986957975699477}"
      ]
     },
     "execution_count": 40,
     "metadata": {},
     "output_type": "execute_result"
    }
   ],
   "source": [
    "metrics"
   ]
  },
  {
   "cell_type": "code",
   "execution_count": 41,
   "id": "9b9a838d-31c9-430b-ae14-12baee460d17",
   "metadata": {
    "execution": {
     "iopub.execute_input": "2025-07-23T14:35:31.091400Z",
     "iopub.status.busy": "2025-07-23T14:35:31.090668Z",
     "iopub.status.idle": "2025-07-23T14:35:31.097980Z",
     "shell.execute_reply": "2025-07-23T14:35:31.096840Z"
    },
    "papermill": {
     "duration": 0.031899,
     "end_time": "2025-07-23T14:35:31.099757",
     "exception": false,
     "start_time": "2025-07-23T14:35:31.067858",
     "status": "completed"
    },
    "tags": []
   },
   "outputs": [],
   "source": [
    "example_universe = universe.copy()\n",
    "universe_model = example_universe.get(\"model\")\n",
    "universe_exclude_features = example_universe.get(\"exclude_features\")\n",
    "universe_exclude_subgroups = example_universe.get(\"exclude_subgroups\")\n",
    "universe_scale = example_universe.get(\"scale\")"
   ]
  },
  {
   "cell_type": "code",
   "execution_count": 42,
   "id": "f4b6a8ac-9dc0-4245-8a91-5b3b5999c4f9",
   "metadata": {
    "execution": {
     "iopub.execute_input": "2025-07-23T14:35:31.145667Z",
     "iopub.status.busy": "2025-07-23T14:35:31.144802Z",
     "iopub.status.idle": "2025-07-23T14:35:31.151804Z",
     "shell.execute_reply": "2025-07-23T14:35:31.150742Z"
    },
    "papermill": {
     "duration": 0.031629,
     "end_time": "2025-07-23T14:35:31.153478",
     "exception": false,
     "start_time": "2025-07-23T14:35:31.121849",
     "status": "completed"
    },
    "tags": []
   },
   "outputs": [],
   "source": [
    "cp_metrics_dict = {\n",
    "    \"universe_id\": [universe_id],\n",
    "    \"universe_model\": [universe_model],\n",
    "    \"universe_exclude_features\": [universe_exclude_features],\n",
    "    \"universe_exclude_subgroups\": [universe_exclude_subgroups],\n",
    "    \"universe_scale\": [universe_scale],\n",
    "    \"q_hat\": [q_hat],\n",
    "    \"coverage\": [metrics[\"coverage\"]],\n",
    "    \"avg_size\": [metrics[\"avg_size\"]],\n",
    "}"
   ]
  },
  {
   "cell_type": "code",
   "execution_count": 43,
   "id": "908acbb1-0371-4915-85ca-3fa520d2efe2",
   "metadata": {
    "execution": {
     "iopub.execute_input": "2025-07-23T14:35:31.197067Z",
     "iopub.status.busy": "2025-07-23T14:35:31.196048Z",
     "iopub.status.idle": "2025-07-23T14:35:31.204264Z",
     "shell.execute_reply": "2025-07-23T14:35:31.203077Z"
    },
    "papermill": {
     "duration": 0.031568,
     "end_time": "2025-07-23T14:35:31.206192",
     "exception": false,
     "start_time": "2025-07-23T14:35:31.174624",
     "status": "completed"
    },
    "tags": []
   },
   "outputs": [
    {
     "data": {
      "text/plain": [
       "{'universe_id': ['f926296383a2cf35333d0bcb041505db'],\n",
       " 'universe_model': ['penalized_logreg'],\n",
       " 'universe_exclude_features': ['nationality'],\n",
       " 'universe_exclude_subgroups': ['keep-all'],\n",
       " 'universe_scale': ['do-not-scale'],\n",
       " 'q_hat': [0.6775451344506666],\n",
       " 'coverage': [0.9117266748411549],\n",
       " 'avg_size': [1.1986957975699477]}"
      ]
     },
     "execution_count": 43,
     "metadata": {},
     "output_type": "execute_result"
    }
   ],
   "source": [
    "cp_metrics_dict"
   ]
  },
  {
   "cell_type": "code",
   "execution_count": 44,
   "id": "33007efc-14e9-4ec6-97ac-56a455c82265",
   "metadata": {
    "execution": {
     "iopub.execute_input": "2025-07-23T14:35:31.253267Z",
     "iopub.status.busy": "2025-07-23T14:35:31.252529Z",
     "iopub.status.idle": "2025-07-23T14:35:31.259442Z",
     "shell.execute_reply": "2025-07-23T14:35:31.258351Z"
    },
    "papermill": {
     "duration": 0.032467,
     "end_time": "2025-07-23T14:35:31.261322",
     "exception": false,
     "start_time": "2025-07-23T14:35:31.228855",
     "status": "completed"
    },
    "tags": []
   },
   "outputs": [],
   "source": [
    "cp_metrics_df = pd.DataFrame(cp_metrics_dict)"
   ]
  },
  {
   "cell_type": "code",
   "execution_count": 45,
   "id": "db12611b-57b2-4910-b9d0-355adfd6e7bf",
   "metadata": {
    "execution": {
     "iopub.execute_input": "2025-07-23T14:35:31.309409Z",
     "iopub.status.busy": "2025-07-23T14:35:31.308673Z",
     "iopub.status.idle": "2025-07-23T14:35:31.328695Z",
     "shell.execute_reply": "2025-07-23T14:35:31.327611Z"
    },
    "papermill": {
     "duration": 0.046239,
     "end_time": "2025-07-23T14:35:31.330549",
     "exception": false,
     "start_time": "2025-07-23T14:35:31.284310",
     "status": "completed"
    },
    "tags": []
   },
   "outputs": [
    {
     "data": {
      "text/html": [
       "<div>\n",
       "<style scoped>\n",
       "    .dataframe tbody tr th:only-of-type {\n",
       "        vertical-align: middle;\n",
       "    }\n",
       "\n",
       "    .dataframe tbody tr th {\n",
       "        vertical-align: top;\n",
       "    }\n",
       "\n",
       "    .dataframe thead th {\n",
       "        text-align: right;\n",
       "    }\n",
       "</style>\n",
       "<table border=\"1\" class=\"dataframe\">\n",
       "  <thead>\n",
       "    <tr style=\"text-align: right;\">\n",
       "      <th></th>\n",
       "      <th>universe_id</th>\n",
       "      <th>universe_model</th>\n",
       "      <th>universe_exclude_features</th>\n",
       "      <th>universe_exclude_subgroups</th>\n",
       "      <th>universe_scale</th>\n",
       "      <th>q_hat</th>\n",
       "      <th>coverage</th>\n",
       "      <th>avg_size</th>\n",
       "    </tr>\n",
       "  </thead>\n",
       "  <tbody>\n",
       "    <tr>\n",
       "      <th>0</th>\n",
       "      <td>f926296383a2cf35333d0bcb041505db</td>\n",
       "      <td>penalized_logreg</td>\n",
       "      <td>nationality</td>\n",
       "      <td>keep-all</td>\n",
       "      <td>do-not-scale</td>\n",
       "      <td>0.677545</td>\n",
       "      <td>0.911727</td>\n",
       "      <td>1.198696</td>\n",
       "    </tr>\n",
       "  </tbody>\n",
       "</table>\n",
       "</div>"
      ],
      "text/plain": [
       "                        universe_id    universe_model  \\\n",
       "0  f926296383a2cf35333d0bcb041505db  penalized_logreg   \n",
       "\n",
       "  universe_exclude_features universe_exclude_subgroups universe_scale  \\\n",
       "0               nationality                   keep-all   do-not-scale   \n",
       "\n",
       "      q_hat  coverage  avg_size  \n",
       "0  0.677545  0.911727  1.198696  "
      ]
     },
     "execution_count": 45,
     "metadata": {},
     "output_type": "execute_result"
    }
   ],
   "source": [
    "cp_metrics_df"
   ]
  },
  {
   "cell_type": "code",
   "execution_count": 46,
   "id": "b7fbde55-a0a1-47e4-9af6-fe4a17fa8c61",
   "metadata": {
    "execution": {
     "iopub.execute_input": "2025-07-23T14:35:31.379981Z",
     "iopub.status.busy": "2025-07-23T14:35:31.379261Z",
     "iopub.status.idle": "2025-07-23T14:35:31.385526Z",
     "shell.execute_reply": "2025-07-23T14:35:31.384443Z"
    },
    "papermill": {
     "duration": 0.032818,
     "end_time": "2025-07-23T14:35:31.387406",
     "exception": false,
     "start_time": "2025-07-23T14:35:31.354588",
     "status": "completed"
    },
    "tags": []
   },
   "outputs": [],
   "source": [
    "# Conditional Coverage & looking at subgroups"
   ]
  },
  {
   "cell_type": "code",
   "execution_count": 47,
   "id": "027ae886-68dd-4141-96c7-805a5450e1ef",
   "metadata": {
    "execution": {
     "iopub.execute_input": "2025-07-23T14:35:31.435725Z",
     "iopub.status.busy": "2025-07-23T14:35:31.435185Z",
     "iopub.status.idle": "2025-07-23T14:35:31.695751Z",
     "shell.execute_reply": "2025-07-23T14:35:31.694933Z"
    },
    "papermill": {
     "duration": 0.286214,
     "end_time": "2025-07-23T14:35:31.697358",
     "exception": false,
     "start_time": "2025-07-23T14:35:31.411144",
     "status": "completed"
    },
    "tags": []
   },
   "outputs": [],
   "source": [
    "from fairness_multiverse.conformal import build_cp_groups\n",
    "\n",
    "cp_groups_df = build_cp_groups(pred_sets, y_true, X_test.index, org_test)\n",
    "#needs universe_id and setting"
   ]
  },
  {
   "cell_type": "code",
   "execution_count": 48,
   "id": "c3b92545-903e-4839-89af-0f057907d7d6",
   "metadata": {
    "execution": {
     "iopub.execute_input": "2025-07-23T14:35:31.723584Z",
     "iopub.status.busy": "2025-07-23T14:35:31.722834Z",
     "iopub.status.idle": "2025-07-23T14:35:33.300528Z",
     "shell.execute_reply": "2025-07-23T14:35:33.299462Z"
    },
    "papermill": {
     "duration": 1.592582,
     "end_time": "2025-07-23T14:35:33.302612",
     "exception": false,
     "start_time": "2025-07-23T14:35:31.710030",
     "status": "completed"
    },
    "tags": []
   },
   "outputs": [],
   "source": [
    "# Define covered = 1 if true_label is in the predicted set\n",
    "cp_groups_df['covered'] = cp_groups_df.apply(\n",
    "    lambda r: int(r['true_label'] in r['pred_set']),\n",
    "    axis=1\n",
    ")"
   ]
  },
  {
   "cell_type": "code",
   "execution_count": 49,
   "id": "338ff529-1a6b-4b87-a931-8e4788d52aad",
   "metadata": {
    "execution": {
     "iopub.execute_input": "2025-07-23T14:35:33.347965Z",
     "iopub.status.busy": "2025-07-23T14:35:33.347457Z",
     "iopub.status.idle": "2025-07-23T14:35:33.353277Z",
     "shell.execute_reply": "2025-07-23T14:35:33.352139Z"
    },
    "papermill": {
     "duration": 0.030337,
     "end_time": "2025-07-23T14:35:33.355355",
     "exception": false,
     "start_time": "2025-07-23T14:35:33.325018",
     "status": "completed"
    },
    "tags": []
   },
   "outputs": [],
   "source": [
    "#cp_groups_df"
   ]
  },
  {
   "cell_type": "code",
   "execution_count": 50,
   "id": "90032e27-66df-4540-9169-4e89cfbaa758",
   "metadata": {
    "execution": {
     "iopub.execute_input": "2025-07-23T14:35:33.402265Z",
     "iopub.status.busy": "2025-07-23T14:35:33.401589Z",
     "iopub.status.idle": "2025-07-23T14:35:33.414860Z",
     "shell.execute_reply": "2025-07-23T14:35:33.413775Z"
    },
    "papermill": {
     "duration": 0.038398,
     "end_time": "2025-07-23T14:35:33.416819",
     "exception": false,
     "start_time": "2025-07-23T14:35:33.378421",
     "status": "completed"
    },
    "tags": []
   },
   "outputs": [],
   "source": [
    "subgroups = ['frau1','nongerman','nongerman_male','nongerman_female']\n",
    "\n",
    "# Conditional coverage for subgroup==1\n",
    "cond_coverage = {\n",
    "    g: cp_groups_df.loc[cp_groups_df[g]==1, 'covered'].mean()\n",
    "    for g in subgroups\n",
    "}"
   ]
  },
  {
   "cell_type": "code",
   "execution_count": 51,
   "id": "1e348fb1-b9c3-45bc-ba23-f016827a7e0d",
   "metadata": {
    "execution": {
     "iopub.execute_input": "2025-07-23T14:35:33.463854Z",
     "iopub.status.busy": "2025-07-23T14:35:33.463165Z",
     "iopub.status.idle": "2025-07-23T14:35:33.471305Z",
     "shell.execute_reply": "2025-07-23T14:35:33.470290Z"
    },
    "papermill": {
     "duration": 0.03367,
     "end_time": "2025-07-23T14:35:33.473247",
     "exception": false,
     "start_time": "2025-07-23T14:35:33.439577",
     "status": "completed"
    },
    "tags": []
   },
   "outputs": [
    {
     "data": {
      "text/plain": [
       "{'frau1': 0.9110392236150424,\n",
       " 'nongerman': 0.9281985067085836,\n",
       " 'nongerman_male': 0.9419976582905522,\n",
       " 'nongerman_female': 0.9053651266766021}"
      ]
     },
     "execution_count": 51,
     "metadata": {},
     "output_type": "execute_result"
    }
   ],
   "source": [
    "cond_coverage"
   ]
  },
  {
   "cell_type": "code",
   "execution_count": 52,
   "id": "f5093324-c3dd-4d63-bc4c-8d945e5c8bbb",
   "metadata": {
    "execution": {
     "iopub.execute_input": "2025-07-23T14:35:33.522090Z",
     "iopub.status.busy": "2025-07-23T14:35:33.521397Z",
     "iopub.status.idle": "2025-07-23T14:35:33.529350Z",
     "shell.execute_reply": "2025-07-23T14:35:33.528184Z"
    },
    "papermill": {
     "duration": 0.034644,
     "end_time": "2025-07-23T14:35:33.531289",
     "exception": false,
     "start_time": "2025-07-23T14:35:33.496645",
     "status": "completed"
    },
    "tags": []
   },
   "outputs": [],
   "source": [
    "for subgroup, cov in cond_coverage.items():\n",
    "    cp_metrics_df[f\"cov_{subgroup}\"] = cov"
   ]
  },
  {
   "cell_type": "code",
   "execution_count": 53,
   "id": "6e872e10-dbe5-49e8-b554-5030c98ff75d",
   "metadata": {
    "execution": {
     "iopub.execute_input": "2025-07-23T14:35:33.581507Z",
     "iopub.status.busy": "2025-07-23T14:35:33.580810Z",
     "iopub.status.idle": "2025-07-23T14:35:33.600287Z",
     "shell.execute_reply": "2025-07-23T14:35:33.599334Z"
    },
    "papermill": {
     "duration": 0.046416,
     "end_time": "2025-07-23T14:35:33.602332",
     "exception": false,
     "start_time": "2025-07-23T14:35:33.555916",
     "status": "completed"
    },
    "tags": []
   },
   "outputs": [
    {
     "data": {
      "text/html": [
       "<div>\n",
       "<style scoped>\n",
       "    .dataframe tbody tr th:only-of-type {\n",
       "        vertical-align: middle;\n",
       "    }\n",
       "\n",
       "    .dataframe tbody tr th {\n",
       "        vertical-align: top;\n",
       "    }\n",
       "\n",
       "    .dataframe thead th {\n",
       "        text-align: right;\n",
       "    }\n",
       "</style>\n",
       "<table border=\"1\" class=\"dataframe\">\n",
       "  <thead>\n",
       "    <tr style=\"text-align: right;\">\n",
       "      <th></th>\n",
       "      <th>universe_id</th>\n",
       "      <th>universe_model</th>\n",
       "      <th>universe_exclude_features</th>\n",
       "      <th>universe_exclude_subgroups</th>\n",
       "      <th>universe_scale</th>\n",
       "      <th>q_hat</th>\n",
       "      <th>coverage</th>\n",
       "      <th>avg_size</th>\n",
       "      <th>cov_frau1</th>\n",
       "      <th>cov_nongerman</th>\n",
       "      <th>cov_nongerman_male</th>\n",
       "      <th>cov_nongerman_female</th>\n",
       "    </tr>\n",
       "  </thead>\n",
       "  <tbody>\n",
       "    <tr>\n",
       "      <th>0</th>\n",
       "      <td>f926296383a2cf35333d0bcb041505db</td>\n",
       "      <td>penalized_logreg</td>\n",
       "      <td>nationality</td>\n",
       "      <td>keep-all</td>\n",
       "      <td>do-not-scale</td>\n",
       "      <td>0.677545</td>\n",
       "      <td>0.911727</td>\n",
       "      <td>1.198696</td>\n",
       "      <td>0.911039</td>\n",
       "      <td>0.928199</td>\n",
       "      <td>0.941998</td>\n",
       "      <td>0.905365</td>\n",
       "    </tr>\n",
       "  </tbody>\n",
       "</table>\n",
       "</div>"
      ],
      "text/plain": [
       "                        universe_id    universe_model  \\\n",
       "0  f926296383a2cf35333d0bcb041505db  penalized_logreg   \n",
       "\n",
       "  universe_exclude_features universe_exclude_subgroups universe_scale  \\\n",
       "0               nationality                   keep-all   do-not-scale   \n",
       "\n",
       "      q_hat  coverage  avg_size  cov_frau1  cov_nongerman  cov_nongerman_male  \\\n",
       "0  0.677545  0.911727  1.198696   0.911039       0.928199            0.941998   \n",
       "\n",
       "   cov_nongerman_female  \n",
       "0              0.905365  "
      ]
     },
     "execution_count": 53,
     "metadata": {},
     "output_type": "execute_result"
    }
   ],
   "source": [
    "cp_metrics_df"
   ]
  },
  {
   "cell_type": "markdown",
   "id": "33774451",
   "metadata": {
    "papermill": {
     "duration": 0.023603,
     "end_time": "2025-07-23T14:35:33.650779",
     "exception": false,
     "start_time": "2025-07-23T14:35:33.627176",
     "status": "completed"
    },
    "tags": []
   },
   "source": [
    "# (Fairness) Metrics"
   ]
  },
  {
   "cell_type": "code",
   "execution_count": 54,
   "id": "debc5d62",
   "metadata": {
    "execution": {
     "iopub.execute_input": "2025-07-23T14:35:33.701561Z",
     "iopub.status.busy": "2025-07-23T14:35:33.700614Z",
     "iopub.status.idle": "2025-07-23T14:35:33.724966Z",
     "shell.execute_reply": "2025-07-23T14:35:33.723895Z"
    },
    "papermill": {
     "duration": 0.051892,
     "end_time": "2025-07-23T14:35:33.726979",
     "exception": false,
     "start_time": "2025-07-23T14:35:33.675087",
     "status": "completed"
    },
    "tags": []
   },
   "outputs": [],
   "source": [
    "# do I need to include maxdeutsch1.missing?\n",
    "\n",
    "import numpy as np\n",
    "\n",
    "colname_to_bin = \"maxdeutsch1\"\n",
    "majority_value = org_train[colname_to_bin].mode()[0]\n",
    "\n",
    "org_test[\"majmin\"] = np.where(org_test[colname_to_bin] == majority_value, \"majority\", \"minority\")"
   ]
  },
  {
   "cell_type": "code",
   "execution_count": 55,
   "id": "06a50de5",
   "metadata": {
    "execution": {
     "iopub.execute_input": "2025-07-23T14:35:33.774416Z",
     "iopub.status.busy": "2025-07-23T14:35:33.773863Z",
     "iopub.status.idle": "2025-07-23T14:35:36.355145Z",
     "shell.execute_reply": "2025-07-23T14:35:36.354057Z"
    },
    "papermill": {
     "duration": 2.606347,
     "end_time": "2025-07-23T14:35:36.356952",
     "exception": false,
     "start_time": "2025-07-23T14:35:33.750605",
     "status": "completed"
    },
    "tags": []
   },
   "outputs": [],
   "source": [
    "example_universe = universe.copy()\n",
    "example_universe[\"cutoff\"] = example_universe[\"cutoff\"][0]\n",
    "example_universe[\"eval_fairness_grouping\"] = example_universe[\"eval_fairness_grouping\"][0]\n",
    "fairness_dict, metric_frame = universe_analysis.compute_metrics(\n",
    "    example_universe,\n",
    "    y_pred_prob=probs_test,\n",
    "    y_test=y_true,\n",
    "    org_test=org_test,\n",
    ")"
   ]
  },
  {
   "cell_type": "markdown",
   "id": "f95d4e02",
   "metadata": {
    "papermill": {
     "duration": 0.022514,
     "end_time": "2025-07-23T14:35:36.405910",
     "exception": false,
     "start_time": "2025-07-23T14:35:36.383396",
     "status": "completed"
    },
    "tags": []
   },
   "source": [
    "# Overall"
   ]
  },
  {
   "cell_type": "markdown",
   "id": "bdee4871",
   "metadata": {
    "papermill": {
     "duration": 0.012702,
     "end_time": "2025-07-23T14:35:36.433443",
     "exception": false,
     "start_time": "2025-07-23T14:35:36.420741",
     "status": "completed"
    },
    "tags": []
   },
   "source": [
    "Fairness\n",
    "Main fairness target: Equalized Odds. Seems to be a better fit than equal opportunity, since we're not only interested in Y = 1. Seems to be a better fit than demographic parity, since we also care about accuracy, not just equal distribution of preds.\n",
    "\n",
    "Pick column for computation of fairness metrics\n",
    "\n",
    "Performance\n",
    "Overall performance measures, most interesting in relation to the measures split by group below"
   ]
  },
  {
   "cell_type": "code",
   "execution_count": 56,
   "id": "c4e067c6",
   "metadata": {
    "execution": {
     "iopub.execute_input": "2025-07-23T14:35:36.471693Z",
     "iopub.status.busy": "2025-07-23T14:35:36.471192Z",
     "iopub.status.idle": "2025-07-23T14:35:36.481447Z",
     "shell.execute_reply": "2025-07-23T14:35:36.480330Z"
    },
    "papermill": {
     "duration": 0.037239,
     "end_time": "2025-07-23T14:35:36.483485",
     "exception": false,
     "start_time": "2025-07-23T14:35:36.446246",
     "status": "completed"
    },
    "tags": []
   },
   "outputs": [
    {
     "data": {
      "text/plain": [
       "accuracy                   0.217802\n",
       "balanced accuracy          0.533932\n",
       "f1                         0.239314\n",
       "precision                  0.136712\n",
       "false positive rate        0.891294\n",
       "false negative rate        0.040841\n",
       "selection rate             0.900000\n",
       "count                  89710.000000\n",
       "dtype: float64"
      ]
     },
     "execution_count": 56,
     "metadata": {},
     "output_type": "execute_result"
    }
   ],
   "source": [
    "metric_frame.overall"
   ]
  },
  {
   "cell_type": "markdown",
   "id": "e968fe9d",
   "metadata": {
    "papermill": {
     "duration": 0.025797,
     "end_time": "2025-07-23T14:35:36.533304",
     "exception": false,
     "start_time": "2025-07-23T14:35:36.507507",
     "status": "completed"
    },
    "tags": []
   },
   "source": [
    "By Group"
   ]
  },
  {
   "cell_type": "code",
   "execution_count": 57,
   "id": "ec325bce",
   "metadata": {
    "execution": {
     "iopub.execute_input": "2025-07-23T14:35:36.574218Z",
     "iopub.status.busy": "2025-07-23T14:35:36.573717Z",
     "iopub.status.idle": "2025-07-23T14:35:36.590893Z",
     "shell.execute_reply": "2025-07-23T14:35:36.589803Z"
    },
    "papermill": {
     "duration": 0.035741,
     "end_time": "2025-07-23T14:35:36.593098",
     "exception": false,
     "start_time": "2025-07-23T14:35:36.557357",
     "status": "completed"
    },
    "tags": []
   },
   "outputs": [
    {
     "data": {
      "text/html": [
       "<div>\n",
       "<style scoped>\n",
       "    .dataframe tbody tr th:only-of-type {\n",
       "        vertical-align: middle;\n",
       "    }\n",
       "\n",
       "    .dataframe tbody tr th {\n",
       "        vertical-align: top;\n",
       "    }\n",
       "\n",
       "    .dataframe thead th {\n",
       "        text-align: right;\n",
       "    }\n",
       "</style>\n",
       "<table border=\"1\" class=\"dataframe\">\n",
       "  <thead>\n",
       "    <tr style=\"text-align: right;\">\n",
       "      <th></th>\n",
       "      <th>accuracy</th>\n",
       "      <th>balanced accuracy</th>\n",
       "      <th>f1</th>\n",
       "      <th>precision</th>\n",
       "      <th>false positive rate</th>\n",
       "      <th>false negative rate</th>\n",
       "      <th>selection rate</th>\n",
       "      <th>count</th>\n",
       "    </tr>\n",
       "    <tr>\n",
       "      <th>majmin</th>\n",
       "      <th></th>\n",
       "      <th></th>\n",
       "      <th></th>\n",
       "      <th></th>\n",
       "      <th></th>\n",
       "      <th></th>\n",
       "      <th></th>\n",
       "      <th></th>\n",
       "    </tr>\n",
       "  </thead>\n",
       "  <tbody>\n",
       "    <tr>\n",
       "      <th>majority</th>\n",
       "      <td>0.241044</td>\n",
       "      <td>0.542338</td>\n",
       "      <td>0.248938</td>\n",
       "      <td>0.143193</td>\n",
       "      <td>0.867183</td>\n",
       "      <td>0.048140</td>\n",
       "      <td>0.878372</td>\n",
       "      <td>69170.0</td>\n",
       "    </tr>\n",
       "    <tr>\n",
       "      <th>minority</th>\n",
       "      <td>0.139533</td>\n",
       "      <td>0.508193</td>\n",
       "      <td>0.209217</td>\n",
       "      <td>0.117005</td>\n",
       "      <td>0.970944</td>\n",
       "      <td>0.012669</td>\n",
       "      <td>0.972833</td>\n",
       "      <td>20540.0</td>\n",
       "    </tr>\n",
       "  </tbody>\n",
       "</table>\n",
       "</div>"
      ],
      "text/plain": [
       "          accuracy  balanced accuracy        f1  precision  \\\n",
       "majmin                                                       \n",
       "majority  0.241044           0.542338  0.248938   0.143193   \n",
       "minority  0.139533           0.508193  0.209217   0.117005   \n",
       "\n",
       "          false positive rate  false negative rate  selection rate    count  \n",
       "majmin                                                                       \n",
       "majority             0.867183             0.048140        0.878372  69170.0  \n",
       "minority             0.970944             0.012669        0.972833  20540.0  "
      ]
     },
     "execution_count": 57,
     "metadata": {},
     "output_type": "execute_result"
    }
   ],
   "source": [
    "metric_frame.by_group"
   ]
  },
  {
   "cell_type": "code",
   "execution_count": 58,
   "id": "a9ddbe63",
   "metadata": {
    "execution": {
     "iopub.execute_input": "2025-07-23T14:35:36.648380Z",
     "iopub.status.busy": "2025-07-23T14:35:36.647864Z",
     "iopub.status.idle": "2025-07-23T14:35:39.315574Z",
     "shell.execute_reply": "2025-07-23T14:35:39.314735Z"
    },
    "papermill": {
     "duration": 2.696379,
     "end_time": "2025-07-23T14:35:39.317091",
     "exception": false,
     "start_time": "2025-07-23T14:35:36.620712",
     "status": "completed"
    },
    "tags": []
   },
   "outputs": [
    {
     "data": {
      "text/plain": [
       "array([[<Axes: title={'center': 'accuracy'}, xlabel='majmin'>,\n",
       "        <Axes: title={'center': 'balanced accuracy'}, xlabel='majmin'>,\n",
       "        <Axes: title={'center': 'f1'}, xlabel='majmin'>],\n",
       "       [<Axes: title={'center': 'precision'}, xlabel='majmin'>,\n",
       "        <Axes: title={'center': 'false positive rate'}, xlabel='majmin'>,\n",
       "        <Axes: title={'center': 'false negative rate'}, xlabel='majmin'>],\n",
       "       [<Axes: title={'center': 'selection rate'}, xlabel='majmin'>,\n",
       "        <Axes: title={'center': 'count'}, xlabel='majmin'>,\n",
       "        <Axes: xlabel='majmin'>]], dtype=object)"
      ]
     },
     "execution_count": 58,
     "metadata": {},
     "output_type": "execute_result"
    },
    {
     "data": {
      "image/png": "[encoded data removed]",
      "text/plain": [
       "<Figure size 1200x800 with 9 Axes>"
      ]
     },
     "metadata": {},
     "output_type": "display_data"
    }
   ],
   "source": [
    "# In a graphic\n",
    "metric_frame.by_group.plot.bar(\n",
    "    subplots=True,\n",
    "    layout=[3, 3],\n",
    "    legend=False,\n",
    "    figsize=[12, 8],\n",
    "    title=\"Show all metrics\",\n",
    ")"
   ]
  },
  {
   "cell_type": "markdown",
   "id": "f57a0bac",
   "metadata": {
    "papermill": {
     "duration": 0.017016,
     "end_time": "2025-07-23T14:35:39.351392",
     "exception": false,
     "start_time": "2025-07-23T14:35:39.334376",
     "status": "completed"
    },
    "tags": []
   },
   "source": [
    "# Final Output"
   ]
  },
  {
   "cell_type": "code",
   "execution_count": 59,
   "id": "96d280a3",
   "metadata": {
    "execution": {
     "iopub.execute_input": "2025-07-23T14:35:39.382300Z",
     "iopub.status.busy": "2025-07-23T14:35:39.381620Z",
     "iopub.status.idle": "2025-07-23T14:35:39.391152Z",
     "shell.execute_reply": "2025-07-23T14:35:39.389958Z"
    },
    "papermill": {
     "duration": 0.029812,
     "end_time": "2025-07-23T14:35:39.395701",
     "exception": false,
     "start_time": "2025-07-23T14:35:39.365889",
     "status": "completed"
    },
    "tags": []
   },
   "outputs": [
    {
     "data": {
      "text/plain": [
       "4"
      ]
     },
     "execution_count": 59,
     "metadata": {},
     "output_type": "execute_result"
    }
   ],
   "source": [
    "sub_universes = universe_analysis.generate_sub_universes()\n",
    "len(sub_universes)"
   ]
  },
  {
   "cell_type": "code",
   "execution_count": 60,
   "id": "92adf7ba",
   "metadata": {
    "execution": {
     "iopub.execute_input": "2025-07-23T14:35:39.478978Z",
     "iopub.status.busy": "2025-07-23T14:35:39.478137Z",
     "iopub.status.idle": "2025-07-23T14:35:39.486047Z",
     "shell.execute_reply": "2025-07-23T14:35:39.484910Z"
    },
    "papermill": {
     "duration": 0.040017,
     "end_time": "2025-07-23T14:35:39.487905",
     "exception": false,
     "start_time": "2025-07-23T14:35:39.447888",
     "status": "completed"
    },
    "tags": []
   },
   "outputs": [],
   "source": [
    "def filter_sub_universe_data(sub_universe, org_test):\n",
    "    # Keep all rows — no filtering\n",
    "    keep_rows_mask = np.ones(org_test.shape[0], dtype=bool)\n",
    "\n",
    "    print(f\"[INFO] Keeping all rows: {keep_rows_mask.sum()} rows retained.\")\n",
    "    return keep_rows_mask"
   ]
  },
  {
   "cell_type": "code",
   "execution_count": 61,
   "id": "4a759155",
   "metadata": {
    "execution": {
     "iopub.execute_input": "2025-07-23T14:35:39.546496Z",
     "iopub.status.busy": "2025-07-23T14:35:39.545393Z",
     "iopub.status.idle": "2025-07-23T14:35:49.448395Z",
     "shell.execute_reply": "2025-07-23T14:35:49.447005Z"
    },
    "papermill": {
     "duration": 9.936537,
     "end_time": "2025-07-23T14:35:49.450640",
     "exception": false,
     "start_time": "2025-07-23T14:35:39.514103",
     "status": "completed"
    },
    "tags": []
   },
   "outputs": [
    {
     "name": "stdout",
     "output_type": "stream",
     "text": [
      "Stopping execution_time clock.\n",
      "[INFO] Keeping all rows: 89710 rows retained.\n"
     ]
    },
    {
     "name": "stdout",
     "output_type": "stream",
     "text": [
      "[INFO] Keeping all rows: 89710 rows retained.\n"
     ]
    },
    {
     "name": "stdout",
     "output_type": "stream",
     "text": [
      "[INFO] Keeping all rows: 89710 rows retained.\n"
     ]
    },
    {
     "name": "stdout",
     "output_type": "stream",
     "text": [
      "[INFO] Keeping all rows: 89710 rows retained.\n"
     ]
    },
    {
     "data": {
      "text/html": [
       "<div>\n",
       "<style scoped>\n",
       "    .dataframe tbody tr th:only-of-type {\n",
       "        vertical-align: middle;\n",
       "    }\n",
       "\n",
       "    .dataframe tbody tr th {\n",
       "        vertical-align: top;\n",
       "    }\n",
       "\n",
       "    .dataframe thead th {\n",
       "        text-align: right;\n",
       "    }\n",
       "</style>\n",
       "<table border=\"1\" class=\"dataframe\">\n",
       "  <thead>\n",
       "    <tr style=\"text-align: right;\">\n",
       "      <th></th>\n",
       "      <th>run_no</th>\n",
       "      <th>universe_id</th>\n",
       "      <th>universe_settings</th>\n",
       "      <th>execution_time</th>\n",
       "      <th>test_size_n</th>\n",
       "      <th>test_size_frac</th>\n",
       "      <th>fair_main_equalized_odds_difference</th>\n",
       "      <th>fair_main_equalized_odds_ratio</th>\n",
       "      <th>fair_main_demographic_parity_difference</th>\n",
       "      <th>fair_main_demographic_parity_ratio</th>\n",
       "      <th>...</th>\n",
       "      <th>perf_grp_precision_0</th>\n",
       "      <th>perf_grp_precision_1</th>\n",
       "      <th>perf_grp_false positive rate_0</th>\n",
       "      <th>perf_grp_false positive rate_1</th>\n",
       "      <th>perf_grp_false negative rate_0</th>\n",
       "      <th>perf_grp_false negative rate_1</th>\n",
       "      <th>perf_grp_selection rate_0</th>\n",
       "      <th>perf_grp_selection rate_1</th>\n",
       "      <th>perf_grp_count_0</th>\n",
       "      <th>perf_grp_count_1</th>\n",
       "    </tr>\n",
       "  </thead>\n",
       "  <tbody>\n",
       "    <tr>\n",
       "      <th>0</th>\n",
       "      <td>9</td>\n",
       "      <td>f926296383a2cf35333d0bcb041505db</td>\n",
       "      <td>{\"cutoff\": \"quantile_0.1\", \"eval_fairness_grou...</td>\n",
       "      <td>20.550436</td>\n",
       "      <td>89710</td>\n",
       "      <td>1.0</td>\n",
       "      <td>0.103761</td>\n",
       "      <td>0.893134</td>\n",
       "      <td>0.094461</td>\n",
       "      <td>0.902901</td>\n",
       "      <td>...</td>\n",
       "      <td>NaN</td>\n",
       "      <td>NaN</td>\n",
       "      <td>NaN</td>\n",
       "      <td>NaN</td>\n",
       "      <td>NaN</td>\n",
       "      <td>NaN</td>\n",
       "      <td>NaN</td>\n",
       "      <td>NaN</td>\n",
       "      <td>NaN</td>\n",
       "      <td>NaN</td>\n",
       "    </tr>\n",
       "    <tr>\n",
       "      <th>0</th>\n",
       "      <td>9</td>\n",
       "      <td>f926296383a2cf35333d0bcb041505db</td>\n",
       "      <td>{\"cutoff\": \"quantile_0.1\", \"eval_fairness_grou...</td>\n",
       "      <td>20.550436</td>\n",
       "      <td>89710</td>\n",
       "      <td>1.0</td>\n",
       "      <td>0.103761</td>\n",
       "      <td>0.893134</td>\n",
       "      <td>0.094461</td>\n",
       "      <td>0.902901</td>\n",
       "      <td>...</td>\n",
       "      <td>0.117005</td>\n",
       "      <td>0.143193</td>\n",
       "      <td>0.970944</td>\n",
       "      <td>0.867183</td>\n",
       "      <td>0.012669</td>\n",
       "      <td>0.048140</td>\n",
       "      <td>0.972833</td>\n",
       "      <td>0.878372</td>\n",
       "      <td>20540.0</td>\n",
       "      <td>69170.0</td>\n",
       "    </tr>\n",
       "    <tr>\n",
       "      <th>0</th>\n",
       "      <td>9</td>\n",
       "      <td>f926296383a2cf35333d0bcb041505db</td>\n",
       "      <td>{\"cutoff\": \"quantile_0.25\", \"eval_fairness_gro...</td>\n",
       "      <td>20.550436</td>\n",
       "      <td>89710</td>\n",
       "      <td>1.0</td>\n",
       "      <td>0.226794</td>\n",
       "      <td>0.749161</td>\n",
       "      <td>0.207936</td>\n",
       "      <td>0.771580</td>\n",
       "      <td>...</td>\n",
       "      <td>NaN</td>\n",
       "      <td>NaN</td>\n",
       "      <td>NaN</td>\n",
       "      <td>NaN</td>\n",
       "      <td>NaN</td>\n",
       "      <td>NaN</td>\n",
       "      <td>NaN</td>\n",
       "      <td>NaN</td>\n",
       "      <td>NaN</td>\n",
       "      <td>NaN</td>\n",
       "    </tr>\n",
       "    <tr>\n",
       "      <th>0</th>\n",
       "      <td>9</td>\n",
       "      <td>f926296383a2cf35333d0bcb041505db</td>\n",
       "      <td>{\"cutoff\": \"quantile_0.25\", \"eval_fairness_gro...</td>\n",
       "      <td>20.550436</td>\n",
       "      <td>89710</td>\n",
       "      <td>1.0</td>\n",
       "      <td>0.226794</td>\n",
       "      <td>0.749161</td>\n",
       "      <td>0.207936</td>\n",
       "      <td>0.771580</td>\n",
       "      <td>...</td>\n",
       "      <td>0.121296</td>\n",
       "      <td>0.163078</td>\n",
       "      <td>0.904138</td>\n",
       "      <td>0.677345</td>\n",
       "      <td>0.042230</td>\n",
       "      <td>0.133151</td>\n",
       "      <td>0.910321</td>\n",
       "      <td>0.702385</td>\n",
       "      <td>20540.0</td>\n",
       "      <td>69170.0</td>\n",
       "    </tr>\n",
       "  </tbody>\n",
       "</table>\n",
       "<p>4 rows × 50 columns</p>\n",
       "</div>"
      ],
      "text/plain": [
       "  run_no                       universe_id  \\\n",
       "0      9  f926296383a2cf35333d0bcb041505db   \n",
       "0      9  f926296383a2cf35333d0bcb041505db   \n",
       "0      9  f926296383a2cf35333d0bcb041505db   \n",
       "0      9  f926296383a2cf35333d0bcb041505db   \n",
       "\n",
       "                                   universe_settings  execution_time  \\\n",
       "0  {\"cutoff\": \"quantile_0.1\", \"eval_fairness_grou...       20.550436   \n",
       "0  {\"cutoff\": \"quantile_0.1\", \"eval_fairness_grou...       20.550436   \n",
       "0  {\"cutoff\": \"quantile_0.25\", \"eval_fairness_gro...       20.550436   \n",
       "0  {\"cutoff\": \"quantile_0.25\", \"eval_fairness_gro...       20.550436   \n",
       "\n",
       "   test_size_n  test_size_frac  fair_main_equalized_odds_difference  \\\n",
       "0        89710             1.0                             0.103761   \n",
       "0        89710             1.0                             0.103761   \n",
       "0        89710             1.0                             0.226794   \n",
       "0        89710             1.0                             0.226794   \n",
       "\n",
       "   fair_main_equalized_odds_ratio  fair_main_demographic_parity_difference  \\\n",
       "0                        0.893134                                 0.094461   \n",
       "0                        0.893134                                 0.094461   \n",
       "0                        0.749161                                 0.207936   \n",
       "0                        0.749161                                 0.207936   \n",
       "\n",
       "   fair_main_demographic_parity_ratio  ...  perf_grp_precision_0  \\\n",
       "0                            0.902901  ...                   NaN   \n",
       "0                            0.902901  ...              0.117005   \n",
       "0                            0.771580  ...                   NaN   \n",
       "0                            0.771580  ...              0.121296   \n",
       "\n",
       "   perf_grp_precision_1  perf_grp_false positive rate_0  \\\n",
       "0                   NaN                             NaN   \n",
       "0              0.143193                        0.970944   \n",
       "0                   NaN                             NaN   \n",
       "0              0.163078                        0.904138   \n",
       "\n",
       "   perf_grp_false positive rate_1  perf_grp_false negative rate_0  \\\n",
       "0                             NaN                             NaN   \n",
       "0                        0.867183                        0.012669   \n",
       "0                             NaN                             NaN   \n",
       "0                        0.677345                        0.042230   \n",
       "\n",
       "   perf_grp_false negative rate_1  perf_grp_selection rate_0  \\\n",
       "0                             NaN                        NaN   \n",
       "0                        0.048140                   0.972833   \n",
       "0                             NaN                        NaN   \n",
       "0                        0.133151                   0.910321   \n",
       "\n",
       "   perf_grp_selection rate_1  perf_grp_count_0  perf_grp_count_1  \n",
       "0                        NaN               NaN               NaN  \n",
       "0                   0.878372           20540.0           69170.0  \n",
       "0                        NaN               NaN               NaN  \n",
       "0                   0.702385           20540.0           69170.0  \n",
       "\n",
       "[4 rows x 50 columns]"
      ]
     },
     "execution_count": 61,
     "metadata": {},
     "output_type": "execute_result"
    }
   ],
   "source": [
    "final_output = universe_analysis.generate_final_output(\n",
    "    y_pred_prob=probs_test,\n",
    "    y_test=y_true,\n",
    "    org_test=org_test,\n",
    "    filter_data=filter_sub_universe_data,\n",
    "    cp_metrics_df=cp_metrics_df,\n",
    "    save=True,\n",
    ")\n",
    "final_output"
   ]
  },
  {
   "cell_type": "code",
   "execution_count": null,
   "id": "721ff514-cb11-46f8-b6fc-50392f74b5cb",
   "metadata": {
    "papermill": {
     "duration": 0.031595,
     "end_time": "2025-07-23T14:35:49.514948",
     "exception": false,
     "start_time": "2025-07-23T14:35:49.483353",
     "status": "completed"
    },
    "tags": []
   },
   "outputs": [],
   "source": []
  }
 ],
 "metadata": {
  "celltoolbar": "Tags",
  "kernelspec": {
   "display_name": "Python (CMA Fairness)",
   "language": "python",
   "name": "cma_fair_env"
  },
  "language_info": {
   "codemirror_mode": {
    "name": "ipython",
    "version": 3
   },
   "file_extension": ".py",
   "mimetype": "text/x-python",
   "name": "python",
   "nbconvert_exporter": "python",
   "pygments_lexer": "ipython3",
   "version": "3.10.12"
  },
  "papermill": {
   "default_parameters": {},
   "duration": 34.883378,
   "end_time": "2025-07-23T14:35:50.365616",
   "environment_variables": {},
   "exception": null,
   "input_path": "universe_analysis.ipynb",
   "output_path": "output/runs/9/notebooks/m_9-f926296383a2cf35333d0bcb041505db.ipynb",
   "parameters": {
    "output_dir": "output",
    "run_no": "9",
    "seed": "2023",
    "universe": "{\"cutoff\": [\"quantile_0.1\", \"quantile_0.25\"], \"eval_fairness_grouping\": [\"majority-minority\", \"nationality-all\"], \"exclude_features\": \"nationality\", \"exclude_subgroups\": \"keep-all\", \"model\": \"penalized_logreg\", \"scale\": \"do-not-scale\"}",
    "universe_id": "f926296383a2cf35333d0bcb041505db"
   },
   "start_time": "2025-07-23T14:35:15.482238",
   "version": "2.6.0"
  }
 },
 "nbformat": 4,
 "nbformat_minor": 5
}