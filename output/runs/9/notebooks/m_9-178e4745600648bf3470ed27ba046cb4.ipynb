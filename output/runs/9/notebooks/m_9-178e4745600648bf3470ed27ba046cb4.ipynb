{
 "cells": [
  {
   "cell_type": "code",
   "execution_count": 1,
   "id": "f159f837-637b-42ba-96b5-ec9a68c44524",
   "metadata": {
    "execution": {
     "iopub.execute_input": "2025-07-23T14:28:18.952667Z",
     "iopub.status.busy": "2025-07-23T14:28:18.952224Z",
     "iopub.status.idle": "2025-07-23T14:28:18.968181Z",
     "shell.execute_reply": "2025-07-23T14:28:18.966969Z"
    },
    "papermill": {
     "duration": 0.053739,
     "end_time": "2025-07-23T14:28:18.970126",
     "exception": false,
     "start_time": "2025-07-23T14:28:18.916387",
     "status": "completed"
    },
    "tags": []
   },
   "outputs": [
    {
     "name": "stdout",
     "output_type": "stream",
     "text": [
      "/dss/dsshome1/0C/ra93lal2/cma/CMA_Fairness_v2\n"
     ]
    },
    {
     "name": "stderr",
     "output_type": "stream",
     "text": [
      "/dss/dsshome1/0C/ra93lal2/.local/share/virtualenvs/CMA_Fairness_v2-3j10GkSs/lib/python3.10/site-packages/IPython/core/magics/osm.py:393: UserWarning: This is now an optional IPython functionality, using bookmarks requires you to install the `pickleshare` library.\n",
      "  bkms = self.shell.db.get('bookmarks', {})\n",
      "/dss/dsshome1/0C/ra93lal2/.local/share/virtualenvs/CMA_Fairness_v2-3j10GkSs/lib/python3.10/site-packages/IPython/core/magics/osm.py:417: UserWarning: This is now an optional IPython functionality, setting dhist requires you to install the `pickleshare` library.\n",
      "  self.shell.db['dhist'] = compress_dhist(dhist)[-100:]\n"
     ]
    }
   ],
   "source": [
    "%cd ~/cma/CMA_Fairness_v2"
   ]
  },
  {
   "cell_type": "markdown",
   "id": "de2603b9",
   "metadata": {
    "papermill": {
     "duration": 0.037587,
     "end_time": "2025-07-23T14:28:19.041544",
     "exception": false,
     "start_time": "2025-07-23T14:28:19.003957",
     "status": "completed"
    },
    "tags": []
   },
   "source": [
    "The following cell holds the definition of our parameters, these values can be overriden by rendering the with e.g. the following command:\n",
    "\n",
    "papermill -p alpha 0.2 -p ratio 0.3 universe_analysis.ipynb output/test_run.ipynb"
   ]
  },
  {
   "cell_type": "code",
   "execution_count": 2,
   "id": "a80968a0-40bb-4fa9-85ef-2d5eefb01975",
   "metadata": {
    "execution": {
     "iopub.execute_input": "2025-07-23T14:28:19.121597Z",
     "iopub.status.busy": "2025-07-23T14:28:19.121174Z",
     "iopub.status.idle": "2025-07-23T14:28:19.128077Z",
     "shell.execute_reply": "2025-07-23T14:28:19.126929Z"
    },
    "papermill": {
     "duration": 0.053864,
     "end_time": "2025-07-23T14:28:19.130069",
     "exception": false,
     "start_time": "2025-07-23T14:28:19.076205",
     "status": "completed"
    },
    "tags": []
   },
   "outputs": [
    {
     "name": "stdout",
     "output_type": "stream",
     "text": [
      "Current working directory: /dss/dsshome1/0C/ra93lal2/cma/CMA_Fairness_v2\n"
     ]
    }
   ],
   "source": [
    "import os\n",
    "print(\"Current working directory:\", os.getcwd())"
   ]
  },
  {
   "cell_type": "code",
   "execution_count": 3,
   "id": "2dce4c03",
   "metadata": {
    "execution": {
     "iopub.execute_input": "2025-07-23T14:28:19.202429Z",
     "iopub.status.busy": "2025-07-23T14:28:19.202015Z",
     "iopub.status.idle": "2025-07-23T14:28:19.210380Z",
     "shell.execute_reply": "2025-07-23T14:28:19.209330Z"
    },
    "papermill": {
     "duration": 0.052421,
     "end_time": "2025-07-23T14:28:19.212432",
     "exception": false,
     "start_time": "2025-07-23T14:28:19.160011",
     "status": "completed"
    },
    "tags": [
     "parameters"
    ]
   },
   "outputs": [],
   "source": [
    "run_no = 0\n",
    "universe_id = \"test\"\n",
    "universe = {\n",
    "    \"scale\": \"scale\", # \"scale\", \"do-not-scale\",\n",
    "    \"model\": \"elasticnet\", # \"logreg\", \"penalized_logreg\", \"rf\", \"gbm\", \"elasticnet\"\n",
    "    \"cutoff\": [\"quantile_0.15\", \"quantile_0.30\"],\n",
    "    \"exclude_features\": \"age\", # \"none\", \"nationality\", \"sex\", \"nationality-sex\", \"age\"\n",
    "    \"exclude_subgroups\": \"keep-all\", # \"keep-all\", \"drop-non-german\"\n",
    "    #\"training_sample\": \"restricted\", # \"restricted\", \"full\"\n",
    "    \"eval_fairness_grouping\": [\"majority-minority\", \"nationality-all\"]\n",
    "}\n",
    "\n",
    "output_dir=\"./output\"\n",
    "seed=0"
   ]
  },
  {
   "cell_type": "code",
   "execution_count": 4,
   "id": "1290e712",
   "metadata": {
    "execution": {
     "iopub.execute_input": "2025-07-23T14:28:19.319712Z",
     "iopub.status.busy": "2025-07-23T14:28:19.319271Z",
     "iopub.status.idle": "2025-07-23T14:28:19.324833Z",
     "shell.execute_reply": "2025-07-23T14:28:19.323794Z"
    },
    "papermill": {
     "duration": 0.069859,
     "end_time": "2025-07-23T14:28:19.326647",
     "exception": false,
     "start_time": "2025-07-23T14:28:19.256788",
     "status": "completed"
    },
    "tags": [
     "injected-parameters"
    ]
   },
   "outputs": [],
   "source": [
    "# Parameters\n",
    "universe_id = \"178e4745600648bf3470ed27ba046cb4\"\n",
    "run_no = \"9\"\n",
    "universe = \"{\\\"cutoff\\\": [\\\"quantile_0.1\\\", \\\"quantile_0.25\\\"], \\\"eval_fairness_grouping\\\": [\\\"majority-minority\\\", \\\"nationality-all\\\"], \\\"exclude_features\\\": \\\"nationality-sex\\\", \\\"exclude_subgroups\\\": \\\"keep-all\\\", \\\"model\\\": \\\"rf\\\", \\\"scale\\\": \\\"scale\\\"}\"\n",
    "output_dir = \"output\"\n",
    "seed = \"2023\"\n"
   ]
  },
  {
   "cell_type": "code",
   "execution_count": 5,
   "id": "1650acaf",
   "metadata": {
    "execution": {
     "iopub.execute_input": "2025-07-23T14:28:19.415725Z",
     "iopub.status.busy": "2025-07-23T14:28:19.415269Z",
     "iopub.status.idle": "2025-07-23T14:28:19.422499Z",
     "shell.execute_reply": "2025-07-23T14:28:19.421251Z"
    },
    "papermill": {
     "duration": 0.06336,
     "end_time": "2025-07-23T14:28:19.425773",
     "exception": false,
     "start_time": "2025-07-23T14:28:19.362413",
     "status": "completed"
    },
    "tags": []
   },
   "outputs": [],
   "source": [
    "import json\n",
    "# Parse universe into dict if it is passed as a string\n",
    "if isinstance(universe, str):\n",
    "    universe = json.loads(universe)"
   ]
  },
  {
   "cell_type": "code",
   "execution_count": 6,
   "id": "16620c48",
   "metadata": {
    "execution": {
     "iopub.execute_input": "2025-07-23T14:28:19.517900Z",
     "iopub.status.busy": "2025-07-23T14:28:19.517412Z",
     "iopub.status.idle": "2025-07-23T14:28:19.570519Z",
     "shell.execute_reply": "2025-07-23T14:28:19.569456Z"
    },
    "papermill": {
     "duration": 0.095906,
     "end_time": "2025-07-23T14:28:19.573113",
     "exception": false,
     "start_time": "2025-07-23T14:28:19.477207",
     "status": "completed"
    },
    "tags": []
   },
   "outputs": [],
   "source": [
    "# Auto-reload the custom package\n",
    "%load_ext autoreload\n",
    "%autoreload 1\n",
    "%aimport fairness_multiverse"
   ]
  },
  {
   "cell_type": "code",
   "execution_count": 7,
   "id": "01c5c9f3",
   "metadata": {
    "execution": {
     "iopub.execute_input": "2025-07-23T14:28:19.618914Z",
     "iopub.status.busy": "2025-07-23T14:28:19.618482Z",
     "iopub.status.idle": "2025-07-23T14:28:23.488253Z",
     "shell.execute_reply": "2025-07-23T14:28:23.486774Z"
    },
    "papermill": {
     "duration": 3.896408,
     "end_time": "2025-07-23T14:28:23.490470",
     "exception": false,
     "start_time": "2025-07-23T14:28:19.594062",
     "status": "completed"
    },
    "tags": []
   },
   "outputs": [],
   "source": [
    "from fairness_multiverse.universe import UniverseAnalysis\n",
    "\n",
    "universe_analysis = UniverseAnalysis(\n",
    "    run_no = run_no,\n",
    "    universe_id = universe_id,\n",
    "    universe = universe,\n",
    "    output_dir=output_dir,\n",
    ")"
   ]
  },
  {
   "cell_type": "code",
   "execution_count": 8,
   "id": "106241f5",
   "metadata": {
    "execution": {
     "iopub.execute_input": "2025-07-23T14:28:23.602058Z",
     "iopub.status.busy": "2025-07-23T14:28:23.599383Z",
     "iopub.status.idle": "2025-07-23T14:28:23.613546Z",
     "shell.execute_reply": "2025-07-23T14:28:23.612312Z"
    },
    "papermill": {
     "duration": 0.075294,
     "end_time": "2025-07-23T14:28:23.616142",
     "exception": false,
     "start_time": "2025-07-23T14:28:23.540848",
     "status": "completed"
    },
    "tags": []
   },
   "outputs": [
    {
     "name": "stdout",
     "output_type": "stream",
     "text": [
      "Using Seed: 2023\n"
     ]
    }
   ],
   "source": [
    "import numpy as np\n",
    "parsed_seed = int(seed)\n",
    "np.random.seed(parsed_seed)\n",
    "print(f\"Using Seed: {parsed_seed}\")"
   ]
  },
  {
   "cell_type": "markdown",
   "id": "e0ebdc57",
   "metadata": {
    "papermill": {
     "duration": 0.059724,
     "end_time": "2025-07-23T14:28:23.728944",
     "exception": false,
     "start_time": "2025-07-23T14:28:23.669220",
     "status": "completed"
    },
    "tags": []
   },
   "source": [
    "# Loading Data"
   ]
  },
  {
   "cell_type": "markdown",
   "id": "681925a3",
   "metadata": {
    "papermill": {
     "duration": 0.067295,
     "end_time": "2025-07-23T14:28:23.870453",
     "exception": false,
     "start_time": "2025-07-23T14:28:23.803158",
     "status": "completed"
    },
    "tags": []
   },
   "source": [
    "Load siab_train, siab_test, siab_calib and/or \n",
    "load siab_train_features, siab_train_labels"
   ]
  },
  {
   "cell_type": "code",
   "execution_count": 9,
   "id": "f0496b8a",
   "metadata": {
    "execution": {
     "iopub.execute_input": "2025-07-23T14:28:24.058871Z",
     "iopub.status.busy": "2025-07-23T14:28:24.058406Z",
     "iopub.status.idle": "2025-07-23T14:28:24.065749Z",
     "shell.execute_reply": "2025-07-23T14:28:24.064419Z"
    },
    "papermill": {
     "duration": 0.117702,
     "end_time": "2025-07-23T14:28:24.067478",
     "exception": false,
     "start_time": "2025-07-23T14:28:23.949776",
     "status": "completed"
    },
    "tags": []
   },
   "outputs": [],
   "source": [
    "# Do I need to load siab? Delete this cell?\n",
    "\n",
    "#from pathlib import Path\n",
    "#import pandas as pd\n",
    "#\n",
    "## File paths\n",
    "#raw_file = Path(\"data/raw/siab.csv\")\n",
    "#cache_file = Path(\"data/siab_cached.csv.gz\")\n",
    "#\n",
    "## Ensure cache directory exists\n",
    "#cache_file.parent.mkdir(parents=True, exist_ok=True)\n",
    "#\n",
    "## Load with simple caching\n",
    "#if cache_file.exists():\n",
    "#    print(f\"Loading SIAB data from cache: {cache_file}\")\n",
    "#    siab = pd.read_csv(cache_file, compression='gzip')\n",
    "#else:\n",
    "#    print(f\"Cache not found. Reading raw SIAB data: {raw_file}\")\n",
    "#    siab = pd.read_csv(raw_file)\n",
    "#    siab.to_csv(cache_file, index=False, compression='gzip')\n",
    "#    print(f\"Cached SIAB data to: {cache_file}\")\n",
    "#\n",
    "## Now use `siab` DataFrame as needed\n",
    "#print(siab.shape)\n"
   ]
  },
  {
   "cell_type": "code",
   "execution_count": 10,
   "id": "a0edb063",
   "metadata": {
    "execution": {
     "iopub.execute_input": "2025-07-23T14:28:24.234843Z",
     "iopub.status.busy": "2025-07-23T14:28:24.234361Z",
     "iopub.status.idle": "2025-07-23T14:28:29.990296Z",
     "shell.execute_reply": "2025-07-23T14:28:29.988729Z"
    },
    "papermill": {
     "duration": 5.839724,
     "end_time": "2025-07-23T14:28:29.992428",
     "exception": false,
     "start_time": "2025-07-23T14:28:24.152704",
     "status": "completed"
    },
    "tags": []
   },
   "outputs": [],
   "source": [
    "import pandas as pd\n",
    "\n",
    "X_train = pd.read_csv(\"./data/X_train.csv\")\n",
    "y_train = pd.read_csv(\"./data/y_train.csv\")"
   ]
  },
  {
   "cell_type": "code",
   "execution_count": 11,
   "id": "63d08085",
   "metadata": {
    "execution": {
     "iopub.execute_input": "2025-07-23T14:28:30.099421Z",
     "iopub.status.busy": "2025-07-23T14:28:30.099028Z",
     "iopub.status.idle": "2025-07-23T14:28:34.930763Z",
     "shell.execute_reply": "2025-07-23T14:28:34.929609Z"
    },
    "papermill": {
     "duration": 4.880439,
     "end_time": "2025-07-23T14:28:34.933144",
     "exception": false,
     "start_time": "2025-07-23T14:28:30.052705",
     "status": "completed"
    },
    "tags": []
   },
   "outputs": [],
   "source": [
    "X_test = pd.read_csv(\"./data/X_test.csv\")\n",
    "y_true = pd.read_csv(\"./data/y_test.csv\")"
   ]
  },
  {
   "cell_type": "code",
   "execution_count": 12,
   "id": "98a8d0fa-1d3d-4ed8-bb2c-281470e24add",
   "metadata": {
    "execution": {
     "iopub.execute_input": "2025-07-23T14:28:35.043096Z",
     "iopub.status.busy": "2025-07-23T14:28:35.042619Z",
     "iopub.status.idle": "2025-07-23T14:28:40.991198Z",
     "shell.execute_reply": "2025-07-23T14:28:40.989954Z"
    },
    "papermill": {
     "duration": 6.018354,
     "end_time": "2025-07-23T14:28:40.993685",
     "exception": false,
     "start_time": "2025-07-23T14:28:34.975331",
     "status": "completed"
    },
    "tags": []
   },
   "outputs": [],
   "source": [
    "# Calibration data for conformal\n",
    "X_calib = pd.read_csv(\"./data/X_calib.csv\")\n",
    "y_calib = pd.read_csv(\"./data/y_calib.csv\")"
   ]
  },
  {
   "cell_type": "code",
   "execution_count": 13,
   "id": "e6c733c5",
   "metadata": {
    "execution": {
     "iopub.execute_input": "2025-07-23T14:28:41.115668Z",
     "iopub.status.busy": "2025-07-23T14:28:41.115183Z",
     "iopub.status.idle": "2025-07-23T14:28:41.481999Z",
     "shell.execute_reply": "2025-07-23T14:28:41.480650Z"
    },
    "papermill": {
     "duration": 0.437277,
     "end_time": "2025-07-23T14:28:41.484501",
     "exception": false,
     "start_time": "2025-07-23T14:28:41.047224",
     "status": "completed"
    },
    "tags": []
   },
   "outputs": [],
   "source": [
    "# Auxiliary data needed downstream in the pipeline\n",
    "\n",
    "org_train = X_train.copy()\n",
    "org_test = X_test.copy()\n",
    "org_calib = X_calib.copy()"
   ]
  },
  {
   "cell_type": "markdown",
   "id": "0a4a1b33",
   "metadata": {
    "papermill": {
     "duration": 0.060246,
     "end_time": "2025-07-23T14:28:41.597109",
     "exception": false,
     "start_time": "2025-07-23T14:28:41.536863",
     "status": "completed"
    },
    "tags": []
   },
   "source": [
    "# Preprocessing Data"
   ]
  },
  {
   "cell_type": "code",
   "execution_count": 14,
   "id": "ca879031",
   "metadata": {
    "execution": {
     "iopub.execute_input": "2025-07-23T14:28:41.739458Z",
     "iopub.status.busy": "2025-07-23T14:28:41.738881Z",
     "iopub.status.idle": "2025-07-23T14:28:41.748721Z",
     "shell.execute_reply": "2025-07-23T14:28:41.747439Z"
    },
    "papermill": {
     "duration": 0.086398,
     "end_time": "2025-07-23T14:28:41.751616",
     "exception": false,
     "start_time": "2025-07-23T14:28:41.665218",
     "status": "completed"
    },
    "tags": []
   },
   "outputs": [],
   "source": [
    "# EXCLUDE PROTECTED FEATURES\n",
    "# ----------------------\n",
    "# \"exclude_features\": \"none\", # \"nationality\", \"sex\", \"nationality-sex\"\n",
    "\n",
    "excluded_features = universe[\"exclude_features\"].split(\"-\") # split, e.g.: \"nationality-sex\" -> [\"nationality\", \"sex\"]\n",
    "excluded_features_dictionary = {\n",
    "    \"nationality\": [\"maxdeutsch1\", \"maxdeutsch.Missing.\"],\n",
    "    \"sex\": [\"frau1\"],\n",
    "    \"age\": [\"age\"],\n",
    "}\n"
   ]
  },
  {
   "cell_type": "code",
   "execution_count": 15,
   "id": "b745ac60",
   "metadata": {
    "execution": {
     "iopub.execute_input": "2025-07-23T14:28:41.862912Z",
     "iopub.status.busy": "2025-07-23T14:28:41.862446Z",
     "iopub.status.idle": "2025-07-23T14:28:41.869453Z",
     "shell.execute_reply": "2025-07-23T14:28:41.868292Z"
    },
    "papermill": {
     "duration": 0.048608,
     "end_time": "2025-07-23T14:28:41.873387",
     "exception": false,
     "start_time": "2025-07-23T14:28:41.824779",
     "status": "completed"
    },
    "tags": []
   },
   "outputs": [],
   "source": [
    "# Code nice names to column names\n",
    "\n",
    "excluded_features_columns = [\n",
    "    excluded_features_dictionary[f] for f in excluded_features if len(f) > 0 and f != \"none\"\n",
    "]"
   ]
  },
  {
   "cell_type": "code",
   "execution_count": 16,
   "id": "f84f73a2",
   "metadata": {
    "execution": {
     "iopub.execute_input": "2025-07-23T14:28:41.994970Z",
     "iopub.status.busy": "2025-07-23T14:28:41.994513Z",
     "iopub.status.idle": "2025-07-23T14:28:42.003120Z",
     "shell.execute_reply": "2025-07-23T14:28:42.002065Z"
    },
    "papermill": {
     "duration": 0.076391,
     "end_time": "2025-07-23T14:28:42.005589",
     "exception": false,
     "start_time": "2025-07-23T14:28:41.929198",
     "status": "completed"
    },
    "tags": []
   },
   "outputs": [],
   "source": [
    "from utils import flatten_once\n",
    "\n",
    "excluded_features_columns = flatten_once(excluded_features_columns)"
   ]
  },
  {
   "cell_type": "code",
   "execution_count": 17,
   "id": "884dea22",
   "metadata": {
    "execution": {
     "iopub.execute_input": "2025-07-23T14:28:42.146603Z",
     "iopub.status.busy": "2025-07-23T14:28:42.146088Z",
     "iopub.status.idle": "2025-07-23T14:28:42.331012Z",
     "shell.execute_reply": "2025-07-23T14:28:42.329866Z"
    },
    "papermill": {
     "duration": 0.264229,
     "end_time": "2025-07-23T14:28:42.333453",
     "exception": false,
     "start_time": "2025-07-23T14:28:42.069224",
     "status": "completed"
    },
    "tags": []
   },
   "outputs": [
    {
     "name": "stdout",
     "output_type": "stream",
     "text": [
      "Dropping features: ['maxdeutsch1', 'maxdeutsch.Missing.', 'frau1']\n"
     ]
    }
   ],
   "source": [
    "if len(excluded_features_columns) > 0:\n",
    "    print(f\"Dropping features: {excluded_features_columns}\")\n",
    "    X_train.drop(excluded_features_columns, axis=1, inplace=True)"
   ]
  },
  {
   "cell_type": "code",
   "execution_count": 18,
   "id": "95ab8b16",
   "metadata": {
    "execution": {
     "iopub.execute_input": "2025-07-23T14:28:42.458799Z",
     "iopub.status.busy": "2025-07-23T14:28:42.458342Z",
     "iopub.status.idle": "2025-07-23T14:28:42.622430Z",
     "shell.execute_reply": "2025-07-23T14:28:42.621204Z"
    },
    "papermill": {
     "duration": 0.232066,
     "end_time": "2025-07-23T14:28:42.625024",
     "exception": false,
     "start_time": "2025-07-23T14:28:42.392958",
     "status": "completed"
    },
    "tags": []
   },
   "outputs": [
    {
     "name": "stdout",
     "output_type": "stream",
     "text": [
      "Dropping features: ['maxdeutsch1', 'maxdeutsch.Missing.', 'frau1']\n"
     ]
    }
   ],
   "source": [
    "if len(excluded_features_columns) > 0:\n",
    "    print(f\"Dropping features: {excluded_features_columns}\")\n",
    "    X_test.drop(excluded_features_columns, axis=1, inplace=True)"
   ]
  },
  {
   "cell_type": "code",
   "execution_count": 19,
   "id": "1853aaf5-fb9f-46cb-a2b5-8ea4ae2237e4",
   "metadata": {
    "execution": {
     "iopub.execute_input": "2025-07-23T14:28:42.751278Z",
     "iopub.status.busy": "2025-07-23T14:28:42.750797Z",
     "iopub.status.idle": "2025-07-23T14:28:42.937908Z",
     "shell.execute_reply": "2025-07-23T14:28:42.936660Z"
    },
    "papermill": {
     "duration": 0.263374,
     "end_time": "2025-07-23T14:28:42.940222",
     "exception": false,
     "start_time": "2025-07-23T14:28:42.676848",
     "status": "completed"
    },
    "tags": []
   },
   "outputs": [
    {
     "name": "stdout",
     "output_type": "stream",
     "text": [
      "Dropping features: ['maxdeutsch1', 'maxdeutsch.Missing.', 'frau1']\n"
     ]
    }
   ],
   "source": [
    "if len(excluded_features_columns) > 0:\n",
    "    print(f\"Dropping features: {excluded_features_columns}\")\n",
    "    X_calib.drop(excluded_features_columns, axis=1, inplace=True)"
   ]
  },
  {
   "cell_type": "code",
   "execution_count": 20,
   "id": "76c4dc6d",
   "metadata": {
    "execution": {
     "iopub.execute_input": "2025-07-23T14:28:43.089017Z",
     "iopub.status.busy": "2025-07-23T14:28:43.088375Z",
     "iopub.status.idle": "2025-07-23T14:28:43.095604Z",
     "shell.execute_reply": "2025-07-23T14:28:43.094506Z"
    },
    "papermill": {
     "duration": 0.119194,
     "end_time": "2025-07-23T14:28:43.120017",
     "exception": false,
     "start_time": "2025-07-23T14:28:43.000823",
     "status": "completed"
    },
    "tags": []
   },
   "outputs": [],
   "source": [
    "# EXCLUDE CERTAIN SUBGROUPS\n",
    "# ----------------------\n",
    "\n",
    "mode = universe.get(\"exclude_subgroups\", \"keep-all\") \n",
    "# Fetches the exclude_subgroups setting from the universe dict.\n",
    "# Defaults to \"keep-all\" if the key is missing."
   ]
  },
  {
   "cell_type": "code",
   "execution_count": 21,
   "id": "21994072",
   "metadata": {
    "execution": {
     "iopub.execute_input": "2025-07-23T14:28:43.303396Z",
     "iopub.status.busy": "2025-07-23T14:28:43.302955Z",
     "iopub.status.idle": "2025-07-23T14:28:43.311478Z",
     "shell.execute_reply": "2025-07-23T14:28:43.309889Z"
    },
    "papermill": {
     "duration": 0.097852,
     "end_time": "2025-07-23T14:28:43.316793",
     "exception": false,
     "start_time": "2025-07-23T14:28:43.218941",
     "status": "completed"
    },
    "tags": []
   },
   "outputs": [],
   "source": [
    "if mode == \"keep-all\":\n",
    "    keep_mask = pd.Series(True, index=org_train.index)\n",
    "\n",
    "# org_train contains the original feature columns from features_org (in Simson)\n",
    "# features_org contains unprocessed features, for me X_train at beginning ???\n",
    "# For keep-all, creates a boolean Series (keep_mask) of all True, so no rows are removed.\n",
    "\n",
    "elif mode == \"drop-non-german\":\n",
    "    keep_mask = org_train[\"maxdeutsch1\"] == 1 # ??? what about missing values?\n",
    "\n",
    "else:\n",
    "    raise ValueError(f\"Unsupported mode for exclude_subgroups: {mode}\")\n"
   ]
  },
  {
   "cell_type": "code",
   "execution_count": 22,
   "id": "71651440",
   "metadata": {
    "execution": {
     "iopub.execute_input": "2025-07-23T14:28:43.520089Z",
     "iopub.status.busy": "2025-07-23T14:28:43.519537Z",
     "iopub.status.idle": "2025-07-23T14:28:43.530351Z",
     "shell.execute_reply": "2025-07-23T14:28:43.529237Z"
    },
    "papermill": {
     "duration": 0.107422,
     "end_time": "2025-07-23T14:28:43.533010",
     "exception": false,
     "start_time": "2025-07-23T14:28:43.425588",
     "status": "completed"
    },
    "tags": []
   },
   "outputs": [],
   "source": [
    "n_drop = (~keep_mask).sum() # Calculates how many rows are set to be dropped\n",
    "if n_drop > 0:\n",
    "    pct = n_drop / len(keep_mask) * 100\n",
    "    print(f\"Dropping {n_drop} rows ({pct:.2f}%) where mode='{mode}'\")"
   ]
  },
  {
   "cell_type": "code",
   "execution_count": 23,
   "id": "5fb8eee5",
   "metadata": {
    "execution": {
     "iopub.execute_input": "2025-07-23T14:28:43.735106Z",
     "iopub.status.busy": "2025-07-23T14:28:43.734639Z",
     "iopub.status.idle": "2025-07-23T14:28:43.916293Z",
     "shell.execute_reply": "2025-07-23T14:28:43.888744Z"
    },
    "papermill": {
     "duration": 0.282416,
     "end_time": "2025-07-23T14:28:43.918688",
     "exception": false,
     "start_time": "2025-07-23T14:28:43.636272",
     "status": "completed"
    },
    "tags": []
   },
   "outputs": [],
   "source": [
    "X_train = X_train[keep_mask]"
   ]
  },
  {
   "cell_type": "code",
   "execution_count": 24,
   "id": "b202bb3a",
   "metadata": {
    "execution": {
     "iopub.execute_input": "2025-07-23T14:28:44.099477Z",
     "iopub.status.busy": "2025-07-23T14:28:44.099014Z",
     "iopub.status.idle": "2025-07-23T14:28:44.107892Z",
     "shell.execute_reply": "2025-07-23T14:28:44.106722Z"
    },
    "papermill": {
     "duration": 0.116326,
     "end_time": "2025-07-23T14:28:44.112990",
     "exception": false,
     "start_time": "2025-07-23T14:28:43.996664",
     "status": "completed"
    },
    "tags": []
   },
   "outputs": [],
   "source": [
    "y_train = y_train[keep_mask]"
   ]
  },
  {
   "cell_type": "markdown",
   "id": "493e2ac3",
   "metadata": {
    "papermill": {
     "duration": 0.048392,
     "end_time": "2025-07-23T14:28:44.221241",
     "exception": false,
     "start_time": "2025-07-23T14:28:44.172849",
     "status": "completed"
    },
    "tags": []
   },
   "source": [
    "# Model Training"
   ]
  },
  {
   "cell_type": "code",
   "execution_count": 25,
   "id": "679e1268",
   "metadata": {
    "execution": {
     "iopub.execute_input": "2025-07-23T14:28:44.362938Z",
     "iopub.status.busy": "2025-07-23T14:28:44.362494Z",
     "iopub.status.idle": "2025-07-23T14:28:44.758447Z",
     "shell.execute_reply": "2025-07-23T14:28:44.756659Z"
    },
    "papermill": {
     "duration": 0.456382,
     "end_time": "2025-07-23T14:28:44.761095",
     "exception": false,
     "start_time": "2025-07-23T14:28:44.304713",
     "status": "completed"
    },
    "tags": []
   },
   "outputs": [],
   "source": [
    "from sklearn.linear_model import LogisticRegression\n",
    "from sklearn.ensemble import GradientBoostingClassifier, RandomForestClassifier\n",
    "\n",
    "if (universe[\"model\"] == \"logreg\"):\n",
    "    model = LogisticRegression() #penalty=\"none\") #, solver=\"newton-cg\", max_iter=1) # include random_state=19 ?\n",
    "elif (universe[\"model\"] == \"penalized_logreg\"):\n",
    "    model = LogisticRegression(penalty=\"l2\", C=1.0) #, solver=\"newton-cg\", max_iter=1)\n",
    "elif (universe[\"model\"] == \"rf\"):\n",
    "    model = RandomForestClassifier(n_estimators=100, n_jobs=-1)\n",
    "elif (universe[\"model\"] == \"gbm\"):\n",
    "    model = GradientBoostingClassifier()\n",
    "elif (universe[\"model\"] == \"elasticnet\"):\n",
    "    model = LogisticRegression(penalty = 'elasticnet', solver = 'saga', l1_ratio = 0.5, max_iter=5000) # which solver to use?\n",
    "else:\n",
    "    raise \"Unsupported universe.model\""
   ]
  },
  {
   "cell_type": "code",
   "execution_count": 26,
   "id": "0cc8f744",
   "metadata": {
    "execution": {
     "iopub.execute_input": "2025-07-23T14:28:44.841981Z",
     "iopub.status.busy": "2025-07-23T14:28:44.841483Z",
     "iopub.status.idle": "2025-07-23T14:28:44.851390Z",
     "shell.execute_reply": "2025-07-23T14:28:44.850285Z"
    },
    "papermill": {
     "duration": 0.057234,
     "end_time": "2025-07-23T14:28:44.853928",
     "exception": false,
     "start_time": "2025-07-23T14:28:44.796694",
     "status": "completed"
    },
    "tags": []
   },
   "outputs": [],
   "source": [
    "import numpy as np\n",
    "from sklearn.pipeline import Pipeline\n",
    "from sklearn.preprocessing import StandardScaler\n",
    "\n",
    "model = Pipeline([\n",
    "    #(\"continuous_processor\", continuous_processor),\n",
    "    #(\"categorical_preprocessor\", categorical_preprocessor),\n",
    "    (\"scale\", StandardScaler() if universe[\"scale\"] == \"scale\" else None), \n",
    "    (\"model\", model),\n",
    "])"
   ]
  },
  {
   "cell_type": "code",
   "execution_count": 27,
   "id": "9442c04d",
   "metadata": {
    "execution": {
     "iopub.execute_input": "2025-07-23T14:28:44.955690Z",
     "iopub.status.busy": "2025-07-23T14:28:44.955209Z",
     "iopub.status.idle": "2025-07-23T14:29:04.092567Z",
     "shell.execute_reply": "2025-07-23T14:29:04.091676Z"
    },
    "papermill": {
     "duration": 19.199535,
     "end_time": "2025-07-23T14:29:04.093995",
     "exception": false,
     "start_time": "2025-07-23T14:28:44.894460",
     "status": "completed"
    },
    "tags": []
   },
   "outputs": [
    {
     "data": {
      "text/html": [
       "<style>#sk-container-id-1 {color: black;background-color: white;}#sk-container-id-1 pre{padding: 0;}#sk-container-id-1 div.sk-toggleable {background-color: white;}#sk-container-id-1 label.sk-toggleable__label {cursor: pointer;display: block;width: 100%;margin-bottom: 0;padding: 0.3em;box-sizing: border-box;text-align: center;}#sk-container-id-1 label.sk-toggleable__label-arrow:before {content: \"▸\";float: left;margin-right: 0.25em;color: #696969;}#sk-container-id-1 label.sk-toggleable__label-arrow:hover:before {color: black;}#sk-container-id-1 div.sk-estimator:hover label.sk-toggleable__label-arrow:before {color: black;}#sk-container-id-1 div.sk-toggleable__content {max-height: 0;max-width: 0;overflow: hidden;text-align: left;background-color: #f0f8ff;}#sk-container-id-1 div.sk-toggleable__content pre {margin: 0.2em;color: black;border-radius: 0.25em;background-color: #f0f8ff;}#sk-container-id-1 input.sk-toggleable__control:checked~div.sk-toggleable__content {max-height: 200px;max-width: 100%;overflow: auto;}#sk-container-id-1 input.sk-toggleable__control:checked~label.sk-toggleable__label-arrow:before {content: \"▾\";}#sk-container-id-1 div.sk-estimator input.sk-toggleable__control:checked~label.sk-toggleable__label {background-color: #d4ebff;}#sk-container-id-1 div.sk-label input.sk-toggleable__control:checked~label.sk-toggleable__label {background-color: #d4ebff;}#sk-container-id-1 input.sk-hidden--visually {border: 0;clip: rect(1px 1px 1px 1px);clip: rect(1px, 1px, 1px, 1px);height: 1px;margin: -1px;overflow: hidden;padding: 0;position: absolute;width: 1px;}#sk-container-id-1 div.sk-estimator {font-family: monospace;background-color: #f0f8ff;border: 1px dotted black;border-radius: 0.25em;box-sizing: border-box;margin-bottom: 0.5em;}#sk-container-id-1 div.sk-estimator:hover {background-color: #d4ebff;}#sk-container-id-1 div.sk-parallel-item::after {content: \"\";width: 100%;border-bottom: 1px solid gray;flex-grow: 1;}#sk-container-id-1 div.sk-label:hover label.sk-toggleable__label {background-color: #d4ebff;}#sk-container-id-1 div.sk-serial::before {content: \"\";position: absolute;border-left: 1px solid gray;box-sizing: border-box;top: 0;bottom: 0;left: 50%;z-index: 0;}#sk-container-id-1 div.sk-serial {display: flex;flex-direction: column;align-items: center;background-color: white;padding-right: 0.2em;padding-left: 0.2em;position: relative;}#sk-container-id-1 div.sk-item {position: relative;z-index: 1;}#sk-container-id-1 div.sk-parallel {display: flex;align-items: stretch;justify-content: center;background-color: white;position: relative;}#sk-container-id-1 div.sk-item::before, #sk-container-id-1 div.sk-parallel-item::before {content: \"\";position: absolute;border-left: 1px solid gray;box-sizing: border-box;top: 0;bottom: 0;left: 50%;z-index: -1;}#sk-container-id-1 div.sk-parallel-item {display: flex;flex-direction: column;z-index: 1;position: relative;background-color: white;}#sk-container-id-1 div.sk-parallel-item:first-child::after {align-self: flex-end;width: 50%;}#sk-container-id-1 div.sk-parallel-item:last-child::after {align-self: flex-start;width: 50%;}#sk-container-id-1 div.sk-parallel-item:only-child::after {width: 0;}#sk-container-id-1 div.sk-dashed-wrapped {border: 1px dashed gray;margin: 0 0.4em 0.5em 0.4em;box-sizing: border-box;padding-bottom: 0.4em;background-color: white;}#sk-container-id-1 div.sk-label label {font-family: monospace;font-weight: bold;display: inline-block;line-height: 1.2em;}#sk-container-id-1 div.sk-label-container {text-align: center;}#sk-container-id-1 div.sk-container {/* jupyter's `normalize.less` sets `[hidden] { display: none; }` but bootstrap.min.css set `[hidden] { display: none !important; }` so we also need the `!important` here to be able to override the default hidden behavior on the sphinx rendered scikit-learn.org. See: https://github.com/scikit-learn/scikit-learn/issues/21755 */display: inline-block !important;position: relative;}#sk-container-id-1 div.sk-text-repr-fallback {display: none;}</style><div id=\"sk-container-id-1\" class=\"sk-top-container\"><div class=\"sk-text-repr-fallback\"><pre>Pipeline(steps=[(&#x27;scale&#x27;, StandardScaler()),\n",
       "                (&#x27;model&#x27;, RandomForestClassifier(n_jobs=-1))])</pre><b>In a Jupyter environment, please rerun this cell to show the HTML representation or trust the notebook. <br />On GitHub, the HTML representation is unable to render, please try loading this page with nbviewer.org.</b></div><div class=\"sk-container\" hidden><div class=\"sk-item sk-dashed-wrapped\"><div class=\"sk-label-container\"><div class=\"sk-label sk-toggleable\"><input class=\"sk-toggleable__control sk-hidden--visually\" id=\"sk-estimator-id-1\" type=\"checkbox\" ><label for=\"sk-estimator-id-1\" class=\"sk-toggleable__label sk-toggleable__label-arrow\">Pipeline</label><div class=\"sk-toggleable__content\"><pre>Pipeline(steps=[(&#x27;scale&#x27;, StandardScaler()),\n",
       "                (&#x27;model&#x27;, RandomForestClassifier(n_jobs=-1))])</pre></div></div></div><div class=\"sk-serial\"><div class=\"sk-item\"><div class=\"sk-estimator sk-toggleable\"><input class=\"sk-toggleable__control sk-hidden--visually\" id=\"sk-estimator-id-2\" type=\"checkbox\" ><label for=\"sk-estimator-id-2\" class=\"sk-toggleable__label sk-toggleable__label-arrow\">StandardScaler</label><div class=\"sk-toggleable__content\"><pre>StandardScaler()</pre></div></div></div><div class=\"sk-item\"><div class=\"sk-estimator sk-toggleable\"><input class=\"sk-toggleable__control sk-hidden--visually\" id=\"sk-estimator-id-3\" type=\"checkbox\" ><label for=\"sk-estimator-id-3\" class=\"sk-toggleable__label sk-toggleable__label-arrow\">RandomForestClassifier</label><div class=\"sk-toggleable__content\"><pre>RandomForestClassifier(n_jobs=-1)</pre></div></div></div></div></div></div></div>"
      ],
      "text/plain": [
       "Pipeline(steps=[('scale', StandardScaler()),\n",
       "                ('model', RandomForestClassifier(n_jobs=-1))])"
      ]
     },
     "execution_count": 27,
     "metadata": {},
     "output_type": "execute_result"
    }
   ],
   "source": [
    "model.fit(X_train, y_train.values.ravel())"
   ]
  },
  {
   "cell_type": "code",
   "execution_count": 28,
   "id": "af59f8c0",
   "metadata": {
    "execution": {
     "iopub.execute_input": "2025-07-23T14:29:04.128068Z",
     "iopub.status.busy": "2025-07-23T14:29:04.127509Z",
     "iopub.status.idle": "2025-07-23T14:29:04.134611Z",
     "shell.execute_reply": "2025-07-23T14:29:04.133400Z"
    },
    "papermill": {
     "duration": 0.029233,
     "end_time": "2025-07-23T14:29:04.137152",
     "exception": false,
     "start_time": "2025-07-23T14:29:04.107919",
     "status": "completed"
    },
    "tags": []
   },
   "outputs": [],
   "source": [
    "from fairness_multiverse.universe import predict_w_threshold"
   ]
  },
  {
   "cell_type": "code",
   "execution_count": 29,
   "id": "a7cf2e16",
   "metadata": {
    "execution": {
     "iopub.execute_input": "2025-07-23T14:29:04.195638Z",
     "iopub.status.busy": "2025-07-23T14:29:04.194780Z",
     "iopub.status.idle": "2025-07-23T14:29:05.550488Z",
     "shell.execute_reply": "2025-07-23T14:29:05.549422Z"
    },
    "papermill": {
     "duration": 1.386651,
     "end_time": "2025-07-23T14:29:05.552389",
     "exception": false,
     "start_time": "2025-07-23T14:29:04.165738",
     "status": "completed"
    },
    "tags": []
   },
   "outputs": [
    {
     "data": {
      "text/plain": [
       "0.8676959090402407"
      ]
     },
     "execution_count": 29,
     "metadata": {},
     "output_type": "execute_result"
    }
   ],
   "source": [
    "probs_test = model.predict_proba(X_test)\n",
    "\n",
    "'''\n",
    "Below code returns a boolean array (or binary 0/1 array depending on how it’s used) where each element \n",
    "is True if the probability of class 1 is greater than or equal to the threshold, and False otherwise.\n",
    "'''\n",
    "y_pred_default = predict_w_threshold(probs_test, 0.5)\n",
    "\n",
    "from sklearn.metrics import accuracy_score\n",
    "\n",
    "# Naive prediction\n",
    "accuracy_score(y_true = y_true, y_pred = y_pred_default)"
   ]
  },
  {
   "cell_type": "code",
   "execution_count": 30,
   "id": "081964c3",
   "metadata": {
    "execution": {
     "iopub.execute_input": "2025-07-23T14:29:05.597553Z",
     "iopub.status.busy": "2025-07-23T14:29:05.597035Z",
     "iopub.status.idle": "2025-07-23T14:29:07.421147Z",
     "shell.execute_reply": "2025-07-23T14:29:07.419974Z"
    },
    "papermill": {
     "duration": 1.848738,
     "end_time": "2025-07-23T14:29:07.423307",
     "exception": false,
     "start_time": "2025-07-23T14:29:05.574569",
     "status": "completed"
    },
    "tags": []
   },
   "outputs": [
    {
     "data": {
      "text/plain": [
       "array([0, 0, 0, ..., 0, 0, 0])"
      ]
     },
     "execution_count": 30,
     "metadata": {},
     "output_type": "execute_result"
    }
   ],
   "source": [
    "model.predict(X_test)"
   ]
  },
  {
   "cell_type": "markdown",
   "id": "56c9705b",
   "metadata": {
    "papermill": {
     "duration": 0.038529,
     "end_time": "2025-07-23T14:29:07.499383",
     "exception": false,
     "start_time": "2025-07-23T14:29:07.460854",
     "status": "completed"
    },
    "tags": []
   },
   "source": [
    "# Conformal Prediction"
   ]
  },
  {
   "cell_type": "code",
   "execution_count": 31,
   "id": "160ec6ff",
   "metadata": {
    "execution": {
     "iopub.execute_input": "2025-07-23T14:29:07.587547Z",
     "iopub.status.busy": "2025-07-23T14:29:07.587101Z",
     "iopub.status.idle": "2025-07-23T14:29:07.594612Z",
     "shell.execute_reply": "2025-07-23T14:29:07.593447Z"
    },
    "papermill": {
     "duration": 0.047902,
     "end_time": "2025-07-23T14:29:07.597051",
     "exception": false,
     "start_time": "2025-07-23T14:29:07.549149",
     "status": "completed"
    },
    "tags": []
   },
   "outputs": [],
   "source": [
    "# Miscoverage level for conformal prediction (10% allowed error rate => 90% target coverage)\n",
    "alpha = 0.1"
   ]
  },
  {
   "cell_type": "code",
   "execution_count": 32,
   "id": "eadf4555-3dd3-440e-8e35-f82a4ad9f855",
   "metadata": {
    "execution": {
     "iopub.execute_input": "2025-07-23T14:29:07.688792Z",
     "iopub.status.busy": "2025-07-23T14:29:07.688336Z",
     "iopub.status.idle": "2025-07-23T14:29:10.028602Z",
     "shell.execute_reply": "2025-07-23T14:29:10.027529Z"
    },
    "papermill": {
     "duration": 2.3813,
     "end_time": "2025-07-23T14:29:10.030520",
     "exception": false,
     "start_time": "2025-07-23T14:29:07.649220",
     "status": "completed"
    },
    "tags": []
   },
   "outputs": [],
   "source": [
    "probs_calib = model.predict_proba(X_calib)"
   ]
  },
  {
   "cell_type": "code",
   "execution_count": 33,
   "id": "2ed93547-6d5d-4983-9b36-1ecb300da49a",
   "metadata": {
    "execution": {
     "iopub.execute_input": "2025-07-23T14:29:10.123419Z",
     "iopub.status.busy": "2025-07-23T14:29:10.122903Z",
     "iopub.status.idle": "2025-07-23T14:29:10.130491Z",
     "shell.execute_reply": "2025-07-23T14:29:10.129423Z"
    },
    "papermill": {
     "duration": 0.06562,
     "end_time": "2025-07-23T14:29:10.132642",
     "exception": false,
     "start_time": "2025-07-23T14:29:10.067022",
     "status": "completed"
    },
    "tags": []
   },
   "outputs": [],
   "source": [
    "y_calib = y_calib.values.ravel().astype(int)"
   ]
  },
  {
   "cell_type": "code",
   "execution_count": 34,
   "id": "65d1320d-f588-4b38-9072-62af1ae97f7d",
   "metadata": {
    "execution": {
     "iopub.execute_input": "2025-07-23T14:29:10.235215Z",
     "iopub.status.busy": "2025-07-23T14:29:10.234685Z",
     "iopub.status.idle": "2025-07-23T14:29:10.242738Z",
     "shell.execute_reply": "2025-07-23T14:29:10.241556Z"
    },
    "papermill": {
     "duration": 0.059419,
     "end_time": "2025-07-23T14:29:10.244569",
     "exception": false,
     "start_time": "2025-07-23T14:29:10.185150",
     "status": "completed"
    },
    "tags": []
   },
   "outputs": [],
   "source": [
    "from fairness_multiverse.conformal import compute_nc_scores\n",
    "\n",
    "# Compute nonconformity scores on calibration set (1 - probability of true class)\n",
    "nc_scores = compute_nc_scores(probs_calib, y_calib)"
   ]
  },
  {
   "cell_type": "code",
   "execution_count": 35,
   "id": "df3b8ca3-53b7-43d5-9667-7c85da7aeda2",
   "metadata": {
    "execution": {
     "iopub.execute_input": "2025-07-23T14:29:10.303791Z",
     "iopub.status.busy": "2025-07-23T14:29:10.303307Z",
     "iopub.status.idle": "2025-07-23T14:29:10.311140Z",
     "shell.execute_reply": "2025-07-23T14:29:10.310102Z"
    },
    "papermill": {
     "duration": 0.033338,
     "end_time": "2025-07-23T14:29:10.314593",
     "exception": false,
     "start_time": "2025-07-23T14:29:10.281255",
     "status": "completed"
    },
    "tags": []
   },
   "outputs": [],
   "source": [
    "from fairness_multiverse.conformal import find_threshold\n",
    "\n",
    "# Find conformal threshold q_hat for the given alpha (split conformal method)\n",
    "q_hat = find_threshold(nc_scores, alpha)"
   ]
  },
  {
   "cell_type": "code",
   "execution_count": 36,
   "id": "4d29e6c1-0ef6-4aa4-b8fe-4fe79b0d033a",
   "metadata": {
    "execution": {
     "iopub.execute_input": "2025-07-23T14:29:10.395016Z",
     "iopub.status.busy": "2025-07-23T14:29:10.394537Z",
     "iopub.status.idle": "2025-07-23T14:29:10.403777Z",
     "shell.execute_reply": "2025-07-23T14:29:10.402701Z"
    },
    "papermill": {
     "duration": 0.055418,
     "end_time": "2025-07-23T14:29:10.408612",
     "exception": false,
     "start_time": "2025-07-23T14:29:10.353194",
     "status": "completed"
    },
    "tags": []
   },
   "outputs": [
    {
     "data": {
      "text/plain": [
       "0.65"
      ]
     },
     "execution_count": 36,
     "metadata": {},
     "output_type": "execute_result"
    }
   ],
   "source": [
    "q_hat"
   ]
  },
  {
   "cell_type": "code",
   "execution_count": 37,
   "id": "92460794-cdac-4be2-ba28-f28c0515a6fb",
   "metadata": {
    "execution": {
     "iopub.execute_input": "2025-07-23T14:29:10.489123Z",
     "iopub.status.busy": "2025-07-23T14:29:10.488636Z",
     "iopub.status.idle": "2025-07-23T14:29:13.645163Z",
     "shell.execute_reply": "2025-07-23T14:29:13.643805Z"
    },
    "papermill": {
     "duration": 3.182828,
     "end_time": "2025-07-23T14:29:13.647256",
     "exception": false,
     "start_time": "2025-07-23T14:29:10.464428",
     "status": "completed"
    },
    "tags": []
   },
   "outputs": [],
   "source": [
    "from fairness_multiverse.conformal import predict_conformal_sets\n",
    "\n",
    "# Generate prediction sets for each test example\n",
    "pred_sets = predict_conformal_sets(model, X_test, q_hat)"
   ]
  },
  {
   "cell_type": "code",
   "execution_count": 38,
   "id": "d90c9a65-e6db-4f5d-80cd-e68fb7e46829",
   "metadata": {
    "execution": {
     "iopub.execute_input": "2025-07-23T14:29:13.745322Z",
     "iopub.status.busy": "2025-07-23T14:29:13.744852Z",
     "iopub.status.idle": "2025-07-23T14:29:13.751841Z",
     "shell.execute_reply": "2025-07-23T14:29:13.750743Z"
    },
    "papermill": {
     "duration": 0.04846,
     "end_time": "2025-07-23T14:29:13.753598",
     "exception": false,
     "start_time": "2025-07-23T14:29:13.705138",
     "status": "completed"
    },
    "tags": []
   },
   "outputs": [],
   "source": [
    "y_true = y_true.squeeze()"
   ]
  },
  {
   "cell_type": "code",
   "execution_count": 39,
   "id": "3a58a54a-1e68-46b9-927a-df01f18aebc8",
   "metadata": {
    "execution": {
     "iopub.execute_input": "2025-07-23T14:29:13.846102Z",
     "iopub.status.busy": "2025-07-23T14:29:13.845644Z",
     "iopub.status.idle": "2025-07-23T14:29:15.322392Z",
     "shell.execute_reply": "2025-07-23T14:29:15.321277Z"
    },
    "papermill": {
     "duration": 1.519567,
     "end_time": "2025-07-23T14:29:15.324722",
     "exception": false,
     "start_time": "2025-07-23T14:29:13.805155",
     "status": "completed"
    },
    "tags": []
   },
   "outputs": [],
   "source": [
    "from fairness_multiverse.conformal import evaluate_sets\n",
    "\n",
    "# Evaluate coverage and average set size on test data\n",
    "metrics = evaluate_sets(pred_sets, y_true)"
   ]
  },
  {
   "cell_type": "code",
   "execution_count": 40,
   "id": "5ce0a5cb-201f-45a0-ade5-94c7f0bd6095",
   "metadata": {
    "execution": {
     "iopub.execute_input": "2025-07-23T14:29:15.370927Z",
     "iopub.status.busy": "2025-07-23T14:29:15.370409Z",
     "iopub.status.idle": "2025-07-23T14:29:15.379213Z",
     "shell.execute_reply": "2025-07-23T14:29:15.377930Z"
    },
    "papermill": {
     "duration": 0.036803,
     "end_time": "2025-07-23T14:29:15.384348",
     "exception": false,
     "start_time": "2025-07-23T14:29:15.347545",
     "status": "completed"
    },
    "tags": []
   },
   "outputs": [
    {
     "data": {
      "text/plain": [
       "{'coverage': 0.915460929662245, 'avg_size': 1.139259837253372}"
      ]
     },
     "execution_count": 40,
     "metadata": {},
     "output_type": "execute_result"
    }
   ],
   "source": [
    "metrics"
   ]
  },
  {
   "cell_type": "code",
   "execution_count": 41,
   "id": "9b9a838d-31c9-430b-ae14-12baee460d17",
   "metadata": {
    "execution": {
     "iopub.execute_input": "2025-07-23T14:29:15.423232Z",
     "iopub.status.busy": "2025-07-23T14:29:15.422851Z",
     "iopub.status.idle": "2025-07-23T14:29:15.428733Z",
     "shell.execute_reply": "2025-07-23T14:29:15.427893Z"
    },
    "papermill": {
     "duration": 0.022487,
     "end_time": "2025-07-23T14:29:15.430296",
     "exception": false,
     "start_time": "2025-07-23T14:29:15.407809",
     "status": "completed"
    },
    "tags": []
   },
   "outputs": [],
   "source": [
    "example_universe = universe.copy()\n",
    "universe_model = example_universe.get(\"model\")\n",
    "universe_exclude_features = example_universe.get(\"exclude_features\")\n",
    "universe_exclude_subgroups = example_universe.get(\"exclude_subgroups\")\n",
    "universe_scale = example_universe.get(\"scale\")"
   ]
  },
  {
   "cell_type": "code",
   "execution_count": 42,
   "id": "f4b6a8ac-9dc0-4245-8a91-5b3b5999c4f9",
   "metadata": {
    "execution": {
     "iopub.execute_input": "2025-07-23T14:29:15.474387Z",
     "iopub.status.busy": "2025-07-23T14:29:15.473523Z",
     "iopub.status.idle": "2025-07-23T14:29:15.480995Z",
     "shell.execute_reply": "2025-07-23T14:29:15.479891Z"
    },
    "papermill": {
     "duration": 0.038492,
     "end_time": "2025-07-23T14:29:15.482802",
     "exception": false,
     "start_time": "2025-07-23T14:29:15.444310",
     "status": "completed"
    },
    "tags": []
   },
   "outputs": [],
   "source": [
    "cp_metrics_dict = {\n",
    "    \"universe_id\": [universe_id],\n",
    "    \"universe_model\": [universe_model],\n",
    "    \"universe_exclude_features\": [universe_exclude_features],\n",
    "    \"universe_exclude_subgroups\": [universe_exclude_subgroups],\n",
    "    \"universe_scale\": [universe_scale],\n",
    "    \"q_hat\": [q_hat],\n",
    "    \"coverage\": [metrics[\"coverage\"]],\n",
    "    \"avg_size\": [metrics[\"avg_size\"]],\n",
    "}"
   ]
  },
  {
   "cell_type": "code",
   "execution_count": 43,
   "id": "908acbb1-0371-4915-85ca-3fa520d2efe2",
   "metadata": {
    "execution": {
     "iopub.execute_input": "2025-07-23T14:29:15.527704Z",
     "iopub.status.busy": "2025-07-23T14:29:15.526875Z",
     "iopub.status.idle": "2025-07-23T14:29:15.535414Z",
     "shell.execute_reply": "2025-07-23T14:29:15.534464Z"
    },
    "papermill": {
     "duration": 0.032393,
     "end_time": "2025-07-23T14:29:15.537208",
     "exception": false,
     "start_time": "2025-07-23T14:29:15.504815",
     "status": "completed"
    },
    "tags": []
   },
   "outputs": [
    {
     "data": {
      "text/plain": [
       "{'universe_id': ['178e4745600648bf3470ed27ba046cb4'],\n",
       " 'universe_model': ['rf'],\n",
       " 'universe_exclude_features': ['nationality-sex'],\n",
       " 'universe_exclude_subgroups': ['keep-all'],\n",
       " 'universe_scale': ['scale'],\n",
       " 'q_hat': [0.65],\n",
       " 'coverage': [0.915460929662245],\n",
       " 'avg_size': [1.139259837253372]}"
      ]
     },
     "execution_count": 43,
     "metadata": {},
     "output_type": "execute_result"
    }
   ],
   "source": [
    "cp_metrics_dict"
   ]
  },
  {
   "cell_type": "code",
   "execution_count": 44,
   "id": "33007efc-14e9-4ec6-97ac-56a455c82265",
   "metadata": {
    "execution": {
     "iopub.execute_input": "2025-07-23T14:29:15.582887Z",
     "iopub.status.busy": "2025-07-23T14:29:15.581807Z",
     "iopub.status.idle": "2025-07-23T14:29:15.589309Z",
     "shell.execute_reply": "2025-07-23T14:29:15.588211Z"
    },
    "papermill": {
     "duration": 0.03232,
     "end_time": "2025-07-23T14:29:15.591359",
     "exception": false,
     "start_time": "2025-07-23T14:29:15.559039",
     "status": "completed"
    },
    "tags": []
   },
   "outputs": [],
   "source": [
    "cp_metrics_df = pd.DataFrame(cp_metrics_dict)"
   ]
  },
  {
   "cell_type": "code",
   "execution_count": 45,
   "id": "db12611b-57b2-4910-b9d0-355adfd6e7bf",
   "metadata": {
    "execution": {
     "iopub.execute_input": "2025-07-23T14:29:15.636589Z",
     "iopub.status.busy": "2025-07-23T14:29:15.635839Z",
     "iopub.status.idle": "2025-07-23T14:29:15.661323Z",
     "shell.execute_reply": "2025-07-23T14:29:15.660136Z"
    },
    "papermill": {
     "duration": 0.049752,
     "end_time": "2025-07-23T14:29:15.663264",
     "exception": false,
     "start_time": "2025-07-23T14:29:15.613512",
     "status": "completed"
    },
    "tags": []
   },
   "outputs": [
    {
     "data": {
      "text/html": [
       "<div>\n",
       "<style scoped>\n",
       "    .dataframe tbody tr th:only-of-type {\n",
       "        vertical-align: middle;\n",
       "    }\n",
       "\n",
       "    .dataframe tbody tr th {\n",
       "        vertical-align: top;\n",
       "    }\n",
       "\n",
       "    .dataframe thead th {\n",
       "        text-align: right;\n",
       "    }\n",
       "</style>\n",
       "<table border=\"1\" class=\"dataframe\">\n",
       "  <thead>\n",
       "    <tr style=\"text-align: right;\">\n",
       "      <th></th>\n",
       "      <th>universe_id</th>\n",
       "      <th>universe_model</th>\n",
       "      <th>universe_exclude_features</th>\n",
       "      <th>universe_exclude_subgroups</th>\n",
       "      <th>universe_scale</th>\n",
       "      <th>q_hat</th>\n",
       "      <th>coverage</th>\n",
       "      <th>avg_size</th>\n",
       "    </tr>\n",
       "  </thead>\n",
       "  <tbody>\n",
       "    <tr>\n",
       "      <th>0</th>\n",
       "      <td>178e4745600648bf3470ed27ba046cb4</td>\n",
       "      <td>rf</td>\n",
       "      <td>nationality-sex</td>\n",
       "      <td>keep-all</td>\n",
       "      <td>scale</td>\n",
       "      <td>0.65</td>\n",
       "      <td>0.915461</td>\n",
       "      <td>1.13926</td>\n",
       "    </tr>\n",
       "  </tbody>\n",
       "</table>\n",
       "</div>"
      ],
      "text/plain": [
       "                        universe_id universe_model universe_exclude_features  \\\n",
       "0  178e4745600648bf3470ed27ba046cb4             rf           nationality-sex   \n",
       "\n",
       "  universe_exclude_subgroups universe_scale  q_hat  coverage  avg_size  \n",
       "0                   keep-all          scale   0.65  0.915461   1.13926  "
      ]
     },
     "execution_count": 45,
     "metadata": {},
     "output_type": "execute_result"
    }
   ],
   "source": [
    "cp_metrics_df"
   ]
  },
  {
   "cell_type": "code",
   "execution_count": 46,
   "id": "b7fbde55-a0a1-47e4-9af6-fe4a17fa8c61",
   "metadata": {
    "execution": {
     "iopub.execute_input": "2025-07-23T14:29:15.708817Z",
     "iopub.status.busy": "2025-07-23T14:29:15.708068Z",
     "iopub.status.idle": "2025-07-23T14:29:15.714504Z",
     "shell.execute_reply": "2025-07-23T14:29:15.713247Z"
    },
    "papermill": {
     "duration": 0.031789,
     "end_time": "2025-07-23T14:29:15.716412",
     "exception": false,
     "start_time": "2025-07-23T14:29:15.684623",
     "status": "completed"
    },
    "tags": []
   },
   "outputs": [],
   "source": [
    "# Conditional Coverage & looking at subgroups"
   ]
  },
  {
   "cell_type": "code",
   "execution_count": 47,
   "id": "027ae886-68dd-4141-96c7-805a5450e1ef",
   "metadata": {
    "execution": {
     "iopub.execute_input": "2025-07-23T14:29:15.762718Z",
     "iopub.status.busy": "2025-07-23T14:29:15.762303Z",
     "iopub.status.idle": "2025-07-23T14:29:16.157882Z",
     "shell.execute_reply": "2025-07-23T14:29:16.156649Z"
    },
    "papermill": {
     "duration": 0.420813,
     "end_time": "2025-07-23T14:29:16.160021",
     "exception": false,
     "start_time": "2025-07-23T14:29:15.739208",
     "status": "completed"
    },
    "tags": []
   },
   "outputs": [],
   "source": [
    "from fairness_multiverse.conformal import build_cp_groups\n",
    "\n",
    "cp_groups_df = build_cp_groups(pred_sets, y_true, X_test.index, org_test)\n",
    "#needs universe_id and setting"
   ]
  },
  {
   "cell_type": "code",
   "execution_count": 48,
   "id": "c3b92545-903e-4839-89af-0f057907d7d6",
   "metadata": {
    "execution": {
     "iopub.execute_input": "2025-07-23T14:29:16.219554Z",
     "iopub.status.busy": "2025-07-23T14:29:16.219119Z",
     "iopub.status.idle": "2025-07-23T14:29:18.312101Z",
     "shell.execute_reply": "2025-07-23T14:29:18.311109Z"
    },
    "papermill": {
     "duration": 2.11851,
     "end_time": "2025-07-23T14:29:18.313683",
     "exception": false,
     "start_time": "2025-07-23T14:29:16.195173",
     "status": "completed"
    },
    "tags": []
   },
   "outputs": [],
   "source": [
    "# Define covered = 1 if true_label is in the predicted set\n",
    "cp_groups_df['covered'] = cp_groups_df.apply(\n",
    "    lambda r: int(r['true_label'] in r['pred_set']),\n",
    "    axis=1\n",
    ")"
   ]
  },
  {
   "cell_type": "code",
   "execution_count": 49,
   "id": "338ff529-1a6b-4b87-a931-8e4788d52aad",
   "metadata": {
    "execution": {
     "iopub.execute_input": "2025-07-23T14:29:18.388447Z",
     "iopub.status.busy": "2025-07-23T14:29:18.387895Z",
     "iopub.status.idle": "2025-07-23T14:29:18.393438Z",
     "shell.execute_reply": "2025-07-23T14:29:18.392352Z"
    },
    "papermill": {
     "duration": 0.046488,
     "end_time": "2025-07-23T14:29:18.395360",
     "exception": false,
     "start_time": "2025-07-23T14:29:18.348872",
     "status": "completed"
    },
    "tags": []
   },
   "outputs": [],
   "source": [
    "#cp_groups_df"
   ]
  },
  {
   "cell_type": "code",
   "execution_count": 50,
   "id": "90032e27-66df-4540-9169-4e89cfbaa758",
   "metadata": {
    "execution": {
     "iopub.execute_input": "2025-07-23T14:29:18.448217Z",
     "iopub.status.busy": "2025-07-23T14:29:18.447711Z",
     "iopub.status.idle": "2025-07-23T14:29:18.460902Z",
     "shell.execute_reply": "2025-07-23T14:29:18.459536Z"
    },
    "papermill": {
     "duration": 0.041275,
     "end_time": "2025-07-23T14:29:18.462863",
     "exception": false,
     "start_time": "2025-07-23T14:29:18.421588",
     "status": "completed"
    },
    "tags": []
   },
   "outputs": [],
   "source": [
    "subgroups = ['frau1','nongerman','nongerman_male','nongerman_female']\n",
    "\n",
    "# Conditional coverage for subgroup==1\n",
    "cond_coverage = {\n",
    "    g: cp_groups_df.loc[cp_groups_df[g]==1, 'covered'].mean()\n",
    "    for g in subgroups\n",
    "}"
   ]
  },
  {
   "cell_type": "code",
   "execution_count": 51,
   "id": "1e348fb1-b9c3-45bc-ba23-f016827a7e0d",
   "metadata": {
    "execution": {
     "iopub.execute_input": "2025-07-23T14:29:18.516021Z",
     "iopub.status.busy": "2025-07-23T14:29:18.514975Z",
     "iopub.status.idle": "2025-07-23T14:29:18.523273Z",
     "shell.execute_reply": "2025-07-23T14:29:18.522106Z"
    },
    "papermill": {
     "duration": 0.036578,
     "end_time": "2025-07-23T14:29:18.524938",
     "exception": false,
     "start_time": "2025-07-23T14:29:18.488360",
     "status": "completed"
    },
    "tags": []
   },
   "outputs": [
    {
     "data": {
      "text/plain": [
       "{'frau1': 0.9159725030327538,\n",
       " 'nongerman': 0.9116937068433166,\n",
       " 'nongerman_male': 0.9255156264072774,\n",
       " 'nongerman_female': 0.888822652757079}"
      ]
     },
     "execution_count": 51,
     "metadata": {},
     "output_type": "execute_result"
    }
   ],
   "source": [
    "cond_coverage"
   ]
  },
  {
   "cell_type": "code",
   "execution_count": 52,
   "id": "f5093324-c3dd-4d63-bc4c-8d945e5c8bbb",
   "metadata": {
    "execution": {
     "iopub.execute_input": "2025-07-23T14:29:18.575154Z",
     "iopub.status.busy": "2025-07-23T14:29:18.574639Z",
     "iopub.status.idle": "2025-07-23T14:29:18.582213Z",
     "shell.execute_reply": "2025-07-23T14:29:18.581161Z"
    },
    "papermill": {
     "duration": 0.033232,
     "end_time": "2025-07-23T14:29:18.583947",
     "exception": false,
     "start_time": "2025-07-23T14:29:18.550715",
     "status": "completed"
    },
    "tags": []
   },
   "outputs": [],
   "source": [
    "for subgroup, cov in cond_coverage.items():\n",
    "    cp_metrics_df[f\"cov_{subgroup}\"] = cov"
   ]
  },
  {
   "cell_type": "code",
   "execution_count": 53,
   "id": "6e872e10-dbe5-49e8-b554-5030c98ff75d",
   "metadata": {
    "execution": {
     "iopub.execute_input": "2025-07-23T14:29:18.630873Z",
     "iopub.status.busy": "2025-07-23T14:29:18.629965Z",
     "iopub.status.idle": "2025-07-23T14:29:18.648678Z",
     "shell.execute_reply": "2025-07-23T14:29:18.647429Z"
    },
    "papermill": {
     "duration": 0.044275,
     "end_time": "2025-07-23T14:29:18.650734",
     "exception": false,
     "start_time": "2025-07-23T14:29:18.606459",
     "status": "completed"
    },
    "tags": []
   },
   "outputs": [
    {
     "data": {
      "text/html": [
       "<div>\n",
       "<style scoped>\n",
       "    .dataframe tbody tr th:only-of-type {\n",
       "        vertical-align: middle;\n",
       "    }\n",
       "\n",
       "    .dataframe tbody tr th {\n",
       "        vertical-align: top;\n",
       "    }\n",
       "\n",
       "    .dataframe thead th {\n",
       "        text-align: right;\n",
       "    }\n",
       "</style>\n",
       "<table border=\"1\" class=\"dataframe\">\n",
       "  <thead>\n",
       "    <tr style=\"text-align: right;\">\n",
       "      <th></th>\n",
       "      <th>universe_id</th>\n",
       "      <th>universe_model</th>\n",
       "      <th>universe_exclude_features</th>\n",
       "      <th>universe_exclude_subgroups</th>\n",
       "      <th>universe_scale</th>\n",
       "      <th>q_hat</th>\n",
       "      <th>coverage</th>\n",
       "      <th>avg_size</th>\n",
       "      <th>cov_frau1</th>\n",
       "      <th>cov_nongerman</th>\n",
       "      <th>cov_nongerman_male</th>\n",
       "      <th>cov_nongerman_female</th>\n",
       "    </tr>\n",
       "  </thead>\n",
       "  <tbody>\n",
       "    <tr>\n",
       "      <th>0</th>\n",
       "      <td>178e4745600648bf3470ed27ba046cb4</td>\n",
       "      <td>rf</td>\n",
       "      <td>nationality-sex</td>\n",
       "      <td>keep-all</td>\n",
       "      <td>scale</td>\n",
       "      <td>0.65</td>\n",
       "      <td>0.915461</td>\n",
       "      <td>1.13926</td>\n",
       "      <td>0.915973</td>\n",
       "      <td>0.911694</td>\n",
       "      <td>0.925516</td>\n",
       "      <td>0.888823</td>\n",
       "    </tr>\n",
       "  </tbody>\n",
       "</table>\n",
       "</div>"
      ],
      "text/plain": [
       "                        universe_id universe_model universe_exclude_features  \\\n",
       "0  178e4745600648bf3470ed27ba046cb4             rf           nationality-sex   \n",
       "\n",
       "  universe_exclude_subgroups universe_scale  q_hat  coverage  avg_size  \\\n",
       "0                   keep-all          scale   0.65  0.915461   1.13926   \n",
       "\n",
       "   cov_frau1  cov_nongerman  cov_nongerman_male  cov_nongerman_female  \n",
       "0   0.915973       0.911694            0.925516              0.888823  "
      ]
     },
     "execution_count": 53,
     "metadata": {},
     "output_type": "execute_result"
    }
   ],
   "source": [
    "cp_metrics_df"
   ]
  },
  {
   "cell_type": "markdown",
   "id": "33774451",
   "metadata": {
    "papermill": {
     "duration": 0.022821,
     "end_time": "2025-07-23T14:29:18.696479",
     "exception": false,
     "start_time": "2025-07-23T14:29:18.673658",
     "status": "completed"
    },
    "tags": []
   },
   "source": [
    "# (Fairness) Metrics"
   ]
  },
  {
   "cell_type": "code",
   "execution_count": 54,
   "id": "debc5d62",
   "metadata": {
    "execution": {
     "iopub.execute_input": "2025-07-23T14:29:18.745757Z",
     "iopub.status.busy": "2025-07-23T14:29:18.745242Z",
     "iopub.status.idle": "2025-07-23T14:29:18.771308Z",
     "shell.execute_reply": "2025-07-23T14:29:18.770043Z"
    },
    "papermill": {
     "duration": 0.052363,
     "end_time": "2025-07-23T14:29:18.774078",
     "exception": false,
     "start_time": "2025-07-23T14:29:18.721715",
     "status": "completed"
    },
    "tags": []
   },
   "outputs": [],
   "source": [
    "# do I need to include maxdeutsch1.missing?\n",
    "\n",
    "import numpy as np\n",
    "\n",
    "colname_to_bin = \"maxdeutsch1\"\n",
    "majority_value = org_train[colname_to_bin].mode()[0]\n",
    "\n",
    "org_test[\"majmin\"] = np.where(org_test[colname_to_bin] == majority_value, \"majority\", \"minority\")"
   ]
  },
  {
   "cell_type": "code",
   "execution_count": 55,
   "id": "06a50de5",
   "metadata": {
    "execution": {
     "iopub.execute_input": "2025-07-23T14:29:18.830483Z",
     "iopub.status.busy": "2025-07-23T14:29:18.829950Z",
     "iopub.status.idle": "2025-07-23T14:29:22.061308Z",
     "shell.execute_reply": "2025-07-23T14:29:22.060100Z"
    },
    "papermill": {
     "duration": 3.261758,
     "end_time": "2025-07-23T14:29:22.063629",
     "exception": false,
     "start_time": "2025-07-23T14:29:18.801871",
     "status": "completed"
    },
    "tags": []
   },
   "outputs": [],
   "source": [
    "example_universe = universe.copy()\n",
    "example_universe[\"cutoff\"] = example_universe[\"cutoff\"][0]\n",
    "example_universe[\"eval_fairness_grouping\"] = example_universe[\"eval_fairness_grouping\"][0]\n",
    "fairness_dict, metric_frame = universe_analysis.compute_metrics(\n",
    "    example_universe,\n",
    "    y_pred_prob=probs_test,\n",
    "    y_test=y_true,\n",
    "    org_test=org_test,\n",
    ")"
   ]
  },
  {
   "cell_type": "markdown",
   "id": "f95d4e02",
   "metadata": {
    "papermill": {
     "duration": 0.057025,
     "end_time": "2025-07-23T14:29:22.145354",
     "exception": false,
     "start_time": "2025-07-23T14:29:22.088329",
     "status": "completed"
    },
    "tags": []
   },
   "source": [
    "# Overall"
   ]
  },
  {
   "cell_type": "markdown",
   "id": "bdee4871",
   "metadata": {
    "papermill": {
     "duration": 0.023751,
     "end_time": "2025-07-23T14:29:22.208210",
     "exception": false,
     "start_time": "2025-07-23T14:29:22.184459",
     "status": "completed"
    },
    "tags": []
   },
   "source": [
    "Fairness\n",
    "Main fairness target: Equalized Odds. Seems to be a better fit than equal opportunity, since we're not only interested in Y = 1. Seems to be a better fit than demographic parity, since we also care about accuracy, not just equal distribution of preds.\n",
    "\n",
    "Pick column for computation of fairness metrics\n",
    "\n",
    "Performance\n",
    "Overall performance measures, most interesting in relation to the measures split by group below"
   ]
  },
  {
   "cell_type": "code",
   "execution_count": 56,
   "id": "c4e067c6",
   "metadata": {
    "execution": {
     "iopub.execute_input": "2025-07-23T14:29:22.254668Z",
     "iopub.status.busy": "2025-07-23T14:29:22.253564Z",
     "iopub.status.idle": "2025-07-23T14:29:22.264396Z",
     "shell.execute_reply": "2025-07-23T14:29:22.263313Z"
    },
    "papermill": {
     "duration": 0.036335,
     "end_time": "2025-07-23T14:29:22.266499",
     "exception": false,
     "start_time": "2025-07-23T14:29:22.230164",
     "status": "completed"
    },
    "tags": []
   },
   "outputs": [
    {
     "data": {
      "text/plain": [
       "accuracy                   0.200903\n",
       "balanced accuracy          0.531984\n",
       "f1                         0.238838\n",
       "precision                  0.136042\n",
       "false positive rate        0.913353\n",
       "false negative rate        0.022680\n",
       "selection rate             0.921558\n",
       "count                  89710.000000\n",
       "dtype: float64"
      ]
     },
     "execution_count": 56,
     "metadata": {},
     "output_type": "execute_result"
    }
   ],
   "source": [
    "metric_frame.overall"
   ]
  },
  {
   "cell_type": "markdown",
   "id": "e968fe9d",
   "metadata": {
    "papermill": {
     "duration": 0.021702,
     "end_time": "2025-07-23T14:29:22.311426",
     "exception": false,
     "start_time": "2025-07-23T14:29:22.289724",
     "status": "completed"
    },
    "tags": []
   },
   "source": [
    "By Group"
   ]
  },
  {
   "cell_type": "code",
   "execution_count": 57,
   "id": "ec325bce",
   "metadata": {
    "execution": {
     "iopub.execute_input": "2025-07-23T14:29:22.357244Z",
     "iopub.status.busy": "2025-07-23T14:29:22.356296Z",
     "iopub.status.idle": "2025-07-23T14:29:22.374087Z",
     "shell.execute_reply": "2025-07-23T14:29:22.372894Z"
    },
    "papermill": {
     "duration": 0.04301,
     "end_time": "2025-07-23T14:29:22.376082",
     "exception": false,
     "start_time": "2025-07-23T14:29:22.333072",
     "status": "completed"
    },
    "tags": []
   },
   "outputs": [
    {
     "data": {
      "text/html": [
       "<div>\n",
       "<style scoped>\n",
       "    .dataframe tbody tr th:only-of-type {\n",
       "        vertical-align: middle;\n",
       "    }\n",
       "\n",
       "    .dataframe tbody tr th {\n",
       "        vertical-align: top;\n",
       "    }\n",
       "\n",
       "    .dataframe thead th {\n",
       "        text-align: right;\n",
       "    }\n",
       "</style>\n",
       "<table border=\"1\" class=\"dataframe\">\n",
       "  <thead>\n",
       "    <tr style=\"text-align: right;\">\n",
       "      <th></th>\n",
       "      <th>accuracy</th>\n",
       "      <th>balanced accuracy</th>\n",
       "      <th>f1</th>\n",
       "      <th>precision</th>\n",
       "      <th>false positive rate</th>\n",
       "      <th>false negative rate</th>\n",
       "      <th>selection rate</th>\n",
       "      <th>count</th>\n",
       "    </tr>\n",
       "    <tr>\n",
       "      <th>majmin</th>\n",
       "      <th></th>\n",
       "      <th></th>\n",
       "      <th></th>\n",
       "      <th></th>\n",
       "      <th></th>\n",
       "      <th></th>\n",
       "      <th></th>\n",
       "      <th></th>\n",
       "    </tr>\n",
       "  </thead>\n",
       "  <tbody>\n",
       "    <tr>\n",
       "      <th>majority</th>\n",
       "      <td>0.188290</td>\n",
       "      <td>0.528826</td>\n",
       "      <td>0.244069</td>\n",
       "      <td>0.139159</td>\n",
       "      <td>0.934033</td>\n",
       "      <td>0.008315</td>\n",
       "      <td>0.941651</td>\n",
       "      <td>69170.0</td>\n",
       "    </tr>\n",
       "    <tr>\n",
       "      <th>minority</th>\n",
       "      <td>0.243379</td>\n",
       "      <td>0.538419</td>\n",
       "      <td>0.219320</td>\n",
       "      <td>0.124465</td>\n",
       "      <td>0.845036</td>\n",
       "      <td>0.078125</td>\n",
       "      <td>0.853895</td>\n",
       "      <td>20540.0</td>\n",
       "    </tr>\n",
       "  </tbody>\n",
       "</table>\n",
       "</div>"
      ],
      "text/plain": [
       "          accuracy  balanced accuracy        f1  precision  \\\n",
       "majmin                                                       \n",
       "majority  0.188290           0.528826  0.244069   0.139159   \n",
       "minority  0.243379           0.538419  0.219320   0.124465   \n",
       "\n",
       "          false positive rate  false negative rate  selection rate    count  \n",
       "majmin                                                                       \n",
       "majority             0.934033             0.008315        0.941651  69170.0  \n",
       "minority             0.845036             0.078125        0.853895  20540.0  "
      ]
     },
     "execution_count": 57,
     "metadata": {},
     "output_type": "execute_result"
    }
   ],
   "source": [
    "metric_frame.by_group"
   ]
  },
  {
   "cell_type": "code",
   "execution_count": 58,
   "id": "a9ddbe63",
   "metadata": {
    "execution": {
     "iopub.execute_input": "2025-07-23T14:29:22.429660Z",
     "iopub.status.busy": "2025-07-23T14:29:22.428854Z",
     "iopub.status.idle": "2025-07-23T14:29:25.107096Z",
     "shell.execute_reply": "2025-07-23T14:29:25.106062Z"
    },
    "papermill": {
     "duration": 2.706202,
     "end_time": "2025-07-23T14:29:25.108779",
     "exception": false,
     "start_time": "2025-07-23T14:29:22.402577",
     "status": "completed"
    },
    "tags": []
   },
   "outputs": [
    {
     "data": {
      "text/plain": [
       "array([[<Axes: title={'center': 'accuracy'}, xlabel='majmin'>,\n",
       "        <Axes: title={'center': 'balanced accuracy'}, xlabel='majmin'>,\n",
       "        <Axes: title={'center': 'f1'}, xlabel='majmin'>],\n",
       "       [<Axes: title={'center': 'precision'}, xlabel='majmin'>,\n",
       "        <Axes: title={'center': 'false positive rate'}, xlabel='majmin'>,\n",
       "        <Axes: title={'center': 'false negative rate'}, xlabel='majmin'>],\n",
       "       [<Axes: title={'center': 'selection rate'}, xlabel='majmin'>,\n",
       "        <Axes: title={'center': 'count'}, xlabel='majmin'>,\n",
       "        <Axes: xlabel='majmin'>]], dtype=object)"
      ]
     },
     "execution_count": 58,
     "metadata": {},
     "output_type": "execute_result"
    },
    {
     "data": {
      "image/png": "[encoded data removed]",
      "text/plain": [
       "<Figure size 1200x800 with 9 Axes>"
      ]
     },
     "metadata": {},
     "output_type": "display_data"
    }
   ],
   "source": [
    "# In a graphic\n",
    "metric_frame.by_group.plot.bar(\n",
    "    subplots=True,\n",
    "    layout=[3, 3],\n",
    "    legend=False,\n",
    "    figsize=[12, 8],\n",
    "    title=\"Show all metrics\",\n",
    ")"
   ]
  },
  {
   "cell_type": "markdown",
   "id": "f57a0bac",
   "metadata": {
    "papermill": {
     "duration": 0.022838,
     "end_time": "2025-07-23T14:29:25.155478",
     "exception": false,
     "start_time": "2025-07-23T14:29:25.132640",
     "status": "completed"
    },
    "tags": []
   },
   "source": [
    "# Final Output"
   ]
  },
  {
   "cell_type": "code",
   "execution_count": 59,
   "id": "96d280a3",
   "metadata": {
    "execution": {
     "iopub.execute_input": "2025-07-23T14:29:25.203777Z",
     "iopub.status.busy": "2025-07-23T14:29:25.203054Z",
     "iopub.status.idle": "2025-07-23T14:29:25.210178Z",
     "shell.execute_reply": "2025-07-23T14:29:25.209263Z"
    },
    "papermill": {
     "duration": 0.032648,
     "end_time": "2025-07-23T14:29:25.211465",
     "exception": false,
     "start_time": "2025-07-23T14:29:25.178817",
     "status": "completed"
    },
    "tags": []
   },
   "outputs": [
    {
     "data": {
      "text/plain": [
       "4"
      ]
     },
     "execution_count": 59,
     "metadata": {},
     "output_type": "execute_result"
    }
   ],
   "source": [
    "sub_universes = universe_analysis.generate_sub_universes()\n",
    "len(sub_universes)"
   ]
  },
  {
   "cell_type": "code",
   "execution_count": 60,
   "id": "92adf7ba",
   "metadata": {
    "execution": {
     "iopub.execute_input": "2025-07-23T14:29:25.239914Z",
     "iopub.status.busy": "2025-07-23T14:29:25.239582Z",
     "iopub.status.idle": "2025-07-23T14:29:25.251744Z",
     "shell.execute_reply": "2025-07-23T14:29:25.250683Z"
    },
    "papermill": {
     "duration": 0.028372,
     "end_time": "2025-07-23T14:29:25.253560",
     "exception": false,
     "start_time": "2025-07-23T14:29:25.225188",
     "status": "completed"
    },
    "tags": []
   },
   "outputs": [],
   "source": [
    "def filter_sub_universe_data(sub_universe, org_test):\n",
    "    # Keep all rows — no filtering\n",
    "    keep_rows_mask = np.ones(org_test.shape[0], dtype=bool)\n",
    "\n",
    "    print(f\"[INFO] Keeping all rows: {keep_rows_mask.sum()} rows retained.\")\n",
    "    return keep_rows_mask"
   ]
  },
  {
   "cell_type": "code",
   "execution_count": 61,
   "id": "4a759155",
   "metadata": {
    "execution": {
     "iopub.execute_input": "2025-07-23T14:29:25.287862Z",
     "iopub.status.busy": "2025-07-23T14:29:25.287530Z",
     "iopub.status.idle": "2025-07-23T14:29:38.741682Z",
     "shell.execute_reply": "2025-07-23T14:29:38.740494Z"
    },
    "papermill": {
     "duration": 13.470594,
     "end_time": "2025-07-23T14:29:38.743628",
     "exception": false,
     "start_time": "2025-07-23T14:29:25.273034",
     "status": "completed"
    },
    "tags": []
   },
   "outputs": [
    {
     "name": "stdout",
     "output_type": "stream",
     "text": [
      "Stopping execution_time clock.\n",
      "[INFO] Keeping all rows: 89710 rows retained.\n"
     ]
    },
    {
     "name": "stdout",
     "output_type": "stream",
     "text": [
      "[INFO] Keeping all rows: 89710 rows retained.\n"
     ]
    },
    {
     "name": "stdout",
     "output_type": "stream",
     "text": [
      "[INFO] Keeping all rows: 89710 rows retained.\n"
     ]
    },
    {
     "name": "stdout",
     "output_type": "stream",
     "text": [
      "[INFO] Keeping all rows: 89710 rows retained.\n"
     ]
    },
    {
     "data": {
      "text/html": [
       "<div>\n",
       "<style scoped>\n",
       "    .dataframe tbody tr th:only-of-type {\n",
       "        vertical-align: middle;\n",
       "    }\n",
       "\n",
       "    .dataframe tbody tr th {\n",
       "        vertical-align: top;\n",
       "    }\n",
       "\n",
       "    .dataframe thead th {\n",
       "        text-align: right;\n",
       "    }\n",
       "</style>\n",
       "<table border=\"1\" class=\"dataframe\">\n",
       "  <thead>\n",
       "    <tr style=\"text-align: right;\">\n",
       "      <th></th>\n",
       "      <th>run_no</th>\n",
       "      <th>universe_id</th>\n",
       "      <th>universe_settings</th>\n",
       "      <th>execution_time</th>\n",
       "      <th>test_size_n</th>\n",
       "      <th>test_size_frac</th>\n",
       "      <th>fair_main_equalized_odds_difference</th>\n",
       "      <th>fair_main_equalized_odds_ratio</th>\n",
       "      <th>fair_main_demographic_parity_difference</th>\n",
       "      <th>fair_main_demographic_parity_ratio</th>\n",
       "      <th>...</th>\n",
       "      <th>perf_grp_precision_0</th>\n",
       "      <th>perf_grp_precision_1</th>\n",
       "      <th>perf_grp_false positive rate_0</th>\n",
       "      <th>perf_grp_false positive rate_1</th>\n",
       "      <th>perf_grp_false negative rate_0</th>\n",
       "      <th>perf_grp_false negative rate_1</th>\n",
       "      <th>perf_grp_selection rate_0</th>\n",
       "      <th>perf_grp_selection rate_1</th>\n",
       "      <th>perf_grp_count_0</th>\n",
       "      <th>perf_grp_count_1</th>\n",
       "    </tr>\n",
       "  </thead>\n",
       "  <tbody>\n",
       "    <tr>\n",
       "      <th>0</th>\n",
       "      <td>9</td>\n",
       "      <td>178e4745600648bf3470ed27ba046cb4</td>\n",
       "      <td>{\"cutoff\": \"quantile_0.1\", \"eval_fairness_grou...</td>\n",
       "      <td>61.939167</td>\n",
       "      <td>89710</td>\n",
       "      <td>1.0</td>\n",
       "      <td>0.088997</td>\n",
       "      <td>0.904718</td>\n",
       "      <td>0.087756</td>\n",
       "      <td>0.906806</td>\n",
       "      <td>...</td>\n",
       "      <td>NaN</td>\n",
       "      <td>NaN</td>\n",
       "      <td>NaN</td>\n",
       "      <td>NaN</td>\n",
       "      <td>NaN</td>\n",
       "      <td>NaN</td>\n",
       "      <td>NaN</td>\n",
       "      <td>NaN</td>\n",
       "      <td>NaN</td>\n",
       "      <td>NaN</td>\n",
       "    </tr>\n",
       "    <tr>\n",
       "      <th>0</th>\n",
       "      <td>9</td>\n",
       "      <td>178e4745600648bf3470ed27ba046cb4</td>\n",
       "      <td>{\"cutoff\": \"quantile_0.1\", \"eval_fairness_grou...</td>\n",
       "      <td>61.939167</td>\n",
       "      <td>89710</td>\n",
       "      <td>1.0</td>\n",
       "      <td>0.088997</td>\n",
       "      <td>0.904718</td>\n",
       "      <td>0.087756</td>\n",
       "      <td>0.906806</td>\n",
       "      <td>...</td>\n",
       "      <td>0.124465</td>\n",
       "      <td>0.139159</td>\n",
       "      <td>0.845036</td>\n",
       "      <td>0.934033</td>\n",
       "      <td>0.078125</td>\n",
       "      <td>0.008315</td>\n",
       "      <td>0.853895</td>\n",
       "      <td>0.941651</td>\n",
       "      <td>20540.0</td>\n",
       "      <td>69170.0</td>\n",
       "    </tr>\n",
       "    <tr>\n",
       "      <th>0</th>\n",
       "      <td>9</td>\n",
       "      <td>178e4745600648bf3470ed27ba046cb4</td>\n",
       "      <td>{\"cutoff\": \"quantile_0.25\", \"eval_fairness_gro...</td>\n",
       "      <td>61.939167</td>\n",
       "      <td>89710</td>\n",
       "      <td>1.0</td>\n",
       "      <td>0.110353</td>\n",
       "      <td>0.880916</td>\n",
       "      <td>0.097645</td>\n",
       "      <td>0.878067</td>\n",
       "      <td>...</td>\n",
       "      <td>NaN</td>\n",
       "      <td>NaN</td>\n",
       "      <td>NaN</td>\n",
       "      <td>NaN</td>\n",
       "      <td>NaN</td>\n",
       "      <td>NaN</td>\n",
       "      <td>NaN</td>\n",
       "      <td>NaN</td>\n",
       "      <td>NaN</td>\n",
       "      <td>NaN</td>\n",
       "    </tr>\n",
       "    <tr>\n",
       "      <th>0</th>\n",
       "      <td>9</td>\n",
       "      <td>178e4745600648bf3470ed27ba046cb4</td>\n",
       "      <td>{\"cutoff\": \"quantile_0.25\", \"eval_fairness_gro...</td>\n",
       "      <td>61.939167</td>\n",
       "      <td>89710</td>\n",
       "      <td>1.0</td>\n",
       "      <td>0.110353</td>\n",
       "      <td>0.880916</td>\n",
       "      <td>0.097645</td>\n",
       "      <td>0.878067</td>\n",
       "      <td>...</td>\n",
       "      <td>0.140068</td>\n",
       "      <td>0.159175</td>\n",
       "      <td>0.683469</td>\n",
       "      <td>0.775862</td>\n",
       "      <td>0.145693</td>\n",
       "      <td>0.035339</td>\n",
       "      <td>0.703165</td>\n",
       "      <td>0.800810</td>\n",
       "      <td>20540.0</td>\n",
       "      <td>69170.0</td>\n",
       "    </tr>\n",
       "  </tbody>\n",
       "</table>\n",
       "<p>4 rows × 50 columns</p>\n",
       "</div>"
      ],
      "text/plain": [
       "  run_no                       universe_id  \\\n",
       "0      9  178e4745600648bf3470ed27ba046cb4   \n",
       "0      9  178e4745600648bf3470ed27ba046cb4   \n",
       "0      9  178e4745600648bf3470ed27ba046cb4   \n",
       "0      9  178e4745600648bf3470ed27ba046cb4   \n",
       "\n",
       "                                   universe_settings  execution_time  \\\n",
       "0  {\"cutoff\": \"quantile_0.1\", \"eval_fairness_grou...       61.939167   \n",
       "0  {\"cutoff\": \"quantile_0.1\", \"eval_fairness_grou...       61.939167   \n",
       "0  {\"cutoff\": \"quantile_0.25\", \"eval_fairness_gro...       61.939167   \n",
       "0  {\"cutoff\": \"quantile_0.25\", \"eval_fairness_gro...       61.939167   \n",
       "\n",
       "   test_size_n  test_size_frac  fair_main_equalized_odds_difference  \\\n",
       "0        89710             1.0                             0.088997   \n",
       "0        89710             1.0                             0.088997   \n",
       "0        89710             1.0                             0.110353   \n",
       "0        89710             1.0                             0.110353   \n",
       "\n",
       "   fair_main_equalized_odds_ratio  fair_main_demographic_parity_difference  \\\n",
       "0                        0.904718                                 0.087756   \n",
       "0                        0.904718                                 0.087756   \n",
       "0                        0.880916                                 0.097645   \n",
       "0                        0.880916                                 0.097645   \n",
       "\n",
       "   fair_main_demographic_parity_ratio  ...  perf_grp_precision_0  \\\n",
       "0                            0.906806  ...                   NaN   \n",
       "0                            0.906806  ...              0.124465   \n",
       "0                            0.878067  ...                   NaN   \n",
       "0                            0.878067  ...              0.140068   \n",
       "\n",
       "   perf_grp_precision_1  perf_grp_false positive rate_0  \\\n",
       "0                   NaN                             NaN   \n",
       "0              0.139159                        0.845036   \n",
       "0                   NaN                             NaN   \n",
       "0              0.159175                        0.683469   \n",
       "\n",
       "   perf_grp_false positive rate_1  perf_grp_false negative rate_0  \\\n",
       "0                             NaN                             NaN   \n",
       "0                        0.934033                        0.078125   \n",
       "0                             NaN                             NaN   \n",
       "0                        0.775862                        0.145693   \n",
       "\n",
       "   perf_grp_false negative rate_1  perf_grp_selection rate_0  \\\n",
       "0                             NaN                        NaN   \n",
       "0                        0.008315                   0.853895   \n",
       "0                             NaN                        NaN   \n",
       "0                        0.035339                   0.703165   \n",
       "\n",
       "   perf_grp_selection rate_1  perf_grp_count_0  perf_grp_count_1  \n",
       "0                        NaN               NaN               NaN  \n",
       "0                   0.941651           20540.0           69170.0  \n",
       "0                        NaN               NaN               NaN  \n",
       "0                   0.800810           20540.0           69170.0  \n",
       "\n",
       "[4 rows x 50 columns]"
      ]
     },
     "execution_count": 61,
     "metadata": {},
     "output_type": "execute_result"
    }
   ],
   "source": [
    "final_output = universe_analysis.generate_final_output(\n",
    "    y_pred_prob=probs_test,\n",
    "    y_test=y_true,\n",
    "    org_test=org_test,\n",
    "    filter_data=filter_sub_universe_data,\n",
    "    cp_metrics_df=cp_metrics_df,\n",
    "    save=True,\n",
    ")\n",
    "final_output"
   ]
  },
  {
   "cell_type": "code",
   "execution_count": null,
   "id": "721ff514-cb11-46f8-b6fc-50392f74b5cb",
   "metadata": {
    "papermill": {
     "duration": 0.04605,
     "end_time": "2025-07-23T14:29:38.849917",
     "exception": false,
     "start_time": "2025-07-23T14:29:38.803867",
     "status": "completed"
    },
    "tags": []
   },
   "outputs": [],
   "source": []
  }
 ],
 "metadata": {
  "celltoolbar": "Tags",
  "kernelspec": {
   "display_name": "Python (CMA Fairness)",
   "language": "python",
   "name": "cma_fair_env"
  },
  "language_info": {
   "codemirror_mode": {
    "name": "ipython",
    "version": 3
   },
   "file_extension": ".py",
   "mimetype": "text/x-python",
   "name": "python",
   "nbconvert_exporter": "python",
   "pygments_lexer": "ipython3",
   "version": "3.10.12"
  },
  "papermill": {
   "default_parameters": {},
   "duration": 83.733526,
   "end_time": "2025-07-23T14:29:40.110690",
   "environment_variables": {},
   "exception": null,
   "input_path": "universe_analysis.ipynb",
   "output_path": "output/runs/9/notebooks/m_9-178e4745600648bf3470ed27ba046cb4.ipynb",
   "parameters": {
    "output_dir": "output",
    "run_no": "9",
    "seed": "2023",
    "universe": "{\"cutoff\": [\"quantile_0.1\", \"quantile_0.25\"], \"eval_fairness_grouping\": [\"majority-minority\", \"nationality-all\"], \"exclude_features\": \"nationality-sex\", \"exclude_subgroups\": \"keep-all\", \"model\": \"rf\", \"scale\": \"scale\"}",
    "universe_id": "178e4745600648bf3470ed27ba046cb4"
   },
   "start_time": "2025-07-23T14:28:16.377164",
   "version": "2.6.0"
  }
 },
 "nbformat": 4,
 "nbformat_minor": 5
}