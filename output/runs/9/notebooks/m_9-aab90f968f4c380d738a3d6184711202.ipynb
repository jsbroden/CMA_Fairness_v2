{
 "cells": [
  {
   "cell_type": "code",
   "execution_count": 1,
   "id": "f159f837-637b-42ba-96b5-ec9a68c44524",
   "metadata": {
    "execution": {
     "iopub.execute_input": "2025-07-23T14:50:00.129346Z",
     "iopub.status.busy": "2025-07-23T14:50:00.128570Z",
     "iopub.status.idle": "2025-07-23T14:50:00.143242Z",
     "shell.execute_reply": "2025-07-23T14:50:00.142161Z"
    },
    "papermill": {
     "duration": 0.033819,
     "end_time": "2025-07-23T14:50:00.144990",
     "exception": false,
     "start_time": "2025-07-23T14:50:00.111171",
     "status": "completed"
    },
    "tags": []
   },
   "outputs": [
    {
     "name": "stdout",
     "output_type": "stream",
     "text": [
      "/dss/dsshome1/0C/ra93lal2/cma/CMA_Fairness_v2\n"
     ]
    },
    {
     "name": "stderr",
     "output_type": "stream",
     "text": [
      "/dss/dsshome1/0C/ra93lal2/.local/share/virtualenvs/CMA_Fairness_v2-3j10GkSs/lib/python3.10/site-packages/IPython/core/magics/osm.py:393: UserWarning: This is now an optional IPython functionality, using bookmarks requires you to install the `pickleshare` library.\n",
      "  bkms = self.shell.db.get('bookmarks', {})\n",
      "/dss/dsshome1/0C/ra93lal2/.local/share/virtualenvs/CMA_Fairness_v2-3j10GkSs/lib/python3.10/site-packages/IPython/core/magics/osm.py:417: UserWarning: This is now an optional IPython functionality, setting dhist requires you to install the `pickleshare` library.\n",
      "  self.shell.db['dhist'] = compress_dhist(dhist)[-100:]\n"
     ]
    }
   ],
   "source": [
    "%cd ~/cma/CMA_Fairness_v2"
   ]
  },
  {
   "cell_type": "markdown",
   "id": "de2603b9",
   "metadata": {
    "papermill": {
     "duration": 0.015294,
     "end_time": "2025-07-23T14:50:00.176427",
     "exception": false,
     "start_time": "2025-07-23T14:50:00.161133",
     "status": "completed"
    },
    "tags": []
   },
   "source": [
    "The following cell holds the definition of our parameters, these values can be overriden by rendering the with e.g. the following command:\n",
    "\n",
    "papermill -p alpha 0.2 -p ratio 0.3 universe_analysis.ipynb output/test_run.ipynb"
   ]
  },
  {
   "cell_type": "code",
   "execution_count": 2,
   "id": "a80968a0-40bb-4fa9-85ef-2d5eefb01975",
   "metadata": {
    "execution": {
     "iopub.execute_input": "2025-07-23T14:50:00.209024Z",
     "iopub.status.busy": "2025-07-23T14:50:00.208299Z",
     "iopub.status.idle": "2025-07-23T14:50:00.214317Z",
     "shell.execute_reply": "2025-07-23T14:50:00.213417Z"
    },
    "papermill": {
     "duration": 0.02425,
     "end_time": "2025-07-23T14:50:00.216013",
     "exception": false,
     "start_time": "2025-07-23T14:50:00.191763",
     "status": "completed"
    },
    "tags": []
   },
   "outputs": [
    {
     "name": "stdout",
     "output_type": "stream",
     "text": [
      "Current working directory: /dss/dsshome1/0C/ra93lal2/cma/CMA_Fairness_v2\n"
     ]
    }
   ],
   "source": [
    "import os\n",
    "print(\"Current working directory:\", os.getcwd())"
   ]
  },
  {
   "cell_type": "code",
   "execution_count": 3,
   "id": "2dce4c03",
   "metadata": {
    "execution": {
     "iopub.execute_input": "2025-07-23T14:50:00.249988Z",
     "iopub.status.busy": "2025-07-23T14:50:00.249334Z",
     "iopub.status.idle": "2025-07-23T14:50:00.255476Z",
     "shell.execute_reply": "2025-07-23T14:50:00.254417Z"
    },
    "papermill": {
     "duration": 0.024884,
     "end_time": "2025-07-23T14:50:00.257336",
     "exception": false,
     "start_time": "2025-07-23T14:50:00.232452",
     "status": "completed"
    },
    "tags": [
     "parameters"
    ]
   },
   "outputs": [],
   "source": [
    "run_no = 0\n",
    "universe_id = \"test\"\n",
    "universe = {\n",
    "    \"scale\": \"scale\", # \"scale\", \"do-not-scale\",\n",
    "    \"model\": \"elasticnet\", # \"logreg\", \"penalized_logreg\", \"rf\", \"gbm\", \"elasticnet\"\n",
    "    \"cutoff\": [\"quantile_0.15\", \"quantile_0.30\"],\n",
    "    \"exclude_features\": \"age\", # \"none\", \"nationality\", \"sex\", \"nationality-sex\", \"age\"\n",
    "    \"exclude_subgroups\": \"keep-all\", # \"keep-all\", \"drop-non-german\"\n",
    "    #\"training_sample\": \"restricted\", # \"restricted\", \"full\"\n",
    "    \"eval_fairness_grouping\": [\"majority-minority\", \"nationality-all\"]\n",
    "}\n",
    "\n",
    "output_dir=\"./output\"\n",
    "seed=0"
   ]
  },
  {
   "cell_type": "code",
   "execution_count": 4,
   "id": "2a7f24df",
   "metadata": {
    "execution": {
     "iopub.execute_input": "2025-07-23T14:50:00.291054Z",
     "iopub.status.busy": "2025-07-23T14:50:00.290406Z",
     "iopub.status.idle": "2025-07-23T14:50:00.296067Z",
     "shell.execute_reply": "2025-07-23T14:50:00.295156Z"
    },
    "papermill": {
     "duration": 0.024131,
     "end_time": "2025-07-23T14:50:00.297770",
     "exception": false,
     "start_time": "2025-07-23T14:50:00.273639",
     "status": "completed"
    },
    "tags": [
     "injected-parameters"
    ]
   },
   "outputs": [],
   "source": [
    "# Parameters\n",
    "universe_id = \"aab90f968f4c380d738a3d6184711202\"\n",
    "run_no = \"9\"\n",
    "universe = \"{\\\"cutoff\\\": [\\\"quantile_0.1\\\", \\\"quantile_0.25\\\"], \\\"eval_fairness_grouping\\\": [\\\"majority-minority\\\", \\\"nationality-all\\\"], \\\"exclude_features\\\": \\\"age\\\", \\\"exclude_subgroups\\\": \\\"keep-all\\\", \\\"model\\\": \\\"elasticnet\\\", \\\"scale\\\": \\\"do-not-scale\\\"}\"\n",
    "output_dir = \"output\"\n",
    "seed = \"2023\"\n"
   ]
  },
  {
   "cell_type": "code",
   "execution_count": 5,
   "id": "1650acaf",
   "metadata": {
    "execution": {
     "iopub.execute_input": "2025-07-23T14:50:00.331557Z",
     "iopub.status.busy": "2025-07-23T14:50:00.330918Z",
     "iopub.status.idle": "2025-07-23T14:50:00.336387Z",
     "shell.execute_reply": "2025-07-23T14:50:00.335418Z"
    },
    "papermill": {
     "duration": 0.02415,
     "end_time": "2025-07-23T14:50:00.338167",
     "exception": false,
     "start_time": "2025-07-23T14:50:00.314017",
     "status": "completed"
    },
    "tags": []
   },
   "outputs": [],
   "source": [
    "import json\n",
    "# Parse universe into dict if it is passed as a string\n",
    "if isinstance(universe, str):\n",
    "    universe = json.loads(universe)"
   ]
  },
  {
   "cell_type": "code",
   "execution_count": 6,
   "id": "16620c48",
   "metadata": {
    "execution": {
     "iopub.execute_input": "2025-07-23T14:50:00.372324Z",
     "iopub.status.busy": "2025-07-23T14:50:00.371687Z",
     "iopub.status.idle": "2025-07-23T14:50:00.418000Z",
     "shell.execute_reply": "2025-07-23T14:50:00.417113Z"
    },
    "papermill": {
     "duration": 0.065207,
     "end_time": "2025-07-23T14:50:00.419925",
     "exception": false,
     "start_time": "2025-07-23T14:50:00.354718",
     "status": "completed"
    },
    "tags": []
   },
   "outputs": [],
   "source": [
    "# Auto-reload the custom package\n",
    "%load_ext autoreload\n",
    "%autoreload 1\n",
    "%aimport fairness_multiverse"
   ]
  },
  {
   "cell_type": "code",
   "execution_count": 7,
   "id": "01c5c9f3",
   "metadata": {
    "execution": {
     "iopub.execute_input": "2025-07-23T14:50:00.454738Z",
     "iopub.status.busy": "2025-07-23T14:50:00.453865Z",
     "iopub.status.idle": "2025-07-23T14:50:02.494696Z",
     "shell.execute_reply": "2025-07-23T14:50:02.493707Z"
    },
    "papermill": {
     "duration": 2.06022,
     "end_time": "2025-07-23T14:50:02.496752",
     "exception": false,
     "start_time": "2025-07-23T14:50:00.436532",
     "status": "completed"
    },
    "tags": []
   },
   "outputs": [],
   "source": [
    "from fairness_multiverse.universe import UniverseAnalysis\n",
    "\n",
    "universe_analysis = UniverseAnalysis(\n",
    "    run_no = run_no,\n",
    "    universe_id = universe_id,\n",
    "    universe = universe,\n",
    "    output_dir=output_dir,\n",
    ")"
   ]
  },
  {
   "cell_type": "code",
   "execution_count": 8,
   "id": "106241f5",
   "metadata": {
    "execution": {
     "iopub.execute_input": "2025-07-23T14:50:02.533919Z",
     "iopub.status.busy": "2025-07-23T14:50:02.533209Z",
     "iopub.status.idle": "2025-07-23T14:50:02.539934Z",
     "shell.execute_reply": "2025-07-23T14:50:02.538887Z"
    },
    "papermill": {
     "duration": 0.02613,
     "end_time": "2025-07-23T14:50:02.541806",
     "exception": false,
     "start_time": "2025-07-23T14:50:02.515676",
     "status": "completed"
    },
    "tags": []
   },
   "outputs": [
    {
     "name": "stdout",
     "output_type": "stream",
     "text": [
      "Using Seed: 2023\n"
     ]
    }
   ],
   "source": [
    "import numpy as np\n",
    "parsed_seed = int(seed)\n",
    "np.random.seed(parsed_seed)\n",
    "print(f\"Using Seed: {parsed_seed}\")"
   ]
  },
  {
   "cell_type": "markdown",
   "id": "e0ebdc57",
   "metadata": {
    "papermill": {
     "duration": 0.016576,
     "end_time": "2025-07-23T14:50:02.575576",
     "exception": false,
     "start_time": "2025-07-23T14:50:02.559000",
     "status": "completed"
    },
    "tags": []
   },
   "source": [
    "# Loading Data"
   ]
  },
  {
   "cell_type": "markdown",
   "id": "681925a3",
   "metadata": {
    "papermill": {
     "duration": 0.016206,
     "end_time": "2025-07-23T14:50:02.608234",
     "exception": false,
     "start_time": "2025-07-23T14:50:02.592028",
     "status": "completed"
    },
    "tags": []
   },
   "source": [
    "Load siab_train, siab_test, siab_calib and/or \n",
    "load siab_train_features, siab_train_labels"
   ]
  },
  {
   "cell_type": "code",
   "execution_count": 9,
   "id": "f0496b8a",
   "metadata": {
    "execution": {
     "iopub.execute_input": "2025-07-23T14:50:02.642571Z",
     "iopub.status.busy": "2025-07-23T14:50:02.641870Z",
     "iopub.status.idle": "2025-07-23T14:50:02.647869Z",
     "shell.execute_reply": "2025-07-23T14:50:02.646902Z"
    },
    "papermill": {
     "duration": 0.025175,
     "end_time": "2025-07-23T14:50:02.649602",
     "exception": false,
     "start_time": "2025-07-23T14:50:02.624427",
     "status": "completed"
    },
    "tags": []
   },
   "outputs": [],
   "source": [
    "# Do I need to load siab? Delete this cell?\n",
    "\n",
    "#from pathlib import Path\n",
    "#import pandas as pd\n",
    "#\n",
    "## File paths\n",
    "#raw_file = Path(\"data/raw/siab.csv\")\n",
    "#cache_file = Path(\"data/siab_cached.csv.gz\")\n",
    "#\n",
    "## Ensure cache directory exists\n",
    "#cache_file.parent.mkdir(parents=True, exist_ok=True)\n",
    "#\n",
    "## Load with simple caching\n",
    "#if cache_file.exists():\n",
    "#    print(f\"Loading SIAB data from cache: {cache_file}\")\n",
    "#    siab = pd.read_csv(cache_file, compression='gzip')\n",
    "#else:\n",
    "#    print(f\"Cache not found. Reading raw SIAB data: {raw_file}\")\n",
    "#    siab = pd.read_csv(raw_file)\n",
    "#    siab.to_csv(cache_file, index=False, compression='gzip')\n",
    "#    print(f\"Cached SIAB data to: {cache_file}\")\n",
    "#\n",
    "## Now use `siab` DataFrame as needed\n",
    "#print(siab.shape)\n"
   ]
  },
  {
   "cell_type": "code",
   "execution_count": 10,
   "id": "a0edb063",
   "metadata": {
    "execution": {
     "iopub.execute_input": "2025-07-23T14:50:02.684910Z",
     "iopub.status.busy": "2025-07-23T14:50:02.684162Z",
     "iopub.status.idle": "2025-07-23T14:50:03.965919Z",
     "shell.execute_reply": "2025-07-23T14:50:03.964969Z"
    },
    "papermill": {
     "duration": 1.301383,
     "end_time": "2025-07-23T14:50:03.967794",
     "exception": false,
     "start_time": "2025-07-23T14:50:02.666411",
     "status": "completed"
    },
    "tags": []
   },
   "outputs": [],
   "source": [
    "import pandas as pd\n",
    "\n",
    "X_train = pd.read_csv(\"./data/X_train.csv\")\n",
    "y_train = pd.read_csv(\"./data/y_train.csv\")"
   ]
  },
  {
   "cell_type": "code",
   "execution_count": 11,
   "id": "63d08085",
   "metadata": {
    "execution": {
     "iopub.execute_input": "2025-07-23T14:50:04.003096Z",
     "iopub.status.busy": "2025-07-23T14:50:04.002395Z",
     "iopub.status.idle": "2025-07-23T14:50:05.481676Z",
     "shell.execute_reply": "2025-07-23T14:50:05.480729Z"
    },
    "papermill": {
     "duration": 1.498756,
     "end_time": "2025-07-23T14:50:05.483638",
     "exception": false,
     "start_time": "2025-07-23T14:50:03.984882",
     "status": "completed"
    },
    "tags": []
   },
   "outputs": [],
   "source": [
    "X_test = pd.read_csv(\"./data/X_test.csv\")\n",
    "y_true = pd.read_csv(\"./data/y_test.csv\")"
   ]
  },
  {
   "cell_type": "code",
   "execution_count": 12,
   "id": "98a8d0fa-1d3d-4ed8-bb2c-281470e24add",
   "metadata": {
    "execution": {
     "iopub.execute_input": "2025-07-23T14:50:05.519547Z",
     "iopub.status.busy": "2025-07-23T14:50:05.518851Z",
     "iopub.status.idle": "2025-07-23T14:50:06.942364Z",
     "shell.execute_reply": "2025-07-23T14:50:06.941342Z"
    },
    "papermill": {
     "duration": 1.443475,
     "end_time": "2025-07-23T14:50:06.944382",
     "exception": false,
     "start_time": "2025-07-23T14:50:05.500907",
     "status": "completed"
    },
    "tags": []
   },
   "outputs": [],
   "source": [
    "# Calibration data for conformal\n",
    "X_calib = pd.read_csv(\"./data/X_calib.csv\")\n",
    "y_calib = pd.read_csv(\"./data/y_calib.csv\")"
   ]
  },
  {
   "cell_type": "code",
   "execution_count": 13,
   "id": "e6c733c5",
   "metadata": {
    "execution": {
     "iopub.execute_input": "2025-07-23T14:50:06.980236Z",
     "iopub.status.busy": "2025-07-23T14:50:06.979541Z",
     "iopub.status.idle": "2025-07-23T14:50:07.084229Z",
     "shell.execute_reply": "2025-07-23T14:50:07.083278Z"
    },
    "papermill": {
     "duration": 0.124611,
     "end_time": "2025-07-23T14:50:07.086269",
     "exception": false,
     "start_time": "2025-07-23T14:50:06.961658",
     "status": "completed"
    },
    "tags": []
   },
   "outputs": [],
   "source": [
    "# Auxiliary data needed downstream in the pipeline\n",
    "\n",
    "org_train = X_train.copy()\n",
    "org_test = X_test.copy()\n",
    "org_calib = X_calib.copy()"
   ]
  },
  {
   "cell_type": "markdown",
   "id": "0a4a1b33",
   "metadata": {
    "papermill": {
     "duration": 0.016638,
     "end_time": "2025-07-23T14:50:07.120293",
     "exception": false,
     "start_time": "2025-07-23T14:50:07.103655",
     "status": "completed"
    },
    "tags": []
   },
   "source": [
    "# Preprocessing Data"
   ]
  },
  {
   "cell_type": "code",
   "execution_count": 14,
   "id": "ca879031",
   "metadata": {
    "execution": {
     "iopub.execute_input": "2025-07-23T14:50:07.156387Z",
     "iopub.status.busy": "2025-07-23T14:50:07.155694Z",
     "iopub.status.idle": "2025-07-23T14:50:07.162198Z",
     "shell.execute_reply": "2025-07-23T14:50:07.161225Z"
    },
    "papermill": {
     "duration": 0.026926,
     "end_time": "2025-07-23T14:50:07.163920",
     "exception": false,
     "start_time": "2025-07-23T14:50:07.136994",
     "status": "completed"
    },
    "tags": []
   },
   "outputs": [],
   "source": [
    "# EXCLUDE PROTECTED FEATURES\n",
    "# ----------------------\n",
    "# \"exclude_features\": \"none\", # \"nationality\", \"sex\", \"nationality-sex\"\n",
    "\n",
    "excluded_features = universe[\"exclude_features\"].split(\"-\") # split, e.g.: \"nationality-sex\" -> [\"nationality\", \"sex\"]\n",
    "excluded_features_dictionary = {\n",
    "    \"nationality\": [\"maxdeutsch1\", \"maxdeutsch.Missing.\"],\n",
    "    \"sex\": [\"frau1\"],\n",
    "    \"age\": [\"age\"],\n",
    "}\n"
   ]
  },
  {
   "cell_type": "code",
   "execution_count": 15,
   "id": "b745ac60",
   "metadata": {
    "execution": {
     "iopub.execute_input": "2025-07-23T14:50:07.199424Z",
     "iopub.status.busy": "2025-07-23T14:50:07.198731Z",
     "iopub.status.idle": "2025-07-23T14:50:07.205016Z",
     "shell.execute_reply": "2025-07-23T14:50:07.204023Z"
    },
    "papermill": {
     "duration": 0.025532,
     "end_time": "2025-07-23T14:50:07.206672",
     "exception": false,
     "start_time": "2025-07-23T14:50:07.181140",
     "status": "completed"
    },
    "tags": []
   },
   "outputs": [],
   "source": [
    "# Code nice names to column names\n",
    "\n",
    "excluded_features_columns = [\n",
    "    excluded_features_dictionary[f] for f in excluded_features if len(f) > 0 and f != \"none\"\n",
    "]"
   ]
  },
  {
   "cell_type": "code",
   "execution_count": 16,
   "id": "f84f73a2",
   "metadata": {
    "execution": {
     "iopub.execute_input": "2025-07-23T14:50:07.242365Z",
     "iopub.status.busy": "2025-07-23T14:50:07.241487Z",
     "iopub.status.idle": "2025-07-23T14:50:07.248059Z",
     "shell.execute_reply": "2025-07-23T14:50:07.247157Z"
    },
    "papermill": {
     "duration": 0.026195,
     "end_time": "2025-07-23T14:50:07.249832",
     "exception": false,
     "start_time": "2025-07-23T14:50:07.223637",
     "status": "completed"
    },
    "tags": []
   },
   "outputs": [],
   "source": [
    "from utils import flatten_once\n",
    "\n",
    "excluded_features_columns = flatten_once(excluded_features_columns)"
   ]
  },
  {
   "cell_type": "code",
   "execution_count": 17,
   "id": "884dea22",
   "metadata": {
    "execution": {
     "iopub.execute_input": "2025-07-23T14:50:07.285334Z",
     "iopub.status.busy": "2025-07-23T14:50:07.284645Z",
     "iopub.status.idle": "2025-07-23T14:50:07.331906Z",
     "shell.execute_reply": "2025-07-23T14:50:07.330765Z"
    },
    "papermill": {
     "duration": 0.06775,
     "end_time": "2025-07-23T14:50:07.334602",
     "exception": false,
     "start_time": "2025-07-23T14:50:07.266852",
     "status": "completed"
    },
    "tags": []
   },
   "outputs": [
    {
     "name": "stdout",
     "output_type": "stream",
     "text": [
      "Dropping features: ['age']\n"
     ]
    }
   ],
   "source": [
    "if len(excluded_features_columns) > 0:\n",
    "    print(f\"Dropping features: {excluded_features_columns}\")\n",
    "    X_train.drop(excluded_features_columns, axis=1, inplace=True)"
   ]
  },
  {
   "cell_type": "code",
   "execution_count": 18,
   "id": "95ab8b16",
   "metadata": {
    "execution": {
     "iopub.execute_input": "2025-07-23T14:50:07.371039Z",
     "iopub.status.busy": "2025-07-23T14:50:07.370346Z",
     "iopub.status.idle": "2025-07-23T14:50:07.424421Z",
     "shell.execute_reply": "2025-07-23T14:50:07.423365Z"
    },
    "papermill": {
     "duration": 0.073835,
     "end_time": "2025-07-23T14:50:07.426105",
     "exception": false,
     "start_time": "2025-07-23T14:50:07.352270",
     "status": "completed"
    },
    "tags": []
   },
   "outputs": [
    {
     "name": "stdout",
     "output_type": "stream",
     "text": [
      "Dropping features: ['age']\n"
     ]
    }
   ],
   "source": [
    "if len(excluded_features_columns) > 0:\n",
    "    print(f\"Dropping features: {excluded_features_columns}\")\n",
    "    X_test.drop(excluded_features_columns, axis=1, inplace=True)"
   ]
  },
  {
   "cell_type": "code",
   "execution_count": 19,
   "id": "1853aaf5-fb9f-46cb-a2b5-8ea4ae2237e4",
   "metadata": {
    "execution": {
     "iopub.execute_input": "2025-07-23T14:50:07.462645Z",
     "iopub.status.busy": "2025-07-23T14:50:07.461955Z",
     "iopub.status.idle": "2025-07-23T14:50:07.517845Z",
     "shell.execute_reply": "2025-07-23T14:50:07.516727Z"
    },
    "papermill": {
     "duration": 0.075582,
     "end_time": "2025-07-23T14:50:07.519545",
     "exception": false,
     "start_time": "2025-07-23T14:50:07.443963",
     "status": "completed"
    },
    "tags": []
   },
   "outputs": [
    {
     "name": "stdout",
     "output_type": "stream",
     "text": [
      "Dropping features: ['age']\n"
     ]
    }
   ],
   "source": [
    "if len(excluded_features_columns) > 0:\n",
    "    print(f\"Dropping features: {excluded_features_columns}\")\n",
    "    X_calib.drop(excluded_features_columns, axis=1, inplace=True)"
   ]
  },
  {
   "cell_type": "code",
   "execution_count": 20,
   "id": "76c4dc6d",
   "metadata": {
    "execution": {
     "iopub.execute_input": "2025-07-23T14:50:07.557067Z",
     "iopub.status.busy": "2025-07-23T14:50:07.556341Z",
     "iopub.status.idle": "2025-07-23T14:50:07.561962Z",
     "shell.execute_reply": "2025-07-23T14:50:07.560979Z"
    },
    "papermill": {
     "duration": 0.025955,
     "end_time": "2025-07-23T14:50:07.563671",
     "exception": false,
     "start_time": "2025-07-23T14:50:07.537716",
     "status": "completed"
    },
    "tags": []
   },
   "outputs": [],
   "source": [
    "# EXCLUDE CERTAIN SUBGROUPS\n",
    "# ----------------------\n",
    "\n",
    "mode = universe.get(\"exclude_subgroups\", \"keep-all\") \n",
    "# Fetches the exclude_subgroups setting from the universe dict.\n",
    "# Defaults to \"keep-all\" if the key is missing."
   ]
  },
  {
   "cell_type": "code",
   "execution_count": 21,
   "id": "21994072",
   "metadata": {
    "execution": {
     "iopub.execute_input": "2025-07-23T14:50:07.602892Z",
     "iopub.status.busy": "2025-07-23T14:50:07.602240Z",
     "iopub.status.idle": "2025-07-23T14:50:07.609559Z",
     "shell.execute_reply": "2025-07-23T14:50:07.608501Z"
    },
    "papermill": {
     "duration": 0.029524,
     "end_time": "2025-07-23T14:50:07.611201",
     "exception": false,
     "start_time": "2025-07-23T14:50:07.581677",
     "status": "completed"
    },
    "tags": []
   },
   "outputs": [],
   "source": [
    "if mode == \"keep-all\":\n",
    "    keep_mask = pd.Series(True, index=org_train.index)\n",
    "\n",
    "# org_train contains the original feature columns from features_org (in Simson)\n",
    "# features_org contains unprocessed features, for me X_train at beginning ???\n",
    "# For keep-all, creates a boolean Series (keep_mask) of all True, so no rows are removed.\n",
    "\n",
    "elif mode == \"drop-non-german\":\n",
    "    keep_mask = org_train[\"maxdeutsch1\"] == 1 # ??? what about missing values?\n",
    "\n",
    "else:\n",
    "    raise ValueError(f\"Unsupported mode for exclude_subgroups: {mode}\")\n"
   ]
  },
  {
   "cell_type": "code",
   "execution_count": 22,
   "id": "71651440",
   "metadata": {
    "execution": {
     "iopub.execute_input": "2025-07-23T14:50:07.648684Z",
     "iopub.status.busy": "2025-07-23T14:50:07.647862Z",
     "iopub.status.idle": "2025-07-23T14:50:07.657017Z",
     "shell.execute_reply": "2025-07-23T14:50:07.654088Z"
    },
    "papermill": {
     "duration": 0.029557,
     "end_time": "2025-07-23T14:50:07.658984",
     "exception": false,
     "start_time": "2025-07-23T14:50:07.629427",
     "status": "completed"
    },
    "tags": []
   },
   "outputs": [],
   "source": [
    "n_drop = (~keep_mask).sum() # Calculates how many rows are set to be dropped\n",
    "if n_drop > 0:\n",
    "    pct = n_drop / len(keep_mask) * 100\n",
    "    print(f\"Dropping {n_drop} rows ({pct:.2f}%) where mode='{mode}'\")"
   ]
  },
  {
   "cell_type": "code",
   "execution_count": 23,
   "id": "5fb8eee5",
   "metadata": {
    "execution": {
     "iopub.execute_input": "2025-07-23T14:50:07.695894Z",
     "iopub.status.busy": "2025-07-23T14:50:07.695405Z",
     "iopub.status.idle": "2025-07-23T14:50:07.750965Z",
     "shell.execute_reply": "2025-07-23T14:50:07.749991Z"
    },
    "papermill": {
     "duration": 0.075915,
     "end_time": "2025-07-23T14:50:07.753043",
     "exception": false,
     "start_time": "2025-07-23T14:50:07.677128",
     "status": "completed"
    },
    "tags": []
   },
   "outputs": [],
   "source": [
    "X_train = X_train[keep_mask]"
   ]
  },
  {
   "cell_type": "code",
   "execution_count": 24,
   "id": "b202bb3a",
   "metadata": {
    "execution": {
     "iopub.execute_input": "2025-07-23T14:50:07.791447Z",
     "iopub.status.busy": "2025-07-23T14:50:07.790940Z",
     "iopub.status.idle": "2025-07-23T14:50:07.798753Z",
     "shell.execute_reply": "2025-07-23T14:50:07.797841Z"
    },
    "papermill": {
     "duration": 0.028906,
     "end_time": "2025-07-23T14:50:07.800427",
     "exception": false,
     "start_time": "2025-07-23T14:50:07.771521",
     "status": "completed"
    },
    "tags": []
   },
   "outputs": [],
   "source": [
    "y_train = y_train[keep_mask]"
   ]
  },
  {
   "cell_type": "markdown",
   "id": "493e2ac3",
   "metadata": {
    "papermill": {
     "duration": 0.017406,
     "end_time": "2025-07-23T14:50:07.836373",
     "exception": false,
     "start_time": "2025-07-23T14:50:07.818967",
     "status": "completed"
    },
    "tags": []
   },
   "source": [
    "# Model Training"
   ]
  },
  {
   "cell_type": "code",
   "execution_count": 25,
   "id": "679e1268",
   "metadata": {
    "execution": {
     "iopub.execute_input": "2025-07-23T14:50:07.872855Z",
     "iopub.status.busy": "2025-07-23T14:50:07.872226Z",
     "iopub.status.idle": "2025-07-23T14:50:07.985958Z",
     "shell.execute_reply": "2025-07-23T14:50:07.985022Z"
    },
    "papermill": {
     "duration": 0.134215,
     "end_time": "2025-07-23T14:50:07.987936",
     "exception": false,
     "start_time": "2025-07-23T14:50:07.853721",
     "status": "completed"
    },
    "tags": []
   },
   "outputs": [],
   "source": [
    "from sklearn.linear_model import LogisticRegression\n",
    "from sklearn.ensemble import GradientBoostingClassifier, RandomForestClassifier\n",
    "\n",
    "if (universe[\"model\"] == \"logreg\"):\n",
    "    model = LogisticRegression() #penalty=\"none\") #, solver=\"newton-cg\", max_iter=1) # include random_state=19 ?\n",
    "elif (universe[\"model\"] == \"penalized_logreg\"):\n",
    "    model = LogisticRegression(penalty=\"l2\", C=1.0) #, solver=\"newton-cg\", max_iter=1)\n",
    "elif (universe[\"model\"] == \"rf\"):\n",
    "    model = RandomForestClassifier(n_estimators=100, n_jobs=-1)\n",
    "elif (universe[\"model\"] == \"gbm\"):\n",
    "    model = GradientBoostingClassifier()\n",
    "elif (universe[\"model\"] == \"elasticnet\"):\n",
    "    model = LogisticRegression(penalty = 'elasticnet', solver = 'saga', l1_ratio = 0.5, max_iter=5000) # which solver to use?\n",
    "else:\n",
    "    raise \"Unsupported universe.model\""
   ]
  },
  {
   "cell_type": "code",
   "execution_count": 26,
   "id": "0cc8f744",
   "metadata": {
    "execution": {
     "iopub.execute_input": "2025-07-23T14:50:08.026066Z",
     "iopub.status.busy": "2025-07-23T14:50:08.025361Z",
     "iopub.status.idle": "2025-07-23T14:50:08.032156Z",
     "shell.execute_reply": "2025-07-23T14:50:08.031142Z"
    },
    "papermill": {
     "duration": 0.027311,
     "end_time": "2025-07-23T14:50:08.033930",
     "exception": false,
     "start_time": "2025-07-23T14:50:08.006619",
     "status": "completed"
    },
    "tags": []
   },
   "outputs": [],
   "source": [
    "import numpy as np\n",
    "from sklearn.pipeline import Pipeline\n",
    "from sklearn.preprocessing import StandardScaler\n",
    "\n",
    "model = Pipeline([\n",
    "    #(\"continuous_processor\", continuous_processor),\n",
    "    #(\"categorical_preprocessor\", categorical_preprocessor),\n",
    "    (\"scale\", StandardScaler() if universe[\"scale\"] == \"scale\" else None), \n",
    "    (\"model\", model),\n",
    "])"
   ]
  },
  {
   "cell_type": "code",
   "execution_count": 27,
   "id": "9442c04d",
   "metadata": {
    "execution": {
     "iopub.execute_input": "2025-07-23T14:50:08.071521Z",
     "iopub.status.busy": "2025-07-23T14:50:08.070823Z",
     "iopub.status.idle": "2025-07-23T15:06:53.359976Z",
     "shell.execute_reply": "2025-07-23T15:06:53.359142Z"
    },
    "papermill": {
     "duration": 1005.320348,
     "end_time": "2025-07-23T15:06:53.372407",
     "exception": false,
     "start_time": "2025-07-23T14:50:08.052059",
     "status": "completed"
    },
    "tags": []
   },
   "outputs": [
    {
     "name": "stderr",
     "output_type": "stream",
     "text": [
      "/dss/dsshome1/0C/ra93lal2/.local/share/virtualenvs/CMA_Fairness_v2-3j10GkSs/lib/python3.10/site-packages/sklearn/linear_model/_sag.py:350: ConvergenceWarning: The max_iter was reached which means the coef_ did not converge\n",
      "  warnings.warn(\n"
     ]
    },
    {
     "data": {
      "text/html": [
       "<style>#sk-container-id-1 {color: black;background-color: white;}#sk-container-id-1 pre{padding: 0;}#sk-container-id-1 div.sk-toggleable {background-color: white;}#sk-container-id-1 label.sk-toggleable__label {cursor: pointer;display: block;width: 100%;margin-bottom: 0;padding: 0.3em;box-sizing: border-box;text-align: center;}#sk-container-id-1 label.sk-toggleable__label-arrow:before {content: \"▸\";float: left;margin-right: 0.25em;color: #696969;}#sk-container-id-1 label.sk-toggleable__label-arrow:hover:before {color: black;}#sk-container-id-1 div.sk-estimator:hover label.sk-toggleable__label-arrow:before {color: black;}#sk-container-id-1 div.sk-toggleable__content {max-height: 0;max-width: 0;overflow: hidden;text-align: left;background-color: #f0f8ff;}#sk-container-id-1 div.sk-toggleable__content pre {margin: 0.2em;color: black;border-radius: 0.25em;background-color: #f0f8ff;}#sk-container-id-1 input.sk-toggleable__control:checked~div.sk-toggleable__content {max-height: 200px;max-width: 100%;overflow: auto;}#sk-container-id-1 input.sk-toggleable__control:checked~label.sk-toggleable__label-arrow:before {content: \"▾\";}#sk-container-id-1 div.sk-estimator input.sk-toggleable__control:checked~label.sk-toggleable__label {background-color: #d4ebff;}#sk-container-id-1 div.sk-label input.sk-toggleable__control:checked~label.sk-toggleable__label {background-color: #d4ebff;}#sk-container-id-1 input.sk-hidden--visually {border: 0;clip: rect(1px 1px 1px 1px);clip: rect(1px, 1px, 1px, 1px);height: 1px;margin: -1px;overflow: hidden;padding: 0;position: absolute;width: 1px;}#sk-container-id-1 div.sk-estimator {font-family: monospace;background-color: #f0f8ff;border: 1px dotted black;border-radius: 0.25em;box-sizing: border-box;margin-bottom: 0.5em;}#sk-container-id-1 div.sk-estimator:hover {background-color: #d4ebff;}#sk-container-id-1 div.sk-parallel-item::after {content: \"\";width: 100%;border-bottom: 1px solid gray;flex-grow: 1;}#sk-container-id-1 div.sk-label:hover label.sk-toggleable__label {background-color: #d4ebff;}#sk-container-id-1 div.sk-serial::before {content: \"\";position: absolute;border-left: 1px solid gray;box-sizing: border-box;top: 0;bottom: 0;left: 50%;z-index: 0;}#sk-container-id-1 div.sk-serial {display: flex;flex-direction: column;align-items: center;background-color: white;padding-right: 0.2em;padding-left: 0.2em;position: relative;}#sk-container-id-1 div.sk-item {position: relative;z-index: 1;}#sk-container-id-1 div.sk-parallel {display: flex;align-items: stretch;justify-content: center;background-color: white;position: relative;}#sk-container-id-1 div.sk-item::before, #sk-container-id-1 div.sk-parallel-item::before {content: \"\";position: absolute;border-left: 1px solid gray;box-sizing: border-box;top: 0;bottom: 0;left: 50%;z-index: -1;}#sk-container-id-1 div.sk-parallel-item {display: flex;flex-direction: column;z-index: 1;position: relative;background-color: white;}#sk-container-id-1 div.sk-parallel-item:first-child::after {align-self: flex-end;width: 50%;}#sk-container-id-1 div.sk-parallel-item:last-child::after {align-self: flex-start;width: 50%;}#sk-container-id-1 div.sk-parallel-item:only-child::after {width: 0;}#sk-container-id-1 div.sk-dashed-wrapped {border: 1px dashed gray;margin: 0 0.4em 0.5em 0.4em;box-sizing: border-box;padding-bottom: 0.4em;background-color: white;}#sk-container-id-1 div.sk-label label {font-family: monospace;font-weight: bold;display: inline-block;line-height: 1.2em;}#sk-container-id-1 div.sk-label-container {text-align: center;}#sk-container-id-1 div.sk-container {/* jupyter's `normalize.less` sets `[hidden] { display: none; }` but bootstrap.min.css set `[hidden] { display: none !important; }` so we also need the `!important` here to be able to override the default hidden behavior on the sphinx rendered scikit-learn.org. See: https://github.com/scikit-learn/scikit-learn/issues/21755 */display: inline-block !important;position: relative;}#sk-container-id-1 div.sk-text-repr-fallback {display: none;}</style><div id=\"sk-container-id-1\" class=\"sk-top-container\"><div class=\"sk-text-repr-fallback\"><pre>Pipeline(steps=[(&#x27;scale&#x27;, None),\n",
       "                (&#x27;model&#x27;,\n",
       "                 LogisticRegression(l1_ratio=0.5, max_iter=5000,\n",
       "                                    penalty=&#x27;elasticnet&#x27;, solver=&#x27;saga&#x27;))])</pre><b>In a Jupyter environment, please rerun this cell to show the HTML representation or trust the notebook. <br />On GitHub, the HTML representation is unable to render, please try loading this page with nbviewer.org.</b></div><div class=\"sk-container\" hidden><div class=\"sk-item sk-dashed-wrapped\"><div class=\"sk-label-container\"><div class=\"sk-label sk-toggleable\"><input class=\"sk-toggleable__control sk-hidden--visually\" id=\"sk-estimator-id-1\" type=\"checkbox\" ><label for=\"sk-estimator-id-1\" class=\"sk-toggleable__label sk-toggleable__label-arrow\">Pipeline</label><div class=\"sk-toggleable__content\"><pre>Pipeline(steps=[(&#x27;scale&#x27;, None),\n",
       "                (&#x27;model&#x27;,\n",
       "                 LogisticRegression(l1_ratio=0.5, max_iter=5000,\n",
       "                                    penalty=&#x27;elasticnet&#x27;, solver=&#x27;saga&#x27;))])</pre></div></div></div><div class=\"sk-serial\"><div class=\"sk-item\"><div class=\"sk-estimator sk-toggleable\"><input class=\"sk-toggleable__control sk-hidden--visually\" id=\"sk-estimator-id-2\" type=\"checkbox\" ><label for=\"sk-estimator-id-2\" class=\"sk-toggleable__label sk-toggleable__label-arrow\">None</label><div class=\"sk-toggleable__content\"><pre>None</pre></div></div></div><div class=\"sk-item\"><div class=\"sk-estimator sk-toggleable\"><input class=\"sk-toggleable__control sk-hidden--visually\" id=\"sk-estimator-id-3\" type=\"checkbox\" ><label for=\"sk-estimator-id-3\" class=\"sk-toggleable__label sk-toggleable__label-arrow\">LogisticRegression</label><div class=\"sk-toggleable__content\"><pre>LogisticRegression(l1_ratio=0.5, max_iter=5000, penalty=&#x27;elasticnet&#x27;,\n",
       "                   solver=&#x27;saga&#x27;)</pre></div></div></div></div></div></div></div>"
      ],
      "text/plain": [
       "Pipeline(steps=[('scale', None),\n",
       "                ('model',\n",
       "                 LogisticRegression(l1_ratio=0.5, max_iter=5000,\n",
       "                                    penalty='elasticnet', solver='saga'))])"
      ]
     },
     "execution_count": 27,
     "metadata": {},
     "output_type": "execute_result"
    }
   ],
   "source": [
    "model.fit(X_train, y_train.values.ravel())"
   ]
  },
  {
   "cell_type": "code",
   "execution_count": 28,
   "id": "af59f8c0",
   "metadata": {
    "execution": {
     "iopub.execute_input": "2025-07-23T15:06:53.392642Z",
     "iopub.status.busy": "2025-07-23T15:06:53.392326Z",
     "iopub.status.idle": "2025-07-23T15:06:53.396945Z",
     "shell.execute_reply": "2025-07-23T15:06:53.396187Z"
    },
    "papermill": {
     "duration": 0.016591,
     "end_time": "2025-07-23T15:06:53.398273",
     "exception": false,
     "start_time": "2025-07-23T15:06:53.381682",
     "status": "completed"
    },
    "tags": []
   },
   "outputs": [],
   "source": [
    "from fairness_multiverse.universe import predict_w_threshold"
   ]
  },
  {
   "cell_type": "code",
   "execution_count": 29,
   "id": "a7cf2e16",
   "metadata": {
    "execution": {
     "iopub.execute_input": "2025-07-23T15:06:53.419114Z",
     "iopub.status.busy": "2025-07-23T15:06:53.418813Z",
     "iopub.status.idle": "2025-07-23T15:06:53.505806Z",
     "shell.execute_reply": "2025-07-23T15:06:53.504978Z"
    },
    "papermill": {
     "duration": 0.098644,
     "end_time": "2025-07-23T15:06:53.507141",
     "exception": false,
     "start_time": "2025-07-23T15:06:53.408497",
     "status": "completed"
    },
    "tags": []
   },
   "outputs": [
    {
     "data": {
      "text/plain": [
       "0.8555345000557352"
      ]
     },
     "execution_count": 29,
     "metadata": {},
     "output_type": "execute_result"
    }
   ],
   "source": [
    "probs_test = model.predict_proba(X_test)\n",
    "\n",
    "'''\n",
    "Below code returns a boolean array (or binary 0/1 array depending on how it’s used) where each element \n",
    "is True if the probability of class 1 is greater than or equal to the threshold, and False otherwise.\n",
    "'''\n",
    "y_pred_default = predict_w_threshold(probs_test, 0.5)\n",
    "\n",
    "from sklearn.metrics import accuracy_score\n",
    "\n",
    "# Naive prediction\n",
    "accuracy_score(y_true = y_true, y_pred = y_pred_default)"
   ]
  },
  {
   "cell_type": "code",
   "execution_count": 30,
   "id": "081964c3",
   "metadata": {
    "execution": {
     "iopub.execute_input": "2025-07-23T15:06:53.527733Z",
     "iopub.status.busy": "2025-07-23T15:06:53.527448Z",
     "iopub.status.idle": "2025-07-23T15:06:53.604254Z",
     "shell.execute_reply": "2025-07-23T15:06:53.603423Z"
    },
    "papermill": {
     "duration": 0.088275,
     "end_time": "2025-07-23T15:06:53.605600",
     "exception": false,
     "start_time": "2025-07-23T15:06:53.517325",
     "status": "completed"
    },
    "tags": []
   },
   "outputs": [
    {
     "data": {
      "text/plain": [
       "array([0, 0, 0, ..., 0, 0, 0])"
      ]
     },
     "execution_count": 30,
     "metadata": {},
     "output_type": "execute_result"
    }
   ],
   "source": [
    "model.predict(X_test)"
   ]
  },
  {
   "cell_type": "markdown",
   "id": "56c9705b",
   "metadata": {
    "papermill": {
     "duration": 0.009397,
     "end_time": "2025-07-23T15:06:53.625345",
     "exception": false,
     "start_time": "2025-07-23T15:06:53.615948",
     "status": "completed"
    },
    "tags": []
   },
   "source": [
    "# Conformal Prediction"
   ]
  },
  {
   "cell_type": "code",
   "execution_count": 31,
   "id": "160ec6ff",
   "metadata": {
    "execution": {
     "iopub.execute_input": "2025-07-23T15:06:53.645283Z",
     "iopub.status.busy": "2025-07-23T15:06:53.644993Z",
     "iopub.status.idle": "2025-07-23T15:06:53.648849Z",
     "shell.execute_reply": "2025-07-23T15:06:53.648144Z"
    },
    "papermill": {
     "duration": 0.015455,
     "end_time": "2025-07-23T15:06:53.650225",
     "exception": false,
     "start_time": "2025-07-23T15:06:53.634770",
     "status": "completed"
    },
    "tags": []
   },
   "outputs": [],
   "source": [
    "# Miscoverage level for conformal prediction (10% allowed error rate => 90% target coverage)\n",
    "alpha = 0.1"
   ]
  },
  {
   "cell_type": "code",
   "execution_count": 32,
   "id": "eadf4555-3dd3-440e-8e35-f82a4ad9f855",
   "metadata": {
    "execution": {
     "iopub.execute_input": "2025-07-23T15:06:53.671065Z",
     "iopub.status.busy": "2025-07-23T15:06:53.670785Z",
     "iopub.status.idle": "2025-07-23T15:06:53.745619Z",
     "shell.execute_reply": "2025-07-23T15:06:53.744835Z"
    },
    "papermill": {
     "duration": 0.086819,
     "end_time": "2025-07-23T15:06:53.747141",
     "exception": false,
     "start_time": "2025-07-23T15:06:53.660322",
     "status": "completed"
    },
    "tags": []
   },
   "outputs": [],
   "source": [
    "probs_calib = model.predict_proba(X_calib)"
   ]
  },
  {
   "cell_type": "code",
   "execution_count": 33,
   "id": "2ed93547-6d5d-4983-9b36-1ecb300da49a",
   "metadata": {
    "execution": {
     "iopub.execute_input": "2025-07-23T15:06:53.768295Z",
     "iopub.status.busy": "2025-07-23T15:06:53.768008Z",
     "iopub.status.idle": "2025-07-23T15:06:53.772640Z",
     "shell.execute_reply": "2025-07-23T15:06:53.771941Z"
    },
    "papermill": {
     "duration": 0.016441,
     "end_time": "2025-07-23T15:06:53.774013",
     "exception": false,
     "start_time": "2025-07-23T15:06:53.757572",
     "status": "completed"
    },
    "tags": []
   },
   "outputs": [],
   "source": [
    "y_calib = y_calib.values.ravel().astype(int)"
   ]
  },
  {
   "cell_type": "code",
   "execution_count": 34,
   "id": "65d1320d-f588-4b38-9072-62af1ae97f7d",
   "metadata": {
    "execution": {
     "iopub.execute_input": "2025-07-23T15:06:53.794825Z",
     "iopub.status.busy": "2025-07-23T15:06:53.794545Z",
     "iopub.status.idle": "2025-07-23T15:06:53.800072Z",
     "shell.execute_reply": "2025-07-23T15:06:53.799381Z"
    },
    "papermill": {
     "duration": 0.01716,
     "end_time": "2025-07-23T15:06:53.801335",
     "exception": false,
     "start_time": "2025-07-23T15:06:53.784175",
     "status": "completed"
    },
    "tags": []
   },
   "outputs": [],
   "source": [
    "from fairness_multiverse.conformal import compute_nc_scores\n",
    "\n",
    "# Compute nonconformity scores on calibration set (1 - probability of true class)\n",
    "nc_scores = compute_nc_scores(probs_calib, y_calib)"
   ]
  },
  {
   "cell_type": "code",
   "execution_count": 35,
   "id": "df3b8ca3-53b7-43d5-9667-7c85da7aeda2",
   "metadata": {
    "execution": {
     "iopub.execute_input": "2025-07-23T15:06:53.822239Z",
     "iopub.status.busy": "2025-07-23T15:06:53.821956Z",
     "iopub.status.idle": "2025-07-23T15:06:53.827230Z",
     "shell.execute_reply": "2025-07-23T15:06:53.826544Z"
    },
    "papermill": {
     "duration": 0.017217,
     "end_time": "2025-07-23T15:06:53.828548",
     "exception": false,
     "start_time": "2025-07-23T15:06:53.811331",
     "status": "completed"
    },
    "tags": []
   },
   "outputs": [],
   "source": [
    "from fairness_multiverse.conformal import find_threshold\n",
    "\n",
    "# Find conformal threshold q_hat for the given alpha (split conformal method)\n",
    "q_hat = find_threshold(nc_scores, alpha)"
   ]
  },
  {
   "cell_type": "code",
   "execution_count": 36,
   "id": "4d29e6c1-0ef6-4aa4-b8fe-4fe79b0d033a",
   "metadata": {
    "execution": {
     "iopub.execute_input": "2025-07-23T15:06:53.849520Z",
     "iopub.status.busy": "2025-07-23T15:06:53.849236Z",
     "iopub.status.idle": "2025-07-23T15:06:53.854696Z",
     "shell.execute_reply": "2025-07-23T15:06:53.853920Z"
    },
    "papermill": {
     "duration": 0.017159,
     "end_time": "2025-07-23T15:06:53.855932",
     "exception": false,
     "start_time": "2025-07-23T15:06:53.838773",
     "status": "completed"
    },
    "tags": []
   },
   "outputs": [
    {
     "data": {
      "text/plain": [
       "0.6486520260050708"
      ]
     },
     "execution_count": 36,
     "metadata": {},
     "output_type": "execute_result"
    }
   ],
   "source": [
    "q_hat"
   ]
  },
  {
   "cell_type": "code",
   "execution_count": 37,
   "id": "92460794-cdac-4be2-ba28-f28c0515a6fb",
   "metadata": {
    "execution": {
     "iopub.execute_input": "2025-07-23T15:06:53.877023Z",
     "iopub.status.busy": "2025-07-23T15:06:53.876746Z",
     "iopub.status.idle": "2025-07-23T15:06:54.393125Z",
     "shell.execute_reply": "2025-07-23T15:06:54.392333Z"
    },
    "papermill": {
     "duration": 0.528462,
     "end_time": "2025-07-23T15:06:54.394596",
     "exception": false,
     "start_time": "2025-07-23T15:06:53.866134",
     "status": "completed"
    },
    "tags": []
   },
   "outputs": [],
   "source": [
    "from fairness_multiverse.conformal import predict_conformal_sets\n",
    "\n",
    "# Generate prediction sets for each test example\n",
    "pred_sets = predict_conformal_sets(model, X_test, q_hat)"
   ]
  },
  {
   "cell_type": "code",
   "execution_count": 38,
   "id": "d90c9a65-e6db-4f5d-80cd-e68fb7e46829",
   "metadata": {
    "execution": {
     "iopub.execute_input": "2025-07-23T15:06:54.416029Z",
     "iopub.status.busy": "2025-07-23T15:06:54.415753Z",
     "iopub.status.idle": "2025-07-23T15:06:54.420235Z",
     "shell.execute_reply": "2025-07-23T15:06:54.419520Z"
    },
    "papermill": {
     "duration": 0.016524,
     "end_time": "2025-07-23T15:06:54.421634",
     "exception": false,
     "start_time": "2025-07-23T15:06:54.405110",
     "status": "completed"
    },
    "tags": []
   },
   "outputs": [],
   "source": [
    "y_true = y_true.squeeze()"
   ]
  },
  {
   "cell_type": "code",
   "execution_count": 39,
   "id": "3a58a54a-1e68-46b9-927a-df01f18aebc8",
   "metadata": {
    "execution": {
     "iopub.execute_input": "2025-07-23T15:06:54.442667Z",
     "iopub.status.busy": "2025-07-23T15:06:54.442394Z",
     "iopub.status.idle": "2025-07-23T15:06:54.932281Z",
     "shell.execute_reply": "2025-07-23T15:06:54.931571Z"
    },
    "papermill": {
     "duration": 0.501729,
     "end_time": "2025-07-23T15:06:54.933563",
     "exception": false,
     "start_time": "2025-07-23T15:06:54.431834",
     "status": "completed"
    },
    "tags": []
   },
   "outputs": [],
   "source": [
    "from fairness_multiverse.conformal import evaluate_sets\n",
    "\n",
    "# Evaluate coverage and average set size on test data\n",
    "metrics = evaluate_sets(pred_sets, y_true)"
   ]
  },
  {
   "cell_type": "code",
   "execution_count": 40,
   "id": "5ce0a5cb-201f-45a0-ade5-94c7f0bd6095",
   "metadata": {
    "execution": {
     "iopub.execute_input": "2025-07-23T15:06:54.954697Z",
     "iopub.status.busy": "2025-07-23T15:06:54.954422Z",
     "iopub.status.idle": "2025-07-23T15:06:54.959653Z",
     "shell.execute_reply": "2025-07-23T15:06:54.958872Z"
    },
    "papermill": {
     "duration": 0.017336,
     "end_time": "2025-07-23T15:06:54.961157",
     "exception": false,
     "start_time": "2025-07-23T15:06:54.943821",
     "status": "completed"
    },
    "tags": []
   },
   "outputs": [
    {
     "data": {
      "text/plain": [
       "{'coverage': 0.9121056738379222, 'avg_size': 1.2357039349013488}"
      ]
     },
     "execution_count": 40,
     "metadata": {},
     "output_type": "execute_result"
    }
   ],
   "source": [
    "metrics"
   ]
  },
  {
   "cell_type": "code",
   "execution_count": 41,
   "id": "9b9a838d-31c9-430b-ae14-12baee460d17",
   "metadata": {
    "execution": {
     "iopub.execute_input": "2025-07-23T15:06:54.982268Z",
     "iopub.status.busy": "2025-07-23T15:06:54.981999Z",
     "iopub.status.idle": "2025-07-23T15:06:54.986489Z",
     "shell.execute_reply": "2025-07-23T15:06:54.985792Z"
    },
    "papermill": {
     "duration": 0.016447,
     "end_time": "2025-07-23T15:06:54.987813",
     "exception": false,
     "start_time": "2025-07-23T15:06:54.971366",
     "status": "completed"
    },
    "tags": []
   },
   "outputs": [],
   "source": [
    "example_universe = universe.copy()\n",
    "universe_model = example_universe.get(\"model\")\n",
    "universe_exclude_features = example_universe.get(\"exclude_features\")\n",
    "universe_exclude_subgroups = example_universe.get(\"exclude_subgroups\")\n",
    "universe_scale = example_universe.get(\"scale\")"
   ]
  },
  {
   "cell_type": "code",
   "execution_count": 42,
   "id": "f4b6a8ac-9dc0-4245-8a91-5b3b5999c4f9",
   "metadata": {
    "execution": {
     "iopub.execute_input": "2025-07-23T15:06:55.009367Z",
     "iopub.status.busy": "2025-07-23T15:06:55.009094Z",
     "iopub.status.idle": "2025-07-23T15:06:55.013650Z",
     "shell.execute_reply": "2025-07-23T15:06:55.013012Z"
    },
    "papermill": {
     "duration": 0.016574,
     "end_time": "2025-07-23T15:06:55.014918",
     "exception": false,
     "start_time": "2025-07-23T15:06:54.998344",
     "status": "completed"
    },
    "tags": []
   },
   "outputs": [],
   "source": [
    "cp_metrics_dict = {\n",
    "    \"universe_id\": [universe_id],\n",
    "    \"universe_model\": [universe_model],\n",
    "    \"universe_exclude_features\": [universe_exclude_features],\n",
    "    \"universe_exclude_subgroups\": [universe_exclude_subgroups],\n",
    "    \"universe_scale\": [universe_scale],\n",
    "    \"q_hat\": [q_hat],\n",
    "    \"coverage\": [metrics[\"coverage\"]],\n",
    "    \"avg_size\": [metrics[\"avg_size\"]],\n",
    "}"
   ]
  },
  {
   "cell_type": "code",
   "execution_count": 43,
   "id": "908acbb1-0371-4915-85ca-3fa520d2efe2",
   "metadata": {
    "execution": {
     "iopub.execute_input": "2025-07-23T15:06:55.036438Z",
     "iopub.status.busy": "2025-07-23T15:06:55.036165Z",
     "iopub.status.idle": "2025-07-23T15:06:55.041983Z",
     "shell.execute_reply": "2025-07-23T15:06:55.041235Z"
    },
    "papermill": {
     "duration": 0.01769,
     "end_time": "2025-07-23T15:06:55.043177",
     "exception": false,
     "start_time": "2025-07-23T15:06:55.025487",
     "status": "completed"
    },
    "tags": []
   },
   "outputs": [
    {
     "data": {
      "text/plain": [
       "{'universe_id': ['aab90f968f4c380d738a3d6184711202'],\n",
       " 'universe_model': ['elasticnet'],\n",
       " 'universe_exclude_features': ['age'],\n",
       " 'universe_exclude_subgroups': ['keep-all'],\n",
       " 'universe_scale': ['do-not-scale'],\n",
       " 'q_hat': [0.6486520260050708],\n",
       " 'coverage': [0.9121056738379222],\n",
       " 'avg_size': [1.2357039349013488]}"
      ]
     },
     "execution_count": 43,
     "metadata": {},
     "output_type": "execute_result"
    }
   ],
   "source": [
    "cp_metrics_dict"
   ]
  },
  {
   "cell_type": "code",
   "execution_count": 44,
   "id": "33007efc-14e9-4ec6-97ac-56a455c82265",
   "metadata": {
    "execution": {
     "iopub.execute_input": "2025-07-23T15:06:55.065015Z",
     "iopub.status.busy": "2025-07-23T15:06:55.064705Z",
     "iopub.status.idle": "2025-07-23T15:06:55.069572Z",
     "shell.execute_reply": "2025-07-23T15:06:55.068810Z"
    },
    "papermill": {
     "duration": 0.017085,
     "end_time": "2025-07-23T15:06:55.070940",
     "exception": false,
     "start_time": "2025-07-23T15:06:55.053855",
     "status": "completed"
    },
    "tags": []
   },
   "outputs": [],
   "source": [
    "cp_metrics_df = pd.DataFrame(cp_metrics_dict)"
   ]
  },
  {
   "cell_type": "code",
   "execution_count": 45,
   "id": "db12611b-57b2-4910-b9d0-355adfd6e7bf",
   "metadata": {
    "execution": {
     "iopub.execute_input": "2025-07-23T15:06:55.092919Z",
     "iopub.status.busy": "2025-07-23T15:06:55.092620Z",
     "iopub.status.idle": "2025-07-23T15:06:55.104971Z",
     "shell.execute_reply": "2025-07-23T15:06:55.104232Z"
    },
    "papermill": {
     "duration": 0.024711,
     "end_time": "2025-07-23T15:06:55.106264",
     "exception": false,
     "start_time": "2025-07-23T15:06:55.081553",
     "status": "completed"
    },
    "tags": []
   },
   "outputs": [
    {
     "data": {
      "text/html": [
       "<div>\n",
       "<style scoped>\n",
       "    .dataframe tbody tr th:only-of-type {\n",
       "        vertical-align: middle;\n",
       "    }\n",
       "\n",
       "    .dataframe tbody tr th {\n",
       "        vertical-align: top;\n",
       "    }\n",
       "\n",
       "    .dataframe thead th {\n",
       "        text-align: right;\n",
       "    }\n",
       "</style>\n",
       "<table border=\"1\" class=\"dataframe\">\n",
       "  <thead>\n",
       "    <tr style=\"text-align: right;\">\n",
       "      <th></th>\n",
       "      <th>universe_id</th>\n",
       "      <th>universe_model</th>\n",
       "      <th>universe_exclude_features</th>\n",
       "      <th>universe_exclude_subgroups</th>\n",
       "      <th>universe_scale</th>\n",
       "      <th>q_hat</th>\n",
       "      <th>coverage</th>\n",
       "      <th>avg_size</th>\n",
       "    </tr>\n",
       "  </thead>\n",
       "  <tbody>\n",
       "    <tr>\n",
       "      <th>0</th>\n",
       "      <td>aab90f968f4c380d738a3d6184711202</td>\n",
       "      <td>elasticnet</td>\n",
       "      <td>age</td>\n",
       "      <td>keep-all</td>\n",
       "      <td>do-not-scale</td>\n",
       "      <td>0.648652</td>\n",
       "      <td>0.912106</td>\n",
       "      <td>1.235704</td>\n",
       "    </tr>\n",
       "  </tbody>\n",
       "</table>\n",
       "</div>"
      ],
      "text/plain": [
       "                        universe_id universe_model universe_exclude_features  \\\n",
       "0  aab90f968f4c380d738a3d6184711202     elasticnet                       age   \n",
       "\n",
       "  universe_exclude_subgroups universe_scale     q_hat  coverage  avg_size  \n",
       "0                   keep-all   do-not-scale  0.648652  0.912106  1.235704  "
      ]
     },
     "execution_count": 45,
     "metadata": {},
     "output_type": "execute_result"
    }
   ],
   "source": [
    "cp_metrics_df"
   ]
  },
  {
   "cell_type": "code",
   "execution_count": 46,
   "id": "b7fbde55-a0a1-47e4-9af6-fe4a17fa8c61",
   "metadata": {
    "execution": {
     "iopub.execute_input": "2025-07-23T15:06:55.128066Z",
     "iopub.status.busy": "2025-07-23T15:06:55.127813Z",
     "iopub.status.idle": "2025-07-23T15:06:55.131732Z",
     "shell.execute_reply": "2025-07-23T15:06:55.131038Z"
    },
    "papermill": {
     "duration": 0.016383,
     "end_time": "2025-07-23T15:06:55.133149",
     "exception": false,
     "start_time": "2025-07-23T15:06:55.116766",
     "status": "completed"
    },
    "tags": []
   },
   "outputs": [],
   "source": [
    "# Conditional Coverage & looking at subgroups"
   ]
  },
  {
   "cell_type": "code",
   "execution_count": 47,
   "id": "027ae886-68dd-4141-96c7-805a5450e1ef",
   "metadata": {
    "execution": {
     "iopub.execute_input": "2025-07-23T15:06:55.155468Z",
     "iopub.status.busy": "2025-07-23T15:06:55.155213Z",
     "iopub.status.idle": "2025-07-23T15:06:55.327125Z",
     "shell.execute_reply": "2025-07-23T15:06:55.326394Z"
    },
    "papermill": {
     "duration": 0.18451,
     "end_time": "2025-07-23T15:06:55.328651",
     "exception": false,
     "start_time": "2025-07-23T15:06:55.144141",
     "status": "completed"
    },
    "tags": []
   },
   "outputs": [],
   "source": [
    "from fairness_multiverse.conformal import build_cp_groups\n",
    "\n",
    "cp_groups_df = build_cp_groups(pred_sets, y_true, X_test.index, org_test)\n",
    "#needs universe_id and setting"
   ]
  },
  {
   "cell_type": "code",
   "execution_count": 48,
   "id": "c3b92545-903e-4839-89af-0f057907d7d6",
   "metadata": {
    "execution": {
     "iopub.execute_input": "2025-07-23T15:06:55.351497Z",
     "iopub.status.busy": "2025-07-23T15:06:55.351218Z",
     "iopub.status.idle": "2025-07-23T15:06:56.230186Z",
     "shell.execute_reply": "2025-07-23T15:06:56.229416Z"
    },
    "papermill": {
     "duration": 0.891793,
     "end_time": "2025-07-23T15:06:56.231655",
     "exception": false,
     "start_time": "2025-07-23T15:06:55.339862",
     "status": "completed"
    },
    "tags": []
   },
   "outputs": [],
   "source": [
    "# Define covered = 1 if true_label is in the predicted set\n",
    "cp_groups_df['covered'] = cp_groups_df.apply(\n",
    "    lambda r: int(r['true_label'] in r['pred_set']),\n",
    "    axis=1\n",
    ")"
   ]
  },
  {
   "cell_type": "code",
   "execution_count": 49,
   "id": "338ff529-1a6b-4b87-a931-8e4788d52aad",
   "metadata": {
    "execution": {
     "iopub.execute_input": "2025-07-23T15:06:56.254538Z",
     "iopub.status.busy": "2025-07-23T15:06:56.254260Z",
     "iopub.status.idle": "2025-07-23T15:06:56.258191Z",
     "shell.execute_reply": "2025-07-23T15:06:56.257588Z"
    },
    "papermill": {
     "duration": 0.016451,
     "end_time": "2025-07-23T15:06:56.259427",
     "exception": false,
     "start_time": "2025-07-23T15:06:56.242976",
     "status": "completed"
    },
    "tags": []
   },
   "outputs": [],
   "source": [
    "#cp_groups_df"
   ]
  },
  {
   "cell_type": "code",
   "execution_count": 50,
   "id": "90032e27-66df-4540-9169-4e89cfbaa758",
   "metadata": {
    "execution": {
     "iopub.execute_input": "2025-07-23T15:06:56.281986Z",
     "iopub.status.busy": "2025-07-23T15:06:56.281715Z",
     "iopub.status.idle": "2025-07-23T15:06:56.289977Z",
     "shell.execute_reply": "2025-07-23T15:06:56.289303Z"
    },
    "papermill": {
     "duration": 0.020686,
     "end_time": "2025-07-23T15:06:56.291188",
     "exception": false,
     "start_time": "2025-07-23T15:06:56.270502",
     "status": "completed"
    },
    "tags": []
   },
   "outputs": [],
   "source": [
    "subgroups = ['frau1','nongerman','nongerman_male','nongerman_female']\n",
    "\n",
    "# Conditional coverage for subgroup==1\n",
    "cond_coverage = {\n",
    "    g: cp_groups_df.loc[cp_groups_df[g]==1, 'covered'].mean()\n",
    "    for g in subgroups\n",
    "}"
   ]
  },
  {
   "cell_type": "code",
   "execution_count": 51,
   "id": "1e348fb1-b9c3-45bc-ba23-f016827a7e0d",
   "metadata": {
    "execution": {
     "iopub.execute_input": "2025-07-23T15:06:56.313516Z",
     "iopub.status.busy": "2025-07-23T15:06:56.313232Z",
     "iopub.status.idle": "2025-07-23T15:06:56.318717Z",
     "shell.execute_reply": "2025-07-23T15:06:56.318020Z"
    },
    "papermill": {
     "duration": 0.017946,
     "end_time": "2025-07-23T15:06:56.319980",
     "exception": false,
     "start_time": "2025-07-23T15:06:56.302034",
     "status": "completed"
    },
    "tags": []
   },
   "outputs": [
    {
     "data": {
      "text/plain": [
       "{'frau1': 0.9100957002291414,\n",
       " 'nongerman': 0.9569415595351709,\n",
       " 'nongerman_male': 0.9667657389894623,\n",
       " 'nongerman_female': 0.9406855439642325}"
      ]
     },
     "execution_count": 51,
     "metadata": {},
     "output_type": "execute_result"
    }
   ],
   "source": [
    "cond_coverage"
   ]
  },
  {
   "cell_type": "code",
   "execution_count": 52,
   "id": "f5093324-c3dd-4d63-bc4c-8d945e5c8bbb",
   "metadata": {
    "execution": {
     "iopub.execute_input": "2025-07-23T15:06:56.342809Z",
     "iopub.status.busy": "2025-07-23T15:06:56.342539Z",
     "iopub.status.idle": "2025-07-23T15:06:56.348233Z",
     "shell.execute_reply": "2025-07-23T15:06:56.347544Z"
    },
    "papermill": {
     "duration": 0.018456,
     "end_time": "2025-07-23T15:06:56.349567",
     "exception": false,
     "start_time": "2025-07-23T15:06:56.331111",
     "status": "completed"
    },
    "tags": []
   },
   "outputs": [],
   "source": [
    "for subgroup, cov in cond_coverage.items():\n",
    "    cp_metrics_df[f\"cov_{subgroup}\"] = cov"
   ]
  },
  {
   "cell_type": "code",
   "execution_count": 53,
   "id": "6e872e10-dbe5-49e8-b554-5030c98ff75d",
   "metadata": {
    "execution": {
     "iopub.execute_input": "2025-07-23T15:06:56.372413Z",
     "iopub.status.busy": "2025-07-23T15:06:56.372176Z",
     "iopub.status.idle": "2025-07-23T15:06:56.384412Z",
     "shell.execute_reply": "2025-07-23T15:06:56.383782Z"
    },
    "papermill": {
     "duration": 0.025018,
     "end_time": "2025-07-23T15:06:56.385724",
     "exception": false,
     "start_time": "2025-07-23T15:06:56.360706",
     "status": "completed"
    },
    "tags": []
   },
   "outputs": [
    {
     "data": {
      "text/html": [
       "<div>\n",
       "<style scoped>\n",
       "    .dataframe tbody tr th:only-of-type {\n",
       "        vertical-align: middle;\n",
       "    }\n",
       "\n",
       "    .dataframe tbody tr th {\n",
       "        vertical-align: top;\n",
       "    }\n",
       "\n",
       "    .dataframe thead th {\n",
       "        text-align: right;\n",
       "    }\n",
       "</style>\n",
       "<table border=\"1\" class=\"dataframe\">\n",
       "  <thead>\n",
       "    <tr style=\"text-align: right;\">\n",
       "      <th></th>\n",
       "      <th>universe_id</th>\n",
       "      <th>universe_model</th>\n",
       "      <th>universe_exclude_features</th>\n",
       "      <th>universe_exclude_subgroups</th>\n",
       "      <th>universe_scale</th>\n",
       "      <th>q_hat</th>\n",
       "      <th>coverage</th>\n",
       "      <th>avg_size</th>\n",
       "      <th>cov_frau1</th>\n",
       "      <th>cov_nongerman</th>\n",
       "      <th>cov_nongerman_male</th>\n",
       "      <th>cov_nongerman_female</th>\n",
       "    </tr>\n",
       "  </thead>\n",
       "  <tbody>\n",
       "    <tr>\n",
       "      <th>0</th>\n",
       "      <td>aab90f968f4c380d738a3d6184711202</td>\n",
       "      <td>elasticnet</td>\n",
       "      <td>age</td>\n",
       "      <td>keep-all</td>\n",
       "      <td>do-not-scale</td>\n",
       "      <td>0.648652</td>\n",
       "      <td>0.912106</td>\n",
       "      <td>1.235704</td>\n",
       "      <td>0.910096</td>\n",
       "      <td>0.956942</td>\n",
       "      <td>0.966766</td>\n",
       "      <td>0.940686</td>\n",
       "    </tr>\n",
       "  </tbody>\n",
       "</table>\n",
       "</div>"
      ],
      "text/plain": [
       "                        universe_id universe_model universe_exclude_features  \\\n",
       "0  aab90f968f4c380d738a3d6184711202     elasticnet                       age   \n",
       "\n",
       "  universe_exclude_subgroups universe_scale     q_hat  coverage  avg_size  \\\n",
       "0                   keep-all   do-not-scale  0.648652  0.912106  1.235704   \n",
       "\n",
       "   cov_frau1  cov_nongerman  cov_nongerman_male  cov_nongerman_female  \n",
       "0   0.910096       0.956942            0.966766              0.940686  "
      ]
     },
     "execution_count": 53,
     "metadata": {},
     "output_type": "execute_result"
    }
   ],
   "source": [
    "cp_metrics_df"
   ]
  },
  {
   "cell_type": "markdown",
   "id": "33774451",
   "metadata": {
    "papermill": {
     "duration": 0.010855,
     "end_time": "2025-07-23T15:06:56.408003",
     "exception": false,
     "start_time": "2025-07-23T15:06:56.397148",
     "status": "completed"
    },
    "tags": []
   },
   "source": [
    "# (Fairness) Metrics"
   ]
  },
  {
   "cell_type": "code",
   "execution_count": 54,
   "id": "debc5d62",
   "metadata": {
    "execution": {
     "iopub.execute_input": "2025-07-23T15:06:56.430867Z",
     "iopub.status.busy": "2025-07-23T15:06:56.430598Z",
     "iopub.status.idle": "2025-07-23T15:06:56.444154Z",
     "shell.execute_reply": "2025-07-23T15:06:56.443428Z"
    },
    "papermill": {
     "duration": 0.026425,
     "end_time": "2025-07-23T15:06:56.445373",
     "exception": false,
     "start_time": "2025-07-23T15:06:56.418948",
     "status": "completed"
    },
    "tags": []
   },
   "outputs": [],
   "source": [
    "# do I need to include maxdeutsch1.missing?\n",
    "\n",
    "import numpy as np\n",
    "\n",
    "colname_to_bin = \"maxdeutsch1\"\n",
    "majority_value = org_train[colname_to_bin].mode()[0]\n",
    "\n",
    "org_test[\"majmin\"] = np.where(org_test[colname_to_bin] == majority_value, \"majority\", \"minority\")"
   ]
  },
  {
   "cell_type": "code",
   "execution_count": 55,
   "id": "06a50de5",
   "metadata": {
    "execution": {
     "iopub.execute_input": "2025-07-23T15:06:56.468182Z",
     "iopub.status.busy": "2025-07-23T15:06:56.467912Z",
     "iopub.status.idle": "2025-07-23T15:06:57.925740Z",
     "shell.execute_reply": "2025-07-23T15:06:57.924990Z"
    },
    "papermill": {
     "duration": 1.470914,
     "end_time": "2025-07-23T15:06:57.927151",
     "exception": false,
     "start_time": "2025-07-23T15:06:56.456237",
     "status": "completed"
    },
    "tags": []
   },
   "outputs": [],
   "source": [
    "example_universe = universe.copy()\n",
    "example_universe[\"cutoff\"] = example_universe[\"cutoff\"][0]\n",
    "example_universe[\"eval_fairness_grouping\"] = example_universe[\"eval_fairness_grouping\"][0]\n",
    "fairness_dict, metric_frame = universe_analysis.compute_metrics(\n",
    "    example_universe,\n",
    "    y_pred_prob=probs_test,\n",
    "    y_test=y_true,\n",
    "    org_test=org_test,\n",
    ")"
   ]
  },
  {
   "cell_type": "markdown",
   "id": "f95d4e02",
   "metadata": {
    "papermill": {
     "duration": 0.011013,
     "end_time": "2025-07-23T15:06:57.949878",
     "exception": false,
     "start_time": "2025-07-23T15:06:57.938865",
     "status": "completed"
    },
    "tags": []
   },
   "source": [
    "# Overall"
   ]
  },
  {
   "cell_type": "markdown",
   "id": "bdee4871",
   "metadata": {
    "papermill": {
     "duration": 0.010829,
     "end_time": "2025-07-23T15:06:57.971624",
     "exception": false,
     "start_time": "2025-07-23T15:06:57.960795",
     "status": "completed"
    },
    "tags": []
   },
   "source": [
    "Fairness\n",
    "Main fairness target: Equalized Odds. Seems to be a better fit than equal opportunity, since we're not only interested in Y = 1. Seems to be a better fit than demographic parity, since we also care about accuracy, not just equal distribution of preds.\n",
    "\n",
    "Pick column for computation of fairness metrics\n",
    "\n",
    "Performance\n",
    "Overall performance measures, most interesting in relation to the measures split by group below"
   ]
  },
  {
   "cell_type": "code",
   "execution_count": 56,
   "id": "c4e067c6",
   "metadata": {
    "execution": {
     "iopub.execute_input": "2025-07-23T15:06:57.994648Z",
     "iopub.status.busy": "2025-07-23T15:06:57.994374Z",
     "iopub.status.idle": "2025-07-23T15:06:58.001145Z",
     "shell.execute_reply": "2025-07-23T15:06:58.000355Z"
    },
    "papermill": {
     "duration": 0.019815,
     "end_time": "2025-07-23T15:06:58.002395",
     "exception": false,
     "start_time": "2025-07-23T15:06:57.982580",
     "status": "completed"
    },
    "tags": []
   },
   "outputs": [
    {
     "data": {
      "text/plain": [
       "accuracy                   0.220410\n",
       "balanced accuracy          0.539764\n",
       "f1                         0.241851\n",
       "precision                  0.138161\n",
       "false positive rate        0.889798\n",
       "false negative rate        0.030674\n",
       "selection rate             0.900000\n",
       "count                  89710.000000\n",
       "dtype: float64"
      ]
     },
     "execution_count": 56,
     "metadata": {},
     "output_type": "execute_result"
    }
   ],
   "source": [
    "metric_frame.overall"
   ]
  },
  {
   "cell_type": "markdown",
   "id": "e968fe9d",
   "metadata": {
    "papermill": {
     "duration": 0.011139,
     "end_time": "2025-07-23T15:06:58.025153",
     "exception": false,
     "start_time": "2025-07-23T15:06:58.014014",
     "status": "completed"
    },
    "tags": []
   },
   "source": [
    "By Group"
   ]
  },
  {
   "cell_type": "code",
   "execution_count": 57,
   "id": "ec325bce",
   "metadata": {
    "execution": {
     "iopub.execute_input": "2025-07-23T15:06:58.048073Z",
     "iopub.status.busy": "2025-07-23T15:06:58.047789Z",
     "iopub.status.idle": "2025-07-23T15:06:58.059317Z",
     "shell.execute_reply": "2025-07-23T15:06:58.058651Z"
    },
    "papermill": {
     "duration": 0.02454,
     "end_time": "2025-07-23T15:06:58.060674",
     "exception": false,
     "start_time": "2025-07-23T15:06:58.036134",
     "status": "completed"
    },
    "tags": []
   },
   "outputs": [
    {
     "data": {
      "text/html": [
       "<div>\n",
       "<style scoped>\n",
       "    .dataframe tbody tr th:only-of-type {\n",
       "        vertical-align: middle;\n",
       "    }\n",
       "\n",
       "    .dataframe tbody tr th {\n",
       "        vertical-align: top;\n",
       "    }\n",
       "\n",
       "    .dataframe thead th {\n",
       "        text-align: right;\n",
       "    }\n",
       "</style>\n",
       "<table border=\"1\" class=\"dataframe\">\n",
       "  <thead>\n",
       "    <tr style=\"text-align: right;\">\n",
       "      <th></th>\n",
       "      <th>accuracy</th>\n",
       "      <th>balanced accuracy</th>\n",
       "      <th>f1</th>\n",
       "      <th>precision</th>\n",
       "      <th>false positive rate</th>\n",
       "      <th>false negative rate</th>\n",
       "      <th>selection rate</th>\n",
       "      <th>count</th>\n",
       "    </tr>\n",
       "    <tr>\n",
       "      <th>majmin</th>\n",
       "      <th></th>\n",
       "      <th></th>\n",
       "      <th></th>\n",
       "      <th></th>\n",
       "      <th></th>\n",
       "      <th></th>\n",
       "      <th></th>\n",
       "      <th></th>\n",
       "    </tr>\n",
       "  </thead>\n",
       "  <tbody>\n",
       "    <tr>\n",
       "      <th>majority</th>\n",
       "      <td>0.244803</td>\n",
       "      <td>0.549791</td>\n",
       "      <td>0.252315</td>\n",
       "      <td>0.145146</td>\n",
       "      <td>0.864751</td>\n",
       "      <td>0.035667</td>\n",
       "      <td>0.877909</td>\n",
       "      <td>69170.0</td>\n",
       "    </tr>\n",
       "    <tr>\n",
       "      <th>minority</th>\n",
       "      <td>0.138267</td>\n",
       "      <td>0.508029</td>\n",
       "      <td>0.209186</td>\n",
       "      <td>0.116968</td>\n",
       "      <td>0.972540</td>\n",
       "      <td>0.011402</td>\n",
       "      <td>0.974391</td>\n",
       "      <td>20540.0</td>\n",
       "    </tr>\n",
       "  </tbody>\n",
       "</table>\n",
       "</div>"
      ],
      "text/plain": [
       "          accuracy  balanced accuracy        f1  precision  \\\n",
       "majmin                                                       \n",
       "majority  0.244803           0.549791  0.252315   0.145146   \n",
       "minority  0.138267           0.508029  0.209186   0.116968   \n",
       "\n",
       "          false positive rate  false negative rate  selection rate    count  \n",
       "majmin                                                                       \n",
       "majority             0.864751             0.035667        0.877909  69170.0  \n",
       "minority             0.972540             0.011402        0.974391  20540.0  "
      ]
     },
     "execution_count": 57,
     "metadata": {},
     "output_type": "execute_result"
    }
   ],
   "source": [
    "metric_frame.by_group"
   ]
  },
  {
   "cell_type": "code",
   "execution_count": 58,
   "id": "a9ddbe63",
   "metadata": {
    "execution": {
     "iopub.execute_input": "2025-07-23T15:06:58.084538Z",
     "iopub.status.busy": "2025-07-23T15:06:58.084254Z",
     "iopub.status.idle": "2025-07-23T15:06:59.649251Z",
     "shell.execute_reply": "2025-07-23T15:06:59.648417Z"
    },
    "papermill": {
     "duration": 1.57808,
     "end_time": "2025-07-23T15:06:59.650432",
     "exception": false,
     "start_time": "2025-07-23T15:06:58.072352",
     "status": "completed"
    },
    "tags": []
   },
   "outputs": [
    {
     "data": {
      "text/plain": [
       "array([[<Axes: title={'center': 'accuracy'}, xlabel='majmin'>,\n",
       "        <Axes: title={'center': 'balanced accuracy'}, xlabel='majmin'>,\n",
       "        <Axes: title={'center': 'f1'}, xlabel='majmin'>],\n",
       "       [<Axes: title={'center': 'precision'}, xlabel='majmin'>,\n",
       "        <Axes: title={'center': 'false positive rate'}, xlabel='majmin'>,\n",
       "        <Axes: title={'center': 'false negative rate'}, xlabel='majmin'>],\n",
       "       [<Axes: title={'center': 'selection rate'}, xlabel='majmin'>,\n",
       "        <Axes: title={'center': 'count'}, xlabel='majmin'>,\n",
       "        <Axes: xlabel='majmin'>]], dtype=object)"
      ]
     },
     "execution_count": 58,
     "metadata": {},
     "output_type": "execute_result"
    },
    {
     "data": {
      "image/png": "[encoded data removed]",
      "text/plain": [
       "<Figure size 1200x800 with 9 Axes>"
      ]
     },
     "metadata": {},
     "output_type": "display_data"
    }
   ],
   "source": [
    "# In a graphic\n",
    "metric_frame.by_group.plot.bar(\n",
    "    subplots=True,\n",
    "    layout=[3, 3],\n",
    "    legend=False,\n",
    "    figsize=[12, 8],\n",
    "    title=\"Show all metrics\",\n",
    ")"
   ]
  },
  {
   "cell_type": "markdown",
   "id": "f57a0bac",
   "metadata": {
    "papermill": {
     "duration": 0.012181,
     "end_time": "2025-07-23T15:06:59.677706",
     "exception": false,
     "start_time": "2025-07-23T15:06:59.665525",
     "status": "completed"
    },
    "tags": []
   },
   "source": [
    "# Final Output"
   ]
  },
  {
   "cell_type": "code",
   "execution_count": 59,
   "id": "96d280a3",
   "metadata": {
    "execution": {
     "iopub.execute_input": "2025-07-23T15:06:59.703215Z",
     "iopub.status.busy": "2025-07-23T15:06:59.702848Z",
     "iopub.status.idle": "2025-07-23T15:06:59.709236Z",
     "shell.execute_reply": "2025-07-23T15:06:59.708426Z"
    },
    "papermill": {
     "duration": 0.020556,
     "end_time": "2025-07-23T15:06:59.710440",
     "exception": false,
     "start_time": "2025-07-23T15:06:59.689884",
     "status": "completed"
    },
    "tags": []
   },
   "outputs": [
    {
     "data": {
      "text/plain": [
       "4"
      ]
     },
     "execution_count": 59,
     "metadata": {},
     "output_type": "execute_result"
    }
   ],
   "source": [
    "sub_universes = universe_analysis.generate_sub_universes()\n",
    "len(sub_universes)"
   ]
  },
  {
   "cell_type": "code",
   "execution_count": 60,
   "id": "92adf7ba",
   "metadata": {
    "execution": {
     "iopub.execute_input": "2025-07-23T15:06:59.736413Z",
     "iopub.status.busy": "2025-07-23T15:06:59.736129Z",
     "iopub.status.idle": "2025-07-23T15:06:59.740548Z",
     "shell.execute_reply": "2025-07-23T15:06:59.739936Z"
    },
    "papermill": {
     "duration": 0.01882,
     "end_time": "2025-07-23T15:06:59.741914",
     "exception": false,
     "start_time": "2025-07-23T15:06:59.723094",
     "status": "completed"
    },
    "tags": []
   },
   "outputs": [],
   "source": [
    "def filter_sub_universe_data(sub_universe, org_test):\n",
    "    # Keep all rows — no filtering\n",
    "    keep_rows_mask = np.ones(org_test.shape[0], dtype=bool)\n",
    "\n",
    "    print(f\"[INFO] Keeping all rows: {keep_rows_mask.sum()} rows retained.\")\n",
    "    return keep_rows_mask"
   ]
  },
  {
   "cell_type": "code",
   "execution_count": 61,
   "id": "4a759155",
   "metadata": {
    "execution": {
     "iopub.execute_input": "2025-07-23T15:06:59.768251Z",
     "iopub.status.busy": "2025-07-23T15:06:59.767963Z",
     "iopub.status.idle": "2025-07-23T15:07:05.390072Z",
     "shell.execute_reply": "2025-07-23T15:07:05.389372Z"
    },
    "papermill": {
     "duration": 5.63643,
     "end_time": "2025-07-23T15:07:05.391322",
     "exception": false,
     "start_time": "2025-07-23T15:06:59.754892",
     "status": "completed"
    },
    "tags": []
   },
   "outputs": [
    {
     "name": "stdout",
     "output_type": "stream",
     "text": [
      "Stopping execution_time clock.\n",
      "[INFO] Keeping all rows: 89710 rows retained.\n"
     ]
    },
    {
     "name": "stdout",
     "output_type": "stream",
     "text": [
      "[INFO] Keeping all rows: 89710 rows retained.\n"
     ]
    },
    {
     "name": "stdout",
     "output_type": "stream",
     "text": [
      "[INFO] Keeping all rows: 89710 rows retained.\n"
     ]
    },
    {
     "name": "stdout",
     "output_type": "stream",
     "text": [
      "[INFO] Keeping all rows: 89710 rows retained.\n"
     ]
    },
    {
     "data": {
      "text/html": [
       "<div>\n",
       "<style scoped>\n",
       "    .dataframe tbody tr th:only-of-type {\n",
       "        vertical-align: middle;\n",
       "    }\n",
       "\n",
       "    .dataframe tbody tr th {\n",
       "        vertical-align: top;\n",
       "    }\n",
       "\n",
       "    .dataframe thead th {\n",
       "        text-align: right;\n",
       "    }\n",
       "</style>\n",
       "<table border=\"1\" class=\"dataframe\">\n",
       "  <thead>\n",
       "    <tr style=\"text-align: right;\">\n",
       "      <th></th>\n",
       "      <th>run_no</th>\n",
       "      <th>universe_id</th>\n",
       "      <th>universe_settings</th>\n",
       "      <th>execution_time</th>\n",
       "      <th>test_size_n</th>\n",
       "      <th>test_size_frac</th>\n",
       "      <th>fair_main_equalized_odds_difference</th>\n",
       "      <th>fair_main_equalized_odds_ratio</th>\n",
       "      <th>fair_main_demographic_parity_difference</th>\n",
       "      <th>fair_main_demographic_parity_ratio</th>\n",
       "      <th>...</th>\n",
       "      <th>perf_grp_precision_0</th>\n",
       "      <th>perf_grp_precision_1</th>\n",
       "      <th>perf_grp_false positive rate_0</th>\n",
       "      <th>perf_grp_false positive rate_1</th>\n",
       "      <th>perf_grp_false negative rate_0</th>\n",
       "      <th>perf_grp_false negative rate_1</th>\n",
       "      <th>perf_grp_selection rate_0</th>\n",
       "      <th>perf_grp_selection rate_1</th>\n",
       "      <th>perf_grp_count_0</th>\n",
       "      <th>perf_grp_count_1</th>\n",
       "    </tr>\n",
       "  </thead>\n",
       "  <tbody>\n",
       "    <tr>\n",
       "      <th>0</th>\n",
       "      <td>9</td>\n",
       "      <td>aab90f968f4c380d738a3d6184711202</td>\n",
       "      <td>{\"cutoff\": \"quantile_0.1\", \"eval_fairness_grou...</td>\n",
       "      <td>1017.336138</td>\n",
       "      <td>89710</td>\n",
       "      <td>1.0</td>\n",
       "      <td>0.107789</td>\n",
       "      <td>0.889167</td>\n",
       "      <td>0.096482</td>\n",
       "      <td>0.900982</td>\n",
       "      <td>...</td>\n",
       "      <td>NaN</td>\n",
       "      <td>NaN</td>\n",
       "      <td>NaN</td>\n",
       "      <td>NaN</td>\n",
       "      <td>NaN</td>\n",
       "      <td>NaN</td>\n",
       "      <td>NaN</td>\n",
       "      <td>NaN</td>\n",
       "      <td>NaN</td>\n",
       "      <td>NaN</td>\n",
       "    </tr>\n",
       "    <tr>\n",
       "      <th>0</th>\n",
       "      <td>9</td>\n",
       "      <td>aab90f968f4c380d738a3d6184711202</td>\n",
       "      <td>{\"cutoff\": \"quantile_0.1\", \"eval_fairness_grou...</td>\n",
       "      <td>1017.336138</td>\n",
       "      <td>89710</td>\n",
       "      <td>1.0</td>\n",
       "      <td>0.107789</td>\n",
       "      <td>0.889167</td>\n",
       "      <td>0.096482</td>\n",
       "      <td>0.900982</td>\n",
       "      <td>...</td>\n",
       "      <td>0.116968</td>\n",
       "      <td>0.145146</td>\n",
       "      <td>0.972540</td>\n",
       "      <td>0.864751</td>\n",
       "      <td>0.011402</td>\n",
       "      <td>0.035667</td>\n",
       "      <td>0.974391</td>\n",
       "      <td>0.877909</td>\n",
       "      <td>20540.0</td>\n",
       "      <td>69170.0</td>\n",
       "    </tr>\n",
       "    <tr>\n",
       "      <th>0</th>\n",
       "      <td>9</td>\n",
       "      <td>aab90f968f4c380d738a3d6184711202</td>\n",
       "      <td>{\"cutoff\": \"quantile_0.25\", \"eval_fairness_gro...</td>\n",
       "      <td>1017.336138</td>\n",
       "      <td>89710</td>\n",
       "      <td>1.0</td>\n",
       "      <td>0.249502</td>\n",
       "      <td>0.728734</td>\n",
       "      <td>0.226879</td>\n",
       "      <td>0.754706</td>\n",
       "      <td>...</td>\n",
       "      <td>NaN</td>\n",
       "      <td>NaN</td>\n",
       "      <td>NaN</td>\n",
       "      <td>NaN</td>\n",
       "      <td>NaN</td>\n",
       "      <td>NaN</td>\n",
       "      <td>NaN</td>\n",
       "      <td>NaN</td>\n",
       "      <td>NaN</td>\n",
       "      <td>NaN</td>\n",
       "    </tr>\n",
       "    <tr>\n",
       "      <th>0</th>\n",
       "      <td>9</td>\n",
       "      <td>aab90f968f4c380d738a3d6184711202</td>\n",
       "      <td>{\"cutoff\": \"quantile_0.25\", \"eval_fairness_gro...</td>\n",
       "      <td>1017.336138</td>\n",
       "      <td>89710</td>\n",
       "      <td>1.0</td>\n",
       "      <td>0.249502</td>\n",
       "      <td>0.728734</td>\n",
       "      <td>0.226879</td>\n",
       "      <td>0.754706</td>\n",
       "      <td>...</td>\n",
       "      <td>0.120223</td>\n",
       "      <td>0.166680</td>\n",
       "      <td>0.919767</td>\n",
       "      <td>0.670265</td>\n",
       "      <td>0.035473</td>\n",
       "      <td>0.119475</td>\n",
       "      <td>0.924927</td>\n",
       "      <td>0.698048</td>\n",
       "      <td>20540.0</td>\n",
       "      <td>69170.0</td>\n",
       "    </tr>\n",
       "  </tbody>\n",
       "</table>\n",
       "<p>4 rows × 50 columns</p>\n",
       "</div>"
      ],
      "text/plain": [
       "  run_no                       universe_id  \\\n",
       "0      9  aab90f968f4c380d738a3d6184711202   \n",
       "0      9  aab90f968f4c380d738a3d6184711202   \n",
       "0      9  aab90f968f4c380d738a3d6184711202   \n",
       "0      9  aab90f968f4c380d738a3d6184711202   \n",
       "\n",
       "                                   universe_settings  execution_time  \\\n",
       "0  {\"cutoff\": \"quantile_0.1\", \"eval_fairness_grou...     1017.336138   \n",
       "0  {\"cutoff\": \"quantile_0.1\", \"eval_fairness_grou...     1017.336138   \n",
       "0  {\"cutoff\": \"quantile_0.25\", \"eval_fairness_gro...     1017.336138   \n",
       "0  {\"cutoff\": \"quantile_0.25\", \"eval_fairness_gro...     1017.336138   \n",
       "\n",
       "   test_size_n  test_size_frac  fair_main_equalized_odds_difference  \\\n",
       "0        89710             1.0                             0.107789   \n",
       "0        89710             1.0                             0.107789   \n",
       "0        89710             1.0                             0.249502   \n",
       "0        89710             1.0                             0.249502   \n",
       "\n",
       "   fair_main_equalized_odds_ratio  fair_main_demographic_parity_difference  \\\n",
       "0                        0.889167                                 0.096482   \n",
       "0                        0.889167                                 0.096482   \n",
       "0                        0.728734                                 0.226879   \n",
       "0                        0.728734                                 0.226879   \n",
       "\n",
       "   fair_main_demographic_parity_ratio  ...  perf_grp_precision_0  \\\n",
       "0                            0.900982  ...                   NaN   \n",
       "0                            0.900982  ...              0.116968   \n",
       "0                            0.754706  ...                   NaN   \n",
       "0                            0.754706  ...              0.120223   \n",
       "\n",
       "   perf_grp_precision_1  perf_grp_false positive rate_0  \\\n",
       "0                   NaN                             NaN   \n",
       "0              0.145146                        0.972540   \n",
       "0                   NaN                             NaN   \n",
       "0              0.166680                        0.919767   \n",
       "\n",
       "   perf_grp_false positive rate_1  perf_grp_false negative rate_0  \\\n",
       "0                             NaN                             NaN   \n",
       "0                        0.864751                        0.011402   \n",
       "0                             NaN                             NaN   \n",
       "0                        0.670265                        0.035473   \n",
       "\n",
       "   perf_grp_false negative rate_1  perf_grp_selection rate_0  \\\n",
       "0                             NaN                        NaN   \n",
       "0                        0.035667                   0.974391   \n",
       "0                             NaN                        NaN   \n",
       "0                        0.119475                   0.924927   \n",
       "\n",
       "   perf_grp_selection rate_1  perf_grp_count_0  perf_grp_count_1  \n",
       "0                        NaN               NaN               NaN  \n",
       "0                   0.877909           20540.0           69170.0  \n",
       "0                        NaN               NaN               NaN  \n",
       "0                   0.698048           20540.0           69170.0  \n",
       "\n",
       "[4 rows x 50 columns]"
      ]
     },
     "execution_count": 61,
     "metadata": {},
     "output_type": "execute_result"
    }
   ],
   "source": [
    "final_output = universe_analysis.generate_final_output(\n",
    "    y_pred_prob=probs_test,\n",
    "    y_test=y_true,\n",
    "    org_test=org_test,\n",
    "    filter_data=filter_sub_universe_data,\n",
    "    cp_metrics_df=cp_metrics_df,\n",
    "    save=True,\n",
    ")\n",
    "final_output"
   ]
  },
  {
   "cell_type": "code",
   "execution_count": null,
   "id": "721ff514-cb11-46f8-b6fc-50392f74b5cb",
   "metadata": {
    "papermill": {
     "duration": 0.012961,
     "end_time": "2025-07-23T15:07:05.420481",
     "exception": false,
     "start_time": "2025-07-23T15:07:05.407520",
     "status": "completed"
    },
    "tags": []
   },
   "outputs": [],
   "source": []
  }
 ],
 "metadata": {
  "celltoolbar": "Tags",
  "kernelspec": {
   "display_name": "Python (CMA Fairness)",
   "language": "python",
   "name": "cma_fair_env"
  },
  "language_info": {
   "codemirror_mode": {
    "name": "ipython",
    "version": 3
   },
   "file_extension": ".py",
   "mimetype": "text/x-python",
   "name": "python",
   "nbconvert_exporter": "python",
   "pygments_lexer": "ipython3",
   "version": "3.10.12"
  },
  "papermill": {
   "default_parameters": {},
   "duration": 1026.990689,
   "end_time": "2025-07-23T15:07:05.949932",
   "environment_variables": {},
   "exception": null,
   "input_path": "universe_analysis.ipynb",
   "output_path": "output/runs/9/notebooks/m_9-aab90f968f4c380d738a3d6184711202.ipynb",
   "parameters": {
    "output_dir": "output",
    "run_no": "9",
    "seed": "2023",
    "universe": "{\"cutoff\": [\"quantile_0.1\", \"quantile_0.25\"], \"eval_fairness_grouping\": [\"majority-minority\", \"nationality-all\"], \"exclude_features\": \"age\", \"exclude_subgroups\": \"keep-all\", \"model\": \"elasticnet\", \"scale\": \"do-not-scale\"}",
    "universe_id": "aab90f968f4c380d738a3d6184711202"
   },
   "start_time": "2025-07-23T14:49:58.959243",
   "version": "2.6.0"
  }
 },
 "nbformat": 4,
 "nbformat_minor": 5
}