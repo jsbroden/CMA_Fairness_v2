{
 "cells": [
  {
   "cell_type": "code",
   "execution_count": 1,
   "id": "f159f837-637b-42ba-96b5-ec9a68c44524",
   "metadata": {
    "execution": {
     "iopub.execute_input": "2025-07-23T14:39:58.476527Z",
     "iopub.status.busy": "2025-07-23T14:39:58.476024Z",
     "iopub.status.idle": "2025-07-23T14:39:58.493516Z",
     "shell.execute_reply": "2025-07-23T14:39:58.492399Z"
    },
    "papermill": {
     "duration": 0.039208,
     "end_time": "2025-07-23T14:39:58.495535",
     "exception": false,
     "start_time": "2025-07-23T14:39:58.456327",
     "status": "completed"
    },
    "tags": []
   },
   "outputs": [
    {
     "name": "stdout",
     "output_type": "stream",
     "text": [
      "/dss/dsshome1/0C/ra93lal2/cma/CMA_Fairness_v2\n"
     ]
    },
    {
     "name": "stderr",
     "output_type": "stream",
     "text": [
      "/dss/dsshome1/0C/ra93lal2/.local/share/virtualenvs/CMA_Fairness_v2-3j10GkSs/lib/python3.10/site-packages/IPython/core/magics/osm.py:393: UserWarning: This is now an optional IPython functionality, using bookmarks requires you to install the `pickleshare` library.\n",
      "  bkms = self.shell.db.get('bookmarks', {})\n",
      "/dss/dsshome1/0C/ra93lal2/.local/share/virtualenvs/CMA_Fairness_v2-3j10GkSs/lib/python3.10/site-packages/IPython/core/magics/osm.py:417: UserWarning: This is now an optional IPython functionality, setting dhist requires you to install the `pickleshare` library.\n",
      "  self.shell.db['dhist'] = compress_dhist(dhist)[-100:]\n"
     ]
    }
   ],
   "source": [
    "%cd ~/cma/CMA_Fairness_v2"
   ]
  },
  {
   "cell_type": "markdown",
   "id": "de2603b9",
   "metadata": {
    "papermill": {
     "duration": 0.018923,
     "end_time": "2025-07-23T14:39:58.533365",
     "exception": false,
     "start_time": "2025-07-23T14:39:58.514442",
     "status": "completed"
    },
    "tags": []
   },
   "source": [
    "The following cell holds the definition of our parameters, these values can be overriden by rendering the with e.g. the following command:\n",
    "\n",
    "papermill -p alpha 0.2 -p ratio 0.3 universe_analysis.ipynb output/test_run.ipynb"
   ]
  },
  {
   "cell_type": "code",
   "execution_count": 2,
   "id": "a80968a0-40bb-4fa9-85ef-2d5eefb01975",
   "metadata": {
    "execution": {
     "iopub.execute_input": "2025-07-23T14:39:58.573144Z",
     "iopub.status.busy": "2025-07-23T14:39:58.572433Z",
     "iopub.status.idle": "2025-07-23T14:39:58.578703Z",
     "shell.execute_reply": "2025-07-23T14:39:58.577298Z"
    },
    "papermill": {
     "duration": 0.028827,
     "end_time": "2025-07-23T14:39:58.580689",
     "exception": false,
     "start_time": "2025-07-23T14:39:58.551862",
     "status": "completed"
    },
    "tags": []
   },
   "outputs": [
    {
     "name": "stdout",
     "output_type": "stream",
     "text": [
      "Current working directory: /dss/dsshome1/0C/ra93lal2/cma/CMA_Fairness_v2\n"
     ]
    }
   ],
   "source": [
    "import os\n",
    "print(\"Current working directory:\", os.getcwd())"
   ]
  },
  {
   "cell_type": "code",
   "execution_count": 3,
   "id": "2dce4c03",
   "metadata": {
    "execution": {
     "iopub.execute_input": "2025-07-23T14:39:58.620896Z",
     "iopub.status.busy": "2025-07-23T14:39:58.619858Z",
     "iopub.status.idle": "2025-07-23T14:39:58.626653Z",
     "shell.execute_reply": "2025-07-23T14:39:58.625556Z"
    },
    "papermill": {
     "duration": 0.029469,
     "end_time": "2025-07-23T14:39:58.628857",
     "exception": false,
     "start_time": "2025-07-23T14:39:58.599388",
     "status": "completed"
    },
    "tags": [
     "parameters"
    ]
   },
   "outputs": [],
   "source": [
    "run_no = 0\n",
    "universe_id = \"test\"\n",
    "universe = {\n",
    "    \"scale\": \"scale\", # \"scale\", \"do-not-scale\",\n",
    "    \"model\": \"elasticnet\", # \"logreg\", \"penalized_logreg\", \"rf\", \"gbm\", \"elasticnet\"\n",
    "    \"cutoff\": [\"quantile_0.15\", \"quantile_0.30\"],\n",
    "    \"exclude_features\": \"age\", # \"none\", \"nationality\", \"sex\", \"nationality-sex\", \"age\"\n",
    "    \"exclude_subgroups\": \"keep-all\", # \"keep-all\", \"drop-non-german\"\n",
    "    #\"training_sample\": \"restricted\", # \"restricted\", \"full\"\n",
    "    \"eval_fairness_grouping\": [\"majority-minority\", \"nationality-all\"]\n",
    "}\n",
    "\n",
    "output_dir=\"./output\"\n",
    "seed=0"
   ]
  },
  {
   "cell_type": "code",
   "execution_count": 4,
   "id": "db083b7d",
   "metadata": {
    "execution": {
     "iopub.execute_input": "2025-07-23T14:39:58.668819Z",
     "iopub.status.busy": "2025-07-23T14:39:58.668058Z",
     "iopub.status.idle": "2025-07-23T14:39:58.674066Z",
     "shell.execute_reply": "2025-07-23T14:39:58.673015Z"
    },
    "papermill": {
     "duration": 0.027379,
     "end_time": "2025-07-23T14:39:58.675788",
     "exception": false,
     "start_time": "2025-07-23T14:39:58.648409",
     "status": "completed"
    },
    "tags": [
     "injected-parameters"
    ]
   },
   "outputs": [],
   "source": [
    "# Parameters\n",
    "universe_id = \"ca322ba46595d9ac0a040419a951f2dc\"\n",
    "run_no = \"9\"\n",
    "universe = \"{\\\"cutoff\\\": [\\\"quantile_0.1\\\", \\\"quantile_0.25\\\"], \\\"eval_fairness_grouping\\\": [\\\"majority-minority\\\", \\\"nationality-all\\\"], \\\"exclude_features\\\": \\\"age\\\", \\\"exclude_subgroups\\\": \\\"keep-all\\\", \\\"model\\\": \\\"gbm\\\", \\\"scale\\\": \\\"do-not-scale\\\"}\"\n",
    "output_dir = \"output\"\n",
    "seed = \"2023\"\n"
   ]
  },
  {
   "cell_type": "code",
   "execution_count": 5,
   "id": "1650acaf",
   "metadata": {
    "execution": {
     "iopub.execute_input": "2025-07-23T14:39:58.715656Z",
     "iopub.status.busy": "2025-07-23T14:39:58.715145Z",
     "iopub.status.idle": "2025-07-23T14:39:58.720266Z",
     "shell.execute_reply": "2025-07-23T14:39:58.719396Z"
    },
    "papermill": {
     "duration": 0.026933,
     "end_time": "2025-07-23T14:39:58.722205",
     "exception": false,
     "start_time": "2025-07-23T14:39:58.695272",
     "status": "completed"
    },
    "tags": []
   },
   "outputs": [],
   "source": [
    "import json\n",
    "# Parse universe into dict if it is passed as a string\n",
    "if isinstance(universe, str):\n",
    "    universe = json.loads(universe)"
   ]
  },
  {
   "cell_type": "code",
   "execution_count": 6,
   "id": "16620c48",
   "metadata": {
    "execution": {
     "iopub.execute_input": "2025-07-23T14:39:58.761353Z",
     "iopub.status.busy": "2025-07-23T14:39:58.760867Z",
     "iopub.status.idle": "2025-07-23T14:39:58.811418Z",
     "shell.execute_reply": "2025-07-23T14:39:58.810429Z"
    },
    "papermill": {
     "duration": 0.072906,
     "end_time": "2025-07-23T14:39:58.813605",
     "exception": false,
     "start_time": "2025-07-23T14:39:58.740699",
     "status": "completed"
    },
    "tags": []
   },
   "outputs": [],
   "source": [
    "# Auto-reload the custom package\n",
    "%load_ext autoreload\n",
    "%autoreload 1\n",
    "%aimport fairness_multiverse"
   ]
  },
  {
   "cell_type": "code",
   "execution_count": 7,
   "id": "01c5c9f3",
   "metadata": {
    "execution": {
     "iopub.execute_input": "2025-07-23T14:39:58.851441Z",
     "iopub.status.busy": "2025-07-23T14:39:58.850912Z",
     "iopub.status.idle": "2025-07-23T14:40:01.016304Z",
     "shell.execute_reply": "2025-07-23T14:40:01.015472Z"
    },
    "papermill": {
     "duration": 2.186387,
     "end_time": "2025-07-23T14:40:01.017857",
     "exception": false,
     "start_time": "2025-07-23T14:39:58.831470",
     "status": "completed"
    },
    "tags": []
   },
   "outputs": [],
   "source": [
    "from fairness_multiverse.universe import UniverseAnalysis\n",
    "\n",
    "universe_analysis = UniverseAnalysis(\n",
    "    run_no = run_no,\n",
    "    universe_id = universe_id,\n",
    "    universe = universe,\n",
    "    output_dir=output_dir,\n",
    ")"
   ]
  },
  {
   "cell_type": "code",
   "execution_count": 8,
   "id": "106241f5",
   "metadata": {
    "execution": {
     "iopub.execute_input": "2025-07-23T14:40:01.038383Z",
     "iopub.status.busy": "2025-07-23T14:40:01.037561Z",
     "iopub.status.idle": "2025-07-23T14:40:01.044545Z",
     "shell.execute_reply": "2025-07-23T14:40:01.043203Z"
    },
    "papermill": {
     "duration": 0.0238,
     "end_time": "2025-07-23T14:40:01.051326",
     "exception": false,
     "start_time": "2025-07-23T14:40:01.027526",
     "status": "completed"
    },
    "tags": []
   },
   "outputs": [
    {
     "name": "stdout",
     "output_type": "stream",
     "text": [
      "Using Seed: 2023\n"
     ]
    }
   ],
   "source": [
    "import numpy as np\n",
    "parsed_seed = int(seed)\n",
    "np.random.seed(parsed_seed)\n",
    "print(f\"Using Seed: {parsed_seed}\")"
   ]
  },
  {
   "cell_type": "markdown",
   "id": "e0ebdc57",
   "metadata": {
    "papermill": {
     "duration": 0.019627,
     "end_time": "2025-07-23T14:40:01.087269",
     "exception": false,
     "start_time": "2025-07-23T14:40:01.067642",
     "status": "completed"
    },
    "tags": []
   },
   "source": [
    "# Loading Data"
   ]
  },
  {
   "cell_type": "markdown",
   "id": "681925a3",
   "metadata": {
    "papermill": {
     "duration": 0.019619,
     "end_time": "2025-07-23T14:40:01.125189",
     "exception": false,
     "start_time": "2025-07-23T14:40:01.105570",
     "status": "completed"
    },
    "tags": []
   },
   "source": [
    "Load siab_train, siab_test, siab_calib and/or \n",
    "load siab_train_features, siab_train_labels"
   ]
  },
  {
   "cell_type": "code",
   "execution_count": 9,
   "id": "f0496b8a",
   "metadata": {
    "execution": {
     "iopub.execute_input": "2025-07-23T14:40:01.163705Z",
     "iopub.status.busy": "2025-07-23T14:40:01.162754Z",
     "iopub.status.idle": "2025-07-23T14:40:01.168742Z",
     "shell.execute_reply": "2025-07-23T14:40:01.167698Z"
    },
    "papermill": {
     "duration": 0.027598,
     "end_time": "2025-07-23T14:40:01.170445",
     "exception": false,
     "start_time": "2025-07-23T14:40:01.142847",
     "status": "completed"
    },
    "tags": []
   },
   "outputs": [],
   "source": [
    "# Do I need to load siab? Delete this cell?\n",
    "\n",
    "#from pathlib import Path\n",
    "#import pandas as pd\n",
    "#\n",
    "## File paths\n",
    "#raw_file = Path(\"data/raw/siab.csv\")\n",
    "#cache_file = Path(\"data/siab_cached.csv.gz\")\n",
    "#\n",
    "## Ensure cache directory exists\n",
    "#cache_file.parent.mkdir(parents=True, exist_ok=True)\n",
    "#\n",
    "## Load with simple caching\n",
    "#if cache_file.exists():\n",
    "#    print(f\"Loading SIAB data from cache: {cache_file}\")\n",
    "#    siab = pd.read_csv(cache_file, compression='gzip')\n",
    "#else:\n",
    "#    print(f\"Cache not found. Reading raw SIAB data: {raw_file}\")\n",
    "#    siab = pd.read_csv(raw_file)\n",
    "#    siab.to_csv(cache_file, index=False, compression='gzip')\n",
    "#    print(f\"Cached SIAB data to: {cache_file}\")\n",
    "#\n",
    "## Now use `siab` DataFrame as needed\n",
    "#print(siab.shape)\n"
   ]
  },
  {
   "cell_type": "code",
   "execution_count": 10,
   "id": "a0edb063",
   "metadata": {
    "execution": {
     "iopub.execute_input": "2025-07-23T14:40:01.211734Z",
     "iopub.status.busy": "2025-07-23T14:40:01.211190Z",
     "iopub.status.idle": "2025-07-23T14:40:02.551188Z",
     "shell.execute_reply": "2025-07-23T14:40:02.550392Z"
    },
    "papermill": {
     "duration": 1.363002,
     "end_time": "2025-07-23T14:40:02.553168",
     "exception": false,
     "start_time": "2025-07-23T14:40:01.190166",
     "status": "completed"
    },
    "tags": []
   },
   "outputs": [],
   "source": [
    "import pandas as pd\n",
    "\n",
    "X_train = pd.read_csv(\"./data/X_train.csv\")\n",
    "y_train = pd.read_csv(\"./data/y_train.csv\")"
   ]
  },
  {
   "cell_type": "code",
   "execution_count": 11,
   "id": "63d08085",
   "metadata": {
    "execution": {
     "iopub.execute_input": "2025-07-23T14:40:02.594868Z",
     "iopub.status.busy": "2025-07-23T14:40:02.594106Z",
     "iopub.status.idle": "2025-07-23T14:40:03.969561Z",
     "shell.execute_reply": "2025-07-23T14:40:03.968768Z"
    },
    "papermill": {
     "duration": 1.397452,
     "end_time": "2025-07-23T14:40:03.971120",
     "exception": false,
     "start_time": "2025-07-23T14:40:02.573668",
     "status": "completed"
    },
    "tags": []
   },
   "outputs": [],
   "source": [
    "X_test = pd.read_csv(\"./data/X_test.csv\")\n",
    "y_true = pd.read_csv(\"./data/y_test.csv\")"
   ]
  },
  {
   "cell_type": "code",
   "execution_count": 12,
   "id": "98a8d0fa-1d3d-4ed8-bb2c-281470e24add",
   "metadata": {
    "execution": {
     "iopub.execute_input": "2025-07-23T14:40:03.992036Z",
     "iopub.status.busy": "2025-07-23T14:40:03.991658Z",
     "iopub.status.idle": "2025-07-23T14:40:05.438966Z",
     "shell.execute_reply": "2025-07-23T14:40:05.437878Z"
    },
    "papermill": {
     "duration": 1.459922,
     "end_time": "2025-07-23T14:40:05.441022",
     "exception": false,
     "start_time": "2025-07-23T14:40:03.981100",
     "status": "completed"
    },
    "tags": []
   },
   "outputs": [],
   "source": [
    "# Calibration data for conformal\n",
    "X_calib = pd.read_csv(\"./data/X_calib.csv\")\n",
    "y_calib = pd.read_csv(\"./data/y_calib.csv\")"
   ]
  },
  {
   "cell_type": "code",
   "execution_count": 13,
   "id": "e6c733c5",
   "metadata": {
    "execution": {
     "iopub.execute_input": "2025-07-23T14:40:05.478010Z",
     "iopub.status.busy": "2025-07-23T14:40:05.477003Z",
     "iopub.status.idle": "2025-07-23T14:40:05.587231Z",
     "shell.execute_reply": "2025-07-23T14:40:05.585945Z"
    },
    "papermill": {
     "duration": 0.13079,
     "end_time": "2025-07-23T14:40:05.589301",
     "exception": false,
     "start_time": "2025-07-23T14:40:05.458511",
     "status": "completed"
    },
    "tags": []
   },
   "outputs": [],
   "source": [
    "# Auxiliary data needed downstream in the pipeline\n",
    "\n",
    "org_train = X_train.copy()\n",
    "org_test = X_test.copy()\n",
    "org_calib = X_calib.copy()"
   ]
  },
  {
   "cell_type": "markdown",
   "id": "0a4a1b33",
   "metadata": {
    "papermill": {
     "duration": 0.018316,
     "end_time": "2025-07-23T14:40:05.625670",
     "exception": false,
     "start_time": "2025-07-23T14:40:05.607354",
     "status": "completed"
    },
    "tags": []
   },
   "source": [
    "# Preprocessing Data"
   ]
  },
  {
   "cell_type": "code",
   "execution_count": 14,
   "id": "ca879031",
   "metadata": {
    "execution": {
     "iopub.execute_input": "2025-07-23T14:40:05.664856Z",
     "iopub.status.busy": "2025-07-23T14:40:05.663894Z",
     "iopub.status.idle": "2025-07-23T14:40:05.673220Z",
     "shell.execute_reply": "2025-07-23T14:40:05.671906Z"
    },
    "papermill": {
     "duration": 0.031137,
     "end_time": "2025-07-23T14:40:05.675245",
     "exception": false,
     "start_time": "2025-07-23T14:40:05.644108",
     "status": "completed"
    },
    "tags": []
   },
   "outputs": [],
   "source": [
    "# EXCLUDE PROTECTED FEATURES\n",
    "# ----------------------\n",
    "# \"exclude_features\": \"none\", # \"nationality\", \"sex\", \"nationality-sex\"\n",
    "\n",
    "excluded_features = universe[\"exclude_features\"].split(\"-\") # split, e.g.: \"nationality-sex\" -> [\"nationality\", \"sex\"]\n",
    "excluded_features_dictionary = {\n",
    "    \"nationality\": [\"maxdeutsch1\", \"maxdeutsch.Missing.\"],\n",
    "    \"sex\": [\"frau1\"],\n",
    "    \"age\": [\"age\"],\n",
    "}\n"
   ]
  },
  {
   "cell_type": "code",
   "execution_count": 15,
   "id": "b745ac60",
   "metadata": {
    "execution": {
     "iopub.execute_input": "2025-07-23T14:40:05.719592Z",
     "iopub.status.busy": "2025-07-23T14:40:05.718572Z",
     "iopub.status.idle": "2025-07-23T14:40:05.725991Z",
     "shell.execute_reply": "2025-07-23T14:40:05.724932Z"
    },
    "papermill": {
     "duration": 0.031981,
     "end_time": "2025-07-23T14:40:05.727900",
     "exception": false,
     "start_time": "2025-07-23T14:40:05.695919",
     "status": "completed"
    },
    "tags": []
   },
   "outputs": [],
   "source": [
    "# Code nice names to column names\n",
    "\n",
    "excluded_features_columns = [\n",
    "    excluded_features_dictionary[f] for f in excluded_features if len(f) > 0 and f != \"none\"\n",
    "]"
   ]
  },
  {
   "cell_type": "code",
   "execution_count": 16,
   "id": "f84f73a2",
   "metadata": {
    "execution": {
     "iopub.execute_input": "2025-07-23T14:40:05.771417Z",
     "iopub.status.busy": "2025-07-23T14:40:05.770269Z",
     "iopub.status.idle": "2025-07-23T14:40:05.777473Z",
     "shell.execute_reply": "2025-07-23T14:40:05.776391Z"
    },
    "papermill": {
     "duration": 0.030186,
     "end_time": "2025-07-23T14:40:05.779348",
     "exception": false,
     "start_time": "2025-07-23T14:40:05.749162",
     "status": "completed"
    },
    "tags": []
   },
   "outputs": [],
   "source": [
    "from utils import flatten_once\n",
    "\n",
    "excluded_features_columns = flatten_once(excluded_features_columns)"
   ]
  },
  {
   "cell_type": "code",
   "execution_count": 17,
   "id": "884dea22",
   "metadata": {
    "execution": {
     "iopub.execute_input": "2025-07-23T14:40:05.822410Z",
     "iopub.status.busy": "2025-07-23T14:40:05.821310Z",
     "iopub.status.idle": "2025-07-23T14:40:05.874701Z",
     "shell.execute_reply": "2025-07-23T14:40:05.873565Z"
    },
    "papermill": {
     "duration": 0.077205,
     "end_time": "2025-07-23T14:40:05.876747",
     "exception": false,
     "start_time": "2025-07-23T14:40:05.799542",
     "status": "completed"
    },
    "tags": []
   },
   "outputs": [
    {
     "name": "stdout",
     "output_type": "stream",
     "text": [
      "Dropping features: ['age']\n"
     ]
    }
   ],
   "source": [
    "if len(excluded_features_columns) > 0:\n",
    "    print(f\"Dropping features: {excluded_features_columns}\")\n",
    "    X_train.drop(excluded_features_columns, axis=1, inplace=True)"
   ]
  },
  {
   "cell_type": "code",
   "execution_count": 18,
   "id": "95ab8b16",
   "metadata": {
    "execution": {
     "iopub.execute_input": "2025-07-23T14:40:05.918395Z",
     "iopub.status.busy": "2025-07-23T14:40:05.917375Z",
     "iopub.status.idle": "2025-07-23T14:40:05.975910Z",
     "shell.execute_reply": "2025-07-23T14:40:05.974672Z"
    },
    "papermill": {
     "duration": 0.081221,
     "end_time": "2025-07-23T14:40:05.978034",
     "exception": false,
     "start_time": "2025-07-23T14:40:05.896813",
     "status": "completed"
    },
    "tags": []
   },
   "outputs": [
    {
     "name": "stdout",
     "output_type": "stream",
     "text": [
      "Dropping features: ['age']\n"
     ]
    }
   ],
   "source": [
    "if len(excluded_features_columns) > 0:\n",
    "    print(f\"Dropping features: {excluded_features_columns}\")\n",
    "    X_test.drop(excluded_features_columns, axis=1, inplace=True)"
   ]
  },
  {
   "cell_type": "code",
   "execution_count": 19,
   "id": "1853aaf5-fb9f-46cb-a2b5-8ea4ae2237e4",
   "metadata": {
    "execution": {
     "iopub.execute_input": "2025-07-23T14:40:06.021330Z",
     "iopub.status.busy": "2025-07-23T14:40:06.020585Z",
     "iopub.status.idle": "2025-07-23T14:40:06.077222Z",
     "shell.execute_reply": "2025-07-23T14:40:06.076309Z"
    },
    "papermill": {
     "duration": 0.079618,
     "end_time": "2025-07-23T14:40:06.078660",
     "exception": false,
     "start_time": "2025-07-23T14:40:05.999042",
     "status": "completed"
    },
    "tags": []
   },
   "outputs": [
    {
     "name": "stdout",
     "output_type": "stream",
     "text": [
      "Dropping features: ['age']\n"
     ]
    }
   ],
   "source": [
    "if len(excluded_features_columns) > 0:\n",
    "    print(f\"Dropping features: {excluded_features_columns}\")\n",
    "    X_calib.drop(excluded_features_columns, axis=1, inplace=True)"
   ]
  },
  {
   "cell_type": "code",
   "execution_count": 20,
   "id": "76c4dc6d",
   "metadata": {
    "execution": {
     "iopub.execute_input": "2025-07-23T14:40:06.103266Z",
     "iopub.status.busy": "2025-07-23T14:40:06.102743Z",
     "iopub.status.idle": "2025-07-23T14:40:06.108924Z",
     "shell.execute_reply": "2025-07-23T14:40:06.107717Z"
    },
    "papermill": {
     "duration": 0.021318,
     "end_time": "2025-07-23T14:40:06.110859",
     "exception": false,
     "start_time": "2025-07-23T14:40:06.089541",
     "status": "completed"
    },
    "tags": []
   },
   "outputs": [],
   "source": [
    "# EXCLUDE CERTAIN SUBGROUPS\n",
    "# ----------------------\n",
    "\n",
    "mode = universe.get(\"exclude_subgroups\", \"keep-all\") \n",
    "# Fetches the exclude_subgroups setting from the universe dict.\n",
    "# Defaults to \"keep-all\" if the key is missing."
   ]
  },
  {
   "cell_type": "code",
   "execution_count": 21,
   "id": "21994072",
   "metadata": {
    "execution": {
     "iopub.execute_input": "2025-07-23T14:40:06.153356Z",
     "iopub.status.busy": "2025-07-23T14:40:06.152315Z",
     "iopub.status.idle": "2025-07-23T14:40:06.160359Z",
     "shell.execute_reply": "2025-07-23T14:40:06.159348Z"
    },
    "papermill": {
     "duration": 0.030967,
     "end_time": "2025-07-23T14:40:06.162262",
     "exception": false,
     "start_time": "2025-07-23T14:40:06.131295",
     "status": "completed"
    },
    "tags": []
   },
   "outputs": [],
   "source": [
    "if mode == \"keep-all\":\n",
    "    keep_mask = pd.Series(True, index=org_train.index)\n",
    "\n",
    "# org_train contains the original feature columns from features_org (in Simson)\n",
    "# features_org contains unprocessed features, for me X_train at beginning ???\n",
    "# For keep-all, creates a boolean Series (keep_mask) of all True, so no rows are removed.\n",
    "\n",
    "elif mode == \"drop-non-german\":\n",
    "    keep_mask = org_train[\"maxdeutsch1\"] == 1 # ??? what about missing values?\n",
    "\n",
    "else:\n",
    "    raise ValueError(f\"Unsupported mode for exclude_subgroups: {mode}\")\n"
   ]
  },
  {
   "cell_type": "code",
   "execution_count": 22,
   "id": "71651440",
   "metadata": {
    "execution": {
     "iopub.execute_input": "2025-07-23T14:40:06.202690Z",
     "iopub.status.busy": "2025-07-23T14:40:06.201656Z",
     "iopub.status.idle": "2025-07-23T14:40:06.209360Z",
     "shell.execute_reply": "2025-07-23T14:40:06.208194Z"
    },
    "papermill": {
     "duration": 0.029684,
     "end_time": "2025-07-23T14:40:06.211164",
     "exception": false,
     "start_time": "2025-07-23T14:40:06.181480",
     "status": "completed"
    },
    "tags": []
   },
   "outputs": [],
   "source": [
    "n_drop = (~keep_mask).sum() # Calculates how many rows are set to be dropped\n",
    "if n_drop > 0:\n",
    "    pct = n_drop / len(keep_mask) * 100\n",
    "    print(f\"Dropping {n_drop} rows ({pct:.2f}%) where mode='{mode}'\")"
   ]
  },
  {
   "cell_type": "code",
   "execution_count": 23,
   "id": "5fb8eee5",
   "metadata": {
    "execution": {
     "iopub.execute_input": "2025-07-23T14:40:06.251633Z",
     "iopub.status.busy": "2025-07-23T14:40:06.250970Z",
     "iopub.status.idle": "2025-07-23T14:40:06.312711Z",
     "shell.execute_reply": "2025-07-23T14:40:06.311667Z"
    },
    "papermill": {
     "duration": 0.083235,
     "end_time": "2025-07-23T14:40:06.314720",
     "exception": false,
     "start_time": "2025-07-23T14:40:06.231485",
     "status": "completed"
    },
    "tags": []
   },
   "outputs": [],
   "source": [
    "X_train = X_train[keep_mask]"
   ]
  },
  {
   "cell_type": "code",
   "execution_count": 24,
   "id": "b202bb3a",
   "metadata": {
    "execution": {
     "iopub.execute_input": "2025-07-23T14:40:06.356127Z",
     "iopub.status.busy": "2025-07-23T14:40:06.355145Z",
     "iopub.status.idle": "2025-07-23T14:40:06.364463Z",
     "shell.execute_reply": "2025-07-23T14:40:06.363327Z"
    },
    "papermill": {
     "duration": 0.033191,
     "end_time": "2025-07-23T14:40:06.366531",
     "exception": false,
     "start_time": "2025-07-23T14:40:06.333340",
     "status": "completed"
    },
    "tags": []
   },
   "outputs": [],
   "source": [
    "y_train = y_train[keep_mask]"
   ]
  },
  {
   "cell_type": "markdown",
   "id": "493e2ac3",
   "metadata": {
    "papermill": {
     "duration": 0.023445,
     "end_time": "2025-07-23T14:40:06.412124",
     "exception": false,
     "start_time": "2025-07-23T14:40:06.388679",
     "status": "completed"
    },
    "tags": []
   },
   "source": [
    "# Model Training"
   ]
  },
  {
   "cell_type": "code",
   "execution_count": 25,
   "id": "679e1268",
   "metadata": {
    "execution": {
     "iopub.execute_input": "2025-07-23T14:40:06.461969Z",
     "iopub.status.busy": "2025-07-23T14:40:06.460939Z",
     "iopub.status.idle": "2025-07-23T14:40:06.576066Z",
     "shell.execute_reply": "2025-07-23T14:40:06.574955Z"
    },
    "papermill": {
     "duration": 0.140328,
     "end_time": "2025-07-23T14:40:06.578367",
     "exception": false,
     "start_time": "2025-07-23T14:40:06.438039",
     "status": "completed"
    },
    "tags": []
   },
   "outputs": [],
   "source": [
    "from sklearn.linear_model import LogisticRegression\n",
    "from sklearn.ensemble import GradientBoostingClassifier, RandomForestClassifier\n",
    "\n",
    "if (universe[\"model\"] == \"logreg\"):\n",
    "    model = LogisticRegression() #penalty=\"none\") #, solver=\"newton-cg\", max_iter=1) # include random_state=19 ?\n",
    "elif (universe[\"model\"] == \"penalized_logreg\"):\n",
    "    model = LogisticRegression(penalty=\"l2\", C=1.0) #, solver=\"newton-cg\", max_iter=1)\n",
    "elif (universe[\"model\"] == \"rf\"):\n",
    "    model = RandomForestClassifier(n_estimators=100, n_jobs=-1)\n",
    "elif (universe[\"model\"] == \"gbm\"):\n",
    "    model = GradientBoostingClassifier()\n",
    "elif (universe[\"model\"] == \"elasticnet\"):\n",
    "    model = LogisticRegression(penalty = 'elasticnet', solver = 'saga', l1_ratio = 0.5, max_iter=5000) # which solver to use?\n",
    "else:\n",
    "    raise \"Unsupported universe.model\""
   ]
  },
  {
   "cell_type": "code",
   "execution_count": 26,
   "id": "0cc8f744",
   "metadata": {
    "execution": {
     "iopub.execute_input": "2025-07-23T14:40:06.622799Z",
     "iopub.status.busy": "2025-07-23T14:40:06.622076Z",
     "iopub.status.idle": "2025-07-23T14:40:06.628741Z",
     "shell.execute_reply": "2025-07-23T14:40:06.627611Z"
    },
    "papermill": {
     "duration": 0.030733,
     "end_time": "2025-07-23T14:40:06.630637",
     "exception": false,
     "start_time": "2025-07-23T14:40:06.599904",
     "status": "completed"
    },
    "tags": []
   },
   "outputs": [],
   "source": [
    "import numpy as np\n",
    "from sklearn.pipeline import Pipeline\n",
    "from sklearn.preprocessing import StandardScaler\n",
    "\n",
    "model = Pipeline([\n",
    "    #(\"continuous_processor\", continuous_processor),\n",
    "    #(\"categorical_preprocessor\", categorical_preprocessor),\n",
    "    (\"scale\", StandardScaler() if universe[\"scale\"] == \"scale\" else None), \n",
    "    (\"model\", model),\n",
    "])"
   ]
  },
  {
   "cell_type": "code",
   "execution_count": 27,
   "id": "9442c04d",
   "metadata": {
    "execution": {
     "iopub.execute_input": "2025-07-23T14:40:06.674744Z",
     "iopub.status.busy": "2025-07-23T14:40:06.674226Z",
     "iopub.status.idle": "2025-07-23T14:41:24.454965Z",
     "shell.execute_reply": "2025-07-23T14:41:24.453584Z"
    },
    "papermill": {
     "duration": 77.814843,
     "end_time": "2025-07-23T14:41:24.466976",
     "exception": false,
     "start_time": "2025-07-23T14:40:06.652133",
     "status": "completed"
    },
    "tags": []
   },
   "outputs": [
    {
     "data": {
      "text/html": [
       "<style>#sk-container-id-1 {color: black;background-color: white;}#sk-container-id-1 pre{padding: 0;}#sk-container-id-1 div.sk-toggleable {background-color: white;}#sk-container-id-1 label.sk-toggleable__label {cursor: pointer;display: block;width: 100%;margin-bottom: 0;padding: 0.3em;box-sizing: border-box;text-align: center;}#sk-container-id-1 label.sk-toggleable__label-arrow:before {content: \"▸\";float: left;margin-right: 0.25em;color: #696969;}#sk-container-id-1 label.sk-toggleable__label-arrow:hover:before {color: black;}#sk-container-id-1 div.sk-estimator:hover label.sk-toggleable__label-arrow:before {color: black;}#sk-container-id-1 div.sk-toggleable__content {max-height: 0;max-width: 0;overflow: hidden;text-align: left;background-color: #f0f8ff;}#sk-container-id-1 div.sk-toggleable__content pre {margin: 0.2em;color: black;border-radius: 0.25em;background-color: #f0f8ff;}#sk-container-id-1 input.sk-toggleable__control:checked~div.sk-toggleable__content {max-height: 200px;max-width: 100%;overflow: auto;}#sk-container-id-1 input.sk-toggleable__control:checked~label.sk-toggleable__label-arrow:before {content: \"▾\";}#sk-container-id-1 div.sk-estimator input.sk-toggleable__control:checked~label.sk-toggleable__label {background-color: #d4ebff;}#sk-container-id-1 div.sk-label input.sk-toggleable__control:checked~label.sk-toggleable__label {background-color: #d4ebff;}#sk-container-id-1 input.sk-hidden--visually {border: 0;clip: rect(1px 1px 1px 1px);clip: rect(1px, 1px, 1px, 1px);height: 1px;margin: -1px;overflow: hidden;padding: 0;position: absolute;width: 1px;}#sk-container-id-1 div.sk-estimator {font-family: monospace;background-color: #f0f8ff;border: 1px dotted black;border-radius: 0.25em;box-sizing: border-box;margin-bottom: 0.5em;}#sk-container-id-1 div.sk-estimator:hover {background-color: #d4ebff;}#sk-container-id-1 div.sk-parallel-item::after {content: \"\";width: 100%;border-bottom: 1px solid gray;flex-grow: 1;}#sk-container-id-1 div.sk-label:hover label.sk-toggleable__label {background-color: #d4ebff;}#sk-container-id-1 div.sk-serial::before {content: \"\";position: absolute;border-left: 1px solid gray;box-sizing: border-box;top: 0;bottom: 0;left: 50%;z-index: 0;}#sk-container-id-1 div.sk-serial {display: flex;flex-direction: column;align-items: center;background-color: white;padding-right: 0.2em;padding-left: 0.2em;position: relative;}#sk-container-id-1 div.sk-item {position: relative;z-index: 1;}#sk-container-id-1 div.sk-parallel {display: flex;align-items: stretch;justify-content: center;background-color: white;position: relative;}#sk-container-id-1 div.sk-item::before, #sk-container-id-1 div.sk-parallel-item::before {content: \"\";position: absolute;border-left: 1px solid gray;box-sizing: border-box;top: 0;bottom: 0;left: 50%;z-index: -1;}#sk-container-id-1 div.sk-parallel-item {display: flex;flex-direction: column;z-index: 1;position: relative;background-color: white;}#sk-container-id-1 div.sk-parallel-item:first-child::after {align-self: flex-end;width: 50%;}#sk-container-id-1 div.sk-parallel-item:last-child::after {align-self: flex-start;width: 50%;}#sk-container-id-1 div.sk-parallel-item:only-child::after {width: 0;}#sk-container-id-1 div.sk-dashed-wrapped {border: 1px dashed gray;margin: 0 0.4em 0.5em 0.4em;box-sizing: border-box;padding-bottom: 0.4em;background-color: white;}#sk-container-id-1 div.sk-label label {font-family: monospace;font-weight: bold;display: inline-block;line-height: 1.2em;}#sk-container-id-1 div.sk-label-container {text-align: center;}#sk-container-id-1 div.sk-container {/* jupyter's `normalize.less` sets `[hidden] { display: none; }` but bootstrap.min.css set `[hidden] { display: none !important; }` so we also need the `!important` here to be able to override the default hidden behavior on the sphinx rendered scikit-learn.org. See: https://github.com/scikit-learn/scikit-learn/issues/21755 */display: inline-block !important;position: relative;}#sk-container-id-1 div.sk-text-repr-fallback {display: none;}</style><div id=\"sk-container-id-1\" class=\"sk-top-container\"><div class=\"sk-text-repr-fallback\"><pre>Pipeline(steps=[(&#x27;scale&#x27;, None), (&#x27;model&#x27;, GradientBoostingClassifier())])</pre><b>In a Jupyter environment, please rerun this cell to show the HTML representation or trust the notebook. <br />On GitHub, the HTML representation is unable to render, please try loading this page with nbviewer.org.</b></div><div class=\"sk-container\" hidden><div class=\"sk-item sk-dashed-wrapped\"><div class=\"sk-label-container\"><div class=\"sk-label sk-toggleable\"><input class=\"sk-toggleable__control sk-hidden--visually\" id=\"sk-estimator-id-1\" type=\"checkbox\" ><label for=\"sk-estimator-id-1\" class=\"sk-toggleable__label sk-toggleable__label-arrow\">Pipeline</label><div class=\"sk-toggleable__content\"><pre>Pipeline(steps=[(&#x27;scale&#x27;, None), (&#x27;model&#x27;, GradientBoostingClassifier())])</pre></div></div></div><div class=\"sk-serial\"><div class=\"sk-item\"><div class=\"sk-estimator sk-toggleable\"><input class=\"sk-toggleable__control sk-hidden--visually\" id=\"sk-estimator-id-2\" type=\"checkbox\" ><label for=\"sk-estimator-id-2\" class=\"sk-toggleable__label sk-toggleable__label-arrow\">None</label><div class=\"sk-toggleable__content\"><pre>None</pre></div></div></div><div class=\"sk-item\"><div class=\"sk-estimator sk-toggleable\"><input class=\"sk-toggleable__control sk-hidden--visually\" id=\"sk-estimator-id-3\" type=\"checkbox\" ><label for=\"sk-estimator-id-3\" class=\"sk-toggleable__label sk-toggleable__label-arrow\">GradientBoostingClassifier</label><div class=\"sk-toggleable__content\"><pre>GradientBoostingClassifier()</pre></div></div></div></div></div></div></div>"
      ],
      "text/plain": [
       "Pipeline(steps=[('scale', None), ('model', GradientBoostingClassifier())])"
      ]
     },
     "execution_count": 27,
     "metadata": {},
     "output_type": "execute_result"
    }
   ],
   "source": [
    "model.fit(X_train, y_train.values.ravel())"
   ]
  },
  {
   "cell_type": "code",
   "execution_count": 28,
   "id": "af59f8c0",
   "metadata": {
    "execution": {
     "iopub.execute_input": "2025-07-23T14:41:24.490953Z",
     "iopub.status.busy": "2025-07-23T14:41:24.490218Z",
     "iopub.status.idle": "2025-07-23T14:41:24.495671Z",
     "shell.execute_reply": "2025-07-23T14:41:24.494707Z"
    },
    "papermill": {
     "duration": 0.019165,
     "end_time": "2025-07-23T14:41:24.497194",
     "exception": false,
     "start_time": "2025-07-23T14:41:24.478029",
     "status": "completed"
    },
    "tags": []
   },
   "outputs": [],
   "source": [
    "from fairness_multiverse.universe import predict_w_threshold"
   ]
  },
  {
   "cell_type": "code",
   "execution_count": 29,
   "id": "a7cf2e16",
   "metadata": {
    "execution": {
     "iopub.execute_input": "2025-07-23T14:41:24.521825Z",
     "iopub.status.busy": "2025-07-23T14:41:24.521269Z",
     "iopub.status.idle": "2025-07-23T14:41:25.054262Z",
     "shell.execute_reply": "2025-07-23T14:41:25.053475Z"
    },
    "papermill": {
     "duration": 0.546549,
     "end_time": "2025-07-23T14:41:25.055590",
     "exception": false,
     "start_time": "2025-07-23T14:41:24.509041",
     "status": "completed"
    },
    "tags": []
   },
   "outputs": [
    {
     "data": {
      "text/plain": [
       "0.870538401515996"
      ]
     },
     "execution_count": 29,
     "metadata": {},
     "output_type": "execute_result"
    }
   ],
   "source": [
    "probs_test = model.predict_proba(X_test)\n",
    "\n",
    "'''\n",
    "Below code returns a boolean array (or binary 0/1 array depending on how it’s used) where each element \n",
    "is True if the probability of class 1 is greater than or equal to the threshold, and False otherwise.\n",
    "'''\n",
    "y_pred_default = predict_w_threshold(probs_test, 0.5)\n",
    "\n",
    "from sklearn.metrics import accuracy_score\n",
    "\n",
    "# Naive prediction\n",
    "accuracy_score(y_true = y_true, y_pred = y_pred_default)"
   ]
  },
  {
   "cell_type": "code",
   "execution_count": 30,
   "id": "081964c3",
   "metadata": {
    "execution": {
     "iopub.execute_input": "2025-07-23T14:41:25.079892Z",
     "iopub.status.busy": "2025-07-23T14:41:25.079334Z",
     "iopub.status.idle": "2025-07-23T14:41:25.577615Z",
     "shell.execute_reply": "2025-07-23T14:41:25.576643Z"
    },
    "papermill": {
     "duration": 0.512095,
     "end_time": "2025-07-23T14:41:25.579125",
     "exception": false,
     "start_time": "2025-07-23T14:41:25.067030",
     "status": "completed"
    },
    "tags": []
   },
   "outputs": [
    {
     "data": {
      "text/plain": [
       "array([0, 0, 0, ..., 0, 0, 0])"
      ]
     },
     "execution_count": 30,
     "metadata": {},
     "output_type": "execute_result"
    }
   ],
   "source": [
    "model.predict(X_test)"
   ]
  },
  {
   "cell_type": "markdown",
   "id": "56c9705b",
   "metadata": {
    "papermill": {
     "duration": 0.010442,
     "end_time": "2025-07-23T14:41:25.603069",
     "exception": false,
     "start_time": "2025-07-23T14:41:25.592627",
     "status": "completed"
    },
    "tags": []
   },
   "source": [
    "# Conformal Prediction"
   ]
  },
  {
   "cell_type": "code",
   "execution_count": 31,
   "id": "160ec6ff",
   "metadata": {
    "execution": {
     "iopub.execute_input": "2025-07-23T14:41:25.625900Z",
     "iopub.status.busy": "2025-07-23T14:41:25.625249Z",
     "iopub.status.idle": "2025-07-23T14:41:25.630481Z",
     "shell.execute_reply": "2025-07-23T14:41:25.629640Z"
    },
    "papermill": {
     "duration": 0.018484,
     "end_time": "2025-07-23T14:41:25.631974",
     "exception": false,
     "start_time": "2025-07-23T14:41:25.613490",
     "status": "completed"
    },
    "tags": []
   },
   "outputs": [],
   "source": [
    "# Miscoverage level for conformal prediction (10% allowed error rate => 90% target coverage)\n",
    "alpha = 0.1"
   ]
  },
  {
   "cell_type": "code",
   "execution_count": 32,
   "id": "eadf4555-3dd3-440e-8e35-f82a4ad9f855",
   "metadata": {
    "execution": {
     "iopub.execute_input": "2025-07-23T14:41:25.655581Z",
     "iopub.status.busy": "2025-07-23T14:41:25.654883Z",
     "iopub.status.idle": "2025-07-23T14:41:26.073706Z",
     "shell.execute_reply": "2025-07-23T14:41:26.072921Z"
    },
    "papermill": {
     "duration": 0.43182,
     "end_time": "2025-07-23T14:41:26.075329",
     "exception": false,
     "start_time": "2025-07-23T14:41:25.643509",
     "status": "completed"
    },
    "tags": []
   },
   "outputs": [],
   "source": [
    "probs_calib = model.predict_proba(X_calib)"
   ]
  },
  {
   "cell_type": "code",
   "execution_count": 33,
   "id": "2ed93547-6d5d-4983-9b36-1ecb300da49a",
   "metadata": {
    "execution": {
     "iopub.execute_input": "2025-07-23T14:41:26.098374Z",
     "iopub.status.busy": "2025-07-23T14:41:26.098017Z",
     "iopub.status.idle": "2025-07-23T14:41:26.103357Z",
     "shell.execute_reply": "2025-07-23T14:41:26.102550Z"
    },
    "papermill": {
     "duration": 0.018058,
     "end_time": "2025-07-23T14:41:26.104744",
     "exception": false,
     "start_time": "2025-07-23T14:41:26.086686",
     "status": "completed"
    },
    "tags": []
   },
   "outputs": [],
   "source": [
    "y_calib = y_calib.values.ravel().astype(int)"
   ]
  },
  {
   "cell_type": "code",
   "execution_count": 34,
   "id": "65d1320d-f588-4b38-9072-62af1ae97f7d",
   "metadata": {
    "execution": {
     "iopub.execute_input": "2025-07-23T14:41:26.128352Z",
     "iopub.status.busy": "2025-07-23T14:41:26.127846Z",
     "iopub.status.idle": "2025-07-23T14:41:26.134569Z",
     "shell.execute_reply": "2025-07-23T14:41:26.133832Z"
    },
    "papermill": {
     "duration": 0.019514,
     "end_time": "2025-07-23T14:41:26.135938",
     "exception": false,
     "start_time": "2025-07-23T14:41:26.116424",
     "status": "completed"
    },
    "tags": []
   },
   "outputs": [],
   "source": [
    "from fairness_multiverse.conformal import compute_nc_scores\n",
    "\n",
    "# Compute nonconformity scores on calibration set (1 - probability of true class)\n",
    "nc_scores = compute_nc_scores(probs_calib, y_calib)"
   ]
  },
  {
   "cell_type": "code",
   "execution_count": 35,
   "id": "df3b8ca3-53b7-43d5-9667-7c85da7aeda2",
   "metadata": {
    "execution": {
     "iopub.execute_input": "2025-07-23T14:41:26.159302Z",
     "iopub.status.busy": "2025-07-23T14:41:26.158711Z",
     "iopub.status.idle": "2025-07-23T14:41:26.164908Z",
     "shell.execute_reply": "2025-07-23T14:41:26.164034Z"
    },
    "papermill": {
     "duration": 0.019059,
     "end_time": "2025-07-23T14:41:26.166306",
     "exception": false,
     "start_time": "2025-07-23T14:41:26.147247",
     "status": "completed"
    },
    "tags": []
   },
   "outputs": [],
   "source": [
    "from fairness_multiverse.conformal import find_threshold\n",
    "\n",
    "# Find conformal threshold q_hat for the given alpha (split conformal method)\n",
    "q_hat = find_threshold(nc_scores, alpha)"
   ]
  },
  {
   "cell_type": "code",
   "execution_count": 36,
   "id": "4d29e6c1-0ef6-4aa4-b8fe-4fe79b0d033a",
   "metadata": {
    "execution": {
     "iopub.execute_input": "2025-07-23T14:41:26.189785Z",
     "iopub.status.busy": "2025-07-23T14:41:26.189204Z",
     "iopub.status.idle": "2025-07-23T14:41:26.195985Z",
     "shell.execute_reply": "2025-07-23T14:41:26.195251Z"
    },
    "papermill": {
     "duration": 0.019799,
     "end_time": "2025-07-23T14:41:26.197509",
     "exception": false,
     "start_time": "2025-07-23T14:41:26.177710",
     "status": "completed"
    },
    "tags": []
   },
   "outputs": [
    {
     "data": {
      "text/plain": [
       "0.6775934178813017"
      ]
     },
     "execution_count": 36,
     "metadata": {},
     "output_type": "execute_result"
    }
   ],
   "source": [
    "q_hat"
   ]
  },
  {
   "cell_type": "code",
   "execution_count": 37,
   "id": "92460794-cdac-4be2-ba28-f28c0515a6fb",
   "metadata": {
    "execution": {
     "iopub.execute_input": "2025-07-23T14:41:26.221487Z",
     "iopub.status.busy": "2025-07-23T14:41:26.220756Z",
     "iopub.status.idle": "2025-07-23T14:41:27.164051Z",
     "shell.execute_reply": "2025-07-23T14:41:27.163224Z"
    },
    "papermill": {
     "duration": 0.956539,
     "end_time": "2025-07-23T14:41:27.165631",
     "exception": false,
     "start_time": "2025-07-23T14:41:26.209092",
     "status": "completed"
    },
    "tags": []
   },
   "outputs": [],
   "source": [
    "from fairness_multiverse.conformal import predict_conformal_sets\n",
    "\n",
    "# Generate prediction sets for each test example\n",
    "pred_sets = predict_conformal_sets(model, X_test, q_hat)"
   ]
  },
  {
   "cell_type": "code",
   "execution_count": 38,
   "id": "d90c9a65-e6db-4f5d-80cd-e68fb7e46829",
   "metadata": {
    "execution": {
     "iopub.execute_input": "2025-07-23T14:41:27.189907Z",
     "iopub.status.busy": "2025-07-23T14:41:27.189167Z",
     "iopub.status.idle": "2025-07-23T14:41:27.194532Z",
     "shell.execute_reply": "2025-07-23T14:41:27.193699Z"
    },
    "papermill": {
     "duration": 0.018357,
     "end_time": "2025-07-23T14:41:27.195854",
     "exception": false,
     "start_time": "2025-07-23T14:41:27.177497",
     "status": "completed"
    },
    "tags": []
   },
   "outputs": [],
   "source": [
    "y_true = y_true.squeeze()"
   ]
  },
  {
   "cell_type": "code",
   "execution_count": 39,
   "id": "3a58a54a-1e68-46b9-927a-df01f18aebc8",
   "metadata": {
    "execution": {
     "iopub.execute_input": "2025-07-23T14:41:27.220114Z",
     "iopub.status.busy": "2025-07-23T14:41:27.219531Z",
     "iopub.status.idle": "2025-07-23T14:41:28.013840Z",
     "shell.execute_reply": "2025-07-23T14:41:28.012952Z"
    },
    "papermill": {
     "duration": 0.807768,
     "end_time": "2025-07-23T14:41:28.015525",
     "exception": false,
     "start_time": "2025-07-23T14:41:27.207757",
     "status": "completed"
    },
    "tags": []
   },
   "outputs": [],
   "source": [
    "from fairness_multiverse.conformal import evaluate_sets\n",
    "\n",
    "# Evaluate coverage and average set size on test data\n",
    "metrics = evaluate_sets(pred_sets, y_true)"
   ]
  },
  {
   "cell_type": "code",
   "execution_count": 40,
   "id": "5ce0a5cb-201f-45a0-ade5-94c7f0bd6095",
   "metadata": {
    "execution": {
     "iopub.execute_input": "2025-07-23T14:41:28.040392Z",
     "iopub.status.busy": "2025-07-23T14:41:28.040007Z",
     "iopub.status.idle": "2025-07-23T14:41:28.046871Z",
     "shell.execute_reply": "2025-07-23T14:41:28.045834Z"
    },
    "papermill": {
     "duration": 0.020482,
     "end_time": "2025-07-23T14:41:28.048420",
     "exception": false,
     "start_time": "2025-07-23T14:41:28.027938",
     "status": "completed"
    },
    "tags": []
   },
   "outputs": [
    {
     "data": {
      "text/plain": [
       "{'coverage': 0.9106454129974362, 'avg_size': 1.11456916731691}"
      ]
     },
     "execution_count": 40,
     "metadata": {},
     "output_type": "execute_result"
    }
   ],
   "source": [
    "metrics"
   ]
  },
  {
   "cell_type": "code",
   "execution_count": 41,
   "id": "9b9a838d-31c9-430b-ae14-12baee460d17",
   "metadata": {
    "execution": {
     "iopub.execute_input": "2025-07-23T14:41:28.074011Z",
     "iopub.status.busy": "2025-07-23T14:41:28.073458Z",
     "iopub.status.idle": "2025-07-23T14:41:28.078975Z",
     "shell.execute_reply": "2025-07-23T14:41:28.078109Z"
    },
    "papermill": {
     "duration": 0.01984,
     "end_time": "2025-07-23T14:41:28.080576",
     "exception": false,
     "start_time": "2025-07-23T14:41:28.060736",
     "status": "completed"
    },
    "tags": []
   },
   "outputs": [],
   "source": [
    "example_universe = universe.copy()\n",
    "universe_model = example_universe.get(\"model\")\n",
    "universe_exclude_features = example_universe.get(\"exclude_features\")\n",
    "universe_exclude_subgroups = example_universe.get(\"exclude_subgroups\")\n",
    "universe_scale = example_universe.get(\"scale\")"
   ]
  },
  {
   "cell_type": "code",
   "execution_count": 42,
   "id": "f4b6a8ac-9dc0-4245-8a91-5b3b5999c4f9",
   "metadata": {
    "execution": {
     "iopub.execute_input": "2025-07-23T14:41:28.106315Z",
     "iopub.status.busy": "2025-07-23T14:41:28.105532Z",
     "iopub.status.idle": "2025-07-23T14:41:28.111523Z",
     "shell.execute_reply": "2025-07-23T14:41:28.110731Z"
    },
    "papermill": {
     "duration": 0.020031,
     "end_time": "2025-07-23T14:41:28.112973",
     "exception": false,
     "start_time": "2025-07-23T14:41:28.092942",
     "status": "completed"
    },
    "tags": []
   },
   "outputs": [],
   "source": [
    "cp_metrics_dict = {\n",
    "    \"universe_id\": [universe_id],\n",
    "    \"universe_model\": [universe_model],\n",
    "    \"universe_exclude_features\": [universe_exclude_features],\n",
    "    \"universe_exclude_subgroups\": [universe_exclude_subgroups],\n",
    "    \"universe_scale\": [universe_scale],\n",
    "    \"q_hat\": [q_hat],\n",
    "    \"coverage\": [metrics[\"coverage\"]],\n",
    "    \"avg_size\": [metrics[\"avg_size\"]],\n",
    "}"
   ]
  },
  {
   "cell_type": "code",
   "execution_count": 43,
   "id": "908acbb1-0371-4915-85ca-3fa520d2efe2",
   "metadata": {
    "execution": {
     "iopub.execute_input": "2025-07-23T14:41:28.138604Z",
     "iopub.status.busy": "2025-07-23T14:41:28.138051Z",
     "iopub.status.idle": "2025-07-23T14:41:28.145476Z",
     "shell.execute_reply": "2025-07-23T14:41:28.144601Z"
    },
    "papermill": {
     "duration": 0.021178,
     "end_time": "2025-07-23T14:41:28.146912",
     "exception": false,
     "start_time": "2025-07-23T14:41:28.125734",
     "status": "completed"
    },
    "tags": []
   },
   "outputs": [
    {
     "data": {
      "text/plain": [
       "{'universe_id': ['ca322ba46595d9ac0a040419a951f2dc'],\n",
       " 'universe_model': ['gbm'],\n",
       " 'universe_exclude_features': ['age'],\n",
       " 'universe_exclude_subgroups': ['keep-all'],\n",
       " 'universe_scale': ['do-not-scale'],\n",
       " 'q_hat': [0.6775934178813017],\n",
       " 'coverage': [0.9106454129974362],\n",
       " 'avg_size': [1.11456916731691]}"
      ]
     },
     "execution_count": 43,
     "metadata": {},
     "output_type": "execute_result"
    }
   ],
   "source": [
    "cp_metrics_dict"
   ]
  },
  {
   "cell_type": "code",
   "execution_count": 44,
   "id": "33007efc-14e9-4ec6-97ac-56a455c82265",
   "metadata": {
    "execution": {
     "iopub.execute_input": "2025-07-23T14:41:28.172062Z",
     "iopub.status.busy": "2025-07-23T14:41:28.171283Z",
     "iopub.status.idle": "2025-07-23T14:41:28.177167Z",
     "shell.execute_reply": "2025-07-23T14:41:28.176309Z"
    },
    "papermill": {
     "duration": 0.019649,
     "end_time": "2025-07-23T14:41:28.178623",
     "exception": false,
     "start_time": "2025-07-23T14:41:28.158974",
     "status": "completed"
    },
    "tags": []
   },
   "outputs": [],
   "source": [
    "cp_metrics_df = pd.DataFrame(cp_metrics_dict)"
   ]
  },
  {
   "cell_type": "code",
   "execution_count": 45,
   "id": "db12611b-57b2-4910-b9d0-355adfd6e7bf",
   "metadata": {
    "execution": {
     "iopub.execute_input": "2025-07-23T14:41:28.204621Z",
     "iopub.status.busy": "2025-07-23T14:41:28.204038Z",
     "iopub.status.idle": "2025-07-23T14:41:28.218784Z",
     "shell.execute_reply": "2025-07-23T14:41:28.217973Z"
    },
    "papermill": {
     "duration": 0.02948,
     "end_time": "2025-07-23T14:41:28.220397",
     "exception": false,
     "start_time": "2025-07-23T14:41:28.190917",
     "status": "completed"
    },
    "tags": []
   },
   "outputs": [
    {
     "data": {
      "text/html": [
       "<div>\n",
       "<style scoped>\n",
       "    .dataframe tbody tr th:only-of-type {\n",
       "        vertical-align: middle;\n",
       "    }\n",
       "\n",
       "    .dataframe tbody tr th {\n",
       "        vertical-align: top;\n",
       "    }\n",
       "\n",
       "    .dataframe thead th {\n",
       "        text-align: right;\n",
       "    }\n",
       "</style>\n",
       "<table border=\"1\" class=\"dataframe\">\n",
       "  <thead>\n",
       "    <tr style=\"text-align: right;\">\n",
       "      <th></th>\n",
       "      <th>universe_id</th>\n",
       "      <th>universe_model</th>\n",
       "      <th>universe_exclude_features</th>\n",
       "      <th>universe_exclude_subgroups</th>\n",
       "      <th>universe_scale</th>\n",
       "      <th>q_hat</th>\n",
       "      <th>coverage</th>\n",
       "      <th>avg_size</th>\n",
       "    </tr>\n",
       "  </thead>\n",
       "  <tbody>\n",
       "    <tr>\n",
       "      <th>0</th>\n",
       "      <td>ca322ba46595d9ac0a040419a951f2dc</td>\n",
       "      <td>gbm</td>\n",
       "      <td>age</td>\n",
       "      <td>keep-all</td>\n",
       "      <td>do-not-scale</td>\n",
       "      <td>0.677593</td>\n",
       "      <td>0.910645</td>\n",
       "      <td>1.114569</td>\n",
       "    </tr>\n",
       "  </tbody>\n",
       "</table>\n",
       "</div>"
      ],
      "text/plain": [
       "                        universe_id universe_model universe_exclude_features  \\\n",
       "0  ca322ba46595d9ac0a040419a951f2dc            gbm                       age   \n",
       "\n",
       "  universe_exclude_subgroups universe_scale     q_hat  coverage  avg_size  \n",
       "0                   keep-all   do-not-scale  0.677593  0.910645  1.114569  "
      ]
     },
     "execution_count": 45,
     "metadata": {},
     "output_type": "execute_result"
    }
   ],
   "source": [
    "cp_metrics_df"
   ]
  },
  {
   "cell_type": "code",
   "execution_count": 46,
   "id": "b7fbde55-a0a1-47e4-9af6-fe4a17fa8c61",
   "metadata": {
    "execution": {
     "iopub.execute_input": "2025-07-23T14:41:28.259342Z",
     "iopub.status.busy": "2025-07-23T14:41:28.258874Z",
     "iopub.status.idle": "2025-07-23T14:41:28.264544Z",
     "shell.execute_reply": "2025-07-23T14:41:28.263559Z"
    },
    "papermill": {
     "duration": 0.032045,
     "end_time": "2025-07-23T14:41:28.266604",
     "exception": false,
     "start_time": "2025-07-23T14:41:28.234559",
     "status": "completed"
    },
    "tags": []
   },
   "outputs": [],
   "source": [
    "# Conditional Coverage & looking at subgroups"
   ]
  },
  {
   "cell_type": "code",
   "execution_count": 47,
   "id": "027ae886-68dd-4141-96c7-805a5450e1ef",
   "metadata": {
    "execution": {
     "iopub.execute_input": "2025-07-23T14:41:28.302847Z",
     "iopub.status.busy": "2025-07-23T14:41:28.302429Z",
     "iopub.status.idle": "2025-07-23T14:41:28.485997Z",
     "shell.execute_reply": "2025-07-23T14:41:28.485168Z"
    },
    "papermill": {
     "duration": 0.199097,
     "end_time": "2025-07-23T14:41:28.487618",
     "exception": false,
     "start_time": "2025-07-23T14:41:28.288521",
     "status": "completed"
    },
    "tags": []
   },
   "outputs": [],
   "source": [
    "from fairness_multiverse.conformal import build_cp_groups\n",
    "\n",
    "cp_groups_df = build_cp_groups(pred_sets, y_true, X_test.index, org_test)\n",
    "#needs universe_id and setting"
   ]
  },
  {
   "cell_type": "code",
   "execution_count": 48,
   "id": "c3b92545-903e-4839-89af-0f057907d7d6",
   "metadata": {
    "execution": {
     "iopub.execute_input": "2025-07-23T14:41:28.513136Z",
     "iopub.status.busy": "2025-07-23T14:41:28.512771Z",
     "iopub.status.idle": "2025-07-23T14:41:29.605579Z",
     "shell.execute_reply": "2025-07-23T14:41:29.604715Z"
    },
    "papermill": {
     "duration": 1.106817,
     "end_time": "2025-07-23T14:41:29.607126",
     "exception": false,
     "start_time": "2025-07-23T14:41:28.500309",
     "status": "completed"
    },
    "tags": []
   },
   "outputs": [],
   "source": [
    "# Define covered = 1 if true_label is in the predicted set\n",
    "cp_groups_df['covered'] = cp_groups_df.apply(\n",
    "    lambda r: int(r['true_label'] in r['pred_set']),\n",
    "    axis=1\n",
    ")"
   ]
  },
  {
   "cell_type": "code",
   "execution_count": 49,
   "id": "338ff529-1a6b-4b87-a931-8e4788d52aad",
   "metadata": {
    "execution": {
     "iopub.execute_input": "2025-07-23T14:41:29.634604Z",
     "iopub.status.busy": "2025-07-23T14:41:29.633699Z",
     "iopub.status.idle": "2025-07-23T14:41:29.638648Z",
     "shell.execute_reply": "2025-07-23T14:41:29.637762Z"
    },
    "papermill": {
     "duration": 0.020329,
     "end_time": "2025-07-23T14:41:29.640251",
     "exception": false,
     "start_time": "2025-07-23T14:41:29.619922",
     "status": "completed"
    },
    "tags": []
   },
   "outputs": [],
   "source": [
    "#cp_groups_df"
   ]
  },
  {
   "cell_type": "code",
   "execution_count": 50,
   "id": "90032e27-66df-4540-9169-4e89cfbaa758",
   "metadata": {
    "execution": {
     "iopub.execute_input": "2025-07-23T14:41:29.667734Z",
     "iopub.status.busy": "2025-07-23T14:41:29.667177Z",
     "iopub.status.idle": "2025-07-23T14:41:29.677511Z",
     "shell.execute_reply": "2025-07-23T14:41:29.676660Z"
    },
    "papermill": {
     "duration": 0.025425,
     "end_time": "2025-07-23T14:41:29.679114",
     "exception": false,
     "start_time": "2025-07-23T14:41:29.653689",
     "status": "completed"
    },
    "tags": []
   },
   "outputs": [],
   "source": [
    "subgroups = ['frau1','nongerman','nongerman_male','nongerman_female']\n",
    "\n",
    "# Conditional coverage for subgroup==1\n",
    "cond_coverage = {\n",
    "    g: cp_groups_df.loc[cp_groups_df[g]==1, 'covered'].mean()\n",
    "    for g in subgroups\n",
    "}"
   ]
  },
  {
   "cell_type": "code",
   "execution_count": 51,
   "id": "1e348fb1-b9c3-45bc-ba23-f016827a7e0d",
   "metadata": {
    "execution": {
     "iopub.execute_input": "2025-07-23T14:41:29.706062Z",
     "iopub.status.busy": "2025-07-23T14:41:29.705509Z",
     "iopub.status.idle": "2025-07-23T14:41:29.712550Z",
     "shell.execute_reply": "2025-07-23T14:41:29.711613Z"
    },
    "papermill": {
     "duration": 0.022093,
     "end_time": "2025-07-23T14:41:29.714054",
     "exception": false,
     "start_time": "2025-07-23T14:41:29.691961",
     "status": "completed"
    },
    "tags": []
   },
   "outputs": [
    {
     "data": {
      "text/plain": [
       "{'frau1': 0.9112279282922227,\n",
       " 'nongerman': 0.9087183517655645,\n",
       " 'nongerman_male': 0.9252454291632892,\n",
       " 'nongerman_female': 0.881371087928465}"
      ]
     },
     "execution_count": 51,
     "metadata": {},
     "output_type": "execute_result"
    }
   ],
   "source": [
    "cond_coverage"
   ]
  },
  {
   "cell_type": "code",
   "execution_count": 52,
   "id": "f5093324-c3dd-4d63-bc4c-8d945e5c8bbb",
   "metadata": {
    "execution": {
     "iopub.execute_input": "2025-07-23T14:41:29.742148Z",
     "iopub.status.busy": "2025-07-23T14:41:29.741239Z",
     "iopub.status.idle": "2025-07-23T14:41:29.747883Z",
     "shell.execute_reply": "2025-07-23T14:41:29.747099Z"
    },
    "papermill": {
     "duration": 0.02235,
     "end_time": "2025-07-23T14:41:29.749561",
     "exception": false,
     "start_time": "2025-07-23T14:41:29.727211",
     "status": "completed"
    },
    "tags": []
   },
   "outputs": [],
   "source": [
    "for subgroup, cov in cond_coverage.items():\n",
    "    cp_metrics_df[f\"cov_{subgroup}\"] = cov"
   ]
  },
  {
   "cell_type": "code",
   "execution_count": 53,
   "id": "6e872e10-dbe5-49e8-b554-5030c98ff75d",
   "metadata": {
    "execution": {
     "iopub.execute_input": "2025-07-23T14:41:29.777302Z",
     "iopub.status.busy": "2025-07-23T14:41:29.776703Z",
     "iopub.status.idle": "2025-07-23T14:41:29.792133Z",
     "shell.execute_reply": "2025-07-23T14:41:29.791272Z"
    },
    "papermill": {
     "duration": 0.030771,
     "end_time": "2025-07-23T14:41:29.793734",
     "exception": false,
     "start_time": "2025-07-23T14:41:29.762963",
     "status": "completed"
    },
    "tags": []
   },
   "outputs": [
    {
     "data": {
      "text/html": [
       "<div>\n",
       "<style scoped>\n",
       "    .dataframe tbody tr th:only-of-type {\n",
       "        vertical-align: middle;\n",
       "    }\n",
       "\n",
       "    .dataframe tbody tr th {\n",
       "        vertical-align: top;\n",
       "    }\n",
       "\n",
       "    .dataframe thead th {\n",
       "        text-align: right;\n",
       "    }\n",
       "</style>\n",
       "<table border=\"1\" class=\"dataframe\">\n",
       "  <thead>\n",
       "    <tr style=\"text-align: right;\">\n",
       "      <th></th>\n",
       "      <th>universe_id</th>\n",
       "      <th>universe_model</th>\n",
       "      <th>universe_exclude_features</th>\n",
       "      <th>universe_exclude_subgroups</th>\n",
       "      <th>universe_scale</th>\n",
       "      <th>q_hat</th>\n",
       "      <th>coverage</th>\n",
       "      <th>avg_size</th>\n",
       "      <th>cov_frau1</th>\n",
       "      <th>cov_nongerman</th>\n",
       "      <th>cov_nongerman_male</th>\n",
       "      <th>cov_nongerman_female</th>\n",
       "    </tr>\n",
       "  </thead>\n",
       "  <tbody>\n",
       "    <tr>\n",
       "      <th>0</th>\n",
       "      <td>ca322ba46595d9ac0a040419a951f2dc</td>\n",
       "      <td>gbm</td>\n",
       "      <td>age</td>\n",
       "      <td>keep-all</td>\n",
       "      <td>do-not-scale</td>\n",
       "      <td>0.677593</td>\n",
       "      <td>0.910645</td>\n",
       "      <td>1.114569</td>\n",
       "      <td>0.911228</td>\n",
       "      <td>0.908718</td>\n",
       "      <td>0.925245</td>\n",
       "      <td>0.881371</td>\n",
       "    </tr>\n",
       "  </tbody>\n",
       "</table>\n",
       "</div>"
      ],
      "text/plain": [
       "                        universe_id universe_model universe_exclude_features  \\\n",
       "0  ca322ba46595d9ac0a040419a951f2dc            gbm                       age   \n",
       "\n",
       "  universe_exclude_subgroups universe_scale     q_hat  coverage  avg_size  \\\n",
       "0                   keep-all   do-not-scale  0.677593  0.910645  1.114569   \n",
       "\n",
       "   cov_frau1  cov_nongerman  cov_nongerman_male  cov_nongerman_female  \n",
       "0   0.911228       0.908718            0.925245              0.881371  "
      ]
     },
     "execution_count": 53,
     "metadata": {},
     "output_type": "execute_result"
    }
   ],
   "source": [
    "cp_metrics_df"
   ]
  },
  {
   "cell_type": "markdown",
   "id": "33774451",
   "metadata": {
    "papermill": {
     "duration": 0.012922,
     "end_time": "2025-07-23T14:41:29.820025",
     "exception": false,
     "start_time": "2025-07-23T14:41:29.807103",
     "status": "completed"
    },
    "tags": []
   },
   "source": [
    "# (Fairness) Metrics"
   ]
  },
  {
   "cell_type": "code",
   "execution_count": 54,
   "id": "debc5d62",
   "metadata": {
    "execution": {
     "iopub.execute_input": "2025-07-23T14:41:29.847899Z",
     "iopub.status.busy": "2025-07-23T14:41:29.847323Z",
     "iopub.status.idle": "2025-07-23T14:41:29.863378Z",
     "shell.execute_reply": "2025-07-23T14:41:29.862546Z"
    },
    "papermill": {
     "duration": 0.03156,
     "end_time": "2025-07-23T14:41:29.864990",
     "exception": false,
     "start_time": "2025-07-23T14:41:29.833430",
     "status": "completed"
    },
    "tags": []
   },
   "outputs": [],
   "source": [
    "# do I need to include maxdeutsch1.missing?\n",
    "\n",
    "import numpy as np\n",
    "\n",
    "colname_to_bin = \"maxdeutsch1\"\n",
    "majority_value = org_train[colname_to_bin].mode()[0]\n",
    "\n",
    "org_test[\"majmin\"] = np.where(org_test[colname_to_bin] == majority_value, \"majority\", \"minority\")"
   ]
  },
  {
   "cell_type": "code",
   "execution_count": 55,
   "id": "06a50de5",
   "metadata": {
    "execution": {
     "iopub.execute_input": "2025-07-23T14:41:29.892822Z",
     "iopub.status.busy": "2025-07-23T14:41:29.892227Z",
     "iopub.status.idle": "2025-07-23T14:41:32.901736Z",
     "shell.execute_reply": "2025-07-23T14:41:32.900682Z"
    },
    "papermill": {
     "duration": 3.025438,
     "end_time": "2025-07-23T14:41:32.903572",
     "exception": false,
     "start_time": "2025-07-23T14:41:29.878134",
     "status": "completed"
    },
    "tags": []
   },
   "outputs": [],
   "source": [
    "example_universe = universe.copy()\n",
    "example_universe[\"cutoff\"] = example_universe[\"cutoff\"][0]\n",
    "example_universe[\"eval_fairness_grouping\"] = example_universe[\"eval_fairness_grouping\"][0]\n",
    "fairness_dict, metric_frame = universe_analysis.compute_metrics(\n",
    "    example_universe,\n",
    "    y_pred_prob=probs_test,\n",
    "    y_test=y_true,\n",
    "    org_test=org_test,\n",
    ")"
   ]
  },
  {
   "cell_type": "markdown",
   "id": "f95d4e02",
   "metadata": {
    "papermill": {
     "duration": 0.021076,
     "end_time": "2025-07-23T14:41:32.948800",
     "exception": false,
     "start_time": "2025-07-23T14:41:32.927724",
     "status": "completed"
    },
    "tags": []
   },
   "source": [
    "# Overall"
   ]
  },
  {
   "cell_type": "markdown",
   "id": "bdee4871",
   "metadata": {
    "papermill": {
     "duration": 0.020892,
     "end_time": "2025-07-23T14:41:32.990690",
     "exception": false,
     "start_time": "2025-07-23T14:41:32.969798",
     "status": "completed"
    },
    "tags": []
   },
   "source": [
    "Fairness\n",
    "Main fairness target: Equalized Odds. Seems to be a better fit than equal opportunity, since we're not only interested in Y = 1. Seems to be a better fit than demographic parity, since we also care about accuracy, not just equal distribution of preds.\n",
    "\n",
    "Pick column for computation of fairness metrics\n",
    "\n",
    "Performance\n",
    "Overall performance measures, most interesting in relation to the measures split by group below"
   ]
  },
  {
   "cell_type": "code",
   "execution_count": 56,
   "id": "c4e067c6",
   "metadata": {
    "execution": {
     "iopub.execute_input": "2025-07-23T14:41:33.035005Z",
     "iopub.status.busy": "2025-07-23T14:41:33.034287Z",
     "iopub.status.idle": "2025-07-23T14:41:33.044586Z",
     "shell.execute_reply": "2025-07-23T14:41:33.043511Z"
    },
    "papermill": {
     "duration": 0.034526,
     "end_time": "2025-07-23T14:41:33.046326",
     "exception": false,
     "start_time": "2025-07-23T14:41:33.011800",
     "status": "completed"
    },
    "tags": []
   },
   "outputs": [
    {
     "data": {
      "text/plain": [
       "accuracy                   0.225672\n",
       "balanced accuracy          0.551600\n",
       "f1                         0.247000\n",
       "precision                  0.141102\n",
       "false positive rate        0.886806\n",
       "false negative rate        0.009993\n",
       "selection rate             0.900045\n",
       "count                  89710.000000\n",
       "dtype: float64"
      ]
     },
     "execution_count": 56,
     "metadata": {},
     "output_type": "execute_result"
    }
   ],
   "source": [
    "metric_frame.overall"
   ]
  },
  {
   "cell_type": "markdown",
   "id": "e968fe9d",
   "metadata": {
    "papermill": {
     "duration": 0.022391,
     "end_time": "2025-07-23T14:41:33.091801",
     "exception": false,
     "start_time": "2025-07-23T14:41:33.069410",
     "status": "completed"
    },
    "tags": []
   },
   "source": [
    "By Group"
   ]
  },
  {
   "cell_type": "code",
   "execution_count": 57,
   "id": "ec325bce",
   "metadata": {
    "execution": {
     "iopub.execute_input": "2025-07-23T14:41:33.138401Z",
     "iopub.status.busy": "2025-07-23T14:41:33.137703Z",
     "iopub.status.idle": "2025-07-23T14:41:33.156228Z",
     "shell.execute_reply": "2025-07-23T14:41:33.155397Z"
    },
    "papermill": {
     "duration": 0.044267,
     "end_time": "2025-07-23T14:41:33.157993",
     "exception": false,
     "start_time": "2025-07-23T14:41:33.113726",
     "status": "completed"
    },
    "tags": []
   },
   "outputs": [
    {
     "data": {
      "text/html": [
       "<div>\n",
       "<style scoped>\n",
       "    .dataframe tbody tr th:only-of-type {\n",
       "        vertical-align: middle;\n",
       "    }\n",
       "\n",
       "    .dataframe tbody tr th {\n",
       "        vertical-align: top;\n",
       "    }\n",
       "\n",
       "    .dataframe thead th {\n",
       "        text-align: right;\n",
       "    }\n",
       "</style>\n",
       "<table border=\"1\" class=\"dataframe\">\n",
       "  <thead>\n",
       "    <tr style=\"text-align: right;\">\n",
       "      <th></th>\n",
       "      <th>accuracy</th>\n",
       "      <th>balanced accuracy</th>\n",
       "      <th>f1</th>\n",
       "      <th>precision</th>\n",
       "      <th>false positive rate</th>\n",
       "      <th>false negative rate</th>\n",
       "      <th>selection rate</th>\n",
       "      <th>count</th>\n",
       "    </tr>\n",
       "    <tr>\n",
       "      <th>majmin</th>\n",
       "      <th></th>\n",
       "      <th></th>\n",
       "      <th></th>\n",
       "      <th></th>\n",
       "      <th></th>\n",
       "      <th></th>\n",
       "      <th></th>\n",
       "      <th></th>\n",
       "    </tr>\n",
       "  </thead>\n",
       "  <tbody>\n",
       "    <tr>\n",
       "      <th>majority</th>\n",
       "      <td>0.241188</td>\n",
       "      <td>0.558282</td>\n",
       "      <td>0.256253</td>\n",
       "      <td>0.147190</td>\n",
       "      <td>0.872714</td>\n",
       "      <td>0.010722</td>\n",
       "      <td>0.888116</td>\n",
       "      <td>69170.0</td>\n",
       "    </tr>\n",
       "    <tr>\n",
       "      <th>minority</th>\n",
       "      <td>0.173418</td>\n",
       "      <td>0.529731</td>\n",
       "      <td>0.216882</td>\n",
       "      <td>0.121738</td>\n",
       "      <td>0.933359</td>\n",
       "      <td>0.007179</td>\n",
       "      <td>0.940214</td>\n",
       "      <td>20540.0</td>\n",
       "    </tr>\n",
       "  </tbody>\n",
       "</table>\n",
       "</div>"
      ],
      "text/plain": [
       "          accuracy  balanced accuracy        f1  precision  \\\n",
       "majmin                                                       \n",
       "majority  0.241188           0.558282  0.256253   0.147190   \n",
       "minority  0.173418           0.529731  0.216882   0.121738   \n",
       "\n",
       "          false positive rate  false negative rate  selection rate    count  \n",
       "majmin                                                                       \n",
       "majority             0.872714             0.010722        0.888116  69170.0  \n",
       "minority             0.933359             0.007179        0.940214  20540.0  "
      ]
     },
     "execution_count": 57,
     "metadata": {},
     "output_type": "execute_result"
    }
   ],
   "source": [
    "metric_frame.by_group"
   ]
  },
  {
   "cell_type": "code",
   "execution_count": 58,
   "id": "a9ddbe63",
   "metadata": {
    "execution": {
     "iopub.execute_input": "2025-07-23T14:41:33.205232Z",
     "iopub.status.busy": "2025-07-23T14:41:33.204321Z",
     "iopub.status.idle": "2025-07-23T14:41:35.846541Z",
     "shell.execute_reply": "2025-07-23T14:41:35.845511Z"
    },
    "papermill": {
     "duration": 2.667731,
     "end_time": "2025-07-23T14:41:35.848243",
     "exception": false,
     "start_time": "2025-07-23T14:41:33.180512",
     "status": "completed"
    },
    "tags": []
   },
   "outputs": [
    {
     "data": {
      "text/plain": [
       "array([[<Axes: title={'center': 'accuracy'}, xlabel='majmin'>,\n",
       "        <Axes: title={'center': 'balanced accuracy'}, xlabel='majmin'>,\n",
       "        <Axes: title={'center': 'f1'}, xlabel='majmin'>],\n",
       "       [<Axes: title={'center': 'precision'}, xlabel='majmin'>,\n",
       "        <Axes: title={'center': 'false positive rate'}, xlabel='majmin'>,\n",
       "        <Axes: title={'center': 'false negative rate'}, xlabel='majmin'>],\n",
       "       [<Axes: title={'center': 'selection rate'}, xlabel='majmin'>,\n",
       "        <Axes: title={'center': 'count'}, xlabel='majmin'>,\n",
       "        <Axes: xlabel='majmin'>]], dtype=object)"
      ]
     },
     "execution_count": 58,
     "metadata": {},
     "output_type": "execute_result"
    },
    {
     "data": {
      "image/png": "[encoded data removed]",
      "text/plain": [
       "<Figure size 1200x800 with 9 Axes>"
      ]
     },
     "metadata": {},
     "output_type": "display_data"
    }
   ],
   "source": [
    "# In a graphic\n",
    "metric_frame.by_group.plot.bar(\n",
    "    subplots=True,\n",
    "    layout=[3, 3],\n",
    "    legend=False,\n",
    "    figsize=[12, 8],\n",
    "    title=\"Show all metrics\",\n",
    ")"
   ]
  },
  {
   "cell_type": "markdown",
   "id": "f57a0bac",
   "metadata": {
    "papermill": {
     "duration": 0.02329,
     "end_time": "2025-07-23T14:41:35.895670",
     "exception": false,
     "start_time": "2025-07-23T14:41:35.872380",
     "status": "completed"
    },
    "tags": []
   },
   "source": [
    "# Final Output"
   ]
  },
  {
   "cell_type": "code",
   "execution_count": 59,
   "id": "96d280a3",
   "metadata": {
    "execution": {
     "iopub.execute_input": "2025-07-23T14:41:35.945024Z",
     "iopub.status.busy": "2025-07-23T14:41:35.944267Z",
     "iopub.status.idle": "2025-07-23T14:41:35.953686Z",
     "shell.execute_reply": "2025-07-23T14:41:35.952605Z"
    },
    "papermill": {
     "duration": 0.035972,
     "end_time": "2025-07-23T14:41:35.955240",
     "exception": false,
     "start_time": "2025-07-23T14:41:35.919268",
     "status": "completed"
    },
    "tags": []
   },
   "outputs": [
    {
     "data": {
      "text/plain": [
       "4"
      ]
     },
     "execution_count": 59,
     "metadata": {},
     "output_type": "execute_result"
    }
   ],
   "source": [
    "sub_universes = universe_analysis.generate_sub_universes()\n",
    "len(sub_universes)"
   ]
  },
  {
   "cell_type": "code",
   "execution_count": 60,
   "id": "92adf7ba",
   "metadata": {
    "execution": {
     "iopub.execute_input": "2025-07-23T14:41:36.005545Z",
     "iopub.status.busy": "2025-07-23T14:41:36.004467Z",
     "iopub.status.idle": "2025-07-23T14:41:36.011698Z",
     "shell.execute_reply": "2025-07-23T14:41:36.010676Z"
    },
    "papermill": {
     "duration": 0.03416,
     "end_time": "2025-07-23T14:41:36.013467",
     "exception": false,
     "start_time": "2025-07-23T14:41:35.979307",
     "status": "completed"
    },
    "tags": []
   },
   "outputs": [],
   "source": [
    "def filter_sub_universe_data(sub_universe, org_test):\n",
    "    # Keep all rows — no filtering\n",
    "    keep_rows_mask = np.ones(org_test.shape[0], dtype=bool)\n",
    "\n",
    "    print(f\"[INFO] Keeping all rows: {keep_rows_mask.sum()} rows retained.\")\n",
    "    return keep_rows_mask"
   ]
  },
  {
   "cell_type": "code",
   "execution_count": 61,
   "id": "4a759155",
   "metadata": {
    "execution": {
     "iopub.execute_input": "2025-07-23T14:41:36.063363Z",
     "iopub.status.busy": "2025-07-23T14:41:36.062505Z",
     "iopub.status.idle": "2025-07-23T14:41:46.134976Z",
     "shell.execute_reply": "2025-07-23T14:41:46.134062Z"
    },
    "papermill": {
     "duration": 10.098922,
     "end_time": "2025-07-23T14:41:46.136655",
     "exception": false,
     "start_time": "2025-07-23T14:41:36.037733",
     "status": "completed"
    },
    "tags": []
   },
   "outputs": [
    {
     "name": "stdout",
     "output_type": "stream",
     "text": [
      "Stopping execution_time clock.\n",
      "[INFO] Keeping all rows: 89710 rows retained.\n"
     ]
    },
    {
     "name": "stdout",
     "output_type": "stream",
     "text": [
      "[INFO] Keeping all rows: 89710 rows retained.\n"
     ]
    },
    {
     "name": "stdout",
     "output_type": "stream",
     "text": [
      "[INFO] Keeping all rows: 89710 rows retained.\n"
     ]
    },
    {
     "name": "stdout",
     "output_type": "stream",
     "text": [
      "[INFO] Keeping all rows: 89710 rows retained.\n"
     ]
    },
    {
     "data": {
      "text/html": [
       "<div>\n",
       "<style scoped>\n",
       "    .dataframe tbody tr th:only-of-type {\n",
       "        vertical-align: middle;\n",
       "    }\n",
       "\n",
       "    .dataframe tbody tr th {\n",
       "        vertical-align: top;\n",
       "    }\n",
       "\n",
       "    .dataframe thead th {\n",
       "        text-align: right;\n",
       "    }\n",
       "</style>\n",
       "<table border=\"1\" class=\"dataframe\">\n",
       "  <thead>\n",
       "    <tr style=\"text-align: right;\">\n",
       "      <th></th>\n",
       "      <th>run_no</th>\n",
       "      <th>universe_id</th>\n",
       "      <th>universe_settings</th>\n",
       "      <th>execution_time</th>\n",
       "      <th>test_size_n</th>\n",
       "      <th>test_size_frac</th>\n",
       "      <th>fair_main_equalized_odds_difference</th>\n",
       "      <th>fair_main_equalized_odds_ratio</th>\n",
       "      <th>fair_main_demographic_parity_difference</th>\n",
       "      <th>fair_main_demographic_parity_ratio</th>\n",
       "      <th>...</th>\n",
       "      <th>perf_grp_precision_0</th>\n",
       "      <th>perf_grp_precision_1</th>\n",
       "      <th>perf_grp_false positive rate_0</th>\n",
       "      <th>perf_grp_false positive rate_1</th>\n",
       "      <th>perf_grp_false negative rate_0</th>\n",
       "      <th>perf_grp_false negative rate_1</th>\n",
       "      <th>perf_grp_selection rate_0</th>\n",
       "      <th>perf_grp_selection rate_1</th>\n",
       "      <th>perf_grp_count_0</th>\n",
       "      <th>perf_grp_count_1</th>\n",
       "    </tr>\n",
       "  </thead>\n",
       "  <tbody>\n",
       "    <tr>\n",
       "      <th>0</th>\n",
       "      <td>9</td>\n",
       "      <td>ca322ba46595d9ac0a040419a951f2dc</td>\n",
       "      <td>{\"cutoff\": \"quantile_0.1\", \"eval_fairness_grou...</td>\n",
       "      <td>95.092559</td>\n",
       "      <td>89710</td>\n",
       "      <td>1.0</td>\n",
       "      <td>0.060645</td>\n",
       "      <td>0.935025</td>\n",
       "      <td>0.052098</td>\n",
       "      <td>0.944589</td>\n",
       "      <td>...</td>\n",
       "      <td>NaN</td>\n",
       "      <td>NaN</td>\n",
       "      <td>NaN</td>\n",
       "      <td>NaN</td>\n",
       "      <td>NaN</td>\n",
       "      <td>NaN</td>\n",
       "      <td>NaN</td>\n",
       "      <td>NaN</td>\n",
       "      <td>NaN</td>\n",
       "      <td>NaN</td>\n",
       "    </tr>\n",
       "    <tr>\n",
       "      <th>0</th>\n",
       "      <td>9</td>\n",
       "      <td>ca322ba46595d9ac0a040419a951f2dc</td>\n",
       "      <td>{\"cutoff\": \"quantile_0.1\", \"eval_fairness_grou...</td>\n",
       "      <td>95.092559</td>\n",
       "      <td>89710</td>\n",
       "      <td>1.0</td>\n",
       "      <td>0.060645</td>\n",
       "      <td>0.935025</td>\n",
       "      <td>0.052098</td>\n",
       "      <td>0.944589</td>\n",
       "      <td>...</td>\n",
       "      <td>0.121738</td>\n",
       "      <td>0.147190</td>\n",
       "      <td>0.933359</td>\n",
       "      <td>0.872714</td>\n",
       "      <td>0.007179</td>\n",
       "      <td>0.010722</td>\n",
       "      <td>0.940214</td>\n",
       "      <td>0.888116</td>\n",
       "      <td>20540.0</td>\n",
       "      <td>69170.0</td>\n",
       "    </tr>\n",
       "    <tr>\n",
       "      <th>0</th>\n",
       "      <td>9</td>\n",
       "      <td>ca322ba46595d9ac0a040419a951f2dc</td>\n",
       "      <td>{\"cutoff\": \"quantile_0.25\", \"eval_fairness_gro...</td>\n",
       "      <td>95.092559</td>\n",
       "      <td>89710</td>\n",
       "      <td>1.0</td>\n",
       "      <td>0.134223</td>\n",
       "      <td>0.837067</td>\n",
       "      <td>0.114737</td>\n",
       "      <td>0.863157</td>\n",
       "      <td>...</td>\n",
       "      <td>NaN</td>\n",
       "      <td>NaN</td>\n",
       "      <td>NaN</td>\n",
       "      <td>NaN</td>\n",
       "      <td>NaN</td>\n",
       "      <td>NaN</td>\n",
       "      <td>NaN</td>\n",
       "      <td>NaN</td>\n",
       "      <td>NaN</td>\n",
       "      <td>NaN</td>\n",
       "    </tr>\n",
       "    <tr>\n",
       "      <th>0</th>\n",
       "      <td>9</td>\n",
       "      <td>ca322ba46595d9ac0a040419a951f2dc</td>\n",
       "      <td>{\"cutoff\": \"quantile_0.25\", \"eval_fairness_gro...</td>\n",
       "      <td>95.092559</td>\n",
       "      <td>89710</td>\n",
       "      <td>1.0</td>\n",
       "      <td>0.134223</td>\n",
       "      <td>0.837067</td>\n",
       "      <td>0.114737</td>\n",
       "      <td>0.863157</td>\n",
       "      <td>...</td>\n",
       "      <td>0.130763</td>\n",
       "      <td>0.173092</td>\n",
       "      <td>0.823795</td>\n",
       "      <td>0.689572</td>\n",
       "      <td>0.048986</td>\n",
       "      <td>0.051969</td>\n",
       "      <td>0.838462</td>\n",
       "      <td>0.723724</td>\n",
       "      <td>20540.0</td>\n",
       "      <td>69170.0</td>\n",
       "    </tr>\n",
       "  </tbody>\n",
       "</table>\n",
       "<p>4 rows × 50 columns</p>\n",
       "</div>"
      ],
      "text/plain": [
       "  run_no                       universe_id  \\\n",
       "0      9  ca322ba46595d9ac0a040419a951f2dc   \n",
       "0      9  ca322ba46595d9ac0a040419a951f2dc   \n",
       "0      9  ca322ba46595d9ac0a040419a951f2dc   \n",
       "0      9  ca322ba46595d9ac0a040419a951f2dc   \n",
       "\n",
       "                                   universe_settings  execution_time  \\\n",
       "0  {\"cutoff\": \"quantile_0.1\", \"eval_fairness_grou...       95.092559   \n",
       "0  {\"cutoff\": \"quantile_0.1\", \"eval_fairness_grou...       95.092559   \n",
       "0  {\"cutoff\": \"quantile_0.25\", \"eval_fairness_gro...       95.092559   \n",
       "0  {\"cutoff\": \"quantile_0.25\", \"eval_fairness_gro...       95.092559   \n",
       "\n",
       "   test_size_n  test_size_frac  fair_main_equalized_odds_difference  \\\n",
       "0        89710             1.0                             0.060645   \n",
       "0        89710             1.0                             0.060645   \n",
       "0        89710             1.0                             0.134223   \n",
       "0        89710             1.0                             0.134223   \n",
       "\n",
       "   fair_main_equalized_odds_ratio  fair_main_demographic_parity_difference  \\\n",
       "0                        0.935025                                 0.052098   \n",
       "0                        0.935025                                 0.052098   \n",
       "0                        0.837067                                 0.114737   \n",
       "0                        0.837067                                 0.114737   \n",
       "\n",
       "   fair_main_demographic_parity_ratio  ...  perf_grp_precision_0  \\\n",
       "0                            0.944589  ...                   NaN   \n",
       "0                            0.944589  ...              0.121738   \n",
       "0                            0.863157  ...                   NaN   \n",
       "0                            0.863157  ...              0.130763   \n",
       "\n",
       "   perf_grp_precision_1  perf_grp_false positive rate_0  \\\n",
       "0                   NaN                             NaN   \n",
       "0              0.147190                        0.933359   \n",
       "0                   NaN                             NaN   \n",
       "0              0.173092                        0.823795   \n",
       "\n",
       "   perf_grp_false positive rate_1  perf_grp_false negative rate_0  \\\n",
       "0                             NaN                             NaN   \n",
       "0                        0.872714                        0.007179   \n",
       "0                             NaN                             NaN   \n",
       "0                        0.689572                        0.048986   \n",
       "\n",
       "   perf_grp_false negative rate_1  perf_grp_selection rate_0  \\\n",
       "0                             NaN                        NaN   \n",
       "0                        0.010722                   0.940214   \n",
       "0                             NaN                        NaN   \n",
       "0                        0.051969                   0.838462   \n",
       "\n",
       "   perf_grp_selection rate_1  perf_grp_count_0  perf_grp_count_1  \n",
       "0                        NaN               NaN               NaN  \n",
       "0                   0.888116           20540.0           69170.0  \n",
       "0                        NaN               NaN               NaN  \n",
       "0                   0.723724           20540.0           69170.0  \n",
       "\n",
       "[4 rows x 50 columns]"
      ]
     },
     "execution_count": 61,
     "metadata": {},
     "output_type": "execute_result"
    }
   ],
   "source": [
    "final_output = universe_analysis.generate_final_output(\n",
    "    y_pred_prob=probs_test,\n",
    "    y_test=y_true,\n",
    "    org_test=org_test,\n",
    "    filter_data=filter_sub_universe_data,\n",
    "    cp_metrics_df=cp_metrics_df,\n",
    "    save=True,\n",
    ")\n",
    "final_output"
   ]
  },
  {
   "cell_type": "code",
   "execution_count": null,
   "id": "721ff514-cb11-46f8-b6fc-50392f74b5cb",
   "metadata": {
    "papermill": {
     "duration": 0.025368,
     "end_time": "2025-07-23T14:41:46.189636",
     "exception": false,
     "start_time": "2025-07-23T14:41:46.164268",
     "status": "completed"
    },
    "tags": []
   },
   "outputs": [],
   "source": []
  }
 ],
 "metadata": {
  "celltoolbar": "Tags",
  "kernelspec": {
   "display_name": "Python (CMA Fairness)",
   "language": "python",
   "name": "cma_fair_env"
  },
  "language_info": {
   "codemirror_mode": {
    "name": "ipython",
    "version": 3
   },
   "file_extension": ".py",
   "mimetype": "text/x-python",
   "name": "python",
   "nbconvert_exporter": "python",
   "pygments_lexer": "ipython3",
   "version": "3.10.12"
  },
  "papermill": {
   "default_parameters": {},
   "duration": 109.722647,
   "end_time": "2025-07-23T14:41:46.934051",
   "environment_variables": {},
   "exception": null,
   "input_path": "universe_analysis.ipynb",
   "output_path": "output/runs/9/notebooks/m_9-ca322ba46595d9ac0a040419a951f2dc.ipynb",
   "parameters": {
    "output_dir": "output",
    "run_no": "9",
    "seed": "2023",
    "universe": "{\"cutoff\": [\"quantile_0.1\", \"quantile_0.25\"], \"eval_fairness_grouping\": [\"majority-minority\", \"nationality-all\"], \"exclude_features\": \"age\", \"exclude_subgroups\": \"keep-all\", \"model\": \"gbm\", \"scale\": \"do-not-scale\"}",
    "universe_id": "ca322ba46595d9ac0a040419a951f2dc"
   },
   "start_time": "2025-07-23T14:39:57.211404",
   "version": "2.6.0"
  }
 },
 "nbformat": 4,
 "nbformat_minor": 5
}