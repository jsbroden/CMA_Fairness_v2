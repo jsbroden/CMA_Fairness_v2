{
 "cells": [
  {
   "cell_type": "code",
   "execution_count": 1,
   "id": "f159f837-637b-42ba-96b5-ec9a68c44524",
   "metadata": {
    "execution": {
     "iopub.execute_input": "2025-07-23T14:29:30.528784Z",
     "iopub.status.busy": "2025-07-23T14:29:30.527851Z",
     "iopub.status.idle": "2025-07-23T14:29:30.541194Z",
     "shell.execute_reply": "2025-07-23T14:29:30.539971Z"
    },
    "papermill": {
     "duration": 0.03463,
     "end_time": "2025-07-23T14:29:30.543283",
     "exception": false,
     "start_time": "2025-07-23T14:29:30.508653",
     "status": "completed"
    },
    "tags": []
   },
   "outputs": [
    {
     "name": "stdout",
     "output_type": "stream",
     "text": [
      "/dss/dsshome1/0C/ra93lal2/cma/CMA_Fairness_v2\n"
     ]
    },
    {
     "name": "stderr",
     "output_type": "stream",
     "text": [
      "/dss/dsshome1/0C/ra93lal2/.local/share/virtualenvs/CMA_Fairness_v2-3j10GkSs/lib/python3.10/site-packages/IPython/core/magics/osm.py:393: UserWarning: This is now an optional IPython functionality, using bookmarks requires you to install the `pickleshare` library.\n",
      "  bkms = self.shell.db.get('bookmarks', {})\n",
      "/dss/dsshome1/0C/ra93lal2/.local/share/virtualenvs/CMA_Fairness_v2-3j10GkSs/lib/python3.10/site-packages/IPython/core/magics/osm.py:417: UserWarning: This is now an optional IPython functionality, setting dhist requires you to install the `pickleshare` library.\n",
      "  self.shell.db['dhist'] = compress_dhist(dhist)[-100:]\n"
     ]
    }
   ],
   "source": [
    "%cd ~/cma/CMA_Fairness_v2"
   ]
  },
  {
   "cell_type": "markdown",
   "id": "de2603b9",
   "metadata": {
    "papermill": {
     "duration": 0.020474,
     "end_time": "2025-07-23T14:29:30.580615",
     "exception": false,
     "start_time": "2025-07-23T14:29:30.560141",
     "status": "completed"
    },
    "tags": []
   },
   "source": [
    "The following cell holds the definition of our parameters, these values can be overriden by rendering the with e.g. the following command:\n",
    "\n",
    "papermill -p alpha 0.2 -p ratio 0.3 universe_analysis.ipynb output/test_run.ipynb"
   ]
  },
  {
   "cell_type": "code",
   "execution_count": 2,
   "id": "a80968a0-40bb-4fa9-85ef-2d5eefb01975",
   "metadata": {
    "execution": {
     "iopub.execute_input": "2025-07-23T14:29:30.619585Z",
     "iopub.status.busy": "2025-07-23T14:29:30.619194Z",
     "iopub.status.idle": "2025-07-23T14:29:30.624629Z",
     "shell.execute_reply": "2025-07-23T14:29:30.623523Z"
    },
    "papermill": {
     "duration": 0.027013,
     "end_time": "2025-07-23T14:29:30.626482",
     "exception": false,
     "start_time": "2025-07-23T14:29:30.599469",
     "status": "completed"
    },
    "tags": []
   },
   "outputs": [
    {
     "name": "stdout",
     "output_type": "stream",
     "text": [
      "Current working directory: /dss/dsshome1/0C/ra93lal2/cma/CMA_Fairness_v2\n"
     ]
    }
   ],
   "source": [
    "import os\n",
    "print(\"Current working directory:\", os.getcwd())"
   ]
  },
  {
   "cell_type": "code",
   "execution_count": 3,
   "id": "2dce4c03",
   "metadata": {
    "execution": {
     "iopub.execute_input": "2025-07-23T14:29:30.672109Z",
     "iopub.status.busy": "2025-07-23T14:29:30.670944Z",
     "iopub.status.idle": "2025-07-23T14:29:30.679130Z",
     "shell.execute_reply": "2025-07-23T14:29:30.677839Z"
    },
    "papermill": {
     "duration": 0.034951,
     "end_time": "2025-07-23T14:29:30.681054",
     "exception": false,
     "start_time": "2025-07-23T14:29:30.646103",
     "status": "completed"
    },
    "tags": [
     "parameters"
    ]
   },
   "outputs": [],
   "source": [
    "run_no = 0\n",
    "universe_id = \"test\"\n",
    "universe = {\n",
    "    \"scale\": \"scale\", # \"scale\", \"do-not-scale\",\n",
    "    \"model\": \"elasticnet\", # \"logreg\", \"penalized_logreg\", \"rf\", \"gbm\", \"elasticnet\"\n",
    "    \"cutoff\": [\"quantile_0.15\", \"quantile_0.30\"],\n",
    "    \"exclude_features\": \"age\", # \"none\", \"nationality\", \"sex\", \"nationality-sex\", \"age\"\n",
    "    \"exclude_subgroups\": \"keep-all\", # \"keep-all\", \"drop-non-german\"\n",
    "    #\"training_sample\": \"restricted\", # \"restricted\", \"full\"\n",
    "    \"eval_fairness_grouping\": [\"majority-minority\", \"nationality-all\"]\n",
    "}\n",
    "\n",
    "output_dir=\"./output\"\n",
    "seed=0"
   ]
  },
  {
   "cell_type": "code",
   "execution_count": 4,
   "id": "2fdb0294",
   "metadata": {
    "execution": {
     "iopub.execute_input": "2025-07-23T14:29:30.717466Z",
     "iopub.status.busy": "2025-07-23T14:29:30.716538Z",
     "iopub.status.idle": "2025-07-23T14:29:30.722733Z",
     "shell.execute_reply": "2025-07-23T14:29:30.721799Z"
    },
    "papermill": {
     "duration": 0.02564,
     "end_time": "2025-07-23T14:29:30.724378",
     "exception": false,
     "start_time": "2025-07-23T14:29:30.698738",
     "status": "completed"
    },
    "tags": [
     "injected-parameters"
    ]
   },
   "outputs": [],
   "source": [
    "# Parameters\n",
    "universe_id = \"36d38d02ffae68facba46031aaea0ba7\"\n",
    "run_no = \"9\"\n",
    "universe = \"{\\\"cutoff\\\": [\\\"quantile_0.1\\\", \\\"quantile_0.25\\\"], \\\"eval_fairness_grouping\\\": [\\\"majority-minority\\\", \\\"nationality-all\\\"], \\\"exclude_features\\\": \\\"age\\\", \\\"exclude_subgroups\\\": \\\"drop-non-german\\\", \\\"model\\\": \\\"rf\\\", \\\"scale\\\": \\\"scale\\\"}\"\n",
    "output_dir = \"output\"\n",
    "seed = \"2023\"\n"
   ]
  },
  {
   "cell_type": "code",
   "execution_count": 5,
   "id": "1650acaf",
   "metadata": {
    "execution": {
     "iopub.execute_input": "2025-07-23T14:29:30.759297Z",
     "iopub.status.busy": "2025-07-23T14:29:30.758766Z",
     "iopub.status.idle": "2025-07-23T14:29:30.765660Z",
     "shell.execute_reply": "2025-07-23T14:29:30.764333Z"
    },
    "papermill": {
     "duration": 0.026722,
     "end_time": "2025-07-23T14:29:30.767568",
     "exception": false,
     "start_time": "2025-07-23T14:29:30.740846",
     "status": "completed"
    },
    "tags": []
   },
   "outputs": [],
   "source": [
    "import json\n",
    "# Parse universe into dict if it is passed as a string\n",
    "if isinstance(universe, str):\n",
    "    universe = json.loads(universe)"
   ]
  },
  {
   "cell_type": "code",
   "execution_count": 6,
   "id": "16620c48",
   "metadata": {
    "execution": {
     "iopub.execute_input": "2025-07-23T14:29:30.805677Z",
     "iopub.status.busy": "2025-07-23T14:29:30.805148Z",
     "iopub.status.idle": "2025-07-23T14:29:30.855583Z",
     "shell.execute_reply": "2025-07-23T14:29:30.854421Z"
    },
    "papermill": {
     "duration": 0.071728,
     "end_time": "2025-07-23T14:29:30.857818",
     "exception": false,
     "start_time": "2025-07-23T14:29:30.786090",
     "status": "completed"
    },
    "tags": []
   },
   "outputs": [],
   "source": [
    "# Auto-reload the custom package\n",
    "%load_ext autoreload\n",
    "%autoreload 1\n",
    "%aimport fairness_multiverse"
   ]
  },
  {
   "cell_type": "code",
   "execution_count": 7,
   "id": "01c5c9f3",
   "metadata": {
    "execution": {
     "iopub.execute_input": "2025-07-23T14:29:30.897141Z",
     "iopub.status.busy": "2025-07-23T14:29:30.895905Z",
     "iopub.status.idle": "2025-07-23T14:29:33.397771Z",
     "shell.execute_reply": "2025-07-23T14:29:33.396620Z"
    },
    "papermill": {
     "duration": 2.524003,
     "end_time": "2025-07-23T14:29:33.400096",
     "exception": false,
     "start_time": "2025-07-23T14:29:30.876093",
     "status": "completed"
    },
    "tags": []
   },
   "outputs": [],
   "source": [
    "from fairness_multiverse.universe import UniverseAnalysis\n",
    "\n",
    "universe_analysis = UniverseAnalysis(\n",
    "    run_no = run_no,\n",
    "    universe_id = universe_id,\n",
    "    universe = universe,\n",
    "    output_dir=output_dir,\n",
    ")"
   ]
  },
  {
   "cell_type": "code",
   "execution_count": 8,
   "id": "106241f5",
   "metadata": {
    "execution": {
     "iopub.execute_input": "2025-07-23T14:29:33.454515Z",
     "iopub.status.busy": "2025-07-23T14:29:33.453368Z",
     "iopub.status.idle": "2025-07-23T14:29:33.461098Z",
     "shell.execute_reply": "2025-07-23T14:29:33.460008Z"
    },
    "papermill": {
     "duration": 0.04172,
     "end_time": "2025-07-23T14:29:33.463045",
     "exception": false,
     "start_time": "2025-07-23T14:29:33.421325",
     "status": "completed"
    },
    "tags": []
   },
   "outputs": [
    {
     "name": "stdout",
     "output_type": "stream",
     "text": [
      "Using Seed: 2023\n"
     ]
    }
   ],
   "source": [
    "import numpy as np\n",
    "parsed_seed = int(seed)\n",
    "np.random.seed(parsed_seed)\n",
    "print(f\"Using Seed: {parsed_seed}\")"
   ]
  },
  {
   "cell_type": "markdown",
   "id": "e0ebdc57",
   "metadata": {
    "papermill": {
     "duration": 0.048614,
     "end_time": "2025-07-23T14:29:33.547036",
     "exception": false,
     "start_time": "2025-07-23T14:29:33.498422",
     "status": "completed"
    },
    "tags": []
   },
   "source": [
    "# Loading Data"
   ]
  },
  {
   "cell_type": "markdown",
   "id": "681925a3",
   "metadata": {
    "papermill": {
     "duration": 0.033787,
     "end_time": "2025-07-23T14:29:33.614322",
     "exception": false,
     "start_time": "2025-07-23T14:29:33.580535",
     "status": "completed"
    },
    "tags": []
   },
   "source": [
    "Load siab_train, siab_test, siab_calib and/or \n",
    "load siab_train_features, siab_train_labels"
   ]
  },
  {
   "cell_type": "code",
   "execution_count": 9,
   "id": "f0496b8a",
   "metadata": {
    "execution": {
     "iopub.execute_input": "2025-07-23T14:29:33.684338Z",
     "iopub.status.busy": "2025-07-23T14:29:33.683898Z",
     "iopub.status.idle": "2025-07-23T14:29:33.690689Z",
     "shell.execute_reply": "2025-07-23T14:29:33.689587Z"
    },
    "papermill": {
     "duration": 0.045892,
     "end_time": "2025-07-23T14:29:33.694160",
     "exception": false,
     "start_time": "2025-07-23T14:29:33.648268",
     "status": "completed"
    },
    "tags": []
   },
   "outputs": [],
   "source": [
    "# Do I need to load siab? Delete this cell?\n",
    "\n",
    "#from pathlib import Path\n",
    "#import pandas as pd\n",
    "#\n",
    "## File paths\n",
    "#raw_file = Path(\"data/raw/siab.csv\")\n",
    "#cache_file = Path(\"data/siab_cached.csv.gz\")\n",
    "#\n",
    "## Ensure cache directory exists\n",
    "#cache_file.parent.mkdir(parents=True, exist_ok=True)\n",
    "#\n",
    "## Load with simple caching\n",
    "#if cache_file.exists():\n",
    "#    print(f\"Loading SIAB data from cache: {cache_file}\")\n",
    "#    siab = pd.read_csv(cache_file, compression='gzip')\n",
    "#else:\n",
    "#    print(f\"Cache not found. Reading raw SIAB data: {raw_file}\")\n",
    "#    siab = pd.read_csv(raw_file)\n",
    "#    siab.to_csv(cache_file, index=False, compression='gzip')\n",
    "#    print(f\"Cached SIAB data to: {cache_file}\")\n",
    "#\n",
    "## Now use `siab` DataFrame as needed\n",
    "#print(siab.shape)\n"
   ]
  },
  {
   "cell_type": "code",
   "execution_count": 10,
   "id": "a0edb063",
   "metadata": {
    "execution": {
     "iopub.execute_input": "2025-07-23T14:29:33.763287Z",
     "iopub.status.busy": "2025-07-23T14:29:33.762820Z",
     "iopub.status.idle": "2025-07-23T14:29:35.896957Z",
     "shell.execute_reply": "2025-07-23T14:29:35.895585Z"
    },
    "papermill": {
     "duration": 2.165634,
     "end_time": "2025-07-23T14:29:35.899134",
     "exception": false,
     "start_time": "2025-07-23T14:29:33.733500",
     "status": "completed"
    },
    "tags": []
   },
   "outputs": [],
   "source": [
    "import pandas as pd\n",
    "\n",
    "X_train = pd.read_csv(\"./data/X_train.csv\")\n",
    "y_train = pd.read_csv(\"./data/y_train.csv\")"
   ]
  },
  {
   "cell_type": "code",
   "execution_count": 11,
   "id": "63d08085",
   "metadata": {
    "execution": {
     "iopub.execute_input": "2025-07-23T14:29:35.939333Z",
     "iopub.status.busy": "2025-07-23T14:29:35.938853Z",
     "iopub.status.idle": "2025-07-23T14:29:38.255155Z",
     "shell.execute_reply": "2025-07-23T14:29:38.253908Z"
    },
    "papermill": {
     "duration": 2.337901,
     "end_time": "2025-07-23T14:29:38.257524",
     "exception": false,
     "start_time": "2025-07-23T14:29:35.919623",
     "status": "completed"
    },
    "tags": []
   },
   "outputs": [],
   "source": [
    "X_test = pd.read_csv(\"./data/X_test.csv\")\n",
    "y_true = pd.read_csv(\"./data/y_test.csv\")"
   ]
  },
  {
   "cell_type": "code",
   "execution_count": 12,
   "id": "98a8d0fa-1d3d-4ed8-bb2c-281470e24add",
   "metadata": {
    "execution": {
     "iopub.execute_input": "2025-07-23T14:29:38.301097Z",
     "iopub.status.busy": "2025-07-23T14:29:38.300668Z",
     "iopub.status.idle": "2025-07-23T14:29:41.257835Z",
     "shell.execute_reply": "2025-07-23T14:29:41.256631Z"
    },
    "papermill": {
     "duration": 2.983241,
     "end_time": "2025-07-23T14:29:41.260195",
     "exception": false,
     "start_time": "2025-07-23T14:29:38.276954",
     "status": "completed"
    },
    "tags": []
   },
   "outputs": [],
   "source": [
    "# Calibration data for conformal\n",
    "X_calib = pd.read_csv(\"./data/X_calib.csv\")\n",
    "y_calib = pd.read_csv(\"./data/y_calib.csv\")"
   ]
  },
  {
   "cell_type": "code",
   "execution_count": 13,
   "id": "e6c733c5",
   "metadata": {
    "execution": {
     "iopub.execute_input": "2025-07-23T14:29:41.327633Z",
     "iopub.status.busy": "2025-07-23T14:29:41.327192Z",
     "iopub.status.idle": "2025-07-23T14:29:41.606826Z",
     "shell.execute_reply": "2025-07-23T14:29:41.605728Z"
    },
    "papermill": {
     "duration": 0.317337,
     "end_time": "2025-07-23T14:29:41.608807",
     "exception": false,
     "start_time": "2025-07-23T14:29:41.291470",
     "status": "completed"
    },
    "tags": []
   },
   "outputs": [],
   "source": [
    "# Auxiliary data needed downstream in the pipeline\n",
    "\n",
    "org_train = X_train.copy()\n",
    "org_test = X_test.copy()\n",
    "org_calib = X_calib.copy()"
   ]
  },
  {
   "cell_type": "markdown",
   "id": "0a4a1b33",
   "metadata": {
    "papermill": {
     "duration": 0.031661,
     "end_time": "2025-07-23T14:29:41.669478",
     "exception": false,
     "start_time": "2025-07-23T14:29:41.637817",
     "status": "completed"
    },
    "tags": []
   },
   "source": [
    "# Preprocessing Data"
   ]
  },
  {
   "cell_type": "code",
   "execution_count": 14,
   "id": "ca879031",
   "metadata": {
    "execution": {
     "iopub.execute_input": "2025-07-23T14:29:41.707969Z",
     "iopub.status.busy": "2025-07-23T14:29:41.707261Z",
     "iopub.status.idle": "2025-07-23T14:29:41.713930Z",
     "shell.execute_reply": "2025-07-23T14:29:41.712888Z"
    },
    "papermill": {
     "duration": 0.029906,
     "end_time": "2025-07-23T14:29:41.716764",
     "exception": false,
     "start_time": "2025-07-23T14:29:41.686858",
     "status": "completed"
    },
    "tags": []
   },
   "outputs": [],
   "source": [
    "# EXCLUDE PROTECTED FEATURES\n",
    "# ----------------------\n",
    "# \"exclude_features\": \"none\", # \"nationality\", \"sex\", \"nationality-sex\"\n",
    "\n",
    "excluded_features = universe[\"exclude_features\"].split(\"-\") # split, e.g.: \"nationality-sex\" -> [\"nationality\", \"sex\"]\n",
    "excluded_features_dictionary = {\n",
    "    \"nationality\": [\"maxdeutsch1\", \"maxdeutsch.Missing.\"],\n",
    "    \"sex\": [\"frau1\"],\n",
    "    \"age\": [\"age\"],\n",
    "}\n"
   ]
  },
  {
   "cell_type": "code",
   "execution_count": 15,
   "id": "b745ac60",
   "metadata": {
    "execution": {
     "iopub.execute_input": "2025-07-23T14:29:41.756968Z",
     "iopub.status.busy": "2025-07-23T14:29:41.756489Z",
     "iopub.status.idle": "2025-07-23T14:29:41.763110Z",
     "shell.execute_reply": "2025-07-23T14:29:41.762028Z"
    },
    "papermill": {
     "duration": 0.03078,
     "end_time": "2025-07-23T14:29:41.767027",
     "exception": false,
     "start_time": "2025-07-23T14:29:41.736247",
     "status": "completed"
    },
    "tags": []
   },
   "outputs": [],
   "source": [
    "# Code nice names to column names\n",
    "\n",
    "excluded_features_columns = [\n",
    "    excluded_features_dictionary[f] for f in excluded_features if len(f) > 0 and f != \"none\"\n",
    "]"
   ]
  },
  {
   "cell_type": "code",
   "execution_count": 16,
   "id": "f84f73a2",
   "metadata": {
    "execution": {
     "iopub.execute_input": "2025-07-23T14:29:41.807677Z",
     "iopub.status.busy": "2025-07-23T14:29:41.807207Z",
     "iopub.status.idle": "2025-07-23T14:29:41.814423Z",
     "shell.execute_reply": "2025-07-23T14:29:41.813336Z"
    },
    "papermill": {
     "duration": 0.031363,
     "end_time": "2025-07-23T14:29:41.818194",
     "exception": false,
     "start_time": "2025-07-23T14:29:41.786831",
     "status": "completed"
    },
    "tags": []
   },
   "outputs": [],
   "source": [
    "from utils import flatten_once\n",
    "\n",
    "excluded_features_columns = flatten_once(excluded_features_columns)"
   ]
  },
  {
   "cell_type": "code",
   "execution_count": 17,
   "id": "884dea22",
   "metadata": {
    "execution": {
     "iopub.execute_input": "2025-07-23T14:29:41.859308Z",
     "iopub.status.busy": "2025-07-23T14:29:41.858869Z",
     "iopub.status.idle": "2025-07-23T14:29:41.915378Z",
     "shell.execute_reply": "2025-07-23T14:29:41.913953Z"
    },
    "papermill": {
     "duration": 0.079571,
     "end_time": "2025-07-23T14:29:41.917882",
     "exception": false,
     "start_time": "2025-07-23T14:29:41.838311",
     "status": "completed"
    },
    "tags": []
   },
   "outputs": [
    {
     "name": "stdout",
     "output_type": "stream",
     "text": [
      "Dropping features: ['age']\n"
     ]
    }
   ],
   "source": [
    "if len(excluded_features_columns) > 0:\n",
    "    print(f\"Dropping features: {excluded_features_columns}\")\n",
    "    X_train.drop(excluded_features_columns, axis=1, inplace=True)"
   ]
  },
  {
   "cell_type": "code",
   "execution_count": 18,
   "id": "95ab8b16",
   "metadata": {
    "execution": {
     "iopub.execute_input": "2025-07-23T14:29:41.959375Z",
     "iopub.status.busy": "2025-07-23T14:29:41.958901Z",
     "iopub.status.idle": "2025-07-23T14:29:42.022201Z",
     "shell.execute_reply": "2025-07-23T14:29:42.021035Z"
    },
    "papermill": {
     "duration": 0.087121,
     "end_time": "2025-07-23T14:29:42.024862",
     "exception": false,
     "start_time": "2025-07-23T14:29:41.937741",
     "status": "completed"
    },
    "tags": []
   },
   "outputs": [
    {
     "name": "stdout",
     "output_type": "stream",
     "text": [
      "Dropping features: ['age']\n"
     ]
    }
   ],
   "source": [
    "if len(excluded_features_columns) > 0:\n",
    "    print(f\"Dropping features: {excluded_features_columns}\")\n",
    "    X_test.drop(excluded_features_columns, axis=1, inplace=True)"
   ]
  },
  {
   "cell_type": "code",
   "execution_count": 19,
   "id": "1853aaf5-fb9f-46cb-a2b5-8ea4ae2237e4",
   "metadata": {
    "execution": {
     "iopub.execute_input": "2025-07-23T14:29:42.071866Z",
     "iopub.status.busy": "2025-07-23T14:29:42.071408Z",
     "iopub.status.idle": "2025-07-23T14:29:42.128778Z",
     "shell.execute_reply": "2025-07-23T14:29:42.127593Z"
    },
    "papermill": {
     "duration": 0.080554,
     "end_time": "2025-07-23T14:29:42.130739",
     "exception": false,
     "start_time": "2025-07-23T14:29:42.050185",
     "status": "completed"
    },
    "tags": []
   },
   "outputs": [
    {
     "name": "stdout",
     "output_type": "stream",
     "text": [
      "Dropping features: ['age']\n"
     ]
    }
   ],
   "source": [
    "if len(excluded_features_columns) > 0:\n",
    "    print(f\"Dropping features: {excluded_features_columns}\")\n",
    "    X_calib.drop(excluded_features_columns, axis=1, inplace=True)"
   ]
  },
  {
   "cell_type": "code",
   "execution_count": 20,
   "id": "76c4dc6d",
   "metadata": {
    "execution": {
     "iopub.execute_input": "2025-07-23T14:29:42.170908Z",
     "iopub.status.busy": "2025-07-23T14:29:42.170284Z",
     "iopub.status.idle": "2025-07-23T14:29:42.176475Z",
     "shell.execute_reply": "2025-07-23T14:29:42.175254Z"
    },
    "papermill": {
     "duration": 0.030972,
     "end_time": "2025-07-23T14:29:42.180980",
     "exception": false,
     "start_time": "2025-07-23T14:29:42.150008",
     "status": "completed"
    },
    "tags": []
   },
   "outputs": [],
   "source": [
    "# EXCLUDE CERTAIN SUBGROUPS\n",
    "# ----------------------\n",
    "\n",
    "mode = universe.get(\"exclude_subgroups\", \"keep-all\") \n",
    "# Fetches the exclude_subgroups setting from the universe dict.\n",
    "# Defaults to \"keep-all\" if the key is missing."
   ]
  },
  {
   "cell_type": "code",
   "execution_count": 21,
   "id": "21994072",
   "metadata": {
    "execution": {
     "iopub.execute_input": "2025-07-23T14:29:42.222093Z",
     "iopub.status.busy": "2025-07-23T14:29:42.221585Z",
     "iopub.status.idle": "2025-07-23T14:29:42.228919Z",
     "shell.execute_reply": "2025-07-23T14:29:42.227824Z"
    },
    "papermill": {
     "duration": 0.029756,
     "end_time": "2025-07-23T14:29:42.231476",
     "exception": false,
     "start_time": "2025-07-23T14:29:42.201720",
     "status": "completed"
    },
    "tags": []
   },
   "outputs": [],
   "source": [
    "if mode == \"keep-all\":\n",
    "    keep_mask = pd.Series(True, index=org_train.index)\n",
    "\n",
    "# org_train contains the original feature columns from features_org (in Simson)\n",
    "# features_org contains unprocessed features, for me X_train at beginning ???\n",
    "# For keep-all, creates a boolean Series (keep_mask) of all True, so no rows are removed.\n",
    "\n",
    "elif mode == \"drop-non-german\":\n",
    "    keep_mask = org_train[\"maxdeutsch1\"] == 1 # ??? what about missing values?\n",
    "\n",
    "else:\n",
    "    raise ValueError(f\"Unsupported mode for exclude_subgroups: {mode}\")\n"
   ]
  },
  {
   "cell_type": "code",
   "execution_count": 22,
   "id": "71651440",
   "metadata": {
    "execution": {
     "iopub.execute_input": "2025-07-23T14:29:42.285601Z",
     "iopub.status.busy": "2025-07-23T14:29:42.284872Z",
     "iopub.status.idle": "2025-07-23T14:29:42.292934Z",
     "shell.execute_reply": "2025-07-23T14:29:42.291736Z"
    },
    "papermill": {
     "duration": 0.035109,
     "end_time": "2025-07-23T14:29:42.294805",
     "exception": false,
     "start_time": "2025-07-23T14:29:42.259696",
     "status": "completed"
    },
    "tags": []
   },
   "outputs": [
    {
     "name": "stdout",
     "output_type": "stream",
     "text": [
      "Dropping 10036 rows (13.38%) where mode='drop-non-german'\n"
     ]
    }
   ],
   "source": [
    "n_drop = (~keep_mask).sum() # Calculates how many rows are set to be dropped\n",
    "if n_drop > 0:\n",
    "    pct = n_drop / len(keep_mask) * 100\n",
    "    print(f\"Dropping {n_drop} rows ({pct:.2f}%) where mode='{mode}'\")"
   ]
  },
  {
   "cell_type": "code",
   "execution_count": 23,
   "id": "5fb8eee5",
   "metadata": {
    "execution": {
     "iopub.execute_input": "2025-07-23T14:29:42.336944Z",
     "iopub.status.busy": "2025-07-23T14:29:42.336576Z",
     "iopub.status.idle": "2025-07-23T14:29:42.380554Z",
     "shell.execute_reply": "2025-07-23T14:29:42.379633Z"
    },
    "papermill": {
     "duration": 0.067948,
     "end_time": "2025-07-23T14:29:42.382171",
     "exception": false,
     "start_time": "2025-07-23T14:29:42.314223",
     "status": "completed"
    },
    "tags": []
   },
   "outputs": [],
   "source": [
    "X_train = X_train[keep_mask]"
   ]
  },
  {
   "cell_type": "code",
   "execution_count": 24,
   "id": "b202bb3a",
   "metadata": {
    "execution": {
     "iopub.execute_input": "2025-07-23T14:29:42.405842Z",
     "iopub.status.busy": "2025-07-23T14:29:42.405347Z",
     "iopub.status.idle": "2025-07-23T14:29:42.413130Z",
     "shell.execute_reply": "2025-07-23T14:29:42.412189Z"
    },
    "papermill": {
     "duration": 0.021868,
     "end_time": "2025-07-23T14:29:42.414937",
     "exception": false,
     "start_time": "2025-07-23T14:29:42.393069",
     "status": "completed"
    },
    "tags": []
   },
   "outputs": [],
   "source": [
    "y_train = y_train[keep_mask]"
   ]
  },
  {
   "cell_type": "markdown",
   "id": "493e2ac3",
   "metadata": {
    "papermill": {
     "duration": 0.015094,
     "end_time": "2025-07-23T14:29:42.448969",
     "exception": false,
     "start_time": "2025-07-23T14:29:42.433875",
     "status": "completed"
    },
    "tags": []
   },
   "source": [
    "# Model Training"
   ]
  },
  {
   "cell_type": "code",
   "execution_count": 25,
   "id": "679e1268",
   "metadata": {
    "execution": {
     "iopub.execute_input": "2025-07-23T14:29:42.471844Z",
     "iopub.status.busy": "2025-07-23T14:29:42.471461Z",
     "iopub.status.idle": "2025-07-23T14:29:42.610414Z",
     "shell.execute_reply": "2025-07-23T14:29:42.609379Z"
    },
    "papermill": {
     "duration": 0.153137,
     "end_time": "2025-07-23T14:29:42.612792",
     "exception": false,
     "start_time": "2025-07-23T14:29:42.459655",
     "status": "completed"
    },
    "tags": []
   },
   "outputs": [],
   "source": [
    "from sklearn.linear_model import LogisticRegression\n",
    "from sklearn.ensemble import GradientBoostingClassifier, RandomForestClassifier\n",
    "\n",
    "if (universe[\"model\"] == \"logreg\"):\n",
    "    model = LogisticRegression() #penalty=\"none\") #, solver=\"newton-cg\", max_iter=1) # include random_state=19 ?\n",
    "elif (universe[\"model\"] == \"penalized_logreg\"):\n",
    "    model = LogisticRegression(penalty=\"l2\", C=1.0) #, solver=\"newton-cg\", max_iter=1)\n",
    "elif (universe[\"model\"] == \"rf\"):\n",
    "    model = RandomForestClassifier(n_estimators=100, n_jobs=-1)\n",
    "elif (universe[\"model\"] == \"gbm\"):\n",
    "    model = GradientBoostingClassifier()\n",
    "elif (universe[\"model\"] == \"elasticnet\"):\n",
    "    model = LogisticRegression(penalty = 'elasticnet', solver = 'saga', l1_ratio = 0.5, max_iter=5000) # which solver to use?\n",
    "else:\n",
    "    raise \"Unsupported universe.model\""
   ]
  },
  {
   "cell_type": "code",
   "execution_count": 26,
   "id": "0cc8f744",
   "metadata": {
    "execution": {
     "iopub.execute_input": "2025-07-23T14:29:42.701215Z",
     "iopub.status.busy": "2025-07-23T14:29:42.700742Z",
     "iopub.status.idle": "2025-07-23T14:29:42.708836Z",
     "shell.execute_reply": "2025-07-23T14:29:42.707600Z"
    },
    "papermill": {
     "duration": 0.055475,
     "end_time": "2025-07-23T14:29:42.715615",
     "exception": false,
     "start_time": "2025-07-23T14:29:42.660140",
     "status": "completed"
    },
    "tags": []
   },
   "outputs": [],
   "source": [
    "import numpy as np\n",
    "from sklearn.pipeline import Pipeline\n",
    "from sklearn.preprocessing import StandardScaler\n",
    "\n",
    "model = Pipeline([\n",
    "    #(\"continuous_processor\", continuous_processor),\n",
    "    #(\"categorical_preprocessor\", categorical_preprocessor),\n",
    "    (\"scale\", StandardScaler() if universe[\"scale\"] == \"scale\" else None), \n",
    "    (\"model\", model),\n",
    "])"
   ]
  },
  {
   "cell_type": "code",
   "execution_count": 27,
   "id": "9442c04d",
   "metadata": {
    "execution": {
     "iopub.execute_input": "2025-07-23T14:29:42.814101Z",
     "iopub.status.busy": "2025-07-23T14:29:42.813637Z",
     "iopub.status.idle": "2025-07-23T14:29:53.497298Z",
     "shell.execute_reply": "2025-07-23T14:29:53.495964Z"
    },
    "papermill": {
     "duration": 10.728967,
     "end_time": "2025-07-23T14:29:53.510183",
     "exception": false,
     "start_time": "2025-07-23T14:29:42.781216",
     "status": "completed"
    },
    "tags": []
   },
   "outputs": [
    {
     "data": {
      "text/html": [
       "<style>#sk-container-id-1 {color: black;background-color: white;}#sk-container-id-1 pre{padding: 0;}#sk-container-id-1 div.sk-toggleable {background-color: white;}#sk-container-id-1 label.sk-toggleable__label {cursor: pointer;display: block;width: 100%;margin-bottom: 0;padding: 0.3em;box-sizing: border-box;text-align: center;}#sk-container-id-1 label.sk-toggleable__label-arrow:before {content: \"▸\";float: left;margin-right: 0.25em;color: #696969;}#sk-container-id-1 label.sk-toggleable__label-arrow:hover:before {color: black;}#sk-container-id-1 div.sk-estimator:hover label.sk-toggleable__label-arrow:before {color: black;}#sk-container-id-1 div.sk-toggleable__content {max-height: 0;max-width: 0;overflow: hidden;text-align: left;background-color: #f0f8ff;}#sk-container-id-1 div.sk-toggleable__content pre {margin: 0.2em;color: black;border-radius: 0.25em;background-color: #f0f8ff;}#sk-container-id-1 input.sk-toggleable__control:checked~div.sk-toggleable__content {max-height: 200px;max-width: 100%;overflow: auto;}#sk-container-id-1 input.sk-toggleable__control:checked~label.sk-toggleable__label-arrow:before {content: \"▾\";}#sk-container-id-1 div.sk-estimator input.sk-toggleable__control:checked~label.sk-toggleable__label {background-color: #d4ebff;}#sk-container-id-1 div.sk-label input.sk-toggleable__control:checked~label.sk-toggleable__label {background-color: #d4ebff;}#sk-container-id-1 input.sk-hidden--visually {border: 0;clip: rect(1px 1px 1px 1px);clip: rect(1px, 1px, 1px, 1px);height: 1px;margin: -1px;overflow: hidden;padding: 0;position: absolute;width: 1px;}#sk-container-id-1 div.sk-estimator {font-family: monospace;background-color: #f0f8ff;border: 1px dotted black;border-radius: 0.25em;box-sizing: border-box;margin-bottom: 0.5em;}#sk-container-id-1 div.sk-estimator:hover {background-color: #d4ebff;}#sk-container-id-1 div.sk-parallel-item::after {content: \"\";width: 100%;border-bottom: 1px solid gray;flex-grow: 1;}#sk-container-id-1 div.sk-label:hover label.sk-toggleable__label {background-color: #d4ebff;}#sk-container-id-1 div.sk-serial::before {content: \"\";position: absolute;border-left: 1px solid gray;box-sizing: border-box;top: 0;bottom: 0;left: 50%;z-index: 0;}#sk-container-id-1 div.sk-serial {display: flex;flex-direction: column;align-items: center;background-color: white;padding-right: 0.2em;padding-left: 0.2em;position: relative;}#sk-container-id-1 div.sk-item {position: relative;z-index: 1;}#sk-container-id-1 div.sk-parallel {display: flex;align-items: stretch;justify-content: center;background-color: white;position: relative;}#sk-container-id-1 div.sk-item::before, #sk-container-id-1 div.sk-parallel-item::before {content: \"\";position: absolute;border-left: 1px solid gray;box-sizing: border-box;top: 0;bottom: 0;left: 50%;z-index: -1;}#sk-container-id-1 div.sk-parallel-item {display: flex;flex-direction: column;z-index: 1;position: relative;background-color: white;}#sk-container-id-1 div.sk-parallel-item:first-child::after {align-self: flex-end;width: 50%;}#sk-container-id-1 div.sk-parallel-item:last-child::after {align-self: flex-start;width: 50%;}#sk-container-id-1 div.sk-parallel-item:only-child::after {width: 0;}#sk-container-id-1 div.sk-dashed-wrapped {border: 1px dashed gray;margin: 0 0.4em 0.5em 0.4em;box-sizing: border-box;padding-bottom: 0.4em;background-color: white;}#sk-container-id-1 div.sk-label label {font-family: monospace;font-weight: bold;display: inline-block;line-height: 1.2em;}#sk-container-id-1 div.sk-label-container {text-align: center;}#sk-container-id-1 div.sk-container {/* jupyter's `normalize.less` sets `[hidden] { display: none; }` but bootstrap.min.css set `[hidden] { display: none !important; }` so we also need the `!important` here to be able to override the default hidden behavior on the sphinx rendered scikit-learn.org. See: https://github.com/scikit-learn/scikit-learn/issues/21755 */display: inline-block !important;position: relative;}#sk-container-id-1 div.sk-text-repr-fallback {display: none;}</style><div id=\"sk-container-id-1\" class=\"sk-top-container\"><div class=\"sk-text-repr-fallback\"><pre>Pipeline(steps=[(&#x27;scale&#x27;, StandardScaler()),\n",
       "                (&#x27;model&#x27;, RandomForestClassifier(n_jobs=-1))])</pre><b>In a Jupyter environment, please rerun this cell to show the HTML representation or trust the notebook. <br />On GitHub, the HTML representation is unable to render, please try loading this page with nbviewer.org.</b></div><div class=\"sk-container\" hidden><div class=\"sk-item sk-dashed-wrapped\"><div class=\"sk-label-container\"><div class=\"sk-label sk-toggleable\"><input class=\"sk-toggleable__control sk-hidden--visually\" id=\"sk-estimator-id-1\" type=\"checkbox\" ><label for=\"sk-estimator-id-1\" class=\"sk-toggleable__label sk-toggleable__label-arrow\">Pipeline</label><div class=\"sk-toggleable__content\"><pre>Pipeline(steps=[(&#x27;scale&#x27;, StandardScaler()),\n",
       "                (&#x27;model&#x27;, RandomForestClassifier(n_jobs=-1))])</pre></div></div></div><div class=\"sk-serial\"><div class=\"sk-item\"><div class=\"sk-estimator sk-toggleable\"><input class=\"sk-toggleable__control sk-hidden--visually\" id=\"sk-estimator-id-2\" type=\"checkbox\" ><label for=\"sk-estimator-id-2\" class=\"sk-toggleable__label sk-toggleable__label-arrow\">StandardScaler</label><div class=\"sk-toggleable__content\"><pre>StandardScaler()</pre></div></div></div><div class=\"sk-item\"><div class=\"sk-estimator sk-toggleable\"><input class=\"sk-toggleable__control sk-hidden--visually\" id=\"sk-estimator-id-3\" type=\"checkbox\" ><label for=\"sk-estimator-id-3\" class=\"sk-toggleable__label sk-toggleable__label-arrow\">RandomForestClassifier</label><div class=\"sk-toggleable__content\"><pre>RandomForestClassifier(n_jobs=-1)</pre></div></div></div></div></div></div></div>"
      ],
      "text/plain": [
       "Pipeline(steps=[('scale', StandardScaler()),\n",
       "                ('model', RandomForestClassifier(n_jobs=-1))])"
      ]
     },
     "execution_count": 27,
     "metadata": {},
     "output_type": "execute_result"
    }
   ],
   "source": [
    "model.fit(X_train, y_train.values.ravel())"
   ]
  },
  {
   "cell_type": "code",
   "execution_count": 28,
   "id": "af59f8c0",
   "metadata": {
    "execution": {
     "iopub.execute_input": "2025-07-23T14:29:53.556577Z",
     "iopub.status.busy": "2025-07-23T14:29:53.555733Z",
     "iopub.status.idle": "2025-07-23T14:29:53.562276Z",
     "shell.execute_reply": "2025-07-23T14:29:53.561051Z"
    },
    "papermill": {
     "duration": 0.030827,
     "end_time": "2025-07-23T14:29:53.564143",
     "exception": false,
     "start_time": "2025-07-23T14:29:53.533316",
     "status": "completed"
    },
    "tags": []
   },
   "outputs": [],
   "source": [
    "from fairness_multiverse.universe import predict_w_threshold"
   ]
  },
  {
   "cell_type": "code",
   "execution_count": 29,
   "id": "a7cf2e16",
   "metadata": {
    "execution": {
     "iopub.execute_input": "2025-07-23T14:29:53.609776Z",
     "iopub.status.busy": "2025-07-23T14:29:53.609018Z",
     "iopub.status.idle": "2025-07-23T14:29:55.071399Z",
     "shell.execute_reply": "2025-07-23T14:29:55.070346Z"
    },
    "papermill": {
     "duration": 1.487428,
     "end_time": "2025-07-23T14:29:55.073265",
     "exception": false,
     "start_time": "2025-07-23T14:29:53.585837",
     "status": "completed"
    },
    "tags": []
   },
   "outputs": [
    {
     "data": {
      "text/plain": [
       "0.8678519674506744"
      ]
     },
     "execution_count": 29,
     "metadata": {},
     "output_type": "execute_result"
    }
   ],
   "source": [
    "probs_test = model.predict_proba(X_test)\n",
    "\n",
    "'''\n",
    "Below code returns a boolean array (or binary 0/1 array depending on how it’s used) where each element \n",
    "is True if the probability of class 1 is greater than or equal to the threshold, and False otherwise.\n",
    "'''\n",
    "y_pred_default = predict_w_threshold(probs_test, 0.5)\n",
    "\n",
    "from sklearn.metrics import accuracy_score\n",
    "\n",
    "# Naive prediction\n",
    "accuracy_score(y_true = y_true, y_pred = y_pred_default)"
   ]
  },
  {
   "cell_type": "code",
   "execution_count": 30,
   "id": "081964c3",
   "metadata": {
    "execution": {
     "iopub.execute_input": "2025-07-23T14:29:55.121793Z",
     "iopub.status.busy": "2025-07-23T14:29:55.120962Z",
     "iopub.status.idle": "2025-07-23T14:29:56.529299Z",
     "shell.execute_reply": "2025-07-23T14:29:56.528250Z"
    },
    "papermill": {
     "duration": 1.436234,
     "end_time": "2025-07-23T14:29:56.531023",
     "exception": false,
     "start_time": "2025-07-23T14:29:55.094789",
     "status": "completed"
    },
    "tags": []
   },
   "outputs": [
    {
     "data": {
      "text/plain": [
       "array([0, 0, 0, ..., 0, 0, 0])"
      ]
     },
     "execution_count": 30,
     "metadata": {},
     "output_type": "execute_result"
    }
   ],
   "source": [
    "model.predict(X_test)"
   ]
  },
  {
   "cell_type": "markdown",
   "id": "56c9705b",
   "metadata": {
    "papermill": {
     "duration": 0.022253,
     "end_time": "2025-07-23T14:29:56.577745",
     "exception": false,
     "start_time": "2025-07-23T14:29:56.555492",
     "status": "completed"
    },
    "tags": []
   },
   "source": [
    "# Conformal Prediction"
   ]
  },
  {
   "cell_type": "code",
   "execution_count": 31,
   "id": "160ec6ff",
   "metadata": {
    "execution": {
     "iopub.execute_input": "2025-07-23T14:29:56.622700Z",
     "iopub.status.busy": "2025-07-23T14:29:56.622126Z",
     "iopub.status.idle": "2025-07-23T14:29:56.627880Z",
     "shell.execute_reply": "2025-07-23T14:29:56.626868Z"
    },
    "papermill": {
     "duration": 0.030723,
     "end_time": "2025-07-23T14:29:56.630077",
     "exception": false,
     "start_time": "2025-07-23T14:29:56.599354",
     "status": "completed"
    },
    "tags": []
   },
   "outputs": [],
   "source": [
    "# Miscoverage level for conformal prediction (10% allowed error rate => 90% target coverage)\n",
    "alpha = 0.1"
   ]
  },
  {
   "cell_type": "code",
   "execution_count": 32,
   "id": "eadf4555-3dd3-440e-8e35-f82a4ad9f855",
   "metadata": {
    "execution": {
     "iopub.execute_input": "2025-07-23T14:29:56.677276Z",
     "iopub.status.busy": "2025-07-23T14:29:56.676207Z",
     "iopub.status.idle": "2025-07-23T14:29:58.002525Z",
     "shell.execute_reply": "2025-07-23T14:29:58.001725Z"
    },
    "papermill": {
     "duration": 1.351658,
     "end_time": "2025-07-23T14:29:58.004093",
     "exception": false,
     "start_time": "2025-07-23T14:29:56.652435",
     "status": "completed"
    },
    "tags": []
   },
   "outputs": [],
   "source": [
    "probs_calib = model.predict_proba(X_calib)"
   ]
  },
  {
   "cell_type": "code",
   "execution_count": 33,
   "id": "2ed93547-6d5d-4983-9b36-1ecb300da49a",
   "metadata": {
    "execution": {
     "iopub.execute_input": "2025-07-23T14:29:58.026998Z",
     "iopub.status.busy": "2025-07-23T14:29:58.026635Z",
     "iopub.status.idle": "2025-07-23T14:29:58.032021Z",
     "shell.execute_reply": "2025-07-23T14:29:58.031219Z"
    },
    "papermill": {
     "duration": 0.018468,
     "end_time": "2025-07-23T14:29:58.033534",
     "exception": false,
     "start_time": "2025-07-23T14:29:58.015066",
     "status": "completed"
    },
    "tags": []
   },
   "outputs": [],
   "source": [
    "y_calib = y_calib.values.ravel().astype(int)"
   ]
  },
  {
   "cell_type": "code",
   "execution_count": 34,
   "id": "65d1320d-f588-4b38-9072-62af1ae97f7d",
   "metadata": {
    "execution": {
     "iopub.execute_input": "2025-07-23T14:29:58.056884Z",
     "iopub.status.busy": "2025-07-23T14:29:58.056526Z",
     "iopub.status.idle": "2025-07-23T14:29:58.062396Z",
     "shell.execute_reply": "2025-07-23T14:29:58.061671Z"
    },
    "papermill": {
     "duration": 0.018686,
     "end_time": "2025-07-23T14:29:58.063701",
     "exception": false,
     "start_time": "2025-07-23T14:29:58.045015",
     "status": "completed"
    },
    "tags": []
   },
   "outputs": [],
   "source": [
    "from fairness_multiverse.conformal import compute_nc_scores\n",
    "\n",
    "# Compute nonconformity scores on calibration set (1 - probability of true class)\n",
    "nc_scores = compute_nc_scores(probs_calib, y_calib)"
   ]
  },
  {
   "cell_type": "code",
   "execution_count": 35,
   "id": "df3b8ca3-53b7-43d5-9667-7c85da7aeda2",
   "metadata": {
    "execution": {
     "iopub.execute_input": "2025-07-23T14:29:58.086842Z",
     "iopub.status.busy": "2025-07-23T14:29:58.086481Z",
     "iopub.status.idle": "2025-07-23T14:29:58.092625Z",
     "shell.execute_reply": "2025-07-23T14:29:58.091820Z"
    },
    "papermill": {
     "duration": 0.019009,
     "end_time": "2025-07-23T14:29:58.093981",
     "exception": false,
     "start_time": "2025-07-23T14:29:58.074972",
     "status": "completed"
    },
    "tags": []
   },
   "outputs": [],
   "source": [
    "from fairness_multiverse.conformal import find_threshold\n",
    "\n",
    "# Find conformal threshold q_hat for the given alpha (split conformal method)\n",
    "q_hat = find_threshold(nc_scores, alpha)"
   ]
  },
  {
   "cell_type": "code",
   "execution_count": 36,
   "id": "4d29e6c1-0ef6-4aa4-b8fe-4fe79b0d033a",
   "metadata": {
    "execution": {
     "iopub.execute_input": "2025-07-23T14:29:58.118080Z",
     "iopub.status.busy": "2025-07-23T14:29:58.117367Z",
     "iopub.status.idle": "2025-07-23T14:29:58.123874Z",
     "shell.execute_reply": "2025-07-23T14:29:58.123053Z"
    },
    "papermill": {
     "duration": 0.019656,
     "end_time": "2025-07-23T14:29:58.125280",
     "exception": false,
     "start_time": "2025-07-23T14:29:58.105624",
     "status": "completed"
    },
    "tags": []
   },
   "outputs": [
    {
     "data": {
      "text/plain": [
       "0.65"
      ]
     },
     "execution_count": 36,
     "metadata": {},
     "output_type": "execute_result"
    }
   ],
   "source": [
    "q_hat"
   ]
  },
  {
   "cell_type": "code",
   "execution_count": 37,
   "id": "92460794-cdac-4be2-ba28-f28c0515a6fb",
   "metadata": {
    "execution": {
     "iopub.execute_input": "2025-07-23T14:29:58.149054Z",
     "iopub.status.busy": "2025-07-23T14:29:58.148291Z",
     "iopub.status.idle": "2025-07-23T14:30:00.291220Z",
     "shell.execute_reply": "2025-07-23T14:30:00.290107Z"
    },
    "papermill": {
     "duration": 2.156227,
     "end_time": "2025-07-23T14:30:00.293008",
     "exception": false,
     "start_time": "2025-07-23T14:29:58.136781",
     "status": "completed"
    },
    "tags": []
   },
   "outputs": [],
   "source": [
    "from fairness_multiverse.conformal import predict_conformal_sets\n",
    "\n",
    "# Generate prediction sets for each test example\n",
    "pred_sets = predict_conformal_sets(model, X_test, q_hat)"
   ]
  },
  {
   "cell_type": "code",
   "execution_count": 38,
   "id": "d90c9a65-e6db-4f5d-80cd-e68fb7e46829",
   "metadata": {
    "execution": {
     "iopub.execute_input": "2025-07-23T14:30:00.337586Z",
     "iopub.status.busy": "2025-07-23T14:30:00.336951Z",
     "iopub.status.idle": "2025-07-23T14:30:00.343553Z",
     "shell.execute_reply": "2025-07-23T14:30:00.342384Z"
    },
    "papermill": {
     "duration": 0.031178,
     "end_time": "2025-07-23T14:30:00.345317",
     "exception": false,
     "start_time": "2025-07-23T14:30:00.314139",
     "status": "completed"
    },
    "tags": []
   },
   "outputs": [],
   "source": [
    "y_true = y_true.squeeze()"
   ]
  },
  {
   "cell_type": "code",
   "execution_count": 39,
   "id": "3a58a54a-1e68-46b9-927a-df01f18aebc8",
   "metadata": {
    "execution": {
     "iopub.execute_input": "2025-07-23T14:30:00.391433Z",
     "iopub.status.busy": "2025-07-23T14:30:00.390894Z",
     "iopub.status.idle": "2025-07-23T14:30:01.493923Z",
     "shell.execute_reply": "2025-07-23T14:30:01.492231Z"
    },
    "papermill": {
     "duration": 1.129034,
     "end_time": "2025-07-23T14:30:01.496168",
     "exception": false,
     "start_time": "2025-07-23T14:30:00.367134",
     "status": "completed"
    },
    "tags": []
   },
   "outputs": [],
   "source": [
    "from fairness_multiverse.conformal import evaluate_sets\n",
    "\n",
    "# Evaluate coverage and average set size on test data\n",
    "metrics = evaluate_sets(pred_sets, y_true)"
   ]
  },
  {
   "cell_type": "code",
   "execution_count": 40,
   "id": "5ce0a5cb-201f-45a0-ade5-94c7f0bd6095",
   "metadata": {
    "execution": {
     "iopub.execute_input": "2025-07-23T14:30:01.549963Z",
     "iopub.status.busy": "2025-07-23T14:30:01.549184Z",
     "iopub.status.idle": "2025-07-23T14:30:01.557709Z",
     "shell.execute_reply": "2025-07-23T14:30:01.556697Z"
    },
    "papermill": {
     "duration": 0.038619,
     "end_time": "2025-07-23T14:30:01.559521",
     "exception": false,
     "start_time": "2025-07-23T14:30:01.520902",
     "status": "completed"
    },
    "tags": []
   },
   "outputs": [
    {
     "data": {
      "text/plain": [
       "{'coverage': 0.914145580202876, 'avg_size': 1.1352914948166313}"
      ]
     },
     "execution_count": 40,
     "metadata": {},
     "output_type": "execute_result"
    }
   ],
   "source": [
    "metrics"
   ]
  },
  {
   "cell_type": "code",
   "execution_count": 41,
   "id": "9b9a838d-31c9-430b-ae14-12baee460d17",
   "metadata": {
    "execution": {
     "iopub.execute_input": "2025-07-23T14:30:01.607367Z",
     "iopub.status.busy": "2025-07-23T14:30:01.606477Z",
     "iopub.status.idle": "2025-07-23T14:30:01.613449Z",
     "shell.execute_reply": "2025-07-23T14:30:01.612424Z"
    },
    "papermill": {
     "duration": 0.033929,
     "end_time": "2025-07-23T14:30:01.615572",
     "exception": false,
     "start_time": "2025-07-23T14:30:01.581643",
     "status": "completed"
    },
    "tags": []
   },
   "outputs": [],
   "source": [
    "example_universe = universe.copy()\n",
    "universe_model = example_universe.get(\"model\")\n",
    "universe_exclude_features = example_universe.get(\"exclude_features\")\n",
    "universe_exclude_subgroups = example_universe.get(\"exclude_subgroups\")\n",
    "universe_scale = example_universe.get(\"scale\")"
   ]
  },
  {
   "cell_type": "code",
   "execution_count": 42,
   "id": "f4b6a8ac-9dc0-4245-8a91-5b3b5999c4f9",
   "metadata": {
    "execution": {
     "iopub.execute_input": "2025-07-23T14:30:01.663035Z",
     "iopub.status.busy": "2025-07-23T14:30:01.662096Z",
     "iopub.status.idle": "2025-07-23T14:30:01.669233Z",
     "shell.execute_reply": "2025-07-23T14:30:01.668162Z"
    },
    "papermill": {
     "duration": 0.032632,
     "end_time": "2025-07-23T14:30:01.671079",
     "exception": false,
     "start_time": "2025-07-23T14:30:01.638447",
     "status": "completed"
    },
    "tags": []
   },
   "outputs": [],
   "source": [
    "cp_metrics_dict = {\n",
    "    \"universe_id\": [universe_id],\n",
    "    \"universe_model\": [universe_model],\n",
    "    \"universe_exclude_features\": [universe_exclude_features],\n",
    "    \"universe_exclude_subgroups\": [universe_exclude_subgroups],\n",
    "    \"universe_scale\": [universe_scale],\n",
    "    \"q_hat\": [q_hat],\n",
    "    \"coverage\": [metrics[\"coverage\"]],\n",
    "    \"avg_size\": [metrics[\"avg_size\"]],\n",
    "}"
   ]
  },
  {
   "cell_type": "code",
   "execution_count": 43,
   "id": "908acbb1-0371-4915-85ca-3fa520d2efe2",
   "metadata": {
    "execution": {
     "iopub.execute_input": "2025-07-23T14:30:01.718976Z",
     "iopub.status.busy": "2025-07-23T14:30:01.718346Z",
     "iopub.status.idle": "2025-07-23T14:30:01.727131Z",
     "shell.execute_reply": "2025-07-23T14:30:01.726045Z"
    },
    "papermill": {
     "duration": 0.035304,
     "end_time": "2025-07-23T14:30:01.728937",
     "exception": false,
     "start_time": "2025-07-23T14:30:01.693633",
     "status": "completed"
    },
    "tags": []
   },
   "outputs": [
    {
     "data": {
      "text/plain": [
       "{'universe_id': ['36d38d02ffae68facba46031aaea0ba7'],\n",
       " 'universe_model': ['rf'],\n",
       " 'universe_exclude_features': ['age'],\n",
       " 'universe_exclude_subgroups': ['drop-non-german'],\n",
       " 'universe_scale': ['scale'],\n",
       " 'q_hat': [0.65],\n",
       " 'coverage': [0.914145580202876],\n",
       " 'avg_size': [1.1352914948166313]}"
      ]
     },
     "execution_count": 43,
     "metadata": {},
     "output_type": "execute_result"
    }
   ],
   "source": [
    "cp_metrics_dict"
   ]
  },
  {
   "cell_type": "code",
   "execution_count": 44,
   "id": "33007efc-14e9-4ec6-97ac-56a455c82265",
   "metadata": {
    "execution": {
     "iopub.execute_input": "2025-07-23T14:30:01.776849Z",
     "iopub.status.busy": "2025-07-23T14:30:01.776071Z",
     "iopub.status.idle": "2025-07-23T14:30:01.783602Z",
     "shell.execute_reply": "2025-07-23T14:30:01.782567Z"
    },
    "papermill": {
     "duration": 0.033311,
     "end_time": "2025-07-23T14:30:01.785413",
     "exception": false,
     "start_time": "2025-07-23T14:30:01.752102",
     "status": "completed"
    },
    "tags": []
   },
   "outputs": [],
   "source": [
    "cp_metrics_df = pd.DataFrame(cp_metrics_dict)"
   ]
  },
  {
   "cell_type": "code",
   "execution_count": 45,
   "id": "db12611b-57b2-4910-b9d0-355adfd6e7bf",
   "metadata": {
    "execution": {
     "iopub.execute_input": "2025-07-23T14:30:01.834435Z",
     "iopub.status.busy": "2025-07-23T14:30:01.833386Z",
     "iopub.status.idle": "2025-07-23T14:30:01.852758Z",
     "shell.execute_reply": "2025-07-23T14:30:01.851690Z"
    },
    "papermill": {
     "duration": 0.046039,
     "end_time": "2025-07-23T14:30:01.854533",
     "exception": false,
     "start_time": "2025-07-23T14:30:01.808494",
     "status": "completed"
    },
    "tags": []
   },
   "outputs": [
    {
     "data": {
      "text/html": [
       "<div>\n",
       "<style scoped>\n",
       "    .dataframe tbody tr th:only-of-type {\n",
       "        vertical-align: middle;\n",
       "    }\n",
       "\n",
       "    .dataframe tbody tr th {\n",
       "        vertical-align: top;\n",
       "    }\n",
       "\n",
       "    .dataframe thead th {\n",
       "        text-align: right;\n",
       "    }\n",
       "</style>\n",
       "<table border=\"1\" class=\"dataframe\">\n",
       "  <thead>\n",
       "    <tr style=\"text-align: right;\">\n",
       "      <th></th>\n",
       "      <th>universe_id</th>\n",
       "      <th>universe_model</th>\n",
       "      <th>universe_exclude_features</th>\n",
       "      <th>universe_exclude_subgroups</th>\n",
       "      <th>universe_scale</th>\n",
       "      <th>q_hat</th>\n",
       "      <th>coverage</th>\n",
       "      <th>avg_size</th>\n",
       "    </tr>\n",
       "  </thead>\n",
       "  <tbody>\n",
       "    <tr>\n",
       "      <th>0</th>\n",
       "      <td>36d38d02ffae68facba46031aaea0ba7</td>\n",
       "      <td>rf</td>\n",
       "      <td>age</td>\n",
       "      <td>drop-non-german</td>\n",
       "      <td>scale</td>\n",
       "      <td>0.65</td>\n",
       "      <td>0.914146</td>\n",
       "      <td>1.135291</td>\n",
       "    </tr>\n",
       "  </tbody>\n",
       "</table>\n",
       "</div>"
      ],
      "text/plain": [
       "                        universe_id universe_model universe_exclude_features  \\\n",
       "0  36d38d02ffae68facba46031aaea0ba7             rf                       age   \n",
       "\n",
       "  universe_exclude_subgroups universe_scale  q_hat  coverage  avg_size  \n",
       "0            drop-non-german          scale   0.65  0.914146  1.135291  "
      ]
     },
     "execution_count": 45,
     "metadata": {},
     "output_type": "execute_result"
    }
   ],
   "source": [
    "cp_metrics_df"
   ]
  },
  {
   "cell_type": "code",
   "execution_count": 46,
   "id": "b7fbde55-a0a1-47e4-9af6-fe4a17fa8c61",
   "metadata": {
    "execution": {
     "iopub.execute_input": "2025-07-23T14:30:01.903410Z",
     "iopub.status.busy": "2025-07-23T14:30:01.902534Z",
     "iopub.status.idle": "2025-07-23T14:30:01.908535Z",
     "shell.execute_reply": "2025-07-23T14:30:01.907512Z"
    },
    "papermill": {
     "duration": 0.031767,
     "end_time": "2025-07-23T14:30:01.910291",
     "exception": false,
     "start_time": "2025-07-23T14:30:01.878524",
     "status": "completed"
    },
    "tags": []
   },
   "outputs": [],
   "source": [
    "# Conditional Coverage & looking at subgroups"
   ]
  },
  {
   "cell_type": "code",
   "execution_count": 47,
   "id": "027ae886-68dd-4141-96c7-805a5450e1ef",
   "metadata": {
    "execution": {
     "iopub.execute_input": "2025-07-23T14:30:01.959760Z",
     "iopub.status.busy": "2025-07-23T14:30:01.959046Z",
     "iopub.status.idle": "2025-07-23T14:30:02.261484Z",
     "shell.execute_reply": "2025-07-23T14:30:02.260388Z"
    },
    "papermill": {
     "duration": 0.32925,
     "end_time": "2025-07-23T14:30:02.263478",
     "exception": false,
     "start_time": "2025-07-23T14:30:01.934228",
     "status": "completed"
    },
    "tags": []
   },
   "outputs": [],
   "source": [
    "from fairness_multiverse.conformal import build_cp_groups\n",
    "\n",
    "cp_groups_df = build_cp_groups(pred_sets, y_true, X_test.index, org_test)\n",
    "#needs universe_id and setting"
   ]
  },
  {
   "cell_type": "code",
   "execution_count": 48,
   "id": "c3b92545-903e-4839-89af-0f057907d7d6",
   "metadata": {
    "execution": {
     "iopub.execute_input": "2025-07-23T14:30:02.312343Z",
     "iopub.status.busy": "2025-07-23T14:30:02.311620Z",
     "iopub.status.idle": "2025-07-23T14:30:04.176122Z",
     "shell.execute_reply": "2025-07-23T14:30:04.174986Z"
    },
    "papermill": {
     "duration": 1.891591,
     "end_time": "2025-07-23T14:30:04.178338",
     "exception": false,
     "start_time": "2025-07-23T14:30:02.286747",
     "status": "completed"
    },
    "tags": []
   },
   "outputs": [],
   "source": [
    "# Define covered = 1 if true_label is in the predicted set\n",
    "cp_groups_df['covered'] = cp_groups_df.apply(\n",
    "    lambda r: int(r['true_label'] in r['pred_set']),\n",
    "    axis=1\n",
    ")"
   ]
  },
  {
   "cell_type": "code",
   "execution_count": 49,
   "id": "338ff529-1a6b-4b87-a931-8e4788d52aad",
   "metadata": {
    "execution": {
     "iopub.execute_input": "2025-07-23T14:30:04.227708Z",
     "iopub.status.busy": "2025-07-23T14:30:04.226979Z",
     "iopub.status.idle": "2025-07-23T14:30:04.233139Z",
     "shell.execute_reply": "2025-07-23T14:30:04.232170Z"
    },
    "papermill": {
     "duration": 0.032082,
     "end_time": "2025-07-23T14:30:04.234922",
     "exception": false,
     "start_time": "2025-07-23T14:30:04.202840",
     "status": "completed"
    },
    "tags": []
   },
   "outputs": [],
   "source": [
    "#cp_groups_df"
   ]
  },
  {
   "cell_type": "code",
   "execution_count": 50,
   "id": "90032e27-66df-4540-9169-4e89cfbaa758",
   "metadata": {
    "execution": {
     "iopub.execute_input": "2025-07-23T14:30:04.286638Z",
     "iopub.status.busy": "2025-07-23T14:30:04.285882Z",
     "iopub.status.idle": "2025-07-23T14:30:04.299590Z",
     "shell.execute_reply": "2025-07-23T14:30:04.298351Z"
    },
    "papermill": {
     "duration": 0.041287,
     "end_time": "2025-07-23T14:30:04.301629",
     "exception": false,
     "start_time": "2025-07-23T14:30:04.260342",
     "status": "completed"
    },
    "tags": []
   },
   "outputs": [],
   "source": [
    "subgroups = ['frau1','nongerman','nongerman_male','nongerman_female']\n",
    "\n",
    "# Conditional coverage for subgroup==1\n",
    "cond_coverage = {\n",
    "    g: cp_groups_df.loc[cp_groups_df[g]==1, 'covered'].mean()\n",
    "    for g in subgroups\n",
    "}"
   ]
  },
  {
   "cell_type": "code",
   "execution_count": 51,
   "id": "1e348fb1-b9c3-45bc-ba23-f016827a7e0d",
   "metadata": {
    "execution": {
     "iopub.execute_input": "2025-07-23T14:30:04.352047Z",
     "iopub.status.busy": "2025-07-23T14:30:04.351587Z",
     "iopub.status.idle": "2025-07-23T14:30:04.359278Z",
     "shell.execute_reply": "2025-07-23T14:30:04.358272Z"
    },
    "papermill": {
     "duration": 0.035879,
     "end_time": "2025-07-23T14:30:04.361183",
     "exception": false,
     "start_time": "2025-07-23T14:30:04.325304",
     "status": "completed"
    },
    "tags": []
   },
   "outputs": [
    {
     "data": {
      "text/plain": [
       "{'frau1': 0.9145167812373636,\n",
       " 'nongerman': 0.9108516252175377,\n",
       " 'nongerman_male': 0.9256056921552733,\n",
       " 'nongerman_female': 0.8864381520119226}"
      ]
     },
     "execution_count": 51,
     "metadata": {},
     "output_type": "execute_result"
    }
   ],
   "source": [
    "cond_coverage"
   ]
  },
  {
   "cell_type": "code",
   "execution_count": 52,
   "id": "f5093324-c3dd-4d63-bc4c-8d945e5c8bbb",
   "metadata": {
    "execution": {
     "iopub.execute_input": "2025-07-23T14:30:04.425973Z",
     "iopub.status.busy": "2025-07-23T14:30:04.425429Z",
     "iopub.status.idle": "2025-07-23T14:30:04.433522Z",
     "shell.execute_reply": "2025-07-23T14:30:04.432345Z"
    },
    "papermill": {
     "duration": 0.047904,
     "end_time": "2025-07-23T14:30:04.435344",
     "exception": false,
     "start_time": "2025-07-23T14:30:04.387440",
     "status": "completed"
    },
    "tags": []
   },
   "outputs": [],
   "source": [
    "for subgroup, cov in cond_coverage.items():\n",
    "    cp_metrics_df[f\"cov_{subgroup}\"] = cov"
   ]
  },
  {
   "cell_type": "code",
   "execution_count": 53,
   "id": "6e872e10-dbe5-49e8-b554-5030c98ff75d",
   "metadata": {
    "execution": {
     "iopub.execute_input": "2025-07-23T14:30:04.500810Z",
     "iopub.status.busy": "2025-07-23T14:30:04.500254Z",
     "iopub.status.idle": "2025-07-23T14:30:04.520709Z",
     "shell.execute_reply": "2025-07-23T14:30:04.519698Z"
    },
    "papermill": {
     "duration": 0.065486,
     "end_time": "2025-07-23T14:30:04.523903",
     "exception": false,
     "start_time": "2025-07-23T14:30:04.458417",
     "status": "completed"
    },
    "tags": []
   },
   "outputs": [
    {
     "data": {
      "text/html": [
       "<div>\n",
       "<style scoped>\n",
       "    .dataframe tbody tr th:only-of-type {\n",
       "        vertical-align: middle;\n",
       "    }\n",
       "\n",
       "    .dataframe tbody tr th {\n",
       "        vertical-align: top;\n",
       "    }\n",
       "\n",
       "    .dataframe thead th {\n",
       "        text-align: right;\n",
       "    }\n",
       "</style>\n",
       "<table border=\"1\" class=\"dataframe\">\n",
       "  <thead>\n",
       "    <tr style=\"text-align: right;\">\n",
       "      <th></th>\n",
       "      <th>universe_id</th>\n",
       "      <th>universe_model</th>\n",
       "      <th>universe_exclude_features</th>\n",
       "      <th>universe_exclude_subgroups</th>\n",
       "      <th>universe_scale</th>\n",
       "      <th>q_hat</th>\n",
       "      <th>coverage</th>\n",
       "      <th>avg_size</th>\n",
       "      <th>cov_frau1</th>\n",
       "      <th>cov_nongerman</th>\n",
       "      <th>cov_nongerman_male</th>\n",
       "      <th>cov_nongerman_female</th>\n",
       "    </tr>\n",
       "  </thead>\n",
       "  <tbody>\n",
       "    <tr>\n",
       "      <th>0</th>\n",
       "      <td>36d38d02ffae68facba46031aaea0ba7</td>\n",
       "      <td>rf</td>\n",
       "      <td>age</td>\n",
       "      <td>drop-non-german</td>\n",
       "      <td>scale</td>\n",
       "      <td>0.65</td>\n",
       "      <td>0.914146</td>\n",
       "      <td>1.135291</td>\n",
       "      <td>0.914517</td>\n",
       "      <td>0.910852</td>\n",
       "      <td>0.925606</td>\n",
       "      <td>0.886438</td>\n",
       "    </tr>\n",
       "  </tbody>\n",
       "</table>\n",
       "</div>"
      ],
      "text/plain": [
       "                        universe_id universe_model universe_exclude_features  \\\n",
       "0  36d38d02ffae68facba46031aaea0ba7             rf                       age   \n",
       "\n",
       "  universe_exclude_subgroups universe_scale  q_hat  coverage  avg_size  \\\n",
       "0            drop-non-german          scale   0.65  0.914146  1.135291   \n",
       "\n",
       "   cov_frau1  cov_nongerman  cov_nongerman_male  cov_nongerman_female  \n",
       "0   0.914517       0.910852            0.925606              0.886438  "
      ]
     },
     "execution_count": 53,
     "metadata": {},
     "output_type": "execute_result"
    }
   ],
   "source": [
    "cp_metrics_df"
   ]
  },
  {
   "cell_type": "markdown",
   "id": "33774451",
   "metadata": {
    "papermill": {
     "duration": 0.023398,
     "end_time": "2025-07-23T14:30:04.572250",
     "exception": false,
     "start_time": "2025-07-23T14:30:04.548852",
     "status": "completed"
    },
    "tags": []
   },
   "source": [
    "# (Fairness) Metrics"
   ]
  },
  {
   "cell_type": "code",
   "execution_count": 54,
   "id": "debc5d62",
   "metadata": {
    "execution": {
     "iopub.execute_input": "2025-07-23T14:30:04.622454Z",
     "iopub.status.busy": "2025-07-23T14:30:04.621456Z",
     "iopub.status.idle": "2025-07-23T14:30:04.645566Z",
     "shell.execute_reply": "2025-07-23T14:30:04.644547Z"
    },
    "papermill": {
     "duration": 0.05083,
     "end_time": "2025-07-23T14:30:04.647412",
     "exception": false,
     "start_time": "2025-07-23T14:30:04.596582",
     "status": "completed"
    },
    "tags": []
   },
   "outputs": [],
   "source": [
    "# do I need to include maxdeutsch1.missing?\n",
    "\n",
    "import numpy as np\n",
    "\n",
    "colname_to_bin = \"maxdeutsch1\"\n",
    "majority_value = org_train[colname_to_bin].mode()[0]\n",
    "\n",
    "org_test[\"majmin\"] = np.where(org_test[colname_to_bin] == majority_value, \"majority\", \"minority\")"
   ]
  },
  {
   "cell_type": "code",
   "execution_count": 55,
   "id": "06a50de5",
   "metadata": {
    "execution": {
     "iopub.execute_input": "2025-07-23T14:30:04.697838Z",
     "iopub.status.busy": "2025-07-23T14:30:04.696955Z",
     "iopub.status.idle": "2025-07-23T14:30:08.019524Z",
     "shell.execute_reply": "2025-07-23T14:30:08.018452Z"
    },
    "papermill": {
     "duration": 3.350212,
     "end_time": "2025-07-23T14:30:08.021670",
     "exception": false,
     "start_time": "2025-07-23T14:30:04.671458",
     "status": "completed"
    },
    "tags": []
   },
   "outputs": [],
   "source": [
    "example_universe = universe.copy()\n",
    "example_universe[\"cutoff\"] = example_universe[\"cutoff\"][0]\n",
    "example_universe[\"eval_fairness_grouping\"] = example_universe[\"eval_fairness_grouping\"][0]\n",
    "fairness_dict, metric_frame = universe_analysis.compute_metrics(\n",
    "    example_universe,\n",
    "    y_pred_prob=probs_test,\n",
    "    y_test=y_true,\n",
    "    org_test=org_test,\n",
    ")"
   ]
  },
  {
   "cell_type": "markdown",
   "id": "f95d4e02",
   "metadata": {
    "papermill": {
     "duration": 0.023523,
     "end_time": "2025-07-23T14:30:08.071880",
     "exception": false,
     "start_time": "2025-07-23T14:30:08.048357",
     "status": "completed"
    },
    "tags": []
   },
   "source": [
    "# Overall"
   ]
  },
  {
   "cell_type": "markdown",
   "id": "bdee4871",
   "metadata": {
    "papermill": {
     "duration": 0.024056,
     "end_time": "2025-07-23T14:30:08.119257",
     "exception": false,
     "start_time": "2025-07-23T14:30:08.095201",
     "status": "completed"
    },
    "tags": []
   },
   "source": [
    "Fairness\n",
    "Main fairness target: Equalized Odds. Seems to be a better fit than equal opportunity, since we're not only interested in Y = 1. Seems to be a better fit than demographic parity, since we also care about accuracy, not just equal distribution of preds.\n",
    "\n",
    "Pick column for computation of fairness metrics\n",
    "\n",
    "Performance\n",
    "Overall performance measures, most interesting in relation to the measures split by group below"
   ]
  },
  {
   "cell_type": "code",
   "execution_count": 56,
   "id": "c4e067c6",
   "metadata": {
    "execution": {
     "iopub.execute_input": "2025-07-23T14:30:08.170538Z",
     "iopub.status.busy": "2025-07-23T14:30:08.169782Z",
     "iopub.status.idle": "2025-07-23T14:30:08.179832Z",
     "shell.execute_reply": "2025-07-23T14:30:08.178720Z"
    },
    "papermill": {
     "duration": 0.037494,
     "end_time": "2025-07-23T14:30:08.181577",
     "exception": false,
     "start_time": "2025-07-23T14:30:08.144083",
     "status": "completed"
    },
    "tags": []
   },
   "outputs": [
    {
     "data": {
      "text/plain": [
       "accuracy                   0.194794\n",
       "balanced accuracy          0.529073\n",
       "f1                         0.237714\n",
       "precision                  0.135286\n",
       "false positive rate        0.920565\n",
       "false negative rate        0.021290\n",
       "selection rate             0.928024\n",
       "count                  89710.000000\n",
       "dtype: float64"
      ]
     },
     "execution_count": 56,
     "metadata": {},
     "output_type": "execute_result"
    }
   ],
   "source": [
    "metric_frame.overall"
   ]
  },
  {
   "cell_type": "markdown",
   "id": "e968fe9d",
   "metadata": {
    "papermill": {
     "duration": 0.022807,
     "end_time": "2025-07-23T14:30:08.227483",
     "exception": false,
     "start_time": "2025-07-23T14:30:08.204676",
     "status": "completed"
    },
    "tags": []
   },
   "source": [
    "By Group"
   ]
  },
  {
   "cell_type": "code",
   "execution_count": 57,
   "id": "ec325bce",
   "metadata": {
    "execution": {
     "iopub.execute_input": "2025-07-23T14:30:08.275460Z",
     "iopub.status.busy": "2025-07-23T14:30:08.274503Z",
     "iopub.status.idle": "2025-07-23T14:30:08.293498Z",
     "shell.execute_reply": "2025-07-23T14:30:08.292320Z"
    },
    "papermill": {
     "duration": 0.044544,
     "end_time": "2025-07-23T14:30:08.295302",
     "exception": false,
     "start_time": "2025-07-23T14:30:08.250758",
     "status": "completed"
    },
    "tags": []
   },
   "outputs": [
    {
     "data": {
      "text/html": [
       "<div>\n",
       "<style scoped>\n",
       "    .dataframe tbody tr th:only-of-type {\n",
       "        vertical-align: middle;\n",
       "    }\n",
       "\n",
       "    .dataframe tbody tr th {\n",
       "        vertical-align: top;\n",
       "    }\n",
       "\n",
       "    .dataframe thead th {\n",
       "        text-align: right;\n",
       "    }\n",
       "</style>\n",
       "<table border=\"1\" class=\"dataframe\">\n",
       "  <thead>\n",
       "    <tr style=\"text-align: right;\">\n",
       "      <th></th>\n",
       "      <th>accuracy</th>\n",
       "      <th>balanced accuracy</th>\n",
       "      <th>f1</th>\n",
       "      <th>precision</th>\n",
       "      <th>false positive rate</th>\n",
       "      <th>false negative rate</th>\n",
       "      <th>selection rate</th>\n",
       "      <th>count</th>\n",
       "    </tr>\n",
       "    <tr>\n",
       "      <th>majmin</th>\n",
       "      <th></th>\n",
       "      <th></th>\n",
       "      <th></th>\n",
       "      <th></th>\n",
       "      <th></th>\n",
       "      <th></th>\n",
       "      <th></th>\n",
       "      <th></th>\n",
       "    </tr>\n",
       "  </thead>\n",
       "  <tbody>\n",
       "    <tr>\n",
       "      <th>majority</th>\n",
       "      <td>0.185297</td>\n",
       "      <td>0.527241</td>\n",
       "      <td>0.243452</td>\n",
       "      <td>0.138752</td>\n",
       "      <td>0.937531</td>\n",
       "      <td>0.007987</td>\n",
       "      <td>0.944730</td>\n",
       "      <td>69170.0</td>\n",
       "    </tr>\n",
       "    <tr>\n",
       "      <th>minority</th>\n",
       "      <td>0.226777</td>\n",
       "      <td>0.531424</td>\n",
       "      <td>0.216632</td>\n",
       "      <td>0.122640</td>\n",
       "      <td>0.864517</td>\n",
       "      <td>0.072635</td>\n",
       "      <td>0.871762</td>\n",
       "      <td>20540.0</td>\n",
       "    </tr>\n",
       "  </tbody>\n",
       "</table>\n",
       "</div>"
      ],
      "text/plain": [
       "          accuracy  balanced accuracy        f1  precision  \\\n",
       "majmin                                                       \n",
       "majority  0.185297           0.527241  0.243452   0.138752   \n",
       "minority  0.226777           0.531424  0.216632   0.122640   \n",
       "\n",
       "          false positive rate  false negative rate  selection rate    count  \n",
       "majmin                                                                       \n",
       "majority             0.937531             0.007987        0.944730  69170.0  \n",
       "minority             0.864517             0.072635        0.871762  20540.0  "
      ]
     },
     "execution_count": 57,
     "metadata": {},
     "output_type": "execute_result"
    }
   ],
   "source": [
    "metric_frame.by_group"
   ]
  },
  {
   "cell_type": "code",
   "execution_count": 58,
   "id": "a9ddbe63",
   "metadata": {
    "execution": {
     "iopub.execute_input": "2025-07-23T14:30:08.344804Z",
     "iopub.status.busy": "2025-07-23T14:30:08.343805Z",
     "iopub.status.idle": "2025-07-23T14:30:11.003724Z",
     "shell.execute_reply": "2025-07-23T14:30:11.002708Z"
    },
    "papermill": {
     "duration": 2.686325,
     "end_time": "2025-07-23T14:30:11.005517",
     "exception": false,
     "start_time": "2025-07-23T14:30:08.319192",
     "status": "completed"
    },
    "tags": []
   },
   "outputs": [
    {
     "data": {
      "text/plain": [
       "array([[<Axes: title={'center': 'accuracy'}, xlabel='majmin'>,\n",
       "        <Axes: title={'center': 'balanced accuracy'}, xlabel='majmin'>,\n",
       "        <Axes: title={'center': 'f1'}, xlabel='majmin'>],\n",
       "       [<Axes: title={'center': 'precision'}, xlabel='majmin'>,\n",
       "        <Axes: title={'center': 'false positive rate'}, xlabel='majmin'>,\n",
       "        <Axes: title={'center': 'false negative rate'}, xlabel='majmin'>],\n",
       "       [<Axes: title={'center': 'selection rate'}, xlabel='majmin'>,\n",
       "        <Axes: title={'center': 'count'}, xlabel='majmin'>,\n",
       "        <Axes: xlabel='majmin'>]], dtype=object)"
      ]
     },
     "execution_count": 58,
     "metadata": {},
     "output_type": "execute_result"
    },
    {
     "data": {
      "image/png": "[encoded data removed]",
      "text/plain": [
       "<Figure size 1200x800 with 9 Axes>"
      ]
     },
     "metadata": {},
     "output_type": "display_data"
    }
   ],
   "source": [
    "# In a graphic\n",
    "metric_frame.by_group.plot.bar(\n",
    "    subplots=True,\n",
    "    layout=[3, 3],\n",
    "    legend=False,\n",
    "    figsize=[12, 8],\n",
    "    title=\"Show all metrics\",\n",
    ")"
   ]
  },
  {
   "cell_type": "markdown",
   "id": "f57a0bac",
   "metadata": {
    "papermill": {
     "duration": 0.025659,
     "end_time": "2025-07-23T14:30:11.059315",
     "exception": false,
     "start_time": "2025-07-23T14:30:11.033656",
     "status": "completed"
    },
    "tags": []
   },
   "source": [
    "# Final Output"
   ]
  },
  {
   "cell_type": "code",
   "execution_count": 59,
   "id": "96d280a3",
   "metadata": {
    "execution": {
     "iopub.execute_input": "2025-07-23T14:30:11.113149Z",
     "iopub.status.busy": "2025-07-23T14:30:11.112438Z",
     "iopub.status.idle": "2025-07-23T14:30:11.121854Z",
     "shell.execute_reply": "2025-07-23T14:30:11.120788Z"
    },
    "papermill": {
     "duration": 0.039251,
     "end_time": "2025-07-23T14:30:11.123681",
     "exception": false,
     "start_time": "2025-07-23T14:30:11.084430",
     "status": "completed"
    },
    "tags": []
   },
   "outputs": [
    {
     "data": {
      "text/plain": [
       "4"
      ]
     },
     "execution_count": 59,
     "metadata": {},
     "output_type": "execute_result"
    }
   ],
   "source": [
    "sub_universes = universe_analysis.generate_sub_universes()\n",
    "len(sub_universes)"
   ]
  },
  {
   "cell_type": "code",
   "execution_count": 60,
   "id": "92adf7ba",
   "metadata": {
    "execution": {
     "iopub.execute_input": "2025-07-23T14:30:11.188488Z",
     "iopub.status.busy": "2025-07-23T14:30:11.187695Z",
     "iopub.status.idle": "2025-07-23T14:30:11.194935Z",
     "shell.execute_reply": "2025-07-23T14:30:11.193691Z"
    },
    "papermill": {
     "duration": 0.043547,
     "end_time": "2025-07-23T14:30:11.197318",
     "exception": false,
     "start_time": "2025-07-23T14:30:11.153771",
     "status": "completed"
    },
    "tags": []
   },
   "outputs": [],
   "source": [
    "def filter_sub_universe_data(sub_universe, org_test):\n",
    "    # Keep all rows — no filtering\n",
    "    keep_rows_mask = np.ones(org_test.shape[0], dtype=bool)\n",
    "\n",
    "    print(f\"[INFO] Keeping all rows: {keep_rows_mask.sum()} rows retained.\")\n",
    "    return keep_rows_mask"
   ]
  },
  {
   "cell_type": "code",
   "execution_count": 61,
   "id": "4a759155",
   "metadata": {
    "execution": {
     "iopub.execute_input": "2025-07-23T14:30:11.260180Z",
     "iopub.status.busy": "2025-07-23T14:30:11.259247Z",
     "iopub.status.idle": "2025-07-23T14:30:19.764327Z",
     "shell.execute_reply": "2025-07-23T14:30:19.763158Z"
    },
    "papermill": {
     "duration": 8.534322,
     "end_time": "2025-07-23T14:30:19.766273",
     "exception": false,
     "start_time": "2025-07-23T14:30:11.231951",
     "status": "completed"
    },
    "tags": []
   },
   "outputs": [
    {
     "name": "stdout",
     "output_type": "stream",
     "text": [
      "Stopping execution_time clock.\n",
      "[INFO] Keeping all rows: 89710 rows retained.\n"
     ]
    },
    {
     "name": "stdout",
     "output_type": "stream",
     "text": [
      "[INFO] Keeping all rows: 89710 rows retained.\n"
     ]
    },
    {
     "name": "stdout",
     "output_type": "stream",
     "text": [
      "[INFO] Keeping all rows: 89710 rows retained.\n"
     ]
    },
    {
     "name": "stdout",
     "output_type": "stream",
     "text": [
      "[INFO] Keeping all rows: 89710 rows retained.\n"
     ]
    },
    {
     "data": {
      "text/html": [
       "<div>\n",
       "<style scoped>\n",
       "    .dataframe tbody tr th:only-of-type {\n",
       "        vertical-align: middle;\n",
       "    }\n",
       "\n",
       "    .dataframe tbody tr th {\n",
       "        vertical-align: top;\n",
       "    }\n",
       "\n",
       "    .dataframe thead th {\n",
       "        text-align: right;\n",
       "    }\n",
       "</style>\n",
       "<table border=\"1\" class=\"dataframe\">\n",
       "  <thead>\n",
       "    <tr style=\"text-align: right;\">\n",
       "      <th></th>\n",
       "      <th>run_no</th>\n",
       "      <th>universe_id</th>\n",
       "      <th>universe_settings</th>\n",
       "      <th>execution_time</th>\n",
       "      <th>test_size_n</th>\n",
       "      <th>test_size_frac</th>\n",
       "      <th>fair_main_equalized_odds_difference</th>\n",
       "      <th>fair_main_equalized_odds_ratio</th>\n",
       "      <th>fair_main_demographic_parity_difference</th>\n",
       "      <th>fair_main_demographic_parity_ratio</th>\n",
       "      <th>...</th>\n",
       "      <th>perf_grp_precision_0</th>\n",
       "      <th>perf_grp_precision_1</th>\n",
       "      <th>perf_grp_false positive rate_0</th>\n",
       "      <th>perf_grp_false positive rate_1</th>\n",
       "      <th>perf_grp_false negative rate_0</th>\n",
       "      <th>perf_grp_false negative rate_1</th>\n",
       "      <th>perf_grp_selection rate_0</th>\n",
       "      <th>perf_grp_selection rate_1</th>\n",
       "      <th>perf_grp_count_0</th>\n",
       "      <th>perf_grp_count_1</th>\n",
       "    </tr>\n",
       "  </thead>\n",
       "  <tbody>\n",
       "    <tr>\n",
       "      <th>0</th>\n",
       "      <td>9</td>\n",
       "      <td>36d38d02ffae68facba46031aaea0ba7</td>\n",
       "      <td>{\"cutoff\": \"quantile_0.1\", \"eval_fairness_grou...</td>\n",
       "      <td>37.973602</td>\n",
       "      <td>89710</td>\n",
       "      <td>1.0</td>\n",
       "      <td>0.073014</td>\n",
       "      <td>0.922121</td>\n",
       "      <td>0.072968</td>\n",
       "      <td>0.922763</td>\n",
       "      <td>...</td>\n",
       "      <td>NaN</td>\n",
       "      <td>NaN</td>\n",
       "      <td>NaN</td>\n",
       "      <td>NaN</td>\n",
       "      <td>NaN</td>\n",
       "      <td>NaN</td>\n",
       "      <td>NaN</td>\n",
       "      <td>NaN</td>\n",
       "      <td>NaN</td>\n",
       "      <td>NaN</td>\n",
       "    </tr>\n",
       "    <tr>\n",
       "      <th>0</th>\n",
       "      <td>9</td>\n",
       "      <td>36d38d02ffae68facba46031aaea0ba7</td>\n",
       "      <td>{\"cutoff\": \"quantile_0.1\", \"eval_fairness_grou...</td>\n",
       "      <td>37.973602</td>\n",
       "      <td>89710</td>\n",
       "      <td>1.0</td>\n",
       "      <td>0.073014</td>\n",
       "      <td>0.922121</td>\n",
       "      <td>0.072968</td>\n",
       "      <td>0.922763</td>\n",
       "      <td>...</td>\n",
       "      <td>0.122640</td>\n",
       "      <td>0.138752</td>\n",
       "      <td>0.864517</td>\n",
       "      <td>0.937531</td>\n",
       "      <td>0.072635</td>\n",
       "      <td>0.007987</td>\n",
       "      <td>0.871762</td>\n",
       "      <td>0.944730</td>\n",
       "      <td>20540.0</td>\n",
       "      <td>69170.0</td>\n",
       "    </tr>\n",
       "    <tr>\n",
       "      <th>0</th>\n",
       "      <td>9</td>\n",
       "      <td>36d38d02ffae68facba46031aaea0ba7</td>\n",
       "      <td>{\"cutoff\": \"quantile_0.25\", \"eval_fairness_gro...</td>\n",
       "      <td>37.973602</td>\n",
       "      <td>89710</td>\n",
       "      <td>1.0</td>\n",
       "      <td>0.115893</td>\n",
       "      <td>0.879286</td>\n",
       "      <td>0.092769</td>\n",
       "      <td>0.883915</td>\n",
       "      <td>...</td>\n",
       "      <td>NaN</td>\n",
       "      <td>NaN</td>\n",
       "      <td>NaN</td>\n",
       "      <td>NaN</td>\n",
       "      <td>NaN</td>\n",
       "      <td>NaN</td>\n",
       "      <td>NaN</td>\n",
       "      <td>NaN</td>\n",
       "      <td>NaN</td>\n",
       "      <td>NaN</td>\n",
       "    </tr>\n",
       "    <tr>\n",
       "      <th>0</th>\n",
       "      <td>9</td>\n",
       "      <td>36d38d02ffae68facba46031aaea0ba7</td>\n",
       "      <td>{\"cutoff\": \"quantile_0.25\", \"eval_fairness_gro...</td>\n",
       "      <td>37.973602</td>\n",
       "      <td>89710</td>\n",
       "      <td>1.0</td>\n",
       "      <td>0.115893</td>\n",
       "      <td>0.879286</td>\n",
       "      <td>0.092769</td>\n",
       "      <td>0.883915</td>\n",
       "      <td>...</td>\n",
       "      <td>0.137777</td>\n",
       "      <td>0.158746</td>\n",
       "      <td>0.688422</td>\n",
       "      <td>0.774646</td>\n",
       "      <td>0.155828</td>\n",
       "      <td>0.039934</td>\n",
       "      <td>0.706378</td>\n",
       "      <td>0.799147</td>\n",
       "      <td>20540.0</td>\n",
       "      <td>69170.0</td>\n",
       "    </tr>\n",
       "  </tbody>\n",
       "</table>\n",
       "<p>4 rows × 50 columns</p>\n",
       "</div>"
      ],
      "text/plain": [
       "  run_no                       universe_id  \\\n",
       "0      9  36d38d02ffae68facba46031aaea0ba7   \n",
       "0      9  36d38d02ffae68facba46031aaea0ba7   \n",
       "0      9  36d38d02ffae68facba46031aaea0ba7   \n",
       "0      9  36d38d02ffae68facba46031aaea0ba7   \n",
       "\n",
       "                                   universe_settings  execution_time  \\\n",
       "0  {\"cutoff\": \"quantile_0.1\", \"eval_fairness_grou...       37.973602   \n",
       "0  {\"cutoff\": \"quantile_0.1\", \"eval_fairness_grou...       37.973602   \n",
       "0  {\"cutoff\": \"quantile_0.25\", \"eval_fairness_gro...       37.973602   \n",
       "0  {\"cutoff\": \"quantile_0.25\", \"eval_fairness_gro...       37.973602   \n",
       "\n",
       "   test_size_n  test_size_frac  fair_main_equalized_odds_difference  \\\n",
       "0        89710             1.0                             0.073014   \n",
       "0        89710             1.0                             0.073014   \n",
       "0        89710             1.0                             0.115893   \n",
       "0        89710             1.0                             0.115893   \n",
       "\n",
       "   fair_main_equalized_odds_ratio  fair_main_demographic_parity_difference  \\\n",
       "0                        0.922121                                 0.072968   \n",
       "0                        0.922121                                 0.072968   \n",
       "0                        0.879286                                 0.092769   \n",
       "0                        0.879286                                 0.092769   \n",
       "\n",
       "   fair_main_demographic_parity_ratio  ...  perf_grp_precision_0  \\\n",
       "0                            0.922763  ...                   NaN   \n",
       "0                            0.922763  ...              0.122640   \n",
       "0                            0.883915  ...                   NaN   \n",
       "0                            0.883915  ...              0.137777   \n",
       "\n",
       "   perf_grp_precision_1  perf_grp_false positive rate_0  \\\n",
       "0                   NaN                             NaN   \n",
       "0              0.138752                        0.864517   \n",
       "0                   NaN                             NaN   \n",
       "0              0.158746                        0.688422   \n",
       "\n",
       "   perf_grp_false positive rate_1  perf_grp_false negative rate_0  \\\n",
       "0                             NaN                             NaN   \n",
       "0                        0.937531                        0.072635   \n",
       "0                             NaN                             NaN   \n",
       "0                        0.774646                        0.155828   \n",
       "\n",
       "   perf_grp_false negative rate_1  perf_grp_selection rate_0  \\\n",
       "0                             NaN                        NaN   \n",
       "0                        0.007987                   0.871762   \n",
       "0                             NaN                        NaN   \n",
       "0                        0.039934                   0.706378   \n",
       "\n",
       "   perf_grp_selection rate_1  perf_grp_count_0  perf_grp_count_1  \n",
       "0                        NaN               NaN               NaN  \n",
       "0                   0.944730           20540.0           69170.0  \n",
       "0                        NaN               NaN               NaN  \n",
       "0                   0.799147           20540.0           69170.0  \n",
       "\n",
       "[4 rows x 50 columns]"
      ]
     },
     "execution_count": 61,
     "metadata": {},
     "output_type": "execute_result"
    }
   ],
   "source": [
    "final_output = universe_analysis.generate_final_output(\n",
    "    y_pred_prob=probs_test,\n",
    "    y_test=y_true,\n",
    "    org_test=org_test,\n",
    "    filter_data=filter_sub_universe_data,\n",
    "    cp_metrics_df=cp_metrics_df,\n",
    "    save=True,\n",
    ")\n",
    "final_output"
   ]
  },
  {
   "cell_type": "code",
   "execution_count": null,
   "id": "721ff514-cb11-46f8-b6fc-50392f74b5cb",
   "metadata": {
    "papermill": {
     "duration": 0.028215,
     "end_time": "2025-07-23T14:30:19.825277",
     "exception": false,
     "start_time": "2025-07-23T14:30:19.797062",
     "status": "completed"
    },
    "tags": []
   },
   "outputs": [],
   "source": []
  }
 ],
 "metadata": {
  "celltoolbar": "Tags",
  "kernelspec": {
   "display_name": "Python (CMA Fairness)",
   "language": "python",
   "name": "cma_fair_env"
  },
  "language_info": {
   "codemirror_mode": {
    "name": "ipython",
    "version": 3
   },
   "file_extension": ".py",
   "mimetype": "text/x-python",
   "name": "python",
   "nbconvert_exporter": "python",
   "pygments_lexer": "ipython3",
   "version": "3.10.12"
  },
  "papermill": {
   "default_parameters": {},
   "duration": 51.389981,
   "end_time": "2025-07-23T14:30:20.673097",
   "environment_variables": {},
   "exception": null,
   "input_path": "universe_analysis.ipynb",
   "output_path": "output/runs/9/notebooks/m_9-36d38d02ffae68facba46031aaea0ba7.ipynb",
   "parameters": {
    "output_dir": "output",
    "run_no": "9",
    "seed": "2023",
    "universe": "{\"cutoff\": [\"quantile_0.1\", \"quantile_0.25\"], \"eval_fairness_grouping\": [\"majority-minority\", \"nationality-all\"], \"exclude_features\": \"age\", \"exclude_subgroups\": \"drop-non-german\", \"model\": \"rf\", \"scale\": \"scale\"}",
    "universe_id": "36d38d02ffae68facba46031aaea0ba7"
   },
   "start_time": "2025-07-23T14:29:29.283116",
   "version": "2.6.0"
  }
 },
 "nbformat": 4,
 "nbformat_minor": 5
}