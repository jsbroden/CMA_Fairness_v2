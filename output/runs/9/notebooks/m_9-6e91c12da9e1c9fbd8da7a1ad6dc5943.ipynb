{
 "cells": [
  {
   "cell_type": "code",
   "execution_count": 1,
   "id": "f159f837-637b-42ba-96b5-ec9a68c44524",
   "metadata": {
    "execution": {
     "iopub.execute_input": "2025-07-23T14:40:21.094682Z",
     "iopub.status.busy": "2025-07-23T14:40:21.093996Z",
     "iopub.status.idle": "2025-07-23T14:40:21.109778Z",
     "shell.execute_reply": "2025-07-23T14:40:21.108469Z"
    },
    "papermill": {
     "duration": 0.037116,
     "end_time": "2025-07-23T14:40:21.111787",
     "exception": false,
     "start_time": "2025-07-23T14:40:21.074671",
     "status": "completed"
    },
    "tags": []
   },
   "outputs": [
    {
     "name": "stdout",
     "output_type": "stream",
     "text": [
      "/dss/dsshome1/0C/ra93lal2/cma/CMA_Fairness_v2\n"
     ]
    },
    {
     "name": "stderr",
     "output_type": "stream",
     "text": [
      "/dss/dsshome1/0C/ra93lal2/.local/share/virtualenvs/CMA_Fairness_v2-3j10GkSs/lib/python3.10/site-packages/IPython/core/magics/osm.py:393: UserWarning: This is now an optional IPython functionality, using bookmarks requires you to install the `pickleshare` library.\n",
      "  bkms = self.shell.db.get('bookmarks', {})\n",
      "/dss/dsshome1/0C/ra93lal2/.local/share/virtualenvs/CMA_Fairness_v2-3j10GkSs/lib/python3.10/site-packages/IPython/core/magics/osm.py:417: UserWarning: This is now an optional IPython functionality, setting dhist requires you to install the `pickleshare` library.\n",
      "  self.shell.db['dhist'] = compress_dhist(dhist)[-100:]\n"
     ]
    }
   ],
   "source": [
    "%cd ~/cma/CMA_Fairness_v2"
   ]
  },
  {
   "cell_type": "markdown",
   "id": "de2603b9",
   "metadata": {
    "papermill": {
     "duration": 0.017965,
     "end_time": "2025-07-23T14:40:21.147983",
     "exception": false,
     "start_time": "2025-07-23T14:40:21.130018",
     "status": "completed"
    },
    "tags": []
   },
   "source": [
    "The following cell holds the definition of our parameters, these values can be overriden by rendering the with e.g. the following command:\n",
    "\n",
    "papermill -p alpha 0.2 -p ratio 0.3 universe_analysis.ipynb output/test_run.ipynb"
   ]
  },
  {
   "cell_type": "code",
   "execution_count": 2,
   "id": "a80968a0-40bb-4fa9-85ef-2d5eefb01975",
   "metadata": {
    "execution": {
     "iopub.execute_input": "2025-07-23T14:40:21.185593Z",
     "iopub.status.busy": "2025-07-23T14:40:21.184819Z",
     "iopub.status.idle": "2025-07-23T14:40:21.191127Z",
     "shell.execute_reply": "2025-07-23T14:40:21.190160Z"
    },
    "papermill": {
     "duration": 0.027926,
     "end_time": "2025-07-23T14:40:21.193014",
     "exception": false,
     "start_time": "2025-07-23T14:40:21.165088",
     "status": "completed"
    },
    "tags": []
   },
   "outputs": [
    {
     "name": "stdout",
     "output_type": "stream",
     "text": [
      "Current working directory: /dss/dsshome1/0C/ra93lal2/cma/CMA_Fairness_v2\n"
     ]
    }
   ],
   "source": [
    "import os\n",
    "print(\"Current working directory:\", os.getcwd())"
   ]
  },
  {
   "cell_type": "code",
   "execution_count": 3,
   "id": "2dce4c03",
   "metadata": {
    "execution": {
     "iopub.execute_input": "2025-07-23T14:40:21.231961Z",
     "iopub.status.busy": "2025-07-23T14:40:21.231223Z",
     "iopub.status.idle": "2025-07-23T14:40:21.238149Z",
     "shell.execute_reply": "2025-07-23T14:40:21.236946Z"
    },
    "papermill": {
     "duration": 0.027841,
     "end_time": "2025-07-23T14:40:21.240001",
     "exception": false,
     "start_time": "2025-07-23T14:40:21.212160",
     "status": "completed"
    },
    "tags": [
     "parameters"
    ]
   },
   "outputs": [],
   "source": [
    "run_no = 0\n",
    "universe_id = \"test\"\n",
    "universe = {\n",
    "    \"scale\": \"scale\", # \"scale\", \"do-not-scale\",\n",
    "    \"model\": \"elasticnet\", # \"logreg\", \"penalized_logreg\", \"rf\", \"gbm\", \"elasticnet\"\n",
    "    \"cutoff\": [\"quantile_0.15\", \"quantile_0.30\"],\n",
    "    \"exclude_features\": \"age\", # \"none\", \"nationality\", \"sex\", \"nationality-sex\", \"age\"\n",
    "    \"exclude_subgroups\": \"keep-all\", # \"keep-all\", \"drop-non-german\"\n",
    "    #\"training_sample\": \"restricted\", # \"restricted\", \"full\"\n",
    "    \"eval_fairness_grouping\": [\"majority-minority\", \"nationality-all\"]\n",
    "}\n",
    "\n",
    "output_dir=\"./output\"\n",
    "seed=0"
   ]
  },
  {
   "cell_type": "code",
   "execution_count": 4,
   "id": "a8c0c2d1",
   "metadata": {
    "execution": {
     "iopub.execute_input": "2025-07-23T14:40:21.278245Z",
     "iopub.status.busy": "2025-07-23T14:40:21.277368Z",
     "iopub.status.idle": "2025-07-23T14:40:21.283445Z",
     "shell.execute_reply": "2025-07-23T14:40:21.282389Z"
    },
    "papermill": {
     "duration": 0.026324,
     "end_time": "2025-07-23T14:40:21.285283",
     "exception": false,
     "start_time": "2025-07-23T14:40:21.258959",
     "status": "completed"
    },
    "tags": [
     "injected-parameters"
    ]
   },
   "outputs": [],
   "source": [
    "# Parameters\n",
    "universe_id = \"6e91c12da9e1c9fbd8da7a1ad6dc5943\"\n",
    "run_no = \"9\"\n",
    "universe = \"{\\\"cutoff\\\": [\\\"quantile_0.1\\\", \\\"quantile_0.25\\\"], \\\"eval_fairness_grouping\\\": [\\\"majority-minority\\\", \\\"nationality-all\\\"], \\\"exclude_features\\\": \\\"nationality\\\", \\\"exclude_subgroups\\\": \\\"keep-all\\\", \\\"model\\\": \\\"elasticnet\\\", \\\"scale\\\": \\\"do-not-scale\\\"}\"\n",
    "output_dir = \"output\"\n",
    "seed = \"2023\"\n"
   ]
  },
  {
   "cell_type": "code",
   "execution_count": 5,
   "id": "1650acaf",
   "metadata": {
    "execution": {
     "iopub.execute_input": "2025-07-23T14:40:21.325116Z",
     "iopub.status.busy": "2025-07-23T14:40:21.324067Z",
     "iopub.status.idle": "2025-07-23T14:40:21.330140Z",
     "shell.execute_reply": "2025-07-23T14:40:21.329018Z"
    },
    "papermill": {
     "duration": 0.027607,
     "end_time": "2025-07-23T14:40:21.332122",
     "exception": false,
     "start_time": "2025-07-23T14:40:21.304515",
     "status": "completed"
    },
    "tags": []
   },
   "outputs": [],
   "source": [
    "import json\n",
    "# Parse universe into dict if it is passed as a string\n",
    "if isinstance(universe, str):\n",
    "    universe = json.loads(universe)"
   ]
  },
  {
   "cell_type": "code",
   "execution_count": 6,
   "id": "16620c48",
   "metadata": {
    "execution": {
     "iopub.execute_input": "2025-07-23T14:40:21.370975Z",
     "iopub.status.busy": "2025-07-23T14:40:21.370221Z",
     "iopub.status.idle": "2025-07-23T14:40:21.422608Z",
     "shell.execute_reply": "2025-07-23T14:40:21.421499Z"
    },
    "papermill": {
     "duration": 0.07379,
     "end_time": "2025-07-23T14:40:21.424741",
     "exception": false,
     "start_time": "2025-07-23T14:40:21.350951",
     "status": "completed"
    },
    "tags": []
   },
   "outputs": [],
   "source": [
    "# Auto-reload the custom package\n",
    "%load_ext autoreload\n",
    "%autoreload 1\n",
    "%aimport fairness_multiverse"
   ]
  },
  {
   "cell_type": "code",
   "execution_count": 7,
   "id": "01c5c9f3",
   "metadata": {
    "execution": {
     "iopub.execute_input": "2025-07-23T14:40:21.469078Z",
     "iopub.status.busy": "2025-07-23T14:40:21.468318Z",
     "iopub.status.idle": "2025-07-23T14:40:23.618733Z",
     "shell.execute_reply": "2025-07-23T14:40:23.617575Z"
    },
    "papermill": {
     "duration": 2.174202,
     "end_time": "2025-07-23T14:40:23.620705",
     "exception": false,
     "start_time": "2025-07-23T14:40:21.446503",
     "status": "completed"
    },
    "tags": []
   },
   "outputs": [],
   "source": [
    "from fairness_multiverse.universe import UniverseAnalysis\n",
    "\n",
    "universe_analysis = UniverseAnalysis(\n",
    "    run_no = run_no,\n",
    "    universe_id = universe_id,\n",
    "    universe = universe,\n",
    "    output_dir=output_dir,\n",
    ")"
   ]
  },
  {
   "cell_type": "code",
   "execution_count": 8,
   "id": "106241f5",
   "metadata": {
    "execution": {
     "iopub.execute_input": "2025-07-23T14:40:23.659315Z",
     "iopub.status.busy": "2025-07-23T14:40:23.658773Z",
     "iopub.status.idle": "2025-07-23T14:40:23.666265Z",
     "shell.execute_reply": "2025-07-23T14:40:23.664949Z"
    },
    "papermill": {
     "duration": 0.029035,
     "end_time": "2025-07-23T14:40:23.668269",
     "exception": false,
     "start_time": "2025-07-23T14:40:23.639234",
     "status": "completed"
    },
    "tags": []
   },
   "outputs": [
    {
     "name": "stdout",
     "output_type": "stream",
     "text": [
      "Using Seed: 2023\n"
     ]
    }
   ],
   "source": [
    "import numpy as np\n",
    "parsed_seed = int(seed)\n",
    "np.random.seed(parsed_seed)\n",
    "print(f\"Using Seed: {parsed_seed}\")"
   ]
  },
  {
   "cell_type": "markdown",
   "id": "e0ebdc57",
   "metadata": {
    "papermill": {
     "duration": 0.017675,
     "end_time": "2025-07-23T14:40:23.704759",
     "exception": false,
     "start_time": "2025-07-23T14:40:23.687084",
     "status": "completed"
    },
    "tags": []
   },
   "source": [
    "# Loading Data"
   ]
  },
  {
   "cell_type": "markdown",
   "id": "681925a3",
   "metadata": {
    "papermill": {
     "duration": 0.018407,
     "end_time": "2025-07-23T14:40:23.741692",
     "exception": false,
     "start_time": "2025-07-23T14:40:23.723285",
     "status": "completed"
    },
    "tags": []
   },
   "source": [
    "Load siab_train, siab_test, siab_calib and/or \n",
    "load siab_train_features, siab_train_labels"
   ]
  },
  {
   "cell_type": "code",
   "execution_count": 9,
   "id": "f0496b8a",
   "metadata": {
    "execution": {
     "iopub.execute_input": "2025-07-23T14:40:23.780635Z",
     "iopub.status.busy": "2025-07-23T14:40:23.779726Z",
     "iopub.status.idle": "2025-07-23T14:40:23.785980Z",
     "shell.execute_reply": "2025-07-23T14:40:23.785008Z"
    },
    "papermill": {
     "duration": 0.027687,
     "end_time": "2025-07-23T14:40:23.787611",
     "exception": false,
     "start_time": "2025-07-23T14:40:23.759924",
     "status": "completed"
    },
    "tags": []
   },
   "outputs": [],
   "source": [
    "# Do I need to load siab? Delete this cell?\n",
    "\n",
    "#from pathlib import Path\n",
    "#import pandas as pd\n",
    "#\n",
    "## File paths\n",
    "#raw_file = Path(\"data/raw/siab.csv\")\n",
    "#cache_file = Path(\"data/siab_cached.csv.gz\")\n",
    "#\n",
    "## Ensure cache directory exists\n",
    "#cache_file.parent.mkdir(parents=True, exist_ok=True)\n",
    "#\n",
    "## Load with simple caching\n",
    "#if cache_file.exists():\n",
    "#    print(f\"Loading SIAB data from cache: {cache_file}\")\n",
    "#    siab = pd.read_csv(cache_file, compression='gzip')\n",
    "#else:\n",
    "#    print(f\"Cache not found. Reading raw SIAB data: {raw_file}\")\n",
    "#    siab = pd.read_csv(raw_file)\n",
    "#    siab.to_csv(cache_file, index=False, compression='gzip')\n",
    "#    print(f\"Cached SIAB data to: {cache_file}\")\n",
    "#\n",
    "## Now use `siab` DataFrame as needed\n",
    "#print(siab.shape)\n"
   ]
  },
  {
   "cell_type": "code",
   "execution_count": 10,
   "id": "a0edb063",
   "metadata": {
    "execution": {
     "iopub.execute_input": "2025-07-23T14:40:23.826806Z",
     "iopub.status.busy": "2025-07-23T14:40:23.825916Z",
     "iopub.status.idle": "2025-07-23T14:40:25.124291Z",
     "shell.execute_reply": "2025-07-23T14:40:25.123326Z"
    },
    "papermill": {
     "duration": 1.319759,
     "end_time": "2025-07-23T14:40:25.126385",
     "exception": false,
     "start_time": "2025-07-23T14:40:23.806626",
     "status": "completed"
    },
    "tags": []
   },
   "outputs": [],
   "source": [
    "import pandas as pd\n",
    "\n",
    "X_train = pd.read_csv(\"./data/X_train.csv\")\n",
    "y_train = pd.read_csv(\"./data/y_train.csv\")"
   ]
  },
  {
   "cell_type": "code",
   "execution_count": 11,
   "id": "63d08085",
   "metadata": {
    "execution": {
     "iopub.execute_input": "2025-07-23T14:40:25.165087Z",
     "iopub.status.busy": "2025-07-23T14:40:25.164642Z",
     "iopub.status.idle": "2025-07-23T14:40:26.752644Z",
     "shell.execute_reply": "2025-07-23T14:40:26.751470Z"
    },
    "papermill": {
     "duration": 1.609695,
     "end_time": "2025-07-23T14:40:26.754704",
     "exception": false,
     "start_time": "2025-07-23T14:40:25.145009",
     "status": "completed"
    },
    "tags": []
   },
   "outputs": [],
   "source": [
    "X_test = pd.read_csv(\"./data/X_test.csv\")\n",
    "y_true = pd.read_csv(\"./data/y_test.csv\")"
   ]
  },
  {
   "cell_type": "code",
   "execution_count": 12,
   "id": "98a8d0fa-1d3d-4ed8-bb2c-281470e24add",
   "metadata": {
    "execution": {
     "iopub.execute_input": "2025-07-23T14:40:26.795009Z",
     "iopub.status.busy": "2025-07-23T14:40:26.794473Z",
     "iopub.status.idle": "2025-07-23T14:40:28.337514Z",
     "shell.execute_reply": "2025-07-23T14:40:28.336217Z"
    },
    "papermill": {
     "duration": 1.565259,
     "end_time": "2025-07-23T14:40:28.339683",
     "exception": false,
     "start_time": "2025-07-23T14:40:26.774424",
     "status": "completed"
    },
    "tags": []
   },
   "outputs": [],
   "source": [
    "# Calibration data for conformal\n",
    "X_calib = pd.read_csv(\"./data/X_calib.csv\")\n",
    "y_calib = pd.read_csv(\"./data/y_calib.csv\")"
   ]
  },
  {
   "cell_type": "code",
   "execution_count": 13,
   "id": "e6c733c5",
   "metadata": {
    "execution": {
     "iopub.execute_input": "2025-07-23T14:40:28.379546Z",
     "iopub.status.busy": "2025-07-23T14:40:28.378868Z",
     "iopub.status.idle": "2025-07-23T14:40:28.494239Z",
     "shell.execute_reply": "2025-07-23T14:40:28.493184Z"
    },
    "papermill": {
     "duration": 0.137575,
     "end_time": "2025-07-23T14:40:28.496439",
     "exception": false,
     "start_time": "2025-07-23T14:40:28.358864",
     "status": "completed"
    },
    "tags": []
   },
   "outputs": [],
   "source": [
    "# Auxiliary data needed downstream in the pipeline\n",
    "\n",
    "org_train = X_train.copy()\n",
    "org_test = X_test.copy()\n",
    "org_calib = X_calib.copy()"
   ]
  },
  {
   "cell_type": "markdown",
   "id": "0a4a1b33",
   "metadata": {
    "papermill": {
     "duration": 0.018016,
     "end_time": "2025-07-23T14:40:28.533606",
     "exception": false,
     "start_time": "2025-07-23T14:40:28.515590",
     "status": "completed"
    },
    "tags": []
   },
   "source": [
    "# Preprocessing Data"
   ]
  },
  {
   "cell_type": "code",
   "execution_count": 14,
   "id": "ca879031",
   "metadata": {
    "execution": {
     "iopub.execute_input": "2025-07-23T14:40:28.572455Z",
     "iopub.status.busy": "2025-07-23T14:40:28.571810Z",
     "iopub.status.idle": "2025-07-23T14:40:28.578675Z",
     "shell.execute_reply": "2025-07-23T14:40:28.577572Z"
    },
    "papermill": {
     "duration": 0.028803,
     "end_time": "2025-07-23T14:40:28.580716",
     "exception": false,
     "start_time": "2025-07-23T14:40:28.551913",
     "status": "completed"
    },
    "tags": []
   },
   "outputs": [],
   "source": [
    "# EXCLUDE PROTECTED FEATURES\n",
    "# ----------------------\n",
    "# \"exclude_features\": \"none\", # \"nationality\", \"sex\", \"nationality-sex\"\n",
    "\n",
    "excluded_features = universe[\"exclude_features\"].split(\"-\") # split, e.g.: \"nationality-sex\" -> [\"nationality\", \"sex\"]\n",
    "excluded_features_dictionary = {\n",
    "    \"nationality\": [\"maxdeutsch1\", \"maxdeutsch.Missing.\"],\n",
    "    \"sex\": [\"frau1\"],\n",
    "    \"age\": [\"age\"],\n",
    "}\n"
   ]
  },
  {
   "cell_type": "code",
   "execution_count": 15,
   "id": "b745ac60",
   "metadata": {
    "execution": {
     "iopub.execute_input": "2025-07-23T14:40:28.620093Z",
     "iopub.status.busy": "2025-07-23T14:40:28.619549Z",
     "iopub.status.idle": "2025-07-23T14:40:28.625839Z",
     "shell.execute_reply": "2025-07-23T14:40:28.624727Z"
    },
    "papermill": {
     "duration": 0.027858,
     "end_time": "2025-07-23T14:40:28.627957",
     "exception": false,
     "start_time": "2025-07-23T14:40:28.600099",
     "status": "completed"
    },
    "tags": []
   },
   "outputs": [],
   "source": [
    "# Code nice names to column names\n",
    "\n",
    "excluded_features_columns = [\n",
    "    excluded_features_dictionary[f] for f in excluded_features if len(f) > 0 and f != \"none\"\n",
    "]"
   ]
  },
  {
   "cell_type": "code",
   "execution_count": 16,
   "id": "f84f73a2",
   "metadata": {
    "execution": {
     "iopub.execute_input": "2025-07-23T14:40:28.667874Z",
     "iopub.status.busy": "2025-07-23T14:40:28.667363Z",
     "iopub.status.idle": "2025-07-23T14:40:28.674575Z",
     "shell.execute_reply": "2025-07-23T14:40:28.673455Z"
    },
    "papermill": {
     "duration": 0.028558,
     "end_time": "2025-07-23T14:40:28.676328",
     "exception": false,
     "start_time": "2025-07-23T14:40:28.647770",
     "status": "completed"
    },
    "tags": []
   },
   "outputs": [],
   "source": [
    "from utils import flatten_once\n",
    "\n",
    "excluded_features_columns = flatten_once(excluded_features_columns)"
   ]
  },
  {
   "cell_type": "code",
   "execution_count": 17,
   "id": "884dea22",
   "metadata": {
    "execution": {
     "iopub.execute_input": "2025-07-23T14:40:28.716248Z",
     "iopub.status.busy": "2025-07-23T14:40:28.715726Z",
     "iopub.status.idle": "2025-07-23T14:40:28.766162Z",
     "shell.execute_reply": "2025-07-23T14:40:28.764947Z"
    },
    "papermill": {
     "duration": 0.07248,
     "end_time": "2025-07-23T14:40:28.768271",
     "exception": false,
     "start_time": "2025-07-23T14:40:28.695791",
     "status": "completed"
    },
    "tags": []
   },
   "outputs": [
    {
     "name": "stdout",
     "output_type": "stream",
     "text": [
      "Dropping features: ['maxdeutsch1', 'maxdeutsch.Missing.']\n"
     ]
    }
   ],
   "source": [
    "if len(excluded_features_columns) > 0:\n",
    "    print(f\"Dropping features: {excluded_features_columns}\")\n",
    "    X_train.drop(excluded_features_columns, axis=1, inplace=True)"
   ]
  },
  {
   "cell_type": "code",
   "execution_count": 18,
   "id": "95ab8b16",
   "metadata": {
    "execution": {
     "iopub.execute_input": "2025-07-23T14:40:28.810682Z",
     "iopub.status.busy": "2025-07-23T14:40:28.809918Z",
     "iopub.status.idle": "2025-07-23T14:40:28.867125Z",
     "shell.execute_reply": "2025-07-23T14:40:28.865780Z"
    },
    "papermill": {
     "duration": 0.081143,
     "end_time": "2025-07-23T14:40:28.869909",
     "exception": false,
     "start_time": "2025-07-23T14:40:28.788766",
     "status": "completed"
    },
    "tags": []
   },
   "outputs": [
    {
     "name": "stdout",
     "output_type": "stream",
     "text": [
      "Dropping features: ['maxdeutsch1', 'maxdeutsch.Missing.']\n"
     ]
    }
   ],
   "source": [
    "if len(excluded_features_columns) > 0:\n",
    "    print(f\"Dropping features: {excluded_features_columns}\")\n",
    "    X_test.drop(excluded_features_columns, axis=1, inplace=True)"
   ]
  },
  {
   "cell_type": "code",
   "execution_count": 19,
   "id": "1853aaf5-fb9f-46cb-a2b5-8ea4ae2237e4",
   "metadata": {
    "execution": {
     "iopub.execute_input": "2025-07-23T14:40:28.912035Z",
     "iopub.status.busy": "2025-07-23T14:40:28.910994Z",
     "iopub.status.idle": "2025-07-23T14:40:28.970045Z",
     "shell.execute_reply": "2025-07-23T14:40:28.968806Z"
    },
    "papermill": {
     "duration": 0.08214,
     "end_time": "2025-07-23T14:40:28.972216",
     "exception": false,
     "start_time": "2025-07-23T14:40:28.890076",
     "status": "completed"
    },
    "tags": []
   },
   "outputs": [
    {
     "name": "stdout",
     "output_type": "stream",
     "text": [
      "Dropping features: ['maxdeutsch1', 'maxdeutsch.Missing.']\n"
     ]
    }
   ],
   "source": [
    "if len(excluded_features_columns) > 0:\n",
    "    print(f\"Dropping features: {excluded_features_columns}\")\n",
    "    X_calib.drop(excluded_features_columns, axis=1, inplace=True)"
   ]
  },
  {
   "cell_type": "code",
   "execution_count": 20,
   "id": "76c4dc6d",
   "metadata": {
    "execution": {
     "iopub.execute_input": "2025-07-23T14:40:29.014789Z",
     "iopub.status.busy": "2025-07-23T14:40:29.013754Z",
     "iopub.status.idle": "2025-07-23T14:40:29.019861Z",
     "shell.execute_reply": "2025-07-23T14:40:29.018835Z"
    },
    "papermill": {
     "duration": 0.028851,
     "end_time": "2025-07-23T14:40:29.021690",
     "exception": false,
     "start_time": "2025-07-23T14:40:28.992839",
     "status": "completed"
    },
    "tags": []
   },
   "outputs": [],
   "source": [
    "# EXCLUDE CERTAIN SUBGROUPS\n",
    "# ----------------------\n",
    "\n",
    "mode = universe.get(\"exclude_subgroups\", \"keep-all\") \n",
    "# Fetches the exclude_subgroups setting from the universe dict.\n",
    "# Defaults to \"keep-all\" if the key is missing."
   ]
  },
  {
   "cell_type": "code",
   "execution_count": 21,
   "id": "21994072",
   "metadata": {
    "execution": {
     "iopub.execute_input": "2025-07-23T14:40:29.064209Z",
     "iopub.status.busy": "2025-07-23T14:40:29.063172Z",
     "iopub.status.idle": "2025-07-23T14:40:29.071006Z",
     "shell.execute_reply": "2025-07-23T14:40:29.069909Z"
    },
    "papermill": {
     "duration": 0.030581,
     "end_time": "2025-07-23T14:40:29.072999",
     "exception": false,
     "start_time": "2025-07-23T14:40:29.042418",
     "status": "completed"
    },
    "tags": []
   },
   "outputs": [],
   "source": [
    "if mode == \"keep-all\":\n",
    "    keep_mask = pd.Series(True, index=org_train.index)\n",
    "\n",
    "# org_train contains the original feature columns from features_org (in Simson)\n",
    "# features_org contains unprocessed features, for me X_train at beginning ???\n",
    "# For keep-all, creates a boolean Series (keep_mask) of all True, so no rows are removed.\n",
    "\n",
    "elif mode == \"drop-non-german\":\n",
    "    keep_mask = org_train[\"maxdeutsch1\"] == 1 # ??? what about missing values?\n",
    "\n",
    "else:\n",
    "    raise ValueError(f\"Unsupported mode for exclude_subgroups: {mode}\")\n"
   ]
  },
  {
   "cell_type": "code",
   "execution_count": 22,
   "id": "71651440",
   "metadata": {
    "execution": {
     "iopub.execute_input": "2025-07-23T14:40:29.115945Z",
     "iopub.status.busy": "2025-07-23T14:40:29.115188Z",
     "iopub.status.idle": "2025-07-23T14:40:29.122879Z",
     "shell.execute_reply": "2025-07-23T14:40:29.121824Z"
    },
    "papermill": {
     "duration": 0.030392,
     "end_time": "2025-07-23T14:40:29.124886",
     "exception": false,
     "start_time": "2025-07-23T14:40:29.094494",
     "status": "completed"
    },
    "tags": []
   },
   "outputs": [],
   "source": [
    "n_drop = (~keep_mask).sum() # Calculates how many rows are set to be dropped\n",
    "if n_drop > 0:\n",
    "    pct = n_drop / len(keep_mask) * 100\n",
    "    print(f\"Dropping {n_drop} rows ({pct:.2f}%) where mode='{mode}'\")"
   ]
  },
  {
   "cell_type": "code",
   "execution_count": 23,
   "id": "5fb8eee5",
   "metadata": {
    "execution": {
     "iopub.execute_input": "2025-07-23T14:40:29.167758Z",
     "iopub.status.busy": "2025-07-23T14:40:29.166810Z",
     "iopub.status.idle": "2025-07-23T14:40:29.227483Z",
     "shell.execute_reply": "2025-07-23T14:40:29.226187Z"
    },
    "papermill": {
     "duration": 0.083688,
     "end_time": "2025-07-23T14:40:29.229952",
     "exception": false,
     "start_time": "2025-07-23T14:40:29.146264",
     "status": "completed"
    },
    "tags": []
   },
   "outputs": [],
   "source": [
    "X_train = X_train[keep_mask]"
   ]
  },
  {
   "cell_type": "code",
   "execution_count": 24,
   "id": "b202bb3a",
   "metadata": {
    "execution": {
     "iopub.execute_input": "2025-07-23T14:40:29.271907Z",
     "iopub.status.busy": "2025-07-23T14:40:29.271148Z",
     "iopub.status.idle": "2025-07-23T14:40:29.279141Z",
     "shell.execute_reply": "2025-07-23T14:40:29.278060Z"
    },
    "papermill": {
     "duration": 0.03077,
     "end_time": "2025-07-23T14:40:29.281017",
     "exception": false,
     "start_time": "2025-07-23T14:40:29.250247",
     "status": "completed"
    },
    "tags": []
   },
   "outputs": [],
   "source": [
    "y_train = y_train[keep_mask]"
   ]
  },
  {
   "cell_type": "markdown",
   "id": "493e2ac3",
   "metadata": {
    "papermill": {
     "duration": 0.019746,
     "end_time": "2025-07-23T14:40:29.321645",
     "exception": false,
     "start_time": "2025-07-23T14:40:29.301899",
     "status": "completed"
    },
    "tags": []
   },
   "source": [
    "# Model Training"
   ]
  },
  {
   "cell_type": "code",
   "execution_count": 25,
   "id": "679e1268",
   "metadata": {
    "execution": {
     "iopub.execute_input": "2025-07-23T14:40:29.362188Z",
     "iopub.status.busy": "2025-07-23T14:40:29.361525Z",
     "iopub.status.idle": "2025-07-23T14:40:29.480893Z",
     "shell.execute_reply": "2025-07-23T14:40:29.479787Z"
    },
    "papermill": {
     "duration": 0.142393,
     "end_time": "2025-07-23T14:40:29.482993",
     "exception": false,
     "start_time": "2025-07-23T14:40:29.340600",
     "status": "completed"
    },
    "tags": []
   },
   "outputs": [],
   "source": [
    "from sklearn.linear_model import LogisticRegression\n",
    "from sklearn.ensemble import GradientBoostingClassifier, RandomForestClassifier\n",
    "\n",
    "if (universe[\"model\"] == \"logreg\"):\n",
    "    model = LogisticRegression() #penalty=\"none\") #, solver=\"newton-cg\", max_iter=1) # include random_state=19 ?\n",
    "elif (universe[\"model\"] == \"penalized_logreg\"):\n",
    "    model = LogisticRegression(penalty=\"l2\", C=1.0) #, solver=\"newton-cg\", max_iter=1)\n",
    "elif (universe[\"model\"] == \"rf\"):\n",
    "    model = RandomForestClassifier(n_estimators=100, n_jobs=-1)\n",
    "elif (universe[\"model\"] == \"gbm\"):\n",
    "    model = GradientBoostingClassifier()\n",
    "elif (universe[\"model\"] == \"elasticnet\"):\n",
    "    model = LogisticRegression(penalty = 'elasticnet', solver = 'saga', l1_ratio = 0.5, max_iter=5000) # which solver to use?\n",
    "else:\n",
    "    raise \"Unsupported universe.model\""
   ]
  },
  {
   "cell_type": "code",
   "execution_count": 26,
   "id": "0cc8f744",
   "metadata": {
    "execution": {
     "iopub.execute_input": "2025-07-23T14:40:29.525572Z",
     "iopub.status.busy": "2025-07-23T14:40:29.524483Z",
     "iopub.status.idle": "2025-07-23T14:40:29.532387Z",
     "shell.execute_reply": "2025-07-23T14:40:29.531290Z"
    },
    "papermill": {
     "duration": 0.031121,
     "end_time": "2025-07-23T14:40:29.534196",
     "exception": false,
     "start_time": "2025-07-23T14:40:29.503075",
     "status": "completed"
    },
    "tags": []
   },
   "outputs": [],
   "source": [
    "import numpy as np\n",
    "from sklearn.pipeline import Pipeline\n",
    "from sklearn.preprocessing import StandardScaler\n",
    "\n",
    "model = Pipeline([\n",
    "    #(\"continuous_processor\", continuous_processor),\n",
    "    #(\"categorical_preprocessor\", categorical_preprocessor),\n",
    "    (\"scale\", StandardScaler() if universe[\"scale\"] == \"scale\" else None), \n",
    "    (\"model\", model),\n",
    "])"
   ]
  },
  {
   "cell_type": "code",
   "execution_count": 27,
   "id": "9442c04d",
   "metadata": {
    "execution": {
     "iopub.execute_input": "2025-07-23T14:40:29.578148Z",
     "iopub.status.busy": "2025-07-23T14:40:29.577107Z",
     "iopub.status.idle": "2025-07-23T14:51:16.856811Z",
     "shell.execute_reply": "2025-07-23T14:51:16.855673Z"
    },
    "papermill": {
     "duration": 647.315775,
     "end_time": "2025-07-23T14:51:16.871315",
     "exception": false,
     "start_time": "2025-07-23T14:40:29.555540",
     "status": "completed"
    },
    "tags": []
   },
   "outputs": [
    {
     "data": {
      "text/html": [
       "<style>#sk-container-id-1 {color: black;background-color: white;}#sk-container-id-1 pre{padding: 0;}#sk-container-id-1 div.sk-toggleable {background-color: white;}#sk-container-id-1 label.sk-toggleable__label {cursor: pointer;display: block;width: 100%;margin-bottom: 0;padding: 0.3em;box-sizing: border-box;text-align: center;}#sk-container-id-1 label.sk-toggleable__label-arrow:before {content: \"▸\";float: left;margin-right: 0.25em;color: #696969;}#sk-container-id-1 label.sk-toggleable__label-arrow:hover:before {color: black;}#sk-container-id-1 div.sk-estimator:hover label.sk-toggleable__label-arrow:before {color: black;}#sk-container-id-1 div.sk-toggleable__content {max-height: 0;max-width: 0;overflow: hidden;text-align: left;background-color: #f0f8ff;}#sk-container-id-1 div.sk-toggleable__content pre {margin: 0.2em;color: black;border-radius: 0.25em;background-color: #f0f8ff;}#sk-container-id-1 input.sk-toggleable__control:checked~div.sk-toggleable__content {max-height: 200px;max-width: 100%;overflow: auto;}#sk-container-id-1 input.sk-toggleable__control:checked~label.sk-toggleable__label-arrow:before {content: \"▾\";}#sk-container-id-1 div.sk-estimator input.sk-toggleable__control:checked~label.sk-toggleable__label {background-color: #d4ebff;}#sk-container-id-1 div.sk-label input.sk-toggleable__control:checked~label.sk-toggleable__label {background-color: #d4ebff;}#sk-container-id-1 input.sk-hidden--visually {border: 0;clip: rect(1px 1px 1px 1px);clip: rect(1px, 1px, 1px, 1px);height: 1px;margin: -1px;overflow: hidden;padding: 0;position: absolute;width: 1px;}#sk-container-id-1 div.sk-estimator {font-family: monospace;background-color: #f0f8ff;border: 1px dotted black;border-radius: 0.25em;box-sizing: border-box;margin-bottom: 0.5em;}#sk-container-id-1 div.sk-estimator:hover {background-color: #d4ebff;}#sk-container-id-1 div.sk-parallel-item::after {content: \"\";width: 100%;border-bottom: 1px solid gray;flex-grow: 1;}#sk-container-id-1 div.sk-label:hover label.sk-toggleable__label {background-color: #d4ebff;}#sk-container-id-1 div.sk-serial::before {content: \"\";position: absolute;border-left: 1px solid gray;box-sizing: border-box;top: 0;bottom: 0;left: 50%;z-index: 0;}#sk-container-id-1 div.sk-serial {display: flex;flex-direction: column;align-items: center;background-color: white;padding-right: 0.2em;padding-left: 0.2em;position: relative;}#sk-container-id-1 div.sk-item {position: relative;z-index: 1;}#sk-container-id-1 div.sk-parallel {display: flex;align-items: stretch;justify-content: center;background-color: white;position: relative;}#sk-container-id-1 div.sk-item::before, #sk-container-id-1 div.sk-parallel-item::before {content: \"\";position: absolute;border-left: 1px solid gray;box-sizing: border-box;top: 0;bottom: 0;left: 50%;z-index: -1;}#sk-container-id-1 div.sk-parallel-item {display: flex;flex-direction: column;z-index: 1;position: relative;background-color: white;}#sk-container-id-1 div.sk-parallel-item:first-child::after {align-self: flex-end;width: 50%;}#sk-container-id-1 div.sk-parallel-item:last-child::after {align-self: flex-start;width: 50%;}#sk-container-id-1 div.sk-parallel-item:only-child::after {width: 0;}#sk-container-id-1 div.sk-dashed-wrapped {border: 1px dashed gray;margin: 0 0.4em 0.5em 0.4em;box-sizing: border-box;padding-bottom: 0.4em;background-color: white;}#sk-container-id-1 div.sk-label label {font-family: monospace;font-weight: bold;display: inline-block;line-height: 1.2em;}#sk-container-id-1 div.sk-label-container {text-align: center;}#sk-container-id-1 div.sk-container {/* jupyter's `normalize.less` sets `[hidden] { display: none; }` but bootstrap.min.css set `[hidden] { display: none !important; }` so we also need the `!important` here to be able to override the default hidden behavior on the sphinx rendered scikit-learn.org. See: https://github.com/scikit-learn/scikit-learn/issues/21755 */display: inline-block !important;position: relative;}#sk-container-id-1 div.sk-text-repr-fallback {display: none;}</style><div id=\"sk-container-id-1\" class=\"sk-top-container\"><div class=\"sk-text-repr-fallback\"><pre>Pipeline(steps=[(&#x27;scale&#x27;, None),\n",
       "                (&#x27;model&#x27;,\n",
       "                 LogisticRegression(l1_ratio=0.5, max_iter=5000,\n",
       "                                    penalty=&#x27;elasticnet&#x27;, solver=&#x27;saga&#x27;))])</pre><b>In a Jupyter environment, please rerun this cell to show the HTML representation or trust the notebook. <br />On GitHub, the HTML representation is unable to render, please try loading this page with nbviewer.org.</b></div><div class=\"sk-container\" hidden><div class=\"sk-item sk-dashed-wrapped\"><div class=\"sk-label-container\"><div class=\"sk-label sk-toggleable\"><input class=\"sk-toggleable__control sk-hidden--visually\" id=\"sk-estimator-id-1\" type=\"checkbox\" ><label for=\"sk-estimator-id-1\" class=\"sk-toggleable__label sk-toggleable__label-arrow\">Pipeline</label><div class=\"sk-toggleable__content\"><pre>Pipeline(steps=[(&#x27;scale&#x27;, None),\n",
       "                (&#x27;model&#x27;,\n",
       "                 LogisticRegression(l1_ratio=0.5, max_iter=5000,\n",
       "                                    penalty=&#x27;elasticnet&#x27;, solver=&#x27;saga&#x27;))])</pre></div></div></div><div class=\"sk-serial\"><div class=\"sk-item\"><div class=\"sk-estimator sk-toggleable\"><input class=\"sk-toggleable__control sk-hidden--visually\" id=\"sk-estimator-id-2\" type=\"checkbox\" ><label for=\"sk-estimator-id-2\" class=\"sk-toggleable__label sk-toggleable__label-arrow\">None</label><div class=\"sk-toggleable__content\"><pre>None</pre></div></div></div><div class=\"sk-item\"><div class=\"sk-estimator sk-toggleable\"><input class=\"sk-toggleable__control sk-hidden--visually\" id=\"sk-estimator-id-3\" type=\"checkbox\" ><label for=\"sk-estimator-id-3\" class=\"sk-toggleable__label sk-toggleable__label-arrow\">LogisticRegression</label><div class=\"sk-toggleable__content\"><pre>LogisticRegression(l1_ratio=0.5, max_iter=5000, penalty=&#x27;elasticnet&#x27;,\n",
       "                   solver=&#x27;saga&#x27;)</pre></div></div></div></div></div></div></div>"
      ],
      "text/plain": [
       "Pipeline(steps=[('scale', None),\n",
       "                ('model',\n",
       "                 LogisticRegression(l1_ratio=0.5, max_iter=5000,\n",
       "                                    penalty='elasticnet', solver='saga'))])"
      ]
     },
     "execution_count": 27,
     "metadata": {},
     "output_type": "execute_result"
    }
   ],
   "source": [
    "model.fit(X_train, y_train.values.ravel())"
   ]
  },
  {
   "cell_type": "code",
   "execution_count": 28,
   "id": "af59f8c0",
   "metadata": {
    "execution": {
     "iopub.execute_input": "2025-07-23T14:51:16.892894Z",
     "iopub.status.busy": "2025-07-23T14:51:16.892487Z",
     "iopub.status.idle": "2025-07-23T14:51:16.897799Z",
     "shell.execute_reply": "2025-07-23T14:51:16.896965Z"
    },
    "papermill": {
     "duration": 0.017779,
     "end_time": "2025-07-23T14:51:16.899224",
     "exception": false,
     "start_time": "2025-07-23T14:51:16.881445",
     "status": "completed"
    },
    "tags": []
   },
   "outputs": [],
   "source": [
    "from fairness_multiverse.universe import predict_w_threshold"
   ]
  },
  {
   "cell_type": "code",
   "execution_count": 29,
   "id": "a7cf2e16",
   "metadata": {
    "execution": {
     "iopub.execute_input": "2025-07-23T14:51:16.921294Z",
     "iopub.status.busy": "2025-07-23T14:51:16.920911Z",
     "iopub.status.idle": "2025-07-23T14:51:17.023148Z",
     "shell.execute_reply": "2025-07-23T14:51:17.022332Z"
    },
    "papermill": {
     "duration": 0.114536,
     "end_time": "2025-07-23T14:51:17.024399",
     "exception": false,
     "start_time": "2025-07-23T14:51:16.909863",
     "status": "completed"
    },
    "tags": []
   },
   "outputs": [
    {
     "data": {
      "text/plain": [
       "0.8486344889087059"
      ]
     },
     "execution_count": 29,
     "metadata": {},
     "output_type": "execute_result"
    }
   ],
   "source": [
    "probs_test = model.predict_proba(X_test)\n",
    "\n",
    "'''\n",
    "Below code returns a boolean array (or binary 0/1 array depending on how it’s used) where each element \n",
    "is True if the probability of class 1 is greater than or equal to the threshold, and False otherwise.\n",
    "'''\n",
    "y_pred_default = predict_w_threshold(probs_test, 0.5)\n",
    "\n",
    "from sklearn.metrics import accuracy_score\n",
    "\n",
    "# Naive prediction\n",
    "accuracy_score(y_true = y_true, y_pred = y_pred_default)"
   ]
  },
  {
   "cell_type": "code",
   "execution_count": 30,
   "id": "081964c3",
   "metadata": {
    "execution": {
     "iopub.execute_input": "2025-07-23T14:51:17.046717Z",
     "iopub.status.busy": "2025-07-23T14:51:17.046364Z",
     "iopub.status.idle": "2025-07-23T14:51:17.122040Z",
     "shell.execute_reply": "2025-07-23T14:51:17.121175Z"
    },
    "papermill": {
     "duration": 0.08791,
     "end_time": "2025-07-23T14:51:17.123359",
     "exception": false,
     "start_time": "2025-07-23T14:51:17.035449",
     "status": "completed"
    },
    "tags": []
   },
   "outputs": [
    {
     "data": {
      "text/plain": [
       "array([0, 0, 0, ..., 0, 0, 0])"
      ]
     },
     "execution_count": 30,
     "metadata": {},
     "output_type": "execute_result"
    }
   ],
   "source": [
    "model.predict(X_test)"
   ]
  },
  {
   "cell_type": "markdown",
   "id": "56c9705b",
   "metadata": {
    "papermill": {
     "duration": 0.010212,
     "end_time": "2025-07-23T14:51:17.144574",
     "exception": false,
     "start_time": "2025-07-23T14:51:17.134362",
     "status": "completed"
    },
    "tags": []
   },
   "source": [
    "# Conformal Prediction"
   ]
  },
  {
   "cell_type": "code",
   "execution_count": 31,
   "id": "160ec6ff",
   "metadata": {
    "execution": {
     "iopub.execute_input": "2025-07-23T14:51:17.166541Z",
     "iopub.status.busy": "2025-07-23T14:51:17.166152Z",
     "iopub.status.idle": "2025-07-23T14:51:17.170734Z",
     "shell.execute_reply": "2025-07-23T14:51:17.169864Z"
    },
    "papermill": {
     "duration": 0.017159,
     "end_time": "2025-07-23T14:51:17.172041",
     "exception": false,
     "start_time": "2025-07-23T14:51:17.154882",
     "status": "completed"
    },
    "tags": []
   },
   "outputs": [],
   "source": [
    "# Miscoverage level for conformal prediction (10% allowed error rate => 90% target coverage)\n",
    "alpha = 0.1"
   ]
  },
  {
   "cell_type": "code",
   "execution_count": 32,
   "id": "eadf4555-3dd3-440e-8e35-f82a4ad9f855",
   "metadata": {
    "execution": {
     "iopub.execute_input": "2025-07-23T14:51:17.194647Z",
     "iopub.status.busy": "2025-07-23T14:51:17.194091Z",
     "iopub.status.idle": "2025-07-23T14:51:17.268296Z",
     "shell.execute_reply": "2025-07-23T14:51:17.267466Z"
    },
    "papermill": {
     "duration": 0.08722,
     "end_time": "2025-07-23T14:51:17.270227",
     "exception": false,
     "start_time": "2025-07-23T14:51:17.183007",
     "status": "completed"
    },
    "tags": []
   },
   "outputs": [],
   "source": [
    "probs_calib = model.predict_proba(X_calib)"
   ]
  },
  {
   "cell_type": "code",
   "execution_count": 33,
   "id": "2ed93547-6d5d-4983-9b36-1ecb300da49a",
   "metadata": {
    "execution": {
     "iopub.execute_input": "2025-07-23T14:51:17.308825Z",
     "iopub.status.busy": "2025-07-23T14:51:17.308457Z",
     "iopub.status.idle": "2025-07-23T14:51:17.313391Z",
     "shell.execute_reply": "2025-07-23T14:51:17.312665Z"
    },
    "papermill": {
     "duration": 0.025666,
     "end_time": "2025-07-23T14:51:17.314860",
     "exception": false,
     "start_time": "2025-07-23T14:51:17.289194",
     "status": "completed"
    },
    "tags": []
   },
   "outputs": [],
   "source": [
    "y_calib = y_calib.values.ravel().astype(int)"
   ]
  },
  {
   "cell_type": "code",
   "execution_count": 34,
   "id": "65d1320d-f588-4b38-9072-62af1ae97f7d",
   "metadata": {
    "execution": {
     "iopub.execute_input": "2025-07-23T14:51:17.338062Z",
     "iopub.status.busy": "2025-07-23T14:51:17.337485Z",
     "iopub.status.idle": "2025-07-23T14:51:17.344026Z",
     "shell.execute_reply": "2025-07-23T14:51:17.343253Z"
    },
    "papermill": {
     "duration": 0.019231,
     "end_time": "2025-07-23T14:51:17.345391",
     "exception": false,
     "start_time": "2025-07-23T14:51:17.326160",
     "status": "completed"
    },
    "tags": []
   },
   "outputs": [],
   "source": [
    "from fairness_multiverse.conformal import compute_nc_scores\n",
    "\n",
    "# Compute nonconformity scores on calibration set (1 - probability of true class)\n",
    "nc_scores = compute_nc_scores(probs_calib, y_calib)"
   ]
  },
  {
   "cell_type": "code",
   "execution_count": 35,
   "id": "df3b8ca3-53b7-43d5-9667-7c85da7aeda2",
   "metadata": {
    "execution": {
     "iopub.execute_input": "2025-07-23T14:51:17.368765Z",
     "iopub.status.busy": "2025-07-23T14:51:17.368307Z",
     "iopub.status.idle": "2025-07-23T14:51:17.374367Z",
     "shell.execute_reply": "2025-07-23T14:51:17.373598Z"
    },
    "papermill": {
     "duration": 0.019059,
     "end_time": "2025-07-23T14:51:17.375811",
     "exception": false,
     "start_time": "2025-07-23T14:51:17.356752",
     "status": "completed"
    },
    "tags": []
   },
   "outputs": [],
   "source": [
    "from fairness_multiverse.conformal import find_threshold\n",
    "\n",
    "# Find conformal threshold q_hat for the given alpha (split conformal method)\n",
    "q_hat = find_threshold(nc_scores, alpha)"
   ]
  },
  {
   "cell_type": "code",
   "execution_count": 36,
   "id": "4d29e6c1-0ef6-4aa4-b8fe-4fe79b0d033a",
   "metadata": {
    "execution": {
     "iopub.execute_input": "2025-07-23T14:51:17.399101Z",
     "iopub.status.busy": "2025-07-23T14:51:17.398559Z",
     "iopub.status.idle": "2025-07-23T14:51:17.405563Z",
     "shell.execute_reply": "2025-07-23T14:51:17.404670Z"
    },
    "papermill": {
     "duration": 0.019795,
     "end_time": "2025-07-23T14:51:17.406885",
     "exception": false,
     "start_time": "2025-07-23T14:51:17.387090",
     "status": "completed"
    },
    "tags": []
   },
   "outputs": [
    {
     "data": {
      "text/plain": [
       "0.6855032750525688"
      ]
     },
     "execution_count": 36,
     "metadata": {},
     "output_type": "execute_result"
    }
   ],
   "source": [
    "q_hat"
   ]
  },
  {
   "cell_type": "code",
   "execution_count": 37,
   "id": "92460794-cdac-4be2-ba28-f28c0515a6fb",
   "metadata": {
    "execution": {
     "iopub.execute_input": "2025-07-23T14:51:17.431772Z",
     "iopub.status.busy": "2025-07-23T14:51:17.431353Z",
     "iopub.status.idle": "2025-07-23T14:51:18.091624Z",
     "shell.execute_reply": "2025-07-23T14:51:18.090829Z"
    },
    "papermill": {
     "duration": 0.673664,
     "end_time": "2025-07-23T14:51:18.093171",
     "exception": false,
     "start_time": "2025-07-23T14:51:17.419507",
     "status": "completed"
    },
    "tags": []
   },
   "outputs": [],
   "source": [
    "from fairness_multiverse.conformal import predict_conformal_sets\n",
    "\n",
    "# Generate prediction sets for each test example\n",
    "pred_sets = predict_conformal_sets(model, X_test, q_hat)"
   ]
  },
  {
   "cell_type": "code",
   "execution_count": 38,
   "id": "d90c9a65-e6db-4f5d-80cd-e68fb7e46829",
   "metadata": {
    "execution": {
     "iopub.execute_input": "2025-07-23T14:51:18.116641Z",
     "iopub.status.busy": "2025-07-23T14:51:18.116218Z",
     "iopub.status.idle": "2025-07-23T14:51:18.121730Z",
     "shell.execute_reply": "2025-07-23T14:51:18.120887Z"
    },
    "papermill": {
     "duration": 0.018495,
     "end_time": "2025-07-23T14:51:18.123022",
     "exception": false,
     "start_time": "2025-07-23T14:51:18.104527",
     "status": "completed"
    },
    "tags": []
   },
   "outputs": [],
   "source": [
    "y_true = y_true.squeeze()"
   ]
  },
  {
   "cell_type": "code",
   "execution_count": 39,
   "id": "3a58a54a-1e68-46b9-927a-df01f18aebc8",
   "metadata": {
    "execution": {
     "iopub.execute_input": "2025-07-23T14:51:18.146480Z",
     "iopub.status.busy": "2025-07-23T14:51:18.146148Z",
     "iopub.status.idle": "2025-07-23T14:51:18.729828Z",
     "shell.execute_reply": "2025-07-23T14:51:18.729005Z"
    },
    "papermill": {
     "duration": 0.596928,
     "end_time": "2025-07-23T14:51:18.731615",
     "exception": false,
     "start_time": "2025-07-23T14:51:18.134687",
     "status": "completed"
    },
    "tags": []
   },
   "outputs": [],
   "source": [
    "from fairness_multiverse.conformal import evaluate_sets\n",
    "\n",
    "# Evaluate coverage and average set size on test data\n",
    "metrics = evaluate_sets(pred_sets, y_true)"
   ]
  },
  {
   "cell_type": "code",
   "execution_count": 40,
   "id": "5ce0a5cb-201f-45a0-ade5-94c7f0bd6095",
   "metadata": {
    "execution": {
     "iopub.execute_input": "2025-07-23T14:51:18.771244Z",
     "iopub.status.busy": "2025-07-23T14:51:18.770853Z",
     "iopub.status.idle": "2025-07-23T14:51:18.777098Z",
     "shell.execute_reply": "2025-07-23T14:51:18.776161Z"
    },
    "papermill": {
     "duration": 0.027285,
     "end_time": "2025-07-23T14:51:18.778460",
     "exception": false,
     "start_time": "2025-07-23T14:51:18.751175",
     "status": "completed"
    },
    "tags": []
   },
   "outputs": [
    {
     "data": {
      "text/plain": [
       "{'coverage': 0.9064541299743618, 'avg_size': 1.1346895552335303}"
      ]
     },
     "execution_count": 40,
     "metadata": {},
     "output_type": "execute_result"
    }
   ],
   "source": [
    "metrics"
   ]
  },
  {
   "cell_type": "code",
   "execution_count": 41,
   "id": "9b9a838d-31c9-430b-ae14-12baee460d17",
   "metadata": {
    "execution": {
     "iopub.execute_input": "2025-07-23T14:51:18.803357Z",
     "iopub.status.busy": "2025-07-23T14:51:18.802555Z",
     "iopub.status.idle": "2025-07-23T14:51:18.808016Z",
     "shell.execute_reply": "2025-07-23T14:51:18.807168Z"
    },
    "papermill": {
     "duration": 0.019128,
     "end_time": "2025-07-23T14:51:18.809627",
     "exception": false,
     "start_time": "2025-07-23T14:51:18.790499",
     "status": "completed"
    },
    "tags": []
   },
   "outputs": [],
   "source": [
    "example_universe = universe.copy()\n",
    "universe_model = example_universe.get(\"model\")\n",
    "universe_exclude_features = example_universe.get(\"exclude_features\")\n",
    "universe_exclude_subgroups = example_universe.get(\"exclude_subgroups\")\n",
    "universe_scale = example_universe.get(\"scale\")"
   ]
  },
  {
   "cell_type": "code",
   "execution_count": 42,
   "id": "f4b6a8ac-9dc0-4245-8a91-5b3b5999c4f9",
   "metadata": {
    "execution": {
     "iopub.execute_input": "2025-07-23T14:51:18.850191Z",
     "iopub.status.busy": "2025-07-23T14:51:18.849806Z",
     "iopub.status.idle": "2025-07-23T14:51:18.855025Z",
     "shell.execute_reply": "2025-07-23T14:51:18.854086Z"
    },
    "papermill": {
     "duration": 0.026971,
     "end_time": "2025-07-23T14:51:18.856761",
     "exception": false,
     "start_time": "2025-07-23T14:51:18.829790",
     "status": "completed"
    },
    "tags": []
   },
   "outputs": [],
   "source": [
    "cp_metrics_dict = {\n",
    "    \"universe_id\": [universe_id],\n",
    "    \"universe_model\": [universe_model],\n",
    "    \"universe_exclude_features\": [universe_exclude_features],\n",
    "    \"universe_exclude_subgroups\": [universe_exclude_subgroups],\n",
    "    \"universe_scale\": [universe_scale],\n",
    "    \"q_hat\": [q_hat],\n",
    "    \"coverage\": [metrics[\"coverage\"]],\n",
    "    \"avg_size\": [metrics[\"avg_size\"]],\n",
    "}"
   ]
  },
  {
   "cell_type": "code",
   "execution_count": 43,
   "id": "908acbb1-0371-4915-85ca-3fa520d2efe2",
   "metadata": {
    "execution": {
     "iopub.execute_input": "2025-07-23T14:51:18.897012Z",
     "iopub.status.busy": "2025-07-23T14:51:18.896631Z",
     "iopub.status.idle": "2025-07-23T14:51:18.902945Z",
     "shell.execute_reply": "2025-07-23T14:51:18.902152Z"
    },
    "papermill": {
     "duration": 0.02781,
     "end_time": "2025-07-23T14:51:18.904437",
     "exception": false,
     "start_time": "2025-07-23T14:51:18.876627",
     "status": "completed"
    },
    "tags": []
   },
   "outputs": [
    {
     "data": {
      "text/plain": [
       "{'universe_id': ['6e91c12da9e1c9fbd8da7a1ad6dc5943'],\n",
       " 'universe_model': ['elasticnet'],\n",
       " 'universe_exclude_features': ['nationality'],\n",
       " 'universe_exclude_subgroups': ['keep-all'],\n",
       " 'universe_scale': ['do-not-scale'],\n",
       " 'q_hat': [0.6855032750525688],\n",
       " 'coverage': [0.9064541299743618],\n",
       " 'avg_size': [1.1346895552335303]}"
      ]
     },
     "execution_count": 43,
     "metadata": {},
     "output_type": "execute_result"
    }
   ],
   "source": [
    "cp_metrics_dict"
   ]
  },
  {
   "cell_type": "code",
   "execution_count": 44,
   "id": "33007efc-14e9-4ec6-97ac-56a455c82265",
   "metadata": {
    "execution": {
     "iopub.execute_input": "2025-07-23T14:51:18.945227Z",
     "iopub.status.busy": "2025-07-23T14:51:18.944849Z",
     "iopub.status.idle": "2025-07-23T14:51:18.950021Z",
     "shell.execute_reply": "2025-07-23T14:51:18.949077Z"
    },
    "papermill": {
     "duration": 0.027153,
     "end_time": "2025-07-23T14:51:18.951697",
     "exception": false,
     "start_time": "2025-07-23T14:51:18.924544",
     "status": "completed"
    },
    "tags": []
   },
   "outputs": [],
   "source": [
    "cp_metrics_df = pd.DataFrame(cp_metrics_dict)"
   ]
  },
  {
   "cell_type": "code",
   "execution_count": 45,
   "id": "db12611b-57b2-4910-b9d0-355adfd6e7bf",
   "metadata": {
    "execution": {
     "iopub.execute_input": "2025-07-23T14:51:18.993010Z",
     "iopub.status.busy": "2025-07-23T14:51:18.992285Z",
     "iopub.status.idle": "2025-07-23T14:51:19.006311Z",
     "shell.execute_reply": "2025-07-23T14:51:19.005560Z"
    },
    "papermill": {
     "duration": 0.036034,
     "end_time": "2025-07-23T14:51:19.007903",
     "exception": false,
     "start_time": "2025-07-23T14:51:18.971869",
     "status": "completed"
    },
    "tags": []
   },
   "outputs": [
    {
     "data": {
      "text/html": [
       "<div>\n",
       "<style scoped>\n",
       "    .dataframe tbody tr th:only-of-type {\n",
       "        vertical-align: middle;\n",
       "    }\n",
       "\n",
       "    .dataframe tbody tr th {\n",
       "        vertical-align: top;\n",
       "    }\n",
       "\n",
       "    .dataframe thead th {\n",
       "        text-align: right;\n",
       "    }\n",
       "</style>\n",
       "<table border=\"1\" class=\"dataframe\">\n",
       "  <thead>\n",
       "    <tr style=\"text-align: right;\">\n",
       "      <th></th>\n",
       "      <th>universe_id</th>\n",
       "      <th>universe_model</th>\n",
       "      <th>universe_exclude_features</th>\n",
       "      <th>universe_exclude_subgroups</th>\n",
       "      <th>universe_scale</th>\n",
       "      <th>q_hat</th>\n",
       "      <th>coverage</th>\n",
       "      <th>avg_size</th>\n",
       "    </tr>\n",
       "  </thead>\n",
       "  <tbody>\n",
       "    <tr>\n",
       "      <th>0</th>\n",
       "      <td>6e91c12da9e1c9fbd8da7a1ad6dc5943</td>\n",
       "      <td>elasticnet</td>\n",
       "      <td>nationality</td>\n",
       "      <td>keep-all</td>\n",
       "      <td>do-not-scale</td>\n",
       "      <td>0.685503</td>\n",
       "      <td>0.906454</td>\n",
       "      <td>1.13469</td>\n",
       "    </tr>\n",
       "  </tbody>\n",
       "</table>\n",
       "</div>"
      ],
      "text/plain": [
       "                        universe_id universe_model universe_exclude_features  \\\n",
       "0  6e91c12da9e1c9fbd8da7a1ad6dc5943     elasticnet               nationality   \n",
       "\n",
       "  universe_exclude_subgroups universe_scale     q_hat  coverage  avg_size  \n",
       "0                   keep-all   do-not-scale  0.685503  0.906454   1.13469  "
      ]
     },
     "execution_count": 45,
     "metadata": {},
     "output_type": "execute_result"
    }
   ],
   "source": [
    "cp_metrics_df"
   ]
  },
  {
   "cell_type": "code",
   "execution_count": 46,
   "id": "b7fbde55-a0a1-47e4-9af6-fe4a17fa8c61",
   "metadata": {
    "execution": {
     "iopub.execute_input": "2025-07-23T14:51:19.049402Z",
     "iopub.status.busy": "2025-07-23T14:51:19.049025Z",
     "iopub.status.idle": "2025-07-23T14:51:19.053271Z",
     "shell.execute_reply": "2025-07-23T14:51:19.052404Z"
    },
    "papermill": {
     "duration": 0.026662,
     "end_time": "2025-07-23T14:51:19.054880",
     "exception": false,
     "start_time": "2025-07-23T14:51:19.028218",
     "status": "completed"
    },
    "tags": []
   },
   "outputs": [],
   "source": [
    "# Conditional Coverage & looking at subgroups"
   ]
  },
  {
   "cell_type": "code",
   "execution_count": 47,
   "id": "027ae886-68dd-4141-96c7-805a5450e1ef",
   "metadata": {
    "execution": {
     "iopub.execute_input": "2025-07-23T14:51:19.096900Z",
     "iopub.status.busy": "2025-07-23T14:51:19.096381Z",
     "iopub.status.idle": "2025-07-23T14:51:19.363040Z",
     "shell.execute_reply": "2025-07-23T14:51:19.362086Z"
    },
    "papermill": {
     "duration": 0.290028,
     "end_time": "2025-07-23T14:51:19.365185",
     "exception": false,
     "start_time": "2025-07-23T14:51:19.075157",
     "status": "completed"
    },
    "tags": []
   },
   "outputs": [],
   "source": [
    "from fairness_multiverse.conformal import build_cp_groups\n",
    "\n",
    "cp_groups_df = build_cp_groups(pred_sets, y_true, X_test.index, org_test)\n",
    "#needs universe_id and setting"
   ]
  },
  {
   "cell_type": "code",
   "execution_count": 48,
   "id": "c3b92545-903e-4839-89af-0f057907d7d6",
   "metadata": {
    "execution": {
     "iopub.execute_input": "2025-07-23T14:51:19.410880Z",
     "iopub.status.busy": "2025-07-23T14:51:19.410387Z",
     "iopub.status.idle": "2025-07-23T14:51:21.053965Z",
     "shell.execute_reply": "2025-07-23T14:51:21.053014Z"
    },
    "papermill": {
     "duration": 1.667766,
     "end_time": "2025-07-23T14:51:21.055872",
     "exception": false,
     "start_time": "2025-07-23T14:51:19.388106",
     "status": "completed"
    },
    "tags": []
   },
   "outputs": [],
   "source": [
    "# Define covered = 1 if true_label is in the predicted set\n",
    "cp_groups_df['covered'] = cp_groups_df.apply(\n",
    "    lambda r: int(r['true_label'] in r['pred_set']),\n",
    "    axis=1\n",
    ")"
   ]
  },
  {
   "cell_type": "code",
   "execution_count": 49,
   "id": "338ff529-1a6b-4b87-a931-8e4788d52aad",
   "metadata": {
    "execution": {
     "iopub.execute_input": "2025-07-23T14:51:21.099611Z",
     "iopub.status.busy": "2025-07-23T14:51:21.099133Z",
     "iopub.status.idle": "2025-07-23T14:51:21.104413Z",
     "shell.execute_reply": "2025-07-23T14:51:21.103328Z"
    },
    "papermill": {
     "duration": 0.028818,
     "end_time": "2025-07-23T14:51:21.106122",
     "exception": false,
     "start_time": "2025-07-23T14:51:21.077304",
     "status": "completed"
    },
    "tags": []
   },
   "outputs": [],
   "source": [
    "#cp_groups_df"
   ]
  },
  {
   "cell_type": "code",
   "execution_count": 50,
   "id": "90032e27-66df-4540-9169-4e89cfbaa758",
   "metadata": {
    "execution": {
     "iopub.execute_input": "2025-07-23T14:51:21.150007Z",
     "iopub.status.busy": "2025-07-23T14:51:21.149494Z",
     "iopub.status.idle": "2025-07-23T14:51:21.162278Z",
     "shell.execute_reply": "2025-07-23T14:51:21.161147Z"
    },
    "papermill": {
     "duration": 0.036506,
     "end_time": "2025-07-23T14:51:21.164211",
     "exception": false,
     "start_time": "2025-07-23T14:51:21.127705",
     "status": "completed"
    },
    "tags": []
   },
   "outputs": [],
   "source": [
    "subgroups = ['frau1','nongerman','nongerman_male','nongerman_female']\n",
    "\n",
    "# Conditional coverage for subgroup==1\n",
    "cond_coverage = {\n",
    "    g: cp_groups_df.loc[cp_groups_df[g]==1, 'covered'].mean()\n",
    "    for g in subgroups\n",
    "}"
   ]
  },
  {
   "cell_type": "code",
   "execution_count": 51,
   "id": "1e348fb1-b9c3-45bc-ba23-f016827a7e0d",
   "metadata": {
    "execution": {
     "iopub.execute_input": "2025-07-23T14:51:21.207873Z",
     "iopub.status.busy": "2025-07-23T14:51:21.207354Z",
     "iopub.status.idle": "2025-07-23T14:51:21.214481Z",
     "shell.execute_reply": "2025-07-23T14:51:21.213533Z"
    },
    "papermill": {
     "duration": 0.030878,
     "end_time": "2025-07-23T14:51:21.216422",
     "exception": false,
     "start_time": "2025-07-23T14:51:21.185544",
     "status": "completed"
    },
    "tags": []
   },
   "outputs": [
    {
     "data": {
      "text/plain": [
       "{'frau1': 0.9055398301657905,\n",
       " 'nongerman': 0.9070903272890586,\n",
       " 'nongerman_male': 0.92227325947942,\n",
       " 'nongerman_female': 0.8819672131147541}"
      ]
     },
     "execution_count": 51,
     "metadata": {},
     "output_type": "execute_result"
    }
   ],
   "source": [
    "cond_coverage"
   ]
  },
  {
   "cell_type": "code",
   "execution_count": 52,
   "id": "f5093324-c3dd-4d63-bc4c-8d945e5c8bbb",
   "metadata": {
    "execution": {
     "iopub.execute_input": "2025-07-23T14:51:21.271030Z",
     "iopub.status.busy": "2025-07-23T14:51:21.270534Z",
     "iopub.status.idle": "2025-07-23T14:51:21.278293Z",
     "shell.execute_reply": "2025-07-23T14:51:21.277249Z"
    },
    "papermill": {
     "duration": 0.036776,
     "end_time": "2025-07-23T14:51:21.280060",
     "exception": false,
     "start_time": "2025-07-23T14:51:21.243284",
     "status": "completed"
    },
    "tags": []
   },
   "outputs": [],
   "source": [
    "for subgroup, cov in cond_coverage.items():\n",
    "    cp_metrics_df[f\"cov_{subgroup}\"] = cov"
   ]
  },
  {
   "cell_type": "code",
   "execution_count": 53,
   "id": "6e872e10-dbe5-49e8-b554-5030c98ff75d",
   "metadata": {
    "execution": {
     "iopub.execute_input": "2025-07-23T14:51:21.334503Z",
     "iopub.status.busy": "2025-07-23T14:51:21.334001Z",
     "iopub.status.idle": "2025-07-23T14:51:21.352107Z",
     "shell.execute_reply": "2025-07-23T14:51:21.351019Z"
    },
    "papermill": {
     "duration": 0.047329,
     "end_time": "2025-07-23T14:51:21.353761",
     "exception": false,
     "start_time": "2025-07-23T14:51:21.306432",
     "status": "completed"
    },
    "tags": []
   },
   "outputs": [
    {
     "data": {
      "text/html": [
       "<div>\n",
       "<style scoped>\n",
       "    .dataframe tbody tr th:only-of-type {\n",
       "        vertical-align: middle;\n",
       "    }\n",
       "\n",
       "    .dataframe tbody tr th {\n",
       "        vertical-align: top;\n",
       "    }\n",
       "\n",
       "    .dataframe thead th {\n",
       "        text-align: right;\n",
       "    }\n",
       "</style>\n",
       "<table border=\"1\" class=\"dataframe\">\n",
       "  <thead>\n",
       "    <tr style=\"text-align: right;\">\n",
       "      <th></th>\n",
       "      <th>universe_id</th>\n",
       "      <th>universe_model</th>\n",
       "      <th>universe_exclude_features</th>\n",
       "      <th>universe_exclude_subgroups</th>\n",
       "      <th>universe_scale</th>\n",
       "      <th>q_hat</th>\n",
       "      <th>coverage</th>\n",
       "      <th>avg_size</th>\n",
       "      <th>cov_frau1</th>\n",
       "      <th>cov_nongerman</th>\n",
       "      <th>cov_nongerman_male</th>\n",
       "      <th>cov_nongerman_female</th>\n",
       "    </tr>\n",
       "  </thead>\n",
       "  <tbody>\n",
       "    <tr>\n",
       "      <th>0</th>\n",
       "      <td>6e91c12da9e1c9fbd8da7a1ad6dc5943</td>\n",
       "      <td>elasticnet</td>\n",
       "      <td>nationality</td>\n",
       "      <td>keep-all</td>\n",
       "      <td>do-not-scale</td>\n",
       "      <td>0.685503</td>\n",
       "      <td>0.906454</td>\n",
       "      <td>1.13469</td>\n",
       "      <td>0.90554</td>\n",
       "      <td>0.90709</td>\n",
       "      <td>0.922273</td>\n",
       "      <td>0.881967</td>\n",
       "    </tr>\n",
       "  </tbody>\n",
       "</table>\n",
       "</div>"
      ],
      "text/plain": [
       "                        universe_id universe_model universe_exclude_features  \\\n",
       "0  6e91c12da9e1c9fbd8da7a1ad6dc5943     elasticnet               nationality   \n",
       "\n",
       "  universe_exclude_subgroups universe_scale     q_hat  coverage  avg_size  \\\n",
       "0                   keep-all   do-not-scale  0.685503  0.906454   1.13469   \n",
       "\n",
       "   cov_frau1  cov_nongerman  cov_nongerman_male  cov_nongerman_female  \n",
       "0    0.90554        0.90709            0.922273              0.881967  "
      ]
     },
     "execution_count": 53,
     "metadata": {},
     "output_type": "execute_result"
    }
   ],
   "source": [
    "cp_metrics_df"
   ]
  },
  {
   "cell_type": "markdown",
   "id": "33774451",
   "metadata": {
    "papermill": {
     "duration": 0.021441,
     "end_time": "2025-07-23T14:51:21.397414",
     "exception": false,
     "start_time": "2025-07-23T14:51:21.375973",
     "status": "completed"
    },
    "tags": []
   },
   "source": [
    "# (Fairness) Metrics"
   ]
  },
  {
   "cell_type": "code",
   "execution_count": 54,
   "id": "debc5d62",
   "metadata": {
    "execution": {
     "iopub.execute_input": "2025-07-23T14:51:21.442536Z",
     "iopub.status.busy": "2025-07-23T14:51:21.442035Z",
     "iopub.status.idle": "2025-07-23T14:51:21.465430Z",
     "shell.execute_reply": "2025-07-23T14:51:21.464339Z"
    },
    "papermill": {
     "duration": 0.048313,
     "end_time": "2025-07-23T14:51:21.467154",
     "exception": false,
     "start_time": "2025-07-23T14:51:21.418841",
     "status": "completed"
    },
    "tags": []
   },
   "outputs": [],
   "source": [
    "# do I need to include maxdeutsch1.missing?\n",
    "\n",
    "import numpy as np\n",
    "\n",
    "colname_to_bin = \"maxdeutsch1\"\n",
    "majority_value = org_train[colname_to_bin].mode()[0]\n",
    "\n",
    "org_test[\"majmin\"] = np.where(org_test[colname_to_bin] == majority_value, \"majority\", \"minority\")"
   ]
  },
  {
   "cell_type": "code",
   "execution_count": 55,
   "id": "06a50de5",
   "metadata": {
    "execution": {
     "iopub.execute_input": "2025-07-23T14:51:21.511840Z",
     "iopub.status.busy": "2025-07-23T14:51:21.511335Z",
     "iopub.status.idle": "2025-07-23T14:51:24.717359Z",
     "shell.execute_reply": "2025-07-23T14:51:24.716314Z"
    },
    "papermill": {
     "duration": 3.230291,
     "end_time": "2025-07-23T14:51:24.719319",
     "exception": false,
     "start_time": "2025-07-23T14:51:21.489028",
     "status": "completed"
    },
    "tags": []
   },
   "outputs": [],
   "source": [
    "example_universe = universe.copy()\n",
    "example_universe[\"cutoff\"] = example_universe[\"cutoff\"][0]\n",
    "example_universe[\"eval_fairness_grouping\"] = example_universe[\"eval_fairness_grouping\"][0]\n",
    "fairness_dict, metric_frame = universe_analysis.compute_metrics(\n",
    "    example_universe,\n",
    "    y_pred_prob=probs_test,\n",
    "    y_test=y_true,\n",
    "    org_test=org_test,\n",
    ")"
   ]
  },
  {
   "cell_type": "markdown",
   "id": "f95d4e02",
   "metadata": {
    "papermill": {
     "duration": 0.021951,
     "end_time": "2025-07-23T14:51:24.766625",
     "exception": false,
     "start_time": "2025-07-23T14:51:24.744674",
     "status": "completed"
    },
    "tags": []
   },
   "source": [
    "# Overall"
   ]
  },
  {
   "cell_type": "markdown",
   "id": "bdee4871",
   "metadata": {
    "papermill": {
     "duration": 0.022148,
     "end_time": "2025-07-23T14:51:24.811302",
     "exception": false,
     "start_time": "2025-07-23T14:51:24.789154",
     "status": "completed"
    },
    "tags": []
   },
   "source": [
    "Fairness\n",
    "Main fairness target: Equalized Odds. Seems to be a better fit than equal opportunity, since we're not only interested in Y = 1. Seems to be a better fit than demographic parity, since we also care about accuracy, not just equal distribution of preds.\n",
    "\n",
    "Pick column for computation of fairness metrics\n",
    "\n",
    "Performance\n",
    "Overall performance measures, most interesting in relation to the measures split by group below"
   ]
  },
  {
   "cell_type": "code",
   "execution_count": 56,
   "id": "c4e067c6",
   "metadata": {
    "execution": {
     "iopub.execute_input": "2025-07-23T14:51:24.857791Z",
     "iopub.status.busy": "2025-07-23T14:51:24.857290Z",
     "iopub.status.idle": "2025-07-23T14:51:24.866139Z",
     "shell.execute_reply": "2025-07-23T14:51:24.865136Z"
    },
    "papermill": {
     "duration": 0.034542,
     "end_time": "2025-07-23T14:51:24.867844",
     "exception": false,
     "start_time": "2025-07-23T14:51:24.833302",
     "status": "completed"
    },
    "tags": []
   },
   "outputs": [
    {
     "data": {
      "text/plain": [
       "accuracy                   0.221369\n",
       "balanced accuracy          0.541907\n",
       "f1                         0.242783\n",
       "precision                  0.138694\n",
       "false positive rate        0.889248\n",
       "false negative rate        0.026938\n",
       "selection rate             0.900000\n",
       "count                  89710.000000\n",
       "dtype: float64"
      ]
     },
     "execution_count": 56,
     "metadata": {},
     "output_type": "execute_result"
    }
   ],
   "source": [
    "metric_frame.overall"
   ]
  },
  {
   "cell_type": "markdown",
   "id": "e968fe9d",
   "metadata": {
    "papermill": {
     "duration": 0.021418,
     "end_time": "2025-07-23T14:51:24.911558",
     "exception": false,
     "start_time": "2025-07-23T14:51:24.890140",
     "status": "completed"
    },
    "tags": []
   },
   "source": [
    "By Group"
   ]
  },
  {
   "cell_type": "code",
   "execution_count": 57,
   "id": "ec325bce",
   "metadata": {
    "execution": {
     "iopub.execute_input": "2025-07-23T14:51:24.956812Z",
     "iopub.status.busy": "2025-07-23T14:51:24.956264Z",
     "iopub.status.idle": "2025-07-23T14:51:24.972997Z",
     "shell.execute_reply": "2025-07-23T14:51:24.971990Z"
    },
    "papermill": {
     "duration": 0.041393,
     "end_time": "2025-07-23T14:51:24.974699",
     "exception": false,
     "start_time": "2025-07-23T14:51:24.933306",
     "status": "completed"
    },
    "tags": []
   },
   "outputs": [
    {
     "data": {
      "text/html": [
       "<div>\n",
       "<style scoped>\n",
       "    .dataframe tbody tr th:only-of-type {\n",
       "        vertical-align: middle;\n",
       "    }\n",
       "\n",
       "    .dataframe tbody tr th {\n",
       "        vertical-align: top;\n",
       "    }\n",
       "\n",
       "    .dataframe thead th {\n",
       "        text-align: right;\n",
       "    }\n",
       "</style>\n",
       "<table border=\"1\" class=\"dataframe\">\n",
       "  <thead>\n",
       "    <tr style=\"text-align: right;\">\n",
       "      <th></th>\n",
       "      <th>accuracy</th>\n",
       "      <th>balanced accuracy</th>\n",
       "      <th>f1</th>\n",
       "      <th>precision</th>\n",
       "      <th>false positive rate</th>\n",
       "      <th>false negative rate</th>\n",
       "      <th>selection rate</th>\n",
       "      <th>count</th>\n",
       "    </tr>\n",
       "    <tr>\n",
       "      <th>majmin</th>\n",
       "      <th></th>\n",
       "      <th></th>\n",
       "      <th></th>\n",
       "      <th></th>\n",
       "      <th></th>\n",
       "      <th></th>\n",
       "      <th></th>\n",
       "      <th></th>\n",
       "    </tr>\n",
       "  </thead>\n",
       "  <tbody>\n",
       "    <tr>\n",
       "      <th>majority</th>\n",
       "      <td>0.243892</td>\n",
       "      <td>0.551492</td>\n",
       "      <td>0.253113</td>\n",
       "      <td>0.145555</td>\n",
       "      <td>0.866600</td>\n",
       "      <td>0.030416</td>\n",
       "      <td>0.880208</td>\n",
       "      <td>69170.0</td>\n",
       "    </tr>\n",
       "    <tr>\n",
       "      <th>minority</th>\n",
       "      <td>0.145521</td>\n",
       "      <td>0.511210</td>\n",
       "      <td>0.210233</td>\n",
       "      <td>0.117653</td>\n",
       "      <td>0.964066</td>\n",
       "      <td>0.013514</td>\n",
       "      <td>0.966650</td>\n",
       "      <td>20540.0</td>\n",
       "    </tr>\n",
       "  </tbody>\n",
       "</table>\n",
       "</div>"
      ],
      "text/plain": [
       "          accuracy  balanced accuracy        f1  precision  \\\n",
       "majmin                                                       \n",
       "majority  0.243892           0.551492  0.253113   0.145555   \n",
       "minority  0.145521           0.511210  0.210233   0.117653   \n",
       "\n",
       "          false positive rate  false negative rate  selection rate    count  \n",
       "majmin                                                                       \n",
       "majority             0.866600             0.030416        0.880208  69170.0  \n",
       "minority             0.964066             0.013514        0.966650  20540.0  "
      ]
     },
     "execution_count": 57,
     "metadata": {},
     "output_type": "execute_result"
    }
   ],
   "source": [
    "metric_frame.by_group"
   ]
  },
  {
   "cell_type": "code",
   "execution_count": 58,
   "id": "a9ddbe63",
   "metadata": {
    "execution": {
     "iopub.execute_input": "2025-07-23T14:51:25.021558Z",
     "iopub.status.busy": "2025-07-23T14:51:25.021057Z",
     "iopub.status.idle": "2025-07-23T14:51:27.432294Z",
     "shell.execute_reply": "2025-07-23T14:51:27.431387Z"
    },
    "papermill": {
     "duration": 2.436165,
     "end_time": "2025-07-23T14:51:27.434017",
     "exception": false,
     "start_time": "2025-07-23T14:51:24.997852",
     "status": "completed"
    },
    "tags": []
   },
   "outputs": [
    {
     "data": {
      "text/plain": [
       "array([[<Axes: title={'center': 'accuracy'}, xlabel='majmin'>,\n",
       "        <Axes: title={'center': 'balanced accuracy'}, xlabel='majmin'>,\n",
       "        <Axes: title={'center': 'f1'}, xlabel='majmin'>],\n",
       "       [<Axes: title={'center': 'precision'}, xlabel='majmin'>,\n",
       "        <Axes: title={'center': 'false positive rate'}, xlabel='majmin'>,\n",
       "        <Axes: title={'center': 'false negative rate'}, xlabel='majmin'>],\n",
       "       [<Axes: title={'center': 'selection rate'}, xlabel='majmin'>,\n",
       "        <Axes: title={'center': 'count'}, xlabel='majmin'>,\n",
       "        <Axes: xlabel='majmin'>]], dtype=object)"
      ]
     },
     "execution_count": 58,
     "metadata": {},
     "output_type": "execute_result"
    },
    {
     "data": {
      "image/png": "[encoded data removed]",
      "text/plain": [
       "<Figure size 1200x800 with 9 Axes>"
      ]
     },
     "metadata": {},
     "output_type": "display_data"
    }
   ],
   "source": [
    "# In a graphic\n",
    "metric_frame.by_group.plot.bar(\n",
    "    subplots=True,\n",
    "    layout=[3, 3],\n",
    "    legend=False,\n",
    "    figsize=[12, 8],\n",
    "    title=\"Show all metrics\",\n",
    ")"
   ]
  },
  {
   "cell_type": "markdown",
   "id": "f57a0bac",
   "metadata": {
    "papermill": {
     "duration": 0.023612,
     "end_time": "2025-07-23T14:51:27.484509",
     "exception": false,
     "start_time": "2025-07-23T14:51:27.460897",
     "status": "completed"
    },
    "tags": []
   },
   "source": [
    "# Final Output"
   ]
  },
  {
   "cell_type": "code",
   "execution_count": 59,
   "id": "96d280a3",
   "metadata": {
    "execution": {
     "iopub.execute_input": "2025-07-23T14:51:27.534201Z",
     "iopub.status.busy": "2025-07-23T14:51:27.533501Z",
     "iopub.status.idle": "2025-07-23T14:51:27.541869Z",
     "shell.execute_reply": "2025-07-23T14:51:27.540931Z"
    },
    "papermill": {
     "duration": 0.035353,
     "end_time": "2025-07-23T14:51:27.543525",
     "exception": false,
     "start_time": "2025-07-23T14:51:27.508172",
     "status": "completed"
    },
    "tags": []
   },
   "outputs": [
    {
     "data": {
      "text/plain": [
       "4"
      ]
     },
     "execution_count": 59,
     "metadata": {},
     "output_type": "execute_result"
    }
   ],
   "source": [
    "sub_universes = universe_analysis.generate_sub_universes()\n",
    "len(sub_universes)"
   ]
  },
  {
   "cell_type": "code",
   "execution_count": 60,
   "id": "92adf7ba",
   "metadata": {
    "execution": {
     "iopub.execute_input": "2025-07-23T14:51:27.593700Z",
     "iopub.status.busy": "2025-07-23T14:51:27.593195Z",
     "iopub.status.idle": "2025-07-23T14:51:27.599840Z",
     "shell.execute_reply": "2025-07-23T14:51:27.598814Z"
    },
    "papermill": {
     "duration": 0.033244,
     "end_time": "2025-07-23T14:51:27.601547",
     "exception": false,
     "start_time": "2025-07-23T14:51:27.568303",
     "status": "completed"
    },
    "tags": []
   },
   "outputs": [],
   "source": [
    "def filter_sub_universe_data(sub_universe, org_test):\n",
    "    # Keep all rows — no filtering\n",
    "    keep_rows_mask = np.ones(org_test.shape[0], dtype=bool)\n",
    "\n",
    "    print(f\"[INFO] Keeping all rows: {keep_rows_mask.sum()} rows retained.\")\n",
    "    return keep_rows_mask"
   ]
  },
  {
   "cell_type": "code",
   "execution_count": 61,
   "id": "4a759155",
   "metadata": {
    "execution": {
     "iopub.execute_input": "2025-07-23T14:51:27.651963Z",
     "iopub.status.busy": "2025-07-23T14:51:27.651455Z",
     "iopub.status.idle": "2025-07-23T14:51:38.224087Z",
     "shell.execute_reply": "2025-07-23T14:51:38.223201Z"
    },
    "papermill": {
     "duration": 10.599317,
     "end_time": "2025-07-23T14:51:38.225644",
     "exception": false,
     "start_time": "2025-07-23T14:51:27.626327",
     "status": "completed"
    },
    "tags": []
   },
   "outputs": [
    {
     "name": "stdout",
     "output_type": "stream",
     "text": [
      "Stopping execution_time clock.\n",
      "[INFO] Keeping all rows: 89710 rows retained.\n"
     ]
    },
    {
     "name": "stdout",
     "output_type": "stream",
     "text": [
      "[INFO] Keeping all rows: 89710 rows retained.\n"
     ]
    },
    {
     "name": "stdout",
     "output_type": "stream",
     "text": [
      "[INFO] Keeping all rows: 89710 rows retained.\n"
     ]
    },
    {
     "name": "stdout",
     "output_type": "stream",
     "text": [
      "[INFO] Keeping all rows: 89710 rows retained.\n"
     ]
    },
    {
     "data": {
      "text/html": [
       "<div>\n",
       "<style scoped>\n",
       "    .dataframe tbody tr th:only-of-type {\n",
       "        vertical-align: middle;\n",
       "    }\n",
       "\n",
       "    .dataframe tbody tr th {\n",
       "        vertical-align: top;\n",
       "    }\n",
       "\n",
       "    .dataframe thead th {\n",
       "        text-align: right;\n",
       "    }\n",
       "</style>\n",
       "<table border=\"1\" class=\"dataframe\">\n",
       "  <thead>\n",
       "    <tr style=\"text-align: right;\">\n",
       "      <th></th>\n",
       "      <th>run_no</th>\n",
       "      <th>universe_id</th>\n",
       "      <th>universe_settings</th>\n",
       "      <th>execution_time</th>\n",
       "      <th>test_size_n</th>\n",
       "      <th>test_size_frac</th>\n",
       "      <th>fair_main_equalized_odds_difference</th>\n",
       "      <th>fair_main_equalized_odds_ratio</th>\n",
       "      <th>fair_main_demographic_parity_difference</th>\n",
       "      <th>fair_main_demographic_parity_ratio</th>\n",
       "      <th>...</th>\n",
       "      <th>perf_grp_precision_0</th>\n",
       "      <th>perf_grp_precision_1</th>\n",
       "      <th>perf_grp_false positive rate_0</th>\n",
       "      <th>perf_grp_false positive rate_1</th>\n",
       "      <th>perf_grp_false negative rate_0</th>\n",
       "      <th>perf_grp_false negative rate_1</th>\n",
       "      <th>perf_grp_selection rate_0</th>\n",
       "      <th>perf_grp_selection rate_1</th>\n",
       "      <th>perf_grp_count_0</th>\n",
       "      <th>perf_grp_count_1</th>\n",
       "    </tr>\n",
       "  </thead>\n",
       "  <tbody>\n",
       "    <tr>\n",
       "      <th>0</th>\n",
       "      <td>9</td>\n",
       "      <td>6e91c12da9e1c9fbd8da7a1ad6dc5943</td>\n",
       "      <td>{\"cutoff\": \"quantile_0.1\", \"eval_fairness_grou...</td>\n",
       "      <td>664.100941</td>\n",
       "      <td>89710</td>\n",
       "      <td>1.0</td>\n",
       "      <td>0.097466</td>\n",
       "      <td>0.898902</td>\n",
       "      <td>0.086442</td>\n",
       "      <td>0.910575</td>\n",
       "      <td>...</td>\n",
       "      <td>NaN</td>\n",
       "      <td>NaN</td>\n",
       "      <td>NaN</td>\n",
       "      <td>NaN</td>\n",
       "      <td>NaN</td>\n",
       "      <td>NaN</td>\n",
       "      <td>NaN</td>\n",
       "      <td>NaN</td>\n",
       "      <td>NaN</td>\n",
       "      <td>NaN</td>\n",
       "    </tr>\n",
       "    <tr>\n",
       "      <th>0</th>\n",
       "      <td>9</td>\n",
       "      <td>6e91c12da9e1c9fbd8da7a1ad6dc5943</td>\n",
       "      <td>{\"cutoff\": \"quantile_0.1\", \"eval_fairness_grou...</td>\n",
       "      <td>664.100941</td>\n",
       "      <td>89710</td>\n",
       "      <td>1.0</td>\n",
       "      <td>0.097466</td>\n",
       "      <td>0.898902</td>\n",
       "      <td>0.086442</td>\n",
       "      <td>0.910575</td>\n",
       "      <td>...</td>\n",
       "      <td>0.117653</td>\n",
       "      <td>0.145555</td>\n",
       "      <td>0.964066</td>\n",
       "      <td>0.866600</td>\n",
       "      <td>0.013514</td>\n",
       "      <td>0.030416</td>\n",
       "      <td>0.966650</td>\n",
       "      <td>0.880208</td>\n",
       "      <td>20540.0</td>\n",
       "      <td>69170.0</td>\n",
       "    </tr>\n",
       "    <tr>\n",
       "      <th>0</th>\n",
       "      <td>9</td>\n",
       "      <td>6e91c12da9e1c9fbd8da7a1ad6dc5943</td>\n",
       "      <td>{\"cutoff\": \"quantile_0.25\", \"eval_fairness_gro...</td>\n",
       "      <td>664.100941</td>\n",
       "      <td>89710</td>\n",
       "      <td>1.0</td>\n",
       "      <td>0.195040</td>\n",
       "      <td>0.777398</td>\n",
       "      <td>0.171313</td>\n",
       "      <td>0.805786</td>\n",
       "      <td>...</td>\n",
       "      <td>NaN</td>\n",
       "      <td>NaN</td>\n",
       "      <td>NaN</td>\n",
       "      <td>NaN</td>\n",
       "      <td>NaN</td>\n",
       "      <td>NaN</td>\n",
       "      <td>NaN</td>\n",
       "      <td>NaN</td>\n",
       "      <td>NaN</td>\n",
       "      <td>NaN</td>\n",
       "    </tr>\n",
       "    <tr>\n",
       "      <th>0</th>\n",
       "      <td>9</td>\n",
       "      <td>6e91c12da9e1c9fbd8da7a1ad6dc5943</td>\n",
       "      <td>{\"cutoff\": \"quantile_0.25\", \"eval_fairness_gro...</td>\n",
       "      <td>664.100941</td>\n",
       "      <td>89710</td>\n",
       "      <td>1.0</td>\n",
       "      <td>0.195040</td>\n",
       "      <td>0.777398</td>\n",
       "      <td>0.171313</td>\n",
       "      <td>0.805786</td>\n",
       "      <td>...</td>\n",
       "      <td>0.121205</td>\n",
       "      <td>0.168314</td>\n",
       "      <td>0.876183</td>\n",
       "      <td>0.681143</td>\n",
       "      <td>0.072635</td>\n",
       "      <td>0.094639</td>\n",
       "      <td>0.882084</td>\n",
       "      <td>0.710771</td>\n",
       "      <td>20540.0</td>\n",
       "      <td>69170.0</td>\n",
       "    </tr>\n",
       "  </tbody>\n",
       "</table>\n",
       "<p>4 rows × 50 columns</p>\n",
       "</div>"
      ],
      "text/plain": [
       "  run_no                       universe_id  \\\n",
       "0      9  6e91c12da9e1c9fbd8da7a1ad6dc5943   \n",
       "0      9  6e91c12da9e1c9fbd8da7a1ad6dc5943   \n",
       "0      9  6e91c12da9e1c9fbd8da7a1ad6dc5943   \n",
       "0      9  6e91c12da9e1c9fbd8da7a1ad6dc5943   \n",
       "\n",
       "                                   universe_settings  execution_time  \\\n",
       "0  {\"cutoff\": \"quantile_0.1\", \"eval_fairness_grou...      664.100941   \n",
       "0  {\"cutoff\": \"quantile_0.1\", \"eval_fairness_grou...      664.100941   \n",
       "0  {\"cutoff\": \"quantile_0.25\", \"eval_fairness_gro...      664.100941   \n",
       "0  {\"cutoff\": \"quantile_0.25\", \"eval_fairness_gro...      664.100941   \n",
       "\n",
       "   test_size_n  test_size_frac  fair_main_equalized_odds_difference  \\\n",
       "0        89710             1.0                             0.097466   \n",
       "0        89710             1.0                             0.097466   \n",
       "0        89710             1.0                             0.195040   \n",
       "0        89710             1.0                             0.195040   \n",
       "\n",
       "   fair_main_equalized_odds_ratio  fair_main_demographic_parity_difference  \\\n",
       "0                        0.898902                                 0.086442   \n",
       "0                        0.898902                                 0.086442   \n",
       "0                        0.777398                                 0.171313   \n",
       "0                        0.777398                                 0.171313   \n",
       "\n",
       "   fair_main_demographic_parity_ratio  ...  perf_grp_precision_0  \\\n",
       "0                            0.910575  ...                   NaN   \n",
       "0                            0.910575  ...              0.117653   \n",
       "0                            0.805786  ...                   NaN   \n",
       "0                            0.805786  ...              0.121205   \n",
       "\n",
       "   perf_grp_precision_1  perf_grp_false positive rate_0  \\\n",
       "0                   NaN                             NaN   \n",
       "0              0.145555                        0.964066   \n",
       "0                   NaN                             NaN   \n",
       "0              0.168314                        0.876183   \n",
       "\n",
       "   perf_grp_false positive rate_1  perf_grp_false negative rate_0  \\\n",
       "0                             NaN                             NaN   \n",
       "0                        0.866600                        0.013514   \n",
       "0                             NaN                             NaN   \n",
       "0                        0.681143                        0.072635   \n",
       "\n",
       "   perf_grp_false negative rate_1  perf_grp_selection rate_0  \\\n",
       "0                             NaN                        NaN   \n",
       "0                        0.030416                   0.966650   \n",
       "0                             NaN                        NaN   \n",
       "0                        0.094639                   0.882084   \n",
       "\n",
       "   perf_grp_selection rate_1  perf_grp_count_0  perf_grp_count_1  \n",
       "0                        NaN               NaN               NaN  \n",
       "0                   0.880208           20540.0           69170.0  \n",
       "0                        NaN               NaN               NaN  \n",
       "0                   0.710771           20540.0           69170.0  \n",
       "\n",
       "[4 rows x 50 columns]"
      ]
     },
     "execution_count": 61,
     "metadata": {},
     "output_type": "execute_result"
    }
   ],
   "source": [
    "final_output = universe_analysis.generate_final_output(\n",
    "    y_pred_prob=probs_test,\n",
    "    y_test=y_true,\n",
    "    org_test=org_test,\n",
    "    filter_data=filter_sub_universe_data,\n",
    "    cp_metrics_df=cp_metrics_df,\n",
    "    save=True,\n",
    ")\n",
    "final_output"
   ]
  },
  {
   "cell_type": "code",
   "execution_count": null,
   "id": "721ff514-cb11-46f8-b6fc-50392f74b5cb",
   "metadata": {
    "papermill": {
     "duration": 0.024623,
     "end_time": "2025-07-23T14:51:38.278698",
     "exception": false,
     "start_time": "2025-07-23T14:51:38.254075",
     "status": "completed"
    },
    "tags": []
   },
   "outputs": [],
   "source": []
  }
 ],
 "metadata": {
  "celltoolbar": "Tags",
  "kernelspec": {
   "display_name": "Python (CMA Fairness)",
   "language": "python",
   "name": "cma_fair_env"
  },
  "language_info": {
   "codemirror_mode": {
    "name": "ipython",
    "version": 3
   },
   "file_extension": ".py",
   "mimetype": "text/x-python",
   "name": "python",
   "nbconvert_exporter": "python",
   "pygments_lexer": "ipython3",
   "version": "3.10.12"
  },
  "papermill": {
   "default_parameters": {},
   "duration": 678.859448,
   "end_time": "2025-07-23T14:51:39.022107",
   "environment_variables": {},
   "exception": null,
   "input_path": "universe_analysis.ipynb",
   "output_path": "output/runs/9/notebooks/m_9-6e91c12da9e1c9fbd8da7a1ad6dc5943.ipynb",
   "parameters": {
    "output_dir": "output",
    "run_no": "9",
    "seed": "2023",
    "universe": "{\"cutoff\": [\"quantile_0.1\", \"quantile_0.25\"], \"eval_fairness_grouping\": [\"majority-minority\", \"nationality-all\"], \"exclude_features\": \"nationality\", \"exclude_subgroups\": \"keep-all\", \"model\": \"elasticnet\", \"scale\": \"do-not-scale\"}",
    "universe_id": "6e91c12da9e1c9fbd8da7a1ad6dc5943"
   },
   "start_time": "2025-07-23T14:40:20.162659",
   "version": "2.6.0"
  }
 },
 "nbformat": 4,
 "nbformat_minor": 5
}