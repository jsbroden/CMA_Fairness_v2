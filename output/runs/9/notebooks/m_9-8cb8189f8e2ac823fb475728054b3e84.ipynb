{
 "cells": [
  {
   "cell_type": "code",
   "execution_count": 1,
   "id": "f159f837-637b-42ba-96b5-ec9a68c44524",
   "metadata": {
    "execution": {
     "iopub.execute_input": "2025-07-23T14:28:11.085503Z",
     "iopub.status.busy": "2025-07-23T14:28:11.084939Z",
     "iopub.status.idle": "2025-07-23T14:28:11.100317Z",
     "shell.execute_reply": "2025-07-23T14:28:11.099159Z"
    },
    "papermill": {
     "duration": 0.054803,
     "end_time": "2025-07-23T14:28:11.102551",
     "exception": false,
     "start_time": "2025-07-23T14:28:11.047748",
     "status": "completed"
    },
    "tags": []
   },
   "outputs": [
    {
     "name": "stdout",
     "output_type": "stream",
     "text": [
      "/dss/dsshome1/0C/ra93lal2/cma/CMA_Fairness_v2\n"
     ]
    },
    {
     "name": "stderr",
     "output_type": "stream",
     "text": [
      "/dss/dsshome1/0C/ra93lal2/.local/share/virtualenvs/CMA_Fairness_v2-3j10GkSs/lib/python3.10/site-packages/IPython/core/magics/osm.py:393: UserWarning: This is now an optional IPython functionality, using bookmarks requires you to install the `pickleshare` library.\n",
      "  bkms = self.shell.db.get('bookmarks', {})\n",
      "/dss/dsshome1/0C/ra93lal2/.local/share/virtualenvs/CMA_Fairness_v2-3j10GkSs/lib/python3.10/site-packages/IPython/core/magics/osm.py:417: UserWarning: This is now an optional IPython functionality, setting dhist requires you to install the `pickleshare` library.\n",
      "  self.shell.db['dhist'] = compress_dhist(dhist)[-100:]\n"
     ]
    }
   ],
   "source": [
    "%cd ~/cma/CMA_Fairness_v2"
   ]
  },
  {
   "cell_type": "markdown",
   "id": "de2603b9",
   "metadata": {
    "papermill": {
     "duration": 0.012418,
     "end_time": "2025-07-23T14:28:11.134289",
     "exception": false,
     "start_time": "2025-07-23T14:28:11.121871",
     "status": "completed"
    },
    "tags": []
   },
   "source": [
    "The following cell holds the definition of our parameters, these values can be overriden by rendering the with e.g. the following command:\n",
    "\n",
    "papermill -p alpha 0.2 -p ratio 0.3 universe_analysis.ipynb output/test_run.ipynb"
   ]
  },
  {
   "cell_type": "code",
   "execution_count": 2,
   "id": "a80968a0-40bb-4fa9-85ef-2d5eefb01975",
   "metadata": {
    "execution": {
     "iopub.execute_input": "2025-07-23T14:28:11.154067Z",
     "iopub.status.busy": "2025-07-23T14:28:11.153619Z",
     "iopub.status.idle": "2025-07-23T14:28:11.159284Z",
     "shell.execute_reply": "2025-07-23T14:28:11.158342Z"
    },
    "papermill": {
     "duration": 0.017351,
     "end_time": "2025-07-23T14:28:11.160816",
     "exception": false,
     "start_time": "2025-07-23T14:28:11.143465",
     "status": "completed"
    },
    "tags": []
   },
   "outputs": [
    {
     "name": "stdout",
     "output_type": "stream",
     "text": [
      "Current working directory: /dss/dsshome1/0C/ra93lal2/cma/CMA_Fairness_v2\n"
     ]
    }
   ],
   "source": [
    "import os\n",
    "print(\"Current working directory:\", os.getcwd())"
   ]
  },
  {
   "cell_type": "code",
   "execution_count": 3,
   "id": "2dce4c03",
   "metadata": {
    "execution": {
     "iopub.execute_input": "2025-07-23T14:28:11.181158Z",
     "iopub.status.busy": "2025-07-23T14:28:11.180886Z",
     "iopub.status.idle": "2025-07-23T14:28:11.186277Z",
     "shell.execute_reply": "2025-07-23T14:28:11.185371Z"
    },
    "papermill": {
     "duration": 0.017223,
     "end_time": "2025-07-23T14:28:11.187698",
     "exception": false,
     "start_time": "2025-07-23T14:28:11.170475",
     "status": "completed"
    },
    "tags": [
     "parameters"
    ]
   },
   "outputs": [],
   "source": [
    "run_no = 0\n",
    "universe_id = \"test\"\n",
    "universe = {\n",
    "    \"scale\": \"scale\", # \"scale\", \"do-not-scale\",\n",
    "    \"model\": \"elasticnet\", # \"logreg\", \"penalized_logreg\", \"rf\", \"gbm\", \"elasticnet\"\n",
    "    \"cutoff\": [\"quantile_0.15\", \"quantile_0.30\"],\n",
    "    \"exclude_features\": \"age\", # \"none\", \"nationality\", \"sex\", \"nationality-sex\", \"age\"\n",
    "    \"exclude_subgroups\": \"keep-all\", # \"keep-all\", \"drop-non-german\"\n",
    "    #\"training_sample\": \"restricted\", # \"restricted\", \"full\"\n",
    "    \"eval_fairness_grouping\": [\"majority-minority\", \"nationality-all\"]\n",
    "}\n",
    "\n",
    "output_dir=\"./output\"\n",
    "seed=0"
   ]
  },
  {
   "cell_type": "code",
   "execution_count": 4,
   "id": "154d32af",
   "metadata": {
    "execution": {
     "iopub.execute_input": "2025-07-23T14:28:11.208654Z",
     "iopub.status.busy": "2025-07-23T14:28:11.208167Z",
     "iopub.status.idle": "2025-07-23T14:28:11.213662Z",
     "shell.execute_reply": "2025-07-23T14:28:11.212740Z"
    },
    "papermill": {
     "duration": 0.017452,
     "end_time": "2025-07-23T14:28:11.215383",
     "exception": false,
     "start_time": "2025-07-23T14:28:11.197931",
     "status": "completed"
    },
    "tags": [
     "injected-parameters"
    ]
   },
   "outputs": [],
   "source": [
    "# Parameters\n",
    "universe_id = \"8cb8189f8e2ac823fb475728054b3e84\"\n",
    "run_no = \"9\"\n",
    "universe = \"{\\\"cutoff\\\": [\\\"quantile_0.1\\\", \\\"quantile_0.25\\\"], \\\"eval_fairness_grouping\\\": [\\\"majority-minority\\\", \\\"nationality-all\\\"], \\\"exclude_features\\\": \\\"sex\\\", \\\"exclude_subgroups\\\": \\\"keep-all\\\", \\\"model\\\": \\\"rf\\\", \\\"scale\\\": \\\"scale\\\"}\"\n",
    "output_dir = \"output\"\n",
    "seed = \"2023\"\n"
   ]
  },
  {
   "cell_type": "code",
   "execution_count": 5,
   "id": "1650acaf",
   "metadata": {
    "execution": {
     "iopub.execute_input": "2025-07-23T14:28:11.239330Z",
     "iopub.status.busy": "2025-07-23T14:28:11.238687Z",
     "iopub.status.idle": "2025-07-23T14:28:11.243253Z",
     "shell.execute_reply": "2025-07-23T14:28:11.242489Z"
    },
    "papermill": {
     "duration": 0.018893,
     "end_time": "2025-07-23T14:28:11.244882",
     "exception": false,
     "start_time": "2025-07-23T14:28:11.225989",
     "status": "completed"
    },
    "tags": []
   },
   "outputs": [],
   "source": [
    "import json\n",
    "# Parse universe into dict if it is passed as a string\n",
    "if isinstance(universe, str):\n",
    "    universe = json.loads(universe)"
   ]
  },
  {
   "cell_type": "code",
   "execution_count": 6,
   "id": "16620c48",
   "metadata": {
    "execution": {
     "iopub.execute_input": "2025-07-23T14:28:11.265156Z",
     "iopub.status.busy": "2025-07-23T14:28:11.264726Z",
     "iopub.status.idle": "2025-07-23T14:28:11.316383Z",
     "shell.execute_reply": "2025-07-23T14:28:11.314604Z"
    },
    "papermill": {
     "duration": 0.06411,
     "end_time": "2025-07-23T14:28:11.318675",
     "exception": false,
     "start_time": "2025-07-23T14:28:11.254565",
     "status": "completed"
    },
    "tags": []
   },
   "outputs": [],
   "source": [
    "# Auto-reload the custom package\n",
    "%load_ext autoreload\n",
    "%autoreload 1\n",
    "%aimport fairness_multiverse"
   ]
  },
  {
   "cell_type": "code",
   "execution_count": 7,
   "id": "01c5c9f3",
   "metadata": {
    "execution": {
     "iopub.execute_input": "2025-07-23T14:28:11.352633Z",
     "iopub.status.busy": "2025-07-23T14:28:11.351608Z",
     "iopub.status.idle": "2025-07-23T14:28:14.903305Z",
     "shell.execute_reply": "2025-07-23T14:28:14.901870Z"
    },
    "papermill": {
     "duration": 3.585719,
     "end_time": "2025-07-23T14:28:14.922998",
     "exception": false,
     "start_time": "2025-07-23T14:28:11.337279",
     "status": "completed"
    },
    "tags": []
   },
   "outputs": [],
   "source": [
    "from fairness_multiverse.universe import UniverseAnalysis\n",
    "\n",
    "universe_analysis = UniverseAnalysis(\n",
    "    run_no = run_no,\n",
    "    universe_id = universe_id,\n",
    "    universe = universe,\n",
    "    output_dir=output_dir,\n",
    ")"
   ]
  },
  {
   "cell_type": "code",
   "execution_count": 8,
   "id": "106241f5",
   "metadata": {
    "execution": {
     "iopub.execute_input": "2025-07-23T14:28:15.008624Z",
     "iopub.status.busy": "2025-07-23T14:28:15.008021Z",
     "iopub.status.idle": "2025-07-23T14:28:15.020185Z",
     "shell.execute_reply": "2025-07-23T14:28:15.018991Z"
    },
    "papermill": {
     "duration": 0.059719,
     "end_time": "2025-07-23T14:28:15.022383",
     "exception": false,
     "start_time": "2025-07-23T14:28:14.962664",
     "status": "completed"
    },
    "tags": []
   },
   "outputs": [
    {
     "name": "stdout",
     "output_type": "stream",
     "text": [
      "Using Seed: 2023\n"
     ]
    }
   ],
   "source": [
    "import numpy as np\n",
    "parsed_seed = int(seed)\n",
    "np.random.seed(parsed_seed)\n",
    "print(f\"Using Seed: {parsed_seed}\")"
   ]
  },
  {
   "cell_type": "markdown",
   "id": "e0ebdc57",
   "metadata": {
    "papermill": {
     "duration": 0.02706,
     "end_time": "2025-07-23T14:28:15.078303",
     "exception": false,
     "start_time": "2025-07-23T14:28:15.051243",
     "status": "completed"
    },
    "tags": []
   },
   "source": [
    "# Loading Data"
   ]
  },
  {
   "cell_type": "markdown",
   "id": "681925a3",
   "metadata": {
    "papermill": {
     "duration": 0.02494,
     "end_time": "2025-07-23T14:28:15.156437",
     "exception": false,
     "start_time": "2025-07-23T14:28:15.131497",
     "status": "completed"
    },
    "tags": []
   },
   "source": [
    "Load siab_train, siab_test, siab_calib and/or \n",
    "load siab_train_features, siab_train_labels"
   ]
  },
  {
   "cell_type": "code",
   "execution_count": 9,
   "id": "f0496b8a",
   "metadata": {
    "execution": {
     "iopub.execute_input": "2025-07-23T14:28:15.213337Z",
     "iopub.status.busy": "2025-07-23T14:28:15.212894Z",
     "iopub.status.idle": "2025-07-23T14:28:15.219452Z",
     "shell.execute_reply": "2025-07-23T14:28:15.218469Z"
    },
    "papermill": {
     "duration": 0.046488,
     "end_time": "2025-07-23T14:28:15.222768",
     "exception": false,
     "start_time": "2025-07-23T14:28:15.176280",
     "status": "completed"
    },
    "tags": []
   },
   "outputs": [],
   "source": [
    "# Do I need to load siab? Delete this cell?\n",
    "\n",
    "#from pathlib import Path\n",
    "#import pandas as pd\n",
    "#\n",
    "## File paths\n",
    "#raw_file = Path(\"data/raw/siab.csv\")\n",
    "#cache_file = Path(\"data/siab_cached.csv.gz\")\n",
    "#\n",
    "## Ensure cache directory exists\n",
    "#cache_file.parent.mkdir(parents=True, exist_ok=True)\n",
    "#\n",
    "## Load with simple caching\n",
    "#if cache_file.exists():\n",
    "#    print(f\"Loading SIAB data from cache: {cache_file}\")\n",
    "#    siab = pd.read_csv(cache_file, compression='gzip')\n",
    "#else:\n",
    "#    print(f\"Cache not found. Reading raw SIAB data: {raw_file}\")\n",
    "#    siab = pd.read_csv(raw_file)\n",
    "#    siab.to_csv(cache_file, index=False, compression='gzip')\n",
    "#    print(f\"Cached SIAB data to: {cache_file}\")\n",
    "#\n",
    "## Now use `siab` DataFrame as needed\n",
    "#print(siab.shape)\n"
   ]
  },
  {
   "cell_type": "code",
   "execution_count": 10,
   "id": "a0edb063",
   "metadata": {
    "execution": {
     "iopub.execute_input": "2025-07-23T14:28:15.263597Z",
     "iopub.status.busy": "2025-07-23T14:28:15.263136Z",
     "iopub.status.idle": "2025-07-23T14:28:17.071002Z",
     "shell.execute_reply": "2025-07-23T14:28:17.069851Z"
    },
    "papermill": {
     "duration": 1.830373,
     "end_time": "2025-07-23T14:28:17.073652",
     "exception": false,
     "start_time": "2025-07-23T14:28:15.243279",
     "status": "completed"
    },
    "tags": []
   },
   "outputs": [],
   "source": [
    "import pandas as pd\n",
    "\n",
    "X_train = pd.read_csv(\"./data/X_train.csv\")\n",
    "y_train = pd.read_csv(\"./data/y_train.csv\")"
   ]
  },
  {
   "cell_type": "code",
   "execution_count": 11,
   "id": "63d08085",
   "metadata": {
    "execution": {
     "iopub.execute_input": "2025-07-23T14:28:17.161731Z",
     "iopub.status.busy": "2025-07-23T14:28:17.161198Z",
     "iopub.status.idle": "2025-07-23T14:28:19.832937Z",
     "shell.execute_reply": "2025-07-23T14:28:19.831709Z"
    },
    "papermill": {
     "duration": 2.721726,
     "end_time": "2025-07-23T14:28:19.834991",
     "exception": false,
     "start_time": "2025-07-23T14:28:17.113265",
     "status": "completed"
    },
    "tags": []
   },
   "outputs": [],
   "source": [
    "X_test = pd.read_csv(\"./data/X_test.csv\")\n",
    "y_true = pd.read_csv(\"./data/y_test.csv\")"
   ]
  },
  {
   "cell_type": "code",
   "execution_count": 12,
   "id": "98a8d0fa-1d3d-4ed8-bb2c-281470e24add",
   "metadata": {
    "execution": {
     "iopub.execute_input": "2025-07-23T14:28:19.921116Z",
     "iopub.status.busy": "2025-07-23T14:28:19.920280Z",
     "iopub.status.idle": "2025-07-23T14:28:21.596803Z",
     "shell.execute_reply": "2025-07-23T14:28:21.595440Z"
    },
    "papermill": {
     "duration": 1.730261,
     "end_time": "2025-07-23T14:28:21.599210",
     "exception": false,
     "start_time": "2025-07-23T14:28:19.868949",
     "status": "completed"
    },
    "tags": []
   },
   "outputs": [],
   "source": [
    "# Calibration data for conformal\n",
    "X_calib = pd.read_csv(\"./data/X_calib.csv\")\n",
    "y_calib = pd.read_csv(\"./data/y_calib.csv\")"
   ]
  },
  {
   "cell_type": "code",
   "execution_count": 13,
   "id": "e6c733c5",
   "metadata": {
    "execution": {
     "iopub.execute_input": "2025-07-23T14:28:21.657248Z",
     "iopub.status.busy": "2025-07-23T14:28:21.655914Z",
     "iopub.status.idle": "2025-07-23T14:28:21.807522Z",
     "shell.execute_reply": "2025-07-23T14:28:21.806422Z"
    },
    "papermill": {
     "duration": 0.182837,
     "end_time": "2025-07-23T14:28:21.809840",
     "exception": false,
     "start_time": "2025-07-23T14:28:21.627003",
     "status": "completed"
    },
    "tags": []
   },
   "outputs": [],
   "source": [
    "# Auxiliary data needed downstream in the pipeline\n",
    "\n",
    "org_train = X_train.copy()\n",
    "org_test = X_test.copy()\n",
    "org_calib = X_calib.copy()"
   ]
  },
  {
   "cell_type": "markdown",
   "id": "0a4a1b33",
   "metadata": {
    "papermill": {
     "duration": 0.018263,
     "end_time": "2025-07-23T14:28:21.846924",
     "exception": false,
     "start_time": "2025-07-23T14:28:21.828661",
     "status": "completed"
    },
    "tags": []
   },
   "source": [
    "# Preprocessing Data"
   ]
  },
  {
   "cell_type": "code",
   "execution_count": 14,
   "id": "ca879031",
   "metadata": {
    "execution": {
     "iopub.execute_input": "2025-07-23T14:28:21.919564Z",
     "iopub.status.busy": "2025-07-23T14:28:21.919129Z",
     "iopub.status.idle": "2025-07-23T14:28:21.927206Z",
     "shell.execute_reply": "2025-07-23T14:28:21.926287Z"
    },
    "papermill": {
     "duration": 0.059611,
     "end_time": "2025-07-23T14:28:21.929237",
     "exception": false,
     "start_time": "2025-07-23T14:28:21.869626",
     "status": "completed"
    },
    "tags": []
   },
   "outputs": [],
   "source": [
    "# EXCLUDE PROTECTED FEATURES\n",
    "# ----------------------\n",
    "# \"exclude_features\": \"none\", # \"nationality\", \"sex\", \"nationality-sex\"\n",
    "\n",
    "excluded_features = universe[\"exclude_features\"].split(\"-\") # split, e.g.: \"nationality-sex\" -> [\"nationality\", \"sex\"]\n",
    "excluded_features_dictionary = {\n",
    "    \"nationality\": [\"maxdeutsch1\", \"maxdeutsch.Missing.\"],\n",
    "    \"sex\": [\"frau1\"],\n",
    "    \"age\": [\"age\"],\n",
    "}\n"
   ]
  },
  {
   "cell_type": "code",
   "execution_count": 15,
   "id": "b745ac60",
   "metadata": {
    "execution": {
     "iopub.execute_input": "2025-07-23T14:28:21.981624Z",
     "iopub.status.busy": "2025-07-23T14:28:21.981099Z",
     "iopub.status.idle": "2025-07-23T14:28:21.987160Z",
     "shell.execute_reply": "2025-07-23T14:28:21.986143Z"
    },
    "papermill": {
     "duration": 0.02921,
     "end_time": "2025-07-23T14:28:21.990374",
     "exception": false,
     "start_time": "2025-07-23T14:28:21.961164",
     "status": "completed"
    },
    "tags": []
   },
   "outputs": [],
   "source": [
    "# Code nice names to column names\n",
    "\n",
    "excluded_features_columns = [\n",
    "    excluded_features_dictionary[f] for f in excluded_features if len(f) > 0 and f != \"none\"\n",
    "]"
   ]
  },
  {
   "cell_type": "code",
   "execution_count": 16,
   "id": "f84f73a2",
   "metadata": {
    "execution": {
     "iopub.execute_input": "2025-07-23T14:28:22.054730Z",
     "iopub.status.busy": "2025-07-23T14:28:22.054283Z",
     "iopub.status.idle": "2025-07-23T14:28:22.062875Z",
     "shell.execute_reply": "2025-07-23T14:28:22.061704Z"
    },
    "papermill": {
     "duration": 0.044454,
     "end_time": "2025-07-23T14:28:22.065634",
     "exception": false,
     "start_time": "2025-07-23T14:28:22.021180",
     "status": "completed"
    },
    "tags": []
   },
   "outputs": [],
   "source": [
    "from utils import flatten_once\n",
    "\n",
    "excluded_features_columns = flatten_once(excluded_features_columns)"
   ]
  },
  {
   "cell_type": "code",
   "execution_count": 17,
   "id": "884dea22",
   "metadata": {
    "execution": {
     "iopub.execute_input": "2025-07-23T14:28:22.159435Z",
     "iopub.status.busy": "2025-07-23T14:28:22.158999Z",
     "iopub.status.idle": "2025-07-23T14:28:22.294843Z",
     "shell.execute_reply": "2025-07-23T14:28:22.293216Z"
    },
    "papermill": {
     "duration": 0.179758,
     "end_time": "2025-07-23T14:28:22.297106",
     "exception": false,
     "start_time": "2025-07-23T14:28:22.117348",
     "status": "completed"
    },
    "tags": []
   },
   "outputs": [
    {
     "name": "stdout",
     "output_type": "stream",
     "text": [
      "Dropping features: ['frau1']\n"
     ]
    }
   ],
   "source": [
    "if len(excluded_features_columns) > 0:\n",
    "    print(f\"Dropping features: {excluded_features_columns}\")\n",
    "    X_train.drop(excluded_features_columns, axis=1, inplace=True)"
   ]
  },
  {
   "cell_type": "code",
   "execution_count": 18,
   "id": "95ab8b16",
   "metadata": {
    "execution": {
     "iopub.execute_input": "2025-07-23T14:28:22.409753Z",
     "iopub.status.busy": "2025-07-23T14:28:22.409277Z",
     "iopub.status.idle": "2025-07-23T14:28:22.574023Z",
     "shell.execute_reply": "2025-07-23T14:28:22.572957Z"
    },
    "papermill": {
     "duration": 0.253711,
     "end_time": "2025-07-23T14:28:22.576263",
     "exception": false,
     "start_time": "2025-07-23T14:28:22.322552",
     "status": "completed"
    },
    "tags": []
   },
   "outputs": [
    {
     "name": "stdout",
     "output_type": "stream",
     "text": [
      "Dropping features: ['frau1']\n"
     ]
    }
   ],
   "source": [
    "if len(excluded_features_columns) > 0:\n",
    "    print(f\"Dropping features: {excluded_features_columns}\")\n",
    "    X_test.drop(excluded_features_columns, axis=1, inplace=True)"
   ]
  },
  {
   "cell_type": "code",
   "execution_count": 19,
   "id": "1853aaf5-fb9f-46cb-a2b5-8ea4ae2237e4",
   "metadata": {
    "execution": {
     "iopub.execute_input": "2025-07-23T14:28:22.686156Z",
     "iopub.status.busy": "2025-07-23T14:28:22.685718Z",
     "iopub.status.idle": "2025-07-23T14:28:22.793150Z",
     "shell.execute_reply": "2025-07-23T14:28:22.792161Z"
    },
    "papermill": {
     "duration": 0.162414,
     "end_time": "2025-07-23T14:28:22.795097",
     "exception": false,
     "start_time": "2025-07-23T14:28:22.632683",
     "status": "completed"
    },
    "tags": []
   },
   "outputs": [
    {
     "name": "stdout",
     "output_type": "stream",
     "text": [
      "Dropping features: ['frau1']\n"
     ]
    }
   ],
   "source": [
    "if len(excluded_features_columns) > 0:\n",
    "    print(f\"Dropping features: {excluded_features_columns}\")\n",
    "    X_calib.drop(excluded_features_columns, axis=1, inplace=True)"
   ]
  },
  {
   "cell_type": "code",
   "execution_count": 20,
   "id": "76c4dc6d",
   "metadata": {
    "execution": {
     "iopub.execute_input": "2025-07-23T14:28:22.860844Z",
     "iopub.status.busy": "2025-07-23T14:28:22.860401Z",
     "iopub.status.idle": "2025-07-23T14:28:22.867964Z",
     "shell.execute_reply": "2025-07-23T14:28:22.866832Z"
    },
    "papermill": {
     "duration": 0.046668,
     "end_time": "2025-07-23T14:28:22.870343",
     "exception": false,
     "start_time": "2025-07-23T14:28:22.823675",
     "status": "completed"
    },
    "tags": []
   },
   "outputs": [],
   "source": [
    "# EXCLUDE CERTAIN SUBGROUPS\n",
    "# ----------------------\n",
    "\n",
    "mode = universe.get(\"exclude_subgroups\", \"keep-all\") \n",
    "# Fetches the exclude_subgroups setting from the universe dict.\n",
    "# Defaults to \"keep-all\" if the key is missing."
   ]
  },
  {
   "cell_type": "code",
   "execution_count": 21,
   "id": "21994072",
   "metadata": {
    "execution": {
     "iopub.execute_input": "2025-07-23T14:28:22.990936Z",
     "iopub.status.busy": "2025-07-23T14:28:22.990510Z",
     "iopub.status.idle": "2025-07-23T14:28:22.998251Z",
     "shell.execute_reply": "2025-07-23T14:28:22.997253Z"
    },
    "papermill": {
     "duration": 0.076442,
     "end_time": "2025-07-23T14:28:23.007580",
     "exception": false,
     "start_time": "2025-07-23T14:28:22.931138",
     "status": "completed"
    },
    "tags": []
   },
   "outputs": [],
   "source": [
    "if mode == \"keep-all\":\n",
    "    keep_mask = pd.Series(True, index=org_train.index)\n",
    "\n",
    "# org_train contains the original feature columns from features_org (in Simson)\n",
    "# features_org contains unprocessed features, for me X_train at beginning ???\n",
    "# For keep-all, creates a boolean Series (keep_mask) of all True, so no rows are removed.\n",
    "\n",
    "elif mode == \"drop-non-german\":\n",
    "    keep_mask = org_train[\"maxdeutsch1\"] == 1 # ??? what about missing values?\n",
    "\n",
    "else:\n",
    "    raise ValueError(f\"Unsupported mode for exclude_subgroups: {mode}\")\n"
   ]
  },
  {
   "cell_type": "code",
   "execution_count": 22,
   "id": "71651440",
   "metadata": {
    "execution": {
     "iopub.execute_input": "2025-07-23T14:28:23.082206Z",
     "iopub.status.busy": "2025-07-23T14:28:23.081781Z",
     "iopub.status.idle": "2025-07-23T14:28:23.089080Z",
     "shell.execute_reply": "2025-07-23T14:28:23.088055Z"
    },
    "papermill": {
     "duration": 0.036542,
     "end_time": "2025-07-23T14:28:23.092684",
     "exception": false,
     "start_time": "2025-07-23T14:28:23.056142",
     "status": "completed"
    },
    "tags": []
   },
   "outputs": [],
   "source": [
    "n_drop = (~keep_mask).sum() # Calculates how many rows are set to be dropped\n",
    "if n_drop > 0:\n",
    "    pct = n_drop / len(keep_mask) * 100\n",
    "    print(f\"Dropping {n_drop} rows ({pct:.2f}%) where mode='{mode}'\")"
   ]
  },
  {
   "cell_type": "code",
   "execution_count": 23,
   "id": "5fb8eee5",
   "metadata": {
    "execution": {
     "iopub.execute_input": "2025-07-23T14:28:23.137730Z",
     "iopub.status.busy": "2025-07-23T14:28:23.137271Z",
     "iopub.status.idle": "2025-07-23T14:28:23.201090Z",
     "shell.execute_reply": "2025-07-23T14:28:23.199998Z"
    },
    "papermill": {
     "duration": 0.091823,
     "end_time": "2025-07-23T14:28:23.203687",
     "exception": false,
     "start_time": "2025-07-23T14:28:23.111864",
     "status": "completed"
    },
    "tags": []
   },
   "outputs": [],
   "source": [
    "X_train = X_train[keep_mask]"
   ]
  },
  {
   "cell_type": "code",
   "execution_count": 24,
   "id": "b202bb3a",
   "metadata": {
    "execution": {
     "iopub.execute_input": "2025-07-23T14:28:23.287139Z",
     "iopub.status.busy": "2025-07-23T14:28:23.286715Z",
     "iopub.status.idle": "2025-07-23T14:28:23.296965Z",
     "shell.execute_reply": "2025-07-23T14:28:23.295777Z"
    },
    "papermill": {
     "duration": 0.067897,
     "end_time": "2025-07-23T14:28:23.299071",
     "exception": false,
     "start_time": "2025-07-23T14:28:23.231174",
     "status": "completed"
    },
    "tags": []
   },
   "outputs": [],
   "source": [
    "y_train = y_train[keep_mask]"
   ]
  },
  {
   "cell_type": "markdown",
   "id": "493e2ac3",
   "metadata": {
    "papermill": {
     "duration": 0.036302,
     "end_time": "2025-07-23T14:28:23.381144",
     "exception": false,
     "start_time": "2025-07-23T14:28:23.344842",
     "status": "completed"
    },
    "tags": []
   },
   "source": [
    "# Model Training"
   ]
  },
  {
   "cell_type": "code",
   "execution_count": 25,
   "id": "679e1268",
   "metadata": {
    "execution": {
     "iopub.execute_input": "2025-07-23T14:28:23.467540Z",
     "iopub.status.busy": "2025-07-23T14:28:23.467093Z",
     "iopub.status.idle": "2025-07-23T14:28:23.841135Z",
     "shell.execute_reply": "2025-07-23T14:28:23.839924Z"
    },
    "papermill": {
     "duration": 0.426151,
     "end_time": "2025-07-23T14:28:23.843293",
     "exception": false,
     "start_time": "2025-07-23T14:28:23.417142",
     "status": "completed"
    },
    "tags": []
   },
   "outputs": [],
   "source": [
    "from sklearn.linear_model import LogisticRegression\n",
    "from sklearn.ensemble import GradientBoostingClassifier, RandomForestClassifier\n",
    "\n",
    "if (universe[\"model\"] == \"logreg\"):\n",
    "    model = LogisticRegression() #penalty=\"none\") #, solver=\"newton-cg\", max_iter=1) # include random_state=19 ?\n",
    "elif (universe[\"model\"] == \"penalized_logreg\"):\n",
    "    model = LogisticRegression(penalty=\"l2\", C=1.0) #, solver=\"newton-cg\", max_iter=1)\n",
    "elif (universe[\"model\"] == \"rf\"):\n",
    "    model = RandomForestClassifier(n_estimators=100, n_jobs=-1)\n",
    "elif (universe[\"model\"] == \"gbm\"):\n",
    "    model = GradientBoostingClassifier()\n",
    "elif (universe[\"model\"] == \"elasticnet\"):\n",
    "    model = LogisticRegression(penalty = 'elasticnet', solver = 'saga', l1_ratio = 0.5, max_iter=5000) # which solver to use?\n",
    "else:\n",
    "    raise \"Unsupported universe.model\""
   ]
  },
  {
   "cell_type": "code",
   "execution_count": 26,
   "id": "0cc8f744",
   "metadata": {
    "execution": {
     "iopub.execute_input": "2025-07-23T14:28:23.951373Z",
     "iopub.status.busy": "2025-07-23T14:28:23.950926Z",
     "iopub.status.idle": "2025-07-23T14:28:23.960162Z",
     "shell.execute_reply": "2025-07-23T14:28:23.958987Z"
    },
    "papermill": {
     "duration": 0.081118,
     "end_time": "2025-07-23T14:28:23.962405",
     "exception": false,
     "start_time": "2025-07-23T14:28:23.881287",
     "status": "completed"
    },
    "tags": []
   },
   "outputs": [],
   "source": [
    "import numpy as np\n",
    "from sklearn.pipeline import Pipeline\n",
    "from sklearn.preprocessing import StandardScaler\n",
    "\n",
    "model = Pipeline([\n",
    "    #(\"continuous_processor\", continuous_processor),\n",
    "    #(\"categorical_preprocessor\", categorical_preprocessor),\n",
    "    (\"scale\", StandardScaler() if universe[\"scale\"] == \"scale\" else None), \n",
    "    (\"model\", model),\n",
    "])"
   ]
  },
  {
   "cell_type": "code",
   "execution_count": 27,
   "id": "9442c04d",
   "metadata": {
    "execution": {
     "iopub.execute_input": "2025-07-23T14:28:24.091588Z",
     "iopub.status.busy": "2025-07-23T14:28:24.091141Z",
     "iopub.status.idle": "2025-07-23T14:28:48.858213Z",
     "shell.execute_reply": "2025-07-23T14:28:48.856670Z"
    },
    "papermill": {
     "duration": 24.827464,
     "end_time": "2025-07-23T14:28:48.860641",
     "exception": false,
     "start_time": "2025-07-23T14:28:24.033177",
     "status": "completed"
    },
    "tags": []
   },
   "outputs": [
    {
     "data": {
      "text/html": [
       "<style>#sk-container-id-1 {color: black;background-color: white;}#sk-container-id-1 pre{padding: 0;}#sk-container-id-1 div.sk-toggleable {background-color: white;}#sk-container-id-1 label.sk-toggleable__label {cursor: pointer;display: block;width: 100%;margin-bottom: 0;padding: 0.3em;box-sizing: border-box;text-align: center;}#sk-container-id-1 label.sk-toggleable__label-arrow:before {content: \"▸\";float: left;margin-right: 0.25em;color: #696969;}#sk-container-id-1 label.sk-toggleable__label-arrow:hover:before {color: black;}#sk-container-id-1 div.sk-estimator:hover label.sk-toggleable__label-arrow:before {color: black;}#sk-container-id-1 div.sk-toggleable__content {max-height: 0;max-width: 0;overflow: hidden;text-align: left;background-color: #f0f8ff;}#sk-container-id-1 div.sk-toggleable__content pre {margin: 0.2em;color: black;border-radius: 0.25em;background-color: #f0f8ff;}#sk-container-id-1 input.sk-toggleable__control:checked~div.sk-toggleable__content {max-height: 200px;max-width: 100%;overflow: auto;}#sk-container-id-1 input.sk-toggleable__control:checked~label.sk-toggleable__label-arrow:before {content: \"▾\";}#sk-container-id-1 div.sk-estimator input.sk-toggleable__control:checked~label.sk-toggleable__label {background-color: #d4ebff;}#sk-container-id-1 div.sk-label input.sk-toggleable__control:checked~label.sk-toggleable__label {background-color: #d4ebff;}#sk-container-id-1 input.sk-hidden--visually {border: 0;clip: rect(1px 1px 1px 1px);clip: rect(1px, 1px, 1px, 1px);height: 1px;margin: -1px;overflow: hidden;padding: 0;position: absolute;width: 1px;}#sk-container-id-1 div.sk-estimator {font-family: monospace;background-color: #f0f8ff;border: 1px dotted black;border-radius: 0.25em;box-sizing: border-box;margin-bottom: 0.5em;}#sk-container-id-1 div.sk-estimator:hover {background-color: #d4ebff;}#sk-container-id-1 div.sk-parallel-item::after {content: \"\";width: 100%;border-bottom: 1px solid gray;flex-grow: 1;}#sk-container-id-1 div.sk-label:hover label.sk-toggleable__label {background-color: #d4ebff;}#sk-container-id-1 div.sk-serial::before {content: \"\";position: absolute;border-left: 1px solid gray;box-sizing: border-box;top: 0;bottom: 0;left: 50%;z-index: 0;}#sk-container-id-1 div.sk-serial {display: flex;flex-direction: column;align-items: center;background-color: white;padding-right: 0.2em;padding-left: 0.2em;position: relative;}#sk-container-id-1 div.sk-item {position: relative;z-index: 1;}#sk-container-id-1 div.sk-parallel {display: flex;align-items: stretch;justify-content: center;background-color: white;position: relative;}#sk-container-id-1 div.sk-item::before, #sk-container-id-1 div.sk-parallel-item::before {content: \"\";position: absolute;border-left: 1px solid gray;box-sizing: border-box;top: 0;bottom: 0;left: 50%;z-index: -1;}#sk-container-id-1 div.sk-parallel-item {display: flex;flex-direction: column;z-index: 1;position: relative;background-color: white;}#sk-container-id-1 div.sk-parallel-item:first-child::after {align-self: flex-end;width: 50%;}#sk-container-id-1 div.sk-parallel-item:last-child::after {align-self: flex-start;width: 50%;}#sk-container-id-1 div.sk-parallel-item:only-child::after {width: 0;}#sk-container-id-1 div.sk-dashed-wrapped {border: 1px dashed gray;margin: 0 0.4em 0.5em 0.4em;box-sizing: border-box;padding-bottom: 0.4em;background-color: white;}#sk-container-id-1 div.sk-label label {font-family: monospace;font-weight: bold;display: inline-block;line-height: 1.2em;}#sk-container-id-1 div.sk-label-container {text-align: center;}#sk-container-id-1 div.sk-container {/* jupyter's `normalize.less` sets `[hidden] { display: none; }` but bootstrap.min.css set `[hidden] { display: none !important; }` so we also need the `!important` here to be able to override the default hidden behavior on the sphinx rendered scikit-learn.org. See: https://github.com/scikit-learn/scikit-learn/issues/21755 */display: inline-block !important;position: relative;}#sk-container-id-1 div.sk-text-repr-fallback {display: none;}</style><div id=\"sk-container-id-1\" class=\"sk-top-container\"><div class=\"sk-text-repr-fallback\"><pre>Pipeline(steps=[(&#x27;scale&#x27;, StandardScaler()),\n",
       "                (&#x27;model&#x27;, RandomForestClassifier(n_jobs=-1))])</pre><b>In a Jupyter environment, please rerun this cell to show the HTML representation or trust the notebook. <br />On GitHub, the HTML representation is unable to render, please try loading this page with nbviewer.org.</b></div><div class=\"sk-container\" hidden><div class=\"sk-item sk-dashed-wrapped\"><div class=\"sk-label-container\"><div class=\"sk-label sk-toggleable\"><input class=\"sk-toggleable__control sk-hidden--visually\" id=\"sk-estimator-id-1\" type=\"checkbox\" ><label for=\"sk-estimator-id-1\" class=\"sk-toggleable__label sk-toggleable__label-arrow\">Pipeline</label><div class=\"sk-toggleable__content\"><pre>Pipeline(steps=[(&#x27;scale&#x27;, StandardScaler()),\n",
       "                (&#x27;model&#x27;, RandomForestClassifier(n_jobs=-1))])</pre></div></div></div><div class=\"sk-serial\"><div class=\"sk-item\"><div class=\"sk-estimator sk-toggleable\"><input class=\"sk-toggleable__control sk-hidden--visually\" id=\"sk-estimator-id-2\" type=\"checkbox\" ><label for=\"sk-estimator-id-2\" class=\"sk-toggleable__label sk-toggleable__label-arrow\">StandardScaler</label><div class=\"sk-toggleable__content\"><pre>StandardScaler()</pre></div></div></div><div class=\"sk-item\"><div class=\"sk-estimator sk-toggleable\"><input class=\"sk-toggleable__control sk-hidden--visually\" id=\"sk-estimator-id-3\" type=\"checkbox\" ><label for=\"sk-estimator-id-3\" class=\"sk-toggleable__label sk-toggleable__label-arrow\">RandomForestClassifier</label><div class=\"sk-toggleable__content\"><pre>RandomForestClassifier(n_jobs=-1)</pre></div></div></div></div></div></div></div>"
      ],
      "text/plain": [
       "Pipeline(steps=[('scale', StandardScaler()),\n",
       "                ('model', RandomForestClassifier(n_jobs=-1))])"
      ]
     },
     "execution_count": 27,
     "metadata": {},
     "output_type": "execute_result"
    }
   ],
   "source": [
    "model.fit(X_train, y_train.values.ravel())"
   ]
  },
  {
   "cell_type": "code",
   "execution_count": 28,
   "id": "af59f8c0",
   "metadata": {
    "execution": {
     "iopub.execute_input": "2025-07-23T14:28:48.959994Z",
     "iopub.status.busy": "2025-07-23T14:28:48.958847Z",
     "iopub.status.idle": "2025-07-23T14:28:48.970071Z",
     "shell.execute_reply": "2025-07-23T14:28:48.968926Z"
    },
    "papermill": {
     "duration": 0.072725,
     "end_time": "2025-07-23T14:28:48.972259",
     "exception": false,
     "start_time": "2025-07-23T14:28:48.899534",
     "status": "completed"
    },
    "tags": []
   },
   "outputs": [],
   "source": [
    "from fairness_multiverse.universe import predict_w_threshold"
   ]
  },
  {
   "cell_type": "code",
   "execution_count": 29,
   "id": "a7cf2e16",
   "metadata": {
    "execution": {
     "iopub.execute_input": "2025-07-23T14:28:49.094902Z",
     "iopub.status.busy": "2025-07-23T14:28:49.094447Z",
     "iopub.status.idle": "2025-07-23T14:28:52.526666Z",
     "shell.execute_reply": "2025-07-23T14:28:52.525540Z"
    },
    "papermill": {
     "duration": 3.499342,
     "end_time": "2025-07-23T14:28:52.529124",
     "exception": false,
     "start_time": "2025-07-23T14:28:49.029782",
     "status": "completed"
    },
    "tags": []
   },
   "outputs": [
    {
     "data": {
      "text/plain": [
       "0.868008025861108"
      ]
     },
     "execution_count": 29,
     "metadata": {},
     "output_type": "execute_result"
    }
   ],
   "source": [
    "probs_test = model.predict_proba(X_test)\n",
    "\n",
    "'''\n",
    "Below code returns a boolean array (or binary 0/1 array depending on how it’s used) where each element \n",
    "is True if the probability of class 1 is greater than or equal to the threshold, and False otherwise.\n",
    "'''\n",
    "y_pred_default = predict_w_threshold(probs_test, 0.5)\n",
    "\n",
    "from sklearn.metrics import accuracy_score\n",
    "\n",
    "# Naive prediction\n",
    "accuracy_score(y_true = y_true, y_pred = y_pred_default)"
   ]
  },
  {
   "cell_type": "code",
   "execution_count": 30,
   "id": "081964c3",
   "metadata": {
    "execution": {
     "iopub.execute_input": "2025-07-23T14:28:52.602098Z",
     "iopub.status.busy": "2025-07-23T14:28:52.601661Z",
     "iopub.status.idle": "2025-07-23T14:28:54.890429Z",
     "shell.execute_reply": "2025-07-23T14:28:54.889432Z"
    },
    "papermill": {
     "duration": 2.326242,
     "end_time": "2025-07-23T14:28:54.892432",
     "exception": false,
     "start_time": "2025-07-23T14:28:52.566190",
     "status": "completed"
    },
    "tags": []
   },
   "outputs": [
    {
     "data": {
      "text/plain": [
       "array([0, 0, 0, ..., 0, 0, 0])"
      ]
     },
     "execution_count": 30,
     "metadata": {},
     "output_type": "execute_result"
    }
   ],
   "source": [
    "model.predict(X_test)"
   ]
  },
  {
   "cell_type": "markdown",
   "id": "56c9705b",
   "metadata": {
    "papermill": {
     "duration": 0.071542,
     "end_time": "2025-07-23T14:28:55.052747",
     "exception": false,
     "start_time": "2025-07-23T14:28:54.981205",
     "status": "completed"
    },
    "tags": []
   },
   "source": [
    "# Conformal Prediction"
   ]
  },
  {
   "cell_type": "code",
   "execution_count": 31,
   "id": "160ec6ff",
   "metadata": {
    "execution": {
     "iopub.execute_input": "2025-07-23T14:28:55.191925Z",
     "iopub.status.busy": "2025-07-23T14:28:55.191497Z",
     "iopub.status.idle": "2025-07-23T14:28:55.197559Z",
     "shell.execute_reply": "2025-07-23T14:28:55.196502Z"
    },
    "papermill": {
     "duration": 0.054616,
     "end_time": "2025-07-23T14:28:55.199317",
     "exception": false,
     "start_time": "2025-07-23T14:28:55.144701",
     "status": "completed"
    },
    "tags": []
   },
   "outputs": [],
   "source": [
    "# Miscoverage level for conformal prediction (10% allowed error rate => 90% target coverage)\n",
    "alpha = 0.1"
   ]
  },
  {
   "cell_type": "code",
   "execution_count": 32,
   "id": "eadf4555-3dd3-440e-8e35-f82a4ad9f855",
   "metadata": {
    "execution": {
     "iopub.execute_input": "2025-07-23T14:28:55.299328Z",
     "iopub.status.busy": "2025-07-23T14:28:55.298893Z",
     "iopub.status.idle": "2025-07-23T14:28:58.262216Z",
     "shell.execute_reply": "2025-07-23T14:28:58.261139Z"
    },
    "papermill": {
     "duration": 3.011302,
     "end_time": "2025-07-23T14:28:58.264459",
     "exception": false,
     "start_time": "2025-07-23T14:28:55.253157",
     "status": "completed"
    },
    "tags": []
   },
   "outputs": [],
   "source": [
    "probs_calib = model.predict_proba(X_calib)"
   ]
  },
  {
   "cell_type": "code",
   "execution_count": 33,
   "id": "2ed93547-6d5d-4983-9b36-1ecb300da49a",
   "metadata": {
    "execution": {
     "iopub.execute_input": "2025-07-23T14:28:58.371123Z",
     "iopub.status.busy": "2025-07-23T14:28:58.370680Z",
     "iopub.status.idle": "2025-07-23T14:28:58.383122Z",
     "shell.execute_reply": "2025-07-23T14:28:58.381961Z"
    },
    "papermill": {
     "duration": 0.094422,
     "end_time": "2025-07-23T14:28:58.398269",
     "exception": false,
     "start_time": "2025-07-23T14:28:58.303847",
     "status": "completed"
    },
    "tags": []
   },
   "outputs": [],
   "source": [
    "y_calib = y_calib.values.ravel().astype(int)"
   ]
  },
  {
   "cell_type": "code",
   "execution_count": 34,
   "id": "65d1320d-f588-4b38-9072-62af1ae97f7d",
   "metadata": {
    "execution": {
     "iopub.execute_input": "2025-07-23T14:28:58.551771Z",
     "iopub.status.busy": "2025-07-23T14:28:58.551316Z",
     "iopub.status.idle": "2025-07-23T14:28:58.561449Z",
     "shell.execute_reply": "2025-07-23T14:28:58.560257Z"
    },
    "papermill": {
     "duration": 0.070727,
     "end_time": "2025-07-23T14:28:58.563810",
     "exception": false,
     "start_time": "2025-07-23T14:28:58.493083",
     "status": "completed"
    },
    "tags": []
   },
   "outputs": [],
   "source": [
    "from fairness_multiverse.conformal import compute_nc_scores\n",
    "\n",
    "# Compute nonconformity scores on calibration set (1 - probability of true class)\n",
    "nc_scores = compute_nc_scores(probs_calib, y_calib)"
   ]
  },
  {
   "cell_type": "code",
   "execution_count": 35,
   "id": "df3b8ca3-53b7-43d5-9667-7c85da7aeda2",
   "metadata": {
    "execution": {
     "iopub.execute_input": "2025-07-23T14:28:58.677338Z",
     "iopub.status.busy": "2025-07-23T14:28:58.676909Z",
     "iopub.status.idle": "2025-07-23T14:28:58.685857Z",
     "shell.execute_reply": "2025-07-23T14:28:58.684760Z"
    },
    "papermill": {
     "duration": 0.092806,
     "end_time": "2025-07-23T14:28:58.688166",
     "exception": false,
     "start_time": "2025-07-23T14:28:58.595360",
     "status": "completed"
    },
    "tags": []
   },
   "outputs": [],
   "source": [
    "from fairness_multiverse.conformal import find_threshold\n",
    "\n",
    "# Find conformal threshold q_hat for the given alpha (split conformal method)\n",
    "q_hat = find_threshold(nc_scores, alpha)"
   ]
  },
  {
   "cell_type": "code",
   "execution_count": 36,
   "id": "4d29e6c1-0ef6-4aa4-b8fe-4fe79b0d033a",
   "metadata": {
    "execution": {
     "iopub.execute_input": "2025-07-23T14:28:58.787901Z",
     "iopub.status.busy": "2025-07-23T14:28:58.787485Z",
     "iopub.status.idle": "2025-07-23T14:28:58.795762Z",
     "shell.execute_reply": "2025-07-23T14:28:58.794678Z"
    },
    "papermill": {
     "duration": 0.056846,
     "end_time": "2025-07-23T14:28:58.801913",
     "exception": false,
     "start_time": "2025-07-23T14:28:58.745067",
     "status": "completed"
    },
    "tags": []
   },
   "outputs": [
    {
     "data": {
      "text/plain": [
       "0.65"
      ]
     },
     "execution_count": 36,
     "metadata": {},
     "output_type": "execute_result"
    }
   ],
   "source": [
    "q_hat"
   ]
  },
  {
   "cell_type": "code",
   "execution_count": 37,
   "id": "92460794-cdac-4be2-ba28-f28c0515a6fb",
   "metadata": {
    "execution": {
     "iopub.execute_input": "2025-07-23T14:28:58.909906Z",
     "iopub.status.busy": "2025-07-23T14:28:58.909454Z",
     "iopub.status.idle": "2025-07-23T14:29:02.882415Z",
     "shell.execute_reply": "2025-07-23T14:29:02.881294Z"
    },
    "papermill": {
     "duration": 4.030374,
     "end_time": "2025-07-23T14:29:02.884737",
     "exception": false,
     "start_time": "2025-07-23T14:28:58.854363",
     "status": "completed"
    },
    "tags": []
   },
   "outputs": [],
   "source": [
    "from fairness_multiverse.conformal import predict_conformal_sets\n",
    "\n",
    "# Generate prediction sets for each test example\n",
    "pred_sets = predict_conformal_sets(model, X_test, q_hat)"
   ]
  },
  {
   "cell_type": "code",
   "execution_count": 38,
   "id": "d90c9a65-e6db-4f5d-80cd-e68fb7e46829",
   "metadata": {
    "execution": {
     "iopub.execute_input": "2025-07-23T14:29:03.027303Z",
     "iopub.status.busy": "2025-07-23T14:29:03.026875Z",
     "iopub.status.idle": "2025-07-23T14:29:03.033315Z",
     "shell.execute_reply": "2025-07-23T14:29:03.032187Z"
    },
    "papermill": {
     "duration": 0.067107,
     "end_time": "2025-07-23T14:29:03.035113",
     "exception": false,
     "start_time": "2025-07-23T14:29:02.968006",
     "status": "completed"
    },
    "tags": []
   },
   "outputs": [],
   "source": [
    "y_true = y_true.squeeze()"
   ]
  },
  {
   "cell_type": "code",
   "execution_count": 39,
   "id": "3a58a54a-1e68-46b9-927a-df01f18aebc8",
   "metadata": {
    "execution": {
     "iopub.execute_input": "2025-07-23T14:29:03.155675Z",
     "iopub.status.busy": "2025-07-23T14:29:03.155225Z",
     "iopub.status.idle": "2025-07-23T14:29:04.634025Z",
     "shell.execute_reply": "2025-07-23T14:29:04.632638Z"
    },
    "papermill": {
     "duration": 1.540096,
     "end_time": "2025-07-23T14:29:04.641335",
     "exception": false,
     "start_time": "2025-07-23T14:29:03.101239",
     "status": "completed"
    },
    "tags": []
   },
   "outputs": [],
   "source": [
    "from fairness_multiverse.conformal import evaluate_sets\n",
    "\n",
    "# Evaluate coverage and average set size on test data\n",
    "metrics = evaluate_sets(pred_sets, y_true)"
   ]
  },
  {
   "cell_type": "code",
   "execution_count": 40,
   "id": "5ce0a5cb-201f-45a0-ade5-94c7f0bd6095",
   "metadata": {
    "execution": {
     "iopub.execute_input": "2025-07-23T14:29:04.756953Z",
     "iopub.status.busy": "2025-07-23T14:29:04.756409Z",
     "iopub.status.idle": "2025-07-23T14:29:04.765000Z",
     "shell.execute_reply": "2025-07-23T14:29:04.763735Z"
    },
    "papermill": {
     "duration": 0.058072,
     "end_time": "2025-07-23T14:29:04.767008",
     "exception": false,
     "start_time": "2025-07-23T14:29:04.708936",
     "status": "completed"
    },
    "tags": []
   },
   "outputs": [
    {
     "data": {
      "text/plain": [
       "{'coverage': 0.9151711069000111, 'avg_size': 1.1393155723999555}"
      ]
     },
     "execution_count": 40,
     "metadata": {},
     "output_type": "execute_result"
    }
   ],
   "source": [
    "metrics"
   ]
  },
  {
   "cell_type": "code",
   "execution_count": 41,
   "id": "9b9a838d-31c9-430b-ae14-12baee460d17",
   "metadata": {
    "execution": {
     "iopub.execute_input": "2025-07-23T14:29:04.878647Z",
     "iopub.status.busy": "2025-07-23T14:29:04.878163Z",
     "iopub.status.idle": "2025-07-23T14:29:04.885817Z",
     "shell.execute_reply": "2025-07-23T14:29:04.884730Z"
    },
    "papermill": {
     "duration": 0.086582,
     "end_time": "2025-07-23T14:29:04.887793",
     "exception": false,
     "start_time": "2025-07-23T14:29:04.801211",
     "status": "completed"
    },
    "tags": []
   },
   "outputs": [],
   "source": [
    "example_universe = universe.copy()\n",
    "universe_model = example_universe.get(\"model\")\n",
    "universe_exclude_features = example_universe.get(\"exclude_features\")\n",
    "universe_exclude_subgroups = example_universe.get(\"exclude_subgroups\")\n",
    "universe_scale = example_universe.get(\"scale\")"
   ]
  },
  {
   "cell_type": "code",
   "execution_count": 42,
   "id": "f4b6a8ac-9dc0-4245-8a91-5b3b5999c4f9",
   "metadata": {
    "execution": {
     "iopub.execute_input": "2025-07-23T14:29:04.935680Z",
     "iopub.status.busy": "2025-07-23T14:29:04.935306Z",
     "iopub.status.idle": "2025-07-23T14:29:04.947897Z",
     "shell.execute_reply": "2025-07-23T14:29:04.940435Z"
    },
    "papermill": {
     "duration": 0.073655,
     "end_time": "2025-07-23T14:29:04.986662",
     "exception": false,
     "start_time": "2025-07-23T14:29:04.913007",
     "status": "completed"
    },
    "tags": []
   },
   "outputs": [],
   "source": [
    "cp_metrics_dict = {\n",
    "    \"universe_id\": [universe_id],\n",
    "    \"universe_model\": [universe_model],\n",
    "    \"universe_exclude_features\": [universe_exclude_features],\n",
    "    \"universe_exclude_subgroups\": [universe_exclude_subgroups],\n",
    "    \"universe_scale\": [universe_scale],\n",
    "    \"q_hat\": [q_hat],\n",
    "    \"coverage\": [metrics[\"coverage\"]],\n",
    "    \"avg_size\": [metrics[\"avg_size\"]],\n",
    "}"
   ]
  },
  {
   "cell_type": "code",
   "execution_count": 43,
   "id": "908acbb1-0371-4915-85ca-3fa520d2efe2",
   "metadata": {
    "execution": {
     "iopub.execute_input": "2025-07-23T14:29:05.095640Z",
     "iopub.status.busy": "2025-07-23T14:29:05.095225Z",
     "iopub.status.idle": "2025-07-23T14:29:05.103880Z",
     "shell.execute_reply": "2025-07-23T14:29:05.102659Z"
    },
    "papermill": {
     "duration": 0.074651,
     "end_time": "2025-07-23T14:29:05.106513",
     "exception": false,
     "start_time": "2025-07-23T14:29:05.031862",
     "status": "completed"
    },
    "tags": []
   },
   "outputs": [
    {
     "data": {
      "text/plain": [
       "{'universe_id': ['8cb8189f8e2ac823fb475728054b3e84'],\n",
       " 'universe_model': ['rf'],\n",
       " 'universe_exclude_features': ['sex'],\n",
       " 'universe_exclude_subgroups': ['keep-all'],\n",
       " 'universe_scale': ['scale'],\n",
       " 'q_hat': [0.65],\n",
       " 'coverage': [0.9151711069000111],\n",
       " 'avg_size': [1.1393155723999555]}"
      ]
     },
     "execution_count": 43,
     "metadata": {},
     "output_type": "execute_result"
    }
   ],
   "source": [
    "cp_metrics_dict"
   ]
  },
  {
   "cell_type": "code",
   "execution_count": 44,
   "id": "33007efc-14e9-4ec6-97ac-56a455c82265",
   "metadata": {
    "execution": {
     "iopub.execute_input": "2025-07-23T14:29:05.156391Z",
     "iopub.status.busy": "2025-07-23T14:29:05.155930Z",
     "iopub.status.idle": "2025-07-23T14:29:05.163508Z",
     "shell.execute_reply": "2025-07-23T14:29:05.162407Z"
    },
    "papermill": {
     "duration": 0.043492,
     "end_time": "2025-07-23T14:29:05.172835",
     "exception": false,
     "start_time": "2025-07-23T14:29:05.129343",
     "status": "completed"
    },
    "tags": []
   },
   "outputs": [],
   "source": [
    "cp_metrics_df = pd.DataFrame(cp_metrics_dict)"
   ]
  },
  {
   "cell_type": "code",
   "execution_count": 45,
   "id": "db12611b-57b2-4910-b9d0-355adfd6e7bf",
   "metadata": {
    "execution": {
     "iopub.execute_input": "2025-07-23T14:29:05.287130Z",
     "iopub.status.busy": "2025-07-23T14:29:05.286690Z",
     "iopub.status.idle": "2025-07-23T14:29:05.310832Z",
     "shell.execute_reply": "2025-07-23T14:29:05.309748Z"
    },
    "papermill": {
     "duration": 0.086995,
     "end_time": "2025-07-23T14:29:05.324192",
     "exception": false,
     "start_time": "2025-07-23T14:29:05.237197",
     "status": "completed"
    },
    "tags": []
   },
   "outputs": [
    {
     "data": {
      "text/html": [
       "<div>\n",
       "<style scoped>\n",
       "    .dataframe tbody tr th:only-of-type {\n",
       "        vertical-align: middle;\n",
       "    }\n",
       "\n",
       "    .dataframe tbody tr th {\n",
       "        vertical-align: top;\n",
       "    }\n",
       "\n",
       "    .dataframe thead th {\n",
       "        text-align: right;\n",
       "    }\n",
       "</style>\n",
       "<table border=\"1\" class=\"dataframe\">\n",
       "  <thead>\n",
       "    <tr style=\"text-align: right;\">\n",
       "      <th></th>\n",
       "      <th>universe_id</th>\n",
       "      <th>universe_model</th>\n",
       "      <th>universe_exclude_features</th>\n",
       "      <th>universe_exclude_subgroups</th>\n",
       "      <th>universe_scale</th>\n",
       "      <th>q_hat</th>\n",
       "      <th>coverage</th>\n",
       "      <th>avg_size</th>\n",
       "    </tr>\n",
       "  </thead>\n",
       "  <tbody>\n",
       "    <tr>\n",
       "      <th>0</th>\n",
       "      <td>8cb8189f8e2ac823fb475728054b3e84</td>\n",
       "      <td>rf</td>\n",
       "      <td>sex</td>\n",
       "      <td>keep-all</td>\n",
       "      <td>scale</td>\n",
       "      <td>0.65</td>\n",
       "      <td>0.915171</td>\n",
       "      <td>1.139316</td>\n",
       "    </tr>\n",
       "  </tbody>\n",
       "</table>\n",
       "</div>"
      ],
      "text/plain": [
       "                        universe_id universe_model universe_exclude_features  \\\n",
       "0  8cb8189f8e2ac823fb475728054b3e84             rf                       sex   \n",
       "\n",
       "  universe_exclude_subgroups universe_scale  q_hat  coverage  avg_size  \n",
       "0                   keep-all          scale   0.65  0.915171  1.139316  "
      ]
     },
     "execution_count": 45,
     "metadata": {},
     "output_type": "execute_result"
    }
   ],
   "source": [
    "cp_metrics_df"
   ]
  },
  {
   "cell_type": "code",
   "execution_count": 46,
   "id": "b7fbde55-a0a1-47e4-9af6-fe4a17fa8c61",
   "metadata": {
    "execution": {
     "iopub.execute_input": "2025-07-23T14:29:05.397023Z",
     "iopub.status.busy": "2025-07-23T14:29:05.396592Z",
     "iopub.status.idle": "2025-07-23T14:29:05.403797Z",
     "shell.execute_reply": "2025-07-23T14:29:05.402852Z"
    },
    "papermill": {
     "duration": 0.059432,
     "end_time": "2025-07-23T14:29:05.423112",
     "exception": false,
     "start_time": "2025-07-23T14:29:05.363680",
     "status": "completed"
    },
    "tags": []
   },
   "outputs": [],
   "source": [
    "# Conditional Coverage & looking at subgroups"
   ]
  },
  {
   "cell_type": "code",
   "execution_count": 47,
   "id": "027ae886-68dd-4141-96c7-805a5450e1ef",
   "metadata": {
    "execution": {
     "iopub.execute_input": "2025-07-23T14:29:05.506581Z",
     "iopub.status.busy": "2025-07-23T14:29:05.506188Z",
     "iopub.status.idle": "2025-07-23T14:29:05.785448Z",
     "shell.execute_reply": "2025-07-23T14:29:05.784140Z"
    },
    "papermill": {
     "duration": 0.318912,
     "end_time": "2025-07-23T14:29:05.787541",
     "exception": false,
     "start_time": "2025-07-23T14:29:05.468629",
     "status": "completed"
    },
    "tags": []
   },
   "outputs": [],
   "source": [
    "from fairness_multiverse.conformal import build_cp_groups\n",
    "\n",
    "cp_groups_df = build_cp_groups(pred_sets, y_true, X_test.index, org_test)\n",
    "#needs universe_id and setting"
   ]
  },
  {
   "cell_type": "code",
   "execution_count": 48,
   "id": "c3b92545-903e-4839-89af-0f057907d7d6",
   "metadata": {
    "execution": {
     "iopub.execute_input": "2025-07-23T14:29:05.830328Z",
     "iopub.status.busy": "2025-07-23T14:29:05.829477Z",
     "iopub.status.idle": "2025-07-23T14:29:09.050507Z",
     "shell.execute_reply": "2025-07-23T14:29:09.049277Z"
    },
    "papermill": {
     "duration": 3.240765,
     "end_time": "2025-07-23T14:29:09.053011",
     "exception": false,
     "start_time": "2025-07-23T14:29:05.812246",
     "status": "completed"
    },
    "tags": []
   },
   "outputs": [],
   "source": [
    "# Define covered = 1 if true_label is in the predicted set\n",
    "cp_groups_df['covered'] = cp_groups_df.apply(\n",
    "    lambda r: int(r['true_label'] in r['pred_set']),\n",
    "    axis=1\n",
    ")"
   ]
  },
  {
   "cell_type": "code",
   "execution_count": 49,
   "id": "338ff529-1a6b-4b87-a931-8e4788d52aad",
   "metadata": {
    "execution": {
     "iopub.execute_input": "2025-07-23T14:29:09.129399Z",
     "iopub.status.busy": "2025-07-23T14:29:09.128974Z",
     "iopub.status.idle": "2025-07-23T14:29:09.134705Z",
     "shell.execute_reply": "2025-07-23T14:29:09.133759Z"
    },
    "papermill": {
     "duration": 0.030417,
     "end_time": "2025-07-23T14:29:09.138246",
     "exception": false,
     "start_time": "2025-07-23T14:29:09.107829",
     "status": "completed"
    },
    "tags": []
   },
   "outputs": [],
   "source": [
    "#cp_groups_df"
   ]
  },
  {
   "cell_type": "code",
   "execution_count": 50,
   "id": "90032e27-66df-4540-9169-4e89cfbaa758",
   "metadata": {
    "execution": {
     "iopub.execute_input": "2025-07-23T14:29:09.254765Z",
     "iopub.status.busy": "2025-07-23T14:29:09.254323Z",
     "iopub.status.idle": "2025-07-23T14:29:09.268051Z",
     "shell.execute_reply": "2025-07-23T14:29:09.266729Z"
    },
    "papermill": {
     "duration": 0.093382,
     "end_time": "2025-07-23T14:29:09.271988",
     "exception": false,
     "start_time": "2025-07-23T14:29:09.178606",
     "status": "completed"
    },
    "tags": []
   },
   "outputs": [],
   "source": [
    "subgroups = ['frau1','nongerman','nongerman_male','nongerman_female']\n",
    "\n",
    "# Conditional coverage for subgroup==1\n",
    "cond_coverage = {\n",
    "    g: cp_groups_df.loc[cp_groups_df[g]==1, 'covered'].mean()\n",
    "    for g in subgroups\n",
    "}"
   ]
  },
  {
   "cell_type": "code",
   "execution_count": 51,
   "id": "1e348fb1-b9c3-45bc-ba23-f016827a7e0d",
   "metadata": {
    "execution": {
     "iopub.execute_input": "2025-07-23T14:29:09.421439Z",
     "iopub.status.busy": "2025-07-23T14:29:09.421010Z",
     "iopub.status.idle": "2025-07-23T14:29:09.429417Z",
     "shell.execute_reply": "2025-07-23T14:29:09.428201Z"
    },
    "papermill": {
     "duration": 0.081618,
     "end_time": "2025-07-23T14:29:09.434299",
     "exception": false,
     "start_time": "2025-07-23T14:29:09.352681",
     "status": "completed"
    },
    "tags": []
   },
   "outputs": [
    {
     "data": {
      "text/plain": [
       "{'frau1': 0.9150559374578784,\n",
       " 'nongerman': 0.9123112333688879,\n",
       " 'nongerman_male': 0.9257858236512654,\n",
       " 'nongerman_female': 0.8900149031296573}"
      ]
     },
     "execution_count": 51,
     "metadata": {},
     "output_type": "execute_result"
    }
   ],
   "source": [
    "cond_coverage"
   ]
  },
  {
   "cell_type": "code",
   "execution_count": 52,
   "id": "f5093324-c3dd-4d63-bc4c-8d945e5c8bbb",
   "metadata": {
    "execution": {
     "iopub.execute_input": "2025-07-23T14:29:09.593019Z",
     "iopub.status.busy": "2025-07-23T14:29:09.592563Z",
     "iopub.status.idle": "2025-07-23T14:29:09.601101Z",
     "shell.execute_reply": "2025-07-23T14:29:09.599777Z"
    },
    "papermill": {
     "duration": 0.085896,
     "end_time": "2025-07-23T14:29:09.604897",
     "exception": false,
     "start_time": "2025-07-23T14:29:09.519001",
     "status": "completed"
    },
    "tags": []
   },
   "outputs": [],
   "source": [
    "for subgroup, cov in cond_coverage.items():\n",
    "    cp_metrics_df[f\"cov_{subgroup}\"] = cov"
   ]
  },
  {
   "cell_type": "code",
   "execution_count": 53,
   "id": "6e872e10-dbe5-49e8-b554-5030c98ff75d",
   "metadata": {
    "execution": {
     "iopub.execute_input": "2025-07-23T14:29:09.763094Z",
     "iopub.status.busy": "2025-07-23T14:29:09.762632Z",
     "iopub.status.idle": "2025-07-23T14:29:09.796336Z",
     "shell.execute_reply": "2025-07-23T14:29:09.795157Z"
    },
    "papermill": {
     "duration": 0.118178,
     "end_time": "2025-07-23T14:29:09.798638",
     "exception": false,
     "start_time": "2025-07-23T14:29:09.680460",
     "status": "completed"
    },
    "tags": []
   },
   "outputs": [
    {
     "data": {
      "text/html": [
       "<div>\n",
       "<style scoped>\n",
       "    .dataframe tbody tr th:only-of-type {\n",
       "        vertical-align: middle;\n",
       "    }\n",
       "\n",
       "    .dataframe tbody tr th {\n",
       "        vertical-align: top;\n",
       "    }\n",
       "\n",
       "    .dataframe thead th {\n",
       "        text-align: right;\n",
       "    }\n",
       "</style>\n",
       "<table border=\"1\" class=\"dataframe\">\n",
       "  <thead>\n",
       "    <tr style=\"text-align: right;\">\n",
       "      <th></th>\n",
       "      <th>universe_id</th>\n",
       "      <th>universe_model</th>\n",
       "      <th>universe_exclude_features</th>\n",
       "      <th>universe_exclude_subgroups</th>\n",
       "      <th>universe_scale</th>\n",
       "      <th>q_hat</th>\n",
       "      <th>coverage</th>\n",
       "      <th>avg_size</th>\n",
       "      <th>cov_frau1</th>\n",
       "      <th>cov_nongerman</th>\n",
       "      <th>cov_nongerman_male</th>\n",
       "      <th>cov_nongerman_female</th>\n",
       "    </tr>\n",
       "  </thead>\n",
       "  <tbody>\n",
       "    <tr>\n",
       "      <th>0</th>\n",
       "      <td>8cb8189f8e2ac823fb475728054b3e84</td>\n",
       "      <td>rf</td>\n",
       "      <td>sex</td>\n",
       "      <td>keep-all</td>\n",
       "      <td>scale</td>\n",
       "      <td>0.65</td>\n",
       "      <td>0.915171</td>\n",
       "      <td>1.139316</td>\n",
       "      <td>0.915056</td>\n",
       "      <td>0.912311</td>\n",
       "      <td>0.925786</td>\n",
       "      <td>0.890015</td>\n",
       "    </tr>\n",
       "  </tbody>\n",
       "</table>\n",
       "</div>"
      ],
      "text/plain": [
       "                        universe_id universe_model universe_exclude_features  \\\n",
       "0  8cb8189f8e2ac823fb475728054b3e84             rf                       sex   \n",
       "\n",
       "  universe_exclude_subgroups universe_scale  q_hat  coverage  avg_size  \\\n",
       "0                   keep-all          scale   0.65  0.915171  1.139316   \n",
       "\n",
       "   cov_frau1  cov_nongerman  cov_nongerman_male  cov_nongerman_female  \n",
       "0   0.915056       0.912311            0.925786              0.890015  "
      ]
     },
     "execution_count": 53,
     "metadata": {},
     "output_type": "execute_result"
    }
   ],
   "source": [
    "cp_metrics_df"
   ]
  },
  {
   "cell_type": "markdown",
   "id": "33774451",
   "metadata": {
    "papermill": {
     "duration": 0.050041,
     "end_time": "2025-07-23T14:29:09.902220",
     "exception": false,
     "start_time": "2025-07-23T14:29:09.852179",
     "status": "completed"
    },
    "tags": []
   },
   "source": [
    "# (Fairness) Metrics"
   ]
  },
  {
   "cell_type": "code",
   "execution_count": 54,
   "id": "debc5d62",
   "metadata": {
    "execution": {
     "iopub.execute_input": "2025-07-23T14:29:10.005252Z",
     "iopub.status.busy": "2025-07-23T14:29:10.004818Z",
     "iopub.status.idle": "2025-07-23T14:29:10.046864Z",
     "shell.execute_reply": "2025-07-23T14:29:10.045803Z"
    },
    "papermill": {
     "duration": 0.092413,
     "end_time": "2025-07-23T14:29:10.049188",
     "exception": false,
     "start_time": "2025-07-23T14:29:09.956775",
     "status": "completed"
    },
    "tags": []
   },
   "outputs": [],
   "source": [
    "# do I need to include maxdeutsch1.missing?\n",
    "\n",
    "import numpy as np\n",
    "\n",
    "colname_to_bin = \"maxdeutsch1\"\n",
    "majority_value = org_train[colname_to_bin].mode()[0]\n",
    "\n",
    "org_test[\"majmin\"] = np.where(org_test[colname_to_bin] == majority_value, \"majority\", \"minority\")"
   ]
  },
  {
   "cell_type": "code",
   "execution_count": 55,
   "id": "06a50de5",
   "metadata": {
    "execution": {
     "iopub.execute_input": "2025-07-23T14:29:10.162794Z",
     "iopub.status.busy": "2025-07-23T14:29:10.162356Z",
     "iopub.status.idle": "2025-07-23T14:29:15.957889Z",
     "shell.execute_reply": "2025-07-23T14:29:15.956482Z"
    },
    "papermill": {
     "duration": 5.867803,
     "end_time": "2025-07-23T14:29:15.960482",
     "exception": false,
     "start_time": "2025-07-23T14:29:10.092679",
     "status": "completed"
    },
    "tags": []
   },
   "outputs": [],
   "source": [
    "example_universe = universe.copy()\n",
    "example_universe[\"cutoff\"] = example_universe[\"cutoff\"][0]\n",
    "example_universe[\"eval_fairness_grouping\"] = example_universe[\"eval_fairness_grouping\"][0]\n",
    "fairness_dict, metric_frame = universe_analysis.compute_metrics(\n",
    "    example_universe,\n",
    "    y_pred_prob=probs_test,\n",
    "    y_test=y_true,\n",
    "    org_test=org_test,\n",
    ")"
   ]
  },
  {
   "cell_type": "markdown",
   "id": "f95d4e02",
   "metadata": {
    "papermill": {
     "duration": 0.023998,
     "end_time": "2025-07-23T14:29:16.048671",
     "exception": false,
     "start_time": "2025-07-23T14:29:16.024673",
     "status": "completed"
    },
    "tags": []
   },
   "source": [
    "# Overall"
   ]
  },
  {
   "cell_type": "markdown",
   "id": "bdee4871",
   "metadata": {
    "papermill": {
     "duration": 0.024135,
     "end_time": "2025-07-23T14:29:16.095640",
     "exception": false,
     "start_time": "2025-07-23T14:29:16.071505",
     "status": "completed"
    },
    "tags": []
   },
   "source": [
    "Fairness\n",
    "Main fairness target: Equalized Odds. Seems to be a better fit than equal opportunity, since we're not only interested in Y = 1. Seems to be a better fit than demographic parity, since we also care about accuracy, not just equal distribution of preds.\n",
    "\n",
    "Pick column for computation of fairness metrics\n",
    "\n",
    "Performance\n",
    "Overall performance measures, most interesting in relation to the measures split by group below"
   ]
  },
  {
   "cell_type": "code",
   "execution_count": 56,
   "id": "c4e067c6",
   "metadata": {
    "execution": {
     "iopub.execute_input": "2025-07-23T14:29:16.146704Z",
     "iopub.status.busy": "2025-07-23T14:29:16.146195Z",
     "iopub.status.idle": "2025-07-23T14:29:16.158027Z",
     "shell.execute_reply": "2025-07-23T14:29:16.156453Z"
    },
    "papermill": {
     "duration": 0.052081,
     "end_time": "2025-07-23T14:29:16.172137",
     "exception": false,
     "start_time": "2025-07-23T14:29:16.120056",
     "status": "completed"
    },
    "tags": []
   },
   "outputs": [
    {
     "data": {
      "text/plain": [
       "accuracy                   0.203143\n",
       "balanced accuracy          0.533195\n",
       "f1                         0.239316\n",
       "precision                  0.136356\n",
       "false positive rate        0.910757\n",
       "false negative rate        0.022854\n",
       "selection rate             0.919273\n",
       "count                  89710.000000\n",
       "dtype: float64"
      ]
     },
     "execution_count": 56,
     "metadata": {},
     "output_type": "execute_result"
    }
   ],
   "source": [
    "metric_frame.overall"
   ]
  },
  {
   "cell_type": "markdown",
   "id": "e968fe9d",
   "metadata": {
    "papermill": {
     "duration": 0.047741,
     "end_time": "2025-07-23T14:29:16.281347",
     "exception": false,
     "start_time": "2025-07-23T14:29:16.233606",
     "status": "completed"
    },
    "tags": []
   },
   "source": [
    "By Group"
   ]
  },
  {
   "cell_type": "code",
   "execution_count": 57,
   "id": "ec325bce",
   "metadata": {
    "execution": {
     "iopub.execute_input": "2025-07-23T14:29:16.350653Z",
     "iopub.status.busy": "2025-07-23T14:29:16.350171Z",
     "iopub.status.idle": "2025-07-23T14:29:16.394031Z",
     "shell.execute_reply": "2025-07-23T14:29:16.392698Z"
    },
    "papermill": {
     "duration": 0.071649,
     "end_time": "2025-07-23T14:29:16.396459",
     "exception": false,
     "start_time": "2025-07-23T14:29:16.324810",
     "status": "completed"
    },
    "tags": []
   },
   "outputs": [
    {
     "data": {
      "text/html": [
       "<div>\n",
       "<style scoped>\n",
       "    .dataframe tbody tr th:only-of-type {\n",
       "        vertical-align: middle;\n",
       "    }\n",
       "\n",
       "    .dataframe tbody tr th {\n",
       "        vertical-align: top;\n",
       "    }\n",
       "\n",
       "    .dataframe thead th {\n",
       "        text-align: right;\n",
       "    }\n",
       "</style>\n",
       "<table border=\"1\" class=\"dataframe\">\n",
       "  <thead>\n",
       "    <tr style=\"text-align: right;\">\n",
       "      <th></th>\n",
       "      <th>accuracy</th>\n",
       "      <th>balanced accuracy</th>\n",
       "      <th>f1</th>\n",
       "      <th>precision</th>\n",
       "      <th>false positive rate</th>\n",
       "      <th>false negative rate</th>\n",
       "      <th>selection rate</th>\n",
       "      <th>count</th>\n",
       "    </tr>\n",
       "    <tr>\n",
       "      <th>majmin</th>\n",
       "      <th></th>\n",
       "      <th></th>\n",
       "      <th></th>\n",
       "      <th></th>\n",
       "      <th></th>\n",
       "      <th></th>\n",
       "      <th></th>\n",
       "      <th></th>\n",
       "    </tr>\n",
       "  </thead>\n",
       "  <tbody>\n",
       "    <tr>\n",
       "      <th>majority</th>\n",
       "      <td>0.187798</td>\n",
       "      <td>0.528450</td>\n",
       "      <td>0.243917</td>\n",
       "      <td>0.139065</td>\n",
       "      <td>0.934566</td>\n",
       "      <td>0.008534</td>\n",
       "      <td>0.942085</td>\n",
       "      <td>69170.0</td>\n",
       "    </tr>\n",
       "    <tr>\n",
       "      <th>minority</th>\n",
       "      <td>0.254820</td>\n",
       "      <td>0.544885</td>\n",
       "      <td>0.221940</td>\n",
       "      <td>0.126156</td>\n",
       "      <td>0.832104</td>\n",
       "      <td>0.078125</td>\n",
       "      <td>0.842454</td>\n",
       "      <td>20540.0</td>\n",
       "    </tr>\n",
       "  </tbody>\n",
       "</table>\n",
       "</div>"
      ],
      "text/plain": [
       "          accuracy  balanced accuracy        f1  precision  \\\n",
       "majmin                                                       \n",
       "majority  0.187798           0.528450  0.243917   0.139065   \n",
       "minority  0.254820           0.544885  0.221940   0.126156   \n",
       "\n",
       "          false positive rate  false negative rate  selection rate    count  \n",
       "majmin                                                                       \n",
       "majority             0.934566             0.008534        0.942085  69170.0  \n",
       "minority             0.832104             0.078125        0.842454  20540.0  "
      ]
     },
     "execution_count": 57,
     "metadata": {},
     "output_type": "execute_result"
    }
   ],
   "source": [
    "metric_frame.by_group"
   ]
  },
  {
   "cell_type": "code",
   "execution_count": 58,
   "id": "a9ddbe63",
   "metadata": {
    "execution": {
     "iopub.execute_input": "2025-07-23T14:29:16.501341Z",
     "iopub.status.busy": "2025-07-23T14:29:16.500828Z",
     "iopub.status.idle": "2025-07-23T14:29:19.453963Z",
     "shell.execute_reply": "2025-07-23T14:29:19.452649Z"
    },
    "papermill": {
     "duration": 3.015771,
     "end_time": "2025-07-23T14:29:19.456311",
     "exception": false,
     "start_time": "2025-07-23T14:29:16.440540",
     "status": "completed"
    },
    "tags": []
   },
   "outputs": [
    {
     "data": {
      "text/plain": [
       "array([[<Axes: title={'center': 'accuracy'}, xlabel='majmin'>,\n",
       "        <Axes: title={'center': 'balanced accuracy'}, xlabel='majmin'>,\n",
       "        <Axes: title={'center': 'f1'}, xlabel='majmin'>],\n",
       "       [<Axes: title={'center': 'precision'}, xlabel='majmin'>,\n",
       "        <Axes: title={'center': 'false positive rate'}, xlabel='majmin'>,\n",
       "        <Axes: title={'center': 'false negative rate'}, xlabel='majmin'>],\n",
       "       [<Axes: title={'center': 'selection rate'}, xlabel='majmin'>,\n",
       "        <Axes: title={'center': 'count'}, xlabel='majmin'>,\n",
       "        <Axes: xlabel='majmin'>]], dtype=object)"
      ]
     },
     "execution_count": 58,
     "metadata": {},
     "output_type": "execute_result"
    },
    {
     "data": {
      "image/png": "[encoded data removed]",
      "text/plain": [
       "<Figure size 1200x800 with 9 Axes>"
      ]
     },
     "metadata": {},
     "output_type": "display_data"
    }
   ],
   "source": [
    "# In a graphic\n",
    "metric_frame.by_group.plot.bar(\n",
    "    subplots=True,\n",
    "    layout=[3, 3],\n",
    "    legend=False,\n",
    "    figsize=[12, 8],\n",
    "    title=\"Show all metrics\",\n",
    ")"
   ]
  },
  {
   "cell_type": "markdown",
   "id": "f57a0bac",
   "metadata": {
    "papermill": {
     "duration": 0.028362,
     "end_time": "2025-07-23T14:29:19.518947",
     "exception": false,
     "start_time": "2025-07-23T14:29:19.490585",
     "status": "completed"
    },
    "tags": []
   },
   "source": [
    "# Final Output"
   ]
  },
  {
   "cell_type": "code",
   "execution_count": 59,
   "id": "96d280a3",
   "metadata": {
    "execution": {
     "iopub.execute_input": "2025-07-23T14:29:19.670909Z",
     "iopub.status.busy": "2025-07-23T14:29:19.670309Z",
     "iopub.status.idle": "2025-07-23T14:29:19.679448Z",
     "shell.execute_reply": "2025-07-23T14:29:19.678475Z"
    },
    "papermill": {
     "duration": 0.103605,
     "end_time": "2025-07-23T14:29:19.681053",
     "exception": false,
     "start_time": "2025-07-23T14:29:19.577448",
     "status": "completed"
    },
    "tags": []
   },
   "outputs": [
    {
     "data": {
      "text/plain": [
       "4"
      ]
     },
     "execution_count": 59,
     "metadata": {},
     "output_type": "execute_result"
    }
   ],
   "source": [
    "sub_universes = universe_analysis.generate_sub_universes()\n",
    "len(sub_universes)"
   ]
  },
  {
   "cell_type": "code",
   "execution_count": 60,
   "id": "92adf7ba",
   "metadata": {
    "execution": {
     "iopub.execute_input": "2025-07-23T14:29:19.792149Z",
     "iopub.status.busy": "2025-07-23T14:29:19.791589Z",
     "iopub.status.idle": "2025-07-23T14:29:19.798898Z",
     "shell.execute_reply": "2025-07-23T14:29:19.797805Z"
    },
    "papermill": {
     "duration": 0.064499,
     "end_time": "2025-07-23T14:29:19.809161",
     "exception": false,
     "start_time": "2025-07-23T14:29:19.744662",
     "status": "completed"
    },
    "tags": []
   },
   "outputs": [],
   "source": [
    "def filter_sub_universe_data(sub_universe, org_test):\n",
    "    # Keep all rows — no filtering\n",
    "    keep_rows_mask = np.ones(org_test.shape[0], dtype=bool)\n",
    "\n",
    "    print(f\"[INFO] Keeping all rows: {keep_rows_mask.sum()} rows retained.\")\n",
    "    return keep_rows_mask"
   ]
  },
  {
   "cell_type": "code",
   "execution_count": 61,
   "id": "4a759155",
   "metadata": {
    "execution": {
     "iopub.execute_input": "2025-07-23T14:29:19.977428Z",
     "iopub.status.busy": "2025-07-23T14:29:19.976963Z",
     "iopub.status.idle": "2025-07-23T14:29:31.724924Z",
     "shell.execute_reply": "2025-07-23T14:29:31.722707Z"
    },
    "papermill": {
     "duration": 11.8276,
     "end_time": "2025-07-23T14:29:31.726768",
     "exception": false,
     "start_time": "2025-07-23T14:29:19.899168",
     "status": "completed"
    },
    "tags": []
   },
   "outputs": [
    {
     "name": "stdout",
     "output_type": "stream",
     "text": [
      "Stopping execution_time clock.\n",
      "[INFO] Keeping all rows: 89710 rows retained.\n"
     ]
    },
    {
     "name": "stdout",
     "output_type": "stream",
     "text": [
      "[INFO] Keeping all rows: 89710 rows retained.\n"
     ]
    },
    {
     "name": "stdout",
     "output_type": "stream",
     "text": [
      "[INFO] Keeping all rows: 89710 rows retained.\n"
     ]
    },
    {
     "name": "stdout",
     "output_type": "stream",
     "text": [
      "[INFO] Keeping all rows: 89710 rows retained.\n"
     ]
    },
    {
     "data": {
      "text/html": [
       "<div>\n",
       "<style scoped>\n",
       "    .dataframe tbody tr th:only-of-type {\n",
       "        vertical-align: middle;\n",
       "    }\n",
       "\n",
       "    .dataframe tbody tr th {\n",
       "        vertical-align: top;\n",
       "    }\n",
       "\n",
       "    .dataframe thead th {\n",
       "        text-align: right;\n",
       "    }\n",
       "</style>\n",
       "<table border=\"1\" class=\"dataframe\">\n",
       "  <thead>\n",
       "    <tr style=\"text-align: right;\">\n",
       "      <th></th>\n",
       "      <th>run_no</th>\n",
       "      <th>universe_id</th>\n",
       "      <th>universe_settings</th>\n",
       "      <th>execution_time</th>\n",
       "      <th>test_size_n</th>\n",
       "      <th>test_size_frac</th>\n",
       "      <th>fair_main_equalized_odds_difference</th>\n",
       "      <th>fair_main_equalized_odds_ratio</th>\n",
       "      <th>fair_main_demographic_parity_difference</th>\n",
       "      <th>fair_main_demographic_parity_ratio</th>\n",
       "      <th>...</th>\n",
       "      <th>perf_grp_precision_0</th>\n",
       "      <th>perf_grp_precision_1</th>\n",
       "      <th>perf_grp_false positive rate_0</th>\n",
       "      <th>perf_grp_false positive rate_1</th>\n",
       "      <th>perf_grp_false negative rate_0</th>\n",
       "      <th>perf_grp_false negative rate_1</th>\n",
       "      <th>perf_grp_selection rate_0</th>\n",
       "      <th>perf_grp_selection rate_1</th>\n",
       "      <th>perf_grp_count_0</th>\n",
       "      <th>perf_grp_count_1</th>\n",
       "    </tr>\n",
       "  </thead>\n",
       "  <tbody>\n",
       "    <tr>\n",
       "      <th>0</th>\n",
       "      <td>9</td>\n",
       "      <td>8cb8189f8e2ac823fb475728054b3e84</td>\n",
       "      <td>{\"cutoff\": \"quantile_0.1\", \"eval_fairness_grou...</td>\n",
       "      <td>65.14952</td>\n",
       "      <td>89710</td>\n",
       "      <td>1.0</td>\n",
       "      <td>0.102462</td>\n",
       "      <td>0.890364</td>\n",
       "      <td>0.099631</td>\n",
       "      <td>0.894244</td>\n",
       "      <td>...</td>\n",
       "      <td>NaN</td>\n",
       "      <td>NaN</td>\n",
       "      <td>NaN</td>\n",
       "      <td>NaN</td>\n",
       "      <td>NaN</td>\n",
       "      <td>NaN</td>\n",
       "      <td>NaN</td>\n",
       "      <td>NaN</td>\n",
       "      <td>NaN</td>\n",
       "      <td>NaN</td>\n",
       "    </tr>\n",
       "    <tr>\n",
       "      <th>0</th>\n",
       "      <td>9</td>\n",
       "      <td>8cb8189f8e2ac823fb475728054b3e84</td>\n",
       "      <td>{\"cutoff\": \"quantile_0.1\", \"eval_fairness_grou...</td>\n",
       "      <td>65.14952</td>\n",
       "      <td>89710</td>\n",
       "      <td>1.0</td>\n",
       "      <td>0.102462</td>\n",
       "      <td>0.890364</td>\n",
       "      <td>0.099631</td>\n",
       "      <td>0.894244</td>\n",
       "      <td>...</td>\n",
       "      <td>0.126156</td>\n",
       "      <td>0.139065</td>\n",
       "      <td>0.832104</td>\n",
       "      <td>0.934566</td>\n",
       "      <td>0.078125</td>\n",
       "      <td>0.008534</td>\n",
       "      <td>0.842454</td>\n",
       "      <td>0.942085</td>\n",
       "      <td>20540.0</td>\n",
       "      <td>69170.0</td>\n",
       "    </tr>\n",
       "    <tr>\n",
       "      <th>0</th>\n",
       "      <td>9</td>\n",
       "      <td>8cb8189f8e2ac823fb475728054b3e84</td>\n",
       "      <td>{\"cutoff\": \"quantile_0.25\", \"eval_fairness_gro...</td>\n",
       "      <td>65.14952</td>\n",
       "      <td>89710</td>\n",
       "      <td>1.0</td>\n",
       "      <td>0.105130</td>\n",
       "      <td>0.870154</td>\n",
       "      <td>0.104007</td>\n",
       "      <td>0.869517</td>\n",
       "      <td>...</td>\n",
       "      <td>NaN</td>\n",
       "      <td>NaN</td>\n",
       "      <td>NaN</td>\n",
       "      <td>NaN</td>\n",
       "      <td>NaN</td>\n",
       "      <td>NaN</td>\n",
       "      <td>NaN</td>\n",
       "      <td>NaN</td>\n",
       "      <td>NaN</td>\n",
       "      <td>NaN</td>\n",
       "    </tr>\n",
       "    <tr>\n",
       "      <th>0</th>\n",
       "      <td>9</td>\n",
       "      <td>8cb8189f8e2ac823fb475728054b3e84</td>\n",
       "      <td>{\"cutoff\": \"quantile_0.25\", \"eval_fairness_gro...</td>\n",
       "      <td>65.14952</td>\n",
       "      <td>89710</td>\n",
       "      <td>1.0</td>\n",
       "      <td>0.105130</td>\n",
       "      <td>0.870154</td>\n",
       "      <td>0.104007</td>\n",
       "      <td>0.869517</td>\n",
       "      <td>...</td>\n",
       "      <td>0.142737</td>\n",
       "      <td>0.159681</td>\n",
       "      <td>0.671583</td>\n",
       "      <td>0.771797</td>\n",
       "      <td>0.141892</td>\n",
       "      <td>0.036761</td>\n",
       "      <td>0.693087</td>\n",
       "      <td>0.797094</td>\n",
       "      <td>20540.0</td>\n",
       "      <td>69170.0</td>\n",
       "    </tr>\n",
       "  </tbody>\n",
       "</table>\n",
       "<p>4 rows × 50 columns</p>\n",
       "</div>"
      ],
      "text/plain": [
       "  run_no                       universe_id  \\\n",
       "0      9  8cb8189f8e2ac823fb475728054b3e84   \n",
       "0      9  8cb8189f8e2ac823fb475728054b3e84   \n",
       "0      9  8cb8189f8e2ac823fb475728054b3e84   \n",
       "0      9  8cb8189f8e2ac823fb475728054b3e84   \n",
       "\n",
       "                                   universe_settings  execution_time  \\\n",
       "0  {\"cutoff\": \"quantile_0.1\", \"eval_fairness_grou...        65.14952   \n",
       "0  {\"cutoff\": \"quantile_0.1\", \"eval_fairness_grou...        65.14952   \n",
       "0  {\"cutoff\": \"quantile_0.25\", \"eval_fairness_gro...        65.14952   \n",
       "0  {\"cutoff\": \"quantile_0.25\", \"eval_fairness_gro...        65.14952   \n",
       "\n",
       "   test_size_n  test_size_frac  fair_main_equalized_odds_difference  \\\n",
       "0        89710             1.0                             0.102462   \n",
       "0        89710             1.0                             0.102462   \n",
       "0        89710             1.0                             0.105130   \n",
       "0        89710             1.0                             0.105130   \n",
       "\n",
       "   fair_main_equalized_odds_ratio  fair_main_demographic_parity_difference  \\\n",
       "0                        0.890364                                 0.099631   \n",
       "0                        0.890364                                 0.099631   \n",
       "0                        0.870154                                 0.104007   \n",
       "0                        0.870154                                 0.104007   \n",
       "\n",
       "   fair_main_demographic_parity_ratio  ...  perf_grp_precision_0  \\\n",
       "0                            0.894244  ...                   NaN   \n",
       "0                            0.894244  ...              0.126156   \n",
       "0                            0.869517  ...                   NaN   \n",
       "0                            0.869517  ...              0.142737   \n",
       "\n",
       "   perf_grp_precision_1  perf_grp_false positive rate_0  \\\n",
       "0                   NaN                             NaN   \n",
       "0              0.139065                        0.832104   \n",
       "0                   NaN                             NaN   \n",
       "0              0.159681                        0.671583   \n",
       "\n",
       "   perf_grp_false positive rate_1  perf_grp_false negative rate_0  \\\n",
       "0                             NaN                             NaN   \n",
       "0                        0.934566                        0.078125   \n",
       "0                             NaN                             NaN   \n",
       "0                        0.771797                        0.141892   \n",
       "\n",
       "   perf_grp_false negative rate_1  perf_grp_selection rate_0  \\\n",
       "0                             NaN                        NaN   \n",
       "0                        0.008534                   0.842454   \n",
       "0                             NaN                        NaN   \n",
       "0                        0.036761                   0.693087   \n",
       "\n",
       "   perf_grp_selection rate_1  perf_grp_count_0  perf_grp_count_1  \n",
       "0                        NaN               NaN               NaN  \n",
       "0                   0.942085           20540.0           69170.0  \n",
       "0                        NaN               NaN               NaN  \n",
       "0                   0.797094           20540.0           69170.0  \n",
       "\n",
       "[4 rows x 50 columns]"
      ]
     },
     "execution_count": 61,
     "metadata": {},
     "output_type": "execute_result"
    }
   ],
   "source": [
    "final_output = universe_analysis.generate_final_output(\n",
    "    y_pred_prob=probs_test,\n",
    "    y_test=y_true,\n",
    "    org_test=org_test,\n",
    "    filter_data=filter_sub_universe_data,\n",
    "    cp_metrics_df=cp_metrics_df,\n",
    "    save=True,\n",
    ")\n",
    "final_output"
   ]
  },
  {
   "cell_type": "code",
   "execution_count": null,
   "id": "721ff514-cb11-46f8-b6fc-50392f74b5cb",
   "metadata": {
    "papermill": {
     "duration": 0.018099,
     "end_time": "2025-07-23T14:29:31.779043",
     "exception": false,
     "start_time": "2025-07-23T14:29:31.760944",
     "status": "completed"
    },
    "tags": []
   },
   "outputs": [],
   "source": []
  }
 ],
 "metadata": {
  "celltoolbar": "Tags",
  "kernelspec": {
   "display_name": "Python (CMA Fairness)",
   "language": "python",
   "name": "cma_fair_env"
  },
  "language_info": {
   "codemirror_mode": {
    "name": "ipython",
    "version": 3
   },
   "file_extension": ".py",
   "mimetype": "text/x-python",
   "name": "python",
   "nbconvert_exporter": "python",
   "pygments_lexer": "ipython3",
   "version": "3.10.12"
  },
  "papermill": {
   "default_parameters": {},
   "duration": 82.684496,
   "end_time": "2025-07-23T14:29:32.528676",
   "environment_variables": {},
   "exception": null,
   "input_path": "universe_analysis.ipynb",
   "output_path": "output/runs/9/notebooks/m_9-8cb8189f8e2ac823fb475728054b3e84.ipynb",
   "parameters": {
    "output_dir": "output",
    "run_no": "9",
    "seed": "2023",
    "universe": "{\"cutoff\": [\"quantile_0.1\", \"quantile_0.25\"], \"eval_fairness_grouping\": [\"majority-minority\", \"nationality-all\"], \"exclude_features\": \"sex\", \"exclude_subgroups\": \"keep-all\", \"model\": \"rf\", \"scale\": \"scale\"}",
    "universe_id": "8cb8189f8e2ac823fb475728054b3e84"
   },
   "start_time": "2025-07-23T14:28:09.844180",
   "version": "2.6.0"
  }
 },
 "nbformat": 4,
 "nbformat_minor": 5
}