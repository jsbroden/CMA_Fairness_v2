{
 "cells": [
  {
   "cell_type": "code",
   "execution_count": 1,
   "id": "f159f837-637b-42ba-96b5-ec9a68c44524",
   "metadata": {
    "execution": {
     "iopub.execute_input": "2025-07-23T14:29:42.426962Z",
     "iopub.status.busy": "2025-07-23T14:29:42.426519Z",
     "iopub.status.idle": "2025-07-23T14:29:42.441350Z",
     "shell.execute_reply": "2025-07-23T14:29:42.440200Z"
    },
    "papermill": {
     "duration": 0.027712,
     "end_time": "2025-07-23T14:29:42.443204",
     "exception": false,
     "start_time": "2025-07-23T14:29:42.415492",
     "status": "completed"
    },
    "tags": []
   },
   "outputs": [
    {
     "name": "stdout",
     "output_type": "stream",
     "text": [
      "/dss/dsshome1/0C/ra93lal2/cma/CMA_Fairness_v2\n"
     ]
    },
    {
     "name": "stderr",
     "output_type": "stream",
     "text": [
      "/dss/dsshome1/0C/ra93lal2/.local/share/virtualenvs/CMA_Fairness_v2-3j10GkSs/lib/python3.10/site-packages/IPython/core/magics/osm.py:393: UserWarning: This is now an optional IPython functionality, using bookmarks requires you to install the `pickleshare` library.\n",
      "  bkms = self.shell.db.get('bookmarks', {})\n",
      "/dss/dsshome1/0C/ra93lal2/.local/share/virtualenvs/CMA_Fairness_v2-3j10GkSs/lib/python3.10/site-packages/IPython/core/magics/osm.py:417: UserWarning: This is now an optional IPython functionality, setting dhist requires you to install the `pickleshare` library.\n",
      "  self.shell.db['dhist'] = compress_dhist(dhist)[-100:]\n"
     ]
    }
   ],
   "source": [
    "%cd ~/cma/CMA_Fairness_v2"
   ]
  },
  {
   "cell_type": "markdown",
   "id": "de2603b9",
   "metadata": {
    "papermill": {
     "duration": 0.017591,
     "end_time": "2025-07-23T14:29:42.478990",
     "exception": false,
     "start_time": "2025-07-23T14:29:42.461399",
     "status": "completed"
    },
    "tags": []
   },
   "source": [
    "The following cell holds the definition of our parameters, these values can be overriden by rendering the with e.g. the following command:\n",
    "\n",
    "papermill -p alpha 0.2 -p ratio 0.3 universe_analysis.ipynb output/test_run.ipynb"
   ]
  },
  {
   "cell_type": "code",
   "execution_count": 2,
   "id": "a80968a0-40bb-4fa9-85ef-2d5eefb01975",
   "metadata": {
    "execution": {
     "iopub.execute_input": "2025-07-23T14:29:42.515478Z",
     "iopub.status.busy": "2025-07-23T14:29:42.514905Z",
     "iopub.status.idle": "2025-07-23T14:29:42.520878Z",
     "shell.execute_reply": "2025-07-23T14:29:42.519797Z"
    },
    "papermill": {
     "duration": 0.02579,
     "end_time": "2025-07-23T14:29:42.522675",
     "exception": false,
     "start_time": "2025-07-23T14:29:42.496885",
     "status": "completed"
    },
    "tags": []
   },
   "outputs": [
    {
     "name": "stdout",
     "output_type": "stream",
     "text": [
      "Current working directory: /dss/dsshome1/0C/ra93lal2/cma/CMA_Fairness_v2\n"
     ]
    }
   ],
   "source": [
    "import os\n",
    "print(\"Current working directory:\", os.getcwd())"
   ]
  },
  {
   "cell_type": "code",
   "execution_count": 3,
   "id": "2dce4c03",
   "metadata": {
    "execution": {
     "iopub.execute_input": "2025-07-23T14:29:42.560549Z",
     "iopub.status.busy": "2025-07-23T14:29:42.560099Z",
     "iopub.status.idle": "2025-07-23T14:29:42.566725Z",
     "shell.execute_reply": "2025-07-23T14:29:42.565635Z"
    },
    "papermill": {
     "duration": 0.029058,
     "end_time": "2025-07-23T14:29:42.570010",
     "exception": false,
     "start_time": "2025-07-23T14:29:42.540952",
     "status": "completed"
    },
    "tags": [
     "parameters"
    ]
   },
   "outputs": [],
   "source": [
    "run_no = 0\n",
    "universe_id = \"test\"\n",
    "universe = {\n",
    "    \"scale\": \"scale\", # \"scale\", \"do-not-scale\",\n",
    "    \"model\": \"elasticnet\", # \"logreg\", \"penalized_logreg\", \"rf\", \"gbm\", \"elasticnet\"\n",
    "    \"cutoff\": [\"quantile_0.15\", \"quantile_0.30\"],\n",
    "    \"exclude_features\": \"age\", # \"none\", \"nationality\", \"sex\", \"nationality-sex\", \"age\"\n",
    "    \"exclude_subgroups\": \"keep-all\", # \"keep-all\", \"drop-non-german\"\n",
    "    #\"training_sample\": \"restricted\", # \"restricted\", \"full\"\n",
    "    \"eval_fairness_grouping\": [\"majority-minority\", \"nationality-all\"]\n",
    "}\n",
    "\n",
    "output_dir=\"./output\"\n",
    "seed=0"
   ]
  },
  {
   "cell_type": "code",
   "execution_count": 4,
   "id": "bc7a8e76",
   "metadata": {
    "execution": {
     "iopub.execute_input": "2025-07-23T14:29:42.608575Z",
     "iopub.status.busy": "2025-07-23T14:29:42.608030Z",
     "iopub.status.idle": "2025-07-23T14:29:42.614379Z",
     "shell.execute_reply": "2025-07-23T14:29:42.613123Z"
    },
    "papermill": {
     "duration": 0.02984,
     "end_time": "2025-07-23T14:29:42.617838",
     "exception": false,
     "start_time": "2025-07-23T14:29:42.587998",
     "status": "completed"
    },
    "tags": [
     "injected-parameters"
    ]
   },
   "outputs": [],
   "source": [
    "# Parameters\n",
    "universe_id = \"f568879a02f507d41630c6d266d8d88e\"\n",
    "run_no = \"9\"\n",
    "universe = \"{\\\"cutoff\\\": [\\\"quantile_0.1\\\", \\\"quantile_0.25\\\"], \\\"eval_fairness_grouping\\\": [\\\"majority-minority\\\", \\\"nationality-all\\\"], \\\"exclude_features\\\": \\\"nationality\\\", \\\"exclude_subgroups\\\": \\\"drop-non-german\\\", \\\"model\\\": \\\"gbm\\\", \\\"scale\\\": \\\"scale\\\"}\"\n",
    "output_dir = \"output\"\n",
    "seed = \"2023\"\n"
   ]
  },
  {
   "cell_type": "code",
   "execution_count": 5,
   "id": "1650acaf",
   "metadata": {
    "execution": {
     "iopub.execute_input": "2025-07-23T14:29:42.655860Z",
     "iopub.status.busy": "2025-07-23T14:29:42.655406Z",
     "iopub.status.idle": "2025-07-23T14:29:42.661479Z",
     "shell.execute_reply": "2025-07-23T14:29:42.660360Z"
    },
    "papermill": {
     "duration": 0.028425,
     "end_time": "2025-07-23T14:29:42.665153",
     "exception": false,
     "start_time": "2025-07-23T14:29:42.636728",
     "status": "completed"
    },
    "tags": []
   },
   "outputs": [],
   "source": [
    "import json\n",
    "# Parse universe into dict if it is passed as a string\n",
    "if isinstance(universe, str):\n",
    "    universe = json.loads(universe)"
   ]
  },
  {
   "cell_type": "code",
   "execution_count": 6,
   "id": "16620c48",
   "metadata": {
    "execution": {
     "iopub.execute_input": "2025-07-23T14:29:42.703813Z",
     "iopub.status.busy": "2025-07-23T14:29:42.703426Z",
     "iopub.status.idle": "2025-07-23T14:29:42.774476Z",
     "shell.execute_reply": "2025-07-23T14:29:42.773493Z"
    },
    "papermill": {
     "duration": 0.091869,
     "end_time": "2025-07-23T14:29:42.776287",
     "exception": false,
     "start_time": "2025-07-23T14:29:42.684418",
     "status": "completed"
    },
    "tags": []
   },
   "outputs": [],
   "source": [
    "# Auto-reload the custom package\n",
    "%load_ext autoreload\n",
    "%autoreload 1\n",
    "%aimport fairness_multiverse"
   ]
  },
  {
   "cell_type": "code",
   "execution_count": 7,
   "id": "01c5c9f3",
   "metadata": {
    "execution": {
     "iopub.execute_input": "2025-07-23T14:29:42.864450Z",
     "iopub.status.busy": "2025-07-23T14:29:42.863269Z",
     "iopub.status.idle": "2025-07-23T14:29:48.089656Z",
     "shell.execute_reply": "2025-07-23T14:29:48.088488Z"
    },
    "papermill": {
     "duration": 5.283611,
     "end_time": "2025-07-23T14:29:48.091926",
     "exception": false,
     "start_time": "2025-07-23T14:29:42.808315",
     "status": "completed"
    },
    "tags": []
   },
   "outputs": [],
   "source": [
    "from fairness_multiverse.universe import UniverseAnalysis\n",
    "\n",
    "universe_analysis = UniverseAnalysis(\n",
    "    run_no = run_no,\n",
    "    universe_id = universe_id,\n",
    "    universe = universe,\n",
    "    output_dir=output_dir,\n",
    ")"
   ]
  },
  {
   "cell_type": "code",
   "execution_count": 8,
   "id": "106241f5",
   "metadata": {
    "execution": {
     "iopub.execute_input": "2025-07-23T14:29:48.130930Z",
     "iopub.status.busy": "2025-07-23T14:29:48.130477Z",
     "iopub.status.idle": "2025-07-23T14:29:48.138347Z",
     "shell.execute_reply": "2025-07-23T14:29:48.137285Z"
    },
    "papermill": {
     "duration": 0.034926,
     "end_time": "2025-07-23T14:29:48.145801",
     "exception": false,
     "start_time": "2025-07-23T14:29:48.110875",
     "status": "completed"
    },
    "tags": []
   },
   "outputs": [
    {
     "name": "stdout",
     "output_type": "stream",
     "text": [
      "Using Seed: 2023\n"
     ]
    }
   ],
   "source": [
    "import numpy as np\n",
    "parsed_seed = int(seed)\n",
    "np.random.seed(parsed_seed)\n",
    "print(f\"Using Seed: {parsed_seed}\")"
   ]
  },
  {
   "cell_type": "markdown",
   "id": "e0ebdc57",
   "metadata": {
    "papermill": {
     "duration": 0.043435,
     "end_time": "2025-07-23T14:29:48.244514",
     "exception": false,
     "start_time": "2025-07-23T14:29:48.201079",
     "status": "completed"
    },
    "tags": []
   },
   "source": [
    "# Loading Data"
   ]
  },
  {
   "cell_type": "markdown",
   "id": "681925a3",
   "metadata": {
    "papermill": {
     "duration": 0.016894,
     "end_time": "2025-07-23T14:29:48.280250",
     "exception": false,
     "start_time": "2025-07-23T14:29:48.263356",
     "status": "completed"
    },
    "tags": []
   },
   "source": [
    "Load siab_train, siab_test, siab_calib and/or \n",
    "load siab_train_features, siab_train_labels"
   ]
  },
  {
   "cell_type": "code",
   "execution_count": 9,
   "id": "f0496b8a",
   "metadata": {
    "execution": {
     "iopub.execute_input": "2025-07-23T14:29:48.319930Z",
     "iopub.status.busy": "2025-07-23T14:29:48.319383Z",
     "iopub.status.idle": "2025-07-23T14:29:48.326174Z",
     "shell.execute_reply": "2025-07-23T14:29:48.324953Z"
    },
    "papermill": {
     "duration": 0.029057,
     "end_time": "2025-07-23T14:29:48.328468",
     "exception": false,
     "start_time": "2025-07-23T14:29:48.299411",
     "status": "completed"
    },
    "tags": []
   },
   "outputs": [],
   "source": [
    "# Do I need to load siab? Delete this cell?\n",
    "\n",
    "#from pathlib import Path\n",
    "#import pandas as pd\n",
    "#\n",
    "## File paths\n",
    "#raw_file = Path(\"data/raw/siab.csv\")\n",
    "#cache_file = Path(\"data/siab_cached.csv.gz\")\n",
    "#\n",
    "## Ensure cache directory exists\n",
    "#cache_file.parent.mkdir(parents=True, exist_ok=True)\n",
    "#\n",
    "## Load with simple caching\n",
    "#if cache_file.exists():\n",
    "#    print(f\"Loading SIAB data from cache: {cache_file}\")\n",
    "#    siab = pd.read_csv(cache_file, compression='gzip')\n",
    "#else:\n",
    "#    print(f\"Cache not found. Reading raw SIAB data: {raw_file}\")\n",
    "#    siab = pd.read_csv(raw_file)\n",
    "#    siab.to_csv(cache_file, index=False, compression='gzip')\n",
    "#    print(f\"Cached SIAB data to: {cache_file}\")\n",
    "#\n",
    "## Now use `siab` DataFrame as needed\n",
    "#print(siab.shape)\n"
   ]
  },
  {
   "cell_type": "code",
   "execution_count": 10,
   "id": "a0edb063",
   "metadata": {
    "execution": {
     "iopub.execute_input": "2025-07-23T14:29:48.401164Z",
     "iopub.status.busy": "2025-07-23T14:29:48.400708Z",
     "iopub.status.idle": "2025-07-23T14:29:50.385939Z",
     "shell.execute_reply": "2025-07-23T14:29:50.384662Z"
    },
    "papermill": {
     "duration": 2.033448,
     "end_time": "2025-07-23T14:29:50.388031",
     "exception": false,
     "start_time": "2025-07-23T14:29:48.354583",
     "status": "completed"
    },
    "tags": []
   },
   "outputs": [],
   "source": [
    "import pandas as pd\n",
    "\n",
    "X_train = pd.read_csv(\"./data/X_train.csv\")\n",
    "y_train = pd.read_csv(\"./data/y_train.csv\")"
   ]
  },
  {
   "cell_type": "code",
   "execution_count": 11,
   "id": "63d08085",
   "metadata": {
    "execution": {
     "iopub.execute_input": "2025-07-23T14:29:50.483711Z",
     "iopub.status.busy": "2025-07-23T14:29:50.483272Z",
     "iopub.status.idle": "2025-07-23T14:29:53.182056Z",
     "shell.execute_reply": "2025-07-23T14:29:53.180669Z"
    },
    "papermill": {
     "duration": 2.760891,
     "end_time": "2025-07-23T14:29:53.184286",
     "exception": false,
     "start_time": "2025-07-23T14:29:50.423395",
     "status": "completed"
    },
    "tags": []
   },
   "outputs": [],
   "source": [
    "X_test = pd.read_csv(\"./data/X_test.csv\")\n",
    "y_true = pd.read_csv(\"./data/y_test.csv\")"
   ]
  },
  {
   "cell_type": "code",
   "execution_count": 12,
   "id": "98a8d0fa-1d3d-4ed8-bb2c-281470e24add",
   "metadata": {
    "execution": {
     "iopub.execute_input": "2025-07-23T14:29:53.223774Z",
     "iopub.status.busy": "2025-07-23T14:29:53.222722Z",
     "iopub.status.idle": "2025-07-23T14:29:54.791518Z",
     "shell.execute_reply": "2025-07-23T14:29:54.790494Z"
    },
    "papermill": {
     "duration": 1.591075,
     "end_time": "2025-07-23T14:29:54.793918",
     "exception": false,
     "start_time": "2025-07-23T14:29:53.202843",
     "status": "completed"
    },
    "tags": []
   },
   "outputs": [],
   "source": [
    "# Calibration data for conformal\n",
    "X_calib = pd.read_csv(\"./data/X_calib.csv\")\n",
    "y_calib = pd.read_csv(\"./data/y_calib.csv\")"
   ]
  },
  {
   "cell_type": "code",
   "execution_count": 13,
   "id": "e6c733c5",
   "metadata": {
    "execution": {
     "iopub.execute_input": "2025-07-23T14:29:54.855372Z",
     "iopub.status.busy": "2025-07-23T14:29:54.854904Z",
     "iopub.status.idle": "2025-07-23T14:29:55.048733Z",
     "shell.execute_reply": "2025-07-23T14:29:55.047795Z"
    },
    "papermill": {
     "duration": 0.221621,
     "end_time": "2025-07-23T14:29:55.050745",
     "exception": false,
     "start_time": "2025-07-23T14:29:54.829124",
     "status": "completed"
    },
    "tags": []
   },
   "outputs": [],
   "source": [
    "# Auxiliary data needed downstream in the pipeline\n",
    "\n",
    "org_train = X_train.copy()\n",
    "org_test = X_test.copy()\n",
    "org_calib = X_calib.copy()"
   ]
  },
  {
   "cell_type": "markdown",
   "id": "0a4a1b33",
   "metadata": {
    "papermill": {
     "duration": 0.011169,
     "end_time": "2025-07-23T14:29:55.078819",
     "exception": false,
     "start_time": "2025-07-23T14:29:55.067650",
     "status": "completed"
    },
    "tags": []
   },
   "source": [
    "# Preprocessing Data"
   ]
  },
  {
   "cell_type": "code",
   "execution_count": 14,
   "id": "ca879031",
   "metadata": {
    "execution": {
     "iopub.execute_input": "2025-07-23T14:29:55.102280Z",
     "iopub.status.busy": "2025-07-23T14:29:55.101804Z",
     "iopub.status.idle": "2025-07-23T14:29:55.111764Z",
     "shell.execute_reply": "2025-07-23T14:29:55.110497Z"
    },
    "papermill": {
     "duration": 0.022913,
     "end_time": "2025-07-23T14:29:55.113259",
     "exception": false,
     "start_time": "2025-07-23T14:29:55.090346",
     "status": "completed"
    },
    "tags": []
   },
   "outputs": [],
   "source": [
    "# EXCLUDE PROTECTED FEATURES\n",
    "# ----------------------\n",
    "# \"exclude_features\": \"none\", # \"nationality\", \"sex\", \"nationality-sex\"\n",
    "\n",
    "excluded_features = universe[\"exclude_features\"].split(\"-\") # split, e.g.: \"nationality-sex\" -> [\"nationality\", \"sex\"]\n",
    "excluded_features_dictionary = {\n",
    "    \"nationality\": [\"maxdeutsch1\", \"maxdeutsch.Missing.\"],\n",
    "    \"sex\": [\"frau1\"],\n",
    "    \"age\": [\"age\"],\n",
    "}\n"
   ]
  },
  {
   "cell_type": "code",
   "execution_count": 15,
   "id": "b745ac60",
   "metadata": {
    "execution": {
     "iopub.execute_input": "2025-07-23T14:29:55.152784Z",
     "iopub.status.busy": "2025-07-23T14:29:55.152212Z",
     "iopub.status.idle": "2025-07-23T14:29:55.160338Z",
     "shell.execute_reply": "2025-07-23T14:29:55.158976Z"
    },
    "papermill": {
     "duration": 0.036021,
     "end_time": "2025-07-23T14:29:55.162589",
     "exception": false,
     "start_time": "2025-07-23T14:29:55.126568",
     "status": "completed"
    },
    "tags": []
   },
   "outputs": [],
   "source": [
    "# Code nice names to column names\n",
    "\n",
    "excluded_features_columns = [\n",
    "    excluded_features_dictionary[f] for f in excluded_features if len(f) > 0 and f != \"none\"\n",
    "]"
   ]
  },
  {
   "cell_type": "code",
   "execution_count": 16,
   "id": "f84f73a2",
   "metadata": {
    "execution": {
     "iopub.execute_input": "2025-07-23T14:29:55.215103Z",
     "iopub.status.busy": "2025-07-23T14:29:55.214260Z",
     "iopub.status.idle": "2025-07-23T14:29:55.222212Z",
     "shell.execute_reply": "2025-07-23T14:29:55.220867Z"
    },
    "papermill": {
     "duration": 0.036598,
     "end_time": "2025-07-23T14:29:55.224535",
     "exception": false,
     "start_time": "2025-07-23T14:29:55.187937",
     "status": "completed"
    },
    "tags": []
   },
   "outputs": [],
   "source": [
    "from utils import flatten_once\n",
    "\n",
    "excluded_features_columns = flatten_once(excluded_features_columns)"
   ]
  },
  {
   "cell_type": "code",
   "execution_count": 17,
   "id": "884dea22",
   "metadata": {
    "execution": {
     "iopub.execute_input": "2025-07-23T14:29:55.276726Z",
     "iopub.status.busy": "2025-07-23T14:29:55.276049Z",
     "iopub.status.idle": "2025-07-23T14:29:55.322452Z",
     "shell.execute_reply": "2025-07-23T14:29:55.321371Z"
    },
    "papermill": {
     "duration": 0.073494,
     "end_time": "2025-07-23T14:29:55.324460",
     "exception": false,
     "start_time": "2025-07-23T14:29:55.250966",
     "status": "completed"
    },
    "tags": []
   },
   "outputs": [
    {
     "name": "stdout",
     "output_type": "stream",
     "text": [
      "Dropping features: ['maxdeutsch1', 'maxdeutsch.Missing.']\n"
     ]
    }
   ],
   "source": [
    "if len(excluded_features_columns) > 0:\n",
    "    print(f\"Dropping features: {excluded_features_columns}\")\n",
    "    X_train.drop(excluded_features_columns, axis=1, inplace=True)"
   ]
  },
  {
   "cell_type": "code",
   "execution_count": 18,
   "id": "95ab8b16",
   "metadata": {
    "execution": {
     "iopub.execute_input": "2025-07-23T14:29:55.363661Z",
     "iopub.status.busy": "2025-07-23T14:29:55.363232Z",
     "iopub.status.idle": "2025-07-23T14:29:55.441096Z",
     "shell.execute_reply": "2025-07-23T14:29:55.439955Z"
    },
    "papermill": {
     "duration": 0.100062,
     "end_time": "2025-07-23T14:29:55.443364",
     "exception": false,
     "start_time": "2025-07-23T14:29:55.343302",
     "status": "completed"
    },
    "tags": []
   },
   "outputs": [
    {
     "name": "stdout",
     "output_type": "stream",
     "text": [
      "Dropping features: ['maxdeutsch1', 'maxdeutsch.Missing.']\n"
     ]
    }
   ],
   "source": [
    "if len(excluded_features_columns) > 0:\n",
    "    print(f\"Dropping features: {excluded_features_columns}\")\n",
    "    X_test.drop(excluded_features_columns, axis=1, inplace=True)"
   ]
  },
  {
   "cell_type": "code",
   "execution_count": 19,
   "id": "1853aaf5-fb9f-46cb-a2b5-8ea4ae2237e4",
   "metadata": {
    "execution": {
     "iopub.execute_input": "2025-07-23T14:29:55.509019Z",
     "iopub.status.busy": "2025-07-23T14:29:55.508531Z",
     "iopub.status.idle": "2025-07-23T14:29:55.627695Z",
     "shell.execute_reply": "2025-07-23T14:29:55.626534Z"
    },
    "papermill": {
     "duration": 0.148048,
     "end_time": "2025-07-23T14:29:55.629873",
     "exception": false,
     "start_time": "2025-07-23T14:29:55.481825",
     "status": "completed"
    },
    "tags": []
   },
   "outputs": [
    {
     "name": "stdout",
     "output_type": "stream",
     "text": [
      "Dropping features: ['maxdeutsch1', 'maxdeutsch.Missing.']\n"
     ]
    }
   ],
   "source": [
    "if len(excluded_features_columns) > 0:\n",
    "    print(f\"Dropping features: {excluded_features_columns}\")\n",
    "    X_calib.drop(excluded_features_columns, axis=1, inplace=True)"
   ]
  },
  {
   "cell_type": "code",
   "execution_count": 20,
   "id": "76c4dc6d",
   "metadata": {
    "execution": {
     "iopub.execute_input": "2025-07-23T14:29:55.670624Z",
     "iopub.status.busy": "2025-07-23T14:29:55.670175Z",
     "iopub.status.idle": "2025-07-23T14:29:55.676350Z",
     "shell.execute_reply": "2025-07-23T14:29:55.675330Z"
    },
    "papermill": {
     "duration": 0.030499,
     "end_time": "2025-07-23T14:29:55.679881",
     "exception": false,
     "start_time": "2025-07-23T14:29:55.649382",
     "status": "completed"
    },
    "tags": []
   },
   "outputs": [],
   "source": [
    "# EXCLUDE CERTAIN SUBGROUPS\n",
    "# ----------------------\n",
    "\n",
    "mode = universe.get(\"exclude_subgroups\", \"keep-all\") \n",
    "# Fetches the exclude_subgroups setting from the universe dict.\n",
    "# Defaults to \"keep-all\" if the key is missing."
   ]
  },
  {
   "cell_type": "code",
   "execution_count": 21,
   "id": "21994072",
   "metadata": {
    "execution": {
     "iopub.execute_input": "2025-07-23T14:29:55.738611Z",
     "iopub.status.busy": "2025-07-23T14:29:55.738236Z",
     "iopub.status.idle": "2025-07-23T14:29:55.746296Z",
     "shell.execute_reply": "2025-07-23T14:29:55.745239Z"
    },
    "papermill": {
     "duration": 0.02943,
     "end_time": "2025-07-23T14:29:55.749545",
     "exception": false,
     "start_time": "2025-07-23T14:29:55.720115",
     "status": "completed"
    },
    "tags": []
   },
   "outputs": [],
   "source": [
    "if mode == \"keep-all\":\n",
    "    keep_mask = pd.Series(True, index=org_train.index)\n",
    "\n",
    "# org_train contains the original feature columns from features_org (in Simson)\n",
    "# features_org contains unprocessed features, for me X_train at beginning ???\n",
    "# For keep-all, creates a boolean Series (keep_mask) of all True, so no rows are removed.\n",
    "\n",
    "elif mode == \"drop-non-german\":\n",
    "    keep_mask = org_train[\"maxdeutsch1\"] == 1 # ??? what about missing values?\n",
    "\n",
    "else:\n",
    "    raise ValueError(f\"Unsupported mode for exclude_subgroups: {mode}\")\n"
   ]
  },
  {
   "cell_type": "code",
   "execution_count": 22,
   "id": "71651440",
   "metadata": {
    "execution": {
     "iopub.execute_input": "2025-07-23T14:29:55.790841Z",
     "iopub.status.busy": "2025-07-23T14:29:55.790399Z",
     "iopub.status.idle": "2025-07-23T14:29:55.798691Z",
     "shell.execute_reply": "2025-07-23T14:29:55.797470Z"
    },
    "papermill": {
     "duration": 0.033965,
     "end_time": "2025-07-23T14:29:55.803598",
     "exception": false,
     "start_time": "2025-07-23T14:29:55.769633",
     "status": "completed"
    },
    "tags": []
   },
   "outputs": [
    {
     "name": "stdout",
     "output_type": "stream",
     "text": [
      "Dropping 10036 rows (13.38%) where mode='drop-non-german'\n"
     ]
    }
   ],
   "source": [
    "n_drop = (~keep_mask).sum() # Calculates how many rows are set to be dropped\n",
    "if n_drop > 0:\n",
    "    pct = n_drop / len(keep_mask) * 100\n",
    "    print(f\"Dropping {n_drop} rows ({pct:.2f}%) where mode='{mode}'\")"
   ]
  },
  {
   "cell_type": "code",
   "execution_count": 23,
   "id": "5fb8eee5",
   "metadata": {
    "execution": {
     "iopub.execute_input": "2025-07-23T14:29:55.856627Z",
     "iopub.status.busy": "2025-07-23T14:29:55.856078Z",
     "iopub.status.idle": "2025-07-23T14:29:56.011996Z",
     "shell.execute_reply": "2025-07-23T14:29:56.010683Z"
    },
    "papermill": {
     "duration": 0.188949,
     "end_time": "2025-07-23T14:29:56.014011",
     "exception": false,
     "start_time": "2025-07-23T14:29:55.825062",
     "status": "completed"
    },
    "tags": []
   },
   "outputs": [],
   "source": [
    "X_train = X_train[keep_mask]"
   ]
  },
  {
   "cell_type": "code",
   "execution_count": 24,
   "id": "b202bb3a",
   "metadata": {
    "execution": {
     "iopub.execute_input": "2025-07-23T14:29:56.089243Z",
     "iopub.status.busy": "2025-07-23T14:29:56.088778Z",
     "iopub.status.idle": "2025-07-23T14:29:56.097767Z",
     "shell.execute_reply": "2025-07-23T14:29:56.096618Z"
    },
    "papermill": {
     "duration": 0.054607,
     "end_time": "2025-07-23T14:29:56.104820",
     "exception": false,
     "start_time": "2025-07-23T14:29:56.050213",
     "status": "completed"
    },
    "tags": []
   },
   "outputs": [],
   "source": [
    "y_train = y_train[keep_mask]"
   ]
  },
  {
   "cell_type": "markdown",
   "id": "493e2ac3",
   "metadata": {
    "papermill": {
     "duration": 0.052641,
     "end_time": "2025-07-23T14:29:56.241432",
     "exception": false,
     "start_time": "2025-07-23T14:29:56.188791",
     "status": "completed"
    },
    "tags": []
   },
   "source": [
    "# Model Training"
   ]
  },
  {
   "cell_type": "code",
   "execution_count": 25,
   "id": "679e1268",
   "metadata": {
    "execution": {
     "iopub.execute_input": "2025-07-23T14:29:56.329390Z",
     "iopub.status.busy": "2025-07-23T14:29:56.328937Z",
     "iopub.status.idle": "2025-07-23T14:29:56.554987Z",
     "shell.execute_reply": "2025-07-23T14:29:56.554100Z"
    },
    "papermill": {
     "duration": 0.257494,
     "end_time": "2025-07-23T14:29:56.556674",
     "exception": false,
     "start_time": "2025-07-23T14:29:56.299180",
     "status": "completed"
    },
    "tags": []
   },
   "outputs": [],
   "source": [
    "from sklearn.linear_model import LogisticRegression\n",
    "from sklearn.ensemble import GradientBoostingClassifier, RandomForestClassifier\n",
    "\n",
    "if (universe[\"model\"] == \"logreg\"):\n",
    "    model = LogisticRegression() #penalty=\"none\") #, solver=\"newton-cg\", max_iter=1) # include random_state=19 ?\n",
    "elif (universe[\"model\"] == \"penalized_logreg\"):\n",
    "    model = LogisticRegression(penalty=\"l2\", C=1.0) #, solver=\"newton-cg\", max_iter=1)\n",
    "elif (universe[\"model\"] == \"rf\"):\n",
    "    model = RandomForestClassifier(n_estimators=100, n_jobs=-1)\n",
    "elif (universe[\"model\"] == \"gbm\"):\n",
    "    model = GradientBoostingClassifier()\n",
    "elif (universe[\"model\"] == \"elasticnet\"):\n",
    "    model = LogisticRegression(penalty = 'elasticnet', solver = 'saga', l1_ratio = 0.5, max_iter=5000) # which solver to use?\n",
    "else:\n",
    "    raise \"Unsupported universe.model\""
   ]
  },
  {
   "cell_type": "code",
   "execution_count": 26,
   "id": "0cc8f744",
   "metadata": {
    "execution": {
     "iopub.execute_input": "2025-07-23T14:29:56.582401Z",
     "iopub.status.busy": "2025-07-23T14:29:56.581915Z",
     "iopub.status.idle": "2025-07-23T14:29:56.587154Z",
     "shell.execute_reply": "2025-07-23T14:29:56.586315Z"
    },
    "papermill": {
     "duration": 0.019696,
     "end_time": "2025-07-23T14:29:56.588624",
     "exception": false,
     "start_time": "2025-07-23T14:29:56.568928",
     "status": "completed"
    },
    "tags": []
   },
   "outputs": [],
   "source": [
    "import numpy as np\n",
    "from sklearn.pipeline import Pipeline\n",
    "from sklearn.preprocessing import StandardScaler\n",
    "\n",
    "model = Pipeline([\n",
    "    #(\"continuous_processor\", continuous_processor),\n",
    "    #(\"categorical_preprocessor\", categorical_preprocessor),\n",
    "    (\"scale\", StandardScaler() if universe[\"scale\"] == \"scale\" else None), \n",
    "    (\"model\", model),\n",
    "])"
   ]
  },
  {
   "cell_type": "code",
   "execution_count": 27,
   "id": "9442c04d",
   "metadata": {
    "execution": {
     "iopub.execute_input": "2025-07-23T14:29:56.610272Z",
     "iopub.status.busy": "2025-07-23T14:29:56.609927Z",
     "iopub.status.idle": "2025-07-23T14:31:25.546896Z",
     "shell.execute_reply": "2025-07-23T14:31:25.545525Z"
    },
    "papermill": {
     "duration": 88.95916,
     "end_time": "2025-07-23T14:31:25.558407",
     "exception": false,
     "start_time": "2025-07-23T14:29:56.599247",
     "status": "completed"
    },
    "tags": []
   },
   "outputs": [
    {
     "data": {
      "text/html": [
       "<style>#sk-container-id-1 {color: black;background-color: white;}#sk-container-id-1 pre{padding: 0;}#sk-container-id-1 div.sk-toggleable {background-color: white;}#sk-container-id-1 label.sk-toggleable__label {cursor: pointer;display: block;width: 100%;margin-bottom: 0;padding: 0.3em;box-sizing: border-box;text-align: center;}#sk-container-id-1 label.sk-toggleable__label-arrow:before {content: \"▸\";float: left;margin-right: 0.25em;color: #696969;}#sk-container-id-1 label.sk-toggleable__label-arrow:hover:before {color: black;}#sk-container-id-1 div.sk-estimator:hover label.sk-toggleable__label-arrow:before {color: black;}#sk-container-id-1 div.sk-toggleable__content {max-height: 0;max-width: 0;overflow: hidden;text-align: left;background-color: #f0f8ff;}#sk-container-id-1 div.sk-toggleable__content pre {margin: 0.2em;color: black;border-radius: 0.25em;background-color: #f0f8ff;}#sk-container-id-1 input.sk-toggleable__control:checked~div.sk-toggleable__content {max-height: 200px;max-width: 100%;overflow: auto;}#sk-container-id-1 input.sk-toggleable__control:checked~label.sk-toggleable__label-arrow:before {content: \"▾\";}#sk-container-id-1 div.sk-estimator input.sk-toggleable__control:checked~label.sk-toggleable__label {background-color: #d4ebff;}#sk-container-id-1 div.sk-label input.sk-toggleable__control:checked~label.sk-toggleable__label {background-color: #d4ebff;}#sk-container-id-1 input.sk-hidden--visually {border: 0;clip: rect(1px 1px 1px 1px);clip: rect(1px, 1px, 1px, 1px);height: 1px;margin: -1px;overflow: hidden;padding: 0;position: absolute;width: 1px;}#sk-container-id-1 div.sk-estimator {font-family: monospace;background-color: #f0f8ff;border: 1px dotted black;border-radius: 0.25em;box-sizing: border-box;margin-bottom: 0.5em;}#sk-container-id-1 div.sk-estimator:hover {background-color: #d4ebff;}#sk-container-id-1 div.sk-parallel-item::after {content: \"\";width: 100%;border-bottom: 1px solid gray;flex-grow: 1;}#sk-container-id-1 div.sk-label:hover label.sk-toggleable__label {background-color: #d4ebff;}#sk-container-id-1 div.sk-serial::before {content: \"\";position: absolute;border-left: 1px solid gray;box-sizing: border-box;top: 0;bottom: 0;left: 50%;z-index: 0;}#sk-container-id-1 div.sk-serial {display: flex;flex-direction: column;align-items: center;background-color: white;padding-right: 0.2em;padding-left: 0.2em;position: relative;}#sk-container-id-1 div.sk-item {position: relative;z-index: 1;}#sk-container-id-1 div.sk-parallel {display: flex;align-items: stretch;justify-content: center;background-color: white;position: relative;}#sk-container-id-1 div.sk-item::before, #sk-container-id-1 div.sk-parallel-item::before {content: \"\";position: absolute;border-left: 1px solid gray;box-sizing: border-box;top: 0;bottom: 0;left: 50%;z-index: -1;}#sk-container-id-1 div.sk-parallel-item {display: flex;flex-direction: column;z-index: 1;position: relative;background-color: white;}#sk-container-id-1 div.sk-parallel-item:first-child::after {align-self: flex-end;width: 50%;}#sk-container-id-1 div.sk-parallel-item:last-child::after {align-self: flex-start;width: 50%;}#sk-container-id-1 div.sk-parallel-item:only-child::after {width: 0;}#sk-container-id-1 div.sk-dashed-wrapped {border: 1px dashed gray;margin: 0 0.4em 0.5em 0.4em;box-sizing: border-box;padding-bottom: 0.4em;background-color: white;}#sk-container-id-1 div.sk-label label {font-family: monospace;font-weight: bold;display: inline-block;line-height: 1.2em;}#sk-container-id-1 div.sk-label-container {text-align: center;}#sk-container-id-1 div.sk-container {/* jupyter's `normalize.less` sets `[hidden] { display: none; }` but bootstrap.min.css set `[hidden] { display: none !important; }` so we also need the `!important` here to be able to override the default hidden behavior on the sphinx rendered scikit-learn.org. See: https://github.com/scikit-learn/scikit-learn/issues/21755 */display: inline-block !important;position: relative;}#sk-container-id-1 div.sk-text-repr-fallback {display: none;}</style><div id=\"sk-container-id-1\" class=\"sk-top-container\"><div class=\"sk-text-repr-fallback\"><pre>Pipeline(steps=[(&#x27;scale&#x27;, StandardScaler()),\n",
       "                (&#x27;model&#x27;, GradientBoostingClassifier())])</pre><b>In a Jupyter environment, please rerun this cell to show the HTML representation or trust the notebook. <br />On GitHub, the HTML representation is unable to render, please try loading this page with nbviewer.org.</b></div><div class=\"sk-container\" hidden><div class=\"sk-item sk-dashed-wrapped\"><div class=\"sk-label-container\"><div class=\"sk-label sk-toggleable\"><input class=\"sk-toggleable__control sk-hidden--visually\" id=\"sk-estimator-id-1\" type=\"checkbox\" ><label for=\"sk-estimator-id-1\" class=\"sk-toggleable__label sk-toggleable__label-arrow\">Pipeline</label><div class=\"sk-toggleable__content\"><pre>Pipeline(steps=[(&#x27;scale&#x27;, StandardScaler()),\n",
       "                (&#x27;model&#x27;, GradientBoostingClassifier())])</pre></div></div></div><div class=\"sk-serial\"><div class=\"sk-item\"><div class=\"sk-estimator sk-toggleable\"><input class=\"sk-toggleable__control sk-hidden--visually\" id=\"sk-estimator-id-2\" type=\"checkbox\" ><label for=\"sk-estimator-id-2\" class=\"sk-toggleable__label sk-toggleable__label-arrow\">StandardScaler</label><div class=\"sk-toggleable__content\"><pre>StandardScaler()</pre></div></div></div><div class=\"sk-item\"><div class=\"sk-estimator sk-toggleable\"><input class=\"sk-toggleable__control sk-hidden--visually\" id=\"sk-estimator-id-3\" type=\"checkbox\" ><label for=\"sk-estimator-id-3\" class=\"sk-toggleable__label sk-toggleable__label-arrow\">GradientBoostingClassifier</label><div class=\"sk-toggleable__content\"><pre>GradientBoostingClassifier()</pre></div></div></div></div></div></div></div>"
      ],
      "text/plain": [
       "Pipeline(steps=[('scale', StandardScaler()),\n",
       "                ('model', GradientBoostingClassifier())])"
      ]
     },
     "execution_count": 27,
     "metadata": {},
     "output_type": "execute_result"
    }
   ],
   "source": [
    "model.fit(X_train, y_train.values.ravel())"
   ]
  },
  {
   "cell_type": "code",
   "execution_count": 28,
   "id": "af59f8c0",
   "metadata": {
    "execution": {
     "iopub.execute_input": "2025-07-23T14:31:25.601810Z",
     "iopub.status.busy": "2025-07-23T14:31:25.601010Z",
     "iopub.status.idle": "2025-07-23T14:31:25.607458Z",
     "shell.execute_reply": "2025-07-23T14:31:25.606369Z"
    },
    "papermill": {
     "duration": 0.03081,
     "end_time": "2025-07-23T14:31:25.609438",
     "exception": false,
     "start_time": "2025-07-23T14:31:25.578628",
     "status": "completed"
    },
    "tags": []
   },
   "outputs": [],
   "source": [
    "from fairness_multiverse.universe import predict_w_threshold"
   ]
  },
  {
   "cell_type": "code",
   "execution_count": 29,
   "id": "a7cf2e16",
   "metadata": {
    "execution": {
     "iopub.execute_input": "2025-07-23T14:31:25.652739Z",
     "iopub.status.busy": "2025-07-23T14:31:25.651976Z",
     "iopub.status.idle": "2025-07-23T14:31:26.486764Z",
     "shell.execute_reply": "2025-07-23T14:31:26.485756Z"
    },
    "papermill": {
     "duration": 0.858416,
     "end_time": "2025-07-23T14:31:26.488899",
     "exception": false,
     "start_time": "2025-07-23T14:31:25.630483",
     "status": "completed"
    },
    "tags": []
   },
   "outputs": [
    {
     "data": {
      "text/plain": [
       "0.8711960762456805"
      ]
     },
     "execution_count": 29,
     "metadata": {},
     "output_type": "execute_result"
    }
   ],
   "source": [
    "probs_test = model.predict_proba(X_test)\n",
    "\n",
    "'''\n",
    "Below code returns a boolean array (or binary 0/1 array depending on how it’s used) where each element \n",
    "is True if the probability of class 1 is greater than or equal to the threshold, and False otherwise.\n",
    "'''\n",
    "y_pred_default = predict_w_threshold(probs_test, 0.5)\n",
    "\n",
    "from sklearn.metrics import accuracy_score\n",
    "\n",
    "# Naive prediction\n",
    "accuracy_score(y_true = y_true, y_pred = y_pred_default)"
   ]
  },
  {
   "cell_type": "code",
   "execution_count": 30,
   "id": "081964c3",
   "metadata": {
    "execution": {
     "iopub.execute_input": "2025-07-23T14:31:26.533265Z",
     "iopub.status.busy": "2025-07-23T14:31:26.532485Z",
     "iopub.status.idle": "2025-07-23T14:31:27.371667Z",
     "shell.execute_reply": "2025-07-23T14:31:27.370624Z"
    },
    "papermill": {
     "duration": 0.863609,
     "end_time": "2025-07-23T14:31:27.373766",
     "exception": false,
     "start_time": "2025-07-23T14:31:26.510157",
     "status": "completed"
    },
    "tags": []
   },
   "outputs": [
    {
     "data": {
      "text/plain": [
       "array([0, 0, 0, ..., 0, 0, 0])"
      ]
     },
     "execution_count": 30,
     "metadata": {},
     "output_type": "execute_result"
    }
   ],
   "source": [
    "model.predict(X_test)"
   ]
  },
  {
   "cell_type": "markdown",
   "id": "56c9705b",
   "metadata": {
    "papermill": {
     "duration": 0.020153,
     "end_time": "2025-07-23T14:31:27.415478",
     "exception": false,
     "start_time": "2025-07-23T14:31:27.395325",
     "status": "completed"
    },
    "tags": []
   },
   "source": [
    "# Conformal Prediction"
   ]
  },
  {
   "cell_type": "code",
   "execution_count": 31,
   "id": "160ec6ff",
   "metadata": {
    "execution": {
     "iopub.execute_input": "2025-07-23T14:31:27.459089Z",
     "iopub.status.busy": "2025-07-23T14:31:27.458350Z",
     "iopub.status.idle": "2025-07-23T14:31:27.463920Z",
     "shell.execute_reply": "2025-07-23T14:31:27.462917Z"
    },
    "papermill": {
     "duration": 0.030005,
     "end_time": "2025-07-23T14:31:27.465874",
     "exception": false,
     "start_time": "2025-07-23T14:31:27.435869",
     "status": "completed"
    },
    "tags": []
   },
   "outputs": [],
   "source": [
    "# Miscoverage level for conformal prediction (10% allowed error rate => 90% target coverage)\n",
    "alpha = 0.1"
   ]
  },
  {
   "cell_type": "code",
   "execution_count": 32,
   "id": "eadf4555-3dd3-440e-8e35-f82a4ad9f855",
   "metadata": {
    "execution": {
     "iopub.execute_input": "2025-07-23T14:31:27.510055Z",
     "iopub.status.busy": "2025-07-23T14:31:27.509266Z",
     "iopub.status.idle": "2025-07-23T14:31:28.300724Z",
     "shell.execute_reply": "2025-07-23T14:31:28.299415Z"
    },
    "papermill": {
     "duration": 0.816231,
     "end_time": "2025-07-23T14:31:28.303003",
     "exception": false,
     "start_time": "2025-07-23T14:31:27.486772",
     "status": "completed"
    },
    "tags": []
   },
   "outputs": [],
   "source": [
    "probs_calib = model.predict_proba(X_calib)"
   ]
  },
  {
   "cell_type": "code",
   "execution_count": 33,
   "id": "2ed93547-6d5d-4983-9b36-1ecb300da49a",
   "metadata": {
    "execution": {
     "iopub.execute_input": "2025-07-23T14:31:28.347656Z",
     "iopub.status.busy": "2025-07-23T14:31:28.346840Z",
     "iopub.status.idle": "2025-07-23T14:31:28.353055Z",
     "shell.execute_reply": "2025-07-23T14:31:28.351930Z"
    },
    "papermill": {
     "duration": 0.030478,
     "end_time": "2025-07-23T14:31:28.354916",
     "exception": false,
     "start_time": "2025-07-23T14:31:28.324438",
     "status": "completed"
    },
    "tags": []
   },
   "outputs": [],
   "source": [
    "y_calib = y_calib.values.ravel().astype(int)"
   ]
  },
  {
   "cell_type": "code",
   "execution_count": 34,
   "id": "65d1320d-f588-4b38-9072-62af1ae97f7d",
   "metadata": {
    "execution": {
     "iopub.execute_input": "2025-07-23T14:31:28.400951Z",
     "iopub.status.busy": "2025-07-23T14:31:28.400286Z",
     "iopub.status.idle": "2025-07-23T14:31:28.409122Z",
     "shell.execute_reply": "2025-07-23T14:31:28.407964Z"
    },
    "papermill": {
     "duration": 0.03447,
     "end_time": "2025-07-23T14:31:28.411194",
     "exception": false,
     "start_time": "2025-07-23T14:31:28.376724",
     "status": "completed"
    },
    "tags": []
   },
   "outputs": [],
   "source": [
    "from fairness_multiverse.conformal import compute_nc_scores\n",
    "\n",
    "# Compute nonconformity scores on calibration set (1 - probability of true class)\n",
    "nc_scores = compute_nc_scores(probs_calib, y_calib)"
   ]
  },
  {
   "cell_type": "code",
   "execution_count": 35,
   "id": "df3b8ca3-53b7-43d5-9667-7c85da7aeda2",
   "metadata": {
    "execution": {
     "iopub.execute_input": "2025-07-23T14:31:28.457223Z",
     "iopub.status.busy": "2025-07-23T14:31:28.456404Z",
     "iopub.status.idle": "2025-07-23T14:31:28.463937Z",
     "shell.execute_reply": "2025-07-23T14:31:28.462849Z"
    },
    "papermill": {
     "duration": 0.0322,
     "end_time": "2025-07-23T14:31:28.465590",
     "exception": false,
     "start_time": "2025-07-23T14:31:28.433390",
     "status": "completed"
    },
    "tags": []
   },
   "outputs": [],
   "source": [
    "from fairness_multiverse.conformal import find_threshold\n",
    "\n",
    "# Find conformal threshold q_hat for the given alpha (split conformal method)\n",
    "q_hat = find_threshold(nc_scores, alpha)"
   ]
  },
  {
   "cell_type": "code",
   "execution_count": 36,
   "id": "4d29e6c1-0ef6-4aa4-b8fe-4fe79b0d033a",
   "metadata": {
    "execution": {
     "iopub.execute_input": "2025-07-23T14:31:28.511001Z",
     "iopub.status.busy": "2025-07-23T14:31:28.510247Z",
     "iopub.status.idle": "2025-07-23T14:31:28.518802Z",
     "shell.execute_reply": "2025-07-23T14:31:28.517765Z"
    },
    "papermill": {
     "duration": 0.033306,
     "end_time": "2025-07-23T14:31:28.520519",
     "exception": false,
     "start_time": "2025-07-23T14:31:28.487213",
     "status": "completed"
    },
    "tags": []
   },
   "outputs": [
    {
     "data": {
      "text/plain": [
       "0.6587502679635155"
      ]
     },
     "execution_count": 36,
     "metadata": {},
     "output_type": "execute_result"
    }
   ],
   "source": [
    "q_hat"
   ]
  },
  {
   "cell_type": "code",
   "execution_count": 37,
   "id": "92460794-cdac-4be2-ba28-f28c0515a6fb",
   "metadata": {
    "execution": {
     "iopub.execute_input": "2025-07-23T14:31:28.565764Z",
     "iopub.status.busy": "2025-07-23T14:31:28.565009Z",
     "iopub.status.idle": "2025-07-23T14:31:30.286827Z",
     "shell.execute_reply": "2025-07-23T14:31:30.285674Z"
    },
    "papermill": {
     "duration": 1.746546,
     "end_time": "2025-07-23T14:31:30.288974",
     "exception": false,
     "start_time": "2025-07-23T14:31:28.542428",
     "status": "completed"
    },
    "tags": []
   },
   "outputs": [],
   "source": [
    "from fairness_multiverse.conformal import predict_conformal_sets\n",
    "\n",
    "# Generate prediction sets for each test example\n",
    "pred_sets = predict_conformal_sets(model, X_test, q_hat)"
   ]
  },
  {
   "cell_type": "code",
   "execution_count": 38,
   "id": "d90c9a65-e6db-4f5d-80cd-e68fb7e46829",
   "metadata": {
    "execution": {
     "iopub.execute_input": "2025-07-23T14:31:30.334867Z",
     "iopub.status.busy": "2025-07-23T14:31:30.334256Z",
     "iopub.status.idle": "2025-07-23T14:31:30.340828Z",
     "shell.execute_reply": "2025-07-23T14:31:30.339757Z"
    },
    "papermill": {
     "duration": 0.031308,
     "end_time": "2025-07-23T14:31:30.342846",
     "exception": false,
     "start_time": "2025-07-23T14:31:30.311538",
     "status": "completed"
    },
    "tags": []
   },
   "outputs": [],
   "source": [
    "y_true = y_true.squeeze()"
   ]
  },
  {
   "cell_type": "code",
   "execution_count": 39,
   "id": "3a58a54a-1e68-46b9-927a-df01f18aebc8",
   "metadata": {
    "execution": {
     "iopub.execute_input": "2025-07-23T14:31:30.390971Z",
     "iopub.status.busy": "2025-07-23T14:31:30.390220Z",
     "iopub.status.idle": "2025-07-23T14:31:31.465598Z",
     "shell.execute_reply": "2025-07-23T14:31:31.464408Z"
    },
    "papermill": {
     "duration": 1.101838,
     "end_time": "2025-07-23T14:31:31.467844",
     "exception": false,
     "start_time": "2025-07-23T14:31:30.366006",
     "status": "completed"
    },
    "tags": []
   },
   "outputs": [],
   "source": [
    "from fairness_multiverse.conformal import evaluate_sets\n",
    "\n",
    "# Evaluate coverage and average set size on test data\n",
    "metrics = evaluate_sets(pred_sets, y_true)"
   ]
  },
  {
   "cell_type": "code",
   "execution_count": 40,
   "id": "5ce0a5cb-201f-45a0-ade5-94c7f0bd6095",
   "metadata": {
    "execution": {
     "iopub.execute_input": "2025-07-23T14:31:31.515604Z",
     "iopub.status.busy": "2025-07-23T14:31:31.515037Z",
     "iopub.status.idle": "2025-07-23T14:31:31.523554Z",
     "shell.execute_reply": "2025-07-23T14:31:31.522434Z"
    },
    "papermill": {
     "duration": 0.034641,
     "end_time": "2025-07-23T14:31:31.525423",
     "exception": false,
     "start_time": "2025-07-23T14:31:31.490782",
     "status": "completed"
    },
    "tags": []
   },
   "outputs": [
    {
     "data": {
      "text/plain": [
       "{'coverage': 0.9114814401961877, 'avg_size': 1.110723442202653}"
      ]
     },
     "execution_count": 40,
     "metadata": {},
     "output_type": "execute_result"
    }
   ],
   "source": [
    "metrics"
   ]
  },
  {
   "cell_type": "code",
   "execution_count": 41,
   "id": "9b9a838d-31c9-430b-ae14-12baee460d17",
   "metadata": {
    "execution": {
     "iopub.execute_input": "2025-07-23T14:31:31.584703Z",
     "iopub.status.busy": "2025-07-23T14:31:31.584148Z",
     "iopub.status.idle": "2025-07-23T14:31:31.591073Z",
     "shell.execute_reply": "2025-07-23T14:31:31.590098Z"
    },
    "papermill": {
     "duration": 0.044059,
     "end_time": "2025-07-23T14:31:31.593241",
     "exception": false,
     "start_time": "2025-07-23T14:31:31.549182",
     "status": "completed"
    },
    "tags": []
   },
   "outputs": [],
   "source": [
    "example_universe = universe.copy()\n",
    "universe_model = example_universe.get(\"model\")\n",
    "universe_exclude_features = example_universe.get(\"exclude_features\")\n",
    "universe_exclude_subgroups = example_universe.get(\"exclude_subgroups\")\n",
    "universe_scale = example_universe.get(\"scale\")"
   ]
  },
  {
   "cell_type": "code",
   "execution_count": 42,
   "id": "f4b6a8ac-9dc0-4245-8a91-5b3b5999c4f9",
   "metadata": {
    "execution": {
     "iopub.execute_input": "2025-07-23T14:31:31.641910Z",
     "iopub.status.busy": "2025-07-23T14:31:31.641393Z",
     "iopub.status.idle": "2025-07-23T14:31:31.648152Z",
     "shell.execute_reply": "2025-07-23T14:31:31.647120Z"
    },
    "papermill": {
     "duration": 0.033253,
     "end_time": "2025-07-23T14:31:31.650189",
     "exception": false,
     "start_time": "2025-07-23T14:31:31.616936",
     "status": "completed"
    },
    "tags": []
   },
   "outputs": [],
   "source": [
    "cp_metrics_dict = {\n",
    "    \"universe_id\": [universe_id],\n",
    "    \"universe_model\": [universe_model],\n",
    "    \"universe_exclude_features\": [universe_exclude_features],\n",
    "    \"universe_exclude_subgroups\": [universe_exclude_subgroups],\n",
    "    \"universe_scale\": [universe_scale],\n",
    "    \"q_hat\": [q_hat],\n",
    "    \"coverage\": [metrics[\"coverage\"]],\n",
    "    \"avg_size\": [metrics[\"avg_size\"]],\n",
    "}"
   ]
  },
  {
   "cell_type": "code",
   "execution_count": 43,
   "id": "908acbb1-0371-4915-85ca-3fa520d2efe2",
   "metadata": {
    "execution": {
     "iopub.execute_input": "2025-07-23T14:31:31.699454Z",
     "iopub.status.busy": "2025-07-23T14:31:31.698330Z",
     "iopub.status.idle": "2025-07-23T14:31:31.706716Z",
     "shell.execute_reply": "2025-07-23T14:31:31.705639Z"
    },
    "papermill": {
     "duration": 0.03412,
     "end_time": "2025-07-23T14:31:31.708672",
     "exception": false,
     "start_time": "2025-07-23T14:31:31.674552",
     "status": "completed"
    },
    "tags": []
   },
   "outputs": [
    {
     "data": {
      "text/plain": [
       "{'universe_id': ['f568879a02f507d41630c6d266d8d88e'],\n",
       " 'universe_model': ['gbm'],\n",
       " 'universe_exclude_features': ['nationality'],\n",
       " 'universe_exclude_subgroups': ['drop-non-german'],\n",
       " 'universe_scale': ['scale'],\n",
       " 'q_hat': [0.6587502679635155],\n",
       " 'coverage': [0.9114814401961877],\n",
       " 'avg_size': [1.110723442202653]}"
      ]
     },
     "execution_count": 43,
     "metadata": {},
     "output_type": "execute_result"
    }
   ],
   "source": [
    "cp_metrics_dict"
   ]
  },
  {
   "cell_type": "code",
   "execution_count": 44,
   "id": "33007efc-14e9-4ec6-97ac-56a455c82265",
   "metadata": {
    "execution": {
     "iopub.execute_input": "2025-07-23T14:31:31.759191Z",
     "iopub.status.busy": "2025-07-23T14:31:31.758427Z",
     "iopub.status.idle": "2025-07-23T14:31:31.766082Z",
     "shell.execute_reply": "2025-07-23T14:31:31.764915Z"
    },
    "papermill": {
     "duration": 0.03513,
     "end_time": "2025-07-23T14:31:31.768019",
     "exception": false,
     "start_time": "2025-07-23T14:31:31.732889",
     "status": "completed"
    },
    "tags": []
   },
   "outputs": [],
   "source": [
    "cp_metrics_df = pd.DataFrame(cp_metrics_dict)"
   ]
  },
  {
   "cell_type": "code",
   "execution_count": 45,
   "id": "db12611b-57b2-4910-b9d0-355adfd6e7bf",
   "metadata": {
    "execution": {
     "iopub.execute_input": "2025-07-23T14:31:31.817173Z",
     "iopub.status.busy": "2025-07-23T14:31:31.816383Z",
     "iopub.status.idle": "2025-07-23T14:31:31.836125Z",
     "shell.execute_reply": "2025-07-23T14:31:31.835032Z"
    },
    "papermill": {
     "duration": 0.046541,
     "end_time": "2025-07-23T14:31:31.837996",
     "exception": false,
     "start_time": "2025-07-23T14:31:31.791455",
     "status": "completed"
    },
    "tags": []
   },
   "outputs": [
    {
     "data": {
      "text/html": [
       "<div>\n",
       "<style scoped>\n",
       "    .dataframe tbody tr th:only-of-type {\n",
       "        vertical-align: middle;\n",
       "    }\n",
       "\n",
       "    .dataframe tbody tr th {\n",
       "        vertical-align: top;\n",
       "    }\n",
       "\n",
       "    .dataframe thead th {\n",
       "        text-align: right;\n",
       "    }\n",
       "</style>\n",
       "<table border=\"1\" class=\"dataframe\">\n",
       "  <thead>\n",
       "    <tr style=\"text-align: right;\">\n",
       "      <th></th>\n",
       "      <th>universe_id</th>\n",
       "      <th>universe_model</th>\n",
       "      <th>universe_exclude_features</th>\n",
       "      <th>universe_exclude_subgroups</th>\n",
       "      <th>universe_scale</th>\n",
       "      <th>q_hat</th>\n",
       "      <th>coverage</th>\n",
       "      <th>avg_size</th>\n",
       "    </tr>\n",
       "  </thead>\n",
       "  <tbody>\n",
       "    <tr>\n",
       "      <th>0</th>\n",
       "      <td>f568879a02f507d41630c6d266d8d88e</td>\n",
       "      <td>gbm</td>\n",
       "      <td>nationality</td>\n",
       "      <td>drop-non-german</td>\n",
       "      <td>scale</td>\n",
       "      <td>0.65875</td>\n",
       "      <td>0.911481</td>\n",
       "      <td>1.110723</td>\n",
       "    </tr>\n",
       "  </tbody>\n",
       "</table>\n",
       "</div>"
      ],
      "text/plain": [
       "                        universe_id universe_model universe_exclude_features  \\\n",
       "0  f568879a02f507d41630c6d266d8d88e            gbm               nationality   \n",
       "\n",
       "  universe_exclude_subgroups universe_scale    q_hat  coverage  avg_size  \n",
       "0            drop-non-german          scale  0.65875  0.911481  1.110723  "
      ]
     },
     "execution_count": 45,
     "metadata": {},
     "output_type": "execute_result"
    }
   ],
   "source": [
    "cp_metrics_df"
   ]
  },
  {
   "cell_type": "code",
   "execution_count": 46,
   "id": "b7fbde55-a0a1-47e4-9af6-fe4a17fa8c61",
   "metadata": {
    "execution": {
     "iopub.execute_input": "2025-07-23T14:31:31.886971Z",
     "iopub.status.busy": "2025-07-23T14:31:31.886177Z",
     "iopub.status.idle": "2025-07-23T14:31:31.891889Z",
     "shell.execute_reply": "2025-07-23T14:31:31.890830Z"
    },
    "papermill": {
     "duration": 0.032438,
     "end_time": "2025-07-23T14:31:31.893657",
     "exception": false,
     "start_time": "2025-07-23T14:31:31.861219",
     "status": "completed"
    },
    "tags": []
   },
   "outputs": [],
   "source": [
    "# Conditional Coverage & looking at subgroups"
   ]
  },
  {
   "cell_type": "code",
   "execution_count": 47,
   "id": "027ae886-68dd-4141-96c7-805a5450e1ef",
   "metadata": {
    "execution": {
     "iopub.execute_input": "2025-07-23T14:31:31.943069Z",
     "iopub.status.busy": "2025-07-23T14:31:31.942320Z",
     "iopub.status.idle": "2025-07-23T14:31:32.240336Z",
     "shell.execute_reply": "2025-07-23T14:31:32.239227Z"
    },
    "papermill": {
     "duration": 0.324883,
     "end_time": "2025-07-23T14:31:32.242565",
     "exception": false,
     "start_time": "2025-07-23T14:31:31.917682",
     "status": "completed"
    },
    "tags": []
   },
   "outputs": [],
   "source": [
    "from fairness_multiverse.conformal import build_cp_groups\n",
    "\n",
    "cp_groups_df = build_cp_groups(pred_sets, y_true, X_test.index, org_test)\n",
    "#needs universe_id and setting"
   ]
  },
  {
   "cell_type": "code",
   "execution_count": 48,
   "id": "c3b92545-903e-4839-89af-0f057907d7d6",
   "metadata": {
    "execution": {
     "iopub.execute_input": "2025-07-23T14:31:32.292877Z",
     "iopub.status.busy": "2025-07-23T14:31:32.292312Z",
     "iopub.status.idle": "2025-07-23T14:31:34.171849Z",
     "shell.execute_reply": "2025-07-23T14:31:34.170725Z"
    },
    "papermill": {
     "duration": 1.907292,
     "end_time": "2025-07-23T14:31:34.174147",
     "exception": false,
     "start_time": "2025-07-23T14:31:32.266855",
     "status": "completed"
    },
    "tags": []
   },
   "outputs": [],
   "source": [
    "# Define covered = 1 if true_label is in the predicted set\n",
    "cp_groups_df['covered'] = cp_groups_df.apply(\n",
    "    lambda r: int(r['true_label'] in r['pred_set']),\n",
    "    axis=1\n",
    ")"
   ]
  },
  {
   "cell_type": "code",
   "execution_count": 49,
   "id": "338ff529-1a6b-4b87-a931-8e4788d52aad",
   "metadata": {
    "execution": {
     "iopub.execute_input": "2025-07-23T14:31:34.223756Z",
     "iopub.status.busy": "2025-07-23T14:31:34.223013Z",
     "iopub.status.idle": "2025-07-23T14:31:34.229153Z",
     "shell.execute_reply": "2025-07-23T14:31:34.227993Z"
    },
    "papermill": {
     "duration": 0.033109,
     "end_time": "2025-07-23T14:31:34.231144",
     "exception": false,
     "start_time": "2025-07-23T14:31:34.198035",
     "status": "completed"
    },
    "tags": []
   },
   "outputs": [],
   "source": [
    "#cp_groups_df"
   ]
  },
  {
   "cell_type": "code",
   "execution_count": 50,
   "id": "90032e27-66df-4540-9169-4e89cfbaa758",
   "metadata": {
    "execution": {
     "iopub.execute_input": "2025-07-23T14:31:34.281498Z",
     "iopub.status.busy": "2025-07-23T14:31:34.280753Z",
     "iopub.status.idle": "2025-07-23T14:31:34.294545Z",
     "shell.execute_reply": "2025-07-23T14:31:34.293329Z"
    },
    "papermill": {
     "duration": 0.041363,
     "end_time": "2025-07-23T14:31:34.296759",
     "exception": false,
     "start_time": "2025-07-23T14:31:34.255396",
     "status": "completed"
    },
    "tags": []
   },
   "outputs": [],
   "source": [
    "subgroups = ['frau1','nongerman','nongerman_male','nongerman_female']\n",
    "\n",
    "# Conditional coverage for subgroup==1\n",
    "cond_coverage = {\n",
    "    g: cp_groups_df.loc[cp_groups_df[g]==1, 'covered'].mean()\n",
    "    for g in subgroups\n",
    "}"
   ]
  },
  {
   "cell_type": "code",
   "execution_count": 51,
   "id": "1e348fb1-b9c3-45bc-ba23-f016827a7e0d",
   "metadata": {
    "execution": {
     "iopub.execute_input": "2025-07-23T14:31:34.346971Z",
     "iopub.status.busy": "2025-07-23T14:31:34.346327Z",
     "iopub.status.idle": "2025-07-23T14:31:34.354509Z",
     "shell.execute_reply": "2025-07-23T14:31:34.353476Z"
    },
    "papermill": {
     "duration": 0.035967,
     "end_time": "2025-07-23T14:31:34.356411",
     "exception": false,
     "start_time": "2025-07-23T14:31:34.320444",
     "status": "completed"
    },
    "tags": []
   },
   "outputs": [
    {
     "data": {
      "text/plain": [
       "{'frau1': 0.9146246124814665,\n",
       " 'nongerman': 0.9096165721663954,\n",
       " 'nongerman_male': 0.9253354949112852,\n",
       " 'nongerman_female': 0.8836065573770492}"
      ]
     },
     "execution_count": 51,
     "metadata": {},
     "output_type": "execute_result"
    }
   ],
   "source": [
    "cond_coverage"
   ]
  },
  {
   "cell_type": "code",
   "execution_count": 52,
   "id": "f5093324-c3dd-4d63-bc4c-8d945e5c8bbb",
   "metadata": {
    "execution": {
     "iopub.execute_input": "2025-07-23T14:31:34.404500Z",
     "iopub.status.busy": "2025-07-23T14:31:34.403942Z",
     "iopub.status.idle": "2025-07-23T14:31:34.411979Z",
     "shell.execute_reply": "2025-07-23T14:31:34.410882Z"
    },
    "papermill": {
     "duration": 0.033112,
     "end_time": "2025-07-23T14:31:34.413657",
     "exception": false,
     "start_time": "2025-07-23T14:31:34.380545",
     "status": "completed"
    },
    "tags": []
   },
   "outputs": [],
   "source": [
    "for subgroup, cov in cond_coverage.items():\n",
    "    cp_metrics_df[f\"cov_{subgroup}\"] = cov"
   ]
  },
  {
   "cell_type": "code",
   "execution_count": 53,
   "id": "6e872e10-dbe5-49e8-b554-5030c98ff75d",
   "metadata": {
    "execution": {
     "iopub.execute_input": "2025-07-23T14:31:34.462645Z",
     "iopub.status.busy": "2025-07-23T14:31:34.462125Z",
     "iopub.status.idle": "2025-07-23T14:31:34.482809Z",
     "shell.execute_reply": "2025-07-23T14:31:34.481696Z"
    },
    "papermill": {
     "duration": 0.046611,
     "end_time": "2025-07-23T14:31:34.484735",
     "exception": false,
     "start_time": "2025-07-23T14:31:34.438124",
     "status": "completed"
    },
    "tags": []
   },
   "outputs": [
    {
     "data": {
      "text/html": [
       "<div>\n",
       "<style scoped>\n",
       "    .dataframe tbody tr th:only-of-type {\n",
       "        vertical-align: middle;\n",
       "    }\n",
       "\n",
       "    .dataframe tbody tr th {\n",
       "        vertical-align: top;\n",
       "    }\n",
       "\n",
       "    .dataframe thead th {\n",
       "        text-align: right;\n",
       "    }\n",
       "</style>\n",
       "<table border=\"1\" class=\"dataframe\">\n",
       "  <thead>\n",
       "    <tr style=\"text-align: right;\">\n",
       "      <th></th>\n",
       "      <th>universe_id</th>\n",
       "      <th>universe_model</th>\n",
       "      <th>universe_exclude_features</th>\n",
       "      <th>universe_exclude_subgroups</th>\n",
       "      <th>universe_scale</th>\n",
       "      <th>q_hat</th>\n",
       "      <th>coverage</th>\n",
       "      <th>avg_size</th>\n",
       "      <th>cov_frau1</th>\n",
       "      <th>cov_nongerman</th>\n",
       "      <th>cov_nongerman_male</th>\n",
       "      <th>cov_nongerman_female</th>\n",
       "    </tr>\n",
       "  </thead>\n",
       "  <tbody>\n",
       "    <tr>\n",
       "      <th>0</th>\n",
       "      <td>f568879a02f507d41630c6d266d8d88e</td>\n",
       "      <td>gbm</td>\n",
       "      <td>nationality</td>\n",
       "      <td>drop-non-german</td>\n",
       "      <td>scale</td>\n",
       "      <td>0.65875</td>\n",
       "      <td>0.911481</td>\n",
       "      <td>1.110723</td>\n",
       "      <td>0.914625</td>\n",
       "      <td>0.909617</td>\n",
       "      <td>0.925335</td>\n",
       "      <td>0.883607</td>\n",
       "    </tr>\n",
       "  </tbody>\n",
       "</table>\n",
       "</div>"
      ],
      "text/plain": [
       "                        universe_id universe_model universe_exclude_features  \\\n",
       "0  f568879a02f507d41630c6d266d8d88e            gbm               nationality   \n",
       "\n",
       "  universe_exclude_subgroups universe_scale    q_hat  coverage  avg_size  \\\n",
       "0            drop-non-german          scale  0.65875  0.911481  1.110723   \n",
       "\n",
       "   cov_frau1  cov_nongerman  cov_nongerman_male  cov_nongerman_female  \n",
       "0   0.914625       0.909617            0.925335              0.883607  "
      ]
     },
     "execution_count": 53,
     "metadata": {},
     "output_type": "execute_result"
    }
   ],
   "source": [
    "cp_metrics_df"
   ]
  },
  {
   "cell_type": "markdown",
   "id": "33774451",
   "metadata": {
    "papermill": {
     "duration": 0.0242,
     "end_time": "2025-07-23T14:31:34.551819",
     "exception": false,
     "start_time": "2025-07-23T14:31:34.527619",
     "status": "completed"
    },
    "tags": []
   },
   "source": [
    "# (Fairness) Metrics"
   ]
  },
  {
   "cell_type": "code",
   "execution_count": 54,
   "id": "debc5d62",
   "metadata": {
    "execution": {
     "iopub.execute_input": "2025-07-23T14:31:34.601495Z",
     "iopub.status.busy": "2025-07-23T14:31:34.600985Z",
     "iopub.status.idle": "2025-07-23T14:31:34.626972Z",
     "shell.execute_reply": "2025-07-23T14:31:34.625619Z"
    },
    "papermill": {
     "duration": 0.052551,
     "end_time": "2025-07-23T14:31:34.629137",
     "exception": false,
     "start_time": "2025-07-23T14:31:34.576586",
     "status": "completed"
    },
    "tags": []
   },
   "outputs": [],
   "source": [
    "# do I need to include maxdeutsch1.missing?\n",
    "\n",
    "import numpy as np\n",
    "\n",
    "colname_to_bin = \"maxdeutsch1\"\n",
    "majority_value = org_train[colname_to_bin].mode()[0]\n",
    "\n",
    "org_test[\"majmin\"] = np.where(org_test[colname_to_bin] == majority_value, \"majority\", \"minority\")"
   ]
  },
  {
   "cell_type": "code",
   "execution_count": 55,
   "id": "06a50de5",
   "metadata": {
    "execution": {
     "iopub.execute_input": "2025-07-23T14:31:34.679160Z",
     "iopub.status.busy": "2025-07-23T14:31:34.678029Z",
     "iopub.status.idle": "2025-07-23T14:31:37.871541Z",
     "shell.execute_reply": "2025-07-23T14:31:37.870243Z"
    },
    "papermill": {
     "duration": 3.220918,
     "end_time": "2025-07-23T14:31:37.873830",
     "exception": false,
     "start_time": "2025-07-23T14:31:34.652912",
     "status": "completed"
    },
    "tags": []
   },
   "outputs": [],
   "source": [
    "example_universe = universe.copy()\n",
    "example_universe[\"cutoff\"] = example_universe[\"cutoff\"][0]\n",
    "example_universe[\"eval_fairness_grouping\"] = example_universe[\"eval_fairness_grouping\"][0]\n",
    "fairness_dict, metric_frame = universe_analysis.compute_metrics(\n",
    "    example_universe,\n",
    "    y_pred_prob=probs_test,\n",
    "    y_test=y_true,\n",
    "    org_test=org_test,\n",
    ")"
   ]
  },
  {
   "cell_type": "markdown",
   "id": "f95d4e02",
   "metadata": {
    "papermill": {
     "duration": 0.023865,
     "end_time": "2025-07-23T14:31:37.925463",
     "exception": false,
     "start_time": "2025-07-23T14:31:37.901598",
     "status": "completed"
    },
    "tags": []
   },
   "source": [
    "# Overall"
   ]
  },
  {
   "cell_type": "markdown",
   "id": "bdee4871",
   "metadata": {
    "papermill": {
     "duration": 0.023744,
     "end_time": "2025-07-23T14:31:37.973021",
     "exception": false,
     "start_time": "2025-07-23T14:31:37.949277",
     "status": "completed"
    },
    "tags": []
   },
   "source": [
    "Fairness\n",
    "Main fairness target: Equalized Odds. Seems to be a better fit than equal opportunity, since we're not only interested in Y = 1. Seems to be a better fit than demographic parity, since we also care about accuracy, not just equal distribution of preds.\n",
    "\n",
    "Pick column for computation of fairness metrics\n",
    "\n",
    "Performance\n",
    "Overall performance measures, most interesting in relation to the measures split by group below"
   ]
  },
  {
   "cell_type": "code",
   "execution_count": 56,
   "id": "c4e067c6",
   "metadata": {
    "execution": {
     "iopub.execute_input": "2025-07-23T14:31:38.023091Z",
     "iopub.status.busy": "2025-07-23T14:31:38.022490Z",
     "iopub.status.idle": "2025-07-23T14:31:38.033707Z",
     "shell.execute_reply": "2025-07-23T14:31:38.032350Z"
    },
    "papermill": {
     "duration": 0.038744,
     "end_time": "2025-07-23T14:31:38.035604",
     "exception": false,
     "start_time": "2025-07-23T14:31:37.996860",
     "status": "completed"
    },
    "tags": []
   },
   "outputs": [
    {
     "data": {
      "text/plain": [
       "accuracy                   0.225560\n",
       "balanced accuracy          0.551277\n",
       "f1                         0.246859\n",
       "precision                  0.141022\n",
       "false positive rate        0.886844\n",
       "false negative rate        0.010601\n",
       "selection rate             0.900000\n",
       "count                  89710.000000\n",
       "dtype: float64"
      ]
     },
     "execution_count": 56,
     "metadata": {},
     "output_type": "execute_result"
    }
   ],
   "source": [
    "metric_frame.overall"
   ]
  },
  {
   "cell_type": "markdown",
   "id": "e968fe9d",
   "metadata": {
    "papermill": {
     "duration": 0.024435,
     "end_time": "2025-07-23T14:31:38.084543",
     "exception": false,
     "start_time": "2025-07-23T14:31:38.060108",
     "status": "completed"
    },
    "tags": []
   },
   "source": [
    "By Group"
   ]
  },
  {
   "cell_type": "code",
   "execution_count": 57,
   "id": "ec325bce",
   "metadata": {
    "execution": {
     "iopub.execute_input": "2025-07-23T14:31:38.135686Z",
     "iopub.status.busy": "2025-07-23T14:31:38.134889Z",
     "iopub.status.idle": "2025-07-23T14:31:38.152808Z",
     "shell.execute_reply": "2025-07-23T14:31:38.151700Z"
    },
    "papermill": {
     "duration": 0.045725,
     "end_time": "2025-07-23T14:31:38.154661",
     "exception": false,
     "start_time": "2025-07-23T14:31:38.108936",
     "status": "completed"
    },
    "tags": []
   },
   "outputs": [
    {
     "data": {
      "text/html": [
       "<div>\n",
       "<style scoped>\n",
       "    .dataframe tbody tr th:only-of-type {\n",
       "        vertical-align: middle;\n",
       "    }\n",
       "\n",
       "    .dataframe tbody tr th {\n",
       "        vertical-align: top;\n",
       "    }\n",
       "\n",
       "    .dataframe thead th {\n",
       "        text-align: right;\n",
       "    }\n",
       "</style>\n",
       "<table border=\"1\" class=\"dataframe\">\n",
       "  <thead>\n",
       "    <tr style=\"text-align: right;\">\n",
       "      <th></th>\n",
       "      <th>accuracy</th>\n",
       "      <th>balanced accuracy</th>\n",
       "      <th>f1</th>\n",
       "      <th>precision</th>\n",
       "      <th>false positive rate</th>\n",
       "      <th>false negative rate</th>\n",
       "      <th>selection rate</th>\n",
       "      <th>count</th>\n",
       "    </tr>\n",
       "    <tr>\n",
       "      <th>majmin</th>\n",
       "      <th></th>\n",
       "      <th></th>\n",
       "      <th></th>\n",
       "      <th></th>\n",
       "      <th></th>\n",
       "      <th></th>\n",
       "      <th></th>\n",
       "      <th></th>\n",
       "    </tr>\n",
       "  </thead>\n",
       "  <tbody>\n",
       "    <tr>\n",
       "      <th>majority</th>\n",
       "      <td>0.244846</td>\n",
       "      <td>0.560204</td>\n",
       "      <td>0.257090</td>\n",
       "      <td>0.147752</td>\n",
       "      <td>0.868432</td>\n",
       "      <td>0.011160</td>\n",
       "      <td>0.884343</td>\n",
       "      <td>69170.0</td>\n",
       "    </tr>\n",
       "    <tr>\n",
       "      <th>minority</th>\n",
       "      <td>0.160613</td>\n",
       "      <td>0.521944</td>\n",
       "      <td>0.214068</td>\n",
       "      <td>0.119986</td>\n",
       "      <td>0.947667</td>\n",
       "      <td>0.008446</td>\n",
       "      <td>0.952726</td>\n",
       "      <td>20540.0</td>\n",
       "    </tr>\n",
       "  </tbody>\n",
       "</table>\n",
       "</div>"
      ],
      "text/plain": [
       "          accuracy  balanced accuracy        f1  precision  \\\n",
       "majmin                                                       \n",
       "majority  0.244846           0.560204  0.257090   0.147752   \n",
       "minority  0.160613           0.521944  0.214068   0.119986   \n",
       "\n",
       "          false positive rate  false negative rate  selection rate    count  \n",
       "majmin                                                                       \n",
       "majority             0.868432             0.011160        0.884343  69170.0  \n",
       "minority             0.947667             0.008446        0.952726  20540.0  "
      ]
     },
     "execution_count": 57,
     "metadata": {},
     "output_type": "execute_result"
    }
   ],
   "source": [
    "metric_frame.by_group"
   ]
  },
  {
   "cell_type": "code",
   "execution_count": 58,
   "id": "a9ddbe63",
   "metadata": {
    "execution": {
     "iopub.execute_input": "2025-07-23T14:31:38.206556Z",
     "iopub.status.busy": "2025-07-23T14:31:38.205782Z",
     "iopub.status.idle": "2025-07-23T14:31:40.892683Z",
     "shell.execute_reply": "2025-07-23T14:31:40.891627Z"
    },
    "papermill": {
     "duration": 2.714483,
     "end_time": "2025-07-23T14:31:40.894492",
     "exception": false,
     "start_time": "2025-07-23T14:31:38.180009",
     "status": "completed"
    },
    "tags": []
   },
   "outputs": [
    {
     "data": {
      "text/plain": [
       "array([[<Axes: title={'center': 'accuracy'}, xlabel='majmin'>,\n",
       "        <Axes: title={'center': 'balanced accuracy'}, xlabel='majmin'>,\n",
       "        <Axes: title={'center': 'f1'}, xlabel='majmin'>],\n",
       "       [<Axes: title={'center': 'precision'}, xlabel='majmin'>,\n",
       "        <Axes: title={'center': 'false positive rate'}, xlabel='majmin'>,\n",
       "        <Axes: title={'center': 'false negative rate'}, xlabel='majmin'>],\n",
       "       [<Axes: title={'center': 'selection rate'}, xlabel='majmin'>,\n",
       "        <Axes: title={'center': 'count'}, xlabel='majmin'>,\n",
       "        <Axes: xlabel='majmin'>]], dtype=object)"
      ]
     },
     "execution_count": 58,
     "metadata": {},
     "output_type": "execute_result"
    },
    {
     "data": {
      "image/png": "[encoded data removed]",
      "text/plain": [
       "<Figure size 1200x800 with 9 Axes>"
      ]
     },
     "metadata": {},
     "output_type": "display_data"
    }
   ],
   "source": [
    "# In a graphic\n",
    "metric_frame.by_group.plot.bar(\n",
    "    subplots=True,\n",
    "    layout=[3, 3],\n",
    "    legend=False,\n",
    "    figsize=[12, 8],\n",
    "    title=\"Show all metrics\",\n",
    ")"
   ]
  },
  {
   "cell_type": "markdown",
   "id": "f57a0bac",
   "metadata": {
    "papermill": {
     "duration": 0.026784,
     "end_time": "2025-07-23T14:31:40.948122",
     "exception": false,
     "start_time": "2025-07-23T14:31:40.921338",
     "status": "completed"
    },
    "tags": []
   },
   "source": [
    "# Final Output"
   ]
  },
  {
   "cell_type": "code",
   "execution_count": 59,
   "id": "96d280a3",
   "metadata": {
    "execution": {
     "iopub.execute_input": "2025-07-23T14:31:41.001944Z",
     "iopub.status.busy": "2025-07-23T14:31:41.001251Z",
     "iopub.status.idle": "2025-07-23T14:31:41.010332Z",
     "shell.execute_reply": "2025-07-23T14:31:41.009244Z"
    },
    "papermill": {
     "duration": 0.038222,
     "end_time": "2025-07-23T14:31:41.012101",
     "exception": false,
     "start_time": "2025-07-23T14:31:40.973879",
     "status": "completed"
    },
    "tags": []
   },
   "outputs": [
    {
     "data": {
      "text/plain": [
       "4"
      ]
     },
     "execution_count": 59,
     "metadata": {},
     "output_type": "execute_result"
    }
   ],
   "source": [
    "sub_universes = universe_analysis.generate_sub_universes()\n",
    "len(sub_universes)"
   ]
  },
  {
   "cell_type": "code",
   "execution_count": 60,
   "id": "92adf7ba",
   "metadata": {
    "execution": {
     "iopub.execute_input": "2025-07-23T14:31:41.067348Z",
     "iopub.status.busy": "2025-07-23T14:31:41.066306Z",
     "iopub.status.idle": "2025-07-23T14:31:41.073204Z",
     "shell.execute_reply": "2025-07-23T14:31:41.072191Z"
    },
    "papermill": {
     "duration": 0.036721,
     "end_time": "2025-07-23T14:31:41.074973",
     "exception": false,
     "start_time": "2025-07-23T14:31:41.038252",
     "status": "completed"
    },
    "tags": []
   },
   "outputs": [],
   "source": [
    "def filter_sub_universe_data(sub_universe, org_test):\n",
    "    # Keep all rows — no filtering\n",
    "    keep_rows_mask = np.ones(org_test.shape[0], dtype=bool)\n",
    "\n",
    "    print(f\"[INFO] Keeping all rows: {keep_rows_mask.sum()} rows retained.\")\n",
    "    return keep_rows_mask"
   ]
  },
  {
   "cell_type": "code",
   "execution_count": 61,
   "id": "4a759155",
   "metadata": {
    "execution": {
     "iopub.execute_input": "2025-07-23T14:31:41.130208Z",
     "iopub.status.busy": "2025-07-23T14:31:41.129456Z",
     "iopub.status.idle": "2025-07-23T14:31:53.309145Z",
     "shell.execute_reply": "2025-07-23T14:31:53.307984Z"
    },
    "papermill": {
     "duration": 12.209037,
     "end_time": "2025-07-23T14:31:53.311063",
     "exception": false,
     "start_time": "2025-07-23T14:31:41.102026",
     "status": "completed"
    },
    "tags": []
   },
   "outputs": [
    {
     "name": "stdout",
     "output_type": "stream",
     "text": [
      "Stopping execution_time clock.\n",
      "[INFO] Keeping all rows: 89710 rows retained.\n"
     ]
    },
    {
     "name": "stdout",
     "output_type": "stream",
     "text": [
      "[INFO] Keeping all rows: 89710 rows retained.\n"
     ]
    },
    {
     "name": "stdout",
     "output_type": "stream",
     "text": [
      "[INFO] Keeping all rows: 89710 rows retained.\n"
     ]
    },
    {
     "name": "stdout",
     "output_type": "stream",
     "text": [
      "[INFO] Keeping all rows: 89710 rows retained.\n"
     ]
    },
    {
     "data": {
      "text/html": [
       "<div>\n",
       "<style scoped>\n",
       "    .dataframe tbody tr th:only-of-type {\n",
       "        vertical-align: middle;\n",
       "    }\n",
       "\n",
       "    .dataframe tbody tr th {\n",
       "        vertical-align: top;\n",
       "    }\n",
       "\n",
       "    .dataframe thead th {\n",
       "        text-align: right;\n",
       "    }\n",
       "</style>\n",
       "<table border=\"1\" class=\"dataframe\">\n",
       "  <thead>\n",
       "    <tr style=\"text-align: right;\">\n",
       "      <th></th>\n",
       "      <th>run_no</th>\n",
       "      <th>universe_id</th>\n",
       "      <th>universe_settings</th>\n",
       "      <th>execution_time</th>\n",
       "      <th>test_size_n</th>\n",
       "      <th>test_size_frac</th>\n",
       "      <th>fair_main_equalized_odds_difference</th>\n",
       "      <th>fair_main_equalized_odds_ratio</th>\n",
       "      <th>fair_main_demographic_parity_difference</th>\n",
       "      <th>fair_main_demographic_parity_ratio</th>\n",
       "      <th>...</th>\n",
       "      <th>perf_grp_precision_0</th>\n",
       "      <th>perf_grp_precision_1</th>\n",
       "      <th>perf_grp_false positive rate_0</th>\n",
       "      <th>perf_grp_false positive rate_1</th>\n",
       "      <th>perf_grp_false negative rate_0</th>\n",
       "      <th>perf_grp_false negative rate_1</th>\n",
       "      <th>perf_grp_selection rate_0</th>\n",
       "      <th>perf_grp_selection rate_1</th>\n",
       "      <th>perf_grp_count_0</th>\n",
       "      <th>perf_grp_count_1</th>\n",
       "    </tr>\n",
       "  </thead>\n",
       "  <tbody>\n",
       "    <tr>\n",
       "      <th>0</th>\n",
       "      <td>9</td>\n",
       "      <td>f568879a02f507d41630c6d266d8d88e</td>\n",
       "      <td>{\"cutoff\": \"quantile_0.1\", \"eval_fairness_grou...</td>\n",
       "      <td>113.107955</td>\n",
       "      <td>89710</td>\n",
       "      <td>1.0</td>\n",
       "      <td>0.079234</td>\n",
       "      <td>0.916390</td>\n",
       "      <td>0.068383</td>\n",
       "      <td>0.928223</td>\n",
       "      <td>...</td>\n",
       "      <td>NaN</td>\n",
       "      <td>NaN</td>\n",
       "      <td>NaN</td>\n",
       "      <td>NaN</td>\n",
       "      <td>NaN</td>\n",
       "      <td>NaN</td>\n",
       "      <td>NaN</td>\n",
       "      <td>NaN</td>\n",
       "      <td>NaN</td>\n",
       "      <td>NaN</td>\n",
       "    </tr>\n",
       "    <tr>\n",
       "      <th>0</th>\n",
       "      <td>9</td>\n",
       "      <td>f568879a02f507d41630c6d266d8d88e</td>\n",
       "      <td>{\"cutoff\": \"quantile_0.1\", \"eval_fairness_grou...</td>\n",
       "      <td>113.107955</td>\n",
       "      <td>89710</td>\n",
       "      <td>1.0</td>\n",
       "      <td>0.079234</td>\n",
       "      <td>0.916390</td>\n",
       "      <td>0.068383</td>\n",
       "      <td>0.928223</td>\n",
       "      <td>...</td>\n",
       "      <td>0.119986</td>\n",
       "      <td>0.147752</td>\n",
       "      <td>0.947667</td>\n",
       "      <td>0.868432</td>\n",
       "      <td>0.008446</td>\n",
       "      <td>0.011160</td>\n",
       "      <td>0.952726</td>\n",
       "      <td>0.884343</td>\n",
       "      <td>20540.0</td>\n",
       "      <td>69170.0</td>\n",
       "    </tr>\n",
       "    <tr>\n",
       "      <th>0</th>\n",
       "      <td>9</td>\n",
       "      <td>f568879a02f507d41630c6d266d8d88e</td>\n",
       "      <td>{\"cutoff\": \"quantile_0.25\", \"eval_fairness_gro...</td>\n",
       "      <td>113.107955</td>\n",
       "      <td>89710</td>\n",
       "      <td>1.0</td>\n",
       "      <td>0.082567</td>\n",
       "      <td>0.894649</td>\n",
       "      <td>0.066370</td>\n",
       "      <td>0.917158</td>\n",
       "      <td>...</td>\n",
       "      <td>NaN</td>\n",
       "      <td>NaN</td>\n",
       "      <td>NaN</td>\n",
       "      <td>NaN</td>\n",
       "      <td>NaN</td>\n",
       "      <td>NaN</td>\n",
       "      <td>NaN</td>\n",
       "      <td>NaN</td>\n",
       "      <td>NaN</td>\n",
       "      <td>NaN</td>\n",
       "    </tr>\n",
       "    <tr>\n",
       "      <th>0</th>\n",
       "      <td>9</td>\n",
       "      <td>f568879a02f507d41630c6d266d8d88e</td>\n",
       "      <td>{\"cutoff\": \"quantile_0.25\", \"eval_fairness_gro...</td>\n",
       "      <td>113.107955</td>\n",
       "      <td>89710</td>\n",
       "      <td>1.0</td>\n",
       "      <td>0.082567</td>\n",
       "      <td>0.894649</td>\n",
       "      <td>0.066370</td>\n",
       "      <td>0.917158</td>\n",
       "      <td>...</td>\n",
       "      <td>0.134541</td>\n",
       "      <td>0.171861</td>\n",
       "      <td>0.783733</td>\n",
       "      <td>0.701166</td>\n",
       "      <td>0.065034</td>\n",
       "      <td>0.044311</td>\n",
       "      <td>0.801168</td>\n",
       "      <td>0.734798</td>\n",
       "      <td>20540.0</td>\n",
       "      <td>69170.0</td>\n",
       "    </tr>\n",
       "  </tbody>\n",
       "</table>\n",
       "<p>4 rows × 50 columns</p>\n",
       "</div>"
      ],
      "text/plain": [
       "  run_no                       universe_id  \\\n",
       "0      9  f568879a02f507d41630c6d266d8d88e   \n",
       "0      9  f568879a02f507d41630c6d266d8d88e   \n",
       "0      9  f568879a02f507d41630c6d266d8d88e   \n",
       "0      9  f568879a02f507d41630c6d266d8d88e   \n",
       "\n",
       "                                   universe_settings  execution_time  \\\n",
       "0  {\"cutoff\": \"quantile_0.1\", \"eval_fairness_grou...      113.107955   \n",
       "0  {\"cutoff\": \"quantile_0.1\", \"eval_fairness_grou...      113.107955   \n",
       "0  {\"cutoff\": \"quantile_0.25\", \"eval_fairness_gro...      113.107955   \n",
       "0  {\"cutoff\": \"quantile_0.25\", \"eval_fairness_gro...      113.107955   \n",
       "\n",
       "   test_size_n  test_size_frac  fair_main_equalized_odds_difference  \\\n",
       "0        89710             1.0                             0.079234   \n",
       "0        89710             1.0                             0.079234   \n",
       "0        89710             1.0                             0.082567   \n",
       "0        89710             1.0                             0.082567   \n",
       "\n",
       "   fair_main_equalized_odds_ratio  fair_main_demographic_parity_difference  \\\n",
       "0                        0.916390                                 0.068383   \n",
       "0                        0.916390                                 0.068383   \n",
       "0                        0.894649                                 0.066370   \n",
       "0                        0.894649                                 0.066370   \n",
       "\n",
       "   fair_main_demographic_parity_ratio  ...  perf_grp_precision_0  \\\n",
       "0                            0.928223  ...                   NaN   \n",
       "0                            0.928223  ...              0.119986   \n",
       "0                            0.917158  ...                   NaN   \n",
       "0                            0.917158  ...              0.134541   \n",
       "\n",
       "   perf_grp_precision_1  perf_grp_false positive rate_0  \\\n",
       "0                   NaN                             NaN   \n",
       "0              0.147752                        0.947667   \n",
       "0                   NaN                             NaN   \n",
       "0              0.171861                        0.783733   \n",
       "\n",
       "   perf_grp_false positive rate_1  perf_grp_false negative rate_0  \\\n",
       "0                             NaN                             NaN   \n",
       "0                        0.868432                        0.008446   \n",
       "0                             NaN                             NaN   \n",
       "0                        0.701166                        0.065034   \n",
       "\n",
       "   perf_grp_false negative rate_1  perf_grp_selection rate_0  \\\n",
       "0                             NaN                        NaN   \n",
       "0                        0.011160                   0.952726   \n",
       "0                             NaN                        NaN   \n",
       "0                        0.044311                   0.801168   \n",
       "\n",
       "   perf_grp_selection rate_1  perf_grp_count_0  perf_grp_count_1  \n",
       "0                        NaN               NaN               NaN  \n",
       "0                   0.884343           20540.0           69170.0  \n",
       "0                        NaN               NaN               NaN  \n",
       "0                   0.734798           20540.0           69170.0  \n",
       "\n",
       "[4 rows x 50 columns]"
      ]
     },
     "execution_count": 61,
     "metadata": {},
     "output_type": "execute_result"
    }
   ],
   "source": [
    "final_output = universe_analysis.generate_final_output(\n",
    "    y_pred_prob=probs_test,\n",
    "    y_test=y_true,\n",
    "    org_test=org_test,\n",
    "    filter_data=filter_sub_universe_data,\n",
    "    cp_metrics_df=cp_metrics_df,\n",
    "    save=True,\n",
    ")\n",
    "final_output"
   ]
  },
  {
   "cell_type": "code",
   "execution_count": null,
   "id": "721ff514-cb11-46f8-b6fc-50392f74b5cb",
   "metadata": {
    "papermill": {
     "duration": 0.028502,
     "end_time": "2025-07-23T14:31:53.369836",
     "exception": false,
     "start_time": "2025-07-23T14:31:53.341334",
     "status": "completed"
    },
    "tags": []
   },
   "outputs": [],
   "source": []
  }
 ],
 "metadata": {
  "celltoolbar": "Tags",
  "kernelspec": {
   "display_name": "Python (CMA Fairness)",
   "language": "python",
   "name": "cma_fair_env"
  },
  "language_info": {
   "codemirror_mode": {
    "name": "ipython",
    "version": 3
   },
   "file_extension": ".py",
   "mimetype": "text/x-python",
   "name": "python",
   "nbconvert_exporter": "python",
   "pygments_lexer": "ipython3",
   "version": "3.10.12"
  },
  "papermill": {
   "default_parameters": {},
   "duration": 134.005943,
   "end_time": "2025-07-23T14:31:54.219166",
   "environment_variables": {},
   "exception": null,
   "input_path": "universe_analysis.ipynb",
   "output_path": "output/runs/9/notebooks/m_9-f568879a02f507d41630c6d266d8d88e.ipynb",
   "parameters": {
    "output_dir": "output",
    "run_no": "9",
    "seed": "2023",
    "universe": "{\"cutoff\": [\"quantile_0.1\", \"quantile_0.25\"], \"eval_fairness_grouping\": [\"majority-minority\", \"nationality-all\"], \"exclude_features\": \"nationality\", \"exclude_subgroups\": \"drop-non-german\", \"model\": \"gbm\", \"scale\": \"scale\"}",
    "universe_id": "f568879a02f507d41630c6d266d8d88e"
   },
   "start_time": "2025-07-23T14:29:40.213223",
   "version": "2.6.0"
  }
 },
 "nbformat": 4,
 "nbformat_minor": 5
}