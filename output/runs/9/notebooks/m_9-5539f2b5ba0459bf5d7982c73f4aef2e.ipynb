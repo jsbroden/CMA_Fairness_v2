{
 "cells": [
  {
   "cell_type": "code",
   "execution_count": 1,
   "id": "f159f837-637b-42ba-96b5-ec9a68c44524",
   "metadata": {
    "execution": {
     "iopub.execute_input": "2025-07-23T14:40:00.145998Z",
     "iopub.status.busy": "2025-07-23T14:40:00.145554Z",
     "iopub.status.idle": "2025-07-23T14:40:00.161552Z",
     "shell.execute_reply": "2025-07-23T14:40:00.160474Z"
    },
    "papermill": {
     "duration": 0.036397,
     "end_time": "2025-07-23T14:40:00.163570",
     "exception": false,
     "start_time": "2025-07-23T14:40:00.127173",
     "status": "completed"
    },
    "tags": []
   },
   "outputs": [
    {
     "name": "stdout",
     "output_type": "stream",
     "text": [
      "/dss/dsshome1/0C/ra93lal2/cma/CMA_Fairness_v2\n"
     ]
    },
    {
     "name": "stderr",
     "output_type": "stream",
     "text": [
      "/dss/dsshome1/0C/ra93lal2/.local/share/virtualenvs/CMA_Fairness_v2-3j10GkSs/lib/python3.10/site-packages/IPython/core/magics/osm.py:393: UserWarning: This is now an optional IPython functionality, using bookmarks requires you to install the `pickleshare` library.\n",
      "  bkms = self.shell.db.get('bookmarks', {})\n",
      "/dss/dsshome1/0C/ra93lal2/.local/share/virtualenvs/CMA_Fairness_v2-3j10GkSs/lib/python3.10/site-packages/IPython/core/magics/osm.py:417: UserWarning: This is now an optional IPython functionality, setting dhist requires you to install the `pickleshare` library.\n",
      "  self.shell.db['dhist'] = compress_dhist(dhist)[-100:]\n"
     ]
    }
   ],
   "source": [
    "%cd ~/cma/CMA_Fairness_v2"
   ]
  },
  {
   "cell_type": "markdown",
   "id": "de2603b9",
   "metadata": {
    "papermill": {
     "duration": 0.016556,
     "end_time": "2025-07-23T14:40:00.197423",
     "exception": false,
     "start_time": "2025-07-23T14:40:00.180867",
     "status": "completed"
    },
    "tags": []
   },
   "source": [
    "The following cell holds the definition of our parameters, these values can be overriden by rendering the with e.g. the following command:\n",
    "\n",
    "papermill -p alpha 0.2 -p ratio 0.3 universe_analysis.ipynb output/test_run.ipynb"
   ]
  },
  {
   "cell_type": "code",
   "execution_count": 2,
   "id": "a80968a0-40bb-4fa9-85ef-2d5eefb01975",
   "metadata": {
    "execution": {
     "iopub.execute_input": "2025-07-23T14:40:00.230573Z",
     "iopub.status.busy": "2025-07-23T14:40:00.230025Z",
     "iopub.status.idle": "2025-07-23T14:40:00.235807Z",
     "shell.execute_reply": "2025-07-23T14:40:00.234754Z"
    },
    "papermill": {
     "duration": 0.024663,
     "end_time": "2025-07-23T14:40:00.237736",
     "exception": false,
     "start_time": "2025-07-23T14:40:00.213073",
     "status": "completed"
    },
    "tags": []
   },
   "outputs": [
    {
     "name": "stdout",
     "output_type": "stream",
     "text": [
      "Current working directory: /dss/dsshome1/0C/ra93lal2/cma/CMA_Fairness_v2\n"
     ]
    }
   ],
   "source": [
    "import os\n",
    "print(\"Current working directory:\", os.getcwd())"
   ]
  },
  {
   "cell_type": "code",
   "execution_count": 3,
   "id": "2dce4c03",
   "metadata": {
    "execution": {
     "iopub.execute_input": "2025-07-23T14:40:00.272782Z",
     "iopub.status.busy": "2025-07-23T14:40:00.272331Z",
     "iopub.status.idle": "2025-07-23T14:40:00.280491Z",
     "shell.execute_reply": "2025-07-23T14:40:00.279530Z"
    },
    "papermill": {
     "duration": 0.027497,
     "end_time": "2025-07-23T14:40:00.282127",
     "exception": false,
     "start_time": "2025-07-23T14:40:00.254630",
     "status": "completed"
    },
    "tags": [
     "parameters"
    ]
   },
   "outputs": [],
   "source": [
    "run_no = 0\n",
    "universe_id = \"test\"\n",
    "universe = {\n",
    "    \"scale\": \"scale\", # \"scale\", \"do-not-scale\",\n",
    "    \"model\": \"elasticnet\", # \"logreg\", \"penalized_logreg\", \"rf\", \"gbm\", \"elasticnet\"\n",
    "    \"cutoff\": [\"quantile_0.15\", \"quantile_0.30\"],\n",
    "    \"exclude_features\": \"age\", # \"none\", \"nationality\", \"sex\", \"nationality-sex\", \"age\"\n",
    "    \"exclude_subgroups\": \"keep-all\", # \"keep-all\", \"drop-non-german\"\n",
    "    #\"training_sample\": \"restricted\", # \"restricted\", \"full\"\n",
    "    \"eval_fairness_grouping\": [\"majority-minority\", \"nationality-all\"]\n",
    "}\n",
    "\n",
    "output_dir=\"./output\"\n",
    "seed=0"
   ]
  },
  {
   "cell_type": "code",
   "execution_count": 4,
   "id": "aa655f32",
   "metadata": {
    "execution": {
     "iopub.execute_input": "2025-07-23T14:40:00.318035Z",
     "iopub.status.busy": "2025-07-23T14:40:00.317542Z",
     "iopub.status.idle": "2025-07-23T14:40:00.323197Z",
     "shell.execute_reply": "2025-07-23T14:40:00.322182Z"
    },
    "papermill": {
     "duration": 0.025435,
     "end_time": "2025-07-23T14:40:00.324834",
     "exception": false,
     "start_time": "2025-07-23T14:40:00.299399",
     "status": "completed"
    },
    "tags": [
     "injected-parameters"
    ]
   },
   "outputs": [],
   "source": [
    "# Parameters\n",
    "universe_id = \"5539f2b5ba0459bf5d7982c73f4aef2e\"\n",
    "run_no = \"9\"\n",
    "universe = \"{\\\"cutoff\\\": [\\\"quantile_0.1\\\", \\\"quantile_0.25\\\"], \\\"eval_fairness_grouping\\\": [\\\"majority-minority\\\", \\\"nationality-all\\\"], \\\"exclude_features\\\": \\\"age\\\", \\\"exclude_subgroups\\\": \\\"drop-non-german\\\", \\\"model\\\": \\\"gbm\\\", \\\"scale\\\": \\\"do-not-scale\\\"}\"\n",
    "output_dir = \"output\"\n",
    "seed = \"2023\"\n"
   ]
  },
  {
   "cell_type": "code",
   "execution_count": 5,
   "id": "1650acaf",
   "metadata": {
    "execution": {
     "iopub.execute_input": "2025-07-23T14:40:00.361014Z",
     "iopub.status.busy": "2025-07-23T14:40:00.360494Z",
     "iopub.status.idle": "2025-07-23T14:40:00.366290Z",
     "shell.execute_reply": "2025-07-23T14:40:00.365328Z"
    },
    "papermill": {
     "duration": 0.025932,
     "end_time": "2025-07-23T14:40:00.368267",
     "exception": false,
     "start_time": "2025-07-23T14:40:00.342335",
     "status": "completed"
    },
    "tags": []
   },
   "outputs": [],
   "source": [
    "import json\n",
    "# Parse universe into dict if it is passed as a string\n",
    "if isinstance(universe, str):\n",
    "    universe = json.loads(universe)"
   ]
  },
  {
   "cell_type": "code",
   "execution_count": 6,
   "id": "16620c48",
   "metadata": {
    "execution": {
     "iopub.execute_input": "2025-07-23T14:40:00.404102Z",
     "iopub.status.busy": "2025-07-23T14:40:00.403566Z",
     "iopub.status.idle": "2025-07-23T14:40:00.452842Z",
     "shell.execute_reply": "2025-07-23T14:40:00.451824Z"
    },
    "papermill": {
     "duration": 0.069766,
     "end_time": "2025-07-23T14:40:00.454936",
     "exception": false,
     "start_time": "2025-07-23T14:40:00.385170",
     "status": "completed"
    },
    "tags": []
   },
   "outputs": [],
   "source": [
    "# Auto-reload the custom package\n",
    "%load_ext autoreload\n",
    "%autoreload 1\n",
    "%aimport fairness_multiverse"
   ]
  },
  {
   "cell_type": "code",
   "execution_count": 7,
   "id": "01c5c9f3",
   "metadata": {
    "execution": {
     "iopub.execute_input": "2025-07-23T14:40:00.494336Z",
     "iopub.status.busy": "2025-07-23T14:40:00.493845Z",
     "iopub.status.idle": "2025-07-23T14:40:02.651767Z",
     "shell.execute_reply": "2025-07-23T14:40:02.650877Z"
    },
    "papermill": {
     "duration": 2.180189,
     "end_time": "2025-07-23T14:40:02.653736",
     "exception": false,
     "start_time": "2025-07-23T14:40:00.473547",
     "status": "completed"
    },
    "tags": []
   },
   "outputs": [],
   "source": [
    "from fairness_multiverse.universe import UniverseAnalysis\n",
    "\n",
    "universe_analysis = UniverseAnalysis(\n",
    "    run_no = run_no,\n",
    "    universe_id = universe_id,\n",
    "    universe = universe,\n",
    "    output_dir=output_dir,\n",
    ")"
   ]
  },
  {
   "cell_type": "code",
   "execution_count": 8,
   "id": "106241f5",
   "metadata": {
    "execution": {
     "iopub.execute_input": "2025-07-23T14:40:02.691540Z",
     "iopub.status.busy": "2025-07-23T14:40:02.691133Z",
     "iopub.status.idle": "2025-07-23T14:40:02.697324Z",
     "shell.execute_reply": "2025-07-23T14:40:02.696481Z"
    },
    "papermill": {
     "duration": 0.026783,
     "end_time": "2025-07-23T14:40:02.698654",
     "exception": false,
     "start_time": "2025-07-23T14:40:02.671871",
     "status": "completed"
    },
    "tags": []
   },
   "outputs": [
    {
     "name": "stdout",
     "output_type": "stream",
     "text": [
      "Using Seed: 2023\n"
     ]
    }
   ],
   "source": [
    "import numpy as np\n",
    "parsed_seed = int(seed)\n",
    "np.random.seed(parsed_seed)\n",
    "print(f\"Using Seed: {parsed_seed}\")"
   ]
  },
  {
   "cell_type": "markdown",
   "id": "e0ebdc57",
   "metadata": {
    "papermill": {
     "duration": 0.00907,
     "end_time": "2025-07-23T14:40:02.717716",
     "exception": false,
     "start_time": "2025-07-23T14:40:02.708646",
     "status": "completed"
    },
    "tags": []
   },
   "source": [
    "# Loading Data"
   ]
  },
  {
   "cell_type": "markdown",
   "id": "681925a3",
   "metadata": {
    "papermill": {
     "duration": 0.009117,
     "end_time": "2025-07-23T14:40:02.735896",
     "exception": false,
     "start_time": "2025-07-23T14:40:02.726779",
     "status": "completed"
    },
    "tags": []
   },
   "source": [
    "Load siab_train, siab_test, siab_calib and/or \n",
    "load siab_train_features, siab_train_labels"
   ]
  },
  {
   "cell_type": "code",
   "execution_count": 9,
   "id": "f0496b8a",
   "metadata": {
    "execution": {
     "iopub.execute_input": "2025-07-23T14:40:02.769772Z",
     "iopub.status.busy": "2025-07-23T14:40:02.769334Z",
     "iopub.status.idle": "2025-07-23T14:40:02.775694Z",
     "shell.execute_reply": "2025-07-23T14:40:02.774817Z"
    },
    "papermill": {
     "duration": 0.032246,
     "end_time": "2025-07-23T14:40:02.777672",
     "exception": false,
     "start_time": "2025-07-23T14:40:02.745426",
     "status": "completed"
    },
    "tags": []
   },
   "outputs": [],
   "source": [
    "# Do I need to load siab? Delete this cell?\n",
    "\n",
    "#from pathlib import Path\n",
    "#import pandas as pd\n",
    "#\n",
    "## File paths\n",
    "#raw_file = Path(\"data/raw/siab.csv\")\n",
    "#cache_file = Path(\"data/siab_cached.csv.gz\")\n",
    "#\n",
    "## Ensure cache directory exists\n",
    "#cache_file.parent.mkdir(parents=True, exist_ok=True)\n",
    "#\n",
    "## Load with simple caching\n",
    "#if cache_file.exists():\n",
    "#    print(f\"Loading SIAB data from cache: {cache_file}\")\n",
    "#    siab = pd.read_csv(cache_file, compression='gzip')\n",
    "#else:\n",
    "#    print(f\"Cache not found. Reading raw SIAB data: {raw_file}\")\n",
    "#    siab = pd.read_csv(raw_file)\n",
    "#    siab.to_csv(cache_file, index=False, compression='gzip')\n",
    "#    print(f\"Cached SIAB data to: {cache_file}\")\n",
    "#\n",
    "## Now use `siab` DataFrame as needed\n",
    "#print(siab.shape)\n"
   ]
  },
  {
   "cell_type": "code",
   "execution_count": 10,
   "id": "a0edb063",
   "metadata": {
    "execution": {
     "iopub.execute_input": "2025-07-23T14:40:02.818673Z",
     "iopub.status.busy": "2025-07-23T14:40:02.818157Z",
     "iopub.status.idle": "2025-07-23T14:40:04.144108Z",
     "shell.execute_reply": "2025-07-23T14:40:04.143095Z"
    },
    "papermill": {
     "duration": 1.348286,
     "end_time": "2025-07-23T14:40:04.146068",
     "exception": false,
     "start_time": "2025-07-23T14:40:02.797782",
     "status": "completed"
    },
    "tags": []
   },
   "outputs": [],
   "source": [
    "import pandas as pd\n",
    "\n",
    "X_train = pd.read_csv(\"./data/X_train.csv\")\n",
    "y_train = pd.read_csv(\"./data/y_train.csv\")"
   ]
  },
  {
   "cell_type": "code",
   "execution_count": 11,
   "id": "63d08085",
   "metadata": {
    "execution": {
     "iopub.execute_input": "2025-07-23T14:40:04.183339Z",
     "iopub.status.busy": "2025-07-23T14:40:04.182841Z",
     "iopub.status.idle": "2025-07-23T14:40:05.788400Z",
     "shell.execute_reply": "2025-07-23T14:40:05.787624Z"
    },
    "papermill": {
     "duration": 1.626326,
     "end_time": "2025-07-23T14:40:05.789961",
     "exception": false,
     "start_time": "2025-07-23T14:40:04.163635",
     "status": "completed"
    },
    "tags": []
   },
   "outputs": [],
   "source": [
    "X_test = pd.read_csv(\"./data/X_test.csv\")\n",
    "y_true = pd.read_csv(\"./data/y_test.csv\")"
   ]
  },
  {
   "cell_type": "code",
   "execution_count": 12,
   "id": "98a8d0fa-1d3d-4ed8-bb2c-281470e24add",
   "metadata": {
    "execution": {
     "iopub.execute_input": "2025-07-23T14:40:05.810434Z",
     "iopub.status.busy": "2025-07-23T14:40:05.809757Z",
     "iopub.status.idle": "2025-07-23T14:40:06.995882Z",
     "shell.execute_reply": "2025-07-23T14:40:06.994976Z"
    },
    "papermill": {
     "duration": 1.19791,
     "end_time": "2025-07-23T14:40:06.997580",
     "exception": false,
     "start_time": "2025-07-23T14:40:05.799670",
     "status": "completed"
    },
    "tags": []
   },
   "outputs": [],
   "source": [
    "# Calibration data for conformal\n",
    "X_calib = pd.read_csv(\"./data/X_calib.csv\")\n",
    "y_calib = pd.read_csv(\"./data/y_calib.csv\")"
   ]
  },
  {
   "cell_type": "code",
   "execution_count": 13,
   "id": "e6c733c5",
   "metadata": {
    "execution": {
     "iopub.execute_input": "2025-07-23T14:40:07.021201Z",
     "iopub.status.busy": "2025-07-23T14:40:07.020660Z",
     "iopub.status.idle": "2025-07-23T14:40:07.120929Z",
     "shell.execute_reply": "2025-07-23T14:40:07.120120Z"
    },
    "papermill": {
     "duration": 0.112949,
     "end_time": "2025-07-23T14:40:07.122486",
     "exception": false,
     "start_time": "2025-07-23T14:40:07.009537",
     "status": "completed"
    },
    "tags": []
   },
   "outputs": [],
   "source": [
    "# Auxiliary data needed downstream in the pipeline\n",
    "\n",
    "org_train = X_train.copy()\n",
    "org_test = X_test.copy()\n",
    "org_calib = X_calib.copy()"
   ]
  },
  {
   "cell_type": "markdown",
   "id": "0a4a1b33",
   "metadata": {
    "papermill": {
     "duration": 0.009683,
     "end_time": "2025-07-23T14:40:07.142014",
     "exception": false,
     "start_time": "2025-07-23T14:40:07.132331",
     "status": "completed"
    },
    "tags": []
   },
   "source": [
    "# Preprocessing Data"
   ]
  },
  {
   "cell_type": "code",
   "execution_count": 14,
   "id": "ca879031",
   "metadata": {
    "execution": {
     "iopub.execute_input": "2025-07-23T14:40:07.163692Z",
     "iopub.status.busy": "2025-07-23T14:40:07.163215Z",
     "iopub.status.idle": "2025-07-23T14:40:07.171827Z",
     "shell.execute_reply": "2025-07-23T14:40:07.169660Z"
    },
    "papermill": {
     "duration": 0.022262,
     "end_time": "2025-07-23T14:40:07.173805",
     "exception": false,
     "start_time": "2025-07-23T14:40:07.151543",
     "status": "completed"
    },
    "tags": []
   },
   "outputs": [],
   "source": [
    "# EXCLUDE PROTECTED FEATURES\n",
    "# ----------------------\n",
    "# \"exclude_features\": \"none\", # \"nationality\", \"sex\", \"nationality-sex\"\n",
    "\n",
    "excluded_features = universe[\"exclude_features\"].split(\"-\") # split, e.g.: \"nationality-sex\" -> [\"nationality\", \"sex\"]\n",
    "excluded_features_dictionary = {\n",
    "    \"nationality\": [\"maxdeutsch1\", \"maxdeutsch.Missing.\"],\n",
    "    \"sex\": [\"frau1\"],\n",
    "    \"age\": [\"age\"],\n",
    "}\n"
   ]
  },
  {
   "cell_type": "code",
   "execution_count": 15,
   "id": "b745ac60",
   "metadata": {
    "execution": {
     "iopub.execute_input": "2025-07-23T14:40:07.214449Z",
     "iopub.status.busy": "2025-07-23T14:40:07.213435Z",
     "iopub.status.idle": "2025-07-23T14:40:07.219919Z",
     "shell.execute_reply": "2025-07-23T14:40:07.218842Z"
    },
    "papermill": {
     "duration": 0.02774,
     "end_time": "2025-07-23T14:40:07.221838",
     "exception": false,
     "start_time": "2025-07-23T14:40:07.194098",
     "status": "completed"
    },
    "tags": []
   },
   "outputs": [],
   "source": [
    "# Code nice names to column names\n",
    "\n",
    "excluded_features_columns = [\n",
    "    excluded_features_dictionary[f] for f in excluded_features if len(f) > 0 and f != \"none\"\n",
    "]"
   ]
  },
  {
   "cell_type": "code",
   "execution_count": 16,
   "id": "f84f73a2",
   "metadata": {
    "execution": {
     "iopub.execute_input": "2025-07-23T14:40:07.262831Z",
     "iopub.status.busy": "2025-07-23T14:40:07.261864Z",
     "iopub.status.idle": "2025-07-23T14:40:07.269209Z",
     "shell.execute_reply": "2025-07-23T14:40:07.267924Z"
    },
    "papermill": {
     "duration": 0.03109,
     "end_time": "2025-07-23T14:40:07.271425",
     "exception": false,
     "start_time": "2025-07-23T14:40:07.240335",
     "status": "completed"
    },
    "tags": []
   },
   "outputs": [],
   "source": [
    "from utils import flatten_once\n",
    "\n",
    "excluded_features_columns = flatten_once(excluded_features_columns)"
   ]
  },
  {
   "cell_type": "code",
   "execution_count": 17,
   "id": "884dea22",
   "metadata": {
    "execution": {
     "iopub.execute_input": "2025-07-23T14:40:07.314063Z",
     "iopub.status.busy": "2025-07-23T14:40:07.312888Z",
     "iopub.status.idle": "2025-07-23T14:40:07.364328Z",
     "shell.execute_reply": "2025-07-23T14:40:07.363256Z"
    },
    "papermill": {
     "duration": 0.074295,
     "end_time": "2025-07-23T14:40:07.366472",
     "exception": false,
     "start_time": "2025-07-23T14:40:07.292177",
     "status": "completed"
    },
    "tags": []
   },
   "outputs": [
    {
     "name": "stdout",
     "output_type": "stream",
     "text": [
      "Dropping features: ['age']\n"
     ]
    }
   ],
   "source": [
    "if len(excluded_features_columns) > 0:\n",
    "    print(f\"Dropping features: {excluded_features_columns}\")\n",
    "    X_train.drop(excluded_features_columns, axis=1, inplace=True)"
   ]
  },
  {
   "cell_type": "code",
   "execution_count": 18,
   "id": "95ab8b16",
   "metadata": {
    "execution": {
     "iopub.execute_input": "2025-07-23T14:40:07.408873Z",
     "iopub.status.busy": "2025-07-23T14:40:07.407824Z",
     "iopub.status.idle": "2025-07-23T14:40:07.466908Z",
     "shell.execute_reply": "2025-07-23T14:40:07.465792Z"
    },
    "papermill": {
     "duration": 0.081269,
     "end_time": "2025-07-23T14:40:07.469306",
     "exception": false,
     "start_time": "2025-07-23T14:40:07.388037",
     "status": "completed"
    },
    "tags": []
   },
   "outputs": [
    {
     "name": "stdout",
     "output_type": "stream",
     "text": [
      "Dropping features: ['age']\n"
     ]
    }
   ],
   "source": [
    "if len(excluded_features_columns) > 0:\n",
    "    print(f\"Dropping features: {excluded_features_columns}\")\n",
    "    X_test.drop(excluded_features_columns, axis=1, inplace=True)"
   ]
  },
  {
   "cell_type": "code",
   "execution_count": 19,
   "id": "1853aaf5-fb9f-46cb-a2b5-8ea4ae2237e4",
   "metadata": {
    "execution": {
     "iopub.execute_input": "2025-07-23T14:40:07.512235Z",
     "iopub.status.busy": "2025-07-23T14:40:07.511109Z",
     "iopub.status.idle": "2025-07-23T14:40:07.573186Z",
     "shell.execute_reply": "2025-07-23T14:40:07.572143Z"
    },
    "papermill": {
     "duration": 0.084965,
     "end_time": "2025-07-23T14:40:07.575324",
     "exception": false,
     "start_time": "2025-07-23T14:40:07.490359",
     "status": "completed"
    },
    "tags": []
   },
   "outputs": [
    {
     "name": "stdout",
     "output_type": "stream",
     "text": [
      "Dropping features: ['age']\n"
     ]
    }
   ],
   "source": [
    "if len(excluded_features_columns) > 0:\n",
    "    print(f\"Dropping features: {excluded_features_columns}\")\n",
    "    X_calib.drop(excluded_features_columns, axis=1, inplace=True)"
   ]
  },
  {
   "cell_type": "code",
   "execution_count": 20,
   "id": "76c4dc6d",
   "metadata": {
    "execution": {
     "iopub.execute_input": "2025-07-23T14:40:07.615962Z",
     "iopub.status.busy": "2025-07-23T14:40:07.615601Z",
     "iopub.status.idle": "2025-07-23T14:40:07.620301Z",
     "shell.execute_reply": "2025-07-23T14:40:07.619389Z"
    },
    "papermill": {
     "duration": 0.026781,
     "end_time": "2025-07-23T14:40:07.622103",
     "exception": false,
     "start_time": "2025-07-23T14:40:07.595322",
     "status": "completed"
    },
    "tags": []
   },
   "outputs": [],
   "source": [
    "# EXCLUDE CERTAIN SUBGROUPS\n",
    "# ----------------------\n",
    "\n",
    "mode = universe.get(\"exclude_subgroups\", \"keep-all\") \n",
    "# Fetches the exclude_subgroups setting from the universe dict.\n",
    "# Defaults to \"keep-all\" if the key is missing."
   ]
  },
  {
   "cell_type": "code",
   "execution_count": 21,
   "id": "21994072",
   "metadata": {
    "execution": {
     "iopub.execute_input": "2025-07-23T14:40:07.664035Z",
     "iopub.status.busy": "2025-07-23T14:40:07.663493Z",
     "iopub.status.idle": "2025-07-23T14:40:07.670898Z",
     "shell.execute_reply": "2025-07-23T14:40:07.669824Z"
    },
    "papermill": {
     "duration": 0.0305,
     "end_time": "2025-07-23T14:40:07.672773",
     "exception": false,
     "start_time": "2025-07-23T14:40:07.642273",
     "status": "completed"
    },
    "tags": []
   },
   "outputs": [],
   "source": [
    "if mode == \"keep-all\":\n",
    "    keep_mask = pd.Series(True, index=org_train.index)\n",
    "\n",
    "# org_train contains the original feature columns from features_org (in Simson)\n",
    "# features_org contains unprocessed features, for me X_train at beginning ???\n",
    "# For keep-all, creates a boolean Series (keep_mask) of all True, so no rows are removed.\n",
    "\n",
    "elif mode == \"drop-non-german\":\n",
    "    keep_mask = org_train[\"maxdeutsch1\"] == 1 # ??? what about missing values?\n",
    "\n",
    "else:\n",
    "    raise ValueError(f\"Unsupported mode for exclude_subgroups: {mode}\")\n"
   ]
  },
  {
   "cell_type": "code",
   "execution_count": 22,
   "id": "71651440",
   "metadata": {
    "execution": {
     "iopub.execute_input": "2025-07-23T14:40:07.714078Z",
     "iopub.status.busy": "2025-07-23T14:40:07.713224Z",
     "iopub.status.idle": "2025-07-23T14:40:07.721664Z",
     "shell.execute_reply": "2025-07-23T14:40:07.720462Z"
    },
    "papermill": {
     "duration": 0.030842,
     "end_time": "2025-07-23T14:40:07.723415",
     "exception": false,
     "start_time": "2025-07-23T14:40:07.692573",
     "status": "completed"
    },
    "tags": []
   },
   "outputs": [
    {
     "name": "stdout",
     "output_type": "stream",
     "text": [
      "Dropping 10036 rows (13.38%) where mode='drop-non-german'\n"
     ]
    }
   ],
   "source": [
    "n_drop = (~keep_mask).sum() # Calculates how many rows are set to be dropped\n",
    "if n_drop > 0:\n",
    "    pct = n_drop / len(keep_mask) * 100\n",
    "    print(f\"Dropping {n_drop} rows ({pct:.2f}%) where mode='{mode}'\")"
   ]
  },
  {
   "cell_type": "code",
   "execution_count": 23,
   "id": "5fb8eee5",
   "metadata": {
    "execution": {
     "iopub.execute_input": "2025-07-23T14:40:07.768302Z",
     "iopub.status.busy": "2025-07-23T14:40:07.767250Z",
     "iopub.status.idle": "2025-07-23T14:40:07.818175Z",
     "shell.execute_reply": "2025-07-23T14:40:07.816942Z"
    },
    "papermill": {
     "duration": 0.074381,
     "end_time": "2025-07-23T14:40:07.820471",
     "exception": false,
     "start_time": "2025-07-23T14:40:07.746090",
     "status": "completed"
    },
    "tags": []
   },
   "outputs": [],
   "source": [
    "X_train = X_train[keep_mask]"
   ]
  },
  {
   "cell_type": "code",
   "execution_count": 24,
   "id": "b202bb3a",
   "metadata": {
    "execution": {
     "iopub.execute_input": "2025-07-23T14:40:07.863325Z",
     "iopub.status.busy": "2025-07-23T14:40:07.862333Z",
     "iopub.status.idle": "2025-07-23T14:40:07.871416Z",
     "shell.execute_reply": "2025-07-23T14:40:07.870228Z"
    },
    "papermill": {
     "duration": 0.032385,
     "end_time": "2025-07-23T14:40:07.873346",
     "exception": false,
     "start_time": "2025-07-23T14:40:07.840961",
     "status": "completed"
    },
    "tags": []
   },
   "outputs": [],
   "source": [
    "y_train = y_train[keep_mask]"
   ]
  },
  {
   "cell_type": "markdown",
   "id": "493e2ac3",
   "metadata": {
    "papermill": {
     "duration": 0.020781,
     "end_time": "2025-07-23T14:40:07.915063",
     "exception": false,
     "start_time": "2025-07-23T14:40:07.894282",
     "status": "completed"
    },
    "tags": []
   },
   "source": [
    "# Model Training"
   ]
  },
  {
   "cell_type": "code",
   "execution_count": 25,
   "id": "679e1268",
   "metadata": {
    "execution": {
     "iopub.execute_input": "2025-07-23T14:40:07.956951Z",
     "iopub.status.busy": "2025-07-23T14:40:07.955878Z",
     "iopub.status.idle": "2025-07-23T14:40:08.071761Z",
     "shell.execute_reply": "2025-07-23T14:40:08.070612Z"
    },
    "papermill": {
     "duration": 0.138829,
     "end_time": "2025-07-23T14:40:08.073990",
     "exception": false,
     "start_time": "2025-07-23T14:40:07.935161",
     "status": "completed"
    },
    "tags": []
   },
   "outputs": [],
   "source": [
    "from sklearn.linear_model import LogisticRegression\n",
    "from sklearn.ensemble import GradientBoostingClassifier, RandomForestClassifier\n",
    "\n",
    "if (universe[\"model\"] == \"logreg\"):\n",
    "    model = LogisticRegression() #penalty=\"none\") #, solver=\"newton-cg\", max_iter=1) # include random_state=19 ?\n",
    "elif (universe[\"model\"] == \"penalized_logreg\"):\n",
    "    model = LogisticRegression(penalty=\"l2\", C=1.0) #, solver=\"newton-cg\", max_iter=1)\n",
    "elif (universe[\"model\"] == \"rf\"):\n",
    "    model = RandomForestClassifier(n_estimators=100, n_jobs=-1)\n",
    "elif (universe[\"model\"] == \"gbm\"):\n",
    "    model = GradientBoostingClassifier()\n",
    "elif (universe[\"model\"] == \"elasticnet\"):\n",
    "    model = LogisticRegression(penalty = 'elasticnet', solver = 'saga', l1_ratio = 0.5, max_iter=5000) # which solver to use?\n",
    "else:\n",
    "    raise \"Unsupported universe.model\""
   ]
  },
  {
   "cell_type": "code",
   "execution_count": 26,
   "id": "0cc8f744",
   "metadata": {
    "execution": {
     "iopub.execute_input": "2025-07-23T14:40:08.110763Z",
     "iopub.status.busy": "2025-07-23T14:40:08.110309Z",
     "iopub.status.idle": "2025-07-23T14:40:08.117493Z",
     "shell.execute_reply": "2025-07-23T14:40:08.116677Z"
    },
    "papermill": {
     "duration": 0.024594,
     "end_time": "2025-07-23T14:40:08.118982",
     "exception": false,
     "start_time": "2025-07-23T14:40:08.094388",
     "status": "completed"
    },
    "tags": []
   },
   "outputs": [],
   "source": [
    "import numpy as np\n",
    "from sklearn.pipeline import Pipeline\n",
    "from sklearn.preprocessing import StandardScaler\n",
    "\n",
    "model = Pipeline([\n",
    "    #(\"continuous_processor\", continuous_processor),\n",
    "    #(\"categorical_preprocessor\", categorical_preprocessor),\n",
    "    (\"scale\", StandardScaler() if universe[\"scale\"] == \"scale\" else None), \n",
    "    (\"model\", model),\n",
    "])"
   ]
  },
  {
   "cell_type": "code",
   "execution_count": 27,
   "id": "9442c04d",
   "metadata": {
    "execution": {
     "iopub.execute_input": "2025-07-23T14:40:08.141456Z",
     "iopub.status.busy": "2025-07-23T14:40:08.140704Z",
     "iopub.status.idle": "2025-07-23T14:41:29.314768Z",
     "shell.execute_reply": "2025-07-23T14:41:29.313525Z"
    },
    "papermill": {
     "duration": 81.197307,
     "end_time": "2025-07-23T14:41:29.327139",
     "exception": false,
     "start_time": "2025-07-23T14:40:08.129832",
     "status": "completed"
    },
    "tags": []
   },
   "outputs": [
    {
     "data": {
      "text/html": [
       "<style>#sk-container-id-1 {color: black;background-color: white;}#sk-container-id-1 pre{padding: 0;}#sk-container-id-1 div.sk-toggleable {background-color: white;}#sk-container-id-1 label.sk-toggleable__label {cursor: pointer;display: block;width: 100%;margin-bottom: 0;padding: 0.3em;box-sizing: border-box;text-align: center;}#sk-container-id-1 label.sk-toggleable__label-arrow:before {content: \"▸\";float: left;margin-right: 0.25em;color: #696969;}#sk-container-id-1 label.sk-toggleable__label-arrow:hover:before {color: black;}#sk-container-id-1 div.sk-estimator:hover label.sk-toggleable__label-arrow:before {color: black;}#sk-container-id-1 div.sk-toggleable__content {max-height: 0;max-width: 0;overflow: hidden;text-align: left;background-color: #f0f8ff;}#sk-container-id-1 div.sk-toggleable__content pre {margin: 0.2em;color: black;border-radius: 0.25em;background-color: #f0f8ff;}#sk-container-id-1 input.sk-toggleable__control:checked~div.sk-toggleable__content {max-height: 200px;max-width: 100%;overflow: auto;}#sk-container-id-1 input.sk-toggleable__control:checked~label.sk-toggleable__label-arrow:before {content: \"▾\";}#sk-container-id-1 div.sk-estimator input.sk-toggleable__control:checked~label.sk-toggleable__label {background-color: #d4ebff;}#sk-container-id-1 div.sk-label input.sk-toggleable__control:checked~label.sk-toggleable__label {background-color: #d4ebff;}#sk-container-id-1 input.sk-hidden--visually {border: 0;clip: rect(1px 1px 1px 1px);clip: rect(1px, 1px, 1px, 1px);height: 1px;margin: -1px;overflow: hidden;padding: 0;position: absolute;width: 1px;}#sk-container-id-1 div.sk-estimator {font-family: monospace;background-color: #f0f8ff;border: 1px dotted black;border-radius: 0.25em;box-sizing: border-box;margin-bottom: 0.5em;}#sk-container-id-1 div.sk-estimator:hover {background-color: #d4ebff;}#sk-container-id-1 div.sk-parallel-item::after {content: \"\";width: 100%;border-bottom: 1px solid gray;flex-grow: 1;}#sk-container-id-1 div.sk-label:hover label.sk-toggleable__label {background-color: #d4ebff;}#sk-container-id-1 div.sk-serial::before {content: \"\";position: absolute;border-left: 1px solid gray;box-sizing: border-box;top: 0;bottom: 0;left: 50%;z-index: 0;}#sk-container-id-1 div.sk-serial {display: flex;flex-direction: column;align-items: center;background-color: white;padding-right: 0.2em;padding-left: 0.2em;position: relative;}#sk-container-id-1 div.sk-item {position: relative;z-index: 1;}#sk-container-id-1 div.sk-parallel {display: flex;align-items: stretch;justify-content: center;background-color: white;position: relative;}#sk-container-id-1 div.sk-item::before, #sk-container-id-1 div.sk-parallel-item::before {content: \"\";position: absolute;border-left: 1px solid gray;box-sizing: border-box;top: 0;bottom: 0;left: 50%;z-index: -1;}#sk-container-id-1 div.sk-parallel-item {display: flex;flex-direction: column;z-index: 1;position: relative;background-color: white;}#sk-container-id-1 div.sk-parallel-item:first-child::after {align-self: flex-end;width: 50%;}#sk-container-id-1 div.sk-parallel-item:last-child::after {align-self: flex-start;width: 50%;}#sk-container-id-1 div.sk-parallel-item:only-child::after {width: 0;}#sk-container-id-1 div.sk-dashed-wrapped {border: 1px dashed gray;margin: 0 0.4em 0.5em 0.4em;box-sizing: border-box;padding-bottom: 0.4em;background-color: white;}#sk-container-id-1 div.sk-label label {font-family: monospace;font-weight: bold;display: inline-block;line-height: 1.2em;}#sk-container-id-1 div.sk-label-container {text-align: center;}#sk-container-id-1 div.sk-container {/* jupyter's `normalize.less` sets `[hidden] { display: none; }` but bootstrap.min.css set `[hidden] { display: none !important; }` so we also need the `!important` here to be able to override the default hidden behavior on the sphinx rendered scikit-learn.org. See: https://github.com/scikit-learn/scikit-learn/issues/21755 */display: inline-block !important;position: relative;}#sk-container-id-1 div.sk-text-repr-fallback {display: none;}</style><div id=\"sk-container-id-1\" class=\"sk-top-container\"><div class=\"sk-text-repr-fallback\"><pre>Pipeline(steps=[(&#x27;scale&#x27;, None), (&#x27;model&#x27;, GradientBoostingClassifier())])</pre><b>In a Jupyter environment, please rerun this cell to show the HTML representation or trust the notebook. <br />On GitHub, the HTML representation is unable to render, please try loading this page with nbviewer.org.</b></div><div class=\"sk-container\" hidden><div class=\"sk-item sk-dashed-wrapped\"><div class=\"sk-label-container\"><div class=\"sk-label sk-toggleable\"><input class=\"sk-toggleable__control sk-hidden--visually\" id=\"sk-estimator-id-1\" type=\"checkbox\" ><label for=\"sk-estimator-id-1\" class=\"sk-toggleable__label sk-toggleable__label-arrow\">Pipeline</label><div class=\"sk-toggleable__content\"><pre>Pipeline(steps=[(&#x27;scale&#x27;, None), (&#x27;model&#x27;, GradientBoostingClassifier())])</pre></div></div></div><div class=\"sk-serial\"><div class=\"sk-item\"><div class=\"sk-estimator sk-toggleable\"><input class=\"sk-toggleable__control sk-hidden--visually\" id=\"sk-estimator-id-2\" type=\"checkbox\" ><label for=\"sk-estimator-id-2\" class=\"sk-toggleable__label sk-toggleable__label-arrow\">None</label><div class=\"sk-toggleable__content\"><pre>None</pre></div></div></div><div class=\"sk-item\"><div class=\"sk-estimator sk-toggleable\"><input class=\"sk-toggleable__control sk-hidden--visually\" id=\"sk-estimator-id-3\" type=\"checkbox\" ><label for=\"sk-estimator-id-3\" class=\"sk-toggleable__label sk-toggleable__label-arrow\">GradientBoostingClassifier</label><div class=\"sk-toggleable__content\"><pre>GradientBoostingClassifier()</pre></div></div></div></div></div></div></div>"
      ],
      "text/plain": [
       "Pipeline(steps=[('scale', None), ('model', GradientBoostingClassifier())])"
      ]
     },
     "execution_count": 27,
     "metadata": {},
     "output_type": "execute_result"
    }
   ],
   "source": [
    "model.fit(X_train, y_train.values.ravel())"
   ]
  },
  {
   "cell_type": "code",
   "execution_count": 28,
   "id": "af59f8c0",
   "metadata": {
    "execution": {
     "iopub.execute_input": "2025-07-23T14:41:29.373702Z",
     "iopub.status.busy": "2025-07-23T14:41:29.372941Z",
     "iopub.status.idle": "2025-07-23T14:41:29.379327Z",
     "shell.execute_reply": "2025-07-23T14:41:29.378343Z"
    },
    "papermill": {
     "duration": 0.031928,
     "end_time": "2025-07-23T14:41:29.381294",
     "exception": false,
     "start_time": "2025-07-23T14:41:29.349366",
     "status": "completed"
    },
    "tags": []
   },
   "outputs": [],
   "source": [
    "from fairness_multiverse.universe import predict_w_threshold"
   ]
  },
  {
   "cell_type": "code",
   "execution_count": 29,
   "id": "a7cf2e16",
   "metadata": {
    "execution": {
     "iopub.execute_input": "2025-07-23T14:41:29.428433Z",
     "iopub.status.busy": "2025-07-23T14:41:29.427748Z",
     "iopub.status.idle": "2025-07-23T14:41:30.079673Z",
     "shell.execute_reply": "2025-07-23T14:41:30.078815Z"
    },
    "papermill": {
     "duration": 0.677228,
     "end_time": "2025-07-23T14:41:30.081395",
     "exception": false,
     "start_time": "2025-07-23T14:41:29.404167",
     "status": "completed"
    },
    "tags": []
   },
   "outputs": [
    {
     "data": {
      "text/plain": [
       "0.8698026975810946"
      ]
     },
     "execution_count": 29,
     "metadata": {},
     "output_type": "execute_result"
    }
   ],
   "source": [
    "probs_test = model.predict_proba(X_test)\n",
    "\n",
    "'''\n",
    "Below code returns a boolean array (or binary 0/1 array depending on how it’s used) where each element \n",
    "is True if the probability of class 1 is greater than or equal to the threshold, and False otherwise.\n",
    "'''\n",
    "y_pred_default = predict_w_threshold(probs_test, 0.5)\n",
    "\n",
    "from sklearn.metrics import accuracy_score\n",
    "\n",
    "# Naive prediction\n",
    "accuracy_score(y_true = y_true, y_pred = y_pred_default)"
   ]
  },
  {
   "cell_type": "code",
   "execution_count": 30,
   "id": "081964c3",
   "metadata": {
    "execution": {
     "iopub.execute_input": "2025-07-23T14:41:30.121711Z",
     "iopub.status.busy": "2025-07-23T14:41:30.121223Z",
     "iopub.status.idle": "2025-07-23T14:41:30.758796Z",
     "shell.execute_reply": "2025-07-23T14:41:30.757894Z"
    },
    "papermill": {
     "duration": 0.659519,
     "end_time": "2025-07-23T14:41:30.760410",
     "exception": false,
     "start_time": "2025-07-23T14:41:30.100891",
     "status": "completed"
    },
    "tags": []
   },
   "outputs": [
    {
     "data": {
      "text/plain": [
       "array([0, 0, 0, ..., 0, 0, 0])"
      ]
     },
     "execution_count": 30,
     "metadata": {},
     "output_type": "execute_result"
    }
   ],
   "source": [
    "model.predict(X_test)"
   ]
  },
  {
   "cell_type": "markdown",
   "id": "56c9705b",
   "metadata": {
    "papermill": {
     "duration": 0.018772,
     "end_time": "2025-07-23T14:41:30.799425",
     "exception": false,
     "start_time": "2025-07-23T14:41:30.780653",
     "status": "completed"
    },
    "tags": []
   },
   "source": [
    "# Conformal Prediction"
   ]
  },
  {
   "cell_type": "code",
   "execution_count": 31,
   "id": "160ec6ff",
   "metadata": {
    "execution": {
     "iopub.execute_input": "2025-07-23T14:41:30.838822Z",
     "iopub.status.busy": "2025-07-23T14:41:30.838129Z",
     "iopub.status.idle": "2025-07-23T14:41:30.843493Z",
     "shell.execute_reply": "2025-07-23T14:41:30.842558Z"
    },
    "papermill": {
     "duration": 0.027035,
     "end_time": "2025-07-23T14:41:30.845202",
     "exception": false,
     "start_time": "2025-07-23T14:41:30.818167",
     "status": "completed"
    },
    "tags": []
   },
   "outputs": [],
   "source": [
    "# Miscoverage level for conformal prediction (10% allowed error rate => 90% target coverage)\n",
    "alpha = 0.1"
   ]
  },
  {
   "cell_type": "code",
   "execution_count": 32,
   "id": "eadf4555-3dd3-440e-8e35-f82a4ad9f855",
   "metadata": {
    "execution": {
     "iopub.execute_input": "2025-07-23T14:41:30.886370Z",
     "iopub.status.busy": "2025-07-23T14:41:30.885406Z",
     "iopub.status.idle": "2025-07-23T14:41:31.494696Z",
     "shell.execute_reply": "2025-07-23T14:41:31.493754Z"
    },
    "papermill": {
     "duration": 0.631555,
     "end_time": "2025-07-23T14:41:31.496599",
     "exception": false,
     "start_time": "2025-07-23T14:41:30.865044",
     "status": "completed"
    },
    "tags": []
   },
   "outputs": [],
   "source": [
    "probs_calib = model.predict_proba(X_calib)"
   ]
  },
  {
   "cell_type": "code",
   "execution_count": 33,
   "id": "2ed93547-6d5d-4983-9b36-1ecb300da49a",
   "metadata": {
    "execution": {
     "iopub.execute_input": "2025-07-23T14:41:31.538566Z",
     "iopub.status.busy": "2025-07-23T14:41:31.537606Z",
     "iopub.status.idle": "2025-07-23T14:41:31.543684Z",
     "shell.execute_reply": "2025-07-23T14:41:31.542803Z"
    },
    "papermill": {
     "duration": 0.029252,
     "end_time": "2025-07-23T14:41:31.545511",
     "exception": false,
     "start_time": "2025-07-23T14:41:31.516259",
     "status": "completed"
    },
    "tags": []
   },
   "outputs": [],
   "source": [
    "y_calib = y_calib.values.ravel().astype(int)"
   ]
  },
  {
   "cell_type": "code",
   "execution_count": 34,
   "id": "65d1320d-f588-4b38-9072-62af1ae97f7d",
   "metadata": {
    "execution": {
     "iopub.execute_input": "2025-07-23T14:41:31.586507Z",
     "iopub.status.busy": "2025-07-23T14:41:31.585812Z",
     "iopub.status.idle": "2025-07-23T14:41:31.593914Z",
     "shell.execute_reply": "2025-07-23T14:41:31.592970Z"
    },
    "papermill": {
     "duration": 0.030095,
     "end_time": "2025-07-23T14:41:31.595640",
     "exception": false,
     "start_time": "2025-07-23T14:41:31.565545",
     "status": "completed"
    },
    "tags": []
   },
   "outputs": [],
   "source": [
    "from fairness_multiverse.conformal import compute_nc_scores\n",
    "\n",
    "# Compute nonconformity scores on calibration set (1 - probability of true class)\n",
    "nc_scores = compute_nc_scores(probs_calib, y_calib)"
   ]
  },
  {
   "cell_type": "code",
   "execution_count": 35,
   "id": "df3b8ca3-53b7-43d5-9667-7c85da7aeda2",
   "metadata": {
    "execution": {
     "iopub.execute_input": "2025-07-23T14:41:31.636416Z",
     "iopub.status.busy": "2025-07-23T14:41:31.635741Z",
     "iopub.status.idle": "2025-07-23T14:41:31.643394Z",
     "shell.execute_reply": "2025-07-23T14:41:31.642493Z"
    },
    "papermill": {
     "duration": 0.029696,
     "end_time": "2025-07-23T14:41:31.645132",
     "exception": false,
     "start_time": "2025-07-23T14:41:31.615436",
     "status": "completed"
    },
    "tags": []
   },
   "outputs": [],
   "source": [
    "from fairness_multiverse.conformal import find_threshold\n",
    "\n",
    "# Find conformal threshold q_hat for the given alpha (split conformal method)\n",
    "q_hat = find_threshold(nc_scores, alpha)"
   ]
  },
  {
   "cell_type": "code",
   "execution_count": 36,
   "id": "4d29e6c1-0ef6-4aa4-b8fe-4fe79b0d033a",
   "metadata": {
    "execution": {
     "iopub.execute_input": "2025-07-23T14:41:31.685248Z",
     "iopub.status.busy": "2025-07-23T14:41:31.684539Z",
     "iopub.status.idle": "2025-07-23T14:41:31.692020Z",
     "shell.execute_reply": "2025-07-23T14:41:31.691127Z"
    },
    "papermill": {
     "duration": 0.029018,
     "end_time": "2025-07-23T14:41:31.693790",
     "exception": false,
     "start_time": "2025-07-23T14:41:31.664772",
     "status": "completed"
    },
    "tags": []
   },
   "outputs": [
    {
     "data": {
      "text/plain": [
       "0.6774567276063499"
      ]
     },
     "execution_count": 36,
     "metadata": {},
     "output_type": "execute_result"
    }
   ],
   "source": [
    "q_hat"
   ]
  },
  {
   "cell_type": "code",
   "execution_count": 37,
   "id": "92460794-cdac-4be2-ba28-f28c0515a6fb",
   "metadata": {
    "execution": {
     "iopub.execute_input": "2025-07-23T14:41:31.734549Z",
     "iopub.status.busy": "2025-07-23T14:41:31.733857Z",
     "iopub.status.idle": "2025-07-23T14:41:33.141420Z",
     "shell.execute_reply": "2025-07-23T14:41:33.140413Z"
    },
    "papermill": {
     "duration": 1.429909,
     "end_time": "2025-07-23T14:41:33.143305",
     "exception": false,
     "start_time": "2025-07-23T14:41:31.713396",
     "status": "completed"
    },
    "tags": []
   },
   "outputs": [],
   "source": [
    "from fairness_multiverse.conformal import predict_conformal_sets\n",
    "\n",
    "# Generate prediction sets for each test example\n",
    "pred_sets = predict_conformal_sets(model, X_test, q_hat)"
   ]
  },
  {
   "cell_type": "code",
   "execution_count": 38,
   "id": "d90c9a65-e6db-4f5d-80cd-e68fb7e46829",
   "metadata": {
    "execution": {
     "iopub.execute_input": "2025-07-23T14:41:33.186007Z",
     "iopub.status.busy": "2025-07-23T14:41:33.185518Z",
     "iopub.status.idle": "2025-07-23T14:41:33.191571Z",
     "shell.execute_reply": "2025-07-23T14:41:33.190585Z"
    },
    "papermill": {
     "duration": 0.029235,
     "end_time": "2025-07-23T14:41:33.193374",
     "exception": false,
     "start_time": "2025-07-23T14:41:33.164139",
     "status": "completed"
    },
    "tags": []
   },
   "outputs": [],
   "source": [
    "y_true = y_true.squeeze()"
   ]
  },
  {
   "cell_type": "code",
   "execution_count": 39,
   "id": "3a58a54a-1e68-46b9-927a-df01f18aebc8",
   "metadata": {
    "execution": {
     "iopub.execute_input": "2025-07-23T14:41:33.235886Z",
     "iopub.status.busy": "2025-07-23T14:41:33.235385Z",
     "iopub.status.idle": "2025-07-23T14:41:34.032183Z",
     "shell.execute_reply": "2025-07-23T14:41:34.031350Z"
    },
    "papermill": {
     "duration": 0.820414,
     "end_time": "2025-07-23T14:41:34.034117",
     "exception": false,
     "start_time": "2025-07-23T14:41:33.213703",
     "status": "completed"
    },
    "tags": []
   },
   "outputs": [],
   "source": [
    "from fairness_multiverse.conformal import evaluate_sets\n",
    "\n",
    "# Evaluate coverage and average set size on test data\n",
    "metrics = evaluate_sets(pred_sets, y_true)"
   ]
  },
  {
   "cell_type": "code",
   "execution_count": 40,
   "id": "5ce0a5cb-201f-45a0-ade5-94c7f0bd6095",
   "metadata": {
    "execution": {
     "iopub.execute_input": "2025-07-23T14:41:34.076152Z",
     "iopub.status.busy": "2025-07-23T14:41:34.075189Z",
     "iopub.status.idle": "2025-07-23T14:41:34.083564Z",
     "shell.execute_reply": "2025-07-23T14:41:34.082413Z"
    },
    "papermill": {
     "duration": 0.030996,
     "end_time": "2025-07-23T14:41:34.085357",
     "exception": false,
     "start_time": "2025-07-23T14:41:34.054361",
     "status": "completed"
    },
    "tags": []
   },
   "outputs": [
    {
     "data": {
      "text/plain": [
       "{'coverage': 0.9116263515773046, 'avg_size': 1.117991305317133}"
      ]
     },
     "execution_count": 40,
     "metadata": {},
     "output_type": "execute_result"
    }
   ],
   "source": [
    "metrics"
   ]
  },
  {
   "cell_type": "code",
   "execution_count": 41,
   "id": "9b9a838d-31c9-430b-ae14-12baee460d17",
   "metadata": {
    "execution": {
     "iopub.execute_input": "2025-07-23T14:41:34.127848Z",
     "iopub.status.busy": "2025-07-23T14:41:34.127214Z",
     "iopub.status.idle": "2025-07-23T14:41:34.134157Z",
     "shell.execute_reply": "2025-07-23T14:41:34.133181Z"
    },
    "papermill": {
     "duration": 0.029981,
     "end_time": "2025-07-23T14:41:34.135718",
     "exception": false,
     "start_time": "2025-07-23T14:41:34.105737",
     "status": "completed"
    },
    "tags": []
   },
   "outputs": [],
   "source": [
    "example_universe = universe.copy()\n",
    "universe_model = example_universe.get(\"model\")\n",
    "universe_exclude_features = example_universe.get(\"exclude_features\")\n",
    "universe_exclude_subgroups = example_universe.get(\"exclude_subgroups\")\n",
    "universe_scale = example_universe.get(\"scale\")"
   ]
  },
  {
   "cell_type": "code",
   "execution_count": 42,
   "id": "f4b6a8ac-9dc0-4245-8a91-5b3b5999c4f9",
   "metadata": {
    "execution": {
     "iopub.execute_input": "2025-07-23T14:41:34.179609Z",
     "iopub.status.busy": "2025-07-23T14:41:34.178654Z",
     "iopub.status.idle": "2025-07-23T14:41:34.186054Z",
     "shell.execute_reply": "2025-07-23T14:41:34.184822Z"
    },
    "papermill": {
     "duration": 0.031321,
     "end_time": "2025-07-23T14:41:34.188272",
     "exception": false,
     "start_time": "2025-07-23T14:41:34.156951",
     "status": "completed"
    },
    "tags": []
   },
   "outputs": [],
   "source": [
    "cp_metrics_dict = {\n",
    "    \"universe_id\": [universe_id],\n",
    "    \"universe_model\": [universe_model],\n",
    "    \"universe_exclude_features\": [universe_exclude_features],\n",
    "    \"universe_exclude_subgroups\": [universe_exclude_subgroups],\n",
    "    \"universe_scale\": [universe_scale],\n",
    "    \"q_hat\": [q_hat],\n",
    "    \"coverage\": [metrics[\"coverage\"]],\n",
    "    \"avg_size\": [metrics[\"avg_size\"]],\n",
    "}"
   ]
  },
  {
   "cell_type": "code",
   "execution_count": 43,
   "id": "908acbb1-0371-4915-85ca-3fa520d2efe2",
   "metadata": {
    "execution": {
     "iopub.execute_input": "2025-07-23T14:41:34.241364Z",
     "iopub.status.busy": "2025-07-23T14:41:34.240341Z",
     "iopub.status.idle": "2025-07-23T14:41:34.249480Z",
     "shell.execute_reply": "2025-07-23T14:41:34.248456Z"
    },
    "papermill": {
     "duration": 0.037099,
     "end_time": "2025-07-23T14:41:34.251334",
     "exception": false,
     "start_time": "2025-07-23T14:41:34.214235",
     "status": "completed"
    },
    "tags": []
   },
   "outputs": [
    {
     "data": {
      "text/plain": [
       "{'universe_id': ['5539f2b5ba0459bf5d7982c73f4aef2e'],\n",
       " 'universe_model': ['gbm'],\n",
       " 'universe_exclude_features': ['age'],\n",
       " 'universe_exclude_subgroups': ['drop-non-german'],\n",
       " 'universe_scale': ['do-not-scale'],\n",
       " 'q_hat': [0.6774567276063499],\n",
       " 'coverage': [0.9116263515773046],\n",
       " 'avg_size': [1.117991305317133]}"
      ]
     },
     "execution_count": 43,
     "metadata": {},
     "output_type": "execute_result"
    }
   ],
   "source": [
    "cp_metrics_dict"
   ]
  },
  {
   "cell_type": "code",
   "execution_count": 44,
   "id": "33007efc-14e9-4ec6-97ac-56a455c82265",
   "metadata": {
    "execution": {
     "iopub.execute_input": "2025-07-23T14:41:34.293913Z",
     "iopub.status.busy": "2025-07-23T14:41:34.293279Z",
     "iopub.status.idle": "2025-07-23T14:41:34.300264Z",
     "shell.execute_reply": "2025-07-23T14:41:34.299111Z"
    },
    "papermill": {
     "duration": 0.030229,
     "end_time": "2025-07-23T14:41:34.302253",
     "exception": false,
     "start_time": "2025-07-23T14:41:34.272024",
     "status": "completed"
    },
    "tags": []
   },
   "outputs": [],
   "source": [
    "cp_metrics_df = pd.DataFrame(cp_metrics_dict)"
   ]
  },
  {
   "cell_type": "code",
   "execution_count": 45,
   "id": "db12611b-57b2-4910-b9d0-355adfd6e7bf",
   "metadata": {
    "execution": {
     "iopub.execute_input": "2025-07-23T14:41:34.356073Z",
     "iopub.status.busy": "2025-07-23T14:41:34.355350Z",
     "iopub.status.idle": "2025-07-23T14:41:34.373950Z",
     "shell.execute_reply": "2025-07-23T14:41:34.372743Z"
    },
    "papermill": {
     "duration": 0.046752,
     "end_time": "2025-07-23T14:41:34.375847",
     "exception": false,
     "start_time": "2025-07-23T14:41:34.329095",
     "status": "completed"
    },
    "tags": []
   },
   "outputs": [
    {
     "data": {
      "text/html": [
       "<div>\n",
       "<style scoped>\n",
       "    .dataframe tbody tr th:only-of-type {\n",
       "        vertical-align: middle;\n",
       "    }\n",
       "\n",
       "    .dataframe tbody tr th {\n",
       "        vertical-align: top;\n",
       "    }\n",
       "\n",
       "    .dataframe thead th {\n",
       "        text-align: right;\n",
       "    }\n",
       "</style>\n",
       "<table border=\"1\" class=\"dataframe\">\n",
       "  <thead>\n",
       "    <tr style=\"text-align: right;\">\n",
       "      <th></th>\n",
       "      <th>universe_id</th>\n",
       "      <th>universe_model</th>\n",
       "      <th>universe_exclude_features</th>\n",
       "      <th>universe_exclude_subgroups</th>\n",
       "      <th>universe_scale</th>\n",
       "      <th>q_hat</th>\n",
       "      <th>coverage</th>\n",
       "      <th>avg_size</th>\n",
       "    </tr>\n",
       "  </thead>\n",
       "  <tbody>\n",
       "    <tr>\n",
       "      <th>0</th>\n",
       "      <td>5539f2b5ba0459bf5d7982c73f4aef2e</td>\n",
       "      <td>gbm</td>\n",
       "      <td>age</td>\n",
       "      <td>drop-non-german</td>\n",
       "      <td>do-not-scale</td>\n",
       "      <td>0.677457</td>\n",
       "      <td>0.911626</td>\n",
       "      <td>1.117991</td>\n",
       "    </tr>\n",
       "  </tbody>\n",
       "</table>\n",
       "</div>"
      ],
      "text/plain": [
       "                        universe_id universe_model universe_exclude_features  \\\n",
       "0  5539f2b5ba0459bf5d7982c73f4aef2e            gbm                       age   \n",
       "\n",
       "  universe_exclude_subgroups universe_scale     q_hat  coverage  avg_size  \n",
       "0            drop-non-german   do-not-scale  0.677457  0.911626  1.117991  "
      ]
     },
     "execution_count": 45,
     "metadata": {},
     "output_type": "execute_result"
    }
   ],
   "source": [
    "cp_metrics_df"
   ]
  },
  {
   "cell_type": "code",
   "execution_count": 46,
   "id": "b7fbde55-a0a1-47e4-9af6-fe4a17fa8c61",
   "metadata": {
    "execution": {
     "iopub.execute_input": "2025-07-23T14:41:34.429876Z",
     "iopub.status.busy": "2025-07-23T14:41:34.429096Z",
     "iopub.status.idle": "2025-07-23T14:41:34.435019Z",
     "shell.execute_reply": "2025-07-23T14:41:34.433840Z"
    },
    "papermill": {
     "duration": 0.035031,
     "end_time": "2025-07-23T14:41:34.436834",
     "exception": false,
     "start_time": "2025-07-23T14:41:34.401803",
     "status": "completed"
    },
    "tags": []
   },
   "outputs": [],
   "source": [
    "# Conditional Coverage & looking at subgroups"
   ]
  },
  {
   "cell_type": "code",
   "execution_count": 47,
   "id": "027ae886-68dd-4141-96c7-805a5450e1ef",
   "metadata": {
    "execution": {
     "iopub.execute_input": "2025-07-23T14:41:34.480323Z",
     "iopub.status.busy": "2025-07-23T14:41:34.479638Z",
     "iopub.status.idle": "2025-07-23T14:41:34.741152Z",
     "shell.execute_reply": "2025-07-23T14:41:34.740190Z"
    },
    "papermill": {
     "duration": 0.284585,
     "end_time": "2025-07-23T14:41:34.743048",
     "exception": false,
     "start_time": "2025-07-23T14:41:34.458463",
     "status": "completed"
    },
    "tags": []
   },
   "outputs": [],
   "source": [
    "from fairness_multiverse.conformal import build_cp_groups\n",
    "\n",
    "cp_groups_df = build_cp_groups(pred_sets, y_true, X_test.index, org_test)\n",
    "#needs universe_id and setting"
   ]
  },
  {
   "cell_type": "code",
   "execution_count": 48,
   "id": "c3b92545-903e-4839-89af-0f057907d7d6",
   "metadata": {
    "execution": {
     "iopub.execute_input": "2025-07-23T14:41:34.787270Z",
     "iopub.status.busy": "2025-07-23T14:41:34.786381Z",
     "iopub.status.idle": "2025-07-23T14:41:36.481875Z",
     "shell.execute_reply": "2025-07-23T14:41:36.480944Z"
    },
    "papermill": {
     "duration": 1.719387,
     "end_time": "2025-07-23T14:41:36.483757",
     "exception": false,
     "start_time": "2025-07-23T14:41:34.764370",
     "status": "completed"
    },
    "tags": []
   },
   "outputs": [],
   "source": [
    "# Define covered = 1 if true_label is in the predicted set\n",
    "cp_groups_df['covered'] = cp_groups_df.apply(\n",
    "    lambda r: int(r['true_label'] in r['pred_set']),\n",
    "    axis=1\n",
    ")"
   ]
  },
  {
   "cell_type": "code",
   "execution_count": 49,
   "id": "338ff529-1a6b-4b87-a931-8e4788d52aad",
   "metadata": {
    "execution": {
     "iopub.execute_input": "2025-07-23T14:41:36.526967Z",
     "iopub.status.busy": "2025-07-23T14:41:36.526485Z",
     "iopub.status.idle": "2025-07-23T14:41:36.532176Z",
     "shell.execute_reply": "2025-07-23T14:41:36.531056Z"
    },
    "papermill": {
     "duration": 0.029035,
     "end_time": "2025-07-23T14:41:36.533984",
     "exception": false,
     "start_time": "2025-07-23T14:41:36.504949",
     "status": "completed"
    },
    "tags": []
   },
   "outputs": [],
   "source": [
    "#cp_groups_df"
   ]
  },
  {
   "cell_type": "code",
   "execution_count": 50,
   "id": "90032e27-66df-4540-9169-4e89cfbaa758",
   "metadata": {
    "execution": {
     "iopub.execute_input": "2025-07-23T14:41:36.580870Z",
     "iopub.status.busy": "2025-07-23T14:41:36.580358Z",
     "iopub.status.idle": "2025-07-23T14:41:36.593296Z",
     "shell.execute_reply": "2025-07-23T14:41:36.592338Z"
    },
    "papermill": {
     "duration": 0.036518,
     "end_time": "2025-07-23T14:41:36.594946",
     "exception": false,
     "start_time": "2025-07-23T14:41:36.558428",
     "status": "completed"
    },
    "tags": []
   },
   "outputs": [],
   "source": [
    "subgroups = ['frau1','nongerman','nongerman_male','nongerman_female']\n",
    "\n",
    "# Conditional coverage for subgroup==1\n",
    "cond_coverage = {\n",
    "    g: cp_groups_df.loc[cp_groups_df[g]==1, 'covered'].mean()\n",
    "    for g in subgroups\n",
    "}"
   ]
  },
  {
   "cell_type": "code",
   "execution_count": 51,
   "id": "1e348fb1-b9c3-45bc-ba23-f016827a7e0d",
   "metadata": {
    "execution": {
     "iopub.execute_input": "2025-07-23T14:41:36.638251Z",
     "iopub.status.busy": "2025-07-23T14:41:36.637740Z",
     "iopub.status.idle": "2025-07-23T14:41:36.645062Z",
     "shell.execute_reply": "2025-07-23T14:41:36.644061Z"
    },
    "papermill": {
     "duration": 0.030802,
     "end_time": "2025-07-23T14:41:36.646720",
     "exception": false,
     "start_time": "2025-07-23T14:41:36.615918",
     "status": "completed"
    },
    "tags": []
   },
   "outputs": [
    {
     "data": {
      "text/plain": [
       "{'frau1': 0.9117401267017118,\n",
       " 'nongerman': 0.9075955762645259,\n",
       " 'nongerman_male': 0.9241646401873368,\n",
       " 'nongerman_female': 0.8801788375558868}"
      ]
     },
     "execution_count": 51,
     "metadata": {},
     "output_type": "execute_result"
    }
   ],
   "source": [
    "cond_coverage"
   ]
  },
  {
   "cell_type": "code",
   "execution_count": 52,
   "id": "f5093324-c3dd-4d63-bc4c-8d945e5c8bbb",
   "metadata": {
    "execution": {
     "iopub.execute_input": "2025-07-23T14:41:36.691104Z",
     "iopub.status.busy": "2025-07-23T14:41:36.690415Z",
     "iopub.status.idle": "2025-07-23T14:41:36.698496Z",
     "shell.execute_reply": "2025-07-23T14:41:36.697563Z"
    },
    "papermill": {
     "duration": 0.031788,
     "end_time": "2025-07-23T14:41:36.700208",
     "exception": false,
     "start_time": "2025-07-23T14:41:36.668420",
     "status": "completed"
    },
    "tags": []
   },
   "outputs": [],
   "source": [
    "for subgroup, cov in cond_coverage.items():\n",
    "    cp_metrics_df[f\"cov_{subgroup}\"] = cov"
   ]
  },
  {
   "cell_type": "code",
   "execution_count": 53,
   "id": "6e872e10-dbe5-49e8-b554-5030c98ff75d",
   "metadata": {
    "execution": {
     "iopub.execute_input": "2025-07-23T14:41:36.744761Z",
     "iopub.status.busy": "2025-07-23T14:41:36.743851Z",
     "iopub.status.idle": "2025-07-23T14:41:36.761689Z",
     "shell.execute_reply": "2025-07-23T14:41:36.760656Z"
    },
    "papermill": {
     "duration": 0.041516,
     "end_time": "2025-07-23T14:41:36.763285",
     "exception": false,
     "start_time": "2025-07-23T14:41:36.721769",
     "status": "completed"
    },
    "tags": []
   },
   "outputs": [
    {
     "data": {
      "text/html": [
       "<div>\n",
       "<style scoped>\n",
       "    .dataframe tbody tr th:only-of-type {\n",
       "        vertical-align: middle;\n",
       "    }\n",
       "\n",
       "    .dataframe tbody tr th {\n",
       "        vertical-align: top;\n",
       "    }\n",
       "\n",
       "    .dataframe thead th {\n",
       "        text-align: right;\n",
       "    }\n",
       "</style>\n",
       "<table border=\"1\" class=\"dataframe\">\n",
       "  <thead>\n",
       "    <tr style=\"text-align: right;\">\n",
       "      <th></th>\n",
       "      <th>universe_id</th>\n",
       "      <th>universe_model</th>\n",
       "      <th>universe_exclude_features</th>\n",
       "      <th>universe_exclude_subgroups</th>\n",
       "      <th>universe_scale</th>\n",
       "      <th>q_hat</th>\n",
       "      <th>coverage</th>\n",
       "      <th>avg_size</th>\n",
       "      <th>cov_frau1</th>\n",
       "      <th>cov_nongerman</th>\n",
       "      <th>cov_nongerman_male</th>\n",
       "      <th>cov_nongerman_female</th>\n",
       "    </tr>\n",
       "  </thead>\n",
       "  <tbody>\n",
       "    <tr>\n",
       "      <th>0</th>\n",
       "      <td>5539f2b5ba0459bf5d7982c73f4aef2e</td>\n",
       "      <td>gbm</td>\n",
       "      <td>age</td>\n",
       "      <td>drop-non-german</td>\n",
       "      <td>do-not-scale</td>\n",
       "      <td>0.677457</td>\n",
       "      <td>0.911626</td>\n",
       "      <td>1.117991</td>\n",
       "      <td>0.91174</td>\n",
       "      <td>0.907596</td>\n",
       "      <td>0.924165</td>\n",
       "      <td>0.880179</td>\n",
       "    </tr>\n",
       "  </tbody>\n",
       "</table>\n",
       "</div>"
      ],
      "text/plain": [
       "                        universe_id universe_model universe_exclude_features  \\\n",
       "0  5539f2b5ba0459bf5d7982c73f4aef2e            gbm                       age   \n",
       "\n",
       "  universe_exclude_subgroups universe_scale     q_hat  coverage  avg_size  \\\n",
       "0            drop-non-german   do-not-scale  0.677457  0.911626  1.117991   \n",
       "\n",
       "   cov_frau1  cov_nongerman  cov_nongerman_male  cov_nongerman_female  \n",
       "0    0.91174       0.907596            0.924165              0.880179  "
      ]
     },
     "execution_count": 53,
     "metadata": {},
     "output_type": "execute_result"
    }
   ],
   "source": [
    "cp_metrics_df"
   ]
  },
  {
   "cell_type": "markdown",
   "id": "33774451",
   "metadata": {
    "papermill": {
     "duration": 0.021299,
     "end_time": "2025-07-23T14:41:36.806624",
     "exception": false,
     "start_time": "2025-07-23T14:41:36.785325",
     "status": "completed"
    },
    "tags": []
   },
   "source": [
    "# (Fairness) Metrics"
   ]
  },
  {
   "cell_type": "code",
   "execution_count": 54,
   "id": "debc5d62",
   "metadata": {
    "execution": {
     "iopub.execute_input": "2025-07-23T14:41:36.857887Z",
     "iopub.status.busy": "2025-07-23T14:41:36.857367Z",
     "iopub.status.idle": "2025-07-23T14:41:36.880537Z",
     "shell.execute_reply": "2025-07-23T14:41:36.879574Z"
    },
    "papermill": {
     "duration": 0.054764,
     "end_time": "2025-07-23T14:41:36.882439",
     "exception": false,
     "start_time": "2025-07-23T14:41:36.827675",
     "status": "completed"
    },
    "tags": []
   },
   "outputs": [],
   "source": [
    "# do I need to include maxdeutsch1.missing?\n",
    "\n",
    "import numpy as np\n",
    "\n",
    "colname_to_bin = \"maxdeutsch1\"\n",
    "majority_value = org_train[colname_to_bin].mode()[0]\n",
    "\n",
    "org_test[\"majmin\"] = np.where(org_test[colname_to_bin] == majority_value, \"majority\", \"minority\")"
   ]
  },
  {
   "cell_type": "code",
   "execution_count": 55,
   "id": "06a50de5",
   "metadata": {
    "execution": {
     "iopub.execute_input": "2025-07-23T14:41:36.927906Z",
     "iopub.status.busy": "2025-07-23T14:41:36.927159Z",
     "iopub.status.idle": "2025-07-23T14:41:40.177132Z",
     "shell.execute_reply": "2025-07-23T14:41:40.176127Z"
    },
    "papermill": {
     "duration": 3.274853,
     "end_time": "2025-07-23T14:41:40.179105",
     "exception": false,
     "start_time": "2025-07-23T14:41:36.904252",
     "status": "completed"
    },
    "tags": []
   },
   "outputs": [],
   "source": [
    "example_universe = universe.copy()\n",
    "example_universe[\"cutoff\"] = example_universe[\"cutoff\"][0]\n",
    "example_universe[\"eval_fairness_grouping\"] = example_universe[\"eval_fairness_grouping\"][0]\n",
    "fairness_dict, metric_frame = universe_analysis.compute_metrics(\n",
    "    example_universe,\n",
    "    y_pred_prob=probs_test,\n",
    "    y_test=y_true,\n",
    "    org_test=org_test,\n",
    ")"
   ]
  },
  {
   "cell_type": "markdown",
   "id": "f95d4e02",
   "metadata": {
    "papermill": {
     "duration": 0.021427,
     "end_time": "2025-07-23T14:41:40.222579",
     "exception": false,
     "start_time": "2025-07-23T14:41:40.201152",
     "status": "completed"
    },
    "tags": []
   },
   "source": [
    "# Overall"
   ]
  },
  {
   "cell_type": "markdown",
   "id": "bdee4871",
   "metadata": {
    "papermill": {
     "duration": 0.088893,
     "end_time": "2025-07-23T14:41:40.332699",
     "exception": false,
     "start_time": "2025-07-23T14:41:40.243806",
     "status": "completed"
    },
    "tags": []
   },
   "source": [
    "Fairness\n",
    "Main fairness target: Equalized Odds. Seems to be a better fit than equal opportunity, since we're not only interested in Y = 1. Seems to be a better fit than demographic parity, since we also care about accuracy, not just equal distribution of preds.\n",
    "\n",
    "Pick column for computation of fairness metrics\n",
    "\n",
    "Performance\n",
    "Overall performance measures, most interesting in relation to the measures split by group below"
   ]
  },
  {
   "cell_type": "code",
   "execution_count": 56,
   "id": "c4e067c6",
   "metadata": {
    "execution": {
     "iopub.execute_input": "2025-07-23T14:41:40.379412Z",
     "iopub.status.busy": "2025-07-23T14:41:40.378512Z",
     "iopub.status.idle": "2025-07-23T14:41:40.387171Z",
     "shell.execute_reply": "2025-07-23T14:41:40.386140Z"
    },
    "papermill": {
     "duration": 0.033927,
     "end_time": "2025-07-23T14:41:40.388826",
     "exception": false,
     "start_time": "2025-07-23T14:41:40.354899",
     "status": "completed"
    },
    "tags": []
   },
   "outputs": [
    {
     "data": {
      "text/plain": [
       "accuracy                   0.225426\n",
       "balanced accuracy          0.550978\n",
       "f1                         0.246729\n",
       "precision                  0.140948\n",
       "false positive rate        0.886921\n",
       "false negative rate        0.011123\n",
       "selection rate             0.900000\n",
       "count                  89710.000000\n",
       "dtype: float64"
      ]
     },
     "execution_count": 56,
     "metadata": {},
     "output_type": "execute_result"
    }
   ],
   "source": [
    "metric_frame.overall"
   ]
  },
  {
   "cell_type": "markdown",
   "id": "e968fe9d",
   "metadata": {
    "papermill": {
     "duration": 0.02203,
     "end_time": "2025-07-23T14:41:40.433458",
     "exception": false,
     "start_time": "2025-07-23T14:41:40.411428",
     "status": "completed"
    },
    "tags": []
   },
   "source": [
    "By Group"
   ]
  },
  {
   "cell_type": "code",
   "execution_count": 57,
   "id": "ec325bce",
   "metadata": {
    "execution": {
     "iopub.execute_input": "2025-07-23T14:41:40.479788Z",
     "iopub.status.busy": "2025-07-23T14:41:40.478921Z",
     "iopub.status.idle": "2025-07-23T14:41:40.495131Z",
     "shell.execute_reply": "2025-07-23T14:41:40.494121Z"
    },
    "papermill": {
     "duration": 0.041237,
     "end_time": "2025-07-23T14:41:40.496816",
     "exception": false,
     "start_time": "2025-07-23T14:41:40.455579",
     "status": "completed"
    },
    "tags": []
   },
   "outputs": [
    {
     "data": {
      "text/html": [
       "<div>\n",
       "<style scoped>\n",
       "    .dataframe tbody tr th:only-of-type {\n",
       "        vertical-align: middle;\n",
       "    }\n",
       "\n",
       "    .dataframe tbody tr th {\n",
       "        vertical-align: top;\n",
       "    }\n",
       "\n",
       "    .dataframe thead th {\n",
       "        text-align: right;\n",
       "    }\n",
       "</style>\n",
       "<table border=\"1\" class=\"dataframe\">\n",
       "  <thead>\n",
       "    <tr style=\"text-align: right;\">\n",
       "      <th></th>\n",
       "      <th>accuracy</th>\n",
       "      <th>balanced accuracy</th>\n",
       "      <th>f1</th>\n",
       "      <th>precision</th>\n",
       "      <th>false positive rate</th>\n",
       "      <th>false negative rate</th>\n",
       "      <th>selection rate</th>\n",
       "      <th>count</th>\n",
       "    </tr>\n",
       "    <tr>\n",
       "      <th>majmin</th>\n",
       "      <th></th>\n",
       "      <th></th>\n",
       "      <th></th>\n",
       "      <th></th>\n",
       "      <th></th>\n",
       "      <th></th>\n",
       "      <th></th>\n",
       "      <th></th>\n",
       "    </tr>\n",
       "  </thead>\n",
       "  <tbody>\n",
       "    <tr>\n",
       "      <th>majority</th>\n",
       "      <td>0.237242</td>\n",
       "      <td>0.555869</td>\n",
       "      <td>0.255202</td>\n",
       "      <td>0.146504</td>\n",
       "      <td>0.877211</td>\n",
       "      <td>0.011050</td>\n",
       "      <td>0.891976</td>\n",
       "      <td>69170.0</td>\n",
       "    </tr>\n",
       "    <tr>\n",
       "      <th>minority</th>\n",
       "      <td>0.185638</td>\n",
       "      <td>0.534801</td>\n",
       "      <td>0.218693</td>\n",
       "      <td>0.122945</td>\n",
       "      <td>0.918996</td>\n",
       "      <td>0.011402</td>\n",
       "      <td>0.927020</td>\n",
       "      <td>20540.0</td>\n",
       "    </tr>\n",
       "  </tbody>\n",
       "</table>\n",
       "</div>"
      ],
      "text/plain": [
       "          accuracy  balanced accuracy        f1  precision  \\\n",
       "majmin                                                       \n",
       "majority  0.237242           0.555869  0.255202   0.146504   \n",
       "minority  0.185638           0.534801  0.218693   0.122945   \n",
       "\n",
       "          false positive rate  false negative rate  selection rate    count  \n",
       "majmin                                                                       \n",
       "majority             0.877211             0.011050        0.891976  69170.0  \n",
       "minority             0.918996             0.011402        0.927020  20540.0  "
      ]
     },
     "execution_count": 57,
     "metadata": {},
     "output_type": "execute_result"
    }
   ],
   "source": [
    "metric_frame.by_group"
   ]
  },
  {
   "cell_type": "code",
   "execution_count": 58,
   "id": "a9ddbe63",
   "metadata": {
    "execution": {
     "iopub.execute_input": "2025-07-23T14:41:40.549395Z",
     "iopub.status.busy": "2025-07-23T14:41:40.548627Z",
     "iopub.status.idle": "2025-07-23T14:41:42.908369Z",
     "shell.execute_reply": "2025-07-23T14:41:42.907434Z"
    },
    "papermill": {
     "duration": 2.389476,
     "end_time": "2025-07-23T14:41:42.910121",
     "exception": false,
     "start_time": "2025-07-23T14:41:40.520645",
     "status": "completed"
    },
    "tags": []
   },
   "outputs": [
    {
     "data": {
      "text/plain": [
       "array([[<Axes: title={'center': 'accuracy'}, xlabel='majmin'>,\n",
       "        <Axes: title={'center': 'balanced accuracy'}, xlabel='majmin'>,\n",
       "        <Axes: title={'center': 'f1'}, xlabel='majmin'>],\n",
       "       [<Axes: title={'center': 'precision'}, xlabel='majmin'>,\n",
       "        <Axes: title={'center': 'false positive rate'}, xlabel='majmin'>,\n",
       "        <Axes: title={'center': 'false negative rate'}, xlabel='majmin'>],\n",
       "       [<Axes: title={'center': 'selection rate'}, xlabel='majmin'>,\n",
       "        <Axes: title={'center': 'count'}, xlabel='majmin'>,\n",
       "        <Axes: xlabel='majmin'>]], dtype=object)"
      ]
     },
     "execution_count": 58,
     "metadata": {},
     "output_type": "execute_result"
    },
    {
     "data": {
      "image/png": "[encoded data removed]",
      "text/plain": [
       "<Figure size 1200x800 with 9 Axes>"
      ]
     },
     "metadata": {},
     "output_type": "display_data"
    }
   ],
   "source": [
    "# In a graphic\n",
    "metric_frame.by_group.plot.bar(\n",
    "    subplots=True,\n",
    "    layout=[3, 3],\n",
    "    legend=False,\n",
    "    figsize=[12, 8],\n",
    "    title=\"Show all metrics\",\n",
    ")"
   ]
  },
  {
   "cell_type": "markdown",
   "id": "f57a0bac",
   "metadata": {
    "papermill": {
     "duration": 0.026083,
     "end_time": "2025-07-23T14:41:42.961318",
     "exception": false,
     "start_time": "2025-07-23T14:41:42.935235",
     "status": "completed"
    },
    "tags": []
   },
   "source": [
    "# Final Output"
   ]
  },
  {
   "cell_type": "code",
   "execution_count": 59,
   "id": "96d280a3",
   "metadata": {
    "execution": {
     "iopub.execute_input": "2025-07-23T14:41:43.014057Z",
     "iopub.status.busy": "2025-07-23T14:41:43.013411Z",
     "iopub.status.idle": "2025-07-23T14:41:43.021920Z",
     "shell.execute_reply": "2025-07-23T14:41:43.020946Z"
    },
    "papermill": {
     "duration": 0.036734,
     "end_time": "2025-07-23T14:41:43.023526",
     "exception": false,
     "start_time": "2025-07-23T14:41:42.986792",
     "status": "completed"
    },
    "tags": []
   },
   "outputs": [
    {
     "data": {
      "text/plain": [
       "4"
      ]
     },
     "execution_count": 59,
     "metadata": {},
     "output_type": "execute_result"
    }
   ],
   "source": [
    "sub_universes = universe_analysis.generate_sub_universes()\n",
    "len(sub_universes)"
   ]
  },
  {
   "cell_type": "code",
   "execution_count": 60,
   "id": "92adf7ba",
   "metadata": {
    "execution": {
     "iopub.execute_input": "2025-07-23T14:41:43.076827Z",
     "iopub.status.busy": "2025-07-23T14:41:43.075758Z",
     "iopub.status.idle": "2025-07-23T14:41:43.082279Z",
     "shell.execute_reply": "2025-07-23T14:41:43.081304Z"
    },
    "papermill": {
     "duration": 0.035162,
     "end_time": "2025-07-23T14:41:43.084046",
     "exception": false,
     "start_time": "2025-07-23T14:41:43.048884",
     "status": "completed"
    },
    "tags": []
   },
   "outputs": [],
   "source": [
    "def filter_sub_universe_data(sub_universe, org_test):\n",
    "    # Keep all rows — no filtering\n",
    "    keep_rows_mask = np.ones(org_test.shape[0], dtype=bool)\n",
    "\n",
    "    print(f\"[INFO] Keeping all rows: {keep_rows_mask.sum()} rows retained.\")\n",
    "    return keep_rows_mask"
   ]
  },
  {
   "cell_type": "code",
   "execution_count": 61,
   "id": "4a759155",
   "metadata": {
    "execution": {
     "iopub.execute_input": "2025-07-23T14:41:43.136909Z",
     "iopub.status.busy": "2025-07-23T14:41:43.136169Z",
     "iopub.status.idle": "2025-07-23T14:41:52.013340Z",
     "shell.execute_reply": "2025-07-23T14:41:52.012461Z"
    },
    "papermill": {
     "duration": 8.905137,
     "end_time": "2025-07-23T14:41:52.014864",
     "exception": false,
     "start_time": "2025-07-23T14:41:43.109727",
     "status": "completed"
    },
    "tags": []
   },
   "outputs": [
    {
     "name": "stdout",
     "output_type": "stream",
     "text": [
      "Stopping execution_time clock.\n",
      "[INFO] Keeping all rows: 89710 rows retained.\n"
     ]
    },
    {
     "name": "stdout",
     "output_type": "stream",
     "text": [
      "[INFO] Keeping all rows: 89710 rows retained.\n"
     ]
    },
    {
     "name": "stdout",
     "output_type": "stream",
     "text": [
      "[INFO] Keeping all rows: 89710 rows retained.\n"
     ]
    },
    {
     "name": "stdout",
     "output_type": "stream",
     "text": [
      "[INFO] Keeping all rows: 89710 rows retained.\n"
     ]
    },
    {
     "data": {
      "text/html": [
       "<div>\n",
       "<style scoped>\n",
       "    .dataframe tbody tr th:only-of-type {\n",
       "        vertical-align: middle;\n",
       "    }\n",
       "\n",
       "    .dataframe tbody tr th {\n",
       "        vertical-align: top;\n",
       "    }\n",
       "\n",
       "    .dataframe thead th {\n",
       "        text-align: right;\n",
       "    }\n",
       "</style>\n",
       "<table border=\"1\" class=\"dataframe\">\n",
       "  <thead>\n",
       "    <tr style=\"text-align: right;\">\n",
       "      <th></th>\n",
       "      <th>run_no</th>\n",
       "      <th>universe_id</th>\n",
       "      <th>universe_settings</th>\n",
       "      <th>execution_time</th>\n",
       "      <th>test_size_n</th>\n",
       "      <th>test_size_frac</th>\n",
       "      <th>fair_main_equalized_odds_difference</th>\n",
       "      <th>fair_main_equalized_odds_ratio</th>\n",
       "      <th>fair_main_demographic_parity_difference</th>\n",
       "      <th>fair_main_demographic_parity_ratio</th>\n",
       "      <th>...</th>\n",
       "      <th>perf_grp_precision_0</th>\n",
       "      <th>perf_grp_precision_1</th>\n",
       "      <th>perf_grp_false positive rate_0</th>\n",
       "      <th>perf_grp_false positive rate_1</th>\n",
       "      <th>perf_grp_false negative rate_0</th>\n",
       "      <th>perf_grp_false negative rate_1</th>\n",
       "      <th>perf_grp_selection rate_0</th>\n",
       "      <th>perf_grp_selection rate_1</th>\n",
       "      <th>perf_grp_count_0</th>\n",
       "      <th>perf_grp_count_1</th>\n",
       "    </tr>\n",
       "  </thead>\n",
       "  <tbody>\n",
       "    <tr>\n",
       "      <th>0</th>\n",
       "      <td>9</td>\n",
       "      <td>5539f2b5ba0459bf5d7982c73f4aef2e</td>\n",
       "      <td>{\"cutoff\": \"quantile_0.1\", \"eval_fairness_grou...</td>\n",
       "      <td>100.526616</td>\n",
       "      <td>89710</td>\n",
       "      <td>1.0</td>\n",
       "      <td>0.041785</td>\n",
       "      <td>0.954532</td>\n",
       "      <td>0.035044</td>\n",
       "      <td>0.962197</td>\n",
       "      <td>...</td>\n",
       "      <td>NaN</td>\n",
       "      <td>NaN</td>\n",
       "      <td>NaN</td>\n",
       "      <td>NaN</td>\n",
       "      <td>NaN</td>\n",
       "      <td>NaN</td>\n",
       "      <td>NaN</td>\n",
       "      <td>NaN</td>\n",
       "      <td>NaN</td>\n",
       "      <td>NaN</td>\n",
       "    </tr>\n",
       "    <tr>\n",
       "      <th>0</th>\n",
       "      <td>9</td>\n",
       "      <td>5539f2b5ba0459bf5d7982c73f4aef2e</td>\n",
       "      <td>{\"cutoff\": \"quantile_0.1\", \"eval_fairness_grou...</td>\n",
       "      <td>100.526616</td>\n",
       "      <td>89710</td>\n",
       "      <td>1.0</td>\n",
       "      <td>0.041785</td>\n",
       "      <td>0.954532</td>\n",
       "      <td>0.035044</td>\n",
       "      <td>0.962197</td>\n",
       "      <td>...</td>\n",
       "      <td>0.122945</td>\n",
       "      <td>0.146504</td>\n",
       "      <td>0.918996</td>\n",
       "      <td>0.877211</td>\n",
       "      <td>0.011402</td>\n",
       "      <td>0.011050</td>\n",
       "      <td>0.927020</td>\n",
       "      <td>0.891976</td>\n",
       "      <td>20540.0</td>\n",
       "      <td>69170.0</td>\n",
       "    </tr>\n",
       "    <tr>\n",
       "      <th>0</th>\n",
       "      <td>9</td>\n",
       "      <td>5539f2b5ba0459bf5d7982c73f4aef2e</td>\n",
       "      <td>{\"cutoff\": \"quantile_0.25\", \"eval_fairness_gro...</td>\n",
       "      <td>100.526616</td>\n",
       "      <td>89710</td>\n",
       "      <td>1.0</td>\n",
       "      <td>0.087225</td>\n",
       "      <td>0.908991</td>\n",
       "      <td>0.035795</td>\n",
       "      <td>0.952789</td>\n",
       "      <td>...</td>\n",
       "      <td>NaN</td>\n",
       "      <td>NaN</td>\n",
       "      <td>NaN</td>\n",
       "      <td>NaN</td>\n",
       "      <td>NaN</td>\n",
       "      <td>NaN</td>\n",
       "      <td>NaN</td>\n",
       "      <td>NaN</td>\n",
       "      <td>NaN</td>\n",
       "      <td>NaN</td>\n",
       "    </tr>\n",
       "    <tr>\n",
       "      <th>0</th>\n",
       "      <td>9</td>\n",
       "      <td>5539f2b5ba0459bf5d7982c73f4aef2e</td>\n",
       "      <td>{\"cutoff\": \"quantile_0.25\", \"eval_fairness_gro...</td>\n",
       "      <td>100.526616</td>\n",
       "      <td>89710</td>\n",
       "      <td>1.0</td>\n",
       "      <td>0.087225</td>\n",
       "      <td>0.908991</td>\n",
       "      <td>0.035795</td>\n",
       "      <td>0.952789</td>\n",
       "      <td>...</td>\n",
       "      <td>0.139035</td>\n",
       "      <td>0.167035</td>\n",
       "      <td>0.703005</td>\n",
       "      <td>0.727703</td>\n",
       "      <td>0.128801</td>\n",
       "      <td>0.041575</td>\n",
       "      <td>0.722395</td>\n",
       "      <td>0.758190</td>\n",
       "      <td>20540.0</td>\n",
       "      <td>69170.0</td>\n",
       "    </tr>\n",
       "  </tbody>\n",
       "</table>\n",
       "<p>4 rows × 50 columns</p>\n",
       "</div>"
      ],
      "text/plain": [
       "  run_no                       universe_id  \\\n",
       "0      9  5539f2b5ba0459bf5d7982c73f4aef2e   \n",
       "0      9  5539f2b5ba0459bf5d7982c73f4aef2e   \n",
       "0      9  5539f2b5ba0459bf5d7982c73f4aef2e   \n",
       "0      9  5539f2b5ba0459bf5d7982c73f4aef2e   \n",
       "\n",
       "                                   universe_settings  execution_time  \\\n",
       "0  {\"cutoff\": \"quantile_0.1\", \"eval_fairness_grou...      100.526616   \n",
       "0  {\"cutoff\": \"quantile_0.1\", \"eval_fairness_grou...      100.526616   \n",
       "0  {\"cutoff\": \"quantile_0.25\", \"eval_fairness_gro...      100.526616   \n",
       "0  {\"cutoff\": \"quantile_0.25\", \"eval_fairness_gro...      100.526616   \n",
       "\n",
       "   test_size_n  test_size_frac  fair_main_equalized_odds_difference  \\\n",
       "0        89710             1.0                             0.041785   \n",
       "0        89710             1.0                             0.041785   \n",
       "0        89710             1.0                             0.087225   \n",
       "0        89710             1.0                             0.087225   \n",
       "\n",
       "   fair_main_equalized_odds_ratio  fair_main_demographic_parity_difference  \\\n",
       "0                        0.954532                                 0.035044   \n",
       "0                        0.954532                                 0.035044   \n",
       "0                        0.908991                                 0.035795   \n",
       "0                        0.908991                                 0.035795   \n",
       "\n",
       "   fair_main_demographic_parity_ratio  ...  perf_grp_precision_0  \\\n",
       "0                            0.962197  ...                   NaN   \n",
       "0                            0.962197  ...              0.122945   \n",
       "0                            0.952789  ...                   NaN   \n",
       "0                            0.952789  ...              0.139035   \n",
       "\n",
       "   perf_grp_precision_1  perf_grp_false positive rate_0  \\\n",
       "0                   NaN                             NaN   \n",
       "0              0.146504                        0.918996   \n",
       "0                   NaN                             NaN   \n",
       "0              0.167035                        0.703005   \n",
       "\n",
       "   perf_grp_false positive rate_1  perf_grp_false negative rate_0  \\\n",
       "0                             NaN                             NaN   \n",
       "0                        0.877211                        0.011402   \n",
       "0                             NaN                             NaN   \n",
       "0                        0.727703                        0.128801   \n",
       "\n",
       "   perf_grp_false negative rate_1  perf_grp_selection rate_0  \\\n",
       "0                             NaN                        NaN   \n",
       "0                        0.011050                   0.927020   \n",
       "0                             NaN                        NaN   \n",
       "0                        0.041575                   0.722395   \n",
       "\n",
       "   perf_grp_selection rate_1  perf_grp_count_0  perf_grp_count_1  \n",
       "0                        NaN               NaN               NaN  \n",
       "0                   0.891976           20540.0           69170.0  \n",
       "0                        NaN               NaN               NaN  \n",
       "0                   0.758190           20540.0           69170.0  \n",
       "\n",
       "[4 rows x 50 columns]"
      ]
     },
     "execution_count": 61,
     "metadata": {},
     "output_type": "execute_result"
    }
   ],
   "source": [
    "final_output = universe_analysis.generate_final_output(\n",
    "    y_pred_prob=probs_test,\n",
    "    y_test=y_true,\n",
    "    org_test=org_test,\n",
    "    filter_data=filter_sub_universe_data,\n",
    "    cp_metrics_df=cp_metrics_df,\n",
    "    save=True,\n",
    ")\n",
    "final_output"
   ]
  },
  {
   "cell_type": "code",
   "execution_count": null,
   "id": "721ff514-cb11-46f8-b6fc-50392f74b5cb",
   "metadata": {
    "papermill": {
     "duration": 0.015985,
     "end_time": "2025-07-23T14:41:52.049543",
     "exception": false,
     "start_time": "2025-07-23T14:41:52.033558",
     "status": "completed"
    },
    "tags": []
   },
   "outputs": [],
   "source": []
  }
 ],
 "metadata": {
  "celltoolbar": "Tags",
  "kernelspec": {
   "display_name": "Python (CMA Fairness)",
   "language": "python",
   "name": "cma_fair_env"
  },
  "language_info": {
   "codemirror_mode": {
    "name": "ipython",
    "version": 3
   },
   "file_extension": ".py",
   "mimetype": "text/x-python",
   "name": "python",
   "nbconvert_exporter": "python",
   "pygments_lexer": "ipython3",
   "version": "3.10.12"
  },
  "papermill": {
   "default_parameters": {},
   "duration": 113.819207,
   "end_time": "2025-07-23T14:41:52.683144",
   "environment_variables": {},
   "exception": null,
   "input_path": "universe_analysis.ipynb",
   "output_path": "output/runs/9/notebooks/m_9-5539f2b5ba0459bf5d7982c73f4aef2e.ipynb",
   "parameters": {
    "output_dir": "output",
    "run_no": "9",
    "seed": "2023",
    "universe": "{\"cutoff\": [\"quantile_0.1\", \"quantile_0.25\"], \"eval_fairness_grouping\": [\"majority-minority\", \"nationality-all\"], \"exclude_features\": \"age\", \"exclude_subgroups\": \"drop-non-german\", \"model\": \"gbm\", \"scale\": \"do-not-scale\"}",
    "universe_id": "5539f2b5ba0459bf5d7982c73f4aef2e"
   },
   "start_time": "2025-07-23T14:39:58.863937",
   "version": "2.6.0"
  }
 },
 "nbformat": 4,
 "nbformat_minor": 5
}