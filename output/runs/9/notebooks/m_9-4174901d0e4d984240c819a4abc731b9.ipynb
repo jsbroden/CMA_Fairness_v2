{
 "cells": [
  {
   "cell_type": "code",
   "execution_count": 1,
   "id": "f159f837-637b-42ba-96b5-ec9a68c44524",
   "metadata": {
    "execution": {
     "iopub.execute_input": "2025-07-23T14:29:32.974375Z",
     "iopub.status.busy": "2025-07-23T14:29:32.973922Z",
     "iopub.status.idle": "2025-07-23T14:29:32.994975Z",
     "shell.execute_reply": "2025-07-23T14:29:32.993677Z"
    },
    "papermill": {
     "duration": 0.05517,
     "end_time": "2025-07-23T14:29:32.996747",
     "exception": false,
     "start_time": "2025-07-23T14:29:32.941577",
     "status": "completed"
    },
    "tags": []
   },
   "outputs": [
    {
     "name": "stdout",
     "output_type": "stream",
     "text": [
      "/dss/dsshome1/0C/ra93lal2/cma/CMA_Fairness_v2\n"
     ]
    },
    {
     "name": "stderr",
     "output_type": "stream",
     "text": [
      "/dss/dsshome1/0C/ra93lal2/.local/share/virtualenvs/CMA_Fairness_v2-3j10GkSs/lib/python3.10/site-packages/IPython/core/magics/osm.py:393: UserWarning: This is now an optional IPython functionality, using bookmarks requires you to install the `pickleshare` library.\n",
      "  bkms = self.shell.db.get('bookmarks', {})\n",
      "/dss/dsshome1/0C/ra93lal2/.local/share/virtualenvs/CMA_Fairness_v2-3j10GkSs/lib/python3.10/site-packages/IPython/core/magics/osm.py:417: UserWarning: This is now an optional IPython functionality, setting dhist requires you to install the `pickleshare` library.\n",
      "  self.shell.db['dhist'] = compress_dhist(dhist)[-100:]\n"
     ]
    }
   ],
   "source": [
    "%cd ~/cma/CMA_Fairness_v2"
   ]
  },
  {
   "cell_type": "markdown",
   "id": "de2603b9",
   "metadata": {
    "papermill": {
     "duration": 0.033887,
     "end_time": "2025-07-23T14:29:33.064857",
     "exception": false,
     "start_time": "2025-07-23T14:29:33.030970",
     "status": "completed"
    },
    "tags": []
   },
   "source": [
    "The following cell holds the definition of our parameters, these values can be overriden by rendering the with e.g. the following command:\n",
    "\n",
    "papermill -p alpha 0.2 -p ratio 0.3 universe_analysis.ipynb output/test_run.ipynb"
   ]
  },
  {
   "cell_type": "code",
   "execution_count": 2,
   "id": "a80968a0-40bb-4fa9-85ef-2d5eefb01975",
   "metadata": {
    "execution": {
     "iopub.execute_input": "2025-07-23T14:29:33.147635Z",
     "iopub.status.busy": "2025-07-23T14:29:33.147199Z",
     "iopub.status.idle": "2025-07-23T14:29:33.155654Z",
     "shell.execute_reply": "2025-07-23T14:29:33.154539Z"
    },
    "papermill": {
     "duration": 0.058998,
     "end_time": "2025-07-23T14:29:33.157916",
     "exception": false,
     "start_time": "2025-07-23T14:29:33.098918",
     "status": "completed"
    },
    "tags": []
   },
   "outputs": [
    {
     "name": "stdout",
     "output_type": "stream",
     "text": [
      "Current working directory: /dss/dsshome1/0C/ra93lal2/cma/CMA_Fairness_v2\n"
     ]
    }
   ],
   "source": [
    "import os\n",
    "print(\"Current working directory:\", os.getcwd())"
   ]
  },
  {
   "cell_type": "code",
   "execution_count": 3,
   "id": "2dce4c03",
   "metadata": {
    "execution": {
     "iopub.execute_input": "2025-07-23T14:29:33.245528Z",
     "iopub.status.busy": "2025-07-23T14:29:33.245091Z",
     "iopub.status.idle": "2025-07-23T14:29:33.253258Z",
     "shell.execute_reply": "2025-07-23T14:29:33.252258Z"
    },
    "papermill": {
     "duration": 0.046597,
     "end_time": "2025-07-23T14:29:33.255408",
     "exception": false,
     "start_time": "2025-07-23T14:29:33.208811",
     "status": "completed"
    },
    "tags": [
     "parameters"
    ]
   },
   "outputs": [],
   "source": [
    "run_no = 0\n",
    "universe_id = \"test\"\n",
    "universe = {\n",
    "    \"scale\": \"scale\", # \"scale\", \"do-not-scale\",\n",
    "    \"model\": \"elasticnet\", # \"logreg\", \"penalized_logreg\", \"rf\", \"gbm\", \"elasticnet\"\n",
    "    \"cutoff\": [\"quantile_0.15\", \"quantile_0.30\"],\n",
    "    \"exclude_features\": \"age\", # \"none\", \"nationality\", \"sex\", \"nationality-sex\", \"age\"\n",
    "    \"exclude_subgroups\": \"keep-all\", # \"keep-all\", \"drop-non-german\"\n",
    "    #\"training_sample\": \"restricted\", # \"restricted\", \"full\"\n",
    "    \"eval_fairness_grouping\": [\"majority-minority\", \"nationality-all\"]\n",
    "}\n",
    "\n",
    "output_dir=\"./output\"\n",
    "seed=0"
   ]
  },
  {
   "cell_type": "code",
   "execution_count": 4,
   "id": "59f16231",
   "metadata": {
    "execution": {
     "iopub.execute_input": "2025-07-23T14:29:33.338899Z",
     "iopub.status.busy": "2025-07-23T14:29:33.338467Z",
     "iopub.status.idle": "2025-07-23T14:29:33.344651Z",
     "shell.execute_reply": "2025-07-23T14:29:33.343576Z"
    },
    "papermill": {
     "duration": 0.049822,
     "end_time": "2025-07-23T14:29:33.353483",
     "exception": false,
     "start_time": "2025-07-23T14:29:33.303661",
     "status": "completed"
    },
    "tags": [
     "injected-parameters"
    ]
   },
   "outputs": [],
   "source": [
    "# Parameters\n",
    "universe_id = \"4174901d0e4d984240c819a4abc731b9\"\n",
    "run_no = \"9\"\n",
    "universe = \"{\\\"cutoff\\\": [\\\"quantile_0.1\\\", \\\"quantile_0.25\\\"], \\\"eval_fairness_grouping\\\": [\\\"majority-minority\\\", \\\"nationality-all\\\"], \\\"exclude_features\\\": \\\"none\\\", \\\"exclude_subgroups\\\": \\\"drop-non-german\\\", \\\"model\\\": \\\"gbm\\\", \\\"scale\\\": \\\"scale\\\"}\"\n",
    "output_dir = \"output\"\n",
    "seed = \"2023\"\n"
   ]
  },
  {
   "cell_type": "code",
   "execution_count": 5,
   "id": "1650acaf",
   "metadata": {
    "execution": {
     "iopub.execute_input": "2025-07-23T14:29:33.435006Z",
     "iopub.status.busy": "2025-07-23T14:29:33.434603Z",
     "iopub.status.idle": "2025-07-23T14:29:33.439898Z",
     "shell.execute_reply": "2025-07-23T14:29:33.438949Z"
    },
    "papermill": {
     "duration": 0.040812,
     "end_time": "2025-07-23T14:29:33.441887",
     "exception": false,
     "start_time": "2025-07-23T14:29:33.401075",
     "status": "completed"
    },
    "tags": []
   },
   "outputs": [],
   "source": [
    "import json\n",
    "# Parse universe into dict if it is passed as a string\n",
    "if isinstance(universe, str):\n",
    "    universe = json.loads(universe)"
   ]
  },
  {
   "cell_type": "code",
   "execution_count": 6,
   "id": "16620c48",
   "metadata": {
    "execution": {
     "iopub.execute_input": "2025-07-23T14:29:33.505270Z",
     "iopub.status.busy": "2025-07-23T14:29:33.504839Z",
     "iopub.status.idle": "2025-07-23T14:29:33.563897Z",
     "shell.execute_reply": "2025-07-23T14:29:33.562885Z"
    },
    "papermill": {
     "duration": 0.095577,
     "end_time": "2025-07-23T14:29:33.566284",
     "exception": false,
     "start_time": "2025-07-23T14:29:33.470707",
     "status": "completed"
    },
    "tags": []
   },
   "outputs": [],
   "source": [
    "# Auto-reload the custom package\n",
    "%load_ext autoreload\n",
    "%autoreload 1\n",
    "%aimport fairness_multiverse"
   ]
  },
  {
   "cell_type": "code",
   "execution_count": 7,
   "id": "01c5c9f3",
   "metadata": {
    "execution": {
     "iopub.execute_input": "2025-07-23T14:29:33.607331Z",
     "iopub.status.busy": "2025-07-23T14:29:33.606893Z",
     "iopub.status.idle": "2025-07-23T14:29:37.924814Z",
     "shell.execute_reply": "2025-07-23T14:29:37.919784Z"
    },
    "papermill": {
     "duration": 4.339708,
     "end_time": "2025-07-23T14:29:37.927111",
     "exception": false,
     "start_time": "2025-07-23T14:29:33.587403",
     "status": "completed"
    },
    "tags": []
   },
   "outputs": [],
   "source": [
    "from fairness_multiverse.universe import UniverseAnalysis\n",
    "\n",
    "universe_analysis = UniverseAnalysis(\n",
    "    run_no = run_no,\n",
    "    universe_id = universe_id,\n",
    "    universe = universe,\n",
    "    output_dir=output_dir,\n",
    ")"
   ]
  },
  {
   "cell_type": "code",
   "execution_count": 8,
   "id": "106241f5",
   "metadata": {
    "execution": {
     "iopub.execute_input": "2025-07-23T14:29:38.008096Z",
     "iopub.status.busy": "2025-07-23T14:29:38.006982Z",
     "iopub.status.idle": "2025-07-23T14:29:38.015512Z",
     "shell.execute_reply": "2025-07-23T14:29:38.014229Z"
    },
    "papermill": {
     "duration": 0.063183,
     "end_time": "2025-07-23T14:29:38.017377",
     "exception": false,
     "start_time": "2025-07-23T14:29:37.954194",
     "status": "completed"
    },
    "tags": []
   },
   "outputs": [
    {
     "name": "stdout",
     "output_type": "stream",
     "text": [
      "Using Seed: 2023\n"
     ]
    }
   ],
   "source": [
    "import numpy as np\n",
    "parsed_seed = int(seed)\n",
    "np.random.seed(parsed_seed)\n",
    "print(f\"Using Seed: {parsed_seed}\")"
   ]
  },
  {
   "cell_type": "markdown",
   "id": "e0ebdc57",
   "metadata": {
    "papermill": {
     "duration": 0.018061,
     "end_time": "2025-07-23T14:29:38.070669",
     "exception": false,
     "start_time": "2025-07-23T14:29:38.052608",
     "status": "completed"
    },
    "tags": []
   },
   "source": [
    "# Loading Data"
   ]
  },
  {
   "cell_type": "markdown",
   "id": "681925a3",
   "metadata": {
    "papermill": {
     "duration": 0.018365,
     "end_time": "2025-07-23T14:29:38.107750",
     "exception": false,
     "start_time": "2025-07-23T14:29:38.089385",
     "status": "completed"
    },
    "tags": []
   },
   "source": [
    "Load siab_train, siab_test, siab_calib and/or \n",
    "load siab_train_features, siab_train_labels"
   ]
  },
  {
   "cell_type": "code",
   "execution_count": 9,
   "id": "f0496b8a",
   "metadata": {
    "execution": {
     "iopub.execute_input": "2025-07-23T14:29:38.193817Z",
     "iopub.status.busy": "2025-07-23T14:29:38.193394Z",
     "iopub.status.idle": "2025-07-23T14:29:38.200118Z",
     "shell.execute_reply": "2025-07-23T14:29:38.198856Z"
    },
    "papermill": {
     "duration": 0.04491,
     "end_time": "2025-07-23T14:29:38.201962",
     "exception": false,
     "start_time": "2025-07-23T14:29:38.157052",
     "status": "completed"
    },
    "tags": []
   },
   "outputs": [],
   "source": [
    "# Do I need to load siab? Delete this cell?\n",
    "\n",
    "#from pathlib import Path\n",
    "#import pandas as pd\n",
    "#\n",
    "## File paths\n",
    "#raw_file = Path(\"data/raw/siab.csv\")\n",
    "#cache_file = Path(\"data/siab_cached.csv.gz\")\n",
    "#\n",
    "## Ensure cache directory exists\n",
    "#cache_file.parent.mkdir(parents=True, exist_ok=True)\n",
    "#\n",
    "## Load with simple caching\n",
    "#if cache_file.exists():\n",
    "#    print(f\"Loading SIAB data from cache: {cache_file}\")\n",
    "#    siab = pd.read_csv(cache_file, compression='gzip')\n",
    "#else:\n",
    "#    print(f\"Cache not found. Reading raw SIAB data: {raw_file}\")\n",
    "#    siab = pd.read_csv(raw_file)\n",
    "#    siab.to_csv(cache_file, index=False, compression='gzip')\n",
    "#    print(f\"Cached SIAB data to: {cache_file}\")\n",
    "#\n",
    "## Now use `siab` DataFrame as needed\n",
    "#print(siab.shape)\n"
   ]
  },
  {
   "cell_type": "code",
   "execution_count": 10,
   "id": "a0edb063",
   "metadata": {
    "execution": {
     "iopub.execute_input": "2025-07-23T14:29:38.259538Z",
     "iopub.status.busy": "2025-07-23T14:29:38.259101Z",
     "iopub.status.idle": "2025-07-23T14:29:39.832280Z",
     "shell.execute_reply": "2025-07-23T14:29:39.831189Z"
    },
    "papermill": {
     "duration": 1.597518,
     "end_time": "2025-07-23T14:29:39.834478",
     "exception": false,
     "start_time": "2025-07-23T14:29:38.236960",
     "status": "completed"
    },
    "tags": []
   },
   "outputs": [],
   "source": [
    "import pandas as pd\n",
    "\n",
    "X_train = pd.read_csv(\"./data/X_train.csv\")\n",
    "y_train = pd.read_csv(\"./data/y_train.csv\")"
   ]
  },
  {
   "cell_type": "code",
   "execution_count": 11,
   "id": "63d08085",
   "metadata": {
    "execution": {
     "iopub.execute_input": "2025-07-23T14:29:39.874150Z",
     "iopub.status.busy": "2025-07-23T14:29:39.873638Z",
     "iopub.status.idle": "2025-07-23T14:29:42.115161Z",
     "shell.execute_reply": "2025-07-23T14:29:42.113935Z"
    },
    "papermill": {
     "duration": 2.263671,
     "end_time": "2025-07-23T14:29:42.117363",
     "exception": false,
     "start_time": "2025-07-23T14:29:39.853692",
     "status": "completed"
    },
    "tags": []
   },
   "outputs": [],
   "source": [
    "X_test = pd.read_csv(\"./data/X_test.csv\")\n",
    "y_true = pd.read_csv(\"./data/y_test.csv\")"
   ]
  },
  {
   "cell_type": "code",
   "execution_count": 12,
   "id": "98a8d0fa-1d3d-4ed8-bb2c-281470e24add",
   "metadata": {
    "execution": {
     "iopub.execute_input": "2025-07-23T14:29:42.169460Z",
     "iopub.status.busy": "2025-07-23T14:29:42.169040Z",
     "iopub.status.idle": "2025-07-23T14:29:44.657800Z",
     "shell.execute_reply": "2025-07-23T14:29:44.656637Z"
    },
    "papermill": {
     "duration": 2.511555,
     "end_time": "2025-07-23T14:29:44.660444",
     "exception": false,
     "start_time": "2025-07-23T14:29:42.148889",
     "status": "completed"
    },
    "tags": []
   },
   "outputs": [],
   "source": [
    "# Calibration data for conformal\n",
    "X_calib = pd.read_csv(\"./data/X_calib.csv\")\n",
    "y_calib = pd.read_csv(\"./data/y_calib.csv\")"
   ]
  },
  {
   "cell_type": "code",
   "execution_count": 13,
   "id": "e6c733c5",
   "metadata": {
    "execution": {
     "iopub.execute_input": "2025-07-23T14:29:44.723190Z",
     "iopub.status.busy": "2025-07-23T14:29:44.722759Z",
     "iopub.status.idle": "2025-07-23T14:29:45.013168Z",
     "shell.execute_reply": "2025-07-23T14:29:45.004651Z"
    },
    "papermill": {
     "duration": 0.335611,
     "end_time": "2025-07-23T14:29:45.015521",
     "exception": false,
     "start_time": "2025-07-23T14:29:44.679910",
     "status": "completed"
    },
    "tags": []
   },
   "outputs": [],
   "source": [
    "# Auxiliary data needed downstream in the pipeline\n",
    "\n",
    "org_train = X_train.copy()\n",
    "org_test = X_test.copy()\n",
    "org_calib = X_calib.copy()"
   ]
  },
  {
   "cell_type": "markdown",
   "id": "0a4a1b33",
   "metadata": {
    "papermill": {
     "duration": 0.034788,
     "end_time": "2025-07-23T14:29:45.095674",
     "exception": false,
     "start_time": "2025-07-23T14:29:45.060886",
     "status": "completed"
    },
    "tags": []
   },
   "source": [
    "# Preprocessing Data"
   ]
  },
  {
   "cell_type": "code",
   "execution_count": 14,
   "id": "ca879031",
   "metadata": {
    "execution": {
     "iopub.execute_input": "2025-07-23T14:29:45.191227Z",
     "iopub.status.busy": "2025-07-23T14:29:45.190781Z",
     "iopub.status.idle": "2025-07-23T14:29:45.197690Z",
     "shell.execute_reply": "2025-07-23T14:29:45.196416Z"
    },
    "papermill": {
     "duration": 0.068966,
     "end_time": "2025-07-23T14:29:45.199981",
     "exception": false,
     "start_time": "2025-07-23T14:29:45.131015",
     "status": "completed"
    },
    "tags": []
   },
   "outputs": [],
   "source": [
    "# EXCLUDE PROTECTED FEATURES\n",
    "# ----------------------\n",
    "# \"exclude_features\": \"none\", # \"nationality\", \"sex\", \"nationality-sex\"\n",
    "\n",
    "excluded_features = universe[\"exclude_features\"].split(\"-\") # split, e.g.: \"nationality-sex\" -> [\"nationality\", \"sex\"]\n",
    "excluded_features_dictionary = {\n",
    "    \"nationality\": [\"maxdeutsch1\", \"maxdeutsch.Missing.\"],\n",
    "    \"sex\": [\"frau1\"],\n",
    "    \"age\": [\"age\"],\n",
    "}\n"
   ]
  },
  {
   "cell_type": "code",
   "execution_count": 15,
   "id": "b745ac60",
   "metadata": {
    "execution": {
     "iopub.execute_input": "2025-07-23T14:29:45.295578Z",
     "iopub.status.busy": "2025-07-23T14:29:45.295102Z",
     "iopub.status.idle": "2025-07-23T14:29:45.303302Z",
     "shell.execute_reply": "2025-07-23T14:29:45.302177Z"
    },
    "papermill": {
     "duration": 0.060708,
     "end_time": "2025-07-23T14:29:45.305615",
     "exception": false,
     "start_time": "2025-07-23T14:29:45.244907",
     "status": "completed"
    },
    "tags": []
   },
   "outputs": [],
   "source": [
    "# Code nice names to column names\n",
    "\n",
    "excluded_features_columns = [\n",
    "    excluded_features_dictionary[f] for f in excluded_features if len(f) > 0 and f != \"none\"\n",
    "]"
   ]
  },
  {
   "cell_type": "code",
   "execution_count": 16,
   "id": "f84f73a2",
   "metadata": {
    "execution": {
     "iopub.execute_input": "2025-07-23T14:29:45.398577Z",
     "iopub.status.busy": "2025-07-23T14:29:45.398114Z",
     "iopub.status.idle": "2025-07-23T14:29:45.406910Z",
     "shell.execute_reply": "2025-07-23T14:29:45.405665Z"
    },
    "papermill": {
     "duration": 0.048303,
     "end_time": "2025-07-23T14:29:45.408987",
     "exception": false,
     "start_time": "2025-07-23T14:29:45.360684",
     "status": "completed"
    },
    "tags": []
   },
   "outputs": [],
   "source": [
    "from utils import flatten_once\n",
    "\n",
    "excluded_features_columns = flatten_once(excluded_features_columns)"
   ]
  },
  {
   "cell_type": "code",
   "execution_count": 17,
   "id": "884dea22",
   "metadata": {
    "execution": {
     "iopub.execute_input": "2025-07-23T14:29:45.490258Z",
     "iopub.status.busy": "2025-07-23T14:29:45.489815Z",
     "iopub.status.idle": "2025-07-23T14:29:45.497994Z",
     "shell.execute_reply": "2025-07-23T14:29:45.496783Z"
    },
    "papermill": {
     "duration": 0.047582,
     "end_time": "2025-07-23T14:29:45.500431",
     "exception": false,
     "start_time": "2025-07-23T14:29:45.452849",
     "status": "completed"
    },
    "tags": []
   },
   "outputs": [],
   "source": [
    "if len(excluded_features_columns) > 0:\n",
    "    print(f\"Dropping features: {excluded_features_columns}\")\n",
    "    X_train.drop(excluded_features_columns, axis=1, inplace=True)"
   ]
  },
  {
   "cell_type": "code",
   "execution_count": 18,
   "id": "95ab8b16",
   "metadata": {
    "execution": {
     "iopub.execute_input": "2025-07-23T14:29:45.602839Z",
     "iopub.status.busy": "2025-07-23T14:29:45.602353Z",
     "iopub.status.idle": "2025-07-23T14:29:45.609248Z",
     "shell.execute_reply": "2025-07-23T14:29:45.608260Z"
    },
    "papermill": {
     "duration": 0.047648,
     "end_time": "2025-07-23T14:29:45.612764",
     "exception": false,
     "start_time": "2025-07-23T14:29:45.565116",
     "status": "completed"
    },
    "tags": []
   },
   "outputs": [],
   "source": [
    "if len(excluded_features_columns) > 0:\n",
    "    print(f\"Dropping features: {excluded_features_columns}\")\n",
    "    X_test.drop(excluded_features_columns, axis=1, inplace=True)"
   ]
  },
  {
   "cell_type": "code",
   "execution_count": 19,
   "id": "1853aaf5-fb9f-46cb-a2b5-8ea4ae2237e4",
   "metadata": {
    "execution": {
     "iopub.execute_input": "2025-07-23T14:29:45.707613Z",
     "iopub.status.busy": "2025-07-23T14:29:45.707190Z",
     "iopub.status.idle": "2025-07-23T14:29:45.714520Z",
     "shell.execute_reply": "2025-07-23T14:29:45.713315Z"
    },
    "papermill": {
     "duration": 0.056197,
     "end_time": "2025-07-23T14:29:45.717074",
     "exception": false,
     "start_time": "2025-07-23T14:29:45.660877",
     "status": "completed"
    },
    "tags": []
   },
   "outputs": [],
   "source": [
    "if len(excluded_features_columns) > 0:\n",
    "    print(f\"Dropping features: {excluded_features_columns}\")\n",
    "    X_calib.drop(excluded_features_columns, axis=1, inplace=True)"
   ]
  },
  {
   "cell_type": "code",
   "execution_count": 20,
   "id": "76c4dc6d",
   "metadata": {
    "execution": {
     "iopub.execute_input": "2025-07-23T14:29:45.802892Z",
     "iopub.status.busy": "2025-07-23T14:29:45.802432Z",
     "iopub.status.idle": "2025-07-23T14:29:45.809128Z",
     "shell.execute_reply": "2025-07-23T14:29:45.808021Z"
    },
    "papermill": {
     "duration": 0.047419,
     "end_time": "2025-07-23T14:29:45.812545",
     "exception": false,
     "start_time": "2025-07-23T14:29:45.765126",
     "status": "completed"
    },
    "tags": []
   },
   "outputs": [],
   "source": [
    "# EXCLUDE CERTAIN SUBGROUPS\n",
    "# ----------------------\n",
    "\n",
    "mode = universe.get(\"exclude_subgroups\", \"keep-all\") \n",
    "# Fetches the exclude_subgroups setting from the universe dict.\n",
    "# Defaults to \"keep-all\" if the key is missing."
   ]
  },
  {
   "cell_type": "code",
   "execution_count": 21,
   "id": "21994072",
   "metadata": {
    "execution": {
     "iopub.execute_input": "2025-07-23T14:29:45.898397Z",
     "iopub.status.busy": "2025-07-23T14:29:45.897947Z",
     "iopub.status.idle": "2025-07-23T14:29:45.907773Z",
     "shell.execute_reply": "2025-07-23T14:29:45.906412Z"
    },
    "papermill": {
     "duration": 0.049139,
     "end_time": "2025-07-23T14:29:45.909973",
     "exception": false,
     "start_time": "2025-07-23T14:29:45.860834",
     "status": "completed"
    },
    "tags": []
   },
   "outputs": [],
   "source": [
    "if mode == \"keep-all\":\n",
    "    keep_mask = pd.Series(True, index=org_train.index)\n",
    "\n",
    "# org_train contains the original feature columns from features_org (in Simson)\n",
    "# features_org contains unprocessed features, for me X_train at beginning ???\n",
    "# For keep-all, creates a boolean Series (keep_mask) of all True, so no rows are removed.\n",
    "\n",
    "elif mode == \"drop-non-german\":\n",
    "    keep_mask = org_train[\"maxdeutsch1\"] == 1 # ??? what about missing values?\n",
    "\n",
    "else:\n",
    "    raise ValueError(f\"Unsupported mode for exclude_subgroups: {mode}\")\n"
   ]
  },
  {
   "cell_type": "code",
   "execution_count": 22,
   "id": "71651440",
   "metadata": {
    "execution": {
     "iopub.execute_input": "2025-07-23T14:29:45.989641Z",
     "iopub.status.busy": "2025-07-23T14:29:45.989163Z",
     "iopub.status.idle": "2025-07-23T14:29:45.997383Z",
     "shell.execute_reply": "2025-07-23T14:29:45.996273Z"
    },
    "papermill": {
     "duration": 0.06184,
     "end_time": "2025-07-23T14:29:46.002141",
     "exception": false,
     "start_time": "2025-07-23T14:29:45.940301",
     "status": "completed"
    },
    "tags": []
   },
   "outputs": [
    {
     "name": "stdout",
     "output_type": "stream",
     "text": [
      "Dropping 10036 rows (13.38%) where mode='drop-non-german'\n"
     ]
    }
   ],
   "source": [
    "n_drop = (~keep_mask).sum() # Calculates how many rows are set to be dropped\n",
    "if n_drop > 0:\n",
    "    pct = n_drop / len(keep_mask) * 100\n",
    "    print(f\"Dropping {n_drop} rows ({pct:.2f}%) where mode='{mode}'\")"
   ]
  },
  {
   "cell_type": "code",
   "execution_count": 23,
   "id": "5fb8eee5",
   "metadata": {
    "execution": {
     "iopub.execute_input": "2025-07-23T14:29:46.091573Z",
     "iopub.status.busy": "2025-07-23T14:29:46.091129Z",
     "iopub.status.idle": "2025-07-23T14:29:46.186364Z",
     "shell.execute_reply": "2025-07-23T14:29:46.185091Z"
    },
    "papermill": {
     "duration": 0.134963,
     "end_time": "2025-07-23T14:29:46.188933",
     "exception": false,
     "start_time": "2025-07-23T14:29:46.053970",
     "status": "completed"
    },
    "tags": []
   },
   "outputs": [],
   "source": [
    "X_train = X_train[keep_mask]"
   ]
  },
  {
   "cell_type": "code",
   "execution_count": 24,
   "id": "b202bb3a",
   "metadata": {
    "execution": {
     "iopub.execute_input": "2025-07-23T14:29:46.271199Z",
     "iopub.status.busy": "2025-07-23T14:29:46.270756Z",
     "iopub.status.idle": "2025-07-23T14:29:46.281329Z",
     "shell.execute_reply": "2025-07-23T14:29:46.280092Z"
    },
    "papermill": {
     "duration": 0.050348,
     "end_time": "2025-07-23T14:29:46.283462",
     "exception": false,
     "start_time": "2025-07-23T14:29:46.233114",
     "status": "completed"
    },
    "tags": []
   },
   "outputs": [],
   "source": [
    "y_train = y_train[keep_mask]"
   ]
  },
  {
   "cell_type": "markdown",
   "id": "493e2ac3",
   "metadata": {
    "papermill": {
     "duration": 0.035288,
     "end_time": "2025-07-23T14:29:46.340080",
     "exception": false,
     "start_time": "2025-07-23T14:29:46.304792",
     "status": "completed"
    },
    "tags": []
   },
   "source": [
    "# Model Training"
   ]
  },
  {
   "cell_type": "code",
   "execution_count": 25,
   "id": "679e1268",
   "metadata": {
    "execution": {
     "iopub.execute_input": "2025-07-23T14:29:46.403698Z",
     "iopub.status.busy": "2025-07-23T14:29:46.403263Z",
     "iopub.status.idle": "2025-07-23T14:29:46.749053Z",
     "shell.execute_reply": "2025-07-23T14:29:46.745167Z"
    },
    "papermill": {
     "duration": 0.37547,
     "end_time": "2025-07-23T14:29:46.751125",
     "exception": false,
     "start_time": "2025-07-23T14:29:46.375655",
     "status": "completed"
    },
    "tags": []
   },
   "outputs": [],
   "source": [
    "from sklearn.linear_model import LogisticRegression\n",
    "from sklearn.ensemble import GradientBoostingClassifier, RandomForestClassifier\n",
    "\n",
    "if (universe[\"model\"] == \"logreg\"):\n",
    "    model = LogisticRegression() #penalty=\"none\") #, solver=\"newton-cg\", max_iter=1) # include random_state=19 ?\n",
    "elif (universe[\"model\"] == \"penalized_logreg\"):\n",
    "    model = LogisticRegression(penalty=\"l2\", C=1.0) #, solver=\"newton-cg\", max_iter=1)\n",
    "elif (universe[\"model\"] == \"rf\"):\n",
    "    model = RandomForestClassifier(n_estimators=100, n_jobs=-1)\n",
    "elif (universe[\"model\"] == \"gbm\"):\n",
    "    model = GradientBoostingClassifier()\n",
    "elif (universe[\"model\"] == \"elasticnet\"):\n",
    "    model = LogisticRegression(penalty = 'elasticnet', solver = 'saga', l1_ratio = 0.5, max_iter=5000) # which solver to use?\n",
    "else:\n",
    "    raise \"Unsupported universe.model\""
   ]
  },
  {
   "cell_type": "code",
   "execution_count": 26,
   "id": "0cc8f744",
   "metadata": {
    "execution": {
     "iopub.execute_input": "2025-07-23T14:29:46.877929Z",
     "iopub.status.busy": "2025-07-23T14:29:46.876895Z",
     "iopub.status.idle": "2025-07-23T14:29:46.884496Z",
     "shell.execute_reply": "2025-07-23T14:29:46.883439Z"
    },
    "papermill": {
     "duration": 0.085914,
     "end_time": "2025-07-23T14:29:46.886607",
     "exception": false,
     "start_time": "2025-07-23T14:29:46.800693",
     "status": "completed"
    },
    "tags": []
   },
   "outputs": [],
   "source": [
    "import numpy as np\n",
    "from sklearn.pipeline import Pipeline\n",
    "from sklearn.preprocessing import StandardScaler\n",
    "\n",
    "model = Pipeline([\n",
    "    #(\"continuous_processor\", continuous_processor),\n",
    "    #(\"categorical_preprocessor\", categorical_preprocessor),\n",
    "    (\"scale\", StandardScaler() if universe[\"scale\"] == \"scale\" else None), \n",
    "    (\"model\", model),\n",
    "])"
   ]
  },
  {
   "cell_type": "code",
   "execution_count": 27,
   "id": "9442c04d",
   "metadata": {
    "execution": {
     "iopub.execute_input": "2025-07-23T14:29:47.018753Z",
     "iopub.status.busy": "2025-07-23T14:29:47.018309Z",
     "iopub.status.idle": "2025-07-23T14:30:59.422742Z",
     "shell.execute_reply": "2025-07-23T14:30:59.421491Z"
    },
    "papermill": {
     "duration": 72.474685,
     "end_time": "2025-07-23T14:30:59.435769",
     "exception": false,
     "start_time": "2025-07-23T14:29:46.961084",
     "status": "completed"
    },
    "tags": []
   },
   "outputs": [
    {
     "data": {
      "text/html": [
       "<style>#sk-container-id-1 {color: black;background-color: white;}#sk-container-id-1 pre{padding: 0;}#sk-container-id-1 div.sk-toggleable {background-color: white;}#sk-container-id-1 label.sk-toggleable__label {cursor: pointer;display: block;width: 100%;margin-bottom: 0;padding: 0.3em;box-sizing: border-box;text-align: center;}#sk-container-id-1 label.sk-toggleable__label-arrow:before {content: \"▸\";float: left;margin-right: 0.25em;color: #696969;}#sk-container-id-1 label.sk-toggleable__label-arrow:hover:before {color: black;}#sk-container-id-1 div.sk-estimator:hover label.sk-toggleable__label-arrow:before {color: black;}#sk-container-id-1 div.sk-toggleable__content {max-height: 0;max-width: 0;overflow: hidden;text-align: left;background-color: #f0f8ff;}#sk-container-id-1 div.sk-toggleable__content pre {margin: 0.2em;color: black;border-radius: 0.25em;background-color: #f0f8ff;}#sk-container-id-1 input.sk-toggleable__control:checked~div.sk-toggleable__content {max-height: 200px;max-width: 100%;overflow: auto;}#sk-container-id-1 input.sk-toggleable__control:checked~label.sk-toggleable__label-arrow:before {content: \"▾\";}#sk-container-id-1 div.sk-estimator input.sk-toggleable__control:checked~label.sk-toggleable__label {background-color: #d4ebff;}#sk-container-id-1 div.sk-label input.sk-toggleable__control:checked~label.sk-toggleable__label {background-color: #d4ebff;}#sk-container-id-1 input.sk-hidden--visually {border: 0;clip: rect(1px 1px 1px 1px);clip: rect(1px, 1px, 1px, 1px);height: 1px;margin: -1px;overflow: hidden;padding: 0;position: absolute;width: 1px;}#sk-container-id-1 div.sk-estimator {font-family: monospace;background-color: #f0f8ff;border: 1px dotted black;border-radius: 0.25em;box-sizing: border-box;margin-bottom: 0.5em;}#sk-container-id-1 div.sk-estimator:hover {background-color: #d4ebff;}#sk-container-id-1 div.sk-parallel-item::after {content: \"\";width: 100%;border-bottom: 1px solid gray;flex-grow: 1;}#sk-container-id-1 div.sk-label:hover label.sk-toggleable__label {background-color: #d4ebff;}#sk-container-id-1 div.sk-serial::before {content: \"\";position: absolute;border-left: 1px solid gray;box-sizing: border-box;top: 0;bottom: 0;left: 50%;z-index: 0;}#sk-container-id-1 div.sk-serial {display: flex;flex-direction: column;align-items: center;background-color: white;padding-right: 0.2em;padding-left: 0.2em;position: relative;}#sk-container-id-1 div.sk-item {position: relative;z-index: 1;}#sk-container-id-1 div.sk-parallel {display: flex;align-items: stretch;justify-content: center;background-color: white;position: relative;}#sk-container-id-1 div.sk-item::before, #sk-container-id-1 div.sk-parallel-item::before {content: \"\";position: absolute;border-left: 1px solid gray;box-sizing: border-box;top: 0;bottom: 0;left: 50%;z-index: -1;}#sk-container-id-1 div.sk-parallel-item {display: flex;flex-direction: column;z-index: 1;position: relative;background-color: white;}#sk-container-id-1 div.sk-parallel-item:first-child::after {align-self: flex-end;width: 50%;}#sk-container-id-1 div.sk-parallel-item:last-child::after {align-self: flex-start;width: 50%;}#sk-container-id-1 div.sk-parallel-item:only-child::after {width: 0;}#sk-container-id-1 div.sk-dashed-wrapped {border: 1px dashed gray;margin: 0 0.4em 0.5em 0.4em;box-sizing: border-box;padding-bottom: 0.4em;background-color: white;}#sk-container-id-1 div.sk-label label {font-family: monospace;font-weight: bold;display: inline-block;line-height: 1.2em;}#sk-container-id-1 div.sk-label-container {text-align: center;}#sk-container-id-1 div.sk-container {/* jupyter's `normalize.less` sets `[hidden] { display: none; }` but bootstrap.min.css set `[hidden] { display: none !important; }` so we also need the `!important` here to be able to override the default hidden behavior on the sphinx rendered scikit-learn.org. See: https://github.com/scikit-learn/scikit-learn/issues/21755 */display: inline-block !important;position: relative;}#sk-container-id-1 div.sk-text-repr-fallback {display: none;}</style><div id=\"sk-container-id-1\" class=\"sk-top-container\"><div class=\"sk-text-repr-fallback\"><pre>Pipeline(steps=[(&#x27;scale&#x27;, StandardScaler()),\n",
       "                (&#x27;model&#x27;, GradientBoostingClassifier())])</pre><b>In a Jupyter environment, please rerun this cell to show the HTML representation or trust the notebook. <br />On GitHub, the HTML representation is unable to render, please try loading this page with nbviewer.org.</b></div><div class=\"sk-container\" hidden><div class=\"sk-item sk-dashed-wrapped\"><div class=\"sk-label-container\"><div class=\"sk-label sk-toggleable\"><input class=\"sk-toggleable__control sk-hidden--visually\" id=\"sk-estimator-id-1\" type=\"checkbox\" ><label for=\"sk-estimator-id-1\" class=\"sk-toggleable__label sk-toggleable__label-arrow\">Pipeline</label><div class=\"sk-toggleable__content\"><pre>Pipeline(steps=[(&#x27;scale&#x27;, StandardScaler()),\n",
       "                (&#x27;model&#x27;, GradientBoostingClassifier())])</pre></div></div></div><div class=\"sk-serial\"><div class=\"sk-item\"><div class=\"sk-estimator sk-toggleable\"><input class=\"sk-toggleable__control sk-hidden--visually\" id=\"sk-estimator-id-2\" type=\"checkbox\" ><label for=\"sk-estimator-id-2\" class=\"sk-toggleable__label sk-toggleable__label-arrow\">StandardScaler</label><div class=\"sk-toggleable__content\"><pre>StandardScaler()</pre></div></div></div><div class=\"sk-item\"><div class=\"sk-estimator sk-toggleable\"><input class=\"sk-toggleable__control sk-hidden--visually\" id=\"sk-estimator-id-3\" type=\"checkbox\" ><label for=\"sk-estimator-id-3\" class=\"sk-toggleable__label sk-toggleable__label-arrow\">GradientBoostingClassifier</label><div class=\"sk-toggleable__content\"><pre>GradientBoostingClassifier()</pre></div></div></div></div></div></div></div>"
      ],
      "text/plain": [
       "Pipeline(steps=[('scale', StandardScaler()),\n",
       "                ('model', GradientBoostingClassifier())])"
      ]
     },
     "execution_count": 27,
     "metadata": {},
     "output_type": "execute_result"
    }
   ],
   "source": [
    "model.fit(X_train, y_train.values.ravel())"
   ]
  },
  {
   "cell_type": "code",
   "execution_count": 28,
   "id": "af59f8c0",
   "metadata": {
    "execution": {
     "iopub.execute_input": "2025-07-23T14:30:59.457931Z",
     "iopub.status.busy": "2025-07-23T14:30:59.457091Z",
     "iopub.status.idle": "2025-07-23T14:30:59.462767Z",
     "shell.execute_reply": "2025-07-23T14:30:59.461956Z"
    },
    "papermill": {
     "duration": 0.018209,
     "end_time": "2025-07-23T14:30:59.464176",
     "exception": false,
     "start_time": "2025-07-23T14:30:59.445967",
     "status": "completed"
    },
    "tags": []
   },
   "outputs": [],
   "source": [
    "from fairness_multiverse.universe import predict_w_threshold"
   ]
  },
  {
   "cell_type": "code",
   "execution_count": 29,
   "id": "a7cf2e16",
   "metadata": {
    "execution": {
     "iopub.execute_input": "2025-07-23T14:30:59.486805Z",
     "iopub.status.busy": "2025-07-23T14:30:59.486196Z",
     "iopub.status.idle": "2025-07-23T14:31:00.034025Z",
     "shell.execute_reply": "2025-07-23T14:31:00.033275Z"
    },
    "papermill": {
     "duration": 0.560169,
     "end_time": "2025-07-23T14:31:00.035363",
     "exception": false,
     "start_time": "2025-07-23T14:30:59.475194",
     "status": "completed"
    },
    "tags": []
   },
   "outputs": [
    {
     "data": {
      "text/plain": [
       "0.8712406643629472"
      ]
     },
     "execution_count": 29,
     "metadata": {},
     "output_type": "execute_result"
    }
   ],
   "source": [
    "probs_test = model.predict_proba(X_test)\n",
    "\n",
    "'''\n",
    "Below code returns a boolean array (or binary 0/1 array depending on how it’s used) where each element \n",
    "is True if the probability of class 1 is greater than or equal to the threshold, and False otherwise.\n",
    "'''\n",
    "y_pred_default = predict_w_threshold(probs_test, 0.5)\n",
    "\n",
    "from sklearn.metrics import accuracy_score\n",
    "\n",
    "# Naive prediction\n",
    "accuracy_score(y_true = y_true, y_pred = y_pred_default)"
   ]
  },
  {
   "cell_type": "code",
   "execution_count": 30,
   "id": "081964c3",
   "metadata": {
    "execution": {
     "iopub.execute_input": "2025-07-23T14:31:00.057488Z",
     "iopub.status.busy": "2025-07-23T14:31:00.057140Z",
     "iopub.status.idle": "2025-07-23T14:31:00.602645Z",
     "shell.execute_reply": "2025-07-23T14:31:00.601725Z"
    },
    "papermill": {
     "duration": 0.558028,
     "end_time": "2025-07-23T14:31:00.604106",
     "exception": false,
     "start_time": "2025-07-23T14:31:00.046078",
     "status": "completed"
    },
    "tags": []
   },
   "outputs": [
    {
     "data": {
      "text/plain": [
       "array([0, 0, 0, ..., 0, 0, 0])"
      ]
     },
     "execution_count": 30,
     "metadata": {},
     "output_type": "execute_result"
    }
   ],
   "source": [
    "model.predict(X_test)"
   ]
  },
  {
   "cell_type": "markdown",
   "id": "56c9705b",
   "metadata": {
    "papermill": {
     "duration": 0.01029,
     "end_time": "2025-07-23T14:31:00.625111",
     "exception": false,
     "start_time": "2025-07-23T14:31:00.614821",
     "status": "completed"
    },
    "tags": []
   },
   "source": [
    "# Conformal Prediction"
   ]
  },
  {
   "cell_type": "code",
   "execution_count": 31,
   "id": "160ec6ff",
   "metadata": {
    "execution": {
     "iopub.execute_input": "2025-07-23T14:31:00.647317Z",
     "iopub.status.busy": "2025-07-23T14:31:00.646776Z",
     "iopub.status.idle": "2025-07-23T14:31:00.651650Z",
     "shell.execute_reply": "2025-07-23T14:31:00.650826Z"
    },
    "papermill": {
     "duration": 0.017971,
     "end_time": "2025-07-23T14:31:00.653293",
     "exception": false,
     "start_time": "2025-07-23T14:31:00.635322",
     "status": "completed"
    },
    "tags": []
   },
   "outputs": [],
   "source": [
    "# Miscoverage level for conformal prediction (10% allowed error rate => 90% target coverage)\n",
    "alpha = 0.1"
   ]
  },
  {
   "cell_type": "code",
   "execution_count": 32,
   "id": "eadf4555-3dd3-440e-8e35-f82a4ad9f855",
   "metadata": {
    "execution": {
     "iopub.execute_input": "2025-07-23T14:31:00.676639Z",
     "iopub.status.busy": "2025-07-23T14:31:00.676122Z",
     "iopub.status.idle": "2025-07-23T14:31:01.186154Z",
     "shell.execute_reply": "2025-07-23T14:31:01.185332Z"
    },
    "papermill": {
     "duration": 0.522815,
     "end_time": "2025-07-23T14:31:01.187795",
     "exception": false,
     "start_time": "2025-07-23T14:31:00.664980",
     "status": "completed"
    },
    "tags": []
   },
   "outputs": [],
   "source": [
    "probs_calib = model.predict_proba(X_calib)"
   ]
  },
  {
   "cell_type": "code",
   "execution_count": 33,
   "id": "2ed93547-6d5d-4983-9b36-1ecb300da49a",
   "metadata": {
    "execution": {
     "iopub.execute_input": "2025-07-23T14:31:01.212831Z",
     "iopub.status.busy": "2025-07-23T14:31:01.212458Z",
     "iopub.status.idle": "2025-07-23T14:31:01.217896Z",
     "shell.execute_reply": "2025-07-23T14:31:01.217082Z"
    },
    "papermill": {
     "duration": 0.018233,
     "end_time": "2025-07-23T14:31:01.219405",
     "exception": false,
     "start_time": "2025-07-23T14:31:01.201172",
     "status": "completed"
    },
    "tags": []
   },
   "outputs": [],
   "source": [
    "y_calib = y_calib.values.ravel().astype(int)"
   ]
  },
  {
   "cell_type": "code",
   "execution_count": 34,
   "id": "65d1320d-f588-4b38-9072-62af1ae97f7d",
   "metadata": {
    "execution": {
     "iopub.execute_input": "2025-07-23T14:31:01.242552Z",
     "iopub.status.busy": "2025-07-23T14:31:01.241792Z",
     "iopub.status.idle": "2025-07-23T14:31:01.248498Z",
     "shell.execute_reply": "2025-07-23T14:31:01.247692Z"
    },
    "papermill": {
     "duration": 0.019361,
     "end_time": "2025-07-23T14:31:01.249935",
     "exception": false,
     "start_time": "2025-07-23T14:31:01.230574",
     "status": "completed"
    },
    "tags": []
   },
   "outputs": [],
   "source": [
    "from fairness_multiverse.conformal import compute_nc_scores\n",
    "\n",
    "# Compute nonconformity scores on calibration set (1 - probability of true class)\n",
    "nc_scores = compute_nc_scores(probs_calib, y_calib)"
   ]
  },
  {
   "cell_type": "code",
   "execution_count": 35,
   "id": "df3b8ca3-53b7-43d5-9667-7c85da7aeda2",
   "metadata": {
    "execution": {
     "iopub.execute_input": "2025-07-23T14:31:01.272634Z",
     "iopub.status.busy": "2025-07-23T14:31:01.272126Z",
     "iopub.status.idle": "2025-07-23T14:31:01.278214Z",
     "shell.execute_reply": "2025-07-23T14:31:01.277412Z"
    },
    "papermill": {
     "duration": 0.018703,
     "end_time": "2025-07-23T14:31:01.279664",
     "exception": false,
     "start_time": "2025-07-23T14:31:01.260961",
     "status": "completed"
    },
    "tags": []
   },
   "outputs": [],
   "source": [
    "from fairness_multiverse.conformal import find_threshold\n",
    "\n",
    "# Find conformal threshold q_hat for the given alpha (split conformal method)\n",
    "q_hat = find_threshold(nc_scores, alpha)"
   ]
  },
  {
   "cell_type": "code",
   "execution_count": 36,
   "id": "4d29e6c1-0ef6-4aa4-b8fe-4fe79b0d033a",
   "metadata": {
    "execution": {
     "iopub.execute_input": "2025-07-23T14:31:01.302307Z",
     "iopub.status.busy": "2025-07-23T14:31:01.301976Z",
     "iopub.status.idle": "2025-07-23T14:31:01.308410Z",
     "shell.execute_reply": "2025-07-23T14:31:01.307477Z"
    },
    "papermill": {
     "duration": 0.01887,
     "end_time": "2025-07-23T14:31:01.309750",
     "exception": false,
     "start_time": "2025-07-23T14:31:01.290880",
     "status": "completed"
    },
    "tags": []
   },
   "outputs": [
    {
     "data": {
      "text/plain": [
       "0.6587252055172536"
      ]
     },
     "execution_count": 36,
     "metadata": {},
     "output_type": "execute_result"
    }
   ],
   "source": [
    "q_hat"
   ]
  },
  {
   "cell_type": "code",
   "execution_count": 37,
   "id": "92460794-cdac-4be2-ba28-f28c0515a6fb",
   "metadata": {
    "execution": {
     "iopub.execute_input": "2025-07-23T14:31:01.334153Z",
     "iopub.status.busy": "2025-07-23T14:31:01.333402Z",
     "iopub.status.idle": "2025-07-23T14:31:02.359822Z",
     "shell.execute_reply": "2025-07-23T14:31:02.358992Z"
    },
    "papermill": {
     "duration": 1.039875,
     "end_time": "2025-07-23T14:31:02.361416",
     "exception": false,
     "start_time": "2025-07-23T14:31:01.321541",
     "status": "completed"
    },
    "tags": []
   },
   "outputs": [],
   "source": [
    "from fairness_multiverse.conformal import predict_conformal_sets\n",
    "\n",
    "# Generate prediction sets for each test example\n",
    "pred_sets = predict_conformal_sets(model, X_test, q_hat)"
   ]
  },
  {
   "cell_type": "code",
   "execution_count": 38,
   "id": "d90c9a65-e6db-4f5d-80cd-e68fb7e46829",
   "metadata": {
    "execution": {
     "iopub.execute_input": "2025-07-23T14:31:02.385266Z",
     "iopub.status.busy": "2025-07-23T14:31:02.384663Z",
     "iopub.status.idle": "2025-07-23T14:31:02.389974Z",
     "shell.execute_reply": "2025-07-23T14:31:02.389172Z"
    },
    "papermill": {
     "duration": 0.018868,
     "end_time": "2025-07-23T14:31:02.391503",
     "exception": false,
     "start_time": "2025-07-23T14:31:02.372635",
     "status": "completed"
    },
    "tags": []
   },
   "outputs": [],
   "source": [
    "y_true = y_true.squeeze()"
   ]
  },
  {
   "cell_type": "code",
   "execution_count": 39,
   "id": "3a58a54a-1e68-46b9-927a-df01f18aebc8",
   "metadata": {
    "execution": {
     "iopub.execute_input": "2025-07-23T14:31:02.415615Z",
     "iopub.status.busy": "2025-07-23T14:31:02.414736Z",
     "iopub.status.idle": "2025-07-23T14:31:02.958461Z",
     "shell.execute_reply": "2025-07-23T14:31:02.957651Z"
    },
    "papermill": {
     "duration": 0.556815,
     "end_time": "2025-07-23T14:31:02.960020",
     "exception": false,
     "start_time": "2025-07-23T14:31:02.403205",
     "status": "completed"
    },
    "tags": []
   },
   "outputs": [],
   "source": [
    "from fairness_multiverse.conformal import evaluate_sets\n",
    "\n",
    "# Evaluate coverage and average set size on test data\n",
    "metrics = evaluate_sets(pred_sets, y_true)"
   ]
  },
  {
   "cell_type": "code",
   "execution_count": 40,
   "id": "5ce0a5cb-201f-45a0-ade5-94c7f0bd6095",
   "metadata": {
    "execution": {
     "iopub.execute_input": "2025-07-23T14:31:02.983101Z",
     "iopub.status.busy": "2025-07-23T14:31:02.982745Z",
     "iopub.status.idle": "2025-07-23T14:31:02.989074Z",
     "shell.execute_reply": "2025-07-23T14:31:02.988266Z"
    },
    "papermill": {
     "duration": 0.019254,
     "end_time": "2025-07-23T14:31:02.990521",
     "exception": false,
     "start_time": "2025-07-23T14:31:02.971267",
     "status": "completed"
    },
    "tags": []
   },
   "outputs": [
    {
     "data": {
      "text/plain": [
       "{'coverage': 0.9114591461375543, 'avg_size': 1.1106454129974361}"
      ]
     },
     "execution_count": 40,
     "metadata": {},
     "output_type": "execute_result"
    }
   ],
   "source": [
    "metrics"
   ]
  },
  {
   "cell_type": "code",
   "execution_count": 41,
   "id": "9b9a838d-31c9-430b-ae14-12baee460d17",
   "metadata": {
    "execution": {
     "iopub.execute_input": "2025-07-23T14:31:03.014378Z",
     "iopub.status.busy": "2025-07-23T14:31:03.013677Z",
     "iopub.status.idle": "2025-07-23T14:31:03.019101Z",
     "shell.execute_reply": "2025-07-23T14:31:03.018270Z"
    },
    "papermill": {
     "duration": 0.018505,
     "end_time": "2025-07-23T14:31:03.020617",
     "exception": false,
     "start_time": "2025-07-23T14:31:03.002112",
     "status": "completed"
    },
    "tags": []
   },
   "outputs": [],
   "source": [
    "example_universe = universe.copy()\n",
    "universe_model = example_universe.get(\"model\")\n",
    "universe_exclude_features = example_universe.get(\"exclude_features\")\n",
    "universe_exclude_subgroups = example_universe.get(\"exclude_subgroups\")\n",
    "universe_scale = example_universe.get(\"scale\")"
   ]
  },
  {
   "cell_type": "code",
   "execution_count": 42,
   "id": "f4b6a8ac-9dc0-4245-8a91-5b3b5999c4f9",
   "metadata": {
    "execution": {
     "iopub.execute_input": "2025-07-23T14:31:03.044482Z",
     "iopub.status.busy": "2025-07-23T14:31:03.043950Z",
     "iopub.status.idle": "2025-07-23T14:31:03.049521Z",
     "shell.execute_reply": "2025-07-23T14:31:03.048686Z"
    },
    "papermill": {
     "duration": 0.018643,
     "end_time": "2025-07-23T14:31:03.050905",
     "exception": false,
     "start_time": "2025-07-23T14:31:03.032262",
     "status": "completed"
    },
    "tags": []
   },
   "outputs": [],
   "source": [
    "cp_metrics_dict = {\n",
    "    \"universe_id\": [universe_id],\n",
    "    \"universe_model\": [universe_model],\n",
    "    \"universe_exclude_features\": [universe_exclude_features],\n",
    "    \"universe_exclude_subgroups\": [universe_exclude_subgroups],\n",
    "    \"universe_scale\": [universe_scale],\n",
    "    \"q_hat\": [q_hat],\n",
    "    \"coverage\": [metrics[\"coverage\"]],\n",
    "    \"avg_size\": [metrics[\"avg_size\"]],\n",
    "}"
   ]
  },
  {
   "cell_type": "code",
   "execution_count": 43,
   "id": "908acbb1-0371-4915-85ca-3fa520d2efe2",
   "metadata": {
    "execution": {
     "iopub.execute_input": "2025-07-23T14:31:03.075397Z",
     "iopub.status.busy": "2025-07-23T14:31:03.074541Z",
     "iopub.status.idle": "2025-07-23T14:31:03.081348Z",
     "shell.execute_reply": "2025-07-23T14:31:03.080390Z"
    },
    "papermill": {
     "duration": 0.019899,
     "end_time": "2025-07-23T14:31:03.082708",
     "exception": false,
     "start_time": "2025-07-23T14:31:03.062809",
     "status": "completed"
    },
    "tags": []
   },
   "outputs": [
    {
     "data": {
      "text/plain": [
       "{'universe_id': ['4174901d0e4d984240c819a4abc731b9'],\n",
       " 'universe_model': ['gbm'],\n",
       " 'universe_exclude_features': ['none'],\n",
       " 'universe_exclude_subgroups': ['drop-non-german'],\n",
       " 'universe_scale': ['scale'],\n",
       " 'q_hat': [0.6587252055172536],\n",
       " 'coverage': [0.9114591461375543],\n",
       " 'avg_size': [1.1106454129974361]}"
      ]
     },
     "execution_count": 43,
     "metadata": {},
     "output_type": "execute_result"
    }
   ],
   "source": [
    "cp_metrics_dict"
   ]
  },
  {
   "cell_type": "code",
   "execution_count": 44,
   "id": "33007efc-14e9-4ec6-97ac-56a455c82265",
   "metadata": {
    "execution": {
     "iopub.execute_input": "2025-07-23T14:31:03.106962Z",
     "iopub.status.busy": "2025-07-23T14:31:03.106281Z",
     "iopub.status.idle": "2025-07-23T14:31:03.111797Z",
     "shell.execute_reply": "2025-07-23T14:31:03.110922Z"
    },
    "papermill": {
     "duration": 0.01903,
     "end_time": "2025-07-23T14:31:03.113353",
     "exception": false,
     "start_time": "2025-07-23T14:31:03.094323",
     "status": "completed"
    },
    "tags": []
   },
   "outputs": [],
   "source": [
    "cp_metrics_df = pd.DataFrame(cp_metrics_dict)"
   ]
  },
  {
   "cell_type": "code",
   "execution_count": 45,
   "id": "db12611b-57b2-4910-b9d0-355adfd6e7bf",
   "metadata": {
    "execution": {
     "iopub.execute_input": "2025-07-23T14:31:03.137560Z",
     "iopub.status.busy": "2025-07-23T14:31:03.136959Z",
     "iopub.status.idle": "2025-07-23T14:31:03.151427Z",
     "shell.execute_reply": "2025-07-23T14:31:03.150580Z"
    },
    "papermill": {
     "duration": 0.027763,
     "end_time": "2025-07-23T14:31:03.152852",
     "exception": false,
     "start_time": "2025-07-23T14:31:03.125089",
     "status": "completed"
    },
    "tags": []
   },
   "outputs": [
    {
     "data": {
      "text/html": [
       "<div>\n",
       "<style scoped>\n",
       "    .dataframe tbody tr th:only-of-type {\n",
       "        vertical-align: middle;\n",
       "    }\n",
       "\n",
       "    .dataframe tbody tr th {\n",
       "        vertical-align: top;\n",
       "    }\n",
       "\n",
       "    .dataframe thead th {\n",
       "        text-align: right;\n",
       "    }\n",
       "</style>\n",
       "<table border=\"1\" class=\"dataframe\">\n",
       "  <thead>\n",
       "    <tr style=\"text-align: right;\">\n",
       "      <th></th>\n",
       "      <th>universe_id</th>\n",
       "      <th>universe_model</th>\n",
       "      <th>universe_exclude_features</th>\n",
       "      <th>universe_exclude_subgroups</th>\n",
       "      <th>universe_scale</th>\n",
       "      <th>q_hat</th>\n",
       "      <th>coverage</th>\n",
       "      <th>avg_size</th>\n",
       "    </tr>\n",
       "  </thead>\n",
       "  <tbody>\n",
       "    <tr>\n",
       "      <th>0</th>\n",
       "      <td>4174901d0e4d984240c819a4abc731b9</td>\n",
       "      <td>gbm</td>\n",
       "      <td>none</td>\n",
       "      <td>drop-non-german</td>\n",
       "      <td>scale</td>\n",
       "      <td>0.658725</td>\n",
       "      <td>0.911459</td>\n",
       "      <td>1.110645</td>\n",
       "    </tr>\n",
       "  </tbody>\n",
       "</table>\n",
       "</div>"
      ],
      "text/plain": [
       "                        universe_id universe_model universe_exclude_features  \\\n",
       "0  4174901d0e4d984240c819a4abc731b9            gbm                      none   \n",
       "\n",
       "  universe_exclude_subgroups universe_scale     q_hat  coverage  avg_size  \n",
       "0            drop-non-german          scale  0.658725  0.911459  1.110645  "
      ]
     },
     "execution_count": 45,
     "metadata": {},
     "output_type": "execute_result"
    }
   ],
   "source": [
    "cp_metrics_df"
   ]
  },
  {
   "cell_type": "code",
   "execution_count": 46,
   "id": "b7fbde55-a0a1-47e4-9af6-fe4a17fa8c61",
   "metadata": {
    "execution": {
     "iopub.execute_input": "2025-07-23T14:31:03.176841Z",
     "iopub.status.busy": "2025-07-23T14:31:03.176271Z",
     "iopub.status.idle": "2025-07-23T14:31:03.181013Z",
     "shell.execute_reply": "2025-07-23T14:31:03.180147Z"
    },
    "papermill": {
     "duration": 0.018084,
     "end_time": "2025-07-23T14:31:03.182500",
     "exception": false,
     "start_time": "2025-07-23T14:31:03.164416",
     "status": "completed"
    },
    "tags": []
   },
   "outputs": [],
   "source": [
    "# Conditional Coverage & looking at subgroups"
   ]
  },
  {
   "cell_type": "code",
   "execution_count": 47,
   "id": "027ae886-68dd-4141-96c7-805a5450e1ef",
   "metadata": {
    "execution": {
     "iopub.execute_input": "2025-07-23T14:31:03.207052Z",
     "iopub.status.busy": "2025-07-23T14:31:03.206712Z",
     "iopub.status.idle": "2025-07-23T14:31:03.387456Z",
     "shell.execute_reply": "2025-07-23T14:31:03.386639Z"
    },
    "papermill": {
     "duration": 0.194415,
     "end_time": "2025-07-23T14:31:03.389001",
     "exception": false,
     "start_time": "2025-07-23T14:31:03.194586",
     "status": "completed"
    },
    "tags": []
   },
   "outputs": [],
   "source": [
    "from fairness_multiverse.conformal import build_cp_groups\n",
    "\n",
    "cp_groups_df = build_cp_groups(pred_sets, y_true, X_test.index, org_test)\n",
    "#needs universe_id and setting"
   ]
  },
  {
   "cell_type": "code",
   "execution_count": 48,
   "id": "c3b92545-903e-4839-89af-0f057907d7d6",
   "metadata": {
    "execution": {
     "iopub.execute_input": "2025-07-23T14:31:03.413555Z",
     "iopub.status.busy": "2025-07-23T14:31:03.413205Z",
     "iopub.status.idle": "2025-07-23T14:31:04.366507Z",
     "shell.execute_reply": "2025-07-23T14:31:04.365711Z"
    },
    "papermill": {
     "duration": 0.967105,
     "end_time": "2025-07-23T14:31:04.368060",
     "exception": false,
     "start_time": "2025-07-23T14:31:03.400955",
     "status": "completed"
    },
    "tags": []
   },
   "outputs": [],
   "source": [
    "# Define covered = 1 if true_label is in the predicted set\n",
    "cp_groups_df['covered'] = cp_groups_df.apply(\n",
    "    lambda r: int(r['true_label'] in r['pred_set']),\n",
    "    axis=1\n",
    ")"
   ]
  },
  {
   "cell_type": "code",
   "execution_count": 49,
   "id": "338ff529-1a6b-4b87-a931-8e4788d52aad",
   "metadata": {
    "execution": {
     "iopub.execute_input": "2025-07-23T14:31:04.392998Z",
     "iopub.status.busy": "2025-07-23T14:31:04.392641Z",
     "iopub.status.idle": "2025-07-23T14:31:04.396935Z",
     "shell.execute_reply": "2025-07-23T14:31:04.395958Z"
    },
    "papermill": {
     "duration": 0.018279,
     "end_time": "2025-07-23T14:31:04.398371",
     "exception": false,
     "start_time": "2025-07-23T14:31:04.380092",
     "status": "completed"
    },
    "tags": []
   },
   "outputs": [],
   "source": [
    "#cp_groups_df"
   ]
  },
  {
   "cell_type": "code",
   "execution_count": 50,
   "id": "90032e27-66df-4540-9169-4e89cfbaa758",
   "metadata": {
    "execution": {
     "iopub.execute_input": "2025-07-23T14:31:04.424056Z",
     "iopub.status.busy": "2025-07-23T14:31:04.423534Z",
     "iopub.status.idle": "2025-07-23T14:31:04.433406Z",
     "shell.execute_reply": "2025-07-23T14:31:04.432617Z"
    },
    "papermill": {
     "duration": 0.024149,
     "end_time": "2025-07-23T14:31:04.434886",
     "exception": false,
     "start_time": "2025-07-23T14:31:04.410737",
     "status": "completed"
    },
    "tags": []
   },
   "outputs": [],
   "source": [
    "subgroups = ['frau1','nongerman','nongerman_male','nongerman_female']\n",
    "\n",
    "# Conditional coverage for subgroup==1\n",
    "cond_coverage = {\n",
    "    g: cp_groups_df.loc[cp_groups_df[g]==1, 'covered'].mean()\n",
    "    for g in subgroups\n",
    "}"
   ]
  },
  {
   "cell_type": "code",
   "execution_count": 51,
   "id": "1e348fb1-b9c3-45bc-ba23-f016827a7e0d",
   "metadata": {
    "execution": {
     "iopub.execute_input": "2025-07-23T14:31:04.460226Z",
     "iopub.status.busy": "2025-07-23T14:31:04.459520Z",
     "iopub.status.idle": "2025-07-23T14:31:04.466466Z",
     "shell.execute_reply": "2025-07-23T14:31:04.465585Z"
    },
    "papermill": {
     "duration": 0.020439,
     "end_time": "2025-07-23T14:31:04.467824",
     "exception": false,
     "start_time": "2025-07-23T14:31:04.447385",
     "status": "completed"
    },
    "tags": []
   },
   "outputs": [
    {
     "data": {
      "text/plain": [
       "{'frau1': 0.914570696859415,\n",
       " 'nongerman': 0.9095604333913434,\n",
       " 'nongerman_male': 0.9252454291632892,\n",
       " 'nongerman_female': 0.8836065573770492}"
      ]
     },
     "execution_count": 51,
     "metadata": {},
     "output_type": "execute_result"
    }
   ],
   "source": [
    "cond_coverage"
   ]
  },
  {
   "cell_type": "code",
   "execution_count": 52,
   "id": "f5093324-c3dd-4d63-bc4c-8d945e5c8bbb",
   "metadata": {
    "execution": {
     "iopub.execute_input": "2025-07-23T14:31:04.493520Z",
     "iopub.status.busy": "2025-07-23T14:31:04.492772Z",
     "iopub.status.idle": "2025-07-23T14:31:04.499293Z",
     "shell.execute_reply": "2025-07-23T14:31:04.498450Z"
    },
    "papermill": {
     "duration": 0.020479,
     "end_time": "2025-07-23T14:31:04.500727",
     "exception": false,
     "start_time": "2025-07-23T14:31:04.480248",
     "status": "completed"
    },
    "tags": []
   },
   "outputs": [],
   "source": [
    "for subgroup, cov in cond_coverage.items():\n",
    "    cp_metrics_df[f\"cov_{subgroup}\"] = cov"
   ]
  },
  {
   "cell_type": "code",
   "execution_count": 53,
   "id": "6e872e10-dbe5-49e8-b554-5030c98ff75d",
   "metadata": {
    "execution": {
     "iopub.execute_input": "2025-07-23T14:31:04.526288Z",
     "iopub.status.busy": "2025-07-23T14:31:04.525936Z",
     "iopub.status.idle": "2025-07-23T14:31:04.539974Z",
     "shell.execute_reply": "2025-07-23T14:31:04.539233Z"
    },
    "papermill": {
     "duration": 0.028117,
     "end_time": "2025-07-23T14:31:04.541414",
     "exception": false,
     "start_time": "2025-07-23T14:31:04.513297",
     "status": "completed"
    },
    "tags": []
   },
   "outputs": [
    {
     "data": {
      "text/html": [
       "<div>\n",
       "<style scoped>\n",
       "    .dataframe tbody tr th:only-of-type {\n",
       "        vertical-align: middle;\n",
       "    }\n",
       "\n",
       "    .dataframe tbody tr th {\n",
       "        vertical-align: top;\n",
       "    }\n",
       "\n",
       "    .dataframe thead th {\n",
       "        text-align: right;\n",
       "    }\n",
       "</style>\n",
       "<table border=\"1\" class=\"dataframe\">\n",
       "  <thead>\n",
       "    <tr style=\"text-align: right;\">\n",
       "      <th></th>\n",
       "      <th>universe_id</th>\n",
       "      <th>universe_model</th>\n",
       "      <th>universe_exclude_features</th>\n",
       "      <th>universe_exclude_subgroups</th>\n",
       "      <th>universe_scale</th>\n",
       "      <th>q_hat</th>\n",
       "      <th>coverage</th>\n",
       "      <th>avg_size</th>\n",
       "      <th>cov_frau1</th>\n",
       "      <th>cov_nongerman</th>\n",
       "      <th>cov_nongerman_male</th>\n",
       "      <th>cov_nongerman_female</th>\n",
       "    </tr>\n",
       "  </thead>\n",
       "  <tbody>\n",
       "    <tr>\n",
       "      <th>0</th>\n",
       "      <td>4174901d0e4d984240c819a4abc731b9</td>\n",
       "      <td>gbm</td>\n",
       "      <td>none</td>\n",
       "      <td>drop-non-german</td>\n",
       "      <td>scale</td>\n",
       "      <td>0.658725</td>\n",
       "      <td>0.911459</td>\n",
       "      <td>1.110645</td>\n",
       "      <td>0.914571</td>\n",
       "      <td>0.90956</td>\n",
       "      <td>0.925245</td>\n",
       "      <td>0.883607</td>\n",
       "    </tr>\n",
       "  </tbody>\n",
       "</table>\n",
       "</div>"
      ],
      "text/plain": [
       "                        universe_id universe_model universe_exclude_features  \\\n",
       "0  4174901d0e4d984240c819a4abc731b9            gbm                      none   \n",
       "\n",
       "  universe_exclude_subgroups universe_scale     q_hat  coverage  avg_size  \\\n",
       "0            drop-non-german          scale  0.658725  0.911459  1.110645   \n",
       "\n",
       "   cov_frau1  cov_nongerman  cov_nongerman_male  cov_nongerman_female  \n",
       "0   0.914571        0.90956            0.925245              0.883607  "
      ]
     },
     "execution_count": 53,
     "metadata": {},
     "output_type": "execute_result"
    }
   ],
   "source": [
    "cp_metrics_df"
   ]
  },
  {
   "cell_type": "markdown",
   "id": "33774451",
   "metadata": {
    "papermill": {
     "duration": 0.011742,
     "end_time": "2025-07-23T14:31:04.565810",
     "exception": false,
     "start_time": "2025-07-23T14:31:04.554068",
     "status": "completed"
    },
    "tags": []
   },
   "source": [
    "# (Fairness) Metrics"
   ]
  },
  {
   "cell_type": "code",
   "execution_count": 54,
   "id": "debc5d62",
   "metadata": {
    "execution": {
     "iopub.execute_input": "2025-07-23T14:31:04.590615Z",
     "iopub.status.busy": "2025-07-23T14:31:04.590081Z",
     "iopub.status.idle": "2025-07-23T14:31:04.605948Z",
     "shell.execute_reply": "2025-07-23T14:31:04.605101Z"
    },
    "papermill": {
     "duration": 0.029974,
     "end_time": "2025-07-23T14:31:04.607352",
     "exception": false,
     "start_time": "2025-07-23T14:31:04.577378",
     "status": "completed"
    },
    "tags": []
   },
   "outputs": [],
   "source": [
    "# do I need to include maxdeutsch1.missing?\n",
    "\n",
    "import numpy as np\n",
    "\n",
    "colname_to_bin = \"maxdeutsch1\"\n",
    "majority_value = org_train[colname_to_bin].mode()[0]\n",
    "\n",
    "org_test[\"majmin\"] = np.where(org_test[colname_to_bin] == majority_value, \"majority\", \"minority\")"
   ]
  },
  {
   "cell_type": "code",
   "execution_count": 55,
   "id": "06a50de5",
   "metadata": {
    "execution": {
     "iopub.execute_input": "2025-07-23T14:31:04.633263Z",
     "iopub.status.busy": "2025-07-23T14:31:04.632529Z",
     "iopub.status.idle": "2025-07-23T14:31:06.254354Z",
     "shell.execute_reply": "2025-07-23T14:31:06.253562Z"
    },
    "papermill": {
     "duration": 1.636265,
     "end_time": "2025-07-23T14:31:06.255974",
     "exception": false,
     "start_time": "2025-07-23T14:31:04.619709",
     "status": "completed"
    },
    "tags": []
   },
   "outputs": [],
   "source": [
    "example_universe = universe.copy()\n",
    "example_universe[\"cutoff\"] = example_universe[\"cutoff\"][0]\n",
    "example_universe[\"eval_fairness_grouping\"] = example_universe[\"eval_fairness_grouping\"][0]\n",
    "fairness_dict, metric_frame = universe_analysis.compute_metrics(\n",
    "    example_universe,\n",
    "    y_pred_prob=probs_test,\n",
    "    y_test=y_true,\n",
    "    org_test=org_test,\n",
    ")"
   ]
  },
  {
   "cell_type": "markdown",
   "id": "f95d4e02",
   "metadata": {
    "papermill": {
     "duration": 0.011902,
     "end_time": "2025-07-23T14:31:06.282322",
     "exception": false,
     "start_time": "2025-07-23T14:31:06.270420",
     "status": "completed"
    },
    "tags": []
   },
   "source": [
    "# Overall"
   ]
  },
  {
   "cell_type": "markdown",
   "id": "bdee4871",
   "metadata": {
    "papermill": {
     "duration": 0.012201,
     "end_time": "2025-07-23T14:31:06.306443",
     "exception": false,
     "start_time": "2025-07-23T14:31:06.294242",
     "status": "completed"
    },
    "tags": []
   },
   "source": [
    "Fairness\n",
    "Main fairness target: Equalized Odds. Seems to be a better fit than equal opportunity, since we're not only interested in Y = 1. Seems to be a better fit than demographic parity, since we also care about accuracy, not just equal distribution of preds.\n",
    "\n",
    "Pick column for computation of fairness metrics\n",
    "\n",
    "Performance\n",
    "Overall performance measures, most interesting in relation to the measures split by group below"
   ]
  },
  {
   "cell_type": "code",
   "execution_count": 56,
   "id": "c4e067c6",
   "metadata": {
    "execution": {
     "iopub.execute_input": "2025-07-23T14:31:06.332457Z",
     "iopub.status.busy": "2025-07-23T14:31:06.331918Z",
     "iopub.status.idle": "2025-07-23T14:31:06.339717Z",
     "shell.execute_reply": "2025-07-23T14:31:06.338860Z"
    },
    "papermill": {
     "duration": 0.022401,
     "end_time": "2025-07-23T14:31:06.341158",
     "exception": false,
     "start_time": "2025-07-23T14:31:06.318757",
     "status": "completed"
    },
    "tags": []
   },
   "outputs": [
    {
     "data": {
      "text/plain": [
       "accuracy                   0.225538\n",
       "balanced accuracy          0.551227\n",
       "f1                         0.246837\n",
       "precision                  0.141010\n",
       "false positive rate        0.886857\n",
       "false negative rate        0.010688\n",
       "selection rate             0.900000\n",
       "count                  89710.000000\n",
       "dtype: float64"
      ]
     },
     "execution_count": 56,
     "metadata": {},
     "output_type": "execute_result"
    }
   ],
   "source": [
    "metric_frame.overall"
   ]
  },
  {
   "cell_type": "markdown",
   "id": "e968fe9d",
   "metadata": {
    "papermill": {
     "duration": 0.011928,
     "end_time": "2025-07-23T14:31:06.365927",
     "exception": false,
     "start_time": "2025-07-23T14:31:06.353999",
     "status": "completed"
    },
    "tags": []
   },
   "source": [
    "By Group"
   ]
  },
  {
   "cell_type": "code",
   "execution_count": 57,
   "id": "ec325bce",
   "metadata": {
    "execution": {
     "iopub.execute_input": "2025-07-23T14:31:06.392276Z",
     "iopub.status.busy": "2025-07-23T14:31:06.391515Z",
     "iopub.status.idle": "2025-07-23T14:31:06.404670Z",
     "shell.execute_reply": "2025-07-23T14:31:06.403576Z"
    },
    "papermill": {
     "duration": 0.027882,
     "end_time": "2025-07-23T14:31:06.406037",
     "exception": false,
     "start_time": "2025-07-23T14:31:06.378155",
     "status": "completed"
    },
    "tags": []
   },
   "outputs": [
    {
     "data": {
      "text/html": [
       "<div>\n",
       "<style scoped>\n",
       "    .dataframe tbody tr th:only-of-type {\n",
       "        vertical-align: middle;\n",
       "    }\n",
       "\n",
       "    .dataframe tbody tr th {\n",
       "        vertical-align: top;\n",
       "    }\n",
       "\n",
       "    .dataframe thead th {\n",
       "        text-align: right;\n",
       "    }\n",
       "</style>\n",
       "<table border=\"1\" class=\"dataframe\">\n",
       "  <thead>\n",
       "    <tr style=\"text-align: right;\">\n",
       "      <th></th>\n",
       "      <th>accuracy</th>\n",
       "      <th>balanced accuracy</th>\n",
       "      <th>f1</th>\n",
       "      <th>precision</th>\n",
       "      <th>false positive rate</th>\n",
       "      <th>false negative rate</th>\n",
       "      <th>selection rate</th>\n",
       "      <th>count</th>\n",
       "    </tr>\n",
       "    <tr>\n",
       "      <th>majmin</th>\n",
       "      <th></th>\n",
       "      <th></th>\n",
       "      <th></th>\n",
       "      <th></th>\n",
       "      <th></th>\n",
       "      <th></th>\n",
       "      <th></th>\n",
       "      <th></th>\n",
       "    </tr>\n",
       "  </thead>\n",
       "  <tbody>\n",
       "    <tr>\n",
       "      <th>majority</th>\n",
       "      <td>0.244817</td>\n",
       "      <td>0.560141</td>\n",
       "      <td>0.257062</td>\n",
       "      <td>0.147736</td>\n",
       "      <td>0.868449</td>\n",
       "      <td>0.011269</td>\n",
       "      <td>0.884343</td>\n",
       "      <td>69170.0</td>\n",
       "    </tr>\n",
       "    <tr>\n",
       "      <th>minority</th>\n",
       "      <td>0.160613</td>\n",
       "      <td>0.521944</td>\n",
       "      <td>0.214068</td>\n",
       "      <td>0.119986</td>\n",
       "      <td>0.947667</td>\n",
       "      <td>0.008446</td>\n",
       "      <td>0.952726</td>\n",
       "      <td>20540.0</td>\n",
       "    </tr>\n",
       "  </tbody>\n",
       "</table>\n",
       "</div>"
      ],
      "text/plain": [
       "          accuracy  balanced accuracy        f1  precision  \\\n",
       "majmin                                                       \n",
       "majority  0.244817           0.560141  0.257062   0.147736   \n",
       "minority  0.160613           0.521944  0.214068   0.119986   \n",
       "\n",
       "          false positive rate  false negative rate  selection rate    count  \n",
       "majmin                                                                       \n",
       "majority             0.868449             0.011269        0.884343  69170.0  \n",
       "minority             0.947667             0.008446        0.952726  20540.0  "
      ]
     },
     "execution_count": 57,
     "metadata": {},
     "output_type": "execute_result"
    }
   ],
   "source": [
    "metric_frame.by_group"
   ]
  },
  {
   "cell_type": "code",
   "execution_count": 58,
   "id": "a9ddbe63",
   "metadata": {
    "execution": {
     "iopub.execute_input": "2025-07-23T14:31:06.432990Z",
     "iopub.status.busy": "2025-07-23T14:31:06.432102Z",
     "iopub.status.idle": "2025-07-23T14:31:08.145995Z",
     "shell.execute_reply": "2025-07-23T14:31:08.145194Z"
    },
    "papermill": {
     "duration": 1.728264,
     "end_time": "2025-07-23T14:31:08.147351",
     "exception": false,
     "start_time": "2025-07-23T14:31:06.419087",
     "status": "completed"
    },
    "tags": []
   },
   "outputs": [
    {
     "data": {
      "text/plain": [
       "array([[<Axes: title={'center': 'accuracy'}, xlabel='majmin'>,\n",
       "        <Axes: title={'center': 'balanced accuracy'}, xlabel='majmin'>,\n",
       "        <Axes: title={'center': 'f1'}, xlabel='majmin'>],\n",
       "       [<Axes: title={'center': 'precision'}, xlabel='majmin'>,\n",
       "        <Axes: title={'center': 'false positive rate'}, xlabel='majmin'>,\n",
       "        <Axes: title={'center': 'false negative rate'}, xlabel='majmin'>],\n",
       "       [<Axes: title={'center': 'selection rate'}, xlabel='majmin'>,\n",
       "        <Axes: title={'center': 'count'}, xlabel='majmin'>,\n",
       "        <Axes: xlabel='majmin'>]], dtype=object)"
      ]
     },
     "execution_count": 58,
     "metadata": {},
     "output_type": "execute_result"
    },
    {
     "data": {
      "image/png": "[encoded data removed]",
      "text/plain": [
       "<Figure size 1200x800 with 9 Axes>"
      ]
     },
     "metadata": {},
     "output_type": "display_data"
    }
   ],
   "source": [
    "# In a graphic\n",
    "metric_frame.by_group.plot.bar(\n",
    "    subplots=True,\n",
    "    layout=[3, 3],\n",
    "    legend=False,\n",
    "    figsize=[12, 8],\n",
    "    title=\"Show all metrics\",\n",
    ")"
   ]
  },
  {
   "cell_type": "markdown",
   "id": "f57a0bac",
   "metadata": {
    "papermill": {
     "duration": 0.013099,
     "end_time": "2025-07-23T14:31:08.174360",
     "exception": false,
     "start_time": "2025-07-23T14:31:08.161261",
     "status": "completed"
    },
    "tags": []
   },
   "source": [
    "# Final Output"
   ]
  },
  {
   "cell_type": "code",
   "execution_count": 59,
   "id": "96d280a3",
   "metadata": {
    "execution": {
     "iopub.execute_input": "2025-07-23T14:31:08.202129Z",
     "iopub.status.busy": "2025-07-23T14:31:08.201650Z",
     "iopub.status.idle": "2025-07-23T14:31:08.208816Z",
     "shell.execute_reply": "2025-07-23T14:31:08.208001Z"
    },
    "papermill": {
     "duration": 0.023066,
     "end_time": "2025-07-23T14:31:08.210421",
     "exception": false,
     "start_time": "2025-07-23T14:31:08.187355",
     "status": "completed"
    },
    "tags": []
   },
   "outputs": [
    {
     "data": {
      "text/plain": [
       "4"
      ]
     },
     "execution_count": 59,
     "metadata": {},
     "output_type": "execute_result"
    }
   ],
   "source": [
    "sub_universes = universe_analysis.generate_sub_universes()\n",
    "len(sub_universes)"
   ]
  },
  {
   "cell_type": "code",
   "execution_count": 60,
   "id": "92adf7ba",
   "metadata": {
    "execution": {
     "iopub.execute_input": "2025-07-23T14:31:08.239161Z",
     "iopub.status.busy": "2025-07-23T14:31:08.238433Z",
     "iopub.status.idle": "2025-07-23T14:31:08.250732Z",
     "shell.execute_reply": "2025-07-23T14:31:08.249853Z"
    },
    "papermill": {
     "duration": 0.02808,
     "end_time": "2025-07-23T14:31:08.252183",
     "exception": false,
     "start_time": "2025-07-23T14:31:08.224103",
     "status": "completed"
    },
    "tags": []
   },
   "outputs": [],
   "source": [
    "def filter_sub_universe_data(sub_universe, org_test):\n",
    "    # Keep all rows — no filtering\n",
    "    keep_rows_mask = np.ones(org_test.shape[0], dtype=bool)\n",
    "\n",
    "    print(f\"[INFO] Keeping all rows: {keep_rows_mask.sum()} rows retained.\")\n",
    "    return keep_rows_mask"
   ]
  },
  {
   "cell_type": "code",
   "execution_count": 61,
   "id": "4a759155",
   "metadata": {
    "execution": {
     "iopub.execute_input": "2025-07-23T14:31:08.281836Z",
     "iopub.status.busy": "2025-07-23T14:31:08.281138Z",
     "iopub.status.idle": "2025-07-23T14:31:14.635612Z",
     "shell.execute_reply": "2025-07-23T14:31:14.634817Z"
    },
    "papermill": {
     "duration": 6.370271,
     "end_time": "2025-07-23T14:31:14.636981",
     "exception": false,
     "start_time": "2025-07-23T14:31:08.266710",
     "status": "completed"
    },
    "tags": []
   },
   "outputs": [
    {
     "name": "stdout",
     "output_type": "stream",
     "text": [
      "Stopping execution_time clock.\n",
      "[INFO] Keeping all rows: 89710 rows retained.\n"
     ]
    },
    {
     "name": "stdout",
     "output_type": "stream",
     "text": [
      "[INFO] Keeping all rows: 89710 rows retained.\n"
     ]
    },
    {
     "name": "stdout",
     "output_type": "stream",
     "text": [
      "[INFO] Keeping all rows: 89710 rows retained.\n"
     ]
    },
    {
     "name": "stdout",
     "output_type": "stream",
     "text": [
      "[INFO] Keeping all rows: 89710 rows retained.\n"
     ]
    },
    {
     "data": {
      "text/html": [
       "<div>\n",
       "<style scoped>\n",
       "    .dataframe tbody tr th:only-of-type {\n",
       "        vertical-align: middle;\n",
       "    }\n",
       "\n",
       "    .dataframe tbody tr th {\n",
       "        vertical-align: top;\n",
       "    }\n",
       "\n",
       "    .dataframe thead th {\n",
       "        text-align: right;\n",
       "    }\n",
       "</style>\n",
       "<table border=\"1\" class=\"dataframe\">\n",
       "  <thead>\n",
       "    <tr style=\"text-align: right;\">\n",
       "      <th></th>\n",
       "      <th>run_no</th>\n",
       "      <th>universe_id</th>\n",
       "      <th>universe_settings</th>\n",
       "      <th>execution_time</th>\n",
       "      <th>test_size_n</th>\n",
       "      <th>test_size_frac</th>\n",
       "      <th>fair_main_equalized_odds_difference</th>\n",
       "      <th>fair_main_equalized_odds_ratio</th>\n",
       "      <th>fair_main_demographic_parity_difference</th>\n",
       "      <th>fair_main_demographic_parity_ratio</th>\n",
       "      <th>...</th>\n",
       "      <th>perf_grp_precision_0</th>\n",
       "      <th>perf_grp_precision_1</th>\n",
       "      <th>perf_grp_false positive rate_0</th>\n",
       "      <th>perf_grp_false positive rate_1</th>\n",
       "      <th>perf_grp_false negative rate_0</th>\n",
       "      <th>perf_grp_false negative rate_1</th>\n",
       "      <th>perf_grp_selection rate_0</th>\n",
       "      <th>perf_grp_selection rate_1</th>\n",
       "      <th>perf_grp_count_0</th>\n",
       "      <th>perf_grp_count_1</th>\n",
       "    </tr>\n",
       "  </thead>\n",
       "  <tbody>\n",
       "    <tr>\n",
       "      <th>0</th>\n",
       "      <td>9</td>\n",
       "      <td>4174901d0e4d984240c819a4abc731b9</td>\n",
       "      <td>{\"cutoff\": \"quantile_0.1\", \"eval_fairness_grou...</td>\n",
       "      <td>90.435783</td>\n",
       "      <td>89710</td>\n",
       "      <td>1.0</td>\n",
       "      <td>0.079218</td>\n",
       "      <td>0.916408</td>\n",
       "      <td>0.068383</td>\n",
       "      <td>0.928223</td>\n",
       "      <td>...</td>\n",
       "      <td>NaN</td>\n",
       "      <td>NaN</td>\n",
       "      <td>NaN</td>\n",
       "      <td>NaN</td>\n",
       "      <td>NaN</td>\n",
       "      <td>NaN</td>\n",
       "      <td>NaN</td>\n",
       "      <td>NaN</td>\n",
       "      <td>NaN</td>\n",
       "      <td>NaN</td>\n",
       "    </tr>\n",
       "    <tr>\n",
       "      <th>0</th>\n",
       "      <td>9</td>\n",
       "      <td>4174901d0e4d984240c819a4abc731b9</td>\n",
       "      <td>{\"cutoff\": \"quantile_0.1\", \"eval_fairness_grou...</td>\n",
       "      <td>90.435783</td>\n",
       "      <td>89710</td>\n",
       "      <td>1.0</td>\n",
       "      <td>0.079218</td>\n",
       "      <td>0.916408</td>\n",
       "      <td>0.068383</td>\n",
       "      <td>0.928223</td>\n",
       "      <td>...</td>\n",
       "      <td>0.119986</td>\n",
       "      <td>0.147736</td>\n",
       "      <td>0.947667</td>\n",
       "      <td>0.868449</td>\n",
       "      <td>0.008446</td>\n",
       "      <td>0.011269</td>\n",
       "      <td>0.952726</td>\n",
       "      <td>0.884343</td>\n",
       "      <td>20540.0</td>\n",
       "      <td>69170.0</td>\n",
       "    </tr>\n",
       "    <tr>\n",
       "      <th>0</th>\n",
       "      <td>9</td>\n",
       "      <td>4174901d0e4d984240c819a4abc731b9</td>\n",
       "      <td>{\"cutoff\": \"quantile_0.25\", \"eval_fairness_gro...</td>\n",
       "      <td>90.435783</td>\n",
       "      <td>89710</td>\n",
       "      <td>1.0</td>\n",
       "      <td>0.082424</td>\n",
       "      <td>0.894817</td>\n",
       "      <td>0.066244</td>\n",
       "      <td>0.917306</td>\n",
       "      <td>...</td>\n",
       "      <td>NaN</td>\n",
       "      <td>NaN</td>\n",
       "      <td>NaN</td>\n",
       "      <td>NaN</td>\n",
       "      <td>NaN</td>\n",
       "      <td>NaN</td>\n",
       "      <td>NaN</td>\n",
       "      <td>NaN</td>\n",
       "      <td>NaN</td>\n",
       "      <td>NaN</td>\n",
       "    </tr>\n",
       "    <tr>\n",
       "      <th>0</th>\n",
       "      <td>9</td>\n",
       "      <td>4174901d0e4d984240c819a4abc731b9</td>\n",
       "      <td>{\"cutoff\": \"quantile_0.25\", \"eval_fairness_gro...</td>\n",
       "      <td>90.435783</td>\n",
       "      <td>89710</td>\n",
       "      <td>1.0</td>\n",
       "      <td>0.082424</td>\n",
       "      <td>0.894817</td>\n",
       "      <td>0.066244</td>\n",
       "      <td>0.917306</td>\n",
       "      <td>...</td>\n",
       "      <td>0.134557</td>\n",
       "      <td>0.171854</td>\n",
       "      <td>0.783623</td>\n",
       "      <td>0.701199</td>\n",
       "      <td>0.065034</td>\n",
       "      <td>0.044311</td>\n",
       "      <td>0.801071</td>\n",
       "      <td>0.734827</td>\n",
       "      <td>20540.0</td>\n",
       "      <td>69170.0</td>\n",
       "    </tr>\n",
       "  </tbody>\n",
       "</table>\n",
       "<p>4 rows × 50 columns</p>\n",
       "</div>"
      ],
      "text/plain": [
       "  run_no                       universe_id  \\\n",
       "0      9  4174901d0e4d984240c819a4abc731b9   \n",
       "0      9  4174901d0e4d984240c819a4abc731b9   \n",
       "0      9  4174901d0e4d984240c819a4abc731b9   \n",
       "0      9  4174901d0e4d984240c819a4abc731b9   \n",
       "\n",
       "                                   universe_settings  execution_time  \\\n",
       "0  {\"cutoff\": \"quantile_0.1\", \"eval_fairness_grou...       90.435783   \n",
       "0  {\"cutoff\": \"quantile_0.1\", \"eval_fairness_grou...       90.435783   \n",
       "0  {\"cutoff\": \"quantile_0.25\", \"eval_fairness_gro...       90.435783   \n",
       "0  {\"cutoff\": \"quantile_0.25\", \"eval_fairness_gro...       90.435783   \n",
       "\n",
       "   test_size_n  test_size_frac  fair_main_equalized_odds_difference  \\\n",
       "0        89710             1.0                             0.079218   \n",
       "0        89710             1.0                             0.079218   \n",
       "0        89710             1.0                             0.082424   \n",
       "0        89710             1.0                             0.082424   \n",
       "\n",
       "   fair_main_equalized_odds_ratio  fair_main_demographic_parity_difference  \\\n",
       "0                        0.916408                                 0.068383   \n",
       "0                        0.916408                                 0.068383   \n",
       "0                        0.894817                                 0.066244   \n",
       "0                        0.894817                                 0.066244   \n",
       "\n",
       "   fair_main_demographic_parity_ratio  ...  perf_grp_precision_0  \\\n",
       "0                            0.928223  ...                   NaN   \n",
       "0                            0.928223  ...              0.119986   \n",
       "0                            0.917306  ...                   NaN   \n",
       "0                            0.917306  ...              0.134557   \n",
       "\n",
       "   perf_grp_precision_1  perf_grp_false positive rate_0  \\\n",
       "0                   NaN                             NaN   \n",
       "0              0.147736                        0.947667   \n",
       "0                   NaN                             NaN   \n",
       "0              0.171854                        0.783623   \n",
       "\n",
       "   perf_grp_false positive rate_1  perf_grp_false negative rate_0  \\\n",
       "0                             NaN                             NaN   \n",
       "0                        0.868449                        0.008446   \n",
       "0                             NaN                             NaN   \n",
       "0                        0.701199                        0.065034   \n",
       "\n",
       "   perf_grp_false negative rate_1  perf_grp_selection rate_0  \\\n",
       "0                             NaN                        NaN   \n",
       "0                        0.011269                   0.952726   \n",
       "0                             NaN                        NaN   \n",
       "0                        0.044311                   0.801071   \n",
       "\n",
       "   perf_grp_selection rate_1  perf_grp_count_0  perf_grp_count_1  \n",
       "0                        NaN               NaN               NaN  \n",
       "0                   0.884343           20540.0           69170.0  \n",
       "0                        NaN               NaN               NaN  \n",
       "0                   0.734827           20540.0           69170.0  \n",
       "\n",
       "[4 rows x 50 columns]"
      ]
     },
     "execution_count": 61,
     "metadata": {},
     "output_type": "execute_result"
    }
   ],
   "source": [
    "final_output = universe_analysis.generate_final_output(\n",
    "    y_pred_prob=probs_test,\n",
    "    y_test=y_true,\n",
    "    org_test=org_test,\n",
    "    filter_data=filter_sub_universe_data,\n",
    "    cp_metrics_df=cp_metrics_df,\n",
    "    save=True,\n",
    ")\n",
    "final_output"
   ]
  },
  {
   "cell_type": "code",
   "execution_count": null,
   "id": "721ff514-cb11-46f8-b6fc-50392f74b5cb",
   "metadata": {
    "papermill": {
     "duration": 0.014344,
     "end_time": "2025-07-23T14:31:14.667869",
     "exception": false,
     "start_time": "2025-07-23T14:31:14.653525",
     "status": "completed"
    },
    "tags": []
   },
   "outputs": [],
   "source": []
  }
 ],
 "metadata": {
  "celltoolbar": "Tags",
  "kernelspec": {
   "display_name": "Python (CMA Fairness)",
   "language": "python",
   "name": "cma_fair_env"
  },
  "language_info": {
   "codemirror_mode": {
    "name": "ipython",
    "version": 3
   },
   "file_extension": ".py",
   "mimetype": "text/x-python",
   "name": "python",
   "nbconvert_exporter": "python",
   "pygments_lexer": "ipython3",
   "version": "3.10.12"
  },
  "papermill": {
   "default_parameters": {},
   "duration": 103.553735,
   "end_time": "2025-07-23T14:31:15.300730",
   "environment_variables": {},
   "exception": null,
   "input_path": "universe_analysis.ipynb",
   "output_path": "output/runs/9/notebooks/m_9-4174901d0e4d984240c819a4abc731b9.ipynb",
   "parameters": {
    "output_dir": "output",
    "run_no": "9",
    "seed": "2023",
    "universe": "{\"cutoff\": [\"quantile_0.1\", \"quantile_0.25\"], \"eval_fairness_grouping\": [\"majority-minority\", \"nationality-all\"], \"exclude_features\": \"none\", \"exclude_subgroups\": \"drop-non-german\", \"model\": \"gbm\", \"scale\": \"scale\"}",
    "universe_id": "4174901d0e4d984240c819a4abc731b9"
   },
   "start_time": "2025-07-23T14:29:31.746995",
   "version": "2.6.0"
  }
 },
 "nbformat": 4,
 "nbformat_minor": 5
}