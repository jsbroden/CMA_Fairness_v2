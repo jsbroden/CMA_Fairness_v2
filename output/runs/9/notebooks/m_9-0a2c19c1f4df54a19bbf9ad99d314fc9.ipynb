{
 "cells": [
  {
   "cell_type": "code",
   "execution_count": 1,
   "id": "f159f837-637b-42ba-96b5-ec9a68c44524",
   "metadata": {
    "execution": {
     "iopub.execute_input": "2025-07-23T14:28:03.180999Z",
     "iopub.status.busy": "2025-07-23T14:28:03.180585Z",
     "iopub.status.idle": "2025-07-23T14:28:03.195348Z",
     "shell.execute_reply": "2025-07-23T14:28:03.194445Z"
    },
    "papermill": {
     "duration": 0.034632,
     "end_time": "2025-07-23T14:28:03.197140",
     "exception": false,
     "start_time": "2025-07-23T14:28:03.162508",
     "status": "completed"
    },
    "tags": []
   },
   "outputs": [
    {
     "name": "stdout",
     "output_type": "stream",
     "text": [
      "/dss/dsshome1/0C/ra93lal2/cma/CMA_Fairness_v2\n"
     ]
    },
    {
     "name": "stderr",
     "output_type": "stream",
     "text": [
      "/dss/dsshome1/0C/ra93lal2/.local/share/virtualenvs/CMA_Fairness_v2-3j10GkSs/lib/python3.10/site-packages/IPython/core/magics/osm.py:393: UserWarning: This is now an optional IPython functionality, using bookmarks requires you to install the `pickleshare` library.\n",
      "  bkms = self.shell.db.get('bookmarks', {})\n",
      "/dss/dsshome1/0C/ra93lal2/.local/share/virtualenvs/CMA_Fairness_v2-3j10GkSs/lib/python3.10/site-packages/IPython/core/magics/osm.py:417: UserWarning: This is now an optional IPython functionality, setting dhist requires you to install the `pickleshare` library.\n",
      "  self.shell.db['dhist'] = compress_dhist(dhist)[-100:]\n"
     ]
    }
   ],
   "source": [
    "%cd ~/cma/CMA_Fairness_v2"
   ]
  },
  {
   "cell_type": "markdown",
   "id": "de2603b9",
   "metadata": {
    "papermill": {
     "duration": 0.015886,
     "end_time": "2025-07-23T14:28:03.229420",
     "exception": false,
     "start_time": "2025-07-23T14:28:03.213534",
     "status": "completed"
    },
    "tags": []
   },
   "source": [
    "The following cell holds the definition of our parameters, these values can be overriden by rendering the with e.g. the following command:\n",
    "\n",
    "papermill -p alpha 0.2 -p ratio 0.3 universe_analysis.ipynb output/test_run.ipynb"
   ]
  },
  {
   "cell_type": "code",
   "execution_count": 2,
   "id": "a80968a0-40bb-4fa9-85ef-2d5eefb01975",
   "metadata": {
    "execution": {
     "iopub.execute_input": "2025-07-23T14:28:03.264874Z",
     "iopub.status.busy": "2025-07-23T14:28:03.263987Z",
     "iopub.status.idle": "2025-07-23T14:28:03.270392Z",
     "shell.execute_reply": "2025-07-23T14:28:03.269402Z"
    },
    "papermill": {
     "duration": 0.026765,
     "end_time": "2025-07-23T14:28:03.272023",
     "exception": false,
     "start_time": "2025-07-23T14:28:03.245258",
     "status": "completed"
    },
    "tags": []
   },
   "outputs": [
    {
     "name": "stdout",
     "output_type": "stream",
     "text": [
      "Current working directory: /dss/dsshome1/0C/ra93lal2/cma/CMA_Fairness_v2\n"
     ]
    }
   ],
   "source": [
    "import os\n",
    "print(\"Current working directory:\", os.getcwd())"
   ]
  },
  {
   "cell_type": "code",
   "execution_count": 3,
   "id": "2dce4c03",
   "metadata": {
    "execution": {
     "iopub.execute_input": "2025-07-23T14:28:03.307230Z",
     "iopub.status.busy": "2025-07-23T14:28:03.306232Z",
     "iopub.status.idle": "2025-07-23T14:28:03.313548Z",
     "shell.execute_reply": "2025-07-23T14:28:03.312345Z"
    },
    "papermill": {
     "duration": 0.026526,
     "end_time": "2025-07-23T14:28:03.315215",
     "exception": false,
     "start_time": "2025-07-23T14:28:03.288689",
     "status": "completed"
    },
    "tags": [
     "parameters"
    ]
   },
   "outputs": [],
   "source": [
    "run_no = 0\n",
    "universe_id = \"test\"\n",
    "universe = {\n",
    "    \"scale\": \"scale\", # \"scale\", \"do-not-scale\",\n",
    "    \"model\": \"elasticnet\", # \"logreg\", \"penalized_logreg\", \"rf\", \"gbm\", \"elasticnet\"\n",
    "    \"cutoff\": [\"quantile_0.15\", \"quantile_0.30\"],\n",
    "    \"exclude_features\": \"age\", # \"none\", \"nationality\", \"sex\", \"nationality-sex\", \"age\"\n",
    "    \"exclude_subgroups\": \"keep-all\", # \"keep-all\", \"drop-non-german\"\n",
    "    #\"training_sample\": \"restricted\", # \"restricted\", \"full\"\n",
    "    \"eval_fairness_grouping\": [\"majority-minority\", \"nationality-all\"]\n",
    "}\n",
    "\n",
    "output_dir=\"./output\"\n",
    "seed=0"
   ]
  },
  {
   "cell_type": "code",
   "execution_count": 4,
   "id": "c388e27f",
   "metadata": {
    "execution": {
     "iopub.execute_input": "2025-07-23T14:28:03.350018Z",
     "iopub.status.busy": "2025-07-23T14:28:03.349366Z",
     "iopub.status.idle": "2025-07-23T14:28:03.355362Z",
     "shell.execute_reply": "2025-07-23T14:28:03.354361Z"
    },
    "papermill": {
     "duration": 0.02516,
     "end_time": "2025-07-23T14:28:03.357268",
     "exception": false,
     "start_time": "2025-07-23T14:28:03.332108",
     "status": "completed"
    },
    "tags": [
     "injected-parameters"
    ]
   },
   "outputs": [],
   "source": [
    "# Parameters\n",
    "universe_id = \"0a2c19c1f4df54a19bbf9ad99d314fc9\"\n",
    "run_no = \"9\"\n",
    "universe = \"{\\\"cutoff\\\": [\\\"quantile_0.1\\\", \\\"quantile_0.25\\\"], \\\"eval_fairness_grouping\\\": [\\\"majority-minority\\\", \\\"nationality-all\\\"], \\\"exclude_features\\\": \\\"none\\\", \\\"exclude_subgroups\\\": \\\"drop-non-german\\\", \\\"model\\\": \\\"rf\\\", \\\"scale\\\": \\\"scale\\\"}\"\n",
    "output_dir = \"output\"\n",
    "seed = \"2023\"\n"
   ]
  },
  {
   "cell_type": "code",
   "execution_count": 5,
   "id": "1650acaf",
   "metadata": {
    "execution": {
     "iopub.execute_input": "2025-07-23T14:28:03.393146Z",
     "iopub.status.busy": "2025-07-23T14:28:03.392314Z",
     "iopub.status.idle": "2025-07-23T14:28:03.397775Z",
     "shell.execute_reply": "2025-07-23T14:28:03.396782Z"
    },
    "papermill": {
     "duration": 0.02445,
     "end_time": "2025-07-23T14:28:03.399518",
     "exception": false,
     "start_time": "2025-07-23T14:28:03.375068",
     "status": "completed"
    },
    "tags": []
   },
   "outputs": [],
   "source": [
    "import json\n",
    "# Parse universe into dict if it is passed as a string\n",
    "if isinstance(universe, str):\n",
    "    universe = json.loads(universe)"
   ]
  },
  {
   "cell_type": "code",
   "execution_count": 6,
   "id": "16620c48",
   "metadata": {
    "execution": {
     "iopub.execute_input": "2025-07-23T14:28:03.434141Z",
     "iopub.status.busy": "2025-07-23T14:28:03.433467Z",
     "iopub.status.idle": "2025-07-23T14:28:03.483748Z",
     "shell.execute_reply": "2025-07-23T14:28:03.482774Z"
    },
    "papermill": {
     "duration": 0.06962,
     "end_time": "2025-07-23T14:28:03.485844",
     "exception": false,
     "start_time": "2025-07-23T14:28:03.416224",
     "status": "completed"
    },
    "tags": []
   },
   "outputs": [],
   "source": [
    "# Auto-reload the custom package\n",
    "%load_ext autoreload\n",
    "%autoreload 1\n",
    "%aimport fairness_multiverse"
   ]
  },
  {
   "cell_type": "code",
   "execution_count": 7,
   "id": "01c5c9f3",
   "metadata": {
    "execution": {
     "iopub.execute_input": "2025-07-23T14:28:03.522379Z",
     "iopub.status.busy": "2025-07-23T14:28:03.521402Z",
     "iopub.status.idle": "2025-07-23T14:28:05.678105Z",
     "shell.execute_reply": "2025-07-23T14:28:05.677022Z"
    },
    "papermill": {
     "duration": 2.176536,
     "end_time": "2025-07-23T14:28:05.680057",
     "exception": false,
     "start_time": "2025-07-23T14:28:03.503521",
     "status": "completed"
    },
    "tags": []
   },
   "outputs": [],
   "source": [
    "from fairness_multiverse.universe import UniverseAnalysis\n",
    "\n",
    "universe_analysis = UniverseAnalysis(\n",
    "    run_no = run_no,\n",
    "    universe_id = universe_id,\n",
    "    universe = universe,\n",
    "    output_dir=output_dir,\n",
    ")"
   ]
  },
  {
   "cell_type": "code",
   "execution_count": 8,
   "id": "106241f5",
   "metadata": {
    "execution": {
     "iopub.execute_input": "2025-07-23T14:28:05.716795Z",
     "iopub.status.busy": "2025-07-23T14:28:05.716270Z",
     "iopub.status.idle": "2025-07-23T14:28:05.723076Z",
     "shell.execute_reply": "2025-07-23T14:28:05.722119Z"
    },
    "papermill": {
     "duration": 0.026985,
     "end_time": "2025-07-23T14:28:05.724857",
     "exception": false,
     "start_time": "2025-07-23T14:28:05.697872",
     "status": "completed"
    },
    "tags": []
   },
   "outputs": [
    {
     "name": "stdout",
     "output_type": "stream",
     "text": [
      "Using Seed: 2023\n"
     ]
    }
   ],
   "source": [
    "import numpy as np\n",
    "parsed_seed = int(seed)\n",
    "np.random.seed(parsed_seed)\n",
    "print(f\"Using Seed: {parsed_seed}\")"
   ]
  },
  {
   "cell_type": "markdown",
   "id": "e0ebdc57",
   "metadata": {
    "papermill": {
     "duration": 0.017126,
     "end_time": "2025-07-23T14:28:05.761630",
     "exception": false,
     "start_time": "2025-07-23T14:28:05.744504",
     "status": "completed"
    },
    "tags": []
   },
   "source": [
    "# Loading Data"
   ]
  },
  {
   "cell_type": "markdown",
   "id": "681925a3",
   "metadata": {
    "papermill": {
     "duration": 0.017882,
     "end_time": "2025-07-23T14:28:05.796818",
     "exception": false,
     "start_time": "2025-07-23T14:28:05.778936",
     "status": "completed"
    },
    "tags": []
   },
   "source": [
    "Load siab_train, siab_test, siab_calib and/or \n",
    "load siab_train_features, siab_train_labels"
   ]
  },
  {
   "cell_type": "code",
   "execution_count": 9,
   "id": "f0496b8a",
   "metadata": {
    "execution": {
     "iopub.execute_input": "2025-07-23T14:28:05.833600Z",
     "iopub.status.busy": "2025-07-23T14:28:05.832871Z",
     "iopub.status.idle": "2025-07-23T14:28:05.839194Z",
     "shell.execute_reply": "2025-07-23T14:28:05.838169Z"
    },
    "papermill": {
     "duration": 0.026952,
     "end_time": "2025-07-23T14:28:05.841010",
     "exception": false,
     "start_time": "2025-07-23T14:28:05.814058",
     "status": "completed"
    },
    "tags": []
   },
   "outputs": [],
   "source": [
    "# Do I need to load siab? Delete this cell?\n",
    "\n",
    "#from pathlib import Path\n",
    "#import pandas as pd\n",
    "#\n",
    "## File paths\n",
    "#raw_file = Path(\"data/raw/siab.csv\")\n",
    "#cache_file = Path(\"data/siab_cached.csv.gz\")\n",
    "#\n",
    "## Ensure cache directory exists\n",
    "#cache_file.parent.mkdir(parents=True, exist_ok=True)\n",
    "#\n",
    "## Load with simple caching\n",
    "#if cache_file.exists():\n",
    "#    print(f\"Loading SIAB data from cache: {cache_file}\")\n",
    "#    siab = pd.read_csv(cache_file, compression='gzip')\n",
    "#else:\n",
    "#    print(f\"Cache not found. Reading raw SIAB data: {raw_file}\")\n",
    "#    siab = pd.read_csv(raw_file)\n",
    "#    siab.to_csv(cache_file, index=False, compression='gzip')\n",
    "#    print(f\"Cached SIAB data to: {cache_file}\")\n",
    "#\n",
    "## Now use `siab` DataFrame as needed\n",
    "#print(siab.shape)\n"
   ]
  },
  {
   "cell_type": "code",
   "execution_count": 10,
   "id": "a0edb063",
   "metadata": {
    "execution": {
     "iopub.execute_input": "2025-07-23T14:28:05.876781Z",
     "iopub.status.busy": "2025-07-23T14:28:05.875790Z",
     "iopub.status.idle": "2025-07-23T14:28:07.177936Z",
     "shell.execute_reply": "2025-07-23T14:28:07.176991Z"
    },
    "papermill": {
     "duration": 1.32155,
     "end_time": "2025-07-23T14:28:07.179840",
     "exception": false,
     "start_time": "2025-07-23T14:28:05.858290",
     "status": "completed"
    },
    "tags": []
   },
   "outputs": [],
   "source": [
    "import pandas as pd\n",
    "\n",
    "X_train = pd.read_csv(\"./data/X_train.csv\")\n",
    "y_train = pd.read_csv(\"./data/y_train.csv\")"
   ]
  },
  {
   "cell_type": "code",
   "execution_count": 11,
   "id": "63d08085",
   "metadata": {
    "execution": {
     "iopub.execute_input": "2025-07-23T14:28:07.215864Z",
     "iopub.status.busy": "2025-07-23T14:28:07.215084Z",
     "iopub.status.idle": "2025-07-23T14:28:08.784745Z",
     "shell.execute_reply": "2025-07-23T14:28:08.783685Z"
    },
    "papermill": {
     "duration": 1.589212,
     "end_time": "2025-07-23T14:28:08.786651",
     "exception": false,
     "start_time": "2025-07-23T14:28:07.197439",
     "status": "completed"
    },
    "tags": []
   },
   "outputs": [],
   "source": [
    "X_test = pd.read_csv(\"./data/X_test.csv\")\n",
    "y_true = pd.read_csv(\"./data/y_test.csv\")"
   ]
  },
  {
   "cell_type": "code",
   "execution_count": 12,
   "id": "98a8d0fa-1d3d-4ed8-bb2c-281470e24add",
   "metadata": {
    "execution": {
     "iopub.execute_input": "2025-07-23T14:28:08.824297Z",
     "iopub.status.busy": "2025-07-23T14:28:08.823716Z",
     "iopub.status.idle": "2025-07-23T14:28:10.301003Z",
     "shell.execute_reply": "2025-07-23T14:28:10.299753Z"
    },
    "papermill": {
     "duration": 1.497993,
     "end_time": "2025-07-23T14:28:10.302742",
     "exception": false,
     "start_time": "2025-07-23T14:28:08.804749",
     "status": "completed"
    },
    "tags": []
   },
   "outputs": [],
   "source": [
    "# Calibration data for conformal\n",
    "X_calib = pd.read_csv(\"./data/X_calib.csv\")\n",
    "y_calib = pd.read_csv(\"./data/y_calib.csv\")"
   ]
  },
  {
   "cell_type": "code",
   "execution_count": 13,
   "id": "e6c733c5",
   "metadata": {
    "execution": {
     "iopub.execute_input": "2025-07-23T14:28:10.342295Z",
     "iopub.status.busy": "2025-07-23T14:28:10.341301Z",
     "iopub.status.idle": "2025-07-23T14:28:10.489696Z",
     "shell.execute_reply": "2025-07-23T14:28:10.488532Z"
    },
    "papermill": {
     "duration": 0.170571,
     "end_time": "2025-07-23T14:28:10.491878",
     "exception": false,
     "start_time": "2025-07-23T14:28:10.321307",
     "status": "completed"
    },
    "tags": []
   },
   "outputs": [],
   "source": [
    "# Auxiliary data needed downstream in the pipeline\n",
    "\n",
    "org_train = X_train.copy()\n",
    "org_test = X_test.copy()\n",
    "org_calib = X_calib.copy()"
   ]
  },
  {
   "cell_type": "markdown",
   "id": "0a4a1b33",
   "metadata": {
    "papermill": {
     "duration": 0.018045,
     "end_time": "2025-07-23T14:28:10.528686",
     "exception": false,
     "start_time": "2025-07-23T14:28:10.510641",
     "status": "completed"
    },
    "tags": []
   },
   "source": [
    "# Preprocessing Data"
   ]
  },
  {
   "cell_type": "code",
   "execution_count": 14,
   "id": "ca879031",
   "metadata": {
    "execution": {
     "iopub.execute_input": "2025-07-23T14:28:10.567632Z",
     "iopub.status.busy": "2025-07-23T14:28:10.566975Z",
     "iopub.status.idle": "2025-07-23T14:28:10.574358Z",
     "shell.execute_reply": "2025-07-23T14:28:10.573077Z"
    },
    "papermill": {
     "duration": 0.029546,
     "end_time": "2025-07-23T14:28:10.576209",
     "exception": false,
     "start_time": "2025-07-23T14:28:10.546663",
     "status": "completed"
    },
    "tags": []
   },
   "outputs": [],
   "source": [
    "# EXCLUDE PROTECTED FEATURES\n",
    "# ----------------------\n",
    "# \"exclude_features\": \"none\", # \"nationality\", \"sex\", \"nationality-sex\"\n",
    "\n",
    "excluded_features = universe[\"exclude_features\"].split(\"-\") # split, e.g.: \"nationality-sex\" -> [\"nationality\", \"sex\"]\n",
    "excluded_features_dictionary = {\n",
    "    \"nationality\": [\"maxdeutsch1\", \"maxdeutsch.Missing.\"],\n",
    "    \"sex\": [\"frau1\"],\n",
    "    \"age\": [\"age\"],\n",
    "}\n"
   ]
  },
  {
   "cell_type": "code",
   "execution_count": 15,
   "id": "b745ac60",
   "metadata": {
    "execution": {
     "iopub.execute_input": "2025-07-23T14:28:10.617738Z",
     "iopub.status.busy": "2025-07-23T14:28:10.616854Z",
     "iopub.status.idle": "2025-07-23T14:28:10.624825Z",
     "shell.execute_reply": "2025-07-23T14:28:10.623614Z"
    },
    "papermill": {
     "duration": 0.031244,
     "end_time": "2025-07-23T14:28:10.627326",
     "exception": false,
     "start_time": "2025-07-23T14:28:10.596082",
     "status": "completed"
    },
    "tags": []
   },
   "outputs": [],
   "source": [
    "# Code nice names to column names\n",
    "\n",
    "excluded_features_columns = [\n",
    "    excluded_features_dictionary[f] for f in excluded_features if len(f) > 0 and f != \"none\"\n",
    "]"
   ]
  },
  {
   "cell_type": "code",
   "execution_count": 16,
   "id": "f84f73a2",
   "metadata": {
    "execution": {
     "iopub.execute_input": "2025-07-23T14:28:10.668766Z",
     "iopub.status.busy": "2025-07-23T14:28:10.668172Z",
     "iopub.status.idle": "2025-07-23T14:28:10.675714Z",
     "shell.execute_reply": "2025-07-23T14:28:10.674558Z"
    },
    "papermill": {
     "duration": 0.030401,
     "end_time": "2025-07-23T14:28:10.677673",
     "exception": false,
     "start_time": "2025-07-23T14:28:10.647272",
     "status": "completed"
    },
    "tags": []
   },
   "outputs": [],
   "source": [
    "from utils import flatten_once\n",
    "\n",
    "excluded_features_columns = flatten_once(excluded_features_columns)"
   ]
  },
  {
   "cell_type": "code",
   "execution_count": 17,
   "id": "884dea22",
   "metadata": {
    "execution": {
     "iopub.execute_input": "2025-07-23T14:28:10.720128Z",
     "iopub.status.busy": "2025-07-23T14:28:10.719638Z",
     "iopub.status.idle": "2025-07-23T14:28:10.726623Z",
     "shell.execute_reply": "2025-07-23T14:28:10.725438Z"
    },
    "papermill": {
     "duration": 0.030271,
     "end_time": "2025-07-23T14:28:10.728688",
     "exception": false,
     "start_time": "2025-07-23T14:28:10.698417",
     "status": "completed"
    },
    "tags": []
   },
   "outputs": [],
   "source": [
    "if len(excluded_features_columns) > 0:\n",
    "    print(f\"Dropping features: {excluded_features_columns}\")\n",
    "    X_train.drop(excluded_features_columns, axis=1, inplace=True)"
   ]
  },
  {
   "cell_type": "code",
   "execution_count": 18,
   "id": "95ab8b16",
   "metadata": {
    "execution": {
     "iopub.execute_input": "2025-07-23T14:28:10.769514Z",
     "iopub.status.busy": "2025-07-23T14:28:10.768839Z",
     "iopub.status.idle": "2025-07-23T14:28:10.775520Z",
     "shell.execute_reply": "2025-07-23T14:28:10.774469Z"
    },
    "papermill": {
     "duration": 0.028729,
     "end_time": "2025-07-23T14:28:10.777347",
     "exception": false,
     "start_time": "2025-07-23T14:28:10.748618",
     "status": "completed"
    },
    "tags": []
   },
   "outputs": [],
   "source": [
    "if len(excluded_features_columns) > 0:\n",
    "    print(f\"Dropping features: {excluded_features_columns}\")\n",
    "    X_test.drop(excluded_features_columns, axis=1, inplace=True)"
   ]
  },
  {
   "cell_type": "code",
   "execution_count": 19,
   "id": "1853aaf5-fb9f-46cb-a2b5-8ea4ae2237e4",
   "metadata": {
    "execution": {
     "iopub.execute_input": "2025-07-23T14:28:10.819709Z",
     "iopub.status.busy": "2025-07-23T14:28:10.819274Z",
     "iopub.status.idle": "2025-07-23T14:28:10.825537Z",
     "shell.execute_reply": "2025-07-23T14:28:10.824375Z"
    },
    "papermill": {
     "duration": 0.028621,
     "end_time": "2025-07-23T14:28:10.827461",
     "exception": false,
     "start_time": "2025-07-23T14:28:10.798840",
     "status": "completed"
    },
    "tags": []
   },
   "outputs": [],
   "source": [
    "if len(excluded_features_columns) > 0:\n",
    "    print(f\"Dropping features: {excluded_features_columns}\")\n",
    "    X_calib.drop(excluded_features_columns, axis=1, inplace=True)"
   ]
  },
  {
   "cell_type": "code",
   "execution_count": 20,
   "id": "76c4dc6d",
   "metadata": {
    "execution": {
     "iopub.execute_input": "2025-07-23T14:28:10.871008Z",
     "iopub.status.busy": "2025-07-23T14:28:10.870219Z",
     "iopub.status.idle": "2025-07-23T14:28:10.875981Z",
     "shell.execute_reply": "2025-07-23T14:28:10.874833Z"
    },
    "papermill": {
     "duration": 0.029051,
     "end_time": "2025-07-23T14:28:10.877901",
     "exception": false,
     "start_time": "2025-07-23T14:28:10.848850",
     "status": "completed"
    },
    "tags": []
   },
   "outputs": [],
   "source": [
    "# EXCLUDE CERTAIN SUBGROUPS\n",
    "# ----------------------\n",
    "\n",
    "mode = universe.get(\"exclude_subgroups\", \"keep-all\") \n",
    "# Fetches the exclude_subgroups setting from the universe dict.\n",
    "# Defaults to \"keep-all\" if the key is missing."
   ]
  },
  {
   "cell_type": "code",
   "execution_count": 21,
   "id": "21994072",
   "metadata": {
    "execution": {
     "iopub.execute_input": "2025-07-23T14:28:10.917723Z",
     "iopub.status.busy": "2025-07-23T14:28:10.916844Z",
     "iopub.status.idle": "2025-07-23T14:28:10.924920Z",
     "shell.execute_reply": "2025-07-23T14:28:10.923837Z"
    },
    "papermill": {
     "duration": 0.029888,
     "end_time": "2025-07-23T14:28:10.926852",
     "exception": false,
     "start_time": "2025-07-23T14:28:10.896964",
     "status": "completed"
    },
    "tags": []
   },
   "outputs": [],
   "source": [
    "if mode == \"keep-all\":\n",
    "    keep_mask = pd.Series(True, index=org_train.index)\n",
    "\n",
    "# org_train contains the original feature columns from features_org (in Simson)\n",
    "# features_org contains unprocessed features, for me X_train at beginning ???\n",
    "# For keep-all, creates a boolean Series (keep_mask) of all True, so no rows are removed.\n",
    "\n",
    "elif mode == \"drop-non-german\":\n",
    "    keep_mask = org_train[\"maxdeutsch1\"] == 1 # ??? what about missing values?\n",
    "\n",
    "else:\n",
    "    raise ValueError(f\"Unsupported mode for exclude_subgroups: {mode}\")\n"
   ]
  },
  {
   "cell_type": "code",
   "execution_count": 22,
   "id": "71651440",
   "metadata": {
    "execution": {
     "iopub.execute_input": "2025-07-23T14:28:10.966930Z",
     "iopub.status.busy": "2025-07-23T14:28:10.966330Z",
     "iopub.status.idle": "2025-07-23T14:28:10.974159Z",
     "shell.execute_reply": "2025-07-23T14:28:10.972993Z"
    },
    "papermill": {
     "duration": 0.029856,
     "end_time": "2025-07-23T14:28:10.976091",
     "exception": false,
     "start_time": "2025-07-23T14:28:10.946235",
     "status": "completed"
    },
    "tags": []
   },
   "outputs": [
    {
     "name": "stdout",
     "output_type": "stream",
     "text": [
      "Dropping 10036 rows (13.38%) where mode='drop-non-german'\n"
     ]
    }
   ],
   "source": [
    "n_drop = (~keep_mask).sum() # Calculates how many rows are set to be dropped\n",
    "if n_drop > 0:\n",
    "    pct = n_drop / len(keep_mask) * 100\n",
    "    print(f\"Dropping {n_drop} rows ({pct:.2f}%) where mode='{mode}'\")"
   ]
  },
  {
   "cell_type": "code",
   "execution_count": 23,
   "id": "5fb8eee5",
   "metadata": {
    "execution": {
     "iopub.execute_input": "2025-07-23T14:28:11.015285Z",
     "iopub.status.busy": "2025-07-23T14:28:11.014575Z",
     "iopub.status.idle": "2025-07-23T14:28:11.048953Z",
     "shell.execute_reply": "2025-07-23T14:28:11.047735Z"
    },
    "papermill": {
     "duration": 0.0668,
     "end_time": "2025-07-23T14:28:11.062127",
     "exception": false,
     "start_time": "2025-07-23T14:28:10.995327",
     "status": "completed"
    },
    "tags": []
   },
   "outputs": [],
   "source": [
    "X_train = X_train[keep_mask]"
   ]
  },
  {
   "cell_type": "code",
   "execution_count": 24,
   "id": "b202bb3a",
   "metadata": {
    "execution": {
     "iopub.execute_input": "2025-07-23T14:28:11.112138Z",
     "iopub.status.busy": "2025-07-23T14:28:11.111064Z",
     "iopub.status.idle": "2025-07-23T14:28:11.120349Z",
     "shell.execute_reply": "2025-07-23T14:28:11.118808Z"
    },
    "papermill": {
     "duration": 0.034216,
     "end_time": "2025-07-23T14:28:11.122730",
     "exception": false,
     "start_time": "2025-07-23T14:28:11.088514",
     "status": "completed"
    },
    "tags": []
   },
   "outputs": [],
   "source": [
    "y_train = y_train[keep_mask]"
   ]
  },
  {
   "cell_type": "markdown",
   "id": "493e2ac3",
   "metadata": {
    "papermill": {
     "duration": 0.021417,
     "end_time": "2025-07-23T14:28:11.165527",
     "exception": false,
     "start_time": "2025-07-23T14:28:11.144110",
     "status": "completed"
    },
    "tags": []
   },
   "source": [
    "# Model Training"
   ]
  },
  {
   "cell_type": "code",
   "execution_count": 25,
   "id": "679e1268",
   "metadata": {
    "execution": {
     "iopub.execute_input": "2025-07-23T14:28:11.208350Z",
     "iopub.status.busy": "2025-07-23T14:28:11.207816Z",
     "iopub.status.idle": "2025-07-23T14:28:11.362373Z",
     "shell.execute_reply": "2025-07-23T14:28:11.361071Z"
    },
    "papermill": {
     "duration": 0.178655,
     "end_time": "2025-07-23T14:28:11.364219",
     "exception": false,
     "start_time": "2025-07-23T14:28:11.185564",
     "status": "completed"
    },
    "tags": []
   },
   "outputs": [],
   "source": [
    "from sklearn.linear_model import LogisticRegression\n",
    "from sklearn.ensemble import GradientBoostingClassifier, RandomForestClassifier\n",
    "\n",
    "if (universe[\"model\"] == \"logreg\"):\n",
    "    model = LogisticRegression() #penalty=\"none\") #, solver=\"newton-cg\", max_iter=1) # include random_state=19 ?\n",
    "elif (universe[\"model\"] == \"penalized_logreg\"):\n",
    "    model = LogisticRegression(penalty=\"l2\", C=1.0) #, solver=\"newton-cg\", max_iter=1)\n",
    "elif (universe[\"model\"] == \"rf\"):\n",
    "    model = RandomForestClassifier(n_estimators=100, n_jobs=-1)\n",
    "elif (universe[\"model\"] == \"gbm\"):\n",
    "    model = GradientBoostingClassifier()\n",
    "elif (universe[\"model\"] == \"elasticnet\"):\n",
    "    model = LogisticRegression(penalty = 'elasticnet', solver = 'saga', l1_ratio = 0.5, max_iter=5000) # which solver to use?\n",
    "else:\n",
    "    raise \"Unsupported universe.model\""
   ]
  },
  {
   "cell_type": "code",
   "execution_count": 26,
   "id": "0cc8f744",
   "metadata": {
    "execution": {
     "iopub.execute_input": "2025-07-23T14:28:11.405851Z",
     "iopub.status.busy": "2025-07-23T14:28:11.404741Z",
     "iopub.status.idle": "2025-07-23T14:28:11.412334Z",
     "shell.execute_reply": "2025-07-23T14:28:11.411263Z"
    },
    "papermill": {
     "duration": 0.030295,
     "end_time": "2025-07-23T14:28:11.414217",
     "exception": false,
     "start_time": "2025-07-23T14:28:11.383922",
     "status": "completed"
    },
    "tags": []
   },
   "outputs": [],
   "source": [
    "import numpy as np\n",
    "from sklearn.pipeline import Pipeline\n",
    "from sklearn.preprocessing import StandardScaler\n",
    "\n",
    "model = Pipeline([\n",
    "    #(\"continuous_processor\", continuous_processor),\n",
    "    #(\"categorical_preprocessor\", categorical_preprocessor),\n",
    "    (\"scale\", StandardScaler() if universe[\"scale\"] == \"scale\" else None), \n",
    "    (\"model\", model),\n",
    "])"
   ]
  },
  {
   "cell_type": "code",
   "execution_count": 27,
   "id": "9442c04d",
   "metadata": {
    "execution": {
     "iopub.execute_input": "2025-07-23T14:28:11.461020Z",
     "iopub.status.busy": "2025-07-23T14:28:11.460457Z",
     "iopub.status.idle": "2025-07-23T14:28:20.075762Z",
     "shell.execute_reply": "2025-07-23T14:28:20.074304Z"
    },
    "papermill": {
     "duration": 8.641303,
     "end_time": "2025-07-23T14:28:20.077705",
     "exception": false,
     "start_time": "2025-07-23T14:28:11.436402",
     "status": "completed"
    },
    "tags": []
   },
   "outputs": [
    {
     "data": {
      "text/html": [
       "<style>#sk-container-id-1 {color: black;background-color: white;}#sk-container-id-1 pre{padding: 0;}#sk-container-id-1 div.sk-toggleable {background-color: white;}#sk-container-id-1 label.sk-toggleable__label {cursor: pointer;display: block;width: 100%;margin-bottom: 0;padding: 0.3em;box-sizing: border-box;text-align: center;}#sk-container-id-1 label.sk-toggleable__label-arrow:before {content: \"▸\";float: left;margin-right: 0.25em;color: #696969;}#sk-container-id-1 label.sk-toggleable__label-arrow:hover:before {color: black;}#sk-container-id-1 div.sk-estimator:hover label.sk-toggleable__label-arrow:before {color: black;}#sk-container-id-1 div.sk-toggleable__content {max-height: 0;max-width: 0;overflow: hidden;text-align: left;background-color: #f0f8ff;}#sk-container-id-1 div.sk-toggleable__content pre {margin: 0.2em;color: black;border-radius: 0.25em;background-color: #f0f8ff;}#sk-container-id-1 input.sk-toggleable__control:checked~div.sk-toggleable__content {max-height: 200px;max-width: 100%;overflow: auto;}#sk-container-id-1 input.sk-toggleable__control:checked~label.sk-toggleable__label-arrow:before {content: \"▾\";}#sk-container-id-1 div.sk-estimator input.sk-toggleable__control:checked~label.sk-toggleable__label {background-color: #d4ebff;}#sk-container-id-1 div.sk-label input.sk-toggleable__control:checked~label.sk-toggleable__label {background-color: #d4ebff;}#sk-container-id-1 input.sk-hidden--visually {border: 0;clip: rect(1px 1px 1px 1px);clip: rect(1px, 1px, 1px, 1px);height: 1px;margin: -1px;overflow: hidden;padding: 0;position: absolute;width: 1px;}#sk-container-id-1 div.sk-estimator {font-family: monospace;background-color: #f0f8ff;border: 1px dotted black;border-radius: 0.25em;box-sizing: border-box;margin-bottom: 0.5em;}#sk-container-id-1 div.sk-estimator:hover {background-color: #d4ebff;}#sk-container-id-1 div.sk-parallel-item::after {content: \"\";width: 100%;border-bottom: 1px solid gray;flex-grow: 1;}#sk-container-id-1 div.sk-label:hover label.sk-toggleable__label {background-color: #d4ebff;}#sk-container-id-1 div.sk-serial::before {content: \"\";position: absolute;border-left: 1px solid gray;box-sizing: border-box;top: 0;bottom: 0;left: 50%;z-index: 0;}#sk-container-id-1 div.sk-serial {display: flex;flex-direction: column;align-items: center;background-color: white;padding-right: 0.2em;padding-left: 0.2em;position: relative;}#sk-container-id-1 div.sk-item {position: relative;z-index: 1;}#sk-container-id-1 div.sk-parallel {display: flex;align-items: stretch;justify-content: center;background-color: white;position: relative;}#sk-container-id-1 div.sk-item::before, #sk-container-id-1 div.sk-parallel-item::before {content: \"\";position: absolute;border-left: 1px solid gray;box-sizing: border-box;top: 0;bottom: 0;left: 50%;z-index: -1;}#sk-container-id-1 div.sk-parallel-item {display: flex;flex-direction: column;z-index: 1;position: relative;background-color: white;}#sk-container-id-1 div.sk-parallel-item:first-child::after {align-self: flex-end;width: 50%;}#sk-container-id-1 div.sk-parallel-item:last-child::after {align-self: flex-start;width: 50%;}#sk-container-id-1 div.sk-parallel-item:only-child::after {width: 0;}#sk-container-id-1 div.sk-dashed-wrapped {border: 1px dashed gray;margin: 0 0.4em 0.5em 0.4em;box-sizing: border-box;padding-bottom: 0.4em;background-color: white;}#sk-container-id-1 div.sk-label label {font-family: monospace;font-weight: bold;display: inline-block;line-height: 1.2em;}#sk-container-id-1 div.sk-label-container {text-align: center;}#sk-container-id-1 div.sk-container {/* jupyter's `normalize.less` sets `[hidden] { display: none; }` but bootstrap.min.css set `[hidden] { display: none !important; }` so we also need the `!important` here to be able to override the default hidden behavior on the sphinx rendered scikit-learn.org. See: https://github.com/scikit-learn/scikit-learn/issues/21755 */display: inline-block !important;position: relative;}#sk-container-id-1 div.sk-text-repr-fallback {display: none;}</style><div id=\"sk-container-id-1\" class=\"sk-top-container\"><div class=\"sk-text-repr-fallback\"><pre>Pipeline(steps=[(&#x27;scale&#x27;, StandardScaler()),\n",
       "                (&#x27;model&#x27;, RandomForestClassifier(n_jobs=-1))])</pre><b>In a Jupyter environment, please rerun this cell to show the HTML representation or trust the notebook. <br />On GitHub, the HTML representation is unable to render, please try loading this page with nbviewer.org.</b></div><div class=\"sk-container\" hidden><div class=\"sk-item sk-dashed-wrapped\"><div class=\"sk-label-container\"><div class=\"sk-label sk-toggleable\"><input class=\"sk-toggleable__control sk-hidden--visually\" id=\"sk-estimator-id-1\" type=\"checkbox\" ><label for=\"sk-estimator-id-1\" class=\"sk-toggleable__label sk-toggleable__label-arrow\">Pipeline</label><div class=\"sk-toggleable__content\"><pre>Pipeline(steps=[(&#x27;scale&#x27;, StandardScaler()),\n",
       "                (&#x27;model&#x27;, RandomForestClassifier(n_jobs=-1))])</pre></div></div></div><div class=\"sk-serial\"><div class=\"sk-item\"><div class=\"sk-estimator sk-toggleable\"><input class=\"sk-toggleable__control sk-hidden--visually\" id=\"sk-estimator-id-2\" type=\"checkbox\" ><label for=\"sk-estimator-id-2\" class=\"sk-toggleable__label sk-toggleable__label-arrow\">StandardScaler</label><div class=\"sk-toggleable__content\"><pre>StandardScaler()</pre></div></div></div><div class=\"sk-item\"><div class=\"sk-estimator sk-toggleable\"><input class=\"sk-toggleable__control sk-hidden--visually\" id=\"sk-estimator-id-3\" type=\"checkbox\" ><label for=\"sk-estimator-id-3\" class=\"sk-toggleable__label sk-toggleable__label-arrow\">RandomForestClassifier</label><div class=\"sk-toggleable__content\"><pre>RandomForestClassifier(n_jobs=-1)</pre></div></div></div></div></div></div></div>"
      ],
      "text/plain": [
       "Pipeline(steps=[('scale', StandardScaler()),\n",
       "                ('model', RandomForestClassifier(n_jobs=-1))])"
      ]
     },
     "execution_count": 27,
     "metadata": {},
     "output_type": "execute_result"
    }
   ],
   "source": [
    "model.fit(X_train, y_train.values.ravel())"
   ]
  },
  {
   "cell_type": "code",
   "execution_count": 28,
   "id": "af59f8c0",
   "metadata": {
    "execution": {
     "iopub.execute_input": "2025-07-23T14:28:20.127000Z",
     "iopub.status.busy": "2025-07-23T14:28:20.126582Z",
     "iopub.status.idle": "2025-07-23T14:28:20.132191Z",
     "shell.execute_reply": "2025-07-23T14:28:20.131375Z"
    },
    "papermill": {
     "duration": 0.019222,
     "end_time": "2025-07-23T14:28:20.133790",
     "exception": false,
     "start_time": "2025-07-23T14:28:20.114568",
     "status": "completed"
    },
    "tags": []
   },
   "outputs": [],
   "source": [
    "from fairness_multiverse.universe import predict_w_threshold"
   ]
  },
  {
   "cell_type": "code",
   "execution_count": 29,
   "id": "a7cf2e16",
   "metadata": {
    "execution": {
     "iopub.execute_input": "2025-07-23T14:28:20.180168Z",
     "iopub.status.busy": "2025-07-23T14:28:20.179572Z",
     "iopub.status.idle": "2025-07-23T14:28:21.471194Z",
     "shell.execute_reply": "2025-07-23T14:28:21.469931Z"
    },
    "papermill": {
     "duration": 1.324961,
     "end_time": "2025-07-23T14:28:21.473293",
     "exception": false,
     "start_time": "2025-07-23T14:28:20.148332",
     "status": "completed"
    },
    "tags": []
   },
   "outputs": [
    {
     "data": {
      "text/plain": [
       "0.8660572957306878"
      ]
     },
     "execution_count": 29,
     "metadata": {},
     "output_type": "execute_result"
    }
   ],
   "source": [
    "probs_test = model.predict_proba(X_test)\n",
    "\n",
    "'''\n",
    "Below code returns a boolean array (or binary 0/1 array depending on how it’s used) where each element \n",
    "is True if the probability of class 1 is greater than or equal to the threshold, and False otherwise.\n",
    "'''\n",
    "y_pred_default = predict_w_threshold(probs_test, 0.5)\n",
    "\n",
    "from sklearn.metrics import accuracy_score\n",
    "\n",
    "# Naive prediction\n",
    "accuracy_score(y_true = y_true, y_pred = y_pred_default)"
   ]
  },
  {
   "cell_type": "code",
   "execution_count": 30,
   "id": "081964c3",
   "metadata": {
    "execution": {
     "iopub.execute_input": "2025-07-23T14:28:21.521788Z",
     "iopub.status.busy": "2025-07-23T14:28:21.520671Z",
     "iopub.status.idle": "2025-07-23T14:28:23.138130Z",
     "shell.execute_reply": "2025-07-23T14:28:23.137023Z"
    },
    "papermill": {
     "duration": 1.642312,
     "end_time": "2025-07-23T14:28:23.140100",
     "exception": false,
     "start_time": "2025-07-23T14:28:21.497788",
     "status": "completed"
    },
    "tags": []
   },
   "outputs": [
    {
     "data": {
      "text/plain": [
       "array([0, 0, 0, ..., 0, 0, 0])"
      ]
     },
     "execution_count": 30,
     "metadata": {},
     "output_type": "execute_result"
    }
   ],
   "source": [
    "model.predict(X_test)"
   ]
  },
  {
   "cell_type": "markdown",
   "id": "56c9705b",
   "metadata": {
    "papermill": {
     "duration": 0.047168,
     "end_time": "2025-07-23T14:28:23.233488",
     "exception": false,
     "start_time": "2025-07-23T14:28:23.186320",
     "status": "completed"
    },
    "tags": []
   },
   "source": [
    "# Conformal Prediction"
   ]
  },
  {
   "cell_type": "code",
   "execution_count": 31,
   "id": "160ec6ff",
   "metadata": {
    "execution": {
     "iopub.execute_input": "2025-07-23T14:28:23.319118Z",
     "iopub.status.busy": "2025-07-23T14:28:23.318670Z",
     "iopub.status.idle": "2025-07-23T14:28:23.327341Z",
     "shell.execute_reply": "2025-07-23T14:28:23.326025Z"
    },
    "papermill": {
     "duration": 0.053981,
     "end_time": "2025-07-23T14:28:23.329137",
     "exception": false,
     "start_time": "2025-07-23T14:28:23.275156",
     "status": "completed"
    },
    "tags": []
   },
   "outputs": [],
   "source": [
    "# Miscoverage level for conformal prediction (10% allowed error rate => 90% target coverage)\n",
    "alpha = 0.1"
   ]
  },
  {
   "cell_type": "code",
   "execution_count": 32,
   "id": "eadf4555-3dd3-440e-8e35-f82a4ad9f855",
   "metadata": {
    "execution": {
     "iopub.execute_input": "2025-07-23T14:28:23.417516Z",
     "iopub.status.busy": "2025-07-23T14:28:23.417054Z",
     "iopub.status.idle": "2025-07-23T14:28:25.951860Z",
     "shell.execute_reply": "2025-07-23T14:28:25.950730Z"
    },
    "papermill": {
     "duration": 2.58024,
     "end_time": "2025-07-23T14:28:25.954597",
     "exception": false,
     "start_time": "2025-07-23T14:28:23.374357",
     "status": "completed"
    },
    "tags": []
   },
   "outputs": [],
   "source": [
    "probs_calib = model.predict_proba(X_calib)"
   ]
  },
  {
   "cell_type": "code",
   "execution_count": 33,
   "id": "2ed93547-6d5d-4983-9b36-1ecb300da49a",
   "metadata": {
    "execution": {
     "iopub.execute_input": "2025-07-23T14:28:26.078942Z",
     "iopub.status.busy": "2025-07-23T14:28:26.078477Z",
     "iopub.status.idle": "2025-07-23T14:28:26.085873Z",
     "shell.execute_reply": "2025-07-23T14:28:26.084785Z"
    },
    "papermill": {
     "duration": 0.076514,
     "end_time": "2025-07-23T14:28:26.089348",
     "exception": false,
     "start_time": "2025-07-23T14:28:26.012834",
     "status": "completed"
    },
    "tags": []
   },
   "outputs": [],
   "source": [
    "y_calib = y_calib.values.ravel().astype(int)"
   ]
  },
  {
   "cell_type": "code",
   "execution_count": 34,
   "id": "65d1320d-f588-4b38-9072-62af1ae97f7d",
   "metadata": {
    "execution": {
     "iopub.execute_input": "2025-07-23T14:28:26.239016Z",
     "iopub.status.busy": "2025-07-23T14:28:26.238547Z",
     "iopub.status.idle": "2025-07-23T14:28:26.249013Z",
     "shell.execute_reply": "2025-07-23T14:28:26.247866Z"
    },
    "papermill": {
     "duration": 0.094496,
     "end_time": "2025-07-23T14:28:26.251717",
     "exception": false,
     "start_time": "2025-07-23T14:28:26.157221",
     "status": "completed"
    },
    "tags": []
   },
   "outputs": [],
   "source": [
    "from fairness_multiverse.conformal import compute_nc_scores\n",
    "\n",
    "# Compute nonconformity scores on calibration set (1 - probability of true class)\n",
    "nc_scores = compute_nc_scores(probs_calib, y_calib)"
   ]
  },
  {
   "cell_type": "code",
   "execution_count": 35,
   "id": "df3b8ca3-53b7-43d5-9667-7c85da7aeda2",
   "metadata": {
    "execution": {
     "iopub.execute_input": "2025-07-23T14:28:26.407443Z",
     "iopub.status.busy": "2025-07-23T14:28:26.406977Z",
     "iopub.status.idle": "2025-07-23T14:28:26.416975Z",
     "shell.execute_reply": "2025-07-23T14:28:26.415738Z"
    },
    "papermill": {
     "duration": 0.08281,
     "end_time": "2025-07-23T14:28:26.419506",
     "exception": false,
     "start_time": "2025-07-23T14:28:26.336696",
     "status": "completed"
    },
    "tags": []
   },
   "outputs": [],
   "source": [
    "from fairness_multiverse.conformal import find_threshold\n",
    "\n",
    "# Find conformal threshold q_hat for the given alpha (split conformal method)\n",
    "q_hat = find_threshold(nc_scores, alpha)"
   ]
  },
  {
   "cell_type": "code",
   "execution_count": 36,
   "id": "4d29e6c1-0ef6-4aa4-b8fe-4fe79b0d033a",
   "metadata": {
    "execution": {
     "iopub.execute_input": "2025-07-23T14:28:26.559313Z",
     "iopub.status.busy": "2025-07-23T14:28:26.558843Z",
     "iopub.status.idle": "2025-07-23T14:28:26.569935Z",
     "shell.execute_reply": "2025-07-23T14:28:26.568671Z"
    },
    "papermill": {
     "duration": 0.082991,
     "end_time": "2025-07-23T14:28:26.573042",
     "exception": false,
     "start_time": "2025-07-23T14:28:26.490051",
     "status": "completed"
    },
    "tags": []
   },
   "outputs": [
    {
     "data": {
      "text/plain": [
       "0.65"
      ]
     },
     "execution_count": 36,
     "metadata": {},
     "output_type": "execute_result"
    }
   ],
   "source": [
    "q_hat"
   ]
  },
  {
   "cell_type": "code",
   "execution_count": 37,
   "id": "92460794-cdac-4be2-ba28-f28c0515a6fb",
   "metadata": {
    "execution": {
     "iopub.execute_input": "2025-07-23T14:28:26.725154Z",
     "iopub.status.busy": "2025-07-23T14:28:26.724596Z",
     "iopub.status.idle": "2025-07-23T14:28:32.442028Z",
     "shell.execute_reply": "2025-07-23T14:28:32.440648Z"
    },
    "papermill": {
     "duration": 5.79125,
     "end_time": "2025-07-23T14:28:32.444071",
     "exception": false,
     "start_time": "2025-07-23T14:28:26.652821",
     "status": "completed"
    },
    "tags": []
   },
   "outputs": [],
   "source": [
    "from fairness_multiverse.conformal import predict_conformal_sets\n",
    "\n",
    "# Generate prediction sets for each test example\n",
    "pred_sets = predict_conformal_sets(model, X_test, q_hat)"
   ]
  },
  {
   "cell_type": "code",
   "execution_count": 38,
   "id": "d90c9a65-e6db-4f5d-80cd-e68fb7e46829",
   "metadata": {
    "execution": {
     "iopub.execute_input": "2025-07-23T14:28:32.579444Z",
     "iopub.status.busy": "2025-07-23T14:28:32.578975Z",
     "iopub.status.idle": "2025-07-23T14:28:32.586577Z",
     "shell.execute_reply": "2025-07-23T14:28:32.584761Z"
    },
    "papermill": {
     "duration": 0.0844,
     "end_time": "2025-07-23T14:28:32.589162",
     "exception": false,
     "start_time": "2025-07-23T14:28:32.504762",
     "status": "completed"
    },
    "tags": []
   },
   "outputs": [],
   "source": [
    "y_true = y_true.squeeze()"
   ]
  },
  {
   "cell_type": "code",
   "execution_count": 39,
   "id": "3a58a54a-1e68-46b9-927a-df01f18aebc8",
   "metadata": {
    "execution": {
     "iopub.execute_input": "2025-07-23T14:28:32.711426Z",
     "iopub.status.busy": "2025-07-23T14:28:32.710929Z",
     "iopub.status.idle": "2025-07-23T14:28:36.343553Z",
     "shell.execute_reply": "2025-07-23T14:28:36.342417Z"
    },
    "papermill": {
     "duration": 3.692419,
     "end_time": "2025-07-23T14:28:36.345639",
     "exception": false,
     "start_time": "2025-07-23T14:28:32.653220",
     "status": "completed"
    },
    "tags": []
   },
   "outputs": [],
   "source": [
    "from fairness_multiverse.conformal import evaluate_sets\n",
    "\n",
    "# Evaluate coverage and average set size on test data\n",
    "metrics = evaluate_sets(pred_sets, y_true)"
   ]
  },
  {
   "cell_type": "code",
   "execution_count": 40,
   "id": "5ce0a5cb-201f-45a0-ade5-94c7f0bd6095",
   "metadata": {
    "execution": {
     "iopub.execute_input": "2025-07-23T14:28:36.518803Z",
     "iopub.status.busy": "2025-07-23T14:28:36.518339Z",
     "iopub.status.idle": "2025-07-23T14:28:36.527328Z",
     "shell.execute_reply": "2025-07-23T14:28:36.526049Z"
    },
    "papermill": {
     "duration": 0.105241,
     "end_time": "2025-07-23T14:28:36.529927",
     "exception": false,
     "start_time": "2025-07-23T14:28:36.424686",
     "status": "completed"
    },
    "tags": []
   },
   "outputs": [
    {
     "data": {
      "text/plain": [
       "{'coverage': 0.9158733697469624, 'avg_size': 1.146494259279902}"
      ]
     },
     "execution_count": 40,
     "metadata": {},
     "output_type": "execute_result"
    }
   ],
   "source": [
    "metrics"
   ]
  },
  {
   "cell_type": "code",
   "execution_count": 41,
   "id": "9b9a838d-31c9-430b-ae14-12baee460d17",
   "metadata": {
    "execution": {
     "iopub.execute_input": "2025-07-23T14:28:36.715947Z",
     "iopub.status.busy": "2025-07-23T14:28:36.715484Z",
     "iopub.status.idle": "2025-07-23T14:28:36.722721Z",
     "shell.execute_reply": "2025-07-23T14:28:36.721632Z"
    },
    "papermill": {
     "duration": 0.098898,
     "end_time": "2025-07-23T14:28:36.727607",
     "exception": false,
     "start_time": "2025-07-23T14:28:36.628709",
     "status": "completed"
    },
    "tags": []
   },
   "outputs": [],
   "source": [
    "example_universe = universe.copy()\n",
    "universe_model = example_universe.get(\"model\")\n",
    "universe_exclude_features = example_universe.get(\"exclude_features\")\n",
    "universe_exclude_subgroups = example_universe.get(\"exclude_subgroups\")\n",
    "universe_scale = example_universe.get(\"scale\")"
   ]
  },
  {
   "cell_type": "code",
   "execution_count": 42,
   "id": "f4b6a8ac-9dc0-4245-8a91-5b3b5999c4f9",
   "metadata": {
    "execution": {
     "iopub.execute_input": "2025-07-23T14:28:36.922929Z",
     "iopub.status.busy": "2025-07-23T14:28:36.922461Z",
     "iopub.status.idle": "2025-07-23T14:28:36.929854Z",
     "shell.execute_reply": "2025-07-23T14:28:36.928791Z"
    },
    "papermill": {
     "duration": 0.102914,
     "end_time": "2025-07-23T14:28:36.939630",
     "exception": false,
     "start_time": "2025-07-23T14:28:36.836716",
     "status": "completed"
    },
    "tags": []
   },
   "outputs": [],
   "source": [
    "cp_metrics_dict = {\n",
    "    \"universe_id\": [universe_id],\n",
    "    \"universe_model\": [universe_model],\n",
    "    \"universe_exclude_features\": [universe_exclude_features],\n",
    "    \"universe_exclude_subgroups\": [universe_exclude_subgroups],\n",
    "    \"universe_scale\": [universe_scale],\n",
    "    \"q_hat\": [q_hat],\n",
    "    \"coverage\": [metrics[\"coverage\"]],\n",
    "    \"avg_size\": [metrics[\"avg_size\"]],\n",
    "}"
   ]
  },
  {
   "cell_type": "code",
   "execution_count": 43,
   "id": "908acbb1-0371-4915-85ca-3fa520d2efe2",
   "metadata": {
    "execution": {
     "iopub.execute_input": "2025-07-23T14:28:37.131475Z",
     "iopub.status.busy": "2025-07-23T14:28:37.130998Z",
     "iopub.status.idle": "2025-07-23T14:28:37.141071Z",
     "shell.execute_reply": "2025-07-23T14:28:37.139970Z"
    },
    "papermill": {
     "duration": 0.111022,
     "end_time": "2025-07-23T14:28:37.145655",
     "exception": false,
     "start_time": "2025-07-23T14:28:37.034633",
     "status": "completed"
    },
    "tags": []
   },
   "outputs": [
    {
     "data": {
      "text/plain": [
       "{'universe_id': ['0a2c19c1f4df54a19bbf9ad99d314fc9'],\n",
       " 'universe_model': ['rf'],\n",
       " 'universe_exclude_features': ['none'],\n",
       " 'universe_exclude_subgroups': ['drop-non-german'],\n",
       " 'universe_scale': ['scale'],\n",
       " 'q_hat': [0.65],\n",
       " 'coverage': [0.9158733697469624],\n",
       " 'avg_size': [1.146494259279902]}"
      ]
     },
     "execution_count": 43,
     "metadata": {},
     "output_type": "execute_result"
    }
   ],
   "source": [
    "cp_metrics_dict"
   ]
  },
  {
   "cell_type": "code",
   "execution_count": 44,
   "id": "33007efc-14e9-4ec6-97ac-56a455c82265",
   "metadata": {
    "execution": {
     "iopub.execute_input": "2025-07-23T14:28:37.350808Z",
     "iopub.status.busy": "2025-07-23T14:28:37.350349Z",
     "iopub.status.idle": "2025-07-23T14:28:37.358089Z",
     "shell.execute_reply": "2025-07-23T14:28:37.356690Z"
    },
    "papermill": {
     "duration": 0.105677,
     "end_time": "2025-07-23T14:28:37.362527",
     "exception": false,
     "start_time": "2025-07-23T14:28:37.256850",
     "status": "completed"
    },
    "tags": []
   },
   "outputs": [],
   "source": [
    "cp_metrics_df = pd.DataFrame(cp_metrics_dict)"
   ]
  },
  {
   "cell_type": "code",
   "execution_count": 45,
   "id": "db12611b-57b2-4910-b9d0-355adfd6e7bf",
   "metadata": {
    "execution": {
     "iopub.execute_input": "2025-07-23T14:28:37.583838Z",
     "iopub.status.busy": "2025-07-23T14:28:37.583374Z",
     "iopub.status.idle": "2025-07-23T14:28:37.629237Z",
     "shell.execute_reply": "2025-07-23T14:28:37.620647Z"
    },
    "papermill": {
     "duration": 0.154933,
     "end_time": "2025-07-23T14:28:37.631621",
     "exception": false,
     "start_time": "2025-07-23T14:28:37.476688",
     "status": "completed"
    },
    "tags": []
   },
   "outputs": [
    {
     "data": {
      "text/html": [
       "<div>\n",
       "<style scoped>\n",
       "    .dataframe tbody tr th:only-of-type {\n",
       "        vertical-align: middle;\n",
       "    }\n",
       "\n",
       "    .dataframe tbody tr th {\n",
       "        vertical-align: top;\n",
       "    }\n",
       "\n",
       "    .dataframe thead th {\n",
       "        text-align: right;\n",
       "    }\n",
       "</style>\n",
       "<table border=\"1\" class=\"dataframe\">\n",
       "  <thead>\n",
       "    <tr style=\"text-align: right;\">\n",
       "      <th></th>\n",
       "      <th>universe_id</th>\n",
       "      <th>universe_model</th>\n",
       "      <th>universe_exclude_features</th>\n",
       "      <th>universe_exclude_subgroups</th>\n",
       "      <th>universe_scale</th>\n",
       "      <th>q_hat</th>\n",
       "      <th>coverage</th>\n",
       "      <th>avg_size</th>\n",
       "    </tr>\n",
       "  </thead>\n",
       "  <tbody>\n",
       "    <tr>\n",
       "      <th>0</th>\n",
       "      <td>0a2c19c1f4df54a19bbf9ad99d314fc9</td>\n",
       "      <td>rf</td>\n",
       "      <td>none</td>\n",
       "      <td>drop-non-german</td>\n",
       "      <td>scale</td>\n",
       "      <td>0.65</td>\n",
       "      <td>0.915873</td>\n",
       "      <td>1.146494</td>\n",
       "    </tr>\n",
       "  </tbody>\n",
       "</table>\n",
       "</div>"
      ],
      "text/plain": [
       "                        universe_id universe_model universe_exclude_features  \\\n",
       "0  0a2c19c1f4df54a19bbf9ad99d314fc9             rf                      none   \n",
       "\n",
       "  universe_exclude_subgroups universe_scale  q_hat  coverage  avg_size  \n",
       "0            drop-non-german          scale   0.65  0.915873  1.146494  "
      ]
     },
     "execution_count": 45,
     "metadata": {},
     "output_type": "execute_result"
    }
   ],
   "source": [
    "cp_metrics_df"
   ]
  },
  {
   "cell_type": "code",
   "execution_count": 46,
   "id": "b7fbde55-a0a1-47e4-9af6-fe4a17fa8c61",
   "metadata": {
    "execution": {
     "iopub.execute_input": "2025-07-23T14:28:37.826858Z",
     "iopub.status.busy": "2025-07-23T14:28:37.826381Z",
     "iopub.status.idle": "2025-07-23T14:28:37.832701Z",
     "shell.execute_reply": "2025-07-23T14:28:37.831571Z"
    },
    "papermill": {
     "duration": 0.103149,
     "end_time": "2025-07-23T14:28:37.836015",
     "exception": false,
     "start_time": "2025-07-23T14:28:37.732866",
     "status": "completed"
    },
    "tags": []
   },
   "outputs": [],
   "source": [
    "# Conditional Coverage & looking at subgroups"
   ]
  },
  {
   "cell_type": "code",
   "execution_count": 47,
   "id": "027ae886-68dd-4141-96c7-805a5450e1ef",
   "metadata": {
    "execution": {
     "iopub.execute_input": "2025-07-23T14:28:38.079233Z",
     "iopub.status.busy": "2025-07-23T14:28:38.078759Z",
     "iopub.status.idle": "2025-07-23T14:28:39.610069Z",
     "shell.execute_reply": "2025-07-23T14:28:39.608633Z"
    },
    "papermill": {
     "duration": 1.659569,
     "end_time": "2025-07-23T14:28:39.612253",
     "exception": false,
     "start_time": "2025-07-23T14:28:37.952684",
     "status": "completed"
    },
    "tags": []
   },
   "outputs": [],
   "source": [
    "from fairness_multiverse.conformal import build_cp_groups\n",
    "\n",
    "cp_groups_df = build_cp_groups(pred_sets, y_true, X_test.index, org_test)\n",
    "#needs universe_id and setting"
   ]
  },
  {
   "cell_type": "code",
   "execution_count": 48,
   "id": "c3b92545-903e-4839-89af-0f057907d7d6",
   "metadata": {
    "execution": {
     "iopub.execute_input": "2025-07-23T14:28:39.760814Z",
     "iopub.status.busy": "2025-07-23T14:28:39.759619Z",
     "iopub.status.idle": "2025-07-23T14:28:46.324937Z",
     "shell.execute_reply": "2025-07-23T14:28:46.323476Z"
    },
    "papermill": {
     "duration": 6.650496,
     "end_time": "2025-07-23T14:28:46.327337",
     "exception": false,
     "start_time": "2025-07-23T14:28:39.676841",
     "status": "completed"
    },
    "tags": []
   },
   "outputs": [],
   "source": [
    "# Define covered = 1 if true_label is in the predicted set\n",
    "cp_groups_df['covered'] = cp_groups_df.apply(\n",
    "    lambda r: int(r['true_label'] in r['pred_set']),\n",
    "    axis=1\n",
    ")"
   ]
  },
  {
   "cell_type": "code",
   "execution_count": 49,
   "id": "338ff529-1a6b-4b87-a931-8e4788d52aad",
   "metadata": {
    "execution": {
     "iopub.execute_input": "2025-07-23T14:28:46.485025Z",
     "iopub.status.busy": "2025-07-23T14:28:46.484207Z",
     "iopub.status.idle": "2025-07-23T14:28:46.491353Z",
     "shell.execute_reply": "2025-07-23T14:28:46.490224Z"
    },
    "papermill": {
     "duration": 0.109125,
     "end_time": "2025-07-23T14:28:46.510014",
     "exception": false,
     "start_time": "2025-07-23T14:28:46.400889",
     "status": "completed"
    },
    "tags": []
   },
   "outputs": [],
   "source": [
    "#cp_groups_df"
   ]
  },
  {
   "cell_type": "code",
   "execution_count": 50,
   "id": "90032e27-66df-4540-9169-4e89cfbaa758",
   "metadata": {
    "execution": {
     "iopub.execute_input": "2025-07-23T14:28:46.667404Z",
     "iopub.status.busy": "2025-07-23T14:28:46.666930Z",
     "iopub.status.idle": "2025-07-23T14:28:46.682010Z",
     "shell.execute_reply": "2025-07-23T14:28:46.680775Z"
    },
    "papermill": {
     "duration": 0.086541,
     "end_time": "2025-07-23T14:28:46.684172",
     "exception": false,
     "start_time": "2025-07-23T14:28:46.597631",
     "status": "completed"
    },
    "tags": []
   },
   "outputs": [],
   "source": [
    "subgroups = ['frau1','nongerman','nongerman_male','nongerman_female']\n",
    "\n",
    "# Conditional coverage for subgroup==1\n",
    "cond_coverage = {\n",
    "    g: cp_groups_df.loc[cp_groups_df[g]==1, 'covered'].mean()\n",
    "    for g in subgroups\n",
    "}"
   ]
  },
  {
   "cell_type": "code",
   "execution_count": 51,
   "id": "1e348fb1-b9c3-45bc-ba23-f016827a7e0d",
   "metadata": {
    "execution": {
     "iopub.execute_input": "2025-07-23T14:28:47.007385Z",
     "iopub.status.busy": "2025-07-23T14:28:47.006915Z",
     "iopub.status.idle": "2025-07-23T14:28:47.016456Z",
     "shell.execute_reply": "2025-07-23T14:28:47.015292Z"
    },
    "papermill": {
     "duration": 0.262671,
     "end_time": "2025-07-23T14:28:47.046851",
     "exception": false,
     "start_time": "2025-07-23T14:28:46.784180",
     "status": "completed"
    },
    "tags": []
   },
   "outputs": [
    {
     "data": {
      "text/plain": [
       "{'frau1': 0.9169699420407063,\n",
       " 'nongerman': 0.9101779599169146,\n",
       " 'nongerman_male': 0.9235341799513644,\n",
       " 'nongerman_female': 0.8880774962742176}"
      ]
     },
     "execution_count": 51,
     "metadata": {},
     "output_type": "execute_result"
    }
   ],
   "source": [
    "cond_coverage"
   ]
  },
  {
   "cell_type": "code",
   "execution_count": 52,
   "id": "f5093324-c3dd-4d63-bc4c-8d945e5c8bbb",
   "metadata": {
    "execution": {
     "iopub.execute_input": "2025-07-23T14:28:47.313424Z",
     "iopub.status.busy": "2025-07-23T14:28:47.312949Z",
     "iopub.status.idle": "2025-07-23T14:28:47.322182Z",
     "shell.execute_reply": "2025-07-23T14:28:47.321038Z"
    },
    "papermill": {
     "duration": 0.145785,
     "end_time": "2025-07-23T14:28:47.325881",
     "exception": false,
     "start_time": "2025-07-23T14:28:47.180096",
     "status": "completed"
    },
    "tags": []
   },
   "outputs": [],
   "source": [
    "for subgroup, cov in cond_coverage.items():\n",
    "    cp_metrics_df[f\"cov_{subgroup}\"] = cov"
   ]
  },
  {
   "cell_type": "code",
   "execution_count": 53,
   "id": "6e872e10-dbe5-49e8-b554-5030c98ff75d",
   "metadata": {
    "execution": {
     "iopub.execute_input": "2025-07-23T14:28:47.611054Z",
     "iopub.status.busy": "2025-07-23T14:28:47.610607Z",
     "iopub.status.idle": "2025-07-23T14:28:47.692921Z",
     "shell.execute_reply": "2025-07-23T14:28:47.684370Z"
    },
    "papermill": {
     "duration": 0.222836,
     "end_time": "2025-07-23T14:28:47.695468",
     "exception": false,
     "start_time": "2025-07-23T14:28:47.472632",
     "status": "completed"
    },
    "tags": []
   },
   "outputs": [
    {
     "data": {
      "text/html": [
       "<div>\n",
       "<style scoped>\n",
       "    .dataframe tbody tr th:only-of-type {\n",
       "        vertical-align: middle;\n",
       "    }\n",
       "\n",
       "    .dataframe tbody tr th {\n",
       "        vertical-align: top;\n",
       "    }\n",
       "\n",
       "    .dataframe thead th {\n",
       "        text-align: right;\n",
       "    }\n",
       "</style>\n",
       "<table border=\"1\" class=\"dataframe\">\n",
       "  <thead>\n",
       "    <tr style=\"text-align: right;\">\n",
       "      <th></th>\n",
       "      <th>universe_id</th>\n",
       "      <th>universe_model</th>\n",
       "      <th>universe_exclude_features</th>\n",
       "      <th>universe_exclude_subgroups</th>\n",
       "      <th>universe_scale</th>\n",
       "      <th>q_hat</th>\n",
       "      <th>coverage</th>\n",
       "      <th>avg_size</th>\n",
       "      <th>cov_frau1</th>\n",
       "      <th>cov_nongerman</th>\n",
       "      <th>cov_nongerman_male</th>\n",
       "      <th>cov_nongerman_female</th>\n",
       "    </tr>\n",
       "  </thead>\n",
       "  <tbody>\n",
       "    <tr>\n",
       "      <th>0</th>\n",
       "      <td>0a2c19c1f4df54a19bbf9ad99d314fc9</td>\n",
       "      <td>rf</td>\n",
       "      <td>none</td>\n",
       "      <td>drop-non-german</td>\n",
       "      <td>scale</td>\n",
       "      <td>0.65</td>\n",
       "      <td>0.915873</td>\n",
       "      <td>1.146494</td>\n",
       "      <td>0.91697</td>\n",
       "      <td>0.910178</td>\n",
       "      <td>0.923534</td>\n",
       "      <td>0.888077</td>\n",
       "    </tr>\n",
       "  </tbody>\n",
       "</table>\n",
       "</div>"
      ],
      "text/plain": [
       "                        universe_id universe_model universe_exclude_features  \\\n",
       "0  0a2c19c1f4df54a19bbf9ad99d314fc9             rf                      none   \n",
       "\n",
       "  universe_exclude_subgroups universe_scale  q_hat  coverage  avg_size  \\\n",
       "0            drop-non-german          scale   0.65  0.915873  1.146494   \n",
       "\n",
       "   cov_frau1  cov_nongerman  cov_nongerman_male  cov_nongerman_female  \n",
       "0    0.91697       0.910178            0.923534              0.888077  "
      ]
     },
     "execution_count": 53,
     "metadata": {},
     "output_type": "execute_result"
    }
   ],
   "source": [
    "cp_metrics_df"
   ]
  },
  {
   "cell_type": "markdown",
   "id": "33774451",
   "metadata": {
    "papermill": {
     "duration": 0.11589,
     "end_time": "2025-07-23T14:28:47.937016",
     "exception": false,
     "start_time": "2025-07-23T14:28:47.821126",
     "status": "completed"
    },
    "tags": []
   },
   "source": [
    "# (Fairness) Metrics"
   ]
  },
  {
   "cell_type": "code",
   "execution_count": 54,
   "id": "debc5d62",
   "metadata": {
    "execution": {
     "iopub.execute_input": "2025-07-23T14:28:48.211113Z",
     "iopub.status.busy": "2025-07-23T14:28:48.210343Z",
     "iopub.status.idle": "2025-07-23T14:28:48.293059Z",
     "shell.execute_reply": "2025-07-23T14:28:48.284632Z"
    },
    "papermill": {
     "duration": 0.222485,
     "end_time": "2025-07-23T14:28:48.295162",
     "exception": false,
     "start_time": "2025-07-23T14:28:48.072677",
     "status": "completed"
    },
    "tags": []
   },
   "outputs": [],
   "source": [
    "# do I need to include maxdeutsch1.missing?\n",
    "\n",
    "import numpy as np\n",
    "\n",
    "colname_to_bin = \"maxdeutsch1\"\n",
    "majority_value = org_train[colname_to_bin].mode()[0]\n",
    "\n",
    "org_test[\"majmin\"] = np.where(org_test[colname_to_bin] == majority_value, \"majority\", \"minority\")"
   ]
  },
  {
   "cell_type": "code",
   "execution_count": 55,
   "id": "06a50de5",
   "metadata": {
    "execution": {
     "iopub.execute_input": "2025-07-23T14:28:48.479275Z",
     "iopub.status.busy": "2025-07-23T14:28:48.478834Z",
     "iopub.status.idle": "2025-07-23T14:28:59.508075Z",
     "shell.execute_reply": "2025-07-23T14:28:59.506494Z"
    },
    "papermill": {
     "duration": 11.133157,
     "end_time": "2025-07-23T14:28:59.510303",
     "exception": false,
     "start_time": "2025-07-23T14:28:48.377146",
     "status": "completed"
    },
    "tags": []
   },
   "outputs": [],
   "source": [
    "example_universe = universe.copy()\n",
    "example_universe[\"cutoff\"] = example_universe[\"cutoff\"][0]\n",
    "example_universe[\"eval_fairness_grouping\"] = example_universe[\"eval_fairness_grouping\"][0]\n",
    "fairness_dict, metric_frame = universe_analysis.compute_metrics(\n",
    "    example_universe,\n",
    "    y_pred_prob=probs_test,\n",
    "    y_test=y_true,\n",
    "    org_test=org_test,\n",
    ")"
   ]
  },
  {
   "cell_type": "markdown",
   "id": "f95d4e02",
   "metadata": {
    "papermill": {
     "duration": 0.042365,
     "end_time": "2025-07-23T14:28:59.603513",
     "exception": false,
     "start_time": "2025-07-23T14:28:59.561148",
     "status": "completed"
    },
    "tags": []
   },
   "source": [
    "# Overall"
   ]
  },
  {
   "cell_type": "markdown",
   "id": "bdee4871",
   "metadata": {
    "papermill": {
     "duration": 0.0521,
     "end_time": "2025-07-23T14:28:59.709393",
     "exception": false,
     "start_time": "2025-07-23T14:28:59.657293",
     "status": "completed"
    },
    "tags": []
   },
   "source": [
    "Fairness\n",
    "Main fairness target: Equalized Odds. Seems to be a better fit than equal opportunity, since we're not only interested in Y = 1. Seems to be a better fit than demographic parity, since we also care about accuracy, not just equal distribution of preds.\n",
    "\n",
    "Pick column for computation of fairness metrics\n",
    "\n",
    "Performance\n",
    "Overall performance measures, most interesting in relation to the measures split by group below"
   ]
  },
  {
   "cell_type": "code",
   "execution_count": 56,
   "id": "c4e067c6",
   "metadata": {
    "execution": {
     "iopub.execute_input": "2025-07-23T14:28:59.815677Z",
     "iopub.status.busy": "2025-07-23T14:28:59.815125Z",
     "iopub.status.idle": "2025-07-23T14:28:59.826927Z",
     "shell.execute_reply": "2025-07-23T14:28:59.825819Z"
    },
    "papermill": {
     "duration": 0.067758,
     "end_time": "2025-07-23T14:28:59.828995",
     "exception": false,
     "start_time": "2025-07-23T14:28:59.761237",
     "status": "completed"
    },
    "tags": []
   },
   "outputs": [
    {
     "data": {
      "text/plain": [
       "accuracy                   0.194884\n",
       "balanced accuracy          0.530680\n",
       "f1                         0.238409\n",
       "precision                  0.135667\n",
       "false positive rate        0.920999\n",
       "false negative rate        0.017640\n",
       "selection rate             0.928871\n",
       "count                  89710.000000\n",
       "dtype: float64"
      ]
     },
     "execution_count": 56,
     "metadata": {},
     "output_type": "execute_result"
    }
   ],
   "source": [
    "metric_frame.overall"
   ]
  },
  {
   "cell_type": "markdown",
   "id": "e968fe9d",
   "metadata": {
    "papermill": {
     "duration": 0.052365,
     "end_time": "2025-07-23T14:28:59.929531",
     "exception": false,
     "start_time": "2025-07-23T14:28:59.877166",
     "status": "completed"
    },
    "tags": []
   },
   "source": [
    "By Group"
   ]
  },
  {
   "cell_type": "code",
   "execution_count": 57,
   "id": "ec325bce",
   "metadata": {
    "execution": {
     "iopub.execute_input": "2025-07-23T14:29:00.122799Z",
     "iopub.status.busy": "2025-07-23T14:29:00.122309Z",
     "iopub.status.idle": "2025-07-23T14:29:00.189758Z",
     "shell.execute_reply": "2025-07-23T14:29:00.168686Z"
    },
    "papermill": {
     "duration": 0.163081,
     "end_time": "2025-07-23T14:29:00.191910",
     "exception": false,
     "start_time": "2025-07-23T14:29:00.028829",
     "status": "completed"
    },
    "tags": []
   },
   "outputs": [
    {
     "data": {
      "text/html": [
       "<div>\n",
       "<style scoped>\n",
       "    .dataframe tbody tr th:only-of-type {\n",
       "        vertical-align: middle;\n",
       "    }\n",
       "\n",
       "    .dataframe tbody tr th {\n",
       "        vertical-align: top;\n",
       "    }\n",
       "\n",
       "    .dataframe thead th {\n",
       "        text-align: right;\n",
       "    }\n",
       "</style>\n",
       "<table border=\"1\" class=\"dataframe\">\n",
       "  <thead>\n",
       "    <tr style=\"text-align: right;\">\n",
       "      <th></th>\n",
       "      <th>accuracy</th>\n",
       "      <th>balanced accuracy</th>\n",
       "      <th>f1</th>\n",
       "      <th>precision</th>\n",
       "      <th>false positive rate</th>\n",
       "      <th>false negative rate</th>\n",
       "      <th>selection rate</th>\n",
       "      <th>count</th>\n",
       "    </tr>\n",
       "    <tr>\n",
       "      <th>majmin</th>\n",
       "      <th></th>\n",
       "      <th></th>\n",
       "      <th></th>\n",
       "      <th></th>\n",
       "      <th></th>\n",
       "      <th></th>\n",
       "      <th></th>\n",
       "      <th></th>\n",
       "    </tr>\n",
       "  </thead>\n",
       "  <tbody>\n",
       "    <tr>\n",
       "      <th>majority</th>\n",
       "      <td>0.18842</td>\n",
       "      <td>0.528808</td>\n",
       "      <td>0.244058</td>\n",
       "      <td>0.139156</td>\n",
       "      <td>0.933850</td>\n",
       "      <td>0.008534</td>\n",
       "      <td>0.941463</td>\n",
       "      <td>69170.0</td>\n",
       "    </tr>\n",
       "    <tr>\n",
       "      <th>minority</th>\n",
       "      <td>0.21665</td>\n",
       "      <td>0.534332</td>\n",
       "      <td>0.218021</td>\n",
       "      <td>0.123188</td>\n",
       "      <td>0.878549</td>\n",
       "      <td>0.052787</td>\n",
       "      <td>0.886465</td>\n",
       "      <td>20540.0</td>\n",
       "    </tr>\n",
       "  </tbody>\n",
       "</table>\n",
       "</div>"
      ],
      "text/plain": [
       "          accuracy  balanced accuracy        f1  precision  \\\n",
       "majmin                                                       \n",
       "majority   0.18842           0.528808  0.244058   0.139156   \n",
       "minority   0.21665           0.534332  0.218021   0.123188   \n",
       "\n",
       "          false positive rate  false negative rate  selection rate    count  \n",
       "majmin                                                                       \n",
       "majority             0.933850             0.008534        0.941463  69170.0  \n",
       "minority             0.878549             0.052787        0.886465  20540.0  "
      ]
     },
     "execution_count": 57,
     "metadata": {},
     "output_type": "execute_result"
    }
   ],
   "source": [
    "metric_frame.by_group"
   ]
  },
  {
   "cell_type": "code",
   "execution_count": 58,
   "id": "a9ddbe63",
   "metadata": {
    "execution": {
     "iopub.execute_input": "2025-07-23T14:29:00.355071Z",
     "iopub.status.busy": "2025-07-23T14:29:00.354650Z",
     "iopub.status.idle": "2025-07-23T14:29:05.613073Z",
     "shell.execute_reply": "2025-07-23T14:29:05.612140Z"
    },
    "papermill": {
     "duration": 5.354952,
     "end_time": "2025-07-23T14:29:05.614856",
     "exception": false,
     "start_time": "2025-07-23T14:29:00.259904",
     "status": "completed"
    },
    "tags": []
   },
   "outputs": [
    {
     "data": {
      "text/plain": [
       "array([[<Axes: title={'center': 'accuracy'}, xlabel='majmin'>,\n",
       "        <Axes: title={'center': 'balanced accuracy'}, xlabel='majmin'>,\n",
       "        <Axes: title={'center': 'f1'}, xlabel='majmin'>],\n",
       "       [<Axes: title={'center': 'precision'}, xlabel='majmin'>,\n",
       "        <Axes: title={'center': 'false positive rate'}, xlabel='majmin'>,\n",
       "        <Axes: title={'center': 'false negative rate'}, xlabel='majmin'>],\n",
       "       [<Axes: title={'center': 'selection rate'}, xlabel='majmin'>,\n",
       "        <Axes: title={'center': 'count'}, xlabel='majmin'>,\n",
       "        <Axes: xlabel='majmin'>]], dtype=object)"
      ]
     },
     "execution_count": 58,
     "metadata": {},
     "output_type": "execute_result"
    },
    {
     "data": {
      "image/png": "[encoded data removed]",
      "text/plain": [
       "<Figure size 1200x800 with 9 Axes>"
      ]
     },
     "metadata": {},
     "output_type": "display_data"
    }
   ],
   "source": [
    "# In a graphic\n",
    "metric_frame.by_group.plot.bar(\n",
    "    subplots=True,\n",
    "    layout=[3, 3],\n",
    "    legend=False,\n",
    "    figsize=[12, 8],\n",
    "    title=\"Show all metrics\",\n",
    ")"
   ]
  },
  {
   "cell_type": "markdown",
   "id": "f57a0bac",
   "metadata": {
    "papermill": {
     "duration": 0.014856,
     "end_time": "2025-07-23T14:29:05.694081",
     "exception": false,
     "start_time": "2025-07-23T14:29:05.679225",
     "status": "completed"
    },
    "tags": []
   },
   "source": [
    "# Final Output"
   ]
  },
  {
   "cell_type": "code",
   "execution_count": 59,
   "id": "96d280a3",
   "metadata": {
    "execution": {
     "iopub.execute_input": "2025-07-23T14:29:05.724499Z",
     "iopub.status.busy": "2025-07-23T14:29:05.723662Z",
     "iopub.status.idle": "2025-07-23T14:29:05.731947Z",
     "shell.execute_reply": "2025-07-23T14:29:05.731035Z"
    },
    "papermill": {
     "duration": 0.025046,
     "end_time": "2025-07-23T14:29:05.733385",
     "exception": false,
     "start_time": "2025-07-23T14:29:05.708339",
     "status": "completed"
    },
    "tags": []
   },
   "outputs": [
    {
     "data": {
      "text/plain": [
       "4"
      ]
     },
     "execution_count": 59,
     "metadata": {},
     "output_type": "execute_result"
    }
   ],
   "source": [
    "sub_universes = universe_analysis.generate_sub_universes()\n",
    "len(sub_universes)"
   ]
  },
  {
   "cell_type": "code",
   "execution_count": 60,
   "id": "92adf7ba",
   "metadata": {
    "execution": {
     "iopub.execute_input": "2025-07-23T14:29:05.768549Z",
     "iopub.status.busy": "2025-07-23T14:29:05.767948Z",
     "iopub.status.idle": "2025-07-23T14:29:05.777734Z",
     "shell.execute_reply": "2025-07-23T14:29:05.776815Z"
    },
    "papermill": {
     "duration": 0.027682,
     "end_time": "2025-07-23T14:29:05.779564",
     "exception": false,
     "start_time": "2025-07-23T14:29:05.751882",
     "status": "completed"
    },
    "tags": []
   },
   "outputs": [],
   "source": [
    "def filter_sub_universe_data(sub_universe, org_test):\n",
    "    # Keep all rows — no filtering\n",
    "    keep_rows_mask = np.ones(org_test.shape[0], dtype=bool)\n",
    "\n",
    "    print(f\"[INFO] Keeping all rows: {keep_rows_mask.sum()} rows retained.\")\n",
    "    return keep_rows_mask"
   ]
  },
  {
   "cell_type": "code",
   "execution_count": 61,
   "id": "4a759155",
   "metadata": {
    "execution": {
     "iopub.execute_input": "2025-07-23T14:29:05.813156Z",
     "iopub.status.busy": "2025-07-23T14:29:05.812264Z",
     "iopub.status.idle": "2025-07-23T14:29:23.046655Z",
     "shell.execute_reply": "2025-07-23T14:29:23.045507Z"
    },
    "papermill": {
     "duration": 17.252662,
     "end_time": "2025-07-23T14:29:23.048307",
     "exception": false,
     "start_time": "2025-07-23T14:29:05.795645",
     "status": "completed"
    },
    "tags": []
   },
   "outputs": [
    {
     "name": "stdout",
     "output_type": "stream",
     "text": [
      "Stopping execution_time clock.\n",
      "[INFO] Keeping all rows: 89710 rows retained.\n"
     ]
    },
    {
     "name": "stdout",
     "output_type": "stream",
     "text": [
      "[INFO] Keeping all rows: 89710 rows retained.\n"
     ]
    },
    {
     "name": "stdout",
     "output_type": "stream",
     "text": [
      "[INFO] Keeping all rows: 89710 rows retained.\n"
     ]
    },
    {
     "name": "stdout",
     "output_type": "stream",
     "text": [
      "[INFO] Keeping all rows: 89710 rows retained.\n"
     ]
    },
    {
     "data": {
      "text/html": [
       "<div>\n",
       "<style scoped>\n",
       "    .dataframe tbody tr th:only-of-type {\n",
       "        vertical-align: middle;\n",
       "    }\n",
       "\n",
       "    .dataframe tbody tr th {\n",
       "        vertical-align: top;\n",
       "    }\n",
       "\n",
       "    .dataframe thead th {\n",
       "        text-align: right;\n",
       "    }\n",
       "</style>\n",
       "<table border=\"1\" class=\"dataframe\">\n",
       "  <thead>\n",
       "    <tr style=\"text-align: right;\">\n",
       "      <th></th>\n",
       "      <th>run_no</th>\n",
       "      <th>universe_id</th>\n",
       "      <th>universe_settings</th>\n",
       "      <th>execution_time</th>\n",
       "      <th>test_size_n</th>\n",
       "      <th>test_size_frac</th>\n",
       "      <th>fair_main_equalized_odds_difference</th>\n",
       "      <th>fair_main_equalized_odds_ratio</th>\n",
       "      <th>fair_main_demographic_parity_difference</th>\n",
       "      <th>fair_main_demographic_parity_ratio</th>\n",
       "      <th>...</th>\n",
       "      <th>perf_grp_precision_0</th>\n",
       "      <th>perf_grp_precision_1</th>\n",
       "      <th>perf_grp_false positive rate_0</th>\n",
       "      <th>perf_grp_false positive rate_1</th>\n",
       "      <th>perf_grp_false negative rate_0</th>\n",
       "      <th>perf_grp_false negative rate_1</th>\n",
       "      <th>perf_grp_selection rate_0</th>\n",
       "      <th>perf_grp_selection rate_1</th>\n",
       "      <th>perf_grp_count_0</th>\n",
       "      <th>perf_grp_count_1</th>\n",
       "    </tr>\n",
       "  </thead>\n",
       "  <tbody>\n",
       "    <tr>\n",
       "      <th>0</th>\n",
       "      <td>9</td>\n",
       "      <td>0a2c19c1f4df54a19bbf9ad99d314fc9</td>\n",
       "      <td>{\"cutoff\": \"quantile_0.1\", \"eval_fairness_grou...</td>\n",
       "      <td>60.20322</td>\n",
       "      <td>89710</td>\n",
       "      <td>1.0</td>\n",
       "      <td>0.055300</td>\n",
       "      <td>0.940782</td>\n",
       "      <td>0.054998</td>\n",
       "      <td>0.941583</td>\n",
       "      <td>...</td>\n",
       "      <td>NaN</td>\n",
       "      <td>NaN</td>\n",
       "      <td>NaN</td>\n",
       "      <td>NaN</td>\n",
       "      <td>NaN</td>\n",
       "      <td>NaN</td>\n",
       "      <td>NaN</td>\n",
       "      <td>NaN</td>\n",
       "      <td>NaN</td>\n",
       "      <td>NaN</td>\n",
       "    </tr>\n",
       "    <tr>\n",
       "      <th>0</th>\n",
       "      <td>9</td>\n",
       "      <td>0a2c19c1f4df54a19bbf9ad99d314fc9</td>\n",
       "      <td>{\"cutoff\": \"quantile_0.1\", \"eval_fairness_grou...</td>\n",
       "      <td>60.20322</td>\n",
       "      <td>89710</td>\n",
       "      <td>1.0</td>\n",
       "      <td>0.055300</td>\n",
       "      <td>0.940782</td>\n",
       "      <td>0.054998</td>\n",
       "      <td>0.941583</td>\n",
       "      <td>...</td>\n",
       "      <td>0.123188</td>\n",
       "      <td>0.139156</td>\n",
       "      <td>0.878549</td>\n",
       "      <td>0.933850</td>\n",
       "      <td>0.052787</td>\n",
       "      <td>0.008534</td>\n",
       "      <td>0.886465</td>\n",
       "      <td>0.941463</td>\n",
       "      <td>20540.0</td>\n",
       "      <td>69170.0</td>\n",
       "    </tr>\n",
       "    <tr>\n",
       "      <th>0</th>\n",
       "      <td>9</td>\n",
       "      <td>0a2c19c1f4df54a19bbf9ad99d314fc9</td>\n",
       "      <td>{\"cutoff\": \"quantile_0.25\", \"eval_fairness_gro...</td>\n",
       "      <td>60.20322</td>\n",
       "      <td>89710</td>\n",
       "      <td>1.0</td>\n",
       "      <td>0.091696</td>\n",
       "      <td>0.904729</td>\n",
       "      <td>0.066284</td>\n",
       "      <td>0.916808</td>\n",
       "      <td>...</td>\n",
       "      <td>NaN</td>\n",
       "      <td>NaN</td>\n",
       "      <td>NaN</td>\n",
       "      <td>NaN</td>\n",
       "      <td>NaN</td>\n",
       "      <td>NaN</td>\n",
       "      <td>NaN</td>\n",
       "      <td>NaN</td>\n",
       "      <td>NaN</td>\n",
       "      <td>NaN</td>\n",
       "    </tr>\n",
       "    <tr>\n",
       "      <th>0</th>\n",
       "      <td>9</td>\n",
       "      <td>0a2c19c1f4df54a19bbf9ad99d314fc9</td>\n",
       "      <td>{\"cutoff\": \"quantile_0.25\", \"eval_fairness_gro...</td>\n",
       "      <td>60.20322</td>\n",
       "      <td>89710</td>\n",
       "      <td>1.0</td>\n",
       "      <td>0.091696</td>\n",
       "      <td>0.904729</td>\n",
       "      <td>0.066284</td>\n",
       "      <td>0.916808</td>\n",
       "      <td>...</td>\n",
       "      <td>0.137430</td>\n",
       "      <td>0.159620</td>\n",
       "      <td>0.712195</td>\n",
       "      <td>0.771531</td>\n",
       "      <td>0.129223</td>\n",
       "      <td>0.037527</td>\n",
       "      <td>0.730477</td>\n",
       "      <td>0.796762</td>\n",
       "      <td>20540.0</td>\n",
       "      <td>69170.0</td>\n",
       "    </tr>\n",
       "  </tbody>\n",
       "</table>\n",
       "<p>4 rows × 50 columns</p>\n",
       "</div>"
      ],
      "text/plain": [
       "  run_no                       universe_id  \\\n",
       "0      9  0a2c19c1f4df54a19bbf9ad99d314fc9   \n",
       "0      9  0a2c19c1f4df54a19bbf9ad99d314fc9   \n",
       "0      9  0a2c19c1f4df54a19bbf9ad99d314fc9   \n",
       "0      9  0a2c19c1f4df54a19bbf9ad99d314fc9   \n",
       "\n",
       "                                   universe_settings  execution_time  \\\n",
       "0  {\"cutoff\": \"quantile_0.1\", \"eval_fairness_grou...        60.20322   \n",
       "0  {\"cutoff\": \"quantile_0.1\", \"eval_fairness_grou...        60.20322   \n",
       "0  {\"cutoff\": \"quantile_0.25\", \"eval_fairness_gro...        60.20322   \n",
       "0  {\"cutoff\": \"quantile_0.25\", \"eval_fairness_gro...        60.20322   \n",
       "\n",
       "   test_size_n  test_size_frac  fair_main_equalized_odds_difference  \\\n",
       "0        89710             1.0                             0.055300   \n",
       "0        89710             1.0                             0.055300   \n",
       "0        89710             1.0                             0.091696   \n",
       "0        89710             1.0                             0.091696   \n",
       "\n",
       "   fair_main_equalized_odds_ratio  fair_main_demographic_parity_difference  \\\n",
       "0                        0.940782                                 0.054998   \n",
       "0                        0.940782                                 0.054998   \n",
       "0                        0.904729                                 0.066284   \n",
       "0                        0.904729                                 0.066284   \n",
       "\n",
       "   fair_main_demographic_parity_ratio  ...  perf_grp_precision_0  \\\n",
       "0                            0.941583  ...                   NaN   \n",
       "0                            0.941583  ...              0.123188   \n",
       "0                            0.916808  ...                   NaN   \n",
       "0                            0.916808  ...              0.137430   \n",
       "\n",
       "   perf_grp_precision_1  perf_grp_false positive rate_0  \\\n",
       "0                   NaN                             NaN   \n",
       "0              0.139156                        0.878549   \n",
       "0                   NaN                             NaN   \n",
       "0              0.159620                        0.712195   \n",
       "\n",
       "   perf_grp_false positive rate_1  perf_grp_false negative rate_0  \\\n",
       "0                             NaN                             NaN   \n",
       "0                        0.933850                        0.052787   \n",
       "0                             NaN                             NaN   \n",
       "0                        0.771531                        0.129223   \n",
       "\n",
       "   perf_grp_false negative rate_1  perf_grp_selection rate_0  \\\n",
       "0                             NaN                        NaN   \n",
       "0                        0.008534                   0.886465   \n",
       "0                             NaN                        NaN   \n",
       "0                        0.037527                   0.730477   \n",
       "\n",
       "   perf_grp_selection rate_1  perf_grp_count_0  perf_grp_count_1  \n",
       "0                        NaN               NaN               NaN  \n",
       "0                   0.941463           20540.0           69170.0  \n",
       "0                        NaN               NaN               NaN  \n",
       "0                   0.796762           20540.0           69170.0  \n",
       "\n",
       "[4 rows x 50 columns]"
      ]
     },
     "execution_count": 61,
     "metadata": {},
     "output_type": "execute_result"
    }
   ],
   "source": [
    "final_output = universe_analysis.generate_final_output(\n",
    "    y_pred_prob=probs_test,\n",
    "    y_test=y_true,\n",
    "    org_test=org_test,\n",
    "    filter_data=filter_sub_universe_data,\n",
    "    cp_metrics_df=cp_metrics_df,\n",
    "    save=True,\n",
    ")\n",
    "final_output"
   ]
  },
  {
   "cell_type": "code",
   "execution_count": null,
   "id": "721ff514-cb11-46f8-b6fc-50392f74b5cb",
   "metadata": {
    "papermill": {
     "duration": 0.025091,
     "end_time": "2025-07-23T14:29:23.101832",
     "exception": false,
     "start_time": "2025-07-23T14:29:23.076741",
     "status": "completed"
    },
    "tags": []
   },
   "outputs": [],
   "source": []
  }
 ],
 "metadata": {
  "celltoolbar": "Tags",
  "kernelspec": {
   "display_name": "Python (CMA Fairness)",
   "language": "python",
   "name": "cma_fair_env"
  },
  "language_info": {
   "codemirror_mode": {
    "name": "ipython",
    "version": 3
   },
   "file_extension": ".py",
   "mimetype": "text/x-python",
   "name": "python",
   "nbconvert_exporter": "python",
   "pygments_lexer": "ipython3",
   "version": "3.10.12"
  },
  "papermill": {
   "default_parameters": {},
   "duration": 81.989698,
   "end_time": "2025-07-23T14:29:23.847468",
   "environment_variables": {},
   "exception": null,
   "input_path": "universe_analysis.ipynb",
   "output_path": "output/runs/9/notebooks/m_9-0a2c19c1f4df54a19bbf9ad99d314fc9.ipynb",
   "parameters": {
    "output_dir": "output",
    "run_no": "9",
    "seed": "2023",
    "universe": "{\"cutoff\": [\"quantile_0.1\", \"quantile_0.25\"], \"eval_fairness_grouping\": [\"majority-minority\", \"nationality-all\"], \"exclude_features\": \"none\", \"exclude_subgroups\": \"drop-non-german\", \"model\": \"rf\", \"scale\": \"scale\"}",
    "universe_id": "0a2c19c1f4df54a19bbf9ad99d314fc9"
   },
   "start_time": "2025-07-23T14:28:01.857770",
   "version": "2.6.0"
  }
 },
 "nbformat": 4,
 "nbformat_minor": 5
}