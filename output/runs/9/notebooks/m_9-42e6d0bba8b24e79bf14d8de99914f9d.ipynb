{
 "cells": [
  {
   "cell_type": "code",
   "execution_count": 1,
   "id": "f159f837-637b-42ba-96b5-ec9a68c44524",
   "metadata": {
    "execution": {
     "iopub.execute_input": "2025-07-23T14:35:27.937457Z",
     "iopub.status.busy": "2025-07-23T14:35:27.936915Z",
     "iopub.status.idle": "2025-07-23T14:35:27.954198Z",
     "shell.execute_reply": "2025-07-23T14:35:27.953015Z"
    },
    "papermill": {
     "duration": 0.041596,
     "end_time": "2025-07-23T14:35:27.957383",
     "exception": false,
     "start_time": "2025-07-23T14:35:27.915787",
     "status": "completed"
    },
    "tags": []
   },
   "outputs": [
    {
     "name": "stdout",
     "output_type": "stream",
     "text": [
      "/dss/dsshome1/0C/ra93lal2/cma/CMA_Fairness_v2\n"
     ]
    },
    {
     "name": "stderr",
     "output_type": "stream",
     "text": [
      "/dss/dsshome1/0C/ra93lal2/.local/share/virtualenvs/CMA_Fairness_v2-3j10GkSs/lib/python3.10/site-packages/IPython/core/magics/osm.py:393: UserWarning: This is now an optional IPython functionality, using bookmarks requires you to install the `pickleshare` library.\n",
      "  bkms = self.shell.db.get('bookmarks', {})\n",
      "/dss/dsshome1/0C/ra93lal2/.local/share/virtualenvs/CMA_Fairness_v2-3j10GkSs/lib/python3.10/site-packages/IPython/core/magics/osm.py:417: UserWarning: This is now an optional IPython functionality, setting dhist requires you to install the `pickleshare` library.\n",
      "  self.shell.db['dhist'] = compress_dhist(dhist)[-100:]\n"
     ]
    }
   ],
   "source": [
    "%cd ~/cma/CMA_Fairness_v2"
   ]
  },
  {
   "cell_type": "markdown",
   "id": "de2603b9",
   "metadata": {
    "papermill": {
     "duration": 0.022365,
     "end_time": "2025-07-23T14:35:28.001380",
     "exception": false,
     "start_time": "2025-07-23T14:35:27.979015",
     "status": "completed"
    },
    "tags": []
   },
   "source": [
    "The following cell holds the definition of our parameters, these values can be overriden by rendering the with e.g. the following command:\n",
    "\n",
    "papermill -p alpha 0.2 -p ratio 0.3 universe_analysis.ipynb output/test_run.ipynb"
   ]
  },
  {
   "cell_type": "code",
   "execution_count": 2,
   "id": "a80968a0-40bb-4fa9-85ef-2d5eefb01975",
   "metadata": {
    "execution": {
     "iopub.execute_input": "2025-07-23T14:35:28.046358Z",
     "iopub.status.busy": "2025-07-23T14:35:28.045246Z",
     "iopub.status.idle": "2025-07-23T14:35:28.052819Z",
     "shell.execute_reply": "2025-07-23T14:35:28.051427Z"
    },
    "papermill": {
     "duration": 0.032567,
     "end_time": "2025-07-23T14:35:28.055218",
     "exception": false,
     "start_time": "2025-07-23T14:35:28.022651",
     "status": "completed"
    },
    "tags": []
   },
   "outputs": [
    {
     "name": "stdout",
     "output_type": "stream",
     "text": [
      "Current working directory: /dss/dsshome1/0C/ra93lal2/cma/CMA_Fairness_v2\n"
     ]
    }
   ],
   "source": [
    "import os\n",
    "print(\"Current working directory:\", os.getcwd())"
   ]
  },
  {
   "cell_type": "code",
   "execution_count": 3,
   "id": "2dce4c03",
   "metadata": {
    "execution": {
     "iopub.execute_input": "2025-07-23T14:35:28.100431Z",
     "iopub.status.busy": "2025-07-23T14:35:28.099323Z",
     "iopub.status.idle": "2025-07-23T14:35:28.107679Z",
     "shell.execute_reply": "2025-07-23T14:35:28.106369Z"
    },
    "papermill": {
     "duration": 0.033847,
     "end_time": "2025-07-23T14:35:28.109967",
     "exception": false,
     "start_time": "2025-07-23T14:35:28.076120",
     "status": "completed"
    },
    "tags": [
     "parameters"
    ]
   },
   "outputs": [],
   "source": [
    "run_no = 0\n",
    "universe_id = \"test\"\n",
    "universe = {\n",
    "    \"scale\": \"scale\", # \"scale\", \"do-not-scale\",\n",
    "    \"model\": \"elasticnet\", # \"logreg\", \"penalized_logreg\", \"rf\", \"gbm\", \"elasticnet\"\n",
    "    \"cutoff\": [\"quantile_0.15\", \"quantile_0.30\"],\n",
    "    \"exclude_features\": \"age\", # \"none\", \"nationality\", \"sex\", \"nationality-sex\", \"age\"\n",
    "    \"exclude_subgroups\": \"keep-all\", # \"keep-all\", \"drop-non-german\"\n",
    "    #\"training_sample\": \"restricted\", # \"restricted\", \"full\"\n",
    "    \"eval_fairness_grouping\": [\"majority-minority\", \"nationality-all\"]\n",
    "}\n",
    "\n",
    "output_dir=\"./output\"\n",
    "seed=0"
   ]
  },
  {
   "cell_type": "code",
   "execution_count": 4,
   "id": "5b6ee584",
   "metadata": {
    "execution": {
     "iopub.execute_input": "2025-07-23T14:35:28.155611Z",
     "iopub.status.busy": "2025-07-23T14:35:28.154817Z",
     "iopub.status.idle": "2025-07-23T14:35:28.161833Z",
     "shell.execute_reply": "2025-07-23T14:35:28.160498Z"
    },
    "papermill": {
     "duration": 0.032406,
     "end_time": "2025-07-23T14:35:28.164095",
     "exception": false,
     "start_time": "2025-07-23T14:35:28.131689",
     "status": "completed"
    },
    "tags": [
     "injected-parameters"
    ]
   },
   "outputs": [],
   "source": [
    "# Parameters\n",
    "universe_id = \"42e6d0bba8b24e79bf14d8de99914f9d\"\n",
    "run_no = \"9\"\n",
    "universe = \"{\\\"cutoff\\\": [\\\"quantile_0.1\\\", \\\"quantile_0.25\\\"], \\\"eval_fairness_grouping\\\": [\\\"majority-minority\\\", \\\"nationality-all\\\"], \\\"exclude_features\\\": \\\"sex\\\", \\\"exclude_subgroups\\\": \\\"keep-all\\\", \\\"model\\\": \\\"penalized_logreg\\\", \\\"scale\\\": \\\"do-not-scale\\\"}\"\n",
    "output_dir = \"output\"\n",
    "seed = \"2023\"\n"
   ]
  },
  {
   "cell_type": "code",
   "execution_count": 5,
   "id": "1650acaf",
   "metadata": {
    "execution": {
     "iopub.execute_input": "2025-07-23T14:35:28.206564Z",
     "iopub.status.busy": "2025-07-23T14:35:28.205627Z",
     "iopub.status.idle": "2025-07-23T14:35:28.211426Z",
     "shell.execute_reply": "2025-07-23T14:35:28.210355Z"
    },
    "papermill": {
     "duration": 0.032204,
     "end_time": "2025-07-23T14:35:28.218022",
     "exception": false,
     "start_time": "2025-07-23T14:35:28.185818",
     "status": "completed"
    },
    "tags": []
   },
   "outputs": [],
   "source": [
    "import json\n",
    "# Parse universe into dict if it is passed as a string\n",
    "if isinstance(universe, str):\n",
    "    universe = json.loads(universe)"
   ]
  },
  {
   "cell_type": "code",
   "execution_count": 6,
   "id": "16620c48",
   "metadata": {
    "execution": {
     "iopub.execute_input": "2025-07-23T14:35:28.256595Z",
     "iopub.status.busy": "2025-07-23T14:35:28.256121Z",
     "iopub.status.idle": "2025-07-23T14:35:28.305792Z",
     "shell.execute_reply": "2025-07-23T14:35:28.304676Z"
    },
    "papermill": {
     "duration": 0.072068,
     "end_time": "2025-07-23T14:35:28.307508",
     "exception": false,
     "start_time": "2025-07-23T14:35:28.235440",
     "status": "completed"
    },
    "tags": []
   },
   "outputs": [],
   "source": [
    "# Auto-reload the custom package\n",
    "%load_ext autoreload\n",
    "%autoreload 1\n",
    "%aimport fairness_multiverse"
   ]
  },
  {
   "cell_type": "code",
   "execution_count": 7,
   "id": "01c5c9f3",
   "metadata": {
    "execution": {
     "iopub.execute_input": "2025-07-23T14:35:28.333679Z",
     "iopub.status.busy": "2025-07-23T14:35:28.333261Z",
     "iopub.status.idle": "2025-07-23T14:35:30.219768Z",
     "shell.execute_reply": "2025-07-23T14:35:30.218961Z"
    },
    "papermill": {
     "duration": 1.899647,
     "end_time": "2025-07-23T14:35:30.221362",
     "exception": false,
     "start_time": "2025-07-23T14:35:28.321715",
     "status": "completed"
    },
    "tags": []
   },
   "outputs": [],
   "source": [
    "from fairness_multiverse.universe import UniverseAnalysis\n",
    "\n",
    "universe_analysis = UniverseAnalysis(\n",
    "    run_no = run_no,\n",
    "    universe_id = universe_id,\n",
    "    universe = universe,\n",
    "    output_dir=output_dir,\n",
    ")"
   ]
  },
  {
   "cell_type": "code",
   "execution_count": 8,
   "id": "106241f5",
   "metadata": {
    "execution": {
     "iopub.execute_input": "2025-07-23T14:35:30.242525Z",
     "iopub.status.busy": "2025-07-23T14:35:30.241849Z",
     "iopub.status.idle": "2025-07-23T14:35:30.247925Z",
     "shell.execute_reply": "2025-07-23T14:35:30.246944Z"
    },
    "papermill": {
     "duration": 0.018515,
     "end_time": "2025-07-23T14:35:30.249743",
     "exception": false,
     "start_time": "2025-07-23T14:35:30.231228",
     "status": "completed"
    },
    "tags": []
   },
   "outputs": [
    {
     "name": "stdout",
     "output_type": "stream",
     "text": [
      "Using Seed: 2023\n"
     ]
    }
   ],
   "source": [
    "import numpy as np\n",
    "parsed_seed = int(seed)\n",
    "np.random.seed(parsed_seed)\n",
    "print(f\"Using Seed: {parsed_seed}\")"
   ]
  },
  {
   "cell_type": "markdown",
   "id": "e0ebdc57",
   "metadata": {
    "papermill": {
     "duration": 0.010351,
     "end_time": "2025-07-23T14:35:30.270389",
     "exception": false,
     "start_time": "2025-07-23T14:35:30.260038",
     "status": "completed"
    },
    "tags": []
   },
   "source": [
    "# Loading Data"
   ]
  },
  {
   "cell_type": "markdown",
   "id": "681925a3",
   "metadata": {
    "papermill": {
     "duration": 0.009263,
     "end_time": "2025-07-23T14:35:30.288814",
     "exception": false,
     "start_time": "2025-07-23T14:35:30.279551",
     "status": "completed"
    },
    "tags": []
   },
   "source": [
    "Load siab_train, siab_test, siab_calib and/or \n",
    "load siab_train_features, siab_train_labels"
   ]
  },
  {
   "cell_type": "code",
   "execution_count": 9,
   "id": "f0496b8a",
   "metadata": {
    "execution": {
     "iopub.execute_input": "2025-07-23T14:35:30.309088Z",
     "iopub.status.busy": "2025-07-23T14:35:30.308525Z",
     "iopub.status.idle": "2025-07-23T14:35:30.313794Z",
     "shell.execute_reply": "2025-07-23T14:35:30.313012Z"
    },
    "papermill": {
     "duration": 0.017072,
     "end_time": "2025-07-23T14:35:30.315284",
     "exception": false,
     "start_time": "2025-07-23T14:35:30.298212",
     "status": "completed"
    },
    "tags": []
   },
   "outputs": [],
   "source": [
    "# Do I need to load siab? Delete this cell?\n",
    "\n",
    "#from pathlib import Path\n",
    "#import pandas as pd\n",
    "#\n",
    "## File paths\n",
    "#raw_file = Path(\"data/raw/siab.csv\")\n",
    "#cache_file = Path(\"data/siab_cached.csv.gz\")\n",
    "#\n",
    "## Ensure cache directory exists\n",
    "#cache_file.parent.mkdir(parents=True, exist_ok=True)\n",
    "#\n",
    "## Load with simple caching\n",
    "#if cache_file.exists():\n",
    "#    print(f\"Loading SIAB data from cache: {cache_file}\")\n",
    "#    siab = pd.read_csv(cache_file, compression='gzip')\n",
    "#else:\n",
    "#    print(f\"Cache not found. Reading raw SIAB data: {raw_file}\")\n",
    "#    siab = pd.read_csv(raw_file)\n",
    "#    siab.to_csv(cache_file, index=False, compression='gzip')\n",
    "#    print(f\"Cached SIAB data to: {cache_file}\")\n",
    "#\n",
    "## Now use `siab` DataFrame as needed\n",
    "#print(siab.shape)\n"
   ]
  },
  {
   "cell_type": "code",
   "execution_count": 10,
   "id": "a0edb063",
   "metadata": {
    "execution": {
     "iopub.execute_input": "2025-07-23T14:35:30.336287Z",
     "iopub.status.busy": "2025-07-23T14:35:30.335909Z",
     "iopub.status.idle": "2025-07-23T14:35:31.421827Z",
     "shell.execute_reply": "2025-07-23T14:35:31.420619Z"
    },
    "papermill": {
     "duration": 1.098204,
     "end_time": "2025-07-23T14:35:31.423730",
     "exception": false,
     "start_time": "2025-07-23T14:35:30.325526",
     "status": "completed"
    },
    "tags": []
   },
   "outputs": [],
   "source": [
    "import pandas as pd\n",
    "\n",
    "X_train = pd.read_csv(\"./data/X_train.csv\")\n",
    "y_train = pd.read_csv(\"./data/y_train.csv\")"
   ]
  },
  {
   "cell_type": "code",
   "execution_count": 11,
   "id": "63d08085",
   "metadata": {
    "execution": {
     "iopub.execute_input": "2025-07-23T14:35:31.460397Z",
     "iopub.status.busy": "2025-07-23T14:35:31.459850Z",
     "iopub.status.idle": "2025-07-23T14:35:32.829295Z",
     "shell.execute_reply": "2025-07-23T14:35:32.828241Z"
    },
    "papermill": {
     "duration": 1.39002,
     "end_time": "2025-07-23T14:35:32.831367",
     "exception": false,
     "start_time": "2025-07-23T14:35:31.441347",
     "status": "completed"
    },
    "tags": []
   },
   "outputs": [],
   "source": [
    "X_test = pd.read_csv(\"./data/X_test.csv\")\n",
    "y_true = pd.read_csv(\"./data/y_test.csv\")"
   ]
  },
  {
   "cell_type": "code",
   "execution_count": 12,
   "id": "98a8d0fa-1d3d-4ed8-bb2c-281470e24add",
   "metadata": {
    "execution": {
     "iopub.execute_input": "2025-07-23T14:35:32.861060Z",
     "iopub.status.busy": "2025-07-23T14:35:32.860694Z",
     "iopub.status.idle": "2025-07-23T14:35:34.364752Z",
     "shell.execute_reply": "2025-07-23T14:35:34.363550Z"
    },
    "papermill": {
     "duration": 1.516501,
     "end_time": "2025-07-23T14:35:34.366844",
     "exception": false,
     "start_time": "2025-07-23T14:35:32.850343",
     "status": "completed"
    },
    "tags": []
   },
   "outputs": [],
   "source": [
    "# Calibration data for conformal\n",
    "X_calib = pd.read_csv(\"./data/X_calib.csv\")\n",
    "y_calib = pd.read_csv(\"./data/y_calib.csv\")"
   ]
  },
  {
   "cell_type": "code",
   "execution_count": 13,
   "id": "e6c733c5",
   "metadata": {
    "execution": {
     "iopub.execute_input": "2025-07-23T14:35:34.405370Z",
     "iopub.status.busy": "2025-07-23T14:35:34.404812Z",
     "iopub.status.idle": "2025-07-23T14:35:34.518310Z",
     "shell.execute_reply": "2025-07-23T14:35:34.517244Z"
    },
    "papermill": {
     "duration": 0.13465,
     "end_time": "2025-07-23T14:35:34.519902",
     "exception": false,
     "start_time": "2025-07-23T14:35:34.385252",
     "status": "completed"
    },
    "tags": []
   },
   "outputs": [],
   "source": [
    "# Auxiliary data needed downstream in the pipeline\n",
    "\n",
    "org_train = X_train.copy()\n",
    "org_test = X_test.copy()\n",
    "org_calib = X_calib.copy()"
   ]
  },
  {
   "cell_type": "markdown",
   "id": "0a4a1b33",
   "metadata": {
    "papermill": {
     "duration": 0.019101,
     "end_time": "2025-07-23T14:35:34.558458",
     "exception": false,
     "start_time": "2025-07-23T14:35:34.539357",
     "status": "completed"
    },
    "tags": []
   },
   "source": [
    "# Preprocessing Data"
   ]
  },
  {
   "cell_type": "code",
   "execution_count": 14,
   "id": "ca879031",
   "metadata": {
    "execution": {
     "iopub.execute_input": "2025-07-23T14:35:34.598634Z",
     "iopub.status.busy": "2025-07-23T14:35:34.597905Z",
     "iopub.status.idle": "2025-07-23T14:35:34.605241Z",
     "shell.execute_reply": "2025-07-23T14:35:34.604126Z"
    },
    "papermill": {
     "duration": 0.028429,
     "end_time": "2025-07-23T14:35:34.607111",
     "exception": false,
     "start_time": "2025-07-23T14:35:34.578682",
     "status": "completed"
    },
    "tags": []
   },
   "outputs": [],
   "source": [
    "# EXCLUDE PROTECTED FEATURES\n",
    "# ----------------------\n",
    "# \"exclude_features\": \"none\", # \"nationality\", \"sex\", \"nationality-sex\"\n",
    "\n",
    "excluded_features = universe[\"exclude_features\"].split(\"-\") # split, e.g.: \"nationality-sex\" -> [\"nationality\", \"sex\"]\n",
    "excluded_features_dictionary = {\n",
    "    \"nationality\": [\"maxdeutsch1\", \"maxdeutsch.Missing.\"],\n",
    "    \"sex\": [\"frau1\"],\n",
    "    \"age\": [\"age\"],\n",
    "}\n"
   ]
  },
  {
   "cell_type": "code",
   "execution_count": 15,
   "id": "b745ac60",
   "metadata": {
    "execution": {
     "iopub.execute_input": "2025-07-23T14:35:34.645738Z",
     "iopub.status.busy": "2025-07-23T14:35:34.645325Z",
     "iopub.status.idle": "2025-07-23T14:35:34.651334Z",
     "shell.execute_reply": "2025-07-23T14:35:34.650279Z"
    },
    "papermill": {
     "duration": 0.027293,
     "end_time": "2025-07-23T14:35:34.653094",
     "exception": false,
     "start_time": "2025-07-23T14:35:34.625801",
     "status": "completed"
    },
    "tags": []
   },
   "outputs": [],
   "source": [
    "# Code nice names to column names\n",
    "\n",
    "excluded_features_columns = [\n",
    "    excluded_features_dictionary[f] for f in excluded_features if len(f) > 0 and f != \"none\"\n",
    "]"
   ]
  },
  {
   "cell_type": "code",
   "execution_count": 16,
   "id": "f84f73a2",
   "metadata": {
    "execution": {
     "iopub.execute_input": "2025-07-23T14:35:34.692598Z",
     "iopub.status.busy": "2025-07-23T14:35:34.692095Z",
     "iopub.status.idle": "2025-07-23T14:35:34.698457Z",
     "shell.execute_reply": "2025-07-23T14:35:34.697529Z"
    },
    "papermill": {
     "duration": 0.027889,
     "end_time": "2025-07-23T14:35:34.700335",
     "exception": false,
     "start_time": "2025-07-23T14:35:34.672446",
     "status": "completed"
    },
    "tags": []
   },
   "outputs": [],
   "source": [
    "from utils import flatten_once\n",
    "\n",
    "excluded_features_columns = flatten_once(excluded_features_columns)"
   ]
  },
  {
   "cell_type": "code",
   "execution_count": 17,
   "id": "884dea22",
   "metadata": {
    "execution": {
     "iopub.execute_input": "2025-07-23T14:35:34.741471Z",
     "iopub.status.busy": "2025-07-23T14:35:34.740505Z",
     "iopub.status.idle": "2025-07-23T14:35:34.790013Z",
     "shell.execute_reply": "2025-07-23T14:35:34.788874Z"
    },
    "papermill": {
     "duration": 0.070728,
     "end_time": "2025-07-23T14:35:34.791795",
     "exception": false,
     "start_time": "2025-07-23T14:35:34.721067",
     "status": "completed"
    },
    "tags": []
   },
   "outputs": [
    {
     "name": "stdout",
     "output_type": "stream",
     "text": [
      "Dropping features: ['frau1']\n"
     ]
    }
   ],
   "source": [
    "if len(excluded_features_columns) > 0:\n",
    "    print(f\"Dropping features: {excluded_features_columns}\")\n",
    "    X_train.drop(excluded_features_columns, axis=1, inplace=True)"
   ]
  },
  {
   "cell_type": "code",
   "execution_count": 18,
   "id": "95ab8b16",
   "metadata": {
    "execution": {
     "iopub.execute_input": "2025-07-23T14:35:34.830635Z",
     "iopub.status.busy": "2025-07-23T14:35:34.830098Z",
     "iopub.status.idle": "2025-07-23T14:35:34.888755Z",
     "shell.execute_reply": "2025-07-23T14:35:34.887548Z"
    },
    "papermill": {
     "duration": 0.079533,
     "end_time": "2025-07-23T14:35:34.890747",
     "exception": false,
     "start_time": "2025-07-23T14:35:34.811214",
     "status": "completed"
    },
    "tags": []
   },
   "outputs": [
    {
     "name": "stdout",
     "output_type": "stream",
     "text": [
      "Dropping features: ['frau1']\n"
     ]
    }
   ],
   "source": [
    "if len(excluded_features_columns) > 0:\n",
    "    print(f\"Dropping features: {excluded_features_columns}\")\n",
    "    X_test.drop(excluded_features_columns, axis=1, inplace=True)"
   ]
  },
  {
   "cell_type": "code",
   "execution_count": 19,
   "id": "1853aaf5-fb9f-46cb-a2b5-8ea4ae2237e4",
   "metadata": {
    "execution": {
     "iopub.execute_input": "2025-07-23T14:35:34.930308Z",
     "iopub.status.busy": "2025-07-23T14:35:34.929779Z",
     "iopub.status.idle": "2025-07-23T14:35:34.988457Z",
     "shell.execute_reply": "2025-07-23T14:35:34.987102Z"
    },
    "papermill": {
     "duration": 0.080196,
     "end_time": "2025-07-23T14:35:34.990304",
     "exception": false,
     "start_time": "2025-07-23T14:35:34.910108",
     "status": "completed"
    },
    "tags": []
   },
   "outputs": [
    {
     "name": "stdout",
     "output_type": "stream",
     "text": [
      "Dropping features: ['frau1']\n"
     ]
    }
   ],
   "source": [
    "if len(excluded_features_columns) > 0:\n",
    "    print(f\"Dropping features: {excluded_features_columns}\")\n",
    "    X_calib.drop(excluded_features_columns, axis=1, inplace=True)"
   ]
  },
  {
   "cell_type": "code",
   "execution_count": 20,
   "id": "76c4dc6d",
   "metadata": {
    "execution": {
     "iopub.execute_input": "2025-07-23T14:35:35.030054Z",
     "iopub.status.busy": "2025-07-23T14:35:35.029135Z",
     "iopub.status.idle": "2025-07-23T14:35:35.035544Z",
     "shell.execute_reply": "2025-07-23T14:35:35.034699Z"
    },
    "papermill": {
     "duration": 0.027716,
     "end_time": "2025-07-23T14:35:35.037529",
     "exception": false,
     "start_time": "2025-07-23T14:35:35.009813",
     "status": "completed"
    },
    "tags": []
   },
   "outputs": [],
   "source": [
    "# EXCLUDE CERTAIN SUBGROUPS\n",
    "# ----------------------\n",
    "\n",
    "mode = universe.get(\"exclude_subgroups\", \"keep-all\") \n",
    "# Fetches the exclude_subgroups setting from the universe dict.\n",
    "# Defaults to \"keep-all\" if the key is missing."
   ]
  },
  {
   "cell_type": "code",
   "execution_count": 21,
   "id": "21994072",
   "metadata": {
    "execution": {
     "iopub.execute_input": "2025-07-23T14:35:35.060007Z",
     "iopub.status.busy": "2025-07-23T14:35:35.059206Z",
     "iopub.status.idle": "2025-07-23T14:35:35.066392Z",
     "shell.execute_reply": "2025-07-23T14:35:35.065461Z"
    },
    "papermill": {
     "duration": 0.022207,
     "end_time": "2025-07-23T14:35:35.070444",
     "exception": false,
     "start_time": "2025-07-23T14:35:35.048237",
     "status": "completed"
    },
    "tags": []
   },
   "outputs": [],
   "source": [
    "if mode == \"keep-all\":\n",
    "    keep_mask = pd.Series(True, index=org_train.index)\n",
    "\n",
    "# org_train contains the original feature columns from features_org (in Simson)\n",
    "# features_org contains unprocessed features, for me X_train at beginning ???\n",
    "# For keep-all, creates a boolean Series (keep_mask) of all True, so no rows are removed.\n",
    "\n",
    "elif mode == \"drop-non-german\":\n",
    "    keep_mask = org_train[\"maxdeutsch1\"] == 1 # ??? what about missing values?\n",
    "\n",
    "else:\n",
    "    raise ValueError(f\"Unsupported mode for exclude_subgroups: {mode}\")\n"
   ]
  },
  {
   "cell_type": "code",
   "execution_count": 22,
   "id": "71651440",
   "metadata": {
    "execution": {
     "iopub.execute_input": "2025-07-23T14:35:35.095627Z",
     "iopub.status.busy": "2025-07-23T14:35:35.095225Z",
     "iopub.status.idle": "2025-07-23T14:35:35.101712Z",
     "shell.execute_reply": "2025-07-23T14:35:35.100882Z"
    },
    "papermill": {
     "duration": 0.018728,
     "end_time": "2025-07-23T14:35:35.103199",
     "exception": false,
     "start_time": "2025-07-23T14:35:35.084471",
     "status": "completed"
    },
    "tags": []
   },
   "outputs": [],
   "source": [
    "n_drop = (~keep_mask).sum() # Calculates how many rows are set to be dropped\n",
    "if n_drop > 0:\n",
    "    pct = n_drop / len(keep_mask) * 100\n",
    "    print(f\"Dropping {n_drop} rows ({pct:.2f}%) where mode='{mode}'\")"
   ]
  },
  {
   "cell_type": "code",
   "execution_count": 23,
   "id": "5fb8eee5",
   "metadata": {
    "execution": {
     "iopub.execute_input": "2025-07-23T14:35:35.125163Z",
     "iopub.status.busy": "2025-07-23T14:35:35.124731Z",
     "iopub.status.idle": "2025-07-23T14:35:35.178399Z",
     "shell.execute_reply": "2025-07-23T14:35:35.177337Z"
    },
    "papermill": {
     "duration": 0.065944,
     "end_time": "2025-07-23T14:35:35.180106",
     "exception": false,
     "start_time": "2025-07-23T14:35:35.114162",
     "status": "completed"
    },
    "tags": []
   },
   "outputs": [],
   "source": [
    "X_train = X_train[keep_mask]"
   ]
  },
  {
   "cell_type": "code",
   "execution_count": 24,
   "id": "b202bb3a",
   "metadata": {
    "execution": {
     "iopub.execute_input": "2025-07-23T14:35:35.219883Z",
     "iopub.status.busy": "2025-07-23T14:35:35.219321Z",
     "iopub.status.idle": "2025-07-23T14:35:35.227942Z",
     "shell.execute_reply": "2025-07-23T14:35:35.226815Z"
    },
    "papermill": {
     "duration": 0.0312,
     "end_time": "2025-07-23T14:35:35.230035",
     "exception": false,
     "start_time": "2025-07-23T14:35:35.198835",
     "status": "completed"
    },
    "tags": []
   },
   "outputs": [],
   "source": [
    "y_train = y_train[keep_mask]"
   ]
  },
  {
   "cell_type": "markdown",
   "id": "493e2ac3",
   "metadata": {
    "papermill": {
     "duration": 0.019645,
     "end_time": "2025-07-23T14:35:35.269924",
     "exception": false,
     "start_time": "2025-07-23T14:35:35.250279",
     "status": "completed"
    },
    "tags": []
   },
   "source": [
    "# Model Training"
   ]
  },
  {
   "cell_type": "code",
   "execution_count": 25,
   "id": "679e1268",
   "metadata": {
    "execution": {
     "iopub.execute_input": "2025-07-23T14:35:35.308592Z",
     "iopub.status.busy": "2025-07-23T14:35:35.308034Z",
     "iopub.status.idle": "2025-07-23T14:35:35.419103Z",
     "shell.execute_reply": "2025-07-23T14:35:35.418140Z"
    },
    "papermill": {
     "duration": 0.133277,
     "end_time": "2025-07-23T14:35:35.421211",
     "exception": false,
     "start_time": "2025-07-23T14:35:35.287934",
     "status": "completed"
    },
    "tags": []
   },
   "outputs": [],
   "source": [
    "from sklearn.linear_model import LogisticRegression\n",
    "from sklearn.ensemble import GradientBoostingClassifier, RandomForestClassifier\n",
    "\n",
    "if (universe[\"model\"] == \"logreg\"):\n",
    "    model = LogisticRegression() #penalty=\"none\") #, solver=\"newton-cg\", max_iter=1) # include random_state=19 ?\n",
    "elif (universe[\"model\"] == \"penalized_logreg\"):\n",
    "    model = LogisticRegression(penalty=\"l2\", C=1.0) #, solver=\"newton-cg\", max_iter=1)\n",
    "elif (universe[\"model\"] == \"rf\"):\n",
    "    model = RandomForestClassifier(n_estimators=100, n_jobs=-1)\n",
    "elif (universe[\"model\"] == \"gbm\"):\n",
    "    model = GradientBoostingClassifier()\n",
    "elif (universe[\"model\"] == \"elasticnet\"):\n",
    "    model = LogisticRegression(penalty = 'elasticnet', solver = 'saga', l1_ratio = 0.5, max_iter=5000) # which solver to use?\n",
    "else:\n",
    "    raise \"Unsupported universe.model\""
   ]
  },
  {
   "cell_type": "code",
   "execution_count": 26,
   "id": "0cc8f744",
   "metadata": {
    "execution": {
     "iopub.execute_input": "2025-07-23T14:35:35.461086Z",
     "iopub.status.busy": "2025-07-23T14:35:35.460489Z",
     "iopub.status.idle": "2025-07-23T14:35:35.467719Z",
     "shell.execute_reply": "2025-07-23T14:35:35.466640Z"
    },
    "papermill": {
     "duration": 0.029104,
     "end_time": "2025-07-23T14:35:35.469471",
     "exception": false,
     "start_time": "2025-07-23T14:35:35.440367",
     "status": "completed"
    },
    "tags": []
   },
   "outputs": [],
   "source": [
    "import numpy as np\n",
    "from sklearn.pipeline import Pipeline\n",
    "from sklearn.preprocessing import StandardScaler\n",
    "\n",
    "model = Pipeline([\n",
    "    #(\"continuous_processor\", continuous_processor),\n",
    "    #(\"categorical_preprocessor\", categorical_preprocessor),\n",
    "    (\"scale\", StandardScaler() if universe[\"scale\"] == \"scale\" else None), \n",
    "    (\"model\", model),\n",
    "])"
   ]
  },
  {
   "cell_type": "code",
   "execution_count": 27,
   "id": "9442c04d",
   "metadata": {
    "execution": {
     "iopub.execute_input": "2025-07-23T14:35:35.511099Z",
     "iopub.status.busy": "2025-07-23T14:35:35.510201Z",
     "iopub.status.idle": "2025-07-23T14:35:39.062079Z",
     "shell.execute_reply": "2025-07-23T14:35:39.060682Z"
    },
    "papermill": {
     "duration": 3.573393,
     "end_time": "2025-07-23T14:35:39.064125",
     "exception": false,
     "start_time": "2025-07-23T14:35:35.490732",
     "status": "completed"
    },
    "tags": []
   },
   "outputs": [
    {
     "name": "stderr",
     "output_type": "stream",
     "text": [
      "/dss/dsshome1/0C/ra93lal2/.local/share/virtualenvs/CMA_Fairness_v2-3j10GkSs/lib/python3.10/site-packages/sklearn/linear_model/_logistic.py:444: ConvergenceWarning: lbfgs failed to converge (status=1):\n",
      "STOP: TOTAL NO. of ITERATIONS REACHED LIMIT.\n",
      "\n",
      "Increase the number of iterations (max_iter) or scale the data as shown in:\n",
      "    https://scikit-learn.org/stable/modules/preprocessing.html\n",
      "Please also refer to the documentation for alternative solver options:\n",
      "    https://scikit-learn.org/stable/modules/linear_model.html#logistic-regression\n",
      "  n_iter_i = _check_optimize_result(\n"
     ]
    },
    {
     "data": {
      "text/html": [
       "<style>#sk-container-id-1 {color: black;background-color: white;}#sk-container-id-1 pre{padding: 0;}#sk-container-id-1 div.sk-toggleable {background-color: white;}#sk-container-id-1 label.sk-toggleable__label {cursor: pointer;display: block;width: 100%;margin-bottom: 0;padding: 0.3em;box-sizing: border-box;text-align: center;}#sk-container-id-1 label.sk-toggleable__label-arrow:before {content: \"▸\";float: left;margin-right: 0.25em;color: #696969;}#sk-container-id-1 label.sk-toggleable__label-arrow:hover:before {color: black;}#sk-container-id-1 div.sk-estimator:hover label.sk-toggleable__label-arrow:before {color: black;}#sk-container-id-1 div.sk-toggleable__content {max-height: 0;max-width: 0;overflow: hidden;text-align: left;background-color: #f0f8ff;}#sk-container-id-1 div.sk-toggleable__content pre {margin: 0.2em;color: black;border-radius: 0.25em;background-color: #f0f8ff;}#sk-container-id-1 input.sk-toggleable__control:checked~div.sk-toggleable__content {max-height: 200px;max-width: 100%;overflow: auto;}#sk-container-id-1 input.sk-toggleable__control:checked~label.sk-toggleable__label-arrow:before {content: \"▾\";}#sk-container-id-1 div.sk-estimator input.sk-toggleable__control:checked~label.sk-toggleable__label {background-color: #d4ebff;}#sk-container-id-1 div.sk-label input.sk-toggleable__control:checked~label.sk-toggleable__label {background-color: #d4ebff;}#sk-container-id-1 input.sk-hidden--visually {border: 0;clip: rect(1px 1px 1px 1px);clip: rect(1px, 1px, 1px, 1px);height: 1px;margin: -1px;overflow: hidden;padding: 0;position: absolute;width: 1px;}#sk-container-id-1 div.sk-estimator {font-family: monospace;background-color: #f0f8ff;border: 1px dotted black;border-radius: 0.25em;box-sizing: border-box;margin-bottom: 0.5em;}#sk-container-id-1 div.sk-estimator:hover {background-color: #d4ebff;}#sk-container-id-1 div.sk-parallel-item::after {content: \"\";width: 100%;border-bottom: 1px solid gray;flex-grow: 1;}#sk-container-id-1 div.sk-label:hover label.sk-toggleable__label {background-color: #d4ebff;}#sk-container-id-1 div.sk-serial::before {content: \"\";position: absolute;border-left: 1px solid gray;box-sizing: border-box;top: 0;bottom: 0;left: 50%;z-index: 0;}#sk-container-id-1 div.sk-serial {display: flex;flex-direction: column;align-items: center;background-color: white;padding-right: 0.2em;padding-left: 0.2em;position: relative;}#sk-container-id-1 div.sk-item {position: relative;z-index: 1;}#sk-container-id-1 div.sk-parallel {display: flex;align-items: stretch;justify-content: center;background-color: white;position: relative;}#sk-container-id-1 div.sk-item::before, #sk-container-id-1 div.sk-parallel-item::before {content: \"\";position: absolute;border-left: 1px solid gray;box-sizing: border-box;top: 0;bottom: 0;left: 50%;z-index: -1;}#sk-container-id-1 div.sk-parallel-item {display: flex;flex-direction: column;z-index: 1;position: relative;background-color: white;}#sk-container-id-1 div.sk-parallel-item:first-child::after {align-self: flex-end;width: 50%;}#sk-container-id-1 div.sk-parallel-item:last-child::after {align-self: flex-start;width: 50%;}#sk-container-id-1 div.sk-parallel-item:only-child::after {width: 0;}#sk-container-id-1 div.sk-dashed-wrapped {border: 1px dashed gray;margin: 0 0.4em 0.5em 0.4em;box-sizing: border-box;padding-bottom: 0.4em;background-color: white;}#sk-container-id-1 div.sk-label label {font-family: monospace;font-weight: bold;display: inline-block;line-height: 1.2em;}#sk-container-id-1 div.sk-label-container {text-align: center;}#sk-container-id-1 div.sk-container {/* jupyter's `normalize.less` sets `[hidden] { display: none; }` but bootstrap.min.css set `[hidden] { display: none !important; }` so we also need the `!important` here to be able to override the default hidden behavior on the sphinx rendered scikit-learn.org. See: https://github.com/scikit-learn/scikit-learn/issues/21755 */display: inline-block !important;position: relative;}#sk-container-id-1 div.sk-text-repr-fallback {display: none;}</style><div id=\"sk-container-id-1\" class=\"sk-top-container\"><div class=\"sk-text-repr-fallback\"><pre>Pipeline(steps=[(&#x27;scale&#x27;, None), (&#x27;model&#x27;, LogisticRegression())])</pre><b>In a Jupyter environment, please rerun this cell to show the HTML representation or trust the notebook. <br />On GitHub, the HTML representation is unable to render, please try loading this page with nbviewer.org.</b></div><div class=\"sk-container\" hidden><div class=\"sk-item sk-dashed-wrapped\"><div class=\"sk-label-container\"><div class=\"sk-label sk-toggleable\"><input class=\"sk-toggleable__control sk-hidden--visually\" id=\"sk-estimator-id-1\" type=\"checkbox\" ><label for=\"sk-estimator-id-1\" class=\"sk-toggleable__label sk-toggleable__label-arrow\">Pipeline</label><div class=\"sk-toggleable__content\"><pre>Pipeline(steps=[(&#x27;scale&#x27;, None), (&#x27;model&#x27;, LogisticRegression())])</pre></div></div></div><div class=\"sk-serial\"><div class=\"sk-item\"><div class=\"sk-estimator sk-toggleable\"><input class=\"sk-toggleable__control sk-hidden--visually\" id=\"sk-estimator-id-2\" type=\"checkbox\" ><label for=\"sk-estimator-id-2\" class=\"sk-toggleable__label sk-toggleable__label-arrow\">None</label><div class=\"sk-toggleable__content\"><pre>None</pre></div></div></div><div class=\"sk-item\"><div class=\"sk-estimator sk-toggleable\"><input class=\"sk-toggleable__control sk-hidden--visually\" id=\"sk-estimator-id-3\" type=\"checkbox\" ><label for=\"sk-estimator-id-3\" class=\"sk-toggleable__label sk-toggleable__label-arrow\">LogisticRegression</label><div class=\"sk-toggleable__content\"><pre>LogisticRegression()</pre></div></div></div></div></div></div></div>"
      ],
      "text/plain": [
       "Pipeline(steps=[('scale', None), ('model', LogisticRegression())])"
      ]
     },
     "execution_count": 27,
     "metadata": {},
     "output_type": "execute_result"
    }
   ],
   "source": [
    "model.fit(X_train, y_train.values.ravel())"
   ]
  },
  {
   "cell_type": "code",
   "execution_count": 28,
   "id": "af59f8c0",
   "metadata": {
    "execution": {
     "iopub.execute_input": "2025-07-23T14:35:39.114777Z",
     "iopub.status.busy": "2025-07-23T14:35:39.113966Z",
     "iopub.status.idle": "2025-07-23T14:35:39.121861Z",
     "shell.execute_reply": "2025-07-23T14:35:39.120291Z"
    },
    "papermill": {
     "duration": 0.034494,
     "end_time": "2025-07-23T14:35:39.123782",
     "exception": false,
     "start_time": "2025-07-23T14:35:39.089288",
     "status": "completed"
    },
    "tags": []
   },
   "outputs": [],
   "source": [
    "from fairness_multiverse.universe import predict_w_threshold"
   ]
  },
  {
   "cell_type": "code",
   "execution_count": 29,
   "id": "a7cf2e16",
   "metadata": {
    "execution": {
     "iopub.execute_input": "2025-07-23T14:35:39.169670Z",
     "iopub.status.busy": "2025-07-23T14:35:39.168750Z",
     "iopub.status.idle": "2025-07-23T14:35:39.279716Z",
     "shell.execute_reply": "2025-07-23T14:35:39.278658Z"
    },
    "papermill": {
     "duration": 0.13589,
     "end_time": "2025-07-23T14:35:39.281722",
     "exception": false,
     "start_time": "2025-07-23T14:35:39.145832",
     "status": "completed"
    },
    "tags": []
   },
   "outputs": [
    {
     "data": {
      "text/plain": [
       "0.859279901906142"
      ]
     },
     "execution_count": 29,
     "metadata": {},
     "output_type": "execute_result"
    }
   ],
   "source": [
    "probs_test = model.predict_proba(X_test)\n",
    "\n",
    "'''\n",
    "Below code returns a boolean array (or binary 0/1 array depending on how it’s used) where each element \n",
    "is True if the probability of class 1 is greater than or equal to the threshold, and False otherwise.\n",
    "'''\n",
    "y_pred_default = predict_w_threshold(probs_test, 0.5)\n",
    "\n",
    "from sklearn.metrics import accuracy_score\n",
    "\n",
    "# Naive prediction\n",
    "accuracy_score(y_true = y_true, y_pred = y_pred_default)"
   ]
  },
  {
   "cell_type": "code",
   "execution_count": 30,
   "id": "081964c3",
   "metadata": {
    "execution": {
     "iopub.execute_input": "2025-07-23T14:35:39.331072Z",
     "iopub.status.busy": "2025-07-23T14:35:39.330515Z",
     "iopub.status.idle": "2025-07-23T14:35:39.423401Z",
     "shell.execute_reply": "2025-07-23T14:35:39.422520Z"
    },
    "papermill": {
     "duration": 0.119702,
     "end_time": "2025-07-23T14:35:39.424859",
     "exception": false,
     "start_time": "2025-07-23T14:35:39.305157",
     "status": "completed"
    },
    "tags": []
   },
   "outputs": [
    {
     "data": {
      "text/plain": [
       "array([0, 0, 0, ..., 0, 0, 0])"
      ]
     },
     "execution_count": 30,
     "metadata": {},
     "output_type": "execute_result"
    }
   ],
   "source": [
    "model.predict(X_test)"
   ]
  },
  {
   "cell_type": "markdown",
   "id": "56c9705b",
   "metadata": {
    "papermill": {
     "duration": 0.010603,
     "end_time": "2025-07-23T14:35:39.446637",
     "exception": false,
     "start_time": "2025-07-23T14:35:39.436034",
     "status": "completed"
    },
    "tags": []
   },
   "source": [
    "# Conformal Prediction"
   ]
  },
  {
   "cell_type": "code",
   "execution_count": 31,
   "id": "160ec6ff",
   "metadata": {
    "execution": {
     "iopub.execute_input": "2025-07-23T14:35:39.469778Z",
     "iopub.status.busy": "2025-07-23T14:35:39.468805Z",
     "iopub.status.idle": "2025-07-23T14:35:39.474717Z",
     "shell.execute_reply": "2025-07-23T14:35:39.473539Z"
    },
    "papermill": {
     "duration": 0.019345,
     "end_time": "2025-07-23T14:35:39.476522",
     "exception": false,
     "start_time": "2025-07-23T14:35:39.457177",
     "status": "completed"
    },
    "tags": []
   },
   "outputs": [],
   "source": [
    "# Miscoverage level for conformal prediction (10% allowed error rate => 90% target coverage)\n",
    "alpha = 0.1"
   ]
  },
  {
   "cell_type": "code",
   "execution_count": 32,
   "id": "eadf4555-3dd3-440e-8e35-f82a4ad9f855",
   "metadata": {
    "execution": {
     "iopub.execute_input": "2025-07-23T14:35:39.521143Z",
     "iopub.status.busy": "2025-07-23T14:35:39.520146Z",
     "iopub.status.idle": "2025-07-23T14:35:39.609764Z",
     "shell.execute_reply": "2025-07-23T14:35:39.608874Z"
    },
    "papermill": {
     "duration": 0.111781,
     "end_time": "2025-07-23T14:35:39.611981",
     "exception": false,
     "start_time": "2025-07-23T14:35:39.500200",
     "status": "completed"
    },
    "tags": []
   },
   "outputs": [],
   "source": [
    "probs_calib = model.predict_proba(X_calib)"
   ]
  },
  {
   "cell_type": "code",
   "execution_count": 33,
   "id": "2ed93547-6d5d-4983-9b36-1ecb300da49a",
   "metadata": {
    "execution": {
     "iopub.execute_input": "2025-07-23T14:35:39.664282Z",
     "iopub.status.busy": "2025-07-23T14:35:39.663560Z",
     "iopub.status.idle": "2025-07-23T14:35:39.671866Z",
     "shell.execute_reply": "2025-07-23T14:35:39.670164Z"
    },
    "papermill": {
     "duration": 0.036716,
     "end_time": "2025-07-23T14:35:39.674198",
     "exception": false,
     "start_time": "2025-07-23T14:35:39.637482",
     "status": "completed"
    },
    "tags": []
   },
   "outputs": [],
   "source": [
    "y_calib = y_calib.values.ravel().astype(int)"
   ]
  },
  {
   "cell_type": "code",
   "execution_count": 34,
   "id": "65d1320d-f588-4b38-9072-62af1ae97f7d",
   "metadata": {
    "execution": {
     "iopub.execute_input": "2025-07-23T14:35:39.725827Z",
     "iopub.status.busy": "2025-07-23T14:35:39.724645Z",
     "iopub.status.idle": "2025-07-23T14:35:39.735869Z",
     "shell.execute_reply": "2025-07-23T14:35:39.734502Z"
    },
    "papermill": {
     "duration": 0.039105,
     "end_time": "2025-07-23T14:35:39.738330",
     "exception": false,
     "start_time": "2025-07-23T14:35:39.699225",
     "status": "completed"
    },
    "tags": []
   },
   "outputs": [],
   "source": [
    "from fairness_multiverse.conformal import compute_nc_scores\n",
    "\n",
    "# Compute nonconformity scores on calibration set (1 - probability of true class)\n",
    "nc_scores = compute_nc_scores(probs_calib, y_calib)"
   ]
  },
  {
   "cell_type": "code",
   "execution_count": 35,
   "id": "df3b8ca3-53b7-43d5-9667-7c85da7aeda2",
   "metadata": {
    "execution": {
     "iopub.execute_input": "2025-07-23T14:35:39.789732Z",
     "iopub.status.busy": "2025-07-23T14:35:39.789153Z",
     "iopub.status.idle": "2025-07-23T14:35:39.797070Z",
     "shell.execute_reply": "2025-07-23T14:35:39.795824Z"
    },
    "papermill": {
     "duration": 0.036143,
     "end_time": "2025-07-23T14:35:39.799101",
     "exception": false,
     "start_time": "2025-07-23T14:35:39.762958",
     "status": "completed"
    },
    "tags": []
   },
   "outputs": [],
   "source": [
    "from fairness_multiverse.conformal import find_threshold\n",
    "\n",
    "# Find conformal threshold q_hat for the given alpha (split conformal method)\n",
    "q_hat = find_threshold(nc_scores, alpha)"
   ]
  },
  {
   "cell_type": "code",
   "execution_count": 36,
   "id": "4d29e6c1-0ef6-4aa4-b8fe-4fe79b0d033a",
   "metadata": {
    "execution": {
     "iopub.execute_input": "2025-07-23T14:35:39.848917Z",
     "iopub.status.busy": "2025-07-23T14:35:39.847910Z",
     "iopub.status.idle": "2025-07-23T14:35:39.858440Z",
     "shell.execute_reply": "2025-07-23T14:35:39.855968Z"
    },
    "papermill": {
     "duration": 0.03602,
     "end_time": "2025-07-23T14:35:39.860404",
     "exception": false,
     "start_time": "2025-07-23T14:35:39.824384",
     "status": "completed"
    },
    "tags": []
   },
   "outputs": [
    {
     "data": {
      "text/plain": [
       "0.6710663570706986"
      ]
     },
     "execution_count": 36,
     "metadata": {},
     "output_type": "execute_result"
    }
   ],
   "source": [
    "q_hat"
   ]
  },
  {
   "cell_type": "code",
   "execution_count": 37,
   "id": "92460794-cdac-4be2-ba28-f28c0515a6fb",
   "metadata": {
    "execution": {
     "iopub.execute_input": "2025-07-23T14:35:39.904585Z",
     "iopub.status.busy": "2025-07-23T14:35:39.903504Z",
     "iopub.status.idle": "2025-07-23T14:35:40.765501Z",
     "shell.execute_reply": "2025-07-23T14:35:40.764445Z"
    },
    "papermill": {
     "duration": 0.886047,
     "end_time": "2025-07-23T14:35:40.767164",
     "exception": false,
     "start_time": "2025-07-23T14:35:39.881117",
     "status": "completed"
    },
    "tags": []
   },
   "outputs": [],
   "source": [
    "from fairness_multiverse.conformal import predict_conformal_sets\n",
    "\n",
    "# Generate prediction sets for each test example\n",
    "pred_sets = predict_conformal_sets(model, X_test, q_hat)"
   ]
  },
  {
   "cell_type": "code",
   "execution_count": 38,
   "id": "d90c9a65-e6db-4f5d-80cd-e68fb7e46829",
   "metadata": {
    "execution": {
     "iopub.execute_input": "2025-07-23T14:35:40.792185Z",
     "iopub.status.busy": "2025-07-23T14:35:40.791286Z",
     "iopub.status.idle": "2025-07-23T14:35:40.796795Z",
     "shell.execute_reply": "2025-07-23T14:35:40.795884Z"
    },
    "papermill": {
     "duration": 0.019386,
     "end_time": "2025-07-23T14:35:40.798406",
     "exception": false,
     "start_time": "2025-07-23T14:35:40.779020",
     "status": "completed"
    },
    "tags": []
   },
   "outputs": [],
   "source": [
    "y_true = y_true.squeeze()"
   ]
  },
  {
   "cell_type": "code",
   "execution_count": 39,
   "id": "3a58a54a-1e68-46b9-927a-df01f18aebc8",
   "metadata": {
    "execution": {
     "iopub.execute_input": "2025-07-23T14:35:40.825360Z",
     "iopub.status.busy": "2025-07-23T14:35:40.824424Z",
     "iopub.status.idle": "2025-07-23T14:35:41.453667Z",
     "shell.execute_reply": "2025-07-23T14:35:41.452727Z"
    },
    "papermill": {
     "duration": 0.644154,
     "end_time": "2025-07-23T14:35:41.455276",
     "exception": false,
     "start_time": "2025-07-23T14:35:40.811122",
     "status": "completed"
    },
    "tags": []
   },
   "outputs": [],
   "source": [
    "from fairness_multiverse.conformal import evaluate_sets\n",
    "\n",
    "# Evaluate coverage and average set size on test data\n",
    "metrics = evaluate_sets(pred_sets, y_true)"
   ]
  },
  {
   "cell_type": "code",
   "execution_count": 40,
   "id": "5ce0a5cb-201f-45a0-ade5-94c7f0bd6095",
   "metadata": {
    "execution": {
     "iopub.execute_input": "2025-07-23T14:35:41.480345Z",
     "iopub.status.busy": "2025-07-23T14:35:41.479915Z",
     "iopub.status.idle": "2025-07-23T14:35:41.487437Z",
     "shell.execute_reply": "2025-07-23T14:35:41.486582Z"
    },
    "papermill": {
     "duration": 0.022164,
     "end_time": "2025-07-23T14:35:41.489122",
     "exception": false,
     "start_time": "2025-07-23T14:35:41.466958",
     "status": "completed"
    },
    "tags": []
   },
   "outputs": [
    {
     "data": {
      "text/plain": [
       "{'coverage': 0.9117489688997882, 'avg_size': 1.201281908371419}"
      ]
     },
     "execution_count": 40,
     "metadata": {},
     "output_type": "execute_result"
    }
   ],
   "source": [
    "metrics"
   ]
  },
  {
   "cell_type": "code",
   "execution_count": 41,
   "id": "9b9a838d-31c9-430b-ae14-12baee460d17",
   "metadata": {
    "execution": {
     "iopub.execute_input": "2025-07-23T14:35:41.540430Z",
     "iopub.status.busy": "2025-07-23T14:35:41.539437Z",
     "iopub.status.idle": "2025-07-23T14:35:41.547098Z",
     "shell.execute_reply": "2025-07-23T14:35:41.546026Z"
    },
    "papermill": {
     "duration": 0.032491,
     "end_time": "2025-07-23T14:35:41.549078",
     "exception": false,
     "start_time": "2025-07-23T14:35:41.516587",
     "status": "completed"
    },
    "tags": []
   },
   "outputs": [],
   "source": [
    "example_universe = universe.copy()\n",
    "universe_model = example_universe.get(\"model\")\n",
    "universe_exclude_features = example_universe.get(\"exclude_features\")\n",
    "universe_exclude_subgroups = example_universe.get(\"exclude_subgroups\")\n",
    "universe_scale = example_universe.get(\"scale\")"
   ]
  },
  {
   "cell_type": "code",
   "execution_count": 42,
   "id": "f4b6a8ac-9dc0-4245-8a91-5b3b5999c4f9",
   "metadata": {
    "execution": {
     "iopub.execute_input": "2025-07-23T14:35:41.594752Z",
     "iopub.status.busy": "2025-07-23T14:35:41.594406Z",
     "iopub.status.idle": "2025-07-23T14:35:41.601220Z",
     "shell.execute_reply": "2025-07-23T14:35:41.600170Z"
    },
    "papermill": {
     "duration": 0.032654,
     "end_time": "2025-07-23T14:35:41.603092",
     "exception": false,
     "start_time": "2025-07-23T14:35:41.570438",
     "status": "completed"
    },
    "tags": []
   },
   "outputs": [],
   "source": [
    "cp_metrics_dict = {\n",
    "    \"universe_id\": [universe_id],\n",
    "    \"universe_model\": [universe_model],\n",
    "    \"universe_exclude_features\": [universe_exclude_features],\n",
    "    \"universe_exclude_subgroups\": [universe_exclude_subgroups],\n",
    "    \"universe_scale\": [universe_scale],\n",
    "    \"q_hat\": [q_hat],\n",
    "    \"coverage\": [metrics[\"coverage\"]],\n",
    "    \"avg_size\": [metrics[\"avg_size\"]],\n",
    "}"
   ]
  },
  {
   "cell_type": "code",
   "execution_count": 43,
   "id": "908acbb1-0371-4915-85ca-3fa520d2efe2",
   "metadata": {
    "execution": {
     "iopub.execute_input": "2025-07-23T14:35:41.648867Z",
     "iopub.status.busy": "2025-07-23T14:35:41.648263Z",
     "iopub.status.idle": "2025-07-23T14:35:41.656784Z",
     "shell.execute_reply": "2025-07-23T14:35:41.655755Z"
    },
    "papermill": {
     "duration": 0.034229,
     "end_time": "2025-07-23T14:35:41.658554",
     "exception": false,
     "start_time": "2025-07-23T14:35:41.624325",
     "status": "completed"
    },
    "tags": []
   },
   "outputs": [
    {
     "data": {
      "text/plain": [
       "{'universe_id': ['42e6d0bba8b24e79bf14d8de99914f9d'],\n",
       " 'universe_model': ['penalized_logreg'],\n",
       " 'universe_exclude_features': ['sex'],\n",
       " 'universe_exclude_subgroups': ['keep-all'],\n",
       " 'universe_scale': ['do-not-scale'],\n",
       " 'q_hat': [0.6710663570706986],\n",
       " 'coverage': [0.9117489688997882],\n",
       " 'avg_size': [1.201281908371419]}"
      ]
     },
     "execution_count": 43,
     "metadata": {},
     "output_type": "execute_result"
    }
   ],
   "source": [
    "cp_metrics_dict"
   ]
  },
  {
   "cell_type": "code",
   "execution_count": 44,
   "id": "33007efc-14e9-4ec6-97ac-56a455c82265",
   "metadata": {
    "execution": {
     "iopub.execute_input": "2025-07-23T14:35:41.706069Z",
     "iopub.status.busy": "2025-07-23T14:35:41.705459Z",
     "iopub.status.idle": "2025-07-23T14:35:41.712776Z",
     "shell.execute_reply": "2025-07-23T14:35:41.711865Z"
    },
    "papermill": {
     "duration": 0.033795,
     "end_time": "2025-07-23T14:35:41.714699",
     "exception": false,
     "start_time": "2025-07-23T14:35:41.680904",
     "status": "completed"
    },
    "tags": []
   },
   "outputs": [],
   "source": [
    "cp_metrics_df = pd.DataFrame(cp_metrics_dict)"
   ]
  },
  {
   "cell_type": "code",
   "execution_count": 45,
   "id": "db12611b-57b2-4910-b9d0-355adfd6e7bf",
   "metadata": {
    "execution": {
     "iopub.execute_input": "2025-07-23T14:35:41.760803Z",
     "iopub.status.busy": "2025-07-23T14:35:41.760241Z",
     "iopub.status.idle": "2025-07-23T14:35:41.782211Z",
     "shell.execute_reply": "2025-07-23T14:35:41.781102Z"
    },
    "papermill": {
     "duration": 0.04794,
     "end_time": "2025-07-23T14:35:41.784482",
     "exception": false,
     "start_time": "2025-07-23T14:35:41.736542",
     "status": "completed"
    },
    "tags": []
   },
   "outputs": [
    {
     "data": {
      "text/html": [
       "<div>\n",
       "<style scoped>\n",
       "    .dataframe tbody tr th:only-of-type {\n",
       "        vertical-align: middle;\n",
       "    }\n",
       "\n",
       "    .dataframe tbody tr th {\n",
       "        vertical-align: top;\n",
       "    }\n",
       "\n",
       "    .dataframe thead th {\n",
       "        text-align: right;\n",
       "    }\n",
       "</style>\n",
       "<table border=\"1\" class=\"dataframe\">\n",
       "  <thead>\n",
       "    <tr style=\"text-align: right;\">\n",
       "      <th></th>\n",
       "      <th>universe_id</th>\n",
       "      <th>universe_model</th>\n",
       "      <th>universe_exclude_features</th>\n",
       "      <th>universe_exclude_subgroups</th>\n",
       "      <th>universe_scale</th>\n",
       "      <th>q_hat</th>\n",
       "      <th>coverage</th>\n",
       "      <th>avg_size</th>\n",
       "    </tr>\n",
       "  </thead>\n",
       "  <tbody>\n",
       "    <tr>\n",
       "      <th>0</th>\n",
       "      <td>42e6d0bba8b24e79bf14d8de99914f9d</td>\n",
       "      <td>penalized_logreg</td>\n",
       "      <td>sex</td>\n",
       "      <td>keep-all</td>\n",
       "      <td>do-not-scale</td>\n",
       "      <td>0.671066</td>\n",
       "      <td>0.911749</td>\n",
       "      <td>1.201282</td>\n",
       "    </tr>\n",
       "  </tbody>\n",
       "</table>\n",
       "</div>"
      ],
      "text/plain": [
       "                        universe_id    universe_model  \\\n",
       "0  42e6d0bba8b24e79bf14d8de99914f9d  penalized_logreg   \n",
       "\n",
       "  universe_exclude_features universe_exclude_subgroups universe_scale  \\\n",
       "0                       sex                   keep-all   do-not-scale   \n",
       "\n",
       "      q_hat  coverage  avg_size  \n",
       "0  0.671066  0.911749  1.201282  "
      ]
     },
     "execution_count": 45,
     "metadata": {},
     "output_type": "execute_result"
    }
   ],
   "source": [
    "cp_metrics_df"
   ]
  },
  {
   "cell_type": "code",
   "execution_count": 46,
   "id": "b7fbde55-a0a1-47e4-9af6-fe4a17fa8c61",
   "metadata": {
    "execution": {
     "iopub.execute_input": "2025-07-23T14:35:41.832517Z",
     "iopub.status.busy": "2025-07-23T14:35:41.831601Z",
     "iopub.status.idle": "2025-07-23T14:35:41.837476Z",
     "shell.execute_reply": "2025-07-23T14:35:41.836364Z"
    },
    "papermill": {
     "duration": 0.031536,
     "end_time": "2025-07-23T14:35:41.839321",
     "exception": false,
     "start_time": "2025-07-23T14:35:41.807785",
     "status": "completed"
    },
    "tags": []
   },
   "outputs": [],
   "source": [
    "# Conditional Coverage & looking at subgroups"
   ]
  },
  {
   "cell_type": "code",
   "execution_count": 47,
   "id": "027ae886-68dd-4141-96c7-805a5450e1ef",
   "metadata": {
    "execution": {
     "iopub.execute_input": "2025-07-23T14:35:41.887359Z",
     "iopub.status.busy": "2025-07-23T14:35:41.886442Z",
     "iopub.status.idle": "2025-07-23T14:35:42.205922Z",
     "shell.execute_reply": "2025-07-23T14:35:42.204738Z"
    },
    "papermill": {
     "duration": 0.345835,
     "end_time": "2025-07-23T14:35:42.208227",
     "exception": false,
     "start_time": "2025-07-23T14:35:41.862392",
     "status": "completed"
    },
    "tags": []
   },
   "outputs": [],
   "source": [
    "from fairness_multiverse.conformal import build_cp_groups\n",
    "\n",
    "cp_groups_df = build_cp_groups(pred_sets, y_true, X_test.index, org_test)\n",
    "#needs universe_id and setting"
   ]
  },
  {
   "cell_type": "code",
   "execution_count": 48,
   "id": "c3b92545-903e-4839-89af-0f057907d7d6",
   "metadata": {
    "execution": {
     "iopub.execute_input": "2025-07-23T14:35:42.257390Z",
     "iopub.status.busy": "2025-07-23T14:35:42.256835Z",
     "iopub.status.idle": "2025-07-23T14:35:44.054259Z",
     "shell.execute_reply": "2025-07-23T14:35:44.052811Z"
    },
    "papermill": {
     "duration": 1.823864,
     "end_time": "2025-07-23T14:35:44.056249",
     "exception": false,
     "start_time": "2025-07-23T14:35:42.232385",
     "status": "completed"
    },
    "tags": []
   },
   "outputs": [],
   "source": [
    "# Define covered = 1 if true_label is in the predicted set\n",
    "cp_groups_df['covered'] = cp_groups_df.apply(\n",
    "    lambda r: int(r['true_label'] in r['pred_set']),\n",
    "    axis=1\n",
    ")"
   ]
  },
  {
   "cell_type": "code",
   "execution_count": 49,
   "id": "338ff529-1a6b-4b87-a931-8e4788d52aad",
   "metadata": {
    "execution": {
     "iopub.execute_input": "2025-07-23T14:35:44.087279Z",
     "iopub.status.busy": "2025-07-23T14:35:44.086827Z",
     "iopub.status.idle": "2025-07-23T14:35:44.091239Z",
     "shell.execute_reply": "2025-07-23T14:35:44.090467Z"
    },
    "papermill": {
     "duration": 0.020764,
     "end_time": "2025-07-23T14:35:44.092626",
     "exception": false,
     "start_time": "2025-07-23T14:35:44.071862",
     "status": "completed"
    },
    "tags": []
   },
   "outputs": [],
   "source": [
    "#cp_groups_df"
   ]
  },
  {
   "cell_type": "code",
   "execution_count": 50,
   "id": "90032e27-66df-4540-9169-4e89cfbaa758",
   "metadata": {
    "execution": {
     "iopub.execute_input": "2025-07-23T14:35:44.144184Z",
     "iopub.status.busy": "2025-07-23T14:35:44.143441Z",
     "iopub.status.idle": "2025-07-23T14:35:44.156167Z",
     "shell.execute_reply": "2025-07-23T14:35:44.154718Z"
    },
    "papermill": {
     "duration": 0.049198,
     "end_time": "2025-07-23T14:35:44.158200",
     "exception": false,
     "start_time": "2025-07-23T14:35:44.109002",
     "status": "completed"
    },
    "tags": []
   },
   "outputs": [],
   "source": [
    "subgroups = ['frau1','nongerman','nongerman_male','nongerman_female']\n",
    "\n",
    "# Conditional coverage for subgroup==1\n",
    "cond_coverage = {\n",
    "    g: cp_groups_df.loc[cp_groups_df[g]==1, 'covered'].mean()\n",
    "    for g in subgroups\n",
    "}"
   ]
  },
  {
   "cell_type": "code",
   "execution_count": 51,
   "id": "1e348fb1-b9c3-45bc-ba23-f016827a7e0d",
   "metadata": {
    "execution": {
     "iopub.execute_input": "2025-07-23T14:35:44.219194Z",
     "iopub.status.busy": "2025-07-23T14:35:44.218647Z",
     "iopub.status.idle": "2025-07-23T14:35:44.227044Z",
     "shell.execute_reply": "2025-07-23T14:35:44.225878Z"
    },
    "papermill": {
     "duration": 0.047306,
     "end_time": "2025-07-23T14:35:44.229340",
     "exception": false,
     "start_time": "2025-07-23T14:35:44.182034",
     "status": "completed"
    },
    "tags": []
   },
   "outputs": [
    {
     "data": {
      "text/plain": [
       "{'frau1': 0.9117670845127376,\n",
       " 'nongerman': 0.9294896985347779,\n",
       " 'nongerman_male': 0.9427181842745204,\n",
       " 'nongerman_female': 0.9076005961251863}"
      ]
     },
     "execution_count": 51,
     "metadata": {},
     "output_type": "execute_result"
    }
   ],
   "source": [
    "cond_coverage"
   ]
  },
  {
   "cell_type": "code",
   "execution_count": 52,
   "id": "f5093324-c3dd-4d63-bc4c-8d945e5c8bbb",
   "metadata": {
    "execution": {
     "iopub.execute_input": "2025-07-23T14:35:44.282610Z",
     "iopub.status.busy": "2025-07-23T14:35:44.282135Z",
     "iopub.status.idle": "2025-07-23T14:35:44.291414Z",
     "shell.execute_reply": "2025-07-23T14:35:44.290271Z"
    },
    "papermill": {
     "duration": 0.037089,
     "end_time": "2025-07-23T14:35:44.293494",
     "exception": false,
     "start_time": "2025-07-23T14:35:44.256405",
     "status": "completed"
    },
    "tags": []
   },
   "outputs": [],
   "source": [
    "for subgroup, cov in cond_coverage.items():\n",
    "    cp_metrics_df[f\"cov_{subgroup}\"] = cov"
   ]
  },
  {
   "cell_type": "code",
   "execution_count": 53,
   "id": "6e872e10-dbe5-49e8-b554-5030c98ff75d",
   "metadata": {
    "execution": {
     "iopub.execute_input": "2025-07-23T14:35:44.341647Z",
     "iopub.status.busy": "2025-07-23T14:35:44.341108Z",
     "iopub.status.idle": "2025-07-23T14:35:44.363337Z",
     "shell.execute_reply": "2025-07-23T14:35:44.362176Z"
    },
    "papermill": {
     "duration": 0.048183,
     "end_time": "2025-07-23T14:35:44.365124",
     "exception": false,
     "start_time": "2025-07-23T14:35:44.316941",
     "status": "completed"
    },
    "tags": []
   },
   "outputs": [
    {
     "data": {
      "text/html": [
       "<div>\n",
       "<style scoped>\n",
       "    .dataframe tbody tr th:only-of-type {\n",
       "        vertical-align: middle;\n",
       "    }\n",
       "\n",
       "    .dataframe tbody tr th {\n",
       "        vertical-align: top;\n",
       "    }\n",
       "\n",
       "    .dataframe thead th {\n",
       "        text-align: right;\n",
       "    }\n",
       "</style>\n",
       "<table border=\"1\" class=\"dataframe\">\n",
       "  <thead>\n",
       "    <tr style=\"text-align: right;\">\n",
       "      <th></th>\n",
       "      <th>universe_id</th>\n",
       "      <th>universe_model</th>\n",
       "      <th>universe_exclude_features</th>\n",
       "      <th>universe_exclude_subgroups</th>\n",
       "      <th>universe_scale</th>\n",
       "      <th>q_hat</th>\n",
       "      <th>coverage</th>\n",
       "      <th>avg_size</th>\n",
       "      <th>cov_frau1</th>\n",
       "      <th>cov_nongerman</th>\n",
       "      <th>cov_nongerman_male</th>\n",
       "      <th>cov_nongerman_female</th>\n",
       "    </tr>\n",
       "  </thead>\n",
       "  <tbody>\n",
       "    <tr>\n",
       "      <th>0</th>\n",
       "      <td>42e6d0bba8b24e79bf14d8de99914f9d</td>\n",
       "      <td>penalized_logreg</td>\n",
       "      <td>sex</td>\n",
       "      <td>keep-all</td>\n",
       "      <td>do-not-scale</td>\n",
       "      <td>0.671066</td>\n",
       "      <td>0.911749</td>\n",
       "      <td>1.201282</td>\n",
       "      <td>0.911767</td>\n",
       "      <td>0.92949</td>\n",
       "      <td>0.942718</td>\n",
       "      <td>0.907601</td>\n",
       "    </tr>\n",
       "  </tbody>\n",
       "</table>\n",
       "</div>"
      ],
      "text/plain": [
       "                        universe_id    universe_model  \\\n",
       "0  42e6d0bba8b24e79bf14d8de99914f9d  penalized_logreg   \n",
       "\n",
       "  universe_exclude_features universe_exclude_subgroups universe_scale  \\\n",
       "0                       sex                   keep-all   do-not-scale   \n",
       "\n",
       "      q_hat  coverage  avg_size  cov_frau1  cov_nongerman  cov_nongerman_male  \\\n",
       "0  0.671066  0.911749  1.201282   0.911767        0.92949            0.942718   \n",
       "\n",
       "   cov_nongerman_female  \n",
       "0              0.907601  "
      ]
     },
     "execution_count": 53,
     "metadata": {},
     "output_type": "execute_result"
    }
   ],
   "source": [
    "cp_metrics_df"
   ]
  },
  {
   "cell_type": "markdown",
   "id": "33774451",
   "metadata": {
    "papermill": {
     "duration": 0.022022,
     "end_time": "2025-07-23T14:35:44.410722",
     "exception": false,
     "start_time": "2025-07-23T14:35:44.388700",
     "status": "completed"
    },
    "tags": []
   },
   "source": [
    "# (Fairness) Metrics"
   ]
  },
  {
   "cell_type": "code",
   "execution_count": 54,
   "id": "debc5d62",
   "metadata": {
    "execution": {
     "iopub.execute_input": "2025-07-23T14:35:44.458556Z",
     "iopub.status.busy": "2025-07-23T14:35:44.457905Z",
     "iopub.status.idle": "2025-07-23T14:35:44.484474Z",
     "shell.execute_reply": "2025-07-23T14:35:44.483323Z"
    },
    "papermill": {
     "duration": 0.053579,
     "end_time": "2025-07-23T14:35:44.486685",
     "exception": false,
     "start_time": "2025-07-23T14:35:44.433106",
     "status": "completed"
    },
    "tags": []
   },
   "outputs": [],
   "source": [
    "# do I need to include maxdeutsch1.missing?\n",
    "\n",
    "import numpy as np\n",
    "\n",
    "colname_to_bin = \"maxdeutsch1\"\n",
    "majority_value = org_train[colname_to_bin].mode()[0]\n",
    "\n",
    "org_test[\"majmin\"] = np.where(org_test[colname_to_bin] == majority_value, \"majority\", \"minority\")"
   ]
  },
  {
   "cell_type": "code",
   "execution_count": 55,
   "id": "06a50de5",
   "metadata": {
    "execution": {
     "iopub.execute_input": "2025-07-23T14:35:44.516638Z",
     "iopub.status.busy": "2025-07-23T14:35:44.516248Z",
     "iopub.status.idle": "2025-07-23T14:35:47.351434Z",
     "shell.execute_reply": "2025-07-23T14:35:47.350276Z"
    },
    "papermill": {
     "duration": 2.851629,
     "end_time": "2025-07-23T14:35:47.353699",
     "exception": false,
     "start_time": "2025-07-23T14:35:44.502070",
     "status": "completed"
    },
    "tags": []
   },
   "outputs": [],
   "source": [
    "example_universe = universe.copy()\n",
    "example_universe[\"cutoff\"] = example_universe[\"cutoff\"][0]\n",
    "example_universe[\"eval_fairness_grouping\"] = example_universe[\"eval_fairness_grouping\"][0]\n",
    "fairness_dict, metric_frame = universe_analysis.compute_metrics(\n",
    "    example_universe,\n",
    "    y_pred_prob=probs_test,\n",
    "    y_test=y_true,\n",
    "    org_test=org_test,\n",
    ")"
   ]
  },
  {
   "cell_type": "markdown",
   "id": "f95d4e02",
   "metadata": {
    "papermill": {
     "duration": 0.028022,
     "end_time": "2025-07-23T14:35:47.411671",
     "exception": false,
     "start_time": "2025-07-23T14:35:47.383649",
     "status": "completed"
    },
    "tags": []
   },
   "source": [
    "# Overall"
   ]
  },
  {
   "cell_type": "markdown",
   "id": "bdee4871",
   "metadata": {
    "papermill": {
     "duration": 0.027665,
     "end_time": "2025-07-23T14:35:47.466958",
     "exception": false,
     "start_time": "2025-07-23T14:35:47.439293",
     "status": "completed"
    },
    "tags": []
   },
   "source": [
    "Fairness\n",
    "Main fairness target: Equalized Odds. Seems to be a better fit than equal opportunity, since we're not only interested in Y = 1. Seems to be a better fit than demographic parity, since we also care about accuracy, not just equal distribution of preds.\n",
    "\n",
    "Pick column for computation of fairness metrics\n",
    "\n",
    "Performance\n",
    "Overall performance measures, most interesting in relation to the measures split by group below"
   ]
  },
  {
   "cell_type": "code",
   "execution_count": 56,
   "id": "c4e067c6",
   "metadata": {
    "execution": {
     "iopub.execute_input": "2025-07-23T14:35:47.524380Z",
     "iopub.status.busy": "2025-07-23T14:35:47.523554Z",
     "iopub.status.idle": "2025-07-23T14:35:47.534439Z",
     "shell.execute_reply": "2025-07-23T14:35:47.533132Z"
    },
    "papermill": {
     "duration": 0.04218,
     "end_time": "2025-07-23T14:35:47.536698",
     "exception": false,
     "start_time": "2025-07-23T14:35:47.494518",
     "status": "completed"
    },
    "tags": []
   },
   "outputs": [
    {
     "data": {
      "text/plain": [
       "accuracy                   0.217846\n",
       "balanced accuracy          0.534032\n",
       "f1                         0.239357\n",
       "precision                  0.136737\n",
       "false positive rate        0.891269\n",
       "false negative rate        0.040667\n",
       "selection rate             0.900000\n",
       "count                  89710.000000\n",
       "dtype: float64"
      ]
     },
     "execution_count": 56,
     "metadata": {},
     "output_type": "execute_result"
    }
   ],
   "source": [
    "metric_frame.overall"
   ]
  },
  {
   "cell_type": "markdown",
   "id": "e968fe9d",
   "metadata": {
    "papermill": {
     "duration": 0.028698,
     "end_time": "2025-07-23T14:35:47.594413",
     "exception": false,
     "start_time": "2025-07-23T14:35:47.565715",
     "status": "completed"
    },
    "tags": []
   },
   "source": [
    "By Group"
   ]
  },
  {
   "cell_type": "code",
   "execution_count": 57,
   "id": "ec325bce",
   "metadata": {
    "execution": {
     "iopub.execute_input": "2025-07-23T14:35:47.653528Z",
     "iopub.status.busy": "2025-07-23T14:35:47.652675Z",
     "iopub.status.idle": "2025-07-23T14:35:47.672897Z",
     "shell.execute_reply": "2025-07-23T14:35:47.671592Z"
    },
    "papermill": {
     "duration": 0.052495,
     "end_time": "2025-07-23T14:35:47.675263",
     "exception": false,
     "start_time": "2025-07-23T14:35:47.622768",
     "status": "completed"
    },
    "tags": []
   },
   "outputs": [
    {
     "data": {
      "text/html": [
       "<div>\n",
       "<style scoped>\n",
       "    .dataframe tbody tr th:only-of-type {\n",
       "        vertical-align: middle;\n",
       "    }\n",
       "\n",
       "    .dataframe tbody tr th {\n",
       "        vertical-align: top;\n",
       "    }\n",
       "\n",
       "    .dataframe thead th {\n",
       "        text-align: right;\n",
       "    }\n",
       "</style>\n",
       "<table border=\"1\" class=\"dataframe\">\n",
       "  <thead>\n",
       "    <tr style=\"text-align: right;\">\n",
       "      <th></th>\n",
       "      <th>accuracy</th>\n",
       "      <th>balanced accuracy</th>\n",
       "      <th>f1</th>\n",
       "      <th>precision</th>\n",
       "      <th>false positive rate</th>\n",
       "      <th>false negative rate</th>\n",
       "      <th>selection rate</th>\n",
       "      <th>count</th>\n",
       "    </tr>\n",
       "    <tr>\n",
       "      <th>majmin</th>\n",
       "      <th></th>\n",
       "      <th></th>\n",
       "      <th></th>\n",
       "      <th></th>\n",
       "      <th></th>\n",
       "      <th></th>\n",
       "      <th></th>\n",
       "      <th></th>\n",
       "    </tr>\n",
       "  </thead>\n",
       "  <tbody>\n",
       "    <tr>\n",
       "      <th>majority</th>\n",
       "      <td>0.240075</td>\n",
       "      <td>0.541780</td>\n",
       "      <td>0.248699</td>\n",
       "      <td>0.143036</td>\n",
       "      <td>0.868299</td>\n",
       "      <td>0.048140</td>\n",
       "      <td>0.879341</td>\n",
       "      <td>69170.0</td>\n",
       "    </tr>\n",
       "    <tr>\n",
       "      <th>minority</th>\n",
       "      <td>0.142989</td>\n",
       "      <td>0.510514</td>\n",
       "      <td>0.210026</td>\n",
       "      <td>0.117499</td>\n",
       "      <td>0.967147</td>\n",
       "      <td>0.011824</td>\n",
       "      <td>0.969572</td>\n",
       "      <td>20540.0</td>\n",
       "    </tr>\n",
       "  </tbody>\n",
       "</table>\n",
       "</div>"
      ],
      "text/plain": [
       "          accuracy  balanced accuracy        f1  precision  \\\n",
       "majmin                                                       \n",
       "majority  0.240075           0.541780  0.248699   0.143036   \n",
       "minority  0.142989           0.510514  0.210026   0.117499   \n",
       "\n",
       "          false positive rate  false negative rate  selection rate    count  \n",
       "majmin                                                                       \n",
       "majority             0.868299             0.048140        0.879341  69170.0  \n",
       "minority             0.967147             0.011824        0.969572  20540.0  "
      ]
     },
     "execution_count": 57,
     "metadata": {},
     "output_type": "execute_result"
    }
   ],
   "source": [
    "metric_frame.by_group"
   ]
  },
  {
   "cell_type": "code",
   "execution_count": 58,
   "id": "a9ddbe63",
   "metadata": {
    "execution": {
     "iopub.execute_input": "2025-07-23T14:35:47.734867Z",
     "iopub.status.busy": "2025-07-23T14:35:47.734047Z",
     "iopub.status.idle": "2025-07-23T14:35:50.360681Z",
     "shell.execute_reply": "2025-07-23T14:35:50.359773Z"
    },
    "papermill": {
     "duration": 2.657735,
     "end_time": "2025-07-23T14:35:50.362008",
     "exception": false,
     "start_time": "2025-07-23T14:35:47.704273",
     "status": "completed"
    },
    "tags": []
   },
   "outputs": [
    {
     "data": {
      "text/plain": [
       "array([[<Axes: title={'center': 'accuracy'}, xlabel='majmin'>,\n",
       "        <Axes: title={'center': 'balanced accuracy'}, xlabel='majmin'>,\n",
       "        <Axes: title={'center': 'f1'}, xlabel='majmin'>],\n",
       "       [<Axes: title={'center': 'precision'}, xlabel='majmin'>,\n",
       "        <Axes: title={'center': 'false positive rate'}, xlabel='majmin'>,\n",
       "        <Axes: title={'center': 'false negative rate'}, xlabel='majmin'>],\n",
       "       [<Axes: title={'center': 'selection rate'}, xlabel='majmin'>,\n",
       "        <Axes: title={'center': 'count'}, xlabel='majmin'>,\n",
       "        <Axes: xlabel='majmin'>]], dtype=object)"
      ]
     },
     "execution_count": 58,
     "metadata": {},
     "output_type": "execute_result"
    },
    {
     "data": {
      "image/png": "[encoded data removed]",
      "text/plain": [
       "<Figure size 1200x800 with 9 Axes>"
      ]
     },
     "metadata": {},
     "output_type": "display_data"
    }
   ],
   "source": [
    "# In a graphic\n",
    "metric_frame.by_group.plot.bar(\n",
    "    subplots=True,\n",
    "    layout=[3, 3],\n",
    "    legend=False,\n",
    "    figsize=[12, 8],\n",
    "    title=\"Show all metrics\",\n",
    ")"
   ]
  },
  {
   "cell_type": "markdown",
   "id": "f57a0bac",
   "metadata": {
    "papermill": {
     "duration": 0.02723,
     "end_time": "2025-07-23T14:35:50.415084",
     "exception": false,
     "start_time": "2025-07-23T14:35:50.387854",
     "status": "completed"
    },
    "tags": []
   },
   "source": [
    "# Final Output"
   ]
  },
  {
   "cell_type": "code",
   "execution_count": 59,
   "id": "96d280a3",
   "metadata": {
    "execution": {
     "iopub.execute_input": "2025-07-23T14:35:50.472764Z",
     "iopub.status.busy": "2025-07-23T14:35:50.472055Z",
     "iopub.status.idle": "2025-07-23T14:35:50.484408Z",
     "shell.execute_reply": "2025-07-23T14:35:50.483248Z"
    },
    "papermill": {
     "duration": 0.042864,
     "end_time": "2025-07-23T14:35:50.486365",
     "exception": false,
     "start_time": "2025-07-23T14:35:50.443501",
     "status": "completed"
    },
    "tags": []
   },
   "outputs": [
    {
     "data": {
      "text/plain": [
       "4"
      ]
     },
     "execution_count": 59,
     "metadata": {},
     "output_type": "execute_result"
    }
   ],
   "source": [
    "sub_universes = universe_analysis.generate_sub_universes()\n",
    "len(sub_universes)"
   ]
  },
  {
   "cell_type": "code",
   "execution_count": 60,
   "id": "92adf7ba",
   "metadata": {
    "execution": {
     "iopub.execute_input": "2025-07-23T14:35:50.545038Z",
     "iopub.status.busy": "2025-07-23T14:35:50.544541Z",
     "iopub.status.idle": "2025-07-23T14:35:50.551525Z",
     "shell.execute_reply": "2025-07-23T14:35:50.550384Z"
    },
    "papermill": {
     "duration": 0.038142,
     "end_time": "2025-07-23T14:35:50.553449",
     "exception": false,
     "start_time": "2025-07-23T14:35:50.515307",
     "status": "completed"
    },
    "tags": []
   },
   "outputs": [],
   "source": [
    "def filter_sub_universe_data(sub_universe, org_test):\n",
    "    # Keep all rows — no filtering\n",
    "    keep_rows_mask = np.ones(org_test.shape[0], dtype=bool)\n",
    "\n",
    "    print(f\"[INFO] Keeping all rows: {keep_rows_mask.sum()} rows retained.\")\n",
    "    return keep_rows_mask"
   ]
  },
  {
   "cell_type": "code",
   "execution_count": 61,
   "id": "4a759155",
   "metadata": {
    "execution": {
     "iopub.execute_input": "2025-07-23T14:35:50.616416Z",
     "iopub.status.busy": "2025-07-23T14:35:50.615212Z",
     "iopub.status.idle": "2025-07-23T14:36:02.753793Z",
     "shell.execute_reply": "2025-07-23T14:36:02.752469Z"
    },
    "papermill": {
     "duration": 12.173215,
     "end_time": "2025-07-23T14:36:02.755750",
     "exception": false,
     "start_time": "2025-07-23T14:35:50.582535",
     "status": "completed"
    },
    "tags": []
   },
   "outputs": [
    {
     "name": "stdout",
     "output_type": "stream",
     "text": [
      "Stopping execution_time clock.\n",
      "[INFO] Keeping all rows: 89710 rows retained.\n"
     ]
    },
    {
     "name": "stdout",
     "output_type": "stream",
     "text": [
      "[INFO] Keeping all rows: 89710 rows retained.\n"
     ]
    },
    {
     "name": "stdout",
     "output_type": "stream",
     "text": [
      "[INFO] Keeping all rows: 89710 rows retained.\n"
     ]
    },
    {
     "name": "stdout",
     "output_type": "stream",
     "text": [
      "[INFO] Keeping all rows: 89710 rows retained.\n"
     ]
    },
    {
     "data": {
      "text/html": [
       "<div>\n",
       "<style scoped>\n",
       "    .dataframe tbody tr th:only-of-type {\n",
       "        vertical-align: middle;\n",
       "    }\n",
       "\n",
       "    .dataframe tbody tr th {\n",
       "        vertical-align: top;\n",
       "    }\n",
       "\n",
       "    .dataframe thead th {\n",
       "        text-align: right;\n",
       "    }\n",
       "</style>\n",
       "<table border=\"1\" class=\"dataframe\">\n",
       "  <thead>\n",
       "    <tr style=\"text-align: right;\">\n",
       "      <th></th>\n",
       "      <th>run_no</th>\n",
       "      <th>universe_id</th>\n",
       "      <th>universe_settings</th>\n",
       "      <th>execution_time</th>\n",
       "      <th>test_size_n</th>\n",
       "      <th>test_size_frac</th>\n",
       "      <th>fair_main_equalized_odds_difference</th>\n",
       "      <th>fair_main_equalized_odds_ratio</th>\n",
       "      <th>fair_main_demographic_parity_difference</th>\n",
       "      <th>fair_main_demographic_parity_ratio</th>\n",
       "      <th>...</th>\n",
       "      <th>perf_grp_precision_0</th>\n",
       "      <th>perf_grp_precision_1</th>\n",
       "      <th>perf_grp_false positive rate_0</th>\n",
       "      <th>perf_grp_false positive rate_1</th>\n",
       "      <th>perf_grp_false negative rate_0</th>\n",
       "      <th>perf_grp_false negative rate_1</th>\n",
       "      <th>perf_grp_selection rate_0</th>\n",
       "      <th>perf_grp_selection rate_1</th>\n",
       "      <th>perf_grp_count_0</th>\n",
       "      <th>perf_grp_count_1</th>\n",
       "    </tr>\n",
       "  </thead>\n",
       "  <tbody>\n",
       "    <tr>\n",
       "      <th>0</th>\n",
       "      <td>9</td>\n",
       "      <td>42e6d0bba8b24e79bf14d8de99914f9d</td>\n",
       "      <td>{\"cutoff\": \"quantile_0.1\", \"eval_fairness_grou...</td>\n",
       "      <td>20.438583</td>\n",
       "      <td>89710</td>\n",
       "      <td>1.0</td>\n",
       "      <td>0.098848</td>\n",
       "      <td>0.897794</td>\n",
       "      <td>0.090231</td>\n",
       "      <td>0.906937</td>\n",
       "      <td>...</td>\n",
       "      <td>NaN</td>\n",
       "      <td>NaN</td>\n",
       "      <td>NaN</td>\n",
       "      <td>NaN</td>\n",
       "      <td>NaN</td>\n",
       "      <td>NaN</td>\n",
       "      <td>NaN</td>\n",
       "      <td>NaN</td>\n",
       "      <td>NaN</td>\n",
       "      <td>NaN</td>\n",
       "    </tr>\n",
       "    <tr>\n",
       "      <th>0</th>\n",
       "      <td>9</td>\n",
       "      <td>42e6d0bba8b24e79bf14d8de99914f9d</td>\n",
       "      <td>{\"cutoff\": \"quantile_0.1\", \"eval_fairness_grou...</td>\n",
       "      <td>20.438583</td>\n",
       "      <td>89710</td>\n",
       "      <td>1.0</td>\n",
       "      <td>0.098848</td>\n",
       "      <td>0.897794</td>\n",
       "      <td>0.090231</td>\n",
       "      <td>0.906937</td>\n",
       "      <td>...</td>\n",
       "      <td>0.117499</td>\n",
       "      <td>0.143036</td>\n",
       "      <td>0.967147</td>\n",
       "      <td>0.868299</td>\n",
       "      <td>0.011824</td>\n",
       "      <td>0.048140</td>\n",
       "      <td>0.969572</td>\n",
       "      <td>0.879341</td>\n",
       "      <td>20540.0</td>\n",
       "      <td>69170.0</td>\n",
       "    </tr>\n",
       "    <tr>\n",
       "      <th>0</th>\n",
       "      <td>9</td>\n",
       "      <td>42e6d0bba8b24e79bf14d8de99914f9d</td>\n",
       "      <td>{\"cutoff\": \"quantile_0.25\", \"eval_fairness_gro...</td>\n",
       "      <td>20.438583</td>\n",
       "      <td>89710</td>\n",
       "      <td>1.0</td>\n",
       "      <td>0.217194</td>\n",
       "      <td>0.757773</td>\n",
       "      <td>0.198780</td>\n",
       "      <td>0.779931</td>\n",
       "      <td>...</td>\n",
       "      <td>NaN</td>\n",
       "      <td>NaN</td>\n",
       "      <td>NaN</td>\n",
       "      <td>NaN</td>\n",
       "      <td>NaN</td>\n",
       "      <td>NaN</td>\n",
       "      <td>NaN</td>\n",
       "      <td>NaN</td>\n",
       "      <td>NaN</td>\n",
       "      <td>NaN</td>\n",
       "    </tr>\n",
       "    <tr>\n",
       "      <th>0</th>\n",
       "      <td>9</td>\n",
       "      <td>42e6d0bba8b24e79bf14d8de99914f9d</td>\n",
       "      <td>{\"cutoff\": \"quantile_0.25\", \"eval_fairness_gro...</td>\n",
       "      <td>20.438583</td>\n",
       "      <td>89710</td>\n",
       "      <td>1.0</td>\n",
       "      <td>0.217194</td>\n",
       "      <td>0.757773</td>\n",
       "      <td>0.198780</td>\n",
       "      <td>0.779931</td>\n",
       "      <td>...</td>\n",
       "      <td>0.121759</td>\n",
       "      <td>0.162963</td>\n",
       "      <td>0.896654</td>\n",
       "      <td>0.679460</td>\n",
       "      <td>0.046030</td>\n",
       "      <td>0.131182</td>\n",
       "      <td>0.903262</td>\n",
       "      <td>0.704482</td>\n",
       "      <td>20540.0</td>\n",
       "      <td>69170.0</td>\n",
       "    </tr>\n",
       "  </tbody>\n",
       "</table>\n",
       "<p>4 rows × 50 columns</p>\n",
       "</div>"
      ],
      "text/plain": [
       "  run_no                       universe_id  \\\n",
       "0      9  42e6d0bba8b24e79bf14d8de99914f9d   \n",
       "0      9  42e6d0bba8b24e79bf14d8de99914f9d   \n",
       "0      9  42e6d0bba8b24e79bf14d8de99914f9d   \n",
       "0      9  42e6d0bba8b24e79bf14d8de99914f9d   \n",
       "\n",
       "                                   universe_settings  execution_time  \\\n",
       "0  {\"cutoff\": \"quantile_0.1\", \"eval_fairness_grou...       20.438583   \n",
       "0  {\"cutoff\": \"quantile_0.1\", \"eval_fairness_grou...       20.438583   \n",
       "0  {\"cutoff\": \"quantile_0.25\", \"eval_fairness_gro...       20.438583   \n",
       "0  {\"cutoff\": \"quantile_0.25\", \"eval_fairness_gro...       20.438583   \n",
       "\n",
       "   test_size_n  test_size_frac  fair_main_equalized_odds_difference  \\\n",
       "0        89710             1.0                             0.098848   \n",
       "0        89710             1.0                             0.098848   \n",
       "0        89710             1.0                             0.217194   \n",
       "0        89710             1.0                             0.217194   \n",
       "\n",
       "   fair_main_equalized_odds_ratio  fair_main_demographic_parity_difference  \\\n",
       "0                        0.897794                                 0.090231   \n",
       "0                        0.897794                                 0.090231   \n",
       "0                        0.757773                                 0.198780   \n",
       "0                        0.757773                                 0.198780   \n",
       "\n",
       "   fair_main_demographic_parity_ratio  ...  perf_grp_precision_0  \\\n",
       "0                            0.906937  ...                   NaN   \n",
       "0                            0.906937  ...              0.117499   \n",
       "0                            0.779931  ...                   NaN   \n",
       "0                            0.779931  ...              0.121759   \n",
       "\n",
       "   perf_grp_precision_1  perf_grp_false positive rate_0  \\\n",
       "0                   NaN                             NaN   \n",
       "0              0.143036                        0.967147   \n",
       "0                   NaN                             NaN   \n",
       "0              0.162963                        0.896654   \n",
       "\n",
       "   perf_grp_false positive rate_1  perf_grp_false negative rate_0  \\\n",
       "0                             NaN                             NaN   \n",
       "0                        0.868299                        0.011824   \n",
       "0                             NaN                             NaN   \n",
       "0                        0.679460                        0.046030   \n",
       "\n",
       "   perf_grp_false negative rate_1  perf_grp_selection rate_0  \\\n",
       "0                             NaN                        NaN   \n",
       "0                        0.048140                   0.969572   \n",
       "0                             NaN                        NaN   \n",
       "0                        0.131182                   0.903262   \n",
       "\n",
       "   perf_grp_selection rate_1  perf_grp_count_0  perf_grp_count_1  \n",
       "0                        NaN               NaN               NaN  \n",
       "0                   0.879341           20540.0           69170.0  \n",
       "0                        NaN               NaN               NaN  \n",
       "0                   0.704482           20540.0           69170.0  \n",
       "\n",
       "[4 rows x 50 columns]"
      ]
     },
     "execution_count": 61,
     "metadata": {},
     "output_type": "execute_result"
    }
   ],
   "source": [
    "final_output = universe_analysis.generate_final_output(\n",
    "    y_pred_prob=probs_test,\n",
    "    y_test=y_true,\n",
    "    org_test=org_test,\n",
    "    filter_data=filter_sub_universe_data,\n",
    "    cp_metrics_df=cp_metrics_df,\n",
    "    save=True,\n",
    ")\n",
    "final_output"
   ]
  },
  {
   "cell_type": "code",
   "execution_count": null,
   "id": "721ff514-cb11-46f8-b6fc-50392f74b5cb",
   "metadata": {
    "papermill": {
     "duration": 0.048144,
     "end_time": "2025-07-23T14:36:02.867884",
     "exception": false,
     "start_time": "2025-07-23T14:36:02.819740",
     "status": "completed"
    },
    "tags": []
   },
   "outputs": [],
   "source": []
  }
 ],
 "metadata": {
  "celltoolbar": "Tags",
  "kernelspec": {
   "display_name": "Python (CMA Fairness)",
   "language": "python",
   "name": "cma_fair_env"
  },
  "language_info": {
   "codemirror_mode": {
    "name": "ipython",
    "version": 3
   },
   "file_extension": ".py",
   "mimetype": "text/x-python",
   "name": "python",
   "nbconvert_exporter": "python",
   "pygments_lexer": "ipython3",
   "version": "3.10.12"
  },
  "papermill": {
   "default_parameters": {},
   "duration": 37.645949,
   "end_time": "2025-07-23T14:36:04.161984",
   "environment_variables": {},
   "exception": null,
   "input_path": "universe_analysis.ipynb",
   "output_path": "output/runs/9/notebooks/m_9-42e6d0bba8b24e79bf14d8de99914f9d.ipynb",
   "parameters": {
    "output_dir": "output",
    "run_no": "9",
    "seed": "2023",
    "universe": "{\"cutoff\": [\"quantile_0.1\", \"quantile_0.25\"], \"eval_fairness_grouping\": [\"majority-minority\", \"nationality-all\"], \"exclude_features\": \"sex\", \"exclude_subgroups\": \"keep-all\", \"model\": \"penalized_logreg\", \"scale\": \"do-not-scale\"}",
    "universe_id": "42e6d0bba8b24e79bf14d8de99914f9d"
   },
   "start_time": "2025-07-23T14:35:26.516035",
   "version": "2.6.0"
  }
 },
 "nbformat": 4,
 "nbformat_minor": 5
}