{
 "cells": [
  {
   "cell_type": "code",
   "execution_count": 1,
   "id": "f159f837-637b-42ba-96b5-ec9a68c44524",
   "metadata": {
    "execution": {
     "iopub.execute_input": "2025-07-23T14:36:13.339738Z",
     "iopub.status.busy": "2025-07-23T14:36:13.339308Z",
     "iopub.status.idle": "2025-07-23T14:36:13.358976Z",
     "shell.execute_reply": "2025-07-23T14:36:13.357765Z"
    },
    "papermill": {
     "duration": 0.070592,
     "end_time": "2025-07-23T14:36:13.363376",
     "exception": false,
     "start_time": "2025-07-23T14:36:13.292784",
     "status": "completed"
    },
    "tags": []
   },
   "outputs": [
    {
     "name": "stdout",
     "output_type": "stream",
     "text": [
      "/dss/dsshome1/0C/ra93lal2/cma/CMA_Fairness_v2\n"
     ]
    },
    {
     "name": "stderr",
     "output_type": "stream",
     "text": [
      "/dss/dsshome1/0C/ra93lal2/.local/share/virtualenvs/CMA_Fairness_v2-3j10GkSs/lib/python3.10/site-packages/IPython/core/magics/osm.py:393: UserWarning: This is now an optional IPython functionality, using bookmarks requires you to install the `pickleshare` library.\n",
      "  bkms = self.shell.db.get('bookmarks', {})\n",
      "/dss/dsshome1/0C/ra93lal2/.local/share/virtualenvs/CMA_Fairness_v2-3j10GkSs/lib/python3.10/site-packages/IPython/core/magics/osm.py:417: UserWarning: This is now an optional IPython functionality, setting dhist requires you to install the `pickleshare` library.\n",
      "  self.shell.db['dhist'] = compress_dhist(dhist)[-100:]\n"
     ]
    }
   ],
   "source": [
    "%cd ~/cma/CMA_Fairness_v2"
   ]
  },
  {
   "cell_type": "markdown",
   "id": "de2603b9",
   "metadata": {
    "papermill": {
     "duration": 0.055292,
     "end_time": "2025-07-23T14:36:13.465856",
     "exception": false,
     "start_time": "2025-07-23T14:36:13.410564",
     "status": "completed"
    },
    "tags": []
   },
   "source": [
    "The following cell holds the definition of our parameters, these values can be overriden by rendering the with e.g. the following command:\n",
    "\n",
    "papermill -p alpha 0.2 -p ratio 0.3 universe_analysis.ipynb output/test_run.ipynb"
   ]
  },
  {
   "cell_type": "code",
   "execution_count": 2,
   "id": "a80968a0-40bb-4fa9-85ef-2d5eefb01975",
   "metadata": {
    "execution": {
     "iopub.execute_input": "2025-07-23T14:36:13.500220Z",
     "iopub.status.busy": "2025-07-23T14:36:13.499704Z",
     "iopub.status.idle": "2025-07-23T14:36:13.505712Z",
     "shell.execute_reply": "2025-07-23T14:36:13.504527Z"
    },
    "papermill": {
     "duration": 0.032263,
     "end_time": "2025-07-23T14:36:13.514083",
     "exception": false,
     "start_time": "2025-07-23T14:36:13.481820",
     "status": "completed"
    },
    "tags": []
   },
   "outputs": [
    {
     "name": "stdout",
     "output_type": "stream",
     "text": [
      "Current working directory: /dss/dsshome1/0C/ra93lal2/cma/CMA_Fairness_v2\n"
     ]
    }
   ],
   "source": [
    "import os\n",
    "print(\"Current working directory:\", os.getcwd())"
   ]
  },
  {
   "cell_type": "code",
   "execution_count": 3,
   "id": "2dce4c03",
   "metadata": {
    "execution": {
     "iopub.execute_input": "2025-07-23T14:36:13.585338Z",
     "iopub.status.busy": "2025-07-23T14:36:13.584904Z",
     "iopub.status.idle": "2025-07-23T14:36:13.601607Z",
     "shell.execute_reply": "2025-07-23T14:36:13.590488Z"
    },
    "papermill": {
     "duration": 0.039244,
     "end_time": "2025-07-23T14:36:13.603390",
     "exception": false,
     "start_time": "2025-07-23T14:36:13.564146",
     "status": "completed"
    },
    "tags": [
     "parameters"
    ]
   },
   "outputs": [],
   "source": [
    "run_no = 0\n",
    "universe_id = \"test\"\n",
    "universe = {\n",
    "    \"scale\": \"scale\", # \"scale\", \"do-not-scale\",\n",
    "    \"model\": \"elasticnet\", # \"logreg\", \"penalized_logreg\", \"rf\", \"gbm\", \"elasticnet\"\n",
    "    \"cutoff\": [\"quantile_0.15\", \"quantile_0.30\"],\n",
    "    \"exclude_features\": \"age\", # \"none\", \"nationality\", \"sex\", \"nationality-sex\", \"age\"\n",
    "    \"exclude_subgroups\": \"keep-all\", # \"keep-all\", \"drop-non-german\"\n",
    "    #\"training_sample\": \"restricted\", # \"restricted\", \"full\"\n",
    "    \"eval_fairness_grouping\": [\"majority-minority\", \"nationality-all\"]\n",
    "}\n",
    "\n",
    "output_dir=\"./output\"\n",
    "seed=0"
   ]
  },
  {
   "cell_type": "code",
   "execution_count": 4,
   "id": "9cbac2c2",
   "metadata": {
    "execution": {
     "iopub.execute_input": "2025-07-23T14:36:13.672606Z",
     "iopub.status.busy": "2025-07-23T14:36:13.672186Z",
     "iopub.status.idle": "2025-07-23T14:36:13.678137Z",
     "shell.execute_reply": "2025-07-23T14:36:13.677122Z"
    },
    "papermill": {
     "duration": 0.042931,
     "end_time": "2025-07-23T14:36:13.679992",
     "exception": false,
     "start_time": "2025-07-23T14:36:13.637061",
     "status": "completed"
    },
    "tags": [
     "injected-parameters"
    ]
   },
   "outputs": [],
   "source": [
    "# Parameters\n",
    "universe_id = \"240998e0db90607c9ab50f364189b362\"\n",
    "run_no = \"9\"\n",
    "universe = \"{\\\"cutoff\\\": [\\\"quantile_0.1\\\", \\\"quantile_0.25\\\"], \\\"eval_fairness_grouping\\\": [\\\"majority-minority\\\", \\\"nationality-all\\\"], \\\"exclude_features\\\": \\\"nationality\\\", \\\"exclude_subgroups\\\": \\\"keep-all\\\", \\\"model\\\": \\\"rf\\\", \\\"scale\\\": \\\"do-not-scale\\\"}\"\n",
    "output_dir = \"output\"\n",
    "seed = \"2023\"\n"
   ]
  },
  {
   "cell_type": "code",
   "execution_count": 5,
   "id": "1650acaf",
   "metadata": {
    "execution": {
     "iopub.execute_input": "2025-07-23T14:36:13.747509Z",
     "iopub.status.busy": "2025-07-23T14:36:13.747089Z",
     "iopub.status.idle": "2025-07-23T14:36:13.753075Z",
     "shell.execute_reply": "2025-07-23T14:36:13.751937Z"
    },
    "papermill": {
     "duration": 0.056442,
     "end_time": "2025-07-23T14:36:13.754955",
     "exception": false,
     "start_time": "2025-07-23T14:36:13.698513",
     "status": "completed"
    },
    "tags": []
   },
   "outputs": [],
   "source": [
    "import json\n",
    "# Parse universe into dict if it is passed as a string\n",
    "if isinstance(universe, str):\n",
    "    universe = json.loads(universe)"
   ]
  },
  {
   "cell_type": "code",
   "execution_count": 6,
   "id": "16620c48",
   "metadata": {
    "execution": {
     "iopub.execute_input": "2025-07-23T14:36:13.807529Z",
     "iopub.status.busy": "2025-07-23T14:36:13.807122Z",
     "iopub.status.idle": "2025-07-23T14:36:13.865928Z",
     "shell.execute_reply": "2025-07-23T14:36:13.864856Z"
    },
    "papermill": {
     "duration": 0.078852,
     "end_time": "2025-07-23T14:36:13.868103",
     "exception": false,
     "start_time": "2025-07-23T14:36:13.789251",
     "status": "completed"
    },
    "tags": []
   },
   "outputs": [],
   "source": [
    "# Auto-reload the custom package\n",
    "%load_ext autoreload\n",
    "%autoreload 1\n",
    "%aimport fairness_multiverse"
   ]
  },
  {
   "cell_type": "code",
   "execution_count": 7,
   "id": "01c5c9f3",
   "metadata": {
    "execution": {
     "iopub.execute_input": "2025-07-23T14:36:13.939134Z",
     "iopub.status.busy": "2025-07-23T14:36:13.938650Z",
     "iopub.status.idle": "2025-07-23T14:36:17.380175Z",
     "shell.execute_reply": "2025-07-23T14:36:17.378627Z"
    },
    "papermill": {
     "duration": 3.477278,
     "end_time": "2025-07-23T14:36:17.382329",
     "exception": false,
     "start_time": "2025-07-23T14:36:13.905051",
     "status": "completed"
    },
    "tags": []
   },
   "outputs": [],
   "source": [
    "from fairness_multiverse.universe import UniverseAnalysis\n",
    "\n",
    "universe_analysis = UniverseAnalysis(\n",
    "    run_no = run_no,\n",
    "    universe_id = universe_id,\n",
    "    universe = universe,\n",
    "    output_dir=output_dir,\n",
    ")"
   ]
  },
  {
   "cell_type": "code",
   "execution_count": 8,
   "id": "106241f5",
   "metadata": {
    "execution": {
     "iopub.execute_input": "2025-07-23T14:36:17.424724Z",
     "iopub.status.busy": "2025-07-23T14:36:17.423720Z",
     "iopub.status.idle": "2025-07-23T14:36:17.433050Z",
     "shell.execute_reply": "2025-07-23T14:36:17.431839Z"
    },
    "papermill": {
     "duration": 0.031963,
     "end_time": "2025-07-23T14:36:17.435149",
     "exception": false,
     "start_time": "2025-07-23T14:36:17.403186",
     "status": "completed"
    },
    "tags": []
   },
   "outputs": [
    {
     "name": "stdout",
     "output_type": "stream",
     "text": [
      "Using Seed: 2023\n"
     ]
    }
   ],
   "source": [
    "import numpy as np\n",
    "parsed_seed = int(seed)\n",
    "np.random.seed(parsed_seed)\n",
    "print(f\"Using Seed: {parsed_seed}\")"
   ]
  },
  {
   "cell_type": "markdown",
   "id": "e0ebdc57",
   "metadata": {
    "papermill": {
     "duration": 0.017845,
     "end_time": "2025-07-23T14:36:17.471575",
     "exception": false,
     "start_time": "2025-07-23T14:36:17.453730",
     "status": "completed"
    },
    "tags": []
   },
   "source": [
    "# Loading Data"
   ]
  },
  {
   "cell_type": "markdown",
   "id": "681925a3",
   "metadata": {
    "papermill": {
     "duration": 0.016673,
     "end_time": "2025-07-23T14:36:17.505340",
     "exception": false,
     "start_time": "2025-07-23T14:36:17.488667",
     "status": "completed"
    },
    "tags": []
   },
   "source": [
    "Load siab_train, siab_test, siab_calib and/or \n",
    "load siab_train_features, siab_train_labels"
   ]
  },
  {
   "cell_type": "code",
   "execution_count": 9,
   "id": "f0496b8a",
   "metadata": {
    "execution": {
     "iopub.execute_input": "2025-07-23T14:36:17.542388Z",
     "iopub.status.busy": "2025-07-23T14:36:17.541362Z",
     "iopub.status.idle": "2025-07-23T14:36:17.547992Z",
     "shell.execute_reply": "2025-07-23T14:36:17.546960Z"
    },
    "papermill": {
     "duration": 0.026789,
     "end_time": "2025-07-23T14:36:17.549687",
     "exception": false,
     "start_time": "2025-07-23T14:36:17.522898",
     "status": "completed"
    },
    "tags": []
   },
   "outputs": [],
   "source": [
    "# Do I need to load siab? Delete this cell?\n",
    "\n",
    "#from pathlib import Path\n",
    "#import pandas as pd\n",
    "#\n",
    "## File paths\n",
    "#raw_file = Path(\"data/raw/siab.csv\")\n",
    "#cache_file = Path(\"data/siab_cached.csv.gz\")\n",
    "#\n",
    "## Ensure cache directory exists\n",
    "#cache_file.parent.mkdir(parents=True, exist_ok=True)\n",
    "#\n",
    "## Load with simple caching\n",
    "#if cache_file.exists():\n",
    "#    print(f\"Loading SIAB data from cache: {cache_file}\")\n",
    "#    siab = pd.read_csv(cache_file, compression='gzip')\n",
    "#else:\n",
    "#    print(f\"Cache not found. Reading raw SIAB data: {raw_file}\")\n",
    "#    siab = pd.read_csv(raw_file)\n",
    "#    siab.to_csv(cache_file, index=False, compression='gzip')\n",
    "#    print(f\"Cached SIAB data to: {cache_file}\")\n",
    "#\n",
    "## Now use `siab` DataFrame as needed\n",
    "#print(siab.shape)\n"
   ]
  },
  {
   "cell_type": "code",
   "execution_count": 10,
   "id": "a0edb063",
   "metadata": {
    "execution": {
     "iopub.execute_input": "2025-07-23T14:36:17.588506Z",
     "iopub.status.busy": "2025-07-23T14:36:17.587730Z",
     "iopub.status.idle": "2025-07-23T14:36:19.081474Z",
     "shell.execute_reply": "2025-07-23T14:36:19.077723Z"
    },
    "papermill": {
     "duration": 1.517041,
     "end_time": "2025-07-23T14:36:19.083544",
     "exception": false,
     "start_time": "2025-07-23T14:36:17.566503",
     "status": "completed"
    },
    "tags": []
   },
   "outputs": [],
   "source": [
    "import pandas as pd\n",
    "\n",
    "X_train = pd.read_csv(\"./data/X_train.csv\")\n",
    "y_train = pd.read_csv(\"./data/y_train.csv\")"
   ]
  },
  {
   "cell_type": "code",
   "execution_count": 11,
   "id": "63d08085",
   "metadata": {
    "execution": {
     "iopub.execute_input": "2025-07-23T14:36:19.191058Z",
     "iopub.status.busy": "2025-07-23T14:36:19.190629Z",
     "iopub.status.idle": "2025-07-23T14:36:20.799224Z",
     "shell.execute_reply": "2025-07-23T14:36:20.798044Z"
    },
    "papermill": {
     "duration": 1.671671,
     "end_time": "2025-07-23T14:36:20.801014",
     "exception": false,
     "start_time": "2025-07-23T14:36:19.129343",
     "status": "completed"
    },
    "tags": []
   },
   "outputs": [],
   "source": [
    "X_test = pd.read_csv(\"./data/X_test.csv\")\n",
    "y_true = pd.read_csv(\"./data/y_test.csv\")"
   ]
  },
  {
   "cell_type": "code",
   "execution_count": 12,
   "id": "98a8d0fa-1d3d-4ed8-bb2c-281470e24add",
   "metadata": {
    "execution": {
     "iopub.execute_input": "2025-07-23T14:36:20.841260Z",
     "iopub.status.busy": "2025-07-23T14:36:20.840228Z",
     "iopub.status.idle": "2025-07-23T14:36:23.739196Z",
     "shell.execute_reply": "2025-07-23T14:36:23.737826Z"
    },
    "papermill": {
     "duration": 2.92307,
     "end_time": "2025-07-23T14:36:23.742098",
     "exception": false,
     "start_time": "2025-07-23T14:36:20.819028",
     "status": "completed"
    },
    "tags": []
   },
   "outputs": [],
   "source": [
    "# Calibration data for conformal\n",
    "X_calib = pd.read_csv(\"./data/X_calib.csv\")\n",
    "y_calib = pd.read_csv(\"./data/y_calib.csv\")"
   ]
  },
  {
   "cell_type": "code",
   "execution_count": 13,
   "id": "e6c733c5",
   "metadata": {
    "execution": {
     "iopub.execute_input": "2025-07-23T14:36:23.826539Z",
     "iopub.status.busy": "2025-07-23T14:36:23.825442Z",
     "iopub.status.idle": "2025-07-23T14:36:24.090942Z",
     "shell.execute_reply": "2025-07-23T14:36:24.089833Z"
    },
    "papermill": {
     "duration": 0.300181,
     "end_time": "2025-07-23T14:36:24.092944",
     "exception": false,
     "start_time": "2025-07-23T14:36:23.792763",
     "status": "completed"
    },
    "tags": []
   },
   "outputs": [],
   "source": [
    "# Auxiliary data needed downstream in the pipeline\n",
    "\n",
    "org_train = X_train.copy()\n",
    "org_test = X_test.copy()\n",
    "org_calib = X_calib.copy()"
   ]
  },
  {
   "cell_type": "markdown",
   "id": "0a4a1b33",
   "metadata": {
    "papermill": {
     "duration": 0.01854,
     "end_time": "2025-07-23T14:36:24.163584",
     "exception": false,
     "start_time": "2025-07-23T14:36:24.145044",
     "status": "completed"
    },
    "tags": []
   },
   "source": [
    "# Preprocessing Data"
   ]
  },
  {
   "cell_type": "code",
   "execution_count": 14,
   "id": "ca879031",
   "metadata": {
    "execution": {
     "iopub.execute_input": "2025-07-23T14:36:24.201327Z",
     "iopub.status.busy": "2025-07-23T14:36:24.200338Z",
     "iopub.status.idle": "2025-07-23T14:36:24.207673Z",
     "shell.execute_reply": "2025-07-23T14:36:24.206527Z"
    },
    "papermill": {
     "duration": 0.029891,
     "end_time": "2025-07-23T14:36:24.211045",
     "exception": false,
     "start_time": "2025-07-23T14:36:24.181154",
     "status": "completed"
    },
    "tags": []
   },
   "outputs": [],
   "source": [
    "# EXCLUDE PROTECTED FEATURES\n",
    "# ----------------------\n",
    "# \"exclude_features\": \"none\", # \"nationality\", \"sex\", \"nationality-sex\"\n",
    "\n",
    "excluded_features = universe[\"exclude_features\"].split(\"-\") # split, e.g.: \"nationality-sex\" -> [\"nationality\", \"sex\"]\n",
    "excluded_features_dictionary = {\n",
    "    \"nationality\": [\"maxdeutsch1\", \"maxdeutsch.Missing.\"],\n",
    "    \"sex\": [\"frau1\"],\n",
    "    \"age\": [\"age\"],\n",
    "}\n"
   ]
  },
  {
   "cell_type": "code",
   "execution_count": 15,
   "id": "b745ac60",
   "metadata": {
    "execution": {
     "iopub.execute_input": "2025-07-23T14:36:24.250682Z",
     "iopub.status.busy": "2025-07-23T14:36:24.250224Z",
     "iopub.status.idle": "2025-07-23T14:36:24.256777Z",
     "shell.execute_reply": "2025-07-23T14:36:24.255660Z"
    },
    "papermill": {
     "duration": 0.035404,
     "end_time": "2025-07-23T14:36:24.265075",
     "exception": false,
     "start_time": "2025-07-23T14:36:24.229671",
     "status": "completed"
    },
    "tags": []
   },
   "outputs": [],
   "source": [
    "# Code nice names to column names\n",
    "\n",
    "excluded_features_columns = [\n",
    "    excluded_features_dictionary[f] for f in excluded_features if len(f) > 0 and f != \"none\"\n",
    "]"
   ]
  },
  {
   "cell_type": "code",
   "execution_count": 16,
   "id": "f84f73a2",
   "metadata": {
    "execution": {
     "iopub.execute_input": "2025-07-23T14:36:24.318601Z",
     "iopub.status.busy": "2025-07-23T14:36:24.318142Z",
     "iopub.status.idle": "2025-07-23T14:36:24.325299Z",
     "shell.execute_reply": "2025-07-23T14:36:24.324158Z"
    },
    "papermill": {
     "duration": 0.031374,
     "end_time": "2025-07-23T14:36:24.328960",
     "exception": false,
     "start_time": "2025-07-23T14:36:24.297586",
     "status": "completed"
    },
    "tags": []
   },
   "outputs": [],
   "source": [
    "from utils import flatten_once\n",
    "\n",
    "excluded_features_columns = flatten_once(excluded_features_columns)"
   ]
  },
  {
   "cell_type": "code",
   "execution_count": 17,
   "id": "884dea22",
   "metadata": {
    "execution": {
     "iopub.execute_input": "2025-07-23T14:36:24.371040Z",
     "iopub.status.busy": "2025-07-23T14:36:24.370637Z",
     "iopub.status.idle": "2025-07-23T14:36:24.424017Z",
     "shell.execute_reply": "2025-07-23T14:36:24.422716Z"
    },
    "papermill": {
     "duration": 0.076124,
     "end_time": "2025-07-23T14:36:24.426051",
     "exception": false,
     "start_time": "2025-07-23T14:36:24.349927",
     "status": "completed"
    },
    "tags": []
   },
   "outputs": [
    {
     "name": "stdout",
     "output_type": "stream",
     "text": [
      "Dropping features: ['maxdeutsch1', 'maxdeutsch.Missing.']\n"
     ]
    }
   ],
   "source": [
    "if len(excluded_features_columns) > 0:\n",
    "    print(f\"Dropping features: {excluded_features_columns}\")\n",
    "    X_train.drop(excluded_features_columns, axis=1, inplace=True)"
   ]
  },
  {
   "cell_type": "code",
   "execution_count": 18,
   "id": "95ab8b16",
   "metadata": {
    "execution": {
     "iopub.execute_input": "2025-07-23T14:36:24.499345Z",
     "iopub.status.busy": "2025-07-23T14:36:24.498886Z",
     "iopub.status.idle": "2025-07-23T14:36:24.599808Z",
     "shell.execute_reply": "2025-07-23T14:36:24.598458Z"
    },
    "papermill": {
     "duration": 0.156979,
     "end_time": "2025-07-23T14:36:24.603423",
     "exception": false,
     "start_time": "2025-07-23T14:36:24.446444",
     "status": "completed"
    },
    "tags": []
   },
   "outputs": [
    {
     "name": "stdout",
     "output_type": "stream",
     "text": [
      "Dropping features: ['maxdeutsch1', 'maxdeutsch.Missing.']\n"
     ]
    }
   ],
   "source": [
    "if len(excluded_features_columns) > 0:\n",
    "    print(f\"Dropping features: {excluded_features_columns}\")\n",
    "    X_test.drop(excluded_features_columns, axis=1, inplace=True)"
   ]
  },
  {
   "cell_type": "code",
   "execution_count": 19,
   "id": "1853aaf5-fb9f-46cb-a2b5-8ea4ae2237e4",
   "metadata": {
    "execution": {
     "iopub.execute_input": "2025-07-23T14:36:24.731485Z",
     "iopub.status.busy": "2025-07-23T14:36:24.731029Z",
     "iopub.status.idle": "2025-07-23T14:36:24.795740Z",
     "shell.execute_reply": "2025-07-23T14:36:24.791727Z"
    },
    "papermill": {
     "duration": 0.150705,
     "end_time": "2025-07-23T14:36:24.803575",
     "exception": false,
     "start_time": "2025-07-23T14:36:24.652870",
     "status": "completed"
    },
    "tags": []
   },
   "outputs": [
    {
     "name": "stdout",
     "output_type": "stream",
     "text": [
      "Dropping features: ['maxdeutsch1', 'maxdeutsch.Missing.']\n"
     ]
    }
   ],
   "source": [
    "if len(excluded_features_columns) > 0:\n",
    "    print(f\"Dropping features: {excluded_features_columns}\")\n",
    "    X_calib.drop(excluded_features_columns, axis=1, inplace=True)"
   ]
  },
  {
   "cell_type": "code",
   "execution_count": 20,
   "id": "76c4dc6d",
   "metadata": {
    "execution": {
     "iopub.execute_input": "2025-07-23T14:36:24.891531Z",
     "iopub.status.busy": "2025-07-23T14:36:24.891093Z",
     "iopub.status.idle": "2025-07-23T14:36:24.897565Z",
     "shell.execute_reply": "2025-07-23T14:36:24.896224Z"
    },
    "papermill": {
     "duration": 0.058285,
     "end_time": "2025-07-23T14:36:24.899462",
     "exception": false,
     "start_time": "2025-07-23T14:36:24.841177",
     "status": "completed"
    },
    "tags": []
   },
   "outputs": [],
   "source": [
    "# EXCLUDE CERTAIN SUBGROUPS\n",
    "# ----------------------\n",
    "\n",
    "mode = universe.get(\"exclude_subgroups\", \"keep-all\") \n",
    "# Fetches the exclude_subgroups setting from the universe dict.\n",
    "# Defaults to \"keep-all\" if the key is missing."
   ]
  },
  {
   "cell_type": "code",
   "execution_count": 21,
   "id": "21994072",
   "metadata": {
    "execution": {
     "iopub.execute_input": "2025-07-23T14:36:24.982908Z",
     "iopub.status.busy": "2025-07-23T14:36:24.982466Z",
     "iopub.status.idle": "2025-07-23T14:36:24.990302Z",
     "shell.execute_reply": "2025-07-23T14:36:24.989249Z"
    },
    "papermill": {
     "duration": 0.04733,
     "end_time": "2025-07-23T14:36:24.992179",
     "exception": false,
     "start_time": "2025-07-23T14:36:24.944849",
     "status": "completed"
    },
    "tags": []
   },
   "outputs": [],
   "source": [
    "if mode == \"keep-all\":\n",
    "    keep_mask = pd.Series(True, index=org_train.index)\n",
    "\n",
    "# org_train contains the original feature columns from features_org (in Simson)\n",
    "# features_org contains unprocessed features, for me X_train at beginning ???\n",
    "# For keep-all, creates a boolean Series (keep_mask) of all True, so no rows are removed.\n",
    "\n",
    "elif mode == \"drop-non-german\":\n",
    "    keep_mask = org_train[\"maxdeutsch1\"] == 1 # ??? what about missing values?\n",
    "\n",
    "else:\n",
    "    raise ValueError(f\"Unsupported mode for exclude_subgroups: {mode}\")\n"
   ]
  },
  {
   "cell_type": "code",
   "execution_count": 22,
   "id": "71651440",
   "metadata": {
    "execution": {
     "iopub.execute_input": "2025-07-23T14:36:25.087185Z",
     "iopub.status.busy": "2025-07-23T14:36:25.086691Z",
     "iopub.status.idle": "2025-07-23T14:36:25.096074Z",
     "shell.execute_reply": "2025-07-23T14:36:25.094770Z"
    },
    "papermill": {
     "duration": 0.06164,
     "end_time": "2025-07-23T14:36:25.098326",
     "exception": false,
     "start_time": "2025-07-23T14:36:25.036686",
     "status": "completed"
    },
    "tags": []
   },
   "outputs": [],
   "source": [
    "n_drop = (~keep_mask).sum() # Calculates how many rows are set to be dropped\n",
    "if n_drop > 0:\n",
    "    pct = n_drop / len(keep_mask) * 100\n",
    "    print(f\"Dropping {n_drop} rows ({pct:.2f}%) where mode='{mode}'\")"
   ]
  },
  {
   "cell_type": "code",
   "execution_count": 23,
   "id": "5fb8eee5",
   "metadata": {
    "execution": {
     "iopub.execute_input": "2025-07-23T14:36:25.184472Z",
     "iopub.status.busy": "2025-07-23T14:36:25.183998Z",
     "iopub.status.idle": "2025-07-23T14:36:25.260707Z",
     "shell.execute_reply": "2025-07-23T14:36:25.259367Z"
    },
    "papermill": {
     "duration": 0.121128,
     "end_time": "2025-07-23T14:36:25.263092",
     "exception": false,
     "start_time": "2025-07-23T14:36:25.141964",
     "status": "completed"
    },
    "tags": []
   },
   "outputs": [],
   "source": [
    "X_train = X_train[keep_mask]"
   ]
  },
  {
   "cell_type": "code",
   "execution_count": 24,
   "id": "b202bb3a",
   "metadata": {
    "execution": {
     "iopub.execute_input": "2025-07-23T14:36:25.304522Z",
     "iopub.status.busy": "2025-07-23T14:36:25.304062Z",
     "iopub.status.idle": "2025-07-23T14:36:25.313078Z",
     "shell.execute_reply": "2025-07-23T14:36:25.311907Z"
    },
    "papermill": {
     "duration": 0.033597,
     "end_time": "2025-07-23T14:36:25.316965",
     "exception": false,
     "start_time": "2025-07-23T14:36:25.283368",
     "status": "completed"
    },
    "tags": []
   },
   "outputs": [],
   "source": [
    "y_train = y_train[keep_mask]"
   ]
  },
  {
   "cell_type": "markdown",
   "id": "493e2ac3",
   "metadata": {
    "papermill": {
     "duration": 0.019595,
     "end_time": "2025-07-23T14:36:25.357554",
     "exception": false,
     "start_time": "2025-07-23T14:36:25.337959",
     "status": "completed"
    },
    "tags": []
   },
   "source": [
    "# Model Training"
   ]
  },
  {
   "cell_type": "code",
   "execution_count": 25,
   "id": "679e1268",
   "metadata": {
    "execution": {
     "iopub.execute_input": "2025-07-23T14:36:25.398824Z",
     "iopub.status.busy": "2025-07-23T14:36:25.398374Z",
     "iopub.status.idle": "2025-07-23T14:36:25.605920Z",
     "shell.execute_reply": "2025-07-23T14:36:25.604638Z"
    },
    "papermill": {
     "duration": 0.230979,
     "end_time": "2025-07-23T14:36:25.608372",
     "exception": false,
     "start_time": "2025-07-23T14:36:25.377393",
     "status": "completed"
    },
    "tags": []
   },
   "outputs": [],
   "source": [
    "from sklearn.linear_model import LogisticRegression\n",
    "from sklearn.ensemble import GradientBoostingClassifier, RandomForestClassifier\n",
    "\n",
    "if (universe[\"model\"] == \"logreg\"):\n",
    "    model = LogisticRegression() #penalty=\"none\") #, solver=\"newton-cg\", max_iter=1) # include random_state=19 ?\n",
    "elif (universe[\"model\"] == \"penalized_logreg\"):\n",
    "    model = LogisticRegression(penalty=\"l2\", C=1.0) #, solver=\"newton-cg\", max_iter=1)\n",
    "elif (universe[\"model\"] == \"rf\"):\n",
    "    model = RandomForestClassifier(n_estimators=100, n_jobs=-1)\n",
    "elif (universe[\"model\"] == \"gbm\"):\n",
    "    model = GradientBoostingClassifier()\n",
    "elif (universe[\"model\"] == \"elasticnet\"):\n",
    "    model = LogisticRegression(penalty = 'elasticnet', solver = 'saga', l1_ratio = 0.5, max_iter=5000) # which solver to use?\n",
    "else:\n",
    "    raise \"Unsupported universe.model\""
   ]
  },
  {
   "cell_type": "code",
   "execution_count": 26,
   "id": "0cc8f744",
   "metadata": {
    "execution": {
     "iopub.execute_input": "2025-07-23T14:36:25.703380Z",
     "iopub.status.busy": "2025-07-23T14:36:25.702905Z",
     "iopub.status.idle": "2025-07-23T14:36:25.710763Z",
     "shell.execute_reply": "2025-07-23T14:36:25.709452Z"
    },
    "papermill": {
     "duration": 0.04852,
     "end_time": "2025-07-23T14:36:25.713219",
     "exception": false,
     "start_time": "2025-07-23T14:36:25.664699",
     "status": "completed"
    },
    "tags": []
   },
   "outputs": [],
   "source": [
    "import numpy as np\n",
    "from sklearn.pipeline import Pipeline\n",
    "from sklearn.preprocessing import StandardScaler\n",
    "\n",
    "model = Pipeline([\n",
    "    #(\"continuous_processor\", continuous_processor),\n",
    "    #(\"categorical_preprocessor\", categorical_preprocessor),\n",
    "    (\"scale\", StandardScaler() if universe[\"scale\"] == \"scale\" else None), \n",
    "    (\"model\", model),\n",
    "])"
   ]
  },
  {
   "cell_type": "code",
   "execution_count": 27,
   "id": "9442c04d",
   "metadata": {
    "execution": {
     "iopub.execute_input": "2025-07-23T14:36:25.803347Z",
     "iopub.status.busy": "2025-07-23T14:36:25.802941Z",
     "iopub.status.idle": "2025-07-23T14:36:41.291582Z",
     "shell.execute_reply": "2025-07-23T14:36:41.290306Z"
    },
    "papermill": {
     "duration": 15.528831,
     "end_time": "2025-07-23T14:36:41.293875",
     "exception": false,
     "start_time": "2025-07-23T14:36:25.765044",
     "status": "completed"
    },
    "tags": []
   },
   "outputs": [
    {
     "data": {
      "text/html": [
       "<style>#sk-container-id-1 {color: black;background-color: white;}#sk-container-id-1 pre{padding: 0;}#sk-container-id-1 div.sk-toggleable {background-color: white;}#sk-container-id-1 label.sk-toggleable__label {cursor: pointer;display: block;width: 100%;margin-bottom: 0;padding: 0.3em;box-sizing: border-box;text-align: center;}#sk-container-id-1 label.sk-toggleable__label-arrow:before {content: \"▸\";float: left;margin-right: 0.25em;color: #696969;}#sk-container-id-1 label.sk-toggleable__label-arrow:hover:before {color: black;}#sk-container-id-1 div.sk-estimator:hover label.sk-toggleable__label-arrow:before {color: black;}#sk-container-id-1 div.sk-toggleable__content {max-height: 0;max-width: 0;overflow: hidden;text-align: left;background-color: #f0f8ff;}#sk-container-id-1 div.sk-toggleable__content pre {margin: 0.2em;color: black;border-radius: 0.25em;background-color: #f0f8ff;}#sk-container-id-1 input.sk-toggleable__control:checked~div.sk-toggleable__content {max-height: 200px;max-width: 100%;overflow: auto;}#sk-container-id-1 input.sk-toggleable__control:checked~label.sk-toggleable__label-arrow:before {content: \"▾\";}#sk-container-id-1 div.sk-estimator input.sk-toggleable__control:checked~label.sk-toggleable__label {background-color: #d4ebff;}#sk-container-id-1 div.sk-label input.sk-toggleable__control:checked~label.sk-toggleable__label {background-color: #d4ebff;}#sk-container-id-1 input.sk-hidden--visually {border: 0;clip: rect(1px 1px 1px 1px);clip: rect(1px, 1px, 1px, 1px);height: 1px;margin: -1px;overflow: hidden;padding: 0;position: absolute;width: 1px;}#sk-container-id-1 div.sk-estimator {font-family: monospace;background-color: #f0f8ff;border: 1px dotted black;border-radius: 0.25em;box-sizing: border-box;margin-bottom: 0.5em;}#sk-container-id-1 div.sk-estimator:hover {background-color: #d4ebff;}#sk-container-id-1 div.sk-parallel-item::after {content: \"\";width: 100%;border-bottom: 1px solid gray;flex-grow: 1;}#sk-container-id-1 div.sk-label:hover label.sk-toggleable__label {background-color: #d4ebff;}#sk-container-id-1 div.sk-serial::before {content: \"\";position: absolute;border-left: 1px solid gray;box-sizing: border-box;top: 0;bottom: 0;left: 50%;z-index: 0;}#sk-container-id-1 div.sk-serial {display: flex;flex-direction: column;align-items: center;background-color: white;padding-right: 0.2em;padding-left: 0.2em;position: relative;}#sk-container-id-1 div.sk-item {position: relative;z-index: 1;}#sk-container-id-1 div.sk-parallel {display: flex;align-items: stretch;justify-content: center;background-color: white;position: relative;}#sk-container-id-1 div.sk-item::before, #sk-container-id-1 div.sk-parallel-item::before {content: \"\";position: absolute;border-left: 1px solid gray;box-sizing: border-box;top: 0;bottom: 0;left: 50%;z-index: -1;}#sk-container-id-1 div.sk-parallel-item {display: flex;flex-direction: column;z-index: 1;position: relative;background-color: white;}#sk-container-id-1 div.sk-parallel-item:first-child::after {align-self: flex-end;width: 50%;}#sk-container-id-1 div.sk-parallel-item:last-child::after {align-self: flex-start;width: 50%;}#sk-container-id-1 div.sk-parallel-item:only-child::after {width: 0;}#sk-container-id-1 div.sk-dashed-wrapped {border: 1px dashed gray;margin: 0 0.4em 0.5em 0.4em;box-sizing: border-box;padding-bottom: 0.4em;background-color: white;}#sk-container-id-1 div.sk-label label {font-family: monospace;font-weight: bold;display: inline-block;line-height: 1.2em;}#sk-container-id-1 div.sk-label-container {text-align: center;}#sk-container-id-1 div.sk-container {/* jupyter's `normalize.less` sets `[hidden] { display: none; }` but bootstrap.min.css set `[hidden] { display: none !important; }` so we also need the `!important` here to be able to override the default hidden behavior on the sphinx rendered scikit-learn.org. See: https://github.com/scikit-learn/scikit-learn/issues/21755 */display: inline-block !important;position: relative;}#sk-container-id-1 div.sk-text-repr-fallback {display: none;}</style><div id=\"sk-container-id-1\" class=\"sk-top-container\"><div class=\"sk-text-repr-fallback\"><pre>Pipeline(steps=[(&#x27;scale&#x27;, None), (&#x27;model&#x27;, RandomForestClassifier(n_jobs=-1))])</pre><b>In a Jupyter environment, please rerun this cell to show the HTML representation or trust the notebook. <br />On GitHub, the HTML representation is unable to render, please try loading this page with nbviewer.org.</b></div><div class=\"sk-container\" hidden><div class=\"sk-item sk-dashed-wrapped\"><div class=\"sk-label-container\"><div class=\"sk-label sk-toggleable\"><input class=\"sk-toggleable__control sk-hidden--visually\" id=\"sk-estimator-id-1\" type=\"checkbox\" ><label for=\"sk-estimator-id-1\" class=\"sk-toggleable__label sk-toggleable__label-arrow\">Pipeline</label><div class=\"sk-toggleable__content\"><pre>Pipeline(steps=[(&#x27;scale&#x27;, None), (&#x27;model&#x27;, RandomForestClassifier(n_jobs=-1))])</pre></div></div></div><div class=\"sk-serial\"><div class=\"sk-item\"><div class=\"sk-estimator sk-toggleable\"><input class=\"sk-toggleable__control sk-hidden--visually\" id=\"sk-estimator-id-2\" type=\"checkbox\" ><label for=\"sk-estimator-id-2\" class=\"sk-toggleable__label sk-toggleable__label-arrow\">None</label><div class=\"sk-toggleable__content\"><pre>None</pre></div></div></div><div class=\"sk-item\"><div class=\"sk-estimator sk-toggleable\"><input class=\"sk-toggleable__control sk-hidden--visually\" id=\"sk-estimator-id-3\" type=\"checkbox\" ><label for=\"sk-estimator-id-3\" class=\"sk-toggleable__label sk-toggleable__label-arrow\">RandomForestClassifier</label><div class=\"sk-toggleable__content\"><pre>RandomForestClassifier(n_jobs=-1)</pre></div></div></div></div></div></div></div>"
      ],
      "text/plain": [
       "Pipeline(steps=[('scale', None), ('model', RandomForestClassifier(n_jobs=-1))])"
      ]
     },
     "execution_count": 27,
     "metadata": {},
     "output_type": "execute_result"
    }
   ],
   "source": [
    "model.fit(X_train, y_train.values.ravel())"
   ]
  },
  {
   "cell_type": "code",
   "execution_count": 28,
   "id": "af59f8c0",
   "metadata": {
    "execution": {
     "iopub.execute_input": "2025-07-23T14:36:41.400249Z",
     "iopub.status.busy": "2025-07-23T14:36:41.399655Z",
     "iopub.status.idle": "2025-07-23T14:36:41.409440Z",
     "shell.execute_reply": "2025-07-23T14:36:41.408232Z"
    },
    "papermill": {
     "duration": 0.086786,
     "end_time": "2025-07-23T14:36:41.411683",
     "exception": false,
     "start_time": "2025-07-23T14:36:41.324897",
     "status": "completed"
    },
    "tags": []
   },
   "outputs": [],
   "source": [
    "from fairness_multiverse.universe import predict_w_threshold"
   ]
  },
  {
   "cell_type": "code",
   "execution_count": 29,
   "id": "a7cf2e16",
   "metadata": {
    "execution": {
     "iopub.execute_input": "2025-07-23T14:36:41.503267Z",
     "iopub.status.busy": "2025-07-23T14:36:41.502810Z",
     "iopub.status.idle": "2025-07-23T14:36:43.977871Z",
     "shell.execute_reply": "2025-07-23T14:36:43.976748Z"
    },
    "papermill": {
     "duration": 2.515099,
     "end_time": "2025-07-23T14:36:43.980365",
     "exception": false,
     "start_time": "2025-07-23T14:36:41.465266",
     "status": "completed"
    },
    "tags": []
   },
   "outputs": [
    {
     "data": {
      "text/plain": [
       "0.8667707056069558"
      ]
     },
     "execution_count": 29,
     "metadata": {},
     "output_type": "execute_result"
    }
   ],
   "source": [
    "probs_test = model.predict_proba(X_test)\n",
    "\n",
    "'''\n",
    "Below code returns a boolean array (or binary 0/1 array depending on how it’s used) where each element \n",
    "is True if the probability of class 1 is greater than or equal to the threshold, and False otherwise.\n",
    "'''\n",
    "y_pred_default = predict_w_threshold(probs_test, 0.5)\n",
    "\n",
    "from sklearn.metrics import accuracy_score\n",
    "\n",
    "# Naive prediction\n",
    "accuracy_score(y_true = y_true, y_pred = y_pred_default)"
   ]
  },
  {
   "cell_type": "code",
   "execution_count": 30,
   "id": "081964c3",
   "metadata": {
    "execution": {
     "iopub.execute_input": "2025-07-23T14:36:44.067845Z",
     "iopub.status.busy": "2025-07-23T14:36:44.067326Z",
     "iopub.status.idle": "2025-07-23T14:36:46.396431Z",
     "shell.execute_reply": "2025-07-23T14:36:46.395303Z"
    },
    "papermill": {
     "duration": 2.380163,
     "end_time": "2025-07-23T14:36:46.398589",
     "exception": false,
     "start_time": "2025-07-23T14:36:44.018426",
     "status": "completed"
    },
    "tags": []
   },
   "outputs": [
    {
     "data": {
      "text/plain": [
       "array([0, 0, 0, ..., 0, 0, 0])"
      ]
     },
     "execution_count": 30,
     "metadata": {},
     "output_type": "execute_result"
    }
   ],
   "source": [
    "model.predict(X_test)"
   ]
  },
  {
   "cell_type": "markdown",
   "id": "56c9705b",
   "metadata": {
    "papermill": {
     "duration": 0.040495,
     "end_time": "2025-07-23T14:36:46.491611",
     "exception": false,
     "start_time": "2025-07-23T14:36:46.451116",
     "status": "completed"
    },
    "tags": []
   },
   "source": [
    "# Conformal Prediction"
   ]
  },
  {
   "cell_type": "code",
   "execution_count": 31,
   "id": "160ec6ff",
   "metadata": {
    "execution": {
     "iopub.execute_input": "2025-07-23T14:36:46.573021Z",
     "iopub.status.busy": "2025-07-23T14:36:46.572532Z",
     "iopub.status.idle": "2025-07-23T14:36:46.579780Z",
     "shell.execute_reply": "2025-07-23T14:36:46.578535Z"
    },
    "papermill": {
     "duration": 0.052088,
     "end_time": "2025-07-23T14:36:46.582278",
     "exception": false,
     "start_time": "2025-07-23T14:36:46.530190",
     "status": "completed"
    },
    "tags": []
   },
   "outputs": [],
   "source": [
    "# Miscoverage level for conformal prediction (10% allowed error rate => 90% target coverage)\n",
    "alpha = 0.1"
   ]
  },
  {
   "cell_type": "code",
   "execution_count": 32,
   "id": "eadf4555-3dd3-440e-8e35-f82a4ad9f855",
   "metadata": {
    "execution": {
     "iopub.execute_input": "2025-07-23T14:36:46.683991Z",
     "iopub.status.busy": "2025-07-23T14:36:46.683509Z",
     "iopub.status.idle": "2025-07-23T14:36:48.682060Z",
     "shell.execute_reply": "2025-07-23T14:36:48.680991Z"
    },
    "papermill": {
     "duration": 2.05222,
     "end_time": "2025-07-23T14:36:48.684790",
     "exception": false,
     "start_time": "2025-07-23T14:36:46.632570",
     "status": "completed"
    },
    "tags": []
   },
   "outputs": [],
   "source": [
    "probs_calib = model.predict_proba(X_calib)"
   ]
  },
  {
   "cell_type": "code",
   "execution_count": 33,
   "id": "2ed93547-6d5d-4983-9b36-1ecb300da49a",
   "metadata": {
    "execution": {
     "iopub.execute_input": "2025-07-23T14:36:48.773653Z",
     "iopub.status.busy": "2025-07-23T14:36:48.773173Z",
     "iopub.status.idle": "2025-07-23T14:36:48.781400Z",
     "shell.execute_reply": "2025-07-23T14:36:48.780145Z"
    },
    "papermill": {
     "duration": 0.053139,
     "end_time": "2025-07-23T14:36:48.783484",
     "exception": false,
     "start_time": "2025-07-23T14:36:48.730345",
     "status": "completed"
    },
    "tags": []
   },
   "outputs": [],
   "source": [
    "y_calib = y_calib.values.ravel().astype(int)"
   ]
  },
  {
   "cell_type": "code",
   "execution_count": 34,
   "id": "65d1320d-f588-4b38-9072-62af1ae97f7d",
   "metadata": {
    "execution": {
     "iopub.execute_input": "2025-07-23T14:36:48.830233Z",
     "iopub.status.busy": "2025-07-23T14:36:48.829798Z",
     "iopub.status.idle": "2025-07-23T14:36:48.838956Z",
     "shell.execute_reply": "2025-07-23T14:36:48.837686Z"
    },
    "papermill": {
     "duration": 0.03629,
     "end_time": "2025-07-23T14:36:48.843107",
     "exception": false,
     "start_time": "2025-07-23T14:36:48.806817",
     "status": "completed"
    },
    "tags": []
   },
   "outputs": [],
   "source": [
    "from fairness_multiverse.conformal import compute_nc_scores\n",
    "\n",
    "# Compute nonconformity scores on calibration set (1 - probability of true class)\n",
    "nc_scores = compute_nc_scores(probs_calib, y_calib)"
   ]
  },
  {
   "cell_type": "code",
   "execution_count": 35,
   "id": "df3b8ca3-53b7-43d5-9667-7c85da7aeda2",
   "metadata": {
    "execution": {
     "iopub.execute_input": "2025-07-23T14:36:48.888862Z",
     "iopub.status.busy": "2025-07-23T14:36:48.888415Z",
     "iopub.status.idle": "2025-07-23T14:36:48.896736Z",
     "shell.execute_reply": "2025-07-23T14:36:48.895458Z"
    },
    "papermill": {
     "duration": 0.035656,
     "end_time": "2025-07-23T14:36:48.900435",
     "exception": false,
     "start_time": "2025-07-23T14:36:48.864779",
     "status": "completed"
    },
    "tags": []
   },
   "outputs": [],
   "source": [
    "from fairness_multiverse.conformal import find_threshold\n",
    "\n",
    "# Find conformal threshold q_hat for the given alpha (split conformal method)\n",
    "q_hat = find_threshold(nc_scores, alpha)"
   ]
  },
  {
   "cell_type": "code",
   "execution_count": 36,
   "id": "4d29e6c1-0ef6-4aa4-b8fe-4fe79b0d033a",
   "metadata": {
    "execution": {
     "iopub.execute_input": "2025-07-23T14:36:48.947400Z",
     "iopub.status.busy": "2025-07-23T14:36:48.946952Z",
     "iopub.status.idle": "2025-07-23T14:36:48.955494Z",
     "shell.execute_reply": "2025-07-23T14:36:48.954327Z"
    },
    "papermill": {
     "duration": 0.036876,
     "end_time": "2025-07-23T14:36:48.960122",
     "exception": false,
     "start_time": "2025-07-23T14:36:48.923246",
     "status": "completed"
    },
    "tags": []
   },
   "outputs": [
    {
     "data": {
      "text/plain": [
       "0.65"
      ]
     },
     "execution_count": 36,
     "metadata": {},
     "output_type": "execute_result"
    }
   ],
   "source": [
    "q_hat"
   ]
  },
  {
   "cell_type": "code",
   "execution_count": 37,
   "id": "92460794-cdac-4be2-ba28-f28c0515a6fb",
   "metadata": {
    "execution": {
     "iopub.execute_input": "2025-07-23T14:36:49.016856Z",
     "iopub.status.busy": "2025-07-23T14:36:49.016392Z",
     "iopub.status.idle": "2025-07-23T14:36:53.218906Z",
     "shell.execute_reply": "2025-07-23T14:36:53.217743Z"
    },
    "papermill": {
     "duration": 4.237482,
     "end_time": "2025-07-23T14:36:53.221065",
     "exception": false,
     "start_time": "2025-07-23T14:36:48.983583",
     "status": "completed"
    },
    "tags": []
   },
   "outputs": [],
   "source": [
    "from fairness_multiverse.conformal import predict_conformal_sets\n",
    "\n",
    "# Generate prediction sets for each test example\n",
    "pred_sets = predict_conformal_sets(model, X_test, q_hat)"
   ]
  },
  {
   "cell_type": "code",
   "execution_count": 38,
   "id": "d90c9a65-e6db-4f5d-80cd-e68fb7e46829",
   "metadata": {
    "execution": {
     "iopub.execute_input": "2025-07-23T14:36:53.315951Z",
     "iopub.status.busy": "2025-07-23T14:36:53.314804Z",
     "iopub.status.idle": "2025-07-23T14:36:53.321703Z",
     "shell.execute_reply": "2025-07-23T14:36:53.320662Z"
    },
    "papermill": {
     "duration": 0.058716,
     "end_time": "2025-07-23T14:36:53.323475",
     "exception": false,
     "start_time": "2025-07-23T14:36:53.264759",
     "status": "completed"
    },
    "tags": []
   },
   "outputs": [],
   "source": [
    "y_true = y_true.squeeze()"
   ]
  },
  {
   "cell_type": "code",
   "execution_count": 39,
   "id": "3a58a54a-1e68-46b9-927a-df01f18aebc8",
   "metadata": {
    "execution": {
     "iopub.execute_input": "2025-07-23T14:36:53.411347Z",
     "iopub.status.busy": "2025-07-23T14:36:53.410876Z",
     "iopub.status.idle": "2025-07-23T14:36:56.137928Z",
     "shell.execute_reply": "2025-07-23T14:36:56.136635Z"
    },
    "papermill": {
     "duration": 2.777941,
     "end_time": "2025-07-23T14:36:56.139997",
     "exception": false,
     "start_time": "2025-07-23T14:36:53.362056",
     "status": "completed"
    },
    "tags": []
   },
   "outputs": [],
   "source": [
    "from fairness_multiverse.conformal import evaluate_sets\n",
    "\n",
    "# Evaluate coverage and average set size on test data\n",
    "metrics = evaluate_sets(pred_sets, y_true)"
   ]
  },
  {
   "cell_type": "code",
   "execution_count": 40,
   "id": "5ce0a5cb-201f-45a0-ade5-94c7f0bd6095",
   "metadata": {
    "execution": {
     "iopub.execute_input": "2025-07-23T14:36:56.255959Z",
     "iopub.status.busy": "2025-07-23T14:36:56.255396Z",
     "iopub.status.idle": "2025-07-23T14:36:56.265328Z",
     "shell.execute_reply": "2025-07-23T14:36:56.264031Z"
    },
    "papermill": {
     "duration": 0.085694,
     "end_time": "2025-07-23T14:36:56.292244",
     "exception": false,
     "start_time": "2025-07-23T14:36:56.206550",
     "status": "completed"
    },
    "tags": []
   },
   "outputs": [
    {
     "data": {
      "text/plain": [
       "{'coverage': 0.9156169880726787, 'avg_size': 1.1411771262958421}"
      ]
     },
     "execution_count": 40,
     "metadata": {},
     "output_type": "execute_result"
    }
   ],
   "source": [
    "metrics"
   ]
  },
  {
   "cell_type": "code",
   "execution_count": 41,
   "id": "9b9a838d-31c9-430b-ae14-12baee460d17",
   "metadata": {
    "execution": {
     "iopub.execute_input": "2025-07-23T14:36:56.490711Z",
     "iopub.status.busy": "2025-07-23T14:36:56.490242Z",
     "iopub.status.idle": "2025-07-23T14:36:56.500124Z",
     "shell.execute_reply": "2025-07-23T14:36:56.498799Z"
    },
    "papermill": {
     "duration": 0.105113,
     "end_time": "2025-07-23T14:36:56.501934",
     "exception": false,
     "start_time": "2025-07-23T14:36:56.396821",
     "status": "completed"
    },
    "tags": []
   },
   "outputs": [],
   "source": [
    "example_universe = universe.copy()\n",
    "universe_model = example_universe.get(\"model\")\n",
    "universe_exclude_features = example_universe.get(\"exclude_features\")\n",
    "universe_exclude_subgroups = example_universe.get(\"exclude_subgroups\")\n",
    "universe_scale = example_universe.get(\"scale\")"
   ]
  },
  {
   "cell_type": "code",
   "execution_count": 42,
   "id": "f4b6a8ac-9dc0-4245-8a91-5b3b5999c4f9",
   "metadata": {
    "execution": {
     "iopub.execute_input": "2025-07-23T14:36:56.655187Z",
     "iopub.status.busy": "2025-07-23T14:36:56.654694Z",
     "iopub.status.idle": "2025-07-23T14:36:56.662380Z",
     "shell.execute_reply": "2025-07-23T14:36:56.661186Z"
    },
    "papermill": {
     "duration": 0.077826,
     "end_time": "2025-07-23T14:36:56.664164",
     "exception": false,
     "start_time": "2025-07-23T14:36:56.586338",
     "status": "completed"
    },
    "tags": []
   },
   "outputs": [],
   "source": [
    "cp_metrics_dict = {\n",
    "    \"universe_id\": [universe_id],\n",
    "    \"universe_model\": [universe_model],\n",
    "    \"universe_exclude_features\": [universe_exclude_features],\n",
    "    \"universe_exclude_subgroups\": [universe_exclude_subgroups],\n",
    "    \"universe_scale\": [universe_scale],\n",
    "    \"q_hat\": [q_hat],\n",
    "    \"coverage\": [metrics[\"coverage\"]],\n",
    "    \"avg_size\": [metrics[\"avg_size\"]],\n",
    "}"
   ]
  },
  {
   "cell_type": "code",
   "execution_count": 43,
   "id": "908acbb1-0371-4915-85ca-3fa520d2efe2",
   "metadata": {
    "execution": {
     "iopub.execute_input": "2025-07-23T14:36:56.826782Z",
     "iopub.status.busy": "2025-07-23T14:36:56.826338Z",
     "iopub.status.idle": "2025-07-23T14:36:56.836171Z",
     "shell.execute_reply": "2025-07-23T14:36:56.834910Z"
    },
    "papermill": {
     "duration": 0.121119,
     "end_time": "2025-07-23T14:36:56.848626",
     "exception": false,
     "start_time": "2025-07-23T14:36:56.727507",
     "status": "completed"
    },
    "tags": []
   },
   "outputs": [
    {
     "data": {
      "text/plain": [
       "{'universe_id': ['240998e0db90607c9ab50f364189b362'],\n",
       " 'universe_model': ['rf'],\n",
       " 'universe_exclude_features': ['nationality'],\n",
       " 'universe_exclude_subgroups': ['keep-all'],\n",
       " 'universe_scale': ['do-not-scale'],\n",
       " 'q_hat': [0.65],\n",
       " 'coverage': [0.9156169880726787],\n",
       " 'avg_size': [1.1411771262958421]}"
      ]
     },
     "execution_count": 43,
     "metadata": {},
     "output_type": "execute_result"
    }
   ],
   "source": [
    "cp_metrics_dict"
   ]
  },
  {
   "cell_type": "code",
   "execution_count": 44,
   "id": "33007efc-14e9-4ec6-97ac-56a455c82265",
   "metadata": {
    "execution": {
     "iopub.execute_input": "2025-07-23T14:36:57.018875Z",
     "iopub.status.busy": "2025-07-23T14:36:57.018432Z",
     "iopub.status.idle": "2025-07-23T14:36:57.025670Z",
     "shell.execute_reply": "2025-07-23T14:36:57.024656Z"
    },
    "papermill": {
     "duration": 0.098642,
     "end_time": "2025-07-23T14:36:57.029194",
     "exception": false,
     "start_time": "2025-07-23T14:36:56.930552",
     "status": "completed"
    },
    "tags": []
   },
   "outputs": [],
   "source": [
    "cp_metrics_df = pd.DataFrame(cp_metrics_dict)"
   ]
  },
  {
   "cell_type": "code",
   "execution_count": 45,
   "id": "db12611b-57b2-4910-b9d0-355adfd6e7bf",
   "metadata": {
    "execution": {
     "iopub.execute_input": "2025-07-23T14:36:57.178962Z",
     "iopub.status.busy": "2025-07-23T14:36:57.178484Z",
     "iopub.status.idle": "2025-07-23T14:36:57.230697Z",
     "shell.execute_reply": "2025-07-23T14:36:57.229531Z"
    },
    "papermill": {
     "duration": 0.129951,
     "end_time": "2025-07-23T14:36:57.233281",
     "exception": false,
     "start_time": "2025-07-23T14:36:57.103330",
     "status": "completed"
    },
    "tags": []
   },
   "outputs": [
    {
     "data": {
      "text/html": [
       "<div>\n",
       "<style scoped>\n",
       "    .dataframe tbody tr th:only-of-type {\n",
       "        vertical-align: middle;\n",
       "    }\n",
       "\n",
       "    .dataframe tbody tr th {\n",
       "        vertical-align: top;\n",
       "    }\n",
       "\n",
       "    .dataframe thead th {\n",
       "        text-align: right;\n",
       "    }\n",
       "</style>\n",
       "<table border=\"1\" class=\"dataframe\">\n",
       "  <thead>\n",
       "    <tr style=\"text-align: right;\">\n",
       "      <th></th>\n",
       "      <th>universe_id</th>\n",
       "      <th>universe_model</th>\n",
       "      <th>universe_exclude_features</th>\n",
       "      <th>universe_exclude_subgroups</th>\n",
       "      <th>universe_scale</th>\n",
       "      <th>q_hat</th>\n",
       "      <th>coverage</th>\n",
       "      <th>avg_size</th>\n",
       "    </tr>\n",
       "  </thead>\n",
       "  <tbody>\n",
       "    <tr>\n",
       "      <th>0</th>\n",
       "      <td>240998e0db90607c9ab50f364189b362</td>\n",
       "      <td>rf</td>\n",
       "      <td>nationality</td>\n",
       "      <td>keep-all</td>\n",
       "      <td>do-not-scale</td>\n",
       "      <td>0.65</td>\n",
       "      <td>0.915617</td>\n",
       "      <td>1.141177</td>\n",
       "    </tr>\n",
       "  </tbody>\n",
       "</table>\n",
       "</div>"
      ],
      "text/plain": [
       "                        universe_id universe_model universe_exclude_features  \\\n",
       "0  240998e0db90607c9ab50f364189b362             rf               nationality   \n",
       "\n",
       "  universe_exclude_subgroups universe_scale  q_hat  coverage  avg_size  \n",
       "0                   keep-all   do-not-scale   0.65  0.915617  1.141177  "
      ]
     },
     "execution_count": 45,
     "metadata": {},
     "output_type": "execute_result"
    }
   ],
   "source": [
    "cp_metrics_df"
   ]
  },
  {
   "cell_type": "code",
   "execution_count": 46,
   "id": "b7fbde55-a0a1-47e4-9af6-fe4a17fa8c61",
   "metadata": {
    "execution": {
     "iopub.execute_input": "2025-07-23T14:36:57.375375Z",
     "iopub.status.busy": "2025-07-23T14:36:57.374938Z",
     "iopub.status.idle": "2025-07-23T14:36:57.380472Z",
     "shell.execute_reply": "2025-07-23T14:36:57.379428Z"
    },
    "papermill": {
     "duration": 0.08157,
     "end_time": "2025-07-23T14:36:57.382810",
     "exception": false,
     "start_time": "2025-07-23T14:36:57.301240",
     "status": "completed"
    },
    "tags": []
   },
   "outputs": [],
   "source": [
    "# Conditional Coverage & looking at subgroups"
   ]
  },
  {
   "cell_type": "code",
   "execution_count": 47,
   "id": "027ae886-68dd-4141-96c7-805a5450e1ef",
   "metadata": {
    "execution": {
     "iopub.execute_input": "2025-07-23T14:36:57.552839Z",
     "iopub.status.busy": "2025-07-23T14:36:57.552387Z",
     "iopub.status.idle": "2025-07-23T14:36:58.074189Z",
     "shell.execute_reply": "2025-07-23T14:36:58.072615Z"
    },
    "papermill": {
     "duration": 0.595611,
     "end_time": "2025-07-23T14:36:58.076294",
     "exception": false,
     "start_time": "2025-07-23T14:36:57.480683",
     "status": "completed"
    },
    "tags": []
   },
   "outputs": [],
   "source": [
    "from fairness_multiverse.conformal import build_cp_groups\n",
    "\n",
    "cp_groups_df = build_cp_groups(pred_sets, y_true, X_test.index, org_test)\n",
    "#needs universe_id and setting"
   ]
  },
  {
   "cell_type": "code",
   "execution_count": 48,
   "id": "c3b92545-903e-4839-89af-0f057907d7d6",
   "metadata": {
    "execution": {
     "iopub.execute_input": "2025-07-23T14:36:58.177621Z",
     "iopub.status.busy": "2025-07-23T14:36:58.176403Z",
     "iopub.status.idle": "2025-07-23T14:37:02.114444Z",
     "shell.execute_reply": "2025-07-23T14:37:02.113055Z"
    },
    "papermill": {
     "duration": 3.986022,
     "end_time": "2025-07-23T14:37:02.116565",
     "exception": false,
     "start_time": "2025-07-23T14:36:58.130543",
     "status": "completed"
    },
    "tags": []
   },
   "outputs": [],
   "source": [
    "# Define covered = 1 if true_label is in the predicted set\n",
    "cp_groups_df['covered'] = cp_groups_df.apply(\n",
    "    lambda r: int(r['true_label'] in r['pred_set']),\n",
    "    axis=1\n",
    ")"
   ]
  },
  {
   "cell_type": "code",
   "execution_count": 49,
   "id": "338ff529-1a6b-4b87-a931-8e4788d52aad",
   "metadata": {
    "execution": {
     "iopub.execute_input": "2025-07-23T14:37:02.211433Z",
     "iopub.status.busy": "2025-07-23T14:37:02.210907Z",
     "iopub.status.idle": "2025-07-23T14:37:02.217021Z",
     "shell.execute_reply": "2025-07-23T14:37:02.215787Z"
    },
    "papermill": {
     "duration": 0.061518,
     "end_time": "2025-07-23T14:37:02.218821",
     "exception": false,
     "start_time": "2025-07-23T14:37:02.157303",
     "status": "completed"
    },
    "tags": []
   },
   "outputs": [],
   "source": [
    "#cp_groups_df"
   ]
  },
  {
   "cell_type": "code",
   "execution_count": 50,
   "id": "90032e27-66df-4540-9169-4e89cfbaa758",
   "metadata": {
    "execution": {
     "iopub.execute_input": "2025-07-23T14:37:02.308571Z",
     "iopub.status.busy": "2025-07-23T14:37:02.308046Z",
     "iopub.status.idle": "2025-07-23T14:37:02.322266Z",
     "shell.execute_reply": "2025-07-23T14:37:02.321044Z"
    },
    "papermill": {
     "duration": 0.067396,
     "end_time": "2025-07-23T14:37:02.325067",
     "exception": false,
     "start_time": "2025-07-23T14:37:02.257671",
     "status": "completed"
    },
    "tags": []
   },
   "outputs": [],
   "source": [
    "subgroups = ['frau1','nongerman','nongerman_male','nongerman_female']\n",
    "\n",
    "# Conditional coverage for subgroup==1\n",
    "cond_coverage = {\n",
    "    g: cp_groups_df.loc[cp_groups_df[g]==1, 'covered'].mean()\n",
    "    for g in subgroups\n",
    "}"
   ]
  },
  {
   "cell_type": "code",
   "execution_count": 51,
   "id": "1e348fb1-b9c3-45bc-ba23-f016827a7e0d",
   "metadata": {
    "execution": {
     "iopub.execute_input": "2025-07-23T14:37:02.375030Z",
     "iopub.status.busy": "2025-07-23T14:37:02.374518Z",
     "iopub.status.idle": "2025-07-23T14:37:02.383894Z",
     "shell.execute_reply": "2025-07-23T14:37:02.382609Z"
    },
    "papermill": {
     "duration": 0.038812,
     "end_time": "2025-07-23T14:37:02.388901",
     "exception": false,
     "start_time": "2025-07-23T14:37:02.350089",
     "status": "completed"
    },
    "tags": []
   },
   "outputs": [
    {
     "data": {
      "text/plain": [
       "{'frau1': 0.9161612077099339,\n",
       " 'nongerman': 0.9117498456183686,\n",
       " 'nongerman_male': 0.9260560208952535,\n",
       " 'nongerman_female': 0.8880774962742176}"
      ]
     },
     "execution_count": 51,
     "metadata": {},
     "output_type": "execute_result"
    }
   ],
   "source": [
    "cond_coverage"
   ]
  },
  {
   "cell_type": "code",
   "execution_count": 52,
   "id": "f5093324-c3dd-4d63-bc4c-8d945e5c8bbb",
   "metadata": {
    "execution": {
     "iopub.execute_input": "2025-07-23T14:37:02.437968Z",
     "iopub.status.busy": "2025-07-23T14:37:02.437444Z",
     "iopub.status.idle": "2025-07-23T14:37:02.447191Z",
     "shell.execute_reply": "2025-07-23T14:37:02.445828Z"
    },
    "papermill": {
     "duration": 0.038659,
     "end_time": "2025-07-23T14:37:02.450863",
     "exception": false,
     "start_time": "2025-07-23T14:37:02.412204",
     "status": "completed"
    },
    "tags": []
   },
   "outputs": [],
   "source": [
    "for subgroup, cov in cond_coverage.items():\n",
    "    cp_metrics_df[f\"cov_{subgroup}\"] = cov"
   ]
  },
  {
   "cell_type": "code",
   "execution_count": 53,
   "id": "6e872e10-dbe5-49e8-b554-5030c98ff75d",
   "metadata": {
    "execution": {
     "iopub.execute_input": "2025-07-23T14:37:02.501407Z",
     "iopub.status.busy": "2025-07-23T14:37:02.500918Z",
     "iopub.status.idle": "2025-07-23T14:37:02.526637Z",
     "shell.execute_reply": "2025-07-23T14:37:02.525401Z"
    },
    "papermill": {
     "duration": 0.056456,
     "end_time": "2025-07-23T14:37:02.531826",
     "exception": false,
     "start_time": "2025-07-23T14:37:02.475370",
     "status": "completed"
    },
    "tags": []
   },
   "outputs": [
    {
     "data": {
      "text/html": [
       "<div>\n",
       "<style scoped>\n",
       "    .dataframe tbody tr th:only-of-type {\n",
       "        vertical-align: middle;\n",
       "    }\n",
       "\n",
       "    .dataframe tbody tr th {\n",
       "        vertical-align: top;\n",
       "    }\n",
       "\n",
       "    .dataframe thead th {\n",
       "        text-align: right;\n",
       "    }\n",
       "</style>\n",
       "<table border=\"1\" class=\"dataframe\">\n",
       "  <thead>\n",
       "    <tr style=\"text-align: right;\">\n",
       "      <th></th>\n",
       "      <th>universe_id</th>\n",
       "      <th>universe_model</th>\n",
       "      <th>universe_exclude_features</th>\n",
       "      <th>universe_exclude_subgroups</th>\n",
       "      <th>universe_scale</th>\n",
       "      <th>q_hat</th>\n",
       "      <th>coverage</th>\n",
       "      <th>avg_size</th>\n",
       "      <th>cov_frau1</th>\n",
       "      <th>cov_nongerman</th>\n",
       "      <th>cov_nongerman_male</th>\n",
       "      <th>cov_nongerman_female</th>\n",
       "    </tr>\n",
       "  </thead>\n",
       "  <tbody>\n",
       "    <tr>\n",
       "      <th>0</th>\n",
       "      <td>240998e0db90607c9ab50f364189b362</td>\n",
       "      <td>rf</td>\n",
       "      <td>nationality</td>\n",
       "      <td>keep-all</td>\n",
       "      <td>do-not-scale</td>\n",
       "      <td>0.65</td>\n",
       "      <td>0.915617</td>\n",
       "      <td>1.141177</td>\n",
       "      <td>0.916161</td>\n",
       "      <td>0.91175</td>\n",
       "      <td>0.926056</td>\n",
       "      <td>0.888077</td>\n",
       "    </tr>\n",
       "  </tbody>\n",
       "</table>\n",
       "</div>"
      ],
      "text/plain": [
       "                        universe_id universe_model universe_exclude_features  \\\n",
       "0  240998e0db90607c9ab50f364189b362             rf               nationality   \n",
       "\n",
       "  universe_exclude_subgroups universe_scale  q_hat  coverage  avg_size  \\\n",
       "0                   keep-all   do-not-scale   0.65  0.915617  1.141177   \n",
       "\n",
       "   cov_frau1  cov_nongerman  cov_nongerman_male  cov_nongerman_female  \n",
       "0   0.916161        0.91175            0.926056              0.888077  "
      ]
     },
     "execution_count": 53,
     "metadata": {},
     "output_type": "execute_result"
    }
   ],
   "source": [
    "cp_metrics_df"
   ]
  },
  {
   "cell_type": "markdown",
   "id": "33774451",
   "metadata": {
    "papermill": {
     "duration": 0.059937,
     "end_time": "2025-07-23T14:37:02.645097",
     "exception": false,
     "start_time": "2025-07-23T14:37:02.585160",
     "status": "completed"
    },
    "tags": []
   },
   "source": [
    "# (Fairness) Metrics"
   ]
  },
  {
   "cell_type": "code",
   "execution_count": 54,
   "id": "debc5d62",
   "metadata": {
    "execution": {
     "iopub.execute_input": "2025-07-23T14:37:02.751174Z",
     "iopub.status.busy": "2025-07-23T14:37:02.750751Z",
     "iopub.status.idle": "2025-07-23T14:37:02.798988Z",
     "shell.execute_reply": "2025-07-23T14:37:02.797877Z"
    },
    "papermill": {
     "duration": 0.10383,
     "end_time": "2025-07-23T14:37:02.800937",
     "exception": false,
     "start_time": "2025-07-23T14:37:02.697107",
     "status": "completed"
    },
    "tags": []
   },
   "outputs": [],
   "source": [
    "# do I need to include maxdeutsch1.missing?\n",
    "\n",
    "import numpy as np\n",
    "\n",
    "colname_to_bin = \"maxdeutsch1\"\n",
    "majority_value = org_train[colname_to_bin].mode()[0]\n",
    "\n",
    "org_test[\"majmin\"] = np.where(org_test[colname_to_bin] == majority_value, \"majority\", \"minority\")"
   ]
  },
  {
   "cell_type": "code",
   "execution_count": 55,
   "id": "06a50de5",
   "metadata": {
    "execution": {
     "iopub.execute_input": "2025-07-23T14:37:02.895663Z",
     "iopub.status.busy": "2025-07-23T14:37:02.895230Z",
     "iopub.status.idle": "2025-07-23T14:37:06.456876Z",
     "shell.execute_reply": "2025-07-23T14:37:06.455756Z"
    },
    "papermill": {
     "duration": 3.605823,
     "end_time": "2025-07-23T14:37:06.458994",
     "exception": false,
     "start_time": "2025-07-23T14:37:02.853171",
     "status": "completed"
    },
    "tags": []
   },
   "outputs": [],
   "source": [
    "example_universe = universe.copy()\n",
    "example_universe[\"cutoff\"] = example_universe[\"cutoff\"][0]\n",
    "example_universe[\"eval_fairness_grouping\"] = example_universe[\"eval_fairness_grouping\"][0]\n",
    "fairness_dict, metric_frame = universe_analysis.compute_metrics(\n",
    "    example_universe,\n",
    "    y_pred_prob=probs_test,\n",
    "    y_test=y_true,\n",
    "    org_test=org_test,\n",
    ")"
   ]
  },
  {
   "cell_type": "markdown",
   "id": "f95d4e02",
   "metadata": {
    "papermill": {
     "duration": 0.05516,
     "end_time": "2025-07-23T14:37:06.566805",
     "exception": false,
     "start_time": "2025-07-23T14:37:06.511645",
     "status": "completed"
    },
    "tags": []
   },
   "source": [
    "# Overall"
   ]
  },
  {
   "cell_type": "markdown",
   "id": "bdee4871",
   "metadata": {
    "papermill": {
     "duration": 0.039996,
     "end_time": "2025-07-23T14:37:06.672887",
     "exception": false,
     "start_time": "2025-07-23T14:37:06.632891",
     "status": "completed"
    },
    "tags": []
   },
   "source": [
    "Fairness\n",
    "Main fairness target: Equalized Odds. Seems to be a better fit than equal opportunity, since we're not only interested in Y = 1. Seems to be a better fit than demographic parity, since we also care about accuracy, not just equal distribution of preds.\n",
    "\n",
    "Pick column for computation of fairness metrics\n",
    "\n",
    "Performance\n",
    "Overall performance measures, most interesting in relation to the measures split by group below"
   ]
  },
  {
   "cell_type": "code",
   "execution_count": 56,
   "id": "c4e067c6",
   "metadata": {
    "execution": {
     "iopub.execute_input": "2025-07-23T14:37:06.796716Z",
     "iopub.status.busy": "2025-07-23T14:37:06.796228Z",
     "iopub.status.idle": "2025-07-23T14:37:06.809458Z",
     "shell.execute_reply": "2025-07-23T14:37:06.808315Z"
    },
    "papermill": {
     "duration": 0.094867,
     "end_time": "2025-07-23T14:37:06.811859",
     "exception": false,
     "start_time": "2025-07-23T14:37:06.716992",
     "status": "completed"
    },
    "tags": []
   },
   "outputs": [
    {
     "data": {
      "text/plain": [
       "accuracy                   0.199510\n",
       "balanced accuracy          0.531555\n",
       "f1                         0.238683\n",
       "precision                  0.135925\n",
       "false positive rate        0.915079\n",
       "false negative rate        0.021811\n",
       "selection rate             0.923175\n",
       "count                  89710.000000\n",
       "dtype: float64"
      ]
     },
     "execution_count": 56,
     "metadata": {},
     "output_type": "execute_result"
    }
   ],
   "source": [
    "metric_frame.overall"
   ]
  },
  {
   "cell_type": "markdown",
   "id": "e968fe9d",
   "metadata": {
    "papermill": {
     "duration": 0.057045,
     "end_time": "2025-07-23T14:37:06.921329",
     "exception": false,
     "start_time": "2025-07-23T14:37:06.864284",
     "status": "completed"
    },
    "tags": []
   },
   "source": [
    "By Group"
   ]
  },
  {
   "cell_type": "code",
   "execution_count": 57,
   "id": "ec325bce",
   "metadata": {
    "execution": {
     "iopub.execute_input": "2025-07-23T14:37:07.015252Z",
     "iopub.status.busy": "2025-07-23T14:37:07.014796Z",
     "iopub.status.idle": "2025-07-23T14:37:07.045791Z",
     "shell.execute_reply": "2025-07-23T14:37:07.044627Z"
    },
    "papermill": {
     "duration": 0.070833,
     "end_time": "2025-07-23T14:37:07.047719",
     "exception": false,
     "start_time": "2025-07-23T14:37:06.976886",
     "status": "completed"
    },
    "tags": []
   },
   "outputs": [
    {
     "data": {
      "text/html": [
       "<div>\n",
       "<style scoped>\n",
       "    .dataframe tbody tr th:only-of-type {\n",
       "        vertical-align: middle;\n",
       "    }\n",
       "\n",
       "    .dataframe tbody tr th {\n",
       "        vertical-align: top;\n",
       "    }\n",
       "\n",
       "    .dataframe thead th {\n",
       "        text-align: right;\n",
       "    }\n",
       "</style>\n",
       "<table border=\"1\" class=\"dataframe\">\n",
       "  <thead>\n",
       "    <tr style=\"text-align: right;\">\n",
       "      <th></th>\n",
       "      <th>accuracy</th>\n",
       "      <th>balanced accuracy</th>\n",
       "      <th>f1</th>\n",
       "      <th>precision</th>\n",
       "      <th>false positive rate</th>\n",
       "      <th>false negative rate</th>\n",
       "      <th>selection rate</th>\n",
       "      <th>count</th>\n",
       "    </tr>\n",
       "    <tr>\n",
       "      <th>majmin</th>\n",
       "      <th></th>\n",
       "      <th></th>\n",
       "      <th></th>\n",
       "      <th></th>\n",
       "      <th></th>\n",
       "      <th></th>\n",
       "      <th></th>\n",
       "      <th></th>\n",
       "    </tr>\n",
       "  </thead>\n",
       "  <tbody>\n",
       "    <tr>\n",
       "      <th>majority</th>\n",
       "      <td>0.187278</td>\n",
       "      <td>0.528057</td>\n",
       "      <td>0.243758</td>\n",
       "      <td>0.138966</td>\n",
       "      <td>0.935132</td>\n",
       "      <td>0.008753</td>\n",
       "      <td>0.942547</td>\n",
       "      <td>69170.0</td>\n",
       "    </tr>\n",
       "    <tr>\n",
       "      <th>minority</th>\n",
       "      <td>0.240701</td>\n",
       "      <td>0.539477</td>\n",
       "      <td>0.219810</td>\n",
       "      <td>0.124674</td>\n",
       "      <td>0.848833</td>\n",
       "      <td>0.072213</td>\n",
       "      <td>0.857936</td>\n",
       "      <td>20540.0</td>\n",
       "    </tr>\n",
       "  </tbody>\n",
       "</table>\n",
       "</div>"
      ],
      "text/plain": [
       "          accuracy  balanced accuracy        f1  precision  \\\n",
       "majmin                                                       \n",
       "majority  0.187278           0.528057  0.243758   0.138966   \n",
       "minority  0.240701           0.539477  0.219810   0.124674   \n",
       "\n",
       "          false positive rate  false negative rate  selection rate    count  \n",
       "majmin                                                                       \n",
       "majority             0.935132             0.008753        0.942547  69170.0  \n",
       "minority             0.848833             0.072213        0.857936  20540.0  "
      ]
     },
     "execution_count": 57,
     "metadata": {},
     "output_type": "execute_result"
    }
   ],
   "source": [
    "metric_frame.by_group"
   ]
  },
  {
   "cell_type": "code",
   "execution_count": 58,
   "id": "a9ddbe63",
   "metadata": {
    "execution": {
     "iopub.execute_input": "2025-07-23T14:37:07.159208Z",
     "iopub.status.busy": "2025-07-23T14:37:07.158770Z",
     "iopub.status.idle": "2025-07-23T14:37:10.500448Z",
     "shell.execute_reply": "2025-07-23T14:37:10.499076Z"
    },
    "papermill": {
     "duration": 3.411085,
     "end_time": "2025-07-23T14:37:10.506098",
     "exception": false,
     "start_time": "2025-07-23T14:37:07.095013",
     "status": "completed"
    },
    "tags": []
   },
   "outputs": [
    {
     "data": {
      "text/plain": [
       "array([[<Axes: title={'center': 'accuracy'}, xlabel='majmin'>,\n",
       "        <Axes: title={'center': 'balanced accuracy'}, xlabel='majmin'>,\n",
       "        <Axes: title={'center': 'f1'}, xlabel='majmin'>],\n",
       "       [<Axes: title={'center': 'precision'}, xlabel='majmin'>,\n",
       "        <Axes: title={'center': 'false positive rate'}, xlabel='majmin'>,\n",
       "        <Axes: title={'center': 'false negative rate'}, xlabel='majmin'>],\n",
       "       [<Axes: title={'center': 'selection rate'}, xlabel='majmin'>,\n",
       "        <Axes: title={'center': 'count'}, xlabel='majmin'>,\n",
       "        <Axes: xlabel='majmin'>]], dtype=object)"
      ]
     },
     "execution_count": 58,
     "metadata": {},
     "output_type": "execute_result"
    },
    {
     "data": {
      "image/png": "[encoded data removed]",
      "text/plain": [
       "<Figure size 1200x800 with 9 Axes>"
      ]
     },
     "metadata": {},
     "output_type": "display_data"
    }
   ],
   "source": [
    "# In a graphic\n",
    "metric_frame.by_group.plot.bar(\n",
    "    subplots=True,\n",
    "    layout=[3, 3],\n",
    "    legend=False,\n",
    "    figsize=[12, 8],\n",
    "    title=\"Show all metrics\",\n",
    ")"
   ]
  },
  {
   "cell_type": "markdown",
   "id": "f57a0bac",
   "metadata": {
    "papermill": {
     "duration": 0.057233,
     "end_time": "2025-07-23T14:37:10.653496",
     "exception": false,
     "start_time": "2025-07-23T14:37:10.596263",
     "status": "completed"
    },
    "tags": []
   },
   "source": [
    "# Final Output"
   ]
  },
  {
   "cell_type": "code",
   "execution_count": 59,
   "id": "96d280a3",
   "metadata": {
    "execution": {
     "iopub.execute_input": "2025-07-23T14:37:10.785762Z",
     "iopub.status.busy": "2025-07-23T14:37:10.784758Z",
     "iopub.status.idle": "2025-07-23T14:37:10.795794Z",
     "shell.execute_reply": "2025-07-23T14:37:10.794810Z"
    },
    "papermill": {
     "duration": 0.088334,
     "end_time": "2025-07-23T14:37:10.797547",
     "exception": false,
     "start_time": "2025-07-23T14:37:10.709213",
     "status": "completed"
    },
    "tags": []
   },
   "outputs": [
    {
     "data": {
      "text/plain": [
       "4"
      ]
     },
     "execution_count": 59,
     "metadata": {},
     "output_type": "execute_result"
    }
   ],
   "source": [
    "sub_universes = universe_analysis.generate_sub_universes()\n",
    "len(sub_universes)"
   ]
  },
  {
   "cell_type": "code",
   "execution_count": 60,
   "id": "92adf7ba",
   "metadata": {
    "execution": {
     "iopub.execute_input": "2025-07-23T14:37:10.907523Z",
     "iopub.status.busy": "2025-07-23T14:37:10.907011Z",
     "iopub.status.idle": "2025-07-23T14:37:10.914767Z",
     "shell.execute_reply": "2025-07-23T14:37:10.913684Z"
    },
    "papermill": {
     "duration": 0.065451,
     "end_time": "2025-07-23T14:37:10.918741",
     "exception": false,
     "start_time": "2025-07-23T14:37:10.853290",
     "status": "completed"
    },
    "tags": []
   },
   "outputs": [],
   "source": [
    "def filter_sub_universe_data(sub_universe, org_test):\n",
    "    # Keep all rows — no filtering\n",
    "    keep_rows_mask = np.ones(org_test.shape[0], dtype=bool)\n",
    "\n",
    "    print(f\"[INFO] Keeping all rows: {keep_rows_mask.sum()} rows retained.\")\n",
    "    return keep_rows_mask"
   ]
  },
  {
   "cell_type": "code",
   "execution_count": 61,
   "id": "4a759155",
   "metadata": {
    "execution": {
     "iopub.execute_input": "2025-07-23T14:37:10.976036Z",
     "iopub.status.busy": "2025-07-23T14:37:10.975577Z",
     "iopub.status.idle": "2025-07-23T14:37:26.249054Z",
     "shell.execute_reply": "2025-07-23T14:37:26.248002Z"
    },
    "papermill": {
     "duration": 15.303848,
     "end_time": "2025-07-23T14:37:26.251054",
     "exception": false,
     "start_time": "2025-07-23T14:37:10.947206",
     "status": "completed"
    },
    "tags": []
   },
   "outputs": [
    {
     "name": "stdout",
     "output_type": "stream",
     "text": [
      "Stopping execution_time clock.\n",
      "[INFO] Keeping all rows: 89710 rows retained.\n"
     ]
    },
    {
     "name": "stdout",
     "output_type": "stream",
     "text": [
      "[INFO] Keeping all rows: 89710 rows retained.\n"
     ]
    },
    {
     "name": "stdout",
     "output_type": "stream",
     "text": [
      "[INFO] Keeping all rows: 89710 rows retained.\n"
     ]
    },
    {
     "name": "stdout",
     "output_type": "stream",
     "text": [
      "[INFO] Keeping all rows: 89710 rows retained.\n"
     ]
    },
    {
     "data": {
      "text/html": [
       "<div>\n",
       "<style scoped>\n",
       "    .dataframe tbody tr th:only-of-type {\n",
       "        vertical-align: middle;\n",
       "    }\n",
       "\n",
       "    .dataframe tbody tr th {\n",
       "        vertical-align: top;\n",
       "    }\n",
       "\n",
       "    .dataframe thead th {\n",
       "        text-align: right;\n",
       "    }\n",
       "</style>\n",
       "<table border=\"1\" class=\"dataframe\">\n",
       "  <thead>\n",
       "    <tr style=\"text-align: right;\">\n",
       "      <th></th>\n",
       "      <th>run_no</th>\n",
       "      <th>universe_id</th>\n",
       "      <th>universe_settings</th>\n",
       "      <th>execution_time</th>\n",
       "      <th>test_size_n</th>\n",
       "      <th>test_size_frac</th>\n",
       "      <th>fair_main_equalized_odds_difference</th>\n",
       "      <th>fair_main_equalized_odds_ratio</th>\n",
       "      <th>fair_main_demographic_parity_difference</th>\n",
       "      <th>fair_main_demographic_parity_ratio</th>\n",
       "      <th>...</th>\n",
       "      <th>perf_grp_precision_0</th>\n",
       "      <th>perf_grp_precision_1</th>\n",
       "      <th>perf_grp_false positive rate_0</th>\n",
       "      <th>perf_grp_false positive rate_1</th>\n",
       "      <th>perf_grp_false negative rate_0</th>\n",
       "      <th>perf_grp_false negative rate_1</th>\n",
       "      <th>perf_grp_selection rate_0</th>\n",
       "      <th>perf_grp_selection rate_1</th>\n",
       "      <th>perf_grp_count_0</th>\n",
       "      <th>perf_grp_count_1</th>\n",
       "    </tr>\n",
       "  </thead>\n",
       "  <tbody>\n",
       "    <tr>\n",
       "      <th>0</th>\n",
       "      <td>9</td>\n",
       "      <td>240998e0db90607c9ab50f364189b362</td>\n",
       "      <td>{\"cutoff\": \"quantile_0.1\", \"eval_fairness_grou...</td>\n",
       "      <td>53.6749</td>\n",
       "      <td>89710</td>\n",
       "      <td>1.0</td>\n",
       "      <td>0.086299</td>\n",
       "      <td>0.907715</td>\n",
       "      <td>0.084612</td>\n",
       "      <td>0.910231</td>\n",
       "      <td>...</td>\n",
       "      <td>NaN</td>\n",
       "      <td>NaN</td>\n",
       "      <td>NaN</td>\n",
       "      <td>NaN</td>\n",
       "      <td>NaN</td>\n",
       "      <td>NaN</td>\n",
       "      <td>NaN</td>\n",
       "      <td>NaN</td>\n",
       "      <td>NaN</td>\n",
       "      <td>NaN</td>\n",
       "    </tr>\n",
       "    <tr>\n",
       "      <th>0</th>\n",
       "      <td>9</td>\n",
       "      <td>240998e0db90607c9ab50f364189b362</td>\n",
       "      <td>{\"cutoff\": \"quantile_0.1\", \"eval_fairness_grou...</td>\n",
       "      <td>53.6749</td>\n",
       "      <td>89710</td>\n",
       "      <td>1.0</td>\n",
       "      <td>0.086299</td>\n",
       "      <td>0.907715</td>\n",
       "      <td>0.084612</td>\n",
       "      <td>0.910231</td>\n",
       "      <td>...</td>\n",
       "      <td>0.124674</td>\n",
       "      <td>0.138966</td>\n",
       "      <td>0.848833</td>\n",
       "      <td>0.935132</td>\n",
       "      <td>0.072213</td>\n",
       "      <td>0.008753</td>\n",
       "      <td>0.857936</td>\n",
       "      <td>0.942547</td>\n",
       "      <td>20540.0</td>\n",
       "      <td>69170.0</td>\n",
       "    </tr>\n",
       "    <tr>\n",
       "      <th>0</th>\n",
       "      <td>9</td>\n",
       "      <td>240998e0db90607c9ab50f364189b362</td>\n",
       "      <td>{\"cutoff\": \"quantile_0.25\", \"eval_fairness_gro...</td>\n",
       "      <td>53.6749</td>\n",
       "      <td>89710</td>\n",
       "      <td>1.0</td>\n",
       "      <td>0.098483</td>\n",
       "      <td>0.884017</td>\n",
       "      <td>0.094149</td>\n",
       "      <td>0.882441</td>\n",
       "      <td>...</td>\n",
       "      <td>NaN</td>\n",
       "      <td>NaN</td>\n",
       "      <td>NaN</td>\n",
       "      <td>NaN</td>\n",
       "      <td>NaN</td>\n",
       "      <td>NaN</td>\n",
       "      <td>NaN</td>\n",
       "      <td>NaN</td>\n",
       "      <td>NaN</td>\n",
       "      <td>NaN</td>\n",
       "    </tr>\n",
       "    <tr>\n",
       "      <th>0</th>\n",
       "      <td>9</td>\n",
       "      <td>240998e0db90607c9ab50f364189b362</td>\n",
       "      <td>{\"cutoff\": \"quantile_0.25\", \"eval_fairness_gro...</td>\n",
       "      <td>53.6749</td>\n",
       "      <td>89710</td>\n",
       "      <td>1.0</td>\n",
       "      <td>0.098483</td>\n",
       "      <td>0.884017</td>\n",
       "      <td>0.094149</td>\n",
       "      <td>0.882441</td>\n",
       "      <td>...</td>\n",
       "      <td>0.141086</td>\n",
       "      <td>0.158946</td>\n",
       "      <td>0.686110</td>\n",
       "      <td>0.776129</td>\n",
       "      <td>0.135135</td>\n",
       "      <td>0.036652</td>\n",
       "      <td>0.706719</td>\n",
       "      <td>0.800867</td>\n",
       "      <td>20540.0</td>\n",
       "      <td>69170.0</td>\n",
       "    </tr>\n",
       "  </tbody>\n",
       "</table>\n",
       "<p>4 rows × 50 columns</p>\n",
       "</div>"
      ],
      "text/plain": [
       "  run_no                       universe_id  \\\n",
       "0      9  240998e0db90607c9ab50f364189b362   \n",
       "0      9  240998e0db90607c9ab50f364189b362   \n",
       "0      9  240998e0db90607c9ab50f364189b362   \n",
       "0      9  240998e0db90607c9ab50f364189b362   \n",
       "\n",
       "                                   universe_settings  execution_time  \\\n",
       "0  {\"cutoff\": \"quantile_0.1\", \"eval_fairness_grou...         53.6749   \n",
       "0  {\"cutoff\": \"quantile_0.1\", \"eval_fairness_grou...         53.6749   \n",
       "0  {\"cutoff\": \"quantile_0.25\", \"eval_fairness_gro...         53.6749   \n",
       "0  {\"cutoff\": \"quantile_0.25\", \"eval_fairness_gro...         53.6749   \n",
       "\n",
       "   test_size_n  test_size_frac  fair_main_equalized_odds_difference  \\\n",
       "0        89710             1.0                             0.086299   \n",
       "0        89710             1.0                             0.086299   \n",
       "0        89710             1.0                             0.098483   \n",
       "0        89710             1.0                             0.098483   \n",
       "\n",
       "   fair_main_equalized_odds_ratio  fair_main_demographic_parity_difference  \\\n",
       "0                        0.907715                                 0.084612   \n",
       "0                        0.907715                                 0.084612   \n",
       "0                        0.884017                                 0.094149   \n",
       "0                        0.884017                                 0.094149   \n",
       "\n",
       "   fair_main_demographic_parity_ratio  ...  perf_grp_precision_0  \\\n",
       "0                            0.910231  ...                   NaN   \n",
       "0                            0.910231  ...              0.124674   \n",
       "0                            0.882441  ...                   NaN   \n",
       "0                            0.882441  ...              0.141086   \n",
       "\n",
       "   perf_grp_precision_1  perf_grp_false positive rate_0  \\\n",
       "0                   NaN                             NaN   \n",
       "0              0.138966                        0.848833   \n",
       "0                   NaN                             NaN   \n",
       "0              0.158946                        0.686110   \n",
       "\n",
       "   perf_grp_false positive rate_1  perf_grp_false negative rate_0  \\\n",
       "0                             NaN                             NaN   \n",
       "0                        0.935132                        0.072213   \n",
       "0                             NaN                             NaN   \n",
       "0                        0.776129                        0.135135   \n",
       "\n",
       "   perf_grp_false negative rate_1  perf_grp_selection rate_0  \\\n",
       "0                             NaN                        NaN   \n",
       "0                        0.008753                   0.857936   \n",
       "0                             NaN                        NaN   \n",
       "0                        0.036652                   0.706719   \n",
       "\n",
       "   perf_grp_selection rate_1  perf_grp_count_0  perf_grp_count_1  \n",
       "0                        NaN               NaN               NaN  \n",
       "0                   0.942547           20540.0           69170.0  \n",
       "0                        NaN               NaN               NaN  \n",
       "0                   0.800867           20540.0           69170.0  \n",
       "\n",
       "[4 rows x 50 columns]"
      ]
     },
     "execution_count": 61,
     "metadata": {},
     "output_type": "execute_result"
    }
   ],
   "source": [
    "final_output = universe_analysis.generate_final_output(\n",
    "    y_pred_prob=probs_test,\n",
    "    y_test=y_true,\n",
    "    org_test=org_test,\n",
    "    filter_data=filter_sub_universe_data,\n",
    "    cp_metrics_df=cp_metrics_df,\n",
    "    save=True,\n",
    ")\n",
    "final_output"
   ]
  },
  {
   "cell_type": "code",
   "execution_count": null,
   "id": "721ff514-cb11-46f8-b6fc-50392f74b5cb",
   "metadata": {
    "papermill": {
     "duration": 0.052813,
     "end_time": "2025-07-23T14:37:26.335616",
     "exception": false,
     "start_time": "2025-07-23T14:37:26.282803",
     "status": "completed"
    },
    "tags": []
   },
   "outputs": [],
   "source": []
  }
 ],
 "metadata": {
  "celltoolbar": "Tags",
  "kernelspec": {
   "display_name": "Python (CMA Fairness)",
   "language": "python",
   "name": "cma_fair_env"
  },
  "language_info": {
   "codemirror_mode": {
    "name": "ipython",
    "version": 3
   },
   "file_extension": ".py",
   "mimetype": "text/x-python",
   "name": "python",
   "nbconvert_exporter": "python",
   "pygments_lexer": "ipython3",
   "version": "3.10.12"
  },
  "papermill": {
   "default_parameters": {},
   "duration": 76.65239,
   "end_time": "2025-07-23T14:37:28.023907",
   "environment_variables": {},
   "exception": null,
   "input_path": "universe_analysis.ipynb",
   "output_path": "output/runs/9/notebooks/m_9-240998e0db90607c9ab50f364189b362.ipynb",
   "parameters": {
    "output_dir": "output",
    "run_no": "9",
    "seed": "2023",
    "universe": "{\"cutoff\": [\"quantile_0.1\", \"quantile_0.25\"], \"eval_fairness_grouping\": [\"majority-minority\", \"nationality-all\"], \"exclude_features\": \"nationality\", \"exclude_subgroups\": \"keep-all\", \"model\": \"rf\", \"scale\": \"do-not-scale\"}",
    "universe_id": "240998e0db90607c9ab50f364189b362"
   },
   "start_time": "2025-07-23T14:36:11.371517",
   "version": "2.6.0"
  }
 },
 "nbformat": 4,
 "nbformat_minor": 5
}