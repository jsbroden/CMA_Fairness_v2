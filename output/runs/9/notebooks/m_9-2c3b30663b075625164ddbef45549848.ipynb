{
 "cells": [
  {
   "cell_type": "code",
   "execution_count": 1,
   "id": "f159f837-637b-42ba-96b5-ec9a68c44524",
   "metadata": {
    "execution": {
     "iopub.execute_input": "2025-07-23T14:41:48.228264Z",
     "iopub.status.busy": "2025-07-23T14:41:48.227554Z",
     "iopub.status.idle": "2025-07-23T14:41:48.241580Z",
     "shell.execute_reply": "2025-07-23T14:41:48.240674Z"
    },
    "papermill": {
     "duration": 0.037334,
     "end_time": "2025-07-23T14:41:48.243673",
     "exception": false,
     "start_time": "2025-07-23T14:41:48.206339",
     "status": "completed"
    },
    "tags": []
   },
   "outputs": [
    {
     "name": "stdout",
     "output_type": "stream",
     "text": [
      "/dss/dsshome1/0C/ra93lal2/cma/CMA_Fairness_v2\n"
     ]
    },
    {
     "name": "stderr",
     "output_type": "stream",
     "text": [
      "/dss/dsshome1/0C/ra93lal2/.local/share/virtualenvs/CMA_Fairness_v2-3j10GkSs/lib/python3.10/site-packages/IPython/core/magics/osm.py:393: UserWarning: This is now an optional IPython functionality, using bookmarks requires you to install the `pickleshare` library.\n",
      "  bkms = self.shell.db.get('bookmarks', {})\n",
      "/dss/dsshome1/0C/ra93lal2/.local/share/virtualenvs/CMA_Fairness_v2-3j10GkSs/lib/python3.10/site-packages/IPython/core/magics/osm.py:417: UserWarning: This is now an optional IPython functionality, setting dhist requires you to install the `pickleshare` library.\n",
      "  self.shell.db['dhist'] = compress_dhist(dhist)[-100:]\n"
     ]
    }
   ],
   "source": [
    "%cd ~/cma/CMA_Fairness_v2"
   ]
  },
  {
   "cell_type": "markdown",
   "id": "de2603b9",
   "metadata": {
    "papermill": {
     "duration": 0.023809,
     "end_time": "2025-07-23T14:41:48.290206",
     "exception": false,
     "start_time": "2025-07-23T14:41:48.266397",
     "status": "completed"
    },
    "tags": []
   },
   "source": [
    "The following cell holds the definition of our parameters, these values can be overriden by rendering the with e.g. the following command:\n",
    "\n",
    "papermill -p alpha 0.2 -p ratio 0.3 universe_analysis.ipynb output/test_run.ipynb"
   ]
  },
  {
   "cell_type": "code",
   "execution_count": 2,
   "id": "a80968a0-40bb-4fa9-85ef-2d5eefb01975",
   "metadata": {
    "execution": {
     "iopub.execute_input": "2025-07-23T14:41:48.331401Z",
     "iopub.status.busy": "2025-07-23T14:41:48.330711Z",
     "iopub.status.idle": "2025-07-23T14:41:48.336746Z",
     "shell.execute_reply": "2025-07-23T14:41:48.335749Z"
    },
    "papermill": {
     "duration": 0.025818,
     "end_time": "2025-07-23T14:41:48.338451",
     "exception": false,
     "start_time": "2025-07-23T14:41:48.312633",
     "status": "completed"
    },
    "tags": []
   },
   "outputs": [
    {
     "name": "stdout",
     "output_type": "stream",
     "text": [
      "Current working directory: /dss/dsshome1/0C/ra93lal2/cma/CMA_Fairness_v2\n"
     ]
    }
   ],
   "source": [
    "import os\n",
    "print(\"Current working directory:\", os.getcwd())"
   ]
  },
  {
   "cell_type": "code",
   "execution_count": 3,
   "id": "2dce4c03",
   "metadata": {
    "execution": {
     "iopub.execute_input": "2025-07-23T14:41:48.373068Z",
     "iopub.status.busy": "2025-07-23T14:41:48.372312Z",
     "iopub.status.idle": "2025-07-23T14:41:48.379089Z",
     "shell.execute_reply": "2025-07-23T14:41:48.378005Z"
    },
    "papermill": {
     "duration": 0.025865,
     "end_time": "2025-07-23T14:41:48.380968",
     "exception": false,
     "start_time": "2025-07-23T14:41:48.355103",
     "status": "completed"
    },
    "tags": [
     "parameters"
    ]
   },
   "outputs": [],
   "source": [
    "run_no = 0\n",
    "universe_id = \"test\"\n",
    "universe = {\n",
    "    \"scale\": \"scale\", # \"scale\", \"do-not-scale\",\n",
    "    \"model\": \"elasticnet\", # \"logreg\", \"penalized_logreg\", \"rf\", \"gbm\", \"elasticnet\"\n",
    "    \"cutoff\": [\"quantile_0.15\", \"quantile_0.30\"],\n",
    "    \"exclude_features\": \"age\", # \"none\", \"nationality\", \"sex\", \"nationality-sex\", \"age\"\n",
    "    \"exclude_subgroups\": \"keep-all\", # \"keep-all\", \"drop-non-german\"\n",
    "    #\"training_sample\": \"restricted\", # \"restricted\", \"full\"\n",
    "    \"eval_fairness_grouping\": [\"majority-minority\", \"nationality-all\"]\n",
    "}\n",
    "\n",
    "output_dir=\"./output\"\n",
    "seed=0"
   ]
  },
  {
   "cell_type": "code",
   "execution_count": 4,
   "id": "4eabaa68",
   "metadata": {
    "execution": {
     "iopub.execute_input": "2025-07-23T14:41:48.416276Z",
     "iopub.status.busy": "2025-07-23T14:41:48.415626Z",
     "iopub.status.idle": "2025-07-23T14:41:48.421208Z",
     "shell.execute_reply": "2025-07-23T14:41:48.420019Z"
    },
    "papermill": {
     "duration": 0.024985,
     "end_time": "2025-07-23T14:41:48.423011",
     "exception": false,
     "start_time": "2025-07-23T14:41:48.398026",
     "status": "completed"
    },
    "tags": [
     "injected-parameters"
    ]
   },
   "outputs": [],
   "source": [
    "# Parameters\n",
    "universe_id = \"2c3b30663b075625164ddbef45549848\"\n",
    "run_no = \"9\"\n",
    "universe = \"{\\\"cutoff\\\": [\\\"quantile_0.1\\\", \\\"quantile_0.25\\\"], \\\"eval_fairness_grouping\\\": [\\\"majority-minority\\\", \\\"nationality-all\\\"], \\\"exclude_features\\\": \\\"sex\\\", \\\"exclude_subgroups\\\": \\\"keep-all\\\", \\\"model\\\": \\\"elasticnet\\\", \\\"scale\\\": \\\"do-not-scale\\\"}\"\n",
    "output_dir = \"output\"\n",
    "seed = \"2023\"\n"
   ]
  },
  {
   "cell_type": "code",
   "execution_count": 5,
   "id": "1650acaf",
   "metadata": {
    "execution": {
     "iopub.execute_input": "2025-07-23T14:41:48.459015Z",
     "iopub.status.busy": "2025-07-23T14:41:48.458005Z",
     "iopub.status.idle": "2025-07-23T14:41:48.463284Z",
     "shell.execute_reply": "2025-07-23T14:41:48.462339Z"
    },
    "papermill": {
     "duration": 0.024513,
     "end_time": "2025-07-23T14:41:48.465040",
     "exception": false,
     "start_time": "2025-07-23T14:41:48.440527",
     "status": "completed"
    },
    "tags": []
   },
   "outputs": [],
   "source": [
    "import json\n",
    "# Parse universe into dict if it is passed as a string\n",
    "if isinstance(universe, str):\n",
    "    universe = json.loads(universe)"
   ]
  },
  {
   "cell_type": "code",
   "execution_count": 6,
   "id": "16620c48",
   "metadata": {
    "execution": {
     "iopub.execute_input": "2025-07-23T14:41:48.500350Z",
     "iopub.status.busy": "2025-07-23T14:41:48.499978Z",
     "iopub.status.idle": "2025-07-23T14:41:48.547844Z",
     "shell.execute_reply": "2025-07-23T14:41:48.546946Z"
    },
    "papermill": {
     "duration": 0.067763,
     "end_time": "2025-07-23T14:41:48.549742",
     "exception": false,
     "start_time": "2025-07-23T14:41:48.481979",
     "status": "completed"
    },
    "tags": []
   },
   "outputs": [],
   "source": [
    "# Auto-reload the custom package\n",
    "%load_ext autoreload\n",
    "%autoreload 1\n",
    "%aimport fairness_multiverse"
   ]
  },
  {
   "cell_type": "code",
   "execution_count": 7,
   "id": "01c5c9f3",
   "metadata": {
    "execution": {
     "iopub.execute_input": "2025-07-23T14:41:48.584004Z",
     "iopub.status.busy": "2025-07-23T14:41:48.583447Z",
     "iopub.status.idle": "2025-07-23T14:41:50.703906Z",
     "shell.execute_reply": "2025-07-23T14:41:50.702909Z"
    },
    "papermill": {
     "duration": 2.139484,
     "end_time": "2025-07-23T14:41:50.705967",
     "exception": false,
     "start_time": "2025-07-23T14:41:48.566483",
     "status": "completed"
    },
    "tags": []
   },
   "outputs": [],
   "source": [
    "from fairness_multiverse.universe import UniverseAnalysis\n",
    "\n",
    "universe_analysis = UniverseAnalysis(\n",
    "    run_no = run_no,\n",
    "    universe_id = universe_id,\n",
    "    universe = universe,\n",
    "    output_dir=output_dir,\n",
    ")"
   ]
  },
  {
   "cell_type": "code",
   "execution_count": 8,
   "id": "106241f5",
   "metadata": {
    "execution": {
     "iopub.execute_input": "2025-07-23T14:41:50.744217Z",
     "iopub.status.busy": "2025-07-23T14:41:50.742882Z",
     "iopub.status.idle": "2025-07-23T14:41:50.750317Z",
     "shell.execute_reply": "2025-07-23T14:41:50.749182Z"
    },
    "papermill": {
     "duration": 0.027467,
     "end_time": "2025-07-23T14:41:50.752146",
     "exception": false,
     "start_time": "2025-07-23T14:41:50.724679",
     "status": "completed"
    },
    "tags": []
   },
   "outputs": [
    {
     "name": "stdout",
     "output_type": "stream",
     "text": [
      "Using Seed: 2023\n"
     ]
    }
   ],
   "source": [
    "import numpy as np\n",
    "parsed_seed = int(seed)\n",
    "np.random.seed(parsed_seed)\n",
    "print(f\"Using Seed: {parsed_seed}\")"
   ]
  },
  {
   "cell_type": "markdown",
   "id": "e0ebdc57",
   "metadata": {
    "papermill": {
     "duration": 0.019172,
     "end_time": "2025-07-23T14:41:50.789066",
     "exception": false,
     "start_time": "2025-07-23T14:41:50.769894",
     "status": "completed"
    },
    "tags": []
   },
   "source": [
    "# Loading Data"
   ]
  },
  {
   "cell_type": "markdown",
   "id": "681925a3",
   "metadata": {
    "papermill": {
     "duration": 0.01767,
     "end_time": "2025-07-23T14:41:50.824232",
     "exception": false,
     "start_time": "2025-07-23T14:41:50.806562",
     "status": "completed"
    },
    "tags": []
   },
   "source": [
    "Load siab_train, siab_test, siab_calib and/or \n",
    "load siab_train_features, siab_train_labels"
   ]
  },
  {
   "cell_type": "code",
   "execution_count": 9,
   "id": "f0496b8a",
   "metadata": {
    "execution": {
     "iopub.execute_input": "2025-07-23T14:41:50.860288Z",
     "iopub.status.busy": "2025-07-23T14:41:50.859747Z",
     "iopub.status.idle": "2025-07-23T14:41:50.865921Z",
     "shell.execute_reply": "2025-07-23T14:41:50.864890Z"
    },
    "papermill": {
     "duration": 0.026506,
     "end_time": "2025-07-23T14:41:50.867800",
     "exception": false,
     "start_time": "2025-07-23T14:41:50.841294",
     "status": "completed"
    },
    "tags": []
   },
   "outputs": [],
   "source": [
    "# Do I need to load siab? Delete this cell?\n",
    "\n",
    "#from pathlib import Path\n",
    "#import pandas as pd\n",
    "#\n",
    "## File paths\n",
    "#raw_file = Path(\"data/raw/siab.csv\")\n",
    "#cache_file = Path(\"data/siab_cached.csv.gz\")\n",
    "#\n",
    "## Ensure cache directory exists\n",
    "#cache_file.parent.mkdir(parents=True, exist_ok=True)\n",
    "#\n",
    "## Load with simple caching\n",
    "#if cache_file.exists():\n",
    "#    print(f\"Loading SIAB data from cache: {cache_file}\")\n",
    "#    siab = pd.read_csv(cache_file, compression='gzip')\n",
    "#else:\n",
    "#    print(f\"Cache not found. Reading raw SIAB data: {raw_file}\")\n",
    "#    siab = pd.read_csv(raw_file)\n",
    "#    siab.to_csv(cache_file, index=False, compression='gzip')\n",
    "#    print(f\"Cached SIAB data to: {cache_file}\")\n",
    "#\n",
    "## Now use `siab` DataFrame as needed\n",
    "#print(siab.shape)\n"
   ]
  },
  {
   "cell_type": "code",
   "execution_count": 10,
   "id": "a0edb063",
   "metadata": {
    "execution": {
     "iopub.execute_input": "2025-07-23T14:41:50.909368Z",
     "iopub.status.busy": "2025-07-23T14:41:50.908404Z",
     "iopub.status.idle": "2025-07-23T14:41:52.189405Z",
     "shell.execute_reply": "2025-07-23T14:41:52.188304Z"
    },
    "papermill": {
     "duration": 1.304354,
     "end_time": "2025-07-23T14:41:52.191919",
     "exception": false,
     "start_time": "2025-07-23T14:41:50.887565",
     "status": "completed"
    },
    "tags": []
   },
   "outputs": [],
   "source": [
    "import pandas as pd\n",
    "\n",
    "X_train = pd.read_csv(\"./data/X_train.csv\")\n",
    "y_train = pd.read_csv(\"./data/y_train.csv\")"
   ]
  },
  {
   "cell_type": "code",
   "execution_count": 11,
   "id": "63d08085",
   "metadata": {
    "execution": {
     "iopub.execute_input": "2025-07-23T14:41:52.239184Z",
     "iopub.status.busy": "2025-07-23T14:41:52.238652Z",
     "iopub.status.idle": "2025-07-23T14:41:53.752498Z",
     "shell.execute_reply": "2025-07-23T14:41:53.751738Z"
    },
    "papermill": {
     "duration": 1.540121,
     "end_time": "2025-07-23T14:41:53.753985",
     "exception": false,
     "start_time": "2025-07-23T14:41:52.213864",
     "status": "completed"
    },
    "tags": []
   },
   "outputs": [],
   "source": [
    "X_test = pd.read_csv(\"./data/X_test.csv\")\n",
    "y_true = pd.read_csv(\"./data/y_test.csv\")"
   ]
  },
  {
   "cell_type": "code",
   "execution_count": 12,
   "id": "98a8d0fa-1d3d-4ed8-bb2c-281470e24add",
   "metadata": {
    "execution": {
     "iopub.execute_input": "2025-07-23T14:41:53.774897Z",
     "iopub.status.busy": "2025-07-23T14:41:53.774480Z",
     "iopub.status.idle": "2025-07-23T14:41:55.078318Z",
     "shell.execute_reply": "2025-07-23T14:41:55.077456Z"
    },
    "papermill": {
     "duration": 1.315951,
     "end_time": "2025-07-23T14:41:55.079855",
     "exception": false,
     "start_time": "2025-07-23T14:41:53.763904",
     "status": "completed"
    },
    "tags": []
   },
   "outputs": [],
   "source": [
    "# Calibration data for conformal\n",
    "X_calib = pd.read_csv(\"./data/X_calib.csv\")\n",
    "y_calib = pd.read_csv(\"./data/y_calib.csv\")"
   ]
  },
  {
   "cell_type": "code",
   "execution_count": 13,
   "id": "e6c733c5",
   "metadata": {
    "execution": {
     "iopub.execute_input": "2025-07-23T14:41:55.100605Z",
     "iopub.status.busy": "2025-07-23T14:41:55.099969Z",
     "iopub.status.idle": "2025-07-23T14:41:55.199911Z",
     "shell.execute_reply": "2025-07-23T14:41:55.199112Z"
    },
    "papermill": {
     "duration": 0.111721,
     "end_time": "2025-07-23T14:41:55.201553",
     "exception": false,
     "start_time": "2025-07-23T14:41:55.089832",
     "status": "completed"
    },
    "tags": []
   },
   "outputs": [],
   "source": [
    "# Auxiliary data needed downstream in the pipeline\n",
    "\n",
    "org_train = X_train.copy()\n",
    "org_test = X_test.copy()\n",
    "org_calib = X_calib.copy()"
   ]
  },
  {
   "cell_type": "markdown",
   "id": "0a4a1b33",
   "metadata": {
    "papermill": {
     "duration": 0.009254,
     "end_time": "2025-07-23T14:41:55.220822",
     "exception": false,
     "start_time": "2025-07-23T14:41:55.211568",
     "status": "completed"
    },
    "tags": []
   },
   "source": [
    "# Preprocessing Data"
   ]
  },
  {
   "cell_type": "code",
   "execution_count": 14,
   "id": "ca879031",
   "metadata": {
    "execution": {
     "iopub.execute_input": "2025-07-23T14:41:55.241545Z",
     "iopub.status.busy": "2025-07-23T14:41:55.240676Z",
     "iopub.status.idle": "2025-07-23T14:41:55.246273Z",
     "shell.execute_reply": "2025-07-23T14:41:55.245421Z"
    },
    "papermill": {
     "duration": 0.01742,
     "end_time": "2025-07-23T14:41:55.247679",
     "exception": false,
     "start_time": "2025-07-23T14:41:55.230259",
     "status": "completed"
    },
    "tags": []
   },
   "outputs": [],
   "source": [
    "# EXCLUDE PROTECTED FEATURES\n",
    "# ----------------------\n",
    "# \"exclude_features\": \"none\", # \"nationality\", \"sex\", \"nationality-sex\"\n",
    "\n",
    "excluded_features = universe[\"exclude_features\"].split(\"-\") # split, e.g.: \"nationality-sex\" -> [\"nationality\", \"sex\"]\n",
    "excluded_features_dictionary = {\n",
    "    \"nationality\": [\"maxdeutsch1\", \"maxdeutsch.Missing.\"],\n",
    "    \"sex\": [\"frau1\"],\n",
    "    \"age\": [\"age\"],\n",
    "}\n"
   ]
  },
  {
   "cell_type": "code",
   "execution_count": 15,
   "id": "b745ac60",
   "metadata": {
    "execution": {
     "iopub.execute_input": "2025-07-23T14:41:55.268976Z",
     "iopub.status.busy": "2025-07-23T14:41:55.268264Z",
     "iopub.status.idle": "2025-07-23T14:41:55.273739Z",
     "shell.execute_reply": "2025-07-23T14:41:55.272499Z"
    },
    "papermill": {
     "duration": 0.017462,
     "end_time": "2025-07-23T14:41:55.275632",
     "exception": false,
     "start_time": "2025-07-23T14:41:55.258170",
     "status": "completed"
    },
    "tags": []
   },
   "outputs": [],
   "source": [
    "# Code nice names to column names\n",
    "\n",
    "excluded_features_columns = [\n",
    "    excluded_features_dictionary[f] for f in excluded_features if len(f) > 0 and f != \"none\"\n",
    "]"
   ]
  },
  {
   "cell_type": "code",
   "execution_count": 16,
   "id": "f84f73a2",
   "metadata": {
    "execution": {
     "iopub.execute_input": "2025-07-23T14:41:55.314911Z",
     "iopub.status.busy": "2025-07-23T14:41:55.314183Z",
     "iopub.status.idle": "2025-07-23T14:41:55.321170Z",
     "shell.execute_reply": "2025-07-23T14:41:55.320033Z"
    },
    "papermill": {
     "duration": 0.028207,
     "end_time": "2025-07-23T14:41:55.322855",
     "exception": false,
     "start_time": "2025-07-23T14:41:55.294648",
     "status": "completed"
    },
    "tags": []
   },
   "outputs": [],
   "source": [
    "from utils import flatten_once\n",
    "\n",
    "excluded_features_columns = flatten_once(excluded_features_columns)"
   ]
  },
  {
   "cell_type": "code",
   "execution_count": 17,
   "id": "884dea22",
   "metadata": {
    "execution": {
     "iopub.execute_input": "2025-07-23T14:41:55.362589Z",
     "iopub.status.busy": "2025-07-23T14:41:55.361853Z",
     "iopub.status.idle": "2025-07-23T14:41:55.409656Z",
     "shell.execute_reply": "2025-07-23T14:41:55.408642Z"
    },
    "papermill": {
     "duration": 0.069536,
     "end_time": "2025-07-23T14:41:55.411602",
     "exception": false,
     "start_time": "2025-07-23T14:41:55.342066",
     "status": "completed"
    },
    "tags": []
   },
   "outputs": [
    {
     "name": "stdout",
     "output_type": "stream",
     "text": [
      "Dropping features: ['frau1']\n"
     ]
    }
   ],
   "source": [
    "if len(excluded_features_columns) > 0:\n",
    "    print(f\"Dropping features: {excluded_features_columns}\")\n",
    "    X_train.drop(excluded_features_columns, axis=1, inplace=True)"
   ]
  },
  {
   "cell_type": "code",
   "execution_count": 18,
   "id": "95ab8b16",
   "metadata": {
    "execution": {
     "iopub.execute_input": "2025-07-23T14:41:55.448369Z",
     "iopub.status.busy": "2025-07-23T14:41:55.447902Z",
     "iopub.status.idle": "2025-07-23T14:41:55.499705Z",
     "shell.execute_reply": "2025-07-23T14:41:55.498630Z"
    },
    "papermill": {
     "duration": 0.071847,
     "end_time": "2025-07-23T14:41:55.501704",
     "exception": false,
     "start_time": "2025-07-23T14:41:55.429857",
     "status": "completed"
    },
    "tags": []
   },
   "outputs": [
    {
     "name": "stdout",
     "output_type": "stream",
     "text": [
      "Dropping features: ['frau1']\n"
     ]
    }
   ],
   "source": [
    "if len(excluded_features_columns) > 0:\n",
    "    print(f\"Dropping features: {excluded_features_columns}\")\n",
    "    X_test.drop(excluded_features_columns, axis=1, inplace=True)"
   ]
  },
  {
   "cell_type": "code",
   "execution_count": 19,
   "id": "1853aaf5-fb9f-46cb-a2b5-8ea4ae2237e4",
   "metadata": {
    "execution": {
     "iopub.execute_input": "2025-07-23T14:41:55.543319Z",
     "iopub.status.busy": "2025-07-23T14:41:55.542619Z",
     "iopub.status.idle": "2025-07-23T14:41:55.595007Z",
     "shell.execute_reply": "2025-07-23T14:41:55.593860Z"
    },
    "papermill": {
     "duration": 0.075008,
     "end_time": "2025-07-23T14:41:55.597221",
     "exception": false,
     "start_time": "2025-07-23T14:41:55.522213",
     "status": "completed"
    },
    "tags": []
   },
   "outputs": [
    {
     "name": "stdout",
     "output_type": "stream",
     "text": [
      "Dropping features: ['frau1']\n"
     ]
    }
   ],
   "source": [
    "if len(excluded_features_columns) > 0:\n",
    "    print(f\"Dropping features: {excluded_features_columns}\")\n",
    "    X_calib.drop(excluded_features_columns, axis=1, inplace=True)"
   ]
  },
  {
   "cell_type": "code",
   "execution_count": 20,
   "id": "76c4dc6d",
   "metadata": {
    "execution": {
     "iopub.execute_input": "2025-07-23T14:41:55.637341Z",
     "iopub.status.busy": "2025-07-23T14:41:55.636635Z",
     "iopub.status.idle": "2025-07-23T14:41:55.642347Z",
     "shell.execute_reply": "2025-07-23T14:41:55.641356Z"
    },
    "papermill": {
     "duration": 0.026493,
     "end_time": "2025-07-23T14:41:55.644132",
     "exception": false,
     "start_time": "2025-07-23T14:41:55.617639",
     "status": "completed"
    },
    "tags": []
   },
   "outputs": [],
   "source": [
    "# EXCLUDE CERTAIN SUBGROUPS\n",
    "# ----------------------\n",
    "\n",
    "mode = universe.get(\"exclude_subgroups\", \"keep-all\") \n",
    "# Fetches the exclude_subgroups setting from the universe dict.\n",
    "# Defaults to \"keep-all\" if the key is missing."
   ]
  },
  {
   "cell_type": "code",
   "execution_count": 21,
   "id": "21994072",
   "metadata": {
    "execution": {
     "iopub.execute_input": "2025-07-23T14:41:55.687574Z",
     "iopub.status.busy": "2025-07-23T14:41:55.687083Z",
     "iopub.status.idle": "2025-07-23T14:41:55.694711Z",
     "shell.execute_reply": "2025-07-23T14:41:55.693693Z"
    },
    "papermill": {
     "duration": 0.031414,
     "end_time": "2025-07-23T14:41:55.696752",
     "exception": false,
     "start_time": "2025-07-23T14:41:55.665338",
     "status": "completed"
    },
    "tags": []
   },
   "outputs": [],
   "source": [
    "if mode == \"keep-all\":\n",
    "    keep_mask = pd.Series(True, index=org_train.index)\n",
    "\n",
    "# org_train contains the original feature columns from features_org (in Simson)\n",
    "# features_org contains unprocessed features, for me X_train at beginning ???\n",
    "# For keep-all, creates a boolean Series (keep_mask) of all True, so no rows are removed.\n",
    "\n",
    "elif mode == \"drop-non-german\":\n",
    "    keep_mask = org_train[\"maxdeutsch1\"] == 1 # ??? what about missing values?\n",
    "\n",
    "else:\n",
    "    raise ValueError(f\"Unsupported mode for exclude_subgroups: {mode}\")\n"
   ]
  },
  {
   "cell_type": "code",
   "execution_count": 22,
   "id": "71651440",
   "metadata": {
    "execution": {
     "iopub.execute_input": "2025-07-23T14:41:55.738126Z",
     "iopub.status.busy": "2025-07-23T14:41:55.737177Z",
     "iopub.status.idle": "2025-07-23T14:41:55.744550Z",
     "shell.execute_reply": "2025-07-23T14:41:55.743594Z"
    },
    "papermill": {
     "duration": 0.02956,
     "end_time": "2025-07-23T14:41:55.746253",
     "exception": false,
     "start_time": "2025-07-23T14:41:55.716693",
     "status": "completed"
    },
    "tags": []
   },
   "outputs": [],
   "source": [
    "n_drop = (~keep_mask).sum() # Calculates how many rows are set to be dropped\n",
    "if n_drop > 0:\n",
    "    pct = n_drop / len(keep_mask) * 100\n",
    "    print(f\"Dropping {n_drop} rows ({pct:.2f}%) where mode='{mode}'\")"
   ]
  },
  {
   "cell_type": "code",
   "execution_count": 23,
   "id": "5fb8eee5",
   "metadata": {
    "execution": {
     "iopub.execute_input": "2025-07-23T14:41:55.783758Z",
     "iopub.status.busy": "2025-07-23T14:41:55.783041Z",
     "iopub.status.idle": "2025-07-23T14:41:55.839055Z",
     "shell.execute_reply": "2025-07-23T14:41:55.838007Z"
    },
    "papermill": {
     "duration": 0.07656,
     "end_time": "2025-07-23T14:41:55.841022",
     "exception": false,
     "start_time": "2025-07-23T14:41:55.764462",
     "status": "completed"
    },
    "tags": []
   },
   "outputs": [],
   "source": [
    "X_train = X_train[keep_mask]"
   ]
  },
  {
   "cell_type": "code",
   "execution_count": 24,
   "id": "b202bb3a",
   "metadata": {
    "execution": {
     "iopub.execute_input": "2025-07-23T14:41:55.878765Z",
     "iopub.status.busy": "2025-07-23T14:41:55.877966Z",
     "iopub.status.idle": "2025-07-23T14:41:55.886020Z",
     "shell.execute_reply": "2025-07-23T14:41:55.885122Z"
    },
    "papermill": {
     "duration": 0.028333,
     "end_time": "2025-07-23T14:41:55.887679",
     "exception": false,
     "start_time": "2025-07-23T14:41:55.859346",
     "status": "completed"
    },
    "tags": []
   },
   "outputs": [],
   "source": [
    "y_train = y_train[keep_mask]"
   ]
  },
  {
   "cell_type": "markdown",
   "id": "493e2ac3",
   "metadata": {
    "papermill": {
     "duration": 0.017301,
     "end_time": "2025-07-23T14:41:55.923196",
     "exception": false,
     "start_time": "2025-07-23T14:41:55.905895",
     "status": "completed"
    },
    "tags": []
   },
   "source": [
    "# Model Training"
   ]
  },
  {
   "cell_type": "code",
   "execution_count": 25,
   "id": "679e1268",
   "metadata": {
    "execution": {
     "iopub.execute_input": "2025-07-23T14:41:55.961296Z",
     "iopub.status.busy": "2025-07-23T14:41:55.960375Z",
     "iopub.status.idle": "2025-07-23T14:41:56.069963Z",
     "shell.execute_reply": "2025-07-23T14:41:56.069005Z"
    },
    "papermill": {
     "duration": 0.130583,
     "end_time": "2025-07-23T14:41:56.071819",
     "exception": false,
     "start_time": "2025-07-23T14:41:55.941236",
     "status": "completed"
    },
    "tags": []
   },
   "outputs": [],
   "source": [
    "from sklearn.linear_model import LogisticRegression\n",
    "from sklearn.ensemble import GradientBoostingClassifier, RandomForestClassifier\n",
    "\n",
    "if (universe[\"model\"] == \"logreg\"):\n",
    "    model = LogisticRegression() #penalty=\"none\") #, solver=\"newton-cg\", max_iter=1) # include random_state=19 ?\n",
    "elif (universe[\"model\"] == \"penalized_logreg\"):\n",
    "    model = LogisticRegression(penalty=\"l2\", C=1.0) #, solver=\"newton-cg\", max_iter=1)\n",
    "elif (universe[\"model\"] == \"rf\"):\n",
    "    model = RandomForestClassifier(n_estimators=100, n_jobs=-1)\n",
    "elif (universe[\"model\"] == \"gbm\"):\n",
    "    model = GradientBoostingClassifier()\n",
    "elif (universe[\"model\"] == \"elasticnet\"):\n",
    "    model = LogisticRegression(penalty = 'elasticnet', solver = 'saga', l1_ratio = 0.5, max_iter=5000) # which solver to use?\n",
    "else:\n",
    "    raise \"Unsupported universe.model\""
   ]
  },
  {
   "cell_type": "code",
   "execution_count": 26,
   "id": "0cc8f744",
   "metadata": {
    "execution": {
     "iopub.execute_input": "2025-07-23T14:41:56.110753Z",
     "iopub.status.busy": "2025-07-23T14:41:56.109092Z",
     "iopub.status.idle": "2025-07-23T14:41:56.117736Z",
     "shell.execute_reply": "2025-07-23T14:41:56.116646Z"
    },
    "papermill": {
     "duration": 0.029476,
     "end_time": "2025-07-23T14:41:56.119532",
     "exception": false,
     "start_time": "2025-07-23T14:41:56.090056",
     "status": "completed"
    },
    "tags": []
   },
   "outputs": [],
   "source": [
    "import numpy as np\n",
    "from sklearn.pipeline import Pipeline\n",
    "from sklearn.preprocessing import StandardScaler\n",
    "\n",
    "model = Pipeline([\n",
    "    #(\"continuous_processor\", continuous_processor),\n",
    "    #(\"categorical_preprocessor\", categorical_preprocessor),\n",
    "    (\"scale\", StandardScaler() if universe[\"scale\"] == \"scale\" else None), \n",
    "    (\"model\", model),\n",
    "])"
   ]
  },
  {
   "cell_type": "code",
   "execution_count": 27,
   "id": "9442c04d",
   "metadata": {
    "execution": {
     "iopub.execute_input": "2025-07-23T14:41:56.157837Z",
     "iopub.status.busy": "2025-07-23T14:41:56.156967Z",
     "iopub.status.idle": "2025-07-23T14:48:16.062758Z",
     "shell.execute_reply": "2025-07-23T14:48:16.061490Z"
    },
    "papermill": {
     "duration": 379.938294,
     "end_time": "2025-07-23T14:48:16.076305",
     "exception": false,
     "start_time": "2025-07-23T14:41:56.138011",
     "status": "completed"
    },
    "tags": []
   },
   "outputs": [
    {
     "data": {
      "text/html": [
       "<style>#sk-container-id-1 {color: black;background-color: white;}#sk-container-id-1 pre{padding: 0;}#sk-container-id-1 div.sk-toggleable {background-color: white;}#sk-container-id-1 label.sk-toggleable__label {cursor: pointer;display: block;width: 100%;margin-bottom: 0;padding: 0.3em;box-sizing: border-box;text-align: center;}#sk-container-id-1 label.sk-toggleable__label-arrow:before {content: \"▸\";float: left;margin-right: 0.25em;color: #696969;}#sk-container-id-1 label.sk-toggleable__label-arrow:hover:before {color: black;}#sk-container-id-1 div.sk-estimator:hover label.sk-toggleable__label-arrow:before {color: black;}#sk-container-id-1 div.sk-toggleable__content {max-height: 0;max-width: 0;overflow: hidden;text-align: left;background-color: #f0f8ff;}#sk-container-id-1 div.sk-toggleable__content pre {margin: 0.2em;color: black;border-radius: 0.25em;background-color: #f0f8ff;}#sk-container-id-1 input.sk-toggleable__control:checked~div.sk-toggleable__content {max-height: 200px;max-width: 100%;overflow: auto;}#sk-container-id-1 input.sk-toggleable__control:checked~label.sk-toggleable__label-arrow:before {content: \"▾\";}#sk-container-id-1 div.sk-estimator input.sk-toggleable__control:checked~label.sk-toggleable__label {background-color: #d4ebff;}#sk-container-id-1 div.sk-label input.sk-toggleable__control:checked~label.sk-toggleable__label {background-color: #d4ebff;}#sk-container-id-1 input.sk-hidden--visually {border: 0;clip: rect(1px 1px 1px 1px);clip: rect(1px, 1px, 1px, 1px);height: 1px;margin: -1px;overflow: hidden;padding: 0;position: absolute;width: 1px;}#sk-container-id-1 div.sk-estimator {font-family: monospace;background-color: #f0f8ff;border: 1px dotted black;border-radius: 0.25em;box-sizing: border-box;margin-bottom: 0.5em;}#sk-container-id-1 div.sk-estimator:hover {background-color: #d4ebff;}#sk-container-id-1 div.sk-parallel-item::after {content: \"\";width: 100%;border-bottom: 1px solid gray;flex-grow: 1;}#sk-container-id-1 div.sk-label:hover label.sk-toggleable__label {background-color: #d4ebff;}#sk-container-id-1 div.sk-serial::before {content: \"\";position: absolute;border-left: 1px solid gray;box-sizing: border-box;top: 0;bottom: 0;left: 50%;z-index: 0;}#sk-container-id-1 div.sk-serial {display: flex;flex-direction: column;align-items: center;background-color: white;padding-right: 0.2em;padding-left: 0.2em;position: relative;}#sk-container-id-1 div.sk-item {position: relative;z-index: 1;}#sk-container-id-1 div.sk-parallel {display: flex;align-items: stretch;justify-content: center;background-color: white;position: relative;}#sk-container-id-1 div.sk-item::before, #sk-container-id-1 div.sk-parallel-item::before {content: \"\";position: absolute;border-left: 1px solid gray;box-sizing: border-box;top: 0;bottom: 0;left: 50%;z-index: -1;}#sk-container-id-1 div.sk-parallel-item {display: flex;flex-direction: column;z-index: 1;position: relative;background-color: white;}#sk-container-id-1 div.sk-parallel-item:first-child::after {align-self: flex-end;width: 50%;}#sk-container-id-1 div.sk-parallel-item:last-child::after {align-self: flex-start;width: 50%;}#sk-container-id-1 div.sk-parallel-item:only-child::after {width: 0;}#sk-container-id-1 div.sk-dashed-wrapped {border: 1px dashed gray;margin: 0 0.4em 0.5em 0.4em;box-sizing: border-box;padding-bottom: 0.4em;background-color: white;}#sk-container-id-1 div.sk-label label {font-family: monospace;font-weight: bold;display: inline-block;line-height: 1.2em;}#sk-container-id-1 div.sk-label-container {text-align: center;}#sk-container-id-1 div.sk-container {/* jupyter's `normalize.less` sets `[hidden] { display: none; }` but bootstrap.min.css set `[hidden] { display: none !important; }` so we also need the `!important` here to be able to override the default hidden behavior on the sphinx rendered scikit-learn.org. See: https://github.com/scikit-learn/scikit-learn/issues/21755 */display: inline-block !important;position: relative;}#sk-container-id-1 div.sk-text-repr-fallback {display: none;}</style><div id=\"sk-container-id-1\" class=\"sk-top-container\"><div class=\"sk-text-repr-fallback\"><pre>Pipeline(steps=[(&#x27;scale&#x27;, None),\n",
       "                (&#x27;model&#x27;,\n",
       "                 LogisticRegression(l1_ratio=0.5, max_iter=5000,\n",
       "                                    penalty=&#x27;elasticnet&#x27;, solver=&#x27;saga&#x27;))])</pre><b>In a Jupyter environment, please rerun this cell to show the HTML representation or trust the notebook. <br />On GitHub, the HTML representation is unable to render, please try loading this page with nbviewer.org.</b></div><div class=\"sk-container\" hidden><div class=\"sk-item sk-dashed-wrapped\"><div class=\"sk-label-container\"><div class=\"sk-label sk-toggleable\"><input class=\"sk-toggleable__control sk-hidden--visually\" id=\"sk-estimator-id-1\" type=\"checkbox\" ><label for=\"sk-estimator-id-1\" class=\"sk-toggleable__label sk-toggleable__label-arrow\">Pipeline</label><div class=\"sk-toggleable__content\"><pre>Pipeline(steps=[(&#x27;scale&#x27;, None),\n",
       "                (&#x27;model&#x27;,\n",
       "                 LogisticRegression(l1_ratio=0.5, max_iter=5000,\n",
       "                                    penalty=&#x27;elasticnet&#x27;, solver=&#x27;saga&#x27;))])</pre></div></div></div><div class=\"sk-serial\"><div class=\"sk-item\"><div class=\"sk-estimator sk-toggleable\"><input class=\"sk-toggleable__control sk-hidden--visually\" id=\"sk-estimator-id-2\" type=\"checkbox\" ><label for=\"sk-estimator-id-2\" class=\"sk-toggleable__label sk-toggleable__label-arrow\">None</label><div class=\"sk-toggleable__content\"><pre>None</pre></div></div></div><div class=\"sk-item\"><div class=\"sk-estimator sk-toggleable\"><input class=\"sk-toggleable__control sk-hidden--visually\" id=\"sk-estimator-id-3\" type=\"checkbox\" ><label for=\"sk-estimator-id-3\" class=\"sk-toggleable__label sk-toggleable__label-arrow\">LogisticRegression</label><div class=\"sk-toggleable__content\"><pre>LogisticRegression(l1_ratio=0.5, max_iter=5000, penalty=&#x27;elasticnet&#x27;,\n",
       "                   solver=&#x27;saga&#x27;)</pre></div></div></div></div></div></div></div>"
      ],
      "text/plain": [
       "Pipeline(steps=[('scale', None),\n",
       "                ('model',\n",
       "                 LogisticRegression(l1_ratio=0.5, max_iter=5000,\n",
       "                                    penalty='elasticnet', solver='saga'))])"
      ]
     },
     "execution_count": 27,
     "metadata": {},
     "output_type": "execute_result"
    }
   ],
   "source": [
    "model.fit(X_train, y_train.values.ravel())"
   ]
  },
  {
   "cell_type": "code",
   "execution_count": 28,
   "id": "af59f8c0",
   "metadata": {
    "execution": {
     "iopub.execute_input": "2025-07-23T14:48:16.099261Z",
     "iopub.status.busy": "2025-07-23T14:48:16.098574Z",
     "iopub.status.idle": "2025-07-23T14:48:16.103727Z",
     "shell.execute_reply": "2025-07-23T14:48:16.102988Z"
    },
    "papermill": {
     "duration": 0.017818,
     "end_time": "2025-07-23T14:48:16.105047",
     "exception": false,
     "start_time": "2025-07-23T14:48:16.087229",
     "status": "completed"
    },
    "tags": []
   },
   "outputs": [],
   "source": [
    "from fairness_multiverse.universe import predict_w_threshold"
   ]
  },
  {
   "cell_type": "code",
   "execution_count": 29,
   "id": "a7cf2e16",
   "metadata": {
    "execution": {
     "iopub.execute_input": "2025-07-23T14:48:16.126848Z",
     "iopub.status.busy": "2025-07-23T14:48:16.126364Z",
     "iopub.status.idle": "2025-07-23T14:48:16.330348Z",
     "shell.execute_reply": "2025-07-23T14:48:16.329571Z"
    },
    "papermill": {
     "duration": 0.216315,
     "end_time": "2025-07-23T14:48:16.331652",
     "exception": false,
     "start_time": "2025-07-23T14:48:16.115337",
     "status": "completed"
    },
    "tags": []
   },
   "outputs": [
    {
     "data": {
      "text/plain": [
       "0.8486679299966559"
      ]
     },
     "execution_count": 29,
     "metadata": {},
     "output_type": "execute_result"
    }
   ],
   "source": [
    "probs_test = model.predict_proba(X_test)\n",
    "\n",
    "'''\n",
    "Below code returns a boolean array (or binary 0/1 array depending on how it’s used) where each element \n",
    "is True if the probability of class 1 is greater than or equal to the threshold, and False otherwise.\n",
    "'''\n",
    "y_pred_default = predict_w_threshold(probs_test, 0.5)\n",
    "\n",
    "from sklearn.metrics import accuracy_score\n",
    "\n",
    "# Naive prediction\n",
    "accuracy_score(y_true = y_true, y_pred = y_pred_default)"
   ]
  },
  {
   "cell_type": "code",
   "execution_count": 30,
   "id": "081964c3",
   "metadata": {
    "execution": {
     "iopub.execute_input": "2025-07-23T14:48:16.354532Z",
     "iopub.status.busy": "2025-07-23T14:48:16.354030Z",
     "iopub.status.idle": "2025-07-23T14:48:16.431280Z",
     "shell.execute_reply": "2025-07-23T14:48:16.430333Z"
    },
    "papermill": {
     "duration": 0.090204,
     "end_time": "2025-07-23T14:48:16.432836",
     "exception": false,
     "start_time": "2025-07-23T14:48:16.342632",
     "status": "completed"
    },
    "tags": []
   },
   "outputs": [
    {
     "data": {
      "text/plain": [
       "array([0, 0, 0, ..., 0, 0, 0])"
      ]
     },
     "execution_count": 30,
     "metadata": {},
     "output_type": "execute_result"
    }
   ],
   "source": [
    "model.predict(X_test)"
   ]
  },
  {
   "cell_type": "markdown",
   "id": "56c9705b",
   "metadata": {
    "papermill": {
     "duration": 0.010426,
     "end_time": "2025-07-23T14:48:16.454232",
     "exception": false,
     "start_time": "2025-07-23T14:48:16.443806",
     "status": "completed"
    },
    "tags": []
   },
   "source": [
    "# Conformal Prediction"
   ]
  },
  {
   "cell_type": "code",
   "execution_count": 31,
   "id": "160ec6ff",
   "metadata": {
    "execution": {
     "iopub.execute_input": "2025-07-23T14:48:16.476617Z",
     "iopub.status.busy": "2025-07-23T14:48:16.476074Z",
     "iopub.status.idle": "2025-07-23T14:48:16.480922Z",
     "shell.execute_reply": "2025-07-23T14:48:16.480126Z"
    },
    "papermill": {
     "duration": 0.017839,
     "end_time": "2025-07-23T14:48:16.482442",
     "exception": false,
     "start_time": "2025-07-23T14:48:16.464603",
     "status": "completed"
    },
    "tags": []
   },
   "outputs": [],
   "source": [
    "# Miscoverage level for conformal prediction (10% allowed error rate => 90% target coverage)\n",
    "alpha = 0.1"
   ]
  },
  {
   "cell_type": "code",
   "execution_count": 32,
   "id": "eadf4555-3dd3-440e-8e35-f82a4ad9f855",
   "metadata": {
    "execution": {
     "iopub.execute_input": "2025-07-23T14:48:16.505401Z",
     "iopub.status.busy": "2025-07-23T14:48:16.504696Z",
     "iopub.status.idle": "2025-07-23T14:48:16.580145Z",
     "shell.execute_reply": "2025-07-23T14:48:16.579327Z"
    },
    "papermill": {
     "duration": 0.088268,
     "end_time": "2025-07-23T14:48:16.581764",
     "exception": false,
     "start_time": "2025-07-23T14:48:16.493496",
     "status": "completed"
    },
    "tags": []
   },
   "outputs": [],
   "source": [
    "probs_calib = model.predict_proba(X_calib)"
   ]
  },
  {
   "cell_type": "code",
   "execution_count": 33,
   "id": "2ed93547-6d5d-4983-9b36-1ecb300da49a",
   "metadata": {
    "execution": {
     "iopub.execute_input": "2025-07-23T14:48:16.605354Z",
     "iopub.status.busy": "2025-07-23T14:48:16.604550Z",
     "iopub.status.idle": "2025-07-23T14:48:16.610407Z",
     "shell.execute_reply": "2025-07-23T14:48:16.609600Z"
    },
    "papermill": {
     "duration": 0.018838,
     "end_time": "2025-07-23T14:48:16.611855",
     "exception": false,
     "start_time": "2025-07-23T14:48:16.593017",
     "status": "completed"
    },
    "tags": []
   },
   "outputs": [],
   "source": [
    "y_calib = y_calib.values.ravel().astype(int)"
   ]
  },
  {
   "cell_type": "code",
   "execution_count": 34,
   "id": "65d1320d-f588-4b38-9072-62af1ae97f7d",
   "metadata": {
    "execution": {
     "iopub.execute_input": "2025-07-23T14:48:16.635557Z",
     "iopub.status.busy": "2025-07-23T14:48:16.634861Z",
     "iopub.status.idle": "2025-07-23T14:48:16.641362Z",
     "shell.execute_reply": "2025-07-23T14:48:16.640565Z"
    },
    "papermill": {
     "duration": 0.019391,
     "end_time": "2025-07-23T14:48:16.642894",
     "exception": false,
     "start_time": "2025-07-23T14:48:16.623503",
     "status": "completed"
    },
    "tags": []
   },
   "outputs": [],
   "source": [
    "from fairness_multiverse.conformal import compute_nc_scores\n",
    "\n",
    "# Compute nonconformity scores on calibration set (1 - probability of true class)\n",
    "nc_scores = compute_nc_scores(probs_calib, y_calib)"
   ]
  },
  {
   "cell_type": "code",
   "execution_count": 35,
   "id": "df3b8ca3-53b7-43d5-9667-7c85da7aeda2",
   "metadata": {
    "execution": {
     "iopub.execute_input": "2025-07-23T14:48:16.667290Z",
     "iopub.status.busy": "2025-07-23T14:48:16.666943Z",
     "iopub.status.idle": "2025-07-23T14:48:16.672602Z",
     "shell.execute_reply": "2025-07-23T14:48:16.671814Z"
    },
    "papermill": {
     "duration": 0.018783,
     "end_time": "2025-07-23T14:48:16.674019",
     "exception": false,
     "start_time": "2025-07-23T14:48:16.655236",
     "status": "completed"
    },
    "tags": []
   },
   "outputs": [],
   "source": [
    "from fairness_multiverse.conformal import find_threshold\n",
    "\n",
    "# Find conformal threshold q_hat for the given alpha (split conformal method)\n",
    "q_hat = find_threshold(nc_scores, alpha)"
   ]
  },
  {
   "cell_type": "code",
   "execution_count": 36,
   "id": "4d29e6c1-0ef6-4aa4-b8fe-4fe79b0d033a",
   "metadata": {
    "execution": {
     "iopub.execute_input": "2025-07-23T14:48:16.697837Z",
     "iopub.status.busy": "2025-07-23T14:48:16.697491Z",
     "iopub.status.idle": "2025-07-23T14:48:16.704050Z",
     "shell.execute_reply": "2025-07-23T14:48:16.703199Z"
    },
    "papermill": {
     "duration": 0.019996,
     "end_time": "2025-07-23T14:48:16.706096",
     "exception": false,
     "start_time": "2025-07-23T14:48:16.686100",
     "status": "completed"
    },
    "tags": []
   },
   "outputs": [
    {
     "data": {
      "text/plain": [
       "0.685280044837856"
      ]
     },
     "execution_count": 36,
     "metadata": {},
     "output_type": "execute_result"
    }
   ],
   "source": [
    "q_hat"
   ]
  },
  {
   "cell_type": "code",
   "execution_count": 37,
   "id": "92460794-cdac-4be2-ba28-f28c0515a6fb",
   "metadata": {
    "execution": {
     "iopub.execute_input": "2025-07-23T14:48:16.729348Z",
     "iopub.status.busy": "2025-07-23T14:48:16.728995Z",
     "iopub.status.idle": "2025-07-23T14:48:17.265125Z",
     "shell.execute_reply": "2025-07-23T14:48:17.264297Z"
    },
    "papermill": {
     "duration": 0.549218,
     "end_time": "2025-07-23T14:48:17.266673",
     "exception": false,
     "start_time": "2025-07-23T14:48:16.717455",
     "status": "completed"
    },
    "tags": []
   },
   "outputs": [],
   "source": [
    "from fairness_multiverse.conformal import predict_conformal_sets\n",
    "\n",
    "# Generate prediction sets for each test example\n",
    "pred_sets = predict_conformal_sets(model, X_test, q_hat)"
   ]
  },
  {
   "cell_type": "code",
   "execution_count": 38,
   "id": "d90c9a65-e6db-4f5d-80cd-e68fb7e46829",
   "metadata": {
    "execution": {
     "iopub.execute_input": "2025-07-23T14:48:17.290193Z",
     "iopub.status.busy": "2025-07-23T14:48:17.289829Z",
     "iopub.status.idle": "2025-07-23T14:48:17.294739Z",
     "shell.execute_reply": "2025-07-23T14:48:17.293878Z"
    },
    "papermill": {
     "duration": 0.018129,
     "end_time": "2025-07-23T14:48:17.296279",
     "exception": false,
     "start_time": "2025-07-23T14:48:17.278150",
     "status": "completed"
    },
    "tags": []
   },
   "outputs": [],
   "source": [
    "y_true = y_true.squeeze()"
   ]
  },
  {
   "cell_type": "code",
   "execution_count": 39,
   "id": "3a58a54a-1e68-46b9-927a-df01f18aebc8",
   "metadata": {
    "execution": {
     "iopub.execute_input": "2025-07-23T14:48:17.321503Z",
     "iopub.status.busy": "2025-07-23T14:48:17.320686Z",
     "iopub.status.idle": "2025-07-23T14:48:17.870868Z",
     "shell.execute_reply": "2025-07-23T14:48:17.870053Z"
    },
    "papermill": {
     "duration": 0.5635,
     "end_time": "2025-07-23T14:48:17.872447",
     "exception": false,
     "start_time": "2025-07-23T14:48:17.308947",
     "status": "completed"
    },
    "tags": []
   },
   "outputs": [],
   "source": [
    "from fairness_multiverse.conformal import evaluate_sets\n",
    "\n",
    "# Evaluate coverage and average set size on test data\n",
    "metrics = evaluate_sets(pred_sets, y_true)"
   ]
  },
  {
   "cell_type": "code",
   "execution_count": 40,
   "id": "5ce0a5cb-201f-45a0-ade5-94c7f0bd6095",
   "metadata": {
    "execution": {
     "iopub.execute_input": "2025-07-23T14:48:17.896693Z",
     "iopub.status.busy": "2025-07-23T14:48:17.896313Z",
     "iopub.status.idle": "2025-07-23T14:48:17.902839Z",
     "shell.execute_reply": "2025-07-23T14:48:17.901789Z"
    },
    "papermill": {
     "duration": 0.020076,
     "end_time": "2025-07-23T14:48:17.904367",
     "exception": false,
     "start_time": "2025-07-23T14:48:17.884291",
     "status": "completed"
    },
    "tags": []
   },
   "outputs": [
    {
     "data": {
      "text/plain": [
       "{'coverage': 0.9064429829450451, 'avg_size': 1.13462267305763}"
      ]
     },
     "execution_count": 40,
     "metadata": {},
     "output_type": "execute_result"
    }
   ],
   "source": [
    "metrics"
   ]
  },
  {
   "cell_type": "code",
   "execution_count": 41,
   "id": "9b9a838d-31c9-430b-ae14-12baee460d17",
   "metadata": {
    "execution": {
     "iopub.execute_input": "2025-07-23T14:48:17.928718Z",
     "iopub.status.busy": "2025-07-23T14:48:17.928127Z",
     "iopub.status.idle": "2025-07-23T14:48:17.933793Z",
     "shell.execute_reply": "2025-07-23T14:48:17.933070Z"
    },
    "papermill": {
     "duration": 0.01898,
     "end_time": "2025-07-23T14:48:17.935339",
     "exception": false,
     "start_time": "2025-07-23T14:48:17.916359",
     "status": "completed"
    },
    "tags": []
   },
   "outputs": [],
   "source": [
    "example_universe = universe.copy()\n",
    "universe_model = example_universe.get(\"model\")\n",
    "universe_exclude_features = example_universe.get(\"exclude_features\")\n",
    "universe_exclude_subgroups = example_universe.get(\"exclude_subgroups\")\n",
    "universe_scale = example_universe.get(\"scale\")"
   ]
  },
  {
   "cell_type": "code",
   "execution_count": 42,
   "id": "f4b6a8ac-9dc0-4245-8a91-5b3b5999c4f9",
   "metadata": {
    "execution": {
     "iopub.execute_input": "2025-07-23T14:48:17.959564Z",
     "iopub.status.busy": "2025-07-23T14:48:17.958882Z",
     "iopub.status.idle": "2025-07-23T14:48:17.964368Z",
     "shell.execute_reply": "2025-07-23T14:48:17.963602Z"
    },
    "papermill": {
     "duration": 0.018658,
     "end_time": "2025-07-23T14:48:17.965780",
     "exception": false,
     "start_time": "2025-07-23T14:48:17.947122",
     "status": "completed"
    },
    "tags": []
   },
   "outputs": [],
   "source": [
    "cp_metrics_dict = {\n",
    "    \"universe_id\": [universe_id],\n",
    "    \"universe_model\": [universe_model],\n",
    "    \"universe_exclude_features\": [universe_exclude_features],\n",
    "    \"universe_exclude_subgroups\": [universe_exclude_subgroups],\n",
    "    \"universe_scale\": [universe_scale],\n",
    "    \"q_hat\": [q_hat],\n",
    "    \"coverage\": [metrics[\"coverage\"]],\n",
    "    \"avg_size\": [metrics[\"avg_size\"]],\n",
    "}"
   ]
  },
  {
   "cell_type": "code",
   "execution_count": 43,
   "id": "908acbb1-0371-4915-85ca-3fa520d2efe2",
   "metadata": {
    "execution": {
     "iopub.execute_input": "2025-07-23T14:48:17.990098Z",
     "iopub.status.busy": "2025-07-23T14:48:17.989759Z",
     "iopub.status.idle": "2025-07-23T14:48:17.996350Z",
     "shell.execute_reply": "2025-07-23T14:48:17.995530Z"
    },
    "papermill": {
     "duration": 0.020152,
     "end_time": "2025-07-23T14:48:17.997819",
     "exception": false,
     "start_time": "2025-07-23T14:48:17.977667",
     "status": "completed"
    },
    "tags": []
   },
   "outputs": [
    {
     "data": {
      "text/plain": [
       "{'universe_id': ['2c3b30663b075625164ddbef45549848'],\n",
       " 'universe_model': ['elasticnet'],\n",
       " 'universe_exclude_features': ['sex'],\n",
       " 'universe_exclude_subgroups': ['keep-all'],\n",
       " 'universe_scale': ['do-not-scale'],\n",
       " 'q_hat': [0.685280044837856],\n",
       " 'coverage': [0.9064429829450451],\n",
       " 'avg_size': [1.13462267305763]}"
      ]
     },
     "execution_count": 43,
     "metadata": {},
     "output_type": "execute_result"
    }
   ],
   "source": [
    "cp_metrics_dict"
   ]
  },
  {
   "cell_type": "code",
   "execution_count": 44,
   "id": "33007efc-14e9-4ec6-97ac-56a455c82265",
   "metadata": {
    "execution": {
     "iopub.execute_input": "2025-07-23T14:48:18.022248Z",
     "iopub.status.busy": "2025-07-23T14:48:18.021911Z",
     "iopub.status.idle": "2025-07-23T14:48:18.026991Z",
     "shell.execute_reply": "2025-07-23T14:48:18.026101Z"
    },
    "papermill": {
     "duration": 0.018995,
     "end_time": "2025-07-23T14:48:18.028617",
     "exception": false,
     "start_time": "2025-07-23T14:48:18.009622",
     "status": "completed"
    },
    "tags": []
   },
   "outputs": [],
   "source": [
    "cp_metrics_df = pd.DataFrame(cp_metrics_dict)"
   ]
  },
  {
   "cell_type": "code",
   "execution_count": 45,
   "id": "db12611b-57b2-4910-b9d0-355adfd6e7bf",
   "metadata": {
    "execution": {
     "iopub.execute_input": "2025-07-23T14:48:18.053771Z",
     "iopub.status.busy": "2025-07-23T14:48:18.052910Z",
     "iopub.status.idle": "2025-07-23T14:48:18.066922Z",
     "shell.execute_reply": "2025-07-23T14:48:18.066157Z"
    },
    "papermill": {
     "duration": 0.027783,
     "end_time": "2025-07-23T14:48:18.068391",
     "exception": false,
     "start_time": "2025-07-23T14:48:18.040608",
     "status": "completed"
    },
    "tags": []
   },
   "outputs": [
    {
     "data": {
      "text/html": [
       "<div>\n",
       "<style scoped>\n",
       "    .dataframe tbody tr th:only-of-type {\n",
       "        vertical-align: middle;\n",
       "    }\n",
       "\n",
       "    .dataframe tbody tr th {\n",
       "        vertical-align: top;\n",
       "    }\n",
       "\n",
       "    .dataframe thead th {\n",
       "        text-align: right;\n",
       "    }\n",
       "</style>\n",
       "<table border=\"1\" class=\"dataframe\">\n",
       "  <thead>\n",
       "    <tr style=\"text-align: right;\">\n",
       "      <th></th>\n",
       "      <th>universe_id</th>\n",
       "      <th>universe_model</th>\n",
       "      <th>universe_exclude_features</th>\n",
       "      <th>universe_exclude_subgroups</th>\n",
       "      <th>universe_scale</th>\n",
       "      <th>q_hat</th>\n",
       "      <th>coverage</th>\n",
       "      <th>avg_size</th>\n",
       "    </tr>\n",
       "  </thead>\n",
       "  <tbody>\n",
       "    <tr>\n",
       "      <th>0</th>\n",
       "      <td>2c3b30663b075625164ddbef45549848</td>\n",
       "      <td>elasticnet</td>\n",
       "      <td>sex</td>\n",
       "      <td>keep-all</td>\n",
       "      <td>do-not-scale</td>\n",
       "      <td>0.68528</td>\n",
       "      <td>0.906443</td>\n",
       "      <td>1.134623</td>\n",
       "    </tr>\n",
       "  </tbody>\n",
       "</table>\n",
       "</div>"
      ],
      "text/plain": [
       "                        universe_id universe_model universe_exclude_features  \\\n",
       "0  2c3b30663b075625164ddbef45549848     elasticnet                       sex   \n",
       "\n",
       "  universe_exclude_subgroups universe_scale    q_hat  coverage  avg_size  \n",
       "0                   keep-all   do-not-scale  0.68528  0.906443  1.134623  "
      ]
     },
     "execution_count": 45,
     "metadata": {},
     "output_type": "execute_result"
    }
   ],
   "source": [
    "cp_metrics_df"
   ]
  },
  {
   "cell_type": "code",
   "execution_count": 46,
   "id": "b7fbde55-a0a1-47e4-9af6-fe4a17fa8c61",
   "metadata": {
    "execution": {
     "iopub.execute_input": "2025-07-23T14:48:18.093193Z",
     "iopub.status.busy": "2025-07-23T14:48:18.092671Z",
     "iopub.status.idle": "2025-07-23T14:48:18.097239Z",
     "shell.execute_reply": "2025-07-23T14:48:18.096431Z"
    },
    "papermill": {
     "duration": 0.018452,
     "end_time": "2025-07-23T14:48:18.098775",
     "exception": false,
     "start_time": "2025-07-23T14:48:18.080323",
     "status": "completed"
    },
    "tags": []
   },
   "outputs": [],
   "source": [
    "# Conditional Coverage & looking at subgroups"
   ]
  },
  {
   "cell_type": "code",
   "execution_count": 47,
   "id": "027ae886-68dd-4141-96c7-805a5450e1ef",
   "metadata": {
    "execution": {
     "iopub.execute_input": "2025-07-23T14:48:18.124243Z",
     "iopub.status.busy": "2025-07-23T14:48:18.123537Z",
     "iopub.status.idle": "2025-07-23T14:48:18.308446Z",
     "shell.execute_reply": "2025-07-23T14:48:18.307622Z"
    },
    "papermill": {
     "duration": 0.198926,
     "end_time": "2025-07-23T14:48:18.310035",
     "exception": false,
     "start_time": "2025-07-23T14:48:18.111109",
     "status": "completed"
    },
    "tags": []
   },
   "outputs": [],
   "source": [
    "from fairness_multiverse.conformal import build_cp_groups\n",
    "\n",
    "cp_groups_df = build_cp_groups(pred_sets, y_true, X_test.index, org_test)\n",
    "#needs universe_id and setting"
   ]
  },
  {
   "cell_type": "code",
   "execution_count": 48,
   "id": "c3b92545-903e-4839-89af-0f057907d7d6",
   "metadata": {
    "execution": {
     "iopub.execute_input": "2025-07-23T14:48:18.335554Z",
     "iopub.status.busy": "2025-07-23T14:48:18.334775Z",
     "iopub.status.idle": "2025-07-23T14:48:19.296464Z",
     "shell.execute_reply": "2025-07-23T14:48:19.295652Z"
    },
    "papermill": {
     "duration": 0.975673,
     "end_time": "2025-07-23T14:48:19.298049",
     "exception": false,
     "start_time": "2025-07-23T14:48:18.322376",
     "status": "completed"
    },
    "tags": []
   },
   "outputs": [],
   "source": [
    "# Define covered = 1 if true_label is in the predicted set\n",
    "cp_groups_df['covered'] = cp_groups_df.apply(\n",
    "    lambda r: int(r['true_label'] in r['pred_set']),\n",
    "    axis=1\n",
    ")"
   ]
  },
  {
   "cell_type": "code",
   "execution_count": 49,
   "id": "338ff529-1a6b-4b87-a931-8e4788d52aad",
   "metadata": {
    "execution": {
     "iopub.execute_input": "2025-07-23T14:48:19.322970Z",
     "iopub.status.busy": "2025-07-23T14:48:19.322611Z",
     "iopub.status.idle": "2025-07-23T14:48:19.327455Z",
     "shell.execute_reply": "2025-07-23T14:48:19.326648Z"
    },
    "papermill": {
     "duration": 0.018534,
     "end_time": "2025-07-23T14:48:19.328862",
     "exception": false,
     "start_time": "2025-07-23T14:48:19.310328",
     "status": "completed"
    },
    "tags": []
   },
   "outputs": [],
   "source": [
    "#cp_groups_df"
   ]
  },
  {
   "cell_type": "code",
   "execution_count": 50,
   "id": "90032e27-66df-4540-9169-4e89cfbaa758",
   "metadata": {
    "execution": {
     "iopub.execute_input": "2025-07-23T14:48:19.354035Z",
     "iopub.status.busy": "2025-07-23T14:48:19.353315Z",
     "iopub.status.idle": "2025-07-23T14:48:19.362934Z",
     "shell.execute_reply": "2025-07-23T14:48:19.362118Z"
    },
    "papermill": {
     "duration": 0.023441,
     "end_time": "2025-07-23T14:48:19.364372",
     "exception": false,
     "start_time": "2025-07-23T14:48:19.340931",
     "status": "completed"
    },
    "tags": []
   },
   "outputs": [],
   "source": [
    "subgroups = ['frau1','nongerman','nongerman_male','nongerman_female']\n",
    "\n",
    "# Conditional coverage for subgroup==1\n",
    "cond_coverage = {\n",
    "    g: cp_groups_df.loc[cp_groups_df[g]==1, 'covered'].mean()\n",
    "    for g in subgroups\n",
    "}"
   ]
  },
  {
   "cell_type": "code",
   "execution_count": 51,
   "id": "1e348fb1-b9c3-45bc-ba23-f016827a7e0d",
   "metadata": {
    "execution": {
     "iopub.execute_input": "2025-07-23T14:48:19.389605Z",
     "iopub.status.busy": "2025-07-23T14:48:19.389087Z",
     "iopub.status.idle": "2025-07-23T14:48:19.396163Z",
     "shell.execute_reply": "2025-07-23T14:48:19.395374Z"
    },
    "papermill": {
     "duration": 0.021046,
     "end_time": "2025-07-23T14:48:19.397524",
     "exception": false,
     "start_time": "2025-07-23T14:48:19.376478",
     "status": "completed"
    },
    "tags": []
   },
   "outputs": [
    {
     "data": {
      "text/plain": [
       "{'frau1': 0.9055398301657905,\n",
       " 'nongerman': 0.9070903272890586,\n",
       " 'nongerman_male': 0.92227325947942,\n",
       " 'nongerman_female': 0.8819672131147541}"
      ]
     },
     "execution_count": 51,
     "metadata": {},
     "output_type": "execute_result"
    }
   ],
   "source": [
    "cond_coverage"
   ]
  },
  {
   "cell_type": "code",
   "execution_count": 52,
   "id": "f5093324-c3dd-4d63-bc4c-8d945e5c8bbb",
   "metadata": {
    "execution": {
     "iopub.execute_input": "2025-07-23T14:48:19.423286Z",
     "iopub.status.busy": "2025-07-23T14:48:19.422582Z",
     "iopub.status.idle": "2025-07-23T14:48:19.429023Z",
     "shell.execute_reply": "2025-07-23T14:48:19.428129Z"
    },
    "papermill": {
     "duration": 0.020546,
     "end_time": "2025-07-23T14:48:19.430399",
     "exception": false,
     "start_time": "2025-07-23T14:48:19.409853",
     "status": "completed"
    },
    "tags": []
   },
   "outputs": [],
   "source": [
    "for subgroup, cov in cond_coverage.items():\n",
    "    cp_metrics_df[f\"cov_{subgroup}\"] = cov"
   ]
  },
  {
   "cell_type": "code",
   "execution_count": 53,
   "id": "6e872e10-dbe5-49e8-b554-5030c98ff75d",
   "metadata": {
    "execution": {
     "iopub.execute_input": "2025-07-23T14:48:19.455919Z",
     "iopub.status.busy": "2025-07-23T14:48:19.455567Z",
     "iopub.status.idle": "2025-07-23T14:48:19.469571Z",
     "shell.execute_reply": "2025-07-23T14:48:19.468767Z"
    },
    "papermill": {
     "duration": 0.02799,
     "end_time": "2025-07-23T14:48:19.470995",
     "exception": false,
     "start_time": "2025-07-23T14:48:19.443005",
     "status": "completed"
    },
    "tags": []
   },
   "outputs": [
    {
     "data": {
      "text/html": [
       "<div>\n",
       "<style scoped>\n",
       "    .dataframe tbody tr th:only-of-type {\n",
       "        vertical-align: middle;\n",
       "    }\n",
       "\n",
       "    .dataframe tbody tr th {\n",
       "        vertical-align: top;\n",
       "    }\n",
       "\n",
       "    .dataframe thead th {\n",
       "        text-align: right;\n",
       "    }\n",
       "</style>\n",
       "<table border=\"1\" class=\"dataframe\">\n",
       "  <thead>\n",
       "    <tr style=\"text-align: right;\">\n",
       "      <th></th>\n",
       "      <th>universe_id</th>\n",
       "      <th>universe_model</th>\n",
       "      <th>universe_exclude_features</th>\n",
       "      <th>universe_exclude_subgroups</th>\n",
       "      <th>universe_scale</th>\n",
       "      <th>q_hat</th>\n",
       "      <th>coverage</th>\n",
       "      <th>avg_size</th>\n",
       "      <th>cov_frau1</th>\n",
       "      <th>cov_nongerman</th>\n",
       "      <th>cov_nongerman_male</th>\n",
       "      <th>cov_nongerman_female</th>\n",
       "    </tr>\n",
       "  </thead>\n",
       "  <tbody>\n",
       "    <tr>\n",
       "      <th>0</th>\n",
       "      <td>2c3b30663b075625164ddbef45549848</td>\n",
       "      <td>elasticnet</td>\n",
       "      <td>sex</td>\n",
       "      <td>keep-all</td>\n",
       "      <td>do-not-scale</td>\n",
       "      <td>0.68528</td>\n",
       "      <td>0.906443</td>\n",
       "      <td>1.134623</td>\n",
       "      <td>0.90554</td>\n",
       "      <td>0.90709</td>\n",
       "      <td>0.922273</td>\n",
       "      <td>0.881967</td>\n",
       "    </tr>\n",
       "  </tbody>\n",
       "</table>\n",
       "</div>"
      ],
      "text/plain": [
       "                        universe_id universe_model universe_exclude_features  \\\n",
       "0  2c3b30663b075625164ddbef45549848     elasticnet                       sex   \n",
       "\n",
       "  universe_exclude_subgroups universe_scale    q_hat  coverage  avg_size  \\\n",
       "0                   keep-all   do-not-scale  0.68528  0.906443  1.134623   \n",
       "\n",
       "   cov_frau1  cov_nongerman  cov_nongerman_male  cov_nongerman_female  \n",
       "0    0.90554        0.90709            0.922273              0.881967  "
      ]
     },
     "execution_count": 53,
     "metadata": {},
     "output_type": "execute_result"
    }
   ],
   "source": [
    "cp_metrics_df"
   ]
  },
  {
   "cell_type": "markdown",
   "id": "33774451",
   "metadata": {
    "papermill": {
     "duration": 0.01175,
     "end_time": "2025-07-23T14:48:19.495355",
     "exception": false,
     "start_time": "2025-07-23T14:48:19.483605",
     "status": "completed"
    },
    "tags": []
   },
   "source": [
    "# (Fairness) Metrics"
   ]
  },
  {
   "cell_type": "code",
   "execution_count": 54,
   "id": "debc5d62",
   "metadata": {
    "execution": {
     "iopub.execute_input": "2025-07-23T14:48:19.520344Z",
     "iopub.status.busy": "2025-07-23T14:48:19.519800Z",
     "iopub.status.idle": "2025-07-23T14:48:19.535233Z",
     "shell.execute_reply": "2025-07-23T14:48:19.534351Z"
    },
    "papermill": {
     "duration": 0.029641,
     "end_time": "2025-07-23T14:48:19.536701",
     "exception": false,
     "start_time": "2025-07-23T14:48:19.507060",
     "status": "completed"
    },
    "tags": []
   },
   "outputs": [],
   "source": [
    "# do I need to include maxdeutsch1.missing?\n",
    "\n",
    "import numpy as np\n",
    "\n",
    "colname_to_bin = \"maxdeutsch1\"\n",
    "majority_value = org_train[colname_to_bin].mode()[0]\n",
    "\n",
    "org_test[\"majmin\"] = np.where(org_test[colname_to_bin] == majority_value, \"majority\", \"minority\")"
   ]
  },
  {
   "cell_type": "code",
   "execution_count": 55,
   "id": "06a50de5",
   "metadata": {
    "execution": {
     "iopub.execute_input": "2025-07-23T14:48:19.562978Z",
     "iopub.status.busy": "2025-07-23T14:48:19.562214Z",
     "iopub.status.idle": "2025-07-23T14:48:21.171225Z",
     "shell.execute_reply": "2025-07-23T14:48:21.170353Z"
    },
    "papermill": {
     "duration": 1.623436,
     "end_time": "2025-07-23T14:48:21.172767",
     "exception": false,
     "start_time": "2025-07-23T14:48:19.549331",
     "status": "completed"
    },
    "tags": []
   },
   "outputs": [],
   "source": [
    "example_universe = universe.copy()\n",
    "example_universe[\"cutoff\"] = example_universe[\"cutoff\"][0]\n",
    "example_universe[\"eval_fairness_grouping\"] = example_universe[\"eval_fairness_grouping\"][0]\n",
    "fairness_dict, metric_frame = universe_analysis.compute_metrics(\n",
    "    example_universe,\n",
    "    y_pred_prob=probs_test,\n",
    "    y_test=y_true,\n",
    "    org_test=org_test,\n",
    ")"
   ]
  },
  {
   "cell_type": "markdown",
   "id": "f95d4e02",
   "metadata": {
    "papermill": {
     "duration": 0.011874,
     "end_time": "2025-07-23T14:48:21.197436",
     "exception": false,
     "start_time": "2025-07-23T14:48:21.185562",
     "status": "completed"
    },
    "tags": []
   },
   "source": [
    "# Overall"
   ]
  },
  {
   "cell_type": "markdown",
   "id": "bdee4871",
   "metadata": {
    "papermill": {
     "duration": 0.011966,
     "end_time": "2025-07-23T14:48:21.221229",
     "exception": false,
     "start_time": "2025-07-23T14:48:21.209263",
     "status": "completed"
    },
    "tags": []
   },
   "source": [
    "Fairness\n",
    "Main fairness target: Equalized Odds. Seems to be a better fit than equal opportunity, since we're not only interested in Y = 1. Seems to be a better fit than demographic parity, since we also care about accuracy, not just equal distribution of preds.\n",
    "\n",
    "Pick column for computation of fairness metrics\n",
    "\n",
    "Performance\n",
    "Overall performance measures, most interesting in relation to the measures split by group below"
   ]
  },
  {
   "cell_type": "code",
   "execution_count": 56,
   "id": "c4e067c6",
   "metadata": {
    "execution": {
     "iopub.execute_input": "2025-07-23T14:48:21.247108Z",
     "iopub.status.busy": "2025-07-23T14:48:21.246278Z",
     "iopub.status.idle": "2025-07-23T14:48:21.254227Z",
     "shell.execute_reply": "2025-07-23T14:48:21.253364Z"
    },
    "papermill": {
     "duration": 0.022306,
     "end_time": "2025-07-23T14:48:21.255649",
     "exception": false,
     "start_time": "2025-07-23T14:48:21.233343",
     "status": "completed"
    },
    "tags": []
   },
   "outputs": [
    {
     "data": {
      "text/plain": [
       "accuracy                   0.221391\n",
       "balanced accuracy          0.541957\n",
       "f1                         0.242805\n",
       "precision                  0.138706\n",
       "false positive rate        0.889236\n",
       "false negative rate        0.026851\n",
       "selection rate             0.900000\n",
       "count                  89710.000000\n",
       "dtype: float64"
      ]
     },
     "execution_count": 56,
     "metadata": {},
     "output_type": "execute_result"
    }
   ],
   "source": [
    "metric_frame.overall"
   ]
  },
  {
   "cell_type": "markdown",
   "id": "e968fe9d",
   "metadata": {
    "papermill": {
     "duration": 0.011842,
     "end_time": "2025-07-23T14:48:21.280318",
     "exception": false,
     "start_time": "2025-07-23T14:48:21.268476",
     "status": "completed"
    },
    "tags": []
   },
   "source": [
    "By Group"
   ]
  },
  {
   "cell_type": "code",
   "execution_count": 57,
   "id": "ec325bce",
   "metadata": {
    "execution": {
     "iopub.execute_input": "2025-07-23T14:48:21.305769Z",
     "iopub.status.busy": "2025-07-23T14:48:21.305227Z",
     "iopub.status.idle": "2025-07-23T14:48:21.318686Z",
     "shell.execute_reply": "2025-07-23T14:48:21.317899Z"
    },
    "papermill": {
     "duration": 0.027867,
     "end_time": "2025-07-23T14:48:21.320090",
     "exception": false,
     "start_time": "2025-07-23T14:48:21.292223",
     "status": "completed"
    },
    "tags": []
   },
   "outputs": [
    {
     "data": {
      "text/html": [
       "<div>\n",
       "<style scoped>\n",
       "    .dataframe tbody tr th:only-of-type {\n",
       "        vertical-align: middle;\n",
       "    }\n",
       "\n",
       "    .dataframe tbody tr th {\n",
       "        vertical-align: top;\n",
       "    }\n",
       "\n",
       "    .dataframe thead th {\n",
       "        text-align: right;\n",
       "    }\n",
       "</style>\n",
       "<table border=\"1\" class=\"dataframe\">\n",
       "  <thead>\n",
       "    <tr style=\"text-align: right;\">\n",
       "      <th></th>\n",
       "      <th>accuracy</th>\n",
       "      <th>balanced accuracy</th>\n",
       "      <th>f1</th>\n",
       "      <th>precision</th>\n",
       "      <th>false positive rate</th>\n",
       "      <th>false negative rate</th>\n",
       "      <th>selection rate</th>\n",
       "      <th>count</th>\n",
       "    </tr>\n",
       "    <tr>\n",
       "      <th>majmin</th>\n",
       "      <th></th>\n",
       "      <th></th>\n",
       "      <th></th>\n",
       "      <th></th>\n",
       "      <th></th>\n",
       "      <th></th>\n",
       "      <th></th>\n",
       "      <th></th>\n",
       "    </tr>\n",
       "  </thead>\n",
       "  <tbody>\n",
       "    <tr>\n",
       "      <th>majority</th>\n",
       "      <td>0.243950</td>\n",
       "      <td>0.551572</td>\n",
       "      <td>0.253149</td>\n",
       "      <td>0.145577</td>\n",
       "      <td>0.866550</td>\n",
       "      <td>0.030306</td>\n",
       "      <td>0.880179</td>\n",
       "      <td>69170.0</td>\n",
       "    </tr>\n",
       "    <tr>\n",
       "      <th>minority</th>\n",
       "      <td>0.145424</td>\n",
       "      <td>0.511155</td>\n",
       "      <td>0.210214</td>\n",
       "      <td>0.117641</td>\n",
       "      <td>0.964176</td>\n",
       "      <td>0.013514</td>\n",
       "      <td>0.966748</td>\n",
       "      <td>20540.0</td>\n",
       "    </tr>\n",
       "  </tbody>\n",
       "</table>\n",
       "</div>"
      ],
      "text/plain": [
       "          accuracy  balanced accuracy        f1  precision  \\\n",
       "majmin                                                       \n",
       "majority  0.243950           0.551572  0.253149   0.145577   \n",
       "minority  0.145424           0.511155  0.210214   0.117641   \n",
       "\n",
       "          false positive rate  false negative rate  selection rate    count  \n",
       "majmin                                                                       \n",
       "majority             0.866550             0.030306        0.880179  69170.0  \n",
       "minority             0.964176             0.013514        0.966748  20540.0  "
      ]
     },
     "execution_count": 57,
     "metadata": {},
     "output_type": "execute_result"
    }
   ],
   "source": [
    "metric_frame.by_group"
   ]
  },
  {
   "cell_type": "code",
   "execution_count": 58,
   "id": "a9ddbe63",
   "metadata": {
    "execution": {
     "iopub.execute_input": "2025-07-23T14:48:21.347034Z",
     "iopub.status.busy": "2025-07-23T14:48:21.346323Z",
     "iopub.status.idle": "2025-07-23T14:48:23.496964Z",
     "shell.execute_reply": "2025-07-23T14:48:23.496130Z"
    },
    "papermill": {
     "duration": 2.165035,
     "end_time": "2025-07-23T14:48:23.498287",
     "exception": false,
     "start_time": "2025-07-23T14:48:21.333252",
     "status": "completed"
    },
    "tags": []
   },
   "outputs": [
    {
     "data": {
      "text/plain": [
       "array([[<Axes: title={'center': 'accuracy'}, xlabel='majmin'>,\n",
       "        <Axes: title={'center': 'balanced accuracy'}, xlabel='majmin'>,\n",
       "        <Axes: title={'center': 'f1'}, xlabel='majmin'>],\n",
       "       [<Axes: title={'center': 'precision'}, xlabel='majmin'>,\n",
       "        <Axes: title={'center': 'false positive rate'}, xlabel='majmin'>,\n",
       "        <Axes: title={'center': 'false negative rate'}, xlabel='majmin'>],\n",
       "       [<Axes: title={'center': 'selection rate'}, xlabel='majmin'>,\n",
       "        <Axes: title={'center': 'count'}, xlabel='majmin'>,\n",
       "        <Axes: xlabel='majmin'>]], dtype=object)"
      ]
     },
     "execution_count": 58,
     "metadata": {},
     "output_type": "execute_result"
    },
    {
     "data": {
      "image/png": "[encoded data removed]",
      "text/plain": [
       "<Figure size 1200x800 with 9 Axes>"
      ]
     },
     "metadata": {},
     "output_type": "display_data"
    }
   ],
   "source": [
    "# In a graphic\n",
    "metric_frame.by_group.plot.bar(\n",
    "    subplots=True,\n",
    "    layout=[3, 3],\n",
    "    legend=False,\n",
    "    figsize=[12, 8],\n",
    "    title=\"Show all metrics\",\n",
    ")"
   ]
  },
  {
   "cell_type": "markdown",
   "id": "f57a0bac",
   "metadata": {
    "papermill": {
     "duration": 0.013239,
     "end_time": "2025-07-23T14:48:23.525707",
     "exception": false,
     "start_time": "2025-07-23T14:48:23.512468",
     "status": "completed"
    },
    "tags": []
   },
   "source": [
    "# Final Output"
   ]
  },
  {
   "cell_type": "code",
   "execution_count": 59,
   "id": "96d280a3",
   "metadata": {
    "execution": {
     "iopub.execute_input": "2025-07-23T14:48:23.554503Z",
     "iopub.status.busy": "2025-07-23T14:48:23.553548Z",
     "iopub.status.idle": "2025-07-23T14:48:23.561157Z",
     "shell.execute_reply": "2025-07-23T14:48:23.560351Z"
    },
    "papermill": {
     "duration": 0.023665,
     "end_time": "2025-07-23T14:48:23.562677",
     "exception": false,
     "start_time": "2025-07-23T14:48:23.539012",
     "status": "completed"
    },
    "tags": []
   },
   "outputs": [
    {
     "data": {
      "text/plain": [
       "4"
      ]
     },
     "execution_count": 59,
     "metadata": {},
     "output_type": "execute_result"
    }
   ],
   "source": [
    "sub_universes = universe_analysis.generate_sub_universes()\n",
    "len(sub_universes)"
   ]
  },
  {
   "cell_type": "code",
   "execution_count": 60,
   "id": "92adf7ba",
   "metadata": {
    "execution": {
     "iopub.execute_input": "2025-07-23T14:48:23.592417Z",
     "iopub.status.busy": "2025-07-23T14:48:23.591548Z",
     "iopub.status.idle": "2025-07-23T14:48:23.597381Z",
     "shell.execute_reply": "2025-07-23T14:48:23.596352Z"
    },
    "papermill": {
     "duration": 0.021872,
     "end_time": "2025-07-23T14:48:23.598864",
     "exception": false,
     "start_time": "2025-07-23T14:48:23.576992",
     "status": "completed"
    },
    "tags": []
   },
   "outputs": [],
   "source": [
    "def filter_sub_universe_data(sub_universe, org_test):\n",
    "    # Keep all rows — no filtering\n",
    "    keep_rows_mask = np.ones(org_test.shape[0], dtype=bool)\n",
    "\n",
    "    print(f\"[INFO] Keeping all rows: {keep_rows_mask.sum()} rows retained.\")\n",
    "    return keep_rows_mask"
   ]
  },
  {
   "cell_type": "code",
   "execution_count": 61,
   "id": "4a759155",
   "metadata": {
    "execution": {
     "iopub.execute_input": "2025-07-23T14:48:23.628998Z",
     "iopub.status.busy": "2025-07-23T14:48:23.628179Z",
     "iopub.status.idle": "2025-07-23T14:48:29.881093Z",
     "shell.execute_reply": "2025-07-23T14:48:29.879806Z"
    },
    "papermill": {
     "duration": 6.268866,
     "end_time": "2025-07-23T14:48:29.882475",
     "exception": false,
     "start_time": "2025-07-23T14:48:23.613609",
     "status": "completed"
    },
    "tags": []
   },
   "outputs": [
    {
     "name": "stdout",
     "output_type": "stream",
     "text": [
      "Stopping execution_time clock.\n",
      "[INFO] Keeping all rows: 89710 rows retained.\n"
     ]
    },
    {
     "name": "stdout",
     "output_type": "stream",
     "text": [
      "[INFO] Keeping all rows: 89710 rows retained.\n"
     ]
    },
    {
     "name": "stdout",
     "output_type": "stream",
     "text": [
      "[INFO] Keeping all rows: 89710 rows retained.\n"
     ]
    },
    {
     "name": "stdout",
     "output_type": "stream",
     "text": [
      "[INFO] Keeping all rows: 89710 rows retained.\n"
     ]
    },
    {
     "data": {
      "text/html": [
       "<div>\n",
       "<style scoped>\n",
       "    .dataframe tbody tr th:only-of-type {\n",
       "        vertical-align: middle;\n",
       "    }\n",
       "\n",
       "    .dataframe tbody tr th {\n",
       "        vertical-align: top;\n",
       "    }\n",
       "\n",
       "    .dataframe thead th {\n",
       "        text-align: right;\n",
       "    }\n",
       "</style>\n",
       "<table border=\"1\" class=\"dataframe\">\n",
       "  <thead>\n",
       "    <tr style=\"text-align: right;\">\n",
       "      <th></th>\n",
       "      <th>run_no</th>\n",
       "      <th>universe_id</th>\n",
       "      <th>universe_settings</th>\n",
       "      <th>execution_time</th>\n",
       "      <th>test_size_n</th>\n",
       "      <th>test_size_frac</th>\n",
       "      <th>fair_main_equalized_odds_difference</th>\n",
       "      <th>fair_main_equalized_odds_ratio</th>\n",
       "      <th>fair_main_demographic_parity_difference</th>\n",
       "      <th>fair_main_demographic_parity_ratio</th>\n",
       "      <th>...</th>\n",
       "      <th>perf_grp_precision_0</th>\n",
       "      <th>perf_grp_precision_1</th>\n",
       "      <th>perf_grp_false positive rate_0</th>\n",
       "      <th>perf_grp_false positive rate_1</th>\n",
       "      <th>perf_grp_false negative rate_0</th>\n",
       "      <th>perf_grp_false negative rate_1</th>\n",
       "      <th>perf_grp_selection rate_0</th>\n",
       "      <th>perf_grp_selection rate_1</th>\n",
       "      <th>perf_grp_count_0</th>\n",
       "      <th>perf_grp_count_1</th>\n",
       "    </tr>\n",
       "  </thead>\n",
       "  <tbody>\n",
       "    <tr>\n",
       "      <th>0</th>\n",
       "      <td>9</td>\n",
       "      <td>2c3b30663b075625164ddbef45549848</td>\n",
       "      <td>{\"cutoff\": \"quantile_0.1\", \"eval_fairness_grou...</td>\n",
       "      <td>392.99196</td>\n",
       "      <td>89710</td>\n",
       "      <td>1.0</td>\n",
       "      <td>0.097626</td>\n",
       "      <td>0.898747</td>\n",
       "      <td>0.086569</td>\n",
       "      <td>0.910454</td>\n",
       "      <td>...</td>\n",
       "      <td>NaN</td>\n",
       "      <td>NaN</td>\n",
       "      <td>NaN</td>\n",
       "      <td>NaN</td>\n",
       "      <td>NaN</td>\n",
       "      <td>NaN</td>\n",
       "      <td>NaN</td>\n",
       "      <td>NaN</td>\n",
       "      <td>NaN</td>\n",
       "      <td>NaN</td>\n",
       "    </tr>\n",
       "    <tr>\n",
       "      <th>0</th>\n",
       "      <td>9</td>\n",
       "      <td>2c3b30663b075625164ddbef45549848</td>\n",
       "      <td>{\"cutoff\": \"quantile_0.1\", \"eval_fairness_grou...</td>\n",
       "      <td>392.99196</td>\n",
       "      <td>89710</td>\n",
       "      <td>1.0</td>\n",
       "      <td>0.097626</td>\n",
       "      <td>0.898747</td>\n",
       "      <td>0.086569</td>\n",
       "      <td>0.910454</td>\n",
       "      <td>...</td>\n",
       "      <td>0.117641</td>\n",
       "      <td>0.145577</td>\n",
       "      <td>0.964176</td>\n",
       "      <td>0.866550</td>\n",
       "      <td>0.013514</td>\n",
       "      <td>0.030306</td>\n",
       "      <td>0.966748</td>\n",
       "      <td>0.880179</td>\n",
       "      <td>20540.0</td>\n",
       "      <td>69170.0</td>\n",
       "    </tr>\n",
       "    <tr>\n",
       "      <th>0</th>\n",
       "      <td>9</td>\n",
       "      <td>2c3b30663b075625164ddbef45549848</td>\n",
       "      <td>{\"cutoff\": \"quantile_0.25\", \"eval_fairness_gro...</td>\n",
       "      <td>392.99196</td>\n",
       "      <td>89710</td>\n",
       "      <td>1.0</td>\n",
       "      <td>0.195559</td>\n",
       "      <td>0.776904</td>\n",
       "      <td>0.171881</td>\n",
       "      <td>0.805238</td>\n",
       "      <td>...</td>\n",
       "      <td>NaN</td>\n",
       "      <td>NaN</td>\n",
       "      <td>NaN</td>\n",
       "      <td>NaN</td>\n",
       "      <td>NaN</td>\n",
       "      <td>NaN</td>\n",
       "      <td>NaN</td>\n",
       "      <td>NaN</td>\n",
       "      <td>NaN</td>\n",
       "      <td>NaN</td>\n",
       "    </tr>\n",
       "    <tr>\n",
       "      <th>0</th>\n",
       "      <td>9</td>\n",
       "      <td>2c3b30663b075625164ddbef45549848</td>\n",
       "      <td>{\"cutoff\": \"quantile_0.25\", \"eval_fairness_gro...</td>\n",
       "      <td>392.99196</td>\n",
       "      <td>89710</td>\n",
       "      <td>1.0</td>\n",
       "      <td>0.195559</td>\n",
       "      <td>0.776904</td>\n",
       "      <td>0.171881</td>\n",
       "      <td>0.805238</td>\n",
       "      <td>...</td>\n",
       "      <td>0.121256</td>\n",
       "      <td>0.168325</td>\n",
       "      <td>0.876568</td>\n",
       "      <td>0.681009</td>\n",
       "      <td>0.071791</td>\n",
       "      <td>0.094748</td>\n",
       "      <td>0.882522</td>\n",
       "      <td>0.710640</td>\n",
       "      <td>20540.0</td>\n",
       "      <td>69170.0</td>\n",
       "    </tr>\n",
       "  </tbody>\n",
       "</table>\n",
       "<p>4 rows × 50 columns</p>\n",
       "</div>"
      ],
      "text/plain": [
       "  run_no                       universe_id  \\\n",
       "0      9  2c3b30663b075625164ddbef45549848   \n",
       "0      9  2c3b30663b075625164ddbef45549848   \n",
       "0      9  2c3b30663b075625164ddbef45549848   \n",
       "0      9  2c3b30663b075625164ddbef45549848   \n",
       "\n",
       "                                   universe_settings  execution_time  \\\n",
       "0  {\"cutoff\": \"quantile_0.1\", \"eval_fairness_grou...       392.99196   \n",
       "0  {\"cutoff\": \"quantile_0.1\", \"eval_fairness_grou...       392.99196   \n",
       "0  {\"cutoff\": \"quantile_0.25\", \"eval_fairness_gro...       392.99196   \n",
       "0  {\"cutoff\": \"quantile_0.25\", \"eval_fairness_gro...       392.99196   \n",
       "\n",
       "   test_size_n  test_size_frac  fair_main_equalized_odds_difference  \\\n",
       "0        89710             1.0                             0.097626   \n",
       "0        89710             1.0                             0.097626   \n",
       "0        89710             1.0                             0.195559   \n",
       "0        89710             1.0                             0.195559   \n",
       "\n",
       "   fair_main_equalized_odds_ratio  fair_main_demographic_parity_difference  \\\n",
       "0                        0.898747                                 0.086569   \n",
       "0                        0.898747                                 0.086569   \n",
       "0                        0.776904                                 0.171881   \n",
       "0                        0.776904                                 0.171881   \n",
       "\n",
       "   fair_main_demographic_parity_ratio  ...  perf_grp_precision_0  \\\n",
       "0                            0.910454  ...                   NaN   \n",
       "0                            0.910454  ...              0.117641   \n",
       "0                            0.805238  ...                   NaN   \n",
       "0                            0.805238  ...              0.121256   \n",
       "\n",
       "   perf_grp_precision_1  perf_grp_false positive rate_0  \\\n",
       "0                   NaN                             NaN   \n",
       "0              0.145577                        0.964176   \n",
       "0                   NaN                             NaN   \n",
       "0              0.168325                        0.876568   \n",
       "\n",
       "   perf_grp_false positive rate_1  perf_grp_false negative rate_0  \\\n",
       "0                             NaN                             NaN   \n",
       "0                        0.866550                        0.013514   \n",
       "0                             NaN                             NaN   \n",
       "0                        0.681009                        0.071791   \n",
       "\n",
       "   perf_grp_false negative rate_1  perf_grp_selection rate_0  \\\n",
       "0                             NaN                        NaN   \n",
       "0                        0.030306                   0.966748   \n",
       "0                             NaN                        NaN   \n",
       "0                        0.094748                   0.882522   \n",
       "\n",
       "   perf_grp_selection rate_1  perf_grp_count_0  perf_grp_count_1  \n",
       "0                        NaN               NaN               NaN  \n",
       "0                   0.880179           20540.0           69170.0  \n",
       "0                        NaN               NaN               NaN  \n",
       "0                   0.710640           20540.0           69170.0  \n",
       "\n",
       "[4 rows x 50 columns]"
      ]
     },
     "execution_count": 61,
     "metadata": {},
     "output_type": "execute_result"
    }
   ],
   "source": [
    "final_output = universe_analysis.generate_final_output(\n",
    "    y_pred_prob=probs_test,\n",
    "    y_test=y_true,\n",
    "    org_test=org_test,\n",
    "    filter_data=filter_sub_universe_data,\n",
    "    cp_metrics_df=cp_metrics_df,\n",
    "    save=True,\n",
    ")\n",
    "final_output"
   ]
  },
  {
   "cell_type": "code",
   "execution_count": null,
   "id": "721ff514-cb11-46f8-b6fc-50392f74b5cb",
   "metadata": {
    "papermill": {
     "duration": 0.014504,
     "end_time": "2025-07-23T14:48:29.914669",
     "exception": false,
     "start_time": "2025-07-23T14:48:29.900165",
     "status": "completed"
    },
    "tags": []
   },
   "outputs": [],
   "source": []
  }
 ],
 "metadata": {
  "celltoolbar": "Tags",
  "kernelspec": {
   "display_name": "Python (CMA Fairness)",
   "language": "python",
   "name": "cma_fair_env"
  },
  "language_info": {
   "codemirror_mode": {
    "name": "ipython",
    "version": 3
   },
   "file_extension": ".py",
   "mimetype": "text/x-python",
   "name": "python",
   "nbconvert_exporter": "python",
   "pygments_lexer": "ipython3",
   "version": "3.10.12"
  },
  "papermill": {
   "default_parameters": {},
   "duration": 403.449282,
   "end_time": "2025-07-23T14:48:30.447103",
   "environment_variables": {},
   "exception": null,
   "input_path": "universe_analysis.ipynb",
   "output_path": "output/runs/9/notebooks/m_9-2c3b30663b075625164ddbef45549848.ipynb",
   "parameters": {
    "output_dir": "output",
    "run_no": "9",
    "seed": "2023",
    "universe": "{\"cutoff\": [\"quantile_0.1\", \"quantile_0.25\"], \"eval_fairness_grouping\": [\"majority-minority\", \"nationality-all\"], \"exclude_features\": \"sex\", \"exclude_subgroups\": \"keep-all\", \"model\": \"elasticnet\", \"scale\": \"do-not-scale\"}",
    "universe_id": "2c3b30663b075625164ddbef45549848"
   },
   "start_time": "2025-07-23T14:41:46.997821",
   "version": "2.6.0"
  }
 },
 "nbformat": 4,
 "nbformat_minor": 5
}