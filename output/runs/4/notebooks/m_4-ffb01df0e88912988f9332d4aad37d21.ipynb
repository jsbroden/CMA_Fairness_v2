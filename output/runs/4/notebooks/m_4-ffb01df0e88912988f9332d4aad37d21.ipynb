{
 "cells": [
  {
   "cell_type": "code",
   "execution_count": 1,
   "id": "f159f837-637b-42ba-96b5-ec9a68c44524",
   "metadata": {
    "execution": {
     "iopub.execute_input": "2025-07-22T10:06:25.126834Z",
     "iopub.status.busy": "2025-07-22T10:06:25.126346Z",
     "iopub.status.idle": "2025-07-22T10:06:25.142746Z",
     "shell.execute_reply": "2025-07-22T10:06:25.141799Z"
    },
    "papermill": {
     "duration": 0.031246,
     "end_time": "2025-07-22T10:06:25.144782",
     "exception": false,
     "start_time": "2025-07-22T10:06:25.113536",
     "status": "completed"
    },
    "tags": []
   },
   "outputs": [
    {
     "name": "stdout",
     "output_type": "stream",
     "text": [
      "/dss/dsshome1/0C/ra93lal2/cma/CMA_Fairness_v2\n"
     ]
    },
    {
     "name": "stderr",
     "output_type": "stream",
     "text": [
      "/dss/dsshome1/0C/ra93lal2/.local/share/virtualenvs/CMA_Fairness_v2-3j10GkSs/lib/python3.10/site-packages/IPython/core/magics/osm.py:393: UserWarning: This is now an optional IPython functionality, using bookmarks requires you to install the `pickleshare` library.\n",
      "  bkms = self.shell.db.get('bookmarks', {})\n",
      "/dss/dsshome1/0C/ra93lal2/.local/share/virtualenvs/CMA_Fairness_v2-3j10GkSs/lib/python3.10/site-packages/IPython/core/magics/osm.py:417: UserWarning: This is now an optional IPython functionality, setting dhist requires you to install the `pickleshare` library.\n",
      "  self.shell.db['dhist'] = compress_dhist(dhist)[-100:]\n"
     ]
    }
   ],
   "source": [
    "%cd ~/cma/CMA_Fairness_v2"
   ]
  },
  {
   "cell_type": "markdown",
   "id": "de2603b9",
   "metadata": {
    "papermill": {
     "duration": 0.018728,
     "end_time": "2025-07-22T10:06:25.182921",
     "exception": false,
     "start_time": "2025-07-22T10:06:25.164193",
     "status": "completed"
    },
    "tags": []
   },
   "source": [
    "The following cell holds the definition of our parameters, these values can be overriden by rendering the with e.g. the following command:\n",
    "\n",
    "papermill -p alpha 0.2 -p ratio 0.3 universe_analysis.ipynb output/test_run.ipynb"
   ]
  },
  {
   "cell_type": "code",
   "execution_count": 2,
   "id": "a80968a0-40bb-4fa9-85ef-2d5eefb01975",
   "metadata": {
    "execution": {
     "iopub.execute_input": "2025-07-22T10:06:25.223063Z",
     "iopub.status.busy": "2025-07-22T10:06:25.222168Z",
     "iopub.status.idle": "2025-07-22T10:06:25.227944Z",
     "shell.execute_reply": "2025-07-22T10:06:25.227181Z"
    },
    "papermill": {
     "duration": 0.028108,
     "end_time": "2025-07-22T10:06:25.229660",
     "exception": false,
     "start_time": "2025-07-22T10:06:25.201552",
     "status": "completed"
    },
    "tags": []
   },
   "outputs": [
    {
     "name": "stdout",
     "output_type": "stream",
     "text": [
      "Current working directory: /dss/dsshome1/0C/ra93lal2/cma/CMA_Fairness_v2\n"
     ]
    }
   ],
   "source": [
    "import os\n",
    "print(\"Current working directory:\", os.getcwd())"
   ]
  },
  {
   "cell_type": "code",
   "execution_count": 3,
   "id": "2dce4c03",
   "metadata": {
    "execution": {
     "iopub.execute_input": "2025-07-22T10:06:25.252723Z",
     "iopub.status.busy": "2025-07-22T10:06:25.252290Z",
     "iopub.status.idle": "2025-07-22T10:06:25.258180Z",
     "shell.execute_reply": "2025-07-22T10:06:25.257361Z"
    },
    "papermill": {
     "duration": 0.018478,
     "end_time": "2025-07-22T10:06:25.259686",
     "exception": false,
     "start_time": "2025-07-22T10:06:25.241208",
     "status": "completed"
    },
    "tags": [
     "parameters"
    ]
   },
   "outputs": [],
   "source": [
    "run_no = 0\n",
    "universe_id = \"test\"\n",
    "universe = {\n",
    "    \"scale\": \"scale\", # \"scale\", \"do-not-scale\",\n",
    "    #\"encode_categorical\": \"one-hot\", # \"ordinal\", \"one-hot\"\n",
    "    \"model\": \"elasticnet\", # \"logreg\", \"penalized_logreg\", \"rf\", \"gbm\", \"elasticnet\"\n",
    "    \"cutoff\": [\"quantile_0.15\", \"quantile_0.30\"],\n",
    "    \"exclude_features\": \"nationality-sex\", # \"none\", \"nationality\", \"sex\", \"nationality-sex\"\n",
    "    \"exclude_subgroups\": \"keep-all\", # \"keep-all\", \"drop-non-german\"\n",
    "    \"eval_fairness_grouping\": [\"majority-minority\", \"nationality-all\"]\n",
    "}\n",
    "\n",
    "output_dir=\"./output\"\n",
    "seed=0"
   ]
  },
  {
   "cell_type": "code",
   "execution_count": 4,
   "id": "f67f0377",
   "metadata": {
    "execution": {
     "iopub.execute_input": "2025-07-22T10:06:25.279705Z",
     "iopub.status.busy": "2025-07-22T10:06:25.279377Z",
     "iopub.status.idle": "2025-07-22T10:06:25.285614Z",
     "shell.execute_reply": "2025-07-22T10:06:25.284289Z"
    },
    "papermill": {
     "duration": 0.018273,
     "end_time": "2025-07-22T10:06:25.287720",
     "exception": false,
     "start_time": "2025-07-22T10:06:25.269447",
     "status": "completed"
    },
    "tags": [
     "injected-parameters"
    ]
   },
   "outputs": [],
   "source": [
    "# Parameters\n",
    "universe_id = \"ffb01df0e88912988f9332d4aad37d21\"\n",
    "run_no = \"4\"\n",
    "universe = \"{\\\"cutoff\\\": [\\\"quantile_0.1\\\", \\\"quantile_0.25\\\"], \\\"eval_fairness_grouping\\\": [\\\"majority-minority\\\", \\\"nationality-all\\\"], \\\"exclude_features\\\": \\\"nationality\\\", \\\"exclude_subgroups\\\": \\\"keep-all\\\", \\\"model\\\": \\\"penalized_logreg\\\", \\\"scale\\\": \\\"scale\\\"}\"\n",
    "output_dir = \"output\"\n",
    "seed = \"2023\"\n"
   ]
  },
  {
   "cell_type": "code",
   "execution_count": 5,
   "id": "1650acaf",
   "metadata": {
    "execution": {
     "iopub.execute_input": "2025-07-22T10:06:25.328162Z",
     "iopub.status.busy": "2025-07-22T10:06:25.327648Z",
     "iopub.status.idle": "2025-07-22T10:06:25.332882Z",
     "shell.execute_reply": "2025-07-22T10:06:25.331867Z"
    },
    "papermill": {
     "duration": 0.026205,
     "end_time": "2025-07-22T10:06:25.334136",
     "exception": false,
     "start_time": "2025-07-22T10:06:25.307931",
     "status": "completed"
    },
    "tags": []
   },
   "outputs": [],
   "source": [
    "import json\n",
    "# Parse universe into dict if it is passed as a string\n",
    "if isinstance(universe, str):\n",
    "    universe = json.loads(universe)"
   ]
  },
  {
   "cell_type": "code",
   "execution_count": 6,
   "id": "16620c48",
   "metadata": {
    "execution": {
     "iopub.execute_input": "2025-07-22T10:06:25.354773Z",
     "iopub.status.busy": "2025-07-22T10:06:25.354401Z",
     "iopub.status.idle": "2025-07-22T10:06:25.410304Z",
     "shell.execute_reply": "2025-07-22T10:06:25.409276Z"
    },
    "papermill": {
     "duration": 0.068387,
     "end_time": "2025-07-22T10:06:25.412541",
     "exception": false,
     "start_time": "2025-07-22T10:06:25.344154",
     "status": "completed"
    },
    "tags": []
   },
   "outputs": [],
   "source": [
    "# Auto-reload the custom package\n",
    "%load_ext autoreload\n",
    "%autoreload 1\n",
    "%aimport fairness_multiverse"
   ]
  },
  {
   "cell_type": "code",
   "execution_count": 7,
   "id": "01c5c9f3",
   "metadata": {
    "execution": {
     "iopub.execute_input": "2025-07-22T10:06:25.437827Z",
     "iopub.status.busy": "2025-07-22T10:06:25.437195Z",
     "iopub.status.idle": "2025-07-22T10:06:27.426755Z",
     "shell.execute_reply": "2025-07-22T10:06:27.425927Z"
    },
    "papermill": {
     "duration": 2.001616,
     "end_time": "2025-07-22T10:06:27.428318",
     "exception": false,
     "start_time": "2025-07-22T10:06:25.426702",
     "status": "completed"
    },
    "tags": []
   },
   "outputs": [],
   "source": [
    "from fairness_multiverse.universe import UniverseAnalysis\n",
    "\n",
    "universe_analysis = UniverseAnalysis(\n",
    "    run_no = run_no,\n",
    "    universe_id = universe_id,\n",
    "    universe = universe,\n",
    "    output_dir=output_dir,\n",
    ")"
   ]
  },
  {
   "cell_type": "code",
   "execution_count": 8,
   "id": "106241f5",
   "metadata": {
    "execution": {
     "iopub.execute_input": "2025-07-22T10:06:27.451169Z",
     "iopub.status.busy": "2025-07-22T10:06:27.450408Z",
     "iopub.status.idle": "2025-07-22T10:06:27.456638Z",
     "shell.execute_reply": "2025-07-22T10:06:27.455595Z"
    },
    "papermill": {
     "duration": 0.018068,
     "end_time": "2025-07-22T10:06:27.458267",
     "exception": false,
     "start_time": "2025-07-22T10:06:27.440199",
     "status": "completed"
    },
    "tags": []
   },
   "outputs": [
    {
     "name": "stdout",
     "output_type": "stream",
     "text": [
      "Using Seed: 2023\n"
     ]
    }
   ],
   "source": [
    "import numpy as np\n",
    "parsed_seed = int(seed)\n",
    "np.random.seed(parsed_seed)\n",
    "print(f\"Using Seed: {parsed_seed}\")"
   ]
  },
  {
   "cell_type": "markdown",
   "id": "e0ebdc57",
   "metadata": {
    "papermill": {
     "duration": 0.009109,
     "end_time": "2025-07-22T10:06:27.477743",
     "exception": false,
     "start_time": "2025-07-22T10:06:27.468634",
     "status": "completed"
    },
    "tags": []
   },
   "source": [
    "# Loading Data"
   ]
  },
  {
   "cell_type": "markdown",
   "id": "681925a3",
   "metadata": {
    "papermill": {
     "duration": 0.012553,
     "end_time": "2025-07-22T10:06:27.499970",
     "exception": false,
     "start_time": "2025-07-22T10:06:27.487417",
     "status": "completed"
    },
    "tags": []
   },
   "source": [
    "Load siab_train, siab_test, siab_calib and/or \n",
    "load siab_train_features, siab_train_labels"
   ]
  },
  {
   "cell_type": "code",
   "execution_count": 9,
   "id": "f0496b8a",
   "metadata": {
    "execution": {
     "iopub.execute_input": "2025-07-22T10:06:27.528692Z",
     "iopub.status.busy": "2025-07-22T10:06:27.528205Z",
     "iopub.status.idle": "2025-07-22T10:06:27.534247Z",
     "shell.execute_reply": "2025-07-22T10:06:27.533224Z"
    },
    "papermill": {
     "duration": 0.018787,
     "end_time": "2025-07-22T10:06:27.536019",
     "exception": false,
     "start_time": "2025-07-22T10:06:27.517232",
     "status": "completed"
    },
    "tags": []
   },
   "outputs": [],
   "source": [
    "# Do I need to load siab? Delete this cell?\n",
    "\n",
    "#from pathlib import Path\n",
    "#import pandas as pd\n",
    "#\n",
    "## File paths\n",
    "#raw_file = Path(\"data/raw/siab.csv\")\n",
    "#cache_file = Path(\"data/siab_cached.csv.gz\")\n",
    "#\n",
    "## Ensure cache directory exists\n",
    "#cache_file.parent.mkdir(parents=True, exist_ok=True)\n",
    "#\n",
    "## Load with simple caching\n",
    "#if cache_file.exists():\n",
    "#    print(f\"Loading SIAB data from cache: {cache_file}\")\n",
    "#    siab = pd.read_csv(cache_file, compression='gzip')\n",
    "#else:\n",
    "#    print(f\"Cache not found. Reading raw SIAB data: {raw_file}\")\n",
    "#    siab = pd.read_csv(raw_file)\n",
    "#    siab.to_csv(cache_file, index=False, compression='gzip')\n",
    "#    print(f\"Cached SIAB data to: {cache_file}\")\n",
    "#\n",
    "## Now use `siab` DataFrame as needed\n",
    "#print(siab.shape)\n"
   ]
  },
  {
   "cell_type": "code",
   "execution_count": 10,
   "id": "a0edb063",
   "metadata": {
    "execution": {
     "iopub.execute_input": "2025-07-22T10:06:27.571865Z",
     "iopub.status.busy": "2025-07-22T10:06:27.571303Z",
     "iopub.status.idle": "2025-07-22T10:06:28.041850Z",
     "shell.execute_reply": "2025-07-22T10:06:28.040669Z"
    },
    "papermill": {
     "duration": 0.494815,
     "end_time": "2025-07-22T10:06:28.043970",
     "exception": false,
     "start_time": "2025-07-22T10:06:27.549155",
     "status": "completed"
    },
    "tags": []
   },
   "outputs": [],
   "source": [
    "import pandas as pd\n",
    "\n",
    "X_train = pd.read_csv(\"./data/X_train.csv\")\n",
    "y_train = pd.read_csv(\"./data/y_train.csv\")"
   ]
  },
  {
   "cell_type": "code",
   "execution_count": 11,
   "id": "63d08085",
   "metadata": {
    "execution": {
     "iopub.execute_input": "2025-07-22T10:06:28.088035Z",
     "iopub.status.busy": "2025-07-22T10:06:28.087110Z",
     "iopub.status.idle": "2025-07-22T10:06:29.659875Z",
     "shell.execute_reply": "2025-07-22T10:06:29.658081Z"
    },
    "papermill": {
     "duration": 1.598092,
     "end_time": "2025-07-22T10:06:29.661943",
     "exception": false,
     "start_time": "2025-07-22T10:06:28.063851",
     "status": "completed"
    },
    "tags": []
   },
   "outputs": [],
   "source": [
    "X_test = pd.read_csv(\"./data/X_test.csv\")\n",
    "y_true = pd.read_csv(\"./data/y_test.csv\")"
   ]
  },
  {
   "cell_type": "code",
   "execution_count": 12,
   "id": "98a8d0fa-1d3d-4ed8-bb2c-281470e24add",
   "metadata": {
    "execution": {
     "iopub.execute_input": "2025-07-22T10:06:29.713179Z",
     "iopub.status.busy": "2025-07-22T10:06:29.712657Z",
     "iopub.status.idle": "2025-07-22T10:06:31.407154Z",
     "shell.execute_reply": "2025-07-22T10:06:31.406137Z"
    },
    "papermill": {
     "duration": 1.723627,
     "end_time": "2025-07-22T10:06:31.409227",
     "exception": false,
     "start_time": "2025-07-22T10:06:29.685600",
     "status": "completed"
    },
    "tags": []
   },
   "outputs": [],
   "source": [
    "# Calibration data for conformal\n",
    "X_calib = pd.read_csv(\"./data/X_calib.csv\")\n",
    "y_calib = pd.read_csv(\"./data/y_calib.csv\")"
   ]
  },
  {
   "cell_type": "code",
   "execution_count": 13,
   "id": "e6c733c5",
   "metadata": {
    "execution": {
     "iopub.execute_input": "2025-07-22T10:06:31.452972Z",
     "iopub.status.busy": "2025-07-22T10:06:31.452201Z",
     "iopub.status.idle": "2025-07-22T10:06:31.527775Z",
     "shell.execute_reply": "2025-07-22T10:06:31.526966Z"
    },
    "papermill": {
     "duration": 0.097208,
     "end_time": "2025-07-22T10:06:31.529419",
     "exception": false,
     "start_time": "2025-07-22T10:06:31.432211",
     "status": "completed"
    },
    "tags": []
   },
   "outputs": [],
   "source": [
    "# Auxiliary data needed downstream in the pipeline\n",
    "\n",
    "org_train = X_train.copy()\n",
    "org_test = X_test.copy()\n",
    "org_calib = X_calib.copy()"
   ]
  },
  {
   "cell_type": "markdown",
   "id": "0a4a1b33",
   "metadata": {
    "papermill": {
     "duration": 0.020683,
     "end_time": "2025-07-22T10:06:31.569877",
     "exception": false,
     "start_time": "2025-07-22T10:06:31.549194",
     "status": "completed"
    },
    "tags": []
   },
   "source": [
    "# Preprocessing Data"
   ]
  },
  {
   "cell_type": "code",
   "execution_count": 14,
   "id": "ca879031",
   "metadata": {
    "execution": {
     "iopub.execute_input": "2025-07-22T10:06:31.612477Z",
     "iopub.status.busy": "2025-07-22T10:06:31.611958Z",
     "iopub.status.idle": "2025-07-22T10:06:31.618872Z",
     "shell.execute_reply": "2025-07-22T10:06:31.617815Z"
    },
    "papermill": {
     "duration": 0.031582,
     "end_time": "2025-07-22T10:06:31.621049",
     "exception": false,
     "start_time": "2025-07-22T10:06:31.589467",
     "status": "completed"
    },
    "tags": []
   },
   "outputs": [],
   "source": [
    "# EXCLUDE PROTECTED FEATURES\n",
    "# ----------------------\n",
    "# \"exclude_features\": \"none\", # \"nationality\", \"sex\", \"nationality-sex\"\n",
    "\n",
    "excluded_features = universe[\"exclude_features\"].split(\"-\") # split, e.g.: \"nationality-sex\" -> [\"nationality\", \"sex\"]\n",
    "excluded_features_dictionary = {\n",
    "    \"nationality\": [\"maxdeutsch1\", \"maxdeutsch.Missing.\"],\n",
    "    \"sex\": [\"frau1\"],\n",
    "}\n"
   ]
  },
  {
   "cell_type": "code",
   "execution_count": 15,
   "id": "b745ac60",
   "metadata": {
    "execution": {
     "iopub.execute_input": "2025-07-22T10:06:31.664100Z",
     "iopub.status.busy": "2025-07-22T10:06:31.663534Z",
     "iopub.status.idle": "2025-07-22T10:06:31.670512Z",
     "shell.execute_reply": "2025-07-22T10:06:31.669553Z"
    },
    "papermill": {
     "duration": 0.030866,
     "end_time": "2025-07-22T10:06:31.672439",
     "exception": false,
     "start_time": "2025-07-22T10:06:31.641573",
     "status": "completed"
    },
    "tags": []
   },
   "outputs": [],
   "source": [
    "# Code nice names to column names\n",
    "\n",
    "excluded_features_columns = [\n",
    "    excluded_features_dictionary[f] for f in excluded_features if len(f) > 0 and f != \"none\"\n",
    "]"
   ]
  },
  {
   "cell_type": "code",
   "execution_count": 16,
   "id": "f84f73a2",
   "metadata": {
    "execution": {
     "iopub.execute_input": "2025-07-22T10:06:31.710191Z",
     "iopub.status.busy": "2025-07-22T10:06:31.709355Z",
     "iopub.status.idle": "2025-07-22T10:06:31.740200Z",
     "shell.execute_reply": "2025-07-22T10:06:31.739068Z"
    },
    "papermill": {
     "duration": 0.050526,
     "end_time": "2025-07-22T10:06:31.742587",
     "exception": false,
     "start_time": "2025-07-22T10:06:31.692061",
     "status": "completed"
    },
    "tags": []
   },
   "outputs": [],
   "source": [
    "from utils import flatten_once\n",
    "\n",
    "excluded_features_columns = flatten_once(excluded_features_columns)"
   ]
  },
  {
   "cell_type": "code",
   "execution_count": 17,
   "id": "884dea22",
   "metadata": {
    "execution": {
     "iopub.execute_input": "2025-07-22T10:06:31.784326Z",
     "iopub.status.busy": "2025-07-22T10:06:31.783815Z",
     "iopub.status.idle": "2025-07-22T10:06:31.808002Z",
     "shell.execute_reply": "2025-07-22T10:06:31.806751Z"
    },
    "papermill": {
     "duration": 0.047152,
     "end_time": "2025-07-22T10:06:31.810084",
     "exception": false,
     "start_time": "2025-07-22T10:06:31.762932",
     "status": "completed"
    },
    "tags": []
   },
   "outputs": [
    {
     "name": "stdout",
     "output_type": "stream",
     "text": [
      "Dropping features: ['maxdeutsch1', 'maxdeutsch.Missing.']\n"
     ]
    }
   ],
   "source": [
    "if len(excluded_features_columns) > 0:\n",
    "    print(f\"Dropping features: {excluded_features_columns}\")\n",
    "    X_train.drop(excluded_features_columns, axis=1, inplace=True)"
   ]
  },
  {
   "cell_type": "code",
   "execution_count": 18,
   "id": "95ab8b16",
   "metadata": {
    "execution": {
     "iopub.execute_input": "2025-07-22T10:06:31.851768Z",
     "iopub.status.busy": "2025-07-22T10:06:31.851030Z",
     "iopub.status.idle": "2025-07-22T10:06:31.913128Z",
     "shell.execute_reply": "2025-07-22T10:06:31.912125Z"
    },
    "papermill": {
     "duration": 0.085881,
     "end_time": "2025-07-22T10:06:31.914846",
     "exception": false,
     "start_time": "2025-07-22T10:06:31.828965",
     "status": "completed"
    },
    "tags": []
   },
   "outputs": [
    {
     "name": "stdout",
     "output_type": "stream",
     "text": [
      "Dropping features: ['maxdeutsch1', 'maxdeutsch.Missing.']\n"
     ]
    }
   ],
   "source": [
    "if len(excluded_features_columns) > 0:\n",
    "    print(f\"Dropping features: {excluded_features_columns}\")\n",
    "    X_test.drop(excluded_features_columns, axis=1, inplace=True)"
   ]
  },
  {
   "cell_type": "code",
   "execution_count": 19,
   "id": "1853aaf5-fb9f-46cb-a2b5-8ea4ae2237e4",
   "metadata": {
    "execution": {
     "iopub.execute_input": "2025-07-22T10:06:31.952788Z",
     "iopub.status.busy": "2025-07-22T10:06:31.952273Z",
     "iopub.status.idle": "2025-07-22T10:06:32.010974Z",
     "shell.execute_reply": "2025-07-22T10:06:32.009959Z"
    },
    "papermill": {
     "duration": 0.077591,
     "end_time": "2025-07-22T10:06:32.012766",
     "exception": false,
     "start_time": "2025-07-22T10:06:31.935175",
     "status": "completed"
    },
    "tags": []
   },
   "outputs": [
    {
     "name": "stdout",
     "output_type": "stream",
     "text": [
      "Dropping features: ['maxdeutsch1', 'maxdeutsch.Missing.']\n"
     ]
    }
   ],
   "source": [
    "if len(excluded_features_columns) > 0:\n",
    "    print(f\"Dropping features: {excluded_features_columns}\")\n",
    "    X_calib.drop(excluded_features_columns, axis=1, inplace=True)"
   ]
  },
  {
   "cell_type": "code",
   "execution_count": 20,
   "id": "76c4dc6d",
   "metadata": {
    "execution": {
     "iopub.execute_input": "2025-07-22T10:06:32.053368Z",
     "iopub.status.busy": "2025-07-22T10:06:32.052409Z",
     "iopub.status.idle": "2025-07-22T10:06:32.058203Z",
     "shell.execute_reply": "2025-07-22T10:06:32.057259Z"
    },
    "papermill": {
     "duration": 0.027265,
     "end_time": "2025-07-22T10:06:32.060074",
     "exception": false,
     "start_time": "2025-07-22T10:06:32.032809",
     "status": "completed"
    },
    "tags": []
   },
   "outputs": [],
   "source": [
    "# EXCLUDE CERTAIN SUBGROUPS\n",
    "# ----------------------\n",
    "\n",
    "mode = universe.get(\"exclude_subgroups\", \"keep-all\") \n",
    "# Fetches the exclude_subgroups setting from the universe dict.\n",
    "# Defaults to \"keep-all\" if the key is missing."
   ]
  },
  {
   "cell_type": "code",
   "execution_count": 21,
   "id": "21994072",
   "metadata": {
    "execution": {
     "iopub.execute_input": "2025-07-22T10:06:32.103508Z",
     "iopub.status.busy": "2025-07-22T10:06:32.103058Z",
     "iopub.status.idle": "2025-07-22T10:06:32.109934Z",
     "shell.execute_reply": "2025-07-22T10:06:32.108660Z"
    },
    "papermill": {
     "duration": 0.030914,
     "end_time": "2025-07-22T10:06:32.112004",
     "exception": false,
     "start_time": "2025-07-22T10:06:32.081090",
     "status": "completed"
    },
    "tags": []
   },
   "outputs": [],
   "source": [
    "if mode == \"keep-all\":\n",
    "    keep_mask = pd.Series(True, index=org_train.index)\n",
    "\n",
    "# org_train contains the original feature columns from features_org (in Simson)\n",
    "# features_org contains unprocessed features, for me X_train at beginning ???\n",
    "# For keep-all, creates a boolean Series (keep_mask) of all True, so no rows are removed.\n",
    "\n",
    "elif mode == \"drop-non-german\":\n",
    "    keep_mask = org_train[\"maxdeutsch1\"] == 1 # ??? what about missing values?\n",
    "\n",
    "else:\n",
    "    raise ValueError(f\"Unsupported mode for exclude_subgroups: {mode}\")\n"
   ]
  },
  {
   "cell_type": "code",
   "execution_count": 22,
   "id": "71651440",
   "metadata": {
    "execution": {
     "iopub.execute_input": "2025-07-22T10:06:32.155066Z",
     "iopub.status.busy": "2025-07-22T10:06:32.154562Z",
     "iopub.status.idle": "2025-07-22T10:06:32.161597Z",
     "shell.execute_reply": "2025-07-22T10:06:32.160251Z"
    },
    "papermill": {
     "duration": 0.029785,
     "end_time": "2025-07-22T10:06:32.163631",
     "exception": false,
     "start_time": "2025-07-22T10:06:32.133846",
     "status": "completed"
    },
    "tags": []
   },
   "outputs": [],
   "source": [
    "n_drop = (~keep_mask).sum() # Calculates how many rows are set to be dropped\n",
    "if n_drop > 0:\n",
    "    pct = n_drop / len(keep_mask) * 100\n",
    "    print(f\"Dropping {n_drop} rows ({pct:.2f}%) where mode='{mode}'\")"
   ]
  },
  {
   "cell_type": "code",
   "execution_count": 23,
   "id": "5fb8eee5",
   "metadata": {
    "execution": {
     "iopub.execute_input": "2025-07-22T10:06:32.197390Z",
     "iopub.status.busy": "2025-07-22T10:06:32.197086Z",
     "iopub.status.idle": "2025-07-22T10:06:32.220344Z",
     "shell.execute_reply": "2025-07-22T10:06:32.218920Z"
    },
    "papermill": {
     "duration": 0.040419,
     "end_time": "2025-07-22T10:06:32.222316",
     "exception": false,
     "start_time": "2025-07-22T10:06:32.181897",
     "status": "completed"
    },
    "tags": []
   },
   "outputs": [],
   "source": [
    "X_train = X_train[keep_mask]"
   ]
  },
  {
   "cell_type": "code",
   "execution_count": 24,
   "id": "b202bb3a",
   "metadata": {
    "execution": {
     "iopub.execute_input": "2025-07-22T10:06:32.254404Z",
     "iopub.status.busy": "2025-07-22T10:06:32.253857Z",
     "iopub.status.idle": "2025-07-22T10:06:32.260526Z",
     "shell.execute_reply": "2025-07-22T10:06:32.259393Z"
    },
    "papermill": {
     "duration": 0.021036,
     "end_time": "2025-07-22T10:06:32.262312",
     "exception": false,
     "start_time": "2025-07-22T10:06:32.241276",
     "status": "completed"
    },
    "tags": []
   },
   "outputs": [],
   "source": [
    "y_train = y_train[keep_mask]"
   ]
  },
  {
   "cell_type": "markdown",
   "id": "493e2ac3",
   "metadata": {
    "papermill": {
     "duration": 0.013254,
     "end_time": "2025-07-22T10:06:32.287178",
     "exception": false,
     "start_time": "2025-07-22T10:06:32.273924",
     "status": "completed"
    },
    "tags": []
   },
   "source": [
    "# Model Training"
   ]
  },
  {
   "cell_type": "code",
   "execution_count": 25,
   "id": "679e1268",
   "metadata": {
    "execution": {
     "iopub.execute_input": "2025-07-22T10:06:32.322500Z",
     "iopub.status.busy": "2025-07-22T10:06:32.322034Z",
     "iopub.status.idle": "2025-07-22T10:06:32.457645Z",
     "shell.execute_reply": "2025-07-22T10:06:32.456546Z"
    },
    "papermill": {
     "duration": 0.150956,
     "end_time": "2025-07-22T10:06:32.459560",
     "exception": false,
     "start_time": "2025-07-22T10:06:32.308604",
     "status": "completed"
    },
    "tags": []
   },
   "outputs": [],
   "source": [
    "from sklearn.linear_model import LogisticRegression\n",
    "from sklearn.ensemble import GradientBoostingClassifier, RandomForestClassifier\n",
    "\n",
    "if (universe[\"model\"] == \"logreg\"):\n",
    "    model = LogisticRegression() #penalty=\"none\") #, solver=\"newton-cg\", max_iter=1) # include random_state=19 ?\n",
    "elif (universe[\"model\"] == \"penalized_logreg\"):\n",
    "    model = LogisticRegression(penalty=\"l2\", C=1.0) #, solver=\"newton-cg\", max_iter=1)\n",
    "elif (universe[\"model\"] == \"rf\"):\n",
    "    model = RandomForestClassifier(n_estimators=100, n_jobs=-1)\n",
    "elif (universe[\"model\"] == \"gbm\"):\n",
    "    model = GradientBoostingClassifier()\n",
    "elif (universe[\"model\"] == \"elasticnet\"):\n",
    "    model = LogisticRegression(penalty = 'elasticnet', solver = 'saga', l1_ratio = 0.5, max_iter=5000) # which solver to use?\n",
    "else:\n",
    "    raise \"Unsupported universe.model\""
   ]
  },
  {
   "cell_type": "code",
   "execution_count": 26,
   "id": "0cc8f744",
   "metadata": {
    "execution": {
     "iopub.execute_input": "2025-07-22T10:06:32.506203Z",
     "iopub.status.busy": "2025-07-22T10:06:32.505730Z",
     "iopub.status.idle": "2025-07-22T10:06:32.512833Z",
     "shell.execute_reply": "2025-07-22T10:06:32.511601Z"
    },
    "papermill": {
     "duration": 0.036178,
     "end_time": "2025-07-22T10:06:32.514898",
     "exception": false,
     "start_time": "2025-07-22T10:06:32.478720",
     "status": "completed"
    },
    "tags": []
   },
   "outputs": [],
   "source": [
    "import numpy as np\n",
    "from sklearn.pipeline import Pipeline\n",
    "from sklearn.preprocessing import StandardScaler\n",
    "\n",
    "model = Pipeline([\n",
    "    #(\"continuous_processor\", continuous_processor),\n",
    "    #(\"categorical_preprocessor\", categorical_preprocessor),\n",
    "    (\"scale\", StandardScaler() if universe[\"scale\"] == \"scale\" else None), \n",
    "    (\"model\", model),\n",
    "])"
   ]
  },
  {
   "cell_type": "code",
   "execution_count": 27,
   "id": "9442c04d",
   "metadata": {
    "execution": {
     "iopub.execute_input": "2025-07-22T10:06:32.565629Z",
     "iopub.status.busy": "2025-07-22T10:06:32.564714Z",
     "iopub.status.idle": "2025-07-22T10:06:34.167287Z",
     "shell.execute_reply": "2025-07-22T10:06:34.166167Z"
    },
    "papermill": {
     "duration": 1.631641,
     "end_time": "2025-07-22T10:06:34.169820",
     "exception": false,
     "start_time": "2025-07-22T10:06:32.538179",
     "status": "completed"
    },
    "tags": []
   },
   "outputs": [
    {
     "name": "stderr",
     "output_type": "stream",
     "text": [
      "/dss/dsshome1/0C/ra93lal2/.local/share/virtualenvs/CMA_Fairness_v2-3j10GkSs/lib/python3.10/site-packages/sklearn/linear_model/_logistic.py:444: ConvergenceWarning: lbfgs failed to converge (status=1):\n",
      "STOP: TOTAL NO. of ITERATIONS REACHED LIMIT.\n",
      "\n",
      "Increase the number of iterations (max_iter) or scale the data as shown in:\n",
      "    https://scikit-learn.org/stable/modules/preprocessing.html\n",
      "Please also refer to the documentation for alternative solver options:\n",
      "    https://scikit-learn.org/stable/modules/linear_model.html#logistic-regression\n",
      "  n_iter_i = _check_optimize_result(\n"
     ]
    },
    {
     "data": {
      "text/html": [
       "<style>#sk-container-id-1 {color: black;background-color: white;}#sk-container-id-1 pre{padding: 0;}#sk-container-id-1 div.sk-toggleable {background-color: white;}#sk-container-id-1 label.sk-toggleable__label {cursor: pointer;display: block;width: 100%;margin-bottom: 0;padding: 0.3em;box-sizing: border-box;text-align: center;}#sk-container-id-1 label.sk-toggleable__label-arrow:before {content: \"▸\";float: left;margin-right: 0.25em;color: #696969;}#sk-container-id-1 label.sk-toggleable__label-arrow:hover:before {color: black;}#sk-container-id-1 div.sk-estimator:hover label.sk-toggleable__label-arrow:before {color: black;}#sk-container-id-1 div.sk-toggleable__content {max-height: 0;max-width: 0;overflow: hidden;text-align: left;background-color: #f0f8ff;}#sk-container-id-1 div.sk-toggleable__content pre {margin: 0.2em;color: black;border-radius: 0.25em;background-color: #f0f8ff;}#sk-container-id-1 input.sk-toggleable__control:checked~div.sk-toggleable__content {max-height: 200px;max-width: 100%;overflow: auto;}#sk-container-id-1 input.sk-toggleable__control:checked~label.sk-toggleable__label-arrow:before {content: \"▾\";}#sk-container-id-1 div.sk-estimator input.sk-toggleable__control:checked~label.sk-toggleable__label {background-color: #d4ebff;}#sk-container-id-1 div.sk-label input.sk-toggleable__control:checked~label.sk-toggleable__label {background-color: #d4ebff;}#sk-container-id-1 input.sk-hidden--visually {border: 0;clip: rect(1px 1px 1px 1px);clip: rect(1px, 1px, 1px, 1px);height: 1px;margin: -1px;overflow: hidden;padding: 0;position: absolute;width: 1px;}#sk-container-id-1 div.sk-estimator {font-family: monospace;background-color: #f0f8ff;border: 1px dotted black;border-radius: 0.25em;box-sizing: border-box;margin-bottom: 0.5em;}#sk-container-id-1 div.sk-estimator:hover {background-color: #d4ebff;}#sk-container-id-1 div.sk-parallel-item::after {content: \"\";width: 100%;border-bottom: 1px solid gray;flex-grow: 1;}#sk-container-id-1 div.sk-label:hover label.sk-toggleable__label {background-color: #d4ebff;}#sk-container-id-1 div.sk-serial::before {content: \"\";position: absolute;border-left: 1px solid gray;box-sizing: border-box;top: 0;bottom: 0;left: 50%;z-index: 0;}#sk-container-id-1 div.sk-serial {display: flex;flex-direction: column;align-items: center;background-color: white;padding-right: 0.2em;padding-left: 0.2em;position: relative;}#sk-container-id-1 div.sk-item {position: relative;z-index: 1;}#sk-container-id-1 div.sk-parallel {display: flex;align-items: stretch;justify-content: center;background-color: white;position: relative;}#sk-container-id-1 div.sk-item::before, #sk-container-id-1 div.sk-parallel-item::before {content: \"\";position: absolute;border-left: 1px solid gray;box-sizing: border-box;top: 0;bottom: 0;left: 50%;z-index: -1;}#sk-container-id-1 div.sk-parallel-item {display: flex;flex-direction: column;z-index: 1;position: relative;background-color: white;}#sk-container-id-1 div.sk-parallel-item:first-child::after {align-self: flex-end;width: 50%;}#sk-container-id-1 div.sk-parallel-item:last-child::after {align-self: flex-start;width: 50%;}#sk-container-id-1 div.sk-parallel-item:only-child::after {width: 0;}#sk-container-id-1 div.sk-dashed-wrapped {border: 1px dashed gray;margin: 0 0.4em 0.5em 0.4em;box-sizing: border-box;padding-bottom: 0.4em;background-color: white;}#sk-container-id-1 div.sk-label label {font-family: monospace;font-weight: bold;display: inline-block;line-height: 1.2em;}#sk-container-id-1 div.sk-label-container {text-align: center;}#sk-container-id-1 div.sk-container {/* jupyter's `normalize.less` sets `[hidden] { display: none; }` but bootstrap.min.css set `[hidden] { display: none !important; }` so we also need the `!important` here to be able to override the default hidden behavior on the sphinx rendered scikit-learn.org. See: https://github.com/scikit-learn/scikit-learn/issues/21755 */display: inline-block !important;position: relative;}#sk-container-id-1 div.sk-text-repr-fallback {display: none;}</style><div id=\"sk-container-id-1\" class=\"sk-top-container\"><div class=\"sk-text-repr-fallback\"><pre>Pipeline(steps=[(&#x27;scale&#x27;, StandardScaler()), (&#x27;model&#x27;, LogisticRegression())])</pre><b>In a Jupyter environment, please rerun this cell to show the HTML representation or trust the notebook. <br />On GitHub, the HTML representation is unable to render, please try loading this page with nbviewer.org.</b></div><div class=\"sk-container\" hidden><div class=\"sk-item sk-dashed-wrapped\"><div class=\"sk-label-container\"><div class=\"sk-label sk-toggleable\"><input class=\"sk-toggleable__control sk-hidden--visually\" id=\"sk-estimator-id-1\" type=\"checkbox\" ><label for=\"sk-estimator-id-1\" class=\"sk-toggleable__label sk-toggleable__label-arrow\">Pipeline</label><div class=\"sk-toggleable__content\"><pre>Pipeline(steps=[(&#x27;scale&#x27;, StandardScaler()), (&#x27;model&#x27;, LogisticRegression())])</pre></div></div></div><div class=\"sk-serial\"><div class=\"sk-item\"><div class=\"sk-estimator sk-toggleable\"><input class=\"sk-toggleable__control sk-hidden--visually\" id=\"sk-estimator-id-2\" type=\"checkbox\" ><label for=\"sk-estimator-id-2\" class=\"sk-toggleable__label sk-toggleable__label-arrow\">StandardScaler</label><div class=\"sk-toggleable__content\"><pre>StandardScaler()</pre></div></div></div><div class=\"sk-item\"><div class=\"sk-estimator sk-toggleable\"><input class=\"sk-toggleable__control sk-hidden--visually\" id=\"sk-estimator-id-3\" type=\"checkbox\" ><label for=\"sk-estimator-id-3\" class=\"sk-toggleable__label sk-toggleable__label-arrow\">LogisticRegression</label><div class=\"sk-toggleable__content\"><pre>LogisticRegression()</pre></div></div></div></div></div></div></div>"
      ],
      "text/plain": [
       "Pipeline(steps=[('scale', StandardScaler()), ('model', LogisticRegression())])"
      ]
     },
     "execution_count": 27,
     "metadata": {},
     "output_type": "execute_result"
    }
   ],
   "source": [
    "model.fit(X_train, y_train.values.ravel())"
   ]
  },
  {
   "cell_type": "code",
   "execution_count": 28,
   "id": "af59f8c0",
   "metadata": {
    "execution": {
     "iopub.execute_input": "2025-07-22T10:06:34.234313Z",
     "iopub.status.busy": "2025-07-22T10:06:34.233700Z",
     "iopub.status.idle": "2025-07-22T10:06:34.241620Z",
     "shell.execute_reply": "2025-07-22T10:06:34.239956Z"
    },
    "papermill": {
     "duration": 0.044677,
     "end_time": "2025-07-22T10:06:34.244054",
     "exception": false,
     "start_time": "2025-07-22T10:06:34.199377",
     "status": "completed"
    },
    "tags": []
   },
   "outputs": [],
   "source": [
    "from fairness_multiverse.universe import predict_w_threshold"
   ]
  },
  {
   "cell_type": "code",
   "execution_count": 29,
   "id": "a7cf2e16",
   "metadata": {
    "execution": {
     "iopub.execute_input": "2025-07-22T10:06:34.299068Z",
     "iopub.status.busy": "2025-07-22T10:06:34.298525Z",
     "iopub.status.idle": "2025-07-22T10:06:34.578565Z",
     "shell.execute_reply": "2025-07-22T10:06:34.577460Z"
    },
    "papermill": {
     "duration": 0.308034,
     "end_time": "2025-07-22T10:06:34.580528",
     "exception": false,
     "start_time": "2025-07-22T10:06:34.272494",
     "status": "completed"
    },
    "tags": []
   },
   "outputs": [
    {
     "data": {
      "text/plain": [
       "0.8601828112807937"
      ]
     },
     "execution_count": 29,
     "metadata": {},
     "output_type": "execute_result"
    }
   ],
   "source": [
    "probs_test = model.predict_proba(X_test)\n",
    "\n",
    "'''\n",
    "Below code returns a boolean array (or binary 0/1 array depending on how it’s used) where each element \n",
    "is True if the probability of class 1 is greater than or equal to the threshold, and False otherwise.\n",
    "'''\n",
    "y_pred_default = predict_w_threshold(probs_test, 0.5)\n",
    "\n",
    "from sklearn.metrics import accuracy_score\n",
    "\n",
    "# Naive prediction\n",
    "accuracy_score(y_true = y_true, y_pred = y_pred_default)"
   ]
  },
  {
   "cell_type": "code",
   "execution_count": 30,
   "id": "081964c3",
   "metadata": {
    "execution": {
     "iopub.execute_input": "2025-07-22T10:06:34.634372Z",
     "iopub.status.busy": "2025-07-22T10:06:34.633839Z",
     "iopub.status.idle": "2025-07-22T10:06:34.900028Z",
     "shell.execute_reply": "2025-07-22T10:06:34.898683Z"
    },
    "papermill": {
     "duration": 0.299542,
     "end_time": "2025-07-22T10:06:34.905682",
     "exception": false,
     "start_time": "2025-07-22T10:06:34.606140",
     "status": "completed"
    },
    "tags": []
   },
   "outputs": [
    {
     "data": {
      "text/plain": [
       "array([0, 0, 0, ..., 0, 0, 0])"
      ]
     },
     "execution_count": 30,
     "metadata": {},
     "output_type": "execute_result"
    }
   ],
   "source": [
    "model.predict(X_test)"
   ]
  },
  {
   "cell_type": "markdown",
   "id": "56c9705b",
   "metadata": {
    "papermill": {
     "duration": 0.025172,
     "end_time": "2025-07-22T10:06:34.954951",
     "exception": false,
     "start_time": "2025-07-22T10:06:34.929779",
     "status": "completed"
    },
    "tags": []
   },
   "source": [
    "# Conformal Prediction"
   ]
  },
  {
   "cell_type": "code",
   "execution_count": 31,
   "id": "97cb0abb-9ba7-4cd9-96c4-aa4728b38a5f",
   "metadata": {
    "execution": {
     "iopub.execute_input": "2025-07-22T10:06:35.007482Z",
     "iopub.status.busy": "2025-07-22T10:06:35.006871Z",
     "iopub.status.idle": "2025-07-22T10:06:35.013105Z",
     "shell.execute_reply": "2025-07-22T10:06:35.011960Z"
    },
    "papermill": {
     "duration": 0.033131,
     "end_time": "2025-07-22T10:06:35.014688",
     "exception": false,
     "start_time": "2025-07-22T10:06:34.981557",
     "status": "completed"
    },
    "tags": []
   },
   "outputs": [],
   "source": [
    "# SCALE X CALIB IF UNIVERSE IS IN SCALE?????"
   ]
  },
  {
   "cell_type": "code",
   "execution_count": 32,
   "id": "160ec6ff",
   "metadata": {
    "execution": {
     "iopub.execute_input": "2025-07-22T10:06:35.041300Z",
     "iopub.status.busy": "2025-07-22T10:06:35.040882Z",
     "iopub.status.idle": "2025-07-22T10:06:35.045650Z",
     "shell.execute_reply": "2025-07-22T10:06:35.044503Z"
    },
    "papermill": {
     "duration": 0.020502,
     "end_time": "2025-07-22T10:06:35.047493",
     "exception": false,
     "start_time": "2025-07-22T10:06:35.026991",
     "status": "completed"
    },
    "tags": []
   },
   "outputs": [],
   "source": [
    "# Miscoverage level for conformal prediction (10% allowed error rate => 90% target coverage)\n",
    "alpha = 0.1"
   ]
  },
  {
   "cell_type": "code",
   "execution_count": 33,
   "id": "eadf4555-3dd3-440e-8e35-f82a4ad9f855",
   "metadata": {
    "execution": {
     "iopub.execute_input": "2025-07-22T10:06:35.084782Z",
     "iopub.status.busy": "2025-07-22T10:06:35.083883Z",
     "iopub.status.idle": "2025-07-22T10:06:35.360109Z",
     "shell.execute_reply": "2025-07-22T10:06:35.358942Z"
    },
    "papermill": {
     "duration": 0.297256,
     "end_time": "2025-07-22T10:06:35.362702",
     "exception": false,
     "start_time": "2025-07-22T10:06:35.065446",
     "status": "completed"
    },
    "tags": []
   },
   "outputs": [],
   "source": [
    "probs_calib = model.predict_proba(X_calib)"
   ]
  },
  {
   "cell_type": "code",
   "execution_count": 34,
   "id": "2ed93547-6d5d-4983-9b36-1ecb300da49a",
   "metadata": {
    "execution": {
     "iopub.execute_input": "2025-07-22T10:06:35.411539Z",
     "iopub.status.busy": "2025-07-22T10:06:35.410746Z",
     "iopub.status.idle": "2025-07-22T10:06:35.418915Z",
     "shell.execute_reply": "2025-07-22T10:06:35.417223Z"
    },
    "papermill": {
     "duration": 0.033036,
     "end_time": "2025-07-22T10:06:35.421388",
     "exception": false,
     "start_time": "2025-07-22T10:06:35.388352",
     "status": "completed"
    },
    "tags": []
   },
   "outputs": [],
   "source": [
    "y_calib = y_calib.values.ravel().astype(int)"
   ]
  },
  {
   "cell_type": "code",
   "execution_count": 35,
   "id": "65d1320d-f588-4b38-9072-62af1ae97f7d",
   "metadata": {
    "execution": {
     "iopub.execute_input": "2025-07-22T10:06:35.479013Z",
     "iopub.status.busy": "2025-07-22T10:06:35.478176Z",
     "iopub.status.idle": "2025-07-22T10:06:35.488167Z",
     "shell.execute_reply": "2025-07-22T10:06:35.486925Z"
    },
    "papermill": {
     "duration": 0.050225,
     "end_time": "2025-07-22T10:06:35.502086",
     "exception": false,
     "start_time": "2025-07-22T10:06:35.451861",
     "status": "completed"
    },
    "tags": []
   },
   "outputs": [],
   "source": [
    "from fairness_multiverse.conformal import compute_nc_scores\n",
    "\n",
    "# Compute nonconformity scores on calibration set (1 - probability of true class)\n",
    "nc_scores = compute_nc_scores(probs_calib, y_calib)"
   ]
  },
  {
   "cell_type": "code",
   "execution_count": 36,
   "id": "df3b8ca3-53b7-43d5-9667-7c85da7aeda2",
   "metadata": {
    "execution": {
     "iopub.execute_input": "2025-07-22T10:06:35.553927Z",
     "iopub.status.busy": "2025-07-22T10:06:35.553387Z",
     "iopub.status.idle": "2025-07-22T10:06:35.560733Z",
     "shell.execute_reply": "2025-07-22T10:06:35.559482Z"
    },
    "papermill": {
     "duration": 0.035635,
     "end_time": "2025-07-22T10:06:35.562854",
     "exception": false,
     "start_time": "2025-07-22T10:06:35.527219",
     "status": "completed"
    },
    "tags": []
   },
   "outputs": [],
   "source": [
    "from fairness_multiverse.conformal import find_threshold\n",
    "\n",
    "# Find conformal threshold q_hat for the given alpha (split conformal method)\n",
    "q_hat = find_threshold(nc_scores, alpha)"
   ]
  },
  {
   "cell_type": "code",
   "execution_count": 37,
   "id": "4d29e6c1-0ef6-4aa4-b8fe-4fe79b0d033a",
   "metadata": {
    "execution": {
     "iopub.execute_input": "2025-07-22T10:06:35.620239Z",
     "iopub.status.busy": "2025-07-22T10:06:35.619600Z",
     "iopub.status.idle": "2025-07-22T10:06:35.642111Z",
     "shell.execute_reply": "2025-07-22T10:06:35.640710Z"
    },
    "papermill": {
     "duration": 0.052921,
     "end_time": "2025-07-22T10:06:35.644881",
     "exception": false,
     "start_time": "2025-07-22T10:06:35.591960",
     "status": "completed"
    },
    "tags": []
   },
   "outputs": [
    {
     "data": {
      "text/plain": [
       "0.6595199596003367"
      ]
     },
     "execution_count": 37,
     "metadata": {},
     "output_type": "execute_result"
    }
   ],
   "source": [
    "q_hat"
   ]
  },
  {
   "cell_type": "code",
   "execution_count": 38,
   "id": "92460794-cdac-4be2-ba28-f28c0515a6fb",
   "metadata": {
    "execution": {
     "iopub.execute_input": "2025-07-22T10:06:35.697431Z",
     "iopub.status.busy": "2025-07-22T10:06:35.696680Z",
     "iopub.status.idle": "2025-07-22T10:06:36.769008Z",
     "shell.execute_reply": "2025-07-22T10:06:36.767245Z"
    },
    "papermill": {
     "duration": 1.101598,
     "end_time": "2025-07-22T10:06:36.771108",
     "exception": false,
     "start_time": "2025-07-22T10:06:35.669510",
     "status": "completed"
    },
    "tags": []
   },
   "outputs": [],
   "source": [
    "from fairness_multiverse.conformal import predict_conformal_sets\n",
    "\n",
    "# Generate prediction sets for each test example\n",
    "pred_sets = predict_conformal_sets(model, X_test, q_hat)"
   ]
  },
  {
   "cell_type": "code",
   "execution_count": 39,
   "id": "d90c9a65-e6db-4f5d-80cd-e68fb7e46829",
   "metadata": {
    "execution": {
     "iopub.execute_input": "2025-07-22T10:06:36.798368Z",
     "iopub.status.busy": "2025-07-22T10:06:36.797886Z",
     "iopub.status.idle": "2025-07-22T10:06:36.804803Z",
     "shell.execute_reply": "2025-07-22T10:06:36.803891Z"
    },
    "papermill": {
     "duration": 0.020469,
     "end_time": "2025-07-22T10:06:36.806512",
     "exception": false,
     "start_time": "2025-07-22T10:06:36.786043",
     "status": "completed"
    },
    "tags": []
   },
   "outputs": [],
   "source": [
    "y_true = y_true.squeeze()"
   ]
  },
  {
   "cell_type": "code",
   "execution_count": 40,
   "id": "3a58a54a-1e68-46b9-927a-df01f18aebc8",
   "metadata": {
    "execution": {
     "iopub.execute_input": "2025-07-22T10:06:36.849874Z",
     "iopub.status.busy": "2025-07-22T10:06:36.848768Z",
     "iopub.status.idle": "2025-07-22T10:06:37.853163Z",
     "shell.execute_reply": "2025-07-22T10:06:37.852017Z"
    },
    "papermill": {
     "duration": 1.032399,
     "end_time": "2025-07-22T10:06:37.855102",
     "exception": false,
     "start_time": "2025-07-22T10:06:36.822703",
     "status": "completed"
    },
    "tags": []
   },
   "outputs": [],
   "source": [
    "from fairness_multiverse.conformal import evaluate_sets\n",
    "\n",
    "# Evaluate coverage and average set size on test data\n",
    "metrics = evaluate_sets(pred_sets, y_true)"
   ]
  },
  {
   "cell_type": "code",
   "execution_count": 41,
   "id": "5ce0a5cb-201f-45a0-ade5-94c7f0bd6095",
   "metadata": {
    "execution": {
     "iopub.execute_input": "2025-07-22T10:06:37.906970Z",
     "iopub.status.busy": "2025-07-22T10:06:37.906432Z",
     "iopub.status.idle": "2025-07-22T10:06:37.915006Z",
     "shell.execute_reply": "2025-07-22T10:06:37.913631Z"
    },
    "papermill": {
     "duration": 0.037465,
     "end_time": "2025-07-22T10:06:37.917351",
     "exception": false,
     "start_time": "2025-07-22T10:06:37.879886",
     "status": "completed"
    },
    "tags": []
   },
   "outputs": [
    {
     "data": {
      "text/plain": [
       "{'coverage': 0.9102441199420355, 'avg_size': 1.1249804926986957}"
      ]
     },
     "execution_count": 41,
     "metadata": {},
     "output_type": "execute_result"
    }
   ],
   "source": [
    "metrics"
   ]
  },
  {
   "cell_type": "code",
   "execution_count": 42,
   "id": "9b9a838d-31c9-430b-ae14-12baee460d17",
   "metadata": {
    "execution": {
     "iopub.execute_input": "2025-07-22T10:06:37.966886Z",
     "iopub.status.busy": "2025-07-22T10:06:37.966116Z",
     "iopub.status.idle": "2025-07-22T10:06:37.972715Z",
     "shell.execute_reply": "2025-07-22T10:06:37.971535Z"
    },
    "papermill": {
     "duration": 0.03812,
     "end_time": "2025-07-22T10:06:37.979528",
     "exception": false,
     "start_time": "2025-07-22T10:06:37.941408",
     "status": "completed"
    },
    "tags": []
   },
   "outputs": [],
   "source": [
    "example_universe = universe.copy()\n",
    "universe_model = example_universe.get(\"model\")\n",
    "universe_exclude_features = example_universe.get(\"exclude_features\")\n",
    "universe_exclude_subgroups = example_universe.get(\"exclude_subgroups\")\n",
    "universe_scale = example_universe.get(\"scale\")"
   ]
  },
  {
   "cell_type": "code",
   "execution_count": 43,
   "id": "f4b6a8ac-9dc0-4245-8a91-5b3b5999c4f9",
   "metadata": {
    "execution": {
     "iopub.execute_input": "2025-07-22T10:06:38.034925Z",
     "iopub.status.busy": "2025-07-22T10:06:38.033896Z",
     "iopub.status.idle": "2025-07-22T10:06:38.041383Z",
     "shell.execute_reply": "2025-07-22T10:06:38.039744Z"
    },
    "papermill": {
     "duration": 0.039274,
     "end_time": "2025-07-22T10:06:38.044019",
     "exception": false,
     "start_time": "2025-07-22T10:06:38.004745",
     "status": "completed"
    },
    "tags": []
   },
   "outputs": [],
   "source": [
    "cp_metrics_dict = {\n",
    "    \"universe_id\": [universe_id],\n",
    "    \"universe_model\": [universe_model],\n",
    "    \"universe_exclude_features\": [universe_exclude_features],\n",
    "    \"universe_exclude_subgroups\": [universe_exclude_subgroups],\n",
    "    \"universe_scale\": [universe_scale],\n",
    "    \"q_hat\": [q_hat],\n",
    "    \"coverage\": [metrics[\"coverage\"]],\n",
    "    \"avg_size\": [metrics[\"avg_size\"]],\n",
    "}"
   ]
  },
  {
   "cell_type": "code",
   "execution_count": 44,
   "id": "908acbb1-0371-4915-85ca-3fa520d2efe2",
   "metadata": {
    "execution": {
     "iopub.execute_input": "2025-07-22T10:06:38.094519Z",
     "iopub.status.busy": "2025-07-22T10:06:38.093740Z",
     "iopub.status.idle": "2025-07-22T10:06:38.102398Z",
     "shell.execute_reply": "2025-07-22T10:06:38.101394Z"
    },
    "papermill": {
     "duration": 0.036175,
     "end_time": "2025-07-22T10:06:38.104518",
     "exception": false,
     "start_time": "2025-07-22T10:06:38.068343",
     "status": "completed"
    },
    "tags": []
   },
   "outputs": [
    {
     "data": {
      "text/plain": [
       "{'universe_id': ['ffb01df0e88912988f9332d4aad37d21'],\n",
       " 'universe_model': ['penalized_logreg'],\n",
       " 'universe_exclude_features': ['nationality'],\n",
       " 'universe_exclude_subgroups': ['keep-all'],\n",
       " 'universe_scale': ['scale'],\n",
       " 'q_hat': [0.6595199596003367],\n",
       " 'coverage': [0.9102441199420355],\n",
       " 'avg_size': [1.1249804926986957]}"
      ]
     },
     "execution_count": 44,
     "metadata": {},
     "output_type": "execute_result"
    }
   ],
   "source": [
    "cp_metrics_dict"
   ]
  },
  {
   "cell_type": "code",
   "execution_count": 45,
   "id": "33007efc-14e9-4ec6-97ac-56a455c82265",
   "metadata": {
    "execution": {
     "iopub.execute_input": "2025-07-22T10:06:38.159131Z",
     "iopub.status.busy": "2025-07-22T10:06:38.158206Z",
     "iopub.status.idle": "2025-07-22T10:06:38.166298Z",
     "shell.execute_reply": "2025-07-22T10:06:38.165473Z"
    },
    "papermill": {
     "duration": 0.036333,
     "end_time": "2025-07-22T10:06:38.167702",
     "exception": false,
     "start_time": "2025-07-22T10:06:38.131369",
     "status": "completed"
    },
    "tags": []
   },
   "outputs": [],
   "source": [
    "cp_metrics_df = pd.DataFrame(cp_metrics_dict)"
   ]
  },
  {
   "cell_type": "code",
   "execution_count": 46,
   "id": "db12611b-57b2-4910-b9d0-355adfd6e7bf",
   "metadata": {
    "execution": {
     "iopub.execute_input": "2025-07-22T10:06:38.213896Z",
     "iopub.status.busy": "2025-07-22T10:06:38.213099Z",
     "iopub.status.idle": "2025-07-22T10:06:38.233761Z",
     "shell.execute_reply": "2025-07-22T10:06:38.232767Z"
    },
    "papermill": {
     "duration": 0.049595,
     "end_time": "2025-07-22T10:06:38.235362",
     "exception": false,
     "start_time": "2025-07-22T10:06:38.185767",
     "status": "completed"
    },
    "tags": []
   },
   "outputs": [
    {
     "data": {
      "text/html": [
       "<div>\n",
       "<style scoped>\n",
       "    .dataframe tbody tr th:only-of-type {\n",
       "        vertical-align: middle;\n",
       "    }\n",
       "\n",
       "    .dataframe tbody tr th {\n",
       "        vertical-align: top;\n",
       "    }\n",
       "\n",
       "    .dataframe thead th {\n",
       "        text-align: right;\n",
       "    }\n",
       "</style>\n",
       "<table border=\"1\" class=\"dataframe\">\n",
       "  <thead>\n",
       "    <tr style=\"text-align: right;\">\n",
       "      <th></th>\n",
       "      <th>universe_id</th>\n",
       "      <th>universe_model</th>\n",
       "      <th>universe_exclude_features</th>\n",
       "      <th>universe_exclude_subgroups</th>\n",
       "      <th>universe_scale</th>\n",
       "      <th>q_hat</th>\n",
       "      <th>coverage</th>\n",
       "      <th>avg_size</th>\n",
       "    </tr>\n",
       "  </thead>\n",
       "  <tbody>\n",
       "    <tr>\n",
       "      <th>0</th>\n",
       "      <td>ffb01df0e88912988f9332d4aad37d21</td>\n",
       "      <td>penalized_logreg</td>\n",
       "      <td>nationality</td>\n",
       "      <td>keep-all</td>\n",
       "      <td>scale</td>\n",
       "      <td>0.65952</td>\n",
       "      <td>0.910244</td>\n",
       "      <td>1.12498</td>\n",
       "    </tr>\n",
       "  </tbody>\n",
       "</table>\n",
       "</div>"
      ],
      "text/plain": [
       "                        universe_id    universe_model  \\\n",
       "0  ffb01df0e88912988f9332d4aad37d21  penalized_logreg   \n",
       "\n",
       "  universe_exclude_features universe_exclude_subgroups universe_scale  \\\n",
       "0               nationality                   keep-all          scale   \n",
       "\n",
       "     q_hat  coverage  avg_size  \n",
       "0  0.65952  0.910244   1.12498  "
      ]
     },
     "execution_count": 46,
     "metadata": {},
     "output_type": "execute_result"
    }
   ],
   "source": [
    "cp_metrics_df"
   ]
  },
  {
   "cell_type": "code",
   "execution_count": 47,
   "id": "b7fbde55-a0a1-47e4-9af6-fe4a17fa8c61",
   "metadata": {
    "execution": {
     "iopub.execute_input": "2025-07-22T10:06:38.261415Z",
     "iopub.status.busy": "2025-07-22T10:06:38.260821Z",
     "iopub.status.idle": "2025-07-22T10:06:38.265243Z",
     "shell.execute_reply": "2025-07-22T10:06:38.264407Z"
    },
    "papermill": {
     "duration": 0.017766,
     "end_time": "2025-07-22T10:06:38.266875",
     "exception": false,
     "start_time": "2025-07-22T10:06:38.249109",
     "status": "completed"
    },
    "tags": []
   },
   "outputs": [],
   "source": [
    "# Conditional Coverage & looking at subgroups"
   ]
  },
  {
   "cell_type": "code",
   "execution_count": 48,
   "id": "027ae886-68dd-4141-96c7-805a5450e1ef",
   "metadata": {
    "execution": {
     "iopub.execute_input": "2025-07-22T10:06:38.306078Z",
     "iopub.status.busy": "2025-07-22T10:06:38.305180Z",
     "iopub.status.idle": "2025-07-22T10:06:38.541895Z",
     "shell.execute_reply": "2025-07-22T10:06:38.540820Z"
    },
    "papermill": {
     "duration": 0.259499,
     "end_time": "2025-07-22T10:06:38.543916",
     "exception": false,
     "start_time": "2025-07-22T10:06:38.284417",
     "status": "completed"
    },
    "tags": []
   },
   "outputs": [],
   "source": [
    "from fairness_multiverse.conformal import build_cp_groups\n",
    "\n",
    "cp_groups_df = build_cp_groups(pred_sets, y_true, X_test.index, org_test)\n",
    "#needs universe_id and setting"
   ]
  },
  {
   "cell_type": "code",
   "execution_count": 49,
   "id": "c3b92545-903e-4839-89af-0f057907d7d6",
   "metadata": {
    "execution": {
     "iopub.execute_input": "2025-07-22T10:06:38.579901Z",
     "iopub.status.busy": "2025-07-22T10:06:38.579541Z",
     "iopub.status.idle": "2025-07-22T10:06:40.041381Z",
     "shell.execute_reply": "2025-07-22T10:06:40.039957Z"
    },
    "papermill": {
     "duration": 1.479356,
     "end_time": "2025-07-22T10:06:40.043614",
     "exception": false,
     "start_time": "2025-07-22T10:06:38.564258",
     "status": "completed"
    },
    "tags": []
   },
   "outputs": [],
   "source": [
    "# Define covered = 1 if true_label is in the predicted set\n",
    "cp_groups_df['covered'] = cp_groups_df.apply(\n",
    "    lambda r: int(r['true_label'] in r['pred_set']),\n",
    "    axis=1\n",
    ")"
   ]
  },
  {
   "cell_type": "code",
   "execution_count": 50,
   "id": "338ff529-1a6b-4b87-a931-8e4788d52aad",
   "metadata": {
    "execution": {
     "iopub.execute_input": "2025-07-22T10:06:40.099701Z",
     "iopub.status.busy": "2025-07-22T10:06:40.099002Z",
     "iopub.status.idle": "2025-07-22T10:06:40.105471Z",
     "shell.execute_reply": "2025-07-22T10:06:40.104407Z"
    },
    "papermill": {
     "duration": 0.035945,
     "end_time": "2025-07-22T10:06:40.107278",
     "exception": false,
     "start_time": "2025-07-22T10:06:40.071333",
     "status": "completed"
    },
    "tags": []
   },
   "outputs": [],
   "source": [
    "#cp_groups_df"
   ]
  },
  {
   "cell_type": "code",
   "execution_count": 51,
   "id": "90032e27-66df-4540-9169-4e89cfbaa758",
   "metadata": {
    "execution": {
     "iopub.execute_input": "2025-07-22T10:06:40.159082Z",
     "iopub.status.busy": "2025-07-22T10:06:40.158356Z",
     "iopub.status.idle": "2025-07-22T10:06:40.173041Z",
     "shell.execute_reply": "2025-07-22T10:06:40.172029Z"
    },
    "papermill": {
     "duration": 0.042652,
     "end_time": "2025-07-22T10:06:40.174913",
     "exception": false,
     "start_time": "2025-07-22T10:06:40.132261",
     "status": "completed"
    },
    "tags": []
   },
   "outputs": [],
   "source": [
    "subgroups = ['frau1','nongerman','nongerman_male','nongerman_female']\n",
    "\n",
    "# Conditional coverage for subgroup==1\n",
    "cond_coverage = {\n",
    "    g: cp_groups_df.loc[cp_groups_df[g]==1, 'covered'].mean()\n",
    "    for g in subgroups\n",
    "}"
   ]
  },
  {
   "cell_type": "code",
   "execution_count": 52,
   "id": "1e348fb1-b9c3-45bc-ba23-f016827a7e0d",
   "metadata": {
    "execution": {
     "iopub.execute_input": "2025-07-22T10:06:40.223568Z",
     "iopub.status.busy": "2025-07-22T10:06:40.222959Z",
     "iopub.status.idle": "2025-07-22T10:06:40.230803Z",
     "shell.execute_reply": "2025-07-22T10:06:40.229573Z"
    },
    "papermill": {
     "duration": 0.034431,
     "end_time": "2025-07-22T10:06:40.233433",
     "exception": false,
     "start_time": "2025-07-22T10:06:40.199002",
     "status": "completed"
    },
    "tags": []
   },
   "outputs": [
    {
     "data": {
      "text/plain": [
       "{'frau1': 0.9090443455991374,\n",
       " 'nongerman': 0.9120305394936282,\n",
       " 'nongerman_male': 0.9280374673511663,\n",
       " 'nongerman_female': 0.8855439642324888}"
      ]
     },
     "execution_count": 52,
     "metadata": {},
     "output_type": "execute_result"
    }
   ],
   "source": [
    "cond_coverage"
   ]
  },
  {
   "cell_type": "code",
   "execution_count": 53,
   "id": "f5093324-c3dd-4d63-bc4c-8d945e5c8bbb",
   "metadata": {
    "execution": {
     "iopub.execute_input": "2025-07-22T10:06:40.287836Z",
     "iopub.status.busy": "2025-07-22T10:06:40.287420Z",
     "iopub.status.idle": "2025-07-22T10:06:40.294955Z",
     "shell.execute_reply": "2025-07-22T10:06:40.293830Z"
    },
    "papermill": {
     "duration": 0.036115,
     "end_time": "2025-07-22T10:06:40.297165",
     "exception": false,
     "start_time": "2025-07-22T10:06:40.261050",
     "status": "completed"
    },
    "tags": []
   },
   "outputs": [],
   "source": [
    "for subgroup, cov in cond_coverage.items():\n",
    "    cp_metrics_df[f\"cov_{subgroup}\"] = cov"
   ]
  },
  {
   "cell_type": "code",
   "execution_count": 54,
   "id": "6e872e10-dbe5-49e8-b554-5030c98ff75d",
   "metadata": {
    "execution": {
     "iopub.execute_input": "2025-07-22T10:06:40.352607Z",
     "iopub.status.busy": "2025-07-22T10:06:40.351755Z",
     "iopub.status.idle": "2025-07-22T10:06:40.373302Z",
     "shell.execute_reply": "2025-07-22T10:06:40.371879Z"
    },
    "papermill": {
     "duration": 0.049845,
     "end_time": "2025-07-22T10:06:40.375187",
     "exception": false,
     "start_time": "2025-07-22T10:06:40.325342",
     "status": "completed"
    },
    "tags": []
   },
   "outputs": [
    {
     "data": {
      "text/html": [
       "<div>\n",
       "<style scoped>\n",
       "    .dataframe tbody tr th:only-of-type {\n",
       "        vertical-align: middle;\n",
       "    }\n",
       "\n",
       "    .dataframe tbody tr th {\n",
       "        vertical-align: top;\n",
       "    }\n",
       "\n",
       "    .dataframe thead th {\n",
       "        text-align: right;\n",
       "    }\n",
       "</style>\n",
       "<table border=\"1\" class=\"dataframe\">\n",
       "  <thead>\n",
       "    <tr style=\"text-align: right;\">\n",
       "      <th></th>\n",
       "      <th>universe_id</th>\n",
       "      <th>universe_model</th>\n",
       "      <th>universe_exclude_features</th>\n",
       "      <th>universe_exclude_subgroups</th>\n",
       "      <th>universe_scale</th>\n",
       "      <th>q_hat</th>\n",
       "      <th>coverage</th>\n",
       "      <th>avg_size</th>\n",
       "      <th>cov_frau1</th>\n",
       "      <th>cov_nongerman</th>\n",
       "      <th>cov_nongerman_male</th>\n",
       "      <th>cov_nongerman_female</th>\n",
       "    </tr>\n",
       "  </thead>\n",
       "  <tbody>\n",
       "    <tr>\n",
       "      <th>0</th>\n",
       "      <td>ffb01df0e88912988f9332d4aad37d21</td>\n",
       "      <td>penalized_logreg</td>\n",
       "      <td>nationality</td>\n",
       "      <td>keep-all</td>\n",
       "      <td>scale</td>\n",
       "      <td>0.65952</td>\n",
       "      <td>0.910244</td>\n",
       "      <td>1.12498</td>\n",
       "      <td>0.909044</td>\n",
       "      <td>0.912031</td>\n",
       "      <td>0.928037</td>\n",
       "      <td>0.885544</td>\n",
       "    </tr>\n",
       "  </tbody>\n",
       "</table>\n",
       "</div>"
      ],
      "text/plain": [
       "                        universe_id    universe_model  \\\n",
       "0  ffb01df0e88912988f9332d4aad37d21  penalized_logreg   \n",
       "\n",
       "  universe_exclude_features universe_exclude_subgroups universe_scale  \\\n",
       "0               nationality                   keep-all          scale   \n",
       "\n",
       "     q_hat  coverage  avg_size  cov_frau1  cov_nongerman  cov_nongerman_male  \\\n",
       "0  0.65952  0.910244   1.12498   0.909044       0.912031            0.928037   \n",
       "\n",
       "   cov_nongerman_female  \n",
       "0              0.885544  "
      ]
     },
     "execution_count": 54,
     "metadata": {},
     "output_type": "execute_result"
    }
   ],
   "source": [
    "cp_metrics_df"
   ]
  },
  {
   "cell_type": "markdown",
   "id": "33774451",
   "metadata": {
    "papermill": {
     "duration": 0.023191,
     "end_time": "2025-07-22T10:06:40.421185",
     "exception": false,
     "start_time": "2025-07-22T10:06:40.397994",
     "status": "completed"
    },
    "tags": []
   },
   "source": [
    "# (Fairness) Metrics"
   ]
  },
  {
   "cell_type": "code",
   "execution_count": 55,
   "id": "debc5d62",
   "metadata": {
    "execution": {
     "iopub.execute_input": "2025-07-22T10:06:40.482054Z",
     "iopub.status.busy": "2025-07-22T10:06:40.481515Z",
     "iopub.status.idle": "2025-07-22T10:06:40.506848Z",
     "shell.execute_reply": "2025-07-22T10:06:40.505710Z"
    },
    "papermill": {
     "duration": 0.064129,
     "end_time": "2025-07-22T10:06:40.509209",
     "exception": false,
     "start_time": "2025-07-22T10:06:40.445080",
     "status": "completed"
    },
    "tags": []
   },
   "outputs": [],
   "source": [
    "# do I need to include maxdeutsch1.missing?\n",
    "\n",
    "import numpy as np\n",
    "\n",
    "colname_to_bin = \"maxdeutsch1\"\n",
    "majority_value = org_train[colname_to_bin].mode()[0]\n",
    "\n",
    "org_test[\"majmin\"] = np.where(org_test[colname_to_bin] == majority_value, \"majority\", \"minority\")"
   ]
  },
  {
   "cell_type": "code",
   "execution_count": 56,
   "id": "06a50de5",
   "metadata": {
    "execution": {
     "iopub.execute_input": "2025-07-22T10:06:40.547527Z",
     "iopub.status.busy": "2025-07-22T10:06:40.546866Z",
     "iopub.status.idle": "2025-07-22T10:06:43.324805Z",
     "shell.execute_reply": "2025-07-22T10:06:43.323786Z"
    },
    "papermill": {
     "duration": 2.796643,
     "end_time": "2025-07-22T10:06:43.326888",
     "exception": false,
     "start_time": "2025-07-22T10:06:40.530245",
     "status": "completed"
    },
    "tags": []
   },
   "outputs": [],
   "source": [
    "example_universe = universe.copy()\n",
    "example_universe[\"cutoff\"] = example_universe[\"cutoff\"][0]\n",
    "example_universe[\"eval_fairness_grouping\"] = example_universe[\"eval_fairness_grouping\"][0]\n",
    "fairness_dict, metric_frame = universe_analysis.compute_metrics(\n",
    "    example_universe,\n",
    "    y_pred_prob=probs_test,\n",
    "    y_test=y_true,\n",
    "    org_test=org_test,\n",
    ")"
   ]
  },
  {
   "cell_type": "markdown",
   "id": "f95d4e02",
   "metadata": {
    "papermill": {
     "duration": 0.024414,
     "end_time": "2025-07-22T10:06:43.379074",
     "exception": false,
     "start_time": "2025-07-22T10:06:43.354660",
     "status": "completed"
    },
    "tags": []
   },
   "source": [
    "# Overall"
   ]
  },
  {
   "cell_type": "markdown",
   "id": "bdee4871",
   "metadata": {
    "papermill": {
     "duration": 0.024879,
     "end_time": "2025-07-22T10:06:43.425726",
     "exception": false,
     "start_time": "2025-07-22T10:06:43.400847",
     "status": "completed"
    },
    "tags": []
   },
   "source": [
    "Fairness\n",
    "Main fairness target: Equalized Odds. Seems to be a better fit than equal opportunity, since we're not only interested in Y = 1. Seems to be a better fit than demographic parity, since we also care about accuracy, not just equal distribution of preds.\n",
    "\n",
    "Pick column for computation of fairness metrics\n",
    "\n",
    "Performance\n",
    "Overall performance measures, most interesting in relation to the measures split by group below"
   ]
  },
  {
   "cell_type": "code",
   "execution_count": 57,
   "id": "c4e067c6",
   "metadata": {
    "execution": {
     "iopub.execute_input": "2025-07-22T10:06:43.479458Z",
     "iopub.status.busy": "2025-07-22T10:06:43.478746Z",
     "iopub.status.idle": "2025-07-22T10:06:43.488258Z",
     "shell.execute_reply": "2025-07-22T10:06:43.487011Z"
    },
    "papermill": {
     "duration": 0.03926,
     "end_time": "2025-07-22T10:06:43.490369",
     "exception": false,
     "start_time": "2025-07-22T10:06:43.451109",
     "status": "completed"
    },
    "tags": []
   },
   "outputs": [
    {
     "data": {
      "text/plain": [
       "accuracy                   0.225493\n",
       "balanced accuracy          0.551128\n",
       "f1                         0.246794\n",
       "precision                  0.140985\n",
       "false positive rate        0.886883\n",
       "false negative rate        0.010862\n",
       "selection rate             0.900000\n",
       "count                  89710.000000\n",
       "dtype: float64"
      ]
     },
     "execution_count": 57,
     "metadata": {},
     "output_type": "execute_result"
    }
   ],
   "source": [
    "metric_frame.overall"
   ]
  },
  {
   "cell_type": "markdown",
   "id": "e968fe9d",
   "metadata": {
    "papermill": {
     "duration": 0.023922,
     "end_time": "2025-07-22T10:06:43.539020",
     "exception": false,
     "start_time": "2025-07-22T10:06:43.515098",
     "status": "completed"
    },
    "tags": []
   },
   "source": [
    "By Group"
   ]
  },
  {
   "cell_type": "code",
   "execution_count": 58,
   "id": "ec325bce",
   "metadata": {
    "execution": {
     "iopub.execute_input": "2025-07-22T10:06:43.587393Z",
     "iopub.status.busy": "2025-07-22T10:06:43.586905Z",
     "iopub.status.idle": "2025-07-22T10:06:43.604339Z",
     "shell.execute_reply": "2025-07-22T10:06:43.603627Z"
    },
    "papermill": {
     "duration": 0.043739,
     "end_time": "2025-07-22T10:06:43.606018",
     "exception": false,
     "start_time": "2025-07-22T10:06:43.562279",
     "status": "completed"
    },
    "tags": []
   },
   "outputs": [
    {
     "data": {
      "text/html": [
       "<div>\n",
       "<style scoped>\n",
       "    .dataframe tbody tr th:only-of-type {\n",
       "        vertical-align: middle;\n",
       "    }\n",
       "\n",
       "    .dataframe tbody tr th {\n",
       "        vertical-align: top;\n",
       "    }\n",
       "\n",
       "    .dataframe thead th {\n",
       "        text-align: right;\n",
       "    }\n",
       "</style>\n",
       "<table border=\"1\" class=\"dataframe\">\n",
       "  <thead>\n",
       "    <tr style=\"text-align: right;\">\n",
       "      <th></th>\n",
       "      <th>accuracy</th>\n",
       "      <th>balanced accuracy</th>\n",
       "      <th>f1</th>\n",
       "      <th>precision</th>\n",
       "      <th>false positive rate</th>\n",
       "      <th>false negative rate</th>\n",
       "      <th>selection rate</th>\n",
       "      <th>count</th>\n",
       "    </tr>\n",
       "    <tr>\n",
       "      <th>majmin</th>\n",
       "      <th></th>\n",
       "      <th></th>\n",
       "      <th></th>\n",
       "      <th></th>\n",
       "      <th></th>\n",
       "      <th></th>\n",
       "      <th></th>\n",
       "      <th></th>\n",
       "    </tr>\n",
       "  </thead>\n",
       "  <tbody>\n",
       "    <tr>\n",
       "      <th>majority</th>\n",
       "      <td>0.246610</td>\n",
       "      <td>0.561127</td>\n",
       "      <td>0.257495</td>\n",
       "      <td>0.148024</td>\n",
       "      <td>0.866367</td>\n",
       "      <td>0.011379</td>\n",
       "      <td>0.882521</td>\n",
       "      <td>69170.0</td>\n",
       "    </tr>\n",
       "    <tr>\n",
       "      <th>minority</th>\n",
       "      <td>0.154382</td>\n",
       "      <td>0.518238</td>\n",
       "      <td>0.212754</td>\n",
       "      <td>0.119167</td>\n",
       "      <td>0.954656</td>\n",
       "      <td>0.008868</td>\n",
       "      <td>0.958861</td>\n",
       "      <td>20540.0</td>\n",
       "    </tr>\n",
       "  </tbody>\n",
       "</table>\n",
       "</div>"
      ],
      "text/plain": [
       "          accuracy  balanced accuracy        f1  precision  \\\n",
       "majmin                                                       \n",
       "majority  0.246610           0.561127  0.257495   0.148024   \n",
       "minority  0.154382           0.518238  0.212754   0.119167   \n",
       "\n",
       "          false positive rate  false negative rate  selection rate    count  \n",
       "majmin                                                                       \n",
       "majority             0.866367             0.011379        0.882521  69170.0  \n",
       "minority             0.954656             0.008868        0.958861  20540.0  "
      ]
     },
     "execution_count": 58,
     "metadata": {},
     "output_type": "execute_result"
    }
   ],
   "source": [
    "metric_frame.by_group"
   ]
  },
  {
   "cell_type": "code",
   "execution_count": 59,
   "id": "a9ddbe63",
   "metadata": {
    "execution": {
     "iopub.execute_input": "2025-07-22T10:06:43.633641Z",
     "iopub.status.busy": "2025-07-22T10:06:43.632949Z",
     "iopub.status.idle": "2025-07-22T10:06:45.758810Z",
     "shell.execute_reply": "2025-07-22T10:06:45.757241Z"
    },
    "papermill": {
     "duration": 2.140429,
     "end_time": "2025-07-22T10:06:45.760615",
     "exception": false,
     "start_time": "2025-07-22T10:06:43.620186",
     "status": "completed"
    },
    "tags": []
   },
   "outputs": [
    {
     "data": {
      "text/plain": [
       "array([[<Axes: title={'center': 'accuracy'}, xlabel='majmin'>,\n",
       "        <Axes: title={'center': 'balanced accuracy'}, xlabel='majmin'>,\n",
       "        <Axes: title={'center': 'f1'}, xlabel='majmin'>],\n",
       "       [<Axes: title={'center': 'precision'}, xlabel='majmin'>,\n",
       "        <Axes: title={'center': 'false positive rate'}, xlabel='majmin'>,\n",
       "        <Axes: title={'center': 'false negative rate'}, xlabel='majmin'>],\n",
       "       [<Axes: title={'center': 'selection rate'}, xlabel='majmin'>,\n",
       "        <Axes: title={'center': 'count'}, xlabel='majmin'>,\n",
       "        <Axes: xlabel='majmin'>]], dtype=object)"
      ]
     },
     "execution_count": 59,
     "metadata": {},
     "output_type": "execute_result"
    },
    {
     "data": {
      "image/png": "[encoded data removed]",
      "text/plain": [
       "<Figure size 1200x800 with 9 Axes>"
      ]
     },
     "metadata": {},
     "output_type": "display_data"
    }
   ],
   "source": [
    "# In a graphic\n",
    "metric_frame.by_group.plot.bar(\n",
    "    subplots=True,\n",
    "    layout=[3, 3],\n",
    "    legend=False,\n",
    "    figsize=[12, 8],\n",
    "    title=\"Show all metrics\",\n",
    ")"
   ]
  },
  {
   "cell_type": "markdown",
   "id": "f57a0bac",
   "metadata": {
    "papermill": {
     "duration": 0.027838,
     "end_time": "2025-07-22T10:06:45.820633",
     "exception": false,
     "start_time": "2025-07-22T10:06:45.792795",
     "status": "completed"
    },
    "tags": []
   },
   "source": [
    "# Final Output"
   ]
  },
  {
   "cell_type": "code",
   "execution_count": 60,
   "id": "96d280a3",
   "metadata": {
    "execution": {
     "iopub.execute_input": "2025-07-22T10:06:45.886442Z",
     "iopub.status.busy": "2025-07-22T10:06:45.885598Z",
     "iopub.status.idle": "2025-07-22T10:06:45.897224Z",
     "shell.execute_reply": "2025-07-22T10:06:45.896039Z"
    },
    "papermill": {
     "duration": 0.045935,
     "end_time": "2025-07-22T10:06:45.898892",
     "exception": false,
     "start_time": "2025-07-22T10:06:45.852957",
     "status": "completed"
    },
    "tags": []
   },
   "outputs": [
    {
     "data": {
      "text/plain": [
       "4"
      ]
     },
     "execution_count": 60,
     "metadata": {},
     "output_type": "execute_result"
    }
   ],
   "source": [
    "sub_universes = universe_analysis.generate_sub_universes()\n",
    "len(sub_universes)"
   ]
  },
  {
   "cell_type": "code",
   "execution_count": 61,
   "id": "92adf7ba",
   "metadata": {
    "execution": {
     "iopub.execute_input": "2025-07-22T10:06:45.959892Z",
     "iopub.status.busy": "2025-07-22T10:06:45.959327Z",
     "iopub.status.idle": "2025-07-22T10:06:45.966865Z",
     "shell.execute_reply": "2025-07-22T10:06:45.965872Z"
    },
    "papermill": {
     "duration": 0.040775,
     "end_time": "2025-07-22T10:06:45.968623",
     "exception": false,
     "start_time": "2025-07-22T10:06:45.927848",
     "status": "completed"
    },
    "tags": []
   },
   "outputs": [],
   "source": [
    "def filter_sub_universe_data(sub_universe, org_test):\n",
    "    # Keep all rows — no filtering\n",
    "    keep_rows_mask = np.ones(org_test.shape[0], dtype=bool)\n",
    "\n",
    "    print(f\"[INFO] Keeping all rows: {keep_rows_mask.sum()} rows retained.\")\n",
    "    return keep_rows_mask"
   ]
  },
  {
   "cell_type": "code",
   "execution_count": 62,
   "id": "4a759155",
   "metadata": {
    "execution": {
     "iopub.execute_input": "2025-07-22T10:06:46.027354Z",
     "iopub.status.busy": "2025-07-22T10:06:46.026342Z",
     "iopub.status.idle": "2025-07-22T10:06:57.966887Z",
     "shell.execute_reply": "2025-07-22T10:06:57.965451Z"
    },
    "papermill": {
     "duration": 11.971354,
     "end_time": "2025-07-22T10:06:57.969118",
     "exception": false,
     "start_time": "2025-07-22T10:06:45.997764",
     "status": "completed"
    },
    "tags": []
   },
   "outputs": [
    {
     "name": "stdout",
     "output_type": "stream",
     "text": [
      "Stopping execution_time clock.\n",
      "[INFO] Keeping all rows: 89710 rows retained.\n"
     ]
    },
    {
     "name": "stdout",
     "output_type": "stream",
     "text": [
      "[INFO] Keeping all rows: 89710 rows retained.\n"
     ]
    },
    {
     "name": "stdout",
     "output_type": "stream",
     "text": [
      "[INFO] Keeping all rows: 89710 rows retained.\n"
     ]
    },
    {
     "name": "stdout",
     "output_type": "stream",
     "text": [
      "[INFO] Keeping all rows: 89710 rows retained.\n"
     ]
    },
    {
     "data": {
      "text/html": [
       "<div>\n",
       "<style scoped>\n",
       "    .dataframe tbody tr th:only-of-type {\n",
       "        vertical-align: middle;\n",
       "    }\n",
       "\n",
       "    .dataframe tbody tr th {\n",
       "        vertical-align: top;\n",
       "    }\n",
       "\n",
       "    .dataframe thead th {\n",
       "        text-align: right;\n",
       "    }\n",
       "</style>\n",
       "<table border=\"1\" class=\"dataframe\">\n",
       "  <thead>\n",
       "    <tr style=\"text-align: right;\">\n",
       "      <th></th>\n",
       "      <th>run_no</th>\n",
       "      <th>universe_id</th>\n",
       "      <th>universe_settings</th>\n",
       "      <th>execution_time</th>\n",
       "      <th>test_size_n</th>\n",
       "      <th>test_size_frac</th>\n",
       "      <th>fair_main_equalized_odds_difference</th>\n",
       "      <th>fair_main_equalized_odds_ratio</th>\n",
       "      <th>fair_main_demographic_parity_difference</th>\n",
       "      <th>fair_main_demographic_parity_ratio</th>\n",
       "      <th>...</th>\n",
       "      <th>perf_grp_precision_0</th>\n",
       "      <th>perf_grp_precision_1</th>\n",
       "      <th>perf_grp_false positive rate_0</th>\n",
       "      <th>perf_grp_false positive rate_1</th>\n",
       "      <th>perf_grp_false negative rate_0</th>\n",
       "      <th>perf_grp_false negative rate_1</th>\n",
       "      <th>perf_grp_selection rate_0</th>\n",
       "      <th>perf_grp_selection rate_1</th>\n",
       "      <th>perf_grp_count_0</th>\n",
       "      <th>perf_grp_count_1</th>\n",
       "    </tr>\n",
       "  </thead>\n",
       "  <tbody>\n",
       "    <tr>\n",
       "      <th>0</th>\n",
       "      <td>4</td>\n",
       "      <td>ffb01df0e88912988f9332d4aad37d21</td>\n",
       "      <td>{\"cutoff\": \"quantile_0.1\", \"eval_fairness_grou...</td>\n",
       "      <td>18.694885</td>\n",
       "      <td>89710</td>\n",
       "      <td>1.0</td>\n",
       "      <td>0.088289</td>\n",
       "      <td>0.907518</td>\n",
       "      <td>0.076339</td>\n",
       "      <td>0.920385</td>\n",
       "      <td>...</td>\n",
       "      <td>NaN</td>\n",
       "      <td>NaN</td>\n",
       "      <td>NaN</td>\n",
       "      <td>NaN</td>\n",
       "      <td>NaN</td>\n",
       "      <td>NaN</td>\n",
       "      <td>NaN</td>\n",
       "      <td>NaN</td>\n",
       "      <td>NaN</td>\n",
       "      <td>NaN</td>\n",
       "    </tr>\n",
       "    <tr>\n",
       "      <th>0</th>\n",
       "      <td>4</td>\n",
       "      <td>ffb01df0e88912988f9332d4aad37d21</td>\n",
       "      <td>{\"cutoff\": \"quantile_0.1\", \"eval_fairness_grou...</td>\n",
       "      <td>18.694885</td>\n",
       "      <td>89710</td>\n",
       "      <td>1.0</td>\n",
       "      <td>0.088289</td>\n",
       "      <td>0.907518</td>\n",
       "      <td>0.076339</td>\n",
       "      <td>0.920385</td>\n",
       "      <td>...</td>\n",
       "      <td>0.119167</td>\n",
       "      <td>0.148024</td>\n",
       "      <td>0.954656</td>\n",
       "      <td>0.866367</td>\n",
       "      <td>0.008868</td>\n",
       "      <td>0.011379</td>\n",
       "      <td>0.958861</td>\n",
       "      <td>0.882521</td>\n",
       "      <td>20540.0</td>\n",
       "      <td>69170.0</td>\n",
       "    </tr>\n",
       "    <tr>\n",
       "      <th>0</th>\n",
       "      <td>4</td>\n",
       "      <td>ffb01df0e88912988f9332d4aad37d21</td>\n",
       "      <td>{\"cutoff\": \"quantile_0.25\", \"eval_fairness_gro...</td>\n",
       "      <td>18.694885</td>\n",
       "      <td>89710</td>\n",
       "      <td>1.0</td>\n",
       "      <td>0.159493</td>\n",
       "      <td>0.810766</td>\n",
       "      <td>0.138226</td>\n",
       "      <td>0.838628</td>\n",
       "      <td>...</td>\n",
       "      <td>NaN</td>\n",
       "      <td>NaN</td>\n",
       "      <td>NaN</td>\n",
       "      <td>NaN</td>\n",
       "      <td>NaN</td>\n",
       "      <td>NaN</td>\n",
       "      <td>NaN</td>\n",
       "      <td>NaN</td>\n",
       "      <td>NaN</td>\n",
       "      <td>NaN</td>\n",
       "    </tr>\n",
       "    <tr>\n",
       "      <th>0</th>\n",
       "      <td>4</td>\n",
       "      <td>ffb01df0e88912988f9332d4aad37d21</td>\n",
       "      <td>{\"cutoff\": \"quantile_0.25\", \"eval_fairness_gro...</td>\n",
       "      <td>18.694885</td>\n",
       "      <td>89710</td>\n",
       "      <td>1.0</td>\n",
       "      <td>0.159493</td>\n",
       "      <td>0.810766</td>\n",
       "      <td>0.138226</td>\n",
       "      <td>0.838628</td>\n",
       "      <td>...</td>\n",
       "      <td>0.129476</td>\n",
       "      <td>0.174428</td>\n",
       "      <td>0.842835</td>\n",
       "      <td>0.683342</td>\n",
       "      <td>0.038007</td>\n",
       "      <td>0.051751</td>\n",
       "      <td>0.856573</td>\n",
       "      <td>0.718346</td>\n",
       "      <td>20540.0</td>\n",
       "      <td>69170.0</td>\n",
       "    </tr>\n",
       "  </tbody>\n",
       "</table>\n",
       "<p>4 rows × 50 columns</p>\n",
       "</div>"
      ],
      "text/plain": [
       "  run_no                       universe_id  \\\n",
       "0      4  ffb01df0e88912988f9332d4aad37d21   \n",
       "0      4  ffb01df0e88912988f9332d4aad37d21   \n",
       "0      4  ffb01df0e88912988f9332d4aad37d21   \n",
       "0      4  ffb01df0e88912988f9332d4aad37d21   \n",
       "\n",
       "                                   universe_settings  execution_time  \\\n",
       "0  {\"cutoff\": \"quantile_0.1\", \"eval_fairness_grou...       18.694885   \n",
       "0  {\"cutoff\": \"quantile_0.1\", \"eval_fairness_grou...       18.694885   \n",
       "0  {\"cutoff\": \"quantile_0.25\", \"eval_fairness_gro...       18.694885   \n",
       "0  {\"cutoff\": \"quantile_0.25\", \"eval_fairness_gro...       18.694885   \n",
       "\n",
       "   test_size_n  test_size_frac  fair_main_equalized_odds_difference  \\\n",
       "0        89710             1.0                             0.088289   \n",
       "0        89710             1.0                             0.088289   \n",
       "0        89710             1.0                             0.159493   \n",
       "0        89710             1.0                             0.159493   \n",
       "\n",
       "   fair_main_equalized_odds_ratio  fair_main_demographic_parity_difference  \\\n",
       "0                        0.907518                                 0.076339   \n",
       "0                        0.907518                                 0.076339   \n",
       "0                        0.810766                                 0.138226   \n",
       "0                        0.810766                                 0.138226   \n",
       "\n",
       "   fair_main_demographic_parity_ratio  ...  perf_grp_precision_0  \\\n",
       "0                            0.920385  ...                   NaN   \n",
       "0                            0.920385  ...              0.119167   \n",
       "0                            0.838628  ...                   NaN   \n",
       "0                            0.838628  ...              0.129476   \n",
       "\n",
       "   perf_grp_precision_1  perf_grp_false positive rate_0  \\\n",
       "0                   NaN                             NaN   \n",
       "0              0.148024                        0.954656   \n",
       "0                   NaN                             NaN   \n",
       "0              0.174428                        0.842835   \n",
       "\n",
       "   perf_grp_false positive rate_1  perf_grp_false negative rate_0  \\\n",
       "0                             NaN                             NaN   \n",
       "0                        0.866367                        0.008868   \n",
       "0                             NaN                             NaN   \n",
       "0                        0.683342                        0.038007   \n",
       "\n",
       "   perf_grp_false negative rate_1  perf_grp_selection rate_0  \\\n",
       "0                             NaN                        NaN   \n",
       "0                        0.011379                   0.958861   \n",
       "0                             NaN                        NaN   \n",
       "0                        0.051751                   0.856573   \n",
       "\n",
       "   perf_grp_selection rate_1  perf_grp_count_0  perf_grp_count_1  \n",
       "0                        NaN               NaN               NaN  \n",
       "0                   0.882521           20540.0           69170.0  \n",
       "0                        NaN               NaN               NaN  \n",
       "0                   0.718346           20540.0           69170.0  \n",
       "\n",
       "[4 rows x 50 columns]"
      ]
     },
     "execution_count": 62,
     "metadata": {},
     "output_type": "execute_result"
    }
   ],
   "source": [
    "final_output = universe_analysis.generate_final_output(\n",
    "    y_pred_prob=probs_test,\n",
    "    y_test=y_true,\n",
    "    org_test=org_test,\n",
    "    filter_data=filter_sub_universe_data,\n",
    "    cp_metrics_df=cp_metrics_df,\n",
    "    save=True,\n",
    ")\n",
    "final_output"
   ]
  },
  {
   "cell_type": "code",
   "execution_count": null,
   "id": "721ff514-cb11-46f8-b6fc-50392f74b5cb",
   "metadata": {
    "papermill": {
     "duration": 0.031087,
     "end_time": "2025-07-22T10:06:58.031164",
     "exception": false,
     "start_time": "2025-07-22T10:06:58.000077",
     "status": "completed"
    },
    "tags": []
   },
   "outputs": [],
   "source": []
  }
 ],
 "metadata": {
  "celltoolbar": "Tags",
  "kernelspec": {
   "display_name": "Python (CMA Fairness)",
   "language": "python",
   "name": "cma_fair_env"
  },
  "language_info": {
   "codemirror_mode": {
    "name": "ipython",
    "version": 3
   },
   "file_extension": ".py",
   "mimetype": "text/x-python",
   "name": "python",
   "nbconvert_exporter": "python",
   "pygments_lexer": "ipython3",
   "version": "3.10.12"
  },
  "papermill": {
   "default_parameters": {},
   "duration": 34.996777,
   "end_time": "2025-07-22T10:06:58.881876",
   "environment_variables": {},
   "exception": null,
   "input_path": "universe_analysis.ipynb",
   "output_path": "output/runs/4/notebooks/m_4-ffb01df0e88912988f9332d4aad37d21.ipynb",
   "parameters": {
    "output_dir": "output",
    "run_no": "4",
    "seed": "2023",
    "universe": "{\"cutoff\": [\"quantile_0.1\", \"quantile_0.25\"], \"eval_fairness_grouping\": [\"majority-minority\", \"nationality-all\"], \"exclude_features\": \"nationality\", \"exclude_subgroups\": \"keep-all\", \"model\": \"penalized_logreg\", \"scale\": \"scale\"}",
    "universe_id": "ffb01df0e88912988f9332d4aad37d21"
   },
   "start_time": "2025-07-22T10:06:23.885099",
   "version": "2.6.0"
  }
 },
 "nbformat": 4,
 "nbformat_minor": 5
}