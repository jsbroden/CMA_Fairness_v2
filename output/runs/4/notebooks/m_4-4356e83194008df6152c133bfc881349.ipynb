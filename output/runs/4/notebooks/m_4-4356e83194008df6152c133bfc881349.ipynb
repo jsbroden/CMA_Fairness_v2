{
 "cells": [
  {
   "cell_type": "code",
   "execution_count": 1,
   "id": "f159f837-637b-42ba-96b5-ec9a68c44524",
   "metadata": {
    "execution": {
     "iopub.execute_input": "2025-07-22T10:06:53.198936Z",
     "iopub.status.busy": "2025-07-22T10:06:53.198044Z",
     "iopub.status.idle": "2025-07-22T10:06:53.212483Z",
     "shell.execute_reply": "2025-07-22T10:06:53.211401Z"
    },
    "papermill": {
     "duration": 0.034247,
     "end_time": "2025-07-22T10:06:53.214220",
     "exception": false,
     "start_time": "2025-07-22T10:06:53.179973",
     "status": "completed"
    },
    "tags": []
   },
   "outputs": [
    {
     "name": "stdout",
     "output_type": "stream",
     "text": [
      "/dss/dsshome1/0C/ra93lal2/cma/CMA_Fairness_v2\n"
     ]
    },
    {
     "name": "stderr",
     "output_type": "stream",
     "text": [
      "/dss/dsshome1/0C/ra93lal2/.local/share/virtualenvs/CMA_Fairness_v2-3j10GkSs/lib/python3.10/site-packages/IPython/core/magics/osm.py:393: UserWarning: This is now an optional IPython functionality, using bookmarks requires you to install the `pickleshare` library.\n",
      "  bkms = self.shell.db.get('bookmarks', {})\n",
      "/dss/dsshome1/0C/ra93lal2/.local/share/virtualenvs/CMA_Fairness_v2-3j10GkSs/lib/python3.10/site-packages/IPython/core/magics/osm.py:417: UserWarning: This is now an optional IPython functionality, setting dhist requires you to install the `pickleshare` library.\n",
      "  self.shell.db['dhist'] = compress_dhist(dhist)[-100:]\n"
     ]
    }
   ],
   "source": [
    "%cd ~/cma/CMA_Fairness_v2"
   ]
  },
  {
   "cell_type": "markdown",
   "id": "de2603b9",
   "metadata": {
    "papermill": {
     "duration": 0.015142,
     "end_time": "2025-07-22T10:06:53.246528",
     "exception": false,
     "start_time": "2025-07-22T10:06:53.231386",
     "status": "completed"
    },
    "tags": []
   },
   "source": [
    "The following cell holds the definition of our parameters, these values can be overriden by rendering the with e.g. the following command:\n",
    "\n",
    "papermill -p alpha 0.2 -p ratio 0.3 universe_analysis.ipynb output/test_run.ipynb"
   ]
  },
  {
   "cell_type": "code",
   "execution_count": 2,
   "id": "a80968a0-40bb-4fa9-85ef-2d5eefb01975",
   "metadata": {
    "execution": {
     "iopub.execute_input": "2025-07-22T10:06:53.279214Z",
     "iopub.status.busy": "2025-07-22T10:06:53.278250Z",
     "iopub.status.idle": "2025-07-22T10:06:53.284727Z",
     "shell.execute_reply": "2025-07-22T10:06:53.283500Z"
    },
    "papermill": {
     "duration": 0.024788,
     "end_time": "2025-07-22T10:06:53.286601",
     "exception": false,
     "start_time": "2025-07-22T10:06:53.261813",
     "status": "completed"
    },
    "tags": []
   },
   "outputs": [
    {
     "name": "stdout",
     "output_type": "stream",
     "text": [
      "Current working directory: /dss/dsshome1/0C/ra93lal2/cma/CMA_Fairness_v2\n"
     ]
    }
   ],
   "source": [
    "import os\n",
    "print(\"Current working directory:\", os.getcwd())"
   ]
  },
  {
   "cell_type": "code",
   "execution_count": 3,
   "id": "2dce4c03",
   "metadata": {
    "execution": {
     "iopub.execute_input": "2025-07-22T10:06:53.320262Z",
     "iopub.status.busy": "2025-07-22T10:06:53.319699Z",
     "iopub.status.idle": "2025-07-22T10:06:53.325964Z",
     "shell.execute_reply": "2025-07-22T10:06:53.324860Z"
    },
    "papermill": {
     "duration": 0.024128,
     "end_time": "2025-07-22T10:06:53.327816",
     "exception": false,
     "start_time": "2025-07-22T10:06:53.303688",
     "status": "completed"
    },
    "tags": [
     "parameters"
    ]
   },
   "outputs": [],
   "source": [
    "run_no = 0\n",
    "universe_id = \"test\"\n",
    "universe = {\n",
    "    \"scale\": \"scale\", # \"scale\", \"do-not-scale\",\n",
    "    #\"encode_categorical\": \"one-hot\", # \"ordinal\", \"one-hot\"\n",
    "    \"model\": \"elasticnet\", # \"logreg\", \"penalized_logreg\", \"rf\", \"gbm\", \"elasticnet\"\n",
    "    \"cutoff\": [\"quantile_0.15\", \"quantile_0.30\"],\n",
    "    \"exclude_features\": \"nationality-sex\", # \"none\", \"nationality\", \"sex\", \"nationality-sex\"\n",
    "    \"exclude_subgroups\": \"keep-all\", # \"keep-all\", \"drop-non-german\"\n",
    "    \"eval_fairness_grouping\": [\"majority-minority\", \"nationality-all\"]\n",
    "}\n",
    "\n",
    "output_dir=\"./output\"\n",
    "seed=0"
   ]
  },
  {
   "cell_type": "code",
   "execution_count": 4,
   "id": "caa95c79",
   "metadata": {
    "execution": {
     "iopub.execute_input": "2025-07-22T10:06:53.363039Z",
     "iopub.status.busy": "2025-07-22T10:06:53.362714Z",
     "iopub.status.idle": "2025-07-22T10:06:53.367840Z",
     "shell.execute_reply": "2025-07-22T10:06:53.366799Z"
    },
    "papermill": {
     "duration": 0.024957,
     "end_time": "2025-07-22T10:06:53.369942",
     "exception": false,
     "start_time": "2025-07-22T10:06:53.344985",
     "status": "completed"
    },
    "tags": [
     "injected-parameters"
    ]
   },
   "outputs": [],
   "source": [
    "# Parameters\n",
    "universe_id = \"4356e83194008df6152c133bfc881349\"\n",
    "run_no = \"4\"\n",
    "universe = \"{\\\"cutoff\\\": [\\\"quantile_0.1\\\", \\\"quantile_0.25\\\"], \\\"eval_fairness_grouping\\\": [\\\"majority-minority\\\", \\\"nationality-all\\\"], \\\"exclude_features\\\": \\\"nationality-sex\\\", \\\"exclude_subgroups\\\": \\\"keep-all\\\", \\\"model\\\": \\\"penalized_logreg\\\", \\\"scale\\\": \\\"scale\\\"}\"\n",
    "output_dir = \"output\"\n",
    "seed = \"2023\"\n"
   ]
  },
  {
   "cell_type": "code",
   "execution_count": 5,
   "id": "1650acaf",
   "metadata": {
    "execution": {
     "iopub.execute_input": "2025-07-22T10:06:53.404700Z",
     "iopub.status.busy": "2025-07-22T10:06:53.404052Z",
     "iopub.status.idle": "2025-07-22T10:06:53.409743Z",
     "shell.execute_reply": "2025-07-22T10:06:53.408748Z"
    },
    "papermill": {
     "duration": 0.025305,
     "end_time": "2025-07-22T10:06:53.412069",
     "exception": false,
     "start_time": "2025-07-22T10:06:53.386764",
     "status": "completed"
    },
    "tags": []
   },
   "outputs": [],
   "source": [
    "import json\n",
    "# Parse universe into dict if it is passed as a string\n",
    "if isinstance(universe, str):\n",
    "    universe = json.loads(universe)"
   ]
  },
  {
   "cell_type": "code",
   "execution_count": 6,
   "id": "16620c48",
   "metadata": {
    "execution": {
     "iopub.execute_input": "2025-07-22T10:06:53.446808Z",
     "iopub.status.busy": "2025-07-22T10:06:53.446402Z",
     "iopub.status.idle": "2025-07-22T10:06:53.494875Z",
     "shell.execute_reply": "2025-07-22T10:06:53.493941Z"
    },
    "papermill": {
     "duration": 0.0671,
     "end_time": "2025-07-22T10:06:53.496651",
     "exception": false,
     "start_time": "2025-07-22T10:06:53.429551",
     "status": "completed"
    },
    "tags": []
   },
   "outputs": [],
   "source": [
    "# Auto-reload the custom package\n",
    "%load_ext autoreload\n",
    "%autoreload 1\n",
    "%aimport fairness_multiverse"
   ]
  },
  {
   "cell_type": "code",
   "execution_count": 7,
   "id": "01c5c9f3",
   "metadata": {
    "execution": {
     "iopub.execute_input": "2025-07-22T10:06:53.531477Z",
     "iopub.status.busy": "2025-07-22T10:06:53.530872Z",
     "iopub.status.idle": "2025-07-22T10:06:56.219766Z",
     "shell.execute_reply": "2025-07-22T10:06:56.218602Z"
    },
    "papermill": {
     "duration": 2.709196,
     "end_time": "2025-07-22T10:06:56.222058",
     "exception": false,
     "start_time": "2025-07-22T10:06:53.512862",
     "status": "completed"
    },
    "tags": []
   },
   "outputs": [],
   "source": [
    "from fairness_multiverse.universe import UniverseAnalysis\n",
    "\n",
    "universe_analysis = UniverseAnalysis(\n",
    "    run_no = run_no,\n",
    "    universe_id = universe_id,\n",
    "    universe = universe,\n",
    "    output_dir=output_dir,\n",
    ")"
   ]
  },
  {
   "cell_type": "code",
   "execution_count": 8,
   "id": "106241f5",
   "metadata": {
    "execution": {
     "iopub.execute_input": "2025-07-22T10:06:56.265541Z",
     "iopub.status.busy": "2025-07-22T10:06:56.264968Z",
     "iopub.status.idle": "2025-07-22T10:06:56.273329Z",
     "shell.execute_reply": "2025-07-22T10:06:56.271984Z"
    },
    "papermill": {
     "duration": 0.033695,
     "end_time": "2025-07-22T10:06:56.275550",
     "exception": false,
     "start_time": "2025-07-22T10:06:56.241855",
     "status": "completed"
    },
    "tags": []
   },
   "outputs": [
    {
     "name": "stdout",
     "output_type": "stream",
     "text": [
      "Using Seed: 2023\n"
     ]
    }
   ],
   "source": [
    "import numpy as np\n",
    "parsed_seed = int(seed)\n",
    "np.random.seed(parsed_seed)\n",
    "print(f\"Using Seed: {parsed_seed}\")"
   ]
  },
  {
   "cell_type": "markdown",
   "id": "e0ebdc57",
   "metadata": {
    "papermill": {
     "duration": 0.020427,
     "end_time": "2025-07-22T10:06:56.315864",
     "exception": false,
     "start_time": "2025-07-22T10:06:56.295437",
     "status": "completed"
    },
    "tags": []
   },
   "source": [
    "# Loading Data"
   ]
  },
  {
   "cell_type": "markdown",
   "id": "681925a3",
   "metadata": {
    "papermill": {
     "duration": 0.018772,
     "end_time": "2025-07-22T10:06:56.354720",
     "exception": false,
     "start_time": "2025-07-22T10:06:56.335948",
     "status": "completed"
    },
    "tags": []
   },
   "source": [
    "Load siab_train, siab_test, siab_calib and/or \n",
    "load siab_train_features, siab_train_labels"
   ]
  },
  {
   "cell_type": "code",
   "execution_count": 9,
   "id": "f0496b8a",
   "metadata": {
    "execution": {
     "iopub.execute_input": "2025-07-22T10:06:56.395349Z",
     "iopub.status.busy": "2025-07-22T10:06:56.394838Z",
     "iopub.status.idle": "2025-07-22T10:06:56.401645Z",
     "shell.execute_reply": "2025-07-22T10:06:56.400396Z"
    },
    "papermill": {
     "duration": 0.029603,
     "end_time": "2025-07-22T10:06:56.403971",
     "exception": false,
     "start_time": "2025-07-22T10:06:56.374368",
     "status": "completed"
    },
    "tags": []
   },
   "outputs": [],
   "source": [
    "# Do I need to load siab? Delete this cell?\n",
    "\n",
    "#from pathlib import Path\n",
    "#import pandas as pd\n",
    "#\n",
    "## File paths\n",
    "#raw_file = Path(\"data/raw/siab.csv\")\n",
    "#cache_file = Path(\"data/siab_cached.csv.gz\")\n",
    "#\n",
    "## Ensure cache directory exists\n",
    "#cache_file.parent.mkdir(parents=True, exist_ok=True)\n",
    "#\n",
    "## Load with simple caching\n",
    "#if cache_file.exists():\n",
    "#    print(f\"Loading SIAB data from cache: {cache_file}\")\n",
    "#    siab = pd.read_csv(cache_file, compression='gzip')\n",
    "#else:\n",
    "#    print(f\"Cache not found. Reading raw SIAB data: {raw_file}\")\n",
    "#    siab = pd.read_csv(raw_file)\n",
    "#    siab.to_csv(cache_file, index=False, compression='gzip')\n",
    "#    print(f\"Cached SIAB data to: {cache_file}\")\n",
    "#\n",
    "## Now use `siab` DataFrame as needed\n",
    "#print(siab.shape)\n"
   ]
  },
  {
   "cell_type": "code",
   "execution_count": 10,
   "id": "a0edb063",
   "metadata": {
    "execution": {
     "iopub.execute_input": "2025-07-22T10:06:56.448794Z",
     "iopub.status.busy": "2025-07-22T10:06:56.448201Z",
     "iopub.status.idle": "2025-07-22T10:06:56.945109Z",
     "shell.execute_reply": "2025-07-22T10:06:56.944083Z"
    },
    "papermill": {
     "duration": 0.525008,
     "end_time": "2025-07-22T10:06:56.949886",
     "exception": false,
     "start_time": "2025-07-22T10:06:56.424878",
     "status": "completed"
    },
    "tags": []
   },
   "outputs": [],
   "source": [
    "import pandas as pd\n",
    "\n",
    "X_train = pd.read_csv(\"./data/X_train.csv\")\n",
    "y_train = pd.read_csv(\"./data/y_train.csv\")"
   ]
  },
  {
   "cell_type": "code",
   "execution_count": 11,
   "id": "63d08085",
   "metadata": {
    "execution": {
     "iopub.execute_input": "2025-07-22T10:06:56.984075Z",
     "iopub.status.busy": "2025-07-22T10:06:56.983654Z",
     "iopub.status.idle": "2025-07-22T10:06:58.538193Z",
     "shell.execute_reply": "2025-07-22T10:06:58.537094Z"
    },
    "papermill": {
     "duration": 1.574362,
     "end_time": "2025-07-22T10:06:58.540199",
     "exception": false,
     "start_time": "2025-07-22T10:06:56.965837",
     "status": "completed"
    },
    "tags": []
   },
   "outputs": [],
   "source": [
    "X_test = pd.read_csv(\"./data/X_test.csv\")\n",
    "y_true = pd.read_csv(\"./data/y_test.csv\")"
   ]
  },
  {
   "cell_type": "code",
   "execution_count": 12,
   "id": "98a8d0fa-1d3d-4ed8-bb2c-281470e24add",
   "metadata": {
    "execution": {
     "iopub.execute_input": "2025-07-22T10:06:58.582977Z",
     "iopub.status.busy": "2025-07-22T10:06:58.582061Z",
     "iopub.status.idle": "2025-07-22T10:07:00.049030Z",
     "shell.execute_reply": "2025-07-22T10:07:00.047778Z"
    },
    "papermill": {
     "duration": 1.489893,
     "end_time": "2025-07-22T10:07:00.050878",
     "exception": false,
     "start_time": "2025-07-22T10:06:58.560985",
     "status": "completed"
    },
    "tags": []
   },
   "outputs": [],
   "source": [
    "# Calibration data for conformal\n",
    "X_calib = pd.read_csv(\"./data/X_calib.csv\")\n",
    "y_calib = pd.read_csv(\"./data/y_calib.csv\")"
   ]
  },
  {
   "cell_type": "code",
   "execution_count": 13,
   "id": "e6c733c5",
   "metadata": {
    "execution": {
     "iopub.execute_input": "2025-07-22T10:07:00.098479Z",
     "iopub.status.busy": "2025-07-22T10:07:00.097926Z",
     "iopub.status.idle": "2025-07-22T10:07:00.181458Z",
     "shell.execute_reply": "2025-07-22T10:07:00.180462Z"
    },
    "papermill": {
     "duration": 0.112713,
     "end_time": "2025-07-22T10:07:00.183078",
     "exception": false,
     "start_time": "2025-07-22T10:07:00.070365",
     "status": "completed"
    },
    "tags": []
   },
   "outputs": [],
   "source": [
    "# Auxiliary data needed downstream in the pipeline\n",
    "\n",
    "org_train = X_train.copy()\n",
    "org_test = X_test.copy()\n",
    "org_calib = X_calib.copy()"
   ]
  },
  {
   "cell_type": "markdown",
   "id": "0a4a1b33",
   "metadata": {
    "papermill": {
     "duration": 0.010506,
     "end_time": "2025-07-22T10:07:00.203008",
     "exception": false,
     "start_time": "2025-07-22T10:07:00.192502",
     "status": "completed"
    },
    "tags": []
   },
   "source": [
    "# Preprocessing Data"
   ]
  },
  {
   "cell_type": "code",
   "execution_count": 14,
   "id": "ca879031",
   "metadata": {
    "execution": {
     "iopub.execute_input": "2025-07-22T10:07:00.240436Z",
     "iopub.status.busy": "2025-07-22T10:07:00.239893Z",
     "iopub.status.idle": "2025-07-22T10:07:00.246822Z",
     "shell.execute_reply": "2025-07-22T10:07:00.245696Z"
    },
    "papermill": {
     "duration": 0.041393,
     "end_time": "2025-07-22T10:07:00.259340",
     "exception": false,
     "start_time": "2025-07-22T10:07:00.217947",
     "status": "completed"
    },
    "tags": []
   },
   "outputs": [],
   "source": [
    "# EXCLUDE PROTECTED FEATURES\n",
    "# ----------------------\n",
    "# \"exclude_features\": \"none\", # \"nationality\", \"sex\", \"nationality-sex\"\n",
    "\n",
    "excluded_features = universe[\"exclude_features\"].split(\"-\") # split, e.g.: \"nationality-sex\" -> [\"nationality\", \"sex\"]\n",
    "excluded_features_dictionary = {\n",
    "    \"nationality\": [\"maxdeutsch1\", \"maxdeutsch.Missing.\"],\n",
    "    \"sex\": [\"frau1\"],\n",
    "}\n"
   ]
  },
  {
   "cell_type": "code",
   "execution_count": 15,
   "id": "b745ac60",
   "metadata": {
    "execution": {
     "iopub.execute_input": "2025-07-22T10:07:00.292679Z",
     "iopub.status.busy": "2025-07-22T10:07:00.292279Z",
     "iopub.status.idle": "2025-07-22T10:07:00.301756Z",
     "shell.execute_reply": "2025-07-22T10:07:00.300845Z"
    },
    "papermill": {
     "duration": 0.023109,
     "end_time": "2025-07-22T10:07:00.303218",
     "exception": false,
     "start_time": "2025-07-22T10:07:00.280109",
     "status": "completed"
    },
    "tags": []
   },
   "outputs": [],
   "source": [
    "# Code nice names to column names\n",
    "\n",
    "excluded_features_columns = [\n",
    "    excluded_features_dictionary[f] for f in excluded_features if len(f) > 0 and f != \"none\"\n",
    "]"
   ]
  },
  {
   "cell_type": "code",
   "execution_count": 16,
   "id": "f84f73a2",
   "metadata": {
    "execution": {
     "iopub.execute_input": "2025-07-22T10:07:00.323419Z",
     "iopub.status.busy": "2025-07-22T10:07:00.323027Z",
     "iopub.status.idle": "2025-07-22T10:07:00.328693Z",
     "shell.execute_reply": "2025-07-22T10:07:00.327750Z"
    },
    "papermill": {
     "duration": 0.017146,
     "end_time": "2025-07-22T10:07:00.330420",
     "exception": false,
     "start_time": "2025-07-22T10:07:00.313274",
     "status": "completed"
    },
    "tags": []
   },
   "outputs": [],
   "source": [
    "from utils import flatten_once\n",
    "\n",
    "excluded_features_columns = flatten_once(excluded_features_columns)"
   ]
  },
  {
   "cell_type": "code",
   "execution_count": 17,
   "id": "884dea22",
   "metadata": {
    "execution": {
     "iopub.execute_input": "2025-07-22T10:07:00.370982Z",
     "iopub.status.busy": "2025-07-22T10:07:00.370596Z",
     "iopub.status.idle": "2025-07-22T10:07:00.398067Z",
     "shell.execute_reply": "2025-07-22T10:07:00.396697Z"
    },
    "papermill": {
     "duration": 0.051379,
     "end_time": "2025-07-22T10:07:00.400729",
     "exception": false,
     "start_time": "2025-07-22T10:07:00.349350",
     "status": "completed"
    },
    "tags": []
   },
   "outputs": [
    {
     "name": "stdout",
     "output_type": "stream",
     "text": [
      "Dropping features: ['maxdeutsch1', 'maxdeutsch.Missing.', 'frau1']\n"
     ]
    }
   ],
   "source": [
    "if len(excluded_features_columns) > 0:\n",
    "    print(f\"Dropping features: {excluded_features_columns}\")\n",
    "    X_train.drop(excluded_features_columns, axis=1, inplace=True)"
   ]
  },
  {
   "cell_type": "code",
   "execution_count": 18,
   "id": "95ab8b16",
   "metadata": {
    "execution": {
     "iopub.execute_input": "2025-07-22T10:07:00.447133Z",
     "iopub.status.busy": "2025-07-22T10:07:00.446072Z",
     "iopub.status.idle": "2025-07-22T10:07:00.516641Z",
     "shell.execute_reply": "2025-07-22T10:07:00.515583Z"
    },
    "papermill": {
     "duration": 0.095866,
     "end_time": "2025-07-22T10:07:00.518423",
     "exception": false,
     "start_time": "2025-07-22T10:07:00.422557",
     "status": "completed"
    },
    "tags": []
   },
   "outputs": [
    {
     "name": "stdout",
     "output_type": "stream",
     "text": [
      "Dropping features: ['maxdeutsch1', 'maxdeutsch.Missing.', 'frau1']\n"
     ]
    }
   ],
   "source": [
    "if len(excluded_features_columns) > 0:\n",
    "    print(f\"Dropping features: {excluded_features_columns}\")\n",
    "    X_test.drop(excluded_features_columns, axis=1, inplace=True)"
   ]
  },
  {
   "cell_type": "code",
   "execution_count": 19,
   "id": "1853aaf5-fb9f-46cb-a2b5-8ea4ae2237e4",
   "metadata": {
    "execution": {
     "iopub.execute_input": "2025-07-22T10:07:00.565297Z",
     "iopub.status.busy": "2025-07-22T10:07:00.564655Z",
     "iopub.status.idle": "2025-07-22T10:07:00.632139Z",
     "shell.execute_reply": "2025-07-22T10:07:00.631083Z"
    },
    "papermill": {
     "duration": 0.097163,
     "end_time": "2025-07-22T10:07:00.633654",
     "exception": false,
     "start_time": "2025-07-22T10:07:00.536491",
     "status": "completed"
    },
    "tags": []
   },
   "outputs": [
    {
     "name": "stdout",
     "output_type": "stream",
     "text": [
      "Dropping features: ['maxdeutsch1', 'maxdeutsch.Missing.', 'frau1']\n"
     ]
    }
   ],
   "source": [
    "if len(excluded_features_columns) > 0:\n",
    "    print(f\"Dropping features: {excluded_features_columns}\")\n",
    "    X_calib.drop(excluded_features_columns, axis=1, inplace=True)"
   ]
  },
  {
   "cell_type": "code",
   "execution_count": 20,
   "id": "76c4dc6d",
   "metadata": {
    "execution": {
     "iopub.execute_input": "2025-07-22T10:07:00.668804Z",
     "iopub.status.busy": "2025-07-22T10:07:00.668195Z",
     "iopub.status.idle": "2025-07-22T10:07:00.674261Z",
     "shell.execute_reply": "2025-07-22T10:07:00.673058Z"
    },
    "papermill": {
     "duration": 0.028027,
     "end_time": "2025-07-22T10:07:00.676304",
     "exception": false,
     "start_time": "2025-07-22T10:07:00.648277",
     "status": "completed"
    },
    "tags": []
   },
   "outputs": [],
   "source": [
    "# EXCLUDE CERTAIN SUBGROUPS\n",
    "# ----------------------\n",
    "\n",
    "mode = universe.get(\"exclude_subgroups\", \"keep-all\") \n",
    "# Fetches the exclude_subgroups setting from the universe dict.\n",
    "# Defaults to \"keep-all\" if the key is missing."
   ]
  },
  {
   "cell_type": "code",
   "execution_count": 21,
   "id": "21994072",
   "metadata": {
    "execution": {
     "iopub.execute_input": "2025-07-22T10:07:00.708156Z",
     "iopub.status.busy": "2025-07-22T10:07:00.707351Z",
     "iopub.status.idle": "2025-07-22T10:07:00.715416Z",
     "shell.execute_reply": "2025-07-22T10:07:00.714234Z"
    },
    "papermill": {
     "duration": 0.022278,
     "end_time": "2025-07-22T10:07:00.717742",
     "exception": false,
     "start_time": "2025-07-22T10:07:00.695464",
     "status": "completed"
    },
    "tags": []
   },
   "outputs": [],
   "source": [
    "if mode == \"keep-all\":\n",
    "    keep_mask = pd.Series(True, index=org_train.index)\n",
    "\n",
    "# org_train contains the original feature columns from features_org (in Simson)\n",
    "# features_org contains unprocessed features, for me X_train at beginning ???\n",
    "# For keep-all, creates a boolean Series (keep_mask) of all True, so no rows are removed.\n",
    "\n",
    "elif mode == \"drop-non-german\":\n",
    "    keep_mask = org_train[\"maxdeutsch1\"] == 1 # ??? what about missing values?\n",
    "\n",
    "else:\n",
    "    raise ValueError(f\"Unsupported mode for exclude_subgroups: {mode}\")\n"
   ]
  },
  {
   "cell_type": "code",
   "execution_count": 22,
   "id": "71651440",
   "metadata": {
    "execution": {
     "iopub.execute_input": "2025-07-22T10:07:00.760674Z",
     "iopub.status.busy": "2025-07-22T10:07:00.759948Z",
     "iopub.status.idle": "2025-07-22T10:07:00.767941Z",
     "shell.execute_reply": "2025-07-22T10:07:00.766887Z"
    },
    "papermill": {
     "duration": 0.031846,
     "end_time": "2025-07-22T10:07:00.770090",
     "exception": false,
     "start_time": "2025-07-22T10:07:00.738244",
     "status": "completed"
    },
    "tags": []
   },
   "outputs": [],
   "source": [
    "n_drop = (~keep_mask).sum() # Calculates how many rows are set to be dropped\n",
    "if n_drop > 0:\n",
    "    pct = n_drop / len(keep_mask) * 100\n",
    "    print(f\"Dropping {n_drop} rows ({pct:.2f}%) where mode='{mode}'\")"
   ]
  },
  {
   "cell_type": "code",
   "execution_count": 23,
   "id": "5fb8eee5",
   "metadata": {
    "execution": {
     "iopub.execute_input": "2025-07-22T10:07:00.813713Z",
     "iopub.status.busy": "2025-07-22T10:07:00.812870Z",
     "iopub.status.idle": "2025-07-22T10:07:00.845100Z",
     "shell.execute_reply": "2025-07-22T10:07:00.841358Z"
    },
    "papermill": {
     "duration": 0.059563,
     "end_time": "2025-07-22T10:07:00.850152",
     "exception": false,
     "start_time": "2025-07-22T10:07:00.790589",
     "status": "completed"
    },
    "tags": []
   },
   "outputs": [],
   "source": [
    "X_train = X_train[keep_mask]"
   ]
  },
  {
   "cell_type": "code",
   "execution_count": 24,
   "id": "b202bb3a",
   "metadata": {
    "execution": {
     "iopub.execute_input": "2025-07-22T10:07:00.895444Z",
     "iopub.status.busy": "2025-07-22T10:07:00.894343Z",
     "iopub.status.idle": "2025-07-22T10:07:00.902125Z",
     "shell.execute_reply": "2025-07-22T10:07:00.900882Z"
    },
    "papermill": {
     "duration": 0.032277,
     "end_time": "2025-07-22T10:07:00.903929",
     "exception": false,
     "start_time": "2025-07-22T10:07:00.871652",
     "status": "completed"
    },
    "tags": []
   },
   "outputs": [],
   "source": [
    "y_train = y_train[keep_mask]"
   ]
  },
  {
   "cell_type": "markdown",
   "id": "493e2ac3",
   "metadata": {
    "papermill": {
     "duration": 0.020831,
     "end_time": "2025-07-22T10:07:00.947690",
     "exception": false,
     "start_time": "2025-07-22T10:07:00.926859",
     "status": "completed"
    },
    "tags": []
   },
   "source": [
    "# Model Training"
   ]
  },
  {
   "cell_type": "code",
   "execution_count": 25,
   "id": "679e1268",
   "metadata": {
    "execution": {
     "iopub.execute_input": "2025-07-22T10:07:00.976633Z",
     "iopub.status.busy": "2025-07-22T10:07:00.976236Z",
     "iopub.status.idle": "2025-07-22T10:07:01.193709Z",
     "shell.execute_reply": "2025-07-22T10:07:01.192791Z"
    },
    "papermill": {
     "duration": 0.230624,
     "end_time": "2025-07-22T10:07:01.195296",
     "exception": false,
     "start_time": "2025-07-22T10:07:00.964672",
     "status": "completed"
    },
    "tags": []
   },
   "outputs": [],
   "source": [
    "from sklearn.linear_model import LogisticRegression\n",
    "from sklearn.ensemble import GradientBoostingClassifier, RandomForestClassifier\n",
    "\n",
    "if (universe[\"model\"] == \"logreg\"):\n",
    "    model = LogisticRegression() #penalty=\"none\") #, solver=\"newton-cg\", max_iter=1) # include random_state=19 ?\n",
    "elif (universe[\"model\"] == \"penalized_logreg\"):\n",
    "    model = LogisticRegression(penalty=\"l2\", C=1.0) #, solver=\"newton-cg\", max_iter=1)\n",
    "elif (universe[\"model\"] == \"rf\"):\n",
    "    model = RandomForestClassifier(n_estimators=100, n_jobs=-1)\n",
    "elif (universe[\"model\"] == \"gbm\"):\n",
    "    model = GradientBoostingClassifier()\n",
    "elif (universe[\"model\"] == \"elasticnet\"):\n",
    "    model = LogisticRegression(penalty = 'elasticnet', solver = 'saga', l1_ratio = 0.5, max_iter=5000) # which solver to use?\n",
    "else:\n",
    "    raise \"Unsupported universe.model\""
   ]
  },
  {
   "cell_type": "code",
   "execution_count": 26,
   "id": "0cc8f744",
   "metadata": {
    "execution": {
     "iopub.execute_input": "2025-07-22T10:07:01.219984Z",
     "iopub.status.busy": "2025-07-22T10:07:01.219552Z",
     "iopub.status.idle": "2025-07-22T10:07:01.225453Z",
     "shell.execute_reply": "2025-07-22T10:07:01.224300Z"
    },
    "papermill": {
     "duration": 0.020706,
     "end_time": "2025-07-22T10:07:01.227201",
     "exception": false,
     "start_time": "2025-07-22T10:07:01.206495",
     "status": "completed"
    },
    "tags": []
   },
   "outputs": [],
   "source": [
    "import numpy as np\n",
    "from sklearn.pipeline import Pipeline\n",
    "from sklearn.preprocessing import StandardScaler\n",
    "\n",
    "model = Pipeline([\n",
    "    #(\"continuous_processor\", continuous_processor),\n",
    "    #(\"categorical_preprocessor\", categorical_preprocessor),\n",
    "    (\"scale\", StandardScaler() if universe[\"scale\"] == \"scale\" else None), \n",
    "    (\"model\", model),\n",
    "])"
   ]
  },
  {
   "cell_type": "code",
   "execution_count": 27,
   "id": "9442c04d",
   "metadata": {
    "execution": {
     "iopub.execute_input": "2025-07-22T10:07:01.253055Z",
     "iopub.status.busy": "2025-07-22T10:07:01.252626Z",
     "iopub.status.idle": "2025-07-22T10:07:02.220325Z",
     "shell.execute_reply": "2025-07-22T10:07:02.219310Z"
    },
    "papermill": {
     "duration": 0.982951,
     "end_time": "2025-07-22T10:07:02.222473",
     "exception": false,
     "start_time": "2025-07-22T10:07:01.239522",
     "status": "completed"
    },
    "tags": []
   },
   "outputs": [
    {
     "name": "stderr",
     "output_type": "stream",
     "text": [
      "/dss/dsshome1/0C/ra93lal2/.local/share/virtualenvs/CMA_Fairness_v2-3j10GkSs/lib/python3.10/site-packages/sklearn/linear_model/_logistic.py:444: ConvergenceWarning: lbfgs failed to converge (status=1):\n",
      "STOP: TOTAL NO. of ITERATIONS REACHED LIMIT.\n",
      "\n",
      "Increase the number of iterations (max_iter) or scale the data as shown in:\n",
      "    https://scikit-learn.org/stable/modules/preprocessing.html\n",
      "Please also refer to the documentation for alternative solver options:\n",
      "    https://scikit-learn.org/stable/modules/linear_model.html#logistic-regression\n",
      "  n_iter_i = _check_optimize_result(\n"
     ]
    },
    {
     "data": {
      "text/html": [
       "<style>#sk-container-id-1 {color: black;background-color: white;}#sk-container-id-1 pre{padding: 0;}#sk-container-id-1 div.sk-toggleable {background-color: white;}#sk-container-id-1 label.sk-toggleable__label {cursor: pointer;display: block;width: 100%;margin-bottom: 0;padding: 0.3em;box-sizing: border-box;text-align: center;}#sk-container-id-1 label.sk-toggleable__label-arrow:before {content: \"▸\";float: left;margin-right: 0.25em;color: #696969;}#sk-container-id-1 label.sk-toggleable__label-arrow:hover:before {color: black;}#sk-container-id-1 div.sk-estimator:hover label.sk-toggleable__label-arrow:before {color: black;}#sk-container-id-1 div.sk-toggleable__content {max-height: 0;max-width: 0;overflow: hidden;text-align: left;background-color: #f0f8ff;}#sk-container-id-1 div.sk-toggleable__content pre {margin: 0.2em;color: black;border-radius: 0.25em;background-color: #f0f8ff;}#sk-container-id-1 input.sk-toggleable__control:checked~div.sk-toggleable__content {max-height: 200px;max-width: 100%;overflow: auto;}#sk-container-id-1 input.sk-toggleable__control:checked~label.sk-toggleable__label-arrow:before {content: \"▾\";}#sk-container-id-1 div.sk-estimator input.sk-toggleable__control:checked~label.sk-toggleable__label {background-color: #d4ebff;}#sk-container-id-1 div.sk-label input.sk-toggleable__control:checked~label.sk-toggleable__label {background-color: #d4ebff;}#sk-container-id-1 input.sk-hidden--visually {border: 0;clip: rect(1px 1px 1px 1px);clip: rect(1px, 1px, 1px, 1px);height: 1px;margin: -1px;overflow: hidden;padding: 0;position: absolute;width: 1px;}#sk-container-id-1 div.sk-estimator {font-family: monospace;background-color: #f0f8ff;border: 1px dotted black;border-radius: 0.25em;box-sizing: border-box;margin-bottom: 0.5em;}#sk-container-id-1 div.sk-estimator:hover {background-color: #d4ebff;}#sk-container-id-1 div.sk-parallel-item::after {content: \"\";width: 100%;border-bottom: 1px solid gray;flex-grow: 1;}#sk-container-id-1 div.sk-label:hover label.sk-toggleable__label {background-color: #d4ebff;}#sk-container-id-1 div.sk-serial::before {content: \"\";position: absolute;border-left: 1px solid gray;box-sizing: border-box;top: 0;bottom: 0;left: 50%;z-index: 0;}#sk-container-id-1 div.sk-serial {display: flex;flex-direction: column;align-items: center;background-color: white;padding-right: 0.2em;padding-left: 0.2em;position: relative;}#sk-container-id-1 div.sk-item {position: relative;z-index: 1;}#sk-container-id-1 div.sk-parallel {display: flex;align-items: stretch;justify-content: center;background-color: white;position: relative;}#sk-container-id-1 div.sk-item::before, #sk-container-id-1 div.sk-parallel-item::before {content: \"\";position: absolute;border-left: 1px solid gray;box-sizing: border-box;top: 0;bottom: 0;left: 50%;z-index: -1;}#sk-container-id-1 div.sk-parallel-item {display: flex;flex-direction: column;z-index: 1;position: relative;background-color: white;}#sk-container-id-1 div.sk-parallel-item:first-child::after {align-self: flex-end;width: 50%;}#sk-container-id-1 div.sk-parallel-item:last-child::after {align-self: flex-start;width: 50%;}#sk-container-id-1 div.sk-parallel-item:only-child::after {width: 0;}#sk-container-id-1 div.sk-dashed-wrapped {border: 1px dashed gray;margin: 0 0.4em 0.5em 0.4em;box-sizing: border-box;padding-bottom: 0.4em;background-color: white;}#sk-container-id-1 div.sk-label label {font-family: monospace;font-weight: bold;display: inline-block;line-height: 1.2em;}#sk-container-id-1 div.sk-label-container {text-align: center;}#sk-container-id-1 div.sk-container {/* jupyter's `normalize.less` sets `[hidden] { display: none; }` but bootstrap.min.css set `[hidden] { display: none !important; }` so we also need the `!important` here to be able to override the default hidden behavior on the sphinx rendered scikit-learn.org. See: https://github.com/scikit-learn/scikit-learn/issues/21755 */display: inline-block !important;position: relative;}#sk-container-id-1 div.sk-text-repr-fallback {display: none;}</style><div id=\"sk-container-id-1\" class=\"sk-top-container\"><div class=\"sk-text-repr-fallback\"><pre>Pipeline(steps=[(&#x27;scale&#x27;, StandardScaler()), (&#x27;model&#x27;, LogisticRegression())])</pre><b>In a Jupyter environment, please rerun this cell to show the HTML representation or trust the notebook. <br />On GitHub, the HTML representation is unable to render, please try loading this page with nbviewer.org.</b></div><div class=\"sk-container\" hidden><div class=\"sk-item sk-dashed-wrapped\"><div class=\"sk-label-container\"><div class=\"sk-label sk-toggleable\"><input class=\"sk-toggleable__control sk-hidden--visually\" id=\"sk-estimator-id-1\" type=\"checkbox\" ><label for=\"sk-estimator-id-1\" class=\"sk-toggleable__label sk-toggleable__label-arrow\">Pipeline</label><div class=\"sk-toggleable__content\"><pre>Pipeline(steps=[(&#x27;scale&#x27;, StandardScaler()), (&#x27;model&#x27;, LogisticRegression())])</pre></div></div></div><div class=\"sk-serial\"><div class=\"sk-item\"><div class=\"sk-estimator sk-toggleable\"><input class=\"sk-toggleable__control sk-hidden--visually\" id=\"sk-estimator-id-2\" type=\"checkbox\" ><label for=\"sk-estimator-id-2\" class=\"sk-toggleable__label sk-toggleable__label-arrow\">StandardScaler</label><div class=\"sk-toggleable__content\"><pre>StandardScaler()</pre></div></div></div><div class=\"sk-item\"><div class=\"sk-estimator sk-toggleable\"><input class=\"sk-toggleable__control sk-hidden--visually\" id=\"sk-estimator-id-3\" type=\"checkbox\" ><label for=\"sk-estimator-id-3\" class=\"sk-toggleable__label sk-toggleable__label-arrow\">LogisticRegression</label><div class=\"sk-toggleable__content\"><pre>LogisticRegression()</pre></div></div></div></div></div></div></div>"
      ],
      "text/plain": [
       "Pipeline(steps=[('scale', StandardScaler()), ('model', LogisticRegression())])"
      ]
     },
     "execution_count": 27,
     "metadata": {},
     "output_type": "execute_result"
    }
   ],
   "source": [
    "model.fit(X_train, y_train.values.ravel())"
   ]
  },
  {
   "cell_type": "code",
   "execution_count": 28,
   "id": "af59f8c0",
   "metadata": {
    "execution": {
     "iopub.execute_input": "2025-07-22T10:07:02.267354Z",
     "iopub.status.busy": "2025-07-22T10:07:02.266597Z",
     "iopub.status.idle": "2025-07-22T10:07:02.272774Z",
     "shell.execute_reply": "2025-07-22T10:07:02.271685Z"
    },
    "papermill": {
     "duration": 0.031429,
     "end_time": "2025-07-22T10:07:02.274992",
     "exception": false,
     "start_time": "2025-07-22T10:07:02.243563",
     "status": "completed"
    },
    "tags": []
   },
   "outputs": [],
   "source": [
    "from fairness_multiverse.universe import predict_w_threshold"
   ]
  },
  {
   "cell_type": "code",
   "execution_count": 29,
   "id": "a7cf2e16",
   "metadata": {
    "execution": {
     "iopub.execute_input": "2025-07-22T10:07:02.320552Z",
     "iopub.status.busy": "2025-07-22T10:07:02.319999Z",
     "iopub.status.idle": "2025-07-22T10:07:02.544450Z",
     "shell.execute_reply": "2025-07-22T10:07:02.543372Z"
    },
    "papermill": {
     "duration": 0.250411,
     "end_time": "2025-07-22T10:07:02.546517",
     "exception": false,
     "start_time": "2025-07-22T10:07:02.296106",
     "status": "completed"
    },
    "tags": []
   },
   "outputs": [
    {
     "data": {
      "text/plain": [
       "0.860494928101661"
      ]
     },
     "execution_count": 29,
     "metadata": {},
     "output_type": "execute_result"
    }
   ],
   "source": [
    "probs_test = model.predict_proba(X_test)\n",
    "\n",
    "'''\n",
    "Below code returns a boolean array (or binary 0/1 array depending on how it’s used) where each element \n",
    "is True if the probability of class 1 is greater than or equal to the threshold, and False otherwise.\n",
    "'''\n",
    "y_pred_default = predict_w_threshold(probs_test, 0.5)\n",
    "\n",
    "from sklearn.metrics import accuracy_score\n",
    "\n",
    "# Naive prediction\n",
    "accuracy_score(y_true = y_true, y_pred = y_pred_default)"
   ]
  },
  {
   "cell_type": "code",
   "execution_count": 30,
   "id": "081964c3",
   "metadata": {
    "execution": {
     "iopub.execute_input": "2025-07-22T10:07:02.594325Z",
     "iopub.status.busy": "2025-07-22T10:07:02.593766Z",
     "iopub.status.idle": "2025-07-22T10:07:02.804485Z",
     "shell.execute_reply": "2025-07-22T10:07:02.803242Z"
    },
    "papermill": {
     "duration": 0.236564,
     "end_time": "2025-07-22T10:07:02.806574",
     "exception": false,
     "start_time": "2025-07-22T10:07:02.570010",
     "status": "completed"
    },
    "tags": []
   },
   "outputs": [
    {
     "data": {
      "text/plain": [
       "array([0, 0, 0, ..., 0, 0, 0])"
      ]
     },
     "execution_count": 30,
     "metadata": {},
     "output_type": "execute_result"
    }
   ],
   "source": [
    "model.predict(X_test)"
   ]
  },
  {
   "cell_type": "markdown",
   "id": "56c9705b",
   "metadata": {
    "papermill": {
     "duration": 0.019869,
     "end_time": "2025-07-22T10:07:02.848569",
     "exception": false,
     "start_time": "2025-07-22T10:07:02.828700",
     "status": "completed"
    },
    "tags": []
   },
   "source": [
    "# Conformal Prediction"
   ]
  },
  {
   "cell_type": "code",
   "execution_count": 31,
   "id": "97cb0abb-9ba7-4cd9-96c4-aa4728b38a5f",
   "metadata": {
    "execution": {
     "iopub.execute_input": "2025-07-22T10:07:02.890638Z",
     "iopub.status.busy": "2025-07-22T10:07:02.889968Z",
     "iopub.status.idle": "2025-07-22T10:07:02.895542Z",
     "shell.execute_reply": "2025-07-22T10:07:02.894214Z"
    },
    "papermill": {
     "duration": 0.02904,
     "end_time": "2025-07-22T10:07:02.897721",
     "exception": false,
     "start_time": "2025-07-22T10:07:02.868681",
     "status": "completed"
    },
    "tags": []
   },
   "outputs": [],
   "source": [
    "# SCALE X CALIB IF UNIVERSE IS IN SCALE?????"
   ]
  },
  {
   "cell_type": "code",
   "execution_count": 32,
   "id": "160ec6ff",
   "metadata": {
    "execution": {
     "iopub.execute_input": "2025-07-22T10:07:02.946280Z",
     "iopub.status.busy": "2025-07-22T10:07:02.945384Z",
     "iopub.status.idle": "2025-07-22T10:07:02.951512Z",
     "shell.execute_reply": "2025-07-22T10:07:02.950443Z"
    },
    "papermill": {
     "duration": 0.032337,
     "end_time": "2025-07-22T10:07:02.953600",
     "exception": false,
     "start_time": "2025-07-22T10:07:02.921263",
     "status": "completed"
    },
    "tags": []
   },
   "outputs": [],
   "source": [
    "# Miscoverage level for conformal prediction (10% allowed error rate => 90% target coverage)\n",
    "alpha = 0.1"
   ]
  },
  {
   "cell_type": "code",
   "execution_count": 33,
   "id": "eadf4555-3dd3-440e-8e35-f82a4ad9f855",
   "metadata": {
    "execution": {
     "iopub.execute_input": "2025-07-22T10:07:03.001811Z",
     "iopub.status.busy": "2025-07-22T10:07:03.001286Z",
     "iopub.status.idle": "2025-07-22T10:07:03.182373Z",
     "shell.execute_reply": "2025-07-22T10:07:03.181002Z"
    },
    "papermill": {
     "duration": 0.208068,
     "end_time": "2025-07-22T10:07:03.184732",
     "exception": false,
     "start_time": "2025-07-22T10:07:02.976664",
     "status": "completed"
    },
    "tags": []
   },
   "outputs": [],
   "source": [
    "probs_calib = model.predict_proba(X_calib)"
   ]
  },
  {
   "cell_type": "code",
   "execution_count": 34,
   "id": "2ed93547-6d5d-4983-9b36-1ecb300da49a",
   "metadata": {
    "execution": {
     "iopub.execute_input": "2025-07-22T10:07:03.234221Z",
     "iopub.status.busy": "2025-07-22T10:07:03.233232Z",
     "iopub.status.idle": "2025-07-22T10:07:03.239345Z",
     "shell.execute_reply": "2025-07-22T10:07:03.238340Z"
    },
    "papermill": {
     "duration": 0.034026,
     "end_time": "2025-07-22T10:07:03.241273",
     "exception": false,
     "start_time": "2025-07-22T10:07:03.207247",
     "status": "completed"
    },
    "tags": []
   },
   "outputs": [],
   "source": [
    "y_calib = y_calib.values.ravel().astype(int)"
   ]
  },
  {
   "cell_type": "code",
   "execution_count": 35,
   "id": "65d1320d-f588-4b38-9072-62af1ae97f7d",
   "metadata": {
    "execution": {
     "iopub.execute_input": "2025-07-22T10:07:03.290943Z",
     "iopub.status.busy": "2025-07-22T10:07:03.290424Z",
     "iopub.status.idle": "2025-07-22T10:07:03.299145Z",
     "shell.execute_reply": "2025-07-22T10:07:03.298164Z"
    },
    "papermill": {
     "duration": 0.039358,
     "end_time": "2025-07-22T10:07:03.302190",
     "exception": false,
     "start_time": "2025-07-22T10:07:03.262832",
     "status": "completed"
    },
    "tags": []
   },
   "outputs": [],
   "source": [
    "from fairness_multiverse.conformal import compute_nc_scores\n",
    "\n",
    "# Compute nonconformity scores on calibration set (1 - probability of true class)\n",
    "nc_scores = compute_nc_scores(probs_calib, y_calib)"
   ]
  },
  {
   "cell_type": "code",
   "execution_count": 36,
   "id": "df3b8ca3-53b7-43d5-9667-7c85da7aeda2",
   "metadata": {
    "execution": {
     "iopub.execute_input": "2025-07-22T10:07:03.347564Z",
     "iopub.status.busy": "2025-07-22T10:07:03.346803Z",
     "iopub.status.idle": "2025-07-22T10:07:03.356022Z",
     "shell.execute_reply": "2025-07-22T10:07:03.354950Z"
    },
    "papermill": {
     "duration": 0.04318,
     "end_time": "2025-07-22T10:07:03.369301",
     "exception": false,
     "start_time": "2025-07-22T10:07:03.326121",
     "status": "completed"
    },
    "tags": []
   },
   "outputs": [],
   "source": [
    "from fairness_multiverse.conformal import find_threshold\n",
    "\n",
    "# Find conformal threshold q_hat for the given alpha (split conformal method)\n",
    "q_hat = find_threshold(nc_scores, alpha)"
   ]
  },
  {
   "cell_type": "code",
   "execution_count": 37,
   "id": "4d29e6c1-0ef6-4aa4-b8fe-4fe79b0d033a",
   "metadata": {
    "execution": {
     "iopub.execute_input": "2025-07-22T10:07:03.394321Z",
     "iopub.status.busy": "2025-07-22T10:07:03.393868Z",
     "iopub.status.idle": "2025-07-22T10:07:03.406820Z",
     "shell.execute_reply": "2025-07-22T10:07:03.405730Z"
    },
    "papermill": {
     "duration": 0.02823,
     "end_time": "2025-07-22T10:07:03.409135",
     "exception": false,
     "start_time": "2025-07-22T10:07:03.380905",
     "status": "completed"
    },
    "tags": []
   },
   "outputs": [
    {
     "data": {
      "text/plain": [
       "0.6599275646383496"
      ]
     },
     "execution_count": 37,
     "metadata": {},
     "output_type": "execute_result"
    }
   ],
   "source": [
    "q_hat"
   ]
  },
  {
   "cell_type": "code",
   "execution_count": 38,
   "id": "92460794-cdac-4be2-ba28-f28c0515a6fb",
   "metadata": {
    "execution": {
     "iopub.execute_input": "2025-07-22T10:07:03.458652Z",
     "iopub.status.busy": "2025-07-22T10:07:03.458078Z",
     "iopub.status.idle": "2025-07-22T10:07:04.373094Z",
     "shell.execute_reply": "2025-07-22T10:07:04.371962Z"
    },
    "papermill": {
     "duration": 0.942005,
     "end_time": "2025-07-22T10:07:04.375110",
     "exception": false,
     "start_time": "2025-07-22T10:07:03.433105",
     "status": "completed"
    },
    "tags": []
   },
   "outputs": [],
   "source": [
    "from fairness_multiverse.conformal import predict_conformal_sets\n",
    "\n",
    "# Generate prediction sets for each test example\n",
    "pred_sets = predict_conformal_sets(model, X_test, q_hat)"
   ]
  },
  {
   "cell_type": "code",
   "execution_count": 39,
   "id": "d90c9a65-e6db-4f5d-80cd-e68fb7e46829",
   "metadata": {
    "execution": {
     "iopub.execute_input": "2025-07-22T10:07:04.400033Z",
     "iopub.status.busy": "2025-07-22T10:07:04.399471Z",
     "iopub.status.idle": "2025-07-22T10:07:04.405394Z",
     "shell.execute_reply": "2025-07-22T10:07:04.404417Z"
    },
    "papermill": {
     "duration": 0.019791,
     "end_time": "2025-07-22T10:07:04.407290",
     "exception": false,
     "start_time": "2025-07-22T10:07:04.387499",
     "status": "completed"
    },
    "tags": []
   },
   "outputs": [],
   "source": [
    "y_true = y_true.squeeze()"
   ]
  },
  {
   "cell_type": "code",
   "execution_count": 40,
   "id": "3a58a54a-1e68-46b9-927a-df01f18aebc8",
   "metadata": {
    "execution": {
     "iopub.execute_input": "2025-07-22T10:07:04.433197Z",
     "iopub.status.busy": "2025-07-22T10:07:04.432521Z",
     "iopub.status.idle": "2025-07-22T10:07:05.139489Z",
     "shell.execute_reply": "2025-07-22T10:07:05.138439Z"
    },
    "papermill": {
     "duration": 0.721319,
     "end_time": "2025-07-22T10:07:05.141561",
     "exception": false,
     "start_time": "2025-07-22T10:07:04.420242",
     "status": "completed"
    },
    "tags": []
   },
   "outputs": [],
   "source": [
    "from fairness_multiverse.conformal import evaluate_sets\n",
    "\n",
    "# Evaluate coverage and average set size on test data\n",
    "metrics = evaluate_sets(pred_sets, y_true)"
   ]
  },
  {
   "cell_type": "code",
   "execution_count": 41,
   "id": "5ce0a5cb-201f-45a0-ade5-94c7f0bd6095",
   "metadata": {
    "execution": {
     "iopub.execute_input": "2025-07-22T10:07:05.186620Z",
     "iopub.status.busy": "2025-07-22T10:07:05.185601Z",
     "iopub.status.idle": "2025-07-22T10:07:05.193981Z",
     "shell.execute_reply": "2025-07-22T10:07:05.192541Z"
    },
    "papermill": {
     "duration": 0.035663,
     "end_time": "2025-07-22T10:07:05.196060",
     "exception": false,
     "start_time": "2025-07-22T10:07:05.160397",
     "status": "completed"
    },
    "tags": []
   },
   "outputs": [
    {
     "data": {
      "text/plain": [
       "{'coverage': 0.9103555902352023, 'avg_size': 1.1250362278452792}"
      ]
     },
     "execution_count": 41,
     "metadata": {},
     "output_type": "execute_result"
    }
   ],
   "source": [
    "metrics"
   ]
  },
  {
   "cell_type": "code",
   "execution_count": 42,
   "id": "9b9a838d-31c9-430b-ae14-12baee460d17",
   "metadata": {
    "execution": {
     "iopub.execute_input": "2025-07-22T10:07:05.247453Z",
     "iopub.status.busy": "2025-07-22T10:07:05.246470Z",
     "iopub.status.idle": "2025-07-22T10:07:05.253675Z",
     "shell.execute_reply": "2025-07-22T10:07:05.252509Z"
    },
    "papermill": {
     "duration": 0.032953,
     "end_time": "2025-07-22T10:07:05.255640",
     "exception": false,
     "start_time": "2025-07-22T10:07:05.222687",
     "status": "completed"
    },
    "tags": []
   },
   "outputs": [],
   "source": [
    "example_universe = universe.copy()\n",
    "universe_model = example_universe.get(\"model\")\n",
    "universe_exclude_features = example_universe.get(\"exclude_features\")\n",
    "universe_exclude_subgroups = example_universe.get(\"exclude_subgroups\")\n",
    "universe_scale = example_universe.get(\"scale\")"
   ]
  },
  {
   "cell_type": "code",
   "execution_count": 43,
   "id": "f4b6a8ac-9dc0-4245-8a91-5b3b5999c4f9",
   "metadata": {
    "execution": {
     "iopub.execute_input": "2025-07-22T10:07:05.305353Z",
     "iopub.status.busy": "2025-07-22T10:07:05.301812Z",
     "iopub.status.idle": "2025-07-22T10:07:05.325918Z",
     "shell.execute_reply": "2025-07-22T10:07:05.324472Z"
    },
    "papermill": {
     "duration": 0.049433,
     "end_time": "2025-07-22T10:07:05.328817",
     "exception": false,
     "start_time": "2025-07-22T10:07:05.279384",
     "status": "completed"
    },
    "tags": []
   },
   "outputs": [],
   "source": [
    "cp_metrics_dict = {\n",
    "    \"universe_id\": [universe_id],\n",
    "    \"universe_model\": [universe_model],\n",
    "    \"universe_exclude_features\": [universe_exclude_features],\n",
    "    \"universe_exclude_subgroups\": [universe_exclude_subgroups],\n",
    "    \"universe_scale\": [universe_scale],\n",
    "    \"q_hat\": [q_hat],\n",
    "    \"coverage\": [metrics[\"coverage\"]],\n",
    "    \"avg_size\": [metrics[\"avg_size\"]],\n",
    "}"
   ]
  },
  {
   "cell_type": "code",
   "execution_count": 44,
   "id": "908acbb1-0371-4915-85ca-3fa520d2efe2",
   "metadata": {
    "execution": {
     "iopub.execute_input": "2025-07-22T10:07:05.377407Z",
     "iopub.status.busy": "2025-07-22T10:07:05.376440Z",
     "iopub.status.idle": "2025-07-22T10:07:05.387109Z",
     "shell.execute_reply": "2025-07-22T10:07:05.385737Z"
    },
    "papermill": {
     "duration": 0.038045,
     "end_time": "2025-07-22T10:07:05.389373",
     "exception": false,
     "start_time": "2025-07-22T10:07:05.351328",
     "status": "completed"
    },
    "tags": []
   },
   "outputs": [
    {
     "data": {
      "text/plain": [
       "{'universe_id': ['4356e83194008df6152c133bfc881349'],\n",
       " 'universe_model': ['penalized_logreg'],\n",
       " 'universe_exclude_features': ['nationality-sex'],\n",
       " 'universe_exclude_subgroups': ['keep-all'],\n",
       " 'universe_scale': ['scale'],\n",
       " 'q_hat': [0.6599275646383496],\n",
       " 'coverage': [0.9103555902352023],\n",
       " 'avg_size': [1.1250362278452792]}"
      ]
     },
     "execution_count": 44,
     "metadata": {},
     "output_type": "execute_result"
    }
   ],
   "source": [
    "cp_metrics_dict"
   ]
  },
  {
   "cell_type": "code",
   "execution_count": 45,
   "id": "33007efc-14e9-4ec6-97ac-56a455c82265",
   "metadata": {
    "execution": {
     "iopub.execute_input": "2025-07-22T10:07:05.437635Z",
     "iopub.status.busy": "2025-07-22T10:07:05.437104Z",
     "iopub.status.idle": "2025-07-22T10:07:05.444234Z",
     "shell.execute_reply": "2025-07-22T10:07:05.442991Z"
    },
    "papermill": {
     "duration": 0.033781,
     "end_time": "2025-07-22T10:07:05.446397",
     "exception": false,
     "start_time": "2025-07-22T10:07:05.412616",
     "status": "completed"
    },
    "tags": []
   },
   "outputs": [],
   "source": [
    "cp_metrics_df = pd.DataFrame(cp_metrics_dict)"
   ]
  },
  {
   "cell_type": "code",
   "execution_count": 46,
   "id": "db12611b-57b2-4910-b9d0-355adfd6e7bf",
   "metadata": {
    "execution": {
     "iopub.execute_input": "2025-07-22T10:07:05.484870Z",
     "iopub.status.busy": "2025-07-22T10:07:05.484327Z",
     "iopub.status.idle": "2025-07-22T10:07:05.507331Z",
     "shell.execute_reply": "2025-07-22T10:07:05.506178Z"
    },
    "papermill": {
     "duration": 0.038551,
     "end_time": "2025-07-22T10:07:05.509234",
     "exception": false,
     "start_time": "2025-07-22T10:07:05.470683",
     "status": "completed"
    },
    "tags": []
   },
   "outputs": [
    {
     "data": {
      "text/html": [
       "<div>\n",
       "<style scoped>\n",
       "    .dataframe tbody tr th:only-of-type {\n",
       "        vertical-align: middle;\n",
       "    }\n",
       "\n",
       "    .dataframe tbody tr th {\n",
       "        vertical-align: top;\n",
       "    }\n",
       "\n",
       "    .dataframe thead th {\n",
       "        text-align: right;\n",
       "    }\n",
       "</style>\n",
       "<table border=\"1\" class=\"dataframe\">\n",
       "  <thead>\n",
       "    <tr style=\"text-align: right;\">\n",
       "      <th></th>\n",
       "      <th>universe_id</th>\n",
       "      <th>universe_model</th>\n",
       "      <th>universe_exclude_features</th>\n",
       "      <th>universe_exclude_subgroups</th>\n",
       "      <th>universe_scale</th>\n",
       "      <th>q_hat</th>\n",
       "      <th>coverage</th>\n",
       "      <th>avg_size</th>\n",
       "    </tr>\n",
       "  </thead>\n",
       "  <tbody>\n",
       "    <tr>\n",
       "      <th>0</th>\n",
       "      <td>4356e83194008df6152c133bfc881349</td>\n",
       "      <td>penalized_logreg</td>\n",
       "      <td>nationality-sex</td>\n",
       "      <td>keep-all</td>\n",
       "      <td>scale</td>\n",
       "      <td>0.659928</td>\n",
       "      <td>0.910356</td>\n",
       "      <td>1.125036</td>\n",
       "    </tr>\n",
       "  </tbody>\n",
       "</table>\n",
       "</div>"
      ],
      "text/plain": [
       "                        universe_id    universe_model  \\\n",
       "0  4356e83194008df6152c133bfc881349  penalized_logreg   \n",
       "\n",
       "  universe_exclude_features universe_exclude_subgroups universe_scale  \\\n",
       "0           nationality-sex                   keep-all          scale   \n",
       "\n",
       "      q_hat  coverage  avg_size  \n",
       "0  0.659928  0.910356  1.125036  "
      ]
     },
     "execution_count": 46,
     "metadata": {},
     "output_type": "execute_result"
    }
   ],
   "source": [
    "cp_metrics_df"
   ]
  },
  {
   "cell_type": "code",
   "execution_count": 47,
   "id": "b7fbde55-a0a1-47e4-9af6-fe4a17fa8c61",
   "metadata": {
    "execution": {
     "iopub.execute_input": "2025-07-22T10:07:05.558890Z",
     "iopub.status.busy": "2025-07-22T10:07:05.557893Z",
     "iopub.status.idle": "2025-07-22T10:07:05.563767Z",
     "shell.execute_reply": "2025-07-22T10:07:05.562517Z"
    },
    "papermill": {
     "duration": 0.033103,
     "end_time": "2025-07-22T10:07:05.566397",
     "exception": false,
     "start_time": "2025-07-22T10:07:05.533294",
     "status": "completed"
    },
    "tags": []
   },
   "outputs": [],
   "source": [
    "# Conditional Coverage & looking at subgroups"
   ]
  },
  {
   "cell_type": "code",
   "execution_count": 48,
   "id": "027ae886-68dd-4141-96c7-805a5450e1ef",
   "metadata": {
    "execution": {
     "iopub.execute_input": "2025-07-22T10:07:05.620913Z",
     "iopub.status.busy": "2025-07-22T10:07:05.620154Z",
     "iopub.status.idle": "2025-07-22T10:07:05.976675Z",
     "shell.execute_reply": "2025-07-22T10:07:05.975434Z"
    },
    "papermill": {
     "duration": 0.386308,
     "end_time": "2025-07-22T10:07:05.978589",
     "exception": false,
     "start_time": "2025-07-22T10:07:05.592281",
     "status": "completed"
    },
    "tags": []
   },
   "outputs": [],
   "source": [
    "from fairness_multiverse.conformal import build_cp_groups\n",
    "\n",
    "cp_groups_df = build_cp_groups(pred_sets, y_true, X_test.index, org_test)\n",
    "#needs universe_id and setting"
   ]
  },
  {
   "cell_type": "code",
   "execution_count": 49,
   "id": "c3b92545-903e-4839-89af-0f057907d7d6",
   "metadata": {
    "execution": {
     "iopub.execute_input": "2025-07-22T10:07:06.029143Z",
     "iopub.status.busy": "2025-07-22T10:07:06.028011Z",
     "iopub.status.idle": "2025-07-22T10:07:08.149760Z",
     "shell.execute_reply": "2025-07-22T10:07:08.148623Z"
    },
    "papermill": {
     "duration": 2.148542,
     "end_time": "2025-07-22T10:07:08.151595",
     "exception": false,
     "start_time": "2025-07-22T10:07:06.003053",
     "status": "completed"
    },
    "tags": []
   },
   "outputs": [],
   "source": [
    "# Define covered = 1 if true_label is in the predicted set\n",
    "cp_groups_df['covered'] = cp_groups_df.apply(\n",
    "    lambda r: int(r['true_label'] in r['pred_set']),\n",
    "    axis=1\n",
    ")"
   ]
  },
  {
   "cell_type": "code",
   "execution_count": 50,
   "id": "338ff529-1a6b-4b87-a931-8e4788d52aad",
   "metadata": {
    "execution": {
     "iopub.execute_input": "2025-07-22T10:07:08.201682Z",
     "iopub.status.busy": "2025-07-22T10:07:08.201165Z",
     "iopub.status.idle": "2025-07-22T10:07:08.207514Z",
     "shell.execute_reply": "2025-07-22T10:07:08.206445Z"
    },
    "papermill": {
     "duration": 0.033871,
     "end_time": "2025-07-22T10:07:08.211276",
     "exception": false,
     "start_time": "2025-07-22T10:07:08.177405",
     "status": "completed"
    },
    "tags": []
   },
   "outputs": [],
   "source": [
    "#cp_groups_df"
   ]
  },
  {
   "cell_type": "code",
   "execution_count": 51,
   "id": "90032e27-66df-4540-9169-4e89cfbaa758",
   "metadata": {
    "execution": {
     "iopub.execute_input": "2025-07-22T10:07:08.262829Z",
     "iopub.status.busy": "2025-07-22T10:07:08.262317Z",
     "iopub.status.idle": "2025-07-22T10:07:08.277163Z",
     "shell.execute_reply": "2025-07-22T10:07:08.275744Z"
    },
    "papermill": {
     "duration": 0.041941,
     "end_time": "2025-07-22T10:07:08.280393",
     "exception": false,
     "start_time": "2025-07-22T10:07:08.238452",
     "status": "completed"
    },
    "tags": []
   },
   "outputs": [],
   "source": [
    "subgroups = ['frau1','nongerman','nongerman_male','nongerman_female']\n",
    "\n",
    "# Conditional coverage for subgroup==1\n",
    "cond_coverage = {\n",
    "    g: cp_groups_df.loc[cp_groups_df[g]==1, 'covered'].mean()\n",
    "    for g in subgroups\n",
    "}"
   ]
  },
  {
   "cell_type": "code",
   "execution_count": 52,
   "id": "1e348fb1-b9c3-45bc-ba23-f016827a7e0d",
   "metadata": {
    "execution": {
     "iopub.execute_input": "2025-07-22T10:07:08.349808Z",
     "iopub.status.busy": "2025-07-22T10:07:08.349407Z",
     "iopub.status.idle": "2025-07-22T10:07:08.357655Z",
     "shell.execute_reply": "2025-07-22T10:07:08.356082Z"
    },
    "papermill": {
     "duration": 0.043055,
     "end_time": "2025-07-22T10:07:08.364503",
     "exception": false,
     "start_time": "2025-07-22T10:07:08.321448",
     "status": "completed"
    },
    "tags": []
   },
   "outputs": [
    {
     "data": {
      "text/plain": [
       "{'frau1': 0.9104731095835018,\n",
       " 'nongerman': 0.9119182619435244,\n",
       " 'nongerman_male': 0.92704674412321,\n",
       " 'nongerman_female': 0.8868852459016393}"
      ]
     },
     "execution_count": 52,
     "metadata": {},
     "output_type": "execute_result"
    }
   ],
   "source": [
    "cond_coverage"
   ]
  },
  {
   "cell_type": "code",
   "execution_count": 53,
   "id": "f5093324-c3dd-4d63-bc4c-8d945e5c8bbb",
   "metadata": {
    "execution": {
     "iopub.execute_input": "2025-07-22T10:07:08.519263Z",
     "iopub.status.busy": "2025-07-22T10:07:08.518701Z",
     "iopub.status.idle": "2025-07-22T10:07:08.527157Z",
     "shell.execute_reply": "2025-07-22T10:07:08.525912Z"
    },
    "papermill": {
     "duration": 0.086576,
     "end_time": "2025-07-22T10:07:08.528997",
     "exception": false,
     "start_time": "2025-07-22T10:07:08.442421",
     "status": "completed"
    },
    "tags": []
   },
   "outputs": [],
   "source": [
    "for subgroup, cov in cond_coverage.items():\n",
    "    cp_metrics_df[f\"cov_{subgroup}\"] = cov"
   ]
  },
  {
   "cell_type": "code",
   "execution_count": 54,
   "id": "6e872e10-dbe5-49e8-b554-5030c98ff75d",
   "metadata": {
    "execution": {
     "iopub.execute_input": "2025-07-22T10:07:08.626014Z",
     "iopub.status.busy": "2025-07-22T10:07:08.625498Z",
     "iopub.status.idle": "2025-07-22T10:07:08.660972Z",
     "shell.execute_reply": "2025-07-22T10:07:08.659853Z"
    },
    "papermill": {
     "duration": 0.099955,
     "end_time": "2025-07-22T10:07:08.673603",
     "exception": false,
     "start_time": "2025-07-22T10:07:08.573648",
     "status": "completed"
    },
    "tags": []
   },
   "outputs": [
    {
     "data": {
      "text/html": [
       "<div>\n",
       "<style scoped>\n",
       "    .dataframe tbody tr th:only-of-type {\n",
       "        vertical-align: middle;\n",
       "    }\n",
       "\n",
       "    .dataframe tbody tr th {\n",
       "        vertical-align: top;\n",
       "    }\n",
       "\n",
       "    .dataframe thead th {\n",
       "        text-align: right;\n",
       "    }\n",
       "</style>\n",
       "<table border=\"1\" class=\"dataframe\">\n",
       "  <thead>\n",
       "    <tr style=\"text-align: right;\">\n",
       "      <th></th>\n",
       "      <th>universe_id</th>\n",
       "      <th>universe_model</th>\n",
       "      <th>universe_exclude_features</th>\n",
       "      <th>universe_exclude_subgroups</th>\n",
       "      <th>universe_scale</th>\n",
       "      <th>q_hat</th>\n",
       "      <th>coverage</th>\n",
       "      <th>avg_size</th>\n",
       "      <th>cov_frau1</th>\n",
       "      <th>cov_nongerman</th>\n",
       "      <th>cov_nongerman_male</th>\n",
       "      <th>cov_nongerman_female</th>\n",
       "    </tr>\n",
       "  </thead>\n",
       "  <tbody>\n",
       "    <tr>\n",
       "      <th>0</th>\n",
       "      <td>4356e83194008df6152c133bfc881349</td>\n",
       "      <td>penalized_logreg</td>\n",
       "      <td>nationality-sex</td>\n",
       "      <td>keep-all</td>\n",
       "      <td>scale</td>\n",
       "      <td>0.659928</td>\n",
       "      <td>0.910356</td>\n",
       "      <td>1.125036</td>\n",
       "      <td>0.910473</td>\n",
       "      <td>0.911918</td>\n",
       "      <td>0.927047</td>\n",
       "      <td>0.886885</td>\n",
       "    </tr>\n",
       "  </tbody>\n",
       "</table>\n",
       "</div>"
      ],
      "text/plain": [
       "                        universe_id    universe_model  \\\n",
       "0  4356e83194008df6152c133bfc881349  penalized_logreg   \n",
       "\n",
       "  universe_exclude_features universe_exclude_subgroups universe_scale  \\\n",
       "0           nationality-sex                   keep-all          scale   \n",
       "\n",
       "      q_hat  coverage  avg_size  cov_frau1  cov_nongerman  cov_nongerman_male  \\\n",
       "0  0.659928  0.910356  1.125036   0.910473       0.911918            0.927047   \n",
       "\n",
       "   cov_nongerman_female  \n",
       "0              0.886885  "
      ]
     },
     "execution_count": 54,
     "metadata": {},
     "output_type": "execute_result"
    }
   ],
   "source": [
    "cp_metrics_df"
   ]
  },
  {
   "cell_type": "markdown",
   "id": "33774451",
   "metadata": {
    "papermill": {
     "duration": 0.056504,
     "end_time": "2025-07-22T10:07:08.793333",
     "exception": false,
     "start_time": "2025-07-22T10:07:08.736829",
     "status": "completed"
    },
    "tags": []
   },
   "source": [
    "# (Fairness) Metrics"
   ]
  },
  {
   "cell_type": "code",
   "execution_count": 55,
   "id": "debc5d62",
   "metadata": {
    "execution": {
     "iopub.execute_input": "2025-07-22T10:07:08.853287Z",
     "iopub.status.busy": "2025-07-22T10:07:08.852336Z",
     "iopub.status.idle": "2025-07-22T10:07:08.904379Z",
     "shell.execute_reply": "2025-07-22T10:07:08.903294Z"
    },
    "papermill": {
     "duration": 0.085745,
     "end_time": "2025-07-22T10:07:08.907136",
     "exception": false,
     "start_time": "2025-07-22T10:07:08.821391",
     "status": "completed"
    },
    "tags": []
   },
   "outputs": [],
   "source": [
    "# do I need to include maxdeutsch1.missing?\n",
    "\n",
    "import numpy as np\n",
    "\n",
    "colname_to_bin = \"maxdeutsch1\"\n",
    "majority_value = org_train[colname_to_bin].mode()[0]\n",
    "\n",
    "org_test[\"majmin\"] = np.where(org_test[colname_to_bin] == majority_value, \"majority\", \"minority\")"
   ]
  },
  {
   "cell_type": "code",
   "execution_count": 56,
   "id": "06a50de5",
   "metadata": {
    "execution": {
     "iopub.execute_input": "2025-07-22T10:07:09.036689Z",
     "iopub.status.busy": "2025-07-22T10:07:09.035467Z",
     "iopub.status.idle": "2025-07-22T10:07:17.737926Z",
     "shell.execute_reply": "2025-07-22T10:07:17.736668Z"
    },
    "papermill": {
     "duration": 8.751067,
     "end_time": "2025-07-22T10:07:17.739890",
     "exception": false,
     "start_time": "2025-07-22T10:07:08.988823",
     "status": "completed"
    },
    "tags": []
   },
   "outputs": [],
   "source": [
    "example_universe = universe.copy()\n",
    "example_universe[\"cutoff\"] = example_universe[\"cutoff\"][0]\n",
    "example_universe[\"eval_fairness_grouping\"] = example_universe[\"eval_fairness_grouping\"][0]\n",
    "fairness_dict, metric_frame = universe_analysis.compute_metrics(\n",
    "    example_universe,\n",
    "    y_pred_prob=probs_test,\n",
    "    y_test=y_true,\n",
    "    org_test=org_test,\n",
    ")"
   ]
  },
  {
   "cell_type": "markdown",
   "id": "f95d4e02",
   "metadata": {
    "papermill": {
     "duration": 0.106952,
     "end_time": "2025-07-22T10:07:17.933926",
     "exception": false,
     "start_time": "2025-07-22T10:07:17.826974",
     "status": "completed"
    },
    "tags": []
   },
   "source": [
    "# Overall"
   ]
  },
  {
   "cell_type": "markdown",
   "id": "bdee4871",
   "metadata": {
    "papermill": {
     "duration": 0.077437,
     "end_time": "2025-07-22T10:07:18.086802",
     "exception": false,
     "start_time": "2025-07-22T10:07:18.009365",
     "status": "completed"
    },
    "tags": []
   },
   "source": [
    "Fairness\n",
    "Main fairness target: Equalized Odds. Seems to be a better fit than equal opportunity, since we're not only interested in Y = 1. Seems to be a better fit than demographic parity, since we also care about accuracy, not just equal distribution of preds.\n",
    "\n",
    "Pick column for computation of fairness metrics\n",
    "\n",
    "Performance\n",
    "Overall performance measures, most interesting in relation to the measures split by group below"
   ]
  },
  {
   "cell_type": "code",
   "execution_count": 57,
   "id": "c4e067c6",
   "metadata": {
    "execution": {
     "iopub.execute_input": "2025-07-22T10:07:18.180406Z",
     "iopub.status.busy": "2025-07-22T10:07:18.179410Z",
     "iopub.status.idle": "2025-07-22T10:07:18.207500Z",
     "shell.execute_reply": "2025-07-22T10:07:18.206199Z"
    },
    "papermill": {
     "duration": 0.094857,
     "end_time": "2025-07-22T10:07:18.210277",
     "exception": false,
     "start_time": "2025-07-22T10:07:18.115420",
     "status": "completed"
    },
    "tags": []
   },
   "outputs": [
    {
     "data": {
      "text/plain": [
       "accuracy                   0.225538\n",
       "balanced accuracy          0.551227\n",
       "f1                         0.246837\n",
       "precision                  0.141010\n",
       "false positive rate        0.886857\n",
       "false negative rate        0.010688\n",
       "selection rate             0.900000\n",
       "count                  89710.000000\n",
       "dtype: float64"
      ]
     },
     "execution_count": 57,
     "metadata": {},
     "output_type": "execute_result"
    }
   ],
   "source": [
    "metric_frame.overall"
   ]
  },
  {
   "cell_type": "markdown",
   "id": "e968fe9d",
   "metadata": {
    "papermill": {
     "duration": 0.031527,
     "end_time": "2025-07-22T10:07:18.273133",
     "exception": false,
     "start_time": "2025-07-22T10:07:18.241606",
     "status": "completed"
    },
    "tags": []
   },
   "source": [
    "By Group"
   ]
  },
  {
   "cell_type": "code",
   "execution_count": 58,
   "id": "ec325bce",
   "metadata": {
    "execution": {
     "iopub.execute_input": "2025-07-22T10:07:18.451153Z",
     "iopub.status.busy": "2025-07-22T10:07:18.450733Z",
     "iopub.status.idle": "2025-07-22T10:07:18.485657Z",
     "shell.execute_reply": "2025-07-22T10:07:18.484501Z"
    },
    "papermill": {
     "duration": 0.145451,
     "end_time": "2025-07-22T10:07:18.487570",
     "exception": false,
     "start_time": "2025-07-22T10:07:18.342119",
     "status": "completed"
    },
    "tags": []
   },
   "outputs": [
    {
     "data": {
      "text/html": [
       "<div>\n",
       "<style scoped>\n",
       "    .dataframe tbody tr th:only-of-type {\n",
       "        vertical-align: middle;\n",
       "    }\n",
       "\n",
       "    .dataframe tbody tr th {\n",
       "        vertical-align: top;\n",
       "    }\n",
       "\n",
       "    .dataframe thead th {\n",
       "        text-align: right;\n",
       "    }\n",
       "</style>\n",
       "<table border=\"1\" class=\"dataframe\">\n",
       "  <thead>\n",
       "    <tr style=\"text-align: right;\">\n",
       "      <th></th>\n",
       "      <th>accuracy</th>\n",
       "      <th>balanced accuracy</th>\n",
       "      <th>f1</th>\n",
       "      <th>precision</th>\n",
       "      <th>false positive rate</th>\n",
       "      <th>false negative rate</th>\n",
       "      <th>selection rate</th>\n",
       "      <th>count</th>\n",
       "    </tr>\n",
       "    <tr>\n",
       "      <th>majmin</th>\n",
       "      <th></th>\n",
       "      <th></th>\n",
       "      <th></th>\n",
       "      <th></th>\n",
       "      <th></th>\n",
       "      <th></th>\n",
       "      <th></th>\n",
       "      <th></th>\n",
       "    </tr>\n",
       "  </thead>\n",
       "  <tbody>\n",
       "    <tr>\n",
       "      <th>majority</th>\n",
       "      <td>0.246725</td>\n",
       "      <td>0.561194</td>\n",
       "      <td>0.257524</td>\n",
       "      <td>0.148044</td>\n",
       "      <td>0.866234</td>\n",
       "      <td>0.011379</td>\n",
       "      <td>0.882406</td>\n",
       "      <td>69170.0</td>\n",
       "    </tr>\n",
       "    <tr>\n",
       "      <th>minority</th>\n",
       "      <td>0.154187</td>\n",
       "      <td>0.518495</td>\n",
       "      <td>0.212859</td>\n",
       "      <td>0.119220</td>\n",
       "      <td>0.954986</td>\n",
       "      <td>0.008024</td>\n",
       "      <td>0.959250</td>\n",
       "      <td>20540.0</td>\n",
       "    </tr>\n",
       "  </tbody>\n",
       "</table>\n",
       "</div>"
      ],
      "text/plain": [
       "          accuracy  balanced accuracy        f1  precision  \\\n",
       "majmin                                                       \n",
       "majority  0.246725           0.561194  0.257524   0.148044   \n",
       "minority  0.154187           0.518495  0.212859   0.119220   \n",
       "\n",
       "          false positive rate  false negative rate  selection rate    count  \n",
       "majmin                                                                       \n",
       "majority             0.866234             0.011379        0.882406  69170.0  \n",
       "minority             0.954986             0.008024        0.959250  20540.0  "
      ]
     },
     "execution_count": 58,
     "metadata": {},
     "output_type": "execute_result"
    }
   ],
   "source": [
    "metric_frame.by_group"
   ]
  },
  {
   "cell_type": "code",
   "execution_count": 59,
   "id": "a9ddbe63",
   "metadata": {
    "execution": {
     "iopub.execute_input": "2025-07-22T10:07:18.553277Z",
     "iopub.status.busy": "2025-07-22T10:07:18.552808Z",
     "iopub.status.idle": "2025-07-22T10:07:25.012949Z",
     "shell.execute_reply": "2025-07-22T10:07:25.011590Z"
    },
    "papermill": {
     "duration": 6.48691,
     "end_time": "2025-07-22T10:07:25.014921",
     "exception": false,
     "start_time": "2025-07-22T10:07:18.528011",
     "status": "completed"
    },
    "tags": []
   },
   "outputs": [
    {
     "data": {
      "text/plain": [
       "array([[<Axes: title={'center': 'accuracy'}, xlabel='majmin'>,\n",
       "        <Axes: title={'center': 'balanced accuracy'}, xlabel='majmin'>,\n",
       "        <Axes: title={'center': 'f1'}, xlabel='majmin'>],\n",
       "       [<Axes: title={'center': 'precision'}, xlabel='majmin'>,\n",
       "        <Axes: title={'center': 'false positive rate'}, xlabel='majmin'>,\n",
       "        <Axes: title={'center': 'false negative rate'}, xlabel='majmin'>],\n",
       "       [<Axes: title={'center': 'selection rate'}, xlabel='majmin'>,\n",
       "        <Axes: title={'center': 'count'}, xlabel='majmin'>,\n",
       "        <Axes: xlabel='majmin'>]], dtype=object)"
      ]
     },
     "execution_count": 59,
     "metadata": {},
     "output_type": "execute_result"
    },
    {
     "data": {
      "image/png": "[encoded data removed]",
      "text/plain": [
       "<Figure size 1200x800 with 9 Axes>"
      ]
     },
     "metadata": {},
     "output_type": "display_data"
    }
   ],
   "source": [
    "# In a graphic\n",
    "metric_frame.by_group.plot.bar(\n",
    "    subplots=True,\n",
    "    layout=[3, 3],\n",
    "    legend=False,\n",
    "    figsize=[12, 8],\n",
    "    title=\"Show all metrics\",\n",
    ")"
   ]
  },
  {
   "cell_type": "markdown",
   "id": "f57a0bac",
   "metadata": {
    "papermill": {
     "duration": 0.031083,
     "end_time": "2025-07-22T10:07:25.126338",
     "exception": false,
     "start_time": "2025-07-22T10:07:25.095255",
     "status": "completed"
    },
    "tags": []
   },
   "source": [
    "# Final Output"
   ]
  },
  {
   "cell_type": "code",
   "execution_count": 60,
   "id": "96d280a3",
   "metadata": {
    "execution": {
     "iopub.execute_input": "2025-07-22T10:07:25.236125Z",
     "iopub.status.busy": "2025-07-22T10:07:25.235396Z",
     "iopub.status.idle": "2025-07-22T10:07:25.246810Z",
     "shell.execute_reply": "2025-07-22T10:07:25.245691Z"
    },
    "papermill": {
     "duration": 0.09803,
     "end_time": "2025-07-22T10:07:25.248809",
     "exception": false,
     "start_time": "2025-07-22T10:07:25.150779",
     "status": "completed"
    },
    "tags": []
   },
   "outputs": [
    {
     "data": {
      "text/plain": [
       "4"
      ]
     },
     "execution_count": 60,
     "metadata": {},
     "output_type": "execute_result"
    }
   ],
   "source": [
    "sub_universes = universe_analysis.generate_sub_universes()\n",
    "len(sub_universes)"
   ]
  },
  {
   "cell_type": "code",
   "execution_count": 61,
   "id": "92adf7ba",
   "metadata": {
    "execution": {
     "iopub.execute_input": "2025-07-22T10:07:25.333390Z",
     "iopub.status.busy": "2025-07-22T10:07:25.332532Z",
     "iopub.status.idle": "2025-07-22T10:07:25.339439Z",
     "shell.execute_reply": "2025-07-22T10:07:25.338466Z"
    },
    "papermill": {
     "duration": 0.038828,
     "end_time": "2025-07-22T10:07:25.341070",
     "exception": false,
     "start_time": "2025-07-22T10:07:25.302242",
     "status": "completed"
    },
    "tags": []
   },
   "outputs": [],
   "source": [
    "def filter_sub_universe_data(sub_universe, org_test):\n",
    "    # Keep all rows — no filtering\n",
    "    keep_rows_mask = np.ones(org_test.shape[0], dtype=bool)\n",
    "\n",
    "    print(f\"[INFO] Keeping all rows: {keep_rows_mask.sum()} rows retained.\")\n",
    "    return keep_rows_mask"
   ]
  },
  {
   "cell_type": "code",
   "execution_count": 62,
   "id": "4a759155",
   "metadata": {
    "execution": {
     "iopub.execute_input": "2025-07-22T10:07:25.390632Z",
     "iopub.status.busy": "2025-07-22T10:07:25.390262Z",
     "iopub.status.idle": "2025-07-22T10:07:37.214180Z",
     "shell.execute_reply": "2025-07-22T10:07:37.213139Z"
    },
    "papermill": {
     "duration": 11.843923,
     "end_time": "2025-07-22T10:07:37.215731",
     "exception": false,
     "start_time": "2025-07-22T10:07:25.371808",
     "status": "completed"
    },
    "tags": []
   },
   "outputs": [
    {
     "name": "stdout",
     "output_type": "stream",
     "text": [
      "Stopping execution_time clock.\n",
      "[INFO] Keeping all rows: 89710 rows retained.\n"
     ]
    },
    {
     "name": "stdout",
     "output_type": "stream",
     "text": [
      "[INFO] Keeping all rows: 89710 rows retained.\n"
     ]
    },
    {
     "name": "stdout",
     "output_type": "stream",
     "text": [
      "[INFO] Keeping all rows: 89710 rows retained.\n"
     ]
    },
    {
     "name": "stdout",
     "output_type": "stream",
     "text": [
      "[INFO] Keeping all rows: 89710 rows retained.\n"
     ]
    },
    {
     "data": {
      "text/html": [
       "<div>\n",
       "<style scoped>\n",
       "    .dataframe tbody tr th:only-of-type {\n",
       "        vertical-align: middle;\n",
       "    }\n",
       "\n",
       "    .dataframe tbody tr th {\n",
       "        vertical-align: top;\n",
       "    }\n",
       "\n",
       "    .dataframe thead th {\n",
       "        text-align: right;\n",
       "    }\n",
       "</style>\n",
       "<table border=\"1\" class=\"dataframe\">\n",
       "  <thead>\n",
       "    <tr style=\"text-align: right;\">\n",
       "      <th></th>\n",
       "      <th>run_no</th>\n",
       "      <th>universe_id</th>\n",
       "      <th>universe_settings</th>\n",
       "      <th>execution_time</th>\n",
       "      <th>test_size_n</th>\n",
       "      <th>test_size_frac</th>\n",
       "      <th>fair_main_equalized_odds_difference</th>\n",
       "      <th>fair_main_equalized_odds_ratio</th>\n",
       "      <th>fair_main_demographic_parity_difference</th>\n",
       "      <th>fair_main_demographic_parity_ratio</th>\n",
       "      <th>...</th>\n",
       "      <th>perf_grp_precision_0</th>\n",
       "      <th>perf_grp_precision_1</th>\n",
       "      <th>perf_grp_false positive rate_0</th>\n",
       "      <th>perf_grp_false positive rate_1</th>\n",
       "      <th>perf_grp_false negative rate_0</th>\n",
       "      <th>perf_grp_false negative rate_1</th>\n",
       "      <th>perf_grp_selection rate_0</th>\n",
       "      <th>perf_grp_selection rate_1</th>\n",
       "      <th>perf_grp_count_0</th>\n",
       "      <th>perf_grp_count_1</th>\n",
       "    </tr>\n",
       "  </thead>\n",
       "  <tbody>\n",
       "    <tr>\n",
       "      <th>0</th>\n",
       "      <td>4</td>\n",
       "      <td>4356e83194008df6152c133bfc881349</td>\n",
       "      <td>{\"cutoff\": \"quantile_0.1\", \"eval_fairness_grou...</td>\n",
       "      <td>29.232475</td>\n",
       "      <td>89710</td>\n",
       "      <td>1.0</td>\n",
       "      <td>0.088752</td>\n",
       "      <td>0.907064</td>\n",
       "      <td>0.076845</td>\n",
       "      <td>0.919891</td>\n",
       "      <td>...</td>\n",
       "      <td>NaN</td>\n",
       "      <td>NaN</td>\n",
       "      <td>NaN</td>\n",
       "      <td>NaN</td>\n",
       "      <td>NaN</td>\n",
       "      <td>NaN</td>\n",
       "      <td>NaN</td>\n",
       "      <td>NaN</td>\n",
       "      <td>NaN</td>\n",
       "      <td>NaN</td>\n",
       "    </tr>\n",
       "    <tr>\n",
       "      <th>0</th>\n",
       "      <td>4</td>\n",
       "      <td>4356e83194008df6152c133bfc881349</td>\n",
       "      <td>{\"cutoff\": \"quantile_0.1\", \"eval_fairness_grou...</td>\n",
       "      <td>29.232475</td>\n",
       "      <td>89710</td>\n",
       "      <td>1.0</td>\n",
       "      <td>0.088752</td>\n",
       "      <td>0.907064</td>\n",
       "      <td>0.076845</td>\n",
       "      <td>0.919891</td>\n",
       "      <td>...</td>\n",
       "      <td>0.119220</td>\n",
       "      <td>0.148044</td>\n",
       "      <td>0.954986</td>\n",
       "      <td>0.866234</td>\n",
       "      <td>0.008024</td>\n",
       "      <td>0.011379</td>\n",
       "      <td>0.959250</td>\n",
       "      <td>0.882406</td>\n",
       "      <td>20540.0</td>\n",
       "      <td>69170.0</td>\n",
       "    </tr>\n",
       "    <tr>\n",
       "      <th>0</th>\n",
       "      <td>4</td>\n",
       "      <td>4356e83194008df6152c133bfc881349</td>\n",
       "      <td>{\"cutoff\": \"quantile_0.25\", \"eval_fairness_gro...</td>\n",
       "      <td>29.232475</td>\n",
       "      <td>89710</td>\n",
       "      <td>1.0</td>\n",
       "      <td>0.153330</td>\n",
       "      <td>0.817015</td>\n",
       "      <td>0.132417</td>\n",
       "      <td>0.844598</td>\n",
       "      <td>...</td>\n",
       "      <td>NaN</td>\n",
       "      <td>NaN</td>\n",
       "      <td>NaN</td>\n",
       "      <td>NaN</td>\n",
       "      <td>NaN</td>\n",
       "      <td>NaN</td>\n",
       "      <td>NaN</td>\n",
       "      <td>NaN</td>\n",
       "      <td>NaN</td>\n",
       "      <td>NaN</td>\n",
       "    </tr>\n",
       "    <tr>\n",
       "      <th>0</th>\n",
       "      <td>4</td>\n",
       "      <td>4356e83194008df6152c133bfc881349</td>\n",
       "      <td>{\"cutoff\": \"quantile_0.25\", \"eval_fairness_gro...</td>\n",
       "      <td>29.232475</td>\n",
       "      <td>89710</td>\n",
       "      <td>1.0</td>\n",
       "      <td>0.153330</td>\n",
       "      <td>0.817015</td>\n",
       "      <td>0.132417</td>\n",
       "      <td>0.844598</td>\n",
       "      <td>...</td>\n",
       "      <td>0.129985</td>\n",
       "      <td>0.174427</td>\n",
       "      <td>0.837937</td>\n",
       "      <td>0.684608</td>\n",
       "      <td>0.039274</td>\n",
       "      <td>0.050000</td>\n",
       "      <td>0.852093</td>\n",
       "      <td>0.719676</td>\n",
       "      <td>20540.0</td>\n",
       "      <td>69170.0</td>\n",
       "    </tr>\n",
       "  </tbody>\n",
       "</table>\n",
       "<p>4 rows × 50 columns</p>\n",
       "</div>"
      ],
      "text/plain": [
       "  run_no                       universe_id  \\\n",
       "0      4  4356e83194008df6152c133bfc881349   \n",
       "0      4  4356e83194008df6152c133bfc881349   \n",
       "0      4  4356e83194008df6152c133bfc881349   \n",
       "0      4  4356e83194008df6152c133bfc881349   \n",
       "\n",
       "                                   universe_settings  execution_time  \\\n",
       "0  {\"cutoff\": \"quantile_0.1\", \"eval_fairness_grou...       29.232475   \n",
       "0  {\"cutoff\": \"quantile_0.1\", \"eval_fairness_grou...       29.232475   \n",
       "0  {\"cutoff\": \"quantile_0.25\", \"eval_fairness_gro...       29.232475   \n",
       "0  {\"cutoff\": \"quantile_0.25\", \"eval_fairness_gro...       29.232475   \n",
       "\n",
       "   test_size_n  test_size_frac  fair_main_equalized_odds_difference  \\\n",
       "0        89710             1.0                             0.088752   \n",
       "0        89710             1.0                             0.088752   \n",
       "0        89710             1.0                             0.153330   \n",
       "0        89710             1.0                             0.153330   \n",
       "\n",
       "   fair_main_equalized_odds_ratio  fair_main_demographic_parity_difference  \\\n",
       "0                        0.907064                                 0.076845   \n",
       "0                        0.907064                                 0.076845   \n",
       "0                        0.817015                                 0.132417   \n",
       "0                        0.817015                                 0.132417   \n",
       "\n",
       "   fair_main_demographic_parity_ratio  ...  perf_grp_precision_0  \\\n",
       "0                            0.919891  ...                   NaN   \n",
       "0                            0.919891  ...              0.119220   \n",
       "0                            0.844598  ...                   NaN   \n",
       "0                            0.844598  ...              0.129985   \n",
       "\n",
       "   perf_grp_precision_1  perf_grp_false positive rate_0  \\\n",
       "0                   NaN                             NaN   \n",
       "0              0.148044                        0.954986   \n",
       "0                   NaN                             NaN   \n",
       "0              0.174427                        0.837937   \n",
       "\n",
       "   perf_grp_false positive rate_1  perf_grp_false negative rate_0  \\\n",
       "0                             NaN                             NaN   \n",
       "0                        0.866234                        0.008024   \n",
       "0                             NaN                             NaN   \n",
       "0                        0.684608                        0.039274   \n",
       "\n",
       "   perf_grp_false negative rate_1  perf_grp_selection rate_0  \\\n",
       "0                             NaN                        NaN   \n",
       "0                        0.011379                   0.959250   \n",
       "0                             NaN                        NaN   \n",
       "0                        0.050000                   0.852093   \n",
       "\n",
       "   perf_grp_selection rate_1  perf_grp_count_0  perf_grp_count_1  \n",
       "0                        NaN               NaN               NaN  \n",
       "0                   0.882406           20540.0           69170.0  \n",
       "0                        NaN               NaN               NaN  \n",
       "0                   0.719676           20540.0           69170.0  \n",
       "\n",
       "[4 rows x 50 columns]"
      ]
     },
     "execution_count": 62,
     "metadata": {},
     "output_type": "execute_result"
    }
   ],
   "source": [
    "final_output = universe_analysis.generate_final_output(\n",
    "    y_pred_prob=probs_test,\n",
    "    y_test=y_true,\n",
    "    org_test=org_test,\n",
    "    filter_data=filter_sub_universe_data,\n",
    "    cp_metrics_df=cp_metrics_df,\n",
    "    save=True,\n",
    ")\n",
    "final_output"
   ]
  },
  {
   "cell_type": "code",
   "execution_count": null,
   "id": "721ff514-cb11-46f8-b6fc-50392f74b5cb",
   "metadata": {
    "papermill": {
     "duration": 0.027418,
     "end_time": "2025-07-22T10:07:37.270792",
     "exception": false,
     "start_time": "2025-07-22T10:07:37.243374",
     "status": "completed"
    },
    "tags": []
   },
   "outputs": [],
   "source": []
  }
 ],
 "metadata": {
  "celltoolbar": "Tags",
  "kernelspec": {
   "display_name": "Python (CMA Fairness)",
   "language": "python",
   "name": "cma_fair_env"
  },
  "language_info": {
   "codemirror_mode": {
    "name": "ipython",
    "version": 3
   },
   "file_extension": ".py",
   "mimetype": "text/x-python",
   "name": "python",
   "nbconvert_exporter": "python",
   "pygments_lexer": "ipython3",
   "version": "3.10.12"
  },
  "papermill": {
   "default_parameters": {},
   "duration": 46.327485,
   "end_time": "2025-07-22T10:07:38.114844",
   "environment_variables": {},
   "exception": null,
   "input_path": "universe_analysis.ipynb",
   "output_path": "output/runs/4/notebooks/m_4-4356e83194008df6152c133bfc881349.ipynb",
   "parameters": {
    "output_dir": "output",
    "run_no": "4",
    "seed": "2023",
    "universe": "{\"cutoff\": [\"quantile_0.1\", \"quantile_0.25\"], \"eval_fairness_grouping\": [\"majority-minority\", \"nationality-all\"], \"exclude_features\": \"nationality-sex\", \"exclude_subgroups\": \"keep-all\", \"model\": \"penalized_logreg\", \"scale\": \"scale\"}",
    "universe_id": "4356e83194008df6152c133bfc881349"
   },
   "start_time": "2025-07-22T10:06:51.787359",
   "version": "2.6.0"
  }
 },
 "nbformat": 4,
 "nbformat_minor": 5
}