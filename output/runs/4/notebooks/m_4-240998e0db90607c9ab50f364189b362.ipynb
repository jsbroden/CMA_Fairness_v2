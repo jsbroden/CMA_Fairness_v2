{
 "cells": [
  {
   "cell_type": "code",
   "execution_count": 1,
   "id": "f159f837-637b-42ba-96b5-ec9a68c44524",
   "metadata": {
    "execution": {
     "iopub.execute_input": "2025-07-22T10:11:37.817341Z",
     "iopub.status.busy": "2025-07-22T10:11:37.816915Z",
     "iopub.status.idle": "2025-07-22T10:11:37.847871Z",
     "shell.execute_reply": "2025-07-22T10:11:37.846896Z"
    },
    "papermill": {
     "duration": 0.083213,
     "end_time": "2025-07-22T10:11:37.852127",
     "exception": false,
     "start_time": "2025-07-22T10:11:37.768914",
     "status": "completed"
    },
    "tags": []
   },
   "outputs": [
    {
     "name": "stdout",
     "output_type": "stream",
     "text": [
      "/dss/dsshome1/0C/ra93lal2/cma/CMA_Fairness_v2\n"
     ]
    },
    {
     "name": "stderr",
     "output_type": "stream",
     "text": [
      "/dss/dsshome1/0C/ra93lal2/.local/share/virtualenvs/CMA_Fairness_v2-3j10GkSs/lib/python3.10/site-packages/IPython/core/magics/osm.py:393: UserWarning: This is now an optional IPython functionality, using bookmarks requires you to install the `pickleshare` library.\n",
      "  bkms = self.shell.db.get('bookmarks', {})\n",
      "/dss/dsshome1/0C/ra93lal2/.local/share/virtualenvs/CMA_Fairness_v2-3j10GkSs/lib/python3.10/site-packages/IPython/core/magics/osm.py:417: UserWarning: This is now an optional IPython functionality, setting dhist requires you to install the `pickleshare` library.\n",
      "  self.shell.db['dhist'] = compress_dhist(dhist)[-100:]\n"
     ]
    }
   ],
   "source": [
    "%cd ~/cma/CMA_Fairness_v2"
   ]
  },
  {
   "cell_type": "markdown",
   "id": "de2603b9",
   "metadata": {
    "papermill": {
     "duration": 0.016551,
     "end_time": "2025-07-22T10:11:37.910829",
     "exception": false,
     "start_time": "2025-07-22T10:11:37.894278",
     "status": "completed"
    },
    "tags": []
   },
   "source": [
    "The following cell holds the definition of our parameters, these values can be overriden by rendering the with e.g. the following command:\n",
    "\n",
    "papermill -p alpha 0.2 -p ratio 0.3 universe_analysis.ipynb output/test_run.ipynb"
   ]
  },
  {
   "cell_type": "code",
   "execution_count": 2,
   "id": "a80968a0-40bb-4fa9-85ef-2d5eefb01975",
   "metadata": {
    "execution": {
     "iopub.execute_input": "2025-07-22T10:11:37.949290Z",
     "iopub.status.busy": "2025-07-22T10:11:37.948837Z",
     "iopub.status.idle": "2025-07-22T10:11:37.954682Z",
     "shell.execute_reply": "2025-07-22T10:11:37.953673Z"
    },
    "papermill": {
     "duration": 0.034435,
     "end_time": "2025-07-22T10:11:37.959231",
     "exception": false,
     "start_time": "2025-07-22T10:11:37.924796",
     "status": "completed"
    },
    "tags": []
   },
   "outputs": [
    {
     "name": "stdout",
     "output_type": "stream",
     "text": [
      "Current working directory: /dss/dsshome1/0C/ra93lal2/cma/CMA_Fairness_v2\n"
     ]
    }
   ],
   "source": [
    "import os\n",
    "print(\"Current working directory:\", os.getcwd())"
   ]
  },
  {
   "cell_type": "code",
   "execution_count": 3,
   "id": "2dce4c03",
   "metadata": {
    "execution": {
     "iopub.execute_input": "2025-07-22T10:11:38.003397Z",
     "iopub.status.busy": "2025-07-22T10:11:38.002851Z",
     "iopub.status.idle": "2025-07-22T10:11:38.009453Z",
     "shell.execute_reply": "2025-07-22T10:11:38.008334Z"
    },
    "papermill": {
     "duration": 0.031614,
     "end_time": "2025-07-22T10:11:38.013832",
     "exception": false,
     "start_time": "2025-07-22T10:11:37.982218",
     "status": "completed"
    },
    "tags": [
     "parameters"
    ]
   },
   "outputs": [],
   "source": [
    "run_no = 0\n",
    "universe_id = \"test\"\n",
    "universe = {\n",
    "    \"scale\": \"scale\", # \"scale\", \"do-not-scale\",\n",
    "    #\"encode_categorical\": \"one-hot\", # \"ordinal\", \"one-hot\"\n",
    "    \"model\": \"elasticnet\", # \"logreg\", \"penalized_logreg\", \"rf\", \"gbm\", \"elasticnet\"\n",
    "    \"cutoff\": [\"quantile_0.15\", \"quantile_0.30\"],\n",
    "    \"exclude_features\": \"nationality-sex\", # \"none\", \"nationality\", \"sex\", \"nationality-sex\"\n",
    "    \"exclude_subgroups\": \"keep-all\", # \"keep-all\", \"drop-non-german\"\n",
    "    \"eval_fairness_grouping\": [\"majority-minority\", \"nationality-all\"]\n",
    "}\n",
    "\n",
    "output_dir=\"./output\"\n",
    "seed=0"
   ]
  },
  {
   "cell_type": "code",
   "execution_count": 4,
   "id": "ddec582f",
   "metadata": {
    "execution": {
     "iopub.execute_input": "2025-07-22T10:11:38.046392Z",
     "iopub.status.busy": "2025-07-22T10:11:38.045961Z",
     "iopub.status.idle": "2025-07-22T10:11:38.051714Z",
     "shell.execute_reply": "2025-07-22T10:11:38.050622Z"
    },
    "papermill": {
     "duration": 0.021917,
     "end_time": "2025-07-22T10:11:38.053749",
     "exception": false,
     "start_time": "2025-07-22T10:11:38.031832",
     "status": "completed"
    },
    "tags": [
     "injected-parameters"
    ]
   },
   "outputs": [],
   "source": [
    "# Parameters\n",
    "universe_id = \"240998e0db90607c9ab50f364189b362\"\n",
    "run_no = \"4\"\n",
    "universe = \"{\\\"cutoff\\\": [\\\"quantile_0.1\\\", \\\"quantile_0.25\\\"], \\\"eval_fairness_grouping\\\": [\\\"majority-minority\\\", \\\"nationality-all\\\"], \\\"exclude_features\\\": \\\"nationality\\\", \\\"exclude_subgroups\\\": \\\"keep-all\\\", \\\"model\\\": \\\"rf\\\", \\\"scale\\\": \\\"do-not-scale\\\"}\"\n",
    "output_dir = \"output\"\n",
    "seed = \"2023\"\n"
   ]
  },
  {
   "cell_type": "code",
   "execution_count": 5,
   "id": "1650acaf",
   "metadata": {
    "execution": {
     "iopub.execute_input": "2025-07-22T10:11:38.091698Z",
     "iopub.status.busy": "2025-07-22T10:11:38.091063Z",
     "iopub.status.idle": "2025-07-22T10:11:38.095742Z",
     "shell.execute_reply": "2025-07-22T10:11:38.094887Z"
    },
    "papermill": {
     "duration": 0.024772,
     "end_time": "2025-07-22T10:11:38.097239",
     "exception": false,
     "start_time": "2025-07-22T10:11:38.072467",
     "status": "completed"
    },
    "tags": []
   },
   "outputs": [],
   "source": [
    "import json\n",
    "# Parse universe into dict if it is passed as a string\n",
    "if isinstance(universe, str):\n",
    "    universe = json.loads(universe)"
   ]
  },
  {
   "cell_type": "code",
   "execution_count": 6,
   "id": "16620c48",
   "metadata": {
    "execution": {
     "iopub.execute_input": "2025-07-22T10:11:38.118232Z",
     "iopub.status.busy": "2025-07-22T10:11:38.117976Z",
     "iopub.status.idle": "2025-07-22T10:11:38.168939Z",
     "shell.execute_reply": "2025-07-22T10:11:38.167678Z"
    },
    "papermill": {
     "duration": 0.064324,
     "end_time": "2025-07-22T10:11:38.171588",
     "exception": false,
     "start_time": "2025-07-22T10:11:38.107264",
     "status": "completed"
    },
    "tags": []
   },
   "outputs": [],
   "source": [
    "# Auto-reload the custom package\n",
    "%load_ext autoreload\n",
    "%autoreload 1\n",
    "%aimport fairness_multiverse"
   ]
  },
  {
   "cell_type": "code",
   "execution_count": 7,
   "id": "01c5c9f3",
   "metadata": {
    "execution": {
     "iopub.execute_input": "2025-07-22T10:11:38.215382Z",
     "iopub.status.busy": "2025-07-22T10:11:38.214881Z",
     "iopub.status.idle": "2025-07-22T10:11:41.924841Z",
     "shell.execute_reply": "2025-07-22T10:11:41.923922Z"
    },
    "papermill": {
     "duration": 3.734482,
     "end_time": "2025-07-22T10:11:41.926860",
     "exception": false,
     "start_time": "2025-07-22T10:11:38.192378",
     "status": "completed"
    },
    "tags": []
   },
   "outputs": [],
   "source": [
    "from fairness_multiverse.universe import UniverseAnalysis\n",
    "\n",
    "universe_analysis = UniverseAnalysis(\n",
    "    run_no = run_no,\n",
    "    universe_id = universe_id,\n",
    "    universe = universe,\n",
    "    output_dir=output_dir,\n",
    ")"
   ]
  },
  {
   "cell_type": "code",
   "execution_count": 8,
   "id": "106241f5",
   "metadata": {
    "execution": {
     "iopub.execute_input": "2025-07-22T10:11:41.982160Z",
     "iopub.status.busy": "2025-07-22T10:11:41.981527Z",
     "iopub.status.idle": "2025-07-22T10:11:41.989846Z",
     "shell.execute_reply": "2025-07-22T10:11:41.988639Z"
    },
    "papermill": {
     "duration": 0.03443,
     "end_time": "2025-07-22T10:11:41.991997",
     "exception": false,
     "start_time": "2025-07-22T10:11:41.957567",
     "status": "completed"
    },
    "tags": []
   },
   "outputs": [
    {
     "name": "stdout",
     "output_type": "stream",
     "text": [
      "Using Seed: 2023\n"
     ]
    }
   ],
   "source": [
    "import numpy as np\n",
    "parsed_seed = int(seed)\n",
    "np.random.seed(parsed_seed)\n",
    "print(f\"Using Seed: {parsed_seed}\")"
   ]
  },
  {
   "cell_type": "markdown",
   "id": "e0ebdc57",
   "metadata": {
    "papermill": {
     "duration": 0.019477,
     "end_time": "2025-07-22T10:11:42.029233",
     "exception": false,
     "start_time": "2025-07-22T10:11:42.009756",
     "status": "completed"
    },
    "tags": []
   },
   "source": [
    "# Loading Data"
   ]
  },
  {
   "cell_type": "markdown",
   "id": "681925a3",
   "metadata": {
    "papermill": {
     "duration": 0.016548,
     "end_time": "2025-07-22T10:11:42.063613",
     "exception": false,
     "start_time": "2025-07-22T10:11:42.047065",
     "status": "completed"
    },
    "tags": []
   },
   "source": [
    "Load siab_train, siab_test, siab_calib and/or \n",
    "load siab_train_features, siab_train_labels"
   ]
  },
  {
   "cell_type": "code",
   "execution_count": 9,
   "id": "f0496b8a",
   "metadata": {
    "execution": {
     "iopub.execute_input": "2025-07-22T10:11:42.102275Z",
     "iopub.status.busy": "2025-07-22T10:11:42.101735Z",
     "iopub.status.idle": "2025-07-22T10:11:42.108782Z",
     "shell.execute_reply": "2025-07-22T10:11:42.107598Z"
    },
    "papermill": {
     "duration": 0.027424,
     "end_time": "2025-07-22T10:11:42.110813",
     "exception": false,
     "start_time": "2025-07-22T10:11:42.083389",
     "status": "completed"
    },
    "tags": []
   },
   "outputs": [],
   "source": [
    "# Do I need to load siab? Delete this cell?\n",
    "\n",
    "#from pathlib import Path\n",
    "#import pandas as pd\n",
    "#\n",
    "## File paths\n",
    "#raw_file = Path(\"data/raw/siab.csv\")\n",
    "#cache_file = Path(\"data/siab_cached.csv.gz\")\n",
    "#\n",
    "## Ensure cache directory exists\n",
    "#cache_file.parent.mkdir(parents=True, exist_ok=True)\n",
    "#\n",
    "## Load with simple caching\n",
    "#if cache_file.exists():\n",
    "#    print(f\"Loading SIAB data from cache: {cache_file}\")\n",
    "#    siab = pd.read_csv(cache_file, compression='gzip')\n",
    "#else:\n",
    "#    print(f\"Cache not found. Reading raw SIAB data: {raw_file}\")\n",
    "#    siab = pd.read_csv(raw_file)\n",
    "#    siab.to_csv(cache_file, index=False, compression='gzip')\n",
    "#    print(f\"Cached SIAB data to: {cache_file}\")\n",
    "#\n",
    "## Now use `siab` DataFrame as needed\n",
    "#print(siab.shape)\n"
   ]
  },
  {
   "cell_type": "code",
   "execution_count": 10,
   "id": "a0edb063",
   "metadata": {
    "execution": {
     "iopub.execute_input": "2025-07-22T10:11:42.149510Z",
     "iopub.status.busy": "2025-07-22T10:11:42.148811Z",
     "iopub.status.idle": "2025-07-22T10:11:42.611901Z",
     "shell.execute_reply": "2025-07-22T10:11:42.610938Z"
    },
    "papermill": {
     "duration": 0.484248,
     "end_time": "2025-07-22T10:11:42.613837",
     "exception": false,
     "start_time": "2025-07-22T10:11:42.129589",
     "status": "completed"
    },
    "tags": []
   },
   "outputs": [],
   "source": [
    "import pandas as pd\n",
    "\n",
    "X_train = pd.read_csv(\"./data/X_train.csv\")\n",
    "y_train = pd.read_csv(\"./data/y_train.csv\")"
   ]
  },
  {
   "cell_type": "code",
   "execution_count": 11,
   "id": "63d08085",
   "metadata": {
    "execution": {
     "iopub.execute_input": "2025-07-22T10:11:42.650241Z",
     "iopub.status.busy": "2025-07-22T10:11:42.649347Z",
     "iopub.status.idle": "2025-07-22T10:11:44.423046Z",
     "shell.execute_reply": "2025-07-22T10:11:44.422059Z"
    },
    "papermill": {
     "duration": 1.794269,
     "end_time": "2025-07-22T10:11:44.425150",
     "exception": false,
     "start_time": "2025-07-22T10:11:42.630881",
     "status": "completed"
    },
    "tags": []
   },
   "outputs": [],
   "source": [
    "X_test = pd.read_csv(\"./data/X_test.csv\")\n",
    "y_true = pd.read_csv(\"./data/y_test.csv\")"
   ]
  },
  {
   "cell_type": "code",
   "execution_count": 12,
   "id": "98a8d0fa-1d3d-4ed8-bb2c-281470e24add",
   "metadata": {
    "execution": {
     "iopub.execute_input": "2025-07-22T10:11:44.454691Z",
     "iopub.status.busy": "2025-07-22T10:11:44.454228Z",
     "iopub.status.idle": "2025-07-22T10:11:45.934206Z",
     "shell.execute_reply": "2025-07-22T10:11:45.932997Z"
    },
    "papermill": {
     "duration": 1.496892,
     "end_time": "2025-07-22T10:11:45.936215",
     "exception": false,
     "start_time": "2025-07-22T10:11:44.439323",
     "status": "completed"
    },
    "tags": []
   },
   "outputs": [],
   "source": [
    "# Calibration data for conformal\n",
    "X_calib = pd.read_csv(\"./data/X_calib.csv\")\n",
    "y_calib = pd.read_csv(\"./data/y_calib.csv\")"
   ]
  },
  {
   "cell_type": "code",
   "execution_count": 13,
   "id": "e6c733c5",
   "metadata": {
    "execution": {
     "iopub.execute_input": "2025-07-22T10:11:45.969809Z",
     "iopub.status.busy": "2025-07-22T10:11:45.969360Z",
     "iopub.status.idle": "2025-07-22T10:11:46.089226Z",
     "shell.execute_reply": "2025-07-22T10:11:46.087958Z"
    },
    "papermill": {
     "duration": 0.142403,
     "end_time": "2025-07-22T10:11:46.090776",
     "exception": false,
     "start_time": "2025-07-22T10:11:45.948373",
     "status": "completed"
    },
    "tags": []
   },
   "outputs": [],
   "source": [
    "# Auxiliary data needed downstream in the pipeline\n",
    "\n",
    "org_train = X_train.copy()\n",
    "org_test = X_test.copy()\n",
    "org_calib = X_calib.copy()"
   ]
  },
  {
   "cell_type": "markdown",
   "id": "0a4a1b33",
   "metadata": {
    "papermill": {
     "duration": 0.013263,
     "end_time": "2025-07-22T10:11:46.117013",
     "exception": false,
     "start_time": "2025-07-22T10:11:46.103750",
     "status": "completed"
    },
    "tags": []
   },
   "source": [
    "# Preprocessing Data"
   ]
  },
  {
   "cell_type": "code",
   "execution_count": 14,
   "id": "ca879031",
   "metadata": {
    "execution": {
     "iopub.execute_input": "2025-07-22T10:11:46.149169Z",
     "iopub.status.busy": "2025-07-22T10:11:46.148764Z",
     "iopub.status.idle": "2025-07-22T10:11:46.153701Z",
     "shell.execute_reply": "2025-07-22T10:11:46.153043Z"
    },
    "papermill": {
     "duration": 0.01847,
     "end_time": "2025-07-22T10:11:46.155066",
     "exception": false,
     "start_time": "2025-07-22T10:11:46.136596",
     "status": "completed"
    },
    "tags": []
   },
   "outputs": [],
   "source": [
    "# EXCLUDE PROTECTED FEATURES\n",
    "# ----------------------\n",
    "# \"exclude_features\": \"none\", # \"nationality\", \"sex\", \"nationality-sex\"\n",
    "\n",
    "excluded_features = universe[\"exclude_features\"].split(\"-\") # split, e.g.: \"nationality-sex\" -> [\"nationality\", \"sex\"]\n",
    "excluded_features_dictionary = {\n",
    "    \"nationality\": [\"maxdeutsch1\", \"maxdeutsch.Missing.\"],\n",
    "    \"sex\": [\"frau1\"],\n",
    "}\n"
   ]
  },
  {
   "cell_type": "code",
   "execution_count": 15,
   "id": "b745ac60",
   "metadata": {
    "execution": {
     "iopub.execute_input": "2025-07-22T10:11:46.183061Z",
     "iopub.status.busy": "2025-07-22T10:11:46.182381Z",
     "iopub.status.idle": "2025-07-22T10:11:46.221277Z",
     "shell.execute_reply": "2025-07-22T10:11:46.220360Z"
    },
    "papermill": {
     "duration": 0.055877,
     "end_time": "2025-07-22T10:11:46.222767",
     "exception": false,
     "start_time": "2025-07-22T10:11:46.166890",
     "status": "completed"
    },
    "tags": []
   },
   "outputs": [],
   "source": [
    "# Code nice names to column names\n",
    "\n",
    "excluded_features_columns = [\n",
    "    excluded_features_dictionary[f] for f in excluded_features if len(f) > 0 and f != \"none\"\n",
    "]"
   ]
  },
  {
   "cell_type": "code",
   "execution_count": 16,
   "id": "f84f73a2",
   "metadata": {
    "execution": {
     "iopub.execute_input": "2025-07-22T10:11:46.245821Z",
     "iopub.status.busy": "2025-07-22T10:11:46.245402Z",
     "iopub.status.idle": "2025-07-22T10:11:46.251590Z",
     "shell.execute_reply": "2025-07-22T10:11:46.250793Z"
    },
    "papermill": {
     "duration": 0.01833,
     "end_time": "2025-07-22T10:11:46.252897",
     "exception": false,
     "start_time": "2025-07-22T10:11:46.234567",
     "status": "completed"
    },
    "tags": []
   },
   "outputs": [],
   "source": [
    "from utils import flatten_once\n",
    "\n",
    "excluded_features_columns = flatten_once(excluded_features_columns)"
   ]
  },
  {
   "cell_type": "code",
   "execution_count": 17,
   "id": "884dea22",
   "metadata": {
    "execution": {
     "iopub.execute_input": "2025-07-22T10:11:46.274429Z",
     "iopub.status.busy": "2025-07-22T10:11:46.273911Z",
     "iopub.status.idle": "2025-07-22T10:11:46.334186Z",
     "shell.execute_reply": "2025-07-22T10:11:46.332791Z"
    },
    "papermill": {
     "duration": 0.07325,
     "end_time": "2025-07-22T10:11:46.336324",
     "exception": false,
     "start_time": "2025-07-22T10:11:46.263074",
     "status": "completed"
    },
    "tags": []
   },
   "outputs": [
    {
     "name": "stdout",
     "output_type": "stream",
     "text": [
      "Dropping features: ['maxdeutsch1', 'maxdeutsch.Missing.']\n"
     ]
    }
   ],
   "source": [
    "if len(excluded_features_columns) > 0:\n",
    "    print(f\"Dropping features: {excluded_features_columns}\")\n",
    "    X_train.drop(excluded_features_columns, axis=1, inplace=True)"
   ]
  },
  {
   "cell_type": "code",
   "execution_count": 18,
   "id": "95ab8b16",
   "metadata": {
    "execution": {
     "iopub.execute_input": "2025-07-22T10:11:46.375859Z",
     "iopub.status.busy": "2025-07-22T10:11:46.375347Z",
     "iopub.status.idle": "2025-07-22T10:11:46.435127Z",
     "shell.execute_reply": "2025-07-22T10:11:46.434281Z"
    },
    "papermill": {
     "duration": 0.082214,
     "end_time": "2025-07-22T10:11:46.437021",
     "exception": false,
     "start_time": "2025-07-22T10:11:46.354807",
     "status": "completed"
    },
    "tags": []
   },
   "outputs": [
    {
     "name": "stdout",
     "output_type": "stream",
     "text": [
      "Dropping features: ['maxdeutsch1', 'maxdeutsch.Missing.']\n"
     ]
    }
   ],
   "source": [
    "if len(excluded_features_columns) > 0:\n",
    "    print(f\"Dropping features: {excluded_features_columns}\")\n",
    "    X_test.drop(excluded_features_columns, axis=1, inplace=True)"
   ]
  },
  {
   "cell_type": "code",
   "execution_count": 19,
   "id": "1853aaf5-fb9f-46cb-a2b5-8ea4ae2237e4",
   "metadata": {
    "execution": {
     "iopub.execute_input": "2025-07-22T10:11:46.466347Z",
     "iopub.status.busy": "2025-07-22T10:11:46.465928Z",
     "iopub.status.idle": "2025-07-22T10:11:46.590302Z",
     "shell.execute_reply": "2025-07-22T10:11:46.589269Z"
    },
    "papermill": {
     "duration": 0.137878,
     "end_time": "2025-07-22T10:11:46.592196",
     "exception": false,
     "start_time": "2025-07-22T10:11:46.454318",
     "status": "completed"
    },
    "tags": []
   },
   "outputs": [
    {
     "name": "stdout",
     "output_type": "stream",
     "text": [
      "Dropping features: ['maxdeutsch1', 'maxdeutsch.Missing.']\n"
     ]
    }
   ],
   "source": [
    "if len(excluded_features_columns) > 0:\n",
    "    print(f\"Dropping features: {excluded_features_columns}\")\n",
    "    X_calib.drop(excluded_features_columns, axis=1, inplace=True)"
   ]
  },
  {
   "cell_type": "code",
   "execution_count": 20,
   "id": "76c4dc6d",
   "metadata": {
    "execution": {
     "iopub.execute_input": "2025-07-22T10:11:46.615812Z",
     "iopub.status.busy": "2025-07-22T10:11:46.615424Z",
     "iopub.status.idle": "2025-07-22T10:11:46.620545Z",
     "shell.execute_reply": "2025-07-22T10:11:46.619830Z"
    },
    "papermill": {
     "duration": 0.025693,
     "end_time": "2025-07-22T10:11:46.630519",
     "exception": false,
     "start_time": "2025-07-22T10:11:46.604826",
     "status": "completed"
    },
    "tags": []
   },
   "outputs": [],
   "source": [
    "# EXCLUDE CERTAIN SUBGROUPS\n",
    "# ----------------------\n",
    "\n",
    "mode = universe.get(\"exclude_subgroups\", \"keep-all\") \n",
    "# Fetches the exclude_subgroups setting from the universe dict.\n",
    "# Defaults to \"keep-all\" if the key is missing."
   ]
  },
  {
   "cell_type": "code",
   "execution_count": 21,
   "id": "21994072",
   "metadata": {
    "execution": {
     "iopub.execute_input": "2025-07-22T10:11:46.652388Z",
     "iopub.status.busy": "2025-07-22T10:11:46.651718Z",
     "iopub.status.idle": "2025-07-22T10:11:46.712423Z",
     "shell.execute_reply": "2025-07-22T10:11:46.711306Z"
    },
    "papermill": {
     "duration": 0.075502,
     "end_time": "2025-07-22T10:11:46.716290",
     "exception": false,
     "start_time": "2025-07-22T10:11:46.640788",
     "status": "completed"
    },
    "tags": []
   },
   "outputs": [],
   "source": [
    "if mode == \"keep-all\":\n",
    "    keep_mask = pd.Series(True, index=org_train.index)\n",
    "\n",
    "# org_train contains the original feature columns from features_org (in Simson)\n",
    "# features_org contains unprocessed features, for me X_train at beginning ???\n",
    "# For keep-all, creates a boolean Series (keep_mask) of all True, so no rows are removed.\n",
    "\n",
    "elif mode == \"drop-non-german\":\n",
    "    keep_mask = org_train[\"maxdeutsch1\"] == 1 # ??? what about missing values?\n",
    "\n",
    "else:\n",
    "    raise ValueError(f\"Unsupported mode for exclude_subgroups: {mode}\")\n"
   ]
  },
  {
   "cell_type": "code",
   "execution_count": 22,
   "id": "71651440",
   "metadata": {
    "execution": {
     "iopub.execute_input": "2025-07-22T10:11:46.765380Z",
     "iopub.status.busy": "2025-07-22T10:11:46.764724Z",
     "iopub.status.idle": "2025-07-22T10:11:46.772212Z",
     "shell.execute_reply": "2025-07-22T10:11:46.771181Z"
    },
    "papermill": {
     "duration": 0.026609,
     "end_time": "2025-07-22T10:11:46.774223",
     "exception": false,
     "start_time": "2025-07-22T10:11:46.747614",
     "status": "completed"
    },
    "tags": []
   },
   "outputs": [],
   "source": [
    "n_drop = (~keep_mask).sum() # Calculates how many rows are set to be dropped\n",
    "if n_drop > 0:\n",
    "    pct = n_drop / len(keep_mask) * 100\n",
    "    print(f\"Dropping {n_drop} rows ({pct:.2f}%) where mode='{mode}'\")"
   ]
  },
  {
   "cell_type": "code",
   "execution_count": 23,
   "id": "5fb8eee5",
   "metadata": {
    "execution": {
     "iopub.execute_input": "2025-07-22T10:11:46.815320Z",
     "iopub.status.busy": "2025-07-22T10:11:46.814512Z",
     "iopub.status.idle": "2025-07-22T10:11:46.839024Z",
     "shell.execute_reply": "2025-07-22T10:11:46.837849Z"
    },
    "papermill": {
     "duration": 0.045888,
     "end_time": "2025-07-22T10:11:46.841060",
     "exception": false,
     "start_time": "2025-07-22T10:11:46.795172",
     "status": "completed"
    },
    "tags": []
   },
   "outputs": [],
   "source": [
    "X_train = X_train[keep_mask]"
   ]
  },
  {
   "cell_type": "code",
   "execution_count": 24,
   "id": "b202bb3a",
   "metadata": {
    "execution": {
     "iopub.execute_input": "2025-07-22T10:11:46.880836Z",
     "iopub.status.busy": "2025-07-22T10:11:46.879475Z",
     "iopub.status.idle": "2025-07-22T10:11:46.887044Z",
     "shell.execute_reply": "2025-07-22T10:11:46.886134Z"
    },
    "papermill": {
     "duration": 0.028316,
     "end_time": "2025-07-22T10:11:46.888803",
     "exception": false,
     "start_time": "2025-07-22T10:11:46.860487",
     "status": "completed"
    },
    "tags": []
   },
   "outputs": [],
   "source": [
    "y_train = y_train[keep_mask]"
   ]
  },
  {
   "cell_type": "markdown",
   "id": "493e2ac3",
   "metadata": {
    "papermill": {
     "duration": 0.013503,
     "end_time": "2025-07-22T10:11:46.917536",
     "exception": false,
     "start_time": "2025-07-22T10:11:46.904033",
     "status": "completed"
    },
    "tags": []
   },
   "source": [
    "# Model Training"
   ]
  },
  {
   "cell_type": "code",
   "execution_count": 25,
   "id": "679e1268",
   "metadata": {
    "execution": {
     "iopub.execute_input": "2025-07-22T10:11:46.945199Z",
     "iopub.status.busy": "2025-07-22T10:11:46.944354Z",
     "iopub.status.idle": "2025-07-22T10:11:47.062046Z",
     "shell.execute_reply": "2025-07-22T10:11:47.061137Z"
    },
    "papermill": {
     "duration": 0.132566,
     "end_time": "2025-07-22T10:11:47.063958",
     "exception": false,
     "start_time": "2025-07-22T10:11:46.931392",
     "status": "completed"
    },
    "tags": []
   },
   "outputs": [],
   "source": [
    "from sklearn.linear_model import LogisticRegression\n",
    "from sklearn.ensemble import GradientBoostingClassifier, RandomForestClassifier\n",
    "\n",
    "if (universe[\"model\"] == \"logreg\"):\n",
    "    model = LogisticRegression() #penalty=\"none\") #, solver=\"newton-cg\", max_iter=1) # include random_state=19 ?\n",
    "elif (universe[\"model\"] == \"penalized_logreg\"):\n",
    "    model = LogisticRegression(penalty=\"l2\", C=1.0) #, solver=\"newton-cg\", max_iter=1)\n",
    "elif (universe[\"model\"] == \"rf\"):\n",
    "    model = RandomForestClassifier(n_estimators=100, n_jobs=-1)\n",
    "elif (universe[\"model\"] == \"gbm\"):\n",
    "    model = GradientBoostingClassifier()\n",
    "elif (universe[\"model\"] == \"elasticnet\"):\n",
    "    model = LogisticRegression(penalty = 'elasticnet', solver = 'saga', l1_ratio = 0.5, max_iter=5000) # which solver to use?\n",
    "else:\n",
    "    raise \"Unsupported universe.model\""
   ]
  },
  {
   "cell_type": "code",
   "execution_count": 26,
   "id": "0cc8f744",
   "metadata": {
    "execution": {
     "iopub.execute_input": "2025-07-22T10:11:47.122140Z",
     "iopub.status.busy": "2025-07-22T10:11:47.121701Z",
     "iopub.status.idle": "2025-07-22T10:11:47.138962Z",
     "shell.execute_reply": "2025-07-22T10:11:47.137210Z"
    },
    "papermill": {
     "duration": 0.047701,
     "end_time": "2025-07-22T10:11:47.141418",
     "exception": false,
     "start_time": "2025-07-22T10:11:47.093717",
     "status": "completed"
    },
    "tags": []
   },
   "outputs": [],
   "source": [
    "import numpy as np\n",
    "from sklearn.pipeline import Pipeline\n",
    "from sklearn.preprocessing import StandardScaler\n",
    "\n",
    "model = Pipeline([\n",
    "    #(\"continuous_processor\", continuous_processor),\n",
    "    #(\"categorical_preprocessor\", categorical_preprocessor),\n",
    "    (\"scale\", StandardScaler() if universe[\"scale\"] == \"scale\" else None), \n",
    "    (\"model\", model),\n",
    "])"
   ]
  },
  {
   "cell_type": "code",
   "execution_count": 27,
   "id": "9442c04d",
   "metadata": {
    "execution": {
     "iopub.execute_input": "2025-07-22T10:11:47.181795Z",
     "iopub.status.busy": "2025-07-22T10:11:47.181412Z",
     "iopub.status.idle": "2025-07-22T10:11:52.186538Z",
     "shell.execute_reply": "2025-07-22T10:11:52.185446Z"
    },
    "papermill": {
     "duration": 5.027317,
     "end_time": "2025-07-22T10:11:52.188371",
     "exception": false,
     "start_time": "2025-07-22T10:11:47.161054",
     "status": "completed"
    },
    "tags": []
   },
   "outputs": [
    {
     "data": {
      "text/html": [
       "<style>#sk-container-id-1 {color: black;background-color: white;}#sk-container-id-1 pre{padding: 0;}#sk-container-id-1 div.sk-toggleable {background-color: white;}#sk-container-id-1 label.sk-toggleable__label {cursor: pointer;display: block;width: 100%;margin-bottom: 0;padding: 0.3em;box-sizing: border-box;text-align: center;}#sk-container-id-1 label.sk-toggleable__label-arrow:before {content: \"▸\";float: left;margin-right: 0.25em;color: #696969;}#sk-container-id-1 label.sk-toggleable__label-arrow:hover:before {color: black;}#sk-container-id-1 div.sk-estimator:hover label.sk-toggleable__label-arrow:before {color: black;}#sk-container-id-1 div.sk-toggleable__content {max-height: 0;max-width: 0;overflow: hidden;text-align: left;background-color: #f0f8ff;}#sk-container-id-1 div.sk-toggleable__content pre {margin: 0.2em;color: black;border-radius: 0.25em;background-color: #f0f8ff;}#sk-container-id-1 input.sk-toggleable__control:checked~div.sk-toggleable__content {max-height: 200px;max-width: 100%;overflow: auto;}#sk-container-id-1 input.sk-toggleable__control:checked~label.sk-toggleable__label-arrow:before {content: \"▾\";}#sk-container-id-1 div.sk-estimator input.sk-toggleable__control:checked~label.sk-toggleable__label {background-color: #d4ebff;}#sk-container-id-1 div.sk-label input.sk-toggleable__control:checked~label.sk-toggleable__label {background-color: #d4ebff;}#sk-container-id-1 input.sk-hidden--visually {border: 0;clip: rect(1px 1px 1px 1px);clip: rect(1px, 1px, 1px, 1px);height: 1px;margin: -1px;overflow: hidden;padding: 0;position: absolute;width: 1px;}#sk-container-id-1 div.sk-estimator {font-family: monospace;background-color: #f0f8ff;border: 1px dotted black;border-radius: 0.25em;box-sizing: border-box;margin-bottom: 0.5em;}#sk-container-id-1 div.sk-estimator:hover {background-color: #d4ebff;}#sk-container-id-1 div.sk-parallel-item::after {content: \"\";width: 100%;border-bottom: 1px solid gray;flex-grow: 1;}#sk-container-id-1 div.sk-label:hover label.sk-toggleable__label {background-color: #d4ebff;}#sk-container-id-1 div.sk-serial::before {content: \"\";position: absolute;border-left: 1px solid gray;box-sizing: border-box;top: 0;bottom: 0;left: 50%;z-index: 0;}#sk-container-id-1 div.sk-serial {display: flex;flex-direction: column;align-items: center;background-color: white;padding-right: 0.2em;padding-left: 0.2em;position: relative;}#sk-container-id-1 div.sk-item {position: relative;z-index: 1;}#sk-container-id-1 div.sk-parallel {display: flex;align-items: stretch;justify-content: center;background-color: white;position: relative;}#sk-container-id-1 div.sk-item::before, #sk-container-id-1 div.sk-parallel-item::before {content: \"\";position: absolute;border-left: 1px solid gray;box-sizing: border-box;top: 0;bottom: 0;left: 50%;z-index: -1;}#sk-container-id-1 div.sk-parallel-item {display: flex;flex-direction: column;z-index: 1;position: relative;background-color: white;}#sk-container-id-1 div.sk-parallel-item:first-child::after {align-self: flex-end;width: 50%;}#sk-container-id-1 div.sk-parallel-item:last-child::after {align-self: flex-start;width: 50%;}#sk-container-id-1 div.sk-parallel-item:only-child::after {width: 0;}#sk-container-id-1 div.sk-dashed-wrapped {border: 1px dashed gray;margin: 0 0.4em 0.5em 0.4em;box-sizing: border-box;padding-bottom: 0.4em;background-color: white;}#sk-container-id-1 div.sk-label label {font-family: monospace;font-weight: bold;display: inline-block;line-height: 1.2em;}#sk-container-id-1 div.sk-label-container {text-align: center;}#sk-container-id-1 div.sk-container {/* jupyter's `normalize.less` sets `[hidden] { display: none; }` but bootstrap.min.css set `[hidden] { display: none !important; }` so we also need the `!important` here to be able to override the default hidden behavior on the sphinx rendered scikit-learn.org. See: https://github.com/scikit-learn/scikit-learn/issues/21755 */display: inline-block !important;position: relative;}#sk-container-id-1 div.sk-text-repr-fallback {display: none;}</style><div id=\"sk-container-id-1\" class=\"sk-top-container\"><div class=\"sk-text-repr-fallback\"><pre>Pipeline(steps=[(&#x27;scale&#x27;, None), (&#x27;model&#x27;, RandomForestClassifier(n_jobs=-1))])</pre><b>In a Jupyter environment, please rerun this cell to show the HTML representation or trust the notebook. <br />On GitHub, the HTML representation is unable to render, please try loading this page with nbviewer.org.</b></div><div class=\"sk-container\" hidden><div class=\"sk-item sk-dashed-wrapped\"><div class=\"sk-label-container\"><div class=\"sk-label sk-toggleable\"><input class=\"sk-toggleable__control sk-hidden--visually\" id=\"sk-estimator-id-1\" type=\"checkbox\" ><label for=\"sk-estimator-id-1\" class=\"sk-toggleable__label sk-toggleable__label-arrow\">Pipeline</label><div class=\"sk-toggleable__content\"><pre>Pipeline(steps=[(&#x27;scale&#x27;, None), (&#x27;model&#x27;, RandomForestClassifier(n_jobs=-1))])</pre></div></div></div><div class=\"sk-serial\"><div class=\"sk-item\"><div class=\"sk-estimator sk-toggleable\"><input class=\"sk-toggleable__control sk-hidden--visually\" id=\"sk-estimator-id-2\" type=\"checkbox\" ><label for=\"sk-estimator-id-2\" class=\"sk-toggleable__label sk-toggleable__label-arrow\">None</label><div class=\"sk-toggleable__content\"><pre>None</pre></div></div></div><div class=\"sk-item\"><div class=\"sk-estimator sk-toggleable\"><input class=\"sk-toggleable__control sk-hidden--visually\" id=\"sk-estimator-id-3\" type=\"checkbox\" ><label for=\"sk-estimator-id-3\" class=\"sk-toggleable__label sk-toggleable__label-arrow\">RandomForestClassifier</label><div class=\"sk-toggleable__content\"><pre>RandomForestClassifier(n_jobs=-1)</pre></div></div></div></div></div></div></div>"
      ],
      "text/plain": [
       "Pipeline(steps=[('scale', None), ('model', RandomForestClassifier(n_jobs=-1))])"
      ]
     },
     "execution_count": 27,
     "metadata": {},
     "output_type": "execute_result"
    }
   ],
   "source": [
    "model.fit(X_train, y_train.values.ravel())"
   ]
  },
  {
   "cell_type": "code",
   "execution_count": 28,
   "id": "af59f8c0",
   "metadata": {
    "execution": {
     "iopub.execute_input": "2025-07-22T10:11:52.246881Z",
     "iopub.status.busy": "2025-07-22T10:11:52.246324Z",
     "iopub.status.idle": "2025-07-22T10:11:52.253396Z",
     "shell.execute_reply": "2025-07-22T10:11:52.251732Z"
    },
    "papermill": {
     "duration": 0.032682,
     "end_time": "2025-07-22T10:11:52.257515",
     "exception": false,
     "start_time": "2025-07-22T10:11:52.224833",
     "status": "completed"
    },
    "tags": []
   },
   "outputs": [],
   "source": [
    "from fairness_multiverse.universe import predict_w_threshold"
   ]
  },
  {
   "cell_type": "code",
   "execution_count": 29,
   "id": "a7cf2e16",
   "metadata": {
    "execution": {
     "iopub.execute_input": "2025-07-22T10:11:52.299438Z",
     "iopub.status.busy": "2025-07-22T10:11:52.299000Z",
     "iopub.status.idle": "2025-07-22T10:11:54.304056Z",
     "shell.execute_reply": "2025-07-22T10:11:54.302739Z"
    },
    "papermill": {
     "duration": 2.043758,
     "end_time": "2025-07-22T10:11:54.321919",
     "exception": false,
     "start_time": "2025-07-22T10:11:52.278161",
     "status": "completed"
    },
    "tags": []
   },
   "outputs": [
    {
     "data": {
      "text/plain": [
       "0.8644521235090848"
      ]
     },
     "execution_count": 29,
     "metadata": {},
     "output_type": "execute_result"
    }
   ],
   "source": [
    "probs_test = model.predict_proba(X_test)\n",
    "\n",
    "'''\n",
    "Below code returns a boolean array (or binary 0/1 array depending on how it’s used) where each element \n",
    "is True if the probability of class 1 is greater than or equal to the threshold, and False otherwise.\n",
    "'''\n",
    "y_pred_default = predict_w_threshold(probs_test, 0.5)\n",
    "\n",
    "from sklearn.metrics import accuracy_score\n",
    "\n",
    "# Naive prediction\n",
    "accuracy_score(y_true = y_true, y_pred = y_pred_default)"
   ]
  },
  {
   "cell_type": "code",
   "execution_count": 30,
   "id": "081964c3",
   "metadata": {
    "execution": {
     "iopub.execute_input": "2025-07-22T10:11:54.427865Z",
     "iopub.status.busy": "2025-07-22T10:11:54.427469Z",
     "iopub.status.idle": "2025-07-22T10:11:56.510079Z",
     "shell.execute_reply": "2025-07-22T10:11:56.509068Z"
    },
    "papermill": {
     "duration": 2.13216,
     "end_time": "2025-07-22T10:11:56.511910",
     "exception": false,
     "start_time": "2025-07-22T10:11:54.379750",
     "status": "completed"
    },
    "tags": []
   },
   "outputs": [
    {
     "data": {
      "text/plain": [
       "array([0, 0, 0, ..., 0, 0, 0])"
      ]
     },
     "execution_count": 30,
     "metadata": {},
     "output_type": "execute_result"
    }
   ],
   "source": [
    "model.predict(X_test)"
   ]
  },
  {
   "cell_type": "markdown",
   "id": "56c9705b",
   "metadata": {
    "papermill": {
     "duration": 0.06552,
     "end_time": "2025-07-22T10:11:56.624989",
     "exception": false,
     "start_time": "2025-07-22T10:11:56.559469",
     "status": "completed"
    },
    "tags": []
   },
   "source": [
    "# Conformal Prediction"
   ]
  },
  {
   "cell_type": "code",
   "execution_count": 31,
   "id": "97cb0abb-9ba7-4cd9-96c4-aa4728b38a5f",
   "metadata": {
    "execution": {
     "iopub.execute_input": "2025-07-22T10:11:56.722691Z",
     "iopub.status.busy": "2025-07-22T10:11:56.722213Z",
     "iopub.status.idle": "2025-07-22T10:11:56.728249Z",
     "shell.execute_reply": "2025-07-22T10:11:56.727262Z"
    },
    "papermill": {
     "duration": 0.062938,
     "end_time": "2025-07-22T10:11:56.735278",
     "exception": false,
     "start_time": "2025-07-22T10:11:56.672340",
     "status": "completed"
    },
    "tags": []
   },
   "outputs": [],
   "source": [
    "# SCALE X CALIB IF UNIVERSE IS IN SCALE?????"
   ]
  },
  {
   "cell_type": "code",
   "execution_count": 32,
   "id": "160ec6ff",
   "metadata": {
    "execution": {
     "iopub.execute_input": "2025-07-22T10:11:56.803731Z",
     "iopub.status.busy": "2025-07-22T10:11:56.803279Z",
     "iopub.status.idle": "2025-07-22T10:11:56.809320Z",
     "shell.execute_reply": "2025-07-22T10:11:56.808002Z"
    },
    "papermill": {
     "duration": 0.036079,
     "end_time": "2025-07-22T10:11:56.812880",
     "exception": false,
     "start_time": "2025-07-22T10:11:56.776801",
     "status": "completed"
    },
    "tags": []
   },
   "outputs": [],
   "source": [
    "# Miscoverage level for conformal prediction (10% allowed error rate => 90% target coverage)\n",
    "alpha = 0.1"
   ]
  },
  {
   "cell_type": "code",
   "execution_count": 33,
   "id": "eadf4555-3dd3-440e-8e35-f82a4ad9f855",
   "metadata": {
    "execution": {
     "iopub.execute_input": "2025-07-22T10:11:56.879114Z",
     "iopub.status.busy": "2025-07-22T10:11:56.878681Z",
     "iopub.status.idle": "2025-07-22T10:11:58.564548Z",
     "shell.execute_reply": "2025-07-22T10:11:58.563600Z"
    },
    "papermill": {
     "duration": 1.726976,
     "end_time": "2025-07-22T10:11:58.567211",
     "exception": false,
     "start_time": "2025-07-22T10:11:56.840235",
     "status": "completed"
    },
    "tags": []
   },
   "outputs": [],
   "source": [
    "probs_calib = model.predict_proba(X_calib)"
   ]
  },
  {
   "cell_type": "code",
   "execution_count": 34,
   "id": "2ed93547-6d5d-4983-9b36-1ecb300da49a",
   "metadata": {
    "execution": {
     "iopub.execute_input": "2025-07-22T10:11:58.680358Z",
     "iopub.status.busy": "2025-07-22T10:11:58.679966Z",
     "iopub.status.idle": "2025-07-22T10:11:58.686012Z",
     "shell.execute_reply": "2025-07-22T10:11:58.684973Z"
    },
    "papermill": {
     "duration": 0.06361,
     "end_time": "2025-07-22T10:11:58.688341",
     "exception": false,
     "start_time": "2025-07-22T10:11:58.624731",
     "status": "completed"
    },
    "tags": []
   },
   "outputs": [],
   "source": [
    "y_calib = y_calib.values.ravel().astype(int)"
   ]
  },
  {
   "cell_type": "code",
   "execution_count": 35,
   "id": "65d1320d-f588-4b38-9072-62af1ae97f7d",
   "metadata": {
    "execution": {
     "iopub.execute_input": "2025-07-22T10:11:58.754384Z",
     "iopub.status.busy": "2025-07-22T10:11:58.753966Z",
     "iopub.status.idle": "2025-07-22T10:11:58.762088Z",
     "shell.execute_reply": "2025-07-22T10:11:58.760751Z"
    },
    "papermill": {
     "duration": 0.034174,
     "end_time": "2025-07-22T10:11:58.767295",
     "exception": false,
     "start_time": "2025-07-22T10:11:58.733121",
     "status": "completed"
    },
    "tags": []
   },
   "outputs": [],
   "source": [
    "from fairness_multiverse.conformal import compute_nc_scores\n",
    "\n",
    "# Compute nonconformity scores on calibration set (1 - probability of true class)\n",
    "nc_scores = compute_nc_scores(probs_calib, y_calib)"
   ]
  },
  {
   "cell_type": "code",
   "execution_count": 36,
   "id": "df3b8ca3-53b7-43d5-9667-7c85da7aeda2",
   "metadata": {
    "execution": {
     "iopub.execute_input": "2025-07-22T10:11:58.811191Z",
     "iopub.status.busy": "2025-07-22T10:11:58.810791Z",
     "iopub.status.idle": "2025-07-22T10:11:58.822915Z",
     "shell.execute_reply": "2025-07-22T10:11:58.816680Z"
    },
    "papermill": {
     "duration": 0.035429,
     "end_time": "2025-07-22T10:11:58.824873",
     "exception": false,
     "start_time": "2025-07-22T10:11:58.789444",
     "status": "completed"
    },
    "tags": []
   },
   "outputs": [],
   "source": [
    "from fairness_multiverse.conformal import find_threshold\n",
    "\n",
    "# Find conformal threshold q_hat for the given alpha (split conformal method)\n",
    "q_hat = find_threshold(nc_scores, alpha)"
   ]
  },
  {
   "cell_type": "code",
   "execution_count": 37,
   "id": "4d29e6c1-0ef6-4aa4-b8fe-4fe79b0d033a",
   "metadata": {
    "execution": {
     "iopub.execute_input": "2025-07-22T10:11:58.908752Z",
     "iopub.status.busy": "2025-07-22T10:11:58.908290Z",
     "iopub.status.idle": "2025-07-22T10:11:58.916172Z",
     "shell.execute_reply": "2025-07-22T10:11:58.914991Z"
    },
    "papermill": {
     "duration": 0.064076,
     "end_time": "2025-07-22T10:11:58.921325",
     "exception": false,
     "start_time": "2025-07-22T10:11:58.857249",
     "status": "completed"
    },
    "tags": []
   },
   "outputs": [
    {
     "data": {
      "text/plain": [
       "0.6599999999999999"
      ]
     },
     "execution_count": 37,
     "metadata": {},
     "output_type": "execute_result"
    }
   ],
   "source": [
    "q_hat"
   ]
  },
  {
   "cell_type": "code",
   "execution_count": 38,
   "id": "92460794-cdac-4be2-ba28-f28c0515a6fb",
   "metadata": {
    "execution": {
     "iopub.execute_input": "2025-07-22T10:11:59.006347Z",
     "iopub.status.busy": "2025-07-22T10:11:59.005946Z",
     "iopub.status.idle": "2025-07-22T10:12:01.802560Z",
     "shell.execute_reply": "2025-07-22T10:12:01.801444Z"
    },
    "papermill": {
     "duration": 2.844857,
     "end_time": "2025-07-22T10:12:01.804750",
     "exception": false,
     "start_time": "2025-07-22T10:11:58.959893",
     "status": "completed"
    },
    "tags": []
   },
   "outputs": [],
   "source": [
    "from fairness_multiverse.conformal import predict_conformal_sets\n",
    "\n",
    "# Generate prediction sets for each test example\n",
    "pred_sets = predict_conformal_sets(model, X_test, q_hat)"
   ]
  },
  {
   "cell_type": "code",
   "execution_count": 39,
   "id": "d90c9a65-e6db-4f5d-80cd-e68fb7e46829",
   "metadata": {
    "execution": {
     "iopub.execute_input": "2025-07-22T10:12:01.869755Z",
     "iopub.status.busy": "2025-07-22T10:12:01.869265Z",
     "iopub.status.idle": "2025-07-22T10:12:01.875866Z",
     "shell.execute_reply": "2025-07-22T10:12:01.874781Z"
    },
    "papermill": {
     "duration": 0.032469,
     "end_time": "2025-07-22T10:12:01.877433",
     "exception": false,
     "start_time": "2025-07-22T10:12:01.844964",
     "status": "completed"
    },
    "tags": []
   },
   "outputs": [],
   "source": [
    "y_true = y_true.squeeze()"
   ]
  },
  {
   "cell_type": "code",
   "execution_count": 40,
   "id": "3a58a54a-1e68-46b9-927a-df01f18aebc8",
   "metadata": {
    "execution": {
     "iopub.execute_input": "2025-07-22T10:12:01.902599Z",
     "iopub.status.busy": "2025-07-22T10:12:01.902150Z",
     "iopub.status.idle": "2025-07-22T10:12:02.931055Z",
     "shell.execute_reply": "2025-07-22T10:12:02.924893Z"
    },
    "papermill": {
     "duration": 1.042155,
     "end_time": "2025-07-22T10:12:02.933485",
     "exception": false,
     "start_time": "2025-07-22T10:12:01.891330",
     "status": "completed"
    },
    "tags": []
   },
   "outputs": [],
   "source": [
    "from fairness_multiverse.conformal import evaluate_sets\n",
    "\n",
    "# Evaluate coverage and average set size on test data\n",
    "metrics = evaluate_sets(pred_sets, y_true)"
   ]
  },
  {
   "cell_type": "code",
   "execution_count": 41,
   "id": "5ce0a5cb-201f-45a0-ade5-94c7f0bd6095",
   "metadata": {
    "execution": {
     "iopub.execute_input": "2025-07-22T10:12:03.002117Z",
     "iopub.status.busy": "2025-07-22T10:12:03.001708Z",
     "iopub.status.idle": "2025-07-22T10:12:03.009811Z",
     "shell.execute_reply": "2025-07-22T10:12:03.008541Z"
    },
    "papermill": {
     "duration": 0.047912,
     "end_time": "2025-07-22T10:12:03.015879",
     "exception": false,
     "start_time": "2025-07-22T10:12:02.967967",
     "status": "completed"
    },
    "tags": []
   },
   "outputs": [
    {
     "data": {
      "text/plain": [
       "{'coverage': 0.9149258722550441, 'avg_size': 1.1498495151042247}"
      ]
     },
     "execution_count": 41,
     "metadata": {},
     "output_type": "execute_result"
    }
   ],
   "source": [
    "metrics"
   ]
  },
  {
   "cell_type": "code",
   "execution_count": 42,
   "id": "9b9a838d-31c9-430b-ae14-12baee460d17",
   "metadata": {
    "execution": {
     "iopub.execute_input": "2025-07-22T10:12:03.107283Z",
     "iopub.status.busy": "2025-07-22T10:12:03.106852Z",
     "iopub.status.idle": "2025-07-22T10:12:03.113954Z",
     "shell.execute_reply": "2025-07-22T10:12:03.112795Z"
    },
    "papermill": {
     "duration": 0.049489,
     "end_time": "2025-07-22T10:12:03.117674",
     "exception": false,
     "start_time": "2025-07-22T10:12:03.068185",
     "status": "completed"
    },
    "tags": []
   },
   "outputs": [],
   "source": [
    "example_universe = universe.copy()\n",
    "universe_model = example_universe.get(\"model\")\n",
    "universe_exclude_features = example_universe.get(\"exclude_features\")\n",
    "universe_exclude_subgroups = example_universe.get(\"exclude_subgroups\")\n",
    "universe_scale = example_universe.get(\"scale\")"
   ]
  },
  {
   "cell_type": "code",
   "execution_count": 43,
   "id": "f4b6a8ac-9dc0-4245-8a91-5b3b5999c4f9",
   "metadata": {
    "execution": {
     "iopub.execute_input": "2025-07-22T10:12:03.165114Z",
     "iopub.status.busy": "2025-07-22T10:12:03.164527Z",
     "iopub.status.idle": "2025-07-22T10:12:03.171722Z",
     "shell.execute_reply": "2025-07-22T10:12:03.170584Z"
    },
    "papermill": {
     "duration": 0.033416,
     "end_time": "2025-07-22T10:12:03.175750",
     "exception": false,
     "start_time": "2025-07-22T10:12:03.142334",
     "status": "completed"
    },
    "tags": []
   },
   "outputs": [],
   "source": [
    "cp_metrics_dict = {\n",
    "    \"universe_id\": [universe_id],\n",
    "    \"universe_model\": [universe_model],\n",
    "    \"universe_exclude_features\": [universe_exclude_features],\n",
    "    \"universe_exclude_subgroups\": [universe_exclude_subgroups],\n",
    "    \"universe_scale\": [universe_scale],\n",
    "    \"q_hat\": [q_hat],\n",
    "    \"coverage\": [metrics[\"coverage\"]],\n",
    "    \"avg_size\": [metrics[\"avg_size\"]],\n",
    "}"
   ]
  },
  {
   "cell_type": "code",
   "execution_count": 44,
   "id": "908acbb1-0371-4915-85ca-3fa520d2efe2",
   "metadata": {
    "execution": {
     "iopub.execute_input": "2025-07-22T10:12:03.223845Z",
     "iopub.status.busy": "2025-07-22T10:12:03.223413Z",
     "iopub.status.idle": "2025-07-22T10:12:03.231325Z",
     "shell.execute_reply": "2025-07-22T10:12:03.230267Z"
    },
    "papermill": {
     "duration": 0.034931,
     "end_time": "2025-07-22T10:12:03.233521",
     "exception": false,
     "start_time": "2025-07-22T10:12:03.198590",
     "status": "completed"
    },
    "tags": []
   },
   "outputs": [
    {
     "data": {
      "text/plain": [
       "{'universe_id': ['240998e0db90607c9ab50f364189b362'],\n",
       " 'universe_model': ['rf'],\n",
       " 'universe_exclude_features': ['nationality'],\n",
       " 'universe_exclude_subgroups': ['keep-all'],\n",
       " 'universe_scale': ['do-not-scale'],\n",
       " 'q_hat': [0.6599999999999999],\n",
       " 'coverage': [0.9149258722550441],\n",
       " 'avg_size': [1.1498495151042247]}"
      ]
     },
     "execution_count": 44,
     "metadata": {},
     "output_type": "execute_result"
    }
   ],
   "source": [
    "cp_metrics_dict"
   ]
  },
  {
   "cell_type": "code",
   "execution_count": 45,
   "id": "33007efc-14e9-4ec6-97ac-56a455c82265",
   "metadata": {
    "execution": {
     "iopub.execute_input": "2025-07-22T10:12:03.271969Z",
     "iopub.status.busy": "2025-07-22T10:12:03.271492Z",
     "iopub.status.idle": "2025-07-22T10:12:03.277111Z",
     "shell.execute_reply": "2025-07-22T10:12:03.276165Z"
    },
    "papermill": {
     "duration": 0.022681,
     "end_time": "2025-07-22T10:12:03.278752",
     "exception": false,
     "start_time": "2025-07-22T10:12:03.256071",
     "status": "completed"
    },
    "tags": []
   },
   "outputs": [],
   "source": [
    "cp_metrics_df = pd.DataFrame(cp_metrics_dict)"
   ]
  },
  {
   "cell_type": "code",
   "execution_count": 46,
   "id": "db12611b-57b2-4910-b9d0-355adfd6e7bf",
   "metadata": {
    "execution": {
     "iopub.execute_input": "2025-07-22T10:12:03.303800Z",
     "iopub.status.busy": "2025-07-22T10:12:03.303291Z",
     "iopub.status.idle": "2025-07-22T10:12:03.320902Z",
     "shell.execute_reply": "2025-07-22T10:12:03.319382Z"
    },
    "papermill": {
     "duration": 0.032252,
     "end_time": "2025-07-22T10:12:03.323359",
     "exception": false,
     "start_time": "2025-07-22T10:12:03.291107",
     "status": "completed"
    },
    "tags": []
   },
   "outputs": [
    {
     "data": {
      "text/html": [
       "<div>\n",
       "<style scoped>\n",
       "    .dataframe tbody tr th:only-of-type {\n",
       "        vertical-align: middle;\n",
       "    }\n",
       "\n",
       "    .dataframe tbody tr th {\n",
       "        vertical-align: top;\n",
       "    }\n",
       "\n",
       "    .dataframe thead th {\n",
       "        text-align: right;\n",
       "    }\n",
       "</style>\n",
       "<table border=\"1\" class=\"dataframe\">\n",
       "  <thead>\n",
       "    <tr style=\"text-align: right;\">\n",
       "      <th></th>\n",
       "      <th>universe_id</th>\n",
       "      <th>universe_model</th>\n",
       "      <th>universe_exclude_features</th>\n",
       "      <th>universe_exclude_subgroups</th>\n",
       "      <th>universe_scale</th>\n",
       "      <th>q_hat</th>\n",
       "      <th>coverage</th>\n",
       "      <th>avg_size</th>\n",
       "    </tr>\n",
       "  </thead>\n",
       "  <tbody>\n",
       "    <tr>\n",
       "      <th>0</th>\n",
       "      <td>240998e0db90607c9ab50f364189b362</td>\n",
       "      <td>rf</td>\n",
       "      <td>nationality</td>\n",
       "      <td>keep-all</td>\n",
       "      <td>do-not-scale</td>\n",
       "      <td>0.66</td>\n",
       "      <td>0.914926</td>\n",
       "      <td>1.14985</td>\n",
       "    </tr>\n",
       "  </tbody>\n",
       "</table>\n",
       "</div>"
      ],
      "text/plain": [
       "                        universe_id universe_model universe_exclude_features  \\\n",
       "0  240998e0db90607c9ab50f364189b362             rf               nationality   \n",
       "\n",
       "  universe_exclude_subgroups universe_scale  q_hat  coverage  avg_size  \n",
       "0                   keep-all   do-not-scale   0.66  0.914926   1.14985  "
      ]
     },
     "execution_count": 46,
     "metadata": {},
     "output_type": "execute_result"
    }
   ],
   "source": [
    "cp_metrics_df"
   ]
  },
  {
   "cell_type": "code",
   "execution_count": 47,
   "id": "b7fbde55-a0a1-47e4-9af6-fe4a17fa8c61",
   "metadata": {
    "execution": {
     "iopub.execute_input": "2025-07-22T10:12:03.370742Z",
     "iopub.status.busy": "2025-07-22T10:12:03.370220Z",
     "iopub.status.idle": "2025-07-22T10:12:03.376296Z",
     "shell.execute_reply": "2025-07-22T10:12:03.375313Z"
    },
    "papermill": {
     "duration": 0.031777,
     "end_time": "2025-07-22T10:12:03.378491",
     "exception": false,
     "start_time": "2025-07-22T10:12:03.346714",
     "status": "completed"
    },
    "tags": []
   },
   "outputs": [],
   "source": [
    "# Conditional Coverage & looking at subgroups"
   ]
  },
  {
   "cell_type": "code",
   "execution_count": 48,
   "id": "027ae886-68dd-4141-96c7-805a5450e1ef",
   "metadata": {
    "execution": {
     "iopub.execute_input": "2025-07-22T10:12:03.423521Z",
     "iopub.status.busy": "2025-07-22T10:12:03.423024Z",
     "iopub.status.idle": "2025-07-22T10:12:03.695438Z",
     "shell.execute_reply": "2025-07-22T10:12:03.694330Z"
    },
    "papermill": {
     "duration": 0.298362,
     "end_time": "2025-07-22T10:12:03.697490",
     "exception": false,
     "start_time": "2025-07-22T10:12:03.399128",
     "status": "completed"
    },
    "tags": []
   },
   "outputs": [],
   "source": [
    "from fairness_multiverse.conformal import build_cp_groups\n",
    "\n",
    "cp_groups_df = build_cp_groups(pred_sets, y_true, X_test.index, org_test)\n",
    "#needs universe_id and setting"
   ]
  },
  {
   "cell_type": "code",
   "execution_count": 49,
   "id": "c3b92545-903e-4839-89af-0f057907d7d6",
   "metadata": {
    "execution": {
     "iopub.execute_input": "2025-07-22T10:12:03.740310Z",
     "iopub.status.busy": "2025-07-22T10:12:03.739463Z",
     "iopub.status.idle": "2025-07-22T10:12:05.677881Z",
     "shell.execute_reply": "2025-07-22T10:12:05.676784Z"
    },
    "papermill": {
     "duration": 1.960837,
     "end_time": "2025-07-22T10:12:05.679699",
     "exception": false,
     "start_time": "2025-07-22T10:12:03.718862",
     "status": "completed"
    },
    "tags": []
   },
   "outputs": [],
   "source": [
    "# Define covered = 1 if true_label is in the predicted set\n",
    "cp_groups_df['covered'] = cp_groups_df.apply(\n",
    "    lambda r: int(r['true_label'] in r['pred_set']),\n",
    "    axis=1\n",
    ")"
   ]
  },
  {
   "cell_type": "code",
   "execution_count": 50,
   "id": "338ff529-1a6b-4b87-a931-8e4788d52aad",
   "metadata": {
    "execution": {
     "iopub.execute_input": "2025-07-22T10:12:05.728910Z",
     "iopub.status.busy": "2025-07-22T10:12:05.723943Z",
     "iopub.status.idle": "2025-07-22T10:12:05.733914Z",
     "shell.execute_reply": "2025-07-22T10:12:05.732803Z"
    },
    "papermill": {
     "duration": 0.035012,
     "end_time": "2025-07-22T10:12:05.736947",
     "exception": false,
     "start_time": "2025-07-22T10:12:05.701935",
     "status": "completed"
    },
    "tags": []
   },
   "outputs": [],
   "source": [
    "#cp_groups_df"
   ]
  },
  {
   "cell_type": "code",
   "execution_count": 51,
   "id": "90032e27-66df-4540-9169-4e89cfbaa758",
   "metadata": {
    "execution": {
     "iopub.execute_input": "2025-07-22T10:12:05.765805Z",
     "iopub.status.busy": "2025-07-22T10:12:05.765407Z",
     "iopub.status.idle": "2025-07-22T10:12:05.776704Z",
     "shell.execute_reply": "2025-07-22T10:12:05.775829Z"
    },
    "papermill": {
     "duration": 0.025193,
     "end_time": "2025-07-22T10:12:05.778473",
     "exception": false,
     "start_time": "2025-07-22T10:12:05.753280",
     "status": "completed"
    },
    "tags": []
   },
   "outputs": [],
   "source": [
    "subgroups = ['frau1','nongerman','nongerman_male','nongerman_female']\n",
    "\n",
    "# Conditional coverage for subgroup==1\n",
    "cond_coverage = {\n",
    "    g: cp_groups_df.loc[cp_groups_df[g]==1, 'covered'].mean()\n",
    "    for g in subgroups\n",
    "}"
   ]
  },
  {
   "cell_type": "code",
   "execution_count": 52,
   "id": "1e348fb1-b9c3-45bc-ba23-f016827a7e0d",
   "metadata": {
    "execution": {
     "iopub.execute_input": "2025-07-22T10:12:05.803714Z",
     "iopub.status.busy": "2025-07-22T10:12:05.802970Z",
     "iopub.status.idle": "2025-07-22T10:12:05.810108Z",
     "shell.execute_reply": "2025-07-22T10:12:05.809322Z"
    },
    "papermill": {
     "duration": 0.021465,
     "end_time": "2025-07-22T10:12:05.811885",
     "exception": false,
     "start_time": "2025-07-22T10:12:05.790420",
     "status": "completed"
    },
    "tags": []
   },
   "outputs": [
    {
     "data": {
      "text/plain": [
       "{'frau1': 0.9141932875050546,\n",
       " 'nongerman': 0.9074271599393702,\n",
       " 'nongerman_male': 0.9196613527875349,\n",
       " 'nongerman_female': 0.8871833084947839}"
      ]
     },
     "execution_count": 52,
     "metadata": {},
     "output_type": "execute_result"
    }
   ],
   "source": [
    "cond_coverage"
   ]
  },
  {
   "cell_type": "code",
   "execution_count": 53,
   "id": "f5093324-c3dd-4d63-bc4c-8d945e5c8bbb",
   "metadata": {
    "execution": {
     "iopub.execute_input": "2025-07-22T10:12:05.858215Z",
     "iopub.status.busy": "2025-07-22T10:12:05.857174Z",
     "iopub.status.idle": "2025-07-22T10:12:05.865331Z",
     "shell.execute_reply": "2025-07-22T10:12:05.864209Z"
    },
    "papermill": {
     "duration": 0.032484,
     "end_time": "2025-07-22T10:12:05.867276",
     "exception": false,
     "start_time": "2025-07-22T10:12:05.834792",
     "status": "completed"
    },
    "tags": []
   },
   "outputs": [],
   "source": [
    "for subgroup, cov in cond_coverage.items():\n",
    "    cp_metrics_df[f\"cov_{subgroup}\"] = cov"
   ]
  },
  {
   "cell_type": "code",
   "execution_count": 54,
   "id": "6e872e10-dbe5-49e8-b554-5030c98ff75d",
   "metadata": {
    "execution": {
     "iopub.execute_input": "2025-07-22T10:12:05.912525Z",
     "iopub.status.busy": "2025-07-22T10:12:05.912042Z",
     "iopub.status.idle": "2025-07-22T10:12:05.931154Z",
     "shell.execute_reply": "2025-07-22T10:12:05.929835Z"
    },
    "papermill": {
     "duration": 0.043245,
     "end_time": "2025-07-22T10:12:05.933211",
     "exception": false,
     "start_time": "2025-07-22T10:12:05.889966",
     "status": "completed"
    },
    "tags": []
   },
   "outputs": [
    {
     "data": {
      "text/html": [
       "<div>\n",
       "<style scoped>\n",
       "    .dataframe tbody tr th:only-of-type {\n",
       "        vertical-align: middle;\n",
       "    }\n",
       "\n",
       "    .dataframe tbody tr th {\n",
       "        vertical-align: top;\n",
       "    }\n",
       "\n",
       "    .dataframe thead th {\n",
       "        text-align: right;\n",
       "    }\n",
       "</style>\n",
       "<table border=\"1\" class=\"dataframe\">\n",
       "  <thead>\n",
       "    <tr style=\"text-align: right;\">\n",
       "      <th></th>\n",
       "      <th>universe_id</th>\n",
       "      <th>universe_model</th>\n",
       "      <th>universe_exclude_features</th>\n",
       "      <th>universe_exclude_subgroups</th>\n",
       "      <th>universe_scale</th>\n",
       "      <th>q_hat</th>\n",
       "      <th>coverage</th>\n",
       "      <th>avg_size</th>\n",
       "      <th>cov_frau1</th>\n",
       "      <th>cov_nongerman</th>\n",
       "      <th>cov_nongerman_male</th>\n",
       "      <th>cov_nongerman_female</th>\n",
       "    </tr>\n",
       "  </thead>\n",
       "  <tbody>\n",
       "    <tr>\n",
       "      <th>0</th>\n",
       "      <td>240998e0db90607c9ab50f364189b362</td>\n",
       "      <td>rf</td>\n",
       "      <td>nationality</td>\n",
       "      <td>keep-all</td>\n",
       "      <td>do-not-scale</td>\n",
       "      <td>0.66</td>\n",
       "      <td>0.914926</td>\n",
       "      <td>1.14985</td>\n",
       "      <td>0.914193</td>\n",
       "      <td>0.907427</td>\n",
       "      <td>0.919661</td>\n",
       "      <td>0.887183</td>\n",
       "    </tr>\n",
       "  </tbody>\n",
       "</table>\n",
       "</div>"
      ],
      "text/plain": [
       "                        universe_id universe_model universe_exclude_features  \\\n",
       "0  240998e0db90607c9ab50f364189b362             rf               nationality   \n",
       "\n",
       "  universe_exclude_subgroups universe_scale  q_hat  coverage  avg_size  \\\n",
       "0                   keep-all   do-not-scale   0.66  0.914926   1.14985   \n",
       "\n",
       "   cov_frau1  cov_nongerman  cov_nongerman_male  cov_nongerman_female  \n",
       "0   0.914193       0.907427            0.919661              0.887183  "
      ]
     },
     "execution_count": 54,
     "metadata": {},
     "output_type": "execute_result"
    }
   ],
   "source": [
    "cp_metrics_df"
   ]
  },
  {
   "cell_type": "markdown",
   "id": "33774451",
   "metadata": {
    "papermill": {
     "duration": 0.019657,
     "end_time": "2025-07-22T10:12:05.976145",
     "exception": false,
     "start_time": "2025-07-22T10:12:05.956488",
     "status": "completed"
    },
    "tags": []
   },
   "source": [
    "# (Fairness) Metrics"
   ]
  },
  {
   "cell_type": "code",
   "execution_count": 55,
   "id": "debc5d62",
   "metadata": {
    "execution": {
     "iopub.execute_input": "2025-07-22T10:12:06.018833Z",
     "iopub.status.busy": "2025-07-22T10:12:06.018366Z",
     "iopub.status.idle": "2025-07-22T10:12:06.042027Z",
     "shell.execute_reply": "2025-07-22T10:12:06.041128Z"
    },
    "papermill": {
     "duration": 0.04883,
     "end_time": "2025-07-22T10:12:06.045953",
     "exception": false,
     "start_time": "2025-07-22T10:12:05.997123",
     "status": "completed"
    },
    "tags": []
   },
   "outputs": [],
   "source": [
    "# do I need to include maxdeutsch1.missing?\n",
    "\n",
    "import numpy as np\n",
    "\n",
    "colname_to_bin = \"maxdeutsch1\"\n",
    "majority_value = org_train[colname_to_bin].mode()[0]\n",
    "\n",
    "org_test[\"majmin\"] = np.where(org_test[colname_to_bin] == majority_value, \"majority\", \"minority\")"
   ]
  },
  {
   "cell_type": "code",
   "execution_count": 56,
   "id": "06a50de5",
   "metadata": {
    "execution": {
     "iopub.execute_input": "2025-07-22T10:12:06.098155Z",
     "iopub.status.busy": "2025-07-22T10:12:06.097275Z",
     "iopub.status.idle": "2025-07-22T10:12:08.183081Z",
     "shell.execute_reply": "2025-07-22T10:12:08.181986Z"
    },
    "papermill": {
     "duration": 2.113969,
     "end_time": "2025-07-22T10:12:08.185337",
     "exception": false,
     "start_time": "2025-07-22T10:12:06.071368",
     "status": "completed"
    },
    "tags": []
   },
   "outputs": [],
   "source": [
    "example_universe = universe.copy()\n",
    "example_universe[\"cutoff\"] = example_universe[\"cutoff\"][0]\n",
    "example_universe[\"eval_fairness_grouping\"] = example_universe[\"eval_fairness_grouping\"][0]\n",
    "fairness_dict, metric_frame = universe_analysis.compute_metrics(\n",
    "    example_universe,\n",
    "    y_pred_prob=probs_test,\n",
    "    y_test=y_true,\n",
    "    org_test=org_test,\n",
    ")"
   ]
  },
  {
   "cell_type": "markdown",
   "id": "f95d4e02",
   "metadata": {
    "papermill": {
     "duration": 0.022168,
     "end_time": "2025-07-22T10:12:08.234549",
     "exception": false,
     "start_time": "2025-07-22T10:12:08.212381",
     "status": "completed"
    },
    "tags": []
   },
   "source": [
    "# Overall"
   ]
  },
  {
   "cell_type": "markdown",
   "id": "bdee4871",
   "metadata": {
    "papermill": {
     "duration": 0.021936,
     "end_time": "2025-07-22T10:12:08.279947",
     "exception": false,
     "start_time": "2025-07-22T10:12:08.258011",
     "status": "completed"
    },
    "tags": []
   },
   "source": [
    "Fairness\n",
    "Main fairness target: Equalized Odds. Seems to be a better fit than equal opportunity, since we're not only interested in Y = 1. Seems to be a better fit than demographic parity, since we also care about accuracy, not just equal distribution of preds.\n",
    "\n",
    "Pick column for computation of fairness metrics\n",
    "\n",
    "Performance\n",
    "Overall performance measures, most interesting in relation to the measures split by group below"
   ]
  },
  {
   "cell_type": "code",
   "execution_count": 57,
   "id": "c4e067c6",
   "metadata": {
    "execution": {
     "iopub.execute_input": "2025-07-22T10:12:08.330520Z",
     "iopub.status.busy": "2025-07-22T10:12:08.330009Z",
     "iopub.status.idle": "2025-07-22T10:12:08.339559Z",
     "shell.execute_reply": "2025-07-22T10:12:08.338413Z"
    },
    "papermill": {
     "duration": 0.038656,
     "end_time": "2025-07-22T10:12:08.341787",
     "exception": false,
     "start_time": "2025-07-22T10:12:08.303131",
     "status": "completed"
    },
    "tags": []
   },
   "outputs": [
    {
     "data": {
      "text/plain": [
       "accuracy                   0.222205\n",
       "balanced accuracy          0.543795\n",
       "f1                         0.243604\n",
       "precision                  0.139163\n",
       "false positive rate        0.888775\n",
       "false negative rate        0.023636\n",
       "selection rate             0.900011\n",
       "count                  89710.000000\n",
       "dtype: float64"
      ]
     },
     "execution_count": 57,
     "metadata": {},
     "output_type": "execute_result"
    }
   ],
   "source": [
    "metric_frame.overall"
   ]
  },
  {
   "cell_type": "markdown",
   "id": "e968fe9d",
   "metadata": {
    "papermill": {
     "duration": 0.022175,
     "end_time": "2025-07-22T10:12:08.387883",
     "exception": false,
     "start_time": "2025-07-22T10:12:08.365708",
     "status": "completed"
    },
    "tags": []
   },
   "source": [
    "By Group"
   ]
  },
  {
   "cell_type": "code",
   "execution_count": 58,
   "id": "ec325bce",
   "metadata": {
    "execution": {
     "iopub.execute_input": "2025-07-22T10:12:08.436617Z",
     "iopub.status.busy": "2025-07-22T10:12:08.435791Z",
     "iopub.status.idle": "2025-07-22T10:12:08.456020Z",
     "shell.execute_reply": "2025-07-22T10:12:08.454865Z"
    },
    "papermill": {
     "duration": 0.047656,
     "end_time": "2025-07-22T10:12:08.458074",
     "exception": false,
     "start_time": "2025-07-22T10:12:08.410418",
     "status": "completed"
    },
    "tags": []
   },
   "outputs": [
    {
     "data": {
      "text/html": [
       "<div>\n",
       "<style scoped>\n",
       "    .dataframe tbody tr th:only-of-type {\n",
       "        vertical-align: middle;\n",
       "    }\n",
       "\n",
       "    .dataframe tbody tr th {\n",
       "        vertical-align: top;\n",
       "    }\n",
       "\n",
       "    .dataframe thead th {\n",
       "        text-align: right;\n",
       "    }\n",
       "</style>\n",
       "<table border=\"1\" class=\"dataframe\">\n",
       "  <thead>\n",
       "    <tr style=\"text-align: right;\">\n",
       "      <th></th>\n",
       "      <th>accuracy</th>\n",
       "      <th>balanced accuracy</th>\n",
       "      <th>f1</th>\n",
       "      <th>precision</th>\n",
       "      <th>false positive rate</th>\n",
       "      <th>false negative rate</th>\n",
       "      <th>selection rate</th>\n",
       "      <th>count</th>\n",
       "    </tr>\n",
       "    <tr>\n",
       "      <th>majmin</th>\n",
       "      <th></th>\n",
       "      <th></th>\n",
       "      <th></th>\n",
       "      <th></th>\n",
       "      <th></th>\n",
       "      <th></th>\n",
       "      <th></th>\n",
       "      <th></th>\n",
       "    </tr>\n",
       "  </thead>\n",
       "  <tbody>\n",
       "    <tr>\n",
       "      <th>majority</th>\n",
       "      <td>0.217305</td>\n",
       "      <td>0.543317</td>\n",
       "      <td>0.249851</td>\n",
       "      <td>0.143041</td>\n",
       "      <td>0.899800</td>\n",
       "      <td>0.013567</td>\n",
       "      <td>0.911248</td>\n",
       "      <td>69170.0</td>\n",
       "    </tr>\n",
       "    <tr>\n",
       "      <th>minority</th>\n",
       "      <td>0.238705</td>\n",
       "      <td>0.542572</td>\n",
       "      <td>0.221149</td>\n",
       "      <td>0.125360</td>\n",
       "      <td>0.852355</td>\n",
       "      <td>0.062500</td>\n",
       "      <td>0.862171</td>\n",
       "      <td>20540.0</td>\n",
       "    </tr>\n",
       "  </tbody>\n",
       "</table>\n",
       "</div>"
      ],
      "text/plain": [
       "          accuracy  balanced accuracy        f1  precision  \\\n",
       "majmin                                                       \n",
       "majority  0.217305           0.543317  0.249851   0.143041   \n",
       "minority  0.238705           0.542572  0.221149   0.125360   \n",
       "\n",
       "          false positive rate  false negative rate  selection rate    count  \n",
       "majmin                                                                       \n",
       "majority             0.899800             0.013567        0.911248  69170.0  \n",
       "minority             0.852355             0.062500        0.862171  20540.0  "
      ]
     },
     "execution_count": 58,
     "metadata": {},
     "output_type": "execute_result"
    }
   ],
   "source": [
    "metric_frame.by_group"
   ]
  },
  {
   "cell_type": "code",
   "execution_count": 59,
   "id": "a9ddbe63",
   "metadata": {
    "execution": {
     "iopub.execute_input": "2025-07-22T10:12:08.509350Z",
     "iopub.status.busy": "2025-07-22T10:12:08.508382Z",
     "iopub.status.idle": "2025-07-22T10:12:11.136186Z",
     "shell.execute_reply": "2025-07-22T10:12:11.135145Z"
    },
    "papermill": {
     "duration": 2.654934,
     "end_time": "2025-07-22T10:12:11.137935",
     "exception": false,
     "start_time": "2025-07-22T10:12:08.483001",
     "status": "completed"
    },
    "tags": []
   },
   "outputs": [
    {
     "data": {
      "text/plain": [
       "array([[<Axes: title={'center': 'accuracy'}, xlabel='majmin'>,\n",
       "        <Axes: title={'center': 'balanced accuracy'}, xlabel='majmin'>,\n",
       "        <Axes: title={'center': 'f1'}, xlabel='majmin'>],\n",
       "       [<Axes: title={'center': 'precision'}, xlabel='majmin'>,\n",
       "        <Axes: title={'center': 'false positive rate'}, xlabel='majmin'>,\n",
       "        <Axes: title={'center': 'false negative rate'}, xlabel='majmin'>],\n",
       "       [<Axes: title={'center': 'selection rate'}, xlabel='majmin'>,\n",
       "        <Axes: title={'center': 'count'}, xlabel='majmin'>,\n",
       "        <Axes: xlabel='majmin'>]], dtype=object)"
      ]
     },
     "execution_count": 59,
     "metadata": {},
     "output_type": "execute_result"
    },
    {
     "data": {
      "image/png": "[encoded data removed]",
      "text/plain": [
       "<Figure size 1200x800 with 9 Axes>"
      ]
     },
     "metadata": {},
     "output_type": "display_data"
    }
   ],
   "source": [
    "# In a graphic\n",
    "metric_frame.by_group.plot.bar(\n",
    "    subplots=True,\n",
    "    layout=[3, 3],\n",
    "    legend=False,\n",
    "    figsize=[12, 8],\n",
    "    title=\"Show all metrics\",\n",
    ")"
   ]
  },
  {
   "cell_type": "markdown",
   "id": "f57a0bac",
   "metadata": {
    "papermill": {
     "duration": 0.025078,
     "end_time": "2025-07-22T10:12:11.190666",
     "exception": false,
     "start_time": "2025-07-22T10:12:11.165588",
     "status": "completed"
    },
    "tags": []
   },
   "source": [
    "# Final Output"
   ]
  },
  {
   "cell_type": "code",
   "execution_count": 60,
   "id": "96d280a3",
   "metadata": {
    "execution": {
     "iopub.execute_input": "2025-07-22T10:12:11.229963Z",
     "iopub.status.busy": "2025-07-22T10:12:11.229078Z",
     "iopub.status.idle": "2025-07-22T10:12:11.238386Z",
     "shell.execute_reply": "2025-07-22T10:12:11.237255Z"
    },
    "papermill": {
     "duration": 0.029099,
     "end_time": "2025-07-22T10:12:11.240225",
     "exception": false,
     "start_time": "2025-07-22T10:12:11.211126",
     "status": "completed"
    },
    "tags": []
   },
   "outputs": [
    {
     "data": {
      "text/plain": [
       "4"
      ]
     },
     "execution_count": 60,
     "metadata": {},
     "output_type": "execute_result"
    }
   ],
   "source": [
    "sub_universes = universe_analysis.generate_sub_universes()\n",
    "len(sub_universes)"
   ]
  },
  {
   "cell_type": "code",
   "execution_count": 61,
   "id": "92adf7ba",
   "metadata": {
    "execution": {
     "iopub.execute_input": "2025-07-22T10:12:11.292389Z",
     "iopub.status.busy": "2025-07-22T10:12:11.291707Z",
     "iopub.status.idle": "2025-07-22T10:12:11.301664Z",
     "shell.execute_reply": "2025-07-22T10:12:11.300669Z"
    },
    "papermill": {
     "duration": 0.038167,
     "end_time": "2025-07-22T10:12:11.303119",
     "exception": false,
     "start_time": "2025-07-22T10:12:11.264952",
     "status": "completed"
    },
    "tags": []
   },
   "outputs": [],
   "source": [
    "def filter_sub_universe_data(sub_universe, org_test):\n",
    "    # Keep all rows — no filtering\n",
    "    keep_rows_mask = np.ones(org_test.shape[0], dtype=bool)\n",
    "\n",
    "    print(f\"[INFO] Keeping all rows: {keep_rows_mask.sum()} rows retained.\")\n",
    "    return keep_rows_mask"
   ]
  },
  {
   "cell_type": "code",
   "execution_count": 62,
   "id": "4a759155",
   "metadata": {
    "execution": {
     "iopub.execute_input": "2025-07-22T10:12:11.357011Z",
     "iopub.status.busy": "2025-07-22T10:12:11.356469Z",
     "iopub.status.idle": "2025-07-22T10:12:22.627162Z",
     "shell.execute_reply": "2025-07-22T10:12:22.625705Z"
    },
    "papermill": {
     "duration": 11.301973,
     "end_time": "2025-07-22T10:12:22.629231",
     "exception": false,
     "start_time": "2025-07-22T10:12:11.327258",
     "status": "completed"
    },
    "tags": []
   },
   "outputs": [
    {
     "name": "stdout",
     "output_type": "stream",
     "text": [
      "Stopping execution_time clock.\n",
      "[INFO] Keeping all rows: 89710 rows retained.\n"
     ]
    },
    {
     "name": "stdout",
     "output_type": "stream",
     "text": [
      "[INFO] Keeping all rows: 89710 rows retained.\n"
     ]
    },
    {
     "name": "stdout",
     "output_type": "stream",
     "text": [
      "[INFO] Keeping all rows: 89710 rows retained.\n"
     ]
    },
    {
     "name": "stdout",
     "output_type": "stream",
     "text": [
      "[INFO] Keeping all rows: 89710 rows retained.\n"
     ]
    },
    {
     "data": {
      "text/html": [
       "<div>\n",
       "<style scoped>\n",
       "    .dataframe tbody tr th:only-of-type {\n",
       "        vertical-align: middle;\n",
       "    }\n",
       "\n",
       "    .dataframe tbody tr th {\n",
       "        vertical-align: top;\n",
       "    }\n",
       "\n",
       "    .dataframe thead th {\n",
       "        text-align: right;\n",
       "    }\n",
       "</style>\n",
       "<table border=\"1\" class=\"dataframe\">\n",
       "  <thead>\n",
       "    <tr style=\"text-align: right;\">\n",
       "      <th></th>\n",
       "      <th>run_no</th>\n",
       "      <th>universe_id</th>\n",
       "      <th>universe_settings</th>\n",
       "      <th>execution_time</th>\n",
       "      <th>test_size_n</th>\n",
       "      <th>test_size_frac</th>\n",
       "      <th>fair_main_equalized_odds_difference</th>\n",
       "      <th>fair_main_equalized_odds_ratio</th>\n",
       "      <th>fair_main_demographic_parity_difference</th>\n",
       "      <th>fair_main_demographic_parity_ratio</th>\n",
       "      <th>...</th>\n",
       "      <th>perf_grp_precision_0</th>\n",
       "      <th>perf_grp_precision_1</th>\n",
       "      <th>perf_grp_false positive rate_0</th>\n",
       "      <th>perf_grp_false positive rate_1</th>\n",
       "      <th>perf_grp_false negative rate_0</th>\n",
       "      <th>perf_grp_false negative rate_1</th>\n",
       "      <th>perf_grp_selection rate_0</th>\n",
       "      <th>perf_grp_selection rate_1</th>\n",
       "      <th>perf_grp_count_0</th>\n",
       "      <th>perf_grp_count_1</th>\n",
       "    </tr>\n",
       "  </thead>\n",
       "  <tbody>\n",
       "    <tr>\n",
       "      <th>0</th>\n",
       "      <td>4</td>\n",
       "      <td>240998e0db90607c9ab50f364189b362</td>\n",
       "      <td>{\"cutoff\": \"quantile_0.1\", \"eval_fairness_grou...</td>\n",
       "      <td>29.516794</td>\n",
       "      <td>89710</td>\n",
       "      <td>1.0</td>\n",
       "      <td>0.048933</td>\n",
       "      <td>0.947272</td>\n",
       "      <td>0.049076</td>\n",
       "      <td>0.946144</td>\n",
       "      <td>...</td>\n",
       "      <td>NaN</td>\n",
       "      <td>NaN</td>\n",
       "      <td>NaN</td>\n",
       "      <td>NaN</td>\n",
       "      <td>NaN</td>\n",
       "      <td>NaN</td>\n",
       "      <td>NaN</td>\n",
       "      <td>NaN</td>\n",
       "      <td>NaN</td>\n",
       "      <td>NaN</td>\n",
       "    </tr>\n",
       "    <tr>\n",
       "      <th>0</th>\n",
       "      <td>4</td>\n",
       "      <td>240998e0db90607c9ab50f364189b362</td>\n",
       "      <td>{\"cutoff\": \"quantile_0.1\", \"eval_fairness_grou...</td>\n",
       "      <td>29.516794</td>\n",
       "      <td>89710</td>\n",
       "      <td>1.0</td>\n",
       "      <td>0.048933</td>\n",
       "      <td>0.947272</td>\n",
       "      <td>0.049076</td>\n",
       "      <td>0.946144</td>\n",
       "      <td>...</td>\n",
       "      <td>0.125360</td>\n",
       "      <td>0.143041</td>\n",
       "      <td>0.852355</td>\n",
       "      <td>0.899800</td>\n",
       "      <td>0.062500</td>\n",
       "      <td>0.013567</td>\n",
       "      <td>0.862171</td>\n",
       "      <td>0.911248</td>\n",
       "      <td>20540.0</td>\n",
       "      <td>69170.0</td>\n",
       "    </tr>\n",
       "    <tr>\n",
       "      <th>0</th>\n",
       "      <td>4</td>\n",
       "      <td>240998e0db90607c9ab50f364189b362</td>\n",
       "      <td>{\"cutoff\": \"quantile_0.25\", \"eval_fairness_gro...</td>\n",
       "      <td>29.516794</td>\n",
       "      <td>89710</td>\n",
       "      <td>1.0</td>\n",
       "      <td>0.091468</td>\n",
       "      <td>0.904017</td>\n",
       "      <td>0.065392</td>\n",
       "      <td>0.915061</td>\n",
       "      <td>...</td>\n",
       "      <td>NaN</td>\n",
       "      <td>NaN</td>\n",
       "      <td>NaN</td>\n",
       "      <td>NaN</td>\n",
       "      <td>NaN</td>\n",
       "      <td>NaN</td>\n",
       "      <td>NaN</td>\n",
       "      <td>NaN</td>\n",
       "      <td>NaN</td>\n",
       "      <td>NaN</td>\n",
       "    </tr>\n",
       "    <tr>\n",
       "      <th>0</th>\n",
       "      <td>4</td>\n",
       "      <td>240998e0db90607c9ab50f364189b362</td>\n",
       "      <td>{\"cutoff\": \"quantile_0.25\", \"eval_fairness_gro...</td>\n",
       "      <td>29.516794</td>\n",
       "      <td>89710</td>\n",
       "      <td>1.0</td>\n",
       "      <td>0.091468</td>\n",
       "      <td>0.904017</td>\n",
       "      <td>0.065392</td>\n",
       "      <td>0.915061</td>\n",
       "      <td>...</td>\n",
       "      <td>0.140981</td>\n",
       "      <td>0.163562</td>\n",
       "      <td>0.684019</td>\n",
       "      <td>0.741996</td>\n",
       "      <td>0.138514</td>\n",
       "      <td>0.047046</td>\n",
       "      <td>0.704479</td>\n",
       "      <td>0.769871</td>\n",
       "      <td>20540.0</td>\n",
       "      <td>69170.0</td>\n",
       "    </tr>\n",
       "  </tbody>\n",
       "</table>\n",
       "<p>4 rows × 50 columns</p>\n",
       "</div>"
      ],
      "text/plain": [
       "  run_no                       universe_id  \\\n",
       "0      4  240998e0db90607c9ab50f364189b362   \n",
       "0      4  240998e0db90607c9ab50f364189b362   \n",
       "0      4  240998e0db90607c9ab50f364189b362   \n",
       "0      4  240998e0db90607c9ab50f364189b362   \n",
       "\n",
       "                                   universe_settings  execution_time  \\\n",
       "0  {\"cutoff\": \"quantile_0.1\", \"eval_fairness_grou...       29.516794   \n",
       "0  {\"cutoff\": \"quantile_0.1\", \"eval_fairness_grou...       29.516794   \n",
       "0  {\"cutoff\": \"quantile_0.25\", \"eval_fairness_gro...       29.516794   \n",
       "0  {\"cutoff\": \"quantile_0.25\", \"eval_fairness_gro...       29.516794   \n",
       "\n",
       "   test_size_n  test_size_frac  fair_main_equalized_odds_difference  \\\n",
       "0        89710             1.0                             0.048933   \n",
       "0        89710             1.0                             0.048933   \n",
       "0        89710             1.0                             0.091468   \n",
       "0        89710             1.0                             0.091468   \n",
       "\n",
       "   fair_main_equalized_odds_ratio  fair_main_demographic_parity_difference  \\\n",
       "0                        0.947272                                 0.049076   \n",
       "0                        0.947272                                 0.049076   \n",
       "0                        0.904017                                 0.065392   \n",
       "0                        0.904017                                 0.065392   \n",
       "\n",
       "   fair_main_demographic_parity_ratio  ...  perf_grp_precision_0  \\\n",
       "0                            0.946144  ...                   NaN   \n",
       "0                            0.946144  ...              0.125360   \n",
       "0                            0.915061  ...                   NaN   \n",
       "0                            0.915061  ...              0.140981   \n",
       "\n",
       "   perf_grp_precision_1  perf_grp_false positive rate_0  \\\n",
       "0                   NaN                             NaN   \n",
       "0              0.143041                        0.852355   \n",
       "0                   NaN                             NaN   \n",
       "0              0.163562                        0.684019   \n",
       "\n",
       "   perf_grp_false positive rate_1  perf_grp_false negative rate_0  \\\n",
       "0                             NaN                             NaN   \n",
       "0                        0.899800                        0.062500   \n",
       "0                             NaN                             NaN   \n",
       "0                        0.741996                        0.138514   \n",
       "\n",
       "   perf_grp_false negative rate_1  perf_grp_selection rate_0  \\\n",
       "0                             NaN                        NaN   \n",
       "0                        0.013567                   0.862171   \n",
       "0                             NaN                        NaN   \n",
       "0                        0.047046                   0.704479   \n",
       "\n",
       "   perf_grp_selection rate_1  perf_grp_count_0  perf_grp_count_1  \n",
       "0                        NaN               NaN               NaN  \n",
       "0                   0.911248           20540.0           69170.0  \n",
       "0                        NaN               NaN               NaN  \n",
       "0                   0.769871           20540.0           69170.0  \n",
       "\n",
       "[4 rows x 50 columns]"
      ]
     },
     "execution_count": 62,
     "metadata": {},
     "output_type": "execute_result"
    }
   ],
   "source": [
    "final_output = universe_analysis.generate_final_output(\n",
    "    y_pred_prob=probs_test,\n",
    "    y_test=y_true,\n",
    "    org_test=org_test,\n",
    "    filter_data=filter_sub_universe_data,\n",
    "    cp_metrics_df=cp_metrics_df,\n",
    "    save=True,\n",
    ")\n",
    "final_output"
   ]
  },
  {
   "cell_type": "code",
   "execution_count": null,
   "id": "721ff514-cb11-46f8-b6fc-50392f74b5cb",
   "metadata": {
    "papermill": {
     "duration": 0.05275,
     "end_time": "2025-07-22T10:12:22.753449",
     "exception": false,
     "start_time": "2025-07-22T10:12:22.700699",
     "status": "completed"
    },
    "tags": []
   },
   "outputs": [],
   "source": []
  }
 ],
 "metadata": {
  "celltoolbar": "Tags",
  "kernelspec": {
   "display_name": "Python (CMA Fairness)",
   "language": "python",
   "name": "cma_fair_env"
  },
  "language_info": {
   "codemirror_mode": {
    "name": "ipython",
    "version": 3
   },
   "file_extension": ".py",
   "mimetype": "text/x-python",
   "name": "python",
   "nbconvert_exporter": "python",
   "pygments_lexer": "ipython3",
   "version": "3.10.12"
  },
  "papermill": {
   "default_parameters": {},
   "duration": 49.43761,
   "end_time": "2025-07-22T10:12:24.532459",
   "environment_variables": {},
   "exception": null,
   "input_path": "universe_analysis.ipynb",
   "output_path": "output/runs/4/notebooks/m_4-240998e0db90607c9ab50f364189b362.ipynb",
   "parameters": {
    "output_dir": "output",
    "run_no": "4",
    "seed": "2023",
    "universe": "{\"cutoff\": [\"quantile_0.1\", \"quantile_0.25\"], \"eval_fairness_grouping\": [\"majority-minority\", \"nationality-all\"], \"exclude_features\": \"nationality\", \"exclude_subgroups\": \"keep-all\", \"model\": \"rf\", \"scale\": \"do-not-scale\"}",
    "universe_id": "240998e0db90607c9ab50f364189b362"
   },
   "start_time": "2025-07-22T10:11:35.094849",
   "version": "2.6.0"
  }
 },
 "nbformat": 4,
 "nbformat_minor": 5
}