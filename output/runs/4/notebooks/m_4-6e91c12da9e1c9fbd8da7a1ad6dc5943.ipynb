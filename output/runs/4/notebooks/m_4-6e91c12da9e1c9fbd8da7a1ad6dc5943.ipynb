{
 "cells": [
  {
   "cell_type": "code",
   "execution_count": 1,
   "id": "f159f837-637b-42ba-96b5-ec9a68c44524",
   "metadata": {
    "execution": {
     "iopub.execute_input": "2025-07-22T10:13:31.152783Z",
     "iopub.status.busy": "2025-07-22T10:13:31.152217Z",
     "iopub.status.idle": "2025-07-22T10:13:31.166985Z",
     "shell.execute_reply": "2025-07-22T10:13:31.165679Z"
    },
    "papermill": {
     "duration": 0.034549,
     "end_time": "2025-07-22T10:13:31.169039",
     "exception": false,
     "start_time": "2025-07-22T10:13:31.134490",
     "status": "completed"
    },
    "tags": []
   },
   "outputs": [
    {
     "name": "stdout",
     "output_type": "stream",
     "text": [
      "/dss/dsshome1/0C/ra93lal2/cma/CMA_Fairness_v2\n"
     ]
    },
    {
     "name": "stderr",
     "output_type": "stream",
     "text": [
      "/dss/dsshome1/0C/ra93lal2/.local/share/virtualenvs/CMA_Fairness_v2-3j10GkSs/lib/python3.10/site-packages/IPython/core/magics/osm.py:393: UserWarning: This is now an optional IPython functionality, using bookmarks requires you to install the `pickleshare` library.\n",
      "  bkms = self.shell.db.get('bookmarks', {})\n",
      "/dss/dsshome1/0C/ra93lal2/.local/share/virtualenvs/CMA_Fairness_v2-3j10GkSs/lib/python3.10/site-packages/IPython/core/magics/osm.py:417: UserWarning: This is now an optional IPython functionality, setting dhist requires you to install the `pickleshare` library.\n",
      "  self.shell.db['dhist'] = compress_dhist(dhist)[-100:]\n"
     ]
    }
   ],
   "source": [
    "%cd ~/cma/CMA_Fairness_v2"
   ]
  },
  {
   "cell_type": "markdown",
   "id": "de2603b9",
   "metadata": {
    "papermill": {
     "duration": 0.016244,
     "end_time": "2025-07-22T10:13:31.203581",
     "exception": false,
     "start_time": "2025-07-22T10:13:31.187337",
     "status": "completed"
    },
    "tags": []
   },
   "source": [
    "The following cell holds the definition of our parameters, these values can be overriden by rendering the with e.g. the following command:\n",
    "\n",
    "papermill -p alpha 0.2 -p ratio 0.3 universe_analysis.ipynb output/test_run.ipynb"
   ]
  },
  {
   "cell_type": "code",
   "execution_count": 2,
   "id": "a80968a0-40bb-4fa9-85ef-2d5eefb01975",
   "metadata": {
    "execution": {
     "iopub.execute_input": "2025-07-22T10:13:31.234851Z",
     "iopub.status.busy": "2025-07-22T10:13:31.234496Z",
     "iopub.status.idle": "2025-07-22T10:13:31.240104Z",
     "shell.execute_reply": "2025-07-22T10:13:31.238913Z"
    },
    "papermill": {
     "duration": 0.023206,
     "end_time": "2025-07-22T10:13:31.241726",
     "exception": false,
     "start_time": "2025-07-22T10:13:31.218520",
     "status": "completed"
    },
    "tags": []
   },
   "outputs": [
    {
     "name": "stdout",
     "output_type": "stream",
     "text": [
      "Current working directory: /dss/dsshome1/0C/ra93lal2/cma/CMA_Fairness_v2\n"
     ]
    }
   ],
   "source": [
    "import os\n",
    "print(\"Current working directory:\", os.getcwd())"
   ]
  },
  {
   "cell_type": "code",
   "execution_count": 3,
   "id": "2dce4c03",
   "metadata": {
    "execution": {
     "iopub.execute_input": "2025-07-22T10:13:31.262408Z",
     "iopub.status.busy": "2025-07-22T10:13:31.262014Z",
     "iopub.status.idle": "2025-07-22T10:13:31.267982Z",
     "shell.execute_reply": "2025-07-22T10:13:31.267016Z"
    },
    "papermill": {
     "duration": 0.017229,
     "end_time": "2025-07-22T10:13:31.269705",
     "exception": false,
     "start_time": "2025-07-22T10:13:31.252476",
     "status": "completed"
    },
    "tags": [
     "parameters"
    ]
   },
   "outputs": [],
   "source": [
    "run_no = 0\n",
    "universe_id = \"test\"\n",
    "universe = {\n",
    "    \"scale\": \"scale\", # \"scale\", \"do-not-scale\",\n",
    "    #\"encode_categorical\": \"one-hot\", # \"ordinal\", \"one-hot\"\n",
    "    \"model\": \"elasticnet\", # \"logreg\", \"penalized_logreg\", \"rf\", \"gbm\", \"elasticnet\"\n",
    "    \"cutoff\": [\"quantile_0.15\", \"quantile_0.30\"],\n",
    "    \"exclude_features\": \"nationality-sex\", # \"none\", \"nationality\", \"sex\", \"nationality-sex\"\n",
    "    \"exclude_subgroups\": \"keep-all\", # \"keep-all\", \"drop-non-german\"\n",
    "    \"eval_fairness_grouping\": [\"majority-minority\", \"nationality-all\"]\n",
    "}\n",
    "\n",
    "output_dir=\"./output\"\n",
    "seed=0"
   ]
  },
  {
   "cell_type": "code",
   "execution_count": 4,
   "id": "dc28372d",
   "metadata": {
    "execution": {
     "iopub.execute_input": "2025-07-22T10:13:31.289454Z",
     "iopub.status.busy": "2025-07-22T10:13:31.289061Z",
     "iopub.status.idle": "2025-07-22T10:13:31.294299Z",
     "shell.execute_reply": "2025-07-22T10:13:31.293507Z"
    },
    "papermill": {
     "duration": 0.016176,
     "end_time": "2025-07-22T10:13:31.295729",
     "exception": false,
     "start_time": "2025-07-22T10:13:31.279553",
     "status": "completed"
    },
    "tags": [
     "injected-parameters"
    ]
   },
   "outputs": [],
   "source": [
    "# Parameters\n",
    "universe_id = \"6e91c12da9e1c9fbd8da7a1ad6dc5943\"\n",
    "run_no = \"4\"\n",
    "universe = \"{\\\"cutoff\\\": [\\\"quantile_0.1\\\", \\\"quantile_0.25\\\"], \\\"eval_fairness_grouping\\\": [\\\"majority-minority\\\", \\\"nationality-all\\\"], \\\"exclude_features\\\": \\\"nationality\\\", \\\"exclude_subgroups\\\": \\\"keep-all\\\", \\\"model\\\": \\\"elasticnet\\\", \\\"scale\\\": \\\"do-not-scale\\\"}\"\n",
    "output_dir = \"output\"\n",
    "seed = \"2023\"\n"
   ]
  },
  {
   "cell_type": "code",
   "execution_count": 5,
   "id": "1650acaf",
   "metadata": {
    "execution": {
     "iopub.execute_input": "2025-07-22T10:13:31.316607Z",
     "iopub.status.busy": "2025-07-22T10:13:31.316088Z",
     "iopub.status.idle": "2025-07-22T10:13:31.320665Z",
     "shell.execute_reply": "2025-07-22T10:13:31.319774Z"
    },
    "papermill": {
     "duration": 0.016683,
     "end_time": "2025-07-22T10:13:31.322452",
     "exception": false,
     "start_time": "2025-07-22T10:13:31.305769",
     "status": "completed"
    },
    "tags": []
   },
   "outputs": [],
   "source": [
    "import json\n",
    "# Parse universe into dict if it is passed as a string\n",
    "if isinstance(universe, str):\n",
    "    universe = json.loads(universe)"
   ]
  },
  {
   "cell_type": "code",
   "execution_count": 6,
   "id": "16620c48",
   "metadata": {
    "execution": {
     "iopub.execute_input": "2025-07-22T10:13:31.343841Z",
     "iopub.status.busy": "2025-07-22T10:13:31.343076Z",
     "iopub.status.idle": "2025-07-22T10:13:31.376834Z",
     "shell.execute_reply": "2025-07-22T10:13:31.376061Z"
    },
    "papermill": {
     "duration": 0.045268,
     "end_time": "2025-07-22T10:13:31.378286",
     "exception": false,
     "start_time": "2025-07-22T10:13:31.333018",
     "status": "completed"
    },
    "tags": []
   },
   "outputs": [],
   "source": [
    "# Auto-reload the custom package\n",
    "%load_ext autoreload\n",
    "%autoreload 1\n",
    "%aimport fairness_multiverse"
   ]
  },
  {
   "cell_type": "code",
   "execution_count": 7,
   "id": "01c5c9f3",
   "metadata": {
    "execution": {
     "iopub.execute_input": "2025-07-22T10:13:31.398929Z",
     "iopub.status.busy": "2025-07-22T10:13:31.397837Z",
     "iopub.status.idle": "2025-07-22T10:13:33.720263Z",
     "shell.execute_reply": "2025-07-22T10:13:33.719224Z"
    },
    "papermill": {
     "duration": 2.33487,
     "end_time": "2025-07-22T10:13:33.722340",
     "exception": false,
     "start_time": "2025-07-22T10:13:31.387470",
     "status": "completed"
    },
    "tags": []
   },
   "outputs": [],
   "source": [
    "from fairness_multiverse.universe import UniverseAnalysis\n",
    "\n",
    "universe_analysis = UniverseAnalysis(\n",
    "    run_no = run_no,\n",
    "    universe_id = universe_id,\n",
    "    universe = universe,\n",
    "    output_dir=output_dir,\n",
    ")"
   ]
  },
  {
   "cell_type": "code",
   "execution_count": 8,
   "id": "106241f5",
   "metadata": {
    "execution": {
     "iopub.execute_input": "2025-07-22T10:13:33.758905Z",
     "iopub.status.busy": "2025-07-22T10:13:33.758322Z",
     "iopub.status.idle": "2025-07-22T10:13:33.766166Z",
     "shell.execute_reply": "2025-07-22T10:13:33.764864Z"
    },
    "papermill": {
     "duration": 0.028321,
     "end_time": "2025-07-22T10:13:33.768339",
     "exception": false,
     "start_time": "2025-07-22T10:13:33.740018",
     "status": "completed"
    },
    "tags": []
   },
   "outputs": [
    {
     "name": "stdout",
     "output_type": "stream",
     "text": [
      "Using Seed: 2023\n"
     ]
    }
   ],
   "source": [
    "import numpy as np\n",
    "parsed_seed = int(seed)\n",
    "np.random.seed(parsed_seed)\n",
    "print(f\"Using Seed: {parsed_seed}\")"
   ]
  },
  {
   "cell_type": "markdown",
   "id": "e0ebdc57",
   "metadata": {
    "papermill": {
     "duration": 0.01648,
     "end_time": "2025-07-22T10:13:33.802786",
     "exception": false,
     "start_time": "2025-07-22T10:13:33.786306",
     "status": "completed"
    },
    "tags": []
   },
   "source": [
    "# Loading Data"
   ]
  },
  {
   "cell_type": "markdown",
   "id": "681925a3",
   "metadata": {
    "papermill": {
     "duration": 0.015588,
     "end_time": "2025-07-22T10:13:33.834589",
     "exception": false,
     "start_time": "2025-07-22T10:13:33.819001",
     "status": "completed"
    },
    "tags": []
   },
   "source": [
    "Load siab_train, siab_test, siab_calib and/or \n",
    "load siab_train_features, siab_train_labels"
   ]
  },
  {
   "cell_type": "code",
   "execution_count": 9,
   "id": "f0496b8a",
   "metadata": {
    "execution": {
     "iopub.execute_input": "2025-07-22T10:13:33.870197Z",
     "iopub.status.busy": "2025-07-22T10:13:33.869644Z",
     "iopub.status.idle": "2025-07-22T10:13:33.875798Z",
     "shell.execute_reply": "2025-07-22T10:13:33.874712Z"
    },
    "papermill": {
     "duration": 0.026412,
     "end_time": "2025-07-22T10:13:33.877861",
     "exception": false,
     "start_time": "2025-07-22T10:13:33.851449",
     "status": "completed"
    },
    "tags": []
   },
   "outputs": [],
   "source": [
    "# Do I need to load siab? Delete this cell?\n",
    "\n",
    "#from pathlib import Path\n",
    "#import pandas as pd\n",
    "#\n",
    "## File paths\n",
    "#raw_file = Path(\"data/raw/siab.csv\")\n",
    "#cache_file = Path(\"data/siab_cached.csv.gz\")\n",
    "#\n",
    "## Ensure cache directory exists\n",
    "#cache_file.parent.mkdir(parents=True, exist_ok=True)\n",
    "#\n",
    "## Load with simple caching\n",
    "#if cache_file.exists():\n",
    "#    print(f\"Loading SIAB data from cache: {cache_file}\")\n",
    "#    siab = pd.read_csv(cache_file, compression='gzip')\n",
    "#else:\n",
    "#    print(f\"Cache not found. Reading raw SIAB data: {raw_file}\")\n",
    "#    siab = pd.read_csv(raw_file)\n",
    "#    siab.to_csv(cache_file, index=False, compression='gzip')\n",
    "#    print(f\"Cached SIAB data to: {cache_file}\")\n",
    "#\n",
    "## Now use `siab` DataFrame as needed\n",
    "#print(siab.shape)\n"
   ]
  },
  {
   "cell_type": "code",
   "execution_count": 10,
   "id": "a0edb063",
   "metadata": {
    "execution": {
     "iopub.execute_input": "2025-07-22T10:13:33.914252Z",
     "iopub.status.busy": "2025-07-22T10:13:33.913475Z",
     "iopub.status.idle": "2025-07-22T10:13:34.218417Z",
     "shell.execute_reply": "2025-07-22T10:13:34.217632Z"
    },
    "papermill": {
     "duration": 0.323947,
     "end_time": "2025-07-22T10:13:34.219912",
     "exception": false,
     "start_time": "2025-07-22T10:13:33.895965",
     "status": "completed"
    },
    "tags": []
   },
   "outputs": [],
   "source": [
    "import pandas as pd\n",
    "\n",
    "X_train = pd.read_csv(\"./data/X_train.csv\")\n",
    "y_train = pd.read_csv(\"./data/y_train.csv\")"
   ]
  },
  {
   "cell_type": "code",
   "execution_count": 11,
   "id": "63d08085",
   "metadata": {
    "execution": {
     "iopub.execute_input": "2025-07-22T10:13:34.239401Z",
     "iopub.status.busy": "2025-07-22T10:13:34.239089Z",
     "iopub.status.idle": "2025-07-22T10:13:35.330171Z",
     "shell.execute_reply": "2025-07-22T10:13:35.329200Z"
    },
    "papermill": {
     "duration": 1.102582,
     "end_time": "2025-07-22T10:13:35.332006",
     "exception": false,
     "start_time": "2025-07-22T10:13:34.229424",
     "status": "completed"
    },
    "tags": []
   },
   "outputs": [],
   "source": [
    "X_test = pd.read_csv(\"./data/X_test.csv\")\n",
    "y_true = pd.read_csv(\"./data/y_test.csv\")"
   ]
  },
  {
   "cell_type": "code",
   "execution_count": 12,
   "id": "98a8d0fa-1d3d-4ed8-bb2c-281470e24add",
   "metadata": {
    "execution": {
     "iopub.execute_input": "2025-07-22T10:13:35.366342Z",
     "iopub.status.busy": "2025-07-22T10:13:35.365443Z",
     "iopub.status.idle": "2025-07-22T10:13:36.658034Z",
     "shell.execute_reply": "2025-07-22T10:13:36.657156Z"
    },
    "papermill": {
     "duration": 1.311137,
     "end_time": "2025-07-22T10:13:36.659754",
     "exception": false,
     "start_time": "2025-07-22T10:13:35.348617",
     "status": "completed"
    },
    "tags": []
   },
   "outputs": [],
   "source": [
    "# Calibration data for conformal\n",
    "X_calib = pd.read_csv(\"./data/X_calib.csv\")\n",
    "y_calib = pd.read_csv(\"./data/y_calib.csv\")"
   ]
  },
  {
   "cell_type": "code",
   "execution_count": 13,
   "id": "e6c733c5",
   "metadata": {
    "execution": {
     "iopub.execute_input": "2025-07-22T10:13:36.692361Z",
     "iopub.status.busy": "2025-07-22T10:13:36.691925Z",
     "iopub.status.idle": "2025-07-22T10:13:36.787562Z",
     "shell.execute_reply": "2025-07-22T10:13:36.786693Z"
    },
    "papermill": {
     "duration": 0.113599,
     "end_time": "2025-07-22T10:13:36.789496",
     "exception": false,
     "start_time": "2025-07-22T10:13:36.675897",
     "status": "completed"
    },
    "tags": []
   },
   "outputs": [],
   "source": [
    "# Auxiliary data needed downstream in the pipeline\n",
    "\n",
    "org_train = X_train.copy()\n",
    "org_test = X_test.copy()\n",
    "org_calib = X_calib.copy()"
   ]
  },
  {
   "cell_type": "markdown",
   "id": "0a4a1b33",
   "metadata": {
    "papermill": {
     "duration": 0.014859,
     "end_time": "2025-07-22T10:13:36.820440",
     "exception": false,
     "start_time": "2025-07-22T10:13:36.805581",
     "status": "completed"
    },
    "tags": []
   },
   "source": [
    "# Preprocessing Data"
   ]
  },
  {
   "cell_type": "code",
   "execution_count": 14,
   "id": "ca879031",
   "metadata": {
    "execution": {
     "iopub.execute_input": "2025-07-22T10:13:36.852975Z",
     "iopub.status.busy": "2025-07-22T10:13:36.852218Z",
     "iopub.status.idle": "2025-07-22T10:13:36.858180Z",
     "shell.execute_reply": "2025-07-22T10:13:36.857319Z"
    },
    "papermill": {
     "duration": 0.024438,
     "end_time": "2025-07-22T10:13:36.860044",
     "exception": false,
     "start_time": "2025-07-22T10:13:36.835606",
     "status": "completed"
    },
    "tags": []
   },
   "outputs": [],
   "source": [
    "# EXCLUDE PROTECTED FEATURES\n",
    "# ----------------------\n",
    "# \"exclude_features\": \"none\", # \"nationality\", \"sex\", \"nationality-sex\"\n",
    "\n",
    "excluded_features = universe[\"exclude_features\"].split(\"-\") # split, e.g.: \"nationality-sex\" -> [\"nationality\", \"sex\"]\n",
    "excluded_features_dictionary = {\n",
    "    \"nationality\": [\"maxdeutsch1\", \"maxdeutsch.Missing.\"],\n",
    "    \"sex\": [\"frau1\"],\n",
    "}\n"
   ]
  },
  {
   "cell_type": "code",
   "execution_count": 15,
   "id": "b745ac60",
   "metadata": {
    "execution": {
     "iopub.execute_input": "2025-07-22T10:13:36.894774Z",
     "iopub.status.busy": "2025-07-22T10:13:36.894315Z",
     "iopub.status.idle": "2025-07-22T10:13:36.900045Z",
     "shell.execute_reply": "2025-07-22T10:13:36.899182Z"
    },
    "papermill": {
     "duration": 0.02469,
     "end_time": "2025-07-22T10:13:36.901931",
     "exception": false,
     "start_time": "2025-07-22T10:13:36.877241",
     "status": "completed"
    },
    "tags": []
   },
   "outputs": [],
   "source": [
    "# Code nice names to column names\n",
    "\n",
    "excluded_features_columns = [\n",
    "    excluded_features_dictionary[f] for f in excluded_features if len(f) > 0 and f != \"none\"\n",
    "]"
   ]
  },
  {
   "cell_type": "code",
   "execution_count": 16,
   "id": "f84f73a2",
   "metadata": {
    "execution": {
     "iopub.execute_input": "2025-07-22T10:13:36.937364Z",
     "iopub.status.busy": "2025-07-22T10:13:36.936696Z",
     "iopub.status.idle": "2025-07-22T10:13:36.943406Z",
     "shell.execute_reply": "2025-07-22T10:13:36.942294Z"
    },
    "papermill": {
     "duration": 0.025711,
     "end_time": "2025-07-22T10:13:36.945329",
     "exception": false,
     "start_time": "2025-07-22T10:13:36.919618",
     "status": "completed"
    },
    "tags": []
   },
   "outputs": [],
   "source": [
    "from utils import flatten_once\n",
    "\n",
    "excluded_features_columns = flatten_once(excluded_features_columns)"
   ]
  },
  {
   "cell_type": "code",
   "execution_count": 17,
   "id": "884dea22",
   "metadata": {
    "execution": {
     "iopub.execute_input": "2025-07-22T10:13:36.980125Z",
     "iopub.status.busy": "2025-07-22T10:13:36.979474Z",
     "iopub.status.idle": "2025-07-22T10:13:36.995619Z",
     "shell.execute_reply": "2025-07-22T10:13:36.994489Z"
    },
    "papermill": {
     "duration": 0.035118,
     "end_time": "2025-07-22T10:13:36.997701",
     "exception": false,
     "start_time": "2025-07-22T10:13:36.962583",
     "status": "completed"
    },
    "tags": []
   },
   "outputs": [
    {
     "name": "stdout",
     "output_type": "stream",
     "text": [
      "Dropping features: ['maxdeutsch1', 'maxdeutsch.Missing.']\n"
     ]
    }
   ],
   "source": [
    "if len(excluded_features_columns) > 0:\n",
    "    print(f\"Dropping features: {excluded_features_columns}\")\n",
    "    X_train.drop(excluded_features_columns, axis=1, inplace=True)"
   ]
  },
  {
   "cell_type": "code",
   "execution_count": 18,
   "id": "95ab8b16",
   "metadata": {
    "execution": {
     "iopub.execute_input": "2025-07-22T10:13:37.032706Z",
     "iopub.status.busy": "2025-07-22T10:13:37.031994Z",
     "iopub.status.idle": "2025-07-22T10:13:37.088531Z",
     "shell.execute_reply": "2025-07-22T10:13:37.087550Z"
    },
    "papermill": {
     "duration": 0.075997,
     "end_time": "2025-07-22T10:13:37.090673",
     "exception": false,
     "start_time": "2025-07-22T10:13:37.014676",
     "status": "completed"
    },
    "tags": []
   },
   "outputs": [
    {
     "name": "stdout",
     "output_type": "stream",
     "text": [
      "Dropping features: ['maxdeutsch1', 'maxdeutsch.Missing.']\n"
     ]
    }
   ],
   "source": [
    "if len(excluded_features_columns) > 0:\n",
    "    print(f\"Dropping features: {excluded_features_columns}\")\n",
    "    X_test.drop(excluded_features_columns, axis=1, inplace=True)"
   ]
  },
  {
   "cell_type": "code",
   "execution_count": 19,
   "id": "1853aaf5-fb9f-46cb-a2b5-8ea4ae2237e4",
   "metadata": {
    "execution": {
     "iopub.execute_input": "2025-07-22T10:13:37.134881Z",
     "iopub.status.busy": "2025-07-22T10:13:37.134203Z",
     "iopub.status.idle": "2025-07-22T10:13:37.187247Z",
     "shell.execute_reply": "2025-07-22T10:13:37.186253Z"
    },
    "papermill": {
     "duration": 0.078896,
     "end_time": "2025-07-22T10:13:37.190685",
     "exception": false,
     "start_time": "2025-07-22T10:13:37.111789",
     "status": "completed"
    },
    "tags": []
   },
   "outputs": [
    {
     "name": "stdout",
     "output_type": "stream",
     "text": [
      "Dropping features: ['maxdeutsch1', 'maxdeutsch.Missing.']\n"
     ]
    }
   ],
   "source": [
    "if len(excluded_features_columns) > 0:\n",
    "    print(f\"Dropping features: {excluded_features_columns}\")\n",
    "    X_calib.drop(excluded_features_columns, axis=1, inplace=True)"
   ]
  },
  {
   "cell_type": "code",
   "execution_count": 20,
   "id": "76c4dc6d",
   "metadata": {
    "execution": {
     "iopub.execute_input": "2025-07-22T10:13:37.231034Z",
     "iopub.status.busy": "2025-07-22T10:13:37.230322Z",
     "iopub.status.idle": "2025-07-22T10:13:37.236047Z",
     "shell.execute_reply": "2025-07-22T10:13:37.235062Z"
    },
    "papermill": {
     "duration": 0.027021,
     "end_time": "2025-07-22T10:13:37.238131",
     "exception": false,
     "start_time": "2025-07-22T10:13:37.211110",
     "status": "completed"
    },
    "tags": []
   },
   "outputs": [],
   "source": [
    "# EXCLUDE CERTAIN SUBGROUPS\n",
    "# ----------------------\n",
    "\n",
    "mode = universe.get(\"exclude_subgroups\", \"keep-all\") \n",
    "# Fetches the exclude_subgroups setting from the universe dict.\n",
    "# Defaults to \"keep-all\" if the key is missing."
   ]
  },
  {
   "cell_type": "code",
   "execution_count": 21,
   "id": "21994072",
   "metadata": {
    "execution": {
     "iopub.execute_input": "2025-07-22T10:13:37.278562Z",
     "iopub.status.busy": "2025-07-22T10:13:37.277926Z",
     "iopub.status.idle": "2025-07-22T10:13:37.284740Z",
     "shell.execute_reply": "2025-07-22T10:13:37.283640Z"
    },
    "papermill": {
     "duration": 0.028148,
     "end_time": "2025-07-22T10:13:37.286782",
     "exception": false,
     "start_time": "2025-07-22T10:13:37.258634",
     "status": "completed"
    },
    "tags": []
   },
   "outputs": [],
   "source": [
    "if mode == \"keep-all\":\n",
    "    keep_mask = pd.Series(True, index=org_train.index)\n",
    "\n",
    "# org_train contains the original feature columns from features_org (in Simson)\n",
    "# features_org contains unprocessed features, for me X_train at beginning ???\n",
    "# For keep-all, creates a boolean Series (keep_mask) of all True, so no rows are removed.\n",
    "\n",
    "elif mode == \"drop-non-german\":\n",
    "    keep_mask = org_train[\"maxdeutsch1\"] == 1 # ??? what about missing values?\n",
    "\n",
    "else:\n",
    "    raise ValueError(f\"Unsupported mode for exclude_subgroups: {mode}\")\n"
   ]
  },
  {
   "cell_type": "code",
   "execution_count": 22,
   "id": "71651440",
   "metadata": {
    "execution": {
     "iopub.execute_input": "2025-07-22T10:13:37.326512Z",
     "iopub.status.busy": "2025-07-22T10:13:37.325856Z",
     "iopub.status.idle": "2025-07-22T10:13:37.333656Z",
     "shell.execute_reply": "2025-07-22T10:13:37.332526Z"
    },
    "papermill": {
     "duration": 0.028809,
     "end_time": "2025-07-22T10:13:37.335585",
     "exception": false,
     "start_time": "2025-07-22T10:13:37.306776",
     "status": "completed"
    },
    "tags": []
   },
   "outputs": [],
   "source": [
    "n_drop = (~keep_mask).sum() # Calculates how many rows are set to be dropped\n",
    "if n_drop > 0:\n",
    "    pct = n_drop / len(keep_mask) * 100\n",
    "    print(f\"Dropping {n_drop} rows ({pct:.2f}%) where mode='{mode}'\")"
   ]
  },
  {
   "cell_type": "code",
   "execution_count": 23,
   "id": "5fb8eee5",
   "metadata": {
    "execution": {
     "iopub.execute_input": "2025-07-22T10:13:37.375505Z",
     "iopub.status.busy": "2025-07-22T10:13:37.374985Z",
     "iopub.status.idle": "2025-07-22T10:13:37.389994Z",
     "shell.execute_reply": "2025-07-22T10:13:37.388910Z"
    },
    "papermill": {
     "duration": 0.036561,
     "end_time": "2025-07-22T10:13:37.392642",
     "exception": false,
     "start_time": "2025-07-22T10:13:37.356081",
     "status": "completed"
    },
    "tags": []
   },
   "outputs": [],
   "source": [
    "X_train = X_train[keep_mask]"
   ]
  },
  {
   "cell_type": "code",
   "execution_count": 24,
   "id": "b202bb3a",
   "metadata": {
    "execution": {
     "iopub.execute_input": "2025-07-22T10:13:37.433708Z",
     "iopub.status.busy": "2025-07-22T10:13:37.432545Z",
     "iopub.status.idle": "2025-07-22T10:13:37.439879Z",
     "shell.execute_reply": "2025-07-22T10:13:37.438770Z"
    },
    "papermill": {
     "duration": 0.029161,
     "end_time": "2025-07-22T10:13:37.441934",
     "exception": false,
     "start_time": "2025-07-22T10:13:37.412773",
     "status": "completed"
    },
    "tags": []
   },
   "outputs": [],
   "source": [
    "y_train = y_train[keep_mask]"
   ]
  },
  {
   "cell_type": "markdown",
   "id": "493e2ac3",
   "metadata": {
    "papermill": {
     "duration": 0.018596,
     "end_time": "2025-07-22T10:13:37.481204",
     "exception": false,
     "start_time": "2025-07-22T10:13:37.462608",
     "status": "completed"
    },
    "tags": []
   },
   "source": [
    "# Model Training"
   ]
  },
  {
   "cell_type": "code",
   "execution_count": 25,
   "id": "679e1268",
   "metadata": {
    "execution": {
     "iopub.execute_input": "2025-07-22T10:13:37.519817Z",
     "iopub.status.busy": "2025-07-22T10:13:37.519109Z",
     "iopub.status.idle": "2025-07-22T10:13:37.705158Z",
     "shell.execute_reply": "2025-07-22T10:13:37.704213Z"
    },
    "papermill": {
     "duration": 0.207638,
     "end_time": "2025-07-22T10:13:37.707166",
     "exception": false,
     "start_time": "2025-07-22T10:13:37.499528",
     "status": "completed"
    },
    "tags": []
   },
   "outputs": [],
   "source": [
    "from sklearn.linear_model import LogisticRegression\n",
    "from sklearn.ensemble import GradientBoostingClassifier, RandomForestClassifier\n",
    "\n",
    "if (universe[\"model\"] == \"logreg\"):\n",
    "    model = LogisticRegression() #penalty=\"none\") #, solver=\"newton-cg\", max_iter=1) # include random_state=19 ?\n",
    "elif (universe[\"model\"] == \"penalized_logreg\"):\n",
    "    model = LogisticRegression(penalty=\"l2\", C=1.0) #, solver=\"newton-cg\", max_iter=1)\n",
    "elif (universe[\"model\"] == \"rf\"):\n",
    "    model = RandomForestClassifier(n_estimators=100, n_jobs=-1)\n",
    "elif (universe[\"model\"] == \"gbm\"):\n",
    "    model = GradientBoostingClassifier()\n",
    "elif (universe[\"model\"] == \"elasticnet\"):\n",
    "    model = LogisticRegression(penalty = 'elasticnet', solver = 'saga', l1_ratio = 0.5, max_iter=5000) # which solver to use?\n",
    "else:\n",
    "    raise \"Unsupported universe.model\""
   ]
  },
  {
   "cell_type": "code",
   "execution_count": 26,
   "id": "0cc8f744",
   "metadata": {
    "execution": {
     "iopub.execute_input": "2025-07-22T10:13:37.746129Z",
     "iopub.status.busy": "2025-07-22T10:13:37.745484Z",
     "iopub.status.idle": "2025-07-22T10:13:37.751682Z",
     "shell.execute_reply": "2025-07-22T10:13:37.750842Z"
    },
    "papermill": {
     "duration": 0.02785,
     "end_time": "2025-07-22T10:13:37.753910",
     "exception": false,
     "start_time": "2025-07-22T10:13:37.726060",
     "status": "completed"
    },
    "tags": []
   },
   "outputs": [],
   "source": [
    "import numpy as np\n",
    "from sklearn.pipeline import Pipeline\n",
    "from sklearn.preprocessing import StandardScaler\n",
    "\n",
    "model = Pipeline([\n",
    "    #(\"continuous_processor\", continuous_processor),\n",
    "    #(\"categorical_preprocessor\", categorical_preprocessor),\n",
    "    (\"scale\", StandardScaler() if universe[\"scale\"] == \"scale\" else None), \n",
    "    (\"model\", model),\n",
    "])"
   ]
  },
  {
   "cell_type": "code",
   "execution_count": 27,
   "id": "9442c04d",
   "metadata": {
    "execution": {
     "iopub.execute_input": "2025-07-22T10:13:37.795065Z",
     "iopub.status.busy": "2025-07-22T10:13:37.794435Z",
     "iopub.status.idle": "2025-07-22T10:17:00.017436Z",
     "shell.execute_reply": "2025-07-22T10:17:00.016562Z"
    },
    "papermill": {
     "duration": 202.263086,
     "end_time": "2025-07-22T10:17:00.037830",
     "exception": false,
     "start_time": "2025-07-22T10:13:37.774744",
     "status": "completed"
    },
    "tags": []
   },
   "outputs": [
    {
     "data": {
      "text/html": [
       "<style>#sk-container-id-1 {color: black;background-color: white;}#sk-container-id-1 pre{padding: 0;}#sk-container-id-1 div.sk-toggleable {background-color: white;}#sk-container-id-1 label.sk-toggleable__label {cursor: pointer;display: block;width: 100%;margin-bottom: 0;padding: 0.3em;box-sizing: border-box;text-align: center;}#sk-container-id-1 label.sk-toggleable__label-arrow:before {content: \"▸\";float: left;margin-right: 0.25em;color: #696969;}#sk-container-id-1 label.sk-toggleable__label-arrow:hover:before {color: black;}#sk-container-id-1 div.sk-estimator:hover label.sk-toggleable__label-arrow:before {color: black;}#sk-container-id-1 div.sk-toggleable__content {max-height: 0;max-width: 0;overflow: hidden;text-align: left;background-color: #f0f8ff;}#sk-container-id-1 div.sk-toggleable__content pre {margin: 0.2em;color: black;border-radius: 0.25em;background-color: #f0f8ff;}#sk-container-id-1 input.sk-toggleable__control:checked~div.sk-toggleable__content {max-height: 200px;max-width: 100%;overflow: auto;}#sk-container-id-1 input.sk-toggleable__control:checked~label.sk-toggleable__label-arrow:before {content: \"▾\";}#sk-container-id-1 div.sk-estimator input.sk-toggleable__control:checked~label.sk-toggleable__label {background-color: #d4ebff;}#sk-container-id-1 div.sk-label input.sk-toggleable__control:checked~label.sk-toggleable__label {background-color: #d4ebff;}#sk-container-id-1 input.sk-hidden--visually {border: 0;clip: rect(1px 1px 1px 1px);clip: rect(1px, 1px, 1px, 1px);height: 1px;margin: -1px;overflow: hidden;padding: 0;position: absolute;width: 1px;}#sk-container-id-1 div.sk-estimator {font-family: monospace;background-color: #f0f8ff;border: 1px dotted black;border-radius: 0.25em;box-sizing: border-box;margin-bottom: 0.5em;}#sk-container-id-1 div.sk-estimator:hover {background-color: #d4ebff;}#sk-container-id-1 div.sk-parallel-item::after {content: \"\";width: 100%;border-bottom: 1px solid gray;flex-grow: 1;}#sk-container-id-1 div.sk-label:hover label.sk-toggleable__label {background-color: #d4ebff;}#sk-container-id-1 div.sk-serial::before {content: \"\";position: absolute;border-left: 1px solid gray;box-sizing: border-box;top: 0;bottom: 0;left: 50%;z-index: 0;}#sk-container-id-1 div.sk-serial {display: flex;flex-direction: column;align-items: center;background-color: white;padding-right: 0.2em;padding-left: 0.2em;position: relative;}#sk-container-id-1 div.sk-item {position: relative;z-index: 1;}#sk-container-id-1 div.sk-parallel {display: flex;align-items: stretch;justify-content: center;background-color: white;position: relative;}#sk-container-id-1 div.sk-item::before, #sk-container-id-1 div.sk-parallel-item::before {content: \"\";position: absolute;border-left: 1px solid gray;box-sizing: border-box;top: 0;bottom: 0;left: 50%;z-index: -1;}#sk-container-id-1 div.sk-parallel-item {display: flex;flex-direction: column;z-index: 1;position: relative;background-color: white;}#sk-container-id-1 div.sk-parallel-item:first-child::after {align-self: flex-end;width: 50%;}#sk-container-id-1 div.sk-parallel-item:last-child::after {align-self: flex-start;width: 50%;}#sk-container-id-1 div.sk-parallel-item:only-child::after {width: 0;}#sk-container-id-1 div.sk-dashed-wrapped {border: 1px dashed gray;margin: 0 0.4em 0.5em 0.4em;box-sizing: border-box;padding-bottom: 0.4em;background-color: white;}#sk-container-id-1 div.sk-label label {font-family: monospace;font-weight: bold;display: inline-block;line-height: 1.2em;}#sk-container-id-1 div.sk-label-container {text-align: center;}#sk-container-id-1 div.sk-container {/* jupyter's `normalize.less` sets `[hidden] { display: none; }` but bootstrap.min.css set `[hidden] { display: none !important; }` so we also need the `!important` here to be able to override the default hidden behavior on the sphinx rendered scikit-learn.org. See: https://github.com/scikit-learn/scikit-learn/issues/21755 */display: inline-block !important;position: relative;}#sk-container-id-1 div.sk-text-repr-fallback {display: none;}</style><div id=\"sk-container-id-1\" class=\"sk-top-container\"><div class=\"sk-text-repr-fallback\"><pre>Pipeline(steps=[(&#x27;scale&#x27;, None),\n",
       "                (&#x27;model&#x27;,\n",
       "                 LogisticRegression(l1_ratio=0.5, max_iter=5000,\n",
       "                                    penalty=&#x27;elasticnet&#x27;, solver=&#x27;saga&#x27;))])</pre><b>In a Jupyter environment, please rerun this cell to show the HTML representation or trust the notebook. <br />On GitHub, the HTML representation is unable to render, please try loading this page with nbviewer.org.</b></div><div class=\"sk-container\" hidden><div class=\"sk-item sk-dashed-wrapped\"><div class=\"sk-label-container\"><div class=\"sk-label sk-toggleable\"><input class=\"sk-toggleable__control sk-hidden--visually\" id=\"sk-estimator-id-1\" type=\"checkbox\" ><label for=\"sk-estimator-id-1\" class=\"sk-toggleable__label sk-toggleable__label-arrow\">Pipeline</label><div class=\"sk-toggleable__content\"><pre>Pipeline(steps=[(&#x27;scale&#x27;, None),\n",
       "                (&#x27;model&#x27;,\n",
       "                 LogisticRegression(l1_ratio=0.5, max_iter=5000,\n",
       "                                    penalty=&#x27;elasticnet&#x27;, solver=&#x27;saga&#x27;))])</pre></div></div></div><div class=\"sk-serial\"><div class=\"sk-item\"><div class=\"sk-estimator sk-toggleable\"><input class=\"sk-toggleable__control sk-hidden--visually\" id=\"sk-estimator-id-2\" type=\"checkbox\" ><label for=\"sk-estimator-id-2\" class=\"sk-toggleable__label sk-toggleable__label-arrow\">None</label><div class=\"sk-toggleable__content\"><pre>None</pre></div></div></div><div class=\"sk-item\"><div class=\"sk-estimator sk-toggleable\"><input class=\"sk-toggleable__control sk-hidden--visually\" id=\"sk-estimator-id-3\" type=\"checkbox\" ><label for=\"sk-estimator-id-3\" class=\"sk-toggleable__label sk-toggleable__label-arrow\">LogisticRegression</label><div class=\"sk-toggleable__content\"><pre>LogisticRegression(l1_ratio=0.5, max_iter=5000, penalty=&#x27;elasticnet&#x27;,\n",
       "                   solver=&#x27;saga&#x27;)</pre></div></div></div></div></div></div></div>"
      ],
      "text/plain": [
       "Pipeline(steps=[('scale', None),\n",
       "                ('model',\n",
       "                 LogisticRegression(l1_ratio=0.5, max_iter=5000,\n",
       "                                    penalty='elasticnet', solver='saga'))])"
      ]
     },
     "execution_count": 27,
     "metadata": {},
     "output_type": "execute_result"
    }
   ],
   "source": [
    "model.fit(X_train, y_train.values.ravel())"
   ]
  },
  {
   "cell_type": "code",
   "execution_count": 28,
   "id": "af59f8c0",
   "metadata": {
    "execution": {
     "iopub.execute_input": "2025-07-22T10:17:00.065641Z",
     "iopub.status.busy": "2025-07-22T10:17:00.065199Z",
     "iopub.status.idle": "2025-07-22T10:17:00.071042Z",
     "shell.execute_reply": "2025-07-22T10:17:00.070315Z"
    },
    "papermill": {
     "duration": 0.01786,
     "end_time": "2025-07-22T10:17:00.072453",
     "exception": false,
     "start_time": "2025-07-22T10:17:00.054593",
     "status": "completed"
    },
    "tags": []
   },
   "outputs": [],
   "source": [
    "from fairness_multiverse.universe import predict_w_threshold"
   ]
  },
  {
   "cell_type": "code",
   "execution_count": 29,
   "id": "a7cf2e16",
   "metadata": {
    "execution": {
     "iopub.execute_input": "2025-07-22T10:17:00.092680Z",
     "iopub.status.busy": "2025-07-22T10:17:00.092309Z",
     "iopub.status.idle": "2025-07-22T10:17:00.245695Z",
     "shell.execute_reply": "2025-07-22T10:17:00.244971Z"
    },
    "papermill": {
     "duration": 0.164932,
     "end_time": "2025-07-22T10:17:00.247115",
     "exception": false,
     "start_time": "2025-07-22T10:17:00.082183",
     "status": "completed"
    },
    "tags": []
   },
   "outputs": [
    {
     "data": {
      "text/plain": [
       "0.8491583992865901"
      ]
     },
     "execution_count": 29,
     "metadata": {},
     "output_type": "execute_result"
    }
   ],
   "source": [
    "probs_test = model.predict_proba(X_test)\n",
    "\n",
    "'''\n",
    "Below code returns a boolean array (or binary 0/1 array depending on how it’s used) where each element \n",
    "is True if the probability of class 1 is greater than or equal to the threshold, and False otherwise.\n",
    "'''\n",
    "y_pred_default = predict_w_threshold(probs_test, 0.5)\n",
    "\n",
    "from sklearn.metrics import accuracy_score\n",
    "\n",
    "# Naive prediction\n",
    "accuracy_score(y_true = y_true, y_pred = y_pred_default)"
   ]
  },
  {
   "cell_type": "code",
   "execution_count": 30,
   "id": "081964c3",
   "metadata": {
    "execution": {
     "iopub.execute_input": "2025-07-22T10:17:00.283598Z",
     "iopub.status.busy": "2025-07-22T10:17:00.283215Z",
     "iopub.status.idle": "2025-07-22T10:17:00.369363Z",
     "shell.execute_reply": "2025-07-22T10:17:00.368644Z"
    },
    "papermill": {
     "duration": 0.105555,
     "end_time": "2025-07-22T10:17:00.370577",
     "exception": false,
     "start_time": "2025-07-22T10:17:00.265022",
     "status": "completed"
    },
    "tags": []
   },
   "outputs": [
    {
     "data": {
      "text/plain": [
       "array([0, 0, 0, ..., 0, 0, 0])"
      ]
     },
     "execution_count": 30,
     "metadata": {},
     "output_type": "execute_result"
    }
   ],
   "source": [
    "model.predict(X_test)"
   ]
  },
  {
   "cell_type": "markdown",
   "id": "56c9705b",
   "metadata": {
    "papermill": {
     "duration": 0.009613,
     "end_time": "2025-07-22T10:17:00.390635",
     "exception": false,
     "start_time": "2025-07-22T10:17:00.381022",
     "status": "completed"
    },
    "tags": []
   },
   "source": [
    "# Conformal Prediction"
   ]
  },
  {
   "cell_type": "code",
   "execution_count": 31,
   "id": "97cb0abb-9ba7-4cd9-96c4-aa4728b38a5f",
   "metadata": {
    "execution": {
     "iopub.execute_input": "2025-07-22T10:17:00.411161Z",
     "iopub.status.busy": "2025-07-22T10:17:00.410772Z",
     "iopub.status.idle": "2025-07-22T10:17:00.415830Z",
     "shell.execute_reply": "2025-07-22T10:17:00.415049Z"
    },
    "papermill": {
     "duration": 0.017017,
     "end_time": "2025-07-22T10:17:00.417349",
     "exception": false,
     "start_time": "2025-07-22T10:17:00.400332",
     "status": "completed"
    },
    "tags": []
   },
   "outputs": [],
   "source": [
    "# SCALE X CALIB IF UNIVERSE IS IN SCALE?????"
   ]
  },
  {
   "cell_type": "code",
   "execution_count": 32,
   "id": "160ec6ff",
   "metadata": {
    "execution": {
     "iopub.execute_input": "2025-07-22T10:17:00.438721Z",
     "iopub.status.busy": "2025-07-22T10:17:00.438416Z",
     "iopub.status.idle": "2025-07-22T10:17:00.442695Z",
     "shell.execute_reply": "2025-07-22T10:17:00.441996Z"
    },
    "papermill": {
     "duration": 0.016047,
     "end_time": "2025-07-22T10:17:00.444097",
     "exception": false,
     "start_time": "2025-07-22T10:17:00.428050",
     "status": "completed"
    },
    "tags": []
   },
   "outputs": [],
   "source": [
    "# Miscoverage level for conformal prediction (10% allowed error rate => 90% target coverage)\n",
    "alpha = 0.1"
   ]
  },
  {
   "cell_type": "code",
   "execution_count": 33,
   "id": "eadf4555-3dd3-440e-8e35-f82a4ad9f855",
   "metadata": {
    "execution": {
     "iopub.execute_input": "2025-07-22T10:17:00.466347Z",
     "iopub.status.busy": "2025-07-22T10:17:00.466006Z",
     "iopub.status.idle": "2025-07-22T10:17:00.548174Z",
     "shell.execute_reply": "2025-07-22T10:17:00.547342Z"
    },
    "papermill": {
     "duration": 0.094427,
     "end_time": "2025-07-22T10:17:00.549677",
     "exception": false,
     "start_time": "2025-07-22T10:17:00.455250",
     "status": "completed"
    },
    "tags": []
   },
   "outputs": [],
   "source": [
    "probs_calib = model.predict_proba(X_calib)"
   ]
  },
  {
   "cell_type": "code",
   "execution_count": 34,
   "id": "2ed93547-6d5d-4983-9b36-1ecb300da49a",
   "metadata": {
    "execution": {
     "iopub.execute_input": "2025-07-22T10:17:00.571533Z",
     "iopub.status.busy": "2025-07-22T10:17:00.571017Z",
     "iopub.status.idle": "2025-07-22T10:17:00.575810Z",
     "shell.execute_reply": "2025-07-22T10:17:00.574886Z"
    },
    "papermill": {
     "duration": 0.017162,
     "end_time": "2025-07-22T10:17:00.577321",
     "exception": false,
     "start_time": "2025-07-22T10:17:00.560159",
     "status": "completed"
    },
    "tags": []
   },
   "outputs": [],
   "source": [
    "y_calib = y_calib.values.ravel().astype(int)"
   ]
  },
  {
   "cell_type": "code",
   "execution_count": 35,
   "id": "65d1320d-f588-4b38-9072-62af1ae97f7d",
   "metadata": {
    "execution": {
     "iopub.execute_input": "2025-07-22T10:17:00.599163Z",
     "iopub.status.busy": "2025-07-22T10:17:00.598817Z",
     "iopub.status.idle": "2025-07-22T10:17:00.606677Z",
     "shell.execute_reply": "2025-07-22T10:17:00.605675Z"
    },
    "papermill": {
     "duration": 0.02012,
     "end_time": "2025-07-22T10:17:00.608247",
     "exception": false,
     "start_time": "2025-07-22T10:17:00.588127",
     "status": "completed"
    },
    "tags": []
   },
   "outputs": [],
   "source": [
    "from fairness_multiverse.conformal import compute_nc_scores\n",
    "\n",
    "# Compute nonconformity scores on calibration set (1 - probability of true class)\n",
    "nc_scores = compute_nc_scores(probs_calib, y_calib)"
   ]
  },
  {
   "cell_type": "code",
   "execution_count": 36,
   "id": "df3b8ca3-53b7-43d5-9667-7c85da7aeda2",
   "metadata": {
    "execution": {
     "iopub.execute_input": "2025-07-22T10:17:00.646832Z",
     "iopub.status.busy": "2025-07-22T10:17:00.646389Z",
     "iopub.status.idle": "2025-07-22T10:17:00.652346Z",
     "shell.execute_reply": "2025-07-22T10:17:00.651417Z"
    },
    "papermill": {
     "duration": 0.02706,
     "end_time": "2025-07-22T10:17:00.654341",
     "exception": false,
     "start_time": "2025-07-22T10:17:00.627281",
     "status": "completed"
    },
    "tags": []
   },
   "outputs": [],
   "source": [
    "from fairness_multiverse.conformal import find_threshold\n",
    "\n",
    "# Find conformal threshold q_hat for the given alpha (split conformal method)\n",
    "q_hat = find_threshold(nc_scores, alpha)"
   ]
  },
  {
   "cell_type": "code",
   "execution_count": 37,
   "id": "4d29e6c1-0ef6-4aa4-b8fe-4fe79b0d033a",
   "metadata": {
    "execution": {
     "iopub.execute_input": "2025-07-22T10:17:00.692611Z",
     "iopub.status.busy": "2025-07-22T10:17:00.692112Z",
     "iopub.status.idle": "2025-07-22T10:17:00.699185Z",
     "shell.execute_reply": "2025-07-22T10:17:00.698251Z"
    },
    "papermill": {
     "duration": 0.027365,
     "end_time": "2025-07-22T10:17:00.700961",
     "exception": false,
     "start_time": "2025-07-22T10:17:00.673596",
     "status": "completed"
    },
    "tags": []
   },
   "outputs": [
    {
     "data": {
      "text/plain": [
       "0.6873785450835304"
      ]
     },
     "execution_count": 37,
     "metadata": {},
     "output_type": "execute_result"
    }
   ],
   "source": [
    "q_hat"
   ]
  },
  {
   "cell_type": "code",
   "execution_count": 38,
   "id": "92460794-cdac-4be2-ba28-f28c0515a6fb",
   "metadata": {
    "execution": {
     "iopub.execute_input": "2025-07-22T10:17:00.739324Z",
     "iopub.status.busy": "2025-07-22T10:17:00.738881Z",
     "iopub.status.idle": "2025-07-22T10:17:01.521488Z",
     "shell.execute_reply": "2025-07-22T10:17:01.520567Z"
    },
    "papermill": {
     "duration": 0.802911,
     "end_time": "2025-07-22T10:17:01.522879",
     "exception": false,
     "start_time": "2025-07-22T10:17:00.719968",
     "status": "completed"
    },
    "tags": []
   },
   "outputs": [],
   "source": [
    "from fairness_multiverse.conformal import predict_conformal_sets\n",
    "\n",
    "# Generate prediction sets for each test example\n",
    "pred_sets = predict_conformal_sets(model, X_test, q_hat)"
   ]
  },
  {
   "cell_type": "code",
   "execution_count": 39,
   "id": "d90c9a65-e6db-4f5d-80cd-e68fb7e46829",
   "metadata": {
    "execution": {
     "iopub.execute_input": "2025-07-22T10:17:01.559506Z",
     "iopub.status.busy": "2025-07-22T10:17:01.559168Z",
     "iopub.status.idle": "2025-07-22T10:17:01.563824Z",
     "shell.execute_reply": "2025-07-22T10:17:01.562975Z"
    },
    "papermill": {
     "duration": 0.025091,
     "end_time": "2025-07-22T10:17:01.565356",
     "exception": false,
     "start_time": "2025-07-22T10:17:01.540265",
     "status": "completed"
    },
    "tags": []
   },
   "outputs": [],
   "source": [
    "y_true = y_true.squeeze()"
   ]
  },
  {
   "cell_type": "code",
   "execution_count": 40,
   "id": "3a58a54a-1e68-46b9-927a-df01f18aebc8",
   "metadata": {
    "execution": {
     "iopub.execute_input": "2025-07-22T10:17:01.607604Z",
     "iopub.status.busy": "2025-07-22T10:17:01.606803Z",
     "iopub.status.idle": "2025-07-22T10:17:02.528660Z",
     "shell.execute_reply": "2025-07-22T10:17:02.527703Z"
    },
    "papermill": {
     "duration": 0.944387,
     "end_time": "2025-07-22T10:17:02.530449",
     "exception": false,
     "start_time": "2025-07-22T10:17:01.586062",
     "status": "completed"
    },
    "tags": []
   },
   "outputs": [],
   "source": [
    "from fairness_multiverse.conformal import evaluate_sets\n",
    "\n",
    "# Evaluate coverage and average set size on test data\n",
    "metrics = evaluate_sets(pred_sets, y_true)"
   ]
  },
  {
   "cell_type": "code",
   "execution_count": 41,
   "id": "5ce0a5cb-201f-45a0-ade5-94c7f0bd6095",
   "metadata": {
    "execution": {
     "iopub.execute_input": "2025-07-22T10:17:02.569444Z",
     "iopub.status.busy": "2025-07-22T10:17:02.568890Z",
     "iopub.status.idle": "2025-07-22T10:17:02.576327Z",
     "shell.execute_reply": "2025-07-22T10:17:02.575388Z"
    },
    "papermill": {
     "duration": 0.028761,
     "end_time": "2025-07-22T10:17:02.578130",
     "exception": false,
     "start_time": "2025-07-22T10:17:02.549369",
     "status": "completed"
    },
    "tags": []
   },
   "outputs": [
    {
     "data": {
      "text/plain": [
       "{'coverage': 0.9065321591795786, 'avg_size': 1.1333184706275778}"
      ]
     },
     "execution_count": 41,
     "metadata": {},
     "output_type": "execute_result"
    }
   ],
   "source": [
    "metrics"
   ]
  },
  {
   "cell_type": "code",
   "execution_count": 42,
   "id": "9b9a838d-31c9-430b-ae14-12baee460d17",
   "metadata": {
    "execution": {
     "iopub.execute_input": "2025-07-22T10:17:02.618285Z",
     "iopub.status.busy": "2025-07-22T10:17:02.617830Z",
     "iopub.status.idle": "2025-07-22T10:17:02.624021Z",
     "shell.execute_reply": "2025-07-22T10:17:02.623134Z"
    },
    "papermill": {
     "duration": 0.027425,
     "end_time": "2025-07-22T10:17:02.625661",
     "exception": false,
     "start_time": "2025-07-22T10:17:02.598236",
     "status": "completed"
    },
    "tags": []
   },
   "outputs": [],
   "source": [
    "example_universe = universe.copy()\n",
    "universe_model = example_universe.get(\"model\")\n",
    "universe_exclude_features = example_universe.get(\"exclude_features\")\n",
    "universe_exclude_subgroups = example_universe.get(\"exclude_subgroups\")\n",
    "universe_scale = example_universe.get(\"scale\")"
   ]
  },
  {
   "cell_type": "code",
   "execution_count": 43,
   "id": "f4b6a8ac-9dc0-4245-8a91-5b3b5999c4f9",
   "metadata": {
    "execution": {
     "iopub.execute_input": "2025-07-22T10:17:02.665737Z",
     "iopub.status.busy": "2025-07-22T10:17:02.665281Z",
     "iopub.status.idle": "2025-07-22T10:17:02.671489Z",
     "shell.execute_reply": "2025-07-22T10:17:02.670636Z"
    },
    "papermill": {
     "duration": 0.027076,
     "end_time": "2025-07-22T10:17:02.673008",
     "exception": false,
     "start_time": "2025-07-22T10:17:02.645932",
     "status": "completed"
    },
    "tags": []
   },
   "outputs": [],
   "source": [
    "cp_metrics_dict = {\n",
    "    \"universe_id\": [universe_id],\n",
    "    \"universe_model\": [universe_model],\n",
    "    \"universe_exclude_features\": [universe_exclude_features],\n",
    "    \"universe_exclude_subgroups\": [universe_exclude_subgroups],\n",
    "    \"universe_scale\": [universe_scale],\n",
    "    \"q_hat\": [q_hat],\n",
    "    \"coverage\": [metrics[\"coverage\"]],\n",
    "    \"avg_size\": [metrics[\"avg_size\"]],\n",
    "}"
   ]
  },
  {
   "cell_type": "code",
   "execution_count": 44,
   "id": "908acbb1-0371-4915-85ca-3fa520d2efe2",
   "metadata": {
    "execution": {
     "iopub.execute_input": "2025-07-22T10:17:02.713018Z",
     "iopub.status.busy": "2025-07-22T10:17:02.712522Z",
     "iopub.status.idle": "2025-07-22T10:17:02.720118Z",
     "shell.execute_reply": "2025-07-22T10:17:02.719033Z"
    },
    "papermill": {
     "duration": 0.029054,
     "end_time": "2025-07-22T10:17:02.722204",
     "exception": false,
     "start_time": "2025-07-22T10:17:02.693150",
     "status": "completed"
    },
    "tags": []
   },
   "outputs": [
    {
     "data": {
      "text/plain": [
       "{'universe_id': ['6e91c12da9e1c9fbd8da7a1ad6dc5943'],\n",
       " 'universe_model': ['elasticnet'],\n",
       " 'universe_exclude_features': ['nationality'],\n",
       " 'universe_exclude_subgroups': ['keep-all'],\n",
       " 'universe_scale': ['do-not-scale'],\n",
       " 'q_hat': [0.6873785450835304],\n",
       " 'coverage': [0.9065321591795786],\n",
       " 'avg_size': [1.1333184706275778]}"
      ]
     },
     "execution_count": 44,
     "metadata": {},
     "output_type": "execute_result"
    }
   ],
   "source": [
    "cp_metrics_dict"
   ]
  },
  {
   "cell_type": "code",
   "execution_count": 45,
   "id": "33007efc-14e9-4ec6-97ac-56a455c82265",
   "metadata": {
    "execution": {
     "iopub.execute_input": "2025-07-22T10:17:02.763076Z",
     "iopub.status.busy": "2025-07-22T10:17:02.762640Z",
     "iopub.status.idle": "2025-07-22T10:17:02.768965Z",
     "shell.execute_reply": "2025-07-22T10:17:02.767990Z"
    },
    "papermill": {
     "duration": 0.028337,
     "end_time": "2025-07-22T10:17:02.770675",
     "exception": false,
     "start_time": "2025-07-22T10:17:02.742338",
     "status": "completed"
    },
    "tags": []
   },
   "outputs": [],
   "source": [
    "cp_metrics_df = pd.DataFrame(cp_metrics_dict)"
   ]
  },
  {
   "cell_type": "code",
   "execution_count": 46,
   "id": "db12611b-57b2-4910-b9d0-355adfd6e7bf",
   "metadata": {
    "execution": {
     "iopub.execute_input": "2025-07-22T10:17:02.810974Z",
     "iopub.status.busy": "2025-07-22T10:17:02.810542Z",
     "iopub.status.idle": "2025-07-22T10:17:02.828804Z",
     "shell.execute_reply": "2025-07-22T10:17:02.827804Z"
    },
    "papermill": {
     "duration": 0.03953,
     "end_time": "2025-07-22T10:17:02.830383",
     "exception": false,
     "start_time": "2025-07-22T10:17:02.790853",
     "status": "completed"
    },
    "tags": []
   },
   "outputs": [
    {
     "data": {
      "text/html": [
       "<div>\n",
       "<style scoped>\n",
       "    .dataframe tbody tr th:only-of-type {\n",
       "        vertical-align: middle;\n",
       "    }\n",
       "\n",
       "    .dataframe tbody tr th {\n",
       "        vertical-align: top;\n",
       "    }\n",
       "\n",
       "    .dataframe thead th {\n",
       "        text-align: right;\n",
       "    }\n",
       "</style>\n",
       "<table border=\"1\" class=\"dataframe\">\n",
       "  <thead>\n",
       "    <tr style=\"text-align: right;\">\n",
       "      <th></th>\n",
       "      <th>universe_id</th>\n",
       "      <th>universe_model</th>\n",
       "      <th>universe_exclude_features</th>\n",
       "      <th>universe_exclude_subgroups</th>\n",
       "      <th>universe_scale</th>\n",
       "      <th>q_hat</th>\n",
       "      <th>coverage</th>\n",
       "      <th>avg_size</th>\n",
       "    </tr>\n",
       "  </thead>\n",
       "  <tbody>\n",
       "    <tr>\n",
       "      <th>0</th>\n",
       "      <td>6e91c12da9e1c9fbd8da7a1ad6dc5943</td>\n",
       "      <td>elasticnet</td>\n",
       "      <td>nationality</td>\n",
       "      <td>keep-all</td>\n",
       "      <td>do-not-scale</td>\n",
       "      <td>0.687379</td>\n",
       "      <td>0.906532</td>\n",
       "      <td>1.133318</td>\n",
       "    </tr>\n",
       "  </tbody>\n",
       "</table>\n",
       "</div>"
      ],
      "text/plain": [
       "                        universe_id universe_model universe_exclude_features  \\\n",
       "0  6e91c12da9e1c9fbd8da7a1ad6dc5943     elasticnet               nationality   \n",
       "\n",
       "  universe_exclude_subgroups universe_scale     q_hat  coverage  avg_size  \n",
       "0                   keep-all   do-not-scale  0.687379  0.906532  1.133318  "
      ]
     },
     "execution_count": 46,
     "metadata": {},
     "output_type": "execute_result"
    }
   ],
   "source": [
    "cp_metrics_df"
   ]
  },
  {
   "cell_type": "code",
   "execution_count": 47,
   "id": "b7fbde55-a0a1-47e4-9af6-fe4a17fa8c61",
   "metadata": {
    "execution": {
     "iopub.execute_input": "2025-07-22T10:17:02.870130Z",
     "iopub.status.busy": "2025-07-22T10:17:02.869693Z",
     "iopub.status.idle": "2025-07-22T10:17:02.874501Z",
     "shell.execute_reply": "2025-07-22T10:17:02.873622Z"
    },
    "papermill": {
     "duration": 0.026564,
     "end_time": "2025-07-22T10:17:02.876376",
     "exception": false,
     "start_time": "2025-07-22T10:17:02.849812",
     "status": "completed"
    },
    "tags": []
   },
   "outputs": [],
   "source": [
    "# Conditional Coverage & looking at subgroups"
   ]
  },
  {
   "cell_type": "code",
   "execution_count": 48,
   "id": "027ae886-68dd-4141-96c7-805a5450e1ef",
   "metadata": {
    "execution": {
     "iopub.execute_input": "2025-07-22T10:17:02.917691Z",
     "iopub.status.busy": "2025-07-22T10:17:02.917195Z",
     "iopub.status.idle": "2025-07-22T10:17:03.175540Z",
     "shell.execute_reply": "2025-07-22T10:17:03.174634Z"
    },
    "papermill": {
     "duration": 0.281089,
     "end_time": "2025-07-22T10:17:03.177426",
     "exception": false,
     "start_time": "2025-07-22T10:17:02.896337",
     "status": "completed"
    },
    "tags": []
   },
   "outputs": [],
   "source": [
    "from fairness_multiverse.conformal import build_cp_groups\n",
    "\n",
    "cp_groups_df = build_cp_groups(pred_sets, y_true, X_test.index, org_test)\n",
    "#needs universe_id and setting"
   ]
  },
  {
   "cell_type": "code",
   "execution_count": 49,
   "id": "c3b92545-903e-4839-89af-0f057907d7d6",
   "metadata": {
    "execution": {
     "iopub.execute_input": "2025-07-22T10:17:03.218273Z",
     "iopub.status.busy": "2025-07-22T10:17:03.217814Z",
     "iopub.status.idle": "2025-07-22T10:17:04.785961Z",
     "shell.execute_reply": "2025-07-22T10:17:04.784955Z"
    },
    "papermill": {
     "duration": 1.590447,
     "end_time": "2025-07-22T10:17:04.787959",
     "exception": false,
     "start_time": "2025-07-22T10:17:03.197512",
     "status": "completed"
    },
    "tags": []
   },
   "outputs": [],
   "source": [
    "# Define covered = 1 if true_label is in the predicted set\n",
    "cp_groups_df['covered'] = cp_groups_df.apply(\n",
    "    lambda r: int(r['true_label'] in r['pred_set']),\n",
    "    axis=1\n",
    ")"
   ]
  },
  {
   "cell_type": "code",
   "execution_count": 50,
   "id": "338ff529-1a6b-4b87-a931-8e4788d52aad",
   "metadata": {
    "execution": {
     "iopub.execute_input": "2025-07-22T10:17:04.829704Z",
     "iopub.status.busy": "2025-07-22T10:17:04.829005Z",
     "iopub.status.idle": "2025-07-22T10:17:04.833841Z",
     "shell.execute_reply": "2025-07-22T10:17:04.832956Z"
    },
    "papermill": {
     "duration": 0.027164,
     "end_time": "2025-07-22T10:17:04.835435",
     "exception": false,
     "start_time": "2025-07-22T10:17:04.808271",
     "status": "completed"
    },
    "tags": []
   },
   "outputs": [],
   "source": [
    "#cp_groups_df"
   ]
  },
  {
   "cell_type": "code",
   "execution_count": 51,
   "id": "90032e27-66df-4540-9169-4e89cfbaa758",
   "metadata": {
    "execution": {
     "iopub.execute_input": "2025-07-22T10:17:04.877216Z",
     "iopub.status.busy": "2025-07-22T10:17:04.876748Z",
     "iopub.status.idle": "2025-07-22T10:17:04.888084Z",
     "shell.execute_reply": "2025-07-22T10:17:04.887143Z"
    },
    "papermill": {
     "duration": 0.033638,
     "end_time": "2025-07-22T10:17:04.889940",
     "exception": false,
     "start_time": "2025-07-22T10:17:04.856302",
     "status": "completed"
    },
    "tags": []
   },
   "outputs": [],
   "source": [
    "subgroups = ['frau1','nongerman','nongerman_male','nongerman_female']\n",
    "\n",
    "# Conditional coverage for subgroup==1\n",
    "cond_coverage = {\n",
    "    g: cp_groups_df.loc[cp_groups_df[g]==1, 'covered'].mean()\n",
    "    for g in subgroups\n",
    "}"
   ]
  },
  {
   "cell_type": "code",
   "execution_count": 52,
   "id": "1e348fb1-b9c3-45bc-ba23-f016827a7e0d",
   "metadata": {
    "execution": {
     "iopub.execute_input": "2025-07-22T10:17:04.930825Z",
     "iopub.status.busy": "2025-07-22T10:17:04.930387Z",
     "iopub.status.idle": "2025-07-22T10:17:04.937452Z",
     "shell.execute_reply": "2025-07-22T10:17:04.936495Z"
    },
    "papermill": {
     "duration": 0.028754,
     "end_time": "2025-07-22T10:17:04.939098",
     "exception": false,
     "start_time": "2025-07-22T10:17:04.910344",
     "status": "completed"
    },
    "tags": []
   },
   "outputs": [
    {
     "data": {
      "text/plain": [
       "{'frau1': 0.9055398301657905,\n",
       " 'nongerman': 0.9071464660641105,\n",
       " 'nongerman_male': 0.922183193731424,\n",
       " 'nongerman_female': 0.8822652757078987}"
      ]
     },
     "execution_count": 52,
     "metadata": {},
     "output_type": "execute_result"
    }
   ],
   "source": [
    "cond_coverage"
   ]
  },
  {
   "cell_type": "code",
   "execution_count": 53,
   "id": "f5093324-c3dd-4d63-bc4c-8d945e5c8bbb",
   "metadata": {
    "execution": {
     "iopub.execute_input": "2025-07-22T10:17:04.981094Z",
     "iopub.status.busy": "2025-07-22T10:17:04.980444Z",
     "iopub.status.idle": "2025-07-22T10:17:04.988021Z",
     "shell.execute_reply": "2025-07-22T10:17:04.987034Z"
    },
    "papermill": {
     "duration": 0.030173,
     "end_time": "2025-07-22T10:17:04.989740",
     "exception": false,
     "start_time": "2025-07-22T10:17:04.959567",
     "status": "completed"
    },
    "tags": []
   },
   "outputs": [],
   "source": [
    "for subgroup, cov in cond_coverage.items():\n",
    "    cp_metrics_df[f\"cov_{subgroup}\"] = cov"
   ]
  },
  {
   "cell_type": "code",
   "execution_count": 54,
   "id": "6e872e10-dbe5-49e8-b554-5030c98ff75d",
   "metadata": {
    "execution": {
     "iopub.execute_input": "2025-07-22T10:17:05.032519Z",
     "iopub.status.busy": "2025-07-22T10:17:05.032079Z",
     "iopub.status.idle": "2025-07-22T10:17:05.049489Z",
     "shell.execute_reply": "2025-07-22T10:17:05.048376Z"
    },
    "papermill": {
     "duration": 0.03995,
     "end_time": "2025-07-22T10:17:05.051135",
     "exception": false,
     "start_time": "2025-07-22T10:17:05.011185",
     "status": "completed"
    },
    "tags": []
   },
   "outputs": [
    {
     "data": {
      "text/html": [
       "<div>\n",
       "<style scoped>\n",
       "    .dataframe tbody tr th:only-of-type {\n",
       "        vertical-align: middle;\n",
       "    }\n",
       "\n",
       "    .dataframe tbody tr th {\n",
       "        vertical-align: top;\n",
       "    }\n",
       "\n",
       "    .dataframe thead th {\n",
       "        text-align: right;\n",
       "    }\n",
       "</style>\n",
       "<table border=\"1\" class=\"dataframe\">\n",
       "  <thead>\n",
       "    <tr style=\"text-align: right;\">\n",
       "      <th></th>\n",
       "      <th>universe_id</th>\n",
       "      <th>universe_model</th>\n",
       "      <th>universe_exclude_features</th>\n",
       "      <th>universe_exclude_subgroups</th>\n",
       "      <th>universe_scale</th>\n",
       "      <th>q_hat</th>\n",
       "      <th>coverage</th>\n",
       "      <th>avg_size</th>\n",
       "      <th>cov_frau1</th>\n",
       "      <th>cov_nongerman</th>\n",
       "      <th>cov_nongerman_male</th>\n",
       "      <th>cov_nongerman_female</th>\n",
       "    </tr>\n",
       "  </thead>\n",
       "  <tbody>\n",
       "    <tr>\n",
       "      <th>0</th>\n",
       "      <td>6e91c12da9e1c9fbd8da7a1ad6dc5943</td>\n",
       "      <td>elasticnet</td>\n",
       "      <td>nationality</td>\n",
       "      <td>keep-all</td>\n",
       "      <td>do-not-scale</td>\n",
       "      <td>0.687379</td>\n",
       "      <td>0.906532</td>\n",
       "      <td>1.133318</td>\n",
       "      <td>0.90554</td>\n",
       "      <td>0.907146</td>\n",
       "      <td>0.922183</td>\n",
       "      <td>0.882265</td>\n",
       "    </tr>\n",
       "  </tbody>\n",
       "</table>\n",
       "</div>"
      ],
      "text/plain": [
       "                        universe_id universe_model universe_exclude_features  \\\n",
       "0  6e91c12da9e1c9fbd8da7a1ad6dc5943     elasticnet               nationality   \n",
       "\n",
       "  universe_exclude_subgroups universe_scale     q_hat  coverage  avg_size  \\\n",
       "0                   keep-all   do-not-scale  0.687379  0.906532  1.133318   \n",
       "\n",
       "   cov_frau1  cov_nongerman  cov_nongerman_male  cov_nongerman_female  \n",
       "0    0.90554       0.907146            0.922183              0.882265  "
      ]
     },
     "execution_count": 54,
     "metadata": {},
     "output_type": "execute_result"
    }
   ],
   "source": [
    "cp_metrics_df"
   ]
  },
  {
   "cell_type": "markdown",
   "id": "33774451",
   "metadata": {
    "papermill": {
     "duration": 0.020391,
     "end_time": "2025-07-22T10:17:05.093485",
     "exception": false,
     "start_time": "2025-07-22T10:17:05.073094",
     "status": "completed"
    },
    "tags": []
   },
   "source": [
    "# (Fairness) Metrics"
   ]
  },
  {
   "cell_type": "code",
   "execution_count": 55,
   "id": "debc5d62",
   "metadata": {
    "execution": {
     "iopub.execute_input": "2025-07-22T10:17:05.135607Z",
     "iopub.status.busy": "2025-07-22T10:17:05.135095Z",
     "iopub.status.idle": "2025-07-22T10:17:05.158778Z",
     "shell.execute_reply": "2025-07-22T10:17:05.157890Z"
    },
    "papermill": {
     "duration": 0.046388,
     "end_time": "2025-07-22T10:17:05.160271",
     "exception": false,
     "start_time": "2025-07-22T10:17:05.113883",
     "status": "completed"
    },
    "tags": []
   },
   "outputs": [],
   "source": [
    "# do I need to include maxdeutsch1.missing?\n",
    "\n",
    "import numpy as np\n",
    "\n",
    "colname_to_bin = \"maxdeutsch1\"\n",
    "majority_value = org_train[colname_to_bin].mode()[0]\n",
    "\n",
    "org_test[\"majmin\"] = np.where(org_test[colname_to_bin] == majority_value, \"majority\", \"minority\")"
   ]
  },
  {
   "cell_type": "code",
   "execution_count": 56,
   "id": "06a50de5",
   "metadata": {
    "execution": {
     "iopub.execute_input": "2025-07-22T10:17:05.203532Z",
     "iopub.status.busy": "2025-07-22T10:17:05.202781Z",
     "iopub.status.idle": "2025-07-22T10:17:08.241357Z",
     "shell.execute_reply": "2025-07-22T10:17:08.240437Z"
    },
    "papermill": {
     "duration": 3.061792,
     "end_time": "2025-07-22T10:17:08.243179",
     "exception": false,
     "start_time": "2025-07-22T10:17:05.181387",
     "status": "completed"
    },
    "tags": []
   },
   "outputs": [],
   "source": [
    "example_universe = universe.copy()\n",
    "example_universe[\"cutoff\"] = example_universe[\"cutoff\"][0]\n",
    "example_universe[\"eval_fairness_grouping\"] = example_universe[\"eval_fairness_grouping\"][0]\n",
    "fairness_dict, metric_frame = universe_analysis.compute_metrics(\n",
    "    example_universe,\n",
    "    y_pred_prob=probs_test,\n",
    "    y_test=y_true,\n",
    "    org_test=org_test,\n",
    ")"
   ]
  },
  {
   "cell_type": "markdown",
   "id": "f95d4e02",
   "metadata": {
    "papermill": {
     "duration": 0.020314,
     "end_time": "2025-07-22T10:17:08.284816",
     "exception": false,
     "start_time": "2025-07-22T10:17:08.264502",
     "status": "completed"
    },
    "tags": []
   },
   "source": [
    "# Overall"
   ]
  },
  {
   "cell_type": "markdown",
   "id": "bdee4871",
   "metadata": {
    "papermill": {
     "duration": 0.020378,
     "end_time": "2025-07-22T10:17:08.325851",
     "exception": false,
     "start_time": "2025-07-22T10:17:08.305473",
     "status": "completed"
    },
    "tags": []
   },
   "source": [
    "Fairness\n",
    "Main fairness target: Equalized Odds. Seems to be a better fit than equal opportunity, since we're not only interested in Y = 1. Seems to be a better fit than demographic parity, since we also care about accuracy, not just equal distribution of preds.\n",
    "\n",
    "Pick column for computation of fairness metrics\n",
    "\n",
    "Performance\n",
    "Overall performance measures, most interesting in relation to the measures split by group below"
   ]
  },
  {
   "cell_type": "code",
   "execution_count": 57,
   "id": "c4e067c6",
   "metadata": {
    "execution": {
     "iopub.execute_input": "2025-07-22T10:17:08.370355Z",
     "iopub.status.busy": "2025-07-22T10:17:08.369865Z",
     "iopub.status.idle": "2025-07-22T10:17:08.378506Z",
     "shell.execute_reply": "2025-07-22T10:17:08.377534Z"
    },
    "papermill": {
     "duration": 0.032885,
     "end_time": "2025-07-22T10:17:08.380169",
     "exception": false,
     "start_time": "2025-07-22T10:17:08.347284",
     "status": "completed"
    },
    "tags": []
   },
   "outputs": [
    {
     "data": {
      "text/plain": [
       "accuracy                   0.220990\n",
       "balanced accuracy          0.541060\n",
       "f1                         0.242414\n",
       "precision                  0.138483\n",
       "false positive rate        0.889466\n",
       "false negative rate        0.028415\n",
       "selection rate             0.900000\n",
       "count                  89710.000000\n",
       "dtype: float64"
      ]
     },
     "execution_count": 57,
     "metadata": {},
     "output_type": "execute_result"
    }
   ],
   "source": [
    "metric_frame.overall"
   ]
  },
  {
   "cell_type": "markdown",
   "id": "e968fe9d",
   "metadata": {
    "papermill": {
     "duration": 0.020719,
     "end_time": "2025-07-22T10:17:08.423521",
     "exception": false,
     "start_time": "2025-07-22T10:17:08.402802",
     "status": "completed"
    },
    "tags": []
   },
   "source": [
    "By Group"
   ]
  },
  {
   "cell_type": "code",
   "execution_count": 58,
   "id": "ec325bce",
   "metadata": {
    "execution": {
     "iopub.execute_input": "2025-07-22T10:17:08.467332Z",
     "iopub.status.busy": "2025-07-22T10:17:08.466782Z",
     "iopub.status.idle": "2025-07-22T10:17:08.483466Z",
     "shell.execute_reply": "2025-07-22T10:17:08.482521Z"
    },
    "papermill": {
     "duration": 0.041056,
     "end_time": "2025-07-22T10:17:08.485406",
     "exception": false,
     "start_time": "2025-07-22T10:17:08.444350",
     "status": "completed"
    },
    "tags": []
   },
   "outputs": [
    {
     "data": {
      "text/html": [
       "<div>\n",
       "<style scoped>\n",
       "    .dataframe tbody tr th:only-of-type {\n",
       "        vertical-align: middle;\n",
       "    }\n",
       "\n",
       "    .dataframe tbody tr th {\n",
       "        vertical-align: top;\n",
       "    }\n",
       "\n",
       "    .dataframe thead th {\n",
       "        text-align: right;\n",
       "    }\n",
       "</style>\n",
       "<table border=\"1\" class=\"dataframe\">\n",
       "  <thead>\n",
       "    <tr style=\"text-align: right;\">\n",
       "      <th></th>\n",
       "      <th>accuracy</th>\n",
       "      <th>balanced accuracy</th>\n",
       "      <th>f1</th>\n",
       "      <th>precision</th>\n",
       "      <th>false positive rate</th>\n",
       "      <th>false negative rate</th>\n",
       "      <th>selection rate</th>\n",
       "      <th>count</th>\n",
       "    </tr>\n",
       "    <tr>\n",
       "      <th>majmin</th>\n",
       "      <th></th>\n",
       "      <th></th>\n",
       "      <th></th>\n",
       "      <th></th>\n",
       "      <th></th>\n",
       "      <th></th>\n",
       "      <th></th>\n",
       "      <th></th>\n",
       "    </tr>\n",
       "  </thead>\n",
       "  <tbody>\n",
       "    <tr>\n",
       "      <th>majority</th>\n",
       "      <td>0.242923</td>\n",
       "      <td>0.550238</td>\n",
       "      <td>0.252551</td>\n",
       "      <td>0.145221</td>\n",
       "      <td>0.867466</td>\n",
       "      <td>0.032057</td>\n",
       "      <td>0.880743</td>\n",
       "      <td>69170.0</td>\n",
       "    </tr>\n",
       "    <tr>\n",
       "      <th>minority</th>\n",
       "      <td>0.147128</td>\n",
       "      <td>0.511751</td>\n",
       "      <td>0.210403</td>\n",
       "      <td>0.117772</td>\n",
       "      <td>0.962140</td>\n",
       "      <td>0.014358</td>\n",
       "      <td>0.964849</td>\n",
       "      <td>20540.0</td>\n",
       "    </tr>\n",
       "  </tbody>\n",
       "</table>\n",
       "</div>"
      ],
      "text/plain": [
       "          accuracy  balanced accuracy        f1  precision  \\\n",
       "majmin                                                       \n",
       "majority  0.242923           0.550238  0.252551   0.145221   \n",
       "minority  0.147128           0.511751  0.210403   0.117772   \n",
       "\n",
       "          false positive rate  false negative rate  selection rate    count  \n",
       "majmin                                                                       \n",
       "majority             0.867466             0.032057        0.880743  69170.0  \n",
       "minority             0.962140             0.014358        0.964849  20540.0  "
      ]
     },
     "execution_count": 58,
     "metadata": {},
     "output_type": "execute_result"
    }
   ],
   "source": [
    "metric_frame.by_group"
   ]
  },
  {
   "cell_type": "code",
   "execution_count": 59,
   "id": "a9ddbe63",
   "metadata": {
    "execution": {
     "iopub.execute_input": "2025-07-22T10:17:08.530725Z",
     "iopub.status.busy": "2025-07-22T10:17:08.530264Z",
     "iopub.status.idle": "2025-07-22T10:17:10.944458Z",
     "shell.execute_reply": "2025-07-22T10:17:10.943518Z"
    },
    "papermill": {
     "duration": 2.438161,
     "end_time": "2025-07-22T10:17:10.946101",
     "exception": false,
     "start_time": "2025-07-22T10:17:08.507940",
     "status": "completed"
    },
    "tags": []
   },
   "outputs": [
    {
     "data": {
      "text/plain": [
       "array([[<Axes: title={'center': 'accuracy'}, xlabel='majmin'>,\n",
       "        <Axes: title={'center': 'balanced accuracy'}, xlabel='majmin'>,\n",
       "        <Axes: title={'center': 'f1'}, xlabel='majmin'>],\n",
       "       [<Axes: title={'center': 'precision'}, xlabel='majmin'>,\n",
       "        <Axes: title={'center': 'false positive rate'}, xlabel='majmin'>,\n",
       "        <Axes: title={'center': 'false negative rate'}, xlabel='majmin'>],\n",
       "       [<Axes: title={'center': 'selection rate'}, xlabel='majmin'>,\n",
       "        <Axes: title={'center': 'count'}, xlabel='majmin'>,\n",
       "        <Axes: xlabel='majmin'>]], dtype=object)"
      ]
     },
     "execution_count": 59,
     "metadata": {},
     "output_type": "execute_result"
    },
    {
     "data": {
      "image/png": "[encoded data removed]",
      "text/plain": [
       "<Figure size 1200x800 with 9 Axes>"
      ]
     },
     "metadata": {},
     "output_type": "display_data"
    }
   ],
   "source": [
    "# In a graphic\n",
    "metric_frame.by_group.plot.bar(\n",
    "    subplots=True,\n",
    "    layout=[3, 3],\n",
    "    legend=False,\n",
    "    figsize=[12, 8],\n",
    "    title=\"Show all metrics\",\n",
    ")"
   ]
  },
  {
   "cell_type": "markdown",
   "id": "f57a0bac",
   "metadata": {
    "papermill": {
     "duration": 0.021897,
     "end_time": "2025-07-22T10:17:10.993341",
     "exception": false,
     "start_time": "2025-07-22T10:17:10.971444",
     "status": "completed"
    },
    "tags": []
   },
   "source": [
    "# Final Output"
   ]
  },
  {
   "cell_type": "code",
   "execution_count": 60,
   "id": "96d280a3",
   "metadata": {
    "execution": {
     "iopub.execute_input": "2025-07-22T10:17:11.038400Z",
     "iopub.status.busy": "2025-07-22T10:17:11.037794Z",
     "iopub.status.idle": "2025-07-22T10:17:11.045555Z",
     "shell.execute_reply": "2025-07-22T10:17:11.044592Z"
    },
    "papermill": {
     "duration": 0.032515,
     "end_time": "2025-07-22T10:17:11.047291",
     "exception": false,
     "start_time": "2025-07-22T10:17:11.014776",
     "status": "completed"
    },
    "tags": []
   },
   "outputs": [
    {
     "data": {
      "text/plain": [
       "4"
      ]
     },
     "execution_count": 60,
     "metadata": {},
     "output_type": "execute_result"
    }
   ],
   "source": [
    "sub_universes = universe_analysis.generate_sub_universes()\n",
    "len(sub_universes)"
   ]
  },
  {
   "cell_type": "code",
   "execution_count": 61,
   "id": "92adf7ba",
   "metadata": {
    "execution": {
     "iopub.execute_input": "2025-07-22T10:17:11.093805Z",
     "iopub.status.busy": "2025-07-22T10:17:11.093353Z",
     "iopub.status.idle": "2025-07-22T10:17:11.099301Z",
     "shell.execute_reply": "2025-07-22T10:17:11.098451Z"
    },
    "papermill": {
     "duration": 0.030776,
     "end_time": "2025-07-22T10:17:11.101115",
     "exception": false,
     "start_time": "2025-07-22T10:17:11.070339",
     "status": "completed"
    },
    "tags": []
   },
   "outputs": [],
   "source": [
    "def filter_sub_universe_data(sub_universe, org_test):\n",
    "    # Keep all rows — no filtering\n",
    "    keep_rows_mask = np.ones(org_test.shape[0], dtype=bool)\n",
    "\n",
    "    print(f\"[INFO] Keeping all rows: {keep_rows_mask.sum()} rows retained.\")\n",
    "    return keep_rows_mask"
   ]
  },
  {
   "cell_type": "code",
   "execution_count": 62,
   "id": "4a759155",
   "metadata": {
    "execution": {
     "iopub.execute_input": "2025-07-22T10:17:11.151985Z",
     "iopub.status.busy": "2025-07-22T10:17:11.151213Z",
     "iopub.status.idle": "2025-07-22T10:17:22.552791Z",
     "shell.execute_reply": "2025-07-22T10:17:22.551871Z"
    },
    "papermill": {
     "duration": 11.429537,
     "end_time": "2025-07-22T10:17:22.554220",
     "exception": false,
     "start_time": "2025-07-22T10:17:11.124683",
     "status": "completed"
    },
    "tags": []
   },
   "outputs": [
    {
     "name": "stdout",
     "output_type": "stream",
     "text": [
      "Stopping execution_time clock.\n",
      "[INFO] Keeping all rows: 89710 rows retained.\n"
     ]
    },
    {
     "name": "stdout",
     "output_type": "stream",
     "text": [
      "[INFO] Keeping all rows: 89710 rows retained.\n"
     ]
    },
    {
     "name": "stdout",
     "output_type": "stream",
     "text": [
      "[INFO] Keeping all rows: 89710 rows retained.\n"
     ]
    },
    {
     "name": "stdout",
     "output_type": "stream",
     "text": [
      "[INFO] Keeping all rows: 89710 rows retained.\n"
     ]
    },
    {
     "data": {
      "text/html": [
       "<div>\n",
       "<style scoped>\n",
       "    .dataframe tbody tr th:only-of-type {\n",
       "        vertical-align: middle;\n",
       "    }\n",
       "\n",
       "    .dataframe tbody tr th {\n",
       "        vertical-align: top;\n",
       "    }\n",
       "\n",
       "    .dataframe thead th {\n",
       "        text-align: right;\n",
       "    }\n",
       "</style>\n",
       "<table border=\"1\" class=\"dataframe\">\n",
       "  <thead>\n",
       "    <tr style=\"text-align: right;\">\n",
       "      <th></th>\n",
       "      <th>run_no</th>\n",
       "      <th>universe_id</th>\n",
       "      <th>universe_settings</th>\n",
       "      <th>execution_time</th>\n",
       "      <th>test_size_n</th>\n",
       "      <th>test_size_frac</th>\n",
       "      <th>fair_main_equalized_odds_difference</th>\n",
       "      <th>fair_main_equalized_odds_ratio</th>\n",
       "      <th>fair_main_demographic_parity_difference</th>\n",
       "      <th>fair_main_demographic_parity_ratio</th>\n",
       "      <th>...</th>\n",
       "      <th>perf_grp_precision_0</th>\n",
       "      <th>perf_grp_precision_1</th>\n",
       "      <th>perf_grp_false positive rate_0</th>\n",
       "      <th>perf_grp_false positive rate_1</th>\n",
       "      <th>perf_grp_false negative rate_0</th>\n",
       "      <th>perf_grp_false negative rate_1</th>\n",
       "      <th>perf_grp_selection rate_0</th>\n",
       "      <th>perf_grp_selection rate_1</th>\n",
       "      <th>perf_grp_count_0</th>\n",
       "      <th>perf_grp_count_1</th>\n",
       "    </tr>\n",
       "  </thead>\n",
       "  <tbody>\n",
       "    <tr>\n",
       "      <th>0</th>\n",
       "      <td>4</td>\n",
       "      <td>6e91c12da9e1c9fbd8da7a1ad6dc5943</td>\n",
       "      <td>{\"cutoff\": \"quantile_0.1\", \"eval_fairness_grou...</td>\n",
       "      <td>217.500569</td>\n",
       "      <td>89710</td>\n",
       "      <td>1.0</td>\n",
       "      <td>0.094673</td>\n",
       "      <td>0.901601</td>\n",
       "      <td>0.084106</td>\n",
       "      <td>0.91283</td>\n",
       "      <td>...</td>\n",
       "      <td>NaN</td>\n",
       "      <td>NaN</td>\n",
       "      <td>NaN</td>\n",
       "      <td>NaN</td>\n",
       "      <td>NaN</td>\n",
       "      <td>NaN</td>\n",
       "      <td>NaN</td>\n",
       "      <td>NaN</td>\n",
       "      <td>NaN</td>\n",
       "      <td>NaN</td>\n",
       "    </tr>\n",
       "    <tr>\n",
       "      <th>0</th>\n",
       "      <td>4</td>\n",
       "      <td>6e91c12da9e1c9fbd8da7a1ad6dc5943</td>\n",
       "      <td>{\"cutoff\": \"quantile_0.1\", \"eval_fairness_grou...</td>\n",
       "      <td>217.500569</td>\n",
       "      <td>89710</td>\n",
       "      <td>1.0</td>\n",
       "      <td>0.094673</td>\n",
       "      <td>0.901601</td>\n",
       "      <td>0.084106</td>\n",
       "      <td>0.91283</td>\n",
       "      <td>...</td>\n",
       "      <td>0.117772</td>\n",
       "      <td>0.145221</td>\n",
       "      <td>0.962140</td>\n",
       "      <td>0.867466</td>\n",
       "      <td>0.014358</td>\n",
       "      <td>0.032057</td>\n",
       "      <td>0.964849</td>\n",
       "      <td>0.880743</td>\n",
       "      <td>20540.0</td>\n",
       "      <td>69170.0</td>\n",
       "    </tr>\n",
       "    <tr>\n",
       "      <th>0</th>\n",
       "      <td>4</td>\n",
       "      <td>6e91c12da9e1c9fbd8da7a1ad6dc5943</td>\n",
       "      <td>{\"cutoff\": \"quantile_0.25\", \"eval_fairness_gro...</td>\n",
       "      <td>217.500569</td>\n",
       "      <td>89710</td>\n",
       "      <td>1.0</td>\n",
       "      <td>0.203311</td>\n",
       "      <td>0.769651</td>\n",
       "      <td>0.179964</td>\n",
       "      <td>0.79751</td>\n",
       "      <td>...</td>\n",
       "      <td>NaN</td>\n",
       "      <td>NaN</td>\n",
       "      <td>NaN</td>\n",
       "      <td>NaN</td>\n",
       "      <td>NaN</td>\n",
       "      <td>NaN</td>\n",
       "      <td>NaN</td>\n",
       "      <td>NaN</td>\n",
       "      <td>NaN</td>\n",
       "      <td>NaN</td>\n",
       "    </tr>\n",
       "    <tr>\n",
       "      <th>0</th>\n",
       "      <td>4</td>\n",
       "      <td>6e91c12da9e1c9fbd8da7a1ad6dc5943</td>\n",
       "      <td>{\"cutoff\": \"quantile_0.25\", \"eval_fairness_gro...</td>\n",
       "      <td>217.500569</td>\n",
       "      <td>89710</td>\n",
       "      <td>1.0</td>\n",
       "      <td>0.203311</td>\n",
       "      <td>0.769651</td>\n",
       "      <td>0.179964</td>\n",
       "      <td>0.79751</td>\n",
       "      <td>...</td>\n",
       "      <td>0.121391</td>\n",
       "      <td>0.168234</td>\n",
       "      <td>0.882622</td>\n",
       "      <td>0.679310</td>\n",
       "      <td>0.064189</td>\n",
       "      <td>0.097593</td>\n",
       "      <td>0.888754</td>\n",
       "      <td>0.708790</td>\n",
       "      <td>20540.0</td>\n",
       "      <td>69170.0</td>\n",
       "    </tr>\n",
       "  </tbody>\n",
       "</table>\n",
       "<p>4 rows × 50 columns</p>\n",
       "</div>"
      ],
      "text/plain": [
       "  run_no                       universe_id  \\\n",
       "0      4  6e91c12da9e1c9fbd8da7a1ad6dc5943   \n",
       "0      4  6e91c12da9e1c9fbd8da7a1ad6dc5943   \n",
       "0      4  6e91c12da9e1c9fbd8da7a1ad6dc5943   \n",
       "0      4  6e91c12da9e1c9fbd8da7a1ad6dc5943   \n",
       "\n",
       "                                   universe_settings  execution_time  \\\n",
       "0  {\"cutoff\": \"quantile_0.1\", \"eval_fairness_grou...      217.500569   \n",
       "0  {\"cutoff\": \"quantile_0.1\", \"eval_fairness_grou...      217.500569   \n",
       "0  {\"cutoff\": \"quantile_0.25\", \"eval_fairness_gro...      217.500569   \n",
       "0  {\"cutoff\": \"quantile_0.25\", \"eval_fairness_gro...      217.500569   \n",
       "\n",
       "   test_size_n  test_size_frac  fair_main_equalized_odds_difference  \\\n",
       "0        89710             1.0                             0.094673   \n",
       "0        89710             1.0                             0.094673   \n",
       "0        89710             1.0                             0.203311   \n",
       "0        89710             1.0                             0.203311   \n",
       "\n",
       "   fair_main_equalized_odds_ratio  fair_main_demographic_parity_difference  \\\n",
       "0                        0.901601                                 0.084106   \n",
       "0                        0.901601                                 0.084106   \n",
       "0                        0.769651                                 0.179964   \n",
       "0                        0.769651                                 0.179964   \n",
       "\n",
       "   fair_main_demographic_parity_ratio  ...  perf_grp_precision_0  \\\n",
       "0                             0.91283  ...                   NaN   \n",
       "0                             0.91283  ...              0.117772   \n",
       "0                             0.79751  ...                   NaN   \n",
       "0                             0.79751  ...              0.121391   \n",
       "\n",
       "   perf_grp_precision_1  perf_grp_false positive rate_0  \\\n",
       "0                   NaN                             NaN   \n",
       "0              0.145221                        0.962140   \n",
       "0                   NaN                             NaN   \n",
       "0              0.168234                        0.882622   \n",
       "\n",
       "   perf_grp_false positive rate_1  perf_grp_false negative rate_0  \\\n",
       "0                             NaN                             NaN   \n",
       "0                        0.867466                        0.014358   \n",
       "0                             NaN                             NaN   \n",
       "0                        0.679310                        0.064189   \n",
       "\n",
       "   perf_grp_false negative rate_1  perf_grp_selection rate_0  \\\n",
       "0                             NaN                        NaN   \n",
       "0                        0.032057                   0.964849   \n",
       "0                             NaN                        NaN   \n",
       "0                        0.097593                   0.888754   \n",
       "\n",
       "   perf_grp_selection rate_1  perf_grp_count_0  perf_grp_count_1  \n",
       "0                        NaN               NaN               NaN  \n",
       "0                   0.880743           20540.0           69170.0  \n",
       "0                        NaN               NaN               NaN  \n",
       "0                   0.708790           20540.0           69170.0  \n",
       "\n",
       "[4 rows x 50 columns]"
      ]
     },
     "execution_count": 62,
     "metadata": {},
     "output_type": "execute_result"
    }
   ],
   "source": [
    "final_output = universe_analysis.generate_final_output(\n",
    "    y_pred_prob=probs_test,\n",
    "    y_test=y_true,\n",
    "    org_test=org_test,\n",
    "    filter_data=filter_sub_universe_data,\n",
    "    cp_metrics_df=cp_metrics_df,\n",
    "    save=True,\n",
    ")\n",
    "final_output"
   ]
  },
  {
   "cell_type": "code",
   "execution_count": null,
   "id": "721ff514-cb11-46f8-b6fc-50392f74b5cb",
   "metadata": {
    "papermill": {
     "duration": 0.013219,
     "end_time": "2025-07-22T10:17:22.583862",
     "exception": false,
     "start_time": "2025-07-22T10:17:22.570643",
     "status": "completed"
    },
    "tags": []
   },
   "outputs": [],
   "source": []
  }
 ],
 "metadata": {
  "celltoolbar": "Tags",
  "kernelspec": {
   "display_name": "Python (CMA Fairness)",
   "language": "python",
   "name": "cma_fair_env"
  },
  "language_info": {
   "codemirror_mode": {
    "name": "ipython",
    "version": 3
   },
   "file_extension": ".py",
   "mimetype": "text/x-python",
   "name": "python",
   "nbconvert_exporter": "python",
   "pygments_lexer": "ipython3",
   "version": "3.10.12"
  },
  "papermill": {
   "default_parameters": {},
   "duration": 233.289339,
   "end_time": "2025-07-22T10:17:23.214458",
   "environment_variables": {},
   "exception": null,
   "input_path": "universe_analysis.ipynb",
   "output_path": "output/runs/4/notebooks/m_4-6e91c12da9e1c9fbd8da7a1ad6dc5943.ipynb",
   "parameters": {
    "output_dir": "output",
    "run_no": "4",
    "seed": "2023",
    "universe": "{\"cutoff\": [\"quantile_0.1\", \"quantile_0.25\"], \"eval_fairness_grouping\": [\"majority-minority\", \"nationality-all\"], \"exclude_features\": \"nationality\", \"exclude_subgroups\": \"keep-all\", \"model\": \"elasticnet\", \"scale\": \"do-not-scale\"}",
    "universe_id": "6e91c12da9e1c9fbd8da7a1ad6dc5943"
   },
   "start_time": "2025-07-22T10:13:29.925119",
   "version": "2.6.0"
  }
 },
 "nbformat": 4,
 "nbformat_minor": 5
}