{
 "cells": [
  {
   "cell_type": "code",
   "execution_count": 1,
   "id": "f159f837-637b-42ba-96b5-ec9a68c44524",
   "metadata": {
    "execution": {
     "iopub.execute_input": "2025-07-22T10:12:07.603893Z",
     "iopub.status.busy": "2025-07-22T10:12:07.603098Z",
     "iopub.status.idle": "2025-07-22T10:12:07.616988Z",
     "shell.execute_reply": "2025-07-22T10:12:07.615979Z"
    },
    "papermill": {
     "duration": 0.032997,
     "end_time": "2025-07-22T10:12:07.618775",
     "exception": false,
     "start_time": "2025-07-22T10:12:07.585778",
     "status": "completed"
    },
    "tags": []
   },
   "outputs": [
    {
     "name": "stdout",
     "output_type": "stream",
     "text": [
      "/dss/dsshome1/0C/ra93lal2/cma/CMA_Fairness_v2\n"
     ]
    },
    {
     "name": "stderr",
     "output_type": "stream",
     "text": [
      "/dss/dsshome1/0C/ra93lal2/.local/share/virtualenvs/CMA_Fairness_v2-3j10GkSs/lib/python3.10/site-packages/IPython/core/magics/osm.py:393: UserWarning: This is now an optional IPython functionality, using bookmarks requires you to install the `pickleshare` library.\n",
      "  bkms = self.shell.db.get('bookmarks', {})\n",
      "/dss/dsshome1/0C/ra93lal2/.local/share/virtualenvs/CMA_Fairness_v2-3j10GkSs/lib/python3.10/site-packages/IPython/core/magics/osm.py:417: UserWarning: This is now an optional IPython functionality, setting dhist requires you to install the `pickleshare` library.\n",
      "  self.shell.db['dhist'] = compress_dhist(dhist)[-100:]\n"
     ]
    }
   ],
   "source": [
    "%cd ~/cma/CMA_Fairness_v2"
   ]
  },
  {
   "cell_type": "markdown",
   "id": "de2603b9",
   "metadata": {
    "papermill": {
     "duration": 0.015719,
     "end_time": "2025-07-22T10:12:07.650322",
     "exception": false,
     "start_time": "2025-07-22T10:12:07.634603",
     "status": "completed"
    },
    "tags": []
   },
   "source": [
    "The following cell holds the definition of our parameters, these values can be overriden by rendering the with e.g. the following command:\n",
    "\n",
    "papermill -p alpha 0.2 -p ratio 0.3 universe_analysis.ipynb output/test_run.ipynb"
   ]
  },
  {
   "cell_type": "code",
   "execution_count": 2,
   "id": "a80968a0-40bb-4fa9-85ef-2d5eefb01975",
   "metadata": {
    "execution": {
     "iopub.execute_input": "2025-07-22T10:12:07.682646Z",
     "iopub.status.busy": "2025-07-22T10:12:07.681996Z",
     "iopub.status.idle": "2025-07-22T10:12:07.688021Z",
     "shell.execute_reply": "2025-07-22T10:12:07.686871Z"
    },
    "papermill": {
     "duration": 0.024013,
     "end_time": "2025-07-22T10:12:07.689847",
     "exception": false,
     "start_time": "2025-07-22T10:12:07.665834",
     "status": "completed"
    },
    "tags": []
   },
   "outputs": [
    {
     "name": "stdout",
     "output_type": "stream",
     "text": [
      "Current working directory: /dss/dsshome1/0C/ra93lal2/cma/CMA_Fairness_v2\n"
     ]
    }
   ],
   "source": [
    "import os\n",
    "print(\"Current working directory:\", os.getcwd())"
   ]
  },
  {
   "cell_type": "code",
   "execution_count": 3,
   "id": "2dce4c03",
   "metadata": {
    "execution": {
     "iopub.execute_input": "2025-07-22T10:12:07.724618Z",
     "iopub.status.busy": "2025-07-22T10:12:07.723931Z",
     "iopub.status.idle": "2025-07-22T10:12:07.730033Z",
     "shell.execute_reply": "2025-07-22T10:12:07.728770Z"
    },
    "papermill": {
     "duration": 0.024449,
     "end_time": "2025-07-22T10:12:07.731930",
     "exception": false,
     "start_time": "2025-07-22T10:12:07.707481",
     "status": "completed"
    },
    "tags": [
     "parameters"
    ]
   },
   "outputs": [],
   "source": [
    "run_no = 0\n",
    "universe_id = \"test\"\n",
    "universe = {\n",
    "    \"scale\": \"scale\", # \"scale\", \"do-not-scale\",\n",
    "    #\"encode_categorical\": \"one-hot\", # \"ordinal\", \"one-hot\"\n",
    "    \"model\": \"elasticnet\", # \"logreg\", \"penalized_logreg\", \"rf\", \"gbm\", \"elasticnet\"\n",
    "    \"cutoff\": [\"quantile_0.15\", \"quantile_0.30\"],\n",
    "    \"exclude_features\": \"nationality-sex\", # \"none\", \"nationality\", \"sex\", \"nationality-sex\"\n",
    "    \"exclude_subgroups\": \"keep-all\", # \"keep-all\", \"drop-non-german\"\n",
    "    \"eval_fairness_grouping\": [\"majority-minority\", \"nationality-all\"]\n",
    "}\n",
    "\n",
    "output_dir=\"./output\"\n",
    "seed=0"
   ]
  },
  {
   "cell_type": "code",
   "execution_count": 4,
   "id": "f4ef78d7",
   "metadata": {
    "execution": {
     "iopub.execute_input": "2025-07-22T10:12:07.765864Z",
     "iopub.status.busy": "2025-07-22T10:12:07.765303Z",
     "iopub.status.idle": "2025-07-22T10:12:07.770669Z",
     "shell.execute_reply": "2025-07-22T10:12:07.769679Z"
    },
    "papermill": {
     "duration": 0.023786,
     "end_time": "2025-07-22T10:12:07.772552",
     "exception": false,
     "start_time": "2025-07-22T10:12:07.748766",
     "status": "completed"
    },
    "tags": [
     "injected-parameters"
    ]
   },
   "outputs": [],
   "source": [
    "# Parameters\n",
    "universe_id = \"93c0c510ceb3dda2204b4f94066cae0a\"\n",
    "run_no = \"4\"\n",
    "universe = \"{\\\"cutoff\\\": [\\\"quantile_0.1\\\", \\\"quantile_0.25\\\"], \\\"eval_fairness_grouping\\\": [\\\"majority-minority\\\", \\\"nationality-all\\\"], \\\"exclude_features\\\": \\\"nationality-sex\\\", \\\"exclude_subgroups\\\": \\\"keep-all\\\", \\\"model\\\": \\\"rf\\\", \\\"scale\\\": \\\"do-not-scale\\\"}\"\n",
    "output_dir = \"output\"\n",
    "seed = \"2023\"\n"
   ]
  },
  {
   "cell_type": "code",
   "execution_count": 5,
   "id": "1650acaf",
   "metadata": {
    "execution": {
     "iopub.execute_input": "2025-07-22T10:12:07.809166Z",
     "iopub.status.busy": "2025-07-22T10:12:07.808345Z",
     "iopub.status.idle": "2025-07-22T10:12:07.814216Z",
     "shell.execute_reply": "2025-07-22T10:12:07.813115Z"
    },
    "papermill": {
     "duration": 0.026215,
     "end_time": "2025-07-22T10:12:07.816074",
     "exception": false,
     "start_time": "2025-07-22T10:12:07.789859",
     "status": "completed"
    },
    "tags": []
   },
   "outputs": [],
   "source": [
    "import json\n",
    "# Parse universe into dict if it is passed as a string\n",
    "if isinstance(universe, str):\n",
    "    universe = json.loads(universe)"
   ]
  },
  {
   "cell_type": "code",
   "execution_count": 6,
   "id": "16620c48",
   "metadata": {
    "execution": {
     "iopub.execute_input": "2025-07-22T10:12:07.853869Z",
     "iopub.status.busy": "2025-07-22T10:12:07.852920Z",
     "iopub.status.idle": "2025-07-22T10:12:07.901587Z",
     "shell.execute_reply": "2025-07-22T10:12:07.900640Z"
    },
    "papermill": {
     "duration": 0.068163,
     "end_time": "2025-07-22T10:12:07.903380",
     "exception": false,
     "start_time": "2025-07-22T10:12:07.835217",
     "status": "completed"
    },
    "tags": []
   },
   "outputs": [],
   "source": [
    "# Auto-reload the custom package\n",
    "%load_ext autoreload\n",
    "%autoreload 1\n",
    "%aimport fairness_multiverse"
   ]
  },
  {
   "cell_type": "code",
   "execution_count": 7,
   "id": "01c5c9f3",
   "metadata": {
    "execution": {
     "iopub.execute_input": "2025-07-22T10:12:07.937610Z",
     "iopub.status.busy": "2025-07-22T10:12:07.937045Z",
     "iopub.status.idle": "2025-07-22T10:12:10.817997Z",
     "shell.execute_reply": "2025-07-22T10:12:10.816697Z"
    },
    "papermill": {
     "duration": 2.899843,
     "end_time": "2025-07-22T10:12:10.820125",
     "exception": false,
     "start_time": "2025-07-22T10:12:07.920282",
     "status": "completed"
    },
    "tags": []
   },
   "outputs": [],
   "source": [
    "from fairness_multiverse.universe import UniverseAnalysis\n",
    "\n",
    "universe_analysis = UniverseAnalysis(\n",
    "    run_no = run_no,\n",
    "    universe_id = universe_id,\n",
    "    universe = universe,\n",
    "    output_dir=output_dir,\n",
    ")"
   ]
  },
  {
   "cell_type": "code",
   "execution_count": 8,
   "id": "106241f5",
   "metadata": {
    "execution": {
     "iopub.execute_input": "2025-07-22T10:12:10.862944Z",
     "iopub.status.busy": "2025-07-22T10:12:10.862288Z",
     "iopub.status.idle": "2025-07-22T10:12:10.869939Z",
     "shell.execute_reply": "2025-07-22T10:12:10.868652Z"
    },
    "papermill": {
     "duration": 0.031543,
     "end_time": "2025-07-22T10:12:10.872631",
     "exception": false,
     "start_time": "2025-07-22T10:12:10.841088",
     "status": "completed"
    },
    "tags": []
   },
   "outputs": [
    {
     "name": "stdout",
     "output_type": "stream",
     "text": [
      "Using Seed: 2023\n"
     ]
    }
   ],
   "source": [
    "import numpy as np\n",
    "parsed_seed = int(seed)\n",
    "np.random.seed(parsed_seed)\n",
    "print(f\"Using Seed: {parsed_seed}\")"
   ]
  },
  {
   "cell_type": "markdown",
   "id": "e0ebdc57",
   "metadata": {
    "papermill": {
     "duration": 0.020522,
     "end_time": "2025-07-22T10:12:10.914481",
     "exception": false,
     "start_time": "2025-07-22T10:12:10.893959",
     "status": "completed"
    },
    "tags": []
   },
   "source": [
    "# Loading Data"
   ]
  },
  {
   "cell_type": "markdown",
   "id": "681925a3",
   "metadata": {
    "papermill": {
     "duration": 0.022506,
     "end_time": "2025-07-22T10:12:10.958331",
     "exception": false,
     "start_time": "2025-07-22T10:12:10.935825",
     "status": "completed"
    },
    "tags": []
   },
   "source": [
    "Load siab_train, siab_test, siab_calib and/or \n",
    "load siab_train_features, siab_train_labels"
   ]
  },
  {
   "cell_type": "code",
   "execution_count": 9,
   "id": "f0496b8a",
   "metadata": {
    "execution": {
     "iopub.execute_input": "2025-07-22T10:12:11.003835Z",
     "iopub.status.busy": "2025-07-22T10:12:11.003241Z",
     "iopub.status.idle": "2025-07-22T10:12:11.010334Z",
     "shell.execute_reply": "2025-07-22T10:12:11.009161Z"
    },
    "papermill": {
     "duration": 0.033087,
     "end_time": "2025-07-22T10:12:11.012343",
     "exception": false,
     "start_time": "2025-07-22T10:12:10.979256",
     "status": "completed"
    },
    "tags": []
   },
   "outputs": [],
   "source": [
    "# Do I need to load siab? Delete this cell?\n",
    "\n",
    "#from pathlib import Path\n",
    "#import pandas as pd\n",
    "#\n",
    "## File paths\n",
    "#raw_file = Path(\"data/raw/siab.csv\")\n",
    "#cache_file = Path(\"data/siab_cached.csv.gz\")\n",
    "#\n",
    "## Ensure cache directory exists\n",
    "#cache_file.parent.mkdir(parents=True, exist_ok=True)\n",
    "#\n",
    "## Load with simple caching\n",
    "#if cache_file.exists():\n",
    "#    print(f\"Loading SIAB data from cache: {cache_file}\")\n",
    "#    siab = pd.read_csv(cache_file, compression='gzip')\n",
    "#else:\n",
    "#    print(f\"Cache not found. Reading raw SIAB data: {raw_file}\")\n",
    "#    siab = pd.read_csv(raw_file)\n",
    "#    siab.to_csv(cache_file, index=False, compression='gzip')\n",
    "#    print(f\"Cached SIAB data to: {cache_file}\")\n",
    "#\n",
    "## Now use `siab` DataFrame as needed\n",
    "#print(siab.shape)\n"
   ]
  },
  {
   "cell_type": "code",
   "execution_count": 10,
   "id": "a0edb063",
   "metadata": {
    "execution": {
     "iopub.execute_input": "2025-07-22T10:12:11.057147Z",
     "iopub.status.busy": "2025-07-22T10:12:11.056425Z",
     "iopub.status.idle": "2025-07-22T10:12:11.508140Z",
     "shell.execute_reply": "2025-07-22T10:12:11.507118Z"
    },
    "papermill": {
     "duration": 0.475727,
     "end_time": "2025-07-22T10:12:11.510210",
     "exception": false,
     "start_time": "2025-07-22T10:12:11.034483",
     "status": "completed"
    },
    "tags": []
   },
   "outputs": [],
   "source": [
    "import pandas as pd\n",
    "\n",
    "X_train = pd.read_csv(\"./data/X_train.csv\")\n",
    "y_train = pd.read_csv(\"./data/y_train.csv\")"
   ]
  },
  {
   "cell_type": "code",
   "execution_count": 11,
   "id": "63d08085",
   "metadata": {
    "execution": {
     "iopub.execute_input": "2025-07-22T10:12:11.546628Z",
     "iopub.status.busy": "2025-07-22T10:12:11.545957Z",
     "iopub.status.idle": "2025-07-22T10:12:13.031321Z",
     "shell.execute_reply": "2025-07-22T10:12:13.030183Z"
    },
    "papermill": {
     "duration": 1.506222,
     "end_time": "2025-07-22T10:12:13.033129",
     "exception": false,
     "start_time": "2025-07-22T10:12:11.526907",
     "status": "completed"
    },
    "tags": []
   },
   "outputs": [],
   "source": [
    "X_test = pd.read_csv(\"./data/X_test.csv\")\n",
    "y_true = pd.read_csv(\"./data/y_test.csv\")"
   ]
  },
  {
   "cell_type": "code",
   "execution_count": 12,
   "id": "98a8d0fa-1d3d-4ed8-bb2c-281470e24add",
   "metadata": {
    "execution": {
     "iopub.execute_input": "2025-07-22T10:12:13.057001Z",
     "iopub.status.busy": "2025-07-22T10:12:13.056507Z",
     "iopub.status.idle": "2025-07-22T10:12:14.617878Z",
     "shell.execute_reply": "2025-07-22T10:12:14.616878Z"
    },
    "papermill": {
     "duration": 1.575136,
     "end_time": "2025-07-22T10:12:14.619513",
     "exception": false,
     "start_time": "2025-07-22T10:12:13.044377",
     "status": "completed"
    },
    "tags": []
   },
   "outputs": [],
   "source": [
    "# Calibration data for conformal\n",
    "X_calib = pd.read_csv(\"./data/X_calib.csv\")\n",
    "y_calib = pd.read_csv(\"./data/y_calib.csv\")"
   ]
  },
  {
   "cell_type": "code",
   "execution_count": 13,
   "id": "e6c733c5",
   "metadata": {
    "execution": {
     "iopub.execute_input": "2025-07-22T10:12:14.641298Z",
     "iopub.status.busy": "2025-07-22T10:12:14.640865Z",
     "iopub.status.idle": "2025-07-22T10:12:14.747782Z",
     "shell.execute_reply": "2025-07-22T10:12:14.746942Z"
    },
    "papermill": {
     "duration": 0.118564,
     "end_time": "2025-07-22T10:12:14.749746",
     "exception": false,
     "start_time": "2025-07-22T10:12:14.631182",
     "status": "completed"
    },
    "tags": []
   },
   "outputs": [],
   "source": [
    "# Auxiliary data needed downstream in the pipeline\n",
    "\n",
    "org_train = X_train.copy()\n",
    "org_test = X_test.copy()\n",
    "org_calib = X_calib.copy()"
   ]
  },
  {
   "cell_type": "markdown",
   "id": "0a4a1b33",
   "metadata": {
    "papermill": {
     "duration": 0.009837,
     "end_time": "2025-07-22T10:12:14.769684",
     "exception": false,
     "start_time": "2025-07-22T10:12:14.759847",
     "status": "completed"
    },
    "tags": []
   },
   "source": [
    "# Preprocessing Data"
   ]
  },
  {
   "cell_type": "code",
   "execution_count": 14,
   "id": "ca879031",
   "metadata": {
    "execution": {
     "iopub.execute_input": "2025-07-22T10:12:14.789343Z",
     "iopub.status.busy": "2025-07-22T10:12:14.788711Z",
     "iopub.status.idle": "2025-07-22T10:12:14.794749Z",
     "shell.execute_reply": "2025-07-22T10:12:14.793653Z"
    },
    "papermill": {
     "duration": 0.017703,
     "end_time": "2025-07-22T10:12:14.796362",
     "exception": false,
     "start_time": "2025-07-22T10:12:14.778659",
     "status": "completed"
    },
    "tags": []
   },
   "outputs": [],
   "source": [
    "# EXCLUDE PROTECTED FEATURES\n",
    "# ----------------------\n",
    "# \"exclude_features\": \"none\", # \"nationality\", \"sex\", \"nationality-sex\"\n",
    "\n",
    "excluded_features = universe[\"exclude_features\"].split(\"-\") # split, e.g.: \"nationality-sex\" -> [\"nationality\", \"sex\"]\n",
    "excluded_features_dictionary = {\n",
    "    \"nationality\": [\"maxdeutsch1\", \"maxdeutsch.Missing.\"],\n",
    "    \"sex\": [\"frau1\"],\n",
    "}\n"
   ]
  },
  {
   "cell_type": "code",
   "execution_count": 15,
   "id": "b745ac60",
   "metadata": {
    "execution": {
     "iopub.execute_input": "2025-07-22T10:12:14.835813Z",
     "iopub.status.busy": "2025-07-22T10:12:14.835257Z",
     "iopub.status.idle": "2025-07-22T10:12:14.841417Z",
     "shell.execute_reply": "2025-07-22T10:12:14.840250Z"
    },
    "papermill": {
     "duration": 0.027326,
     "end_time": "2025-07-22T10:12:14.843448",
     "exception": false,
     "start_time": "2025-07-22T10:12:14.816122",
     "status": "completed"
    },
    "tags": []
   },
   "outputs": [],
   "source": [
    "# Code nice names to column names\n",
    "\n",
    "excluded_features_columns = [\n",
    "    excluded_features_dictionary[f] for f in excluded_features if len(f) > 0 and f != \"none\"\n",
    "]"
   ]
  },
  {
   "cell_type": "code",
   "execution_count": 16,
   "id": "f84f73a2",
   "metadata": {
    "execution": {
     "iopub.execute_input": "2025-07-22T10:12:14.880822Z",
     "iopub.status.busy": "2025-07-22T10:12:14.879952Z",
     "iopub.status.idle": "2025-07-22T10:12:14.887615Z",
     "shell.execute_reply": "2025-07-22T10:12:14.886494Z"
    },
    "papermill": {
     "duration": 0.027202,
     "end_time": "2025-07-22T10:12:14.889722",
     "exception": false,
     "start_time": "2025-07-22T10:12:14.862520",
     "status": "completed"
    },
    "tags": []
   },
   "outputs": [],
   "source": [
    "from utils import flatten_once\n",
    "\n",
    "excluded_features_columns = flatten_once(excluded_features_columns)"
   ]
  },
  {
   "cell_type": "code",
   "execution_count": 17,
   "id": "884dea22",
   "metadata": {
    "execution": {
     "iopub.execute_input": "2025-07-22T10:12:14.926344Z",
     "iopub.status.busy": "2025-07-22T10:12:14.925885Z",
     "iopub.status.idle": "2025-07-22T10:12:14.942856Z",
     "shell.execute_reply": "2025-07-22T10:12:14.941820Z"
    },
    "papermill": {
     "duration": 0.037336,
     "end_time": "2025-07-22T10:12:14.945108",
     "exception": false,
     "start_time": "2025-07-22T10:12:14.907772",
     "status": "completed"
    },
    "tags": []
   },
   "outputs": [
    {
     "name": "stdout",
     "output_type": "stream",
     "text": [
      "Dropping features: ['maxdeutsch1', 'maxdeutsch.Missing.', 'frau1']\n"
     ]
    }
   ],
   "source": [
    "if len(excluded_features_columns) > 0:\n",
    "    print(f\"Dropping features: {excluded_features_columns}\")\n",
    "    X_train.drop(excluded_features_columns, axis=1, inplace=True)"
   ]
  },
  {
   "cell_type": "code",
   "execution_count": 18,
   "id": "95ab8b16",
   "metadata": {
    "execution": {
     "iopub.execute_input": "2025-07-22T10:12:14.984451Z",
     "iopub.status.busy": "2025-07-22T10:12:14.983836Z",
     "iopub.status.idle": "2025-07-22T10:12:15.045932Z",
     "shell.execute_reply": "2025-07-22T10:12:15.044548Z"
    },
    "papermill": {
     "duration": 0.082923,
     "end_time": "2025-07-22T10:12:15.047997",
     "exception": false,
     "start_time": "2025-07-22T10:12:14.965074",
     "status": "completed"
    },
    "tags": []
   },
   "outputs": [
    {
     "name": "stdout",
     "output_type": "stream",
     "text": [
      "Dropping features: ['maxdeutsch1', 'maxdeutsch.Missing.', 'frau1']\n"
     ]
    }
   ],
   "source": [
    "if len(excluded_features_columns) > 0:\n",
    "    print(f\"Dropping features: {excluded_features_columns}\")\n",
    "    X_test.drop(excluded_features_columns, axis=1, inplace=True)"
   ]
  },
  {
   "cell_type": "code",
   "execution_count": 19,
   "id": "1853aaf5-fb9f-46cb-a2b5-8ea4ae2237e4",
   "metadata": {
    "execution": {
     "iopub.execute_input": "2025-07-22T10:12:15.089467Z",
     "iopub.status.busy": "2025-07-22T10:12:15.088482Z",
     "iopub.status.idle": "2025-07-22T10:12:15.151775Z",
     "shell.execute_reply": "2025-07-22T10:12:15.150841Z"
    },
    "papermill": {
     "duration": 0.085594,
     "end_time": "2025-07-22T10:12:15.153549",
     "exception": false,
     "start_time": "2025-07-22T10:12:15.067955",
     "status": "completed"
    },
    "tags": []
   },
   "outputs": [
    {
     "name": "stdout",
     "output_type": "stream",
     "text": [
      "Dropping features: ['maxdeutsch1', 'maxdeutsch.Missing.', 'frau1']\n"
     ]
    }
   ],
   "source": [
    "if len(excluded_features_columns) > 0:\n",
    "    print(f\"Dropping features: {excluded_features_columns}\")\n",
    "    X_calib.drop(excluded_features_columns, axis=1, inplace=True)"
   ]
  },
  {
   "cell_type": "code",
   "execution_count": 20,
   "id": "76c4dc6d",
   "metadata": {
    "execution": {
     "iopub.execute_input": "2025-07-22T10:12:15.193529Z",
     "iopub.status.busy": "2025-07-22T10:12:15.192653Z",
     "iopub.status.idle": "2025-07-22T10:12:15.198265Z",
     "shell.execute_reply": "2025-07-22T10:12:15.197214Z"
    },
    "papermill": {
     "duration": 0.026877,
     "end_time": "2025-07-22T10:12:15.200114",
     "exception": false,
     "start_time": "2025-07-22T10:12:15.173237",
     "status": "completed"
    },
    "tags": []
   },
   "outputs": [],
   "source": [
    "# EXCLUDE CERTAIN SUBGROUPS\n",
    "# ----------------------\n",
    "\n",
    "mode = universe.get(\"exclude_subgroups\", \"keep-all\") \n",
    "# Fetches the exclude_subgroups setting from the universe dict.\n",
    "# Defaults to \"keep-all\" if the key is missing."
   ]
  },
  {
   "cell_type": "code",
   "execution_count": 21,
   "id": "21994072",
   "metadata": {
    "execution": {
     "iopub.execute_input": "2025-07-22T10:12:15.240214Z",
     "iopub.status.busy": "2025-07-22T10:12:15.239756Z",
     "iopub.status.idle": "2025-07-22T10:12:15.247129Z",
     "shell.execute_reply": "2025-07-22T10:12:15.246038Z"
    },
    "papermill": {
     "duration": 0.030904,
     "end_time": "2025-07-22T10:12:15.249394",
     "exception": false,
     "start_time": "2025-07-22T10:12:15.218490",
     "status": "completed"
    },
    "tags": []
   },
   "outputs": [],
   "source": [
    "if mode == \"keep-all\":\n",
    "    keep_mask = pd.Series(True, index=org_train.index)\n",
    "\n",
    "# org_train contains the original feature columns from features_org (in Simson)\n",
    "# features_org contains unprocessed features, for me X_train at beginning ???\n",
    "# For keep-all, creates a boolean Series (keep_mask) of all True, so no rows are removed.\n",
    "\n",
    "elif mode == \"drop-non-german\":\n",
    "    keep_mask = org_train[\"maxdeutsch1\"] == 1 # ??? what about missing values?\n",
    "\n",
    "else:\n",
    "    raise ValueError(f\"Unsupported mode for exclude_subgroups: {mode}\")\n"
   ]
  },
  {
   "cell_type": "code",
   "execution_count": 22,
   "id": "71651440",
   "metadata": {
    "execution": {
     "iopub.execute_input": "2025-07-22T10:12:15.288622Z",
     "iopub.status.busy": "2025-07-22T10:12:15.288074Z",
     "iopub.status.idle": "2025-07-22T10:12:15.295204Z",
     "shell.execute_reply": "2025-07-22T10:12:15.294154Z"
    },
    "papermill": {
     "duration": 0.027774,
     "end_time": "2025-07-22T10:12:15.297175",
     "exception": false,
     "start_time": "2025-07-22T10:12:15.269401",
     "status": "completed"
    },
    "tags": []
   },
   "outputs": [],
   "source": [
    "n_drop = (~keep_mask).sum() # Calculates how many rows are set to be dropped\n",
    "if n_drop > 0:\n",
    "    pct = n_drop / len(keep_mask) * 100\n",
    "    print(f\"Dropping {n_drop} rows ({pct:.2f}%) where mode='{mode}'\")"
   ]
  },
  {
   "cell_type": "code",
   "execution_count": 23,
   "id": "5fb8eee5",
   "metadata": {
    "execution": {
     "iopub.execute_input": "2025-07-22T10:12:15.335451Z",
     "iopub.status.busy": "2025-07-22T10:12:15.334662Z",
     "iopub.status.idle": "2025-07-22T10:12:15.361057Z",
     "shell.execute_reply": "2025-07-22T10:12:15.359813Z"
    },
    "papermill": {
     "duration": 0.047657,
     "end_time": "2025-07-22T10:12:15.363520",
     "exception": false,
     "start_time": "2025-07-22T10:12:15.315863",
     "status": "completed"
    },
    "tags": []
   },
   "outputs": [],
   "source": [
    "X_train = X_train[keep_mask]"
   ]
  },
  {
   "cell_type": "code",
   "execution_count": 24,
   "id": "b202bb3a",
   "metadata": {
    "execution": {
     "iopub.execute_input": "2025-07-22T10:12:15.405169Z",
     "iopub.status.busy": "2025-07-22T10:12:15.404061Z",
     "iopub.status.idle": "2025-07-22T10:12:15.411944Z",
     "shell.execute_reply": "2025-07-22T10:12:15.410931Z"
    },
    "papermill": {
     "duration": 0.02964,
     "end_time": "2025-07-22T10:12:15.413927",
     "exception": false,
     "start_time": "2025-07-22T10:12:15.384287",
     "status": "completed"
    },
    "tags": []
   },
   "outputs": [],
   "source": [
    "y_train = y_train[keep_mask]"
   ]
  },
  {
   "cell_type": "markdown",
   "id": "493e2ac3",
   "metadata": {
    "papermill": {
     "duration": 0.017062,
     "end_time": "2025-07-22T10:12:15.450971",
     "exception": false,
     "start_time": "2025-07-22T10:12:15.433909",
     "status": "completed"
    },
    "tags": []
   },
   "source": [
    "# Model Training"
   ]
  },
  {
   "cell_type": "code",
   "execution_count": 25,
   "id": "679e1268",
   "metadata": {
    "execution": {
     "iopub.execute_input": "2025-07-22T10:12:15.487841Z",
     "iopub.status.busy": "2025-07-22T10:12:15.487371Z",
     "iopub.status.idle": "2025-07-22T10:12:15.685991Z",
     "shell.execute_reply": "2025-07-22T10:12:15.685192Z"
    },
    "papermill": {
     "duration": 0.219292,
     "end_time": "2025-07-22T10:12:15.687803",
     "exception": false,
     "start_time": "2025-07-22T10:12:15.468511",
     "status": "completed"
    },
    "tags": []
   },
   "outputs": [],
   "source": [
    "from sklearn.linear_model import LogisticRegression\n",
    "from sklearn.ensemble import GradientBoostingClassifier, RandomForestClassifier\n",
    "\n",
    "if (universe[\"model\"] == \"logreg\"):\n",
    "    model = LogisticRegression() #penalty=\"none\") #, solver=\"newton-cg\", max_iter=1) # include random_state=19 ?\n",
    "elif (universe[\"model\"] == \"penalized_logreg\"):\n",
    "    model = LogisticRegression(penalty=\"l2\", C=1.0) #, solver=\"newton-cg\", max_iter=1)\n",
    "elif (universe[\"model\"] == \"rf\"):\n",
    "    model = RandomForestClassifier(n_estimators=100, n_jobs=-1)\n",
    "elif (universe[\"model\"] == \"gbm\"):\n",
    "    model = GradientBoostingClassifier()\n",
    "elif (universe[\"model\"] == \"elasticnet\"):\n",
    "    model = LogisticRegression(penalty = 'elasticnet', solver = 'saga', l1_ratio = 0.5, max_iter=5000) # which solver to use?\n",
    "else:\n",
    "    raise \"Unsupported universe.model\""
   ]
  },
  {
   "cell_type": "code",
   "execution_count": 26,
   "id": "0cc8f744",
   "metadata": {
    "execution": {
     "iopub.execute_input": "2025-07-22T10:12:15.744026Z",
     "iopub.status.busy": "2025-07-22T10:12:15.743491Z",
     "iopub.status.idle": "2025-07-22T10:12:15.750826Z",
     "shell.execute_reply": "2025-07-22T10:12:15.749840Z"
    },
    "papermill": {
     "duration": 0.029067,
     "end_time": "2025-07-22T10:12:15.752893",
     "exception": false,
     "start_time": "2025-07-22T10:12:15.723826",
     "status": "completed"
    },
    "tags": []
   },
   "outputs": [],
   "source": [
    "import numpy as np\n",
    "from sklearn.pipeline import Pipeline\n",
    "from sklearn.preprocessing import StandardScaler\n",
    "\n",
    "model = Pipeline([\n",
    "    #(\"continuous_processor\", continuous_processor),\n",
    "    #(\"categorical_preprocessor\", categorical_preprocessor),\n",
    "    (\"scale\", StandardScaler() if universe[\"scale\"] == \"scale\" else None), \n",
    "    (\"model\", model),\n",
    "])"
   ]
  },
  {
   "cell_type": "code",
   "execution_count": 27,
   "id": "9442c04d",
   "metadata": {
    "execution": {
     "iopub.execute_input": "2025-07-22T10:12:15.795920Z",
     "iopub.status.busy": "2025-07-22T10:12:15.794909Z",
     "iopub.status.idle": "2025-07-22T10:12:19.698232Z",
     "shell.execute_reply": "2025-07-22T10:12:19.697553Z"
    },
    "papermill": {
     "duration": 3.925797,
     "end_time": "2025-07-22T10:12:19.699504",
     "exception": false,
     "start_time": "2025-07-22T10:12:15.773707",
     "status": "completed"
    },
    "tags": []
   },
   "outputs": [
    {
     "data": {
      "text/html": [
       "<style>#sk-container-id-1 {color: black;background-color: white;}#sk-container-id-1 pre{padding: 0;}#sk-container-id-1 div.sk-toggleable {background-color: white;}#sk-container-id-1 label.sk-toggleable__label {cursor: pointer;display: block;width: 100%;margin-bottom: 0;padding: 0.3em;box-sizing: border-box;text-align: center;}#sk-container-id-1 label.sk-toggleable__label-arrow:before {content: \"▸\";float: left;margin-right: 0.25em;color: #696969;}#sk-container-id-1 label.sk-toggleable__label-arrow:hover:before {color: black;}#sk-container-id-1 div.sk-estimator:hover label.sk-toggleable__label-arrow:before {color: black;}#sk-container-id-1 div.sk-toggleable__content {max-height: 0;max-width: 0;overflow: hidden;text-align: left;background-color: #f0f8ff;}#sk-container-id-1 div.sk-toggleable__content pre {margin: 0.2em;color: black;border-radius: 0.25em;background-color: #f0f8ff;}#sk-container-id-1 input.sk-toggleable__control:checked~div.sk-toggleable__content {max-height: 200px;max-width: 100%;overflow: auto;}#sk-container-id-1 input.sk-toggleable__control:checked~label.sk-toggleable__label-arrow:before {content: \"▾\";}#sk-container-id-1 div.sk-estimator input.sk-toggleable__control:checked~label.sk-toggleable__label {background-color: #d4ebff;}#sk-container-id-1 div.sk-label input.sk-toggleable__control:checked~label.sk-toggleable__label {background-color: #d4ebff;}#sk-container-id-1 input.sk-hidden--visually {border: 0;clip: rect(1px 1px 1px 1px);clip: rect(1px, 1px, 1px, 1px);height: 1px;margin: -1px;overflow: hidden;padding: 0;position: absolute;width: 1px;}#sk-container-id-1 div.sk-estimator {font-family: monospace;background-color: #f0f8ff;border: 1px dotted black;border-radius: 0.25em;box-sizing: border-box;margin-bottom: 0.5em;}#sk-container-id-1 div.sk-estimator:hover {background-color: #d4ebff;}#sk-container-id-1 div.sk-parallel-item::after {content: \"\";width: 100%;border-bottom: 1px solid gray;flex-grow: 1;}#sk-container-id-1 div.sk-label:hover label.sk-toggleable__label {background-color: #d4ebff;}#sk-container-id-1 div.sk-serial::before {content: \"\";position: absolute;border-left: 1px solid gray;box-sizing: border-box;top: 0;bottom: 0;left: 50%;z-index: 0;}#sk-container-id-1 div.sk-serial {display: flex;flex-direction: column;align-items: center;background-color: white;padding-right: 0.2em;padding-left: 0.2em;position: relative;}#sk-container-id-1 div.sk-item {position: relative;z-index: 1;}#sk-container-id-1 div.sk-parallel {display: flex;align-items: stretch;justify-content: center;background-color: white;position: relative;}#sk-container-id-1 div.sk-item::before, #sk-container-id-1 div.sk-parallel-item::before {content: \"\";position: absolute;border-left: 1px solid gray;box-sizing: border-box;top: 0;bottom: 0;left: 50%;z-index: -1;}#sk-container-id-1 div.sk-parallel-item {display: flex;flex-direction: column;z-index: 1;position: relative;background-color: white;}#sk-container-id-1 div.sk-parallel-item:first-child::after {align-self: flex-end;width: 50%;}#sk-container-id-1 div.sk-parallel-item:last-child::after {align-self: flex-start;width: 50%;}#sk-container-id-1 div.sk-parallel-item:only-child::after {width: 0;}#sk-container-id-1 div.sk-dashed-wrapped {border: 1px dashed gray;margin: 0 0.4em 0.5em 0.4em;box-sizing: border-box;padding-bottom: 0.4em;background-color: white;}#sk-container-id-1 div.sk-label label {font-family: monospace;font-weight: bold;display: inline-block;line-height: 1.2em;}#sk-container-id-1 div.sk-label-container {text-align: center;}#sk-container-id-1 div.sk-container {/* jupyter's `normalize.less` sets `[hidden] { display: none; }` but bootstrap.min.css set `[hidden] { display: none !important; }` so we also need the `!important` here to be able to override the default hidden behavior on the sphinx rendered scikit-learn.org. See: https://github.com/scikit-learn/scikit-learn/issues/21755 */display: inline-block !important;position: relative;}#sk-container-id-1 div.sk-text-repr-fallback {display: none;}</style><div id=\"sk-container-id-1\" class=\"sk-top-container\"><div class=\"sk-text-repr-fallback\"><pre>Pipeline(steps=[(&#x27;scale&#x27;, None), (&#x27;model&#x27;, RandomForestClassifier(n_jobs=-1))])</pre><b>In a Jupyter environment, please rerun this cell to show the HTML representation or trust the notebook. <br />On GitHub, the HTML representation is unable to render, please try loading this page with nbviewer.org.</b></div><div class=\"sk-container\" hidden><div class=\"sk-item sk-dashed-wrapped\"><div class=\"sk-label-container\"><div class=\"sk-label sk-toggleable\"><input class=\"sk-toggleable__control sk-hidden--visually\" id=\"sk-estimator-id-1\" type=\"checkbox\" ><label for=\"sk-estimator-id-1\" class=\"sk-toggleable__label sk-toggleable__label-arrow\">Pipeline</label><div class=\"sk-toggleable__content\"><pre>Pipeline(steps=[(&#x27;scale&#x27;, None), (&#x27;model&#x27;, RandomForestClassifier(n_jobs=-1))])</pre></div></div></div><div class=\"sk-serial\"><div class=\"sk-item\"><div class=\"sk-estimator sk-toggleable\"><input class=\"sk-toggleable__control sk-hidden--visually\" id=\"sk-estimator-id-2\" type=\"checkbox\" ><label for=\"sk-estimator-id-2\" class=\"sk-toggleable__label sk-toggleable__label-arrow\">None</label><div class=\"sk-toggleable__content\"><pre>None</pre></div></div></div><div class=\"sk-item\"><div class=\"sk-estimator sk-toggleable\"><input class=\"sk-toggleable__control sk-hidden--visually\" id=\"sk-estimator-id-3\" type=\"checkbox\" ><label for=\"sk-estimator-id-3\" class=\"sk-toggleable__label sk-toggleable__label-arrow\">RandomForestClassifier</label><div class=\"sk-toggleable__content\"><pre>RandomForestClassifier(n_jobs=-1)</pre></div></div></div></div></div></div></div>"
      ],
      "text/plain": [
       "Pipeline(steps=[('scale', None), ('model', RandomForestClassifier(n_jobs=-1))])"
      ]
     },
     "execution_count": 27,
     "metadata": {},
     "output_type": "execute_result"
    }
   ],
   "source": [
    "model.fit(X_train, y_train.values.ravel())"
   ]
  },
  {
   "cell_type": "code",
   "execution_count": 28,
   "id": "af59f8c0",
   "metadata": {
    "execution": {
     "iopub.execute_input": "2025-07-22T10:12:19.724352Z",
     "iopub.status.busy": "2025-07-22T10:12:19.723861Z",
     "iopub.status.idle": "2025-07-22T10:12:19.729130Z",
     "shell.execute_reply": "2025-07-22T10:12:19.728079Z"
    },
    "papermill": {
     "duration": 0.017632,
     "end_time": "2025-07-22T10:12:19.730476",
     "exception": false,
     "start_time": "2025-07-22T10:12:19.712844",
     "status": "completed"
    },
    "tags": []
   },
   "outputs": [],
   "source": [
    "from fairness_multiverse.universe import predict_w_threshold"
   ]
  },
  {
   "cell_type": "code",
   "execution_count": 29,
   "id": "a7cf2e16",
   "metadata": {
    "execution": {
     "iopub.execute_input": "2025-07-22T10:12:19.754344Z",
     "iopub.status.busy": "2025-07-22T10:12:19.753721Z",
     "iopub.status.idle": "2025-07-22T10:12:21.009475Z",
     "shell.execute_reply": "2025-07-22T10:12:21.007939Z"
    },
    "papermill": {
     "duration": 1.268399,
     "end_time": "2025-07-22T10:12:21.011260",
     "exception": false,
     "start_time": "2025-07-22T10:12:19.742861",
     "status": "completed"
    },
    "tags": []
   },
   "outputs": [
    {
     "data": {
      "text/plain": [
       "0.8654553561475866"
      ]
     },
     "execution_count": 29,
     "metadata": {},
     "output_type": "execute_result"
    }
   ],
   "source": [
    "probs_test = model.predict_proba(X_test)\n",
    "\n",
    "'''\n",
    "Below code returns a boolean array (or binary 0/1 array depending on how it’s used) where each element \n",
    "is True if the probability of class 1 is greater than or equal to the threshold, and False otherwise.\n",
    "'''\n",
    "y_pred_default = predict_w_threshold(probs_test, 0.5)\n",
    "\n",
    "from sklearn.metrics import accuracy_score\n",
    "\n",
    "# Naive prediction\n",
    "accuracy_score(y_true = y_true, y_pred = y_pred_default)"
   ]
  },
  {
   "cell_type": "code",
   "execution_count": 30,
   "id": "081964c3",
   "metadata": {
    "execution": {
     "iopub.execute_input": "2025-07-22T10:12:21.053380Z",
     "iopub.status.busy": "2025-07-22T10:12:21.052829Z",
     "iopub.status.idle": "2025-07-22T10:12:22.145764Z",
     "shell.execute_reply": "2025-07-22T10:12:22.144818Z"
    },
    "papermill": {
     "duration": 1.117317,
     "end_time": "2025-07-22T10:12:22.147586",
     "exception": false,
     "start_time": "2025-07-22T10:12:21.030269",
     "status": "completed"
    },
    "tags": []
   },
   "outputs": [
    {
     "data": {
      "text/plain": [
       "array([0, 0, 0, ..., 0, 0, 0])"
      ]
     },
     "execution_count": 30,
     "metadata": {},
     "output_type": "execute_result"
    }
   ],
   "source": [
    "model.predict(X_test)"
   ]
  },
  {
   "cell_type": "markdown",
   "id": "56c9705b",
   "metadata": {
    "papermill": {
     "duration": 0.080066,
     "end_time": "2025-07-22T10:12:22.297979",
     "exception": false,
     "start_time": "2025-07-22T10:12:22.217913",
     "status": "completed"
    },
    "tags": []
   },
   "source": [
    "# Conformal Prediction"
   ]
  },
  {
   "cell_type": "code",
   "execution_count": 31,
   "id": "97cb0abb-9ba7-4cd9-96c4-aa4728b38a5f",
   "metadata": {
    "execution": {
     "iopub.execute_input": "2025-07-22T10:12:22.399527Z",
     "iopub.status.busy": "2025-07-22T10:12:22.399106Z",
     "iopub.status.idle": "2025-07-22T10:12:22.404732Z",
     "shell.execute_reply": "2025-07-22T10:12:22.403701Z"
    },
    "papermill": {
     "duration": 0.049517,
     "end_time": "2025-07-22T10:12:22.406985",
     "exception": false,
     "start_time": "2025-07-22T10:12:22.357468",
     "status": "completed"
    },
    "tags": []
   },
   "outputs": [],
   "source": [
    "# SCALE X CALIB IF UNIVERSE IS IN SCALE?????"
   ]
  },
  {
   "cell_type": "code",
   "execution_count": 32,
   "id": "160ec6ff",
   "metadata": {
    "execution": {
     "iopub.execute_input": "2025-07-22T10:12:22.485802Z",
     "iopub.status.busy": "2025-07-22T10:12:22.485218Z",
     "iopub.status.idle": "2025-07-22T10:12:22.491228Z",
     "shell.execute_reply": "2025-07-22T10:12:22.490155Z"
    },
    "papermill": {
     "duration": 0.044771,
     "end_time": "2025-07-22T10:12:22.493578",
     "exception": false,
     "start_time": "2025-07-22T10:12:22.448807",
     "status": "completed"
    },
    "tags": []
   },
   "outputs": [],
   "source": [
    "# Miscoverage level for conformal prediction (10% allowed error rate => 90% target coverage)\n",
    "alpha = 0.1"
   ]
  },
  {
   "cell_type": "code",
   "execution_count": 33,
   "id": "eadf4555-3dd3-440e-8e35-f82a4ad9f855",
   "metadata": {
    "execution": {
     "iopub.execute_input": "2025-07-22T10:12:22.583159Z",
     "iopub.status.busy": "2025-07-22T10:12:22.582751Z",
     "iopub.status.idle": "2025-07-22T10:12:24.070631Z",
     "shell.execute_reply": "2025-07-22T10:12:24.069720Z"
    },
    "papermill": {
     "duration": 1.541051,
     "end_time": "2025-07-22T10:12:24.072715",
     "exception": false,
     "start_time": "2025-07-22T10:12:22.531664",
     "status": "completed"
    },
    "tags": []
   },
   "outputs": [],
   "source": [
    "probs_calib = model.predict_proba(X_calib)"
   ]
  },
  {
   "cell_type": "code",
   "execution_count": 34,
   "id": "2ed93547-6d5d-4983-9b36-1ecb300da49a",
   "metadata": {
    "execution": {
     "iopub.execute_input": "2025-07-22T10:12:24.132257Z",
     "iopub.status.busy": "2025-07-22T10:12:24.131742Z",
     "iopub.status.idle": "2025-07-22T10:12:24.138180Z",
     "shell.execute_reply": "2025-07-22T10:12:24.136999Z"
    },
    "papermill": {
     "duration": 0.032049,
     "end_time": "2025-07-22T10:12:24.141694",
     "exception": false,
     "start_time": "2025-07-22T10:12:24.109645",
     "status": "completed"
    },
    "tags": []
   },
   "outputs": [],
   "source": [
    "y_calib = y_calib.values.ravel().astype(int)"
   ]
  },
  {
   "cell_type": "code",
   "execution_count": 35,
   "id": "65d1320d-f588-4b38-9072-62af1ae97f7d",
   "metadata": {
    "execution": {
     "iopub.execute_input": "2025-07-22T10:12:24.185956Z",
     "iopub.status.busy": "2025-07-22T10:12:24.185464Z",
     "iopub.status.idle": "2025-07-22T10:12:24.194335Z",
     "shell.execute_reply": "2025-07-22T10:12:24.193141Z"
    },
    "papermill": {
     "duration": 0.036129,
     "end_time": "2025-07-22T10:12:24.198680",
     "exception": false,
     "start_time": "2025-07-22T10:12:24.162551",
     "status": "completed"
    },
    "tags": []
   },
   "outputs": [],
   "source": [
    "from fairness_multiverse.conformal import compute_nc_scores\n",
    "\n",
    "# Compute nonconformity scores on calibration set (1 - probability of true class)\n",
    "nc_scores = compute_nc_scores(probs_calib, y_calib)"
   ]
  },
  {
   "cell_type": "code",
   "execution_count": 36,
   "id": "df3b8ca3-53b7-43d5-9667-7c85da7aeda2",
   "metadata": {
    "execution": {
     "iopub.execute_input": "2025-07-22T10:12:24.244759Z",
     "iopub.status.busy": "2025-07-22T10:12:24.244240Z",
     "iopub.status.idle": "2025-07-22T10:12:24.252154Z",
     "shell.execute_reply": "2025-07-22T10:12:24.250890Z"
    },
    "papermill": {
     "duration": 0.033882,
     "end_time": "2025-07-22T10:12:24.255822",
     "exception": false,
     "start_time": "2025-07-22T10:12:24.221940",
     "status": "completed"
    },
    "tags": []
   },
   "outputs": [],
   "source": [
    "from fairness_multiverse.conformal import find_threshold\n",
    "\n",
    "# Find conformal threshold q_hat for the given alpha (split conformal method)\n",
    "q_hat = find_threshold(nc_scores, alpha)"
   ]
  },
  {
   "cell_type": "code",
   "execution_count": 37,
   "id": "4d29e6c1-0ef6-4aa4-b8fe-4fe79b0d033a",
   "metadata": {
    "execution": {
     "iopub.execute_input": "2025-07-22T10:12:24.301266Z",
     "iopub.status.busy": "2025-07-22T10:12:24.300801Z",
     "iopub.status.idle": "2025-07-22T10:12:24.309703Z",
     "shell.execute_reply": "2025-07-22T10:12:24.308591Z"
    },
    "papermill": {
     "duration": 0.035965,
     "end_time": "2025-07-22T10:12:24.314610",
     "exception": false,
     "start_time": "2025-07-22T10:12:24.278645",
     "status": "completed"
    },
    "tags": []
   },
   "outputs": [
    {
     "data": {
      "text/plain": [
       "0.65"
      ]
     },
     "execution_count": 37,
     "metadata": {},
     "output_type": "execute_result"
    }
   ],
   "source": [
    "q_hat"
   ]
  },
  {
   "cell_type": "code",
   "execution_count": 38,
   "id": "92460794-cdac-4be2-ba28-f28c0515a6fb",
   "metadata": {
    "execution": {
     "iopub.execute_input": "2025-07-22T10:12:24.454774Z",
     "iopub.status.busy": "2025-07-22T10:12:24.454305Z",
     "iopub.status.idle": "2025-07-22T10:12:26.527516Z",
     "shell.execute_reply": "2025-07-22T10:12:26.526548Z"
    },
    "papermill": {
     "duration": 2.177696,
     "end_time": "2025-07-22T10:12:26.529838",
     "exception": false,
     "start_time": "2025-07-22T10:12:24.352142",
     "status": "completed"
    },
    "tags": []
   },
   "outputs": [],
   "source": [
    "from fairness_multiverse.conformal import predict_conformal_sets\n",
    "\n",
    "# Generate prediction sets for each test example\n",
    "pred_sets = predict_conformal_sets(model, X_test, q_hat)"
   ]
  },
  {
   "cell_type": "code",
   "execution_count": 39,
   "id": "d90c9a65-e6db-4f5d-80cd-e68fb7e46829",
   "metadata": {
    "execution": {
     "iopub.execute_input": "2025-07-22T10:12:26.588394Z",
     "iopub.status.busy": "2025-07-22T10:12:26.587713Z",
     "iopub.status.idle": "2025-07-22T10:12:26.594903Z",
     "shell.execute_reply": "2025-07-22T10:12:26.593419Z"
    },
    "papermill": {
     "duration": 0.033506,
     "end_time": "2025-07-22T10:12:26.597917",
     "exception": false,
     "start_time": "2025-07-22T10:12:26.564411",
     "status": "completed"
    },
    "tags": []
   },
   "outputs": [],
   "source": [
    "y_true = y_true.squeeze()"
   ]
  },
  {
   "cell_type": "code",
   "execution_count": 40,
   "id": "3a58a54a-1e68-46b9-927a-df01f18aebc8",
   "metadata": {
    "execution": {
     "iopub.execute_input": "2025-07-22T10:12:26.646521Z",
     "iopub.status.busy": "2025-07-22T10:12:26.646054Z",
     "iopub.status.idle": "2025-07-22T10:12:27.722232Z",
     "shell.execute_reply": "2025-07-22T10:12:27.721048Z"
    },
    "papermill": {
     "duration": 1.102406,
     "end_time": "2025-07-22T10:12:27.724488",
     "exception": false,
     "start_time": "2025-07-22T10:12:26.622082",
     "status": "completed"
    },
    "tags": []
   },
   "outputs": [],
   "source": [
    "from fairness_multiverse.conformal import evaluate_sets\n",
    "\n",
    "# Evaluate coverage and average set size on test data\n",
    "metrics = evaluate_sets(pred_sets, y_true)"
   ]
  },
  {
   "cell_type": "code",
   "execution_count": 41,
   "id": "5ce0a5cb-201f-45a0-ade5-94c7f0bd6095",
   "metadata": {
    "execution": {
     "iopub.execute_input": "2025-07-22T10:12:27.799116Z",
     "iopub.status.busy": "2025-07-22T10:12:27.798610Z",
     "iopub.status.idle": "2025-07-22T10:12:27.807928Z",
     "shell.execute_reply": "2025-07-22T10:12:27.806623Z"
    },
    "papermill": {
     "duration": 0.057111,
     "end_time": "2025-07-22T10:12:27.809813",
     "exception": false,
     "start_time": "2025-07-22T10:12:27.752702",
     "status": "completed"
    },
    "tags": []
   },
   "outputs": [
    {
     "data": {
      "text/plain": [
       "{'coverage': 0.9135993757663583, 'avg_size': 1.1413108906476424}"
      ]
     },
     "execution_count": 41,
     "metadata": {},
     "output_type": "execute_result"
    }
   ],
   "source": [
    "metrics"
   ]
  },
  {
   "cell_type": "code",
   "execution_count": 42,
   "id": "9b9a838d-31c9-430b-ae14-12baee460d17",
   "metadata": {
    "execution": {
     "iopub.execute_input": "2025-07-22T10:12:27.876135Z",
     "iopub.status.busy": "2025-07-22T10:12:27.875116Z",
     "iopub.status.idle": "2025-07-22T10:12:27.882543Z",
     "shell.execute_reply": "2025-07-22T10:12:27.881506Z"
    },
    "papermill": {
     "duration": 0.05259,
     "end_time": "2025-07-22T10:12:27.884919",
     "exception": false,
     "start_time": "2025-07-22T10:12:27.832329",
     "status": "completed"
    },
    "tags": []
   },
   "outputs": [],
   "source": [
    "example_universe = universe.copy()\n",
    "universe_model = example_universe.get(\"model\")\n",
    "universe_exclude_features = example_universe.get(\"exclude_features\")\n",
    "universe_exclude_subgroups = example_universe.get(\"exclude_subgroups\")\n",
    "universe_scale = example_universe.get(\"scale\")"
   ]
  },
  {
   "cell_type": "code",
   "execution_count": 43,
   "id": "f4b6a8ac-9dc0-4245-8a91-5b3b5999c4f9",
   "metadata": {
    "execution": {
     "iopub.execute_input": "2025-07-22T10:12:27.941315Z",
     "iopub.status.busy": "2025-07-22T10:12:27.940491Z",
     "iopub.status.idle": "2025-07-22T10:12:27.947706Z",
     "shell.execute_reply": "2025-07-22T10:12:27.946509Z"
    },
    "papermill": {
     "duration": 0.034761,
     "end_time": "2025-07-22T10:12:27.949958",
     "exception": false,
     "start_time": "2025-07-22T10:12:27.915197",
     "status": "completed"
    },
    "tags": []
   },
   "outputs": [],
   "source": [
    "cp_metrics_dict = {\n",
    "    \"universe_id\": [universe_id],\n",
    "    \"universe_model\": [universe_model],\n",
    "    \"universe_exclude_features\": [universe_exclude_features],\n",
    "    \"universe_exclude_subgroups\": [universe_exclude_subgroups],\n",
    "    \"universe_scale\": [universe_scale],\n",
    "    \"q_hat\": [q_hat],\n",
    "    \"coverage\": [metrics[\"coverage\"]],\n",
    "    \"avg_size\": [metrics[\"avg_size\"]],\n",
    "}"
   ]
  },
  {
   "cell_type": "code",
   "execution_count": 44,
   "id": "908acbb1-0371-4915-85ca-3fa520d2efe2",
   "metadata": {
    "execution": {
     "iopub.execute_input": "2025-07-22T10:12:28.000320Z",
     "iopub.status.busy": "2025-07-22T10:12:27.999683Z",
     "iopub.status.idle": "2025-07-22T10:12:28.008401Z",
     "shell.execute_reply": "2025-07-22T10:12:28.007337Z"
    },
    "papermill": {
     "duration": 0.03554,
     "end_time": "2025-07-22T10:12:28.010377",
     "exception": false,
     "start_time": "2025-07-22T10:12:27.974837",
     "status": "completed"
    },
    "tags": []
   },
   "outputs": [
    {
     "data": {
      "text/plain": [
       "{'universe_id': ['93c0c510ceb3dda2204b4f94066cae0a'],\n",
       " 'universe_model': ['rf'],\n",
       " 'universe_exclude_features': ['nationality-sex'],\n",
       " 'universe_exclude_subgroups': ['keep-all'],\n",
       " 'universe_scale': ['do-not-scale'],\n",
       " 'q_hat': [0.65],\n",
       " 'coverage': [0.9135993757663583],\n",
       " 'avg_size': [1.1413108906476424]}"
      ]
     },
     "execution_count": 44,
     "metadata": {},
     "output_type": "execute_result"
    }
   ],
   "source": [
    "cp_metrics_dict"
   ]
  },
  {
   "cell_type": "code",
   "execution_count": 45,
   "id": "33007efc-14e9-4ec6-97ac-56a455c82265",
   "metadata": {
    "execution": {
     "iopub.execute_input": "2025-07-22T10:12:28.057850Z",
     "iopub.status.busy": "2025-07-22T10:12:28.057405Z",
     "iopub.status.idle": "2025-07-22T10:12:28.064819Z",
     "shell.execute_reply": "2025-07-22T10:12:28.063481Z"
    },
    "papermill": {
     "duration": 0.03626,
     "end_time": "2025-07-22T10:12:28.068384",
     "exception": false,
     "start_time": "2025-07-22T10:12:28.032124",
     "status": "completed"
    },
    "tags": []
   },
   "outputs": [],
   "source": [
    "cp_metrics_df = pd.DataFrame(cp_metrics_dict)"
   ]
  },
  {
   "cell_type": "code",
   "execution_count": 46,
   "id": "db12611b-57b2-4910-b9d0-355adfd6e7bf",
   "metadata": {
    "execution": {
     "iopub.execute_input": "2025-07-22T10:12:28.119054Z",
     "iopub.status.busy": "2025-07-22T10:12:28.118605Z",
     "iopub.status.idle": "2025-07-22T10:12:28.164250Z",
     "shell.execute_reply": "2025-07-22T10:12:28.163028Z"
    },
    "papermill": {
     "duration": 0.073612,
     "end_time": "2025-07-22T10:12:28.166065",
     "exception": false,
     "start_time": "2025-07-22T10:12:28.092453",
     "status": "completed"
    },
    "tags": []
   },
   "outputs": [
    {
     "data": {
      "text/html": [
       "<div>\n",
       "<style scoped>\n",
       "    .dataframe tbody tr th:only-of-type {\n",
       "        vertical-align: middle;\n",
       "    }\n",
       "\n",
       "    .dataframe tbody tr th {\n",
       "        vertical-align: top;\n",
       "    }\n",
       "\n",
       "    .dataframe thead th {\n",
       "        text-align: right;\n",
       "    }\n",
       "</style>\n",
       "<table border=\"1\" class=\"dataframe\">\n",
       "  <thead>\n",
       "    <tr style=\"text-align: right;\">\n",
       "      <th></th>\n",
       "      <th>universe_id</th>\n",
       "      <th>universe_model</th>\n",
       "      <th>universe_exclude_features</th>\n",
       "      <th>universe_exclude_subgroups</th>\n",
       "      <th>universe_scale</th>\n",
       "      <th>q_hat</th>\n",
       "      <th>coverage</th>\n",
       "      <th>avg_size</th>\n",
       "    </tr>\n",
       "  </thead>\n",
       "  <tbody>\n",
       "    <tr>\n",
       "      <th>0</th>\n",
       "      <td>93c0c510ceb3dda2204b4f94066cae0a</td>\n",
       "      <td>rf</td>\n",
       "      <td>nationality-sex</td>\n",
       "      <td>keep-all</td>\n",
       "      <td>do-not-scale</td>\n",
       "      <td>0.65</td>\n",
       "      <td>0.913599</td>\n",
       "      <td>1.141311</td>\n",
       "    </tr>\n",
       "  </tbody>\n",
       "</table>\n",
       "</div>"
      ],
      "text/plain": [
       "                        universe_id universe_model universe_exclude_features  \\\n",
       "0  93c0c510ceb3dda2204b4f94066cae0a             rf           nationality-sex   \n",
       "\n",
       "  universe_exclude_subgroups universe_scale  q_hat  coverage  avg_size  \n",
       "0                   keep-all   do-not-scale   0.65  0.913599  1.141311  "
      ]
     },
     "execution_count": 46,
     "metadata": {},
     "output_type": "execute_result"
    }
   ],
   "source": [
    "cp_metrics_df"
   ]
  },
  {
   "cell_type": "code",
   "execution_count": 47,
   "id": "b7fbde55-a0a1-47e4-9af6-fe4a17fa8c61",
   "metadata": {
    "execution": {
     "iopub.execute_input": "2025-07-22T10:12:28.204382Z",
     "iopub.status.busy": "2025-07-22T10:12:28.203866Z",
     "iopub.status.idle": "2025-07-22T10:12:28.209439Z",
     "shell.execute_reply": "2025-07-22T10:12:28.208599Z"
    },
    "papermill": {
     "duration": 0.020363,
     "end_time": "2025-07-22T10:12:28.210896",
     "exception": false,
     "start_time": "2025-07-22T10:12:28.190533",
     "status": "completed"
    },
    "tags": []
   },
   "outputs": [],
   "source": [
    "# Conditional Coverage & looking at subgroups"
   ]
  },
  {
   "cell_type": "code",
   "execution_count": 48,
   "id": "027ae886-68dd-4141-96c7-805a5450e1ef",
   "metadata": {
    "execution": {
     "iopub.execute_input": "2025-07-22T10:12:28.237251Z",
     "iopub.status.busy": "2025-07-22T10:12:28.236660Z",
     "iopub.status.idle": "2025-07-22T10:12:28.498063Z",
     "shell.execute_reply": "2025-07-22T10:12:28.497042Z"
    },
    "papermill": {
     "duration": 0.275801,
     "end_time": "2025-07-22T10:12:28.499932",
     "exception": false,
     "start_time": "2025-07-22T10:12:28.224131",
     "status": "completed"
    },
    "tags": []
   },
   "outputs": [],
   "source": [
    "from fairness_multiverse.conformal import build_cp_groups\n",
    "\n",
    "cp_groups_df = build_cp_groups(pred_sets, y_true, X_test.index, org_test)\n",
    "#needs universe_id and setting"
   ]
  },
  {
   "cell_type": "code",
   "execution_count": 49,
   "id": "c3b92545-903e-4839-89af-0f057907d7d6",
   "metadata": {
    "execution": {
     "iopub.execute_input": "2025-07-22T10:12:28.553950Z",
     "iopub.status.busy": "2025-07-22T10:12:28.553254Z",
     "iopub.status.idle": "2025-07-22T10:12:30.283637Z",
     "shell.execute_reply": "2025-07-22T10:12:30.282469Z"
    },
    "papermill": {
     "duration": 1.760012,
     "end_time": "2025-07-22T10:12:30.285759",
     "exception": false,
     "start_time": "2025-07-22T10:12:28.525747",
     "status": "completed"
    },
    "tags": []
   },
   "outputs": [],
   "source": [
    "# Define covered = 1 if true_label is in the predicted set\n",
    "cp_groups_df['covered'] = cp_groups_df.apply(\n",
    "    lambda r: int(r['true_label'] in r['pred_set']),\n",
    "    axis=1\n",
    ")"
   ]
  },
  {
   "cell_type": "code",
   "execution_count": 50,
   "id": "338ff529-1a6b-4b87-a931-8e4788d52aad",
   "metadata": {
    "execution": {
     "iopub.execute_input": "2025-07-22T10:12:30.339193Z",
     "iopub.status.busy": "2025-07-22T10:12:30.338193Z",
     "iopub.status.idle": "2025-07-22T10:12:30.344350Z",
     "shell.execute_reply": "2025-07-22T10:12:30.343267Z"
    },
    "papermill": {
     "duration": 0.032981,
     "end_time": "2025-07-22T10:12:30.346400",
     "exception": false,
     "start_time": "2025-07-22T10:12:30.313419",
     "status": "completed"
    },
    "tags": []
   },
   "outputs": [],
   "source": [
    "#cp_groups_df"
   ]
  },
  {
   "cell_type": "code",
   "execution_count": 51,
   "id": "90032e27-66df-4540-9169-4e89cfbaa758",
   "metadata": {
    "execution": {
     "iopub.execute_input": "2025-07-22T10:12:30.396658Z",
     "iopub.status.busy": "2025-07-22T10:12:30.395720Z",
     "iopub.status.idle": "2025-07-22T10:12:30.409727Z",
     "shell.execute_reply": "2025-07-22T10:12:30.408648Z"
    },
    "papermill": {
     "duration": 0.041495,
     "end_time": "2025-07-22T10:12:30.411838",
     "exception": false,
     "start_time": "2025-07-22T10:12:30.370343",
     "status": "completed"
    },
    "tags": []
   },
   "outputs": [],
   "source": [
    "subgroups = ['frau1','nongerman','nongerman_male','nongerman_female']\n",
    "\n",
    "# Conditional coverage for subgroup==1\n",
    "cond_coverage = {\n",
    "    g: cp_groups_df.loc[cp_groups_df[g]==1, 'covered'].mean()\n",
    "    for g in subgroups\n",
    "}"
   ]
  },
  {
   "cell_type": "code",
   "execution_count": 52,
   "id": "1e348fb1-b9c3-45bc-ba23-f016827a7e0d",
   "metadata": {
    "execution": {
     "iopub.execute_input": "2025-07-22T10:12:30.464068Z",
     "iopub.status.busy": "2025-07-22T10:12:30.463110Z",
     "iopub.status.idle": "2025-07-22T10:12:30.471229Z",
     "shell.execute_reply": "2025-07-22T10:12:30.469956Z"
    },
    "papermill": {
     "duration": 0.035653,
     "end_time": "2025-07-22T10:12:30.473384",
     "exception": false,
     "start_time": "2025-07-22T10:12:30.437731",
     "status": "completed"
    },
    "tags": []
   },
   "outputs": [
    {
     "data": {
      "text/plain": [
       "{'frau1': 0.9123331985442782,\n",
       " 'nongerman': 0.9071464660641105,\n",
       " 'nongerman_male': 0.9220931279834279,\n",
       " 'nongerman_female': 0.882414307004471}"
      ]
     },
     "execution_count": 52,
     "metadata": {},
     "output_type": "execute_result"
    }
   ],
   "source": [
    "cond_coverage"
   ]
  },
  {
   "cell_type": "code",
   "execution_count": 53,
   "id": "f5093324-c3dd-4d63-bc4c-8d945e5c8bbb",
   "metadata": {
    "execution": {
     "iopub.execute_input": "2025-07-22T10:12:30.525867Z",
     "iopub.status.busy": "2025-07-22T10:12:30.525135Z",
     "iopub.status.idle": "2025-07-22T10:12:30.533603Z",
     "shell.execute_reply": "2025-07-22T10:12:30.532438Z"
    },
    "papermill": {
     "duration": 0.037845,
     "end_time": "2025-07-22T10:12:30.535736",
     "exception": false,
     "start_time": "2025-07-22T10:12:30.497891",
     "status": "completed"
    },
    "tags": []
   },
   "outputs": [],
   "source": [
    "for subgroup, cov in cond_coverage.items():\n",
    "    cp_metrics_df[f\"cov_{subgroup}\"] = cov"
   ]
  },
  {
   "cell_type": "code",
   "execution_count": 54,
   "id": "6e872e10-dbe5-49e8-b554-5030c98ff75d",
   "metadata": {
    "execution": {
     "iopub.execute_input": "2025-07-22T10:12:30.590730Z",
     "iopub.status.busy": "2025-07-22T10:12:30.589057Z",
     "iopub.status.idle": "2025-07-22T10:12:30.611018Z",
     "shell.execute_reply": "2025-07-22T10:12:30.609910Z"
    },
    "papermill": {
     "duration": 0.050987,
     "end_time": "2025-07-22T10:12:30.612948",
     "exception": false,
     "start_time": "2025-07-22T10:12:30.561961",
     "status": "completed"
    },
    "tags": []
   },
   "outputs": [
    {
     "data": {
      "text/html": [
       "<div>\n",
       "<style scoped>\n",
       "    .dataframe tbody tr th:only-of-type {\n",
       "        vertical-align: middle;\n",
       "    }\n",
       "\n",
       "    .dataframe tbody tr th {\n",
       "        vertical-align: top;\n",
       "    }\n",
       "\n",
       "    .dataframe thead th {\n",
       "        text-align: right;\n",
       "    }\n",
       "</style>\n",
       "<table border=\"1\" class=\"dataframe\">\n",
       "  <thead>\n",
       "    <tr style=\"text-align: right;\">\n",
       "      <th></th>\n",
       "      <th>universe_id</th>\n",
       "      <th>universe_model</th>\n",
       "      <th>universe_exclude_features</th>\n",
       "      <th>universe_exclude_subgroups</th>\n",
       "      <th>universe_scale</th>\n",
       "      <th>q_hat</th>\n",
       "      <th>coverage</th>\n",
       "      <th>avg_size</th>\n",
       "      <th>cov_frau1</th>\n",
       "      <th>cov_nongerman</th>\n",
       "      <th>cov_nongerman_male</th>\n",
       "      <th>cov_nongerman_female</th>\n",
       "    </tr>\n",
       "  </thead>\n",
       "  <tbody>\n",
       "    <tr>\n",
       "      <th>0</th>\n",
       "      <td>93c0c510ceb3dda2204b4f94066cae0a</td>\n",
       "      <td>rf</td>\n",
       "      <td>nationality-sex</td>\n",
       "      <td>keep-all</td>\n",
       "      <td>do-not-scale</td>\n",
       "      <td>0.65</td>\n",
       "      <td>0.913599</td>\n",
       "      <td>1.141311</td>\n",
       "      <td>0.912333</td>\n",
       "      <td>0.907146</td>\n",
       "      <td>0.922093</td>\n",
       "      <td>0.882414</td>\n",
       "    </tr>\n",
       "  </tbody>\n",
       "</table>\n",
       "</div>"
      ],
      "text/plain": [
       "                        universe_id universe_model universe_exclude_features  \\\n",
       "0  93c0c510ceb3dda2204b4f94066cae0a             rf           nationality-sex   \n",
       "\n",
       "  universe_exclude_subgroups universe_scale  q_hat  coverage  avg_size  \\\n",
       "0                   keep-all   do-not-scale   0.65  0.913599  1.141311   \n",
       "\n",
       "   cov_frau1  cov_nongerman  cov_nongerman_male  cov_nongerman_female  \n",
       "0   0.912333       0.907146            0.922093              0.882414  "
      ]
     },
     "execution_count": 54,
     "metadata": {},
     "output_type": "execute_result"
    }
   ],
   "source": [
    "cp_metrics_df"
   ]
  },
  {
   "cell_type": "markdown",
   "id": "33774451",
   "metadata": {
    "papermill": {
     "duration": 0.022641,
     "end_time": "2025-07-22T10:12:30.657615",
     "exception": false,
     "start_time": "2025-07-22T10:12:30.634974",
     "status": "completed"
    },
    "tags": []
   },
   "source": [
    "# (Fairness) Metrics"
   ]
  },
  {
   "cell_type": "code",
   "execution_count": 55,
   "id": "debc5d62",
   "metadata": {
    "execution": {
     "iopub.execute_input": "2025-07-22T10:12:30.705307Z",
     "iopub.status.busy": "2025-07-22T10:12:30.704319Z",
     "iopub.status.idle": "2025-07-22T10:12:30.725562Z",
     "shell.execute_reply": "2025-07-22T10:12:30.724756Z"
    },
    "papermill": {
     "duration": 0.057595,
     "end_time": "2025-07-22T10:12:30.737885",
     "exception": false,
     "start_time": "2025-07-22T10:12:30.680290",
     "status": "completed"
    },
    "tags": []
   },
   "outputs": [],
   "source": [
    "# do I need to include maxdeutsch1.missing?\n",
    "\n",
    "import numpy as np\n",
    "\n",
    "colname_to_bin = \"maxdeutsch1\"\n",
    "majority_value = org_train[colname_to_bin].mode()[0]\n",
    "\n",
    "org_test[\"majmin\"] = np.where(org_test[colname_to_bin] == majority_value, \"majority\", \"minority\")"
   ]
  },
  {
   "cell_type": "code",
   "execution_count": 56,
   "id": "06a50de5",
   "metadata": {
    "execution": {
     "iopub.execute_input": "2025-07-22T10:12:30.791375Z",
     "iopub.status.busy": "2025-07-22T10:12:30.790794Z",
     "iopub.status.idle": "2025-07-22T10:12:33.968706Z",
     "shell.execute_reply": "2025-07-22T10:12:33.967537Z"
    },
    "papermill": {
     "duration": 3.205188,
     "end_time": "2025-07-22T10:12:33.970946",
     "exception": false,
     "start_time": "2025-07-22T10:12:30.765758",
     "status": "completed"
    },
    "tags": []
   },
   "outputs": [],
   "source": [
    "example_universe = universe.copy()\n",
    "example_universe[\"cutoff\"] = example_universe[\"cutoff\"][0]\n",
    "example_universe[\"eval_fairness_grouping\"] = example_universe[\"eval_fairness_grouping\"][0]\n",
    "fairness_dict, metric_frame = universe_analysis.compute_metrics(\n",
    "    example_universe,\n",
    "    y_pred_prob=probs_test,\n",
    "    y_test=y_true,\n",
    "    org_test=org_test,\n",
    ")"
   ]
  },
  {
   "cell_type": "markdown",
   "id": "f95d4e02",
   "metadata": {
    "papermill": {
     "duration": 0.023469,
     "end_time": "2025-07-22T10:12:34.021156",
     "exception": false,
     "start_time": "2025-07-22T10:12:33.997687",
     "status": "completed"
    },
    "tags": []
   },
   "source": [
    "# Overall"
   ]
  },
  {
   "cell_type": "markdown",
   "id": "bdee4871",
   "metadata": {
    "papermill": {
     "duration": 0.021926,
     "end_time": "2025-07-22T10:12:34.066699",
     "exception": false,
     "start_time": "2025-07-22T10:12:34.044773",
     "status": "completed"
    },
    "tags": []
   },
   "source": [
    "Fairness\n",
    "Main fairness target: Equalized Odds. Seems to be a better fit than equal opportunity, since we're not only interested in Y = 1. Seems to be a better fit than demographic parity, since we also care about accuracy, not just equal distribution of preds.\n",
    "\n",
    "Pick column for computation of fairness metrics\n",
    "\n",
    "Performance\n",
    "Overall performance measures, most interesting in relation to the measures split by group below"
   ]
  },
  {
   "cell_type": "code",
   "execution_count": 57,
   "id": "c4e067c6",
   "metadata": {
    "execution": {
     "iopub.execute_input": "2025-07-22T10:12:34.115495Z",
     "iopub.status.busy": "2025-07-22T10:12:34.114809Z",
     "iopub.status.idle": "2025-07-22T10:12:34.125061Z",
     "shell.execute_reply": "2025-07-22T10:12:34.123924Z"
    },
    "papermill": {
     "duration": 0.036461,
     "end_time": "2025-07-22T10:12:34.126674",
     "exception": false,
     "start_time": "2025-07-22T10:12:34.090213",
     "status": "completed"
    },
    "tags": []
   },
   "outputs": [
    {
     "data": {
      "text/plain": [
       "accuracy                   0.195842\n",
       "balanced accuracy          0.531564\n",
       "f1                         0.238770\n",
       "precision                  0.135886\n",
       "false positive rate        0.920015\n",
       "false negative rate        0.016858\n",
       "selection rate             0.928113\n",
       "count                  89710.000000\n",
       "dtype: float64"
      ]
     },
     "execution_count": 57,
     "metadata": {},
     "output_type": "execute_result"
    }
   ],
   "source": [
    "metric_frame.overall"
   ]
  },
  {
   "cell_type": "markdown",
   "id": "e968fe9d",
   "metadata": {
    "papermill": {
     "duration": 0.022496,
     "end_time": "2025-07-22T10:12:34.172019",
     "exception": false,
     "start_time": "2025-07-22T10:12:34.149523",
     "status": "completed"
    },
    "tags": []
   },
   "source": [
    "By Group"
   ]
  },
  {
   "cell_type": "code",
   "execution_count": 58,
   "id": "ec325bce",
   "metadata": {
    "execution": {
     "iopub.execute_input": "2025-07-22T10:12:34.221276Z",
     "iopub.status.busy": "2025-07-22T10:12:34.220371Z",
     "iopub.status.idle": "2025-07-22T10:12:34.238449Z",
     "shell.execute_reply": "2025-07-22T10:12:34.237363Z"
    },
    "papermill": {
     "duration": 0.045508,
     "end_time": "2025-07-22T10:12:34.240437",
     "exception": false,
     "start_time": "2025-07-22T10:12:34.194929",
     "status": "completed"
    },
    "tags": []
   },
   "outputs": [
    {
     "data": {
      "text/html": [
       "<div>\n",
       "<style scoped>\n",
       "    .dataframe tbody tr th:only-of-type {\n",
       "        vertical-align: middle;\n",
       "    }\n",
       "\n",
       "    .dataframe tbody tr th {\n",
       "        vertical-align: top;\n",
       "    }\n",
       "\n",
       "    .dataframe thead th {\n",
       "        text-align: right;\n",
       "    }\n",
       "</style>\n",
       "<table border=\"1\" class=\"dataframe\">\n",
       "  <thead>\n",
       "    <tr style=\"text-align: right;\">\n",
       "      <th></th>\n",
       "      <th>accuracy</th>\n",
       "      <th>balanced accuracy</th>\n",
       "      <th>f1</th>\n",
       "      <th>precision</th>\n",
       "      <th>false positive rate</th>\n",
       "      <th>false negative rate</th>\n",
       "      <th>selection rate</th>\n",
       "      <th>count</th>\n",
       "    </tr>\n",
       "    <tr>\n",
       "      <th>majmin</th>\n",
       "      <th></th>\n",
       "      <th></th>\n",
       "      <th></th>\n",
       "      <th></th>\n",
       "      <th></th>\n",
       "      <th></th>\n",
       "      <th></th>\n",
       "      <th></th>\n",
       "    </tr>\n",
       "  </thead>\n",
       "  <tbody>\n",
       "    <tr>\n",
       "      <th>majority</th>\n",
       "      <td>0.187177</td>\n",
       "      <td>0.527721</td>\n",
       "      <td>0.243613</td>\n",
       "      <td>0.138884</td>\n",
       "      <td>0.935149</td>\n",
       "      <td>0.009409</td>\n",
       "      <td>0.942475</td>\n",
       "      <td>69170.0</td>\n",
       "    </tr>\n",
       "    <tr>\n",
       "      <th>minority</th>\n",
       "      <td>0.225024</td>\n",
       "      <td>0.542186</td>\n",
       "      <td>0.221157</td>\n",
       "      <td>0.125069</td>\n",
       "      <td>0.870020</td>\n",
       "      <td>0.045608</td>\n",
       "      <td>0.879747</td>\n",
       "      <td>20540.0</td>\n",
       "    </tr>\n",
       "  </tbody>\n",
       "</table>\n",
       "</div>"
      ],
      "text/plain": [
       "          accuracy  balanced accuracy        f1  precision  \\\n",
       "majmin                                                       \n",
       "majority  0.187177           0.527721  0.243613   0.138884   \n",
       "minority  0.225024           0.542186  0.221157   0.125069   \n",
       "\n",
       "          false positive rate  false negative rate  selection rate    count  \n",
       "majmin                                                                       \n",
       "majority             0.935149             0.009409        0.942475  69170.0  \n",
       "minority             0.870020             0.045608        0.879747  20540.0  "
      ]
     },
     "execution_count": 58,
     "metadata": {},
     "output_type": "execute_result"
    }
   ],
   "source": [
    "metric_frame.by_group"
   ]
  },
  {
   "cell_type": "code",
   "execution_count": 59,
   "id": "a9ddbe63",
   "metadata": {
    "execution": {
     "iopub.execute_input": "2025-07-22T10:12:34.294112Z",
     "iopub.status.busy": "2025-07-22T10:12:34.293601Z",
     "iopub.status.idle": "2025-07-22T10:12:37.109636Z",
     "shell.execute_reply": "2025-07-22T10:12:37.108644Z"
    },
    "papermill": {
     "duration": 2.844836,
     "end_time": "2025-07-22T10:12:37.111264",
     "exception": false,
     "start_time": "2025-07-22T10:12:34.266428",
     "status": "completed"
    },
    "tags": []
   },
   "outputs": [
    {
     "data": {
      "text/plain": [
       "array([[<Axes: title={'center': 'accuracy'}, xlabel='majmin'>,\n",
       "        <Axes: title={'center': 'balanced accuracy'}, xlabel='majmin'>,\n",
       "        <Axes: title={'center': 'f1'}, xlabel='majmin'>],\n",
       "       [<Axes: title={'center': 'precision'}, xlabel='majmin'>,\n",
       "        <Axes: title={'center': 'false positive rate'}, xlabel='majmin'>,\n",
       "        <Axes: title={'center': 'false negative rate'}, xlabel='majmin'>],\n",
       "       [<Axes: title={'center': 'selection rate'}, xlabel='majmin'>,\n",
       "        <Axes: title={'center': 'count'}, xlabel='majmin'>,\n",
       "        <Axes: xlabel='majmin'>]], dtype=object)"
      ]
     },
     "execution_count": 59,
     "metadata": {},
     "output_type": "execute_result"
    },
    {
     "data": {
      "image/png": "[encoded data removed]",
      "text/plain": [
       "<Figure size 1200x800 with 9 Axes>"
      ]
     },
     "metadata": {},
     "output_type": "display_data"
    }
   ],
   "source": [
    "# In a graphic\n",
    "metric_frame.by_group.plot.bar(\n",
    "    subplots=True,\n",
    "    layout=[3, 3],\n",
    "    legend=False,\n",
    "    figsize=[12, 8],\n",
    "    title=\"Show all metrics\",\n",
    ")"
   ]
  },
  {
   "cell_type": "markdown",
   "id": "f57a0bac",
   "metadata": {
    "papermill": {
     "duration": 0.02672,
     "end_time": "2025-07-22T10:12:37.166207",
     "exception": false,
     "start_time": "2025-07-22T10:12:37.139487",
     "status": "completed"
    },
    "tags": []
   },
   "source": [
    "# Final Output"
   ]
  },
  {
   "cell_type": "code",
   "execution_count": 60,
   "id": "96d280a3",
   "metadata": {
    "execution": {
     "iopub.execute_input": "2025-07-22T10:12:37.219554Z",
     "iopub.status.busy": "2025-07-22T10:12:37.218445Z",
     "iopub.status.idle": "2025-07-22T10:12:37.227928Z",
     "shell.execute_reply": "2025-07-22T10:12:37.226902Z"
    },
    "papermill": {
     "duration": 0.037823,
     "end_time": "2025-07-22T10:12:37.229679",
     "exception": false,
     "start_time": "2025-07-22T10:12:37.191856",
     "status": "completed"
    },
    "tags": []
   },
   "outputs": [
    {
     "data": {
      "text/plain": [
       "4"
      ]
     },
     "execution_count": 60,
     "metadata": {},
     "output_type": "execute_result"
    }
   ],
   "source": [
    "sub_universes = universe_analysis.generate_sub_universes()\n",
    "len(sub_universes)"
   ]
  },
  {
   "cell_type": "code",
   "execution_count": 61,
   "id": "92adf7ba",
   "metadata": {
    "execution": {
     "iopub.execute_input": "2025-07-22T10:12:37.284928Z",
     "iopub.status.busy": "2025-07-22T10:12:37.284144Z",
     "iopub.status.idle": "2025-07-22T10:12:37.290905Z",
     "shell.execute_reply": "2025-07-22T10:12:37.289832Z"
    },
    "papermill": {
     "duration": 0.037147,
     "end_time": "2025-07-22T10:12:37.293094",
     "exception": false,
     "start_time": "2025-07-22T10:12:37.255947",
     "status": "completed"
    },
    "tags": []
   },
   "outputs": [],
   "source": [
    "def filter_sub_universe_data(sub_universe, org_test):\n",
    "    # Keep all rows — no filtering\n",
    "    keep_rows_mask = np.ones(org_test.shape[0], dtype=bool)\n",
    "\n",
    "    print(f\"[INFO] Keeping all rows: {keep_rows_mask.sum()} rows retained.\")\n",
    "    return keep_rows_mask"
   ]
  },
  {
   "cell_type": "code",
   "execution_count": 62,
   "id": "4a759155",
   "metadata": {
    "execution": {
     "iopub.execute_input": "2025-07-22T10:12:37.349998Z",
     "iopub.status.busy": "2025-07-22T10:12:37.349118Z",
     "iopub.status.idle": "2025-07-22T10:12:49.047543Z",
     "shell.execute_reply": "2025-07-22T10:12:49.046437Z"
    },
    "papermill": {
     "duration": 11.728569,
     "end_time": "2025-07-22T10:12:49.049590",
     "exception": false,
     "start_time": "2025-07-22T10:12:37.321021",
     "status": "completed"
    },
    "tags": []
   },
   "outputs": [
    {
     "name": "stdout",
     "output_type": "stream",
     "text": [
      "Stopping execution_time clock.\n",
      "[INFO] Keeping all rows: 89710 rows retained.\n"
     ]
    },
    {
     "name": "stdout",
     "output_type": "stream",
     "text": [
      "[INFO] Keeping all rows: 89710 rows retained.\n"
     ]
    },
    {
     "name": "stdout",
     "output_type": "stream",
     "text": [
      "[INFO] Keeping all rows: 89710 rows retained.\n"
     ]
    },
    {
     "name": "stdout",
     "output_type": "stream",
     "text": [
      "[INFO] Keeping all rows: 89710 rows retained.\n"
     ]
    },
    {
     "data": {
      "text/html": [
       "<div>\n",
       "<style scoped>\n",
       "    .dataframe tbody tr th:only-of-type {\n",
       "        vertical-align: middle;\n",
       "    }\n",
       "\n",
       "    .dataframe tbody tr th {\n",
       "        vertical-align: top;\n",
       "    }\n",
       "\n",
       "    .dataframe thead th {\n",
       "        text-align: right;\n",
       "    }\n",
       "</style>\n",
       "<table border=\"1\" class=\"dataframe\">\n",
       "  <thead>\n",
       "    <tr style=\"text-align: right;\">\n",
       "      <th></th>\n",
       "      <th>run_no</th>\n",
       "      <th>universe_id</th>\n",
       "      <th>universe_settings</th>\n",
       "      <th>execution_time</th>\n",
       "      <th>test_size_n</th>\n",
       "      <th>test_size_frac</th>\n",
       "      <th>fair_main_equalized_odds_difference</th>\n",
       "      <th>fair_main_equalized_odds_ratio</th>\n",
       "      <th>fair_main_demographic_parity_difference</th>\n",
       "      <th>fair_main_demographic_parity_ratio</th>\n",
       "      <th>...</th>\n",
       "      <th>perf_grp_precision_0</th>\n",
       "      <th>perf_grp_precision_1</th>\n",
       "      <th>perf_grp_false positive rate_0</th>\n",
       "      <th>perf_grp_false positive rate_1</th>\n",
       "      <th>perf_grp_false negative rate_0</th>\n",
       "      <th>perf_grp_false negative rate_1</th>\n",
       "      <th>perf_grp_selection rate_0</th>\n",
       "      <th>perf_grp_selection rate_1</th>\n",
       "      <th>perf_grp_count_0</th>\n",
       "      <th>perf_grp_count_1</th>\n",
       "    </tr>\n",
       "  </thead>\n",
       "  <tbody>\n",
       "    <tr>\n",
       "      <th>0</th>\n",
       "      <td>4</td>\n",
       "      <td>93c0c510ceb3dda2204b4f94066cae0a</td>\n",
       "      <td>{\"cutoff\": \"quantile_0.1\", \"eval_fairness_grou...</td>\n",
       "      <td>26.607513</td>\n",
       "      <td>89710</td>\n",
       "      <td>1.0</td>\n",
       "      <td>0.065129</td>\n",
       "      <td>0.930354</td>\n",
       "      <td>0.062728</td>\n",
       "      <td>0.933443</td>\n",
       "      <td>...</td>\n",
       "      <td>NaN</td>\n",
       "      <td>NaN</td>\n",
       "      <td>NaN</td>\n",
       "      <td>NaN</td>\n",
       "      <td>NaN</td>\n",
       "      <td>NaN</td>\n",
       "      <td>NaN</td>\n",
       "      <td>NaN</td>\n",
       "      <td>NaN</td>\n",
       "      <td>NaN</td>\n",
       "    </tr>\n",
       "    <tr>\n",
       "      <th>0</th>\n",
       "      <td>4</td>\n",
       "      <td>93c0c510ceb3dda2204b4f94066cae0a</td>\n",
       "      <td>{\"cutoff\": \"quantile_0.1\", \"eval_fairness_grou...</td>\n",
       "      <td>26.607513</td>\n",
       "      <td>89710</td>\n",
       "      <td>1.0</td>\n",
       "      <td>0.065129</td>\n",
       "      <td>0.930354</td>\n",
       "      <td>0.062728</td>\n",
       "      <td>0.933443</td>\n",
       "      <td>...</td>\n",
       "      <td>0.125069</td>\n",
       "      <td>0.138884</td>\n",
       "      <td>0.870020</td>\n",
       "      <td>0.935149</td>\n",
       "      <td>0.045608</td>\n",
       "      <td>0.009409</td>\n",
       "      <td>0.879747</td>\n",
       "      <td>0.942475</td>\n",
       "      <td>20540.0</td>\n",
       "      <td>69170.0</td>\n",
       "    </tr>\n",
       "    <tr>\n",
       "      <th>0</th>\n",
       "      <td>4</td>\n",
       "      <td>93c0c510ceb3dda2204b4f94066cae0a</td>\n",
       "      <td>{\"cutoff\": \"quantile_0.25\", \"eval_fairness_gro...</td>\n",
       "      <td>26.607513</td>\n",
       "      <td>89710</td>\n",
       "      <td>1.0</td>\n",
       "      <td>0.084385</td>\n",
       "      <td>0.910121</td>\n",
       "      <td>0.072019</td>\n",
       "      <td>0.906044</td>\n",
       "      <td>...</td>\n",
       "      <td>NaN</td>\n",
       "      <td>NaN</td>\n",
       "      <td>NaN</td>\n",
       "      <td>NaN</td>\n",
       "      <td>NaN</td>\n",
       "      <td>NaN</td>\n",
       "      <td>NaN</td>\n",
       "      <td>NaN</td>\n",
       "      <td>NaN</td>\n",
       "      <td>NaN</td>\n",
       "    </tr>\n",
       "    <tr>\n",
       "      <th>0</th>\n",
       "      <td>4</td>\n",
       "      <td>93c0c510ceb3dda2204b4f94066cae0a</td>\n",
       "      <td>{\"cutoff\": \"quantile_0.25\", \"eval_fairness_gro...</td>\n",
       "      <td>26.607513</td>\n",
       "      <td>89710</td>\n",
       "      <td>1.0</td>\n",
       "      <td>0.084385</td>\n",
       "      <td>0.910121</td>\n",
       "      <td>0.072019</td>\n",
       "      <td>0.906044</td>\n",
       "      <td>...</td>\n",
       "      <td>0.143638</td>\n",
       "      <td>0.163712</td>\n",
       "      <td>0.672243</td>\n",
       "      <td>0.738631</td>\n",
       "      <td>0.134713</td>\n",
       "      <td>0.050328</td>\n",
       "      <td>0.694499</td>\n",
       "      <td>0.766517</td>\n",
       "      <td>20540.0</td>\n",
       "      <td>69170.0</td>\n",
       "    </tr>\n",
       "  </tbody>\n",
       "</table>\n",
       "<p>4 rows × 50 columns</p>\n",
       "</div>"
      ],
      "text/plain": [
       "  run_no                       universe_id  \\\n",
       "0      4  93c0c510ceb3dda2204b4f94066cae0a   \n",
       "0      4  93c0c510ceb3dda2204b4f94066cae0a   \n",
       "0      4  93c0c510ceb3dda2204b4f94066cae0a   \n",
       "0      4  93c0c510ceb3dda2204b4f94066cae0a   \n",
       "\n",
       "                                   universe_settings  execution_time  \\\n",
       "0  {\"cutoff\": \"quantile_0.1\", \"eval_fairness_grou...       26.607513   \n",
       "0  {\"cutoff\": \"quantile_0.1\", \"eval_fairness_grou...       26.607513   \n",
       "0  {\"cutoff\": \"quantile_0.25\", \"eval_fairness_gro...       26.607513   \n",
       "0  {\"cutoff\": \"quantile_0.25\", \"eval_fairness_gro...       26.607513   \n",
       "\n",
       "   test_size_n  test_size_frac  fair_main_equalized_odds_difference  \\\n",
       "0        89710             1.0                             0.065129   \n",
       "0        89710             1.0                             0.065129   \n",
       "0        89710             1.0                             0.084385   \n",
       "0        89710             1.0                             0.084385   \n",
       "\n",
       "   fair_main_equalized_odds_ratio  fair_main_demographic_parity_difference  \\\n",
       "0                        0.930354                                 0.062728   \n",
       "0                        0.930354                                 0.062728   \n",
       "0                        0.910121                                 0.072019   \n",
       "0                        0.910121                                 0.072019   \n",
       "\n",
       "   fair_main_demographic_parity_ratio  ...  perf_grp_precision_0  \\\n",
       "0                            0.933443  ...                   NaN   \n",
       "0                            0.933443  ...              0.125069   \n",
       "0                            0.906044  ...                   NaN   \n",
       "0                            0.906044  ...              0.143638   \n",
       "\n",
       "   perf_grp_precision_1  perf_grp_false positive rate_0  \\\n",
       "0                   NaN                             NaN   \n",
       "0              0.138884                        0.870020   \n",
       "0                   NaN                             NaN   \n",
       "0              0.163712                        0.672243   \n",
       "\n",
       "   perf_grp_false positive rate_1  perf_grp_false negative rate_0  \\\n",
       "0                             NaN                             NaN   \n",
       "0                        0.935149                        0.045608   \n",
       "0                             NaN                             NaN   \n",
       "0                        0.738631                        0.134713   \n",
       "\n",
       "   perf_grp_false negative rate_1  perf_grp_selection rate_0  \\\n",
       "0                             NaN                        NaN   \n",
       "0                        0.009409                   0.879747   \n",
       "0                             NaN                        NaN   \n",
       "0                        0.050328                   0.694499   \n",
       "\n",
       "   perf_grp_selection rate_1  perf_grp_count_0  perf_grp_count_1  \n",
       "0                        NaN               NaN               NaN  \n",
       "0                   0.942475           20540.0           69170.0  \n",
       "0                        NaN               NaN               NaN  \n",
       "0                   0.766517           20540.0           69170.0  \n",
       "\n",
       "[4 rows x 50 columns]"
      ]
     },
     "execution_count": 62,
     "metadata": {},
     "output_type": "execute_result"
    }
   ],
   "source": [
    "final_output = universe_analysis.generate_final_output(\n",
    "    y_pred_prob=probs_test,\n",
    "    y_test=y_true,\n",
    "    org_test=org_test,\n",
    "    filter_data=filter_sub_universe_data,\n",
    "    cp_metrics_df=cp_metrics_df,\n",
    "    save=True,\n",
    ")\n",
    "final_output"
   ]
  },
  {
   "cell_type": "code",
   "execution_count": null,
   "id": "721ff514-cb11-46f8-b6fc-50392f74b5cb",
   "metadata": {
    "papermill": {
     "duration": 0.026241,
     "end_time": "2025-07-22T10:12:49.106511",
     "exception": false,
     "start_time": "2025-07-22T10:12:49.080270",
     "status": "completed"
    },
    "tags": []
   },
   "outputs": [],
   "source": []
  }
 ],
 "metadata": {
  "celltoolbar": "Tags",
  "kernelspec": {
   "display_name": "Python (CMA Fairness)",
   "language": "python",
   "name": "cma_fair_env"
  },
  "language_info": {
   "codemirror_mode": {
    "name": "ipython",
    "version": 3
   },
   "file_extension": ".py",
   "mimetype": "text/x-python",
   "name": "python",
   "nbconvert_exporter": "python",
   "pygments_lexer": "ipython3",
   "version": "3.10.12"
  },
  "papermill": {
   "default_parameters": {},
   "duration": 43.828533,
   "end_time": "2025-07-22T10:12:49.953251",
   "environment_variables": {},
   "exception": null,
   "input_path": "universe_analysis.ipynb",
   "output_path": "output/runs/4/notebooks/m_4-93c0c510ceb3dda2204b4f94066cae0a.ipynb",
   "parameters": {
    "output_dir": "output",
    "run_no": "4",
    "seed": "2023",
    "universe": "{\"cutoff\": [\"quantile_0.1\", \"quantile_0.25\"], \"eval_fairness_grouping\": [\"majority-minority\", \"nationality-all\"], \"exclude_features\": \"nationality-sex\", \"exclude_subgroups\": \"keep-all\", \"model\": \"rf\", \"scale\": \"do-not-scale\"}",
    "universe_id": "93c0c510ceb3dda2204b4f94066cae0a"
   },
   "start_time": "2025-07-22T10:12:06.124718",
   "version": "2.6.0"
  }
 },
 "nbformat": 4,
 "nbformat_minor": 5
}