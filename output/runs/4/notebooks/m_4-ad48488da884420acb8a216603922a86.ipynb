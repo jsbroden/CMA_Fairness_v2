{
 "cells": [
  {
   "cell_type": "code",
   "execution_count": 1,
   "id": "f159f837-637b-42ba-96b5-ec9a68c44524",
   "metadata": {
    "execution": {
     "iopub.execute_input": "2025-07-22T10:08:49.981864Z",
     "iopub.status.busy": "2025-07-22T10:08:49.981286Z",
     "iopub.status.idle": "2025-07-22T10:08:49.997570Z",
     "shell.execute_reply": "2025-07-22T10:08:49.996413Z"
    },
    "papermill": {
     "duration": 0.038306,
     "end_time": "2025-07-22T10:08:49.999363",
     "exception": false,
     "start_time": "2025-07-22T10:08:49.961057",
     "status": "completed"
    },
    "tags": []
   },
   "outputs": [
    {
     "name": "stdout",
     "output_type": "stream",
     "text": [
      "/dss/dsshome1/0C/ra93lal2/cma/CMA_Fairness_v2\n"
     ]
    },
    {
     "name": "stderr",
     "output_type": "stream",
     "text": [
      "/dss/dsshome1/0C/ra93lal2/.local/share/virtualenvs/CMA_Fairness_v2-3j10GkSs/lib/python3.10/site-packages/IPython/core/magics/osm.py:393: UserWarning: This is now an optional IPython functionality, using bookmarks requires you to install the `pickleshare` library.\n",
      "  bkms = self.shell.db.get('bookmarks', {})\n",
      "/dss/dsshome1/0C/ra93lal2/.local/share/virtualenvs/CMA_Fairness_v2-3j10GkSs/lib/python3.10/site-packages/IPython/core/magics/osm.py:417: UserWarning: This is now an optional IPython functionality, setting dhist requires you to install the `pickleshare` library.\n",
      "  self.shell.db['dhist'] = compress_dhist(dhist)[-100:]\n"
     ]
    }
   ],
   "source": [
    "%cd ~/cma/CMA_Fairness_v2"
   ]
  },
  {
   "cell_type": "markdown",
   "id": "de2603b9",
   "metadata": {
    "papermill": {
     "duration": 0.017153,
     "end_time": "2025-07-22T10:08:50.034555",
     "exception": false,
     "start_time": "2025-07-22T10:08:50.017402",
     "status": "completed"
    },
    "tags": []
   },
   "source": [
    "The following cell holds the definition of our parameters, these values can be overriden by rendering the with e.g. the following command:\n",
    "\n",
    "papermill -p alpha 0.2 -p ratio 0.3 universe_analysis.ipynb output/test_run.ipynb"
   ]
  },
  {
   "cell_type": "code",
   "execution_count": 2,
   "id": "a80968a0-40bb-4fa9-85ef-2d5eefb01975",
   "metadata": {
    "execution": {
     "iopub.execute_input": "2025-07-22T10:08:50.070745Z",
     "iopub.status.busy": "2025-07-22T10:08:50.069985Z",
     "iopub.status.idle": "2025-07-22T10:08:50.075714Z",
     "shell.execute_reply": "2025-07-22T10:08:50.074678Z"
    },
    "papermill": {
     "duration": 0.025451,
     "end_time": "2025-07-22T10:08:50.077720",
     "exception": false,
     "start_time": "2025-07-22T10:08:50.052269",
     "status": "completed"
    },
    "tags": []
   },
   "outputs": [
    {
     "name": "stdout",
     "output_type": "stream",
     "text": [
      "Current working directory: /dss/dsshome1/0C/ra93lal2/cma/CMA_Fairness_v2\n"
     ]
    }
   ],
   "source": [
    "import os\n",
    "print(\"Current working directory:\", os.getcwd())"
   ]
  },
  {
   "cell_type": "code",
   "execution_count": 3,
   "id": "2dce4c03",
   "metadata": {
    "execution": {
     "iopub.execute_input": "2025-07-22T10:08:50.114414Z",
     "iopub.status.busy": "2025-07-22T10:08:50.113436Z",
     "iopub.status.idle": "2025-07-22T10:08:50.119859Z",
     "shell.execute_reply": "2025-07-22T10:08:50.118809Z"
    },
    "papermill": {
     "duration": 0.026354,
     "end_time": "2025-07-22T10:08:50.121963",
     "exception": false,
     "start_time": "2025-07-22T10:08:50.095609",
     "status": "completed"
    },
    "tags": [
     "parameters"
    ]
   },
   "outputs": [],
   "source": [
    "run_no = 0\n",
    "universe_id = \"test\"\n",
    "universe = {\n",
    "    \"scale\": \"scale\", # \"scale\", \"do-not-scale\",\n",
    "    #\"encode_categorical\": \"one-hot\", # \"ordinal\", \"one-hot\"\n",
    "    \"model\": \"elasticnet\", # \"logreg\", \"penalized_logreg\", \"rf\", \"gbm\", \"elasticnet\"\n",
    "    \"cutoff\": [\"quantile_0.15\", \"quantile_0.30\"],\n",
    "    \"exclude_features\": \"nationality-sex\", # \"none\", \"nationality\", \"sex\", \"nationality-sex\"\n",
    "    \"exclude_subgroups\": \"keep-all\", # \"keep-all\", \"drop-non-german\"\n",
    "    \"eval_fairness_grouping\": [\"majority-minority\", \"nationality-all\"]\n",
    "}\n",
    "\n",
    "output_dir=\"./output\"\n",
    "seed=0"
   ]
  },
  {
   "cell_type": "code",
   "execution_count": 4,
   "id": "3723a174",
   "metadata": {
    "execution": {
     "iopub.execute_input": "2025-07-22T10:08:50.157787Z",
     "iopub.status.busy": "2025-07-22T10:08:50.157184Z",
     "iopub.status.idle": "2025-07-22T10:08:50.162482Z",
     "shell.execute_reply": "2025-07-22T10:08:50.161341Z"
    },
    "papermill": {
     "duration": 0.024779,
     "end_time": "2025-07-22T10:08:50.164521",
     "exception": false,
     "start_time": "2025-07-22T10:08:50.139742",
     "status": "completed"
    },
    "tags": [
     "injected-parameters"
    ]
   },
   "outputs": [],
   "source": [
    "# Parameters\n",
    "universe_id = \"ad48488da884420acb8a216603922a86\"\n",
    "run_no = \"4\"\n",
    "universe = \"{\\\"cutoff\\\": [\\\"quantile_0.1\\\", \\\"quantile_0.25\\\"], \\\"eval_fairness_grouping\\\": [\\\"majority-minority\\\", \\\"nationality-all\\\"], \\\"exclude_features\\\": \\\"nationality-sex\\\", \\\"exclude_subgroups\\\": \\\"drop-non-german\\\", \\\"model\\\": \\\"gbm\\\", \\\"scale\\\": \\\"scale\\\"}\"\n",
    "output_dir = \"output\"\n",
    "seed = \"2023\"\n"
   ]
  },
  {
   "cell_type": "code",
   "execution_count": 5,
   "id": "1650acaf",
   "metadata": {
    "execution": {
     "iopub.execute_input": "2025-07-22T10:08:50.201499Z",
     "iopub.status.busy": "2025-07-22T10:08:50.200817Z",
     "iopub.status.idle": "2025-07-22T10:08:50.206181Z",
     "shell.execute_reply": "2025-07-22T10:08:50.204958Z"
    },
    "papermill": {
     "duration": 0.025234,
     "end_time": "2025-07-22T10:08:50.208148",
     "exception": false,
     "start_time": "2025-07-22T10:08:50.182914",
     "status": "completed"
    },
    "tags": []
   },
   "outputs": [],
   "source": [
    "import json\n",
    "# Parse universe into dict if it is passed as a string\n",
    "if isinstance(universe, str):\n",
    "    universe = json.loads(universe)"
   ]
  },
  {
   "cell_type": "code",
   "execution_count": 6,
   "id": "16620c48",
   "metadata": {
    "execution": {
     "iopub.execute_input": "2025-07-22T10:08:50.244327Z",
     "iopub.status.busy": "2025-07-22T10:08:50.243759Z",
     "iopub.status.idle": "2025-07-22T10:08:50.293169Z",
     "shell.execute_reply": "2025-07-22T10:08:50.292135Z"
    },
    "papermill": {
     "duration": 0.069061,
     "end_time": "2025-07-22T10:08:50.295302",
     "exception": false,
     "start_time": "2025-07-22T10:08:50.226241",
     "status": "completed"
    },
    "tags": []
   },
   "outputs": [],
   "source": [
    "# Auto-reload the custom package\n",
    "%load_ext autoreload\n",
    "%autoreload 1\n",
    "%aimport fairness_multiverse"
   ]
  },
  {
   "cell_type": "code",
   "execution_count": 7,
   "id": "01c5c9f3",
   "metadata": {
    "execution": {
     "iopub.execute_input": "2025-07-22T10:08:50.332366Z",
     "iopub.status.busy": "2025-07-22T10:08:50.331590Z",
     "iopub.status.idle": "2025-07-22T10:08:53.086333Z",
     "shell.execute_reply": "2025-07-22T10:08:53.085371Z"
    },
    "papermill": {
     "duration": 2.775488,
     "end_time": "2025-07-22T10:08:53.088662",
     "exception": false,
     "start_time": "2025-07-22T10:08:50.313174",
     "status": "completed"
    },
    "tags": []
   },
   "outputs": [],
   "source": [
    "from fairness_multiverse.universe import UniverseAnalysis\n",
    "\n",
    "universe_analysis = UniverseAnalysis(\n",
    "    run_no = run_no,\n",
    "    universe_id = universe_id,\n",
    "    universe = universe,\n",
    "    output_dir=output_dir,\n",
    ")"
   ]
  },
  {
   "cell_type": "code",
   "execution_count": 8,
   "id": "106241f5",
   "metadata": {
    "execution": {
     "iopub.execute_input": "2025-07-22T10:08:53.128495Z",
     "iopub.status.busy": "2025-07-22T10:08:53.127982Z",
     "iopub.status.idle": "2025-07-22T10:08:53.135396Z",
     "shell.execute_reply": "2025-07-22T10:08:53.134372Z"
    },
    "papermill": {
     "duration": 0.029736,
     "end_time": "2025-07-22T10:08:53.137259",
     "exception": false,
     "start_time": "2025-07-22T10:08:53.107523",
     "status": "completed"
    },
    "tags": []
   },
   "outputs": [
    {
     "name": "stdout",
     "output_type": "stream",
     "text": [
      "Using Seed: 2023\n"
     ]
    }
   ],
   "source": [
    "import numpy as np\n",
    "parsed_seed = int(seed)\n",
    "np.random.seed(parsed_seed)\n",
    "print(f\"Using Seed: {parsed_seed}\")"
   ]
  },
  {
   "cell_type": "markdown",
   "id": "e0ebdc57",
   "metadata": {
    "papermill": {
     "duration": 0.016819,
     "end_time": "2025-07-22T10:08:53.173078",
     "exception": false,
     "start_time": "2025-07-22T10:08:53.156259",
     "status": "completed"
    },
    "tags": []
   },
   "source": [
    "# Loading Data"
   ]
  },
  {
   "cell_type": "markdown",
   "id": "681925a3",
   "metadata": {
    "papermill": {
     "duration": 0.016601,
     "end_time": "2025-07-22T10:08:53.206881",
     "exception": false,
     "start_time": "2025-07-22T10:08:53.190280",
     "status": "completed"
    },
    "tags": []
   },
   "source": [
    "Load siab_train, siab_test, siab_calib and/or \n",
    "load siab_train_features, siab_train_labels"
   ]
  },
  {
   "cell_type": "code",
   "execution_count": 9,
   "id": "f0496b8a",
   "metadata": {
    "execution": {
     "iopub.execute_input": "2025-07-22T10:08:53.242674Z",
     "iopub.status.busy": "2025-07-22T10:08:53.241718Z",
     "iopub.status.idle": "2025-07-22T10:08:53.247985Z",
     "shell.execute_reply": "2025-07-22T10:08:53.246884Z"
    },
    "papermill": {
     "duration": 0.026569,
     "end_time": "2025-07-22T10:08:53.250296",
     "exception": false,
     "start_time": "2025-07-22T10:08:53.223727",
     "status": "completed"
    },
    "tags": []
   },
   "outputs": [],
   "source": [
    "# Do I need to load siab? Delete this cell?\n",
    "\n",
    "#from pathlib import Path\n",
    "#import pandas as pd\n",
    "#\n",
    "## File paths\n",
    "#raw_file = Path(\"data/raw/siab.csv\")\n",
    "#cache_file = Path(\"data/siab_cached.csv.gz\")\n",
    "#\n",
    "## Ensure cache directory exists\n",
    "#cache_file.parent.mkdir(parents=True, exist_ok=True)\n",
    "#\n",
    "## Load with simple caching\n",
    "#if cache_file.exists():\n",
    "#    print(f\"Loading SIAB data from cache: {cache_file}\")\n",
    "#    siab = pd.read_csv(cache_file, compression='gzip')\n",
    "#else:\n",
    "#    print(f\"Cache not found. Reading raw SIAB data: {raw_file}\")\n",
    "#    siab = pd.read_csv(raw_file)\n",
    "#    siab.to_csv(cache_file, index=False, compression='gzip')\n",
    "#    print(f\"Cached SIAB data to: {cache_file}\")\n",
    "#\n",
    "## Now use `siab` DataFrame as needed\n",
    "#print(siab.shape)\n"
   ]
  },
  {
   "cell_type": "code",
   "execution_count": 10,
   "id": "a0edb063",
   "metadata": {
    "execution": {
     "iopub.execute_input": "2025-07-22T10:08:53.287778Z",
     "iopub.status.busy": "2025-07-22T10:08:53.287128Z",
     "iopub.status.idle": "2025-07-22T10:08:53.752330Z",
     "shell.execute_reply": "2025-07-22T10:08:53.751390Z"
    },
    "papermill": {
     "duration": 0.485019,
     "end_time": "2025-07-22T10:08:53.754373",
     "exception": false,
     "start_time": "2025-07-22T10:08:53.269354",
     "status": "completed"
    },
    "tags": []
   },
   "outputs": [],
   "source": [
    "import pandas as pd\n",
    "\n",
    "X_train = pd.read_csv(\"./data/X_train.csv\")\n",
    "y_train = pd.read_csv(\"./data/y_train.csv\")"
   ]
  },
  {
   "cell_type": "code",
   "execution_count": 11,
   "id": "63d08085",
   "metadata": {
    "execution": {
     "iopub.execute_input": "2025-07-22T10:08:53.789817Z",
     "iopub.status.busy": "2025-07-22T10:08:53.789115Z",
     "iopub.status.idle": "2025-07-22T10:08:55.317042Z",
     "shell.execute_reply": "2025-07-22T10:08:55.315876Z"
    },
    "papermill": {
     "duration": 1.54875,
     "end_time": "2025-07-22T10:08:55.319560",
     "exception": false,
     "start_time": "2025-07-22T10:08:53.770810",
     "status": "completed"
    },
    "tags": []
   },
   "outputs": [],
   "source": [
    "X_test = pd.read_csv(\"./data/X_test.csv\")\n",
    "y_true = pd.read_csv(\"./data/y_test.csv\")"
   ]
  },
  {
   "cell_type": "code",
   "execution_count": 12,
   "id": "98a8d0fa-1d3d-4ed8-bb2c-281470e24add",
   "metadata": {
    "execution": {
     "iopub.execute_input": "2025-07-22T10:08:55.359346Z",
     "iopub.status.busy": "2025-07-22T10:08:55.358752Z",
     "iopub.status.idle": "2025-07-22T10:08:56.894269Z",
     "shell.execute_reply": "2025-07-22T10:08:56.893174Z"
    },
    "papermill": {
     "duration": 1.557515,
     "end_time": "2025-07-22T10:08:56.896386",
     "exception": false,
     "start_time": "2025-07-22T10:08:55.338871",
     "status": "completed"
    },
    "tags": []
   },
   "outputs": [],
   "source": [
    "# Calibration data for conformal\n",
    "X_calib = pd.read_csv(\"./data/X_calib.csv\")\n",
    "y_calib = pd.read_csv(\"./data/y_calib.csv\")"
   ]
  },
  {
   "cell_type": "code",
   "execution_count": 13,
   "id": "e6c733c5",
   "metadata": {
    "execution": {
     "iopub.execute_input": "2025-07-22T10:08:56.937575Z",
     "iopub.status.busy": "2025-07-22T10:08:56.936979Z",
     "iopub.status.idle": "2025-07-22T10:08:57.054070Z",
     "shell.execute_reply": "2025-07-22T10:08:57.052992Z"
    },
    "papermill": {
     "duration": 0.139116,
     "end_time": "2025-07-22T10:08:57.056110",
     "exception": false,
     "start_time": "2025-07-22T10:08:56.916994",
     "status": "completed"
    },
    "tags": []
   },
   "outputs": [],
   "source": [
    "# Auxiliary data needed downstream in the pipeline\n",
    "\n",
    "org_train = X_train.copy()\n",
    "org_test = X_test.copy()\n",
    "org_calib = X_calib.copy()"
   ]
  },
  {
   "cell_type": "markdown",
   "id": "0a4a1b33",
   "metadata": {
    "papermill": {
     "duration": 0.018825,
     "end_time": "2025-07-22T10:08:57.094357",
     "exception": false,
     "start_time": "2025-07-22T10:08:57.075532",
     "status": "completed"
    },
    "tags": []
   },
   "source": [
    "# Preprocessing Data"
   ]
  },
  {
   "cell_type": "code",
   "execution_count": 14,
   "id": "ca879031",
   "metadata": {
    "execution": {
     "iopub.execute_input": "2025-07-22T10:08:57.131784Z",
     "iopub.status.busy": "2025-07-22T10:08:57.130880Z",
     "iopub.status.idle": "2025-07-22T10:08:57.137440Z",
     "shell.execute_reply": "2025-07-22T10:08:57.136413Z"
    },
    "papermill": {
     "duration": 0.026681,
     "end_time": "2025-07-22T10:08:57.139181",
     "exception": false,
     "start_time": "2025-07-22T10:08:57.112500",
     "status": "completed"
    },
    "tags": []
   },
   "outputs": [],
   "source": [
    "# EXCLUDE PROTECTED FEATURES\n",
    "# ----------------------\n",
    "# \"exclude_features\": \"none\", # \"nationality\", \"sex\", \"nationality-sex\"\n",
    "\n",
    "excluded_features = universe[\"exclude_features\"].split(\"-\") # split, e.g.: \"nationality-sex\" -> [\"nationality\", \"sex\"]\n",
    "excluded_features_dictionary = {\n",
    "    \"nationality\": [\"maxdeutsch1\", \"maxdeutsch.Missing.\"],\n",
    "    \"sex\": [\"frau1\"],\n",
    "}\n"
   ]
  },
  {
   "cell_type": "code",
   "execution_count": 15,
   "id": "b745ac60",
   "metadata": {
    "execution": {
     "iopub.execute_input": "2025-07-22T10:08:57.179146Z",
     "iopub.status.busy": "2025-07-22T10:08:57.178608Z",
     "iopub.status.idle": "2025-07-22T10:08:57.185083Z",
     "shell.execute_reply": "2025-07-22T10:08:57.183635Z"
    },
    "papermill": {
     "duration": 0.028475,
     "end_time": "2025-07-22T10:08:57.187372",
     "exception": false,
     "start_time": "2025-07-22T10:08:57.158897",
     "status": "completed"
    },
    "tags": []
   },
   "outputs": [],
   "source": [
    "# Code nice names to column names\n",
    "\n",
    "excluded_features_columns = [\n",
    "    excluded_features_dictionary[f] for f in excluded_features if len(f) > 0 and f != \"none\"\n",
    "]"
   ]
  },
  {
   "cell_type": "code",
   "execution_count": 16,
   "id": "f84f73a2",
   "metadata": {
    "execution": {
     "iopub.execute_input": "2025-07-22T10:08:57.227609Z",
     "iopub.status.busy": "2025-07-22T10:08:57.226798Z",
     "iopub.status.idle": "2025-07-22T10:08:57.234033Z",
     "shell.execute_reply": "2025-07-22T10:08:57.232921Z"
    },
    "papermill": {
     "duration": 0.028937,
     "end_time": "2025-07-22T10:08:57.236058",
     "exception": false,
     "start_time": "2025-07-22T10:08:57.207121",
     "status": "completed"
    },
    "tags": []
   },
   "outputs": [],
   "source": [
    "from utils import flatten_once\n",
    "\n",
    "excluded_features_columns = flatten_once(excluded_features_columns)"
   ]
  },
  {
   "cell_type": "code",
   "execution_count": 17,
   "id": "884dea22",
   "metadata": {
    "execution": {
     "iopub.execute_input": "2025-07-22T10:08:57.276832Z",
     "iopub.status.busy": "2025-07-22T10:08:57.276297Z",
     "iopub.status.idle": "2025-07-22T10:08:57.292124Z",
     "shell.execute_reply": "2025-07-22T10:08:57.291285Z"
    },
    "papermill": {
     "duration": 0.044746,
     "end_time": "2025-07-22T10:08:57.300909",
     "exception": false,
     "start_time": "2025-07-22T10:08:57.256163",
     "status": "completed"
    },
    "tags": []
   },
   "outputs": [
    {
     "name": "stdout",
     "output_type": "stream",
     "text": [
      "Dropping features: ['maxdeutsch1', 'maxdeutsch.Missing.', 'frau1']\n"
     ]
    }
   ],
   "source": [
    "if len(excluded_features_columns) > 0:\n",
    "    print(f\"Dropping features: {excluded_features_columns}\")\n",
    "    X_train.drop(excluded_features_columns, axis=1, inplace=True)"
   ]
  },
  {
   "cell_type": "code",
   "execution_count": 18,
   "id": "95ab8b16",
   "metadata": {
    "execution": {
     "iopub.execute_input": "2025-07-22T10:08:57.343079Z",
     "iopub.status.busy": "2025-07-22T10:08:57.342688Z",
     "iopub.status.idle": "2025-07-22T10:08:57.410270Z",
     "shell.execute_reply": "2025-07-22T10:08:57.409292Z"
    },
    "papermill": {
     "duration": 0.090404,
     "end_time": "2025-07-22T10:08:57.412245",
     "exception": false,
     "start_time": "2025-07-22T10:08:57.321841",
     "status": "completed"
    },
    "tags": []
   },
   "outputs": [
    {
     "name": "stdout",
     "output_type": "stream",
     "text": [
      "Dropping features: ['maxdeutsch1', 'maxdeutsch.Missing.', 'frau1']\n"
     ]
    }
   ],
   "source": [
    "if len(excluded_features_columns) > 0:\n",
    "    print(f\"Dropping features: {excluded_features_columns}\")\n",
    "    X_test.drop(excluded_features_columns, axis=1, inplace=True)"
   ]
  },
  {
   "cell_type": "code",
   "execution_count": 19,
   "id": "1853aaf5-fb9f-46cb-a2b5-8ea4ae2237e4",
   "metadata": {
    "execution": {
     "iopub.execute_input": "2025-07-22T10:08:57.455673Z",
     "iopub.status.busy": "2025-07-22T10:08:57.454856Z",
     "iopub.status.idle": "2025-07-22T10:08:57.511718Z",
     "shell.execute_reply": "2025-07-22T10:08:57.510788Z"
    },
    "papermill": {
     "duration": 0.081619,
     "end_time": "2025-07-22T10:08:57.513996",
     "exception": false,
     "start_time": "2025-07-22T10:08:57.432377",
     "status": "completed"
    },
    "tags": []
   },
   "outputs": [
    {
     "name": "stdout",
     "output_type": "stream",
     "text": [
      "Dropping features: ['maxdeutsch1', 'maxdeutsch.Missing.', 'frau1']\n"
     ]
    }
   ],
   "source": [
    "if len(excluded_features_columns) > 0:\n",
    "    print(f\"Dropping features: {excluded_features_columns}\")\n",
    "    X_calib.drop(excluded_features_columns, axis=1, inplace=True)"
   ]
  },
  {
   "cell_type": "code",
   "execution_count": 20,
   "id": "76c4dc6d",
   "metadata": {
    "execution": {
     "iopub.execute_input": "2025-07-22T10:08:57.556952Z",
     "iopub.status.busy": "2025-07-22T10:08:57.555976Z",
     "iopub.status.idle": "2025-07-22T10:08:57.561969Z",
     "shell.execute_reply": "2025-07-22T10:08:57.560965Z"
    },
    "papermill": {
     "duration": 0.030287,
     "end_time": "2025-07-22T10:08:57.564136",
     "exception": false,
     "start_time": "2025-07-22T10:08:57.533849",
     "status": "completed"
    },
    "tags": []
   },
   "outputs": [],
   "source": [
    "# EXCLUDE CERTAIN SUBGROUPS\n",
    "# ----------------------\n",
    "\n",
    "mode = universe.get(\"exclude_subgroups\", \"keep-all\") \n",
    "# Fetches the exclude_subgroups setting from the universe dict.\n",
    "# Defaults to \"keep-all\" if the key is missing."
   ]
  },
  {
   "cell_type": "code",
   "execution_count": 21,
   "id": "21994072",
   "metadata": {
    "execution": {
     "iopub.execute_input": "2025-07-22T10:08:57.607608Z",
     "iopub.status.busy": "2025-07-22T10:08:57.606655Z",
     "iopub.status.idle": "2025-07-22T10:08:57.614661Z",
     "shell.execute_reply": "2025-07-22T10:08:57.613528Z"
    },
    "papermill": {
     "duration": 0.032389,
     "end_time": "2025-07-22T10:08:57.617023",
     "exception": false,
     "start_time": "2025-07-22T10:08:57.584634",
     "status": "completed"
    },
    "tags": []
   },
   "outputs": [],
   "source": [
    "if mode == \"keep-all\":\n",
    "    keep_mask = pd.Series(True, index=org_train.index)\n",
    "\n",
    "# org_train contains the original feature columns from features_org (in Simson)\n",
    "# features_org contains unprocessed features, for me X_train at beginning ???\n",
    "# For keep-all, creates a boolean Series (keep_mask) of all True, so no rows are removed.\n",
    "\n",
    "elif mode == \"drop-non-german\":\n",
    "    keep_mask = org_train[\"maxdeutsch1\"] == 1 # ??? what about missing values?\n",
    "\n",
    "else:\n",
    "    raise ValueError(f\"Unsupported mode for exclude_subgroups: {mode}\")\n"
   ]
  },
  {
   "cell_type": "code",
   "execution_count": 22,
   "id": "71651440",
   "metadata": {
    "execution": {
     "iopub.execute_input": "2025-07-22T10:08:57.658110Z",
     "iopub.status.busy": "2025-07-22T10:08:57.657633Z",
     "iopub.status.idle": "2025-07-22T10:08:57.665848Z",
     "shell.execute_reply": "2025-07-22T10:08:57.664632Z"
    },
    "papermill": {
     "duration": 0.029627,
     "end_time": "2025-07-22T10:08:57.667886",
     "exception": false,
     "start_time": "2025-07-22T10:08:57.638259",
     "status": "completed"
    },
    "tags": []
   },
   "outputs": [
    {
     "name": "stdout",
     "output_type": "stream",
     "text": [
      "Dropping 3312 rows (13.25%) where mode='drop-non-german'\n"
     ]
    }
   ],
   "source": [
    "n_drop = (~keep_mask).sum() # Calculates how many rows are set to be dropped\n",
    "if n_drop > 0:\n",
    "    pct = n_drop / len(keep_mask) * 100\n",
    "    print(f\"Dropping {n_drop} rows ({pct:.2f}%) where mode='{mode}'\")"
   ]
  },
  {
   "cell_type": "code",
   "execution_count": 23,
   "id": "5fb8eee5",
   "metadata": {
    "execution": {
     "iopub.execute_input": "2025-07-22T10:08:57.711136Z",
     "iopub.status.busy": "2025-07-22T10:08:57.710644Z",
     "iopub.status.idle": "2025-07-22T10:08:57.732737Z",
     "shell.execute_reply": "2025-07-22T10:08:57.731409Z"
    },
    "papermill": {
     "duration": 0.045806,
     "end_time": "2025-07-22T10:08:57.734774",
     "exception": false,
     "start_time": "2025-07-22T10:08:57.688968",
     "status": "completed"
    },
    "tags": []
   },
   "outputs": [],
   "source": [
    "X_train = X_train[keep_mask]"
   ]
  },
  {
   "cell_type": "code",
   "execution_count": 24,
   "id": "b202bb3a",
   "metadata": {
    "execution": {
     "iopub.execute_input": "2025-07-22T10:08:57.777506Z",
     "iopub.status.busy": "2025-07-22T10:08:57.776813Z",
     "iopub.status.idle": "2025-07-22T10:08:57.783976Z",
     "shell.execute_reply": "2025-07-22T10:08:57.782899Z"
    },
    "papermill": {
     "duration": 0.032125,
     "end_time": "2025-07-22T10:08:57.785869",
     "exception": false,
     "start_time": "2025-07-22T10:08:57.753744",
     "status": "completed"
    },
    "tags": []
   },
   "outputs": [],
   "source": [
    "y_train = y_train[keep_mask]"
   ]
  },
  {
   "cell_type": "markdown",
   "id": "493e2ac3",
   "metadata": {
    "papermill": {
     "duration": 0.0209,
     "end_time": "2025-07-22T10:08:57.827329",
     "exception": false,
     "start_time": "2025-07-22T10:08:57.806429",
     "status": "completed"
    },
    "tags": []
   },
   "source": [
    "# Model Training"
   ]
  },
  {
   "cell_type": "code",
   "execution_count": 25,
   "id": "679e1268",
   "metadata": {
    "execution": {
     "iopub.execute_input": "2025-07-22T10:08:57.863774Z",
     "iopub.status.busy": "2025-07-22T10:08:57.863390Z",
     "iopub.status.idle": "2025-07-22T10:08:58.058212Z",
     "shell.execute_reply": "2025-07-22T10:08:58.057415Z"
    },
    "papermill": {
     "duration": 0.213071,
     "end_time": "2025-07-22T10:08:58.059851",
     "exception": false,
     "start_time": "2025-07-22T10:08:57.846780",
     "status": "completed"
    },
    "tags": []
   },
   "outputs": [],
   "source": [
    "from sklearn.linear_model import LogisticRegression\n",
    "from sklearn.ensemble import GradientBoostingClassifier, RandomForestClassifier\n",
    "\n",
    "if (universe[\"model\"] == \"logreg\"):\n",
    "    model = LogisticRegression() #penalty=\"none\") #, solver=\"newton-cg\", max_iter=1) # include random_state=19 ?\n",
    "elif (universe[\"model\"] == \"penalized_logreg\"):\n",
    "    model = LogisticRegression(penalty=\"l2\", C=1.0) #, solver=\"newton-cg\", max_iter=1)\n",
    "elif (universe[\"model\"] == \"rf\"):\n",
    "    model = RandomForestClassifier(n_estimators=100, n_jobs=-1)\n",
    "elif (universe[\"model\"] == \"gbm\"):\n",
    "    model = GradientBoostingClassifier()\n",
    "elif (universe[\"model\"] == \"elasticnet\"):\n",
    "    model = LogisticRegression(penalty = 'elasticnet', solver = 'saga', l1_ratio = 0.5, max_iter=5000) # which solver to use?\n",
    "else:\n",
    "    raise \"Unsupported universe.model\""
   ]
  },
  {
   "cell_type": "code",
   "execution_count": 26,
   "id": "0cc8f744",
   "metadata": {
    "execution": {
     "iopub.execute_input": "2025-07-22T10:08:58.082307Z",
     "iopub.status.busy": "2025-07-22T10:08:58.081740Z",
     "iopub.status.idle": "2025-07-22T10:08:58.087764Z",
     "shell.execute_reply": "2025-07-22T10:08:58.086872Z"
    },
    "papermill": {
     "duration": 0.018806,
     "end_time": "2025-07-22T10:08:58.089343",
     "exception": false,
     "start_time": "2025-07-22T10:08:58.070537",
     "status": "completed"
    },
    "tags": []
   },
   "outputs": [],
   "source": [
    "import numpy as np\n",
    "from sklearn.pipeline import Pipeline\n",
    "from sklearn.preprocessing import StandardScaler\n",
    "\n",
    "model = Pipeline([\n",
    "    #(\"continuous_processor\", continuous_processor),\n",
    "    #(\"categorical_preprocessor\", categorical_preprocessor),\n",
    "    (\"scale\", StandardScaler() if universe[\"scale\"] == \"scale\" else None), \n",
    "    (\"model\", model),\n",
    "])"
   ]
  },
  {
   "cell_type": "code",
   "execution_count": 27,
   "id": "9442c04d",
   "metadata": {
    "execution": {
     "iopub.execute_input": "2025-07-22T10:08:58.113350Z",
     "iopub.status.busy": "2025-07-22T10:08:58.112777Z",
     "iopub.status.idle": "2025-07-22T10:09:22.948164Z",
     "shell.execute_reply": "2025-07-22T10:09:22.946953Z"
    },
    "papermill": {
     "duration": 24.848129,
     "end_time": "2025-07-22T10:09:22.949870",
     "exception": false,
     "start_time": "2025-07-22T10:08:58.101741",
     "status": "completed"
    },
    "tags": []
   },
   "outputs": [
    {
     "data": {
      "text/html": [
       "<style>#sk-container-id-1 {color: black;background-color: white;}#sk-container-id-1 pre{padding: 0;}#sk-container-id-1 div.sk-toggleable {background-color: white;}#sk-container-id-1 label.sk-toggleable__label {cursor: pointer;display: block;width: 100%;margin-bottom: 0;padding: 0.3em;box-sizing: border-box;text-align: center;}#sk-container-id-1 label.sk-toggleable__label-arrow:before {content: \"▸\";float: left;margin-right: 0.25em;color: #696969;}#sk-container-id-1 label.sk-toggleable__label-arrow:hover:before {color: black;}#sk-container-id-1 div.sk-estimator:hover label.sk-toggleable__label-arrow:before {color: black;}#sk-container-id-1 div.sk-toggleable__content {max-height: 0;max-width: 0;overflow: hidden;text-align: left;background-color: #f0f8ff;}#sk-container-id-1 div.sk-toggleable__content pre {margin: 0.2em;color: black;border-radius: 0.25em;background-color: #f0f8ff;}#sk-container-id-1 input.sk-toggleable__control:checked~div.sk-toggleable__content {max-height: 200px;max-width: 100%;overflow: auto;}#sk-container-id-1 input.sk-toggleable__control:checked~label.sk-toggleable__label-arrow:before {content: \"▾\";}#sk-container-id-1 div.sk-estimator input.sk-toggleable__control:checked~label.sk-toggleable__label {background-color: #d4ebff;}#sk-container-id-1 div.sk-label input.sk-toggleable__control:checked~label.sk-toggleable__label {background-color: #d4ebff;}#sk-container-id-1 input.sk-hidden--visually {border: 0;clip: rect(1px 1px 1px 1px);clip: rect(1px, 1px, 1px, 1px);height: 1px;margin: -1px;overflow: hidden;padding: 0;position: absolute;width: 1px;}#sk-container-id-1 div.sk-estimator {font-family: monospace;background-color: #f0f8ff;border: 1px dotted black;border-radius: 0.25em;box-sizing: border-box;margin-bottom: 0.5em;}#sk-container-id-1 div.sk-estimator:hover {background-color: #d4ebff;}#sk-container-id-1 div.sk-parallel-item::after {content: \"\";width: 100%;border-bottom: 1px solid gray;flex-grow: 1;}#sk-container-id-1 div.sk-label:hover label.sk-toggleable__label {background-color: #d4ebff;}#sk-container-id-1 div.sk-serial::before {content: \"\";position: absolute;border-left: 1px solid gray;box-sizing: border-box;top: 0;bottom: 0;left: 50%;z-index: 0;}#sk-container-id-1 div.sk-serial {display: flex;flex-direction: column;align-items: center;background-color: white;padding-right: 0.2em;padding-left: 0.2em;position: relative;}#sk-container-id-1 div.sk-item {position: relative;z-index: 1;}#sk-container-id-1 div.sk-parallel {display: flex;align-items: stretch;justify-content: center;background-color: white;position: relative;}#sk-container-id-1 div.sk-item::before, #sk-container-id-1 div.sk-parallel-item::before {content: \"\";position: absolute;border-left: 1px solid gray;box-sizing: border-box;top: 0;bottom: 0;left: 50%;z-index: -1;}#sk-container-id-1 div.sk-parallel-item {display: flex;flex-direction: column;z-index: 1;position: relative;background-color: white;}#sk-container-id-1 div.sk-parallel-item:first-child::after {align-self: flex-end;width: 50%;}#sk-container-id-1 div.sk-parallel-item:last-child::after {align-self: flex-start;width: 50%;}#sk-container-id-1 div.sk-parallel-item:only-child::after {width: 0;}#sk-container-id-1 div.sk-dashed-wrapped {border: 1px dashed gray;margin: 0 0.4em 0.5em 0.4em;box-sizing: border-box;padding-bottom: 0.4em;background-color: white;}#sk-container-id-1 div.sk-label label {font-family: monospace;font-weight: bold;display: inline-block;line-height: 1.2em;}#sk-container-id-1 div.sk-label-container {text-align: center;}#sk-container-id-1 div.sk-container {/* jupyter's `normalize.less` sets `[hidden] { display: none; }` but bootstrap.min.css set `[hidden] { display: none !important; }` so we also need the `!important` here to be able to override the default hidden behavior on the sphinx rendered scikit-learn.org. See: https://github.com/scikit-learn/scikit-learn/issues/21755 */display: inline-block !important;position: relative;}#sk-container-id-1 div.sk-text-repr-fallback {display: none;}</style><div id=\"sk-container-id-1\" class=\"sk-top-container\"><div class=\"sk-text-repr-fallback\"><pre>Pipeline(steps=[(&#x27;scale&#x27;, StandardScaler()),\n",
       "                (&#x27;model&#x27;, GradientBoostingClassifier())])</pre><b>In a Jupyter environment, please rerun this cell to show the HTML representation or trust the notebook. <br />On GitHub, the HTML representation is unable to render, please try loading this page with nbviewer.org.</b></div><div class=\"sk-container\" hidden><div class=\"sk-item sk-dashed-wrapped\"><div class=\"sk-label-container\"><div class=\"sk-label sk-toggleable\"><input class=\"sk-toggleable__control sk-hidden--visually\" id=\"sk-estimator-id-1\" type=\"checkbox\" ><label for=\"sk-estimator-id-1\" class=\"sk-toggleable__label sk-toggleable__label-arrow\">Pipeline</label><div class=\"sk-toggleable__content\"><pre>Pipeline(steps=[(&#x27;scale&#x27;, StandardScaler()),\n",
       "                (&#x27;model&#x27;, GradientBoostingClassifier())])</pre></div></div></div><div class=\"sk-serial\"><div class=\"sk-item\"><div class=\"sk-estimator sk-toggleable\"><input class=\"sk-toggleable__control sk-hidden--visually\" id=\"sk-estimator-id-2\" type=\"checkbox\" ><label for=\"sk-estimator-id-2\" class=\"sk-toggleable__label sk-toggleable__label-arrow\">StandardScaler</label><div class=\"sk-toggleable__content\"><pre>StandardScaler()</pre></div></div></div><div class=\"sk-item\"><div class=\"sk-estimator sk-toggleable\"><input class=\"sk-toggleable__control sk-hidden--visually\" id=\"sk-estimator-id-3\" type=\"checkbox\" ><label for=\"sk-estimator-id-3\" class=\"sk-toggleable__label sk-toggleable__label-arrow\">GradientBoostingClassifier</label><div class=\"sk-toggleable__content\"><pre>GradientBoostingClassifier()</pre></div></div></div></div></div></div></div>"
      ],
      "text/plain": [
       "Pipeline(steps=[('scale', StandardScaler()),\n",
       "                ('model', GradientBoostingClassifier())])"
      ]
     },
     "execution_count": 27,
     "metadata": {},
     "output_type": "execute_result"
    }
   ],
   "source": [
    "model.fit(X_train, y_train.values.ravel())"
   ]
  },
  {
   "cell_type": "code",
   "execution_count": 28,
   "id": "af59f8c0",
   "metadata": {
    "execution": {
     "iopub.execute_input": "2025-07-22T10:09:22.977322Z",
     "iopub.status.busy": "2025-07-22T10:09:22.976396Z",
     "iopub.status.idle": "2025-07-22T10:09:22.983933Z",
     "shell.execute_reply": "2025-07-22T10:09:22.982758Z"
    },
    "papermill": {
     "duration": 0.022047,
     "end_time": "2025-07-22T10:09:22.986120",
     "exception": false,
     "start_time": "2025-07-22T10:09:22.964073",
     "status": "completed"
    },
    "tags": []
   },
   "outputs": [],
   "source": [
    "from fairness_multiverse.universe import predict_w_threshold"
   ]
  },
  {
   "cell_type": "code",
   "execution_count": 29,
   "id": "a7cf2e16",
   "metadata": {
    "execution": {
     "iopub.execute_input": "2025-07-22T10:09:23.024868Z",
     "iopub.status.busy": "2025-07-22T10:09:23.024340Z",
     "iopub.status.idle": "2025-07-22T10:09:23.930082Z",
     "shell.execute_reply": "2025-07-22T10:09:23.928929Z"
    },
    "papermill": {
     "duration": 0.925958,
     "end_time": "2025-07-22T10:09:23.931986",
     "exception": false,
     "start_time": "2025-07-22T10:09:23.006028",
     "status": "completed"
    },
    "tags": []
   },
   "outputs": [
    {
     "data": {
      "text/plain": [
       "0.8689109352357597"
      ]
     },
     "execution_count": 29,
     "metadata": {},
     "output_type": "execute_result"
    }
   ],
   "source": [
    "probs_test = model.predict_proba(X_test)\n",
    "\n",
    "'''\n",
    "Below code returns a boolean array (or binary 0/1 array depending on how it’s used) where each element \n",
    "is True if the probability of class 1 is greater than or equal to the threshold, and False otherwise.\n",
    "'''\n",
    "y_pred_default = predict_w_threshold(probs_test, 0.5)\n",
    "\n",
    "from sklearn.metrics import accuracy_score\n",
    "\n",
    "# Naive prediction\n",
    "accuracy_score(y_true = y_true, y_pred = y_pred_default)"
   ]
  },
  {
   "cell_type": "code",
   "execution_count": 30,
   "id": "081964c3",
   "metadata": {
    "execution": {
     "iopub.execute_input": "2025-07-22T10:09:23.972249Z",
     "iopub.status.busy": "2025-07-22T10:09:23.971799Z",
     "iopub.status.idle": "2025-07-22T10:09:24.753640Z",
     "shell.execute_reply": "2025-07-22T10:09:24.752526Z"
    },
    "papermill": {
     "duration": 0.803855,
     "end_time": "2025-07-22T10:09:24.755227",
     "exception": false,
     "start_time": "2025-07-22T10:09:23.951372",
     "status": "completed"
    },
    "tags": []
   },
   "outputs": [
    {
     "data": {
      "text/plain": [
       "array([0, 0, 0, ..., 0, 0, 0])"
      ]
     },
     "execution_count": 30,
     "metadata": {},
     "output_type": "execute_result"
    }
   ],
   "source": [
    "model.predict(X_test)"
   ]
  },
  {
   "cell_type": "markdown",
   "id": "56c9705b",
   "metadata": {
    "papermill": {
     "duration": 0.020178,
     "end_time": "2025-07-22T10:09:24.798246",
     "exception": false,
     "start_time": "2025-07-22T10:09:24.778068",
     "status": "completed"
    },
    "tags": []
   },
   "source": [
    "# Conformal Prediction"
   ]
  },
  {
   "cell_type": "code",
   "execution_count": 31,
   "id": "97cb0abb-9ba7-4cd9-96c4-aa4728b38a5f",
   "metadata": {
    "execution": {
     "iopub.execute_input": "2025-07-22T10:09:24.835806Z",
     "iopub.status.busy": "2025-07-22T10:09:24.835438Z",
     "iopub.status.idle": "2025-07-22T10:09:24.840404Z",
     "shell.execute_reply": "2025-07-22T10:09:24.839644Z"
    },
    "papermill": {
     "duration": 0.025722,
     "end_time": "2025-07-22T10:09:24.842115",
     "exception": false,
     "start_time": "2025-07-22T10:09:24.816393",
     "status": "completed"
    },
    "tags": []
   },
   "outputs": [],
   "source": [
    "# SCALE X CALIB IF UNIVERSE IS IN SCALE?????"
   ]
  },
  {
   "cell_type": "code",
   "execution_count": 32,
   "id": "160ec6ff",
   "metadata": {
    "execution": {
     "iopub.execute_input": "2025-07-22T10:09:24.865780Z",
     "iopub.status.busy": "2025-07-22T10:09:24.865275Z",
     "iopub.status.idle": "2025-07-22T10:09:24.869932Z",
     "shell.execute_reply": "2025-07-22T10:09:24.869095Z"
    },
    "papermill": {
     "duration": 0.017285,
     "end_time": "2025-07-22T10:09:24.871332",
     "exception": false,
     "start_time": "2025-07-22T10:09:24.854047",
     "status": "completed"
    },
    "tags": []
   },
   "outputs": [],
   "source": [
    "# Miscoverage level for conformal prediction (10% allowed error rate => 90% target coverage)\n",
    "alpha = 0.1"
   ]
  },
  {
   "cell_type": "code",
   "execution_count": 33,
   "id": "eadf4555-3dd3-440e-8e35-f82a4ad9f855",
   "metadata": {
    "execution": {
     "iopub.execute_input": "2025-07-22T10:09:24.895878Z",
     "iopub.status.busy": "2025-07-22T10:09:24.895361Z",
     "iopub.status.idle": "2025-07-22T10:09:25.555175Z",
     "shell.execute_reply": "2025-07-22T10:09:25.554191Z"
    },
    "papermill": {
     "duration": 0.673516,
     "end_time": "2025-07-22T10:09:25.557422",
     "exception": false,
     "start_time": "2025-07-22T10:09:24.883906",
     "status": "completed"
    },
    "tags": []
   },
   "outputs": [],
   "source": [
    "probs_calib = model.predict_proba(X_calib)"
   ]
  },
  {
   "cell_type": "code",
   "execution_count": 34,
   "id": "2ed93547-6d5d-4983-9b36-1ecb300da49a",
   "metadata": {
    "execution": {
     "iopub.execute_input": "2025-07-22T10:09:25.601089Z",
     "iopub.status.busy": "2025-07-22T10:09:25.600460Z",
     "iopub.status.idle": "2025-07-22T10:09:25.607563Z",
     "shell.execute_reply": "2025-07-22T10:09:25.606257Z"
    },
    "papermill": {
     "duration": 0.029844,
     "end_time": "2025-07-22T10:09:25.609877",
     "exception": false,
     "start_time": "2025-07-22T10:09:25.580033",
     "status": "completed"
    },
    "tags": []
   },
   "outputs": [],
   "source": [
    "y_calib = y_calib.values.ravel().astype(int)"
   ]
  },
  {
   "cell_type": "code",
   "execution_count": 35,
   "id": "65d1320d-f588-4b38-9072-62af1ae97f7d",
   "metadata": {
    "execution": {
     "iopub.execute_input": "2025-07-22T10:09:25.657971Z",
     "iopub.status.busy": "2025-07-22T10:09:25.657455Z",
     "iopub.status.idle": "2025-07-22T10:09:25.666461Z",
     "shell.execute_reply": "2025-07-22T10:09:25.665105Z"
    },
    "papermill": {
     "duration": 0.037143,
     "end_time": "2025-07-22T10:09:25.669202",
     "exception": false,
     "start_time": "2025-07-22T10:09:25.632059",
     "status": "completed"
    },
    "tags": []
   },
   "outputs": [],
   "source": [
    "from fairness_multiverse.conformal import compute_nc_scores\n",
    "\n",
    "# Compute nonconformity scores on calibration set (1 - probability of true class)\n",
    "nc_scores = compute_nc_scores(probs_calib, y_calib)"
   ]
  },
  {
   "cell_type": "code",
   "execution_count": 36,
   "id": "df3b8ca3-53b7-43d5-9667-7c85da7aeda2",
   "metadata": {
    "execution": {
     "iopub.execute_input": "2025-07-22T10:09:25.730742Z",
     "iopub.status.busy": "2025-07-22T10:09:25.729991Z",
     "iopub.status.idle": "2025-07-22T10:09:25.738445Z",
     "shell.execute_reply": "2025-07-22T10:09:25.737248Z"
    },
    "papermill": {
     "duration": 0.041785,
     "end_time": "2025-07-22T10:09:25.741238",
     "exception": false,
     "start_time": "2025-07-22T10:09:25.699453",
     "status": "completed"
    },
    "tags": []
   },
   "outputs": [],
   "source": [
    "from fairness_multiverse.conformal import find_threshold\n",
    "\n",
    "# Find conformal threshold q_hat for the given alpha (split conformal method)\n",
    "q_hat = find_threshold(nc_scores, alpha)"
   ]
  },
  {
   "cell_type": "code",
   "execution_count": 37,
   "id": "4d29e6c1-0ef6-4aa4-b8fe-4fe79b0d033a",
   "metadata": {
    "execution": {
     "iopub.execute_input": "2025-07-22T10:09:25.799468Z",
     "iopub.status.busy": "2025-07-22T10:09:25.798530Z",
     "iopub.status.idle": "2025-07-22T10:09:25.807011Z",
     "shell.execute_reply": "2025-07-22T10:09:25.806126Z"
    },
    "papermill": {
     "duration": 0.039433,
     "end_time": "2025-07-22T10:09:25.808988",
     "exception": false,
     "start_time": "2025-07-22T10:09:25.769555",
     "status": "completed"
    },
    "tags": []
   },
   "outputs": [
    {
     "data": {
      "text/plain": [
       "0.6644479348517421"
      ]
     },
     "execution_count": 37,
     "metadata": {},
     "output_type": "execute_result"
    }
   ],
   "source": [
    "q_hat"
   ]
  },
  {
   "cell_type": "code",
   "execution_count": 38,
   "id": "92460794-cdac-4be2-ba28-f28c0515a6fb",
   "metadata": {
    "execution": {
     "iopub.execute_input": "2025-07-22T10:09:25.862105Z",
     "iopub.status.busy": "2025-07-22T10:09:25.861540Z",
     "iopub.status.idle": "2025-07-22T10:09:27.227526Z",
     "shell.execute_reply": "2025-07-22T10:09:27.226469Z"
    },
    "papermill": {
     "duration": 1.396464,
     "end_time": "2025-07-22T10:09:27.229927",
     "exception": false,
     "start_time": "2025-07-22T10:09:25.833463",
     "status": "completed"
    },
    "tags": []
   },
   "outputs": [],
   "source": [
    "from fairness_multiverse.conformal import predict_conformal_sets\n",
    "\n",
    "# Generate prediction sets for each test example\n",
    "pred_sets = predict_conformal_sets(model, X_test, q_hat)"
   ]
  },
  {
   "cell_type": "code",
   "execution_count": 39,
   "id": "d90c9a65-e6db-4f5d-80cd-e68fb7e46829",
   "metadata": {
    "execution": {
     "iopub.execute_input": "2025-07-22T10:09:27.273692Z",
     "iopub.status.busy": "2025-07-22T10:09:27.273257Z",
     "iopub.status.idle": "2025-07-22T10:09:27.279457Z",
     "shell.execute_reply": "2025-07-22T10:09:27.278577Z"
    },
    "papermill": {
     "duration": 0.029383,
     "end_time": "2025-07-22T10:09:27.281241",
     "exception": false,
     "start_time": "2025-07-22T10:09:27.251858",
     "status": "completed"
    },
    "tags": []
   },
   "outputs": [],
   "source": [
    "y_true = y_true.squeeze()"
   ]
  },
  {
   "cell_type": "code",
   "execution_count": 40,
   "id": "3a58a54a-1e68-46b9-927a-df01f18aebc8",
   "metadata": {
    "execution": {
     "iopub.execute_input": "2025-07-22T10:09:27.306157Z",
     "iopub.status.busy": "2025-07-22T10:09:27.305508Z",
     "iopub.status.idle": "2025-07-22T10:09:27.962114Z",
     "shell.execute_reply": "2025-07-22T10:09:27.961373Z"
    },
    "papermill": {
     "duration": 0.670242,
     "end_time": "2025-07-22T10:09:27.963822",
     "exception": false,
     "start_time": "2025-07-22T10:09:27.293580",
     "status": "completed"
    },
    "tags": []
   },
   "outputs": [],
   "source": [
    "from fairness_multiverse.conformal import evaluate_sets\n",
    "\n",
    "# Evaluate coverage and average set size on test data\n",
    "metrics = evaluate_sets(pred_sets, y_true)"
   ]
  },
  {
   "cell_type": "code",
   "execution_count": 41,
   "id": "5ce0a5cb-201f-45a0-ade5-94c7f0bd6095",
   "metadata": {
    "execution": {
     "iopub.execute_input": "2025-07-22T10:09:28.005551Z",
     "iopub.status.busy": "2025-07-22T10:09:28.004744Z",
     "iopub.status.idle": "2025-07-22T10:09:28.012287Z",
     "shell.execute_reply": "2025-07-22T10:09:28.011239Z"
    },
    "papermill": {
     "duration": 0.030899,
     "end_time": "2025-07-22T10:09:28.014175",
     "exception": false,
     "start_time": "2025-07-22T10:09:27.983276",
     "status": "completed"
    },
    "tags": []
   },
   "outputs": [
    {
     "data": {
      "text/plain": [
       "{'coverage': 0.9117489688997882, 'avg_size': 1.1166202207111804}"
      ]
     },
     "execution_count": 41,
     "metadata": {},
     "output_type": "execute_result"
    }
   ],
   "source": [
    "metrics"
   ]
  },
  {
   "cell_type": "code",
   "execution_count": 42,
   "id": "9b9a838d-31c9-430b-ae14-12baee460d17",
   "metadata": {
    "execution": {
     "iopub.execute_input": "2025-07-22T10:09:28.062295Z",
     "iopub.status.busy": "2025-07-22T10:09:28.061898Z",
     "iopub.status.idle": "2025-07-22T10:09:28.068278Z",
     "shell.execute_reply": "2025-07-22T10:09:28.067065Z"
    },
    "papermill": {
     "duration": 0.030463,
     "end_time": "2025-07-22T10:09:28.070244",
     "exception": false,
     "start_time": "2025-07-22T10:09:28.039781",
     "status": "completed"
    },
    "tags": []
   },
   "outputs": [],
   "source": [
    "example_universe = universe.copy()\n",
    "universe_model = example_universe.get(\"model\")\n",
    "universe_exclude_features = example_universe.get(\"exclude_features\")\n",
    "universe_exclude_subgroups = example_universe.get(\"exclude_subgroups\")\n",
    "universe_scale = example_universe.get(\"scale\")"
   ]
  },
  {
   "cell_type": "code",
   "execution_count": 43,
   "id": "f4b6a8ac-9dc0-4245-8a91-5b3b5999c4f9",
   "metadata": {
    "execution": {
     "iopub.execute_input": "2025-07-22T10:09:28.117455Z",
     "iopub.status.busy": "2025-07-22T10:09:28.117049Z",
     "iopub.status.idle": "2025-07-22T10:09:28.122895Z",
     "shell.execute_reply": "2025-07-22T10:09:28.121948Z"
    },
    "papermill": {
     "duration": 0.030963,
     "end_time": "2025-07-22T10:09:28.124840",
     "exception": false,
     "start_time": "2025-07-22T10:09:28.093877",
     "status": "completed"
    },
    "tags": []
   },
   "outputs": [],
   "source": [
    "cp_metrics_dict = {\n",
    "    \"universe_id\": [universe_id],\n",
    "    \"universe_model\": [universe_model],\n",
    "    \"universe_exclude_features\": [universe_exclude_features],\n",
    "    \"universe_exclude_subgroups\": [universe_exclude_subgroups],\n",
    "    \"universe_scale\": [universe_scale],\n",
    "    \"q_hat\": [q_hat],\n",
    "    \"coverage\": [metrics[\"coverage\"]],\n",
    "    \"avg_size\": [metrics[\"avg_size\"]],\n",
    "}"
   ]
  },
  {
   "cell_type": "code",
   "execution_count": 44,
   "id": "908acbb1-0371-4915-85ca-3fa520d2efe2",
   "metadata": {
    "execution": {
     "iopub.execute_input": "2025-07-22T10:09:28.173180Z",
     "iopub.status.busy": "2025-07-22T10:09:28.172672Z",
     "iopub.status.idle": "2025-07-22T10:09:28.217900Z",
     "shell.execute_reply": "2025-07-22T10:09:28.217032Z"
    },
    "papermill": {
     "duration": 0.072061,
     "end_time": "2025-07-22T10:09:28.219422",
     "exception": false,
     "start_time": "2025-07-22T10:09:28.147361",
     "status": "completed"
    },
    "tags": []
   },
   "outputs": [
    {
     "data": {
      "text/plain": [
       "{'universe_id': ['ad48488da884420acb8a216603922a86'],\n",
       " 'universe_model': ['gbm'],\n",
       " 'universe_exclude_features': ['nationality-sex'],\n",
       " 'universe_exclude_subgroups': ['drop-non-german'],\n",
       " 'universe_scale': ['scale'],\n",
       " 'q_hat': [0.6644479348517421],\n",
       " 'coverage': [0.9117489688997882],\n",
       " 'avg_size': [1.1166202207111804]}"
      ]
     },
     "execution_count": 44,
     "metadata": {},
     "output_type": "execute_result"
    }
   ],
   "source": [
    "cp_metrics_dict"
   ]
  },
  {
   "cell_type": "code",
   "execution_count": 45,
   "id": "33007efc-14e9-4ec6-97ac-56a455c82265",
   "metadata": {
    "execution": {
     "iopub.execute_input": "2025-07-22T10:09:28.254030Z",
     "iopub.status.busy": "2025-07-22T10:09:28.253592Z",
     "iopub.status.idle": "2025-07-22T10:09:28.260124Z",
     "shell.execute_reply": "2025-07-22T10:09:28.259310Z"
    },
    "papermill": {
     "duration": 0.026724,
     "end_time": "2025-07-22T10:09:28.261663",
     "exception": false,
     "start_time": "2025-07-22T10:09:28.234939",
     "status": "completed"
    },
    "tags": []
   },
   "outputs": [],
   "source": [
    "cp_metrics_df = pd.DataFrame(cp_metrics_dict)"
   ]
  },
  {
   "cell_type": "code",
   "execution_count": 46,
   "id": "db12611b-57b2-4910-b9d0-355adfd6e7bf",
   "metadata": {
    "execution": {
     "iopub.execute_input": "2025-07-22T10:09:28.288542Z",
     "iopub.status.busy": "2025-07-22T10:09:28.288102Z",
     "iopub.status.idle": "2025-07-22T10:09:28.305966Z",
     "shell.execute_reply": "2025-07-22T10:09:28.305224Z"
    },
    "papermill": {
     "duration": 0.034274,
     "end_time": "2025-07-22T10:09:28.307462",
     "exception": false,
     "start_time": "2025-07-22T10:09:28.273188",
     "status": "completed"
    },
    "tags": []
   },
   "outputs": [
    {
     "data": {
      "text/html": [
       "<div>\n",
       "<style scoped>\n",
       "    .dataframe tbody tr th:only-of-type {\n",
       "        vertical-align: middle;\n",
       "    }\n",
       "\n",
       "    .dataframe tbody tr th {\n",
       "        vertical-align: top;\n",
       "    }\n",
       "\n",
       "    .dataframe thead th {\n",
       "        text-align: right;\n",
       "    }\n",
       "</style>\n",
       "<table border=\"1\" class=\"dataframe\">\n",
       "  <thead>\n",
       "    <tr style=\"text-align: right;\">\n",
       "      <th></th>\n",
       "      <th>universe_id</th>\n",
       "      <th>universe_model</th>\n",
       "      <th>universe_exclude_features</th>\n",
       "      <th>universe_exclude_subgroups</th>\n",
       "      <th>universe_scale</th>\n",
       "      <th>q_hat</th>\n",
       "      <th>coverage</th>\n",
       "      <th>avg_size</th>\n",
       "    </tr>\n",
       "  </thead>\n",
       "  <tbody>\n",
       "    <tr>\n",
       "      <th>0</th>\n",
       "      <td>ad48488da884420acb8a216603922a86</td>\n",
       "      <td>gbm</td>\n",
       "      <td>nationality-sex</td>\n",
       "      <td>drop-non-german</td>\n",
       "      <td>scale</td>\n",
       "      <td>0.664448</td>\n",
       "      <td>0.911749</td>\n",
       "      <td>1.11662</td>\n",
       "    </tr>\n",
       "  </tbody>\n",
       "</table>\n",
       "</div>"
      ],
      "text/plain": [
       "                        universe_id universe_model universe_exclude_features  \\\n",
       "0  ad48488da884420acb8a216603922a86            gbm           nationality-sex   \n",
       "\n",
       "  universe_exclude_subgroups universe_scale     q_hat  coverage  avg_size  \n",
       "0            drop-non-german          scale  0.664448  0.911749   1.11662  "
      ]
     },
     "execution_count": 46,
     "metadata": {},
     "output_type": "execute_result"
    }
   ],
   "source": [
    "cp_metrics_df"
   ]
  },
  {
   "cell_type": "code",
   "execution_count": 47,
   "id": "b7fbde55-a0a1-47e4-9af6-fe4a17fa8c61",
   "metadata": {
    "execution": {
     "iopub.execute_input": "2025-07-22T10:09:28.335179Z",
     "iopub.status.busy": "2025-07-22T10:09:28.334656Z",
     "iopub.status.idle": "2025-07-22T10:09:28.434274Z",
     "shell.execute_reply": "2025-07-22T10:09:28.433191Z"
    },
    "papermill": {
     "duration": 0.116023,
     "end_time": "2025-07-22T10:09:28.436298",
     "exception": false,
     "start_time": "2025-07-22T10:09:28.320275",
     "status": "completed"
    },
    "tags": []
   },
   "outputs": [],
   "source": [
    "# Conditional Coverage & looking at subgroups"
   ]
  },
  {
   "cell_type": "code",
   "execution_count": 48,
   "id": "027ae886-68dd-4141-96c7-805a5450e1ef",
   "metadata": {
    "execution": {
     "iopub.execute_input": "2025-07-22T10:09:28.482255Z",
     "iopub.status.busy": "2025-07-22T10:09:28.481841Z",
     "iopub.status.idle": "2025-07-22T10:09:28.801345Z",
     "shell.execute_reply": "2025-07-22T10:09:28.800233Z"
    },
    "papermill": {
     "duration": 0.344941,
     "end_time": "2025-07-22T10:09:28.803532",
     "exception": false,
     "start_time": "2025-07-22T10:09:28.458591",
     "status": "completed"
    },
    "tags": []
   },
   "outputs": [],
   "source": [
    "from fairness_multiverse.conformal import build_cp_groups\n",
    "\n",
    "cp_groups_df = build_cp_groups(pred_sets, y_true, X_test.index, org_test)\n",
    "#needs universe_id and setting"
   ]
  },
  {
   "cell_type": "code",
   "execution_count": 49,
   "id": "c3b92545-903e-4839-89af-0f057907d7d6",
   "metadata": {
    "execution": {
     "iopub.execute_input": "2025-07-22T10:09:28.850530Z",
     "iopub.status.busy": "2025-07-22T10:09:28.850048Z",
     "iopub.status.idle": "2025-07-22T10:09:30.525727Z",
     "shell.execute_reply": "2025-07-22T10:09:30.524529Z"
    },
    "papermill": {
     "duration": 1.700597,
     "end_time": "2025-07-22T10:09:30.527677",
     "exception": false,
     "start_time": "2025-07-22T10:09:28.827080",
     "status": "completed"
    },
    "tags": []
   },
   "outputs": [],
   "source": [
    "# Define covered = 1 if true_label is in the predicted set\n",
    "cp_groups_df['covered'] = cp_groups_df.apply(\n",
    "    lambda r: int(r['true_label'] in r['pred_set']),\n",
    "    axis=1\n",
    ")"
   ]
  },
  {
   "cell_type": "code",
   "execution_count": 50,
   "id": "338ff529-1a6b-4b87-a931-8e4788d52aad",
   "metadata": {
    "execution": {
     "iopub.execute_input": "2025-07-22T10:09:30.572209Z",
     "iopub.status.busy": "2025-07-22T10:09:30.571207Z",
     "iopub.status.idle": "2025-07-22T10:09:30.590528Z",
     "shell.execute_reply": "2025-07-22T10:09:30.589602Z"
    },
    "papermill": {
     "duration": 0.042708,
     "end_time": "2025-07-22T10:09:30.592400",
     "exception": false,
     "start_time": "2025-07-22T10:09:30.549692",
     "status": "completed"
    },
    "tags": []
   },
   "outputs": [],
   "source": [
    "#cp_groups_df"
   ]
  },
  {
   "cell_type": "code",
   "execution_count": 51,
   "id": "90032e27-66df-4540-9169-4e89cfbaa758",
   "metadata": {
    "execution": {
     "iopub.execute_input": "2025-07-22T10:09:30.637191Z",
     "iopub.status.busy": "2025-07-22T10:09:30.636650Z",
     "iopub.status.idle": "2025-07-22T10:09:30.648009Z",
     "shell.execute_reply": "2025-07-22T10:09:30.647156Z"
    },
    "papermill": {
     "duration": 0.036854,
     "end_time": "2025-07-22T10:09:30.649866",
     "exception": false,
     "start_time": "2025-07-22T10:09:30.613012",
     "status": "completed"
    },
    "tags": []
   },
   "outputs": [],
   "source": [
    "subgroups = ['frau1','nongerman','nongerman_male','nongerman_female']\n",
    "\n",
    "# Conditional coverage for subgroup==1\n",
    "cond_coverage = {\n",
    "    g: cp_groups_df.loc[cp_groups_df[g]==1, 'covered'].mean()\n",
    "    for g in subgroups\n",
    "}"
   ]
  },
  {
   "cell_type": "code",
   "execution_count": 52,
   "id": "1e348fb1-b9c3-45bc-ba23-f016827a7e0d",
   "metadata": {
    "execution": {
     "iopub.execute_input": "2025-07-22T10:09:30.694373Z",
     "iopub.status.busy": "2025-07-22T10:09:30.693721Z",
     "iopub.status.idle": "2025-07-22T10:09:30.701898Z",
     "shell.execute_reply": "2025-07-22T10:09:30.700535Z"
    },
    "papermill": {
     "duration": 0.032033,
     "end_time": "2025-07-22T10:09:30.703712",
     "exception": false,
     "start_time": "2025-07-22T10:09:30.671679",
     "status": "completed"
    },
    "tags": []
   },
   "outputs": [
    {
     "data": {
      "text/plain": [
       "{'frau1': 0.912252325111201,\n",
       " 'nongerman': 0.9112445966429013,\n",
       " 'nongerman_male': 0.9265964153832298,\n",
       " 'nongerman_female': 0.8858420268256334}"
      ]
     },
     "execution_count": 52,
     "metadata": {},
     "output_type": "execute_result"
    }
   ],
   "source": [
    "cond_coverage"
   ]
  },
  {
   "cell_type": "code",
   "execution_count": 53,
   "id": "f5093324-c3dd-4d63-bc4c-8d945e5c8bbb",
   "metadata": {
    "execution": {
     "iopub.execute_input": "2025-07-22T10:09:30.749337Z",
     "iopub.status.busy": "2025-07-22T10:09:30.748675Z",
     "iopub.status.idle": "2025-07-22T10:09:30.756318Z",
     "shell.execute_reply": "2025-07-22T10:09:30.755366Z"
    },
    "papermill": {
     "duration": 0.031816,
     "end_time": "2025-07-22T10:09:30.758082",
     "exception": false,
     "start_time": "2025-07-22T10:09:30.726266",
     "status": "completed"
    },
    "tags": []
   },
   "outputs": [],
   "source": [
    "for subgroup, cov in cond_coverage.items():\n",
    "    cp_metrics_df[f\"cov_{subgroup}\"] = cov"
   ]
  },
  {
   "cell_type": "code",
   "execution_count": 54,
   "id": "6e872e10-dbe5-49e8-b554-5030c98ff75d",
   "metadata": {
    "execution": {
     "iopub.execute_input": "2025-07-22T10:09:30.799786Z",
     "iopub.status.busy": "2025-07-22T10:09:30.798857Z",
     "iopub.status.idle": "2025-07-22T10:09:30.816931Z",
     "shell.execute_reply": "2025-07-22T10:09:30.815883Z"
    },
    "papermill": {
     "duration": 0.040447,
     "end_time": "2025-07-22T10:09:30.818997",
     "exception": false,
     "start_time": "2025-07-22T10:09:30.778550",
     "status": "completed"
    },
    "tags": []
   },
   "outputs": [
    {
     "data": {
      "text/html": [
       "<div>\n",
       "<style scoped>\n",
       "    .dataframe tbody tr th:only-of-type {\n",
       "        vertical-align: middle;\n",
       "    }\n",
       "\n",
       "    .dataframe tbody tr th {\n",
       "        vertical-align: top;\n",
       "    }\n",
       "\n",
       "    .dataframe thead th {\n",
       "        text-align: right;\n",
       "    }\n",
       "</style>\n",
       "<table border=\"1\" class=\"dataframe\">\n",
       "  <thead>\n",
       "    <tr style=\"text-align: right;\">\n",
       "      <th></th>\n",
       "      <th>universe_id</th>\n",
       "      <th>universe_model</th>\n",
       "      <th>universe_exclude_features</th>\n",
       "      <th>universe_exclude_subgroups</th>\n",
       "      <th>universe_scale</th>\n",
       "      <th>q_hat</th>\n",
       "      <th>coverage</th>\n",
       "      <th>avg_size</th>\n",
       "      <th>cov_frau1</th>\n",
       "      <th>cov_nongerman</th>\n",
       "      <th>cov_nongerman_male</th>\n",
       "      <th>cov_nongerman_female</th>\n",
       "    </tr>\n",
       "  </thead>\n",
       "  <tbody>\n",
       "    <tr>\n",
       "      <th>0</th>\n",
       "      <td>ad48488da884420acb8a216603922a86</td>\n",
       "      <td>gbm</td>\n",
       "      <td>nationality-sex</td>\n",
       "      <td>drop-non-german</td>\n",
       "      <td>scale</td>\n",
       "      <td>0.664448</td>\n",
       "      <td>0.911749</td>\n",
       "      <td>1.11662</td>\n",
       "      <td>0.912252</td>\n",
       "      <td>0.911245</td>\n",
       "      <td>0.926596</td>\n",
       "      <td>0.885842</td>\n",
       "    </tr>\n",
       "  </tbody>\n",
       "</table>\n",
       "</div>"
      ],
      "text/plain": [
       "                        universe_id universe_model universe_exclude_features  \\\n",
       "0  ad48488da884420acb8a216603922a86            gbm           nationality-sex   \n",
       "\n",
       "  universe_exclude_subgroups universe_scale     q_hat  coverage  avg_size  \\\n",
       "0            drop-non-german          scale  0.664448  0.911749   1.11662   \n",
       "\n",
       "   cov_frau1  cov_nongerman  cov_nongerman_male  cov_nongerman_female  \n",
       "0   0.912252       0.911245            0.926596              0.885842  "
      ]
     },
     "execution_count": 54,
     "metadata": {},
     "output_type": "execute_result"
    }
   ],
   "source": [
    "cp_metrics_df"
   ]
  },
  {
   "cell_type": "markdown",
   "id": "33774451",
   "metadata": {
    "papermill": {
     "duration": 0.025681,
     "end_time": "2025-07-22T10:09:30.872495",
     "exception": false,
     "start_time": "2025-07-22T10:09:30.846814",
     "status": "completed"
    },
    "tags": []
   },
   "source": [
    "# (Fairness) Metrics"
   ]
  },
  {
   "cell_type": "code",
   "execution_count": 55,
   "id": "debc5d62",
   "metadata": {
    "execution": {
     "iopub.execute_input": "2025-07-22T10:09:30.918552Z",
     "iopub.status.busy": "2025-07-22T10:09:30.917970Z",
     "iopub.status.idle": "2025-07-22T10:09:30.943220Z",
     "shell.execute_reply": "2025-07-22T10:09:30.942103Z"
    },
    "papermill": {
     "duration": 0.050187,
     "end_time": "2025-07-22T10:09:30.945548",
     "exception": false,
     "start_time": "2025-07-22T10:09:30.895361",
     "status": "completed"
    },
    "tags": []
   },
   "outputs": [],
   "source": [
    "# do I need to include maxdeutsch1.missing?\n",
    "\n",
    "import numpy as np\n",
    "\n",
    "colname_to_bin = \"maxdeutsch1\"\n",
    "majority_value = org_train[colname_to_bin].mode()[0]\n",
    "\n",
    "org_test[\"majmin\"] = np.where(org_test[colname_to_bin] == majority_value, \"majority\", \"minority\")"
   ]
  },
  {
   "cell_type": "code",
   "execution_count": 56,
   "id": "06a50de5",
   "metadata": {
    "execution": {
     "iopub.execute_input": "2025-07-22T10:09:30.995945Z",
     "iopub.status.busy": "2025-07-22T10:09:30.995281Z",
     "iopub.status.idle": "2025-07-22T10:09:34.105501Z",
     "shell.execute_reply": "2025-07-22T10:09:34.104300Z"
    },
    "papermill": {
     "duration": 3.136838,
     "end_time": "2025-07-22T10:09:34.107718",
     "exception": false,
     "start_time": "2025-07-22T10:09:30.970880",
     "status": "completed"
    },
    "tags": []
   },
   "outputs": [],
   "source": [
    "example_universe = universe.copy()\n",
    "example_universe[\"cutoff\"] = example_universe[\"cutoff\"][0]\n",
    "example_universe[\"eval_fairness_grouping\"] = example_universe[\"eval_fairness_grouping\"][0]\n",
    "fairness_dict, metric_frame = universe_analysis.compute_metrics(\n",
    "    example_universe,\n",
    "    y_pred_prob=probs_test,\n",
    "    y_test=y_true,\n",
    "    org_test=org_test,\n",
    ")"
   ]
  },
  {
   "cell_type": "markdown",
   "id": "f95d4e02",
   "metadata": {
    "papermill": {
     "duration": 0.027632,
     "end_time": "2025-07-22T10:09:34.165218",
     "exception": false,
     "start_time": "2025-07-22T10:09:34.137586",
     "status": "completed"
    },
    "tags": []
   },
   "source": [
    "# Overall"
   ]
  },
  {
   "cell_type": "markdown",
   "id": "bdee4871",
   "metadata": {
    "papermill": {
     "duration": 0.026959,
     "end_time": "2025-07-22T10:09:34.218982",
     "exception": false,
     "start_time": "2025-07-22T10:09:34.192023",
     "status": "completed"
    },
    "tags": []
   },
   "source": [
    "Fairness\n",
    "Main fairness target: Equalized Odds. Seems to be a better fit than equal opportunity, since we're not only interested in Y = 1. Seems to be a better fit than demographic parity, since we also care about accuracy, not just equal distribution of preds.\n",
    "\n",
    "Pick column for computation of fairness metrics\n",
    "\n",
    "Performance\n",
    "Overall performance measures, most interesting in relation to the measures split by group below"
   ]
  },
  {
   "cell_type": "code",
   "execution_count": 57,
   "id": "c4e067c6",
   "metadata": {
    "execution": {
     "iopub.execute_input": "2025-07-22T10:09:34.274333Z",
     "iopub.status.busy": "2025-07-22T10:09:34.273624Z",
     "iopub.status.idle": "2025-07-22T10:09:34.283568Z",
     "shell.execute_reply": "2025-07-22T10:09:34.282386Z"
    },
    "papermill": {
     "duration": 0.040302,
     "end_time": "2025-07-22T10:09:34.285869",
     "exception": false,
     "start_time": "2025-07-22T10:09:34.245567",
     "status": "completed"
    },
    "tags": []
   },
   "outputs": [
    {
     "data": {
      "text/plain": [
       "accuracy                   0.225426\n",
       "balanced accuracy          0.550978\n",
       "f1                         0.246729\n",
       "precision                  0.140948\n",
       "false positive rate        0.886921\n",
       "false negative rate        0.011123\n",
       "selection rate             0.900000\n",
       "count                  89710.000000\n",
       "dtype: float64"
      ]
     },
     "execution_count": 57,
     "metadata": {},
     "output_type": "execute_result"
    }
   ],
   "source": [
    "metric_frame.overall"
   ]
  },
  {
   "cell_type": "markdown",
   "id": "e968fe9d",
   "metadata": {
    "papermill": {
     "duration": 0.020545,
     "end_time": "2025-07-22T10:09:34.328438",
     "exception": false,
     "start_time": "2025-07-22T10:09:34.307893",
     "status": "completed"
    },
    "tags": []
   },
   "source": [
    "By Group"
   ]
  },
  {
   "cell_type": "code",
   "execution_count": 58,
   "id": "ec325bce",
   "metadata": {
    "execution": {
     "iopub.execute_input": "2025-07-22T10:09:34.385543Z",
     "iopub.status.busy": "2025-07-22T10:09:34.384836Z",
     "iopub.status.idle": "2025-07-22T10:09:34.405270Z",
     "shell.execute_reply": "2025-07-22T10:09:34.403834Z"
    },
    "papermill": {
     "duration": 0.058233,
     "end_time": "2025-07-22T10:09:34.407414",
     "exception": false,
     "start_time": "2025-07-22T10:09:34.349181",
     "status": "completed"
    },
    "tags": []
   },
   "outputs": [
    {
     "data": {
      "text/html": [
       "<div>\n",
       "<style scoped>\n",
       "    .dataframe tbody tr th:only-of-type {\n",
       "        vertical-align: middle;\n",
       "    }\n",
       "\n",
       "    .dataframe tbody tr th {\n",
       "        vertical-align: top;\n",
       "    }\n",
       "\n",
       "    .dataframe thead th {\n",
       "        text-align: right;\n",
       "    }\n",
       "</style>\n",
       "<table border=\"1\" class=\"dataframe\">\n",
       "  <thead>\n",
       "    <tr style=\"text-align: right;\">\n",
       "      <th></th>\n",
       "      <th>accuracy</th>\n",
       "      <th>balanced accuracy</th>\n",
       "      <th>f1</th>\n",
       "      <th>precision</th>\n",
       "      <th>false positive rate</th>\n",
       "      <th>false negative rate</th>\n",
       "      <th>selection rate</th>\n",
       "      <th>count</th>\n",
       "    </tr>\n",
       "    <tr>\n",
       "      <th>majmin</th>\n",
       "      <th></th>\n",
       "      <th></th>\n",
       "      <th></th>\n",
       "      <th></th>\n",
       "      <th></th>\n",
       "      <th></th>\n",
       "      <th></th>\n",
       "      <th></th>\n",
       "    </tr>\n",
       "  </thead>\n",
       "  <tbody>\n",
       "    <tr>\n",
       "      <th>majority</th>\n",
       "      <td>0.245179</td>\n",
       "      <td>0.559932</td>\n",
       "      <td>0.256963</td>\n",
       "      <td>0.147693</td>\n",
       "      <td>0.867883</td>\n",
       "      <td>0.012254</td>\n",
       "      <td>0.883721</td>\n",
       "      <td>69170.0</td>\n",
       "    </tr>\n",
       "    <tr>\n",
       "      <th>minority</th>\n",
       "      <td>0.158909</td>\n",
       "      <td>0.521715</td>\n",
       "      <td>0.214013</td>\n",
       "      <td>0.119927</td>\n",
       "      <td>0.949813</td>\n",
       "      <td>0.006757</td>\n",
       "      <td>0.954820</td>\n",
       "      <td>20540.0</td>\n",
       "    </tr>\n",
       "  </tbody>\n",
       "</table>\n",
       "</div>"
      ],
      "text/plain": [
       "          accuracy  balanced accuracy        f1  precision  \\\n",
       "majmin                                                       \n",
       "majority  0.245179           0.559932  0.256963   0.147693   \n",
       "minority  0.158909           0.521715  0.214013   0.119927   \n",
       "\n",
       "          false positive rate  false negative rate  selection rate    count  \n",
       "majmin                                                                       \n",
       "majority             0.867883             0.012254        0.883721  69170.0  \n",
       "minority             0.949813             0.006757        0.954820  20540.0  "
      ]
     },
     "execution_count": 58,
     "metadata": {},
     "output_type": "execute_result"
    }
   ],
   "source": [
    "metric_frame.by_group"
   ]
  },
  {
   "cell_type": "code",
   "execution_count": 59,
   "id": "a9ddbe63",
   "metadata": {
    "execution": {
     "iopub.execute_input": "2025-07-22T10:09:34.463722Z",
     "iopub.status.busy": "2025-07-22T10:09:34.462732Z",
     "iopub.status.idle": "2025-07-22T10:09:36.893061Z",
     "shell.execute_reply": "2025-07-22T10:09:36.891815Z"
    },
    "papermill": {
     "duration": 2.461857,
     "end_time": "2025-07-22T10:09:36.894643",
     "exception": false,
     "start_time": "2025-07-22T10:09:34.432786",
     "status": "completed"
    },
    "tags": []
   },
   "outputs": [
    {
     "data": {
      "text/plain": [
       "array([[<Axes: title={'center': 'accuracy'}, xlabel='majmin'>,\n",
       "        <Axes: title={'center': 'balanced accuracy'}, xlabel='majmin'>,\n",
       "        <Axes: title={'center': 'f1'}, xlabel='majmin'>],\n",
       "       [<Axes: title={'center': 'precision'}, xlabel='majmin'>,\n",
       "        <Axes: title={'center': 'false positive rate'}, xlabel='majmin'>,\n",
       "        <Axes: title={'center': 'false negative rate'}, xlabel='majmin'>],\n",
       "       [<Axes: title={'center': 'selection rate'}, xlabel='majmin'>,\n",
       "        <Axes: title={'center': 'count'}, xlabel='majmin'>,\n",
       "        <Axes: xlabel='majmin'>]], dtype=object)"
      ]
     },
     "execution_count": 59,
     "metadata": {},
     "output_type": "execute_result"
    },
    {
     "data": {
      "image/png": "[encoded data removed]",
      "text/plain": [
       "<Figure size 1200x800 with 9 Axes>"
      ]
     },
     "metadata": {},
     "output_type": "display_data"
    }
   ],
   "source": [
    "# In a graphic\n",
    "metric_frame.by_group.plot.bar(\n",
    "    subplots=True,\n",
    "    layout=[3, 3],\n",
    "    legend=False,\n",
    "    figsize=[12, 8],\n",
    "    title=\"Show all metrics\",\n",
    ")"
   ]
  },
  {
   "cell_type": "markdown",
   "id": "f57a0bac",
   "metadata": {
    "papermill": {
     "duration": 0.016047,
     "end_time": "2025-07-22T10:09:36.940058",
     "exception": false,
     "start_time": "2025-07-22T10:09:36.924011",
     "status": "completed"
    },
    "tags": []
   },
   "source": [
    "# Final Output"
   ]
  },
  {
   "cell_type": "code",
   "execution_count": 60,
   "id": "96d280a3",
   "metadata": {
    "execution": {
     "iopub.execute_input": "2025-07-22T10:09:36.967796Z",
     "iopub.status.busy": "2025-07-22T10:09:36.967242Z",
     "iopub.status.idle": "2025-07-22T10:09:36.975269Z",
     "shell.execute_reply": "2025-07-22T10:09:36.974287Z"
    },
    "papermill": {
     "duration": 0.023346,
     "end_time": "2025-07-22T10:09:36.976415",
     "exception": false,
     "start_time": "2025-07-22T10:09:36.953069",
     "status": "completed"
    },
    "tags": []
   },
   "outputs": [
    {
     "data": {
      "text/plain": [
       "4"
      ]
     },
     "execution_count": 60,
     "metadata": {},
     "output_type": "execute_result"
    }
   ],
   "source": [
    "sub_universes = universe_analysis.generate_sub_universes()\n",
    "len(sub_universes)"
   ]
  },
  {
   "cell_type": "code",
   "execution_count": 61,
   "id": "92adf7ba",
   "metadata": {
    "execution": {
     "iopub.execute_input": "2025-07-22T10:09:37.004535Z",
     "iopub.status.busy": "2025-07-22T10:09:37.004168Z",
     "iopub.status.idle": "2025-07-22T10:09:37.052273Z",
     "shell.execute_reply": "2025-07-22T10:09:37.051161Z"
    },
    "papermill": {
     "duration": 0.06445,
     "end_time": "2025-07-22T10:09:37.054089",
     "exception": false,
     "start_time": "2025-07-22T10:09:36.989639",
     "status": "completed"
    },
    "tags": []
   },
   "outputs": [],
   "source": [
    "def filter_sub_universe_data(sub_universe, org_test):\n",
    "    # Keep all rows — no filtering\n",
    "    keep_rows_mask = np.ones(org_test.shape[0], dtype=bool)\n",
    "\n",
    "    print(f\"[INFO] Keeping all rows: {keep_rows_mask.sum()} rows retained.\")\n",
    "    return keep_rows_mask"
   ]
  },
  {
   "cell_type": "code",
   "execution_count": 62,
   "id": "4a759155",
   "metadata": {
    "execution": {
     "iopub.execute_input": "2025-07-22T10:09:37.085743Z",
     "iopub.status.busy": "2025-07-22T10:09:37.085223Z",
     "iopub.status.idle": "2025-07-22T10:09:45.116449Z",
     "shell.execute_reply": "2025-07-22T10:09:45.115429Z"
    },
    "papermill": {
     "duration": 8.047588,
     "end_time": "2025-07-22T10:09:45.118249",
     "exception": false,
     "start_time": "2025-07-22T10:09:37.070661",
     "status": "completed"
    },
    "tags": []
   },
   "outputs": [
    {
     "name": "stdout",
     "output_type": "stream",
     "text": [
      "Stopping execution_time clock.\n",
      "[INFO] Keeping all rows: 89710 rows retained.\n"
     ]
    },
    {
     "name": "stdout",
     "output_type": "stream",
     "text": [
      "[INFO] Keeping all rows: 89710 rows retained.\n"
     ]
    },
    {
     "name": "stdout",
     "output_type": "stream",
     "text": [
      "[INFO] Keeping all rows: 89710 rows retained.\n"
     ]
    },
    {
     "name": "stdout",
     "output_type": "stream",
     "text": [
      "[INFO] Keeping all rows: 89710 rows retained.\n"
     ]
    },
    {
     "data": {
      "text/html": [
       "<div>\n",
       "<style scoped>\n",
       "    .dataframe tbody tr th:only-of-type {\n",
       "        vertical-align: middle;\n",
       "    }\n",
       "\n",
       "    .dataframe tbody tr th {\n",
       "        vertical-align: top;\n",
       "    }\n",
       "\n",
       "    .dataframe thead th {\n",
       "        text-align: right;\n",
       "    }\n",
       "</style>\n",
       "<table border=\"1\" class=\"dataframe\">\n",
       "  <thead>\n",
       "    <tr style=\"text-align: right;\">\n",
       "      <th></th>\n",
       "      <th>run_no</th>\n",
       "      <th>universe_id</th>\n",
       "      <th>universe_settings</th>\n",
       "      <th>execution_time</th>\n",
       "      <th>test_size_n</th>\n",
       "      <th>test_size_frac</th>\n",
       "      <th>fair_main_equalized_odds_difference</th>\n",
       "      <th>fair_main_equalized_odds_ratio</th>\n",
       "      <th>fair_main_demographic_parity_difference</th>\n",
       "      <th>fair_main_demographic_parity_ratio</th>\n",
       "      <th>...</th>\n",
       "      <th>perf_grp_precision_0</th>\n",
       "      <th>perf_grp_precision_1</th>\n",
       "      <th>perf_grp_false positive rate_0</th>\n",
       "      <th>perf_grp_false positive rate_1</th>\n",
       "      <th>perf_grp_false negative rate_0</th>\n",
       "      <th>perf_grp_false negative rate_1</th>\n",
       "      <th>perf_grp_selection rate_0</th>\n",
       "      <th>perf_grp_selection rate_1</th>\n",
       "      <th>perf_grp_count_0</th>\n",
       "      <th>perf_grp_count_1</th>\n",
       "    </tr>\n",
       "  </thead>\n",
       "  <tbody>\n",
       "    <tr>\n",
       "      <th>0</th>\n",
       "      <td>4</td>\n",
       "      <td>ad48488da884420acb8a216603922a86</td>\n",
       "      <td>{\"cutoff\": \"quantile_0.1\", \"eval_fairness_grou...</td>\n",
       "      <td>44.07226</td>\n",
       "      <td>89710</td>\n",
       "      <td>1.0</td>\n",
       "      <td>0.081930</td>\n",
       "      <td>0.913741</td>\n",
       "      <td>0.071099</td>\n",
       "      <td>0.925537</td>\n",
       "      <td>...</td>\n",
       "      <td>NaN</td>\n",
       "      <td>NaN</td>\n",
       "      <td>NaN</td>\n",
       "      <td>NaN</td>\n",
       "      <td>NaN</td>\n",
       "      <td>NaN</td>\n",
       "      <td>NaN</td>\n",
       "      <td>NaN</td>\n",
       "      <td>NaN</td>\n",
       "      <td>NaN</td>\n",
       "    </tr>\n",
       "    <tr>\n",
       "      <th>0</th>\n",
       "      <td>4</td>\n",
       "      <td>ad48488da884420acb8a216603922a86</td>\n",
       "      <td>{\"cutoff\": \"quantile_0.1\", \"eval_fairness_grou...</td>\n",
       "      <td>44.07226</td>\n",
       "      <td>89710</td>\n",
       "      <td>1.0</td>\n",
       "      <td>0.081930</td>\n",
       "      <td>0.913741</td>\n",
       "      <td>0.071099</td>\n",
       "      <td>0.925537</td>\n",
       "      <td>...</td>\n",
       "      <td>0.119927</td>\n",
       "      <td>0.147693</td>\n",
       "      <td>0.949813</td>\n",
       "      <td>0.867883</td>\n",
       "      <td>0.006757</td>\n",
       "      <td>0.012254</td>\n",
       "      <td>0.954820</td>\n",
       "      <td>0.883721</td>\n",
       "      <td>20540.0</td>\n",
       "      <td>69170.0</td>\n",
       "    </tr>\n",
       "    <tr>\n",
       "      <th>0</th>\n",
       "      <td>4</td>\n",
       "      <td>ad48488da884420acb8a216603922a86</td>\n",
       "      <td>{\"cutoff\": \"quantile_0.25\", \"eval_fairness_gro...</td>\n",
       "      <td>44.07226</td>\n",
       "      <td>89710</td>\n",
       "      <td>1.0</td>\n",
       "      <td>0.078385</td>\n",
       "      <td>0.899612</td>\n",
       "      <td>0.063087</td>\n",
       "      <td>0.921007</td>\n",
       "      <td>...</td>\n",
       "      <td>NaN</td>\n",
       "      <td>NaN</td>\n",
       "      <td>NaN</td>\n",
       "      <td>NaN</td>\n",
       "      <td>NaN</td>\n",
       "      <td>NaN</td>\n",
       "      <td>NaN</td>\n",
       "      <td>NaN</td>\n",
       "      <td>NaN</td>\n",
       "      <td>NaN</td>\n",
       "    </tr>\n",
       "    <tr>\n",
       "      <th>0</th>\n",
       "      <td>4</td>\n",
       "      <td>ad48488da884420acb8a216603922a86</td>\n",
       "      <td>{\"cutoff\": \"quantile_0.25\", \"eval_fairness_gro...</td>\n",
       "      <td>44.07226</td>\n",
       "      <td>89710</td>\n",
       "      <td>1.0</td>\n",
       "      <td>0.078385</td>\n",
       "      <td>0.899612</td>\n",
       "      <td>0.063087</td>\n",
       "      <td>0.921007</td>\n",
       "      <td>...</td>\n",
       "      <td>0.135028</td>\n",
       "      <td>0.171213</td>\n",
       "      <td>0.780817</td>\n",
       "      <td>0.702432</td>\n",
       "      <td>0.064611</td>\n",
       "      <td>0.046937</td>\n",
       "      <td>0.798637</td>\n",
       "      <td>0.735550</td>\n",
       "      <td>20540.0</td>\n",
       "      <td>69170.0</td>\n",
       "    </tr>\n",
       "  </tbody>\n",
       "</table>\n",
       "<p>4 rows × 50 columns</p>\n",
       "</div>"
      ],
      "text/plain": [
       "  run_no                       universe_id  \\\n",
       "0      4  ad48488da884420acb8a216603922a86   \n",
       "0      4  ad48488da884420acb8a216603922a86   \n",
       "0      4  ad48488da884420acb8a216603922a86   \n",
       "0      4  ad48488da884420acb8a216603922a86   \n",
       "\n",
       "                                   universe_settings  execution_time  \\\n",
       "0  {\"cutoff\": \"quantile_0.1\", \"eval_fairness_grou...        44.07226   \n",
       "0  {\"cutoff\": \"quantile_0.1\", \"eval_fairness_grou...        44.07226   \n",
       "0  {\"cutoff\": \"quantile_0.25\", \"eval_fairness_gro...        44.07226   \n",
       "0  {\"cutoff\": \"quantile_0.25\", \"eval_fairness_gro...        44.07226   \n",
       "\n",
       "   test_size_n  test_size_frac  fair_main_equalized_odds_difference  \\\n",
       "0        89710             1.0                             0.081930   \n",
       "0        89710             1.0                             0.081930   \n",
       "0        89710             1.0                             0.078385   \n",
       "0        89710             1.0                             0.078385   \n",
       "\n",
       "   fair_main_equalized_odds_ratio  fair_main_demographic_parity_difference  \\\n",
       "0                        0.913741                                 0.071099   \n",
       "0                        0.913741                                 0.071099   \n",
       "0                        0.899612                                 0.063087   \n",
       "0                        0.899612                                 0.063087   \n",
       "\n",
       "   fair_main_demographic_parity_ratio  ...  perf_grp_precision_0  \\\n",
       "0                            0.925537  ...                   NaN   \n",
       "0                            0.925537  ...              0.119927   \n",
       "0                            0.921007  ...                   NaN   \n",
       "0                            0.921007  ...              0.135028   \n",
       "\n",
       "   perf_grp_precision_1  perf_grp_false positive rate_0  \\\n",
       "0                   NaN                             NaN   \n",
       "0              0.147693                        0.949813   \n",
       "0                   NaN                             NaN   \n",
       "0              0.171213                        0.780817   \n",
       "\n",
       "   perf_grp_false positive rate_1  perf_grp_false negative rate_0  \\\n",
       "0                             NaN                             NaN   \n",
       "0                        0.867883                        0.006757   \n",
       "0                             NaN                             NaN   \n",
       "0                        0.702432                        0.064611   \n",
       "\n",
       "   perf_grp_false negative rate_1  perf_grp_selection rate_0  \\\n",
       "0                             NaN                        NaN   \n",
       "0                        0.012254                   0.954820   \n",
       "0                             NaN                        NaN   \n",
       "0                        0.046937                   0.798637   \n",
       "\n",
       "   perf_grp_selection rate_1  perf_grp_count_0  perf_grp_count_1  \n",
       "0                        NaN               NaN               NaN  \n",
       "0                   0.883721           20540.0           69170.0  \n",
       "0                        NaN               NaN               NaN  \n",
       "0                   0.735550           20540.0           69170.0  \n",
       "\n",
       "[4 rows x 50 columns]"
      ]
     },
     "execution_count": 62,
     "metadata": {},
     "output_type": "execute_result"
    }
   ],
   "source": [
    "final_output = universe_analysis.generate_final_output(\n",
    "    y_pred_prob=probs_test,\n",
    "    y_test=y_true,\n",
    "    org_test=org_test,\n",
    "    filter_data=filter_sub_universe_data,\n",
    "    cp_metrics_df=cp_metrics_df,\n",
    "    save=True,\n",
    ")\n",
    "final_output"
   ]
  },
  {
   "cell_type": "code",
   "execution_count": null,
   "id": "721ff514-cb11-46f8-b6fc-50392f74b5cb",
   "metadata": {
    "papermill": {
     "duration": 0.023655,
     "end_time": "2025-07-22T10:09:45.168853",
     "exception": false,
     "start_time": "2025-07-22T10:09:45.145198",
     "status": "completed"
    },
    "tags": []
   },
   "outputs": [],
   "source": []
  }
 ],
 "metadata": {
  "celltoolbar": "Tags",
  "kernelspec": {
   "display_name": "Python (CMA Fairness)",
   "language": "python",
   "name": "cma_fair_env"
  },
  "language_info": {
   "codemirror_mode": {
    "name": "ipython",
    "version": 3
   },
   "file_extension": ".py",
   "mimetype": "text/x-python",
   "name": "python",
   "nbconvert_exporter": "python",
   "pygments_lexer": "ipython3",
   "version": "3.10.12"
  },
  "papermill": {
   "default_parameters": {},
   "duration": 57.19894,
   "end_time": "2025-07-22T10:09:46.011145",
   "environment_variables": {},
   "exception": null,
   "input_path": "universe_analysis.ipynb",
   "output_path": "output/runs/4/notebooks/m_4-ad48488da884420acb8a216603922a86.ipynb",
   "parameters": {
    "output_dir": "output",
    "run_no": "4",
    "seed": "2023",
    "universe": "{\"cutoff\": [\"quantile_0.1\", \"quantile_0.25\"], \"eval_fairness_grouping\": [\"majority-minority\", \"nationality-all\"], \"exclude_features\": \"nationality-sex\", \"exclude_subgroups\": \"drop-non-german\", \"model\": \"gbm\", \"scale\": \"scale\"}",
    "universe_id": "ad48488da884420acb8a216603922a86"
   },
   "start_time": "2025-07-22T10:08:48.812205",
   "version": "2.6.0"
  }
 },
 "nbformat": 4,
 "nbformat_minor": 5
}