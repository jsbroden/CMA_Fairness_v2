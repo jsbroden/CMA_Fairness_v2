{
 "cells": [
  {
   "cell_type": "code",
   "execution_count": 1,
   "id": "f159f837-637b-42ba-96b5-ec9a68c44524",
   "metadata": {
    "execution": {
     "iopub.execute_input": "2025-07-22T10:10:19.296435Z",
     "iopub.status.busy": "2025-07-22T10:10:19.295517Z",
     "iopub.status.idle": "2025-07-22T10:10:19.310157Z",
     "shell.execute_reply": "2025-07-22T10:10:19.309030Z"
    },
    "papermill": {
     "duration": 0.033641,
     "end_time": "2025-07-22T10:10:19.312159",
     "exception": false,
     "start_time": "2025-07-22T10:10:19.278518",
     "status": "completed"
    },
    "tags": []
   },
   "outputs": [
    {
     "name": "stdout",
     "output_type": "stream",
     "text": [
      "/dss/dsshome1/0C/ra93lal2/cma/CMA_Fairness_v2\n"
     ]
    },
    {
     "name": "stderr",
     "output_type": "stream",
     "text": [
      "/dss/dsshome1/0C/ra93lal2/.local/share/virtualenvs/CMA_Fairness_v2-3j10GkSs/lib/python3.10/site-packages/IPython/core/magics/osm.py:393: UserWarning: This is now an optional IPython functionality, using bookmarks requires you to install the `pickleshare` library.\n",
      "  bkms = self.shell.db.get('bookmarks', {})\n",
      "/dss/dsshome1/0C/ra93lal2/.local/share/virtualenvs/CMA_Fairness_v2-3j10GkSs/lib/python3.10/site-packages/IPython/core/magics/osm.py:417: UserWarning: This is now an optional IPython functionality, setting dhist requires you to install the `pickleshare` library.\n",
      "  self.shell.db['dhist'] = compress_dhist(dhist)[-100:]\n"
     ]
    }
   ],
   "source": [
    "%cd ~/cma/CMA_Fairness_v2"
   ]
  },
  {
   "cell_type": "markdown",
   "id": "de2603b9",
   "metadata": {
    "papermill": {
     "duration": 0.015883,
     "end_time": "2025-07-22T10:10:19.343572",
     "exception": false,
     "start_time": "2025-07-22T10:10:19.327689",
     "status": "completed"
    },
    "tags": []
   },
   "source": [
    "The following cell holds the definition of our parameters, these values can be overriden by rendering the with e.g. the following command:\n",
    "\n",
    "papermill -p alpha 0.2 -p ratio 0.3 universe_analysis.ipynb output/test_run.ipynb"
   ]
  },
  {
   "cell_type": "code",
   "execution_count": 2,
   "id": "a80968a0-40bb-4fa9-85ef-2d5eefb01975",
   "metadata": {
    "execution": {
     "iopub.execute_input": "2025-07-22T10:10:19.377777Z",
     "iopub.status.busy": "2025-07-22T10:10:19.377337Z",
     "iopub.status.idle": "2025-07-22T10:10:19.383192Z",
     "shell.execute_reply": "2025-07-22T10:10:19.382174Z"
    },
    "papermill": {
     "duration": 0.026036,
     "end_time": "2025-07-22T10:10:19.385119",
     "exception": false,
     "start_time": "2025-07-22T10:10:19.359083",
     "status": "completed"
    },
    "tags": []
   },
   "outputs": [
    {
     "name": "stdout",
     "output_type": "stream",
     "text": [
      "Current working directory: /dss/dsshome1/0C/ra93lal2/cma/CMA_Fairness_v2\n"
     ]
    }
   ],
   "source": [
    "import os\n",
    "print(\"Current working directory:\", os.getcwd())"
   ]
  },
  {
   "cell_type": "code",
   "execution_count": 3,
   "id": "2dce4c03",
   "metadata": {
    "execution": {
     "iopub.execute_input": "2025-07-22T10:10:19.419767Z",
     "iopub.status.busy": "2025-07-22T10:10:19.418747Z",
     "iopub.status.idle": "2025-07-22T10:10:19.426257Z",
     "shell.execute_reply": "2025-07-22T10:10:19.424951Z"
    },
    "papermill": {
     "duration": 0.026465,
     "end_time": "2025-07-22T10:10:19.428115",
     "exception": false,
     "start_time": "2025-07-22T10:10:19.401650",
     "status": "completed"
    },
    "tags": [
     "parameters"
    ]
   },
   "outputs": [],
   "source": [
    "run_no = 0\n",
    "universe_id = \"test\"\n",
    "universe = {\n",
    "    \"scale\": \"scale\", # \"scale\", \"do-not-scale\",\n",
    "    #\"encode_categorical\": \"one-hot\", # \"ordinal\", \"one-hot\"\n",
    "    \"model\": \"elasticnet\", # \"logreg\", \"penalized_logreg\", \"rf\", \"gbm\", \"elasticnet\"\n",
    "    \"cutoff\": [\"quantile_0.15\", \"quantile_0.30\"],\n",
    "    \"exclude_features\": \"nationality-sex\", # \"none\", \"nationality\", \"sex\", \"nationality-sex\"\n",
    "    \"exclude_subgroups\": \"keep-all\", # \"keep-all\", \"drop-non-german\"\n",
    "    \"eval_fairness_grouping\": [\"majority-minority\", \"nationality-all\"]\n",
    "}\n",
    "\n",
    "output_dir=\"./output\"\n",
    "seed=0"
   ]
  },
  {
   "cell_type": "code",
   "execution_count": 4,
   "id": "ff03c577",
   "metadata": {
    "execution": {
     "iopub.execute_input": "2025-07-22T10:10:19.474316Z",
     "iopub.status.busy": "2025-07-22T10:10:19.473824Z",
     "iopub.status.idle": "2025-07-22T10:10:19.479315Z",
     "shell.execute_reply": "2025-07-22T10:10:19.478442Z"
    },
    "papermill": {
     "duration": 0.037352,
     "end_time": "2025-07-22T10:10:19.481583",
     "exception": false,
     "start_time": "2025-07-22T10:10:19.444231",
     "status": "completed"
    },
    "tags": [
     "injected-parameters"
    ]
   },
   "outputs": [],
   "source": [
    "# Parameters\n",
    "universe_id = \"7835d6f4276d464df5313c642496b1e0\"\n",
    "run_no = \"4\"\n",
    "universe = \"{\\\"cutoff\\\": [\\\"quantile_0.1\\\", \\\"quantile_0.25\\\"], \\\"eval_fairness_grouping\\\": [\\\"majority-minority\\\", \\\"nationality-all\\\"], \\\"exclude_features\\\": \\\"nationality\\\", \\\"exclude_subgroups\\\": \\\"drop-non-german\\\", \\\"model\\\": \\\"logreg\\\", \\\"scale\\\": \\\"do-not-scale\\\"}\"\n",
    "output_dir = \"output\"\n",
    "seed = \"2023\"\n"
   ]
  },
  {
   "cell_type": "code",
   "execution_count": 5,
   "id": "1650acaf",
   "metadata": {
    "execution": {
     "iopub.execute_input": "2025-07-22T10:10:19.517095Z",
     "iopub.status.busy": "2025-07-22T10:10:19.516375Z",
     "iopub.status.idle": "2025-07-22T10:10:19.522569Z",
     "shell.execute_reply": "2025-07-22T10:10:19.521248Z"
    },
    "papermill": {
     "duration": 0.026292,
     "end_time": "2025-07-22T10:10:19.525176",
     "exception": false,
     "start_time": "2025-07-22T10:10:19.498884",
     "status": "completed"
    },
    "tags": []
   },
   "outputs": [],
   "source": [
    "import json\n",
    "# Parse universe into dict if it is passed as a string\n",
    "if isinstance(universe, str):\n",
    "    universe = json.loads(universe)"
   ]
  },
  {
   "cell_type": "code",
   "execution_count": 6,
   "id": "16620c48",
   "metadata": {
    "execution": {
     "iopub.execute_input": "2025-07-22T10:10:19.561862Z",
     "iopub.status.busy": "2025-07-22T10:10:19.560585Z",
     "iopub.status.idle": "2025-07-22T10:10:19.612392Z",
     "shell.execute_reply": "2025-07-22T10:10:19.611376Z"
    },
    "papermill": {
     "duration": 0.071564,
     "end_time": "2025-07-22T10:10:19.614290",
     "exception": false,
     "start_time": "2025-07-22T10:10:19.542726",
     "status": "completed"
    },
    "tags": []
   },
   "outputs": [],
   "source": [
    "# Auto-reload the custom package\n",
    "%load_ext autoreload\n",
    "%autoreload 1\n",
    "%aimport fairness_multiverse"
   ]
  },
  {
   "cell_type": "code",
   "execution_count": 7,
   "id": "01c5c9f3",
   "metadata": {
    "execution": {
     "iopub.execute_input": "2025-07-22T10:10:19.650408Z",
     "iopub.status.busy": "2025-07-22T10:10:19.649774Z",
     "iopub.status.idle": "2025-07-22T10:10:22.118700Z",
     "shell.execute_reply": "2025-07-22T10:10:22.117862Z"
    },
    "papermill": {
     "duration": 2.487775,
     "end_time": "2025-07-22T10:10:22.120200",
     "exception": false,
     "start_time": "2025-07-22T10:10:19.632425",
     "status": "completed"
    },
    "tags": []
   },
   "outputs": [],
   "source": [
    "from fairness_multiverse.universe import UniverseAnalysis\n",
    "\n",
    "universe_analysis = UniverseAnalysis(\n",
    "    run_no = run_no,\n",
    "    universe_id = universe_id,\n",
    "    universe = universe,\n",
    "    output_dir=output_dir,\n",
    ")"
   ]
  },
  {
   "cell_type": "code",
   "execution_count": 8,
   "id": "106241f5",
   "metadata": {
    "execution": {
     "iopub.execute_input": "2025-07-22T10:10:22.142053Z",
     "iopub.status.busy": "2025-07-22T10:10:22.141531Z",
     "iopub.status.idle": "2025-07-22T10:10:22.147210Z",
     "shell.execute_reply": "2025-07-22T10:10:22.146253Z"
    },
    "papermill": {
     "duration": 0.017209,
     "end_time": "2025-07-22T10:10:22.148841",
     "exception": false,
     "start_time": "2025-07-22T10:10:22.131632",
     "status": "completed"
    },
    "tags": []
   },
   "outputs": [
    {
     "name": "stdout",
     "output_type": "stream",
     "text": [
      "Using Seed: 2023\n"
     ]
    }
   ],
   "source": [
    "import numpy as np\n",
    "parsed_seed = int(seed)\n",
    "np.random.seed(parsed_seed)\n",
    "print(f\"Using Seed: {parsed_seed}\")"
   ]
  },
  {
   "cell_type": "markdown",
   "id": "e0ebdc57",
   "metadata": {
    "papermill": {
     "duration": 0.008526,
     "end_time": "2025-07-22T10:10:22.166743",
     "exception": false,
     "start_time": "2025-07-22T10:10:22.158217",
     "status": "completed"
    },
    "tags": []
   },
   "source": [
    "# Loading Data"
   ]
  },
  {
   "cell_type": "markdown",
   "id": "681925a3",
   "metadata": {
    "papermill": {
     "duration": 0.008701,
     "end_time": "2025-07-22T10:10:22.184149",
     "exception": false,
     "start_time": "2025-07-22T10:10:22.175448",
     "status": "completed"
    },
    "tags": []
   },
   "source": [
    "Load siab_train, siab_test, siab_calib and/or \n",
    "load siab_train_features, siab_train_labels"
   ]
  },
  {
   "cell_type": "code",
   "execution_count": 9,
   "id": "f0496b8a",
   "metadata": {
    "execution": {
     "iopub.execute_input": "2025-07-22T10:10:22.202697Z",
     "iopub.status.busy": "2025-07-22T10:10:22.202149Z",
     "iopub.status.idle": "2025-07-22T10:10:22.207486Z",
     "shell.execute_reply": "2025-07-22T10:10:22.206661Z"
    },
    "papermill": {
     "duration": 0.015942,
     "end_time": "2025-07-22T10:10:22.208750",
     "exception": false,
     "start_time": "2025-07-22T10:10:22.192808",
     "status": "completed"
    },
    "tags": []
   },
   "outputs": [],
   "source": [
    "# Do I need to load siab? Delete this cell?\n",
    "\n",
    "#from pathlib import Path\n",
    "#import pandas as pd\n",
    "#\n",
    "## File paths\n",
    "#raw_file = Path(\"data/raw/siab.csv\")\n",
    "#cache_file = Path(\"data/siab_cached.csv.gz\")\n",
    "#\n",
    "## Ensure cache directory exists\n",
    "#cache_file.parent.mkdir(parents=True, exist_ok=True)\n",
    "#\n",
    "## Load with simple caching\n",
    "#if cache_file.exists():\n",
    "#    print(f\"Loading SIAB data from cache: {cache_file}\")\n",
    "#    siab = pd.read_csv(cache_file, compression='gzip')\n",
    "#else:\n",
    "#    print(f\"Cache not found. Reading raw SIAB data: {raw_file}\")\n",
    "#    siab = pd.read_csv(raw_file)\n",
    "#    siab.to_csv(cache_file, index=False, compression='gzip')\n",
    "#    print(f\"Cached SIAB data to: {cache_file}\")\n",
    "#\n",
    "## Now use `siab` DataFrame as needed\n",
    "#print(siab.shape)\n"
   ]
  },
  {
   "cell_type": "code",
   "execution_count": 10,
   "id": "a0edb063",
   "metadata": {
    "execution": {
     "iopub.execute_input": "2025-07-22T10:10:22.238068Z",
     "iopub.status.busy": "2025-07-22T10:10:22.237263Z",
     "iopub.status.idle": "2025-07-22T10:10:22.717517Z",
     "shell.execute_reply": "2025-07-22T10:10:22.715876Z"
    },
    "papermill": {
     "duration": 0.500368,
     "end_time": "2025-07-22T10:10:22.719637",
     "exception": false,
     "start_time": "2025-07-22T10:10:22.219269",
     "status": "completed"
    },
    "tags": []
   },
   "outputs": [],
   "source": [
    "import pandas as pd\n",
    "\n",
    "X_train = pd.read_csv(\"./data/X_train.csv\")\n",
    "y_train = pd.read_csv(\"./data/y_train.csv\")"
   ]
  },
  {
   "cell_type": "code",
   "execution_count": 11,
   "id": "63d08085",
   "metadata": {
    "execution": {
     "iopub.execute_input": "2025-07-22T10:10:22.760919Z",
     "iopub.status.busy": "2025-07-22T10:10:22.759885Z",
     "iopub.status.idle": "2025-07-22T10:10:23.996709Z",
     "shell.execute_reply": "2025-07-22T10:10:23.995786Z"
    },
    "papermill": {
     "duration": 1.258555,
     "end_time": "2025-07-22T10:10:23.998752",
     "exception": false,
     "start_time": "2025-07-22T10:10:22.740197",
     "status": "completed"
    },
    "tags": []
   },
   "outputs": [],
   "source": [
    "X_test = pd.read_csv(\"./data/X_test.csv\")\n",
    "y_true = pd.read_csv(\"./data/y_test.csv\")"
   ]
  },
  {
   "cell_type": "code",
   "execution_count": 12,
   "id": "98a8d0fa-1d3d-4ed8-bb2c-281470e24add",
   "metadata": {
    "execution": {
     "iopub.execute_input": "2025-07-22T10:10:24.032943Z",
     "iopub.status.busy": "2025-07-22T10:10:24.032267Z",
     "iopub.status.idle": "2025-07-22T10:10:25.261787Z",
     "shell.execute_reply": "2025-07-22T10:10:25.260654Z"
    },
    "papermill": {
     "duration": 1.248418,
     "end_time": "2025-07-22T10:10:25.263761",
     "exception": false,
     "start_time": "2025-07-22T10:10:24.015343",
     "status": "completed"
    },
    "tags": []
   },
   "outputs": [],
   "source": [
    "# Calibration data for conformal\n",
    "X_calib = pd.read_csv(\"./data/X_calib.csv\")\n",
    "y_calib = pd.read_csv(\"./data/y_calib.csv\")"
   ]
  },
  {
   "cell_type": "code",
   "execution_count": 13,
   "id": "e6c733c5",
   "metadata": {
    "execution": {
     "iopub.execute_input": "2025-07-22T10:10:25.303321Z",
     "iopub.status.busy": "2025-07-22T10:10:25.302696Z",
     "iopub.status.idle": "2025-07-22T10:10:25.383972Z",
     "shell.execute_reply": "2025-07-22T10:10:25.382801Z"
    },
    "papermill": {
     "duration": 0.10216,
     "end_time": "2025-07-22T10:10:25.385681",
     "exception": false,
     "start_time": "2025-07-22T10:10:25.283521",
     "status": "completed"
    },
    "tags": []
   },
   "outputs": [],
   "source": [
    "# Auxiliary data needed downstream in the pipeline\n",
    "\n",
    "org_train = X_train.copy()\n",
    "org_test = X_test.copy()\n",
    "org_calib = X_calib.copy()"
   ]
  },
  {
   "cell_type": "markdown",
   "id": "0a4a1b33",
   "metadata": {
    "papermill": {
     "duration": 0.018583,
     "end_time": "2025-07-22T10:10:25.419722",
     "exception": false,
     "start_time": "2025-07-22T10:10:25.401139",
     "status": "completed"
    },
    "tags": []
   },
   "source": [
    "# Preprocessing Data"
   ]
  },
  {
   "cell_type": "code",
   "execution_count": 14,
   "id": "ca879031",
   "metadata": {
    "execution": {
     "iopub.execute_input": "2025-07-22T10:10:25.456407Z",
     "iopub.status.busy": "2025-07-22T10:10:25.455849Z",
     "iopub.status.idle": "2025-07-22T10:10:25.461656Z",
     "shell.execute_reply": "2025-07-22T10:10:25.460645Z"
    },
    "papermill": {
     "duration": 0.025684,
     "end_time": "2025-07-22T10:10:25.463402",
     "exception": false,
     "start_time": "2025-07-22T10:10:25.437718",
     "status": "completed"
    },
    "tags": []
   },
   "outputs": [],
   "source": [
    "# EXCLUDE PROTECTED FEATURES\n",
    "# ----------------------\n",
    "# \"exclude_features\": \"none\", # \"nationality\", \"sex\", \"nationality-sex\"\n",
    "\n",
    "excluded_features = universe[\"exclude_features\"].split(\"-\") # split, e.g.: \"nationality-sex\" -> [\"nationality\", \"sex\"]\n",
    "excluded_features_dictionary = {\n",
    "    \"nationality\": [\"maxdeutsch1\", \"maxdeutsch.Missing.\"],\n",
    "    \"sex\": [\"frau1\"],\n",
    "}\n"
   ]
  },
  {
   "cell_type": "code",
   "execution_count": 15,
   "id": "b745ac60",
   "metadata": {
    "execution": {
     "iopub.execute_input": "2025-07-22T10:10:25.503170Z",
     "iopub.status.busy": "2025-07-22T10:10:25.502658Z",
     "iopub.status.idle": "2025-07-22T10:10:25.509121Z",
     "shell.execute_reply": "2025-07-22T10:10:25.508009Z"
    },
    "papermill": {
     "duration": 0.028408,
     "end_time": "2025-07-22T10:10:25.510962",
     "exception": false,
     "start_time": "2025-07-22T10:10:25.482554",
     "status": "completed"
    },
    "tags": []
   },
   "outputs": [],
   "source": [
    "# Code nice names to column names\n",
    "\n",
    "excluded_features_columns = [\n",
    "    excluded_features_dictionary[f] for f in excluded_features if len(f) > 0 and f != \"none\"\n",
    "]"
   ]
  },
  {
   "cell_type": "code",
   "execution_count": 16,
   "id": "f84f73a2",
   "metadata": {
    "execution": {
     "iopub.execute_input": "2025-07-22T10:10:25.548119Z",
     "iopub.status.busy": "2025-07-22T10:10:25.547420Z",
     "iopub.status.idle": "2025-07-22T10:10:25.598450Z",
     "shell.execute_reply": "2025-07-22T10:10:25.597343Z"
    },
    "papermill": {
     "duration": 0.07227,
     "end_time": "2025-07-22T10:10:25.600730",
     "exception": false,
     "start_time": "2025-07-22T10:10:25.528460",
     "status": "completed"
    },
    "tags": []
   },
   "outputs": [],
   "source": [
    "from utils import flatten_once\n",
    "\n",
    "excluded_features_columns = flatten_once(excluded_features_columns)"
   ]
  },
  {
   "cell_type": "code",
   "execution_count": 17,
   "id": "884dea22",
   "metadata": {
    "execution": {
     "iopub.execute_input": "2025-07-22T10:10:25.641841Z",
     "iopub.status.busy": "2025-07-22T10:10:25.640747Z",
     "iopub.status.idle": "2025-07-22T10:10:25.666908Z",
     "shell.execute_reply": "2025-07-22T10:10:25.665741Z"
    },
    "papermill": {
     "duration": 0.048334,
     "end_time": "2025-07-22T10:10:25.668532",
     "exception": false,
     "start_time": "2025-07-22T10:10:25.620198",
     "status": "completed"
    },
    "tags": []
   },
   "outputs": [
    {
     "name": "stdout",
     "output_type": "stream",
     "text": [
      "Dropping features: ['maxdeutsch1', 'maxdeutsch.Missing.']\n"
     ]
    }
   ],
   "source": [
    "if len(excluded_features_columns) > 0:\n",
    "    print(f\"Dropping features: {excluded_features_columns}\")\n",
    "    X_train.drop(excluded_features_columns, axis=1, inplace=True)"
   ]
  },
  {
   "cell_type": "code",
   "execution_count": 18,
   "id": "95ab8b16",
   "metadata": {
    "execution": {
     "iopub.execute_input": "2025-07-22T10:10:25.692251Z",
     "iopub.status.busy": "2025-07-22T10:10:25.691390Z",
     "iopub.status.idle": "2025-07-22T10:10:25.760881Z",
     "shell.execute_reply": "2025-07-22T10:10:25.759557Z"
    },
    "papermill": {
     "duration": 0.083525,
     "end_time": "2025-07-22T10:10:25.763217",
     "exception": false,
     "start_time": "2025-07-22T10:10:25.679692",
     "status": "completed"
    },
    "tags": []
   },
   "outputs": [
    {
     "name": "stdout",
     "output_type": "stream",
     "text": [
      "Dropping features: ['maxdeutsch1', 'maxdeutsch.Missing.']\n"
     ]
    }
   ],
   "source": [
    "if len(excluded_features_columns) > 0:\n",
    "    print(f\"Dropping features: {excluded_features_columns}\")\n",
    "    X_test.drop(excluded_features_columns, axis=1, inplace=True)"
   ]
  },
  {
   "cell_type": "code",
   "execution_count": 19,
   "id": "1853aaf5-fb9f-46cb-a2b5-8ea4ae2237e4",
   "metadata": {
    "execution": {
     "iopub.execute_input": "2025-07-22T10:10:25.805374Z",
     "iopub.status.busy": "2025-07-22T10:10:25.804408Z",
     "iopub.status.idle": "2025-07-22T10:10:25.867564Z",
     "shell.execute_reply": "2025-07-22T10:10:25.866332Z"
    },
    "papermill": {
     "duration": 0.085694,
     "end_time": "2025-07-22T10:10:25.869927",
     "exception": false,
     "start_time": "2025-07-22T10:10:25.784233",
     "status": "completed"
    },
    "tags": []
   },
   "outputs": [
    {
     "name": "stdout",
     "output_type": "stream",
     "text": [
      "Dropping features: ['maxdeutsch1', 'maxdeutsch.Missing.']\n"
     ]
    }
   ],
   "source": [
    "if len(excluded_features_columns) > 0:\n",
    "    print(f\"Dropping features: {excluded_features_columns}\")\n",
    "    X_calib.drop(excluded_features_columns, axis=1, inplace=True)"
   ]
  },
  {
   "cell_type": "code",
   "execution_count": 20,
   "id": "76c4dc6d",
   "metadata": {
    "execution": {
     "iopub.execute_input": "2025-07-22T10:10:25.912010Z",
     "iopub.status.busy": "2025-07-22T10:10:25.911377Z",
     "iopub.status.idle": "2025-07-22T10:10:25.920328Z",
     "shell.execute_reply": "2025-07-22T10:10:25.919404Z"
    },
    "papermill": {
     "duration": 0.031216,
     "end_time": "2025-07-22T10:10:25.922064",
     "exception": false,
     "start_time": "2025-07-22T10:10:25.890848",
     "status": "completed"
    },
    "tags": []
   },
   "outputs": [],
   "source": [
    "# EXCLUDE CERTAIN SUBGROUPS\n",
    "# ----------------------\n",
    "\n",
    "mode = universe.get(\"exclude_subgroups\", \"keep-all\") \n",
    "# Fetches the exclude_subgroups setting from the universe dict.\n",
    "# Defaults to \"keep-all\" if the key is missing."
   ]
  },
  {
   "cell_type": "code",
   "execution_count": 21,
   "id": "21994072",
   "metadata": {
    "execution": {
     "iopub.execute_input": "2025-07-22T10:10:25.950104Z",
     "iopub.status.busy": "2025-07-22T10:10:25.949742Z",
     "iopub.status.idle": "2025-07-22T10:10:25.956284Z",
     "shell.execute_reply": "2025-07-22T10:10:25.955423Z"
    },
    "papermill": {
     "duration": 0.024497,
     "end_time": "2025-07-22T10:10:25.958257",
     "exception": false,
     "start_time": "2025-07-22T10:10:25.933760",
     "status": "completed"
    },
    "tags": []
   },
   "outputs": [],
   "source": [
    "if mode == \"keep-all\":\n",
    "    keep_mask = pd.Series(True, index=org_train.index)\n",
    "\n",
    "# org_train contains the original feature columns from features_org (in Simson)\n",
    "# features_org contains unprocessed features, for me X_train at beginning ???\n",
    "# For keep-all, creates a boolean Series (keep_mask) of all True, so no rows are removed.\n",
    "\n",
    "elif mode == \"drop-non-german\":\n",
    "    keep_mask = org_train[\"maxdeutsch1\"] == 1 # ??? what about missing values?\n",
    "\n",
    "else:\n",
    "    raise ValueError(f\"Unsupported mode for exclude_subgroups: {mode}\")\n"
   ]
  },
  {
   "cell_type": "code",
   "execution_count": 22,
   "id": "71651440",
   "metadata": {
    "execution": {
     "iopub.execute_input": "2025-07-22T10:10:25.995070Z",
     "iopub.status.busy": "2025-07-22T10:10:25.994470Z",
     "iopub.status.idle": "2025-07-22T10:10:25.999978Z",
     "shell.execute_reply": "2025-07-22T10:10:25.999277Z"
    },
    "papermill": {
     "duration": 0.026218,
     "end_time": "2025-07-22T10:10:26.001517",
     "exception": false,
     "start_time": "2025-07-22T10:10:25.975299",
     "status": "completed"
    },
    "tags": []
   },
   "outputs": [
    {
     "name": "stdout",
     "output_type": "stream",
     "text": [
      "Dropping 3312 rows (13.25%) where mode='drop-non-german'\n"
     ]
    }
   ],
   "source": [
    "n_drop = (~keep_mask).sum() # Calculates how many rows are set to be dropped\n",
    "if n_drop > 0:\n",
    "    pct = n_drop / len(keep_mask) * 100\n",
    "    print(f\"Dropping {n_drop} rows ({pct:.2f}%) where mode='{mode}'\")"
   ]
  },
  {
   "cell_type": "code",
   "execution_count": 23,
   "id": "5fb8eee5",
   "metadata": {
    "execution": {
     "iopub.execute_input": "2025-07-22T10:10:26.024343Z",
     "iopub.status.busy": "2025-07-22T10:10:26.024016Z",
     "iopub.status.idle": "2025-07-22T10:10:26.038805Z",
     "shell.execute_reply": "2025-07-22T10:10:26.037139Z"
    },
    "papermill": {
     "duration": 0.028641,
     "end_time": "2025-07-22T10:10:26.041108",
     "exception": false,
     "start_time": "2025-07-22T10:10:26.012467",
     "status": "completed"
    },
    "tags": []
   },
   "outputs": [],
   "source": [
    "X_train = X_train[keep_mask]"
   ]
  },
  {
   "cell_type": "code",
   "execution_count": 24,
   "id": "b202bb3a",
   "metadata": {
    "execution": {
     "iopub.execute_input": "2025-07-22T10:10:26.071078Z",
     "iopub.status.busy": "2025-07-22T10:10:26.070654Z",
     "iopub.status.idle": "2025-07-22T10:10:26.076400Z",
     "shell.execute_reply": "2025-07-22T10:10:26.075506Z"
    },
    "papermill": {
     "duration": 0.019025,
     "end_time": "2025-07-22T10:10:26.078147",
     "exception": false,
     "start_time": "2025-07-22T10:10:26.059122",
     "status": "completed"
    },
    "tags": []
   },
   "outputs": [],
   "source": [
    "y_train = y_train[keep_mask]"
   ]
  },
  {
   "cell_type": "markdown",
   "id": "493e2ac3",
   "metadata": {
    "papermill": {
     "duration": 0.011155,
     "end_time": "2025-07-22T10:10:26.107235",
     "exception": false,
     "start_time": "2025-07-22T10:10:26.096080",
     "status": "completed"
    },
    "tags": []
   },
   "source": [
    "# Model Training"
   ]
  },
  {
   "cell_type": "code",
   "execution_count": 25,
   "id": "679e1268",
   "metadata": {
    "execution": {
     "iopub.execute_input": "2025-07-22T10:10:26.133813Z",
     "iopub.status.busy": "2025-07-22T10:10:26.133406Z",
     "iopub.status.idle": "2025-07-22T10:10:26.308375Z",
     "shell.execute_reply": "2025-07-22T10:10:26.307338Z"
    },
    "papermill": {
     "duration": 0.192608,
     "end_time": "2025-07-22T10:10:26.310577",
     "exception": false,
     "start_time": "2025-07-22T10:10:26.117969",
     "status": "completed"
    },
    "tags": []
   },
   "outputs": [],
   "source": [
    "from sklearn.linear_model import LogisticRegression\n",
    "from sklearn.ensemble import GradientBoostingClassifier, RandomForestClassifier\n",
    "\n",
    "if (universe[\"model\"] == \"logreg\"):\n",
    "    model = LogisticRegression() #penalty=\"none\") #, solver=\"newton-cg\", max_iter=1) # include random_state=19 ?\n",
    "elif (universe[\"model\"] == \"penalized_logreg\"):\n",
    "    model = LogisticRegression(penalty=\"l2\", C=1.0) #, solver=\"newton-cg\", max_iter=1)\n",
    "elif (universe[\"model\"] == \"rf\"):\n",
    "    model = RandomForestClassifier(n_estimators=100, n_jobs=-1)\n",
    "elif (universe[\"model\"] == \"gbm\"):\n",
    "    model = GradientBoostingClassifier()\n",
    "elif (universe[\"model\"] == \"elasticnet\"):\n",
    "    model = LogisticRegression(penalty = 'elasticnet', solver = 'saga', l1_ratio = 0.5, max_iter=5000) # which solver to use?\n",
    "else:\n",
    "    raise \"Unsupported universe.model\""
   ]
  },
  {
   "cell_type": "code",
   "execution_count": 26,
   "id": "0cc8f744",
   "metadata": {
    "execution": {
     "iopub.execute_input": "2025-07-22T10:10:26.355232Z",
     "iopub.status.busy": "2025-07-22T10:10:26.354853Z",
     "iopub.status.idle": "2025-07-22T10:10:26.363250Z",
     "shell.execute_reply": "2025-07-22T10:10:26.361936Z"
    },
    "papermill": {
     "duration": 0.032028,
     "end_time": "2025-07-22T10:10:26.365394",
     "exception": false,
     "start_time": "2025-07-22T10:10:26.333366",
     "status": "completed"
    },
    "tags": []
   },
   "outputs": [],
   "source": [
    "import numpy as np\n",
    "from sklearn.pipeline import Pipeline\n",
    "from sklearn.preprocessing import StandardScaler\n",
    "\n",
    "model = Pipeline([\n",
    "    #(\"continuous_processor\", continuous_processor),\n",
    "    #(\"categorical_preprocessor\", categorical_preprocessor),\n",
    "    (\"scale\", StandardScaler() if universe[\"scale\"] == \"scale\" else None), \n",
    "    (\"model\", model),\n",
    "])"
   ]
  },
  {
   "cell_type": "code",
   "execution_count": 27,
   "id": "9442c04d",
   "metadata": {
    "execution": {
     "iopub.execute_input": "2025-07-22T10:10:26.411020Z",
     "iopub.status.busy": "2025-07-22T10:10:26.410549Z",
     "iopub.status.idle": "2025-07-22T10:10:26.862590Z",
     "shell.execute_reply": "2025-07-22T10:10:26.861844Z"
    },
    "papermill": {
     "duration": 0.476438,
     "end_time": "2025-07-22T10:10:26.864014",
     "exception": false,
     "start_time": "2025-07-22T10:10:26.387576",
     "status": "completed"
    },
    "tags": []
   },
   "outputs": [
    {
     "name": "stderr",
     "output_type": "stream",
     "text": [
      "/dss/dsshome1/0C/ra93lal2/.local/share/virtualenvs/CMA_Fairness_v2-3j10GkSs/lib/python3.10/site-packages/sklearn/linear_model/_logistic.py:444: ConvergenceWarning: lbfgs failed to converge (status=1):\n",
      "STOP: TOTAL NO. of ITERATIONS REACHED LIMIT.\n",
      "\n",
      "Increase the number of iterations (max_iter) or scale the data as shown in:\n",
      "    https://scikit-learn.org/stable/modules/preprocessing.html\n",
      "Please also refer to the documentation for alternative solver options:\n",
      "    https://scikit-learn.org/stable/modules/linear_model.html#logistic-regression\n",
      "  n_iter_i = _check_optimize_result(\n"
     ]
    },
    {
     "data": {
      "text/html": [
       "<style>#sk-container-id-1 {color: black;background-color: white;}#sk-container-id-1 pre{padding: 0;}#sk-container-id-1 div.sk-toggleable {background-color: white;}#sk-container-id-1 label.sk-toggleable__label {cursor: pointer;display: block;width: 100%;margin-bottom: 0;padding: 0.3em;box-sizing: border-box;text-align: center;}#sk-container-id-1 label.sk-toggleable__label-arrow:before {content: \"▸\";float: left;margin-right: 0.25em;color: #696969;}#sk-container-id-1 label.sk-toggleable__label-arrow:hover:before {color: black;}#sk-container-id-1 div.sk-estimator:hover label.sk-toggleable__label-arrow:before {color: black;}#sk-container-id-1 div.sk-toggleable__content {max-height: 0;max-width: 0;overflow: hidden;text-align: left;background-color: #f0f8ff;}#sk-container-id-1 div.sk-toggleable__content pre {margin: 0.2em;color: black;border-radius: 0.25em;background-color: #f0f8ff;}#sk-container-id-1 input.sk-toggleable__control:checked~div.sk-toggleable__content {max-height: 200px;max-width: 100%;overflow: auto;}#sk-container-id-1 input.sk-toggleable__control:checked~label.sk-toggleable__label-arrow:before {content: \"▾\";}#sk-container-id-1 div.sk-estimator input.sk-toggleable__control:checked~label.sk-toggleable__label {background-color: #d4ebff;}#sk-container-id-1 div.sk-label input.sk-toggleable__control:checked~label.sk-toggleable__label {background-color: #d4ebff;}#sk-container-id-1 input.sk-hidden--visually {border: 0;clip: rect(1px 1px 1px 1px);clip: rect(1px, 1px, 1px, 1px);height: 1px;margin: -1px;overflow: hidden;padding: 0;position: absolute;width: 1px;}#sk-container-id-1 div.sk-estimator {font-family: monospace;background-color: #f0f8ff;border: 1px dotted black;border-radius: 0.25em;box-sizing: border-box;margin-bottom: 0.5em;}#sk-container-id-1 div.sk-estimator:hover {background-color: #d4ebff;}#sk-container-id-1 div.sk-parallel-item::after {content: \"\";width: 100%;border-bottom: 1px solid gray;flex-grow: 1;}#sk-container-id-1 div.sk-label:hover label.sk-toggleable__label {background-color: #d4ebff;}#sk-container-id-1 div.sk-serial::before {content: \"\";position: absolute;border-left: 1px solid gray;box-sizing: border-box;top: 0;bottom: 0;left: 50%;z-index: 0;}#sk-container-id-1 div.sk-serial {display: flex;flex-direction: column;align-items: center;background-color: white;padding-right: 0.2em;padding-left: 0.2em;position: relative;}#sk-container-id-1 div.sk-item {position: relative;z-index: 1;}#sk-container-id-1 div.sk-parallel {display: flex;align-items: stretch;justify-content: center;background-color: white;position: relative;}#sk-container-id-1 div.sk-item::before, #sk-container-id-1 div.sk-parallel-item::before {content: \"\";position: absolute;border-left: 1px solid gray;box-sizing: border-box;top: 0;bottom: 0;left: 50%;z-index: -1;}#sk-container-id-1 div.sk-parallel-item {display: flex;flex-direction: column;z-index: 1;position: relative;background-color: white;}#sk-container-id-1 div.sk-parallel-item:first-child::after {align-self: flex-end;width: 50%;}#sk-container-id-1 div.sk-parallel-item:last-child::after {align-self: flex-start;width: 50%;}#sk-container-id-1 div.sk-parallel-item:only-child::after {width: 0;}#sk-container-id-1 div.sk-dashed-wrapped {border: 1px dashed gray;margin: 0 0.4em 0.5em 0.4em;box-sizing: border-box;padding-bottom: 0.4em;background-color: white;}#sk-container-id-1 div.sk-label label {font-family: monospace;font-weight: bold;display: inline-block;line-height: 1.2em;}#sk-container-id-1 div.sk-label-container {text-align: center;}#sk-container-id-1 div.sk-container {/* jupyter's `normalize.less` sets `[hidden] { display: none; }` but bootstrap.min.css set `[hidden] { display: none !important; }` so we also need the `!important` here to be able to override the default hidden behavior on the sphinx rendered scikit-learn.org. See: https://github.com/scikit-learn/scikit-learn/issues/21755 */display: inline-block !important;position: relative;}#sk-container-id-1 div.sk-text-repr-fallback {display: none;}</style><div id=\"sk-container-id-1\" class=\"sk-top-container\"><div class=\"sk-text-repr-fallback\"><pre>Pipeline(steps=[(&#x27;scale&#x27;, None), (&#x27;model&#x27;, LogisticRegression())])</pre><b>In a Jupyter environment, please rerun this cell to show the HTML representation or trust the notebook. <br />On GitHub, the HTML representation is unable to render, please try loading this page with nbviewer.org.</b></div><div class=\"sk-container\" hidden><div class=\"sk-item sk-dashed-wrapped\"><div class=\"sk-label-container\"><div class=\"sk-label sk-toggleable\"><input class=\"sk-toggleable__control sk-hidden--visually\" id=\"sk-estimator-id-1\" type=\"checkbox\" ><label for=\"sk-estimator-id-1\" class=\"sk-toggleable__label sk-toggleable__label-arrow\">Pipeline</label><div class=\"sk-toggleable__content\"><pre>Pipeline(steps=[(&#x27;scale&#x27;, None), (&#x27;model&#x27;, LogisticRegression())])</pre></div></div></div><div class=\"sk-serial\"><div class=\"sk-item\"><div class=\"sk-estimator sk-toggleable\"><input class=\"sk-toggleable__control sk-hidden--visually\" id=\"sk-estimator-id-2\" type=\"checkbox\" ><label for=\"sk-estimator-id-2\" class=\"sk-toggleable__label sk-toggleable__label-arrow\">None</label><div class=\"sk-toggleable__content\"><pre>None</pre></div></div></div><div class=\"sk-item\"><div class=\"sk-estimator sk-toggleable\"><input class=\"sk-toggleable__control sk-hidden--visually\" id=\"sk-estimator-id-3\" type=\"checkbox\" ><label for=\"sk-estimator-id-3\" class=\"sk-toggleable__label sk-toggleable__label-arrow\">LogisticRegression</label><div class=\"sk-toggleable__content\"><pre>LogisticRegression()</pre></div></div></div></div></div></div></div>"
      ],
      "text/plain": [
       "Pipeline(steps=[('scale', None), ('model', LogisticRegression())])"
      ]
     },
     "execution_count": 27,
     "metadata": {},
     "output_type": "execute_result"
    }
   ],
   "source": [
    "model.fit(X_train, y_train.values.ravel())"
   ]
  },
  {
   "cell_type": "code",
   "execution_count": 28,
   "id": "af59f8c0",
   "metadata": {
    "execution": {
     "iopub.execute_input": "2025-07-22T10:10:26.886331Z",
     "iopub.status.busy": "2025-07-22T10:10:26.885843Z",
     "iopub.status.idle": "2025-07-22T10:10:26.891499Z",
     "shell.execute_reply": "2025-07-22T10:10:26.890568Z"
    },
    "papermill": {
     "duration": 0.018214,
     "end_time": "2025-07-22T10:10:26.893189",
     "exception": false,
     "start_time": "2025-07-22T10:10:26.874975",
     "status": "completed"
    },
    "tags": []
   },
   "outputs": [],
   "source": [
    "from fairness_multiverse.universe import predict_w_threshold"
   ]
  },
  {
   "cell_type": "code",
   "execution_count": 29,
   "id": "a7cf2e16",
   "metadata": {
    "execution": {
     "iopub.execute_input": "2025-07-22T10:10:26.916999Z",
     "iopub.status.busy": "2025-07-22T10:10:26.916129Z",
     "iopub.status.idle": "2025-07-22T10:10:27.023242Z",
     "shell.execute_reply": "2025-07-22T10:10:27.022333Z"
    },
    "papermill": {
     "duration": 0.119898,
     "end_time": "2025-07-22T10:10:27.024681",
     "exception": false,
     "start_time": "2025-07-22T10:10:26.904783",
     "status": "completed"
    },
    "tags": []
   },
   "outputs": [
    {
     "data": {
      "text/plain": [
       "0.8576635826552224"
      ]
     },
     "execution_count": 29,
     "metadata": {},
     "output_type": "execute_result"
    }
   ],
   "source": [
    "probs_test = model.predict_proba(X_test)\n",
    "\n",
    "'''\n",
    "Below code returns a boolean array (or binary 0/1 array depending on how it’s used) where each element \n",
    "is True if the probability of class 1 is greater than or equal to the threshold, and False otherwise.\n",
    "'''\n",
    "y_pred_default = predict_w_threshold(probs_test, 0.5)\n",
    "\n",
    "from sklearn.metrics import accuracy_score\n",
    "\n",
    "# Naive prediction\n",
    "accuracy_score(y_true = y_true, y_pred = y_pred_default)"
   ]
  },
  {
   "cell_type": "code",
   "execution_count": 30,
   "id": "081964c3",
   "metadata": {
    "execution": {
     "iopub.execute_input": "2025-07-22T10:10:27.048532Z",
     "iopub.status.busy": "2025-07-22T10:10:27.048141Z",
     "iopub.status.idle": "2025-07-22T10:10:27.137386Z",
     "shell.execute_reply": "2025-07-22T10:10:27.136322Z"
    },
    "papermill": {
     "duration": 0.102769,
     "end_time": "2025-07-22T10:10:27.139027",
     "exception": false,
     "start_time": "2025-07-22T10:10:27.036258",
     "status": "completed"
    },
    "tags": []
   },
   "outputs": [
    {
     "data": {
      "text/plain": [
       "array([0, 0, 0, ..., 0, 0, 0])"
      ]
     },
     "execution_count": 30,
     "metadata": {},
     "output_type": "execute_result"
    }
   ],
   "source": [
    "model.predict(X_test)"
   ]
  },
  {
   "cell_type": "markdown",
   "id": "56c9705b",
   "metadata": {
    "papermill": {
     "duration": 0.015931,
     "end_time": "2025-07-22T10:10:27.170432",
     "exception": false,
     "start_time": "2025-07-22T10:10:27.154501",
     "status": "completed"
    },
    "tags": []
   },
   "source": [
    "# Conformal Prediction"
   ]
  },
  {
   "cell_type": "code",
   "execution_count": 31,
   "id": "97cb0abb-9ba7-4cd9-96c4-aa4728b38a5f",
   "metadata": {
    "execution": {
     "iopub.execute_input": "2025-07-22T10:10:27.213679Z",
     "iopub.status.busy": "2025-07-22T10:10:27.213217Z",
     "iopub.status.idle": "2025-07-22T10:10:27.218230Z",
     "shell.execute_reply": "2025-07-22T10:10:27.217271Z"
    },
    "papermill": {
     "duration": 0.028593,
     "end_time": "2025-07-22T10:10:27.220717",
     "exception": false,
     "start_time": "2025-07-22T10:10:27.192124",
     "status": "completed"
    },
    "tags": []
   },
   "outputs": [],
   "source": [
    "# SCALE X CALIB IF UNIVERSE IS IN SCALE?????"
   ]
  },
  {
   "cell_type": "code",
   "execution_count": 32,
   "id": "160ec6ff",
   "metadata": {
    "execution": {
     "iopub.execute_input": "2025-07-22T10:10:27.262674Z",
     "iopub.status.busy": "2025-07-22T10:10:27.262381Z",
     "iopub.status.idle": "2025-07-22T10:10:27.268341Z",
     "shell.execute_reply": "2025-07-22T10:10:27.266914Z"
    },
    "papermill": {
     "duration": 0.029241,
     "end_time": "2025-07-22T10:10:27.270879",
     "exception": false,
     "start_time": "2025-07-22T10:10:27.241638",
     "status": "completed"
    },
    "tags": []
   },
   "outputs": [],
   "source": [
    "# Miscoverage level for conformal prediction (10% allowed error rate => 90% target coverage)\n",
    "alpha = 0.1"
   ]
  },
  {
   "cell_type": "code",
   "execution_count": 33,
   "id": "eadf4555-3dd3-440e-8e35-f82a4ad9f855",
   "metadata": {
    "execution": {
     "iopub.execute_input": "2025-07-22T10:10:27.312436Z",
     "iopub.status.busy": "2025-07-22T10:10:27.311662Z",
     "iopub.status.idle": "2025-07-22T10:10:27.407372Z",
     "shell.execute_reply": "2025-07-22T10:10:27.406218Z"
    },
    "papermill": {
     "duration": 0.118844,
     "end_time": "2025-07-22T10:10:27.409966",
     "exception": false,
     "start_time": "2025-07-22T10:10:27.291122",
     "status": "completed"
    },
    "tags": []
   },
   "outputs": [],
   "source": [
    "probs_calib = model.predict_proba(X_calib)"
   ]
  },
  {
   "cell_type": "code",
   "execution_count": 34,
   "id": "2ed93547-6d5d-4983-9b36-1ecb300da49a",
   "metadata": {
    "execution": {
     "iopub.execute_input": "2025-07-22T10:10:27.456074Z",
     "iopub.status.busy": "2025-07-22T10:10:27.455348Z",
     "iopub.status.idle": "2025-07-22T10:10:27.461708Z",
     "shell.execute_reply": "2025-07-22T10:10:27.460484Z"
    },
    "papermill": {
     "duration": 0.030902,
     "end_time": "2025-07-22T10:10:27.463886",
     "exception": false,
     "start_time": "2025-07-22T10:10:27.432984",
     "status": "completed"
    },
    "tags": []
   },
   "outputs": [],
   "source": [
    "y_calib = y_calib.values.ravel().astype(int)"
   ]
  },
  {
   "cell_type": "code",
   "execution_count": 35,
   "id": "65d1320d-f588-4b38-9072-62af1ae97f7d",
   "metadata": {
    "execution": {
     "iopub.execute_input": "2025-07-22T10:10:27.507610Z",
     "iopub.status.busy": "2025-07-22T10:10:27.507074Z",
     "iopub.status.idle": "2025-07-22T10:10:27.516367Z",
     "shell.execute_reply": "2025-07-22T10:10:27.515332Z"
    },
    "papermill": {
     "duration": 0.032209,
     "end_time": "2025-07-22T10:10:27.518436",
     "exception": false,
     "start_time": "2025-07-22T10:10:27.486227",
     "status": "completed"
    },
    "tags": []
   },
   "outputs": [],
   "source": [
    "from fairness_multiverse.conformal import compute_nc_scores\n",
    "\n",
    "# Compute nonconformity scores on calibration set (1 - probability of true class)\n",
    "nc_scores = compute_nc_scores(probs_calib, y_calib)"
   ]
  },
  {
   "cell_type": "code",
   "execution_count": 36,
   "id": "df3b8ca3-53b7-43d5-9667-7c85da7aeda2",
   "metadata": {
    "execution": {
     "iopub.execute_input": "2025-07-22T10:10:27.554842Z",
     "iopub.status.busy": "2025-07-22T10:10:27.553959Z",
     "iopub.status.idle": "2025-07-22T10:10:27.562240Z",
     "shell.execute_reply": "2025-07-22T10:10:27.560919Z"
    },
    "papermill": {
     "duration": 0.024112,
     "end_time": "2025-07-22T10:10:27.563886",
     "exception": false,
     "start_time": "2025-07-22T10:10:27.539774",
     "status": "completed"
    },
    "tags": []
   },
   "outputs": [],
   "source": [
    "from fairness_multiverse.conformal import find_threshold\n",
    "\n",
    "# Find conformal threshold q_hat for the given alpha (split conformal method)\n",
    "q_hat = find_threshold(nc_scores, alpha)"
   ]
  },
  {
   "cell_type": "code",
   "execution_count": 37,
   "id": "4d29e6c1-0ef6-4aa4-b8fe-4fe79b0d033a",
   "metadata": {
    "execution": {
     "iopub.execute_input": "2025-07-22T10:10:27.588690Z",
     "iopub.status.busy": "2025-07-22T10:10:27.588078Z",
     "iopub.status.idle": "2025-07-22T10:10:27.596063Z",
     "shell.execute_reply": "2025-07-22T10:10:27.594752Z"
    },
    "papermill": {
     "duration": 0.021996,
     "end_time": "2025-07-22T10:10:27.597869",
     "exception": false,
     "start_time": "2025-07-22T10:10:27.575873",
     "status": "completed"
    },
    "tags": []
   },
   "outputs": [
    {
     "data": {
      "text/plain": [
       "0.6739806319281745"
      ]
     },
     "execution_count": 37,
     "metadata": {},
     "output_type": "execute_result"
    }
   ],
   "source": [
    "q_hat"
   ]
  },
  {
   "cell_type": "code",
   "execution_count": 38,
   "id": "92460794-cdac-4be2-ba28-f28c0515a6fb",
   "metadata": {
    "execution": {
     "iopub.execute_input": "2025-07-22T10:10:27.642092Z",
     "iopub.status.busy": "2025-07-22T10:10:27.641192Z",
     "iopub.status.idle": "2025-07-22T10:10:28.529002Z",
     "shell.execute_reply": "2025-07-22T10:10:28.528044Z"
    },
    "papermill": {
     "duration": 0.912194,
     "end_time": "2025-07-22T10:10:28.531165",
     "exception": false,
     "start_time": "2025-07-22T10:10:27.618971",
     "status": "completed"
    },
    "tags": []
   },
   "outputs": [],
   "source": [
    "from fairness_multiverse.conformal import predict_conformal_sets\n",
    "\n",
    "# Generate prediction sets for each test example\n",
    "pred_sets = predict_conformal_sets(model, X_test, q_hat)"
   ]
  },
  {
   "cell_type": "code",
   "execution_count": 39,
   "id": "d90c9a65-e6db-4f5d-80cd-e68fb7e46829",
   "metadata": {
    "execution": {
     "iopub.execute_input": "2025-07-22T10:10:28.581713Z",
     "iopub.status.busy": "2025-07-22T10:10:28.580596Z",
     "iopub.status.idle": "2025-07-22T10:10:28.586913Z",
     "shell.execute_reply": "2025-07-22T10:10:28.585668Z"
    },
    "papermill": {
     "duration": 0.030934,
     "end_time": "2025-07-22T10:10:28.588655",
     "exception": false,
     "start_time": "2025-07-22T10:10:28.557721",
     "status": "completed"
    },
    "tags": []
   },
   "outputs": [],
   "source": [
    "y_true = y_true.squeeze()"
   ]
  },
  {
   "cell_type": "code",
   "execution_count": 40,
   "id": "3a58a54a-1e68-46b9-927a-df01f18aebc8",
   "metadata": {
    "execution": {
     "iopub.execute_input": "2025-07-22T10:10:28.633306Z",
     "iopub.status.busy": "2025-07-22T10:10:28.632831Z",
     "iopub.status.idle": "2025-07-22T10:10:29.445957Z",
     "shell.execute_reply": "2025-07-22T10:10:29.444587Z"
    },
    "papermill": {
     "duration": 0.836763,
     "end_time": "2025-07-22T10:10:29.447852",
     "exception": false,
     "start_time": "2025-07-22T10:10:28.611089",
     "status": "completed"
    },
    "tags": []
   },
   "outputs": [],
   "source": [
    "from fairness_multiverse.conformal import evaluate_sets\n",
    "\n",
    "# Evaluate coverage and average set size on test data\n",
    "metrics = evaluate_sets(pred_sets, y_true)"
   ]
  },
  {
   "cell_type": "code",
   "execution_count": 41,
   "id": "5ce0a5cb-201f-45a0-ade5-94c7f0bd6095",
   "metadata": {
    "execution": {
     "iopub.execute_input": "2025-07-22T10:10:29.500900Z",
     "iopub.status.busy": "2025-07-22T10:10:29.499857Z",
     "iopub.status.idle": "2025-07-22T10:10:29.509084Z",
     "shell.execute_reply": "2025-07-22T10:10:29.507643Z"
    },
    "papermill": {
     "duration": 0.039255,
     "end_time": "2025-07-22T10:10:29.510977",
     "exception": false,
     "start_time": "2025-07-22T10:10:29.471722",
     "status": "completed"
    },
    "tags": []
   },
   "outputs": [
    {
     "data": {
      "text/plain": [
       "{'coverage': 0.9107791773492364, 'avg_size': 1.2128525248021402}"
      ]
     },
     "execution_count": 41,
     "metadata": {},
     "output_type": "execute_result"
    }
   ],
   "source": [
    "metrics"
   ]
  },
  {
   "cell_type": "code",
   "execution_count": 42,
   "id": "9b9a838d-31c9-430b-ae14-12baee460d17",
   "metadata": {
    "execution": {
     "iopub.execute_input": "2025-07-22T10:10:29.564428Z",
     "iopub.status.busy": "2025-07-22T10:10:29.563591Z",
     "iopub.status.idle": "2025-07-22T10:10:29.571611Z",
     "shell.execute_reply": "2025-07-22T10:10:29.570362Z"
    },
    "papermill": {
     "duration": 0.036125,
     "end_time": "2025-07-22T10:10:29.573512",
     "exception": false,
     "start_time": "2025-07-22T10:10:29.537387",
     "status": "completed"
    },
    "tags": []
   },
   "outputs": [],
   "source": [
    "example_universe = universe.copy()\n",
    "universe_model = example_universe.get(\"model\")\n",
    "universe_exclude_features = example_universe.get(\"exclude_features\")\n",
    "universe_exclude_subgroups = example_universe.get(\"exclude_subgroups\")\n",
    "universe_scale = example_universe.get(\"scale\")"
   ]
  },
  {
   "cell_type": "code",
   "execution_count": 43,
   "id": "f4b6a8ac-9dc0-4245-8a91-5b3b5999c4f9",
   "metadata": {
    "execution": {
     "iopub.execute_input": "2025-07-22T10:10:29.620596Z",
     "iopub.status.busy": "2025-07-22T10:10:29.619710Z",
     "iopub.status.idle": "2025-07-22T10:10:29.627774Z",
     "shell.execute_reply": "2025-07-22T10:10:29.626576Z"
    },
    "papermill": {
     "duration": 0.032135,
     "end_time": "2025-07-22T10:10:29.629974",
     "exception": false,
     "start_time": "2025-07-22T10:10:29.597839",
     "status": "completed"
    },
    "tags": []
   },
   "outputs": [],
   "source": [
    "cp_metrics_dict = {\n",
    "    \"universe_id\": [universe_id],\n",
    "    \"universe_model\": [universe_model],\n",
    "    \"universe_exclude_features\": [universe_exclude_features],\n",
    "    \"universe_exclude_subgroups\": [universe_exclude_subgroups],\n",
    "    \"universe_scale\": [universe_scale],\n",
    "    \"q_hat\": [q_hat],\n",
    "    \"coverage\": [metrics[\"coverage\"]],\n",
    "    \"avg_size\": [metrics[\"avg_size\"]],\n",
    "}"
   ]
  },
  {
   "cell_type": "code",
   "execution_count": 44,
   "id": "908acbb1-0371-4915-85ca-3fa520d2efe2",
   "metadata": {
    "execution": {
     "iopub.execute_input": "2025-07-22T10:10:29.666135Z",
     "iopub.status.busy": "2025-07-22T10:10:29.665358Z",
     "iopub.status.idle": "2025-07-22T10:10:29.673207Z",
     "shell.execute_reply": "2025-07-22T10:10:29.672180Z"
    },
    "papermill": {
     "duration": 0.022934,
     "end_time": "2025-07-22T10:10:29.674698",
     "exception": false,
     "start_time": "2025-07-22T10:10:29.651764",
     "status": "completed"
    },
    "tags": []
   },
   "outputs": [
    {
     "data": {
      "text/plain": [
       "{'universe_id': ['7835d6f4276d464df5313c642496b1e0'],\n",
       " 'universe_model': ['logreg'],\n",
       " 'universe_exclude_features': ['nationality'],\n",
       " 'universe_exclude_subgroups': ['drop-non-german'],\n",
       " 'universe_scale': ['do-not-scale'],\n",
       " 'q_hat': [0.6739806319281745],\n",
       " 'coverage': [0.9107791773492364],\n",
       " 'avg_size': [1.2128525248021402]}"
      ]
     },
     "execution_count": 44,
     "metadata": {},
     "output_type": "execute_result"
    }
   ],
   "source": [
    "cp_metrics_dict"
   ]
  },
  {
   "cell_type": "code",
   "execution_count": 45,
   "id": "33007efc-14e9-4ec6-97ac-56a455c82265",
   "metadata": {
    "execution": {
     "iopub.execute_input": "2025-07-22T10:10:29.709961Z",
     "iopub.status.busy": "2025-07-22T10:10:29.709455Z",
     "iopub.status.idle": "2025-07-22T10:10:29.717354Z",
     "shell.execute_reply": "2025-07-22T10:10:29.716087Z"
    },
    "papermill": {
     "duration": 0.032209,
     "end_time": "2025-07-22T10:10:29.719535",
     "exception": false,
     "start_time": "2025-07-22T10:10:29.687326",
     "status": "completed"
    },
    "tags": []
   },
   "outputs": [],
   "source": [
    "cp_metrics_df = pd.DataFrame(cp_metrics_dict)"
   ]
  },
  {
   "cell_type": "code",
   "execution_count": 46,
   "id": "db12611b-57b2-4910-b9d0-355adfd6e7bf",
   "metadata": {
    "execution": {
     "iopub.execute_input": "2025-07-22T10:10:29.774288Z",
     "iopub.status.busy": "2025-07-22T10:10:29.773771Z",
     "iopub.status.idle": "2025-07-22T10:10:29.793830Z",
     "shell.execute_reply": "2025-07-22T10:10:29.792179Z"
    },
    "papermill": {
     "duration": 0.047223,
     "end_time": "2025-07-22T10:10:29.796509",
     "exception": false,
     "start_time": "2025-07-22T10:10:29.749286",
     "status": "completed"
    },
    "tags": []
   },
   "outputs": [
    {
     "data": {
      "text/html": [
       "<div>\n",
       "<style scoped>\n",
       "    .dataframe tbody tr th:only-of-type {\n",
       "        vertical-align: middle;\n",
       "    }\n",
       "\n",
       "    .dataframe tbody tr th {\n",
       "        vertical-align: top;\n",
       "    }\n",
       "\n",
       "    .dataframe thead th {\n",
       "        text-align: right;\n",
       "    }\n",
       "</style>\n",
       "<table border=\"1\" class=\"dataframe\">\n",
       "  <thead>\n",
       "    <tr style=\"text-align: right;\">\n",
       "      <th></th>\n",
       "      <th>universe_id</th>\n",
       "      <th>universe_model</th>\n",
       "      <th>universe_exclude_features</th>\n",
       "      <th>universe_exclude_subgroups</th>\n",
       "      <th>universe_scale</th>\n",
       "      <th>q_hat</th>\n",
       "      <th>coverage</th>\n",
       "      <th>avg_size</th>\n",
       "    </tr>\n",
       "  </thead>\n",
       "  <tbody>\n",
       "    <tr>\n",
       "      <th>0</th>\n",
       "      <td>7835d6f4276d464df5313c642496b1e0</td>\n",
       "      <td>logreg</td>\n",
       "      <td>nationality</td>\n",
       "      <td>drop-non-german</td>\n",
       "      <td>do-not-scale</td>\n",
       "      <td>0.673981</td>\n",
       "      <td>0.910779</td>\n",
       "      <td>1.212853</td>\n",
       "    </tr>\n",
       "  </tbody>\n",
       "</table>\n",
       "</div>"
      ],
      "text/plain": [
       "                        universe_id universe_model universe_exclude_features  \\\n",
       "0  7835d6f4276d464df5313c642496b1e0         logreg               nationality   \n",
       "\n",
       "  universe_exclude_subgroups universe_scale     q_hat  coverage  avg_size  \n",
       "0            drop-non-german   do-not-scale  0.673981  0.910779  1.212853  "
      ]
     },
     "execution_count": 46,
     "metadata": {},
     "output_type": "execute_result"
    }
   ],
   "source": [
    "cp_metrics_df"
   ]
  },
  {
   "cell_type": "code",
   "execution_count": 47,
   "id": "b7fbde55-a0a1-47e4-9af6-fe4a17fa8c61",
   "metadata": {
    "execution": {
     "iopub.execute_input": "2025-07-22T10:10:29.846319Z",
     "iopub.status.busy": "2025-07-22T10:10:29.845754Z",
     "iopub.status.idle": "2025-07-22T10:10:29.855352Z",
     "shell.execute_reply": "2025-07-22T10:10:29.854294Z"
    },
    "papermill": {
     "duration": 0.03689,
     "end_time": "2025-07-22T10:10:29.857673",
     "exception": false,
     "start_time": "2025-07-22T10:10:29.820783",
     "status": "completed"
    },
    "tags": []
   },
   "outputs": [],
   "source": [
    "# Conditional Coverage & looking at subgroups"
   ]
  },
  {
   "cell_type": "code",
   "execution_count": 48,
   "id": "027ae886-68dd-4141-96c7-805a5450e1ef",
   "metadata": {
    "execution": {
     "iopub.execute_input": "2025-07-22T10:10:29.909665Z",
     "iopub.status.busy": "2025-07-22T10:10:29.908425Z",
     "iopub.status.idle": "2025-07-22T10:10:30.214160Z",
     "shell.execute_reply": "2025-07-22T10:10:30.213313Z"
    },
    "papermill": {
     "duration": 0.332816,
     "end_time": "2025-07-22T10:10:30.215834",
     "exception": false,
     "start_time": "2025-07-22T10:10:29.883018",
     "status": "completed"
    },
    "tags": []
   },
   "outputs": [],
   "source": [
    "from fairness_multiverse.conformal import build_cp_groups\n",
    "\n",
    "cp_groups_df = build_cp_groups(pred_sets, y_true, X_test.index, org_test)\n",
    "#needs universe_id and setting"
   ]
  },
  {
   "cell_type": "code",
   "execution_count": 49,
   "id": "c3b92545-903e-4839-89af-0f057907d7d6",
   "metadata": {
    "execution": {
     "iopub.execute_input": "2025-07-22T10:10:30.254582Z",
     "iopub.status.busy": "2025-07-22T10:10:30.254104Z",
     "iopub.status.idle": "2025-07-22T10:10:32.282893Z",
     "shell.execute_reply": "2025-07-22T10:10:32.281882Z"
    },
    "papermill": {
     "duration": 2.055327,
     "end_time": "2025-07-22T10:10:32.284539",
     "exception": false,
     "start_time": "2025-07-22T10:10:30.229212",
     "status": "completed"
    },
    "tags": []
   },
   "outputs": [],
   "source": [
    "# Define covered = 1 if true_label is in the predicted set\n",
    "cp_groups_df['covered'] = cp_groups_df.apply(\n",
    "    lambda r: int(r['true_label'] in r['pred_set']),\n",
    "    axis=1\n",
    ")"
   ]
  },
  {
   "cell_type": "code",
   "execution_count": 50,
   "id": "338ff529-1a6b-4b87-a931-8e4788d52aad",
   "metadata": {
    "execution": {
     "iopub.execute_input": "2025-07-22T10:10:32.315769Z",
     "iopub.status.busy": "2025-07-22T10:10:32.315387Z",
     "iopub.status.idle": "2025-07-22T10:10:32.319951Z",
     "shell.execute_reply": "2025-07-22T10:10:32.319196Z"
    },
    "papermill": {
     "duration": 0.024019,
     "end_time": "2025-07-22T10:10:32.321416",
     "exception": false,
     "start_time": "2025-07-22T10:10:32.297397",
     "status": "completed"
    },
    "tags": []
   },
   "outputs": [],
   "source": [
    "#cp_groups_df"
   ]
  },
  {
   "cell_type": "code",
   "execution_count": 51,
   "id": "90032e27-66df-4540-9169-4e89cfbaa758",
   "metadata": {
    "execution": {
     "iopub.execute_input": "2025-07-22T10:10:32.348264Z",
     "iopub.status.busy": "2025-07-22T10:10:32.347455Z",
     "iopub.status.idle": "2025-07-22T10:10:32.373014Z",
     "shell.execute_reply": "2025-07-22T10:10:32.371759Z"
    },
    "papermill": {
     "duration": 0.041155,
     "end_time": "2025-07-22T10:10:32.374800",
     "exception": false,
     "start_time": "2025-07-22T10:10:32.333645",
     "status": "completed"
    },
    "tags": []
   },
   "outputs": [],
   "source": [
    "subgroups = ['frau1','nongerman','nongerman_male','nongerman_female']\n",
    "\n",
    "# Conditional coverage for subgroup==1\n",
    "cond_coverage = {\n",
    "    g: cp_groups_df.loc[cp_groups_df[g]==1, 'covered'].mean()\n",
    "    for g in subgroups\n",
    "}"
   ]
  },
  {
   "cell_type": "code",
   "execution_count": 52,
   "id": "1e348fb1-b9c3-45bc-ba23-f016827a7e0d",
   "metadata": {
    "execution": {
     "iopub.execute_input": "2025-07-22T10:10:32.426286Z",
     "iopub.status.busy": "2025-07-22T10:10:32.425219Z",
     "iopub.status.idle": "2025-07-22T10:10:32.437643Z",
     "shell.execute_reply": "2025-07-22T10:10:32.436236Z"
    },
    "papermill": {
     "duration": 0.04174,
     "end_time": "2025-07-22T10:10:32.440698",
     "exception": false,
     "start_time": "2025-07-22T10:10:32.398958",
     "status": "completed"
    },
    "tags": []
   },
   "outputs": [
    {
     "data": {
      "text/plain": [
       "{'frau1': 0.910338320528373,\n",
       " 'nongerman': 0.9362824903160613,\n",
       " 'nongerman_male': 0.9477618661622985,\n",
       " 'nongerman_female': 0.9172876304023845}"
      ]
     },
     "execution_count": 52,
     "metadata": {},
     "output_type": "execute_result"
    }
   ],
   "source": [
    "cond_coverage"
   ]
  },
  {
   "cell_type": "code",
   "execution_count": 53,
   "id": "f5093324-c3dd-4d63-bc4c-8d945e5c8bbb",
   "metadata": {
    "execution": {
     "iopub.execute_input": "2025-07-22T10:10:32.485894Z",
     "iopub.status.busy": "2025-07-22T10:10:32.485468Z",
     "iopub.status.idle": "2025-07-22T10:10:32.495566Z",
     "shell.execute_reply": "2025-07-22T10:10:32.493663Z"
    },
    "papermill": {
     "duration": 0.042393,
     "end_time": "2025-07-22T10:10:32.498585",
     "exception": false,
     "start_time": "2025-07-22T10:10:32.456192",
     "status": "completed"
    },
    "tags": []
   },
   "outputs": [],
   "source": [
    "for subgroup, cov in cond_coverage.items():\n",
    "    cp_metrics_df[f\"cov_{subgroup}\"] = cov"
   ]
  },
  {
   "cell_type": "code",
   "execution_count": 54,
   "id": "6e872e10-dbe5-49e8-b554-5030c98ff75d",
   "metadata": {
    "execution": {
     "iopub.execute_input": "2025-07-22T10:10:32.550106Z",
     "iopub.status.busy": "2025-07-22T10:10:32.549645Z",
     "iopub.status.idle": "2025-07-22T10:10:32.569760Z",
     "shell.execute_reply": "2025-07-22T10:10:32.568229Z"
    },
    "papermill": {
     "duration": 0.045773,
     "end_time": "2025-07-22T10:10:32.572053",
     "exception": false,
     "start_time": "2025-07-22T10:10:32.526280",
     "status": "completed"
    },
    "tags": []
   },
   "outputs": [
    {
     "data": {
      "text/html": [
       "<div>\n",
       "<style scoped>\n",
       "    .dataframe tbody tr th:only-of-type {\n",
       "        vertical-align: middle;\n",
       "    }\n",
       "\n",
       "    .dataframe tbody tr th {\n",
       "        vertical-align: top;\n",
       "    }\n",
       "\n",
       "    .dataframe thead th {\n",
       "        text-align: right;\n",
       "    }\n",
       "</style>\n",
       "<table border=\"1\" class=\"dataframe\">\n",
       "  <thead>\n",
       "    <tr style=\"text-align: right;\">\n",
       "      <th></th>\n",
       "      <th>universe_id</th>\n",
       "      <th>universe_model</th>\n",
       "      <th>universe_exclude_features</th>\n",
       "      <th>universe_exclude_subgroups</th>\n",
       "      <th>universe_scale</th>\n",
       "      <th>q_hat</th>\n",
       "      <th>coverage</th>\n",
       "      <th>avg_size</th>\n",
       "      <th>cov_frau1</th>\n",
       "      <th>cov_nongerman</th>\n",
       "      <th>cov_nongerman_male</th>\n",
       "      <th>cov_nongerman_female</th>\n",
       "    </tr>\n",
       "  </thead>\n",
       "  <tbody>\n",
       "    <tr>\n",
       "      <th>0</th>\n",
       "      <td>7835d6f4276d464df5313c642496b1e0</td>\n",
       "      <td>logreg</td>\n",
       "      <td>nationality</td>\n",
       "      <td>drop-non-german</td>\n",
       "      <td>do-not-scale</td>\n",
       "      <td>0.673981</td>\n",
       "      <td>0.910779</td>\n",
       "      <td>1.212853</td>\n",
       "      <td>0.910338</td>\n",
       "      <td>0.936282</td>\n",
       "      <td>0.947762</td>\n",
       "      <td>0.917288</td>\n",
       "    </tr>\n",
       "  </tbody>\n",
       "</table>\n",
       "</div>"
      ],
      "text/plain": [
       "                        universe_id universe_model universe_exclude_features  \\\n",
       "0  7835d6f4276d464df5313c642496b1e0         logreg               nationality   \n",
       "\n",
       "  universe_exclude_subgroups universe_scale     q_hat  coverage  avg_size  \\\n",
       "0            drop-non-german   do-not-scale  0.673981  0.910779  1.212853   \n",
       "\n",
       "   cov_frau1  cov_nongerman  cov_nongerman_male  cov_nongerman_female  \n",
       "0   0.910338       0.936282            0.947762              0.917288  "
      ]
     },
     "execution_count": 54,
     "metadata": {},
     "output_type": "execute_result"
    }
   ],
   "source": [
    "cp_metrics_df"
   ]
  },
  {
   "cell_type": "markdown",
   "id": "33774451",
   "metadata": {
    "papermill": {
     "duration": 0.022341,
     "end_time": "2025-07-22T10:10:32.615702",
     "exception": false,
     "start_time": "2025-07-22T10:10:32.593361",
     "status": "completed"
    },
    "tags": []
   },
   "source": [
    "# (Fairness) Metrics"
   ]
  },
  {
   "cell_type": "code",
   "execution_count": 55,
   "id": "debc5d62",
   "metadata": {
    "execution": {
     "iopub.execute_input": "2025-07-22T10:10:32.665416Z",
     "iopub.status.busy": "2025-07-22T10:10:32.664851Z",
     "iopub.status.idle": "2025-07-22T10:10:32.689351Z",
     "shell.execute_reply": "2025-07-22T10:10:32.688401Z"
    },
    "papermill": {
     "duration": 0.052253,
     "end_time": "2025-07-22T10:10:32.691140",
     "exception": false,
     "start_time": "2025-07-22T10:10:32.638887",
     "status": "completed"
    },
    "tags": []
   },
   "outputs": [],
   "source": [
    "# do I need to include maxdeutsch1.missing?\n",
    "\n",
    "import numpy as np\n",
    "\n",
    "colname_to_bin = \"maxdeutsch1\"\n",
    "majority_value = org_train[colname_to_bin].mode()[0]\n",
    "\n",
    "org_test[\"majmin\"] = np.where(org_test[colname_to_bin] == majority_value, \"majority\", \"minority\")"
   ]
  },
  {
   "cell_type": "code",
   "execution_count": 56,
   "id": "06a50de5",
   "metadata": {
    "execution": {
     "iopub.execute_input": "2025-07-22T10:10:32.850662Z",
     "iopub.status.busy": "2025-07-22T10:10:32.850277Z",
     "iopub.status.idle": "2025-07-22T10:10:35.208325Z",
     "shell.execute_reply": "2025-07-22T10:10:35.206374Z"
    },
    "papermill": {
     "duration": 2.395942,
     "end_time": "2025-07-22T10:10:35.211039",
     "exception": false,
     "start_time": "2025-07-22T10:10:32.815097",
     "status": "completed"
    },
    "tags": []
   },
   "outputs": [],
   "source": [
    "example_universe = universe.copy()\n",
    "example_universe[\"cutoff\"] = example_universe[\"cutoff\"][0]\n",
    "example_universe[\"eval_fairness_grouping\"] = example_universe[\"eval_fairness_grouping\"][0]\n",
    "fairness_dict, metric_frame = universe_analysis.compute_metrics(\n",
    "    example_universe,\n",
    "    y_pred_prob=probs_test,\n",
    "    y_test=y_true,\n",
    "    org_test=org_test,\n",
    ")"
   ]
  },
  {
   "cell_type": "markdown",
   "id": "f95d4e02",
   "metadata": {
    "papermill": {
     "duration": 0.021606,
     "end_time": "2025-07-22T10:10:35.257115",
     "exception": false,
     "start_time": "2025-07-22T10:10:35.235509",
     "status": "completed"
    },
    "tags": []
   },
   "source": [
    "# Overall"
   ]
  },
  {
   "cell_type": "markdown",
   "id": "bdee4871",
   "metadata": {
    "papermill": {
     "duration": 0.023428,
     "end_time": "2025-07-22T10:10:35.303026",
     "exception": false,
     "start_time": "2025-07-22T10:10:35.279598",
     "status": "completed"
    },
    "tags": []
   },
   "source": [
    "Fairness\n",
    "Main fairness target: Equalized Odds. Seems to be a better fit than equal opportunity, since we're not only interested in Y = 1. Seems to be a better fit than demographic parity, since we also care about accuracy, not just equal distribution of preds.\n",
    "\n",
    "Pick column for computation of fairness metrics\n",
    "\n",
    "Performance\n",
    "Overall performance measures, most interesting in relation to the measures split by group below"
   ]
  },
  {
   "cell_type": "code",
   "execution_count": 57,
   "id": "c4e067c6",
   "metadata": {
    "execution": {
     "iopub.execute_input": "2025-07-22T10:10:35.353003Z",
     "iopub.status.busy": "2025-07-22T10:10:35.352317Z",
     "iopub.status.idle": "2025-07-22T10:10:35.363265Z",
     "shell.execute_reply": "2025-07-22T10:10:35.361827Z"
    },
    "papermill": {
     "duration": 0.038276,
     "end_time": "2025-07-22T10:10:35.365730",
     "exception": false,
     "start_time": "2025-07-22T10:10:35.327454",
     "status": "completed"
    },
    "tags": []
   },
   "outputs": [
    {
     "data": {
      "text/plain": [
       "accuracy                   0.217044\n",
       "balanced accuracy          0.532238\n",
       "f1                         0.238577\n",
       "precision                  0.136291\n",
       "false positive rate        0.891729\n",
       "false negative rate        0.043796\n",
       "selection rate             0.900000\n",
       "count                  89710.000000\n",
       "dtype: float64"
      ]
     },
     "execution_count": 57,
     "metadata": {},
     "output_type": "execute_result"
    }
   ],
   "source": [
    "metric_frame.overall"
   ]
  },
  {
   "cell_type": "markdown",
   "id": "e968fe9d",
   "metadata": {
    "papermill": {
     "duration": 0.024966,
     "end_time": "2025-07-22T10:10:35.419016",
     "exception": false,
     "start_time": "2025-07-22T10:10:35.394050",
     "status": "completed"
    },
    "tags": []
   },
   "source": [
    "By Group"
   ]
  },
  {
   "cell_type": "code",
   "execution_count": 58,
   "id": "ec325bce",
   "metadata": {
    "execution": {
     "iopub.execute_input": "2025-07-22T10:10:35.470072Z",
     "iopub.status.busy": "2025-07-22T10:10:35.469497Z",
     "iopub.status.idle": "2025-07-22T10:10:35.489196Z",
     "shell.execute_reply": "2025-07-22T10:10:35.486649Z"
    },
    "papermill": {
     "duration": 0.052057,
     "end_time": "2025-07-22T10:10:35.494919",
     "exception": false,
     "start_time": "2025-07-22T10:10:35.442862",
     "status": "completed"
    },
    "tags": []
   },
   "outputs": [
    {
     "data": {
      "text/html": [
       "<div>\n",
       "<style scoped>\n",
       "    .dataframe tbody tr th:only-of-type {\n",
       "        vertical-align: middle;\n",
       "    }\n",
       "\n",
       "    .dataframe tbody tr th {\n",
       "        vertical-align: top;\n",
       "    }\n",
       "\n",
       "    .dataframe thead th {\n",
       "        text-align: right;\n",
       "    }\n",
       "</style>\n",
       "<table border=\"1\" class=\"dataframe\">\n",
       "  <thead>\n",
       "    <tr style=\"text-align: right;\">\n",
       "      <th></th>\n",
       "      <th>accuracy</th>\n",
       "      <th>balanced accuracy</th>\n",
       "      <th>f1</th>\n",
       "      <th>precision</th>\n",
       "      <th>false positive rate</th>\n",
       "      <th>false negative rate</th>\n",
       "      <th>selection rate</th>\n",
       "      <th>count</th>\n",
       "    </tr>\n",
       "    <tr>\n",
       "      <th>majmin</th>\n",
       "      <th></th>\n",
       "      <th></th>\n",
       "      <th></th>\n",
       "      <th></th>\n",
       "      <th></th>\n",
       "      <th></th>\n",
       "      <th></th>\n",
       "      <th></th>\n",
       "    </tr>\n",
       "  </thead>\n",
       "  <tbody>\n",
       "    <tr>\n",
       "      <th>majority</th>\n",
       "      <td>0.238398</td>\n",
       "      <td>0.539469</td>\n",
       "      <td>0.247665</td>\n",
       "      <td>0.142423</td>\n",
       "      <td>0.869748</td>\n",
       "      <td>0.051313</td>\n",
       "      <td>0.880179</td>\n",
       "      <td>69170.0</td>\n",
       "    </tr>\n",
       "    <tr>\n",
       "      <th>minority</th>\n",
       "      <td>0.145131</td>\n",
       "      <td>0.510439</td>\n",
       "      <td>0.209944</td>\n",
       "      <td>0.117490</td>\n",
       "      <td>0.964341</td>\n",
       "      <td>0.014780</td>\n",
       "      <td>0.966748</td>\n",
       "      <td>20540.0</td>\n",
       "    </tr>\n",
       "  </tbody>\n",
       "</table>\n",
       "</div>"
      ],
      "text/plain": [
       "          accuracy  balanced accuracy        f1  precision  \\\n",
       "majmin                                                       \n",
       "majority  0.238398           0.539469  0.247665   0.142423   \n",
       "minority  0.145131           0.510439  0.209944   0.117490   \n",
       "\n",
       "          false positive rate  false negative rate  selection rate    count  \n",
       "majmin                                                                       \n",
       "majority             0.869748             0.051313        0.880179  69170.0  \n",
       "minority             0.964341             0.014780        0.966748  20540.0  "
      ]
     },
     "execution_count": 58,
     "metadata": {},
     "output_type": "execute_result"
    }
   ],
   "source": [
    "metric_frame.by_group"
   ]
  },
  {
   "cell_type": "code",
   "execution_count": 59,
   "id": "a9ddbe63",
   "metadata": {
    "execution": {
     "iopub.execute_input": "2025-07-22T10:10:35.546400Z",
     "iopub.status.busy": "2025-07-22T10:10:35.546041Z",
     "iopub.status.idle": "2025-07-22T10:10:38.258594Z",
     "shell.execute_reply": "2025-07-22T10:10:38.257503Z"
    },
    "papermill": {
     "duration": 2.728997,
     "end_time": "2025-07-22T10:10:38.259982",
     "exception": false,
     "start_time": "2025-07-22T10:10:35.530985",
     "status": "completed"
    },
    "tags": []
   },
   "outputs": [
    {
     "data": {
      "text/plain": [
       "array([[<Axes: title={'center': 'accuracy'}, xlabel='majmin'>,\n",
       "        <Axes: title={'center': 'balanced accuracy'}, xlabel='majmin'>,\n",
       "        <Axes: title={'center': 'f1'}, xlabel='majmin'>],\n",
       "       [<Axes: title={'center': 'precision'}, xlabel='majmin'>,\n",
       "        <Axes: title={'center': 'false positive rate'}, xlabel='majmin'>,\n",
       "        <Axes: title={'center': 'false negative rate'}, xlabel='majmin'>],\n",
       "       [<Axes: title={'center': 'selection rate'}, xlabel='majmin'>,\n",
       "        <Axes: title={'center': 'count'}, xlabel='majmin'>,\n",
       "        <Axes: xlabel='majmin'>]], dtype=object)"
      ]
     },
     "execution_count": 59,
     "metadata": {},
     "output_type": "execute_result"
    },
    {
     "data": {
      "image/png": "[encoded data removed]",
      "text/plain": [
       "<Figure size 1200x800 with 9 Axes>"
      ]
     },
     "metadata": {},
     "output_type": "display_data"
    }
   ],
   "source": [
    "# In a graphic\n",
    "metric_frame.by_group.plot.bar(\n",
    "    subplots=True,\n",
    "    layout=[3, 3],\n",
    "    legend=False,\n",
    "    figsize=[12, 8],\n",
    "    title=\"Show all metrics\",\n",
    ")"
   ]
  },
  {
   "cell_type": "markdown",
   "id": "f57a0bac",
   "metadata": {
    "papermill": {
     "duration": 0.027599,
     "end_time": "2025-07-22T10:10:38.309363",
     "exception": false,
     "start_time": "2025-07-22T10:10:38.281764",
     "status": "completed"
    },
    "tags": []
   },
   "source": [
    "# Final Output"
   ]
  },
  {
   "cell_type": "code",
   "execution_count": 60,
   "id": "96d280a3",
   "metadata": {
    "execution": {
     "iopub.execute_input": "2025-07-22T10:10:38.351385Z",
     "iopub.status.busy": "2025-07-22T10:10:38.350757Z",
     "iopub.status.idle": "2025-07-22T10:10:38.359802Z",
     "shell.execute_reply": "2025-07-22T10:10:38.358978Z"
    },
    "papermill": {
     "duration": 0.026465,
     "end_time": "2025-07-22T10:10:38.361181",
     "exception": false,
     "start_time": "2025-07-22T10:10:38.334716",
     "status": "completed"
    },
    "tags": []
   },
   "outputs": [
    {
     "data": {
      "text/plain": [
       "4"
      ]
     },
     "execution_count": 60,
     "metadata": {},
     "output_type": "execute_result"
    }
   ],
   "source": [
    "sub_universes = universe_analysis.generate_sub_universes()\n",
    "len(sub_universes)"
   ]
  },
  {
   "cell_type": "code",
   "execution_count": 61,
   "id": "92adf7ba",
   "metadata": {
    "execution": {
     "iopub.execute_input": "2025-07-22T10:10:38.393685Z",
     "iopub.status.busy": "2025-07-22T10:10:38.393049Z",
     "iopub.status.idle": "2025-07-22T10:10:38.412334Z",
     "shell.execute_reply": "2025-07-22T10:10:38.411030Z"
    },
    "papermill": {
     "duration": 0.039894,
     "end_time": "2025-07-22T10:10:38.415577",
     "exception": false,
     "start_time": "2025-07-22T10:10:38.375683",
     "status": "completed"
    },
    "tags": []
   },
   "outputs": [],
   "source": [
    "def filter_sub_universe_data(sub_universe, org_test):\n",
    "    # Keep all rows — no filtering\n",
    "    keep_rows_mask = np.ones(org_test.shape[0], dtype=bool)\n",
    "\n",
    "    print(f\"[INFO] Keeping all rows: {keep_rows_mask.sum()} rows retained.\")\n",
    "    return keep_rows_mask"
   ]
  },
  {
   "cell_type": "code",
   "execution_count": 62,
   "id": "4a759155",
   "metadata": {
    "execution": {
     "iopub.execute_input": "2025-07-22T10:10:38.489257Z",
     "iopub.status.busy": "2025-07-22T10:10:38.488462Z",
     "iopub.status.idle": "2025-07-22T10:10:49.273434Z",
     "shell.execute_reply": "2025-07-22T10:10:49.272258Z"
    },
    "papermill": {
     "duration": 10.821568,
     "end_time": "2025-07-22T10:10:49.275064",
     "exception": false,
     "start_time": "2025-07-22T10:10:38.453496",
     "status": "completed"
    },
    "tags": []
   },
   "outputs": [
    {
     "name": "stdout",
     "output_type": "stream",
     "text": [
      "Stopping execution_time clock.\n",
      "[INFO] Keeping all rows: 89710 rows retained.\n"
     ]
    },
    {
     "name": "stdout",
     "output_type": "stream",
     "text": [
      "[INFO] Keeping all rows: 89710 rows retained.\n"
     ]
    },
    {
     "name": "stdout",
     "output_type": "stream",
     "text": [
      "[INFO] Keeping all rows: 89710 rows retained.\n"
     ]
    },
    {
     "name": "stdout",
     "output_type": "stream",
     "text": [
      "[INFO] Keeping all rows: 89710 rows retained.\n"
     ]
    },
    {
     "data": {
      "text/html": [
       "<div>\n",
       "<style scoped>\n",
       "    .dataframe tbody tr th:only-of-type {\n",
       "        vertical-align: middle;\n",
       "    }\n",
       "\n",
       "    .dataframe tbody tr th {\n",
       "        vertical-align: top;\n",
       "    }\n",
       "\n",
       "    .dataframe thead th {\n",
       "        text-align: right;\n",
       "    }\n",
       "</style>\n",
       "<table border=\"1\" class=\"dataframe\">\n",
       "  <thead>\n",
       "    <tr style=\"text-align: right;\">\n",
       "      <th></th>\n",
       "      <th>run_no</th>\n",
       "      <th>universe_id</th>\n",
       "      <th>universe_settings</th>\n",
       "      <th>execution_time</th>\n",
       "      <th>test_size_n</th>\n",
       "      <th>test_size_frac</th>\n",
       "      <th>fair_main_equalized_odds_difference</th>\n",
       "      <th>fair_main_equalized_odds_ratio</th>\n",
       "      <th>fair_main_demographic_parity_difference</th>\n",
       "      <th>fair_main_demographic_parity_ratio</th>\n",
       "      <th>...</th>\n",
       "      <th>perf_grp_precision_0</th>\n",
       "      <th>perf_grp_precision_1</th>\n",
       "      <th>perf_grp_false positive rate_0</th>\n",
       "      <th>perf_grp_false positive rate_1</th>\n",
       "      <th>perf_grp_false negative rate_0</th>\n",
       "      <th>perf_grp_false negative rate_1</th>\n",
       "      <th>perf_grp_selection rate_0</th>\n",
       "      <th>perf_grp_selection rate_1</th>\n",
       "      <th>perf_grp_count_0</th>\n",
       "      <th>perf_grp_count_1</th>\n",
       "    </tr>\n",
       "  </thead>\n",
       "  <tbody>\n",
       "    <tr>\n",
       "      <th>0</th>\n",
       "      <td>4</td>\n",
       "      <td>7835d6f4276d464df5313c642496b1e0</td>\n",
       "      <td>{\"cutoff\": \"quantile_0.1\", \"eval_fairness_grou...</td>\n",
       "      <td>16.411039</td>\n",
       "      <td>89710</td>\n",
       "      <td>1.0</td>\n",
       "      <td>0.094592</td>\n",
       "      <td>0.901910</td>\n",
       "      <td>0.086569</td>\n",
       "      <td>0.910454</td>\n",
       "      <td>...</td>\n",
       "      <td>NaN</td>\n",
       "      <td>NaN</td>\n",
       "      <td>NaN</td>\n",
       "      <td>NaN</td>\n",
       "      <td>NaN</td>\n",
       "      <td>NaN</td>\n",
       "      <td>NaN</td>\n",
       "      <td>NaN</td>\n",
       "      <td>NaN</td>\n",
       "      <td>NaN</td>\n",
       "    </tr>\n",
       "    <tr>\n",
       "      <th>0</th>\n",
       "      <td>4</td>\n",
       "      <td>7835d6f4276d464df5313c642496b1e0</td>\n",
       "      <td>{\"cutoff\": \"quantile_0.1\", \"eval_fairness_grou...</td>\n",
       "      <td>16.411039</td>\n",
       "      <td>89710</td>\n",
       "      <td>1.0</td>\n",
       "      <td>0.094592</td>\n",
       "      <td>0.901910</td>\n",
       "      <td>0.086569</td>\n",
       "      <td>0.910454</td>\n",
       "      <td>...</td>\n",
       "      <td>0.11749</td>\n",
       "      <td>0.142423</td>\n",
       "      <td>0.964341</td>\n",
       "      <td>0.869748</td>\n",
       "      <td>0.014780</td>\n",
       "      <td>0.051313</td>\n",
       "      <td>0.966748</td>\n",
       "      <td>0.880179</td>\n",
       "      <td>20540.0</td>\n",
       "      <td>69170.0</td>\n",
       "    </tr>\n",
       "    <tr>\n",
       "      <th>0</th>\n",
       "      <td>4</td>\n",
       "      <td>7835d6f4276d464df5313c642496b1e0</td>\n",
       "      <td>{\"cutoff\": \"quantile_0.25\", \"eval_fairness_gro...</td>\n",
       "      <td>16.411039</td>\n",
       "      <td>89710</td>\n",
       "      <td>1.0</td>\n",
       "      <td>0.217728</td>\n",
       "      <td>0.757475</td>\n",
       "      <td>0.199538</td>\n",
       "      <td>0.779235</td>\n",
       "      <td>...</td>\n",
       "      <td>NaN</td>\n",
       "      <td>NaN</td>\n",
       "      <td>NaN</td>\n",
       "      <td>NaN</td>\n",
       "      <td>NaN</td>\n",
       "      <td>NaN</td>\n",
       "      <td>NaN</td>\n",
       "      <td>NaN</td>\n",
       "      <td>NaN</td>\n",
       "      <td>NaN</td>\n",
       "    </tr>\n",
       "    <tr>\n",
       "      <th>0</th>\n",
       "      <td>4</td>\n",
       "      <td>7835d6f4276d464df5313c642496b1e0</td>\n",
       "      <td>{\"cutoff\": \"quantile_0.25\", \"eval_fairness_gro...</td>\n",
       "      <td>16.411039</td>\n",
       "      <td>89710</td>\n",
       "      <td>1.0</td>\n",
       "      <td>0.217728</td>\n",
       "      <td>0.757475</td>\n",
       "      <td>0.199538</td>\n",
       "      <td>0.779235</td>\n",
       "      <td>...</td>\n",
       "      <td>0.12125</td>\n",
       "      <td>0.162058</td>\n",
       "      <td>0.897755</td>\n",
       "      <td>0.680027</td>\n",
       "      <td>0.049409</td>\n",
       "      <td>0.136214</td>\n",
       "      <td>0.903846</td>\n",
       "      <td>0.704308</td>\n",
       "      <td>20540.0</td>\n",
       "      <td>69170.0</td>\n",
       "    </tr>\n",
       "  </tbody>\n",
       "</table>\n",
       "<p>4 rows × 50 columns</p>\n",
       "</div>"
      ],
      "text/plain": [
       "  run_no                       universe_id  \\\n",
       "0      4  7835d6f4276d464df5313c642496b1e0   \n",
       "0      4  7835d6f4276d464df5313c642496b1e0   \n",
       "0      4  7835d6f4276d464df5313c642496b1e0   \n",
       "0      4  7835d6f4276d464df5313c642496b1e0   \n",
       "\n",
       "                                   universe_settings  execution_time  \\\n",
       "0  {\"cutoff\": \"quantile_0.1\", \"eval_fairness_grou...       16.411039   \n",
       "0  {\"cutoff\": \"quantile_0.1\", \"eval_fairness_grou...       16.411039   \n",
       "0  {\"cutoff\": \"quantile_0.25\", \"eval_fairness_gro...       16.411039   \n",
       "0  {\"cutoff\": \"quantile_0.25\", \"eval_fairness_gro...       16.411039   \n",
       "\n",
       "   test_size_n  test_size_frac  fair_main_equalized_odds_difference  \\\n",
       "0        89710             1.0                             0.094592   \n",
       "0        89710             1.0                             0.094592   \n",
       "0        89710             1.0                             0.217728   \n",
       "0        89710             1.0                             0.217728   \n",
       "\n",
       "   fair_main_equalized_odds_ratio  fair_main_demographic_parity_difference  \\\n",
       "0                        0.901910                                 0.086569   \n",
       "0                        0.901910                                 0.086569   \n",
       "0                        0.757475                                 0.199538   \n",
       "0                        0.757475                                 0.199538   \n",
       "\n",
       "   fair_main_demographic_parity_ratio  ...  perf_grp_precision_0  \\\n",
       "0                            0.910454  ...                   NaN   \n",
       "0                            0.910454  ...               0.11749   \n",
       "0                            0.779235  ...                   NaN   \n",
       "0                            0.779235  ...               0.12125   \n",
       "\n",
       "   perf_grp_precision_1  perf_grp_false positive rate_0  \\\n",
       "0                   NaN                             NaN   \n",
       "0              0.142423                        0.964341   \n",
       "0                   NaN                             NaN   \n",
       "0              0.162058                        0.897755   \n",
       "\n",
       "   perf_grp_false positive rate_1  perf_grp_false negative rate_0  \\\n",
       "0                             NaN                             NaN   \n",
       "0                        0.869748                        0.014780   \n",
       "0                             NaN                             NaN   \n",
       "0                        0.680027                        0.049409   \n",
       "\n",
       "   perf_grp_false negative rate_1  perf_grp_selection rate_0  \\\n",
       "0                             NaN                        NaN   \n",
       "0                        0.051313                   0.966748   \n",
       "0                             NaN                        NaN   \n",
       "0                        0.136214                   0.903846   \n",
       "\n",
       "   perf_grp_selection rate_1  perf_grp_count_0  perf_grp_count_1  \n",
       "0                        NaN               NaN               NaN  \n",
       "0                   0.880179           20540.0           69170.0  \n",
       "0                        NaN               NaN               NaN  \n",
       "0                   0.704308           20540.0           69170.0  \n",
       "\n",
       "[4 rows x 50 columns]"
      ]
     },
     "execution_count": 62,
     "metadata": {},
     "output_type": "execute_result"
    }
   ],
   "source": [
    "final_output = universe_analysis.generate_final_output(\n",
    "    y_pred_prob=probs_test,\n",
    "    y_test=y_true,\n",
    "    org_test=org_test,\n",
    "    filter_data=filter_sub_universe_data,\n",
    "    cp_metrics_df=cp_metrics_df,\n",
    "    save=True,\n",
    ")\n",
    "final_output"
   ]
  },
  {
   "cell_type": "code",
   "execution_count": null,
   "id": "721ff514-cb11-46f8-b6fc-50392f74b5cb",
   "metadata": {
    "papermill": {
     "duration": 0.014495,
     "end_time": "2025-07-22T10:10:49.307411",
     "exception": false,
     "start_time": "2025-07-22T10:10:49.292916",
     "status": "completed"
    },
    "tags": []
   },
   "outputs": [],
   "source": []
  }
 ],
 "metadata": {
  "celltoolbar": "Tags",
  "kernelspec": {
   "display_name": "Python (CMA Fairness)",
   "language": "python",
   "name": "cma_fair_env"
  },
  "language_info": {
   "codemirror_mode": {
    "name": "ipython",
    "version": 3
   },
   "file_extension": ".py",
   "mimetype": "text/x-python",
   "name": "python",
   "nbconvert_exporter": "python",
   "pygments_lexer": "ipython3",
   "version": "3.10.12"
  },
  "papermill": {
   "default_parameters": {},
   "duration": 32.048279,
   "end_time": "2025-07-22T10:10:49.939470",
   "environment_variables": {},
   "exception": null,
   "input_path": "universe_analysis.ipynb",
   "output_path": "output/runs/4/notebooks/m_4-7835d6f4276d464df5313c642496b1e0.ipynb",
   "parameters": {
    "output_dir": "output",
    "run_no": "4",
    "seed": "2023",
    "universe": "{\"cutoff\": [\"quantile_0.1\", \"quantile_0.25\"], \"eval_fairness_grouping\": [\"majority-minority\", \"nationality-all\"], \"exclude_features\": \"nationality\", \"exclude_subgroups\": \"drop-non-german\", \"model\": \"logreg\", \"scale\": \"do-not-scale\"}",
    "universe_id": "7835d6f4276d464df5313c642496b1e0"
   },
   "start_time": "2025-07-22T10:10:17.891191",
   "version": "2.6.0"
  }
 },
 "nbformat": 4,
 "nbformat_minor": 5
}