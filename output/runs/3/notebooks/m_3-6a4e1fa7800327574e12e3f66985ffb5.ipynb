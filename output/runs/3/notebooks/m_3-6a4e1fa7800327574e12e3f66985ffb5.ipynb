{
 "cells": [
  {
   "cell_type": "markdown",
   "id": "ef23dbb3",
   "metadata": {
    "papermill": {
     "duration": 0.009152,
     "end_time": "2025-08-19T18:45:30.212465",
     "exception": false,
     "start_time": "2025-08-19T18:45:30.203313",
     "status": "completed"
    },
    "tags": []
   },
   "source": [
    "# Setup"
   ]
  },
  {
   "cell_type": "code",
   "execution_count": 1,
   "id": "0bc8e7dc",
   "metadata": {
    "execution": {
     "iopub.execute_input": "2025-08-19T18:45:30.233276Z",
     "iopub.status.busy": "2025-08-19T18:45:30.231927Z",
     "iopub.status.idle": "2025-08-19T18:45:30.251451Z",
     "shell.execute_reply": "2025-08-19T18:45:30.250676Z"
    },
    "papermill": {
     "duration": 0.032998,
     "end_time": "2025-08-19T18:45:30.254047",
     "exception": false,
     "start_time": "2025-08-19T18:45:30.221049",
     "status": "completed"
    },
    "tags": []
   },
   "outputs": [
    {
     "name": "stdout",
     "output_type": "stream",
     "text": [
      "/dss/dsshome1/0C/ra93lal2/cma/CMA_Fairness_v2\n"
     ]
    },
    {
     "name": "stderr",
     "output_type": "stream",
     "text": [
      "/dss/dsshome1/0C/ra93lal2/.local/share/virtualenvs/CMA_Fairness_v2-3j10GkSs/lib/python3.10/site-packages/IPython/core/magics/osm.py:393: UserWarning: This is now an optional IPython functionality, using bookmarks requires you to install the `pickleshare` library.\n",
      "  bkms = self.shell.db.get('bookmarks', {})\n",
      "/dss/dsshome1/0C/ra93lal2/.local/share/virtualenvs/CMA_Fairness_v2-3j10GkSs/lib/python3.10/site-packages/IPython/core/magics/osm.py:417: UserWarning: This is now an optional IPython functionality, setting dhist requires you to install the `pickleshare` library.\n",
      "  self.shell.db['dhist'] = compress_dhist(dhist)[-100:]\n"
     ]
    }
   ],
   "source": [
    "%cd ~/cma/CMA_Fairness_v2"
   ]
  },
  {
   "cell_type": "markdown",
   "id": "9d235661",
   "metadata": {
    "papermill": {
     "duration": 0.00885,
     "end_time": "2025-08-19T18:45:30.273484",
     "exception": false,
     "start_time": "2025-08-19T18:45:30.264634",
     "status": "completed"
    },
    "tags": []
   },
   "source": [
    "The following cell holds the definition of our parameters, these values can be overriden by rendering the with e.g. the following command:\n",
    "\n",
    "papermill -p alpha 0.2 -p ratio 0.3 universe_analysis.ipynb output/test_run.ipynb"
   ]
  },
  {
   "cell_type": "code",
   "execution_count": 2,
   "id": "4a789d8e",
   "metadata": {
    "execution": {
     "iopub.execute_input": "2025-08-19T18:45:30.292357Z",
     "iopub.status.busy": "2025-08-19T18:45:30.291931Z",
     "iopub.status.idle": "2025-08-19T18:45:30.296155Z",
     "shell.execute_reply": "2025-08-19T18:45:30.295481Z"
    },
    "papermill": {
     "duration": 0.015695,
     "end_time": "2025-08-19T18:45:30.297909",
     "exception": false,
     "start_time": "2025-08-19T18:45:30.282214",
     "status": "completed"
    },
    "tags": []
   },
   "outputs": [
    {
     "name": "stdout",
     "output_type": "stream",
     "text": [
      "Current working directory: /dss/dsshome1/0C/ra93lal2/cma/CMA_Fairness_v2\n"
     ]
    }
   ],
   "source": [
    "import os\n",
    "print(\"Current working directory:\", os.getcwd())"
   ]
  },
  {
   "cell_type": "code",
   "execution_count": 3,
   "id": "4132aaed",
   "metadata": {
    "execution": {
     "iopub.execute_input": "2025-08-19T18:45:30.318781Z",
     "iopub.status.busy": "2025-08-19T18:45:30.317898Z",
     "iopub.status.idle": "2025-08-19T18:45:30.324247Z",
     "shell.execute_reply": "2025-08-19T18:45:30.323236Z"
    },
    "papermill": {
     "duration": 0.017629,
     "end_time": "2025-08-19T18:45:30.325613",
     "exception": false,
     "start_time": "2025-08-19T18:45:30.307984",
     "status": "completed"
    },
    "tags": [
     "parameters"
    ]
   },
   "outputs": [],
   "source": [
    "run_no = 0\n",
    "universe_id = \"test\"\n",
    "universe = {\n",
    "    \"training_size\": \"5k\", # \"25k\", \"5k\", \"1k\"\n",
    "    \"training_year\": \"2012_14\", # \"2014\", \"2012_14\", \"2010_14\"\n",
    "    \"scale\": \"scale\", # \"scale\", \"do-not-scale\",\n",
    "    \"model\": \"elasticnet\", # \"logreg\", \"penalized_logreg\", \"rf\", \"gbm\", \"elasticnet\"\n",
    "    \"cutoff\": [\"quantile_0.15\", \"quantile_0.30\"],\n",
    "    \"exclude_features\": \"age\", # \"none\", \"nationality\", \"sex\", \"nationality-sex\", \"age\"\n",
    "    \"exclude_subgroups\": \"drop-non-german\", # \"keep-all\", \"drop-non-german\"\n",
    "    \"eval_fairness_grouping\": [\"majority-minority\", \"nationality-all\"]\n",
    "}\n",
    "\n",
    "output_dir=\"./output\"\n",
    "seed=0"
   ]
  },
  {
   "cell_type": "code",
   "execution_count": 4,
   "id": "68fc9f1e",
   "metadata": {
    "execution": {
     "iopub.execute_input": "2025-08-19T18:45:30.347712Z",
     "iopub.status.busy": "2025-08-19T18:45:30.346567Z",
     "iopub.status.idle": "2025-08-19T18:45:30.353566Z",
     "shell.execute_reply": "2025-08-19T18:45:30.352351Z"
    },
    "papermill": {
     "duration": 0.018804,
     "end_time": "2025-08-19T18:45:30.355048",
     "exception": false,
     "start_time": "2025-08-19T18:45:30.336244",
     "status": "completed"
    },
    "tags": [
     "injected-parameters"
    ]
   },
   "outputs": [],
   "source": [
    "# Parameters\n",
    "universe_id = \"6a4e1fa7800327574e12e3f66985ffb5\"\n",
    "run_no = \"3\"\n",
    "universe = \"{\\\"cutoff\\\": [\\\"quantile_0.1\\\", \\\"quantile_0.25\\\"], \\\"eval_fairness_grouping\\\": [\\\"majority-minority\\\", \\\"nationality-all\\\"], \\\"exclude_features\\\": \\\"sex\\\", \\\"exclude_subgroups\\\": \\\"keep-all\\\", \\\"model\\\": \\\"penalized_logreg\\\", \\\"scale\\\": \\\"do-not-scale\\\", \\\"training_size\\\": \\\"5k\\\", \\\"training_year\\\": \\\"2010_14\\\"}\"\n",
    "output_dir = \"output\"\n",
    "seed = \"2023\"\n"
   ]
  },
  {
   "cell_type": "code",
   "execution_count": 5,
   "id": "a5d7941f",
   "metadata": {
    "execution": {
     "iopub.execute_input": "2025-08-19T18:45:30.378291Z",
     "iopub.status.busy": "2025-08-19T18:45:30.377230Z",
     "iopub.status.idle": "2025-08-19T18:45:30.384031Z",
     "shell.execute_reply": "2025-08-19T18:45:30.382809Z"
    },
    "papermill": {
     "duration": 0.019352,
     "end_time": "2025-08-19T18:45:30.385717",
     "exception": false,
     "start_time": "2025-08-19T18:45:30.366365",
     "status": "completed"
    },
    "tags": []
   },
   "outputs": [],
   "source": [
    "import json\n",
    "if isinstance(universe, str):\n",
    "    universe = json.loads(universe)"
   ]
  },
  {
   "cell_type": "code",
   "execution_count": 6,
   "id": "7076ccb1",
   "metadata": {
    "execution": {
     "iopub.execute_input": "2025-08-19T18:45:30.412884Z",
     "iopub.status.busy": "2025-08-19T18:45:30.412244Z",
     "iopub.status.idle": "2025-08-19T18:45:30.460531Z",
     "shell.execute_reply": "2025-08-19T18:45:30.459920Z"
    },
    "papermill": {
     "duration": 0.062073,
     "end_time": "2025-08-19T18:45:30.461918",
     "exception": false,
     "start_time": "2025-08-19T18:45:30.399845",
     "status": "completed"
    },
    "tags": []
   },
   "outputs": [],
   "source": [
    "# Auto-reload the custom package\n",
    "%load_ext autoreload\n",
    "%autoreload 1\n",
    "%aimport fairness_multiverse"
   ]
  },
  {
   "cell_type": "code",
   "execution_count": 7,
   "id": "94c8eb93",
   "metadata": {
    "execution": {
     "iopub.execute_input": "2025-08-19T18:45:30.483393Z",
     "iopub.status.busy": "2025-08-19T18:45:30.483113Z",
     "iopub.status.idle": "2025-08-19T18:45:32.090369Z",
     "shell.execute_reply": "2025-08-19T18:45:32.088843Z"
    },
    "papermill": {
     "duration": 1.620468,
     "end_time": "2025-08-19T18:45:32.093603",
     "exception": false,
     "start_time": "2025-08-19T18:45:30.473135",
     "status": "completed"
    },
    "tags": []
   },
   "outputs": [],
   "source": [
    "from fairness_multiverse.universe import UniverseAnalysis\n",
    "\n",
    "universe_analysis = UniverseAnalysis(\n",
    "    run_no = run_no,\n",
    "    universe_id = universe_id,\n",
    "    universe = universe,\n",
    "    output_dir=output_dir,\n",
    ")"
   ]
  },
  {
   "cell_type": "code",
   "execution_count": 8,
   "id": "2a6381cf",
   "metadata": {
    "execution": {
     "iopub.execute_input": "2025-08-19T18:45:32.124801Z",
     "iopub.status.busy": "2025-08-19T18:45:32.123470Z",
     "iopub.status.idle": "2025-08-19T18:45:32.134687Z",
     "shell.execute_reply": "2025-08-19T18:45:32.133689Z"
    },
    "papermill": {
     "duration": 0.044705,
     "end_time": "2025-08-19T18:45:32.147845",
     "exception": false,
     "start_time": "2025-08-19T18:45:32.103140",
     "status": "completed"
    },
    "tags": []
   },
   "outputs": [
    {
     "name": "stdout",
     "output_type": "stream",
     "text": [
      "Using Seed: 2023\n"
     ]
    }
   ],
   "source": [
    "import numpy as np\n",
    "parsed_seed = int(seed)\n",
    "np.random.seed(parsed_seed)\n",
    "print(f\"Using Seed: {parsed_seed}\")"
   ]
  },
  {
   "cell_type": "markdown",
   "id": "b6e958b4",
   "metadata": {
    "papermill": {
     "duration": 0.009571,
     "end_time": "2025-08-19T18:45:32.176269",
     "exception": false,
     "start_time": "2025-08-19T18:45:32.166698",
     "status": "completed"
    },
    "tags": []
   },
   "source": [
    "# Loading Data"
   ]
  },
  {
   "cell_type": "code",
   "execution_count": 9,
   "id": "98701482",
   "metadata": {
    "execution": {
     "iopub.execute_input": "2025-08-19T18:45:32.198652Z",
     "iopub.status.busy": "2025-08-19T18:45:32.197997Z",
     "iopub.status.idle": "2025-08-19T18:45:42.796356Z",
     "shell.execute_reply": "2025-08-19T18:45:42.795040Z"
    },
    "papermill": {
     "duration": 10.611124,
     "end_time": "2025-08-19T18:45:42.797568",
     "exception": false,
     "start_time": "2025-08-19T18:45:32.186444",
     "status": "completed"
    },
    "tags": []
   },
   "outputs": [
    {
     "name": "stdout",
     "output_type": "stream",
     "text": [
      "Loading SIAB data from cache: data/siab_cached.csv.gz\n"
     ]
    },
    {
     "name": "stdout",
     "output_type": "stream",
     "text": [
      "(643690, 164)\n"
     ]
    }
   ],
   "source": [
    "from pathlib import Path\n",
    "import pandas as pd\n",
    "\n",
    "# File paths\n",
    "raw_file = Path(\"data/raw/siab.csv\")\n",
    "cache_file = Path(\"data/siab_cached.csv.gz\")\n",
    "\n",
    "# Ensure cache directory exists\n",
    "cache_file.parent.mkdir(parents=True, exist_ok=True)\n",
    "\n",
    "# Load with simple caching\n",
    "if cache_file.exists():\n",
    "    print(f\"Loading SIAB data from cache: {cache_file}\")\n",
    "    siab = pd.read_csv(cache_file, compression='gzip')\n",
    "else:\n",
    "    print(f\"Cache not found. Reading raw SIAB data: {raw_file}\")\n",
    "    siab = pd.read_csv(raw_file)\n",
    "    siab.to_csv(cache_file, index=False, compression='gzip')\n",
    "    print(f\"Cached SIAB data to: {cache_file}\")\n",
    "\n",
    "print(siab.shape)"
   ]
  },
  {
   "cell_type": "code",
   "execution_count": 10,
   "id": "058d2abb",
   "metadata": {
    "execution": {
     "iopub.execute_input": "2025-08-19T18:45:42.822579Z",
     "iopub.status.busy": "2025-08-19T18:45:42.821921Z",
     "iopub.status.idle": "2025-08-19T18:45:43.062317Z",
     "shell.execute_reply": "2025-08-19T18:45:43.061567Z"
    },
    "papermill": {
     "duration": 0.252859,
     "end_time": "2025-08-19T18:45:43.063507",
     "exception": false,
     "start_time": "2025-08-19T18:45:42.810648",
     "status": "completed"
    },
    "tags": []
   },
   "outputs": [
    {
     "data": {
      "text/html": [
       "<div>\n",
       "<style scoped>\n",
       "    .dataframe tbody tr th:only-of-type {\n",
       "        vertical-align: middle;\n",
       "    }\n",
       "\n",
       "    .dataframe tbody tr th {\n",
       "        vertical-align: top;\n",
       "    }\n",
       "\n",
       "    .dataframe thead th {\n",
       "        text-align: right;\n",
       "    }\n",
       "</style>\n",
       "<table border=\"1\" class=\"dataframe\">\n",
       "  <thead>\n",
       "    <tr style=\"text-align: right;\">\n",
       "      <th></th>\n",
       "      <th>persnr</th>\n",
       "      <th>year</th>\n",
       "      <th>nrEntry</th>\n",
       "      <th>ltue</th>\n",
       "      <th>employed_before</th>\n",
       "      <th>receipt_leh_before</th>\n",
       "      <th>receipt_lhg_before</th>\n",
       "      <th>se_before</th>\n",
       "      <th>ASU_notue_seeking_before</th>\n",
       "      <th>ASU_other_before</th>\n",
       "      <th>...</th>\n",
       "      <th>minijob_tot_dur_byage</th>\n",
       "      <th>ft_tot_dur_byage</th>\n",
       "      <th>befrist_tot_dur_byage</th>\n",
       "      <th>leih_tot_dur_byage</th>\n",
       "      <th>LHG_tot_dur_byage</th>\n",
       "      <th>LEH_tot_dur_byage</th>\n",
       "      <th>almp_tot_dur_byage</th>\n",
       "      <th>almp_aw_tot_dur_byage</th>\n",
       "      <th>se_tot_dur_byage</th>\n",
       "      <th>seeking1_tot_dur_byage</th>\n",
       "    </tr>\n",
       "  </thead>\n",
       "  <tbody>\n",
       "    <tr>\n",
       "      <th>0</th>\n",
       "      <td>7</td>\n",
       "      <td>2015</td>\n",
       "      <td>1</td>\n",
       "      <td>0</td>\n",
       "      <td>1</td>\n",
       "      <td>0</td>\n",
       "      <td>0</td>\n",
       "      <td>0</td>\n",
       "      <td>1</td>\n",
       "      <td>0</td>\n",
       "      <td>...</td>\n",
       "      <td>0.000000</td>\n",
       "      <td>0.000000</td>\n",
       "      <td>15.043478</td>\n",
       "      <td>0.000000</td>\n",
       "      <td>0.000000</td>\n",
       "      <td>0.000000</td>\n",
       "      <td>0.000000</td>\n",
       "      <td>0.000000</td>\n",
       "      <td>0.000000</td>\n",
       "      <td>0.000000</td>\n",
       "    </tr>\n",
       "    <tr>\n",
       "      <th>1</th>\n",
       "      <td>18</td>\n",
       "      <td>2010</td>\n",
       "      <td>1</td>\n",
       "      <td>1</td>\n",
       "      <td>0</td>\n",
       "      <td>0</td>\n",
       "      <td>0</td>\n",
       "      <td>0</td>\n",
       "      <td>0</td>\n",
       "      <td>0</td>\n",
       "      <td>...</td>\n",
       "      <td>0.000000</td>\n",
       "      <td>0.000000</td>\n",
       "      <td>0.000000</td>\n",
       "      <td>0.000000</td>\n",
       "      <td>0.000000</td>\n",
       "      <td>0.000000</td>\n",
       "      <td>0.000000</td>\n",
       "      <td>0.000000</td>\n",
       "      <td>0.000000</td>\n",
       "      <td>0.000000</td>\n",
       "    </tr>\n",
       "    <tr>\n",
       "      <th>2</th>\n",
       "      <td>18</td>\n",
       "      <td>2011</td>\n",
       "      <td>2</td>\n",
       "      <td>0</td>\n",
       "      <td>1</td>\n",
       "      <td>0</td>\n",
       "      <td>1</td>\n",
       "      <td>0</td>\n",
       "      <td>1</td>\n",
       "      <td>0</td>\n",
       "      <td>...</td>\n",
       "      <td>2.714286</td>\n",
       "      <td>2.714286</td>\n",
       "      <td>0.000000</td>\n",
       "      <td>0.000000</td>\n",
       "      <td>10.775510</td>\n",
       "      <td>0.000000</td>\n",
       "      <td>8.367347</td>\n",
       "      <td>0.000000</td>\n",
       "      <td>0.000000</td>\n",
       "      <td>9.836735</td>\n",
       "    </tr>\n",
       "    <tr>\n",
       "      <th>3</th>\n",
       "      <td>18</td>\n",
       "      <td>2012</td>\n",
       "      <td>3</td>\n",
       "      <td>0</td>\n",
       "      <td>1</td>\n",
       "      <td>0</td>\n",
       "      <td>1</td>\n",
       "      <td>0</td>\n",
       "      <td>1</td>\n",
       "      <td>0</td>\n",
       "      <td>...</td>\n",
       "      <td>4.200000</td>\n",
       "      <td>4.200000</td>\n",
       "      <td>0.000000</td>\n",
       "      <td>0.000000</td>\n",
       "      <td>12.100000</td>\n",
       "      <td>0.000000</td>\n",
       "      <td>9.400000</td>\n",
       "      <td>0.000000</td>\n",
       "      <td>0.000000</td>\n",
       "      <td>9.960000</td>\n",
       "    </tr>\n",
       "    <tr>\n",
       "      <th>4</th>\n",
       "      <td>18</td>\n",
       "      <td>2012</td>\n",
       "      <td>4</td>\n",
       "      <td>0</td>\n",
       "      <td>1</td>\n",
       "      <td>0</td>\n",
       "      <td>1</td>\n",
       "      <td>0</td>\n",
       "      <td>1</td>\n",
       "      <td>0</td>\n",
       "      <td>...</td>\n",
       "      <td>5.460000</td>\n",
       "      <td>5.460000</td>\n",
       "      <td>0.000000</td>\n",
       "      <td>0.000000</td>\n",
       "      <td>13.360000</td>\n",
       "      <td>0.000000</td>\n",
       "      <td>10.320000</td>\n",
       "      <td>0.000000</td>\n",
       "      <td>0.000000</td>\n",
       "      <td>10.280000</td>\n",
       "    </tr>\n",
       "    <tr>\n",
       "      <th>...</th>\n",
       "      <td>...</td>\n",
       "      <td>...</td>\n",
       "      <td>...</td>\n",
       "      <td>...</td>\n",
       "      <td>...</td>\n",
       "      <td>...</td>\n",
       "      <td>...</td>\n",
       "      <td>...</td>\n",
       "      <td>...</td>\n",
       "      <td>...</td>\n",
       "      <td>...</td>\n",
       "      <td>...</td>\n",
       "      <td>...</td>\n",
       "      <td>...</td>\n",
       "      <td>...</td>\n",
       "      <td>...</td>\n",
       "      <td>...</td>\n",
       "      <td>...</td>\n",
       "      <td>...</td>\n",
       "      <td>...</td>\n",
       "      <td>...</td>\n",
       "    </tr>\n",
       "    <tr>\n",
       "      <th>643685</th>\n",
       "      <td>1827860</td>\n",
       "      <td>2013</td>\n",
       "      <td>1</td>\n",
       "      <td>0</td>\n",
       "      <td>0</td>\n",
       "      <td>0</td>\n",
       "      <td>1</td>\n",
       "      <td>0</td>\n",
       "      <td>0</td>\n",
       "      <td>1</td>\n",
       "      <td>...</td>\n",
       "      <td>0.000000</td>\n",
       "      <td>0.000000</td>\n",
       "      <td>0.000000</td>\n",
       "      <td>0.000000</td>\n",
       "      <td>0.612903</td>\n",
       "      <td>0.000000</td>\n",
       "      <td>0.000000</td>\n",
       "      <td>0.000000</td>\n",
       "      <td>0.000000</td>\n",
       "      <td>0.000000</td>\n",
       "    </tr>\n",
       "    <tr>\n",
       "      <th>643686</th>\n",
       "      <td>1827860</td>\n",
       "      <td>2015</td>\n",
       "      <td>2</td>\n",
       "      <td>1</td>\n",
       "      <td>0</td>\n",
       "      <td>0</td>\n",
       "      <td>1</td>\n",
       "      <td>0</td>\n",
       "      <td>1</td>\n",
       "      <td>0</td>\n",
       "      <td>...</td>\n",
       "      <td>0.000000</td>\n",
       "      <td>0.000000</td>\n",
       "      <td>0.212121</td>\n",
       "      <td>0.212121</td>\n",
       "      <td>17.363636</td>\n",
       "      <td>0.000000</td>\n",
       "      <td>8.909091</td>\n",
       "      <td>0.000000</td>\n",
       "      <td>0.000000</td>\n",
       "      <td>7.121212</td>\n",
       "    </tr>\n",
       "    <tr>\n",
       "      <th>643687</th>\n",
       "      <td>1827860</td>\n",
       "      <td>2016</td>\n",
       "      <td>3</td>\n",
       "      <td>1</td>\n",
       "      <td>0</td>\n",
       "      <td>0</td>\n",
       "      <td>1</td>\n",
       "      <td>1</td>\n",
       "      <td>0</td>\n",
       "      <td>1</td>\n",
       "      <td>...</td>\n",
       "      <td>0.000000</td>\n",
       "      <td>0.000000</td>\n",
       "      <td>0.294118</td>\n",
       "      <td>0.205882</td>\n",
       "      <td>34.705882</td>\n",
       "      <td>0.000000</td>\n",
       "      <td>10.352941</td>\n",
       "      <td>1.705882</td>\n",
       "      <td>1.705882</td>\n",
       "      <td>23.911765</td>\n",
       "    </tr>\n",
       "    <tr>\n",
       "      <th>643688</th>\n",
       "      <td>1827869</td>\n",
       "      <td>2013</td>\n",
       "      <td>1</td>\n",
       "      <td>1</td>\n",
       "      <td>1</td>\n",
       "      <td>0</td>\n",
       "      <td>0</td>\n",
       "      <td>0</td>\n",
       "      <td>1</td>\n",
       "      <td>0</td>\n",
       "      <td>...</td>\n",
       "      <td>0.000000</td>\n",
       "      <td>0.000000</td>\n",
       "      <td>0.000000</td>\n",
       "      <td>0.000000</td>\n",
       "      <td>0.000000</td>\n",
       "      <td>0.525424</td>\n",
       "      <td>0.000000</td>\n",
       "      <td>0.000000</td>\n",
       "      <td>0.000000</td>\n",
       "      <td>0.000000</td>\n",
       "    </tr>\n",
       "    <tr>\n",
       "      <th>643689</th>\n",
       "      <td>1827869</td>\n",
       "      <td>2014</td>\n",
       "      <td>2</td>\n",
       "      <td>0</td>\n",
       "      <td>0</td>\n",
       "      <td>1</td>\n",
       "      <td>0</td>\n",
       "      <td>0</td>\n",
       "      <td>1</td>\n",
       "      <td>0</td>\n",
       "      <td>...</td>\n",
       "      <td>0.000000</td>\n",
       "      <td>0.666667</td>\n",
       "      <td>0.666667</td>\n",
       "      <td>0.000000</td>\n",
       "      <td>0.000000</td>\n",
       "      <td>8.950000</td>\n",
       "      <td>1.033333</td>\n",
       "      <td>0.083333</td>\n",
       "      <td>0.083333</td>\n",
       "      <td>8.133333</td>\n",
       "    </tr>\n",
       "  </tbody>\n",
       "</table>\n",
       "<p>643690 rows × 164 columns</p>\n",
       "</div>"
      ],
      "text/plain": [
       "         persnr  year  nrEntry  ltue  employed_before  receipt_leh_before  \\\n",
       "0             7  2015        1     0                1                   0   \n",
       "1            18  2010        1     1                0                   0   \n",
       "2            18  2011        2     0                1                   0   \n",
       "3            18  2012        3     0                1                   0   \n",
       "4            18  2012        4     0                1                   0   \n",
       "...         ...   ...      ...   ...              ...                 ...   \n",
       "643685  1827860  2013        1     0                0                   0   \n",
       "643686  1827860  2015        2     1                0                   0   \n",
       "643687  1827860  2016        3     1                0                   0   \n",
       "643688  1827869  2013        1     1                1                   0   \n",
       "643689  1827869  2014        2     0                0                   1   \n",
       "\n",
       "        receipt_lhg_before  se_before  ASU_notue_seeking_before  \\\n",
       "0                        0          0                         1   \n",
       "1                        0          0                         0   \n",
       "2                        1          0                         1   \n",
       "3                        1          0                         1   \n",
       "4                        1          0                         1   \n",
       "...                    ...        ...                       ...   \n",
       "643685                   1          0                         0   \n",
       "643686                   1          0                         1   \n",
       "643687                   1          1                         0   \n",
       "643688                   0          0                         1   \n",
       "643689                   0          0                         1   \n",
       "\n",
       "        ASU_other_before  ...  minijob_tot_dur_byage  ft_tot_dur_byage  \\\n",
       "0                      0  ...               0.000000          0.000000   \n",
       "1                      0  ...               0.000000          0.000000   \n",
       "2                      0  ...               2.714286          2.714286   \n",
       "3                      0  ...               4.200000          4.200000   \n",
       "4                      0  ...               5.460000          5.460000   \n",
       "...                  ...  ...                    ...               ...   \n",
       "643685                 1  ...               0.000000          0.000000   \n",
       "643686                 0  ...               0.000000          0.000000   \n",
       "643687                 1  ...               0.000000          0.000000   \n",
       "643688                 0  ...               0.000000          0.000000   \n",
       "643689                 0  ...               0.000000          0.666667   \n",
       "\n",
       "        befrist_tot_dur_byage  leih_tot_dur_byage  LHG_tot_dur_byage  \\\n",
       "0                   15.043478            0.000000           0.000000   \n",
       "1                    0.000000            0.000000           0.000000   \n",
       "2                    0.000000            0.000000          10.775510   \n",
       "3                    0.000000            0.000000          12.100000   \n",
       "4                    0.000000            0.000000          13.360000   \n",
       "...                       ...                 ...                ...   \n",
       "643685               0.000000            0.000000           0.612903   \n",
       "643686               0.212121            0.212121          17.363636   \n",
       "643687               0.294118            0.205882          34.705882   \n",
       "643688               0.000000            0.000000           0.000000   \n",
       "643689               0.666667            0.000000           0.000000   \n",
       "\n",
       "        LEH_tot_dur_byage  almp_tot_dur_byage  almp_aw_tot_dur_byage  \\\n",
       "0                0.000000            0.000000               0.000000   \n",
       "1                0.000000            0.000000               0.000000   \n",
       "2                0.000000            8.367347               0.000000   \n",
       "3                0.000000            9.400000               0.000000   \n",
       "4                0.000000           10.320000               0.000000   \n",
       "...                   ...                 ...                    ...   \n",
       "643685           0.000000            0.000000               0.000000   \n",
       "643686           0.000000            8.909091               0.000000   \n",
       "643687           0.000000           10.352941               1.705882   \n",
       "643688           0.525424            0.000000               0.000000   \n",
       "643689           8.950000            1.033333               0.083333   \n",
       "\n",
       "        se_tot_dur_byage  seeking1_tot_dur_byage  \n",
       "0               0.000000                0.000000  \n",
       "1               0.000000                0.000000  \n",
       "2               0.000000                9.836735  \n",
       "3               0.000000                9.960000  \n",
       "4               0.000000               10.280000  \n",
       "...                  ...                     ...  \n",
       "643685          0.000000                0.000000  \n",
       "643686          0.000000                7.121212  \n",
       "643687          1.705882               23.911765  \n",
       "643688          0.000000                0.000000  \n",
       "643689          0.083333                8.133333  \n",
       "\n",
       "[643690 rows x 164 columns]"
      ]
     },
     "execution_count": 10,
     "metadata": {},
     "output_type": "execute_result"
    }
   ],
   "source": [
    "siab"
   ]
  },
  {
   "cell_type": "markdown",
   "id": "1f87e805",
   "metadata": {
    "papermill": {
     "duration": 0.009744,
     "end_time": "2025-08-19T18:45:43.083718",
     "exception": false,
     "start_time": "2025-08-19T18:45:43.073974",
     "status": "completed"
    },
    "tags": []
   },
   "source": [
    "# Splitting Data and Setting Training Data Size"
   ]
  },
  {
   "cell_type": "code",
   "execution_count": 11,
   "id": "910ae358",
   "metadata": {
    "execution": {
     "iopub.execute_input": "2025-08-19T18:45:43.111073Z",
     "iopub.status.busy": "2025-08-19T18:45:43.104598Z",
     "iopub.status.idle": "2025-08-19T18:45:44.272008Z",
     "shell.execute_reply": "2025-08-19T18:45:44.270915Z"
    },
    "papermill": {
     "duration": 1.180372,
     "end_time": "2025-08-19T18:45:44.273713",
     "exception": false,
     "start_time": "2025-08-19T18:45:43.093341",
     "status": "completed"
    },
    "tags": []
   },
   "outputs": [],
   "source": [
    "from fairness_multiverse.universe import sample_by_year_size\n",
    "\n",
    "siab_train = sample_by_year_size(siab,\n",
    "                               training_year=universe[\"training_year\"],\n",
    "                               training_size=universe[\"training_size\"])"
   ]
  },
  {
   "cell_type": "code",
   "execution_count": 12,
   "id": "919c8ff5",
   "metadata": {
    "execution": {
     "iopub.execute_input": "2025-08-19T18:45:44.295385Z",
     "iopub.status.busy": "2025-08-19T18:45:44.295078Z",
     "iopub.status.idle": "2025-08-19T18:45:44.301662Z",
     "shell.execute_reply": "2025-08-19T18:45:44.300938Z"
    },
    "papermill": {
     "duration": 0.018925,
     "end_time": "2025-08-19T18:45:44.303011",
     "exception": false,
     "start_time": "2025-08-19T18:45:44.284086",
     "status": "completed"
    },
    "tags": []
   },
   "outputs": [
    {
     "data": {
      "text/plain": [
       "(5000, 164)"
      ]
     },
     "execution_count": 12,
     "metadata": {},
     "output_type": "execute_result"
    }
   ],
   "source": [
    "siab_train.shape"
   ]
  },
  {
   "cell_type": "code",
   "execution_count": 13,
   "id": "feb13bf4",
   "metadata": {
    "execution": {
     "iopub.execute_input": "2025-08-19T18:45:44.326191Z",
     "iopub.status.busy": "2025-08-19T18:45:44.325899Z",
     "iopub.status.idle": "2025-08-19T18:45:44.334659Z",
     "shell.execute_reply": "2025-08-19T18:45:44.333934Z"
    },
    "papermill": {
     "duration": 0.022953,
     "end_time": "2025-08-19T18:45:44.335991",
     "exception": false,
     "start_time": "2025-08-19T18:45:44.313038",
     "status": "completed"
    },
    "tags": []
   },
   "outputs": [
    {
     "data": {
      "text/plain": [
       "year\n",
       "2010    1000\n",
       "2011    1000\n",
       "2012    1000\n",
       "2013    1000\n",
       "2014    1000\n",
       "dtype: int64"
      ]
     },
     "metadata": {},
     "output_type": "display_data"
    }
   ],
   "source": [
    "display(siab_train.groupby(\"year\").size())"
   ]
  },
  {
   "cell_type": "code",
   "execution_count": 14,
   "id": "0997782f",
   "metadata": {
    "execution": {
     "iopub.execute_input": "2025-08-19T18:45:44.357500Z",
     "iopub.status.busy": "2025-08-19T18:45:44.357211Z",
     "iopub.status.idle": "2025-08-19T18:45:44.737455Z",
     "shell.execute_reply": "2025-08-19T18:45:44.735992Z"
    },
    "papermill": {
     "duration": 0.392963,
     "end_time": "2025-08-19T18:45:44.739167",
     "exception": false,
     "start_time": "2025-08-19T18:45:44.346204",
     "status": "completed"
    },
    "tags": []
   },
   "outputs": [],
   "source": [
    "#siab_train = siab_s[siab_s.year < 2015]\n",
    "siab_calib = siab[siab.year == 2015]\n",
    "siab_test = siab[siab.year == 2016]"
   ]
  },
  {
   "cell_type": "code",
   "execution_count": 15,
   "id": "2c1e4012",
   "metadata": {
    "execution": {
     "iopub.execute_input": "2025-08-19T18:45:44.762243Z",
     "iopub.status.busy": "2025-08-19T18:45:44.761734Z",
     "iopub.status.idle": "2025-08-19T18:45:44.767017Z",
     "shell.execute_reply": "2025-08-19T18:45:44.766180Z"
    },
    "papermill": {
     "duration": 0.018993,
     "end_time": "2025-08-19T18:45:44.769028",
     "exception": false,
     "start_time": "2025-08-19T18:45:44.750035",
     "status": "completed"
    },
    "tags": []
   },
   "outputs": [],
   "source": [
    "#siab_calib.shape"
   ]
  },
  {
   "cell_type": "code",
   "execution_count": 16,
   "id": "f66b54ca",
   "metadata": {
    "execution": {
     "iopub.execute_input": "2025-08-19T18:45:44.792351Z",
     "iopub.status.busy": "2025-08-19T18:45:44.791884Z",
     "iopub.status.idle": "2025-08-19T18:45:44.797236Z",
     "shell.execute_reply": "2025-08-19T18:45:44.796420Z"
    },
    "papermill": {
     "duration": 0.018871,
     "end_time": "2025-08-19T18:45:44.799206",
     "exception": false,
     "start_time": "2025-08-19T18:45:44.780335",
     "status": "completed"
    },
    "tags": []
   },
   "outputs": [],
   "source": [
    "#siab_test.shape"
   ]
  },
  {
   "cell_type": "code",
   "execution_count": 17,
   "id": "27e4384d",
   "metadata": {
    "execution": {
     "iopub.execute_input": "2025-08-19T18:45:44.824635Z",
     "iopub.status.busy": "2025-08-19T18:45:44.824137Z",
     "iopub.status.idle": "2025-08-19T18:45:44.833216Z",
     "shell.execute_reply": "2025-08-19T18:45:44.832272Z"
    },
    "papermill": {
     "duration": 0.022608,
     "end_time": "2025-08-19T18:45:44.834702",
     "exception": false,
     "start_time": "2025-08-19T18:45:44.812094",
     "status": "completed"
    },
    "tags": []
   },
   "outputs": [],
   "source": [
    "X_train = siab_train.iloc[:,4:164]\n",
    "y_train = siab_train.iloc[:, [3]]"
   ]
  },
  {
   "cell_type": "code",
   "execution_count": 18,
   "id": "08ee8389",
   "metadata": {
    "execution": {
     "iopub.execute_input": "2025-08-19T18:45:44.860381Z",
     "iopub.status.busy": "2025-08-19T18:45:44.859914Z",
     "iopub.status.idle": "2025-08-19T18:45:44.923263Z",
     "shell.execute_reply": "2025-08-19T18:45:44.922295Z"
    },
    "papermill": {
     "duration": 0.077089,
     "end_time": "2025-08-19T18:45:44.925205",
     "exception": false,
     "start_time": "2025-08-19T18:45:44.848116",
     "status": "completed"
    },
    "tags": []
   },
   "outputs": [],
   "source": [
    "X_calib = siab_calib.iloc[:,4:164]\n",
    "y_calib = siab_calib.iloc[:, [3]]"
   ]
  },
  {
   "cell_type": "code",
   "execution_count": 19,
   "id": "b7ff42e0",
   "metadata": {
    "execution": {
     "iopub.execute_input": "2025-08-19T18:45:44.952527Z",
     "iopub.status.busy": "2025-08-19T18:45:44.951614Z",
     "iopub.status.idle": "2025-08-19T18:45:45.009946Z",
     "shell.execute_reply": "2025-08-19T18:45:45.008648Z"
    },
    "papermill": {
     "duration": 0.07393,
     "end_time": "2025-08-19T18:45:45.011593",
     "exception": false,
     "start_time": "2025-08-19T18:45:44.937663",
     "status": "completed"
    },
    "tags": []
   },
   "outputs": [],
   "source": [
    "X_test = siab_test.iloc[:,4:164]\n",
    "y_true = siab_test.iloc[:, [3]]"
   ]
  },
  {
   "cell_type": "code",
   "execution_count": 20,
   "id": "0275101e",
   "metadata": {
    "execution": {
     "iopub.execute_input": "2025-08-19T18:45:45.038896Z",
     "iopub.status.busy": "2025-08-19T18:45:45.037710Z",
     "iopub.status.idle": "2025-08-19T18:45:45.253621Z",
     "shell.execute_reply": "2025-08-19T18:45:45.252829Z"
    },
    "papermill": {
     "duration": 0.23009,
     "end_time": "2025-08-19T18:45:45.255089",
     "exception": false,
     "start_time": "2025-08-19T18:45:45.024999",
     "status": "completed"
    },
    "tags": []
   },
   "outputs": [],
   "source": [
    "# Auxiliary data needed downstream in the pipeline\n",
    "\n",
    "org_train = X_train.copy()\n",
    "org_test = X_test.copy()\n",
    "org_calib = X_calib.copy()"
   ]
  },
  {
   "cell_type": "markdown",
   "id": "b461e618",
   "metadata": {
    "papermill": {
     "duration": 0.03211,
     "end_time": "2025-08-19T18:45:45.299011",
     "exception": false,
     "start_time": "2025-08-19T18:45:45.266901",
     "status": "completed"
    },
    "tags": []
   },
   "source": [
    "# Preprocessing Data"
   ]
  },
  {
   "cell_type": "code",
   "execution_count": 21,
   "id": "78e74c4b",
   "metadata": {
    "execution": {
     "iopub.execute_input": "2025-08-19T18:45:45.323766Z",
     "iopub.status.busy": "2025-08-19T18:45:45.322580Z",
     "iopub.status.idle": "2025-08-19T18:45:45.331199Z",
     "shell.execute_reply": "2025-08-19T18:45:45.329622Z"
    },
    "papermill": {
     "duration": 0.02236,
     "end_time": "2025-08-19T18:45:45.332863",
     "exception": false,
     "start_time": "2025-08-19T18:45:45.310503",
     "status": "completed"
    },
    "tags": []
   },
   "outputs": [],
   "source": [
    "# EXCLUDE PROTECTED FEATURES\n",
    "# --------------------------\n",
    "\n",
    "excluded_features = universe[\"exclude_features\"].split(\"-\")\n",
    "excluded_features_dictionary = {\n",
    "    \"nationality\": [\"maxdeutsch1\", \"maxdeutsch.Missing.\"],\n",
    "    \"sex\": [\"frau1\"],\n",
    "    \"age\": [\"age\"],\n",
    "}"
   ]
  },
  {
   "cell_type": "code",
   "execution_count": 22,
   "id": "f8e63555",
   "metadata": {
    "execution": {
     "iopub.execute_input": "2025-08-19T18:45:45.366731Z",
     "iopub.status.busy": "2025-08-19T18:45:45.360468Z",
     "iopub.status.idle": "2025-08-19T18:45:45.372165Z",
     "shell.execute_reply": "2025-08-19T18:45:45.371180Z"
    },
    "papermill": {
     "duration": 0.028865,
     "end_time": "2025-08-19T18:45:45.374785",
     "exception": false,
     "start_time": "2025-08-19T18:45:45.345920",
     "status": "completed"
    },
    "tags": []
   },
   "outputs": [],
   "source": [
    "excluded_features_columns = [\n",
    "    excluded_features_dictionary[f] for f in excluded_features if len(f) > 0 and f != \"none\"\n",
    "]"
   ]
  },
  {
   "cell_type": "code",
   "execution_count": 23,
   "id": "da781f7c",
   "metadata": {
    "execution": {
     "iopub.execute_input": "2025-08-19T18:45:45.415091Z",
     "iopub.status.busy": "2025-08-19T18:45:45.414596Z",
     "iopub.status.idle": "2025-08-19T18:45:45.420101Z",
     "shell.execute_reply": "2025-08-19T18:45:45.419081Z"
    },
    "papermill": {
     "duration": 0.02028,
     "end_time": "2025-08-19T18:45:45.422250",
     "exception": false,
     "start_time": "2025-08-19T18:45:45.401970",
     "status": "completed"
    },
    "tags": []
   },
   "outputs": [],
   "source": [
    "from fairness_multiverse.universe import flatten_once\n",
    "\n",
    "excluded_features_columns = flatten_once(excluded_features_columns)"
   ]
  },
  {
   "cell_type": "code",
   "execution_count": 24,
   "id": "37fef0f0",
   "metadata": {
    "execution": {
     "iopub.execute_input": "2025-08-19T18:45:45.445671Z",
     "iopub.status.busy": "2025-08-19T18:45:45.445223Z",
     "iopub.status.idle": "2025-08-19T18:45:45.460422Z",
     "shell.execute_reply": "2025-08-19T18:45:45.459460Z"
    },
    "papermill": {
     "duration": 0.028797,
     "end_time": "2025-08-19T18:45:45.462124",
     "exception": false,
     "start_time": "2025-08-19T18:45:45.433327",
     "status": "completed"
    },
    "tags": []
   },
   "outputs": [
    {
     "name": "stdout",
     "output_type": "stream",
     "text": [
      "Dropping features: ['frau1']\n"
     ]
    }
   ],
   "source": [
    "if len(excluded_features_columns) > 0:\n",
    "    print(f\"Dropping features: {excluded_features_columns}\")\n",
    "    X_train.drop(excluded_features_columns, axis=1, inplace=True)"
   ]
  },
  {
   "cell_type": "code",
   "execution_count": 25,
   "id": "d029e3e9",
   "metadata": {
    "execution": {
     "iopub.execute_input": "2025-08-19T18:45:45.487763Z",
     "iopub.status.busy": "2025-08-19T18:45:45.487295Z",
     "iopub.status.idle": "2025-08-19T18:45:45.552873Z",
     "shell.execute_reply": "2025-08-19T18:45:45.551220Z"
    },
    "papermill": {
     "duration": 0.081388,
     "end_time": "2025-08-19T18:45:45.557087",
     "exception": false,
     "start_time": "2025-08-19T18:45:45.475699",
     "status": "completed"
    },
    "tags": []
   },
   "outputs": [
    {
     "name": "stdout",
     "output_type": "stream",
     "text": [
      "Dropping features: ['frau1']\n"
     ]
    }
   ],
   "source": [
    "if len(excluded_features_columns) > 0:\n",
    "    print(f\"Dropping features: {excluded_features_columns}\")\n",
    "    X_test.drop(excluded_features_columns, axis=1, inplace=True)"
   ]
  },
  {
   "cell_type": "code",
   "execution_count": 26,
   "id": "01d571f0",
   "metadata": {
    "execution": {
     "iopub.execute_input": "2025-08-19T18:45:45.607152Z",
     "iopub.status.busy": "2025-08-19T18:45:45.606550Z",
     "iopub.status.idle": "2025-08-19T18:45:45.681566Z",
     "shell.execute_reply": "2025-08-19T18:45:45.680269Z"
    },
    "papermill": {
     "duration": 0.098906,
     "end_time": "2025-08-19T18:45:45.682962",
     "exception": false,
     "start_time": "2025-08-19T18:45:45.584056",
     "status": "completed"
    },
    "tags": []
   },
   "outputs": [
    {
     "name": "stdout",
     "output_type": "stream",
     "text": [
      "Dropping features: ['frau1']\n"
     ]
    }
   ],
   "source": [
    "if len(excluded_features_columns) > 0:\n",
    "    print(f\"Dropping features: {excluded_features_columns}\")\n",
    "    X_calib.drop(excluded_features_columns, axis=1, inplace=True)"
   ]
  },
  {
   "cell_type": "code",
   "execution_count": 27,
   "id": "3037356e",
   "metadata": {
    "execution": {
     "iopub.execute_input": "2025-08-19T18:45:45.734604Z",
     "iopub.status.busy": "2025-08-19T18:45:45.734105Z",
     "iopub.status.idle": "2025-08-19T18:45:45.739156Z",
     "shell.execute_reply": "2025-08-19T18:45:45.738269Z"
    },
    "papermill": {
     "duration": 0.034038,
     "end_time": "2025-08-19T18:45:45.741871",
     "exception": false,
     "start_time": "2025-08-19T18:45:45.707833",
     "status": "completed"
    },
    "tags": []
   },
   "outputs": [],
   "source": [
    "# EXCLUDE CERTAIN SUBGROUPS\n",
    "# -------------------------\n",
    "\n",
    "mode = universe.get(\"exclude_subgroups\", \"keep-all\") # Defaults to \"keep-all\" if the key is missing."
   ]
  },
  {
   "cell_type": "code",
   "execution_count": 28,
   "id": "9d1e63fd",
   "metadata": {
    "execution": {
     "iopub.execute_input": "2025-08-19T18:45:45.780585Z",
     "iopub.status.busy": "2025-08-19T18:45:45.780078Z",
     "iopub.status.idle": "2025-08-19T18:45:45.839929Z",
     "shell.execute_reply": "2025-08-19T18:45:45.838494Z"
    },
    "papermill": {
     "duration": 0.076891,
     "end_time": "2025-08-19T18:45:45.843647",
     "exception": false,
     "start_time": "2025-08-19T18:45:45.766756",
     "status": "completed"
    },
    "tags": []
   },
   "outputs": [],
   "source": [
    "if mode == \"keep-all\":\n",
    "    keep_mask = pd.Series(True, index=org_train.index)\n",
    "\n",
    "elif mode == \"drop-non-german\":\n",
    "    keep_mask = (org_train[\"maxdeutsch1\"] == 1) & (org_train[\"maxdeutsch.Missing.\"] == 0)\n",
    "\n",
    "else:\n",
    "    raise ValueError(f\"Unsupported mode for exclude_subgroups: {mode}\")"
   ]
  },
  {
   "cell_type": "code",
   "execution_count": 29,
   "id": "d3b65474",
   "metadata": {
    "execution": {
     "iopub.execute_input": "2025-08-19T18:45:45.879178Z",
     "iopub.status.busy": "2025-08-19T18:45:45.878680Z",
     "iopub.status.idle": "2025-08-19T18:45:45.887338Z",
     "shell.execute_reply": "2025-08-19T18:45:45.886491Z"
    },
    "papermill": {
     "duration": 0.023606,
     "end_time": "2025-08-19T18:45:45.888984",
     "exception": false,
     "start_time": "2025-08-19T18:45:45.865378",
     "status": "completed"
    },
    "tags": []
   },
   "outputs": [],
   "source": [
    "n_drop = (~keep_mask).sum() # Calculates how many rows are set to be dropped\n",
    "if n_drop > 0:\n",
    "    pct = n_drop / len(keep_mask) * 100\n",
    "    print(f\"Dropping {n_drop} rows ({pct:.2f}%) where mode='{mode}'\")"
   ]
  },
  {
   "cell_type": "code",
   "execution_count": 30,
   "id": "f44389b3",
   "metadata": {
    "execution": {
     "iopub.execute_input": "2025-08-19T18:45:45.911847Z",
     "iopub.status.busy": "2025-08-19T18:45:45.911516Z",
     "iopub.status.idle": "2025-08-19T18:45:45.919752Z",
     "shell.execute_reply": "2025-08-19T18:45:45.918541Z"
    },
    "papermill": {
     "duration": 0.021542,
     "end_time": "2025-08-19T18:45:45.921359",
     "exception": false,
     "start_time": "2025-08-19T18:45:45.899817",
     "status": "completed"
    },
    "tags": []
   },
   "outputs": [],
   "source": [
    "X_train = X_train[keep_mask]"
   ]
  },
  {
   "cell_type": "code",
   "execution_count": 31,
   "id": "ceca8c2a",
   "metadata": {
    "execution": {
     "iopub.execute_input": "2025-08-19T18:45:45.945481Z",
     "iopub.status.busy": "2025-08-19T18:45:45.945164Z",
     "iopub.status.idle": "2025-08-19T18:45:45.951804Z",
     "shell.execute_reply": "2025-08-19T18:45:45.950514Z"
    },
    "papermill": {
     "duration": 0.022245,
     "end_time": "2025-08-19T18:45:45.954548",
     "exception": false,
     "start_time": "2025-08-19T18:45:45.932303",
     "status": "completed"
    },
    "tags": []
   },
   "outputs": [],
   "source": [
    "y_train = y_train[keep_mask]"
   ]
  },
  {
   "cell_type": "markdown",
   "id": "04d31e2f",
   "metadata": {
    "papermill": {
     "duration": 0.021427,
     "end_time": "2025-08-19T18:45:46.003406",
     "exception": false,
     "start_time": "2025-08-19T18:45:45.981979",
     "status": "completed"
    },
    "tags": []
   },
   "source": [
    "# Model Training"
   ]
  },
  {
   "cell_type": "code",
   "execution_count": 32,
   "id": "db991733",
   "metadata": {
    "execution": {
     "iopub.execute_input": "2025-08-19T18:45:46.027768Z",
     "iopub.status.busy": "2025-08-19T18:45:46.027254Z",
     "iopub.status.idle": "2025-08-19T18:45:46.183341Z",
     "shell.execute_reply": "2025-08-19T18:45:46.182496Z"
    },
    "papermill": {
     "duration": 0.169482,
     "end_time": "2025-08-19T18:45:46.184763",
     "exception": false,
     "start_time": "2025-08-19T18:45:46.015281",
     "status": "completed"
    },
    "tags": []
   },
   "outputs": [],
   "source": [
    "from sklearn.linear_model import LogisticRegression\n",
    "from sklearn.ensemble import GradientBoostingClassifier, RandomForestClassifier\n",
    "\n",
    "if (universe[\"model\"] == \"logreg\"):\n",
    "    model = LogisticRegression() #penalty=\"none\", solver=\"newton-cg\", max_iter=1)\n",
    "elif (universe[\"model\"] == \"penalized_logreg\"):\n",
    "    model = LogisticRegression(penalty=\"l2\", C=0.1) #, solver=\"newton-cg\", max_iter=1)\n",
    "elif (universe[\"model\"] == \"rf\"):\n",
    "    model = RandomForestClassifier() # n_estimators=100, n_jobs=-1\n",
    "elif (universe[\"model\"] == \"gbm\"):\n",
    "    model = GradientBoostingClassifier()\n",
    "elif (universe[\"model\"] == \"elasticnet\"):\n",
    "    model = LogisticRegression(penalty = 'elasticnet', solver = 'saga', l1_ratio = 0.5) # max_iter=5000\n",
    "else:\n",
    "    raise \"Unsupported universe.model\""
   ]
  },
  {
   "cell_type": "code",
   "execution_count": 33,
   "id": "a4b5cd25",
   "metadata": {
    "execution": {
     "iopub.execute_input": "2025-08-19T18:45:46.222002Z",
     "iopub.status.busy": "2025-08-19T18:45:46.221688Z",
     "iopub.status.idle": "2025-08-19T18:45:46.228312Z",
     "shell.execute_reply": "2025-08-19T18:45:46.227373Z"
    },
    "papermill": {
     "duration": 0.023051,
     "end_time": "2025-08-19T18:45:46.229599",
     "exception": false,
     "start_time": "2025-08-19T18:45:46.206548",
     "status": "completed"
    },
    "tags": []
   },
   "outputs": [],
   "source": [
    "from sklearn.pipeline import Pipeline\n",
    "from sklearn.preprocessing import StandardScaler\n",
    "\n",
    "model = Pipeline([\n",
    "    #(\"continuous_processor\", continuous_processor),\n",
    "    #(\"categorical_preprocessor\", categorical_preprocessor),\n",
    "    (\"scale\", StandardScaler() if universe[\"scale\"] == \"scale\" else None), \n",
    "    (\"model\", model),\n",
    "])"
   ]
  },
  {
   "cell_type": "code",
   "execution_count": 34,
   "id": "283a904d",
   "metadata": {
    "execution": {
     "iopub.execute_input": "2025-08-19T18:45:46.257277Z",
     "iopub.status.busy": "2025-08-19T18:45:46.256537Z",
     "iopub.status.idle": "2025-08-19T18:45:46.456234Z",
     "shell.execute_reply": "2025-08-19T18:45:46.455527Z"
    },
    "papermill": {
     "duration": 0.212886,
     "end_time": "2025-08-19T18:45:46.457483",
     "exception": false,
     "start_time": "2025-08-19T18:45:46.244597",
     "status": "completed"
    },
    "tags": []
   },
   "outputs": [
    {
     "name": "stderr",
     "output_type": "stream",
     "text": [
      "/dss/dsshome1/0C/ra93lal2/.local/share/virtualenvs/CMA_Fairness_v2-3j10GkSs/lib/python3.10/site-packages/sklearn/linear_model/_logistic.py:444: ConvergenceWarning: lbfgs failed to converge (status=1):\n",
      "STOP: TOTAL NO. of ITERATIONS REACHED LIMIT.\n",
      "\n",
      "Increase the number of iterations (max_iter) or scale the data as shown in:\n",
      "    https://scikit-learn.org/stable/modules/preprocessing.html\n",
      "Please also refer to the documentation for alternative solver options:\n",
      "    https://scikit-learn.org/stable/modules/linear_model.html#logistic-regression\n",
      "  n_iter_i = _check_optimize_result(\n"
     ]
    },
    {
     "data": {
      "text/html": [
       "<style>#sk-container-id-1 {color: black;background-color: white;}#sk-container-id-1 pre{padding: 0;}#sk-container-id-1 div.sk-toggleable {background-color: white;}#sk-container-id-1 label.sk-toggleable__label {cursor: pointer;display: block;width: 100%;margin-bottom: 0;padding: 0.3em;box-sizing: border-box;text-align: center;}#sk-container-id-1 label.sk-toggleable__label-arrow:before {content: \"▸\";float: left;margin-right: 0.25em;color: #696969;}#sk-container-id-1 label.sk-toggleable__label-arrow:hover:before {color: black;}#sk-container-id-1 div.sk-estimator:hover label.sk-toggleable__label-arrow:before {color: black;}#sk-container-id-1 div.sk-toggleable__content {max-height: 0;max-width: 0;overflow: hidden;text-align: left;background-color: #f0f8ff;}#sk-container-id-1 div.sk-toggleable__content pre {margin: 0.2em;color: black;border-radius: 0.25em;background-color: #f0f8ff;}#sk-container-id-1 input.sk-toggleable__control:checked~div.sk-toggleable__content {max-height: 200px;max-width: 100%;overflow: auto;}#sk-container-id-1 input.sk-toggleable__control:checked~label.sk-toggleable__label-arrow:before {content: \"▾\";}#sk-container-id-1 div.sk-estimator input.sk-toggleable__control:checked~label.sk-toggleable__label {background-color: #d4ebff;}#sk-container-id-1 div.sk-label input.sk-toggleable__control:checked~label.sk-toggleable__label {background-color: #d4ebff;}#sk-container-id-1 input.sk-hidden--visually {border: 0;clip: rect(1px 1px 1px 1px);clip: rect(1px, 1px, 1px, 1px);height: 1px;margin: -1px;overflow: hidden;padding: 0;position: absolute;width: 1px;}#sk-container-id-1 div.sk-estimator {font-family: monospace;background-color: #f0f8ff;border: 1px dotted black;border-radius: 0.25em;box-sizing: border-box;margin-bottom: 0.5em;}#sk-container-id-1 div.sk-estimator:hover {background-color: #d4ebff;}#sk-container-id-1 div.sk-parallel-item::after {content: \"\";width: 100%;border-bottom: 1px solid gray;flex-grow: 1;}#sk-container-id-1 div.sk-label:hover label.sk-toggleable__label {background-color: #d4ebff;}#sk-container-id-1 div.sk-serial::before {content: \"\";position: absolute;border-left: 1px solid gray;box-sizing: border-box;top: 0;bottom: 0;left: 50%;z-index: 0;}#sk-container-id-1 div.sk-serial {display: flex;flex-direction: column;align-items: center;background-color: white;padding-right: 0.2em;padding-left: 0.2em;position: relative;}#sk-container-id-1 div.sk-item {position: relative;z-index: 1;}#sk-container-id-1 div.sk-parallel {display: flex;align-items: stretch;justify-content: center;background-color: white;position: relative;}#sk-container-id-1 div.sk-item::before, #sk-container-id-1 div.sk-parallel-item::before {content: \"\";position: absolute;border-left: 1px solid gray;box-sizing: border-box;top: 0;bottom: 0;left: 50%;z-index: -1;}#sk-container-id-1 div.sk-parallel-item {display: flex;flex-direction: column;z-index: 1;position: relative;background-color: white;}#sk-container-id-1 div.sk-parallel-item:first-child::after {align-self: flex-end;width: 50%;}#sk-container-id-1 div.sk-parallel-item:last-child::after {align-self: flex-start;width: 50%;}#sk-container-id-1 div.sk-parallel-item:only-child::after {width: 0;}#sk-container-id-1 div.sk-dashed-wrapped {border: 1px dashed gray;margin: 0 0.4em 0.5em 0.4em;box-sizing: border-box;padding-bottom: 0.4em;background-color: white;}#sk-container-id-1 div.sk-label label {font-family: monospace;font-weight: bold;display: inline-block;line-height: 1.2em;}#sk-container-id-1 div.sk-label-container {text-align: center;}#sk-container-id-1 div.sk-container {/* jupyter's `normalize.less` sets `[hidden] { display: none; }` but bootstrap.min.css set `[hidden] { display: none !important; }` so we also need the `!important` here to be able to override the default hidden behavior on the sphinx rendered scikit-learn.org. See: https://github.com/scikit-learn/scikit-learn/issues/21755 */display: inline-block !important;position: relative;}#sk-container-id-1 div.sk-text-repr-fallback {display: none;}</style><div id=\"sk-container-id-1\" class=\"sk-top-container\"><div class=\"sk-text-repr-fallback\"><pre>Pipeline(steps=[(&#x27;scale&#x27;, None), (&#x27;model&#x27;, LogisticRegression(C=0.1))])</pre><b>In a Jupyter environment, please rerun this cell to show the HTML representation or trust the notebook. <br />On GitHub, the HTML representation is unable to render, please try loading this page with nbviewer.org.</b></div><div class=\"sk-container\" hidden><div class=\"sk-item sk-dashed-wrapped\"><div class=\"sk-label-container\"><div class=\"sk-label sk-toggleable\"><input class=\"sk-toggleable__control sk-hidden--visually\" id=\"sk-estimator-id-1\" type=\"checkbox\" ><label for=\"sk-estimator-id-1\" class=\"sk-toggleable__label sk-toggleable__label-arrow\">Pipeline</label><div class=\"sk-toggleable__content\"><pre>Pipeline(steps=[(&#x27;scale&#x27;, None), (&#x27;model&#x27;, LogisticRegression(C=0.1))])</pre></div></div></div><div class=\"sk-serial\"><div class=\"sk-item\"><div class=\"sk-estimator sk-toggleable\"><input class=\"sk-toggleable__control sk-hidden--visually\" id=\"sk-estimator-id-2\" type=\"checkbox\" ><label for=\"sk-estimator-id-2\" class=\"sk-toggleable__label sk-toggleable__label-arrow\">None</label><div class=\"sk-toggleable__content\"><pre>None</pre></div></div></div><div class=\"sk-item\"><div class=\"sk-estimator sk-toggleable\"><input class=\"sk-toggleable__control sk-hidden--visually\" id=\"sk-estimator-id-3\" type=\"checkbox\" ><label for=\"sk-estimator-id-3\" class=\"sk-toggleable__label sk-toggleable__label-arrow\">LogisticRegression</label><div class=\"sk-toggleable__content\"><pre>LogisticRegression(C=0.1)</pre></div></div></div></div></div></div></div>"
      ],
      "text/plain": [
       "Pipeline(steps=[('scale', None), ('model', LogisticRegression(C=0.1))])"
      ]
     },
     "execution_count": 34,
     "metadata": {},
     "output_type": "execute_result"
    }
   ],
   "source": [
    "model.fit(X_train, y_train.values.ravel())"
   ]
  },
  {
   "cell_type": "code",
   "execution_count": 35,
   "id": "6e15e313",
   "metadata": {
    "execution": {
     "iopub.execute_input": "2025-08-19T18:45:46.483399Z",
     "iopub.status.busy": "2025-08-19T18:45:46.482983Z",
     "iopub.status.idle": "2025-08-19T18:45:46.585684Z",
     "shell.execute_reply": "2025-08-19T18:45:46.584973Z"
    },
    "papermill": {
     "duration": 0.116622,
     "end_time": "2025-08-19T18:45:46.587777",
     "exception": false,
     "start_time": "2025-08-19T18:45:46.471155",
     "status": "completed"
    },
    "tags": []
   },
   "outputs": [
    {
     "data": {
      "text/plain": [
       "0.8634377438412663"
      ]
     },
     "execution_count": 35,
     "metadata": {},
     "output_type": "execute_result"
    }
   ],
   "source": [
    "from fairness_multiverse.universe import predict_w_threshold\n",
    "\n",
    "probs_test = model.predict_proba(X_test)\n",
    "\n",
    "'''\n",
    "Below code returns a boolean array (or binary 0/1 array depending on how it’s used) where each element \n",
    "is True if the probability of class 1 is greater than or equal to the threshold, and False otherwise.\n",
    "'''\n",
    "y_pred_default = predict_w_threshold(probs_test, 0.5)\n",
    "\n",
    "from sklearn.metrics import accuracy_score\n",
    "\n",
    "# Naive prediction\n",
    "accuracy_score(y_true = y_true, y_pred = y_pred_default)"
   ]
  },
  {
   "cell_type": "code",
   "execution_count": 36,
   "id": "6f14067c",
   "metadata": {
    "execution": {
     "iopub.execute_input": "2025-08-19T18:45:46.620569Z",
     "iopub.status.busy": "2025-08-19T18:45:46.620128Z",
     "iopub.status.idle": "2025-08-19T18:45:46.711485Z",
     "shell.execute_reply": "2025-08-19T18:45:46.710251Z"
    },
    "papermill": {
     "duration": 0.107083,
     "end_time": "2025-08-19T18:45:46.712832",
     "exception": false,
     "start_time": "2025-08-19T18:45:46.605749",
     "status": "completed"
    },
    "tags": []
   },
   "outputs": [
    {
     "data": {
      "text/plain": [
       "array([0, 0, 0, ..., 0, 0, 0])"
      ]
     },
     "execution_count": 36,
     "metadata": {},
     "output_type": "execute_result"
    }
   ],
   "source": [
    "model.predict(X_test)"
   ]
  },
  {
   "cell_type": "markdown",
   "id": "3759920c",
   "metadata": {
    "papermill": {
     "duration": 0.015392,
     "end_time": "2025-08-19T18:45:46.743116",
     "exception": false,
     "start_time": "2025-08-19T18:45:46.727724",
     "status": "completed"
    },
    "tags": []
   },
   "source": [
    "# Conformal Prediction"
   ]
  },
  {
   "cell_type": "code",
   "execution_count": 37,
   "id": "14b27f59",
   "metadata": {
    "execution": {
     "iopub.execute_input": "2025-08-19T18:45:46.766465Z",
     "iopub.status.busy": "2025-08-19T18:45:46.766029Z",
     "iopub.status.idle": "2025-08-19T18:45:46.774713Z",
     "shell.execute_reply": "2025-08-19T18:45:46.773307Z"
    },
    "papermill": {
     "duration": 0.023534,
     "end_time": "2025-08-19T18:45:46.777852",
     "exception": false,
     "start_time": "2025-08-19T18:45:46.754318",
     "status": "completed"
    },
    "tags": []
   },
   "outputs": [],
   "source": [
    "# Miscoverage level for conformal prediction (10% allowed error rate => 90% target coverage)\n",
    "alpha = 0.1"
   ]
  },
  {
   "cell_type": "code",
   "execution_count": 38,
   "id": "59102472",
   "metadata": {
    "execution": {
     "iopub.execute_input": "2025-08-19T18:45:46.816204Z",
     "iopub.status.busy": "2025-08-19T18:45:46.815713Z",
     "iopub.status.idle": "2025-08-19T18:45:46.911186Z",
     "shell.execute_reply": "2025-08-19T18:45:46.910429Z"
    },
    "papermill": {
     "duration": 0.113228,
     "end_time": "2025-08-19T18:45:46.913032",
     "exception": false,
     "start_time": "2025-08-19T18:45:46.799804",
     "status": "completed"
    },
    "tags": []
   },
   "outputs": [],
   "source": [
    "probs_calib = model.predict_proba(X_calib)"
   ]
  },
  {
   "cell_type": "code",
   "execution_count": 39,
   "id": "a792d4dd",
   "metadata": {
    "execution": {
     "iopub.execute_input": "2025-08-19T18:45:46.938984Z",
     "iopub.status.busy": "2025-08-19T18:45:46.938517Z",
     "iopub.status.idle": "2025-08-19T18:45:46.943553Z",
     "shell.execute_reply": "2025-08-19T18:45:46.942828Z"
    },
    "papermill": {
     "duration": 0.018566,
     "end_time": "2025-08-19T18:45:46.944738",
     "exception": false,
     "start_time": "2025-08-19T18:45:46.926172",
     "status": "completed"
    },
    "tags": []
   },
   "outputs": [],
   "source": [
    "y_calib = y_calib.values.ravel().astype(int)"
   ]
  },
  {
   "cell_type": "code",
   "execution_count": 40,
   "id": "650fd033",
   "metadata": {
    "execution": {
     "iopub.execute_input": "2025-08-19T18:45:46.969171Z",
     "iopub.status.busy": "2025-08-19T18:45:46.968279Z",
     "iopub.status.idle": "2025-08-19T18:45:46.974287Z",
     "shell.execute_reply": "2025-08-19T18:45:46.973605Z"
    },
    "papermill": {
     "duration": 0.019446,
     "end_time": "2025-08-19T18:45:46.975463",
     "exception": false,
     "start_time": "2025-08-19T18:45:46.956017",
     "status": "completed"
    },
    "tags": []
   },
   "outputs": [],
   "source": [
    "from fairness_multiverse.conformal import compute_nc_scores\n",
    "\n",
    "# Compute nonconformity scores on calibration set (1 - probability of true class)\n",
    "nc_scores = compute_nc_scores(probs_calib, y_calib)"
   ]
  },
  {
   "cell_type": "code",
   "execution_count": 41,
   "id": "28ada44c",
   "metadata": {
    "execution": {
     "iopub.execute_input": "2025-08-19T18:45:46.999596Z",
     "iopub.status.busy": "2025-08-19T18:45:46.999270Z",
     "iopub.status.idle": "2025-08-19T18:45:47.005429Z",
     "shell.execute_reply": "2025-08-19T18:45:47.004603Z"
    },
    "papermill": {
     "duration": 0.02478,
     "end_time": "2025-08-19T18:45:47.011833",
     "exception": false,
     "start_time": "2025-08-19T18:45:46.987053",
     "status": "completed"
    },
    "tags": []
   },
   "outputs": [],
   "source": [
    "from fairness_multiverse.conformal import find_threshold\n",
    "\n",
    "# Find conformal threshold q_hat for the given alpha (split conformal method)\n",
    "q_hat = find_threshold(nc_scores, alpha)"
   ]
  },
  {
   "cell_type": "code",
   "execution_count": 42,
   "id": "df56469e",
   "metadata": {
    "execution": {
     "iopub.execute_input": "2025-08-19T18:45:47.063815Z",
     "iopub.status.busy": "2025-08-19T18:45:47.063329Z",
     "iopub.status.idle": "2025-08-19T18:45:47.069954Z",
     "shell.execute_reply": "2025-08-19T18:45:47.069265Z"
    },
    "papermill": {
     "duration": 0.032803,
     "end_time": "2025-08-19T18:45:47.073368",
     "exception": false,
     "start_time": "2025-08-19T18:45:47.040565",
     "status": "completed"
    },
    "tags": []
   },
   "outputs": [
    {
     "data": {
      "text/plain": [
       "0.7003876678612819"
      ]
     },
     "execution_count": 42,
     "metadata": {},
     "output_type": "execute_result"
    }
   ],
   "source": [
    "q_hat"
   ]
  },
  {
   "cell_type": "code",
   "execution_count": 43,
   "id": "aa1f5faa",
   "metadata": {
    "execution": {
     "iopub.execute_input": "2025-08-19T18:45:47.104932Z",
     "iopub.status.busy": "2025-08-19T18:45:47.104297Z",
     "iopub.status.idle": "2025-08-19T18:45:47.689035Z",
     "shell.execute_reply": "2025-08-19T18:45:47.688314Z"
    },
    "papermill": {
     "duration": 0.600442,
     "end_time": "2025-08-19T18:45:47.690527",
     "exception": false,
     "start_time": "2025-08-19T18:45:47.090085",
     "status": "completed"
    },
    "tags": []
   },
   "outputs": [],
   "source": [
    "from fairness_multiverse.conformal import predict_conformal_sets\n",
    "\n",
    "# Generate prediction sets for each test example\n",
    "pred_sets = predict_conformal_sets(model, X_test, q_hat)"
   ]
  },
  {
   "cell_type": "code",
   "execution_count": 44,
   "id": "97f67a6b",
   "metadata": {
    "execution": {
     "iopub.execute_input": "2025-08-19T18:45:47.718784Z",
     "iopub.status.busy": "2025-08-19T18:45:47.718256Z",
     "iopub.status.idle": "2025-08-19T18:45:47.723841Z",
     "shell.execute_reply": "2025-08-19T18:45:47.723000Z"
    },
    "papermill": {
     "duration": 0.020777,
     "end_time": "2025-08-19T18:45:47.725038",
     "exception": false,
     "start_time": "2025-08-19T18:45:47.704261",
     "status": "completed"
    },
    "tags": []
   },
   "outputs": [],
   "source": [
    "y_true = y_true.squeeze()"
   ]
  },
  {
   "cell_type": "code",
   "execution_count": 45,
   "id": "e700e9a7",
   "metadata": {
    "execution": {
     "iopub.execute_input": "2025-08-19T18:45:47.753072Z",
     "iopub.status.busy": "2025-08-19T18:45:47.752604Z",
     "iopub.status.idle": "2025-08-19T18:45:48.273780Z",
     "shell.execute_reply": "2025-08-19T18:45:48.272546Z"
    },
    "papermill": {
     "duration": 0.536623,
     "end_time": "2025-08-19T18:45:48.275390",
     "exception": false,
     "start_time": "2025-08-19T18:45:47.738767",
     "status": "completed"
    },
    "tags": []
   },
   "outputs": [],
   "source": [
    "from fairness_multiverse.conformal import evaluate_sets\n",
    "\n",
    "# Evaluate coverage and average set size on test data\n",
    "metrics = evaluate_sets(pred_sets, y_true)"
   ]
  },
  {
   "cell_type": "markdown",
   "id": "efbacec0",
   "metadata": {
    "papermill": {
     "duration": 0.011561,
     "end_time": "2025-08-19T18:45:48.299332",
     "exception": false,
     "start_time": "2025-08-19T18:45:48.287771",
     "status": "completed"
    },
    "tags": []
   },
   "source": [
    "# CP Metrics"
   ]
  },
  {
   "cell_type": "code",
   "execution_count": 46,
   "id": "9de55fb1",
   "metadata": {
    "execution": {
     "iopub.execute_input": "2025-08-19T18:45:48.324017Z",
     "iopub.status.busy": "2025-08-19T18:45:48.323467Z",
     "iopub.status.idle": "2025-08-19T18:45:48.330573Z",
     "shell.execute_reply": "2025-08-19T18:45:48.329928Z"
    },
    "papermill": {
     "duration": 0.028985,
     "end_time": "2025-08-19T18:45:48.339609",
     "exception": false,
     "start_time": "2025-08-19T18:45:48.310624",
     "status": "completed"
    },
    "tags": []
   },
   "outputs": [
    {
     "data": {
      "text/plain": [
       "{'coverage': 0.9127522015382901, 'avg_size': 1.206587894326162}"
      ]
     },
     "execution_count": 46,
     "metadata": {},
     "output_type": "execute_result"
    }
   ],
   "source": [
    "metrics"
   ]
  },
  {
   "cell_type": "code",
   "execution_count": 47,
   "id": "64c340a1",
   "metadata": {
    "execution": {
     "iopub.execute_input": "2025-08-19T18:45:48.364534Z",
     "iopub.status.busy": "2025-08-19T18:45:48.364096Z",
     "iopub.status.idle": "2025-08-19T18:45:48.369700Z",
     "shell.execute_reply": "2025-08-19T18:45:48.368979Z"
    },
    "papermill": {
     "duration": 0.019225,
     "end_time": "2025-08-19T18:45:48.370994",
     "exception": false,
     "start_time": "2025-08-19T18:45:48.351769",
     "status": "completed"
    },
    "tags": []
   },
   "outputs": [],
   "source": [
    "example_universe = universe.copy()\n",
    "universe_training_year = example_universe.get(\"training_year\")\n",
    "universe_training_size = example_universe.get(\"training_size\")\n",
    "universe_scale = example_universe.get(\"scale\")\n",
    "universe_model = example_universe.get(\"model\")\n",
    "universe_exclude_features = example_universe.get(\"exclude_features\")\n",
    "universe_exclude_subgroups = example_universe.get(\"exclude_subgroups\")"
   ]
  },
  {
   "cell_type": "code",
   "execution_count": 48,
   "id": "dbb53cb4",
   "metadata": {
    "execution": {
     "iopub.execute_input": "2025-08-19T18:45:48.403895Z",
     "iopub.status.busy": "2025-08-19T18:45:48.403441Z",
     "iopub.status.idle": "2025-08-19T18:45:48.409162Z",
     "shell.execute_reply": "2025-08-19T18:45:48.408202Z"
    },
    "papermill": {
     "duration": 0.034443,
     "end_time": "2025-08-19T18:45:48.418020",
     "exception": false,
     "start_time": "2025-08-19T18:45:48.383577",
     "status": "completed"
    },
    "tags": []
   },
   "outputs": [],
   "source": [
    "cp_metrics_dict = {\n",
    "    \"universe_id\": [universe_id],\n",
    "    \"universe_training_year\": [universe_training_year],\n",
    "    \"universe_training_size\": [universe_training_size],\n",
    "    \"universe_scale\": [universe_scale],\n",
    "    \"universe_model\": [universe_model],\n",
    "    \"universe_exclude_features\": [universe_exclude_features],\n",
    "    \"universe_exclude_subgroups\": [universe_exclude_subgroups],\n",
    "    \"q_hat\": [q_hat],\n",
    "    \"coverage\": [metrics[\"coverage\"]],\n",
    "    \"avg_size\": [metrics[\"avg_size\"]],\n",
    "}"
   ]
  },
  {
   "cell_type": "code",
   "execution_count": 49,
   "id": "0d70d4b2",
   "metadata": {
    "execution": {
     "iopub.execute_input": "2025-08-19T18:45:48.446677Z",
     "iopub.status.busy": "2025-08-19T18:45:48.445894Z",
     "iopub.status.idle": "2025-08-19T18:45:48.451638Z",
     "shell.execute_reply": "2025-08-19T18:45:48.450955Z"
    },
    "papermill": {
     "duration": 0.02146,
     "end_time": "2025-08-19T18:45:48.452877",
     "exception": false,
     "start_time": "2025-08-19T18:45:48.431417",
     "status": "completed"
    },
    "tags": []
   },
   "outputs": [],
   "source": [
    "cp_metrics_df = pd.DataFrame(cp_metrics_dict)"
   ]
  },
  {
   "cell_type": "code",
   "execution_count": 50,
   "id": "b494403c",
   "metadata": {
    "execution": {
     "iopub.execute_input": "2025-08-19T18:45:48.509084Z",
     "iopub.status.busy": "2025-08-19T18:45:48.508158Z",
     "iopub.status.idle": "2025-08-19T18:45:48.568981Z",
     "shell.execute_reply": "2025-08-19T18:45:48.568123Z"
    },
    "papermill": {
     "duration": 0.09183,
     "end_time": "2025-08-19T18:45:48.570895",
     "exception": false,
     "start_time": "2025-08-19T18:45:48.479065",
     "status": "completed"
    },
    "tags": []
   },
   "outputs": [
    {
     "data": {
      "text/html": [
       "<div>\n",
       "<style scoped>\n",
       "    .dataframe tbody tr th:only-of-type {\n",
       "        vertical-align: middle;\n",
       "    }\n",
       "\n",
       "    .dataframe tbody tr th {\n",
       "        vertical-align: top;\n",
       "    }\n",
       "\n",
       "    .dataframe thead th {\n",
       "        text-align: right;\n",
       "    }\n",
       "</style>\n",
       "<table border=\"1\" class=\"dataframe\">\n",
       "  <thead>\n",
       "    <tr style=\"text-align: right;\">\n",
       "      <th></th>\n",
       "      <th>universe_id</th>\n",
       "      <th>universe_training_year</th>\n",
       "      <th>universe_training_size</th>\n",
       "      <th>universe_scale</th>\n",
       "      <th>universe_model</th>\n",
       "      <th>universe_exclude_features</th>\n",
       "      <th>universe_exclude_subgroups</th>\n",
       "      <th>q_hat</th>\n",
       "      <th>coverage</th>\n",
       "      <th>avg_size</th>\n",
       "    </tr>\n",
       "  </thead>\n",
       "  <tbody>\n",
       "    <tr>\n",
       "      <th>0</th>\n",
       "      <td>6a4e1fa7800327574e12e3f66985ffb5</td>\n",
       "      <td>2010_14</td>\n",
       "      <td>5k</td>\n",
       "      <td>do-not-scale</td>\n",
       "      <td>penalized_logreg</td>\n",
       "      <td>sex</td>\n",
       "      <td>keep-all</td>\n",
       "      <td>0.700388</td>\n",
       "      <td>0.912752</td>\n",
       "      <td>1.206588</td>\n",
       "    </tr>\n",
       "  </tbody>\n",
       "</table>\n",
       "</div>"
      ],
      "text/plain": [
       "                        universe_id universe_training_year  \\\n",
       "0  6a4e1fa7800327574e12e3f66985ffb5                2010_14   \n",
       "\n",
       "  universe_training_size universe_scale    universe_model  \\\n",
       "0                     5k   do-not-scale  penalized_logreg   \n",
       "\n",
       "  universe_exclude_features universe_exclude_subgroups     q_hat  coverage  \\\n",
       "0                       sex                   keep-all  0.700388  0.912752   \n",
       "\n",
       "   avg_size  \n",
       "0  1.206588  "
      ]
     },
     "execution_count": 50,
     "metadata": {},
     "output_type": "execute_result"
    }
   ],
   "source": [
    "cp_metrics_df"
   ]
  },
  {
   "cell_type": "markdown",
   "id": "ed608b0b",
   "metadata": {
    "papermill": {
     "duration": 0.011808,
     "end_time": "2025-08-19T18:45:48.600697",
     "exception": false,
     "start_time": "2025-08-19T18:45:48.588889",
     "status": "completed"
    },
    "tags": []
   },
   "source": [
    "Conditional coverage & looking at subgroups"
   ]
  },
  {
   "cell_type": "code",
   "execution_count": 51,
   "id": "8968c366",
   "metadata": {
    "execution": {
     "iopub.execute_input": "2025-08-19T18:45:48.627626Z",
     "iopub.status.busy": "2025-08-19T18:45:48.626048Z",
     "iopub.status.idle": "2025-08-19T18:45:48.999491Z",
     "shell.execute_reply": "2025-08-19T18:45:48.998659Z"
    },
    "papermill": {
     "duration": 0.388798,
     "end_time": "2025-08-19T18:45:49.001150",
     "exception": false,
     "start_time": "2025-08-19T18:45:48.612352",
     "status": "completed"
    },
    "tags": []
   },
   "outputs": [],
   "source": [
    "from fairness_multiverse.conformal import build_cp_groups\n",
    "\n",
    "cp_groups_df = build_cp_groups(pred_sets, y_true, X_test.index, org_test)"
   ]
  },
  {
   "cell_type": "code",
   "execution_count": 52,
   "id": "292ddabf",
   "metadata": {
    "execution": {
     "iopub.execute_input": "2025-08-19T18:45:49.041548Z",
     "iopub.status.busy": "2025-08-19T18:45:49.040923Z",
     "iopub.status.idle": "2025-08-19T18:45:49.927048Z",
     "shell.execute_reply": "2025-08-19T18:45:49.924848Z"
    },
    "papermill": {
     "duration": 0.901633,
     "end_time": "2025-08-19T18:45:49.929192",
     "exception": false,
     "start_time": "2025-08-19T18:45:49.027559",
     "status": "completed"
    },
    "tags": []
   },
   "outputs": [],
   "source": [
    "# Define covered = 1 if true_label is in the predicted set\n",
    "cp_groups_df['covered'] = cp_groups_df.apply(\n",
    "    lambda r: int(r['true_label'] in r['pred_set']),\n",
    "    axis=1\n",
    ")"
   ]
  },
  {
   "cell_type": "code",
   "execution_count": 53,
   "id": "3a261692",
   "metadata": {
    "execution": {
     "iopub.execute_input": "2025-08-19T18:45:49.963546Z",
     "iopub.status.busy": "2025-08-19T18:45:49.962775Z",
     "iopub.status.idle": "2025-08-19T18:45:49.989762Z",
     "shell.execute_reply": "2025-08-19T18:45:49.988905Z"
    },
    "papermill": {
     "duration": 0.043669,
     "end_time": "2025-08-19T18:45:49.991217",
     "exception": false,
     "start_time": "2025-08-19T18:45:49.947548",
     "status": "completed"
    },
    "tags": []
   },
   "outputs": [],
   "source": [
    "subgroups = ['frau1','nongerman','nongerman_male','nongerman_female']\n",
    "\n",
    "# Conditional coverage for subgroup==1\n",
    "cond_coverage = {\n",
    "    g: cp_groups_df.loc[cp_groups_df[g]==1, 'covered'].mean()\n",
    "    for g in subgroups\n",
    "}"
   ]
  },
  {
   "cell_type": "code",
   "execution_count": 54,
   "id": "894fd600",
   "metadata": {
    "execution": {
     "iopub.execute_input": "2025-08-19T18:45:50.030900Z",
     "iopub.status.busy": "2025-08-19T18:45:50.030553Z",
     "iopub.status.idle": "2025-08-19T18:45:50.036111Z",
     "shell.execute_reply": "2025-08-19T18:45:50.035532Z"
    },
    "papermill": {
     "duration": 0.02854,
     "end_time": "2025-08-19T18:45:50.037260",
     "exception": false,
     "start_time": "2025-08-19T18:45:50.008720",
     "status": "completed"
    },
    "tags": []
   },
   "outputs": [
    {
     "data": {
      "text/plain": [
       "{'frau1': 0.9113088017252999,\n",
       " 'nongerman': 0.9331948576882052,\n",
       " 'nongerman_male': 0.9450598937224174,\n",
       " 'nongerman_female': 0.9135618479880775}"
      ]
     },
     "execution_count": 54,
     "metadata": {},
     "output_type": "execute_result"
    }
   ],
   "source": [
    "cond_coverage"
   ]
  },
  {
   "cell_type": "code",
   "execution_count": 55,
   "id": "942895c7",
   "metadata": {
    "execution": {
     "iopub.execute_input": "2025-08-19T18:45:50.066021Z",
     "iopub.status.busy": "2025-08-19T18:45:50.065187Z",
     "iopub.status.idle": "2025-08-19T18:45:50.075312Z",
     "shell.execute_reply": "2025-08-19T18:45:50.074152Z"
    },
    "papermill": {
     "duration": 0.026426,
     "end_time": "2025-08-19T18:45:50.076734",
     "exception": false,
     "start_time": "2025-08-19T18:45:50.050308",
     "status": "completed"
    },
    "tags": []
   },
   "outputs": [],
   "source": [
    "for subgroup, cov in cond_coverage.items():\n",
    "    cp_metrics_df[f\"cov_{subgroup}\"] = cov"
   ]
  },
  {
   "cell_type": "code",
   "execution_count": 56,
   "id": "3970120f",
   "metadata": {
    "execution": {
     "iopub.execute_input": "2025-08-19T18:45:50.109184Z",
     "iopub.status.busy": "2025-08-19T18:45:50.108038Z",
     "iopub.status.idle": "2025-08-19T18:45:50.137325Z",
     "shell.execute_reply": "2025-08-19T18:45:50.136545Z"
    },
    "papermill": {
     "duration": 0.048567,
     "end_time": "2025-08-19T18:45:50.139340",
     "exception": false,
     "start_time": "2025-08-19T18:45:50.090773",
     "status": "completed"
    },
    "tags": []
   },
   "outputs": [
    {
     "data": {
      "text/html": [
       "<div>\n",
       "<style scoped>\n",
       "    .dataframe tbody tr th:only-of-type {\n",
       "        vertical-align: middle;\n",
       "    }\n",
       "\n",
       "    .dataframe tbody tr th {\n",
       "        vertical-align: top;\n",
       "    }\n",
       "\n",
       "    .dataframe thead th {\n",
       "        text-align: right;\n",
       "    }\n",
       "</style>\n",
       "<table border=\"1\" class=\"dataframe\">\n",
       "  <thead>\n",
       "    <tr style=\"text-align: right;\">\n",
       "      <th></th>\n",
       "      <th>universe_id</th>\n",
       "      <th>universe_training_year</th>\n",
       "      <th>universe_training_size</th>\n",
       "      <th>universe_scale</th>\n",
       "      <th>universe_model</th>\n",
       "      <th>universe_exclude_features</th>\n",
       "      <th>universe_exclude_subgroups</th>\n",
       "      <th>q_hat</th>\n",
       "      <th>coverage</th>\n",
       "      <th>avg_size</th>\n",
       "      <th>cov_frau1</th>\n",
       "      <th>cov_nongerman</th>\n",
       "      <th>cov_nongerman_male</th>\n",
       "      <th>cov_nongerman_female</th>\n",
       "    </tr>\n",
       "  </thead>\n",
       "  <tbody>\n",
       "    <tr>\n",
       "      <th>0</th>\n",
       "      <td>6a4e1fa7800327574e12e3f66985ffb5</td>\n",
       "      <td>2010_14</td>\n",
       "      <td>5k</td>\n",
       "      <td>do-not-scale</td>\n",
       "      <td>penalized_logreg</td>\n",
       "      <td>sex</td>\n",
       "      <td>keep-all</td>\n",
       "      <td>0.700388</td>\n",
       "      <td>0.912752</td>\n",
       "      <td>1.206588</td>\n",
       "      <td>0.911309</td>\n",
       "      <td>0.933195</td>\n",
       "      <td>0.94506</td>\n",
       "      <td>0.913562</td>\n",
       "    </tr>\n",
       "  </tbody>\n",
       "</table>\n",
       "</div>"
      ],
      "text/plain": [
       "                        universe_id universe_training_year  \\\n",
       "0  6a4e1fa7800327574e12e3f66985ffb5                2010_14   \n",
       "\n",
       "  universe_training_size universe_scale    universe_model  \\\n",
       "0                     5k   do-not-scale  penalized_logreg   \n",
       "\n",
       "  universe_exclude_features universe_exclude_subgroups     q_hat  coverage  \\\n",
       "0                       sex                   keep-all  0.700388  0.912752   \n",
       "\n",
       "   avg_size  cov_frau1  cov_nongerman  cov_nongerman_male  \\\n",
       "0  1.206588   0.911309       0.933195             0.94506   \n",
       "\n",
       "   cov_nongerman_female  \n",
       "0              0.913562  "
      ]
     },
     "execution_count": 56,
     "metadata": {},
     "output_type": "execute_result"
    }
   ],
   "source": [
    "cp_metrics_df"
   ]
  },
  {
   "cell_type": "markdown",
   "id": "3fc519cc",
   "metadata": {
    "papermill": {
     "duration": 0.012305,
     "end_time": "2025-08-19T18:45:50.174195",
     "exception": false,
     "start_time": "2025-08-19T18:45:50.161890",
     "status": "completed"
    },
    "tags": []
   },
   "source": [
    "# (Fairness) Metrics"
   ]
  },
  {
   "cell_type": "code",
   "execution_count": 57,
   "id": "a2e5e155",
   "metadata": {
    "execution": {
     "iopub.execute_input": "2025-08-19T18:45:50.201845Z",
     "iopub.status.busy": "2025-08-19T18:45:50.200714Z",
     "iopub.status.idle": "2025-08-19T18:45:50.231052Z",
     "shell.execute_reply": "2025-08-19T18:45:50.230159Z"
    },
    "papermill": {
     "duration": 0.046528,
     "end_time": "2025-08-19T18:45:50.232847",
     "exception": false,
     "start_time": "2025-08-19T18:45:50.186319",
     "status": "completed"
    },
    "tags": []
   },
   "outputs": [],
   "source": [
    "colname_to_bin = \"maxdeutsch1\"\n",
    "majority_value = org_train[colname_to_bin].mode()[0]\n",
    "\n",
    "org_test[\"majmin\"] = np.where(org_test[colname_to_bin] == majority_value, \"majority\", \"minority\")"
   ]
  },
  {
   "cell_type": "code",
   "execution_count": 58,
   "id": "17e3e4d5",
   "metadata": {
    "execution": {
     "iopub.execute_input": "2025-08-19T18:45:50.299676Z",
     "iopub.status.busy": "2025-08-19T18:45:50.298856Z",
     "iopub.status.idle": "2025-08-19T18:45:52.042933Z",
     "shell.execute_reply": "2025-08-19T18:45:52.041450Z"
    },
    "papermill": {
     "duration": 1.771574,
     "end_time": "2025-08-19T18:45:52.044685",
     "exception": false,
     "start_time": "2025-08-19T18:45:50.273111",
     "status": "completed"
    },
    "tags": []
   },
   "outputs": [],
   "source": [
    "example_universe = universe.copy()\n",
    "example_universe[\"cutoff\"] = example_universe[\"cutoff\"][0]\n",
    "example_universe[\"eval_fairness_grouping\"] = example_universe[\"eval_fairness_grouping\"][0]\n",
    "fairness_dict, metric_frame = universe_analysis.compute_metrics(\n",
    "    example_universe,\n",
    "    y_pred_prob=probs_test,\n",
    "    y_test=y_true,\n",
    "    org_test=org_test,\n",
    ")"
   ]
  },
  {
   "cell_type": "markdown",
   "id": "1fb7a0e9",
   "metadata": {
    "papermill": {
     "duration": 0.012493,
     "end_time": "2025-08-19T18:45:52.069939",
     "exception": false,
     "start_time": "2025-08-19T18:45:52.057446",
     "status": "completed"
    },
    "tags": []
   },
   "source": [
    "# Overall"
   ]
  },
  {
   "cell_type": "markdown",
   "id": "be1784b1",
   "metadata": {
    "papermill": {
     "duration": 0.01223,
     "end_time": "2025-08-19T18:45:52.094371",
     "exception": false,
     "start_time": "2025-08-19T18:45:52.082141",
     "status": "completed"
    },
    "tags": []
   },
   "source": [
    "Main fairness target: Equalized Odds. Seems to be a better fit than equal opportunity, since we're not only interested in Y = 1. Seems to be a better fit than demographic parity, since we also care about accuracy, not just equal distribution of preds.\n",
    "\n",
    "Pick column for computation of fairness metrics\n",
    "\n",
    "Performance\n",
    "Overall performance measures, most interesting in relation to the measures split by group below"
   ]
  },
  {
   "cell_type": "code",
   "execution_count": 59,
   "id": "b7672bee",
   "metadata": {
    "execution": {
     "iopub.execute_input": "2025-08-19T18:45:52.121594Z",
     "iopub.status.busy": "2025-08-19T18:45:52.120937Z",
     "iopub.status.idle": "2025-08-19T18:45:52.132517Z",
     "shell.execute_reply": "2025-08-19T18:45:52.131421Z"
    },
    "papermill": {
     "duration": 0.027453,
     "end_time": "2025-08-19T18:45:52.134061",
     "exception": false,
     "start_time": "2025-08-19T18:45:52.106608",
     "status": "completed"
    },
    "tags": []
   },
   "outputs": [
    {
     "data": {
      "text/plain": [
       "accuracy                   0.218983\n",
       "balanced accuracy          0.536574\n",
       "f1                         0.240463\n",
       "precision                  0.137369\n",
       "false positive rate        0.890617\n",
       "false negative rate        0.036236\n",
       "selection rate             0.900000\n",
       "count                  89710.000000\n",
       "dtype: float64"
      ]
     },
     "execution_count": 59,
     "metadata": {},
     "output_type": "execute_result"
    }
   ],
   "source": [
    "metric_frame.overall"
   ]
  },
  {
   "cell_type": "markdown",
   "id": "d93333c9",
   "metadata": {
    "papermill": {
     "duration": 0.012418,
     "end_time": "2025-08-19T18:45:52.161789",
     "exception": false,
     "start_time": "2025-08-19T18:45:52.149371",
     "status": "completed"
    },
    "tags": []
   },
   "source": [
    "By Group"
   ]
  },
  {
   "cell_type": "code",
   "execution_count": 60,
   "id": "52256966",
   "metadata": {
    "execution": {
     "iopub.execute_input": "2025-08-19T18:45:52.187963Z",
     "iopub.status.busy": "2025-08-19T18:45:52.187599Z",
     "iopub.status.idle": "2025-08-19T18:45:52.203936Z",
     "shell.execute_reply": "2025-08-19T18:45:52.202645Z"
    },
    "papermill": {
     "duration": 0.031439,
     "end_time": "2025-08-19T18:45:52.205568",
     "exception": false,
     "start_time": "2025-08-19T18:45:52.174129",
     "status": "completed"
    },
    "tags": []
   },
   "outputs": [
    {
     "data": {
      "text/html": [
       "<div>\n",
       "<style scoped>\n",
       "    .dataframe tbody tr th:only-of-type {\n",
       "        vertical-align: middle;\n",
       "    }\n",
       "\n",
       "    .dataframe tbody tr th {\n",
       "        vertical-align: top;\n",
       "    }\n",
       "\n",
       "    .dataframe thead th {\n",
       "        text-align: right;\n",
       "    }\n",
       "</style>\n",
       "<table border=\"1\" class=\"dataframe\">\n",
       "  <thead>\n",
       "    <tr style=\"text-align: right;\">\n",
       "      <th></th>\n",
       "      <th>accuracy</th>\n",
       "      <th>balanced accuracy</th>\n",
       "      <th>f1</th>\n",
       "      <th>precision</th>\n",
       "      <th>false positive rate</th>\n",
       "      <th>false negative rate</th>\n",
       "      <th>selection rate</th>\n",
       "      <th>count</th>\n",
       "    </tr>\n",
       "    <tr>\n",
       "      <th>majmin</th>\n",
       "      <th></th>\n",
       "      <th></th>\n",
       "      <th></th>\n",
       "      <th></th>\n",
       "      <th></th>\n",
       "      <th></th>\n",
       "      <th></th>\n",
       "      <th></th>\n",
       "    </tr>\n",
       "  </thead>\n",
       "  <tbody>\n",
       "    <tr>\n",
       "      <th>majority</th>\n",
       "      <td>0.240798</td>\n",
       "      <td>0.544794</td>\n",
       "      <td>0.250079</td>\n",
       "      <td>0.143810</td>\n",
       "      <td>0.868399</td>\n",
       "      <td>0.042013</td>\n",
       "      <td>0.880237</td>\n",
       "      <td>69170.0</td>\n",
       "    </tr>\n",
       "    <tr>\n",
       "      <th>minority</th>\n",
       "      <td>0.145521</td>\n",
       "      <td>0.511027</td>\n",
       "      <td>0.210162</td>\n",
       "      <td>0.117614</td>\n",
       "      <td>0.964011</td>\n",
       "      <td>0.013936</td>\n",
       "      <td>0.966553</td>\n",
       "      <td>20540.0</td>\n",
       "    </tr>\n",
       "  </tbody>\n",
       "</table>\n",
       "</div>"
      ],
      "text/plain": [
       "          accuracy  balanced accuracy        f1  precision  \\\n",
       "majmin                                                       \n",
       "majority  0.240798           0.544794  0.250079   0.143810   \n",
       "minority  0.145521           0.511027  0.210162   0.117614   \n",
       "\n",
       "          false positive rate  false negative rate  selection rate    count  \n",
       "majmin                                                                       \n",
       "majority             0.868399             0.042013        0.880237  69170.0  \n",
       "minority             0.964011             0.013936        0.966553  20540.0  "
      ]
     },
     "execution_count": 60,
     "metadata": {},
     "output_type": "execute_result"
    }
   ],
   "source": [
    "metric_frame.by_group"
   ]
  },
  {
   "cell_type": "code",
   "execution_count": 61,
   "id": "6e6c20ae",
   "metadata": {
    "execution": {
     "iopub.execute_input": "2025-08-19T18:45:52.241167Z",
     "iopub.status.busy": "2025-08-19T18:45:52.240188Z",
     "iopub.status.idle": "2025-08-19T18:45:54.251365Z",
     "shell.execute_reply": "2025-08-19T18:45:54.249921Z"
    },
    "papermill": {
     "duration": 2.028798,
     "end_time": "2025-08-19T18:45:54.254130",
     "exception": false,
     "start_time": "2025-08-19T18:45:52.225332",
     "status": "completed"
    },
    "tags": []
   },
   "outputs": [
    {
     "data": {
      "text/plain": [
       "array([[<Axes: title={'center': 'accuracy'}, xlabel='majmin'>,\n",
       "        <Axes: title={'center': 'balanced accuracy'}, xlabel='majmin'>,\n",
       "        <Axes: title={'center': 'f1'}, xlabel='majmin'>],\n",
       "       [<Axes: title={'center': 'precision'}, xlabel='majmin'>,\n",
       "        <Axes: title={'center': 'false positive rate'}, xlabel='majmin'>,\n",
       "        <Axes: title={'center': 'false negative rate'}, xlabel='majmin'>],\n",
       "       [<Axes: title={'center': 'selection rate'}, xlabel='majmin'>,\n",
       "        <Axes: title={'center': 'count'}, xlabel='majmin'>,\n",
       "        <Axes: xlabel='majmin'>]], dtype=object)"
      ]
     },
     "execution_count": 61,
     "metadata": {},
     "output_type": "execute_result"
    },
    {
     "data": {
      "image/png": "[encoded data removed]",
      "text/plain": [
       "<Figure size 1200x800 with 9 Axes>"
      ]
     },
     "metadata": {},
     "output_type": "display_data"
    }
   ],
   "source": [
    "# In a graphic\n",
    "metric_frame.by_group.plot.bar(\n",
    "    subplots=True,\n",
    "    layout=[3, 3],\n",
    "    legend=False,\n",
    "    figsize=[12, 8],\n",
    "    title=\"Show all metrics\",\n",
    ")"
   ]
  },
  {
   "cell_type": "markdown",
   "id": "b2e433ae",
   "metadata": {
    "papermill": {
     "duration": 0.013837,
     "end_time": "2025-08-19T18:45:54.294802",
     "exception": false,
     "start_time": "2025-08-19T18:45:54.280965",
     "status": "completed"
    },
    "tags": []
   },
   "source": [
    "# Final Output"
   ]
  },
  {
   "cell_type": "code",
   "execution_count": 62,
   "id": "3871301e",
   "metadata": {
    "execution": {
     "iopub.execute_input": "2025-08-19T18:45:54.325286Z",
     "iopub.status.busy": "2025-08-19T18:45:54.324176Z",
     "iopub.status.idle": "2025-08-19T18:45:54.334669Z",
     "shell.execute_reply": "2025-08-19T18:45:54.334001Z"
    },
    "papermill": {
     "duration": 0.028347,
     "end_time": "2025-08-19T18:45:54.337134",
     "exception": false,
     "start_time": "2025-08-19T18:45:54.308787",
     "status": "completed"
    },
    "tags": []
   },
   "outputs": [
    {
     "data": {
      "text/plain": [
       "4"
      ]
     },
     "execution_count": 62,
     "metadata": {},
     "output_type": "execute_result"
    }
   ],
   "source": [
    "sub_universes = universe_analysis.generate_sub_universes()\n",
    "len(sub_universes)"
   ]
  },
  {
   "cell_type": "code",
   "execution_count": 63,
   "id": "d9cfdaca",
   "metadata": {
    "execution": {
     "iopub.execute_input": "2025-08-19T18:45:54.384557Z",
     "iopub.status.busy": "2025-08-19T18:45:54.383307Z",
     "iopub.status.idle": "2025-08-19T18:45:54.394338Z",
     "shell.execute_reply": "2025-08-19T18:45:54.392605Z"
    },
    "papermill": {
     "duration": 0.030749,
     "end_time": "2025-08-19T18:45:54.395830",
     "exception": false,
     "start_time": "2025-08-19T18:45:54.365081",
     "status": "completed"
    },
    "tags": []
   },
   "outputs": [],
   "source": [
    "def filter_sub_universe_data(sub_universe, org_test):\n",
    "    # Keep all rows — no filtering\n",
    "    keep_rows_mask = np.ones(org_test.shape[0], dtype=bool)\n",
    "\n",
    "    print(f\"[INFO] Keeping all rows: {keep_rows_mask.sum()} rows retained.\")\n",
    "    return keep_rows_mask"
   ]
  },
  {
   "cell_type": "code",
   "execution_count": 64,
   "id": "2bc31ac1",
   "metadata": {
    "execution": {
     "iopub.execute_input": "2025-08-19T18:45:54.438305Z",
     "iopub.status.busy": "2025-08-19T18:45:54.437606Z",
     "iopub.status.idle": "2025-08-19T18:46:01.275959Z",
     "shell.execute_reply": "2025-08-19T18:46:01.274838Z"
    },
    "papermill": {
     "duration": 6.857609,
     "end_time": "2025-08-19T18:46:01.277619",
     "exception": false,
     "start_time": "2025-08-19T18:45:54.420010",
     "status": "completed"
    },
    "tags": []
   },
   "outputs": [
    {
     "name": "stdout",
     "output_type": "stream",
     "text": [
      "Stopping execution_time clock.\n",
      "[INFO] Keeping all rows: 89710 rows retained.\n"
     ]
    },
    {
     "name": "stdout",
     "output_type": "stream",
     "text": [
      "[INFO] Keeping all rows: 89710 rows retained.\n"
     ]
    },
    {
     "name": "stdout",
     "output_type": "stream",
     "text": [
      "[INFO] Keeping all rows: 89710 rows retained.\n"
     ]
    },
    {
     "name": "stdout",
     "output_type": "stream",
     "text": [
      "[INFO] Keeping all rows: 89710 rows retained.\n"
     ]
    },
    {
     "data": {
      "text/html": [
       "<div>\n",
       "<style scoped>\n",
       "    .dataframe tbody tr th:only-of-type {\n",
       "        vertical-align: middle;\n",
       "    }\n",
       "\n",
       "    .dataframe tbody tr th {\n",
       "        vertical-align: top;\n",
       "    }\n",
       "\n",
       "    .dataframe thead th {\n",
       "        text-align: right;\n",
       "    }\n",
       "</style>\n",
       "<table border=\"1\" class=\"dataframe\">\n",
       "  <thead>\n",
       "    <tr style=\"text-align: right;\">\n",
       "      <th></th>\n",
       "      <th>run_no</th>\n",
       "      <th>universe_id</th>\n",
       "      <th>universe_settings</th>\n",
       "      <th>execution_time</th>\n",
       "      <th>test_size_n</th>\n",
       "      <th>test_size_frac</th>\n",
       "      <th>fair_main_equalized_odds_difference</th>\n",
       "      <th>fair_main_equalized_odds_ratio</th>\n",
       "      <th>fair_main_demographic_parity_difference</th>\n",
       "      <th>fair_main_demographic_parity_ratio</th>\n",
       "      <th>...</th>\n",
       "      <th>perf_grp_precision_0</th>\n",
       "      <th>perf_grp_precision_1</th>\n",
       "      <th>perf_grp_false positive rate_0</th>\n",
       "      <th>perf_grp_false positive rate_1</th>\n",
       "      <th>perf_grp_false negative rate_0</th>\n",
       "      <th>perf_grp_false negative rate_1</th>\n",
       "      <th>perf_grp_selection rate_0</th>\n",
       "      <th>perf_grp_selection rate_1</th>\n",
       "      <th>perf_grp_count_0</th>\n",
       "      <th>perf_grp_count_1</th>\n",
       "    </tr>\n",
       "  </thead>\n",
       "  <tbody>\n",
       "    <tr>\n",
       "      <th>0</th>\n",
       "      <td>3</td>\n",
       "      <td>6a4e1fa7800327574e12e3f66985ffb5</td>\n",
       "      <td>{\"cutoff\": \"quantile_0.1\", \"eval_fairness_grou...</td>\n",
       "      <td>22.44077</td>\n",
       "      <td>89710</td>\n",
       "      <td>1.0</td>\n",
       "      <td>0.095611</td>\n",
       "      <td>0.900819</td>\n",
       "      <td>0.086316</td>\n",
       "      <td>0.910697</td>\n",
       "      <td>...</td>\n",
       "      <td>NaN</td>\n",
       "      <td>NaN</td>\n",
       "      <td>NaN</td>\n",
       "      <td>NaN</td>\n",
       "      <td>NaN</td>\n",
       "      <td>NaN</td>\n",
       "      <td>NaN</td>\n",
       "      <td>NaN</td>\n",
       "      <td>NaN</td>\n",
       "      <td>NaN</td>\n",
       "    </tr>\n",
       "    <tr>\n",
       "      <th>0</th>\n",
       "      <td>3</td>\n",
       "      <td>6a4e1fa7800327574e12e3f66985ffb5</td>\n",
       "      <td>{\"cutoff\": \"quantile_0.1\", \"eval_fairness_grou...</td>\n",
       "      <td>22.44077</td>\n",
       "      <td>89710</td>\n",
       "      <td>1.0</td>\n",
       "      <td>0.095611</td>\n",
       "      <td>0.900819</td>\n",
       "      <td>0.086316</td>\n",
       "      <td>0.910697</td>\n",
       "      <td>...</td>\n",
       "      <td>0.117614</td>\n",
       "      <td>0.143810</td>\n",
       "      <td>0.964011</td>\n",
       "      <td>0.868399</td>\n",
       "      <td>0.013936</td>\n",
       "      <td>0.042013</td>\n",
       "      <td>0.966553</td>\n",
       "      <td>0.880237</td>\n",
       "      <td>20540.0</td>\n",
       "      <td>69170.0</td>\n",
       "    </tr>\n",
       "    <tr>\n",
       "      <th>0</th>\n",
       "      <td>3</td>\n",
       "      <td>6a4e1fa7800327574e12e3f66985ffb5</td>\n",
       "      <td>{\"cutoff\": \"quantile_0.25\", \"eval_fairness_gro...</td>\n",
       "      <td>22.44077</td>\n",
       "      <td>89710</td>\n",
       "      <td>1.0</td>\n",
       "      <td>0.218872</td>\n",
       "      <td>0.756380</td>\n",
       "      <td>0.200106</td>\n",
       "      <td>0.778713</td>\n",
       "      <td>...</td>\n",
       "      <td>NaN</td>\n",
       "      <td>NaN</td>\n",
       "      <td>NaN</td>\n",
       "      <td>NaN</td>\n",
       "      <td>NaN</td>\n",
       "      <td>NaN</td>\n",
       "      <td>NaN</td>\n",
       "      <td>NaN</td>\n",
       "      <td>NaN</td>\n",
       "      <td>NaN</td>\n",
       "    </tr>\n",
       "    <tr>\n",
       "      <th>0</th>\n",
       "      <td>3</td>\n",
       "      <td>6a4e1fa7800327574e12e3f66985ffb5</td>\n",
       "      <td>{\"cutoff\": \"quantile_0.25\", \"eval_fairness_gro...</td>\n",
       "      <td>22.44077</td>\n",
       "      <td>89710</td>\n",
       "      <td>1.0</td>\n",
       "      <td>0.218872</td>\n",
       "      <td>0.756380</td>\n",
       "      <td>0.200106</td>\n",
       "      <td>0.778713</td>\n",
       "      <td>...</td>\n",
       "      <td>0.121029</td>\n",
       "      <td>0.162499</td>\n",
       "      <td>0.898415</td>\n",
       "      <td>0.679544</td>\n",
       "      <td>0.050676</td>\n",
       "      <td>0.134026</td>\n",
       "      <td>0.904284</td>\n",
       "      <td>0.704178</td>\n",
       "      <td>20540.0</td>\n",
       "      <td>69170.0</td>\n",
       "    </tr>\n",
       "  </tbody>\n",
       "</table>\n",
       "<p>4 rows × 50 columns</p>\n",
       "</div>"
      ],
      "text/plain": [
       "  run_no                       universe_id  \\\n",
       "0      3  6a4e1fa7800327574e12e3f66985ffb5   \n",
       "0      3  6a4e1fa7800327574e12e3f66985ffb5   \n",
       "0      3  6a4e1fa7800327574e12e3f66985ffb5   \n",
       "0      3  6a4e1fa7800327574e12e3f66985ffb5   \n",
       "\n",
       "                                   universe_settings  execution_time  \\\n",
       "0  {\"cutoff\": \"quantile_0.1\", \"eval_fairness_grou...        22.44077   \n",
       "0  {\"cutoff\": \"quantile_0.1\", \"eval_fairness_grou...        22.44077   \n",
       "0  {\"cutoff\": \"quantile_0.25\", \"eval_fairness_gro...        22.44077   \n",
       "0  {\"cutoff\": \"quantile_0.25\", \"eval_fairness_gro...        22.44077   \n",
       "\n",
       "   test_size_n  test_size_frac  fair_main_equalized_odds_difference  \\\n",
       "0        89710             1.0                             0.095611   \n",
       "0        89710             1.0                             0.095611   \n",
       "0        89710             1.0                             0.218872   \n",
       "0        89710             1.0                             0.218872   \n",
       "\n",
       "   fair_main_equalized_odds_ratio  fair_main_demographic_parity_difference  \\\n",
       "0                        0.900819                                 0.086316   \n",
       "0                        0.900819                                 0.086316   \n",
       "0                        0.756380                                 0.200106   \n",
       "0                        0.756380                                 0.200106   \n",
       "\n",
       "   fair_main_demographic_parity_ratio  ...  perf_grp_precision_0  \\\n",
       "0                            0.910697  ...                   NaN   \n",
       "0                            0.910697  ...              0.117614   \n",
       "0                            0.778713  ...                   NaN   \n",
       "0                            0.778713  ...              0.121029   \n",
       "\n",
       "   perf_grp_precision_1  perf_grp_false positive rate_0  \\\n",
       "0                   NaN                             NaN   \n",
       "0              0.143810                        0.964011   \n",
       "0                   NaN                             NaN   \n",
       "0              0.162499                        0.898415   \n",
       "\n",
       "   perf_grp_false positive rate_1  perf_grp_false negative rate_0  \\\n",
       "0                             NaN                             NaN   \n",
       "0                        0.868399                        0.013936   \n",
       "0                             NaN                             NaN   \n",
       "0                        0.679544                        0.050676   \n",
       "\n",
       "   perf_grp_false negative rate_1  perf_grp_selection rate_0  \\\n",
       "0                             NaN                        NaN   \n",
       "0                        0.042013                   0.966553   \n",
       "0                             NaN                        NaN   \n",
       "0                        0.134026                   0.904284   \n",
       "\n",
       "   perf_grp_selection rate_1  perf_grp_count_0  perf_grp_count_1  \n",
       "0                        NaN               NaN               NaN  \n",
       "0                   0.880237           20540.0           69170.0  \n",
       "0                        NaN               NaN               NaN  \n",
       "0                   0.704178           20540.0           69170.0  \n",
       "\n",
       "[4 rows x 50 columns]"
      ]
     },
     "execution_count": 64,
     "metadata": {},
     "output_type": "execute_result"
    }
   ],
   "source": [
    "final_output = universe_analysis.generate_final_output(\n",
    "    y_pred_prob=probs_test,\n",
    "    y_test=y_true,\n",
    "    org_test=org_test,\n",
    "    filter_data=filter_sub_universe_data,\n",
    "    cp_metrics_df=cp_metrics_df,\n",
    "    save=True,\n",
    ")\n",
    "final_output"
   ]
  },
  {
   "cell_type": "code",
   "execution_count": null,
   "id": "8b80a1ff",
   "metadata": {
    "papermill": {
     "duration": 0.018135,
     "end_time": "2025-08-19T18:46:01.314927",
     "exception": false,
     "start_time": "2025-08-19T18:46:01.296792",
     "status": "completed"
    },
    "tags": []
   },
   "outputs": [],
   "source": []
  },
  {
   "cell_type": "code",
   "execution_count": null,
   "id": "275c9fad",
   "metadata": {
    "papermill": {
     "duration": 0.014519,
     "end_time": "2025-08-19T18:46:01.351167",
     "exception": false,
     "start_time": "2025-08-19T18:46:01.336648",
     "status": "completed"
    },
    "tags": []
   },
   "outputs": [],
   "source": []
  }
 ],
 "metadata": {
  "celltoolbar": "Tags",
  "kernelspec": {
   "display_name": "Python (CMA Fairness)",
   "language": "python",
   "name": "cma_fair_env"
  },
  "language_info": {
   "codemirror_mode": {
    "name": "ipython",
    "version": 3
   },
   "file_extension": ".py",
   "mimetype": "text/x-python",
   "name": "python",
   "nbconvert_exporter": "python",
   "pygments_lexer": "ipython3",
   "version": "3.10.12"
  },
  "papermill": {
   "default_parameters": {},
   "duration": 33.109105,
   "end_time": "2025-08-19T18:46:02.298337",
   "environment_variables": {},
   "exception": null,
   "input_path": "universe_analysis.ipynb",
   "output_path": "output/runs/3/notebooks/m_3-6a4e1fa7800327574e12e3f66985ffb5.ipynb",
   "parameters": {
    "output_dir": "output",
    "run_no": "3",
    "seed": "2023",
    "universe": "{\"cutoff\": [\"quantile_0.1\", \"quantile_0.25\"], \"eval_fairness_grouping\": [\"majority-minority\", \"nationality-all\"], \"exclude_features\": \"sex\", \"exclude_subgroups\": \"keep-all\", \"model\": \"penalized_logreg\", \"scale\": \"do-not-scale\", \"training_size\": \"5k\", \"training_year\": \"2010_14\"}",
    "universe_id": "6a4e1fa7800327574e12e3f66985ffb5"
   },
   "start_time": "2025-08-19T18:45:29.189232",
   "version": "2.6.0"
  }
 },
 "nbformat": 4,
 "nbformat_minor": 5
}