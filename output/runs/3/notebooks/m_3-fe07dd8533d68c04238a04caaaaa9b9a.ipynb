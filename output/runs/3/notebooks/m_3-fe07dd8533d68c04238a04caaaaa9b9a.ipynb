{
 "cells": [
  {
   "cell_type": "markdown",
   "id": "ef23dbb3",
   "metadata": {
    "papermill": {
     "duration": 0.030501,
     "end_time": "2025-08-19T18:18:58.001383",
     "exception": false,
     "start_time": "2025-08-19T18:18:57.970882",
     "status": "completed"
    },
    "tags": []
   },
   "source": [
    "# Setup"
   ]
  },
  {
   "cell_type": "code",
   "execution_count": 1,
   "id": "0bc8e7dc",
   "metadata": {
    "execution": {
     "iopub.execute_input": "2025-08-19T18:18:58.022438Z",
     "iopub.status.busy": "2025-08-19T18:18:58.021301Z",
     "iopub.status.idle": "2025-08-19T18:18:58.044155Z",
     "shell.execute_reply": "2025-08-19T18:18:58.042911Z"
    },
    "papermill": {
     "duration": 0.035526,
     "end_time": "2025-08-19T18:18:58.045977",
     "exception": false,
     "start_time": "2025-08-19T18:18:58.010451",
     "status": "completed"
    },
    "tags": []
   },
   "outputs": [
    {
     "name": "stdout",
     "output_type": "stream",
     "text": [
      "/dss/dsshome1/0C/ra93lal2/cma/CMA_Fairness_v2\n"
     ]
    },
    {
     "name": "stderr",
     "output_type": "stream",
     "text": [
      "/dss/dsshome1/0C/ra93lal2/.local/share/virtualenvs/CMA_Fairness_v2-3j10GkSs/lib/python3.10/site-packages/IPython/core/magics/osm.py:393: UserWarning: This is now an optional IPython functionality, using bookmarks requires you to install the `pickleshare` library.\n",
      "  bkms = self.shell.db.get('bookmarks', {})\n",
      "/dss/dsshome1/0C/ra93lal2/.local/share/virtualenvs/CMA_Fairness_v2-3j10GkSs/lib/python3.10/site-packages/IPython/core/magics/osm.py:417: UserWarning: This is now an optional IPython functionality, setting dhist requires you to install the `pickleshare` library.\n",
      "  self.shell.db['dhist'] = compress_dhist(dhist)[-100:]\n"
     ]
    }
   ],
   "source": [
    "%cd ~/cma/CMA_Fairness_v2"
   ]
  },
  {
   "cell_type": "markdown",
   "id": "9d235661",
   "metadata": {
    "papermill": {
     "duration": 0.010366,
     "end_time": "2025-08-19T18:18:58.074286",
     "exception": false,
     "start_time": "2025-08-19T18:18:58.063920",
     "status": "completed"
    },
    "tags": []
   },
   "source": [
    "The following cell holds the definition of our parameters, these values can be overriden by rendering the with e.g. the following command:\n",
    "\n",
    "papermill -p alpha 0.2 -p ratio 0.3 universe_analysis.ipynb output/test_run.ipynb"
   ]
  },
  {
   "cell_type": "code",
   "execution_count": 2,
   "id": "4a789d8e",
   "metadata": {
    "execution": {
     "iopub.execute_input": "2025-08-19T18:18:58.095556Z",
     "iopub.status.busy": "2025-08-19T18:18:58.094430Z",
     "iopub.status.idle": "2025-08-19T18:18:58.106730Z",
     "shell.execute_reply": "2025-08-19T18:18:58.104529Z"
    },
    "papermill": {
     "duration": 0.025029,
     "end_time": "2025-08-19T18:18:58.108563",
     "exception": false,
     "start_time": "2025-08-19T18:18:58.083534",
     "status": "completed"
    },
    "tags": []
   },
   "outputs": [
    {
     "name": "stdout",
     "output_type": "stream",
     "text": [
      "Current working directory: /dss/dsshome1/0C/ra93lal2/cma/CMA_Fairness_v2\n"
     ]
    }
   ],
   "source": [
    "import os\n",
    "print(\"Current working directory:\", os.getcwd())"
   ]
  },
  {
   "cell_type": "code",
   "execution_count": 3,
   "id": "4132aaed",
   "metadata": {
    "execution": {
     "iopub.execute_input": "2025-08-19T18:18:58.142079Z",
     "iopub.status.busy": "2025-08-19T18:18:58.141544Z",
     "iopub.status.idle": "2025-08-19T18:18:58.147659Z",
     "shell.execute_reply": "2025-08-19T18:18:58.146664Z"
    },
    "papermill": {
     "duration": 0.027254,
     "end_time": "2025-08-19T18:18:58.152281",
     "exception": false,
     "start_time": "2025-08-19T18:18:58.125027",
     "status": "completed"
    },
    "tags": [
     "parameters"
    ]
   },
   "outputs": [],
   "source": [
    "run_no = 0\n",
    "universe_id = \"test\"\n",
    "universe = {\n",
    "    \"training_size\": \"5k\", # \"25k\", \"5k\", \"1k\"\n",
    "    \"training_year\": \"2012_14\", # \"2014\", \"2012_14\", \"2010_14\"\n",
    "    \"scale\": \"scale\", # \"scale\", \"do-not-scale\",\n",
    "    \"model\": \"elasticnet\", # \"logreg\", \"penalized_logreg\", \"rf\", \"gbm\", \"elasticnet\"\n",
    "    \"cutoff\": [\"quantile_0.15\", \"quantile_0.30\"],\n",
    "    \"exclude_features\": \"age\", # \"none\", \"nationality\", \"sex\", \"nationality-sex\", \"age\"\n",
    "    \"exclude_subgroups\": \"drop-non-german\", # \"keep-all\", \"drop-non-german\"\n",
    "    \"eval_fairness_grouping\": [\"majority-minority\", \"nationality-all\"]\n",
    "}\n",
    "\n",
    "output_dir=\"./output\"\n",
    "seed=0"
   ]
  },
  {
   "cell_type": "code",
   "execution_count": 4,
   "id": "06a75ca6",
   "metadata": {
    "execution": {
     "iopub.execute_input": "2025-08-19T18:18:58.185314Z",
     "iopub.status.busy": "2025-08-19T18:18:58.184790Z",
     "iopub.status.idle": "2025-08-19T18:18:58.190029Z",
     "shell.execute_reply": "2025-08-19T18:18:58.189130Z"
    },
    "papermill": {
     "duration": 0.019607,
     "end_time": "2025-08-19T18:18:58.191705",
     "exception": false,
     "start_time": "2025-08-19T18:18:58.172098",
     "status": "completed"
    },
    "tags": [
     "injected-parameters"
    ]
   },
   "outputs": [],
   "source": [
    "# Parameters\n",
    "universe_id = \"fe07dd8533d68c04238a04caaaaa9b9a\"\n",
    "run_no = \"3\"\n",
    "universe = \"{\\\"cutoff\\\": [\\\"quantile_0.1\\\", \\\"quantile_0.25\\\"], \\\"eval_fairness_grouping\\\": [\\\"majority-minority\\\", \\\"nationality-all\\\"], \\\"exclude_features\\\": \\\"age\\\", \\\"exclude_subgroups\\\": \\\"keep-all\\\", \\\"model\\\": \\\"penalized_logreg\\\", \\\"scale\\\": \\\"do-not-scale\\\", \\\"training_size\\\": \\\"25k\\\", \\\"training_year\\\": \\\"2010_14\\\"}\"\n",
    "output_dir = \"output\"\n",
    "seed = \"2023\"\n"
   ]
  },
  {
   "cell_type": "code",
   "execution_count": 5,
   "id": "a5d7941f",
   "metadata": {
    "execution": {
     "iopub.execute_input": "2025-08-19T18:18:58.214891Z",
     "iopub.status.busy": "2025-08-19T18:18:58.214441Z",
     "iopub.status.idle": "2025-08-19T18:18:58.219115Z",
     "shell.execute_reply": "2025-08-19T18:18:58.218232Z"
    },
    "papermill": {
     "duration": 0.016157,
     "end_time": "2025-08-19T18:18:58.220558",
     "exception": false,
     "start_time": "2025-08-19T18:18:58.204401",
     "status": "completed"
    },
    "tags": []
   },
   "outputs": [],
   "source": [
    "import json\n",
    "if isinstance(universe, str):\n",
    "    universe = json.loads(universe)"
   ]
  },
  {
   "cell_type": "code",
   "execution_count": 6,
   "id": "7076ccb1",
   "metadata": {
    "execution": {
     "iopub.execute_input": "2025-08-19T18:18:58.241395Z",
     "iopub.status.busy": "2025-08-19T18:18:58.240951Z",
     "iopub.status.idle": "2025-08-19T18:18:58.287670Z",
     "shell.execute_reply": "2025-08-19T18:18:58.286361Z"
    },
    "papermill": {
     "duration": 0.06047,
     "end_time": "2025-08-19T18:18:58.291175",
     "exception": false,
     "start_time": "2025-08-19T18:18:58.230705",
     "status": "completed"
    },
    "tags": []
   },
   "outputs": [],
   "source": [
    "# Auto-reload the custom package\n",
    "%load_ext autoreload\n",
    "%autoreload 1\n",
    "%aimport fairness_multiverse"
   ]
  },
  {
   "cell_type": "code",
   "execution_count": 7,
   "id": "94c8eb93",
   "metadata": {
    "execution": {
     "iopub.execute_input": "2025-08-19T18:18:58.323863Z",
     "iopub.status.busy": "2025-08-19T18:18:58.323167Z",
     "iopub.status.idle": "2025-08-19T18:19:00.043624Z",
     "shell.execute_reply": "2025-08-19T18:19:00.042467Z"
    },
    "papermill": {
     "duration": 1.73443,
     "end_time": "2025-08-19T18:19:00.045400",
     "exception": false,
     "start_time": "2025-08-19T18:18:58.310970",
     "status": "completed"
    },
    "tags": []
   },
   "outputs": [],
   "source": [
    "from fairness_multiverse.universe import UniverseAnalysis\n",
    "\n",
    "universe_analysis = UniverseAnalysis(\n",
    "    run_no = run_no,\n",
    "    universe_id = universe_id,\n",
    "    universe = universe,\n",
    "    output_dir=output_dir,\n",
    ")"
   ]
  },
  {
   "cell_type": "code",
   "execution_count": 8,
   "id": "2a6381cf",
   "metadata": {
    "execution": {
     "iopub.execute_input": "2025-08-19T18:19:00.085002Z",
     "iopub.status.busy": "2025-08-19T18:19:00.070779Z",
     "iopub.status.idle": "2025-08-19T18:19:00.091261Z",
     "shell.execute_reply": "2025-08-19T18:19:00.090199Z"
    },
    "papermill": {
     "duration": 0.034637,
     "end_time": "2025-08-19T18:19:00.092888",
     "exception": false,
     "start_time": "2025-08-19T18:19:00.058251",
     "status": "completed"
    },
    "tags": []
   },
   "outputs": [
    {
     "name": "stdout",
     "output_type": "stream",
     "text": [
      "Using Seed: 2023\n"
     ]
    }
   ],
   "source": [
    "import numpy as np\n",
    "parsed_seed = int(seed)\n",
    "np.random.seed(parsed_seed)\n",
    "print(f\"Using Seed: {parsed_seed}\")"
   ]
  },
  {
   "cell_type": "markdown",
   "id": "b6e958b4",
   "metadata": {
    "papermill": {
     "duration": 0.022133,
     "end_time": "2025-08-19T18:19:00.129908",
     "exception": false,
     "start_time": "2025-08-19T18:19:00.107775",
     "status": "completed"
    },
    "tags": []
   },
   "source": [
    "# Loading Data"
   ]
  },
  {
   "cell_type": "code",
   "execution_count": 9,
   "id": "98701482",
   "metadata": {
    "execution": {
     "iopub.execute_input": "2025-08-19T18:19:00.156584Z",
     "iopub.status.busy": "2025-08-19T18:19:00.156072Z",
     "iopub.status.idle": "2025-08-19T18:19:10.783652Z",
     "shell.execute_reply": "2025-08-19T18:19:10.782259Z"
    },
    "papermill": {
     "duration": 10.640152,
     "end_time": "2025-08-19T18:19:10.785150",
     "exception": false,
     "start_time": "2025-08-19T18:19:00.144998",
     "status": "completed"
    },
    "tags": []
   },
   "outputs": [
    {
     "name": "stdout",
     "output_type": "stream",
     "text": [
      "Loading SIAB data from cache: data/siab_cached.csv.gz\n"
     ]
    },
    {
     "name": "stdout",
     "output_type": "stream",
     "text": [
      "(643690, 164)\n"
     ]
    }
   ],
   "source": [
    "from pathlib import Path\n",
    "import pandas as pd\n",
    "\n",
    "# File paths\n",
    "raw_file = Path(\"data/raw/siab.csv\")\n",
    "cache_file = Path(\"data/siab_cached.csv.gz\")\n",
    "\n",
    "# Ensure cache directory exists\n",
    "cache_file.parent.mkdir(parents=True, exist_ok=True)\n",
    "\n",
    "# Load with simple caching\n",
    "if cache_file.exists():\n",
    "    print(f\"Loading SIAB data from cache: {cache_file}\")\n",
    "    siab = pd.read_csv(cache_file, compression='gzip')\n",
    "else:\n",
    "    print(f\"Cache not found. Reading raw SIAB data: {raw_file}\")\n",
    "    siab = pd.read_csv(raw_file)\n",
    "    siab.to_csv(cache_file, index=False, compression='gzip')\n",
    "    print(f\"Cached SIAB data to: {cache_file}\")\n",
    "\n",
    "print(siab.shape)"
   ]
  },
  {
   "cell_type": "code",
   "execution_count": 10,
   "id": "058d2abb",
   "metadata": {
    "execution": {
     "iopub.execute_input": "2025-08-19T18:19:10.810785Z",
     "iopub.status.busy": "2025-08-19T18:19:10.809971Z",
     "iopub.status.idle": "2025-08-19T18:19:10.962991Z",
     "shell.execute_reply": "2025-08-19T18:19:10.962061Z"
    },
    "papermill": {
     "duration": 0.166584,
     "end_time": "2025-08-19T18:19:10.964492",
     "exception": false,
     "start_time": "2025-08-19T18:19:10.797908",
     "status": "completed"
    },
    "tags": []
   },
   "outputs": [
    {
     "data": {
      "text/html": [
       "<div>\n",
       "<style scoped>\n",
       "    .dataframe tbody tr th:only-of-type {\n",
       "        vertical-align: middle;\n",
       "    }\n",
       "\n",
       "    .dataframe tbody tr th {\n",
       "        vertical-align: top;\n",
       "    }\n",
       "\n",
       "    .dataframe thead th {\n",
       "        text-align: right;\n",
       "    }\n",
       "</style>\n",
       "<table border=\"1\" class=\"dataframe\">\n",
       "  <thead>\n",
       "    <tr style=\"text-align: right;\">\n",
       "      <th></th>\n",
       "      <th>persnr</th>\n",
       "      <th>year</th>\n",
       "      <th>nrEntry</th>\n",
       "      <th>ltue</th>\n",
       "      <th>employed_before</th>\n",
       "      <th>receipt_leh_before</th>\n",
       "      <th>receipt_lhg_before</th>\n",
       "      <th>se_before</th>\n",
       "      <th>ASU_notue_seeking_before</th>\n",
       "      <th>ASU_other_before</th>\n",
       "      <th>...</th>\n",
       "      <th>minijob_tot_dur_byage</th>\n",
       "      <th>ft_tot_dur_byage</th>\n",
       "      <th>befrist_tot_dur_byage</th>\n",
       "      <th>leih_tot_dur_byage</th>\n",
       "      <th>LHG_tot_dur_byage</th>\n",
       "      <th>LEH_tot_dur_byage</th>\n",
       "      <th>almp_tot_dur_byage</th>\n",
       "      <th>almp_aw_tot_dur_byage</th>\n",
       "      <th>se_tot_dur_byage</th>\n",
       "      <th>seeking1_tot_dur_byage</th>\n",
       "    </tr>\n",
       "  </thead>\n",
       "  <tbody>\n",
       "    <tr>\n",
       "      <th>0</th>\n",
       "      <td>7</td>\n",
       "      <td>2015</td>\n",
       "      <td>1</td>\n",
       "      <td>0</td>\n",
       "      <td>1</td>\n",
       "      <td>0</td>\n",
       "      <td>0</td>\n",
       "      <td>0</td>\n",
       "      <td>1</td>\n",
       "      <td>0</td>\n",
       "      <td>...</td>\n",
       "      <td>0.000000</td>\n",
       "      <td>0.000000</td>\n",
       "      <td>15.043478</td>\n",
       "      <td>0.000000</td>\n",
       "      <td>0.000000</td>\n",
       "      <td>0.000000</td>\n",
       "      <td>0.000000</td>\n",
       "      <td>0.000000</td>\n",
       "      <td>0.000000</td>\n",
       "      <td>0.000000</td>\n",
       "    </tr>\n",
       "    <tr>\n",
       "      <th>1</th>\n",
       "      <td>18</td>\n",
       "      <td>2010</td>\n",
       "      <td>1</td>\n",
       "      <td>1</td>\n",
       "      <td>0</td>\n",
       "      <td>0</td>\n",
       "      <td>0</td>\n",
       "      <td>0</td>\n",
       "      <td>0</td>\n",
       "      <td>0</td>\n",
       "      <td>...</td>\n",
       "      <td>0.000000</td>\n",
       "      <td>0.000000</td>\n",
       "      <td>0.000000</td>\n",
       "      <td>0.000000</td>\n",
       "      <td>0.000000</td>\n",
       "      <td>0.000000</td>\n",
       "      <td>0.000000</td>\n",
       "      <td>0.000000</td>\n",
       "      <td>0.000000</td>\n",
       "      <td>0.000000</td>\n",
       "    </tr>\n",
       "    <tr>\n",
       "      <th>2</th>\n",
       "      <td>18</td>\n",
       "      <td>2011</td>\n",
       "      <td>2</td>\n",
       "      <td>0</td>\n",
       "      <td>1</td>\n",
       "      <td>0</td>\n",
       "      <td>1</td>\n",
       "      <td>0</td>\n",
       "      <td>1</td>\n",
       "      <td>0</td>\n",
       "      <td>...</td>\n",
       "      <td>2.714286</td>\n",
       "      <td>2.714286</td>\n",
       "      <td>0.000000</td>\n",
       "      <td>0.000000</td>\n",
       "      <td>10.775510</td>\n",
       "      <td>0.000000</td>\n",
       "      <td>8.367347</td>\n",
       "      <td>0.000000</td>\n",
       "      <td>0.000000</td>\n",
       "      <td>9.836735</td>\n",
       "    </tr>\n",
       "    <tr>\n",
       "      <th>3</th>\n",
       "      <td>18</td>\n",
       "      <td>2012</td>\n",
       "      <td>3</td>\n",
       "      <td>0</td>\n",
       "      <td>1</td>\n",
       "      <td>0</td>\n",
       "      <td>1</td>\n",
       "      <td>0</td>\n",
       "      <td>1</td>\n",
       "      <td>0</td>\n",
       "      <td>...</td>\n",
       "      <td>4.200000</td>\n",
       "      <td>4.200000</td>\n",
       "      <td>0.000000</td>\n",
       "      <td>0.000000</td>\n",
       "      <td>12.100000</td>\n",
       "      <td>0.000000</td>\n",
       "      <td>9.400000</td>\n",
       "      <td>0.000000</td>\n",
       "      <td>0.000000</td>\n",
       "      <td>9.960000</td>\n",
       "    </tr>\n",
       "    <tr>\n",
       "      <th>4</th>\n",
       "      <td>18</td>\n",
       "      <td>2012</td>\n",
       "      <td>4</td>\n",
       "      <td>0</td>\n",
       "      <td>1</td>\n",
       "      <td>0</td>\n",
       "      <td>1</td>\n",
       "      <td>0</td>\n",
       "      <td>1</td>\n",
       "      <td>0</td>\n",
       "      <td>...</td>\n",
       "      <td>5.460000</td>\n",
       "      <td>5.460000</td>\n",
       "      <td>0.000000</td>\n",
       "      <td>0.000000</td>\n",
       "      <td>13.360000</td>\n",
       "      <td>0.000000</td>\n",
       "      <td>10.320000</td>\n",
       "      <td>0.000000</td>\n",
       "      <td>0.000000</td>\n",
       "      <td>10.280000</td>\n",
       "    </tr>\n",
       "    <tr>\n",
       "      <th>...</th>\n",
       "      <td>...</td>\n",
       "      <td>...</td>\n",
       "      <td>...</td>\n",
       "      <td>...</td>\n",
       "      <td>...</td>\n",
       "      <td>...</td>\n",
       "      <td>...</td>\n",
       "      <td>...</td>\n",
       "      <td>...</td>\n",
       "      <td>...</td>\n",
       "      <td>...</td>\n",
       "      <td>...</td>\n",
       "      <td>...</td>\n",
       "      <td>...</td>\n",
       "      <td>...</td>\n",
       "      <td>...</td>\n",
       "      <td>...</td>\n",
       "      <td>...</td>\n",
       "      <td>...</td>\n",
       "      <td>...</td>\n",
       "      <td>...</td>\n",
       "    </tr>\n",
       "    <tr>\n",
       "      <th>643685</th>\n",
       "      <td>1827860</td>\n",
       "      <td>2013</td>\n",
       "      <td>1</td>\n",
       "      <td>0</td>\n",
       "      <td>0</td>\n",
       "      <td>0</td>\n",
       "      <td>1</td>\n",
       "      <td>0</td>\n",
       "      <td>0</td>\n",
       "      <td>1</td>\n",
       "      <td>...</td>\n",
       "      <td>0.000000</td>\n",
       "      <td>0.000000</td>\n",
       "      <td>0.000000</td>\n",
       "      <td>0.000000</td>\n",
       "      <td>0.612903</td>\n",
       "      <td>0.000000</td>\n",
       "      <td>0.000000</td>\n",
       "      <td>0.000000</td>\n",
       "      <td>0.000000</td>\n",
       "      <td>0.000000</td>\n",
       "    </tr>\n",
       "    <tr>\n",
       "      <th>643686</th>\n",
       "      <td>1827860</td>\n",
       "      <td>2015</td>\n",
       "      <td>2</td>\n",
       "      <td>1</td>\n",
       "      <td>0</td>\n",
       "      <td>0</td>\n",
       "      <td>1</td>\n",
       "      <td>0</td>\n",
       "      <td>1</td>\n",
       "      <td>0</td>\n",
       "      <td>...</td>\n",
       "      <td>0.000000</td>\n",
       "      <td>0.000000</td>\n",
       "      <td>0.212121</td>\n",
       "      <td>0.212121</td>\n",
       "      <td>17.363636</td>\n",
       "      <td>0.000000</td>\n",
       "      <td>8.909091</td>\n",
       "      <td>0.000000</td>\n",
       "      <td>0.000000</td>\n",
       "      <td>7.121212</td>\n",
       "    </tr>\n",
       "    <tr>\n",
       "      <th>643687</th>\n",
       "      <td>1827860</td>\n",
       "      <td>2016</td>\n",
       "      <td>3</td>\n",
       "      <td>1</td>\n",
       "      <td>0</td>\n",
       "      <td>0</td>\n",
       "      <td>1</td>\n",
       "      <td>1</td>\n",
       "      <td>0</td>\n",
       "      <td>1</td>\n",
       "      <td>...</td>\n",
       "      <td>0.000000</td>\n",
       "      <td>0.000000</td>\n",
       "      <td>0.294118</td>\n",
       "      <td>0.205882</td>\n",
       "      <td>34.705882</td>\n",
       "      <td>0.000000</td>\n",
       "      <td>10.352941</td>\n",
       "      <td>1.705882</td>\n",
       "      <td>1.705882</td>\n",
       "      <td>23.911765</td>\n",
       "    </tr>\n",
       "    <tr>\n",
       "      <th>643688</th>\n",
       "      <td>1827869</td>\n",
       "      <td>2013</td>\n",
       "      <td>1</td>\n",
       "      <td>1</td>\n",
       "      <td>1</td>\n",
       "      <td>0</td>\n",
       "      <td>0</td>\n",
       "      <td>0</td>\n",
       "      <td>1</td>\n",
       "      <td>0</td>\n",
       "      <td>...</td>\n",
       "      <td>0.000000</td>\n",
       "      <td>0.000000</td>\n",
       "      <td>0.000000</td>\n",
       "      <td>0.000000</td>\n",
       "      <td>0.000000</td>\n",
       "      <td>0.525424</td>\n",
       "      <td>0.000000</td>\n",
       "      <td>0.000000</td>\n",
       "      <td>0.000000</td>\n",
       "      <td>0.000000</td>\n",
       "    </tr>\n",
       "    <tr>\n",
       "      <th>643689</th>\n",
       "      <td>1827869</td>\n",
       "      <td>2014</td>\n",
       "      <td>2</td>\n",
       "      <td>0</td>\n",
       "      <td>0</td>\n",
       "      <td>1</td>\n",
       "      <td>0</td>\n",
       "      <td>0</td>\n",
       "      <td>1</td>\n",
       "      <td>0</td>\n",
       "      <td>...</td>\n",
       "      <td>0.000000</td>\n",
       "      <td>0.666667</td>\n",
       "      <td>0.666667</td>\n",
       "      <td>0.000000</td>\n",
       "      <td>0.000000</td>\n",
       "      <td>8.950000</td>\n",
       "      <td>1.033333</td>\n",
       "      <td>0.083333</td>\n",
       "      <td>0.083333</td>\n",
       "      <td>8.133333</td>\n",
       "    </tr>\n",
       "  </tbody>\n",
       "</table>\n",
       "<p>643690 rows × 164 columns</p>\n",
       "</div>"
      ],
      "text/plain": [
       "         persnr  year  nrEntry  ltue  employed_before  receipt_leh_before  \\\n",
       "0             7  2015        1     0                1                   0   \n",
       "1            18  2010        1     1                0                   0   \n",
       "2            18  2011        2     0                1                   0   \n",
       "3            18  2012        3     0                1                   0   \n",
       "4            18  2012        4     0                1                   0   \n",
       "...         ...   ...      ...   ...              ...                 ...   \n",
       "643685  1827860  2013        1     0                0                   0   \n",
       "643686  1827860  2015        2     1                0                   0   \n",
       "643687  1827860  2016        3     1                0                   0   \n",
       "643688  1827869  2013        1     1                1                   0   \n",
       "643689  1827869  2014        2     0                0                   1   \n",
       "\n",
       "        receipt_lhg_before  se_before  ASU_notue_seeking_before  \\\n",
       "0                        0          0                         1   \n",
       "1                        0          0                         0   \n",
       "2                        1          0                         1   \n",
       "3                        1          0                         1   \n",
       "4                        1          0                         1   \n",
       "...                    ...        ...                       ...   \n",
       "643685                   1          0                         0   \n",
       "643686                   1          0                         1   \n",
       "643687                   1          1                         0   \n",
       "643688                   0          0                         1   \n",
       "643689                   0          0                         1   \n",
       "\n",
       "        ASU_other_before  ...  minijob_tot_dur_byage  ft_tot_dur_byage  \\\n",
       "0                      0  ...               0.000000          0.000000   \n",
       "1                      0  ...               0.000000          0.000000   \n",
       "2                      0  ...               2.714286          2.714286   \n",
       "3                      0  ...               4.200000          4.200000   \n",
       "4                      0  ...               5.460000          5.460000   \n",
       "...                  ...  ...                    ...               ...   \n",
       "643685                 1  ...               0.000000          0.000000   \n",
       "643686                 0  ...               0.000000          0.000000   \n",
       "643687                 1  ...               0.000000          0.000000   \n",
       "643688                 0  ...               0.000000          0.000000   \n",
       "643689                 0  ...               0.000000          0.666667   \n",
       "\n",
       "        befrist_tot_dur_byage  leih_tot_dur_byage  LHG_tot_dur_byage  \\\n",
       "0                   15.043478            0.000000           0.000000   \n",
       "1                    0.000000            0.000000           0.000000   \n",
       "2                    0.000000            0.000000          10.775510   \n",
       "3                    0.000000            0.000000          12.100000   \n",
       "4                    0.000000            0.000000          13.360000   \n",
       "...                       ...                 ...                ...   \n",
       "643685               0.000000            0.000000           0.612903   \n",
       "643686               0.212121            0.212121          17.363636   \n",
       "643687               0.294118            0.205882          34.705882   \n",
       "643688               0.000000            0.000000           0.000000   \n",
       "643689               0.666667            0.000000           0.000000   \n",
       "\n",
       "        LEH_tot_dur_byage  almp_tot_dur_byage  almp_aw_tot_dur_byage  \\\n",
       "0                0.000000            0.000000               0.000000   \n",
       "1                0.000000            0.000000               0.000000   \n",
       "2                0.000000            8.367347               0.000000   \n",
       "3                0.000000            9.400000               0.000000   \n",
       "4                0.000000           10.320000               0.000000   \n",
       "...                   ...                 ...                    ...   \n",
       "643685           0.000000            0.000000               0.000000   \n",
       "643686           0.000000            8.909091               0.000000   \n",
       "643687           0.000000           10.352941               1.705882   \n",
       "643688           0.525424            0.000000               0.000000   \n",
       "643689           8.950000            1.033333               0.083333   \n",
       "\n",
       "        se_tot_dur_byage  seeking1_tot_dur_byage  \n",
       "0               0.000000                0.000000  \n",
       "1               0.000000                0.000000  \n",
       "2               0.000000                9.836735  \n",
       "3               0.000000                9.960000  \n",
       "4               0.000000               10.280000  \n",
       "...                  ...                     ...  \n",
       "643685          0.000000                0.000000  \n",
       "643686          0.000000                7.121212  \n",
       "643687          1.705882               23.911765  \n",
       "643688          0.000000                0.000000  \n",
       "643689          0.083333                8.133333  \n",
       "\n",
       "[643690 rows x 164 columns]"
      ]
     },
     "execution_count": 10,
     "metadata": {},
     "output_type": "execute_result"
    }
   ],
   "source": [
    "siab"
   ]
  },
  {
   "cell_type": "markdown",
   "id": "1f87e805",
   "metadata": {
    "papermill": {
     "duration": 0.010676,
     "end_time": "2025-08-19T18:19:10.986798",
     "exception": false,
     "start_time": "2025-08-19T18:19:10.976122",
     "status": "completed"
    },
    "tags": []
   },
   "source": [
    "# Splitting Data and Setting Training Data Size"
   ]
  },
  {
   "cell_type": "code",
   "execution_count": 11,
   "id": "910ae358",
   "metadata": {
    "execution": {
     "iopub.execute_input": "2025-08-19T18:19:11.010360Z",
     "iopub.status.busy": "2025-08-19T18:19:11.009381Z",
     "iopub.status.idle": "2025-08-19T18:19:12.249866Z",
     "shell.execute_reply": "2025-08-19T18:19:12.248866Z"
    },
    "papermill": {
     "duration": 1.255182,
     "end_time": "2025-08-19T18:19:12.251571",
     "exception": false,
     "start_time": "2025-08-19T18:19:10.996389",
     "status": "completed"
    },
    "tags": []
   },
   "outputs": [],
   "source": [
    "from fairness_multiverse.universe import sample_by_year_size\n",
    "\n",
    "siab_train = sample_by_year_size(siab,\n",
    "                               training_year=universe[\"training_year\"],\n",
    "                               training_size=universe[\"training_size\"])"
   ]
  },
  {
   "cell_type": "code",
   "execution_count": 12,
   "id": "919c8ff5",
   "metadata": {
    "execution": {
     "iopub.execute_input": "2025-08-19T18:19:12.276845Z",
     "iopub.status.busy": "2025-08-19T18:19:12.276367Z",
     "iopub.status.idle": "2025-08-19T18:19:12.288383Z",
     "shell.execute_reply": "2025-08-19T18:19:12.287213Z"
    },
    "papermill": {
     "duration": 0.028832,
     "end_time": "2025-08-19T18:19:12.290646",
     "exception": false,
     "start_time": "2025-08-19T18:19:12.261814",
     "status": "completed"
    },
    "tags": []
   },
   "outputs": [
    {
     "data": {
      "text/plain": [
       "(25000, 164)"
      ]
     },
     "execution_count": 12,
     "metadata": {},
     "output_type": "execute_result"
    }
   ],
   "source": [
    "siab_train.shape"
   ]
  },
  {
   "cell_type": "code",
   "execution_count": 13,
   "id": "feb13bf4",
   "metadata": {
    "execution": {
     "iopub.execute_input": "2025-08-19T18:19:12.318127Z",
     "iopub.status.busy": "2025-08-19T18:19:12.316938Z",
     "iopub.status.idle": "2025-08-19T18:19:12.331129Z",
     "shell.execute_reply": "2025-08-19T18:19:12.329930Z"
    },
    "papermill": {
     "duration": 0.026941,
     "end_time": "2025-08-19T18:19:12.332582",
     "exception": false,
     "start_time": "2025-08-19T18:19:12.305641",
     "status": "completed"
    },
    "tags": []
   },
   "outputs": [
    {
     "data": {
      "text/plain": [
       "year\n",
       "2010    5000\n",
       "2011    5000\n",
       "2012    5000\n",
       "2013    5000\n",
       "2014    5000\n",
       "dtype: int64"
      ]
     },
     "metadata": {},
     "output_type": "display_data"
    }
   ],
   "source": [
    "display(siab_train.groupby(\"year\").size())"
   ]
  },
  {
   "cell_type": "code",
   "execution_count": 14,
   "id": "0997782f",
   "metadata": {
    "execution": {
     "iopub.execute_input": "2025-08-19T18:19:12.362916Z",
     "iopub.status.busy": "2025-08-19T18:19:12.359914Z",
     "iopub.status.idle": "2025-08-19T18:19:12.605947Z",
     "shell.execute_reply": "2025-08-19T18:19:12.604998Z"
    },
    "papermill": {
     "duration": 0.259616,
     "end_time": "2025-08-19T18:19:12.607611",
     "exception": false,
     "start_time": "2025-08-19T18:19:12.347995",
     "status": "completed"
    },
    "tags": []
   },
   "outputs": [],
   "source": [
    "#siab_train = siab_s[siab_s.year < 2015]\n",
    "siab_calib = siab[siab.year == 2015]\n",
    "siab_test = siab[siab.year == 2016]"
   ]
  },
  {
   "cell_type": "code",
   "execution_count": 15,
   "id": "2c1e4012",
   "metadata": {
    "execution": {
     "iopub.execute_input": "2025-08-19T18:19:12.629456Z",
     "iopub.status.busy": "2025-08-19T18:19:12.628947Z",
     "iopub.status.idle": "2025-08-19T18:19:12.633767Z",
     "shell.execute_reply": "2025-08-19T18:19:12.632981Z"
    },
    "papermill": {
     "duration": 0.017068,
     "end_time": "2025-08-19T18:19:12.635136",
     "exception": false,
     "start_time": "2025-08-19T18:19:12.618068",
     "status": "completed"
    },
    "tags": []
   },
   "outputs": [],
   "source": [
    "#siab_calib.shape"
   ]
  },
  {
   "cell_type": "code",
   "execution_count": 16,
   "id": "f66b54ca",
   "metadata": {
    "execution": {
     "iopub.execute_input": "2025-08-19T18:19:12.657704Z",
     "iopub.status.busy": "2025-08-19T18:19:12.657298Z",
     "iopub.status.idle": "2025-08-19T18:19:12.661639Z",
     "shell.execute_reply": "2025-08-19T18:19:12.660802Z"
    },
    "papermill": {
     "duration": 0.016754,
     "end_time": "2025-08-19T18:19:12.663047",
     "exception": false,
     "start_time": "2025-08-19T18:19:12.646293",
     "status": "completed"
    },
    "tags": []
   },
   "outputs": [],
   "source": [
    "#siab_test.shape"
   ]
  },
  {
   "cell_type": "code",
   "execution_count": 17,
   "id": "27e4384d",
   "metadata": {
    "execution": {
     "iopub.execute_input": "2025-08-19T18:19:12.685153Z",
     "iopub.status.busy": "2025-08-19T18:19:12.684675Z",
     "iopub.status.idle": "2025-08-19T18:19:12.698406Z",
     "shell.execute_reply": "2025-08-19T18:19:12.697444Z"
    },
    "papermill": {
     "duration": 0.026927,
     "end_time": "2025-08-19T18:19:12.700279",
     "exception": false,
     "start_time": "2025-08-19T18:19:12.673352",
     "status": "completed"
    },
    "tags": []
   },
   "outputs": [],
   "source": [
    "X_train = siab_train.iloc[:,4:164]\n",
    "y_train = siab_train.iloc[:, [3]]"
   ]
  },
  {
   "cell_type": "code",
   "execution_count": 18,
   "id": "08ee8389",
   "metadata": {
    "execution": {
     "iopub.execute_input": "2025-08-19T18:19:12.737338Z",
     "iopub.status.busy": "2025-08-19T18:19:12.736823Z",
     "iopub.status.idle": "2025-08-19T18:19:12.785933Z",
     "shell.execute_reply": "2025-08-19T18:19:12.784757Z"
    },
    "papermill": {
     "duration": 0.071689,
     "end_time": "2025-08-19T18:19:12.787317",
     "exception": false,
     "start_time": "2025-08-19T18:19:12.715628",
     "status": "completed"
    },
    "tags": []
   },
   "outputs": [],
   "source": [
    "X_calib = siab_calib.iloc[:,4:164]\n",
    "y_calib = siab_calib.iloc[:, [3]]"
   ]
  },
  {
   "cell_type": "code",
   "execution_count": 19,
   "id": "b7ff42e0",
   "metadata": {
    "execution": {
     "iopub.execute_input": "2025-08-19T18:19:12.813724Z",
     "iopub.status.busy": "2025-08-19T18:19:12.813237Z",
     "iopub.status.idle": "2025-08-19T18:19:12.893731Z",
     "shell.execute_reply": "2025-08-19T18:19:12.892484Z"
    },
    "papermill": {
     "duration": 0.095672,
     "end_time": "2025-08-19T18:19:12.895359",
     "exception": false,
     "start_time": "2025-08-19T18:19:12.799687",
     "status": "completed"
    },
    "tags": []
   },
   "outputs": [],
   "source": [
    "X_test = siab_test.iloc[:,4:164]\n",
    "y_true = siab_test.iloc[:, [3]]"
   ]
  },
  {
   "cell_type": "code",
   "execution_count": 20,
   "id": "0275101e",
   "metadata": {
    "execution": {
     "iopub.execute_input": "2025-08-19T18:19:12.918761Z",
     "iopub.status.busy": "2025-08-19T18:19:12.918452Z",
     "iopub.status.idle": "2025-08-19T18:19:13.069790Z",
     "shell.execute_reply": "2025-08-19T18:19:13.068863Z"
    },
    "papermill": {
     "duration": 0.16632,
     "end_time": "2025-08-19T18:19:13.073707",
     "exception": false,
     "start_time": "2025-08-19T18:19:12.907387",
     "status": "completed"
    },
    "tags": []
   },
   "outputs": [],
   "source": [
    "# Auxiliary data needed downstream in the pipeline\n",
    "\n",
    "org_train = X_train.copy()\n",
    "org_test = X_test.copy()\n",
    "org_calib = X_calib.copy()"
   ]
  },
  {
   "cell_type": "markdown",
   "id": "b461e618",
   "metadata": {
    "papermill": {
     "duration": 0.010278,
     "end_time": "2025-08-19T18:19:13.095242",
     "exception": false,
     "start_time": "2025-08-19T18:19:13.084964",
     "status": "completed"
    },
    "tags": []
   },
   "source": [
    "# Preprocessing Data"
   ]
  },
  {
   "cell_type": "code",
   "execution_count": 21,
   "id": "78e74c4b",
   "metadata": {
    "execution": {
     "iopub.execute_input": "2025-08-19T18:19:13.117117Z",
     "iopub.status.busy": "2025-08-19T18:19:13.116796Z",
     "iopub.status.idle": "2025-08-19T18:19:13.122181Z",
     "shell.execute_reply": "2025-08-19T18:19:13.121276Z"
    },
    "papermill": {
     "duration": 0.018353,
     "end_time": "2025-08-19T18:19:13.123755",
     "exception": false,
     "start_time": "2025-08-19T18:19:13.105402",
     "status": "completed"
    },
    "tags": []
   },
   "outputs": [],
   "source": [
    "# EXCLUDE PROTECTED FEATURES\n",
    "# --------------------------\n",
    "\n",
    "excluded_features = universe[\"exclude_features\"].split(\"-\")\n",
    "excluded_features_dictionary = {\n",
    "    \"nationality\": [\"maxdeutsch1\", \"maxdeutsch.Missing.\"],\n",
    "    \"sex\": [\"frau1\"],\n",
    "    \"age\": [\"age\"],\n",
    "}"
   ]
  },
  {
   "cell_type": "code",
   "execution_count": 22,
   "id": "f8e63555",
   "metadata": {
    "execution": {
     "iopub.execute_input": "2025-08-19T18:19:13.145329Z",
     "iopub.status.busy": "2025-08-19T18:19:13.145049Z",
     "iopub.status.idle": "2025-08-19T18:19:13.150051Z",
     "shell.execute_reply": "2025-08-19T18:19:13.149158Z"
    },
    "papermill": {
     "duration": 0.017557,
     "end_time": "2025-08-19T18:19:13.151517",
     "exception": false,
     "start_time": "2025-08-19T18:19:13.133960",
     "status": "completed"
    },
    "tags": []
   },
   "outputs": [],
   "source": [
    "excluded_features_columns = [\n",
    "    excluded_features_dictionary[f] for f in excluded_features if len(f) > 0 and f != \"none\"\n",
    "]"
   ]
  },
  {
   "cell_type": "code",
   "execution_count": 23,
   "id": "da781f7c",
   "metadata": {
    "execution": {
     "iopub.execute_input": "2025-08-19T18:19:13.173063Z",
     "iopub.status.busy": "2025-08-19T18:19:13.172774Z",
     "iopub.status.idle": "2025-08-19T18:19:13.178076Z",
     "shell.execute_reply": "2025-08-19T18:19:13.177261Z"
    },
    "papermill": {
     "duration": 0.018016,
     "end_time": "2025-08-19T18:19:13.179698",
     "exception": false,
     "start_time": "2025-08-19T18:19:13.161682",
     "status": "completed"
    },
    "tags": []
   },
   "outputs": [],
   "source": [
    "from fairness_multiverse.universe import flatten_once\n",
    "\n",
    "excluded_features_columns = flatten_once(excluded_features_columns)"
   ]
  },
  {
   "cell_type": "code",
   "execution_count": 24,
   "id": "37fef0f0",
   "metadata": {
    "execution": {
     "iopub.execute_input": "2025-08-19T18:19:13.203240Z",
     "iopub.status.busy": "2025-08-19T18:19:13.202969Z",
     "iopub.status.idle": "2025-08-19T18:19:13.242467Z",
     "shell.execute_reply": "2025-08-19T18:19:13.241524Z"
    },
    "papermill": {
     "duration": 0.058168,
     "end_time": "2025-08-19T18:19:13.248261",
     "exception": false,
     "start_time": "2025-08-19T18:19:13.190093",
     "status": "completed"
    },
    "tags": []
   },
   "outputs": [
    {
     "name": "stdout",
     "output_type": "stream",
     "text": [
      "Dropping features: ['age']\n"
     ]
    }
   ],
   "source": [
    "if len(excluded_features_columns) > 0:\n",
    "    print(f\"Dropping features: {excluded_features_columns}\")\n",
    "    X_train.drop(excluded_features_columns, axis=1, inplace=True)"
   ]
  },
  {
   "cell_type": "code",
   "execution_count": 25,
   "id": "d029e3e9",
   "metadata": {
    "execution": {
     "iopub.execute_input": "2025-08-19T18:19:13.287036Z",
     "iopub.status.busy": "2025-08-19T18:19:13.286333Z",
     "iopub.status.idle": "2025-08-19T18:19:13.334150Z",
     "shell.execute_reply": "2025-08-19T18:19:13.332900Z"
    },
    "papermill": {
     "duration": 0.06661,
     "end_time": "2025-08-19T18:19:13.340754",
     "exception": false,
     "start_time": "2025-08-19T18:19:13.274144",
     "status": "completed"
    },
    "tags": []
   },
   "outputs": [
    {
     "name": "stdout",
     "output_type": "stream",
     "text": [
      "Dropping features: ['age']\n"
     ]
    }
   ],
   "source": [
    "if len(excluded_features_columns) > 0:\n",
    "    print(f\"Dropping features: {excluded_features_columns}\")\n",
    "    X_test.drop(excluded_features_columns, axis=1, inplace=True)"
   ]
  },
  {
   "cell_type": "code",
   "execution_count": 26,
   "id": "01d571f0",
   "metadata": {
    "execution": {
     "iopub.execute_input": "2025-08-19T18:19:13.377704Z",
     "iopub.status.busy": "2025-08-19T18:19:13.376512Z",
     "iopub.status.idle": "2025-08-19T18:19:13.432545Z",
     "shell.execute_reply": "2025-08-19T18:19:13.431936Z"
    },
    "papermill": {
     "duration": 0.079612,
     "end_time": "2025-08-19T18:19:13.442266",
     "exception": false,
     "start_time": "2025-08-19T18:19:13.362654",
     "status": "completed"
    },
    "tags": []
   },
   "outputs": [
    {
     "name": "stdout",
     "output_type": "stream",
     "text": [
      "Dropping features: ['age']\n"
     ]
    }
   ],
   "source": [
    "if len(excluded_features_columns) > 0:\n",
    "    print(f\"Dropping features: {excluded_features_columns}\")\n",
    "    X_calib.drop(excluded_features_columns, axis=1, inplace=True)"
   ]
  },
  {
   "cell_type": "code",
   "execution_count": 27,
   "id": "3037356e",
   "metadata": {
    "execution": {
     "iopub.execute_input": "2025-08-19T18:19:13.480666Z",
     "iopub.status.busy": "2025-08-19T18:19:13.479455Z",
     "iopub.status.idle": "2025-08-19T18:19:13.489154Z",
     "shell.execute_reply": "2025-08-19T18:19:13.486727Z"
    },
    "papermill": {
     "duration": 0.025899,
     "end_time": "2025-08-19T18:19:13.491423",
     "exception": false,
     "start_time": "2025-08-19T18:19:13.465524",
     "status": "completed"
    },
    "tags": []
   },
   "outputs": [],
   "source": [
    "# EXCLUDE CERTAIN SUBGROUPS\n",
    "# -------------------------\n",
    "\n",
    "mode = universe.get(\"exclude_subgroups\", \"keep-all\") # Defaults to \"keep-all\" if the key is missing."
   ]
  },
  {
   "cell_type": "code",
   "execution_count": 28,
   "id": "9d1e63fd",
   "metadata": {
    "execution": {
     "iopub.execute_input": "2025-08-19T18:19:13.520223Z",
     "iopub.status.busy": "2025-08-19T18:19:13.519312Z",
     "iopub.status.idle": "2025-08-19T18:19:13.527358Z",
     "shell.execute_reply": "2025-08-19T18:19:13.526563Z"
    },
    "papermill": {
     "duration": 0.023382,
     "end_time": "2025-08-19T18:19:13.528506",
     "exception": false,
     "start_time": "2025-08-19T18:19:13.505124",
     "status": "completed"
    },
    "tags": []
   },
   "outputs": [],
   "source": [
    "if mode == \"keep-all\":\n",
    "    keep_mask = pd.Series(True, index=org_train.index)\n",
    "\n",
    "elif mode == \"drop-non-german\":\n",
    "    keep_mask = (org_train[\"maxdeutsch1\"] == 1) & (org_train[\"maxdeutsch.Missing.\"] == 0)\n",
    "\n",
    "else:\n",
    "    raise ValueError(f\"Unsupported mode for exclude_subgroups: {mode}\")"
   ]
  },
  {
   "cell_type": "code",
   "execution_count": 29,
   "id": "d3b65474",
   "metadata": {
    "execution": {
     "iopub.execute_input": "2025-08-19T18:19:13.554166Z",
     "iopub.status.busy": "2025-08-19T18:19:13.553705Z",
     "iopub.status.idle": "2025-08-19T18:19:13.558910Z",
     "shell.execute_reply": "2025-08-19T18:19:13.558275Z"
    },
    "papermill": {
     "duration": 0.018226,
     "end_time": "2025-08-19T18:19:13.560109",
     "exception": false,
     "start_time": "2025-08-19T18:19:13.541883",
     "status": "completed"
    },
    "tags": []
   },
   "outputs": [],
   "source": [
    "n_drop = (~keep_mask).sum() # Calculates how many rows are set to be dropped\n",
    "if n_drop > 0:\n",
    "    pct = n_drop / len(keep_mask) * 100\n",
    "    print(f\"Dropping {n_drop} rows ({pct:.2f}%) where mode='{mode}'\")"
   ]
  },
  {
   "cell_type": "code",
   "execution_count": 30,
   "id": "f44389b3",
   "metadata": {
    "execution": {
     "iopub.execute_input": "2025-08-19T18:19:13.603967Z",
     "iopub.status.busy": "2025-08-19T18:19:13.602819Z",
     "iopub.status.idle": "2025-08-19T18:19:13.623777Z",
     "shell.execute_reply": "2025-08-19T18:19:13.622595Z"
    },
    "papermill": {
     "duration": 0.047179,
     "end_time": "2025-08-19T18:19:13.626206",
     "exception": false,
     "start_time": "2025-08-19T18:19:13.579027",
     "status": "completed"
    },
    "tags": []
   },
   "outputs": [],
   "source": [
    "X_train = X_train[keep_mask]"
   ]
  },
  {
   "cell_type": "code",
   "execution_count": 31,
   "id": "ceca8c2a",
   "metadata": {
    "execution": {
     "iopub.execute_input": "2025-08-19T18:19:13.669125Z",
     "iopub.status.busy": "2025-08-19T18:19:13.667206Z",
     "iopub.status.idle": "2025-08-19T18:19:13.682572Z",
     "shell.execute_reply": "2025-08-19T18:19:13.679485Z"
    },
    "papermill": {
     "duration": 0.032883,
     "end_time": "2025-08-19T18:19:13.684703",
     "exception": false,
     "start_time": "2025-08-19T18:19:13.651820",
     "status": "completed"
    },
    "tags": []
   },
   "outputs": [],
   "source": [
    "y_train = y_train[keep_mask]"
   ]
  },
  {
   "cell_type": "markdown",
   "id": "04d31e2f",
   "metadata": {
    "papermill": {
     "duration": 0.013992,
     "end_time": "2025-08-19T18:19:13.717895",
     "exception": false,
     "start_time": "2025-08-19T18:19:13.703903",
     "status": "completed"
    },
    "tags": []
   },
   "source": [
    "# Model Training"
   ]
  },
  {
   "cell_type": "code",
   "execution_count": 32,
   "id": "db991733",
   "metadata": {
    "execution": {
     "iopub.execute_input": "2025-08-19T18:19:13.740170Z",
     "iopub.status.busy": "2025-08-19T18:19:13.739858Z",
     "iopub.status.idle": "2025-08-19T18:19:13.838221Z",
     "shell.execute_reply": "2025-08-19T18:19:13.837575Z"
    },
    "papermill": {
     "duration": 0.114153,
     "end_time": "2025-08-19T18:19:13.842432",
     "exception": false,
     "start_time": "2025-08-19T18:19:13.728279",
     "status": "completed"
    },
    "tags": []
   },
   "outputs": [],
   "source": [
    "from sklearn.linear_model import LogisticRegression\n",
    "from sklearn.ensemble import GradientBoostingClassifier, RandomForestClassifier\n",
    "\n",
    "if (universe[\"model\"] == \"logreg\"):\n",
    "    model = LogisticRegression() #penalty=\"none\", solver=\"newton-cg\", max_iter=1)\n",
    "elif (universe[\"model\"] == \"penalized_logreg\"):\n",
    "    model = LogisticRegression(penalty=\"l2\", C=0.1) #, solver=\"newton-cg\", max_iter=1)\n",
    "elif (universe[\"model\"] == \"rf\"):\n",
    "    model = RandomForestClassifier() # n_estimators=100, n_jobs=-1\n",
    "elif (universe[\"model\"] == \"gbm\"):\n",
    "    model = GradientBoostingClassifier()\n",
    "elif (universe[\"model\"] == \"elasticnet\"):\n",
    "    model = LogisticRegression(penalty = 'elasticnet', solver = 'saga', l1_ratio = 0.5) # max_iter=5000\n",
    "else:\n",
    "    raise \"Unsupported universe.model\""
   ]
  },
  {
   "cell_type": "code",
   "execution_count": 33,
   "id": "a4b5cd25",
   "metadata": {
    "execution": {
     "iopub.execute_input": "2025-08-19T18:19:13.868047Z",
     "iopub.status.busy": "2025-08-19T18:19:13.867570Z",
     "iopub.status.idle": "2025-08-19T18:19:13.872419Z",
     "shell.execute_reply": "2025-08-19T18:19:13.871817Z"
    },
    "papermill": {
     "duration": 0.018652,
     "end_time": "2025-08-19T18:19:13.873921",
     "exception": false,
     "start_time": "2025-08-19T18:19:13.855269",
     "status": "completed"
    },
    "tags": []
   },
   "outputs": [],
   "source": [
    "from sklearn.pipeline import Pipeline\n",
    "from sklearn.preprocessing import StandardScaler\n",
    "\n",
    "model = Pipeline([\n",
    "    #(\"continuous_processor\", continuous_processor),\n",
    "    #(\"categorical_preprocessor\", categorical_preprocessor),\n",
    "    (\"scale\", StandardScaler() if universe[\"scale\"] == \"scale\" else None), \n",
    "    (\"model\", model),\n",
    "])"
   ]
  },
  {
   "cell_type": "code",
   "execution_count": 34,
   "id": "283a904d",
   "metadata": {
    "execution": {
     "iopub.execute_input": "2025-08-19T18:19:13.896418Z",
     "iopub.status.busy": "2025-08-19T18:19:13.895981Z",
     "iopub.status.idle": "2025-08-19T18:19:14.898096Z",
     "shell.execute_reply": "2025-08-19T18:19:14.897192Z"
    },
    "papermill": {
     "duration": 1.01513,
     "end_time": "2025-08-19T18:19:14.899663",
     "exception": false,
     "start_time": "2025-08-19T18:19:13.884533",
     "status": "completed"
    },
    "tags": []
   },
   "outputs": [
    {
     "name": "stderr",
     "output_type": "stream",
     "text": [
      "/dss/dsshome1/0C/ra93lal2/.local/share/virtualenvs/CMA_Fairness_v2-3j10GkSs/lib/python3.10/site-packages/sklearn/linear_model/_logistic.py:444: ConvergenceWarning: lbfgs failed to converge (status=1):\n",
      "STOP: TOTAL NO. of ITERATIONS REACHED LIMIT.\n",
      "\n",
      "Increase the number of iterations (max_iter) or scale the data as shown in:\n",
      "    https://scikit-learn.org/stable/modules/preprocessing.html\n",
      "Please also refer to the documentation for alternative solver options:\n",
      "    https://scikit-learn.org/stable/modules/linear_model.html#logistic-regression\n",
      "  n_iter_i = _check_optimize_result(\n"
     ]
    },
    {
     "data": {
      "text/html": [
       "<style>#sk-container-id-1 {color: black;background-color: white;}#sk-container-id-1 pre{padding: 0;}#sk-container-id-1 div.sk-toggleable {background-color: white;}#sk-container-id-1 label.sk-toggleable__label {cursor: pointer;display: block;width: 100%;margin-bottom: 0;padding: 0.3em;box-sizing: border-box;text-align: center;}#sk-container-id-1 label.sk-toggleable__label-arrow:before {content: \"▸\";float: left;margin-right: 0.25em;color: #696969;}#sk-container-id-1 label.sk-toggleable__label-arrow:hover:before {color: black;}#sk-container-id-1 div.sk-estimator:hover label.sk-toggleable__label-arrow:before {color: black;}#sk-container-id-1 div.sk-toggleable__content {max-height: 0;max-width: 0;overflow: hidden;text-align: left;background-color: #f0f8ff;}#sk-container-id-1 div.sk-toggleable__content pre {margin: 0.2em;color: black;border-radius: 0.25em;background-color: #f0f8ff;}#sk-container-id-1 input.sk-toggleable__control:checked~div.sk-toggleable__content {max-height: 200px;max-width: 100%;overflow: auto;}#sk-container-id-1 input.sk-toggleable__control:checked~label.sk-toggleable__label-arrow:before {content: \"▾\";}#sk-container-id-1 div.sk-estimator input.sk-toggleable__control:checked~label.sk-toggleable__label {background-color: #d4ebff;}#sk-container-id-1 div.sk-label input.sk-toggleable__control:checked~label.sk-toggleable__label {background-color: #d4ebff;}#sk-container-id-1 input.sk-hidden--visually {border: 0;clip: rect(1px 1px 1px 1px);clip: rect(1px, 1px, 1px, 1px);height: 1px;margin: -1px;overflow: hidden;padding: 0;position: absolute;width: 1px;}#sk-container-id-1 div.sk-estimator {font-family: monospace;background-color: #f0f8ff;border: 1px dotted black;border-radius: 0.25em;box-sizing: border-box;margin-bottom: 0.5em;}#sk-container-id-1 div.sk-estimator:hover {background-color: #d4ebff;}#sk-container-id-1 div.sk-parallel-item::after {content: \"\";width: 100%;border-bottom: 1px solid gray;flex-grow: 1;}#sk-container-id-1 div.sk-label:hover label.sk-toggleable__label {background-color: #d4ebff;}#sk-container-id-1 div.sk-serial::before {content: \"\";position: absolute;border-left: 1px solid gray;box-sizing: border-box;top: 0;bottom: 0;left: 50%;z-index: 0;}#sk-container-id-1 div.sk-serial {display: flex;flex-direction: column;align-items: center;background-color: white;padding-right: 0.2em;padding-left: 0.2em;position: relative;}#sk-container-id-1 div.sk-item {position: relative;z-index: 1;}#sk-container-id-1 div.sk-parallel {display: flex;align-items: stretch;justify-content: center;background-color: white;position: relative;}#sk-container-id-1 div.sk-item::before, #sk-container-id-1 div.sk-parallel-item::before {content: \"\";position: absolute;border-left: 1px solid gray;box-sizing: border-box;top: 0;bottom: 0;left: 50%;z-index: -1;}#sk-container-id-1 div.sk-parallel-item {display: flex;flex-direction: column;z-index: 1;position: relative;background-color: white;}#sk-container-id-1 div.sk-parallel-item:first-child::after {align-self: flex-end;width: 50%;}#sk-container-id-1 div.sk-parallel-item:last-child::after {align-self: flex-start;width: 50%;}#sk-container-id-1 div.sk-parallel-item:only-child::after {width: 0;}#sk-container-id-1 div.sk-dashed-wrapped {border: 1px dashed gray;margin: 0 0.4em 0.5em 0.4em;box-sizing: border-box;padding-bottom: 0.4em;background-color: white;}#sk-container-id-1 div.sk-label label {font-family: monospace;font-weight: bold;display: inline-block;line-height: 1.2em;}#sk-container-id-1 div.sk-label-container {text-align: center;}#sk-container-id-1 div.sk-container {/* jupyter's `normalize.less` sets `[hidden] { display: none; }` but bootstrap.min.css set `[hidden] { display: none !important; }` so we also need the `!important` here to be able to override the default hidden behavior on the sphinx rendered scikit-learn.org. See: https://github.com/scikit-learn/scikit-learn/issues/21755 */display: inline-block !important;position: relative;}#sk-container-id-1 div.sk-text-repr-fallback {display: none;}</style><div id=\"sk-container-id-1\" class=\"sk-top-container\"><div class=\"sk-text-repr-fallback\"><pre>Pipeline(steps=[(&#x27;scale&#x27;, None), (&#x27;model&#x27;, LogisticRegression(C=0.1))])</pre><b>In a Jupyter environment, please rerun this cell to show the HTML representation or trust the notebook. <br />On GitHub, the HTML representation is unable to render, please try loading this page with nbviewer.org.</b></div><div class=\"sk-container\" hidden><div class=\"sk-item sk-dashed-wrapped\"><div class=\"sk-label-container\"><div class=\"sk-label sk-toggleable\"><input class=\"sk-toggleable__control sk-hidden--visually\" id=\"sk-estimator-id-1\" type=\"checkbox\" ><label for=\"sk-estimator-id-1\" class=\"sk-toggleable__label sk-toggleable__label-arrow\">Pipeline</label><div class=\"sk-toggleable__content\"><pre>Pipeline(steps=[(&#x27;scale&#x27;, None), (&#x27;model&#x27;, LogisticRegression(C=0.1))])</pre></div></div></div><div class=\"sk-serial\"><div class=\"sk-item\"><div class=\"sk-estimator sk-toggleable\"><input class=\"sk-toggleable__control sk-hidden--visually\" id=\"sk-estimator-id-2\" type=\"checkbox\" ><label for=\"sk-estimator-id-2\" class=\"sk-toggleable__label sk-toggleable__label-arrow\">None</label><div class=\"sk-toggleable__content\"><pre>None</pre></div></div></div><div class=\"sk-item\"><div class=\"sk-estimator sk-toggleable\"><input class=\"sk-toggleable__control sk-hidden--visually\" id=\"sk-estimator-id-3\" type=\"checkbox\" ><label for=\"sk-estimator-id-3\" class=\"sk-toggleable__label sk-toggleable__label-arrow\">LogisticRegression</label><div class=\"sk-toggleable__content\"><pre>LogisticRegression(C=0.1)</pre></div></div></div></div></div></div></div>"
      ],
      "text/plain": [
       "Pipeline(steps=[('scale', None), ('model', LogisticRegression(C=0.1))])"
      ]
     },
     "execution_count": 34,
     "metadata": {},
     "output_type": "execute_result"
    }
   ],
   "source": [
    "model.fit(X_train, y_train.values.ravel())"
   ]
  },
  {
   "cell_type": "code",
   "execution_count": 35,
   "id": "6e15e313",
   "metadata": {
    "execution": {
     "iopub.execute_input": "2025-08-19T18:19:14.926818Z",
     "iopub.status.busy": "2025-08-19T18:19:14.925224Z",
     "iopub.status.idle": "2025-08-19T18:19:15.089211Z",
     "shell.execute_reply": "2025-08-19T18:19:15.088259Z"
    },
    "papermill": {
     "duration": 0.178189,
     "end_time": "2025-08-19T18:19:15.090613",
     "exception": false,
     "start_time": "2025-08-19T18:19:14.912424",
     "status": "completed"
    },
    "tags": []
   },
   "outputs": [
    {
     "data": {
      "text/plain": [
       "0.8617656894437632"
      ]
     },
     "execution_count": 35,
     "metadata": {},
     "output_type": "execute_result"
    }
   ],
   "source": [
    "from fairness_multiverse.universe import predict_w_threshold\n",
    "\n",
    "probs_test = model.predict_proba(X_test)\n",
    "\n",
    "'''\n",
    "Below code returns a boolean array (or binary 0/1 array depending on how it’s used) where each element \n",
    "is True if the probability of class 1 is greater than or equal to the threshold, and False otherwise.\n",
    "'''\n",
    "y_pred_default = predict_w_threshold(probs_test, 0.5)\n",
    "\n",
    "from sklearn.metrics import accuracy_score\n",
    "\n",
    "# Naive prediction\n",
    "accuracy_score(y_true = y_true, y_pred = y_pred_default)"
   ]
  },
  {
   "cell_type": "code",
   "execution_count": 36,
   "id": "6f14067c",
   "metadata": {
    "execution": {
     "iopub.execute_input": "2025-08-19T18:19:15.123789Z",
     "iopub.status.busy": "2025-08-19T18:19:15.123210Z",
     "iopub.status.idle": "2025-08-19T18:19:15.211478Z",
     "shell.execute_reply": "2025-08-19T18:19:15.210803Z"
    },
    "papermill": {
     "duration": 0.110125,
     "end_time": "2025-08-19T18:19:15.214463",
     "exception": false,
     "start_time": "2025-08-19T18:19:15.104338",
     "status": "completed"
    },
    "tags": []
   },
   "outputs": [
    {
     "data": {
      "text/plain": [
       "array([0, 0, 0, ..., 0, 0, 0])"
      ]
     },
     "execution_count": 36,
     "metadata": {},
     "output_type": "execute_result"
    }
   ],
   "source": [
    "model.predict(X_test)"
   ]
  },
  {
   "cell_type": "markdown",
   "id": "3759920c",
   "metadata": {
    "papermill": {
     "duration": 0.030902,
     "end_time": "2025-08-19T18:19:15.271131",
     "exception": false,
     "start_time": "2025-08-19T18:19:15.240229",
     "status": "completed"
    },
    "tags": []
   },
   "source": [
    "# Conformal Prediction"
   ]
  },
  {
   "cell_type": "code",
   "execution_count": 37,
   "id": "14b27f59",
   "metadata": {
    "execution": {
     "iopub.execute_input": "2025-08-19T18:19:15.296771Z",
     "iopub.status.busy": "2025-08-19T18:19:15.296254Z",
     "iopub.status.idle": "2025-08-19T18:19:15.301543Z",
     "shell.execute_reply": "2025-08-19T18:19:15.300724Z"
    },
    "papermill": {
     "duration": 0.019814,
     "end_time": "2025-08-19T18:19:15.303166",
     "exception": false,
     "start_time": "2025-08-19T18:19:15.283352",
     "status": "completed"
    },
    "tags": []
   },
   "outputs": [],
   "source": [
    "# Miscoverage level for conformal prediction (10% allowed error rate => 90% target coverage)\n",
    "alpha = 0.1"
   ]
  },
  {
   "cell_type": "code",
   "execution_count": 38,
   "id": "59102472",
   "metadata": {
    "execution": {
     "iopub.execute_input": "2025-08-19T18:19:15.329257Z",
     "iopub.status.busy": "2025-08-19T18:19:15.328853Z",
     "iopub.status.idle": "2025-08-19T18:19:15.422563Z",
     "shell.execute_reply": "2025-08-19T18:19:15.421429Z"
    },
    "papermill": {
     "duration": 0.108944,
     "end_time": "2025-08-19T18:19:15.425975",
     "exception": false,
     "start_time": "2025-08-19T18:19:15.317031",
     "status": "completed"
    },
    "tags": []
   },
   "outputs": [],
   "source": [
    "probs_calib = model.predict_proba(X_calib)"
   ]
  },
  {
   "cell_type": "code",
   "execution_count": 39,
   "id": "a792d4dd",
   "metadata": {
    "execution": {
     "iopub.execute_input": "2025-08-19T18:19:15.467699Z",
     "iopub.status.busy": "2025-08-19T18:19:15.467090Z",
     "iopub.status.idle": "2025-08-19T18:19:15.473281Z",
     "shell.execute_reply": "2025-08-19T18:19:15.472523Z"
    },
    "papermill": {
     "duration": 0.023367,
     "end_time": "2025-08-19T18:19:15.474624",
     "exception": false,
     "start_time": "2025-08-19T18:19:15.451257",
     "status": "completed"
    },
    "tags": []
   },
   "outputs": [],
   "source": [
    "y_calib = y_calib.values.ravel().astype(int)"
   ]
  },
  {
   "cell_type": "code",
   "execution_count": 40,
   "id": "650fd033",
   "metadata": {
    "execution": {
     "iopub.execute_input": "2025-08-19T18:19:15.503037Z",
     "iopub.status.busy": "2025-08-19T18:19:15.502118Z",
     "iopub.status.idle": "2025-08-19T18:19:15.509692Z",
     "shell.execute_reply": "2025-08-19T18:19:15.508829Z"
    },
    "papermill": {
     "duration": 0.021203,
     "end_time": "2025-08-19T18:19:15.510984",
     "exception": false,
     "start_time": "2025-08-19T18:19:15.489781",
     "status": "completed"
    },
    "tags": []
   },
   "outputs": [],
   "source": [
    "from fairness_multiverse.conformal import compute_nc_scores\n",
    "\n",
    "# Compute nonconformity scores on calibration set (1 - probability of true class)\n",
    "nc_scores = compute_nc_scores(probs_calib, y_calib)"
   ]
  },
  {
   "cell_type": "code",
   "execution_count": 41,
   "id": "28ada44c",
   "metadata": {
    "execution": {
     "iopub.execute_input": "2025-08-19T18:19:15.537588Z",
     "iopub.status.busy": "2025-08-19T18:19:15.536547Z",
     "iopub.status.idle": "2025-08-19T18:19:15.544165Z",
     "shell.execute_reply": "2025-08-19T18:19:15.543221Z"
    },
    "papermill": {
     "duration": 0.022932,
     "end_time": "2025-08-19T18:19:15.545538",
     "exception": false,
     "start_time": "2025-08-19T18:19:15.522606",
     "status": "completed"
    },
    "tags": []
   },
   "outputs": [],
   "source": [
    "from fairness_multiverse.conformal import find_threshold\n",
    "\n",
    "# Find conformal threshold q_hat for the given alpha (split conformal method)\n",
    "q_hat = find_threshold(nc_scores, alpha)"
   ]
  },
  {
   "cell_type": "code",
   "execution_count": 42,
   "id": "df56469e",
   "metadata": {
    "execution": {
     "iopub.execute_input": "2025-08-19T18:19:15.572423Z",
     "iopub.status.busy": "2025-08-19T18:19:15.571946Z",
     "iopub.status.idle": "2025-08-19T18:19:15.577743Z",
     "shell.execute_reply": "2025-08-19T18:19:15.577046Z"
    },
    "papermill": {
     "duration": 0.019695,
     "end_time": "2025-08-19T18:19:15.579259",
     "exception": false,
     "start_time": "2025-08-19T18:19:15.559564",
     "status": "completed"
    },
    "tags": []
   },
   "outputs": [
    {
     "data": {
      "text/plain": [
       "0.6646788460722737"
      ]
     },
     "execution_count": 42,
     "metadata": {},
     "output_type": "execute_result"
    }
   ],
   "source": [
    "q_hat"
   ]
  },
  {
   "cell_type": "code",
   "execution_count": 43,
   "id": "aa1f5faa",
   "metadata": {
    "execution": {
     "iopub.execute_input": "2025-08-19T18:19:15.603813Z",
     "iopub.status.busy": "2025-08-19T18:19:15.603333Z",
     "iopub.status.idle": "2025-08-19T18:19:16.266421Z",
     "shell.execute_reply": "2025-08-19T18:19:16.265063Z"
    },
    "papermill": {
     "duration": 0.677453,
     "end_time": "2025-08-19T18:19:16.268299",
     "exception": false,
     "start_time": "2025-08-19T18:19:15.590846",
     "status": "completed"
    },
    "tags": []
   },
   "outputs": [],
   "source": [
    "from fairness_multiverse.conformal import predict_conformal_sets\n",
    "\n",
    "# Generate prediction sets for each test example\n",
    "pred_sets = predict_conformal_sets(model, X_test, q_hat)"
   ]
  },
  {
   "cell_type": "code",
   "execution_count": 44,
   "id": "97f67a6b",
   "metadata": {
    "execution": {
     "iopub.execute_input": "2025-08-19T18:19:16.303397Z",
     "iopub.status.busy": "2025-08-19T18:19:16.303009Z",
     "iopub.status.idle": "2025-08-19T18:19:16.309509Z",
     "shell.execute_reply": "2025-08-19T18:19:16.308764Z"
    },
    "papermill": {
     "duration": 0.028253,
     "end_time": "2025-08-19T18:19:16.311837",
     "exception": false,
     "start_time": "2025-08-19T18:19:16.283584",
     "status": "completed"
    },
    "tags": []
   },
   "outputs": [],
   "source": [
    "y_true = y_true.squeeze()"
   ]
  },
  {
   "cell_type": "code",
   "execution_count": 45,
   "id": "e700e9a7",
   "metadata": {
    "execution": {
     "iopub.execute_input": "2025-08-19T18:19:16.349890Z",
     "iopub.status.busy": "2025-08-19T18:19:16.349421Z",
     "iopub.status.idle": "2025-08-19T18:19:16.857544Z",
     "shell.execute_reply": "2025-08-19T18:19:16.856647Z"
    },
    "papermill": {
     "duration": 0.523821,
     "end_time": "2025-08-19T18:19:16.859289",
     "exception": false,
     "start_time": "2025-08-19T18:19:16.335468",
     "status": "completed"
    },
    "tags": []
   },
   "outputs": [],
   "source": [
    "from fairness_multiverse.conformal import evaluate_sets\n",
    "\n",
    "# Evaluate coverage and average set size on test data\n",
    "metrics = evaluate_sets(pred_sets, y_true)"
   ]
  },
  {
   "cell_type": "markdown",
   "id": "efbacec0",
   "metadata": {
    "papermill": {
     "duration": 0.014116,
     "end_time": "2025-08-19T18:19:16.888374",
     "exception": false,
     "start_time": "2025-08-19T18:19:16.874258",
     "status": "completed"
    },
    "tags": []
   },
   "source": [
    "# CP Metrics"
   ]
  },
  {
   "cell_type": "code",
   "execution_count": 46,
   "id": "9de55fb1",
   "metadata": {
    "execution": {
     "iopub.execute_input": "2025-08-19T18:19:16.912983Z",
     "iopub.status.busy": "2025-08-19T18:19:16.912666Z",
     "iopub.status.idle": "2025-08-19T18:19:16.919125Z",
     "shell.execute_reply": "2025-08-19T18:19:16.918417Z"
    },
    "papermill": {
     "duration": 0.020396,
     "end_time": "2025-08-19T18:19:16.920535",
     "exception": false,
     "start_time": "2025-08-19T18:19:16.900139",
     "status": "completed"
    },
    "tags": []
   },
   "outputs": [
    {
     "data": {
      "text/plain": [
       "{'coverage': 0.9130197302418905, 'avg_size': 1.2508750418013599}"
      ]
     },
     "execution_count": 46,
     "metadata": {},
     "output_type": "execute_result"
    }
   ],
   "source": [
    "metrics"
   ]
  },
  {
   "cell_type": "code",
   "execution_count": 47,
   "id": "64c340a1",
   "metadata": {
    "execution": {
     "iopub.execute_input": "2025-08-19T18:19:16.945727Z",
     "iopub.status.busy": "2025-08-19T18:19:16.945273Z",
     "iopub.status.idle": "2025-08-19T18:19:16.950499Z",
     "shell.execute_reply": "2025-08-19T18:19:16.949807Z"
    },
    "papermill": {
     "duration": 0.019491,
     "end_time": "2025-08-19T18:19:16.951764",
     "exception": false,
     "start_time": "2025-08-19T18:19:16.932273",
     "status": "completed"
    },
    "tags": []
   },
   "outputs": [],
   "source": [
    "example_universe = universe.copy()\n",
    "universe_training_year = example_universe.get(\"training_year\")\n",
    "universe_training_size = example_universe.get(\"training_size\")\n",
    "universe_scale = example_universe.get(\"scale\")\n",
    "universe_model = example_universe.get(\"model\")\n",
    "universe_exclude_features = example_universe.get(\"exclude_features\")\n",
    "universe_exclude_subgroups = example_universe.get(\"exclude_subgroups\")"
   ]
  },
  {
   "cell_type": "code",
   "execution_count": 48,
   "id": "dbb53cb4",
   "metadata": {
    "execution": {
     "iopub.execute_input": "2025-08-19T18:19:16.976455Z",
     "iopub.status.busy": "2025-08-19T18:19:16.976062Z",
     "iopub.status.idle": "2025-08-19T18:19:16.981038Z",
     "shell.execute_reply": "2025-08-19T18:19:16.980303Z"
    },
    "papermill": {
     "duration": 0.020522,
     "end_time": "2025-08-19T18:19:16.984024",
     "exception": false,
     "start_time": "2025-08-19T18:19:16.963502",
     "status": "completed"
    },
    "tags": []
   },
   "outputs": [],
   "source": [
    "cp_metrics_dict = {\n",
    "    \"universe_id\": [universe_id],\n",
    "    \"universe_training_year\": [universe_training_year],\n",
    "    \"universe_training_size\": [universe_training_size],\n",
    "    \"universe_scale\": [universe_scale],\n",
    "    \"universe_model\": [universe_model],\n",
    "    \"universe_exclude_features\": [universe_exclude_features],\n",
    "    \"universe_exclude_subgroups\": [universe_exclude_subgroups],\n",
    "    \"q_hat\": [q_hat],\n",
    "    \"coverage\": [metrics[\"coverage\"]],\n",
    "    \"avg_size\": [metrics[\"avg_size\"]],\n",
    "}"
   ]
  },
  {
   "cell_type": "code",
   "execution_count": 49,
   "id": "0d70d4b2",
   "metadata": {
    "execution": {
     "iopub.execute_input": "2025-08-19T18:19:17.031366Z",
     "iopub.status.busy": "2025-08-19T18:19:17.030716Z",
     "iopub.status.idle": "2025-08-19T18:19:17.040534Z",
     "shell.execute_reply": "2025-08-19T18:19:17.039485Z"
    },
    "papermill": {
     "duration": 0.029007,
     "end_time": "2025-08-19T18:19:17.041874",
     "exception": false,
     "start_time": "2025-08-19T18:19:17.012867",
     "status": "completed"
    },
    "tags": []
   },
   "outputs": [],
   "source": [
    "cp_metrics_df = pd.DataFrame(cp_metrics_dict)"
   ]
  },
  {
   "cell_type": "code",
   "execution_count": 50,
   "id": "b494403c",
   "metadata": {
    "execution": {
     "iopub.execute_input": "2025-08-19T18:19:17.073027Z",
     "iopub.status.busy": "2025-08-19T18:19:17.071625Z",
     "iopub.status.idle": "2025-08-19T18:19:17.088791Z",
     "shell.execute_reply": "2025-08-19T18:19:17.088114Z"
    },
    "papermill": {
     "duration": 0.03276,
     "end_time": "2025-08-19T18:19:17.090280",
     "exception": false,
     "start_time": "2025-08-19T18:19:17.057520",
     "status": "completed"
    },
    "tags": []
   },
   "outputs": [
    {
     "data": {
      "text/html": [
       "<div>\n",
       "<style scoped>\n",
       "    .dataframe tbody tr th:only-of-type {\n",
       "        vertical-align: middle;\n",
       "    }\n",
       "\n",
       "    .dataframe tbody tr th {\n",
       "        vertical-align: top;\n",
       "    }\n",
       "\n",
       "    .dataframe thead th {\n",
       "        text-align: right;\n",
       "    }\n",
       "</style>\n",
       "<table border=\"1\" class=\"dataframe\">\n",
       "  <thead>\n",
       "    <tr style=\"text-align: right;\">\n",
       "      <th></th>\n",
       "      <th>universe_id</th>\n",
       "      <th>universe_training_year</th>\n",
       "      <th>universe_training_size</th>\n",
       "      <th>universe_scale</th>\n",
       "      <th>universe_model</th>\n",
       "      <th>universe_exclude_features</th>\n",
       "      <th>universe_exclude_subgroups</th>\n",
       "      <th>q_hat</th>\n",
       "      <th>coverage</th>\n",
       "      <th>avg_size</th>\n",
       "    </tr>\n",
       "  </thead>\n",
       "  <tbody>\n",
       "    <tr>\n",
       "      <th>0</th>\n",
       "      <td>fe07dd8533d68c04238a04caaaaa9b9a</td>\n",
       "      <td>2010_14</td>\n",
       "      <td>25k</td>\n",
       "      <td>do-not-scale</td>\n",
       "      <td>penalized_logreg</td>\n",
       "      <td>age</td>\n",
       "      <td>keep-all</td>\n",
       "      <td>0.664679</td>\n",
       "      <td>0.91302</td>\n",
       "      <td>1.250875</td>\n",
       "    </tr>\n",
       "  </tbody>\n",
       "</table>\n",
       "</div>"
      ],
      "text/plain": [
       "                        universe_id universe_training_year  \\\n",
       "0  fe07dd8533d68c04238a04caaaaa9b9a                2010_14   \n",
       "\n",
       "  universe_training_size universe_scale    universe_model  \\\n",
       "0                    25k   do-not-scale  penalized_logreg   \n",
       "\n",
       "  universe_exclude_features universe_exclude_subgroups     q_hat  coverage  \\\n",
       "0                       age                   keep-all  0.664679   0.91302   \n",
       "\n",
       "   avg_size  \n",
       "0  1.250875  "
      ]
     },
     "execution_count": 50,
     "metadata": {},
     "output_type": "execute_result"
    }
   ],
   "source": [
    "cp_metrics_df"
   ]
  },
  {
   "cell_type": "markdown",
   "id": "ed608b0b",
   "metadata": {
    "papermill": {
     "duration": 0.012371,
     "end_time": "2025-08-19T18:19:17.118700",
     "exception": false,
     "start_time": "2025-08-19T18:19:17.106329",
     "status": "completed"
    },
    "tags": []
   },
   "source": [
    "Conditional coverage & looking at subgroups"
   ]
  },
  {
   "cell_type": "code",
   "execution_count": 51,
   "id": "8968c366",
   "metadata": {
    "execution": {
     "iopub.execute_input": "2025-08-19T18:19:17.153468Z",
     "iopub.status.busy": "2025-08-19T18:19:17.150574Z",
     "iopub.status.idle": "2025-08-19T18:19:17.441694Z",
     "shell.execute_reply": "2025-08-19T18:19:17.440870Z"
    },
    "papermill": {
     "duration": 0.313964,
     "end_time": "2025-08-19T18:19:17.444937",
     "exception": false,
     "start_time": "2025-08-19T18:19:17.130973",
     "status": "completed"
    },
    "tags": []
   },
   "outputs": [],
   "source": [
    "from fairness_multiverse.conformal import build_cp_groups\n",
    "\n",
    "cp_groups_df = build_cp_groups(pred_sets, y_true, X_test.index, org_test)"
   ]
  },
  {
   "cell_type": "code",
   "execution_count": 52,
   "id": "292ddabf",
   "metadata": {
    "execution": {
     "iopub.execute_input": "2025-08-19T18:19:17.492140Z",
     "iopub.status.busy": "2025-08-19T18:19:17.490872Z",
     "iopub.status.idle": "2025-08-19T18:19:18.372525Z",
     "shell.execute_reply": "2025-08-19T18:19:18.371331Z"
    },
    "papermill": {
     "duration": 0.900936,
     "end_time": "2025-08-19T18:19:18.375735",
     "exception": false,
     "start_time": "2025-08-19T18:19:17.474799",
     "status": "completed"
    },
    "tags": []
   },
   "outputs": [],
   "source": [
    "# Define covered = 1 if true_label is in the predicted set\n",
    "cp_groups_df['covered'] = cp_groups_df.apply(\n",
    "    lambda r: int(r['true_label'] in r['pred_set']),\n",
    "    axis=1\n",
    ")"
   ]
  },
  {
   "cell_type": "code",
   "execution_count": 53,
   "id": "3a261692",
   "metadata": {
    "execution": {
     "iopub.execute_input": "2025-08-19T18:19:18.421533Z",
     "iopub.status.busy": "2025-08-19T18:19:18.420071Z",
     "iopub.status.idle": "2025-08-19T18:19:18.445465Z",
     "shell.execute_reply": "2025-08-19T18:19:18.444625Z"
    },
    "papermill": {
     "duration": 0.043841,
     "end_time": "2025-08-19T18:19:18.447367",
     "exception": false,
     "start_time": "2025-08-19T18:19:18.403526",
     "status": "completed"
    },
    "tags": []
   },
   "outputs": [],
   "source": [
    "subgroups = ['frau1','nongerman','nongerman_male','nongerman_female']\n",
    "\n",
    "# Conditional coverage for subgroup==1\n",
    "cond_coverage = {\n",
    "    g: cp_groups_df.loc[cp_groups_df[g]==1, 'covered'].mean()\n",
    "    for g in subgroups\n",
    "}"
   ]
  },
  {
   "cell_type": "code",
   "execution_count": 54,
   "id": "894fd600",
   "metadata": {
    "execution": {
     "iopub.execute_input": "2025-08-19T18:19:18.488433Z",
     "iopub.status.busy": "2025-08-19T18:19:18.487397Z",
     "iopub.status.idle": "2025-08-19T18:19:18.499592Z",
     "shell.execute_reply": "2025-08-19T18:19:18.498233Z"
    },
    "papermill": {
     "duration": 0.029341,
     "end_time": "2025-08-19T18:19:18.501288",
     "exception": false,
     "start_time": "2025-08-19T18:19:18.471947",
     "status": "completed"
    },
    "tags": []
   },
   "outputs": [
    {
     "data": {
      "text/plain": [
       "{'frau1': 0.9128723547647931,\n",
       " 'nongerman': 0.9621063268399483,\n",
       " 'nongerman_male': 0.9677564622174187,\n",
       " 'nongerman_female': 0.9527570789865872}"
      ]
     },
     "execution_count": 54,
     "metadata": {},
     "output_type": "execute_result"
    }
   ],
   "source": [
    "cond_coverage"
   ]
  },
  {
   "cell_type": "code",
   "execution_count": 55,
   "id": "942895c7",
   "metadata": {
    "execution": {
     "iopub.execute_input": "2025-08-19T18:19:18.531860Z",
     "iopub.status.busy": "2025-08-19T18:19:18.530666Z",
     "iopub.status.idle": "2025-08-19T18:19:18.543211Z",
     "shell.execute_reply": "2025-08-19T18:19:18.541595Z"
    },
    "papermill": {
     "duration": 0.028637,
     "end_time": "2025-08-19T18:19:18.545124",
     "exception": false,
     "start_time": "2025-08-19T18:19:18.516487",
     "status": "completed"
    },
    "tags": []
   },
   "outputs": [],
   "source": [
    "for subgroup, cov in cond_coverage.items():\n",
    "    cp_metrics_df[f\"cov_{subgroup}\"] = cov"
   ]
  },
  {
   "cell_type": "code",
   "execution_count": 56,
   "id": "3970120f",
   "metadata": {
    "execution": {
     "iopub.execute_input": "2025-08-19T18:19:18.592507Z",
     "iopub.status.busy": "2025-08-19T18:19:18.591284Z",
     "iopub.status.idle": "2025-08-19T18:19:18.618072Z",
     "shell.execute_reply": "2025-08-19T18:19:18.617355Z"
    },
    "papermill": {
     "duration": 0.057091,
     "end_time": "2025-08-19T18:19:18.619469",
     "exception": false,
     "start_time": "2025-08-19T18:19:18.562378",
     "status": "completed"
    },
    "tags": []
   },
   "outputs": [
    {
     "data": {
      "text/html": [
       "<div>\n",
       "<style scoped>\n",
       "    .dataframe tbody tr th:only-of-type {\n",
       "        vertical-align: middle;\n",
       "    }\n",
       "\n",
       "    .dataframe tbody tr th {\n",
       "        vertical-align: top;\n",
       "    }\n",
       "\n",
       "    .dataframe thead th {\n",
       "        text-align: right;\n",
       "    }\n",
       "</style>\n",
       "<table border=\"1\" class=\"dataframe\">\n",
       "  <thead>\n",
       "    <tr style=\"text-align: right;\">\n",
       "      <th></th>\n",
       "      <th>universe_id</th>\n",
       "      <th>universe_training_year</th>\n",
       "      <th>universe_training_size</th>\n",
       "      <th>universe_scale</th>\n",
       "      <th>universe_model</th>\n",
       "      <th>universe_exclude_features</th>\n",
       "      <th>universe_exclude_subgroups</th>\n",
       "      <th>q_hat</th>\n",
       "      <th>coverage</th>\n",
       "      <th>avg_size</th>\n",
       "      <th>cov_frau1</th>\n",
       "      <th>cov_nongerman</th>\n",
       "      <th>cov_nongerman_male</th>\n",
       "      <th>cov_nongerman_female</th>\n",
       "    </tr>\n",
       "  </thead>\n",
       "  <tbody>\n",
       "    <tr>\n",
       "      <th>0</th>\n",
       "      <td>fe07dd8533d68c04238a04caaaaa9b9a</td>\n",
       "      <td>2010_14</td>\n",
       "      <td>25k</td>\n",
       "      <td>do-not-scale</td>\n",
       "      <td>penalized_logreg</td>\n",
       "      <td>age</td>\n",
       "      <td>keep-all</td>\n",
       "      <td>0.664679</td>\n",
       "      <td>0.91302</td>\n",
       "      <td>1.250875</td>\n",
       "      <td>0.912872</td>\n",
       "      <td>0.962106</td>\n",
       "      <td>0.967756</td>\n",
       "      <td>0.952757</td>\n",
       "    </tr>\n",
       "  </tbody>\n",
       "</table>\n",
       "</div>"
      ],
      "text/plain": [
       "                        universe_id universe_training_year  \\\n",
       "0  fe07dd8533d68c04238a04caaaaa9b9a                2010_14   \n",
       "\n",
       "  universe_training_size universe_scale    universe_model  \\\n",
       "0                    25k   do-not-scale  penalized_logreg   \n",
       "\n",
       "  universe_exclude_features universe_exclude_subgroups     q_hat  coverage  \\\n",
       "0                       age                   keep-all  0.664679   0.91302   \n",
       "\n",
       "   avg_size  cov_frau1  cov_nongerman  cov_nongerman_male  \\\n",
       "0  1.250875   0.912872       0.962106            0.967756   \n",
       "\n",
       "   cov_nongerman_female  \n",
       "0              0.952757  "
      ]
     },
     "execution_count": 56,
     "metadata": {},
     "output_type": "execute_result"
    }
   ],
   "source": [
    "cp_metrics_df"
   ]
  },
  {
   "cell_type": "markdown",
   "id": "3fc519cc",
   "metadata": {
    "papermill": {
     "duration": 0.026686,
     "end_time": "2025-08-19T18:19:18.659534",
     "exception": false,
     "start_time": "2025-08-19T18:19:18.632848",
     "status": "completed"
    },
    "tags": []
   },
   "source": [
    "# (Fairness) Metrics"
   ]
  },
  {
   "cell_type": "code",
   "execution_count": 57,
   "id": "a2e5e155",
   "metadata": {
    "execution": {
     "iopub.execute_input": "2025-08-19T18:19:18.687332Z",
     "iopub.status.busy": "2025-08-19T18:19:18.686167Z",
     "iopub.status.idle": "2025-08-19T18:19:18.714260Z",
     "shell.execute_reply": "2025-08-19T18:19:18.713399Z"
    },
    "papermill": {
     "duration": 0.04456,
     "end_time": "2025-08-19T18:19:18.716612",
     "exception": false,
     "start_time": "2025-08-19T18:19:18.672052",
     "status": "completed"
    },
    "tags": []
   },
   "outputs": [],
   "source": [
    "colname_to_bin = \"maxdeutsch1\"\n",
    "majority_value = org_train[colname_to_bin].mode()[0]\n",
    "\n",
    "org_test[\"majmin\"] = np.where(org_test[colname_to_bin] == majority_value, \"majority\", \"minority\")"
   ]
  },
  {
   "cell_type": "code",
   "execution_count": 58,
   "id": "17e3e4d5",
   "metadata": {
    "execution": {
     "iopub.execute_input": "2025-08-19T18:19:18.760272Z",
     "iopub.status.busy": "2025-08-19T18:19:18.759408Z",
     "iopub.status.idle": "2025-08-19T18:19:20.481921Z",
     "shell.execute_reply": "2025-08-19T18:19:20.480626Z"
    },
    "papermill": {
     "duration": 1.739979,
     "end_time": "2025-08-19T18:19:20.483841",
     "exception": false,
     "start_time": "2025-08-19T18:19:18.743862",
     "status": "completed"
    },
    "tags": []
   },
   "outputs": [],
   "source": [
    "example_universe = universe.copy()\n",
    "example_universe[\"cutoff\"] = example_universe[\"cutoff\"][0]\n",
    "example_universe[\"eval_fairness_grouping\"] = example_universe[\"eval_fairness_grouping\"][0]\n",
    "fairness_dict, metric_frame = universe_analysis.compute_metrics(\n",
    "    example_universe,\n",
    "    y_pred_prob=probs_test,\n",
    "    y_test=y_true,\n",
    "    org_test=org_test,\n",
    ")"
   ]
  },
  {
   "cell_type": "markdown",
   "id": "1fb7a0e9",
   "metadata": {
    "papermill": {
     "duration": 0.012748,
     "end_time": "2025-08-19T18:19:20.511875",
     "exception": false,
     "start_time": "2025-08-19T18:19:20.499127",
     "status": "completed"
    },
    "tags": []
   },
   "source": [
    "# Overall"
   ]
  },
  {
   "cell_type": "markdown",
   "id": "be1784b1",
   "metadata": {
    "papermill": {
     "duration": 0.012509,
     "end_time": "2025-08-19T18:19:20.537026",
     "exception": false,
     "start_time": "2025-08-19T18:19:20.524517",
     "status": "completed"
    },
    "tags": []
   },
   "source": [
    "Main fairness target: Equalized Odds. Seems to be a better fit than equal opportunity, since we're not only interested in Y = 1. Seems to be a better fit than demographic parity, since we also care about accuracy, not just equal distribution of preds.\n",
    "\n",
    "Pick column for computation of fairness metrics\n",
    "\n",
    "Performance\n",
    "Overall performance measures, most interesting in relation to the measures split by group below"
   ]
  },
  {
   "cell_type": "code",
   "execution_count": 59,
   "id": "b7672bee",
   "metadata": {
    "execution": {
     "iopub.execute_input": "2025-08-19T18:19:20.565877Z",
     "iopub.status.busy": "2025-08-19T18:19:20.564245Z",
     "iopub.status.idle": "2025-08-19T18:19:20.580309Z",
     "shell.execute_reply": "2025-08-19T18:19:20.579220Z"
    },
    "papermill": {
     "duration": 0.032329,
     "end_time": "2025-08-19T18:19:20.581901",
     "exception": false,
     "start_time": "2025-08-19T18:19:20.549572",
     "status": "completed"
    },
    "tags": []
   },
   "outputs": [
    {
     "data": {
      "text/plain": [
       "accuracy                   0.216955\n",
       "balanced accuracy          0.532038\n",
       "f1                         0.238490\n",
       "precision                  0.136241\n",
       "false positive rate        0.891780\n",
       "false negative rate        0.044143\n",
       "selection rate             0.900000\n",
       "count                  89710.000000\n",
       "dtype: float64"
      ]
     },
     "execution_count": 59,
     "metadata": {},
     "output_type": "execute_result"
    }
   ],
   "source": [
    "metric_frame.overall"
   ]
  },
  {
   "cell_type": "markdown",
   "id": "d93333c9",
   "metadata": {
    "papermill": {
     "duration": 0.01307,
     "end_time": "2025-08-19T18:19:20.614405",
     "exception": false,
     "start_time": "2025-08-19T18:19:20.601335",
     "status": "completed"
    },
    "tags": []
   },
   "source": [
    "By Group"
   ]
  },
  {
   "cell_type": "code",
   "execution_count": 60,
   "id": "52256966",
   "metadata": {
    "execution": {
     "iopub.execute_input": "2025-08-19T18:19:20.642660Z",
     "iopub.status.busy": "2025-08-19T18:19:20.641630Z",
     "iopub.status.idle": "2025-08-19T18:19:20.665465Z",
     "shell.execute_reply": "2025-08-19T18:19:20.664341Z"
    },
    "papermill": {
     "duration": 0.040356,
     "end_time": "2025-08-19T18:19:20.667504",
     "exception": false,
     "start_time": "2025-08-19T18:19:20.627148",
     "status": "completed"
    },
    "tags": []
   },
   "outputs": [
    {
     "data": {
      "text/html": [
       "<div>\n",
       "<style scoped>\n",
       "    .dataframe tbody tr th:only-of-type {\n",
       "        vertical-align: middle;\n",
       "    }\n",
       "\n",
       "    .dataframe tbody tr th {\n",
       "        vertical-align: top;\n",
       "    }\n",
       "\n",
       "    .dataframe thead th {\n",
       "        text-align: right;\n",
       "    }\n",
       "</style>\n",
       "<table border=\"1\" class=\"dataframe\">\n",
       "  <thead>\n",
       "    <tr style=\"text-align: right;\">\n",
       "      <th></th>\n",
       "      <th>accuracy</th>\n",
       "      <th>balanced accuracy</th>\n",
       "      <th>f1</th>\n",
       "      <th>precision</th>\n",
       "      <th>false positive rate</th>\n",
       "      <th>false negative rate</th>\n",
       "      <th>selection rate</th>\n",
       "      <th>count</th>\n",
       "    </tr>\n",
       "    <tr>\n",
       "      <th>majmin</th>\n",
       "      <th></th>\n",
       "      <th></th>\n",
       "      <th></th>\n",
       "      <th></th>\n",
       "      <th></th>\n",
       "      <th></th>\n",
       "      <th></th>\n",
       "      <th></th>\n",
       "    </tr>\n",
       "  </thead>\n",
       "  <tbody>\n",
       "    <tr>\n",
       "      <th>majority</th>\n",
       "      <td>0.239584</td>\n",
       "      <td>0.539828</td>\n",
       "      <td>0.247805</td>\n",
       "      <td>0.142533</td>\n",
       "      <td>0.868266</td>\n",
       "      <td>0.052079</td>\n",
       "      <td>0.878791</td>\n",
       "      <td>69170.0</td>\n",
       "    </tr>\n",
       "    <tr>\n",
       "      <th>minority</th>\n",
       "      <td>0.140750</td>\n",
       "      <td>0.508514</td>\n",
       "      <td>0.209310</td>\n",
       "      <td>0.117075</td>\n",
       "      <td>0.969459</td>\n",
       "      <td>0.013514</td>\n",
       "      <td>0.971422</td>\n",
       "      <td>20540.0</td>\n",
       "    </tr>\n",
       "  </tbody>\n",
       "</table>\n",
       "</div>"
      ],
      "text/plain": [
       "          accuracy  balanced accuracy        f1  precision  \\\n",
       "majmin                                                       \n",
       "majority  0.239584           0.539828  0.247805   0.142533   \n",
       "minority  0.140750           0.508514  0.209310   0.117075   \n",
       "\n",
       "          false positive rate  false negative rate  selection rate    count  \n",
       "majmin                                                                       \n",
       "majority             0.868266             0.052079        0.878791  69170.0  \n",
       "minority             0.969459             0.013514        0.971422  20540.0  "
      ]
     },
     "execution_count": 60,
     "metadata": {},
     "output_type": "execute_result"
    }
   ],
   "source": [
    "metric_frame.by_group"
   ]
  },
  {
   "cell_type": "code",
   "execution_count": 61,
   "id": "6e6c20ae",
   "metadata": {
    "execution": {
     "iopub.execute_input": "2025-08-19T18:19:20.704165Z",
     "iopub.status.busy": "2025-08-19T18:19:20.703097Z",
     "iopub.status.idle": "2025-08-19T18:19:22.519069Z",
     "shell.execute_reply": "2025-08-19T18:19:22.518209Z"
    },
    "papermill": {
     "duration": 1.832533,
     "end_time": "2025-08-19T18:19:22.520465",
     "exception": false,
     "start_time": "2025-08-19T18:19:20.687932",
     "status": "completed"
    },
    "tags": []
   },
   "outputs": [
    {
     "data": {
      "text/plain": [
       "array([[<Axes: title={'center': 'accuracy'}, xlabel='majmin'>,\n",
       "        <Axes: title={'center': 'balanced accuracy'}, xlabel='majmin'>,\n",
       "        <Axes: title={'center': 'f1'}, xlabel='majmin'>],\n",
       "       [<Axes: title={'center': 'precision'}, xlabel='majmin'>,\n",
       "        <Axes: title={'center': 'false positive rate'}, xlabel='majmin'>,\n",
       "        <Axes: title={'center': 'false negative rate'}, xlabel='majmin'>],\n",
       "       [<Axes: title={'center': 'selection rate'}, xlabel='majmin'>,\n",
       "        <Axes: title={'center': 'count'}, xlabel='majmin'>,\n",
       "        <Axes: xlabel='majmin'>]], dtype=object)"
      ]
     },
     "execution_count": 61,
     "metadata": {},
     "output_type": "execute_result"
    },
    {
     "data": {
      "image/png": "[encoded data removed]",
      "text/plain": [
       "<Figure size 1200x800 with 9 Axes>"
      ]
     },
     "metadata": {},
     "output_type": "display_data"
    }
   ],
   "source": [
    "# In a graphic\n",
    "metric_frame.by_group.plot.bar(\n",
    "    subplots=True,\n",
    "    layout=[3, 3],\n",
    "    legend=False,\n",
    "    figsize=[12, 8],\n",
    "    title=\"Show all metrics\",\n",
    ")"
   ]
  },
  {
   "cell_type": "markdown",
   "id": "b2e433ae",
   "metadata": {
    "papermill": {
     "duration": 0.013994,
     "end_time": "2025-08-19T18:19:22.549987",
     "exception": false,
     "start_time": "2025-08-19T18:19:22.535993",
     "status": "completed"
    },
    "tags": []
   },
   "source": [
    "# Final Output"
   ]
  },
  {
   "cell_type": "code",
   "execution_count": 62,
   "id": "3871301e",
   "metadata": {
    "execution": {
     "iopub.execute_input": "2025-08-19T18:19:22.590604Z",
     "iopub.status.busy": "2025-08-19T18:19:22.587896Z",
     "iopub.status.idle": "2025-08-19T18:19:22.606048Z",
     "shell.execute_reply": "2025-08-19T18:19:22.604889Z"
    },
    "papermill": {
     "duration": 0.044176,
     "end_time": "2025-08-19T18:19:22.608013",
     "exception": false,
     "start_time": "2025-08-19T18:19:22.563837",
     "status": "completed"
    },
    "tags": []
   },
   "outputs": [
    {
     "data": {
      "text/plain": [
       "4"
      ]
     },
     "execution_count": 62,
     "metadata": {},
     "output_type": "execute_result"
    }
   ],
   "source": [
    "sub_universes = universe_analysis.generate_sub_universes()\n",
    "len(sub_universes)"
   ]
  },
  {
   "cell_type": "code",
   "execution_count": 63,
   "id": "d9cfdaca",
   "metadata": {
    "execution": {
     "iopub.execute_input": "2025-08-19T18:19:22.658633Z",
     "iopub.status.busy": "2025-08-19T18:19:22.657690Z",
     "iopub.status.idle": "2025-08-19T18:19:22.664773Z",
     "shell.execute_reply": "2025-08-19T18:19:22.663728Z"
    },
    "papermill": {
     "duration": 0.037414,
     "end_time": "2025-08-19T18:19:22.667091",
     "exception": false,
     "start_time": "2025-08-19T18:19:22.629677",
     "status": "completed"
    },
    "tags": []
   },
   "outputs": [],
   "source": [
    "def filter_sub_universe_data(sub_universe, org_test):\n",
    "    # Keep all rows — no filtering\n",
    "    keep_rows_mask = np.ones(org_test.shape[0], dtype=bool)\n",
    "\n",
    "    print(f\"[INFO] Keeping all rows: {keep_rows_mask.sum()} rows retained.\")\n",
    "    return keep_rows_mask"
   ]
  },
  {
   "cell_type": "code",
   "execution_count": 64,
   "id": "2bc31ac1",
   "metadata": {
    "execution": {
     "iopub.execute_input": "2025-08-19T18:19:22.704120Z",
     "iopub.status.busy": "2025-08-19T18:19:22.703719Z",
     "iopub.status.idle": "2025-08-19T18:19:29.432334Z",
     "shell.execute_reply": "2025-08-19T18:19:29.431360Z"
    },
    "papermill": {
     "duration": 6.745312,
     "end_time": "2025-08-19T18:19:29.433631",
     "exception": false,
     "start_time": "2025-08-19T18:19:22.688319",
     "status": "completed"
    },
    "tags": []
   },
   "outputs": [
    {
     "name": "stdout",
     "output_type": "stream",
     "text": [
      "Stopping execution_time clock.\n",
      "[INFO] Keeping all rows: 89710 rows retained.\n"
     ]
    },
    {
     "name": "stdout",
     "output_type": "stream",
     "text": [
      "[INFO] Keeping all rows: 89710 rows retained.\n"
     ]
    },
    {
     "name": "stdout",
     "output_type": "stream",
     "text": [
      "[INFO] Keeping all rows: 89710 rows retained.\n"
     ]
    },
    {
     "name": "stdout",
     "output_type": "stream",
     "text": [
      "[INFO] Keeping all rows: 89710 rows retained.\n"
     ]
    },
    {
     "data": {
      "text/html": [
       "<div>\n",
       "<style scoped>\n",
       "    .dataframe tbody tr th:only-of-type {\n",
       "        vertical-align: middle;\n",
       "    }\n",
       "\n",
       "    .dataframe tbody tr th {\n",
       "        vertical-align: top;\n",
       "    }\n",
       "\n",
       "    .dataframe thead th {\n",
       "        text-align: right;\n",
       "    }\n",
       "</style>\n",
       "<table border=\"1\" class=\"dataframe\">\n",
       "  <thead>\n",
       "    <tr style=\"text-align: right;\">\n",
       "      <th></th>\n",
       "      <th>run_no</th>\n",
       "      <th>universe_id</th>\n",
       "      <th>universe_settings</th>\n",
       "      <th>execution_time</th>\n",
       "      <th>test_size_n</th>\n",
       "      <th>test_size_frac</th>\n",
       "      <th>fair_main_equalized_odds_difference</th>\n",
       "      <th>fair_main_equalized_odds_ratio</th>\n",
       "      <th>fair_main_demographic_parity_difference</th>\n",
       "      <th>fair_main_demographic_parity_ratio</th>\n",
       "      <th>...</th>\n",
       "      <th>perf_grp_precision_0</th>\n",
       "      <th>perf_grp_precision_1</th>\n",
       "      <th>perf_grp_false positive rate_0</th>\n",
       "      <th>perf_grp_false positive rate_1</th>\n",
       "      <th>perf_grp_false negative rate_0</th>\n",
       "      <th>perf_grp_false negative rate_1</th>\n",
       "      <th>perf_grp_selection rate_0</th>\n",
       "      <th>perf_grp_selection rate_1</th>\n",
       "      <th>perf_grp_count_0</th>\n",
       "      <th>perf_grp_count_1</th>\n",
       "    </tr>\n",
       "  </thead>\n",
       "  <tbody>\n",
       "    <tr>\n",
       "      <th>0</th>\n",
       "      <td>3</td>\n",
       "      <td>fe07dd8533d68c04238a04caaaaa9b9a</td>\n",
       "      <td>{\"cutoff\": \"quantile_0.1\", \"eval_fairness_grou...</td>\n",
       "      <td>22.710404</td>\n",
       "      <td>89710</td>\n",
       "      <td>1.0</td>\n",
       "      <td>0.101193</td>\n",
       "      <td>0.895619</td>\n",
       "      <td>0.092630</td>\n",
       "      <td>0.904645</td>\n",
       "      <td>...</td>\n",
       "      <td>NaN</td>\n",
       "      <td>NaN</td>\n",
       "      <td>NaN</td>\n",
       "      <td>NaN</td>\n",
       "      <td>NaN</td>\n",
       "      <td>NaN</td>\n",
       "      <td>NaN</td>\n",
       "      <td>NaN</td>\n",
       "      <td>NaN</td>\n",
       "      <td>NaN</td>\n",
       "    </tr>\n",
       "    <tr>\n",
       "      <th>0</th>\n",
       "      <td>3</td>\n",
       "      <td>fe07dd8533d68c04238a04caaaaa9b9a</td>\n",
       "      <td>{\"cutoff\": \"quantile_0.1\", \"eval_fairness_grou...</td>\n",
       "      <td>22.710404</td>\n",
       "      <td>89710</td>\n",
       "      <td>1.0</td>\n",
       "      <td>0.101193</td>\n",
       "      <td>0.895619</td>\n",
       "      <td>0.092630</td>\n",
       "      <td>0.904645</td>\n",
       "      <td>...</td>\n",
       "      <td>0.117075</td>\n",
       "      <td>0.142533</td>\n",
       "      <td>0.969459</td>\n",
       "      <td>0.868266</td>\n",
       "      <td>0.013514</td>\n",
       "      <td>0.052079</td>\n",
       "      <td>0.971422</td>\n",
       "      <td>0.878791</td>\n",
       "      <td>20540.0</td>\n",
       "      <td>69170.0</td>\n",
       "    </tr>\n",
       "    <tr>\n",
       "      <th>0</th>\n",
       "      <td>3</td>\n",
       "      <td>fe07dd8533d68c04238a04caaaaa9b9a</td>\n",
       "      <td>{\"cutoff\": \"quantile_0.25\", \"eval_fairness_gro...</td>\n",
       "      <td>22.710404</td>\n",
       "      <td>89710</td>\n",
       "      <td>1.0</td>\n",
       "      <td>0.237283</td>\n",
       "      <td>0.740560</td>\n",
       "      <td>0.219238</td>\n",
       "      <td>0.761447</td>\n",
       "      <td>...</td>\n",
       "      <td>NaN</td>\n",
       "      <td>NaN</td>\n",
       "      <td>NaN</td>\n",
       "      <td>NaN</td>\n",
       "      <td>NaN</td>\n",
       "      <td>NaN</td>\n",
       "      <td>NaN</td>\n",
       "      <td>NaN</td>\n",
       "      <td>NaN</td>\n",
       "      <td>NaN</td>\n",
       "    </tr>\n",
       "    <tr>\n",
       "      <th>0</th>\n",
       "      <td>3</td>\n",
       "      <td>fe07dd8533d68c04238a04caaaaa9b9a</td>\n",
       "      <td>{\"cutoff\": \"quantile_0.25\", \"eval_fairness_gro...</td>\n",
       "      <td>22.710404</td>\n",
       "      <td>89710</td>\n",
       "      <td>1.0</td>\n",
       "      <td>0.237283</td>\n",
       "      <td>0.740560</td>\n",
       "      <td>0.219238</td>\n",
       "      <td>0.761447</td>\n",
       "      <td>...</td>\n",
       "      <td>0.119563</td>\n",
       "      <td>0.160025</td>\n",
       "      <td>0.914594</td>\n",
       "      <td>0.677311</td>\n",
       "      <td>0.046875</td>\n",
       "      <td>0.152516</td>\n",
       "      <td>0.919036</td>\n",
       "      <td>0.699798</td>\n",
       "      <td>20540.0</td>\n",
       "      <td>69170.0</td>\n",
       "    </tr>\n",
       "  </tbody>\n",
       "</table>\n",
       "<p>4 rows × 50 columns</p>\n",
       "</div>"
      ],
      "text/plain": [
       "  run_no                       universe_id  \\\n",
       "0      3  fe07dd8533d68c04238a04caaaaa9b9a   \n",
       "0      3  fe07dd8533d68c04238a04caaaaa9b9a   \n",
       "0      3  fe07dd8533d68c04238a04caaaaa9b9a   \n",
       "0      3  fe07dd8533d68c04238a04caaaaa9b9a   \n",
       "\n",
       "                                   universe_settings  execution_time  \\\n",
       "0  {\"cutoff\": \"quantile_0.1\", \"eval_fairness_grou...       22.710404   \n",
       "0  {\"cutoff\": \"quantile_0.1\", \"eval_fairness_grou...       22.710404   \n",
       "0  {\"cutoff\": \"quantile_0.25\", \"eval_fairness_gro...       22.710404   \n",
       "0  {\"cutoff\": \"quantile_0.25\", \"eval_fairness_gro...       22.710404   \n",
       "\n",
       "   test_size_n  test_size_frac  fair_main_equalized_odds_difference  \\\n",
       "0        89710             1.0                             0.101193   \n",
       "0        89710             1.0                             0.101193   \n",
       "0        89710             1.0                             0.237283   \n",
       "0        89710             1.0                             0.237283   \n",
       "\n",
       "   fair_main_equalized_odds_ratio  fair_main_demographic_parity_difference  \\\n",
       "0                        0.895619                                 0.092630   \n",
       "0                        0.895619                                 0.092630   \n",
       "0                        0.740560                                 0.219238   \n",
       "0                        0.740560                                 0.219238   \n",
       "\n",
       "   fair_main_demographic_parity_ratio  ...  perf_grp_precision_0  \\\n",
       "0                            0.904645  ...                   NaN   \n",
       "0                            0.904645  ...              0.117075   \n",
       "0                            0.761447  ...                   NaN   \n",
       "0                            0.761447  ...              0.119563   \n",
       "\n",
       "   perf_grp_precision_1  perf_grp_false positive rate_0  \\\n",
       "0                   NaN                             NaN   \n",
       "0              0.142533                        0.969459   \n",
       "0                   NaN                             NaN   \n",
       "0              0.160025                        0.914594   \n",
       "\n",
       "   perf_grp_false positive rate_1  perf_grp_false negative rate_0  \\\n",
       "0                             NaN                             NaN   \n",
       "0                        0.868266                        0.013514   \n",
       "0                             NaN                             NaN   \n",
       "0                        0.677311                        0.046875   \n",
       "\n",
       "   perf_grp_false negative rate_1  perf_grp_selection rate_0  \\\n",
       "0                             NaN                        NaN   \n",
       "0                        0.052079                   0.971422   \n",
       "0                             NaN                        NaN   \n",
       "0                        0.152516                   0.919036   \n",
       "\n",
       "   perf_grp_selection rate_1  perf_grp_count_0  perf_grp_count_1  \n",
       "0                        NaN               NaN               NaN  \n",
       "0                   0.878791           20540.0           69170.0  \n",
       "0                        NaN               NaN               NaN  \n",
       "0                   0.699798           20540.0           69170.0  \n",
       "\n",
       "[4 rows x 50 columns]"
      ]
     },
     "execution_count": 64,
     "metadata": {},
     "output_type": "execute_result"
    }
   ],
   "source": [
    "final_output = universe_analysis.generate_final_output(\n",
    "    y_pred_prob=probs_test,\n",
    "    y_test=y_true,\n",
    "    org_test=org_test,\n",
    "    filter_data=filter_sub_universe_data,\n",
    "    cp_metrics_df=cp_metrics_df,\n",
    "    save=True,\n",
    ")\n",
    "final_output"
   ]
  },
  {
   "cell_type": "code",
   "execution_count": null,
   "id": "8b80a1ff",
   "metadata": {
    "papermill": {
     "duration": 0.014917,
     "end_time": "2025-08-19T18:19:29.467021",
     "exception": false,
     "start_time": "2025-08-19T18:19:29.452104",
     "status": "completed"
    },
    "tags": []
   },
   "outputs": [],
   "source": []
  },
  {
   "cell_type": "code",
   "execution_count": null,
   "id": "275c9fad",
   "metadata": {
    "papermill": {
     "duration": 0.014904,
     "end_time": "2025-08-19T18:19:29.496523",
     "exception": false,
     "start_time": "2025-08-19T18:19:29.481619",
     "status": "completed"
    },
    "tags": []
   },
   "outputs": [],
   "source": []
  }
 ],
 "metadata": {
  "celltoolbar": "Tags",
  "kernelspec": {
   "display_name": "Python (CMA Fairness)",
   "language": "python",
   "name": "cma_fair_env"
  },
  "language_info": {
   "codemirror_mode": {
    "name": "ipython",
    "version": 3
   },
   "file_extension": ".py",
   "mimetype": "text/x-python",
   "name": "python",
   "nbconvert_exporter": "python",
   "pygments_lexer": "ipython3",
   "version": "3.10.12"
  },
  "papermill": {
   "default_parameters": {},
   "duration": 33.324587,
   "end_time": "2025-08-19T18:19:30.334425",
   "environment_variables": {},
   "exception": null,
   "input_path": "universe_analysis.ipynb",
   "output_path": "output/runs/3/notebooks/m_3-fe07dd8533d68c04238a04caaaaa9b9a.ipynb",
   "parameters": {
    "output_dir": "output",
    "run_no": "3",
    "seed": "2023",
    "universe": "{\"cutoff\": [\"quantile_0.1\", \"quantile_0.25\"], \"eval_fairness_grouping\": [\"majority-minority\", \"nationality-all\"], \"exclude_features\": \"age\", \"exclude_subgroups\": \"keep-all\", \"model\": \"penalized_logreg\", \"scale\": \"do-not-scale\", \"training_size\": \"25k\", \"training_year\": \"2010_14\"}",
    "universe_id": "fe07dd8533d68c04238a04caaaaa9b9a"
   },
   "start_time": "2025-08-19T18:18:57.009838",
   "version": "2.6.0"
  }
 },
 "nbformat": 4,
 "nbformat_minor": 5
}