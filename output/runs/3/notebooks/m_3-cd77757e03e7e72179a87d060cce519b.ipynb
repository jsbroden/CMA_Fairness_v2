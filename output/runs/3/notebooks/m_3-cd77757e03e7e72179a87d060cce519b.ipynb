{
 "cells": [
  {
   "cell_type": "markdown",
   "id": "ef23dbb3",
   "metadata": {
    "papermill": {
     "duration": 0.022926,
     "end_time": "2025-08-19T18:03:20.588377",
     "exception": false,
     "start_time": "2025-08-19T18:03:20.565451",
     "status": "completed"
    },
    "tags": []
   },
   "source": [
    "# Setup"
   ]
  },
  {
   "cell_type": "code",
   "execution_count": 1,
   "id": "0bc8e7dc",
   "metadata": {
    "execution": {
     "iopub.execute_input": "2025-08-19T18:03:20.611317Z",
     "iopub.status.busy": "2025-08-19T18:03:20.610985Z",
     "iopub.status.idle": "2025-08-19T18:03:20.621658Z",
     "shell.execute_reply": "2025-08-19T18:03:20.620765Z"
    },
    "papermill": {
     "duration": 0.023008,
     "end_time": "2025-08-19T18:03:20.623757",
     "exception": false,
     "start_time": "2025-08-19T18:03:20.600749",
     "status": "completed"
    },
    "tags": []
   },
   "outputs": [
    {
     "name": "stdout",
     "output_type": "stream",
     "text": [
      "/dss/dsshome1/0C/ra93lal2/cma/CMA_Fairness_v2\n"
     ]
    },
    {
     "name": "stderr",
     "output_type": "stream",
     "text": [
      "/dss/dsshome1/0C/ra93lal2/.local/share/virtualenvs/CMA_Fairness_v2-3j10GkSs/lib/python3.10/site-packages/IPython/core/magics/osm.py:393: UserWarning: This is now an optional IPython functionality, using bookmarks requires you to install the `pickleshare` library.\n",
      "  bkms = self.shell.db.get('bookmarks', {})\n",
      "/dss/dsshome1/0C/ra93lal2/.local/share/virtualenvs/CMA_Fairness_v2-3j10GkSs/lib/python3.10/site-packages/IPython/core/magics/osm.py:417: UserWarning: This is now an optional IPython functionality, setting dhist requires you to install the `pickleshare` library.\n",
      "  self.shell.db['dhist'] = compress_dhist(dhist)[-100:]\n"
     ]
    }
   ],
   "source": [
    "%cd ~/cma/CMA_Fairness_v2"
   ]
  },
  {
   "cell_type": "markdown",
   "id": "9d235661",
   "metadata": {
    "papermill": {
     "duration": 0.009101,
     "end_time": "2025-08-19T18:03:20.642757",
     "exception": false,
     "start_time": "2025-08-19T18:03:20.633656",
     "status": "completed"
    },
    "tags": []
   },
   "source": [
    "The following cell holds the definition of our parameters, these values can be overriden by rendering the with e.g. the following command:\n",
    "\n",
    "papermill -p alpha 0.2 -p ratio 0.3 universe_analysis.ipynb output/test_run.ipynb"
   ]
  },
  {
   "cell_type": "code",
   "execution_count": 2,
   "id": "4a789d8e",
   "metadata": {
    "execution": {
     "iopub.execute_input": "2025-08-19T18:03:20.662521Z",
     "iopub.status.busy": "2025-08-19T18:03:20.662221Z",
     "iopub.status.idle": "2025-08-19T18:03:20.669996Z",
     "shell.execute_reply": "2025-08-19T18:03:20.669139Z"
    },
    "papermill": {
     "duration": 0.019698,
     "end_time": "2025-08-19T18:03:20.671546",
     "exception": false,
     "start_time": "2025-08-19T18:03:20.651848",
     "status": "completed"
    },
    "tags": []
   },
   "outputs": [
    {
     "name": "stdout",
     "output_type": "stream",
     "text": [
      "Current working directory: /dss/dsshome1/0C/ra93lal2/cma/CMA_Fairness_v2\n"
     ]
    }
   ],
   "source": [
    "import os\n",
    "print(\"Current working directory:\", os.getcwd())"
   ]
  },
  {
   "cell_type": "code",
   "execution_count": 3,
   "id": "4132aaed",
   "metadata": {
    "execution": {
     "iopub.execute_input": "2025-08-19T18:03:20.691912Z",
     "iopub.status.busy": "2025-08-19T18:03:20.691623Z",
     "iopub.status.idle": "2025-08-19T18:03:20.696667Z",
     "shell.execute_reply": "2025-08-19T18:03:20.695679Z"
    },
    "papermill": {
     "duration": 0.017189,
     "end_time": "2025-08-19T18:03:20.698236",
     "exception": false,
     "start_time": "2025-08-19T18:03:20.681047",
     "status": "completed"
    },
    "tags": [
     "parameters"
    ]
   },
   "outputs": [],
   "source": [
    "run_no = 0\n",
    "universe_id = \"test\"\n",
    "universe = {\n",
    "    \"training_size\": \"5k\", # \"25k\", \"5k\", \"1k\"\n",
    "    \"training_year\": \"2012_14\", # \"2014\", \"2012_14\", \"2010_14\"\n",
    "    \"scale\": \"scale\", # \"scale\", \"do-not-scale\",\n",
    "    \"model\": \"elasticnet\", # \"logreg\", \"penalized_logreg\", \"rf\", \"gbm\", \"elasticnet\"\n",
    "    \"cutoff\": [\"quantile_0.15\", \"quantile_0.30\"],\n",
    "    \"exclude_features\": \"age\", # \"none\", \"nationality\", \"sex\", \"nationality-sex\", \"age\"\n",
    "    \"exclude_subgroups\": \"drop-non-german\", # \"keep-all\", \"drop-non-german\"\n",
    "    \"eval_fairness_grouping\": [\"majority-minority\", \"nationality-all\"]\n",
    "}\n",
    "\n",
    "output_dir=\"./output\"\n",
    "seed=0"
   ]
  },
  {
   "cell_type": "code",
   "execution_count": 4,
   "id": "2870c370",
   "metadata": {
    "execution": {
     "iopub.execute_input": "2025-08-19T18:03:20.718686Z",
     "iopub.status.busy": "2025-08-19T18:03:20.718401Z",
     "iopub.status.idle": "2025-08-19T18:03:20.722904Z",
     "shell.execute_reply": "2025-08-19T18:03:20.721943Z"
    },
    "papermill": {
     "duration": 0.016234,
     "end_time": "2025-08-19T18:03:20.724425",
     "exception": false,
     "start_time": "2025-08-19T18:03:20.708191",
     "status": "completed"
    },
    "tags": [
     "injected-parameters"
    ]
   },
   "outputs": [],
   "source": [
    "# Parameters\n",
    "universe_id = \"cd77757e03e7e72179a87d060cce519b\"\n",
    "run_no = \"3\"\n",
    "universe = \"{\\\"cutoff\\\": [\\\"quantile_0.1\\\", \\\"quantile_0.25\\\"], \\\"eval_fairness_grouping\\\": [\\\"majority-minority\\\", \\\"nationality-all\\\"], \\\"exclude_features\\\": \\\"nationality-sex\\\", \\\"exclude_subgroups\\\": \\\"drop-non-german\\\", \\\"model\\\": \\\"logreg\\\", \\\"scale\\\": \\\"scale\\\", \\\"training_size\\\": \\\"25k\\\", \\\"training_year\\\": \\\"2012_14\\\"}\"\n",
    "output_dir = \"output\"\n",
    "seed = \"2023\"\n"
   ]
  },
  {
   "cell_type": "code",
   "execution_count": 5,
   "id": "a5d7941f",
   "metadata": {
    "execution": {
     "iopub.execute_input": "2025-08-19T18:03:20.749236Z",
     "iopub.status.busy": "2025-08-19T18:03:20.745974Z",
     "iopub.status.idle": "2025-08-19T18:03:20.755539Z",
     "shell.execute_reply": "2025-08-19T18:03:20.754711Z"
    },
    "papermill": {
     "duration": 0.026687,
     "end_time": "2025-08-19T18:03:20.760888",
     "exception": false,
     "start_time": "2025-08-19T18:03:20.734201",
     "status": "completed"
    },
    "tags": []
   },
   "outputs": [],
   "source": [
    "import json\n",
    "if isinstance(universe, str):\n",
    "    universe = json.loads(universe)"
   ]
  },
  {
   "cell_type": "code",
   "execution_count": 6,
   "id": "7076ccb1",
   "metadata": {
    "execution": {
     "iopub.execute_input": "2025-08-19T18:03:20.789284Z",
     "iopub.status.busy": "2025-08-19T18:03:20.788721Z",
     "iopub.status.idle": "2025-08-19T18:03:20.904072Z",
     "shell.execute_reply": "2025-08-19T18:03:20.902918Z"
    },
    "papermill": {
     "duration": 0.128529,
     "end_time": "2025-08-19T18:03:20.906084",
     "exception": false,
     "start_time": "2025-08-19T18:03:20.777555",
     "status": "completed"
    },
    "tags": []
   },
   "outputs": [],
   "source": [
    "# Auto-reload the custom package\n",
    "%load_ext autoreload\n",
    "%autoreload 1\n",
    "%aimport fairness_multiverse"
   ]
  },
  {
   "cell_type": "code",
   "execution_count": 7,
   "id": "94c8eb93",
   "metadata": {
    "execution": {
     "iopub.execute_input": "2025-08-19T18:03:20.929118Z",
     "iopub.status.busy": "2025-08-19T18:03:20.928110Z",
     "iopub.status.idle": "2025-08-19T18:03:22.428340Z",
     "shell.execute_reply": "2025-08-19T18:03:22.427328Z"
    },
    "papermill": {
     "duration": 1.51427,
     "end_time": "2025-08-19T18:03:22.430285",
     "exception": false,
     "start_time": "2025-08-19T18:03:20.916015",
     "status": "completed"
    },
    "tags": []
   },
   "outputs": [],
   "source": [
    "from fairness_multiverse.universe import UniverseAnalysis\n",
    "\n",
    "universe_analysis = UniverseAnalysis(\n",
    "    run_no = run_no,\n",
    "    universe_id = universe_id,\n",
    "    universe = universe,\n",
    "    output_dir=output_dir,\n",
    ")"
   ]
  },
  {
   "cell_type": "code",
   "execution_count": 8,
   "id": "2a6381cf",
   "metadata": {
    "execution": {
     "iopub.execute_input": "2025-08-19T18:03:22.451098Z",
     "iopub.status.busy": "2025-08-19T18:03:22.450453Z",
     "iopub.status.idle": "2025-08-19T18:03:22.457540Z",
     "shell.execute_reply": "2025-08-19T18:03:22.456488Z"
    },
    "papermill": {
     "duration": 0.018716,
     "end_time": "2025-08-19T18:03:22.458884",
     "exception": false,
     "start_time": "2025-08-19T18:03:22.440168",
     "status": "completed"
    },
    "tags": []
   },
   "outputs": [
    {
     "name": "stdout",
     "output_type": "stream",
     "text": [
      "Using Seed: 2023\n"
     ]
    }
   ],
   "source": [
    "import numpy as np\n",
    "parsed_seed = int(seed)\n",
    "np.random.seed(parsed_seed)\n",
    "print(f\"Using Seed: {parsed_seed}\")"
   ]
  },
  {
   "cell_type": "markdown",
   "id": "b6e958b4",
   "metadata": {
    "papermill": {
     "duration": 0.008824,
     "end_time": "2025-08-19T18:03:22.478576",
     "exception": false,
     "start_time": "2025-08-19T18:03:22.469752",
     "status": "completed"
    },
    "tags": []
   },
   "source": [
    "# Loading Data"
   ]
  },
  {
   "cell_type": "code",
   "execution_count": 9,
   "id": "98701482",
   "metadata": {
    "execution": {
     "iopub.execute_input": "2025-08-19T18:03:22.498826Z",
     "iopub.status.busy": "2025-08-19T18:03:22.497639Z",
     "iopub.status.idle": "2025-08-19T18:03:32.347359Z",
     "shell.execute_reply": "2025-08-19T18:03:32.346146Z"
    },
    "papermill": {
     "duration": 9.861387,
     "end_time": "2025-08-19T18:03:32.348779",
     "exception": false,
     "start_time": "2025-08-19T18:03:22.487392",
     "status": "completed"
    },
    "tags": []
   },
   "outputs": [
    {
     "name": "stdout",
     "output_type": "stream",
     "text": [
      "Loading SIAB data from cache: data/siab_cached.csv.gz\n"
     ]
    },
    {
     "name": "stdout",
     "output_type": "stream",
     "text": [
      "(643690, 164)\n"
     ]
    }
   ],
   "source": [
    "from pathlib import Path\n",
    "import pandas as pd\n",
    "\n",
    "# File paths\n",
    "raw_file = Path(\"data/raw/siab.csv\")\n",
    "cache_file = Path(\"data/siab_cached.csv.gz\")\n",
    "\n",
    "# Ensure cache directory exists\n",
    "cache_file.parent.mkdir(parents=True, exist_ok=True)\n",
    "\n",
    "# Load with simple caching\n",
    "if cache_file.exists():\n",
    "    print(f\"Loading SIAB data from cache: {cache_file}\")\n",
    "    siab = pd.read_csv(cache_file, compression='gzip')\n",
    "else:\n",
    "    print(f\"Cache not found. Reading raw SIAB data: {raw_file}\")\n",
    "    siab = pd.read_csv(raw_file)\n",
    "    siab.to_csv(cache_file, index=False, compression='gzip')\n",
    "    print(f\"Cached SIAB data to: {cache_file}\")\n",
    "\n",
    "print(siab.shape)"
   ]
  },
  {
   "cell_type": "code",
   "execution_count": 10,
   "id": "058d2abb",
   "metadata": {
    "execution": {
     "iopub.execute_input": "2025-08-19T18:03:32.386158Z",
     "iopub.status.busy": "2025-08-19T18:03:32.382757Z",
     "iopub.status.idle": "2025-08-19T18:03:32.573987Z",
     "shell.execute_reply": "2025-08-19T18:03:32.573232Z"
    },
    "papermill": {
     "duration": 0.206946,
     "end_time": "2025-08-19T18:03:32.575873",
     "exception": false,
     "start_time": "2025-08-19T18:03:32.368927",
     "status": "completed"
    },
    "tags": []
   },
   "outputs": [
    {
     "data": {
      "text/html": [
       "<div>\n",
       "<style scoped>\n",
       "    .dataframe tbody tr th:only-of-type {\n",
       "        vertical-align: middle;\n",
       "    }\n",
       "\n",
       "    .dataframe tbody tr th {\n",
       "        vertical-align: top;\n",
       "    }\n",
       "\n",
       "    .dataframe thead th {\n",
       "        text-align: right;\n",
       "    }\n",
       "</style>\n",
       "<table border=\"1\" class=\"dataframe\">\n",
       "  <thead>\n",
       "    <tr style=\"text-align: right;\">\n",
       "      <th></th>\n",
       "      <th>persnr</th>\n",
       "      <th>year</th>\n",
       "      <th>nrEntry</th>\n",
       "      <th>ltue</th>\n",
       "      <th>employed_before</th>\n",
       "      <th>receipt_leh_before</th>\n",
       "      <th>receipt_lhg_before</th>\n",
       "      <th>se_before</th>\n",
       "      <th>ASU_notue_seeking_before</th>\n",
       "      <th>ASU_other_before</th>\n",
       "      <th>...</th>\n",
       "      <th>minijob_tot_dur_byage</th>\n",
       "      <th>ft_tot_dur_byage</th>\n",
       "      <th>befrist_tot_dur_byage</th>\n",
       "      <th>leih_tot_dur_byage</th>\n",
       "      <th>LHG_tot_dur_byage</th>\n",
       "      <th>LEH_tot_dur_byage</th>\n",
       "      <th>almp_tot_dur_byage</th>\n",
       "      <th>almp_aw_tot_dur_byage</th>\n",
       "      <th>se_tot_dur_byage</th>\n",
       "      <th>seeking1_tot_dur_byage</th>\n",
       "    </tr>\n",
       "  </thead>\n",
       "  <tbody>\n",
       "    <tr>\n",
       "      <th>0</th>\n",
       "      <td>7</td>\n",
       "      <td>2015</td>\n",
       "      <td>1</td>\n",
       "      <td>0</td>\n",
       "      <td>1</td>\n",
       "      <td>0</td>\n",
       "      <td>0</td>\n",
       "      <td>0</td>\n",
       "      <td>1</td>\n",
       "      <td>0</td>\n",
       "      <td>...</td>\n",
       "      <td>0.000000</td>\n",
       "      <td>0.000000</td>\n",
       "      <td>15.043478</td>\n",
       "      <td>0.000000</td>\n",
       "      <td>0.000000</td>\n",
       "      <td>0.000000</td>\n",
       "      <td>0.000000</td>\n",
       "      <td>0.000000</td>\n",
       "      <td>0.000000</td>\n",
       "      <td>0.000000</td>\n",
       "    </tr>\n",
       "    <tr>\n",
       "      <th>1</th>\n",
       "      <td>18</td>\n",
       "      <td>2010</td>\n",
       "      <td>1</td>\n",
       "      <td>1</td>\n",
       "      <td>0</td>\n",
       "      <td>0</td>\n",
       "      <td>0</td>\n",
       "      <td>0</td>\n",
       "      <td>0</td>\n",
       "      <td>0</td>\n",
       "      <td>...</td>\n",
       "      <td>0.000000</td>\n",
       "      <td>0.000000</td>\n",
       "      <td>0.000000</td>\n",
       "      <td>0.000000</td>\n",
       "      <td>0.000000</td>\n",
       "      <td>0.000000</td>\n",
       "      <td>0.000000</td>\n",
       "      <td>0.000000</td>\n",
       "      <td>0.000000</td>\n",
       "      <td>0.000000</td>\n",
       "    </tr>\n",
       "    <tr>\n",
       "      <th>2</th>\n",
       "      <td>18</td>\n",
       "      <td>2011</td>\n",
       "      <td>2</td>\n",
       "      <td>0</td>\n",
       "      <td>1</td>\n",
       "      <td>0</td>\n",
       "      <td>1</td>\n",
       "      <td>0</td>\n",
       "      <td>1</td>\n",
       "      <td>0</td>\n",
       "      <td>...</td>\n",
       "      <td>2.714286</td>\n",
       "      <td>2.714286</td>\n",
       "      <td>0.000000</td>\n",
       "      <td>0.000000</td>\n",
       "      <td>10.775510</td>\n",
       "      <td>0.000000</td>\n",
       "      <td>8.367347</td>\n",
       "      <td>0.000000</td>\n",
       "      <td>0.000000</td>\n",
       "      <td>9.836735</td>\n",
       "    </tr>\n",
       "    <tr>\n",
       "      <th>3</th>\n",
       "      <td>18</td>\n",
       "      <td>2012</td>\n",
       "      <td>3</td>\n",
       "      <td>0</td>\n",
       "      <td>1</td>\n",
       "      <td>0</td>\n",
       "      <td>1</td>\n",
       "      <td>0</td>\n",
       "      <td>1</td>\n",
       "      <td>0</td>\n",
       "      <td>...</td>\n",
       "      <td>4.200000</td>\n",
       "      <td>4.200000</td>\n",
       "      <td>0.000000</td>\n",
       "      <td>0.000000</td>\n",
       "      <td>12.100000</td>\n",
       "      <td>0.000000</td>\n",
       "      <td>9.400000</td>\n",
       "      <td>0.000000</td>\n",
       "      <td>0.000000</td>\n",
       "      <td>9.960000</td>\n",
       "    </tr>\n",
       "    <tr>\n",
       "      <th>4</th>\n",
       "      <td>18</td>\n",
       "      <td>2012</td>\n",
       "      <td>4</td>\n",
       "      <td>0</td>\n",
       "      <td>1</td>\n",
       "      <td>0</td>\n",
       "      <td>1</td>\n",
       "      <td>0</td>\n",
       "      <td>1</td>\n",
       "      <td>0</td>\n",
       "      <td>...</td>\n",
       "      <td>5.460000</td>\n",
       "      <td>5.460000</td>\n",
       "      <td>0.000000</td>\n",
       "      <td>0.000000</td>\n",
       "      <td>13.360000</td>\n",
       "      <td>0.000000</td>\n",
       "      <td>10.320000</td>\n",
       "      <td>0.000000</td>\n",
       "      <td>0.000000</td>\n",
       "      <td>10.280000</td>\n",
       "    </tr>\n",
       "    <tr>\n",
       "      <th>...</th>\n",
       "      <td>...</td>\n",
       "      <td>...</td>\n",
       "      <td>...</td>\n",
       "      <td>...</td>\n",
       "      <td>...</td>\n",
       "      <td>...</td>\n",
       "      <td>...</td>\n",
       "      <td>...</td>\n",
       "      <td>...</td>\n",
       "      <td>...</td>\n",
       "      <td>...</td>\n",
       "      <td>...</td>\n",
       "      <td>...</td>\n",
       "      <td>...</td>\n",
       "      <td>...</td>\n",
       "      <td>...</td>\n",
       "      <td>...</td>\n",
       "      <td>...</td>\n",
       "      <td>...</td>\n",
       "      <td>...</td>\n",
       "      <td>...</td>\n",
       "    </tr>\n",
       "    <tr>\n",
       "      <th>643685</th>\n",
       "      <td>1827860</td>\n",
       "      <td>2013</td>\n",
       "      <td>1</td>\n",
       "      <td>0</td>\n",
       "      <td>0</td>\n",
       "      <td>0</td>\n",
       "      <td>1</td>\n",
       "      <td>0</td>\n",
       "      <td>0</td>\n",
       "      <td>1</td>\n",
       "      <td>...</td>\n",
       "      <td>0.000000</td>\n",
       "      <td>0.000000</td>\n",
       "      <td>0.000000</td>\n",
       "      <td>0.000000</td>\n",
       "      <td>0.612903</td>\n",
       "      <td>0.000000</td>\n",
       "      <td>0.000000</td>\n",
       "      <td>0.000000</td>\n",
       "      <td>0.000000</td>\n",
       "      <td>0.000000</td>\n",
       "    </tr>\n",
       "    <tr>\n",
       "      <th>643686</th>\n",
       "      <td>1827860</td>\n",
       "      <td>2015</td>\n",
       "      <td>2</td>\n",
       "      <td>1</td>\n",
       "      <td>0</td>\n",
       "      <td>0</td>\n",
       "      <td>1</td>\n",
       "      <td>0</td>\n",
       "      <td>1</td>\n",
       "      <td>0</td>\n",
       "      <td>...</td>\n",
       "      <td>0.000000</td>\n",
       "      <td>0.000000</td>\n",
       "      <td>0.212121</td>\n",
       "      <td>0.212121</td>\n",
       "      <td>17.363636</td>\n",
       "      <td>0.000000</td>\n",
       "      <td>8.909091</td>\n",
       "      <td>0.000000</td>\n",
       "      <td>0.000000</td>\n",
       "      <td>7.121212</td>\n",
       "    </tr>\n",
       "    <tr>\n",
       "      <th>643687</th>\n",
       "      <td>1827860</td>\n",
       "      <td>2016</td>\n",
       "      <td>3</td>\n",
       "      <td>1</td>\n",
       "      <td>0</td>\n",
       "      <td>0</td>\n",
       "      <td>1</td>\n",
       "      <td>1</td>\n",
       "      <td>0</td>\n",
       "      <td>1</td>\n",
       "      <td>...</td>\n",
       "      <td>0.000000</td>\n",
       "      <td>0.000000</td>\n",
       "      <td>0.294118</td>\n",
       "      <td>0.205882</td>\n",
       "      <td>34.705882</td>\n",
       "      <td>0.000000</td>\n",
       "      <td>10.352941</td>\n",
       "      <td>1.705882</td>\n",
       "      <td>1.705882</td>\n",
       "      <td>23.911765</td>\n",
       "    </tr>\n",
       "    <tr>\n",
       "      <th>643688</th>\n",
       "      <td>1827869</td>\n",
       "      <td>2013</td>\n",
       "      <td>1</td>\n",
       "      <td>1</td>\n",
       "      <td>1</td>\n",
       "      <td>0</td>\n",
       "      <td>0</td>\n",
       "      <td>0</td>\n",
       "      <td>1</td>\n",
       "      <td>0</td>\n",
       "      <td>...</td>\n",
       "      <td>0.000000</td>\n",
       "      <td>0.000000</td>\n",
       "      <td>0.000000</td>\n",
       "      <td>0.000000</td>\n",
       "      <td>0.000000</td>\n",
       "      <td>0.525424</td>\n",
       "      <td>0.000000</td>\n",
       "      <td>0.000000</td>\n",
       "      <td>0.000000</td>\n",
       "      <td>0.000000</td>\n",
       "    </tr>\n",
       "    <tr>\n",
       "      <th>643689</th>\n",
       "      <td>1827869</td>\n",
       "      <td>2014</td>\n",
       "      <td>2</td>\n",
       "      <td>0</td>\n",
       "      <td>0</td>\n",
       "      <td>1</td>\n",
       "      <td>0</td>\n",
       "      <td>0</td>\n",
       "      <td>1</td>\n",
       "      <td>0</td>\n",
       "      <td>...</td>\n",
       "      <td>0.000000</td>\n",
       "      <td>0.666667</td>\n",
       "      <td>0.666667</td>\n",
       "      <td>0.000000</td>\n",
       "      <td>0.000000</td>\n",
       "      <td>8.950000</td>\n",
       "      <td>1.033333</td>\n",
       "      <td>0.083333</td>\n",
       "      <td>0.083333</td>\n",
       "      <td>8.133333</td>\n",
       "    </tr>\n",
       "  </tbody>\n",
       "</table>\n",
       "<p>643690 rows × 164 columns</p>\n",
       "</div>"
      ],
      "text/plain": [
       "         persnr  year  nrEntry  ltue  employed_before  receipt_leh_before  \\\n",
       "0             7  2015        1     0                1                   0   \n",
       "1            18  2010        1     1                0                   0   \n",
       "2            18  2011        2     0                1                   0   \n",
       "3            18  2012        3     0                1                   0   \n",
       "4            18  2012        4     0                1                   0   \n",
       "...         ...   ...      ...   ...              ...                 ...   \n",
       "643685  1827860  2013        1     0                0                   0   \n",
       "643686  1827860  2015        2     1                0                   0   \n",
       "643687  1827860  2016        3     1                0                   0   \n",
       "643688  1827869  2013        1     1                1                   0   \n",
       "643689  1827869  2014        2     0                0                   1   \n",
       "\n",
       "        receipt_lhg_before  se_before  ASU_notue_seeking_before  \\\n",
       "0                        0          0                         1   \n",
       "1                        0          0                         0   \n",
       "2                        1          0                         1   \n",
       "3                        1          0                         1   \n",
       "4                        1          0                         1   \n",
       "...                    ...        ...                       ...   \n",
       "643685                   1          0                         0   \n",
       "643686                   1          0                         1   \n",
       "643687                   1          1                         0   \n",
       "643688                   0          0                         1   \n",
       "643689                   0          0                         1   \n",
       "\n",
       "        ASU_other_before  ...  minijob_tot_dur_byage  ft_tot_dur_byage  \\\n",
       "0                      0  ...               0.000000          0.000000   \n",
       "1                      0  ...               0.000000          0.000000   \n",
       "2                      0  ...               2.714286          2.714286   \n",
       "3                      0  ...               4.200000          4.200000   \n",
       "4                      0  ...               5.460000          5.460000   \n",
       "...                  ...  ...                    ...               ...   \n",
       "643685                 1  ...               0.000000          0.000000   \n",
       "643686                 0  ...               0.000000          0.000000   \n",
       "643687                 1  ...               0.000000          0.000000   \n",
       "643688                 0  ...               0.000000          0.000000   \n",
       "643689                 0  ...               0.000000          0.666667   \n",
       "\n",
       "        befrist_tot_dur_byage  leih_tot_dur_byage  LHG_tot_dur_byage  \\\n",
       "0                   15.043478            0.000000           0.000000   \n",
       "1                    0.000000            0.000000           0.000000   \n",
       "2                    0.000000            0.000000          10.775510   \n",
       "3                    0.000000            0.000000          12.100000   \n",
       "4                    0.000000            0.000000          13.360000   \n",
       "...                       ...                 ...                ...   \n",
       "643685               0.000000            0.000000           0.612903   \n",
       "643686               0.212121            0.212121          17.363636   \n",
       "643687               0.294118            0.205882          34.705882   \n",
       "643688               0.000000            0.000000           0.000000   \n",
       "643689               0.666667            0.000000           0.000000   \n",
       "\n",
       "        LEH_tot_dur_byage  almp_tot_dur_byage  almp_aw_tot_dur_byage  \\\n",
       "0                0.000000            0.000000               0.000000   \n",
       "1                0.000000            0.000000               0.000000   \n",
       "2                0.000000            8.367347               0.000000   \n",
       "3                0.000000            9.400000               0.000000   \n",
       "4                0.000000           10.320000               0.000000   \n",
       "...                   ...                 ...                    ...   \n",
       "643685           0.000000            0.000000               0.000000   \n",
       "643686           0.000000            8.909091               0.000000   \n",
       "643687           0.000000           10.352941               1.705882   \n",
       "643688           0.525424            0.000000               0.000000   \n",
       "643689           8.950000            1.033333               0.083333   \n",
       "\n",
       "        se_tot_dur_byage  seeking1_tot_dur_byage  \n",
       "0               0.000000                0.000000  \n",
       "1               0.000000                0.000000  \n",
       "2               0.000000                9.836735  \n",
       "3               0.000000                9.960000  \n",
       "4               0.000000               10.280000  \n",
       "...                  ...                     ...  \n",
       "643685          0.000000                0.000000  \n",
       "643686          0.000000                7.121212  \n",
       "643687          1.705882               23.911765  \n",
       "643688          0.000000                0.000000  \n",
       "643689          0.083333                8.133333  \n",
       "\n",
       "[643690 rows x 164 columns]"
      ]
     },
     "execution_count": 10,
     "metadata": {},
     "output_type": "execute_result"
    }
   ],
   "source": [
    "siab"
   ]
  },
  {
   "cell_type": "markdown",
   "id": "1f87e805",
   "metadata": {
    "papermill": {
     "duration": 0.010381,
     "end_time": "2025-08-19T18:03:32.599408",
     "exception": false,
     "start_time": "2025-08-19T18:03:32.589027",
     "status": "completed"
    },
    "tags": []
   },
   "source": [
    "# Splitting Data and Setting Training Data Size"
   ]
  },
  {
   "cell_type": "code",
   "execution_count": 11,
   "id": "910ae358",
   "metadata": {
    "execution": {
     "iopub.execute_input": "2025-08-19T18:03:32.621485Z",
     "iopub.status.busy": "2025-08-19T18:03:32.621070Z",
     "iopub.status.idle": "2025-08-19T18:03:33.310011Z",
     "shell.execute_reply": "2025-08-19T18:03:33.309317Z"
    },
    "papermill": {
     "duration": 0.702259,
     "end_time": "2025-08-19T18:03:33.311910",
     "exception": false,
     "start_time": "2025-08-19T18:03:32.609651",
     "status": "completed"
    },
    "tags": []
   },
   "outputs": [],
   "source": [
    "from fairness_multiverse.universe import sample_by_year_size\n",
    "\n",
    "siab_train = sample_by_year_size(siab,\n",
    "                               training_year=universe[\"training_year\"],\n",
    "                               training_size=universe[\"training_size\"])"
   ]
  },
  {
   "cell_type": "code",
   "execution_count": 12,
   "id": "919c8ff5",
   "metadata": {
    "execution": {
     "iopub.execute_input": "2025-08-19T18:03:33.336712Z",
     "iopub.status.busy": "2025-08-19T18:03:33.336284Z",
     "iopub.status.idle": "2025-08-19T18:03:33.341547Z",
     "shell.execute_reply": "2025-08-19T18:03:33.340948Z"
    },
    "papermill": {
     "duration": 0.018992,
     "end_time": "2025-08-19T18:03:33.344137",
     "exception": false,
     "start_time": "2025-08-19T18:03:33.325145",
     "status": "completed"
    },
    "tags": []
   },
   "outputs": [
    {
     "data": {
      "text/plain": [
       "(25000, 164)"
      ]
     },
     "execution_count": 12,
     "metadata": {},
     "output_type": "execute_result"
    }
   ],
   "source": [
    "siab_train.shape"
   ]
  },
  {
   "cell_type": "code",
   "execution_count": 13,
   "id": "feb13bf4",
   "metadata": {
    "execution": {
     "iopub.execute_input": "2025-08-19T18:03:33.365347Z",
     "iopub.status.busy": "2025-08-19T18:03:33.364992Z",
     "iopub.status.idle": "2025-08-19T18:03:33.372565Z",
     "shell.execute_reply": "2025-08-19T18:03:33.371896Z"
    },
    "papermill": {
     "duration": 0.025161,
     "end_time": "2025-08-19T18:03:33.379582",
     "exception": false,
     "start_time": "2025-08-19T18:03:33.354421",
     "status": "completed"
    },
    "tags": []
   },
   "outputs": [
    {
     "data": {
      "text/plain": [
       "year\n",
       "2012    8334\n",
       "2013    8333\n",
       "2014    8333\n",
       "dtype: int64"
      ]
     },
     "metadata": {},
     "output_type": "display_data"
    }
   ],
   "source": [
    "display(siab_train.groupby(\"year\").size())"
   ]
  },
  {
   "cell_type": "code",
   "execution_count": 14,
   "id": "0997782f",
   "metadata": {
    "execution": {
     "iopub.execute_input": "2025-08-19T18:03:33.415955Z",
     "iopub.status.busy": "2025-08-19T18:03:33.414981Z",
     "iopub.status.idle": "2025-08-19T18:03:33.694727Z",
     "shell.execute_reply": "2025-08-19T18:03:33.694034Z"
    },
    "papermill": {
     "duration": 0.295034,
     "end_time": "2025-08-19T18:03:33.696277",
     "exception": false,
     "start_time": "2025-08-19T18:03:33.401243",
     "status": "completed"
    },
    "tags": []
   },
   "outputs": [],
   "source": [
    "#siab_train = siab_s[siab_s.year < 2015]\n",
    "siab_calib = siab[siab.year == 2015]\n",
    "siab_test = siab[siab.year == 2016]"
   ]
  },
  {
   "cell_type": "code",
   "execution_count": 15,
   "id": "2c1e4012",
   "metadata": {
    "execution": {
     "iopub.execute_input": "2025-08-19T18:03:33.719944Z",
     "iopub.status.busy": "2025-08-19T18:03:33.719173Z",
     "iopub.status.idle": "2025-08-19T18:03:33.724990Z",
     "shell.execute_reply": "2025-08-19T18:03:33.723917Z"
    },
    "papermill": {
     "duration": 0.019093,
     "end_time": "2025-08-19T18:03:33.726329",
     "exception": false,
     "start_time": "2025-08-19T18:03:33.707236",
     "status": "completed"
    },
    "tags": []
   },
   "outputs": [],
   "source": [
    "#siab_calib.shape"
   ]
  },
  {
   "cell_type": "code",
   "execution_count": 16,
   "id": "f66b54ca",
   "metadata": {
    "execution": {
     "iopub.execute_input": "2025-08-19T18:03:33.751875Z",
     "iopub.status.busy": "2025-08-19T18:03:33.750838Z",
     "iopub.status.idle": "2025-08-19T18:03:33.759091Z",
     "shell.execute_reply": "2025-08-19T18:03:33.757414Z"
    },
    "papermill": {
     "duration": 0.022332,
     "end_time": "2025-08-19T18:03:33.761078",
     "exception": false,
     "start_time": "2025-08-19T18:03:33.738746",
     "status": "completed"
    },
    "tags": []
   },
   "outputs": [],
   "source": [
    "#siab_test.shape"
   ]
  },
  {
   "cell_type": "code",
   "execution_count": 17,
   "id": "27e4384d",
   "metadata": {
    "execution": {
     "iopub.execute_input": "2025-08-19T18:03:33.795831Z",
     "iopub.status.busy": "2025-08-19T18:03:33.794417Z",
     "iopub.status.idle": "2025-08-19T18:03:33.814885Z",
     "shell.execute_reply": "2025-08-19T18:03:33.813698Z"
    },
    "papermill": {
     "duration": 0.035016,
     "end_time": "2025-08-19T18:03:33.816659",
     "exception": false,
     "start_time": "2025-08-19T18:03:33.781643",
     "status": "completed"
    },
    "tags": []
   },
   "outputs": [],
   "source": [
    "X_train = siab_train.iloc[:,4:164]\n",
    "y_train = siab_train.iloc[:, [3]]"
   ]
  },
  {
   "cell_type": "code",
   "execution_count": 18,
   "id": "08ee8389",
   "metadata": {
    "execution": {
     "iopub.execute_input": "2025-08-19T18:03:33.839814Z",
     "iopub.status.busy": "2025-08-19T18:03:33.839404Z",
     "iopub.status.idle": "2025-08-19T18:03:33.887764Z",
     "shell.execute_reply": "2025-08-19T18:03:33.887075Z"
    },
    "papermill": {
     "duration": 0.064483,
     "end_time": "2025-08-19T18:03:33.892034",
     "exception": false,
     "start_time": "2025-08-19T18:03:33.827551",
     "status": "completed"
    },
    "tags": []
   },
   "outputs": [],
   "source": [
    "X_calib = siab_calib.iloc[:,4:164]\n",
    "y_calib = siab_calib.iloc[:, [3]]"
   ]
  },
  {
   "cell_type": "code",
   "execution_count": 19,
   "id": "b7ff42e0",
   "metadata": {
    "execution": {
     "iopub.execute_input": "2025-08-19T18:03:33.928584Z",
     "iopub.status.busy": "2025-08-19T18:03:33.927855Z",
     "iopub.status.idle": "2025-08-19T18:03:33.978367Z",
     "shell.execute_reply": "2025-08-19T18:03:33.977570Z"
    },
    "papermill": {
     "duration": 0.067514,
     "end_time": "2025-08-19T18:03:33.980756",
     "exception": false,
     "start_time": "2025-08-19T18:03:33.913242",
     "status": "completed"
    },
    "tags": []
   },
   "outputs": [],
   "source": [
    "X_test = siab_test.iloc[:,4:164]\n",
    "y_true = siab_test.iloc[:, [3]]"
   ]
  },
  {
   "cell_type": "code",
   "execution_count": 20,
   "id": "0275101e",
   "metadata": {
    "execution": {
     "iopub.execute_input": "2025-08-19T18:03:34.021392Z",
     "iopub.status.busy": "2025-08-19T18:03:34.020789Z",
     "iopub.status.idle": "2025-08-19T18:03:34.128823Z",
     "shell.execute_reply": "2025-08-19T18:03:34.128094Z"
    },
    "papermill": {
     "duration": 0.124646,
     "end_time": "2025-08-19T18:03:34.131645",
     "exception": false,
     "start_time": "2025-08-19T18:03:34.006999",
     "status": "completed"
    },
    "tags": []
   },
   "outputs": [],
   "source": [
    "# Auxiliary data needed downstream in the pipeline\n",
    "\n",
    "org_train = X_train.copy()\n",
    "org_test = X_test.copy()\n",
    "org_calib = X_calib.copy()"
   ]
  },
  {
   "cell_type": "markdown",
   "id": "b461e618",
   "metadata": {
    "papermill": {
     "duration": 0.012842,
     "end_time": "2025-08-19T18:03:34.169556",
     "exception": false,
     "start_time": "2025-08-19T18:03:34.156714",
     "status": "completed"
    },
    "tags": []
   },
   "source": [
    "# Preprocessing Data"
   ]
  },
  {
   "cell_type": "code",
   "execution_count": 21,
   "id": "78e74c4b",
   "metadata": {
    "execution": {
     "iopub.execute_input": "2025-08-19T18:03:34.193095Z",
     "iopub.status.busy": "2025-08-19T18:03:34.192030Z",
     "iopub.status.idle": "2025-08-19T18:03:34.203568Z",
     "shell.execute_reply": "2025-08-19T18:03:34.201481Z"
    },
    "papermill": {
     "duration": 0.025461,
     "end_time": "2025-08-19T18:03:34.205413",
     "exception": false,
     "start_time": "2025-08-19T18:03:34.179952",
     "status": "completed"
    },
    "tags": []
   },
   "outputs": [],
   "source": [
    "# EXCLUDE PROTECTED FEATURES\n",
    "# --------------------------\n",
    "\n",
    "excluded_features = universe[\"exclude_features\"].split(\"-\")\n",
    "excluded_features_dictionary = {\n",
    "    \"nationality\": [\"maxdeutsch1\", \"maxdeutsch.Missing.\"],\n",
    "    \"sex\": [\"frau1\"],\n",
    "    \"age\": [\"age\"],\n",
    "}"
   ]
  },
  {
   "cell_type": "code",
   "execution_count": 22,
   "id": "f8e63555",
   "metadata": {
    "execution": {
     "iopub.execute_input": "2025-08-19T18:03:34.231237Z",
     "iopub.status.busy": "2025-08-19T18:03:34.230107Z",
     "iopub.status.idle": "2025-08-19T18:03:34.241353Z",
     "shell.execute_reply": "2025-08-19T18:03:34.239648Z"
    },
    "papermill": {
     "duration": 0.024604,
     "end_time": "2025-08-19T18:03:34.243061",
     "exception": false,
     "start_time": "2025-08-19T18:03:34.218457",
     "status": "completed"
    },
    "tags": []
   },
   "outputs": [],
   "source": [
    "excluded_features_columns = [\n",
    "    excluded_features_dictionary[f] for f in excluded_features if len(f) > 0 and f != \"none\"\n",
    "]"
   ]
  },
  {
   "cell_type": "code",
   "execution_count": 23,
   "id": "da781f7c",
   "metadata": {
    "execution": {
     "iopub.execute_input": "2025-08-19T18:03:34.269146Z",
     "iopub.status.busy": "2025-08-19T18:03:34.268709Z",
     "iopub.status.idle": "2025-08-19T18:03:34.273749Z",
     "shell.execute_reply": "2025-08-19T18:03:34.272891Z"
    },
    "papermill": {
     "duration": 0.018199,
     "end_time": "2025-08-19T18:03:34.275015",
     "exception": false,
     "start_time": "2025-08-19T18:03:34.256816",
     "status": "completed"
    },
    "tags": []
   },
   "outputs": [],
   "source": [
    "from fairness_multiverse.universe import flatten_once\n",
    "\n",
    "excluded_features_columns = flatten_once(excluded_features_columns)"
   ]
  },
  {
   "cell_type": "code",
   "execution_count": 24,
   "id": "37fef0f0",
   "metadata": {
    "execution": {
     "iopub.execute_input": "2025-08-19T18:03:34.300945Z",
     "iopub.status.busy": "2025-08-19T18:03:34.300236Z",
     "iopub.status.idle": "2025-08-19T18:03:34.357154Z",
     "shell.execute_reply": "2025-08-19T18:03:34.355847Z"
    },
    "papermill": {
     "duration": 0.071811,
     "end_time": "2025-08-19T18:03:34.359663",
     "exception": false,
     "start_time": "2025-08-19T18:03:34.287852",
     "status": "completed"
    },
    "tags": []
   },
   "outputs": [
    {
     "name": "stdout",
     "output_type": "stream",
     "text": [
      "Dropping features: ['maxdeutsch1', 'maxdeutsch.Missing.', 'frau1']\n"
     ]
    }
   ],
   "source": [
    "if len(excluded_features_columns) > 0:\n",
    "    print(f\"Dropping features: {excluded_features_columns}\")\n",
    "    X_train.drop(excluded_features_columns, axis=1, inplace=True)"
   ]
  },
  {
   "cell_type": "code",
   "execution_count": 25,
   "id": "d029e3e9",
   "metadata": {
    "execution": {
     "iopub.execute_input": "2025-08-19T18:03:34.398087Z",
     "iopub.status.busy": "2025-08-19T18:03:34.396906Z",
     "iopub.status.idle": "2025-08-19T18:03:34.476340Z",
     "shell.execute_reply": "2025-08-19T18:03:34.475740Z"
    },
    "papermill": {
     "duration": 0.110174,
     "end_time": "2025-08-19T18:03:34.492876",
     "exception": false,
     "start_time": "2025-08-19T18:03:34.382702",
     "status": "completed"
    },
    "tags": []
   },
   "outputs": [
    {
     "name": "stdout",
     "output_type": "stream",
     "text": [
      "Dropping features: ['maxdeutsch1', 'maxdeutsch.Missing.', 'frau1']\n"
     ]
    }
   ],
   "source": [
    "if len(excluded_features_columns) > 0:\n",
    "    print(f\"Dropping features: {excluded_features_columns}\")\n",
    "    X_test.drop(excluded_features_columns, axis=1, inplace=True)"
   ]
  },
  {
   "cell_type": "code",
   "execution_count": 26,
   "id": "01d571f0",
   "metadata": {
    "execution": {
     "iopub.execute_input": "2025-08-19T18:03:34.522298Z",
     "iopub.status.busy": "2025-08-19T18:03:34.521689Z",
     "iopub.status.idle": "2025-08-19T18:03:34.571974Z",
     "shell.execute_reply": "2025-08-19T18:03:34.571249Z"
    },
    "papermill": {
     "duration": 0.064929,
     "end_time": "2025-08-19T18:03:34.573107",
     "exception": false,
     "start_time": "2025-08-19T18:03:34.508178",
     "status": "completed"
    },
    "tags": []
   },
   "outputs": [
    {
     "name": "stdout",
     "output_type": "stream",
     "text": [
      "Dropping features: ['maxdeutsch1', 'maxdeutsch.Missing.', 'frau1']\n"
     ]
    }
   ],
   "source": [
    "if len(excluded_features_columns) > 0:\n",
    "    print(f\"Dropping features: {excluded_features_columns}\")\n",
    "    X_calib.drop(excluded_features_columns, axis=1, inplace=True)"
   ]
  },
  {
   "cell_type": "code",
   "execution_count": 27,
   "id": "3037356e",
   "metadata": {
    "execution": {
     "iopub.execute_input": "2025-08-19T18:03:34.606378Z",
     "iopub.status.busy": "2025-08-19T18:03:34.605464Z",
     "iopub.status.idle": "2025-08-19T18:03:34.615342Z",
     "shell.execute_reply": "2025-08-19T18:03:34.613632Z"
    },
    "papermill": {
     "duration": 0.029456,
     "end_time": "2025-08-19T18:03:34.618560",
     "exception": false,
     "start_time": "2025-08-19T18:03:34.589104",
     "status": "completed"
    },
    "tags": []
   },
   "outputs": [],
   "source": [
    "# EXCLUDE CERTAIN SUBGROUPS\n",
    "# -------------------------\n",
    "\n",
    "mode = universe.get(\"exclude_subgroups\", \"keep-all\") # Defaults to \"keep-all\" if the key is missing."
   ]
  },
  {
   "cell_type": "code",
   "execution_count": 28,
   "id": "9d1e63fd",
   "metadata": {
    "execution": {
     "iopub.execute_input": "2025-08-19T18:03:34.650238Z",
     "iopub.status.busy": "2025-08-19T18:03:34.649929Z",
     "iopub.status.idle": "2025-08-19T18:03:34.655532Z",
     "shell.execute_reply": "2025-08-19T18:03:34.654904Z"
    },
    "papermill": {
     "duration": 0.020619,
     "end_time": "2025-08-19T18:03:34.657154",
     "exception": false,
     "start_time": "2025-08-19T18:03:34.636535",
     "status": "completed"
    },
    "tags": []
   },
   "outputs": [],
   "source": [
    "if mode == \"keep-all\":\n",
    "    keep_mask = pd.Series(True, index=org_train.index)\n",
    "\n",
    "elif mode == \"drop-non-german\":\n",
    "    keep_mask = (org_train[\"maxdeutsch1\"] == 1) & (org_train[\"maxdeutsch.Missing.\"] == 0)\n",
    "\n",
    "else:\n",
    "    raise ValueError(f\"Unsupported mode for exclude_subgroups: {mode}\")"
   ]
  },
  {
   "cell_type": "code",
   "execution_count": 29,
   "id": "d3b65474",
   "metadata": {
    "execution": {
     "iopub.execute_input": "2025-08-19T18:03:34.680787Z",
     "iopub.status.busy": "2025-08-19T18:03:34.680458Z",
     "iopub.status.idle": "2025-08-19T18:03:34.687961Z",
     "shell.execute_reply": "2025-08-19T18:03:34.686538Z"
    },
    "papermill": {
     "duration": 0.021176,
     "end_time": "2025-08-19T18:03:34.689425",
     "exception": false,
     "start_time": "2025-08-19T18:03:34.668249",
     "status": "completed"
    },
    "tags": []
   },
   "outputs": [
    {
     "name": "stdout",
     "output_type": "stream",
     "text": [
      "Dropping 3481 rows (13.92%) where mode='drop-non-german'\n"
     ]
    }
   ],
   "source": [
    "n_drop = (~keep_mask).sum() # Calculates how many rows are set to be dropped\n",
    "if n_drop > 0:\n",
    "    pct = n_drop / len(keep_mask) * 100\n",
    "    print(f\"Dropping {n_drop} rows ({pct:.2f}%) where mode='{mode}'\")"
   ]
  },
  {
   "cell_type": "code",
   "execution_count": 30,
   "id": "f44389b3",
   "metadata": {
    "execution": {
     "iopub.execute_input": "2025-08-19T18:03:34.713205Z",
     "iopub.status.busy": "2025-08-19T18:03:34.712799Z",
     "iopub.status.idle": "2025-08-19T18:03:34.732493Z",
     "shell.execute_reply": "2025-08-19T18:03:34.731290Z"
    },
    "papermill": {
     "duration": 0.033027,
     "end_time": "2025-08-19T18:03:34.734071",
     "exception": false,
     "start_time": "2025-08-19T18:03:34.701044",
     "status": "completed"
    },
    "tags": []
   },
   "outputs": [],
   "source": [
    "X_train = X_train[keep_mask]"
   ]
  },
  {
   "cell_type": "code",
   "execution_count": 31,
   "id": "ceca8c2a",
   "metadata": {
    "execution": {
     "iopub.execute_input": "2025-08-19T18:03:34.763572Z",
     "iopub.status.busy": "2025-08-19T18:03:34.762363Z",
     "iopub.status.idle": "2025-08-19T18:03:34.770605Z",
     "shell.execute_reply": "2025-08-19T18:03:34.769434Z"
    },
    "papermill": {
     "duration": 0.02233,
     "end_time": "2025-08-19T18:03:34.772124",
     "exception": false,
     "start_time": "2025-08-19T18:03:34.749794",
     "status": "completed"
    },
    "tags": []
   },
   "outputs": [],
   "source": [
    "y_train = y_train[keep_mask]"
   ]
  },
  {
   "cell_type": "markdown",
   "id": "04d31e2f",
   "metadata": {
    "papermill": {
     "duration": 0.010637,
     "end_time": "2025-08-19T18:03:34.793811",
     "exception": false,
     "start_time": "2025-08-19T18:03:34.783174",
     "status": "completed"
    },
    "tags": []
   },
   "source": [
    "# Model Training"
   ]
  },
  {
   "cell_type": "code",
   "execution_count": 32,
   "id": "db991733",
   "metadata": {
    "execution": {
     "iopub.execute_input": "2025-08-19T18:03:34.818456Z",
     "iopub.status.busy": "2025-08-19T18:03:34.817235Z",
     "iopub.status.idle": "2025-08-19T18:03:34.921544Z",
     "shell.execute_reply": "2025-08-19T18:03:34.920423Z"
    },
    "papermill": {
     "duration": 0.120612,
     "end_time": "2025-08-19T18:03:34.924976",
     "exception": false,
     "start_time": "2025-08-19T18:03:34.804364",
     "status": "completed"
    },
    "tags": []
   },
   "outputs": [],
   "source": [
    "from sklearn.linear_model import LogisticRegression\n",
    "from sklearn.ensemble import GradientBoostingClassifier, RandomForestClassifier\n",
    "\n",
    "if (universe[\"model\"] == \"logreg\"):\n",
    "    model = LogisticRegression() #penalty=\"none\", solver=\"newton-cg\", max_iter=1)\n",
    "elif (universe[\"model\"] == \"penalized_logreg\"):\n",
    "    model = LogisticRegression(penalty=\"l2\", C=0.1) #, solver=\"newton-cg\", max_iter=1)\n",
    "elif (universe[\"model\"] == \"rf\"):\n",
    "    model = RandomForestClassifier() # n_estimators=100, n_jobs=-1\n",
    "elif (universe[\"model\"] == \"gbm\"):\n",
    "    model = GradientBoostingClassifier()\n",
    "elif (universe[\"model\"] == \"elasticnet\"):\n",
    "    model = LogisticRegression(penalty = 'elasticnet', solver = 'saga', l1_ratio = 0.5) # max_iter=5000\n",
    "else:\n",
    "    raise \"Unsupported universe.model\""
   ]
  },
  {
   "cell_type": "code",
   "execution_count": 33,
   "id": "a4b5cd25",
   "metadata": {
    "execution": {
     "iopub.execute_input": "2025-08-19T18:03:34.962544Z",
     "iopub.status.busy": "2025-08-19T18:03:34.961467Z",
     "iopub.status.idle": "2025-08-19T18:03:34.970647Z",
     "shell.execute_reply": "2025-08-19T18:03:34.969312Z"
    },
    "papermill": {
     "duration": 0.024837,
     "end_time": "2025-08-19T18:03:34.972388",
     "exception": false,
     "start_time": "2025-08-19T18:03:34.947551",
     "status": "completed"
    },
    "tags": []
   },
   "outputs": [],
   "source": [
    "from sklearn.pipeline import Pipeline\n",
    "from sklearn.preprocessing import StandardScaler\n",
    "\n",
    "model = Pipeline([\n",
    "    #(\"continuous_processor\", continuous_processor),\n",
    "    #(\"categorical_preprocessor\", categorical_preprocessor),\n",
    "    (\"scale\", StandardScaler() if universe[\"scale\"] == \"scale\" else None), \n",
    "    (\"model\", model),\n",
    "])"
   ]
  },
  {
   "cell_type": "code",
   "execution_count": 34,
   "id": "283a904d",
   "metadata": {
    "execution": {
     "iopub.execute_input": "2025-08-19T18:03:34.999948Z",
     "iopub.status.busy": "2025-08-19T18:03:34.998975Z",
     "iopub.status.idle": "2025-08-19T18:03:35.884152Z",
     "shell.execute_reply": "2025-08-19T18:03:35.882978Z"
    },
    "papermill": {
     "duration": 0.899267,
     "end_time": "2025-08-19T18:03:35.885474",
     "exception": false,
     "start_time": "2025-08-19T18:03:34.986207",
     "status": "completed"
    },
    "tags": []
   },
   "outputs": [
    {
     "name": "stderr",
     "output_type": "stream",
     "text": [
      "/dss/dsshome1/0C/ra93lal2/.local/share/virtualenvs/CMA_Fairness_v2-3j10GkSs/lib/python3.10/site-packages/sklearn/linear_model/_logistic.py:444: ConvergenceWarning: lbfgs failed to converge (status=1):\n",
      "STOP: TOTAL NO. of ITERATIONS REACHED LIMIT.\n",
      "\n",
      "Increase the number of iterations (max_iter) or scale the data as shown in:\n",
      "    https://scikit-learn.org/stable/modules/preprocessing.html\n",
      "Please also refer to the documentation for alternative solver options:\n",
      "    https://scikit-learn.org/stable/modules/linear_model.html#logistic-regression\n",
      "  n_iter_i = _check_optimize_result(\n"
     ]
    },
    {
     "data": {
      "text/html": [
       "<style>#sk-container-id-1 {color: black;background-color: white;}#sk-container-id-1 pre{padding: 0;}#sk-container-id-1 div.sk-toggleable {background-color: white;}#sk-container-id-1 label.sk-toggleable__label {cursor: pointer;display: block;width: 100%;margin-bottom: 0;padding: 0.3em;box-sizing: border-box;text-align: center;}#sk-container-id-1 label.sk-toggleable__label-arrow:before {content: \"▸\";float: left;margin-right: 0.25em;color: #696969;}#sk-container-id-1 label.sk-toggleable__label-arrow:hover:before {color: black;}#sk-container-id-1 div.sk-estimator:hover label.sk-toggleable__label-arrow:before {color: black;}#sk-container-id-1 div.sk-toggleable__content {max-height: 0;max-width: 0;overflow: hidden;text-align: left;background-color: #f0f8ff;}#sk-container-id-1 div.sk-toggleable__content pre {margin: 0.2em;color: black;border-radius: 0.25em;background-color: #f0f8ff;}#sk-container-id-1 input.sk-toggleable__control:checked~div.sk-toggleable__content {max-height: 200px;max-width: 100%;overflow: auto;}#sk-container-id-1 input.sk-toggleable__control:checked~label.sk-toggleable__label-arrow:before {content: \"▾\";}#sk-container-id-1 div.sk-estimator input.sk-toggleable__control:checked~label.sk-toggleable__label {background-color: #d4ebff;}#sk-container-id-1 div.sk-label input.sk-toggleable__control:checked~label.sk-toggleable__label {background-color: #d4ebff;}#sk-container-id-1 input.sk-hidden--visually {border: 0;clip: rect(1px 1px 1px 1px);clip: rect(1px, 1px, 1px, 1px);height: 1px;margin: -1px;overflow: hidden;padding: 0;position: absolute;width: 1px;}#sk-container-id-1 div.sk-estimator {font-family: monospace;background-color: #f0f8ff;border: 1px dotted black;border-radius: 0.25em;box-sizing: border-box;margin-bottom: 0.5em;}#sk-container-id-1 div.sk-estimator:hover {background-color: #d4ebff;}#sk-container-id-1 div.sk-parallel-item::after {content: \"\";width: 100%;border-bottom: 1px solid gray;flex-grow: 1;}#sk-container-id-1 div.sk-label:hover label.sk-toggleable__label {background-color: #d4ebff;}#sk-container-id-1 div.sk-serial::before {content: \"\";position: absolute;border-left: 1px solid gray;box-sizing: border-box;top: 0;bottom: 0;left: 50%;z-index: 0;}#sk-container-id-1 div.sk-serial {display: flex;flex-direction: column;align-items: center;background-color: white;padding-right: 0.2em;padding-left: 0.2em;position: relative;}#sk-container-id-1 div.sk-item {position: relative;z-index: 1;}#sk-container-id-1 div.sk-parallel {display: flex;align-items: stretch;justify-content: center;background-color: white;position: relative;}#sk-container-id-1 div.sk-item::before, #sk-container-id-1 div.sk-parallel-item::before {content: \"\";position: absolute;border-left: 1px solid gray;box-sizing: border-box;top: 0;bottom: 0;left: 50%;z-index: -1;}#sk-container-id-1 div.sk-parallel-item {display: flex;flex-direction: column;z-index: 1;position: relative;background-color: white;}#sk-container-id-1 div.sk-parallel-item:first-child::after {align-self: flex-end;width: 50%;}#sk-container-id-1 div.sk-parallel-item:last-child::after {align-self: flex-start;width: 50%;}#sk-container-id-1 div.sk-parallel-item:only-child::after {width: 0;}#sk-container-id-1 div.sk-dashed-wrapped {border: 1px dashed gray;margin: 0 0.4em 0.5em 0.4em;box-sizing: border-box;padding-bottom: 0.4em;background-color: white;}#sk-container-id-1 div.sk-label label {font-family: monospace;font-weight: bold;display: inline-block;line-height: 1.2em;}#sk-container-id-1 div.sk-label-container {text-align: center;}#sk-container-id-1 div.sk-container {/* jupyter's `normalize.less` sets `[hidden] { display: none; }` but bootstrap.min.css set `[hidden] { display: none !important; }` so we also need the `!important` here to be able to override the default hidden behavior on the sphinx rendered scikit-learn.org. See: https://github.com/scikit-learn/scikit-learn/issues/21755 */display: inline-block !important;position: relative;}#sk-container-id-1 div.sk-text-repr-fallback {display: none;}</style><div id=\"sk-container-id-1\" class=\"sk-top-container\"><div class=\"sk-text-repr-fallback\"><pre>Pipeline(steps=[(&#x27;scale&#x27;, StandardScaler()), (&#x27;model&#x27;, LogisticRegression())])</pre><b>In a Jupyter environment, please rerun this cell to show the HTML representation or trust the notebook. <br />On GitHub, the HTML representation is unable to render, please try loading this page with nbviewer.org.</b></div><div class=\"sk-container\" hidden><div class=\"sk-item sk-dashed-wrapped\"><div class=\"sk-label-container\"><div class=\"sk-label sk-toggleable\"><input class=\"sk-toggleable__control sk-hidden--visually\" id=\"sk-estimator-id-1\" type=\"checkbox\" ><label for=\"sk-estimator-id-1\" class=\"sk-toggleable__label sk-toggleable__label-arrow\">Pipeline</label><div class=\"sk-toggleable__content\"><pre>Pipeline(steps=[(&#x27;scale&#x27;, StandardScaler()), (&#x27;model&#x27;, LogisticRegression())])</pre></div></div></div><div class=\"sk-serial\"><div class=\"sk-item\"><div class=\"sk-estimator sk-toggleable\"><input class=\"sk-toggleable__control sk-hidden--visually\" id=\"sk-estimator-id-2\" type=\"checkbox\" ><label for=\"sk-estimator-id-2\" class=\"sk-toggleable__label sk-toggleable__label-arrow\">StandardScaler</label><div class=\"sk-toggleable__content\"><pre>StandardScaler()</pre></div></div></div><div class=\"sk-item\"><div class=\"sk-estimator sk-toggleable\"><input class=\"sk-toggleable__control sk-hidden--visually\" id=\"sk-estimator-id-3\" type=\"checkbox\" ><label for=\"sk-estimator-id-3\" class=\"sk-toggleable__label sk-toggleable__label-arrow\">LogisticRegression</label><div class=\"sk-toggleable__content\"><pre>LogisticRegression()</pre></div></div></div></div></div></div></div>"
      ],
      "text/plain": [
       "Pipeline(steps=[('scale', StandardScaler()), ('model', LogisticRegression())])"
      ]
     },
     "execution_count": 34,
     "metadata": {},
     "output_type": "execute_result"
    }
   ],
   "source": [
    "model.fit(X_train, y_train.values.ravel())"
   ]
  },
  {
   "cell_type": "code",
   "execution_count": 35,
   "id": "6e15e313",
   "metadata": {
    "execution": {
     "iopub.execute_input": "2025-08-19T18:03:35.913057Z",
     "iopub.status.busy": "2025-08-19T18:03:35.912211Z",
     "iopub.status.idle": "2025-08-19T18:03:36.100347Z",
     "shell.execute_reply": "2025-08-19T18:03:36.099734Z"
    },
    "papermill": {
     "duration": 0.202082,
     "end_time": "2025-08-19T18:03:36.101591",
     "exception": false,
     "start_time": "2025-08-19T18:03:35.899509",
     "status": "completed"
    },
    "tags": []
   },
   "outputs": [
    {
     "data": {
      "text/plain": [
       "0.8614201315349459"
      ]
     },
     "execution_count": 35,
     "metadata": {},
     "output_type": "execute_result"
    }
   ],
   "source": [
    "from fairness_multiverse.universe import predict_w_threshold\n",
    "\n",
    "probs_test = model.predict_proba(X_test)\n",
    "\n",
    "'''\n",
    "Below code returns a boolean array (or binary 0/1 array depending on how it’s used) where each element \n",
    "is True if the probability of class 1 is greater than or equal to the threshold, and False otherwise.\n",
    "'''\n",
    "y_pred_default = predict_w_threshold(probs_test, 0.5)\n",
    "\n",
    "from sklearn.metrics import accuracy_score\n",
    "\n",
    "# Naive prediction\n",
    "accuracy_score(y_true = y_true, y_pred = y_pred_default)"
   ]
  },
  {
   "cell_type": "code",
   "execution_count": 36,
   "id": "6f14067c",
   "metadata": {
    "execution": {
     "iopub.execute_input": "2025-08-19T18:03:36.132166Z",
     "iopub.status.busy": "2025-08-19T18:03:36.125488Z",
     "iopub.status.idle": "2025-08-19T18:03:36.340239Z",
     "shell.execute_reply": "2025-08-19T18:03:36.339485Z"
    },
    "papermill": {
     "duration": 0.228566,
     "end_time": "2025-08-19T18:03:36.341572",
     "exception": false,
     "start_time": "2025-08-19T18:03:36.113006",
     "status": "completed"
    },
    "tags": []
   },
   "outputs": [
    {
     "data": {
      "text/plain": [
       "array([0, 0, 0, ..., 0, 0, 0])"
      ]
     },
     "execution_count": 36,
     "metadata": {},
     "output_type": "execute_result"
    }
   ],
   "source": [
    "model.predict(X_test)"
   ]
  },
  {
   "cell_type": "markdown",
   "id": "3759920c",
   "metadata": {
    "papermill": {
     "duration": 0.011262,
     "end_time": "2025-08-19T18:03:36.368073",
     "exception": false,
     "start_time": "2025-08-19T18:03:36.356811",
     "status": "completed"
    },
    "tags": []
   },
   "source": [
    "# Conformal Prediction"
   ]
  },
  {
   "cell_type": "code",
   "execution_count": 37,
   "id": "14b27f59",
   "metadata": {
    "execution": {
     "iopub.execute_input": "2025-08-19T18:03:36.409687Z",
     "iopub.status.busy": "2025-08-19T18:03:36.396855Z",
     "iopub.status.idle": "2025-08-19T18:03:36.415050Z",
     "shell.execute_reply": "2025-08-19T18:03:36.414270Z"
    },
    "papermill": {
     "duration": 0.037819,
     "end_time": "2025-08-19T18:03:36.417106",
     "exception": false,
     "start_time": "2025-08-19T18:03:36.379287",
     "status": "completed"
    },
    "tags": []
   },
   "outputs": [],
   "source": [
    "# Miscoverage level for conformal prediction (10% allowed error rate => 90% target coverage)\n",
    "alpha = 0.1"
   ]
  },
  {
   "cell_type": "code",
   "execution_count": 38,
   "id": "59102472",
   "metadata": {
    "execution": {
     "iopub.execute_input": "2025-08-19T18:03:36.464549Z",
     "iopub.status.busy": "2025-08-19T18:03:36.464202Z",
     "iopub.status.idle": "2025-08-19T18:03:36.640819Z",
     "shell.execute_reply": "2025-08-19T18:03:36.640060Z"
    },
    "papermill": {
     "duration": 0.208921,
     "end_time": "2025-08-19T18:03:36.642701",
     "exception": false,
     "start_time": "2025-08-19T18:03:36.433780",
     "status": "completed"
    },
    "tags": []
   },
   "outputs": [],
   "source": [
    "probs_calib = model.predict_proba(X_calib)"
   ]
  },
  {
   "cell_type": "code",
   "execution_count": 39,
   "id": "a792d4dd",
   "metadata": {
    "execution": {
     "iopub.execute_input": "2025-08-19T18:03:36.667571Z",
     "iopub.status.busy": "2025-08-19T18:03:36.667176Z",
     "iopub.status.idle": "2025-08-19T18:03:36.671608Z",
     "shell.execute_reply": "2025-08-19T18:03:36.670919Z"
    },
    "papermill": {
     "duration": 0.018262,
     "end_time": "2025-08-19T18:03:36.673040",
     "exception": false,
     "start_time": "2025-08-19T18:03:36.654778",
     "status": "completed"
    },
    "tags": []
   },
   "outputs": [],
   "source": [
    "y_calib = y_calib.values.ravel().astype(int)"
   ]
  },
  {
   "cell_type": "code",
   "execution_count": 40,
   "id": "650fd033",
   "metadata": {
    "execution": {
     "iopub.execute_input": "2025-08-19T18:03:36.699726Z",
     "iopub.status.busy": "2025-08-19T18:03:36.699320Z",
     "iopub.status.idle": "2025-08-19T18:03:36.705356Z",
     "shell.execute_reply": "2025-08-19T18:03:36.704696Z"
    },
    "papermill": {
     "duration": 0.021121,
     "end_time": "2025-08-19T18:03:36.706709",
     "exception": false,
     "start_time": "2025-08-19T18:03:36.685588",
     "status": "completed"
    },
    "tags": []
   },
   "outputs": [],
   "source": [
    "from fairness_multiverse.conformal import compute_nc_scores\n",
    "\n",
    "# Compute nonconformity scores on calibration set (1 - probability of true class)\n",
    "nc_scores = compute_nc_scores(probs_calib, y_calib)"
   ]
  },
  {
   "cell_type": "code",
   "execution_count": 41,
   "id": "28ada44c",
   "metadata": {
    "execution": {
     "iopub.execute_input": "2025-08-19T18:03:36.732736Z",
     "iopub.status.busy": "2025-08-19T18:03:36.732210Z",
     "iopub.status.idle": "2025-08-19T18:03:36.740191Z",
     "shell.execute_reply": "2025-08-19T18:03:36.739471Z"
    },
    "papermill": {
     "duration": 0.021726,
     "end_time": "2025-08-19T18:03:36.741544",
     "exception": false,
     "start_time": "2025-08-19T18:03:36.719818",
     "status": "completed"
    },
    "tags": []
   },
   "outputs": [],
   "source": [
    "from fairness_multiverse.conformal import find_threshold\n",
    "\n",
    "# Find conformal threshold q_hat for the given alpha (split conformal method)\n",
    "q_hat = find_threshold(nc_scores, alpha)"
   ]
  },
  {
   "cell_type": "code",
   "execution_count": 42,
   "id": "df56469e",
   "metadata": {
    "execution": {
     "iopub.execute_input": "2025-08-19T18:03:36.767194Z",
     "iopub.status.busy": "2025-08-19T18:03:36.766811Z",
     "iopub.status.idle": "2025-08-19T18:03:36.772152Z",
     "shell.execute_reply": "2025-08-19T18:03:36.771469Z"
    },
    "papermill": {
     "duration": 0.020003,
     "end_time": "2025-08-19T18:03:36.774523",
     "exception": false,
     "start_time": "2025-08-19T18:03:36.754520",
     "status": "completed"
    },
    "tags": []
   },
   "outputs": [
    {
     "data": {
      "text/plain": [
       "0.6622980978971131"
      ]
     },
     "execution_count": 42,
     "metadata": {},
     "output_type": "execute_result"
    }
   ],
   "source": [
    "q_hat"
   ]
  },
  {
   "cell_type": "code",
   "execution_count": 43,
   "id": "aa1f5faa",
   "metadata": {
    "execution": {
     "iopub.execute_input": "2025-08-19T18:03:36.800837Z",
     "iopub.status.busy": "2025-08-19T18:03:36.799656Z",
     "iopub.status.idle": "2025-08-19T18:03:37.413835Z",
     "shell.execute_reply": "2025-08-19T18:03:37.412666Z"
    },
    "papermill": {
     "duration": 0.629857,
     "end_time": "2025-08-19T18:03:37.416207",
     "exception": false,
     "start_time": "2025-08-19T18:03:36.786350",
     "status": "completed"
    },
    "tags": []
   },
   "outputs": [],
   "source": [
    "from fairness_multiverse.conformal import predict_conformal_sets\n",
    "\n",
    "# Generate prediction sets for each test example\n",
    "pred_sets = predict_conformal_sets(model, X_test, q_hat)"
   ]
  },
  {
   "cell_type": "code",
   "execution_count": 44,
   "id": "97f67a6b",
   "metadata": {
    "execution": {
     "iopub.execute_input": "2025-08-19T18:03:37.445821Z",
     "iopub.status.busy": "2025-08-19T18:03:37.445195Z",
     "iopub.status.idle": "2025-08-19T18:03:37.455710Z",
     "shell.execute_reply": "2025-08-19T18:03:37.454773Z"
    },
    "papermill": {
     "duration": 0.024793,
     "end_time": "2025-08-19T18:03:37.457318",
     "exception": false,
     "start_time": "2025-08-19T18:03:37.432525",
     "status": "completed"
    },
    "tags": []
   },
   "outputs": [],
   "source": [
    "y_true = y_true.squeeze()"
   ]
  },
  {
   "cell_type": "code",
   "execution_count": 45,
   "id": "e700e9a7",
   "metadata": {
    "execution": {
     "iopub.execute_input": "2025-08-19T18:03:37.487829Z",
     "iopub.status.busy": "2025-08-19T18:03:37.486830Z",
     "iopub.status.idle": "2025-08-19T18:03:38.026567Z",
     "shell.execute_reply": "2025-08-19T18:03:38.025774Z"
    },
    "papermill": {
     "duration": 0.555757,
     "end_time": "2025-08-19T18:03:38.028212",
     "exception": false,
     "start_time": "2025-08-19T18:03:37.472455",
     "status": "completed"
    },
    "tags": []
   },
   "outputs": [],
   "source": [
    "from fairness_multiverse.conformal import evaluate_sets\n",
    "\n",
    "# Evaluate coverage and average set size on test data\n",
    "metrics = evaluate_sets(pred_sets, y_true)"
   ]
  },
  {
   "cell_type": "markdown",
   "id": "efbacec0",
   "metadata": {
    "papermill": {
     "duration": 0.012318,
     "end_time": "2025-08-19T18:03:38.054847",
     "exception": false,
     "start_time": "2025-08-19T18:03:38.042529",
     "status": "completed"
    },
    "tags": []
   },
   "source": [
    "# CP Metrics"
   ]
  },
  {
   "cell_type": "code",
   "execution_count": 46,
   "id": "9de55fb1",
   "metadata": {
    "execution": {
     "iopub.execute_input": "2025-08-19T18:03:38.081947Z",
     "iopub.status.busy": "2025-08-19T18:03:38.080211Z",
     "iopub.status.idle": "2025-08-19T18:03:38.088134Z",
     "shell.execute_reply": "2025-08-19T18:03:38.087080Z"
    },
    "papermill": {
     "duration": 0.022474,
     "end_time": "2025-08-19T18:03:38.090149",
     "exception": false,
     "start_time": "2025-08-19T18:03:38.067675",
     "status": "completed"
    },
    "tags": []
   },
   "outputs": [
    {
     "data": {
      "text/plain": [
       "{'coverage': 0.9112139114925872, 'avg_size': 1.124757552112362}"
      ]
     },
     "execution_count": 46,
     "metadata": {},
     "output_type": "execute_result"
    }
   ],
   "source": [
    "metrics"
   ]
  },
  {
   "cell_type": "code",
   "execution_count": 47,
   "id": "64c340a1",
   "metadata": {
    "execution": {
     "iopub.execute_input": "2025-08-19T18:03:38.119005Z",
     "iopub.status.busy": "2025-08-19T18:03:38.117400Z",
     "iopub.status.idle": "2025-08-19T18:03:38.126808Z",
     "shell.execute_reply": "2025-08-19T18:03:38.125613Z"
    },
    "papermill": {
     "duration": 0.025867,
     "end_time": "2025-08-19T18:03:38.128758",
     "exception": false,
     "start_time": "2025-08-19T18:03:38.102891",
     "status": "completed"
    },
    "tags": []
   },
   "outputs": [],
   "source": [
    "example_universe = universe.copy()\n",
    "universe_training_year = example_universe.get(\"training_year\")\n",
    "universe_training_size = example_universe.get(\"training_size\")\n",
    "universe_scale = example_universe.get(\"scale\")\n",
    "universe_model = example_universe.get(\"model\")\n",
    "universe_exclude_features = example_universe.get(\"exclude_features\")\n",
    "universe_exclude_subgroups = example_universe.get(\"exclude_subgroups\")"
   ]
  },
  {
   "cell_type": "code",
   "execution_count": 48,
   "id": "dbb53cb4",
   "metadata": {
    "execution": {
     "iopub.execute_input": "2025-08-19T18:03:38.174974Z",
     "iopub.status.busy": "2025-08-19T18:03:38.174447Z",
     "iopub.status.idle": "2025-08-19T18:03:38.180389Z",
     "shell.execute_reply": "2025-08-19T18:03:38.179549Z"
    },
    "papermill": {
     "duration": 0.038504,
     "end_time": "2025-08-19T18:03:38.182592",
     "exception": false,
     "start_time": "2025-08-19T18:03:38.144088",
     "status": "completed"
    },
    "tags": []
   },
   "outputs": [],
   "source": [
    "cp_metrics_dict = {\n",
    "    \"universe_id\": [universe_id],\n",
    "    \"universe_training_year\": [universe_training_year],\n",
    "    \"universe_training_size\": [universe_training_size],\n",
    "    \"universe_scale\": [universe_scale],\n",
    "    \"universe_model\": [universe_model],\n",
    "    \"universe_exclude_features\": [universe_exclude_features],\n",
    "    \"universe_exclude_subgroups\": [universe_exclude_subgroups],\n",
    "    \"q_hat\": [q_hat],\n",
    "    \"coverage\": [metrics[\"coverage\"]],\n",
    "    \"avg_size\": [metrics[\"avg_size\"]],\n",
    "}"
   ]
  },
  {
   "cell_type": "code",
   "execution_count": 49,
   "id": "0d70d4b2",
   "metadata": {
    "execution": {
     "iopub.execute_input": "2025-08-19T18:03:38.209099Z",
     "iopub.status.busy": "2025-08-19T18:03:38.208436Z",
     "iopub.status.idle": "2025-08-19T18:03:38.214772Z",
     "shell.execute_reply": "2025-08-19T18:03:38.214164Z"
    },
    "papermill": {
     "duration": 0.020772,
     "end_time": "2025-08-19T18:03:38.216199",
     "exception": false,
     "start_time": "2025-08-19T18:03:38.195427",
     "status": "completed"
    },
    "tags": []
   },
   "outputs": [],
   "source": [
    "cp_metrics_df = pd.DataFrame(cp_metrics_dict)"
   ]
  },
  {
   "cell_type": "code",
   "execution_count": 50,
   "id": "b494403c",
   "metadata": {
    "execution": {
     "iopub.execute_input": "2025-08-19T18:03:38.242236Z",
     "iopub.status.busy": "2025-08-19T18:03:38.241665Z",
     "iopub.status.idle": "2025-08-19T18:03:38.267644Z",
     "shell.execute_reply": "2025-08-19T18:03:38.266278Z"
    },
    "papermill": {
     "duration": 0.042535,
     "end_time": "2025-08-19T18:03:38.271159",
     "exception": false,
     "start_time": "2025-08-19T18:03:38.228624",
     "status": "completed"
    },
    "tags": []
   },
   "outputs": [
    {
     "data": {
      "text/html": [
       "<div>\n",
       "<style scoped>\n",
       "    .dataframe tbody tr th:only-of-type {\n",
       "        vertical-align: middle;\n",
       "    }\n",
       "\n",
       "    .dataframe tbody tr th {\n",
       "        vertical-align: top;\n",
       "    }\n",
       "\n",
       "    .dataframe thead th {\n",
       "        text-align: right;\n",
       "    }\n",
       "</style>\n",
       "<table border=\"1\" class=\"dataframe\">\n",
       "  <thead>\n",
       "    <tr style=\"text-align: right;\">\n",
       "      <th></th>\n",
       "      <th>universe_id</th>\n",
       "      <th>universe_training_year</th>\n",
       "      <th>universe_training_size</th>\n",
       "      <th>universe_scale</th>\n",
       "      <th>universe_model</th>\n",
       "      <th>universe_exclude_features</th>\n",
       "      <th>universe_exclude_subgroups</th>\n",
       "      <th>q_hat</th>\n",
       "      <th>coverage</th>\n",
       "      <th>avg_size</th>\n",
       "    </tr>\n",
       "  </thead>\n",
       "  <tbody>\n",
       "    <tr>\n",
       "      <th>0</th>\n",
       "      <td>cd77757e03e7e72179a87d060cce519b</td>\n",
       "      <td>2012_14</td>\n",
       "      <td>25k</td>\n",
       "      <td>scale</td>\n",
       "      <td>logreg</td>\n",
       "      <td>nationality-sex</td>\n",
       "      <td>drop-non-german</td>\n",
       "      <td>0.662298</td>\n",
       "      <td>0.911214</td>\n",
       "      <td>1.124758</td>\n",
       "    </tr>\n",
       "  </tbody>\n",
       "</table>\n",
       "</div>"
      ],
      "text/plain": [
       "                        universe_id universe_training_year  \\\n",
       "0  cd77757e03e7e72179a87d060cce519b                2012_14   \n",
       "\n",
       "  universe_training_size universe_scale universe_model  \\\n",
       "0                    25k          scale         logreg   \n",
       "\n",
       "  universe_exclude_features universe_exclude_subgroups     q_hat  coverage  \\\n",
       "0           nationality-sex            drop-non-german  0.662298  0.911214   \n",
       "\n",
       "   avg_size  \n",
       "0  1.124758  "
      ]
     },
     "execution_count": 50,
     "metadata": {},
     "output_type": "execute_result"
    }
   ],
   "source": [
    "cp_metrics_df"
   ]
  },
  {
   "cell_type": "markdown",
   "id": "ed608b0b",
   "metadata": {
    "papermill": {
     "duration": 0.011897,
     "end_time": "2025-08-19T18:03:38.315967",
     "exception": false,
     "start_time": "2025-08-19T18:03:38.304070",
     "status": "completed"
    },
    "tags": []
   },
   "source": [
    "Conditional coverage & looking at subgroups"
   ]
  },
  {
   "cell_type": "code",
   "execution_count": 51,
   "id": "8968c366",
   "metadata": {
    "execution": {
     "iopub.execute_input": "2025-08-19T18:03:38.341431Z",
     "iopub.status.busy": "2025-08-19T18:03:38.340884Z",
     "iopub.status.idle": "2025-08-19T18:03:38.642626Z",
     "shell.execute_reply": "2025-08-19T18:03:38.641893Z"
    },
    "papermill": {
     "duration": 0.316519,
     "end_time": "2025-08-19T18:03:38.644254",
     "exception": false,
     "start_time": "2025-08-19T18:03:38.327735",
     "status": "completed"
    },
    "tags": []
   },
   "outputs": [],
   "source": [
    "from fairness_multiverse.conformal import build_cp_groups\n",
    "\n",
    "cp_groups_df = build_cp_groups(pred_sets, y_true, X_test.index, org_test)"
   ]
  },
  {
   "cell_type": "code",
   "execution_count": 52,
   "id": "292ddabf",
   "metadata": {
    "execution": {
     "iopub.execute_input": "2025-08-19T18:03:38.670305Z",
     "iopub.status.busy": "2025-08-19T18:03:38.669933Z",
     "iopub.status.idle": "2025-08-19T18:03:39.582913Z",
     "shell.execute_reply": "2025-08-19T18:03:39.581826Z"
    },
    "papermill": {
     "duration": 0.929125,
     "end_time": "2025-08-19T18:03:39.585994",
     "exception": false,
     "start_time": "2025-08-19T18:03:38.656869",
     "status": "completed"
    },
    "tags": []
   },
   "outputs": [],
   "source": [
    "# Define covered = 1 if true_label is in the predicted set\n",
    "cp_groups_df['covered'] = cp_groups_df.apply(\n",
    "    lambda r: int(r['true_label'] in r['pred_set']),\n",
    "    axis=1\n",
    ")"
   ]
  },
  {
   "cell_type": "code",
   "execution_count": 53,
   "id": "3a261692",
   "metadata": {
    "execution": {
     "iopub.execute_input": "2025-08-19T18:03:39.632397Z",
     "iopub.status.busy": "2025-08-19T18:03:39.631175Z",
     "iopub.status.idle": "2025-08-19T18:03:39.654861Z",
     "shell.execute_reply": "2025-08-19T18:03:39.653536Z"
    },
    "papermill": {
     "duration": 0.041584,
     "end_time": "2025-08-19T18:03:39.657109",
     "exception": false,
     "start_time": "2025-08-19T18:03:39.615525",
     "status": "completed"
    },
    "tags": []
   },
   "outputs": [],
   "source": [
    "subgroups = ['frau1','nongerman','nongerman_male','nongerman_female']\n",
    "\n",
    "# Conditional coverage for subgroup==1\n",
    "cond_coverage = {\n",
    "    g: cp_groups_df.loc[cp_groups_df[g]==1, 'covered'].mean()\n",
    "    for g in subgroups\n",
    "}"
   ]
  },
  {
   "cell_type": "code",
   "execution_count": 54,
   "id": "894fd600",
   "metadata": {
    "execution": {
     "iopub.execute_input": "2025-08-19T18:03:39.696378Z",
     "iopub.status.busy": "2025-08-19T18:03:39.695031Z",
     "iopub.status.idle": "2025-08-19T18:03:39.708963Z",
     "shell.execute_reply": "2025-08-19T18:03:39.707176Z"
    },
    "papermill": {
     "duration": 0.030806,
     "end_time": "2025-08-19T18:03:39.710614",
     "exception": false,
     "start_time": "2025-08-19T18:03:39.679808",
     "status": "completed"
    },
    "tags": []
   },
   "outputs": [
    {
     "data": {
      "text/plain": [
       "{'frau1': 0.9102574470952959,\n",
       " 'nongerman': 0.9097288497164991,\n",
       " 'nongerman_male': 0.9253354949112852,\n",
       " 'nongerman_female': 0.8839046199701938}"
      ]
     },
     "execution_count": 54,
     "metadata": {},
     "output_type": "execute_result"
    }
   ],
   "source": [
    "cond_coverage"
   ]
  },
  {
   "cell_type": "code",
   "execution_count": 55,
   "id": "942895c7",
   "metadata": {
    "execution": {
     "iopub.execute_input": "2025-08-19T18:03:39.745985Z",
     "iopub.status.busy": "2025-08-19T18:03:39.744925Z",
     "iopub.status.idle": "2025-08-19T18:03:39.758146Z",
     "shell.execute_reply": "2025-08-19T18:03:39.756406Z"
    },
    "papermill": {
     "duration": 0.02916,
     "end_time": "2025-08-19T18:03:39.759789",
     "exception": false,
     "start_time": "2025-08-19T18:03:39.730629",
     "status": "completed"
    },
    "tags": []
   },
   "outputs": [],
   "source": [
    "for subgroup, cov in cond_coverage.items():\n",
    "    cp_metrics_df[f\"cov_{subgroup}\"] = cov"
   ]
  },
  {
   "cell_type": "code",
   "execution_count": 56,
   "id": "3970120f",
   "metadata": {
    "execution": {
     "iopub.execute_input": "2025-08-19T18:03:39.805685Z",
     "iopub.status.busy": "2025-08-19T18:03:39.804624Z",
     "iopub.status.idle": "2025-08-19T18:03:39.835908Z",
     "shell.execute_reply": "2025-08-19T18:03:39.835076Z"
    },
    "papermill": {
     "duration": 0.050802,
     "end_time": "2025-08-19T18:03:39.837873",
     "exception": false,
     "start_time": "2025-08-19T18:03:39.787071",
     "status": "completed"
    },
    "tags": []
   },
   "outputs": [
    {
     "data": {
      "text/html": [
       "<div>\n",
       "<style scoped>\n",
       "    .dataframe tbody tr th:only-of-type {\n",
       "        vertical-align: middle;\n",
       "    }\n",
       "\n",
       "    .dataframe tbody tr th {\n",
       "        vertical-align: top;\n",
       "    }\n",
       "\n",
       "    .dataframe thead th {\n",
       "        text-align: right;\n",
       "    }\n",
       "</style>\n",
       "<table border=\"1\" class=\"dataframe\">\n",
       "  <thead>\n",
       "    <tr style=\"text-align: right;\">\n",
       "      <th></th>\n",
       "      <th>universe_id</th>\n",
       "      <th>universe_training_year</th>\n",
       "      <th>universe_training_size</th>\n",
       "      <th>universe_scale</th>\n",
       "      <th>universe_model</th>\n",
       "      <th>universe_exclude_features</th>\n",
       "      <th>universe_exclude_subgroups</th>\n",
       "      <th>q_hat</th>\n",
       "      <th>coverage</th>\n",
       "      <th>avg_size</th>\n",
       "      <th>cov_frau1</th>\n",
       "      <th>cov_nongerman</th>\n",
       "      <th>cov_nongerman_male</th>\n",
       "      <th>cov_nongerman_female</th>\n",
       "    </tr>\n",
       "  </thead>\n",
       "  <tbody>\n",
       "    <tr>\n",
       "      <th>0</th>\n",
       "      <td>cd77757e03e7e72179a87d060cce519b</td>\n",
       "      <td>2012_14</td>\n",
       "      <td>25k</td>\n",
       "      <td>scale</td>\n",
       "      <td>logreg</td>\n",
       "      <td>nationality-sex</td>\n",
       "      <td>drop-non-german</td>\n",
       "      <td>0.662298</td>\n",
       "      <td>0.911214</td>\n",
       "      <td>1.124758</td>\n",
       "      <td>0.910257</td>\n",
       "      <td>0.909729</td>\n",
       "      <td>0.925335</td>\n",
       "      <td>0.883905</td>\n",
       "    </tr>\n",
       "  </tbody>\n",
       "</table>\n",
       "</div>"
      ],
      "text/plain": [
       "                        universe_id universe_training_year  \\\n",
       "0  cd77757e03e7e72179a87d060cce519b                2012_14   \n",
       "\n",
       "  universe_training_size universe_scale universe_model  \\\n",
       "0                    25k          scale         logreg   \n",
       "\n",
       "  universe_exclude_features universe_exclude_subgroups     q_hat  coverage  \\\n",
       "0           nationality-sex            drop-non-german  0.662298  0.911214   \n",
       "\n",
       "   avg_size  cov_frau1  cov_nongerman  cov_nongerman_male  \\\n",
       "0  1.124758   0.910257       0.909729            0.925335   \n",
       "\n",
       "   cov_nongerman_female  \n",
       "0              0.883905  "
      ]
     },
     "execution_count": 56,
     "metadata": {},
     "output_type": "execute_result"
    }
   ],
   "source": [
    "cp_metrics_df"
   ]
  },
  {
   "cell_type": "markdown",
   "id": "3fc519cc",
   "metadata": {
    "papermill": {
     "duration": 0.012616,
     "end_time": "2025-08-19T18:03:39.872712",
     "exception": false,
     "start_time": "2025-08-19T18:03:39.860096",
     "status": "completed"
    },
    "tags": []
   },
   "source": [
    "# (Fairness) Metrics"
   ]
  },
  {
   "cell_type": "code",
   "execution_count": 57,
   "id": "a2e5e155",
   "metadata": {
    "execution": {
     "iopub.execute_input": "2025-08-19T18:03:39.899678Z",
     "iopub.status.busy": "2025-08-19T18:03:39.898567Z",
     "iopub.status.idle": "2025-08-19T18:03:39.932998Z",
     "shell.execute_reply": "2025-08-19T18:03:39.932316Z"
    },
    "papermill": {
     "duration": 0.050227,
     "end_time": "2025-08-19T18:03:39.935065",
     "exception": false,
     "start_time": "2025-08-19T18:03:39.884838",
     "status": "completed"
    },
    "tags": []
   },
   "outputs": [],
   "source": [
    "colname_to_bin = \"maxdeutsch1\"\n",
    "majority_value = org_train[colname_to_bin].mode()[0]\n",
    "\n",
    "org_test[\"majmin\"] = np.where(org_test[colname_to_bin] == majority_value, \"majority\", \"minority\")"
   ]
  },
  {
   "cell_type": "code",
   "execution_count": 58,
   "id": "17e3e4d5",
   "metadata": {
    "execution": {
     "iopub.execute_input": "2025-08-19T18:03:39.978946Z",
     "iopub.status.busy": "2025-08-19T18:03:39.977653Z",
     "iopub.status.idle": "2025-08-19T18:03:41.790135Z",
     "shell.execute_reply": "2025-08-19T18:03:41.788830Z"
    },
    "papermill": {
     "duration": 1.828529,
     "end_time": "2025-08-19T18:03:41.791777",
     "exception": false,
     "start_time": "2025-08-19T18:03:39.963248",
     "status": "completed"
    },
    "tags": []
   },
   "outputs": [],
   "source": [
    "example_universe = universe.copy()\n",
    "example_universe[\"cutoff\"] = example_universe[\"cutoff\"][0]\n",
    "example_universe[\"eval_fairness_grouping\"] = example_universe[\"eval_fairness_grouping\"][0]\n",
    "fairness_dict, metric_frame = universe_analysis.compute_metrics(\n",
    "    example_universe,\n",
    "    y_pred_prob=probs_test,\n",
    "    y_test=y_true,\n",
    "    org_test=org_test,\n",
    ")"
   ]
  },
  {
   "cell_type": "markdown",
   "id": "1fb7a0e9",
   "metadata": {
    "papermill": {
     "duration": 0.030226,
     "end_time": "2025-08-19T18:03:41.847227",
     "exception": false,
     "start_time": "2025-08-19T18:03:41.817001",
     "status": "completed"
    },
    "tags": []
   },
   "source": [
    "# Overall"
   ]
  },
  {
   "cell_type": "markdown",
   "id": "be1784b1",
   "metadata": {
    "papermill": {
     "duration": 0.024716,
     "end_time": "2025-08-19T18:03:41.892063",
     "exception": false,
     "start_time": "2025-08-19T18:03:41.867347",
     "status": "completed"
    },
    "tags": []
   },
   "source": [
    "Main fairness target: Equalized Odds. Seems to be a better fit than equal opportunity, since we're not only interested in Y = 1. Seems to be a better fit than demographic parity, since we also care about accuracy, not just equal distribution of preds.\n",
    "\n",
    "Pick column for computation of fairness metrics\n",
    "\n",
    "Performance\n",
    "Overall performance measures, most interesting in relation to the measures split by group below"
   ]
  },
  {
   "cell_type": "code",
   "execution_count": 59,
   "id": "b7672bee",
   "metadata": {
    "execution": {
     "iopub.execute_input": "2025-08-19T18:03:41.919752Z",
     "iopub.status.busy": "2025-08-19T18:03:41.919303Z",
     "iopub.status.idle": "2025-08-19T18:03:41.927537Z",
     "shell.execute_reply": "2025-08-19T18:03:41.926821Z"
    },
    "papermill": {
     "duration": 0.025027,
     "end_time": "2025-08-19T18:03:41.930266",
     "exception": false,
     "start_time": "2025-08-19T18:03:41.905239",
     "status": "completed"
    },
    "tags": []
   },
   "outputs": [
    {
     "data": {
      "text/plain": [
       "accuracy                   0.225359\n",
       "balanced accuracy          0.550829\n",
       "f1                         0.246664\n",
       "precision                  0.140911\n",
       "false positive rate        0.886959\n",
       "false negative rate        0.011383\n",
       "selection rate             0.900000\n",
       "count                  89710.000000\n",
       "dtype: float64"
      ]
     },
     "execution_count": 59,
     "metadata": {},
     "output_type": "execute_result"
    }
   ],
   "source": [
    "metric_frame.overall"
   ]
  },
  {
   "cell_type": "markdown",
   "id": "d93333c9",
   "metadata": {
    "papermill": {
     "duration": 0.012605,
     "end_time": "2025-08-19T18:03:41.957763",
     "exception": false,
     "start_time": "2025-08-19T18:03:41.945158",
     "status": "completed"
    },
    "tags": []
   },
   "source": [
    "By Group"
   ]
  },
  {
   "cell_type": "code",
   "execution_count": 60,
   "id": "52256966",
   "metadata": {
    "execution": {
     "iopub.execute_input": "2025-08-19T18:03:41.984856Z",
     "iopub.status.busy": "2025-08-19T18:03:41.984428Z",
     "iopub.status.idle": "2025-08-19T18:03:42.001186Z",
     "shell.execute_reply": "2025-08-19T18:03:41.999991Z"
    },
    "papermill": {
     "duration": 0.032364,
     "end_time": "2025-08-19T18:03:42.002739",
     "exception": false,
     "start_time": "2025-08-19T18:03:41.970375",
     "status": "completed"
    },
    "tags": []
   },
   "outputs": [
    {
     "data": {
      "text/html": [
       "<div>\n",
       "<style scoped>\n",
       "    .dataframe tbody tr th:only-of-type {\n",
       "        vertical-align: middle;\n",
       "    }\n",
       "\n",
       "    .dataframe tbody tr th {\n",
       "        vertical-align: top;\n",
       "    }\n",
       "\n",
       "    .dataframe thead th {\n",
       "        text-align: right;\n",
       "    }\n",
       "</style>\n",
       "<table border=\"1\" class=\"dataframe\">\n",
       "  <thead>\n",
       "    <tr style=\"text-align: right;\">\n",
       "      <th></th>\n",
       "      <th>accuracy</th>\n",
       "      <th>balanced accuracy</th>\n",
       "      <th>f1</th>\n",
       "      <th>precision</th>\n",
       "      <th>false positive rate</th>\n",
       "      <th>false negative rate</th>\n",
       "      <th>selection rate</th>\n",
       "      <th>count</th>\n",
       "    </tr>\n",
       "    <tr>\n",
       "      <th>majmin</th>\n",
       "      <th></th>\n",
       "      <th></th>\n",
       "      <th></th>\n",
       "      <th></th>\n",
       "      <th></th>\n",
       "      <th></th>\n",
       "      <th></th>\n",
       "      <th></th>\n",
       "    </tr>\n",
       "  </thead>\n",
       "  <tbody>\n",
       "    <tr>\n",
       "      <th>majority</th>\n",
       "      <td>0.246205</td>\n",
       "      <td>0.560523</td>\n",
       "      <td>0.257223</td>\n",
       "      <td>0.147864</td>\n",
       "      <td>0.866700</td>\n",
       "      <td>0.012254</td>\n",
       "      <td>0.882695</td>\n",
       "      <td>69170.0</td>\n",
       "    </tr>\n",
       "    <tr>\n",
       "      <th>minority</th>\n",
       "      <td>0.155161</td>\n",
       "      <td>0.519046</td>\n",
       "      <td>0.213052</td>\n",
       "      <td>0.119342</td>\n",
       "      <td>0.953885</td>\n",
       "      <td>0.008024</td>\n",
       "      <td>0.958277</td>\n",
       "      <td>20540.0</td>\n",
       "    </tr>\n",
       "  </tbody>\n",
       "</table>\n",
       "</div>"
      ],
      "text/plain": [
       "          accuracy  balanced accuracy        f1  precision  \\\n",
       "majmin                                                       \n",
       "majority  0.246205           0.560523  0.257223   0.147864   \n",
       "minority  0.155161           0.519046  0.213052   0.119342   \n",
       "\n",
       "          false positive rate  false negative rate  selection rate    count  \n",
       "majmin                                                                       \n",
       "majority             0.866700             0.012254        0.882695  69170.0  \n",
       "minority             0.953885             0.008024        0.958277  20540.0  "
      ]
     },
     "execution_count": 60,
     "metadata": {},
     "output_type": "execute_result"
    }
   ],
   "source": [
    "metric_frame.by_group"
   ]
  },
  {
   "cell_type": "code",
   "execution_count": 61,
   "id": "6e6c20ae",
   "metadata": {
    "execution": {
     "iopub.execute_input": "2025-08-19T18:03:42.032966Z",
     "iopub.status.busy": "2025-08-19T18:03:42.031713Z",
     "iopub.status.idle": "2025-08-19T18:03:44.041977Z",
     "shell.execute_reply": "2025-08-19T18:03:44.041081Z"
    },
    "papermill": {
     "duration": 2.027993,
     "end_time": "2025-08-19T18:03:44.044630",
     "exception": false,
     "start_time": "2025-08-19T18:03:42.016637",
     "status": "completed"
    },
    "tags": []
   },
   "outputs": [
    {
     "data": {
      "text/plain": [
       "array([[<Axes: title={'center': 'accuracy'}, xlabel='majmin'>,\n",
       "        <Axes: title={'center': 'balanced accuracy'}, xlabel='majmin'>,\n",
       "        <Axes: title={'center': 'f1'}, xlabel='majmin'>],\n",
       "       [<Axes: title={'center': 'precision'}, xlabel='majmin'>,\n",
       "        <Axes: title={'center': 'false positive rate'}, xlabel='majmin'>,\n",
       "        <Axes: title={'center': 'false negative rate'}, xlabel='majmin'>],\n",
       "       [<Axes: title={'center': 'selection rate'}, xlabel='majmin'>,\n",
       "        <Axes: title={'center': 'count'}, xlabel='majmin'>,\n",
       "        <Axes: xlabel='majmin'>]], dtype=object)"
      ]
     },
     "execution_count": 61,
     "metadata": {},
     "output_type": "execute_result"
    },
    {
     "data": {
      "image/png": "[encoded data removed]",
      "text/plain": [
       "<Figure size 1200x800 with 9 Axes>"
      ]
     },
     "metadata": {},
     "output_type": "display_data"
    }
   ],
   "source": [
    "# In a graphic\n",
    "metric_frame.by_group.plot.bar(\n",
    "    subplots=True,\n",
    "    layout=[3, 3],\n",
    "    legend=False,\n",
    "    figsize=[12, 8],\n",
    "    title=\"Show all metrics\",\n",
    ")"
   ]
  },
  {
   "cell_type": "markdown",
   "id": "b2e433ae",
   "metadata": {
    "papermill": {
     "duration": 0.028032,
     "end_time": "2025-08-19T18:03:44.122633",
     "exception": false,
     "start_time": "2025-08-19T18:03:44.094601",
     "status": "completed"
    },
    "tags": []
   },
   "source": [
    "# Final Output"
   ]
  },
  {
   "cell_type": "code",
   "execution_count": 62,
   "id": "3871301e",
   "metadata": {
    "execution": {
     "iopub.execute_input": "2025-08-19T18:03:44.168446Z",
     "iopub.status.busy": "2025-08-19T18:03:44.165842Z",
     "iopub.status.idle": "2025-08-19T18:03:44.187485Z",
     "shell.execute_reply": "2025-08-19T18:03:44.186319Z"
    },
    "papermill": {
     "duration": 0.053072,
     "end_time": "2025-08-19T18:03:44.190114",
     "exception": false,
     "start_time": "2025-08-19T18:03:44.137042",
     "status": "completed"
    },
    "tags": []
   },
   "outputs": [
    {
     "data": {
      "text/plain": [
       "4"
      ]
     },
     "execution_count": 62,
     "metadata": {},
     "output_type": "execute_result"
    }
   ],
   "source": [
    "sub_universes = universe_analysis.generate_sub_universes()\n",
    "len(sub_universes)"
   ]
  },
  {
   "cell_type": "code",
   "execution_count": 63,
   "id": "d9cfdaca",
   "metadata": {
    "execution": {
     "iopub.execute_input": "2025-08-19T18:03:44.240829Z",
     "iopub.status.busy": "2025-08-19T18:03:44.239745Z",
     "iopub.status.idle": "2025-08-19T18:03:44.250289Z",
     "shell.execute_reply": "2025-08-19T18:03:44.248591Z"
    },
    "papermill": {
     "duration": 0.030162,
     "end_time": "2025-08-19T18:03:44.251920",
     "exception": false,
     "start_time": "2025-08-19T18:03:44.221758",
     "status": "completed"
    },
    "tags": []
   },
   "outputs": [],
   "source": [
    "def filter_sub_universe_data(sub_universe, org_test):\n",
    "    # Keep all rows — no filtering\n",
    "    keep_rows_mask = np.ones(org_test.shape[0], dtype=bool)\n",
    "\n",
    "    print(f\"[INFO] Keeping all rows: {keep_rows_mask.sum()} rows retained.\")\n",
    "    return keep_rows_mask"
   ]
  },
  {
   "cell_type": "code",
   "execution_count": 64,
   "id": "2bc31ac1",
   "metadata": {
    "execution": {
     "iopub.execute_input": "2025-08-19T18:03:44.292172Z",
     "iopub.status.busy": "2025-08-19T18:03:44.291181Z",
     "iopub.status.idle": "2025-08-19T18:03:50.917109Z",
     "shell.execute_reply": "2025-08-19T18:03:50.916113Z"
    },
    "papermill": {
     "duration": 6.642592,
     "end_time": "2025-08-19T18:03:50.918328",
     "exception": false,
     "start_time": "2025-08-19T18:03:44.275736",
     "status": "completed"
    },
    "tags": []
   },
   "outputs": [
    {
     "name": "stdout",
     "output_type": "stream",
     "text": [
      "Stopping execution_time clock.\n",
      "[INFO] Keeping all rows: 89710 rows retained.\n"
     ]
    },
    {
     "name": "stdout",
     "output_type": "stream",
     "text": [
      "[INFO] Keeping all rows: 89710 rows retained.\n"
     ]
    },
    {
     "name": "stdout",
     "output_type": "stream",
     "text": [
      "[INFO] Keeping all rows: 89710 rows retained.\n"
     ]
    },
    {
     "name": "stdout",
     "output_type": "stream",
     "text": [
      "[INFO] Keeping all rows: 89710 rows retained.\n"
     ]
    },
    {
     "data": {
      "text/html": [
       "<div>\n",
       "<style scoped>\n",
       "    .dataframe tbody tr th:only-of-type {\n",
       "        vertical-align: middle;\n",
       "    }\n",
       "\n",
       "    .dataframe tbody tr th {\n",
       "        vertical-align: top;\n",
       "    }\n",
       "\n",
       "    .dataframe thead th {\n",
       "        text-align: right;\n",
       "    }\n",
       "</style>\n",
       "<table border=\"1\" class=\"dataframe\">\n",
       "  <thead>\n",
       "    <tr style=\"text-align: right;\">\n",
       "      <th></th>\n",
       "      <th>run_no</th>\n",
       "      <th>universe_id</th>\n",
       "      <th>universe_settings</th>\n",
       "      <th>execution_time</th>\n",
       "      <th>test_size_n</th>\n",
       "      <th>test_size_frac</th>\n",
       "      <th>fair_main_equalized_odds_difference</th>\n",
       "      <th>fair_main_equalized_odds_ratio</th>\n",
       "      <th>fair_main_demographic_parity_difference</th>\n",
       "      <th>fair_main_demographic_parity_ratio</th>\n",
       "      <th>...</th>\n",
       "      <th>perf_grp_precision_0</th>\n",
       "      <th>perf_grp_precision_1</th>\n",
       "      <th>perf_grp_false positive rate_0</th>\n",
       "      <th>perf_grp_false positive rate_1</th>\n",
       "      <th>perf_grp_false negative rate_0</th>\n",
       "      <th>perf_grp_false negative rate_1</th>\n",
       "      <th>perf_grp_selection rate_0</th>\n",
       "      <th>perf_grp_selection rate_1</th>\n",
       "      <th>perf_grp_count_0</th>\n",
       "      <th>perf_grp_count_1</th>\n",
       "    </tr>\n",
       "  </thead>\n",
       "  <tbody>\n",
       "    <tr>\n",
       "      <th>0</th>\n",
       "      <td>3</td>\n",
       "      <td>cd77757e03e7e72179a87d060cce519b</td>\n",
       "      <td>{\"cutoff\": \"quantile_0.1\", \"eval_fairness_grou...</td>\n",
       "      <td>21.922144</td>\n",
       "      <td>89710</td>\n",
       "      <td>1.0</td>\n",
       "      <td>0.087185</td>\n",
       "      <td>0.908600</td>\n",
       "      <td>0.075582</td>\n",
       "      <td>0.921127</td>\n",
       "      <td>...</td>\n",
       "      <td>NaN</td>\n",
       "      <td>NaN</td>\n",
       "      <td>NaN</td>\n",
       "      <td>NaN</td>\n",
       "      <td>NaN</td>\n",
       "      <td>NaN</td>\n",
       "      <td>NaN</td>\n",
       "      <td>NaN</td>\n",
       "      <td>NaN</td>\n",
       "      <td>NaN</td>\n",
       "    </tr>\n",
       "    <tr>\n",
       "      <th>0</th>\n",
       "      <td>3</td>\n",
       "      <td>cd77757e03e7e72179a87d060cce519b</td>\n",
       "      <td>{\"cutoff\": \"quantile_0.1\", \"eval_fairness_grou...</td>\n",
       "      <td>21.922144</td>\n",
       "      <td>89710</td>\n",
       "      <td>1.0</td>\n",
       "      <td>0.087185</td>\n",
       "      <td>0.908600</td>\n",
       "      <td>0.075582</td>\n",
       "      <td>0.921127</td>\n",
       "      <td>...</td>\n",
       "      <td>0.119342</td>\n",
       "      <td>0.147864</td>\n",
       "      <td>0.953885</td>\n",
       "      <td>0.866700</td>\n",
       "      <td>0.008024</td>\n",
       "      <td>0.012254</td>\n",
       "      <td>0.958277</td>\n",
       "      <td>0.882695</td>\n",
       "      <td>20540.0</td>\n",
       "      <td>69170.0</td>\n",
       "    </tr>\n",
       "    <tr>\n",
       "      <th>0</th>\n",
       "      <td>3</td>\n",
       "      <td>cd77757e03e7e72179a87d060cce519b</td>\n",
       "      <td>{\"cutoff\": \"quantile_0.25\", \"eval_fairness_gro...</td>\n",
       "      <td>21.922144</td>\n",
       "      <td>89710</td>\n",
       "      <td>1.0</td>\n",
       "      <td>0.100838</td>\n",
       "      <td>0.873669</td>\n",
       "      <td>0.082724</td>\n",
       "      <td>0.898346</td>\n",
       "      <td>...</td>\n",
       "      <td>NaN</td>\n",
       "      <td>NaN</td>\n",
       "      <td>NaN</td>\n",
       "      <td>NaN</td>\n",
       "      <td>NaN</td>\n",
       "      <td>NaN</td>\n",
       "      <td>NaN</td>\n",
       "      <td>NaN</td>\n",
       "      <td>NaN</td>\n",
       "      <td>NaN</td>\n",
       "    </tr>\n",
       "    <tr>\n",
       "      <th>0</th>\n",
       "      <td>3</td>\n",
       "      <td>cd77757e03e7e72179a87d060cce519b</td>\n",
       "      <td>{\"cutoff\": \"quantile_0.25\", \"eval_fairness_gro...</td>\n",
       "      <td>21.922144</td>\n",
       "      <td>89710</td>\n",
       "      <td>1.0</td>\n",
       "      <td>0.100838</td>\n",
       "      <td>0.873669</td>\n",
       "      <td>0.082724</td>\n",
       "      <td>0.898346</td>\n",
       "      <td>...</td>\n",
       "      <td>0.132217</td>\n",
       "      <td>0.172128</td>\n",
       "      <td>0.798206</td>\n",
       "      <td>0.697368</td>\n",
       "      <td>0.066723</td>\n",
       "      <td>0.047702</td>\n",
       "      <td>0.813778</td>\n",
       "      <td>0.731054</td>\n",
       "      <td>20540.0</td>\n",
       "      <td>69170.0</td>\n",
       "    </tr>\n",
       "  </tbody>\n",
       "</table>\n",
       "<p>4 rows × 50 columns</p>\n",
       "</div>"
      ],
      "text/plain": [
       "  run_no                       universe_id  \\\n",
       "0      3  cd77757e03e7e72179a87d060cce519b   \n",
       "0      3  cd77757e03e7e72179a87d060cce519b   \n",
       "0      3  cd77757e03e7e72179a87d060cce519b   \n",
       "0      3  cd77757e03e7e72179a87d060cce519b   \n",
       "\n",
       "                                   universe_settings  execution_time  \\\n",
       "0  {\"cutoff\": \"quantile_0.1\", \"eval_fairness_grou...       21.922144   \n",
       "0  {\"cutoff\": \"quantile_0.1\", \"eval_fairness_grou...       21.922144   \n",
       "0  {\"cutoff\": \"quantile_0.25\", \"eval_fairness_gro...       21.922144   \n",
       "0  {\"cutoff\": \"quantile_0.25\", \"eval_fairness_gro...       21.922144   \n",
       "\n",
       "   test_size_n  test_size_frac  fair_main_equalized_odds_difference  \\\n",
       "0        89710             1.0                             0.087185   \n",
       "0        89710             1.0                             0.087185   \n",
       "0        89710             1.0                             0.100838   \n",
       "0        89710             1.0                             0.100838   \n",
       "\n",
       "   fair_main_equalized_odds_ratio  fair_main_demographic_parity_difference  \\\n",
       "0                        0.908600                                 0.075582   \n",
       "0                        0.908600                                 0.075582   \n",
       "0                        0.873669                                 0.082724   \n",
       "0                        0.873669                                 0.082724   \n",
       "\n",
       "   fair_main_demographic_parity_ratio  ...  perf_grp_precision_0  \\\n",
       "0                            0.921127  ...                   NaN   \n",
       "0                            0.921127  ...              0.119342   \n",
       "0                            0.898346  ...                   NaN   \n",
       "0                            0.898346  ...              0.132217   \n",
       "\n",
       "   perf_grp_precision_1  perf_grp_false positive rate_0  \\\n",
       "0                   NaN                             NaN   \n",
       "0              0.147864                        0.953885   \n",
       "0                   NaN                             NaN   \n",
       "0              0.172128                        0.798206   \n",
       "\n",
       "   perf_grp_false positive rate_1  perf_grp_false negative rate_0  \\\n",
       "0                             NaN                             NaN   \n",
       "0                        0.866700                        0.008024   \n",
       "0                             NaN                             NaN   \n",
       "0                        0.697368                        0.066723   \n",
       "\n",
       "   perf_grp_false negative rate_1  perf_grp_selection rate_0  \\\n",
       "0                             NaN                        NaN   \n",
       "0                        0.012254                   0.958277   \n",
       "0                             NaN                        NaN   \n",
       "0                        0.047702                   0.813778   \n",
       "\n",
       "   perf_grp_selection rate_1  perf_grp_count_0  perf_grp_count_1  \n",
       "0                        NaN               NaN               NaN  \n",
       "0                   0.882695           20540.0           69170.0  \n",
       "0                        NaN               NaN               NaN  \n",
       "0                   0.731054           20540.0           69170.0  \n",
       "\n",
       "[4 rows x 50 columns]"
      ]
     },
     "execution_count": 64,
     "metadata": {},
     "output_type": "execute_result"
    }
   ],
   "source": [
    "final_output = universe_analysis.generate_final_output(\n",
    "    y_pred_prob=probs_test,\n",
    "    y_test=y_true,\n",
    "    org_test=org_test,\n",
    "    filter_data=filter_sub_universe_data,\n",
    "    cp_metrics_df=cp_metrics_df,\n",
    "    save=True,\n",
    ")\n",
    "final_output"
   ]
  },
  {
   "cell_type": "code",
   "execution_count": null,
   "id": "8b80a1ff",
   "metadata": {
    "papermill": {
     "duration": 0.026879,
     "end_time": "2025-08-19T18:03:50.974883",
     "exception": false,
     "start_time": "2025-08-19T18:03:50.948004",
     "status": "completed"
    },
    "tags": []
   },
   "outputs": [],
   "source": []
  },
  {
   "cell_type": "code",
   "execution_count": null,
   "id": "275c9fad",
   "metadata": {
    "papermill": {
     "duration": 0.014467,
     "end_time": "2025-08-19T18:03:51.004589",
     "exception": false,
     "start_time": "2025-08-19T18:03:50.990122",
     "status": "completed"
    },
    "tags": []
   },
   "outputs": [],
   "source": []
  }
 ],
 "metadata": {
  "celltoolbar": "Tags",
  "kernelspec": {
   "display_name": "Python (CMA Fairness)",
   "language": "python",
   "name": "cma_fair_env"
  },
  "language_info": {
   "codemirror_mode": {
    "name": "ipython",
    "version": 3
   },
   "file_extension": ".py",
   "mimetype": "text/x-python",
   "name": "python",
   "nbconvert_exporter": "python",
   "pygments_lexer": "ipython3",
   "version": "3.10.12"
  },
  "papermill": {
   "default_parameters": {},
   "duration": 32.219971,
   "end_time": "2025-08-19T18:03:51.839392",
   "environment_variables": {},
   "exception": null,
   "input_path": "universe_analysis.ipynb",
   "output_path": "output/runs/3/notebooks/m_3-cd77757e03e7e72179a87d060cce519b.ipynb",
   "parameters": {
    "output_dir": "output",
    "run_no": "3",
    "seed": "2023",
    "universe": "{\"cutoff\": [\"quantile_0.1\", \"quantile_0.25\"], \"eval_fairness_grouping\": [\"majority-minority\", \"nationality-all\"], \"exclude_features\": \"nationality-sex\", \"exclude_subgroups\": \"drop-non-german\", \"model\": \"logreg\", \"scale\": \"scale\", \"training_size\": \"25k\", \"training_year\": \"2012_14\"}",
    "universe_id": "cd77757e03e7e72179a87d060cce519b"
   },
   "start_time": "2025-08-19T18:03:19.619421",
   "version": "2.6.0"
  }
 },
 "nbformat": 4,
 "nbformat_minor": 5
}