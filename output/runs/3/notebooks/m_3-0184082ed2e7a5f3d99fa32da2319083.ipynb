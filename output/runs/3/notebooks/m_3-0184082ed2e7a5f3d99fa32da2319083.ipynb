{
 "cells": [
  {
   "cell_type": "markdown",
   "id": "ef23dbb3",
   "metadata": {
    "papermill": {
     "duration": 0.009283,
     "end_time": "2025-08-19T18:31:58.474357",
     "exception": false,
     "start_time": "2025-08-19T18:31:58.465074",
     "status": "completed"
    },
    "tags": []
   },
   "source": [
    "# Setup"
   ]
  },
  {
   "cell_type": "code",
   "execution_count": 1,
   "id": "0bc8e7dc",
   "metadata": {
    "execution": {
     "iopub.execute_input": "2025-08-19T18:31:58.493041Z",
     "iopub.status.busy": "2025-08-19T18:31:58.492643Z",
     "iopub.status.idle": "2025-08-19T18:31:58.504429Z",
     "shell.execute_reply": "2025-08-19T18:31:58.503710Z"
    },
    "papermill": {
     "duration": 0.022437,
     "end_time": "2025-08-19T18:31:58.505585",
     "exception": false,
     "start_time": "2025-08-19T18:31:58.483148",
     "status": "completed"
    },
    "tags": []
   },
   "outputs": [
    {
     "name": "stdout",
     "output_type": "stream",
     "text": [
      "/dss/dsshome1/0C/ra93lal2/cma/CMA_Fairness_v2\n"
     ]
    },
    {
     "name": "stderr",
     "output_type": "stream",
     "text": [
      "/dss/dsshome1/0C/ra93lal2/.local/share/virtualenvs/CMA_Fairness_v2-3j10GkSs/lib/python3.10/site-packages/IPython/core/magics/osm.py:393: UserWarning: This is now an optional IPython functionality, using bookmarks requires you to install the `pickleshare` library.\n",
      "  bkms = self.shell.db.get('bookmarks', {})\n",
      "/dss/dsshome1/0C/ra93lal2/.local/share/virtualenvs/CMA_Fairness_v2-3j10GkSs/lib/python3.10/site-packages/IPython/core/magics/osm.py:417: UserWarning: This is now an optional IPython functionality, setting dhist requires you to install the `pickleshare` library.\n",
      "  self.shell.db['dhist'] = compress_dhist(dhist)[-100:]\n"
     ]
    }
   ],
   "source": [
    "%cd ~/cma/CMA_Fairness_v2"
   ]
  },
  {
   "cell_type": "markdown",
   "id": "9d235661",
   "metadata": {
    "papermill": {
     "duration": 0.014008,
     "end_time": "2025-08-19T18:31:58.532276",
     "exception": false,
     "start_time": "2025-08-19T18:31:58.518268",
     "status": "completed"
    },
    "tags": []
   },
   "source": [
    "The following cell holds the definition of our parameters, these values can be overriden by rendering the with e.g. the following command:\n",
    "\n",
    "papermill -p alpha 0.2 -p ratio 0.3 universe_analysis.ipynb output/test_run.ipynb"
   ]
  },
  {
   "cell_type": "code",
   "execution_count": 2,
   "id": "4a789d8e",
   "metadata": {
    "execution": {
     "iopub.execute_input": "2025-08-19T18:31:58.552001Z",
     "iopub.status.busy": "2025-08-19T18:31:58.551632Z",
     "iopub.status.idle": "2025-08-19T18:31:58.555654Z",
     "shell.execute_reply": "2025-08-19T18:31:58.554837Z"
    },
    "papermill": {
     "duration": 0.015579,
     "end_time": "2025-08-19T18:31:58.557644",
     "exception": false,
     "start_time": "2025-08-19T18:31:58.542065",
     "status": "completed"
    },
    "tags": []
   },
   "outputs": [
    {
     "name": "stdout",
     "output_type": "stream",
     "text": [
      "Current working directory: /dss/dsshome1/0C/ra93lal2/cma/CMA_Fairness_v2\n"
     ]
    }
   ],
   "source": [
    "import os\n",
    "print(\"Current working directory:\", os.getcwd())"
   ]
  },
  {
   "cell_type": "code",
   "execution_count": 3,
   "id": "4132aaed",
   "metadata": {
    "execution": {
     "iopub.execute_input": "2025-08-19T18:31:58.576644Z",
     "iopub.status.busy": "2025-08-19T18:31:58.576305Z",
     "iopub.status.idle": "2025-08-19T18:31:58.580761Z",
     "shell.execute_reply": "2025-08-19T18:31:58.579982Z"
    },
    "papermill": {
     "duration": 0.015216,
     "end_time": "2025-08-19T18:31:58.582080",
     "exception": false,
     "start_time": "2025-08-19T18:31:58.566864",
     "status": "completed"
    },
    "tags": [
     "parameters"
    ]
   },
   "outputs": [],
   "source": [
    "run_no = 0\n",
    "universe_id = \"test\"\n",
    "universe = {\n",
    "    \"training_size\": \"5k\", # \"25k\", \"5k\", \"1k\"\n",
    "    \"training_year\": \"2012_14\", # \"2014\", \"2012_14\", \"2010_14\"\n",
    "    \"scale\": \"scale\", # \"scale\", \"do-not-scale\",\n",
    "    \"model\": \"elasticnet\", # \"logreg\", \"penalized_logreg\", \"rf\", \"gbm\", \"elasticnet\"\n",
    "    \"cutoff\": [\"quantile_0.15\", \"quantile_0.30\"],\n",
    "    \"exclude_features\": \"age\", # \"none\", \"nationality\", \"sex\", \"nationality-sex\", \"age\"\n",
    "    \"exclude_subgroups\": \"drop-non-german\", # \"keep-all\", \"drop-non-german\"\n",
    "    \"eval_fairness_grouping\": [\"majority-minority\", \"nationality-all\"]\n",
    "}\n",
    "\n",
    "output_dir=\"./output\"\n",
    "seed=0"
   ]
  },
  {
   "cell_type": "code",
   "execution_count": 4,
   "id": "6f9f02fd",
   "metadata": {
    "execution": {
     "iopub.execute_input": "2025-08-19T18:31:58.601393Z",
     "iopub.status.busy": "2025-08-19T18:31:58.601067Z",
     "iopub.status.idle": "2025-08-19T18:31:58.604933Z",
     "shell.execute_reply": "2025-08-19T18:31:58.604235Z"
    },
    "papermill": {
     "duration": 0.015234,
     "end_time": "2025-08-19T18:31:58.606424",
     "exception": false,
     "start_time": "2025-08-19T18:31:58.591190",
     "status": "completed"
    },
    "tags": [
     "injected-parameters"
    ]
   },
   "outputs": [],
   "source": [
    "# Parameters\n",
    "universe_id = \"0184082ed2e7a5f3d99fa32da2319083\"\n",
    "run_no = \"3\"\n",
    "universe = \"{\\\"cutoff\\\": [\\\"quantile_0.1\\\", \\\"quantile_0.25\\\"], \\\"eval_fairness_grouping\\\": [\\\"majority-minority\\\", \\\"nationality-all\\\"], \\\"exclude_features\\\": \\\"nationality-sex\\\", \\\"exclude_subgroups\\\": \\\"keep-all\\\", \\\"model\\\": \\\"penalized_logreg\\\", \\\"scale\\\": \\\"scale\\\", \\\"training_size\\\": \\\"5k\\\", \\\"training_year\\\": \\\"2012_14\\\"}\"\n",
    "output_dir = \"output\"\n",
    "seed = \"2023\"\n"
   ]
  },
  {
   "cell_type": "code",
   "execution_count": 5,
   "id": "a5d7941f",
   "metadata": {
    "execution": {
     "iopub.execute_input": "2025-08-19T18:31:58.625718Z",
     "iopub.status.busy": "2025-08-19T18:31:58.625373Z",
     "iopub.status.idle": "2025-08-19T18:31:58.629148Z",
     "shell.execute_reply": "2025-08-19T18:31:58.628392Z"
    },
    "papermill": {
     "duration": 0.015074,
     "end_time": "2025-08-19T18:31:58.630641",
     "exception": false,
     "start_time": "2025-08-19T18:31:58.615567",
     "status": "completed"
    },
    "tags": []
   },
   "outputs": [],
   "source": [
    "import json\n",
    "if isinstance(universe, str):\n",
    "    universe = json.loads(universe)"
   ]
  },
  {
   "cell_type": "code",
   "execution_count": 6,
   "id": "7076ccb1",
   "metadata": {
    "execution": {
     "iopub.execute_input": "2025-08-19T18:31:58.652349Z",
     "iopub.status.busy": "2025-08-19T18:31:58.652025Z",
     "iopub.status.idle": "2025-08-19T18:31:58.696531Z",
     "shell.execute_reply": "2025-08-19T18:31:58.695903Z"
    },
    "papermill": {
     "duration": 0.057581,
     "end_time": "2025-08-19T18:31:58.698319",
     "exception": false,
     "start_time": "2025-08-19T18:31:58.640738",
     "status": "completed"
    },
    "tags": []
   },
   "outputs": [],
   "source": [
    "# Auto-reload the custom package\n",
    "%load_ext autoreload\n",
    "%autoreload 1\n",
    "%aimport fairness_multiverse"
   ]
  },
  {
   "cell_type": "code",
   "execution_count": 7,
   "id": "94c8eb93",
   "metadata": {
    "execution": {
     "iopub.execute_input": "2025-08-19T18:31:58.733907Z",
     "iopub.status.busy": "2025-08-19T18:31:58.733466Z",
     "iopub.status.idle": "2025-08-19T18:32:00.352927Z",
     "shell.execute_reply": "2025-08-19T18:32:00.351895Z"
    },
    "papermill": {
     "duration": 1.636554,
     "end_time": "2025-08-19T18:32:00.354589",
     "exception": false,
     "start_time": "2025-08-19T18:31:58.718035",
     "status": "completed"
    },
    "tags": []
   },
   "outputs": [],
   "source": [
    "from fairness_multiverse.universe import UniverseAnalysis\n",
    "\n",
    "universe_analysis = UniverseAnalysis(\n",
    "    run_no = run_no,\n",
    "    universe_id = universe_id,\n",
    "    universe = universe,\n",
    "    output_dir=output_dir,\n",
    ")"
   ]
  },
  {
   "cell_type": "code",
   "execution_count": 8,
   "id": "2a6381cf",
   "metadata": {
    "execution": {
     "iopub.execute_input": "2025-08-19T18:32:00.391847Z",
     "iopub.status.busy": "2025-08-19T18:32:00.390720Z",
     "iopub.status.idle": "2025-08-19T18:32:00.401833Z",
     "shell.execute_reply": "2025-08-19T18:32:00.400841Z"
    },
    "papermill": {
     "duration": 0.035994,
     "end_time": "2025-08-19T18:32:00.403239",
     "exception": false,
     "start_time": "2025-08-19T18:32:00.367245",
     "status": "completed"
    },
    "tags": []
   },
   "outputs": [
    {
     "name": "stdout",
     "output_type": "stream",
     "text": [
      "Using Seed: 2023\n"
     ]
    }
   ],
   "source": [
    "import numpy as np\n",
    "parsed_seed = int(seed)\n",
    "np.random.seed(parsed_seed)\n",
    "print(f\"Using Seed: {parsed_seed}\")"
   ]
  },
  {
   "cell_type": "markdown",
   "id": "b6e958b4",
   "metadata": {
    "papermill": {
     "duration": 0.008982,
     "end_time": "2025-08-19T18:32:00.421853",
     "exception": false,
     "start_time": "2025-08-19T18:32:00.412871",
     "status": "completed"
    },
    "tags": []
   },
   "source": [
    "# Loading Data"
   ]
  },
  {
   "cell_type": "code",
   "execution_count": 9,
   "id": "98701482",
   "metadata": {
    "execution": {
     "iopub.execute_input": "2025-08-19T18:32:00.442394Z",
     "iopub.status.busy": "2025-08-19T18:32:00.441294Z",
     "iopub.status.idle": "2025-08-19T18:32:10.592688Z",
     "shell.execute_reply": "2025-08-19T18:32:10.591785Z"
    },
    "papermill": {
     "duration": 10.163044,
     "end_time": "2025-08-19T18:32:10.593779",
     "exception": false,
     "start_time": "2025-08-19T18:32:00.430735",
     "status": "completed"
    },
    "tags": []
   },
   "outputs": [
    {
     "name": "stdout",
     "output_type": "stream",
     "text": [
      "Loading SIAB data from cache: data/siab_cached.csv.gz\n"
     ]
    },
    {
     "name": "stdout",
     "output_type": "stream",
     "text": [
      "(643690, 164)\n"
     ]
    }
   ],
   "source": [
    "from pathlib import Path\n",
    "import pandas as pd\n",
    "\n",
    "# File paths\n",
    "raw_file = Path(\"data/raw/siab.csv\")\n",
    "cache_file = Path(\"data/siab_cached.csv.gz\")\n",
    "\n",
    "# Ensure cache directory exists\n",
    "cache_file.parent.mkdir(parents=True, exist_ok=True)\n",
    "\n",
    "# Load with simple caching\n",
    "if cache_file.exists():\n",
    "    print(f\"Loading SIAB data from cache: {cache_file}\")\n",
    "    siab = pd.read_csv(cache_file, compression='gzip')\n",
    "else:\n",
    "    print(f\"Cache not found. Reading raw SIAB data: {raw_file}\")\n",
    "    siab = pd.read_csv(raw_file)\n",
    "    siab.to_csv(cache_file, index=False, compression='gzip')\n",
    "    print(f\"Cached SIAB data to: {cache_file}\")\n",
    "\n",
    "print(siab.shape)"
   ]
  },
  {
   "cell_type": "code",
   "execution_count": 10,
   "id": "058d2abb",
   "metadata": {
    "execution": {
     "iopub.execute_input": "2025-08-19T18:32:10.623813Z",
     "iopub.status.busy": "2025-08-19T18:32:10.622961Z",
     "iopub.status.idle": "2025-08-19T18:32:10.754961Z",
     "shell.execute_reply": "2025-08-19T18:32:10.754255Z"
    },
    "papermill": {
     "duration": 0.148502,
     "end_time": "2025-08-19T18:32:10.756859",
     "exception": false,
     "start_time": "2025-08-19T18:32:10.608357",
     "status": "completed"
    },
    "tags": []
   },
   "outputs": [
    {
     "data": {
      "text/html": [
       "<div>\n",
       "<style scoped>\n",
       "    .dataframe tbody tr th:only-of-type {\n",
       "        vertical-align: middle;\n",
       "    }\n",
       "\n",
       "    .dataframe tbody tr th {\n",
       "        vertical-align: top;\n",
       "    }\n",
       "\n",
       "    .dataframe thead th {\n",
       "        text-align: right;\n",
       "    }\n",
       "</style>\n",
       "<table border=\"1\" class=\"dataframe\">\n",
       "  <thead>\n",
       "    <tr style=\"text-align: right;\">\n",
       "      <th></th>\n",
       "      <th>persnr</th>\n",
       "      <th>year</th>\n",
       "      <th>nrEntry</th>\n",
       "      <th>ltue</th>\n",
       "      <th>employed_before</th>\n",
       "      <th>receipt_leh_before</th>\n",
       "      <th>receipt_lhg_before</th>\n",
       "      <th>se_before</th>\n",
       "      <th>ASU_notue_seeking_before</th>\n",
       "      <th>ASU_other_before</th>\n",
       "      <th>...</th>\n",
       "      <th>minijob_tot_dur_byage</th>\n",
       "      <th>ft_tot_dur_byage</th>\n",
       "      <th>befrist_tot_dur_byage</th>\n",
       "      <th>leih_tot_dur_byage</th>\n",
       "      <th>LHG_tot_dur_byage</th>\n",
       "      <th>LEH_tot_dur_byage</th>\n",
       "      <th>almp_tot_dur_byage</th>\n",
       "      <th>almp_aw_tot_dur_byage</th>\n",
       "      <th>se_tot_dur_byage</th>\n",
       "      <th>seeking1_tot_dur_byage</th>\n",
       "    </tr>\n",
       "  </thead>\n",
       "  <tbody>\n",
       "    <tr>\n",
       "      <th>0</th>\n",
       "      <td>7</td>\n",
       "      <td>2015</td>\n",
       "      <td>1</td>\n",
       "      <td>0</td>\n",
       "      <td>1</td>\n",
       "      <td>0</td>\n",
       "      <td>0</td>\n",
       "      <td>0</td>\n",
       "      <td>1</td>\n",
       "      <td>0</td>\n",
       "      <td>...</td>\n",
       "      <td>0.000000</td>\n",
       "      <td>0.000000</td>\n",
       "      <td>15.043478</td>\n",
       "      <td>0.000000</td>\n",
       "      <td>0.000000</td>\n",
       "      <td>0.000000</td>\n",
       "      <td>0.000000</td>\n",
       "      <td>0.000000</td>\n",
       "      <td>0.000000</td>\n",
       "      <td>0.000000</td>\n",
       "    </tr>\n",
       "    <tr>\n",
       "      <th>1</th>\n",
       "      <td>18</td>\n",
       "      <td>2010</td>\n",
       "      <td>1</td>\n",
       "      <td>1</td>\n",
       "      <td>0</td>\n",
       "      <td>0</td>\n",
       "      <td>0</td>\n",
       "      <td>0</td>\n",
       "      <td>0</td>\n",
       "      <td>0</td>\n",
       "      <td>...</td>\n",
       "      <td>0.000000</td>\n",
       "      <td>0.000000</td>\n",
       "      <td>0.000000</td>\n",
       "      <td>0.000000</td>\n",
       "      <td>0.000000</td>\n",
       "      <td>0.000000</td>\n",
       "      <td>0.000000</td>\n",
       "      <td>0.000000</td>\n",
       "      <td>0.000000</td>\n",
       "      <td>0.000000</td>\n",
       "    </tr>\n",
       "    <tr>\n",
       "      <th>2</th>\n",
       "      <td>18</td>\n",
       "      <td>2011</td>\n",
       "      <td>2</td>\n",
       "      <td>0</td>\n",
       "      <td>1</td>\n",
       "      <td>0</td>\n",
       "      <td>1</td>\n",
       "      <td>0</td>\n",
       "      <td>1</td>\n",
       "      <td>0</td>\n",
       "      <td>...</td>\n",
       "      <td>2.714286</td>\n",
       "      <td>2.714286</td>\n",
       "      <td>0.000000</td>\n",
       "      <td>0.000000</td>\n",
       "      <td>10.775510</td>\n",
       "      <td>0.000000</td>\n",
       "      <td>8.367347</td>\n",
       "      <td>0.000000</td>\n",
       "      <td>0.000000</td>\n",
       "      <td>9.836735</td>\n",
       "    </tr>\n",
       "    <tr>\n",
       "      <th>3</th>\n",
       "      <td>18</td>\n",
       "      <td>2012</td>\n",
       "      <td>3</td>\n",
       "      <td>0</td>\n",
       "      <td>1</td>\n",
       "      <td>0</td>\n",
       "      <td>1</td>\n",
       "      <td>0</td>\n",
       "      <td>1</td>\n",
       "      <td>0</td>\n",
       "      <td>...</td>\n",
       "      <td>4.200000</td>\n",
       "      <td>4.200000</td>\n",
       "      <td>0.000000</td>\n",
       "      <td>0.000000</td>\n",
       "      <td>12.100000</td>\n",
       "      <td>0.000000</td>\n",
       "      <td>9.400000</td>\n",
       "      <td>0.000000</td>\n",
       "      <td>0.000000</td>\n",
       "      <td>9.960000</td>\n",
       "    </tr>\n",
       "    <tr>\n",
       "      <th>4</th>\n",
       "      <td>18</td>\n",
       "      <td>2012</td>\n",
       "      <td>4</td>\n",
       "      <td>0</td>\n",
       "      <td>1</td>\n",
       "      <td>0</td>\n",
       "      <td>1</td>\n",
       "      <td>0</td>\n",
       "      <td>1</td>\n",
       "      <td>0</td>\n",
       "      <td>...</td>\n",
       "      <td>5.460000</td>\n",
       "      <td>5.460000</td>\n",
       "      <td>0.000000</td>\n",
       "      <td>0.000000</td>\n",
       "      <td>13.360000</td>\n",
       "      <td>0.000000</td>\n",
       "      <td>10.320000</td>\n",
       "      <td>0.000000</td>\n",
       "      <td>0.000000</td>\n",
       "      <td>10.280000</td>\n",
       "    </tr>\n",
       "    <tr>\n",
       "      <th>...</th>\n",
       "      <td>...</td>\n",
       "      <td>...</td>\n",
       "      <td>...</td>\n",
       "      <td>...</td>\n",
       "      <td>...</td>\n",
       "      <td>...</td>\n",
       "      <td>...</td>\n",
       "      <td>...</td>\n",
       "      <td>...</td>\n",
       "      <td>...</td>\n",
       "      <td>...</td>\n",
       "      <td>...</td>\n",
       "      <td>...</td>\n",
       "      <td>...</td>\n",
       "      <td>...</td>\n",
       "      <td>...</td>\n",
       "      <td>...</td>\n",
       "      <td>...</td>\n",
       "      <td>...</td>\n",
       "      <td>...</td>\n",
       "      <td>...</td>\n",
       "    </tr>\n",
       "    <tr>\n",
       "      <th>643685</th>\n",
       "      <td>1827860</td>\n",
       "      <td>2013</td>\n",
       "      <td>1</td>\n",
       "      <td>0</td>\n",
       "      <td>0</td>\n",
       "      <td>0</td>\n",
       "      <td>1</td>\n",
       "      <td>0</td>\n",
       "      <td>0</td>\n",
       "      <td>1</td>\n",
       "      <td>...</td>\n",
       "      <td>0.000000</td>\n",
       "      <td>0.000000</td>\n",
       "      <td>0.000000</td>\n",
       "      <td>0.000000</td>\n",
       "      <td>0.612903</td>\n",
       "      <td>0.000000</td>\n",
       "      <td>0.000000</td>\n",
       "      <td>0.000000</td>\n",
       "      <td>0.000000</td>\n",
       "      <td>0.000000</td>\n",
       "    </tr>\n",
       "    <tr>\n",
       "      <th>643686</th>\n",
       "      <td>1827860</td>\n",
       "      <td>2015</td>\n",
       "      <td>2</td>\n",
       "      <td>1</td>\n",
       "      <td>0</td>\n",
       "      <td>0</td>\n",
       "      <td>1</td>\n",
       "      <td>0</td>\n",
       "      <td>1</td>\n",
       "      <td>0</td>\n",
       "      <td>...</td>\n",
       "      <td>0.000000</td>\n",
       "      <td>0.000000</td>\n",
       "      <td>0.212121</td>\n",
       "      <td>0.212121</td>\n",
       "      <td>17.363636</td>\n",
       "      <td>0.000000</td>\n",
       "      <td>8.909091</td>\n",
       "      <td>0.000000</td>\n",
       "      <td>0.000000</td>\n",
       "      <td>7.121212</td>\n",
       "    </tr>\n",
       "    <tr>\n",
       "      <th>643687</th>\n",
       "      <td>1827860</td>\n",
       "      <td>2016</td>\n",
       "      <td>3</td>\n",
       "      <td>1</td>\n",
       "      <td>0</td>\n",
       "      <td>0</td>\n",
       "      <td>1</td>\n",
       "      <td>1</td>\n",
       "      <td>0</td>\n",
       "      <td>1</td>\n",
       "      <td>...</td>\n",
       "      <td>0.000000</td>\n",
       "      <td>0.000000</td>\n",
       "      <td>0.294118</td>\n",
       "      <td>0.205882</td>\n",
       "      <td>34.705882</td>\n",
       "      <td>0.000000</td>\n",
       "      <td>10.352941</td>\n",
       "      <td>1.705882</td>\n",
       "      <td>1.705882</td>\n",
       "      <td>23.911765</td>\n",
       "    </tr>\n",
       "    <tr>\n",
       "      <th>643688</th>\n",
       "      <td>1827869</td>\n",
       "      <td>2013</td>\n",
       "      <td>1</td>\n",
       "      <td>1</td>\n",
       "      <td>1</td>\n",
       "      <td>0</td>\n",
       "      <td>0</td>\n",
       "      <td>0</td>\n",
       "      <td>1</td>\n",
       "      <td>0</td>\n",
       "      <td>...</td>\n",
       "      <td>0.000000</td>\n",
       "      <td>0.000000</td>\n",
       "      <td>0.000000</td>\n",
       "      <td>0.000000</td>\n",
       "      <td>0.000000</td>\n",
       "      <td>0.525424</td>\n",
       "      <td>0.000000</td>\n",
       "      <td>0.000000</td>\n",
       "      <td>0.000000</td>\n",
       "      <td>0.000000</td>\n",
       "    </tr>\n",
       "    <tr>\n",
       "      <th>643689</th>\n",
       "      <td>1827869</td>\n",
       "      <td>2014</td>\n",
       "      <td>2</td>\n",
       "      <td>0</td>\n",
       "      <td>0</td>\n",
       "      <td>1</td>\n",
       "      <td>0</td>\n",
       "      <td>0</td>\n",
       "      <td>1</td>\n",
       "      <td>0</td>\n",
       "      <td>...</td>\n",
       "      <td>0.000000</td>\n",
       "      <td>0.666667</td>\n",
       "      <td>0.666667</td>\n",
       "      <td>0.000000</td>\n",
       "      <td>0.000000</td>\n",
       "      <td>8.950000</td>\n",
       "      <td>1.033333</td>\n",
       "      <td>0.083333</td>\n",
       "      <td>0.083333</td>\n",
       "      <td>8.133333</td>\n",
       "    </tr>\n",
       "  </tbody>\n",
       "</table>\n",
       "<p>643690 rows × 164 columns</p>\n",
       "</div>"
      ],
      "text/plain": [
       "         persnr  year  nrEntry  ltue  employed_before  receipt_leh_before  \\\n",
       "0             7  2015        1     0                1                   0   \n",
       "1            18  2010        1     1                0                   0   \n",
       "2            18  2011        2     0                1                   0   \n",
       "3            18  2012        3     0                1                   0   \n",
       "4            18  2012        4     0                1                   0   \n",
       "...         ...   ...      ...   ...              ...                 ...   \n",
       "643685  1827860  2013        1     0                0                   0   \n",
       "643686  1827860  2015        2     1                0                   0   \n",
       "643687  1827860  2016        3     1                0                   0   \n",
       "643688  1827869  2013        1     1                1                   0   \n",
       "643689  1827869  2014        2     0                0                   1   \n",
       "\n",
       "        receipt_lhg_before  se_before  ASU_notue_seeking_before  \\\n",
       "0                        0          0                         1   \n",
       "1                        0          0                         0   \n",
       "2                        1          0                         1   \n",
       "3                        1          0                         1   \n",
       "4                        1          0                         1   \n",
       "...                    ...        ...                       ...   \n",
       "643685                   1          0                         0   \n",
       "643686                   1          0                         1   \n",
       "643687                   1          1                         0   \n",
       "643688                   0          0                         1   \n",
       "643689                   0          0                         1   \n",
       "\n",
       "        ASU_other_before  ...  minijob_tot_dur_byage  ft_tot_dur_byage  \\\n",
       "0                      0  ...               0.000000          0.000000   \n",
       "1                      0  ...               0.000000          0.000000   \n",
       "2                      0  ...               2.714286          2.714286   \n",
       "3                      0  ...               4.200000          4.200000   \n",
       "4                      0  ...               5.460000          5.460000   \n",
       "...                  ...  ...                    ...               ...   \n",
       "643685                 1  ...               0.000000          0.000000   \n",
       "643686                 0  ...               0.000000          0.000000   \n",
       "643687                 1  ...               0.000000          0.000000   \n",
       "643688                 0  ...               0.000000          0.000000   \n",
       "643689                 0  ...               0.000000          0.666667   \n",
       "\n",
       "        befrist_tot_dur_byage  leih_tot_dur_byage  LHG_tot_dur_byage  \\\n",
       "0                   15.043478            0.000000           0.000000   \n",
       "1                    0.000000            0.000000           0.000000   \n",
       "2                    0.000000            0.000000          10.775510   \n",
       "3                    0.000000            0.000000          12.100000   \n",
       "4                    0.000000            0.000000          13.360000   \n",
       "...                       ...                 ...                ...   \n",
       "643685               0.000000            0.000000           0.612903   \n",
       "643686               0.212121            0.212121          17.363636   \n",
       "643687               0.294118            0.205882          34.705882   \n",
       "643688               0.000000            0.000000           0.000000   \n",
       "643689               0.666667            0.000000           0.000000   \n",
       "\n",
       "        LEH_tot_dur_byage  almp_tot_dur_byage  almp_aw_tot_dur_byage  \\\n",
       "0                0.000000            0.000000               0.000000   \n",
       "1                0.000000            0.000000               0.000000   \n",
       "2                0.000000            8.367347               0.000000   \n",
       "3                0.000000            9.400000               0.000000   \n",
       "4                0.000000           10.320000               0.000000   \n",
       "...                   ...                 ...                    ...   \n",
       "643685           0.000000            0.000000               0.000000   \n",
       "643686           0.000000            8.909091               0.000000   \n",
       "643687           0.000000           10.352941               1.705882   \n",
       "643688           0.525424            0.000000               0.000000   \n",
       "643689           8.950000            1.033333               0.083333   \n",
       "\n",
       "        se_tot_dur_byage  seeking1_tot_dur_byage  \n",
       "0               0.000000                0.000000  \n",
       "1               0.000000                0.000000  \n",
       "2               0.000000                9.836735  \n",
       "3               0.000000                9.960000  \n",
       "4               0.000000               10.280000  \n",
       "...                  ...                     ...  \n",
       "643685          0.000000                0.000000  \n",
       "643686          0.000000                7.121212  \n",
       "643687          1.705882               23.911765  \n",
       "643688          0.000000                0.000000  \n",
       "643689          0.083333                8.133333  \n",
       "\n",
       "[643690 rows x 164 columns]"
      ]
     },
     "execution_count": 10,
     "metadata": {},
     "output_type": "execute_result"
    }
   ],
   "source": [
    "siab"
   ]
  },
  {
   "cell_type": "markdown",
   "id": "1f87e805",
   "metadata": {
    "papermill": {
     "duration": 0.009671,
     "end_time": "2025-08-19T18:32:10.776518",
     "exception": false,
     "start_time": "2025-08-19T18:32:10.766847",
     "status": "completed"
    },
    "tags": []
   },
   "source": [
    "# Splitting Data and Setting Training Data Size"
   ]
  },
  {
   "cell_type": "code",
   "execution_count": 11,
   "id": "910ae358",
   "metadata": {
    "execution": {
     "iopub.execute_input": "2025-08-19T18:32:10.802250Z",
     "iopub.status.busy": "2025-08-19T18:32:10.799667Z",
     "iopub.status.idle": "2025-08-19T18:32:11.439600Z",
     "shell.execute_reply": "2025-08-19T18:32:11.438882Z"
    },
    "papermill": {
     "duration": 0.655136,
     "end_time": "2025-08-19T18:32:11.441240",
     "exception": false,
     "start_time": "2025-08-19T18:32:10.786104",
     "status": "completed"
    },
    "tags": []
   },
   "outputs": [],
   "source": [
    "from fairness_multiverse.universe import sample_by_year_size\n",
    "\n",
    "siab_train = sample_by_year_size(siab,\n",
    "                               training_year=universe[\"training_year\"],\n",
    "                               training_size=universe[\"training_size\"])"
   ]
  },
  {
   "cell_type": "code",
   "execution_count": 12,
   "id": "919c8ff5",
   "metadata": {
    "execution": {
     "iopub.execute_input": "2025-08-19T18:32:11.462860Z",
     "iopub.status.busy": "2025-08-19T18:32:11.462190Z",
     "iopub.status.idle": "2025-08-19T18:32:11.470733Z",
     "shell.execute_reply": "2025-08-19T18:32:11.469452Z"
    },
    "papermill": {
     "duration": 0.020746,
     "end_time": "2025-08-19T18:32:11.472068",
     "exception": false,
     "start_time": "2025-08-19T18:32:11.451322",
     "status": "completed"
    },
    "tags": []
   },
   "outputs": [
    {
     "data": {
      "text/plain": [
       "(5000, 164)"
      ]
     },
     "execution_count": 12,
     "metadata": {},
     "output_type": "execute_result"
    }
   ],
   "source": [
    "siab_train.shape"
   ]
  },
  {
   "cell_type": "code",
   "execution_count": 13,
   "id": "feb13bf4",
   "metadata": {
    "execution": {
     "iopub.execute_input": "2025-08-19T18:32:11.496398Z",
     "iopub.status.busy": "2025-08-19T18:32:11.495223Z",
     "iopub.status.idle": "2025-08-19T18:32:11.510395Z",
     "shell.execute_reply": "2025-08-19T18:32:11.509265Z"
    },
    "papermill": {
     "duration": 0.041416,
     "end_time": "2025-08-19T18:32:11.524993",
     "exception": false,
     "start_time": "2025-08-19T18:32:11.483577",
     "status": "completed"
    },
    "tags": []
   },
   "outputs": [
    {
     "data": {
      "text/plain": [
       "year\n",
       "2012    1667\n",
       "2013    1667\n",
       "2014    1666\n",
       "dtype: int64"
      ]
     },
     "metadata": {},
     "output_type": "display_data"
    }
   ],
   "source": [
    "display(siab_train.groupby(\"year\").size())"
   ]
  },
  {
   "cell_type": "code",
   "execution_count": 14,
   "id": "0997782f",
   "metadata": {
    "execution": {
     "iopub.execute_input": "2025-08-19T18:32:11.576866Z",
     "iopub.status.busy": "2025-08-19T18:32:11.576405Z",
     "iopub.status.idle": "2025-08-19T18:32:11.823547Z",
     "shell.execute_reply": "2025-08-19T18:32:11.822833Z"
    },
    "papermill": {
     "duration": 0.261343,
     "end_time": "2025-08-19T18:32:11.826365",
     "exception": false,
     "start_time": "2025-08-19T18:32:11.565022",
     "status": "completed"
    },
    "tags": []
   },
   "outputs": [],
   "source": [
    "#siab_train = siab_s[siab_s.year < 2015]\n",
    "siab_calib = siab[siab.year == 2015]\n",
    "siab_test = siab[siab.year == 2016]"
   ]
  },
  {
   "cell_type": "code",
   "execution_count": 15,
   "id": "2c1e4012",
   "metadata": {
    "execution": {
     "iopub.execute_input": "2025-08-19T18:32:11.875465Z",
     "iopub.status.busy": "2025-08-19T18:32:11.874923Z",
     "iopub.status.idle": "2025-08-19T18:32:11.880030Z",
     "shell.execute_reply": "2025-08-19T18:32:11.879201Z"
    },
    "papermill": {
     "duration": 0.036937,
     "end_time": "2025-08-19T18:32:11.885495",
     "exception": false,
     "start_time": "2025-08-19T18:32:11.848558",
     "status": "completed"
    },
    "tags": []
   },
   "outputs": [],
   "source": [
    "#siab_calib.shape"
   ]
  },
  {
   "cell_type": "code",
   "execution_count": 16,
   "id": "f66b54ca",
   "metadata": {
    "execution": {
     "iopub.execute_input": "2025-08-19T18:32:11.908624Z",
     "iopub.status.busy": "2025-08-19T18:32:11.908191Z",
     "iopub.status.idle": "2025-08-19T18:32:11.913965Z",
     "shell.execute_reply": "2025-08-19T18:32:11.913388Z"
    },
    "papermill": {
     "duration": 0.018574,
     "end_time": "2025-08-19T18:32:11.915218",
     "exception": false,
     "start_time": "2025-08-19T18:32:11.896644",
     "status": "completed"
    },
    "tags": []
   },
   "outputs": [],
   "source": [
    "#siab_test.shape"
   ]
  },
  {
   "cell_type": "code",
   "execution_count": 17,
   "id": "27e4384d",
   "metadata": {
    "execution": {
     "iopub.execute_input": "2025-08-19T18:32:11.937199Z",
     "iopub.status.busy": "2025-08-19T18:32:11.936900Z",
     "iopub.status.idle": "2025-08-19T18:32:11.944224Z",
     "shell.execute_reply": "2025-08-19T18:32:11.943475Z"
    },
    "papermill": {
     "duration": 0.020437,
     "end_time": "2025-08-19T18:32:11.946098",
     "exception": false,
     "start_time": "2025-08-19T18:32:11.925661",
     "status": "completed"
    },
    "tags": []
   },
   "outputs": [],
   "source": [
    "X_train = siab_train.iloc[:,4:164]\n",
    "y_train = siab_train.iloc[:, [3]]"
   ]
  },
  {
   "cell_type": "code",
   "execution_count": 18,
   "id": "08ee8389",
   "metadata": {
    "execution": {
     "iopub.execute_input": "2025-08-19T18:32:11.971258Z",
     "iopub.status.busy": "2025-08-19T18:32:11.970920Z",
     "iopub.status.idle": "2025-08-19T18:32:12.024102Z",
     "shell.execute_reply": "2025-08-19T18:32:12.022652Z"
    },
    "papermill": {
     "duration": 0.067263,
     "end_time": "2025-08-19T18:32:12.025730",
     "exception": false,
     "start_time": "2025-08-19T18:32:11.958467",
     "status": "completed"
    },
    "tags": []
   },
   "outputs": [],
   "source": [
    "X_calib = siab_calib.iloc[:,4:164]\n",
    "y_calib = siab_calib.iloc[:, [3]]"
   ]
  },
  {
   "cell_type": "code",
   "execution_count": 19,
   "id": "b7ff42e0",
   "metadata": {
    "execution": {
     "iopub.execute_input": "2025-08-19T18:32:12.049185Z",
     "iopub.status.busy": "2025-08-19T18:32:12.048255Z",
     "iopub.status.idle": "2025-08-19T18:32:12.140726Z",
     "shell.execute_reply": "2025-08-19T18:32:12.139817Z"
    },
    "papermill": {
     "duration": 0.106912,
     "end_time": "2025-08-19T18:32:12.143412",
     "exception": false,
     "start_time": "2025-08-19T18:32:12.036500",
     "status": "completed"
    },
    "tags": []
   },
   "outputs": [],
   "source": [
    "X_test = siab_test.iloc[:,4:164]\n",
    "y_true = siab_test.iloc[:, [3]]"
   ]
  },
  {
   "cell_type": "code",
   "execution_count": 20,
   "id": "0275101e",
   "metadata": {
    "execution": {
     "iopub.execute_input": "2025-08-19T18:32:12.172694Z",
     "iopub.status.busy": "2025-08-19T18:32:12.172313Z",
     "iopub.status.idle": "2025-08-19T18:32:12.292872Z",
     "shell.execute_reply": "2025-08-19T18:32:12.292152Z"
    },
    "papermill": {
     "duration": 0.135254,
     "end_time": "2025-08-19T18:32:12.295573",
     "exception": false,
     "start_time": "2025-08-19T18:32:12.160319",
     "status": "completed"
    },
    "tags": []
   },
   "outputs": [],
   "source": [
    "# Auxiliary data needed downstream in the pipeline\n",
    "\n",
    "org_train = X_train.copy()\n",
    "org_test = X_test.copy()\n",
    "org_calib = X_calib.copy()"
   ]
  },
  {
   "cell_type": "markdown",
   "id": "b461e618",
   "metadata": {
    "papermill": {
     "duration": 0.017215,
     "end_time": "2025-08-19T18:32:12.338929",
     "exception": false,
     "start_time": "2025-08-19T18:32:12.321714",
     "status": "completed"
    },
    "tags": []
   },
   "source": [
    "# Preprocessing Data"
   ]
  },
  {
   "cell_type": "code",
   "execution_count": 21,
   "id": "78e74c4b",
   "metadata": {
    "execution": {
     "iopub.execute_input": "2025-08-19T18:32:12.361349Z",
     "iopub.status.busy": "2025-08-19T18:32:12.360927Z",
     "iopub.status.idle": "2025-08-19T18:32:12.365633Z",
     "shell.execute_reply": "2025-08-19T18:32:12.364918Z"
    },
    "papermill": {
     "duration": 0.017595,
     "end_time": "2025-08-19T18:32:12.366809",
     "exception": false,
     "start_time": "2025-08-19T18:32:12.349214",
     "status": "completed"
    },
    "tags": []
   },
   "outputs": [],
   "source": [
    "# EXCLUDE PROTECTED FEATURES\n",
    "# --------------------------\n",
    "\n",
    "excluded_features = universe[\"exclude_features\"].split(\"-\")\n",
    "excluded_features_dictionary = {\n",
    "    \"nationality\": [\"maxdeutsch1\", \"maxdeutsch.Missing.\"],\n",
    "    \"sex\": [\"frau1\"],\n",
    "    \"age\": [\"age\"],\n",
    "}"
   ]
  },
  {
   "cell_type": "code",
   "execution_count": 22,
   "id": "f8e63555",
   "metadata": {
    "execution": {
     "iopub.execute_input": "2025-08-19T18:32:12.388216Z",
     "iopub.status.busy": "2025-08-19T18:32:12.387628Z",
     "iopub.status.idle": "2025-08-19T18:32:12.392299Z",
     "shell.execute_reply": "2025-08-19T18:32:12.391622Z"
    },
    "papermill": {
     "duration": 0.016449,
     "end_time": "2025-08-19T18:32:12.393323",
     "exception": false,
     "start_time": "2025-08-19T18:32:12.376874",
     "status": "completed"
    },
    "tags": []
   },
   "outputs": [],
   "source": [
    "excluded_features_columns = [\n",
    "    excluded_features_dictionary[f] for f in excluded_features if len(f) > 0 and f != \"none\"\n",
    "]"
   ]
  },
  {
   "cell_type": "code",
   "execution_count": 23,
   "id": "da781f7c",
   "metadata": {
    "execution": {
     "iopub.execute_input": "2025-08-19T18:32:12.415192Z",
     "iopub.status.busy": "2025-08-19T18:32:12.414615Z",
     "iopub.status.idle": "2025-08-19T18:32:12.420713Z",
     "shell.execute_reply": "2025-08-19T18:32:12.419755Z"
    },
    "papermill": {
     "duration": 0.020925,
     "end_time": "2025-08-19T18:32:12.424305",
     "exception": false,
     "start_time": "2025-08-19T18:32:12.403380",
     "status": "completed"
    },
    "tags": []
   },
   "outputs": [],
   "source": [
    "from fairness_multiverse.universe import flatten_once\n",
    "\n",
    "excluded_features_columns = flatten_once(excluded_features_columns)"
   ]
  },
  {
   "cell_type": "code",
   "execution_count": 24,
   "id": "37fef0f0",
   "metadata": {
    "execution": {
     "iopub.execute_input": "2025-08-19T18:32:12.465931Z",
     "iopub.status.busy": "2025-08-19T18:32:12.464337Z",
     "iopub.status.idle": "2025-08-19T18:32:12.486303Z",
     "shell.execute_reply": "2025-08-19T18:32:12.485490Z"
    },
    "papermill": {
     "duration": 0.051765,
     "end_time": "2025-08-19T18:32:12.487934",
     "exception": false,
     "start_time": "2025-08-19T18:32:12.436169",
     "status": "completed"
    },
    "tags": []
   },
   "outputs": [
    {
     "name": "stdout",
     "output_type": "stream",
     "text": [
      "Dropping features: ['maxdeutsch1', 'maxdeutsch.Missing.', 'frau1']\n"
     ]
    }
   ],
   "source": [
    "if len(excluded_features_columns) > 0:\n",
    "    print(f\"Dropping features: {excluded_features_columns}\")\n",
    "    X_train.drop(excluded_features_columns, axis=1, inplace=True)"
   ]
  },
  {
   "cell_type": "code",
   "execution_count": 25,
   "id": "d029e3e9",
   "metadata": {
    "execution": {
     "iopub.execute_input": "2025-08-19T18:32:12.519665Z",
     "iopub.status.busy": "2025-08-19T18:32:12.519231Z",
     "iopub.status.idle": "2025-08-19T18:32:12.575453Z",
     "shell.execute_reply": "2025-08-19T18:32:12.574756Z"
    },
    "papermill": {
     "duration": 0.069994,
     "end_time": "2025-08-19T18:32:12.576605",
     "exception": false,
     "start_time": "2025-08-19T18:32:12.506611",
     "status": "completed"
    },
    "tags": []
   },
   "outputs": [
    {
     "name": "stdout",
     "output_type": "stream",
     "text": [
      "Dropping features: ['maxdeutsch1', 'maxdeutsch.Missing.', 'frau1']\n"
     ]
    }
   ],
   "source": [
    "if len(excluded_features_columns) > 0:\n",
    "    print(f\"Dropping features: {excluded_features_columns}\")\n",
    "    X_test.drop(excluded_features_columns, axis=1, inplace=True)"
   ]
  },
  {
   "cell_type": "code",
   "execution_count": 26,
   "id": "01d571f0",
   "metadata": {
    "execution": {
     "iopub.execute_input": "2025-08-19T18:32:12.599834Z",
     "iopub.status.busy": "2025-08-19T18:32:12.598969Z",
     "iopub.status.idle": "2025-08-19T18:32:12.650532Z",
     "shell.execute_reply": "2025-08-19T18:32:12.649902Z"
    },
    "papermill": {
     "duration": 0.065325,
     "end_time": "2025-08-19T18:32:12.652840",
     "exception": false,
     "start_time": "2025-08-19T18:32:12.587515",
     "status": "completed"
    },
    "tags": []
   },
   "outputs": [
    {
     "name": "stdout",
     "output_type": "stream",
     "text": [
      "Dropping features: ['maxdeutsch1', 'maxdeutsch.Missing.', 'frau1']\n"
     ]
    }
   ],
   "source": [
    "if len(excluded_features_columns) > 0:\n",
    "    print(f\"Dropping features: {excluded_features_columns}\")\n",
    "    X_calib.drop(excluded_features_columns, axis=1, inplace=True)"
   ]
  },
  {
   "cell_type": "code",
   "execution_count": 27,
   "id": "3037356e",
   "metadata": {
    "execution": {
     "iopub.execute_input": "2025-08-19T18:32:12.691617Z",
     "iopub.status.busy": "2025-08-19T18:32:12.690280Z",
     "iopub.status.idle": "2025-08-19T18:32:12.699465Z",
     "shell.execute_reply": "2025-08-19T18:32:12.698003Z"
    },
    "papermill": {
     "duration": 0.024646,
     "end_time": "2025-08-19T18:32:12.700893",
     "exception": false,
     "start_time": "2025-08-19T18:32:12.676247",
     "status": "completed"
    },
    "tags": []
   },
   "outputs": [],
   "source": [
    "# EXCLUDE CERTAIN SUBGROUPS\n",
    "# -------------------------\n",
    "\n",
    "mode = universe.get(\"exclude_subgroups\", \"keep-all\") # Defaults to \"keep-all\" if the key is missing."
   ]
  },
  {
   "cell_type": "code",
   "execution_count": 28,
   "id": "9d1e63fd",
   "metadata": {
    "execution": {
     "iopub.execute_input": "2025-08-19T18:32:12.727146Z",
     "iopub.status.busy": "2025-08-19T18:32:12.725820Z",
     "iopub.status.idle": "2025-08-19T18:32:12.770375Z",
     "shell.execute_reply": "2025-08-19T18:32:12.768712Z"
    },
    "papermill": {
     "duration": 0.059659,
     "end_time": "2025-08-19T18:32:12.773351",
     "exception": false,
     "start_time": "2025-08-19T18:32:12.713692",
     "status": "completed"
    },
    "tags": []
   },
   "outputs": [],
   "source": [
    "if mode == \"keep-all\":\n",
    "    keep_mask = pd.Series(True, index=org_train.index)\n",
    "\n",
    "elif mode == \"drop-non-german\":\n",
    "    keep_mask = (org_train[\"maxdeutsch1\"] == 1) & (org_train[\"maxdeutsch.Missing.\"] == 0)\n",
    "\n",
    "else:\n",
    "    raise ValueError(f\"Unsupported mode for exclude_subgroups: {mode}\")"
   ]
  },
  {
   "cell_type": "code",
   "execution_count": 29,
   "id": "d3b65474",
   "metadata": {
    "execution": {
     "iopub.execute_input": "2025-08-19T18:32:12.813803Z",
     "iopub.status.busy": "2025-08-19T18:32:12.812657Z",
     "iopub.status.idle": "2025-08-19T18:32:12.823834Z",
     "shell.execute_reply": "2025-08-19T18:32:12.822328Z"
    },
    "papermill": {
     "duration": 0.027312,
     "end_time": "2025-08-19T18:32:12.825541",
     "exception": false,
     "start_time": "2025-08-19T18:32:12.798229",
     "status": "completed"
    },
    "tags": []
   },
   "outputs": [],
   "source": [
    "n_drop = (~keep_mask).sum() # Calculates how many rows are set to be dropped\n",
    "if n_drop > 0:\n",
    "    pct = n_drop / len(keep_mask) * 100\n",
    "    print(f\"Dropping {n_drop} rows ({pct:.2f}%) where mode='{mode}'\")"
   ]
  },
  {
   "cell_type": "code",
   "execution_count": 30,
   "id": "f44389b3",
   "metadata": {
    "execution": {
     "iopub.execute_input": "2025-08-19T18:32:12.851865Z",
     "iopub.status.busy": "2025-08-19T18:32:12.850839Z",
     "iopub.status.idle": "2025-08-19T18:32:12.867330Z",
     "shell.execute_reply": "2025-08-19T18:32:12.866120Z"
    },
    "papermill": {
     "duration": 0.030276,
     "end_time": "2025-08-19T18:32:12.868936",
     "exception": false,
     "start_time": "2025-08-19T18:32:12.838660",
     "status": "completed"
    },
    "tags": []
   },
   "outputs": [],
   "source": [
    "X_train = X_train[keep_mask]"
   ]
  },
  {
   "cell_type": "code",
   "execution_count": 31,
   "id": "ceca8c2a",
   "metadata": {
    "execution": {
     "iopub.execute_input": "2025-08-19T18:32:12.898353Z",
     "iopub.status.busy": "2025-08-19T18:32:12.897110Z",
     "iopub.status.idle": "2025-08-19T18:32:12.906987Z",
     "shell.execute_reply": "2025-08-19T18:32:12.905403Z"
    },
    "papermill": {
     "duration": 0.024466,
     "end_time": "2025-08-19T18:32:12.908715",
     "exception": false,
     "start_time": "2025-08-19T18:32:12.884249",
     "status": "completed"
    },
    "tags": []
   },
   "outputs": [],
   "source": [
    "y_train = y_train[keep_mask]"
   ]
  },
  {
   "cell_type": "markdown",
   "id": "04d31e2f",
   "metadata": {
    "papermill": {
     "duration": 0.011244,
     "end_time": "2025-08-19T18:32:12.934022",
     "exception": false,
     "start_time": "2025-08-19T18:32:12.922778",
     "status": "completed"
    },
    "tags": []
   },
   "source": [
    "# Model Training"
   ]
  },
  {
   "cell_type": "code",
   "execution_count": 32,
   "id": "db991733",
   "metadata": {
    "execution": {
     "iopub.execute_input": "2025-08-19T18:32:12.957813Z",
     "iopub.status.busy": "2025-08-19T18:32:12.956578Z",
     "iopub.status.idle": "2025-08-19T18:32:13.081577Z",
     "shell.execute_reply": "2025-08-19T18:32:13.080774Z"
    },
    "papermill": {
     "duration": 0.139441,
     "end_time": "2025-08-19T18:32:13.084118",
     "exception": false,
     "start_time": "2025-08-19T18:32:12.944677",
     "status": "completed"
    },
    "tags": []
   },
   "outputs": [],
   "source": [
    "from sklearn.linear_model import LogisticRegression\n",
    "from sklearn.ensemble import GradientBoostingClassifier, RandomForestClassifier\n",
    "\n",
    "if (universe[\"model\"] == \"logreg\"):\n",
    "    model = LogisticRegression() #penalty=\"none\", solver=\"newton-cg\", max_iter=1)\n",
    "elif (universe[\"model\"] == \"penalized_logreg\"):\n",
    "    model = LogisticRegression(penalty=\"l2\", C=0.1) #, solver=\"newton-cg\", max_iter=1)\n",
    "elif (universe[\"model\"] == \"rf\"):\n",
    "    model = RandomForestClassifier() # n_estimators=100, n_jobs=-1\n",
    "elif (universe[\"model\"] == \"gbm\"):\n",
    "    model = GradientBoostingClassifier()\n",
    "elif (universe[\"model\"] == \"elasticnet\"):\n",
    "    model = LogisticRegression(penalty = 'elasticnet', solver = 'saga', l1_ratio = 0.5) # max_iter=5000\n",
    "else:\n",
    "    raise \"Unsupported universe.model\""
   ]
  },
  {
   "cell_type": "code",
   "execution_count": 33,
   "id": "a4b5cd25",
   "metadata": {
    "execution": {
     "iopub.execute_input": "2025-08-19T18:32:13.126091Z",
     "iopub.status.busy": "2025-08-19T18:32:13.124862Z",
     "iopub.status.idle": "2025-08-19T18:32:13.150078Z",
     "shell.execute_reply": "2025-08-19T18:32:13.149383Z"
    },
    "papermill": {
     "duration": 0.042017,
     "end_time": "2025-08-19T18:32:13.151925",
     "exception": false,
     "start_time": "2025-08-19T18:32:13.109908",
     "status": "completed"
    },
    "tags": []
   },
   "outputs": [],
   "source": [
    "from sklearn.pipeline import Pipeline\n",
    "from sklearn.preprocessing import StandardScaler\n",
    "\n",
    "model = Pipeline([\n",
    "    #(\"continuous_processor\", continuous_processor),\n",
    "    #(\"categorical_preprocessor\", categorical_preprocessor),\n",
    "    (\"scale\", StandardScaler() if universe[\"scale\"] == \"scale\" else None), \n",
    "    (\"model\", model),\n",
    "])"
   ]
  },
  {
   "cell_type": "code",
   "execution_count": 34,
   "id": "283a904d",
   "metadata": {
    "execution": {
     "iopub.execute_input": "2025-08-19T18:32:13.209483Z",
     "iopub.status.busy": "2025-08-19T18:32:13.209029Z",
     "iopub.status.idle": "2025-08-19T18:32:13.353430Z",
     "shell.execute_reply": "2025-08-19T18:32:13.351826Z"
    },
    "papermill": {
     "duration": 0.159198,
     "end_time": "2025-08-19T18:32:13.356230",
     "exception": false,
     "start_time": "2025-08-19T18:32:13.197032",
     "status": "completed"
    },
    "tags": []
   },
   "outputs": [
    {
     "data": {
      "text/html": [
       "<style>#sk-container-id-1 {color: black;background-color: white;}#sk-container-id-1 pre{padding: 0;}#sk-container-id-1 div.sk-toggleable {background-color: white;}#sk-container-id-1 label.sk-toggleable__label {cursor: pointer;display: block;width: 100%;margin-bottom: 0;padding: 0.3em;box-sizing: border-box;text-align: center;}#sk-container-id-1 label.sk-toggleable__label-arrow:before {content: \"▸\";float: left;margin-right: 0.25em;color: #696969;}#sk-container-id-1 label.sk-toggleable__label-arrow:hover:before {color: black;}#sk-container-id-1 div.sk-estimator:hover label.sk-toggleable__label-arrow:before {color: black;}#sk-container-id-1 div.sk-toggleable__content {max-height: 0;max-width: 0;overflow: hidden;text-align: left;background-color: #f0f8ff;}#sk-container-id-1 div.sk-toggleable__content pre {margin: 0.2em;color: black;border-radius: 0.25em;background-color: #f0f8ff;}#sk-container-id-1 input.sk-toggleable__control:checked~div.sk-toggleable__content {max-height: 200px;max-width: 100%;overflow: auto;}#sk-container-id-1 input.sk-toggleable__control:checked~label.sk-toggleable__label-arrow:before {content: \"▾\";}#sk-container-id-1 div.sk-estimator input.sk-toggleable__control:checked~label.sk-toggleable__label {background-color: #d4ebff;}#sk-container-id-1 div.sk-label input.sk-toggleable__control:checked~label.sk-toggleable__label {background-color: #d4ebff;}#sk-container-id-1 input.sk-hidden--visually {border: 0;clip: rect(1px 1px 1px 1px);clip: rect(1px, 1px, 1px, 1px);height: 1px;margin: -1px;overflow: hidden;padding: 0;position: absolute;width: 1px;}#sk-container-id-1 div.sk-estimator {font-family: monospace;background-color: #f0f8ff;border: 1px dotted black;border-radius: 0.25em;box-sizing: border-box;margin-bottom: 0.5em;}#sk-container-id-1 div.sk-estimator:hover {background-color: #d4ebff;}#sk-container-id-1 div.sk-parallel-item::after {content: \"\";width: 100%;border-bottom: 1px solid gray;flex-grow: 1;}#sk-container-id-1 div.sk-label:hover label.sk-toggleable__label {background-color: #d4ebff;}#sk-container-id-1 div.sk-serial::before {content: \"\";position: absolute;border-left: 1px solid gray;box-sizing: border-box;top: 0;bottom: 0;left: 50%;z-index: 0;}#sk-container-id-1 div.sk-serial {display: flex;flex-direction: column;align-items: center;background-color: white;padding-right: 0.2em;padding-left: 0.2em;position: relative;}#sk-container-id-1 div.sk-item {position: relative;z-index: 1;}#sk-container-id-1 div.sk-parallel {display: flex;align-items: stretch;justify-content: center;background-color: white;position: relative;}#sk-container-id-1 div.sk-item::before, #sk-container-id-1 div.sk-parallel-item::before {content: \"\";position: absolute;border-left: 1px solid gray;box-sizing: border-box;top: 0;bottom: 0;left: 50%;z-index: -1;}#sk-container-id-1 div.sk-parallel-item {display: flex;flex-direction: column;z-index: 1;position: relative;background-color: white;}#sk-container-id-1 div.sk-parallel-item:first-child::after {align-self: flex-end;width: 50%;}#sk-container-id-1 div.sk-parallel-item:last-child::after {align-self: flex-start;width: 50%;}#sk-container-id-1 div.sk-parallel-item:only-child::after {width: 0;}#sk-container-id-1 div.sk-dashed-wrapped {border: 1px dashed gray;margin: 0 0.4em 0.5em 0.4em;box-sizing: border-box;padding-bottom: 0.4em;background-color: white;}#sk-container-id-1 div.sk-label label {font-family: monospace;font-weight: bold;display: inline-block;line-height: 1.2em;}#sk-container-id-1 div.sk-label-container {text-align: center;}#sk-container-id-1 div.sk-container {/* jupyter's `normalize.less` sets `[hidden] { display: none; }` but bootstrap.min.css set `[hidden] { display: none !important; }` so we also need the `!important` here to be able to override the default hidden behavior on the sphinx rendered scikit-learn.org. See: https://github.com/scikit-learn/scikit-learn/issues/21755 */display: inline-block !important;position: relative;}#sk-container-id-1 div.sk-text-repr-fallback {display: none;}</style><div id=\"sk-container-id-1\" class=\"sk-top-container\"><div class=\"sk-text-repr-fallback\"><pre>Pipeline(steps=[(&#x27;scale&#x27;, StandardScaler()),\n",
       "                (&#x27;model&#x27;, LogisticRegression(C=0.1))])</pre><b>In a Jupyter environment, please rerun this cell to show the HTML representation or trust the notebook. <br />On GitHub, the HTML representation is unable to render, please try loading this page with nbviewer.org.</b></div><div class=\"sk-container\" hidden><div class=\"sk-item sk-dashed-wrapped\"><div class=\"sk-label-container\"><div class=\"sk-label sk-toggleable\"><input class=\"sk-toggleable__control sk-hidden--visually\" id=\"sk-estimator-id-1\" type=\"checkbox\" ><label for=\"sk-estimator-id-1\" class=\"sk-toggleable__label sk-toggleable__label-arrow\">Pipeline</label><div class=\"sk-toggleable__content\"><pre>Pipeline(steps=[(&#x27;scale&#x27;, StandardScaler()),\n",
       "                (&#x27;model&#x27;, LogisticRegression(C=0.1))])</pre></div></div></div><div class=\"sk-serial\"><div class=\"sk-item\"><div class=\"sk-estimator sk-toggleable\"><input class=\"sk-toggleable__control sk-hidden--visually\" id=\"sk-estimator-id-2\" type=\"checkbox\" ><label for=\"sk-estimator-id-2\" class=\"sk-toggleable__label sk-toggleable__label-arrow\">StandardScaler</label><div class=\"sk-toggleable__content\"><pre>StandardScaler()</pre></div></div></div><div class=\"sk-item\"><div class=\"sk-estimator sk-toggleable\"><input class=\"sk-toggleable__control sk-hidden--visually\" id=\"sk-estimator-id-3\" type=\"checkbox\" ><label for=\"sk-estimator-id-3\" class=\"sk-toggleable__label sk-toggleable__label-arrow\">LogisticRegression</label><div class=\"sk-toggleable__content\"><pre>LogisticRegression(C=0.1)</pre></div></div></div></div></div></div></div>"
      ],
      "text/plain": [
       "Pipeline(steps=[('scale', StandardScaler()),\n",
       "                ('model', LogisticRegression(C=0.1))])"
      ]
     },
     "execution_count": 34,
     "metadata": {},
     "output_type": "execute_result"
    }
   ],
   "source": [
    "model.fit(X_train, y_train.values.ravel())"
   ]
  },
  {
   "cell_type": "code",
   "execution_count": 35,
   "id": "6e15e313",
   "metadata": {
    "execution": {
     "iopub.execute_input": "2025-08-19T18:32:13.388581Z",
     "iopub.status.busy": "2025-08-19T18:32:13.388104Z",
     "iopub.status.idle": "2025-08-19T18:32:13.572382Z",
     "shell.execute_reply": "2025-08-19T18:32:13.571620Z"
    },
    "papermill": {
     "duration": 0.198635,
     "end_time": "2025-08-19T18:32:13.573794",
     "exception": false,
     "start_time": "2025-08-19T18:32:13.375159",
     "status": "completed"
    },
    "tags": []
   },
   "outputs": [
    {
     "data": {
      "text/plain": [
       "0.8579422583881395"
      ]
     },
     "execution_count": 35,
     "metadata": {},
     "output_type": "execute_result"
    }
   ],
   "source": [
    "from fairness_multiverse.universe import predict_w_threshold\n",
    "\n",
    "probs_test = model.predict_proba(X_test)\n",
    "\n",
    "'''\n",
    "Below code returns a boolean array (or binary 0/1 array depending on how it’s used) where each element \n",
    "is True if the probability of class 1 is greater than or equal to the threshold, and False otherwise.\n",
    "'''\n",
    "y_pred_default = predict_w_threshold(probs_test, 0.5)\n",
    "\n",
    "from sklearn.metrics import accuracy_score\n",
    "\n",
    "# Naive prediction\n",
    "accuracy_score(y_true = y_true, y_pred = y_pred_default)"
   ]
  },
  {
   "cell_type": "code",
   "execution_count": 36,
   "id": "6f14067c",
   "metadata": {
    "execution": {
     "iopub.execute_input": "2025-08-19T18:32:13.599756Z",
     "iopub.status.busy": "2025-08-19T18:32:13.599273Z",
     "iopub.status.idle": "2025-08-19T18:32:13.775327Z",
     "shell.execute_reply": "2025-08-19T18:32:13.774510Z"
    },
    "papermill": {
     "duration": 0.189833,
     "end_time": "2025-08-19T18:32:13.776687",
     "exception": false,
     "start_time": "2025-08-19T18:32:13.586854",
     "status": "completed"
    },
    "tags": []
   },
   "outputs": [
    {
     "data": {
      "text/plain": [
       "array([0, 0, 0, ..., 0, 0, 0])"
      ]
     },
     "execution_count": 36,
     "metadata": {},
     "output_type": "execute_result"
    }
   ],
   "source": [
    "model.predict(X_test)"
   ]
  },
  {
   "cell_type": "markdown",
   "id": "3759920c",
   "metadata": {
    "papermill": {
     "duration": 0.011215,
     "end_time": "2025-08-19T18:32:13.799203",
     "exception": false,
     "start_time": "2025-08-19T18:32:13.787988",
     "status": "completed"
    },
    "tags": []
   },
   "source": [
    "# Conformal Prediction"
   ]
  },
  {
   "cell_type": "code",
   "execution_count": 37,
   "id": "14b27f59",
   "metadata": {
    "execution": {
     "iopub.execute_input": "2025-08-19T18:32:13.823211Z",
     "iopub.status.busy": "2025-08-19T18:32:13.822842Z",
     "iopub.status.idle": "2025-08-19T18:32:13.828101Z",
     "shell.execute_reply": "2025-08-19T18:32:13.827259Z"
    },
    "papermill": {
     "duration": 0.018792,
     "end_time": "2025-08-19T18:32:13.829256",
     "exception": false,
     "start_time": "2025-08-19T18:32:13.810464",
     "status": "completed"
    },
    "tags": []
   },
   "outputs": [],
   "source": [
    "# Miscoverage level for conformal prediction (10% allowed error rate => 90% target coverage)\n",
    "alpha = 0.1"
   ]
  },
  {
   "cell_type": "code",
   "execution_count": 38,
   "id": "59102472",
   "metadata": {
    "execution": {
     "iopub.execute_input": "2025-08-19T18:32:13.852396Z",
     "iopub.status.busy": "2025-08-19T18:32:13.852094Z",
     "iopub.status.idle": "2025-08-19T18:32:14.090242Z",
     "shell.execute_reply": "2025-08-19T18:32:14.087516Z"
    },
    "papermill": {
     "duration": 0.253122,
     "end_time": "2025-08-19T18:32:14.093372",
     "exception": false,
     "start_time": "2025-08-19T18:32:13.840250",
     "status": "completed"
    },
    "tags": []
   },
   "outputs": [],
   "source": [
    "probs_calib = model.predict_proba(X_calib)"
   ]
  },
  {
   "cell_type": "code",
   "execution_count": 39,
   "id": "a792d4dd",
   "metadata": {
    "execution": {
     "iopub.execute_input": "2025-08-19T18:32:14.117442Z",
     "iopub.status.busy": "2025-08-19T18:32:14.116887Z",
     "iopub.status.idle": "2025-08-19T18:32:14.122196Z",
     "shell.execute_reply": "2025-08-19T18:32:14.121399Z"
    },
    "papermill": {
     "duration": 0.023175,
     "end_time": "2025-08-19T18:32:14.127954",
     "exception": false,
     "start_time": "2025-08-19T18:32:14.104779",
     "status": "completed"
    },
    "tags": []
   },
   "outputs": [],
   "source": [
    "y_calib = y_calib.values.ravel().astype(int)"
   ]
  },
  {
   "cell_type": "code",
   "execution_count": 40,
   "id": "650fd033",
   "metadata": {
    "execution": {
     "iopub.execute_input": "2025-08-19T18:32:14.171361Z",
     "iopub.status.busy": "2025-08-19T18:32:14.170307Z",
     "iopub.status.idle": "2025-08-19T18:32:14.183749Z",
     "shell.execute_reply": "2025-08-19T18:32:14.182552Z"
    },
    "papermill": {
     "duration": 0.028105,
     "end_time": "2025-08-19T18:32:14.185332",
     "exception": false,
     "start_time": "2025-08-19T18:32:14.157227",
     "status": "completed"
    },
    "tags": []
   },
   "outputs": [],
   "source": [
    "from fairness_multiverse.conformal import compute_nc_scores\n",
    "\n",
    "# Compute nonconformity scores on calibration set (1 - probability of true class)\n",
    "nc_scores = compute_nc_scores(probs_calib, y_calib)"
   ]
  },
  {
   "cell_type": "code",
   "execution_count": 41,
   "id": "28ada44c",
   "metadata": {
    "execution": {
     "iopub.execute_input": "2025-08-19T18:32:14.216722Z",
     "iopub.status.busy": "2025-08-19T18:32:14.215995Z",
     "iopub.status.idle": "2025-08-19T18:32:14.222564Z",
     "shell.execute_reply": "2025-08-19T18:32:14.221797Z"
    },
    "papermill": {
     "duration": 0.020967,
     "end_time": "2025-08-19T18:32:14.223601",
     "exception": false,
     "start_time": "2025-08-19T18:32:14.202634",
     "status": "completed"
    },
    "tags": []
   },
   "outputs": [],
   "source": [
    "from fairness_multiverse.conformal import find_threshold\n",
    "\n",
    "# Find conformal threshold q_hat for the given alpha (split conformal method)\n",
    "q_hat = find_threshold(nc_scores, alpha)"
   ]
  },
  {
   "cell_type": "code",
   "execution_count": 42,
   "id": "df56469e",
   "metadata": {
    "execution": {
     "iopub.execute_input": "2025-08-19T18:32:14.251159Z",
     "iopub.status.busy": "2025-08-19T18:32:14.250364Z",
     "iopub.status.idle": "2025-08-19T18:32:14.270209Z",
     "shell.execute_reply": "2025-08-19T18:32:14.269394Z"
    },
    "papermill": {
     "duration": 0.037122,
     "end_time": "2025-08-19T18:32:14.271919",
     "exception": false,
     "start_time": "2025-08-19T18:32:14.234797",
     "status": "completed"
    },
    "tags": []
   },
   "outputs": [
    {
     "data": {
      "text/plain": [
       "0.6834320104129529"
      ]
     },
     "execution_count": 42,
     "metadata": {},
     "output_type": "execute_result"
    }
   ],
   "source": [
    "q_hat"
   ]
  },
  {
   "cell_type": "code",
   "execution_count": 43,
   "id": "aa1f5faa",
   "metadata": {
    "execution": {
     "iopub.execute_input": "2025-08-19T18:32:14.305518Z",
     "iopub.status.busy": "2025-08-19T18:32:14.305046Z",
     "iopub.status.idle": "2025-08-19T18:32:14.971031Z",
     "shell.execute_reply": "2025-08-19T18:32:14.969557Z"
    },
    "papermill": {
     "duration": 0.680844,
     "end_time": "2025-08-19T18:32:14.973042",
     "exception": false,
     "start_time": "2025-08-19T18:32:14.292198",
     "status": "completed"
    },
    "tags": []
   },
   "outputs": [],
   "source": [
    "from fairness_multiverse.conformal import predict_conformal_sets\n",
    "\n",
    "# Generate prediction sets for each test example\n",
    "pred_sets = predict_conformal_sets(model, X_test, q_hat)"
   ]
  },
  {
   "cell_type": "code",
   "execution_count": 44,
   "id": "97f67a6b",
   "metadata": {
    "execution": {
     "iopub.execute_input": "2025-08-19T18:32:15.003829Z",
     "iopub.status.busy": "2025-08-19T18:32:15.003430Z",
     "iopub.status.idle": "2025-08-19T18:32:15.008784Z",
     "shell.execute_reply": "2025-08-19T18:32:15.008115Z"
    },
    "papermill": {
     "duration": 0.026366,
     "end_time": "2025-08-19T18:32:15.011686",
     "exception": false,
     "start_time": "2025-08-19T18:32:14.985320",
     "status": "completed"
    },
    "tags": []
   },
   "outputs": [],
   "source": [
    "y_true = y_true.squeeze()"
   ]
  },
  {
   "cell_type": "code",
   "execution_count": 45,
   "id": "e700e9a7",
   "metadata": {
    "execution": {
     "iopub.execute_input": "2025-08-19T18:32:15.040824Z",
     "iopub.status.busy": "2025-08-19T18:32:15.040504Z",
     "iopub.status.idle": "2025-08-19T18:32:15.552586Z",
     "shell.execute_reply": "2025-08-19T18:32:15.551311Z"
    },
    "papermill": {
     "duration": 0.526744,
     "end_time": "2025-08-19T18:32:15.554179",
     "exception": false,
     "start_time": "2025-08-19T18:32:15.027435",
     "status": "completed"
    },
    "tags": []
   },
   "outputs": [],
   "source": [
    "from fairness_multiverse.conformal import evaluate_sets\n",
    "\n",
    "# Evaluate coverage and average set size on test data\n",
    "metrics = evaluate_sets(pred_sets, y_true)"
   ]
  },
  {
   "cell_type": "markdown",
   "id": "efbacec0",
   "metadata": {
    "papermill": {
     "duration": 0.011271,
     "end_time": "2025-08-19T18:32:15.577342",
     "exception": false,
     "start_time": "2025-08-19T18:32:15.566071",
     "status": "completed"
    },
    "tags": []
   },
   "source": [
    "# CP Metrics"
   ]
  },
  {
   "cell_type": "code",
   "execution_count": 46,
   "id": "9de55fb1",
   "metadata": {
    "execution": {
     "iopub.execute_input": "2025-08-19T18:32:15.604285Z",
     "iopub.status.busy": "2025-08-19T18:32:15.602553Z",
     "iopub.status.idle": "2025-08-19T18:32:15.617836Z",
     "shell.execute_reply": "2025-08-19T18:32:15.616383Z"
    },
    "papermill": {
     "duration": 0.030399,
     "end_time": "2025-08-19T18:32:15.619200",
     "exception": false,
     "start_time": "2025-08-19T18:32:15.588801",
     "status": "completed"
    },
    "tags": []
   },
   "outputs": [
    {
     "data": {
      "text/plain": [
       "{'coverage': 0.9107457362612864, 'avg_size': 1.1346449671162635}"
      ]
     },
     "execution_count": 46,
     "metadata": {},
     "output_type": "execute_result"
    }
   ],
   "source": [
    "metrics"
   ]
  },
  {
   "cell_type": "code",
   "execution_count": 47,
   "id": "64c340a1",
   "metadata": {
    "execution": {
     "iopub.execute_input": "2025-08-19T18:32:15.657908Z",
     "iopub.status.busy": "2025-08-19T18:32:15.657241Z",
     "iopub.status.idle": "2025-08-19T18:32:15.684739Z",
     "shell.execute_reply": "2025-08-19T18:32:15.684098Z"
    },
    "papermill": {
     "duration": 0.048898,
     "end_time": "2025-08-19T18:32:15.687262",
     "exception": false,
     "start_time": "2025-08-19T18:32:15.638364",
     "status": "completed"
    },
    "tags": []
   },
   "outputs": [],
   "source": [
    "example_universe = universe.copy()\n",
    "universe_training_year = example_universe.get(\"training_year\")\n",
    "universe_training_size = example_universe.get(\"training_size\")\n",
    "universe_scale = example_universe.get(\"scale\")\n",
    "universe_model = example_universe.get(\"model\")\n",
    "universe_exclude_features = example_universe.get(\"exclude_features\")\n",
    "universe_exclude_subgroups = example_universe.get(\"exclude_subgroups\")"
   ]
  },
  {
   "cell_type": "code",
   "execution_count": 48,
   "id": "dbb53cb4",
   "metadata": {
    "execution": {
     "iopub.execute_input": "2025-08-19T18:32:15.726639Z",
     "iopub.status.busy": "2025-08-19T18:32:15.725698Z",
     "iopub.status.idle": "2025-08-19T18:32:15.736648Z",
     "shell.execute_reply": "2025-08-19T18:32:15.734946Z"
    },
    "papermill": {
     "duration": 0.027578,
     "end_time": "2025-08-19T18:32:15.740008",
     "exception": false,
     "start_time": "2025-08-19T18:32:15.712430",
     "status": "completed"
    },
    "tags": []
   },
   "outputs": [],
   "source": [
    "cp_metrics_dict = {\n",
    "    \"universe_id\": [universe_id],\n",
    "    \"universe_training_year\": [universe_training_year],\n",
    "    \"universe_training_size\": [universe_training_size],\n",
    "    \"universe_scale\": [universe_scale],\n",
    "    \"universe_model\": [universe_model],\n",
    "    \"universe_exclude_features\": [universe_exclude_features],\n",
    "    \"universe_exclude_subgroups\": [universe_exclude_subgroups],\n",
    "    \"q_hat\": [q_hat],\n",
    "    \"coverage\": [metrics[\"coverage\"]],\n",
    "    \"avg_size\": [metrics[\"avg_size\"]],\n",
    "}"
   ]
  },
  {
   "cell_type": "code",
   "execution_count": 49,
   "id": "0d70d4b2",
   "metadata": {
    "execution": {
     "iopub.execute_input": "2025-08-19T18:32:15.770163Z",
     "iopub.status.busy": "2025-08-19T18:32:15.769074Z",
     "iopub.status.idle": "2025-08-19T18:32:15.781517Z",
     "shell.execute_reply": "2025-08-19T18:32:15.780263Z"
    },
    "papermill": {
     "duration": 0.027425,
     "end_time": "2025-08-19T18:32:15.782967",
     "exception": false,
     "start_time": "2025-08-19T18:32:15.755542",
     "status": "completed"
    },
    "tags": []
   },
   "outputs": [],
   "source": [
    "cp_metrics_df = pd.DataFrame(cp_metrics_dict)"
   ]
  },
  {
   "cell_type": "code",
   "execution_count": 50,
   "id": "b494403c",
   "metadata": {
    "execution": {
     "iopub.execute_input": "2025-08-19T18:32:15.821350Z",
     "iopub.status.busy": "2025-08-19T18:32:15.815595Z",
     "iopub.status.idle": "2025-08-19T18:32:15.841307Z",
     "shell.execute_reply": "2025-08-19T18:32:15.840542Z"
    },
    "papermill": {
     "duration": 0.042767,
     "end_time": "2025-08-19T18:32:15.842897",
     "exception": false,
     "start_time": "2025-08-19T18:32:15.800130",
     "status": "completed"
    },
    "tags": []
   },
   "outputs": [
    {
     "data": {
      "text/html": [
       "<div>\n",
       "<style scoped>\n",
       "    .dataframe tbody tr th:only-of-type {\n",
       "        vertical-align: middle;\n",
       "    }\n",
       "\n",
       "    .dataframe tbody tr th {\n",
       "        vertical-align: top;\n",
       "    }\n",
       "\n",
       "    .dataframe thead th {\n",
       "        text-align: right;\n",
       "    }\n",
       "</style>\n",
       "<table border=\"1\" class=\"dataframe\">\n",
       "  <thead>\n",
       "    <tr style=\"text-align: right;\">\n",
       "      <th></th>\n",
       "      <th>universe_id</th>\n",
       "      <th>universe_training_year</th>\n",
       "      <th>universe_training_size</th>\n",
       "      <th>universe_scale</th>\n",
       "      <th>universe_model</th>\n",
       "      <th>universe_exclude_features</th>\n",
       "      <th>universe_exclude_subgroups</th>\n",
       "      <th>q_hat</th>\n",
       "      <th>coverage</th>\n",
       "      <th>avg_size</th>\n",
       "    </tr>\n",
       "  </thead>\n",
       "  <tbody>\n",
       "    <tr>\n",
       "      <th>0</th>\n",
       "      <td>0184082ed2e7a5f3d99fa32da2319083</td>\n",
       "      <td>2012_14</td>\n",
       "      <td>5k</td>\n",
       "      <td>scale</td>\n",
       "      <td>penalized_logreg</td>\n",
       "      <td>nationality-sex</td>\n",
       "      <td>keep-all</td>\n",
       "      <td>0.683432</td>\n",
       "      <td>0.910746</td>\n",
       "      <td>1.134645</td>\n",
       "    </tr>\n",
       "  </tbody>\n",
       "</table>\n",
       "</div>"
      ],
      "text/plain": [
       "                        universe_id universe_training_year  \\\n",
       "0  0184082ed2e7a5f3d99fa32da2319083                2012_14   \n",
       "\n",
       "  universe_training_size universe_scale    universe_model  \\\n",
       "0                     5k          scale  penalized_logreg   \n",
       "\n",
       "  universe_exclude_features universe_exclude_subgroups     q_hat  coverage  \\\n",
       "0           nationality-sex                   keep-all  0.683432  0.910746   \n",
       "\n",
       "   avg_size  \n",
       "0  1.134645  "
      ]
     },
     "execution_count": 50,
     "metadata": {},
     "output_type": "execute_result"
    }
   ],
   "source": [
    "cp_metrics_df"
   ]
  },
  {
   "cell_type": "markdown",
   "id": "ed608b0b",
   "metadata": {
    "papermill": {
     "duration": 0.012822,
     "end_time": "2025-08-19T18:32:15.878383",
     "exception": false,
     "start_time": "2025-08-19T18:32:15.865561",
     "status": "completed"
    },
    "tags": []
   },
   "source": [
    "Conditional coverage & looking at subgroups"
   ]
  },
  {
   "cell_type": "code",
   "execution_count": 51,
   "id": "8968c366",
   "metadata": {
    "execution": {
     "iopub.execute_input": "2025-08-19T18:32:15.907560Z",
     "iopub.status.busy": "2025-08-19T18:32:15.907261Z",
     "iopub.status.idle": "2025-08-19T18:32:16.177049Z",
     "shell.execute_reply": "2025-08-19T18:32:16.176222Z"
    },
    "papermill": {
     "duration": 0.286182,
     "end_time": "2025-08-19T18:32:16.179376",
     "exception": false,
     "start_time": "2025-08-19T18:32:15.893194",
     "status": "completed"
    },
    "tags": []
   },
   "outputs": [],
   "source": [
    "from fairness_multiverse.conformal import build_cp_groups\n",
    "\n",
    "cp_groups_df = build_cp_groups(pred_sets, y_true, X_test.index, org_test)"
   ]
  },
  {
   "cell_type": "code",
   "execution_count": 52,
   "id": "292ddabf",
   "metadata": {
    "execution": {
     "iopub.execute_input": "2025-08-19T18:32:16.214211Z",
     "iopub.status.busy": "2025-08-19T18:32:16.213562Z",
     "iopub.status.idle": "2025-08-19T18:32:17.113972Z",
     "shell.execute_reply": "2025-08-19T18:32:17.112648Z"
    },
    "papermill": {
     "duration": 0.916954,
     "end_time": "2025-08-19T18:32:17.115902",
     "exception": false,
     "start_time": "2025-08-19T18:32:16.198948",
     "status": "completed"
    },
    "tags": []
   },
   "outputs": [],
   "source": [
    "# Define covered = 1 if true_label is in the predicted set\n",
    "cp_groups_df['covered'] = cp_groups_df.apply(\n",
    "    lambda r: int(r['true_label'] in r['pred_set']),\n",
    "    axis=1\n",
    ")"
   ]
  },
  {
   "cell_type": "code",
   "execution_count": 53,
   "id": "3a261692",
   "metadata": {
    "execution": {
     "iopub.execute_input": "2025-08-19T18:32:17.142965Z",
     "iopub.status.busy": "2025-08-19T18:32:17.142644Z",
     "iopub.status.idle": "2025-08-19T18:32:17.155588Z",
     "shell.execute_reply": "2025-08-19T18:32:17.154572Z"
    },
    "papermill": {
     "duration": 0.038863,
     "end_time": "2025-08-19T18:32:17.168336",
     "exception": false,
     "start_time": "2025-08-19T18:32:17.129473",
     "status": "completed"
    },
    "tags": []
   },
   "outputs": [],
   "source": [
    "subgroups = ['frau1','nongerman','nongerman_male','nongerman_female']\n",
    "\n",
    "# Conditional coverage for subgroup==1\n",
    "cond_coverage = {\n",
    "    g: cp_groups_df.loc[cp_groups_df[g]==1, 'covered'].mean()\n",
    "    for g in subgroups\n",
    "}"
   ]
  },
  {
   "cell_type": "code",
   "execution_count": 54,
   "id": "894fd600",
   "metadata": {
    "execution": {
     "iopub.execute_input": "2025-08-19T18:32:17.194978Z",
     "iopub.status.busy": "2025-08-19T18:32:17.194410Z",
     "iopub.status.idle": "2025-08-19T18:32:17.202941Z",
     "shell.execute_reply": "2025-08-19T18:32:17.201823Z"
    },
    "papermill": {
     "duration": 0.023089,
     "end_time": "2025-08-19T18:32:17.204512",
     "exception": false,
     "start_time": "2025-08-19T18:32:17.181423",
     "status": "completed"
    },
    "tags": []
   },
   "outputs": [
    {
     "data": {
      "text/plain": [
       "{'frau1': 0.907912117536056,\n",
       " 'nongerman': 0.9102902374670184,\n",
       " 'nongerman_male': 0.9267765468792218,\n",
       " 'nongerman_female': 0.88301043219076}"
      ]
     },
     "execution_count": 54,
     "metadata": {},
     "output_type": "execute_result"
    }
   ],
   "source": [
    "cond_coverage"
   ]
  },
  {
   "cell_type": "code",
   "execution_count": 55,
   "id": "942895c7",
   "metadata": {
    "execution": {
     "iopub.execute_input": "2025-08-19T18:32:17.232560Z",
     "iopub.status.busy": "2025-08-19T18:32:17.231850Z",
     "iopub.status.idle": "2025-08-19T18:32:17.243748Z",
     "shell.execute_reply": "2025-08-19T18:32:17.242081Z"
    },
    "papermill": {
     "duration": 0.02664,
     "end_time": "2025-08-19T18:32:17.245488",
     "exception": false,
     "start_time": "2025-08-19T18:32:17.218848",
     "status": "completed"
    },
    "tags": []
   },
   "outputs": [],
   "source": [
    "for subgroup, cov in cond_coverage.items():\n",
    "    cp_metrics_df[f\"cov_{subgroup}\"] = cov"
   ]
  },
  {
   "cell_type": "code",
   "execution_count": 56,
   "id": "3970120f",
   "metadata": {
    "execution": {
     "iopub.execute_input": "2025-08-19T18:32:17.284579Z",
     "iopub.status.busy": "2025-08-19T18:32:17.283328Z",
     "iopub.status.idle": "2025-08-19T18:32:17.309332Z",
     "shell.execute_reply": "2025-08-19T18:32:17.308520Z"
    },
    "papermill": {
     "duration": 0.042148,
     "end_time": "2025-08-19T18:32:17.312126",
     "exception": false,
     "start_time": "2025-08-19T18:32:17.269978",
     "status": "completed"
    },
    "tags": []
   },
   "outputs": [
    {
     "data": {
      "text/html": [
       "<div>\n",
       "<style scoped>\n",
       "    .dataframe tbody tr th:only-of-type {\n",
       "        vertical-align: middle;\n",
       "    }\n",
       "\n",
       "    .dataframe tbody tr th {\n",
       "        vertical-align: top;\n",
       "    }\n",
       "\n",
       "    .dataframe thead th {\n",
       "        text-align: right;\n",
       "    }\n",
       "</style>\n",
       "<table border=\"1\" class=\"dataframe\">\n",
       "  <thead>\n",
       "    <tr style=\"text-align: right;\">\n",
       "      <th></th>\n",
       "      <th>universe_id</th>\n",
       "      <th>universe_training_year</th>\n",
       "      <th>universe_training_size</th>\n",
       "      <th>universe_scale</th>\n",
       "      <th>universe_model</th>\n",
       "      <th>universe_exclude_features</th>\n",
       "      <th>universe_exclude_subgroups</th>\n",
       "      <th>q_hat</th>\n",
       "      <th>coverage</th>\n",
       "      <th>avg_size</th>\n",
       "      <th>cov_frau1</th>\n",
       "      <th>cov_nongerman</th>\n",
       "      <th>cov_nongerman_male</th>\n",
       "      <th>cov_nongerman_female</th>\n",
       "    </tr>\n",
       "  </thead>\n",
       "  <tbody>\n",
       "    <tr>\n",
       "      <th>0</th>\n",
       "      <td>0184082ed2e7a5f3d99fa32da2319083</td>\n",
       "      <td>2012_14</td>\n",
       "      <td>5k</td>\n",
       "      <td>scale</td>\n",
       "      <td>penalized_logreg</td>\n",
       "      <td>nationality-sex</td>\n",
       "      <td>keep-all</td>\n",
       "      <td>0.683432</td>\n",
       "      <td>0.910746</td>\n",
       "      <td>1.134645</td>\n",
       "      <td>0.907912</td>\n",
       "      <td>0.91029</td>\n",
       "      <td>0.926777</td>\n",
       "      <td>0.88301</td>\n",
       "    </tr>\n",
       "  </tbody>\n",
       "</table>\n",
       "</div>"
      ],
      "text/plain": [
       "                        universe_id universe_training_year  \\\n",
       "0  0184082ed2e7a5f3d99fa32da2319083                2012_14   \n",
       "\n",
       "  universe_training_size universe_scale    universe_model  \\\n",
       "0                     5k          scale  penalized_logreg   \n",
       "\n",
       "  universe_exclude_features universe_exclude_subgroups     q_hat  coverage  \\\n",
       "0           nationality-sex                   keep-all  0.683432  0.910746   \n",
       "\n",
       "   avg_size  cov_frau1  cov_nongerman  cov_nongerman_male  \\\n",
       "0  1.134645   0.907912        0.91029            0.926777   \n",
       "\n",
       "   cov_nongerman_female  \n",
       "0               0.88301  "
      ]
     },
     "execution_count": 56,
     "metadata": {},
     "output_type": "execute_result"
    }
   ],
   "source": [
    "cp_metrics_df"
   ]
  },
  {
   "cell_type": "markdown",
   "id": "3fc519cc",
   "metadata": {
    "papermill": {
     "duration": 0.012119,
     "end_time": "2025-08-19T18:32:17.363262",
     "exception": false,
     "start_time": "2025-08-19T18:32:17.351143",
     "status": "completed"
    },
    "tags": []
   },
   "source": [
    "# (Fairness) Metrics"
   ]
  },
  {
   "cell_type": "code",
   "execution_count": 57,
   "id": "a2e5e155",
   "metadata": {
    "execution": {
     "iopub.execute_input": "2025-08-19T18:32:17.390162Z",
     "iopub.status.busy": "2025-08-19T18:32:17.389455Z",
     "iopub.status.idle": "2025-08-19T18:32:17.417699Z",
     "shell.execute_reply": "2025-08-19T18:32:17.416683Z"
    },
    "papermill": {
     "duration": 0.043845,
     "end_time": "2025-08-19T18:32:17.419066",
     "exception": false,
     "start_time": "2025-08-19T18:32:17.375221",
     "status": "completed"
    },
    "tags": []
   },
   "outputs": [],
   "source": [
    "colname_to_bin = \"maxdeutsch1\"\n",
    "majority_value = org_train[colname_to_bin].mode()[0]\n",
    "\n",
    "org_test[\"majmin\"] = np.where(org_test[colname_to_bin] == majority_value, \"majority\", \"minority\")"
   ]
  },
  {
   "cell_type": "code",
   "execution_count": 58,
   "id": "17e3e4d5",
   "metadata": {
    "execution": {
     "iopub.execute_input": "2025-08-19T18:32:17.446445Z",
     "iopub.status.busy": "2025-08-19T18:32:17.445596Z",
     "iopub.status.idle": "2025-08-19T18:32:19.162869Z",
     "shell.execute_reply": "2025-08-19T18:32:19.159664Z"
    },
    "papermill": {
     "duration": 1.733631,
     "end_time": "2025-08-19T18:32:19.165117",
     "exception": false,
     "start_time": "2025-08-19T18:32:17.431486",
     "status": "completed"
    },
    "tags": []
   },
   "outputs": [],
   "source": [
    "example_universe = universe.copy()\n",
    "example_universe[\"cutoff\"] = example_universe[\"cutoff\"][0]\n",
    "example_universe[\"eval_fairness_grouping\"] = example_universe[\"eval_fairness_grouping\"][0]\n",
    "fairness_dict, metric_frame = universe_analysis.compute_metrics(\n",
    "    example_universe,\n",
    "    y_pred_prob=probs_test,\n",
    "    y_test=y_true,\n",
    "    org_test=org_test,\n",
    ")"
   ]
  },
  {
   "cell_type": "markdown",
   "id": "1fb7a0e9",
   "metadata": {
    "papermill": {
     "duration": 0.0327,
     "end_time": "2025-08-19T18:32:19.221196",
     "exception": false,
     "start_time": "2025-08-19T18:32:19.188496",
     "status": "completed"
    },
    "tags": []
   },
   "source": [
    "# Overall"
   ]
  },
  {
   "cell_type": "markdown",
   "id": "be1784b1",
   "metadata": {
    "papermill": {
     "duration": 0.028164,
     "end_time": "2025-08-19T18:32:19.277199",
     "exception": false,
     "start_time": "2025-08-19T18:32:19.249035",
     "status": "completed"
    },
    "tags": []
   },
   "source": [
    "Main fairness target: Equalized Odds. Seems to be a better fit than equal opportunity, since we're not only interested in Y = 1. Seems to be a better fit than demographic parity, since we also care about accuracy, not just equal distribution of preds.\n",
    "\n",
    "Pick column for computation of fairness metrics\n",
    "\n",
    "Performance\n",
    "Overall performance measures, most interesting in relation to the measures split by group below"
   ]
  },
  {
   "cell_type": "code",
   "execution_count": 59,
   "id": "b7672bee",
   "metadata": {
    "execution": {
     "iopub.execute_input": "2025-08-19T18:32:19.334996Z",
     "iopub.status.busy": "2025-08-19T18:32:19.333640Z",
     "iopub.status.idle": "2025-08-19T18:32:19.350697Z",
     "shell.execute_reply": "2025-08-19T18:32:19.349636Z"
    },
    "papermill": {
     "duration": 0.047149,
     "end_time": "2025-08-19T18:32:19.352163",
     "exception": false,
     "start_time": "2025-08-19T18:32:19.305014",
     "status": "completed"
    },
    "tags": []
   },
   "outputs": [
    {
     "data": {
      "text/plain": [
       "accuracy                   0.223977\n",
       "balanced accuracy          0.547738\n",
       "f1                         0.245320\n",
       "precision                  0.140143\n",
       "false positive rate        0.887752\n",
       "false negative rate        0.016771\n",
       "selection rate             0.900000\n",
       "count                  89710.000000\n",
       "dtype: float64"
      ]
     },
     "execution_count": 59,
     "metadata": {},
     "output_type": "execute_result"
    }
   ],
   "source": [
    "metric_frame.overall"
   ]
  },
  {
   "cell_type": "markdown",
   "id": "d93333c9",
   "metadata": {
    "papermill": {
     "duration": 0.019555,
     "end_time": "2025-08-19T18:32:19.401411",
     "exception": false,
     "start_time": "2025-08-19T18:32:19.381856",
     "status": "completed"
    },
    "tags": []
   },
   "source": [
    "By Group"
   ]
  },
  {
   "cell_type": "code",
   "execution_count": 60,
   "id": "52256966",
   "metadata": {
    "execution": {
     "iopub.execute_input": "2025-08-19T18:32:19.481045Z",
     "iopub.status.busy": "2025-08-19T18:32:19.478951Z",
     "iopub.status.idle": "2025-08-19T18:32:19.501432Z",
     "shell.execute_reply": "2025-08-19T18:32:19.500671Z"
    },
    "papermill": {
     "duration": 0.066515,
     "end_time": "2025-08-19T18:32:19.502709",
     "exception": false,
     "start_time": "2025-08-19T18:32:19.436194",
     "status": "completed"
    },
    "tags": []
   },
   "outputs": [
    {
     "data": {
      "text/html": [
       "<div>\n",
       "<style scoped>\n",
       "    .dataframe tbody tr th:only-of-type {\n",
       "        vertical-align: middle;\n",
       "    }\n",
       "\n",
       "    .dataframe tbody tr th {\n",
       "        vertical-align: top;\n",
       "    }\n",
       "\n",
       "    .dataframe thead th {\n",
       "        text-align: right;\n",
       "    }\n",
       "</style>\n",
       "<table border=\"1\" class=\"dataframe\">\n",
       "  <thead>\n",
       "    <tr style=\"text-align: right;\">\n",
       "      <th></th>\n",
       "      <th>accuracy</th>\n",
       "      <th>balanced accuracy</th>\n",
       "      <th>f1</th>\n",
       "      <th>precision</th>\n",
       "      <th>false positive rate</th>\n",
       "      <th>false negative rate</th>\n",
       "      <th>selection rate</th>\n",
       "      <th>count</th>\n",
       "    </tr>\n",
       "    <tr>\n",
       "      <th>majmin</th>\n",
       "      <th></th>\n",
       "      <th></th>\n",
       "      <th></th>\n",
       "      <th></th>\n",
       "      <th></th>\n",
       "      <th></th>\n",
       "      <th></th>\n",
       "      <th></th>\n",
       "    </tr>\n",
       "  </thead>\n",
       "  <tbody>\n",
       "    <tr>\n",
       "      <th>majority</th>\n",
       "      <td>0.245323</td>\n",
       "      <td>0.557418</td>\n",
       "      <td>0.255813</td>\n",
       "      <td>0.147070</td>\n",
       "      <td>0.866783</td>\n",
       "      <td>0.018381</td>\n",
       "      <td>0.881957</td>\n",
       "      <td>69170.0</td>\n",
       "    </tr>\n",
       "    <tr>\n",
       "      <th>minority</th>\n",
       "      <td>0.152093</td>\n",
       "      <td>0.516210</td>\n",
       "      <td>0.212017</td>\n",
       "      <td>0.118729</td>\n",
       "      <td>0.957022</td>\n",
       "      <td>0.010557</td>\n",
       "      <td>0.960759</td>\n",
       "      <td>20540.0</td>\n",
       "    </tr>\n",
       "  </tbody>\n",
       "</table>\n",
       "</div>"
      ],
      "text/plain": [
       "          accuracy  balanced accuracy        f1  precision  \\\n",
       "majmin                                                       \n",
       "majority  0.245323           0.557418  0.255813   0.147070   \n",
       "minority  0.152093           0.516210  0.212017   0.118729   \n",
       "\n",
       "          false positive rate  false negative rate  selection rate    count  \n",
       "majmin                                                                       \n",
       "majority             0.866783             0.018381        0.881957  69170.0  \n",
       "minority             0.957022             0.010557        0.960759  20540.0  "
      ]
     },
     "execution_count": 60,
     "metadata": {},
     "output_type": "execute_result"
    }
   ],
   "source": [
    "metric_frame.by_group"
   ]
  },
  {
   "cell_type": "code",
   "execution_count": 61,
   "id": "6e6c20ae",
   "metadata": {
    "execution": {
     "iopub.execute_input": "2025-08-19T18:32:19.565718Z",
     "iopub.status.busy": "2025-08-19T18:32:19.562931Z",
     "iopub.status.idle": "2025-08-19T18:32:21.334482Z",
     "shell.execute_reply": "2025-08-19T18:32:21.333741Z"
    },
    "papermill": {
     "duration": 1.802119,
     "end_time": "2025-08-19T18:32:21.335915",
     "exception": false,
     "start_time": "2025-08-19T18:32:19.533796",
     "status": "completed"
    },
    "tags": []
   },
   "outputs": [
    {
     "data": {
      "text/plain": [
       "array([[<Axes: title={'center': 'accuracy'}, xlabel='majmin'>,\n",
       "        <Axes: title={'center': 'balanced accuracy'}, xlabel='majmin'>,\n",
       "        <Axes: title={'center': 'f1'}, xlabel='majmin'>],\n",
       "       [<Axes: title={'center': 'precision'}, xlabel='majmin'>,\n",
       "        <Axes: title={'center': 'false positive rate'}, xlabel='majmin'>,\n",
       "        <Axes: title={'center': 'false negative rate'}, xlabel='majmin'>],\n",
       "       [<Axes: title={'center': 'selection rate'}, xlabel='majmin'>,\n",
       "        <Axes: title={'center': 'count'}, xlabel='majmin'>,\n",
       "        <Axes: xlabel='majmin'>]], dtype=object)"
      ]
     },
     "execution_count": 61,
     "metadata": {},
     "output_type": "execute_result"
    },
    {
     "data": {
      "image/png": "[encoded data removed]",
      "text/plain": [
       "<Figure size 1200x800 with 9 Axes>"
      ]
     },
     "metadata": {},
     "output_type": "display_data"
    }
   ],
   "source": [
    "# In a graphic\n",
    "metric_frame.by_group.plot.bar(\n",
    "    subplots=True,\n",
    "    layout=[3, 3],\n",
    "    legend=False,\n",
    "    figsize=[12, 8],\n",
    "    title=\"Show all metrics\",\n",
    ")"
   ]
  },
  {
   "cell_type": "markdown",
   "id": "b2e433ae",
   "metadata": {
    "papermill": {
     "duration": 0.015552,
     "end_time": "2025-08-19T18:32:21.370772",
     "exception": false,
     "start_time": "2025-08-19T18:32:21.355220",
     "status": "completed"
    },
    "tags": []
   },
   "source": [
    "# Final Output"
   ]
  },
  {
   "cell_type": "code",
   "execution_count": 62,
   "id": "3871301e",
   "metadata": {
    "execution": {
     "iopub.execute_input": "2025-08-19T18:32:21.401742Z",
     "iopub.status.busy": "2025-08-19T18:32:21.400073Z",
     "iopub.status.idle": "2025-08-19T18:32:21.416830Z",
     "shell.execute_reply": "2025-08-19T18:32:21.415591Z"
    },
    "papermill": {
     "duration": 0.03394,
     "end_time": "2025-08-19T18:32:21.418291",
     "exception": false,
     "start_time": "2025-08-19T18:32:21.384351",
     "status": "completed"
    },
    "tags": []
   },
   "outputs": [
    {
     "data": {
      "text/plain": [
       "4"
      ]
     },
     "execution_count": 62,
     "metadata": {},
     "output_type": "execute_result"
    }
   ],
   "source": [
    "sub_universes = universe_analysis.generate_sub_universes()\n",
    "len(sub_universes)"
   ]
  },
  {
   "cell_type": "code",
   "execution_count": 63,
   "id": "d9cfdaca",
   "metadata": {
    "execution": {
     "iopub.execute_input": "2025-08-19T18:32:21.456059Z",
     "iopub.status.busy": "2025-08-19T18:32:21.454924Z",
     "iopub.status.idle": "2025-08-19T18:32:21.510572Z",
     "shell.execute_reply": "2025-08-19T18:32:21.508914Z"
    },
    "papermill": {
     "duration": 0.073934,
     "end_time": "2025-08-19T18:32:21.512868",
     "exception": false,
     "start_time": "2025-08-19T18:32:21.438934",
     "status": "completed"
    },
    "tags": []
   },
   "outputs": [],
   "source": [
    "def filter_sub_universe_data(sub_universe, org_test):\n",
    "    # Keep all rows — no filtering\n",
    "    keep_rows_mask = np.ones(org_test.shape[0], dtype=bool)\n",
    "\n",
    "    print(f\"[INFO] Keeping all rows: {keep_rows_mask.sum()} rows retained.\")\n",
    "    return keep_rows_mask"
   ]
  },
  {
   "cell_type": "code",
   "execution_count": 64,
   "id": "2bc31ac1",
   "metadata": {
    "execution": {
     "iopub.execute_input": "2025-08-19T18:32:21.546741Z",
     "iopub.status.busy": "2025-08-19T18:32:21.545663Z",
     "iopub.status.idle": "2025-08-19T18:32:28.327315Z",
     "shell.execute_reply": "2025-08-19T18:32:28.326231Z"
    },
    "papermill": {
     "duration": 6.799694,
     "end_time": "2025-08-19T18:32:28.329131",
     "exception": false,
     "start_time": "2025-08-19T18:32:21.529437",
     "status": "completed"
    },
    "tags": []
   },
   "outputs": [
    {
     "name": "stdout",
     "output_type": "stream",
     "text": [
      "Stopping execution_time clock.\n",
      "[INFO] Keeping all rows: 89710 rows retained.\n"
     ]
    },
    {
     "name": "stdout",
     "output_type": "stream",
     "text": [
      "[INFO] Keeping all rows: 89710 rows retained.\n"
     ]
    },
    {
     "name": "stdout",
     "output_type": "stream",
     "text": [
      "[INFO] Keeping all rows: 89710 rows retained.\n"
     ]
    },
    {
     "name": "stdout",
     "output_type": "stream",
     "text": [
      "[INFO] Keeping all rows: 89710 rows retained.\n"
     ]
    },
    {
     "data": {
      "text/html": [
       "<div>\n",
       "<style scoped>\n",
       "    .dataframe tbody tr th:only-of-type {\n",
       "        vertical-align: middle;\n",
       "    }\n",
       "\n",
       "    .dataframe tbody tr th {\n",
       "        vertical-align: top;\n",
       "    }\n",
       "\n",
       "    .dataframe thead th {\n",
       "        text-align: right;\n",
       "    }\n",
       "</style>\n",
       "<table border=\"1\" class=\"dataframe\">\n",
       "  <thead>\n",
       "    <tr style=\"text-align: right;\">\n",
       "      <th></th>\n",
       "      <th>run_no</th>\n",
       "      <th>universe_id</th>\n",
       "      <th>universe_settings</th>\n",
       "      <th>execution_time</th>\n",
       "      <th>test_size_n</th>\n",
       "      <th>test_size_frac</th>\n",
       "      <th>fair_main_equalized_odds_difference</th>\n",
       "      <th>fair_main_equalized_odds_ratio</th>\n",
       "      <th>fair_main_demographic_parity_difference</th>\n",
       "      <th>fair_main_demographic_parity_ratio</th>\n",
       "      <th>...</th>\n",
       "      <th>perf_grp_precision_0</th>\n",
       "      <th>perf_grp_precision_1</th>\n",
       "      <th>perf_grp_false positive rate_0</th>\n",
       "      <th>perf_grp_false positive rate_1</th>\n",
       "      <th>perf_grp_false negative rate_0</th>\n",
       "      <th>perf_grp_false negative rate_1</th>\n",
       "      <th>perf_grp_selection rate_0</th>\n",
       "      <th>perf_grp_selection rate_1</th>\n",
       "      <th>perf_grp_count_0</th>\n",
       "      <th>perf_grp_count_1</th>\n",
       "    </tr>\n",
       "  </thead>\n",
       "  <tbody>\n",
       "    <tr>\n",
       "      <th>0</th>\n",
       "      <td>3</td>\n",
       "      <td>0184082ed2e7a5f3d99fa32da2319083</td>\n",
       "      <td>{\"cutoff\": \"quantile_0.1\", \"eval_fairness_grou...</td>\n",
       "      <td>21.259572</td>\n",
       "      <td>89710</td>\n",
       "      <td>1.0</td>\n",
       "      <td>0.090239</td>\n",
       "      <td>0.905709</td>\n",
       "      <td>0.078802</td>\n",
       "      <td>0.917979</td>\n",
       "      <td>...</td>\n",
       "      <td>NaN</td>\n",
       "      <td>NaN</td>\n",
       "      <td>NaN</td>\n",
       "      <td>NaN</td>\n",
       "      <td>NaN</td>\n",
       "      <td>NaN</td>\n",
       "      <td>NaN</td>\n",
       "      <td>NaN</td>\n",
       "      <td>NaN</td>\n",
       "      <td>NaN</td>\n",
       "    </tr>\n",
       "    <tr>\n",
       "      <th>0</th>\n",
       "      <td>3</td>\n",
       "      <td>0184082ed2e7a5f3d99fa32da2319083</td>\n",
       "      <td>{\"cutoff\": \"quantile_0.1\", \"eval_fairness_grou...</td>\n",
       "      <td>21.259572</td>\n",
       "      <td>89710</td>\n",
       "      <td>1.0</td>\n",
       "      <td>0.090239</td>\n",
       "      <td>0.905709</td>\n",
       "      <td>0.078802</td>\n",
       "      <td>0.917979</td>\n",
       "      <td>...</td>\n",
       "      <td>0.118729</td>\n",
       "      <td>0.147070</td>\n",
       "      <td>0.957022</td>\n",
       "      <td>0.866783</td>\n",
       "      <td>0.010557</td>\n",
       "      <td>0.018381</td>\n",
       "      <td>0.960759</td>\n",
       "      <td>0.881957</td>\n",
       "      <td>20540.0</td>\n",
       "      <td>69170.0</td>\n",
       "    </tr>\n",
       "    <tr>\n",
       "      <th>0</th>\n",
       "      <td>3</td>\n",
       "      <td>0184082ed2e7a5f3d99fa32da2319083</td>\n",
       "      <td>{\"cutoff\": \"quantile_0.25\", \"eval_fairness_gro...</td>\n",
       "      <td>21.259572</td>\n",
       "      <td>89710</td>\n",
       "      <td>1.0</td>\n",
       "      <td>0.155814</td>\n",
       "      <td>0.814937</td>\n",
       "      <td>0.135701</td>\n",
       "      <td>0.841216</td>\n",
       "      <td>...</td>\n",
       "      <td>NaN</td>\n",
       "      <td>NaN</td>\n",
       "      <td>NaN</td>\n",
       "      <td>NaN</td>\n",
       "      <td>NaN</td>\n",
       "      <td>NaN</td>\n",
       "      <td>NaN</td>\n",
       "      <td>NaN</td>\n",
       "      <td>NaN</td>\n",
       "      <td>NaN</td>\n",
       "    </tr>\n",
       "    <tr>\n",
       "      <th>0</th>\n",
       "      <td>3</td>\n",
       "      <td>0184082ed2e7a5f3d99fa32da2319083</td>\n",
       "      <td>{\"cutoff\": \"quantile_0.25\", \"eval_fairness_gro...</td>\n",
       "      <td>21.259572</td>\n",
       "      <td>89710</td>\n",
       "      <td>1.0</td>\n",
       "      <td>0.155814</td>\n",
       "      <td>0.814937</td>\n",
       "      <td>0.135701</td>\n",
       "      <td>0.841216</td>\n",
       "      <td>...</td>\n",
       "      <td>0.128404</td>\n",
       "      <td>0.171714</td>\n",
       "      <td>0.841955</td>\n",
       "      <td>0.686140</td>\n",
       "      <td>0.048142</td>\n",
       "      <td>0.065755</td>\n",
       "      <td>0.854625</td>\n",
       "      <td>0.718924</td>\n",
       "      <td>20540.0</td>\n",
       "      <td>69170.0</td>\n",
       "    </tr>\n",
       "  </tbody>\n",
       "</table>\n",
       "<p>4 rows × 50 columns</p>\n",
       "</div>"
      ],
      "text/plain": [
       "  run_no                       universe_id  \\\n",
       "0      3  0184082ed2e7a5f3d99fa32da2319083   \n",
       "0      3  0184082ed2e7a5f3d99fa32da2319083   \n",
       "0      3  0184082ed2e7a5f3d99fa32da2319083   \n",
       "0      3  0184082ed2e7a5f3d99fa32da2319083   \n",
       "\n",
       "                                   universe_settings  execution_time  \\\n",
       "0  {\"cutoff\": \"quantile_0.1\", \"eval_fairness_grou...       21.259572   \n",
       "0  {\"cutoff\": \"quantile_0.1\", \"eval_fairness_grou...       21.259572   \n",
       "0  {\"cutoff\": \"quantile_0.25\", \"eval_fairness_gro...       21.259572   \n",
       "0  {\"cutoff\": \"quantile_0.25\", \"eval_fairness_gro...       21.259572   \n",
       "\n",
       "   test_size_n  test_size_frac  fair_main_equalized_odds_difference  \\\n",
       "0        89710             1.0                             0.090239   \n",
       "0        89710             1.0                             0.090239   \n",
       "0        89710             1.0                             0.155814   \n",
       "0        89710             1.0                             0.155814   \n",
       "\n",
       "   fair_main_equalized_odds_ratio  fair_main_demographic_parity_difference  \\\n",
       "0                        0.905709                                 0.078802   \n",
       "0                        0.905709                                 0.078802   \n",
       "0                        0.814937                                 0.135701   \n",
       "0                        0.814937                                 0.135701   \n",
       "\n",
       "   fair_main_demographic_parity_ratio  ...  perf_grp_precision_0  \\\n",
       "0                            0.917979  ...                   NaN   \n",
       "0                            0.917979  ...              0.118729   \n",
       "0                            0.841216  ...                   NaN   \n",
       "0                            0.841216  ...              0.128404   \n",
       "\n",
       "   perf_grp_precision_1  perf_grp_false positive rate_0  \\\n",
       "0                   NaN                             NaN   \n",
       "0              0.147070                        0.957022   \n",
       "0                   NaN                             NaN   \n",
       "0              0.171714                        0.841955   \n",
       "\n",
       "   perf_grp_false positive rate_1  perf_grp_false negative rate_0  \\\n",
       "0                             NaN                             NaN   \n",
       "0                        0.866783                        0.010557   \n",
       "0                             NaN                             NaN   \n",
       "0                        0.686140                        0.048142   \n",
       "\n",
       "   perf_grp_false negative rate_1  perf_grp_selection rate_0  \\\n",
       "0                             NaN                        NaN   \n",
       "0                        0.018381                   0.960759   \n",
       "0                             NaN                        NaN   \n",
       "0                        0.065755                   0.854625   \n",
       "\n",
       "   perf_grp_selection rate_1  perf_grp_count_0  perf_grp_count_1  \n",
       "0                        NaN               NaN               NaN  \n",
       "0                   0.881957           20540.0           69170.0  \n",
       "0                        NaN               NaN               NaN  \n",
       "0                   0.718924           20540.0           69170.0  \n",
       "\n",
       "[4 rows x 50 columns]"
      ]
     },
     "execution_count": 64,
     "metadata": {},
     "output_type": "execute_result"
    }
   ],
   "source": [
    "final_output = universe_analysis.generate_final_output(\n",
    "    y_pred_prob=probs_test,\n",
    "    y_test=y_true,\n",
    "    org_test=org_test,\n",
    "    filter_data=filter_sub_universe_data,\n",
    "    cp_metrics_df=cp_metrics_df,\n",
    "    save=True,\n",
    ")\n",
    "final_output"
   ]
  },
  {
   "cell_type": "code",
   "execution_count": null,
   "id": "8b80a1ff",
   "metadata": {
    "papermill": {
     "duration": 0.016692,
     "end_time": "2025-08-19T18:32:28.372704",
     "exception": false,
     "start_time": "2025-08-19T18:32:28.356012",
     "status": "completed"
    },
    "tags": []
   },
   "outputs": [],
   "source": []
  },
  {
   "cell_type": "code",
   "execution_count": null,
   "id": "275c9fad",
   "metadata": {
    "papermill": {
     "duration": 0.014638,
     "end_time": "2025-08-19T18:32:28.415592",
     "exception": false,
     "start_time": "2025-08-19T18:32:28.400954",
     "status": "completed"
    },
    "tags": []
   },
   "outputs": [],
   "source": []
  }
 ],
 "metadata": {
  "celltoolbar": "Tags",
  "kernelspec": {
   "display_name": "Python (CMA Fairness)",
   "language": "python",
   "name": "cma_fair_env"
  },
  "language_info": {
   "codemirror_mode": {
    "name": "ipython",
    "version": 3
   },
   "file_extension": ".py",
   "mimetype": "text/x-python",
   "name": "python",
   "nbconvert_exporter": "python",
   "pygments_lexer": "ipython3",
   "version": "3.10.12"
  },
  "papermill": {
   "default_parameters": {},
   "duration": 31.760625,
   "end_time": "2025-08-19T18:32:29.257431",
   "environment_variables": {},
   "exception": null,
   "input_path": "universe_analysis.ipynb",
   "output_path": "output/runs/3/notebooks/m_3-0184082ed2e7a5f3d99fa32da2319083.ipynb",
   "parameters": {
    "output_dir": "output",
    "run_no": "3",
    "seed": "2023",
    "universe": "{\"cutoff\": [\"quantile_0.1\", \"quantile_0.25\"], \"eval_fairness_grouping\": [\"majority-minority\", \"nationality-all\"], \"exclude_features\": \"nationality-sex\", \"exclude_subgroups\": \"keep-all\", \"model\": \"penalized_logreg\", \"scale\": \"scale\", \"training_size\": \"5k\", \"training_year\": \"2012_14\"}",
    "universe_id": "0184082ed2e7a5f3d99fa32da2319083"
   },
   "start_time": "2025-08-19T18:31:57.496806",
   "version": "2.6.0"
  }
 },
 "nbformat": 4,
 "nbformat_minor": 5
}