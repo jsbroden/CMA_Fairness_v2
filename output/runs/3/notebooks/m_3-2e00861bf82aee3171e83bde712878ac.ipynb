{
 "cells": [
  {
   "cell_type": "markdown",
   "id": "ef23dbb3",
   "metadata": {
    "papermill": {
     "duration": 0.022051,
     "end_time": "2025-08-19T19:05:21.880920",
     "exception": false,
     "start_time": "2025-08-19T19:05:21.858869",
     "status": "completed"
    },
    "tags": []
   },
   "source": [
    "# Setup"
   ]
  },
  {
   "cell_type": "code",
   "execution_count": 1,
   "id": "0bc8e7dc",
   "metadata": {
    "execution": {
     "iopub.execute_input": "2025-08-19T19:05:21.903969Z",
     "iopub.status.busy": "2025-08-19T19:05:21.903530Z",
     "iopub.status.idle": "2025-08-19T19:05:21.913169Z",
     "shell.execute_reply": "2025-08-19T19:05:21.912453Z"
    },
    "papermill": {
     "duration": 0.024065,
     "end_time": "2025-08-19T19:05:21.917357",
     "exception": false,
     "start_time": "2025-08-19T19:05:21.893292",
     "status": "completed"
    },
    "tags": []
   },
   "outputs": [
    {
     "name": "stdout",
     "output_type": "stream",
     "text": [
      "/dss/dsshome1/0C/ra93lal2/cma/CMA_Fairness_v2\n"
     ]
    },
    {
     "name": "stderr",
     "output_type": "stream",
     "text": [
      "/dss/dsshome1/0C/ra93lal2/.local/share/virtualenvs/CMA_Fairness_v2-3j10GkSs/lib/python3.10/site-packages/IPython/core/magics/osm.py:393: UserWarning: This is now an optional IPython functionality, using bookmarks requires you to install the `pickleshare` library.\n",
      "  bkms = self.shell.db.get('bookmarks', {})\n",
      "/dss/dsshome1/0C/ra93lal2/.local/share/virtualenvs/CMA_Fairness_v2-3j10GkSs/lib/python3.10/site-packages/IPython/core/magics/osm.py:417: UserWarning: This is now an optional IPython functionality, setting dhist requires you to install the `pickleshare` library.\n",
      "  self.shell.db['dhist'] = compress_dhist(dhist)[-100:]\n"
     ]
    }
   ],
   "source": [
    "%cd ~/cma/CMA_Fairness_v2"
   ]
  },
  {
   "cell_type": "markdown",
   "id": "9d235661",
   "metadata": {
    "papermill": {
     "duration": 0.008879,
     "end_time": "2025-08-19T19:05:21.951004",
     "exception": false,
     "start_time": "2025-08-19T19:05:21.942125",
     "status": "completed"
    },
    "tags": []
   },
   "source": [
    "The following cell holds the definition of our parameters, these values can be overriden by rendering the with e.g. the following command:\n",
    "\n",
    "papermill -p alpha 0.2 -p ratio 0.3 universe_analysis.ipynb output/test_run.ipynb"
   ]
  },
  {
   "cell_type": "code",
   "execution_count": 2,
   "id": "4a789d8e",
   "metadata": {
    "execution": {
     "iopub.execute_input": "2025-08-19T19:05:21.971472Z",
     "iopub.status.busy": "2025-08-19T19:05:21.970191Z",
     "iopub.status.idle": "2025-08-19T19:05:21.979566Z",
     "shell.execute_reply": "2025-08-19T19:05:21.978015Z"
    },
    "papermill": {
     "duration": 0.021474,
     "end_time": "2025-08-19T19:05:21.981229",
     "exception": false,
     "start_time": "2025-08-19T19:05:21.959755",
     "status": "completed"
    },
    "tags": []
   },
   "outputs": [
    {
     "name": "stdout",
     "output_type": "stream",
     "text": [
      "Current working directory: /dss/dsshome1/0C/ra93lal2/cma/CMA_Fairness_v2\n"
     ]
    }
   ],
   "source": [
    "import os\n",
    "print(\"Current working directory:\", os.getcwd())"
   ]
  },
  {
   "cell_type": "code",
   "execution_count": 3,
   "id": "4132aaed",
   "metadata": {
    "execution": {
     "iopub.execute_input": "2025-08-19T19:05:22.005479Z",
     "iopub.status.busy": "2025-08-19T19:05:22.004201Z",
     "iopub.status.idle": "2025-08-19T19:05:22.014342Z",
     "shell.execute_reply": "2025-08-19T19:05:22.012952Z"
    },
    "papermill": {
     "duration": 0.022685,
     "end_time": "2025-08-19T19:05:22.016013",
     "exception": false,
     "start_time": "2025-08-19T19:05:21.993328",
     "status": "completed"
    },
    "tags": [
     "parameters"
    ]
   },
   "outputs": [],
   "source": [
    "run_no = 0\n",
    "universe_id = \"test\"\n",
    "universe = {\n",
    "    \"training_size\": \"5k\", # \"25k\", \"5k\", \"1k\"\n",
    "    \"training_year\": \"2012_14\", # \"2014\", \"2012_14\", \"2010_14\"\n",
    "    \"scale\": \"scale\", # \"scale\", \"do-not-scale\",\n",
    "    \"model\": \"elasticnet\", # \"logreg\", \"penalized_logreg\", \"rf\", \"gbm\", \"elasticnet\"\n",
    "    \"cutoff\": [\"quantile_0.15\", \"quantile_0.30\"],\n",
    "    \"exclude_features\": \"age\", # \"none\", \"nationality\", \"sex\", \"nationality-sex\", \"age\"\n",
    "    \"exclude_subgroups\": \"drop-non-german\", # \"keep-all\", \"drop-non-german\"\n",
    "    \"eval_fairness_grouping\": [\"majority-minority\", \"nationality-all\"]\n",
    "}\n",
    "\n",
    "output_dir=\"./output\"\n",
    "seed=0"
   ]
  },
  {
   "cell_type": "code",
   "execution_count": 4,
   "id": "28312343",
   "metadata": {
    "execution": {
     "iopub.execute_input": "2025-08-19T19:05:22.044181Z",
     "iopub.status.busy": "2025-08-19T19:05:22.043163Z",
     "iopub.status.idle": "2025-08-19T19:05:22.051868Z",
     "shell.execute_reply": "2025-08-19T19:05:22.050272Z"
    },
    "papermill": {
     "duration": 0.02565,
     "end_time": "2025-08-19T19:05:22.053587",
     "exception": false,
     "start_time": "2025-08-19T19:05:22.027937",
     "status": "completed"
    },
    "tags": [
     "injected-parameters"
    ]
   },
   "outputs": [],
   "source": [
    "# Parameters\n",
    "universe_id = \"2e00861bf82aee3171e83bde712878ac\"\n",
    "run_no = \"3\"\n",
    "universe = \"{\\\"cutoff\\\": [\\\"quantile_0.1\\\", \\\"quantile_0.25\\\"], \\\"eval_fairness_grouping\\\": [\\\"majority-minority\\\", \\\"nationality-all\\\"], \\\"exclude_features\\\": \\\"nationality\\\", \\\"exclude_subgroups\\\": \\\"keep-all\\\", \\\"model\\\": \\\"penalized_logreg\\\", \\\"scale\\\": \\\"scale\\\", \\\"training_size\\\": \\\"1k\\\", \\\"training_year\\\": \\\"2010_14\\\"}\"\n",
    "output_dir = \"output\"\n",
    "seed = \"2023\"\n"
   ]
  },
  {
   "cell_type": "code",
   "execution_count": 5,
   "id": "a5d7941f",
   "metadata": {
    "execution": {
     "iopub.execute_input": "2025-08-19T19:05:22.078564Z",
     "iopub.status.busy": "2025-08-19T19:05:22.077086Z",
     "iopub.status.idle": "2025-08-19T19:05:22.085289Z",
     "shell.execute_reply": "2025-08-19T19:05:22.083748Z"
    },
    "papermill": {
     "duration": 0.020468,
     "end_time": "2025-08-19T19:05:22.086996",
     "exception": false,
     "start_time": "2025-08-19T19:05:22.066528",
     "status": "completed"
    },
    "tags": []
   },
   "outputs": [],
   "source": [
    "import json\n",
    "if isinstance(universe, str):\n",
    "    universe = json.loads(universe)"
   ]
  },
  {
   "cell_type": "code",
   "execution_count": 6,
   "id": "7076ccb1",
   "metadata": {
    "execution": {
     "iopub.execute_input": "2025-08-19T19:05:22.110618Z",
     "iopub.status.busy": "2025-08-19T19:05:22.109398Z",
     "iopub.status.idle": "2025-08-19T19:05:22.160222Z",
     "shell.execute_reply": "2025-08-19T19:05:22.159556Z"
    },
    "papermill": {
     "duration": 0.064443,
     "end_time": "2025-08-19T19:05:22.162930",
     "exception": false,
     "start_time": "2025-08-19T19:05:22.098487",
     "status": "completed"
    },
    "tags": []
   },
   "outputs": [],
   "source": [
    "# Auto-reload the custom package\n",
    "%load_ext autoreload\n",
    "%autoreload 1\n",
    "%aimport fairness_multiverse"
   ]
  },
  {
   "cell_type": "code",
   "execution_count": 7,
   "id": "94c8eb93",
   "metadata": {
    "execution": {
     "iopub.execute_input": "2025-08-19T19:05:22.199495Z",
     "iopub.status.busy": "2025-08-19T19:05:22.198565Z",
     "iopub.status.idle": "2025-08-19T19:05:23.767756Z",
     "shell.execute_reply": "2025-08-19T19:05:23.765942Z"
    },
    "papermill": {
     "duration": 1.584469,
     "end_time": "2025-08-19T19:05:23.769839",
     "exception": false,
     "start_time": "2025-08-19T19:05:22.185370",
     "status": "completed"
    },
    "tags": []
   },
   "outputs": [],
   "source": [
    "from fairness_multiverse.universe import UniverseAnalysis\n",
    "\n",
    "universe_analysis = UniverseAnalysis(\n",
    "    run_no = run_no,\n",
    "    universe_id = universe_id,\n",
    "    universe = universe,\n",
    "    output_dir=output_dir,\n",
    ")"
   ]
  },
  {
   "cell_type": "code",
   "execution_count": 8,
   "id": "2a6381cf",
   "metadata": {
    "execution": {
     "iopub.execute_input": "2025-08-19T19:05:23.805894Z",
     "iopub.status.busy": "2025-08-19T19:05:23.805465Z",
     "iopub.status.idle": "2025-08-19T19:05:23.812481Z",
     "shell.execute_reply": "2025-08-19T19:05:23.811659Z"
    },
    "papermill": {
     "duration": 0.034768,
     "end_time": "2025-08-19T19:05:23.816059",
     "exception": false,
     "start_time": "2025-08-19T19:05:23.781291",
     "status": "completed"
    },
    "tags": []
   },
   "outputs": [
    {
     "name": "stdout",
     "output_type": "stream",
     "text": [
      "Using Seed: 2023\n"
     ]
    }
   ],
   "source": [
    "import numpy as np\n",
    "parsed_seed = int(seed)\n",
    "np.random.seed(parsed_seed)\n",
    "print(f\"Using Seed: {parsed_seed}\")"
   ]
  },
  {
   "cell_type": "markdown",
   "id": "b6e958b4",
   "metadata": {
    "papermill": {
     "duration": 0.009032,
     "end_time": "2025-08-19T19:05:23.837186",
     "exception": false,
     "start_time": "2025-08-19T19:05:23.828154",
     "status": "completed"
    },
    "tags": []
   },
   "source": [
    "# Loading Data"
   ]
  },
  {
   "cell_type": "code",
   "execution_count": 9,
   "id": "98701482",
   "metadata": {
    "execution": {
     "iopub.execute_input": "2025-08-19T19:05:23.857817Z",
     "iopub.status.busy": "2025-08-19T19:05:23.857097Z",
     "iopub.status.idle": "2025-08-19T19:05:33.925440Z",
     "shell.execute_reply": "2025-08-19T19:05:33.924219Z"
    },
    "papermill": {
     "duration": 10.080658,
     "end_time": "2025-08-19T19:05:33.926829",
     "exception": false,
     "start_time": "2025-08-19T19:05:23.846171",
     "status": "completed"
    },
    "tags": []
   },
   "outputs": [
    {
     "name": "stdout",
     "output_type": "stream",
     "text": [
      "Loading SIAB data from cache: data/siab_cached.csv.gz\n"
     ]
    },
    {
     "name": "stdout",
     "output_type": "stream",
     "text": [
      "(643690, 164)\n"
     ]
    }
   ],
   "source": [
    "from pathlib import Path\n",
    "import pandas as pd\n",
    "\n",
    "# File paths\n",
    "raw_file = Path(\"data/raw/siab.csv\")\n",
    "cache_file = Path(\"data/siab_cached.csv.gz\")\n",
    "\n",
    "# Ensure cache directory exists\n",
    "cache_file.parent.mkdir(parents=True, exist_ok=True)\n",
    "\n",
    "# Load with simple caching\n",
    "if cache_file.exists():\n",
    "    print(f\"Loading SIAB data from cache: {cache_file}\")\n",
    "    siab = pd.read_csv(cache_file, compression='gzip')\n",
    "else:\n",
    "    print(f\"Cache not found. Reading raw SIAB data: {raw_file}\")\n",
    "    siab = pd.read_csv(raw_file)\n",
    "    siab.to_csv(cache_file, index=False, compression='gzip')\n",
    "    print(f\"Cached SIAB data to: {cache_file}\")\n",
    "\n",
    "print(siab.shape)"
   ]
  },
  {
   "cell_type": "code",
   "execution_count": 10,
   "id": "058d2abb",
   "metadata": {
    "execution": {
     "iopub.execute_input": "2025-08-19T19:05:33.950577Z",
     "iopub.status.busy": "2025-08-19T19:05:33.950052Z",
     "iopub.status.idle": "2025-08-19T19:05:34.120923Z",
     "shell.execute_reply": "2025-08-19T19:05:34.119971Z"
    },
    "papermill": {
     "duration": 0.183659,
     "end_time": "2025-08-19T19:05:34.122291",
     "exception": false,
     "start_time": "2025-08-19T19:05:33.938632",
     "status": "completed"
    },
    "tags": []
   },
   "outputs": [
    {
     "data": {
      "text/html": [
       "<div>\n",
       "<style scoped>\n",
       "    .dataframe tbody tr th:only-of-type {\n",
       "        vertical-align: middle;\n",
       "    }\n",
       "\n",
       "    .dataframe tbody tr th {\n",
       "        vertical-align: top;\n",
       "    }\n",
       "\n",
       "    .dataframe thead th {\n",
       "        text-align: right;\n",
       "    }\n",
       "</style>\n",
       "<table border=\"1\" class=\"dataframe\">\n",
       "  <thead>\n",
       "    <tr style=\"text-align: right;\">\n",
       "      <th></th>\n",
       "      <th>persnr</th>\n",
       "      <th>year</th>\n",
       "      <th>nrEntry</th>\n",
       "      <th>ltue</th>\n",
       "      <th>employed_before</th>\n",
       "      <th>receipt_leh_before</th>\n",
       "      <th>receipt_lhg_before</th>\n",
       "      <th>se_before</th>\n",
       "      <th>ASU_notue_seeking_before</th>\n",
       "      <th>ASU_other_before</th>\n",
       "      <th>...</th>\n",
       "      <th>minijob_tot_dur_byage</th>\n",
       "      <th>ft_tot_dur_byage</th>\n",
       "      <th>befrist_tot_dur_byage</th>\n",
       "      <th>leih_tot_dur_byage</th>\n",
       "      <th>LHG_tot_dur_byage</th>\n",
       "      <th>LEH_tot_dur_byage</th>\n",
       "      <th>almp_tot_dur_byage</th>\n",
       "      <th>almp_aw_tot_dur_byage</th>\n",
       "      <th>se_tot_dur_byage</th>\n",
       "      <th>seeking1_tot_dur_byage</th>\n",
       "    </tr>\n",
       "  </thead>\n",
       "  <tbody>\n",
       "    <tr>\n",
       "      <th>0</th>\n",
       "      <td>7</td>\n",
       "      <td>2015</td>\n",
       "      <td>1</td>\n",
       "      <td>0</td>\n",
       "      <td>1</td>\n",
       "      <td>0</td>\n",
       "      <td>0</td>\n",
       "      <td>0</td>\n",
       "      <td>1</td>\n",
       "      <td>0</td>\n",
       "      <td>...</td>\n",
       "      <td>0.000000</td>\n",
       "      <td>0.000000</td>\n",
       "      <td>15.043478</td>\n",
       "      <td>0.000000</td>\n",
       "      <td>0.000000</td>\n",
       "      <td>0.000000</td>\n",
       "      <td>0.000000</td>\n",
       "      <td>0.000000</td>\n",
       "      <td>0.000000</td>\n",
       "      <td>0.000000</td>\n",
       "    </tr>\n",
       "    <tr>\n",
       "      <th>1</th>\n",
       "      <td>18</td>\n",
       "      <td>2010</td>\n",
       "      <td>1</td>\n",
       "      <td>1</td>\n",
       "      <td>0</td>\n",
       "      <td>0</td>\n",
       "      <td>0</td>\n",
       "      <td>0</td>\n",
       "      <td>0</td>\n",
       "      <td>0</td>\n",
       "      <td>...</td>\n",
       "      <td>0.000000</td>\n",
       "      <td>0.000000</td>\n",
       "      <td>0.000000</td>\n",
       "      <td>0.000000</td>\n",
       "      <td>0.000000</td>\n",
       "      <td>0.000000</td>\n",
       "      <td>0.000000</td>\n",
       "      <td>0.000000</td>\n",
       "      <td>0.000000</td>\n",
       "      <td>0.000000</td>\n",
       "    </tr>\n",
       "    <tr>\n",
       "      <th>2</th>\n",
       "      <td>18</td>\n",
       "      <td>2011</td>\n",
       "      <td>2</td>\n",
       "      <td>0</td>\n",
       "      <td>1</td>\n",
       "      <td>0</td>\n",
       "      <td>1</td>\n",
       "      <td>0</td>\n",
       "      <td>1</td>\n",
       "      <td>0</td>\n",
       "      <td>...</td>\n",
       "      <td>2.714286</td>\n",
       "      <td>2.714286</td>\n",
       "      <td>0.000000</td>\n",
       "      <td>0.000000</td>\n",
       "      <td>10.775510</td>\n",
       "      <td>0.000000</td>\n",
       "      <td>8.367347</td>\n",
       "      <td>0.000000</td>\n",
       "      <td>0.000000</td>\n",
       "      <td>9.836735</td>\n",
       "    </tr>\n",
       "    <tr>\n",
       "      <th>3</th>\n",
       "      <td>18</td>\n",
       "      <td>2012</td>\n",
       "      <td>3</td>\n",
       "      <td>0</td>\n",
       "      <td>1</td>\n",
       "      <td>0</td>\n",
       "      <td>1</td>\n",
       "      <td>0</td>\n",
       "      <td>1</td>\n",
       "      <td>0</td>\n",
       "      <td>...</td>\n",
       "      <td>4.200000</td>\n",
       "      <td>4.200000</td>\n",
       "      <td>0.000000</td>\n",
       "      <td>0.000000</td>\n",
       "      <td>12.100000</td>\n",
       "      <td>0.000000</td>\n",
       "      <td>9.400000</td>\n",
       "      <td>0.000000</td>\n",
       "      <td>0.000000</td>\n",
       "      <td>9.960000</td>\n",
       "    </tr>\n",
       "    <tr>\n",
       "      <th>4</th>\n",
       "      <td>18</td>\n",
       "      <td>2012</td>\n",
       "      <td>4</td>\n",
       "      <td>0</td>\n",
       "      <td>1</td>\n",
       "      <td>0</td>\n",
       "      <td>1</td>\n",
       "      <td>0</td>\n",
       "      <td>1</td>\n",
       "      <td>0</td>\n",
       "      <td>...</td>\n",
       "      <td>5.460000</td>\n",
       "      <td>5.460000</td>\n",
       "      <td>0.000000</td>\n",
       "      <td>0.000000</td>\n",
       "      <td>13.360000</td>\n",
       "      <td>0.000000</td>\n",
       "      <td>10.320000</td>\n",
       "      <td>0.000000</td>\n",
       "      <td>0.000000</td>\n",
       "      <td>10.280000</td>\n",
       "    </tr>\n",
       "    <tr>\n",
       "      <th>...</th>\n",
       "      <td>...</td>\n",
       "      <td>...</td>\n",
       "      <td>...</td>\n",
       "      <td>...</td>\n",
       "      <td>...</td>\n",
       "      <td>...</td>\n",
       "      <td>...</td>\n",
       "      <td>...</td>\n",
       "      <td>...</td>\n",
       "      <td>...</td>\n",
       "      <td>...</td>\n",
       "      <td>...</td>\n",
       "      <td>...</td>\n",
       "      <td>...</td>\n",
       "      <td>...</td>\n",
       "      <td>...</td>\n",
       "      <td>...</td>\n",
       "      <td>...</td>\n",
       "      <td>...</td>\n",
       "      <td>...</td>\n",
       "      <td>...</td>\n",
       "    </tr>\n",
       "    <tr>\n",
       "      <th>643685</th>\n",
       "      <td>1827860</td>\n",
       "      <td>2013</td>\n",
       "      <td>1</td>\n",
       "      <td>0</td>\n",
       "      <td>0</td>\n",
       "      <td>0</td>\n",
       "      <td>1</td>\n",
       "      <td>0</td>\n",
       "      <td>0</td>\n",
       "      <td>1</td>\n",
       "      <td>...</td>\n",
       "      <td>0.000000</td>\n",
       "      <td>0.000000</td>\n",
       "      <td>0.000000</td>\n",
       "      <td>0.000000</td>\n",
       "      <td>0.612903</td>\n",
       "      <td>0.000000</td>\n",
       "      <td>0.000000</td>\n",
       "      <td>0.000000</td>\n",
       "      <td>0.000000</td>\n",
       "      <td>0.000000</td>\n",
       "    </tr>\n",
       "    <tr>\n",
       "      <th>643686</th>\n",
       "      <td>1827860</td>\n",
       "      <td>2015</td>\n",
       "      <td>2</td>\n",
       "      <td>1</td>\n",
       "      <td>0</td>\n",
       "      <td>0</td>\n",
       "      <td>1</td>\n",
       "      <td>0</td>\n",
       "      <td>1</td>\n",
       "      <td>0</td>\n",
       "      <td>...</td>\n",
       "      <td>0.000000</td>\n",
       "      <td>0.000000</td>\n",
       "      <td>0.212121</td>\n",
       "      <td>0.212121</td>\n",
       "      <td>17.363636</td>\n",
       "      <td>0.000000</td>\n",
       "      <td>8.909091</td>\n",
       "      <td>0.000000</td>\n",
       "      <td>0.000000</td>\n",
       "      <td>7.121212</td>\n",
       "    </tr>\n",
       "    <tr>\n",
       "      <th>643687</th>\n",
       "      <td>1827860</td>\n",
       "      <td>2016</td>\n",
       "      <td>3</td>\n",
       "      <td>1</td>\n",
       "      <td>0</td>\n",
       "      <td>0</td>\n",
       "      <td>1</td>\n",
       "      <td>1</td>\n",
       "      <td>0</td>\n",
       "      <td>1</td>\n",
       "      <td>...</td>\n",
       "      <td>0.000000</td>\n",
       "      <td>0.000000</td>\n",
       "      <td>0.294118</td>\n",
       "      <td>0.205882</td>\n",
       "      <td>34.705882</td>\n",
       "      <td>0.000000</td>\n",
       "      <td>10.352941</td>\n",
       "      <td>1.705882</td>\n",
       "      <td>1.705882</td>\n",
       "      <td>23.911765</td>\n",
       "    </tr>\n",
       "    <tr>\n",
       "      <th>643688</th>\n",
       "      <td>1827869</td>\n",
       "      <td>2013</td>\n",
       "      <td>1</td>\n",
       "      <td>1</td>\n",
       "      <td>1</td>\n",
       "      <td>0</td>\n",
       "      <td>0</td>\n",
       "      <td>0</td>\n",
       "      <td>1</td>\n",
       "      <td>0</td>\n",
       "      <td>...</td>\n",
       "      <td>0.000000</td>\n",
       "      <td>0.000000</td>\n",
       "      <td>0.000000</td>\n",
       "      <td>0.000000</td>\n",
       "      <td>0.000000</td>\n",
       "      <td>0.525424</td>\n",
       "      <td>0.000000</td>\n",
       "      <td>0.000000</td>\n",
       "      <td>0.000000</td>\n",
       "      <td>0.000000</td>\n",
       "    </tr>\n",
       "    <tr>\n",
       "      <th>643689</th>\n",
       "      <td>1827869</td>\n",
       "      <td>2014</td>\n",
       "      <td>2</td>\n",
       "      <td>0</td>\n",
       "      <td>0</td>\n",
       "      <td>1</td>\n",
       "      <td>0</td>\n",
       "      <td>0</td>\n",
       "      <td>1</td>\n",
       "      <td>0</td>\n",
       "      <td>...</td>\n",
       "      <td>0.000000</td>\n",
       "      <td>0.666667</td>\n",
       "      <td>0.666667</td>\n",
       "      <td>0.000000</td>\n",
       "      <td>0.000000</td>\n",
       "      <td>8.950000</td>\n",
       "      <td>1.033333</td>\n",
       "      <td>0.083333</td>\n",
       "      <td>0.083333</td>\n",
       "      <td>8.133333</td>\n",
       "    </tr>\n",
       "  </tbody>\n",
       "</table>\n",
       "<p>643690 rows × 164 columns</p>\n",
       "</div>"
      ],
      "text/plain": [
       "         persnr  year  nrEntry  ltue  employed_before  receipt_leh_before  \\\n",
       "0             7  2015        1     0                1                   0   \n",
       "1            18  2010        1     1                0                   0   \n",
       "2            18  2011        2     0                1                   0   \n",
       "3            18  2012        3     0                1                   0   \n",
       "4            18  2012        4     0                1                   0   \n",
       "...         ...   ...      ...   ...              ...                 ...   \n",
       "643685  1827860  2013        1     0                0                   0   \n",
       "643686  1827860  2015        2     1                0                   0   \n",
       "643687  1827860  2016        3     1                0                   0   \n",
       "643688  1827869  2013        1     1                1                   0   \n",
       "643689  1827869  2014        2     0                0                   1   \n",
       "\n",
       "        receipt_lhg_before  se_before  ASU_notue_seeking_before  \\\n",
       "0                        0          0                         1   \n",
       "1                        0          0                         0   \n",
       "2                        1          0                         1   \n",
       "3                        1          0                         1   \n",
       "4                        1          0                         1   \n",
       "...                    ...        ...                       ...   \n",
       "643685                   1          0                         0   \n",
       "643686                   1          0                         1   \n",
       "643687                   1          1                         0   \n",
       "643688                   0          0                         1   \n",
       "643689                   0          0                         1   \n",
       "\n",
       "        ASU_other_before  ...  minijob_tot_dur_byage  ft_tot_dur_byage  \\\n",
       "0                      0  ...               0.000000          0.000000   \n",
       "1                      0  ...               0.000000          0.000000   \n",
       "2                      0  ...               2.714286          2.714286   \n",
       "3                      0  ...               4.200000          4.200000   \n",
       "4                      0  ...               5.460000          5.460000   \n",
       "...                  ...  ...                    ...               ...   \n",
       "643685                 1  ...               0.000000          0.000000   \n",
       "643686                 0  ...               0.000000          0.000000   \n",
       "643687                 1  ...               0.000000          0.000000   \n",
       "643688                 0  ...               0.000000          0.000000   \n",
       "643689                 0  ...               0.000000          0.666667   \n",
       "\n",
       "        befrist_tot_dur_byage  leih_tot_dur_byage  LHG_tot_dur_byage  \\\n",
       "0                   15.043478            0.000000           0.000000   \n",
       "1                    0.000000            0.000000           0.000000   \n",
       "2                    0.000000            0.000000          10.775510   \n",
       "3                    0.000000            0.000000          12.100000   \n",
       "4                    0.000000            0.000000          13.360000   \n",
       "...                       ...                 ...                ...   \n",
       "643685               0.000000            0.000000           0.612903   \n",
       "643686               0.212121            0.212121          17.363636   \n",
       "643687               0.294118            0.205882          34.705882   \n",
       "643688               0.000000            0.000000           0.000000   \n",
       "643689               0.666667            0.000000           0.000000   \n",
       "\n",
       "        LEH_tot_dur_byage  almp_tot_dur_byage  almp_aw_tot_dur_byage  \\\n",
       "0                0.000000            0.000000               0.000000   \n",
       "1                0.000000            0.000000               0.000000   \n",
       "2                0.000000            8.367347               0.000000   \n",
       "3                0.000000            9.400000               0.000000   \n",
       "4                0.000000           10.320000               0.000000   \n",
       "...                   ...                 ...                    ...   \n",
       "643685           0.000000            0.000000               0.000000   \n",
       "643686           0.000000            8.909091               0.000000   \n",
       "643687           0.000000           10.352941               1.705882   \n",
       "643688           0.525424            0.000000               0.000000   \n",
       "643689           8.950000            1.033333               0.083333   \n",
       "\n",
       "        se_tot_dur_byage  seeking1_tot_dur_byage  \n",
       "0               0.000000                0.000000  \n",
       "1               0.000000                0.000000  \n",
       "2               0.000000                9.836735  \n",
       "3               0.000000                9.960000  \n",
       "4               0.000000               10.280000  \n",
       "...                  ...                     ...  \n",
       "643685          0.000000                0.000000  \n",
       "643686          0.000000                7.121212  \n",
       "643687          1.705882               23.911765  \n",
       "643688          0.000000                0.000000  \n",
       "643689          0.083333                8.133333  \n",
       "\n",
       "[643690 rows x 164 columns]"
      ]
     },
     "execution_count": 10,
     "metadata": {},
     "output_type": "execute_result"
    }
   ],
   "source": [
    "siab"
   ]
  },
  {
   "cell_type": "markdown",
   "id": "1f87e805",
   "metadata": {
    "papermill": {
     "duration": 0.009524,
     "end_time": "2025-08-19T19:05:34.141796",
     "exception": false,
     "start_time": "2025-08-19T19:05:34.132272",
     "status": "completed"
    },
    "tags": []
   },
   "source": [
    "# Splitting Data and Setting Training Data Size"
   ]
  },
  {
   "cell_type": "code",
   "execution_count": 11,
   "id": "910ae358",
   "metadata": {
    "execution": {
     "iopub.execute_input": "2025-08-19T19:05:34.163355Z",
     "iopub.status.busy": "2025-08-19T19:05:34.162617Z",
     "iopub.status.idle": "2025-08-19T19:05:35.213811Z",
     "shell.execute_reply": "2025-08-19T19:05:35.213138Z"
    },
    "papermill": {
     "duration": 1.064004,
     "end_time": "2025-08-19T19:05:35.215228",
     "exception": false,
     "start_time": "2025-08-19T19:05:34.151224",
     "status": "completed"
    },
    "tags": []
   },
   "outputs": [],
   "source": [
    "from fairness_multiverse.universe import sample_by_year_size\n",
    "\n",
    "siab_train = sample_by_year_size(siab,\n",
    "                               training_year=universe[\"training_year\"],\n",
    "                               training_size=universe[\"training_size\"])"
   ]
  },
  {
   "cell_type": "code",
   "execution_count": 12,
   "id": "919c8ff5",
   "metadata": {
    "execution": {
     "iopub.execute_input": "2025-08-19T19:05:35.237490Z",
     "iopub.status.busy": "2025-08-19T19:05:35.236670Z",
     "iopub.status.idle": "2025-08-19T19:05:35.244155Z",
     "shell.execute_reply": "2025-08-19T19:05:35.243198Z"
    },
    "papermill": {
     "duration": 0.020339,
     "end_time": "2025-08-19T19:05:35.245585",
     "exception": false,
     "start_time": "2025-08-19T19:05:35.225246",
     "status": "completed"
    },
    "tags": []
   },
   "outputs": [
    {
     "data": {
      "text/plain": [
       "(1000, 164)"
      ]
     },
     "execution_count": 12,
     "metadata": {},
     "output_type": "execute_result"
    }
   ],
   "source": [
    "siab_train.shape"
   ]
  },
  {
   "cell_type": "code",
   "execution_count": 13,
   "id": "feb13bf4",
   "metadata": {
    "execution": {
     "iopub.execute_input": "2025-08-19T19:05:35.272776Z",
     "iopub.status.busy": "2025-08-19T19:05:35.271482Z",
     "iopub.status.idle": "2025-08-19T19:05:35.285992Z",
     "shell.execute_reply": "2025-08-19T19:05:35.285014Z"
    },
    "papermill": {
     "duration": 0.028135,
     "end_time": "2025-08-19T19:05:35.287367",
     "exception": false,
     "start_time": "2025-08-19T19:05:35.259232",
     "status": "completed"
    },
    "tags": []
   },
   "outputs": [
    {
     "data": {
      "text/plain": [
       "year\n",
       "2010    200\n",
       "2011    200\n",
       "2012    200\n",
       "2013    200\n",
       "2014    200\n",
       "dtype: int64"
      ]
     },
     "metadata": {},
     "output_type": "display_data"
    }
   ],
   "source": [
    "display(siab_train.groupby(\"year\").size())"
   ]
  },
  {
   "cell_type": "code",
   "execution_count": 14,
   "id": "0997782f",
   "metadata": {
    "execution": {
     "iopub.execute_input": "2025-08-19T19:05:35.311038Z",
     "iopub.status.busy": "2025-08-19T19:05:35.309794Z",
     "iopub.status.idle": "2025-08-19T19:05:35.607844Z",
     "shell.execute_reply": "2025-08-19T19:05:35.607155Z"
    },
    "papermill": {
     "duration": 0.31114,
     "end_time": "2025-08-19T19:05:35.609257",
     "exception": false,
     "start_time": "2025-08-19T19:05:35.298117",
     "status": "completed"
    },
    "tags": []
   },
   "outputs": [],
   "source": [
    "#siab_train = siab_s[siab_s.year < 2015]\n",
    "siab_calib = siab[siab.year == 2015]\n",
    "siab_test = siab[siab.year == 2016]"
   ]
  },
  {
   "cell_type": "code",
   "execution_count": 15,
   "id": "2c1e4012",
   "metadata": {
    "execution": {
     "iopub.execute_input": "2025-08-19T19:05:35.631549Z",
     "iopub.status.busy": "2025-08-19T19:05:35.630736Z",
     "iopub.status.idle": "2025-08-19T19:05:35.635961Z",
     "shell.execute_reply": "2025-08-19T19:05:35.634980Z"
    },
    "papermill": {
     "duration": 0.017719,
     "end_time": "2025-08-19T19:05:35.637229",
     "exception": false,
     "start_time": "2025-08-19T19:05:35.619510",
     "status": "completed"
    },
    "tags": []
   },
   "outputs": [],
   "source": [
    "#siab_calib.shape"
   ]
  },
  {
   "cell_type": "code",
   "execution_count": 16,
   "id": "f66b54ca",
   "metadata": {
    "execution": {
     "iopub.execute_input": "2025-08-19T19:05:35.661943Z",
     "iopub.status.busy": "2025-08-19T19:05:35.660842Z",
     "iopub.status.idle": "2025-08-19T19:05:35.668127Z",
     "shell.execute_reply": "2025-08-19T19:05:35.666660Z"
    },
    "papermill": {
     "duration": 0.020922,
     "end_time": "2025-08-19T19:05:35.670031",
     "exception": false,
     "start_time": "2025-08-19T19:05:35.649109",
     "status": "completed"
    },
    "tags": []
   },
   "outputs": [],
   "source": [
    "#siab_test.shape"
   ]
  },
  {
   "cell_type": "code",
   "execution_count": 17,
   "id": "27e4384d",
   "metadata": {
    "execution": {
     "iopub.execute_input": "2025-08-19T19:05:35.694098Z",
     "iopub.status.busy": "2025-08-19T19:05:35.693732Z",
     "iopub.status.idle": "2025-08-19T19:05:35.699244Z",
     "shell.execute_reply": "2025-08-19T19:05:35.698537Z"
    },
    "papermill": {
     "duration": 0.017258,
     "end_time": "2025-08-19T19:05:35.700306",
     "exception": false,
     "start_time": "2025-08-19T19:05:35.683048",
     "status": "completed"
    },
    "tags": []
   },
   "outputs": [],
   "source": [
    "X_train = siab_train.iloc[:,4:164]\n",
    "y_train = siab_train.iloc[:, [3]]"
   ]
  },
  {
   "cell_type": "code",
   "execution_count": 18,
   "id": "08ee8389",
   "metadata": {
    "execution": {
     "iopub.execute_input": "2025-08-19T19:05:35.723527Z",
     "iopub.status.busy": "2025-08-19T19:05:35.722437Z",
     "iopub.status.idle": "2025-08-19T19:05:35.782926Z",
     "shell.execute_reply": "2025-08-19T19:05:35.782171Z"
    },
    "papermill": {
     "duration": 0.073273,
     "end_time": "2025-08-19T19:05:35.784266",
     "exception": false,
     "start_time": "2025-08-19T19:05:35.710993",
     "status": "completed"
    },
    "tags": []
   },
   "outputs": [],
   "source": [
    "X_calib = siab_calib.iloc[:,4:164]\n",
    "y_calib = siab_calib.iloc[:, [3]]"
   ]
  },
  {
   "cell_type": "code",
   "execution_count": 19,
   "id": "b7ff42e0",
   "metadata": {
    "execution": {
     "iopub.execute_input": "2025-08-19T19:05:35.807463Z",
     "iopub.status.busy": "2025-08-19T19:05:35.806711Z",
     "iopub.status.idle": "2025-08-19T19:05:35.868903Z",
     "shell.execute_reply": "2025-08-19T19:05:35.868097Z"
    },
    "papermill": {
     "duration": 0.075584,
     "end_time": "2025-08-19T19:05:35.870331",
     "exception": false,
     "start_time": "2025-08-19T19:05:35.794747",
     "status": "completed"
    },
    "tags": []
   },
   "outputs": [],
   "source": [
    "X_test = siab_test.iloc[:,4:164]\n",
    "y_true = siab_test.iloc[:, [3]]"
   ]
  },
  {
   "cell_type": "code",
   "execution_count": 20,
   "id": "0275101e",
   "metadata": {
    "execution": {
     "iopub.execute_input": "2025-08-19T19:05:35.893307Z",
     "iopub.status.busy": "2025-08-19T19:05:35.892574Z",
     "iopub.status.idle": "2025-08-19T19:05:36.007698Z",
     "shell.execute_reply": "2025-08-19T19:05:36.007017Z"
    },
    "papermill": {
     "duration": 0.128041,
     "end_time": "2025-08-19T19:05:36.009077",
     "exception": false,
     "start_time": "2025-08-19T19:05:35.881036",
     "status": "completed"
    },
    "tags": []
   },
   "outputs": [],
   "source": [
    "# Auxiliary data needed downstream in the pipeline\n",
    "\n",
    "org_train = X_train.copy()\n",
    "org_test = X_test.copy()\n",
    "org_calib = X_calib.copy()"
   ]
  },
  {
   "cell_type": "markdown",
   "id": "b461e618",
   "metadata": {
    "papermill": {
     "duration": 0.010114,
     "end_time": "2025-08-19T19:05:36.029671",
     "exception": false,
     "start_time": "2025-08-19T19:05:36.019557",
     "status": "completed"
    },
    "tags": []
   },
   "source": [
    "# Preprocessing Data"
   ]
  },
  {
   "cell_type": "code",
   "execution_count": 21,
   "id": "78e74c4b",
   "metadata": {
    "execution": {
     "iopub.execute_input": "2025-08-19T19:05:36.052442Z",
     "iopub.status.busy": "2025-08-19T19:05:36.051451Z",
     "iopub.status.idle": "2025-08-19T19:05:36.063263Z",
     "shell.execute_reply": "2025-08-19T19:05:36.061609Z"
    },
    "papermill": {
     "duration": 0.025132,
     "end_time": "2025-08-19T19:05:36.064923",
     "exception": false,
     "start_time": "2025-08-19T19:05:36.039791",
     "status": "completed"
    },
    "tags": []
   },
   "outputs": [],
   "source": [
    "# EXCLUDE PROTECTED FEATURES\n",
    "# --------------------------\n",
    "\n",
    "excluded_features = universe[\"exclude_features\"].split(\"-\")\n",
    "excluded_features_dictionary = {\n",
    "    \"nationality\": [\"maxdeutsch1\", \"maxdeutsch.Missing.\"],\n",
    "    \"sex\": [\"frau1\"],\n",
    "    \"age\": [\"age\"],\n",
    "}"
   ]
  },
  {
   "cell_type": "code",
   "execution_count": 22,
   "id": "f8e63555",
   "metadata": {
    "execution": {
     "iopub.execute_input": "2025-08-19T19:05:36.090468Z",
     "iopub.status.busy": "2025-08-19T19:05:36.089235Z",
     "iopub.status.idle": "2025-08-19T19:05:36.100264Z",
     "shell.execute_reply": "2025-08-19T19:05:36.098185Z"
    },
    "papermill": {
     "duration": 0.024426,
     "end_time": "2025-08-19T19:05:36.101907",
     "exception": false,
     "start_time": "2025-08-19T19:05:36.077481",
     "status": "completed"
    },
    "tags": []
   },
   "outputs": [],
   "source": [
    "excluded_features_columns = [\n",
    "    excluded_features_dictionary[f] for f in excluded_features if len(f) > 0 and f != \"none\"\n",
    "]"
   ]
  },
  {
   "cell_type": "code",
   "execution_count": 23,
   "id": "da781f7c",
   "metadata": {
    "execution": {
     "iopub.execute_input": "2025-08-19T19:05:36.129494Z",
     "iopub.status.busy": "2025-08-19T19:05:36.128054Z",
     "iopub.status.idle": "2025-08-19T19:05:36.138208Z",
     "shell.execute_reply": "2025-08-19T19:05:36.136730Z"
    },
    "papermill": {
     "duration": 0.024245,
     "end_time": "2025-08-19T19:05:36.139876",
     "exception": false,
     "start_time": "2025-08-19T19:05:36.115631",
     "status": "completed"
    },
    "tags": []
   },
   "outputs": [],
   "source": [
    "from fairness_multiverse.universe import flatten_once\n",
    "\n",
    "excluded_features_columns = flatten_once(excluded_features_columns)"
   ]
  },
  {
   "cell_type": "code",
   "execution_count": 24,
   "id": "37fef0f0",
   "metadata": {
    "execution": {
     "iopub.execute_input": "2025-08-19T19:05:36.169075Z",
     "iopub.status.busy": "2025-08-19T19:05:36.168099Z",
     "iopub.status.idle": "2025-08-19T19:05:36.182838Z",
     "shell.execute_reply": "2025-08-19T19:05:36.181529Z"
    },
    "papermill": {
     "duration": 0.028855,
     "end_time": "2025-08-19T19:05:36.184414",
     "exception": false,
     "start_time": "2025-08-19T19:05:36.155559",
     "status": "completed"
    },
    "tags": []
   },
   "outputs": [
    {
     "name": "stdout",
     "output_type": "stream",
     "text": [
      "Dropping features: ['maxdeutsch1', 'maxdeutsch.Missing.']\n"
     ]
    }
   ],
   "source": [
    "if len(excluded_features_columns) > 0:\n",
    "    print(f\"Dropping features: {excluded_features_columns}\")\n",
    "    X_train.drop(excluded_features_columns, axis=1, inplace=True)"
   ]
  },
  {
   "cell_type": "code",
   "execution_count": 25,
   "id": "d029e3e9",
   "metadata": {
    "execution": {
     "iopub.execute_input": "2025-08-19T19:05:36.215528Z",
     "iopub.status.busy": "2025-08-19T19:05:36.214531Z",
     "iopub.status.idle": "2025-08-19T19:05:36.275785Z",
     "shell.execute_reply": "2025-08-19T19:05:36.275100Z"
    },
    "papermill": {
     "duration": 0.077455,
     "end_time": "2025-08-19T19:05:36.278122",
     "exception": false,
     "start_time": "2025-08-19T19:05:36.200667",
     "status": "completed"
    },
    "tags": []
   },
   "outputs": [
    {
     "name": "stdout",
     "output_type": "stream",
     "text": [
      "Dropping features: ['maxdeutsch1', 'maxdeutsch.Missing.']\n"
     ]
    }
   ],
   "source": [
    "if len(excluded_features_columns) > 0:\n",
    "    print(f\"Dropping features: {excluded_features_columns}\")\n",
    "    X_test.drop(excluded_features_columns, axis=1, inplace=True)"
   ]
  },
  {
   "cell_type": "code",
   "execution_count": 26,
   "id": "01d571f0",
   "metadata": {
    "execution": {
     "iopub.execute_input": "2025-08-19T19:05:36.316274Z",
     "iopub.status.busy": "2025-08-19T19:05:36.315009Z",
     "iopub.status.idle": "2025-08-19T19:05:36.372680Z",
     "shell.execute_reply": "2025-08-19T19:05:36.372043Z"
    },
    "papermill": {
     "duration": 0.073879,
     "end_time": "2025-08-19T19:05:36.375204",
     "exception": false,
     "start_time": "2025-08-19T19:05:36.301325",
     "status": "completed"
    },
    "tags": []
   },
   "outputs": [
    {
     "name": "stdout",
     "output_type": "stream",
     "text": [
      "Dropping features: ['maxdeutsch1', 'maxdeutsch.Missing.']\n"
     ]
    }
   ],
   "source": [
    "if len(excluded_features_columns) > 0:\n",
    "    print(f\"Dropping features: {excluded_features_columns}\")\n",
    "    X_calib.drop(excluded_features_columns, axis=1, inplace=True)"
   ]
  },
  {
   "cell_type": "code",
   "execution_count": 27,
   "id": "3037356e",
   "metadata": {
    "execution": {
     "iopub.execute_input": "2025-08-19T19:05:36.414278Z",
     "iopub.status.busy": "2025-08-19T19:05:36.413863Z",
     "iopub.status.idle": "2025-08-19T19:05:36.418429Z",
     "shell.execute_reply": "2025-08-19T19:05:36.417623Z"
    },
    "papermill": {
     "duration": 0.019251,
     "end_time": "2025-08-19T19:05:36.419435",
     "exception": false,
     "start_time": "2025-08-19T19:05:36.400184",
     "status": "completed"
    },
    "tags": []
   },
   "outputs": [],
   "source": [
    "# EXCLUDE CERTAIN SUBGROUPS\n",
    "# -------------------------\n",
    "\n",
    "mode = universe.get(\"exclude_subgroups\", \"keep-all\") # Defaults to \"keep-all\" if the key is missing."
   ]
  },
  {
   "cell_type": "code",
   "execution_count": 28,
   "id": "9d1e63fd",
   "metadata": {
    "execution": {
     "iopub.execute_input": "2025-08-19T19:05:36.442074Z",
     "iopub.status.busy": "2025-08-19T19:05:36.441667Z",
     "iopub.status.idle": "2025-08-19T19:05:36.447029Z",
     "shell.execute_reply": "2025-08-19T19:05:36.446373Z"
    },
    "papermill": {
     "duration": 0.018128,
     "end_time": "2025-08-19T19:05:36.448160",
     "exception": false,
     "start_time": "2025-08-19T19:05:36.430032",
     "status": "completed"
    },
    "tags": []
   },
   "outputs": [],
   "source": [
    "if mode == \"keep-all\":\n",
    "    keep_mask = pd.Series(True, index=org_train.index)\n",
    "\n",
    "elif mode == \"drop-non-german\":\n",
    "    keep_mask = (org_train[\"maxdeutsch1\"] == 1) & (org_train[\"maxdeutsch.Missing.\"] == 0)\n",
    "\n",
    "else:\n",
    "    raise ValueError(f\"Unsupported mode for exclude_subgroups: {mode}\")"
   ]
  },
  {
   "cell_type": "code",
   "execution_count": 29,
   "id": "d3b65474",
   "metadata": {
    "execution": {
     "iopub.execute_input": "2025-08-19T19:05:36.472398Z",
     "iopub.status.busy": "2025-08-19T19:05:36.471999Z",
     "iopub.status.idle": "2025-08-19T19:05:36.476818Z",
     "shell.execute_reply": "2025-08-19T19:05:36.476176Z"
    },
    "papermill": {
     "duration": 0.017547,
     "end_time": "2025-08-19T19:05:36.477802",
     "exception": false,
     "start_time": "2025-08-19T19:05:36.460255",
     "status": "completed"
    },
    "tags": []
   },
   "outputs": [],
   "source": [
    "n_drop = (~keep_mask).sum() # Calculates how many rows are set to be dropped\n",
    "if n_drop > 0:\n",
    "    pct = n_drop / len(keep_mask) * 100\n",
    "    print(f\"Dropping {n_drop} rows ({pct:.2f}%) where mode='{mode}'\")"
   ]
  },
  {
   "cell_type": "code",
   "execution_count": 30,
   "id": "f44389b3",
   "metadata": {
    "execution": {
     "iopub.execute_input": "2025-08-19T19:05:36.501192Z",
     "iopub.status.busy": "2025-08-19T19:05:36.500402Z",
     "iopub.status.idle": "2025-08-19T19:05:36.505249Z",
     "shell.execute_reply": "2025-08-19T19:05:36.504610Z"
    },
    "papermill": {
     "duration": 0.017838,
     "end_time": "2025-08-19T19:05:36.506234",
     "exception": false,
     "start_time": "2025-08-19T19:05:36.488396",
     "status": "completed"
    },
    "tags": []
   },
   "outputs": [],
   "source": [
    "X_train = X_train[keep_mask]"
   ]
  },
  {
   "cell_type": "code",
   "execution_count": 31,
   "id": "ceca8c2a",
   "metadata": {
    "execution": {
     "iopub.execute_input": "2025-08-19T19:05:36.529558Z",
     "iopub.status.busy": "2025-08-19T19:05:36.529163Z",
     "iopub.status.idle": "2025-08-19T19:05:36.533536Z",
     "shell.execute_reply": "2025-08-19T19:05:36.532908Z"
    },
    "papermill": {
     "duration": 0.017216,
     "end_time": "2025-08-19T19:05:36.534517",
     "exception": false,
     "start_time": "2025-08-19T19:05:36.517301",
     "status": "completed"
    },
    "tags": []
   },
   "outputs": [],
   "source": [
    "y_train = y_train[keep_mask]"
   ]
  },
  {
   "cell_type": "markdown",
   "id": "04d31e2f",
   "metadata": {
    "papermill": {
     "duration": 0.010532,
     "end_time": "2025-08-19T19:05:36.555854",
     "exception": false,
     "start_time": "2025-08-19T19:05:36.545322",
     "status": "completed"
    },
    "tags": []
   },
   "source": [
    "# Model Training"
   ]
  },
  {
   "cell_type": "code",
   "execution_count": 32,
   "id": "db991733",
   "metadata": {
    "execution": {
     "iopub.execute_input": "2025-08-19T19:05:36.578518Z",
     "iopub.status.busy": "2025-08-19T19:05:36.578103Z",
     "iopub.status.idle": "2025-08-19T19:05:36.672966Z",
     "shell.execute_reply": "2025-08-19T19:05:36.671729Z"
    },
    "papermill": {
     "duration": 0.108434,
     "end_time": "2025-08-19T19:05:36.674800",
     "exception": false,
     "start_time": "2025-08-19T19:05:36.566366",
     "status": "completed"
    },
    "tags": []
   },
   "outputs": [],
   "source": [
    "from sklearn.linear_model import LogisticRegression\n",
    "from sklearn.ensemble import GradientBoostingClassifier, RandomForestClassifier\n",
    "\n",
    "if (universe[\"model\"] == \"logreg\"):\n",
    "    model = LogisticRegression() #penalty=\"none\", solver=\"newton-cg\", max_iter=1)\n",
    "elif (universe[\"model\"] == \"penalized_logreg\"):\n",
    "    model = LogisticRegression(penalty=\"l2\", C=0.1) #, solver=\"newton-cg\", max_iter=1)\n",
    "elif (universe[\"model\"] == \"rf\"):\n",
    "    model = RandomForestClassifier() # n_estimators=100, n_jobs=-1\n",
    "elif (universe[\"model\"] == \"gbm\"):\n",
    "    model = GradientBoostingClassifier()\n",
    "elif (universe[\"model\"] == \"elasticnet\"):\n",
    "    model = LogisticRegression(penalty = 'elasticnet', solver = 'saga', l1_ratio = 0.5) # max_iter=5000\n",
    "else:\n",
    "    raise \"Unsupported universe.model\""
   ]
  },
  {
   "cell_type": "code",
   "execution_count": 33,
   "id": "a4b5cd25",
   "metadata": {
    "execution": {
     "iopub.execute_input": "2025-08-19T19:05:36.701154Z",
     "iopub.status.busy": "2025-08-19T19:05:36.697769Z",
     "iopub.status.idle": "2025-08-19T19:05:36.707199Z",
     "shell.execute_reply": "2025-08-19T19:05:36.706160Z"
    },
    "papermill": {
     "duration": 0.025113,
     "end_time": "2025-08-19T19:05:36.710883",
     "exception": false,
     "start_time": "2025-08-19T19:05:36.685770",
     "status": "completed"
    },
    "tags": []
   },
   "outputs": [],
   "source": [
    "from sklearn.pipeline import Pipeline\n",
    "from sklearn.preprocessing import StandardScaler\n",
    "\n",
    "model = Pipeline([\n",
    "    #(\"continuous_processor\", continuous_processor),\n",
    "    #(\"categorical_preprocessor\", categorical_preprocessor),\n",
    "    (\"scale\", StandardScaler() if universe[\"scale\"] == \"scale\" else None), \n",
    "    (\"model\", model),\n",
    "])"
   ]
  },
  {
   "cell_type": "code",
   "execution_count": 34,
   "id": "283a904d",
   "metadata": {
    "execution": {
     "iopub.execute_input": "2025-08-19T19:05:36.733957Z",
     "iopub.status.busy": "2025-08-19T19:05:36.733644Z",
     "iopub.status.idle": "2025-08-19T19:05:36.775273Z",
     "shell.execute_reply": "2025-08-19T19:05:36.774009Z"
    },
    "papermill": {
     "duration": 0.055519,
     "end_time": "2025-08-19T19:05:36.777330",
     "exception": false,
     "start_time": "2025-08-19T19:05:36.721811",
     "status": "completed"
    },
    "tags": []
   },
   "outputs": [
    {
     "data": {
      "text/html": [
       "<style>#sk-container-id-1 {color: black;background-color: white;}#sk-container-id-1 pre{padding: 0;}#sk-container-id-1 div.sk-toggleable {background-color: white;}#sk-container-id-1 label.sk-toggleable__label {cursor: pointer;display: block;width: 100%;margin-bottom: 0;padding: 0.3em;box-sizing: border-box;text-align: center;}#sk-container-id-1 label.sk-toggleable__label-arrow:before {content: \"▸\";float: left;margin-right: 0.25em;color: #696969;}#sk-container-id-1 label.sk-toggleable__label-arrow:hover:before {color: black;}#sk-container-id-1 div.sk-estimator:hover label.sk-toggleable__label-arrow:before {color: black;}#sk-container-id-1 div.sk-toggleable__content {max-height: 0;max-width: 0;overflow: hidden;text-align: left;background-color: #f0f8ff;}#sk-container-id-1 div.sk-toggleable__content pre {margin: 0.2em;color: black;border-radius: 0.25em;background-color: #f0f8ff;}#sk-container-id-1 input.sk-toggleable__control:checked~div.sk-toggleable__content {max-height: 200px;max-width: 100%;overflow: auto;}#sk-container-id-1 input.sk-toggleable__control:checked~label.sk-toggleable__label-arrow:before {content: \"▾\";}#sk-container-id-1 div.sk-estimator input.sk-toggleable__control:checked~label.sk-toggleable__label {background-color: #d4ebff;}#sk-container-id-1 div.sk-label input.sk-toggleable__control:checked~label.sk-toggleable__label {background-color: #d4ebff;}#sk-container-id-1 input.sk-hidden--visually {border: 0;clip: rect(1px 1px 1px 1px);clip: rect(1px, 1px, 1px, 1px);height: 1px;margin: -1px;overflow: hidden;padding: 0;position: absolute;width: 1px;}#sk-container-id-1 div.sk-estimator {font-family: monospace;background-color: #f0f8ff;border: 1px dotted black;border-radius: 0.25em;box-sizing: border-box;margin-bottom: 0.5em;}#sk-container-id-1 div.sk-estimator:hover {background-color: #d4ebff;}#sk-container-id-1 div.sk-parallel-item::after {content: \"\";width: 100%;border-bottom: 1px solid gray;flex-grow: 1;}#sk-container-id-1 div.sk-label:hover label.sk-toggleable__label {background-color: #d4ebff;}#sk-container-id-1 div.sk-serial::before {content: \"\";position: absolute;border-left: 1px solid gray;box-sizing: border-box;top: 0;bottom: 0;left: 50%;z-index: 0;}#sk-container-id-1 div.sk-serial {display: flex;flex-direction: column;align-items: center;background-color: white;padding-right: 0.2em;padding-left: 0.2em;position: relative;}#sk-container-id-1 div.sk-item {position: relative;z-index: 1;}#sk-container-id-1 div.sk-parallel {display: flex;align-items: stretch;justify-content: center;background-color: white;position: relative;}#sk-container-id-1 div.sk-item::before, #sk-container-id-1 div.sk-parallel-item::before {content: \"\";position: absolute;border-left: 1px solid gray;box-sizing: border-box;top: 0;bottom: 0;left: 50%;z-index: -1;}#sk-container-id-1 div.sk-parallel-item {display: flex;flex-direction: column;z-index: 1;position: relative;background-color: white;}#sk-container-id-1 div.sk-parallel-item:first-child::after {align-self: flex-end;width: 50%;}#sk-container-id-1 div.sk-parallel-item:last-child::after {align-self: flex-start;width: 50%;}#sk-container-id-1 div.sk-parallel-item:only-child::after {width: 0;}#sk-container-id-1 div.sk-dashed-wrapped {border: 1px dashed gray;margin: 0 0.4em 0.5em 0.4em;box-sizing: border-box;padding-bottom: 0.4em;background-color: white;}#sk-container-id-1 div.sk-label label {font-family: monospace;font-weight: bold;display: inline-block;line-height: 1.2em;}#sk-container-id-1 div.sk-label-container {text-align: center;}#sk-container-id-1 div.sk-container {/* jupyter's `normalize.less` sets `[hidden] { display: none; }` but bootstrap.min.css set `[hidden] { display: none !important; }` so we also need the `!important` here to be able to override the default hidden behavior on the sphinx rendered scikit-learn.org. See: https://github.com/scikit-learn/scikit-learn/issues/21755 */display: inline-block !important;position: relative;}#sk-container-id-1 div.sk-text-repr-fallback {display: none;}</style><div id=\"sk-container-id-1\" class=\"sk-top-container\"><div class=\"sk-text-repr-fallback\"><pre>Pipeline(steps=[(&#x27;scale&#x27;, StandardScaler()),\n",
       "                (&#x27;model&#x27;, LogisticRegression(C=0.1))])</pre><b>In a Jupyter environment, please rerun this cell to show the HTML representation or trust the notebook. <br />On GitHub, the HTML representation is unable to render, please try loading this page with nbviewer.org.</b></div><div class=\"sk-container\" hidden><div class=\"sk-item sk-dashed-wrapped\"><div class=\"sk-label-container\"><div class=\"sk-label sk-toggleable\"><input class=\"sk-toggleable__control sk-hidden--visually\" id=\"sk-estimator-id-1\" type=\"checkbox\" ><label for=\"sk-estimator-id-1\" class=\"sk-toggleable__label sk-toggleable__label-arrow\">Pipeline</label><div class=\"sk-toggleable__content\"><pre>Pipeline(steps=[(&#x27;scale&#x27;, StandardScaler()),\n",
       "                (&#x27;model&#x27;, LogisticRegression(C=0.1))])</pre></div></div></div><div class=\"sk-serial\"><div class=\"sk-item\"><div class=\"sk-estimator sk-toggleable\"><input class=\"sk-toggleable__control sk-hidden--visually\" id=\"sk-estimator-id-2\" type=\"checkbox\" ><label for=\"sk-estimator-id-2\" class=\"sk-toggleable__label sk-toggleable__label-arrow\">StandardScaler</label><div class=\"sk-toggleable__content\"><pre>StandardScaler()</pre></div></div></div><div class=\"sk-item\"><div class=\"sk-estimator sk-toggleable\"><input class=\"sk-toggleable__control sk-hidden--visually\" id=\"sk-estimator-id-3\" type=\"checkbox\" ><label for=\"sk-estimator-id-3\" class=\"sk-toggleable__label sk-toggleable__label-arrow\">LogisticRegression</label><div class=\"sk-toggleable__content\"><pre>LogisticRegression(C=0.1)</pre></div></div></div></div></div></div></div>"
      ],
      "text/plain": [
       "Pipeline(steps=[('scale', StandardScaler()),\n",
       "                ('model', LogisticRegression(C=0.1))])"
      ]
     },
     "execution_count": 34,
     "metadata": {},
     "output_type": "execute_result"
    }
   ],
   "source": [
    "model.fit(X_train, y_train.values.ravel())"
   ]
  },
  {
   "cell_type": "code",
   "execution_count": 35,
   "id": "6e15e313",
   "metadata": {
    "execution": {
     "iopub.execute_input": "2025-08-19T19:05:36.801696Z",
     "iopub.status.busy": "2025-08-19T19:05:36.801244Z",
     "iopub.status.idle": "2025-08-19T19:05:36.999676Z",
     "shell.execute_reply": "2025-08-19T19:05:36.998792Z"
    },
    "papermill": {
     "duration": 0.213956,
     "end_time": "2025-08-19T19:05:37.002897",
     "exception": false,
     "start_time": "2025-08-19T19:05:36.788941",
     "status": "completed"
    },
    "tags": []
   },
   "outputs": [
    {
     "data": {
      "text/plain": [
       "0.8385575744064206"
      ]
     },
     "execution_count": 35,
     "metadata": {},
     "output_type": "execute_result"
    }
   ],
   "source": [
    "from fairness_multiverse.universe import predict_w_threshold\n",
    "\n",
    "probs_test = model.predict_proba(X_test)\n",
    "\n",
    "'''\n",
    "Below code returns a boolean array (or binary 0/1 array depending on how it’s used) where each element \n",
    "is True if the probability of class 1 is greater than or equal to the threshold, and False otherwise.\n",
    "'''\n",
    "y_pred_default = predict_w_threshold(probs_test, 0.5)\n",
    "\n",
    "from sklearn.metrics import accuracy_score\n",
    "\n",
    "# Naive prediction\n",
    "accuracy_score(y_true = y_true, y_pred = y_pred_default)"
   ]
  },
  {
   "cell_type": "code",
   "execution_count": 36,
   "id": "6f14067c",
   "metadata": {
    "execution": {
     "iopub.execute_input": "2025-08-19T19:05:37.045477Z",
     "iopub.status.busy": "2025-08-19T19:05:37.044796Z",
     "iopub.status.idle": "2025-08-19T19:05:37.241980Z",
     "shell.execute_reply": "2025-08-19T19:05:37.241015Z"
    },
    "papermill": {
     "duration": 0.216192,
     "end_time": "2025-08-19T19:05:37.245025",
     "exception": false,
     "start_time": "2025-08-19T19:05:37.028833",
     "status": "completed"
    },
    "tags": []
   },
   "outputs": [
    {
     "data": {
      "text/plain": [
       "array([0, 0, 0, ..., 0, 0, 0])"
      ]
     },
     "execution_count": 36,
     "metadata": {},
     "output_type": "execute_result"
    }
   ],
   "source": [
    "model.predict(X_test)"
   ]
  },
  {
   "cell_type": "markdown",
   "id": "3759920c",
   "metadata": {
    "papermill": {
     "duration": 0.013335,
     "end_time": "2025-08-19T19:05:37.286102",
     "exception": false,
     "start_time": "2025-08-19T19:05:37.272767",
     "status": "completed"
    },
    "tags": []
   },
   "source": [
    "# Conformal Prediction"
   ]
  },
  {
   "cell_type": "code",
   "execution_count": 37,
   "id": "14b27f59",
   "metadata": {
    "execution": {
     "iopub.execute_input": "2025-08-19T19:05:37.312791Z",
     "iopub.status.busy": "2025-08-19T19:05:37.311978Z",
     "iopub.status.idle": "2025-08-19T19:05:37.319334Z",
     "shell.execute_reply": "2025-08-19T19:05:37.317830Z"
    },
    "papermill": {
     "duration": 0.026652,
     "end_time": "2025-08-19T19:05:37.324595",
     "exception": false,
     "start_time": "2025-08-19T19:05:37.297943",
     "status": "completed"
    },
    "tags": []
   },
   "outputs": [],
   "source": [
    "# Miscoverage level for conformal prediction (10% allowed error rate => 90% target coverage)\n",
    "alpha = 0.1"
   ]
  },
  {
   "cell_type": "code",
   "execution_count": 38,
   "id": "59102472",
   "metadata": {
    "execution": {
     "iopub.execute_input": "2025-08-19T19:05:37.356002Z",
     "iopub.status.busy": "2025-08-19T19:05:37.355242Z",
     "iopub.status.idle": "2025-08-19T19:05:37.539001Z",
     "shell.execute_reply": "2025-08-19T19:05:37.537655Z"
    },
    "papermill": {
     "duration": 0.202222,
     "end_time": "2025-08-19T19:05:37.542928",
     "exception": false,
     "start_time": "2025-08-19T19:05:37.340706",
     "status": "completed"
    },
    "tags": []
   },
   "outputs": [],
   "source": [
    "probs_calib = model.predict_proba(X_calib)"
   ]
  },
  {
   "cell_type": "code",
   "execution_count": 39,
   "id": "a792d4dd",
   "metadata": {
    "execution": {
     "iopub.execute_input": "2025-08-19T19:05:37.581910Z",
     "iopub.status.busy": "2025-08-19T19:05:37.581577Z",
     "iopub.status.idle": "2025-08-19T19:05:37.586328Z",
     "shell.execute_reply": "2025-08-19T19:05:37.585615Z"
    },
    "papermill": {
     "duration": 0.020415,
     "end_time": "2025-08-19T19:05:37.587477",
     "exception": false,
     "start_time": "2025-08-19T19:05:37.567062",
     "status": "completed"
    },
    "tags": []
   },
   "outputs": [],
   "source": [
    "y_calib = y_calib.values.ravel().astype(int)"
   ]
  },
  {
   "cell_type": "code",
   "execution_count": 40,
   "id": "650fd033",
   "metadata": {
    "execution": {
     "iopub.execute_input": "2025-08-19T19:05:37.612623Z",
     "iopub.status.busy": "2025-08-19T19:05:37.612278Z",
     "iopub.status.idle": "2025-08-19T19:05:37.618304Z",
     "shell.execute_reply": "2025-08-19T19:05:37.617644Z"
    },
    "papermill": {
     "duration": 0.020379,
     "end_time": "2025-08-19T19:05:37.619630",
     "exception": false,
     "start_time": "2025-08-19T19:05:37.599251",
     "status": "completed"
    },
    "tags": []
   },
   "outputs": [],
   "source": [
    "from fairness_multiverse.conformal import compute_nc_scores\n",
    "\n",
    "# Compute nonconformity scores on calibration set (1 - probability of true class)\n",
    "nc_scores = compute_nc_scores(probs_calib, y_calib)"
   ]
  },
  {
   "cell_type": "code",
   "execution_count": 41,
   "id": "28ada44c",
   "metadata": {
    "execution": {
     "iopub.execute_input": "2025-08-19T19:05:37.645713Z",
     "iopub.status.busy": "2025-08-19T19:05:37.644809Z",
     "iopub.status.idle": "2025-08-19T19:05:37.652965Z",
     "shell.execute_reply": "2025-08-19T19:05:37.651904Z"
    },
    "papermill": {
     "duration": 0.022938,
     "end_time": "2025-08-19T19:05:37.654570",
     "exception": false,
     "start_time": "2025-08-19T19:05:37.631632",
     "status": "completed"
    },
    "tags": []
   },
   "outputs": [],
   "source": [
    "from fairness_multiverse.conformal import find_threshold\n",
    "\n",
    "# Find conformal threshold q_hat for the given alpha (split conformal method)\n",
    "q_hat = find_threshold(nc_scores, alpha)"
   ]
  },
  {
   "cell_type": "code",
   "execution_count": 42,
   "id": "df56469e",
   "metadata": {
    "execution": {
     "iopub.execute_input": "2025-08-19T19:05:37.682728Z",
     "iopub.status.busy": "2025-08-19T19:05:37.681740Z",
     "iopub.status.idle": "2025-08-19T19:05:37.692331Z",
     "shell.execute_reply": "2025-08-19T19:05:37.691002Z"
    },
    "papermill": {
     "duration": 0.026673,
     "end_time": "2025-08-19T19:05:37.694168",
     "exception": false,
     "start_time": "2025-08-19T19:05:37.667495",
     "status": "completed"
    },
    "tags": []
   },
   "outputs": [
    {
     "data": {
      "text/plain": [
       "0.7286195536145235"
      ]
     },
     "execution_count": 42,
     "metadata": {},
     "output_type": "execute_result"
    }
   ],
   "source": [
    "q_hat"
   ]
  },
  {
   "cell_type": "code",
   "execution_count": 43,
   "id": "aa1f5faa",
   "metadata": {
    "execution": {
     "iopub.execute_input": "2025-08-19T19:05:37.723141Z",
     "iopub.status.busy": "2025-08-19T19:05:37.721948Z",
     "iopub.status.idle": "2025-08-19T19:05:38.357205Z",
     "shell.execute_reply": "2025-08-19T19:05:38.356289Z"
    },
    "papermill": {
     "duration": 0.65132,
     "end_time": "2025-08-19T19:05:38.358998",
     "exception": false,
     "start_time": "2025-08-19T19:05:37.707678",
     "status": "completed"
    },
    "tags": []
   },
   "outputs": [],
   "source": [
    "from fairness_multiverse.conformal import predict_conformal_sets\n",
    "\n",
    "# Generate prediction sets for each test example\n",
    "pred_sets = predict_conformal_sets(model, X_test, q_hat)"
   ]
  },
  {
   "cell_type": "code",
   "execution_count": 44,
   "id": "97f67a6b",
   "metadata": {
    "execution": {
     "iopub.execute_input": "2025-08-19T19:05:38.390186Z",
     "iopub.status.busy": "2025-08-19T19:05:38.389677Z",
     "iopub.status.idle": "2025-08-19T19:05:38.394777Z",
     "shell.execute_reply": "2025-08-19T19:05:38.393960Z"
    },
    "papermill": {
     "duration": 0.023492,
     "end_time": "2025-08-19T19:05:38.396336",
     "exception": false,
     "start_time": "2025-08-19T19:05:38.372844",
     "status": "completed"
    },
    "tags": []
   },
   "outputs": [],
   "source": [
    "y_true = y_true.squeeze()"
   ]
  },
  {
   "cell_type": "code",
   "execution_count": 45,
   "id": "e700e9a7",
   "metadata": {
    "execution": {
     "iopub.execute_input": "2025-08-19T19:05:38.421991Z",
     "iopub.status.busy": "2025-08-19T19:05:38.421564Z",
     "iopub.status.idle": "2025-08-19T19:05:38.933247Z",
     "shell.execute_reply": "2025-08-19T19:05:38.931929Z"
    },
    "papermill": {
     "duration": 0.526604,
     "end_time": "2025-08-19T19:05:38.934913",
     "exception": false,
     "start_time": "2025-08-19T19:05:38.408309",
     "status": "completed"
    },
    "tags": []
   },
   "outputs": [],
   "source": [
    "from fairness_multiverse.conformal import evaluate_sets\n",
    "\n",
    "# Evaluate coverage and average set size on test data\n",
    "metrics = evaluate_sets(pred_sets, y_true)"
   ]
  },
  {
   "cell_type": "markdown",
   "id": "efbacec0",
   "metadata": {
    "papermill": {
     "duration": 0.011933,
     "end_time": "2025-08-19T19:05:38.959170",
     "exception": false,
     "start_time": "2025-08-19T19:05:38.947237",
     "status": "completed"
    },
    "tags": []
   },
   "source": [
    "# CP Metrics"
   ]
  },
  {
   "cell_type": "code",
   "execution_count": 46,
   "id": "9de55fb1",
   "metadata": {
    "execution": {
     "iopub.execute_input": "2025-08-19T19:05:38.987420Z",
     "iopub.status.busy": "2025-08-19T19:05:38.986493Z",
     "iopub.status.idle": "2025-08-19T19:05:38.999432Z",
     "shell.execute_reply": "2025-08-19T19:05:38.998305Z"
    },
    "papermill": {
     "duration": 0.030068,
     "end_time": "2025-08-19T19:05:39.001313",
     "exception": false,
     "start_time": "2025-08-19T19:05:38.971245",
     "status": "completed"
    },
    "tags": []
   },
   "outputs": [
    {
     "data": {
      "text/plain": [
       "{'coverage': 0.9093746516553338, 'avg_size': 1.1908371419016832}"
      ]
     },
     "execution_count": 46,
     "metadata": {},
     "output_type": "execute_result"
    }
   ],
   "source": [
    "metrics"
   ]
  },
  {
   "cell_type": "code",
   "execution_count": 47,
   "id": "64c340a1",
   "metadata": {
    "execution": {
     "iopub.execute_input": "2025-08-19T19:05:39.031211Z",
     "iopub.status.busy": "2025-08-19T19:05:39.030434Z",
     "iopub.status.idle": "2025-08-19T19:05:39.041893Z",
     "shell.execute_reply": "2025-08-19T19:05:39.040572Z"
    },
    "papermill": {
     "duration": 0.027996,
     "end_time": "2025-08-19T19:05:39.043817",
     "exception": false,
     "start_time": "2025-08-19T19:05:39.015821",
     "status": "completed"
    },
    "tags": []
   },
   "outputs": [],
   "source": [
    "example_universe = universe.copy()\n",
    "universe_training_year = example_universe.get(\"training_year\")\n",
    "universe_training_size = example_universe.get(\"training_size\")\n",
    "universe_scale = example_universe.get(\"scale\")\n",
    "universe_model = example_universe.get(\"model\")\n",
    "universe_exclude_features = example_universe.get(\"exclude_features\")\n",
    "universe_exclude_subgroups = example_universe.get(\"exclude_subgroups\")"
   ]
  },
  {
   "cell_type": "code",
   "execution_count": 48,
   "id": "dbb53cb4",
   "metadata": {
    "execution": {
     "iopub.execute_input": "2025-08-19T19:05:39.075385Z",
     "iopub.status.busy": "2025-08-19T19:05:39.074603Z",
     "iopub.status.idle": "2025-08-19T19:05:39.085545Z",
     "shell.execute_reply": "2025-08-19T19:05:39.084092Z"
    },
    "papermill": {
     "duration": 0.027373,
     "end_time": "2025-08-19T19:05:39.087368",
     "exception": false,
     "start_time": "2025-08-19T19:05:39.059995",
     "status": "completed"
    },
    "tags": []
   },
   "outputs": [],
   "source": [
    "cp_metrics_dict = {\n",
    "    \"universe_id\": [universe_id],\n",
    "    \"universe_training_year\": [universe_training_year],\n",
    "    \"universe_training_size\": [universe_training_size],\n",
    "    \"universe_scale\": [universe_scale],\n",
    "    \"universe_model\": [universe_model],\n",
    "    \"universe_exclude_features\": [universe_exclude_features],\n",
    "    \"universe_exclude_subgroups\": [universe_exclude_subgroups],\n",
    "    \"q_hat\": [q_hat],\n",
    "    \"coverage\": [metrics[\"coverage\"]],\n",
    "    \"avg_size\": [metrics[\"avg_size\"]],\n",
    "}"
   ]
  },
  {
   "cell_type": "code",
   "execution_count": 49,
   "id": "0d70d4b2",
   "metadata": {
    "execution": {
     "iopub.execute_input": "2025-08-19T19:05:39.118836Z",
     "iopub.status.busy": "2025-08-19T19:05:39.118089Z",
     "iopub.status.idle": "2025-08-19T19:05:39.129783Z",
     "shell.execute_reply": "2025-08-19T19:05:39.128690Z"
    },
    "papermill": {
     "duration": 0.028426,
     "end_time": "2025-08-19T19:05:39.131699",
     "exception": false,
     "start_time": "2025-08-19T19:05:39.103273",
     "status": "completed"
    },
    "tags": []
   },
   "outputs": [],
   "source": [
    "cp_metrics_df = pd.DataFrame(cp_metrics_dict)"
   ]
  },
  {
   "cell_type": "code",
   "execution_count": 50,
   "id": "b494403c",
   "metadata": {
    "execution": {
     "iopub.execute_input": "2025-08-19T19:05:39.162283Z",
     "iopub.status.busy": "2025-08-19T19:05:39.161553Z",
     "iopub.status.idle": "2025-08-19T19:05:39.186046Z",
     "shell.execute_reply": "2025-08-19T19:05:39.184878Z"
    },
    "papermill": {
     "duration": 0.041583,
     "end_time": "2025-08-19T19:05:39.188294",
     "exception": false,
     "start_time": "2025-08-19T19:05:39.146711",
     "status": "completed"
    },
    "tags": []
   },
   "outputs": [
    {
     "data": {
      "text/html": [
       "<div>\n",
       "<style scoped>\n",
       "    .dataframe tbody tr th:only-of-type {\n",
       "        vertical-align: middle;\n",
       "    }\n",
       "\n",
       "    .dataframe tbody tr th {\n",
       "        vertical-align: top;\n",
       "    }\n",
       "\n",
       "    .dataframe thead th {\n",
       "        text-align: right;\n",
       "    }\n",
       "</style>\n",
       "<table border=\"1\" class=\"dataframe\">\n",
       "  <thead>\n",
       "    <tr style=\"text-align: right;\">\n",
       "      <th></th>\n",
       "      <th>universe_id</th>\n",
       "      <th>universe_training_year</th>\n",
       "      <th>universe_training_size</th>\n",
       "      <th>universe_scale</th>\n",
       "      <th>universe_model</th>\n",
       "      <th>universe_exclude_features</th>\n",
       "      <th>universe_exclude_subgroups</th>\n",
       "      <th>q_hat</th>\n",
       "      <th>coverage</th>\n",
       "      <th>avg_size</th>\n",
       "    </tr>\n",
       "  </thead>\n",
       "  <tbody>\n",
       "    <tr>\n",
       "      <th>0</th>\n",
       "      <td>2e00861bf82aee3171e83bde712878ac</td>\n",
       "      <td>2010_14</td>\n",
       "      <td>1k</td>\n",
       "      <td>scale</td>\n",
       "      <td>penalized_logreg</td>\n",
       "      <td>nationality</td>\n",
       "      <td>keep-all</td>\n",
       "      <td>0.72862</td>\n",
       "      <td>0.909375</td>\n",
       "      <td>1.190837</td>\n",
       "    </tr>\n",
       "  </tbody>\n",
       "</table>\n",
       "</div>"
      ],
      "text/plain": [
       "                        universe_id universe_training_year  \\\n",
       "0  2e00861bf82aee3171e83bde712878ac                2010_14   \n",
       "\n",
       "  universe_training_size universe_scale    universe_model  \\\n",
       "0                     1k          scale  penalized_logreg   \n",
       "\n",
       "  universe_exclude_features universe_exclude_subgroups    q_hat  coverage  \\\n",
       "0               nationality                   keep-all  0.72862  0.909375   \n",
       "\n",
       "   avg_size  \n",
       "0  1.190837  "
      ]
     },
     "execution_count": 50,
     "metadata": {},
     "output_type": "execute_result"
    }
   ],
   "source": [
    "cp_metrics_df"
   ]
  },
  {
   "cell_type": "markdown",
   "id": "ed608b0b",
   "metadata": {
    "papermill": {
     "duration": 0.013374,
     "end_time": "2025-08-19T19:05:39.219624",
     "exception": false,
     "start_time": "2025-08-19T19:05:39.206250",
     "status": "completed"
    },
    "tags": []
   },
   "source": [
    "Conditional coverage & looking at subgroups"
   ]
  },
  {
   "cell_type": "code",
   "execution_count": 51,
   "id": "8968c366",
   "metadata": {
    "execution": {
     "iopub.execute_input": "2025-08-19T19:05:39.247523Z",
     "iopub.status.busy": "2025-08-19T19:05:39.246745Z",
     "iopub.status.idle": "2025-08-19T19:05:39.561786Z",
     "shell.execute_reply": "2025-08-19T19:05:39.560810Z"
    },
    "papermill": {
     "duration": 0.331453,
     "end_time": "2025-08-19T19:05:39.563370",
     "exception": false,
     "start_time": "2025-08-19T19:05:39.231917",
     "status": "completed"
    },
    "tags": []
   },
   "outputs": [],
   "source": [
    "from fairness_multiverse.conformal import build_cp_groups\n",
    "\n",
    "cp_groups_df = build_cp_groups(pred_sets, y_true, X_test.index, org_test)"
   ]
  },
  {
   "cell_type": "code",
   "execution_count": 52,
   "id": "292ddabf",
   "metadata": {
    "execution": {
     "iopub.execute_input": "2025-08-19T19:05:39.591594Z",
     "iopub.status.busy": "2025-08-19T19:05:39.590510Z",
     "iopub.status.idle": "2025-08-19T19:05:40.462162Z",
     "shell.execute_reply": "2025-08-19T19:05:40.460971Z"
    },
    "papermill": {
     "duration": 0.887587,
     "end_time": "2025-08-19T19:05:40.463669",
     "exception": false,
     "start_time": "2025-08-19T19:05:39.576082",
     "status": "completed"
    },
    "tags": []
   },
   "outputs": [],
   "source": [
    "# Define covered = 1 if true_label is in the predicted set\n",
    "cp_groups_df['covered'] = cp_groups_df.apply(\n",
    "    lambda r: int(r['true_label'] in r['pred_set']),\n",
    "    axis=1\n",
    ")"
   ]
  },
  {
   "cell_type": "code",
   "execution_count": 53,
   "id": "3a261692",
   "metadata": {
    "execution": {
     "iopub.execute_input": "2025-08-19T19:05:40.491666Z",
     "iopub.status.busy": "2025-08-19T19:05:40.491300Z",
     "iopub.status.idle": "2025-08-19T19:05:40.504871Z",
     "shell.execute_reply": "2025-08-19T19:05:40.504067Z"
    },
    "papermill": {
     "duration": 0.030077,
     "end_time": "2025-08-19T19:05:40.506379",
     "exception": false,
     "start_time": "2025-08-19T19:05:40.476302",
     "status": "completed"
    },
    "tags": []
   },
   "outputs": [],
   "source": [
    "subgroups = ['frau1','nongerman','nongerman_male','nongerman_female']\n",
    "\n",
    "# Conditional coverage for subgroup==1\n",
    "cond_coverage = {\n",
    "    g: cp_groups_df.loc[cp_groups_df[g]==1, 'covered'].mean()\n",
    "    for g in subgroups\n",
    "}"
   ]
  },
  {
   "cell_type": "code",
   "execution_count": 54,
   "id": "894fd600",
   "metadata": {
    "execution": {
     "iopub.execute_input": "2025-08-19T19:05:40.536777Z",
     "iopub.status.busy": "2025-08-19T19:05:40.535820Z",
     "iopub.status.idle": "2025-08-19T19:05:40.546024Z",
     "shell.execute_reply": "2025-08-19T19:05:40.544795Z"
    },
    "papermill": {
     "duration": 0.026126,
     "end_time": "2025-08-19T19:05:40.547789",
     "exception": false,
     "start_time": "2025-08-19T19:05:40.521663",
     "status": "completed"
    },
    "tags": []
   },
   "outputs": [
    {
     "data": {
      "text/plain": [
       "{'frau1': 0.9104191939614503,\n",
       " 'nongerman': 0.9127042047942514,\n",
       " 'nongerman_male': 0.9261460866432496,\n",
       " 'nongerman_female': 0.8904619970193741}"
      ]
     },
     "execution_count": 54,
     "metadata": {},
     "output_type": "execute_result"
    }
   ],
   "source": [
    "cond_coverage"
   ]
  },
  {
   "cell_type": "code",
   "execution_count": 55,
   "id": "942895c7",
   "metadata": {
    "execution": {
     "iopub.execute_input": "2025-08-19T19:05:40.577707Z",
     "iopub.status.busy": "2025-08-19T19:05:40.576712Z",
     "iopub.status.idle": "2025-08-19T19:05:40.588304Z",
     "shell.execute_reply": "2025-08-19T19:05:40.587091Z"
    },
    "papermill": {
     "duration": 0.028317,
     "end_time": "2025-08-19T19:05:40.590376",
     "exception": false,
     "start_time": "2025-08-19T19:05:40.562059",
     "status": "completed"
    },
    "tags": []
   },
   "outputs": [],
   "source": [
    "for subgroup, cov in cond_coverage.items():\n",
    "    cp_metrics_df[f\"cov_{subgroup}\"] = cov"
   ]
  },
  {
   "cell_type": "code",
   "execution_count": 56,
   "id": "3970120f",
   "metadata": {
    "execution": {
     "iopub.execute_input": "2025-08-19T19:05:40.621136Z",
     "iopub.status.busy": "2025-08-19T19:05:40.620167Z",
     "iopub.status.idle": "2025-08-19T19:05:40.646878Z",
     "shell.execute_reply": "2025-08-19T19:05:40.645642Z"
    },
    "papermill": {
     "duration": 0.044555,
     "end_time": "2025-08-19T19:05:40.650020",
     "exception": false,
     "start_time": "2025-08-19T19:05:40.605465",
     "status": "completed"
    },
    "tags": []
   },
   "outputs": [
    {
     "data": {
      "text/html": [
       "<div>\n",
       "<style scoped>\n",
       "    .dataframe tbody tr th:only-of-type {\n",
       "        vertical-align: middle;\n",
       "    }\n",
       "\n",
       "    .dataframe tbody tr th {\n",
       "        vertical-align: top;\n",
       "    }\n",
       "\n",
       "    .dataframe thead th {\n",
       "        text-align: right;\n",
       "    }\n",
       "</style>\n",
       "<table border=\"1\" class=\"dataframe\">\n",
       "  <thead>\n",
       "    <tr style=\"text-align: right;\">\n",
       "      <th></th>\n",
       "      <th>universe_id</th>\n",
       "      <th>universe_training_year</th>\n",
       "      <th>universe_training_size</th>\n",
       "      <th>universe_scale</th>\n",
       "      <th>universe_model</th>\n",
       "      <th>universe_exclude_features</th>\n",
       "      <th>universe_exclude_subgroups</th>\n",
       "      <th>q_hat</th>\n",
       "      <th>coverage</th>\n",
       "      <th>avg_size</th>\n",
       "      <th>cov_frau1</th>\n",
       "      <th>cov_nongerman</th>\n",
       "      <th>cov_nongerman_male</th>\n",
       "      <th>cov_nongerman_female</th>\n",
       "    </tr>\n",
       "  </thead>\n",
       "  <tbody>\n",
       "    <tr>\n",
       "      <th>0</th>\n",
       "      <td>2e00861bf82aee3171e83bde712878ac</td>\n",
       "      <td>2010_14</td>\n",
       "      <td>1k</td>\n",
       "      <td>scale</td>\n",
       "      <td>penalized_logreg</td>\n",
       "      <td>nationality</td>\n",
       "      <td>keep-all</td>\n",
       "      <td>0.72862</td>\n",
       "      <td>0.909375</td>\n",
       "      <td>1.190837</td>\n",
       "      <td>0.910419</td>\n",
       "      <td>0.912704</td>\n",
       "      <td>0.926146</td>\n",
       "      <td>0.890462</td>\n",
       "    </tr>\n",
       "  </tbody>\n",
       "</table>\n",
       "</div>"
      ],
      "text/plain": [
       "                        universe_id universe_training_year  \\\n",
       "0  2e00861bf82aee3171e83bde712878ac                2010_14   \n",
       "\n",
       "  universe_training_size universe_scale    universe_model  \\\n",
       "0                     1k          scale  penalized_logreg   \n",
       "\n",
       "  universe_exclude_features universe_exclude_subgroups    q_hat  coverage  \\\n",
       "0               nationality                   keep-all  0.72862  0.909375   \n",
       "\n",
       "   avg_size  cov_frau1  cov_nongerman  cov_nongerman_male  \\\n",
       "0  1.190837   0.910419       0.912704            0.926146   \n",
       "\n",
       "   cov_nongerman_female  \n",
       "0              0.890462  "
      ]
     },
     "execution_count": 56,
     "metadata": {},
     "output_type": "execute_result"
    }
   ],
   "source": [
    "cp_metrics_df"
   ]
  },
  {
   "cell_type": "markdown",
   "id": "3fc519cc",
   "metadata": {
    "papermill": {
     "duration": 0.013754,
     "end_time": "2025-08-19T19:05:40.685992",
     "exception": false,
     "start_time": "2025-08-19T19:05:40.672238",
     "status": "completed"
    },
    "tags": []
   },
   "source": [
    "# (Fairness) Metrics"
   ]
  },
  {
   "cell_type": "code",
   "execution_count": 57,
   "id": "a2e5e155",
   "metadata": {
    "execution": {
     "iopub.execute_input": "2025-08-19T19:05:40.714803Z",
     "iopub.status.busy": "2025-08-19T19:05:40.713527Z",
     "iopub.status.idle": "2025-08-19T19:05:40.742541Z",
     "shell.execute_reply": "2025-08-19T19:05:40.741693Z"
    },
    "papermill": {
     "duration": 0.045924,
     "end_time": "2025-08-19T19:05:40.744602",
     "exception": false,
     "start_time": "2025-08-19T19:05:40.698678",
     "status": "completed"
    },
    "tags": []
   },
   "outputs": [],
   "source": [
    "colname_to_bin = \"maxdeutsch1\"\n",
    "majority_value = org_train[colname_to_bin].mode()[0]\n",
    "\n",
    "org_test[\"majmin\"] = np.where(org_test[colname_to_bin] == majority_value, \"majority\", \"minority\")"
   ]
  },
  {
   "cell_type": "code",
   "execution_count": 58,
   "id": "17e3e4d5",
   "metadata": {
    "execution": {
     "iopub.execute_input": "2025-08-19T19:05:40.786958Z",
     "iopub.status.busy": "2025-08-19T19:05:40.785633Z",
     "iopub.status.idle": "2025-08-19T19:05:42.585511Z",
     "shell.execute_reply": "2025-08-19T19:05:42.583956Z"
    },
    "papermill": {
     "duration": 1.817727,
     "end_time": "2025-08-19T19:05:42.587411",
     "exception": false,
     "start_time": "2025-08-19T19:05:40.769684",
     "status": "completed"
    },
    "tags": []
   },
   "outputs": [],
   "source": [
    "example_universe = universe.copy()\n",
    "example_universe[\"cutoff\"] = example_universe[\"cutoff\"][0]\n",
    "example_universe[\"eval_fairness_grouping\"] = example_universe[\"eval_fairness_grouping\"][0]\n",
    "fairness_dict, metric_frame = universe_analysis.compute_metrics(\n",
    "    example_universe,\n",
    "    y_pred_prob=probs_test,\n",
    "    y_test=y_true,\n",
    "    org_test=org_test,\n",
    ")"
   ]
  },
  {
   "cell_type": "markdown",
   "id": "1fb7a0e9",
   "metadata": {
    "papermill": {
     "duration": 0.014025,
     "end_time": "2025-08-19T19:05:42.614604",
     "exception": false,
     "start_time": "2025-08-19T19:05:42.600579",
     "status": "completed"
    },
    "tags": []
   },
   "source": [
    "# Overall"
   ]
  },
  {
   "cell_type": "markdown",
   "id": "be1784b1",
   "metadata": {
    "papermill": {
     "duration": 0.013365,
     "end_time": "2025-08-19T19:05:42.640916",
     "exception": false,
     "start_time": "2025-08-19T19:05:42.627551",
     "status": "completed"
    },
    "tags": []
   },
   "source": [
    "Main fairness target: Equalized Odds. Seems to be a better fit than equal opportunity, since we're not only interested in Y = 1. Seems to be a better fit than demographic parity, since we also care about accuracy, not just equal distribution of preds.\n",
    "\n",
    "Pick column for computation of fairness metrics\n",
    "\n",
    "Performance\n",
    "Overall performance measures, most interesting in relation to the measures split by group below"
   ]
  },
  {
   "cell_type": "code",
   "execution_count": 59,
   "id": "b7672bee",
   "metadata": {
    "execution": {
     "iopub.execute_input": "2025-08-19T19:05:42.668700Z",
     "iopub.status.busy": "2025-08-19T19:05:42.668289Z",
     "iopub.status.idle": "2025-08-19T19:05:42.679101Z",
     "shell.execute_reply": "2025-08-19T19:05:42.677943Z"
    },
    "papermill": {
     "duration": 0.031549,
     "end_time": "2025-08-19T19:05:42.685460",
     "exception": false,
     "start_time": "2025-08-19T19:05:42.653911",
     "status": "completed"
    },
    "tags": []
   },
   "outputs": [
    {
     "data": {
      "text/plain": [
       "accuracy                   0.220210\n",
       "balanced accuracy          0.539315\n",
       "f1                         0.241656\n",
       "precision                  0.138050\n",
       "false positive rate        0.889913\n",
       "false negative rate        0.031456\n",
       "selection rate             0.900000\n",
       "count                  89710.000000\n",
       "dtype: float64"
      ]
     },
     "execution_count": 59,
     "metadata": {},
     "output_type": "execute_result"
    }
   ],
   "source": [
    "metric_frame.overall"
   ]
  },
  {
   "cell_type": "markdown",
   "id": "d93333c9",
   "metadata": {
    "papermill": {
     "duration": 0.013713,
     "end_time": "2025-08-19T19:05:42.723732",
     "exception": false,
     "start_time": "2025-08-19T19:05:42.710019",
     "status": "completed"
    },
    "tags": []
   },
   "source": [
    "By Group"
   ]
  },
  {
   "cell_type": "code",
   "execution_count": 60,
   "id": "52256966",
   "metadata": {
    "execution": {
     "iopub.execute_input": "2025-08-19T19:05:42.753368Z",
     "iopub.status.busy": "2025-08-19T19:05:42.752769Z",
     "iopub.status.idle": "2025-08-19T19:05:42.766927Z",
     "shell.execute_reply": "2025-08-19T19:05:42.766203Z"
    },
    "papermill": {
     "duration": 0.030773,
     "end_time": "2025-08-19T19:05:42.768532",
     "exception": false,
     "start_time": "2025-08-19T19:05:42.737759",
     "status": "completed"
    },
    "tags": []
   },
   "outputs": [
    {
     "data": {
      "text/html": [
       "<div>\n",
       "<style scoped>\n",
       "    .dataframe tbody tr th:only-of-type {\n",
       "        vertical-align: middle;\n",
       "    }\n",
       "\n",
       "    .dataframe tbody tr th {\n",
       "        vertical-align: top;\n",
       "    }\n",
       "\n",
       "    .dataframe thead th {\n",
       "        text-align: right;\n",
       "    }\n",
       "</style>\n",
       "<table border=\"1\" class=\"dataframe\">\n",
       "  <thead>\n",
       "    <tr style=\"text-align: right;\">\n",
       "      <th></th>\n",
       "      <th>accuracy</th>\n",
       "      <th>balanced accuracy</th>\n",
       "      <th>f1</th>\n",
       "      <th>precision</th>\n",
       "      <th>false positive rate</th>\n",
       "      <th>false negative rate</th>\n",
       "      <th>selection rate</th>\n",
       "      <th>count</th>\n",
       "    </tr>\n",
       "    <tr>\n",
       "      <th>majmin</th>\n",
       "      <th></th>\n",
       "      <th></th>\n",
       "      <th></th>\n",
       "      <th></th>\n",
       "      <th></th>\n",
       "      <th></th>\n",
       "      <th></th>\n",
       "      <th></th>\n",
       "    </tr>\n",
       "  </thead>\n",
       "  <tbody>\n",
       "    <tr>\n",
       "      <th>majority</th>\n",
       "      <td>0.234654</td>\n",
       "      <td>0.544732</td>\n",
       "      <td>0.250166</td>\n",
       "      <td>0.143685</td>\n",
       "      <td>0.876728</td>\n",
       "      <td>0.033807</td>\n",
       "      <td>0.888550</td>\n",
       "      <td>69170.0</td>\n",
       "    </tr>\n",
       "    <tr>\n",
       "      <th>minority</th>\n",
       "      <td>0.171568</td>\n",
       "      <td>0.522075</td>\n",
       "      <td>0.213896</td>\n",
       "      <td>0.120085</td>\n",
       "      <td>0.933469</td>\n",
       "      <td>0.022382</td>\n",
       "      <td>0.938559</td>\n",
       "      <td>20540.0</td>\n",
       "    </tr>\n",
       "  </tbody>\n",
       "</table>\n",
       "</div>"
      ],
      "text/plain": [
       "          accuracy  balanced accuracy        f1  precision  \\\n",
       "majmin                                                       \n",
       "majority  0.234654           0.544732  0.250166   0.143685   \n",
       "minority  0.171568           0.522075  0.213896   0.120085   \n",
       "\n",
       "          false positive rate  false negative rate  selection rate    count  \n",
       "majmin                                                                       \n",
       "majority             0.876728             0.033807        0.888550  69170.0  \n",
       "minority             0.933469             0.022382        0.938559  20540.0  "
      ]
     },
     "execution_count": 60,
     "metadata": {},
     "output_type": "execute_result"
    }
   ],
   "source": [
    "metric_frame.by_group"
   ]
  },
  {
   "cell_type": "code",
   "execution_count": 61,
   "id": "6e6c20ae",
   "metadata": {
    "execution": {
     "iopub.execute_input": "2025-08-19T19:05:42.801780Z",
     "iopub.status.busy": "2025-08-19T19:05:42.800373Z",
     "iopub.status.idle": "2025-08-19T19:05:44.773607Z",
     "shell.execute_reply": "2025-08-19T19:05:44.772562Z"
    },
    "papermill": {
     "duration": 1.989685,
     "end_time": "2025-08-19T19:05:44.775087",
     "exception": false,
     "start_time": "2025-08-19T19:05:42.785402",
     "status": "completed"
    },
    "tags": []
   },
   "outputs": [
    {
     "data": {
      "text/plain": [
       "array([[<Axes: title={'center': 'accuracy'}, xlabel='majmin'>,\n",
       "        <Axes: title={'center': 'balanced accuracy'}, xlabel='majmin'>,\n",
       "        <Axes: title={'center': 'f1'}, xlabel='majmin'>],\n",
       "       [<Axes: title={'center': 'precision'}, xlabel='majmin'>,\n",
       "        <Axes: title={'center': 'false positive rate'}, xlabel='majmin'>,\n",
       "        <Axes: title={'center': 'false negative rate'}, xlabel='majmin'>],\n",
       "       [<Axes: title={'center': 'selection rate'}, xlabel='majmin'>,\n",
       "        <Axes: title={'center': 'count'}, xlabel='majmin'>,\n",
       "        <Axes: xlabel='majmin'>]], dtype=object)"
      ]
     },
     "execution_count": 61,
     "metadata": {},
     "output_type": "execute_result"
    },
    {
     "data": {
      "image/png": "[encoded data removed]",
      "text/plain": [
       "<Figure size 1200x800 with 9 Axes>"
      ]
     },
     "metadata": {},
     "output_type": "display_data"
    }
   ],
   "source": [
    "# In a graphic\n",
    "metric_frame.by_group.plot.bar(\n",
    "    subplots=True,\n",
    "    layout=[3, 3],\n",
    "    legend=False,\n",
    "    figsize=[12, 8],\n",
    "    title=\"Show all metrics\",\n",
    ")"
   ]
  },
  {
   "cell_type": "markdown",
   "id": "b2e433ae",
   "metadata": {
    "papermill": {
     "duration": 0.014782,
     "end_time": "2025-08-19T19:05:44.805065",
     "exception": false,
     "start_time": "2025-08-19T19:05:44.790283",
     "status": "completed"
    },
    "tags": []
   },
   "source": [
    "# Final Output"
   ]
  },
  {
   "cell_type": "code",
   "execution_count": 62,
   "id": "3871301e",
   "metadata": {
    "execution": {
     "iopub.execute_input": "2025-08-19T19:05:44.839073Z",
     "iopub.status.busy": "2025-08-19T19:05:44.836445Z",
     "iopub.status.idle": "2025-08-19T19:05:44.855939Z",
     "shell.execute_reply": "2025-08-19T19:05:44.854852Z"
    },
    "papermill": {
     "duration": 0.039538,
     "end_time": "2025-08-19T19:05:44.859081",
     "exception": false,
     "start_time": "2025-08-19T19:05:44.819543",
     "status": "completed"
    },
    "tags": []
   },
   "outputs": [
    {
     "data": {
      "text/plain": [
       "4"
      ]
     },
     "execution_count": 62,
     "metadata": {},
     "output_type": "execute_result"
    }
   ],
   "source": [
    "sub_universes = universe_analysis.generate_sub_universes()\n",
    "len(sub_universes)"
   ]
  },
  {
   "cell_type": "code",
   "execution_count": 63,
   "id": "d9cfdaca",
   "metadata": {
    "execution": {
     "iopub.execute_input": "2025-08-19T19:05:44.911930Z",
     "iopub.status.busy": "2025-08-19T19:05:44.910161Z",
     "iopub.status.idle": "2025-08-19T19:05:44.920575Z",
     "shell.execute_reply": "2025-08-19T19:05:44.919171Z"
    },
    "papermill": {
     "duration": 0.035106,
     "end_time": "2025-08-19T19:05:44.922561",
     "exception": false,
     "start_time": "2025-08-19T19:05:44.887455",
     "status": "completed"
    },
    "tags": []
   },
   "outputs": [],
   "source": [
    "def filter_sub_universe_data(sub_universe, org_test):\n",
    "    # Keep all rows — no filtering\n",
    "    keep_rows_mask = np.ones(org_test.shape[0], dtype=bool)\n",
    "\n",
    "    print(f\"[INFO] Keeping all rows: {keep_rows_mask.sum()} rows retained.\")\n",
    "    return keep_rows_mask"
   ]
  },
  {
   "cell_type": "code",
   "execution_count": 64,
   "id": "2bc31ac1",
   "metadata": {
    "execution": {
     "iopub.execute_input": "2025-08-19T19:05:44.961877Z",
     "iopub.status.busy": "2025-08-19T19:05:44.960743Z",
     "iopub.status.idle": "2025-08-19T19:05:51.608945Z",
     "shell.execute_reply": "2025-08-19T19:05:51.607934Z"
    },
    "papermill": {
     "duration": 6.667498,
     "end_time": "2025-08-19T19:05:51.610202",
     "exception": false,
     "start_time": "2025-08-19T19:05:44.942704",
     "status": "completed"
    },
    "tags": []
   },
   "outputs": [
    {
     "name": "stdout",
     "output_type": "stream",
     "text": [
      "Stopping execution_time clock.\n",
      "[INFO] Keeping all rows: 89710 rows retained.\n"
     ]
    },
    {
     "name": "stdout",
     "output_type": "stream",
     "text": [
      "[INFO] Keeping all rows: 89710 rows retained.\n"
     ]
    },
    {
     "name": "stdout",
     "output_type": "stream",
     "text": [
      "[INFO] Keeping all rows: 89710 rows retained.\n"
     ]
    },
    {
     "name": "stdout",
     "output_type": "stream",
     "text": [
      "[INFO] Keeping all rows: 89710 rows retained.\n"
     ]
    },
    {
     "data": {
      "text/html": [
       "<div>\n",
       "<style scoped>\n",
       "    .dataframe tbody tr th:only-of-type {\n",
       "        vertical-align: middle;\n",
       "    }\n",
       "\n",
       "    .dataframe tbody tr th {\n",
       "        vertical-align: top;\n",
       "    }\n",
       "\n",
       "    .dataframe thead th {\n",
       "        text-align: right;\n",
       "    }\n",
       "</style>\n",
       "<table border=\"1\" class=\"dataframe\">\n",
       "  <thead>\n",
       "    <tr style=\"text-align: right;\">\n",
       "      <th></th>\n",
       "      <th>run_no</th>\n",
       "      <th>universe_id</th>\n",
       "      <th>universe_settings</th>\n",
       "      <th>execution_time</th>\n",
       "      <th>test_size_n</th>\n",
       "      <th>test_size_frac</th>\n",
       "      <th>fair_main_equalized_odds_difference</th>\n",
       "      <th>fair_main_equalized_odds_ratio</th>\n",
       "      <th>fair_main_demographic_parity_difference</th>\n",
       "      <th>fair_main_demographic_parity_ratio</th>\n",
       "      <th>...</th>\n",
       "      <th>perf_grp_precision_0</th>\n",
       "      <th>perf_grp_precision_1</th>\n",
       "      <th>perf_grp_false positive rate_0</th>\n",
       "      <th>perf_grp_false positive rate_1</th>\n",
       "      <th>perf_grp_false negative rate_0</th>\n",
       "      <th>perf_grp_false negative rate_1</th>\n",
       "      <th>perf_grp_selection rate_0</th>\n",
       "      <th>perf_grp_selection rate_1</th>\n",
       "      <th>perf_grp_count_0</th>\n",
       "      <th>perf_grp_count_1</th>\n",
       "    </tr>\n",
       "  </thead>\n",
       "  <tbody>\n",
       "    <tr>\n",
       "      <th>0</th>\n",
       "      <td>3</td>\n",
       "      <td>2e00861bf82aee3171e83bde712878ac</td>\n",
       "      <td>{\"cutoff\": \"quantile_0.1\", \"eval_fairness_grou...</td>\n",
       "      <td>21.26773</td>\n",
       "      <td>89710</td>\n",
       "      <td>1.0</td>\n",
       "      <td>0.056741</td>\n",
       "      <td>0.939215</td>\n",
       "      <td>0.050009</td>\n",
       "      <td>0.946717</td>\n",
       "      <td>...</td>\n",
       "      <td>NaN</td>\n",
       "      <td>NaN</td>\n",
       "      <td>NaN</td>\n",
       "      <td>NaN</td>\n",
       "      <td>NaN</td>\n",
       "      <td>NaN</td>\n",
       "      <td>NaN</td>\n",
       "      <td>NaN</td>\n",
       "      <td>NaN</td>\n",
       "      <td>NaN</td>\n",
       "    </tr>\n",
       "    <tr>\n",
       "      <th>0</th>\n",
       "      <td>3</td>\n",
       "      <td>2e00861bf82aee3171e83bde712878ac</td>\n",
       "      <td>{\"cutoff\": \"quantile_0.1\", \"eval_fairness_grou...</td>\n",
       "      <td>21.26773</td>\n",
       "      <td>89710</td>\n",
       "      <td>1.0</td>\n",
       "      <td>0.056741</td>\n",
       "      <td>0.939215</td>\n",
       "      <td>0.050009</td>\n",
       "      <td>0.946717</td>\n",
       "      <td>...</td>\n",
       "      <td>0.120085</td>\n",
       "      <td>0.143685</td>\n",
       "      <td>0.933469</td>\n",
       "      <td>0.876728</td>\n",
       "      <td>0.022382</td>\n",
       "      <td>0.033807</td>\n",
       "      <td>0.938559</td>\n",
       "      <td>0.888550</td>\n",
       "      <td>20540.0</td>\n",
       "      <td>69170.0</td>\n",
       "    </tr>\n",
       "    <tr>\n",
       "      <th>0</th>\n",
       "      <td>3</td>\n",
       "      <td>2e00861bf82aee3171e83bde712878ac</td>\n",
       "      <td>{\"cutoff\": \"quantile_0.25\", \"eval_fairness_gro...</td>\n",
       "      <td>21.26773</td>\n",
       "      <td>89710</td>\n",
       "      <td>1.0</td>\n",
       "      <td>0.057152</td>\n",
       "      <td>0.937034</td>\n",
       "      <td>0.004743</td>\n",
       "      <td>0.993685</td>\n",
       "      <td>...</td>\n",
       "      <td>NaN</td>\n",
       "      <td>NaN</td>\n",
       "      <td>NaN</td>\n",
       "      <td>NaN</td>\n",
       "      <td>NaN</td>\n",
       "      <td>NaN</td>\n",
       "      <td>NaN</td>\n",
       "      <td>NaN</td>\n",
       "      <td>NaN</td>\n",
       "      <td>NaN</td>\n",
       "    </tr>\n",
       "    <tr>\n",
       "      <th>0</th>\n",
       "      <td>3</td>\n",
       "      <td>2e00861bf82aee3171e83bde712878ac</td>\n",
       "      <td>{\"cutoff\": \"quantile_0.25\", \"eval_fairness_gro...</td>\n",
       "      <td>21.26773</td>\n",
       "      <td>89710</td>\n",
       "      <td>1.0</td>\n",
       "      <td>0.057152</td>\n",
       "      <td>0.937034</td>\n",
       "      <td>0.004743</td>\n",
       "      <td>0.993685</td>\n",
       "      <td>...</td>\n",
       "      <td>0.131376</td>\n",
       "      <td>0.159683</td>\n",
       "      <td>0.732776</td>\n",
       "      <td>0.727253</td>\n",
       "      <td>0.149493</td>\n",
       "      <td>0.092341</td>\n",
       "      <td>0.746349</td>\n",
       "      <td>0.751092</td>\n",
       "      <td>20540.0</td>\n",
       "      <td>69170.0</td>\n",
       "    </tr>\n",
       "  </tbody>\n",
       "</table>\n",
       "<p>4 rows × 50 columns</p>\n",
       "</div>"
      ],
      "text/plain": [
       "  run_no                       universe_id  \\\n",
       "0      3  2e00861bf82aee3171e83bde712878ac   \n",
       "0      3  2e00861bf82aee3171e83bde712878ac   \n",
       "0      3  2e00861bf82aee3171e83bde712878ac   \n",
       "0      3  2e00861bf82aee3171e83bde712878ac   \n",
       "\n",
       "                                   universe_settings  execution_time  \\\n",
       "0  {\"cutoff\": \"quantile_0.1\", \"eval_fairness_grou...        21.26773   \n",
       "0  {\"cutoff\": \"quantile_0.1\", \"eval_fairness_grou...        21.26773   \n",
       "0  {\"cutoff\": \"quantile_0.25\", \"eval_fairness_gro...        21.26773   \n",
       "0  {\"cutoff\": \"quantile_0.25\", \"eval_fairness_gro...        21.26773   \n",
       "\n",
       "   test_size_n  test_size_frac  fair_main_equalized_odds_difference  \\\n",
       "0        89710             1.0                             0.056741   \n",
       "0        89710             1.0                             0.056741   \n",
       "0        89710             1.0                             0.057152   \n",
       "0        89710             1.0                             0.057152   \n",
       "\n",
       "   fair_main_equalized_odds_ratio  fair_main_demographic_parity_difference  \\\n",
       "0                        0.939215                                 0.050009   \n",
       "0                        0.939215                                 0.050009   \n",
       "0                        0.937034                                 0.004743   \n",
       "0                        0.937034                                 0.004743   \n",
       "\n",
       "   fair_main_demographic_parity_ratio  ...  perf_grp_precision_0  \\\n",
       "0                            0.946717  ...                   NaN   \n",
       "0                            0.946717  ...              0.120085   \n",
       "0                            0.993685  ...                   NaN   \n",
       "0                            0.993685  ...              0.131376   \n",
       "\n",
       "   perf_grp_precision_1  perf_grp_false positive rate_0  \\\n",
       "0                   NaN                             NaN   \n",
       "0              0.143685                        0.933469   \n",
       "0                   NaN                             NaN   \n",
       "0              0.159683                        0.732776   \n",
       "\n",
       "   perf_grp_false positive rate_1  perf_grp_false negative rate_0  \\\n",
       "0                             NaN                             NaN   \n",
       "0                        0.876728                        0.022382   \n",
       "0                             NaN                             NaN   \n",
       "0                        0.727253                        0.149493   \n",
       "\n",
       "   perf_grp_false negative rate_1  perf_grp_selection rate_0  \\\n",
       "0                             NaN                        NaN   \n",
       "0                        0.033807                   0.938559   \n",
       "0                             NaN                        NaN   \n",
       "0                        0.092341                   0.746349   \n",
       "\n",
       "   perf_grp_selection rate_1  perf_grp_count_0  perf_grp_count_1  \n",
       "0                        NaN               NaN               NaN  \n",
       "0                   0.888550           20540.0           69170.0  \n",
       "0                        NaN               NaN               NaN  \n",
       "0                   0.751092           20540.0           69170.0  \n",
       "\n",
       "[4 rows x 50 columns]"
      ]
     },
     "execution_count": 64,
     "metadata": {},
     "output_type": "execute_result"
    }
   ],
   "source": [
    "final_output = universe_analysis.generate_final_output(\n",
    "    y_pred_prob=probs_test,\n",
    "    y_test=y_true,\n",
    "    org_test=org_test,\n",
    "    filter_data=filter_sub_universe_data,\n",
    "    cp_metrics_df=cp_metrics_df,\n",
    "    save=True,\n",
    ")\n",
    "final_output"
   ]
  },
  {
   "cell_type": "code",
   "execution_count": null,
   "id": "8b80a1ff",
   "metadata": {
    "papermill": {
     "duration": 0.022891,
     "end_time": "2025-08-19T19:05:51.655294",
     "exception": false,
     "start_time": "2025-08-19T19:05:51.632403",
     "status": "completed"
    },
    "tags": []
   },
   "outputs": [],
   "source": []
  },
  {
   "cell_type": "code",
   "execution_count": null,
   "id": "275c9fad",
   "metadata": {
    "papermill": {
     "duration": 0.014028,
     "end_time": "2025-08-19T19:05:51.684062",
     "exception": false,
     "start_time": "2025-08-19T19:05:51.670034",
     "status": "completed"
    },
    "tags": []
   },
   "outputs": [],
   "source": []
  }
 ],
 "metadata": {
  "celltoolbar": "Tags",
  "kernelspec": {
   "display_name": "Python (CMA Fairness)",
   "language": "python",
   "name": "cma_fair_env"
  },
  "language_info": {
   "codemirror_mode": {
    "name": "ipython",
    "version": 3
   },
   "file_extension": ".py",
   "mimetype": "text/x-python",
   "name": "python",
   "nbconvert_exporter": "python",
   "pygments_lexer": "ipython3",
   "version": "3.10.12"
  },
  "papermill": {
   "default_parameters": {},
   "duration": 31.654839,
   "end_time": "2025-08-19T19:05:52.522270",
   "environment_variables": {},
   "exception": null,
   "input_path": "universe_analysis.ipynb",
   "output_path": "output/runs/3/notebooks/m_3-2e00861bf82aee3171e83bde712878ac.ipynb",
   "parameters": {
    "output_dir": "output",
    "run_no": "3",
    "seed": "2023",
    "universe": "{\"cutoff\": [\"quantile_0.1\", \"quantile_0.25\"], \"eval_fairness_grouping\": [\"majority-minority\", \"nationality-all\"], \"exclude_features\": \"nationality\", \"exclude_subgroups\": \"keep-all\", \"model\": \"penalized_logreg\", \"scale\": \"scale\", \"training_size\": \"1k\", \"training_year\": \"2010_14\"}",
    "universe_id": "2e00861bf82aee3171e83bde712878ac"
   },
   "start_time": "2025-08-19T19:05:20.867431",
   "version": "2.6.0"
  }
 },
 "nbformat": 4,
 "nbformat_minor": 5
}