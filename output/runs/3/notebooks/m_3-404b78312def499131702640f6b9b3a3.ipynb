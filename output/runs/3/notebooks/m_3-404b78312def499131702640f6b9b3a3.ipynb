{
 "cells": [
  {
   "cell_type": "markdown",
   "id": "ef23dbb3",
   "metadata": {
    "papermill": {
     "duration": 0.009156,
     "end_time": "2025-08-19T18:53:14.037430",
     "exception": false,
     "start_time": "2025-08-19T18:53:14.028274",
     "status": "completed"
    },
    "tags": []
   },
   "source": [
    "# Setup"
   ]
  },
  {
   "cell_type": "code",
   "execution_count": 1,
   "id": "0bc8e7dc",
   "metadata": {
    "execution": {
     "iopub.execute_input": "2025-08-19T18:53:14.057584Z",
     "iopub.status.busy": "2025-08-19T18:53:14.056871Z",
     "iopub.status.idle": "2025-08-19T18:53:14.076776Z",
     "shell.execute_reply": "2025-08-19T18:53:14.075663Z"
    },
    "papermill": {
     "duration": 0.032184,
     "end_time": "2025-08-19T18:53:14.078658",
     "exception": false,
     "start_time": "2025-08-19T18:53:14.046474",
     "status": "completed"
    },
    "tags": []
   },
   "outputs": [
    {
     "name": "stdout",
     "output_type": "stream",
     "text": [
      "/dss/dsshome1/0C/ra93lal2/cma/CMA_Fairness_v2\n"
     ]
    },
    {
     "name": "stderr",
     "output_type": "stream",
     "text": [
      "/dss/dsshome1/0C/ra93lal2/.local/share/virtualenvs/CMA_Fairness_v2-3j10GkSs/lib/python3.10/site-packages/IPython/core/magics/osm.py:393: UserWarning: This is now an optional IPython functionality, using bookmarks requires you to install the `pickleshare` library.\n",
      "  bkms = self.shell.db.get('bookmarks', {})\n",
      "/dss/dsshome1/0C/ra93lal2/.local/share/virtualenvs/CMA_Fairness_v2-3j10GkSs/lib/python3.10/site-packages/IPython/core/magics/osm.py:417: UserWarning: This is now an optional IPython functionality, setting dhist requires you to install the `pickleshare` library.\n",
      "  self.shell.db['dhist'] = compress_dhist(dhist)[-100:]\n"
     ]
    }
   ],
   "source": [
    "%cd ~/cma/CMA_Fairness_v2"
   ]
  },
  {
   "cell_type": "markdown",
   "id": "9d235661",
   "metadata": {
    "papermill": {
     "duration": 0.009518,
     "end_time": "2025-08-19T18:53:14.103143",
     "exception": false,
     "start_time": "2025-08-19T18:53:14.093625",
     "status": "completed"
    },
    "tags": []
   },
   "source": [
    "The following cell holds the definition of our parameters, these values can be overriden by rendering the with e.g. the following command:\n",
    "\n",
    "papermill -p alpha 0.2 -p ratio 0.3 universe_analysis.ipynb output/test_run.ipynb"
   ]
  },
  {
   "cell_type": "code",
   "execution_count": 2,
   "id": "4a789d8e",
   "metadata": {
    "execution": {
     "iopub.execute_input": "2025-08-19T18:53:14.123264Z",
     "iopub.status.busy": "2025-08-19T18:53:14.122562Z",
     "iopub.status.idle": "2025-08-19T18:53:14.129865Z",
     "shell.execute_reply": "2025-08-19T18:53:14.128583Z"
    },
    "papermill": {
     "duration": 0.019521,
     "end_time": "2025-08-19T18:53:14.131401",
     "exception": false,
     "start_time": "2025-08-19T18:53:14.111880",
     "status": "completed"
    },
    "tags": []
   },
   "outputs": [
    {
     "name": "stdout",
     "output_type": "stream",
     "text": [
      "Current working directory: /dss/dsshome1/0C/ra93lal2/cma/CMA_Fairness_v2\n"
     ]
    }
   ],
   "source": [
    "import os\n",
    "print(\"Current working directory:\", os.getcwd())"
   ]
  },
  {
   "cell_type": "code",
   "execution_count": 3,
   "id": "4132aaed",
   "metadata": {
    "execution": {
     "iopub.execute_input": "2025-08-19T18:53:14.153947Z",
     "iopub.status.busy": "2025-08-19T18:53:14.153302Z",
     "iopub.status.idle": "2025-08-19T18:53:14.162179Z",
     "shell.execute_reply": "2025-08-19T18:53:14.160860Z"
    },
    "papermill": {
     "duration": 0.021812,
     "end_time": "2025-08-19T18:53:14.163668",
     "exception": false,
     "start_time": "2025-08-19T18:53:14.141856",
     "status": "completed"
    },
    "tags": [
     "parameters"
    ]
   },
   "outputs": [],
   "source": [
    "run_no = 0\n",
    "universe_id = \"test\"\n",
    "universe = {\n",
    "    \"training_size\": \"5k\", # \"25k\", \"5k\", \"1k\"\n",
    "    \"training_year\": \"2012_14\", # \"2014\", \"2012_14\", \"2010_14\"\n",
    "    \"scale\": \"scale\", # \"scale\", \"do-not-scale\",\n",
    "    \"model\": \"elasticnet\", # \"logreg\", \"penalized_logreg\", \"rf\", \"gbm\", \"elasticnet\"\n",
    "    \"cutoff\": [\"quantile_0.15\", \"quantile_0.30\"],\n",
    "    \"exclude_features\": \"age\", # \"none\", \"nationality\", \"sex\", \"nationality-sex\", \"age\"\n",
    "    \"exclude_subgroups\": \"drop-non-german\", # \"keep-all\", \"drop-non-german\"\n",
    "    \"eval_fairness_grouping\": [\"majority-minority\", \"nationality-all\"]\n",
    "}\n",
    "\n",
    "output_dir=\"./output\"\n",
    "seed=0"
   ]
  },
  {
   "cell_type": "code",
   "execution_count": 4,
   "id": "15e9cb91",
   "metadata": {
    "execution": {
     "iopub.execute_input": "2025-08-19T18:53:14.186795Z",
     "iopub.status.busy": "2025-08-19T18:53:14.186142Z",
     "iopub.status.idle": "2025-08-19T18:53:14.193409Z",
     "shell.execute_reply": "2025-08-19T18:53:14.192111Z"
    },
    "papermill": {
     "duration": 0.019482,
     "end_time": "2025-08-19T18:53:14.194805",
     "exception": false,
     "start_time": "2025-08-19T18:53:14.175323",
     "status": "completed"
    },
    "tags": [
     "injected-parameters"
    ]
   },
   "outputs": [],
   "source": [
    "# Parameters\n",
    "universe_id = \"404b78312def499131702640f6b9b3a3\"\n",
    "run_no = \"3\"\n",
    "universe = \"{\\\"cutoff\\\": [\\\"quantile_0.1\\\", \\\"quantile_0.25\\\"], \\\"eval_fairness_grouping\\\": [\\\"majority-minority\\\", \\\"nationality-all\\\"], \\\"exclude_features\\\": \\\"none\\\", \\\"exclude_subgroups\\\": \\\"keep-all\\\", \\\"model\\\": \\\"penalized_logreg\\\", \\\"scale\\\": \\\"do-not-scale\\\", \\\"training_size\\\": \\\"1k\\\", \\\"training_year\\\": \\\"2014\\\"}\"\n",
    "output_dir = \"output\"\n",
    "seed = \"2023\"\n"
   ]
  },
  {
   "cell_type": "code",
   "execution_count": 5,
   "id": "a5d7941f",
   "metadata": {
    "execution": {
     "iopub.execute_input": "2025-08-19T18:53:14.217911Z",
     "iopub.status.busy": "2025-08-19T18:53:14.217250Z",
     "iopub.status.idle": "2025-08-19T18:53:14.224176Z",
     "shell.execute_reply": "2025-08-19T18:53:14.222898Z"
    },
    "papermill": {
     "duration": 0.019479,
     "end_time": "2025-08-19T18:53:14.225938",
     "exception": false,
     "start_time": "2025-08-19T18:53:14.206459",
     "status": "completed"
    },
    "tags": []
   },
   "outputs": [],
   "source": [
    "import json\n",
    "if isinstance(universe, str):\n",
    "    universe = json.loads(universe)"
   ]
  },
  {
   "cell_type": "code",
   "execution_count": 6,
   "id": "7076ccb1",
   "metadata": {
    "execution": {
     "iopub.execute_input": "2025-08-19T18:53:14.248937Z",
     "iopub.status.busy": "2025-08-19T18:53:14.248247Z",
     "iopub.status.idle": "2025-08-19T18:53:14.301164Z",
     "shell.execute_reply": "2025-08-19T18:53:14.300312Z"
    },
    "papermill": {
     "duration": 0.067266,
     "end_time": "2025-08-19T18:53:14.304717",
     "exception": false,
     "start_time": "2025-08-19T18:53:14.237451",
     "status": "completed"
    },
    "tags": []
   },
   "outputs": [],
   "source": [
    "# Auto-reload the custom package\n",
    "%load_ext autoreload\n",
    "%autoreload 1\n",
    "%aimport fairness_multiverse"
   ]
  },
  {
   "cell_type": "code",
   "execution_count": 7,
   "id": "94c8eb93",
   "metadata": {
    "execution": {
     "iopub.execute_input": "2025-08-19T18:53:14.341887Z",
     "iopub.status.busy": "2025-08-19T18:53:14.340792Z",
     "iopub.status.idle": "2025-08-19T18:53:16.005794Z",
     "shell.execute_reply": "2025-08-19T18:53:16.004131Z"
    },
    "papermill": {
     "duration": 1.679371,
     "end_time": "2025-08-19T18:53:16.007636",
     "exception": false,
     "start_time": "2025-08-19T18:53:14.328265",
     "status": "completed"
    },
    "tags": []
   },
   "outputs": [],
   "source": [
    "from fairness_multiverse.universe import UniverseAnalysis\n",
    "\n",
    "universe_analysis = UniverseAnalysis(\n",
    "    run_no = run_no,\n",
    "    universe_id = universe_id,\n",
    "    universe = universe,\n",
    "    output_dir=output_dir,\n",
    ")"
   ]
  },
  {
   "cell_type": "code",
   "execution_count": 8,
   "id": "2a6381cf",
   "metadata": {
    "execution": {
     "iopub.execute_input": "2025-08-19T18:53:16.033216Z",
     "iopub.status.busy": "2025-08-19T18:53:16.031394Z",
     "iopub.status.idle": "2025-08-19T18:53:16.042370Z",
     "shell.execute_reply": "2025-08-19T18:53:16.041477Z"
    },
    "papermill": {
     "duration": 0.026854,
     "end_time": "2025-08-19T18:53:16.043799",
     "exception": false,
     "start_time": "2025-08-19T18:53:16.016945",
     "status": "completed"
    },
    "tags": []
   },
   "outputs": [
    {
     "name": "stdout",
     "output_type": "stream",
     "text": [
      "Using Seed: 2023\n"
     ]
    }
   ],
   "source": [
    "import numpy as np\n",
    "parsed_seed = int(seed)\n",
    "np.random.seed(parsed_seed)\n",
    "print(f\"Using Seed: {parsed_seed}\")"
   ]
  },
  {
   "cell_type": "markdown",
   "id": "b6e958b4",
   "metadata": {
    "papermill": {
     "duration": 0.010722,
     "end_time": "2025-08-19T18:53:16.070373",
     "exception": false,
     "start_time": "2025-08-19T18:53:16.059651",
     "status": "completed"
    },
    "tags": []
   },
   "source": [
    "# Loading Data"
   ]
  },
  {
   "cell_type": "code",
   "execution_count": 9,
   "id": "98701482",
   "metadata": {
    "execution": {
     "iopub.execute_input": "2025-08-19T18:53:16.104340Z",
     "iopub.status.busy": "2025-08-19T18:53:16.095241Z",
     "iopub.status.idle": "2025-08-19T18:53:26.856954Z",
     "shell.execute_reply": "2025-08-19T18:53:26.855306Z"
    },
    "papermill": {
     "duration": 10.778533,
     "end_time": "2025-08-19T18:53:26.858525",
     "exception": false,
     "start_time": "2025-08-19T18:53:16.079992",
     "status": "completed"
    },
    "tags": []
   },
   "outputs": [
    {
     "name": "stdout",
     "output_type": "stream",
     "text": [
      "Loading SIAB data from cache: data/siab_cached.csv.gz\n"
     ]
    },
    {
     "name": "stdout",
     "output_type": "stream",
     "text": [
      "(643690, 164)\n"
     ]
    }
   ],
   "source": [
    "from pathlib import Path\n",
    "import pandas as pd\n",
    "\n",
    "# File paths\n",
    "raw_file = Path(\"data/raw/siab.csv\")\n",
    "cache_file = Path(\"data/siab_cached.csv.gz\")\n",
    "\n",
    "# Ensure cache directory exists\n",
    "cache_file.parent.mkdir(parents=True, exist_ok=True)\n",
    "\n",
    "# Load with simple caching\n",
    "if cache_file.exists():\n",
    "    print(f\"Loading SIAB data from cache: {cache_file}\")\n",
    "    siab = pd.read_csv(cache_file, compression='gzip')\n",
    "else:\n",
    "    print(f\"Cache not found. Reading raw SIAB data: {raw_file}\")\n",
    "    siab = pd.read_csv(raw_file)\n",
    "    siab.to_csv(cache_file, index=False, compression='gzip')\n",
    "    print(f\"Cached SIAB data to: {cache_file}\")\n",
    "\n",
    "print(siab.shape)"
   ]
  },
  {
   "cell_type": "code",
   "execution_count": 10,
   "id": "058d2abb",
   "metadata": {
    "execution": {
     "iopub.execute_input": "2025-08-19T18:53:26.886260Z",
     "iopub.status.busy": "2025-08-19T18:53:26.885575Z",
     "iopub.status.idle": "2025-08-19T18:53:27.110595Z",
     "shell.execute_reply": "2025-08-19T18:53:27.109578Z"
    },
    "papermill": {
     "duration": 0.24146,
     "end_time": "2025-08-19T18:53:27.111905",
     "exception": false,
     "start_time": "2025-08-19T18:53:26.870445",
     "status": "completed"
    },
    "tags": []
   },
   "outputs": [
    {
     "data": {
      "text/html": [
       "<div>\n",
       "<style scoped>\n",
       "    .dataframe tbody tr th:only-of-type {\n",
       "        vertical-align: middle;\n",
       "    }\n",
       "\n",
       "    .dataframe tbody tr th {\n",
       "        vertical-align: top;\n",
       "    }\n",
       "\n",
       "    .dataframe thead th {\n",
       "        text-align: right;\n",
       "    }\n",
       "</style>\n",
       "<table border=\"1\" class=\"dataframe\">\n",
       "  <thead>\n",
       "    <tr style=\"text-align: right;\">\n",
       "      <th></th>\n",
       "      <th>persnr</th>\n",
       "      <th>year</th>\n",
       "      <th>nrEntry</th>\n",
       "      <th>ltue</th>\n",
       "      <th>employed_before</th>\n",
       "      <th>receipt_leh_before</th>\n",
       "      <th>receipt_lhg_before</th>\n",
       "      <th>se_before</th>\n",
       "      <th>ASU_notue_seeking_before</th>\n",
       "      <th>ASU_other_before</th>\n",
       "      <th>...</th>\n",
       "      <th>minijob_tot_dur_byage</th>\n",
       "      <th>ft_tot_dur_byage</th>\n",
       "      <th>befrist_tot_dur_byage</th>\n",
       "      <th>leih_tot_dur_byage</th>\n",
       "      <th>LHG_tot_dur_byage</th>\n",
       "      <th>LEH_tot_dur_byage</th>\n",
       "      <th>almp_tot_dur_byage</th>\n",
       "      <th>almp_aw_tot_dur_byage</th>\n",
       "      <th>se_tot_dur_byage</th>\n",
       "      <th>seeking1_tot_dur_byage</th>\n",
       "    </tr>\n",
       "  </thead>\n",
       "  <tbody>\n",
       "    <tr>\n",
       "      <th>0</th>\n",
       "      <td>7</td>\n",
       "      <td>2015</td>\n",
       "      <td>1</td>\n",
       "      <td>0</td>\n",
       "      <td>1</td>\n",
       "      <td>0</td>\n",
       "      <td>0</td>\n",
       "      <td>0</td>\n",
       "      <td>1</td>\n",
       "      <td>0</td>\n",
       "      <td>...</td>\n",
       "      <td>0.000000</td>\n",
       "      <td>0.000000</td>\n",
       "      <td>15.043478</td>\n",
       "      <td>0.000000</td>\n",
       "      <td>0.000000</td>\n",
       "      <td>0.000000</td>\n",
       "      <td>0.000000</td>\n",
       "      <td>0.000000</td>\n",
       "      <td>0.000000</td>\n",
       "      <td>0.000000</td>\n",
       "    </tr>\n",
       "    <tr>\n",
       "      <th>1</th>\n",
       "      <td>18</td>\n",
       "      <td>2010</td>\n",
       "      <td>1</td>\n",
       "      <td>1</td>\n",
       "      <td>0</td>\n",
       "      <td>0</td>\n",
       "      <td>0</td>\n",
       "      <td>0</td>\n",
       "      <td>0</td>\n",
       "      <td>0</td>\n",
       "      <td>...</td>\n",
       "      <td>0.000000</td>\n",
       "      <td>0.000000</td>\n",
       "      <td>0.000000</td>\n",
       "      <td>0.000000</td>\n",
       "      <td>0.000000</td>\n",
       "      <td>0.000000</td>\n",
       "      <td>0.000000</td>\n",
       "      <td>0.000000</td>\n",
       "      <td>0.000000</td>\n",
       "      <td>0.000000</td>\n",
       "    </tr>\n",
       "    <tr>\n",
       "      <th>2</th>\n",
       "      <td>18</td>\n",
       "      <td>2011</td>\n",
       "      <td>2</td>\n",
       "      <td>0</td>\n",
       "      <td>1</td>\n",
       "      <td>0</td>\n",
       "      <td>1</td>\n",
       "      <td>0</td>\n",
       "      <td>1</td>\n",
       "      <td>0</td>\n",
       "      <td>...</td>\n",
       "      <td>2.714286</td>\n",
       "      <td>2.714286</td>\n",
       "      <td>0.000000</td>\n",
       "      <td>0.000000</td>\n",
       "      <td>10.775510</td>\n",
       "      <td>0.000000</td>\n",
       "      <td>8.367347</td>\n",
       "      <td>0.000000</td>\n",
       "      <td>0.000000</td>\n",
       "      <td>9.836735</td>\n",
       "    </tr>\n",
       "    <tr>\n",
       "      <th>3</th>\n",
       "      <td>18</td>\n",
       "      <td>2012</td>\n",
       "      <td>3</td>\n",
       "      <td>0</td>\n",
       "      <td>1</td>\n",
       "      <td>0</td>\n",
       "      <td>1</td>\n",
       "      <td>0</td>\n",
       "      <td>1</td>\n",
       "      <td>0</td>\n",
       "      <td>...</td>\n",
       "      <td>4.200000</td>\n",
       "      <td>4.200000</td>\n",
       "      <td>0.000000</td>\n",
       "      <td>0.000000</td>\n",
       "      <td>12.100000</td>\n",
       "      <td>0.000000</td>\n",
       "      <td>9.400000</td>\n",
       "      <td>0.000000</td>\n",
       "      <td>0.000000</td>\n",
       "      <td>9.960000</td>\n",
       "    </tr>\n",
       "    <tr>\n",
       "      <th>4</th>\n",
       "      <td>18</td>\n",
       "      <td>2012</td>\n",
       "      <td>4</td>\n",
       "      <td>0</td>\n",
       "      <td>1</td>\n",
       "      <td>0</td>\n",
       "      <td>1</td>\n",
       "      <td>0</td>\n",
       "      <td>1</td>\n",
       "      <td>0</td>\n",
       "      <td>...</td>\n",
       "      <td>5.460000</td>\n",
       "      <td>5.460000</td>\n",
       "      <td>0.000000</td>\n",
       "      <td>0.000000</td>\n",
       "      <td>13.360000</td>\n",
       "      <td>0.000000</td>\n",
       "      <td>10.320000</td>\n",
       "      <td>0.000000</td>\n",
       "      <td>0.000000</td>\n",
       "      <td>10.280000</td>\n",
       "    </tr>\n",
       "    <tr>\n",
       "      <th>...</th>\n",
       "      <td>...</td>\n",
       "      <td>...</td>\n",
       "      <td>...</td>\n",
       "      <td>...</td>\n",
       "      <td>...</td>\n",
       "      <td>...</td>\n",
       "      <td>...</td>\n",
       "      <td>...</td>\n",
       "      <td>...</td>\n",
       "      <td>...</td>\n",
       "      <td>...</td>\n",
       "      <td>...</td>\n",
       "      <td>...</td>\n",
       "      <td>...</td>\n",
       "      <td>...</td>\n",
       "      <td>...</td>\n",
       "      <td>...</td>\n",
       "      <td>...</td>\n",
       "      <td>...</td>\n",
       "      <td>...</td>\n",
       "      <td>...</td>\n",
       "    </tr>\n",
       "    <tr>\n",
       "      <th>643685</th>\n",
       "      <td>1827860</td>\n",
       "      <td>2013</td>\n",
       "      <td>1</td>\n",
       "      <td>0</td>\n",
       "      <td>0</td>\n",
       "      <td>0</td>\n",
       "      <td>1</td>\n",
       "      <td>0</td>\n",
       "      <td>0</td>\n",
       "      <td>1</td>\n",
       "      <td>...</td>\n",
       "      <td>0.000000</td>\n",
       "      <td>0.000000</td>\n",
       "      <td>0.000000</td>\n",
       "      <td>0.000000</td>\n",
       "      <td>0.612903</td>\n",
       "      <td>0.000000</td>\n",
       "      <td>0.000000</td>\n",
       "      <td>0.000000</td>\n",
       "      <td>0.000000</td>\n",
       "      <td>0.000000</td>\n",
       "    </tr>\n",
       "    <tr>\n",
       "      <th>643686</th>\n",
       "      <td>1827860</td>\n",
       "      <td>2015</td>\n",
       "      <td>2</td>\n",
       "      <td>1</td>\n",
       "      <td>0</td>\n",
       "      <td>0</td>\n",
       "      <td>1</td>\n",
       "      <td>0</td>\n",
       "      <td>1</td>\n",
       "      <td>0</td>\n",
       "      <td>...</td>\n",
       "      <td>0.000000</td>\n",
       "      <td>0.000000</td>\n",
       "      <td>0.212121</td>\n",
       "      <td>0.212121</td>\n",
       "      <td>17.363636</td>\n",
       "      <td>0.000000</td>\n",
       "      <td>8.909091</td>\n",
       "      <td>0.000000</td>\n",
       "      <td>0.000000</td>\n",
       "      <td>7.121212</td>\n",
       "    </tr>\n",
       "    <tr>\n",
       "      <th>643687</th>\n",
       "      <td>1827860</td>\n",
       "      <td>2016</td>\n",
       "      <td>3</td>\n",
       "      <td>1</td>\n",
       "      <td>0</td>\n",
       "      <td>0</td>\n",
       "      <td>1</td>\n",
       "      <td>1</td>\n",
       "      <td>0</td>\n",
       "      <td>1</td>\n",
       "      <td>...</td>\n",
       "      <td>0.000000</td>\n",
       "      <td>0.000000</td>\n",
       "      <td>0.294118</td>\n",
       "      <td>0.205882</td>\n",
       "      <td>34.705882</td>\n",
       "      <td>0.000000</td>\n",
       "      <td>10.352941</td>\n",
       "      <td>1.705882</td>\n",
       "      <td>1.705882</td>\n",
       "      <td>23.911765</td>\n",
       "    </tr>\n",
       "    <tr>\n",
       "      <th>643688</th>\n",
       "      <td>1827869</td>\n",
       "      <td>2013</td>\n",
       "      <td>1</td>\n",
       "      <td>1</td>\n",
       "      <td>1</td>\n",
       "      <td>0</td>\n",
       "      <td>0</td>\n",
       "      <td>0</td>\n",
       "      <td>1</td>\n",
       "      <td>0</td>\n",
       "      <td>...</td>\n",
       "      <td>0.000000</td>\n",
       "      <td>0.000000</td>\n",
       "      <td>0.000000</td>\n",
       "      <td>0.000000</td>\n",
       "      <td>0.000000</td>\n",
       "      <td>0.525424</td>\n",
       "      <td>0.000000</td>\n",
       "      <td>0.000000</td>\n",
       "      <td>0.000000</td>\n",
       "      <td>0.000000</td>\n",
       "    </tr>\n",
       "    <tr>\n",
       "      <th>643689</th>\n",
       "      <td>1827869</td>\n",
       "      <td>2014</td>\n",
       "      <td>2</td>\n",
       "      <td>0</td>\n",
       "      <td>0</td>\n",
       "      <td>1</td>\n",
       "      <td>0</td>\n",
       "      <td>0</td>\n",
       "      <td>1</td>\n",
       "      <td>0</td>\n",
       "      <td>...</td>\n",
       "      <td>0.000000</td>\n",
       "      <td>0.666667</td>\n",
       "      <td>0.666667</td>\n",
       "      <td>0.000000</td>\n",
       "      <td>0.000000</td>\n",
       "      <td>8.950000</td>\n",
       "      <td>1.033333</td>\n",
       "      <td>0.083333</td>\n",
       "      <td>0.083333</td>\n",
       "      <td>8.133333</td>\n",
       "    </tr>\n",
       "  </tbody>\n",
       "</table>\n",
       "<p>643690 rows × 164 columns</p>\n",
       "</div>"
      ],
      "text/plain": [
       "         persnr  year  nrEntry  ltue  employed_before  receipt_leh_before  \\\n",
       "0             7  2015        1     0                1                   0   \n",
       "1            18  2010        1     1                0                   0   \n",
       "2            18  2011        2     0                1                   0   \n",
       "3            18  2012        3     0                1                   0   \n",
       "4            18  2012        4     0                1                   0   \n",
       "...         ...   ...      ...   ...              ...                 ...   \n",
       "643685  1827860  2013        1     0                0                   0   \n",
       "643686  1827860  2015        2     1                0                   0   \n",
       "643687  1827860  2016        3     1                0                   0   \n",
       "643688  1827869  2013        1     1                1                   0   \n",
       "643689  1827869  2014        2     0                0                   1   \n",
       "\n",
       "        receipt_lhg_before  se_before  ASU_notue_seeking_before  \\\n",
       "0                        0          0                         1   \n",
       "1                        0          0                         0   \n",
       "2                        1          0                         1   \n",
       "3                        1          0                         1   \n",
       "4                        1          0                         1   \n",
       "...                    ...        ...                       ...   \n",
       "643685                   1          0                         0   \n",
       "643686                   1          0                         1   \n",
       "643687                   1          1                         0   \n",
       "643688                   0          0                         1   \n",
       "643689                   0          0                         1   \n",
       "\n",
       "        ASU_other_before  ...  minijob_tot_dur_byage  ft_tot_dur_byage  \\\n",
       "0                      0  ...               0.000000          0.000000   \n",
       "1                      0  ...               0.000000          0.000000   \n",
       "2                      0  ...               2.714286          2.714286   \n",
       "3                      0  ...               4.200000          4.200000   \n",
       "4                      0  ...               5.460000          5.460000   \n",
       "...                  ...  ...                    ...               ...   \n",
       "643685                 1  ...               0.000000          0.000000   \n",
       "643686                 0  ...               0.000000          0.000000   \n",
       "643687                 1  ...               0.000000          0.000000   \n",
       "643688                 0  ...               0.000000          0.000000   \n",
       "643689                 0  ...               0.000000          0.666667   \n",
       "\n",
       "        befrist_tot_dur_byage  leih_tot_dur_byage  LHG_tot_dur_byage  \\\n",
       "0                   15.043478            0.000000           0.000000   \n",
       "1                    0.000000            0.000000           0.000000   \n",
       "2                    0.000000            0.000000          10.775510   \n",
       "3                    0.000000            0.000000          12.100000   \n",
       "4                    0.000000            0.000000          13.360000   \n",
       "...                       ...                 ...                ...   \n",
       "643685               0.000000            0.000000           0.612903   \n",
       "643686               0.212121            0.212121          17.363636   \n",
       "643687               0.294118            0.205882          34.705882   \n",
       "643688               0.000000            0.000000           0.000000   \n",
       "643689               0.666667            0.000000           0.000000   \n",
       "\n",
       "        LEH_tot_dur_byage  almp_tot_dur_byage  almp_aw_tot_dur_byage  \\\n",
       "0                0.000000            0.000000               0.000000   \n",
       "1                0.000000            0.000000               0.000000   \n",
       "2                0.000000            8.367347               0.000000   \n",
       "3                0.000000            9.400000               0.000000   \n",
       "4                0.000000           10.320000               0.000000   \n",
       "...                   ...                 ...                    ...   \n",
       "643685           0.000000            0.000000               0.000000   \n",
       "643686           0.000000            8.909091               0.000000   \n",
       "643687           0.000000           10.352941               1.705882   \n",
       "643688           0.525424            0.000000               0.000000   \n",
       "643689           8.950000            1.033333               0.083333   \n",
       "\n",
       "        se_tot_dur_byage  seeking1_tot_dur_byage  \n",
       "0               0.000000                0.000000  \n",
       "1               0.000000                0.000000  \n",
       "2               0.000000                9.836735  \n",
       "3               0.000000                9.960000  \n",
       "4               0.000000               10.280000  \n",
       "...                  ...                     ...  \n",
       "643685          0.000000                0.000000  \n",
       "643686          0.000000                7.121212  \n",
       "643687          1.705882               23.911765  \n",
       "643688          0.000000                0.000000  \n",
       "643689          0.083333                8.133333  \n",
       "\n",
       "[643690 rows x 164 columns]"
      ]
     },
     "execution_count": 10,
     "metadata": {},
     "output_type": "execute_result"
    }
   ],
   "source": [
    "siab"
   ]
  },
  {
   "cell_type": "markdown",
   "id": "1f87e805",
   "metadata": {
    "papermill": {
     "duration": 0.010245,
     "end_time": "2025-08-19T18:53:27.132599",
     "exception": false,
     "start_time": "2025-08-19T18:53:27.122354",
     "status": "completed"
    },
    "tags": []
   },
   "source": [
    "# Splitting Data and Setting Training Data Size"
   ]
  },
  {
   "cell_type": "code",
   "execution_count": 11,
   "id": "910ae358",
   "metadata": {
    "execution": {
     "iopub.execute_input": "2025-08-19T18:53:27.155762Z",
     "iopub.status.busy": "2025-08-19T18:53:27.154965Z",
     "iopub.status.idle": "2025-08-19T18:53:27.450880Z",
     "shell.execute_reply": "2025-08-19T18:53:27.449952Z"
    },
    "papermill": {
     "duration": 0.310422,
     "end_time": "2025-08-19T18:53:27.452845",
     "exception": false,
     "start_time": "2025-08-19T18:53:27.142423",
     "status": "completed"
    },
    "tags": []
   },
   "outputs": [],
   "source": [
    "from fairness_multiverse.universe import sample_by_year_size\n",
    "\n",
    "siab_train = sample_by_year_size(siab,\n",
    "                               training_year=universe[\"training_year\"],\n",
    "                               training_size=universe[\"training_size\"])"
   ]
  },
  {
   "cell_type": "code",
   "execution_count": 12,
   "id": "919c8ff5",
   "metadata": {
    "execution": {
     "iopub.execute_input": "2025-08-19T18:53:27.497229Z",
     "iopub.status.busy": "2025-08-19T18:53:27.496458Z",
     "iopub.status.idle": "2025-08-19T18:53:27.507745Z",
     "shell.execute_reply": "2025-08-19T18:53:27.505889Z"
    },
    "papermill": {
     "duration": 0.046196,
     "end_time": "2025-08-19T18:53:27.513535",
     "exception": false,
     "start_time": "2025-08-19T18:53:27.467339",
     "status": "completed"
    },
    "tags": []
   },
   "outputs": [
    {
     "data": {
      "text/plain": [
       "(1000, 164)"
      ]
     },
     "execution_count": 12,
     "metadata": {},
     "output_type": "execute_result"
    }
   ],
   "source": [
    "siab_train.shape"
   ]
  },
  {
   "cell_type": "code",
   "execution_count": 13,
   "id": "feb13bf4",
   "metadata": {
    "execution": {
     "iopub.execute_input": "2025-08-19T18:53:27.537809Z",
     "iopub.status.busy": "2025-08-19T18:53:27.537129Z",
     "iopub.status.idle": "2025-08-19T18:53:27.552127Z",
     "shell.execute_reply": "2025-08-19T18:53:27.550967Z"
    },
    "papermill": {
     "duration": 0.028033,
     "end_time": "2025-08-19T18:53:27.553498",
     "exception": false,
     "start_time": "2025-08-19T18:53:27.525465",
     "status": "completed"
    },
    "tags": []
   },
   "outputs": [
    {
     "data": {
      "text/plain": [
       "year\n",
       "2014    1000\n",
       "dtype: int64"
      ]
     },
     "metadata": {},
     "output_type": "display_data"
    }
   ],
   "source": [
    "display(siab_train.groupby(\"year\").size())"
   ]
  },
  {
   "cell_type": "code",
   "execution_count": 14,
   "id": "0997782f",
   "metadata": {
    "execution": {
     "iopub.execute_input": "2025-08-19T18:53:27.576769Z",
     "iopub.status.busy": "2025-08-19T18:53:27.575977Z",
     "iopub.status.idle": "2025-08-19T18:53:27.886200Z",
     "shell.execute_reply": "2025-08-19T18:53:27.885487Z"
    },
    "papermill": {
     "duration": 0.32487,
     "end_time": "2025-08-19T18:53:27.889132",
     "exception": false,
     "start_time": "2025-08-19T18:53:27.564262",
     "status": "completed"
    },
    "tags": []
   },
   "outputs": [],
   "source": [
    "#siab_train = siab_s[siab_s.year < 2015]\n",
    "siab_calib = siab[siab.year == 2015]\n",
    "siab_test = siab[siab.year == 2016]"
   ]
  },
  {
   "cell_type": "code",
   "execution_count": 15,
   "id": "2c1e4012",
   "metadata": {
    "execution": {
     "iopub.execute_input": "2025-08-19T18:53:27.936081Z",
     "iopub.status.busy": "2025-08-19T18:53:27.935407Z",
     "iopub.status.idle": "2025-08-19T18:53:27.941568Z",
     "shell.execute_reply": "2025-08-19T18:53:27.940368Z"
    },
    "papermill": {
     "duration": 0.01944,
     "end_time": "2025-08-19T18:53:27.943090",
     "exception": false,
     "start_time": "2025-08-19T18:53:27.923650",
     "status": "completed"
    },
    "tags": []
   },
   "outputs": [],
   "source": [
    "#siab_calib.shape"
   ]
  },
  {
   "cell_type": "code",
   "execution_count": 16,
   "id": "f66b54ca",
   "metadata": {
    "execution": {
     "iopub.execute_input": "2025-08-19T18:53:27.972073Z",
     "iopub.status.busy": "2025-08-19T18:53:27.969678Z",
     "iopub.status.idle": "2025-08-19T18:53:27.977801Z",
     "shell.execute_reply": "2025-08-19T18:53:27.976709Z"
    },
    "papermill": {
     "duration": 0.024187,
     "end_time": "2025-08-19T18:53:27.979304",
     "exception": false,
     "start_time": "2025-08-19T18:53:27.955117",
     "status": "completed"
    },
    "tags": []
   },
   "outputs": [],
   "source": [
    "#siab_test.shape"
   ]
  },
  {
   "cell_type": "code",
   "execution_count": 17,
   "id": "27e4384d",
   "metadata": {
    "execution": {
     "iopub.execute_input": "2025-08-19T18:53:28.008549Z",
     "iopub.status.busy": "2025-08-19T18:53:28.007808Z",
     "iopub.status.idle": "2025-08-19T18:53:28.020366Z",
     "shell.execute_reply": "2025-08-19T18:53:28.019312Z"
    },
    "papermill": {
     "duration": 0.026065,
     "end_time": "2025-08-19T18:53:28.022161",
     "exception": false,
     "start_time": "2025-08-19T18:53:27.996096",
     "status": "completed"
    },
    "tags": []
   },
   "outputs": [],
   "source": [
    "X_train = siab_train.iloc[:,4:164]\n",
    "y_train = siab_train.iloc[:, [3]]"
   ]
  },
  {
   "cell_type": "code",
   "execution_count": 18,
   "id": "08ee8389",
   "metadata": {
    "execution": {
     "iopub.execute_input": "2025-08-19T18:53:28.051687Z",
     "iopub.status.busy": "2025-08-19T18:53:28.050014Z",
     "iopub.status.idle": "2025-08-19T18:53:28.115237Z",
     "shell.execute_reply": "2025-08-19T18:53:28.114323Z"
    },
    "papermill": {
     "duration": 0.081005,
     "end_time": "2025-08-19T18:53:28.116772",
     "exception": false,
     "start_time": "2025-08-19T18:53:28.035767",
     "status": "completed"
    },
    "tags": []
   },
   "outputs": [],
   "source": [
    "X_calib = siab_calib.iloc[:,4:164]\n",
    "y_calib = siab_calib.iloc[:, [3]]"
   ]
  },
  {
   "cell_type": "code",
   "execution_count": 19,
   "id": "b7ff42e0",
   "metadata": {
    "execution": {
     "iopub.execute_input": "2025-08-19T18:53:28.141349Z",
     "iopub.status.busy": "2025-08-19T18:53:28.140905Z",
     "iopub.status.idle": "2025-08-19T18:53:28.200675Z",
     "shell.execute_reply": "2025-08-19T18:53:28.198217Z"
    },
    "papermill": {
     "duration": 0.081209,
     "end_time": "2025-08-19T18:53:28.209266",
     "exception": false,
     "start_time": "2025-08-19T18:53:28.128057",
     "status": "completed"
    },
    "tags": []
   },
   "outputs": [],
   "source": [
    "X_test = siab_test.iloc[:,4:164]\n",
    "y_true = siab_test.iloc[:, [3]]"
   ]
  },
  {
   "cell_type": "code",
   "execution_count": 20,
   "id": "0275101e",
   "metadata": {
    "execution": {
     "iopub.execute_input": "2025-08-19T18:53:28.244699Z",
     "iopub.status.busy": "2025-08-19T18:53:28.244006Z",
     "iopub.status.idle": "2025-08-19T18:53:28.374733Z",
     "shell.execute_reply": "2025-08-19T18:53:28.373960Z"
    },
    "papermill": {
     "duration": 0.145398,
     "end_time": "2025-08-19T18:53:28.376746",
     "exception": false,
     "start_time": "2025-08-19T18:53:28.231348",
     "status": "completed"
    },
    "tags": []
   },
   "outputs": [],
   "source": [
    "# Auxiliary data needed downstream in the pipeline\n",
    "\n",
    "org_train = X_train.copy()\n",
    "org_test = X_test.copy()\n",
    "org_calib = X_calib.copy()"
   ]
  },
  {
   "cell_type": "markdown",
   "id": "b461e618",
   "metadata": {
    "papermill": {
     "duration": 0.010012,
     "end_time": "2025-08-19T18:53:28.399308",
     "exception": false,
     "start_time": "2025-08-19T18:53:28.389296",
     "status": "completed"
    },
    "tags": []
   },
   "source": [
    "# Preprocessing Data"
   ]
  },
  {
   "cell_type": "code",
   "execution_count": 21,
   "id": "78e74c4b",
   "metadata": {
    "execution": {
     "iopub.execute_input": "2025-08-19T18:53:28.426324Z",
     "iopub.status.busy": "2025-08-19T18:53:28.425208Z",
     "iopub.status.idle": "2025-08-19T18:53:28.439381Z",
     "shell.execute_reply": "2025-08-19T18:53:28.438123Z"
    },
    "papermill": {
     "duration": 0.029261,
     "end_time": "2025-08-19T18:53:28.441113",
     "exception": false,
     "start_time": "2025-08-19T18:53:28.411852",
     "status": "completed"
    },
    "tags": []
   },
   "outputs": [],
   "source": [
    "# EXCLUDE PROTECTED FEATURES\n",
    "# --------------------------\n",
    "\n",
    "excluded_features = universe[\"exclude_features\"].split(\"-\")\n",
    "excluded_features_dictionary = {\n",
    "    \"nationality\": [\"maxdeutsch1\", \"maxdeutsch.Missing.\"],\n",
    "    \"sex\": [\"frau1\"],\n",
    "    \"age\": [\"age\"],\n",
    "}"
   ]
  },
  {
   "cell_type": "code",
   "execution_count": 22,
   "id": "f8e63555",
   "metadata": {
    "execution": {
     "iopub.execute_input": "2025-08-19T18:53:28.474332Z",
     "iopub.status.busy": "2025-08-19T18:53:28.471751Z",
     "iopub.status.idle": "2025-08-19T18:53:28.555991Z",
     "shell.execute_reply": "2025-08-19T18:53:28.554923Z"
    },
    "papermill": {
     "duration": 0.101763,
     "end_time": "2025-08-19T18:53:28.557577",
     "exception": false,
     "start_time": "2025-08-19T18:53:28.455814",
     "status": "completed"
    },
    "tags": []
   },
   "outputs": [],
   "source": [
    "excluded_features_columns = [\n",
    "    excluded_features_dictionary[f] for f in excluded_features if len(f) > 0 and f != \"none\"\n",
    "]"
   ]
  },
  {
   "cell_type": "code",
   "execution_count": 23,
   "id": "da781f7c",
   "metadata": {
    "execution": {
     "iopub.execute_input": "2025-08-19T18:53:28.581125Z",
     "iopub.status.busy": "2025-08-19T18:53:28.580346Z",
     "iopub.status.idle": "2025-08-19T18:53:28.587853Z",
     "shell.execute_reply": "2025-08-19T18:53:28.586863Z"
    },
    "papermill": {
     "duration": 0.023301,
     "end_time": "2025-08-19T18:53:28.591393",
     "exception": false,
     "start_time": "2025-08-19T18:53:28.568092",
     "status": "completed"
    },
    "tags": []
   },
   "outputs": [],
   "source": [
    "from fairness_multiverse.universe import flatten_once\n",
    "\n",
    "excluded_features_columns = flatten_once(excluded_features_columns)"
   ]
  },
  {
   "cell_type": "code",
   "execution_count": 24,
   "id": "37fef0f0",
   "metadata": {
    "execution": {
     "iopub.execute_input": "2025-08-19T18:53:28.625900Z",
     "iopub.status.busy": "2025-08-19T18:53:28.625104Z",
     "iopub.status.idle": "2025-08-19T18:53:28.731113Z",
     "shell.execute_reply": "2025-08-19T18:53:28.729597Z"
    },
    "papermill": {
     "duration": 0.120326,
     "end_time": "2025-08-19T18:53:28.733055",
     "exception": false,
     "start_time": "2025-08-19T18:53:28.612729",
     "status": "completed"
    },
    "tags": []
   },
   "outputs": [],
   "source": [
    "if len(excluded_features_columns) > 0:\n",
    "    print(f\"Dropping features: {excluded_features_columns}\")\n",
    "    X_train.drop(excluded_features_columns, axis=1, inplace=True)"
   ]
  },
  {
   "cell_type": "code",
   "execution_count": 25,
   "id": "d029e3e9",
   "metadata": {
    "execution": {
     "iopub.execute_input": "2025-08-19T18:53:28.761852Z",
     "iopub.status.busy": "2025-08-19T18:53:28.761542Z",
     "iopub.status.idle": "2025-08-19T18:53:28.766058Z",
     "shell.execute_reply": "2025-08-19T18:53:28.765323Z"
    },
    "papermill": {
     "duration": 0.024606,
     "end_time": "2025-08-19T18:53:28.768356",
     "exception": false,
     "start_time": "2025-08-19T18:53:28.743750",
     "status": "completed"
    },
    "tags": []
   },
   "outputs": [],
   "source": [
    "if len(excluded_features_columns) > 0:\n",
    "    print(f\"Dropping features: {excluded_features_columns}\")\n",
    "    X_test.drop(excluded_features_columns, axis=1, inplace=True)"
   ]
  },
  {
   "cell_type": "code",
   "execution_count": 26,
   "id": "01d571f0",
   "metadata": {
    "execution": {
     "iopub.execute_input": "2025-08-19T18:53:28.807082Z",
     "iopub.status.busy": "2025-08-19T18:53:28.806351Z",
     "iopub.status.idle": "2025-08-19T18:53:28.814681Z",
     "shell.execute_reply": "2025-08-19T18:53:28.813455Z"
    },
    "papermill": {
     "duration": 0.024029,
     "end_time": "2025-08-19T18:53:28.816526",
     "exception": false,
     "start_time": "2025-08-19T18:53:28.792497",
     "status": "completed"
    },
    "tags": []
   },
   "outputs": [],
   "source": [
    "if len(excluded_features_columns) > 0:\n",
    "    print(f\"Dropping features: {excluded_features_columns}\")\n",
    "    X_calib.drop(excluded_features_columns, axis=1, inplace=True)"
   ]
  },
  {
   "cell_type": "code",
   "execution_count": 27,
   "id": "3037356e",
   "metadata": {
    "execution": {
     "iopub.execute_input": "2025-08-19T18:53:28.841193Z",
     "iopub.status.busy": "2025-08-19T18:53:28.840509Z",
     "iopub.status.idle": "2025-08-19T18:53:28.848510Z",
     "shell.execute_reply": "2025-08-19T18:53:28.846351Z"
    },
    "papermill": {
     "duration": 0.022376,
     "end_time": "2025-08-19T18:53:28.850229",
     "exception": false,
     "start_time": "2025-08-19T18:53:28.827853",
     "status": "completed"
    },
    "tags": []
   },
   "outputs": [],
   "source": [
    "# EXCLUDE CERTAIN SUBGROUPS\n",
    "# -------------------------\n",
    "\n",
    "mode = universe.get(\"exclude_subgroups\", \"keep-all\") # Defaults to \"keep-all\" if the key is missing."
   ]
  },
  {
   "cell_type": "code",
   "execution_count": 28,
   "id": "9d1e63fd",
   "metadata": {
    "execution": {
     "iopub.execute_input": "2025-08-19T18:53:28.873510Z",
     "iopub.status.busy": "2025-08-19T18:53:28.873125Z",
     "iopub.status.idle": "2025-08-19T18:53:28.879717Z",
     "shell.execute_reply": "2025-08-19T18:53:28.878806Z"
    },
    "papermill": {
     "duration": 0.023422,
     "end_time": "2025-08-19T18:53:28.884902",
     "exception": false,
     "start_time": "2025-08-19T18:53:28.861480",
     "status": "completed"
    },
    "tags": []
   },
   "outputs": [],
   "source": [
    "if mode == \"keep-all\":\n",
    "    keep_mask = pd.Series(True, index=org_train.index)\n",
    "\n",
    "elif mode == \"drop-non-german\":\n",
    "    keep_mask = (org_train[\"maxdeutsch1\"] == 1) & (org_train[\"maxdeutsch.Missing.\"] == 0)\n",
    "\n",
    "else:\n",
    "    raise ValueError(f\"Unsupported mode for exclude_subgroups: {mode}\")"
   ]
  },
  {
   "cell_type": "code",
   "execution_count": 29,
   "id": "d3b65474",
   "metadata": {
    "execution": {
     "iopub.execute_input": "2025-08-19T18:53:28.918202Z",
     "iopub.status.busy": "2025-08-19T18:53:28.917755Z",
     "iopub.status.idle": "2025-08-19T18:53:28.924727Z",
     "shell.execute_reply": "2025-08-19T18:53:28.923827Z"
    },
    "papermill": {
     "duration": 0.020778,
     "end_time": "2025-08-19T18:53:28.926008",
     "exception": false,
     "start_time": "2025-08-19T18:53:28.905230",
     "status": "completed"
    },
    "tags": []
   },
   "outputs": [],
   "source": [
    "n_drop = (~keep_mask).sum() # Calculates how many rows are set to be dropped\n",
    "if n_drop > 0:\n",
    "    pct = n_drop / len(keep_mask) * 100\n",
    "    print(f\"Dropping {n_drop} rows ({pct:.2f}%) where mode='{mode}'\")"
   ]
  },
  {
   "cell_type": "code",
   "execution_count": 30,
   "id": "f44389b3",
   "metadata": {
    "execution": {
     "iopub.execute_input": "2025-08-19T18:53:28.951431Z",
     "iopub.status.busy": "2025-08-19T18:53:28.950725Z",
     "iopub.status.idle": "2025-08-19T18:53:28.971141Z",
     "shell.execute_reply": "2025-08-19T18:53:28.970097Z"
    },
    "papermill": {
     "duration": 0.035303,
     "end_time": "2025-08-19T18:53:28.973449",
     "exception": false,
     "start_time": "2025-08-19T18:53:28.938146",
     "status": "completed"
    },
    "tags": []
   },
   "outputs": [],
   "source": [
    "X_train = X_train[keep_mask]"
   ]
  },
  {
   "cell_type": "code",
   "execution_count": 31,
   "id": "ceca8c2a",
   "metadata": {
    "execution": {
     "iopub.execute_input": "2025-08-19T18:53:29.012936Z",
     "iopub.status.busy": "2025-08-19T18:53:29.012453Z",
     "iopub.status.idle": "2025-08-19T18:53:29.018125Z",
     "shell.execute_reply": "2025-08-19T18:53:29.017211Z"
    },
    "papermill": {
     "duration": 0.021583,
     "end_time": "2025-08-19T18:53:29.022031",
     "exception": false,
     "start_time": "2025-08-19T18:53:29.000448",
     "status": "completed"
    },
    "tags": []
   },
   "outputs": [],
   "source": [
    "y_train = y_train[keep_mask]"
   ]
  },
  {
   "cell_type": "markdown",
   "id": "04d31e2f",
   "metadata": {
    "papermill": {
     "duration": 0.011851,
     "end_time": "2025-08-19T18:53:29.055512",
     "exception": false,
     "start_time": "2025-08-19T18:53:29.043661",
     "status": "completed"
    },
    "tags": []
   },
   "source": [
    "# Model Training"
   ]
  },
  {
   "cell_type": "code",
   "execution_count": 32,
   "id": "db991733",
   "metadata": {
    "execution": {
     "iopub.execute_input": "2025-08-19T18:53:29.080171Z",
     "iopub.status.busy": "2025-08-19T18:53:29.078680Z",
     "iopub.status.idle": "2025-08-19T18:53:29.204463Z",
     "shell.execute_reply": "2025-08-19T18:53:29.203412Z"
    },
    "papermill": {
     "duration": 0.140431,
     "end_time": "2025-08-19T18:53:29.206631",
     "exception": false,
     "start_time": "2025-08-19T18:53:29.066200",
     "status": "completed"
    },
    "tags": []
   },
   "outputs": [],
   "source": [
    "from sklearn.linear_model import LogisticRegression\n",
    "from sklearn.ensemble import GradientBoostingClassifier, RandomForestClassifier\n",
    "\n",
    "if (universe[\"model\"] == \"logreg\"):\n",
    "    model = LogisticRegression() #penalty=\"none\", solver=\"newton-cg\", max_iter=1)\n",
    "elif (universe[\"model\"] == \"penalized_logreg\"):\n",
    "    model = LogisticRegression(penalty=\"l2\", C=0.1) #, solver=\"newton-cg\", max_iter=1)\n",
    "elif (universe[\"model\"] == \"rf\"):\n",
    "    model = RandomForestClassifier() # n_estimators=100, n_jobs=-1\n",
    "elif (universe[\"model\"] == \"gbm\"):\n",
    "    model = GradientBoostingClassifier()\n",
    "elif (universe[\"model\"] == \"elasticnet\"):\n",
    "    model = LogisticRegression(penalty = 'elasticnet', solver = 'saga', l1_ratio = 0.5) # max_iter=5000\n",
    "else:\n",
    "    raise \"Unsupported universe.model\""
   ]
  },
  {
   "cell_type": "code",
   "execution_count": 33,
   "id": "a4b5cd25",
   "metadata": {
    "execution": {
     "iopub.execute_input": "2025-08-19T18:53:29.229931Z",
     "iopub.status.busy": "2025-08-19T18:53:29.229643Z",
     "iopub.status.idle": "2025-08-19T18:53:29.235214Z",
     "shell.execute_reply": "2025-08-19T18:53:29.234129Z"
    },
    "papermill": {
     "duration": 0.021987,
     "end_time": "2025-08-19T18:53:29.240014",
     "exception": false,
     "start_time": "2025-08-19T18:53:29.218027",
     "status": "completed"
    },
    "tags": []
   },
   "outputs": [],
   "source": [
    "from sklearn.pipeline import Pipeline\n",
    "from sklearn.preprocessing import StandardScaler\n",
    "\n",
    "model = Pipeline([\n",
    "    #(\"continuous_processor\", continuous_processor),\n",
    "    #(\"categorical_preprocessor\", categorical_preprocessor),\n",
    "    (\"scale\", StandardScaler() if universe[\"scale\"] == \"scale\" else None), \n",
    "    (\"model\", model),\n",
    "])"
   ]
  },
  {
   "cell_type": "code",
   "execution_count": 34,
   "id": "283a904d",
   "metadata": {
    "execution": {
     "iopub.execute_input": "2025-08-19T18:53:29.281112Z",
     "iopub.status.busy": "2025-08-19T18:53:29.280689Z",
     "iopub.status.idle": "2025-08-19T18:53:29.344376Z",
     "shell.execute_reply": "2025-08-19T18:53:29.343513Z"
    },
    "papermill": {
     "duration": 0.081795,
     "end_time": "2025-08-19T18:53:29.347379",
     "exception": false,
     "start_time": "2025-08-19T18:53:29.265584",
     "status": "completed"
    },
    "tags": []
   },
   "outputs": [
    {
     "name": "stderr",
     "output_type": "stream",
     "text": [
      "/dss/dsshome1/0C/ra93lal2/.local/share/virtualenvs/CMA_Fairness_v2-3j10GkSs/lib/python3.10/site-packages/sklearn/linear_model/_logistic.py:444: ConvergenceWarning: lbfgs failed to converge (status=1):\n",
      "STOP: TOTAL NO. of ITERATIONS REACHED LIMIT.\n",
      "\n",
      "Increase the number of iterations (max_iter) or scale the data as shown in:\n",
      "    https://scikit-learn.org/stable/modules/preprocessing.html\n",
      "Please also refer to the documentation for alternative solver options:\n",
      "    https://scikit-learn.org/stable/modules/linear_model.html#logistic-regression\n",
      "  n_iter_i = _check_optimize_result(\n"
     ]
    },
    {
     "data": {
      "text/html": [
       "<style>#sk-container-id-1 {color: black;background-color: white;}#sk-container-id-1 pre{padding: 0;}#sk-container-id-1 div.sk-toggleable {background-color: white;}#sk-container-id-1 label.sk-toggleable__label {cursor: pointer;display: block;width: 100%;margin-bottom: 0;padding: 0.3em;box-sizing: border-box;text-align: center;}#sk-container-id-1 label.sk-toggleable__label-arrow:before {content: \"▸\";float: left;margin-right: 0.25em;color: #696969;}#sk-container-id-1 label.sk-toggleable__label-arrow:hover:before {color: black;}#sk-container-id-1 div.sk-estimator:hover label.sk-toggleable__label-arrow:before {color: black;}#sk-container-id-1 div.sk-toggleable__content {max-height: 0;max-width: 0;overflow: hidden;text-align: left;background-color: #f0f8ff;}#sk-container-id-1 div.sk-toggleable__content pre {margin: 0.2em;color: black;border-radius: 0.25em;background-color: #f0f8ff;}#sk-container-id-1 input.sk-toggleable__control:checked~div.sk-toggleable__content {max-height: 200px;max-width: 100%;overflow: auto;}#sk-container-id-1 input.sk-toggleable__control:checked~label.sk-toggleable__label-arrow:before {content: \"▾\";}#sk-container-id-1 div.sk-estimator input.sk-toggleable__control:checked~label.sk-toggleable__label {background-color: #d4ebff;}#sk-container-id-1 div.sk-label input.sk-toggleable__control:checked~label.sk-toggleable__label {background-color: #d4ebff;}#sk-container-id-1 input.sk-hidden--visually {border: 0;clip: rect(1px 1px 1px 1px);clip: rect(1px, 1px, 1px, 1px);height: 1px;margin: -1px;overflow: hidden;padding: 0;position: absolute;width: 1px;}#sk-container-id-1 div.sk-estimator {font-family: monospace;background-color: #f0f8ff;border: 1px dotted black;border-radius: 0.25em;box-sizing: border-box;margin-bottom: 0.5em;}#sk-container-id-1 div.sk-estimator:hover {background-color: #d4ebff;}#sk-container-id-1 div.sk-parallel-item::after {content: \"\";width: 100%;border-bottom: 1px solid gray;flex-grow: 1;}#sk-container-id-1 div.sk-label:hover label.sk-toggleable__label {background-color: #d4ebff;}#sk-container-id-1 div.sk-serial::before {content: \"\";position: absolute;border-left: 1px solid gray;box-sizing: border-box;top: 0;bottom: 0;left: 50%;z-index: 0;}#sk-container-id-1 div.sk-serial {display: flex;flex-direction: column;align-items: center;background-color: white;padding-right: 0.2em;padding-left: 0.2em;position: relative;}#sk-container-id-1 div.sk-item {position: relative;z-index: 1;}#sk-container-id-1 div.sk-parallel {display: flex;align-items: stretch;justify-content: center;background-color: white;position: relative;}#sk-container-id-1 div.sk-item::before, #sk-container-id-1 div.sk-parallel-item::before {content: \"\";position: absolute;border-left: 1px solid gray;box-sizing: border-box;top: 0;bottom: 0;left: 50%;z-index: -1;}#sk-container-id-1 div.sk-parallel-item {display: flex;flex-direction: column;z-index: 1;position: relative;background-color: white;}#sk-container-id-1 div.sk-parallel-item:first-child::after {align-self: flex-end;width: 50%;}#sk-container-id-1 div.sk-parallel-item:last-child::after {align-self: flex-start;width: 50%;}#sk-container-id-1 div.sk-parallel-item:only-child::after {width: 0;}#sk-container-id-1 div.sk-dashed-wrapped {border: 1px dashed gray;margin: 0 0.4em 0.5em 0.4em;box-sizing: border-box;padding-bottom: 0.4em;background-color: white;}#sk-container-id-1 div.sk-label label {font-family: monospace;font-weight: bold;display: inline-block;line-height: 1.2em;}#sk-container-id-1 div.sk-label-container {text-align: center;}#sk-container-id-1 div.sk-container {/* jupyter's `normalize.less` sets `[hidden] { display: none; }` but bootstrap.min.css set `[hidden] { display: none !important; }` so we also need the `!important` here to be able to override the default hidden behavior on the sphinx rendered scikit-learn.org. See: https://github.com/scikit-learn/scikit-learn/issues/21755 */display: inline-block !important;position: relative;}#sk-container-id-1 div.sk-text-repr-fallback {display: none;}</style><div id=\"sk-container-id-1\" class=\"sk-top-container\"><div class=\"sk-text-repr-fallback\"><pre>Pipeline(steps=[(&#x27;scale&#x27;, None), (&#x27;model&#x27;, LogisticRegression(C=0.1))])</pre><b>In a Jupyter environment, please rerun this cell to show the HTML representation or trust the notebook. <br />On GitHub, the HTML representation is unable to render, please try loading this page with nbviewer.org.</b></div><div class=\"sk-container\" hidden><div class=\"sk-item sk-dashed-wrapped\"><div class=\"sk-label-container\"><div class=\"sk-label sk-toggleable\"><input class=\"sk-toggleable__control sk-hidden--visually\" id=\"sk-estimator-id-1\" type=\"checkbox\" ><label for=\"sk-estimator-id-1\" class=\"sk-toggleable__label sk-toggleable__label-arrow\">Pipeline</label><div class=\"sk-toggleable__content\"><pre>Pipeline(steps=[(&#x27;scale&#x27;, None), (&#x27;model&#x27;, LogisticRegression(C=0.1))])</pre></div></div></div><div class=\"sk-serial\"><div class=\"sk-item\"><div class=\"sk-estimator sk-toggleable\"><input class=\"sk-toggleable__control sk-hidden--visually\" id=\"sk-estimator-id-2\" type=\"checkbox\" ><label for=\"sk-estimator-id-2\" class=\"sk-toggleable__label sk-toggleable__label-arrow\">None</label><div class=\"sk-toggleable__content\"><pre>None</pre></div></div></div><div class=\"sk-item\"><div class=\"sk-estimator sk-toggleable\"><input class=\"sk-toggleable__control sk-hidden--visually\" id=\"sk-estimator-id-3\" type=\"checkbox\" ><label for=\"sk-estimator-id-3\" class=\"sk-toggleable__label sk-toggleable__label-arrow\">LogisticRegression</label><div class=\"sk-toggleable__content\"><pre>LogisticRegression(C=0.1)</pre></div></div></div></div></div></div></div>"
      ],
      "text/plain": [
       "Pipeline(steps=[('scale', None), ('model', LogisticRegression(C=0.1))])"
      ]
     },
     "execution_count": 34,
     "metadata": {},
     "output_type": "execute_result"
    }
   ],
   "source": [
    "model.fit(X_train, y_train.values.ravel())"
   ]
  },
  {
   "cell_type": "code",
   "execution_count": 35,
   "id": "6e15e313",
   "metadata": {
    "execution": {
     "iopub.execute_input": "2025-08-19T18:53:29.371467Z",
     "iopub.status.busy": "2025-08-19T18:53:29.371130Z",
     "iopub.status.idle": "2025-08-19T18:53:29.469898Z",
     "shell.execute_reply": "2025-08-19T18:53:29.469293Z"
    },
    "papermill": {
     "duration": 0.112301,
     "end_time": "2025-08-19T18:53:29.471087",
     "exception": false,
     "start_time": "2025-08-19T18:53:29.358786",
     "status": "completed"
    },
    "tags": []
   },
   "outputs": [
    {
     "data": {
      "text/plain": [
       "0.8498606621335414"
      ]
     },
     "execution_count": 35,
     "metadata": {},
     "output_type": "execute_result"
    }
   ],
   "source": [
    "from fairness_multiverse.universe import predict_w_threshold\n",
    "\n",
    "probs_test = model.predict_proba(X_test)\n",
    "\n",
    "'''\n",
    "Below code returns a boolean array (or binary 0/1 array depending on how it’s used) where each element \n",
    "is True if the probability of class 1 is greater than or equal to the threshold, and False otherwise.\n",
    "'''\n",
    "y_pred_default = predict_w_threshold(probs_test, 0.5)\n",
    "\n",
    "from sklearn.metrics import accuracy_score\n",
    "\n",
    "# Naive prediction\n",
    "accuracy_score(y_true = y_true, y_pred = y_pred_default)"
   ]
  },
  {
   "cell_type": "code",
   "execution_count": 36,
   "id": "6f14067c",
   "metadata": {
    "execution": {
     "iopub.execute_input": "2025-08-19T18:53:29.510466Z",
     "iopub.status.busy": "2025-08-19T18:53:29.507536Z",
     "iopub.status.idle": "2025-08-19T18:53:29.613678Z",
     "shell.execute_reply": "2025-08-19T18:53:29.612887Z"
    },
    "papermill": {
     "duration": 0.132698,
     "end_time": "2025-08-19T18:53:29.615389",
     "exception": false,
     "start_time": "2025-08-19T18:53:29.482691",
     "status": "completed"
    },
    "tags": []
   },
   "outputs": [
    {
     "data": {
      "text/plain": [
       "array([0, 0, 0, ..., 0, 0, 0])"
      ]
     },
     "execution_count": 36,
     "metadata": {},
     "output_type": "execute_result"
    }
   ],
   "source": [
    "model.predict(X_test)"
   ]
  },
  {
   "cell_type": "markdown",
   "id": "3759920c",
   "metadata": {
    "papermill": {
     "duration": 0.011466,
     "end_time": "2025-08-19T18:53:29.641037",
     "exception": false,
     "start_time": "2025-08-19T18:53:29.629571",
     "status": "completed"
    },
    "tags": []
   },
   "source": [
    "# Conformal Prediction"
   ]
  },
  {
   "cell_type": "code",
   "execution_count": 37,
   "id": "14b27f59",
   "metadata": {
    "execution": {
     "iopub.execute_input": "2025-08-19T18:53:29.664899Z",
     "iopub.status.busy": "2025-08-19T18:53:29.664499Z",
     "iopub.status.idle": "2025-08-19T18:53:29.669615Z",
     "shell.execute_reply": "2025-08-19T18:53:29.668239Z"
    },
    "papermill": {
     "duration": 0.029492,
     "end_time": "2025-08-19T18:53:29.681635",
     "exception": false,
     "start_time": "2025-08-19T18:53:29.652143",
     "status": "completed"
    },
    "tags": []
   },
   "outputs": [],
   "source": [
    "# Miscoverage level for conformal prediction (10% allowed error rate => 90% target coverage)\n",
    "alpha = 0.1"
   ]
  },
  {
   "cell_type": "code",
   "execution_count": 38,
   "id": "59102472",
   "metadata": {
    "execution": {
     "iopub.execute_input": "2025-08-19T18:53:29.710223Z",
     "iopub.status.busy": "2025-08-19T18:53:29.708804Z",
     "iopub.status.idle": "2025-08-19T18:53:29.806767Z",
     "shell.execute_reply": "2025-08-19T18:53:29.806062Z"
    },
    "papermill": {
     "duration": 0.114416,
     "end_time": "2025-08-19T18:53:29.809667",
     "exception": false,
     "start_time": "2025-08-19T18:53:29.695251",
     "status": "completed"
    },
    "tags": []
   },
   "outputs": [],
   "source": [
    "probs_calib = model.predict_proba(X_calib)"
   ]
  },
  {
   "cell_type": "code",
   "execution_count": 39,
   "id": "a792d4dd",
   "metadata": {
    "execution": {
     "iopub.execute_input": "2025-08-19T18:53:29.852041Z",
     "iopub.status.busy": "2025-08-19T18:53:29.850526Z",
     "iopub.status.idle": "2025-08-19T18:53:29.860673Z",
     "shell.execute_reply": "2025-08-19T18:53:29.859180Z"
    },
    "papermill": {
     "duration": 0.027,
     "end_time": "2025-08-19T18:53:29.862304",
     "exception": false,
     "start_time": "2025-08-19T18:53:29.835304",
     "status": "completed"
    },
    "tags": []
   },
   "outputs": [],
   "source": [
    "y_calib = y_calib.values.ravel().astype(int)"
   ]
  },
  {
   "cell_type": "code",
   "execution_count": 40,
   "id": "650fd033",
   "metadata": {
    "execution": {
     "iopub.execute_input": "2025-08-19T18:53:29.893320Z",
     "iopub.status.busy": "2025-08-19T18:53:29.892070Z",
     "iopub.status.idle": "2025-08-19T18:53:29.905693Z",
     "shell.execute_reply": "2025-08-19T18:53:29.904033Z"
    },
    "papermill": {
     "duration": 0.028881,
     "end_time": "2025-08-19T18:53:29.907298",
     "exception": false,
     "start_time": "2025-08-19T18:53:29.878417",
     "status": "completed"
    },
    "tags": []
   },
   "outputs": [],
   "source": [
    "from fairness_multiverse.conformal import compute_nc_scores\n",
    "\n",
    "# Compute nonconformity scores on calibration set (1 - probability of true class)\n",
    "nc_scores = compute_nc_scores(probs_calib, y_calib)"
   ]
  },
  {
   "cell_type": "code",
   "execution_count": 41,
   "id": "28ada44c",
   "metadata": {
    "execution": {
     "iopub.execute_input": "2025-08-19T18:53:29.936785Z",
     "iopub.status.busy": "2025-08-19T18:53:29.935247Z",
     "iopub.status.idle": "2025-08-19T18:53:29.946469Z",
     "shell.execute_reply": "2025-08-19T18:53:29.944860Z"
    },
    "papermill": {
     "duration": 0.025759,
     "end_time": "2025-08-19T18:53:29.947984",
     "exception": false,
     "start_time": "2025-08-19T18:53:29.922225",
     "status": "completed"
    },
    "tags": []
   },
   "outputs": [],
   "source": [
    "from fairness_multiverse.conformal import find_threshold\n",
    "\n",
    "# Find conformal threshold q_hat for the given alpha (split conformal method)\n",
    "q_hat = find_threshold(nc_scores, alpha)"
   ]
  },
  {
   "cell_type": "code",
   "execution_count": 42,
   "id": "df56469e",
   "metadata": {
    "execution": {
     "iopub.execute_input": "2025-08-19T18:53:29.976320Z",
     "iopub.status.busy": "2025-08-19T18:53:29.974804Z",
     "iopub.status.idle": "2025-08-19T18:53:29.987673Z",
     "shell.execute_reply": "2025-08-19T18:53:29.986090Z"
    },
    "papermill": {
     "duration": 0.027285,
     "end_time": "2025-08-19T18:53:29.989309",
     "exception": false,
     "start_time": "2025-08-19T18:53:29.962024",
     "status": "completed"
    },
    "tags": []
   },
   "outputs": [
    {
     "data": {
      "text/plain": [
       "0.696534261661941"
      ]
     },
     "execution_count": 42,
     "metadata": {},
     "output_type": "execute_result"
    }
   ],
   "source": [
    "q_hat"
   ]
  },
  {
   "cell_type": "code",
   "execution_count": 43,
   "id": "aa1f5faa",
   "metadata": {
    "execution": {
     "iopub.execute_input": "2025-08-19T18:53:30.018090Z",
     "iopub.status.busy": "2025-08-19T18:53:30.016591Z",
     "iopub.status.idle": "2025-08-19T18:53:30.581980Z",
     "shell.execute_reply": "2025-08-19T18:53:30.580726Z"
    },
    "papermill": {
     "duration": 0.581252,
     "end_time": "2025-08-19T18:53:30.584861",
     "exception": false,
     "start_time": "2025-08-19T18:53:30.003609",
     "status": "completed"
    },
    "tags": []
   },
   "outputs": [],
   "source": [
    "from fairness_multiverse.conformal import predict_conformal_sets\n",
    "\n",
    "# Generate prediction sets for each test example\n",
    "pred_sets = predict_conformal_sets(model, X_test, q_hat)"
   ]
  },
  {
   "cell_type": "code",
   "execution_count": 44,
   "id": "97f67a6b",
   "metadata": {
    "execution": {
     "iopub.execute_input": "2025-08-19T18:53:30.636791Z",
     "iopub.status.busy": "2025-08-19T18:53:30.635513Z",
     "iopub.status.idle": "2025-08-19T18:53:30.647968Z",
     "shell.execute_reply": "2025-08-19T18:53:30.646820Z"
    },
    "papermill": {
     "duration": 0.032936,
     "end_time": "2025-08-19T18:53:30.649629",
     "exception": false,
     "start_time": "2025-08-19T18:53:30.616693",
     "status": "completed"
    },
    "tags": []
   },
   "outputs": [],
   "source": [
    "y_true = y_true.squeeze()"
   ]
  },
  {
   "cell_type": "code",
   "execution_count": 45,
   "id": "e700e9a7",
   "metadata": {
    "execution": {
     "iopub.execute_input": "2025-08-19T18:53:30.692139Z",
     "iopub.status.busy": "2025-08-19T18:53:30.691560Z",
     "iopub.status.idle": "2025-08-19T18:53:31.196572Z",
     "shell.execute_reply": "2025-08-19T18:53:31.195059Z"
    },
    "papermill": {
     "duration": 0.525264,
     "end_time": "2025-08-19T18:53:31.199665",
     "exception": false,
     "start_time": "2025-08-19T18:53:30.674401",
     "status": "completed"
    },
    "tags": []
   },
   "outputs": [],
   "source": [
    "from fairness_multiverse.conformal import evaluate_sets\n",
    "\n",
    "# Evaluate coverage and average set size on test data\n",
    "metrics = evaluate_sets(pred_sets, y_true)"
   ]
  },
  {
   "cell_type": "markdown",
   "id": "efbacec0",
   "metadata": {
    "papermill": {
     "duration": 0.011451,
     "end_time": "2025-08-19T18:53:31.235737",
     "exception": false,
     "start_time": "2025-08-19T18:53:31.224286",
     "status": "completed"
    },
    "tags": []
   },
   "source": [
    "# CP Metrics"
   ]
  },
  {
   "cell_type": "code",
   "execution_count": 46,
   "id": "9de55fb1",
   "metadata": {
    "execution": {
     "iopub.execute_input": "2025-08-19T18:53:31.279957Z",
     "iopub.status.busy": "2025-08-19T18:53:31.279484Z",
     "iopub.status.idle": "2025-08-19T18:53:31.287845Z",
     "shell.execute_reply": "2025-08-19T18:53:31.287093Z"
    },
    "papermill": {
     "duration": 0.02706,
     "end_time": "2025-08-19T18:53:31.290959",
     "exception": false,
     "start_time": "2025-08-19T18:53:31.263899",
     "status": "completed"
    },
    "tags": []
   },
   "outputs": [
    {
     "data": {
      "text/plain": [
       "{'coverage': 0.9092185932449003, 'avg_size': 1.222093412105674}"
      ]
     },
     "execution_count": 46,
     "metadata": {},
     "output_type": "execute_result"
    }
   ],
   "source": [
    "metrics"
   ]
  },
  {
   "cell_type": "code",
   "execution_count": 47,
   "id": "64c340a1",
   "metadata": {
    "execution": {
     "iopub.execute_input": "2025-08-19T18:53:31.343090Z",
     "iopub.status.busy": "2025-08-19T18:53:31.342694Z",
     "iopub.status.idle": "2025-08-19T18:53:31.351001Z",
     "shell.execute_reply": "2025-08-19T18:53:31.349440Z"
    },
    "papermill": {
     "duration": 0.049987,
     "end_time": "2025-08-19T18:53:31.353356",
     "exception": false,
     "start_time": "2025-08-19T18:53:31.303369",
     "status": "completed"
    },
    "tags": []
   },
   "outputs": [],
   "source": [
    "example_universe = universe.copy()\n",
    "universe_training_year = example_universe.get(\"training_year\")\n",
    "universe_training_size = example_universe.get(\"training_size\")\n",
    "universe_scale = example_universe.get(\"scale\")\n",
    "universe_model = example_universe.get(\"model\")\n",
    "universe_exclude_features = example_universe.get(\"exclude_features\")\n",
    "universe_exclude_subgroups = example_universe.get(\"exclude_subgroups\")"
   ]
  },
  {
   "cell_type": "code",
   "execution_count": 48,
   "id": "dbb53cb4",
   "metadata": {
    "execution": {
     "iopub.execute_input": "2025-08-19T18:53:31.381245Z",
     "iopub.status.busy": "2025-08-19T18:53:31.380951Z",
     "iopub.status.idle": "2025-08-19T18:53:31.386935Z",
     "shell.execute_reply": "2025-08-19T18:53:31.385844Z"
    },
    "papermill": {
     "duration": 0.023328,
     "end_time": "2025-08-19T18:53:31.391392",
     "exception": false,
     "start_time": "2025-08-19T18:53:31.368064",
     "status": "completed"
    },
    "tags": []
   },
   "outputs": [],
   "source": [
    "cp_metrics_dict = {\n",
    "    \"universe_id\": [universe_id],\n",
    "    \"universe_training_year\": [universe_training_year],\n",
    "    \"universe_training_size\": [universe_training_size],\n",
    "    \"universe_scale\": [universe_scale],\n",
    "    \"universe_model\": [universe_model],\n",
    "    \"universe_exclude_features\": [universe_exclude_features],\n",
    "    \"universe_exclude_subgroups\": [universe_exclude_subgroups],\n",
    "    \"q_hat\": [q_hat],\n",
    "    \"coverage\": [metrics[\"coverage\"]],\n",
    "    \"avg_size\": [metrics[\"avg_size\"]],\n",
    "}"
   ]
  },
  {
   "cell_type": "code",
   "execution_count": 49,
   "id": "0d70d4b2",
   "metadata": {
    "execution": {
     "iopub.execute_input": "2025-08-19T18:53:31.428108Z",
     "iopub.status.busy": "2025-08-19T18:53:31.426869Z",
     "iopub.status.idle": "2025-08-19T18:53:31.439154Z",
     "shell.execute_reply": "2025-08-19T18:53:31.437772Z"
    },
    "papermill": {
     "duration": 0.027742,
     "end_time": "2025-08-19T18:53:31.441147",
     "exception": false,
     "start_time": "2025-08-19T18:53:31.413405",
     "status": "completed"
    },
    "tags": []
   },
   "outputs": [],
   "source": [
    "cp_metrics_df = pd.DataFrame(cp_metrics_dict)"
   ]
  },
  {
   "cell_type": "code",
   "execution_count": 50,
   "id": "b494403c",
   "metadata": {
    "execution": {
     "iopub.execute_input": "2025-08-19T18:53:31.501831Z",
     "iopub.status.busy": "2025-08-19T18:53:31.500558Z",
     "iopub.status.idle": "2025-08-19T18:53:31.523801Z",
     "shell.execute_reply": "2025-08-19T18:53:31.522807Z"
    },
    "papermill": {
     "duration": 0.051643,
     "end_time": "2025-08-19T18:53:31.525645",
     "exception": false,
     "start_time": "2025-08-19T18:53:31.474002",
     "status": "completed"
    },
    "tags": []
   },
   "outputs": [
    {
     "data": {
      "text/html": [
       "<div>\n",
       "<style scoped>\n",
       "    .dataframe tbody tr th:only-of-type {\n",
       "        vertical-align: middle;\n",
       "    }\n",
       "\n",
       "    .dataframe tbody tr th {\n",
       "        vertical-align: top;\n",
       "    }\n",
       "\n",
       "    .dataframe thead th {\n",
       "        text-align: right;\n",
       "    }\n",
       "</style>\n",
       "<table border=\"1\" class=\"dataframe\">\n",
       "  <thead>\n",
       "    <tr style=\"text-align: right;\">\n",
       "      <th></th>\n",
       "      <th>universe_id</th>\n",
       "      <th>universe_training_year</th>\n",
       "      <th>universe_training_size</th>\n",
       "      <th>universe_scale</th>\n",
       "      <th>universe_model</th>\n",
       "      <th>universe_exclude_features</th>\n",
       "      <th>universe_exclude_subgroups</th>\n",
       "      <th>q_hat</th>\n",
       "      <th>coverage</th>\n",
       "      <th>avg_size</th>\n",
       "    </tr>\n",
       "  </thead>\n",
       "  <tbody>\n",
       "    <tr>\n",
       "      <th>0</th>\n",
       "      <td>404b78312def499131702640f6b9b3a3</td>\n",
       "      <td>2014</td>\n",
       "      <td>1k</td>\n",
       "      <td>do-not-scale</td>\n",
       "      <td>penalized_logreg</td>\n",
       "      <td>none</td>\n",
       "      <td>keep-all</td>\n",
       "      <td>0.696534</td>\n",
       "      <td>0.909219</td>\n",
       "      <td>1.222093</td>\n",
       "    </tr>\n",
       "  </tbody>\n",
       "</table>\n",
       "</div>"
      ],
      "text/plain": [
       "                        universe_id universe_training_year  \\\n",
       "0  404b78312def499131702640f6b9b3a3                   2014   \n",
       "\n",
       "  universe_training_size universe_scale    universe_model  \\\n",
       "0                     1k   do-not-scale  penalized_logreg   \n",
       "\n",
       "  universe_exclude_features universe_exclude_subgroups     q_hat  coverage  \\\n",
       "0                      none                   keep-all  0.696534  0.909219   \n",
       "\n",
       "   avg_size  \n",
       "0  1.222093  "
      ]
     },
     "execution_count": 50,
     "metadata": {},
     "output_type": "execute_result"
    }
   ],
   "source": [
    "cp_metrics_df"
   ]
  },
  {
   "cell_type": "markdown",
   "id": "ed608b0b",
   "metadata": {
    "papermill": {
     "duration": 0.012563,
     "end_time": "2025-08-19T18:53:31.561319",
     "exception": false,
     "start_time": "2025-08-19T18:53:31.548756",
     "status": "completed"
    },
    "tags": []
   },
   "source": [
    "Conditional coverage & looking at subgroups"
   ]
  },
  {
   "cell_type": "code",
   "execution_count": 51,
   "id": "8968c366",
   "metadata": {
    "execution": {
     "iopub.execute_input": "2025-08-19T18:53:31.588554Z",
     "iopub.status.busy": "2025-08-19T18:53:31.587339Z",
     "iopub.status.idle": "2025-08-19T18:53:31.897773Z",
     "shell.execute_reply": "2025-08-19T18:53:31.897032Z"
    },
    "papermill": {
     "duration": 0.326727,
     "end_time": "2025-08-19T18:53:31.900770",
     "exception": false,
     "start_time": "2025-08-19T18:53:31.574043",
     "status": "completed"
    },
    "tags": []
   },
   "outputs": [],
   "source": [
    "from fairness_multiverse.conformal import build_cp_groups\n",
    "\n",
    "cp_groups_df = build_cp_groups(pred_sets, y_true, X_test.index, org_test)"
   ]
  },
  {
   "cell_type": "code",
   "execution_count": 52,
   "id": "292ddabf",
   "metadata": {
    "execution": {
     "iopub.execute_input": "2025-08-19T18:53:31.946335Z",
     "iopub.status.busy": "2025-08-19T18:53:31.944550Z",
     "iopub.status.idle": "2025-08-19T18:53:32.917481Z",
     "shell.execute_reply": "2025-08-19T18:53:32.915949Z"
    },
    "papermill": {
     "duration": 0.9926,
     "end_time": "2025-08-19T18:53:32.919435",
     "exception": false,
     "start_time": "2025-08-19T18:53:31.926835",
     "status": "completed"
    },
    "tags": []
   },
   "outputs": [],
   "source": [
    "# Define covered = 1 if true_label is in the predicted set\n",
    "cp_groups_df['covered'] = cp_groups_df.apply(\n",
    "    lambda r: int(r['true_label'] in r['pred_set']),\n",
    "    axis=1\n",
    ")"
   ]
  },
  {
   "cell_type": "code",
   "execution_count": 53,
   "id": "3a261692",
   "metadata": {
    "execution": {
     "iopub.execute_input": "2025-08-19T18:53:32.946867Z",
     "iopub.status.busy": "2025-08-19T18:53:32.946330Z",
     "iopub.status.idle": "2025-08-19T18:53:32.967374Z",
     "shell.execute_reply": "2025-08-19T18:53:32.966340Z"
    },
    "papermill": {
     "duration": 0.03709,
     "end_time": "2025-08-19T18:53:32.969273",
     "exception": false,
     "start_time": "2025-08-19T18:53:32.932183",
     "status": "completed"
    },
    "tags": []
   },
   "outputs": [],
   "source": [
    "subgroups = ['frau1','nongerman','nongerman_male','nongerman_female']\n",
    "\n",
    "# Conditional coverage for subgroup==1\n",
    "cond_coverage = {\n",
    "    g: cp_groups_df.loc[cp_groups_df[g]==1, 'covered'].mean()\n",
    "    for g in subgroups\n",
    "}"
   ]
  },
  {
   "cell_type": "code",
   "execution_count": 54,
   "id": "894fd600",
   "metadata": {
    "execution": {
     "iopub.execute_input": "2025-08-19T18:53:33.009773Z",
     "iopub.status.busy": "2025-08-19T18:53:33.009073Z",
     "iopub.status.idle": "2025-08-19T18:53:33.019651Z",
     "shell.execute_reply": "2025-08-19T18:53:33.018406Z"
    },
    "papermill": {
     "duration": 0.028971,
     "end_time": "2025-08-19T18:53:33.022480",
     "exception": false,
     "start_time": "2025-08-19T18:53:32.993509",
     "status": "completed"
    },
    "tags": []
   },
   "outputs": [
    {
     "data": {
      "text/plain": [
       "{'frau1': 0.9073460035045154,\n",
       " 'nongerman': 0.931061584236232,\n",
       " 'nongerman_male': 0.943979104746465,\n",
       " 'nongerman_female': 0.9096870342771982}"
      ]
     },
     "execution_count": 54,
     "metadata": {},
     "output_type": "execute_result"
    }
   ],
   "source": [
    "cond_coverage"
   ]
  },
  {
   "cell_type": "code",
   "execution_count": 55,
   "id": "942895c7",
   "metadata": {
    "execution": {
     "iopub.execute_input": "2025-08-19T18:53:33.063309Z",
     "iopub.status.busy": "2025-08-19T18:53:33.062587Z",
     "iopub.status.idle": "2025-08-19T18:53:33.073569Z",
     "shell.execute_reply": "2025-08-19T18:53:33.072436Z"
    },
    "papermill": {
     "duration": 0.027822,
     "end_time": "2025-08-19T18:53:33.075049",
     "exception": false,
     "start_time": "2025-08-19T18:53:33.047227",
     "status": "completed"
    },
    "tags": []
   },
   "outputs": [],
   "source": [
    "for subgroup, cov in cond_coverage.items():\n",
    "    cp_metrics_df[f\"cov_{subgroup}\"] = cov"
   ]
  },
  {
   "cell_type": "code",
   "execution_count": 56,
   "id": "3970120f",
   "metadata": {
    "execution": {
     "iopub.execute_input": "2025-08-19T18:53:33.112358Z",
     "iopub.status.busy": "2025-08-19T18:53:33.111982Z",
     "iopub.status.idle": "2025-08-19T18:53:33.137515Z",
     "shell.execute_reply": "2025-08-19T18:53:33.136802Z"
    },
    "papermill": {
     "duration": 0.049878,
     "end_time": "2025-08-19T18:53:33.139815",
     "exception": false,
     "start_time": "2025-08-19T18:53:33.089937",
     "status": "completed"
    },
    "tags": []
   },
   "outputs": [
    {
     "data": {
      "text/html": [
       "<div>\n",
       "<style scoped>\n",
       "    .dataframe tbody tr th:only-of-type {\n",
       "        vertical-align: middle;\n",
       "    }\n",
       "\n",
       "    .dataframe tbody tr th {\n",
       "        vertical-align: top;\n",
       "    }\n",
       "\n",
       "    .dataframe thead th {\n",
       "        text-align: right;\n",
       "    }\n",
       "</style>\n",
       "<table border=\"1\" class=\"dataframe\">\n",
       "  <thead>\n",
       "    <tr style=\"text-align: right;\">\n",
       "      <th></th>\n",
       "      <th>universe_id</th>\n",
       "      <th>universe_training_year</th>\n",
       "      <th>universe_training_size</th>\n",
       "      <th>universe_scale</th>\n",
       "      <th>universe_model</th>\n",
       "      <th>universe_exclude_features</th>\n",
       "      <th>universe_exclude_subgroups</th>\n",
       "      <th>q_hat</th>\n",
       "      <th>coverage</th>\n",
       "      <th>avg_size</th>\n",
       "      <th>cov_frau1</th>\n",
       "      <th>cov_nongerman</th>\n",
       "      <th>cov_nongerman_male</th>\n",
       "      <th>cov_nongerman_female</th>\n",
       "    </tr>\n",
       "  </thead>\n",
       "  <tbody>\n",
       "    <tr>\n",
       "      <th>0</th>\n",
       "      <td>404b78312def499131702640f6b9b3a3</td>\n",
       "      <td>2014</td>\n",
       "      <td>1k</td>\n",
       "      <td>do-not-scale</td>\n",
       "      <td>penalized_logreg</td>\n",
       "      <td>none</td>\n",
       "      <td>keep-all</td>\n",
       "      <td>0.696534</td>\n",
       "      <td>0.909219</td>\n",
       "      <td>1.222093</td>\n",
       "      <td>0.907346</td>\n",
       "      <td>0.931062</td>\n",
       "      <td>0.943979</td>\n",
       "      <td>0.909687</td>\n",
       "    </tr>\n",
       "  </tbody>\n",
       "</table>\n",
       "</div>"
      ],
      "text/plain": [
       "                        universe_id universe_training_year  \\\n",
       "0  404b78312def499131702640f6b9b3a3                   2014   \n",
       "\n",
       "  universe_training_size universe_scale    universe_model  \\\n",
       "0                     1k   do-not-scale  penalized_logreg   \n",
       "\n",
       "  universe_exclude_features universe_exclude_subgroups     q_hat  coverage  \\\n",
       "0                      none                   keep-all  0.696534  0.909219   \n",
       "\n",
       "   avg_size  cov_frau1  cov_nongerman  cov_nongerman_male  \\\n",
       "0  1.222093   0.907346       0.931062            0.943979   \n",
       "\n",
       "   cov_nongerman_female  \n",
       "0              0.909687  "
      ]
     },
     "execution_count": 56,
     "metadata": {},
     "output_type": "execute_result"
    }
   ],
   "source": [
    "cp_metrics_df"
   ]
  },
  {
   "cell_type": "markdown",
   "id": "3fc519cc",
   "metadata": {
    "papermill": {
     "duration": 0.016268,
     "end_time": "2025-08-19T18:53:33.181053",
     "exception": false,
     "start_time": "2025-08-19T18:53:33.164785",
     "status": "completed"
    },
    "tags": []
   },
   "source": [
    "# (Fairness) Metrics"
   ]
  },
  {
   "cell_type": "code",
   "execution_count": 57,
   "id": "a2e5e155",
   "metadata": {
    "execution": {
     "iopub.execute_input": "2025-08-19T18:53:33.207887Z",
     "iopub.status.busy": "2025-08-19T18:53:33.207575Z",
     "iopub.status.idle": "2025-08-19T18:53:33.221681Z",
     "shell.execute_reply": "2025-08-19T18:53:33.220944Z"
    },
    "papermill": {
     "duration": 0.030524,
     "end_time": "2025-08-19T18:53:33.223759",
     "exception": false,
     "start_time": "2025-08-19T18:53:33.193235",
     "status": "completed"
    },
    "tags": []
   },
   "outputs": [],
   "source": [
    "colname_to_bin = \"maxdeutsch1\"\n",
    "majority_value = org_train[colname_to_bin].mode()[0]\n",
    "\n",
    "org_test[\"majmin\"] = np.where(org_test[colname_to_bin] == majority_value, \"majority\", \"minority\")"
   ]
  },
  {
   "cell_type": "code",
   "execution_count": 58,
   "id": "17e3e4d5",
   "metadata": {
    "execution": {
     "iopub.execute_input": "2025-08-19T18:53:33.266422Z",
     "iopub.status.busy": "2025-08-19T18:53:33.265734Z",
     "iopub.status.idle": "2025-08-19T18:53:35.004924Z",
     "shell.execute_reply": "2025-08-19T18:53:35.003399Z"
    },
    "papermill": {
     "duration": 1.756414,
     "end_time": "2025-08-19T18:53:35.006775",
     "exception": false,
     "start_time": "2025-08-19T18:53:33.250361",
     "status": "completed"
    },
    "tags": []
   },
   "outputs": [],
   "source": [
    "example_universe = universe.copy()\n",
    "example_universe[\"cutoff\"] = example_universe[\"cutoff\"][0]\n",
    "example_universe[\"eval_fairness_grouping\"] = example_universe[\"eval_fairness_grouping\"][0]\n",
    "fairness_dict, metric_frame = universe_analysis.compute_metrics(\n",
    "    example_universe,\n",
    "    y_pred_prob=probs_test,\n",
    "    y_test=y_true,\n",
    "    org_test=org_test,\n",
    ")"
   ]
  },
  {
   "cell_type": "markdown",
   "id": "1fb7a0e9",
   "metadata": {
    "papermill": {
     "duration": 0.012327,
     "end_time": "2025-08-19T18:53:35.032131",
     "exception": false,
     "start_time": "2025-08-19T18:53:35.019804",
     "status": "completed"
    },
    "tags": []
   },
   "source": [
    "# Overall"
   ]
  },
  {
   "cell_type": "markdown",
   "id": "be1784b1",
   "metadata": {
    "papermill": {
     "duration": 0.012393,
     "end_time": "2025-08-19T18:53:35.058125",
     "exception": false,
     "start_time": "2025-08-19T18:53:35.045732",
     "status": "completed"
    },
    "tags": []
   },
   "source": [
    "Main fairness target: Equalized Odds. Seems to be a better fit than equal opportunity, since we're not only interested in Y = 1. Seems to be a better fit than demographic parity, since we also care about accuracy, not just equal distribution of preds.\n",
    "\n",
    "Pick column for computation of fairness metrics\n",
    "\n",
    "Performance\n",
    "Overall performance measures, most interesting in relation to the measures split by group below"
   ]
  },
  {
   "cell_type": "code",
   "execution_count": 59,
   "id": "b7672bee",
   "metadata": {
    "execution": {
     "iopub.execute_input": "2025-08-19T18:53:35.086596Z",
     "iopub.status.busy": "2025-08-19T18:53:35.085799Z",
     "iopub.status.idle": "2025-08-19T18:53:35.099517Z",
     "shell.execute_reply": "2025-08-19T18:53:35.098462Z"
    },
    "papermill": {
     "duration": 0.030506,
     "end_time": "2025-08-19T18:53:35.101106",
     "exception": false,
     "start_time": "2025-08-19T18:53:35.070600",
     "status": "completed"
    },
    "tags": []
   },
   "outputs": [
    {
     "data": {
      "text/plain": [
       "accuracy                   0.217445\n",
       "balanced accuracy          0.533135\n",
       "f1                         0.238967\n",
       "precision                  0.136514\n",
       "false positive rate        0.891499\n",
       "false negative rate        0.042231\n",
       "selection rate             0.900000\n",
       "count                  89710.000000\n",
       "dtype: float64"
      ]
     },
     "execution_count": 59,
     "metadata": {},
     "output_type": "execute_result"
    }
   ],
   "source": [
    "metric_frame.overall"
   ]
  },
  {
   "cell_type": "markdown",
   "id": "d93333c9",
   "metadata": {
    "papermill": {
     "duration": 0.01311,
     "end_time": "2025-08-19T18:53:35.133514",
     "exception": false,
     "start_time": "2025-08-19T18:53:35.120404",
     "status": "completed"
    },
    "tags": []
   },
   "source": [
    "By Group"
   ]
  },
  {
   "cell_type": "code",
   "execution_count": 60,
   "id": "52256966",
   "metadata": {
    "execution": {
     "iopub.execute_input": "2025-08-19T18:53:35.161985Z",
     "iopub.status.busy": "2025-08-19T18:53:35.161281Z",
     "iopub.status.idle": "2025-08-19T18:53:35.183235Z",
     "shell.execute_reply": "2025-08-19T18:53:35.182150Z"
    },
    "papermill": {
     "duration": 0.038382,
     "end_time": "2025-08-19T18:53:35.184998",
     "exception": false,
     "start_time": "2025-08-19T18:53:35.146616",
     "status": "completed"
    },
    "tags": []
   },
   "outputs": [
    {
     "data": {
      "text/html": [
       "<div>\n",
       "<style scoped>\n",
       "    .dataframe tbody tr th:only-of-type {\n",
       "        vertical-align: middle;\n",
       "    }\n",
       "\n",
       "    .dataframe tbody tr th {\n",
       "        vertical-align: top;\n",
       "    }\n",
       "\n",
       "    .dataframe thead th {\n",
       "        text-align: right;\n",
       "    }\n",
       "</style>\n",
       "<table border=\"1\" class=\"dataframe\">\n",
       "  <thead>\n",
       "    <tr style=\"text-align: right;\">\n",
       "      <th></th>\n",
       "      <th>accuracy</th>\n",
       "      <th>balanced accuracy</th>\n",
       "      <th>f1</th>\n",
       "      <th>precision</th>\n",
       "      <th>false positive rate</th>\n",
       "      <th>false negative rate</th>\n",
       "      <th>selection rate</th>\n",
       "      <th>count</th>\n",
       "    </tr>\n",
       "    <tr>\n",
       "      <th>majmin</th>\n",
       "      <th></th>\n",
       "      <th></th>\n",
       "      <th></th>\n",
       "      <th></th>\n",
       "      <th></th>\n",
       "      <th></th>\n",
       "      <th></th>\n",
       "      <th></th>\n",
       "    </tr>\n",
       "  </thead>\n",
       "  <tbody>\n",
       "    <tr>\n",
       "      <th>majority</th>\n",
       "      <td>0.238326</td>\n",
       "      <td>0.540819</td>\n",
       "      <td>0.248291</td>\n",
       "      <td>0.142763</td>\n",
       "      <td>0.870332</td>\n",
       "      <td>0.048031</td>\n",
       "      <td>0.881119</td>\n",
       "      <td>69170.0</td>\n",
       "    </tr>\n",
       "    <tr>\n",
       "      <th>minority</th>\n",
       "      <td>0.147128</td>\n",
       "      <td>0.509364</td>\n",
       "      <td>0.209477</td>\n",
       "      <td>0.117270</td>\n",
       "      <td>0.961424</td>\n",
       "      <td>0.019848</td>\n",
       "      <td>0.963583</td>\n",
       "      <td>20540.0</td>\n",
       "    </tr>\n",
       "  </tbody>\n",
       "</table>\n",
       "</div>"
      ],
      "text/plain": [
       "          accuracy  balanced accuracy        f1  precision  \\\n",
       "majmin                                                       \n",
       "majority  0.238326           0.540819  0.248291   0.142763   \n",
       "minority  0.147128           0.509364  0.209477   0.117270   \n",
       "\n",
       "          false positive rate  false negative rate  selection rate    count  \n",
       "majmin                                                                       \n",
       "majority             0.870332             0.048031        0.881119  69170.0  \n",
       "minority             0.961424             0.019848        0.963583  20540.0  "
      ]
     },
     "execution_count": 60,
     "metadata": {},
     "output_type": "execute_result"
    }
   ],
   "source": [
    "metric_frame.by_group"
   ]
  },
  {
   "cell_type": "code",
   "execution_count": 61,
   "id": "6e6c20ae",
   "metadata": {
    "execution": {
     "iopub.execute_input": "2025-08-19T18:53:35.221304Z",
     "iopub.status.busy": "2025-08-19T18:53:35.220606Z",
     "iopub.status.idle": "2025-08-19T18:53:37.065768Z",
     "shell.execute_reply": "2025-08-19T18:53:37.064791Z"
    },
    "papermill": {
     "duration": 1.865828,
     "end_time": "2025-08-19T18:53:37.071271",
     "exception": false,
     "start_time": "2025-08-19T18:53:35.205443",
     "status": "completed"
    },
    "tags": []
   },
   "outputs": [
    {
     "data": {
      "text/plain": [
       "array([[<Axes: title={'center': 'accuracy'}, xlabel='majmin'>,\n",
       "        <Axes: title={'center': 'balanced accuracy'}, xlabel='majmin'>,\n",
       "        <Axes: title={'center': 'f1'}, xlabel='majmin'>],\n",
       "       [<Axes: title={'center': 'precision'}, xlabel='majmin'>,\n",
       "        <Axes: title={'center': 'false positive rate'}, xlabel='majmin'>,\n",
       "        <Axes: title={'center': 'false negative rate'}, xlabel='majmin'>],\n",
       "       [<Axes: title={'center': 'selection rate'}, xlabel='majmin'>,\n",
       "        <Axes: title={'center': 'count'}, xlabel='majmin'>,\n",
       "        <Axes: xlabel='majmin'>]], dtype=object)"
      ]
     },
     "execution_count": 61,
     "metadata": {},
     "output_type": "execute_result"
    },
    {
     "data": {
      "image/png": "[encoded data removed]",
      "text/plain": [
       "<Figure size 1200x800 with 9 Axes>"
      ]
     },
     "metadata": {},
     "output_type": "display_data"
    }
   ],
   "source": [
    "# In a graphic\n",
    "metric_frame.by_group.plot.bar(\n",
    "    subplots=True,\n",
    "    layout=[3, 3],\n",
    "    legend=False,\n",
    "    figsize=[12, 8],\n",
    "    title=\"Show all metrics\",\n",
    ")"
   ]
  },
  {
   "cell_type": "markdown",
   "id": "b2e433ae",
   "metadata": {
    "papermill": {
     "duration": 0.013894,
     "end_time": "2025-08-19T18:53:37.111005",
     "exception": false,
     "start_time": "2025-08-19T18:53:37.097111",
     "status": "completed"
    },
    "tags": []
   },
   "source": [
    "# Final Output"
   ]
  },
  {
   "cell_type": "code",
   "execution_count": 62,
   "id": "3871301e",
   "metadata": {
    "execution": {
     "iopub.execute_input": "2025-08-19T18:53:37.142492Z",
     "iopub.status.busy": "2025-08-19T18:53:37.140727Z",
     "iopub.status.idle": "2025-08-19T18:53:37.160415Z",
     "shell.execute_reply": "2025-08-19T18:53:37.158840Z"
    },
    "papermill": {
     "duration": 0.037434,
     "end_time": "2025-08-19T18:53:37.161960",
     "exception": false,
     "start_time": "2025-08-19T18:53:37.124526",
     "status": "completed"
    },
    "tags": []
   },
   "outputs": [
    {
     "data": {
      "text/plain": [
       "4"
      ]
     },
     "execution_count": 62,
     "metadata": {},
     "output_type": "execute_result"
    }
   ],
   "source": [
    "sub_universes = universe_analysis.generate_sub_universes()\n",
    "len(sub_universes)"
   ]
  },
  {
   "cell_type": "code",
   "execution_count": 63,
   "id": "d9cfdaca",
   "metadata": {
    "execution": {
     "iopub.execute_input": "2025-08-19T18:53:37.199835Z",
     "iopub.status.busy": "2025-08-19T18:53:37.197595Z",
     "iopub.status.idle": "2025-08-19T18:53:37.207769Z",
     "shell.execute_reply": "2025-08-19T18:53:37.206648Z"
    },
    "papermill": {
     "duration": 0.029787,
     "end_time": "2025-08-19T18:53:37.209261",
     "exception": false,
     "start_time": "2025-08-19T18:53:37.179474",
     "status": "completed"
    },
    "tags": []
   },
   "outputs": [],
   "source": [
    "def filter_sub_universe_data(sub_universe, org_test):\n",
    "    # Keep all rows — no filtering\n",
    "    keep_rows_mask = np.ones(org_test.shape[0], dtype=bool)\n",
    "\n",
    "    print(f\"[INFO] Keeping all rows: {keep_rows_mask.sum()} rows retained.\")\n",
    "    return keep_rows_mask"
   ]
  },
  {
   "cell_type": "code",
   "execution_count": 64,
   "id": "2bc31ac1",
   "metadata": {
    "execution": {
     "iopub.execute_input": "2025-08-19T18:53:37.240958Z",
     "iopub.status.busy": "2025-08-19T18:53:37.240122Z",
     "iopub.status.idle": "2025-08-19T18:53:44.108857Z",
     "shell.execute_reply": "2025-08-19T18:53:44.107836Z"
    },
    "papermill": {
     "duration": 6.886755,
     "end_time": "2025-08-19T18:53:44.110245",
     "exception": false,
     "start_time": "2025-08-19T18:53:37.223490",
     "status": "completed"
    },
    "tags": []
   },
   "outputs": [
    {
     "name": "stdout",
     "output_type": "stream",
     "text": [
      "Stopping execution_time clock.\n",
      "[INFO] Keeping all rows: 89710 rows retained.\n"
     ]
    },
    {
     "name": "stdout",
     "output_type": "stream",
     "text": [
      "[INFO] Keeping all rows: 89710 rows retained.\n"
     ]
    },
    {
     "name": "stdout",
     "output_type": "stream",
     "text": [
      "[INFO] Keeping all rows: 89710 rows retained.\n"
     ]
    },
    {
     "name": "stdout",
     "output_type": "stream",
     "text": [
      "[INFO] Keeping all rows: 89710 rows retained.\n"
     ]
    },
    {
     "data": {
      "text/html": [
       "<div>\n",
       "<style scoped>\n",
       "    .dataframe tbody tr th:only-of-type {\n",
       "        vertical-align: middle;\n",
       "    }\n",
       "\n",
       "    .dataframe tbody tr th {\n",
       "        vertical-align: top;\n",
       "    }\n",
       "\n",
       "    .dataframe thead th {\n",
       "        text-align: right;\n",
       "    }\n",
       "</style>\n",
       "<table border=\"1\" class=\"dataframe\">\n",
       "  <thead>\n",
       "    <tr style=\"text-align: right;\">\n",
       "      <th></th>\n",
       "      <th>run_no</th>\n",
       "      <th>universe_id</th>\n",
       "      <th>universe_settings</th>\n",
       "      <th>execution_time</th>\n",
       "      <th>test_size_n</th>\n",
       "      <th>test_size_frac</th>\n",
       "      <th>fair_main_equalized_odds_difference</th>\n",
       "      <th>fair_main_equalized_odds_ratio</th>\n",
       "      <th>fair_main_demographic_parity_difference</th>\n",
       "      <th>fair_main_demographic_parity_ratio</th>\n",
       "      <th>...</th>\n",
       "      <th>perf_grp_precision_0</th>\n",
       "      <th>perf_grp_precision_1</th>\n",
       "      <th>perf_grp_false positive rate_0</th>\n",
       "      <th>perf_grp_false positive rate_1</th>\n",
       "      <th>perf_grp_false negative rate_0</th>\n",
       "      <th>perf_grp_false negative rate_1</th>\n",
       "      <th>perf_grp_selection rate_0</th>\n",
       "      <th>perf_grp_selection rate_1</th>\n",
       "      <th>perf_grp_count_0</th>\n",
       "      <th>perf_grp_count_1</th>\n",
       "    </tr>\n",
       "  </thead>\n",
       "  <tbody>\n",
       "    <tr>\n",
       "      <th>0</th>\n",
       "      <td>3</td>\n",
       "      <td>404b78312def499131702640f6b9b3a3</td>\n",
       "      <td>{\"cutoff\": \"quantile_0.1\", \"eval_fairness_grou...</td>\n",
       "      <td>21.299526</td>\n",
       "      <td>89710</td>\n",
       "      <td>1.0</td>\n",
       "      <td>0.091093</td>\n",
       "      <td>0.905252</td>\n",
       "      <td>0.082464</td>\n",
       "      <td>0.914419</td>\n",
       "      <td>...</td>\n",
       "      <td>NaN</td>\n",
       "      <td>NaN</td>\n",
       "      <td>NaN</td>\n",
       "      <td>NaN</td>\n",
       "      <td>NaN</td>\n",
       "      <td>NaN</td>\n",
       "      <td>NaN</td>\n",
       "      <td>NaN</td>\n",
       "      <td>NaN</td>\n",
       "      <td>NaN</td>\n",
       "    </tr>\n",
       "    <tr>\n",
       "      <th>0</th>\n",
       "      <td>3</td>\n",
       "      <td>404b78312def499131702640f6b9b3a3</td>\n",
       "      <td>{\"cutoff\": \"quantile_0.1\", \"eval_fairness_grou...</td>\n",
       "      <td>21.299526</td>\n",
       "      <td>89710</td>\n",
       "      <td>1.0</td>\n",
       "      <td>0.091093</td>\n",
       "      <td>0.905252</td>\n",
       "      <td>0.082464</td>\n",
       "      <td>0.914419</td>\n",
       "      <td>...</td>\n",
       "      <td>0.117270</td>\n",
       "      <td>0.142763</td>\n",
       "      <td>0.961424</td>\n",
       "      <td>0.870332</td>\n",
       "      <td>0.019848</td>\n",
       "      <td>0.048031</td>\n",
       "      <td>0.963583</td>\n",
       "      <td>0.881119</td>\n",
       "      <td>20540.0</td>\n",
       "      <td>69170.0</td>\n",
       "    </tr>\n",
       "    <tr>\n",
       "      <th>0</th>\n",
       "      <td>3</td>\n",
       "      <td>404b78312def499131702640f6b9b3a3</td>\n",
       "      <td>{\"cutoff\": \"quantile_0.25\", \"eval_fairness_gro...</td>\n",
       "      <td>21.299526</td>\n",
       "      <td>89710</td>\n",
       "      <td>1.0</td>\n",
       "      <td>0.209181</td>\n",
       "      <td>0.765761</td>\n",
       "      <td>0.191519</td>\n",
       "      <td>0.786647</td>\n",
       "      <td>...</td>\n",
       "      <td>NaN</td>\n",
       "      <td>NaN</td>\n",
       "      <td>NaN</td>\n",
       "      <td>NaN</td>\n",
       "      <td>NaN</td>\n",
       "      <td>NaN</td>\n",
       "      <td>NaN</td>\n",
       "      <td>NaN</td>\n",
       "      <td>NaN</td>\n",
       "      <td>NaN</td>\n",
       "    </tr>\n",
       "    <tr>\n",
       "      <th>0</th>\n",
       "      <td>3</td>\n",
       "      <td>404b78312def499131702640f6b9b3a3</td>\n",
       "      <td>{\"cutoff\": \"quantile_0.25\", \"eval_fairness_gro...</td>\n",
       "      <td>21.299526</td>\n",
       "      <td>89710</td>\n",
       "      <td>1.0</td>\n",
       "      <td>0.209181</td>\n",
       "      <td>0.765761</td>\n",
       "      <td>0.191519</td>\n",
       "      <td>0.786647</td>\n",
       "      <td>...</td>\n",
       "      <td>0.119861</td>\n",
       "      <td>0.159549</td>\n",
       "      <td>0.893022</td>\n",
       "      <td>0.683841</td>\n",
       "      <td>0.066723</td>\n",
       "      <td>0.147374</td>\n",
       "      <td>0.897663</td>\n",
       "      <td>0.706144</td>\n",
       "      <td>20540.0</td>\n",
       "      <td>69170.0</td>\n",
       "    </tr>\n",
       "  </tbody>\n",
       "</table>\n",
       "<p>4 rows × 50 columns</p>\n",
       "</div>"
      ],
      "text/plain": [
       "  run_no                       universe_id  \\\n",
       "0      3  404b78312def499131702640f6b9b3a3   \n",
       "0      3  404b78312def499131702640f6b9b3a3   \n",
       "0      3  404b78312def499131702640f6b9b3a3   \n",
       "0      3  404b78312def499131702640f6b9b3a3   \n",
       "\n",
       "                                   universe_settings  execution_time  \\\n",
       "0  {\"cutoff\": \"quantile_0.1\", \"eval_fairness_grou...       21.299526   \n",
       "0  {\"cutoff\": \"quantile_0.1\", \"eval_fairness_grou...       21.299526   \n",
       "0  {\"cutoff\": \"quantile_0.25\", \"eval_fairness_gro...       21.299526   \n",
       "0  {\"cutoff\": \"quantile_0.25\", \"eval_fairness_gro...       21.299526   \n",
       "\n",
       "   test_size_n  test_size_frac  fair_main_equalized_odds_difference  \\\n",
       "0        89710             1.0                             0.091093   \n",
       "0        89710             1.0                             0.091093   \n",
       "0        89710             1.0                             0.209181   \n",
       "0        89710             1.0                             0.209181   \n",
       "\n",
       "   fair_main_equalized_odds_ratio  fair_main_demographic_parity_difference  \\\n",
       "0                        0.905252                                 0.082464   \n",
       "0                        0.905252                                 0.082464   \n",
       "0                        0.765761                                 0.191519   \n",
       "0                        0.765761                                 0.191519   \n",
       "\n",
       "   fair_main_demographic_parity_ratio  ...  perf_grp_precision_0  \\\n",
       "0                            0.914419  ...                   NaN   \n",
       "0                            0.914419  ...              0.117270   \n",
       "0                            0.786647  ...                   NaN   \n",
       "0                            0.786647  ...              0.119861   \n",
       "\n",
       "   perf_grp_precision_1  perf_grp_false positive rate_0  \\\n",
       "0                   NaN                             NaN   \n",
       "0              0.142763                        0.961424   \n",
       "0                   NaN                             NaN   \n",
       "0              0.159549                        0.893022   \n",
       "\n",
       "   perf_grp_false positive rate_1  perf_grp_false negative rate_0  \\\n",
       "0                             NaN                             NaN   \n",
       "0                        0.870332                        0.019848   \n",
       "0                             NaN                             NaN   \n",
       "0                        0.683841                        0.066723   \n",
       "\n",
       "   perf_grp_false negative rate_1  perf_grp_selection rate_0  \\\n",
       "0                             NaN                        NaN   \n",
       "0                        0.048031                   0.963583   \n",
       "0                             NaN                        NaN   \n",
       "0                        0.147374                   0.897663   \n",
       "\n",
       "   perf_grp_selection rate_1  perf_grp_count_0  perf_grp_count_1  \n",
       "0                        NaN               NaN               NaN  \n",
       "0                   0.881119           20540.0           69170.0  \n",
       "0                        NaN               NaN               NaN  \n",
       "0                   0.706144           20540.0           69170.0  \n",
       "\n",
       "[4 rows x 50 columns]"
      ]
     },
     "execution_count": 64,
     "metadata": {},
     "output_type": "execute_result"
    }
   ],
   "source": [
    "final_output = universe_analysis.generate_final_output(\n",
    "    y_pred_prob=probs_test,\n",
    "    y_test=y_true,\n",
    "    org_test=org_test,\n",
    "    filter_data=filter_sub_universe_data,\n",
    "    cp_metrics_df=cp_metrics_df,\n",
    "    save=True,\n",
    ")\n",
    "final_output"
   ]
  },
  {
   "cell_type": "code",
   "execution_count": null,
   "id": "8b80a1ff",
   "metadata": {
    "papermill": {
     "duration": 0.015049,
     "end_time": "2025-08-19T18:53:44.154084",
     "exception": false,
     "start_time": "2025-08-19T18:53:44.139035",
     "status": "completed"
    },
    "tags": []
   },
   "outputs": [],
   "source": []
  },
  {
   "cell_type": "code",
   "execution_count": null,
   "id": "275c9fad",
   "metadata": {
    "papermill": {
     "duration": 0.014611,
     "end_time": "2025-08-19T18:53:44.183296",
     "exception": false,
     "start_time": "2025-08-19T18:53:44.168685",
     "status": "completed"
    },
    "tags": []
   },
   "outputs": [],
   "source": []
  }
 ],
 "metadata": {
  "celltoolbar": "Tags",
  "kernelspec": {
   "display_name": "Python (CMA Fairness)",
   "language": "python",
   "name": "cma_fair_env"
  },
  "language_info": {
   "codemirror_mode": {
    "name": "ipython",
    "version": 3
   },
   "file_extension": ".py",
   "mimetype": "text/x-python",
   "name": "python",
   "nbconvert_exporter": "python",
   "pygments_lexer": "ipython3",
   "version": "3.10.12"
  },
  "papermill": {
   "default_parameters": {},
   "duration": 32.20695,
   "end_time": "2025-08-19T18:53:45.220491",
   "environment_variables": {},
   "exception": null,
   "input_path": "universe_analysis.ipynb",
   "output_path": "output/runs/3/notebooks/m_3-404b78312def499131702640f6b9b3a3.ipynb",
   "parameters": {
    "output_dir": "output",
    "run_no": "3",
    "seed": "2023",
    "universe": "{\"cutoff\": [\"quantile_0.1\", \"quantile_0.25\"], \"eval_fairness_grouping\": [\"majority-minority\", \"nationality-all\"], \"exclude_features\": \"none\", \"exclude_subgroups\": \"keep-all\", \"model\": \"penalized_logreg\", \"scale\": \"do-not-scale\", \"training_size\": \"1k\", \"training_year\": \"2014\"}",
    "universe_id": "404b78312def499131702640f6b9b3a3"
   },
   "start_time": "2025-08-19T18:53:13.013541",
   "version": "2.6.0"
  }
 },
 "nbformat": 4,
 "nbformat_minor": 5
}