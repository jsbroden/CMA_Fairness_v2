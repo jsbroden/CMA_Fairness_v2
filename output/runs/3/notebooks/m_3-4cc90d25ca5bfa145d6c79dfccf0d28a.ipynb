{
 "cells": [
  {
   "cell_type": "markdown",
   "id": "ef23dbb3",
   "metadata": {
    "papermill": {
     "duration": 0.014683,
     "end_time": "2025-08-19T18:46:16.097572",
     "exception": false,
     "start_time": "2025-08-19T18:46:16.082889",
     "status": "completed"
    },
    "tags": []
   },
   "source": [
    "# Setup"
   ]
  },
  {
   "cell_type": "code",
   "execution_count": 1,
   "id": "0bc8e7dc",
   "metadata": {
    "execution": {
     "iopub.execute_input": "2025-08-19T18:46:16.131832Z",
     "iopub.status.busy": "2025-08-19T18:46:16.131414Z",
     "iopub.status.idle": "2025-08-19T18:46:16.141669Z",
     "shell.execute_reply": "2025-08-19T18:46:16.140871Z"
    },
    "papermill": {
     "duration": 0.025442,
     "end_time": "2025-08-19T18:46:16.144374",
     "exception": false,
     "start_time": "2025-08-19T18:46:16.118932",
     "status": "completed"
    },
    "tags": []
   },
   "outputs": [
    {
     "name": "stdout",
     "output_type": "stream",
     "text": [
      "/dss/dsshome1/0C/ra93lal2/cma/CMA_Fairness_v2\n"
     ]
    },
    {
     "name": "stderr",
     "output_type": "stream",
     "text": [
      "/dss/dsshome1/0C/ra93lal2/.local/share/virtualenvs/CMA_Fairness_v2-3j10GkSs/lib/python3.10/site-packages/IPython/core/magics/osm.py:393: UserWarning: This is now an optional IPython functionality, using bookmarks requires you to install the `pickleshare` library.\n",
      "  bkms = self.shell.db.get('bookmarks', {})\n",
      "/dss/dsshome1/0C/ra93lal2/.local/share/virtualenvs/CMA_Fairness_v2-3j10GkSs/lib/python3.10/site-packages/IPython/core/magics/osm.py:417: UserWarning: This is now an optional IPython functionality, setting dhist requires you to install the `pickleshare` library.\n",
      "  self.shell.db['dhist'] = compress_dhist(dhist)[-100:]\n"
     ]
    }
   ],
   "source": [
    "%cd ~/cma/CMA_Fairness_v2"
   ]
  },
  {
   "cell_type": "markdown",
   "id": "9d235661",
   "metadata": {
    "papermill": {
     "duration": 0.00942,
     "end_time": "2025-08-19T18:46:16.164127",
     "exception": false,
     "start_time": "2025-08-19T18:46:16.154707",
     "status": "completed"
    },
    "tags": []
   },
   "source": [
    "The following cell holds the definition of our parameters, these values can be overriden by rendering the with e.g. the following command:\n",
    "\n",
    "papermill -p alpha 0.2 -p ratio 0.3 universe_analysis.ipynb output/test_run.ipynb"
   ]
  },
  {
   "cell_type": "code",
   "execution_count": 2,
   "id": "4a789d8e",
   "metadata": {
    "execution": {
     "iopub.execute_input": "2025-08-19T18:46:16.183251Z",
     "iopub.status.busy": "2025-08-19T18:46:16.182840Z",
     "iopub.status.idle": "2025-08-19T18:46:16.186978Z",
     "shell.execute_reply": "2025-08-19T18:46:16.186289Z"
    },
    "papermill": {
     "duration": 0.016099,
     "end_time": "2025-08-19T18:46:16.189176",
     "exception": false,
     "start_time": "2025-08-19T18:46:16.173077",
     "status": "completed"
    },
    "tags": []
   },
   "outputs": [
    {
     "name": "stdout",
     "output_type": "stream",
     "text": [
      "Current working directory: /dss/dsshome1/0C/ra93lal2/cma/CMA_Fairness_v2\n"
     ]
    }
   ],
   "source": [
    "import os\n",
    "print(\"Current working directory:\", os.getcwd())"
   ]
  },
  {
   "cell_type": "code",
   "execution_count": 3,
   "id": "4132aaed",
   "metadata": {
    "execution": {
     "iopub.execute_input": "2025-08-19T18:46:16.209118Z",
     "iopub.status.busy": "2025-08-19T18:46:16.208731Z",
     "iopub.status.idle": "2025-08-19T18:46:16.213447Z",
     "shell.execute_reply": "2025-08-19T18:46:16.212757Z"
    },
    "papermill": {
     "duration": 0.016105,
     "end_time": "2025-08-19T18:46:16.214896",
     "exception": false,
     "start_time": "2025-08-19T18:46:16.198791",
     "status": "completed"
    },
    "tags": [
     "parameters"
    ]
   },
   "outputs": [],
   "source": [
    "run_no = 0\n",
    "universe_id = \"test\"\n",
    "universe = {\n",
    "    \"training_size\": \"5k\", # \"25k\", \"5k\", \"1k\"\n",
    "    \"training_year\": \"2012_14\", # \"2014\", \"2012_14\", \"2010_14\"\n",
    "    \"scale\": \"scale\", # \"scale\", \"do-not-scale\",\n",
    "    \"model\": \"elasticnet\", # \"logreg\", \"penalized_logreg\", \"rf\", \"gbm\", \"elasticnet\"\n",
    "    \"cutoff\": [\"quantile_0.15\", \"quantile_0.30\"],\n",
    "    \"exclude_features\": \"age\", # \"none\", \"nationality\", \"sex\", \"nationality-sex\", \"age\"\n",
    "    \"exclude_subgroups\": \"drop-non-german\", # \"keep-all\", \"drop-non-german\"\n",
    "    \"eval_fairness_grouping\": [\"majority-minority\", \"nationality-all\"]\n",
    "}\n",
    "\n",
    "output_dir=\"./output\"\n",
    "seed=0"
   ]
  },
  {
   "cell_type": "code",
   "execution_count": 4,
   "id": "9250bbdd",
   "metadata": {
    "execution": {
     "iopub.execute_input": "2025-08-19T18:46:16.235376Z",
     "iopub.status.busy": "2025-08-19T18:46:16.234855Z",
     "iopub.status.idle": "2025-08-19T18:46:16.239268Z",
     "shell.execute_reply": "2025-08-19T18:46:16.238457Z"
    },
    "papermill": {
     "duration": 0.016102,
     "end_time": "2025-08-19T18:46:16.240668",
     "exception": false,
     "start_time": "2025-08-19T18:46:16.224566",
     "status": "completed"
    },
    "tags": [
     "injected-parameters"
    ]
   },
   "outputs": [],
   "source": [
    "# Parameters\n",
    "universe_id = \"4cc90d25ca5bfa145d6c79dfccf0d28a\"\n",
    "run_no = \"3\"\n",
    "universe = \"{\\\"cutoff\\\": [\\\"quantile_0.1\\\", \\\"quantile_0.25\\\"], \\\"eval_fairness_grouping\\\": [\\\"majority-minority\\\", \\\"nationality-all\\\"], \\\"exclude_features\\\": \\\"sex\\\", \\\"exclude_subgroups\\\": \\\"keep-all\\\", \\\"model\\\": \\\"rf\\\", \\\"scale\\\": \\\"do-not-scale\\\", \\\"training_size\\\": \\\"5k\\\", \\\"training_year\\\": \\\"2010_14\\\"}\"\n",
    "output_dir = \"output\"\n",
    "seed = \"2023\"\n"
   ]
  },
  {
   "cell_type": "code",
   "execution_count": 5,
   "id": "a5d7941f",
   "metadata": {
    "execution": {
     "iopub.execute_input": "2025-08-19T18:46:16.260515Z",
     "iopub.status.busy": "2025-08-19T18:46:16.260107Z",
     "iopub.status.idle": "2025-08-19T18:46:16.271262Z",
     "shell.execute_reply": "2025-08-19T18:46:16.270401Z"
    },
    "papermill": {
     "duration": 0.023513,
     "end_time": "2025-08-19T18:46:16.273179",
     "exception": false,
     "start_time": "2025-08-19T18:46:16.249666",
     "status": "completed"
    },
    "tags": []
   },
   "outputs": [],
   "source": [
    "import json\n",
    "if isinstance(universe, str):\n",
    "    universe = json.loads(universe)"
   ]
  },
  {
   "cell_type": "code",
   "execution_count": 6,
   "id": "7076ccb1",
   "metadata": {
    "execution": {
     "iopub.execute_input": "2025-08-19T18:46:16.296767Z",
     "iopub.status.busy": "2025-08-19T18:46:16.295824Z",
     "iopub.status.idle": "2025-08-19T18:46:16.353998Z",
     "shell.execute_reply": "2025-08-19T18:46:16.350630Z"
    },
    "papermill": {
     "duration": 0.072613,
     "end_time": "2025-08-19T18:46:16.357304",
     "exception": false,
     "start_time": "2025-08-19T18:46:16.284691",
     "status": "completed"
    },
    "tags": []
   },
   "outputs": [],
   "source": [
    "# Auto-reload the custom package\n",
    "%load_ext autoreload\n",
    "%autoreload 1\n",
    "%aimport fairness_multiverse"
   ]
  },
  {
   "cell_type": "code",
   "execution_count": 7,
   "id": "94c8eb93",
   "metadata": {
    "execution": {
     "iopub.execute_input": "2025-08-19T18:46:16.394462Z",
     "iopub.status.busy": "2025-08-19T18:46:16.394053Z",
     "iopub.status.idle": "2025-08-19T18:46:18.152997Z",
     "shell.execute_reply": "2025-08-19T18:46:18.148082Z"
    },
    "papermill": {
     "duration": 1.778339,
     "end_time": "2025-08-19T18:46:18.158290",
     "exception": false,
     "start_time": "2025-08-19T18:46:16.379951",
     "status": "completed"
    },
    "tags": []
   },
   "outputs": [],
   "source": [
    "from fairness_multiverse.universe import UniverseAnalysis\n",
    "\n",
    "universe_analysis = UniverseAnalysis(\n",
    "    run_no = run_no,\n",
    "    universe_id = universe_id,\n",
    "    universe = universe,\n",
    "    output_dir=output_dir,\n",
    ")"
   ]
  },
  {
   "cell_type": "code",
   "execution_count": 8,
   "id": "2a6381cf",
   "metadata": {
    "execution": {
     "iopub.execute_input": "2025-08-19T18:46:18.183595Z",
     "iopub.status.busy": "2025-08-19T18:46:18.183042Z",
     "iopub.status.idle": "2025-08-19T18:46:18.197216Z",
     "shell.execute_reply": "2025-08-19T18:46:18.189511Z"
    },
    "papermill": {
     "duration": 0.029358,
     "end_time": "2025-08-19T18:46:18.198383",
     "exception": false,
     "start_time": "2025-08-19T18:46:18.169025",
     "status": "completed"
    },
    "tags": []
   },
   "outputs": [
    {
     "name": "stdout",
     "output_type": "stream",
     "text": [
      "Using Seed: 2023\n"
     ]
    }
   ],
   "source": [
    "import numpy as np\n",
    "parsed_seed = int(seed)\n",
    "np.random.seed(parsed_seed)\n",
    "print(f\"Using Seed: {parsed_seed}\")"
   ]
  },
  {
   "cell_type": "markdown",
   "id": "b6e958b4",
   "metadata": {
    "papermill": {
     "duration": 0.009001,
     "end_time": "2025-08-19T18:46:18.219638",
     "exception": false,
     "start_time": "2025-08-19T18:46:18.210637",
     "status": "completed"
    },
    "tags": []
   },
   "source": [
    "# Loading Data"
   ]
  },
  {
   "cell_type": "code",
   "execution_count": 9,
   "id": "98701482",
   "metadata": {
    "execution": {
     "iopub.execute_input": "2025-08-19T18:46:18.239712Z",
     "iopub.status.busy": "2025-08-19T18:46:18.238743Z",
     "iopub.status.idle": "2025-08-19T18:46:28.311084Z",
     "shell.execute_reply": "2025-08-19T18:46:28.309792Z"
    },
    "papermill": {
     "duration": 10.083883,
     "end_time": "2025-08-19T18:46:28.312575",
     "exception": false,
     "start_time": "2025-08-19T18:46:18.228692",
     "status": "completed"
    },
    "tags": []
   },
   "outputs": [
    {
     "name": "stdout",
     "output_type": "stream",
     "text": [
      "Loading SIAB data from cache: data/siab_cached.csv.gz\n"
     ]
    },
    {
     "name": "stdout",
     "output_type": "stream",
     "text": [
      "(643690, 164)\n"
     ]
    }
   ],
   "source": [
    "from pathlib import Path\n",
    "import pandas as pd\n",
    "\n",
    "# File paths\n",
    "raw_file = Path(\"data/raw/siab.csv\")\n",
    "cache_file = Path(\"data/siab_cached.csv.gz\")\n",
    "\n",
    "# Ensure cache directory exists\n",
    "cache_file.parent.mkdir(parents=True, exist_ok=True)\n",
    "\n",
    "# Load with simple caching\n",
    "if cache_file.exists():\n",
    "    print(f\"Loading SIAB data from cache: {cache_file}\")\n",
    "    siab = pd.read_csv(cache_file, compression='gzip')\n",
    "else:\n",
    "    print(f\"Cache not found. Reading raw SIAB data: {raw_file}\")\n",
    "    siab = pd.read_csv(raw_file)\n",
    "    siab.to_csv(cache_file, index=False, compression='gzip')\n",
    "    print(f\"Cached SIAB data to: {cache_file}\")\n",
    "\n",
    "print(siab.shape)"
   ]
  },
  {
   "cell_type": "code",
   "execution_count": 10,
   "id": "058d2abb",
   "metadata": {
    "execution": {
     "iopub.execute_input": "2025-08-19T18:46:28.358120Z",
     "iopub.status.busy": "2025-08-19T18:46:28.357344Z",
     "iopub.status.idle": "2025-08-19T18:46:28.573407Z",
     "shell.execute_reply": "2025-08-19T18:46:28.572703Z"
    },
    "papermill": {
     "duration": 0.247065,
     "end_time": "2025-08-19T18:46:28.574873",
     "exception": false,
     "start_time": "2025-08-19T18:46:28.327808",
     "status": "completed"
    },
    "tags": []
   },
   "outputs": [
    {
     "data": {
      "text/html": [
       "<div>\n",
       "<style scoped>\n",
       "    .dataframe tbody tr th:only-of-type {\n",
       "        vertical-align: middle;\n",
       "    }\n",
       "\n",
       "    .dataframe tbody tr th {\n",
       "        vertical-align: top;\n",
       "    }\n",
       "\n",
       "    .dataframe thead th {\n",
       "        text-align: right;\n",
       "    }\n",
       "</style>\n",
       "<table border=\"1\" class=\"dataframe\">\n",
       "  <thead>\n",
       "    <tr style=\"text-align: right;\">\n",
       "      <th></th>\n",
       "      <th>persnr</th>\n",
       "      <th>year</th>\n",
       "      <th>nrEntry</th>\n",
       "      <th>ltue</th>\n",
       "      <th>employed_before</th>\n",
       "      <th>receipt_leh_before</th>\n",
       "      <th>receipt_lhg_before</th>\n",
       "      <th>se_before</th>\n",
       "      <th>ASU_notue_seeking_before</th>\n",
       "      <th>ASU_other_before</th>\n",
       "      <th>...</th>\n",
       "      <th>minijob_tot_dur_byage</th>\n",
       "      <th>ft_tot_dur_byage</th>\n",
       "      <th>befrist_tot_dur_byage</th>\n",
       "      <th>leih_tot_dur_byage</th>\n",
       "      <th>LHG_tot_dur_byage</th>\n",
       "      <th>LEH_tot_dur_byage</th>\n",
       "      <th>almp_tot_dur_byage</th>\n",
       "      <th>almp_aw_tot_dur_byage</th>\n",
       "      <th>se_tot_dur_byage</th>\n",
       "      <th>seeking1_tot_dur_byage</th>\n",
       "    </tr>\n",
       "  </thead>\n",
       "  <tbody>\n",
       "    <tr>\n",
       "      <th>0</th>\n",
       "      <td>7</td>\n",
       "      <td>2015</td>\n",
       "      <td>1</td>\n",
       "      <td>0</td>\n",
       "      <td>1</td>\n",
       "      <td>0</td>\n",
       "      <td>0</td>\n",
       "      <td>0</td>\n",
       "      <td>1</td>\n",
       "      <td>0</td>\n",
       "      <td>...</td>\n",
       "      <td>0.000000</td>\n",
       "      <td>0.000000</td>\n",
       "      <td>15.043478</td>\n",
       "      <td>0.000000</td>\n",
       "      <td>0.000000</td>\n",
       "      <td>0.000000</td>\n",
       "      <td>0.000000</td>\n",
       "      <td>0.000000</td>\n",
       "      <td>0.000000</td>\n",
       "      <td>0.000000</td>\n",
       "    </tr>\n",
       "    <tr>\n",
       "      <th>1</th>\n",
       "      <td>18</td>\n",
       "      <td>2010</td>\n",
       "      <td>1</td>\n",
       "      <td>1</td>\n",
       "      <td>0</td>\n",
       "      <td>0</td>\n",
       "      <td>0</td>\n",
       "      <td>0</td>\n",
       "      <td>0</td>\n",
       "      <td>0</td>\n",
       "      <td>...</td>\n",
       "      <td>0.000000</td>\n",
       "      <td>0.000000</td>\n",
       "      <td>0.000000</td>\n",
       "      <td>0.000000</td>\n",
       "      <td>0.000000</td>\n",
       "      <td>0.000000</td>\n",
       "      <td>0.000000</td>\n",
       "      <td>0.000000</td>\n",
       "      <td>0.000000</td>\n",
       "      <td>0.000000</td>\n",
       "    </tr>\n",
       "    <tr>\n",
       "      <th>2</th>\n",
       "      <td>18</td>\n",
       "      <td>2011</td>\n",
       "      <td>2</td>\n",
       "      <td>0</td>\n",
       "      <td>1</td>\n",
       "      <td>0</td>\n",
       "      <td>1</td>\n",
       "      <td>0</td>\n",
       "      <td>1</td>\n",
       "      <td>0</td>\n",
       "      <td>...</td>\n",
       "      <td>2.714286</td>\n",
       "      <td>2.714286</td>\n",
       "      <td>0.000000</td>\n",
       "      <td>0.000000</td>\n",
       "      <td>10.775510</td>\n",
       "      <td>0.000000</td>\n",
       "      <td>8.367347</td>\n",
       "      <td>0.000000</td>\n",
       "      <td>0.000000</td>\n",
       "      <td>9.836735</td>\n",
       "    </tr>\n",
       "    <tr>\n",
       "      <th>3</th>\n",
       "      <td>18</td>\n",
       "      <td>2012</td>\n",
       "      <td>3</td>\n",
       "      <td>0</td>\n",
       "      <td>1</td>\n",
       "      <td>0</td>\n",
       "      <td>1</td>\n",
       "      <td>0</td>\n",
       "      <td>1</td>\n",
       "      <td>0</td>\n",
       "      <td>...</td>\n",
       "      <td>4.200000</td>\n",
       "      <td>4.200000</td>\n",
       "      <td>0.000000</td>\n",
       "      <td>0.000000</td>\n",
       "      <td>12.100000</td>\n",
       "      <td>0.000000</td>\n",
       "      <td>9.400000</td>\n",
       "      <td>0.000000</td>\n",
       "      <td>0.000000</td>\n",
       "      <td>9.960000</td>\n",
       "    </tr>\n",
       "    <tr>\n",
       "      <th>4</th>\n",
       "      <td>18</td>\n",
       "      <td>2012</td>\n",
       "      <td>4</td>\n",
       "      <td>0</td>\n",
       "      <td>1</td>\n",
       "      <td>0</td>\n",
       "      <td>1</td>\n",
       "      <td>0</td>\n",
       "      <td>1</td>\n",
       "      <td>0</td>\n",
       "      <td>...</td>\n",
       "      <td>5.460000</td>\n",
       "      <td>5.460000</td>\n",
       "      <td>0.000000</td>\n",
       "      <td>0.000000</td>\n",
       "      <td>13.360000</td>\n",
       "      <td>0.000000</td>\n",
       "      <td>10.320000</td>\n",
       "      <td>0.000000</td>\n",
       "      <td>0.000000</td>\n",
       "      <td>10.280000</td>\n",
       "    </tr>\n",
       "    <tr>\n",
       "      <th>...</th>\n",
       "      <td>...</td>\n",
       "      <td>...</td>\n",
       "      <td>...</td>\n",
       "      <td>...</td>\n",
       "      <td>...</td>\n",
       "      <td>...</td>\n",
       "      <td>...</td>\n",
       "      <td>...</td>\n",
       "      <td>...</td>\n",
       "      <td>...</td>\n",
       "      <td>...</td>\n",
       "      <td>...</td>\n",
       "      <td>...</td>\n",
       "      <td>...</td>\n",
       "      <td>...</td>\n",
       "      <td>...</td>\n",
       "      <td>...</td>\n",
       "      <td>...</td>\n",
       "      <td>...</td>\n",
       "      <td>...</td>\n",
       "      <td>...</td>\n",
       "    </tr>\n",
       "    <tr>\n",
       "      <th>643685</th>\n",
       "      <td>1827860</td>\n",
       "      <td>2013</td>\n",
       "      <td>1</td>\n",
       "      <td>0</td>\n",
       "      <td>0</td>\n",
       "      <td>0</td>\n",
       "      <td>1</td>\n",
       "      <td>0</td>\n",
       "      <td>0</td>\n",
       "      <td>1</td>\n",
       "      <td>...</td>\n",
       "      <td>0.000000</td>\n",
       "      <td>0.000000</td>\n",
       "      <td>0.000000</td>\n",
       "      <td>0.000000</td>\n",
       "      <td>0.612903</td>\n",
       "      <td>0.000000</td>\n",
       "      <td>0.000000</td>\n",
       "      <td>0.000000</td>\n",
       "      <td>0.000000</td>\n",
       "      <td>0.000000</td>\n",
       "    </tr>\n",
       "    <tr>\n",
       "      <th>643686</th>\n",
       "      <td>1827860</td>\n",
       "      <td>2015</td>\n",
       "      <td>2</td>\n",
       "      <td>1</td>\n",
       "      <td>0</td>\n",
       "      <td>0</td>\n",
       "      <td>1</td>\n",
       "      <td>0</td>\n",
       "      <td>1</td>\n",
       "      <td>0</td>\n",
       "      <td>...</td>\n",
       "      <td>0.000000</td>\n",
       "      <td>0.000000</td>\n",
       "      <td>0.212121</td>\n",
       "      <td>0.212121</td>\n",
       "      <td>17.363636</td>\n",
       "      <td>0.000000</td>\n",
       "      <td>8.909091</td>\n",
       "      <td>0.000000</td>\n",
       "      <td>0.000000</td>\n",
       "      <td>7.121212</td>\n",
       "    </tr>\n",
       "    <tr>\n",
       "      <th>643687</th>\n",
       "      <td>1827860</td>\n",
       "      <td>2016</td>\n",
       "      <td>3</td>\n",
       "      <td>1</td>\n",
       "      <td>0</td>\n",
       "      <td>0</td>\n",
       "      <td>1</td>\n",
       "      <td>1</td>\n",
       "      <td>0</td>\n",
       "      <td>1</td>\n",
       "      <td>...</td>\n",
       "      <td>0.000000</td>\n",
       "      <td>0.000000</td>\n",
       "      <td>0.294118</td>\n",
       "      <td>0.205882</td>\n",
       "      <td>34.705882</td>\n",
       "      <td>0.000000</td>\n",
       "      <td>10.352941</td>\n",
       "      <td>1.705882</td>\n",
       "      <td>1.705882</td>\n",
       "      <td>23.911765</td>\n",
       "    </tr>\n",
       "    <tr>\n",
       "      <th>643688</th>\n",
       "      <td>1827869</td>\n",
       "      <td>2013</td>\n",
       "      <td>1</td>\n",
       "      <td>1</td>\n",
       "      <td>1</td>\n",
       "      <td>0</td>\n",
       "      <td>0</td>\n",
       "      <td>0</td>\n",
       "      <td>1</td>\n",
       "      <td>0</td>\n",
       "      <td>...</td>\n",
       "      <td>0.000000</td>\n",
       "      <td>0.000000</td>\n",
       "      <td>0.000000</td>\n",
       "      <td>0.000000</td>\n",
       "      <td>0.000000</td>\n",
       "      <td>0.525424</td>\n",
       "      <td>0.000000</td>\n",
       "      <td>0.000000</td>\n",
       "      <td>0.000000</td>\n",
       "      <td>0.000000</td>\n",
       "    </tr>\n",
       "    <tr>\n",
       "      <th>643689</th>\n",
       "      <td>1827869</td>\n",
       "      <td>2014</td>\n",
       "      <td>2</td>\n",
       "      <td>0</td>\n",
       "      <td>0</td>\n",
       "      <td>1</td>\n",
       "      <td>0</td>\n",
       "      <td>0</td>\n",
       "      <td>1</td>\n",
       "      <td>0</td>\n",
       "      <td>...</td>\n",
       "      <td>0.000000</td>\n",
       "      <td>0.666667</td>\n",
       "      <td>0.666667</td>\n",
       "      <td>0.000000</td>\n",
       "      <td>0.000000</td>\n",
       "      <td>8.950000</td>\n",
       "      <td>1.033333</td>\n",
       "      <td>0.083333</td>\n",
       "      <td>0.083333</td>\n",
       "      <td>8.133333</td>\n",
       "    </tr>\n",
       "  </tbody>\n",
       "</table>\n",
       "<p>643690 rows × 164 columns</p>\n",
       "</div>"
      ],
      "text/plain": [
       "         persnr  year  nrEntry  ltue  employed_before  receipt_leh_before  \\\n",
       "0             7  2015        1     0                1                   0   \n",
       "1            18  2010        1     1                0                   0   \n",
       "2            18  2011        2     0                1                   0   \n",
       "3            18  2012        3     0                1                   0   \n",
       "4            18  2012        4     0                1                   0   \n",
       "...         ...   ...      ...   ...              ...                 ...   \n",
       "643685  1827860  2013        1     0                0                   0   \n",
       "643686  1827860  2015        2     1                0                   0   \n",
       "643687  1827860  2016        3     1                0                   0   \n",
       "643688  1827869  2013        1     1                1                   0   \n",
       "643689  1827869  2014        2     0                0                   1   \n",
       "\n",
       "        receipt_lhg_before  se_before  ASU_notue_seeking_before  \\\n",
       "0                        0          0                         1   \n",
       "1                        0          0                         0   \n",
       "2                        1          0                         1   \n",
       "3                        1          0                         1   \n",
       "4                        1          0                         1   \n",
       "...                    ...        ...                       ...   \n",
       "643685                   1          0                         0   \n",
       "643686                   1          0                         1   \n",
       "643687                   1          1                         0   \n",
       "643688                   0          0                         1   \n",
       "643689                   0          0                         1   \n",
       "\n",
       "        ASU_other_before  ...  minijob_tot_dur_byage  ft_tot_dur_byage  \\\n",
       "0                      0  ...               0.000000          0.000000   \n",
       "1                      0  ...               0.000000          0.000000   \n",
       "2                      0  ...               2.714286          2.714286   \n",
       "3                      0  ...               4.200000          4.200000   \n",
       "4                      0  ...               5.460000          5.460000   \n",
       "...                  ...  ...                    ...               ...   \n",
       "643685                 1  ...               0.000000          0.000000   \n",
       "643686                 0  ...               0.000000          0.000000   \n",
       "643687                 1  ...               0.000000          0.000000   \n",
       "643688                 0  ...               0.000000          0.000000   \n",
       "643689                 0  ...               0.000000          0.666667   \n",
       "\n",
       "        befrist_tot_dur_byage  leih_tot_dur_byage  LHG_tot_dur_byage  \\\n",
       "0                   15.043478            0.000000           0.000000   \n",
       "1                    0.000000            0.000000           0.000000   \n",
       "2                    0.000000            0.000000          10.775510   \n",
       "3                    0.000000            0.000000          12.100000   \n",
       "4                    0.000000            0.000000          13.360000   \n",
       "...                       ...                 ...                ...   \n",
       "643685               0.000000            0.000000           0.612903   \n",
       "643686               0.212121            0.212121          17.363636   \n",
       "643687               0.294118            0.205882          34.705882   \n",
       "643688               0.000000            0.000000           0.000000   \n",
       "643689               0.666667            0.000000           0.000000   \n",
       "\n",
       "        LEH_tot_dur_byage  almp_tot_dur_byage  almp_aw_tot_dur_byage  \\\n",
       "0                0.000000            0.000000               0.000000   \n",
       "1                0.000000            0.000000               0.000000   \n",
       "2                0.000000            8.367347               0.000000   \n",
       "3                0.000000            9.400000               0.000000   \n",
       "4                0.000000           10.320000               0.000000   \n",
       "...                   ...                 ...                    ...   \n",
       "643685           0.000000            0.000000               0.000000   \n",
       "643686           0.000000            8.909091               0.000000   \n",
       "643687           0.000000           10.352941               1.705882   \n",
       "643688           0.525424            0.000000               0.000000   \n",
       "643689           8.950000            1.033333               0.083333   \n",
       "\n",
       "        se_tot_dur_byage  seeking1_tot_dur_byage  \n",
       "0               0.000000                0.000000  \n",
       "1               0.000000                0.000000  \n",
       "2               0.000000                9.836735  \n",
       "3               0.000000                9.960000  \n",
       "4               0.000000               10.280000  \n",
       "...                  ...                     ...  \n",
       "643685          0.000000                0.000000  \n",
       "643686          0.000000                7.121212  \n",
       "643687          1.705882               23.911765  \n",
       "643688          0.000000                0.000000  \n",
       "643689          0.083333                8.133333  \n",
       "\n",
       "[643690 rows x 164 columns]"
      ]
     },
     "execution_count": 10,
     "metadata": {},
     "output_type": "execute_result"
    }
   ],
   "source": [
    "siab"
   ]
  },
  {
   "cell_type": "markdown",
   "id": "1f87e805",
   "metadata": {
    "papermill": {
     "duration": 0.009739,
     "end_time": "2025-08-19T18:46:28.596772",
     "exception": false,
     "start_time": "2025-08-19T18:46:28.587033",
     "status": "completed"
    },
    "tags": []
   },
   "source": [
    "# Splitting Data and Setting Training Data Size"
   ]
  },
  {
   "cell_type": "code",
   "execution_count": 11,
   "id": "910ae358",
   "metadata": {
    "execution": {
     "iopub.execute_input": "2025-08-19T18:46:28.617876Z",
     "iopub.status.busy": "2025-08-19T18:46:28.617532Z",
     "iopub.status.idle": "2025-08-19T18:46:29.748667Z",
     "shell.execute_reply": "2025-08-19T18:46:29.747634Z"
    },
    "papermill": {
     "duration": 1.144095,
     "end_time": "2025-08-19T18:46:29.750411",
     "exception": false,
     "start_time": "2025-08-19T18:46:28.606316",
     "status": "completed"
    },
    "tags": []
   },
   "outputs": [],
   "source": [
    "from fairness_multiverse.universe import sample_by_year_size\n",
    "\n",
    "siab_train = sample_by_year_size(siab,\n",
    "                               training_year=universe[\"training_year\"],\n",
    "                               training_size=universe[\"training_size\"])"
   ]
  },
  {
   "cell_type": "code",
   "execution_count": 12,
   "id": "919c8ff5",
   "metadata": {
    "execution": {
     "iopub.execute_input": "2025-08-19T18:46:29.774158Z",
     "iopub.status.busy": "2025-08-19T18:46:29.773845Z",
     "iopub.status.idle": "2025-08-19T18:46:29.779741Z",
     "shell.execute_reply": "2025-08-19T18:46:29.779173Z"
    },
    "papermill": {
     "duration": 0.026026,
     "end_time": "2025-08-19T18:46:29.787921",
     "exception": false,
     "start_time": "2025-08-19T18:46:29.761895",
     "status": "completed"
    },
    "tags": []
   },
   "outputs": [
    {
     "data": {
      "text/plain": [
       "(5000, 164)"
      ]
     },
     "execution_count": 12,
     "metadata": {},
     "output_type": "execute_result"
    }
   ],
   "source": [
    "siab_train.shape"
   ]
  },
  {
   "cell_type": "code",
   "execution_count": 13,
   "id": "feb13bf4",
   "metadata": {
    "execution": {
     "iopub.execute_input": "2025-08-19T18:46:29.823554Z",
     "iopub.status.busy": "2025-08-19T18:46:29.822221Z",
     "iopub.status.idle": "2025-08-19T18:46:29.840374Z",
     "shell.execute_reply": "2025-08-19T18:46:29.839220Z"
    },
    "papermill": {
     "duration": 0.033215,
     "end_time": "2025-08-19T18:46:29.842141",
     "exception": false,
     "start_time": "2025-08-19T18:46:29.808926",
     "status": "completed"
    },
    "tags": []
   },
   "outputs": [
    {
     "data": {
      "text/plain": [
       "year\n",
       "2010    1000\n",
       "2011    1000\n",
       "2012    1000\n",
       "2013    1000\n",
       "2014    1000\n",
       "dtype: int64"
      ]
     },
     "metadata": {},
     "output_type": "display_data"
    }
   ],
   "source": [
    "display(siab_train.groupby(\"year\").size())"
   ]
  },
  {
   "cell_type": "code",
   "execution_count": 14,
   "id": "0997782f",
   "metadata": {
    "execution": {
     "iopub.execute_input": "2025-08-19T18:46:29.883944Z",
     "iopub.status.busy": "2025-08-19T18:46:29.883535Z",
     "iopub.status.idle": "2025-08-19T18:46:30.180509Z",
     "shell.execute_reply": "2025-08-19T18:46:30.179657Z"
    },
    "papermill": {
     "duration": 0.325461,
     "end_time": "2025-08-19T18:46:30.183647",
     "exception": false,
     "start_time": "2025-08-19T18:46:29.858186",
     "status": "completed"
    },
    "tags": []
   },
   "outputs": [],
   "source": [
    "#siab_train = siab_s[siab_s.year < 2015]\n",
    "siab_calib = siab[siab.year == 2015]\n",
    "siab_test = siab[siab.year == 2016]"
   ]
  },
  {
   "cell_type": "code",
   "execution_count": 15,
   "id": "2c1e4012",
   "metadata": {
    "execution": {
     "iopub.execute_input": "2025-08-19T18:46:30.217642Z",
     "iopub.status.busy": "2025-08-19T18:46:30.217223Z",
     "iopub.status.idle": "2025-08-19T18:46:30.221163Z",
     "shell.execute_reply": "2025-08-19T18:46:30.220527Z"
    },
    "papermill": {
     "duration": 0.018239,
     "end_time": "2025-08-19T18:46:30.222484",
     "exception": false,
     "start_time": "2025-08-19T18:46:30.204245",
     "status": "completed"
    },
    "tags": []
   },
   "outputs": [],
   "source": [
    "#siab_calib.shape"
   ]
  },
  {
   "cell_type": "code",
   "execution_count": 16,
   "id": "f66b54ca",
   "metadata": {
    "execution": {
     "iopub.execute_input": "2025-08-19T18:46:30.247995Z",
     "iopub.status.busy": "2025-08-19T18:46:30.246664Z",
     "iopub.status.idle": "2025-08-19T18:46:30.250961Z",
     "shell.execute_reply": "2025-08-19T18:46:30.250390Z"
    },
    "papermill": {
     "duration": 0.017278,
     "end_time": "2025-08-19T18:46:30.252046",
     "exception": false,
     "start_time": "2025-08-19T18:46:30.234768",
     "status": "completed"
    },
    "tags": []
   },
   "outputs": [],
   "source": [
    "#siab_test.shape"
   ]
  },
  {
   "cell_type": "code",
   "execution_count": 17,
   "id": "27e4384d",
   "metadata": {
    "execution": {
     "iopub.execute_input": "2025-08-19T18:46:30.274118Z",
     "iopub.status.busy": "2025-08-19T18:46:30.273772Z",
     "iopub.status.idle": "2025-08-19T18:46:30.455500Z",
     "shell.execute_reply": "2025-08-19T18:46:30.454628Z"
    },
    "papermill": {
     "duration": 0.194427,
     "end_time": "2025-08-19T18:46:30.457378",
     "exception": false,
     "start_time": "2025-08-19T18:46:30.262951",
     "status": "completed"
    },
    "tags": []
   },
   "outputs": [],
   "source": [
    "X_train = siab_train.iloc[:,4:164]\n",
    "y_train = siab_train.iloc[:, [3]]"
   ]
  },
  {
   "cell_type": "code",
   "execution_count": 18,
   "id": "08ee8389",
   "metadata": {
    "execution": {
     "iopub.execute_input": "2025-08-19T18:46:30.488813Z",
     "iopub.status.busy": "2025-08-19T18:46:30.487881Z",
     "iopub.status.idle": "2025-08-19T18:46:30.563137Z",
     "shell.execute_reply": "2025-08-19T18:46:30.562354Z"
    },
    "papermill": {
     "duration": 0.092949,
     "end_time": "2025-08-19T18:46:30.567635",
     "exception": false,
     "start_time": "2025-08-19T18:46:30.474686",
     "status": "completed"
    },
    "tags": []
   },
   "outputs": [],
   "source": [
    "X_calib = siab_calib.iloc[:,4:164]\n",
    "y_calib = siab_calib.iloc[:, [3]]"
   ]
  },
  {
   "cell_type": "code",
   "execution_count": 19,
   "id": "b7ff42e0",
   "metadata": {
    "execution": {
     "iopub.execute_input": "2025-08-19T18:46:30.611912Z",
     "iopub.status.busy": "2025-08-19T18:46:30.610845Z",
     "iopub.status.idle": "2025-08-19T18:46:30.687891Z",
     "shell.execute_reply": "2025-08-19T18:46:30.686754Z"
    },
    "papermill": {
     "duration": 0.09885,
     "end_time": "2025-08-19T18:46:30.690192",
     "exception": false,
     "start_time": "2025-08-19T18:46:30.591342",
     "status": "completed"
    },
    "tags": []
   },
   "outputs": [],
   "source": [
    "X_test = siab_test.iloc[:,4:164]\n",
    "y_true = siab_test.iloc[:, [3]]"
   ]
  },
  {
   "cell_type": "code",
   "execution_count": 20,
   "id": "0275101e",
   "metadata": {
    "execution": {
     "iopub.execute_input": "2025-08-19T18:46:30.713964Z",
     "iopub.status.busy": "2025-08-19T18:46:30.713458Z",
     "iopub.status.idle": "2025-08-19T18:46:30.882206Z",
     "shell.execute_reply": "2025-08-19T18:46:30.881335Z"
    },
    "papermill": {
     "duration": 0.181938,
     "end_time": "2025-08-19T18:46:30.883907",
     "exception": false,
     "start_time": "2025-08-19T18:46:30.701969",
     "status": "completed"
    },
    "tags": []
   },
   "outputs": [],
   "source": [
    "# Auxiliary data needed downstream in the pipeline\n",
    "\n",
    "org_train = X_train.copy()\n",
    "org_test = X_test.copy()\n",
    "org_calib = X_calib.copy()"
   ]
  },
  {
   "cell_type": "markdown",
   "id": "b461e618",
   "metadata": {
    "papermill": {
     "duration": 0.010602,
     "end_time": "2025-08-19T18:46:30.905575",
     "exception": false,
     "start_time": "2025-08-19T18:46:30.894973",
     "status": "completed"
    },
    "tags": []
   },
   "source": [
    "# Preprocessing Data"
   ]
  },
  {
   "cell_type": "code",
   "execution_count": 21,
   "id": "78e74c4b",
   "metadata": {
    "execution": {
     "iopub.execute_input": "2025-08-19T18:46:30.927817Z",
     "iopub.status.busy": "2025-08-19T18:46:30.927311Z",
     "iopub.status.idle": "2025-08-19T18:46:30.933307Z",
     "shell.execute_reply": "2025-08-19T18:46:30.932455Z"
    },
    "papermill": {
     "duration": 0.018669,
     "end_time": "2025-08-19T18:46:30.934535",
     "exception": false,
     "start_time": "2025-08-19T18:46:30.915866",
     "status": "completed"
    },
    "tags": []
   },
   "outputs": [],
   "source": [
    "# EXCLUDE PROTECTED FEATURES\n",
    "# --------------------------\n",
    "\n",
    "excluded_features = universe[\"exclude_features\"].split(\"-\")\n",
    "excluded_features_dictionary = {\n",
    "    \"nationality\": [\"maxdeutsch1\", \"maxdeutsch.Missing.\"],\n",
    "    \"sex\": [\"frau1\"],\n",
    "    \"age\": [\"age\"],\n",
    "}"
   ]
  },
  {
   "cell_type": "code",
   "execution_count": 22,
   "id": "f8e63555",
   "metadata": {
    "execution": {
     "iopub.execute_input": "2025-08-19T18:46:30.963199Z",
     "iopub.status.busy": "2025-08-19T18:46:30.962681Z",
     "iopub.status.idle": "2025-08-19T18:46:30.969027Z",
     "shell.execute_reply": "2025-08-19T18:46:30.967772Z"
    },
    "papermill": {
     "duration": 0.021129,
     "end_time": "2025-08-19T18:46:30.970525",
     "exception": false,
     "start_time": "2025-08-19T18:46:30.949396",
     "status": "completed"
    },
    "tags": []
   },
   "outputs": [],
   "source": [
    "excluded_features_columns = [\n",
    "    excluded_features_dictionary[f] for f in excluded_features if len(f) > 0 and f != \"none\"\n",
    "]"
   ]
  },
  {
   "cell_type": "code",
   "execution_count": 23,
   "id": "da781f7c",
   "metadata": {
    "execution": {
     "iopub.execute_input": "2025-08-19T18:46:30.993860Z",
     "iopub.status.busy": "2025-08-19T18:46:30.992874Z",
     "iopub.status.idle": "2025-08-19T18:46:30.998241Z",
     "shell.execute_reply": "2025-08-19T18:46:30.997378Z"
    },
    "papermill": {
     "duration": 0.018497,
     "end_time": "2025-08-19T18:46:30.999701",
     "exception": false,
     "start_time": "2025-08-19T18:46:30.981204",
     "status": "completed"
    },
    "tags": []
   },
   "outputs": [],
   "source": [
    "from fairness_multiverse.universe import flatten_once\n",
    "\n",
    "excluded_features_columns = flatten_once(excluded_features_columns)"
   ]
  },
  {
   "cell_type": "code",
   "execution_count": 24,
   "id": "37fef0f0",
   "metadata": {
    "execution": {
     "iopub.execute_input": "2025-08-19T18:46:31.022434Z",
     "iopub.status.busy": "2025-08-19T18:46:31.021932Z",
     "iopub.status.idle": "2025-08-19T18:46:31.042707Z",
     "shell.execute_reply": "2025-08-19T18:46:31.041832Z"
    },
    "papermill": {
     "duration": 0.0338,
     "end_time": "2025-08-19T18:46:31.044515",
     "exception": false,
     "start_time": "2025-08-19T18:46:31.010715",
     "status": "completed"
    },
    "tags": []
   },
   "outputs": [
    {
     "name": "stdout",
     "output_type": "stream",
     "text": [
      "Dropping features: ['frau1']\n"
     ]
    }
   ],
   "source": [
    "if len(excluded_features_columns) > 0:\n",
    "    print(f\"Dropping features: {excluded_features_columns}\")\n",
    "    X_train.drop(excluded_features_columns, axis=1, inplace=True)"
   ]
  },
  {
   "cell_type": "code",
   "execution_count": 25,
   "id": "d029e3e9",
   "metadata": {
    "execution": {
     "iopub.execute_input": "2025-08-19T18:46:31.072011Z",
     "iopub.status.busy": "2025-08-19T18:46:31.071494Z",
     "iopub.status.idle": "2025-08-19T18:46:31.148482Z",
     "shell.execute_reply": "2025-08-19T18:46:31.147584Z"
    },
    "papermill": {
     "duration": 0.092322,
     "end_time": "2025-08-19T18:46:31.150003",
     "exception": false,
     "start_time": "2025-08-19T18:46:31.057681",
     "status": "completed"
    },
    "tags": []
   },
   "outputs": [
    {
     "name": "stdout",
     "output_type": "stream",
     "text": [
      "Dropping features: ['frau1']\n"
     ]
    }
   ],
   "source": [
    "if len(excluded_features_columns) > 0:\n",
    "    print(f\"Dropping features: {excluded_features_columns}\")\n",
    "    X_test.drop(excluded_features_columns, axis=1, inplace=True)"
   ]
  },
  {
   "cell_type": "code",
   "execution_count": 26,
   "id": "01d571f0",
   "metadata": {
    "execution": {
     "iopub.execute_input": "2025-08-19T18:46:31.175199Z",
     "iopub.status.busy": "2025-08-19T18:46:31.174233Z",
     "iopub.status.idle": "2025-08-19T18:46:31.249924Z",
     "shell.execute_reply": "2025-08-19T18:46:31.248990Z"
    },
    "papermill": {
     "duration": 0.089217,
     "end_time": "2025-08-19T18:46:31.251263",
     "exception": false,
     "start_time": "2025-08-19T18:46:31.162046",
     "status": "completed"
    },
    "tags": []
   },
   "outputs": [
    {
     "name": "stdout",
     "output_type": "stream",
     "text": [
      "Dropping features: ['frau1']\n"
     ]
    }
   ],
   "source": [
    "if len(excluded_features_columns) > 0:\n",
    "    print(f\"Dropping features: {excluded_features_columns}\")\n",
    "    X_calib.drop(excluded_features_columns, axis=1, inplace=True)"
   ]
  },
  {
   "cell_type": "code",
   "execution_count": 27,
   "id": "3037356e",
   "metadata": {
    "execution": {
     "iopub.execute_input": "2025-08-19T18:46:31.294613Z",
     "iopub.status.busy": "2025-08-19T18:46:31.293168Z",
     "iopub.status.idle": "2025-08-19T18:46:31.317244Z",
     "shell.execute_reply": "2025-08-19T18:46:31.315402Z"
    },
    "papermill": {
     "duration": 0.056266,
     "end_time": "2025-08-19T18:46:31.321629",
     "exception": false,
     "start_time": "2025-08-19T18:46:31.265363",
     "status": "completed"
    },
    "tags": []
   },
   "outputs": [],
   "source": [
    "# EXCLUDE CERTAIN SUBGROUPS\n",
    "# -------------------------\n",
    "\n",
    "mode = universe.get(\"exclude_subgroups\", \"keep-all\") # Defaults to \"keep-all\" if the key is missing."
   ]
  },
  {
   "cell_type": "code",
   "execution_count": 28,
   "id": "9d1e63fd",
   "metadata": {
    "execution": {
     "iopub.execute_input": "2025-08-19T18:46:31.356313Z",
     "iopub.status.busy": "2025-08-19T18:46:31.355824Z",
     "iopub.status.idle": "2025-08-19T18:46:31.362700Z",
     "shell.execute_reply": "2025-08-19T18:46:31.361803Z"
    },
    "papermill": {
     "duration": 0.021259,
     "end_time": "2025-08-19T18:46:31.363989",
     "exception": false,
     "start_time": "2025-08-19T18:46:31.342730",
     "status": "completed"
    },
    "tags": []
   },
   "outputs": [],
   "source": [
    "if mode == \"keep-all\":\n",
    "    keep_mask = pd.Series(True, index=org_train.index)\n",
    "\n",
    "elif mode == \"drop-non-german\":\n",
    "    keep_mask = (org_train[\"maxdeutsch1\"] == 1) & (org_train[\"maxdeutsch.Missing.\"] == 0)\n",
    "\n",
    "else:\n",
    "    raise ValueError(f\"Unsupported mode for exclude_subgroups: {mode}\")"
   ]
  },
  {
   "cell_type": "code",
   "execution_count": 29,
   "id": "d3b65474",
   "metadata": {
    "execution": {
     "iopub.execute_input": "2025-08-19T18:46:31.407104Z",
     "iopub.status.busy": "2025-08-19T18:46:31.406033Z",
     "iopub.status.idle": "2025-08-19T18:46:31.413343Z",
     "shell.execute_reply": "2025-08-19T18:46:31.412283Z"
    },
    "papermill": {
     "duration": 0.033267,
     "end_time": "2025-08-19T18:46:31.416182",
     "exception": false,
     "start_time": "2025-08-19T18:46:31.382915",
     "status": "completed"
    },
    "tags": []
   },
   "outputs": [],
   "source": [
    "n_drop = (~keep_mask).sum() # Calculates how many rows are set to be dropped\n",
    "if n_drop > 0:\n",
    "    pct = n_drop / len(keep_mask) * 100\n",
    "    print(f\"Dropping {n_drop} rows ({pct:.2f}%) where mode='{mode}'\")"
   ]
  },
  {
   "cell_type": "code",
   "execution_count": 30,
   "id": "f44389b3",
   "metadata": {
    "execution": {
     "iopub.execute_input": "2025-08-19T18:46:31.441071Z",
     "iopub.status.busy": "2025-08-19T18:46:31.440611Z",
     "iopub.status.idle": "2025-08-19T18:46:31.448666Z",
     "shell.execute_reply": "2025-08-19T18:46:31.447601Z"
    },
    "papermill": {
     "duration": 0.021484,
     "end_time": "2025-08-19T18:46:31.450192",
     "exception": false,
     "start_time": "2025-08-19T18:46:31.428708",
     "status": "completed"
    },
    "tags": []
   },
   "outputs": [],
   "source": [
    "X_train = X_train[keep_mask]"
   ]
  },
  {
   "cell_type": "code",
   "execution_count": 31,
   "id": "ceca8c2a",
   "metadata": {
    "execution": {
     "iopub.execute_input": "2025-08-19T18:46:31.475227Z",
     "iopub.status.busy": "2025-08-19T18:46:31.474736Z",
     "iopub.status.idle": "2025-08-19T18:46:31.480574Z",
     "shell.execute_reply": "2025-08-19T18:46:31.479787Z"
    },
    "papermill": {
     "duration": 0.019674,
     "end_time": "2025-08-19T18:46:31.481978",
     "exception": false,
     "start_time": "2025-08-19T18:46:31.462304",
     "status": "completed"
    },
    "tags": []
   },
   "outputs": [],
   "source": [
    "y_train = y_train[keep_mask]"
   ]
  },
  {
   "cell_type": "markdown",
   "id": "04d31e2f",
   "metadata": {
    "papermill": {
     "duration": 0.010949,
     "end_time": "2025-08-19T18:46:31.503879",
     "exception": false,
     "start_time": "2025-08-19T18:46:31.492930",
     "status": "completed"
    },
    "tags": []
   },
   "source": [
    "# Model Training"
   ]
  },
  {
   "cell_type": "code",
   "execution_count": 32,
   "id": "db991733",
   "metadata": {
    "execution": {
     "iopub.execute_input": "2025-08-19T18:46:31.528293Z",
     "iopub.status.busy": "2025-08-19T18:46:31.527791Z",
     "iopub.status.idle": "2025-08-19T18:46:31.636130Z",
     "shell.execute_reply": "2025-08-19T18:46:31.635056Z"
    },
    "papermill": {
     "duration": 0.124773,
     "end_time": "2025-08-19T18:46:31.639779",
     "exception": false,
     "start_time": "2025-08-19T18:46:31.515006",
     "status": "completed"
    },
    "tags": []
   },
   "outputs": [],
   "source": [
    "from sklearn.linear_model import LogisticRegression\n",
    "from sklearn.ensemble import GradientBoostingClassifier, RandomForestClassifier\n",
    "\n",
    "if (universe[\"model\"] == \"logreg\"):\n",
    "    model = LogisticRegression() #penalty=\"none\", solver=\"newton-cg\", max_iter=1)\n",
    "elif (universe[\"model\"] == \"penalized_logreg\"):\n",
    "    model = LogisticRegression(penalty=\"l2\", C=0.1) #, solver=\"newton-cg\", max_iter=1)\n",
    "elif (universe[\"model\"] == \"rf\"):\n",
    "    model = RandomForestClassifier() # n_estimators=100, n_jobs=-1\n",
    "elif (universe[\"model\"] == \"gbm\"):\n",
    "    model = GradientBoostingClassifier()\n",
    "elif (universe[\"model\"] == \"elasticnet\"):\n",
    "    model = LogisticRegression(penalty = 'elasticnet', solver = 'saga', l1_ratio = 0.5) # max_iter=5000\n",
    "else:\n",
    "    raise \"Unsupported universe.model\""
   ]
  },
  {
   "cell_type": "code",
   "execution_count": 33,
   "id": "a4b5cd25",
   "metadata": {
    "execution": {
     "iopub.execute_input": "2025-08-19T18:46:31.679342Z",
     "iopub.status.busy": "2025-08-19T18:46:31.677792Z",
     "iopub.status.idle": "2025-08-19T18:46:31.688170Z",
     "shell.execute_reply": "2025-08-19T18:46:31.686691Z"
    },
    "papermill": {
     "duration": 0.026801,
     "end_time": "2025-08-19T18:46:31.690162",
     "exception": false,
     "start_time": "2025-08-19T18:46:31.663361",
     "status": "completed"
    },
    "tags": []
   },
   "outputs": [],
   "source": [
    "from sklearn.pipeline import Pipeline\n",
    "from sklearn.preprocessing import StandardScaler\n",
    "\n",
    "model = Pipeline([\n",
    "    #(\"continuous_processor\", continuous_processor),\n",
    "    #(\"categorical_preprocessor\", categorical_preprocessor),\n",
    "    (\"scale\", StandardScaler() if universe[\"scale\"] == \"scale\" else None), \n",
    "    (\"model\", model),\n",
    "])"
   ]
  },
  {
   "cell_type": "code",
   "execution_count": 34,
   "id": "283a904d",
   "metadata": {
    "execution": {
     "iopub.execute_input": "2025-08-19T18:46:31.718842Z",
     "iopub.status.busy": "2025-08-19T18:46:31.717655Z",
     "iopub.status.idle": "2025-08-19T18:46:33.088279Z",
     "shell.execute_reply": "2025-08-19T18:46:33.086686Z"
    },
    "papermill": {
     "duration": 1.386439,
     "end_time": "2025-08-19T18:46:33.090539",
     "exception": false,
     "start_time": "2025-08-19T18:46:31.704100",
     "status": "completed"
    },
    "tags": []
   },
   "outputs": [
    {
     "data": {
      "text/html": [
       "<style>#sk-container-id-1 {color: black;background-color: white;}#sk-container-id-1 pre{padding: 0;}#sk-container-id-1 div.sk-toggleable {background-color: white;}#sk-container-id-1 label.sk-toggleable__label {cursor: pointer;display: block;width: 100%;margin-bottom: 0;padding: 0.3em;box-sizing: border-box;text-align: center;}#sk-container-id-1 label.sk-toggleable__label-arrow:before {content: \"▸\";float: left;margin-right: 0.25em;color: #696969;}#sk-container-id-1 label.sk-toggleable__label-arrow:hover:before {color: black;}#sk-container-id-1 div.sk-estimator:hover label.sk-toggleable__label-arrow:before {color: black;}#sk-container-id-1 div.sk-toggleable__content {max-height: 0;max-width: 0;overflow: hidden;text-align: left;background-color: #f0f8ff;}#sk-container-id-1 div.sk-toggleable__content pre {margin: 0.2em;color: black;border-radius: 0.25em;background-color: #f0f8ff;}#sk-container-id-1 input.sk-toggleable__control:checked~div.sk-toggleable__content {max-height: 200px;max-width: 100%;overflow: auto;}#sk-container-id-1 input.sk-toggleable__control:checked~label.sk-toggleable__label-arrow:before {content: \"▾\";}#sk-container-id-1 div.sk-estimator input.sk-toggleable__control:checked~label.sk-toggleable__label {background-color: #d4ebff;}#sk-container-id-1 div.sk-label input.sk-toggleable__control:checked~label.sk-toggleable__label {background-color: #d4ebff;}#sk-container-id-1 input.sk-hidden--visually {border: 0;clip: rect(1px 1px 1px 1px);clip: rect(1px, 1px, 1px, 1px);height: 1px;margin: -1px;overflow: hidden;padding: 0;position: absolute;width: 1px;}#sk-container-id-1 div.sk-estimator {font-family: monospace;background-color: #f0f8ff;border: 1px dotted black;border-radius: 0.25em;box-sizing: border-box;margin-bottom: 0.5em;}#sk-container-id-1 div.sk-estimator:hover {background-color: #d4ebff;}#sk-container-id-1 div.sk-parallel-item::after {content: \"\";width: 100%;border-bottom: 1px solid gray;flex-grow: 1;}#sk-container-id-1 div.sk-label:hover label.sk-toggleable__label {background-color: #d4ebff;}#sk-container-id-1 div.sk-serial::before {content: \"\";position: absolute;border-left: 1px solid gray;box-sizing: border-box;top: 0;bottom: 0;left: 50%;z-index: 0;}#sk-container-id-1 div.sk-serial {display: flex;flex-direction: column;align-items: center;background-color: white;padding-right: 0.2em;padding-left: 0.2em;position: relative;}#sk-container-id-1 div.sk-item {position: relative;z-index: 1;}#sk-container-id-1 div.sk-parallel {display: flex;align-items: stretch;justify-content: center;background-color: white;position: relative;}#sk-container-id-1 div.sk-item::before, #sk-container-id-1 div.sk-parallel-item::before {content: \"\";position: absolute;border-left: 1px solid gray;box-sizing: border-box;top: 0;bottom: 0;left: 50%;z-index: -1;}#sk-container-id-1 div.sk-parallel-item {display: flex;flex-direction: column;z-index: 1;position: relative;background-color: white;}#sk-container-id-1 div.sk-parallel-item:first-child::after {align-self: flex-end;width: 50%;}#sk-container-id-1 div.sk-parallel-item:last-child::after {align-self: flex-start;width: 50%;}#sk-container-id-1 div.sk-parallel-item:only-child::after {width: 0;}#sk-container-id-1 div.sk-dashed-wrapped {border: 1px dashed gray;margin: 0 0.4em 0.5em 0.4em;box-sizing: border-box;padding-bottom: 0.4em;background-color: white;}#sk-container-id-1 div.sk-label label {font-family: monospace;font-weight: bold;display: inline-block;line-height: 1.2em;}#sk-container-id-1 div.sk-label-container {text-align: center;}#sk-container-id-1 div.sk-container {/* jupyter's `normalize.less` sets `[hidden] { display: none; }` but bootstrap.min.css set `[hidden] { display: none !important; }` so we also need the `!important` here to be able to override the default hidden behavior on the sphinx rendered scikit-learn.org. See: https://github.com/scikit-learn/scikit-learn/issues/21755 */display: inline-block !important;position: relative;}#sk-container-id-1 div.sk-text-repr-fallback {display: none;}</style><div id=\"sk-container-id-1\" class=\"sk-top-container\"><div class=\"sk-text-repr-fallback\"><pre>Pipeline(steps=[(&#x27;scale&#x27;, None), (&#x27;model&#x27;, RandomForestClassifier())])</pre><b>In a Jupyter environment, please rerun this cell to show the HTML representation or trust the notebook. <br />On GitHub, the HTML representation is unable to render, please try loading this page with nbviewer.org.</b></div><div class=\"sk-container\" hidden><div class=\"sk-item sk-dashed-wrapped\"><div class=\"sk-label-container\"><div class=\"sk-label sk-toggleable\"><input class=\"sk-toggleable__control sk-hidden--visually\" id=\"sk-estimator-id-1\" type=\"checkbox\" ><label for=\"sk-estimator-id-1\" class=\"sk-toggleable__label sk-toggleable__label-arrow\">Pipeline</label><div class=\"sk-toggleable__content\"><pre>Pipeline(steps=[(&#x27;scale&#x27;, None), (&#x27;model&#x27;, RandomForestClassifier())])</pre></div></div></div><div class=\"sk-serial\"><div class=\"sk-item\"><div class=\"sk-estimator sk-toggleable\"><input class=\"sk-toggleable__control sk-hidden--visually\" id=\"sk-estimator-id-2\" type=\"checkbox\" ><label for=\"sk-estimator-id-2\" class=\"sk-toggleable__label sk-toggleable__label-arrow\">None</label><div class=\"sk-toggleable__content\"><pre>None</pre></div></div></div><div class=\"sk-item\"><div class=\"sk-estimator sk-toggleable\"><input class=\"sk-toggleable__control sk-hidden--visually\" id=\"sk-estimator-id-3\" type=\"checkbox\" ><label for=\"sk-estimator-id-3\" class=\"sk-toggleable__label sk-toggleable__label-arrow\">RandomForestClassifier</label><div class=\"sk-toggleable__content\"><pre>RandomForestClassifier()</pre></div></div></div></div></div></div></div>"
      ],
      "text/plain": [
       "Pipeline(steps=[('scale', None), ('model', RandomForestClassifier())])"
      ]
     },
     "execution_count": 34,
     "metadata": {},
     "output_type": "execute_result"
    }
   ],
   "source": [
    "model.fit(X_train, y_train.values.ravel())"
   ]
  },
  {
   "cell_type": "code",
   "execution_count": 35,
   "id": "6e15e313",
   "metadata": {
    "execution": {
     "iopub.execute_input": "2025-08-19T18:46:33.123163Z",
     "iopub.status.busy": "2025-08-19T18:46:33.121742Z",
     "iopub.status.idle": "2025-08-19T18:46:35.076235Z",
     "shell.execute_reply": "2025-08-19T18:46:35.075000Z"
    },
    "papermill": {
     "duration": 1.970041,
     "end_time": "2025-08-19T18:46:35.077656",
     "exception": false,
     "start_time": "2025-08-19T18:46:33.107615",
     "status": "completed"
    },
    "tags": []
   },
   "outputs": [
    {
     "data": {
      "text/plain": [
       "0.8668487348121725"
      ]
     },
     "execution_count": 35,
     "metadata": {},
     "output_type": "execute_result"
    }
   ],
   "source": [
    "from fairness_multiverse.universe import predict_w_threshold\n",
    "\n",
    "probs_test = model.predict_proba(X_test)\n",
    "\n",
    "'''\n",
    "Below code returns a boolean array (or binary 0/1 array depending on how it’s used) where each element \n",
    "is True if the probability of class 1 is greater than or equal to the threshold, and False otherwise.\n",
    "'''\n",
    "y_pred_default = predict_w_threshold(probs_test, 0.5)\n",
    "\n",
    "from sklearn.metrics import accuracy_score\n",
    "\n",
    "# Naive prediction\n",
    "accuracy_score(y_true = y_true, y_pred = y_pred_default)"
   ]
  },
  {
   "cell_type": "code",
   "execution_count": 36,
   "id": "6f14067c",
   "metadata": {
    "execution": {
     "iopub.execute_input": "2025-08-19T18:46:35.127912Z",
     "iopub.status.busy": "2025-08-19T18:46:35.126271Z",
     "iopub.status.idle": "2025-08-19T18:46:36.941058Z",
     "shell.execute_reply": "2025-08-19T18:46:36.939869Z"
    },
    "papermill": {
     "duration": 1.853073,
     "end_time": "2025-08-19T18:46:36.942421",
     "exception": false,
     "start_time": "2025-08-19T18:46:35.089348",
     "status": "completed"
    },
    "tags": []
   },
   "outputs": [
    {
     "data": {
      "text/plain": [
       "array([0, 0, 0, ..., 0, 0, 0])"
      ]
     },
     "execution_count": 36,
     "metadata": {},
     "output_type": "execute_result"
    }
   ],
   "source": [
    "model.predict(X_test)"
   ]
  },
  {
   "cell_type": "markdown",
   "id": "3759920c",
   "metadata": {
    "papermill": {
     "duration": 0.012069,
     "end_time": "2025-08-19T18:46:36.967340",
     "exception": false,
     "start_time": "2025-08-19T18:46:36.955271",
     "status": "completed"
    },
    "tags": []
   },
   "source": [
    "# Conformal Prediction"
   ]
  },
  {
   "cell_type": "code",
   "execution_count": 37,
   "id": "14b27f59",
   "metadata": {
    "execution": {
     "iopub.execute_input": "2025-08-19T18:46:36.994892Z",
     "iopub.status.busy": "2025-08-19T18:46:36.993363Z",
     "iopub.status.idle": "2025-08-19T18:46:37.002710Z",
     "shell.execute_reply": "2025-08-19T18:46:37.001516Z"
    },
    "papermill": {
     "duration": 0.025519,
     "end_time": "2025-08-19T18:46:37.004435",
     "exception": false,
     "start_time": "2025-08-19T18:46:36.978916",
     "status": "completed"
    },
    "tags": []
   },
   "outputs": [],
   "source": [
    "# Miscoverage level for conformal prediction (10% allowed error rate => 90% target coverage)\n",
    "alpha = 0.1"
   ]
  },
  {
   "cell_type": "code",
   "execution_count": 38,
   "id": "59102472",
   "metadata": {
    "execution": {
     "iopub.execute_input": "2025-08-19T18:46:37.032743Z",
     "iopub.status.busy": "2025-08-19T18:46:37.031472Z",
     "iopub.status.idle": "2025-08-19T18:46:38.803704Z",
     "shell.execute_reply": "2025-08-19T18:46:38.802091Z"
    },
    "papermill": {
     "duration": 1.787152,
     "end_time": "2025-08-19T18:46:38.805599",
     "exception": false,
     "start_time": "2025-08-19T18:46:37.018447",
     "status": "completed"
    },
    "tags": []
   },
   "outputs": [],
   "source": [
    "probs_calib = model.predict_proba(X_calib)"
   ]
  },
  {
   "cell_type": "code",
   "execution_count": 39,
   "id": "a792d4dd",
   "metadata": {
    "execution": {
     "iopub.execute_input": "2025-08-19T18:46:38.854559Z",
     "iopub.status.busy": "2025-08-19T18:46:38.852370Z",
     "iopub.status.idle": "2025-08-19T18:46:38.870015Z",
     "shell.execute_reply": "2025-08-19T18:46:38.868982Z"
    },
    "papermill": {
     "duration": 0.048377,
     "end_time": "2025-08-19T18:46:38.872222",
     "exception": false,
     "start_time": "2025-08-19T18:46:38.823845",
     "status": "completed"
    },
    "tags": []
   },
   "outputs": [],
   "source": [
    "y_calib = y_calib.values.ravel().astype(int)"
   ]
  },
  {
   "cell_type": "code",
   "execution_count": 40,
   "id": "650fd033",
   "metadata": {
    "execution": {
     "iopub.execute_input": "2025-08-19T18:46:38.899069Z",
     "iopub.status.busy": "2025-08-19T18:46:38.898682Z",
     "iopub.status.idle": "2025-08-19T18:46:38.907333Z",
     "shell.execute_reply": "2025-08-19T18:46:38.906440Z"
    },
    "papermill": {
     "duration": 0.02475,
     "end_time": "2025-08-19T18:46:38.909111",
     "exception": false,
     "start_time": "2025-08-19T18:46:38.884361",
     "status": "completed"
    },
    "tags": []
   },
   "outputs": [],
   "source": [
    "from fairness_multiverse.conformal import compute_nc_scores\n",
    "\n",
    "# Compute nonconformity scores on calibration set (1 - probability of true class)\n",
    "nc_scores = compute_nc_scores(probs_calib, y_calib)"
   ]
  },
  {
   "cell_type": "code",
   "execution_count": 41,
   "id": "28ada44c",
   "metadata": {
    "execution": {
     "iopub.execute_input": "2025-08-19T18:46:38.938855Z",
     "iopub.status.busy": "2025-08-19T18:46:38.936857Z",
     "iopub.status.idle": "2025-08-19T18:46:38.954392Z",
     "shell.execute_reply": "2025-08-19T18:46:38.953009Z"
    },
    "papermill": {
     "duration": 0.035408,
     "end_time": "2025-08-19T18:46:38.956719",
     "exception": false,
     "start_time": "2025-08-19T18:46:38.921311",
     "status": "completed"
    },
    "tags": []
   },
   "outputs": [],
   "source": [
    "from fairness_multiverse.conformal import find_threshold\n",
    "\n",
    "# Find conformal threshold q_hat for the given alpha (split conformal method)\n",
    "q_hat = find_threshold(nc_scores, alpha)"
   ]
  },
  {
   "cell_type": "code",
   "execution_count": 42,
   "id": "df56469e",
   "metadata": {
    "execution": {
     "iopub.execute_input": "2025-08-19T18:46:38.992056Z",
     "iopub.status.busy": "2025-08-19T18:46:38.991198Z",
     "iopub.status.idle": "2025-08-19T18:46:39.005385Z",
     "shell.execute_reply": "2025-08-19T18:46:39.004437Z"
    },
    "papermill": {
     "duration": 0.033435,
     "end_time": "2025-08-19T18:46:39.006927",
     "exception": false,
     "start_time": "2025-08-19T18:46:38.973492",
     "status": "completed"
    },
    "tags": []
   },
   "outputs": [
    {
     "data": {
      "text/plain": [
       "0.6699999999999999"
      ]
     },
     "execution_count": 42,
     "metadata": {},
     "output_type": "execute_result"
    }
   ],
   "source": [
    "q_hat"
   ]
  },
  {
   "cell_type": "code",
   "execution_count": 43,
   "id": "aa1f5faa",
   "metadata": {
    "execution": {
     "iopub.execute_input": "2025-08-19T18:46:39.032112Z",
     "iopub.status.busy": "2025-08-19T18:46:39.031683Z",
     "iopub.status.idle": "2025-08-19T18:46:41.639741Z",
     "shell.execute_reply": "2025-08-19T18:46:41.638301Z"
    },
    "papermill": {
     "duration": 2.622048,
     "end_time": "2025-08-19T18:46:41.641327",
     "exception": false,
     "start_time": "2025-08-19T18:46:39.019279",
     "status": "completed"
    },
    "tags": []
   },
   "outputs": [],
   "source": [
    "from fairness_multiverse.conformal import predict_conformal_sets\n",
    "\n",
    "# Generate prediction sets for each test example\n",
    "pred_sets = predict_conformal_sets(model, X_test, q_hat)"
   ]
  },
  {
   "cell_type": "code",
   "execution_count": 44,
   "id": "97f67a6b",
   "metadata": {
    "execution": {
     "iopub.execute_input": "2025-08-19T18:46:41.693706Z",
     "iopub.status.busy": "2025-08-19T18:46:41.692308Z",
     "iopub.status.idle": "2025-08-19T18:46:41.707346Z",
     "shell.execute_reply": "2025-08-19T18:46:41.706221Z"
    },
    "papermill": {
     "duration": 0.040802,
     "end_time": "2025-08-19T18:46:41.709369",
     "exception": false,
     "start_time": "2025-08-19T18:46:41.668567",
     "status": "completed"
    },
    "tags": []
   },
   "outputs": [],
   "source": [
    "y_true = y_true.squeeze()"
   ]
  },
  {
   "cell_type": "code",
   "execution_count": 45,
   "id": "e700e9a7",
   "metadata": {
    "execution": {
     "iopub.execute_input": "2025-08-19T18:46:41.746646Z",
     "iopub.status.busy": "2025-08-19T18:46:41.745198Z",
     "iopub.status.idle": "2025-08-19T18:46:42.292634Z",
     "shell.execute_reply": "2025-08-19T18:46:42.291172Z"
    },
    "papermill": {
     "duration": 0.56352,
     "end_time": "2025-08-19T18:46:42.294428",
     "exception": false,
     "start_time": "2025-08-19T18:46:41.730908",
     "status": "completed"
    },
    "tags": []
   },
   "outputs": [],
   "source": [
    "from fairness_multiverse.conformal import evaluate_sets\n",
    "\n",
    "# Evaluate coverage and average set size on test data\n",
    "metrics = evaluate_sets(pred_sets, y_true)"
   ]
  },
  {
   "cell_type": "markdown",
   "id": "efbacec0",
   "metadata": {
    "papermill": {
     "duration": 0.025966,
     "end_time": "2025-08-19T18:46:42.336301",
     "exception": false,
     "start_time": "2025-08-19T18:46:42.310335",
     "status": "completed"
    },
    "tags": []
   },
   "source": [
    "# CP Metrics"
   ]
  },
  {
   "cell_type": "code",
   "execution_count": 46,
   "id": "9de55fb1",
   "metadata": {
    "execution": {
     "iopub.execute_input": "2025-08-19T18:46:42.361631Z",
     "iopub.status.busy": "2025-08-19T18:46:42.361150Z",
     "iopub.status.idle": "2025-08-19T18:46:42.368461Z",
     "shell.execute_reply": "2025-08-19T18:46:42.367810Z"
    },
    "papermill": {
     "duration": 0.023345,
     "end_time": "2025-08-19T18:46:42.371402",
     "exception": false,
     "start_time": "2025-08-19T18:46:42.348057",
     "status": "completed"
    },
    "tags": []
   },
   "outputs": [
    {
     "data": {
      "text/plain": [
       "{'coverage': 0.9157284583658455, 'avg_size': 1.1485118715862224}"
      ]
     },
     "execution_count": 46,
     "metadata": {},
     "output_type": "execute_result"
    }
   ],
   "source": [
    "metrics"
   ]
  },
  {
   "cell_type": "code",
   "execution_count": 47,
   "id": "64c340a1",
   "metadata": {
    "execution": {
     "iopub.execute_input": "2025-08-19T18:46:42.405378Z",
     "iopub.status.busy": "2025-08-19T18:46:42.404985Z",
     "iopub.status.idle": "2025-08-19T18:46:42.412336Z",
     "shell.execute_reply": "2025-08-19T18:46:42.411611Z"
    },
    "papermill": {
     "duration": 0.022787,
     "end_time": "2025-08-19T18:46:42.413934",
     "exception": false,
     "start_time": "2025-08-19T18:46:42.391147",
     "status": "completed"
    },
    "tags": []
   },
   "outputs": [],
   "source": [
    "example_universe = universe.copy()\n",
    "universe_training_year = example_universe.get(\"training_year\")\n",
    "universe_training_size = example_universe.get(\"training_size\")\n",
    "universe_scale = example_universe.get(\"scale\")\n",
    "universe_model = example_universe.get(\"model\")\n",
    "universe_exclude_features = example_universe.get(\"exclude_features\")\n",
    "universe_exclude_subgroups = example_universe.get(\"exclude_subgroups\")"
   ]
  },
  {
   "cell_type": "code",
   "execution_count": 48,
   "id": "dbb53cb4",
   "metadata": {
    "execution": {
     "iopub.execute_input": "2025-08-19T18:46:42.442509Z",
     "iopub.status.busy": "2025-08-19T18:46:42.442000Z",
     "iopub.status.idle": "2025-08-19T18:46:42.447507Z",
     "shell.execute_reply": "2025-08-19T18:46:42.446771Z"
    },
    "papermill": {
     "duration": 0.021939,
     "end_time": "2025-08-19T18:46:42.449727",
     "exception": false,
     "start_time": "2025-08-19T18:46:42.427788",
     "status": "completed"
    },
    "tags": []
   },
   "outputs": [],
   "source": [
    "cp_metrics_dict = {\n",
    "    \"universe_id\": [universe_id],\n",
    "    \"universe_training_year\": [universe_training_year],\n",
    "    \"universe_training_size\": [universe_training_size],\n",
    "    \"universe_scale\": [universe_scale],\n",
    "    \"universe_model\": [universe_model],\n",
    "    \"universe_exclude_features\": [universe_exclude_features],\n",
    "    \"universe_exclude_subgroups\": [universe_exclude_subgroups],\n",
    "    \"q_hat\": [q_hat],\n",
    "    \"coverage\": [metrics[\"coverage\"]],\n",
    "    \"avg_size\": [metrics[\"avg_size\"]],\n",
    "}"
   ]
  },
  {
   "cell_type": "code",
   "execution_count": 49,
   "id": "0d70d4b2",
   "metadata": {
    "execution": {
     "iopub.execute_input": "2025-08-19T18:46:42.477807Z",
     "iopub.status.busy": "2025-08-19T18:46:42.477355Z",
     "iopub.status.idle": "2025-08-19T18:46:42.483854Z",
     "shell.execute_reply": "2025-08-19T18:46:42.483179Z"
    },
    "papermill": {
     "duration": 0.024752,
     "end_time": "2025-08-19T18:46:42.487528",
     "exception": false,
     "start_time": "2025-08-19T18:46:42.462776",
     "status": "completed"
    },
    "tags": []
   },
   "outputs": [],
   "source": [
    "cp_metrics_df = pd.DataFrame(cp_metrics_dict)"
   ]
  },
  {
   "cell_type": "code",
   "execution_count": 50,
   "id": "b494403c",
   "metadata": {
    "execution": {
     "iopub.execute_input": "2025-08-19T18:46:42.519825Z",
     "iopub.status.busy": "2025-08-19T18:46:42.519431Z",
     "iopub.status.idle": "2025-08-19T18:46:42.535291Z",
     "shell.execute_reply": "2025-08-19T18:46:42.534492Z"
    },
    "papermill": {
     "duration": 0.032547,
     "end_time": "2025-08-19T18:46:42.537694",
     "exception": false,
     "start_time": "2025-08-19T18:46:42.505147",
     "status": "completed"
    },
    "tags": []
   },
   "outputs": [
    {
     "data": {
      "text/html": [
       "<div>\n",
       "<style scoped>\n",
       "    .dataframe tbody tr th:only-of-type {\n",
       "        vertical-align: middle;\n",
       "    }\n",
       "\n",
       "    .dataframe tbody tr th {\n",
       "        vertical-align: top;\n",
       "    }\n",
       "\n",
       "    .dataframe thead th {\n",
       "        text-align: right;\n",
       "    }\n",
       "</style>\n",
       "<table border=\"1\" class=\"dataframe\">\n",
       "  <thead>\n",
       "    <tr style=\"text-align: right;\">\n",
       "      <th></th>\n",
       "      <th>universe_id</th>\n",
       "      <th>universe_training_year</th>\n",
       "      <th>universe_training_size</th>\n",
       "      <th>universe_scale</th>\n",
       "      <th>universe_model</th>\n",
       "      <th>universe_exclude_features</th>\n",
       "      <th>universe_exclude_subgroups</th>\n",
       "      <th>q_hat</th>\n",
       "      <th>coverage</th>\n",
       "      <th>avg_size</th>\n",
       "    </tr>\n",
       "  </thead>\n",
       "  <tbody>\n",
       "    <tr>\n",
       "      <th>0</th>\n",
       "      <td>4cc90d25ca5bfa145d6c79dfccf0d28a</td>\n",
       "      <td>2010_14</td>\n",
       "      <td>5k</td>\n",
       "      <td>do-not-scale</td>\n",
       "      <td>rf</td>\n",
       "      <td>sex</td>\n",
       "      <td>keep-all</td>\n",
       "      <td>0.67</td>\n",
       "      <td>0.915728</td>\n",
       "      <td>1.148512</td>\n",
       "    </tr>\n",
       "  </tbody>\n",
       "</table>\n",
       "</div>"
      ],
      "text/plain": [
       "                        universe_id universe_training_year  \\\n",
       "0  4cc90d25ca5bfa145d6c79dfccf0d28a                2010_14   \n",
       "\n",
       "  universe_training_size universe_scale universe_model  \\\n",
       "0                     5k   do-not-scale             rf   \n",
       "\n",
       "  universe_exclude_features universe_exclude_subgroups  q_hat  coverage  \\\n",
       "0                       sex                   keep-all   0.67  0.915728   \n",
       "\n",
       "   avg_size  \n",
       "0  1.148512  "
      ]
     },
     "execution_count": 50,
     "metadata": {},
     "output_type": "execute_result"
    }
   ],
   "source": [
    "cp_metrics_df"
   ]
  },
  {
   "cell_type": "markdown",
   "id": "ed608b0b",
   "metadata": {
    "papermill": {
     "duration": 0.012325,
     "end_time": "2025-08-19T18:46:42.572282",
     "exception": false,
     "start_time": "2025-08-19T18:46:42.559957",
     "status": "completed"
    },
    "tags": []
   },
   "source": [
    "Conditional coverage & looking at subgroups"
   ]
  },
  {
   "cell_type": "code",
   "execution_count": 51,
   "id": "8968c366",
   "metadata": {
    "execution": {
     "iopub.execute_input": "2025-08-19T18:46:42.599945Z",
     "iopub.status.busy": "2025-08-19T18:46:42.597435Z",
     "iopub.status.idle": "2025-08-19T18:46:42.925238Z",
     "shell.execute_reply": "2025-08-19T18:46:42.924535Z"
    },
    "papermill": {
     "duration": 0.344567,
     "end_time": "2025-08-19T18:46:42.928305",
     "exception": false,
     "start_time": "2025-08-19T18:46:42.583738",
     "status": "completed"
    },
    "tags": []
   },
   "outputs": [],
   "source": [
    "from fairness_multiverse.conformal import build_cp_groups\n",
    "\n",
    "cp_groups_df = build_cp_groups(pred_sets, y_true, X_test.index, org_test)"
   ]
  },
  {
   "cell_type": "code",
   "execution_count": 52,
   "id": "292ddabf",
   "metadata": {
    "execution": {
     "iopub.execute_input": "2025-08-19T18:46:42.974068Z",
     "iopub.status.busy": "2025-08-19T18:46:42.968324Z",
     "iopub.status.idle": "2025-08-19T18:46:43.855643Z",
     "shell.execute_reply": "2025-08-19T18:46:43.854445Z"
    },
    "papermill": {
     "duration": 0.904766,
     "end_time": "2025-08-19T18:46:43.858478",
     "exception": false,
     "start_time": "2025-08-19T18:46:42.953712",
     "status": "completed"
    },
    "tags": []
   },
   "outputs": [],
   "source": [
    "# Define covered = 1 if true_label is in the predicted set\n",
    "cp_groups_df['covered'] = cp_groups_df.apply(\n",
    "    lambda r: int(r['true_label'] in r['pred_set']),\n",
    "    axis=1\n",
    ")"
   ]
  },
  {
   "cell_type": "code",
   "execution_count": 53,
   "id": "3a261692",
   "metadata": {
    "execution": {
     "iopub.execute_input": "2025-08-19T18:46:43.901776Z",
     "iopub.status.busy": "2025-08-19T18:46:43.899749Z",
     "iopub.status.idle": "2025-08-19T18:46:43.926426Z",
     "shell.execute_reply": "2025-08-19T18:46:43.925289Z"
    },
    "papermill": {
     "duration": 0.044588,
     "end_time": "2025-08-19T18:46:43.928532",
     "exception": false,
     "start_time": "2025-08-19T18:46:43.883944",
     "status": "completed"
    },
    "tags": []
   },
   "outputs": [],
   "source": [
    "subgroups = ['frau1','nongerman','nongerman_male','nongerman_female']\n",
    "\n",
    "# Conditional coverage for subgroup==1\n",
    "cond_coverage = {\n",
    "    g: cp_groups_df.loc[cp_groups_df[g]==1, 'covered'].mean()\n",
    "    for g in subgroups\n",
    "}"
   ]
  },
  {
   "cell_type": "code",
   "execution_count": 54,
   "id": "894fd600",
   "metadata": {
    "execution": {
     "iopub.execute_input": "2025-08-19T18:46:43.967739Z",
     "iopub.status.busy": "2025-08-19T18:46:43.966549Z",
     "iopub.status.idle": "2025-08-19T18:46:43.979919Z",
     "shell.execute_reply": "2025-08-19T18:46:43.978749Z"
    },
    "papermill": {
     "duration": 0.029738,
     "end_time": "2025-08-19T18:46:43.981379",
     "exception": false,
     "start_time": "2025-08-19T18:46:43.951641",
     "status": "completed"
    },
    "tags": []
   },
   "outputs": [
    {
     "data": {
      "text/plain": [
       "{'frau1': 0.9140045828278743,\n",
       " 'nongerman': 0.910683208892382,\n",
       " 'nongerman_male': 0.924885166171305,\n",
       " 'nongerman_female': 0.8871833084947839}"
      ]
     },
     "execution_count": 54,
     "metadata": {},
     "output_type": "execute_result"
    }
   ],
   "source": [
    "cond_coverage"
   ]
  },
  {
   "cell_type": "code",
   "execution_count": 55,
   "id": "942895c7",
   "metadata": {
    "execution": {
     "iopub.execute_input": "2025-08-19T18:46:44.013666Z",
     "iopub.status.busy": "2025-08-19T18:46:44.011710Z",
     "iopub.status.idle": "2025-08-19T18:46:44.026186Z",
     "shell.execute_reply": "2025-08-19T18:46:44.024351Z"
    },
    "papermill": {
     "duration": 0.030268,
     "end_time": "2025-08-19T18:46:44.028081",
     "exception": false,
     "start_time": "2025-08-19T18:46:43.997813",
     "status": "completed"
    },
    "tags": []
   },
   "outputs": [],
   "source": [
    "for subgroup, cov in cond_coverage.items():\n",
    "    cp_metrics_df[f\"cov_{subgroup}\"] = cov"
   ]
  },
  {
   "cell_type": "code",
   "execution_count": 56,
   "id": "3970120f",
   "metadata": {
    "execution": {
     "iopub.execute_input": "2025-08-19T18:46:44.061233Z",
     "iopub.status.busy": "2025-08-19T18:46:44.059883Z",
     "iopub.status.idle": "2025-08-19T18:46:44.086159Z",
     "shell.execute_reply": "2025-08-19T18:46:44.085314Z"
    },
    "papermill": {
     "duration": 0.04229,
     "end_time": "2025-08-19T18:46:44.087804",
     "exception": false,
     "start_time": "2025-08-19T18:46:44.045514",
     "status": "completed"
    },
    "tags": []
   },
   "outputs": [
    {
     "data": {
      "text/html": [
       "<div>\n",
       "<style scoped>\n",
       "    .dataframe tbody tr th:only-of-type {\n",
       "        vertical-align: middle;\n",
       "    }\n",
       "\n",
       "    .dataframe tbody tr th {\n",
       "        vertical-align: top;\n",
       "    }\n",
       "\n",
       "    .dataframe thead th {\n",
       "        text-align: right;\n",
       "    }\n",
       "</style>\n",
       "<table border=\"1\" class=\"dataframe\">\n",
       "  <thead>\n",
       "    <tr style=\"text-align: right;\">\n",
       "      <th></th>\n",
       "      <th>universe_id</th>\n",
       "      <th>universe_training_year</th>\n",
       "      <th>universe_training_size</th>\n",
       "      <th>universe_scale</th>\n",
       "      <th>universe_model</th>\n",
       "      <th>universe_exclude_features</th>\n",
       "      <th>universe_exclude_subgroups</th>\n",
       "      <th>q_hat</th>\n",
       "      <th>coverage</th>\n",
       "      <th>avg_size</th>\n",
       "      <th>cov_frau1</th>\n",
       "      <th>cov_nongerman</th>\n",
       "      <th>cov_nongerman_male</th>\n",
       "      <th>cov_nongerman_female</th>\n",
       "    </tr>\n",
       "  </thead>\n",
       "  <tbody>\n",
       "    <tr>\n",
       "      <th>0</th>\n",
       "      <td>4cc90d25ca5bfa145d6c79dfccf0d28a</td>\n",
       "      <td>2010_14</td>\n",
       "      <td>5k</td>\n",
       "      <td>do-not-scale</td>\n",
       "      <td>rf</td>\n",
       "      <td>sex</td>\n",
       "      <td>keep-all</td>\n",
       "      <td>0.67</td>\n",
       "      <td>0.915728</td>\n",
       "      <td>1.148512</td>\n",
       "      <td>0.914005</td>\n",
       "      <td>0.910683</td>\n",
       "      <td>0.924885</td>\n",
       "      <td>0.887183</td>\n",
       "    </tr>\n",
       "  </tbody>\n",
       "</table>\n",
       "</div>"
      ],
      "text/plain": [
       "                        universe_id universe_training_year  \\\n",
       "0  4cc90d25ca5bfa145d6c79dfccf0d28a                2010_14   \n",
       "\n",
       "  universe_training_size universe_scale universe_model  \\\n",
       "0                     5k   do-not-scale             rf   \n",
       "\n",
       "  universe_exclude_features universe_exclude_subgroups  q_hat  coverage  \\\n",
       "0                       sex                   keep-all   0.67  0.915728   \n",
       "\n",
       "   avg_size  cov_frau1  cov_nongerman  cov_nongerman_male  \\\n",
       "0  1.148512   0.914005       0.910683            0.924885   \n",
       "\n",
       "   cov_nongerman_female  \n",
       "0              0.887183  "
      ]
     },
     "execution_count": 56,
     "metadata": {},
     "output_type": "execute_result"
    }
   ],
   "source": [
    "cp_metrics_df"
   ]
  },
  {
   "cell_type": "markdown",
   "id": "3fc519cc",
   "metadata": {
    "papermill": {
     "duration": 0.013356,
     "end_time": "2025-08-19T18:46:44.124816",
     "exception": false,
     "start_time": "2025-08-19T18:46:44.111460",
     "status": "completed"
    },
    "tags": []
   },
   "source": [
    "# (Fairness) Metrics"
   ]
  },
  {
   "cell_type": "code",
   "execution_count": 57,
   "id": "a2e5e155",
   "metadata": {
    "execution": {
     "iopub.execute_input": "2025-08-19T18:46:44.163854Z",
     "iopub.status.busy": "2025-08-19T18:46:44.160962Z",
     "iopub.status.idle": "2025-08-19T18:46:44.190605Z",
     "shell.execute_reply": "2025-08-19T18:46:44.189900Z"
    },
    "papermill": {
     "duration": 0.052534,
     "end_time": "2025-08-19T18:46:44.193102",
     "exception": false,
     "start_time": "2025-08-19T18:46:44.140568",
     "status": "completed"
    },
    "tags": []
   },
   "outputs": [],
   "source": [
    "colname_to_bin = \"maxdeutsch1\"\n",
    "majority_value = org_train[colname_to_bin].mode()[0]\n",
    "\n",
    "org_test[\"majmin\"] = np.where(org_test[colname_to_bin] == majority_value, \"majority\", \"minority\")"
   ]
  },
  {
   "cell_type": "code",
   "execution_count": 58,
   "id": "17e3e4d5",
   "metadata": {
    "execution": {
     "iopub.execute_input": "2025-08-19T18:46:44.252682Z",
     "iopub.status.busy": "2025-08-19T18:46:44.252276Z",
     "iopub.status.idle": "2025-08-19T18:46:46.011752Z",
     "shell.execute_reply": "2025-08-19T18:46:46.010638Z"
    },
    "papermill": {
     "duration": 1.789285,
     "end_time": "2025-08-19T18:46:46.014810",
     "exception": false,
     "start_time": "2025-08-19T18:46:44.225525",
     "status": "completed"
    },
    "tags": []
   },
   "outputs": [],
   "source": [
    "example_universe = universe.copy()\n",
    "example_universe[\"cutoff\"] = example_universe[\"cutoff\"][0]\n",
    "example_universe[\"eval_fairness_grouping\"] = example_universe[\"eval_fairness_grouping\"][0]\n",
    "fairness_dict, metric_frame = universe_analysis.compute_metrics(\n",
    "    example_universe,\n",
    "    y_pred_prob=probs_test,\n",
    "    y_test=y_true,\n",
    "    org_test=org_test,\n",
    ")"
   ]
  },
  {
   "cell_type": "markdown",
   "id": "1fb7a0e9",
   "metadata": {
    "papermill": {
     "duration": 0.013701,
     "end_time": "2025-08-19T18:46:46.055825",
     "exception": false,
     "start_time": "2025-08-19T18:46:46.042124",
     "status": "completed"
    },
    "tags": []
   },
   "source": [
    "# Overall"
   ]
  },
  {
   "cell_type": "markdown",
   "id": "be1784b1",
   "metadata": {
    "papermill": {
     "duration": 0.012569,
     "end_time": "2025-08-19T18:46:46.080995",
     "exception": false,
     "start_time": "2025-08-19T18:46:46.068426",
     "status": "completed"
    },
    "tags": []
   },
   "source": [
    "Main fairness target: Equalized Odds. Seems to be a better fit than equal opportunity, since we're not only interested in Y = 1. Seems to be a better fit than demographic parity, since we also care about accuracy, not just equal distribution of preds.\n",
    "\n",
    "Pick column for computation of fairness metrics\n",
    "\n",
    "Performance\n",
    "Overall performance measures, most interesting in relation to the measures split by group below"
   ]
  },
  {
   "cell_type": "code",
   "execution_count": 59,
   "id": "b7672bee",
   "metadata": {
    "execution": {
     "iopub.execute_input": "2025-08-19T18:46:46.110111Z",
     "iopub.status.busy": "2025-08-19T18:46:46.108284Z",
     "iopub.status.idle": "2025-08-19T18:46:46.124568Z",
     "shell.execute_reply": "2025-08-19T18:46:46.123359Z"
    },
    "papermill": {
     "duration": 0.032611,
     "end_time": "2025-08-19T18:46:46.126077",
     "exception": false,
     "start_time": "2025-08-19T18:46:46.093466",
     "status": "completed"
    },
    "tags": []
   },
   "outputs": [
    {
     "data": {
      "text/plain": [
       "accuracy                   0.207870\n",
       "balanced accuracy          0.534090\n",
       "f1                         0.239605\n",
       "precision                  0.136627\n",
       "false positive rate        0.904708\n",
       "false negative rate        0.027112\n",
       "selection rate             0.913454\n",
       "count                  89710.000000\n",
       "dtype: float64"
      ]
     },
     "execution_count": 59,
     "metadata": {},
     "output_type": "execute_result"
    }
   ],
   "source": [
    "metric_frame.overall"
   ]
  },
  {
   "cell_type": "markdown",
   "id": "d93333c9",
   "metadata": {
    "papermill": {
     "duration": 0.012988,
     "end_time": "2025-08-19T18:46:46.158369",
     "exception": false,
     "start_time": "2025-08-19T18:46:46.145381",
     "status": "completed"
    },
    "tags": []
   },
   "source": [
    "By Group"
   ]
  },
  {
   "cell_type": "code",
   "execution_count": 60,
   "id": "52256966",
   "metadata": {
    "execution": {
     "iopub.execute_input": "2025-08-19T18:46:46.186702Z",
     "iopub.status.busy": "2025-08-19T18:46:46.185512Z",
     "iopub.status.idle": "2025-08-19T18:46:46.209349Z",
     "shell.execute_reply": "2025-08-19T18:46:46.208234Z"
    },
    "papermill": {
     "duration": 0.039925,
     "end_time": "2025-08-19T18:46:46.211109",
     "exception": false,
     "start_time": "2025-08-19T18:46:46.171184",
     "status": "completed"
    },
    "tags": []
   },
   "outputs": [
    {
     "data": {
      "text/html": [
       "<div>\n",
       "<style scoped>\n",
       "    .dataframe tbody tr th:only-of-type {\n",
       "        vertical-align: middle;\n",
       "    }\n",
       "\n",
       "    .dataframe tbody tr th {\n",
       "        vertical-align: top;\n",
       "    }\n",
       "\n",
       "    .dataframe thead th {\n",
       "        text-align: right;\n",
       "    }\n",
       "</style>\n",
       "<table border=\"1\" class=\"dataframe\">\n",
       "  <thead>\n",
       "    <tr style=\"text-align: right;\">\n",
       "      <th></th>\n",
       "      <th>accuracy</th>\n",
       "      <th>balanced accuracy</th>\n",
       "      <th>f1</th>\n",
       "      <th>precision</th>\n",
       "      <th>false positive rate</th>\n",
       "      <th>false negative rate</th>\n",
       "      <th>selection rate</th>\n",
       "      <th>count</th>\n",
       "    </tr>\n",
       "    <tr>\n",
       "      <th>majmin</th>\n",
       "      <th></th>\n",
       "      <th></th>\n",
       "      <th></th>\n",
       "      <th></th>\n",
       "      <th></th>\n",
       "      <th></th>\n",
       "      <th></th>\n",
       "      <th></th>\n",
       "    </tr>\n",
       "  </thead>\n",
       "  <tbody>\n",
       "    <tr>\n",
       "      <th>majority</th>\n",
       "      <td>0.195634</td>\n",
       "      <td>0.532872</td>\n",
       "      <td>0.245668</td>\n",
       "      <td>0.140209</td>\n",
       "      <td>0.925504</td>\n",
       "      <td>0.008753</td>\n",
       "      <td>0.934191</td>\n",
       "      <td>69170.0</td>\n",
       "    </tr>\n",
       "    <tr>\n",
       "      <th>minority</th>\n",
       "      <td>0.249075</td>\n",
       "      <td>0.533008</td>\n",
       "      <td>0.216897</td>\n",
       "      <td>0.123269</td>\n",
       "      <td>0.836011</td>\n",
       "      <td>0.097973</td>\n",
       "      <td>0.843622</td>\n",
       "      <td>20540.0</td>\n",
       "    </tr>\n",
       "  </tbody>\n",
       "</table>\n",
       "</div>"
      ],
      "text/plain": [
       "          accuracy  balanced accuracy        f1  precision  \\\n",
       "majmin                                                       \n",
       "majority  0.195634           0.532872  0.245668   0.140209   \n",
       "minority  0.249075           0.533008  0.216897   0.123269   \n",
       "\n",
       "          false positive rate  false negative rate  selection rate    count  \n",
       "majmin                                                                       \n",
       "majority             0.925504             0.008753        0.934191  69170.0  \n",
       "minority             0.836011             0.097973        0.843622  20540.0  "
      ]
     },
     "execution_count": 60,
     "metadata": {},
     "output_type": "execute_result"
    }
   ],
   "source": [
    "metric_frame.by_group"
   ]
  },
  {
   "cell_type": "code",
   "execution_count": 61,
   "id": "6e6c20ae",
   "metadata": {
    "execution": {
     "iopub.execute_input": "2025-08-19T18:46:46.248594Z",
     "iopub.status.busy": "2025-08-19T18:46:46.247380Z",
     "iopub.status.idle": "2025-08-19T18:46:48.051772Z",
     "shell.execute_reply": "2025-08-19T18:46:48.050889Z"
    },
    "papermill": {
     "duration": 1.82501,
     "end_time": "2025-08-19T18:46:48.056952",
     "exception": false,
     "start_time": "2025-08-19T18:46:46.231942",
     "status": "completed"
    },
    "tags": []
   },
   "outputs": [
    {
     "data": {
      "text/plain": [
       "array([[<Axes: title={'center': 'accuracy'}, xlabel='majmin'>,\n",
       "        <Axes: title={'center': 'balanced accuracy'}, xlabel='majmin'>,\n",
       "        <Axes: title={'center': 'f1'}, xlabel='majmin'>],\n",
       "       [<Axes: title={'center': 'precision'}, xlabel='majmin'>,\n",
       "        <Axes: title={'center': 'false positive rate'}, xlabel='majmin'>,\n",
       "        <Axes: title={'center': 'false negative rate'}, xlabel='majmin'>],\n",
       "       [<Axes: title={'center': 'selection rate'}, xlabel='majmin'>,\n",
       "        <Axes: title={'center': 'count'}, xlabel='majmin'>,\n",
       "        <Axes: xlabel='majmin'>]], dtype=object)"
      ]
     },
     "execution_count": 61,
     "metadata": {},
     "output_type": "execute_result"
    },
    {
     "data": {
      "image/png": "[encoded data removed]",
      "text/plain": [
       "<Figure size 1200x800 with 9 Axes>"
      ]
     },
     "metadata": {},
     "output_type": "display_data"
    }
   ],
   "source": [
    "# In a graphic\n",
    "metric_frame.by_group.plot.bar(\n",
    "    subplots=True,\n",
    "    layout=[3, 3],\n",
    "    legend=False,\n",
    "    figsize=[12, 8],\n",
    "    title=\"Show all metrics\",\n",
    ")"
   ]
  },
  {
   "cell_type": "markdown",
   "id": "b2e433ae",
   "metadata": {
    "papermill": {
     "duration": 0.014256,
     "end_time": "2025-08-19T18:46:48.102442",
     "exception": false,
     "start_time": "2025-08-19T18:46:48.088186",
     "status": "completed"
    },
    "tags": []
   },
   "source": [
    "# Final Output"
   ]
  },
  {
   "cell_type": "code",
   "execution_count": 62,
   "id": "3871301e",
   "metadata": {
    "execution": {
     "iopub.execute_input": "2025-08-19T18:46:48.135453Z",
     "iopub.status.busy": "2025-08-19T18:46:48.132762Z",
     "iopub.status.idle": "2025-08-19T18:46:48.148642Z",
     "shell.execute_reply": "2025-08-19T18:46:48.147576Z"
    },
    "papermill": {
     "duration": 0.033776,
     "end_time": "2025-08-19T18:46:48.150236",
     "exception": false,
     "start_time": "2025-08-19T18:46:48.116460",
     "status": "completed"
    },
    "tags": []
   },
   "outputs": [
    {
     "data": {
      "text/plain": [
       "4"
      ]
     },
     "execution_count": 62,
     "metadata": {},
     "output_type": "execute_result"
    }
   ],
   "source": [
    "sub_universes = universe_analysis.generate_sub_universes()\n",
    "len(sub_universes)"
   ]
  },
  {
   "cell_type": "code",
   "execution_count": 63,
   "id": "d9cfdaca",
   "metadata": {
    "execution": {
     "iopub.execute_input": "2025-08-19T18:46:48.185497Z",
     "iopub.status.busy": "2025-08-19T18:46:48.184242Z",
     "iopub.status.idle": "2025-08-19T18:46:48.197727Z",
     "shell.execute_reply": "2025-08-19T18:46:48.196416Z"
    },
    "papermill": {
     "duration": 0.031037,
     "end_time": "2025-08-19T18:46:48.199398",
     "exception": false,
     "start_time": "2025-08-19T18:46:48.168361",
     "status": "completed"
    },
    "tags": []
   },
   "outputs": [],
   "source": [
    "def filter_sub_universe_data(sub_universe, org_test):\n",
    "    # Keep all rows — no filtering\n",
    "    keep_rows_mask = np.ones(org_test.shape[0], dtype=bool)\n",
    "\n",
    "    print(f\"[INFO] Keeping all rows: {keep_rows_mask.sum()} rows retained.\")\n",
    "    return keep_rows_mask"
   ]
  },
  {
   "cell_type": "code",
   "execution_count": 64,
   "id": "2bc31ac1",
   "metadata": {
    "execution": {
     "iopub.execute_input": "2025-08-19T18:46:48.235277Z",
     "iopub.status.busy": "2025-08-19T18:46:48.233927Z",
     "iopub.status.idle": "2025-08-19T18:46:54.962589Z",
     "shell.execute_reply": "2025-08-19T18:46:54.961567Z"
    },
    "papermill": {
     "duration": 6.746717,
     "end_time": "2025-08-19T18:46:54.963972",
     "exception": false,
     "start_time": "2025-08-19T18:46:48.217255",
     "status": "completed"
    },
    "tags": []
   },
   "outputs": [
    {
     "name": "stdout",
     "output_type": "stream",
     "text": [
      "Stopping execution_time clock.\n",
      "[INFO] Keeping all rows: 89710 rows retained.\n"
     ]
    },
    {
     "name": "stdout",
     "output_type": "stream",
     "text": [
      "[INFO] Keeping all rows: 89710 rows retained.\n"
     ]
    },
    {
     "name": "stdout",
     "output_type": "stream",
     "text": [
      "[INFO] Keeping all rows: 89710 rows retained.\n"
     ]
    },
    {
     "name": "stdout",
     "output_type": "stream",
     "text": [
      "[INFO] Keeping all rows: 89710 rows retained.\n"
     ]
    },
    {
     "data": {
      "text/html": [
       "<div>\n",
       "<style scoped>\n",
       "    .dataframe tbody tr th:only-of-type {\n",
       "        vertical-align: middle;\n",
       "    }\n",
       "\n",
       "    .dataframe tbody tr th {\n",
       "        vertical-align: top;\n",
       "    }\n",
       "\n",
       "    .dataframe thead th {\n",
       "        text-align: right;\n",
       "    }\n",
       "</style>\n",
       "<table border=\"1\" class=\"dataframe\">\n",
       "  <thead>\n",
       "    <tr style=\"text-align: right;\">\n",
       "      <th></th>\n",
       "      <th>run_no</th>\n",
       "      <th>universe_id</th>\n",
       "      <th>universe_settings</th>\n",
       "      <th>execution_time</th>\n",
       "      <th>test_size_n</th>\n",
       "      <th>test_size_frac</th>\n",
       "      <th>fair_main_equalized_odds_difference</th>\n",
       "      <th>fair_main_equalized_odds_ratio</th>\n",
       "      <th>fair_main_demographic_parity_difference</th>\n",
       "      <th>fair_main_demographic_parity_ratio</th>\n",
       "      <th>...</th>\n",
       "      <th>perf_grp_precision_0</th>\n",
       "      <th>perf_grp_precision_1</th>\n",
       "      <th>perf_grp_false positive rate_0</th>\n",
       "      <th>perf_grp_false positive rate_1</th>\n",
       "      <th>perf_grp_false negative rate_0</th>\n",
       "      <th>perf_grp_false negative rate_1</th>\n",
       "      <th>perf_grp_selection rate_0</th>\n",
       "      <th>perf_grp_selection rate_1</th>\n",
       "      <th>perf_grp_count_0</th>\n",
       "      <th>perf_grp_count_1</th>\n",
       "    </tr>\n",
       "  </thead>\n",
       "  <tbody>\n",
       "    <tr>\n",
       "      <th>0</th>\n",
       "      <td>3</td>\n",
       "      <td>4cc90d25ca5bfa145d6c79dfccf0d28a</td>\n",
       "      <td>{\"cutoff\": \"quantile_0.1\", \"eval_fairness_grou...</td>\n",
       "      <td>30.154287</td>\n",
       "      <td>89710</td>\n",
       "      <td>1.0</td>\n",
       "      <td>0.089492</td>\n",
       "      <td>0.903304</td>\n",
       "      <td>0.090569</td>\n",
       "      <td>0.903051</td>\n",
       "      <td>...</td>\n",
       "      <td>NaN</td>\n",
       "      <td>NaN</td>\n",
       "      <td>NaN</td>\n",
       "      <td>NaN</td>\n",
       "      <td>NaN</td>\n",
       "      <td>NaN</td>\n",
       "      <td>NaN</td>\n",
       "      <td>NaN</td>\n",
       "      <td>NaN</td>\n",
       "      <td>NaN</td>\n",
       "    </tr>\n",
       "    <tr>\n",
       "      <th>0</th>\n",
       "      <td>3</td>\n",
       "      <td>4cc90d25ca5bfa145d6c79dfccf0d28a</td>\n",
       "      <td>{\"cutoff\": \"quantile_0.1\", \"eval_fairness_grou...</td>\n",
       "      <td>30.154287</td>\n",
       "      <td>89710</td>\n",
       "      <td>1.0</td>\n",
       "      <td>0.089492</td>\n",
       "      <td>0.903304</td>\n",
       "      <td>0.090569</td>\n",
       "      <td>0.903051</td>\n",
       "      <td>...</td>\n",
       "      <td>0.123269</td>\n",
       "      <td>0.140209</td>\n",
       "      <td>0.836011</td>\n",
       "      <td>0.925504</td>\n",
       "      <td>0.097973</td>\n",
       "      <td>0.008753</td>\n",
       "      <td>0.843622</td>\n",
       "      <td>0.934191</td>\n",
       "      <td>20540.0</td>\n",
       "      <td>69170.0</td>\n",
       "    </tr>\n",
       "    <tr>\n",
       "      <th>0</th>\n",
       "      <td>3</td>\n",
       "      <td>4cc90d25ca5bfa145d6c79dfccf0d28a</td>\n",
       "      <td>{\"cutoff\": \"quantile_0.25\", \"eval_fairness_gro...</td>\n",
       "      <td>30.154287</td>\n",
       "      <td>89710</td>\n",
       "      <td>1.0</td>\n",
       "      <td>0.147115</td>\n",
       "      <td>0.846152</td>\n",
       "      <td>0.109276</td>\n",
       "      <td>0.861487</td>\n",
       "      <td>...</td>\n",
       "      <td>NaN</td>\n",
       "      <td>NaN</td>\n",
       "      <td>NaN</td>\n",
       "      <td>NaN</td>\n",
       "      <td>NaN</td>\n",
       "      <td>NaN</td>\n",
       "      <td>NaN</td>\n",
       "      <td>NaN</td>\n",
       "      <td>NaN</td>\n",
       "      <td>NaN</td>\n",
       "    </tr>\n",
       "    <tr>\n",
       "      <th>0</th>\n",
       "      <td>3</td>\n",
       "      <td>4cc90d25ca5bfa145d6c79dfccf0d28a</td>\n",
       "      <td>{\"cutoff\": \"quantile_0.25\", \"eval_fairness_gro...</td>\n",
       "      <td>30.154287</td>\n",
       "      <td>89710</td>\n",
       "      <td>1.0</td>\n",
       "      <td>0.147115</td>\n",
       "      <td>0.846152</td>\n",
       "      <td>0.109276</td>\n",
       "      <td>0.861487</td>\n",
       "      <td>...</td>\n",
       "      <td>0.137249</td>\n",
       "      <td>0.160161</td>\n",
       "      <td>0.662778</td>\n",
       "      <td>0.763452</td>\n",
       "      <td>0.190878</td>\n",
       "      <td>0.043764</td>\n",
       "      <td>0.679649</td>\n",
       "      <td>0.788926</td>\n",
       "      <td>20540.0</td>\n",
       "      <td>69170.0</td>\n",
       "    </tr>\n",
       "  </tbody>\n",
       "</table>\n",
       "<p>4 rows × 50 columns</p>\n",
       "</div>"
      ],
      "text/plain": [
       "  run_no                       universe_id  \\\n",
       "0      3  4cc90d25ca5bfa145d6c79dfccf0d28a   \n",
       "0      3  4cc90d25ca5bfa145d6c79dfccf0d28a   \n",
       "0      3  4cc90d25ca5bfa145d6c79dfccf0d28a   \n",
       "0      3  4cc90d25ca5bfa145d6c79dfccf0d28a   \n",
       "\n",
       "                                   universe_settings  execution_time  \\\n",
       "0  {\"cutoff\": \"quantile_0.1\", \"eval_fairness_grou...       30.154287   \n",
       "0  {\"cutoff\": \"quantile_0.1\", \"eval_fairness_grou...       30.154287   \n",
       "0  {\"cutoff\": \"quantile_0.25\", \"eval_fairness_gro...       30.154287   \n",
       "0  {\"cutoff\": \"quantile_0.25\", \"eval_fairness_gro...       30.154287   \n",
       "\n",
       "   test_size_n  test_size_frac  fair_main_equalized_odds_difference  \\\n",
       "0        89710             1.0                             0.089492   \n",
       "0        89710             1.0                             0.089492   \n",
       "0        89710             1.0                             0.147115   \n",
       "0        89710             1.0                             0.147115   \n",
       "\n",
       "   fair_main_equalized_odds_ratio  fair_main_demographic_parity_difference  \\\n",
       "0                        0.903304                                 0.090569   \n",
       "0                        0.903304                                 0.090569   \n",
       "0                        0.846152                                 0.109276   \n",
       "0                        0.846152                                 0.109276   \n",
       "\n",
       "   fair_main_demographic_parity_ratio  ...  perf_grp_precision_0  \\\n",
       "0                            0.903051  ...                   NaN   \n",
       "0                            0.903051  ...              0.123269   \n",
       "0                            0.861487  ...                   NaN   \n",
       "0                            0.861487  ...              0.137249   \n",
       "\n",
       "   perf_grp_precision_1  perf_grp_false positive rate_0  \\\n",
       "0                   NaN                             NaN   \n",
       "0              0.140209                        0.836011   \n",
       "0                   NaN                             NaN   \n",
       "0              0.160161                        0.662778   \n",
       "\n",
       "   perf_grp_false positive rate_1  perf_grp_false negative rate_0  \\\n",
       "0                             NaN                             NaN   \n",
       "0                        0.925504                        0.097973   \n",
       "0                             NaN                             NaN   \n",
       "0                        0.763452                        0.190878   \n",
       "\n",
       "   perf_grp_false negative rate_1  perf_grp_selection rate_0  \\\n",
       "0                             NaN                        NaN   \n",
       "0                        0.008753                   0.843622   \n",
       "0                             NaN                        NaN   \n",
       "0                        0.043764                   0.679649   \n",
       "\n",
       "   perf_grp_selection rate_1  perf_grp_count_0  perf_grp_count_1  \n",
       "0                        NaN               NaN               NaN  \n",
       "0                   0.934191           20540.0           69170.0  \n",
       "0                        NaN               NaN               NaN  \n",
       "0                   0.788926           20540.0           69170.0  \n",
       "\n",
       "[4 rows x 50 columns]"
      ]
     },
     "execution_count": 64,
     "metadata": {},
     "output_type": "execute_result"
    }
   ],
   "source": [
    "final_output = universe_analysis.generate_final_output(\n",
    "    y_pred_prob=probs_test,\n",
    "    y_test=y_true,\n",
    "    org_test=org_test,\n",
    "    filter_data=filter_sub_universe_data,\n",
    "    cp_metrics_df=cp_metrics_df,\n",
    "    save=True,\n",
    ")\n",
    "final_output"
   ]
  },
  {
   "cell_type": "code",
   "execution_count": null,
   "id": "8b80a1ff",
   "metadata": {
    "papermill": {
     "duration": 0.018921,
     "end_time": "2025-08-19T18:46:55.018081",
     "exception": false,
     "start_time": "2025-08-19T18:46:54.999160",
     "status": "completed"
    },
    "tags": []
   },
   "outputs": [],
   "source": []
  },
  {
   "cell_type": "code",
   "execution_count": null,
   "id": "275c9fad",
   "metadata": {
    "papermill": {
     "duration": 0.015367,
     "end_time": "2025-08-19T18:46:55.064124",
     "exception": false,
     "start_time": "2025-08-19T18:46:55.048757",
     "status": "completed"
    },
    "tags": []
   },
   "outputs": [],
   "source": []
  }
 ],
 "metadata": {
  "celltoolbar": "Tags",
  "kernelspec": {
   "display_name": "Python (CMA Fairness)",
   "language": "python",
   "name": "cma_fair_env"
  },
  "language_info": {
   "codemirror_mode": {
    "name": "ipython",
    "version": 3
   },
   "file_extension": ".py",
   "mimetype": "text/x-python",
   "name": "python",
   "nbconvert_exporter": "python",
   "pygments_lexer": "ipython3",
   "version": "3.10.12"
  },
  "papermill": {
   "default_parameters": {},
   "duration": 40.776061,
   "end_time": "2025-08-19T18:46:55.902716",
   "environment_variables": {},
   "exception": null,
   "input_path": "universe_analysis.ipynb",
   "output_path": "output/runs/3/notebooks/m_3-4cc90d25ca5bfa145d6c79dfccf0d28a.ipynb",
   "parameters": {
    "output_dir": "output",
    "run_no": "3",
    "seed": "2023",
    "universe": "{\"cutoff\": [\"quantile_0.1\", \"quantile_0.25\"], \"eval_fairness_grouping\": [\"majority-minority\", \"nationality-all\"], \"exclude_features\": \"sex\", \"exclude_subgroups\": \"keep-all\", \"model\": \"rf\", \"scale\": \"do-not-scale\", \"training_size\": \"5k\", \"training_year\": \"2010_14\"}",
    "universe_id": "4cc90d25ca5bfa145d6c79dfccf0d28a"
   },
   "start_time": "2025-08-19T18:46:15.126655",
   "version": "2.6.0"
  }
 },
 "nbformat": 4,
 "nbformat_minor": 5
}