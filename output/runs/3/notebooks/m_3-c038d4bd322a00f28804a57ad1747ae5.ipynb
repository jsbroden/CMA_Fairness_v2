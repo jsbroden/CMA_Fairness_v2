{
 "cells": [
  {
   "cell_type": "markdown",
   "id": "ef23dbb3",
   "metadata": {
    "papermill": {
     "duration": 0.022635,
     "end_time": "2025-08-19T18:27:50.865291",
     "exception": false,
     "start_time": "2025-08-19T18:27:50.842656",
     "status": "completed"
    },
    "tags": []
   },
   "source": [
    "# Setup"
   ]
  },
  {
   "cell_type": "code",
   "execution_count": 1,
   "id": "0bc8e7dc",
   "metadata": {
    "execution": {
     "iopub.execute_input": "2025-08-19T18:27:50.889934Z",
     "iopub.status.busy": "2025-08-19T18:27:50.888706Z",
     "iopub.status.idle": "2025-08-19T18:27:50.910214Z",
     "shell.execute_reply": "2025-08-19T18:27:50.908796Z"
    },
    "papermill": {
     "duration": 0.03547,
     "end_time": "2025-08-19T18:27:50.913586",
     "exception": false,
     "start_time": "2025-08-19T18:27:50.878116",
     "status": "completed"
    },
    "tags": []
   },
   "outputs": [
    {
     "name": "stdout",
     "output_type": "stream",
     "text": [
      "/dss/dsshome1/0C/ra93lal2/cma/CMA_Fairness_v2\n"
     ]
    },
    {
     "name": "stderr",
     "output_type": "stream",
     "text": [
      "/dss/dsshome1/0C/ra93lal2/.local/share/virtualenvs/CMA_Fairness_v2-3j10GkSs/lib/python3.10/site-packages/IPython/core/magics/osm.py:393: UserWarning: This is now an optional IPython functionality, using bookmarks requires you to install the `pickleshare` library.\n",
      "  bkms = self.shell.db.get('bookmarks', {})\n",
      "/dss/dsshome1/0C/ra93lal2/.local/share/virtualenvs/CMA_Fairness_v2-3j10GkSs/lib/python3.10/site-packages/IPython/core/magics/osm.py:417: UserWarning: This is now an optional IPython functionality, setting dhist requires you to install the `pickleshare` library.\n",
      "  self.shell.db['dhist'] = compress_dhist(dhist)[-100:]\n"
     ]
    }
   ],
   "source": [
    "%cd ~/cma/CMA_Fairness_v2"
   ]
  },
  {
   "cell_type": "markdown",
   "id": "9d235661",
   "metadata": {
    "papermill": {
     "duration": 0.009252,
     "end_time": "2025-08-19T18:27:50.935370",
     "exception": false,
     "start_time": "2025-08-19T18:27:50.926118",
     "status": "completed"
    },
    "tags": []
   },
   "source": [
    "The following cell holds the definition of our parameters, these values can be overriden by rendering the with e.g. the following command:\n",
    "\n",
    "papermill -p alpha 0.2 -p ratio 0.3 universe_analysis.ipynb output/test_run.ipynb"
   ]
  },
  {
   "cell_type": "code",
   "execution_count": 2,
   "id": "4a789d8e",
   "metadata": {
    "execution": {
     "iopub.execute_input": "2025-08-19T18:27:51.070578Z",
     "iopub.status.busy": "2025-08-19T18:27:51.069983Z",
     "iopub.status.idle": "2025-08-19T18:27:51.074805Z",
     "shell.execute_reply": "2025-08-19T18:27:51.073994Z"
    },
    "papermill": {
     "duration": 0.016862,
     "end_time": "2025-08-19T18:27:51.076808",
     "exception": false,
     "start_time": "2025-08-19T18:27:51.059946",
     "status": "completed"
    },
    "tags": []
   },
   "outputs": [
    {
     "name": "stdout",
     "output_type": "stream",
     "text": [
      "Current working directory: /dss/dsshome1/0C/ra93lal2/cma/CMA_Fairness_v2\n"
     ]
    }
   ],
   "source": [
    "import os\n",
    "print(\"Current working directory:\", os.getcwd())"
   ]
  },
  {
   "cell_type": "code",
   "execution_count": 3,
   "id": "4132aaed",
   "metadata": {
    "execution": {
     "iopub.execute_input": "2025-08-19T18:27:51.096942Z",
     "iopub.status.busy": "2025-08-19T18:27:51.096240Z",
     "iopub.status.idle": "2025-08-19T18:27:51.102799Z",
     "shell.execute_reply": "2025-08-19T18:27:51.101825Z"
    },
    "papermill": {
     "duration": 0.017784,
     "end_time": "2025-08-19T18:27:51.104082",
     "exception": false,
     "start_time": "2025-08-19T18:27:51.086298",
     "status": "completed"
    },
    "tags": [
     "parameters"
    ]
   },
   "outputs": [],
   "source": [
    "run_no = 0\n",
    "universe_id = \"test\"\n",
    "universe = {\n",
    "    \"training_size\": \"5k\", # \"25k\", \"5k\", \"1k\"\n",
    "    \"training_year\": \"2012_14\", # \"2014\", \"2012_14\", \"2010_14\"\n",
    "    \"scale\": \"scale\", # \"scale\", \"do-not-scale\",\n",
    "    \"model\": \"elasticnet\", # \"logreg\", \"penalized_logreg\", \"rf\", \"gbm\", \"elasticnet\"\n",
    "    \"cutoff\": [\"quantile_0.15\", \"quantile_0.30\"],\n",
    "    \"exclude_features\": \"age\", # \"none\", \"nationality\", \"sex\", \"nationality-sex\", \"age\"\n",
    "    \"exclude_subgroups\": \"drop-non-german\", # \"keep-all\", \"drop-non-german\"\n",
    "    \"eval_fairness_grouping\": [\"majority-minority\", \"nationality-all\"]\n",
    "}\n",
    "\n",
    "output_dir=\"./output\"\n",
    "seed=0"
   ]
  },
  {
   "cell_type": "code",
   "execution_count": 4,
   "id": "71ec3825",
   "metadata": {
    "execution": {
     "iopub.execute_input": "2025-08-19T18:27:51.124767Z",
     "iopub.status.busy": "2025-08-19T18:27:51.123769Z",
     "iopub.status.idle": "2025-08-19T18:27:51.132159Z",
     "shell.execute_reply": "2025-08-19T18:27:51.130570Z"
    },
    "papermill": {
     "duration": 0.020362,
     "end_time": "2025-08-19T18:27:51.133871",
     "exception": false,
     "start_time": "2025-08-19T18:27:51.113509",
     "status": "completed"
    },
    "tags": [
     "injected-parameters"
    ]
   },
   "outputs": [],
   "source": [
    "# Parameters\n",
    "universe_id = \"c038d4bd322a00f28804a57ad1747ae5\"\n",
    "run_no = \"3\"\n",
    "universe = \"{\\\"cutoff\\\": [\\\"quantile_0.1\\\", \\\"quantile_0.25\\\"], \\\"eval_fairness_grouping\\\": [\\\"majority-minority\\\", \\\"nationality-all\\\"], \\\"exclude_features\\\": \\\"sex\\\", \\\"exclude_subgroups\\\": \\\"drop-non-german\\\", \\\"model\\\": \\\"penalized_logreg\\\", \\\"scale\\\": \\\"do-not-scale\\\", \\\"training_size\\\": \\\"5k\\\", \\\"training_year\\\": \\\"2014\\\"}\"\n",
    "output_dir = \"output\"\n",
    "seed = \"2023\"\n"
   ]
  },
  {
   "cell_type": "code",
   "execution_count": 5,
   "id": "a5d7941f",
   "metadata": {
    "execution": {
     "iopub.execute_input": "2025-08-19T18:27:51.155406Z",
     "iopub.status.busy": "2025-08-19T18:27:51.154301Z",
     "iopub.status.idle": "2025-08-19T18:27:51.162440Z",
     "shell.execute_reply": "2025-08-19T18:27:51.160829Z"
    },
    "papermill": {
     "duration": 0.020389,
     "end_time": "2025-08-19T18:27:51.164124",
     "exception": false,
     "start_time": "2025-08-19T18:27:51.143735",
     "status": "completed"
    },
    "tags": []
   },
   "outputs": [],
   "source": [
    "import json\n",
    "if isinstance(universe, str):\n",
    "    universe = json.loads(universe)"
   ]
  },
  {
   "cell_type": "code",
   "execution_count": 6,
   "id": "7076ccb1",
   "metadata": {
    "execution": {
     "iopub.execute_input": "2025-08-19T18:27:51.186118Z",
     "iopub.status.busy": "2025-08-19T18:27:51.184800Z",
     "iopub.status.idle": "2025-08-19T18:27:51.237915Z",
     "shell.execute_reply": "2025-08-19T18:27:51.237252Z"
    },
    "papermill": {
     "duration": 0.066474,
     "end_time": "2025-08-19T18:27:51.240590",
     "exception": false,
     "start_time": "2025-08-19T18:27:51.174116",
     "status": "completed"
    },
    "tags": []
   },
   "outputs": [],
   "source": [
    "# Auto-reload the custom package\n",
    "%load_ext autoreload\n",
    "%autoreload 1\n",
    "%aimport fairness_multiverse"
   ]
  },
  {
   "cell_type": "code",
   "execution_count": 7,
   "id": "94c8eb93",
   "metadata": {
    "execution": {
     "iopub.execute_input": "2025-08-19T18:27:51.276643Z",
     "iopub.status.busy": "2025-08-19T18:27:51.275586Z",
     "iopub.status.idle": "2025-08-19T18:27:52.895938Z",
     "shell.execute_reply": "2025-08-19T18:27:52.895084Z"
    },
    "papermill": {
     "duration": 1.635168,
     "end_time": "2025-08-19T18:27:52.897506",
     "exception": false,
     "start_time": "2025-08-19T18:27:51.262338",
     "status": "completed"
    },
    "tags": []
   },
   "outputs": [],
   "source": [
    "from fairness_multiverse.universe import UniverseAnalysis\n",
    "\n",
    "universe_analysis = UniverseAnalysis(\n",
    "    run_no = run_no,\n",
    "    universe_id = universe_id,\n",
    "    universe = universe,\n",
    "    output_dir=output_dir,\n",
    ")"
   ]
  },
  {
   "cell_type": "code",
   "execution_count": 8,
   "id": "2a6381cf",
   "metadata": {
    "execution": {
     "iopub.execute_input": "2025-08-19T18:27:52.934410Z",
     "iopub.status.busy": "2025-08-19T18:27:52.933221Z",
     "iopub.status.idle": "2025-08-19T18:27:52.941713Z",
     "shell.execute_reply": "2025-08-19T18:27:52.940584Z"
    },
    "papermill": {
     "duration": 0.022189,
     "end_time": "2025-08-19T18:27:52.943242",
     "exception": false,
     "start_time": "2025-08-19T18:27:52.921053",
     "status": "completed"
    },
    "tags": []
   },
   "outputs": [
    {
     "name": "stdout",
     "output_type": "stream",
     "text": [
      "Using Seed: 2023\n"
     ]
    }
   ],
   "source": [
    "import numpy as np\n",
    "parsed_seed = int(seed)\n",
    "np.random.seed(parsed_seed)\n",
    "print(f\"Using Seed: {parsed_seed}\")"
   ]
  },
  {
   "cell_type": "markdown",
   "id": "b6e958b4",
   "metadata": {
    "papermill": {
     "duration": 0.036609,
     "end_time": "2025-08-19T18:27:52.993839",
     "exception": false,
     "start_time": "2025-08-19T18:27:52.957230",
     "status": "completed"
    },
    "tags": []
   },
   "source": [
    "# Loading Data"
   ]
  },
  {
   "cell_type": "code",
   "execution_count": 9,
   "id": "98701482",
   "metadata": {
    "execution": {
     "iopub.execute_input": "2025-08-19T18:27:53.023528Z",
     "iopub.status.busy": "2025-08-19T18:27:53.022131Z",
     "iopub.status.idle": "2025-08-19T18:28:03.175125Z",
     "shell.execute_reply": "2025-08-19T18:28:03.173920Z"
    },
    "papermill": {
     "duration": 10.167578,
     "end_time": "2025-08-19T18:28:03.176775",
     "exception": false,
     "start_time": "2025-08-19T18:27:53.009197",
     "status": "completed"
    },
    "tags": []
   },
   "outputs": [
    {
     "name": "stdout",
     "output_type": "stream",
     "text": [
      "Loading SIAB data from cache: data/siab_cached.csv.gz\n"
     ]
    },
    {
     "name": "stdout",
     "output_type": "stream",
     "text": [
      "(643690, 164)\n"
     ]
    }
   ],
   "source": [
    "from pathlib import Path\n",
    "import pandas as pd\n",
    "\n",
    "# File paths\n",
    "raw_file = Path(\"data/raw/siab.csv\")\n",
    "cache_file = Path(\"data/siab_cached.csv.gz\")\n",
    "\n",
    "# Ensure cache directory exists\n",
    "cache_file.parent.mkdir(parents=True, exist_ok=True)\n",
    "\n",
    "# Load with simple caching\n",
    "if cache_file.exists():\n",
    "    print(f\"Loading SIAB data from cache: {cache_file}\")\n",
    "    siab = pd.read_csv(cache_file, compression='gzip')\n",
    "else:\n",
    "    print(f\"Cache not found. Reading raw SIAB data: {raw_file}\")\n",
    "    siab = pd.read_csv(raw_file)\n",
    "    siab.to_csv(cache_file, index=False, compression='gzip')\n",
    "    print(f\"Cached SIAB data to: {cache_file}\")\n",
    "\n",
    "print(siab.shape)"
   ]
  },
  {
   "cell_type": "code",
   "execution_count": 10,
   "id": "058d2abb",
   "metadata": {
    "execution": {
     "iopub.execute_input": "2025-08-19T18:28:03.203433Z",
     "iopub.status.busy": "2025-08-19T18:28:03.201681Z",
     "iopub.status.idle": "2025-08-19T18:28:03.339133Z",
     "shell.execute_reply": "2025-08-19T18:28:03.338091Z"
    },
    "papermill": {
     "duration": 0.150722,
     "end_time": "2025-08-19T18:28:03.340510",
     "exception": false,
     "start_time": "2025-08-19T18:28:03.189788",
     "status": "completed"
    },
    "tags": []
   },
   "outputs": [
    {
     "data": {
      "text/html": [
       "<div>\n",
       "<style scoped>\n",
       "    .dataframe tbody tr th:only-of-type {\n",
       "        vertical-align: middle;\n",
       "    }\n",
       "\n",
       "    .dataframe tbody tr th {\n",
       "        vertical-align: top;\n",
       "    }\n",
       "\n",
       "    .dataframe thead th {\n",
       "        text-align: right;\n",
       "    }\n",
       "</style>\n",
       "<table border=\"1\" class=\"dataframe\">\n",
       "  <thead>\n",
       "    <tr style=\"text-align: right;\">\n",
       "      <th></th>\n",
       "      <th>persnr</th>\n",
       "      <th>year</th>\n",
       "      <th>nrEntry</th>\n",
       "      <th>ltue</th>\n",
       "      <th>employed_before</th>\n",
       "      <th>receipt_leh_before</th>\n",
       "      <th>receipt_lhg_before</th>\n",
       "      <th>se_before</th>\n",
       "      <th>ASU_notue_seeking_before</th>\n",
       "      <th>ASU_other_before</th>\n",
       "      <th>...</th>\n",
       "      <th>minijob_tot_dur_byage</th>\n",
       "      <th>ft_tot_dur_byage</th>\n",
       "      <th>befrist_tot_dur_byage</th>\n",
       "      <th>leih_tot_dur_byage</th>\n",
       "      <th>LHG_tot_dur_byage</th>\n",
       "      <th>LEH_tot_dur_byage</th>\n",
       "      <th>almp_tot_dur_byage</th>\n",
       "      <th>almp_aw_tot_dur_byage</th>\n",
       "      <th>se_tot_dur_byage</th>\n",
       "      <th>seeking1_tot_dur_byage</th>\n",
       "    </tr>\n",
       "  </thead>\n",
       "  <tbody>\n",
       "    <tr>\n",
       "      <th>0</th>\n",
       "      <td>7</td>\n",
       "      <td>2015</td>\n",
       "      <td>1</td>\n",
       "      <td>0</td>\n",
       "      <td>1</td>\n",
       "      <td>0</td>\n",
       "      <td>0</td>\n",
       "      <td>0</td>\n",
       "      <td>1</td>\n",
       "      <td>0</td>\n",
       "      <td>...</td>\n",
       "      <td>0.000000</td>\n",
       "      <td>0.000000</td>\n",
       "      <td>15.043478</td>\n",
       "      <td>0.000000</td>\n",
       "      <td>0.000000</td>\n",
       "      <td>0.000000</td>\n",
       "      <td>0.000000</td>\n",
       "      <td>0.000000</td>\n",
       "      <td>0.000000</td>\n",
       "      <td>0.000000</td>\n",
       "    </tr>\n",
       "    <tr>\n",
       "      <th>1</th>\n",
       "      <td>18</td>\n",
       "      <td>2010</td>\n",
       "      <td>1</td>\n",
       "      <td>1</td>\n",
       "      <td>0</td>\n",
       "      <td>0</td>\n",
       "      <td>0</td>\n",
       "      <td>0</td>\n",
       "      <td>0</td>\n",
       "      <td>0</td>\n",
       "      <td>...</td>\n",
       "      <td>0.000000</td>\n",
       "      <td>0.000000</td>\n",
       "      <td>0.000000</td>\n",
       "      <td>0.000000</td>\n",
       "      <td>0.000000</td>\n",
       "      <td>0.000000</td>\n",
       "      <td>0.000000</td>\n",
       "      <td>0.000000</td>\n",
       "      <td>0.000000</td>\n",
       "      <td>0.000000</td>\n",
       "    </tr>\n",
       "    <tr>\n",
       "      <th>2</th>\n",
       "      <td>18</td>\n",
       "      <td>2011</td>\n",
       "      <td>2</td>\n",
       "      <td>0</td>\n",
       "      <td>1</td>\n",
       "      <td>0</td>\n",
       "      <td>1</td>\n",
       "      <td>0</td>\n",
       "      <td>1</td>\n",
       "      <td>0</td>\n",
       "      <td>...</td>\n",
       "      <td>2.714286</td>\n",
       "      <td>2.714286</td>\n",
       "      <td>0.000000</td>\n",
       "      <td>0.000000</td>\n",
       "      <td>10.775510</td>\n",
       "      <td>0.000000</td>\n",
       "      <td>8.367347</td>\n",
       "      <td>0.000000</td>\n",
       "      <td>0.000000</td>\n",
       "      <td>9.836735</td>\n",
       "    </tr>\n",
       "    <tr>\n",
       "      <th>3</th>\n",
       "      <td>18</td>\n",
       "      <td>2012</td>\n",
       "      <td>3</td>\n",
       "      <td>0</td>\n",
       "      <td>1</td>\n",
       "      <td>0</td>\n",
       "      <td>1</td>\n",
       "      <td>0</td>\n",
       "      <td>1</td>\n",
       "      <td>0</td>\n",
       "      <td>...</td>\n",
       "      <td>4.200000</td>\n",
       "      <td>4.200000</td>\n",
       "      <td>0.000000</td>\n",
       "      <td>0.000000</td>\n",
       "      <td>12.100000</td>\n",
       "      <td>0.000000</td>\n",
       "      <td>9.400000</td>\n",
       "      <td>0.000000</td>\n",
       "      <td>0.000000</td>\n",
       "      <td>9.960000</td>\n",
       "    </tr>\n",
       "    <tr>\n",
       "      <th>4</th>\n",
       "      <td>18</td>\n",
       "      <td>2012</td>\n",
       "      <td>4</td>\n",
       "      <td>0</td>\n",
       "      <td>1</td>\n",
       "      <td>0</td>\n",
       "      <td>1</td>\n",
       "      <td>0</td>\n",
       "      <td>1</td>\n",
       "      <td>0</td>\n",
       "      <td>...</td>\n",
       "      <td>5.460000</td>\n",
       "      <td>5.460000</td>\n",
       "      <td>0.000000</td>\n",
       "      <td>0.000000</td>\n",
       "      <td>13.360000</td>\n",
       "      <td>0.000000</td>\n",
       "      <td>10.320000</td>\n",
       "      <td>0.000000</td>\n",
       "      <td>0.000000</td>\n",
       "      <td>10.280000</td>\n",
       "    </tr>\n",
       "    <tr>\n",
       "      <th>...</th>\n",
       "      <td>...</td>\n",
       "      <td>...</td>\n",
       "      <td>...</td>\n",
       "      <td>...</td>\n",
       "      <td>...</td>\n",
       "      <td>...</td>\n",
       "      <td>...</td>\n",
       "      <td>...</td>\n",
       "      <td>...</td>\n",
       "      <td>...</td>\n",
       "      <td>...</td>\n",
       "      <td>...</td>\n",
       "      <td>...</td>\n",
       "      <td>...</td>\n",
       "      <td>...</td>\n",
       "      <td>...</td>\n",
       "      <td>...</td>\n",
       "      <td>...</td>\n",
       "      <td>...</td>\n",
       "      <td>...</td>\n",
       "      <td>...</td>\n",
       "    </tr>\n",
       "    <tr>\n",
       "      <th>643685</th>\n",
       "      <td>1827860</td>\n",
       "      <td>2013</td>\n",
       "      <td>1</td>\n",
       "      <td>0</td>\n",
       "      <td>0</td>\n",
       "      <td>0</td>\n",
       "      <td>1</td>\n",
       "      <td>0</td>\n",
       "      <td>0</td>\n",
       "      <td>1</td>\n",
       "      <td>...</td>\n",
       "      <td>0.000000</td>\n",
       "      <td>0.000000</td>\n",
       "      <td>0.000000</td>\n",
       "      <td>0.000000</td>\n",
       "      <td>0.612903</td>\n",
       "      <td>0.000000</td>\n",
       "      <td>0.000000</td>\n",
       "      <td>0.000000</td>\n",
       "      <td>0.000000</td>\n",
       "      <td>0.000000</td>\n",
       "    </tr>\n",
       "    <tr>\n",
       "      <th>643686</th>\n",
       "      <td>1827860</td>\n",
       "      <td>2015</td>\n",
       "      <td>2</td>\n",
       "      <td>1</td>\n",
       "      <td>0</td>\n",
       "      <td>0</td>\n",
       "      <td>1</td>\n",
       "      <td>0</td>\n",
       "      <td>1</td>\n",
       "      <td>0</td>\n",
       "      <td>...</td>\n",
       "      <td>0.000000</td>\n",
       "      <td>0.000000</td>\n",
       "      <td>0.212121</td>\n",
       "      <td>0.212121</td>\n",
       "      <td>17.363636</td>\n",
       "      <td>0.000000</td>\n",
       "      <td>8.909091</td>\n",
       "      <td>0.000000</td>\n",
       "      <td>0.000000</td>\n",
       "      <td>7.121212</td>\n",
       "    </tr>\n",
       "    <tr>\n",
       "      <th>643687</th>\n",
       "      <td>1827860</td>\n",
       "      <td>2016</td>\n",
       "      <td>3</td>\n",
       "      <td>1</td>\n",
       "      <td>0</td>\n",
       "      <td>0</td>\n",
       "      <td>1</td>\n",
       "      <td>1</td>\n",
       "      <td>0</td>\n",
       "      <td>1</td>\n",
       "      <td>...</td>\n",
       "      <td>0.000000</td>\n",
       "      <td>0.000000</td>\n",
       "      <td>0.294118</td>\n",
       "      <td>0.205882</td>\n",
       "      <td>34.705882</td>\n",
       "      <td>0.000000</td>\n",
       "      <td>10.352941</td>\n",
       "      <td>1.705882</td>\n",
       "      <td>1.705882</td>\n",
       "      <td>23.911765</td>\n",
       "    </tr>\n",
       "    <tr>\n",
       "      <th>643688</th>\n",
       "      <td>1827869</td>\n",
       "      <td>2013</td>\n",
       "      <td>1</td>\n",
       "      <td>1</td>\n",
       "      <td>1</td>\n",
       "      <td>0</td>\n",
       "      <td>0</td>\n",
       "      <td>0</td>\n",
       "      <td>1</td>\n",
       "      <td>0</td>\n",
       "      <td>...</td>\n",
       "      <td>0.000000</td>\n",
       "      <td>0.000000</td>\n",
       "      <td>0.000000</td>\n",
       "      <td>0.000000</td>\n",
       "      <td>0.000000</td>\n",
       "      <td>0.525424</td>\n",
       "      <td>0.000000</td>\n",
       "      <td>0.000000</td>\n",
       "      <td>0.000000</td>\n",
       "      <td>0.000000</td>\n",
       "    </tr>\n",
       "    <tr>\n",
       "      <th>643689</th>\n",
       "      <td>1827869</td>\n",
       "      <td>2014</td>\n",
       "      <td>2</td>\n",
       "      <td>0</td>\n",
       "      <td>0</td>\n",
       "      <td>1</td>\n",
       "      <td>0</td>\n",
       "      <td>0</td>\n",
       "      <td>1</td>\n",
       "      <td>0</td>\n",
       "      <td>...</td>\n",
       "      <td>0.000000</td>\n",
       "      <td>0.666667</td>\n",
       "      <td>0.666667</td>\n",
       "      <td>0.000000</td>\n",
       "      <td>0.000000</td>\n",
       "      <td>8.950000</td>\n",
       "      <td>1.033333</td>\n",
       "      <td>0.083333</td>\n",
       "      <td>0.083333</td>\n",
       "      <td>8.133333</td>\n",
       "    </tr>\n",
       "  </tbody>\n",
       "</table>\n",
       "<p>643690 rows × 164 columns</p>\n",
       "</div>"
      ],
      "text/plain": [
       "         persnr  year  nrEntry  ltue  employed_before  receipt_leh_before  \\\n",
       "0             7  2015        1     0                1                   0   \n",
       "1            18  2010        1     1                0                   0   \n",
       "2            18  2011        2     0                1                   0   \n",
       "3            18  2012        3     0                1                   0   \n",
       "4            18  2012        4     0                1                   0   \n",
       "...         ...   ...      ...   ...              ...                 ...   \n",
       "643685  1827860  2013        1     0                0                   0   \n",
       "643686  1827860  2015        2     1                0                   0   \n",
       "643687  1827860  2016        3     1                0                   0   \n",
       "643688  1827869  2013        1     1                1                   0   \n",
       "643689  1827869  2014        2     0                0                   1   \n",
       "\n",
       "        receipt_lhg_before  se_before  ASU_notue_seeking_before  \\\n",
       "0                        0          0                         1   \n",
       "1                        0          0                         0   \n",
       "2                        1          0                         1   \n",
       "3                        1          0                         1   \n",
       "4                        1          0                         1   \n",
       "...                    ...        ...                       ...   \n",
       "643685                   1          0                         0   \n",
       "643686                   1          0                         1   \n",
       "643687                   1          1                         0   \n",
       "643688                   0          0                         1   \n",
       "643689                   0          0                         1   \n",
       "\n",
       "        ASU_other_before  ...  minijob_tot_dur_byage  ft_tot_dur_byage  \\\n",
       "0                      0  ...               0.000000          0.000000   \n",
       "1                      0  ...               0.000000          0.000000   \n",
       "2                      0  ...               2.714286          2.714286   \n",
       "3                      0  ...               4.200000          4.200000   \n",
       "4                      0  ...               5.460000          5.460000   \n",
       "...                  ...  ...                    ...               ...   \n",
       "643685                 1  ...               0.000000          0.000000   \n",
       "643686                 0  ...               0.000000          0.000000   \n",
       "643687                 1  ...               0.000000          0.000000   \n",
       "643688                 0  ...               0.000000          0.000000   \n",
       "643689                 0  ...               0.000000          0.666667   \n",
       "\n",
       "        befrist_tot_dur_byage  leih_tot_dur_byage  LHG_tot_dur_byage  \\\n",
       "0                   15.043478            0.000000           0.000000   \n",
       "1                    0.000000            0.000000           0.000000   \n",
       "2                    0.000000            0.000000          10.775510   \n",
       "3                    0.000000            0.000000          12.100000   \n",
       "4                    0.000000            0.000000          13.360000   \n",
       "...                       ...                 ...                ...   \n",
       "643685               0.000000            0.000000           0.612903   \n",
       "643686               0.212121            0.212121          17.363636   \n",
       "643687               0.294118            0.205882          34.705882   \n",
       "643688               0.000000            0.000000           0.000000   \n",
       "643689               0.666667            0.000000           0.000000   \n",
       "\n",
       "        LEH_tot_dur_byage  almp_tot_dur_byage  almp_aw_tot_dur_byage  \\\n",
       "0                0.000000            0.000000               0.000000   \n",
       "1                0.000000            0.000000               0.000000   \n",
       "2                0.000000            8.367347               0.000000   \n",
       "3                0.000000            9.400000               0.000000   \n",
       "4                0.000000           10.320000               0.000000   \n",
       "...                   ...                 ...                    ...   \n",
       "643685           0.000000            0.000000               0.000000   \n",
       "643686           0.000000            8.909091               0.000000   \n",
       "643687           0.000000           10.352941               1.705882   \n",
       "643688           0.525424            0.000000               0.000000   \n",
       "643689           8.950000            1.033333               0.083333   \n",
       "\n",
       "        se_tot_dur_byage  seeking1_tot_dur_byage  \n",
       "0               0.000000                0.000000  \n",
       "1               0.000000                0.000000  \n",
       "2               0.000000                9.836735  \n",
       "3               0.000000                9.960000  \n",
       "4               0.000000               10.280000  \n",
       "...                  ...                     ...  \n",
       "643685          0.000000                0.000000  \n",
       "643686          0.000000                7.121212  \n",
       "643687          1.705882               23.911765  \n",
       "643688          0.000000                0.000000  \n",
       "643689          0.083333                8.133333  \n",
       "\n",
       "[643690 rows x 164 columns]"
      ]
     },
     "execution_count": 10,
     "metadata": {},
     "output_type": "execute_result"
    }
   ],
   "source": [
    "siab"
   ]
  },
  {
   "cell_type": "markdown",
   "id": "1f87e805",
   "metadata": {
    "papermill": {
     "duration": 0.012158,
     "end_time": "2025-08-19T18:28:03.365269",
     "exception": false,
     "start_time": "2025-08-19T18:28:03.353111",
     "status": "completed"
    },
    "tags": []
   },
   "source": [
    "# Splitting Data and Setting Training Data Size"
   ]
  },
  {
   "cell_type": "code",
   "execution_count": 11,
   "id": "910ae358",
   "metadata": {
    "execution": {
     "iopub.execute_input": "2025-08-19T18:28:03.387066Z",
     "iopub.status.busy": "2025-08-19T18:28:03.386561Z",
     "iopub.status.idle": "2025-08-19T18:28:03.628706Z",
     "shell.execute_reply": "2025-08-19T18:28:03.627599Z"
    },
    "papermill": {
     "duration": 0.256523,
     "end_time": "2025-08-19T18:28:03.632353",
     "exception": false,
     "start_time": "2025-08-19T18:28:03.375830",
     "status": "completed"
    },
    "tags": []
   },
   "outputs": [],
   "source": [
    "from fairness_multiverse.universe import sample_by_year_size\n",
    "\n",
    "siab_train = sample_by_year_size(siab,\n",
    "                               training_year=universe[\"training_year\"],\n",
    "                               training_size=universe[\"training_size\"])"
   ]
  },
  {
   "cell_type": "code",
   "execution_count": 12,
   "id": "919c8ff5",
   "metadata": {
    "execution": {
     "iopub.execute_input": "2025-08-19T18:28:03.671379Z",
     "iopub.status.busy": "2025-08-19T18:28:03.670879Z",
     "iopub.status.idle": "2025-08-19T18:28:03.677306Z",
     "shell.execute_reply": "2025-08-19T18:28:03.676600Z"
    },
    "papermill": {
     "duration": 0.020062,
     "end_time": "2025-08-19T18:28:03.678684",
     "exception": false,
     "start_time": "2025-08-19T18:28:03.658622",
     "status": "completed"
    },
    "tags": []
   },
   "outputs": [
    {
     "data": {
      "text/plain": [
       "(5000, 164)"
      ]
     },
     "execution_count": 12,
     "metadata": {},
     "output_type": "execute_result"
    }
   ],
   "source": [
    "siab_train.shape"
   ]
  },
  {
   "cell_type": "code",
   "execution_count": 13,
   "id": "feb13bf4",
   "metadata": {
    "execution": {
     "iopub.execute_input": "2025-08-19T18:28:03.699799Z",
     "iopub.status.busy": "2025-08-19T18:28:03.699350Z",
     "iopub.status.idle": "2025-08-19T18:28:03.707890Z",
     "shell.execute_reply": "2025-08-19T18:28:03.707093Z"
    },
    "papermill": {
     "duration": 0.020831,
     "end_time": "2025-08-19T18:28:03.709563",
     "exception": false,
     "start_time": "2025-08-19T18:28:03.688732",
     "status": "completed"
    },
    "tags": []
   },
   "outputs": [
    {
     "data": {
      "text/plain": [
       "year\n",
       "2014    5000\n",
       "dtype: int64"
      ]
     },
     "metadata": {},
     "output_type": "display_data"
    }
   ],
   "source": [
    "display(siab_train.groupby(\"year\").size())"
   ]
  },
  {
   "cell_type": "code",
   "execution_count": 14,
   "id": "0997782f",
   "metadata": {
    "execution": {
     "iopub.execute_input": "2025-08-19T18:28:03.738779Z",
     "iopub.status.busy": "2025-08-19T18:28:03.738353Z",
     "iopub.status.idle": "2025-08-19T18:28:04.032937Z",
     "shell.execute_reply": "2025-08-19T18:28:04.032118Z"
    },
    "papermill": {
     "duration": 0.309964,
     "end_time": "2025-08-19T18:28:04.034494",
     "exception": false,
     "start_time": "2025-08-19T18:28:03.724530",
     "status": "completed"
    },
    "tags": []
   },
   "outputs": [],
   "source": [
    "#siab_train = siab_s[siab_s.year < 2015]\n",
    "siab_calib = siab[siab.year == 2015]\n",
    "siab_test = siab[siab.year == 2016]"
   ]
  },
  {
   "cell_type": "code",
   "execution_count": 15,
   "id": "2c1e4012",
   "metadata": {
    "execution": {
     "iopub.execute_input": "2025-08-19T18:28:04.060815Z",
     "iopub.status.busy": "2025-08-19T18:28:04.056892Z",
     "iopub.status.idle": "2025-08-19T18:28:04.064602Z",
     "shell.execute_reply": "2025-08-19T18:28:04.063980Z"
    },
    "papermill": {
     "duration": 0.028659,
     "end_time": "2025-08-19T18:28:04.074171",
     "exception": false,
     "start_time": "2025-08-19T18:28:04.045512",
     "status": "completed"
    },
    "tags": []
   },
   "outputs": [],
   "source": [
    "#siab_calib.shape"
   ]
  },
  {
   "cell_type": "code",
   "execution_count": 16,
   "id": "f66b54ca",
   "metadata": {
    "execution": {
     "iopub.execute_input": "2025-08-19T18:28:04.103733Z",
     "iopub.status.busy": "2025-08-19T18:28:04.103413Z",
     "iopub.status.idle": "2025-08-19T18:28:04.111599Z",
     "shell.execute_reply": "2025-08-19T18:28:04.110748Z"
    },
    "papermill": {
     "duration": 0.021828,
     "end_time": "2025-08-19T18:28:04.113090",
     "exception": false,
     "start_time": "2025-08-19T18:28:04.091262",
     "status": "completed"
    },
    "tags": []
   },
   "outputs": [],
   "source": [
    "#siab_test.shape"
   ]
  },
  {
   "cell_type": "code",
   "execution_count": 17,
   "id": "27e4384d",
   "metadata": {
    "execution": {
     "iopub.execute_input": "2025-08-19T18:28:04.135563Z",
     "iopub.status.busy": "2025-08-19T18:28:04.135056Z",
     "iopub.status.idle": "2025-08-19T18:28:04.149309Z",
     "shell.execute_reply": "2025-08-19T18:28:04.148512Z"
    },
    "papermill": {
     "duration": 0.027115,
     "end_time": "2025-08-19T18:28:04.150778",
     "exception": false,
     "start_time": "2025-08-19T18:28:04.123663",
     "status": "completed"
    },
    "tags": []
   },
   "outputs": [],
   "source": [
    "X_train = siab_train.iloc[:,4:164]\n",
    "y_train = siab_train.iloc[:, [3]]"
   ]
  },
  {
   "cell_type": "code",
   "execution_count": 18,
   "id": "08ee8389",
   "metadata": {
    "execution": {
     "iopub.execute_input": "2025-08-19T18:28:04.173955Z",
     "iopub.status.busy": "2025-08-19T18:28:04.173547Z",
     "iopub.status.idle": "2025-08-19T18:28:04.233902Z",
     "shell.execute_reply": "2025-08-19T18:28:04.233155Z"
    },
    "papermill": {
     "duration": 0.091523,
     "end_time": "2025-08-19T18:28:04.254274",
     "exception": false,
     "start_time": "2025-08-19T18:28:04.162751",
     "status": "completed"
    },
    "tags": []
   },
   "outputs": [],
   "source": [
    "X_calib = siab_calib.iloc[:,4:164]\n",
    "y_calib = siab_calib.iloc[:, [3]]"
   ]
  },
  {
   "cell_type": "code",
   "execution_count": 19,
   "id": "b7ff42e0",
   "metadata": {
    "execution": {
     "iopub.execute_input": "2025-08-19T18:28:04.311560Z",
     "iopub.status.busy": "2025-08-19T18:28:04.310536Z",
     "iopub.status.idle": "2025-08-19T18:28:04.374752Z",
     "shell.execute_reply": "2025-08-19T18:28:04.373979Z"
    },
    "papermill": {
     "duration": 0.093091,
     "end_time": "2025-08-19T18:28:04.376294",
     "exception": false,
     "start_time": "2025-08-19T18:28:04.283203",
     "status": "completed"
    },
    "tags": []
   },
   "outputs": [],
   "source": [
    "X_test = siab_test.iloc[:,4:164]\n",
    "y_true = siab_test.iloc[:, [3]]"
   ]
  },
  {
   "cell_type": "code",
   "execution_count": 20,
   "id": "0275101e",
   "metadata": {
    "execution": {
     "iopub.execute_input": "2025-08-19T18:28:04.405877Z",
     "iopub.status.busy": "2025-08-19T18:28:04.404985Z",
     "iopub.status.idle": "2025-08-19T18:28:04.581324Z",
     "shell.execute_reply": "2025-08-19T18:28:04.580512Z"
    },
    "papermill": {
     "duration": 0.189861,
     "end_time": "2025-08-19T18:28:04.583129",
     "exception": false,
     "start_time": "2025-08-19T18:28:04.393268",
     "status": "completed"
    },
    "tags": []
   },
   "outputs": [],
   "source": [
    "# Auxiliary data needed downstream in the pipeline\n",
    "\n",
    "org_train = X_train.copy()\n",
    "org_test = X_test.copy()\n",
    "org_calib = X_calib.copy()"
   ]
  },
  {
   "cell_type": "markdown",
   "id": "b461e618",
   "metadata": {
    "papermill": {
     "duration": 0.011087,
     "end_time": "2025-08-19T18:28:04.610589",
     "exception": false,
     "start_time": "2025-08-19T18:28:04.599502",
     "status": "completed"
    },
    "tags": []
   },
   "source": [
    "# Preprocessing Data"
   ]
  },
  {
   "cell_type": "code",
   "execution_count": 21,
   "id": "78e74c4b",
   "metadata": {
    "execution": {
     "iopub.execute_input": "2025-08-19T18:28:04.656210Z",
     "iopub.status.busy": "2025-08-19T18:28:04.654664Z",
     "iopub.status.idle": "2025-08-19T18:28:04.679295Z",
     "shell.execute_reply": "2025-08-19T18:28:04.677946Z"
    },
    "papermill": {
     "duration": 0.061783,
     "end_time": "2025-08-19T18:28:04.682446",
     "exception": false,
     "start_time": "2025-08-19T18:28:04.620663",
     "status": "completed"
    },
    "tags": []
   },
   "outputs": [],
   "source": [
    "# EXCLUDE PROTECTED FEATURES\n",
    "# --------------------------\n",
    "\n",
    "excluded_features = universe[\"exclude_features\"].split(\"-\")\n",
    "excluded_features_dictionary = {\n",
    "    \"nationality\": [\"maxdeutsch1\", \"maxdeutsch.Missing.\"],\n",
    "    \"sex\": [\"frau1\"],\n",
    "    \"age\": [\"age\"],\n",
    "}"
   ]
  },
  {
   "cell_type": "code",
   "execution_count": 22,
   "id": "f8e63555",
   "metadata": {
    "execution": {
     "iopub.execute_input": "2025-08-19T18:28:04.724434Z",
     "iopub.status.busy": "2025-08-19T18:28:04.723479Z",
     "iopub.status.idle": "2025-08-19T18:28:05.122078Z",
     "shell.execute_reply": "2025-08-19T18:28:05.121348Z"
    },
    "papermill": {
     "duration": 0.413111,
     "end_time": "2025-08-19T18:28:05.124965",
     "exception": false,
     "start_time": "2025-08-19T18:28:04.711854",
     "status": "completed"
    },
    "tags": []
   },
   "outputs": [],
   "source": [
    "excluded_features_columns = [\n",
    "    excluded_features_dictionary[f] for f in excluded_features if len(f) > 0 and f != \"none\"\n",
    "]"
   ]
  },
  {
   "cell_type": "code",
   "execution_count": 23,
   "id": "da781f7c",
   "metadata": {
    "execution": {
     "iopub.execute_input": "2025-08-19T18:28:05.164767Z",
     "iopub.status.busy": "2025-08-19T18:28:05.162884Z",
     "iopub.status.idle": "2025-08-19T18:28:05.171206Z",
     "shell.execute_reply": "2025-08-19T18:28:05.169862Z"
    },
    "papermill": {
     "duration": 0.024178,
     "end_time": "2025-08-19T18:28:05.172606",
     "exception": false,
     "start_time": "2025-08-19T18:28:05.148428",
     "status": "completed"
    },
    "tags": []
   },
   "outputs": [],
   "source": [
    "from fairness_multiverse.universe import flatten_once\n",
    "\n",
    "excluded_features_columns = flatten_once(excluded_features_columns)"
   ]
  },
  {
   "cell_type": "code",
   "execution_count": 24,
   "id": "37fef0f0",
   "metadata": {
    "execution": {
     "iopub.execute_input": "2025-08-19T18:28:05.198404Z",
     "iopub.status.busy": "2025-08-19T18:28:05.197958Z",
     "iopub.status.idle": "2025-08-19T18:28:05.210243Z",
     "shell.execute_reply": "2025-08-19T18:28:05.209484Z"
    },
    "papermill": {
     "duration": 0.025715,
     "end_time": "2025-08-19T18:28:05.211946",
     "exception": false,
     "start_time": "2025-08-19T18:28:05.186231",
     "status": "completed"
    },
    "tags": []
   },
   "outputs": [
    {
     "name": "stdout",
     "output_type": "stream",
     "text": [
      "Dropping features: ['frau1']\n"
     ]
    }
   ],
   "source": [
    "if len(excluded_features_columns) > 0:\n",
    "    print(f\"Dropping features: {excluded_features_columns}\")\n",
    "    X_train.drop(excluded_features_columns, axis=1, inplace=True)"
   ]
  },
  {
   "cell_type": "code",
   "execution_count": 25,
   "id": "d029e3e9",
   "metadata": {
    "execution": {
     "iopub.execute_input": "2025-08-19T18:28:05.240752Z",
     "iopub.status.busy": "2025-08-19T18:28:05.240228Z",
     "iopub.status.idle": "2025-08-19T18:28:05.310049Z",
     "shell.execute_reply": "2025-08-19T18:28:05.309294Z"
    },
    "papermill": {
     "duration": 0.084579,
     "end_time": "2025-08-19T18:28:05.312346",
     "exception": false,
     "start_time": "2025-08-19T18:28:05.227767",
     "status": "completed"
    },
    "tags": []
   },
   "outputs": [
    {
     "name": "stdout",
     "output_type": "stream",
     "text": [
      "Dropping features: ['frau1']\n"
     ]
    }
   ],
   "source": [
    "if len(excluded_features_columns) > 0:\n",
    "    print(f\"Dropping features: {excluded_features_columns}\")\n",
    "    X_test.drop(excluded_features_columns, axis=1, inplace=True)"
   ]
  },
  {
   "cell_type": "code",
   "execution_count": 26,
   "id": "01d571f0",
   "metadata": {
    "execution": {
     "iopub.execute_input": "2025-08-19T18:28:05.343517Z",
     "iopub.status.busy": "2025-08-19T18:28:05.343043Z",
     "iopub.status.idle": "2025-08-19T18:28:05.395800Z",
     "shell.execute_reply": "2025-08-19T18:28:05.394696Z"
    },
    "papermill": {
     "duration": 0.066569,
     "end_time": "2025-08-19T18:28:05.397254",
     "exception": false,
     "start_time": "2025-08-19T18:28:05.330685",
     "status": "completed"
    },
    "tags": []
   },
   "outputs": [
    {
     "name": "stdout",
     "output_type": "stream",
     "text": [
      "Dropping features: ['frau1']\n"
     ]
    }
   ],
   "source": [
    "if len(excluded_features_columns) > 0:\n",
    "    print(f\"Dropping features: {excluded_features_columns}\")\n",
    "    X_calib.drop(excluded_features_columns, axis=1, inplace=True)"
   ]
  },
  {
   "cell_type": "code",
   "execution_count": 27,
   "id": "3037356e",
   "metadata": {
    "execution": {
     "iopub.execute_input": "2025-08-19T18:28:05.440226Z",
     "iopub.status.busy": "2025-08-19T18:28:05.439078Z",
     "iopub.status.idle": "2025-08-19T18:28:05.449138Z",
     "shell.execute_reply": "2025-08-19T18:28:05.447483Z"
    },
    "papermill": {
     "duration": 0.041748,
     "end_time": "2025-08-19T18:28:05.450719",
     "exception": false,
     "start_time": "2025-08-19T18:28:05.408971",
     "status": "completed"
    },
    "tags": []
   },
   "outputs": [],
   "source": [
    "# EXCLUDE CERTAIN SUBGROUPS\n",
    "# -------------------------\n",
    "\n",
    "mode = universe.get(\"exclude_subgroups\", \"keep-all\") # Defaults to \"keep-all\" if the key is missing."
   ]
  },
  {
   "cell_type": "code",
   "execution_count": 28,
   "id": "9d1e63fd",
   "metadata": {
    "execution": {
     "iopub.execute_input": "2025-08-19T18:28:05.492198Z",
     "iopub.status.busy": "2025-08-19T18:28:05.491337Z",
     "iopub.status.idle": "2025-08-19T18:28:05.499616Z",
     "shell.execute_reply": "2025-08-19T18:28:05.498859Z"
    },
    "papermill": {
     "duration": 0.035788,
     "end_time": "2025-08-19T18:28:05.501219",
     "exception": false,
     "start_time": "2025-08-19T18:28:05.465431",
     "status": "completed"
    },
    "tags": []
   },
   "outputs": [],
   "source": [
    "if mode == \"keep-all\":\n",
    "    keep_mask = pd.Series(True, index=org_train.index)\n",
    "\n",
    "elif mode == \"drop-non-german\":\n",
    "    keep_mask = (org_train[\"maxdeutsch1\"] == 1) & (org_train[\"maxdeutsch.Missing.\"] == 0)\n",
    "\n",
    "else:\n",
    "    raise ValueError(f\"Unsupported mode for exclude_subgroups: {mode}\")"
   ]
  },
  {
   "cell_type": "code",
   "execution_count": 29,
   "id": "d3b65474",
   "metadata": {
    "execution": {
     "iopub.execute_input": "2025-08-19T18:28:05.534203Z",
     "iopub.status.busy": "2025-08-19T18:28:05.533180Z",
     "iopub.status.idle": "2025-08-19T18:28:05.545456Z",
     "shell.execute_reply": "2025-08-19T18:28:05.543876Z"
    },
    "papermill": {
     "duration": 0.030456,
     "end_time": "2025-08-19T18:28:05.550370",
     "exception": false,
     "start_time": "2025-08-19T18:28:05.519914",
     "status": "completed"
    },
    "tags": []
   },
   "outputs": [
    {
     "name": "stdout",
     "output_type": "stream",
     "text": [
      "Dropping 741 rows (14.82%) where mode='drop-non-german'\n"
     ]
    }
   ],
   "source": [
    "n_drop = (~keep_mask).sum() # Calculates how many rows are set to be dropped\n",
    "if n_drop > 0:\n",
    "    pct = n_drop / len(keep_mask) * 100\n",
    "    print(f\"Dropping {n_drop} rows ({pct:.2f}%) where mode='{mode}'\")"
   ]
  },
  {
   "cell_type": "code",
   "execution_count": 30,
   "id": "f44389b3",
   "metadata": {
    "execution": {
     "iopub.execute_input": "2025-08-19T18:28:05.593064Z",
     "iopub.status.busy": "2025-08-19T18:28:05.592603Z",
     "iopub.status.idle": "2025-08-19T18:28:05.601152Z",
     "shell.execute_reply": "2025-08-19T18:28:05.600332Z"
    },
    "papermill": {
     "duration": 0.025048,
     "end_time": "2025-08-19T18:28:05.602897",
     "exception": false,
     "start_time": "2025-08-19T18:28:05.577849",
     "status": "completed"
    },
    "tags": []
   },
   "outputs": [],
   "source": [
    "X_train = X_train[keep_mask]"
   ]
  },
  {
   "cell_type": "code",
   "execution_count": 31,
   "id": "ceca8c2a",
   "metadata": {
    "execution": {
     "iopub.execute_input": "2025-08-19T18:28:05.630635Z",
     "iopub.status.busy": "2025-08-19T18:28:05.630225Z",
     "iopub.status.idle": "2025-08-19T18:28:05.634965Z",
     "shell.execute_reply": "2025-08-19T18:28:05.634384Z"
    },
    "papermill": {
     "duration": 0.021759,
     "end_time": "2025-08-19T18:28:05.637074",
     "exception": false,
     "start_time": "2025-08-19T18:28:05.615315",
     "status": "completed"
    },
    "tags": []
   },
   "outputs": [],
   "source": [
    "y_train = y_train[keep_mask]"
   ]
  },
  {
   "cell_type": "markdown",
   "id": "04d31e2f",
   "metadata": {
    "papermill": {
     "duration": 0.010617,
     "end_time": "2025-08-19T18:28:05.664873",
     "exception": false,
     "start_time": "2025-08-19T18:28:05.654256",
     "status": "completed"
    },
    "tags": []
   },
   "source": [
    "# Model Training"
   ]
  },
  {
   "cell_type": "code",
   "execution_count": 32,
   "id": "db991733",
   "metadata": {
    "execution": {
     "iopub.execute_input": "2025-08-19T18:28:05.687400Z",
     "iopub.status.busy": "2025-08-19T18:28:05.686928Z",
     "iopub.status.idle": "2025-08-19T18:28:05.787945Z",
     "shell.execute_reply": "2025-08-19T18:28:05.787201Z"
    },
    "papermill": {
     "duration": 0.114072,
     "end_time": "2025-08-19T18:28:05.789481",
     "exception": false,
     "start_time": "2025-08-19T18:28:05.675409",
     "status": "completed"
    },
    "tags": []
   },
   "outputs": [],
   "source": [
    "from sklearn.linear_model import LogisticRegression\n",
    "from sklearn.ensemble import GradientBoostingClassifier, RandomForestClassifier\n",
    "\n",
    "if (universe[\"model\"] == \"logreg\"):\n",
    "    model = LogisticRegression() #penalty=\"none\", solver=\"newton-cg\", max_iter=1)\n",
    "elif (universe[\"model\"] == \"penalized_logreg\"):\n",
    "    model = LogisticRegression(penalty=\"l2\", C=0.1) #, solver=\"newton-cg\", max_iter=1)\n",
    "elif (universe[\"model\"] == \"rf\"):\n",
    "    model = RandomForestClassifier() # n_estimators=100, n_jobs=-1\n",
    "elif (universe[\"model\"] == \"gbm\"):\n",
    "    model = GradientBoostingClassifier()\n",
    "elif (universe[\"model\"] == \"elasticnet\"):\n",
    "    model = LogisticRegression(penalty = 'elasticnet', solver = 'saga', l1_ratio = 0.5) # max_iter=5000\n",
    "else:\n",
    "    raise \"Unsupported universe.model\""
   ]
  },
  {
   "cell_type": "code",
   "execution_count": 33,
   "id": "a4b5cd25",
   "metadata": {
    "execution": {
     "iopub.execute_input": "2025-08-19T18:28:05.814818Z",
     "iopub.status.busy": "2025-08-19T18:28:05.814371Z",
     "iopub.status.idle": "2025-08-19T18:28:05.819318Z",
     "shell.execute_reply": "2025-08-19T18:28:05.818704Z"
    },
    "papermill": {
     "duration": 0.017848,
     "end_time": "2025-08-19T18:28:05.820707",
     "exception": false,
     "start_time": "2025-08-19T18:28:05.802859",
     "status": "completed"
    },
    "tags": []
   },
   "outputs": [],
   "source": [
    "from sklearn.pipeline import Pipeline\n",
    "from sklearn.preprocessing import StandardScaler\n",
    "\n",
    "model = Pipeline([\n",
    "    #(\"continuous_processor\", continuous_processor),\n",
    "    #(\"categorical_preprocessor\", categorical_preprocessor),\n",
    "    (\"scale\", StandardScaler() if universe[\"scale\"] == \"scale\" else None), \n",
    "    (\"model\", model),\n",
    "])"
   ]
  },
  {
   "cell_type": "code",
   "execution_count": 34,
   "id": "283a904d",
   "metadata": {
    "execution": {
     "iopub.execute_input": "2025-08-19T18:28:05.843452Z",
     "iopub.status.busy": "2025-08-19T18:28:05.843010Z",
     "iopub.status.idle": "2025-08-19T18:28:05.979998Z",
     "shell.execute_reply": "2025-08-19T18:28:05.979355Z"
    },
    "papermill": {
     "duration": 0.149567,
     "end_time": "2025-08-19T18:28:05.981086",
     "exception": false,
     "start_time": "2025-08-19T18:28:05.831519",
     "status": "completed"
    },
    "tags": []
   },
   "outputs": [
    {
     "name": "stderr",
     "output_type": "stream",
     "text": [
      "/dss/dsshome1/0C/ra93lal2/.local/share/virtualenvs/CMA_Fairness_v2-3j10GkSs/lib/python3.10/site-packages/sklearn/linear_model/_logistic.py:444: ConvergenceWarning: lbfgs failed to converge (status=1):\n",
      "STOP: TOTAL NO. of ITERATIONS REACHED LIMIT.\n",
      "\n",
      "Increase the number of iterations (max_iter) or scale the data as shown in:\n",
      "    https://scikit-learn.org/stable/modules/preprocessing.html\n",
      "Please also refer to the documentation for alternative solver options:\n",
      "    https://scikit-learn.org/stable/modules/linear_model.html#logistic-regression\n",
      "  n_iter_i = _check_optimize_result(\n"
     ]
    },
    {
     "data": {
      "text/html": [
       "<style>#sk-container-id-1 {color: black;background-color: white;}#sk-container-id-1 pre{padding: 0;}#sk-container-id-1 div.sk-toggleable {background-color: white;}#sk-container-id-1 label.sk-toggleable__label {cursor: pointer;display: block;width: 100%;margin-bottom: 0;padding: 0.3em;box-sizing: border-box;text-align: center;}#sk-container-id-1 label.sk-toggleable__label-arrow:before {content: \"▸\";float: left;margin-right: 0.25em;color: #696969;}#sk-container-id-1 label.sk-toggleable__label-arrow:hover:before {color: black;}#sk-container-id-1 div.sk-estimator:hover label.sk-toggleable__label-arrow:before {color: black;}#sk-container-id-1 div.sk-toggleable__content {max-height: 0;max-width: 0;overflow: hidden;text-align: left;background-color: #f0f8ff;}#sk-container-id-1 div.sk-toggleable__content pre {margin: 0.2em;color: black;border-radius: 0.25em;background-color: #f0f8ff;}#sk-container-id-1 input.sk-toggleable__control:checked~div.sk-toggleable__content {max-height: 200px;max-width: 100%;overflow: auto;}#sk-container-id-1 input.sk-toggleable__control:checked~label.sk-toggleable__label-arrow:before {content: \"▾\";}#sk-container-id-1 div.sk-estimator input.sk-toggleable__control:checked~label.sk-toggleable__label {background-color: #d4ebff;}#sk-container-id-1 div.sk-label input.sk-toggleable__control:checked~label.sk-toggleable__label {background-color: #d4ebff;}#sk-container-id-1 input.sk-hidden--visually {border: 0;clip: rect(1px 1px 1px 1px);clip: rect(1px, 1px, 1px, 1px);height: 1px;margin: -1px;overflow: hidden;padding: 0;position: absolute;width: 1px;}#sk-container-id-1 div.sk-estimator {font-family: monospace;background-color: #f0f8ff;border: 1px dotted black;border-radius: 0.25em;box-sizing: border-box;margin-bottom: 0.5em;}#sk-container-id-1 div.sk-estimator:hover {background-color: #d4ebff;}#sk-container-id-1 div.sk-parallel-item::after {content: \"\";width: 100%;border-bottom: 1px solid gray;flex-grow: 1;}#sk-container-id-1 div.sk-label:hover label.sk-toggleable__label {background-color: #d4ebff;}#sk-container-id-1 div.sk-serial::before {content: \"\";position: absolute;border-left: 1px solid gray;box-sizing: border-box;top: 0;bottom: 0;left: 50%;z-index: 0;}#sk-container-id-1 div.sk-serial {display: flex;flex-direction: column;align-items: center;background-color: white;padding-right: 0.2em;padding-left: 0.2em;position: relative;}#sk-container-id-1 div.sk-item {position: relative;z-index: 1;}#sk-container-id-1 div.sk-parallel {display: flex;align-items: stretch;justify-content: center;background-color: white;position: relative;}#sk-container-id-1 div.sk-item::before, #sk-container-id-1 div.sk-parallel-item::before {content: \"\";position: absolute;border-left: 1px solid gray;box-sizing: border-box;top: 0;bottom: 0;left: 50%;z-index: -1;}#sk-container-id-1 div.sk-parallel-item {display: flex;flex-direction: column;z-index: 1;position: relative;background-color: white;}#sk-container-id-1 div.sk-parallel-item:first-child::after {align-self: flex-end;width: 50%;}#sk-container-id-1 div.sk-parallel-item:last-child::after {align-self: flex-start;width: 50%;}#sk-container-id-1 div.sk-parallel-item:only-child::after {width: 0;}#sk-container-id-1 div.sk-dashed-wrapped {border: 1px dashed gray;margin: 0 0.4em 0.5em 0.4em;box-sizing: border-box;padding-bottom: 0.4em;background-color: white;}#sk-container-id-1 div.sk-label label {font-family: monospace;font-weight: bold;display: inline-block;line-height: 1.2em;}#sk-container-id-1 div.sk-label-container {text-align: center;}#sk-container-id-1 div.sk-container {/* jupyter's `normalize.less` sets `[hidden] { display: none; }` but bootstrap.min.css set `[hidden] { display: none !important; }` so we also need the `!important` here to be able to override the default hidden behavior on the sphinx rendered scikit-learn.org. See: https://github.com/scikit-learn/scikit-learn/issues/21755 */display: inline-block !important;position: relative;}#sk-container-id-1 div.sk-text-repr-fallback {display: none;}</style><div id=\"sk-container-id-1\" class=\"sk-top-container\"><div class=\"sk-text-repr-fallback\"><pre>Pipeline(steps=[(&#x27;scale&#x27;, None), (&#x27;model&#x27;, LogisticRegression(C=0.1))])</pre><b>In a Jupyter environment, please rerun this cell to show the HTML representation or trust the notebook. <br />On GitHub, the HTML representation is unable to render, please try loading this page with nbviewer.org.</b></div><div class=\"sk-container\" hidden><div class=\"sk-item sk-dashed-wrapped\"><div class=\"sk-label-container\"><div class=\"sk-label sk-toggleable\"><input class=\"sk-toggleable__control sk-hidden--visually\" id=\"sk-estimator-id-1\" type=\"checkbox\" ><label for=\"sk-estimator-id-1\" class=\"sk-toggleable__label sk-toggleable__label-arrow\">Pipeline</label><div class=\"sk-toggleable__content\"><pre>Pipeline(steps=[(&#x27;scale&#x27;, None), (&#x27;model&#x27;, LogisticRegression(C=0.1))])</pre></div></div></div><div class=\"sk-serial\"><div class=\"sk-item\"><div class=\"sk-estimator sk-toggleable\"><input class=\"sk-toggleable__control sk-hidden--visually\" id=\"sk-estimator-id-2\" type=\"checkbox\" ><label for=\"sk-estimator-id-2\" class=\"sk-toggleable__label sk-toggleable__label-arrow\">None</label><div class=\"sk-toggleable__content\"><pre>None</pre></div></div></div><div class=\"sk-item\"><div class=\"sk-estimator sk-toggleable\"><input class=\"sk-toggleable__control sk-hidden--visually\" id=\"sk-estimator-id-3\" type=\"checkbox\" ><label for=\"sk-estimator-id-3\" class=\"sk-toggleable__label sk-toggleable__label-arrow\">LogisticRegression</label><div class=\"sk-toggleable__content\"><pre>LogisticRegression(C=0.1)</pre></div></div></div></div></div></div></div>"
      ],
      "text/plain": [
       "Pipeline(steps=[('scale', None), ('model', LogisticRegression(C=0.1))])"
      ]
     },
     "execution_count": 34,
     "metadata": {},
     "output_type": "execute_result"
    }
   ],
   "source": [
    "model.fit(X_train, y_train.values.ravel())"
   ]
  },
  {
   "cell_type": "code",
   "execution_count": 35,
   "id": "6e15e313",
   "metadata": {
    "execution": {
     "iopub.execute_input": "2025-08-19T18:28:06.010797Z",
     "iopub.status.busy": "2025-08-19T18:28:06.010308Z",
     "iopub.status.idle": "2025-08-19T18:28:06.142307Z",
     "shell.execute_reply": "2025-08-19T18:28:06.141244Z"
    },
    "papermill": {
     "duration": 0.151727,
     "end_time": "2025-08-19T18:28:06.146468",
     "exception": false,
     "start_time": "2025-08-19T18:28:05.994741",
     "status": "completed"
    },
    "tags": []
   },
   "outputs": [
    {
     "data": {
      "text/plain": [
       "0.86002675287036"
      ]
     },
     "execution_count": 35,
     "metadata": {},
     "output_type": "execute_result"
    }
   ],
   "source": [
    "from fairness_multiverse.universe import predict_w_threshold\n",
    "\n",
    "probs_test = model.predict_proba(X_test)\n",
    "\n",
    "'''\n",
    "Below code returns a boolean array (or binary 0/1 array depending on how it’s used) where each element \n",
    "is True if the probability of class 1 is greater than or equal to the threshold, and False otherwise.\n",
    "'''\n",
    "y_pred_default = predict_w_threshold(probs_test, 0.5)\n",
    "\n",
    "from sklearn.metrics import accuracy_score\n",
    "\n",
    "# Naive prediction\n",
    "accuracy_score(y_true = y_true, y_pred = y_pred_default)"
   ]
  },
  {
   "cell_type": "code",
   "execution_count": 36,
   "id": "6f14067c",
   "metadata": {
    "execution": {
     "iopub.execute_input": "2025-08-19T18:28:06.189710Z",
     "iopub.status.busy": "2025-08-19T18:28:06.188643Z",
     "iopub.status.idle": "2025-08-19T18:28:06.281665Z",
     "shell.execute_reply": "2025-08-19T18:28:06.280630Z"
    },
    "papermill": {
     "duration": 0.109453,
     "end_time": "2025-08-19T18:28:06.283495",
     "exception": false,
     "start_time": "2025-08-19T18:28:06.174042",
     "status": "completed"
    },
    "tags": []
   },
   "outputs": [
    {
     "data": {
      "text/plain": [
       "array([0, 0, 0, ..., 0, 0, 0])"
      ]
     },
     "execution_count": 36,
     "metadata": {},
     "output_type": "execute_result"
    }
   ],
   "source": [
    "model.predict(X_test)"
   ]
  },
  {
   "cell_type": "markdown",
   "id": "3759920c",
   "metadata": {
    "papermill": {
     "duration": 0.011265,
     "end_time": "2025-08-19T18:28:06.307262",
     "exception": false,
     "start_time": "2025-08-19T18:28:06.295997",
     "status": "completed"
    },
    "tags": []
   },
   "source": [
    "# Conformal Prediction"
   ]
  },
  {
   "cell_type": "code",
   "execution_count": 37,
   "id": "14b27f59",
   "metadata": {
    "execution": {
     "iopub.execute_input": "2025-08-19T18:28:06.351506Z",
     "iopub.status.busy": "2025-08-19T18:28:06.350538Z",
     "iopub.status.idle": "2025-08-19T18:28:06.361451Z",
     "shell.execute_reply": "2025-08-19T18:28:06.359830Z"
    },
    "papermill": {
     "duration": 0.038054,
     "end_time": "2025-08-19T18:28:06.363983",
     "exception": false,
     "start_time": "2025-08-19T18:28:06.325929",
     "status": "completed"
    },
    "tags": []
   },
   "outputs": [],
   "source": [
    "# Miscoverage level for conformal prediction (10% allowed error rate => 90% target coverage)\n",
    "alpha = 0.1"
   ]
  },
  {
   "cell_type": "code",
   "execution_count": 38,
   "id": "59102472",
   "metadata": {
    "execution": {
     "iopub.execute_input": "2025-08-19T18:28:06.415720Z",
     "iopub.status.busy": "2025-08-19T18:28:06.414476Z",
     "iopub.status.idle": "2025-08-19T18:28:06.506658Z",
     "shell.execute_reply": "2025-08-19T18:28:06.505988Z"
    },
    "papermill": {
     "duration": 0.120078,
     "end_time": "2025-08-19T18:28:06.508466",
     "exception": false,
     "start_time": "2025-08-19T18:28:06.388388",
     "status": "completed"
    },
    "tags": []
   },
   "outputs": [],
   "source": [
    "probs_calib = model.predict_proba(X_calib)"
   ]
  },
  {
   "cell_type": "code",
   "execution_count": 39,
   "id": "a792d4dd",
   "metadata": {
    "execution": {
     "iopub.execute_input": "2025-08-19T18:28:06.545442Z",
     "iopub.status.busy": "2025-08-19T18:28:06.544218Z",
     "iopub.status.idle": "2025-08-19T18:28:06.554309Z",
     "shell.execute_reply": "2025-08-19T18:28:06.552031Z"
    },
    "papermill": {
     "duration": 0.029003,
     "end_time": "2025-08-19T18:28:06.555893",
     "exception": false,
     "start_time": "2025-08-19T18:28:06.526890",
     "status": "completed"
    },
    "tags": []
   },
   "outputs": [],
   "source": [
    "y_calib = y_calib.values.ravel().astype(int)"
   ]
  },
  {
   "cell_type": "code",
   "execution_count": 40,
   "id": "650fd033",
   "metadata": {
    "execution": {
     "iopub.execute_input": "2025-08-19T18:28:06.617888Z",
     "iopub.status.busy": "2025-08-19T18:28:06.616903Z",
     "iopub.status.idle": "2025-08-19T18:28:06.624829Z",
     "shell.execute_reply": "2025-08-19T18:28:06.624038Z"
    },
    "papermill": {
     "duration": 0.03942,
     "end_time": "2025-08-19T18:28:06.627179",
     "exception": false,
     "start_time": "2025-08-19T18:28:06.587759",
     "status": "completed"
    },
    "tags": []
   },
   "outputs": [],
   "source": [
    "from fairness_multiverse.conformal import compute_nc_scores\n",
    "\n",
    "# Compute nonconformity scores on calibration set (1 - probability of true class)\n",
    "nc_scores = compute_nc_scores(probs_calib, y_calib)"
   ]
  },
  {
   "cell_type": "code",
   "execution_count": 41,
   "id": "28ada44c",
   "metadata": {
    "execution": {
     "iopub.execute_input": "2025-08-19T18:28:06.677161Z",
     "iopub.status.busy": "2025-08-19T18:28:06.675901Z",
     "iopub.status.idle": "2025-08-19T18:28:06.687303Z",
     "shell.execute_reply": "2025-08-19T18:28:06.685893Z"
    },
    "papermill": {
     "duration": 0.030874,
     "end_time": "2025-08-19T18:28:06.693011",
     "exception": false,
     "start_time": "2025-08-19T18:28:06.662137",
     "status": "completed"
    },
    "tags": []
   },
   "outputs": [],
   "source": [
    "from fairness_multiverse.conformal import find_threshold\n",
    "\n",
    "# Find conformal threshold q_hat for the given alpha (split conformal method)\n",
    "q_hat = find_threshold(nc_scores, alpha)"
   ]
  },
  {
   "cell_type": "code",
   "execution_count": 42,
   "id": "df56469e",
   "metadata": {
    "execution": {
     "iopub.execute_input": "2025-08-19T18:28:06.719599Z",
     "iopub.status.busy": "2025-08-19T18:28:06.718330Z",
     "iopub.status.idle": "2025-08-19T18:28:06.731078Z",
     "shell.execute_reply": "2025-08-19T18:28:06.729861Z"
    },
    "papermill": {
     "duration": 0.027455,
     "end_time": "2025-08-19T18:28:06.732649",
     "exception": false,
     "start_time": "2025-08-19T18:28:06.705194",
     "status": "completed"
    },
    "tags": []
   },
   "outputs": [
    {
     "data": {
      "text/plain": [
       "0.6652259531441638"
      ]
     },
     "execution_count": 42,
     "metadata": {},
     "output_type": "execute_result"
    }
   ],
   "source": [
    "q_hat"
   ]
  },
  {
   "cell_type": "code",
   "execution_count": 43,
   "id": "aa1f5faa",
   "metadata": {
    "execution": {
     "iopub.execute_input": "2025-08-19T18:28:06.779043Z",
     "iopub.status.busy": "2025-08-19T18:28:06.777840Z",
     "iopub.status.idle": "2025-08-19T18:28:07.364595Z",
     "shell.execute_reply": "2025-08-19T18:28:07.363694Z"
    },
    "papermill": {
     "duration": 0.618407,
     "end_time": "2025-08-19T18:28:07.367211",
     "exception": false,
     "start_time": "2025-08-19T18:28:06.748804",
     "status": "completed"
    },
    "tags": []
   },
   "outputs": [],
   "source": [
    "from fairness_multiverse.conformal import predict_conformal_sets\n",
    "\n",
    "# Generate prediction sets for each test example\n",
    "pred_sets = predict_conformal_sets(model, X_test, q_hat)"
   ]
  },
  {
   "cell_type": "code",
   "execution_count": 44,
   "id": "97f67a6b",
   "metadata": {
    "execution": {
     "iopub.execute_input": "2025-08-19T18:28:07.402836Z",
     "iopub.status.busy": "2025-08-19T18:28:07.401708Z",
     "iopub.status.idle": "2025-08-19T18:28:07.424210Z",
     "shell.execute_reply": "2025-08-19T18:28:07.422958Z"
    },
    "papermill": {
     "duration": 0.039493,
     "end_time": "2025-08-19T18:28:07.425904",
     "exception": false,
     "start_time": "2025-08-19T18:28:07.386411",
     "status": "completed"
    },
    "tags": []
   },
   "outputs": [],
   "source": [
    "y_true = y_true.squeeze()"
   ]
  },
  {
   "cell_type": "code",
   "execution_count": 45,
   "id": "e700e9a7",
   "metadata": {
    "execution": {
     "iopub.execute_input": "2025-08-19T18:28:07.461755Z",
     "iopub.status.busy": "2025-08-19T18:28:07.461354Z",
     "iopub.status.idle": "2025-08-19T18:28:07.963402Z",
     "shell.execute_reply": "2025-08-19T18:28:07.962075Z"
    },
    "papermill": {
     "duration": 0.52853,
     "end_time": "2025-08-19T18:28:07.967631",
     "exception": false,
     "start_time": "2025-08-19T18:28:07.439101",
     "status": "completed"
    },
    "tags": []
   },
   "outputs": [],
   "source": [
    "from fairness_multiverse.conformal import evaluate_sets\n",
    "\n",
    "# Evaluate coverage and average set size on test data\n",
    "metrics = evaluate_sets(pred_sets, y_true)"
   ]
  },
  {
   "cell_type": "markdown",
   "id": "efbacec0",
   "metadata": {
    "papermill": {
     "duration": 0.012009,
     "end_time": "2025-08-19T18:28:08.004332",
     "exception": false,
     "start_time": "2025-08-19T18:28:07.992323",
     "status": "completed"
    },
    "tags": []
   },
   "source": [
    "# CP Metrics"
   ]
  },
  {
   "cell_type": "code",
   "execution_count": 46,
   "id": "9de55fb1",
   "metadata": {
    "execution": {
     "iopub.execute_input": "2025-08-19T18:28:08.031275Z",
     "iopub.status.busy": "2025-08-19T18:28:08.030868Z",
     "iopub.status.idle": "2025-08-19T18:28:08.038566Z",
     "shell.execute_reply": "2025-08-19T18:28:08.037776Z"
    },
    "papermill": {
     "duration": 0.023224,
     "end_time": "2025-08-19T18:28:08.039738",
     "exception": false,
     "start_time": "2025-08-19T18:28:08.016514",
     "status": "completed"
    },
    "tags": []
   },
   "outputs": [
    {
     "data": {
      "text/plain": [
       "{'coverage': 0.9113588228737042, 'avg_size': 1.2133652881507078}"
      ]
     },
     "execution_count": 46,
     "metadata": {},
     "output_type": "execute_result"
    }
   ],
   "source": [
    "metrics"
   ]
  },
  {
   "cell_type": "code",
   "execution_count": 47,
   "id": "64c340a1",
   "metadata": {
    "execution": {
     "iopub.execute_input": "2025-08-19T18:28:08.065946Z",
     "iopub.status.busy": "2025-08-19T18:28:08.065466Z",
     "iopub.status.idle": "2025-08-19T18:28:08.070848Z",
     "shell.execute_reply": "2025-08-19T18:28:08.070187Z"
    },
    "papermill": {
     "duration": 0.02025,
     "end_time": "2025-08-19T18:28:08.072047",
     "exception": false,
     "start_time": "2025-08-19T18:28:08.051797",
     "status": "completed"
    },
    "tags": []
   },
   "outputs": [],
   "source": [
    "example_universe = universe.copy()\n",
    "universe_training_year = example_universe.get(\"training_year\")\n",
    "universe_training_size = example_universe.get(\"training_size\")\n",
    "universe_scale = example_universe.get(\"scale\")\n",
    "universe_model = example_universe.get(\"model\")\n",
    "universe_exclude_features = example_universe.get(\"exclude_features\")\n",
    "universe_exclude_subgroups = example_universe.get(\"exclude_subgroups\")"
   ]
  },
  {
   "cell_type": "code",
   "execution_count": 48,
   "id": "dbb53cb4",
   "metadata": {
    "execution": {
     "iopub.execute_input": "2025-08-19T18:28:08.129444Z",
     "iopub.status.busy": "2025-08-19T18:28:08.127852Z",
     "iopub.status.idle": "2025-08-19T18:28:08.136850Z",
     "shell.execute_reply": "2025-08-19T18:28:08.135855Z"
    },
    "papermill": {
     "duration": 0.041236,
     "end_time": "2025-08-19T18:28:08.138781",
     "exception": false,
     "start_time": "2025-08-19T18:28:08.097545",
     "status": "completed"
    },
    "tags": []
   },
   "outputs": [],
   "source": [
    "cp_metrics_dict = {\n",
    "    \"universe_id\": [universe_id],\n",
    "    \"universe_training_year\": [universe_training_year],\n",
    "    \"universe_training_size\": [universe_training_size],\n",
    "    \"universe_scale\": [universe_scale],\n",
    "    \"universe_model\": [universe_model],\n",
    "    \"universe_exclude_features\": [universe_exclude_features],\n",
    "    \"universe_exclude_subgroups\": [universe_exclude_subgroups],\n",
    "    \"q_hat\": [q_hat],\n",
    "    \"coverage\": [metrics[\"coverage\"]],\n",
    "    \"avg_size\": [metrics[\"avg_size\"]],\n",
    "}"
   ]
  },
  {
   "cell_type": "code",
   "execution_count": 49,
   "id": "0d70d4b2",
   "metadata": {
    "execution": {
     "iopub.execute_input": "2025-08-19T18:28:08.167297Z",
     "iopub.status.busy": "2025-08-19T18:28:08.165808Z",
     "iopub.status.idle": "2025-08-19T18:28:08.177100Z",
     "shell.execute_reply": "2025-08-19T18:28:08.176031Z"
    },
    "papermill": {
     "duration": 0.026312,
     "end_time": "2025-08-19T18:28:08.178733",
     "exception": false,
     "start_time": "2025-08-19T18:28:08.152421",
     "status": "completed"
    },
    "tags": []
   },
   "outputs": [],
   "source": [
    "cp_metrics_df = pd.DataFrame(cp_metrics_dict)"
   ]
  },
  {
   "cell_type": "code",
   "execution_count": 50,
   "id": "b494403c",
   "metadata": {
    "execution": {
     "iopub.execute_input": "2025-08-19T18:28:08.203845Z",
     "iopub.status.busy": "2025-08-19T18:28:08.203266Z",
     "iopub.status.idle": "2025-08-19T18:28:08.220606Z",
     "shell.execute_reply": "2025-08-19T18:28:08.219721Z"
    },
    "papermill": {
     "duration": 0.031848,
     "end_time": "2025-08-19T18:28:08.222390",
     "exception": false,
     "start_time": "2025-08-19T18:28:08.190542",
     "status": "completed"
    },
    "tags": []
   },
   "outputs": [
    {
     "data": {
      "text/html": [
       "<div>\n",
       "<style scoped>\n",
       "    .dataframe tbody tr th:only-of-type {\n",
       "        vertical-align: middle;\n",
       "    }\n",
       "\n",
       "    .dataframe tbody tr th {\n",
       "        vertical-align: top;\n",
       "    }\n",
       "\n",
       "    .dataframe thead th {\n",
       "        text-align: right;\n",
       "    }\n",
       "</style>\n",
       "<table border=\"1\" class=\"dataframe\">\n",
       "  <thead>\n",
       "    <tr style=\"text-align: right;\">\n",
       "      <th></th>\n",
       "      <th>universe_id</th>\n",
       "      <th>universe_training_year</th>\n",
       "      <th>universe_training_size</th>\n",
       "      <th>universe_scale</th>\n",
       "      <th>universe_model</th>\n",
       "      <th>universe_exclude_features</th>\n",
       "      <th>universe_exclude_subgroups</th>\n",
       "      <th>q_hat</th>\n",
       "      <th>coverage</th>\n",
       "      <th>avg_size</th>\n",
       "    </tr>\n",
       "  </thead>\n",
       "  <tbody>\n",
       "    <tr>\n",
       "      <th>0</th>\n",
       "      <td>c038d4bd322a00f28804a57ad1747ae5</td>\n",
       "      <td>2014</td>\n",
       "      <td>5k</td>\n",
       "      <td>do-not-scale</td>\n",
       "      <td>penalized_logreg</td>\n",
       "      <td>sex</td>\n",
       "      <td>drop-non-german</td>\n",
       "      <td>0.665226</td>\n",
       "      <td>0.911359</td>\n",
       "      <td>1.213365</td>\n",
       "    </tr>\n",
       "  </tbody>\n",
       "</table>\n",
       "</div>"
      ],
      "text/plain": [
       "                        universe_id universe_training_year  \\\n",
       "0  c038d4bd322a00f28804a57ad1747ae5                   2014   \n",
       "\n",
       "  universe_training_size universe_scale    universe_model  \\\n",
       "0                     5k   do-not-scale  penalized_logreg   \n",
       "\n",
       "  universe_exclude_features universe_exclude_subgroups     q_hat  coverage  \\\n",
       "0                       sex            drop-non-german  0.665226  0.911359   \n",
       "\n",
       "   avg_size  \n",
       "0  1.213365  "
      ]
     },
     "execution_count": 50,
     "metadata": {},
     "output_type": "execute_result"
    }
   ],
   "source": [
    "cp_metrics_df"
   ]
  },
  {
   "cell_type": "markdown",
   "id": "ed608b0b",
   "metadata": {
    "papermill": {
     "duration": 0.012183,
     "end_time": "2025-08-19T18:28:08.269052",
     "exception": false,
     "start_time": "2025-08-19T18:28:08.256869",
     "status": "completed"
    },
    "tags": []
   },
   "source": [
    "Conditional coverage & looking at subgroups"
   ]
  },
  {
   "cell_type": "code",
   "execution_count": 51,
   "id": "8968c366",
   "metadata": {
    "execution": {
     "iopub.execute_input": "2025-08-19T18:28:08.296725Z",
     "iopub.status.busy": "2025-08-19T18:28:08.295563Z",
     "iopub.status.idle": "2025-08-19T18:28:08.647189Z",
     "shell.execute_reply": "2025-08-19T18:28:08.646447Z"
    },
    "papermill": {
     "duration": 0.368074,
     "end_time": "2025-08-19T18:28:08.648943",
     "exception": false,
     "start_time": "2025-08-19T18:28:08.280869",
     "status": "completed"
    },
    "tags": []
   },
   "outputs": [],
   "source": [
    "from fairness_multiverse.conformal import build_cp_groups\n",
    "\n",
    "cp_groups_df = build_cp_groups(pred_sets, y_true, X_test.index, org_test)"
   ]
  },
  {
   "cell_type": "code",
   "execution_count": 52,
   "id": "292ddabf",
   "metadata": {
    "execution": {
     "iopub.execute_input": "2025-08-19T18:28:08.678131Z",
     "iopub.status.busy": "2025-08-19T18:28:08.676317Z",
     "iopub.status.idle": "2025-08-19T18:28:09.593777Z",
     "shell.execute_reply": "2025-08-19T18:28:09.592563Z"
    },
    "papermill": {
     "duration": 0.933504,
     "end_time": "2025-08-19T18:28:09.595388",
     "exception": false,
     "start_time": "2025-08-19T18:28:08.661884",
     "status": "completed"
    },
    "tags": []
   },
   "outputs": [],
   "source": [
    "# Define covered = 1 if true_label is in the predicted set\n",
    "cp_groups_df['covered'] = cp_groups_df.apply(\n",
    "    lambda r: int(r['true_label'] in r['pred_set']),\n",
    "    axis=1\n",
    ")"
   ]
  },
  {
   "cell_type": "code",
   "execution_count": 53,
   "id": "3a261692",
   "metadata": {
    "execution": {
     "iopub.execute_input": "2025-08-19T18:28:09.622366Z",
     "iopub.status.busy": "2025-08-19T18:28:09.621358Z",
     "iopub.status.idle": "2025-08-19T18:28:09.646393Z",
     "shell.execute_reply": "2025-08-19T18:28:09.639402Z"
    },
    "papermill": {
     "duration": 0.040794,
     "end_time": "2025-08-19T18:28:09.648663",
     "exception": false,
     "start_time": "2025-08-19T18:28:09.607869",
     "status": "completed"
    },
    "tags": []
   },
   "outputs": [],
   "source": [
    "subgroups = ['frau1','nongerman','nongerman_male','nongerman_female']\n",
    "\n",
    "# Conditional coverage for subgroup==1\n",
    "cond_coverage = {\n",
    "    g: cp_groups_df.loc[cp_groups_df[g]==1, 'covered'].mean()\n",
    "    for g in subgroups\n",
    "}"
   ]
  },
  {
   "cell_type": "code",
   "execution_count": 54,
   "id": "894fd600",
   "metadata": {
    "execution": {
     "iopub.execute_input": "2025-08-19T18:28:09.693888Z",
     "iopub.status.busy": "2025-08-19T18:28:09.693427Z",
     "iopub.status.idle": "2025-08-19T18:28:09.699918Z",
     "shell.execute_reply": "2025-08-19T18:28:09.699240Z"
    },
    "papermill": {
     "duration": 0.036723,
     "end_time": "2025-08-19T18:28:09.705903",
     "exception": false,
     "start_time": "2025-08-19T18:28:09.669180",
     "status": "completed"
    },
    "tags": []
   },
   "outputs": [
    {
     "data": {
      "text/plain": [
       "{'frau1': 0.9097452486858068,\n",
       " 'nongerman': 0.9343176331892438,\n",
       " 'nongerman_male': 0.9478519319102945,\n",
       " 'nongerman_female': 0.9119225037257824}"
      ]
     },
     "execution_count": 54,
     "metadata": {},
     "output_type": "execute_result"
    }
   ],
   "source": [
    "cond_coverage"
   ]
  },
  {
   "cell_type": "code",
   "execution_count": 55,
   "id": "942895c7",
   "metadata": {
    "execution": {
     "iopub.execute_input": "2025-08-19T18:28:09.762863Z",
     "iopub.status.busy": "2025-08-19T18:28:09.762354Z",
     "iopub.status.idle": "2025-08-19T18:28:09.770985Z",
     "shell.execute_reply": "2025-08-19T18:28:09.769617Z"
    },
    "papermill": {
     "duration": 0.038971,
     "end_time": "2025-08-19T18:28:09.774592",
     "exception": false,
     "start_time": "2025-08-19T18:28:09.735621",
     "status": "completed"
    },
    "tags": []
   },
   "outputs": [],
   "source": [
    "for subgroup, cov in cond_coverage.items():\n",
    "    cp_metrics_df[f\"cov_{subgroup}\"] = cov"
   ]
  },
  {
   "cell_type": "code",
   "execution_count": 56,
   "id": "3970120f",
   "metadata": {
    "execution": {
     "iopub.execute_input": "2025-08-19T18:28:09.817846Z",
     "iopub.status.busy": "2025-08-19T18:28:09.817384Z",
     "iopub.status.idle": "2025-08-19T18:28:09.869523Z",
     "shell.execute_reply": "2025-08-19T18:28:09.868490Z"
    },
    "papermill": {
     "duration": 0.068233,
     "end_time": "2025-08-19T18:28:09.871187",
     "exception": false,
     "start_time": "2025-08-19T18:28:09.802954",
     "status": "completed"
    },
    "tags": []
   },
   "outputs": [
    {
     "data": {
      "text/html": [
       "<div>\n",
       "<style scoped>\n",
       "    .dataframe tbody tr th:only-of-type {\n",
       "        vertical-align: middle;\n",
       "    }\n",
       "\n",
       "    .dataframe tbody tr th {\n",
       "        vertical-align: top;\n",
       "    }\n",
       "\n",
       "    .dataframe thead th {\n",
       "        text-align: right;\n",
       "    }\n",
       "</style>\n",
       "<table border=\"1\" class=\"dataframe\">\n",
       "  <thead>\n",
       "    <tr style=\"text-align: right;\">\n",
       "      <th></th>\n",
       "      <th>universe_id</th>\n",
       "      <th>universe_training_year</th>\n",
       "      <th>universe_training_size</th>\n",
       "      <th>universe_scale</th>\n",
       "      <th>universe_model</th>\n",
       "      <th>universe_exclude_features</th>\n",
       "      <th>universe_exclude_subgroups</th>\n",
       "      <th>q_hat</th>\n",
       "      <th>coverage</th>\n",
       "      <th>avg_size</th>\n",
       "      <th>cov_frau1</th>\n",
       "      <th>cov_nongerman</th>\n",
       "      <th>cov_nongerman_male</th>\n",
       "      <th>cov_nongerman_female</th>\n",
       "    </tr>\n",
       "  </thead>\n",
       "  <tbody>\n",
       "    <tr>\n",
       "      <th>0</th>\n",
       "      <td>c038d4bd322a00f28804a57ad1747ae5</td>\n",
       "      <td>2014</td>\n",
       "      <td>5k</td>\n",
       "      <td>do-not-scale</td>\n",
       "      <td>penalized_logreg</td>\n",
       "      <td>sex</td>\n",
       "      <td>drop-non-german</td>\n",
       "      <td>0.665226</td>\n",
       "      <td>0.911359</td>\n",
       "      <td>1.213365</td>\n",
       "      <td>0.909745</td>\n",
       "      <td>0.934318</td>\n",
       "      <td>0.947852</td>\n",
       "      <td>0.911923</td>\n",
       "    </tr>\n",
       "  </tbody>\n",
       "</table>\n",
       "</div>"
      ],
      "text/plain": [
       "                        universe_id universe_training_year  \\\n",
       "0  c038d4bd322a00f28804a57ad1747ae5                   2014   \n",
       "\n",
       "  universe_training_size universe_scale    universe_model  \\\n",
       "0                     5k   do-not-scale  penalized_logreg   \n",
       "\n",
       "  universe_exclude_features universe_exclude_subgroups     q_hat  coverage  \\\n",
       "0                       sex            drop-non-german  0.665226  0.911359   \n",
       "\n",
       "   avg_size  cov_frau1  cov_nongerman  cov_nongerman_male  \\\n",
       "0  1.213365   0.909745       0.934318            0.947852   \n",
       "\n",
       "   cov_nongerman_female  \n",
       "0              0.911923  "
      ]
     },
     "execution_count": 56,
     "metadata": {},
     "output_type": "execute_result"
    }
   ],
   "source": [
    "cp_metrics_df"
   ]
  },
  {
   "cell_type": "markdown",
   "id": "3fc519cc",
   "metadata": {
    "papermill": {
     "duration": 0.01466,
     "end_time": "2025-08-19T18:28:09.898937",
     "exception": false,
     "start_time": "2025-08-19T18:28:09.884277",
     "status": "completed"
    },
    "tags": []
   },
   "source": [
    "# (Fairness) Metrics"
   ]
  },
  {
   "cell_type": "code",
   "execution_count": 57,
   "id": "a2e5e155",
   "metadata": {
    "execution": {
     "iopub.execute_input": "2025-08-19T18:28:09.925905Z",
     "iopub.status.busy": "2025-08-19T18:28:09.925541Z",
     "iopub.status.idle": "2025-08-19T18:28:09.941704Z",
     "shell.execute_reply": "2025-08-19T18:28:09.940935Z"
    },
    "papermill": {
     "duration": 0.033274,
     "end_time": "2025-08-19T18:28:09.944745",
     "exception": false,
     "start_time": "2025-08-19T18:28:09.911471",
     "status": "completed"
    },
    "tags": []
   },
   "outputs": [],
   "source": [
    "colname_to_bin = \"maxdeutsch1\"\n",
    "majority_value = org_train[colname_to_bin].mode()[0]\n",
    "\n",
    "org_test[\"majmin\"] = np.where(org_test[colname_to_bin] == majority_value, \"majority\", \"minority\")"
   ]
  },
  {
   "cell_type": "code",
   "execution_count": 58,
   "id": "17e3e4d5",
   "metadata": {
    "execution": {
     "iopub.execute_input": "2025-08-19T18:28:09.993229Z",
     "iopub.status.busy": "2025-08-19T18:28:09.992306Z",
     "iopub.status.idle": "2025-08-19T18:28:11.830444Z",
     "shell.execute_reply": "2025-08-19T18:28:11.829147Z"
    },
    "papermill": {
     "duration": 1.855265,
     "end_time": "2025-08-19T18:28:11.833428",
     "exception": false,
     "start_time": "2025-08-19T18:28:09.978163",
     "status": "completed"
    },
    "tags": []
   },
   "outputs": [],
   "source": [
    "example_universe = universe.copy()\n",
    "example_universe[\"cutoff\"] = example_universe[\"cutoff\"][0]\n",
    "example_universe[\"eval_fairness_grouping\"] = example_universe[\"eval_fairness_grouping\"][0]\n",
    "fairness_dict, metric_frame = universe_analysis.compute_metrics(\n",
    "    example_universe,\n",
    "    y_pred_prob=probs_test,\n",
    "    y_test=y_true,\n",
    "    org_test=org_test,\n",
    ")"
   ]
  },
  {
   "cell_type": "markdown",
   "id": "1fb7a0e9",
   "metadata": {
    "papermill": {
     "duration": 0.013067,
     "end_time": "2025-08-19T18:28:11.872540",
     "exception": false,
     "start_time": "2025-08-19T18:28:11.859473",
     "status": "completed"
    },
    "tags": []
   },
   "source": [
    "# Overall"
   ]
  },
  {
   "cell_type": "markdown",
   "id": "be1784b1",
   "metadata": {
    "papermill": {
     "duration": 0.012212,
     "end_time": "2025-08-19T18:28:11.896945",
     "exception": false,
     "start_time": "2025-08-19T18:28:11.884733",
     "status": "completed"
    },
    "tags": []
   },
   "source": [
    "Main fairness target: Equalized Odds. Seems to be a better fit than equal opportunity, since we're not only interested in Y = 1. Seems to be a better fit than demographic parity, since we also care about accuracy, not just equal distribution of preds.\n",
    "\n",
    "Pick column for computation of fairness metrics\n",
    "\n",
    "Performance\n",
    "Overall performance measures, most interesting in relation to the measures split by group below"
   ]
  },
  {
   "cell_type": "code",
   "execution_count": 59,
   "id": "b7672bee",
   "metadata": {
    "execution": {
     "iopub.execute_input": "2025-08-19T18:28:11.926274Z",
     "iopub.status.busy": "2025-08-19T18:28:11.924764Z",
     "iopub.status.idle": "2025-08-19T18:28:11.939368Z",
     "shell.execute_reply": "2025-08-19T18:28:11.938391Z"
    },
    "papermill": {
     "duration": 0.031787,
     "end_time": "2025-08-19T18:28:11.940970",
     "exception": false,
     "start_time": "2025-08-19T18:28:11.909183",
     "status": "completed"
    },
    "tags": []
   },
   "outputs": [
    {
     "data": {
      "text/plain": [
       "accuracy                   0.217244\n",
       "balanced accuracy          0.532686\n",
       "f1                         0.238772\n",
       "precision                  0.136402\n",
       "false positive rate        0.891614\n",
       "false negative rate        0.043014\n",
       "selection rate             0.900000\n",
       "count                  89710.000000\n",
       "dtype: float64"
      ]
     },
     "execution_count": 59,
     "metadata": {},
     "output_type": "execute_result"
    }
   ],
   "source": [
    "metric_frame.overall"
   ]
  },
  {
   "cell_type": "markdown",
   "id": "d93333c9",
   "metadata": {
    "papermill": {
     "duration": 0.012823,
     "end_time": "2025-08-19T18:28:11.973284",
     "exception": false,
     "start_time": "2025-08-19T18:28:11.960461",
     "status": "completed"
    },
    "tags": []
   },
   "source": [
    "By Group"
   ]
  },
  {
   "cell_type": "code",
   "execution_count": 60,
   "id": "52256966",
   "metadata": {
    "execution": {
     "iopub.execute_input": "2025-08-19T18:28:12.004588Z",
     "iopub.status.busy": "2025-08-19T18:28:12.003577Z",
     "iopub.status.idle": "2025-08-19T18:28:12.026964Z",
     "shell.execute_reply": "2025-08-19T18:28:12.025910Z"
    },
    "papermill": {
     "duration": 0.046765,
     "end_time": "2025-08-19T18:28:12.032397",
     "exception": false,
     "start_time": "2025-08-19T18:28:11.985632",
     "status": "completed"
    },
    "tags": []
   },
   "outputs": [
    {
     "data": {
      "text/html": [
       "<div>\n",
       "<style scoped>\n",
       "    .dataframe tbody tr th:only-of-type {\n",
       "        vertical-align: middle;\n",
       "    }\n",
       "\n",
       "    .dataframe tbody tr th {\n",
       "        vertical-align: top;\n",
       "    }\n",
       "\n",
       "    .dataframe thead th {\n",
       "        text-align: right;\n",
       "    }\n",
       "</style>\n",
       "<table border=\"1\" class=\"dataframe\">\n",
       "  <thead>\n",
       "    <tr style=\"text-align: right;\">\n",
       "      <th></th>\n",
       "      <th>accuracy</th>\n",
       "      <th>balanced accuracy</th>\n",
       "      <th>f1</th>\n",
       "      <th>precision</th>\n",
       "      <th>false positive rate</th>\n",
       "      <th>false negative rate</th>\n",
       "      <th>selection rate</th>\n",
       "      <th>count</th>\n",
       "    </tr>\n",
       "    <tr>\n",
       "      <th>majmin</th>\n",
       "      <th></th>\n",
       "      <th></th>\n",
       "      <th></th>\n",
       "      <th></th>\n",
       "      <th></th>\n",
       "      <th></th>\n",
       "      <th></th>\n",
       "      <th></th>\n",
       "    </tr>\n",
       "  </thead>\n",
       "  <tbody>\n",
       "    <tr>\n",
       "      <th>majority</th>\n",
       "      <td>0.239294</td>\n",
       "      <td>0.540403</td>\n",
       "      <td>0.248078</td>\n",
       "      <td>0.142674</td>\n",
       "      <td>0.868866</td>\n",
       "      <td>0.050328</td>\n",
       "      <td>0.879543</td>\n",
       "      <td>69170.0</td>\n",
       "    </tr>\n",
       "    <tr>\n",
       "      <th>minority</th>\n",
       "      <td>0.142989</td>\n",
       "      <td>0.509229</td>\n",
       "      <td>0.209529</td>\n",
       "      <td>0.117230</td>\n",
       "      <td>0.966762</td>\n",
       "      <td>0.014780</td>\n",
       "      <td>0.968890</td>\n",
       "      <td>20540.0</td>\n",
       "    </tr>\n",
       "  </tbody>\n",
       "</table>\n",
       "</div>"
      ],
      "text/plain": [
       "          accuracy  balanced accuracy        f1  precision  \\\n",
       "majmin                                                       \n",
       "majority  0.239294           0.540403  0.248078   0.142674   \n",
       "minority  0.142989           0.509229  0.209529   0.117230   \n",
       "\n",
       "          false positive rate  false negative rate  selection rate    count  \n",
       "majmin                                                                       \n",
       "majority             0.868866             0.050328        0.879543  69170.0  \n",
       "minority             0.966762             0.014780        0.968890  20540.0  "
      ]
     },
     "execution_count": 60,
     "metadata": {},
     "output_type": "execute_result"
    }
   ],
   "source": [
    "metric_frame.by_group"
   ]
  },
  {
   "cell_type": "code",
   "execution_count": 61,
   "id": "6e6c20ae",
   "metadata": {
    "execution": {
     "iopub.execute_input": "2025-08-19T18:28:12.087455Z",
     "iopub.status.busy": "2025-08-19T18:28:12.086910Z",
     "iopub.status.idle": "2025-08-19T18:28:14.024025Z",
     "shell.execute_reply": "2025-08-19T18:28:14.022956Z"
    },
    "papermill": {
     "duration": 1.976023,
     "end_time": "2025-08-19T18:28:14.025475",
     "exception": false,
     "start_time": "2025-08-19T18:28:12.049452",
     "status": "completed"
    },
    "tags": []
   },
   "outputs": [
    {
     "data": {
      "text/plain": [
       "array([[<Axes: title={'center': 'accuracy'}, xlabel='majmin'>,\n",
       "        <Axes: title={'center': 'balanced accuracy'}, xlabel='majmin'>,\n",
       "        <Axes: title={'center': 'f1'}, xlabel='majmin'>],\n",
       "       [<Axes: title={'center': 'precision'}, xlabel='majmin'>,\n",
       "        <Axes: title={'center': 'false positive rate'}, xlabel='majmin'>,\n",
       "        <Axes: title={'center': 'false negative rate'}, xlabel='majmin'>],\n",
       "       [<Axes: title={'center': 'selection rate'}, xlabel='majmin'>,\n",
       "        <Axes: title={'center': 'count'}, xlabel='majmin'>,\n",
       "        <Axes: xlabel='majmin'>]], dtype=object)"
      ]
     },
     "execution_count": 61,
     "metadata": {},
     "output_type": "execute_result"
    },
    {
     "data": {
      "image/png": "[encoded data removed]",
      "text/plain": [
       "<Figure size 1200x800 with 9 Axes>"
      ]
     },
     "metadata": {},
     "output_type": "display_data"
    }
   ],
   "source": [
    "# In a graphic\n",
    "metric_frame.by_group.plot.bar(\n",
    "    subplots=True,\n",
    "    layout=[3, 3],\n",
    "    legend=False,\n",
    "    figsize=[12, 8],\n",
    "    title=\"Show all metrics\",\n",
    ")"
   ]
  },
  {
   "cell_type": "markdown",
   "id": "b2e433ae",
   "metadata": {
    "papermill": {
     "duration": 0.027173,
     "end_time": "2025-08-19T18:28:14.073979",
     "exception": false,
     "start_time": "2025-08-19T18:28:14.046806",
     "status": "completed"
    },
    "tags": []
   },
   "source": [
    "# Final Output"
   ]
  },
  {
   "cell_type": "code",
   "execution_count": 62,
   "id": "3871301e",
   "metadata": {
    "execution": {
     "iopub.execute_input": "2025-08-19T18:28:14.123355Z",
     "iopub.status.busy": "2025-08-19T18:28:14.122396Z",
     "iopub.status.idle": "2025-08-19T18:28:14.131957Z",
     "shell.execute_reply": "2025-08-19T18:28:14.131249Z"
    },
    "papermill": {
     "duration": 0.029944,
     "end_time": "2025-08-19T18:28:14.133214",
     "exception": false,
     "start_time": "2025-08-19T18:28:14.103270",
     "status": "completed"
    },
    "tags": []
   },
   "outputs": [
    {
     "data": {
      "text/plain": [
       "4"
      ]
     },
     "execution_count": 62,
     "metadata": {},
     "output_type": "execute_result"
    }
   ],
   "source": [
    "sub_universes = universe_analysis.generate_sub_universes()\n",
    "len(sub_universes)"
   ]
  },
  {
   "cell_type": "code",
   "execution_count": 63,
   "id": "d9cfdaca",
   "metadata": {
    "execution": {
     "iopub.execute_input": "2025-08-19T18:28:14.164417Z",
     "iopub.status.busy": "2025-08-19T18:28:14.163508Z",
     "iopub.status.idle": "2025-08-19T18:28:14.202698Z",
     "shell.execute_reply": "2025-08-19T18:28:14.200935Z"
    },
    "papermill": {
     "duration": 0.057628,
     "end_time": "2025-08-19T18:28:14.205689",
     "exception": false,
     "start_time": "2025-08-19T18:28:14.148061",
     "status": "completed"
    },
    "tags": []
   },
   "outputs": [],
   "source": [
    "def filter_sub_universe_data(sub_universe, org_test):\n",
    "    # Keep all rows — no filtering\n",
    "    keep_rows_mask = np.ones(org_test.shape[0], dtype=bool)\n",
    "\n",
    "    print(f\"[INFO] Keeping all rows: {keep_rows_mask.sum()} rows retained.\")\n",
    "    return keep_rows_mask"
   ]
  },
  {
   "cell_type": "code",
   "execution_count": 64,
   "id": "2bc31ac1",
   "metadata": {
    "execution": {
     "iopub.execute_input": "2025-08-19T18:28:14.251483Z",
     "iopub.status.busy": "2025-08-19T18:28:14.250389Z",
     "iopub.status.idle": "2025-08-19T18:28:21.087502Z",
     "shell.execute_reply": "2025-08-19T18:28:21.086280Z"
    },
    "papermill": {
     "duration": 6.854407,
     "end_time": "2025-08-19T18:28:21.088963",
     "exception": false,
     "start_time": "2025-08-19T18:28:14.234556",
     "status": "completed"
    },
    "tags": []
   },
   "outputs": [
    {
     "name": "stdout",
     "output_type": "stream",
     "text": [
      "Stopping execution_time clock.\n",
      "[INFO] Keeping all rows: 89710 rows retained.\n"
     ]
    },
    {
     "name": "stdout",
     "output_type": "stream",
     "text": [
      "[INFO] Keeping all rows: 89710 rows retained.\n"
     ]
    },
    {
     "name": "stdout",
     "output_type": "stream",
     "text": [
      "[INFO] Keeping all rows: 89710 rows retained.\n"
     ]
    },
    {
     "name": "stdout",
     "output_type": "stream",
     "text": [
      "[INFO] Keeping all rows: 89710 rows retained.\n"
     ]
    },
    {
     "data": {
      "text/html": [
       "<div>\n",
       "<style scoped>\n",
       "    .dataframe tbody tr th:only-of-type {\n",
       "        vertical-align: middle;\n",
       "    }\n",
       "\n",
       "    .dataframe tbody tr th {\n",
       "        vertical-align: top;\n",
       "    }\n",
       "\n",
       "    .dataframe thead th {\n",
       "        text-align: right;\n",
       "    }\n",
       "</style>\n",
       "<table border=\"1\" class=\"dataframe\">\n",
       "  <thead>\n",
       "    <tr style=\"text-align: right;\">\n",
       "      <th></th>\n",
       "      <th>run_no</th>\n",
       "      <th>universe_id</th>\n",
       "      <th>universe_settings</th>\n",
       "      <th>execution_time</th>\n",
       "      <th>test_size_n</th>\n",
       "      <th>test_size_frac</th>\n",
       "      <th>fair_main_equalized_odds_difference</th>\n",
       "      <th>fair_main_equalized_odds_ratio</th>\n",
       "      <th>fair_main_demographic_parity_difference</th>\n",
       "      <th>fair_main_demographic_parity_ratio</th>\n",
       "      <th>...</th>\n",
       "      <th>perf_grp_precision_0</th>\n",
       "      <th>perf_grp_precision_1</th>\n",
       "      <th>perf_grp_false positive rate_0</th>\n",
       "      <th>perf_grp_false positive rate_1</th>\n",
       "      <th>perf_grp_false negative rate_0</th>\n",
       "      <th>perf_grp_false negative rate_1</th>\n",
       "      <th>perf_grp_selection rate_0</th>\n",
       "      <th>perf_grp_selection rate_1</th>\n",
       "      <th>perf_grp_count_0</th>\n",
       "      <th>perf_grp_count_1</th>\n",
       "    </tr>\n",
       "  </thead>\n",
       "  <tbody>\n",
       "    <tr>\n",
       "      <th>0</th>\n",
       "      <td>3</td>\n",
       "      <td>c038d4bd322a00f28804a57ad1747ae5</td>\n",
       "      <td>{\"cutoff\": \"quantile_0.1\", \"eval_fairness_grou...</td>\n",
       "      <td>21.41552</td>\n",
       "      <td>89710</td>\n",
       "      <td>1.0</td>\n",
       "      <td>0.097896</td>\n",
       "      <td>0.898738</td>\n",
       "      <td>0.089347</td>\n",
       "      <td>0.907784</td>\n",
       "      <td>...</td>\n",
       "      <td>NaN</td>\n",
       "      <td>NaN</td>\n",
       "      <td>NaN</td>\n",
       "      <td>NaN</td>\n",
       "      <td>NaN</td>\n",
       "      <td>NaN</td>\n",
       "      <td>NaN</td>\n",
       "      <td>NaN</td>\n",
       "      <td>NaN</td>\n",
       "      <td>NaN</td>\n",
       "    </tr>\n",
       "    <tr>\n",
       "      <th>0</th>\n",
       "      <td>3</td>\n",
       "      <td>c038d4bd322a00f28804a57ad1747ae5</td>\n",
       "      <td>{\"cutoff\": \"quantile_0.1\", \"eval_fairness_grou...</td>\n",
       "      <td>21.41552</td>\n",
       "      <td>89710</td>\n",
       "      <td>1.0</td>\n",
       "      <td>0.097896</td>\n",
       "      <td>0.898738</td>\n",
       "      <td>0.089347</td>\n",
       "      <td>0.907784</td>\n",
       "      <td>...</td>\n",
       "      <td>0.117230</td>\n",
       "      <td>0.142674</td>\n",
       "      <td>0.966762</td>\n",
       "      <td>0.868866</td>\n",
       "      <td>0.01478</td>\n",
       "      <td>0.050328</td>\n",
       "      <td>0.968890</td>\n",
       "      <td>0.879543</td>\n",
       "      <td>20540.0</td>\n",
       "      <td>69170.0</td>\n",
       "    </tr>\n",
       "    <tr>\n",
       "      <th>0</th>\n",
       "      <td>3</td>\n",
       "      <td>c038d4bd322a00f28804a57ad1747ae5</td>\n",
       "      <td>{\"cutoff\": \"quantile_0.25\", \"eval_fairness_gro...</td>\n",
       "      <td>21.41552</td>\n",
       "      <td>89710</td>\n",
       "      <td>1.0</td>\n",
       "      <td>0.221166</td>\n",
       "      <td>0.754309</td>\n",
       "      <td>0.202821</td>\n",
       "      <td>0.776229</td>\n",
       "      <td>...</td>\n",
       "      <td>NaN</td>\n",
       "      <td>NaN</td>\n",
       "      <td>NaN</td>\n",
       "      <td>NaN</td>\n",
       "      <td>NaN</td>\n",
       "      <td>NaN</td>\n",
       "      <td>NaN</td>\n",
       "      <td>NaN</td>\n",
       "      <td>NaN</td>\n",
       "      <td>NaN</td>\n",
       "    </tr>\n",
       "    <tr>\n",
       "      <th>0</th>\n",
       "      <td>3</td>\n",
       "      <td>c038d4bd322a00f28804a57ad1747ae5</td>\n",
       "      <td>{\"cutoff\": \"quantile_0.25\", \"eval_fairness_gro...</td>\n",
       "      <td>21.41552</td>\n",
       "      <td>89710</td>\n",
       "      <td>1.0</td>\n",
       "      <td>0.221166</td>\n",
       "      <td>0.754309</td>\n",
       "      <td>0.202821</td>\n",
       "      <td>0.776229</td>\n",
       "      <td>...</td>\n",
       "      <td>0.121341</td>\n",
       "      <td>0.162417</td>\n",
       "      <td>0.900176</td>\n",
       "      <td>0.679010</td>\n",
       "      <td>0.04603</td>\n",
       "      <td>0.135230</td>\n",
       "      <td>0.906378</td>\n",
       "      <td>0.703556</td>\n",
       "      <td>20540.0</td>\n",
       "      <td>69170.0</td>\n",
       "    </tr>\n",
       "  </tbody>\n",
       "</table>\n",
       "<p>4 rows × 50 columns</p>\n",
       "</div>"
      ],
      "text/plain": [
       "  run_no                       universe_id  \\\n",
       "0      3  c038d4bd322a00f28804a57ad1747ae5   \n",
       "0      3  c038d4bd322a00f28804a57ad1747ae5   \n",
       "0      3  c038d4bd322a00f28804a57ad1747ae5   \n",
       "0      3  c038d4bd322a00f28804a57ad1747ae5   \n",
       "\n",
       "                                   universe_settings  execution_time  \\\n",
       "0  {\"cutoff\": \"quantile_0.1\", \"eval_fairness_grou...        21.41552   \n",
       "0  {\"cutoff\": \"quantile_0.1\", \"eval_fairness_grou...        21.41552   \n",
       "0  {\"cutoff\": \"quantile_0.25\", \"eval_fairness_gro...        21.41552   \n",
       "0  {\"cutoff\": \"quantile_0.25\", \"eval_fairness_gro...        21.41552   \n",
       "\n",
       "   test_size_n  test_size_frac  fair_main_equalized_odds_difference  \\\n",
       "0        89710             1.0                             0.097896   \n",
       "0        89710             1.0                             0.097896   \n",
       "0        89710             1.0                             0.221166   \n",
       "0        89710             1.0                             0.221166   \n",
       "\n",
       "   fair_main_equalized_odds_ratio  fair_main_demographic_parity_difference  \\\n",
       "0                        0.898738                                 0.089347   \n",
       "0                        0.898738                                 0.089347   \n",
       "0                        0.754309                                 0.202821   \n",
       "0                        0.754309                                 0.202821   \n",
       "\n",
       "   fair_main_demographic_parity_ratio  ...  perf_grp_precision_0  \\\n",
       "0                            0.907784  ...                   NaN   \n",
       "0                            0.907784  ...              0.117230   \n",
       "0                            0.776229  ...                   NaN   \n",
       "0                            0.776229  ...              0.121341   \n",
       "\n",
       "   perf_grp_precision_1  perf_grp_false positive rate_0  \\\n",
       "0                   NaN                             NaN   \n",
       "0              0.142674                        0.966762   \n",
       "0                   NaN                             NaN   \n",
       "0              0.162417                        0.900176   \n",
       "\n",
       "   perf_grp_false positive rate_1  perf_grp_false negative rate_0  \\\n",
       "0                             NaN                             NaN   \n",
       "0                        0.868866                         0.01478   \n",
       "0                             NaN                             NaN   \n",
       "0                        0.679010                         0.04603   \n",
       "\n",
       "   perf_grp_false negative rate_1  perf_grp_selection rate_0  \\\n",
       "0                             NaN                        NaN   \n",
       "0                        0.050328                   0.968890   \n",
       "0                             NaN                        NaN   \n",
       "0                        0.135230                   0.906378   \n",
       "\n",
       "   perf_grp_selection rate_1  perf_grp_count_0  perf_grp_count_1  \n",
       "0                        NaN               NaN               NaN  \n",
       "0                   0.879543           20540.0           69170.0  \n",
       "0                        NaN               NaN               NaN  \n",
       "0                   0.703556           20540.0           69170.0  \n",
       "\n",
       "[4 rows x 50 columns]"
      ]
     },
     "execution_count": 64,
     "metadata": {},
     "output_type": "execute_result"
    }
   ],
   "source": [
    "final_output = universe_analysis.generate_final_output(\n",
    "    y_pred_prob=probs_test,\n",
    "    y_test=y_true,\n",
    "    org_test=org_test,\n",
    "    filter_data=filter_sub_universe_data,\n",
    "    cp_metrics_df=cp_metrics_df,\n",
    "    save=True,\n",
    ")\n",
    "final_output"
   ]
  },
  {
   "cell_type": "code",
   "execution_count": null,
   "id": "8b80a1ff",
   "metadata": {
    "papermill": {
     "duration": 0.014236,
     "end_time": "2025-08-19T18:28:21.121082",
     "exception": false,
     "start_time": "2025-08-19T18:28:21.106846",
     "status": "completed"
    },
    "tags": []
   },
   "outputs": [],
   "source": []
  },
  {
   "cell_type": "code",
   "execution_count": null,
   "id": "275c9fad",
   "metadata": {
    "papermill": {
     "duration": 0.014183,
     "end_time": "2025-08-19T18:28:21.149426",
     "exception": false,
     "start_time": "2025-08-19T18:28:21.135243",
     "status": "completed"
    },
    "tags": []
   },
   "outputs": [],
   "source": []
  }
 ],
 "metadata": {
  "celltoolbar": "Tags",
  "kernelspec": {
   "display_name": "Python (CMA Fairness)",
   "language": "python",
   "name": "cma_fair_env"
  },
  "language_info": {
   "codemirror_mode": {
    "name": "ipython",
    "version": 3
   },
   "file_extension": ".py",
   "mimetype": "text/x-python",
   "name": "python",
   "nbconvert_exporter": "python",
   "pygments_lexer": "ipython3",
   "version": "3.10.12"
  },
  "papermill": {
   "default_parameters": {},
   "duration": 32.114559,
   "end_time": "2025-08-19T18:28:21.987093",
   "environment_variables": {},
   "exception": null,
   "input_path": "universe_analysis.ipynb",
   "output_path": "output/runs/3/notebooks/m_3-c038d4bd322a00f28804a57ad1747ae5.ipynb",
   "parameters": {
    "output_dir": "output",
    "run_no": "3",
    "seed": "2023",
    "universe": "{\"cutoff\": [\"quantile_0.1\", \"quantile_0.25\"], \"eval_fairness_grouping\": [\"majority-minority\", \"nationality-all\"], \"exclude_features\": \"sex\", \"exclude_subgroups\": \"drop-non-german\", \"model\": \"penalized_logreg\", \"scale\": \"do-not-scale\", \"training_size\": \"5k\", \"training_year\": \"2014\"}",
    "universe_id": "c038d4bd322a00f28804a57ad1747ae5"
   },
   "start_time": "2025-08-19T18:27:49.872534",
   "version": "2.6.0"
  }
 },
 "nbformat": 4,
 "nbformat_minor": 5
}