{
 "cells": [
  {
   "cell_type": "markdown",
   "id": "ef23dbb3",
   "metadata": {
    "papermill": {
     "duration": 0.011817,
     "end_time": "2025-08-19T19:05:31.437940",
     "exception": false,
     "start_time": "2025-08-19T19:05:31.426123",
     "status": "completed"
    },
    "tags": []
   },
   "source": [
    "# Setup"
   ]
  },
  {
   "cell_type": "code",
   "execution_count": 1,
   "id": "0bc8e7dc",
   "metadata": {
    "execution": {
     "iopub.execute_input": "2025-08-19T19:05:31.472733Z",
     "iopub.status.busy": "2025-08-19T19:05:31.472251Z",
     "iopub.status.idle": "2025-08-19T19:05:31.481775Z",
     "shell.execute_reply": "2025-08-19T19:05:31.481145Z"
    },
    "papermill": {
     "duration": 0.026963,
     "end_time": "2025-08-19T19:05:31.486620",
     "exception": false,
     "start_time": "2025-08-19T19:05:31.459657",
     "status": "completed"
    },
    "tags": []
   },
   "outputs": [
    {
     "name": "stdout",
     "output_type": "stream",
     "text": [
      "/dss/dsshome1/0C/ra93lal2/cma/CMA_Fairness_v2\n"
     ]
    },
    {
     "name": "stderr",
     "output_type": "stream",
     "text": [
      "/dss/dsshome1/0C/ra93lal2/.local/share/virtualenvs/CMA_Fairness_v2-3j10GkSs/lib/python3.10/site-packages/IPython/core/magics/osm.py:393: UserWarning: This is now an optional IPython functionality, using bookmarks requires you to install the `pickleshare` library.\n",
      "  bkms = self.shell.db.get('bookmarks', {})\n",
      "/dss/dsshome1/0C/ra93lal2/.local/share/virtualenvs/CMA_Fairness_v2-3j10GkSs/lib/python3.10/site-packages/IPython/core/magics/osm.py:417: UserWarning: This is now an optional IPython functionality, setting dhist requires you to install the `pickleshare` library.\n",
      "  self.shell.db['dhist'] = compress_dhist(dhist)[-100:]\n"
     ]
    }
   ],
   "source": [
    "%cd ~/cma/CMA_Fairness_v2"
   ]
  },
  {
   "cell_type": "markdown",
   "id": "9d235661",
   "metadata": {
    "papermill": {
     "duration": 0.010061,
     "end_time": "2025-08-19T19:05:31.515961",
     "exception": false,
     "start_time": "2025-08-19T19:05:31.505900",
     "status": "completed"
    },
    "tags": []
   },
   "source": [
    "The following cell holds the definition of our parameters, these values can be overriden by rendering the with e.g. the following command:\n",
    "\n",
    "papermill -p alpha 0.2 -p ratio 0.3 universe_analysis.ipynb output/test_run.ipynb"
   ]
  },
  {
   "cell_type": "code",
   "execution_count": 2,
   "id": "4a789d8e",
   "metadata": {
    "execution": {
     "iopub.execute_input": "2025-08-19T19:05:31.536166Z",
     "iopub.status.busy": "2025-08-19T19:05:31.535173Z",
     "iopub.status.idle": "2025-08-19T19:05:31.540748Z",
     "shell.execute_reply": "2025-08-19T19:05:31.539851Z"
    },
    "papermill": {
     "duration": 0.016933,
     "end_time": "2025-08-19T19:05:31.542120",
     "exception": false,
     "start_time": "2025-08-19T19:05:31.525187",
     "status": "completed"
    },
    "tags": []
   },
   "outputs": [
    {
     "name": "stdout",
     "output_type": "stream",
     "text": [
      "Current working directory: /dss/dsshome1/0C/ra93lal2/cma/CMA_Fairness_v2\n"
     ]
    }
   ],
   "source": [
    "import os\n",
    "print(\"Current working directory:\", os.getcwd())"
   ]
  },
  {
   "cell_type": "code",
   "execution_count": 3,
   "id": "4132aaed",
   "metadata": {
    "execution": {
     "iopub.execute_input": "2025-08-19T19:05:31.562959Z",
     "iopub.status.busy": "2025-08-19T19:05:31.561504Z",
     "iopub.status.idle": "2025-08-19T19:05:31.571556Z",
     "shell.execute_reply": "2025-08-19T19:05:31.570449Z"
    },
    "papermill": {
     "duration": 0.021985,
     "end_time": "2025-08-19T19:05:31.573009",
     "exception": false,
     "start_time": "2025-08-19T19:05:31.551024",
     "status": "completed"
    },
    "tags": [
     "parameters"
    ]
   },
   "outputs": [],
   "source": [
    "run_no = 0\n",
    "universe_id = \"test\"\n",
    "universe = {\n",
    "    \"training_size\": \"5k\", # \"25k\", \"5k\", \"1k\"\n",
    "    \"training_year\": \"2012_14\", # \"2014\", \"2012_14\", \"2010_14\"\n",
    "    \"scale\": \"scale\", # \"scale\", \"do-not-scale\",\n",
    "    \"model\": \"elasticnet\", # \"logreg\", \"penalized_logreg\", \"rf\", \"gbm\", \"elasticnet\"\n",
    "    \"cutoff\": [\"quantile_0.15\", \"quantile_0.30\"],\n",
    "    \"exclude_features\": \"age\", # \"none\", \"nationality\", \"sex\", \"nationality-sex\", \"age\"\n",
    "    \"exclude_subgroups\": \"drop-non-german\", # \"keep-all\", \"drop-non-german\"\n",
    "    \"eval_fairness_grouping\": [\"majority-minority\", \"nationality-all\"]\n",
    "}\n",
    "\n",
    "output_dir=\"./output\"\n",
    "seed=0"
   ]
  },
  {
   "cell_type": "code",
   "execution_count": 4,
   "id": "54011e85",
   "metadata": {
    "execution": {
     "iopub.execute_input": "2025-08-19T19:05:31.599312Z",
     "iopub.status.busy": "2025-08-19T19:05:31.598181Z",
     "iopub.status.idle": "2025-08-19T19:05:31.607705Z",
     "shell.execute_reply": "2025-08-19T19:05:31.606120Z"
    },
    "papermill": {
     "duration": 0.029157,
     "end_time": "2025-08-19T19:05:31.613921",
     "exception": false,
     "start_time": "2025-08-19T19:05:31.584764",
     "status": "completed"
    },
    "tags": [
     "injected-parameters"
    ]
   },
   "outputs": [],
   "source": [
    "# Parameters\n",
    "universe_id = \"83fff83e202bca523744db0f565149c5\"\n",
    "run_no = \"3\"\n",
    "universe = \"{\\\"cutoff\\\": [\\\"quantile_0.1\\\", \\\"quantile_0.25\\\"], \\\"eval_fairness_grouping\\\": [\\\"majority-minority\\\", \\\"nationality-all\\\"], \\\"exclude_features\\\": \\\"sex\\\", \\\"exclude_subgroups\\\": \\\"keep-all\\\", \\\"model\\\": \\\"penalized_logreg\\\", \\\"scale\\\": \\\"scale\\\", \\\"training_size\\\": \\\"1k\\\", \\\"training_year\\\": \\\"2010_14\\\"}\"\n",
    "output_dir = \"output\"\n",
    "seed = \"2023\"\n"
   ]
  },
  {
   "cell_type": "code",
   "execution_count": 5,
   "id": "a5d7941f",
   "metadata": {
    "execution": {
     "iopub.execute_input": "2025-08-19T19:05:31.647525Z",
     "iopub.status.busy": "2025-08-19T19:05:31.647132Z",
     "iopub.status.idle": "2025-08-19T19:05:31.652088Z",
     "shell.execute_reply": "2025-08-19T19:05:31.650982Z"
    },
    "papermill": {
     "duration": 0.022665,
     "end_time": "2025-08-19T19:05:31.654360",
     "exception": false,
     "start_time": "2025-08-19T19:05:31.631695",
     "status": "completed"
    },
    "tags": []
   },
   "outputs": [],
   "source": [
    "import json\n",
    "if isinstance(universe, str):\n",
    "    universe = json.loads(universe)"
   ]
  },
  {
   "cell_type": "code",
   "execution_count": 6,
   "id": "7076ccb1",
   "metadata": {
    "execution": {
     "iopub.execute_input": "2025-08-19T19:05:31.680402Z",
     "iopub.status.busy": "2025-08-19T19:05:31.679664Z",
     "iopub.status.idle": "2025-08-19T19:05:31.725993Z",
     "shell.execute_reply": "2025-08-19T19:05:31.724913Z"
    },
    "papermill": {
     "duration": 0.061142,
     "end_time": "2025-08-19T19:05:31.729318",
     "exception": false,
     "start_time": "2025-08-19T19:05:31.668176",
     "status": "completed"
    },
    "tags": []
   },
   "outputs": [],
   "source": [
    "# Auto-reload the custom package\n",
    "%load_ext autoreload\n",
    "%autoreload 1\n",
    "%aimport fairness_multiverse"
   ]
  },
  {
   "cell_type": "code",
   "execution_count": 7,
   "id": "94c8eb93",
   "metadata": {
    "execution": {
     "iopub.execute_input": "2025-08-19T19:05:31.766268Z",
     "iopub.status.busy": "2025-08-19T19:05:31.765358Z",
     "iopub.status.idle": "2025-08-19T19:05:33.328364Z",
     "shell.execute_reply": "2025-08-19T19:05:33.327085Z"
    },
    "papermill": {
     "duration": 1.578147,
     "end_time": "2025-08-19T19:05:33.329976",
     "exception": false,
     "start_time": "2025-08-19T19:05:31.751829",
     "status": "completed"
    },
    "tags": []
   },
   "outputs": [],
   "source": [
    "from fairness_multiverse.universe import UniverseAnalysis\n",
    "\n",
    "universe_analysis = UniverseAnalysis(\n",
    "    run_no = run_no,\n",
    "    universe_id = universe_id,\n",
    "    universe = universe,\n",
    "    output_dir=output_dir,\n",
    ")"
   ]
  },
  {
   "cell_type": "code",
   "execution_count": 8,
   "id": "2a6381cf",
   "metadata": {
    "execution": {
     "iopub.execute_input": "2025-08-19T19:05:33.352590Z",
     "iopub.status.busy": "2025-08-19T19:05:33.351211Z",
     "iopub.status.idle": "2025-08-19T19:05:33.364067Z",
     "shell.execute_reply": "2025-08-19T19:05:33.362922Z"
    },
    "papermill": {
     "duration": 0.026463,
     "end_time": "2025-08-19T19:05:33.365755",
     "exception": false,
     "start_time": "2025-08-19T19:05:33.339292",
     "status": "completed"
    },
    "tags": []
   },
   "outputs": [
    {
     "name": "stdout",
     "output_type": "stream",
     "text": [
      "Using Seed: 2023\n"
     ]
    }
   ],
   "source": [
    "import numpy as np\n",
    "parsed_seed = int(seed)\n",
    "np.random.seed(parsed_seed)\n",
    "print(f\"Using Seed: {parsed_seed}\")"
   ]
  },
  {
   "cell_type": "markdown",
   "id": "b6e958b4",
   "metadata": {
    "papermill": {
     "duration": 0.009199,
     "end_time": "2025-08-19T19:05:33.386134",
     "exception": false,
     "start_time": "2025-08-19T19:05:33.376935",
     "status": "completed"
    },
    "tags": []
   },
   "source": [
    "# Loading Data"
   ]
  },
  {
   "cell_type": "code",
   "execution_count": 9,
   "id": "98701482",
   "metadata": {
    "execution": {
     "iopub.execute_input": "2025-08-19T19:05:33.407127Z",
     "iopub.status.busy": "2025-08-19T19:05:33.405950Z",
     "iopub.status.idle": "2025-08-19T19:05:43.850247Z",
     "shell.execute_reply": "2025-08-19T19:05:43.849160Z"
    },
    "papermill": {
     "duration": 10.45783,
     "end_time": "2025-08-19T19:05:43.852951",
     "exception": false,
     "start_time": "2025-08-19T19:05:33.395121",
     "status": "completed"
    },
    "tags": []
   },
   "outputs": [
    {
     "name": "stdout",
     "output_type": "stream",
     "text": [
      "Loading SIAB data from cache: data/siab_cached.csv.gz\n"
     ]
    },
    {
     "name": "stdout",
     "output_type": "stream",
     "text": [
      "(643690, 164)\n"
     ]
    }
   ],
   "source": [
    "from pathlib import Path\n",
    "import pandas as pd\n",
    "\n",
    "# File paths\n",
    "raw_file = Path(\"data/raw/siab.csv\")\n",
    "cache_file = Path(\"data/siab_cached.csv.gz\")\n",
    "\n",
    "# Ensure cache directory exists\n",
    "cache_file.parent.mkdir(parents=True, exist_ok=True)\n",
    "\n",
    "# Load with simple caching\n",
    "if cache_file.exists():\n",
    "    print(f\"Loading SIAB data from cache: {cache_file}\")\n",
    "    siab = pd.read_csv(cache_file, compression='gzip')\n",
    "else:\n",
    "    print(f\"Cache not found. Reading raw SIAB data: {raw_file}\")\n",
    "    siab = pd.read_csv(raw_file)\n",
    "    siab.to_csv(cache_file, index=False, compression='gzip')\n",
    "    print(f\"Cached SIAB data to: {cache_file}\")\n",
    "\n",
    "print(siab.shape)"
   ]
  },
  {
   "cell_type": "code",
   "execution_count": 10,
   "id": "058d2abb",
   "metadata": {
    "execution": {
     "iopub.execute_input": "2025-08-19T19:05:43.902985Z",
     "iopub.status.busy": "2025-08-19T19:05:43.901152Z",
     "iopub.status.idle": "2025-08-19T19:05:44.095856Z",
     "shell.execute_reply": "2025-08-19T19:05:44.094851Z"
    },
    "papermill": {
     "duration": 0.21718,
     "end_time": "2025-08-19T19:05:44.097316",
     "exception": false,
     "start_time": "2025-08-19T19:05:43.880136",
     "status": "completed"
    },
    "tags": []
   },
   "outputs": [
    {
     "data": {
      "text/html": [
       "<div>\n",
       "<style scoped>\n",
       "    .dataframe tbody tr th:only-of-type {\n",
       "        vertical-align: middle;\n",
       "    }\n",
       "\n",
       "    .dataframe tbody tr th {\n",
       "        vertical-align: top;\n",
       "    }\n",
       "\n",
       "    .dataframe thead th {\n",
       "        text-align: right;\n",
       "    }\n",
       "</style>\n",
       "<table border=\"1\" class=\"dataframe\">\n",
       "  <thead>\n",
       "    <tr style=\"text-align: right;\">\n",
       "      <th></th>\n",
       "      <th>persnr</th>\n",
       "      <th>year</th>\n",
       "      <th>nrEntry</th>\n",
       "      <th>ltue</th>\n",
       "      <th>employed_before</th>\n",
       "      <th>receipt_leh_before</th>\n",
       "      <th>receipt_lhg_before</th>\n",
       "      <th>se_before</th>\n",
       "      <th>ASU_notue_seeking_before</th>\n",
       "      <th>ASU_other_before</th>\n",
       "      <th>...</th>\n",
       "      <th>minijob_tot_dur_byage</th>\n",
       "      <th>ft_tot_dur_byage</th>\n",
       "      <th>befrist_tot_dur_byage</th>\n",
       "      <th>leih_tot_dur_byage</th>\n",
       "      <th>LHG_tot_dur_byage</th>\n",
       "      <th>LEH_tot_dur_byage</th>\n",
       "      <th>almp_tot_dur_byage</th>\n",
       "      <th>almp_aw_tot_dur_byage</th>\n",
       "      <th>se_tot_dur_byage</th>\n",
       "      <th>seeking1_tot_dur_byage</th>\n",
       "    </tr>\n",
       "  </thead>\n",
       "  <tbody>\n",
       "    <tr>\n",
       "      <th>0</th>\n",
       "      <td>7</td>\n",
       "      <td>2015</td>\n",
       "      <td>1</td>\n",
       "      <td>0</td>\n",
       "      <td>1</td>\n",
       "      <td>0</td>\n",
       "      <td>0</td>\n",
       "      <td>0</td>\n",
       "      <td>1</td>\n",
       "      <td>0</td>\n",
       "      <td>...</td>\n",
       "      <td>0.000000</td>\n",
       "      <td>0.000000</td>\n",
       "      <td>15.043478</td>\n",
       "      <td>0.000000</td>\n",
       "      <td>0.000000</td>\n",
       "      <td>0.000000</td>\n",
       "      <td>0.000000</td>\n",
       "      <td>0.000000</td>\n",
       "      <td>0.000000</td>\n",
       "      <td>0.000000</td>\n",
       "    </tr>\n",
       "    <tr>\n",
       "      <th>1</th>\n",
       "      <td>18</td>\n",
       "      <td>2010</td>\n",
       "      <td>1</td>\n",
       "      <td>1</td>\n",
       "      <td>0</td>\n",
       "      <td>0</td>\n",
       "      <td>0</td>\n",
       "      <td>0</td>\n",
       "      <td>0</td>\n",
       "      <td>0</td>\n",
       "      <td>...</td>\n",
       "      <td>0.000000</td>\n",
       "      <td>0.000000</td>\n",
       "      <td>0.000000</td>\n",
       "      <td>0.000000</td>\n",
       "      <td>0.000000</td>\n",
       "      <td>0.000000</td>\n",
       "      <td>0.000000</td>\n",
       "      <td>0.000000</td>\n",
       "      <td>0.000000</td>\n",
       "      <td>0.000000</td>\n",
       "    </tr>\n",
       "    <tr>\n",
       "      <th>2</th>\n",
       "      <td>18</td>\n",
       "      <td>2011</td>\n",
       "      <td>2</td>\n",
       "      <td>0</td>\n",
       "      <td>1</td>\n",
       "      <td>0</td>\n",
       "      <td>1</td>\n",
       "      <td>0</td>\n",
       "      <td>1</td>\n",
       "      <td>0</td>\n",
       "      <td>...</td>\n",
       "      <td>2.714286</td>\n",
       "      <td>2.714286</td>\n",
       "      <td>0.000000</td>\n",
       "      <td>0.000000</td>\n",
       "      <td>10.775510</td>\n",
       "      <td>0.000000</td>\n",
       "      <td>8.367347</td>\n",
       "      <td>0.000000</td>\n",
       "      <td>0.000000</td>\n",
       "      <td>9.836735</td>\n",
       "    </tr>\n",
       "    <tr>\n",
       "      <th>3</th>\n",
       "      <td>18</td>\n",
       "      <td>2012</td>\n",
       "      <td>3</td>\n",
       "      <td>0</td>\n",
       "      <td>1</td>\n",
       "      <td>0</td>\n",
       "      <td>1</td>\n",
       "      <td>0</td>\n",
       "      <td>1</td>\n",
       "      <td>0</td>\n",
       "      <td>...</td>\n",
       "      <td>4.200000</td>\n",
       "      <td>4.200000</td>\n",
       "      <td>0.000000</td>\n",
       "      <td>0.000000</td>\n",
       "      <td>12.100000</td>\n",
       "      <td>0.000000</td>\n",
       "      <td>9.400000</td>\n",
       "      <td>0.000000</td>\n",
       "      <td>0.000000</td>\n",
       "      <td>9.960000</td>\n",
       "    </tr>\n",
       "    <tr>\n",
       "      <th>4</th>\n",
       "      <td>18</td>\n",
       "      <td>2012</td>\n",
       "      <td>4</td>\n",
       "      <td>0</td>\n",
       "      <td>1</td>\n",
       "      <td>0</td>\n",
       "      <td>1</td>\n",
       "      <td>0</td>\n",
       "      <td>1</td>\n",
       "      <td>0</td>\n",
       "      <td>...</td>\n",
       "      <td>5.460000</td>\n",
       "      <td>5.460000</td>\n",
       "      <td>0.000000</td>\n",
       "      <td>0.000000</td>\n",
       "      <td>13.360000</td>\n",
       "      <td>0.000000</td>\n",
       "      <td>10.320000</td>\n",
       "      <td>0.000000</td>\n",
       "      <td>0.000000</td>\n",
       "      <td>10.280000</td>\n",
       "    </tr>\n",
       "    <tr>\n",
       "      <th>...</th>\n",
       "      <td>...</td>\n",
       "      <td>...</td>\n",
       "      <td>...</td>\n",
       "      <td>...</td>\n",
       "      <td>...</td>\n",
       "      <td>...</td>\n",
       "      <td>...</td>\n",
       "      <td>...</td>\n",
       "      <td>...</td>\n",
       "      <td>...</td>\n",
       "      <td>...</td>\n",
       "      <td>...</td>\n",
       "      <td>...</td>\n",
       "      <td>...</td>\n",
       "      <td>...</td>\n",
       "      <td>...</td>\n",
       "      <td>...</td>\n",
       "      <td>...</td>\n",
       "      <td>...</td>\n",
       "      <td>...</td>\n",
       "      <td>...</td>\n",
       "    </tr>\n",
       "    <tr>\n",
       "      <th>643685</th>\n",
       "      <td>1827860</td>\n",
       "      <td>2013</td>\n",
       "      <td>1</td>\n",
       "      <td>0</td>\n",
       "      <td>0</td>\n",
       "      <td>0</td>\n",
       "      <td>1</td>\n",
       "      <td>0</td>\n",
       "      <td>0</td>\n",
       "      <td>1</td>\n",
       "      <td>...</td>\n",
       "      <td>0.000000</td>\n",
       "      <td>0.000000</td>\n",
       "      <td>0.000000</td>\n",
       "      <td>0.000000</td>\n",
       "      <td>0.612903</td>\n",
       "      <td>0.000000</td>\n",
       "      <td>0.000000</td>\n",
       "      <td>0.000000</td>\n",
       "      <td>0.000000</td>\n",
       "      <td>0.000000</td>\n",
       "    </tr>\n",
       "    <tr>\n",
       "      <th>643686</th>\n",
       "      <td>1827860</td>\n",
       "      <td>2015</td>\n",
       "      <td>2</td>\n",
       "      <td>1</td>\n",
       "      <td>0</td>\n",
       "      <td>0</td>\n",
       "      <td>1</td>\n",
       "      <td>0</td>\n",
       "      <td>1</td>\n",
       "      <td>0</td>\n",
       "      <td>...</td>\n",
       "      <td>0.000000</td>\n",
       "      <td>0.000000</td>\n",
       "      <td>0.212121</td>\n",
       "      <td>0.212121</td>\n",
       "      <td>17.363636</td>\n",
       "      <td>0.000000</td>\n",
       "      <td>8.909091</td>\n",
       "      <td>0.000000</td>\n",
       "      <td>0.000000</td>\n",
       "      <td>7.121212</td>\n",
       "    </tr>\n",
       "    <tr>\n",
       "      <th>643687</th>\n",
       "      <td>1827860</td>\n",
       "      <td>2016</td>\n",
       "      <td>3</td>\n",
       "      <td>1</td>\n",
       "      <td>0</td>\n",
       "      <td>0</td>\n",
       "      <td>1</td>\n",
       "      <td>1</td>\n",
       "      <td>0</td>\n",
       "      <td>1</td>\n",
       "      <td>...</td>\n",
       "      <td>0.000000</td>\n",
       "      <td>0.000000</td>\n",
       "      <td>0.294118</td>\n",
       "      <td>0.205882</td>\n",
       "      <td>34.705882</td>\n",
       "      <td>0.000000</td>\n",
       "      <td>10.352941</td>\n",
       "      <td>1.705882</td>\n",
       "      <td>1.705882</td>\n",
       "      <td>23.911765</td>\n",
       "    </tr>\n",
       "    <tr>\n",
       "      <th>643688</th>\n",
       "      <td>1827869</td>\n",
       "      <td>2013</td>\n",
       "      <td>1</td>\n",
       "      <td>1</td>\n",
       "      <td>1</td>\n",
       "      <td>0</td>\n",
       "      <td>0</td>\n",
       "      <td>0</td>\n",
       "      <td>1</td>\n",
       "      <td>0</td>\n",
       "      <td>...</td>\n",
       "      <td>0.000000</td>\n",
       "      <td>0.000000</td>\n",
       "      <td>0.000000</td>\n",
       "      <td>0.000000</td>\n",
       "      <td>0.000000</td>\n",
       "      <td>0.525424</td>\n",
       "      <td>0.000000</td>\n",
       "      <td>0.000000</td>\n",
       "      <td>0.000000</td>\n",
       "      <td>0.000000</td>\n",
       "    </tr>\n",
       "    <tr>\n",
       "      <th>643689</th>\n",
       "      <td>1827869</td>\n",
       "      <td>2014</td>\n",
       "      <td>2</td>\n",
       "      <td>0</td>\n",
       "      <td>0</td>\n",
       "      <td>1</td>\n",
       "      <td>0</td>\n",
       "      <td>0</td>\n",
       "      <td>1</td>\n",
       "      <td>0</td>\n",
       "      <td>...</td>\n",
       "      <td>0.000000</td>\n",
       "      <td>0.666667</td>\n",
       "      <td>0.666667</td>\n",
       "      <td>0.000000</td>\n",
       "      <td>0.000000</td>\n",
       "      <td>8.950000</td>\n",
       "      <td>1.033333</td>\n",
       "      <td>0.083333</td>\n",
       "      <td>0.083333</td>\n",
       "      <td>8.133333</td>\n",
       "    </tr>\n",
       "  </tbody>\n",
       "</table>\n",
       "<p>643690 rows × 164 columns</p>\n",
       "</div>"
      ],
      "text/plain": [
       "         persnr  year  nrEntry  ltue  employed_before  receipt_leh_before  \\\n",
       "0             7  2015        1     0                1                   0   \n",
       "1            18  2010        1     1                0                   0   \n",
       "2            18  2011        2     0                1                   0   \n",
       "3            18  2012        3     0                1                   0   \n",
       "4            18  2012        4     0                1                   0   \n",
       "...         ...   ...      ...   ...              ...                 ...   \n",
       "643685  1827860  2013        1     0                0                   0   \n",
       "643686  1827860  2015        2     1                0                   0   \n",
       "643687  1827860  2016        3     1                0                   0   \n",
       "643688  1827869  2013        1     1                1                   0   \n",
       "643689  1827869  2014        2     0                0                   1   \n",
       "\n",
       "        receipt_lhg_before  se_before  ASU_notue_seeking_before  \\\n",
       "0                        0          0                         1   \n",
       "1                        0          0                         0   \n",
       "2                        1          0                         1   \n",
       "3                        1          0                         1   \n",
       "4                        1          0                         1   \n",
       "...                    ...        ...                       ...   \n",
       "643685                   1          0                         0   \n",
       "643686                   1          0                         1   \n",
       "643687                   1          1                         0   \n",
       "643688                   0          0                         1   \n",
       "643689                   0          0                         1   \n",
       "\n",
       "        ASU_other_before  ...  minijob_tot_dur_byage  ft_tot_dur_byage  \\\n",
       "0                      0  ...               0.000000          0.000000   \n",
       "1                      0  ...               0.000000          0.000000   \n",
       "2                      0  ...               2.714286          2.714286   \n",
       "3                      0  ...               4.200000          4.200000   \n",
       "4                      0  ...               5.460000          5.460000   \n",
       "...                  ...  ...                    ...               ...   \n",
       "643685                 1  ...               0.000000          0.000000   \n",
       "643686                 0  ...               0.000000          0.000000   \n",
       "643687                 1  ...               0.000000          0.000000   \n",
       "643688                 0  ...               0.000000          0.000000   \n",
       "643689                 0  ...               0.000000          0.666667   \n",
       "\n",
       "        befrist_tot_dur_byage  leih_tot_dur_byage  LHG_tot_dur_byage  \\\n",
       "0                   15.043478            0.000000           0.000000   \n",
       "1                    0.000000            0.000000           0.000000   \n",
       "2                    0.000000            0.000000          10.775510   \n",
       "3                    0.000000            0.000000          12.100000   \n",
       "4                    0.000000            0.000000          13.360000   \n",
       "...                       ...                 ...                ...   \n",
       "643685               0.000000            0.000000           0.612903   \n",
       "643686               0.212121            0.212121          17.363636   \n",
       "643687               0.294118            0.205882          34.705882   \n",
       "643688               0.000000            0.000000           0.000000   \n",
       "643689               0.666667            0.000000           0.000000   \n",
       "\n",
       "        LEH_tot_dur_byage  almp_tot_dur_byage  almp_aw_tot_dur_byage  \\\n",
       "0                0.000000            0.000000               0.000000   \n",
       "1                0.000000            0.000000               0.000000   \n",
       "2                0.000000            8.367347               0.000000   \n",
       "3                0.000000            9.400000               0.000000   \n",
       "4                0.000000           10.320000               0.000000   \n",
       "...                   ...                 ...                    ...   \n",
       "643685           0.000000            0.000000               0.000000   \n",
       "643686           0.000000            8.909091               0.000000   \n",
       "643687           0.000000           10.352941               1.705882   \n",
       "643688           0.525424            0.000000               0.000000   \n",
       "643689           8.950000            1.033333               0.083333   \n",
       "\n",
       "        se_tot_dur_byage  seeking1_tot_dur_byage  \n",
       "0               0.000000                0.000000  \n",
       "1               0.000000                0.000000  \n",
       "2               0.000000                9.836735  \n",
       "3               0.000000                9.960000  \n",
       "4               0.000000               10.280000  \n",
       "...                  ...                     ...  \n",
       "643685          0.000000                0.000000  \n",
       "643686          0.000000                7.121212  \n",
       "643687          1.705882               23.911765  \n",
       "643688          0.000000                0.000000  \n",
       "643689          0.083333                8.133333  \n",
       "\n",
       "[643690 rows x 164 columns]"
      ]
     },
     "execution_count": 10,
     "metadata": {},
     "output_type": "execute_result"
    }
   ],
   "source": [
    "siab"
   ]
  },
  {
   "cell_type": "markdown",
   "id": "1f87e805",
   "metadata": {
    "papermill": {
     "duration": 0.010977,
     "end_time": "2025-08-19T19:05:44.118370",
     "exception": false,
     "start_time": "2025-08-19T19:05:44.107393",
     "status": "completed"
    },
    "tags": []
   },
   "source": [
    "# Splitting Data and Setting Training Data Size"
   ]
  },
  {
   "cell_type": "code",
   "execution_count": 11,
   "id": "910ae358",
   "metadata": {
    "execution": {
     "iopub.execute_input": "2025-08-19T19:05:44.145045Z",
     "iopub.status.busy": "2025-08-19T19:05:44.139822Z",
     "iopub.status.idle": "2025-08-19T19:05:45.244348Z",
     "shell.execute_reply": "2025-08-19T19:05:45.243576Z"
    },
    "papermill": {
     "duration": 1.117594,
     "end_time": "2025-08-19T19:05:45.245774",
     "exception": false,
     "start_time": "2025-08-19T19:05:44.128180",
     "status": "completed"
    },
    "tags": []
   },
   "outputs": [],
   "source": [
    "from fairness_multiverse.universe import sample_by_year_size\n",
    "\n",
    "siab_train = sample_by_year_size(siab,\n",
    "                               training_year=universe[\"training_year\"],\n",
    "                               training_size=universe[\"training_size\"])"
   ]
  },
  {
   "cell_type": "code",
   "execution_count": 12,
   "id": "919c8ff5",
   "metadata": {
    "execution": {
     "iopub.execute_input": "2025-08-19T19:05:45.271114Z",
     "iopub.status.busy": "2025-08-19T19:05:45.270610Z",
     "iopub.status.idle": "2025-08-19T19:05:45.276493Z",
     "shell.execute_reply": "2025-08-19T19:05:45.275862Z"
    },
    "papermill": {
     "duration": 0.021792,
     "end_time": "2025-08-19T19:05:45.277857",
     "exception": false,
     "start_time": "2025-08-19T19:05:45.256065",
     "status": "completed"
    },
    "tags": []
   },
   "outputs": [
    {
     "data": {
      "text/plain": [
       "(1000, 164)"
      ]
     },
     "execution_count": 12,
     "metadata": {},
     "output_type": "execute_result"
    }
   ],
   "source": [
    "siab_train.shape"
   ]
  },
  {
   "cell_type": "code",
   "execution_count": 13,
   "id": "feb13bf4",
   "metadata": {
    "execution": {
     "iopub.execute_input": "2025-08-19T19:05:45.306024Z",
     "iopub.status.busy": "2025-08-19T19:05:45.305587Z",
     "iopub.status.idle": "2025-08-19T19:05:45.313368Z",
     "shell.execute_reply": "2025-08-19T19:05:45.312697Z"
    },
    "papermill": {
     "duration": 0.021476,
     "end_time": "2025-08-19T19:05:45.315644",
     "exception": false,
     "start_time": "2025-08-19T19:05:45.294168",
     "status": "completed"
    },
    "tags": []
   },
   "outputs": [
    {
     "data": {
      "text/plain": [
       "year\n",
       "2010    200\n",
       "2011    200\n",
       "2012    200\n",
       "2013    200\n",
       "2014    200\n",
       "dtype: int64"
      ]
     },
     "metadata": {},
     "output_type": "display_data"
    }
   ],
   "source": [
    "display(siab_train.groupby(\"year\").size())"
   ]
  },
  {
   "cell_type": "code",
   "execution_count": 14,
   "id": "0997782f",
   "metadata": {
    "execution": {
     "iopub.execute_input": "2025-08-19T19:05:45.343375Z",
     "iopub.status.busy": "2025-08-19T19:05:45.342915Z",
     "iopub.status.idle": "2025-08-19T19:05:45.626678Z",
     "shell.execute_reply": "2025-08-19T19:05:45.625804Z"
    },
    "papermill": {
     "duration": 0.296953,
     "end_time": "2025-08-19T19:05:45.628181",
     "exception": false,
     "start_time": "2025-08-19T19:05:45.331228",
     "status": "completed"
    },
    "tags": []
   },
   "outputs": [],
   "source": [
    "#siab_train = siab_s[siab_s.year < 2015]\n",
    "siab_calib = siab[siab.year == 2015]\n",
    "siab_test = siab[siab.year == 2016]"
   ]
  },
  {
   "cell_type": "code",
   "execution_count": 15,
   "id": "2c1e4012",
   "metadata": {
    "execution": {
     "iopub.execute_input": "2025-08-19T19:05:45.659559Z",
     "iopub.status.busy": "2025-08-19T19:05:45.659028Z",
     "iopub.status.idle": "2025-08-19T19:05:45.663718Z",
     "shell.execute_reply": "2025-08-19T19:05:45.662891Z"
    },
    "papermill": {
     "duration": 0.023943,
     "end_time": "2025-08-19T19:05:45.665196",
     "exception": false,
     "start_time": "2025-08-19T19:05:45.641253",
     "status": "completed"
    },
    "tags": []
   },
   "outputs": [],
   "source": [
    "#siab_calib.shape"
   ]
  },
  {
   "cell_type": "code",
   "execution_count": 16,
   "id": "f66b54ca",
   "metadata": {
    "execution": {
     "iopub.execute_input": "2025-08-19T19:05:45.686682Z",
     "iopub.status.busy": "2025-08-19T19:05:45.686224Z",
     "iopub.status.idle": "2025-08-19T19:05:45.691041Z",
     "shell.execute_reply": "2025-08-19T19:05:45.689901Z"
    },
    "papermill": {
     "duration": 0.017044,
     "end_time": "2025-08-19T19:05:45.692426",
     "exception": false,
     "start_time": "2025-08-19T19:05:45.675382",
     "status": "completed"
    },
    "tags": []
   },
   "outputs": [],
   "source": [
    "#siab_test.shape"
   ]
  },
  {
   "cell_type": "code",
   "execution_count": 17,
   "id": "27e4384d",
   "metadata": {
    "execution": {
     "iopub.execute_input": "2025-08-19T19:05:45.713581Z",
     "iopub.status.busy": "2025-08-19T19:05:45.713162Z",
     "iopub.status.idle": "2025-08-19T19:05:45.720358Z",
     "shell.execute_reply": "2025-08-19T19:05:45.719162Z"
    },
    "papermill": {
     "duration": 0.019283,
     "end_time": "2025-08-19T19:05:45.721696",
     "exception": false,
     "start_time": "2025-08-19T19:05:45.702413",
     "status": "completed"
    },
    "tags": []
   },
   "outputs": [],
   "source": [
    "X_train = siab_train.iloc[:,4:164]\n",
    "y_train = siab_train.iloc[:, [3]]"
   ]
  },
  {
   "cell_type": "code",
   "execution_count": 18,
   "id": "08ee8389",
   "metadata": {
    "execution": {
     "iopub.execute_input": "2025-08-19T19:05:45.742997Z",
     "iopub.status.busy": "2025-08-19T19:05:45.742561Z",
     "iopub.status.idle": "2025-08-19T19:05:45.798446Z",
     "shell.execute_reply": "2025-08-19T19:05:45.797377Z"
    },
    "papermill": {
     "duration": 0.068139,
     "end_time": "2025-08-19T19:05:45.799910",
     "exception": false,
     "start_time": "2025-08-19T19:05:45.731771",
     "status": "completed"
    },
    "tags": []
   },
   "outputs": [],
   "source": [
    "X_calib = siab_calib.iloc[:,4:164]\n",
    "y_calib = siab_calib.iloc[:, [3]]"
   ]
  },
  {
   "cell_type": "code",
   "execution_count": 19,
   "id": "b7ff42e0",
   "metadata": {
    "execution": {
     "iopub.execute_input": "2025-08-19T19:05:45.824799Z",
     "iopub.status.busy": "2025-08-19T19:05:45.823571Z",
     "iopub.status.idle": "2025-08-19T19:05:45.897338Z",
     "shell.execute_reply": "2025-08-19T19:05:45.896232Z"
    },
    "papermill": {
     "duration": 0.087009,
     "end_time": "2025-08-19T19:05:45.898826",
     "exception": false,
     "start_time": "2025-08-19T19:05:45.811817",
     "status": "completed"
    },
    "tags": []
   },
   "outputs": [],
   "source": [
    "X_test = siab_test.iloc[:,4:164]\n",
    "y_true = siab_test.iloc[:, [3]]"
   ]
  },
  {
   "cell_type": "code",
   "execution_count": 20,
   "id": "0275101e",
   "metadata": {
    "execution": {
     "iopub.execute_input": "2025-08-19T19:05:45.921256Z",
     "iopub.status.busy": "2025-08-19T19:05:45.920706Z",
     "iopub.status.idle": "2025-08-19T19:05:46.029724Z",
     "shell.execute_reply": "2025-08-19T19:05:46.028631Z"
    },
    "papermill": {
     "duration": 0.123523,
     "end_time": "2025-08-19T19:05:46.033020",
     "exception": false,
     "start_time": "2025-08-19T19:05:45.909497",
     "status": "completed"
    },
    "tags": []
   },
   "outputs": [],
   "source": [
    "# Auxiliary data needed downstream in the pipeline\n",
    "\n",
    "org_train = X_train.copy()\n",
    "org_test = X_test.copy()\n",
    "org_calib = X_calib.copy()"
   ]
  },
  {
   "cell_type": "markdown",
   "id": "b461e618",
   "metadata": {
    "papermill": {
     "duration": 0.012351,
     "end_time": "2025-08-19T19:05:46.067668",
     "exception": false,
     "start_time": "2025-08-19T19:05:46.055317",
     "status": "completed"
    },
    "tags": []
   },
   "source": [
    "# Preprocessing Data"
   ]
  },
  {
   "cell_type": "code",
   "execution_count": 21,
   "id": "78e74c4b",
   "metadata": {
    "execution": {
     "iopub.execute_input": "2025-08-19T19:05:46.113095Z",
     "iopub.status.busy": "2025-08-19T19:05:46.112339Z",
     "iopub.status.idle": "2025-08-19T19:05:46.123958Z",
     "shell.execute_reply": "2025-08-19T19:05:46.122574Z"
    },
    "papermill": {
     "duration": 0.049384,
     "end_time": "2025-08-19T19:05:46.127209",
     "exception": false,
     "start_time": "2025-08-19T19:05:46.077825",
     "status": "completed"
    },
    "tags": []
   },
   "outputs": [],
   "source": [
    "# EXCLUDE PROTECTED FEATURES\n",
    "# --------------------------\n",
    "\n",
    "excluded_features = universe[\"exclude_features\"].split(\"-\")\n",
    "excluded_features_dictionary = {\n",
    "    \"nationality\": [\"maxdeutsch1\", \"maxdeutsch.Missing.\"],\n",
    "    \"sex\": [\"frau1\"],\n",
    "    \"age\": [\"age\"],\n",
    "}"
   ]
  },
  {
   "cell_type": "code",
   "execution_count": 22,
   "id": "f8e63555",
   "metadata": {
    "execution": {
     "iopub.execute_input": "2025-08-19T19:05:46.158996Z",
     "iopub.status.busy": "2025-08-19T19:05:46.158672Z",
     "iopub.status.idle": "2025-08-19T19:05:46.163386Z",
     "shell.execute_reply": "2025-08-19T19:05:46.162770Z"
    },
    "papermill": {
     "duration": 0.024751,
     "end_time": "2025-08-19T19:05:46.170484",
     "exception": false,
     "start_time": "2025-08-19T19:05:46.145733",
     "status": "completed"
    },
    "tags": []
   },
   "outputs": [],
   "source": [
    "excluded_features_columns = [\n",
    "    excluded_features_dictionary[f] for f in excluded_features if len(f) > 0 and f != \"none\"\n",
    "]"
   ]
  },
  {
   "cell_type": "code",
   "execution_count": 23,
   "id": "da781f7c",
   "metadata": {
    "execution": {
     "iopub.execute_input": "2025-08-19T19:05:46.212023Z",
     "iopub.status.busy": "2025-08-19T19:05:46.211529Z",
     "iopub.status.idle": "2025-08-19T19:05:46.217667Z",
     "shell.execute_reply": "2025-08-19T19:05:46.217005Z"
    },
    "papermill": {
     "duration": 0.02526,
     "end_time": "2025-08-19T19:05:46.219585",
     "exception": false,
     "start_time": "2025-08-19T19:05:46.194325",
     "status": "completed"
    },
    "tags": []
   },
   "outputs": [],
   "source": [
    "from fairness_multiverse.universe import flatten_once\n",
    "\n",
    "excluded_features_columns = flatten_once(excluded_features_columns)"
   ]
  },
  {
   "cell_type": "code",
   "execution_count": 24,
   "id": "37fef0f0",
   "metadata": {
    "execution": {
     "iopub.execute_input": "2025-08-19T19:05:46.244464Z",
     "iopub.status.busy": "2025-08-19T19:05:46.244001Z",
     "iopub.status.idle": "2025-08-19T19:05:46.255250Z",
     "shell.execute_reply": "2025-08-19T19:05:46.254255Z"
    },
    "papermill": {
     "duration": 0.024001,
     "end_time": "2025-08-19T19:05:46.256750",
     "exception": false,
     "start_time": "2025-08-19T19:05:46.232749",
     "status": "completed"
    },
    "tags": []
   },
   "outputs": [
    {
     "name": "stdout",
     "output_type": "stream",
     "text": [
      "Dropping features: ['frau1']\n"
     ]
    }
   ],
   "source": [
    "if len(excluded_features_columns) > 0:\n",
    "    print(f\"Dropping features: {excluded_features_columns}\")\n",
    "    X_train.drop(excluded_features_columns, axis=1, inplace=True)"
   ]
  },
  {
   "cell_type": "code",
   "execution_count": 25,
   "id": "d029e3e9",
   "metadata": {
    "execution": {
     "iopub.execute_input": "2025-08-19T19:05:46.282427Z",
     "iopub.status.busy": "2025-08-19T19:05:46.281293Z",
     "iopub.status.idle": "2025-08-19T19:05:46.346901Z",
     "shell.execute_reply": "2025-08-19T19:05:46.346229Z"
    },
    "papermill": {
     "duration": 0.078337,
     "end_time": "2025-08-19T19:05:46.348025",
     "exception": false,
     "start_time": "2025-08-19T19:05:46.269688",
     "status": "completed"
    },
    "tags": []
   },
   "outputs": [
    {
     "name": "stdout",
     "output_type": "stream",
     "text": [
      "Dropping features: ['frau1']\n"
     ]
    }
   ],
   "source": [
    "if len(excluded_features_columns) > 0:\n",
    "    print(f\"Dropping features: {excluded_features_columns}\")\n",
    "    X_test.drop(excluded_features_columns, axis=1, inplace=True)"
   ]
  },
  {
   "cell_type": "code",
   "execution_count": 26,
   "id": "01d571f0",
   "metadata": {
    "execution": {
     "iopub.execute_input": "2025-08-19T19:05:46.378891Z",
     "iopub.status.busy": "2025-08-19T19:05:46.378363Z",
     "iopub.status.idle": "2025-08-19T19:05:46.428677Z",
     "shell.execute_reply": "2025-08-19T19:05:46.427917Z"
    },
    "papermill": {
     "duration": 0.069733,
     "end_time": "2025-08-19T19:05:46.429997",
     "exception": false,
     "start_time": "2025-08-19T19:05:46.360264",
     "status": "completed"
    },
    "tags": []
   },
   "outputs": [
    {
     "name": "stdout",
     "output_type": "stream",
     "text": [
      "Dropping features: ['frau1']\n"
     ]
    }
   ],
   "source": [
    "if len(excluded_features_columns) > 0:\n",
    "    print(f\"Dropping features: {excluded_features_columns}\")\n",
    "    X_calib.drop(excluded_features_columns, axis=1, inplace=True)"
   ]
  },
  {
   "cell_type": "code",
   "execution_count": 27,
   "id": "3037356e",
   "metadata": {
    "execution": {
     "iopub.execute_input": "2025-08-19T19:05:46.453457Z",
     "iopub.status.busy": "2025-08-19T19:05:46.452678Z",
     "iopub.status.idle": "2025-08-19T19:05:46.458042Z",
     "shell.execute_reply": "2025-08-19T19:05:46.457435Z"
    },
    "papermill": {
     "duration": 0.017966,
     "end_time": "2025-08-19T19:05:46.459275",
     "exception": false,
     "start_time": "2025-08-19T19:05:46.441309",
     "status": "completed"
    },
    "tags": []
   },
   "outputs": [],
   "source": [
    "# EXCLUDE CERTAIN SUBGROUPS\n",
    "# -------------------------\n",
    "\n",
    "mode = universe.get(\"exclude_subgroups\", \"keep-all\") # Defaults to \"keep-all\" if the key is missing."
   ]
  },
  {
   "cell_type": "code",
   "execution_count": 28,
   "id": "9d1e63fd",
   "metadata": {
    "execution": {
     "iopub.execute_input": "2025-08-19T19:05:46.488739Z",
     "iopub.status.busy": "2025-08-19T19:05:46.488238Z",
     "iopub.status.idle": "2025-08-19T19:05:46.497115Z",
     "shell.execute_reply": "2025-08-19T19:05:46.495440Z"
    },
    "papermill": {
     "duration": 0.023215,
     "end_time": "2025-08-19T19:05:46.499104",
     "exception": false,
     "start_time": "2025-08-19T19:05:46.475889",
     "status": "completed"
    },
    "tags": []
   },
   "outputs": [],
   "source": [
    "if mode == \"keep-all\":\n",
    "    keep_mask = pd.Series(True, index=org_train.index)\n",
    "\n",
    "elif mode == \"drop-non-german\":\n",
    "    keep_mask = (org_train[\"maxdeutsch1\"] == 1) & (org_train[\"maxdeutsch.Missing.\"] == 0)\n",
    "\n",
    "else:\n",
    "    raise ValueError(f\"Unsupported mode for exclude_subgroups: {mode}\")"
   ]
  },
  {
   "cell_type": "code",
   "execution_count": 29,
   "id": "d3b65474",
   "metadata": {
    "execution": {
     "iopub.execute_input": "2025-08-19T19:05:46.523816Z",
     "iopub.status.busy": "2025-08-19T19:05:46.522673Z",
     "iopub.status.idle": "2025-08-19T19:05:46.534801Z",
     "shell.execute_reply": "2025-08-19T19:05:46.533595Z"
    },
    "papermill": {
     "duration": 0.026461,
     "end_time": "2025-08-19T19:05:46.536869",
     "exception": false,
     "start_time": "2025-08-19T19:05:46.510408",
     "status": "completed"
    },
    "tags": []
   },
   "outputs": [],
   "source": [
    "n_drop = (~keep_mask).sum() # Calculates how many rows are set to be dropped\n",
    "if n_drop > 0:\n",
    "    pct = n_drop / len(keep_mask) * 100\n",
    "    print(f\"Dropping {n_drop} rows ({pct:.2f}%) where mode='{mode}'\")"
   ]
  },
  {
   "cell_type": "code",
   "execution_count": 30,
   "id": "f44389b3",
   "metadata": {
    "execution": {
     "iopub.execute_input": "2025-08-19T19:05:46.564196Z",
     "iopub.status.busy": "2025-08-19T19:05:46.562923Z",
     "iopub.status.idle": "2025-08-19T19:05:46.576960Z",
     "shell.execute_reply": "2025-08-19T19:05:46.575703Z"
    },
    "papermill": {
     "duration": 0.028094,
     "end_time": "2025-08-19T19:05:46.578606",
     "exception": false,
     "start_time": "2025-08-19T19:05:46.550512",
     "status": "completed"
    },
    "tags": []
   },
   "outputs": [],
   "source": [
    "X_train = X_train[keep_mask]"
   ]
  },
  {
   "cell_type": "code",
   "execution_count": 31,
   "id": "ceca8c2a",
   "metadata": {
    "execution": {
     "iopub.execute_input": "2025-08-19T19:05:46.607315Z",
     "iopub.status.busy": "2025-08-19T19:05:46.606183Z",
     "iopub.status.idle": "2025-08-19T19:05:46.616927Z",
     "shell.execute_reply": "2025-08-19T19:05:46.615536Z"
    },
    "papermill": {
     "duration": 0.024818,
     "end_time": "2025-08-19T19:05:46.618919",
     "exception": false,
     "start_time": "2025-08-19T19:05:46.594101",
     "status": "completed"
    },
    "tags": []
   },
   "outputs": [],
   "source": [
    "y_train = y_train[keep_mask]"
   ]
  },
  {
   "cell_type": "markdown",
   "id": "04d31e2f",
   "metadata": {
    "papermill": {
     "duration": 0.010538,
     "end_time": "2025-08-19T19:05:46.643392",
     "exception": false,
     "start_time": "2025-08-19T19:05:46.632854",
     "status": "completed"
    },
    "tags": []
   },
   "source": [
    "# Model Training"
   ]
  },
  {
   "cell_type": "code",
   "execution_count": 32,
   "id": "db991733",
   "metadata": {
    "execution": {
     "iopub.execute_input": "2025-08-19T19:05:46.667030Z",
     "iopub.status.busy": "2025-08-19T19:05:46.665909Z",
     "iopub.status.idle": "2025-08-19T19:05:46.784381Z",
     "shell.execute_reply": "2025-08-19T19:05:46.783310Z"
    },
    "papermill": {
     "duration": 0.13403,
     "end_time": "2025-08-19T19:05:46.787804",
     "exception": false,
     "start_time": "2025-08-19T19:05:46.653774",
     "status": "completed"
    },
    "tags": []
   },
   "outputs": [],
   "source": [
    "from sklearn.linear_model import LogisticRegression\n",
    "from sklearn.ensemble import GradientBoostingClassifier, RandomForestClassifier\n",
    "\n",
    "if (universe[\"model\"] == \"logreg\"):\n",
    "    model = LogisticRegression() #penalty=\"none\", solver=\"newton-cg\", max_iter=1)\n",
    "elif (universe[\"model\"] == \"penalized_logreg\"):\n",
    "    model = LogisticRegression(penalty=\"l2\", C=0.1) #, solver=\"newton-cg\", max_iter=1)\n",
    "elif (universe[\"model\"] == \"rf\"):\n",
    "    model = RandomForestClassifier() # n_estimators=100, n_jobs=-1\n",
    "elif (universe[\"model\"] == \"gbm\"):\n",
    "    model = GradientBoostingClassifier()\n",
    "elif (universe[\"model\"] == \"elasticnet\"):\n",
    "    model = LogisticRegression(penalty = 'elasticnet', solver = 'saga', l1_ratio = 0.5) # max_iter=5000\n",
    "else:\n",
    "    raise \"Unsupported universe.model\""
   ]
  },
  {
   "cell_type": "code",
   "execution_count": 33,
   "id": "a4b5cd25",
   "metadata": {
    "execution": {
     "iopub.execute_input": "2025-08-19T19:05:46.826658Z",
     "iopub.status.busy": "2025-08-19T19:05:46.825013Z",
     "iopub.status.idle": "2025-08-19T19:05:46.838028Z",
     "shell.execute_reply": "2025-08-19T19:05:46.835966Z"
    },
    "papermill": {
     "duration": 0.03093,
     "end_time": "2025-08-19T19:05:46.841757",
     "exception": false,
     "start_time": "2025-08-19T19:05:46.810827",
     "status": "completed"
    },
    "tags": []
   },
   "outputs": [],
   "source": [
    "from sklearn.pipeline import Pipeline\n",
    "from sklearn.preprocessing import StandardScaler\n",
    "\n",
    "model = Pipeline([\n",
    "    #(\"continuous_processor\", continuous_processor),\n",
    "    #(\"categorical_preprocessor\", categorical_preprocessor),\n",
    "    (\"scale\", StandardScaler() if universe[\"scale\"] == \"scale\" else None), \n",
    "    (\"model\", model),\n",
    "])"
   ]
  },
  {
   "cell_type": "code",
   "execution_count": 34,
   "id": "283a904d",
   "metadata": {
    "execution": {
     "iopub.execute_input": "2025-08-19T19:05:46.878119Z",
     "iopub.status.busy": "2025-08-19T19:05:46.876980Z",
     "iopub.status.idle": "2025-08-19T19:05:46.937041Z",
     "shell.execute_reply": "2025-08-19T19:05:46.935869Z"
    },
    "papermill": {
     "duration": 0.076755,
     "end_time": "2025-08-19T19:05:46.940291",
     "exception": false,
     "start_time": "2025-08-19T19:05:46.863536",
     "status": "completed"
    },
    "tags": []
   },
   "outputs": [
    {
     "data": {
      "text/html": [
       "<style>#sk-container-id-1 {color: black;background-color: white;}#sk-container-id-1 pre{padding: 0;}#sk-container-id-1 div.sk-toggleable {background-color: white;}#sk-container-id-1 label.sk-toggleable__label {cursor: pointer;display: block;width: 100%;margin-bottom: 0;padding: 0.3em;box-sizing: border-box;text-align: center;}#sk-container-id-1 label.sk-toggleable__label-arrow:before {content: \"▸\";float: left;margin-right: 0.25em;color: #696969;}#sk-container-id-1 label.sk-toggleable__label-arrow:hover:before {color: black;}#sk-container-id-1 div.sk-estimator:hover label.sk-toggleable__label-arrow:before {color: black;}#sk-container-id-1 div.sk-toggleable__content {max-height: 0;max-width: 0;overflow: hidden;text-align: left;background-color: #f0f8ff;}#sk-container-id-1 div.sk-toggleable__content pre {margin: 0.2em;color: black;border-radius: 0.25em;background-color: #f0f8ff;}#sk-container-id-1 input.sk-toggleable__control:checked~div.sk-toggleable__content {max-height: 200px;max-width: 100%;overflow: auto;}#sk-container-id-1 input.sk-toggleable__control:checked~label.sk-toggleable__label-arrow:before {content: \"▾\";}#sk-container-id-1 div.sk-estimator input.sk-toggleable__control:checked~label.sk-toggleable__label {background-color: #d4ebff;}#sk-container-id-1 div.sk-label input.sk-toggleable__control:checked~label.sk-toggleable__label {background-color: #d4ebff;}#sk-container-id-1 input.sk-hidden--visually {border: 0;clip: rect(1px 1px 1px 1px);clip: rect(1px, 1px, 1px, 1px);height: 1px;margin: -1px;overflow: hidden;padding: 0;position: absolute;width: 1px;}#sk-container-id-1 div.sk-estimator {font-family: monospace;background-color: #f0f8ff;border: 1px dotted black;border-radius: 0.25em;box-sizing: border-box;margin-bottom: 0.5em;}#sk-container-id-1 div.sk-estimator:hover {background-color: #d4ebff;}#sk-container-id-1 div.sk-parallel-item::after {content: \"\";width: 100%;border-bottom: 1px solid gray;flex-grow: 1;}#sk-container-id-1 div.sk-label:hover label.sk-toggleable__label {background-color: #d4ebff;}#sk-container-id-1 div.sk-serial::before {content: \"\";position: absolute;border-left: 1px solid gray;box-sizing: border-box;top: 0;bottom: 0;left: 50%;z-index: 0;}#sk-container-id-1 div.sk-serial {display: flex;flex-direction: column;align-items: center;background-color: white;padding-right: 0.2em;padding-left: 0.2em;position: relative;}#sk-container-id-1 div.sk-item {position: relative;z-index: 1;}#sk-container-id-1 div.sk-parallel {display: flex;align-items: stretch;justify-content: center;background-color: white;position: relative;}#sk-container-id-1 div.sk-item::before, #sk-container-id-1 div.sk-parallel-item::before {content: \"\";position: absolute;border-left: 1px solid gray;box-sizing: border-box;top: 0;bottom: 0;left: 50%;z-index: -1;}#sk-container-id-1 div.sk-parallel-item {display: flex;flex-direction: column;z-index: 1;position: relative;background-color: white;}#sk-container-id-1 div.sk-parallel-item:first-child::after {align-self: flex-end;width: 50%;}#sk-container-id-1 div.sk-parallel-item:last-child::after {align-self: flex-start;width: 50%;}#sk-container-id-1 div.sk-parallel-item:only-child::after {width: 0;}#sk-container-id-1 div.sk-dashed-wrapped {border: 1px dashed gray;margin: 0 0.4em 0.5em 0.4em;box-sizing: border-box;padding-bottom: 0.4em;background-color: white;}#sk-container-id-1 div.sk-label label {font-family: monospace;font-weight: bold;display: inline-block;line-height: 1.2em;}#sk-container-id-1 div.sk-label-container {text-align: center;}#sk-container-id-1 div.sk-container {/* jupyter's `normalize.less` sets `[hidden] { display: none; }` but bootstrap.min.css set `[hidden] { display: none !important; }` so we also need the `!important` here to be able to override the default hidden behavior on the sphinx rendered scikit-learn.org. See: https://github.com/scikit-learn/scikit-learn/issues/21755 */display: inline-block !important;position: relative;}#sk-container-id-1 div.sk-text-repr-fallback {display: none;}</style><div id=\"sk-container-id-1\" class=\"sk-top-container\"><div class=\"sk-text-repr-fallback\"><pre>Pipeline(steps=[(&#x27;scale&#x27;, StandardScaler()),\n",
       "                (&#x27;model&#x27;, LogisticRegression(C=0.1))])</pre><b>In a Jupyter environment, please rerun this cell to show the HTML representation or trust the notebook. <br />On GitHub, the HTML representation is unable to render, please try loading this page with nbviewer.org.</b></div><div class=\"sk-container\" hidden><div class=\"sk-item sk-dashed-wrapped\"><div class=\"sk-label-container\"><div class=\"sk-label sk-toggleable\"><input class=\"sk-toggleable__control sk-hidden--visually\" id=\"sk-estimator-id-1\" type=\"checkbox\" ><label for=\"sk-estimator-id-1\" class=\"sk-toggleable__label sk-toggleable__label-arrow\">Pipeline</label><div class=\"sk-toggleable__content\"><pre>Pipeline(steps=[(&#x27;scale&#x27;, StandardScaler()),\n",
       "                (&#x27;model&#x27;, LogisticRegression(C=0.1))])</pre></div></div></div><div class=\"sk-serial\"><div class=\"sk-item\"><div class=\"sk-estimator sk-toggleable\"><input class=\"sk-toggleable__control sk-hidden--visually\" id=\"sk-estimator-id-2\" type=\"checkbox\" ><label for=\"sk-estimator-id-2\" class=\"sk-toggleable__label sk-toggleable__label-arrow\">StandardScaler</label><div class=\"sk-toggleable__content\"><pre>StandardScaler()</pre></div></div></div><div class=\"sk-item\"><div class=\"sk-estimator sk-toggleable\"><input class=\"sk-toggleable__control sk-hidden--visually\" id=\"sk-estimator-id-3\" type=\"checkbox\" ><label for=\"sk-estimator-id-3\" class=\"sk-toggleable__label sk-toggleable__label-arrow\">LogisticRegression</label><div class=\"sk-toggleable__content\"><pre>LogisticRegression(C=0.1)</pre></div></div></div></div></div></div></div>"
      ],
      "text/plain": [
       "Pipeline(steps=[('scale', StandardScaler()),\n",
       "                ('model', LogisticRegression(C=0.1))])"
      ]
     },
     "execution_count": 34,
     "metadata": {},
     "output_type": "execute_result"
    }
   ],
   "source": [
    "model.fit(X_train, y_train.values.ravel())"
   ]
  },
  {
   "cell_type": "code",
   "execution_count": 35,
   "id": "6e15e313",
   "metadata": {
    "execution": {
     "iopub.execute_input": "2025-08-19T19:05:46.977200Z",
     "iopub.status.busy": "2025-08-19T19:05:46.976059Z",
     "iopub.status.idle": "2025-08-19T19:05:47.205732Z",
     "shell.execute_reply": "2025-08-19T19:05:47.205003Z"
    },
    "papermill": {
     "duration": 0.244726,
     "end_time": "2025-08-19T19:05:47.207028",
     "exception": false,
     "start_time": "2025-08-19T19:05:46.962302",
     "status": "completed"
    },
    "tags": []
   },
   "outputs": [
    {
     "data": {
      "text/plain": [
       "0.8387916620220711"
      ]
     },
     "execution_count": 35,
     "metadata": {},
     "output_type": "execute_result"
    }
   ],
   "source": [
    "from fairness_multiverse.universe import predict_w_threshold\n",
    "\n",
    "probs_test = model.predict_proba(X_test)\n",
    "\n",
    "'''\n",
    "Below code returns a boolean array (or binary 0/1 array depending on how it’s used) where each element \n",
    "is True if the probability of class 1 is greater than or equal to the threshold, and False otherwise.\n",
    "'''\n",
    "y_pred_default = predict_w_threshold(probs_test, 0.5)\n",
    "\n",
    "from sklearn.metrics import accuracy_score\n",
    "\n",
    "# Naive prediction\n",
    "accuracy_score(y_true = y_true, y_pred = y_pred_default)"
   ]
  },
  {
   "cell_type": "code",
   "execution_count": 36,
   "id": "6f14067c",
   "metadata": {
    "execution": {
     "iopub.execute_input": "2025-08-19T19:05:47.231929Z",
     "iopub.status.busy": "2025-08-19T19:05:47.231044Z",
     "iopub.status.idle": "2025-08-19T19:05:47.416368Z",
     "shell.execute_reply": "2025-08-19T19:05:47.415237Z"
    },
    "papermill": {
     "duration": 0.201221,
     "end_time": "2025-08-19T19:05:47.419969",
     "exception": false,
     "start_time": "2025-08-19T19:05:47.218748",
     "status": "completed"
    },
    "tags": []
   },
   "outputs": [
    {
     "data": {
      "text/plain": [
       "array([0, 0, 0, ..., 0, 0, 0])"
      ]
     },
     "execution_count": 36,
     "metadata": {},
     "output_type": "execute_result"
    }
   ],
   "source": [
    "model.predict(X_test)"
   ]
  },
  {
   "cell_type": "markdown",
   "id": "3759920c",
   "metadata": {
    "papermill": {
     "duration": 0.011421,
     "end_time": "2025-08-19T19:05:47.457270",
     "exception": false,
     "start_time": "2025-08-19T19:05:47.445849",
     "status": "completed"
    },
    "tags": []
   },
   "source": [
    "# Conformal Prediction"
   ]
  },
  {
   "cell_type": "code",
   "execution_count": 37,
   "id": "14b27f59",
   "metadata": {
    "execution": {
     "iopub.execute_input": "2025-08-19T19:05:47.501920Z",
     "iopub.status.busy": "2025-08-19T19:05:47.501439Z",
     "iopub.status.idle": "2025-08-19T19:05:47.506013Z",
     "shell.execute_reply": "2025-08-19T19:05:47.505272Z"
    },
    "papermill": {
     "duration": 0.020455,
     "end_time": "2025-08-19T19:05:47.507351",
     "exception": false,
     "start_time": "2025-08-19T19:05:47.486896",
     "status": "completed"
    },
    "tags": []
   },
   "outputs": [],
   "source": [
    "# Miscoverage level for conformal prediction (10% allowed error rate => 90% target coverage)\n",
    "alpha = 0.1"
   ]
  },
  {
   "cell_type": "code",
   "execution_count": 38,
   "id": "59102472",
   "metadata": {
    "execution": {
     "iopub.execute_input": "2025-08-19T19:05:47.531230Z",
     "iopub.status.busy": "2025-08-19T19:05:47.530778Z",
     "iopub.status.idle": "2025-08-19T19:05:47.717040Z",
     "shell.execute_reply": "2025-08-19T19:05:47.716330Z"
    },
    "papermill": {
     "duration": 0.199712,
     "end_time": "2025-08-19T19:05:47.718480",
     "exception": false,
     "start_time": "2025-08-19T19:05:47.518768",
     "status": "completed"
    },
    "tags": []
   },
   "outputs": [],
   "source": [
    "probs_calib = model.predict_proba(X_calib)"
   ]
  },
  {
   "cell_type": "code",
   "execution_count": 39,
   "id": "a792d4dd",
   "metadata": {
    "execution": {
     "iopub.execute_input": "2025-08-19T19:05:47.749535Z",
     "iopub.status.busy": "2025-08-19T19:05:47.743669Z",
     "iopub.status.idle": "2025-08-19T19:05:47.757538Z",
     "shell.execute_reply": "2025-08-19T19:05:47.756520Z"
    },
    "papermill": {
     "duration": 0.032017,
     "end_time": "2025-08-19T19:05:47.763002",
     "exception": false,
     "start_time": "2025-08-19T19:05:47.730985",
     "status": "completed"
    },
    "tags": []
   },
   "outputs": [],
   "source": [
    "y_calib = y_calib.values.ravel().astype(int)"
   ]
  },
  {
   "cell_type": "code",
   "execution_count": 40,
   "id": "650fd033",
   "metadata": {
    "execution": {
     "iopub.execute_input": "2025-08-19T19:05:47.793246Z",
     "iopub.status.busy": "2025-08-19T19:05:47.792770Z",
     "iopub.status.idle": "2025-08-19T19:05:47.799776Z",
     "shell.execute_reply": "2025-08-19T19:05:47.799067Z"
    },
    "papermill": {
     "duration": 0.021766,
     "end_time": "2025-08-19T19:05:47.801562",
     "exception": false,
     "start_time": "2025-08-19T19:05:47.779796",
     "status": "completed"
    },
    "tags": []
   },
   "outputs": [],
   "source": [
    "from fairness_multiverse.conformal import compute_nc_scores\n",
    "\n",
    "# Compute nonconformity scores on calibration set (1 - probability of true class)\n",
    "nc_scores = compute_nc_scores(probs_calib, y_calib)"
   ]
  },
  {
   "cell_type": "code",
   "execution_count": 41,
   "id": "28ada44c",
   "metadata": {
    "execution": {
     "iopub.execute_input": "2025-08-19T19:05:47.826920Z",
     "iopub.status.busy": "2025-08-19T19:05:47.826434Z",
     "iopub.status.idle": "2025-08-19T19:05:47.831933Z",
     "shell.execute_reply": "2025-08-19T19:05:47.831219Z"
    },
    "papermill": {
     "duration": 0.020825,
     "end_time": "2025-08-19T19:05:47.834801",
     "exception": false,
     "start_time": "2025-08-19T19:05:47.813976",
     "status": "completed"
    },
    "tags": []
   },
   "outputs": [],
   "source": [
    "from fairness_multiverse.conformal import find_threshold\n",
    "\n",
    "# Find conformal threshold q_hat for the given alpha (split conformal method)\n",
    "q_hat = find_threshold(nc_scores, alpha)"
   ]
  },
  {
   "cell_type": "code",
   "execution_count": 42,
   "id": "df56469e",
   "metadata": {
    "execution": {
     "iopub.execute_input": "2025-08-19T19:05:47.861324Z",
     "iopub.status.busy": "2025-08-19T19:05:47.861022Z",
     "iopub.status.idle": "2025-08-19T19:05:47.866665Z",
     "shell.execute_reply": "2025-08-19T19:05:47.865988Z"
    },
    "papermill": {
     "duration": 0.019788,
     "end_time": "2025-08-19T19:05:47.868121",
     "exception": false,
     "start_time": "2025-08-19T19:05:47.848333",
     "status": "completed"
    },
    "tags": []
   },
   "outputs": [
    {
     "data": {
      "text/plain": [
       "0.7292479748565734"
      ]
     },
     "execution_count": 42,
     "metadata": {},
     "output_type": "execute_result"
    }
   ],
   "source": [
    "q_hat"
   ]
  },
  {
   "cell_type": "code",
   "execution_count": 43,
   "id": "aa1f5faa",
   "metadata": {
    "execution": {
     "iopub.execute_input": "2025-08-19T19:05:47.893731Z",
     "iopub.status.busy": "2025-08-19T19:05:47.893049Z",
     "iopub.status.idle": "2025-08-19T19:05:48.520216Z",
     "shell.execute_reply": "2025-08-19T19:05:48.519388Z"
    },
    "papermill": {
     "duration": 0.641422,
     "end_time": "2025-08-19T19:05:48.521908",
     "exception": false,
     "start_time": "2025-08-19T19:05:47.880486",
     "status": "completed"
    },
    "tags": []
   },
   "outputs": [],
   "source": [
    "from fairness_multiverse.conformal import predict_conformal_sets\n",
    "\n",
    "# Generate prediction sets for each test example\n",
    "pred_sets = predict_conformal_sets(model, X_test, q_hat)"
   ]
  },
  {
   "cell_type": "code",
   "execution_count": 44,
   "id": "97f67a6b",
   "metadata": {
    "execution": {
     "iopub.execute_input": "2025-08-19T19:05:48.547299Z",
     "iopub.status.busy": "2025-08-19T19:05:48.546373Z",
     "iopub.status.idle": "2025-08-19T19:05:48.552343Z",
     "shell.execute_reply": "2025-08-19T19:05:48.551467Z"
    },
    "papermill": {
     "duration": 0.019756,
     "end_time": "2025-08-19T19:05:48.553583",
     "exception": false,
     "start_time": "2025-08-19T19:05:48.533827",
     "status": "completed"
    },
    "tags": []
   },
   "outputs": [],
   "source": [
    "y_true = y_true.squeeze()"
   ]
  },
  {
   "cell_type": "code",
   "execution_count": 45,
   "id": "e700e9a7",
   "metadata": {
    "execution": {
     "iopub.execute_input": "2025-08-19T19:05:48.580168Z",
     "iopub.status.busy": "2025-08-19T19:05:48.579275Z",
     "iopub.status.idle": "2025-08-19T19:05:49.087864Z",
     "shell.execute_reply": "2025-08-19T19:05:49.086693Z"
    },
    "papermill": {
     "duration": 0.523829,
     "end_time": "2025-08-19T19:05:49.089518",
     "exception": false,
     "start_time": "2025-08-19T19:05:48.565689",
     "status": "completed"
    },
    "tags": []
   },
   "outputs": [],
   "source": [
    "from fairness_multiverse.conformal import evaluate_sets\n",
    "\n",
    "# Evaluate coverage and average set size on test data\n",
    "metrics = evaluate_sets(pred_sets, y_true)"
   ]
  },
  {
   "cell_type": "markdown",
   "id": "efbacec0",
   "metadata": {
    "papermill": {
     "duration": 0.011561,
     "end_time": "2025-08-19T19:05:49.113665",
     "exception": false,
     "start_time": "2025-08-19T19:05:49.102104",
     "status": "completed"
    },
    "tags": []
   },
   "source": [
    "# CP Metrics"
   ]
  },
  {
   "cell_type": "code",
   "execution_count": 46,
   "id": "9de55fb1",
   "metadata": {
    "execution": {
     "iopub.execute_input": "2025-08-19T19:05:49.138940Z",
     "iopub.status.busy": "2025-08-19T19:05:49.137886Z",
     "iopub.status.idle": "2025-08-19T19:05:49.144411Z",
     "shell.execute_reply": "2025-08-19T19:05:49.143810Z"
    },
    "papermill": {
     "duration": 0.020406,
     "end_time": "2025-08-19T19:05:49.145512",
     "exception": false,
     "start_time": "2025-08-19T19:05:49.125106",
     "status": "completed"
    },
    "tags": []
   },
   "outputs": [
    {
     "data": {
      "text/plain": [
       "{'coverage': 0.9096979155055178, 'avg_size': 1.192587225504403}"
      ]
     },
     "execution_count": 46,
     "metadata": {},
     "output_type": "execute_result"
    }
   ],
   "source": [
    "metrics"
   ]
  },
  {
   "cell_type": "code",
   "execution_count": 47,
   "id": "64c340a1",
   "metadata": {
    "execution": {
     "iopub.execute_input": "2025-08-19T19:05:49.174810Z",
     "iopub.status.busy": "2025-08-19T19:05:49.174207Z",
     "iopub.status.idle": "2025-08-19T19:05:49.186699Z",
     "shell.execute_reply": "2025-08-19T19:05:49.185542Z"
    },
    "papermill": {
     "duration": 0.027504,
     "end_time": "2025-08-19T19:05:49.188517",
     "exception": false,
     "start_time": "2025-08-19T19:05:49.161013",
     "status": "completed"
    },
    "tags": []
   },
   "outputs": [],
   "source": [
    "example_universe = universe.copy()\n",
    "universe_training_year = example_universe.get(\"training_year\")\n",
    "universe_training_size = example_universe.get(\"training_size\")\n",
    "universe_scale = example_universe.get(\"scale\")\n",
    "universe_model = example_universe.get(\"model\")\n",
    "universe_exclude_features = example_universe.get(\"exclude_features\")\n",
    "universe_exclude_subgroups = example_universe.get(\"exclude_subgroups\")"
   ]
  },
  {
   "cell_type": "code",
   "execution_count": 48,
   "id": "dbb53cb4",
   "metadata": {
    "execution": {
     "iopub.execute_input": "2025-08-19T19:05:49.220945Z",
     "iopub.status.busy": "2025-08-19T19:05:49.220652Z",
     "iopub.status.idle": "2025-08-19T19:05:49.225683Z",
     "shell.execute_reply": "2025-08-19T19:05:49.224971Z"
    },
    "papermill": {
     "duration": 0.020904,
     "end_time": "2025-08-19T19:05:49.227372",
     "exception": false,
     "start_time": "2025-08-19T19:05:49.206468",
     "status": "completed"
    },
    "tags": []
   },
   "outputs": [],
   "source": [
    "cp_metrics_dict = {\n",
    "    \"universe_id\": [universe_id],\n",
    "    \"universe_training_year\": [universe_training_year],\n",
    "    \"universe_training_size\": [universe_training_size],\n",
    "    \"universe_scale\": [universe_scale],\n",
    "    \"universe_model\": [universe_model],\n",
    "    \"universe_exclude_features\": [universe_exclude_features],\n",
    "    \"universe_exclude_subgroups\": [universe_exclude_subgroups],\n",
    "    \"q_hat\": [q_hat],\n",
    "    \"coverage\": [metrics[\"coverage\"]],\n",
    "    \"avg_size\": [metrics[\"avg_size\"]],\n",
    "}"
   ]
  },
  {
   "cell_type": "code",
   "execution_count": 49,
   "id": "0d70d4b2",
   "metadata": {
    "execution": {
     "iopub.execute_input": "2025-08-19T19:05:49.268903Z",
     "iopub.status.busy": "2025-08-19T19:05:49.268494Z",
     "iopub.status.idle": "2025-08-19T19:05:49.274391Z",
     "shell.execute_reply": "2025-08-19T19:05:49.273647Z"
    },
    "papermill": {
     "duration": 0.023053,
     "end_time": "2025-08-19T19:05:49.275784",
     "exception": false,
     "start_time": "2025-08-19T19:05:49.252731",
     "status": "completed"
    },
    "tags": []
   },
   "outputs": [],
   "source": [
    "cp_metrics_df = pd.DataFrame(cp_metrics_dict)"
   ]
  },
  {
   "cell_type": "code",
   "execution_count": 50,
   "id": "b494403c",
   "metadata": {
    "execution": {
     "iopub.execute_input": "2025-08-19T19:05:49.301753Z",
     "iopub.status.busy": "2025-08-19T19:05:49.301434Z",
     "iopub.status.idle": "2025-08-19T19:05:49.336020Z",
     "shell.execute_reply": "2025-08-19T19:05:49.335271Z"
    },
    "papermill": {
     "duration": 0.049252,
     "end_time": "2025-08-19T19:05:49.337657",
     "exception": false,
     "start_time": "2025-08-19T19:05:49.288405",
     "status": "completed"
    },
    "tags": []
   },
   "outputs": [
    {
     "data": {
      "text/html": [
       "<div>\n",
       "<style scoped>\n",
       "    .dataframe tbody tr th:only-of-type {\n",
       "        vertical-align: middle;\n",
       "    }\n",
       "\n",
       "    .dataframe tbody tr th {\n",
       "        vertical-align: top;\n",
       "    }\n",
       "\n",
       "    .dataframe thead th {\n",
       "        text-align: right;\n",
       "    }\n",
       "</style>\n",
       "<table border=\"1\" class=\"dataframe\">\n",
       "  <thead>\n",
       "    <tr style=\"text-align: right;\">\n",
       "      <th></th>\n",
       "      <th>universe_id</th>\n",
       "      <th>universe_training_year</th>\n",
       "      <th>universe_training_size</th>\n",
       "      <th>universe_scale</th>\n",
       "      <th>universe_model</th>\n",
       "      <th>universe_exclude_features</th>\n",
       "      <th>universe_exclude_subgroups</th>\n",
       "      <th>q_hat</th>\n",
       "      <th>coverage</th>\n",
       "      <th>avg_size</th>\n",
       "    </tr>\n",
       "  </thead>\n",
       "  <tbody>\n",
       "    <tr>\n",
       "      <th>0</th>\n",
       "      <td>83fff83e202bca523744db0f565149c5</td>\n",
       "      <td>2010_14</td>\n",
       "      <td>1k</td>\n",
       "      <td>scale</td>\n",
       "      <td>penalized_logreg</td>\n",
       "      <td>sex</td>\n",
       "      <td>keep-all</td>\n",
       "      <td>0.729248</td>\n",
       "      <td>0.909698</td>\n",
       "      <td>1.192587</td>\n",
       "    </tr>\n",
       "  </tbody>\n",
       "</table>\n",
       "</div>"
      ],
      "text/plain": [
       "                        universe_id universe_training_year  \\\n",
       "0  83fff83e202bca523744db0f565149c5                2010_14   \n",
       "\n",
       "  universe_training_size universe_scale    universe_model  \\\n",
       "0                     1k          scale  penalized_logreg   \n",
       "\n",
       "  universe_exclude_features universe_exclude_subgroups     q_hat  coverage  \\\n",
       "0                       sex                   keep-all  0.729248  0.909698   \n",
       "\n",
       "   avg_size  \n",
       "0  1.192587  "
      ]
     },
     "execution_count": 50,
     "metadata": {},
     "output_type": "execute_result"
    }
   ],
   "source": [
    "cp_metrics_df"
   ]
  },
  {
   "cell_type": "markdown",
   "id": "ed608b0b",
   "metadata": {
    "papermill": {
     "duration": 0.011954,
     "end_time": "2025-08-19T19:05:49.365068",
     "exception": false,
     "start_time": "2025-08-19T19:05:49.353114",
     "status": "completed"
    },
    "tags": []
   },
   "source": [
    "Conditional coverage & looking at subgroups"
   ]
  },
  {
   "cell_type": "code",
   "execution_count": 51,
   "id": "8968c366",
   "metadata": {
    "execution": {
     "iopub.execute_input": "2025-08-19T19:05:49.390629Z",
     "iopub.status.busy": "2025-08-19T19:05:49.390222Z",
     "iopub.status.idle": "2025-08-19T19:05:49.651697Z",
     "shell.execute_reply": "2025-08-19T19:05:49.650982Z"
    },
    "papermill": {
     "duration": 0.275671,
     "end_time": "2025-08-19T19:05:49.653104",
     "exception": false,
     "start_time": "2025-08-19T19:05:49.377433",
     "status": "completed"
    },
    "tags": []
   },
   "outputs": [],
   "source": [
    "from fairness_multiverse.conformal import build_cp_groups\n",
    "\n",
    "cp_groups_df = build_cp_groups(pred_sets, y_true, X_test.index, org_test)"
   ]
  },
  {
   "cell_type": "code",
   "execution_count": 52,
   "id": "292ddabf",
   "metadata": {
    "execution": {
     "iopub.execute_input": "2025-08-19T19:05:49.679806Z",
     "iopub.status.busy": "2025-08-19T19:05:49.678651Z",
     "iopub.status.idle": "2025-08-19T19:05:50.539203Z",
     "shell.execute_reply": "2025-08-19T19:05:50.538095Z"
    },
    "papermill": {
     "duration": 0.875027,
     "end_time": "2025-08-19T19:05:50.540678",
     "exception": false,
     "start_time": "2025-08-19T19:05:49.665651",
     "status": "completed"
    },
    "tags": []
   },
   "outputs": [],
   "source": [
    "# Define covered = 1 if true_label is in the predicted set\n",
    "cp_groups_df['covered'] = cp_groups_df.apply(\n",
    "    lambda r: int(r['true_label'] in r['pred_set']),\n",
    "    axis=1\n",
    ")"
   ]
  },
  {
   "cell_type": "code",
   "execution_count": 53,
   "id": "3a261692",
   "metadata": {
    "execution": {
     "iopub.execute_input": "2025-08-19T19:05:50.571171Z",
     "iopub.status.busy": "2025-08-19T19:05:50.569391Z",
     "iopub.status.idle": "2025-08-19T19:05:50.590164Z",
     "shell.execute_reply": "2025-08-19T19:05:50.589286Z"
    },
    "papermill": {
     "duration": 0.038742,
     "end_time": "2025-08-19T19:05:50.591894",
     "exception": false,
     "start_time": "2025-08-19T19:05:50.553152",
     "status": "completed"
    },
    "tags": []
   },
   "outputs": [],
   "source": [
    "subgroups = ['frau1','nongerman','nongerman_male','nongerman_female']\n",
    "\n",
    "# Conditional coverage for subgroup==1\n",
    "cond_coverage = {\n",
    "    g: cp_groups_df.loc[cp_groups_df[g]==1, 'covered'].mean()\n",
    "    for g in subgroups\n",
    "}"
   ]
  },
  {
   "cell_type": "code",
   "execution_count": 54,
   "id": "894fd600",
   "metadata": {
    "execution": {
     "iopub.execute_input": "2025-08-19T19:05:50.629144Z",
     "iopub.status.busy": "2025-08-19T19:05:50.627845Z",
     "iopub.status.idle": "2025-08-19T19:05:50.638552Z",
     "shell.execute_reply": "2025-08-19T19:05:50.637719Z"
    },
    "papermill": {
     "duration": 0.0263,
     "end_time": "2025-08-19T19:05:50.639696",
     "exception": false,
     "start_time": "2025-08-19T19:05:50.613396",
     "status": "completed"
    },
    "tags": []
   },
   "outputs": [
    {
     "data": {
      "text/plain": [
       "{'frau1': 0.9106078986386306,\n",
       " 'nongerman': 0.9140515353954977,\n",
       " 'nongerman_male': 0.9274970728631902,\n",
       " 'nongerman_female': 0.8918032786885246}"
      ]
     },
     "execution_count": 54,
     "metadata": {},
     "output_type": "execute_result"
    }
   ],
   "source": [
    "cond_coverage"
   ]
  },
  {
   "cell_type": "code",
   "execution_count": 55,
   "id": "942895c7",
   "metadata": {
    "execution": {
     "iopub.execute_input": "2025-08-19T19:05:50.665354Z",
     "iopub.status.busy": "2025-08-19T19:05:50.664996Z",
     "iopub.status.idle": "2025-08-19T19:05:50.671446Z",
     "shell.execute_reply": "2025-08-19T19:05:50.670581Z"
    },
    "papermill": {
     "duration": 0.020675,
     "end_time": "2025-08-19T19:05:50.672658",
     "exception": false,
     "start_time": "2025-08-19T19:05:50.651983",
     "status": "completed"
    },
    "tags": []
   },
   "outputs": [],
   "source": [
    "for subgroup, cov in cond_coverage.items():\n",
    "    cp_metrics_df[f\"cov_{subgroup}\"] = cov"
   ]
  },
  {
   "cell_type": "code",
   "execution_count": 56,
   "id": "3970120f",
   "metadata": {
    "execution": {
     "iopub.execute_input": "2025-08-19T19:05:50.698964Z",
     "iopub.status.busy": "2025-08-19T19:05:50.698540Z",
     "iopub.status.idle": "2025-08-19T19:05:50.721220Z",
     "shell.execute_reply": "2025-08-19T19:05:50.719986Z"
    },
    "papermill": {
     "duration": 0.03799,
     "end_time": "2025-08-19T19:05:50.723518",
     "exception": false,
     "start_time": "2025-08-19T19:05:50.685528",
     "status": "completed"
    },
    "tags": []
   },
   "outputs": [
    {
     "data": {
      "text/html": [
       "<div>\n",
       "<style scoped>\n",
       "    .dataframe tbody tr th:only-of-type {\n",
       "        vertical-align: middle;\n",
       "    }\n",
       "\n",
       "    .dataframe tbody tr th {\n",
       "        vertical-align: top;\n",
       "    }\n",
       "\n",
       "    .dataframe thead th {\n",
       "        text-align: right;\n",
       "    }\n",
       "</style>\n",
       "<table border=\"1\" class=\"dataframe\">\n",
       "  <thead>\n",
       "    <tr style=\"text-align: right;\">\n",
       "      <th></th>\n",
       "      <th>universe_id</th>\n",
       "      <th>universe_training_year</th>\n",
       "      <th>universe_training_size</th>\n",
       "      <th>universe_scale</th>\n",
       "      <th>universe_model</th>\n",
       "      <th>universe_exclude_features</th>\n",
       "      <th>universe_exclude_subgroups</th>\n",
       "      <th>q_hat</th>\n",
       "      <th>coverage</th>\n",
       "      <th>avg_size</th>\n",
       "      <th>cov_frau1</th>\n",
       "      <th>cov_nongerman</th>\n",
       "      <th>cov_nongerman_male</th>\n",
       "      <th>cov_nongerman_female</th>\n",
       "    </tr>\n",
       "  </thead>\n",
       "  <tbody>\n",
       "    <tr>\n",
       "      <th>0</th>\n",
       "      <td>83fff83e202bca523744db0f565149c5</td>\n",
       "      <td>2010_14</td>\n",
       "      <td>1k</td>\n",
       "      <td>scale</td>\n",
       "      <td>penalized_logreg</td>\n",
       "      <td>sex</td>\n",
       "      <td>keep-all</td>\n",
       "      <td>0.729248</td>\n",
       "      <td>0.909698</td>\n",
       "      <td>1.192587</td>\n",
       "      <td>0.910608</td>\n",
       "      <td>0.914052</td>\n",
       "      <td>0.927497</td>\n",
       "      <td>0.891803</td>\n",
       "    </tr>\n",
       "  </tbody>\n",
       "</table>\n",
       "</div>"
      ],
      "text/plain": [
       "                        universe_id universe_training_year  \\\n",
       "0  83fff83e202bca523744db0f565149c5                2010_14   \n",
       "\n",
       "  universe_training_size universe_scale    universe_model  \\\n",
       "0                     1k          scale  penalized_logreg   \n",
       "\n",
       "  universe_exclude_features universe_exclude_subgroups     q_hat  coverage  \\\n",
       "0                       sex                   keep-all  0.729248  0.909698   \n",
       "\n",
       "   avg_size  cov_frau1  cov_nongerman  cov_nongerman_male  \\\n",
       "0  1.192587   0.910608       0.914052            0.927497   \n",
       "\n",
       "   cov_nongerman_female  \n",
       "0              0.891803  "
      ]
     },
     "execution_count": 56,
     "metadata": {},
     "output_type": "execute_result"
    }
   ],
   "source": [
    "cp_metrics_df"
   ]
  },
  {
   "cell_type": "markdown",
   "id": "3fc519cc",
   "metadata": {
    "papermill": {
     "duration": 0.012279,
     "end_time": "2025-08-19T19:05:50.752714",
     "exception": false,
     "start_time": "2025-08-19T19:05:50.740435",
     "status": "completed"
    },
    "tags": []
   },
   "source": [
    "# (Fairness) Metrics"
   ]
  },
  {
   "cell_type": "code",
   "execution_count": 57,
   "id": "a2e5e155",
   "metadata": {
    "execution": {
     "iopub.execute_input": "2025-08-19T19:05:50.778384Z",
     "iopub.status.busy": "2025-08-19T19:05:50.777982Z",
     "iopub.status.idle": "2025-08-19T19:05:50.794639Z",
     "shell.execute_reply": "2025-08-19T19:05:50.793306Z"
    },
    "papermill": {
     "duration": 0.03103,
     "end_time": "2025-08-19T19:05:50.795870",
     "exception": false,
     "start_time": "2025-08-19T19:05:50.764840",
     "status": "completed"
    },
    "tags": []
   },
   "outputs": [],
   "source": [
    "colname_to_bin = \"maxdeutsch1\"\n",
    "majority_value = org_train[colname_to_bin].mode()[0]\n",
    "\n",
    "org_test[\"majmin\"] = np.where(org_test[colname_to_bin] == majority_value, \"majority\", \"minority\")"
   ]
  },
  {
   "cell_type": "code",
   "execution_count": 58,
   "id": "17e3e4d5",
   "metadata": {
    "execution": {
     "iopub.execute_input": "2025-08-19T19:05:50.824358Z",
     "iopub.status.busy": "2025-08-19T19:05:50.823278Z",
     "iopub.status.idle": "2025-08-19T19:05:52.563966Z",
     "shell.execute_reply": "2025-08-19T19:05:52.562768Z"
    },
    "papermill": {
     "duration": 1.757084,
     "end_time": "2025-08-19T19:05:52.565599",
     "exception": false,
     "start_time": "2025-08-19T19:05:50.808515",
     "status": "completed"
    },
    "tags": []
   },
   "outputs": [],
   "source": [
    "example_universe = universe.copy()\n",
    "example_universe[\"cutoff\"] = example_universe[\"cutoff\"][0]\n",
    "example_universe[\"eval_fairness_grouping\"] = example_universe[\"eval_fairness_grouping\"][0]\n",
    "fairness_dict, metric_frame = universe_analysis.compute_metrics(\n",
    "    example_universe,\n",
    "    y_pred_prob=probs_test,\n",
    "    y_test=y_true,\n",
    "    org_test=org_test,\n",
    ")"
   ]
  },
  {
   "cell_type": "markdown",
   "id": "1fb7a0e9",
   "metadata": {
    "papermill": {
     "duration": 0.01339,
     "end_time": "2025-08-19T19:05:52.594366",
     "exception": false,
     "start_time": "2025-08-19T19:05:52.580976",
     "status": "completed"
    },
    "tags": []
   },
   "source": [
    "# Overall"
   ]
  },
  {
   "cell_type": "markdown",
   "id": "be1784b1",
   "metadata": {
    "papermill": {
     "duration": 0.012156,
     "end_time": "2025-08-19T19:05:52.618775",
     "exception": false,
     "start_time": "2025-08-19T19:05:52.606619",
     "status": "completed"
    },
    "tags": []
   },
   "source": [
    "Main fairness target: Equalized Odds. Seems to be a better fit than equal opportunity, since we're not only interested in Y = 1. Seems to be a better fit than demographic parity, since we also care about accuracy, not just equal distribution of preds.\n",
    "\n",
    "Pick column for computation of fairness metrics\n",
    "\n",
    "Performance\n",
    "Overall performance measures, most interesting in relation to the measures split by group below"
   ]
  },
  {
   "cell_type": "code",
   "execution_count": 59,
   "id": "b7672bee",
   "metadata": {
    "execution": {
     "iopub.execute_input": "2025-08-19T19:05:52.646412Z",
     "iopub.status.busy": "2025-08-19T19:05:52.645346Z",
     "iopub.status.idle": "2025-08-19T19:05:52.663054Z",
     "shell.execute_reply": "2025-08-19T19:05:52.661787Z"
    },
    "papermill": {
     "duration": 0.033761,
     "end_time": "2025-08-19T19:05:52.664667",
     "exception": false,
     "start_time": "2025-08-19T19:05:52.630906",
     "status": "completed"
    },
    "tags": []
   },
   "outputs": [
    {
     "data": {
      "text/plain": [
       "accuracy                   0.220210\n",
       "balanced accuracy          0.539315\n",
       "f1                         0.241656\n",
       "precision                  0.138050\n",
       "false positive rate        0.889913\n",
       "false negative rate        0.031456\n",
       "selection rate             0.900000\n",
       "count                  89710.000000\n",
       "dtype: float64"
      ]
     },
     "execution_count": 59,
     "metadata": {},
     "output_type": "execute_result"
    }
   ],
   "source": [
    "metric_frame.overall"
   ]
  },
  {
   "cell_type": "markdown",
   "id": "d93333c9",
   "metadata": {
    "papermill": {
     "duration": 0.013115,
     "end_time": "2025-08-19T19:05:52.696428",
     "exception": false,
     "start_time": "2025-08-19T19:05:52.683313",
     "status": "completed"
    },
    "tags": []
   },
   "source": [
    "By Group"
   ]
  },
  {
   "cell_type": "code",
   "execution_count": 60,
   "id": "52256966",
   "metadata": {
    "execution": {
     "iopub.execute_input": "2025-08-19T19:05:52.724324Z",
     "iopub.status.busy": "2025-08-19T19:05:52.722697Z",
     "iopub.status.idle": "2025-08-19T19:05:52.748433Z",
     "shell.execute_reply": "2025-08-19T19:05:52.747452Z"
    },
    "papermill": {
     "duration": 0.04149,
     "end_time": "2025-08-19T19:05:52.750193",
     "exception": false,
     "start_time": "2025-08-19T19:05:52.708703",
     "status": "completed"
    },
    "tags": []
   },
   "outputs": [
    {
     "data": {
      "text/html": [
       "<div>\n",
       "<style scoped>\n",
       "    .dataframe tbody tr th:only-of-type {\n",
       "        vertical-align: middle;\n",
       "    }\n",
       "\n",
       "    .dataframe tbody tr th {\n",
       "        vertical-align: top;\n",
       "    }\n",
       "\n",
       "    .dataframe thead th {\n",
       "        text-align: right;\n",
       "    }\n",
       "</style>\n",
       "<table border=\"1\" class=\"dataframe\">\n",
       "  <thead>\n",
       "    <tr style=\"text-align: right;\">\n",
       "      <th></th>\n",
       "      <th>accuracy</th>\n",
       "      <th>balanced accuracy</th>\n",
       "      <th>f1</th>\n",
       "      <th>precision</th>\n",
       "      <th>false positive rate</th>\n",
       "      <th>false negative rate</th>\n",
       "      <th>selection rate</th>\n",
       "      <th>count</th>\n",
       "    </tr>\n",
       "    <tr>\n",
       "      <th>majmin</th>\n",
       "      <th></th>\n",
       "      <th></th>\n",
       "      <th></th>\n",
       "      <th></th>\n",
       "      <th></th>\n",
       "      <th></th>\n",
       "      <th></th>\n",
       "      <th></th>\n",
       "    </tr>\n",
       "  </thead>\n",
       "  <tbody>\n",
       "    <tr>\n",
       "      <th>majority</th>\n",
       "      <td>0.236215</td>\n",
       "      <td>0.545122</td>\n",
       "      <td>0.250316</td>\n",
       "      <td>0.143810</td>\n",
       "      <td>0.874746</td>\n",
       "      <td>0.035011</td>\n",
       "      <td>0.886671</td>\n",
       "      <td>69170.0</td>\n",
       "    </tr>\n",
       "    <tr>\n",
       "      <th>minority</th>\n",
       "      <td>0.166310</td>\n",
       "      <td>0.521123</td>\n",
       "      <td>0.213630</td>\n",
       "      <td>0.119847</td>\n",
       "      <td>0.940018</td>\n",
       "      <td>0.017736</td>\n",
       "      <td>0.944888</td>\n",
       "      <td>20540.0</td>\n",
       "    </tr>\n",
       "  </tbody>\n",
       "</table>\n",
       "</div>"
      ],
      "text/plain": [
       "          accuracy  balanced accuracy        f1  precision  \\\n",
       "majmin                                                       \n",
       "majority  0.236215           0.545122  0.250316   0.143810   \n",
       "minority  0.166310           0.521123  0.213630   0.119847   \n",
       "\n",
       "          false positive rate  false negative rate  selection rate    count  \n",
       "majmin                                                                       \n",
       "majority             0.874746             0.035011        0.886671  69170.0  \n",
       "minority             0.940018             0.017736        0.944888  20540.0  "
      ]
     },
     "execution_count": 60,
     "metadata": {},
     "output_type": "execute_result"
    }
   ],
   "source": [
    "metric_frame.by_group"
   ]
  },
  {
   "cell_type": "code",
   "execution_count": 61,
   "id": "6e6c20ae",
   "metadata": {
    "execution": {
     "iopub.execute_input": "2025-08-19T19:05:52.790640Z",
     "iopub.status.busy": "2025-08-19T19:05:52.789378Z",
     "iopub.status.idle": "2025-08-19T19:05:54.712966Z",
     "shell.execute_reply": "2025-08-19T19:05:54.712023Z"
    },
    "papermill": {
     "duration": 1.940045,
     "end_time": "2025-08-19T19:05:54.714151",
     "exception": false,
     "start_time": "2025-08-19T19:05:52.774106",
     "status": "completed"
    },
    "tags": []
   },
   "outputs": [
    {
     "data": {
      "text/plain": [
       "array([[<Axes: title={'center': 'accuracy'}, xlabel='majmin'>,\n",
       "        <Axes: title={'center': 'balanced accuracy'}, xlabel='majmin'>,\n",
       "        <Axes: title={'center': 'f1'}, xlabel='majmin'>],\n",
       "       [<Axes: title={'center': 'precision'}, xlabel='majmin'>,\n",
       "        <Axes: title={'center': 'false positive rate'}, xlabel='majmin'>,\n",
       "        <Axes: title={'center': 'false negative rate'}, xlabel='majmin'>],\n",
       "       [<Axes: title={'center': 'selection rate'}, xlabel='majmin'>,\n",
       "        <Axes: title={'center': 'count'}, xlabel='majmin'>,\n",
       "        <Axes: xlabel='majmin'>]], dtype=object)"
      ]
     },
     "execution_count": 61,
     "metadata": {},
     "output_type": "execute_result"
    },
    {
     "data": {
      "image/png": "[encoded data removed]",
      "text/plain": [
       "<Figure size 1200x800 with 9 Axes>"
      ]
     },
     "metadata": {},
     "output_type": "display_data"
    }
   ],
   "source": [
    "# In a graphic\n",
    "metric_frame.by_group.plot.bar(\n",
    "    subplots=True,\n",
    "    layout=[3, 3],\n",
    "    legend=False,\n",
    "    figsize=[12, 8],\n",
    "    title=\"Show all metrics\",\n",
    ")"
   ]
  },
  {
   "cell_type": "markdown",
   "id": "b2e433ae",
   "metadata": {
    "papermill": {
     "duration": 0.013491,
     "end_time": "2025-08-19T19:05:54.742046",
     "exception": false,
     "start_time": "2025-08-19T19:05:54.728555",
     "status": "completed"
    },
    "tags": []
   },
   "source": [
    "# Final Output"
   ]
  },
  {
   "cell_type": "code",
   "execution_count": 62,
   "id": "3871301e",
   "metadata": {
    "execution": {
     "iopub.execute_input": "2025-08-19T19:05:54.773706Z",
     "iopub.status.busy": "2025-08-19T19:05:54.771306Z",
     "iopub.status.idle": "2025-08-19T19:05:54.791302Z",
     "shell.execute_reply": "2025-08-19T19:05:54.790161Z"
    },
    "papermill": {
     "duration": 0.037339,
     "end_time": "2025-08-19T19:05:54.792828",
     "exception": false,
     "start_time": "2025-08-19T19:05:54.755489",
     "status": "completed"
    },
    "tags": []
   },
   "outputs": [
    {
     "data": {
      "text/plain": [
       "4"
      ]
     },
     "execution_count": 62,
     "metadata": {},
     "output_type": "execute_result"
    }
   ],
   "source": [
    "sub_universes = universe_analysis.generate_sub_universes()\n",
    "len(sub_universes)"
   ]
  },
  {
   "cell_type": "code",
   "execution_count": 63,
   "id": "d9cfdaca",
   "metadata": {
    "execution": {
     "iopub.execute_input": "2025-08-19T19:05:54.830307Z",
     "iopub.status.busy": "2025-08-19T19:05:54.829171Z",
     "iopub.status.idle": "2025-08-19T19:05:54.841042Z",
     "shell.execute_reply": "2025-08-19T19:05:54.838802Z"
    },
    "papermill": {
     "duration": 0.028821,
     "end_time": "2025-08-19T19:05:54.842490",
     "exception": false,
     "start_time": "2025-08-19T19:05:54.813669",
     "status": "completed"
    },
    "tags": []
   },
   "outputs": [],
   "source": [
    "def filter_sub_universe_data(sub_universe, org_test):\n",
    "    # Keep all rows — no filtering\n",
    "    keep_rows_mask = np.ones(org_test.shape[0], dtype=bool)\n",
    "\n",
    "    print(f\"[INFO] Keeping all rows: {keep_rows_mask.sum()} rows retained.\")\n",
    "    return keep_rows_mask"
   ]
  },
  {
   "cell_type": "code",
   "execution_count": 64,
   "id": "2bc31ac1",
   "metadata": {
    "execution": {
     "iopub.execute_input": "2025-08-19T19:05:54.874681Z",
     "iopub.status.busy": "2025-08-19T19:05:54.874227Z",
     "iopub.status.idle": "2025-08-19T19:06:01.834464Z",
     "shell.execute_reply": "2025-08-19T19:06:01.833472Z"
    },
    "papermill": {
     "duration": 6.976498,
     "end_time": "2025-08-19T19:06:01.835816",
     "exception": false,
     "start_time": "2025-08-19T19:05:54.859318",
     "status": "completed"
    },
    "tags": []
   },
   "outputs": [
    {
     "name": "stdout",
     "output_type": "stream",
     "text": [
      "Stopping execution_time clock.\n",
      "[INFO] Keeping all rows: 89710 rows retained.\n"
     ]
    },
    {
     "name": "stdout",
     "output_type": "stream",
     "text": [
      "[INFO] Keeping all rows: 89710 rows retained.\n"
     ]
    },
    {
     "name": "stdout",
     "output_type": "stream",
     "text": [
      "[INFO] Keeping all rows: 89710 rows retained.\n"
     ]
    },
    {
     "name": "stdout",
     "output_type": "stream",
     "text": [
      "[INFO] Keeping all rows: 89710 rows retained.\n"
     ]
    },
    {
     "data": {
      "text/html": [
       "<div>\n",
       "<style scoped>\n",
       "    .dataframe tbody tr th:only-of-type {\n",
       "        vertical-align: middle;\n",
       "    }\n",
       "\n",
       "    .dataframe tbody tr th {\n",
       "        vertical-align: top;\n",
       "    }\n",
       "\n",
       "    .dataframe thead th {\n",
       "        text-align: right;\n",
       "    }\n",
       "</style>\n",
       "<table border=\"1\" class=\"dataframe\">\n",
       "  <thead>\n",
       "    <tr style=\"text-align: right;\">\n",
       "      <th></th>\n",
       "      <th>run_no</th>\n",
       "      <th>universe_id</th>\n",
       "      <th>universe_settings</th>\n",
       "      <th>execution_time</th>\n",
       "      <th>test_size_n</th>\n",
       "      <th>test_size_frac</th>\n",
       "      <th>fair_main_equalized_odds_difference</th>\n",
       "      <th>fair_main_equalized_odds_ratio</th>\n",
       "      <th>fair_main_demographic_parity_difference</th>\n",
       "      <th>fair_main_demographic_parity_ratio</th>\n",
       "      <th>...</th>\n",
       "      <th>perf_grp_precision_0</th>\n",
       "      <th>perf_grp_precision_1</th>\n",
       "      <th>perf_grp_false positive rate_0</th>\n",
       "      <th>perf_grp_false positive rate_1</th>\n",
       "      <th>perf_grp_false negative rate_0</th>\n",
       "      <th>perf_grp_false negative rate_1</th>\n",
       "      <th>perf_grp_selection rate_0</th>\n",
       "      <th>perf_grp_selection rate_1</th>\n",
       "      <th>perf_grp_count_0</th>\n",
       "      <th>perf_grp_count_1</th>\n",
       "    </tr>\n",
       "  </thead>\n",
       "  <tbody>\n",
       "    <tr>\n",
       "      <th>0</th>\n",
       "      <td>3</td>\n",
       "      <td>83fff83e202bca523744db0f565149c5</td>\n",
       "      <td>{\"cutoff\": \"quantile_0.1\", \"eval_fairness_grou...</td>\n",
       "      <td>21.608356</td>\n",
       "      <td>89710</td>\n",
       "      <td>1.0</td>\n",
       "      <td>0.065272</td>\n",
       "      <td>0.930563</td>\n",
       "      <td>0.058218</td>\n",
       "      <td>0.938387</td>\n",
       "      <td>...</td>\n",
       "      <td>NaN</td>\n",
       "      <td>NaN</td>\n",
       "      <td>NaN</td>\n",
       "      <td>NaN</td>\n",
       "      <td>NaN</td>\n",
       "      <td>NaN</td>\n",
       "      <td>NaN</td>\n",
       "      <td>NaN</td>\n",
       "      <td>NaN</td>\n",
       "      <td>NaN</td>\n",
       "    </tr>\n",
       "    <tr>\n",
       "      <th>0</th>\n",
       "      <td>3</td>\n",
       "      <td>83fff83e202bca523744db0f565149c5</td>\n",
       "      <td>{\"cutoff\": \"quantile_0.1\", \"eval_fairness_grou...</td>\n",
       "      <td>21.608356</td>\n",
       "      <td>89710</td>\n",
       "      <td>1.0</td>\n",
       "      <td>0.065272</td>\n",
       "      <td>0.930563</td>\n",
       "      <td>0.058218</td>\n",
       "      <td>0.938387</td>\n",
       "      <td>...</td>\n",
       "      <td>0.119847</td>\n",
       "      <td>0.143810</td>\n",
       "      <td>0.940018</td>\n",
       "      <td>0.874746</td>\n",
       "      <td>0.017736</td>\n",
       "      <td>0.035011</td>\n",
       "      <td>0.944888</td>\n",
       "      <td>0.886671</td>\n",
       "      <td>20540.0</td>\n",
       "      <td>69170.0</td>\n",
       "    </tr>\n",
       "    <tr>\n",
       "      <th>0</th>\n",
       "      <td>3</td>\n",
       "      <td>83fff83e202bca523744db0f565149c5</td>\n",
       "      <td>{\"cutoff\": \"quantile_0.25\", \"eval_fairness_gro...</td>\n",
       "      <td>21.608356</td>\n",
       "      <td>89710</td>\n",
       "      <td>1.0</td>\n",
       "      <td>0.042264</td>\n",
       "      <td>0.953278</td>\n",
       "      <td>0.012888</td>\n",
       "      <td>0.983040</td>\n",
       "      <td>...</td>\n",
       "      <td>NaN</td>\n",
       "      <td>NaN</td>\n",
       "      <td>NaN</td>\n",
       "      <td>NaN</td>\n",
       "      <td>NaN</td>\n",
       "      <td>NaN</td>\n",
       "      <td>NaN</td>\n",
       "      <td>NaN</td>\n",
       "      <td>NaN</td>\n",
       "      <td>NaN</td>\n",
       "    </tr>\n",
       "    <tr>\n",
       "      <th>0</th>\n",
       "      <td>3</td>\n",
       "      <td>83fff83e202bca523744db0f565149c5</td>\n",
       "      <td>{\"cutoff\": \"quantile_0.25\", \"eval_fairness_gro...</td>\n",
       "      <td>21.608356</td>\n",
       "      <td>89710</td>\n",
       "      <td>1.0</td>\n",
       "      <td>0.042264</td>\n",
       "      <td>0.953278</td>\n",
       "      <td>0.012888</td>\n",
       "      <td>0.983040</td>\n",
       "      <td>...</td>\n",
       "      <td>0.130822</td>\n",
       "      <td>0.160006</td>\n",
       "      <td>0.746588</td>\n",
       "      <td>0.723055</td>\n",
       "      <td>0.137669</td>\n",
       "      <td>0.095405</td>\n",
       "      <td>0.759932</td>\n",
       "      <td>0.747044</td>\n",
       "      <td>20540.0</td>\n",
       "      <td>69170.0</td>\n",
       "    </tr>\n",
       "  </tbody>\n",
       "</table>\n",
       "<p>4 rows × 50 columns</p>\n",
       "</div>"
      ],
      "text/plain": [
       "  run_no                       universe_id  \\\n",
       "0      3  83fff83e202bca523744db0f565149c5   \n",
       "0      3  83fff83e202bca523744db0f565149c5   \n",
       "0      3  83fff83e202bca523744db0f565149c5   \n",
       "0      3  83fff83e202bca523744db0f565149c5   \n",
       "\n",
       "                                   universe_settings  execution_time  \\\n",
       "0  {\"cutoff\": \"quantile_0.1\", \"eval_fairness_grou...       21.608356   \n",
       "0  {\"cutoff\": \"quantile_0.1\", \"eval_fairness_grou...       21.608356   \n",
       "0  {\"cutoff\": \"quantile_0.25\", \"eval_fairness_gro...       21.608356   \n",
       "0  {\"cutoff\": \"quantile_0.25\", \"eval_fairness_gro...       21.608356   \n",
       "\n",
       "   test_size_n  test_size_frac  fair_main_equalized_odds_difference  \\\n",
       "0        89710             1.0                             0.065272   \n",
       "0        89710             1.0                             0.065272   \n",
       "0        89710             1.0                             0.042264   \n",
       "0        89710             1.0                             0.042264   \n",
       "\n",
       "   fair_main_equalized_odds_ratio  fair_main_demographic_parity_difference  \\\n",
       "0                        0.930563                                 0.058218   \n",
       "0                        0.930563                                 0.058218   \n",
       "0                        0.953278                                 0.012888   \n",
       "0                        0.953278                                 0.012888   \n",
       "\n",
       "   fair_main_demographic_parity_ratio  ...  perf_grp_precision_0  \\\n",
       "0                            0.938387  ...                   NaN   \n",
       "0                            0.938387  ...              0.119847   \n",
       "0                            0.983040  ...                   NaN   \n",
       "0                            0.983040  ...              0.130822   \n",
       "\n",
       "   perf_grp_precision_1  perf_grp_false positive rate_0  \\\n",
       "0                   NaN                             NaN   \n",
       "0              0.143810                        0.940018   \n",
       "0                   NaN                             NaN   \n",
       "0              0.160006                        0.746588   \n",
       "\n",
       "   perf_grp_false positive rate_1  perf_grp_false negative rate_0  \\\n",
       "0                             NaN                             NaN   \n",
       "0                        0.874746                        0.017736   \n",
       "0                             NaN                             NaN   \n",
       "0                        0.723055                        0.137669   \n",
       "\n",
       "   perf_grp_false negative rate_1  perf_grp_selection rate_0  \\\n",
       "0                             NaN                        NaN   \n",
       "0                        0.035011                   0.944888   \n",
       "0                             NaN                        NaN   \n",
       "0                        0.095405                   0.759932   \n",
       "\n",
       "   perf_grp_selection rate_1  perf_grp_count_0  perf_grp_count_1  \n",
       "0                        NaN               NaN               NaN  \n",
       "0                   0.886671           20540.0           69170.0  \n",
       "0                        NaN               NaN               NaN  \n",
       "0                   0.747044           20540.0           69170.0  \n",
       "\n",
       "[4 rows x 50 columns]"
      ]
     },
     "execution_count": 64,
     "metadata": {},
     "output_type": "execute_result"
    }
   ],
   "source": [
    "final_output = universe_analysis.generate_final_output(\n",
    "    y_pred_prob=probs_test,\n",
    "    y_test=y_true,\n",
    "    org_test=org_test,\n",
    "    filter_data=filter_sub_universe_data,\n",
    "    cp_metrics_df=cp_metrics_df,\n",
    "    save=True,\n",
    ")\n",
    "final_output"
   ]
  },
  {
   "cell_type": "code",
   "execution_count": null,
   "id": "8b80a1ff",
   "metadata": {
    "papermill": {
     "duration": 0.039905,
     "end_time": "2025-08-19T19:06:01.893792",
     "exception": false,
     "start_time": "2025-08-19T19:06:01.853887",
     "status": "completed"
    },
    "tags": []
   },
   "outputs": [],
   "source": []
  },
  {
   "cell_type": "code",
   "execution_count": null,
   "id": "275c9fad",
   "metadata": {
    "papermill": {
     "duration": 0.034255,
     "end_time": "2025-08-19T19:06:01.943054",
     "exception": false,
     "start_time": "2025-08-19T19:06:01.908799",
     "status": "completed"
    },
    "tags": []
   },
   "outputs": [],
   "source": []
  }
 ],
 "metadata": {
  "celltoolbar": "Tags",
  "kernelspec": {
   "display_name": "Python (CMA Fairness)",
   "language": "python",
   "name": "cma_fair_env"
  },
  "language_info": {
   "codemirror_mode": {
    "name": "ipython",
    "version": 3
   },
   "file_extension": ".py",
   "mimetype": "text/x-python",
   "name": "python",
   "nbconvert_exporter": "python",
   "pygments_lexer": "ipython3",
   "version": "3.10.12"
  },
  "papermill": {
   "default_parameters": {},
   "duration": 32.618494,
   "end_time": "2025-08-19T19:06:02.985732",
   "environment_variables": {},
   "exception": null,
   "input_path": "universe_analysis.ipynb",
   "output_path": "output/runs/3/notebooks/m_3-83fff83e202bca523744db0f565149c5.ipynb",
   "parameters": {
    "output_dir": "output",
    "run_no": "3",
    "seed": "2023",
    "universe": "{\"cutoff\": [\"quantile_0.1\", \"quantile_0.25\"], \"eval_fairness_grouping\": [\"majority-minority\", \"nationality-all\"], \"exclude_features\": \"sex\", \"exclude_subgroups\": \"keep-all\", \"model\": \"penalized_logreg\", \"scale\": \"scale\", \"training_size\": \"1k\", \"training_year\": \"2010_14\"}",
    "universe_id": "83fff83e202bca523744db0f565149c5"
   },
   "start_time": "2025-08-19T19:05:30.367238",
   "version": "2.6.0"
  }
 },
 "nbformat": 4,
 "nbformat_minor": 5
}