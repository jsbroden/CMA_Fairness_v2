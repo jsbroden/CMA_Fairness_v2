{
 "cells": [
  {
   "cell_type": "code",
   "execution_count": 1,
   "id": "f159f837-637b-42ba-96b5-ec9a68c44524",
   "metadata": {
    "execution": {
     "iopub.execute_input": "2025-07-22T09:15:28.204147Z",
     "iopub.status.busy": "2025-07-22T09:15:28.203808Z",
     "iopub.status.idle": "2025-07-22T09:15:28.215288Z",
     "shell.execute_reply": "2025-07-22T09:15:28.214556Z"
    },
    "papermill": {
     "duration": 0.024342,
     "end_time": "2025-07-22T09:15:28.216526",
     "exception": false,
     "start_time": "2025-07-22T09:15:28.192184",
     "status": "completed"
    },
    "tags": []
   },
   "outputs": [
    {
     "name": "stdout",
     "output_type": "stream",
     "text": [
      "/dss/dsshome1/0C/ra93lal2/cma/CMA_Fairness_v2\n"
     ]
    },
    {
     "name": "stderr",
     "output_type": "stream",
     "text": [
      "/dss/dsshome1/0C/ra93lal2/.local/share/virtualenvs/CMA_Fairness_v2-3j10GkSs/lib/python3.10/site-packages/IPython/core/magics/osm.py:393: UserWarning: This is now an optional IPython functionality, using bookmarks requires you to install the `pickleshare` library.\n",
      "  bkms = self.shell.db.get('bookmarks', {})\n",
      "/dss/dsshome1/0C/ra93lal2/.local/share/virtualenvs/CMA_Fairness_v2-3j10GkSs/lib/python3.10/site-packages/IPython/core/magics/osm.py:417: UserWarning: This is now an optional IPython functionality, setting dhist requires you to install the `pickleshare` library.\n",
      "  self.shell.db['dhist'] = compress_dhist(dhist)[-100:]\n"
     ]
    }
   ],
   "source": [
    "%cd ~/cma/CMA_Fairness_v2"
   ]
  },
  {
   "cell_type": "markdown",
   "id": "de2603b9",
   "metadata": {
    "papermill": {
     "duration": 0.008633,
     "end_time": "2025-07-22T09:15:28.232991",
     "exception": false,
     "start_time": "2025-07-22T09:15:28.224358",
     "status": "completed"
    },
    "tags": []
   },
   "source": [
    "The following cell holds the definition of our parameters, these values can be overriden by rendering the with e.g. the following command:\n",
    "\n",
    "papermill -p alpha 0.2 -p ratio 0.3 universe_analysis.ipynb output/test_run.ipynb"
   ]
  },
  {
   "cell_type": "code",
   "execution_count": 2,
   "id": "a80968a0-40bb-4fa9-85ef-2d5eefb01975",
   "metadata": {
    "execution": {
     "iopub.execute_input": "2025-07-22T09:15:28.251508Z",
     "iopub.status.busy": "2025-07-22T09:15:28.251189Z",
     "iopub.status.idle": "2025-07-22T09:15:28.255995Z",
     "shell.execute_reply": "2025-07-22T09:15:28.255157Z"
    },
    "papermill": {
     "duration": 0.015239,
     "end_time": "2025-07-22T09:15:28.257518",
     "exception": false,
     "start_time": "2025-07-22T09:15:28.242279",
     "status": "completed"
    },
    "tags": []
   },
   "outputs": [
    {
     "name": "stdout",
     "output_type": "stream",
     "text": [
      "Current working directory: /dss/dsshome1/0C/ra93lal2/cma/CMA_Fairness_v2\n"
     ]
    }
   ],
   "source": [
    "import os\n",
    "print(\"Current working directory:\", os.getcwd())"
   ]
  },
  {
   "cell_type": "code",
   "execution_count": 3,
   "id": "2dce4c03",
   "metadata": {
    "execution": {
     "iopub.execute_input": "2025-07-22T09:15:28.276806Z",
     "iopub.status.busy": "2025-07-22T09:15:28.276137Z",
     "iopub.status.idle": "2025-07-22T09:15:28.281222Z",
     "shell.execute_reply": "2025-07-22T09:15:28.280447Z"
    },
    "papermill": {
     "duration": 0.015806,
     "end_time": "2025-07-22T09:15:28.282491",
     "exception": false,
     "start_time": "2025-07-22T09:15:28.266685",
     "status": "completed"
    },
    "tags": [
     "parameters"
    ]
   },
   "outputs": [],
   "source": [
    "run_no = 0\n",
    "universe_id = \"test\"\n",
    "universe = {\n",
    "    #\"scale\": \"scale\", # \"scale\", \"do-not-scale\",\n",
    "    #\"encode_categorical\": \"one-hot\", # \"ordinal\", \"one-hot\"\n",
    "    \"model\": \"elasticnet\", # \"logreg\", \"penalized_logreg\", \"rf\", \"gbm\", \"elasticnet\"\n",
    "    \"cutoff\": [\"quantile_0.15\", \"quantile_0.30\"],\n",
    "    \"exclude_features\": \"nationality-sex\", # \"none\", \"nationality\", \"sex\", \"nationality-sex\"\n",
    "    \"exclude_subgroups\": \"keep-all\", # \"keep-all\", \"drop-non-german\"\n",
    "    \"eval_fairness_grouping\": [\"majority-minority\", \"nationality-all\"]\n",
    "}\n",
    "\n",
    "output_dir=\"./output\"\n",
    "seed=0"
   ]
  },
  {
   "cell_type": "code",
   "execution_count": 4,
   "id": "bf746ce8",
   "metadata": {
    "execution": {
     "iopub.execute_input": "2025-07-22T09:15:28.300768Z",
     "iopub.status.busy": "2025-07-22T09:15:28.300343Z",
     "iopub.status.idle": "2025-07-22T09:15:28.304278Z",
     "shell.execute_reply": "2025-07-22T09:15:28.303509Z"
    },
    "papermill": {
     "duration": 0.013831,
     "end_time": "2025-07-22T09:15:28.305613",
     "exception": false,
     "start_time": "2025-07-22T09:15:28.291782",
     "status": "completed"
    },
    "tags": [
     "injected-parameters"
    ]
   },
   "outputs": [],
   "source": [
    "# Parameters\n",
    "universe_id = \"992923ba54cc8fc630efc8cc066c4867\"\n",
    "run_no = \"3\"\n",
    "universe = \"{\\\"cutoff\\\": [\\\"quantile_0.1\\\", \\\"quantile_0.25\\\"], \\\"eval_fairness_grouping\\\": [\\\"majority-minority\\\", \\\"nationality-all\\\"], \\\"exclude_features\\\": \\\"nationality\\\", \\\"exclude_subgroups\\\": \\\"drop-non-german\\\", \\\"model\\\": \\\"elasticnet\\\", \\\"scale\\\": \\\"scale\\\"}\"\n",
    "output_dir = \"output\"\n",
    "seed = \"2023\"\n"
   ]
  },
  {
   "cell_type": "code",
   "execution_count": 5,
   "id": "1650acaf",
   "metadata": {
    "execution": {
     "iopub.execute_input": "2025-07-22T09:15:28.323913Z",
     "iopub.status.busy": "2025-07-22T09:15:28.323629Z",
     "iopub.status.idle": "2025-07-22T09:15:28.327668Z",
     "shell.execute_reply": "2025-07-22T09:15:28.326723Z"
    },
    "papermill": {
     "duration": 0.014394,
     "end_time": "2025-07-22T09:15:28.329119",
     "exception": false,
     "start_time": "2025-07-22T09:15:28.314725",
     "status": "completed"
    },
    "tags": []
   },
   "outputs": [],
   "source": [
    "import json\n",
    "# Parse universe into dict if it is passed as a string\n",
    "if isinstance(universe, str):\n",
    "    universe = json.loads(universe)"
   ]
  },
  {
   "cell_type": "code",
   "execution_count": 6,
   "id": "16620c48",
   "metadata": {
    "execution": {
     "iopub.execute_input": "2025-07-22T09:15:28.347934Z",
     "iopub.status.busy": "2025-07-22T09:15:28.347549Z",
     "iopub.status.idle": "2025-07-22T09:15:28.377193Z",
     "shell.execute_reply": "2025-07-22T09:15:28.376466Z"
    },
    "papermill": {
     "duration": 0.039755,
     "end_time": "2025-07-22T09:15:28.378480",
     "exception": false,
     "start_time": "2025-07-22T09:15:28.338725",
     "status": "completed"
    },
    "tags": []
   },
   "outputs": [],
   "source": [
    "# Auto-reload the custom package\n",
    "%load_ext autoreload\n",
    "%autoreload 1\n",
    "%aimport fairness_multiverse"
   ]
  },
  {
   "cell_type": "code",
   "execution_count": 7,
   "id": "01c5c9f3",
   "metadata": {
    "execution": {
     "iopub.execute_input": "2025-07-22T09:15:28.396819Z",
     "iopub.status.busy": "2025-07-22T09:15:28.396185Z",
     "iopub.status.idle": "2025-07-22T09:15:29.926084Z",
     "shell.execute_reply": "2025-07-22T09:15:29.924809Z"
    },
    "papermill": {
     "duration": 1.541158,
     "end_time": "2025-07-22T09:15:29.928305",
     "exception": false,
     "start_time": "2025-07-22T09:15:28.387147",
     "status": "completed"
    },
    "tags": []
   },
   "outputs": [],
   "source": [
    "from fairness_multiverse.universe import UniverseAnalysis\n",
    "\n",
    "universe_analysis = UniverseAnalysis(\n",
    "    run_no = run_no,\n",
    "    universe_id = universe_id,\n",
    "    universe = universe,\n",
    "    output_dir=output_dir,\n",
    ")"
   ]
  },
  {
   "cell_type": "code",
   "execution_count": 8,
   "id": "106241f5",
   "metadata": {
    "execution": {
     "iopub.execute_input": "2025-07-22T09:15:29.964755Z",
     "iopub.status.busy": "2025-07-22T09:15:29.963992Z",
     "iopub.status.idle": "2025-07-22T09:15:29.971127Z",
     "shell.execute_reply": "2025-07-22T09:15:29.970164Z"
    },
    "papermill": {
     "duration": 0.026999,
     "end_time": "2025-07-22T09:15:29.972808",
     "exception": false,
     "start_time": "2025-07-22T09:15:29.945809",
     "status": "completed"
    },
    "tags": []
   },
   "outputs": [
    {
     "name": "stdout",
     "output_type": "stream",
     "text": [
      "Using Seed: 2023\n"
     ]
    }
   ],
   "source": [
    "import numpy as np\n",
    "parsed_seed = int(seed)\n",
    "np.random.seed(parsed_seed)\n",
    "print(f\"Using Seed: {parsed_seed}\")"
   ]
  },
  {
   "cell_type": "markdown",
   "id": "e0ebdc57",
   "metadata": {
    "papermill": {
     "duration": 0.015492,
     "end_time": "2025-07-22T09:15:30.005382",
     "exception": false,
     "start_time": "2025-07-22T09:15:29.989890",
     "status": "completed"
    },
    "tags": []
   },
   "source": [
    "# Loading Data"
   ]
  },
  {
   "cell_type": "markdown",
   "id": "681925a3",
   "metadata": {
    "papermill": {
     "duration": 0.015625,
     "end_time": "2025-07-22T09:15:30.036244",
     "exception": false,
     "start_time": "2025-07-22T09:15:30.020619",
     "status": "completed"
    },
    "tags": []
   },
   "source": [
    "Load siab_train, siab_test, siab_calib and/or \n",
    "load siab_train_features, siab_train_labels"
   ]
  },
  {
   "cell_type": "code",
   "execution_count": 9,
   "id": "f0496b8a",
   "metadata": {
    "execution": {
     "iopub.execute_input": "2025-07-22T09:15:30.070196Z",
     "iopub.status.busy": "2025-07-22T09:15:30.069236Z",
     "iopub.status.idle": "2025-07-22T09:15:30.075422Z",
     "shell.execute_reply": "2025-07-22T09:15:30.074292Z"
    },
    "papermill": {
     "duration": 0.025262,
     "end_time": "2025-07-22T09:15:30.077437",
     "exception": false,
     "start_time": "2025-07-22T09:15:30.052175",
     "status": "completed"
    },
    "tags": []
   },
   "outputs": [],
   "source": [
    "# Do I need to load siab? Delete this cell?\n",
    "\n",
    "#from pathlib import Path\n",
    "#import pandas as pd\n",
    "#\n",
    "## File paths\n",
    "#raw_file = Path(\"data/raw/siab.csv\")\n",
    "#cache_file = Path(\"data/siab_cached.csv.gz\")\n",
    "#\n",
    "## Ensure cache directory exists\n",
    "#cache_file.parent.mkdir(parents=True, exist_ok=True)\n",
    "#\n",
    "## Load with simple caching\n",
    "#if cache_file.exists():\n",
    "#    print(f\"Loading SIAB data from cache: {cache_file}\")\n",
    "#    siab = pd.read_csv(cache_file, compression='gzip')\n",
    "#else:\n",
    "#    print(f\"Cache not found. Reading raw SIAB data: {raw_file}\")\n",
    "#    siab = pd.read_csv(raw_file)\n",
    "#    siab.to_csv(cache_file, index=False, compression='gzip')\n",
    "#    print(f\"Cached SIAB data to: {cache_file}\")\n",
    "#\n",
    "## Now use `siab` DataFrame as needed\n",
    "#print(siab.shape)\n"
   ]
  },
  {
   "cell_type": "code",
   "execution_count": 10,
   "id": "a0edb063",
   "metadata": {
    "execution": {
     "iopub.execute_input": "2025-07-22T09:15:30.112092Z",
     "iopub.status.busy": "2025-07-22T09:15:30.111650Z",
     "iopub.status.idle": "2025-07-22T09:15:30.566965Z",
     "shell.execute_reply": "2025-07-22T09:15:30.566059Z"
    },
    "papermill": {
     "duration": 0.474204,
     "end_time": "2025-07-22T09:15:30.568790",
     "exception": false,
     "start_time": "2025-07-22T09:15:30.094586",
     "status": "completed"
    },
    "tags": []
   },
   "outputs": [],
   "source": [
    "import pandas as pd\n",
    "\n",
    "X_train = pd.read_csv(\"./data/X_train.csv\")\n",
    "y_train = pd.read_csv(\"./data/y_train.csv\")"
   ]
  },
  {
   "cell_type": "code",
   "execution_count": 11,
   "id": "63d08085",
   "metadata": {
    "execution": {
     "iopub.execute_input": "2025-07-22T09:15:30.603235Z",
     "iopub.status.busy": "2025-07-22T09:15:30.602470Z",
     "iopub.status.idle": "2025-07-22T09:15:31.958183Z",
     "shell.execute_reply": "2025-07-22T09:15:31.957149Z"
    },
    "papermill": {
     "duration": 1.37443,
     "end_time": "2025-07-22T09:15:31.960003",
     "exception": false,
     "start_time": "2025-07-22T09:15:30.585573",
     "status": "completed"
    },
    "tags": []
   },
   "outputs": [],
   "source": [
    "X_test = pd.read_csv(\"./data/X_test.csv\")\n",
    "y_true = pd.read_csv(\"./data/y_test.csv\")"
   ]
  },
  {
   "cell_type": "code",
   "execution_count": 12,
   "id": "98a8d0fa-1d3d-4ed8-bb2c-281470e24add",
   "metadata": {
    "execution": {
     "iopub.execute_input": "2025-07-22T09:15:32.006802Z",
     "iopub.status.busy": "2025-07-22T09:15:32.006459Z",
     "iopub.status.idle": "2025-07-22T09:15:32.822940Z",
     "shell.execute_reply": "2025-07-22T09:15:32.822195Z"
    },
    "papermill": {
     "duration": 0.848133,
     "end_time": "2025-07-22T09:15:32.824373",
     "exception": false,
     "start_time": "2025-07-22T09:15:31.976240",
     "status": "completed"
    },
    "tags": []
   },
   "outputs": [],
   "source": [
    "# Calibration data for conformal\n",
    "X_calib = pd.read_csv(\"./data/X_calib.csv\")\n",
    "y_calib = pd.read_csv(\"./data/y_calib.csv\")"
   ]
  },
  {
   "cell_type": "code",
   "execution_count": 13,
   "id": "e6c733c5",
   "metadata": {
    "execution": {
     "iopub.execute_input": "2025-07-22T09:15:32.842871Z",
     "iopub.status.busy": "2025-07-22T09:15:32.842198Z",
     "iopub.status.idle": "2025-07-22T09:15:32.933945Z",
     "shell.execute_reply": "2025-07-22T09:15:32.933168Z"
    },
    "papermill": {
     "duration": 0.102124,
     "end_time": "2025-07-22T09:15:32.935375",
     "exception": false,
     "start_time": "2025-07-22T09:15:32.833251",
     "status": "completed"
    },
    "tags": []
   },
   "outputs": [],
   "source": [
    "# Auxiliary data needed downstream in the pipeline\n",
    "\n",
    "org_train = X_train.copy()\n",
    "org_test = X_test.copy()\n",
    "org_calib = X_calib.copy()"
   ]
  },
  {
   "cell_type": "markdown",
   "id": "0a4a1b33",
   "metadata": {
    "papermill": {
     "duration": 0.008114,
     "end_time": "2025-07-22T09:15:32.952311",
     "exception": false,
     "start_time": "2025-07-22T09:15:32.944197",
     "status": "completed"
    },
    "tags": []
   },
   "source": [
    "# Preprocessing Data"
   ]
  },
  {
   "cell_type": "code",
   "execution_count": 14,
   "id": "ca879031",
   "metadata": {
    "execution": {
     "iopub.execute_input": "2025-07-22T09:15:32.970213Z",
     "iopub.status.busy": "2025-07-22T09:15:32.969725Z",
     "iopub.status.idle": "2025-07-22T09:15:32.974561Z",
     "shell.execute_reply": "2025-07-22T09:15:32.973789Z"
    },
    "papermill": {
     "duration": 0.015333,
     "end_time": "2025-07-22T09:15:32.975765",
     "exception": false,
     "start_time": "2025-07-22T09:15:32.960432",
     "status": "completed"
    },
    "tags": []
   },
   "outputs": [],
   "source": [
    "# EXCLUDE PROTECTED FEATURES\n",
    "# ----------------------\n",
    "# \"exclude_features\": \"none\", # \"nationality\", \"sex\", \"nationality-sex\"\n",
    "\n",
    "excluded_features = universe[\"exclude_features\"].split(\"-\") # split, e.g.: \"nationality-sex\" -> [\"nationality\", \"sex\"]\n",
    "excluded_features_dictionary = {\n",
    "    \"nationality\": [\"maxdeutsch1\", \"maxdeutsch.Missing.\"],\n",
    "    \"sex\": [\"frau1\"],\n",
    "}\n"
   ]
  },
  {
   "cell_type": "code",
   "execution_count": 15,
   "id": "b745ac60",
   "metadata": {
    "execution": {
     "iopub.execute_input": "2025-07-22T09:15:32.994218Z",
     "iopub.status.busy": "2025-07-22T09:15:32.993718Z",
     "iopub.status.idle": "2025-07-22T09:15:32.998320Z",
     "shell.execute_reply": "2025-07-22T09:15:32.997571Z"
    },
    "papermill": {
     "duration": 0.014861,
     "end_time": "2025-07-22T09:15:32.999650",
     "exception": false,
     "start_time": "2025-07-22T09:15:32.984789",
     "status": "completed"
    },
    "tags": []
   },
   "outputs": [],
   "source": [
    "# Code nice names to column names\n",
    "\n",
    "excluded_features_columns = [\n",
    "    excluded_features_dictionary[f] for f in excluded_features if len(f) > 0 and f != \"none\"\n",
    "]"
   ]
  },
  {
   "cell_type": "code",
   "execution_count": 16,
   "id": "f84f73a2",
   "metadata": {
    "execution": {
     "iopub.execute_input": "2025-07-22T09:15:33.018279Z",
     "iopub.status.busy": "2025-07-22T09:15:33.017650Z",
     "iopub.status.idle": "2025-07-22T09:15:33.022666Z",
     "shell.execute_reply": "2025-07-22T09:15:33.021988Z"
    },
    "papermill": {
     "duration": 0.015395,
     "end_time": "2025-07-22T09:15:33.024038",
     "exception": false,
     "start_time": "2025-07-22T09:15:33.008643",
     "status": "completed"
    },
    "tags": []
   },
   "outputs": [],
   "source": [
    "from utils import flatten_once\n",
    "\n",
    "excluded_features_columns = flatten_once(excluded_features_columns)"
   ]
  },
  {
   "cell_type": "code",
   "execution_count": 17,
   "id": "884dea22",
   "metadata": {
    "execution": {
     "iopub.execute_input": "2025-07-22T09:15:33.042622Z",
     "iopub.status.busy": "2025-07-22T09:15:33.041998Z",
     "iopub.status.idle": "2025-07-22T09:15:33.056429Z",
     "shell.execute_reply": "2025-07-22T09:15:33.055556Z"
    },
    "papermill": {
     "duration": 0.024957,
     "end_time": "2025-07-22T09:15:33.057996",
     "exception": false,
     "start_time": "2025-07-22T09:15:33.033039",
     "status": "completed"
    },
    "tags": []
   },
   "outputs": [
    {
     "name": "stdout",
     "output_type": "stream",
     "text": [
      "Dropping features: ['maxdeutsch1', 'maxdeutsch.Missing.']\n"
     ]
    }
   ],
   "source": [
    "if len(excluded_features_columns) > 0:\n",
    "    print(f\"Dropping features: {excluded_features_columns}\")\n",
    "    X_train.drop(excluded_features_columns, axis=1, inplace=True)"
   ]
  },
  {
   "cell_type": "code",
   "execution_count": 18,
   "id": "95ab8b16",
   "metadata": {
    "execution": {
     "iopub.execute_input": "2025-07-22T09:15:33.077229Z",
     "iopub.status.busy": "2025-07-22T09:15:33.076534Z",
     "iopub.status.idle": "2025-07-22T09:15:33.124448Z",
     "shell.execute_reply": "2025-07-22T09:15:33.123540Z"
    },
    "papermill": {
     "duration": 0.058434,
     "end_time": "2025-07-22T09:15:33.125890",
     "exception": false,
     "start_time": "2025-07-22T09:15:33.067456",
     "status": "completed"
    },
    "tags": []
   },
   "outputs": [
    {
     "name": "stdout",
     "output_type": "stream",
     "text": [
      "Dropping features: ['maxdeutsch1', 'maxdeutsch.Missing.']\n"
     ]
    }
   ],
   "source": [
    "if len(excluded_features_columns) > 0:\n",
    "    print(f\"Dropping features: {excluded_features_columns}\")\n",
    "    X_test.drop(excluded_features_columns, axis=1, inplace=True)"
   ]
  },
  {
   "cell_type": "code",
   "execution_count": 19,
   "id": "1853aaf5-fb9f-46cb-a2b5-8ea4ae2237e4",
   "metadata": {
    "execution": {
     "iopub.execute_input": "2025-07-22T09:15:33.145085Z",
     "iopub.status.busy": "2025-07-22T09:15:33.144514Z",
     "iopub.status.idle": "2025-07-22T09:15:33.192355Z",
     "shell.execute_reply": "2025-07-22T09:15:33.191164Z"
    },
    "papermill": {
     "duration": 0.058467,
     "end_time": "2025-07-22T09:15:33.193826",
     "exception": false,
     "start_time": "2025-07-22T09:15:33.135359",
     "status": "completed"
    },
    "tags": []
   },
   "outputs": [
    {
     "name": "stdout",
     "output_type": "stream",
     "text": [
      "Dropping features: ['maxdeutsch1', 'maxdeutsch.Missing.']\n"
     ]
    }
   ],
   "source": [
    "if len(excluded_features_columns) > 0:\n",
    "    print(f\"Dropping features: {excluded_features_columns}\")\n",
    "    X_calib.drop(excluded_features_columns, axis=1, inplace=True)"
   ]
  },
  {
   "cell_type": "code",
   "execution_count": 20,
   "id": "76c4dc6d",
   "metadata": {
    "execution": {
     "iopub.execute_input": "2025-07-22T09:15:33.214091Z",
     "iopub.status.busy": "2025-07-22T09:15:33.213684Z",
     "iopub.status.idle": "2025-07-22T09:15:33.218334Z",
     "shell.execute_reply": "2025-07-22T09:15:33.217583Z"
    },
    "papermill": {
     "duration": 0.015847,
     "end_time": "2025-07-22T09:15:33.219572",
     "exception": false,
     "start_time": "2025-07-22T09:15:33.203725",
     "status": "completed"
    },
    "tags": []
   },
   "outputs": [],
   "source": [
    "# EXCLUDE CERTAIN SUBGROUPS\n",
    "# ----------------------\n",
    "\n",
    "mode = universe.get(\"exclude_subgroups\", \"keep-all\") \n",
    "# Fetches the exclude_subgroups setting from the universe dict.\n",
    "# Defaults to \"keep-all\" if the key is missing."
   ]
  },
  {
   "cell_type": "code",
   "execution_count": 21,
   "id": "21994072",
   "metadata": {
    "execution": {
     "iopub.execute_input": "2025-07-22T09:15:33.239621Z",
     "iopub.status.busy": "2025-07-22T09:15:33.239127Z",
     "iopub.status.idle": "2025-07-22T09:15:33.245197Z",
     "shell.execute_reply": "2025-07-22T09:15:33.244426Z"
    },
    "papermill": {
     "duration": 0.017121,
     "end_time": "2025-07-22T09:15:33.246564",
     "exception": false,
     "start_time": "2025-07-22T09:15:33.229443",
     "status": "completed"
    },
    "tags": []
   },
   "outputs": [],
   "source": [
    "if mode == \"keep-all\":\n",
    "    keep_mask = pd.Series(True, index=org_train.index)\n",
    "\n",
    "# org_train contains the original feature columns from features_org (in Simson)\n",
    "# features_org contains unprocessed features, for me X_train at beginning ???\n",
    "# For keep-all, creates a boolean Series (keep_mask) of all True, so no rows are removed.\n",
    "\n",
    "elif mode == \"drop-non-german\":\n",
    "    keep_mask = org_train[\"maxdeutsch1\"] == 1 # ??? what about missing values?\n",
    "\n",
    "else:\n",
    "    raise ValueError(f\"Unsupported mode for exclude_subgroups: {mode}\")\n"
   ]
  },
  {
   "cell_type": "code",
   "execution_count": 22,
   "id": "71651440",
   "metadata": {
    "execution": {
     "iopub.execute_input": "2025-07-22T09:15:33.266682Z",
     "iopub.status.busy": "2025-07-22T09:15:33.266167Z",
     "iopub.status.idle": "2025-07-22T09:15:33.272654Z",
     "shell.execute_reply": "2025-07-22T09:15:33.271529Z"
    },
    "papermill": {
     "duration": 0.017529,
     "end_time": "2025-07-22T09:15:33.273940",
     "exception": false,
     "start_time": "2025-07-22T09:15:33.256411",
     "status": "completed"
    },
    "tags": []
   },
   "outputs": [
    {
     "name": "stdout",
     "output_type": "stream",
     "text": [
      "Dropping 3312 rows (13.25%) where mode='drop-non-german'\n"
     ]
    }
   ],
   "source": [
    "n_drop = (~keep_mask).sum() # Calculates how many rows are set to be dropped\n",
    "if n_drop > 0:\n",
    "    pct = n_drop / len(keep_mask) * 100\n",
    "    print(f\"Dropping {n_drop} rows ({pct:.2f}%) where mode='{mode}'\")"
   ]
  },
  {
   "cell_type": "code",
   "execution_count": 23,
   "id": "5fb8eee5",
   "metadata": {
    "execution": {
     "iopub.execute_input": "2025-07-22T09:15:33.293990Z",
     "iopub.status.busy": "2025-07-22T09:15:33.293495Z",
     "iopub.status.idle": "2025-07-22T09:15:33.312374Z",
     "shell.execute_reply": "2025-07-22T09:15:33.311615Z"
    },
    "papermill": {
     "duration": 0.030171,
     "end_time": "2025-07-22T09:15:33.313879",
     "exception": false,
     "start_time": "2025-07-22T09:15:33.283708",
     "status": "completed"
    },
    "tags": []
   },
   "outputs": [],
   "source": [
    "X_train = X_train[keep_mask]"
   ]
  },
  {
   "cell_type": "code",
   "execution_count": 24,
   "id": "b202bb3a",
   "metadata": {
    "execution": {
     "iopub.execute_input": "2025-07-22T09:15:33.333981Z",
     "iopub.status.busy": "2025-07-22T09:15:33.333582Z",
     "iopub.status.idle": "2025-07-22T09:15:33.339246Z",
     "shell.execute_reply": "2025-07-22T09:15:33.338423Z"
    },
    "papermill": {
     "duration": 0.021404,
     "end_time": "2025-07-22T09:15:33.344766",
     "exception": false,
     "start_time": "2025-07-22T09:15:33.323362",
     "status": "completed"
    },
    "tags": []
   },
   "outputs": [],
   "source": [
    "y_train = y_train[keep_mask]"
   ]
  },
  {
   "cell_type": "markdown",
   "id": "493e2ac3",
   "metadata": {
    "papermill": {
     "duration": 0.015218,
     "end_time": "2025-07-22T09:15:33.377996",
     "exception": false,
     "start_time": "2025-07-22T09:15:33.362778",
     "status": "completed"
    },
    "tags": []
   },
   "source": [
    "# Model Training"
   ]
  },
  {
   "cell_type": "code",
   "execution_count": 25,
   "id": "679e1268",
   "metadata": {
    "execution": {
     "iopub.execute_input": "2025-07-22T09:15:33.399294Z",
     "iopub.status.busy": "2025-07-22T09:15:33.398952Z",
     "iopub.status.idle": "2025-07-22T09:15:33.474389Z",
     "shell.execute_reply": "2025-07-22T09:15:33.473656Z"
    },
    "papermill": {
     "duration": 0.086624,
     "end_time": "2025-07-22T09:15:33.475839",
     "exception": false,
     "start_time": "2025-07-22T09:15:33.389215",
     "status": "completed"
    },
    "tags": []
   },
   "outputs": [],
   "source": [
    "from sklearn.linear_model import LogisticRegression\n",
    "from sklearn.ensemble import GradientBoostingClassifier, RandomForestClassifier\n",
    "\n",
    "if (universe[\"model\"] == \"logreg\"):\n",
    "    model = LogisticRegression() #penalty=\"none\") #, solver=\"newton-cg\", max_iter=1) # include random_state=19 ?\n",
    "elif (universe[\"model\"] == \"penalized_logreg\"):\n",
    "    model = LogisticRegression(penalty=\"l2\", C=1.0) #, solver=\"newton-cg\", max_iter=1)\n",
    "elif (universe[\"model\"] == \"rf\"):\n",
    "    model = RandomForestClassifier(n_estimators=100, n_jobs=-1)\n",
    "elif (universe[\"model\"] == \"gbm\"):\n",
    "    model = GradientBoostingClassifier()\n",
    "elif (universe[\"model\"] == \"elasticnet\"):\n",
    "    model = LogisticRegression(penalty = 'elasticnet', solver = 'saga', l1_ratio = 0.5, max_iter=5000) # which solver to use?\n",
    "else:\n",
    "    raise \"Unsupported universe.model\""
   ]
  },
  {
   "cell_type": "code",
   "execution_count": 26,
   "id": "0cc8f744",
   "metadata": {
    "execution": {
     "iopub.execute_input": "2025-07-22T09:15:33.495262Z",
     "iopub.status.busy": "2025-07-22T09:15:33.494948Z",
     "iopub.status.idle": "2025-07-22T09:15:33.499937Z",
     "shell.execute_reply": "2025-07-22T09:15:33.499106Z"
    },
    "papermill": {
     "duration": 0.016063,
     "end_time": "2025-07-22T09:15:33.501312",
     "exception": false,
     "start_time": "2025-07-22T09:15:33.485249",
     "status": "completed"
    },
    "tags": []
   },
   "outputs": [],
   "source": [
    "import numpy as np\n",
    "from sklearn.pipeline import Pipeline\n",
    "from sklearn.preprocessing import StandardScaler\n",
    "\n",
    "model = Pipeline([\n",
    "    #(\"continuous_processor\", continuous_processor),\n",
    "    #(\"categorical_preprocessor\", categorical_preprocessor),\n",
    "    (\"scale\", StandardScaler() if universe[\"scale\"] == \"scale\" else None),\n",
    "    (\"model\", model),\n",
    "])"
   ]
  },
  {
   "cell_type": "code",
   "execution_count": 27,
   "id": "9442c04d",
   "metadata": {
    "execution": {
     "iopub.execute_input": "2025-07-22T09:15:33.521112Z",
     "iopub.status.busy": "2025-07-22T09:15:33.520542Z",
     "iopub.status.idle": "2025-07-22T09:15:48.270744Z",
     "shell.execute_reply": "2025-07-22T09:15:48.269921Z"
    },
    "papermill": {
     "duration": 14.7611,
     "end_time": "2025-07-22T09:15:48.272092",
     "exception": false,
     "start_time": "2025-07-22T09:15:33.510992",
     "status": "completed"
    },
    "tags": []
   },
   "outputs": [
    {
     "data": {
      "text/html": [
       "<style>#sk-container-id-1 {color: black;background-color: white;}#sk-container-id-1 pre{padding: 0;}#sk-container-id-1 div.sk-toggleable {background-color: white;}#sk-container-id-1 label.sk-toggleable__label {cursor: pointer;display: block;width: 100%;margin-bottom: 0;padding: 0.3em;box-sizing: border-box;text-align: center;}#sk-container-id-1 label.sk-toggleable__label-arrow:before {content: \"▸\";float: left;margin-right: 0.25em;color: #696969;}#sk-container-id-1 label.sk-toggleable__label-arrow:hover:before {color: black;}#sk-container-id-1 div.sk-estimator:hover label.sk-toggleable__label-arrow:before {color: black;}#sk-container-id-1 div.sk-toggleable__content {max-height: 0;max-width: 0;overflow: hidden;text-align: left;background-color: #f0f8ff;}#sk-container-id-1 div.sk-toggleable__content pre {margin: 0.2em;color: black;border-radius: 0.25em;background-color: #f0f8ff;}#sk-container-id-1 input.sk-toggleable__control:checked~div.sk-toggleable__content {max-height: 200px;max-width: 100%;overflow: auto;}#sk-container-id-1 input.sk-toggleable__control:checked~label.sk-toggleable__label-arrow:before {content: \"▾\";}#sk-container-id-1 div.sk-estimator input.sk-toggleable__control:checked~label.sk-toggleable__label {background-color: #d4ebff;}#sk-container-id-1 div.sk-label input.sk-toggleable__control:checked~label.sk-toggleable__label {background-color: #d4ebff;}#sk-container-id-1 input.sk-hidden--visually {border: 0;clip: rect(1px 1px 1px 1px);clip: rect(1px, 1px, 1px, 1px);height: 1px;margin: -1px;overflow: hidden;padding: 0;position: absolute;width: 1px;}#sk-container-id-1 div.sk-estimator {font-family: monospace;background-color: #f0f8ff;border: 1px dotted black;border-radius: 0.25em;box-sizing: border-box;margin-bottom: 0.5em;}#sk-container-id-1 div.sk-estimator:hover {background-color: #d4ebff;}#sk-container-id-1 div.sk-parallel-item::after {content: \"\";width: 100%;border-bottom: 1px solid gray;flex-grow: 1;}#sk-container-id-1 div.sk-label:hover label.sk-toggleable__label {background-color: #d4ebff;}#sk-container-id-1 div.sk-serial::before {content: \"\";position: absolute;border-left: 1px solid gray;box-sizing: border-box;top: 0;bottom: 0;left: 50%;z-index: 0;}#sk-container-id-1 div.sk-serial {display: flex;flex-direction: column;align-items: center;background-color: white;padding-right: 0.2em;padding-left: 0.2em;position: relative;}#sk-container-id-1 div.sk-item {position: relative;z-index: 1;}#sk-container-id-1 div.sk-parallel {display: flex;align-items: stretch;justify-content: center;background-color: white;position: relative;}#sk-container-id-1 div.sk-item::before, #sk-container-id-1 div.sk-parallel-item::before {content: \"\";position: absolute;border-left: 1px solid gray;box-sizing: border-box;top: 0;bottom: 0;left: 50%;z-index: -1;}#sk-container-id-1 div.sk-parallel-item {display: flex;flex-direction: column;z-index: 1;position: relative;background-color: white;}#sk-container-id-1 div.sk-parallel-item:first-child::after {align-self: flex-end;width: 50%;}#sk-container-id-1 div.sk-parallel-item:last-child::after {align-self: flex-start;width: 50%;}#sk-container-id-1 div.sk-parallel-item:only-child::after {width: 0;}#sk-container-id-1 div.sk-dashed-wrapped {border: 1px dashed gray;margin: 0 0.4em 0.5em 0.4em;box-sizing: border-box;padding-bottom: 0.4em;background-color: white;}#sk-container-id-1 div.sk-label label {font-family: monospace;font-weight: bold;display: inline-block;line-height: 1.2em;}#sk-container-id-1 div.sk-label-container {text-align: center;}#sk-container-id-1 div.sk-container {/* jupyter's `normalize.less` sets `[hidden] { display: none; }` but bootstrap.min.css set `[hidden] { display: none !important; }` so we also need the `!important` here to be able to override the default hidden behavior on the sphinx rendered scikit-learn.org. See: https://github.com/scikit-learn/scikit-learn/issues/21755 */display: inline-block !important;position: relative;}#sk-container-id-1 div.sk-text-repr-fallback {display: none;}</style><div id=\"sk-container-id-1\" class=\"sk-top-container\"><div class=\"sk-text-repr-fallback\"><pre>Pipeline(steps=[(&#x27;scale&#x27;, StandardScaler()),\n",
       "                (&#x27;model&#x27;,\n",
       "                 LogisticRegression(l1_ratio=0.5, max_iter=5000,\n",
       "                                    penalty=&#x27;elasticnet&#x27;, solver=&#x27;saga&#x27;))])</pre><b>In a Jupyter environment, please rerun this cell to show the HTML representation or trust the notebook. <br />On GitHub, the HTML representation is unable to render, please try loading this page with nbviewer.org.</b></div><div class=\"sk-container\" hidden><div class=\"sk-item sk-dashed-wrapped\"><div class=\"sk-label-container\"><div class=\"sk-label sk-toggleable\"><input class=\"sk-toggleable__control sk-hidden--visually\" id=\"sk-estimator-id-1\" type=\"checkbox\" ><label for=\"sk-estimator-id-1\" class=\"sk-toggleable__label sk-toggleable__label-arrow\">Pipeline</label><div class=\"sk-toggleable__content\"><pre>Pipeline(steps=[(&#x27;scale&#x27;, StandardScaler()),\n",
       "                (&#x27;model&#x27;,\n",
       "                 LogisticRegression(l1_ratio=0.5, max_iter=5000,\n",
       "                                    penalty=&#x27;elasticnet&#x27;, solver=&#x27;saga&#x27;))])</pre></div></div></div><div class=\"sk-serial\"><div class=\"sk-item\"><div class=\"sk-estimator sk-toggleable\"><input class=\"sk-toggleable__control sk-hidden--visually\" id=\"sk-estimator-id-2\" type=\"checkbox\" ><label for=\"sk-estimator-id-2\" class=\"sk-toggleable__label sk-toggleable__label-arrow\">StandardScaler</label><div class=\"sk-toggleable__content\"><pre>StandardScaler()</pre></div></div></div><div class=\"sk-item\"><div class=\"sk-estimator sk-toggleable\"><input class=\"sk-toggleable__control sk-hidden--visually\" id=\"sk-estimator-id-3\" type=\"checkbox\" ><label for=\"sk-estimator-id-3\" class=\"sk-toggleable__label sk-toggleable__label-arrow\">LogisticRegression</label><div class=\"sk-toggleable__content\"><pre>LogisticRegression(l1_ratio=0.5, max_iter=5000, penalty=&#x27;elasticnet&#x27;,\n",
       "                   solver=&#x27;saga&#x27;)</pre></div></div></div></div></div></div></div>"
      ],
      "text/plain": [
       "Pipeline(steps=[('scale', StandardScaler()),\n",
       "                ('model',\n",
       "                 LogisticRegression(l1_ratio=0.5, max_iter=5000,\n",
       "                                    penalty='elasticnet', solver='saga'))])"
      ]
     },
     "execution_count": 27,
     "metadata": {},
     "output_type": "execute_result"
    }
   ],
   "source": [
    "model.fit(X_train, y_train.values.ravel())"
   ]
  },
  {
   "cell_type": "code",
   "execution_count": 28,
   "id": "af59f8c0",
   "metadata": {
    "execution": {
     "iopub.execute_input": "2025-07-22T09:15:48.299447Z",
     "iopub.status.busy": "2025-07-22T09:15:48.298896Z",
     "iopub.status.idle": "2025-07-22T09:15:48.306429Z",
     "shell.execute_reply": "2025-07-22T09:15:48.305340Z"
    },
    "papermill": {
     "duration": 0.022833,
     "end_time": "2025-07-22T09:15:48.308133",
     "exception": false,
     "start_time": "2025-07-22T09:15:48.285300",
     "status": "completed"
    },
    "tags": []
   },
   "outputs": [],
   "source": [
    "from fairness_multiverse.universe import predict_w_threshold"
   ]
  },
  {
   "cell_type": "code",
   "execution_count": 29,
   "id": "a7cf2e16",
   "metadata": {
    "execution": {
     "iopub.execute_input": "2025-07-22T09:15:48.345703Z",
     "iopub.status.busy": "2025-07-22T09:15:48.345214Z",
     "iopub.status.idle": "2025-07-22T09:15:48.553782Z",
     "shell.execute_reply": "2025-07-22T09:15:48.552919Z"
    },
    "papermill": {
     "duration": 0.229448,
     "end_time": "2025-07-22T09:15:48.555374",
     "exception": false,
     "start_time": "2025-07-22T09:15:48.325926",
     "status": "completed"
    },
    "tags": []
   },
   "outputs": [
    {
     "data": {
      "text/plain": [
       "0.85999331178241"
      ]
     },
     "execution_count": 29,
     "metadata": {},
     "output_type": "execute_result"
    }
   ],
   "source": [
    "probs_test = model.predict_proba(X_test)\n",
    "\n",
    "'''\n",
    "Below code returns a boolean array (or binary 0/1 array depending on how it’s used) where each element \n",
    "is True if the probability of class 1 is greater than or equal to the threshold, and False otherwise.\n",
    "'''\n",
    "y_pred_default = predict_w_threshold(probs_test, 0.5)\n",
    "\n",
    "from sklearn.metrics import accuracy_score\n",
    "\n",
    "# Naive prediction\n",
    "accuracy_score(y_true = y_true, y_pred = y_pred_default)"
   ]
  },
  {
   "cell_type": "code",
   "execution_count": 30,
   "id": "081964c3",
   "metadata": {
    "execution": {
     "iopub.execute_input": "2025-07-22T09:15:48.594393Z",
     "iopub.status.busy": "2025-07-22T09:15:48.593991Z",
     "iopub.status.idle": "2025-07-22T09:15:48.781283Z",
     "shell.execute_reply": "2025-07-22T09:15:48.780442Z"
    },
    "papermill": {
     "duration": 0.209969,
     "end_time": "2025-07-22T09:15:48.782657",
     "exception": false,
     "start_time": "2025-07-22T09:15:48.572688",
     "status": "completed"
    },
    "tags": []
   },
   "outputs": [
    {
     "data": {
      "text/plain": [
       "array([0, 0, 0, ..., 0, 0, 0])"
      ]
     },
     "execution_count": 30,
     "metadata": {},
     "output_type": "execute_result"
    }
   ],
   "source": [
    "model.predict(X_test)"
   ]
  },
  {
   "cell_type": "markdown",
   "id": "56c9705b",
   "metadata": {
    "papermill": {
     "duration": 0.009824,
     "end_time": "2025-07-22T09:15:48.802736",
     "exception": false,
     "start_time": "2025-07-22T09:15:48.792912",
     "status": "completed"
    },
    "tags": []
   },
   "source": [
    "# Conformal Prediction"
   ]
  },
  {
   "cell_type": "code",
   "execution_count": 31,
   "id": "160ec6ff",
   "metadata": {
    "execution": {
     "iopub.execute_input": "2025-07-22T09:15:48.823473Z",
     "iopub.status.busy": "2025-07-22T09:15:48.822831Z",
     "iopub.status.idle": "2025-07-22T09:15:48.827484Z",
     "shell.execute_reply": "2025-07-22T09:15:48.826725Z"
    },
    "papermill": {
     "duration": 0.016457,
     "end_time": "2025-07-22T09:15:48.828814",
     "exception": false,
     "start_time": "2025-07-22T09:15:48.812357",
     "status": "completed"
    },
    "tags": []
   },
   "outputs": [],
   "source": [
    "# Miscoverage level for conformal prediction (10% allowed error rate => 90% target coverage)\n",
    "alpha = 0.1"
   ]
  },
  {
   "cell_type": "code",
   "execution_count": 32,
   "id": "eadf4555-3dd3-440e-8e35-f82a4ad9f855",
   "metadata": {
    "execution": {
     "iopub.execute_input": "2025-07-22T09:15:48.849840Z",
     "iopub.status.busy": "2025-07-22T09:15:48.849210Z",
     "iopub.status.idle": "2025-07-22T09:15:49.027312Z",
     "shell.execute_reply": "2025-07-22T09:15:49.026311Z"
    },
    "papermill": {
     "duration": 0.19062,
     "end_time": "2025-07-22T09:15:49.029484",
     "exception": false,
     "start_time": "2025-07-22T09:15:48.838864",
     "status": "completed"
    },
    "tags": []
   },
   "outputs": [],
   "source": [
    "probs_calib = model.predict_proba(X_calib)"
   ]
  },
  {
   "cell_type": "code",
   "execution_count": 33,
   "id": "2ed93547-6d5d-4983-9b36-1ecb300da49a",
   "metadata": {
    "execution": {
     "iopub.execute_input": "2025-07-22T09:15:49.069894Z",
     "iopub.status.busy": "2025-07-22T09:15:49.069204Z",
     "iopub.status.idle": "2025-07-22T09:15:49.074835Z",
     "shell.execute_reply": "2025-07-22T09:15:49.073977Z"
    },
    "papermill": {
     "duration": 0.027236,
     "end_time": "2025-07-22T09:15:49.076664",
     "exception": false,
     "start_time": "2025-07-22T09:15:49.049428",
     "status": "completed"
    },
    "tags": []
   },
   "outputs": [],
   "source": [
    "y_calib = y_calib.values.ravel().astype(int)"
   ]
  },
  {
   "cell_type": "code",
   "execution_count": 34,
   "id": "65d1320d-f588-4b38-9072-62af1ae97f7d",
   "metadata": {
    "execution": {
     "iopub.execute_input": "2025-07-22T09:15:49.114285Z",
     "iopub.status.busy": "2025-07-22T09:15:49.113755Z",
     "iopub.status.idle": "2025-07-22T09:15:49.122559Z",
     "shell.execute_reply": "2025-07-22T09:15:49.121607Z"
    },
    "papermill": {
     "duration": 0.029345,
     "end_time": "2025-07-22T09:15:49.124455",
     "exception": false,
     "start_time": "2025-07-22T09:15:49.095110",
     "status": "completed"
    },
    "tags": []
   },
   "outputs": [],
   "source": [
    "from fairness_multiverse.conformal import compute_nc_scores\n",
    "\n",
    "# Compute nonconformity scores on calibration set (1 - probability of true class)\n",
    "nc_scores = compute_nc_scores(probs_calib, y_calib)"
   ]
  },
  {
   "cell_type": "code",
   "execution_count": 35,
   "id": "df3b8ca3-53b7-43d5-9667-7c85da7aeda2",
   "metadata": {
    "execution": {
     "iopub.execute_input": "2025-07-22T09:15:49.165176Z",
     "iopub.status.busy": "2025-07-22T09:15:49.164412Z",
     "iopub.status.idle": "2025-07-22T09:15:49.171456Z",
     "shell.execute_reply": "2025-07-22T09:15:49.170537Z"
    },
    "papermill": {
     "duration": 0.028989,
     "end_time": "2025-07-22T09:15:49.173400",
     "exception": false,
     "start_time": "2025-07-22T09:15:49.144411",
     "status": "completed"
    },
    "tags": []
   },
   "outputs": [],
   "source": [
    "from fairness_multiverse.conformal import find_threshold\n",
    "\n",
    "# Find conformal threshold q_hat for the given alpha (split conformal method)\n",
    "q_hat = find_threshold(nc_scores, alpha)"
   ]
  },
  {
   "cell_type": "code",
   "execution_count": 36,
   "id": "4d29e6c1-0ef6-4aa4-b8fe-4fe79b0d033a",
   "metadata": {
    "execution": {
     "iopub.execute_input": "2025-07-22T09:15:49.215008Z",
     "iopub.status.busy": "2025-07-22T09:15:49.214020Z",
     "iopub.status.idle": "2025-07-22T09:15:49.221009Z",
     "shell.execute_reply": "2025-07-22T09:15:49.220096Z"
    },
    "papermill": {
     "duration": 0.028013,
     "end_time": "2025-07-22T09:15:49.222476",
     "exception": false,
     "start_time": "2025-07-22T09:15:49.194463",
     "status": "completed"
    },
    "tags": []
   },
   "outputs": [
    {
     "data": {
      "text/plain": [
       "0.6595202646684198"
      ]
     },
     "execution_count": 36,
     "metadata": {},
     "output_type": "execute_result"
    }
   ],
   "source": [
    "q_hat"
   ]
  },
  {
   "cell_type": "code",
   "execution_count": 37,
   "id": "92460794-cdac-4be2-ba28-f28c0515a6fb",
   "metadata": {
    "execution": {
     "iopub.execute_input": "2025-07-22T09:15:49.262795Z",
     "iopub.status.busy": "2025-07-22T09:15:49.261850Z",
     "iopub.status.idle": "2025-07-22T09:15:50.179774Z",
     "shell.execute_reply": "2025-07-22T09:15:50.178839Z"
    },
    "papermill": {
     "duration": 0.941012,
     "end_time": "2025-07-22T09:15:50.181764",
     "exception": false,
     "start_time": "2025-07-22T09:15:49.240752",
     "status": "completed"
    },
    "tags": []
   },
   "outputs": [],
   "source": [
    "from fairness_multiverse.conformal import predict_conformal_sets\n",
    "\n",
    "# Generate prediction sets for each test example\n",
    "pred_sets = predict_conformal_sets(model, X_test, q_hat)"
   ]
  },
  {
   "cell_type": "code",
   "execution_count": 38,
   "id": "d90c9a65-e6db-4f5d-80cd-e68fb7e46829",
   "metadata": {
    "execution": {
     "iopub.execute_input": "2025-07-22T09:15:50.220852Z",
     "iopub.status.busy": "2025-07-22T09:15:50.220445Z",
     "iopub.status.idle": "2025-07-22T09:15:50.225806Z",
     "shell.execute_reply": "2025-07-22T09:15:50.224802Z"
    },
    "papermill": {
     "duration": 0.026227,
     "end_time": "2025-07-22T09:15:50.227312",
     "exception": false,
     "start_time": "2025-07-22T09:15:50.201085",
     "status": "completed"
    },
    "tags": []
   },
   "outputs": [],
   "source": [
    "y_true = y_true.squeeze()"
   ]
  },
  {
   "cell_type": "code",
   "execution_count": 39,
   "id": "3a58a54a-1e68-46b9-927a-df01f18aebc8",
   "metadata": {
    "execution": {
     "iopub.execute_input": "2025-07-22T09:15:50.265711Z",
     "iopub.status.busy": "2025-07-22T09:15:50.264863Z",
     "iopub.status.idle": "2025-07-22T09:15:51.216811Z",
     "shell.execute_reply": "2025-07-22T09:15:51.215740Z"
    },
    "papermill": {
     "duration": 0.972707,
     "end_time": "2025-07-22T09:15:51.218535",
     "exception": false,
     "start_time": "2025-07-22T09:15:50.245828",
     "status": "completed"
    },
    "tags": []
   },
   "outputs": [],
   "source": [
    "from fairness_multiverse.conformal import evaluate_sets\n",
    "\n",
    "# Evaluate coverage and average set size on test data\n",
    "metrics = evaluate_sets(pred_sets, y_true)"
   ]
  },
  {
   "cell_type": "code",
   "execution_count": 40,
   "id": "5ce0a5cb-201f-45a0-ade5-94c7f0bd6095",
   "metadata": {
    "execution": {
     "iopub.execute_input": "2025-07-22T09:15:51.262415Z",
     "iopub.status.busy": "2025-07-22T09:15:51.261700Z",
     "iopub.status.idle": "2025-07-22T09:15:51.268809Z",
     "shell.execute_reply": "2025-07-22T09:15:51.267844Z"
    },
    "papermill": {
     "duration": 0.032387,
     "end_time": "2025-07-22T09:15:51.270944",
     "exception": false,
     "start_time": "2025-07-22T09:15:51.238557",
     "status": "completed"
    },
    "tags": []
   },
   "outputs": [
    {
     "data": {
      "text/plain": [
       "{'coverage': 0.9101772377661353, 'avg_size': 1.1251365511091294}"
      ]
     },
     "execution_count": 40,
     "metadata": {},
     "output_type": "execute_result"
    }
   ],
   "source": [
    "metrics"
   ]
  },
  {
   "cell_type": "code",
   "execution_count": 41,
   "id": "9b9a838d-31c9-430b-ae14-12baee460d17",
   "metadata": {
    "execution": {
     "iopub.execute_input": "2025-07-22T09:15:51.317812Z",
     "iopub.status.busy": "2025-07-22T09:15:51.316960Z",
     "iopub.status.idle": "2025-07-22T09:15:51.322719Z",
     "shell.execute_reply": "2025-07-22T09:15:51.321748Z"
    },
    "papermill": {
     "duration": 0.030672,
     "end_time": "2025-07-22T09:15:51.324767",
     "exception": false,
     "start_time": "2025-07-22T09:15:51.294095",
     "status": "completed"
    },
    "tags": []
   },
   "outputs": [],
   "source": [
    "example_universe = universe.copy()\n",
    "universe_model = example_universe.get(\"model\")\n",
    "universe_exclude_features = example_universe.get(\"exclude_features\")\n",
    "universe_exclude_subgroups = example_universe.get(\"exclude_subgroups\")"
   ]
  },
  {
   "cell_type": "code",
   "execution_count": 42,
   "id": "f4b6a8ac-9dc0-4245-8a91-5b3b5999c4f9",
   "metadata": {
    "execution": {
     "iopub.execute_input": "2025-07-22T09:15:51.371402Z",
     "iopub.status.busy": "2025-07-22T09:15:51.370963Z",
     "iopub.status.idle": "2025-07-22T09:15:51.377411Z",
     "shell.execute_reply": "2025-07-22T09:15:51.376382Z"
    },
    "papermill": {
     "duration": 0.031291,
     "end_time": "2025-07-22T09:15:51.379046",
     "exception": false,
     "start_time": "2025-07-22T09:15:51.347755",
     "status": "completed"
    },
    "tags": []
   },
   "outputs": [],
   "source": [
    "cp_metrics_dict = {\n",
    "    \"universe_id\": [universe_id],\n",
    "    \"universe_model\": [universe_model],\n",
    "    \"universe_exclude_features\": [universe_exclude_features],\n",
    "    \"universe_exclude_subgroups\": [universe_exclude_subgroups],\n",
    "    \"q_hat\": [q_hat],\n",
    "    \"coverage\": [metrics[\"coverage\"]],\n",
    "    \"avg_size\": [metrics[\"avg_size\"]],\n",
    "}"
   ]
  },
  {
   "cell_type": "code",
   "execution_count": 43,
   "id": "908acbb1-0371-4915-85ca-3fa520d2efe2",
   "metadata": {
    "execution": {
     "iopub.execute_input": "2025-07-22T09:15:51.420256Z",
     "iopub.status.busy": "2025-07-22T09:15:51.419788Z",
     "iopub.status.idle": "2025-07-22T09:15:51.427910Z",
     "shell.execute_reply": "2025-07-22T09:15:51.426811Z"
    },
    "papermill": {
     "duration": 0.030174,
     "end_time": "2025-07-22T09:15:51.429690",
     "exception": false,
     "start_time": "2025-07-22T09:15:51.399516",
     "status": "completed"
    },
    "tags": []
   },
   "outputs": [
    {
     "data": {
      "text/plain": [
       "{'universe_id': ['992923ba54cc8fc630efc8cc066c4867'],\n",
       " 'universe_model': ['elasticnet'],\n",
       " 'universe_exclude_features': ['nationality'],\n",
       " 'universe_exclude_subgroups': ['drop-non-german'],\n",
       " 'q_hat': [0.6595202646684198],\n",
       " 'coverage': [0.9101772377661353],\n",
       " 'avg_size': [1.1251365511091294]}"
      ]
     },
     "execution_count": 43,
     "metadata": {},
     "output_type": "execute_result"
    }
   ],
   "source": [
    "cp_metrics_dict"
   ]
  },
  {
   "cell_type": "code",
   "execution_count": 44,
   "id": "33007efc-14e9-4ec6-97ac-56a455c82265",
   "metadata": {
    "execution": {
     "iopub.execute_input": "2025-07-22T09:15:51.469104Z",
     "iopub.status.busy": "2025-07-22T09:15:51.468330Z",
     "iopub.status.idle": "2025-07-22T09:15:51.474911Z",
     "shell.execute_reply": "2025-07-22T09:15:51.473928Z"
    },
    "papermill": {
     "duration": 0.027818,
     "end_time": "2025-07-22T09:15:51.476539",
     "exception": false,
     "start_time": "2025-07-22T09:15:51.448721",
     "status": "completed"
    },
    "tags": []
   },
   "outputs": [],
   "source": [
    "cp_metrics_df = pd.DataFrame(cp_metrics_dict)"
   ]
  },
  {
   "cell_type": "code",
   "execution_count": 45,
   "id": "db12611b-57b2-4910-b9d0-355adfd6e7bf",
   "metadata": {
    "execution": {
     "iopub.execute_input": "2025-07-22T09:15:51.517372Z",
     "iopub.status.busy": "2025-07-22T09:15:51.516307Z",
     "iopub.status.idle": "2025-07-22T09:15:51.535537Z",
     "shell.execute_reply": "2025-07-22T09:15:51.534577Z"
    },
    "papermill": {
     "duration": 0.041581,
     "end_time": "2025-07-22T09:15:51.537162",
     "exception": false,
     "start_time": "2025-07-22T09:15:51.495581",
     "status": "completed"
    },
    "tags": []
   },
   "outputs": [
    {
     "data": {
      "text/html": [
       "<div>\n",
       "<style scoped>\n",
       "    .dataframe tbody tr th:only-of-type {\n",
       "        vertical-align: middle;\n",
       "    }\n",
       "\n",
       "    .dataframe tbody tr th {\n",
       "        vertical-align: top;\n",
       "    }\n",
       "\n",
       "    .dataframe thead th {\n",
       "        text-align: right;\n",
       "    }\n",
       "</style>\n",
       "<table border=\"1\" class=\"dataframe\">\n",
       "  <thead>\n",
       "    <tr style=\"text-align: right;\">\n",
       "      <th></th>\n",
       "      <th>universe_id</th>\n",
       "      <th>universe_model</th>\n",
       "      <th>universe_exclude_features</th>\n",
       "      <th>universe_exclude_subgroups</th>\n",
       "      <th>q_hat</th>\n",
       "      <th>coverage</th>\n",
       "      <th>avg_size</th>\n",
       "    </tr>\n",
       "  </thead>\n",
       "  <tbody>\n",
       "    <tr>\n",
       "      <th>0</th>\n",
       "      <td>992923ba54cc8fc630efc8cc066c4867</td>\n",
       "      <td>elasticnet</td>\n",
       "      <td>nationality</td>\n",
       "      <td>drop-non-german</td>\n",
       "      <td>0.65952</td>\n",
       "      <td>0.910177</td>\n",
       "      <td>1.125137</td>\n",
       "    </tr>\n",
       "  </tbody>\n",
       "</table>\n",
       "</div>"
      ],
      "text/plain": [
       "                        universe_id universe_model universe_exclude_features  \\\n",
       "0  992923ba54cc8fc630efc8cc066c4867     elasticnet               nationality   \n",
       "\n",
       "  universe_exclude_subgroups    q_hat  coverage  avg_size  \n",
       "0            drop-non-german  0.65952  0.910177  1.125137  "
      ]
     },
     "execution_count": 45,
     "metadata": {},
     "output_type": "execute_result"
    }
   ],
   "source": [
    "cp_metrics_df"
   ]
  },
  {
   "cell_type": "code",
   "execution_count": 46,
   "id": "b7fbde55-a0a1-47e4-9af6-fe4a17fa8c61",
   "metadata": {
    "execution": {
     "iopub.execute_input": "2025-07-22T09:15:51.580208Z",
     "iopub.status.busy": "2025-07-22T09:15:51.579507Z",
     "iopub.status.idle": "2025-07-22T09:15:51.585870Z",
     "shell.execute_reply": "2025-07-22T09:15:51.584753Z"
    },
    "papermill": {
     "duration": 0.029716,
     "end_time": "2025-07-22T09:15:51.587761",
     "exception": false,
     "start_time": "2025-07-22T09:15:51.558045",
     "status": "completed"
    },
    "tags": []
   },
   "outputs": [],
   "source": [
    "# Conditional Coverage & looking at subgroups"
   ]
  },
  {
   "cell_type": "code",
   "execution_count": 47,
   "id": "027ae886-68dd-4141-96c7-805a5450e1ef",
   "metadata": {
    "execution": {
     "iopub.execute_input": "2025-07-22T09:15:51.629260Z",
     "iopub.status.busy": "2025-07-22T09:15:51.628537Z",
     "iopub.status.idle": "2025-07-22T09:15:51.885920Z",
     "shell.execute_reply": "2025-07-22T09:15:51.884997Z"
    },
    "papermill": {
     "duration": 0.279692,
     "end_time": "2025-07-22T09:15:51.887809",
     "exception": false,
     "start_time": "2025-07-22T09:15:51.608117",
     "status": "completed"
    },
    "tags": []
   },
   "outputs": [],
   "source": [
    "from fairness_multiverse.conformal import build_cp_groups\n",
    "\n",
    "cp_groups_df = build_cp_groups(pred_sets, y_true, X_test.index, org_test)\n",
    "#needs universe_id and setting"
   ]
  },
  {
   "cell_type": "code",
   "execution_count": 48,
   "id": "c3b92545-903e-4839-89af-0f057907d7d6",
   "metadata": {
    "execution": {
     "iopub.execute_input": "2025-07-22T09:15:51.929737Z",
     "iopub.status.busy": "2025-07-22T09:15:51.928740Z",
     "iopub.status.idle": "2025-07-22T09:15:53.502112Z",
     "shell.execute_reply": "2025-07-22T09:15:53.501209Z"
    },
    "papermill": {
     "duration": 1.595616,
     "end_time": "2025-07-22T09:15:53.503960",
     "exception": false,
     "start_time": "2025-07-22T09:15:51.908344",
     "status": "completed"
    },
    "tags": []
   },
   "outputs": [],
   "source": [
    "# Define covered = 1 if true_label is in the predicted set\n",
    "cp_groups_df['covered'] = cp_groups_df.apply(\n",
    "    lambda r: int(r['true_label'] in r['pred_set']),\n",
    "    axis=1\n",
    ")"
   ]
  },
  {
   "cell_type": "code",
   "execution_count": 49,
   "id": "338ff529-1a6b-4b87-a931-8e4788d52aad",
   "metadata": {
    "execution": {
     "iopub.execute_input": "2025-07-22T09:15:53.546467Z",
     "iopub.status.busy": "2025-07-22T09:15:53.545995Z",
     "iopub.status.idle": "2025-07-22T09:15:53.551380Z",
     "shell.execute_reply": "2025-07-22T09:15:53.550387Z"
    },
    "papermill": {
     "duration": 0.028346,
     "end_time": "2025-07-22T09:15:53.553117",
     "exception": false,
     "start_time": "2025-07-22T09:15:53.524771",
     "status": "completed"
    },
    "tags": []
   },
   "outputs": [],
   "source": [
    "#cp_groups_df"
   ]
  },
  {
   "cell_type": "code",
   "execution_count": 50,
   "id": "90032e27-66df-4540-9169-4e89cfbaa758",
   "metadata": {
    "execution": {
     "iopub.execute_input": "2025-07-22T09:15:53.595192Z",
     "iopub.status.busy": "2025-07-22T09:15:53.594193Z",
     "iopub.status.idle": "2025-07-22T09:15:53.606428Z",
     "shell.execute_reply": "2025-07-22T09:15:53.605438Z"
    },
    "papermill": {
     "duration": 0.034717,
     "end_time": "2025-07-22T09:15:53.608144",
     "exception": false,
     "start_time": "2025-07-22T09:15:53.573427",
     "status": "completed"
    },
    "tags": []
   },
   "outputs": [],
   "source": [
    "subgroups = ['frau1','nongerman','nongerman_male','nongerman_female']\n",
    "\n",
    "# Conditional coverage for subgroup==1\n",
    "cond_coverage = {\n",
    "    g: cp_groups_df.loc[cp_groups_df[g]==1, 'covered'].mean()\n",
    "    for g in subgroups\n",
    "}"
   ]
  },
  {
   "cell_type": "code",
   "execution_count": 51,
   "id": "1e348fb1-b9c3-45bc-ba23-f016827a7e0d",
   "metadata": {
    "execution": {
     "iopub.execute_input": "2025-07-22T09:15:53.649924Z",
     "iopub.status.busy": "2025-07-22T09:15:53.648970Z",
     "iopub.status.idle": "2025-07-22T09:15:53.656335Z",
     "shell.execute_reply": "2025-07-22T09:15:53.655347Z"
    },
    "papermill": {
     "duration": 0.030619,
     "end_time": "2025-07-22T09:15:53.658372",
     "exception": false,
     "start_time": "2025-07-22T09:15:53.627753",
     "status": "completed"
    },
    "tags": []
   },
   "outputs": [
    {
     "data": {
      "text/plain": [
       "{'frau1': 0.908127780024262,\n",
       " 'nongerman': 0.9102340986919666,\n",
       " 'nongerman_male': 0.927136809871206,\n",
       " 'nongerman_female': 0.8822652757078987}"
      ]
     },
     "execution_count": 51,
     "metadata": {},
     "output_type": "execute_result"
    }
   ],
   "source": [
    "cond_coverage"
   ]
  },
  {
   "cell_type": "code",
   "execution_count": 52,
   "id": "f5093324-c3dd-4d63-bc4c-8d945e5c8bbb",
   "metadata": {
    "execution": {
     "iopub.execute_input": "2025-07-22T09:15:53.709700Z",
     "iopub.status.busy": "2025-07-22T09:15:53.709036Z",
     "iopub.status.idle": "2025-07-22T09:15:53.716727Z",
     "shell.execute_reply": "2025-07-22T09:15:53.715753Z"
    },
    "papermill": {
     "duration": 0.031477,
     "end_time": "2025-07-22T09:15:53.718414",
     "exception": false,
     "start_time": "2025-07-22T09:15:53.686937",
     "status": "completed"
    },
    "tags": []
   },
   "outputs": [],
   "source": [
    "for subgroup, cov in cond_coverage.items():\n",
    "    cp_metrics_df[f\"cov_{subgroup}\"] = cov"
   ]
  },
  {
   "cell_type": "code",
   "execution_count": 53,
   "id": "6e872e10-dbe5-49e8-b554-5030c98ff75d",
   "metadata": {
    "execution": {
     "iopub.execute_input": "2025-07-22T09:15:53.760807Z",
     "iopub.status.busy": "2025-07-22T09:15:53.759999Z",
     "iopub.status.idle": "2025-07-22T09:15:53.778343Z",
     "shell.execute_reply": "2025-07-22T09:15:53.777459Z"
    },
    "papermill": {
     "duration": 0.040997,
     "end_time": "2025-07-22T09:15:53.779870",
     "exception": false,
     "start_time": "2025-07-22T09:15:53.738873",
     "status": "completed"
    },
    "tags": []
   },
   "outputs": [
    {
     "data": {
      "text/html": [
       "<div>\n",
       "<style scoped>\n",
       "    .dataframe tbody tr th:only-of-type {\n",
       "        vertical-align: middle;\n",
       "    }\n",
       "\n",
       "    .dataframe tbody tr th {\n",
       "        vertical-align: top;\n",
       "    }\n",
       "\n",
       "    .dataframe thead th {\n",
       "        text-align: right;\n",
       "    }\n",
       "</style>\n",
       "<table border=\"1\" class=\"dataframe\">\n",
       "  <thead>\n",
       "    <tr style=\"text-align: right;\">\n",
       "      <th></th>\n",
       "      <th>universe_id</th>\n",
       "      <th>universe_model</th>\n",
       "      <th>universe_exclude_features</th>\n",
       "      <th>universe_exclude_subgroups</th>\n",
       "      <th>q_hat</th>\n",
       "      <th>coverage</th>\n",
       "      <th>avg_size</th>\n",
       "      <th>cov_frau1</th>\n",
       "      <th>cov_nongerman</th>\n",
       "      <th>cov_nongerman_male</th>\n",
       "      <th>cov_nongerman_female</th>\n",
       "    </tr>\n",
       "  </thead>\n",
       "  <tbody>\n",
       "    <tr>\n",
       "      <th>0</th>\n",
       "      <td>992923ba54cc8fc630efc8cc066c4867</td>\n",
       "      <td>elasticnet</td>\n",
       "      <td>nationality</td>\n",
       "      <td>drop-non-german</td>\n",
       "      <td>0.65952</td>\n",
       "      <td>0.910177</td>\n",
       "      <td>1.125137</td>\n",
       "      <td>0.908128</td>\n",
       "      <td>0.910234</td>\n",
       "      <td>0.927137</td>\n",
       "      <td>0.882265</td>\n",
       "    </tr>\n",
       "  </tbody>\n",
       "</table>\n",
       "</div>"
      ],
      "text/plain": [
       "                        universe_id universe_model universe_exclude_features  \\\n",
       "0  992923ba54cc8fc630efc8cc066c4867     elasticnet               nationality   \n",
       "\n",
       "  universe_exclude_subgroups    q_hat  coverage  avg_size  cov_frau1  \\\n",
       "0            drop-non-german  0.65952  0.910177  1.125137   0.908128   \n",
       "\n",
       "   cov_nongerman  cov_nongerman_male  cov_nongerman_female  \n",
       "0       0.910234            0.927137              0.882265  "
      ]
     },
     "execution_count": 53,
     "metadata": {},
     "output_type": "execute_result"
    }
   ],
   "source": [
    "cp_metrics_df"
   ]
  },
  {
   "cell_type": "markdown",
   "id": "33774451",
   "metadata": {
    "papermill": {
     "duration": 0.019559,
     "end_time": "2025-07-22T09:15:53.821059",
     "exception": false,
     "start_time": "2025-07-22T09:15:53.801500",
     "status": "completed"
    },
    "tags": []
   },
   "source": [
    "# (Fairness) Metrics"
   ]
  },
  {
   "cell_type": "code",
   "execution_count": 54,
   "id": "debc5d62",
   "metadata": {
    "execution": {
     "iopub.execute_input": "2025-07-22T09:15:53.862022Z",
     "iopub.status.busy": "2025-07-22T09:15:53.861331Z",
     "iopub.status.idle": "2025-07-22T09:15:53.884441Z",
     "shell.execute_reply": "2025-07-22T09:15:53.883566Z"
    },
    "papermill": {
     "duration": 0.045813,
     "end_time": "2025-07-22T09:15:53.886244",
     "exception": false,
     "start_time": "2025-07-22T09:15:53.840431",
     "status": "completed"
    },
    "tags": []
   },
   "outputs": [],
   "source": [
    "# do I need to include maxdeutsch1.missing?\n",
    "\n",
    "import numpy as np\n",
    "\n",
    "colname_to_bin = \"maxdeutsch1\"\n",
    "majority_value = org_train[colname_to_bin].mode()[0]\n",
    "\n",
    "org_test[\"majmin\"] = np.where(org_test[colname_to_bin] == majority_value, \"majority\", \"minority\")"
   ]
  },
  {
   "cell_type": "code",
   "execution_count": 55,
   "id": "06a50de5",
   "metadata": {
    "execution": {
     "iopub.execute_input": "2025-07-22T09:15:53.928717Z",
     "iopub.status.busy": "2025-07-22T09:15:53.928007Z",
     "iopub.status.idle": "2025-07-22T09:15:56.856723Z",
     "shell.execute_reply": "2025-07-22T09:15:56.855440Z"
    },
    "papermill": {
     "duration": 2.951674,
     "end_time": "2025-07-22T09:15:56.858536",
     "exception": false,
     "start_time": "2025-07-22T09:15:53.906862",
     "status": "completed"
    },
    "tags": []
   },
   "outputs": [],
   "source": [
    "example_universe = universe.copy()\n",
    "example_universe[\"cutoff\"] = example_universe[\"cutoff\"][0]\n",
    "example_universe[\"eval_fairness_grouping\"] = example_universe[\"eval_fairness_grouping\"][0]\n",
    "fairness_dict, metric_frame = universe_analysis.compute_metrics(\n",
    "    example_universe,\n",
    "    y_pred_prob=probs_test,\n",
    "    y_test=y_true,\n",
    "    org_test=org_test,\n",
    ")"
   ]
  },
  {
   "cell_type": "markdown",
   "id": "f95d4e02",
   "metadata": {
    "papermill": {
     "duration": 0.019463,
     "end_time": "2025-07-22T09:15:56.898110",
     "exception": false,
     "start_time": "2025-07-22T09:15:56.878647",
     "status": "completed"
    },
    "tags": []
   },
   "source": [
    "# Overall"
   ]
  },
  {
   "cell_type": "markdown",
   "id": "bdee4871",
   "metadata": {
    "papermill": {
     "duration": 0.019069,
     "end_time": "2025-07-22T09:15:56.936409",
     "exception": false,
     "start_time": "2025-07-22T09:15:56.917340",
     "status": "completed"
    },
    "tags": []
   },
   "source": [
    "Fairness\n",
    "Main fairness target: Equalized Odds. Seems to be a better fit than equal opportunity, since we're not only interested in Y = 1. Seems to be a better fit than demographic parity, since we also care about accuracy, not just equal distribution of preds.\n",
    "\n",
    "Pick column for computation of fairness metrics\n",
    "\n",
    "Performance\n",
    "Overall performance measures, most interesting in relation to the measures split by group below"
   ]
  },
  {
   "cell_type": "code",
   "execution_count": 56,
   "id": "c4e067c6",
   "metadata": {
    "execution": {
     "iopub.execute_input": "2025-07-22T09:15:56.976470Z",
     "iopub.status.busy": "2025-07-22T09:15:56.975817Z",
     "iopub.status.idle": "2025-07-22T09:15:56.984081Z",
     "shell.execute_reply": "2025-07-22T09:15:56.983213Z"
    },
    "papermill": {
     "duration": 0.030195,
     "end_time": "2025-07-22T09:15:56.985747",
     "exception": false,
     "start_time": "2025-07-22T09:15:56.955552",
     "status": "completed"
    },
    "tags": []
   },
   "outputs": [
    {
     "data": {
      "text/plain": [
       "accuracy                   0.225471\n",
       "balanced accuracy          0.551078\n",
       "f1                         0.246772\n",
       "precision                  0.140973\n",
       "false positive rate        0.886895\n",
       "false negative rate        0.010949\n",
       "selection rate             0.900000\n",
       "count                  89710.000000\n",
       "dtype: float64"
      ]
     },
     "execution_count": 56,
     "metadata": {},
     "output_type": "execute_result"
    }
   ],
   "source": [
    "metric_frame.overall"
   ]
  },
  {
   "cell_type": "markdown",
   "id": "e968fe9d",
   "metadata": {
    "papermill": {
     "duration": 0.019471,
     "end_time": "2025-07-22T09:15:57.025845",
     "exception": false,
     "start_time": "2025-07-22T09:15:57.006374",
     "status": "completed"
    },
    "tags": []
   },
   "source": [
    "By Group"
   ]
  },
  {
   "cell_type": "code",
   "execution_count": 57,
   "id": "ec325bce",
   "metadata": {
    "execution": {
     "iopub.execute_input": "2025-07-22T09:15:57.066445Z",
     "iopub.status.busy": "2025-07-22T09:15:57.065750Z",
     "iopub.status.idle": "2025-07-22T09:15:57.081317Z",
     "shell.execute_reply": "2025-07-22T09:15:57.080289Z"
    },
    "papermill": {
     "duration": 0.037713,
     "end_time": "2025-07-22T09:15:57.082920",
     "exception": false,
     "start_time": "2025-07-22T09:15:57.045207",
     "status": "completed"
    },
    "tags": []
   },
   "outputs": [
    {
     "data": {
      "text/html": [
       "<div>\n",
       "<style scoped>\n",
       "    .dataframe tbody tr th:only-of-type {\n",
       "        vertical-align: middle;\n",
       "    }\n",
       "\n",
       "    .dataframe tbody tr th {\n",
       "        vertical-align: top;\n",
       "    }\n",
       "\n",
       "    .dataframe thead th {\n",
       "        text-align: right;\n",
       "    }\n",
       "</style>\n",
       "<table border=\"1\" class=\"dataframe\">\n",
       "  <thead>\n",
       "    <tr style=\"text-align: right;\">\n",
       "      <th></th>\n",
       "      <th>accuracy</th>\n",
       "      <th>balanced accuracy</th>\n",
       "      <th>f1</th>\n",
       "      <th>precision</th>\n",
       "      <th>false positive rate</th>\n",
       "      <th>false negative rate</th>\n",
       "      <th>selection rate</th>\n",
       "      <th>count</th>\n",
       "    </tr>\n",
       "    <tr>\n",
       "      <th>majmin</th>\n",
       "      <th></th>\n",
       "      <th></th>\n",
       "      <th></th>\n",
       "      <th></th>\n",
       "      <th></th>\n",
       "      <th></th>\n",
       "      <th></th>\n",
       "      <th></th>\n",
       "    </tr>\n",
       "  </thead>\n",
       "  <tbody>\n",
       "    <tr>\n",
       "      <th>majority</th>\n",
       "      <td>0.246162</td>\n",
       "      <td>0.560684</td>\n",
       "      <td>0.257296</td>\n",
       "      <td>0.147903</td>\n",
       "      <td>0.866817</td>\n",
       "      <td>0.011816</td>\n",
       "      <td>0.882854</td>\n",
       "      <td>69170.0</td>\n",
       "    </tr>\n",
       "    <tr>\n",
       "      <th>minority</th>\n",
       "      <td>0.155794</td>\n",
       "      <td>0.519587</td>\n",
       "      <td>0.213249</td>\n",
       "      <td>0.119459</td>\n",
       "      <td>0.953225</td>\n",
       "      <td>0.007601</td>\n",
       "      <td>0.957741</td>\n",
       "      <td>20540.0</td>\n",
       "    </tr>\n",
       "  </tbody>\n",
       "</table>\n",
       "</div>"
      ],
      "text/plain": [
       "          accuracy  balanced accuracy        f1  precision  \\\n",
       "majmin                                                       \n",
       "majority  0.246162           0.560684  0.257296   0.147903   \n",
       "minority  0.155794           0.519587  0.213249   0.119459   \n",
       "\n",
       "          false positive rate  false negative rate  selection rate    count  \n",
       "majmin                                                                       \n",
       "majority             0.866817             0.011816        0.882854  69170.0  \n",
       "minority             0.953225             0.007601        0.957741  20540.0  "
      ]
     },
     "execution_count": 57,
     "metadata": {},
     "output_type": "execute_result"
    }
   ],
   "source": [
    "metric_frame.by_group"
   ]
  },
  {
   "cell_type": "code",
   "execution_count": 58,
   "id": "a9ddbe63",
   "metadata": {
    "execution": {
     "iopub.execute_input": "2025-07-22T09:15:57.125360Z",
     "iopub.status.busy": "2025-07-22T09:15:57.124691Z",
     "iopub.status.idle": "2025-07-22T09:15:59.529429Z",
     "shell.execute_reply": "2025-07-22T09:15:59.528324Z"
    },
    "papermill": {
     "duration": 2.42768,
     "end_time": "2025-07-22T09:15:59.531057",
     "exception": false,
     "start_time": "2025-07-22T09:15:57.103377",
     "status": "completed"
    },
    "tags": []
   },
   "outputs": [
    {
     "data": {
      "text/plain": [
       "array([[<Axes: title={'center': 'accuracy'}, xlabel='majmin'>,\n",
       "        <Axes: title={'center': 'balanced accuracy'}, xlabel='majmin'>,\n",
       "        <Axes: title={'center': 'f1'}, xlabel='majmin'>],\n",
       "       [<Axes: title={'center': 'precision'}, xlabel='majmin'>,\n",
       "        <Axes: title={'center': 'false positive rate'}, xlabel='majmin'>,\n",
       "        <Axes: title={'center': 'false negative rate'}, xlabel='majmin'>],\n",
       "       [<Axes: title={'center': 'selection rate'}, xlabel='majmin'>,\n",
       "        <Axes: title={'center': 'count'}, xlabel='majmin'>,\n",
       "        <Axes: xlabel='majmin'>]], dtype=object)"
      ]
     },
     "execution_count": 58,
     "metadata": {},
     "output_type": "execute_result"
    },
    {
     "data": {
      "image/png": "[encoded data removed]",
      "text/plain": [
       "<Figure size 1200x800 with 9 Axes>"
      ]
     },
     "metadata": {},
     "output_type": "display_data"
    }
   ],
   "source": [
    "# In a graphic\n",
    "metric_frame.by_group.plot.bar(\n",
    "    subplots=True,\n",
    "    layout=[3, 3],\n",
    "    legend=False,\n",
    "    figsize=[12, 8],\n",
    "    title=\"Show all metrics\",\n",
    ")"
   ]
  },
  {
   "cell_type": "markdown",
   "id": "f57a0bac",
   "metadata": {
    "papermill": {
     "duration": 0.022334,
     "end_time": "2025-07-22T09:15:59.575899",
     "exception": false,
     "start_time": "2025-07-22T09:15:59.553565",
     "status": "completed"
    },
    "tags": []
   },
   "source": [
    "# Final Output"
   ]
  },
  {
   "cell_type": "code",
   "execution_count": 59,
   "id": "96d280a3",
   "metadata": {
    "execution": {
     "iopub.execute_input": "2025-07-22T09:15:59.625645Z",
     "iopub.status.busy": "2025-07-22T09:15:59.624814Z",
     "iopub.status.idle": "2025-07-22T09:15:59.634999Z",
     "shell.execute_reply": "2025-07-22T09:15:59.634162Z"
    },
    "papermill": {
     "duration": 0.035126,
     "end_time": "2025-07-22T09:15:59.636459",
     "exception": false,
     "start_time": "2025-07-22T09:15:59.601333",
     "status": "completed"
    },
    "tags": []
   },
   "outputs": [
    {
     "data": {
      "text/plain": [
       "4"
      ]
     },
     "execution_count": 59,
     "metadata": {},
     "output_type": "execute_result"
    }
   ],
   "source": [
    "sub_universes = universe_analysis.generate_sub_universes()\n",
    "len(sub_universes)"
   ]
  },
  {
   "cell_type": "code",
   "execution_count": 60,
   "id": "92adf7ba",
   "metadata": {
    "execution": {
     "iopub.execute_input": "2025-07-22T09:15:59.683709Z",
     "iopub.status.busy": "2025-07-22T09:15:59.682945Z",
     "iopub.status.idle": "2025-07-22T09:15:59.689815Z",
     "shell.execute_reply": "2025-07-22T09:15:59.688621Z"
    },
    "papermill": {
     "duration": 0.032652,
     "end_time": "2025-07-22T09:15:59.692093",
     "exception": false,
     "start_time": "2025-07-22T09:15:59.659441",
     "status": "completed"
    },
    "tags": []
   },
   "outputs": [],
   "source": [
    "def filter_sub_universe_data(sub_universe, org_test):\n",
    "    # Keep all rows — no filtering\n",
    "    keep_rows_mask = np.ones(org_test.shape[0], dtype=bool)\n",
    "\n",
    "    print(f\"[INFO] Keeping all rows: {keep_rows_mask.sum()} rows retained.\")\n",
    "    return keep_rows_mask"
   ]
  },
  {
   "cell_type": "code",
   "execution_count": 61,
   "id": "4a759155",
   "metadata": {
    "execution": {
     "iopub.execute_input": "2025-07-22T09:15:59.740187Z",
     "iopub.status.busy": "2025-07-22T09:15:59.739534Z",
     "iopub.status.idle": "2025-07-22T09:16:09.128661Z",
     "shell.execute_reply": "2025-07-22T09:16:09.127706Z"
    },
    "papermill": {
     "duration": 9.414564,
     "end_time": "2025-07-22T09:16:09.130335",
     "exception": false,
     "start_time": "2025-07-22T09:15:59.715771",
     "status": "completed"
    },
    "tags": []
   },
   "outputs": [
    {
     "name": "stdout",
     "output_type": "stream",
     "text": [
      "Stopping execution_time clock.\n",
      "[INFO] Keeping all rows: 89710 rows retained.\n"
     ]
    },
    {
     "name": "stdout",
     "output_type": "stream",
     "text": [
      "[INFO] Keeping all rows: 89710 rows retained.\n"
     ]
    },
    {
     "name": "stdout",
     "output_type": "stream",
     "text": [
      "[INFO] Keeping all rows: 89710 rows retained.\n"
     ]
    },
    {
     "name": "stdout",
     "output_type": "stream",
     "text": [
      "[INFO] Keeping all rows: 89710 rows retained.\n"
     ]
    },
    {
     "data": {
      "text/html": [
       "<div>\n",
       "<style scoped>\n",
       "    .dataframe tbody tr th:only-of-type {\n",
       "        vertical-align: middle;\n",
       "    }\n",
       "\n",
       "    .dataframe tbody tr th {\n",
       "        vertical-align: top;\n",
       "    }\n",
       "\n",
       "    .dataframe thead th {\n",
       "        text-align: right;\n",
       "    }\n",
       "</style>\n",
       "<table border=\"1\" class=\"dataframe\">\n",
       "  <thead>\n",
       "    <tr style=\"text-align: right;\">\n",
       "      <th></th>\n",
       "      <th>run_no</th>\n",
       "      <th>universe_id</th>\n",
       "      <th>universe_settings</th>\n",
       "      <th>execution_time</th>\n",
       "      <th>test_size_n</th>\n",
       "      <th>test_size_frac</th>\n",
       "      <th>fair_main_equalized_odds_difference</th>\n",
       "      <th>fair_main_equalized_odds_ratio</th>\n",
       "      <th>fair_main_demographic_parity_difference</th>\n",
       "      <th>fair_main_demographic_parity_ratio</th>\n",
       "      <th>...</th>\n",
       "      <th>perf_grp_precision_0</th>\n",
       "      <th>perf_grp_precision_1</th>\n",
       "      <th>perf_grp_false positive rate_0</th>\n",
       "      <th>perf_grp_false positive rate_1</th>\n",
       "      <th>perf_grp_false negative rate_0</th>\n",
       "      <th>perf_grp_false negative rate_1</th>\n",
       "      <th>perf_grp_selection rate_0</th>\n",
       "      <th>perf_grp_selection rate_1</th>\n",
       "      <th>perf_grp_count_0</th>\n",
       "      <th>perf_grp_count_1</th>\n",
       "    </tr>\n",
       "  </thead>\n",
       "  <tbody>\n",
       "    <tr>\n",
       "      <th>0</th>\n",
       "      <td>3</td>\n",
       "      <td>992923ba54cc8fc630efc8cc066c4867</td>\n",
       "      <td>{\"cutoff\": \"quantile_0.1\", \"eval_fairness_grou...</td>\n",
       "      <td>29.884163</td>\n",
       "      <td>89710</td>\n",
       "      <td>1.0</td>\n",
       "      <td>0.086408</td>\n",
       "      <td>0.909352</td>\n",
       "      <td>0.074887</td>\n",
       "      <td>0.921809</td>\n",
       "      <td>...</td>\n",
       "      <td>NaN</td>\n",
       "      <td>NaN</td>\n",
       "      <td>NaN</td>\n",
       "      <td>NaN</td>\n",
       "      <td>NaN</td>\n",
       "      <td>NaN</td>\n",
       "      <td>NaN</td>\n",
       "      <td>NaN</td>\n",
       "      <td>NaN</td>\n",
       "      <td>NaN</td>\n",
       "    </tr>\n",
       "    <tr>\n",
       "      <th>0</th>\n",
       "      <td>3</td>\n",
       "      <td>992923ba54cc8fc630efc8cc066c4867</td>\n",
       "      <td>{\"cutoff\": \"quantile_0.1\", \"eval_fairness_grou...</td>\n",
       "      <td>29.884163</td>\n",
       "      <td>89710</td>\n",
       "      <td>1.0</td>\n",
       "      <td>0.086408</td>\n",
       "      <td>0.909352</td>\n",
       "      <td>0.074887</td>\n",
       "      <td>0.921809</td>\n",
       "      <td>...</td>\n",
       "      <td>0.119459</td>\n",
       "      <td>0.147903</td>\n",
       "      <td>0.953225</td>\n",
       "      <td>0.866817</td>\n",
       "      <td>0.007601</td>\n",
       "      <td>0.011816</td>\n",
       "      <td>0.957741</td>\n",
       "      <td>0.882854</td>\n",
       "      <td>20540.0</td>\n",
       "      <td>69170.0</td>\n",
       "    </tr>\n",
       "    <tr>\n",
       "      <th>0</th>\n",
       "      <td>3</td>\n",
       "      <td>992923ba54cc8fc630efc8cc066c4867</td>\n",
       "      <td>{\"cutoff\": \"quantile_0.25\", \"eval_fairness_gro...</td>\n",
       "      <td>29.884163</td>\n",
       "      <td>89710</td>\n",
       "      <td>1.0</td>\n",
       "      <td>0.161859</td>\n",
       "      <td>0.808372</td>\n",
       "      <td>0.140500</td>\n",
       "      <td>0.836310</td>\n",
       "      <td>...</td>\n",
       "      <td>NaN</td>\n",
       "      <td>NaN</td>\n",
       "      <td>NaN</td>\n",
       "      <td>NaN</td>\n",
       "      <td>NaN</td>\n",
       "      <td>NaN</td>\n",
       "      <td>NaN</td>\n",
       "      <td>NaN</td>\n",
       "      <td>NaN</td>\n",
       "      <td>NaN</td>\n",
       "    </tr>\n",
       "    <tr>\n",
       "      <th>0</th>\n",
       "      <td>3</td>\n",
       "      <td>992923ba54cc8fc630efc8cc066c4867</td>\n",
       "      <td>{\"cutoff\": \"quantile_0.25\", \"eval_fairness_gro...</td>\n",
       "      <td>29.884163</td>\n",
       "      <td>89710</td>\n",
       "      <td>1.0</td>\n",
       "      <td>0.161859</td>\n",
       "      <td>0.808372</td>\n",
       "      <td>0.140500</td>\n",
       "      <td>0.836310</td>\n",
       "      <td>...</td>\n",
       "      <td>0.129382</td>\n",
       "      <td>0.174494</td>\n",
       "      <td>0.844651</td>\n",
       "      <td>0.682792</td>\n",
       "      <td>0.036740</td>\n",
       "      <td>0.052079</td>\n",
       "      <td>0.858325</td>\n",
       "      <td>0.717826</td>\n",
       "      <td>20540.0</td>\n",
       "      <td>69170.0</td>\n",
       "    </tr>\n",
       "  </tbody>\n",
       "</table>\n",
       "<p>4 rows × 50 columns</p>\n",
       "</div>"
      ],
      "text/plain": [
       "  run_no                       universe_id  \\\n",
       "0      3  992923ba54cc8fc630efc8cc066c4867   \n",
       "0      3  992923ba54cc8fc630efc8cc066c4867   \n",
       "0      3  992923ba54cc8fc630efc8cc066c4867   \n",
       "0      3  992923ba54cc8fc630efc8cc066c4867   \n",
       "\n",
       "                                   universe_settings  execution_time  \\\n",
       "0  {\"cutoff\": \"quantile_0.1\", \"eval_fairness_grou...       29.884163   \n",
       "0  {\"cutoff\": \"quantile_0.1\", \"eval_fairness_grou...       29.884163   \n",
       "0  {\"cutoff\": \"quantile_0.25\", \"eval_fairness_gro...       29.884163   \n",
       "0  {\"cutoff\": \"quantile_0.25\", \"eval_fairness_gro...       29.884163   \n",
       "\n",
       "   test_size_n  test_size_frac  fair_main_equalized_odds_difference  \\\n",
       "0        89710             1.0                             0.086408   \n",
       "0        89710             1.0                             0.086408   \n",
       "0        89710             1.0                             0.161859   \n",
       "0        89710             1.0                             0.161859   \n",
       "\n",
       "   fair_main_equalized_odds_ratio  fair_main_demographic_parity_difference  \\\n",
       "0                        0.909352                                 0.074887   \n",
       "0                        0.909352                                 0.074887   \n",
       "0                        0.808372                                 0.140500   \n",
       "0                        0.808372                                 0.140500   \n",
       "\n",
       "   fair_main_demographic_parity_ratio  ...  perf_grp_precision_0  \\\n",
       "0                            0.921809  ...                   NaN   \n",
       "0                            0.921809  ...              0.119459   \n",
       "0                            0.836310  ...                   NaN   \n",
       "0                            0.836310  ...              0.129382   \n",
       "\n",
       "   perf_grp_precision_1  perf_grp_false positive rate_0  \\\n",
       "0                   NaN                             NaN   \n",
       "0              0.147903                        0.953225   \n",
       "0                   NaN                             NaN   \n",
       "0              0.174494                        0.844651   \n",
       "\n",
       "   perf_grp_false positive rate_1  perf_grp_false negative rate_0  \\\n",
       "0                             NaN                             NaN   \n",
       "0                        0.866817                        0.007601   \n",
       "0                             NaN                             NaN   \n",
       "0                        0.682792                        0.036740   \n",
       "\n",
       "   perf_grp_false negative rate_1  perf_grp_selection rate_0  \\\n",
       "0                             NaN                        NaN   \n",
       "0                        0.011816                   0.957741   \n",
       "0                             NaN                        NaN   \n",
       "0                        0.052079                   0.858325   \n",
       "\n",
       "   perf_grp_selection rate_1  perf_grp_count_0  perf_grp_count_1  \n",
       "0                        NaN               NaN               NaN  \n",
       "0                   0.882854           20540.0           69170.0  \n",
       "0                        NaN               NaN               NaN  \n",
       "0                   0.717826           20540.0           69170.0  \n",
       "\n",
       "[4 rows x 50 columns]"
      ]
     },
     "execution_count": 61,
     "metadata": {},
     "output_type": "execute_result"
    }
   ],
   "source": [
    "final_output = universe_analysis.generate_final_output(\n",
    "    y_pred_prob=probs_test,\n",
    "    y_test=y_true,\n",
    "    org_test=org_test,\n",
    "    filter_data=filter_sub_universe_data,\n",
    "    cp_metrics_df=cp_metrics_df,\n",
    "    save=True,\n",
    ")\n",
    "final_output"
   ]
  },
  {
   "cell_type": "code",
   "execution_count": null,
   "id": "721ff514-cb11-46f8-b6fc-50392f74b5cb",
   "metadata": {
    "papermill": {
     "duration": 0.023031,
     "end_time": "2025-07-22T09:16:09.178851",
     "exception": false,
     "start_time": "2025-07-22T09:16:09.155820",
     "status": "completed"
    },
    "tags": []
   },
   "outputs": [],
   "source": []
  }
 ],
 "metadata": {
  "celltoolbar": "Tags",
  "kernelspec": {
   "display_name": "Python (CMA Fairness)",
   "language": "python",
   "name": "cma_fair_env"
  },
  "language_info": {
   "codemirror_mode": {
    "name": "ipython",
    "version": 3
   },
   "file_extension": ".py",
   "mimetype": "text/x-python",
   "name": "python",
   "nbconvert_exporter": "python",
   "pygments_lexer": "ipython3",
   "version": "3.10.12"
  },
  "papermill": {
   "default_parameters": {},
   "duration": 42.738502,
   "end_time": "2025-07-22T09:16:10.023122",
   "environment_variables": {},
   "exception": null,
   "input_path": "universe_analysis.ipynb",
   "output_path": "output/runs/3/notebooks/m_3-992923ba54cc8fc630efc8cc066c4867.ipynb",
   "parameters": {
    "output_dir": "output",
    "run_no": "3",
    "seed": "2023",
    "universe": "{\"cutoff\": [\"quantile_0.1\", \"quantile_0.25\"], \"eval_fairness_grouping\": [\"majority-minority\", \"nationality-all\"], \"exclude_features\": \"nationality\", \"exclude_subgroups\": \"drop-non-german\", \"model\": \"elasticnet\", \"scale\": \"scale\"}",
    "universe_id": "992923ba54cc8fc630efc8cc066c4867"
   },
   "start_time": "2025-07-22T09:15:27.284620",
   "version": "2.6.0"
  }
 },
 "nbformat": 4,
 "nbformat_minor": 5
}