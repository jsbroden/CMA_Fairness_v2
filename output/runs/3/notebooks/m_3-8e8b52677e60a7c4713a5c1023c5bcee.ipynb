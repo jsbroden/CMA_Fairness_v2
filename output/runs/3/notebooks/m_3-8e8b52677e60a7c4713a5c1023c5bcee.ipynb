{
 "cells": [
  {
   "cell_type": "markdown",
   "id": "ef23dbb3",
   "metadata": {
    "papermill": {
     "duration": 0.023705,
     "end_time": "2025-08-19T18:25:42.362912",
     "exception": false,
     "start_time": "2025-08-19T18:25:42.339207",
     "status": "completed"
    },
    "tags": []
   },
   "source": [
    "# Setup"
   ]
  },
  {
   "cell_type": "code",
   "execution_count": 1,
   "id": "0bc8e7dc",
   "metadata": {
    "execution": {
     "iopub.execute_input": "2025-08-19T18:25:42.386516Z",
     "iopub.status.busy": "2025-08-19T18:25:42.385524Z",
     "iopub.status.idle": "2025-08-19T18:25:42.405628Z",
     "shell.execute_reply": "2025-08-19T18:25:42.404538Z"
    },
    "papermill": {
     "duration": 0.033962,
     "end_time": "2025-08-19T18:25:42.409096",
     "exception": false,
     "start_time": "2025-08-19T18:25:42.375134",
     "status": "completed"
    },
    "tags": []
   },
   "outputs": [
    {
     "name": "stdout",
     "output_type": "stream",
     "text": [
      "/dss/dsshome1/0C/ra93lal2/cma/CMA_Fairness_v2\n"
     ]
    },
    {
     "name": "stderr",
     "output_type": "stream",
     "text": [
      "/dss/dsshome1/0C/ra93lal2/.local/share/virtualenvs/CMA_Fairness_v2-3j10GkSs/lib/python3.10/site-packages/IPython/core/magics/osm.py:393: UserWarning: This is now an optional IPython functionality, using bookmarks requires you to install the `pickleshare` library.\n",
      "  bkms = self.shell.db.get('bookmarks', {})\n",
      "/dss/dsshome1/0C/ra93lal2/.local/share/virtualenvs/CMA_Fairness_v2-3j10GkSs/lib/python3.10/site-packages/IPython/core/magics/osm.py:417: UserWarning: This is now an optional IPython functionality, setting dhist requires you to install the `pickleshare` library.\n",
      "  self.shell.db['dhist'] = compress_dhist(dhist)[-100:]\n"
     ]
    }
   ],
   "source": [
    "%cd ~/cma/CMA_Fairness_v2"
   ]
  },
  {
   "cell_type": "markdown",
   "id": "9d235661",
   "metadata": {
    "papermill": {
     "duration": 0.009211,
     "end_time": "2025-08-19T18:25:42.431848",
     "exception": false,
     "start_time": "2025-08-19T18:25:42.422637",
     "status": "completed"
    },
    "tags": []
   },
   "source": [
    "The following cell holds the definition of our parameters, these values can be overriden by rendering the with e.g. the following command:\n",
    "\n",
    "papermill -p alpha 0.2 -p ratio 0.3 universe_analysis.ipynb output/test_run.ipynb"
   ]
  },
  {
   "cell_type": "code",
   "execution_count": 2,
   "id": "4a789d8e",
   "metadata": {
    "execution": {
     "iopub.execute_input": "2025-08-19T18:25:42.451726Z",
     "iopub.status.busy": "2025-08-19T18:25:42.450802Z",
     "iopub.status.idle": "2025-08-19T18:25:42.457783Z",
     "shell.execute_reply": "2025-08-19T18:25:42.456452Z"
    },
    "papermill": {
     "duration": 0.018733,
     "end_time": "2025-08-19T18:25:42.459238",
     "exception": false,
     "start_time": "2025-08-19T18:25:42.440505",
     "status": "completed"
    },
    "tags": []
   },
   "outputs": [
    {
     "name": "stdout",
     "output_type": "stream",
     "text": [
      "Current working directory: /dss/dsshome1/0C/ra93lal2/cma/CMA_Fairness_v2\n"
     ]
    }
   ],
   "source": [
    "import os\n",
    "print(\"Current working directory:\", os.getcwd())"
   ]
  },
  {
   "cell_type": "code",
   "execution_count": 3,
   "id": "4132aaed",
   "metadata": {
    "execution": {
     "iopub.execute_input": "2025-08-19T18:25:42.479689Z",
     "iopub.status.busy": "2025-08-19T18:25:42.478836Z",
     "iopub.status.idle": "2025-08-19T18:25:42.487686Z",
     "shell.execute_reply": "2025-08-19T18:25:42.486398Z"
    },
    "papermill": {
     "duration": 0.021142,
     "end_time": "2025-08-19T18:25:42.489527",
     "exception": false,
     "start_time": "2025-08-19T18:25:42.468385",
     "status": "completed"
    },
    "tags": [
     "parameters"
    ]
   },
   "outputs": [],
   "source": [
    "run_no = 0\n",
    "universe_id = \"test\"\n",
    "universe = {\n",
    "    \"training_size\": \"5k\", # \"25k\", \"5k\", \"1k\"\n",
    "    \"training_year\": \"2012_14\", # \"2014\", \"2012_14\", \"2010_14\"\n",
    "    \"scale\": \"scale\", # \"scale\", \"do-not-scale\",\n",
    "    \"model\": \"elasticnet\", # \"logreg\", \"penalized_logreg\", \"rf\", \"gbm\", \"elasticnet\"\n",
    "    \"cutoff\": [\"quantile_0.15\", \"quantile_0.30\"],\n",
    "    \"exclude_features\": \"age\", # \"none\", \"nationality\", \"sex\", \"nationality-sex\", \"age\"\n",
    "    \"exclude_subgroups\": \"drop-non-german\", # \"keep-all\", \"drop-non-german\"\n",
    "    \"eval_fairness_grouping\": [\"majority-minority\", \"nationality-all\"]\n",
    "}\n",
    "\n",
    "output_dir=\"./output\"\n",
    "seed=0"
   ]
  },
  {
   "cell_type": "code",
   "execution_count": 4,
   "id": "7bc1e94d",
   "metadata": {
    "execution": {
     "iopub.execute_input": "2025-08-19T18:25:42.511717Z",
     "iopub.status.busy": "2025-08-19T18:25:42.510714Z",
     "iopub.status.idle": "2025-08-19T18:25:42.517908Z",
     "shell.execute_reply": "2025-08-19T18:25:42.516616Z"
    },
    "papermill": {
     "duration": 0.019422,
     "end_time": "2025-08-19T18:25:42.519400",
     "exception": false,
     "start_time": "2025-08-19T18:25:42.499978",
     "status": "completed"
    },
    "tags": [
     "injected-parameters"
    ]
   },
   "outputs": [],
   "source": [
    "# Parameters\n",
    "universe_id = \"8e8b52677e60a7c4713a5c1023c5bcee\"\n",
    "run_no = \"3\"\n",
    "universe = \"{\\\"cutoff\\\": [\\\"quantile_0.1\\\", \\\"quantile_0.25\\\"], \\\"eval_fairness_grouping\\\": [\\\"majority-minority\\\", \\\"nationality-all\\\"], \\\"exclude_features\\\": \\\"age\\\", \\\"exclude_subgroups\\\": \\\"drop-non-german\\\", \\\"model\\\": \\\"gbm\\\", \\\"scale\\\": \\\"scale\\\", \\\"training_size\\\": \\\"5k\\\", \\\"training_year\\\": \\\"2014\\\"}\"\n",
    "output_dir = \"output\"\n",
    "seed = \"2023\"\n"
   ]
  },
  {
   "cell_type": "code",
   "execution_count": 5,
   "id": "a5d7941f",
   "metadata": {
    "execution": {
     "iopub.execute_input": "2025-08-19T18:25:42.540244Z",
     "iopub.status.busy": "2025-08-19T18:25:42.539269Z",
     "iopub.status.idle": "2025-08-19T18:25:42.546109Z",
     "shell.execute_reply": "2025-08-19T18:25:42.544807Z"
    },
    "papermill": {
     "duration": 0.018814,
     "end_time": "2025-08-19T18:25:42.547513",
     "exception": false,
     "start_time": "2025-08-19T18:25:42.528699",
     "status": "completed"
    },
    "tags": []
   },
   "outputs": [],
   "source": [
    "import json\n",
    "if isinstance(universe, str):\n",
    "    universe = json.loads(universe)"
   ]
  },
  {
   "cell_type": "code",
   "execution_count": 6,
   "id": "7076ccb1",
   "metadata": {
    "execution": {
     "iopub.execute_input": "2025-08-19T18:25:42.568538Z",
     "iopub.status.busy": "2025-08-19T18:25:42.567527Z",
     "iopub.status.idle": "2025-08-19T18:25:42.618020Z",
     "shell.execute_reply": "2025-08-19T18:25:42.617023Z"
    },
    "papermill": {
     "duration": 0.064575,
     "end_time": "2025-08-19T18:25:42.621466",
     "exception": false,
     "start_time": "2025-08-19T18:25:42.556891",
     "status": "completed"
    },
    "tags": []
   },
   "outputs": [],
   "source": [
    "# Auto-reload the custom package\n",
    "%load_ext autoreload\n",
    "%autoreload 1\n",
    "%aimport fairness_multiverse"
   ]
  },
  {
   "cell_type": "code",
   "execution_count": 7,
   "id": "94c8eb93",
   "metadata": {
    "execution": {
     "iopub.execute_input": "2025-08-19T18:25:42.656106Z",
     "iopub.status.busy": "2025-08-19T18:25:42.655235Z",
     "iopub.status.idle": "2025-08-19T18:25:44.222201Z",
     "shell.execute_reply": "2025-08-19T18:25:44.221232Z"
    },
    "papermill": {
     "duration": 1.581906,
     "end_time": "2025-08-19T18:25:44.224080",
     "exception": false,
     "start_time": "2025-08-19T18:25:42.642174",
     "status": "completed"
    },
    "tags": []
   },
   "outputs": [],
   "source": [
    "from fairness_multiverse.universe import UniverseAnalysis\n",
    "\n",
    "universe_analysis = UniverseAnalysis(\n",
    "    run_no = run_no,\n",
    "    universe_id = universe_id,\n",
    "    universe = universe,\n",
    "    output_dir=output_dir,\n",
    ")"
   ]
  },
  {
   "cell_type": "code",
   "execution_count": 8,
   "id": "2a6381cf",
   "metadata": {
    "execution": {
     "iopub.execute_input": "2025-08-19T18:25:44.245944Z",
     "iopub.status.busy": "2025-08-19T18:25:44.245167Z",
     "iopub.status.idle": "2025-08-19T18:25:44.252578Z",
     "shell.execute_reply": "2025-08-19T18:25:44.251547Z"
    },
    "papermill": {
     "duration": 0.020582,
     "end_time": "2025-08-19T18:25:44.254149",
     "exception": false,
     "start_time": "2025-08-19T18:25:44.233567",
     "status": "completed"
    },
    "tags": []
   },
   "outputs": [
    {
     "name": "stdout",
     "output_type": "stream",
     "text": [
      "Using Seed: 2023\n"
     ]
    }
   ],
   "source": [
    "import numpy as np\n",
    "parsed_seed = int(seed)\n",
    "np.random.seed(parsed_seed)\n",
    "print(f\"Using Seed: {parsed_seed}\")"
   ]
  },
  {
   "cell_type": "markdown",
   "id": "b6e958b4",
   "metadata": {
    "papermill": {
     "duration": 0.009663,
     "end_time": "2025-08-19T18:25:44.274268",
     "exception": false,
     "start_time": "2025-08-19T18:25:44.264605",
     "status": "completed"
    },
    "tags": []
   },
   "source": [
    "# Loading Data"
   ]
  },
  {
   "cell_type": "code",
   "execution_count": 9,
   "id": "98701482",
   "metadata": {
    "execution": {
     "iopub.execute_input": "2025-08-19T18:25:44.306305Z",
     "iopub.status.busy": "2025-08-19T18:25:44.305340Z",
     "iopub.status.idle": "2025-08-19T18:25:54.025678Z",
     "shell.execute_reply": "2025-08-19T18:25:54.023418Z"
    },
    "papermill": {
     "duration": 9.743815,
     "end_time": "2025-08-19T18:25:54.027285",
     "exception": false,
     "start_time": "2025-08-19T18:25:44.283470",
     "status": "completed"
    },
    "tags": []
   },
   "outputs": [
    {
     "name": "stdout",
     "output_type": "stream",
     "text": [
      "Loading SIAB data from cache: data/siab_cached.csv.gz\n"
     ]
    },
    {
     "name": "stdout",
     "output_type": "stream",
     "text": [
      "(643690, 164)\n"
     ]
    }
   ],
   "source": [
    "from pathlib import Path\n",
    "import pandas as pd\n",
    "\n",
    "# File paths\n",
    "raw_file = Path(\"data/raw/siab.csv\")\n",
    "cache_file = Path(\"data/siab_cached.csv.gz\")\n",
    "\n",
    "# Ensure cache directory exists\n",
    "cache_file.parent.mkdir(parents=True, exist_ok=True)\n",
    "\n",
    "# Load with simple caching\n",
    "if cache_file.exists():\n",
    "    print(f\"Loading SIAB data from cache: {cache_file}\")\n",
    "    siab = pd.read_csv(cache_file, compression='gzip')\n",
    "else:\n",
    "    print(f\"Cache not found. Reading raw SIAB data: {raw_file}\")\n",
    "    siab = pd.read_csv(raw_file)\n",
    "    siab.to_csv(cache_file, index=False, compression='gzip')\n",
    "    print(f\"Cached SIAB data to: {cache_file}\")\n",
    "\n",
    "print(siab.shape)"
   ]
  },
  {
   "cell_type": "code",
   "execution_count": 10,
   "id": "058d2abb",
   "metadata": {
    "execution": {
     "iopub.execute_input": "2025-08-19T18:25:54.054248Z",
     "iopub.status.busy": "2025-08-19T18:25:54.053482Z",
     "iopub.status.idle": "2025-08-19T18:25:54.216640Z",
     "shell.execute_reply": "2025-08-19T18:25:54.215882Z"
    },
    "papermill": {
     "duration": 0.175761,
     "end_time": "2025-08-19T18:25:54.217837",
     "exception": false,
     "start_time": "2025-08-19T18:25:54.042076",
     "status": "completed"
    },
    "tags": []
   },
   "outputs": [
    {
     "data": {
      "text/html": [
       "<div>\n",
       "<style scoped>\n",
       "    .dataframe tbody tr th:only-of-type {\n",
       "        vertical-align: middle;\n",
       "    }\n",
       "\n",
       "    .dataframe tbody tr th {\n",
       "        vertical-align: top;\n",
       "    }\n",
       "\n",
       "    .dataframe thead th {\n",
       "        text-align: right;\n",
       "    }\n",
       "</style>\n",
       "<table border=\"1\" class=\"dataframe\">\n",
       "  <thead>\n",
       "    <tr style=\"text-align: right;\">\n",
       "      <th></th>\n",
       "      <th>persnr</th>\n",
       "      <th>year</th>\n",
       "      <th>nrEntry</th>\n",
       "      <th>ltue</th>\n",
       "      <th>employed_before</th>\n",
       "      <th>receipt_leh_before</th>\n",
       "      <th>receipt_lhg_before</th>\n",
       "      <th>se_before</th>\n",
       "      <th>ASU_notue_seeking_before</th>\n",
       "      <th>ASU_other_before</th>\n",
       "      <th>...</th>\n",
       "      <th>minijob_tot_dur_byage</th>\n",
       "      <th>ft_tot_dur_byage</th>\n",
       "      <th>befrist_tot_dur_byage</th>\n",
       "      <th>leih_tot_dur_byage</th>\n",
       "      <th>LHG_tot_dur_byage</th>\n",
       "      <th>LEH_tot_dur_byage</th>\n",
       "      <th>almp_tot_dur_byage</th>\n",
       "      <th>almp_aw_tot_dur_byage</th>\n",
       "      <th>se_tot_dur_byage</th>\n",
       "      <th>seeking1_tot_dur_byage</th>\n",
       "    </tr>\n",
       "  </thead>\n",
       "  <tbody>\n",
       "    <tr>\n",
       "      <th>0</th>\n",
       "      <td>7</td>\n",
       "      <td>2015</td>\n",
       "      <td>1</td>\n",
       "      <td>0</td>\n",
       "      <td>1</td>\n",
       "      <td>0</td>\n",
       "      <td>0</td>\n",
       "      <td>0</td>\n",
       "      <td>1</td>\n",
       "      <td>0</td>\n",
       "      <td>...</td>\n",
       "      <td>0.000000</td>\n",
       "      <td>0.000000</td>\n",
       "      <td>15.043478</td>\n",
       "      <td>0.000000</td>\n",
       "      <td>0.000000</td>\n",
       "      <td>0.000000</td>\n",
       "      <td>0.000000</td>\n",
       "      <td>0.000000</td>\n",
       "      <td>0.000000</td>\n",
       "      <td>0.000000</td>\n",
       "    </tr>\n",
       "    <tr>\n",
       "      <th>1</th>\n",
       "      <td>18</td>\n",
       "      <td>2010</td>\n",
       "      <td>1</td>\n",
       "      <td>1</td>\n",
       "      <td>0</td>\n",
       "      <td>0</td>\n",
       "      <td>0</td>\n",
       "      <td>0</td>\n",
       "      <td>0</td>\n",
       "      <td>0</td>\n",
       "      <td>...</td>\n",
       "      <td>0.000000</td>\n",
       "      <td>0.000000</td>\n",
       "      <td>0.000000</td>\n",
       "      <td>0.000000</td>\n",
       "      <td>0.000000</td>\n",
       "      <td>0.000000</td>\n",
       "      <td>0.000000</td>\n",
       "      <td>0.000000</td>\n",
       "      <td>0.000000</td>\n",
       "      <td>0.000000</td>\n",
       "    </tr>\n",
       "    <tr>\n",
       "      <th>2</th>\n",
       "      <td>18</td>\n",
       "      <td>2011</td>\n",
       "      <td>2</td>\n",
       "      <td>0</td>\n",
       "      <td>1</td>\n",
       "      <td>0</td>\n",
       "      <td>1</td>\n",
       "      <td>0</td>\n",
       "      <td>1</td>\n",
       "      <td>0</td>\n",
       "      <td>...</td>\n",
       "      <td>2.714286</td>\n",
       "      <td>2.714286</td>\n",
       "      <td>0.000000</td>\n",
       "      <td>0.000000</td>\n",
       "      <td>10.775510</td>\n",
       "      <td>0.000000</td>\n",
       "      <td>8.367347</td>\n",
       "      <td>0.000000</td>\n",
       "      <td>0.000000</td>\n",
       "      <td>9.836735</td>\n",
       "    </tr>\n",
       "    <tr>\n",
       "      <th>3</th>\n",
       "      <td>18</td>\n",
       "      <td>2012</td>\n",
       "      <td>3</td>\n",
       "      <td>0</td>\n",
       "      <td>1</td>\n",
       "      <td>0</td>\n",
       "      <td>1</td>\n",
       "      <td>0</td>\n",
       "      <td>1</td>\n",
       "      <td>0</td>\n",
       "      <td>...</td>\n",
       "      <td>4.200000</td>\n",
       "      <td>4.200000</td>\n",
       "      <td>0.000000</td>\n",
       "      <td>0.000000</td>\n",
       "      <td>12.100000</td>\n",
       "      <td>0.000000</td>\n",
       "      <td>9.400000</td>\n",
       "      <td>0.000000</td>\n",
       "      <td>0.000000</td>\n",
       "      <td>9.960000</td>\n",
       "    </tr>\n",
       "    <tr>\n",
       "      <th>4</th>\n",
       "      <td>18</td>\n",
       "      <td>2012</td>\n",
       "      <td>4</td>\n",
       "      <td>0</td>\n",
       "      <td>1</td>\n",
       "      <td>0</td>\n",
       "      <td>1</td>\n",
       "      <td>0</td>\n",
       "      <td>1</td>\n",
       "      <td>0</td>\n",
       "      <td>...</td>\n",
       "      <td>5.460000</td>\n",
       "      <td>5.460000</td>\n",
       "      <td>0.000000</td>\n",
       "      <td>0.000000</td>\n",
       "      <td>13.360000</td>\n",
       "      <td>0.000000</td>\n",
       "      <td>10.320000</td>\n",
       "      <td>0.000000</td>\n",
       "      <td>0.000000</td>\n",
       "      <td>10.280000</td>\n",
       "    </tr>\n",
       "    <tr>\n",
       "      <th>...</th>\n",
       "      <td>...</td>\n",
       "      <td>...</td>\n",
       "      <td>...</td>\n",
       "      <td>...</td>\n",
       "      <td>...</td>\n",
       "      <td>...</td>\n",
       "      <td>...</td>\n",
       "      <td>...</td>\n",
       "      <td>...</td>\n",
       "      <td>...</td>\n",
       "      <td>...</td>\n",
       "      <td>...</td>\n",
       "      <td>...</td>\n",
       "      <td>...</td>\n",
       "      <td>...</td>\n",
       "      <td>...</td>\n",
       "      <td>...</td>\n",
       "      <td>...</td>\n",
       "      <td>...</td>\n",
       "      <td>...</td>\n",
       "      <td>...</td>\n",
       "    </tr>\n",
       "    <tr>\n",
       "      <th>643685</th>\n",
       "      <td>1827860</td>\n",
       "      <td>2013</td>\n",
       "      <td>1</td>\n",
       "      <td>0</td>\n",
       "      <td>0</td>\n",
       "      <td>0</td>\n",
       "      <td>1</td>\n",
       "      <td>0</td>\n",
       "      <td>0</td>\n",
       "      <td>1</td>\n",
       "      <td>...</td>\n",
       "      <td>0.000000</td>\n",
       "      <td>0.000000</td>\n",
       "      <td>0.000000</td>\n",
       "      <td>0.000000</td>\n",
       "      <td>0.612903</td>\n",
       "      <td>0.000000</td>\n",
       "      <td>0.000000</td>\n",
       "      <td>0.000000</td>\n",
       "      <td>0.000000</td>\n",
       "      <td>0.000000</td>\n",
       "    </tr>\n",
       "    <tr>\n",
       "      <th>643686</th>\n",
       "      <td>1827860</td>\n",
       "      <td>2015</td>\n",
       "      <td>2</td>\n",
       "      <td>1</td>\n",
       "      <td>0</td>\n",
       "      <td>0</td>\n",
       "      <td>1</td>\n",
       "      <td>0</td>\n",
       "      <td>1</td>\n",
       "      <td>0</td>\n",
       "      <td>...</td>\n",
       "      <td>0.000000</td>\n",
       "      <td>0.000000</td>\n",
       "      <td>0.212121</td>\n",
       "      <td>0.212121</td>\n",
       "      <td>17.363636</td>\n",
       "      <td>0.000000</td>\n",
       "      <td>8.909091</td>\n",
       "      <td>0.000000</td>\n",
       "      <td>0.000000</td>\n",
       "      <td>7.121212</td>\n",
       "    </tr>\n",
       "    <tr>\n",
       "      <th>643687</th>\n",
       "      <td>1827860</td>\n",
       "      <td>2016</td>\n",
       "      <td>3</td>\n",
       "      <td>1</td>\n",
       "      <td>0</td>\n",
       "      <td>0</td>\n",
       "      <td>1</td>\n",
       "      <td>1</td>\n",
       "      <td>0</td>\n",
       "      <td>1</td>\n",
       "      <td>...</td>\n",
       "      <td>0.000000</td>\n",
       "      <td>0.000000</td>\n",
       "      <td>0.294118</td>\n",
       "      <td>0.205882</td>\n",
       "      <td>34.705882</td>\n",
       "      <td>0.000000</td>\n",
       "      <td>10.352941</td>\n",
       "      <td>1.705882</td>\n",
       "      <td>1.705882</td>\n",
       "      <td>23.911765</td>\n",
       "    </tr>\n",
       "    <tr>\n",
       "      <th>643688</th>\n",
       "      <td>1827869</td>\n",
       "      <td>2013</td>\n",
       "      <td>1</td>\n",
       "      <td>1</td>\n",
       "      <td>1</td>\n",
       "      <td>0</td>\n",
       "      <td>0</td>\n",
       "      <td>0</td>\n",
       "      <td>1</td>\n",
       "      <td>0</td>\n",
       "      <td>...</td>\n",
       "      <td>0.000000</td>\n",
       "      <td>0.000000</td>\n",
       "      <td>0.000000</td>\n",
       "      <td>0.000000</td>\n",
       "      <td>0.000000</td>\n",
       "      <td>0.525424</td>\n",
       "      <td>0.000000</td>\n",
       "      <td>0.000000</td>\n",
       "      <td>0.000000</td>\n",
       "      <td>0.000000</td>\n",
       "    </tr>\n",
       "    <tr>\n",
       "      <th>643689</th>\n",
       "      <td>1827869</td>\n",
       "      <td>2014</td>\n",
       "      <td>2</td>\n",
       "      <td>0</td>\n",
       "      <td>0</td>\n",
       "      <td>1</td>\n",
       "      <td>0</td>\n",
       "      <td>0</td>\n",
       "      <td>1</td>\n",
       "      <td>0</td>\n",
       "      <td>...</td>\n",
       "      <td>0.000000</td>\n",
       "      <td>0.666667</td>\n",
       "      <td>0.666667</td>\n",
       "      <td>0.000000</td>\n",
       "      <td>0.000000</td>\n",
       "      <td>8.950000</td>\n",
       "      <td>1.033333</td>\n",
       "      <td>0.083333</td>\n",
       "      <td>0.083333</td>\n",
       "      <td>8.133333</td>\n",
       "    </tr>\n",
       "  </tbody>\n",
       "</table>\n",
       "<p>643690 rows × 164 columns</p>\n",
       "</div>"
      ],
      "text/plain": [
       "         persnr  year  nrEntry  ltue  employed_before  receipt_leh_before  \\\n",
       "0             7  2015        1     0                1                   0   \n",
       "1            18  2010        1     1                0                   0   \n",
       "2            18  2011        2     0                1                   0   \n",
       "3            18  2012        3     0                1                   0   \n",
       "4            18  2012        4     0                1                   0   \n",
       "...         ...   ...      ...   ...              ...                 ...   \n",
       "643685  1827860  2013        1     0                0                   0   \n",
       "643686  1827860  2015        2     1                0                   0   \n",
       "643687  1827860  2016        3     1                0                   0   \n",
       "643688  1827869  2013        1     1                1                   0   \n",
       "643689  1827869  2014        2     0                0                   1   \n",
       "\n",
       "        receipt_lhg_before  se_before  ASU_notue_seeking_before  \\\n",
       "0                        0          0                         1   \n",
       "1                        0          0                         0   \n",
       "2                        1          0                         1   \n",
       "3                        1          0                         1   \n",
       "4                        1          0                         1   \n",
       "...                    ...        ...                       ...   \n",
       "643685                   1          0                         0   \n",
       "643686                   1          0                         1   \n",
       "643687                   1          1                         0   \n",
       "643688                   0          0                         1   \n",
       "643689                   0          0                         1   \n",
       "\n",
       "        ASU_other_before  ...  minijob_tot_dur_byage  ft_tot_dur_byage  \\\n",
       "0                      0  ...               0.000000          0.000000   \n",
       "1                      0  ...               0.000000          0.000000   \n",
       "2                      0  ...               2.714286          2.714286   \n",
       "3                      0  ...               4.200000          4.200000   \n",
       "4                      0  ...               5.460000          5.460000   \n",
       "...                  ...  ...                    ...               ...   \n",
       "643685                 1  ...               0.000000          0.000000   \n",
       "643686                 0  ...               0.000000          0.000000   \n",
       "643687                 1  ...               0.000000          0.000000   \n",
       "643688                 0  ...               0.000000          0.000000   \n",
       "643689                 0  ...               0.000000          0.666667   \n",
       "\n",
       "        befrist_tot_dur_byage  leih_tot_dur_byage  LHG_tot_dur_byage  \\\n",
       "0                   15.043478            0.000000           0.000000   \n",
       "1                    0.000000            0.000000           0.000000   \n",
       "2                    0.000000            0.000000          10.775510   \n",
       "3                    0.000000            0.000000          12.100000   \n",
       "4                    0.000000            0.000000          13.360000   \n",
       "...                       ...                 ...                ...   \n",
       "643685               0.000000            0.000000           0.612903   \n",
       "643686               0.212121            0.212121          17.363636   \n",
       "643687               0.294118            0.205882          34.705882   \n",
       "643688               0.000000            0.000000           0.000000   \n",
       "643689               0.666667            0.000000           0.000000   \n",
       "\n",
       "        LEH_tot_dur_byage  almp_tot_dur_byage  almp_aw_tot_dur_byage  \\\n",
       "0                0.000000            0.000000               0.000000   \n",
       "1                0.000000            0.000000               0.000000   \n",
       "2                0.000000            8.367347               0.000000   \n",
       "3                0.000000            9.400000               0.000000   \n",
       "4                0.000000           10.320000               0.000000   \n",
       "...                   ...                 ...                    ...   \n",
       "643685           0.000000            0.000000               0.000000   \n",
       "643686           0.000000            8.909091               0.000000   \n",
       "643687           0.000000           10.352941               1.705882   \n",
       "643688           0.525424            0.000000               0.000000   \n",
       "643689           8.950000            1.033333               0.083333   \n",
       "\n",
       "        se_tot_dur_byage  seeking1_tot_dur_byage  \n",
       "0               0.000000                0.000000  \n",
       "1               0.000000                0.000000  \n",
       "2               0.000000                9.836735  \n",
       "3               0.000000                9.960000  \n",
       "4               0.000000               10.280000  \n",
       "...                  ...                     ...  \n",
       "643685          0.000000                0.000000  \n",
       "643686          0.000000                7.121212  \n",
       "643687          1.705882               23.911765  \n",
       "643688          0.000000                0.000000  \n",
       "643689          0.083333                8.133333  \n",
       "\n",
       "[643690 rows x 164 columns]"
      ]
     },
     "execution_count": 10,
     "metadata": {},
     "output_type": "execute_result"
    }
   ],
   "source": [
    "siab"
   ]
  },
  {
   "cell_type": "markdown",
   "id": "1f87e805",
   "metadata": {
    "papermill": {
     "duration": 0.00955,
     "end_time": "2025-08-19T18:25:54.240323",
     "exception": false,
     "start_time": "2025-08-19T18:25:54.230773",
     "status": "completed"
    },
    "tags": []
   },
   "source": [
    "# Splitting Data and Setting Training Data Size"
   ]
  },
  {
   "cell_type": "code",
   "execution_count": 11,
   "id": "910ae358",
   "metadata": {
    "execution": {
     "iopub.execute_input": "2025-08-19T18:25:54.262016Z",
     "iopub.status.busy": "2025-08-19T18:25:54.261349Z",
     "iopub.status.idle": "2025-08-19T18:25:54.495826Z",
     "shell.execute_reply": "2025-08-19T18:25:54.495054Z"
    },
    "papermill": {
     "duration": 0.247182,
     "end_time": "2025-08-19T18:25:54.497212",
     "exception": false,
     "start_time": "2025-08-19T18:25:54.250030",
     "status": "completed"
    },
    "tags": []
   },
   "outputs": [],
   "source": [
    "from fairness_multiverse.universe import sample_by_year_size\n",
    "\n",
    "siab_train = sample_by_year_size(siab,\n",
    "                               training_year=universe[\"training_year\"],\n",
    "                               training_size=universe[\"training_size\"])"
   ]
  },
  {
   "cell_type": "code",
   "execution_count": 12,
   "id": "919c8ff5",
   "metadata": {
    "execution": {
     "iopub.execute_input": "2025-08-19T18:25:54.518739Z",
     "iopub.status.busy": "2025-08-19T18:25:54.518149Z",
     "iopub.status.idle": "2025-08-19T18:25:54.525566Z",
     "shell.execute_reply": "2025-08-19T18:25:54.524532Z"
    },
    "papermill": {
     "duration": 0.01941,
     "end_time": "2025-08-19T18:25:54.526844",
     "exception": false,
     "start_time": "2025-08-19T18:25:54.507434",
     "status": "completed"
    },
    "tags": []
   },
   "outputs": [
    {
     "data": {
      "text/plain": [
       "(5000, 164)"
      ]
     },
     "execution_count": 12,
     "metadata": {},
     "output_type": "execute_result"
    }
   ],
   "source": [
    "siab_train.shape"
   ]
  },
  {
   "cell_type": "code",
   "execution_count": 13,
   "id": "feb13bf4",
   "metadata": {
    "execution": {
     "iopub.execute_input": "2025-08-19T18:25:54.549222Z",
     "iopub.status.busy": "2025-08-19T18:25:54.548343Z",
     "iopub.status.idle": "2025-08-19T18:25:54.563317Z",
     "shell.execute_reply": "2025-08-19T18:25:54.562006Z"
    },
    "papermill": {
     "duration": 0.027732,
     "end_time": "2025-08-19T18:25:54.564770",
     "exception": false,
     "start_time": "2025-08-19T18:25:54.537038",
     "status": "completed"
    },
    "tags": []
   },
   "outputs": [
    {
     "data": {
      "text/plain": [
       "year\n",
       "2014    5000\n",
       "dtype: int64"
      ]
     },
     "metadata": {},
     "output_type": "display_data"
    }
   ],
   "source": [
    "display(siab_train.groupby(\"year\").size())"
   ]
  },
  {
   "cell_type": "code",
   "execution_count": 14,
   "id": "0997782f",
   "metadata": {
    "execution": {
     "iopub.execute_input": "2025-08-19T18:25:54.590664Z",
     "iopub.status.busy": "2025-08-19T18:25:54.589682Z",
     "iopub.status.idle": "2025-08-19T18:25:54.843880Z",
     "shell.execute_reply": "2025-08-19T18:25:54.843186Z"
    },
    "papermill": {
     "duration": 0.269069,
     "end_time": "2025-08-19T18:25:54.846674",
     "exception": false,
     "start_time": "2025-08-19T18:25:54.577605",
     "status": "completed"
    },
    "tags": []
   },
   "outputs": [],
   "source": [
    "#siab_train = siab_s[siab_s.year < 2015]\n",
    "siab_calib = siab[siab.year == 2015]\n",
    "siab_test = siab[siab.year == 2016]"
   ]
  },
  {
   "cell_type": "code",
   "execution_count": 15,
   "id": "2c1e4012",
   "metadata": {
    "execution": {
     "iopub.execute_input": "2025-08-19T18:25:54.880121Z",
     "iopub.status.busy": "2025-08-19T18:25:54.879252Z",
     "iopub.status.idle": "2025-08-19T18:25:54.886394Z",
     "shell.execute_reply": "2025-08-19T18:25:54.884797Z"
    },
    "papermill": {
     "duration": 0.020562,
     "end_time": "2025-08-19T18:25:54.888121",
     "exception": false,
     "start_time": "2025-08-19T18:25:54.867559",
     "status": "completed"
    },
    "tags": []
   },
   "outputs": [],
   "source": [
    "#siab_calib.shape"
   ]
  },
  {
   "cell_type": "code",
   "execution_count": 16,
   "id": "f66b54ca",
   "metadata": {
    "execution": {
     "iopub.execute_input": "2025-08-19T18:25:54.914116Z",
     "iopub.status.busy": "2025-08-19T18:25:54.912798Z",
     "iopub.status.idle": "2025-08-19T18:25:54.920400Z",
     "shell.execute_reply": "2025-08-19T18:25:54.918826Z"
    },
    "papermill": {
     "duration": 0.021161,
     "end_time": "2025-08-19T18:25:54.921962",
     "exception": false,
     "start_time": "2025-08-19T18:25:54.900801",
     "status": "completed"
    },
    "tags": []
   },
   "outputs": [],
   "source": [
    "#siab_test.shape"
   ]
  },
  {
   "cell_type": "code",
   "execution_count": 17,
   "id": "27e4384d",
   "metadata": {
    "execution": {
     "iopub.execute_input": "2025-08-19T18:25:54.944554Z",
     "iopub.status.busy": "2025-08-19T18:25:54.943623Z",
     "iopub.status.idle": "2025-08-19T18:25:54.961316Z",
     "shell.execute_reply": "2025-08-19T18:25:54.960242Z"
    },
    "papermill": {
     "duration": 0.030655,
     "end_time": "2025-08-19T18:25:54.962799",
     "exception": false,
     "start_time": "2025-08-19T18:25:54.932144",
     "status": "completed"
    },
    "tags": []
   },
   "outputs": [],
   "source": [
    "X_train = siab_train.iloc[:,4:164]\n",
    "y_train = siab_train.iloc[:, [3]]"
   ]
  },
  {
   "cell_type": "code",
   "execution_count": 18,
   "id": "08ee8389",
   "metadata": {
    "execution": {
     "iopub.execute_input": "2025-08-19T18:25:54.991137Z",
     "iopub.status.busy": "2025-08-19T18:25:54.990809Z",
     "iopub.status.idle": "2025-08-19T18:25:55.043871Z",
     "shell.execute_reply": "2025-08-19T18:25:55.043123Z"
    },
    "papermill": {
     "duration": 0.068891,
     "end_time": "2025-08-19T18:25:55.047505",
     "exception": false,
     "start_time": "2025-08-19T18:25:54.978614",
     "status": "completed"
    },
    "tags": []
   },
   "outputs": [],
   "source": [
    "X_calib = siab_calib.iloc[:,4:164]\n",
    "y_calib = siab_calib.iloc[:, [3]]"
   ]
  },
  {
   "cell_type": "code",
   "execution_count": 19,
   "id": "b7ff42e0",
   "metadata": {
    "execution": {
     "iopub.execute_input": "2025-08-19T18:25:55.085025Z",
     "iopub.status.busy": "2025-08-19T18:25:55.083804Z",
     "iopub.status.idle": "2025-08-19T18:25:55.138692Z",
     "shell.execute_reply": "2025-08-19T18:25:55.138032Z"
    },
    "papermill": {
     "duration": 0.069715,
     "end_time": "2025-08-19T18:25:55.140074",
     "exception": false,
     "start_time": "2025-08-19T18:25:55.070359",
     "status": "completed"
    },
    "tags": []
   },
   "outputs": [],
   "source": [
    "X_test = siab_test.iloc[:,4:164]\n",
    "y_true = siab_test.iloc[:, [3]]"
   ]
  },
  {
   "cell_type": "code",
   "execution_count": 20,
   "id": "0275101e",
   "metadata": {
    "execution": {
     "iopub.execute_input": "2025-08-19T18:25:55.162467Z",
     "iopub.status.busy": "2025-08-19T18:25:55.162123Z",
     "iopub.status.idle": "2025-08-19T18:25:55.262630Z",
     "shell.execute_reply": "2025-08-19T18:25:55.261570Z"
    },
    "papermill": {
     "duration": 0.113338,
     "end_time": "2025-08-19T18:25:55.264401",
     "exception": false,
     "start_time": "2025-08-19T18:25:55.151063",
     "status": "completed"
    },
    "tags": []
   },
   "outputs": [],
   "source": [
    "# Auxiliary data needed downstream in the pipeline\n",
    "\n",
    "org_train = X_train.copy()\n",
    "org_test = X_test.copy()\n",
    "org_calib = X_calib.copy()"
   ]
  },
  {
   "cell_type": "markdown",
   "id": "b461e618",
   "metadata": {
    "papermill": {
     "duration": 0.010006,
     "end_time": "2025-08-19T18:25:55.286527",
     "exception": false,
     "start_time": "2025-08-19T18:25:55.276521",
     "status": "completed"
    },
    "tags": []
   },
   "source": [
    "# Preprocessing Data"
   ]
  },
  {
   "cell_type": "code",
   "execution_count": 21,
   "id": "78e74c4b",
   "metadata": {
    "execution": {
     "iopub.execute_input": "2025-08-19T18:25:55.309293Z",
     "iopub.status.busy": "2025-08-19T18:25:55.308185Z",
     "iopub.status.idle": "2025-08-19T18:25:55.316332Z",
     "shell.execute_reply": "2025-08-19T18:25:55.315108Z"
    },
    "papermill": {
     "duration": 0.021188,
     "end_time": "2025-08-19T18:25:55.317706",
     "exception": false,
     "start_time": "2025-08-19T18:25:55.296518",
     "status": "completed"
    },
    "tags": []
   },
   "outputs": [],
   "source": [
    "# EXCLUDE PROTECTED FEATURES\n",
    "# --------------------------\n",
    "\n",
    "excluded_features = universe[\"exclude_features\"].split(\"-\")\n",
    "excluded_features_dictionary = {\n",
    "    \"nationality\": [\"maxdeutsch1\", \"maxdeutsch.Missing.\"],\n",
    "    \"sex\": [\"frau1\"],\n",
    "    \"age\": [\"age\"],\n",
    "}"
   ]
  },
  {
   "cell_type": "code",
   "execution_count": 22,
   "id": "f8e63555",
   "metadata": {
    "execution": {
     "iopub.execute_input": "2025-08-19T18:25:55.345018Z",
     "iopub.status.busy": "2025-08-19T18:25:55.343891Z",
     "iopub.status.idle": "2025-08-19T18:25:55.352093Z",
     "shell.execute_reply": "2025-08-19T18:25:55.350835Z"
    },
    "papermill": {
     "duration": 0.021629,
     "end_time": "2025-08-19T18:25:55.353648",
     "exception": false,
     "start_time": "2025-08-19T18:25:55.332019",
     "status": "completed"
    },
    "tags": []
   },
   "outputs": [],
   "source": [
    "excluded_features_columns = [\n",
    "    excluded_features_dictionary[f] for f in excluded_features if len(f) > 0 and f != \"none\"\n",
    "]"
   ]
  },
  {
   "cell_type": "code",
   "execution_count": 23,
   "id": "da781f7c",
   "metadata": {
    "execution": {
     "iopub.execute_input": "2025-08-19T18:25:55.380330Z",
     "iopub.status.busy": "2025-08-19T18:25:55.379211Z",
     "iopub.status.idle": "2025-08-19T18:25:55.386069Z",
     "shell.execute_reply": "2025-08-19T18:25:55.384671Z"
    },
    "papermill": {
     "duration": 0.020709,
     "end_time": "2025-08-19T18:25:55.387489",
     "exception": false,
     "start_time": "2025-08-19T18:25:55.366780",
     "status": "completed"
    },
    "tags": []
   },
   "outputs": [],
   "source": [
    "from fairness_multiverse.universe import flatten_once\n",
    "\n",
    "excluded_features_columns = flatten_once(excluded_features_columns)"
   ]
  },
  {
   "cell_type": "code",
   "execution_count": 24,
   "id": "37fef0f0",
   "metadata": {
    "execution": {
     "iopub.execute_input": "2025-08-19T18:25:55.412685Z",
     "iopub.status.busy": "2025-08-19T18:25:55.411779Z",
     "iopub.status.idle": "2025-08-19T18:25:55.424167Z",
     "shell.execute_reply": "2025-08-19T18:25:55.423256Z"
    },
    "papermill": {
     "duration": 0.025771,
     "end_time": "2025-08-19T18:25:55.425711",
     "exception": false,
     "start_time": "2025-08-19T18:25:55.399940",
     "status": "completed"
    },
    "tags": []
   },
   "outputs": [
    {
     "name": "stdout",
     "output_type": "stream",
     "text": [
      "Dropping features: ['age']\n"
     ]
    }
   ],
   "source": [
    "if len(excluded_features_columns) > 0:\n",
    "    print(f\"Dropping features: {excluded_features_columns}\")\n",
    "    X_train.drop(excluded_features_columns, axis=1, inplace=True)"
   ]
  },
  {
   "cell_type": "code",
   "execution_count": 25,
   "id": "d029e3e9",
   "metadata": {
    "execution": {
     "iopub.execute_input": "2025-08-19T18:25:55.453176Z",
     "iopub.status.busy": "2025-08-19T18:25:55.452115Z",
     "iopub.status.idle": "2025-08-19T18:25:55.507638Z",
     "shell.execute_reply": "2025-08-19T18:25:55.506908Z"
    },
    "papermill": {
     "duration": 0.070002,
     "end_time": "2025-08-19T18:25:55.509949",
     "exception": false,
     "start_time": "2025-08-19T18:25:55.439947",
     "status": "completed"
    },
    "tags": []
   },
   "outputs": [
    {
     "name": "stdout",
     "output_type": "stream",
     "text": [
      "Dropping features: ['age']\n"
     ]
    }
   ],
   "source": [
    "if len(excluded_features_columns) > 0:\n",
    "    print(f\"Dropping features: {excluded_features_columns}\")\n",
    "    X_test.drop(excluded_features_columns, axis=1, inplace=True)"
   ]
  },
  {
   "cell_type": "code",
   "execution_count": 26,
   "id": "01d571f0",
   "metadata": {
    "execution": {
     "iopub.execute_input": "2025-08-19T18:25:55.548940Z",
     "iopub.status.busy": "2025-08-19T18:25:55.548052Z",
     "iopub.status.idle": "2025-08-19T18:25:55.603212Z",
     "shell.execute_reply": "2025-08-19T18:25:55.602455Z"
    },
    "papermill": {
     "duration": 0.071339,
     "end_time": "2025-08-19T18:25:55.605695",
     "exception": false,
     "start_time": "2025-08-19T18:25:55.534356",
     "status": "completed"
    },
    "tags": []
   },
   "outputs": [
    {
     "name": "stdout",
     "output_type": "stream",
     "text": [
      "Dropping features: ['age']\n"
     ]
    }
   ],
   "source": [
    "if len(excluded_features_columns) > 0:\n",
    "    print(f\"Dropping features: {excluded_features_columns}\")\n",
    "    X_calib.drop(excluded_features_columns, axis=1, inplace=True)"
   ]
  },
  {
   "cell_type": "code",
   "execution_count": 27,
   "id": "3037356e",
   "metadata": {
    "execution": {
     "iopub.execute_input": "2025-08-19T18:25:55.644908Z",
     "iopub.status.busy": "2025-08-19T18:25:55.643378Z",
     "iopub.status.idle": "2025-08-19T18:25:55.651520Z",
     "shell.execute_reply": "2025-08-19T18:25:55.650260Z"
    },
    "papermill": {
     "duration": 0.024928,
     "end_time": "2025-08-19T18:25:55.654012",
     "exception": false,
     "start_time": "2025-08-19T18:25:55.629084",
     "status": "completed"
    },
    "tags": []
   },
   "outputs": [],
   "source": [
    "# EXCLUDE CERTAIN SUBGROUPS\n",
    "# -------------------------\n",
    "\n",
    "mode = universe.get(\"exclude_subgroups\", \"keep-all\") # Defaults to \"keep-all\" if the key is missing."
   ]
  },
  {
   "cell_type": "code",
   "execution_count": 28,
   "id": "9d1e63fd",
   "metadata": {
    "execution": {
     "iopub.execute_input": "2025-08-19T18:25:55.717008Z",
     "iopub.status.busy": "2025-08-19T18:25:55.701645Z",
     "iopub.status.idle": "2025-08-19T18:25:55.724630Z",
     "shell.execute_reply": "2025-08-19T18:25:55.723703Z"
    },
    "papermill": {
     "duration": 0.037924,
     "end_time": "2025-08-19T18:25:55.726906",
     "exception": false,
     "start_time": "2025-08-19T18:25:55.688982",
     "status": "completed"
    },
    "tags": []
   },
   "outputs": [],
   "source": [
    "if mode == \"keep-all\":\n",
    "    keep_mask = pd.Series(True, index=org_train.index)\n",
    "\n",
    "elif mode == \"drop-non-german\":\n",
    "    keep_mask = (org_train[\"maxdeutsch1\"] == 1) & (org_train[\"maxdeutsch.Missing.\"] == 0)\n",
    "\n",
    "else:\n",
    "    raise ValueError(f\"Unsupported mode for exclude_subgroups: {mode}\")"
   ]
  },
  {
   "cell_type": "code",
   "execution_count": 29,
   "id": "d3b65474",
   "metadata": {
    "execution": {
     "iopub.execute_input": "2025-08-19T18:25:55.759781Z",
     "iopub.status.busy": "2025-08-19T18:25:55.759334Z",
     "iopub.status.idle": "2025-08-19T18:25:55.765425Z",
     "shell.execute_reply": "2025-08-19T18:25:55.764733Z"
    },
    "papermill": {
     "duration": 0.022015,
     "end_time": "2025-08-19T18:25:55.766633",
     "exception": false,
     "start_time": "2025-08-19T18:25:55.744618",
     "status": "completed"
    },
    "tags": []
   },
   "outputs": [
    {
     "name": "stdout",
     "output_type": "stream",
     "text": [
      "Dropping 741 rows (14.82%) where mode='drop-non-german'\n"
     ]
    }
   ],
   "source": [
    "n_drop = (~keep_mask).sum() # Calculates how many rows are set to be dropped\n",
    "if n_drop > 0:\n",
    "    pct = n_drop / len(keep_mask) * 100\n",
    "    print(f\"Dropping {n_drop} rows ({pct:.2f}%) where mode='{mode}'\")"
   ]
  },
  {
   "cell_type": "code",
   "execution_count": 30,
   "id": "f44389b3",
   "metadata": {
    "execution": {
     "iopub.execute_input": "2025-08-19T18:25:55.790503Z",
     "iopub.status.busy": "2025-08-19T18:25:55.789718Z",
     "iopub.status.idle": "2025-08-19T18:25:55.862163Z",
     "shell.execute_reply": "2025-08-19T18:25:55.861101Z"
    },
    "papermill": {
     "duration": 0.087927,
     "end_time": "2025-08-19T18:25:55.865611",
     "exception": false,
     "start_time": "2025-08-19T18:25:55.777684",
     "status": "completed"
    },
    "tags": []
   },
   "outputs": [],
   "source": [
    "X_train = X_train[keep_mask]"
   ]
  },
  {
   "cell_type": "code",
   "execution_count": 31,
   "id": "ceca8c2a",
   "metadata": {
    "execution": {
     "iopub.execute_input": "2025-08-19T18:25:55.905514Z",
     "iopub.status.busy": "2025-08-19T18:25:55.904296Z",
     "iopub.status.idle": "2025-08-19T18:25:55.913061Z",
     "shell.execute_reply": "2025-08-19T18:25:55.911794Z"
    },
    "papermill": {
     "duration": 0.025144,
     "end_time": "2025-08-19T18:25:55.914568",
     "exception": false,
     "start_time": "2025-08-19T18:25:55.889424",
     "status": "completed"
    },
    "tags": []
   },
   "outputs": [],
   "source": [
    "y_train = y_train[keep_mask]"
   ]
  },
  {
   "cell_type": "markdown",
   "id": "04d31e2f",
   "metadata": {
    "papermill": {
     "duration": 0.011077,
     "end_time": "2025-08-19T18:25:55.939328",
     "exception": false,
     "start_time": "2025-08-19T18:25:55.928251",
     "status": "completed"
    },
    "tags": []
   },
   "source": [
    "# Model Training"
   ]
  },
  {
   "cell_type": "code",
   "execution_count": 32,
   "id": "db991733",
   "metadata": {
    "execution": {
     "iopub.execute_input": "2025-08-19T18:25:55.964317Z",
     "iopub.status.busy": "2025-08-19T18:25:55.963275Z",
     "iopub.status.idle": "2025-08-19T18:25:56.069848Z",
     "shell.execute_reply": "2025-08-19T18:25:56.069041Z"
    },
    "papermill": {
     "duration": 0.121068,
     "end_time": "2025-08-19T18:25:56.071403",
     "exception": false,
     "start_time": "2025-08-19T18:25:55.950335",
     "status": "completed"
    },
    "tags": []
   },
   "outputs": [],
   "source": [
    "from sklearn.linear_model import LogisticRegression\n",
    "from sklearn.ensemble import GradientBoostingClassifier, RandomForestClassifier\n",
    "\n",
    "if (universe[\"model\"] == \"logreg\"):\n",
    "    model = LogisticRegression() #penalty=\"none\", solver=\"newton-cg\", max_iter=1)\n",
    "elif (universe[\"model\"] == \"penalized_logreg\"):\n",
    "    model = LogisticRegression(penalty=\"l2\", C=0.1) #, solver=\"newton-cg\", max_iter=1)\n",
    "elif (universe[\"model\"] == \"rf\"):\n",
    "    model = RandomForestClassifier() # n_estimators=100, n_jobs=-1\n",
    "elif (universe[\"model\"] == \"gbm\"):\n",
    "    model = GradientBoostingClassifier()\n",
    "elif (universe[\"model\"] == \"elasticnet\"):\n",
    "    model = LogisticRegression(penalty = 'elasticnet', solver = 'saga', l1_ratio = 0.5) # max_iter=5000\n",
    "else:\n",
    "    raise \"Unsupported universe.model\""
   ]
  },
  {
   "cell_type": "code",
   "execution_count": 33,
   "id": "a4b5cd25",
   "metadata": {
    "execution": {
     "iopub.execute_input": "2025-08-19T18:25:56.098372Z",
     "iopub.status.busy": "2025-08-19T18:25:56.096238Z",
     "iopub.status.idle": "2025-08-19T18:25:56.113208Z",
     "shell.execute_reply": "2025-08-19T18:25:56.112037Z"
    },
    "papermill": {
     "duration": 0.0313,
     "end_time": "2025-08-19T18:25:56.114997",
     "exception": false,
     "start_time": "2025-08-19T18:25:56.083697",
     "status": "completed"
    },
    "tags": []
   },
   "outputs": [],
   "source": [
    "from sklearn.pipeline import Pipeline\n",
    "from sklearn.preprocessing import StandardScaler\n",
    "\n",
    "model = Pipeline([\n",
    "    #(\"continuous_processor\", continuous_processor),\n",
    "    #(\"categorical_preprocessor\", categorical_preprocessor),\n",
    "    (\"scale\", StandardScaler() if universe[\"scale\"] == \"scale\" else None), \n",
    "    (\"model\", model),\n",
    "])"
   ]
  },
  {
   "cell_type": "code",
   "execution_count": 34,
   "id": "283a904d",
   "metadata": {
    "execution": {
     "iopub.execute_input": "2025-08-19T18:25:56.144971Z",
     "iopub.status.busy": "2025-08-19T18:25:56.144343Z",
     "iopub.status.idle": "2025-08-19T18:26:00.023438Z",
     "shell.execute_reply": "2025-08-19T18:26:00.022740Z"
    },
    "papermill": {
     "duration": 3.892875,
     "end_time": "2025-08-19T18:26:00.024652",
     "exception": false,
     "start_time": "2025-08-19T18:25:56.131777",
     "status": "completed"
    },
    "tags": []
   },
   "outputs": [
    {
     "data": {
      "text/html": [
       "<style>#sk-container-id-1 {color: black;background-color: white;}#sk-container-id-1 pre{padding: 0;}#sk-container-id-1 div.sk-toggleable {background-color: white;}#sk-container-id-1 label.sk-toggleable__label {cursor: pointer;display: block;width: 100%;margin-bottom: 0;padding: 0.3em;box-sizing: border-box;text-align: center;}#sk-container-id-1 label.sk-toggleable__label-arrow:before {content: \"▸\";float: left;margin-right: 0.25em;color: #696969;}#sk-container-id-1 label.sk-toggleable__label-arrow:hover:before {color: black;}#sk-container-id-1 div.sk-estimator:hover label.sk-toggleable__label-arrow:before {color: black;}#sk-container-id-1 div.sk-toggleable__content {max-height: 0;max-width: 0;overflow: hidden;text-align: left;background-color: #f0f8ff;}#sk-container-id-1 div.sk-toggleable__content pre {margin: 0.2em;color: black;border-radius: 0.25em;background-color: #f0f8ff;}#sk-container-id-1 input.sk-toggleable__control:checked~div.sk-toggleable__content {max-height: 200px;max-width: 100%;overflow: auto;}#sk-container-id-1 input.sk-toggleable__control:checked~label.sk-toggleable__label-arrow:before {content: \"▾\";}#sk-container-id-1 div.sk-estimator input.sk-toggleable__control:checked~label.sk-toggleable__label {background-color: #d4ebff;}#sk-container-id-1 div.sk-label input.sk-toggleable__control:checked~label.sk-toggleable__label {background-color: #d4ebff;}#sk-container-id-1 input.sk-hidden--visually {border: 0;clip: rect(1px 1px 1px 1px);clip: rect(1px, 1px, 1px, 1px);height: 1px;margin: -1px;overflow: hidden;padding: 0;position: absolute;width: 1px;}#sk-container-id-1 div.sk-estimator {font-family: monospace;background-color: #f0f8ff;border: 1px dotted black;border-radius: 0.25em;box-sizing: border-box;margin-bottom: 0.5em;}#sk-container-id-1 div.sk-estimator:hover {background-color: #d4ebff;}#sk-container-id-1 div.sk-parallel-item::after {content: \"\";width: 100%;border-bottom: 1px solid gray;flex-grow: 1;}#sk-container-id-1 div.sk-label:hover label.sk-toggleable__label {background-color: #d4ebff;}#sk-container-id-1 div.sk-serial::before {content: \"\";position: absolute;border-left: 1px solid gray;box-sizing: border-box;top: 0;bottom: 0;left: 50%;z-index: 0;}#sk-container-id-1 div.sk-serial {display: flex;flex-direction: column;align-items: center;background-color: white;padding-right: 0.2em;padding-left: 0.2em;position: relative;}#sk-container-id-1 div.sk-item {position: relative;z-index: 1;}#sk-container-id-1 div.sk-parallel {display: flex;align-items: stretch;justify-content: center;background-color: white;position: relative;}#sk-container-id-1 div.sk-item::before, #sk-container-id-1 div.sk-parallel-item::before {content: \"\";position: absolute;border-left: 1px solid gray;box-sizing: border-box;top: 0;bottom: 0;left: 50%;z-index: -1;}#sk-container-id-1 div.sk-parallel-item {display: flex;flex-direction: column;z-index: 1;position: relative;background-color: white;}#sk-container-id-1 div.sk-parallel-item:first-child::after {align-self: flex-end;width: 50%;}#sk-container-id-1 div.sk-parallel-item:last-child::after {align-self: flex-start;width: 50%;}#sk-container-id-1 div.sk-parallel-item:only-child::after {width: 0;}#sk-container-id-1 div.sk-dashed-wrapped {border: 1px dashed gray;margin: 0 0.4em 0.5em 0.4em;box-sizing: border-box;padding-bottom: 0.4em;background-color: white;}#sk-container-id-1 div.sk-label label {font-family: monospace;font-weight: bold;display: inline-block;line-height: 1.2em;}#sk-container-id-1 div.sk-label-container {text-align: center;}#sk-container-id-1 div.sk-container {/* jupyter's `normalize.less` sets `[hidden] { display: none; }` but bootstrap.min.css set `[hidden] { display: none !important; }` so we also need the `!important` here to be able to override the default hidden behavior on the sphinx rendered scikit-learn.org. See: https://github.com/scikit-learn/scikit-learn/issues/21755 */display: inline-block !important;position: relative;}#sk-container-id-1 div.sk-text-repr-fallback {display: none;}</style><div id=\"sk-container-id-1\" class=\"sk-top-container\"><div class=\"sk-text-repr-fallback\"><pre>Pipeline(steps=[(&#x27;scale&#x27;, StandardScaler()),\n",
       "                (&#x27;model&#x27;, GradientBoostingClassifier())])</pre><b>In a Jupyter environment, please rerun this cell to show the HTML representation or trust the notebook. <br />On GitHub, the HTML representation is unable to render, please try loading this page with nbviewer.org.</b></div><div class=\"sk-container\" hidden><div class=\"sk-item sk-dashed-wrapped\"><div class=\"sk-label-container\"><div class=\"sk-label sk-toggleable\"><input class=\"sk-toggleable__control sk-hidden--visually\" id=\"sk-estimator-id-1\" type=\"checkbox\" ><label for=\"sk-estimator-id-1\" class=\"sk-toggleable__label sk-toggleable__label-arrow\">Pipeline</label><div class=\"sk-toggleable__content\"><pre>Pipeline(steps=[(&#x27;scale&#x27;, StandardScaler()),\n",
       "                (&#x27;model&#x27;, GradientBoostingClassifier())])</pre></div></div></div><div class=\"sk-serial\"><div class=\"sk-item\"><div class=\"sk-estimator sk-toggleable\"><input class=\"sk-toggleable__control sk-hidden--visually\" id=\"sk-estimator-id-2\" type=\"checkbox\" ><label for=\"sk-estimator-id-2\" class=\"sk-toggleable__label sk-toggleable__label-arrow\">StandardScaler</label><div class=\"sk-toggleable__content\"><pre>StandardScaler()</pre></div></div></div><div class=\"sk-item\"><div class=\"sk-estimator sk-toggleable\"><input class=\"sk-toggleable__control sk-hidden--visually\" id=\"sk-estimator-id-3\" type=\"checkbox\" ><label for=\"sk-estimator-id-3\" class=\"sk-toggleable__label sk-toggleable__label-arrow\">GradientBoostingClassifier</label><div class=\"sk-toggleable__content\"><pre>GradientBoostingClassifier()</pre></div></div></div></div></div></div></div>"
      ],
      "text/plain": [
       "Pipeline(steps=[('scale', StandardScaler()),\n",
       "                ('model', GradientBoostingClassifier())])"
      ]
     },
     "execution_count": 34,
     "metadata": {},
     "output_type": "execute_result"
    }
   ],
   "source": [
    "model.fit(X_train, y_train.values.ravel())"
   ]
  },
  {
   "cell_type": "code",
   "execution_count": 35,
   "id": "6e15e313",
   "metadata": {
    "execution": {
     "iopub.execute_input": "2025-08-19T18:26:00.048395Z",
     "iopub.status.busy": "2025-08-19T18:26:00.048005Z",
     "iopub.status.idle": "2025-08-19T18:26:00.612664Z",
     "shell.execute_reply": "2025-08-19T18:26:00.611944Z"
    },
    "papermill": {
     "duration": 0.577823,
     "end_time": "2025-08-19T18:26:00.613969",
     "exception": false,
     "start_time": "2025-08-19T18:26:00.036146",
     "status": "completed"
    },
    "tags": []
   },
   "outputs": [
    {
     "data": {
      "text/plain": [
       "0.8653550328837365"
      ]
     },
     "execution_count": 35,
     "metadata": {},
     "output_type": "execute_result"
    }
   ],
   "source": [
    "from fairness_multiverse.universe import predict_w_threshold\n",
    "\n",
    "probs_test = model.predict_proba(X_test)\n",
    "\n",
    "'''\n",
    "Below code returns a boolean array (or binary 0/1 array depending on how it’s used) where each element \n",
    "is True if the probability of class 1 is greater than or equal to the threshold, and False otherwise.\n",
    "'''\n",
    "y_pred_default = predict_w_threshold(probs_test, 0.5)\n",
    "\n",
    "from sklearn.metrics import accuracy_score\n",
    "\n",
    "# Naive prediction\n",
    "accuracy_score(y_true = y_true, y_pred = y_pred_default)"
   ]
  },
  {
   "cell_type": "code",
   "execution_count": 36,
   "id": "6f14067c",
   "metadata": {
    "execution": {
     "iopub.execute_input": "2025-08-19T18:26:00.638585Z",
     "iopub.status.busy": "2025-08-19T18:26:00.637805Z",
     "iopub.status.idle": "2025-08-19T18:26:01.235307Z",
     "shell.execute_reply": "2025-08-19T18:26:01.234325Z"
    },
    "papermill": {
     "duration": 0.610848,
     "end_time": "2025-08-19T18:26:01.236609",
     "exception": false,
     "start_time": "2025-08-19T18:26:00.625761",
     "status": "completed"
    },
    "tags": []
   },
   "outputs": [
    {
     "data": {
      "text/plain": [
       "array([0, 0, 0, ..., 0, 0, 0])"
      ]
     },
     "execution_count": 36,
     "metadata": {},
     "output_type": "execute_result"
    }
   ],
   "source": [
    "model.predict(X_test)"
   ]
  },
  {
   "cell_type": "markdown",
   "id": "3759920c",
   "metadata": {
    "papermill": {
     "duration": 0.018588,
     "end_time": "2025-08-19T18:26:01.271821",
     "exception": false,
     "start_time": "2025-08-19T18:26:01.253233",
     "status": "completed"
    },
    "tags": []
   },
   "source": [
    "# Conformal Prediction"
   ]
  },
  {
   "cell_type": "code",
   "execution_count": 37,
   "id": "14b27f59",
   "metadata": {
    "execution": {
     "iopub.execute_input": "2025-08-19T18:26:01.296297Z",
     "iopub.status.busy": "2025-08-19T18:26:01.295976Z",
     "iopub.status.idle": "2025-08-19T18:26:01.300494Z",
     "shell.execute_reply": "2025-08-19T18:26:01.299598Z"
    },
    "papermill": {
     "duration": 0.021307,
     "end_time": "2025-08-19T18:26:01.304910",
     "exception": false,
     "start_time": "2025-08-19T18:26:01.283603",
     "status": "completed"
    },
    "tags": []
   },
   "outputs": [],
   "source": [
    "# Miscoverage level for conformal prediction (10% allowed error rate => 90% target coverage)\n",
    "alpha = 0.1"
   ]
  },
  {
   "cell_type": "code",
   "execution_count": 38,
   "id": "59102472",
   "metadata": {
    "execution": {
     "iopub.execute_input": "2025-08-19T18:26:01.345963Z",
     "iopub.status.busy": "2025-08-19T18:26:01.345560Z",
     "iopub.status.idle": "2025-08-19T18:26:01.879871Z",
     "shell.execute_reply": "2025-08-19T18:26:01.879113Z"
    },
    "papermill": {
     "duration": 0.54892,
     "end_time": "2025-08-19T18:26:01.881363",
     "exception": false,
     "start_time": "2025-08-19T18:26:01.332443",
     "status": "completed"
    },
    "tags": []
   },
   "outputs": [],
   "source": [
    "probs_calib = model.predict_proba(X_calib)"
   ]
  },
  {
   "cell_type": "code",
   "execution_count": 39,
   "id": "a792d4dd",
   "metadata": {
    "execution": {
     "iopub.execute_input": "2025-08-19T18:26:01.906987Z",
     "iopub.status.busy": "2025-08-19T18:26:01.905960Z",
     "iopub.status.idle": "2025-08-19T18:26:01.912806Z",
     "shell.execute_reply": "2025-08-19T18:26:01.911593Z"
    },
    "papermill": {
     "duration": 0.020865,
     "end_time": "2025-08-19T18:26:01.914173",
     "exception": false,
     "start_time": "2025-08-19T18:26:01.893308",
     "status": "completed"
    },
    "tags": []
   },
   "outputs": [],
   "source": [
    "y_calib = y_calib.values.ravel().astype(int)"
   ]
  },
  {
   "cell_type": "code",
   "execution_count": 40,
   "id": "650fd033",
   "metadata": {
    "execution": {
     "iopub.execute_input": "2025-08-19T18:26:01.939872Z",
     "iopub.status.busy": "2025-08-19T18:26:01.938825Z",
     "iopub.status.idle": "2025-08-19T18:26:01.949203Z",
     "shell.execute_reply": "2025-08-19T18:26:01.948033Z"
    },
    "papermill": {
     "duration": 0.02435,
     "end_time": "2025-08-19T18:26:01.950506",
     "exception": false,
     "start_time": "2025-08-19T18:26:01.926156",
     "status": "completed"
    },
    "tags": []
   },
   "outputs": [],
   "source": [
    "from fairness_multiverse.conformal import compute_nc_scores\n",
    "\n",
    "# Compute nonconformity scores on calibration set (1 - probability of true class)\n",
    "nc_scores = compute_nc_scores(probs_calib, y_calib)"
   ]
  },
  {
   "cell_type": "code",
   "execution_count": 41,
   "id": "28ada44c",
   "metadata": {
    "execution": {
     "iopub.execute_input": "2025-08-19T18:26:01.979892Z",
     "iopub.status.busy": "2025-08-19T18:26:01.978897Z",
     "iopub.status.idle": "2025-08-19T18:26:01.993462Z",
     "shell.execute_reply": "2025-08-19T18:26:01.992699Z"
    },
    "papermill": {
     "duration": 0.03069,
     "end_time": "2025-08-19T18:26:01.995310",
     "exception": false,
     "start_time": "2025-08-19T18:26:01.964620",
     "status": "completed"
    },
    "tags": []
   },
   "outputs": [],
   "source": [
    "from fairness_multiverse.conformal import find_threshold\n",
    "\n",
    "# Find conformal threshold q_hat for the given alpha (split conformal method)\n",
    "q_hat = find_threshold(nc_scores, alpha)"
   ]
  },
  {
   "cell_type": "code",
   "execution_count": 42,
   "id": "df56469e",
   "metadata": {
    "execution": {
     "iopub.execute_input": "2025-08-19T18:26:02.039794Z",
     "iopub.status.busy": "2025-08-19T18:26:02.039088Z",
     "iopub.status.idle": "2025-08-19T18:26:02.054667Z",
     "shell.execute_reply": "2025-08-19T18:26:02.053717Z"
    },
    "papermill": {
     "duration": 0.035181,
     "end_time": "2025-08-19T18:26:02.056135",
     "exception": false,
     "start_time": "2025-08-19T18:26:02.020954",
     "status": "completed"
    },
    "tags": []
   },
   "outputs": [
    {
     "data": {
      "text/plain": [
       "0.7066667994012014"
      ]
     },
     "execution_count": 42,
     "metadata": {},
     "output_type": "execute_result"
    }
   ],
   "source": [
    "q_hat"
   ]
  },
  {
   "cell_type": "code",
   "execution_count": 43,
   "id": "aa1f5faa",
   "metadata": {
    "execution": {
     "iopub.execute_input": "2025-08-19T18:26:02.082406Z",
     "iopub.status.busy": "2025-08-19T18:26:02.082153Z",
     "iopub.status.idle": "2025-08-19T18:26:03.080620Z",
     "shell.execute_reply": "2025-08-19T18:26:03.079207Z"
    },
    "papermill": {
     "duration": 1.013067,
     "end_time": "2025-08-19T18:26:03.082995",
     "exception": false,
     "start_time": "2025-08-19T18:26:02.069928",
     "status": "completed"
    },
    "tags": []
   },
   "outputs": [],
   "source": [
    "from fairness_multiverse.conformal import predict_conformal_sets\n",
    "\n",
    "# Generate prediction sets for each test example\n",
    "pred_sets = predict_conformal_sets(model, X_test, q_hat)"
   ]
  },
  {
   "cell_type": "code",
   "execution_count": 44,
   "id": "97f67a6b",
   "metadata": {
    "execution": {
     "iopub.execute_input": "2025-08-19T18:26:03.110363Z",
     "iopub.status.busy": "2025-08-19T18:26:03.109294Z",
     "iopub.status.idle": "2025-08-19T18:26:03.118545Z",
     "shell.execute_reply": "2025-08-19T18:26:03.116884Z"
    },
    "papermill": {
     "duration": 0.02486,
     "end_time": "2025-08-19T18:26:03.119916",
     "exception": false,
     "start_time": "2025-08-19T18:26:03.095056",
     "status": "completed"
    },
    "tags": []
   },
   "outputs": [],
   "source": [
    "y_true = y_true.squeeze()"
   ]
  },
  {
   "cell_type": "code",
   "execution_count": 45,
   "id": "e700e9a7",
   "metadata": {
    "execution": {
     "iopub.execute_input": "2025-08-19T18:26:03.153206Z",
     "iopub.status.busy": "2025-08-19T18:26:03.148622Z",
     "iopub.status.idle": "2025-08-19T18:26:03.627746Z",
     "shell.execute_reply": "2025-08-19T18:26:03.627071Z"
    },
    "papermill": {
     "duration": 0.494867,
     "end_time": "2025-08-19T18:26:03.629343",
     "exception": false,
     "start_time": "2025-08-19T18:26:03.134476",
     "status": "completed"
    },
    "tags": []
   },
   "outputs": [],
   "source": [
    "from fairness_multiverse.conformal import evaluate_sets\n",
    "\n",
    "# Evaluate coverage and average set size on test data\n",
    "metrics = evaluate_sets(pred_sets, y_true)"
   ]
  },
  {
   "cell_type": "markdown",
   "id": "efbacec0",
   "metadata": {
    "papermill": {
     "duration": 0.018423,
     "end_time": "2025-08-19T18:26:03.666345",
     "exception": false,
     "start_time": "2025-08-19T18:26:03.647922",
     "status": "completed"
    },
    "tags": []
   },
   "source": [
    "# CP Metrics"
   ]
  },
  {
   "cell_type": "code",
   "execution_count": 46,
   "id": "9de55fb1",
   "metadata": {
    "execution": {
     "iopub.execute_input": "2025-08-19T18:26:03.691568Z",
     "iopub.status.busy": "2025-08-19T18:26:03.691264Z",
     "iopub.status.idle": "2025-08-19T18:26:03.698418Z",
     "shell.execute_reply": "2025-08-19T18:26:03.697433Z"
    },
    "papermill": {
     "duration": 0.025899,
     "end_time": "2025-08-19T18:26:03.704645",
     "exception": false,
     "start_time": "2025-08-19T18:26:03.678746",
     "status": "completed"
    },
    "tags": []
   },
   "outputs": [
    {
     "data": {
      "text/plain": [
       "{'coverage': 0.909831679857318, 'avg_size': 1.1259279901906143}"
      ]
     },
     "execution_count": 46,
     "metadata": {},
     "output_type": "execute_result"
    }
   ],
   "source": [
    "metrics"
   ]
  },
  {
   "cell_type": "code",
   "execution_count": 47,
   "id": "64c340a1",
   "metadata": {
    "execution": {
     "iopub.execute_input": "2025-08-19T18:26:03.755851Z",
     "iopub.status.busy": "2025-08-19T18:26:03.754803Z",
     "iopub.status.idle": "2025-08-19T18:26:03.765321Z",
     "shell.execute_reply": "2025-08-19T18:26:03.763675Z"
    },
    "papermill": {
     "duration": 0.030925,
     "end_time": "2025-08-19T18:26:03.766751",
     "exception": false,
     "start_time": "2025-08-19T18:26:03.735826",
     "status": "completed"
    },
    "tags": []
   },
   "outputs": [],
   "source": [
    "example_universe = universe.copy()\n",
    "universe_training_year = example_universe.get(\"training_year\")\n",
    "universe_training_size = example_universe.get(\"training_size\")\n",
    "universe_scale = example_universe.get(\"scale\")\n",
    "universe_model = example_universe.get(\"model\")\n",
    "universe_exclude_features = example_universe.get(\"exclude_features\")\n",
    "universe_exclude_subgroups = example_universe.get(\"exclude_subgroups\")"
   ]
  },
  {
   "cell_type": "code",
   "execution_count": 48,
   "id": "dbb53cb4",
   "metadata": {
    "execution": {
     "iopub.execute_input": "2025-08-19T18:26:03.795762Z",
     "iopub.status.busy": "2025-08-19T18:26:03.794846Z",
     "iopub.status.idle": "2025-08-19T18:26:03.805213Z",
     "shell.execute_reply": "2025-08-19T18:26:03.803610Z"
    },
    "papermill": {
     "duration": 0.025125,
     "end_time": "2025-08-19T18:26:03.806633",
     "exception": false,
     "start_time": "2025-08-19T18:26:03.781508",
     "status": "completed"
    },
    "tags": []
   },
   "outputs": [],
   "source": [
    "cp_metrics_dict = {\n",
    "    \"universe_id\": [universe_id],\n",
    "    \"universe_training_year\": [universe_training_year],\n",
    "    \"universe_training_size\": [universe_training_size],\n",
    "    \"universe_scale\": [universe_scale],\n",
    "    \"universe_model\": [universe_model],\n",
    "    \"universe_exclude_features\": [universe_exclude_features],\n",
    "    \"universe_exclude_subgroups\": [universe_exclude_subgroups],\n",
    "    \"q_hat\": [q_hat],\n",
    "    \"coverage\": [metrics[\"coverage\"]],\n",
    "    \"avg_size\": [metrics[\"avg_size\"]],\n",
    "}"
   ]
  },
  {
   "cell_type": "code",
   "execution_count": 49,
   "id": "0d70d4b2",
   "metadata": {
    "execution": {
     "iopub.execute_input": "2025-08-19T18:26:03.835429Z",
     "iopub.status.busy": "2025-08-19T18:26:03.834302Z",
     "iopub.status.idle": "2025-08-19T18:26:03.844663Z",
     "shell.execute_reply": "2025-08-19T18:26:03.842892Z"
    },
    "papermill": {
     "duration": 0.024943,
     "end_time": "2025-08-19T18:26:03.846081",
     "exception": false,
     "start_time": "2025-08-19T18:26:03.821138",
     "status": "completed"
    },
    "tags": []
   },
   "outputs": [],
   "source": [
    "cp_metrics_df = pd.DataFrame(cp_metrics_dict)"
   ]
  },
  {
   "cell_type": "code",
   "execution_count": 50,
   "id": "b494403c",
   "metadata": {
    "execution": {
     "iopub.execute_input": "2025-08-19T18:26:03.875235Z",
     "iopub.status.busy": "2025-08-19T18:26:03.874121Z",
     "iopub.status.idle": "2025-08-19T18:26:03.895646Z",
     "shell.execute_reply": "2025-08-19T18:26:03.894669Z"
    },
    "papermill": {
     "duration": 0.036135,
     "end_time": "2025-08-19T18:26:03.897007",
     "exception": false,
     "start_time": "2025-08-19T18:26:03.860872",
     "status": "completed"
    },
    "tags": []
   },
   "outputs": [
    {
     "data": {
      "text/html": [
       "<div>\n",
       "<style scoped>\n",
       "    .dataframe tbody tr th:only-of-type {\n",
       "        vertical-align: middle;\n",
       "    }\n",
       "\n",
       "    .dataframe tbody tr th {\n",
       "        vertical-align: top;\n",
       "    }\n",
       "\n",
       "    .dataframe thead th {\n",
       "        text-align: right;\n",
       "    }\n",
       "</style>\n",
       "<table border=\"1\" class=\"dataframe\">\n",
       "  <thead>\n",
       "    <tr style=\"text-align: right;\">\n",
       "      <th></th>\n",
       "      <th>universe_id</th>\n",
       "      <th>universe_training_year</th>\n",
       "      <th>universe_training_size</th>\n",
       "      <th>universe_scale</th>\n",
       "      <th>universe_model</th>\n",
       "      <th>universe_exclude_features</th>\n",
       "      <th>universe_exclude_subgroups</th>\n",
       "      <th>q_hat</th>\n",
       "      <th>coverage</th>\n",
       "      <th>avg_size</th>\n",
       "    </tr>\n",
       "  </thead>\n",
       "  <tbody>\n",
       "    <tr>\n",
       "      <th>0</th>\n",
       "      <td>8e8b52677e60a7c4713a5c1023c5bcee</td>\n",
       "      <td>2014</td>\n",
       "      <td>5k</td>\n",
       "      <td>scale</td>\n",
       "      <td>gbm</td>\n",
       "      <td>age</td>\n",
       "      <td>drop-non-german</td>\n",
       "      <td>0.706667</td>\n",
       "      <td>0.909832</td>\n",
       "      <td>1.125928</td>\n",
       "    </tr>\n",
       "  </tbody>\n",
       "</table>\n",
       "</div>"
      ],
      "text/plain": [
       "                        universe_id universe_training_year  \\\n",
       "0  8e8b52677e60a7c4713a5c1023c5bcee                   2014   \n",
       "\n",
       "  universe_training_size universe_scale universe_model  \\\n",
       "0                     5k          scale            gbm   \n",
       "\n",
       "  universe_exclude_features universe_exclude_subgroups     q_hat  coverage  \\\n",
       "0                       age            drop-non-german  0.706667  0.909832   \n",
       "\n",
       "   avg_size  \n",
       "0  1.125928  "
      ]
     },
     "execution_count": 50,
     "metadata": {},
     "output_type": "execute_result"
    }
   ],
   "source": [
    "cp_metrics_df"
   ]
  },
  {
   "cell_type": "markdown",
   "id": "ed608b0b",
   "metadata": {
    "papermill": {
     "duration": 0.012546,
     "end_time": "2025-08-19T18:26:03.928093",
     "exception": false,
     "start_time": "2025-08-19T18:26:03.915547",
     "status": "completed"
    },
    "tags": []
   },
   "source": [
    "Conditional coverage & looking at subgroups"
   ]
  },
  {
   "cell_type": "code",
   "execution_count": 51,
   "id": "8968c366",
   "metadata": {
    "execution": {
     "iopub.execute_input": "2025-08-19T18:26:03.954196Z",
     "iopub.status.busy": "2025-08-19T18:26:03.953217Z",
     "iopub.status.idle": "2025-08-19T18:26:04.197581Z",
     "shell.execute_reply": "2025-08-19T18:26:04.196886Z"
    },
    "papermill": {
     "duration": 0.259336,
     "end_time": "2025-08-19T18:26:04.199275",
     "exception": false,
     "start_time": "2025-08-19T18:26:03.939939",
     "status": "completed"
    },
    "tags": []
   },
   "outputs": [],
   "source": [
    "from fairness_multiverse.conformal import build_cp_groups\n",
    "\n",
    "cp_groups_df = build_cp_groups(pred_sets, y_true, X_test.index, org_test)"
   ]
  },
  {
   "cell_type": "code",
   "execution_count": 52,
   "id": "292ddabf",
   "metadata": {
    "execution": {
     "iopub.execute_input": "2025-08-19T18:26:04.242478Z",
     "iopub.status.busy": "2025-08-19T18:26:04.241196Z",
     "iopub.status.idle": "2025-08-19T18:26:05.129168Z",
     "shell.execute_reply": "2025-08-19T18:26:05.127953Z"
    },
    "papermill": {
     "duration": 0.905534,
     "end_time": "2025-08-19T18:26:05.130816",
     "exception": false,
     "start_time": "2025-08-19T18:26:04.225282",
     "status": "completed"
    },
    "tags": []
   },
   "outputs": [],
   "source": [
    "# Define covered = 1 if true_label is in the predicted set\n",
    "cp_groups_df['covered'] = cp_groups_df.apply(\n",
    "    lambda r: int(r['true_label'] in r['pred_set']),\n",
    "    axis=1\n",
    ")"
   ]
  },
  {
   "cell_type": "code",
   "execution_count": 53,
   "id": "3a261692",
   "metadata": {
    "execution": {
     "iopub.execute_input": "2025-08-19T18:26:05.160832Z",
     "iopub.status.busy": "2025-08-19T18:26:05.160457Z",
     "iopub.status.idle": "2025-08-19T18:26:05.173309Z",
     "shell.execute_reply": "2025-08-19T18:26:05.172315Z"
    },
    "papermill": {
     "duration": 0.031872,
     "end_time": "2025-08-19T18:26:05.177459",
     "exception": false,
     "start_time": "2025-08-19T18:26:05.145587",
     "status": "completed"
    },
    "tags": []
   },
   "outputs": [],
   "source": [
    "subgroups = ['frau1','nongerman','nongerman_male','nongerman_female']\n",
    "\n",
    "# Conditional coverage for subgroup==1\n",
    "cond_coverage = {\n",
    "    g: cp_groups_df.loc[cp_groups_df[g]==1, 'covered'].mean()\n",
    "    for g in subgroups\n",
    "}"
   ]
  },
  {
   "cell_type": "code",
   "execution_count": 54,
   "id": "894fd600",
   "metadata": {
    "execution": {
     "iopub.execute_input": "2025-08-19T18:26:05.204856Z",
     "iopub.status.busy": "2025-08-19T18:26:05.204373Z",
     "iopub.status.idle": "2025-08-19T18:26:05.210788Z",
     "shell.execute_reply": "2025-08-19T18:26:05.209955Z"
    },
    "papermill": {
     "duration": 0.021509,
     "end_time": "2025-08-19T18:26:05.212580",
     "exception": false,
     "start_time": "2025-08-19T18:26:05.191071",
     "status": "completed"
    },
    "tags": []
   },
   "outputs": [
    {
     "data": {
      "text/plain": [
       "{'frau1': 0.9061598598193826,\n",
       " 'nongerman': 0.9051816089372929,\n",
       " 'nongerman_male': 0.9235341799513644,\n",
       " 'nongerman_female': 0.8748137108792846}"
      ]
     },
     "execution_count": 54,
     "metadata": {},
     "output_type": "execute_result"
    }
   ],
   "source": [
    "cond_coverage"
   ]
  },
  {
   "cell_type": "code",
   "execution_count": 55,
   "id": "942895c7",
   "metadata": {
    "execution": {
     "iopub.execute_input": "2025-08-19T18:26:05.241606Z",
     "iopub.status.busy": "2025-08-19T18:26:05.241293Z",
     "iopub.status.idle": "2025-08-19T18:26:05.249293Z",
     "shell.execute_reply": "2025-08-19T18:26:05.248398Z"
    },
    "papermill": {
     "duration": 0.025072,
     "end_time": "2025-08-19T18:26:05.250872",
     "exception": false,
     "start_time": "2025-08-19T18:26:05.225800",
     "status": "completed"
    },
    "tags": []
   },
   "outputs": [],
   "source": [
    "for subgroup, cov in cond_coverage.items():\n",
    "    cp_metrics_df[f\"cov_{subgroup}\"] = cov"
   ]
  },
  {
   "cell_type": "code",
   "execution_count": 56,
   "id": "3970120f",
   "metadata": {
    "execution": {
     "iopub.execute_input": "2025-08-19T18:26:05.278473Z",
     "iopub.status.busy": "2025-08-19T18:26:05.278072Z",
     "iopub.status.idle": "2025-08-19T18:26:05.296088Z",
     "shell.execute_reply": "2025-08-19T18:26:05.295151Z"
    },
    "papermill": {
     "duration": 0.033201,
     "end_time": "2025-08-19T18:26:05.297506",
     "exception": false,
     "start_time": "2025-08-19T18:26:05.264305",
     "status": "completed"
    },
    "tags": []
   },
   "outputs": [
    {
     "data": {
      "text/html": [
       "<div>\n",
       "<style scoped>\n",
       "    .dataframe tbody tr th:only-of-type {\n",
       "        vertical-align: middle;\n",
       "    }\n",
       "\n",
       "    .dataframe tbody tr th {\n",
       "        vertical-align: top;\n",
       "    }\n",
       "\n",
       "    .dataframe thead th {\n",
       "        text-align: right;\n",
       "    }\n",
       "</style>\n",
       "<table border=\"1\" class=\"dataframe\">\n",
       "  <thead>\n",
       "    <tr style=\"text-align: right;\">\n",
       "      <th></th>\n",
       "      <th>universe_id</th>\n",
       "      <th>universe_training_year</th>\n",
       "      <th>universe_training_size</th>\n",
       "      <th>universe_scale</th>\n",
       "      <th>universe_model</th>\n",
       "      <th>universe_exclude_features</th>\n",
       "      <th>universe_exclude_subgroups</th>\n",
       "      <th>q_hat</th>\n",
       "      <th>coverage</th>\n",
       "      <th>avg_size</th>\n",
       "      <th>cov_frau1</th>\n",
       "      <th>cov_nongerman</th>\n",
       "      <th>cov_nongerman_male</th>\n",
       "      <th>cov_nongerman_female</th>\n",
       "    </tr>\n",
       "  </thead>\n",
       "  <tbody>\n",
       "    <tr>\n",
       "      <th>0</th>\n",
       "      <td>8e8b52677e60a7c4713a5c1023c5bcee</td>\n",
       "      <td>2014</td>\n",
       "      <td>5k</td>\n",
       "      <td>scale</td>\n",
       "      <td>gbm</td>\n",
       "      <td>age</td>\n",
       "      <td>drop-non-german</td>\n",
       "      <td>0.706667</td>\n",
       "      <td>0.909832</td>\n",
       "      <td>1.125928</td>\n",
       "      <td>0.90616</td>\n",
       "      <td>0.905182</td>\n",
       "      <td>0.923534</td>\n",
       "      <td>0.874814</td>\n",
       "    </tr>\n",
       "  </tbody>\n",
       "</table>\n",
       "</div>"
      ],
      "text/plain": [
       "                        universe_id universe_training_year  \\\n",
       "0  8e8b52677e60a7c4713a5c1023c5bcee                   2014   \n",
       "\n",
       "  universe_training_size universe_scale universe_model  \\\n",
       "0                     5k          scale            gbm   \n",
       "\n",
       "  universe_exclude_features universe_exclude_subgroups     q_hat  coverage  \\\n",
       "0                       age            drop-non-german  0.706667  0.909832   \n",
       "\n",
       "   avg_size  cov_frau1  cov_nongerman  cov_nongerman_male  \\\n",
       "0  1.125928    0.90616       0.905182            0.923534   \n",
       "\n",
       "   cov_nongerman_female  \n",
       "0              0.874814  "
      ]
     },
     "execution_count": 56,
     "metadata": {},
     "output_type": "execute_result"
    }
   ],
   "source": [
    "cp_metrics_df"
   ]
  },
  {
   "cell_type": "markdown",
   "id": "3fc519cc",
   "metadata": {
    "papermill": {
     "duration": 0.01579,
     "end_time": "2025-08-19T18:26:05.339863",
     "exception": false,
     "start_time": "2025-08-19T18:26:05.324073",
     "status": "completed"
    },
    "tags": []
   },
   "source": [
    "# (Fairness) Metrics"
   ]
  },
  {
   "cell_type": "code",
   "execution_count": 57,
   "id": "a2e5e155",
   "metadata": {
    "execution": {
     "iopub.execute_input": "2025-08-19T18:26:05.368285Z",
     "iopub.status.busy": "2025-08-19T18:26:05.366901Z",
     "iopub.status.idle": "2025-08-19T18:26:05.396794Z",
     "shell.execute_reply": "2025-08-19T18:26:05.395637Z"
    },
    "papermill": {
     "duration": 0.046787,
     "end_time": "2025-08-19T18:26:05.399291",
     "exception": false,
     "start_time": "2025-08-19T18:26:05.352504",
     "status": "completed"
    },
    "tags": []
   },
   "outputs": [],
   "source": [
    "colname_to_bin = \"maxdeutsch1\"\n",
    "majority_value = org_train[colname_to_bin].mode()[0]\n",
    "\n",
    "org_test[\"majmin\"] = np.where(org_test[colname_to_bin] == majority_value, \"majority\", \"minority\")"
   ]
  },
  {
   "cell_type": "code",
   "execution_count": 58,
   "id": "17e3e4d5",
   "metadata": {
    "execution": {
     "iopub.execute_input": "2025-08-19T18:26:05.437746Z",
     "iopub.status.busy": "2025-08-19T18:26:05.436829Z",
     "iopub.status.idle": "2025-08-19T18:26:07.234500Z",
     "shell.execute_reply": "2025-08-19T18:26:07.231582Z"
    },
    "papermill": {
     "duration": 1.814915,
     "end_time": "2025-08-19T18:26:07.236693",
     "exception": false,
     "start_time": "2025-08-19T18:26:05.421778",
     "status": "completed"
    },
    "tags": []
   },
   "outputs": [],
   "source": [
    "example_universe = universe.copy()\n",
    "example_universe[\"cutoff\"] = example_universe[\"cutoff\"][0]\n",
    "example_universe[\"eval_fairness_grouping\"] = example_universe[\"eval_fairness_grouping\"][0]\n",
    "fairness_dict, metric_frame = universe_analysis.compute_metrics(\n",
    "    example_universe,\n",
    "    y_pred_prob=probs_test,\n",
    "    y_test=y_true,\n",
    "    org_test=org_test,\n",
    ")"
   ]
  },
  {
   "cell_type": "markdown",
   "id": "1fb7a0e9",
   "metadata": {
    "papermill": {
     "duration": 0.028591,
     "end_time": "2025-08-19T18:26:07.291979",
     "exception": false,
     "start_time": "2025-08-19T18:26:07.263388",
     "status": "completed"
    },
    "tags": []
   },
   "source": [
    "# Overall"
   ]
  },
  {
   "cell_type": "markdown",
   "id": "be1784b1",
   "metadata": {
    "papermill": {
     "duration": 0.012813,
     "end_time": "2025-08-19T18:26:07.319493",
     "exception": false,
     "start_time": "2025-08-19T18:26:07.306680",
     "status": "completed"
    },
    "tags": []
   },
   "source": [
    "Main fairness target: Equalized Odds. Seems to be a better fit than equal opportunity, since we're not only interested in Y = 1. Seems to be a better fit than demographic parity, since we also care about accuracy, not just equal distribution of preds.\n",
    "\n",
    "Pick column for computation of fairness metrics\n",
    "\n",
    "Performance\n",
    "Overall performance measures, most interesting in relation to the measures split by group below"
   ]
  },
  {
   "cell_type": "code",
   "execution_count": 59,
   "id": "b7672bee",
   "metadata": {
    "execution": {
     "iopub.execute_input": "2025-08-19T18:26:07.355809Z",
     "iopub.status.busy": "2025-08-19T18:26:07.350086Z",
     "iopub.status.idle": "2025-08-19T18:26:07.368439Z",
     "shell.execute_reply": "2025-08-19T18:26:07.366818Z"
    },
    "papermill": {
     "duration": 0.038256,
     "end_time": "2025-08-19T18:26:07.370414",
     "exception": false,
     "start_time": "2025-08-19T18:26:07.332158",
     "status": "completed"
    },
    "tags": []
   },
   "outputs": [
    {
     "data": {
      "text/plain": [
       "accuracy                   0.224022\n",
       "balanced accuracy          0.547838\n",
       "f1                         0.245363\n",
       "precision                  0.140168\n",
       "false positive rate        0.887727\n",
       "false negative rate        0.016597\n",
       "selection rate             0.900000\n",
       "count                  89710.000000\n",
       "dtype: float64"
      ]
     },
     "execution_count": 59,
     "metadata": {},
     "output_type": "execute_result"
    }
   ],
   "source": [
    "metric_frame.overall"
   ]
  },
  {
   "cell_type": "markdown",
   "id": "d93333c9",
   "metadata": {
    "papermill": {
     "duration": 0.012467,
     "end_time": "2025-08-19T18:26:07.398218",
     "exception": false,
     "start_time": "2025-08-19T18:26:07.385751",
     "status": "completed"
    },
    "tags": []
   },
   "source": [
    "By Group"
   ]
  },
  {
   "cell_type": "code",
   "execution_count": 60,
   "id": "52256966",
   "metadata": {
    "execution": {
     "iopub.execute_input": "2025-08-19T18:26:07.553928Z",
     "iopub.status.busy": "2025-08-19T18:26:07.553337Z",
     "iopub.status.idle": "2025-08-19T18:26:07.570047Z",
     "shell.execute_reply": "2025-08-19T18:26:07.569144Z"
    },
    "papermill": {
     "duration": 0.032513,
     "end_time": "2025-08-19T18:26:07.571714",
     "exception": false,
     "start_time": "2025-08-19T18:26:07.539201",
     "status": "completed"
    },
    "tags": []
   },
   "outputs": [
    {
     "data": {
      "text/html": [
       "<div>\n",
       "<style scoped>\n",
       "    .dataframe tbody tr th:only-of-type {\n",
       "        vertical-align: middle;\n",
       "    }\n",
       "\n",
       "    .dataframe tbody tr th {\n",
       "        vertical-align: top;\n",
       "    }\n",
       "\n",
       "    .dataframe thead th {\n",
       "        text-align: right;\n",
       "    }\n",
       "</style>\n",
       "<table border=\"1\" class=\"dataframe\">\n",
       "  <thead>\n",
       "    <tr style=\"text-align: right;\">\n",
       "      <th></th>\n",
       "      <th>accuracy</th>\n",
       "      <th>balanced accuracy</th>\n",
       "      <th>f1</th>\n",
       "      <th>precision</th>\n",
       "      <th>false positive rate</th>\n",
       "      <th>false negative rate</th>\n",
       "      <th>selection rate</th>\n",
       "      <th>count</th>\n",
       "    </tr>\n",
       "    <tr>\n",
       "      <th>majmin</th>\n",
       "      <th></th>\n",
       "      <th></th>\n",
       "      <th></th>\n",
       "      <th></th>\n",
       "      <th></th>\n",
       "      <th></th>\n",
       "      <th></th>\n",
       "      <th></th>\n",
       "    </tr>\n",
       "  </thead>\n",
       "  <tbody>\n",
       "    <tr>\n",
       "      <th>majority</th>\n",
       "      <td>0.237270</td>\n",
       "      <td>0.553335</td>\n",
       "      <td>0.254051</td>\n",
       "      <td>0.145877</td>\n",
       "      <td>0.876262</td>\n",
       "      <td>0.017068</td>\n",
       "      <td>0.890357</td>\n",
       "      <td>69170.0</td>\n",
       "    </tr>\n",
       "    <tr>\n",
       "      <th>minority</th>\n",
       "      <td>0.179406</td>\n",
       "      <td>0.529810</td>\n",
       "      <td>0.216811</td>\n",
       "      <td>0.121809</td>\n",
       "      <td>0.925600</td>\n",
       "      <td>0.014780</td>\n",
       "      <td>0.932473</td>\n",
       "      <td>20540.0</td>\n",
       "    </tr>\n",
       "  </tbody>\n",
       "</table>\n",
       "</div>"
      ],
      "text/plain": [
       "          accuracy  balanced accuracy        f1  precision  \\\n",
       "majmin                                                       \n",
       "majority  0.237270           0.553335  0.254051   0.145877   \n",
       "minority  0.179406           0.529810  0.216811   0.121809   \n",
       "\n",
       "          false positive rate  false negative rate  selection rate    count  \n",
       "majmin                                                                       \n",
       "majority             0.876262             0.017068        0.890357  69170.0  \n",
       "minority             0.925600             0.014780        0.932473  20540.0  "
      ]
     },
     "execution_count": 60,
     "metadata": {},
     "output_type": "execute_result"
    }
   ],
   "source": [
    "metric_frame.by_group"
   ]
  },
  {
   "cell_type": "code",
   "execution_count": 61,
   "id": "6e6c20ae",
   "metadata": {
    "execution": {
     "iopub.execute_input": "2025-08-19T18:26:07.602459Z",
     "iopub.status.busy": "2025-08-19T18:26:07.601964Z",
     "iopub.status.idle": "2025-08-19T18:26:09.698476Z",
     "shell.execute_reply": "2025-08-19T18:26:09.696768Z"
    },
    "papermill": {
     "duration": 2.11255,
     "end_time": "2025-08-19T18:26:09.700052",
     "exception": false,
     "start_time": "2025-08-19T18:26:07.587502",
     "status": "completed"
    },
    "tags": []
   },
   "outputs": [
    {
     "data": {
      "text/plain": [
       "array([[<Axes: title={'center': 'accuracy'}, xlabel='majmin'>,\n",
       "        <Axes: title={'center': 'balanced accuracy'}, xlabel='majmin'>,\n",
       "        <Axes: title={'center': 'f1'}, xlabel='majmin'>],\n",
       "       [<Axes: title={'center': 'precision'}, xlabel='majmin'>,\n",
       "        <Axes: title={'center': 'false positive rate'}, xlabel='majmin'>,\n",
       "        <Axes: title={'center': 'false negative rate'}, xlabel='majmin'>],\n",
       "       [<Axes: title={'center': 'selection rate'}, xlabel='majmin'>,\n",
       "        <Axes: title={'center': 'count'}, xlabel='majmin'>,\n",
       "        <Axes: xlabel='majmin'>]], dtype=object)"
      ]
     },
     "execution_count": 61,
     "metadata": {},
     "output_type": "execute_result"
    },
    {
     "data": {
      "image/png": "[encoded data removed]",
      "text/plain": [
       "<Figure size 1200x800 with 9 Axes>"
      ]
     },
     "metadata": {},
     "output_type": "display_data"
    }
   ],
   "source": [
    "# In a graphic\n",
    "metric_frame.by_group.plot.bar(\n",
    "    subplots=True,\n",
    "    layout=[3, 3],\n",
    "    legend=False,\n",
    "    figsize=[12, 8],\n",
    "    title=\"Show all metrics\",\n",
    ")"
   ]
  },
  {
   "cell_type": "markdown",
   "id": "b2e433ae",
   "metadata": {
    "papermill": {
     "duration": 0.014046,
     "end_time": "2025-08-19T18:26:09.729165",
     "exception": false,
     "start_time": "2025-08-19T18:26:09.715119",
     "status": "completed"
    },
    "tags": []
   },
   "source": [
    "# Final Output"
   ]
  },
  {
   "cell_type": "code",
   "execution_count": 62,
   "id": "3871301e",
   "metadata": {
    "execution": {
     "iopub.execute_input": "2025-08-19T18:26:09.765710Z",
     "iopub.status.busy": "2025-08-19T18:26:09.761153Z",
     "iopub.status.idle": "2025-08-19T18:26:09.783946Z",
     "shell.execute_reply": "2025-08-19T18:26:09.782900Z"
    },
    "papermill": {
     "duration": 0.043285,
     "end_time": "2025-08-19T18:26:09.786203",
     "exception": false,
     "start_time": "2025-08-19T18:26:09.742918",
     "status": "completed"
    },
    "tags": []
   },
   "outputs": [
    {
     "data": {
      "text/plain": [
       "4"
      ]
     },
     "execution_count": 62,
     "metadata": {},
     "output_type": "execute_result"
    }
   ],
   "source": [
    "sub_universes = universe_analysis.generate_sub_universes()\n",
    "len(sub_universes)"
   ]
  },
  {
   "cell_type": "code",
   "execution_count": 63,
   "id": "d9cfdaca",
   "metadata": {
    "execution": {
     "iopub.execute_input": "2025-08-19T18:26:09.842313Z",
     "iopub.status.busy": "2025-08-19T18:26:09.840845Z",
     "iopub.status.idle": "2025-08-19T18:26:09.856546Z",
     "shell.execute_reply": "2025-08-19T18:26:09.854867Z"
    },
    "papermill": {
     "duration": 0.047378,
     "end_time": "2025-08-19T18:26:09.858549",
     "exception": false,
     "start_time": "2025-08-19T18:26:09.811171",
     "status": "completed"
    },
    "tags": []
   },
   "outputs": [],
   "source": [
    "def filter_sub_universe_data(sub_universe, org_test):\n",
    "    # Keep all rows — no filtering\n",
    "    keep_rows_mask = np.ones(org_test.shape[0], dtype=bool)\n",
    "\n",
    "    print(f\"[INFO] Keeping all rows: {keep_rows_mask.sum()} rows retained.\")\n",
    "    return keep_rows_mask"
   ]
  },
  {
   "cell_type": "code",
   "execution_count": 64,
   "id": "2bc31ac1",
   "metadata": {
    "execution": {
     "iopub.execute_input": "2025-08-19T18:26:09.895372Z",
     "iopub.status.busy": "2025-08-19T18:26:09.893817Z",
     "iopub.status.idle": "2025-08-19T18:26:17.425560Z",
     "shell.execute_reply": "2025-08-19T18:26:17.424317Z"
    },
    "papermill": {
     "duration": 7.551899,
     "end_time": "2025-08-19T18:26:17.429483",
     "exception": false,
     "start_time": "2025-08-19T18:26:09.877584",
     "status": "completed"
    },
    "tags": []
   },
   "outputs": [
    {
     "name": "stdout",
     "output_type": "stream",
     "text": [
      "Stopping execution_time clock.\n",
      "[INFO] Keeping all rows: 89710 rows retained.\n"
     ]
    },
    {
     "name": "stdout",
     "output_type": "stream",
     "text": [
      "[INFO] Keeping all rows: 89710 rows retained.\n"
     ]
    },
    {
     "name": "stdout",
     "output_type": "stream",
     "text": [
      "[INFO] Keeping all rows: 89710 rows retained.\n"
     ]
    },
    {
     "name": "stdout",
     "output_type": "stream",
     "text": [
      "[INFO] Keeping all rows: 89710 rows retained.\n"
     ]
    },
    {
     "data": {
      "text/html": [
       "<div>\n",
       "<style scoped>\n",
       "    .dataframe tbody tr th:only-of-type {\n",
       "        vertical-align: middle;\n",
       "    }\n",
       "\n",
       "    .dataframe tbody tr th {\n",
       "        vertical-align: top;\n",
       "    }\n",
       "\n",
       "    .dataframe thead th {\n",
       "        text-align: right;\n",
       "    }\n",
       "</style>\n",
       "<table border=\"1\" class=\"dataframe\">\n",
       "  <thead>\n",
       "    <tr style=\"text-align: right;\">\n",
       "      <th></th>\n",
       "      <th>run_no</th>\n",
       "      <th>universe_id</th>\n",
       "      <th>universe_settings</th>\n",
       "      <th>execution_time</th>\n",
       "      <th>test_size_n</th>\n",
       "      <th>test_size_frac</th>\n",
       "      <th>fair_main_equalized_odds_difference</th>\n",
       "      <th>fair_main_equalized_odds_ratio</th>\n",
       "      <th>fair_main_demographic_parity_difference</th>\n",
       "      <th>fair_main_demographic_parity_ratio</th>\n",
       "      <th>...</th>\n",
       "      <th>perf_grp_precision_0</th>\n",
       "      <th>perf_grp_precision_1</th>\n",
       "      <th>perf_grp_false positive rate_0</th>\n",
       "      <th>perf_grp_false positive rate_1</th>\n",
       "      <th>perf_grp_false negative rate_0</th>\n",
       "      <th>perf_grp_false negative rate_1</th>\n",
       "      <th>perf_grp_selection rate_0</th>\n",
       "      <th>perf_grp_selection rate_1</th>\n",
       "      <th>perf_grp_count_0</th>\n",
       "      <th>perf_grp_count_1</th>\n",
       "    </tr>\n",
       "  </thead>\n",
       "  <tbody>\n",
       "    <tr>\n",
       "      <th>0</th>\n",
       "      <td>3</td>\n",
       "      <td>8e8b52677e60a7c4713a5c1023c5bcee</td>\n",
       "      <td>{\"cutoff\": \"quantile_0.1\", \"eval_fairness_grou...</td>\n",
       "      <td>25.732538</td>\n",
       "      <td>89710</td>\n",
       "      <td>1.0</td>\n",
       "      <td>0.049338</td>\n",
       "      <td>0.946696</td>\n",
       "      <td>0.042116</td>\n",
       "      <td>0.954834</td>\n",
       "      <td>...</td>\n",
       "      <td>NaN</td>\n",
       "      <td>NaN</td>\n",
       "      <td>NaN</td>\n",
       "      <td>NaN</td>\n",
       "      <td>NaN</td>\n",
       "      <td>NaN</td>\n",
       "      <td>NaN</td>\n",
       "      <td>NaN</td>\n",
       "      <td>NaN</td>\n",
       "      <td>NaN</td>\n",
       "    </tr>\n",
       "    <tr>\n",
       "      <th>0</th>\n",
       "      <td>3</td>\n",
       "      <td>8e8b52677e60a7c4713a5c1023c5bcee</td>\n",
       "      <td>{\"cutoff\": \"quantile_0.1\", \"eval_fairness_grou...</td>\n",
       "      <td>25.732538</td>\n",
       "      <td>89710</td>\n",
       "      <td>1.0</td>\n",
       "      <td>0.049338</td>\n",
       "      <td>0.946696</td>\n",
       "      <td>0.042116</td>\n",
       "      <td>0.954834</td>\n",
       "      <td>...</td>\n",
       "      <td>0.121809</td>\n",
       "      <td>0.145877</td>\n",
       "      <td>0.925600</td>\n",
       "      <td>0.876262</td>\n",
       "      <td>0.014780</td>\n",
       "      <td>0.017068</td>\n",
       "      <td>0.932473</td>\n",
       "      <td>0.890357</td>\n",
       "      <td>20540.0</td>\n",
       "      <td>69170.0</td>\n",
       "    </tr>\n",
       "    <tr>\n",
       "      <th>0</th>\n",
       "      <td>3</td>\n",
       "      <td>8e8b52677e60a7c4713a5c1023c5bcee</td>\n",
       "      <td>{\"cutoff\": \"quantile_0.25\", \"eval_fairness_gro...</td>\n",
       "      <td>25.732538</td>\n",
       "      <td>89710</td>\n",
       "      <td>1.0</td>\n",
       "      <td>0.105748</td>\n",
       "      <td>0.868496</td>\n",
       "      <td>0.088849</td>\n",
       "      <td>0.891449</td>\n",
       "      <td>...</td>\n",
       "      <td>NaN</td>\n",
       "      <td>NaN</td>\n",
       "      <td>NaN</td>\n",
       "      <td>NaN</td>\n",
       "      <td>NaN</td>\n",
       "      <td>NaN</td>\n",
       "      <td>NaN</td>\n",
       "      <td>NaN</td>\n",
       "      <td>NaN</td>\n",
       "      <td>NaN</td>\n",
       "    </tr>\n",
       "    <tr>\n",
       "      <th>0</th>\n",
       "      <td>3</td>\n",
       "      <td>8e8b52677e60a7c4713a5c1023c5bcee</td>\n",
       "      <td>{\"cutoff\": \"quantile_0.25\", \"eval_fairness_gro...</td>\n",
       "      <td>25.732538</td>\n",
       "      <td>89710</td>\n",
       "      <td>1.0</td>\n",
       "      <td>0.105748</td>\n",
       "      <td>0.868496</td>\n",
       "      <td>0.088849</td>\n",
       "      <td>0.891449</td>\n",
       "      <td>...</td>\n",
       "      <td>0.130799</td>\n",
       "      <td>0.169309</td>\n",
       "      <td>0.804149</td>\n",
       "      <td>0.698401</td>\n",
       "      <td>0.071368</td>\n",
       "      <td>0.065098</td>\n",
       "      <td>0.818500</td>\n",
       "      <td>0.729652</td>\n",
       "      <td>20540.0</td>\n",
       "      <td>69170.0</td>\n",
       "    </tr>\n",
       "  </tbody>\n",
       "</table>\n",
       "<p>4 rows × 50 columns</p>\n",
       "</div>"
      ],
      "text/plain": [
       "  run_no                       universe_id  \\\n",
       "0      3  8e8b52677e60a7c4713a5c1023c5bcee   \n",
       "0      3  8e8b52677e60a7c4713a5c1023c5bcee   \n",
       "0      3  8e8b52677e60a7c4713a5c1023c5bcee   \n",
       "0      3  8e8b52677e60a7c4713a5c1023c5bcee   \n",
       "\n",
       "                                   universe_settings  execution_time  \\\n",
       "0  {\"cutoff\": \"quantile_0.1\", \"eval_fairness_grou...       25.732538   \n",
       "0  {\"cutoff\": \"quantile_0.1\", \"eval_fairness_grou...       25.732538   \n",
       "0  {\"cutoff\": \"quantile_0.25\", \"eval_fairness_gro...       25.732538   \n",
       "0  {\"cutoff\": \"quantile_0.25\", \"eval_fairness_gro...       25.732538   \n",
       "\n",
       "   test_size_n  test_size_frac  fair_main_equalized_odds_difference  \\\n",
       "0        89710             1.0                             0.049338   \n",
       "0        89710             1.0                             0.049338   \n",
       "0        89710             1.0                             0.105748   \n",
       "0        89710             1.0                             0.105748   \n",
       "\n",
       "   fair_main_equalized_odds_ratio  fair_main_demographic_parity_difference  \\\n",
       "0                        0.946696                                 0.042116   \n",
       "0                        0.946696                                 0.042116   \n",
       "0                        0.868496                                 0.088849   \n",
       "0                        0.868496                                 0.088849   \n",
       "\n",
       "   fair_main_demographic_parity_ratio  ...  perf_grp_precision_0  \\\n",
       "0                            0.954834  ...                   NaN   \n",
       "0                            0.954834  ...              0.121809   \n",
       "0                            0.891449  ...                   NaN   \n",
       "0                            0.891449  ...              0.130799   \n",
       "\n",
       "   perf_grp_precision_1  perf_grp_false positive rate_0  \\\n",
       "0                   NaN                             NaN   \n",
       "0              0.145877                        0.925600   \n",
       "0                   NaN                             NaN   \n",
       "0              0.169309                        0.804149   \n",
       "\n",
       "   perf_grp_false positive rate_1  perf_grp_false negative rate_0  \\\n",
       "0                             NaN                             NaN   \n",
       "0                        0.876262                        0.014780   \n",
       "0                             NaN                             NaN   \n",
       "0                        0.698401                        0.071368   \n",
       "\n",
       "   perf_grp_false negative rate_1  perf_grp_selection rate_0  \\\n",
       "0                             NaN                        NaN   \n",
       "0                        0.017068                   0.932473   \n",
       "0                             NaN                        NaN   \n",
       "0                        0.065098                   0.818500   \n",
       "\n",
       "   perf_grp_selection rate_1  perf_grp_count_0  perf_grp_count_1  \n",
       "0                        NaN               NaN               NaN  \n",
       "0                   0.890357           20540.0           69170.0  \n",
       "0                        NaN               NaN               NaN  \n",
       "0                   0.729652           20540.0           69170.0  \n",
       "\n",
       "[4 rows x 50 columns]"
      ]
     },
     "execution_count": 64,
     "metadata": {},
     "output_type": "execute_result"
    }
   ],
   "source": [
    "final_output = universe_analysis.generate_final_output(\n",
    "    y_pred_prob=probs_test,\n",
    "    y_test=y_true,\n",
    "    org_test=org_test,\n",
    "    filter_data=filter_sub_universe_data,\n",
    "    cp_metrics_df=cp_metrics_df,\n",
    "    save=True,\n",
    ")\n",
    "final_output"
   ]
  },
  {
   "cell_type": "code",
   "execution_count": null,
   "id": "8b80a1ff",
   "metadata": {
    "papermill": {
     "duration": 0.014686,
     "end_time": "2025-08-19T18:26:17.474661",
     "exception": false,
     "start_time": "2025-08-19T18:26:17.459975",
     "status": "completed"
    },
    "tags": []
   },
   "outputs": [],
   "source": []
  },
  {
   "cell_type": "code",
   "execution_count": null,
   "id": "275c9fad",
   "metadata": {
    "papermill": {
     "duration": 0.014315,
     "end_time": "2025-08-19T18:26:17.503430",
     "exception": false,
     "start_time": "2025-08-19T18:26:17.489115",
     "status": "completed"
    },
    "tags": []
   },
   "outputs": [],
   "source": []
  }
 ],
 "metadata": {
  "celltoolbar": "Tags",
  "kernelspec": {
   "display_name": "Python (CMA Fairness)",
   "language": "python",
   "name": "cma_fair_env"
  },
  "language_info": {
   "codemirror_mode": {
    "name": "ipython",
    "version": 3
   },
   "file_extension": ".py",
   "mimetype": "text/x-python",
   "name": "python",
   "nbconvert_exporter": "python",
   "pygments_lexer": "ipython3",
   "version": "3.10.12"
  },
  "papermill": {
   "default_parameters": {},
   "duration": 37.177503,
   "end_time": "2025-08-19T18:26:18.541093",
   "environment_variables": {},
   "exception": null,
   "input_path": "universe_analysis.ipynb",
   "output_path": "output/runs/3/notebooks/m_3-8e8b52677e60a7c4713a5c1023c5bcee.ipynb",
   "parameters": {
    "output_dir": "output",
    "run_no": "3",
    "seed": "2023",
    "universe": "{\"cutoff\": [\"quantile_0.1\", \"quantile_0.25\"], \"eval_fairness_grouping\": [\"majority-minority\", \"nationality-all\"], \"exclude_features\": \"age\", \"exclude_subgroups\": \"drop-non-german\", \"model\": \"gbm\", \"scale\": \"scale\", \"training_size\": \"5k\", \"training_year\": \"2014\"}",
    "universe_id": "8e8b52677e60a7c4713a5c1023c5bcee"
   },
   "start_time": "2025-08-19T18:25:41.363590",
   "version": "2.6.0"
  }
 },
 "nbformat": 4,
 "nbformat_minor": 5
}