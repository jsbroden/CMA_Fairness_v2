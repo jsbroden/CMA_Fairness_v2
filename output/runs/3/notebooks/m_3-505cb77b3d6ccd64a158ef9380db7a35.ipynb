{
 "cells": [
  {
   "cell_type": "markdown",
   "id": "ef23dbb3",
   "metadata": {
    "papermill": {
     "duration": 0.022755,
     "end_time": "2025-08-19T19:03:19.104433",
     "exception": false,
     "start_time": "2025-08-19T19:03:19.081678",
     "status": "completed"
    },
    "tags": []
   },
   "source": [
    "# Setup"
   ]
  },
  {
   "cell_type": "code",
   "execution_count": 1,
   "id": "0bc8e7dc",
   "metadata": {
    "execution": {
     "iopub.execute_input": "2025-08-19T19:03:19.128801Z",
     "iopub.status.busy": "2025-08-19T19:03:19.127559Z",
     "iopub.status.idle": "2025-08-19T19:03:19.150466Z",
     "shell.execute_reply": "2025-08-19T19:03:19.149145Z"
    },
    "papermill": {
     "duration": 0.036311,
     "end_time": "2025-08-19T19:03:19.152962",
     "exception": false,
     "start_time": "2025-08-19T19:03:19.116651",
     "status": "completed"
    },
    "tags": []
   },
   "outputs": [
    {
     "name": "stdout",
     "output_type": "stream",
     "text": [
      "/dss/dsshome1/0C/ra93lal2/cma/CMA_Fairness_v2\n"
     ]
    },
    {
     "name": "stderr",
     "output_type": "stream",
     "text": [
      "/dss/dsshome1/0C/ra93lal2/.local/share/virtualenvs/CMA_Fairness_v2-3j10GkSs/lib/python3.10/site-packages/IPython/core/magics/osm.py:393: UserWarning: This is now an optional IPython functionality, using bookmarks requires you to install the `pickleshare` library.\n",
      "  bkms = self.shell.db.get('bookmarks', {})\n",
      "/dss/dsshome1/0C/ra93lal2/.local/share/virtualenvs/CMA_Fairness_v2-3j10GkSs/lib/python3.10/site-packages/IPython/core/magics/osm.py:417: UserWarning: This is now an optional IPython functionality, setting dhist requires you to install the `pickleshare` library.\n",
      "  self.shell.db['dhist'] = compress_dhist(dhist)[-100:]\n"
     ]
    }
   ],
   "source": [
    "%cd ~/cma/CMA_Fairness_v2"
   ]
  },
  {
   "cell_type": "markdown",
   "id": "9d235661",
   "metadata": {
    "papermill": {
     "duration": 0.009527,
     "end_time": "2025-08-19T19:03:19.176072",
     "exception": false,
     "start_time": "2025-08-19T19:03:19.166545",
     "status": "completed"
    },
    "tags": []
   },
   "source": [
    "The following cell holds the definition of our parameters, these values can be overriden by rendering the with e.g. the following command:\n",
    "\n",
    "papermill -p alpha 0.2 -p ratio 0.3 universe_analysis.ipynb output/test_run.ipynb"
   ]
  },
  {
   "cell_type": "code",
   "execution_count": 2,
   "id": "4a789d8e",
   "metadata": {
    "execution": {
     "iopub.execute_input": "2025-08-19T19:03:19.194905Z",
     "iopub.status.busy": "2025-08-19T19:03:19.194583Z",
     "iopub.status.idle": "2025-08-19T19:03:19.199390Z",
     "shell.execute_reply": "2025-08-19T19:03:19.198661Z"
    },
    "papermill": {
     "duration": 0.030319,
     "end_time": "2025-08-19T19:03:19.215337",
     "exception": false,
     "start_time": "2025-08-19T19:03:19.185018",
     "status": "completed"
    },
    "tags": []
   },
   "outputs": [
    {
     "name": "stdout",
     "output_type": "stream",
     "text": [
      "Current working directory: /dss/dsshome1/0C/ra93lal2/cma/CMA_Fairness_v2\n"
     ]
    }
   ],
   "source": [
    "import os\n",
    "print(\"Current working directory:\", os.getcwd())"
   ]
  },
  {
   "cell_type": "code",
   "execution_count": 3,
   "id": "4132aaed",
   "metadata": {
    "execution": {
     "iopub.execute_input": "2025-08-19T19:03:19.240768Z",
     "iopub.status.busy": "2025-08-19T19:03:19.240424Z",
     "iopub.status.idle": "2025-08-19T19:03:19.245413Z",
     "shell.execute_reply": "2025-08-19T19:03:19.244796Z"
    },
    "papermill": {
     "duration": 0.017555,
     "end_time": "2025-08-19T19:03:19.247247",
     "exception": false,
     "start_time": "2025-08-19T19:03:19.229692",
     "status": "completed"
    },
    "tags": [
     "parameters"
    ]
   },
   "outputs": [],
   "source": [
    "run_no = 0\n",
    "universe_id = \"test\"\n",
    "universe = {\n",
    "    \"training_size\": \"5k\", # \"25k\", \"5k\", \"1k\"\n",
    "    \"training_year\": \"2012_14\", # \"2014\", \"2012_14\", \"2010_14\"\n",
    "    \"scale\": \"scale\", # \"scale\", \"do-not-scale\",\n",
    "    \"model\": \"elasticnet\", # \"logreg\", \"penalized_logreg\", \"rf\", \"gbm\", \"elasticnet\"\n",
    "    \"cutoff\": [\"quantile_0.15\", \"quantile_0.30\"],\n",
    "    \"exclude_features\": \"age\", # \"none\", \"nationality\", \"sex\", \"nationality-sex\", \"age\"\n",
    "    \"exclude_subgroups\": \"drop-non-german\", # \"keep-all\", \"drop-non-german\"\n",
    "    \"eval_fairness_grouping\": [\"majority-minority\", \"nationality-all\"]\n",
    "}\n",
    "\n",
    "output_dir=\"./output\"\n",
    "seed=0"
   ]
  },
  {
   "cell_type": "code",
   "execution_count": 4,
   "id": "2c09f2e8",
   "metadata": {
    "execution": {
     "iopub.execute_input": "2025-08-19T19:03:19.266412Z",
     "iopub.status.busy": "2025-08-19T19:03:19.265900Z",
     "iopub.status.idle": "2025-08-19T19:03:19.272077Z",
     "shell.execute_reply": "2025-08-19T19:03:19.269799Z"
    },
    "papermill": {
     "duration": 0.020174,
     "end_time": "2025-08-19T19:03:19.276386",
     "exception": false,
     "start_time": "2025-08-19T19:03:19.256212",
     "status": "completed"
    },
    "tags": [
     "injected-parameters"
    ]
   },
   "outputs": [],
   "source": [
    "# Parameters\n",
    "universe_id = \"505cb77b3d6ccd64a158ef9380db7a35\"\n",
    "run_no = \"3\"\n",
    "universe = \"{\\\"cutoff\\\": [\\\"quantile_0.1\\\", \\\"quantile_0.25\\\"], \\\"eval_fairness_grouping\\\": [\\\"majority-minority\\\", \\\"nationality-all\\\"], \\\"exclude_features\\\": \\\"nationality-sex\\\", \\\"exclude_subgroups\\\": \\\"keep-all\\\", \\\"model\\\": \\\"gbm\\\", \\\"scale\\\": \\\"do-not-scale\\\", \\\"training_size\\\": \\\"1k\\\", \\\"training_year\\\": \\\"2012_14\\\"}\"\n",
    "output_dir = \"output\"\n",
    "seed = \"2023\"\n"
   ]
  },
  {
   "cell_type": "code",
   "execution_count": 5,
   "id": "a5d7941f",
   "metadata": {
    "execution": {
     "iopub.execute_input": "2025-08-19T19:03:19.302723Z",
     "iopub.status.busy": "2025-08-19T19:03:19.302282Z",
     "iopub.status.idle": "2025-08-19T19:03:19.306357Z",
     "shell.execute_reply": "2025-08-19T19:03:19.305728Z"
    },
    "papermill": {
     "duration": 0.016921,
     "end_time": "2025-08-19T19:03:19.309434",
     "exception": false,
     "start_time": "2025-08-19T19:03:19.292513",
     "status": "completed"
    },
    "tags": []
   },
   "outputs": [],
   "source": [
    "import json\n",
    "if isinstance(universe, str):\n",
    "    universe = json.loads(universe)"
   ]
  },
  {
   "cell_type": "code",
   "execution_count": 6,
   "id": "7076ccb1",
   "metadata": {
    "execution": {
     "iopub.execute_input": "2025-08-19T19:03:19.346505Z",
     "iopub.status.busy": "2025-08-19T19:03:19.345486Z",
     "iopub.status.idle": "2025-08-19T19:03:19.391088Z",
     "shell.execute_reply": "2025-08-19T19:03:19.390466Z"
    },
    "papermill": {
     "duration": 0.061275,
     "end_time": "2025-08-19T19:03:19.393682",
     "exception": false,
     "start_time": "2025-08-19T19:03:19.332407",
     "status": "completed"
    },
    "tags": []
   },
   "outputs": [],
   "source": [
    "# Auto-reload the custom package\n",
    "%load_ext autoreload\n",
    "%autoreload 1\n",
    "%aimport fairness_multiverse"
   ]
  },
  {
   "cell_type": "code",
   "execution_count": 7,
   "id": "94c8eb93",
   "metadata": {
    "execution": {
     "iopub.execute_input": "2025-08-19T19:03:19.429552Z",
     "iopub.status.busy": "2025-08-19T19:03:19.427917Z",
     "iopub.status.idle": "2025-08-19T19:03:21.048418Z",
     "shell.execute_reply": "2025-08-19T19:03:21.047222Z"
    },
    "papermill": {
     "duration": 1.635323,
     "end_time": "2025-08-19T19:03:21.050262",
     "exception": false,
     "start_time": "2025-08-19T19:03:19.414939",
     "status": "completed"
    },
    "tags": []
   },
   "outputs": [],
   "source": [
    "from fairness_multiverse.universe import UniverseAnalysis\n",
    "\n",
    "universe_analysis = UniverseAnalysis(\n",
    "    run_no = run_no,\n",
    "    universe_id = universe_id,\n",
    "    universe = universe,\n",
    "    output_dir=output_dir,\n",
    ")"
   ]
  },
  {
   "cell_type": "code",
   "execution_count": 8,
   "id": "2a6381cf",
   "metadata": {
    "execution": {
     "iopub.execute_input": "2025-08-19T19:03:21.071949Z",
     "iopub.status.busy": "2025-08-19T19:03:21.071583Z",
     "iopub.status.idle": "2025-08-19T19:03:21.079895Z",
     "shell.execute_reply": "2025-08-19T19:03:21.078916Z"
    },
    "papermill": {
     "duration": 0.020941,
     "end_time": "2025-08-19T19:03:21.081383",
     "exception": false,
     "start_time": "2025-08-19T19:03:21.060442",
     "status": "completed"
    },
    "tags": []
   },
   "outputs": [
    {
     "name": "stdout",
     "output_type": "stream",
     "text": [
      "Using Seed: 2023\n"
     ]
    }
   ],
   "source": [
    "import numpy as np\n",
    "parsed_seed = int(seed)\n",
    "np.random.seed(parsed_seed)\n",
    "print(f\"Using Seed: {parsed_seed}\")"
   ]
  },
  {
   "cell_type": "markdown",
   "id": "b6e958b4",
   "metadata": {
    "papermill": {
     "duration": 0.009296,
     "end_time": "2025-08-19T19:03:21.100272",
     "exception": false,
     "start_time": "2025-08-19T19:03:21.090976",
     "status": "completed"
    },
    "tags": []
   },
   "source": [
    "# Loading Data"
   ]
  },
  {
   "cell_type": "code",
   "execution_count": 9,
   "id": "98701482",
   "metadata": {
    "execution": {
     "iopub.execute_input": "2025-08-19T19:03:21.120343Z",
     "iopub.status.busy": "2025-08-19T19:03:21.120029Z",
     "iopub.status.idle": "2025-08-19T19:03:30.823669Z",
     "shell.execute_reply": "2025-08-19T19:03:30.822558Z"
    },
    "papermill": {
     "duration": 9.715222,
     "end_time": "2025-08-19T19:03:30.825147",
     "exception": false,
     "start_time": "2025-08-19T19:03:21.109925",
     "status": "completed"
    },
    "tags": []
   },
   "outputs": [
    {
     "name": "stdout",
     "output_type": "stream",
     "text": [
      "Loading SIAB data from cache: data/siab_cached.csv.gz\n"
     ]
    },
    {
     "name": "stdout",
     "output_type": "stream",
     "text": [
      "(643690, 164)\n"
     ]
    }
   ],
   "source": [
    "from pathlib import Path\n",
    "import pandas as pd\n",
    "\n",
    "# File paths\n",
    "raw_file = Path(\"data/raw/siab.csv\")\n",
    "cache_file = Path(\"data/siab_cached.csv.gz\")\n",
    "\n",
    "# Ensure cache directory exists\n",
    "cache_file.parent.mkdir(parents=True, exist_ok=True)\n",
    "\n",
    "# Load with simple caching\n",
    "if cache_file.exists():\n",
    "    print(f\"Loading SIAB data from cache: {cache_file}\")\n",
    "    siab = pd.read_csv(cache_file, compression='gzip')\n",
    "else:\n",
    "    print(f\"Cache not found. Reading raw SIAB data: {raw_file}\")\n",
    "    siab = pd.read_csv(raw_file)\n",
    "    siab.to_csv(cache_file, index=False, compression='gzip')\n",
    "    print(f\"Cached SIAB data to: {cache_file}\")\n",
    "\n",
    "print(siab.shape)"
   ]
  },
  {
   "cell_type": "code",
   "execution_count": 10,
   "id": "058d2abb",
   "metadata": {
    "execution": {
     "iopub.execute_input": "2025-08-19T19:03:30.848200Z",
     "iopub.status.busy": "2025-08-19T19:03:30.847726Z",
     "iopub.status.idle": "2025-08-19T19:03:30.977002Z",
     "shell.execute_reply": "2025-08-19T19:03:30.976218Z"
    },
    "papermill": {
     "duration": 0.140833,
     "end_time": "2025-08-19T19:03:30.978433",
     "exception": false,
     "start_time": "2025-08-19T19:03:30.837600",
     "status": "completed"
    },
    "tags": []
   },
   "outputs": [
    {
     "data": {
      "text/html": [
       "<div>\n",
       "<style scoped>\n",
       "    .dataframe tbody tr th:only-of-type {\n",
       "        vertical-align: middle;\n",
       "    }\n",
       "\n",
       "    .dataframe tbody tr th {\n",
       "        vertical-align: top;\n",
       "    }\n",
       "\n",
       "    .dataframe thead th {\n",
       "        text-align: right;\n",
       "    }\n",
       "</style>\n",
       "<table border=\"1\" class=\"dataframe\">\n",
       "  <thead>\n",
       "    <tr style=\"text-align: right;\">\n",
       "      <th></th>\n",
       "      <th>persnr</th>\n",
       "      <th>year</th>\n",
       "      <th>nrEntry</th>\n",
       "      <th>ltue</th>\n",
       "      <th>employed_before</th>\n",
       "      <th>receipt_leh_before</th>\n",
       "      <th>receipt_lhg_before</th>\n",
       "      <th>se_before</th>\n",
       "      <th>ASU_notue_seeking_before</th>\n",
       "      <th>ASU_other_before</th>\n",
       "      <th>...</th>\n",
       "      <th>minijob_tot_dur_byage</th>\n",
       "      <th>ft_tot_dur_byage</th>\n",
       "      <th>befrist_tot_dur_byage</th>\n",
       "      <th>leih_tot_dur_byage</th>\n",
       "      <th>LHG_tot_dur_byage</th>\n",
       "      <th>LEH_tot_dur_byage</th>\n",
       "      <th>almp_tot_dur_byage</th>\n",
       "      <th>almp_aw_tot_dur_byage</th>\n",
       "      <th>se_tot_dur_byage</th>\n",
       "      <th>seeking1_tot_dur_byage</th>\n",
       "    </tr>\n",
       "  </thead>\n",
       "  <tbody>\n",
       "    <tr>\n",
       "      <th>0</th>\n",
       "      <td>7</td>\n",
       "      <td>2015</td>\n",
       "      <td>1</td>\n",
       "      <td>0</td>\n",
       "      <td>1</td>\n",
       "      <td>0</td>\n",
       "      <td>0</td>\n",
       "      <td>0</td>\n",
       "      <td>1</td>\n",
       "      <td>0</td>\n",
       "      <td>...</td>\n",
       "      <td>0.000000</td>\n",
       "      <td>0.000000</td>\n",
       "      <td>15.043478</td>\n",
       "      <td>0.000000</td>\n",
       "      <td>0.000000</td>\n",
       "      <td>0.000000</td>\n",
       "      <td>0.000000</td>\n",
       "      <td>0.000000</td>\n",
       "      <td>0.000000</td>\n",
       "      <td>0.000000</td>\n",
       "    </tr>\n",
       "    <tr>\n",
       "      <th>1</th>\n",
       "      <td>18</td>\n",
       "      <td>2010</td>\n",
       "      <td>1</td>\n",
       "      <td>1</td>\n",
       "      <td>0</td>\n",
       "      <td>0</td>\n",
       "      <td>0</td>\n",
       "      <td>0</td>\n",
       "      <td>0</td>\n",
       "      <td>0</td>\n",
       "      <td>...</td>\n",
       "      <td>0.000000</td>\n",
       "      <td>0.000000</td>\n",
       "      <td>0.000000</td>\n",
       "      <td>0.000000</td>\n",
       "      <td>0.000000</td>\n",
       "      <td>0.000000</td>\n",
       "      <td>0.000000</td>\n",
       "      <td>0.000000</td>\n",
       "      <td>0.000000</td>\n",
       "      <td>0.000000</td>\n",
       "    </tr>\n",
       "    <tr>\n",
       "      <th>2</th>\n",
       "      <td>18</td>\n",
       "      <td>2011</td>\n",
       "      <td>2</td>\n",
       "      <td>0</td>\n",
       "      <td>1</td>\n",
       "      <td>0</td>\n",
       "      <td>1</td>\n",
       "      <td>0</td>\n",
       "      <td>1</td>\n",
       "      <td>0</td>\n",
       "      <td>...</td>\n",
       "      <td>2.714286</td>\n",
       "      <td>2.714286</td>\n",
       "      <td>0.000000</td>\n",
       "      <td>0.000000</td>\n",
       "      <td>10.775510</td>\n",
       "      <td>0.000000</td>\n",
       "      <td>8.367347</td>\n",
       "      <td>0.000000</td>\n",
       "      <td>0.000000</td>\n",
       "      <td>9.836735</td>\n",
       "    </tr>\n",
       "    <tr>\n",
       "      <th>3</th>\n",
       "      <td>18</td>\n",
       "      <td>2012</td>\n",
       "      <td>3</td>\n",
       "      <td>0</td>\n",
       "      <td>1</td>\n",
       "      <td>0</td>\n",
       "      <td>1</td>\n",
       "      <td>0</td>\n",
       "      <td>1</td>\n",
       "      <td>0</td>\n",
       "      <td>...</td>\n",
       "      <td>4.200000</td>\n",
       "      <td>4.200000</td>\n",
       "      <td>0.000000</td>\n",
       "      <td>0.000000</td>\n",
       "      <td>12.100000</td>\n",
       "      <td>0.000000</td>\n",
       "      <td>9.400000</td>\n",
       "      <td>0.000000</td>\n",
       "      <td>0.000000</td>\n",
       "      <td>9.960000</td>\n",
       "    </tr>\n",
       "    <tr>\n",
       "      <th>4</th>\n",
       "      <td>18</td>\n",
       "      <td>2012</td>\n",
       "      <td>4</td>\n",
       "      <td>0</td>\n",
       "      <td>1</td>\n",
       "      <td>0</td>\n",
       "      <td>1</td>\n",
       "      <td>0</td>\n",
       "      <td>1</td>\n",
       "      <td>0</td>\n",
       "      <td>...</td>\n",
       "      <td>5.460000</td>\n",
       "      <td>5.460000</td>\n",
       "      <td>0.000000</td>\n",
       "      <td>0.000000</td>\n",
       "      <td>13.360000</td>\n",
       "      <td>0.000000</td>\n",
       "      <td>10.320000</td>\n",
       "      <td>0.000000</td>\n",
       "      <td>0.000000</td>\n",
       "      <td>10.280000</td>\n",
       "    </tr>\n",
       "    <tr>\n",
       "      <th>...</th>\n",
       "      <td>...</td>\n",
       "      <td>...</td>\n",
       "      <td>...</td>\n",
       "      <td>...</td>\n",
       "      <td>...</td>\n",
       "      <td>...</td>\n",
       "      <td>...</td>\n",
       "      <td>...</td>\n",
       "      <td>...</td>\n",
       "      <td>...</td>\n",
       "      <td>...</td>\n",
       "      <td>...</td>\n",
       "      <td>...</td>\n",
       "      <td>...</td>\n",
       "      <td>...</td>\n",
       "      <td>...</td>\n",
       "      <td>...</td>\n",
       "      <td>...</td>\n",
       "      <td>...</td>\n",
       "      <td>...</td>\n",
       "      <td>...</td>\n",
       "    </tr>\n",
       "    <tr>\n",
       "      <th>643685</th>\n",
       "      <td>1827860</td>\n",
       "      <td>2013</td>\n",
       "      <td>1</td>\n",
       "      <td>0</td>\n",
       "      <td>0</td>\n",
       "      <td>0</td>\n",
       "      <td>1</td>\n",
       "      <td>0</td>\n",
       "      <td>0</td>\n",
       "      <td>1</td>\n",
       "      <td>...</td>\n",
       "      <td>0.000000</td>\n",
       "      <td>0.000000</td>\n",
       "      <td>0.000000</td>\n",
       "      <td>0.000000</td>\n",
       "      <td>0.612903</td>\n",
       "      <td>0.000000</td>\n",
       "      <td>0.000000</td>\n",
       "      <td>0.000000</td>\n",
       "      <td>0.000000</td>\n",
       "      <td>0.000000</td>\n",
       "    </tr>\n",
       "    <tr>\n",
       "      <th>643686</th>\n",
       "      <td>1827860</td>\n",
       "      <td>2015</td>\n",
       "      <td>2</td>\n",
       "      <td>1</td>\n",
       "      <td>0</td>\n",
       "      <td>0</td>\n",
       "      <td>1</td>\n",
       "      <td>0</td>\n",
       "      <td>1</td>\n",
       "      <td>0</td>\n",
       "      <td>...</td>\n",
       "      <td>0.000000</td>\n",
       "      <td>0.000000</td>\n",
       "      <td>0.212121</td>\n",
       "      <td>0.212121</td>\n",
       "      <td>17.363636</td>\n",
       "      <td>0.000000</td>\n",
       "      <td>8.909091</td>\n",
       "      <td>0.000000</td>\n",
       "      <td>0.000000</td>\n",
       "      <td>7.121212</td>\n",
       "    </tr>\n",
       "    <tr>\n",
       "      <th>643687</th>\n",
       "      <td>1827860</td>\n",
       "      <td>2016</td>\n",
       "      <td>3</td>\n",
       "      <td>1</td>\n",
       "      <td>0</td>\n",
       "      <td>0</td>\n",
       "      <td>1</td>\n",
       "      <td>1</td>\n",
       "      <td>0</td>\n",
       "      <td>1</td>\n",
       "      <td>...</td>\n",
       "      <td>0.000000</td>\n",
       "      <td>0.000000</td>\n",
       "      <td>0.294118</td>\n",
       "      <td>0.205882</td>\n",
       "      <td>34.705882</td>\n",
       "      <td>0.000000</td>\n",
       "      <td>10.352941</td>\n",
       "      <td>1.705882</td>\n",
       "      <td>1.705882</td>\n",
       "      <td>23.911765</td>\n",
       "    </tr>\n",
       "    <tr>\n",
       "      <th>643688</th>\n",
       "      <td>1827869</td>\n",
       "      <td>2013</td>\n",
       "      <td>1</td>\n",
       "      <td>1</td>\n",
       "      <td>1</td>\n",
       "      <td>0</td>\n",
       "      <td>0</td>\n",
       "      <td>0</td>\n",
       "      <td>1</td>\n",
       "      <td>0</td>\n",
       "      <td>...</td>\n",
       "      <td>0.000000</td>\n",
       "      <td>0.000000</td>\n",
       "      <td>0.000000</td>\n",
       "      <td>0.000000</td>\n",
       "      <td>0.000000</td>\n",
       "      <td>0.525424</td>\n",
       "      <td>0.000000</td>\n",
       "      <td>0.000000</td>\n",
       "      <td>0.000000</td>\n",
       "      <td>0.000000</td>\n",
       "    </tr>\n",
       "    <tr>\n",
       "      <th>643689</th>\n",
       "      <td>1827869</td>\n",
       "      <td>2014</td>\n",
       "      <td>2</td>\n",
       "      <td>0</td>\n",
       "      <td>0</td>\n",
       "      <td>1</td>\n",
       "      <td>0</td>\n",
       "      <td>0</td>\n",
       "      <td>1</td>\n",
       "      <td>0</td>\n",
       "      <td>...</td>\n",
       "      <td>0.000000</td>\n",
       "      <td>0.666667</td>\n",
       "      <td>0.666667</td>\n",
       "      <td>0.000000</td>\n",
       "      <td>0.000000</td>\n",
       "      <td>8.950000</td>\n",
       "      <td>1.033333</td>\n",
       "      <td>0.083333</td>\n",
       "      <td>0.083333</td>\n",
       "      <td>8.133333</td>\n",
       "    </tr>\n",
       "  </tbody>\n",
       "</table>\n",
       "<p>643690 rows × 164 columns</p>\n",
       "</div>"
      ],
      "text/plain": [
       "         persnr  year  nrEntry  ltue  employed_before  receipt_leh_before  \\\n",
       "0             7  2015        1     0                1                   0   \n",
       "1            18  2010        1     1                0                   0   \n",
       "2            18  2011        2     0                1                   0   \n",
       "3            18  2012        3     0                1                   0   \n",
       "4            18  2012        4     0                1                   0   \n",
       "...         ...   ...      ...   ...              ...                 ...   \n",
       "643685  1827860  2013        1     0                0                   0   \n",
       "643686  1827860  2015        2     1                0                   0   \n",
       "643687  1827860  2016        3     1                0                   0   \n",
       "643688  1827869  2013        1     1                1                   0   \n",
       "643689  1827869  2014        2     0                0                   1   \n",
       "\n",
       "        receipt_lhg_before  se_before  ASU_notue_seeking_before  \\\n",
       "0                        0          0                         1   \n",
       "1                        0          0                         0   \n",
       "2                        1          0                         1   \n",
       "3                        1          0                         1   \n",
       "4                        1          0                         1   \n",
       "...                    ...        ...                       ...   \n",
       "643685                   1          0                         0   \n",
       "643686                   1          0                         1   \n",
       "643687                   1          1                         0   \n",
       "643688                   0          0                         1   \n",
       "643689                   0          0                         1   \n",
       "\n",
       "        ASU_other_before  ...  minijob_tot_dur_byage  ft_tot_dur_byage  \\\n",
       "0                      0  ...               0.000000          0.000000   \n",
       "1                      0  ...               0.000000          0.000000   \n",
       "2                      0  ...               2.714286          2.714286   \n",
       "3                      0  ...               4.200000          4.200000   \n",
       "4                      0  ...               5.460000          5.460000   \n",
       "...                  ...  ...                    ...               ...   \n",
       "643685                 1  ...               0.000000          0.000000   \n",
       "643686                 0  ...               0.000000          0.000000   \n",
       "643687                 1  ...               0.000000          0.000000   \n",
       "643688                 0  ...               0.000000          0.000000   \n",
       "643689                 0  ...               0.000000          0.666667   \n",
       "\n",
       "        befrist_tot_dur_byage  leih_tot_dur_byage  LHG_tot_dur_byage  \\\n",
       "0                   15.043478            0.000000           0.000000   \n",
       "1                    0.000000            0.000000           0.000000   \n",
       "2                    0.000000            0.000000          10.775510   \n",
       "3                    0.000000            0.000000          12.100000   \n",
       "4                    0.000000            0.000000          13.360000   \n",
       "...                       ...                 ...                ...   \n",
       "643685               0.000000            0.000000           0.612903   \n",
       "643686               0.212121            0.212121          17.363636   \n",
       "643687               0.294118            0.205882          34.705882   \n",
       "643688               0.000000            0.000000           0.000000   \n",
       "643689               0.666667            0.000000           0.000000   \n",
       "\n",
       "        LEH_tot_dur_byage  almp_tot_dur_byage  almp_aw_tot_dur_byage  \\\n",
       "0                0.000000            0.000000               0.000000   \n",
       "1                0.000000            0.000000               0.000000   \n",
       "2                0.000000            8.367347               0.000000   \n",
       "3                0.000000            9.400000               0.000000   \n",
       "4                0.000000           10.320000               0.000000   \n",
       "...                   ...                 ...                    ...   \n",
       "643685           0.000000            0.000000               0.000000   \n",
       "643686           0.000000            8.909091               0.000000   \n",
       "643687           0.000000           10.352941               1.705882   \n",
       "643688           0.525424            0.000000               0.000000   \n",
       "643689           8.950000            1.033333               0.083333   \n",
       "\n",
       "        se_tot_dur_byage  seeking1_tot_dur_byage  \n",
       "0               0.000000                0.000000  \n",
       "1               0.000000                0.000000  \n",
       "2               0.000000                9.836735  \n",
       "3               0.000000                9.960000  \n",
       "4               0.000000               10.280000  \n",
       "...                  ...                     ...  \n",
       "643685          0.000000                0.000000  \n",
       "643686          0.000000                7.121212  \n",
       "643687          1.705882               23.911765  \n",
       "643688          0.000000                0.000000  \n",
       "643689          0.083333                8.133333  \n",
       "\n",
       "[643690 rows x 164 columns]"
      ]
     },
     "execution_count": 10,
     "metadata": {},
     "output_type": "execute_result"
    }
   ],
   "source": [
    "siab"
   ]
  },
  {
   "cell_type": "markdown",
   "id": "1f87e805",
   "metadata": {
    "papermill": {
     "duration": 0.010991,
     "end_time": "2025-08-19T19:03:31.001871",
     "exception": false,
     "start_time": "2025-08-19T19:03:30.990880",
     "status": "completed"
    },
    "tags": []
   },
   "source": [
    "# Splitting Data and Setting Training Data Size"
   ]
  },
  {
   "cell_type": "code",
   "execution_count": 11,
   "id": "910ae358",
   "metadata": {
    "execution": {
     "iopub.execute_input": "2025-08-19T19:03:31.022346Z",
     "iopub.status.busy": "2025-08-19T19:03:31.021865Z",
     "iopub.status.idle": "2025-08-19T19:03:31.677177Z",
     "shell.execute_reply": "2025-08-19T19:03:31.676528Z"
    },
    "papermill": {
     "duration": 0.667419,
     "end_time": "2025-08-19T19:03:31.678856",
     "exception": false,
     "start_time": "2025-08-19T19:03:31.011437",
     "status": "completed"
    },
    "tags": []
   },
   "outputs": [],
   "source": [
    "from fairness_multiverse.universe import sample_by_year_size\n",
    "\n",
    "siab_train = sample_by_year_size(siab,\n",
    "                               training_year=universe[\"training_year\"],\n",
    "                               training_size=universe[\"training_size\"])"
   ]
  },
  {
   "cell_type": "code",
   "execution_count": 12,
   "id": "919c8ff5",
   "metadata": {
    "execution": {
     "iopub.execute_input": "2025-08-19T19:03:31.708111Z",
     "iopub.status.busy": "2025-08-19T19:03:31.701717Z",
     "iopub.status.idle": "2025-08-19T19:03:31.718752Z",
     "shell.execute_reply": "2025-08-19T19:03:31.717738Z"
    },
    "papermill": {
     "duration": 0.031736,
     "end_time": "2025-08-19T19:03:31.720985",
     "exception": false,
     "start_time": "2025-08-19T19:03:31.689249",
     "status": "completed"
    },
    "tags": []
   },
   "outputs": [
    {
     "data": {
      "text/plain": [
       "(1000, 164)"
      ]
     },
     "execution_count": 12,
     "metadata": {},
     "output_type": "execute_result"
    }
   ],
   "source": [
    "siab_train.shape"
   ]
  },
  {
   "cell_type": "code",
   "execution_count": 13,
   "id": "feb13bf4",
   "metadata": {
    "execution": {
     "iopub.execute_input": "2025-08-19T19:03:31.744901Z",
     "iopub.status.busy": "2025-08-19T19:03:31.744445Z",
     "iopub.status.idle": "2025-08-19T19:03:31.751596Z",
     "shell.execute_reply": "2025-08-19T19:03:31.751034Z"
    },
    "papermill": {
     "duration": 0.020974,
     "end_time": "2025-08-19T19:03:31.754854",
     "exception": false,
     "start_time": "2025-08-19T19:03:31.733880",
     "status": "completed"
    },
    "tags": []
   },
   "outputs": [
    {
     "data": {
      "text/plain": [
       "year\n",
       "2012    334\n",
       "2013    333\n",
       "2014    333\n",
       "dtype: int64"
      ]
     },
     "metadata": {},
     "output_type": "display_data"
    }
   ],
   "source": [
    "display(siab_train.groupby(\"year\").size())"
   ]
  },
  {
   "cell_type": "code",
   "execution_count": 14,
   "id": "0997782f",
   "metadata": {
    "execution": {
     "iopub.execute_input": "2025-08-19T19:03:31.781114Z",
     "iopub.status.busy": "2025-08-19T19:03:31.779602Z",
     "iopub.status.idle": "2025-08-19T19:03:32.182219Z",
     "shell.execute_reply": "2025-08-19T19:03:32.181036Z"
    },
    "papermill": {
     "duration": 0.417339,
     "end_time": "2025-08-19T19:03:32.183804",
     "exception": false,
     "start_time": "2025-08-19T19:03:31.766465",
     "status": "completed"
    },
    "tags": []
   },
   "outputs": [],
   "source": [
    "#siab_train = siab_s[siab_s.year < 2015]\n",
    "siab_calib = siab[siab.year == 2015]\n",
    "siab_test = siab[siab.year == 2016]"
   ]
  },
  {
   "cell_type": "code",
   "execution_count": 15,
   "id": "2c1e4012",
   "metadata": {
    "execution": {
     "iopub.execute_input": "2025-08-19T19:03:32.206883Z",
     "iopub.status.busy": "2025-08-19T19:03:32.206334Z",
     "iopub.status.idle": "2025-08-19T19:03:32.211409Z",
     "shell.execute_reply": "2025-08-19T19:03:32.210786Z"
    },
    "papermill": {
     "duration": 0.019247,
     "end_time": "2025-08-19T19:03:32.214296",
     "exception": false,
     "start_time": "2025-08-19T19:03:32.195049",
     "status": "completed"
    },
    "tags": []
   },
   "outputs": [],
   "source": [
    "#siab_calib.shape"
   ]
  },
  {
   "cell_type": "code",
   "execution_count": 16,
   "id": "f66b54ca",
   "metadata": {
    "execution": {
     "iopub.execute_input": "2025-08-19T19:03:32.254963Z",
     "iopub.status.busy": "2025-08-19T19:03:32.253792Z",
     "iopub.status.idle": "2025-08-19T19:03:32.262171Z",
     "shell.execute_reply": "2025-08-19T19:03:32.260693Z"
    },
    "papermill": {
     "duration": 0.024617,
     "end_time": "2025-08-19T19:03:32.263611",
     "exception": false,
     "start_time": "2025-08-19T19:03:32.238994",
     "status": "completed"
    },
    "tags": []
   },
   "outputs": [],
   "source": [
    "#siab_test.shape"
   ]
  },
  {
   "cell_type": "code",
   "execution_count": 17,
   "id": "27e4384d",
   "metadata": {
    "execution": {
     "iopub.execute_input": "2025-08-19T19:03:32.290819Z",
     "iopub.status.busy": "2025-08-19T19:03:32.289693Z",
     "iopub.status.idle": "2025-08-19T19:03:32.304345Z",
     "shell.execute_reply": "2025-08-19T19:03:32.303134Z"
    },
    "papermill": {
     "duration": 0.028739,
     "end_time": "2025-08-19T19:03:32.305962",
     "exception": false,
     "start_time": "2025-08-19T19:03:32.277223",
     "status": "completed"
    },
    "tags": []
   },
   "outputs": [],
   "source": [
    "X_train = siab_train.iloc[:,4:164]\n",
    "y_train = siab_train.iloc[:, [3]]"
   ]
  },
  {
   "cell_type": "code",
   "execution_count": 18,
   "id": "08ee8389",
   "metadata": {
    "execution": {
     "iopub.execute_input": "2025-08-19T19:03:32.339653Z",
     "iopub.status.busy": "2025-08-19T19:03:32.338395Z",
     "iopub.status.idle": "2025-08-19T19:03:32.402657Z",
     "shell.execute_reply": "2025-08-19T19:03:32.401907Z"
    },
    "papermill": {
     "duration": 0.080954,
     "end_time": "2025-08-19T19:03:32.404068",
     "exception": false,
     "start_time": "2025-08-19T19:03:32.323114",
     "status": "completed"
    },
    "tags": []
   },
   "outputs": [],
   "source": [
    "X_calib = siab_calib.iloc[:,4:164]\n",
    "y_calib = siab_calib.iloc[:, [3]]"
   ]
  },
  {
   "cell_type": "code",
   "execution_count": 19,
   "id": "b7ff42e0",
   "metadata": {
    "execution": {
     "iopub.execute_input": "2025-08-19T19:03:32.427607Z",
     "iopub.status.busy": "2025-08-19T19:03:32.426442Z",
     "iopub.status.idle": "2025-08-19T19:03:32.489282Z",
     "shell.execute_reply": "2025-08-19T19:03:32.488452Z"
    },
    "papermill": {
     "duration": 0.077867,
     "end_time": "2025-08-19T19:03:32.492420",
     "exception": false,
     "start_time": "2025-08-19T19:03:32.414553",
     "status": "completed"
    },
    "tags": []
   },
   "outputs": [],
   "source": [
    "X_test = siab_test.iloc[:,4:164]\n",
    "y_true = siab_test.iloc[:, [3]]"
   ]
  },
  {
   "cell_type": "code",
   "execution_count": 20,
   "id": "0275101e",
   "metadata": {
    "execution": {
     "iopub.execute_input": "2025-08-19T19:03:32.540837Z",
     "iopub.status.busy": "2025-08-19T19:03:32.540185Z",
     "iopub.status.idle": "2025-08-19T19:03:32.660094Z",
     "shell.execute_reply": "2025-08-19T19:03:32.659394Z"
    },
    "papermill": {
     "duration": 0.145227,
     "end_time": "2025-08-19T19:03:32.662596",
     "exception": false,
     "start_time": "2025-08-19T19:03:32.517369",
     "status": "completed"
    },
    "tags": []
   },
   "outputs": [],
   "source": [
    "# Auxiliary data needed downstream in the pipeline\n",
    "\n",
    "org_train = X_train.copy()\n",
    "org_test = X_test.copy()\n",
    "org_calib = X_calib.copy()"
   ]
  },
  {
   "cell_type": "markdown",
   "id": "b461e618",
   "metadata": {
    "papermill": {
     "duration": 0.00991,
     "end_time": "2025-08-19T19:03:32.683025",
     "exception": false,
     "start_time": "2025-08-19T19:03:32.673115",
     "status": "completed"
    },
    "tags": []
   },
   "source": [
    "# Preprocessing Data"
   ]
  },
  {
   "cell_type": "code",
   "execution_count": 21,
   "id": "78e74c4b",
   "metadata": {
    "execution": {
     "iopub.execute_input": "2025-08-19T19:03:32.706704Z",
     "iopub.status.busy": "2025-08-19T19:03:32.706238Z",
     "iopub.status.idle": "2025-08-19T19:03:32.711771Z",
     "shell.execute_reply": "2025-08-19T19:03:32.710532Z"
    },
    "papermill": {
     "duration": 0.020027,
     "end_time": "2025-08-19T19:03:32.713657",
     "exception": false,
     "start_time": "2025-08-19T19:03:32.693630",
     "status": "completed"
    },
    "tags": []
   },
   "outputs": [],
   "source": [
    "# EXCLUDE PROTECTED FEATURES\n",
    "# --------------------------\n",
    "\n",
    "excluded_features = universe[\"exclude_features\"].split(\"-\")\n",
    "excluded_features_dictionary = {\n",
    "    \"nationality\": [\"maxdeutsch1\", \"maxdeutsch.Missing.\"],\n",
    "    \"sex\": [\"frau1\"],\n",
    "    \"age\": [\"age\"],\n",
    "}"
   ]
  },
  {
   "cell_type": "code",
   "execution_count": 22,
   "id": "f8e63555",
   "metadata": {
    "execution": {
     "iopub.execute_input": "2025-08-19T19:03:32.738355Z",
     "iopub.status.busy": "2025-08-19T19:03:32.737233Z",
     "iopub.status.idle": "2025-08-19T19:03:32.745465Z",
     "shell.execute_reply": "2025-08-19T19:03:32.744247Z"
    },
    "papermill": {
     "duration": 0.023496,
     "end_time": "2025-08-19T19:03:32.747209",
     "exception": false,
     "start_time": "2025-08-19T19:03:32.723713",
     "status": "completed"
    },
    "tags": []
   },
   "outputs": [],
   "source": [
    "excluded_features_columns = [\n",
    "    excluded_features_dictionary[f] for f in excluded_features if len(f) > 0 and f != \"none\"\n",
    "]"
   ]
  },
  {
   "cell_type": "code",
   "execution_count": 23,
   "id": "da781f7c",
   "metadata": {
    "execution": {
     "iopub.execute_input": "2025-08-19T19:03:32.782236Z",
     "iopub.status.busy": "2025-08-19T19:03:32.773287Z",
     "iopub.status.idle": "2025-08-19T19:03:32.787745Z",
     "shell.execute_reply": "2025-08-19T19:03:32.786772Z"
    },
    "papermill": {
     "duration": 0.030514,
     "end_time": "2025-08-19T19:03:32.789601",
     "exception": false,
     "start_time": "2025-08-19T19:03:32.759087",
     "status": "completed"
    },
    "tags": []
   },
   "outputs": [],
   "source": [
    "from fairness_multiverse.universe import flatten_once\n",
    "\n",
    "excluded_features_columns = flatten_once(excluded_features_columns)"
   ]
  },
  {
   "cell_type": "code",
   "execution_count": 24,
   "id": "37fef0f0",
   "metadata": {
    "execution": {
     "iopub.execute_input": "2025-08-19T19:03:32.814958Z",
     "iopub.status.busy": "2025-08-19T19:03:32.814502Z",
     "iopub.status.idle": "2025-08-19T19:03:32.821937Z",
     "shell.execute_reply": "2025-08-19T19:03:32.821196Z"
    },
    "papermill": {
     "duration": 0.02139,
     "end_time": "2025-08-19T19:03:32.824576",
     "exception": false,
     "start_time": "2025-08-19T19:03:32.803186",
     "status": "completed"
    },
    "tags": []
   },
   "outputs": [
    {
     "name": "stdout",
     "output_type": "stream",
     "text": [
      "Dropping features: ['maxdeutsch1', 'maxdeutsch.Missing.', 'frau1']\n"
     ]
    }
   ],
   "source": [
    "if len(excluded_features_columns) > 0:\n",
    "    print(f\"Dropping features: {excluded_features_columns}\")\n",
    "    X_train.drop(excluded_features_columns, axis=1, inplace=True)"
   ]
  },
  {
   "cell_type": "code",
   "execution_count": 25,
   "id": "d029e3e9",
   "metadata": {
    "execution": {
     "iopub.execute_input": "2025-08-19T19:03:32.853381Z",
     "iopub.status.busy": "2025-08-19T19:03:32.852931Z",
     "iopub.status.idle": "2025-08-19T19:03:32.911751Z",
     "shell.execute_reply": "2025-08-19T19:03:32.909661Z"
    },
    "papermill": {
     "duration": 0.072943,
     "end_time": "2025-08-19T19:03:32.913378",
     "exception": false,
     "start_time": "2025-08-19T19:03:32.840435",
     "status": "completed"
    },
    "tags": []
   },
   "outputs": [
    {
     "name": "stdout",
     "output_type": "stream",
     "text": [
      "Dropping features: ['maxdeutsch1', 'maxdeutsch.Missing.', 'frau1']\n"
     ]
    }
   ],
   "source": [
    "if len(excluded_features_columns) > 0:\n",
    "    print(f\"Dropping features: {excluded_features_columns}\")\n",
    "    X_test.drop(excluded_features_columns, axis=1, inplace=True)"
   ]
  },
  {
   "cell_type": "code",
   "execution_count": 26,
   "id": "01d571f0",
   "metadata": {
    "execution": {
     "iopub.execute_input": "2025-08-19T19:03:32.937815Z",
     "iopub.status.busy": "2025-08-19T19:03:32.936721Z",
     "iopub.status.idle": "2025-08-19T19:03:32.996416Z",
     "shell.execute_reply": "2025-08-19T19:03:32.995305Z"
    },
    "papermill": {
     "duration": 0.074529,
     "end_time": "2025-08-19T19:03:32.999056",
     "exception": false,
     "start_time": "2025-08-19T19:03:32.924527",
     "status": "completed"
    },
    "tags": []
   },
   "outputs": [
    {
     "name": "stdout",
     "output_type": "stream",
     "text": [
      "Dropping features: ['maxdeutsch1', 'maxdeutsch.Missing.', 'frau1']\n"
     ]
    }
   ],
   "source": [
    "if len(excluded_features_columns) > 0:\n",
    "    print(f\"Dropping features: {excluded_features_columns}\")\n",
    "    X_calib.drop(excluded_features_columns, axis=1, inplace=True)"
   ]
  },
  {
   "cell_type": "code",
   "execution_count": 27,
   "id": "3037356e",
   "metadata": {
    "execution": {
     "iopub.execute_input": "2025-08-19T19:03:33.037168Z",
     "iopub.status.busy": "2025-08-19T19:03:33.036013Z",
     "iopub.status.idle": "2025-08-19T19:03:33.043454Z",
     "shell.execute_reply": "2025-08-19T19:03:33.042212Z"
    },
    "papermill": {
     "duration": 0.02284,
     "end_time": "2025-08-19T19:03:33.044819",
     "exception": false,
     "start_time": "2025-08-19T19:03:33.021979",
     "status": "completed"
    },
    "tags": []
   },
   "outputs": [],
   "source": [
    "# EXCLUDE CERTAIN SUBGROUPS\n",
    "# -------------------------\n",
    "\n",
    "mode = universe.get(\"exclude_subgroups\", \"keep-all\") # Defaults to \"keep-all\" if the key is missing."
   ]
  },
  {
   "cell_type": "code",
   "execution_count": 28,
   "id": "9d1e63fd",
   "metadata": {
    "execution": {
     "iopub.execute_input": "2025-08-19T19:03:33.070685Z",
     "iopub.status.busy": "2025-08-19T19:03:33.069628Z",
     "iopub.status.idle": "2025-08-19T19:03:33.079695Z",
     "shell.execute_reply": "2025-08-19T19:03:33.078593Z"
    },
    "papermill": {
     "duration": 0.02403,
     "end_time": "2025-08-19T19:03:33.081255",
     "exception": false,
     "start_time": "2025-08-19T19:03:33.057225",
     "status": "completed"
    },
    "tags": []
   },
   "outputs": [],
   "source": [
    "if mode == \"keep-all\":\n",
    "    keep_mask = pd.Series(True, index=org_train.index)\n",
    "\n",
    "elif mode == \"drop-non-german\":\n",
    "    keep_mask = (org_train[\"maxdeutsch1\"] == 1) & (org_train[\"maxdeutsch.Missing.\"] == 0)\n",
    "\n",
    "else:\n",
    "    raise ValueError(f\"Unsupported mode for exclude_subgroups: {mode}\")"
   ]
  },
  {
   "cell_type": "code",
   "execution_count": 29,
   "id": "d3b65474",
   "metadata": {
    "execution": {
     "iopub.execute_input": "2025-08-19T19:03:33.123033Z",
     "iopub.status.busy": "2025-08-19T19:03:33.122421Z",
     "iopub.status.idle": "2025-08-19T19:03:33.131193Z",
     "shell.execute_reply": "2025-08-19T19:03:33.129647Z"
    },
    "papermill": {
     "duration": 0.039515,
     "end_time": "2025-08-19T19:03:33.132869",
     "exception": false,
     "start_time": "2025-08-19T19:03:33.093354",
     "status": "completed"
    },
    "tags": []
   },
   "outputs": [],
   "source": [
    "n_drop = (~keep_mask).sum() # Calculates how many rows are set to be dropped\n",
    "if n_drop > 0:\n",
    "    pct = n_drop / len(keep_mask) * 100\n",
    "    print(f\"Dropping {n_drop} rows ({pct:.2f}%) where mode='{mode}'\")"
   ]
  },
  {
   "cell_type": "code",
   "execution_count": 30,
   "id": "f44389b3",
   "metadata": {
    "execution": {
     "iopub.execute_input": "2025-08-19T19:03:33.157318Z",
     "iopub.status.busy": "2025-08-19T19:03:33.156888Z",
     "iopub.status.idle": "2025-08-19T19:03:33.162978Z",
     "shell.execute_reply": "2025-08-19T19:03:33.162159Z"
    },
    "papermill": {
     "duration": 0.019011,
     "end_time": "2025-08-19T19:03:33.164332",
     "exception": false,
     "start_time": "2025-08-19T19:03:33.145321",
     "status": "completed"
    },
    "tags": []
   },
   "outputs": [],
   "source": [
    "X_train = X_train[keep_mask]"
   ]
  },
  {
   "cell_type": "code",
   "execution_count": 31,
   "id": "ceca8c2a",
   "metadata": {
    "execution": {
     "iopub.execute_input": "2025-08-19T19:03:33.186409Z",
     "iopub.status.busy": "2025-08-19T19:03:33.185984Z",
     "iopub.status.idle": "2025-08-19T19:03:33.190742Z",
     "shell.execute_reply": "2025-08-19T19:03:33.190078Z"
    },
    "papermill": {
     "duration": 0.01719,
     "end_time": "2025-08-19T19:03:33.192048",
     "exception": false,
     "start_time": "2025-08-19T19:03:33.174858",
     "status": "completed"
    },
    "tags": []
   },
   "outputs": [],
   "source": [
    "y_train = y_train[keep_mask]"
   ]
  },
  {
   "cell_type": "markdown",
   "id": "04d31e2f",
   "metadata": {
    "papermill": {
     "duration": 0.010376,
     "end_time": "2025-08-19T19:03:33.213182",
     "exception": false,
     "start_time": "2025-08-19T19:03:33.202806",
     "status": "completed"
    },
    "tags": []
   },
   "source": [
    "# Model Training"
   ]
  },
  {
   "cell_type": "code",
   "execution_count": 32,
   "id": "db991733",
   "metadata": {
    "execution": {
     "iopub.execute_input": "2025-08-19T19:03:33.235297Z",
     "iopub.status.busy": "2025-08-19T19:03:33.234829Z",
     "iopub.status.idle": "2025-08-19T19:03:33.334597Z",
     "shell.execute_reply": "2025-08-19T19:03:33.333733Z"
    },
    "papermill": {
     "duration": 0.114001,
     "end_time": "2025-08-19T19:03:33.337465",
     "exception": false,
     "start_time": "2025-08-19T19:03:33.223464",
     "status": "completed"
    },
    "tags": []
   },
   "outputs": [],
   "source": [
    "from sklearn.linear_model import LogisticRegression\n",
    "from sklearn.ensemble import GradientBoostingClassifier, RandomForestClassifier\n",
    "\n",
    "if (universe[\"model\"] == \"logreg\"):\n",
    "    model = LogisticRegression() #penalty=\"none\", solver=\"newton-cg\", max_iter=1)\n",
    "elif (universe[\"model\"] == \"penalized_logreg\"):\n",
    "    model = LogisticRegression(penalty=\"l2\", C=0.1) #, solver=\"newton-cg\", max_iter=1)\n",
    "elif (universe[\"model\"] == \"rf\"):\n",
    "    model = RandomForestClassifier() # n_estimators=100, n_jobs=-1\n",
    "elif (universe[\"model\"] == \"gbm\"):\n",
    "    model = GradientBoostingClassifier()\n",
    "elif (universe[\"model\"] == \"elasticnet\"):\n",
    "    model = LogisticRegression(penalty = 'elasticnet', solver = 'saga', l1_ratio = 0.5) # max_iter=5000\n",
    "else:\n",
    "    raise \"Unsupported universe.model\""
   ]
  },
  {
   "cell_type": "code",
   "execution_count": 33,
   "id": "a4b5cd25",
   "metadata": {
    "execution": {
     "iopub.execute_input": "2025-08-19T19:03:33.378971Z",
     "iopub.status.busy": "2025-08-19T19:03:33.376626Z",
     "iopub.status.idle": "2025-08-19T19:03:33.387773Z",
     "shell.execute_reply": "2025-08-19T19:03:33.386184Z"
    },
    "papermill": {
     "duration": 0.027168,
     "end_time": "2025-08-19T19:03:33.389431",
     "exception": false,
     "start_time": "2025-08-19T19:03:33.362263",
     "status": "completed"
    },
    "tags": []
   },
   "outputs": [],
   "source": [
    "from sklearn.pipeline import Pipeline\n",
    "from sklearn.preprocessing import StandardScaler\n",
    "\n",
    "model = Pipeline([\n",
    "    #(\"continuous_processor\", continuous_processor),\n",
    "    #(\"categorical_preprocessor\", categorical_preprocessor),\n",
    "    (\"scale\", StandardScaler() if universe[\"scale\"] == \"scale\" else None), \n",
    "    (\"model\", model),\n",
    "])"
   ]
  },
  {
   "cell_type": "code",
   "execution_count": 34,
   "id": "283a904d",
   "metadata": {
    "execution": {
     "iopub.execute_input": "2025-08-19T19:03:33.418353Z",
     "iopub.status.busy": "2025-08-19T19:03:33.417254Z",
     "iopub.status.idle": "2025-08-19T19:03:34.363548Z",
     "shell.execute_reply": "2025-08-19T19:03:34.362623Z"
    },
    "papermill": {
     "duration": 0.963638,
     "end_time": "2025-08-19T19:03:34.367980",
     "exception": false,
     "start_time": "2025-08-19T19:03:33.404342",
     "status": "completed"
    },
    "tags": []
   },
   "outputs": [
    {
     "data": {
      "text/html": [
       "<style>#sk-container-id-1 {color: black;background-color: white;}#sk-container-id-1 pre{padding: 0;}#sk-container-id-1 div.sk-toggleable {background-color: white;}#sk-container-id-1 label.sk-toggleable__label {cursor: pointer;display: block;width: 100%;margin-bottom: 0;padding: 0.3em;box-sizing: border-box;text-align: center;}#sk-container-id-1 label.sk-toggleable__label-arrow:before {content: \"▸\";float: left;margin-right: 0.25em;color: #696969;}#sk-container-id-1 label.sk-toggleable__label-arrow:hover:before {color: black;}#sk-container-id-1 div.sk-estimator:hover label.sk-toggleable__label-arrow:before {color: black;}#sk-container-id-1 div.sk-toggleable__content {max-height: 0;max-width: 0;overflow: hidden;text-align: left;background-color: #f0f8ff;}#sk-container-id-1 div.sk-toggleable__content pre {margin: 0.2em;color: black;border-radius: 0.25em;background-color: #f0f8ff;}#sk-container-id-1 input.sk-toggleable__control:checked~div.sk-toggleable__content {max-height: 200px;max-width: 100%;overflow: auto;}#sk-container-id-1 input.sk-toggleable__control:checked~label.sk-toggleable__label-arrow:before {content: \"▾\";}#sk-container-id-1 div.sk-estimator input.sk-toggleable__control:checked~label.sk-toggleable__label {background-color: #d4ebff;}#sk-container-id-1 div.sk-label input.sk-toggleable__control:checked~label.sk-toggleable__label {background-color: #d4ebff;}#sk-container-id-1 input.sk-hidden--visually {border: 0;clip: rect(1px 1px 1px 1px);clip: rect(1px, 1px, 1px, 1px);height: 1px;margin: -1px;overflow: hidden;padding: 0;position: absolute;width: 1px;}#sk-container-id-1 div.sk-estimator {font-family: monospace;background-color: #f0f8ff;border: 1px dotted black;border-radius: 0.25em;box-sizing: border-box;margin-bottom: 0.5em;}#sk-container-id-1 div.sk-estimator:hover {background-color: #d4ebff;}#sk-container-id-1 div.sk-parallel-item::after {content: \"\";width: 100%;border-bottom: 1px solid gray;flex-grow: 1;}#sk-container-id-1 div.sk-label:hover label.sk-toggleable__label {background-color: #d4ebff;}#sk-container-id-1 div.sk-serial::before {content: \"\";position: absolute;border-left: 1px solid gray;box-sizing: border-box;top: 0;bottom: 0;left: 50%;z-index: 0;}#sk-container-id-1 div.sk-serial {display: flex;flex-direction: column;align-items: center;background-color: white;padding-right: 0.2em;padding-left: 0.2em;position: relative;}#sk-container-id-1 div.sk-item {position: relative;z-index: 1;}#sk-container-id-1 div.sk-parallel {display: flex;align-items: stretch;justify-content: center;background-color: white;position: relative;}#sk-container-id-1 div.sk-item::before, #sk-container-id-1 div.sk-parallel-item::before {content: \"\";position: absolute;border-left: 1px solid gray;box-sizing: border-box;top: 0;bottom: 0;left: 50%;z-index: -1;}#sk-container-id-1 div.sk-parallel-item {display: flex;flex-direction: column;z-index: 1;position: relative;background-color: white;}#sk-container-id-1 div.sk-parallel-item:first-child::after {align-self: flex-end;width: 50%;}#sk-container-id-1 div.sk-parallel-item:last-child::after {align-self: flex-start;width: 50%;}#sk-container-id-1 div.sk-parallel-item:only-child::after {width: 0;}#sk-container-id-1 div.sk-dashed-wrapped {border: 1px dashed gray;margin: 0 0.4em 0.5em 0.4em;box-sizing: border-box;padding-bottom: 0.4em;background-color: white;}#sk-container-id-1 div.sk-label label {font-family: monospace;font-weight: bold;display: inline-block;line-height: 1.2em;}#sk-container-id-1 div.sk-label-container {text-align: center;}#sk-container-id-1 div.sk-container {/* jupyter's `normalize.less` sets `[hidden] { display: none; }` but bootstrap.min.css set `[hidden] { display: none !important; }` so we also need the `!important` here to be able to override the default hidden behavior on the sphinx rendered scikit-learn.org. See: https://github.com/scikit-learn/scikit-learn/issues/21755 */display: inline-block !important;position: relative;}#sk-container-id-1 div.sk-text-repr-fallback {display: none;}</style><div id=\"sk-container-id-1\" class=\"sk-top-container\"><div class=\"sk-text-repr-fallback\"><pre>Pipeline(steps=[(&#x27;scale&#x27;, None), (&#x27;model&#x27;, GradientBoostingClassifier())])</pre><b>In a Jupyter environment, please rerun this cell to show the HTML representation or trust the notebook. <br />On GitHub, the HTML representation is unable to render, please try loading this page with nbviewer.org.</b></div><div class=\"sk-container\" hidden><div class=\"sk-item sk-dashed-wrapped\"><div class=\"sk-label-container\"><div class=\"sk-label sk-toggleable\"><input class=\"sk-toggleable__control sk-hidden--visually\" id=\"sk-estimator-id-1\" type=\"checkbox\" ><label for=\"sk-estimator-id-1\" class=\"sk-toggleable__label sk-toggleable__label-arrow\">Pipeline</label><div class=\"sk-toggleable__content\"><pre>Pipeline(steps=[(&#x27;scale&#x27;, None), (&#x27;model&#x27;, GradientBoostingClassifier())])</pre></div></div></div><div class=\"sk-serial\"><div class=\"sk-item\"><div class=\"sk-estimator sk-toggleable\"><input class=\"sk-toggleable__control sk-hidden--visually\" id=\"sk-estimator-id-2\" type=\"checkbox\" ><label for=\"sk-estimator-id-2\" class=\"sk-toggleable__label sk-toggleable__label-arrow\">None</label><div class=\"sk-toggleable__content\"><pre>None</pre></div></div></div><div class=\"sk-item\"><div class=\"sk-estimator sk-toggleable\"><input class=\"sk-toggleable__control sk-hidden--visually\" id=\"sk-estimator-id-3\" type=\"checkbox\" ><label for=\"sk-estimator-id-3\" class=\"sk-toggleable__label sk-toggleable__label-arrow\">GradientBoostingClassifier</label><div class=\"sk-toggleable__content\"><pre>GradientBoostingClassifier()</pre></div></div></div></div></div></div></div>"
      ],
      "text/plain": [
       "Pipeline(steps=[('scale', None), ('model', GradientBoostingClassifier())])"
      ]
     },
     "execution_count": 34,
     "metadata": {},
     "output_type": "execute_result"
    }
   ],
   "source": [
    "model.fit(X_train, y_train.values.ravel())"
   ]
  },
  {
   "cell_type": "code",
   "execution_count": 35,
   "id": "6e15e313",
   "metadata": {
    "execution": {
     "iopub.execute_input": "2025-08-19T19:03:34.403976Z",
     "iopub.status.busy": "2025-08-19T19:03:34.402584Z",
     "iopub.status.idle": "2025-08-19T19:03:34.987099Z",
     "shell.execute_reply": "2025-08-19T19:03:34.986074Z"
    },
    "papermill": {
     "duration": 0.605793,
     "end_time": "2025-08-19T19:03:34.993897",
     "exception": false,
     "start_time": "2025-08-19T19:03:34.388104",
     "status": "completed"
    },
    "tags": []
   },
   "outputs": [
    {
     "data": {
      "text/plain": [
       "0.84179021290826"
      ]
     },
     "execution_count": 35,
     "metadata": {},
     "output_type": "execute_result"
    }
   ],
   "source": [
    "from fairness_multiverse.universe import predict_w_threshold\n",
    "\n",
    "probs_test = model.predict_proba(X_test)\n",
    "\n",
    "'''\n",
    "Below code returns a boolean array (or binary 0/1 array depending on how it’s used) where each element \n",
    "is True if the probability of class 1 is greater than or equal to the threshold, and False otherwise.\n",
    "'''\n",
    "y_pred_default = predict_w_threshold(probs_test, 0.5)\n",
    "\n",
    "from sklearn.metrics import accuracy_score\n",
    "\n",
    "# Naive prediction\n",
    "accuracy_score(y_true = y_true, y_pred = y_pred_default)"
   ]
  },
  {
   "cell_type": "code",
   "execution_count": 36,
   "id": "6f14067c",
   "metadata": {
    "execution": {
     "iopub.execute_input": "2025-08-19T19:03:35.035490Z",
     "iopub.status.busy": "2025-08-19T19:03:35.034039Z",
     "iopub.status.idle": "2025-08-19T19:03:35.552069Z",
     "shell.execute_reply": "2025-08-19T19:03:35.550650Z"
    },
    "papermill": {
     "duration": 0.538479,
     "end_time": "2025-08-19T19:03:35.556632",
     "exception": false,
     "start_time": "2025-08-19T19:03:35.018153",
     "status": "completed"
    },
    "tags": []
   },
   "outputs": [
    {
     "data": {
      "text/plain": [
       "array([0, 0, 0, ..., 0, 0, 0])"
      ]
     },
     "execution_count": 36,
     "metadata": {},
     "output_type": "execute_result"
    }
   ],
   "source": [
    "model.predict(X_test)"
   ]
  },
  {
   "cell_type": "markdown",
   "id": "3759920c",
   "metadata": {
    "papermill": {
     "duration": 0.011556,
     "end_time": "2025-08-19T19:03:35.580362",
     "exception": false,
     "start_time": "2025-08-19T19:03:35.568806",
     "status": "completed"
    },
    "tags": []
   },
   "source": [
    "# Conformal Prediction"
   ]
  },
  {
   "cell_type": "code",
   "execution_count": 37,
   "id": "14b27f59",
   "metadata": {
    "execution": {
     "iopub.execute_input": "2025-08-19T19:03:35.607644Z",
     "iopub.status.busy": "2025-08-19T19:03:35.605867Z",
     "iopub.status.idle": "2025-08-19T19:03:35.615162Z",
     "shell.execute_reply": "2025-08-19T19:03:35.613885Z"
    },
    "papermill": {
     "duration": 0.030333,
     "end_time": "2025-08-19T19:03:35.622096",
     "exception": false,
     "start_time": "2025-08-19T19:03:35.591763",
     "status": "completed"
    },
    "tags": []
   },
   "outputs": [],
   "source": [
    "# Miscoverage level for conformal prediction (10% allowed error rate => 90% target coverage)\n",
    "alpha = 0.1"
   ]
  },
  {
   "cell_type": "code",
   "execution_count": 38,
   "id": "59102472",
   "metadata": {
    "execution": {
     "iopub.execute_input": "2025-08-19T19:03:35.667341Z",
     "iopub.status.busy": "2025-08-19T19:03:35.665770Z",
     "iopub.status.idle": "2025-08-19T19:03:36.355955Z",
     "shell.execute_reply": "2025-08-19T19:03:36.354748Z"
    },
    "papermill": {
     "duration": 0.706115,
     "end_time": "2025-08-19T19:03:36.358276",
     "exception": false,
     "start_time": "2025-08-19T19:03:35.652161",
     "status": "completed"
    },
    "tags": []
   },
   "outputs": [],
   "source": [
    "probs_calib = model.predict_proba(X_calib)"
   ]
  },
  {
   "cell_type": "code",
   "execution_count": 39,
   "id": "a792d4dd",
   "metadata": {
    "execution": {
     "iopub.execute_input": "2025-08-19T19:03:36.397161Z",
     "iopub.status.busy": "2025-08-19T19:03:36.395824Z",
     "iopub.status.idle": "2025-08-19T19:03:36.406883Z",
     "shell.execute_reply": "2025-08-19T19:03:36.405694Z"
    },
    "papermill": {
     "duration": 0.02789,
     "end_time": "2025-08-19T19:03:36.408687",
     "exception": false,
     "start_time": "2025-08-19T19:03:36.380797",
     "status": "completed"
    },
    "tags": []
   },
   "outputs": [],
   "source": [
    "y_calib = y_calib.values.ravel().astype(int)"
   ]
  },
  {
   "cell_type": "code",
   "execution_count": 40,
   "id": "650fd033",
   "metadata": {
    "execution": {
     "iopub.execute_input": "2025-08-19T19:03:36.439190Z",
     "iopub.status.busy": "2025-08-19T19:03:36.437631Z",
     "iopub.status.idle": "2025-08-19T19:03:36.450226Z",
     "shell.execute_reply": "2025-08-19T19:03:36.449137Z"
    },
    "papermill": {
     "duration": 0.028867,
     "end_time": "2025-08-19T19:03:36.452165",
     "exception": false,
     "start_time": "2025-08-19T19:03:36.423298",
     "status": "completed"
    },
    "tags": []
   },
   "outputs": [],
   "source": [
    "from fairness_multiverse.conformal import compute_nc_scores\n",
    "\n",
    "# Compute nonconformity scores on calibration set (1 - probability of true class)\n",
    "nc_scores = compute_nc_scores(probs_calib, y_calib)"
   ]
  },
  {
   "cell_type": "code",
   "execution_count": 41,
   "id": "28ada44c",
   "metadata": {
    "execution": {
     "iopub.execute_input": "2025-08-19T19:03:36.486935Z",
     "iopub.status.busy": "2025-08-19T19:03:36.485591Z",
     "iopub.status.idle": "2025-08-19T19:03:36.496723Z",
     "shell.execute_reply": "2025-08-19T19:03:36.495771Z"
    },
    "papermill": {
     "duration": 0.027464,
     "end_time": "2025-08-19T19:03:36.498264",
     "exception": false,
     "start_time": "2025-08-19T19:03:36.470800",
     "status": "completed"
    },
    "tags": []
   },
   "outputs": [],
   "source": [
    "from fairness_multiverse.conformal import find_threshold\n",
    "\n",
    "# Find conformal threshold q_hat for the given alpha (split conformal method)\n",
    "q_hat = find_threshold(nc_scores, alpha)"
   ]
  },
  {
   "cell_type": "code",
   "execution_count": 42,
   "id": "df56469e",
   "metadata": {
    "execution": {
     "iopub.execute_input": "2025-08-19T19:03:36.540698Z",
     "iopub.status.busy": "2025-08-19T19:03:36.539207Z",
     "iopub.status.idle": "2025-08-19T19:03:36.552028Z",
     "shell.execute_reply": "2025-08-19T19:03:36.550355Z"
    },
    "papermill": {
     "duration": 0.028862,
     "end_time": "2025-08-19T19:03:36.554147",
     "exception": false,
     "start_time": "2025-08-19T19:03:36.525285",
     "status": "completed"
    },
    "tags": []
   },
   "outputs": [
    {
     "data": {
      "text/plain": [
       "0.7622906164152741"
      ]
     },
     "execution_count": 42,
     "metadata": {},
     "output_type": "execute_result"
    }
   ],
   "source": [
    "q_hat"
   ]
  },
  {
   "cell_type": "code",
   "execution_count": 43,
   "id": "aa1f5faa",
   "metadata": {
    "execution": {
     "iopub.execute_input": "2025-08-19T19:03:36.585745Z",
     "iopub.status.busy": "2025-08-19T19:03:36.584237Z",
     "iopub.status.idle": "2025-08-19T19:03:37.560089Z",
     "shell.execute_reply": "2025-08-19T19:03:37.558997Z"
    },
    "papermill": {
     "duration": 0.992557,
     "end_time": "2025-08-19T19:03:37.563121",
     "exception": false,
     "start_time": "2025-08-19T19:03:36.570564",
     "status": "completed"
    },
    "tags": []
   },
   "outputs": [],
   "source": [
    "from fairness_multiverse.conformal import predict_conformal_sets\n",
    "\n",
    "# Generate prediction sets for each test example\n",
    "pred_sets = predict_conformal_sets(model, X_test, q_hat)"
   ]
  },
  {
   "cell_type": "code",
   "execution_count": 44,
   "id": "97f67a6b",
   "metadata": {
    "execution": {
     "iopub.execute_input": "2025-08-19T19:03:37.622095Z",
     "iopub.status.busy": "2025-08-19T19:03:37.621471Z",
     "iopub.status.idle": "2025-08-19T19:03:37.627944Z",
     "shell.execute_reply": "2025-08-19T19:03:37.627167Z"
    },
    "papermill": {
     "duration": 0.036203,
     "end_time": "2025-08-19T19:03:37.629392",
     "exception": false,
     "start_time": "2025-08-19T19:03:37.593189",
     "status": "completed"
    },
    "tags": []
   },
   "outputs": [],
   "source": [
    "y_true = y_true.squeeze()"
   ]
  },
  {
   "cell_type": "code",
   "execution_count": 45,
   "id": "e700e9a7",
   "metadata": {
    "execution": {
     "iopub.execute_input": "2025-08-19T19:03:37.656727Z",
     "iopub.status.busy": "2025-08-19T19:03:37.655450Z",
     "iopub.status.idle": "2025-08-19T19:03:38.146004Z",
     "shell.execute_reply": "2025-08-19T19:03:38.144598Z"
    },
    "papermill": {
     "duration": 0.505287,
     "end_time": "2025-08-19T19:03:38.147605",
     "exception": false,
     "start_time": "2025-08-19T19:03:37.642318",
     "status": "completed"
    },
    "tags": []
   },
   "outputs": [],
   "source": [
    "from fairness_multiverse.conformal import evaluate_sets\n",
    "\n",
    "# Evaluate coverage and average set size on test data\n",
    "metrics = evaluate_sets(pred_sets, y_true)"
   ]
  },
  {
   "cell_type": "markdown",
   "id": "efbacec0",
   "metadata": {
    "papermill": {
     "duration": 0.011736,
     "end_time": "2025-08-19T19:03:38.171870",
     "exception": false,
     "start_time": "2025-08-19T19:03:38.160134",
     "status": "completed"
    },
    "tags": []
   },
   "source": [
    "# CP Metrics"
   ]
  },
  {
   "cell_type": "code",
   "execution_count": 46,
   "id": "9de55fb1",
   "metadata": {
    "execution": {
     "iopub.execute_input": "2025-08-19T19:03:38.198113Z",
     "iopub.status.busy": "2025-08-19T19:03:38.196741Z",
     "iopub.status.idle": "2025-08-19T19:03:38.208299Z",
     "shell.execute_reply": "2025-08-19T19:03:38.207083Z"
    },
    "papermill": {
     "duration": 0.02664,
     "end_time": "2025-08-19T19:03:38.209954",
     "exception": false,
     "start_time": "2025-08-19T19:03:38.183314",
     "status": "completed"
    },
    "tags": []
   },
   "outputs": [
    {
     "data": {
      "text/plain": [
       "{'coverage': 0.9090848288930999, 'avg_size': 1.1722327499721323}"
      ]
     },
     "execution_count": 46,
     "metadata": {},
     "output_type": "execute_result"
    }
   ],
   "source": [
    "metrics"
   ]
  },
  {
   "cell_type": "code",
   "execution_count": 47,
   "id": "64c340a1",
   "metadata": {
    "execution": {
     "iopub.execute_input": "2025-08-19T19:03:38.242379Z",
     "iopub.status.busy": "2025-08-19T19:03:38.240834Z",
     "iopub.status.idle": "2025-08-19T19:03:38.251879Z",
     "shell.execute_reply": "2025-08-19T19:03:38.250599Z"
    },
    "papermill": {
     "duration": 0.032835,
     "end_time": "2025-08-19T19:03:38.258642",
     "exception": false,
     "start_time": "2025-08-19T19:03:38.225807",
     "status": "completed"
    },
    "tags": []
   },
   "outputs": [],
   "source": [
    "example_universe = universe.copy()\n",
    "universe_training_year = example_universe.get(\"training_year\")\n",
    "universe_training_size = example_universe.get(\"training_size\")\n",
    "universe_scale = example_universe.get(\"scale\")\n",
    "universe_model = example_universe.get(\"model\")\n",
    "universe_exclude_features = example_universe.get(\"exclude_features\")\n",
    "universe_exclude_subgroups = example_universe.get(\"exclude_subgroups\")"
   ]
  },
  {
   "cell_type": "code",
   "execution_count": 48,
   "id": "dbb53cb4",
   "metadata": {
    "execution": {
     "iopub.execute_input": "2025-08-19T19:03:38.289190Z",
     "iopub.status.busy": "2025-08-19T19:03:38.287893Z",
     "iopub.status.idle": "2025-08-19T19:03:38.295852Z",
     "shell.execute_reply": "2025-08-19T19:03:38.295077Z"
    },
    "papermill": {
     "duration": 0.026215,
     "end_time": "2025-08-19T19:03:38.297284",
     "exception": false,
     "start_time": "2025-08-19T19:03:38.271069",
     "status": "completed"
    },
    "tags": []
   },
   "outputs": [],
   "source": [
    "cp_metrics_dict = {\n",
    "    \"universe_id\": [universe_id],\n",
    "    \"universe_training_year\": [universe_training_year],\n",
    "    \"universe_training_size\": [universe_training_size],\n",
    "    \"universe_scale\": [universe_scale],\n",
    "    \"universe_model\": [universe_model],\n",
    "    \"universe_exclude_features\": [universe_exclude_features],\n",
    "    \"universe_exclude_subgroups\": [universe_exclude_subgroups],\n",
    "    \"q_hat\": [q_hat],\n",
    "    \"coverage\": [metrics[\"coverage\"]],\n",
    "    \"avg_size\": [metrics[\"avg_size\"]],\n",
    "}"
   ]
  },
  {
   "cell_type": "code",
   "execution_count": 49,
   "id": "0d70d4b2",
   "metadata": {
    "execution": {
     "iopub.execute_input": "2025-08-19T19:03:38.331353Z",
     "iopub.status.busy": "2025-08-19T19:03:38.330647Z",
     "iopub.status.idle": "2025-08-19T19:03:38.373371Z",
     "shell.execute_reply": "2025-08-19T19:03:38.370712Z"
    },
    "papermill": {
     "duration": 0.062164,
     "end_time": "2025-08-19T19:03:38.376352",
     "exception": false,
     "start_time": "2025-08-19T19:03:38.314188",
     "status": "completed"
    },
    "tags": []
   },
   "outputs": [],
   "source": [
    "cp_metrics_df = pd.DataFrame(cp_metrics_dict)"
   ]
  },
  {
   "cell_type": "code",
   "execution_count": 50,
   "id": "b494403c",
   "metadata": {
    "execution": {
     "iopub.execute_input": "2025-08-19T19:03:38.419449Z",
     "iopub.status.busy": "2025-08-19T19:03:38.418735Z",
     "iopub.status.idle": "2025-08-19T19:03:38.438611Z",
     "shell.execute_reply": "2025-08-19T19:03:38.437627Z"
    },
    "papermill": {
     "duration": 0.037055,
     "end_time": "2025-08-19T19:03:38.440093",
     "exception": false,
     "start_time": "2025-08-19T19:03:38.403038",
     "status": "completed"
    },
    "tags": []
   },
   "outputs": [
    {
     "data": {
      "text/html": [
       "<div>\n",
       "<style scoped>\n",
       "    .dataframe tbody tr th:only-of-type {\n",
       "        vertical-align: middle;\n",
       "    }\n",
       "\n",
       "    .dataframe tbody tr th {\n",
       "        vertical-align: top;\n",
       "    }\n",
       "\n",
       "    .dataframe thead th {\n",
       "        text-align: right;\n",
       "    }\n",
       "</style>\n",
       "<table border=\"1\" class=\"dataframe\">\n",
       "  <thead>\n",
       "    <tr style=\"text-align: right;\">\n",
       "      <th></th>\n",
       "      <th>universe_id</th>\n",
       "      <th>universe_training_year</th>\n",
       "      <th>universe_training_size</th>\n",
       "      <th>universe_scale</th>\n",
       "      <th>universe_model</th>\n",
       "      <th>universe_exclude_features</th>\n",
       "      <th>universe_exclude_subgroups</th>\n",
       "      <th>q_hat</th>\n",
       "      <th>coverage</th>\n",
       "      <th>avg_size</th>\n",
       "    </tr>\n",
       "  </thead>\n",
       "  <tbody>\n",
       "    <tr>\n",
       "      <th>0</th>\n",
       "      <td>505cb77b3d6ccd64a158ef9380db7a35</td>\n",
       "      <td>2012_14</td>\n",
       "      <td>1k</td>\n",
       "      <td>do-not-scale</td>\n",
       "      <td>gbm</td>\n",
       "      <td>nationality-sex</td>\n",
       "      <td>keep-all</td>\n",
       "      <td>0.762291</td>\n",
       "      <td>0.909085</td>\n",
       "      <td>1.172233</td>\n",
       "    </tr>\n",
       "  </tbody>\n",
       "</table>\n",
       "</div>"
      ],
      "text/plain": [
       "                        universe_id universe_training_year  \\\n",
       "0  505cb77b3d6ccd64a158ef9380db7a35                2012_14   \n",
       "\n",
       "  universe_training_size universe_scale universe_model  \\\n",
       "0                     1k   do-not-scale            gbm   \n",
       "\n",
       "  universe_exclude_features universe_exclude_subgroups     q_hat  coverage  \\\n",
       "0           nationality-sex                   keep-all  0.762291  0.909085   \n",
       "\n",
       "   avg_size  \n",
       "0  1.172233  "
      ]
     },
     "execution_count": 50,
     "metadata": {},
     "output_type": "execute_result"
    }
   ],
   "source": [
    "cp_metrics_df"
   ]
  },
  {
   "cell_type": "markdown",
   "id": "ed608b0b",
   "metadata": {
    "papermill": {
     "duration": 0.011835,
     "end_time": "2025-08-19T19:03:38.467608",
     "exception": false,
     "start_time": "2025-08-19T19:03:38.455773",
     "status": "completed"
    },
    "tags": []
   },
   "source": [
    "Conditional coverage & looking at subgroups"
   ]
  },
  {
   "cell_type": "code",
   "execution_count": 51,
   "id": "8968c366",
   "metadata": {
    "execution": {
     "iopub.execute_input": "2025-08-19T19:03:38.493672Z",
     "iopub.status.busy": "2025-08-19T19:03:38.493194Z",
     "iopub.status.idle": "2025-08-19T19:03:38.957251Z",
     "shell.execute_reply": "2025-08-19T19:03:38.956065Z"
    },
    "papermill": {
     "duration": 0.479001,
     "end_time": "2025-08-19T19:03:38.959308",
     "exception": false,
     "start_time": "2025-08-19T19:03:38.480307",
     "status": "completed"
    },
    "tags": []
   },
   "outputs": [],
   "source": [
    "from fairness_multiverse.conformal import build_cp_groups\n",
    "\n",
    "cp_groups_df = build_cp_groups(pred_sets, y_true, X_test.index, org_test)"
   ]
  },
  {
   "cell_type": "code",
   "execution_count": 52,
   "id": "292ddabf",
   "metadata": {
    "execution": {
     "iopub.execute_input": "2025-08-19T19:03:38.984840Z",
     "iopub.status.busy": "2025-08-19T19:03:38.984494Z",
     "iopub.status.idle": "2025-08-19T19:03:39.873599Z",
     "shell.execute_reply": "2025-08-19T19:03:39.871813Z"
    },
    "papermill": {
     "duration": 0.903982,
     "end_time": "2025-08-19T19:03:39.875502",
     "exception": false,
     "start_time": "2025-08-19T19:03:38.971520",
     "status": "completed"
    },
    "tags": []
   },
   "outputs": [],
   "source": [
    "# Define covered = 1 if true_label is in the predicted set\n",
    "cp_groups_df['covered'] = cp_groups_df.apply(\n",
    "    lambda r: int(r['true_label'] in r['pred_set']),\n",
    "    axis=1\n",
    ")"
   ]
  },
  {
   "cell_type": "code",
   "execution_count": 53,
   "id": "3a261692",
   "metadata": {
    "execution": {
     "iopub.execute_input": "2025-08-19T19:03:39.908558Z",
     "iopub.status.busy": "2025-08-19T19:03:39.907532Z",
     "iopub.status.idle": "2025-08-19T19:03:39.927220Z",
     "shell.execute_reply": "2025-08-19T19:03:39.926041Z"
    },
    "papermill": {
     "duration": 0.038761,
     "end_time": "2025-08-19T19:03:39.929565",
     "exception": false,
     "start_time": "2025-08-19T19:03:39.890804",
     "status": "completed"
    },
    "tags": []
   },
   "outputs": [],
   "source": [
    "subgroups = ['frau1','nongerman','nongerman_male','nongerman_female']\n",
    "\n",
    "# Conditional coverage for subgroup==1\n",
    "cond_coverage = {\n",
    "    g: cp_groups_df.loc[cp_groups_df[g]==1, 'covered'].mean()\n",
    "    for g in subgroups\n",
    "}"
   ]
  },
  {
   "cell_type": "code",
   "execution_count": 54,
   "id": "894fd600",
   "metadata": {
    "execution": {
     "iopub.execute_input": "2025-08-19T19:03:39.991136Z",
     "iopub.status.busy": "2025-08-19T19:03:39.988018Z",
     "iopub.status.idle": "2025-08-19T19:03:40.000156Z",
     "shell.execute_reply": "2025-08-19T19:03:39.998996Z"
    },
    "papermill": {
     "duration": 0.036911,
     "end_time": "2025-08-19T19:03:40.001433",
     "exception": false,
     "start_time": "2025-08-19T19:03:39.964522",
     "status": "completed"
    },
    "tags": []
   },
   "outputs": [
    {
     "data": {
      "text/plain": [
       "{'frau1': 0.9057285348429708,\n",
       " 'nongerman': 0.9085499354404087,\n",
       " 'nongerman_male': 0.9257858236512654,\n",
       " 'nongerman_female': 0.8800298062593145}"
      ]
     },
     "execution_count": 54,
     "metadata": {},
     "output_type": "execute_result"
    }
   ],
   "source": [
    "cond_coverage"
   ]
  },
  {
   "cell_type": "code",
   "execution_count": 55,
   "id": "942895c7",
   "metadata": {
    "execution": {
     "iopub.execute_input": "2025-08-19T19:03:40.033007Z",
     "iopub.status.busy": "2025-08-19T19:03:40.031770Z",
     "iopub.status.idle": "2025-08-19T19:03:40.118955Z",
     "shell.execute_reply": "2025-08-19T19:03:40.118179Z"
    },
    "papermill": {
     "duration": 0.105304,
     "end_time": "2025-08-19T19:03:40.122806",
     "exception": false,
     "start_time": "2025-08-19T19:03:40.017502",
     "status": "completed"
    },
    "tags": []
   },
   "outputs": [],
   "source": [
    "for subgroup, cov in cond_coverage.items():\n",
    "    cp_metrics_df[f\"cov_{subgroup}\"] = cov"
   ]
  },
  {
   "cell_type": "code",
   "execution_count": 56,
   "id": "3970120f",
   "metadata": {
    "execution": {
     "iopub.execute_input": "2025-08-19T19:03:40.166771Z",
     "iopub.status.busy": "2025-08-19T19:03:40.166197Z",
     "iopub.status.idle": "2025-08-19T19:03:40.194005Z",
     "shell.execute_reply": "2025-08-19T19:03:40.192825Z"
    },
    "papermill": {
     "duration": 0.046055,
     "end_time": "2025-08-19T19:03:40.196191",
     "exception": false,
     "start_time": "2025-08-19T19:03:40.150136",
     "status": "completed"
    },
    "tags": []
   },
   "outputs": [
    {
     "data": {
      "text/html": [
       "<div>\n",
       "<style scoped>\n",
       "    .dataframe tbody tr th:only-of-type {\n",
       "        vertical-align: middle;\n",
       "    }\n",
       "\n",
       "    .dataframe tbody tr th {\n",
       "        vertical-align: top;\n",
       "    }\n",
       "\n",
       "    .dataframe thead th {\n",
       "        text-align: right;\n",
       "    }\n",
       "</style>\n",
       "<table border=\"1\" class=\"dataframe\">\n",
       "  <thead>\n",
       "    <tr style=\"text-align: right;\">\n",
       "      <th></th>\n",
       "      <th>universe_id</th>\n",
       "      <th>universe_training_year</th>\n",
       "      <th>universe_training_size</th>\n",
       "      <th>universe_scale</th>\n",
       "      <th>universe_model</th>\n",
       "      <th>universe_exclude_features</th>\n",
       "      <th>universe_exclude_subgroups</th>\n",
       "      <th>q_hat</th>\n",
       "      <th>coverage</th>\n",
       "      <th>avg_size</th>\n",
       "      <th>cov_frau1</th>\n",
       "      <th>cov_nongerman</th>\n",
       "      <th>cov_nongerman_male</th>\n",
       "      <th>cov_nongerman_female</th>\n",
       "    </tr>\n",
       "  </thead>\n",
       "  <tbody>\n",
       "    <tr>\n",
       "      <th>0</th>\n",
       "      <td>505cb77b3d6ccd64a158ef9380db7a35</td>\n",
       "      <td>2012_14</td>\n",
       "      <td>1k</td>\n",
       "      <td>do-not-scale</td>\n",
       "      <td>gbm</td>\n",
       "      <td>nationality-sex</td>\n",
       "      <td>keep-all</td>\n",
       "      <td>0.762291</td>\n",
       "      <td>0.909085</td>\n",
       "      <td>1.172233</td>\n",
       "      <td>0.905729</td>\n",
       "      <td>0.90855</td>\n",
       "      <td>0.925786</td>\n",
       "      <td>0.88003</td>\n",
       "    </tr>\n",
       "  </tbody>\n",
       "</table>\n",
       "</div>"
      ],
      "text/plain": [
       "                        universe_id universe_training_year  \\\n",
       "0  505cb77b3d6ccd64a158ef9380db7a35                2012_14   \n",
       "\n",
       "  universe_training_size universe_scale universe_model  \\\n",
       "0                     1k   do-not-scale            gbm   \n",
       "\n",
       "  universe_exclude_features universe_exclude_subgroups     q_hat  coverage  \\\n",
       "0           nationality-sex                   keep-all  0.762291  0.909085   \n",
       "\n",
       "   avg_size  cov_frau1  cov_nongerman  cov_nongerman_male  \\\n",
       "0  1.172233   0.905729        0.90855            0.925786   \n",
       "\n",
       "   cov_nongerman_female  \n",
       "0               0.88003  "
      ]
     },
     "execution_count": 56,
     "metadata": {},
     "output_type": "execute_result"
    }
   ],
   "source": [
    "cp_metrics_df"
   ]
  },
  {
   "cell_type": "markdown",
   "id": "3fc519cc",
   "metadata": {
    "papermill": {
     "duration": 0.013015,
     "end_time": "2025-08-19T19:03:40.225521",
     "exception": false,
     "start_time": "2025-08-19T19:03:40.212506",
     "status": "completed"
    },
    "tags": []
   },
   "source": [
    "# (Fairness) Metrics"
   ]
  },
  {
   "cell_type": "code",
   "execution_count": 57,
   "id": "a2e5e155",
   "metadata": {
    "execution": {
     "iopub.execute_input": "2025-08-19T19:03:40.254120Z",
     "iopub.status.busy": "2025-08-19T19:03:40.253314Z",
     "iopub.status.idle": "2025-08-19T19:03:40.283817Z",
     "shell.execute_reply": "2025-08-19T19:03:40.282645Z"
    },
    "papermill": {
     "duration": 0.047867,
     "end_time": "2025-08-19T19:03:40.286345",
     "exception": false,
     "start_time": "2025-08-19T19:03:40.238478",
     "status": "completed"
    },
    "tags": []
   },
   "outputs": [],
   "source": [
    "colname_to_bin = \"maxdeutsch1\"\n",
    "majority_value = org_train[colname_to_bin].mode()[0]\n",
    "\n",
    "org_test[\"majmin\"] = np.where(org_test[colname_to_bin] == majority_value, \"majority\", \"minority\")"
   ]
  },
  {
   "cell_type": "code",
   "execution_count": 58,
   "id": "17e3e4d5",
   "metadata": {
    "execution": {
     "iopub.execute_input": "2025-08-19T19:03:40.315608Z",
     "iopub.status.busy": "2025-08-19T19:03:40.315082Z",
     "iopub.status.idle": "2025-08-19T19:03:42.118064Z",
     "shell.execute_reply": "2025-08-19T19:03:42.116254Z"
    },
    "papermill": {
     "duration": 1.818968,
     "end_time": "2025-08-19T19:03:42.120775",
     "exception": false,
     "start_time": "2025-08-19T19:03:40.301807",
     "status": "completed"
    },
    "tags": []
   },
   "outputs": [],
   "source": [
    "example_universe = universe.copy()\n",
    "example_universe[\"cutoff\"] = example_universe[\"cutoff\"][0]\n",
    "example_universe[\"eval_fairness_grouping\"] = example_universe[\"eval_fairness_grouping\"][0]\n",
    "fairness_dict, metric_frame = universe_analysis.compute_metrics(\n",
    "    example_universe,\n",
    "    y_pred_prob=probs_test,\n",
    "    y_test=y_true,\n",
    "    org_test=org_test,\n",
    ")"
   ]
  },
  {
   "cell_type": "markdown",
   "id": "1fb7a0e9",
   "metadata": {
    "papermill": {
     "duration": 0.012468,
     "end_time": "2025-08-19T19:03:42.146927",
     "exception": false,
     "start_time": "2025-08-19T19:03:42.134459",
     "status": "completed"
    },
    "tags": []
   },
   "source": [
    "# Overall"
   ]
  },
  {
   "cell_type": "markdown",
   "id": "be1784b1",
   "metadata": {
    "papermill": {
     "duration": 0.012364,
     "end_time": "2025-08-19T19:03:42.171643",
     "exception": false,
     "start_time": "2025-08-19T19:03:42.159279",
     "status": "completed"
    },
    "tags": []
   },
   "source": [
    "Main fairness target: Equalized Odds. Seems to be a better fit than equal opportunity, since we're not only interested in Y = 1. Seems to be a better fit than demographic parity, since we also care about accuracy, not just equal distribution of preds.\n",
    "\n",
    "Pick column for computation of fairness metrics\n",
    "\n",
    "Performance\n",
    "Overall performance measures, most interesting in relation to the measures split by group below"
   ]
  },
  {
   "cell_type": "code",
   "execution_count": 59,
   "id": "b7672bee",
   "metadata": {
    "execution": {
     "iopub.execute_input": "2025-08-19T19:03:42.199080Z",
     "iopub.status.busy": "2025-08-19T19:03:42.198684Z",
     "iopub.status.idle": "2025-08-19T19:03:42.210617Z",
     "shell.execute_reply": "2025-08-19T19:03:42.209350Z"
    },
    "papermill": {
     "duration": 0.032198,
     "end_time": "2025-08-19T19:03:42.216438",
     "exception": false,
     "start_time": "2025-08-19T19:03:42.184240",
     "status": "completed"
    },
    "tags": []
   },
   "outputs": [
    {
     "data": {
      "text/plain": [
       "accuracy                   0.222996\n",
       "balanced accuracy          0.545545\n",
       "f1                         0.244366\n",
       "precision                  0.139598\n",
       "false positive rate        0.888315\n",
       "false negative rate        0.020594\n",
       "selection rate             0.900000\n",
       "count                  89710.000000\n",
       "dtype: float64"
      ]
     },
     "execution_count": 59,
     "metadata": {},
     "output_type": "execute_result"
    }
   ],
   "source": [
    "metric_frame.overall"
   ]
  },
  {
   "cell_type": "markdown",
   "id": "d93333c9",
   "metadata": {
    "papermill": {
     "duration": 0.013074,
     "end_time": "2025-08-19T19:03:42.261896",
     "exception": false,
     "start_time": "2025-08-19T19:03:42.248822",
     "status": "completed"
    },
    "tags": []
   },
   "source": [
    "By Group"
   ]
  },
  {
   "cell_type": "code",
   "execution_count": 60,
   "id": "52256966",
   "metadata": {
    "execution": {
     "iopub.execute_input": "2025-08-19T19:03:42.294448Z",
     "iopub.status.busy": "2025-08-19T19:03:42.293236Z",
     "iopub.status.idle": "2025-08-19T19:03:42.317895Z",
     "shell.execute_reply": "2025-08-19T19:03:42.316656Z"
    },
    "papermill": {
     "duration": 0.044654,
     "end_time": "2025-08-19T19:03:42.321177",
     "exception": false,
     "start_time": "2025-08-19T19:03:42.276523",
     "status": "completed"
    },
    "tags": []
   },
   "outputs": [
    {
     "data": {
      "text/html": [
       "<div>\n",
       "<style scoped>\n",
       "    .dataframe tbody tr th:only-of-type {\n",
       "        vertical-align: middle;\n",
       "    }\n",
       "\n",
       "    .dataframe tbody tr th {\n",
       "        vertical-align: top;\n",
       "    }\n",
       "\n",
       "    .dataframe thead th {\n",
       "        text-align: right;\n",
       "    }\n",
       "</style>\n",
       "<table border=\"1\" class=\"dataframe\">\n",
       "  <thead>\n",
       "    <tr style=\"text-align: right;\">\n",
       "      <th></th>\n",
       "      <th>accuracy</th>\n",
       "      <th>balanced accuracy</th>\n",
       "      <th>f1</th>\n",
       "      <th>precision</th>\n",
       "      <th>false positive rate</th>\n",
       "      <th>false negative rate</th>\n",
       "      <th>selection rate</th>\n",
       "      <th>count</th>\n",
       "    </tr>\n",
       "    <tr>\n",
       "      <th>majmin</th>\n",
       "      <th></th>\n",
       "      <th></th>\n",
       "      <th></th>\n",
       "      <th></th>\n",
       "      <th></th>\n",
       "      <th></th>\n",
       "      <th></th>\n",
       "      <th></th>\n",
       "    </tr>\n",
       "  </thead>\n",
       "  <tbody>\n",
       "    <tr>\n",
       "      <th>majority</th>\n",
       "      <td>0.244311</td>\n",
       "      <td>0.554470</td>\n",
       "      <td>0.254475</td>\n",
       "      <td>0.146311</td>\n",
       "      <td>0.867100</td>\n",
       "      <td>0.023961</td>\n",
       "      <td>0.881495</td>\n",
       "      <td>69170.0</td>\n",
       "    </tr>\n",
       "    <tr>\n",
       "      <th>minority</th>\n",
       "      <td>0.151217</td>\n",
       "      <td>0.517001</td>\n",
       "      <td>0.212343</td>\n",
       "      <td>0.118891</td>\n",
       "      <td>0.958398</td>\n",
       "      <td>0.007601</td>\n",
       "      <td>0.962317</td>\n",
       "      <td>20540.0</td>\n",
       "    </tr>\n",
       "  </tbody>\n",
       "</table>\n",
       "</div>"
      ],
      "text/plain": [
       "          accuracy  balanced accuracy        f1  precision  \\\n",
       "majmin                                                       \n",
       "majority  0.244311           0.554470  0.254475   0.146311   \n",
       "minority  0.151217           0.517001  0.212343   0.118891   \n",
       "\n",
       "          false positive rate  false negative rate  selection rate    count  \n",
       "majmin                                                                       \n",
       "majority             0.867100             0.023961        0.881495  69170.0  \n",
       "minority             0.958398             0.007601        0.962317  20540.0  "
      ]
     },
     "execution_count": 60,
     "metadata": {},
     "output_type": "execute_result"
    }
   ],
   "source": [
    "metric_frame.by_group"
   ]
  },
  {
   "cell_type": "code",
   "execution_count": 61,
   "id": "6e6c20ae",
   "metadata": {
    "execution": {
     "iopub.execute_input": "2025-08-19T19:03:42.358173Z",
     "iopub.status.busy": "2025-08-19T19:03:42.357694Z",
     "iopub.status.idle": "2025-08-19T19:03:44.316273Z",
     "shell.execute_reply": "2025-08-19T19:03:44.314799Z"
    },
    "papermill": {
     "duration": 1.974397,
     "end_time": "2025-08-19T19:03:44.317721",
     "exception": false,
     "start_time": "2025-08-19T19:03:42.343324",
     "status": "completed"
    },
    "tags": []
   },
   "outputs": [
    {
     "data": {
      "text/plain": [
       "array([[<Axes: title={'center': 'accuracy'}, xlabel='majmin'>,\n",
       "        <Axes: title={'center': 'balanced accuracy'}, xlabel='majmin'>,\n",
       "        <Axes: title={'center': 'f1'}, xlabel='majmin'>],\n",
       "       [<Axes: title={'center': 'precision'}, xlabel='majmin'>,\n",
       "        <Axes: title={'center': 'false positive rate'}, xlabel='majmin'>,\n",
       "        <Axes: title={'center': 'false negative rate'}, xlabel='majmin'>],\n",
       "       [<Axes: title={'center': 'selection rate'}, xlabel='majmin'>,\n",
       "        <Axes: title={'center': 'count'}, xlabel='majmin'>,\n",
       "        <Axes: xlabel='majmin'>]], dtype=object)"
      ]
     },
     "execution_count": 61,
     "metadata": {},
     "output_type": "execute_result"
    },
    {
     "data": {
      "image/png": "[encoded data removed]",
      "text/plain": [
       "<Figure size 1200x800 with 9 Axes>"
      ]
     },
     "metadata": {},
     "output_type": "display_data"
    }
   ],
   "source": [
    "# In a graphic\n",
    "metric_frame.by_group.plot.bar(\n",
    "    subplots=True,\n",
    "    layout=[3, 3],\n",
    "    legend=False,\n",
    "    figsize=[12, 8],\n",
    "    title=\"Show all metrics\",\n",
    ")"
   ]
  },
  {
   "cell_type": "markdown",
   "id": "b2e433ae",
   "metadata": {
    "papermill": {
     "duration": 0.013772,
     "end_time": "2025-08-19T19:03:44.348863",
     "exception": false,
     "start_time": "2025-08-19T19:03:44.335091",
     "status": "completed"
    },
    "tags": []
   },
   "source": [
    "# Final Output"
   ]
  },
  {
   "cell_type": "code",
   "execution_count": 62,
   "id": "3871301e",
   "metadata": {
    "execution": {
     "iopub.execute_input": "2025-08-19T19:03:44.393744Z",
     "iopub.status.busy": "2025-08-19T19:03:44.391028Z",
     "iopub.status.idle": "2025-08-19T19:03:44.410262Z",
     "shell.execute_reply": "2025-08-19T19:03:44.409202Z"
    },
    "papermill": {
     "duration": 0.04946,
     "end_time": "2025-08-19T19:03:44.411978",
     "exception": false,
     "start_time": "2025-08-19T19:03:44.362518",
     "status": "completed"
    },
    "tags": []
   },
   "outputs": [
    {
     "data": {
      "text/plain": [
       "4"
      ]
     },
     "execution_count": 62,
     "metadata": {},
     "output_type": "execute_result"
    }
   ],
   "source": [
    "sub_universes = universe_analysis.generate_sub_universes()\n",
    "len(sub_universes)"
   ]
  },
  {
   "cell_type": "code",
   "execution_count": 63,
   "id": "d9cfdaca",
   "metadata": {
    "execution": {
     "iopub.execute_input": "2025-08-19T19:03:44.443780Z",
     "iopub.status.busy": "2025-08-19T19:03:44.442379Z",
     "iopub.status.idle": "2025-08-19T19:03:44.464066Z",
     "shell.execute_reply": "2025-08-19T19:03:44.458038Z"
    },
    "papermill": {
     "duration": 0.039115,
     "end_time": "2025-08-19T19:03:44.465773",
     "exception": false,
     "start_time": "2025-08-19T19:03:44.426658",
     "status": "completed"
    },
    "tags": []
   },
   "outputs": [],
   "source": [
    "def filter_sub_universe_data(sub_universe, org_test):\n",
    "    # Keep all rows — no filtering\n",
    "    keep_rows_mask = np.ones(org_test.shape[0], dtype=bool)\n",
    "\n",
    "    print(f\"[INFO] Keeping all rows: {keep_rows_mask.sum()} rows retained.\")\n",
    "    return keep_rows_mask"
   ]
  },
  {
   "cell_type": "code",
   "execution_count": 64,
   "id": "2bc31ac1",
   "metadata": {
    "execution": {
     "iopub.execute_input": "2025-08-19T19:03:44.506439Z",
     "iopub.status.busy": "2025-08-19T19:03:44.506125Z",
     "iopub.status.idle": "2025-08-19T19:03:51.630299Z",
     "shell.execute_reply": "2025-08-19T19:03:51.628916Z"
    },
    "papermill": {
     "duration": 7.140826,
     "end_time": "2025-08-19T19:03:51.631904",
     "exception": false,
     "start_time": "2025-08-19T19:03:44.491078",
     "status": "completed"
    },
    "tags": []
   },
   "outputs": [
    {
     "name": "stdout",
     "output_type": "stream",
     "text": [
      "Stopping execution_time clock.\n",
      "[INFO] Keeping all rows: 89710 rows retained.\n"
     ]
    },
    {
     "name": "stdout",
     "output_type": "stream",
     "text": [
      "[INFO] Keeping all rows: 89710 rows retained.\n"
     ]
    },
    {
     "name": "stdout",
     "output_type": "stream",
     "text": [
      "[INFO] Keeping all rows: 89710 rows retained.\n"
     ]
    },
    {
     "name": "stdout",
     "output_type": "stream",
     "text": [
      "[INFO] Keeping all rows: 89710 rows retained.\n"
     ]
    },
    {
     "data": {
      "text/html": [
       "<div>\n",
       "<style scoped>\n",
       "    .dataframe tbody tr th:only-of-type {\n",
       "        vertical-align: middle;\n",
       "    }\n",
       "\n",
       "    .dataframe tbody tr th {\n",
       "        vertical-align: top;\n",
       "    }\n",
       "\n",
       "    .dataframe thead th {\n",
       "        text-align: right;\n",
       "    }\n",
       "</style>\n",
       "<table border=\"1\" class=\"dataframe\">\n",
       "  <thead>\n",
       "    <tr style=\"text-align: right;\">\n",
       "      <th></th>\n",
       "      <th>run_no</th>\n",
       "      <th>universe_id</th>\n",
       "      <th>universe_settings</th>\n",
       "      <th>execution_time</th>\n",
       "      <th>test_size_n</th>\n",
       "      <th>test_size_frac</th>\n",
       "      <th>fair_main_equalized_odds_difference</th>\n",
       "      <th>fair_main_equalized_odds_ratio</th>\n",
       "      <th>fair_main_demographic_parity_difference</th>\n",
       "      <th>fair_main_demographic_parity_ratio</th>\n",
       "      <th>...</th>\n",
       "      <th>perf_grp_precision_0</th>\n",
       "      <th>perf_grp_precision_1</th>\n",
       "      <th>perf_grp_false positive rate_0</th>\n",
       "      <th>perf_grp_false positive rate_1</th>\n",
       "      <th>perf_grp_false negative rate_0</th>\n",
       "      <th>perf_grp_false negative rate_1</th>\n",
       "      <th>perf_grp_selection rate_0</th>\n",
       "      <th>perf_grp_selection rate_1</th>\n",
       "      <th>perf_grp_count_0</th>\n",
       "      <th>perf_grp_count_1</th>\n",
       "    </tr>\n",
       "  </thead>\n",
       "  <tbody>\n",
       "    <tr>\n",
       "      <th>0</th>\n",
       "      <td>3</td>\n",
       "      <td>505cb77b3d6ccd64a158ef9380db7a35</td>\n",
       "      <td>{\"cutoff\": \"quantile_0.1\", \"eval_fairness_grou...</td>\n",
       "      <td>23.513341</td>\n",
       "      <td>89710</td>\n",
       "      <td>1.0</td>\n",
       "      <td>0.091298</td>\n",
       "      <td>0.904739</td>\n",
       "      <td>0.080823</td>\n",
       "      <td>0.916013</td>\n",
       "      <td>...</td>\n",
       "      <td>NaN</td>\n",
       "      <td>NaN</td>\n",
       "      <td>NaN</td>\n",
       "      <td>NaN</td>\n",
       "      <td>NaN</td>\n",
       "      <td>NaN</td>\n",
       "      <td>NaN</td>\n",
       "      <td>NaN</td>\n",
       "      <td>NaN</td>\n",
       "      <td>NaN</td>\n",
       "    </tr>\n",
       "    <tr>\n",
       "      <th>0</th>\n",
       "      <td>3</td>\n",
       "      <td>505cb77b3d6ccd64a158ef9380db7a35</td>\n",
       "      <td>{\"cutoff\": \"quantile_0.1\", \"eval_fairness_grou...</td>\n",
       "      <td>23.513341</td>\n",
       "      <td>89710</td>\n",
       "      <td>1.0</td>\n",
       "      <td>0.091298</td>\n",
       "      <td>0.904739</td>\n",
       "      <td>0.080823</td>\n",
       "      <td>0.916013</td>\n",
       "      <td>...</td>\n",
       "      <td>0.118891</td>\n",
       "      <td>0.146311</td>\n",
       "      <td>0.958398</td>\n",
       "      <td>0.867100</td>\n",
       "      <td>0.007601</td>\n",
       "      <td>0.023961</td>\n",
       "      <td>0.962317</td>\n",
       "      <td>0.881495</td>\n",
       "      <td>20540.0</td>\n",
       "      <td>69170.0</td>\n",
       "    </tr>\n",
       "    <tr>\n",
       "      <th>0</th>\n",
       "      <td>3</td>\n",
       "      <td>505cb77b3d6ccd64a158ef9380db7a35</td>\n",
       "      <td>{\"cutoff\": \"quantile_0.25\", \"eval_fairness_gro...</td>\n",
       "      <td>23.513341</td>\n",
       "      <td>89710</td>\n",
       "      <td>1.0</td>\n",
       "      <td>0.142104</td>\n",
       "      <td>0.830122</td>\n",
       "      <td>0.125040</td>\n",
       "      <td>0.852768</td>\n",
       "      <td>...</td>\n",
       "      <td>NaN</td>\n",
       "      <td>NaN</td>\n",
       "      <td>NaN</td>\n",
       "      <td>NaN</td>\n",
       "      <td>NaN</td>\n",
       "      <td>NaN</td>\n",
       "      <td>NaN</td>\n",
       "      <td>NaN</td>\n",
       "      <td>NaN</td>\n",
       "      <td>NaN</td>\n",
       "    </tr>\n",
       "    <tr>\n",
       "      <th>0</th>\n",
       "      <td>3</td>\n",
       "      <td>505cb77b3d6ccd64a158ef9380db7a35</td>\n",
       "      <td>{\"cutoff\": \"quantile_0.25\", \"eval_fairness_gro...</td>\n",
       "      <td>23.513341</td>\n",
       "      <td>89710</td>\n",
       "      <td>1.0</td>\n",
       "      <td>0.142104</td>\n",
       "      <td>0.830122</td>\n",
       "      <td>0.125040</td>\n",
       "      <td>0.852768</td>\n",
       "      <td>...</td>\n",
       "      <td>0.128583</td>\n",
       "      <td>0.167881</td>\n",
       "      <td>0.836507</td>\n",
       "      <td>0.694403</td>\n",
       "      <td>0.052787</td>\n",
       "      <td>0.079869</td>\n",
       "      <td>0.849270</td>\n",
       "      <td>0.724230</td>\n",
       "      <td>20540.0</td>\n",
       "      <td>69170.0</td>\n",
       "    </tr>\n",
       "  </tbody>\n",
       "</table>\n",
       "<p>4 rows × 50 columns</p>\n",
       "</div>"
      ],
      "text/plain": [
       "  run_no                       universe_id  \\\n",
       "0      3  505cb77b3d6ccd64a158ef9380db7a35   \n",
       "0      3  505cb77b3d6ccd64a158ef9380db7a35   \n",
       "0      3  505cb77b3d6ccd64a158ef9380db7a35   \n",
       "0      3  505cb77b3d6ccd64a158ef9380db7a35   \n",
       "\n",
       "                                   universe_settings  execution_time  \\\n",
       "0  {\"cutoff\": \"quantile_0.1\", \"eval_fairness_grou...       23.513341   \n",
       "0  {\"cutoff\": \"quantile_0.1\", \"eval_fairness_grou...       23.513341   \n",
       "0  {\"cutoff\": \"quantile_0.25\", \"eval_fairness_gro...       23.513341   \n",
       "0  {\"cutoff\": \"quantile_0.25\", \"eval_fairness_gro...       23.513341   \n",
       "\n",
       "   test_size_n  test_size_frac  fair_main_equalized_odds_difference  \\\n",
       "0        89710             1.0                             0.091298   \n",
       "0        89710             1.0                             0.091298   \n",
       "0        89710             1.0                             0.142104   \n",
       "0        89710             1.0                             0.142104   \n",
       "\n",
       "   fair_main_equalized_odds_ratio  fair_main_demographic_parity_difference  \\\n",
       "0                        0.904739                                 0.080823   \n",
       "0                        0.904739                                 0.080823   \n",
       "0                        0.830122                                 0.125040   \n",
       "0                        0.830122                                 0.125040   \n",
       "\n",
       "   fair_main_demographic_parity_ratio  ...  perf_grp_precision_0  \\\n",
       "0                            0.916013  ...                   NaN   \n",
       "0                            0.916013  ...              0.118891   \n",
       "0                            0.852768  ...                   NaN   \n",
       "0                            0.852768  ...              0.128583   \n",
       "\n",
       "   perf_grp_precision_1  perf_grp_false positive rate_0  \\\n",
       "0                   NaN                             NaN   \n",
       "0              0.146311                        0.958398   \n",
       "0                   NaN                             NaN   \n",
       "0              0.167881                        0.836507   \n",
       "\n",
       "   perf_grp_false positive rate_1  perf_grp_false negative rate_0  \\\n",
       "0                             NaN                             NaN   \n",
       "0                        0.867100                        0.007601   \n",
       "0                             NaN                             NaN   \n",
       "0                        0.694403                        0.052787   \n",
       "\n",
       "   perf_grp_false negative rate_1  perf_grp_selection rate_0  \\\n",
       "0                             NaN                        NaN   \n",
       "0                        0.023961                   0.962317   \n",
       "0                             NaN                        NaN   \n",
       "0                        0.079869                   0.849270   \n",
       "\n",
       "   perf_grp_selection rate_1  perf_grp_count_0  perf_grp_count_1  \n",
       "0                        NaN               NaN               NaN  \n",
       "0                   0.881495           20540.0           69170.0  \n",
       "0                        NaN               NaN               NaN  \n",
       "0                   0.724230           20540.0           69170.0  \n",
       "\n",
       "[4 rows x 50 columns]"
      ]
     },
     "execution_count": 64,
     "metadata": {},
     "output_type": "execute_result"
    }
   ],
   "source": [
    "final_output = universe_analysis.generate_final_output(\n",
    "    y_pred_prob=probs_test,\n",
    "    y_test=y_true,\n",
    "    org_test=org_test,\n",
    "    filter_data=filter_sub_universe_data,\n",
    "    cp_metrics_df=cp_metrics_df,\n",
    "    save=True,\n",
    ")\n",
    "final_output"
   ]
  },
  {
   "cell_type": "code",
   "execution_count": null,
   "id": "8b80a1ff",
   "metadata": {
    "papermill": {
     "duration": 0.014049,
     "end_time": "2025-08-19T19:03:51.663393",
     "exception": false,
     "start_time": "2025-08-19T19:03:51.649344",
     "status": "completed"
    },
    "tags": []
   },
   "outputs": [],
   "source": []
  },
  {
   "cell_type": "code",
   "execution_count": null,
   "id": "275c9fad",
   "metadata": {
    "papermill": {
     "duration": 0.014051,
     "end_time": "2025-08-19T19:03:51.692055",
     "exception": false,
     "start_time": "2025-08-19T19:03:51.678004",
     "status": "completed"
    },
    "tags": []
   },
   "outputs": [],
   "source": []
  }
 ],
 "metadata": {
  "celltoolbar": "Tags",
  "kernelspec": {
   "display_name": "Python (CMA Fairness)",
   "language": "python",
   "name": "cma_fair_env"
  },
  "language_info": {
   "codemirror_mode": {
    "name": "ipython",
    "version": 3
   },
   "file_extension": ".py",
   "mimetype": "text/x-python",
   "name": "python",
   "nbconvert_exporter": "python",
   "pygments_lexer": "ipython3",
   "version": "3.10.12"
  },
  "papermill": {
   "default_parameters": {},
   "duration": 34.515366,
   "end_time": "2025-08-19T19:03:52.527906",
   "environment_variables": {},
   "exception": null,
   "input_path": "universe_analysis.ipynb",
   "output_path": "output/runs/3/notebooks/m_3-505cb77b3d6ccd64a158ef9380db7a35.ipynb",
   "parameters": {
    "output_dir": "output",
    "run_no": "3",
    "seed": "2023",
    "universe": "{\"cutoff\": [\"quantile_0.1\", \"quantile_0.25\"], \"eval_fairness_grouping\": [\"majority-minority\", \"nationality-all\"], \"exclude_features\": \"nationality-sex\", \"exclude_subgroups\": \"keep-all\", \"model\": \"gbm\", \"scale\": \"do-not-scale\", \"training_size\": \"1k\", \"training_year\": \"2012_14\"}",
    "universe_id": "505cb77b3d6ccd64a158ef9380db7a35"
   },
   "start_time": "2025-08-19T19:03:18.012540",
   "version": "2.6.0"
  }
 },
 "nbformat": 4,
 "nbformat_minor": 5
}