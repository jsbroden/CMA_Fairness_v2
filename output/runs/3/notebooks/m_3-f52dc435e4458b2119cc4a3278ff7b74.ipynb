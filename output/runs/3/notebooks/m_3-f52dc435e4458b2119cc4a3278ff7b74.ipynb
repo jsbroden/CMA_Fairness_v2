{
 "cells": [
  {
   "cell_type": "markdown",
   "id": "ef23dbb3",
   "metadata": {
    "papermill": {
     "duration": 0.170888,
     "end_time": "2025-08-19T18:39:11.186202",
     "exception": false,
     "start_time": "2025-08-19T18:39:11.015314",
     "status": "completed"
    },
    "tags": []
   },
   "source": [
    "# Setup"
   ]
  },
  {
   "cell_type": "code",
   "execution_count": 1,
   "id": "0bc8e7dc",
   "metadata": {
    "execution": {
     "iopub.execute_input": "2025-08-19T18:39:11.219063Z",
     "iopub.status.busy": "2025-08-19T18:39:11.218638Z",
     "iopub.status.idle": "2025-08-19T18:39:11.229884Z",
     "shell.execute_reply": "2025-08-19T18:39:11.229305Z"
    },
    "papermill": {
     "duration": 0.022647,
     "end_time": "2025-08-19T18:39:11.231561",
     "exception": false,
     "start_time": "2025-08-19T18:39:11.208914",
     "status": "completed"
    },
    "tags": []
   },
   "outputs": [
    {
     "name": "stdout",
     "output_type": "stream",
     "text": [
      "/dss/dsshome1/0C/ra93lal2/cma/CMA_Fairness_v2\n"
     ]
    },
    {
     "name": "stderr",
     "output_type": "stream",
     "text": [
      "/dss/dsshome1/0C/ra93lal2/.local/share/virtualenvs/CMA_Fairness_v2-3j10GkSs/lib/python3.10/site-packages/IPython/core/magics/osm.py:393: UserWarning: This is now an optional IPython functionality, using bookmarks requires you to install the `pickleshare` library.\n",
      "  bkms = self.shell.db.get('bookmarks', {})\n",
      "/dss/dsshome1/0C/ra93lal2/.local/share/virtualenvs/CMA_Fairness_v2-3j10GkSs/lib/python3.10/site-packages/IPython/core/magics/osm.py:417: UserWarning: This is now an optional IPython functionality, setting dhist requires you to install the `pickleshare` library.\n",
      "  self.shell.db['dhist'] = compress_dhist(dhist)[-100:]\n"
     ]
    }
   ],
   "source": [
    "%cd ~/cma/CMA_Fairness_v2"
   ]
  },
  {
   "cell_type": "markdown",
   "id": "9d235661",
   "metadata": {
    "papermill": {
     "duration": 0.019519,
     "end_time": "2025-08-19T18:39:11.265035",
     "exception": false,
     "start_time": "2025-08-19T18:39:11.245516",
     "status": "completed"
    },
    "tags": []
   },
   "source": [
    "The following cell holds the definition of our parameters, these values can be overriden by rendering the with e.g. the following command:\n",
    "\n",
    "papermill -p alpha 0.2 -p ratio 0.3 universe_analysis.ipynb output/test_run.ipynb"
   ]
  },
  {
   "cell_type": "code",
   "execution_count": 2,
   "id": "4a789d8e",
   "metadata": {
    "execution": {
     "iopub.execute_input": "2025-08-19T18:39:11.304199Z",
     "iopub.status.busy": "2025-08-19T18:39:11.303798Z",
     "iopub.status.idle": "2025-08-19T18:39:11.308069Z",
     "shell.execute_reply": "2025-08-19T18:39:11.307432Z"
    },
    "papermill": {
     "duration": 0.037085,
     "end_time": "2025-08-19T18:39:11.310825",
     "exception": false,
     "start_time": "2025-08-19T18:39:11.273740",
     "status": "completed"
    },
    "tags": []
   },
   "outputs": [
    {
     "name": "stdout",
     "output_type": "stream",
     "text": [
      "Current working directory: /dss/dsshome1/0C/ra93lal2/cma/CMA_Fairness_v2\n"
     ]
    }
   ],
   "source": [
    "import os\n",
    "print(\"Current working directory:\", os.getcwd())"
   ]
  },
  {
   "cell_type": "code",
   "execution_count": 3,
   "id": "4132aaed",
   "metadata": {
    "execution": {
     "iopub.execute_input": "2025-08-19T18:39:11.334791Z",
     "iopub.status.busy": "2025-08-19T18:39:11.334449Z",
     "iopub.status.idle": "2025-08-19T18:39:11.338847Z",
     "shell.execute_reply": "2025-08-19T18:39:11.338270Z"
    },
    "papermill": {
     "duration": 0.019759,
     "end_time": "2025-08-19T18:39:11.339957",
     "exception": false,
     "start_time": "2025-08-19T18:39:11.320198",
     "status": "completed"
    },
    "tags": [
     "parameters"
    ]
   },
   "outputs": [],
   "source": [
    "run_no = 0\n",
    "universe_id = \"test\"\n",
    "universe = {\n",
    "    \"training_size\": \"5k\", # \"25k\", \"5k\", \"1k\"\n",
    "    \"training_year\": \"2012_14\", # \"2014\", \"2012_14\", \"2010_14\"\n",
    "    \"scale\": \"scale\", # \"scale\", \"do-not-scale\",\n",
    "    \"model\": \"elasticnet\", # \"logreg\", \"penalized_logreg\", \"rf\", \"gbm\", \"elasticnet\"\n",
    "    \"cutoff\": [\"quantile_0.15\", \"quantile_0.30\"],\n",
    "    \"exclude_features\": \"age\", # \"none\", \"nationality\", \"sex\", \"nationality-sex\", \"age\"\n",
    "    \"exclude_subgroups\": \"drop-non-german\", # \"keep-all\", \"drop-non-german\"\n",
    "    \"eval_fairness_grouping\": [\"majority-minority\", \"nationality-all\"]\n",
    "}\n",
    "\n",
    "output_dir=\"./output\"\n",
    "seed=0"
   ]
  },
  {
   "cell_type": "code",
   "execution_count": 4,
   "id": "74f3b29b",
   "metadata": {
    "execution": {
     "iopub.execute_input": "2025-08-19T18:39:11.368808Z",
     "iopub.status.busy": "2025-08-19T18:39:11.368438Z",
     "iopub.status.idle": "2025-08-19T18:39:11.372312Z",
     "shell.execute_reply": "2025-08-19T18:39:11.371740Z"
    },
    "papermill": {
     "duration": 0.023091,
     "end_time": "2025-08-19T18:39:11.373368",
     "exception": false,
     "start_time": "2025-08-19T18:39:11.350277",
     "status": "completed"
    },
    "tags": [
     "injected-parameters"
    ]
   },
   "outputs": [],
   "source": [
    "# Parameters\n",
    "universe_id = \"f52dc435e4458b2119cc4a3278ff7b74\"\n",
    "run_no = \"3\"\n",
    "universe = \"{\\\"cutoff\\\": [\\\"quantile_0.1\\\", \\\"quantile_0.25\\\"], \\\"eval_fairness_grouping\\\": [\\\"majority-minority\\\", \\\"nationality-all\\\"], \\\"exclude_features\\\": \\\"sex\\\", \\\"exclude_subgroups\\\": \\\"drop-non-german\\\", \\\"model\\\": \\\"elasticnet\\\", \\\"scale\\\": \\\"do-not-scale\\\", \\\"training_size\\\": \\\"5k\\\", \\\"training_year\\\": \\\"2012_14\\\"}\"\n",
    "output_dir = \"output\"\n",
    "seed = \"2023\"\n"
   ]
  },
  {
   "cell_type": "code",
   "execution_count": 5,
   "id": "a5d7941f",
   "metadata": {
    "execution": {
     "iopub.execute_input": "2025-08-19T18:39:11.392070Z",
     "iopub.status.busy": "2025-08-19T18:39:11.391733Z",
     "iopub.status.idle": "2025-08-19T18:39:11.395454Z",
     "shell.execute_reply": "2025-08-19T18:39:11.394893Z"
    },
    "papermill": {
     "duration": 0.027592,
     "end_time": "2025-08-19T18:39:11.409833",
     "exception": false,
     "start_time": "2025-08-19T18:39:11.382241",
     "status": "completed"
    },
    "tags": []
   },
   "outputs": [],
   "source": [
    "import json\n",
    "if isinstance(universe, str):\n",
    "    universe = json.loads(universe)"
   ]
  },
  {
   "cell_type": "code",
   "execution_count": 6,
   "id": "7076ccb1",
   "metadata": {
    "execution": {
     "iopub.execute_input": "2025-08-19T18:39:11.431459Z",
     "iopub.status.busy": "2025-08-19T18:39:11.431182Z",
     "iopub.status.idle": "2025-08-19T18:39:11.465148Z",
     "shell.execute_reply": "2025-08-19T18:39:11.464343Z"
    },
    "papermill": {
     "duration": 0.046584,
     "end_time": "2025-08-19T18:39:11.467184",
     "exception": false,
     "start_time": "2025-08-19T18:39:11.420600",
     "status": "completed"
    },
    "tags": []
   },
   "outputs": [],
   "source": [
    "# Auto-reload the custom package\n",
    "%load_ext autoreload\n",
    "%autoreload 1\n",
    "%aimport fairness_multiverse"
   ]
  },
  {
   "cell_type": "code",
   "execution_count": 7,
   "id": "94c8eb93",
   "metadata": {
    "execution": {
     "iopub.execute_input": "2025-08-19T18:39:11.504802Z",
     "iopub.status.busy": "2025-08-19T18:39:11.503765Z",
     "iopub.status.idle": "2025-08-19T18:39:13.962208Z",
     "shell.execute_reply": "2025-08-19T18:39:13.961386Z"
    },
    "papermill": {
     "duration": 2.477479,
     "end_time": "2025-08-19T18:39:13.963670",
     "exception": false,
     "start_time": "2025-08-19T18:39:11.486191",
     "status": "completed"
    },
    "tags": []
   },
   "outputs": [],
   "source": [
    "from fairness_multiverse.universe import UniverseAnalysis\n",
    "\n",
    "universe_analysis = UniverseAnalysis(\n",
    "    run_no = run_no,\n",
    "    universe_id = universe_id,\n",
    "    universe = universe,\n",
    "    output_dir=output_dir,\n",
    ")"
   ]
  },
  {
   "cell_type": "code",
   "execution_count": 8,
   "id": "2a6381cf",
   "metadata": {
    "execution": {
     "iopub.execute_input": "2025-08-19T18:39:13.993083Z",
     "iopub.status.busy": "2025-08-19T18:39:13.992714Z",
     "iopub.status.idle": "2025-08-19T18:39:13.997969Z",
     "shell.execute_reply": "2025-08-19T18:39:13.997246Z"
    },
    "papermill": {
     "duration": 0.025938,
     "end_time": "2025-08-19T18:39:13.998956",
     "exception": false,
     "start_time": "2025-08-19T18:39:13.973018",
     "status": "completed"
    },
    "tags": []
   },
   "outputs": [
    {
     "name": "stdout",
     "output_type": "stream",
     "text": [
      "Using Seed: 2023\n"
     ]
    }
   ],
   "source": [
    "import numpy as np\n",
    "parsed_seed = int(seed)\n",
    "np.random.seed(parsed_seed)\n",
    "print(f\"Using Seed: {parsed_seed}\")"
   ]
  },
  {
   "cell_type": "markdown",
   "id": "b6e958b4",
   "metadata": {
    "papermill": {
     "duration": 0.008803,
     "end_time": "2025-08-19T18:39:14.020155",
     "exception": false,
     "start_time": "2025-08-19T18:39:14.011352",
     "status": "completed"
    },
    "tags": []
   },
   "source": [
    "# Loading Data"
   ]
  },
  {
   "cell_type": "code",
   "execution_count": 9,
   "id": "98701482",
   "metadata": {
    "execution": {
     "iopub.execute_input": "2025-08-19T18:39:14.039565Z",
     "iopub.status.busy": "2025-08-19T18:39:14.038738Z",
     "iopub.status.idle": "2025-08-19T18:39:26.712237Z",
     "shell.execute_reply": "2025-08-19T18:39:26.711175Z"
    },
    "papermill": {
     "duration": 12.684525,
     "end_time": "2025-08-19T18:39:26.713496",
     "exception": false,
     "start_time": "2025-08-19T18:39:14.028971",
     "status": "completed"
    },
    "tags": []
   },
   "outputs": [
    {
     "name": "stdout",
     "output_type": "stream",
     "text": [
      "Loading SIAB data from cache: data/siab_cached.csv.gz\n"
     ]
    },
    {
     "name": "stdout",
     "output_type": "stream",
     "text": [
      "(643690, 164)\n"
     ]
    }
   ],
   "source": [
    "from pathlib import Path\n",
    "import pandas as pd\n",
    "\n",
    "# File paths\n",
    "raw_file = Path(\"data/raw/siab.csv\")\n",
    "cache_file = Path(\"data/siab_cached.csv.gz\")\n",
    "\n",
    "# Ensure cache directory exists\n",
    "cache_file.parent.mkdir(parents=True, exist_ok=True)\n",
    "\n",
    "# Load with simple caching\n",
    "if cache_file.exists():\n",
    "    print(f\"Loading SIAB data from cache: {cache_file}\")\n",
    "    siab = pd.read_csv(cache_file, compression='gzip')\n",
    "else:\n",
    "    print(f\"Cache not found. Reading raw SIAB data: {raw_file}\")\n",
    "    siab = pd.read_csv(raw_file)\n",
    "    siab.to_csv(cache_file, index=False, compression='gzip')\n",
    "    print(f\"Cached SIAB data to: {cache_file}\")\n",
    "\n",
    "print(siab.shape)"
   ]
  },
  {
   "cell_type": "code",
   "execution_count": 10,
   "id": "058d2abb",
   "metadata": {
    "execution": {
     "iopub.execute_input": "2025-08-19T18:39:26.754676Z",
     "iopub.status.busy": "2025-08-19T18:39:26.754217Z",
     "iopub.status.idle": "2025-08-19T18:39:26.946147Z",
     "shell.execute_reply": "2025-08-19T18:39:26.945255Z"
    },
    "papermill": {
     "duration": 0.208825,
     "end_time": "2025-08-19T18:39:26.947494",
     "exception": false,
     "start_time": "2025-08-19T18:39:26.738669",
     "status": "completed"
    },
    "tags": []
   },
   "outputs": [
    {
     "data": {
      "text/html": [
       "<div>\n",
       "<style scoped>\n",
       "    .dataframe tbody tr th:only-of-type {\n",
       "        vertical-align: middle;\n",
       "    }\n",
       "\n",
       "    .dataframe tbody tr th {\n",
       "        vertical-align: top;\n",
       "    }\n",
       "\n",
       "    .dataframe thead th {\n",
       "        text-align: right;\n",
       "    }\n",
       "</style>\n",
       "<table border=\"1\" class=\"dataframe\">\n",
       "  <thead>\n",
       "    <tr style=\"text-align: right;\">\n",
       "      <th></th>\n",
       "      <th>persnr</th>\n",
       "      <th>year</th>\n",
       "      <th>nrEntry</th>\n",
       "      <th>ltue</th>\n",
       "      <th>employed_before</th>\n",
       "      <th>receipt_leh_before</th>\n",
       "      <th>receipt_lhg_before</th>\n",
       "      <th>se_before</th>\n",
       "      <th>ASU_notue_seeking_before</th>\n",
       "      <th>ASU_other_before</th>\n",
       "      <th>...</th>\n",
       "      <th>minijob_tot_dur_byage</th>\n",
       "      <th>ft_tot_dur_byage</th>\n",
       "      <th>befrist_tot_dur_byage</th>\n",
       "      <th>leih_tot_dur_byage</th>\n",
       "      <th>LHG_tot_dur_byage</th>\n",
       "      <th>LEH_tot_dur_byage</th>\n",
       "      <th>almp_tot_dur_byage</th>\n",
       "      <th>almp_aw_tot_dur_byage</th>\n",
       "      <th>se_tot_dur_byage</th>\n",
       "      <th>seeking1_tot_dur_byage</th>\n",
       "    </tr>\n",
       "  </thead>\n",
       "  <tbody>\n",
       "    <tr>\n",
       "      <th>0</th>\n",
       "      <td>7</td>\n",
       "      <td>2015</td>\n",
       "      <td>1</td>\n",
       "      <td>0</td>\n",
       "      <td>1</td>\n",
       "      <td>0</td>\n",
       "      <td>0</td>\n",
       "      <td>0</td>\n",
       "      <td>1</td>\n",
       "      <td>0</td>\n",
       "      <td>...</td>\n",
       "      <td>0.000000</td>\n",
       "      <td>0.000000</td>\n",
       "      <td>15.043478</td>\n",
       "      <td>0.000000</td>\n",
       "      <td>0.000000</td>\n",
       "      <td>0.000000</td>\n",
       "      <td>0.000000</td>\n",
       "      <td>0.000000</td>\n",
       "      <td>0.000000</td>\n",
       "      <td>0.000000</td>\n",
       "    </tr>\n",
       "    <tr>\n",
       "      <th>1</th>\n",
       "      <td>18</td>\n",
       "      <td>2010</td>\n",
       "      <td>1</td>\n",
       "      <td>1</td>\n",
       "      <td>0</td>\n",
       "      <td>0</td>\n",
       "      <td>0</td>\n",
       "      <td>0</td>\n",
       "      <td>0</td>\n",
       "      <td>0</td>\n",
       "      <td>...</td>\n",
       "      <td>0.000000</td>\n",
       "      <td>0.000000</td>\n",
       "      <td>0.000000</td>\n",
       "      <td>0.000000</td>\n",
       "      <td>0.000000</td>\n",
       "      <td>0.000000</td>\n",
       "      <td>0.000000</td>\n",
       "      <td>0.000000</td>\n",
       "      <td>0.000000</td>\n",
       "      <td>0.000000</td>\n",
       "    </tr>\n",
       "    <tr>\n",
       "      <th>2</th>\n",
       "      <td>18</td>\n",
       "      <td>2011</td>\n",
       "      <td>2</td>\n",
       "      <td>0</td>\n",
       "      <td>1</td>\n",
       "      <td>0</td>\n",
       "      <td>1</td>\n",
       "      <td>0</td>\n",
       "      <td>1</td>\n",
       "      <td>0</td>\n",
       "      <td>...</td>\n",
       "      <td>2.714286</td>\n",
       "      <td>2.714286</td>\n",
       "      <td>0.000000</td>\n",
       "      <td>0.000000</td>\n",
       "      <td>10.775510</td>\n",
       "      <td>0.000000</td>\n",
       "      <td>8.367347</td>\n",
       "      <td>0.000000</td>\n",
       "      <td>0.000000</td>\n",
       "      <td>9.836735</td>\n",
       "    </tr>\n",
       "    <tr>\n",
       "      <th>3</th>\n",
       "      <td>18</td>\n",
       "      <td>2012</td>\n",
       "      <td>3</td>\n",
       "      <td>0</td>\n",
       "      <td>1</td>\n",
       "      <td>0</td>\n",
       "      <td>1</td>\n",
       "      <td>0</td>\n",
       "      <td>1</td>\n",
       "      <td>0</td>\n",
       "      <td>...</td>\n",
       "      <td>4.200000</td>\n",
       "      <td>4.200000</td>\n",
       "      <td>0.000000</td>\n",
       "      <td>0.000000</td>\n",
       "      <td>12.100000</td>\n",
       "      <td>0.000000</td>\n",
       "      <td>9.400000</td>\n",
       "      <td>0.000000</td>\n",
       "      <td>0.000000</td>\n",
       "      <td>9.960000</td>\n",
       "    </tr>\n",
       "    <tr>\n",
       "      <th>4</th>\n",
       "      <td>18</td>\n",
       "      <td>2012</td>\n",
       "      <td>4</td>\n",
       "      <td>0</td>\n",
       "      <td>1</td>\n",
       "      <td>0</td>\n",
       "      <td>1</td>\n",
       "      <td>0</td>\n",
       "      <td>1</td>\n",
       "      <td>0</td>\n",
       "      <td>...</td>\n",
       "      <td>5.460000</td>\n",
       "      <td>5.460000</td>\n",
       "      <td>0.000000</td>\n",
       "      <td>0.000000</td>\n",
       "      <td>13.360000</td>\n",
       "      <td>0.000000</td>\n",
       "      <td>10.320000</td>\n",
       "      <td>0.000000</td>\n",
       "      <td>0.000000</td>\n",
       "      <td>10.280000</td>\n",
       "    </tr>\n",
       "    <tr>\n",
       "      <th>...</th>\n",
       "      <td>...</td>\n",
       "      <td>...</td>\n",
       "      <td>...</td>\n",
       "      <td>...</td>\n",
       "      <td>...</td>\n",
       "      <td>...</td>\n",
       "      <td>...</td>\n",
       "      <td>...</td>\n",
       "      <td>...</td>\n",
       "      <td>...</td>\n",
       "      <td>...</td>\n",
       "      <td>...</td>\n",
       "      <td>...</td>\n",
       "      <td>...</td>\n",
       "      <td>...</td>\n",
       "      <td>...</td>\n",
       "      <td>...</td>\n",
       "      <td>...</td>\n",
       "      <td>...</td>\n",
       "      <td>...</td>\n",
       "      <td>...</td>\n",
       "    </tr>\n",
       "    <tr>\n",
       "      <th>643685</th>\n",
       "      <td>1827860</td>\n",
       "      <td>2013</td>\n",
       "      <td>1</td>\n",
       "      <td>0</td>\n",
       "      <td>0</td>\n",
       "      <td>0</td>\n",
       "      <td>1</td>\n",
       "      <td>0</td>\n",
       "      <td>0</td>\n",
       "      <td>1</td>\n",
       "      <td>...</td>\n",
       "      <td>0.000000</td>\n",
       "      <td>0.000000</td>\n",
       "      <td>0.000000</td>\n",
       "      <td>0.000000</td>\n",
       "      <td>0.612903</td>\n",
       "      <td>0.000000</td>\n",
       "      <td>0.000000</td>\n",
       "      <td>0.000000</td>\n",
       "      <td>0.000000</td>\n",
       "      <td>0.000000</td>\n",
       "    </tr>\n",
       "    <tr>\n",
       "      <th>643686</th>\n",
       "      <td>1827860</td>\n",
       "      <td>2015</td>\n",
       "      <td>2</td>\n",
       "      <td>1</td>\n",
       "      <td>0</td>\n",
       "      <td>0</td>\n",
       "      <td>1</td>\n",
       "      <td>0</td>\n",
       "      <td>1</td>\n",
       "      <td>0</td>\n",
       "      <td>...</td>\n",
       "      <td>0.000000</td>\n",
       "      <td>0.000000</td>\n",
       "      <td>0.212121</td>\n",
       "      <td>0.212121</td>\n",
       "      <td>17.363636</td>\n",
       "      <td>0.000000</td>\n",
       "      <td>8.909091</td>\n",
       "      <td>0.000000</td>\n",
       "      <td>0.000000</td>\n",
       "      <td>7.121212</td>\n",
       "    </tr>\n",
       "    <tr>\n",
       "      <th>643687</th>\n",
       "      <td>1827860</td>\n",
       "      <td>2016</td>\n",
       "      <td>3</td>\n",
       "      <td>1</td>\n",
       "      <td>0</td>\n",
       "      <td>0</td>\n",
       "      <td>1</td>\n",
       "      <td>1</td>\n",
       "      <td>0</td>\n",
       "      <td>1</td>\n",
       "      <td>...</td>\n",
       "      <td>0.000000</td>\n",
       "      <td>0.000000</td>\n",
       "      <td>0.294118</td>\n",
       "      <td>0.205882</td>\n",
       "      <td>34.705882</td>\n",
       "      <td>0.000000</td>\n",
       "      <td>10.352941</td>\n",
       "      <td>1.705882</td>\n",
       "      <td>1.705882</td>\n",
       "      <td>23.911765</td>\n",
       "    </tr>\n",
       "    <tr>\n",
       "      <th>643688</th>\n",
       "      <td>1827869</td>\n",
       "      <td>2013</td>\n",
       "      <td>1</td>\n",
       "      <td>1</td>\n",
       "      <td>1</td>\n",
       "      <td>0</td>\n",
       "      <td>0</td>\n",
       "      <td>0</td>\n",
       "      <td>1</td>\n",
       "      <td>0</td>\n",
       "      <td>...</td>\n",
       "      <td>0.000000</td>\n",
       "      <td>0.000000</td>\n",
       "      <td>0.000000</td>\n",
       "      <td>0.000000</td>\n",
       "      <td>0.000000</td>\n",
       "      <td>0.525424</td>\n",
       "      <td>0.000000</td>\n",
       "      <td>0.000000</td>\n",
       "      <td>0.000000</td>\n",
       "      <td>0.000000</td>\n",
       "    </tr>\n",
       "    <tr>\n",
       "      <th>643689</th>\n",
       "      <td>1827869</td>\n",
       "      <td>2014</td>\n",
       "      <td>2</td>\n",
       "      <td>0</td>\n",
       "      <td>0</td>\n",
       "      <td>1</td>\n",
       "      <td>0</td>\n",
       "      <td>0</td>\n",
       "      <td>1</td>\n",
       "      <td>0</td>\n",
       "      <td>...</td>\n",
       "      <td>0.000000</td>\n",
       "      <td>0.666667</td>\n",
       "      <td>0.666667</td>\n",
       "      <td>0.000000</td>\n",
       "      <td>0.000000</td>\n",
       "      <td>8.950000</td>\n",
       "      <td>1.033333</td>\n",
       "      <td>0.083333</td>\n",
       "      <td>0.083333</td>\n",
       "      <td>8.133333</td>\n",
       "    </tr>\n",
       "  </tbody>\n",
       "</table>\n",
       "<p>643690 rows × 164 columns</p>\n",
       "</div>"
      ],
      "text/plain": [
       "         persnr  year  nrEntry  ltue  employed_before  receipt_leh_before  \\\n",
       "0             7  2015        1     0                1                   0   \n",
       "1            18  2010        1     1                0                   0   \n",
       "2            18  2011        2     0                1                   0   \n",
       "3            18  2012        3     0                1                   0   \n",
       "4            18  2012        4     0                1                   0   \n",
       "...         ...   ...      ...   ...              ...                 ...   \n",
       "643685  1827860  2013        1     0                0                   0   \n",
       "643686  1827860  2015        2     1                0                   0   \n",
       "643687  1827860  2016        3     1                0                   0   \n",
       "643688  1827869  2013        1     1                1                   0   \n",
       "643689  1827869  2014        2     0                0                   1   \n",
       "\n",
       "        receipt_lhg_before  se_before  ASU_notue_seeking_before  \\\n",
       "0                        0          0                         1   \n",
       "1                        0          0                         0   \n",
       "2                        1          0                         1   \n",
       "3                        1          0                         1   \n",
       "4                        1          0                         1   \n",
       "...                    ...        ...                       ...   \n",
       "643685                   1          0                         0   \n",
       "643686                   1          0                         1   \n",
       "643687                   1          1                         0   \n",
       "643688                   0          0                         1   \n",
       "643689                   0          0                         1   \n",
       "\n",
       "        ASU_other_before  ...  minijob_tot_dur_byage  ft_tot_dur_byage  \\\n",
       "0                      0  ...               0.000000          0.000000   \n",
       "1                      0  ...               0.000000          0.000000   \n",
       "2                      0  ...               2.714286          2.714286   \n",
       "3                      0  ...               4.200000          4.200000   \n",
       "4                      0  ...               5.460000          5.460000   \n",
       "...                  ...  ...                    ...               ...   \n",
       "643685                 1  ...               0.000000          0.000000   \n",
       "643686                 0  ...               0.000000          0.000000   \n",
       "643687                 1  ...               0.000000          0.000000   \n",
       "643688                 0  ...               0.000000          0.000000   \n",
       "643689                 0  ...               0.000000          0.666667   \n",
       "\n",
       "        befrist_tot_dur_byage  leih_tot_dur_byage  LHG_tot_dur_byage  \\\n",
       "0                   15.043478            0.000000           0.000000   \n",
       "1                    0.000000            0.000000           0.000000   \n",
       "2                    0.000000            0.000000          10.775510   \n",
       "3                    0.000000            0.000000          12.100000   \n",
       "4                    0.000000            0.000000          13.360000   \n",
       "...                       ...                 ...                ...   \n",
       "643685               0.000000            0.000000           0.612903   \n",
       "643686               0.212121            0.212121          17.363636   \n",
       "643687               0.294118            0.205882          34.705882   \n",
       "643688               0.000000            0.000000           0.000000   \n",
       "643689               0.666667            0.000000           0.000000   \n",
       "\n",
       "        LEH_tot_dur_byage  almp_tot_dur_byage  almp_aw_tot_dur_byage  \\\n",
       "0                0.000000            0.000000               0.000000   \n",
       "1                0.000000            0.000000               0.000000   \n",
       "2                0.000000            8.367347               0.000000   \n",
       "3                0.000000            9.400000               0.000000   \n",
       "4                0.000000           10.320000               0.000000   \n",
       "...                   ...                 ...                    ...   \n",
       "643685           0.000000            0.000000               0.000000   \n",
       "643686           0.000000            8.909091               0.000000   \n",
       "643687           0.000000           10.352941               1.705882   \n",
       "643688           0.525424            0.000000               0.000000   \n",
       "643689           8.950000            1.033333               0.083333   \n",
       "\n",
       "        se_tot_dur_byage  seeking1_tot_dur_byage  \n",
       "0               0.000000                0.000000  \n",
       "1               0.000000                0.000000  \n",
       "2               0.000000                9.836735  \n",
       "3               0.000000                9.960000  \n",
       "4               0.000000               10.280000  \n",
       "...                  ...                     ...  \n",
       "643685          0.000000                0.000000  \n",
       "643686          0.000000                7.121212  \n",
       "643687          1.705882               23.911765  \n",
       "643688          0.000000                0.000000  \n",
       "643689          0.083333                8.133333  \n",
       "\n",
       "[643690 rows x 164 columns]"
      ]
     },
     "execution_count": 10,
     "metadata": {},
     "output_type": "execute_result"
    }
   ],
   "source": [
    "siab"
   ]
  },
  {
   "cell_type": "markdown",
   "id": "1f87e805",
   "metadata": {
    "papermill": {
     "duration": 0.019934,
     "end_time": "2025-08-19T18:39:26.989000",
     "exception": false,
     "start_time": "2025-08-19T18:39:26.969066",
     "status": "completed"
    },
    "tags": []
   },
   "source": [
    "# Splitting Data and Setting Training Data Size"
   ]
  },
  {
   "cell_type": "code",
   "execution_count": 11,
   "id": "910ae358",
   "metadata": {
    "execution": {
     "iopub.execute_input": "2025-08-19T18:39:27.030498Z",
     "iopub.status.busy": "2025-08-19T18:39:27.030184Z",
     "iopub.status.idle": "2025-08-19T18:39:27.758462Z",
     "shell.execute_reply": "2025-08-19T18:39:27.757405Z"
    },
    "papermill": {
     "duration": 0.751337,
     "end_time": "2025-08-19T18:39:27.760226",
     "exception": false,
     "start_time": "2025-08-19T18:39:27.008889",
     "status": "completed"
    },
    "tags": []
   },
   "outputs": [],
   "source": [
    "from fairness_multiverse.universe import sample_by_year_size\n",
    "\n",
    "siab_train = sample_by_year_size(siab,\n",
    "                               training_year=universe[\"training_year\"],\n",
    "                               training_size=universe[\"training_size\"])"
   ]
  },
  {
   "cell_type": "code",
   "execution_count": 12,
   "id": "919c8ff5",
   "metadata": {
    "execution": {
     "iopub.execute_input": "2025-08-19T18:39:27.803207Z",
     "iopub.status.busy": "2025-08-19T18:39:27.802708Z",
     "iopub.status.idle": "2025-08-19T18:39:27.810697Z",
     "shell.execute_reply": "2025-08-19T18:39:27.809880Z"
    },
    "papermill": {
     "duration": 0.035845,
     "end_time": "2025-08-19T18:39:27.811970",
     "exception": false,
     "start_time": "2025-08-19T18:39:27.776125",
     "status": "completed"
    },
    "tags": []
   },
   "outputs": [
    {
     "data": {
      "text/plain": [
       "(5000, 164)"
      ]
     },
     "execution_count": 12,
     "metadata": {},
     "output_type": "execute_result"
    }
   ],
   "source": [
    "siab_train.shape"
   ]
  },
  {
   "cell_type": "code",
   "execution_count": 13,
   "id": "feb13bf4",
   "metadata": {
    "execution": {
     "iopub.execute_input": "2025-08-19T18:39:27.855453Z",
     "iopub.status.busy": "2025-08-19T18:39:27.854599Z",
     "iopub.status.idle": "2025-08-19T18:39:27.864337Z",
     "shell.execute_reply": "2025-08-19T18:39:27.863527Z"
    },
    "papermill": {
     "duration": 0.032602,
     "end_time": "2025-08-19T18:39:27.865617",
     "exception": false,
     "start_time": "2025-08-19T18:39:27.833015",
     "status": "completed"
    },
    "tags": []
   },
   "outputs": [
    {
     "data": {
      "text/plain": [
       "year\n",
       "2012    1667\n",
       "2013    1667\n",
       "2014    1666\n",
       "dtype: int64"
      ]
     },
     "metadata": {},
     "output_type": "display_data"
    }
   ],
   "source": [
    "display(siab_train.groupby(\"year\").size())"
   ]
  },
  {
   "cell_type": "code",
   "execution_count": 14,
   "id": "0997782f",
   "metadata": {
    "execution": {
     "iopub.execute_input": "2025-08-19T18:39:27.938355Z",
     "iopub.status.busy": "2025-08-19T18:39:27.937937Z",
     "iopub.status.idle": "2025-08-19T18:39:28.308776Z",
     "shell.execute_reply": "2025-08-19T18:39:28.307997Z"
    },
    "papermill": {
     "duration": 0.4211,
     "end_time": "2025-08-19T18:39:28.310130",
     "exception": false,
     "start_time": "2025-08-19T18:39:27.889030",
     "status": "completed"
    },
    "tags": []
   },
   "outputs": [],
   "source": [
    "#siab_train = siab_s[siab_s.year < 2015]\n",
    "siab_calib = siab[siab.year == 2015]\n",
    "siab_test = siab[siab.year == 2016]"
   ]
  },
  {
   "cell_type": "code",
   "execution_count": 15,
   "id": "2c1e4012",
   "metadata": {
    "execution": {
     "iopub.execute_input": "2025-08-19T18:39:28.359847Z",
     "iopub.status.busy": "2025-08-19T18:39:28.359139Z",
     "iopub.status.idle": "2025-08-19T18:39:28.365372Z",
     "shell.execute_reply": "2025-08-19T18:39:28.364445Z"
    },
    "papermill": {
     "duration": 0.033695,
     "end_time": "2025-08-19T18:39:28.366627",
     "exception": false,
     "start_time": "2025-08-19T18:39:28.332932",
     "status": "completed"
    },
    "tags": []
   },
   "outputs": [],
   "source": [
    "#siab_calib.shape"
   ]
  },
  {
   "cell_type": "code",
   "execution_count": 16,
   "id": "f66b54ca",
   "metadata": {
    "execution": {
     "iopub.execute_input": "2025-08-19T18:39:28.439666Z",
     "iopub.status.busy": "2025-08-19T18:39:28.438546Z",
     "iopub.status.idle": "2025-08-19T18:39:28.444267Z",
     "shell.execute_reply": "2025-08-19T18:39:28.443193Z"
    },
    "papermill": {
     "duration": 0.049311,
     "end_time": "2025-08-19T18:39:28.445868",
     "exception": false,
     "start_time": "2025-08-19T18:39:28.396557",
     "status": "completed"
    },
    "tags": []
   },
   "outputs": [],
   "source": [
    "#siab_test.shape"
   ]
  },
  {
   "cell_type": "code",
   "execution_count": 17,
   "id": "27e4384d",
   "metadata": {
    "execution": {
     "iopub.execute_input": "2025-08-19T18:39:28.489742Z",
     "iopub.status.busy": "2025-08-19T18:39:28.489087Z",
     "iopub.status.idle": "2025-08-19T18:39:28.502497Z",
     "shell.execute_reply": "2025-08-19T18:39:28.501684Z"
    },
    "papermill": {
     "duration": 0.03123,
     "end_time": "2025-08-19T18:39:28.503947",
     "exception": false,
     "start_time": "2025-08-19T18:39:28.472717",
     "status": "completed"
    },
    "tags": []
   },
   "outputs": [],
   "source": [
    "X_train = siab_train.iloc[:,4:164]\n",
    "y_train = siab_train.iloc[:, [3]]"
   ]
  },
  {
   "cell_type": "code",
   "execution_count": 18,
   "id": "08ee8389",
   "metadata": {
    "execution": {
     "iopub.execute_input": "2025-08-19T18:39:28.534256Z",
     "iopub.status.busy": "2025-08-19T18:39:28.532988Z",
     "iopub.status.idle": "2025-08-19T18:39:28.632518Z",
     "shell.execute_reply": "2025-08-19T18:39:28.631726Z"
    },
    "papermill": {
     "duration": 0.113711,
     "end_time": "2025-08-19T18:39:28.633971",
     "exception": false,
     "start_time": "2025-08-19T18:39:28.520260",
     "status": "completed"
    },
    "tags": []
   },
   "outputs": [],
   "source": [
    "X_calib = siab_calib.iloc[:,4:164]\n",
    "y_calib = siab_calib.iloc[:, [3]]"
   ]
  },
  {
   "cell_type": "code",
   "execution_count": 19,
   "id": "b7ff42e0",
   "metadata": {
    "execution": {
     "iopub.execute_input": "2025-08-19T18:39:28.668200Z",
     "iopub.status.busy": "2025-08-19T18:39:28.667840Z",
     "iopub.status.idle": "2025-08-19T18:39:28.727578Z",
     "shell.execute_reply": "2025-08-19T18:39:28.726451Z"
    },
    "papermill": {
     "duration": 0.071871,
     "end_time": "2025-08-19T18:39:28.728811",
     "exception": false,
     "start_time": "2025-08-19T18:39:28.656940",
     "status": "completed"
    },
    "tags": []
   },
   "outputs": [],
   "source": [
    "X_test = siab_test.iloc[:,4:164]\n",
    "y_true = siab_test.iloc[:, [3]]"
   ]
  },
  {
   "cell_type": "code",
   "execution_count": 20,
   "id": "0275101e",
   "metadata": {
    "execution": {
     "iopub.execute_input": "2025-08-19T18:39:28.755521Z",
     "iopub.status.busy": "2025-08-19T18:39:28.754781Z",
     "iopub.status.idle": "2025-08-19T18:39:28.865659Z",
     "shell.execute_reply": "2025-08-19T18:39:28.864909Z"
    },
    "papermill": {
     "duration": 0.123627,
     "end_time": "2025-08-19T18:39:28.867195",
     "exception": false,
     "start_time": "2025-08-19T18:39:28.743568",
     "status": "completed"
    },
    "tags": []
   },
   "outputs": [],
   "source": [
    "# Auxiliary data needed downstream in the pipeline\n",
    "\n",
    "org_train = X_train.copy()\n",
    "org_test = X_test.copy()\n",
    "org_calib = X_calib.copy()"
   ]
  },
  {
   "cell_type": "markdown",
   "id": "b461e618",
   "metadata": {
    "papermill": {
     "duration": 0.010758,
     "end_time": "2025-08-19T18:39:28.889149",
     "exception": false,
     "start_time": "2025-08-19T18:39:28.878391",
     "status": "completed"
    },
    "tags": []
   },
   "source": [
    "# Preprocessing Data"
   ]
  },
  {
   "cell_type": "code",
   "execution_count": 21,
   "id": "78e74c4b",
   "metadata": {
    "execution": {
     "iopub.execute_input": "2025-08-19T18:39:28.917110Z",
     "iopub.status.busy": "2025-08-19T18:39:28.916734Z",
     "iopub.status.idle": "2025-08-19T18:39:28.921166Z",
     "shell.execute_reply": "2025-08-19T18:39:28.920514Z"
    },
    "papermill": {
     "duration": 0.018087,
     "end_time": "2025-08-19T18:39:28.922871",
     "exception": false,
     "start_time": "2025-08-19T18:39:28.904784",
     "status": "completed"
    },
    "tags": []
   },
   "outputs": [],
   "source": [
    "# EXCLUDE PROTECTED FEATURES\n",
    "# --------------------------\n",
    "\n",
    "excluded_features = universe[\"exclude_features\"].split(\"-\")\n",
    "excluded_features_dictionary = {\n",
    "    \"nationality\": [\"maxdeutsch1\", \"maxdeutsch.Missing.\"],\n",
    "    \"sex\": [\"frau1\"],\n",
    "    \"age\": [\"age\"],\n",
    "}"
   ]
  },
  {
   "cell_type": "code",
   "execution_count": 22,
   "id": "f8e63555",
   "metadata": {
    "execution": {
     "iopub.execute_input": "2025-08-19T18:39:28.961114Z",
     "iopub.status.busy": "2025-08-19T18:39:28.960693Z",
     "iopub.status.idle": "2025-08-19T18:39:28.969744Z",
     "shell.execute_reply": "2025-08-19T18:39:28.969014Z"
    },
    "papermill": {
     "duration": 0.022349,
     "end_time": "2025-08-19T18:39:28.971319",
     "exception": false,
     "start_time": "2025-08-19T18:39:28.948970",
     "status": "completed"
    },
    "tags": []
   },
   "outputs": [],
   "source": [
    "excluded_features_columns = [\n",
    "    excluded_features_dictionary[f] for f in excluded_features if len(f) > 0 and f != \"none\"\n",
    "]"
   ]
  },
  {
   "cell_type": "code",
   "execution_count": 23,
   "id": "da781f7c",
   "metadata": {
    "execution": {
     "iopub.execute_input": "2025-08-19T18:39:28.994067Z",
     "iopub.status.busy": "2025-08-19T18:39:28.993651Z",
     "iopub.status.idle": "2025-08-19T18:39:28.998203Z",
     "shell.execute_reply": "2025-08-19T18:39:28.997528Z"
    },
    "papermill": {
     "duration": 0.017605,
     "end_time": "2025-08-19T18:39:28.999611",
     "exception": false,
     "start_time": "2025-08-19T18:39:28.982006",
     "status": "completed"
    },
    "tags": []
   },
   "outputs": [],
   "source": [
    "from fairness_multiverse.universe import flatten_once\n",
    "\n",
    "excluded_features_columns = flatten_once(excluded_features_columns)"
   ]
  },
  {
   "cell_type": "code",
   "execution_count": 24,
   "id": "37fef0f0",
   "metadata": {
    "execution": {
     "iopub.execute_input": "2025-08-19T18:39:29.022010Z",
     "iopub.status.busy": "2025-08-19T18:39:29.021593Z",
     "iopub.status.idle": "2025-08-19T18:39:29.070096Z",
     "shell.execute_reply": "2025-08-19T18:39:29.069379Z"
    },
    "papermill": {
     "duration": 0.061017,
     "end_time": "2025-08-19T18:39:29.071370",
     "exception": false,
     "start_time": "2025-08-19T18:39:29.010353",
     "status": "completed"
    },
    "tags": []
   },
   "outputs": [
    {
     "name": "stdout",
     "output_type": "stream",
     "text": [
      "Dropping features: ['frau1']\n"
     ]
    }
   ],
   "source": [
    "if len(excluded_features_columns) > 0:\n",
    "    print(f\"Dropping features: {excluded_features_columns}\")\n",
    "    X_train.drop(excluded_features_columns, axis=1, inplace=True)"
   ]
  },
  {
   "cell_type": "code",
   "execution_count": 25,
   "id": "d029e3e9",
   "metadata": {
    "execution": {
     "iopub.execute_input": "2025-08-19T18:39:29.093639Z",
     "iopub.status.busy": "2025-08-19T18:39:29.093269Z",
     "iopub.status.idle": "2025-08-19T18:39:29.189465Z",
     "shell.execute_reply": "2025-08-19T18:39:29.188507Z"
    },
    "papermill": {
     "duration": 0.108819,
     "end_time": "2025-08-19T18:39:29.190898",
     "exception": false,
     "start_time": "2025-08-19T18:39:29.082079",
     "status": "completed"
    },
    "tags": []
   },
   "outputs": [
    {
     "name": "stdout",
     "output_type": "stream",
     "text": [
      "Dropping features: ['frau1']\n"
     ]
    }
   ],
   "source": [
    "if len(excluded_features_columns) > 0:\n",
    "    print(f\"Dropping features: {excluded_features_columns}\")\n",
    "    X_test.drop(excluded_features_columns, axis=1, inplace=True)"
   ]
  },
  {
   "cell_type": "code",
   "execution_count": 26,
   "id": "01d571f0",
   "metadata": {
    "execution": {
     "iopub.execute_input": "2025-08-19T18:39:29.216101Z",
     "iopub.status.busy": "2025-08-19T18:39:29.215790Z",
     "iopub.status.idle": "2025-08-19T18:39:29.311700Z",
     "shell.execute_reply": "2025-08-19T18:39:29.308905Z"
    },
    "papermill": {
     "duration": 0.108888,
     "end_time": "2025-08-19T18:39:29.313251",
     "exception": false,
     "start_time": "2025-08-19T18:39:29.204363",
     "status": "completed"
    },
    "tags": []
   },
   "outputs": [
    {
     "name": "stdout",
     "output_type": "stream",
     "text": [
      "Dropping features: ['frau1']\n"
     ]
    }
   ],
   "source": [
    "if len(excluded_features_columns) > 0:\n",
    "    print(f\"Dropping features: {excluded_features_columns}\")\n",
    "    X_calib.drop(excluded_features_columns, axis=1, inplace=True)"
   ]
  },
  {
   "cell_type": "code",
   "execution_count": 27,
   "id": "3037356e",
   "metadata": {
    "execution": {
     "iopub.execute_input": "2025-08-19T18:39:29.363183Z",
     "iopub.status.busy": "2025-08-19T18:39:29.362182Z",
     "iopub.status.idle": "2025-08-19T18:39:29.374278Z",
     "shell.execute_reply": "2025-08-19T18:39:29.373653Z"
    },
    "papermill": {
     "duration": 0.040019,
     "end_time": "2025-08-19T18:39:29.375344",
     "exception": false,
     "start_time": "2025-08-19T18:39:29.335325",
     "status": "completed"
    },
    "tags": []
   },
   "outputs": [],
   "source": [
    "# EXCLUDE CERTAIN SUBGROUPS\n",
    "# -------------------------\n",
    "\n",
    "mode = universe.get(\"exclude_subgroups\", \"keep-all\") # Defaults to \"keep-all\" if the key is missing."
   ]
  },
  {
   "cell_type": "code",
   "execution_count": 28,
   "id": "9d1e63fd",
   "metadata": {
    "execution": {
     "iopub.execute_input": "2025-08-19T18:39:29.430808Z",
     "iopub.status.busy": "2025-08-19T18:39:29.430401Z",
     "iopub.status.idle": "2025-08-19T18:39:29.440989Z",
     "shell.execute_reply": "2025-08-19T18:39:29.440306Z"
    },
    "papermill": {
     "duration": 0.048145,
     "end_time": "2025-08-19T18:39:29.442192",
     "exception": false,
     "start_time": "2025-08-19T18:39:29.394047",
     "status": "completed"
    },
    "tags": []
   },
   "outputs": [],
   "source": [
    "if mode == \"keep-all\":\n",
    "    keep_mask = pd.Series(True, index=org_train.index)\n",
    "\n",
    "elif mode == \"drop-non-german\":\n",
    "    keep_mask = (org_train[\"maxdeutsch1\"] == 1) & (org_train[\"maxdeutsch.Missing.\"] == 0)\n",
    "\n",
    "else:\n",
    "    raise ValueError(f\"Unsupported mode for exclude_subgroups: {mode}\")"
   ]
  },
  {
   "cell_type": "code",
   "execution_count": 29,
   "id": "d3b65474",
   "metadata": {
    "execution": {
     "iopub.execute_input": "2025-08-19T18:39:29.469141Z",
     "iopub.status.busy": "2025-08-19T18:39:29.468489Z",
     "iopub.status.idle": "2025-08-19T18:39:29.474517Z",
     "shell.execute_reply": "2025-08-19T18:39:29.473841Z"
    },
    "papermill": {
     "duration": 0.022012,
     "end_time": "2025-08-19T18:39:29.478474",
     "exception": false,
     "start_time": "2025-08-19T18:39:29.456462",
     "status": "completed"
    },
    "tags": []
   },
   "outputs": [
    {
     "name": "stdout",
     "output_type": "stream",
     "text": [
      "Dropping 665 rows (13.30%) where mode='drop-non-german'\n"
     ]
    }
   ],
   "source": [
    "n_drop = (~keep_mask).sum() # Calculates how many rows are set to be dropped\n",
    "if n_drop > 0:\n",
    "    pct = n_drop / len(keep_mask) * 100\n",
    "    print(f\"Dropping {n_drop} rows ({pct:.2f}%) where mode='{mode}'\")"
   ]
  },
  {
   "cell_type": "code",
   "execution_count": 30,
   "id": "f44389b3",
   "metadata": {
    "execution": {
     "iopub.execute_input": "2025-08-19T18:39:29.529004Z",
     "iopub.status.busy": "2025-08-19T18:39:29.528447Z",
     "iopub.status.idle": "2025-08-19T18:39:29.550215Z",
     "shell.execute_reply": "2025-08-19T18:39:29.549535Z"
    },
    "papermill": {
     "duration": 0.03759,
     "end_time": "2025-08-19T18:39:29.551455",
     "exception": false,
     "start_time": "2025-08-19T18:39:29.513865",
     "status": "completed"
    },
    "tags": []
   },
   "outputs": [],
   "source": [
    "X_train = X_train[keep_mask]"
   ]
  },
  {
   "cell_type": "code",
   "execution_count": 31,
   "id": "ceca8c2a",
   "metadata": {
    "execution": {
     "iopub.execute_input": "2025-08-19T18:39:29.615604Z",
     "iopub.status.busy": "2025-08-19T18:39:29.615204Z",
     "iopub.status.idle": "2025-08-19T18:39:29.620049Z",
     "shell.execute_reply": "2025-08-19T18:39:29.619363Z"
    },
    "papermill": {
     "duration": 0.050554,
     "end_time": "2025-08-19T18:39:29.621176",
     "exception": false,
     "start_time": "2025-08-19T18:39:29.570622",
     "status": "completed"
    },
    "tags": []
   },
   "outputs": [],
   "source": [
    "y_train = y_train[keep_mask]"
   ]
  },
  {
   "cell_type": "markdown",
   "id": "04d31e2f",
   "metadata": {
    "papermill": {
     "duration": 0.010805,
     "end_time": "2025-08-19T18:39:29.642845",
     "exception": false,
     "start_time": "2025-08-19T18:39:29.632040",
     "status": "completed"
    },
    "tags": []
   },
   "source": [
    "# Model Training"
   ]
  },
  {
   "cell_type": "code",
   "execution_count": 32,
   "id": "db991733",
   "metadata": {
    "execution": {
     "iopub.execute_input": "2025-08-19T18:39:29.665915Z",
     "iopub.status.busy": "2025-08-19T18:39:29.665501Z",
     "iopub.status.idle": "2025-08-19T18:39:29.840893Z",
     "shell.execute_reply": "2025-08-19T18:39:29.840162Z"
    },
    "papermill": {
     "duration": 0.193338,
     "end_time": "2025-08-19T18:39:29.847047",
     "exception": false,
     "start_time": "2025-08-19T18:39:29.653709",
     "status": "completed"
    },
    "tags": []
   },
   "outputs": [],
   "source": [
    "from sklearn.linear_model import LogisticRegression\n",
    "from sklearn.ensemble import GradientBoostingClassifier, RandomForestClassifier\n",
    "\n",
    "if (universe[\"model\"] == \"logreg\"):\n",
    "    model = LogisticRegression() #penalty=\"none\", solver=\"newton-cg\", max_iter=1)\n",
    "elif (universe[\"model\"] == \"penalized_logreg\"):\n",
    "    model = LogisticRegression(penalty=\"l2\", C=0.1) #, solver=\"newton-cg\", max_iter=1)\n",
    "elif (universe[\"model\"] == \"rf\"):\n",
    "    model = RandomForestClassifier() # n_estimators=100, n_jobs=-1\n",
    "elif (universe[\"model\"] == \"gbm\"):\n",
    "    model = GradientBoostingClassifier()\n",
    "elif (universe[\"model\"] == \"elasticnet\"):\n",
    "    model = LogisticRegression(penalty = 'elasticnet', solver = 'saga', l1_ratio = 0.5) # max_iter=5000\n",
    "else:\n",
    "    raise \"Unsupported universe.model\""
   ]
  },
  {
   "cell_type": "code",
   "execution_count": 33,
   "id": "a4b5cd25",
   "metadata": {
    "execution": {
     "iopub.execute_input": "2025-08-19T18:39:29.875298Z",
     "iopub.status.busy": "2025-08-19T18:39:29.874898Z",
     "iopub.status.idle": "2025-08-19T18:39:29.879515Z",
     "shell.execute_reply": "2025-08-19T18:39:29.878916Z"
    },
    "papermill": {
     "duration": 0.021963,
     "end_time": "2025-08-19T18:39:29.880500",
     "exception": false,
     "start_time": "2025-08-19T18:39:29.858537",
     "status": "completed"
    },
    "tags": []
   },
   "outputs": [],
   "source": [
    "from sklearn.pipeline import Pipeline\n",
    "from sklearn.preprocessing import StandardScaler\n",
    "\n",
    "model = Pipeline([\n",
    "    #(\"continuous_processor\", continuous_processor),\n",
    "    #(\"categorical_preprocessor\", categorical_preprocessor),\n",
    "    (\"scale\", StandardScaler() if universe[\"scale\"] == \"scale\" else None), \n",
    "    (\"model\", model),\n",
    "])"
   ]
  },
  {
   "cell_type": "code",
   "execution_count": 34,
   "id": "283a904d",
   "metadata": {
    "execution": {
     "iopub.execute_input": "2025-08-19T18:39:29.903930Z",
     "iopub.status.busy": "2025-08-19T18:39:29.903230Z",
     "iopub.status.idle": "2025-08-19T18:39:31.302353Z",
     "shell.execute_reply": "2025-08-19T18:39:31.301530Z"
    },
    "papermill": {
     "duration": 1.415766,
     "end_time": "2025-08-19T18:39:31.307030",
     "exception": false,
     "start_time": "2025-08-19T18:39:29.891264",
     "status": "completed"
    },
    "tags": []
   },
   "outputs": [
    {
     "name": "stderr",
     "output_type": "stream",
     "text": [
      "/dss/dsshome1/0C/ra93lal2/.local/share/virtualenvs/CMA_Fairness_v2-3j10GkSs/lib/python3.10/site-packages/sklearn/linear_model/_sag.py:350: ConvergenceWarning: The max_iter was reached which means the coef_ did not converge\n",
      "  warnings.warn(\n"
     ]
    },
    {
     "data": {
      "text/html": [
       "<style>#sk-container-id-1 {color: black;background-color: white;}#sk-container-id-1 pre{padding: 0;}#sk-container-id-1 div.sk-toggleable {background-color: white;}#sk-container-id-1 label.sk-toggleable__label {cursor: pointer;display: block;width: 100%;margin-bottom: 0;padding: 0.3em;box-sizing: border-box;text-align: center;}#sk-container-id-1 label.sk-toggleable__label-arrow:before {content: \"▸\";float: left;margin-right: 0.25em;color: #696969;}#sk-container-id-1 label.sk-toggleable__label-arrow:hover:before {color: black;}#sk-container-id-1 div.sk-estimator:hover label.sk-toggleable__label-arrow:before {color: black;}#sk-container-id-1 div.sk-toggleable__content {max-height: 0;max-width: 0;overflow: hidden;text-align: left;background-color: #f0f8ff;}#sk-container-id-1 div.sk-toggleable__content pre {margin: 0.2em;color: black;border-radius: 0.25em;background-color: #f0f8ff;}#sk-container-id-1 input.sk-toggleable__control:checked~div.sk-toggleable__content {max-height: 200px;max-width: 100%;overflow: auto;}#sk-container-id-1 input.sk-toggleable__control:checked~label.sk-toggleable__label-arrow:before {content: \"▾\";}#sk-container-id-1 div.sk-estimator input.sk-toggleable__control:checked~label.sk-toggleable__label {background-color: #d4ebff;}#sk-container-id-1 div.sk-label input.sk-toggleable__control:checked~label.sk-toggleable__label {background-color: #d4ebff;}#sk-container-id-1 input.sk-hidden--visually {border: 0;clip: rect(1px 1px 1px 1px);clip: rect(1px, 1px, 1px, 1px);height: 1px;margin: -1px;overflow: hidden;padding: 0;position: absolute;width: 1px;}#sk-container-id-1 div.sk-estimator {font-family: monospace;background-color: #f0f8ff;border: 1px dotted black;border-radius: 0.25em;box-sizing: border-box;margin-bottom: 0.5em;}#sk-container-id-1 div.sk-estimator:hover {background-color: #d4ebff;}#sk-container-id-1 div.sk-parallel-item::after {content: \"\";width: 100%;border-bottom: 1px solid gray;flex-grow: 1;}#sk-container-id-1 div.sk-label:hover label.sk-toggleable__label {background-color: #d4ebff;}#sk-container-id-1 div.sk-serial::before {content: \"\";position: absolute;border-left: 1px solid gray;box-sizing: border-box;top: 0;bottom: 0;left: 50%;z-index: 0;}#sk-container-id-1 div.sk-serial {display: flex;flex-direction: column;align-items: center;background-color: white;padding-right: 0.2em;padding-left: 0.2em;position: relative;}#sk-container-id-1 div.sk-item {position: relative;z-index: 1;}#sk-container-id-1 div.sk-parallel {display: flex;align-items: stretch;justify-content: center;background-color: white;position: relative;}#sk-container-id-1 div.sk-item::before, #sk-container-id-1 div.sk-parallel-item::before {content: \"\";position: absolute;border-left: 1px solid gray;box-sizing: border-box;top: 0;bottom: 0;left: 50%;z-index: -1;}#sk-container-id-1 div.sk-parallel-item {display: flex;flex-direction: column;z-index: 1;position: relative;background-color: white;}#sk-container-id-1 div.sk-parallel-item:first-child::after {align-self: flex-end;width: 50%;}#sk-container-id-1 div.sk-parallel-item:last-child::after {align-self: flex-start;width: 50%;}#sk-container-id-1 div.sk-parallel-item:only-child::after {width: 0;}#sk-container-id-1 div.sk-dashed-wrapped {border: 1px dashed gray;margin: 0 0.4em 0.5em 0.4em;box-sizing: border-box;padding-bottom: 0.4em;background-color: white;}#sk-container-id-1 div.sk-label label {font-family: monospace;font-weight: bold;display: inline-block;line-height: 1.2em;}#sk-container-id-1 div.sk-label-container {text-align: center;}#sk-container-id-1 div.sk-container {/* jupyter's `normalize.less` sets `[hidden] { display: none; }` but bootstrap.min.css set `[hidden] { display: none !important; }` so we also need the `!important` here to be able to override the default hidden behavior on the sphinx rendered scikit-learn.org. See: https://github.com/scikit-learn/scikit-learn/issues/21755 */display: inline-block !important;position: relative;}#sk-container-id-1 div.sk-text-repr-fallback {display: none;}</style><div id=\"sk-container-id-1\" class=\"sk-top-container\"><div class=\"sk-text-repr-fallback\"><pre>Pipeline(steps=[(&#x27;scale&#x27;, None),\n",
       "                (&#x27;model&#x27;,\n",
       "                 LogisticRegression(l1_ratio=0.5, penalty=&#x27;elasticnet&#x27;,\n",
       "                                    solver=&#x27;saga&#x27;))])</pre><b>In a Jupyter environment, please rerun this cell to show the HTML representation or trust the notebook. <br />On GitHub, the HTML representation is unable to render, please try loading this page with nbviewer.org.</b></div><div class=\"sk-container\" hidden><div class=\"sk-item sk-dashed-wrapped\"><div class=\"sk-label-container\"><div class=\"sk-label sk-toggleable\"><input class=\"sk-toggleable__control sk-hidden--visually\" id=\"sk-estimator-id-1\" type=\"checkbox\" ><label for=\"sk-estimator-id-1\" class=\"sk-toggleable__label sk-toggleable__label-arrow\">Pipeline</label><div class=\"sk-toggleable__content\"><pre>Pipeline(steps=[(&#x27;scale&#x27;, None),\n",
       "                (&#x27;model&#x27;,\n",
       "                 LogisticRegression(l1_ratio=0.5, penalty=&#x27;elasticnet&#x27;,\n",
       "                                    solver=&#x27;saga&#x27;))])</pre></div></div></div><div class=\"sk-serial\"><div class=\"sk-item\"><div class=\"sk-estimator sk-toggleable\"><input class=\"sk-toggleable__control sk-hidden--visually\" id=\"sk-estimator-id-2\" type=\"checkbox\" ><label for=\"sk-estimator-id-2\" class=\"sk-toggleable__label sk-toggleable__label-arrow\">None</label><div class=\"sk-toggleable__content\"><pre>None</pre></div></div></div><div class=\"sk-item\"><div class=\"sk-estimator sk-toggleable\"><input class=\"sk-toggleable__control sk-hidden--visually\" id=\"sk-estimator-id-3\" type=\"checkbox\" ><label for=\"sk-estimator-id-3\" class=\"sk-toggleable__label sk-toggleable__label-arrow\">LogisticRegression</label><div class=\"sk-toggleable__content\"><pre>LogisticRegression(l1_ratio=0.5, penalty=&#x27;elasticnet&#x27;, solver=&#x27;saga&#x27;)</pre></div></div></div></div></div></div></div>"
      ],
      "text/plain": [
       "Pipeline(steps=[('scale', None),\n",
       "                ('model',\n",
       "                 LogisticRegression(l1_ratio=0.5, penalty='elasticnet',\n",
       "                                    solver='saga'))])"
      ]
     },
     "execution_count": 34,
     "metadata": {},
     "output_type": "execute_result"
    }
   ],
   "source": [
    "model.fit(X_train, y_train.values.ravel())"
   ]
  },
  {
   "cell_type": "code",
   "execution_count": 35,
   "id": "6e15e313",
   "metadata": {
    "execution": {
     "iopub.execute_input": "2025-08-19T18:39:31.332054Z",
     "iopub.status.busy": "2025-08-19T18:39:31.331322Z",
     "iopub.status.idle": "2025-08-19T18:39:31.520586Z",
     "shell.execute_reply": "2025-08-19T18:39:31.519676Z"
    },
    "papermill": {
     "duration": 0.211079,
     "end_time": "2025-08-19T18:39:31.529498",
     "exception": false,
     "start_time": "2025-08-19T18:39:31.318419",
     "status": "completed"
    },
    "tags": []
   },
   "outputs": [
    {
     "data": {
      "text/plain": [
       "0.8669713521346561"
      ]
     },
     "execution_count": 35,
     "metadata": {},
     "output_type": "execute_result"
    }
   ],
   "source": [
    "from fairness_multiverse.universe import predict_w_threshold\n",
    "\n",
    "probs_test = model.predict_proba(X_test)\n",
    "\n",
    "'''\n",
    "Below code returns a boolean array (or binary 0/1 array depending on how it’s used) where each element \n",
    "is True if the probability of class 1 is greater than or equal to the threshold, and False otherwise.\n",
    "'''\n",
    "y_pred_default = predict_w_threshold(probs_test, 0.5)\n",
    "\n",
    "from sklearn.metrics import accuracy_score\n",
    "\n",
    "# Naive prediction\n",
    "accuracy_score(y_true = y_true, y_pred = y_pred_default)"
   ]
  },
  {
   "cell_type": "code",
   "execution_count": 36,
   "id": "6f14067c",
   "metadata": {
    "execution": {
     "iopub.execute_input": "2025-08-19T18:39:31.603000Z",
     "iopub.status.busy": "2025-08-19T18:39:31.602632Z",
     "iopub.status.idle": "2025-08-19T18:39:31.731516Z",
     "shell.execute_reply": "2025-08-19T18:39:31.730786Z"
    },
    "papermill": {
     "duration": 0.172111,
     "end_time": "2025-08-19T18:39:31.732882",
     "exception": false,
     "start_time": "2025-08-19T18:39:31.560771",
     "status": "completed"
    },
    "tags": []
   },
   "outputs": [
    {
     "data": {
      "text/plain": [
       "array([0, 0, 0, ..., 0, 0, 0])"
      ]
     },
     "execution_count": 36,
     "metadata": {},
     "output_type": "execute_result"
    }
   ],
   "source": [
    "model.predict(X_test)"
   ]
  },
  {
   "cell_type": "markdown",
   "id": "3759920c",
   "metadata": {
    "papermill": {
     "duration": 0.047621,
     "end_time": "2025-08-19T18:39:31.820834",
     "exception": false,
     "start_time": "2025-08-19T18:39:31.773213",
     "status": "completed"
    },
    "tags": []
   },
   "source": [
    "# Conformal Prediction"
   ]
  },
  {
   "cell_type": "code",
   "execution_count": 37,
   "id": "14b27f59",
   "metadata": {
    "execution": {
     "iopub.execute_input": "2025-08-19T18:39:31.890851Z",
     "iopub.status.busy": "2025-08-19T18:39:31.890405Z",
     "iopub.status.idle": "2025-08-19T18:39:31.894419Z",
     "shell.execute_reply": "2025-08-19T18:39:31.893822Z"
    },
    "papermill": {
     "duration": 0.041236,
     "end_time": "2025-08-19T18:39:31.895698",
     "exception": false,
     "start_time": "2025-08-19T18:39:31.854462",
     "status": "completed"
    },
    "tags": []
   },
   "outputs": [],
   "source": [
    "# Miscoverage level for conformal prediction (10% allowed error rate => 90% target coverage)\n",
    "alpha = 0.1"
   ]
  },
  {
   "cell_type": "code",
   "execution_count": 38,
   "id": "59102472",
   "metadata": {
    "execution": {
     "iopub.execute_input": "2025-08-19T18:39:31.971739Z",
     "iopub.status.busy": "2025-08-19T18:39:31.971306Z",
     "iopub.status.idle": "2025-08-19T18:39:32.145554Z",
     "shell.execute_reply": "2025-08-19T18:39:32.144801Z"
    },
    "papermill": {
     "duration": 0.210365,
     "end_time": "2025-08-19T18:39:32.147077",
     "exception": false,
     "start_time": "2025-08-19T18:39:31.936712",
     "status": "completed"
    },
    "tags": []
   },
   "outputs": [],
   "source": [
    "probs_calib = model.predict_proba(X_calib)"
   ]
  },
  {
   "cell_type": "code",
   "execution_count": 39,
   "id": "a792d4dd",
   "metadata": {
    "execution": {
     "iopub.execute_input": "2025-08-19T18:39:32.235998Z",
     "iopub.status.busy": "2025-08-19T18:39:32.235593Z",
     "iopub.status.idle": "2025-08-19T18:39:32.241042Z",
     "shell.execute_reply": "2025-08-19T18:39:32.240421Z"
    },
    "papermill": {
     "duration": 0.045292,
     "end_time": "2025-08-19T18:39:32.242315",
     "exception": false,
     "start_time": "2025-08-19T18:39:32.197023",
     "status": "completed"
    },
    "tags": []
   },
   "outputs": [],
   "source": [
    "y_calib = y_calib.values.ravel().astype(int)"
   ]
  },
  {
   "cell_type": "code",
   "execution_count": 40,
   "id": "650fd033",
   "metadata": {
    "execution": {
     "iopub.execute_input": "2025-08-19T18:39:32.304753Z",
     "iopub.status.busy": "2025-08-19T18:39:32.304351Z",
     "iopub.status.idle": "2025-08-19T18:39:32.312207Z",
     "shell.execute_reply": "2025-08-19T18:39:32.311472Z"
    },
    "papermill": {
     "duration": 0.033699,
     "end_time": "2025-08-19T18:39:32.313298",
     "exception": false,
     "start_time": "2025-08-19T18:39:32.279599",
     "status": "completed"
    },
    "tags": []
   },
   "outputs": [],
   "source": [
    "from fairness_multiverse.conformal import compute_nc_scores\n",
    "\n",
    "# Compute nonconformity scores on calibration set (1 - probability of true class)\n",
    "nc_scores = compute_nc_scores(probs_calib, y_calib)"
   ]
  },
  {
   "cell_type": "code",
   "execution_count": 41,
   "id": "28ada44c",
   "metadata": {
    "execution": {
     "iopub.execute_input": "2025-08-19T18:39:32.377207Z",
     "iopub.status.busy": "2025-08-19T18:39:32.376781Z",
     "iopub.status.idle": "2025-08-19T18:39:32.385886Z",
     "shell.execute_reply": "2025-08-19T18:39:32.384563Z"
    },
    "papermill": {
     "duration": 0.05977,
     "end_time": "2025-08-19T18:39:32.388815",
     "exception": false,
     "start_time": "2025-08-19T18:39:32.329045",
     "status": "completed"
    },
    "tags": []
   },
   "outputs": [],
   "source": [
    "from fairness_multiverse.conformal import find_threshold\n",
    "\n",
    "# Find conformal threshold q_hat for the given alpha (split conformal method)\n",
    "q_hat = find_threshold(nc_scores, alpha)"
   ]
  },
  {
   "cell_type": "code",
   "execution_count": 42,
   "id": "df56469e",
   "metadata": {
    "execution": {
     "iopub.execute_input": "2025-08-19T18:39:32.474584Z",
     "iopub.status.busy": "2025-08-19T18:39:32.474163Z",
     "iopub.status.idle": "2025-08-19T18:39:32.479635Z",
     "shell.execute_reply": "2025-08-19T18:39:32.479004Z"
    },
    "papermill": {
     "duration": 0.039701,
     "end_time": "2025-08-19T18:39:32.481910",
     "exception": false,
     "start_time": "2025-08-19T18:39:32.442209",
     "status": "completed"
    },
    "tags": []
   },
   "outputs": [
    {
     "data": {
      "text/plain": [
       "0.6721045743327904"
      ]
     },
     "execution_count": 42,
     "metadata": {},
     "output_type": "execute_result"
    }
   ],
   "source": [
    "q_hat"
   ]
  },
  {
   "cell_type": "code",
   "execution_count": 43,
   "id": "aa1f5faa",
   "metadata": {
    "execution": {
     "iopub.execute_input": "2025-08-19T18:39:32.527796Z",
     "iopub.status.busy": "2025-08-19T18:39:32.527392Z",
     "iopub.status.idle": "2025-08-19T18:39:33.341125Z",
     "shell.execute_reply": "2025-08-19T18:39:33.339990Z"
    },
    "papermill": {
     "duration": 0.839989,
     "end_time": "2025-08-19T18:39:33.342586",
     "exception": false,
     "start_time": "2025-08-19T18:39:32.502597",
     "status": "completed"
    },
    "tags": []
   },
   "outputs": [],
   "source": [
    "from fairness_multiverse.conformal import predict_conformal_sets\n",
    "\n",
    "# Generate prediction sets for each test example\n",
    "pred_sets = predict_conformal_sets(model, X_test, q_hat)"
   ]
  },
  {
   "cell_type": "code",
   "execution_count": 44,
   "id": "97f67a6b",
   "metadata": {
    "execution": {
     "iopub.execute_input": "2025-08-19T18:39:33.382024Z",
     "iopub.status.busy": "2025-08-19T18:39:33.380517Z",
     "iopub.status.idle": "2025-08-19T18:39:33.389878Z",
     "shell.execute_reply": "2025-08-19T18:39:33.389001Z"
    },
    "papermill": {
     "duration": 0.030197,
     "end_time": "2025-08-19T18:39:33.391182",
     "exception": false,
     "start_time": "2025-08-19T18:39:33.360985",
     "status": "completed"
    },
    "tags": []
   },
   "outputs": [],
   "source": [
    "y_true = y_true.squeeze()"
   ]
  },
  {
   "cell_type": "code",
   "execution_count": 45,
   "id": "e700e9a7",
   "metadata": {
    "execution": {
     "iopub.execute_input": "2025-08-19T18:39:33.423079Z",
     "iopub.status.busy": "2025-08-19T18:39:33.422653Z",
     "iopub.status.idle": "2025-08-19T18:39:34.098547Z",
     "shell.execute_reply": "2025-08-19T18:39:34.096341Z"
    },
    "papermill": {
     "duration": 0.691562,
     "end_time": "2025-08-19T18:39:34.100144",
     "exception": false,
     "start_time": "2025-08-19T18:39:33.408582",
     "status": "completed"
    },
    "tags": []
   },
   "outputs": [],
   "source": [
    "from fairness_multiverse.conformal import evaluate_sets\n",
    "\n",
    "# Evaluate coverage and average set size on test data\n",
    "metrics = evaluate_sets(pred_sets, y_true)"
   ]
  },
  {
   "cell_type": "markdown",
   "id": "efbacec0",
   "metadata": {
    "papermill": {
     "duration": 0.032412,
     "end_time": "2025-08-19T18:39:34.161066",
     "exception": false,
     "start_time": "2025-08-19T18:39:34.128654",
     "status": "completed"
    },
    "tags": []
   },
   "source": [
    "# CP Metrics"
   ]
  },
  {
   "cell_type": "code",
   "execution_count": 46,
   "id": "9de55fb1",
   "metadata": {
    "execution": {
     "iopub.execute_input": "2025-08-19T18:39:34.190493Z",
     "iopub.status.busy": "2025-08-19T18:39:34.189996Z",
     "iopub.status.idle": "2025-08-19T18:39:34.197278Z",
     "shell.execute_reply": "2025-08-19T18:39:34.195929Z"
    },
    "papermill": {
     "duration": 0.02222,
     "end_time": "2025-08-19T18:39:34.199259",
     "exception": false,
     "start_time": "2025-08-19T18:39:34.177039",
     "status": "completed"
    },
    "tags": []
   },
   "outputs": [
    {
     "data": {
      "text/plain": [
       "{'coverage': 0.9128636718314569, 'avg_size': 1.2764909151711068}"
      ]
     },
     "execution_count": 46,
     "metadata": {},
     "output_type": "execute_result"
    }
   ],
   "source": [
    "metrics"
   ]
  },
  {
   "cell_type": "code",
   "execution_count": 47,
   "id": "64c340a1",
   "metadata": {
    "execution": {
     "iopub.execute_input": "2025-08-19T18:39:34.342770Z",
     "iopub.status.busy": "2025-08-19T18:39:34.342302Z",
     "iopub.status.idle": "2025-08-19T18:39:34.347880Z",
     "shell.execute_reply": "2025-08-19T18:39:34.347155Z"
    },
    "papermill": {
     "duration": 0.063737,
     "end_time": "2025-08-19T18:39:34.349215",
     "exception": false,
     "start_time": "2025-08-19T18:39:34.285478",
     "status": "completed"
    },
    "tags": []
   },
   "outputs": [],
   "source": [
    "example_universe = universe.copy()\n",
    "universe_training_year = example_universe.get(\"training_year\")\n",
    "universe_training_size = example_universe.get(\"training_size\")\n",
    "universe_scale = example_universe.get(\"scale\")\n",
    "universe_model = example_universe.get(\"model\")\n",
    "universe_exclude_features = example_universe.get(\"exclude_features\")\n",
    "universe_exclude_subgroups = example_universe.get(\"exclude_subgroups\")"
   ]
  },
  {
   "cell_type": "code",
   "execution_count": 48,
   "id": "dbb53cb4",
   "metadata": {
    "execution": {
     "iopub.execute_input": "2025-08-19T18:39:34.391731Z",
     "iopub.status.busy": "2025-08-19T18:39:34.391330Z",
     "iopub.status.idle": "2025-08-19T18:39:34.396508Z",
     "shell.execute_reply": "2025-08-19T18:39:34.395783Z"
    },
    "papermill": {
     "duration": 0.019533,
     "end_time": "2025-08-19T18:39:34.397716",
     "exception": false,
     "start_time": "2025-08-19T18:39:34.378183",
     "status": "completed"
    },
    "tags": []
   },
   "outputs": [],
   "source": [
    "cp_metrics_dict = {\n",
    "    \"universe_id\": [universe_id],\n",
    "    \"universe_training_year\": [universe_training_year],\n",
    "    \"universe_training_size\": [universe_training_size],\n",
    "    \"universe_scale\": [universe_scale],\n",
    "    \"universe_model\": [universe_model],\n",
    "    \"universe_exclude_features\": [universe_exclude_features],\n",
    "    \"universe_exclude_subgroups\": [universe_exclude_subgroups],\n",
    "    \"q_hat\": [q_hat],\n",
    "    \"coverage\": [metrics[\"coverage\"]],\n",
    "    \"avg_size\": [metrics[\"avg_size\"]],\n",
    "}"
   ]
  },
  {
   "cell_type": "code",
   "execution_count": 49,
   "id": "0d70d4b2",
   "metadata": {
    "execution": {
     "iopub.execute_input": "2025-08-19T18:39:34.422901Z",
     "iopub.status.busy": "2025-08-19T18:39:34.422533Z",
     "iopub.status.idle": "2025-08-19T18:39:34.428198Z",
     "shell.execute_reply": "2025-08-19T18:39:34.427508Z"
    },
    "papermill": {
     "duration": 0.019428,
     "end_time": "2025-08-19T18:39:34.429338",
     "exception": false,
     "start_time": "2025-08-19T18:39:34.409910",
     "status": "completed"
    },
    "tags": []
   },
   "outputs": [],
   "source": [
    "cp_metrics_df = pd.DataFrame(cp_metrics_dict)"
   ]
  },
  {
   "cell_type": "code",
   "execution_count": 50,
   "id": "b494403c",
   "metadata": {
    "execution": {
     "iopub.execute_input": "2025-08-19T18:39:34.460798Z",
     "iopub.status.busy": "2025-08-19T18:39:34.453676Z",
     "iopub.status.idle": "2025-08-19T18:39:34.484788Z",
     "shell.execute_reply": "2025-08-19T18:39:34.483353Z"
    },
    "papermill": {
     "duration": 0.046419,
     "end_time": "2025-08-19T18:39:34.487655",
     "exception": false,
     "start_time": "2025-08-19T18:39:34.441236",
     "status": "completed"
    },
    "tags": []
   },
   "outputs": [
    {
     "data": {
      "text/html": [
       "<div>\n",
       "<style scoped>\n",
       "    .dataframe tbody tr th:only-of-type {\n",
       "        vertical-align: middle;\n",
       "    }\n",
       "\n",
       "    .dataframe tbody tr th {\n",
       "        vertical-align: top;\n",
       "    }\n",
       "\n",
       "    .dataframe thead th {\n",
       "        text-align: right;\n",
       "    }\n",
       "</style>\n",
       "<table border=\"1\" class=\"dataframe\">\n",
       "  <thead>\n",
       "    <tr style=\"text-align: right;\">\n",
       "      <th></th>\n",
       "      <th>universe_id</th>\n",
       "      <th>universe_training_year</th>\n",
       "      <th>universe_training_size</th>\n",
       "      <th>universe_scale</th>\n",
       "      <th>universe_model</th>\n",
       "      <th>universe_exclude_features</th>\n",
       "      <th>universe_exclude_subgroups</th>\n",
       "      <th>q_hat</th>\n",
       "      <th>coverage</th>\n",
       "      <th>avg_size</th>\n",
       "    </tr>\n",
       "  </thead>\n",
       "  <tbody>\n",
       "    <tr>\n",
       "      <th>0</th>\n",
       "      <td>f52dc435e4458b2119cc4a3278ff7b74</td>\n",
       "      <td>2012_14</td>\n",
       "      <td>5k</td>\n",
       "      <td>do-not-scale</td>\n",
       "      <td>elasticnet</td>\n",
       "      <td>sex</td>\n",
       "      <td>drop-non-german</td>\n",
       "      <td>0.672105</td>\n",
       "      <td>0.912864</td>\n",
       "      <td>1.276491</td>\n",
       "    </tr>\n",
       "  </tbody>\n",
       "</table>\n",
       "</div>"
      ],
      "text/plain": [
       "                        universe_id universe_training_year  \\\n",
       "0  f52dc435e4458b2119cc4a3278ff7b74                2012_14   \n",
       "\n",
       "  universe_training_size universe_scale universe_model  \\\n",
       "0                     5k   do-not-scale     elasticnet   \n",
       "\n",
       "  universe_exclude_features universe_exclude_subgroups     q_hat  coverage  \\\n",
       "0                       sex            drop-non-german  0.672105  0.912864   \n",
       "\n",
       "   avg_size  \n",
       "0  1.276491  "
      ]
     },
     "execution_count": 50,
     "metadata": {},
     "output_type": "execute_result"
    }
   ],
   "source": [
    "cp_metrics_df"
   ]
  },
  {
   "cell_type": "markdown",
   "id": "ed608b0b",
   "metadata": {
    "papermill": {
     "duration": 0.036903,
     "end_time": "2025-08-19T18:39:34.562787",
     "exception": false,
     "start_time": "2025-08-19T18:39:34.525884",
     "status": "completed"
    },
    "tags": []
   },
   "source": [
    "Conditional coverage & looking at subgroups"
   ]
  },
  {
   "cell_type": "code",
   "execution_count": 51,
   "id": "8968c366",
   "metadata": {
    "execution": {
     "iopub.execute_input": "2025-08-19T18:39:34.621335Z",
     "iopub.status.busy": "2025-08-19T18:39:34.620913Z",
     "iopub.status.idle": "2025-08-19T18:39:35.018290Z",
     "shell.execute_reply": "2025-08-19T18:39:35.017366Z"
    },
    "papermill": {
     "duration": 0.433263,
     "end_time": "2025-08-19T18:39:35.019922",
     "exception": false,
     "start_time": "2025-08-19T18:39:34.586659",
     "status": "completed"
    },
    "tags": []
   },
   "outputs": [],
   "source": [
    "from fairness_multiverse.conformal import build_cp_groups\n",
    "\n",
    "cp_groups_df = build_cp_groups(pred_sets, y_true, X_test.index, org_test)"
   ]
  },
  {
   "cell_type": "code",
   "execution_count": 52,
   "id": "292ddabf",
   "metadata": {
    "execution": {
     "iopub.execute_input": "2025-08-19T18:39:35.066732Z",
     "iopub.status.busy": "2025-08-19T18:39:35.066284Z",
     "iopub.status.idle": "2025-08-19T18:39:35.943638Z",
     "shell.execute_reply": "2025-08-19T18:39:35.942428Z"
    },
    "papermill": {
     "duration": 0.911903,
     "end_time": "2025-08-19T18:39:35.945334",
     "exception": false,
     "start_time": "2025-08-19T18:39:35.033431",
     "status": "completed"
    },
    "tags": []
   },
   "outputs": [],
   "source": [
    "# Define covered = 1 if true_label is in the predicted set\n",
    "cp_groups_df['covered'] = cp_groups_df.apply(\n",
    "    lambda r: int(r['true_label'] in r['pred_set']),\n",
    "    axis=1\n",
    ")"
   ]
  },
  {
   "cell_type": "code",
   "execution_count": 53,
   "id": "3a261692",
   "metadata": {
    "execution": {
     "iopub.execute_input": "2025-08-19T18:39:35.980155Z",
     "iopub.status.busy": "2025-08-19T18:39:35.979661Z",
     "iopub.status.idle": "2025-08-19T18:39:35.994823Z",
     "shell.execute_reply": "2025-08-19T18:39:35.993904Z"
    },
    "papermill": {
     "duration": 0.030656,
     "end_time": "2025-08-19T18:39:35.996418",
     "exception": false,
     "start_time": "2025-08-19T18:39:35.965762",
     "status": "completed"
    },
    "tags": []
   },
   "outputs": [],
   "source": [
    "subgroups = ['frau1','nongerman','nongerman_male','nongerman_female']\n",
    "\n",
    "# Conditional coverage for subgroup==1\n",
    "cond_coverage = {\n",
    "    g: cp_groups_df.loc[cp_groups_df[g]==1, 'covered'].mean()\n",
    "    for g in subgroups\n",
    "}"
   ]
  },
  {
   "cell_type": "code",
   "execution_count": 54,
   "id": "894fd600",
   "metadata": {
    "execution": {
     "iopub.execute_input": "2025-08-19T18:39:36.030578Z",
     "iopub.status.busy": "2025-08-19T18:39:36.030264Z",
     "iopub.status.idle": "2025-08-19T18:39:36.035850Z",
     "shell.execute_reply": "2025-08-19T18:39:36.035158Z"
    },
    "papermill": {
     "duration": 0.020274,
     "end_time": "2025-08-19T18:39:36.036927",
     "exception": false,
     "start_time": "2025-08-19T18:39:36.016653",
     "status": "completed"
    },
    "tags": []
   },
   "outputs": [
    {
     "data": {
      "text/plain": [
       "{'frau1': 0.9092330502763175,\n",
       " 'nongerman': 0.964744849267389,\n",
       " 'nongerman_male': 0.973430604341169,\n",
       " 'nongerman_female': 0.9503725782414307}"
      ]
     },
     "execution_count": 54,
     "metadata": {},
     "output_type": "execute_result"
    }
   ],
   "source": [
    "cond_coverage"
   ]
  },
  {
   "cell_type": "code",
   "execution_count": 55,
   "id": "942895c7",
   "metadata": {
    "execution": {
     "iopub.execute_input": "2025-08-19T18:39:36.090875Z",
     "iopub.status.busy": "2025-08-19T18:39:36.090483Z",
     "iopub.status.idle": "2025-08-19T18:39:36.095979Z",
     "shell.execute_reply": "2025-08-19T18:39:36.095382Z"
    },
    "papermill": {
     "duration": 0.03626,
     "end_time": "2025-08-19T18:39:36.097260",
     "exception": false,
     "start_time": "2025-08-19T18:39:36.061000",
     "status": "completed"
    },
    "tags": []
   },
   "outputs": [],
   "source": [
    "for subgroup, cov in cond_coverage.items():\n",
    "    cp_metrics_df[f\"cov_{subgroup}\"] = cov"
   ]
  },
  {
   "cell_type": "code",
   "execution_count": 56,
   "id": "3970120f",
   "metadata": {
    "execution": {
     "iopub.execute_input": "2025-08-19T18:39:36.148567Z",
     "iopub.status.busy": "2025-08-19T18:39:36.148147Z",
     "iopub.status.idle": "2025-08-19T18:39:36.162019Z",
     "shell.execute_reply": "2025-08-19T18:39:36.161281Z"
    },
    "papermill": {
     "duration": 0.038722,
     "end_time": "2025-08-19T18:39:36.163261",
     "exception": false,
     "start_time": "2025-08-19T18:39:36.124539",
     "status": "completed"
    },
    "tags": []
   },
   "outputs": [
    {
     "data": {
      "text/html": [
       "<div>\n",
       "<style scoped>\n",
       "    .dataframe tbody tr th:only-of-type {\n",
       "        vertical-align: middle;\n",
       "    }\n",
       "\n",
       "    .dataframe tbody tr th {\n",
       "        vertical-align: top;\n",
       "    }\n",
       "\n",
       "    .dataframe thead th {\n",
       "        text-align: right;\n",
       "    }\n",
       "</style>\n",
       "<table border=\"1\" class=\"dataframe\">\n",
       "  <thead>\n",
       "    <tr style=\"text-align: right;\">\n",
       "      <th></th>\n",
       "      <th>universe_id</th>\n",
       "      <th>universe_training_year</th>\n",
       "      <th>universe_training_size</th>\n",
       "      <th>universe_scale</th>\n",
       "      <th>universe_model</th>\n",
       "      <th>universe_exclude_features</th>\n",
       "      <th>universe_exclude_subgroups</th>\n",
       "      <th>q_hat</th>\n",
       "      <th>coverage</th>\n",
       "      <th>avg_size</th>\n",
       "      <th>cov_frau1</th>\n",
       "      <th>cov_nongerman</th>\n",
       "      <th>cov_nongerman_male</th>\n",
       "      <th>cov_nongerman_female</th>\n",
       "    </tr>\n",
       "  </thead>\n",
       "  <tbody>\n",
       "    <tr>\n",
       "      <th>0</th>\n",
       "      <td>f52dc435e4458b2119cc4a3278ff7b74</td>\n",
       "      <td>2012_14</td>\n",
       "      <td>5k</td>\n",
       "      <td>do-not-scale</td>\n",
       "      <td>elasticnet</td>\n",
       "      <td>sex</td>\n",
       "      <td>drop-non-german</td>\n",
       "      <td>0.672105</td>\n",
       "      <td>0.912864</td>\n",
       "      <td>1.276491</td>\n",
       "      <td>0.909233</td>\n",
       "      <td>0.964745</td>\n",
       "      <td>0.973431</td>\n",
       "      <td>0.950373</td>\n",
       "    </tr>\n",
       "  </tbody>\n",
       "</table>\n",
       "</div>"
      ],
      "text/plain": [
       "                        universe_id universe_training_year  \\\n",
       "0  f52dc435e4458b2119cc4a3278ff7b74                2012_14   \n",
       "\n",
       "  universe_training_size universe_scale universe_model  \\\n",
       "0                     5k   do-not-scale     elasticnet   \n",
       "\n",
       "  universe_exclude_features universe_exclude_subgroups     q_hat  coverage  \\\n",
       "0                       sex            drop-non-german  0.672105  0.912864   \n",
       "\n",
       "   avg_size  cov_frau1  cov_nongerman  cov_nongerman_male  \\\n",
       "0  1.276491   0.909233       0.964745            0.973431   \n",
       "\n",
       "   cov_nongerman_female  \n",
       "0              0.950373  "
      ]
     },
     "execution_count": 56,
     "metadata": {},
     "output_type": "execute_result"
    }
   ],
   "source": [
    "cp_metrics_df"
   ]
  },
  {
   "cell_type": "markdown",
   "id": "3fc519cc",
   "metadata": {
    "papermill": {
     "duration": 0.03302,
     "end_time": "2025-08-19T18:39:36.209182",
     "exception": false,
     "start_time": "2025-08-19T18:39:36.176162",
     "status": "completed"
    },
    "tags": []
   },
   "source": [
    "# (Fairness) Metrics"
   ]
  },
  {
   "cell_type": "code",
   "execution_count": 57,
   "id": "a2e5e155",
   "metadata": {
    "execution": {
     "iopub.execute_input": "2025-08-19T18:39:36.270771Z",
     "iopub.status.busy": "2025-08-19T18:39:36.270293Z",
     "iopub.status.idle": "2025-08-19T18:39:36.297155Z",
     "shell.execute_reply": "2025-08-19T18:39:36.296514Z"
    },
    "papermill": {
     "duration": 0.061291,
     "end_time": "2025-08-19T18:39:36.298389",
     "exception": false,
     "start_time": "2025-08-19T18:39:36.237098",
     "status": "completed"
    },
    "tags": []
   },
   "outputs": [],
   "source": [
    "colname_to_bin = \"maxdeutsch1\"\n",
    "majority_value = org_train[colname_to_bin].mode()[0]\n",
    "\n",
    "org_test[\"majmin\"] = np.where(org_test[colname_to_bin] == majority_value, \"majority\", \"minority\")"
   ]
  },
  {
   "cell_type": "code",
   "execution_count": 58,
   "id": "17e3e4d5",
   "metadata": {
    "execution": {
     "iopub.execute_input": "2025-08-19T18:39:36.341013Z",
     "iopub.status.busy": "2025-08-19T18:39:36.340625Z",
     "iopub.status.idle": "2025-08-19T18:39:38.152934Z",
     "shell.execute_reply": "2025-08-19T18:39:38.151604Z"
    },
    "papermill": {
     "duration": 1.829065,
     "end_time": "2025-08-19T18:39:38.154741",
     "exception": false,
     "start_time": "2025-08-19T18:39:36.325676",
     "status": "completed"
    },
    "tags": []
   },
   "outputs": [],
   "source": [
    "example_universe = universe.copy()\n",
    "example_universe[\"cutoff\"] = example_universe[\"cutoff\"][0]\n",
    "example_universe[\"eval_fairness_grouping\"] = example_universe[\"eval_fairness_grouping\"][0]\n",
    "fairness_dict, metric_frame = universe_analysis.compute_metrics(\n",
    "    example_universe,\n",
    "    y_pred_prob=probs_test,\n",
    "    y_test=y_true,\n",
    "    org_test=org_test,\n",
    ")"
   ]
  },
  {
   "cell_type": "markdown",
   "id": "1fb7a0e9",
   "metadata": {
    "papermill": {
     "duration": 0.012592,
     "end_time": "2025-08-19T18:39:38.185575",
     "exception": false,
     "start_time": "2025-08-19T18:39:38.172983",
     "status": "completed"
    },
    "tags": []
   },
   "source": [
    "# Overall"
   ]
  },
  {
   "cell_type": "markdown",
   "id": "be1784b1",
   "metadata": {
    "papermill": {
     "duration": 0.013033,
     "end_time": "2025-08-19T18:39:38.211251",
     "exception": false,
     "start_time": "2025-08-19T18:39:38.198218",
     "status": "completed"
    },
    "tags": []
   },
   "source": [
    "Main fairness target: Equalized Odds. Seems to be a better fit than equal opportunity, since we're not only interested in Y = 1. Seems to be a better fit than demographic parity, since we also care about accuracy, not just equal distribution of preds.\n",
    "\n",
    "Pick column for computation of fairness metrics\n",
    "\n",
    "Performance\n",
    "Overall performance measures, most interesting in relation to the measures split by group below"
   ]
  },
  {
   "cell_type": "code",
   "execution_count": 59,
   "id": "b7672bee",
   "metadata": {
    "execution": {
     "iopub.execute_input": "2025-08-19T18:39:38.239500Z",
     "iopub.status.busy": "2025-08-19T18:39:38.239042Z",
     "iopub.status.idle": "2025-08-19T18:39:38.246841Z",
     "shell.execute_reply": "2025-08-19T18:39:38.246115Z"
    },
    "papermill": {
     "duration": 0.024521,
     "end_time": "2025-08-19T18:39:38.249258",
     "exception": false,
     "start_time": "2025-08-19T18:39:38.224737",
     "status": "completed"
    },
    "tags": []
   },
   "outputs": [
    {
     "data": {
      "text/plain": [
       "accuracy                   0.214257\n",
       "balanced accuracy          0.526007\n",
       "f1                         0.235867\n",
       "precision                  0.134743\n",
       "false positive rate        0.893328\n",
       "false negative rate        0.054658\n",
       "selection rate             0.900000\n",
       "count                  89710.000000\n",
       "dtype: float64"
      ]
     },
     "execution_count": 59,
     "metadata": {},
     "output_type": "execute_result"
    }
   ],
   "source": [
    "metric_frame.overall"
   ]
  },
  {
   "cell_type": "markdown",
   "id": "d93333c9",
   "metadata": {
    "papermill": {
     "duration": 0.013117,
     "end_time": "2025-08-19T18:39:38.277568",
     "exception": false,
     "start_time": "2025-08-19T18:39:38.264451",
     "status": "completed"
    },
    "tags": []
   },
   "source": [
    "By Group"
   ]
  },
  {
   "cell_type": "code",
   "execution_count": 60,
   "id": "52256966",
   "metadata": {
    "execution": {
     "iopub.execute_input": "2025-08-19T18:39:38.303918Z",
     "iopub.status.busy": "2025-08-19T18:39:38.303538Z",
     "iopub.status.idle": "2025-08-19T18:39:38.319681Z",
     "shell.execute_reply": "2025-08-19T18:39:38.318948Z"
    },
    "papermill": {
     "duration": 0.032016,
     "end_time": "2025-08-19T18:39:38.322039",
     "exception": false,
     "start_time": "2025-08-19T18:39:38.290023",
     "status": "completed"
    },
    "tags": []
   },
   "outputs": [
    {
     "data": {
      "text/html": [
       "<div>\n",
       "<style scoped>\n",
       "    .dataframe tbody tr th:only-of-type {\n",
       "        vertical-align: middle;\n",
       "    }\n",
       "\n",
       "    .dataframe tbody tr th {\n",
       "        vertical-align: top;\n",
       "    }\n",
       "\n",
       "    .dataframe thead th {\n",
       "        text-align: right;\n",
       "    }\n",
       "</style>\n",
       "<table border=\"1\" class=\"dataframe\">\n",
       "  <thead>\n",
       "    <tr style=\"text-align: right;\">\n",
       "      <th></th>\n",
       "      <th>accuracy</th>\n",
       "      <th>balanced accuracy</th>\n",
       "      <th>f1</th>\n",
       "      <th>precision</th>\n",
       "      <th>false positive rate</th>\n",
       "      <th>false negative rate</th>\n",
       "      <th>selection rate</th>\n",
       "      <th>count</th>\n",
       "    </tr>\n",
       "    <tr>\n",
       "      <th>majmin</th>\n",
       "      <th></th>\n",
       "      <th></th>\n",
       "      <th></th>\n",
       "      <th></th>\n",
       "      <th></th>\n",
       "      <th></th>\n",
       "      <th></th>\n",
       "      <th></th>\n",
       "    </tr>\n",
       "  </thead>\n",
       "  <tbody>\n",
       "    <tr>\n",
       "      <th>majority</th>\n",
       "      <td>0.235189</td>\n",
       "      <td>0.533075</td>\n",
       "      <td>0.244775</td>\n",
       "      <td>0.140753</td>\n",
       "      <td>0.871814</td>\n",
       "      <td>0.062035</td>\n",
       "      <td>0.880555</td>\n",
       "      <td>69170.0</td>\n",
       "    </tr>\n",
       "    <tr>\n",
       "      <th>minority</th>\n",
       "      <td>0.143768</td>\n",
       "      <td>0.504711</td>\n",
       "      <td>0.207757</td>\n",
       "      <td>0.116283</td>\n",
       "      <td>0.964396</td>\n",
       "      <td>0.026182</td>\n",
       "      <td>0.965482</td>\n",
       "      <td>20540.0</td>\n",
       "    </tr>\n",
       "  </tbody>\n",
       "</table>\n",
       "</div>"
      ],
      "text/plain": [
       "          accuracy  balanced accuracy        f1  precision  \\\n",
       "majmin                                                       \n",
       "majority  0.235189           0.533075  0.244775   0.140753   \n",
       "minority  0.143768           0.504711  0.207757   0.116283   \n",
       "\n",
       "          false positive rate  false negative rate  selection rate    count  \n",
       "majmin                                                                       \n",
       "majority             0.871814             0.062035        0.880555  69170.0  \n",
       "minority             0.964396             0.026182        0.965482  20540.0  "
      ]
     },
     "execution_count": 60,
     "metadata": {},
     "output_type": "execute_result"
    }
   ],
   "source": [
    "metric_frame.by_group"
   ]
  },
  {
   "cell_type": "code",
   "execution_count": 61,
   "id": "6e6c20ae",
   "metadata": {
    "execution": {
     "iopub.execute_input": "2025-08-19T18:39:38.353268Z",
     "iopub.status.busy": "2025-08-19T18:39:38.352958Z",
     "iopub.status.idle": "2025-08-19T18:39:40.209376Z",
     "shell.execute_reply": "2025-08-19T18:39:40.208534Z"
    },
    "papermill": {
     "duration": 1.881193,
     "end_time": "2025-08-19T18:39:40.219343",
     "exception": false,
     "start_time": "2025-08-19T18:39:38.338150",
     "status": "completed"
    },
    "tags": []
   },
   "outputs": [
    {
     "data": {
      "text/plain": [
       "array([[<Axes: title={'center': 'accuracy'}, xlabel='majmin'>,\n",
       "        <Axes: title={'center': 'balanced accuracy'}, xlabel='majmin'>,\n",
       "        <Axes: title={'center': 'f1'}, xlabel='majmin'>],\n",
       "       [<Axes: title={'center': 'precision'}, xlabel='majmin'>,\n",
       "        <Axes: title={'center': 'false positive rate'}, xlabel='majmin'>,\n",
       "        <Axes: title={'center': 'false negative rate'}, xlabel='majmin'>],\n",
       "       [<Axes: title={'center': 'selection rate'}, xlabel='majmin'>,\n",
       "        <Axes: title={'center': 'count'}, xlabel='majmin'>,\n",
       "        <Axes: xlabel='majmin'>]], dtype=object)"
      ]
     },
     "execution_count": 61,
     "metadata": {},
     "output_type": "execute_result"
    },
    {
     "data": {
      "image/png": "[encoded data removed]",
      "text/plain": [
       "<Figure size 1200x800 with 9 Axes>"
      ]
     },
     "metadata": {},
     "output_type": "display_data"
    }
   ],
   "source": [
    "# In a graphic\n",
    "metric_frame.by_group.plot.bar(\n",
    "    subplots=True,\n",
    "    layout=[3, 3],\n",
    "    legend=False,\n",
    "    figsize=[12, 8],\n",
    "    title=\"Show all metrics\",\n",
    ")"
   ]
  },
  {
   "cell_type": "markdown",
   "id": "b2e433ae",
   "metadata": {
    "papermill": {
     "duration": 0.026965,
     "end_time": "2025-08-19T18:39:40.267604",
     "exception": false,
     "start_time": "2025-08-19T18:39:40.240639",
     "status": "completed"
    },
    "tags": []
   },
   "source": [
    "# Final Output"
   ]
  },
  {
   "cell_type": "code",
   "execution_count": 62,
   "id": "3871301e",
   "metadata": {
    "execution": {
     "iopub.execute_input": "2025-08-19T18:39:40.297302Z",
     "iopub.status.busy": "2025-08-19T18:39:40.296661Z",
     "iopub.status.idle": "2025-08-19T18:39:40.304559Z",
     "shell.execute_reply": "2025-08-19T18:39:40.303967Z"
    },
    "papermill": {
     "duration": 0.023941,
     "end_time": "2025-08-19T18:39:40.305497",
     "exception": false,
     "start_time": "2025-08-19T18:39:40.281556",
     "status": "completed"
    },
    "tags": []
   },
   "outputs": [
    {
     "data": {
      "text/plain": [
       "4"
      ]
     },
     "execution_count": 62,
     "metadata": {},
     "output_type": "execute_result"
    }
   ],
   "source": [
    "sub_universes = universe_analysis.generate_sub_universes()\n",
    "len(sub_universes)"
   ]
  },
  {
   "cell_type": "code",
   "execution_count": 63,
   "id": "d9cfdaca",
   "metadata": {
    "execution": {
     "iopub.execute_input": "2025-08-19T18:39:40.412558Z",
     "iopub.status.busy": "2025-08-19T18:39:40.412095Z",
     "iopub.status.idle": "2025-08-19T18:39:40.417145Z",
     "shell.execute_reply": "2025-08-19T18:39:40.416388Z"
    },
    "papermill": {
     "duration": 0.069932,
     "end_time": "2025-08-19T18:39:40.418848",
     "exception": false,
     "start_time": "2025-08-19T18:39:40.348916",
     "status": "completed"
    },
    "tags": []
   },
   "outputs": [],
   "source": [
    "def filter_sub_universe_data(sub_universe, org_test):\n",
    "    # Keep all rows — no filtering\n",
    "    keep_rows_mask = np.ones(org_test.shape[0], dtype=bool)\n",
    "\n",
    "    print(f\"[INFO] Keeping all rows: {keep_rows_mask.sum()} rows retained.\")\n",
    "    return keep_rows_mask"
   ]
  },
  {
   "cell_type": "code",
   "execution_count": 64,
   "id": "2bc31ac1",
   "metadata": {
    "execution": {
     "iopub.execute_input": "2025-08-19T18:39:40.480289Z",
     "iopub.status.busy": "2025-08-19T18:39:40.479980Z",
     "iopub.status.idle": "2025-08-19T18:39:49.273754Z",
     "shell.execute_reply": "2025-08-19T18:39:49.272859Z"
    },
    "papermill": {
     "duration": 8.823735,
     "end_time": "2025-08-19T18:39:49.275023",
     "exception": false,
     "start_time": "2025-08-19T18:39:40.451288",
     "status": "completed"
    },
    "tags": []
   },
   "outputs": [
    {
     "name": "stdout",
     "output_type": "stream",
     "text": [
      "Stopping execution_time clock.\n",
      "[INFO] Keeping all rows: 89710 rows retained.\n"
     ]
    },
    {
     "name": "stdout",
     "output_type": "stream",
     "text": [
      "[INFO] Keeping all rows: 89710 rows retained.\n"
     ]
    },
    {
     "name": "stdout",
     "output_type": "stream",
     "text": [
      "[INFO] Keeping all rows: 89710 rows retained.\n"
     ]
    },
    {
     "name": "stdout",
     "output_type": "stream",
     "text": [
      "[INFO] Keeping all rows: 89710 rows retained.\n"
     ]
    },
    {
     "data": {
      "text/html": [
       "<div>\n",
       "<style scoped>\n",
       "    .dataframe tbody tr th:only-of-type {\n",
       "        vertical-align: middle;\n",
       "    }\n",
       "\n",
       "    .dataframe tbody tr th {\n",
       "        vertical-align: top;\n",
       "    }\n",
       "\n",
       "    .dataframe thead th {\n",
       "        text-align: right;\n",
       "    }\n",
       "</style>\n",
       "<table border=\"1\" class=\"dataframe\">\n",
       "  <thead>\n",
       "    <tr style=\"text-align: right;\">\n",
       "      <th></th>\n",
       "      <th>run_no</th>\n",
       "      <th>universe_id</th>\n",
       "      <th>universe_settings</th>\n",
       "      <th>execution_time</th>\n",
       "      <th>test_size_n</th>\n",
       "      <th>test_size_frac</th>\n",
       "      <th>fair_main_equalized_odds_difference</th>\n",
       "      <th>fair_main_equalized_odds_ratio</th>\n",
       "      <th>fair_main_demographic_parity_difference</th>\n",
       "      <th>fair_main_demographic_parity_ratio</th>\n",
       "      <th>...</th>\n",
       "      <th>perf_grp_precision_0</th>\n",
       "      <th>perf_grp_precision_1</th>\n",
       "      <th>perf_grp_false positive rate_0</th>\n",
       "      <th>perf_grp_false positive rate_1</th>\n",
       "      <th>perf_grp_false negative rate_0</th>\n",
       "      <th>perf_grp_false negative rate_1</th>\n",
       "      <th>perf_grp_selection rate_0</th>\n",
       "      <th>perf_grp_selection rate_1</th>\n",
       "      <th>perf_grp_count_0</th>\n",
       "      <th>perf_grp_count_1</th>\n",
       "    </tr>\n",
       "  </thead>\n",
       "  <tbody>\n",
       "    <tr>\n",
       "      <th>0</th>\n",
       "      <td>3</td>\n",
       "      <td>f52dc435e4458b2119cc4a3278ff7b74</td>\n",
       "      <td>{\"cutoff\": \"quantile_0.1\", \"eval_fairness_grou...</td>\n",
       "      <td>26.607953</td>\n",
       "      <td>89710</td>\n",
       "      <td>1.0</td>\n",
       "      <td>0.092582</td>\n",
       "      <td>0.904000</td>\n",
       "      <td>0.084927</td>\n",
       "      <td>0.912037</td>\n",
       "      <td>...</td>\n",
       "      <td>NaN</td>\n",
       "      <td>NaN</td>\n",
       "      <td>NaN</td>\n",
       "      <td>NaN</td>\n",
       "      <td>NaN</td>\n",
       "      <td>NaN</td>\n",
       "      <td>NaN</td>\n",
       "      <td>NaN</td>\n",
       "      <td>NaN</td>\n",
       "      <td>NaN</td>\n",
       "    </tr>\n",
       "    <tr>\n",
       "      <th>0</th>\n",
       "      <td>3</td>\n",
       "      <td>f52dc435e4458b2119cc4a3278ff7b74</td>\n",
       "      <td>{\"cutoff\": \"quantile_0.1\", \"eval_fairness_grou...</td>\n",
       "      <td>26.607953</td>\n",
       "      <td>89710</td>\n",
       "      <td>1.0</td>\n",
       "      <td>0.092582</td>\n",
       "      <td>0.904000</td>\n",
       "      <td>0.084927</td>\n",
       "      <td>0.912037</td>\n",
       "      <td>...</td>\n",
       "      <td>0.116283</td>\n",
       "      <td>0.140753</td>\n",
       "      <td>0.964396</td>\n",
       "      <td>0.871814</td>\n",
       "      <td>0.026182</td>\n",
       "      <td>0.062035</td>\n",
       "      <td>0.965482</td>\n",
       "      <td>0.880555</td>\n",
       "      <td>20540.0</td>\n",
       "      <td>69170.0</td>\n",
       "    </tr>\n",
       "    <tr>\n",
       "      <th>0</th>\n",
       "      <td>3</td>\n",
       "      <td>f52dc435e4458b2119cc4a3278ff7b74</td>\n",
       "      <td>{\"cutoff\": \"quantile_0.25\", \"eval_fairness_gro...</td>\n",
       "      <td>26.607953</td>\n",
       "      <td>89710</td>\n",
       "      <td>1.0</td>\n",
       "      <td>0.223038</td>\n",
       "      <td>0.754524</td>\n",
       "      <td>0.209199</td>\n",
       "      <td>0.770438</td>\n",
       "      <td>...</td>\n",
       "      <td>NaN</td>\n",
       "      <td>NaN</td>\n",
       "      <td>NaN</td>\n",
       "      <td>NaN</td>\n",
       "      <td>NaN</td>\n",
       "      <td>NaN</td>\n",
       "      <td>NaN</td>\n",
       "      <td>NaN</td>\n",
       "      <td>NaN</td>\n",
       "      <td>NaN</td>\n",
       "    </tr>\n",
       "    <tr>\n",
       "      <th>0</th>\n",
       "      <td>3</td>\n",
       "      <td>f52dc435e4458b2119cc4a3278ff7b74</td>\n",
       "      <td>{\"cutoff\": \"quantile_0.25\", \"eval_fairness_gro...</td>\n",
       "      <td>26.607953</td>\n",
       "      <td>89710</td>\n",
       "      <td>1.0</td>\n",
       "      <td>0.223038</td>\n",
       "      <td>0.754524</td>\n",
       "      <td>0.209199</td>\n",
       "      <td>0.770438</td>\n",
       "      <td>...</td>\n",
       "      <td>0.117908</td>\n",
       "      <td>0.152582</td>\n",
       "      <td>0.908596</td>\n",
       "      <td>0.685557</td>\n",
       "      <td>0.067990</td>\n",
       "      <td>0.189278</td>\n",
       "      <td>0.911295</td>\n",
       "      <td>0.702096</td>\n",
       "      <td>20540.0</td>\n",
       "      <td>69170.0</td>\n",
       "    </tr>\n",
       "  </tbody>\n",
       "</table>\n",
       "<p>4 rows × 50 columns</p>\n",
       "</div>"
      ],
      "text/plain": [
       "  run_no                       universe_id  \\\n",
       "0      3  f52dc435e4458b2119cc4a3278ff7b74   \n",
       "0      3  f52dc435e4458b2119cc4a3278ff7b74   \n",
       "0      3  f52dc435e4458b2119cc4a3278ff7b74   \n",
       "0      3  f52dc435e4458b2119cc4a3278ff7b74   \n",
       "\n",
       "                                   universe_settings  execution_time  \\\n",
       "0  {\"cutoff\": \"quantile_0.1\", \"eval_fairness_grou...       26.607953   \n",
       "0  {\"cutoff\": \"quantile_0.1\", \"eval_fairness_grou...       26.607953   \n",
       "0  {\"cutoff\": \"quantile_0.25\", \"eval_fairness_gro...       26.607953   \n",
       "0  {\"cutoff\": \"quantile_0.25\", \"eval_fairness_gro...       26.607953   \n",
       "\n",
       "   test_size_n  test_size_frac  fair_main_equalized_odds_difference  \\\n",
       "0        89710             1.0                             0.092582   \n",
       "0        89710             1.0                             0.092582   \n",
       "0        89710             1.0                             0.223038   \n",
       "0        89710             1.0                             0.223038   \n",
       "\n",
       "   fair_main_equalized_odds_ratio  fair_main_demographic_parity_difference  \\\n",
       "0                        0.904000                                 0.084927   \n",
       "0                        0.904000                                 0.084927   \n",
       "0                        0.754524                                 0.209199   \n",
       "0                        0.754524                                 0.209199   \n",
       "\n",
       "   fair_main_demographic_parity_ratio  ...  perf_grp_precision_0  \\\n",
       "0                            0.912037  ...                   NaN   \n",
       "0                            0.912037  ...              0.116283   \n",
       "0                            0.770438  ...                   NaN   \n",
       "0                            0.770438  ...              0.117908   \n",
       "\n",
       "   perf_grp_precision_1  perf_grp_false positive rate_0  \\\n",
       "0                   NaN                             NaN   \n",
       "0              0.140753                        0.964396   \n",
       "0                   NaN                             NaN   \n",
       "0              0.152582                        0.908596   \n",
       "\n",
       "   perf_grp_false positive rate_1  perf_grp_false negative rate_0  \\\n",
       "0                             NaN                             NaN   \n",
       "0                        0.871814                        0.026182   \n",
       "0                             NaN                             NaN   \n",
       "0                        0.685557                        0.067990   \n",
       "\n",
       "   perf_grp_false negative rate_1  perf_grp_selection rate_0  \\\n",
       "0                             NaN                        NaN   \n",
       "0                        0.062035                   0.965482   \n",
       "0                             NaN                        NaN   \n",
       "0                        0.189278                   0.911295   \n",
       "\n",
       "   perf_grp_selection rate_1  perf_grp_count_0  perf_grp_count_1  \n",
       "0                        NaN               NaN               NaN  \n",
       "0                   0.880555           20540.0           69170.0  \n",
       "0                        NaN               NaN               NaN  \n",
       "0                   0.702096           20540.0           69170.0  \n",
       "\n",
       "[4 rows x 50 columns]"
      ]
     },
     "execution_count": 64,
     "metadata": {},
     "output_type": "execute_result"
    }
   ],
   "source": [
    "final_output = universe_analysis.generate_final_output(\n",
    "    y_pred_prob=probs_test,\n",
    "    y_test=y_true,\n",
    "    org_test=org_test,\n",
    "    filter_data=filter_sub_universe_data,\n",
    "    cp_metrics_df=cp_metrics_df,\n",
    "    save=True,\n",
    ")\n",
    "final_output"
   ]
  },
  {
   "cell_type": "code",
   "execution_count": null,
   "id": "8b80a1ff",
   "metadata": {
    "papermill": {
     "duration": 0.027465,
     "end_time": "2025-08-19T18:39:49.344197",
     "exception": false,
     "start_time": "2025-08-19T18:39:49.316732",
     "status": "completed"
    },
    "tags": []
   },
   "outputs": [],
   "source": []
  },
  {
   "cell_type": "code",
   "execution_count": null,
   "id": "275c9fad",
   "metadata": {
    "papermill": {
     "duration": 0.01501,
     "end_time": "2025-08-19T18:39:49.374216",
     "exception": false,
     "start_time": "2025-08-19T18:39:49.359206",
     "status": "completed"
    },
    "tags": []
   },
   "outputs": [],
   "source": []
  }
 ],
 "metadata": {
  "celltoolbar": "Tags",
  "kernelspec": {
   "display_name": "Python (CMA Fairness)",
   "language": "python",
   "name": "cma_fair_env"
  },
  "language_info": {
   "codemirror_mode": {
    "name": "ipython",
    "version": 3
   },
   "file_extension": ".py",
   "mimetype": "text/x-python",
   "name": "python",
   "nbconvert_exporter": "python",
   "pygments_lexer": "ipython3",
   "version": "3.10.12"
  },
  "papermill": {
   "default_parameters": {},
   "duration": 40.790819,
   "end_time": "2025-08-19T18:39:50.510162",
   "environment_variables": {},
   "exception": null,
   "input_path": "universe_analysis.ipynb",
   "output_path": "output/runs/3/notebooks/m_3-f52dc435e4458b2119cc4a3278ff7b74.ipynb",
   "parameters": {
    "output_dir": "output",
    "run_no": "3",
    "seed": "2023",
    "universe": "{\"cutoff\": [\"quantile_0.1\", \"quantile_0.25\"], \"eval_fairness_grouping\": [\"majority-minority\", \"nationality-all\"], \"exclude_features\": \"sex\", \"exclude_subgroups\": \"drop-non-german\", \"model\": \"elasticnet\", \"scale\": \"do-not-scale\", \"training_size\": \"5k\", \"training_year\": \"2012_14\"}",
    "universe_id": "f52dc435e4458b2119cc4a3278ff7b74"
   },
   "start_time": "2025-08-19T18:39:09.719343",
   "version": "2.6.0"
  }
 },
 "nbformat": 4,
 "nbformat_minor": 5
}