{
 "cells": [
  {
   "cell_type": "markdown",
   "id": "ef23dbb3",
   "metadata": {
    "papermill": {
     "duration": 0.014148,
     "end_time": "2025-08-19T19:06:40.372549",
     "exception": false,
     "start_time": "2025-08-19T19:06:40.358401",
     "status": "completed"
    },
    "tags": []
   },
   "source": [
    "# Setup"
   ]
  },
  {
   "cell_type": "code",
   "execution_count": 1,
   "id": "0bc8e7dc",
   "metadata": {
    "execution": {
     "iopub.execute_input": "2025-08-19T19:06:40.395265Z",
     "iopub.status.busy": "2025-08-19T19:06:40.394010Z",
     "iopub.status.idle": "2025-08-19T19:06:40.420414Z",
     "shell.execute_reply": "2025-08-19T19:06:40.418959Z"
    },
    "papermill": {
     "duration": 0.039794,
     "end_time": "2025-08-19T19:06:40.422114",
     "exception": false,
     "start_time": "2025-08-19T19:06:40.382320",
     "status": "completed"
    },
    "tags": []
   },
   "outputs": [
    {
     "name": "stdout",
     "output_type": "stream",
     "text": [
      "/dss/dsshome1/0C/ra93lal2/cma/CMA_Fairness_v2\n"
     ]
    },
    {
     "name": "stderr",
     "output_type": "stream",
     "text": [
      "/dss/dsshome1/0C/ra93lal2/.local/share/virtualenvs/CMA_Fairness_v2-3j10GkSs/lib/python3.10/site-packages/IPython/core/magics/osm.py:393: UserWarning: This is now an optional IPython functionality, using bookmarks requires you to install the `pickleshare` library.\n",
      "  bkms = self.shell.db.get('bookmarks', {})\n",
      "/dss/dsshome1/0C/ra93lal2/.local/share/virtualenvs/CMA_Fairness_v2-3j10GkSs/lib/python3.10/site-packages/IPython/core/magics/osm.py:417: UserWarning: This is now an optional IPython functionality, setting dhist requires you to install the `pickleshare` library.\n",
      "  self.shell.db['dhist'] = compress_dhist(dhist)[-100:]\n"
     ]
    }
   ],
   "source": [
    "%cd ~/cma/CMA_Fairness_v2"
   ]
  },
  {
   "cell_type": "markdown",
   "id": "9d235661",
   "metadata": {
    "papermill": {
     "duration": 0.012768,
     "end_time": "2025-08-19T19:06:40.447188",
     "exception": false,
     "start_time": "2025-08-19T19:06:40.434420",
     "status": "completed"
    },
    "tags": []
   },
   "source": [
    "The following cell holds the definition of our parameters, these values can be overriden by rendering the with e.g. the following command:\n",
    "\n",
    "papermill -p alpha 0.2 -p ratio 0.3 universe_analysis.ipynb output/test_run.ipynb"
   ]
  },
  {
   "cell_type": "code",
   "execution_count": 2,
   "id": "4a789d8e",
   "metadata": {
    "execution": {
     "iopub.execute_input": "2025-08-19T19:06:40.492194Z",
     "iopub.status.busy": "2025-08-19T19:06:40.491707Z",
     "iopub.status.idle": "2025-08-19T19:06:40.496829Z",
     "shell.execute_reply": "2025-08-19T19:06:40.496041Z"
    },
    "papermill": {
     "duration": 0.034679,
     "end_time": "2025-08-19T19:06:40.499985",
     "exception": false,
     "start_time": "2025-08-19T19:06:40.465306",
     "status": "completed"
    },
    "tags": []
   },
   "outputs": [
    {
     "name": "stdout",
     "output_type": "stream",
     "text": [
      "Current working directory: /dss/dsshome1/0C/ra93lal2/cma/CMA_Fairness_v2\n"
     ]
    }
   ],
   "source": [
    "import os\n",
    "print(\"Current working directory:\", os.getcwd())"
   ]
  },
  {
   "cell_type": "code",
   "execution_count": 3,
   "id": "4132aaed",
   "metadata": {
    "execution": {
     "iopub.execute_input": "2025-08-19T19:06:40.525536Z",
     "iopub.status.busy": "2025-08-19T19:06:40.524659Z",
     "iopub.status.idle": "2025-08-19T19:06:40.532549Z",
     "shell.execute_reply": "2025-08-19T19:06:40.531619Z"
    },
    "papermill": {
     "duration": 0.023055,
     "end_time": "2025-08-19T19:06:40.534453",
     "exception": false,
     "start_time": "2025-08-19T19:06:40.511398",
     "status": "completed"
    },
    "tags": [
     "parameters"
    ]
   },
   "outputs": [],
   "source": [
    "run_no = 0\n",
    "universe_id = \"test\"\n",
    "universe = {\n",
    "    \"training_size\": \"5k\", # \"25k\", \"5k\", \"1k\"\n",
    "    \"training_year\": \"2012_14\", # \"2014\", \"2012_14\", \"2010_14\"\n",
    "    \"scale\": \"scale\", # \"scale\", \"do-not-scale\",\n",
    "    \"model\": \"elasticnet\", # \"logreg\", \"penalized_logreg\", \"rf\", \"gbm\", \"elasticnet\"\n",
    "    \"cutoff\": [\"quantile_0.15\", \"quantile_0.30\"],\n",
    "    \"exclude_features\": \"age\", # \"none\", \"nationality\", \"sex\", \"nationality-sex\", \"age\"\n",
    "    \"exclude_subgroups\": \"drop-non-german\", # \"keep-all\", \"drop-non-german\"\n",
    "    \"eval_fairness_grouping\": [\"majority-minority\", \"nationality-all\"]\n",
    "}\n",
    "\n",
    "output_dir=\"./output\"\n",
    "seed=0"
   ]
  },
  {
   "cell_type": "code",
   "execution_count": 4,
   "id": "301b5a81",
   "metadata": {
    "execution": {
     "iopub.execute_input": "2025-08-19T19:06:40.559879Z",
     "iopub.status.busy": "2025-08-19T19:06:40.558570Z",
     "iopub.status.idle": "2025-08-19T19:06:40.564951Z",
     "shell.execute_reply": "2025-08-19T19:06:40.563893Z"
    },
    "papermill": {
     "duration": 0.019125,
     "end_time": "2025-08-19T19:06:40.566559",
     "exception": false,
     "start_time": "2025-08-19T19:06:40.547434",
     "status": "completed"
    },
    "tags": [
     "injected-parameters"
    ]
   },
   "outputs": [],
   "source": [
    "# Parameters\n",
    "universe_id = \"29bbfc090457b375162cd6d5988a0c0d\"\n",
    "run_no = \"3\"\n",
    "universe = \"{\\\"cutoff\\\": [\\\"quantile_0.1\\\", \\\"quantile_0.25\\\"], \\\"eval_fairness_grouping\\\": [\\\"majority-minority\\\", \\\"nationality-all\\\"], \\\"exclude_features\\\": \\\"nationality-sex\\\", \\\"exclude_subgroups\\\": \\\"drop-non-german\\\", \\\"model\\\": \\\"rf\\\", \\\"scale\\\": \\\"scale\\\", \\\"training_size\\\": \\\"1k\\\", \\\"training_year\\\": \\\"2010_14\\\"}\"\n",
    "output_dir = \"output\"\n",
    "seed = \"2023\"\n"
   ]
  },
  {
   "cell_type": "code",
   "execution_count": 5,
   "id": "a5d7941f",
   "metadata": {
    "execution": {
     "iopub.execute_input": "2025-08-19T19:06:40.587792Z",
     "iopub.status.busy": "2025-08-19T19:06:40.586999Z",
     "iopub.status.idle": "2025-08-19T19:06:40.591641Z",
     "shell.execute_reply": "2025-08-19T19:06:40.590747Z"
    },
    "papermill": {
     "duration": 0.015894,
     "end_time": "2025-08-19T19:06:40.592913",
     "exception": false,
     "start_time": "2025-08-19T19:06:40.577019",
     "status": "completed"
    },
    "tags": []
   },
   "outputs": [],
   "source": [
    "import json\n",
    "if isinstance(universe, str):\n",
    "    universe = json.loads(universe)"
   ]
  },
  {
   "cell_type": "code",
   "execution_count": 6,
   "id": "7076ccb1",
   "metadata": {
    "execution": {
     "iopub.execute_input": "2025-08-19T19:06:40.615751Z",
     "iopub.status.busy": "2025-08-19T19:06:40.614987Z",
     "iopub.status.idle": "2025-08-19T19:06:40.667178Z",
     "shell.execute_reply": "2025-08-19T19:06:40.666390Z"
    },
    "papermill": {
     "duration": 0.065923,
     "end_time": "2025-08-19T19:06:40.668685",
     "exception": false,
     "start_time": "2025-08-19T19:06:40.602762",
     "status": "completed"
    },
    "tags": []
   },
   "outputs": [],
   "source": [
    "# Auto-reload the custom package\n",
    "%load_ext autoreload\n",
    "%autoreload 1\n",
    "%aimport fairness_multiverse"
   ]
  },
  {
   "cell_type": "code",
   "execution_count": 7,
   "id": "94c8eb93",
   "metadata": {
    "execution": {
     "iopub.execute_input": "2025-08-19T19:06:40.688520Z",
     "iopub.status.busy": "2025-08-19T19:06:40.688062Z",
     "iopub.status.idle": "2025-08-19T19:06:42.377157Z",
     "shell.execute_reply": "2025-08-19T19:06:42.376226Z"
    },
    "papermill": {
     "duration": 1.700709,
     "end_time": "2025-08-19T19:06:42.378754",
     "exception": false,
     "start_time": "2025-08-19T19:06:40.678045",
     "status": "completed"
    },
    "tags": []
   },
   "outputs": [],
   "source": [
    "from fairness_multiverse.universe import UniverseAnalysis\n",
    "\n",
    "universe_analysis = UniverseAnalysis(\n",
    "    run_no = run_no,\n",
    "    universe_id = universe_id,\n",
    "    universe = universe,\n",
    "    output_dir=output_dir,\n",
    ")"
   ]
  },
  {
   "cell_type": "code",
   "execution_count": 8,
   "id": "2a6381cf",
   "metadata": {
    "execution": {
     "iopub.execute_input": "2025-08-19T19:06:42.400720Z",
     "iopub.status.busy": "2025-08-19T19:06:42.399101Z",
     "iopub.status.idle": "2025-08-19T19:06:42.409262Z",
     "shell.execute_reply": "2025-08-19T19:06:42.407753Z"
    },
    "papermill": {
     "duration": 0.022685,
     "end_time": "2025-08-19T19:06:42.410779",
     "exception": false,
     "start_time": "2025-08-19T19:06:42.388094",
     "status": "completed"
    },
    "tags": []
   },
   "outputs": [
    {
     "name": "stdout",
     "output_type": "stream",
     "text": [
      "Using Seed: 2023\n"
     ]
    }
   ],
   "source": [
    "import numpy as np\n",
    "parsed_seed = int(seed)\n",
    "np.random.seed(parsed_seed)\n",
    "print(f\"Using Seed: {parsed_seed}\")"
   ]
  },
  {
   "cell_type": "markdown",
   "id": "b6e958b4",
   "metadata": {
    "papermill": {
     "duration": 0.009106,
     "end_time": "2025-08-19T19:06:42.431787",
     "exception": false,
     "start_time": "2025-08-19T19:06:42.422681",
     "status": "completed"
    },
    "tags": []
   },
   "source": [
    "# Loading Data"
   ]
  },
  {
   "cell_type": "code",
   "execution_count": 9,
   "id": "98701482",
   "metadata": {
    "execution": {
     "iopub.execute_input": "2025-08-19T19:06:42.465990Z",
     "iopub.status.busy": "2025-08-19T19:06:42.465202Z",
     "iopub.status.idle": "2025-08-19T19:06:53.090048Z",
     "shell.execute_reply": "2025-08-19T19:06:53.088930Z"
    },
    "papermill": {
     "duration": 10.650394,
     "end_time": "2025-08-19T19:06:53.091644",
     "exception": false,
     "start_time": "2025-08-19T19:06:42.441250",
     "status": "completed"
    },
    "tags": []
   },
   "outputs": [
    {
     "name": "stdout",
     "output_type": "stream",
     "text": [
      "Loading SIAB data from cache: data/siab_cached.csv.gz\n"
     ]
    },
    {
     "name": "stdout",
     "output_type": "stream",
     "text": [
      "(643690, 164)\n"
     ]
    }
   ],
   "source": [
    "from pathlib import Path\n",
    "import pandas as pd\n",
    "\n",
    "# File paths\n",
    "raw_file = Path(\"data/raw/siab.csv\")\n",
    "cache_file = Path(\"data/siab_cached.csv.gz\")\n",
    "\n",
    "# Ensure cache directory exists\n",
    "cache_file.parent.mkdir(parents=True, exist_ok=True)\n",
    "\n",
    "# Load with simple caching\n",
    "if cache_file.exists():\n",
    "    print(f\"Loading SIAB data from cache: {cache_file}\")\n",
    "    siab = pd.read_csv(cache_file, compression='gzip')\n",
    "else:\n",
    "    print(f\"Cache not found. Reading raw SIAB data: {raw_file}\")\n",
    "    siab = pd.read_csv(raw_file)\n",
    "    siab.to_csv(cache_file, index=False, compression='gzip')\n",
    "    print(f\"Cached SIAB data to: {cache_file}\")\n",
    "\n",
    "print(siab.shape)"
   ]
  },
  {
   "cell_type": "code",
   "execution_count": 10,
   "id": "058d2abb",
   "metadata": {
    "execution": {
     "iopub.execute_input": "2025-08-19T19:06:53.116582Z",
     "iopub.status.busy": "2025-08-19T19:06:53.115911Z",
     "iopub.status.idle": "2025-08-19T19:06:53.513614Z",
     "shell.execute_reply": "2025-08-19T19:06:53.512556Z"
    },
    "papermill": {
     "duration": 0.410991,
     "end_time": "2025-08-19T19:06:53.515394",
     "exception": false,
     "start_time": "2025-08-19T19:06:53.104403",
     "status": "completed"
    },
    "tags": []
   },
   "outputs": [
    {
     "data": {
      "text/html": [
       "<div>\n",
       "<style scoped>\n",
       "    .dataframe tbody tr th:only-of-type {\n",
       "        vertical-align: middle;\n",
       "    }\n",
       "\n",
       "    .dataframe tbody tr th {\n",
       "        vertical-align: top;\n",
       "    }\n",
       "\n",
       "    .dataframe thead th {\n",
       "        text-align: right;\n",
       "    }\n",
       "</style>\n",
       "<table border=\"1\" class=\"dataframe\">\n",
       "  <thead>\n",
       "    <tr style=\"text-align: right;\">\n",
       "      <th></th>\n",
       "      <th>persnr</th>\n",
       "      <th>year</th>\n",
       "      <th>nrEntry</th>\n",
       "      <th>ltue</th>\n",
       "      <th>employed_before</th>\n",
       "      <th>receipt_leh_before</th>\n",
       "      <th>receipt_lhg_before</th>\n",
       "      <th>se_before</th>\n",
       "      <th>ASU_notue_seeking_before</th>\n",
       "      <th>ASU_other_before</th>\n",
       "      <th>...</th>\n",
       "      <th>minijob_tot_dur_byage</th>\n",
       "      <th>ft_tot_dur_byage</th>\n",
       "      <th>befrist_tot_dur_byage</th>\n",
       "      <th>leih_tot_dur_byage</th>\n",
       "      <th>LHG_tot_dur_byage</th>\n",
       "      <th>LEH_tot_dur_byage</th>\n",
       "      <th>almp_tot_dur_byage</th>\n",
       "      <th>almp_aw_tot_dur_byage</th>\n",
       "      <th>se_tot_dur_byage</th>\n",
       "      <th>seeking1_tot_dur_byage</th>\n",
       "    </tr>\n",
       "  </thead>\n",
       "  <tbody>\n",
       "    <tr>\n",
       "      <th>0</th>\n",
       "      <td>7</td>\n",
       "      <td>2015</td>\n",
       "      <td>1</td>\n",
       "      <td>0</td>\n",
       "      <td>1</td>\n",
       "      <td>0</td>\n",
       "      <td>0</td>\n",
       "      <td>0</td>\n",
       "      <td>1</td>\n",
       "      <td>0</td>\n",
       "      <td>...</td>\n",
       "      <td>0.000000</td>\n",
       "      <td>0.000000</td>\n",
       "      <td>15.043478</td>\n",
       "      <td>0.000000</td>\n",
       "      <td>0.000000</td>\n",
       "      <td>0.000000</td>\n",
       "      <td>0.000000</td>\n",
       "      <td>0.000000</td>\n",
       "      <td>0.000000</td>\n",
       "      <td>0.000000</td>\n",
       "    </tr>\n",
       "    <tr>\n",
       "      <th>1</th>\n",
       "      <td>18</td>\n",
       "      <td>2010</td>\n",
       "      <td>1</td>\n",
       "      <td>1</td>\n",
       "      <td>0</td>\n",
       "      <td>0</td>\n",
       "      <td>0</td>\n",
       "      <td>0</td>\n",
       "      <td>0</td>\n",
       "      <td>0</td>\n",
       "      <td>...</td>\n",
       "      <td>0.000000</td>\n",
       "      <td>0.000000</td>\n",
       "      <td>0.000000</td>\n",
       "      <td>0.000000</td>\n",
       "      <td>0.000000</td>\n",
       "      <td>0.000000</td>\n",
       "      <td>0.000000</td>\n",
       "      <td>0.000000</td>\n",
       "      <td>0.000000</td>\n",
       "      <td>0.000000</td>\n",
       "    </tr>\n",
       "    <tr>\n",
       "      <th>2</th>\n",
       "      <td>18</td>\n",
       "      <td>2011</td>\n",
       "      <td>2</td>\n",
       "      <td>0</td>\n",
       "      <td>1</td>\n",
       "      <td>0</td>\n",
       "      <td>1</td>\n",
       "      <td>0</td>\n",
       "      <td>1</td>\n",
       "      <td>0</td>\n",
       "      <td>...</td>\n",
       "      <td>2.714286</td>\n",
       "      <td>2.714286</td>\n",
       "      <td>0.000000</td>\n",
       "      <td>0.000000</td>\n",
       "      <td>10.775510</td>\n",
       "      <td>0.000000</td>\n",
       "      <td>8.367347</td>\n",
       "      <td>0.000000</td>\n",
       "      <td>0.000000</td>\n",
       "      <td>9.836735</td>\n",
       "    </tr>\n",
       "    <tr>\n",
       "      <th>3</th>\n",
       "      <td>18</td>\n",
       "      <td>2012</td>\n",
       "      <td>3</td>\n",
       "      <td>0</td>\n",
       "      <td>1</td>\n",
       "      <td>0</td>\n",
       "      <td>1</td>\n",
       "      <td>0</td>\n",
       "      <td>1</td>\n",
       "      <td>0</td>\n",
       "      <td>...</td>\n",
       "      <td>4.200000</td>\n",
       "      <td>4.200000</td>\n",
       "      <td>0.000000</td>\n",
       "      <td>0.000000</td>\n",
       "      <td>12.100000</td>\n",
       "      <td>0.000000</td>\n",
       "      <td>9.400000</td>\n",
       "      <td>0.000000</td>\n",
       "      <td>0.000000</td>\n",
       "      <td>9.960000</td>\n",
       "    </tr>\n",
       "    <tr>\n",
       "      <th>4</th>\n",
       "      <td>18</td>\n",
       "      <td>2012</td>\n",
       "      <td>4</td>\n",
       "      <td>0</td>\n",
       "      <td>1</td>\n",
       "      <td>0</td>\n",
       "      <td>1</td>\n",
       "      <td>0</td>\n",
       "      <td>1</td>\n",
       "      <td>0</td>\n",
       "      <td>...</td>\n",
       "      <td>5.460000</td>\n",
       "      <td>5.460000</td>\n",
       "      <td>0.000000</td>\n",
       "      <td>0.000000</td>\n",
       "      <td>13.360000</td>\n",
       "      <td>0.000000</td>\n",
       "      <td>10.320000</td>\n",
       "      <td>0.000000</td>\n",
       "      <td>0.000000</td>\n",
       "      <td>10.280000</td>\n",
       "    </tr>\n",
       "    <tr>\n",
       "      <th>...</th>\n",
       "      <td>...</td>\n",
       "      <td>...</td>\n",
       "      <td>...</td>\n",
       "      <td>...</td>\n",
       "      <td>...</td>\n",
       "      <td>...</td>\n",
       "      <td>...</td>\n",
       "      <td>...</td>\n",
       "      <td>...</td>\n",
       "      <td>...</td>\n",
       "      <td>...</td>\n",
       "      <td>...</td>\n",
       "      <td>...</td>\n",
       "      <td>...</td>\n",
       "      <td>...</td>\n",
       "      <td>...</td>\n",
       "      <td>...</td>\n",
       "      <td>...</td>\n",
       "      <td>...</td>\n",
       "      <td>...</td>\n",
       "      <td>...</td>\n",
       "    </tr>\n",
       "    <tr>\n",
       "      <th>643685</th>\n",
       "      <td>1827860</td>\n",
       "      <td>2013</td>\n",
       "      <td>1</td>\n",
       "      <td>0</td>\n",
       "      <td>0</td>\n",
       "      <td>0</td>\n",
       "      <td>1</td>\n",
       "      <td>0</td>\n",
       "      <td>0</td>\n",
       "      <td>1</td>\n",
       "      <td>...</td>\n",
       "      <td>0.000000</td>\n",
       "      <td>0.000000</td>\n",
       "      <td>0.000000</td>\n",
       "      <td>0.000000</td>\n",
       "      <td>0.612903</td>\n",
       "      <td>0.000000</td>\n",
       "      <td>0.000000</td>\n",
       "      <td>0.000000</td>\n",
       "      <td>0.000000</td>\n",
       "      <td>0.000000</td>\n",
       "    </tr>\n",
       "    <tr>\n",
       "      <th>643686</th>\n",
       "      <td>1827860</td>\n",
       "      <td>2015</td>\n",
       "      <td>2</td>\n",
       "      <td>1</td>\n",
       "      <td>0</td>\n",
       "      <td>0</td>\n",
       "      <td>1</td>\n",
       "      <td>0</td>\n",
       "      <td>1</td>\n",
       "      <td>0</td>\n",
       "      <td>...</td>\n",
       "      <td>0.000000</td>\n",
       "      <td>0.000000</td>\n",
       "      <td>0.212121</td>\n",
       "      <td>0.212121</td>\n",
       "      <td>17.363636</td>\n",
       "      <td>0.000000</td>\n",
       "      <td>8.909091</td>\n",
       "      <td>0.000000</td>\n",
       "      <td>0.000000</td>\n",
       "      <td>7.121212</td>\n",
       "    </tr>\n",
       "    <tr>\n",
       "      <th>643687</th>\n",
       "      <td>1827860</td>\n",
       "      <td>2016</td>\n",
       "      <td>3</td>\n",
       "      <td>1</td>\n",
       "      <td>0</td>\n",
       "      <td>0</td>\n",
       "      <td>1</td>\n",
       "      <td>1</td>\n",
       "      <td>0</td>\n",
       "      <td>1</td>\n",
       "      <td>...</td>\n",
       "      <td>0.000000</td>\n",
       "      <td>0.000000</td>\n",
       "      <td>0.294118</td>\n",
       "      <td>0.205882</td>\n",
       "      <td>34.705882</td>\n",
       "      <td>0.000000</td>\n",
       "      <td>10.352941</td>\n",
       "      <td>1.705882</td>\n",
       "      <td>1.705882</td>\n",
       "      <td>23.911765</td>\n",
       "    </tr>\n",
       "    <tr>\n",
       "      <th>643688</th>\n",
       "      <td>1827869</td>\n",
       "      <td>2013</td>\n",
       "      <td>1</td>\n",
       "      <td>1</td>\n",
       "      <td>1</td>\n",
       "      <td>0</td>\n",
       "      <td>0</td>\n",
       "      <td>0</td>\n",
       "      <td>1</td>\n",
       "      <td>0</td>\n",
       "      <td>...</td>\n",
       "      <td>0.000000</td>\n",
       "      <td>0.000000</td>\n",
       "      <td>0.000000</td>\n",
       "      <td>0.000000</td>\n",
       "      <td>0.000000</td>\n",
       "      <td>0.525424</td>\n",
       "      <td>0.000000</td>\n",
       "      <td>0.000000</td>\n",
       "      <td>0.000000</td>\n",
       "      <td>0.000000</td>\n",
       "    </tr>\n",
       "    <tr>\n",
       "      <th>643689</th>\n",
       "      <td>1827869</td>\n",
       "      <td>2014</td>\n",
       "      <td>2</td>\n",
       "      <td>0</td>\n",
       "      <td>0</td>\n",
       "      <td>1</td>\n",
       "      <td>0</td>\n",
       "      <td>0</td>\n",
       "      <td>1</td>\n",
       "      <td>0</td>\n",
       "      <td>...</td>\n",
       "      <td>0.000000</td>\n",
       "      <td>0.666667</td>\n",
       "      <td>0.666667</td>\n",
       "      <td>0.000000</td>\n",
       "      <td>0.000000</td>\n",
       "      <td>8.950000</td>\n",
       "      <td>1.033333</td>\n",
       "      <td>0.083333</td>\n",
       "      <td>0.083333</td>\n",
       "      <td>8.133333</td>\n",
       "    </tr>\n",
       "  </tbody>\n",
       "</table>\n",
       "<p>643690 rows × 164 columns</p>\n",
       "</div>"
      ],
      "text/plain": [
       "         persnr  year  nrEntry  ltue  employed_before  receipt_leh_before  \\\n",
       "0             7  2015        1     0                1                   0   \n",
       "1            18  2010        1     1                0                   0   \n",
       "2            18  2011        2     0                1                   0   \n",
       "3            18  2012        3     0                1                   0   \n",
       "4            18  2012        4     0                1                   0   \n",
       "...         ...   ...      ...   ...              ...                 ...   \n",
       "643685  1827860  2013        1     0                0                   0   \n",
       "643686  1827860  2015        2     1                0                   0   \n",
       "643687  1827860  2016        3     1                0                   0   \n",
       "643688  1827869  2013        1     1                1                   0   \n",
       "643689  1827869  2014        2     0                0                   1   \n",
       "\n",
       "        receipt_lhg_before  se_before  ASU_notue_seeking_before  \\\n",
       "0                        0          0                         1   \n",
       "1                        0          0                         0   \n",
       "2                        1          0                         1   \n",
       "3                        1          0                         1   \n",
       "4                        1          0                         1   \n",
       "...                    ...        ...                       ...   \n",
       "643685                   1          0                         0   \n",
       "643686                   1          0                         1   \n",
       "643687                   1          1                         0   \n",
       "643688                   0          0                         1   \n",
       "643689                   0          0                         1   \n",
       "\n",
       "        ASU_other_before  ...  minijob_tot_dur_byage  ft_tot_dur_byage  \\\n",
       "0                      0  ...               0.000000          0.000000   \n",
       "1                      0  ...               0.000000          0.000000   \n",
       "2                      0  ...               2.714286          2.714286   \n",
       "3                      0  ...               4.200000          4.200000   \n",
       "4                      0  ...               5.460000          5.460000   \n",
       "...                  ...  ...                    ...               ...   \n",
       "643685                 1  ...               0.000000          0.000000   \n",
       "643686                 0  ...               0.000000          0.000000   \n",
       "643687                 1  ...               0.000000          0.000000   \n",
       "643688                 0  ...               0.000000          0.000000   \n",
       "643689                 0  ...               0.000000          0.666667   \n",
       "\n",
       "        befrist_tot_dur_byage  leih_tot_dur_byage  LHG_tot_dur_byage  \\\n",
       "0                   15.043478            0.000000           0.000000   \n",
       "1                    0.000000            0.000000           0.000000   \n",
       "2                    0.000000            0.000000          10.775510   \n",
       "3                    0.000000            0.000000          12.100000   \n",
       "4                    0.000000            0.000000          13.360000   \n",
       "...                       ...                 ...                ...   \n",
       "643685               0.000000            0.000000           0.612903   \n",
       "643686               0.212121            0.212121          17.363636   \n",
       "643687               0.294118            0.205882          34.705882   \n",
       "643688               0.000000            0.000000           0.000000   \n",
       "643689               0.666667            0.000000           0.000000   \n",
       "\n",
       "        LEH_tot_dur_byage  almp_tot_dur_byage  almp_aw_tot_dur_byage  \\\n",
       "0                0.000000            0.000000               0.000000   \n",
       "1                0.000000            0.000000               0.000000   \n",
       "2                0.000000            8.367347               0.000000   \n",
       "3                0.000000            9.400000               0.000000   \n",
       "4                0.000000           10.320000               0.000000   \n",
       "...                   ...                 ...                    ...   \n",
       "643685           0.000000            0.000000               0.000000   \n",
       "643686           0.000000            8.909091               0.000000   \n",
       "643687           0.000000           10.352941               1.705882   \n",
       "643688           0.525424            0.000000               0.000000   \n",
       "643689           8.950000            1.033333               0.083333   \n",
       "\n",
       "        se_tot_dur_byage  seeking1_tot_dur_byage  \n",
       "0               0.000000                0.000000  \n",
       "1               0.000000                0.000000  \n",
       "2               0.000000                9.836735  \n",
       "3               0.000000                9.960000  \n",
       "4               0.000000               10.280000  \n",
       "...                  ...                     ...  \n",
       "643685          0.000000                0.000000  \n",
       "643686          0.000000                7.121212  \n",
       "643687          1.705882               23.911765  \n",
       "643688          0.000000                0.000000  \n",
       "643689          0.083333                8.133333  \n",
       "\n",
       "[643690 rows x 164 columns]"
      ]
     },
     "execution_count": 10,
     "metadata": {},
     "output_type": "execute_result"
    }
   ],
   "source": [
    "siab"
   ]
  },
  {
   "cell_type": "markdown",
   "id": "1f87e805",
   "metadata": {
    "papermill": {
     "duration": 0.01091,
     "end_time": "2025-08-19T19:06:53.541030",
     "exception": false,
     "start_time": "2025-08-19T19:06:53.530120",
     "status": "completed"
    },
    "tags": []
   },
   "source": [
    "# Splitting Data and Setting Training Data Size"
   ]
  },
  {
   "cell_type": "code",
   "execution_count": 11,
   "id": "910ae358",
   "metadata": {
    "execution": {
     "iopub.execute_input": "2025-08-19T19:06:53.562222Z",
     "iopub.status.busy": "2025-08-19T19:06:53.561688Z",
     "iopub.status.idle": "2025-08-19T19:06:54.809749Z",
     "shell.execute_reply": "2025-08-19T19:06:54.808788Z"
    },
    "papermill": {
     "duration": 1.26082,
     "end_time": "2025-08-19T19:06:54.811594",
     "exception": false,
     "start_time": "2025-08-19T19:06:53.550774",
     "status": "completed"
    },
    "tags": []
   },
   "outputs": [],
   "source": [
    "from fairness_multiverse.universe import sample_by_year_size\n",
    "\n",
    "siab_train = sample_by_year_size(siab,\n",
    "                               training_year=universe[\"training_year\"],\n",
    "                               training_size=universe[\"training_size\"])"
   ]
  },
  {
   "cell_type": "code",
   "execution_count": 12,
   "id": "919c8ff5",
   "metadata": {
    "execution": {
     "iopub.execute_input": "2025-08-19T19:06:54.834369Z",
     "iopub.status.busy": "2025-08-19T19:06:54.833390Z",
     "iopub.status.idle": "2025-08-19T19:06:54.840839Z",
     "shell.execute_reply": "2025-08-19T19:06:54.839767Z"
    },
    "papermill": {
     "duration": 0.020196,
     "end_time": "2025-08-19T19:06:54.842214",
     "exception": false,
     "start_time": "2025-08-19T19:06:54.822018",
     "status": "completed"
    },
    "tags": []
   },
   "outputs": [
    {
     "data": {
      "text/plain": [
       "(1000, 164)"
      ]
     },
     "execution_count": 12,
     "metadata": {},
     "output_type": "execute_result"
    }
   ],
   "source": [
    "siab_train.shape"
   ]
  },
  {
   "cell_type": "code",
   "execution_count": 13,
   "id": "feb13bf4",
   "metadata": {
    "execution": {
     "iopub.execute_input": "2025-08-19T19:06:54.866994Z",
     "iopub.status.busy": "2025-08-19T19:06:54.865449Z",
     "iopub.status.idle": "2025-08-19T19:06:54.881166Z",
     "shell.execute_reply": "2025-08-19T19:06:54.880024Z"
    },
    "papermill": {
     "duration": 0.02938,
     "end_time": "2025-08-19T19:06:54.882961",
     "exception": false,
     "start_time": "2025-08-19T19:06:54.853581",
     "status": "completed"
    },
    "tags": []
   },
   "outputs": [
    {
     "data": {
      "text/plain": [
       "year\n",
       "2010    200\n",
       "2011    200\n",
       "2012    200\n",
       "2013    200\n",
       "2014    200\n",
       "dtype: int64"
      ]
     },
     "metadata": {},
     "output_type": "display_data"
    }
   ],
   "source": [
    "display(siab_train.groupby(\"year\").size())"
   ]
  },
  {
   "cell_type": "code",
   "execution_count": 14,
   "id": "0997782f",
   "metadata": {
    "execution": {
     "iopub.execute_input": "2025-08-19T19:06:54.912809Z",
     "iopub.status.busy": "2025-08-19T19:06:54.912267Z",
     "iopub.status.idle": "2025-08-19T19:06:55.234003Z",
     "shell.execute_reply": "2025-08-19T19:06:55.232969Z"
    },
    "papermill": {
     "duration": 0.335972,
     "end_time": "2025-08-19T19:06:55.235643",
     "exception": false,
     "start_time": "2025-08-19T19:06:54.899671",
     "status": "completed"
    },
    "tags": []
   },
   "outputs": [],
   "source": [
    "#siab_train = siab_s[siab_s.year < 2015]\n",
    "siab_calib = siab[siab.year == 2015]\n",
    "siab_test = siab[siab.year == 2016]"
   ]
  },
  {
   "cell_type": "code",
   "execution_count": 15,
   "id": "2c1e4012",
   "metadata": {
    "execution": {
     "iopub.execute_input": "2025-08-19T19:06:55.266588Z",
     "iopub.status.busy": "2025-08-19T19:06:55.265993Z",
     "iopub.status.idle": "2025-08-19T19:06:55.273362Z",
     "shell.execute_reply": "2025-08-19T19:06:55.271809Z"
    },
    "papermill": {
     "duration": 0.024254,
     "end_time": "2025-08-19T19:06:55.274911",
     "exception": false,
     "start_time": "2025-08-19T19:06:55.250657",
     "status": "completed"
    },
    "tags": []
   },
   "outputs": [],
   "source": [
    "#siab_calib.shape"
   ]
  },
  {
   "cell_type": "code",
   "execution_count": 16,
   "id": "f66b54ca",
   "metadata": {
    "execution": {
     "iopub.execute_input": "2025-08-19T19:06:55.298312Z",
     "iopub.status.busy": "2025-08-19T19:06:55.297630Z",
     "iopub.status.idle": "2025-08-19T19:06:55.305674Z",
     "shell.execute_reply": "2025-08-19T19:06:55.304215Z"
    },
    "papermill": {
     "duration": 0.022495,
     "end_time": "2025-08-19T19:06:55.308222",
     "exception": false,
     "start_time": "2025-08-19T19:06:55.285727",
     "status": "completed"
    },
    "tags": []
   },
   "outputs": [],
   "source": [
    "#siab_test.shape"
   ]
  },
  {
   "cell_type": "code",
   "execution_count": 17,
   "id": "27e4384d",
   "metadata": {
    "execution": {
     "iopub.execute_input": "2025-08-19T19:06:55.373834Z",
     "iopub.status.busy": "2025-08-19T19:06:55.373071Z",
     "iopub.status.idle": "2025-08-19T19:06:55.383859Z",
     "shell.execute_reply": "2025-08-19T19:06:55.382606Z"
    },
    "papermill": {
     "duration": 0.048457,
     "end_time": "2025-08-19T19:06:55.385696",
     "exception": false,
     "start_time": "2025-08-19T19:06:55.337239",
     "status": "completed"
    },
    "tags": []
   },
   "outputs": [],
   "source": [
    "X_train = siab_train.iloc[:,4:164]\n",
    "y_train = siab_train.iloc[:, [3]]"
   ]
  },
  {
   "cell_type": "code",
   "execution_count": 18,
   "id": "08ee8389",
   "metadata": {
    "execution": {
     "iopub.execute_input": "2025-08-19T19:06:55.411795Z",
     "iopub.status.busy": "2025-08-19T19:06:55.411086Z",
     "iopub.status.idle": "2025-08-19T19:06:55.470418Z",
     "shell.execute_reply": "2025-08-19T19:06:55.469418Z"
    },
    "papermill": {
     "duration": 0.073926,
     "end_time": "2025-08-19T19:06:55.472242",
     "exception": false,
     "start_time": "2025-08-19T19:06:55.398316",
     "status": "completed"
    },
    "tags": []
   },
   "outputs": [],
   "source": [
    "X_calib = siab_calib.iloc[:,4:164]\n",
    "y_calib = siab_calib.iloc[:, [3]]"
   ]
  },
  {
   "cell_type": "code",
   "execution_count": 19,
   "id": "b7ff42e0",
   "metadata": {
    "execution": {
     "iopub.execute_input": "2025-08-19T19:06:55.496492Z",
     "iopub.status.busy": "2025-08-19T19:06:55.495168Z",
     "iopub.status.idle": "2025-08-19T19:06:55.566345Z",
     "shell.execute_reply": "2025-08-19T19:06:55.565097Z"
    },
    "papermill": {
     "duration": 0.086088,
     "end_time": "2025-08-19T19:06:55.569639",
     "exception": false,
     "start_time": "2025-08-19T19:06:55.483551",
     "status": "completed"
    },
    "tags": []
   },
   "outputs": [],
   "source": [
    "X_test = siab_test.iloc[:,4:164]\n",
    "y_true = siab_test.iloc[:, [3]]"
   ]
  },
  {
   "cell_type": "code",
   "execution_count": 20,
   "id": "0275101e",
   "metadata": {
    "execution": {
     "iopub.execute_input": "2025-08-19T19:06:55.612014Z",
     "iopub.status.busy": "2025-08-19T19:06:55.609436Z",
     "iopub.status.idle": "2025-08-19T19:06:55.734108Z",
     "shell.execute_reply": "2025-08-19T19:06:55.733207Z"
    },
    "papermill": {
     "duration": 0.142249,
     "end_time": "2025-08-19T19:06:55.737300",
     "exception": false,
     "start_time": "2025-08-19T19:06:55.595051",
     "status": "completed"
    },
    "tags": []
   },
   "outputs": [],
   "source": [
    "# Auxiliary data needed downstream in the pipeline\n",
    "\n",
    "org_train = X_train.copy()\n",
    "org_test = X_test.copy()\n",
    "org_calib = X_calib.copy()"
   ]
  },
  {
   "cell_type": "markdown",
   "id": "b461e618",
   "metadata": {
    "papermill": {
     "duration": 0.012944,
     "end_time": "2025-08-19T19:06:55.773647",
     "exception": false,
     "start_time": "2025-08-19T19:06:55.760703",
     "status": "completed"
    },
    "tags": []
   },
   "source": [
    "# Preprocessing Data"
   ]
  },
  {
   "cell_type": "code",
   "execution_count": 21,
   "id": "78e74c4b",
   "metadata": {
    "execution": {
     "iopub.execute_input": "2025-08-19T19:06:55.801486Z",
     "iopub.status.busy": "2025-08-19T19:06:55.798936Z",
     "iopub.status.idle": "2025-08-19T19:06:55.810720Z",
     "shell.execute_reply": "2025-08-19T19:06:55.808826Z"
    },
    "papermill": {
     "duration": 0.028541,
     "end_time": "2025-08-19T19:06:55.812829",
     "exception": false,
     "start_time": "2025-08-19T19:06:55.784288",
     "status": "completed"
    },
    "tags": []
   },
   "outputs": [],
   "source": [
    "# EXCLUDE PROTECTED FEATURES\n",
    "# --------------------------\n",
    "\n",
    "excluded_features = universe[\"exclude_features\"].split(\"-\")\n",
    "excluded_features_dictionary = {\n",
    "    \"nationality\": [\"maxdeutsch1\", \"maxdeutsch.Missing.\"],\n",
    "    \"sex\": [\"frau1\"],\n",
    "    \"age\": [\"age\"],\n",
    "}"
   ]
  },
  {
   "cell_type": "code",
   "execution_count": 22,
   "id": "f8e63555",
   "metadata": {
    "execution": {
     "iopub.execute_input": "2025-08-19T19:06:55.845897Z",
     "iopub.status.busy": "2025-08-19T19:06:55.843828Z",
     "iopub.status.idle": "2025-08-19T19:06:55.854352Z",
     "shell.execute_reply": "2025-08-19T19:06:55.852763Z"
    },
    "papermill": {
     "duration": 0.025934,
     "end_time": "2025-08-19T19:06:55.856052",
     "exception": false,
     "start_time": "2025-08-19T19:06:55.830118",
     "status": "completed"
    },
    "tags": []
   },
   "outputs": [],
   "source": [
    "excluded_features_columns = [\n",
    "    excluded_features_dictionary[f] for f in excluded_features if len(f) > 0 and f != \"none\"\n",
    "]"
   ]
  },
  {
   "cell_type": "code",
   "execution_count": 23,
   "id": "da781f7c",
   "metadata": {
    "execution": {
     "iopub.execute_input": "2025-08-19T19:06:55.909850Z",
     "iopub.status.busy": "2025-08-19T19:06:55.909253Z",
     "iopub.status.idle": "2025-08-19T19:06:55.914758Z",
     "shell.execute_reply": "2025-08-19T19:06:55.913936Z"
    },
    "papermill": {
     "duration": 0.035454,
     "end_time": "2025-08-19T19:06:55.917093",
     "exception": false,
     "start_time": "2025-08-19T19:06:55.881639",
     "status": "completed"
    },
    "tags": []
   },
   "outputs": [],
   "source": [
    "from fairness_multiverse.universe import flatten_once\n",
    "\n",
    "excluded_features_columns = flatten_once(excluded_features_columns)"
   ]
  },
  {
   "cell_type": "code",
   "execution_count": 24,
   "id": "37fef0f0",
   "metadata": {
    "execution": {
     "iopub.execute_input": "2025-08-19T19:06:55.941561Z",
     "iopub.status.busy": "2025-08-19T19:06:55.940989Z",
     "iopub.status.idle": "2025-08-19T19:06:55.950705Z",
     "shell.execute_reply": "2025-08-19T19:06:55.949692Z"
    },
    "papermill": {
     "duration": 0.024289,
     "end_time": "2025-08-19T19:06:55.952201",
     "exception": false,
     "start_time": "2025-08-19T19:06:55.927912",
     "status": "completed"
    },
    "tags": []
   },
   "outputs": [
    {
     "name": "stdout",
     "output_type": "stream",
     "text": [
      "Dropping features: ['maxdeutsch1', 'maxdeutsch.Missing.', 'frau1']\n"
     ]
    }
   ],
   "source": [
    "if len(excluded_features_columns) > 0:\n",
    "    print(f\"Dropping features: {excluded_features_columns}\")\n",
    "    X_train.drop(excluded_features_columns, axis=1, inplace=True)"
   ]
  },
  {
   "cell_type": "code",
   "execution_count": 25,
   "id": "d029e3e9",
   "metadata": {
    "execution": {
     "iopub.execute_input": "2025-08-19T19:06:55.974861Z",
     "iopub.status.busy": "2025-08-19T19:06:55.974523Z",
     "iopub.status.idle": "2025-08-19T19:06:56.052049Z",
     "shell.execute_reply": "2025-08-19T19:06:56.050396Z"
    },
    "papermill": {
     "duration": 0.092993,
     "end_time": "2025-08-19T19:06:56.056035",
     "exception": false,
     "start_time": "2025-08-19T19:06:55.963042",
     "status": "completed"
    },
    "tags": []
   },
   "outputs": [
    {
     "name": "stdout",
     "output_type": "stream",
     "text": [
      "Dropping features: ['maxdeutsch1', 'maxdeutsch.Missing.', 'frau1']\n"
     ]
    }
   ],
   "source": [
    "if len(excluded_features_columns) > 0:\n",
    "    print(f\"Dropping features: {excluded_features_columns}\")\n",
    "    X_test.drop(excluded_features_columns, axis=1, inplace=True)"
   ]
  },
  {
   "cell_type": "code",
   "execution_count": 26,
   "id": "01d571f0",
   "metadata": {
    "execution": {
     "iopub.execute_input": "2025-08-19T19:06:56.095210Z",
     "iopub.status.busy": "2025-08-19T19:06:56.093340Z",
     "iopub.status.idle": "2025-08-19T19:06:56.149302Z",
     "shell.execute_reply": "2025-08-19T19:06:56.148249Z"
    },
    "papermill": {
     "duration": 0.070951,
     "end_time": "2025-08-19T19:06:56.150721",
     "exception": false,
     "start_time": "2025-08-19T19:06:56.079770",
     "status": "completed"
    },
    "tags": []
   },
   "outputs": [
    {
     "name": "stdout",
     "output_type": "stream",
     "text": [
      "Dropping features: ['maxdeutsch1', 'maxdeutsch.Missing.', 'frau1']\n"
     ]
    }
   ],
   "source": [
    "if len(excluded_features_columns) > 0:\n",
    "    print(f\"Dropping features: {excluded_features_columns}\")\n",
    "    X_calib.drop(excluded_features_columns, axis=1, inplace=True)"
   ]
  },
  {
   "cell_type": "code",
   "execution_count": 27,
   "id": "3037356e",
   "metadata": {
    "execution": {
     "iopub.execute_input": "2025-08-19T19:06:56.176386Z",
     "iopub.status.busy": "2025-08-19T19:06:56.175811Z",
     "iopub.status.idle": "2025-08-19T19:06:56.181339Z",
     "shell.execute_reply": "2025-08-19T19:06:56.180495Z"
    },
    "papermill": {
     "duration": 0.020689,
     "end_time": "2025-08-19T19:06:56.182676",
     "exception": false,
     "start_time": "2025-08-19T19:06:56.161987",
     "status": "completed"
    },
    "tags": []
   },
   "outputs": [],
   "source": [
    "# EXCLUDE CERTAIN SUBGROUPS\n",
    "# -------------------------\n",
    "\n",
    "mode = universe.get(\"exclude_subgroups\", \"keep-all\") # Defaults to \"keep-all\" if the key is missing."
   ]
  },
  {
   "cell_type": "code",
   "execution_count": 28,
   "id": "9d1e63fd",
   "metadata": {
    "execution": {
     "iopub.execute_input": "2025-08-19T19:06:56.206776Z",
     "iopub.status.busy": "2025-08-19T19:06:56.206347Z",
     "iopub.status.idle": "2025-08-19T19:06:56.212694Z",
     "shell.execute_reply": "2025-08-19T19:06:56.211869Z"
    },
    "papermill": {
     "duration": 0.019954,
     "end_time": "2025-08-19T19:06:56.214062",
     "exception": false,
     "start_time": "2025-08-19T19:06:56.194108",
     "status": "completed"
    },
    "tags": []
   },
   "outputs": [],
   "source": [
    "if mode == \"keep-all\":\n",
    "    keep_mask = pd.Series(True, index=org_train.index)\n",
    "\n",
    "elif mode == \"drop-non-german\":\n",
    "    keep_mask = (org_train[\"maxdeutsch1\"] == 1) & (org_train[\"maxdeutsch.Missing.\"] == 0)\n",
    "\n",
    "else:\n",
    "    raise ValueError(f\"Unsupported mode for exclude_subgroups: {mode}\")"
   ]
  },
  {
   "cell_type": "code",
   "execution_count": 29,
   "id": "d3b65474",
   "metadata": {
    "execution": {
     "iopub.execute_input": "2025-08-19T19:06:56.238117Z",
     "iopub.status.busy": "2025-08-19T19:06:56.237679Z",
     "iopub.status.idle": "2025-08-19T19:06:56.244209Z",
     "shell.execute_reply": "2025-08-19T19:06:56.243304Z"
    },
    "papermill": {
     "duration": 0.020253,
     "end_time": "2025-08-19T19:06:56.245627",
     "exception": false,
     "start_time": "2025-08-19T19:06:56.225374",
     "status": "completed"
    },
    "tags": []
   },
   "outputs": [
    {
     "name": "stdout",
     "output_type": "stream",
     "text": [
      "Dropping 131 rows (13.10%) where mode='drop-non-german'\n"
     ]
    }
   ],
   "source": [
    "n_drop = (~keep_mask).sum() # Calculates how many rows are set to be dropped\n",
    "if n_drop > 0:\n",
    "    pct = n_drop / len(keep_mask) * 100\n",
    "    print(f\"Dropping {n_drop} rows ({pct:.2f}%) where mode='{mode}'\")"
   ]
  },
  {
   "cell_type": "code",
   "execution_count": 30,
   "id": "f44389b3",
   "metadata": {
    "execution": {
     "iopub.execute_input": "2025-08-19T19:06:56.268647Z",
     "iopub.status.busy": "2025-08-19T19:06:56.268337Z",
     "iopub.status.idle": "2025-08-19T19:06:56.274093Z",
     "shell.execute_reply": "2025-08-19T19:06:56.273315Z"
    },
    "papermill": {
     "duration": 0.018862,
     "end_time": "2025-08-19T19:06:56.275450",
     "exception": false,
     "start_time": "2025-08-19T19:06:56.256588",
     "status": "completed"
    },
    "tags": []
   },
   "outputs": [],
   "source": [
    "X_train = X_train[keep_mask]"
   ]
  },
  {
   "cell_type": "code",
   "execution_count": 31,
   "id": "ceca8c2a",
   "metadata": {
    "execution": {
     "iopub.execute_input": "2025-08-19T19:06:56.298633Z",
     "iopub.status.busy": "2025-08-19T19:06:56.297832Z",
     "iopub.status.idle": "2025-08-19T19:06:56.304692Z",
     "shell.execute_reply": "2025-08-19T19:06:56.303395Z"
    },
    "papermill": {
     "duration": 0.020966,
     "end_time": "2025-08-19T19:06:56.307165",
     "exception": false,
     "start_time": "2025-08-19T19:06:56.286199",
     "status": "completed"
    },
    "tags": []
   },
   "outputs": [],
   "source": [
    "y_train = y_train[keep_mask]"
   ]
  },
  {
   "cell_type": "markdown",
   "id": "04d31e2f",
   "metadata": {
    "papermill": {
     "duration": 0.010523,
     "end_time": "2025-08-19T19:06:56.333983",
     "exception": false,
     "start_time": "2025-08-19T19:06:56.323460",
     "status": "completed"
    },
    "tags": []
   },
   "source": [
    "# Model Training"
   ]
  },
  {
   "cell_type": "code",
   "execution_count": 32,
   "id": "db991733",
   "metadata": {
    "execution": {
     "iopub.execute_input": "2025-08-19T19:06:56.357973Z",
     "iopub.status.busy": "2025-08-19T19:06:56.356833Z",
     "iopub.status.idle": "2025-08-19T19:06:56.466942Z",
     "shell.execute_reply": "2025-08-19T19:06:56.465981Z"
    },
    "papermill": {
     "duration": 0.124289,
     "end_time": "2025-08-19T19:06:56.468813",
     "exception": false,
     "start_time": "2025-08-19T19:06:56.344524",
     "status": "completed"
    },
    "tags": []
   },
   "outputs": [],
   "source": [
    "from sklearn.linear_model import LogisticRegression\n",
    "from sklearn.ensemble import GradientBoostingClassifier, RandomForestClassifier\n",
    "\n",
    "if (universe[\"model\"] == \"logreg\"):\n",
    "    model = LogisticRegression() #penalty=\"none\", solver=\"newton-cg\", max_iter=1)\n",
    "elif (universe[\"model\"] == \"penalized_logreg\"):\n",
    "    model = LogisticRegression(penalty=\"l2\", C=0.1) #, solver=\"newton-cg\", max_iter=1)\n",
    "elif (universe[\"model\"] == \"rf\"):\n",
    "    model = RandomForestClassifier() # n_estimators=100, n_jobs=-1\n",
    "elif (universe[\"model\"] == \"gbm\"):\n",
    "    model = GradientBoostingClassifier()\n",
    "elif (universe[\"model\"] == \"elasticnet\"):\n",
    "    model = LogisticRegression(penalty = 'elasticnet', solver = 'saga', l1_ratio = 0.5) # max_iter=5000\n",
    "else:\n",
    "    raise \"Unsupported universe.model\""
   ]
  },
  {
   "cell_type": "code",
   "execution_count": 33,
   "id": "a4b5cd25",
   "metadata": {
    "execution": {
     "iopub.execute_input": "2025-08-19T19:06:56.502380Z",
     "iopub.status.busy": "2025-08-19T19:06:56.501207Z",
     "iopub.status.idle": "2025-08-19T19:06:56.510712Z",
     "shell.execute_reply": "2025-08-19T19:06:56.509244Z"
    },
    "papermill": {
     "duration": 0.03062,
     "end_time": "2025-08-19T19:06:56.512489",
     "exception": false,
     "start_time": "2025-08-19T19:06:56.481869",
     "status": "completed"
    },
    "tags": []
   },
   "outputs": [],
   "source": [
    "from sklearn.pipeline import Pipeline\n",
    "from sklearn.preprocessing import StandardScaler\n",
    "\n",
    "model = Pipeline([\n",
    "    #(\"continuous_processor\", continuous_processor),\n",
    "    #(\"categorical_preprocessor\", categorical_preprocessor),\n",
    "    (\"scale\", StandardScaler() if universe[\"scale\"] == \"scale\" else None), \n",
    "    (\"model\", model),\n",
    "])"
   ]
  },
  {
   "cell_type": "code",
   "execution_count": 34,
   "id": "283a904d",
   "metadata": {
    "execution": {
     "iopub.execute_input": "2025-08-19T19:06:56.557425Z",
     "iopub.status.busy": "2025-08-19T19:06:56.555920Z",
     "iopub.status.idle": "2025-08-19T19:06:56.865210Z",
     "shell.execute_reply": "2025-08-19T19:06:56.864311Z"
    },
    "papermill": {
     "duration": 0.336132,
     "end_time": "2025-08-19T19:06:56.866542",
     "exception": false,
     "start_time": "2025-08-19T19:06:56.530410",
     "status": "completed"
    },
    "tags": []
   },
   "outputs": [
    {
     "data": {
      "text/html": [
       "<style>#sk-container-id-1 {color: black;background-color: white;}#sk-container-id-1 pre{padding: 0;}#sk-container-id-1 div.sk-toggleable {background-color: white;}#sk-container-id-1 label.sk-toggleable__label {cursor: pointer;display: block;width: 100%;margin-bottom: 0;padding: 0.3em;box-sizing: border-box;text-align: center;}#sk-container-id-1 label.sk-toggleable__label-arrow:before {content: \"▸\";float: left;margin-right: 0.25em;color: #696969;}#sk-container-id-1 label.sk-toggleable__label-arrow:hover:before {color: black;}#sk-container-id-1 div.sk-estimator:hover label.sk-toggleable__label-arrow:before {color: black;}#sk-container-id-1 div.sk-toggleable__content {max-height: 0;max-width: 0;overflow: hidden;text-align: left;background-color: #f0f8ff;}#sk-container-id-1 div.sk-toggleable__content pre {margin: 0.2em;color: black;border-radius: 0.25em;background-color: #f0f8ff;}#sk-container-id-1 input.sk-toggleable__control:checked~div.sk-toggleable__content {max-height: 200px;max-width: 100%;overflow: auto;}#sk-container-id-1 input.sk-toggleable__control:checked~label.sk-toggleable__label-arrow:before {content: \"▾\";}#sk-container-id-1 div.sk-estimator input.sk-toggleable__control:checked~label.sk-toggleable__label {background-color: #d4ebff;}#sk-container-id-1 div.sk-label input.sk-toggleable__control:checked~label.sk-toggleable__label {background-color: #d4ebff;}#sk-container-id-1 input.sk-hidden--visually {border: 0;clip: rect(1px 1px 1px 1px);clip: rect(1px, 1px, 1px, 1px);height: 1px;margin: -1px;overflow: hidden;padding: 0;position: absolute;width: 1px;}#sk-container-id-1 div.sk-estimator {font-family: monospace;background-color: #f0f8ff;border: 1px dotted black;border-radius: 0.25em;box-sizing: border-box;margin-bottom: 0.5em;}#sk-container-id-1 div.sk-estimator:hover {background-color: #d4ebff;}#sk-container-id-1 div.sk-parallel-item::after {content: \"\";width: 100%;border-bottom: 1px solid gray;flex-grow: 1;}#sk-container-id-1 div.sk-label:hover label.sk-toggleable__label {background-color: #d4ebff;}#sk-container-id-1 div.sk-serial::before {content: \"\";position: absolute;border-left: 1px solid gray;box-sizing: border-box;top: 0;bottom: 0;left: 50%;z-index: 0;}#sk-container-id-1 div.sk-serial {display: flex;flex-direction: column;align-items: center;background-color: white;padding-right: 0.2em;padding-left: 0.2em;position: relative;}#sk-container-id-1 div.sk-item {position: relative;z-index: 1;}#sk-container-id-1 div.sk-parallel {display: flex;align-items: stretch;justify-content: center;background-color: white;position: relative;}#sk-container-id-1 div.sk-item::before, #sk-container-id-1 div.sk-parallel-item::before {content: \"\";position: absolute;border-left: 1px solid gray;box-sizing: border-box;top: 0;bottom: 0;left: 50%;z-index: -1;}#sk-container-id-1 div.sk-parallel-item {display: flex;flex-direction: column;z-index: 1;position: relative;background-color: white;}#sk-container-id-1 div.sk-parallel-item:first-child::after {align-self: flex-end;width: 50%;}#sk-container-id-1 div.sk-parallel-item:last-child::after {align-self: flex-start;width: 50%;}#sk-container-id-1 div.sk-parallel-item:only-child::after {width: 0;}#sk-container-id-1 div.sk-dashed-wrapped {border: 1px dashed gray;margin: 0 0.4em 0.5em 0.4em;box-sizing: border-box;padding-bottom: 0.4em;background-color: white;}#sk-container-id-1 div.sk-label label {font-family: monospace;font-weight: bold;display: inline-block;line-height: 1.2em;}#sk-container-id-1 div.sk-label-container {text-align: center;}#sk-container-id-1 div.sk-container {/* jupyter's `normalize.less` sets `[hidden] { display: none; }` but bootstrap.min.css set `[hidden] { display: none !important; }` so we also need the `!important` here to be able to override the default hidden behavior on the sphinx rendered scikit-learn.org. See: https://github.com/scikit-learn/scikit-learn/issues/21755 */display: inline-block !important;position: relative;}#sk-container-id-1 div.sk-text-repr-fallback {display: none;}</style><div id=\"sk-container-id-1\" class=\"sk-top-container\"><div class=\"sk-text-repr-fallback\"><pre>Pipeline(steps=[(&#x27;scale&#x27;, StandardScaler()),\n",
       "                (&#x27;model&#x27;, RandomForestClassifier())])</pre><b>In a Jupyter environment, please rerun this cell to show the HTML representation or trust the notebook. <br />On GitHub, the HTML representation is unable to render, please try loading this page with nbviewer.org.</b></div><div class=\"sk-container\" hidden><div class=\"sk-item sk-dashed-wrapped\"><div class=\"sk-label-container\"><div class=\"sk-label sk-toggleable\"><input class=\"sk-toggleable__control sk-hidden--visually\" id=\"sk-estimator-id-1\" type=\"checkbox\" ><label for=\"sk-estimator-id-1\" class=\"sk-toggleable__label sk-toggleable__label-arrow\">Pipeline</label><div class=\"sk-toggleable__content\"><pre>Pipeline(steps=[(&#x27;scale&#x27;, StandardScaler()),\n",
       "                (&#x27;model&#x27;, RandomForestClassifier())])</pre></div></div></div><div class=\"sk-serial\"><div class=\"sk-item\"><div class=\"sk-estimator sk-toggleable\"><input class=\"sk-toggleable__control sk-hidden--visually\" id=\"sk-estimator-id-2\" type=\"checkbox\" ><label for=\"sk-estimator-id-2\" class=\"sk-toggleable__label sk-toggleable__label-arrow\">StandardScaler</label><div class=\"sk-toggleable__content\"><pre>StandardScaler()</pre></div></div></div><div class=\"sk-item\"><div class=\"sk-estimator sk-toggleable\"><input class=\"sk-toggleable__control sk-hidden--visually\" id=\"sk-estimator-id-3\" type=\"checkbox\" ><label for=\"sk-estimator-id-3\" class=\"sk-toggleable__label sk-toggleable__label-arrow\">RandomForestClassifier</label><div class=\"sk-toggleable__content\"><pre>RandomForestClassifier()</pre></div></div></div></div></div></div></div>"
      ],
      "text/plain": [
       "Pipeline(steps=[('scale', StandardScaler()),\n",
       "                ('model', RandomForestClassifier())])"
      ]
     },
     "execution_count": 34,
     "metadata": {},
     "output_type": "execute_result"
    }
   ],
   "source": [
    "model.fit(X_train, y_train.values.ravel())"
   ]
  },
  {
   "cell_type": "code",
   "execution_count": 35,
   "id": "6e15e313",
   "metadata": {
    "execution": {
     "iopub.execute_input": "2025-08-19T19:06:56.891720Z",
     "iopub.status.busy": "2025-08-19T19:06:56.890827Z",
     "iopub.status.idle": "2025-08-19T19:06:58.439702Z",
     "shell.execute_reply": "2025-08-19T19:06:58.438640Z"
    },
    "papermill": {
     "duration": 1.562265,
     "end_time": "2025-08-19T19:06:58.440981",
     "exception": false,
     "start_time": "2025-08-19T19:06:56.878716",
     "status": "completed"
    },
    "tags": []
   },
   "outputs": [
    {
     "data": {
      "text/plain": [
       "0.8577750529483893"
      ]
     },
     "execution_count": 35,
     "metadata": {},
     "output_type": "execute_result"
    }
   ],
   "source": [
    "from fairness_multiverse.universe import predict_w_threshold\n",
    "\n",
    "probs_test = model.predict_proba(X_test)\n",
    "\n",
    "'''\n",
    "Below code returns a boolean array (or binary 0/1 array depending on how it’s used) where each element \n",
    "is True if the probability of class 1 is greater than or equal to the threshold, and False otherwise.\n",
    "'''\n",
    "y_pred_default = predict_w_threshold(probs_test, 0.5)\n",
    "\n",
    "from sklearn.metrics import accuracy_score\n",
    "\n",
    "# Naive prediction\n",
    "accuracy_score(y_true = y_true, y_pred = y_pred_default)"
   ]
  },
  {
   "cell_type": "code",
   "execution_count": 36,
   "id": "6f14067c",
   "metadata": {
    "execution": {
     "iopub.execute_input": "2025-08-19T19:06:58.474548Z",
     "iopub.status.busy": "2025-08-19T19:06:58.473032Z",
     "iopub.status.idle": "2025-08-19T19:06:59.983039Z",
     "shell.execute_reply": "2025-08-19T19:06:59.981877Z"
    },
    "papermill": {
     "duration": 1.545388,
     "end_time": "2025-08-19T19:07:00.002130",
     "exception": false,
     "start_time": "2025-08-19T19:06:58.456742",
     "status": "completed"
    },
    "tags": []
   },
   "outputs": [
    {
     "data": {
      "text/plain": [
       "array([0, 0, 0, ..., 0, 0, 0])"
      ]
     },
     "execution_count": 36,
     "metadata": {},
     "output_type": "execute_result"
    }
   ],
   "source": [
    "model.predict(X_test)"
   ]
  },
  {
   "cell_type": "markdown",
   "id": "3759920c",
   "metadata": {
    "papermill": {
     "duration": 0.012079,
     "end_time": "2025-08-19T19:07:00.037494",
     "exception": false,
     "start_time": "2025-08-19T19:07:00.025415",
     "status": "completed"
    },
    "tags": []
   },
   "source": [
    "# Conformal Prediction"
   ]
  },
  {
   "cell_type": "code",
   "execution_count": 37,
   "id": "14b27f59",
   "metadata": {
    "execution": {
     "iopub.execute_input": "2025-08-19T19:07:00.065119Z",
     "iopub.status.busy": "2025-08-19T19:07:00.063875Z",
     "iopub.status.idle": "2025-08-19T19:07:00.073730Z",
     "shell.execute_reply": "2025-08-19T19:07:00.072235Z"
    },
    "papermill": {
     "duration": 0.026331,
     "end_time": "2025-08-19T19:07:00.075426",
     "exception": false,
     "start_time": "2025-08-19T19:07:00.049095",
     "status": "completed"
    },
    "tags": []
   },
   "outputs": [],
   "source": [
    "# Miscoverage level for conformal prediction (10% allowed error rate => 90% target coverage)\n",
    "alpha = 0.1"
   ]
  },
  {
   "cell_type": "code",
   "execution_count": 38,
   "id": "59102472",
   "metadata": {
    "execution": {
     "iopub.execute_input": "2025-08-19T19:07:00.108668Z",
     "iopub.status.busy": "2025-08-19T19:07:00.107549Z",
     "iopub.status.idle": "2025-08-19T19:07:01.460060Z",
     "shell.execute_reply": "2025-08-19T19:07:01.458661Z"
    },
    "papermill": {
     "duration": 1.369019,
     "end_time": "2025-08-19T19:07:01.462011",
     "exception": false,
     "start_time": "2025-08-19T19:07:00.092992",
     "status": "completed"
    },
    "tags": []
   },
   "outputs": [],
   "source": [
    "probs_calib = model.predict_proba(X_calib)"
   ]
  },
  {
   "cell_type": "code",
   "execution_count": 39,
   "id": "a792d4dd",
   "metadata": {
    "execution": {
     "iopub.execute_input": "2025-08-19T19:07:01.488283Z",
     "iopub.status.busy": "2025-08-19T19:07:01.487784Z",
     "iopub.status.idle": "2025-08-19T19:07:01.493804Z",
     "shell.execute_reply": "2025-08-19T19:07:01.493210Z"
    },
    "papermill": {
     "duration": 0.027887,
     "end_time": "2025-08-19T19:07:01.503010",
     "exception": false,
     "start_time": "2025-08-19T19:07:01.475123",
     "status": "completed"
    },
    "tags": []
   },
   "outputs": [],
   "source": [
    "y_calib = y_calib.values.ravel().astype(int)"
   ]
  },
  {
   "cell_type": "code",
   "execution_count": 40,
   "id": "650fd033",
   "metadata": {
    "execution": {
     "iopub.execute_input": "2025-08-19T19:07:01.555102Z",
     "iopub.status.busy": "2025-08-19T19:07:01.554758Z",
     "iopub.status.idle": "2025-08-19T19:07:01.564984Z",
     "shell.execute_reply": "2025-08-19T19:07:01.563912Z"
    },
    "papermill": {
     "duration": 0.030665,
     "end_time": "2025-08-19T19:07:01.570718",
     "exception": false,
     "start_time": "2025-08-19T19:07:01.540053",
     "status": "completed"
    },
    "tags": []
   },
   "outputs": [],
   "source": [
    "from fairness_multiverse.conformal import compute_nc_scores\n",
    "\n",
    "# Compute nonconformity scores on calibration set (1 - probability of true class)\n",
    "nc_scores = compute_nc_scores(probs_calib, y_calib)"
   ]
  },
  {
   "cell_type": "code",
   "execution_count": 41,
   "id": "28ada44c",
   "metadata": {
    "execution": {
     "iopub.execute_input": "2025-08-19T19:07:01.615804Z",
     "iopub.status.busy": "2025-08-19T19:07:01.614745Z",
     "iopub.status.idle": "2025-08-19T19:07:01.642044Z",
     "shell.execute_reply": "2025-08-19T19:07:01.640682Z"
    },
    "papermill": {
     "duration": 0.045552,
     "end_time": "2025-08-19T19:07:01.644039",
     "exception": false,
     "start_time": "2025-08-19T19:07:01.598487",
     "status": "completed"
    },
    "tags": []
   },
   "outputs": [],
   "source": [
    "from fairness_multiverse.conformal import find_threshold\n",
    "\n",
    "# Find conformal threshold q_hat for the given alpha (split conformal method)\n",
    "q_hat = find_threshold(nc_scores, alpha)"
   ]
  },
  {
   "cell_type": "code",
   "execution_count": 42,
   "id": "df56469e",
   "metadata": {
    "execution": {
     "iopub.execute_input": "2025-08-19T19:07:01.682819Z",
     "iopub.status.busy": "2025-08-19T19:07:01.682147Z",
     "iopub.status.idle": "2025-08-19T19:07:01.693106Z",
     "shell.execute_reply": "2025-08-19T19:07:01.692149Z"
    },
    "papermill": {
     "duration": 0.026509,
     "end_time": "2025-08-19T19:07:01.694533",
     "exception": false,
     "start_time": "2025-08-19T19:07:01.668024",
     "status": "completed"
    },
    "tags": []
   },
   "outputs": [
    {
     "data": {
      "text/plain": [
       "0.64"
      ]
     },
     "execution_count": 42,
     "metadata": {},
     "output_type": "execute_result"
    }
   ],
   "source": [
    "q_hat"
   ]
  },
  {
   "cell_type": "code",
   "execution_count": 43,
   "id": "aa1f5faa",
   "metadata": {
    "execution": {
     "iopub.execute_input": "2025-08-19T19:07:01.721732Z",
     "iopub.status.busy": "2025-08-19T19:07:01.721220Z",
     "iopub.status.idle": "2025-08-19T19:07:03.825303Z",
     "shell.execute_reply": "2025-08-19T19:07:03.824143Z"
    },
    "papermill": {
     "duration": 2.118561,
     "end_time": "2025-08-19T19:07:03.826912",
     "exception": false,
     "start_time": "2025-08-19T19:07:01.708351",
     "status": "completed"
    },
    "tags": []
   },
   "outputs": [],
   "source": [
    "from fairness_multiverse.conformal import predict_conformal_sets\n",
    "\n",
    "# Generate prediction sets for each test example\n",
    "pred_sets = predict_conformal_sets(model, X_test, q_hat)"
   ]
  },
  {
   "cell_type": "code",
   "execution_count": 44,
   "id": "97f67a6b",
   "metadata": {
    "execution": {
     "iopub.execute_input": "2025-08-19T19:07:03.854701Z",
     "iopub.status.busy": "2025-08-19T19:07:03.853524Z",
     "iopub.status.idle": "2025-08-19T19:07:03.862113Z",
     "shell.execute_reply": "2025-08-19T19:07:03.861190Z"
    },
    "papermill": {
     "duration": 0.023133,
     "end_time": "2025-08-19T19:07:03.863522",
     "exception": false,
     "start_time": "2025-08-19T19:07:03.840389",
     "status": "completed"
    },
    "tags": []
   },
   "outputs": [],
   "source": [
    "y_true = y_true.squeeze()"
   ]
  },
  {
   "cell_type": "code",
   "execution_count": 45,
   "id": "e700e9a7",
   "metadata": {
    "execution": {
     "iopub.execute_input": "2025-08-19T19:07:03.893797Z",
     "iopub.status.busy": "2025-08-19T19:07:03.892797Z",
     "iopub.status.idle": "2025-08-19T19:07:04.387524Z",
     "shell.execute_reply": "2025-08-19T19:07:04.386236Z"
    },
    "papermill": {
     "duration": 0.512373,
     "end_time": "2025-08-19T19:07:04.390270",
     "exception": false,
     "start_time": "2025-08-19T19:07:03.877897",
     "status": "completed"
    },
    "tags": []
   },
   "outputs": [],
   "source": [
    "from fairness_multiverse.conformal import evaluate_sets\n",
    "\n",
    "# Evaluate coverage and average set size on test data\n",
    "metrics = evaluate_sets(pred_sets, y_true)"
   ]
  },
  {
   "cell_type": "markdown",
   "id": "efbacec0",
   "metadata": {
    "papermill": {
     "duration": 0.013322,
     "end_time": "2025-08-19T19:07:04.429470",
     "exception": false,
     "start_time": "2025-08-19T19:07:04.416148",
     "status": "completed"
    },
    "tags": []
   },
   "source": [
    "# CP Metrics"
   ]
  },
  {
   "cell_type": "code",
   "execution_count": 46,
   "id": "9de55fb1",
   "metadata": {
    "execution": {
     "iopub.execute_input": "2025-08-19T19:07:04.455800Z",
     "iopub.status.busy": "2025-08-19T19:07:04.454546Z",
     "iopub.status.idle": "2025-08-19T19:07:04.469671Z",
     "shell.execute_reply": "2025-08-19T19:07:04.468537Z"
    },
    "papermill": {
     "duration": 0.030441,
     "end_time": "2025-08-19T19:07:04.471268",
     "exception": false,
     "start_time": "2025-08-19T19:07:04.440827",
     "status": "completed"
    },
    "tags": []
   },
   "outputs": [
    {
     "data": {
      "text/plain": [
       "{'coverage': 0.9139003455579088, 'avg_size': 1.1498272210455913}"
      ]
     },
     "execution_count": 46,
     "metadata": {},
     "output_type": "execute_result"
    }
   ],
   "source": [
    "metrics"
   ]
  },
  {
   "cell_type": "code",
   "execution_count": 47,
   "id": "64c340a1",
   "metadata": {
    "execution": {
     "iopub.execute_input": "2025-08-19T19:07:04.501109Z",
     "iopub.status.busy": "2025-08-19T19:07:04.500036Z",
     "iopub.status.idle": "2025-08-19T19:07:04.511198Z",
     "shell.execute_reply": "2025-08-19T19:07:04.509791Z"
    },
    "papermill": {
     "duration": 0.026513,
     "end_time": "2025-08-19T19:07:04.512907",
     "exception": false,
     "start_time": "2025-08-19T19:07:04.486394",
     "status": "completed"
    },
    "tags": []
   },
   "outputs": [],
   "source": [
    "example_universe = universe.copy()\n",
    "universe_training_year = example_universe.get(\"training_year\")\n",
    "universe_training_size = example_universe.get(\"training_size\")\n",
    "universe_scale = example_universe.get(\"scale\")\n",
    "universe_model = example_universe.get(\"model\")\n",
    "universe_exclude_features = example_universe.get(\"exclude_features\")\n",
    "universe_exclude_subgroups = example_universe.get(\"exclude_subgroups\")"
   ]
  },
  {
   "cell_type": "code",
   "execution_count": 48,
   "id": "dbb53cb4",
   "metadata": {
    "execution": {
     "iopub.execute_input": "2025-08-19T19:07:04.543755Z",
     "iopub.status.busy": "2025-08-19T19:07:04.542295Z",
     "iopub.status.idle": "2025-08-19T19:07:04.553690Z",
     "shell.execute_reply": "2025-08-19T19:07:04.552028Z"
    },
    "papermill": {
     "duration": 0.026354,
     "end_time": "2025-08-19T19:07:04.555437",
     "exception": false,
     "start_time": "2025-08-19T19:07:04.529083",
     "status": "completed"
    },
    "tags": []
   },
   "outputs": [],
   "source": [
    "cp_metrics_dict = {\n",
    "    \"universe_id\": [universe_id],\n",
    "    \"universe_training_year\": [universe_training_year],\n",
    "    \"universe_training_size\": [universe_training_size],\n",
    "    \"universe_scale\": [universe_scale],\n",
    "    \"universe_model\": [universe_model],\n",
    "    \"universe_exclude_features\": [universe_exclude_features],\n",
    "    \"universe_exclude_subgroups\": [universe_exclude_subgroups],\n",
    "    \"q_hat\": [q_hat],\n",
    "    \"coverage\": [metrics[\"coverage\"]],\n",
    "    \"avg_size\": [metrics[\"avg_size\"]],\n",
    "}"
   ]
  },
  {
   "cell_type": "code",
   "execution_count": 49,
   "id": "0d70d4b2",
   "metadata": {
    "execution": {
     "iopub.execute_input": "2025-08-19T19:07:04.589044Z",
     "iopub.status.busy": "2025-08-19T19:07:04.587991Z",
     "iopub.status.idle": "2025-08-19T19:07:04.600750Z",
     "shell.execute_reply": "2025-08-19T19:07:04.599445Z"
    },
    "papermill": {
     "duration": 0.028835,
     "end_time": "2025-08-19T19:07:04.602319",
     "exception": false,
     "start_time": "2025-08-19T19:07:04.573484",
     "status": "completed"
    },
    "tags": []
   },
   "outputs": [],
   "source": [
    "cp_metrics_df = pd.DataFrame(cp_metrics_dict)"
   ]
  },
  {
   "cell_type": "code",
   "execution_count": 50,
   "id": "b494403c",
   "metadata": {
    "execution": {
     "iopub.execute_input": "2025-08-19T19:07:04.630599Z",
     "iopub.status.busy": "2025-08-19T19:07:04.629567Z",
     "iopub.status.idle": "2025-08-19T19:07:04.655505Z",
     "shell.execute_reply": "2025-08-19T19:07:04.654531Z"
    },
    "papermill": {
     "duration": 0.040933,
     "end_time": "2025-08-19T19:07:04.657184",
     "exception": false,
     "start_time": "2025-08-19T19:07:04.616251",
     "status": "completed"
    },
    "tags": []
   },
   "outputs": [
    {
     "data": {
      "text/html": [
       "<div>\n",
       "<style scoped>\n",
       "    .dataframe tbody tr th:only-of-type {\n",
       "        vertical-align: middle;\n",
       "    }\n",
       "\n",
       "    .dataframe tbody tr th {\n",
       "        vertical-align: top;\n",
       "    }\n",
       "\n",
       "    .dataframe thead th {\n",
       "        text-align: right;\n",
       "    }\n",
       "</style>\n",
       "<table border=\"1\" class=\"dataframe\">\n",
       "  <thead>\n",
       "    <tr style=\"text-align: right;\">\n",
       "      <th></th>\n",
       "      <th>universe_id</th>\n",
       "      <th>universe_training_year</th>\n",
       "      <th>universe_training_size</th>\n",
       "      <th>universe_scale</th>\n",
       "      <th>universe_model</th>\n",
       "      <th>universe_exclude_features</th>\n",
       "      <th>universe_exclude_subgroups</th>\n",
       "      <th>q_hat</th>\n",
       "      <th>coverage</th>\n",
       "      <th>avg_size</th>\n",
       "    </tr>\n",
       "  </thead>\n",
       "  <tbody>\n",
       "    <tr>\n",
       "      <th>0</th>\n",
       "      <td>29bbfc090457b375162cd6d5988a0c0d</td>\n",
       "      <td>2010_14</td>\n",
       "      <td>1k</td>\n",
       "      <td>scale</td>\n",
       "      <td>rf</td>\n",
       "      <td>nationality-sex</td>\n",
       "      <td>drop-non-german</td>\n",
       "      <td>0.64</td>\n",
       "      <td>0.9139</td>\n",
       "      <td>1.149827</td>\n",
       "    </tr>\n",
       "  </tbody>\n",
       "</table>\n",
       "</div>"
      ],
      "text/plain": [
       "                        universe_id universe_training_year  \\\n",
       "0  29bbfc090457b375162cd6d5988a0c0d                2010_14   \n",
       "\n",
       "  universe_training_size universe_scale universe_model  \\\n",
       "0                     1k          scale             rf   \n",
       "\n",
       "  universe_exclude_features universe_exclude_subgroups  q_hat  coverage  \\\n",
       "0           nationality-sex            drop-non-german   0.64    0.9139   \n",
       "\n",
       "   avg_size  \n",
       "0  1.149827  "
      ]
     },
     "execution_count": 50,
     "metadata": {},
     "output_type": "execute_result"
    }
   ],
   "source": [
    "cp_metrics_df"
   ]
  },
  {
   "cell_type": "markdown",
   "id": "ed608b0b",
   "metadata": {
    "papermill": {
     "duration": 0.012787,
     "end_time": "2025-08-19T19:07:04.693029",
     "exception": false,
     "start_time": "2025-08-19T19:07:04.680242",
     "status": "completed"
    },
    "tags": []
   },
   "source": [
    "Conditional coverage & looking at subgroups"
   ]
  },
  {
   "cell_type": "code",
   "execution_count": 51,
   "id": "8968c366",
   "metadata": {
    "execution": {
     "iopub.execute_input": "2025-08-19T19:07:04.719761Z",
     "iopub.status.busy": "2025-08-19T19:07:04.718124Z",
     "iopub.status.idle": "2025-08-19T19:07:05.009853Z",
     "shell.execute_reply": "2025-08-19T19:07:05.009061Z"
    },
    "papermill": {
     "duration": 0.306625,
     "end_time": "2025-08-19T19:07:05.011369",
     "exception": false,
     "start_time": "2025-08-19T19:07:04.704744",
     "status": "completed"
    },
    "tags": []
   },
   "outputs": [],
   "source": [
    "from fairness_multiverse.conformal import build_cp_groups\n",
    "\n",
    "cp_groups_df = build_cp_groups(pred_sets, y_true, X_test.index, org_test)"
   ]
  },
  {
   "cell_type": "code",
   "execution_count": 52,
   "id": "292ddabf",
   "metadata": {
    "execution": {
     "iopub.execute_input": "2025-08-19T19:07:05.063073Z",
     "iopub.status.busy": "2025-08-19T19:07:05.061805Z",
     "iopub.status.idle": "2025-08-19T19:07:05.928076Z",
     "shell.execute_reply": "2025-08-19T19:07:05.926982Z"
    },
    "papermill": {
     "duration": 0.896109,
     "end_time": "2025-08-19T19:07:05.929879",
     "exception": false,
     "start_time": "2025-08-19T19:07:05.033770",
     "status": "completed"
    },
    "tags": []
   },
   "outputs": [],
   "source": [
    "# Define covered = 1 if true_label is in the predicted set\n",
    "cp_groups_df['covered'] = cp_groups_df.apply(\n",
    "    lambda r: int(r['true_label'] in r['pred_set']),\n",
    "    axis=1\n",
    ")"
   ]
  },
  {
   "cell_type": "code",
   "execution_count": 53,
   "id": "3a261692",
   "metadata": {
    "execution": {
     "iopub.execute_input": "2025-08-19T19:07:05.977540Z",
     "iopub.status.busy": "2025-08-19T19:07:05.976253Z",
     "iopub.status.idle": "2025-08-19T19:07:05.997575Z",
     "shell.execute_reply": "2025-08-19T19:07:05.996530Z"
    },
    "papermill": {
     "duration": 0.053959,
     "end_time": "2025-08-19T19:07:05.999850",
     "exception": false,
     "start_time": "2025-08-19T19:07:05.945891",
     "status": "completed"
    },
    "tags": []
   },
   "outputs": [],
   "source": [
    "subgroups = ['frau1','nongerman','nongerman_male','nongerman_female']\n",
    "\n",
    "# Conditional coverage for subgroup==1\n",
    "cond_coverage = {\n",
    "    g: cp_groups_df.loc[cp_groups_df[g]==1, 'covered'].mean()\n",
    "    for g in subgroups\n",
    "}"
   ]
  },
  {
   "cell_type": "code",
   "execution_count": 54,
   "id": "894fd600",
   "metadata": {
    "execution": {
     "iopub.execute_input": "2025-08-19T19:07:06.043147Z",
     "iopub.status.busy": "2025-08-19T19:07:06.041857Z",
     "iopub.status.idle": "2025-08-19T19:07:06.054610Z",
     "shell.execute_reply": "2025-08-19T19:07:06.053239Z"
    },
    "papermill": {
     "duration": 0.0298,
     "end_time": "2025-08-19T19:07:06.056154",
     "exception": false,
     "start_time": "2025-08-19T19:07:06.026354",
     "status": "completed"
    },
    "tags": []
   },
   "outputs": [
    {
     "data": {
      "text/plain": [
       "{'frau1': 0.9113357595363256,\n",
       " 'nongerman': 0.902823780385112,\n",
       " 'nongerman_male': 0.9232639827073764,\n",
       " 'nongerman_female': 0.8690014903129657}"
      ]
     },
     "execution_count": 54,
     "metadata": {},
     "output_type": "execute_result"
    }
   ],
   "source": [
    "cond_coverage"
   ]
  },
  {
   "cell_type": "code",
   "execution_count": 55,
   "id": "942895c7",
   "metadata": {
    "execution": {
     "iopub.execute_input": "2025-08-19T19:07:06.087763Z",
     "iopub.status.busy": "2025-08-19T19:07:06.086449Z",
     "iopub.status.idle": "2025-08-19T19:07:06.098717Z",
     "shell.execute_reply": "2025-08-19T19:07:06.097332Z"
    },
    "papermill": {
     "duration": 0.028269,
     "end_time": "2025-08-19T19:07:06.100675",
     "exception": false,
     "start_time": "2025-08-19T19:07:06.072406",
     "status": "completed"
    },
    "tags": []
   },
   "outputs": [],
   "source": [
    "for subgroup, cov in cond_coverage.items():\n",
    "    cp_metrics_df[f\"cov_{subgroup}\"] = cov"
   ]
  },
  {
   "cell_type": "code",
   "execution_count": 56,
   "id": "3970120f",
   "metadata": {
    "execution": {
     "iopub.execute_input": "2025-08-19T19:07:06.135506Z",
     "iopub.status.busy": "2025-08-19T19:07:06.134218Z",
     "iopub.status.idle": "2025-08-19T19:07:06.159797Z",
     "shell.execute_reply": "2025-08-19T19:07:06.158903Z"
    },
    "papermill": {
     "duration": 0.047406,
     "end_time": "2025-08-19T19:07:06.166897",
     "exception": false,
     "start_time": "2025-08-19T19:07:06.119491",
     "status": "completed"
    },
    "tags": []
   },
   "outputs": [
    {
     "data": {
      "text/html": [
       "<div>\n",
       "<style scoped>\n",
       "    .dataframe tbody tr th:only-of-type {\n",
       "        vertical-align: middle;\n",
       "    }\n",
       "\n",
       "    .dataframe tbody tr th {\n",
       "        vertical-align: top;\n",
       "    }\n",
       "\n",
       "    .dataframe thead th {\n",
       "        text-align: right;\n",
       "    }\n",
       "</style>\n",
       "<table border=\"1\" class=\"dataframe\">\n",
       "  <thead>\n",
       "    <tr style=\"text-align: right;\">\n",
       "      <th></th>\n",
       "      <th>universe_id</th>\n",
       "      <th>universe_training_year</th>\n",
       "      <th>universe_training_size</th>\n",
       "      <th>universe_scale</th>\n",
       "      <th>universe_model</th>\n",
       "      <th>universe_exclude_features</th>\n",
       "      <th>universe_exclude_subgroups</th>\n",
       "      <th>q_hat</th>\n",
       "      <th>coverage</th>\n",
       "      <th>avg_size</th>\n",
       "      <th>cov_frau1</th>\n",
       "      <th>cov_nongerman</th>\n",
       "      <th>cov_nongerman_male</th>\n",
       "      <th>cov_nongerman_female</th>\n",
       "    </tr>\n",
       "  </thead>\n",
       "  <tbody>\n",
       "    <tr>\n",
       "      <th>0</th>\n",
       "      <td>29bbfc090457b375162cd6d5988a0c0d</td>\n",
       "      <td>2010_14</td>\n",
       "      <td>1k</td>\n",
       "      <td>scale</td>\n",
       "      <td>rf</td>\n",
       "      <td>nationality-sex</td>\n",
       "      <td>drop-non-german</td>\n",
       "      <td>0.64</td>\n",
       "      <td>0.9139</td>\n",
       "      <td>1.149827</td>\n",
       "      <td>0.911336</td>\n",
       "      <td>0.902824</td>\n",
       "      <td>0.923264</td>\n",
       "      <td>0.869001</td>\n",
       "    </tr>\n",
       "  </tbody>\n",
       "</table>\n",
       "</div>"
      ],
      "text/plain": [
       "                        universe_id universe_training_year  \\\n",
       "0  29bbfc090457b375162cd6d5988a0c0d                2010_14   \n",
       "\n",
       "  universe_training_size universe_scale universe_model  \\\n",
       "0                     1k          scale             rf   \n",
       "\n",
       "  universe_exclude_features universe_exclude_subgroups  q_hat  coverage  \\\n",
       "0           nationality-sex            drop-non-german   0.64    0.9139   \n",
       "\n",
       "   avg_size  cov_frau1  cov_nongerman  cov_nongerman_male  \\\n",
       "0  1.149827   0.911336       0.902824            0.923264   \n",
       "\n",
       "   cov_nongerman_female  \n",
       "0              0.869001  "
      ]
     },
     "execution_count": 56,
     "metadata": {},
     "output_type": "execute_result"
    }
   ],
   "source": [
    "cp_metrics_df"
   ]
  },
  {
   "cell_type": "markdown",
   "id": "3fc519cc",
   "metadata": {
    "papermill": {
     "duration": 0.031486,
     "end_time": "2025-08-19T19:07:06.212690",
     "exception": false,
     "start_time": "2025-08-19T19:07:06.181204",
     "status": "completed"
    },
    "tags": []
   },
   "source": [
    "# (Fairness) Metrics"
   ]
  },
  {
   "cell_type": "code",
   "execution_count": 57,
   "id": "a2e5e155",
   "metadata": {
    "execution": {
     "iopub.execute_input": "2025-08-19T19:07:06.240063Z",
     "iopub.status.busy": "2025-08-19T19:07:06.239641Z",
     "iopub.status.idle": "2025-08-19T19:07:06.254825Z",
     "shell.execute_reply": "2025-08-19T19:07:06.254145Z"
    },
    "papermill": {
     "duration": 0.030453,
     "end_time": "2025-08-19T19:07:06.256323",
     "exception": false,
     "start_time": "2025-08-19T19:07:06.225870",
     "status": "completed"
    },
    "tags": []
   },
   "outputs": [],
   "source": [
    "colname_to_bin = \"maxdeutsch1\"\n",
    "majority_value = org_train[colname_to_bin].mode()[0]\n",
    "\n",
    "org_test[\"majmin\"] = np.where(org_test[colname_to_bin] == majority_value, \"majority\", \"minority\")"
   ]
  },
  {
   "cell_type": "code",
   "execution_count": 58,
   "id": "17e3e4d5",
   "metadata": {
    "execution": {
     "iopub.execute_input": "2025-08-19T19:07:06.291274Z",
     "iopub.status.busy": "2025-08-19T19:07:06.290795Z",
     "iopub.status.idle": "2025-08-19T19:07:08.060325Z",
     "shell.execute_reply": "2025-08-19T19:07:08.058679Z"
    },
    "papermill": {
     "duration": 1.796837,
     "end_time": "2025-08-19T19:07:08.073361",
     "exception": false,
     "start_time": "2025-08-19T19:07:06.276524",
     "status": "completed"
    },
    "tags": []
   },
   "outputs": [],
   "source": [
    "example_universe = universe.copy()\n",
    "example_universe[\"cutoff\"] = example_universe[\"cutoff\"][0]\n",
    "example_universe[\"eval_fairness_grouping\"] = example_universe[\"eval_fairness_grouping\"][0]\n",
    "fairness_dict, metric_frame = universe_analysis.compute_metrics(\n",
    "    example_universe,\n",
    "    y_pred_prob=probs_test,\n",
    "    y_test=y_true,\n",
    "    org_test=org_test,\n",
    ")"
   ]
  },
  {
   "cell_type": "markdown",
   "id": "1fb7a0e9",
   "metadata": {
    "papermill": {
     "duration": 0.012274,
     "end_time": "2025-08-19T19:07:08.099770",
     "exception": false,
     "start_time": "2025-08-19T19:07:08.087496",
     "status": "completed"
    },
    "tags": []
   },
   "source": [
    "# Overall"
   ]
  },
  {
   "cell_type": "markdown",
   "id": "be1784b1",
   "metadata": {
    "papermill": {
     "duration": 0.012158,
     "end_time": "2025-08-19T19:07:08.124115",
     "exception": false,
     "start_time": "2025-08-19T19:07:08.111957",
     "status": "completed"
    },
    "tags": []
   },
   "source": [
    "Main fairness target: Equalized Odds. Seems to be a better fit than equal opportunity, since we're not only interested in Y = 1. Seems to be a better fit than demographic parity, since we also care about accuracy, not just equal distribution of preds.\n",
    "\n",
    "Pick column for computation of fairness metrics\n",
    "\n",
    "Performance\n",
    "Overall performance measures, most interesting in relation to the measures split by group below"
   ]
  },
  {
   "cell_type": "code",
   "execution_count": 59,
   "id": "b7672bee",
   "metadata": {
    "execution": {
     "iopub.execute_input": "2025-08-19T19:07:08.152931Z",
     "iopub.status.busy": "2025-08-19T19:07:08.151796Z",
     "iopub.status.idle": "2025-08-19T19:07:08.168427Z",
     "shell.execute_reply": "2025-08-19T19:07:08.167288Z"
    },
    "papermill": {
     "duration": 0.033169,
     "end_time": "2025-08-19T19:07:08.170108",
     "exception": false,
     "start_time": "2025-08-19T19:07:08.136939",
     "status": "completed"
    },
    "tags": []
   },
   "outputs": [
    {
     "data": {
      "text/plain": [
       "accuracy                   0.221558\n",
       "balanced accuracy          0.545091\n",
       "f1                         0.244188\n",
       "precision                  0.139464\n",
       "false positive rate        0.890092\n",
       "false negative rate        0.019725\n",
       "selection rate             0.901661\n",
       "count                  89710.000000\n",
       "dtype: float64"
      ]
     },
     "execution_count": 59,
     "metadata": {},
     "output_type": "execute_result"
    }
   ],
   "source": [
    "metric_frame.overall"
   ]
  },
  {
   "cell_type": "markdown",
   "id": "d93333c9",
   "metadata": {
    "papermill": {
     "duration": 0.013711,
     "end_time": "2025-08-19T19:07:08.199677",
     "exception": false,
     "start_time": "2025-08-19T19:07:08.185966",
     "status": "completed"
    },
    "tags": []
   },
   "source": [
    "By Group"
   ]
  },
  {
   "cell_type": "code",
   "execution_count": 60,
   "id": "52256966",
   "metadata": {
    "execution": {
     "iopub.execute_input": "2025-08-19T19:07:08.228240Z",
     "iopub.status.busy": "2025-08-19T19:07:08.227262Z",
     "iopub.status.idle": "2025-08-19T19:07:08.250345Z",
     "shell.execute_reply": "2025-08-19T19:07:08.249281Z"
    },
    "papermill": {
     "duration": 0.039379,
     "end_time": "2025-08-19T19:07:08.252600",
     "exception": false,
     "start_time": "2025-08-19T19:07:08.213221",
     "status": "completed"
    },
    "tags": []
   },
   "outputs": [
    {
     "data": {
      "text/html": [
       "<div>\n",
       "<style scoped>\n",
       "    .dataframe tbody tr th:only-of-type {\n",
       "        vertical-align: middle;\n",
       "    }\n",
       "\n",
       "    .dataframe tbody tr th {\n",
       "        vertical-align: top;\n",
       "    }\n",
       "\n",
       "    .dataframe thead th {\n",
       "        text-align: right;\n",
       "    }\n",
       "</style>\n",
       "<table border=\"1\" class=\"dataframe\">\n",
       "  <thead>\n",
       "    <tr style=\"text-align: right;\">\n",
       "      <th></th>\n",
       "      <th>accuracy</th>\n",
       "      <th>balanced accuracy</th>\n",
       "      <th>f1</th>\n",
       "      <th>precision</th>\n",
       "      <th>false positive rate</th>\n",
       "      <th>false negative rate</th>\n",
       "      <th>selection rate</th>\n",
       "      <th>count</th>\n",
       "    </tr>\n",
       "    <tr>\n",
       "      <th>majmin</th>\n",
       "      <th></th>\n",
       "      <th></th>\n",
       "      <th></th>\n",
       "      <th></th>\n",
       "      <th></th>\n",
       "      <th></th>\n",
       "      <th></th>\n",
       "      <th></th>\n",
       "    </tr>\n",
       "  </thead>\n",
       "  <tbody>\n",
       "    <tr>\n",
       "      <th>majority</th>\n",
       "      <td>0.227772</td>\n",
       "      <td>0.547306</td>\n",
       "      <td>0.251461</td>\n",
       "      <td>0.144200</td>\n",
       "      <td>0.887006</td>\n",
       "      <td>0.018381</td>\n",
       "      <td>0.899508</td>\n",
       "      <td>69170.0</td>\n",
       "    </tr>\n",
       "    <tr>\n",
       "      <th>minority</th>\n",
       "      <td>0.200633</td>\n",
       "      <td>0.537399</td>\n",
       "      <td>0.219518</td>\n",
       "      <td>0.123681</td>\n",
       "      <td>0.900286</td>\n",
       "      <td>0.024916</td>\n",
       "      <td>0.908909</td>\n",
       "      <td>20540.0</td>\n",
       "    </tr>\n",
       "  </tbody>\n",
       "</table>\n",
       "</div>"
      ],
      "text/plain": [
       "          accuracy  balanced accuracy        f1  precision  \\\n",
       "majmin                                                       \n",
       "majority  0.227772           0.547306  0.251461   0.144200   \n",
       "minority  0.200633           0.537399  0.219518   0.123681   \n",
       "\n",
       "          false positive rate  false negative rate  selection rate    count  \n",
       "majmin                                                                       \n",
       "majority             0.887006             0.018381        0.899508  69170.0  \n",
       "minority             0.900286             0.024916        0.908909  20540.0  "
      ]
     },
     "execution_count": 60,
     "metadata": {},
     "output_type": "execute_result"
    }
   ],
   "source": [
    "metric_frame.by_group"
   ]
  },
  {
   "cell_type": "code",
   "execution_count": 61,
   "id": "6e6c20ae",
   "metadata": {
    "execution": {
     "iopub.execute_input": "2025-08-19T19:07:08.299621Z",
     "iopub.status.busy": "2025-08-19T19:07:08.298497Z",
     "iopub.status.idle": "2025-08-19T19:07:10.282545Z",
     "shell.execute_reply": "2025-08-19T19:07:10.281565Z"
    },
    "papermill": {
     "duration": 2.005356,
     "end_time": "2025-08-19T19:07:10.283994",
     "exception": false,
     "start_time": "2025-08-19T19:07:08.278638",
     "status": "completed"
    },
    "tags": []
   },
   "outputs": [
    {
     "data": {
      "text/plain": [
       "array([[<Axes: title={'center': 'accuracy'}, xlabel='majmin'>,\n",
       "        <Axes: title={'center': 'balanced accuracy'}, xlabel='majmin'>,\n",
       "        <Axes: title={'center': 'f1'}, xlabel='majmin'>],\n",
       "       [<Axes: title={'center': 'precision'}, xlabel='majmin'>,\n",
       "        <Axes: title={'center': 'false positive rate'}, xlabel='majmin'>,\n",
       "        <Axes: title={'center': 'false negative rate'}, xlabel='majmin'>],\n",
       "       [<Axes: title={'center': 'selection rate'}, xlabel='majmin'>,\n",
       "        <Axes: title={'center': 'count'}, xlabel='majmin'>,\n",
       "        <Axes: xlabel='majmin'>]], dtype=object)"
      ]
     },
     "execution_count": 61,
     "metadata": {},
     "output_type": "execute_result"
    },
    {
     "data": {
      "image/png": "[encoded data removed]",
      "text/plain": [
       "<Figure size 1200x800 with 9 Axes>"
      ]
     },
     "metadata": {},
     "output_type": "display_data"
    }
   ],
   "source": [
    "# In a graphic\n",
    "metric_frame.by_group.plot.bar(\n",
    "    subplots=True,\n",
    "    layout=[3, 3],\n",
    "    legend=False,\n",
    "    figsize=[12, 8],\n",
    "    title=\"Show all metrics\",\n",
    ")"
   ]
  },
  {
   "cell_type": "markdown",
   "id": "b2e433ae",
   "metadata": {
    "papermill": {
     "duration": 0.013411,
     "end_time": "2025-08-19T19:07:10.312396",
     "exception": false,
     "start_time": "2025-08-19T19:07:10.298985",
     "status": "completed"
    },
    "tags": []
   },
   "source": [
    "# Final Output"
   ]
  },
  {
   "cell_type": "code",
   "execution_count": 62,
   "id": "3871301e",
   "metadata": {
    "execution": {
     "iopub.execute_input": "2025-08-19T19:07:10.344845Z",
     "iopub.status.busy": "2025-08-19T19:07:10.342319Z",
     "iopub.status.idle": "2025-08-19T19:07:10.363455Z",
     "shell.execute_reply": "2025-08-19T19:07:10.362611Z"
    },
    "papermill": {
     "duration": 0.039187,
     "end_time": "2025-08-19T19:07:10.365186",
     "exception": false,
     "start_time": "2025-08-19T19:07:10.325999",
     "status": "completed"
    },
    "tags": []
   },
   "outputs": [
    {
     "data": {
      "text/plain": [
       "4"
      ]
     },
     "execution_count": 62,
     "metadata": {},
     "output_type": "execute_result"
    }
   ],
   "source": [
    "sub_universes = universe_analysis.generate_sub_universes()\n",
    "len(sub_universes)"
   ]
  },
  {
   "cell_type": "code",
   "execution_count": 63,
   "id": "d9cfdaca",
   "metadata": {
    "execution": {
     "iopub.execute_input": "2025-08-19T19:07:10.397316Z",
     "iopub.status.busy": "2025-08-19T19:07:10.397027Z",
     "iopub.status.idle": "2025-08-19T19:07:10.404647Z",
     "shell.execute_reply": "2025-08-19T19:07:10.403511Z"
    },
    "papermill": {
     "duration": 0.023814,
     "end_time": "2025-08-19T19:07:10.406081",
     "exception": false,
     "start_time": "2025-08-19T19:07:10.382267",
     "status": "completed"
    },
    "tags": []
   },
   "outputs": [],
   "source": [
    "def filter_sub_universe_data(sub_universe, org_test):\n",
    "    # Keep all rows — no filtering\n",
    "    keep_rows_mask = np.ones(org_test.shape[0], dtype=bool)\n",
    "\n",
    "    print(f\"[INFO] Keeping all rows: {keep_rows_mask.sum()} rows retained.\")\n",
    "    return keep_rows_mask"
   ]
  },
  {
   "cell_type": "code",
   "execution_count": 64,
   "id": "2bc31ac1",
   "metadata": {
    "execution": {
     "iopub.execute_input": "2025-08-19T19:07:10.435141Z",
     "iopub.status.busy": "2025-08-19T19:07:10.434721Z",
     "iopub.status.idle": "2025-08-19T19:07:17.354796Z",
     "shell.execute_reply": "2025-08-19T19:07:17.353638Z"
    },
    "papermill": {
     "duration": 6.936316,
     "end_time": "2025-08-19T19:07:17.356157",
     "exception": false,
     "start_time": "2025-08-19T19:07:10.419841",
     "status": "completed"
    },
    "tags": []
   },
   "outputs": [
    {
     "name": "stdout",
     "output_type": "stream",
     "text": [
      "Stopping execution_time clock.\n",
      "[INFO] Keeping all rows: 89710 rows retained.\n"
     ]
    },
    {
     "name": "stdout",
     "output_type": "stream",
     "text": [
      "[INFO] Keeping all rows: 89710 rows retained.\n"
     ]
    },
    {
     "name": "stdout",
     "output_type": "stream",
     "text": [
      "[INFO] Keeping all rows: 89710 rows retained.\n"
     ]
    },
    {
     "name": "stdout",
     "output_type": "stream",
     "text": [
      "[INFO] Keeping all rows: 89710 rows retained.\n"
     ]
    },
    {
     "data": {
      "text/html": [
       "<div>\n",
       "<style scoped>\n",
       "    .dataframe tbody tr th:only-of-type {\n",
       "        vertical-align: middle;\n",
       "    }\n",
       "\n",
       "    .dataframe tbody tr th {\n",
       "        vertical-align: top;\n",
       "    }\n",
       "\n",
       "    .dataframe thead th {\n",
       "        text-align: right;\n",
       "    }\n",
       "</style>\n",
       "<table border=\"1\" class=\"dataframe\">\n",
       "  <thead>\n",
       "    <tr style=\"text-align: right;\">\n",
       "      <th></th>\n",
       "      <th>run_no</th>\n",
       "      <th>universe_id</th>\n",
       "      <th>universe_settings</th>\n",
       "      <th>execution_time</th>\n",
       "      <th>test_size_n</th>\n",
       "      <th>test_size_frac</th>\n",
       "      <th>fair_main_equalized_odds_difference</th>\n",
       "      <th>fair_main_equalized_odds_ratio</th>\n",
       "      <th>fair_main_demographic_parity_difference</th>\n",
       "      <th>fair_main_demographic_parity_ratio</th>\n",
       "      <th>...</th>\n",
       "      <th>perf_grp_precision_0</th>\n",
       "      <th>perf_grp_precision_1</th>\n",
       "      <th>perf_grp_false positive rate_0</th>\n",
       "      <th>perf_grp_false positive rate_1</th>\n",
       "      <th>perf_grp_false negative rate_0</th>\n",
       "      <th>perf_grp_false negative rate_1</th>\n",
       "      <th>perf_grp_selection rate_0</th>\n",
       "      <th>perf_grp_selection rate_1</th>\n",
       "      <th>perf_grp_count_0</th>\n",
       "      <th>perf_grp_count_1</th>\n",
       "    </tr>\n",
       "  </thead>\n",
       "  <tbody>\n",
       "    <tr>\n",
       "      <th>0</th>\n",
       "      <td>3</td>\n",
       "      <td>29bbfc090457b375162cd6d5988a0c0d</td>\n",
       "      <td>{\"cutoff\": \"quantile_0.1\", \"eval_fairness_grou...</td>\n",
       "      <td>28.107528</td>\n",
       "      <td>89710</td>\n",
       "      <td>1.0</td>\n",
       "      <td>0.01328</td>\n",
       "      <td>0.985250</td>\n",
       "      <td>0.009401</td>\n",
       "      <td>0.989657</td>\n",
       "      <td>...</td>\n",
       "      <td>NaN</td>\n",
       "      <td>NaN</td>\n",
       "      <td>NaN</td>\n",
       "      <td>NaN</td>\n",
       "      <td>NaN</td>\n",
       "      <td>NaN</td>\n",
       "      <td>NaN</td>\n",
       "      <td>NaN</td>\n",
       "      <td>NaN</td>\n",
       "      <td>NaN</td>\n",
       "    </tr>\n",
       "    <tr>\n",
       "      <th>0</th>\n",
       "      <td>3</td>\n",
       "      <td>29bbfc090457b375162cd6d5988a0c0d</td>\n",
       "      <td>{\"cutoff\": \"quantile_0.1\", \"eval_fairness_grou...</td>\n",
       "      <td>28.107528</td>\n",
       "      <td>89710</td>\n",
       "      <td>1.0</td>\n",
       "      <td>0.01328</td>\n",
       "      <td>0.985250</td>\n",
       "      <td>0.009401</td>\n",
       "      <td>0.989657</td>\n",
       "      <td>...</td>\n",
       "      <td>0.123681</td>\n",
       "      <td>0.144200</td>\n",
       "      <td>0.900286</td>\n",
       "      <td>0.887006</td>\n",
       "      <td>0.024916</td>\n",
       "      <td>0.018381</td>\n",
       "      <td>0.908909</td>\n",
       "      <td>0.899508</td>\n",
       "      <td>20540.0</td>\n",
       "      <td>69170.0</td>\n",
       "    </tr>\n",
       "    <tr>\n",
       "      <th>0</th>\n",
       "      <td>3</td>\n",
       "      <td>29bbfc090457b375162cd6d5988a0c0d</td>\n",
       "      <td>{\"cutoff\": \"quantile_0.25\", \"eval_fairness_gro...</td>\n",
       "      <td>28.107528</td>\n",
       "      <td>89710</td>\n",
       "      <td>1.0</td>\n",
       "      <td>0.05545</td>\n",
       "      <td>0.929932</td>\n",
       "      <td>0.043287</td>\n",
       "      <td>0.946319</td>\n",
       "      <td>...</td>\n",
       "      <td>NaN</td>\n",
       "      <td>NaN</td>\n",
       "      <td>NaN</td>\n",
       "      <td>NaN</td>\n",
       "      <td>NaN</td>\n",
       "      <td>NaN</td>\n",
       "      <td>NaN</td>\n",
       "      <td>NaN</td>\n",
       "      <td>NaN</td>\n",
       "      <td>NaN</td>\n",
       "    </tr>\n",
       "    <tr>\n",
       "      <th>0</th>\n",
       "      <td>3</td>\n",
       "      <td>29bbfc090457b375162cd6d5988a0c0d</td>\n",
       "      <td>{\"cutoff\": \"quantile_0.25\", \"eval_fairness_gro...</td>\n",
       "      <td>28.107528</td>\n",
       "      <td>89710</td>\n",
       "      <td>1.0</td>\n",
       "      <td>0.05545</td>\n",
       "      <td>0.929932</td>\n",
       "      <td>0.043287</td>\n",
       "      <td>0.946319</td>\n",
       "      <td>...</td>\n",
       "      <td>0.131739</td>\n",
       "      <td>0.163026</td>\n",
       "      <td>0.791382</td>\n",
       "      <td>0.735932</td>\n",
       "      <td>0.078547</td>\n",
       "      <td>0.058534</td>\n",
       "      <td>0.806378</td>\n",
       "      <td>0.763091</td>\n",
       "      <td>20540.0</td>\n",
       "      <td>69170.0</td>\n",
       "    </tr>\n",
       "  </tbody>\n",
       "</table>\n",
       "<p>4 rows × 50 columns</p>\n",
       "</div>"
      ],
      "text/plain": [
       "  run_no                       universe_id  \\\n",
       "0      3  29bbfc090457b375162cd6d5988a0c0d   \n",
       "0      3  29bbfc090457b375162cd6d5988a0c0d   \n",
       "0      3  29bbfc090457b375162cd6d5988a0c0d   \n",
       "0      3  29bbfc090457b375162cd6d5988a0c0d   \n",
       "\n",
       "                                   universe_settings  execution_time  \\\n",
       "0  {\"cutoff\": \"quantile_0.1\", \"eval_fairness_grou...       28.107528   \n",
       "0  {\"cutoff\": \"quantile_0.1\", \"eval_fairness_grou...       28.107528   \n",
       "0  {\"cutoff\": \"quantile_0.25\", \"eval_fairness_gro...       28.107528   \n",
       "0  {\"cutoff\": \"quantile_0.25\", \"eval_fairness_gro...       28.107528   \n",
       "\n",
       "   test_size_n  test_size_frac  fair_main_equalized_odds_difference  \\\n",
       "0        89710             1.0                              0.01328   \n",
       "0        89710             1.0                              0.01328   \n",
       "0        89710             1.0                              0.05545   \n",
       "0        89710             1.0                              0.05545   \n",
       "\n",
       "   fair_main_equalized_odds_ratio  fair_main_demographic_parity_difference  \\\n",
       "0                        0.985250                                 0.009401   \n",
       "0                        0.985250                                 0.009401   \n",
       "0                        0.929932                                 0.043287   \n",
       "0                        0.929932                                 0.043287   \n",
       "\n",
       "   fair_main_demographic_parity_ratio  ...  perf_grp_precision_0  \\\n",
       "0                            0.989657  ...                   NaN   \n",
       "0                            0.989657  ...              0.123681   \n",
       "0                            0.946319  ...                   NaN   \n",
       "0                            0.946319  ...              0.131739   \n",
       "\n",
       "   perf_grp_precision_1  perf_grp_false positive rate_0  \\\n",
       "0                   NaN                             NaN   \n",
       "0              0.144200                        0.900286   \n",
       "0                   NaN                             NaN   \n",
       "0              0.163026                        0.791382   \n",
       "\n",
       "   perf_grp_false positive rate_1  perf_grp_false negative rate_0  \\\n",
       "0                             NaN                             NaN   \n",
       "0                        0.887006                        0.024916   \n",
       "0                             NaN                             NaN   \n",
       "0                        0.735932                        0.078547   \n",
       "\n",
       "   perf_grp_false negative rate_1  perf_grp_selection rate_0  \\\n",
       "0                             NaN                        NaN   \n",
       "0                        0.018381                   0.908909   \n",
       "0                             NaN                        NaN   \n",
       "0                        0.058534                   0.806378   \n",
       "\n",
       "   perf_grp_selection rate_1  perf_grp_count_0  perf_grp_count_1  \n",
       "0                        NaN               NaN               NaN  \n",
       "0                   0.899508           20540.0           69170.0  \n",
       "0                        NaN               NaN               NaN  \n",
       "0                   0.763091           20540.0           69170.0  \n",
       "\n",
       "[4 rows x 50 columns]"
      ]
     },
     "execution_count": 64,
     "metadata": {},
     "output_type": "execute_result"
    }
   ],
   "source": [
    "final_output = universe_analysis.generate_final_output(\n",
    "    y_pred_prob=probs_test,\n",
    "    y_test=y_true,\n",
    "    org_test=org_test,\n",
    "    filter_data=filter_sub_universe_data,\n",
    "    cp_metrics_df=cp_metrics_df,\n",
    "    save=True,\n",
    ")\n",
    "final_output"
   ]
  },
  {
   "cell_type": "code",
   "execution_count": null,
   "id": "8b80a1ff",
   "metadata": {
    "papermill": {
     "duration": 0.014656,
     "end_time": "2025-08-19T19:07:17.388726",
     "exception": false,
     "start_time": "2025-08-19T19:07:17.374070",
     "status": "completed"
    },
    "tags": []
   },
   "outputs": [],
   "source": []
  },
  {
   "cell_type": "code",
   "execution_count": null,
   "id": "275c9fad",
   "metadata": {
    "papermill": {
     "duration": 0.014725,
     "end_time": "2025-08-19T19:07:17.418641",
     "exception": false,
     "start_time": "2025-08-19T19:07:17.403916",
     "status": "completed"
    },
    "tags": []
   },
   "outputs": [],
   "source": []
  }
 ],
 "metadata": {
  "celltoolbar": "Tags",
  "kernelspec": {
   "display_name": "Python (CMA Fairness)",
   "language": "python",
   "name": "cma_fair_env"
  },
  "language_info": {
   "codemirror_mode": {
    "name": "ipython",
    "version": 3
   },
   "file_extension": ".py",
   "mimetype": "text/x-python",
   "name": "python",
   "nbconvert_exporter": "python",
   "pygments_lexer": "ipython3",
   "version": "3.10.12"
  },
  "papermill": {
   "default_parameters": {},
   "duration": 38.807053,
   "end_time": "2025-08-19T19:07:18.258344",
   "environment_variables": {},
   "exception": null,
   "input_path": "universe_analysis.ipynb",
   "output_path": "output/runs/3/notebooks/m_3-29bbfc090457b375162cd6d5988a0c0d.ipynb",
   "parameters": {
    "output_dir": "output",
    "run_no": "3",
    "seed": "2023",
    "universe": "{\"cutoff\": [\"quantile_0.1\", \"quantile_0.25\"], \"eval_fairness_grouping\": [\"majority-minority\", \"nationality-all\"], \"exclude_features\": \"nationality-sex\", \"exclude_subgroups\": \"drop-non-german\", \"model\": \"rf\", \"scale\": \"scale\", \"training_size\": \"1k\", \"training_year\": \"2010_14\"}",
    "universe_id": "29bbfc090457b375162cd6d5988a0c0d"
   },
   "start_time": "2025-08-19T19:06:39.451291",
   "version": "2.6.0"
  }
 },
 "nbformat": 4,
 "nbformat_minor": 5
}