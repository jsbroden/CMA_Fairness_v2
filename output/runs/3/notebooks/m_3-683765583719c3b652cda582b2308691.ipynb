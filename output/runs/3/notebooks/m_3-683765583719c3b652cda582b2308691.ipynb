{
 "cells": [
  {
   "cell_type": "markdown",
   "id": "ef23dbb3",
   "metadata": {
    "papermill": {
     "duration": 0.020456,
     "end_time": "2025-08-19T18:57:25.763478",
     "exception": false,
     "start_time": "2025-08-19T18:57:25.743022",
     "status": "completed"
    },
    "tags": []
   },
   "source": [
    "# Setup"
   ]
  },
  {
   "cell_type": "code",
   "execution_count": 1,
   "id": "0bc8e7dc",
   "metadata": {
    "execution": {
     "iopub.execute_input": "2025-08-19T18:57:25.805775Z",
     "iopub.status.busy": "2025-08-19T18:57:25.805257Z",
     "iopub.status.idle": "2025-08-19T18:57:25.820547Z",
     "shell.execute_reply": "2025-08-19T18:57:25.819742Z"
    },
    "papermill": {
     "duration": 0.038657,
     "end_time": "2025-08-19T18:57:25.821988",
     "exception": false,
     "start_time": "2025-08-19T18:57:25.783331",
     "status": "completed"
    },
    "tags": []
   },
   "outputs": [
    {
     "name": "stdout",
     "output_type": "stream",
     "text": [
      "/dss/dsshome1/0C/ra93lal2/cma/CMA_Fairness_v2\n"
     ]
    },
    {
     "name": "stderr",
     "output_type": "stream",
     "text": [
      "/dss/dsshome1/0C/ra93lal2/.local/share/virtualenvs/CMA_Fairness_v2-3j10GkSs/lib/python3.10/site-packages/IPython/core/magics/osm.py:393: UserWarning: This is now an optional IPython functionality, using bookmarks requires you to install the `pickleshare` library.\n",
      "  bkms = self.shell.db.get('bookmarks', {})\n",
      "/dss/dsshome1/0C/ra93lal2/.local/share/virtualenvs/CMA_Fairness_v2-3j10GkSs/lib/python3.10/site-packages/IPython/core/magics/osm.py:417: UserWarning: This is now an optional IPython functionality, setting dhist requires you to install the `pickleshare` library.\n",
      "  self.shell.db['dhist'] = compress_dhist(dhist)[-100:]\n"
     ]
    }
   ],
   "source": [
    "%cd ~/cma/CMA_Fairness_v2"
   ]
  },
  {
   "cell_type": "markdown",
   "id": "9d235661",
   "metadata": {
    "papermill": {
     "duration": 0.021446,
     "end_time": "2025-08-19T18:57:25.865467",
     "exception": false,
     "start_time": "2025-08-19T18:57:25.844021",
     "status": "completed"
    },
    "tags": []
   },
   "source": [
    "The following cell holds the definition of our parameters, these values can be overriden by rendering the with e.g. the following command:\n",
    "\n",
    "papermill -p alpha 0.2 -p ratio 0.3 universe_analysis.ipynb output/test_run.ipynb"
   ]
  },
  {
   "cell_type": "code",
   "execution_count": 2,
   "id": "4a789d8e",
   "metadata": {
    "execution": {
     "iopub.execute_input": "2025-08-19T18:57:25.908366Z",
     "iopub.status.busy": "2025-08-19T18:57:25.907854Z",
     "iopub.status.idle": "2025-08-19T18:57:25.912312Z",
     "shell.execute_reply": "2025-08-19T18:57:25.911724Z"
    },
    "papermill": {
     "duration": 0.029322,
     "end_time": "2025-08-19T18:57:25.914729",
     "exception": false,
     "start_time": "2025-08-19T18:57:25.885407",
     "status": "completed"
    },
    "tags": []
   },
   "outputs": [
    {
     "name": "stdout",
     "output_type": "stream",
     "text": [
      "Current working directory: /dss/dsshome1/0C/ra93lal2/cma/CMA_Fairness_v2\n"
     ]
    }
   ],
   "source": [
    "import os\n",
    "print(\"Current working directory:\", os.getcwd())"
   ]
  },
  {
   "cell_type": "code",
   "execution_count": 3,
   "id": "4132aaed",
   "metadata": {
    "execution": {
     "iopub.execute_input": "2025-08-19T18:57:25.945242Z",
     "iopub.status.busy": "2025-08-19T18:57:25.944810Z",
     "iopub.status.idle": "2025-08-19T18:57:25.949663Z",
     "shell.execute_reply": "2025-08-19T18:57:25.949055Z"
    },
    "papermill": {
     "duration": 0.016925,
     "end_time": "2025-08-19T18:57:25.951372",
     "exception": false,
     "start_time": "2025-08-19T18:57:25.934447",
     "status": "completed"
    },
    "tags": [
     "parameters"
    ]
   },
   "outputs": [],
   "source": [
    "run_no = 0\n",
    "universe_id = \"test\"\n",
    "universe = {\n",
    "    \"training_size\": \"5k\", # \"25k\", \"5k\", \"1k\"\n",
    "    \"training_year\": \"2012_14\", # \"2014\", \"2012_14\", \"2010_14\"\n",
    "    \"scale\": \"scale\", # \"scale\", \"do-not-scale\",\n",
    "    \"model\": \"elasticnet\", # \"logreg\", \"penalized_logreg\", \"rf\", \"gbm\", \"elasticnet\"\n",
    "    \"cutoff\": [\"quantile_0.15\", \"quantile_0.30\"],\n",
    "    \"exclude_features\": \"age\", # \"none\", \"nationality\", \"sex\", \"nationality-sex\", \"age\"\n",
    "    \"exclude_subgroups\": \"drop-non-german\", # \"keep-all\", \"drop-non-german\"\n",
    "    \"eval_fairness_grouping\": [\"majority-minority\", \"nationality-all\"]\n",
    "}\n",
    "\n",
    "output_dir=\"./output\"\n",
    "seed=0"
   ]
  },
  {
   "cell_type": "code",
   "execution_count": 4,
   "id": "9894155d",
   "metadata": {
    "execution": {
     "iopub.execute_input": "2025-08-19T18:57:25.976083Z",
     "iopub.status.busy": "2025-08-19T18:57:25.975622Z",
     "iopub.status.idle": "2025-08-19T18:57:25.979843Z",
     "shell.execute_reply": "2025-08-19T18:57:25.979110Z"
    },
    "papermill": {
     "duration": 0.016237,
     "end_time": "2025-08-19T18:57:25.981762",
     "exception": false,
     "start_time": "2025-08-19T18:57:25.965525",
     "status": "completed"
    },
    "tags": [
     "injected-parameters"
    ]
   },
   "outputs": [],
   "source": [
    "# Parameters\n",
    "universe_id = \"683765583719c3b652cda582b2308691\"\n",
    "run_no = \"3\"\n",
    "universe = \"{\\\"cutoff\\\": [\\\"quantile_0.1\\\", \\\"quantile_0.25\\\"], \\\"eval_fairness_grouping\\\": [\\\"majority-minority\\\", \\\"nationality-all\\\"], \\\"exclude_features\\\": \\\"nationality\\\", \\\"exclude_subgroups\\\": \\\"keep-all\\\", \\\"model\\\": \\\"penalized_logreg\\\", \\\"scale\\\": \\\"scale\\\", \\\"training_size\\\": \\\"1k\\\", \\\"training_year\\\": \\\"2012_14\\\"}\"\n",
    "output_dir = \"output\"\n",
    "seed = \"2023\"\n"
   ]
  },
  {
   "cell_type": "code",
   "execution_count": 5,
   "id": "a5d7941f",
   "metadata": {
    "execution": {
     "iopub.execute_input": "2025-08-19T18:57:26.002104Z",
     "iopub.status.busy": "2025-08-19T18:57:26.001688Z",
     "iopub.status.idle": "2025-08-19T18:57:26.005752Z",
     "shell.execute_reply": "2025-08-19T18:57:26.005165Z"
    },
    "papermill": {
     "duration": 0.015855,
     "end_time": "2025-08-19T18:57:26.007416",
     "exception": false,
     "start_time": "2025-08-19T18:57:25.991561",
     "status": "completed"
    },
    "tags": []
   },
   "outputs": [],
   "source": [
    "import json\n",
    "if isinstance(universe, str):\n",
    "    universe = json.loads(universe)"
   ]
  },
  {
   "cell_type": "code",
   "execution_count": 6,
   "id": "7076ccb1",
   "metadata": {
    "execution": {
     "iopub.execute_input": "2025-08-19T18:57:26.027450Z",
     "iopub.status.busy": "2025-08-19T18:57:26.027041Z",
     "iopub.status.idle": "2025-08-19T18:57:26.062381Z",
     "shell.execute_reply": "2025-08-19T18:57:26.061395Z"
    },
    "papermill": {
     "duration": 0.048345,
     "end_time": "2025-08-19T18:57:26.065581",
     "exception": false,
     "start_time": "2025-08-19T18:57:26.017236",
     "status": "completed"
    },
    "tags": []
   },
   "outputs": [],
   "source": [
    "# Auto-reload the custom package\n",
    "%load_ext autoreload\n",
    "%autoreload 1\n",
    "%aimport fairness_multiverse"
   ]
  },
  {
   "cell_type": "code",
   "execution_count": 7,
   "id": "94c8eb93",
   "metadata": {
    "execution": {
     "iopub.execute_input": "2025-08-19T18:57:26.099772Z",
     "iopub.status.busy": "2025-08-19T18:57:26.098887Z",
     "iopub.status.idle": "2025-08-19T18:57:27.775343Z",
     "shell.execute_reply": "2025-08-19T18:57:27.774522Z"
    },
    "papermill": {
     "duration": 1.691096,
     "end_time": "2025-08-19T18:57:27.777135",
     "exception": false,
     "start_time": "2025-08-19T18:57:26.086039",
     "status": "completed"
    },
    "tags": []
   },
   "outputs": [],
   "source": [
    "from fairness_multiverse.universe import UniverseAnalysis\n",
    "\n",
    "universe_analysis = UniverseAnalysis(\n",
    "    run_no = run_no,\n",
    "    universe_id = universe_id,\n",
    "    universe = universe,\n",
    "    output_dir=output_dir,\n",
    ")"
   ]
  },
  {
   "cell_type": "code",
   "execution_count": 8,
   "id": "2a6381cf",
   "metadata": {
    "execution": {
     "iopub.execute_input": "2025-08-19T18:57:27.812752Z",
     "iopub.status.busy": "2025-08-19T18:57:27.797838Z",
     "iopub.status.idle": "2025-08-19T18:57:27.819364Z",
     "shell.execute_reply": "2025-08-19T18:57:27.818490Z"
    },
    "papermill": {
     "duration": 0.033615,
     "end_time": "2025-08-19T18:57:27.821013",
     "exception": false,
     "start_time": "2025-08-19T18:57:27.787398",
     "status": "completed"
    },
    "tags": []
   },
   "outputs": [
    {
     "name": "stdout",
     "output_type": "stream",
     "text": [
      "Using Seed: 2023\n"
     ]
    }
   ],
   "source": [
    "import numpy as np\n",
    "parsed_seed = int(seed)\n",
    "np.random.seed(parsed_seed)\n",
    "print(f\"Using Seed: {parsed_seed}\")"
   ]
  },
  {
   "cell_type": "markdown",
   "id": "b6e958b4",
   "metadata": {
    "papermill": {
     "duration": 0.009296,
     "end_time": "2025-08-19T18:57:27.840318",
     "exception": false,
     "start_time": "2025-08-19T18:57:27.831022",
     "status": "completed"
    },
    "tags": []
   },
   "source": [
    "# Loading Data"
   ]
  },
  {
   "cell_type": "code",
   "execution_count": 9,
   "id": "98701482",
   "metadata": {
    "execution": {
     "iopub.execute_input": "2025-08-19T18:57:27.861118Z",
     "iopub.status.busy": "2025-08-19T18:57:27.860378Z",
     "iopub.status.idle": "2025-08-19T18:57:37.725177Z",
     "shell.execute_reply": "2025-08-19T18:57:37.712387Z"
    },
    "papermill": {
     "duration": 9.877624,
     "end_time": "2025-08-19T18:57:37.727302",
     "exception": false,
     "start_time": "2025-08-19T18:57:27.849678",
     "status": "completed"
    },
    "tags": []
   },
   "outputs": [
    {
     "name": "stdout",
     "output_type": "stream",
     "text": [
      "Loading SIAB data from cache: data/siab_cached.csv.gz\n"
     ]
    },
    {
     "name": "stdout",
     "output_type": "stream",
     "text": [
      "(643690, 164)\n"
     ]
    }
   ],
   "source": [
    "from pathlib import Path\n",
    "import pandas as pd\n",
    "\n",
    "# File paths\n",
    "raw_file = Path(\"data/raw/siab.csv\")\n",
    "cache_file = Path(\"data/siab_cached.csv.gz\")\n",
    "\n",
    "# Ensure cache directory exists\n",
    "cache_file.parent.mkdir(parents=True, exist_ok=True)\n",
    "\n",
    "# Load with simple caching\n",
    "if cache_file.exists():\n",
    "    print(f\"Loading SIAB data from cache: {cache_file}\")\n",
    "    siab = pd.read_csv(cache_file, compression='gzip')\n",
    "else:\n",
    "    print(f\"Cache not found. Reading raw SIAB data: {raw_file}\")\n",
    "    siab = pd.read_csv(raw_file)\n",
    "    siab.to_csv(cache_file, index=False, compression='gzip')\n",
    "    print(f\"Cached SIAB data to: {cache_file}\")\n",
    "\n",
    "print(siab.shape)"
   ]
  },
  {
   "cell_type": "code",
   "execution_count": 10,
   "id": "058d2abb",
   "metadata": {
    "execution": {
     "iopub.execute_input": "2025-08-19T18:57:37.761581Z",
     "iopub.status.busy": "2025-08-19T18:57:37.754740Z",
     "iopub.status.idle": "2025-08-19T18:57:37.979096Z",
     "shell.execute_reply": "2025-08-19T18:57:37.978117Z"
    },
    "papermill": {
     "duration": 0.237983,
     "end_time": "2025-08-19T18:57:37.980385",
     "exception": false,
     "start_time": "2025-08-19T18:57:37.742402",
     "status": "completed"
    },
    "tags": []
   },
   "outputs": [
    {
     "data": {
      "text/html": [
       "<div>\n",
       "<style scoped>\n",
       "    .dataframe tbody tr th:only-of-type {\n",
       "        vertical-align: middle;\n",
       "    }\n",
       "\n",
       "    .dataframe tbody tr th {\n",
       "        vertical-align: top;\n",
       "    }\n",
       "\n",
       "    .dataframe thead th {\n",
       "        text-align: right;\n",
       "    }\n",
       "</style>\n",
       "<table border=\"1\" class=\"dataframe\">\n",
       "  <thead>\n",
       "    <tr style=\"text-align: right;\">\n",
       "      <th></th>\n",
       "      <th>persnr</th>\n",
       "      <th>year</th>\n",
       "      <th>nrEntry</th>\n",
       "      <th>ltue</th>\n",
       "      <th>employed_before</th>\n",
       "      <th>receipt_leh_before</th>\n",
       "      <th>receipt_lhg_before</th>\n",
       "      <th>se_before</th>\n",
       "      <th>ASU_notue_seeking_before</th>\n",
       "      <th>ASU_other_before</th>\n",
       "      <th>...</th>\n",
       "      <th>minijob_tot_dur_byage</th>\n",
       "      <th>ft_tot_dur_byage</th>\n",
       "      <th>befrist_tot_dur_byage</th>\n",
       "      <th>leih_tot_dur_byage</th>\n",
       "      <th>LHG_tot_dur_byage</th>\n",
       "      <th>LEH_tot_dur_byage</th>\n",
       "      <th>almp_tot_dur_byage</th>\n",
       "      <th>almp_aw_tot_dur_byage</th>\n",
       "      <th>se_tot_dur_byage</th>\n",
       "      <th>seeking1_tot_dur_byage</th>\n",
       "    </tr>\n",
       "  </thead>\n",
       "  <tbody>\n",
       "    <tr>\n",
       "      <th>0</th>\n",
       "      <td>7</td>\n",
       "      <td>2015</td>\n",
       "      <td>1</td>\n",
       "      <td>0</td>\n",
       "      <td>1</td>\n",
       "      <td>0</td>\n",
       "      <td>0</td>\n",
       "      <td>0</td>\n",
       "      <td>1</td>\n",
       "      <td>0</td>\n",
       "      <td>...</td>\n",
       "      <td>0.000000</td>\n",
       "      <td>0.000000</td>\n",
       "      <td>15.043478</td>\n",
       "      <td>0.000000</td>\n",
       "      <td>0.000000</td>\n",
       "      <td>0.000000</td>\n",
       "      <td>0.000000</td>\n",
       "      <td>0.000000</td>\n",
       "      <td>0.000000</td>\n",
       "      <td>0.000000</td>\n",
       "    </tr>\n",
       "    <tr>\n",
       "      <th>1</th>\n",
       "      <td>18</td>\n",
       "      <td>2010</td>\n",
       "      <td>1</td>\n",
       "      <td>1</td>\n",
       "      <td>0</td>\n",
       "      <td>0</td>\n",
       "      <td>0</td>\n",
       "      <td>0</td>\n",
       "      <td>0</td>\n",
       "      <td>0</td>\n",
       "      <td>...</td>\n",
       "      <td>0.000000</td>\n",
       "      <td>0.000000</td>\n",
       "      <td>0.000000</td>\n",
       "      <td>0.000000</td>\n",
       "      <td>0.000000</td>\n",
       "      <td>0.000000</td>\n",
       "      <td>0.000000</td>\n",
       "      <td>0.000000</td>\n",
       "      <td>0.000000</td>\n",
       "      <td>0.000000</td>\n",
       "    </tr>\n",
       "    <tr>\n",
       "      <th>2</th>\n",
       "      <td>18</td>\n",
       "      <td>2011</td>\n",
       "      <td>2</td>\n",
       "      <td>0</td>\n",
       "      <td>1</td>\n",
       "      <td>0</td>\n",
       "      <td>1</td>\n",
       "      <td>0</td>\n",
       "      <td>1</td>\n",
       "      <td>0</td>\n",
       "      <td>...</td>\n",
       "      <td>2.714286</td>\n",
       "      <td>2.714286</td>\n",
       "      <td>0.000000</td>\n",
       "      <td>0.000000</td>\n",
       "      <td>10.775510</td>\n",
       "      <td>0.000000</td>\n",
       "      <td>8.367347</td>\n",
       "      <td>0.000000</td>\n",
       "      <td>0.000000</td>\n",
       "      <td>9.836735</td>\n",
       "    </tr>\n",
       "    <tr>\n",
       "      <th>3</th>\n",
       "      <td>18</td>\n",
       "      <td>2012</td>\n",
       "      <td>3</td>\n",
       "      <td>0</td>\n",
       "      <td>1</td>\n",
       "      <td>0</td>\n",
       "      <td>1</td>\n",
       "      <td>0</td>\n",
       "      <td>1</td>\n",
       "      <td>0</td>\n",
       "      <td>...</td>\n",
       "      <td>4.200000</td>\n",
       "      <td>4.200000</td>\n",
       "      <td>0.000000</td>\n",
       "      <td>0.000000</td>\n",
       "      <td>12.100000</td>\n",
       "      <td>0.000000</td>\n",
       "      <td>9.400000</td>\n",
       "      <td>0.000000</td>\n",
       "      <td>0.000000</td>\n",
       "      <td>9.960000</td>\n",
       "    </tr>\n",
       "    <tr>\n",
       "      <th>4</th>\n",
       "      <td>18</td>\n",
       "      <td>2012</td>\n",
       "      <td>4</td>\n",
       "      <td>0</td>\n",
       "      <td>1</td>\n",
       "      <td>0</td>\n",
       "      <td>1</td>\n",
       "      <td>0</td>\n",
       "      <td>1</td>\n",
       "      <td>0</td>\n",
       "      <td>...</td>\n",
       "      <td>5.460000</td>\n",
       "      <td>5.460000</td>\n",
       "      <td>0.000000</td>\n",
       "      <td>0.000000</td>\n",
       "      <td>13.360000</td>\n",
       "      <td>0.000000</td>\n",
       "      <td>10.320000</td>\n",
       "      <td>0.000000</td>\n",
       "      <td>0.000000</td>\n",
       "      <td>10.280000</td>\n",
       "    </tr>\n",
       "    <tr>\n",
       "      <th>...</th>\n",
       "      <td>...</td>\n",
       "      <td>...</td>\n",
       "      <td>...</td>\n",
       "      <td>...</td>\n",
       "      <td>...</td>\n",
       "      <td>...</td>\n",
       "      <td>...</td>\n",
       "      <td>...</td>\n",
       "      <td>...</td>\n",
       "      <td>...</td>\n",
       "      <td>...</td>\n",
       "      <td>...</td>\n",
       "      <td>...</td>\n",
       "      <td>...</td>\n",
       "      <td>...</td>\n",
       "      <td>...</td>\n",
       "      <td>...</td>\n",
       "      <td>...</td>\n",
       "      <td>...</td>\n",
       "      <td>...</td>\n",
       "      <td>...</td>\n",
       "    </tr>\n",
       "    <tr>\n",
       "      <th>643685</th>\n",
       "      <td>1827860</td>\n",
       "      <td>2013</td>\n",
       "      <td>1</td>\n",
       "      <td>0</td>\n",
       "      <td>0</td>\n",
       "      <td>0</td>\n",
       "      <td>1</td>\n",
       "      <td>0</td>\n",
       "      <td>0</td>\n",
       "      <td>1</td>\n",
       "      <td>...</td>\n",
       "      <td>0.000000</td>\n",
       "      <td>0.000000</td>\n",
       "      <td>0.000000</td>\n",
       "      <td>0.000000</td>\n",
       "      <td>0.612903</td>\n",
       "      <td>0.000000</td>\n",
       "      <td>0.000000</td>\n",
       "      <td>0.000000</td>\n",
       "      <td>0.000000</td>\n",
       "      <td>0.000000</td>\n",
       "    </tr>\n",
       "    <tr>\n",
       "      <th>643686</th>\n",
       "      <td>1827860</td>\n",
       "      <td>2015</td>\n",
       "      <td>2</td>\n",
       "      <td>1</td>\n",
       "      <td>0</td>\n",
       "      <td>0</td>\n",
       "      <td>1</td>\n",
       "      <td>0</td>\n",
       "      <td>1</td>\n",
       "      <td>0</td>\n",
       "      <td>...</td>\n",
       "      <td>0.000000</td>\n",
       "      <td>0.000000</td>\n",
       "      <td>0.212121</td>\n",
       "      <td>0.212121</td>\n",
       "      <td>17.363636</td>\n",
       "      <td>0.000000</td>\n",
       "      <td>8.909091</td>\n",
       "      <td>0.000000</td>\n",
       "      <td>0.000000</td>\n",
       "      <td>7.121212</td>\n",
       "    </tr>\n",
       "    <tr>\n",
       "      <th>643687</th>\n",
       "      <td>1827860</td>\n",
       "      <td>2016</td>\n",
       "      <td>3</td>\n",
       "      <td>1</td>\n",
       "      <td>0</td>\n",
       "      <td>0</td>\n",
       "      <td>1</td>\n",
       "      <td>1</td>\n",
       "      <td>0</td>\n",
       "      <td>1</td>\n",
       "      <td>...</td>\n",
       "      <td>0.000000</td>\n",
       "      <td>0.000000</td>\n",
       "      <td>0.294118</td>\n",
       "      <td>0.205882</td>\n",
       "      <td>34.705882</td>\n",
       "      <td>0.000000</td>\n",
       "      <td>10.352941</td>\n",
       "      <td>1.705882</td>\n",
       "      <td>1.705882</td>\n",
       "      <td>23.911765</td>\n",
       "    </tr>\n",
       "    <tr>\n",
       "      <th>643688</th>\n",
       "      <td>1827869</td>\n",
       "      <td>2013</td>\n",
       "      <td>1</td>\n",
       "      <td>1</td>\n",
       "      <td>1</td>\n",
       "      <td>0</td>\n",
       "      <td>0</td>\n",
       "      <td>0</td>\n",
       "      <td>1</td>\n",
       "      <td>0</td>\n",
       "      <td>...</td>\n",
       "      <td>0.000000</td>\n",
       "      <td>0.000000</td>\n",
       "      <td>0.000000</td>\n",
       "      <td>0.000000</td>\n",
       "      <td>0.000000</td>\n",
       "      <td>0.525424</td>\n",
       "      <td>0.000000</td>\n",
       "      <td>0.000000</td>\n",
       "      <td>0.000000</td>\n",
       "      <td>0.000000</td>\n",
       "    </tr>\n",
       "    <tr>\n",
       "      <th>643689</th>\n",
       "      <td>1827869</td>\n",
       "      <td>2014</td>\n",
       "      <td>2</td>\n",
       "      <td>0</td>\n",
       "      <td>0</td>\n",
       "      <td>1</td>\n",
       "      <td>0</td>\n",
       "      <td>0</td>\n",
       "      <td>1</td>\n",
       "      <td>0</td>\n",
       "      <td>...</td>\n",
       "      <td>0.000000</td>\n",
       "      <td>0.666667</td>\n",
       "      <td>0.666667</td>\n",
       "      <td>0.000000</td>\n",
       "      <td>0.000000</td>\n",
       "      <td>8.950000</td>\n",
       "      <td>1.033333</td>\n",
       "      <td>0.083333</td>\n",
       "      <td>0.083333</td>\n",
       "      <td>8.133333</td>\n",
       "    </tr>\n",
       "  </tbody>\n",
       "</table>\n",
       "<p>643690 rows × 164 columns</p>\n",
       "</div>"
      ],
      "text/plain": [
       "         persnr  year  nrEntry  ltue  employed_before  receipt_leh_before  \\\n",
       "0             7  2015        1     0                1                   0   \n",
       "1            18  2010        1     1                0                   0   \n",
       "2            18  2011        2     0                1                   0   \n",
       "3            18  2012        3     0                1                   0   \n",
       "4            18  2012        4     0                1                   0   \n",
       "...         ...   ...      ...   ...              ...                 ...   \n",
       "643685  1827860  2013        1     0                0                   0   \n",
       "643686  1827860  2015        2     1                0                   0   \n",
       "643687  1827860  2016        3     1                0                   0   \n",
       "643688  1827869  2013        1     1                1                   0   \n",
       "643689  1827869  2014        2     0                0                   1   \n",
       "\n",
       "        receipt_lhg_before  se_before  ASU_notue_seeking_before  \\\n",
       "0                        0          0                         1   \n",
       "1                        0          0                         0   \n",
       "2                        1          0                         1   \n",
       "3                        1          0                         1   \n",
       "4                        1          0                         1   \n",
       "...                    ...        ...                       ...   \n",
       "643685                   1          0                         0   \n",
       "643686                   1          0                         1   \n",
       "643687                   1          1                         0   \n",
       "643688                   0          0                         1   \n",
       "643689                   0          0                         1   \n",
       "\n",
       "        ASU_other_before  ...  minijob_tot_dur_byage  ft_tot_dur_byage  \\\n",
       "0                      0  ...               0.000000          0.000000   \n",
       "1                      0  ...               0.000000          0.000000   \n",
       "2                      0  ...               2.714286          2.714286   \n",
       "3                      0  ...               4.200000          4.200000   \n",
       "4                      0  ...               5.460000          5.460000   \n",
       "...                  ...  ...                    ...               ...   \n",
       "643685                 1  ...               0.000000          0.000000   \n",
       "643686                 0  ...               0.000000          0.000000   \n",
       "643687                 1  ...               0.000000          0.000000   \n",
       "643688                 0  ...               0.000000          0.000000   \n",
       "643689                 0  ...               0.000000          0.666667   \n",
       "\n",
       "        befrist_tot_dur_byage  leih_tot_dur_byage  LHG_tot_dur_byage  \\\n",
       "0                   15.043478            0.000000           0.000000   \n",
       "1                    0.000000            0.000000           0.000000   \n",
       "2                    0.000000            0.000000          10.775510   \n",
       "3                    0.000000            0.000000          12.100000   \n",
       "4                    0.000000            0.000000          13.360000   \n",
       "...                       ...                 ...                ...   \n",
       "643685               0.000000            0.000000           0.612903   \n",
       "643686               0.212121            0.212121          17.363636   \n",
       "643687               0.294118            0.205882          34.705882   \n",
       "643688               0.000000            0.000000           0.000000   \n",
       "643689               0.666667            0.000000           0.000000   \n",
       "\n",
       "        LEH_tot_dur_byage  almp_tot_dur_byage  almp_aw_tot_dur_byage  \\\n",
       "0                0.000000            0.000000               0.000000   \n",
       "1                0.000000            0.000000               0.000000   \n",
       "2                0.000000            8.367347               0.000000   \n",
       "3                0.000000            9.400000               0.000000   \n",
       "4                0.000000           10.320000               0.000000   \n",
       "...                   ...                 ...                    ...   \n",
       "643685           0.000000            0.000000               0.000000   \n",
       "643686           0.000000            8.909091               0.000000   \n",
       "643687           0.000000           10.352941               1.705882   \n",
       "643688           0.525424            0.000000               0.000000   \n",
       "643689           8.950000            1.033333               0.083333   \n",
       "\n",
       "        se_tot_dur_byage  seeking1_tot_dur_byage  \n",
       "0               0.000000                0.000000  \n",
       "1               0.000000                0.000000  \n",
       "2               0.000000                9.836735  \n",
       "3               0.000000                9.960000  \n",
       "4               0.000000               10.280000  \n",
       "...                  ...                     ...  \n",
       "643685          0.000000                0.000000  \n",
       "643686          0.000000                7.121212  \n",
       "643687          1.705882               23.911765  \n",
       "643688          0.000000                0.000000  \n",
       "643689          0.083333                8.133333  \n",
       "\n",
       "[643690 rows x 164 columns]"
      ]
     },
     "execution_count": 10,
     "metadata": {},
     "output_type": "execute_result"
    }
   ],
   "source": [
    "siab"
   ]
  },
  {
   "cell_type": "markdown",
   "id": "1f87e805",
   "metadata": {
    "papermill": {
     "duration": 0.020116,
     "end_time": "2025-08-19T18:57:38.013568",
     "exception": false,
     "start_time": "2025-08-19T18:57:37.993452",
     "status": "completed"
    },
    "tags": []
   },
   "source": [
    "# Splitting Data and Setting Training Data Size"
   ]
  },
  {
   "cell_type": "code",
   "execution_count": 11,
   "id": "910ae358",
   "metadata": {
    "execution": {
     "iopub.execute_input": "2025-08-19T18:57:38.053740Z",
     "iopub.status.busy": "2025-08-19T18:57:38.052432Z",
     "iopub.status.idle": "2025-08-19T18:57:38.688796Z",
     "shell.execute_reply": "2025-08-19T18:57:38.688020Z"
    },
    "papermill": {
     "duration": 0.652801,
     "end_time": "2025-08-19T18:57:38.690336",
     "exception": false,
     "start_time": "2025-08-19T18:57:38.037535",
     "status": "completed"
    },
    "tags": []
   },
   "outputs": [],
   "source": [
    "from fairness_multiverse.universe import sample_by_year_size\n",
    "\n",
    "siab_train = sample_by_year_size(siab,\n",
    "                               training_year=universe[\"training_year\"],\n",
    "                               training_size=universe[\"training_size\"])"
   ]
  },
  {
   "cell_type": "code",
   "execution_count": 12,
   "id": "919c8ff5",
   "metadata": {
    "execution": {
     "iopub.execute_input": "2025-08-19T18:57:38.717391Z",
     "iopub.status.busy": "2025-08-19T18:57:38.715724Z",
     "iopub.status.idle": "2025-08-19T18:57:38.724707Z",
     "shell.execute_reply": "2025-08-19T18:57:38.723330Z"
    },
    "papermill": {
     "duration": 0.033203,
     "end_time": "2025-08-19T18:57:38.735846",
     "exception": false,
     "start_time": "2025-08-19T18:57:38.702643",
     "status": "completed"
    },
    "tags": []
   },
   "outputs": [
    {
     "data": {
      "text/plain": [
       "(1000, 164)"
      ]
     },
     "execution_count": 12,
     "metadata": {},
     "output_type": "execute_result"
    }
   ],
   "source": [
    "siab_train.shape"
   ]
  },
  {
   "cell_type": "code",
   "execution_count": 13,
   "id": "feb13bf4",
   "metadata": {
    "execution": {
     "iopub.execute_input": "2025-08-19T18:57:38.762489Z",
     "iopub.status.busy": "2025-08-19T18:57:38.762078Z",
     "iopub.status.idle": "2025-08-19T18:57:38.776597Z",
     "shell.execute_reply": "2025-08-19T18:57:38.775820Z"
    },
    "papermill": {
     "duration": 0.027045,
     "end_time": "2025-08-19T18:57:38.777778",
     "exception": false,
     "start_time": "2025-08-19T18:57:38.750733",
     "status": "completed"
    },
    "tags": []
   },
   "outputs": [
    {
     "data": {
      "text/plain": [
       "year\n",
       "2012    334\n",
       "2013    333\n",
       "2014    333\n",
       "dtype: int64"
      ]
     },
     "metadata": {},
     "output_type": "display_data"
    }
   ],
   "source": [
    "display(siab_train.groupby(\"year\").size())"
   ]
  },
  {
   "cell_type": "code",
   "execution_count": 14,
   "id": "0997782f",
   "metadata": {
    "execution": {
     "iopub.execute_input": "2025-08-19T18:57:38.801724Z",
     "iopub.status.busy": "2025-08-19T18:57:38.801241Z",
     "iopub.status.idle": "2025-08-19T18:57:39.073257Z",
     "shell.execute_reply": "2025-08-19T18:57:39.072512Z"
    },
    "papermill": {
     "duration": 0.28674,
     "end_time": "2025-08-19T18:57:39.074707",
     "exception": false,
     "start_time": "2025-08-19T18:57:38.787967",
     "status": "completed"
    },
    "tags": []
   },
   "outputs": [],
   "source": [
    "#siab_train = siab_s[siab_s.year < 2015]\n",
    "siab_calib = siab[siab.year == 2015]\n",
    "siab_test = siab[siab.year == 2016]"
   ]
  },
  {
   "cell_type": "code",
   "execution_count": 15,
   "id": "2c1e4012",
   "metadata": {
    "execution": {
     "iopub.execute_input": "2025-08-19T18:57:39.104523Z",
     "iopub.status.busy": "2025-08-19T18:57:39.103801Z",
     "iopub.status.idle": "2025-08-19T18:57:39.113550Z",
     "shell.execute_reply": "2025-08-19T18:57:39.112632Z"
    },
    "papermill": {
     "duration": 0.029765,
     "end_time": "2025-08-19T18:57:39.117932",
     "exception": false,
     "start_time": "2025-08-19T18:57:39.088167",
     "status": "completed"
    },
    "tags": []
   },
   "outputs": [],
   "source": [
    "#siab_calib.shape"
   ]
  },
  {
   "cell_type": "code",
   "execution_count": 16,
   "id": "f66b54ca",
   "metadata": {
    "execution": {
     "iopub.execute_input": "2025-08-19T18:57:39.144146Z",
     "iopub.status.busy": "2025-08-19T18:57:39.143492Z",
     "iopub.status.idle": "2025-08-19T18:57:39.150567Z",
     "shell.execute_reply": "2025-08-19T18:57:39.149410Z"
    },
    "papermill": {
     "duration": 0.023462,
     "end_time": "2025-08-19T18:57:39.152098",
     "exception": false,
     "start_time": "2025-08-19T18:57:39.128636",
     "status": "completed"
    },
    "tags": []
   },
   "outputs": [],
   "source": [
    "#siab_test.shape"
   ]
  },
  {
   "cell_type": "code",
   "execution_count": 17,
   "id": "27e4384d",
   "metadata": {
    "execution": {
     "iopub.execute_input": "2025-08-19T18:57:39.180118Z",
     "iopub.status.busy": "2025-08-19T18:57:39.179381Z",
     "iopub.status.idle": "2025-08-19T18:57:39.298991Z",
     "shell.execute_reply": "2025-08-19T18:57:39.297632Z"
    },
    "papermill": {
     "duration": 0.134932,
     "end_time": "2025-08-19T18:57:39.301165",
     "exception": false,
     "start_time": "2025-08-19T18:57:39.166233",
     "status": "completed"
    },
    "tags": []
   },
   "outputs": [],
   "source": [
    "X_train = siab_train.iloc[:,4:164]\n",
    "y_train = siab_train.iloc[:, [3]]"
   ]
  },
  {
   "cell_type": "code",
   "execution_count": 18,
   "id": "08ee8389",
   "metadata": {
    "execution": {
     "iopub.execute_input": "2025-08-19T18:57:39.330446Z",
     "iopub.status.busy": "2025-08-19T18:57:39.330102Z",
     "iopub.status.idle": "2025-08-19T18:57:39.389460Z",
     "shell.execute_reply": "2025-08-19T18:57:39.388730Z"
    },
    "papermill": {
     "duration": 0.0732,
     "end_time": "2025-08-19T18:57:39.390971",
     "exception": false,
     "start_time": "2025-08-19T18:57:39.317771",
     "status": "completed"
    },
    "tags": []
   },
   "outputs": [],
   "source": [
    "X_calib = siab_calib.iloc[:,4:164]\n",
    "y_calib = siab_calib.iloc[:, [3]]"
   ]
  },
  {
   "cell_type": "code",
   "execution_count": 19,
   "id": "b7ff42e0",
   "metadata": {
    "execution": {
     "iopub.execute_input": "2025-08-19T18:57:39.419695Z",
     "iopub.status.busy": "2025-08-19T18:57:39.418601Z",
     "iopub.status.idle": "2025-08-19T18:57:39.570895Z",
     "shell.execute_reply": "2025-08-19T18:57:39.570120Z"
    },
    "papermill": {
     "duration": 0.167325,
     "end_time": "2025-08-19T18:57:39.573618",
     "exception": false,
     "start_time": "2025-08-19T18:57:39.406293",
     "status": "completed"
    },
    "tags": []
   },
   "outputs": [],
   "source": [
    "X_test = siab_test.iloc[:,4:164]\n",
    "y_true = siab_test.iloc[:, [3]]"
   ]
  },
  {
   "cell_type": "code",
   "execution_count": 20,
   "id": "0275101e",
   "metadata": {
    "execution": {
     "iopub.execute_input": "2025-08-19T18:57:39.608435Z",
     "iopub.status.busy": "2025-08-19T18:57:39.607073Z",
     "iopub.status.idle": "2025-08-19T18:57:39.721848Z",
     "shell.execute_reply": "2025-08-19T18:57:39.721124Z"
    },
    "papermill": {
     "duration": 0.130815,
     "end_time": "2025-08-19T18:57:39.724745",
     "exception": false,
     "start_time": "2025-08-19T18:57:39.593930",
     "status": "completed"
    },
    "tags": []
   },
   "outputs": [],
   "source": [
    "# Auxiliary data needed downstream in the pipeline\n",
    "\n",
    "org_train = X_train.copy()\n",
    "org_test = X_test.copy()\n",
    "org_calib = X_calib.copy()"
   ]
  },
  {
   "cell_type": "markdown",
   "id": "b461e618",
   "metadata": {
    "papermill": {
     "duration": 0.012654,
     "end_time": "2025-08-19T18:57:39.761115",
     "exception": false,
     "start_time": "2025-08-19T18:57:39.748461",
     "status": "completed"
    },
    "tags": []
   },
   "source": [
    "# Preprocessing Data"
   ]
  },
  {
   "cell_type": "code",
   "execution_count": 21,
   "id": "78e74c4b",
   "metadata": {
    "execution": {
     "iopub.execute_input": "2025-08-19T18:57:39.784720Z",
     "iopub.status.busy": "2025-08-19T18:57:39.783317Z",
     "iopub.status.idle": "2025-08-19T18:57:39.792130Z",
     "shell.execute_reply": "2025-08-19T18:57:39.790896Z"
    },
    "papermill": {
     "duration": 0.022163,
     "end_time": "2025-08-19T18:57:39.793608",
     "exception": false,
     "start_time": "2025-08-19T18:57:39.771445",
     "status": "completed"
    },
    "tags": []
   },
   "outputs": [],
   "source": [
    "# EXCLUDE PROTECTED FEATURES\n",
    "# --------------------------\n",
    "\n",
    "excluded_features = universe[\"exclude_features\"].split(\"-\")\n",
    "excluded_features_dictionary = {\n",
    "    \"nationality\": [\"maxdeutsch1\", \"maxdeutsch.Missing.\"],\n",
    "    \"sex\": [\"frau1\"],\n",
    "    \"age\": [\"age\"],\n",
    "}"
   ]
  },
  {
   "cell_type": "code",
   "execution_count": 22,
   "id": "f8e63555",
   "metadata": {
    "execution": {
     "iopub.execute_input": "2025-08-19T18:57:39.819993Z",
     "iopub.status.busy": "2025-08-19T18:57:39.818574Z",
     "iopub.status.idle": "2025-08-19T18:57:39.826886Z",
     "shell.execute_reply": "2025-08-19T18:57:39.825658Z"
    },
    "papermill": {
     "duration": 0.021968,
     "end_time": "2025-08-19T18:57:39.828601",
     "exception": false,
     "start_time": "2025-08-19T18:57:39.806633",
     "status": "completed"
    },
    "tags": []
   },
   "outputs": [],
   "source": [
    "excluded_features_columns = [\n",
    "    excluded_features_dictionary[f] for f in excluded_features if len(f) > 0 and f != \"none\"\n",
    "]"
   ]
  },
  {
   "cell_type": "code",
   "execution_count": 23,
   "id": "da781f7c",
   "metadata": {
    "execution": {
     "iopub.execute_input": "2025-08-19T18:57:39.855683Z",
     "iopub.status.busy": "2025-08-19T18:57:39.854486Z",
     "iopub.status.idle": "2025-08-19T18:57:39.862383Z",
     "shell.execute_reply": "2025-08-19T18:57:39.861125Z"
    },
    "papermill": {
     "duration": 0.022009,
     "end_time": "2025-08-19T18:57:39.863787",
     "exception": false,
     "start_time": "2025-08-19T18:57:39.841778",
     "status": "completed"
    },
    "tags": []
   },
   "outputs": [],
   "source": [
    "from fairness_multiverse.universe import flatten_once\n",
    "\n",
    "excluded_features_columns = flatten_once(excluded_features_columns)"
   ]
  },
  {
   "cell_type": "code",
   "execution_count": 24,
   "id": "37fef0f0",
   "metadata": {
    "execution": {
     "iopub.execute_input": "2025-08-19T18:57:39.890201Z",
     "iopub.status.busy": "2025-08-19T18:57:39.888991Z",
     "iopub.status.idle": "2025-08-19T18:57:39.902057Z",
     "shell.execute_reply": "2025-08-19T18:57:39.900958Z"
    },
    "papermill": {
     "duration": 0.026646,
     "end_time": "2025-08-19T18:57:39.903615",
     "exception": false,
     "start_time": "2025-08-19T18:57:39.876969",
     "status": "completed"
    },
    "tags": []
   },
   "outputs": [
    {
     "name": "stdout",
     "output_type": "stream",
     "text": [
      "Dropping features: ['maxdeutsch1', 'maxdeutsch.Missing.']\n"
     ]
    }
   ],
   "source": [
    "if len(excluded_features_columns) > 0:\n",
    "    print(f\"Dropping features: {excluded_features_columns}\")\n",
    "    X_train.drop(excluded_features_columns, axis=1, inplace=True)"
   ]
  },
  {
   "cell_type": "code",
   "execution_count": 25,
   "id": "d029e3e9",
   "metadata": {
    "execution": {
     "iopub.execute_input": "2025-08-19T18:57:39.935177Z",
     "iopub.status.busy": "2025-08-19T18:57:39.933733Z",
     "iopub.status.idle": "2025-08-19T18:57:40.003613Z",
     "shell.execute_reply": "2025-08-19T18:57:40.002794Z"
    },
    "papermill": {
     "duration": 0.085875,
     "end_time": "2025-08-19T18:57:40.006205",
     "exception": false,
     "start_time": "2025-08-19T18:57:39.920330",
     "status": "completed"
    },
    "tags": []
   },
   "outputs": [
    {
     "name": "stdout",
     "output_type": "stream",
     "text": [
      "Dropping features: ['maxdeutsch1', 'maxdeutsch.Missing.']\n"
     ]
    }
   ],
   "source": [
    "if len(excluded_features_columns) > 0:\n",
    "    print(f\"Dropping features: {excluded_features_columns}\")\n",
    "    X_test.drop(excluded_features_columns, axis=1, inplace=True)"
   ]
  },
  {
   "cell_type": "code",
   "execution_count": 26,
   "id": "01d571f0",
   "metadata": {
    "execution": {
     "iopub.execute_input": "2025-08-19T18:57:40.046713Z",
     "iopub.status.busy": "2025-08-19T18:57:40.045409Z",
     "iopub.status.idle": "2025-08-19T18:57:40.101312Z",
     "shell.execute_reply": "2025-08-19T18:57:40.100605Z"
    },
    "papermill": {
     "duration": 0.073674,
     "end_time": "2025-08-19T18:57:40.104662",
     "exception": false,
     "start_time": "2025-08-19T18:57:40.030988",
     "status": "completed"
    },
    "tags": []
   },
   "outputs": [
    {
     "name": "stdout",
     "output_type": "stream",
     "text": [
      "Dropping features: ['maxdeutsch1', 'maxdeutsch.Missing.']\n"
     ]
    }
   ],
   "source": [
    "if len(excluded_features_columns) > 0:\n",
    "    print(f\"Dropping features: {excluded_features_columns}\")\n",
    "    X_calib.drop(excluded_features_columns, axis=1, inplace=True)"
   ]
  },
  {
   "cell_type": "code",
   "execution_count": 27,
   "id": "3037356e",
   "metadata": {
    "execution": {
     "iopub.execute_input": "2025-08-19T18:57:40.143409Z",
     "iopub.status.busy": "2025-08-19T18:57:40.142143Z",
     "iopub.status.idle": "2025-08-19T18:57:40.149833Z",
     "shell.execute_reply": "2025-08-19T18:57:40.148632Z"
    },
    "papermill": {
     "duration": 0.023552,
     "end_time": "2025-08-19T18:57:40.151536",
     "exception": false,
     "start_time": "2025-08-19T18:57:40.127984",
     "status": "completed"
    },
    "tags": []
   },
   "outputs": [],
   "source": [
    "# EXCLUDE CERTAIN SUBGROUPS\n",
    "# -------------------------\n",
    "\n",
    "mode = universe.get(\"exclude_subgroups\", \"keep-all\") # Defaults to \"keep-all\" if the key is missing."
   ]
  },
  {
   "cell_type": "code",
   "execution_count": 28,
   "id": "9d1e63fd",
   "metadata": {
    "execution": {
     "iopub.execute_input": "2025-08-19T18:57:40.179215Z",
     "iopub.status.busy": "2025-08-19T18:57:40.177855Z",
     "iopub.status.idle": "2025-08-19T18:57:40.188304Z",
     "shell.execute_reply": "2025-08-19T18:57:40.186883Z"
    },
    "papermill": {
     "duration": 0.02471,
     "end_time": "2025-08-19T18:57:40.189709",
     "exception": false,
     "start_time": "2025-08-19T18:57:40.164999",
     "status": "completed"
    },
    "tags": []
   },
   "outputs": [],
   "source": [
    "if mode == \"keep-all\":\n",
    "    keep_mask = pd.Series(True, index=org_train.index)\n",
    "\n",
    "elif mode == \"drop-non-german\":\n",
    "    keep_mask = (org_train[\"maxdeutsch1\"] == 1) & (org_train[\"maxdeutsch.Missing.\"] == 0)\n",
    "\n",
    "else:\n",
    "    raise ValueError(f\"Unsupported mode for exclude_subgroups: {mode}\")"
   ]
  },
  {
   "cell_type": "code",
   "execution_count": 29,
   "id": "d3b65474",
   "metadata": {
    "execution": {
     "iopub.execute_input": "2025-08-19T18:57:40.218470Z",
     "iopub.status.busy": "2025-08-19T18:57:40.217289Z",
     "iopub.status.idle": "2025-08-19T18:57:40.227222Z",
     "shell.execute_reply": "2025-08-19T18:57:40.225974Z"
    },
    "papermill": {
     "duration": 0.023776,
     "end_time": "2025-08-19T18:57:40.228652",
     "exception": false,
     "start_time": "2025-08-19T18:57:40.204876",
     "status": "completed"
    },
    "tags": []
   },
   "outputs": [],
   "source": [
    "n_drop = (~keep_mask).sum() # Calculates how many rows are set to be dropped\n",
    "if n_drop > 0:\n",
    "    pct = n_drop / len(keep_mask) * 100\n",
    "    print(f\"Dropping {n_drop} rows ({pct:.2f}%) where mode='{mode}'\")"
   ]
  },
  {
   "cell_type": "code",
   "execution_count": 30,
   "id": "f44389b3",
   "metadata": {
    "execution": {
     "iopub.execute_input": "2025-08-19T18:57:40.258755Z",
     "iopub.status.busy": "2025-08-19T18:57:40.257566Z",
     "iopub.status.idle": "2025-08-19T18:57:40.266653Z",
     "shell.execute_reply": "2025-08-19T18:57:40.265422Z"
    },
    "papermill": {
     "duration": 0.023109,
     "end_time": "2025-08-19T18:57:40.268039",
     "exception": false,
     "start_time": "2025-08-19T18:57:40.244930",
     "status": "completed"
    },
    "tags": []
   },
   "outputs": [],
   "source": [
    "X_train = X_train[keep_mask]"
   ]
  },
  {
   "cell_type": "code",
   "execution_count": 31,
   "id": "ceca8c2a",
   "metadata": {
    "execution": {
     "iopub.execute_input": "2025-08-19T18:57:40.301347Z",
     "iopub.status.busy": "2025-08-19T18:57:40.299442Z",
     "iopub.status.idle": "2025-08-19T18:57:40.308687Z",
     "shell.execute_reply": "2025-08-19T18:57:40.307343Z"
    },
    "papermill": {
     "duration": 0.026424,
     "end_time": "2025-08-19T18:57:40.311833",
     "exception": false,
     "start_time": "2025-08-19T18:57:40.285409",
     "status": "completed"
    },
    "tags": []
   },
   "outputs": [],
   "source": [
    "y_train = y_train[keep_mask]"
   ]
  },
  {
   "cell_type": "markdown",
   "id": "04d31e2f",
   "metadata": {
    "papermill": {
     "duration": 0.012577,
     "end_time": "2025-08-19T18:57:40.348256",
     "exception": false,
     "start_time": "2025-08-19T18:57:40.335679",
     "status": "completed"
    },
    "tags": []
   },
   "source": [
    "# Model Training"
   ]
  },
  {
   "cell_type": "code",
   "execution_count": 32,
   "id": "db991733",
   "metadata": {
    "execution": {
     "iopub.execute_input": "2025-08-19T18:57:40.373222Z",
     "iopub.status.busy": "2025-08-19T18:57:40.371988Z",
     "iopub.status.idle": "2025-08-19T18:57:40.476267Z",
     "shell.execute_reply": "2025-08-19T18:57:40.475524Z"
    },
    "papermill": {
     "duration": 0.119936,
     "end_time": "2025-08-19T18:57:40.479045",
     "exception": false,
     "start_time": "2025-08-19T18:57:40.359109",
     "status": "completed"
    },
    "tags": []
   },
   "outputs": [],
   "source": [
    "from sklearn.linear_model import LogisticRegression\n",
    "from sklearn.ensemble import GradientBoostingClassifier, RandomForestClassifier\n",
    "\n",
    "if (universe[\"model\"] == \"logreg\"):\n",
    "    model = LogisticRegression() #penalty=\"none\", solver=\"newton-cg\", max_iter=1)\n",
    "elif (universe[\"model\"] == \"penalized_logreg\"):\n",
    "    model = LogisticRegression(penalty=\"l2\", C=0.1) #, solver=\"newton-cg\", max_iter=1)\n",
    "elif (universe[\"model\"] == \"rf\"):\n",
    "    model = RandomForestClassifier() # n_estimators=100, n_jobs=-1\n",
    "elif (universe[\"model\"] == \"gbm\"):\n",
    "    model = GradientBoostingClassifier()\n",
    "elif (universe[\"model\"] == \"elasticnet\"):\n",
    "    model = LogisticRegression(penalty = 'elasticnet', solver = 'saga', l1_ratio = 0.5) # max_iter=5000\n",
    "else:\n",
    "    raise \"Unsupported universe.model\""
   ]
  },
  {
   "cell_type": "code",
   "execution_count": 33,
   "id": "a4b5cd25",
   "metadata": {
    "execution": {
     "iopub.execute_input": "2025-08-19T18:57:40.546705Z",
     "iopub.status.busy": "2025-08-19T18:57:40.544180Z",
     "iopub.status.idle": "2025-08-19T18:57:40.552161Z",
     "shell.execute_reply": "2025-08-19T18:57:40.551277Z"
    },
    "papermill": {
     "duration": 0.037201,
     "end_time": "2025-08-19T18:57:40.553576",
     "exception": false,
     "start_time": "2025-08-19T18:57:40.516375",
     "status": "completed"
    },
    "tags": []
   },
   "outputs": [],
   "source": [
    "from sklearn.pipeline import Pipeline\n",
    "from sklearn.preprocessing import StandardScaler\n",
    "\n",
    "model = Pipeline([\n",
    "    #(\"continuous_processor\", continuous_processor),\n",
    "    #(\"categorical_preprocessor\", categorical_preprocessor),\n",
    "    (\"scale\", StandardScaler() if universe[\"scale\"] == \"scale\" else None), \n",
    "    (\"model\", model),\n",
    "])"
   ]
  },
  {
   "cell_type": "code",
   "execution_count": 34,
   "id": "283a904d",
   "metadata": {
    "execution": {
     "iopub.execute_input": "2025-08-19T18:57:40.579390Z",
     "iopub.status.busy": "2025-08-19T18:57:40.578373Z",
     "iopub.status.idle": "2025-08-19T18:57:40.619965Z",
     "shell.execute_reply": "2025-08-19T18:57:40.619244Z"
    },
    "papermill": {
     "duration": 0.059685,
     "end_time": "2025-08-19T18:57:40.625043",
     "exception": false,
     "start_time": "2025-08-19T18:57:40.565358",
     "status": "completed"
    },
    "tags": []
   },
   "outputs": [
    {
     "data": {
      "text/html": [
       "<style>#sk-container-id-1 {color: black;background-color: white;}#sk-container-id-1 pre{padding: 0;}#sk-container-id-1 div.sk-toggleable {background-color: white;}#sk-container-id-1 label.sk-toggleable__label {cursor: pointer;display: block;width: 100%;margin-bottom: 0;padding: 0.3em;box-sizing: border-box;text-align: center;}#sk-container-id-1 label.sk-toggleable__label-arrow:before {content: \"▸\";float: left;margin-right: 0.25em;color: #696969;}#sk-container-id-1 label.sk-toggleable__label-arrow:hover:before {color: black;}#sk-container-id-1 div.sk-estimator:hover label.sk-toggleable__label-arrow:before {color: black;}#sk-container-id-1 div.sk-toggleable__content {max-height: 0;max-width: 0;overflow: hidden;text-align: left;background-color: #f0f8ff;}#sk-container-id-1 div.sk-toggleable__content pre {margin: 0.2em;color: black;border-radius: 0.25em;background-color: #f0f8ff;}#sk-container-id-1 input.sk-toggleable__control:checked~div.sk-toggleable__content {max-height: 200px;max-width: 100%;overflow: auto;}#sk-container-id-1 input.sk-toggleable__control:checked~label.sk-toggleable__label-arrow:before {content: \"▾\";}#sk-container-id-1 div.sk-estimator input.sk-toggleable__control:checked~label.sk-toggleable__label {background-color: #d4ebff;}#sk-container-id-1 div.sk-label input.sk-toggleable__control:checked~label.sk-toggleable__label {background-color: #d4ebff;}#sk-container-id-1 input.sk-hidden--visually {border: 0;clip: rect(1px 1px 1px 1px);clip: rect(1px, 1px, 1px, 1px);height: 1px;margin: -1px;overflow: hidden;padding: 0;position: absolute;width: 1px;}#sk-container-id-1 div.sk-estimator {font-family: monospace;background-color: #f0f8ff;border: 1px dotted black;border-radius: 0.25em;box-sizing: border-box;margin-bottom: 0.5em;}#sk-container-id-1 div.sk-estimator:hover {background-color: #d4ebff;}#sk-container-id-1 div.sk-parallel-item::after {content: \"\";width: 100%;border-bottom: 1px solid gray;flex-grow: 1;}#sk-container-id-1 div.sk-label:hover label.sk-toggleable__label {background-color: #d4ebff;}#sk-container-id-1 div.sk-serial::before {content: \"\";position: absolute;border-left: 1px solid gray;box-sizing: border-box;top: 0;bottom: 0;left: 50%;z-index: 0;}#sk-container-id-1 div.sk-serial {display: flex;flex-direction: column;align-items: center;background-color: white;padding-right: 0.2em;padding-left: 0.2em;position: relative;}#sk-container-id-1 div.sk-item {position: relative;z-index: 1;}#sk-container-id-1 div.sk-parallel {display: flex;align-items: stretch;justify-content: center;background-color: white;position: relative;}#sk-container-id-1 div.sk-item::before, #sk-container-id-1 div.sk-parallel-item::before {content: \"\";position: absolute;border-left: 1px solid gray;box-sizing: border-box;top: 0;bottom: 0;left: 50%;z-index: -1;}#sk-container-id-1 div.sk-parallel-item {display: flex;flex-direction: column;z-index: 1;position: relative;background-color: white;}#sk-container-id-1 div.sk-parallel-item:first-child::after {align-self: flex-end;width: 50%;}#sk-container-id-1 div.sk-parallel-item:last-child::after {align-self: flex-start;width: 50%;}#sk-container-id-1 div.sk-parallel-item:only-child::after {width: 0;}#sk-container-id-1 div.sk-dashed-wrapped {border: 1px dashed gray;margin: 0 0.4em 0.5em 0.4em;box-sizing: border-box;padding-bottom: 0.4em;background-color: white;}#sk-container-id-1 div.sk-label label {font-family: monospace;font-weight: bold;display: inline-block;line-height: 1.2em;}#sk-container-id-1 div.sk-label-container {text-align: center;}#sk-container-id-1 div.sk-container {/* jupyter's `normalize.less` sets `[hidden] { display: none; }` but bootstrap.min.css set `[hidden] { display: none !important; }` so we also need the `!important` here to be able to override the default hidden behavior on the sphinx rendered scikit-learn.org. See: https://github.com/scikit-learn/scikit-learn/issues/21755 */display: inline-block !important;position: relative;}#sk-container-id-1 div.sk-text-repr-fallback {display: none;}</style><div id=\"sk-container-id-1\" class=\"sk-top-container\"><div class=\"sk-text-repr-fallback\"><pre>Pipeline(steps=[(&#x27;scale&#x27;, StandardScaler()),\n",
       "                (&#x27;model&#x27;, LogisticRegression(C=0.1))])</pre><b>In a Jupyter environment, please rerun this cell to show the HTML representation or trust the notebook. <br />On GitHub, the HTML representation is unable to render, please try loading this page with nbviewer.org.</b></div><div class=\"sk-container\" hidden><div class=\"sk-item sk-dashed-wrapped\"><div class=\"sk-label-container\"><div class=\"sk-label sk-toggleable\"><input class=\"sk-toggleable__control sk-hidden--visually\" id=\"sk-estimator-id-1\" type=\"checkbox\" ><label for=\"sk-estimator-id-1\" class=\"sk-toggleable__label sk-toggleable__label-arrow\">Pipeline</label><div class=\"sk-toggleable__content\"><pre>Pipeline(steps=[(&#x27;scale&#x27;, StandardScaler()),\n",
       "                (&#x27;model&#x27;, LogisticRegression(C=0.1))])</pre></div></div></div><div class=\"sk-serial\"><div class=\"sk-item\"><div class=\"sk-estimator sk-toggleable\"><input class=\"sk-toggleable__control sk-hidden--visually\" id=\"sk-estimator-id-2\" type=\"checkbox\" ><label for=\"sk-estimator-id-2\" class=\"sk-toggleable__label sk-toggleable__label-arrow\">StandardScaler</label><div class=\"sk-toggleable__content\"><pre>StandardScaler()</pre></div></div></div><div class=\"sk-item\"><div class=\"sk-estimator sk-toggleable\"><input class=\"sk-toggleable__control sk-hidden--visually\" id=\"sk-estimator-id-3\" type=\"checkbox\" ><label for=\"sk-estimator-id-3\" class=\"sk-toggleable__label sk-toggleable__label-arrow\">LogisticRegression</label><div class=\"sk-toggleable__content\"><pre>LogisticRegression(C=0.1)</pre></div></div></div></div></div></div></div>"
      ],
      "text/plain": [
       "Pipeline(steps=[('scale', StandardScaler()),\n",
       "                ('model', LogisticRegression(C=0.1))])"
      ]
     },
     "execution_count": 34,
     "metadata": {},
     "output_type": "execute_result"
    }
   ],
   "source": [
    "model.fit(X_train, y_train.values.ravel())"
   ]
  },
  {
   "cell_type": "code",
   "execution_count": 35,
   "id": "6e15e313",
   "metadata": {
    "execution": {
     "iopub.execute_input": "2025-08-19T18:57:40.671280Z",
     "iopub.status.busy": "2025-08-19T18:57:40.669777Z",
     "iopub.status.idle": "2025-08-19T18:57:40.866573Z",
     "shell.execute_reply": "2025-08-19T18:57:40.865889Z"
    },
    "papermill": {
     "duration": 0.218506,
     "end_time": "2025-08-19T18:57:40.867802",
     "exception": false,
     "start_time": "2025-08-19T18:57:40.649296",
     "status": "completed"
    },
    "tags": []
   },
   "outputs": [
    {
     "data": {
      "text/plain": [
       "0.8405305985954743"
      ]
     },
     "execution_count": 35,
     "metadata": {},
     "output_type": "execute_result"
    }
   ],
   "source": [
    "from fairness_multiverse.universe import predict_w_threshold\n",
    "\n",
    "probs_test = model.predict_proba(X_test)\n",
    "\n",
    "'''\n",
    "Below code returns a boolean array (or binary 0/1 array depending on how it’s used) where each element \n",
    "is True if the probability of class 1 is greater than or equal to the threshold, and False otherwise.\n",
    "'''\n",
    "y_pred_default = predict_w_threshold(probs_test, 0.5)\n",
    "\n",
    "from sklearn.metrics import accuracy_score\n",
    "\n",
    "# Naive prediction\n",
    "accuracy_score(y_true = y_true, y_pred = y_pred_default)"
   ]
  },
  {
   "cell_type": "code",
   "execution_count": 36,
   "id": "6f14067c",
   "metadata": {
    "execution": {
     "iopub.execute_input": "2025-08-19T18:57:40.893014Z",
     "iopub.status.busy": "2025-08-19T18:57:40.891945Z",
     "iopub.status.idle": "2025-08-19T18:57:41.085012Z",
     "shell.execute_reply": "2025-08-19T18:57:41.083711Z"
    },
    "papermill": {
     "duration": 0.20694,
     "end_time": "2025-08-19T18:57:41.086436",
     "exception": false,
     "start_time": "2025-08-19T18:57:40.879496",
     "status": "completed"
    },
    "tags": []
   },
   "outputs": [
    {
     "data": {
      "text/plain": [
       "array([0, 0, 0, ..., 0, 0, 0])"
      ]
     },
     "execution_count": 36,
     "metadata": {},
     "output_type": "execute_result"
    }
   ],
   "source": [
    "model.predict(X_test)"
   ]
  },
  {
   "cell_type": "markdown",
   "id": "3759920c",
   "metadata": {
    "papermill": {
     "duration": 0.011654,
     "end_time": "2025-08-19T18:57:41.109922",
     "exception": false,
     "start_time": "2025-08-19T18:57:41.098268",
     "status": "completed"
    },
    "tags": []
   },
   "source": [
    "# Conformal Prediction"
   ]
  },
  {
   "cell_type": "code",
   "execution_count": 37,
   "id": "14b27f59",
   "metadata": {
    "execution": {
     "iopub.execute_input": "2025-08-19T18:57:41.136052Z",
     "iopub.status.busy": "2025-08-19T18:57:41.134913Z",
     "iopub.status.idle": "2025-08-19T18:57:41.143661Z",
     "shell.execute_reply": "2025-08-19T18:57:41.142161Z"
    },
    "papermill": {
     "duration": 0.024128,
     "end_time": "2025-08-19T18:57:41.145287",
     "exception": false,
     "start_time": "2025-08-19T18:57:41.121159",
     "status": "completed"
    },
    "tags": []
   },
   "outputs": [],
   "source": [
    "# Miscoverage level for conformal prediction (10% allowed error rate => 90% target coverage)\n",
    "alpha = 0.1"
   ]
  },
  {
   "cell_type": "code",
   "execution_count": 38,
   "id": "59102472",
   "metadata": {
    "execution": {
     "iopub.execute_input": "2025-08-19T18:57:41.176779Z",
     "iopub.status.busy": "2025-08-19T18:57:41.175375Z",
     "iopub.status.idle": "2025-08-19T18:57:41.364787Z",
     "shell.execute_reply": "2025-08-19T18:57:41.363519Z"
    },
    "papermill": {
     "duration": 0.207308,
     "end_time": "2025-08-19T18:57:41.368701",
     "exception": false,
     "start_time": "2025-08-19T18:57:41.161393",
     "status": "completed"
    },
    "tags": []
   },
   "outputs": [],
   "source": [
    "probs_calib = model.predict_proba(X_calib)"
   ]
  },
  {
   "cell_type": "code",
   "execution_count": 39,
   "id": "a792d4dd",
   "metadata": {
    "execution": {
     "iopub.execute_input": "2025-08-19T18:57:41.424604Z",
     "iopub.status.busy": "2025-08-19T18:57:41.423343Z",
     "iopub.status.idle": "2025-08-19T18:57:41.434312Z",
     "shell.execute_reply": "2025-08-19T18:57:41.432681Z"
    },
    "papermill": {
     "duration": 0.033266,
     "end_time": "2025-08-19T18:57:41.436063",
     "exception": false,
     "start_time": "2025-08-19T18:57:41.402797",
     "status": "completed"
    },
    "tags": []
   },
   "outputs": [],
   "source": [
    "y_calib = y_calib.values.ravel().astype(int)"
   ]
  },
  {
   "cell_type": "code",
   "execution_count": 40,
   "id": "650fd033",
   "metadata": {
    "execution": {
     "iopub.execute_input": "2025-08-19T18:57:41.464207Z",
     "iopub.status.busy": "2025-08-19T18:57:41.463146Z",
     "iopub.status.idle": "2025-08-19T18:57:41.476921Z",
     "shell.execute_reply": "2025-08-19T18:57:41.475595Z"
    },
    "papermill": {
     "duration": 0.029819,
     "end_time": "2025-08-19T18:57:41.479014",
     "exception": false,
     "start_time": "2025-08-19T18:57:41.449195",
     "status": "completed"
    },
    "tags": []
   },
   "outputs": [],
   "source": [
    "from fairness_multiverse.conformal import compute_nc_scores\n",
    "\n",
    "# Compute nonconformity scores on calibration set (1 - probability of true class)\n",
    "nc_scores = compute_nc_scores(probs_calib, y_calib)"
   ]
  },
  {
   "cell_type": "code",
   "execution_count": 41,
   "id": "28ada44c",
   "metadata": {
    "execution": {
     "iopub.execute_input": "2025-08-19T18:57:41.511542Z",
     "iopub.status.busy": "2025-08-19T18:57:41.510451Z",
     "iopub.status.idle": "2025-08-19T18:57:41.523636Z",
     "shell.execute_reply": "2025-08-19T18:57:41.521965Z"
    },
    "papermill": {
     "duration": 0.028589,
     "end_time": "2025-08-19T18:57:41.525312",
     "exception": false,
     "start_time": "2025-08-19T18:57:41.496723",
     "status": "completed"
    },
    "tags": []
   },
   "outputs": [],
   "source": [
    "from fairness_multiverse.conformal import find_threshold\n",
    "\n",
    "# Find conformal threshold q_hat for the given alpha (split conformal method)\n",
    "q_hat = find_threshold(nc_scores, alpha)"
   ]
  },
  {
   "cell_type": "code",
   "execution_count": 42,
   "id": "df56469e",
   "metadata": {
    "execution": {
     "iopub.execute_input": "2025-08-19T18:57:41.556764Z",
     "iopub.status.busy": "2025-08-19T18:57:41.555399Z",
     "iopub.status.idle": "2025-08-19T18:57:41.567428Z",
     "shell.execute_reply": "2025-08-19T18:57:41.566054Z"
    },
    "papermill": {
     "duration": 0.027934,
     "end_time": "2025-08-19T18:57:41.569139",
     "exception": false,
     "start_time": "2025-08-19T18:57:41.541205",
     "status": "completed"
    },
    "tags": []
   },
   "outputs": [
    {
     "data": {
      "text/plain": [
       "0.7538628316358367"
      ]
     },
     "execution_count": 42,
     "metadata": {},
     "output_type": "execute_result"
    }
   ],
   "source": [
    "q_hat"
   ]
  },
  {
   "cell_type": "code",
   "execution_count": 43,
   "id": "aa1f5faa",
   "metadata": {
    "execution": {
     "iopub.execute_input": "2025-08-19T18:57:41.603644Z",
     "iopub.status.busy": "2025-08-19T18:57:41.602518Z",
     "iopub.status.idle": "2025-08-19T18:57:42.289771Z",
     "shell.execute_reply": "2025-08-19T18:57:42.288679Z"
    },
    "papermill": {
     "duration": 0.704397,
     "end_time": "2025-08-19T18:57:42.292263",
     "exception": false,
     "start_time": "2025-08-19T18:57:41.587866",
     "status": "completed"
    },
    "tags": []
   },
   "outputs": [],
   "source": [
    "from fairness_multiverse.conformal import predict_conformal_sets\n",
    "\n",
    "# Generate prediction sets for each test example\n",
    "pred_sets = predict_conformal_sets(model, X_test, q_hat)"
   ]
  },
  {
   "cell_type": "code",
   "execution_count": 44,
   "id": "97f67a6b",
   "metadata": {
    "execution": {
     "iopub.execute_input": "2025-08-19T18:57:42.318207Z",
     "iopub.status.busy": "2025-08-19T18:57:42.317909Z",
     "iopub.status.idle": "2025-08-19T18:57:42.322967Z",
     "shell.execute_reply": "2025-08-19T18:57:42.322234Z"
    },
    "papermill": {
     "duration": 0.019537,
     "end_time": "2025-08-19T18:57:42.324355",
     "exception": false,
     "start_time": "2025-08-19T18:57:42.304818",
     "status": "completed"
    },
    "tags": []
   },
   "outputs": [],
   "source": [
    "y_true = y_true.squeeze()"
   ]
  },
  {
   "cell_type": "code",
   "execution_count": 45,
   "id": "e700e9a7",
   "metadata": {
    "execution": {
     "iopub.execute_input": "2025-08-19T18:57:42.350397Z",
     "iopub.status.busy": "2025-08-19T18:57:42.350096Z",
     "iopub.status.idle": "2025-08-19T18:57:42.920317Z",
     "shell.execute_reply": "2025-08-19T18:57:42.918998Z"
    },
    "papermill": {
     "duration": 0.585865,
     "end_time": "2025-08-19T18:57:42.922099",
     "exception": false,
     "start_time": "2025-08-19T18:57:42.336234",
     "status": "completed"
    },
    "tags": []
   },
   "outputs": [],
   "source": [
    "from fairness_multiverse.conformal import evaluate_sets\n",
    "\n",
    "# Evaluate coverage and average set size on test data\n",
    "metrics = evaluate_sets(pred_sets, y_true)"
   ]
  },
  {
   "cell_type": "markdown",
   "id": "efbacec0",
   "metadata": {
    "papermill": {
     "duration": 0.015514,
     "end_time": "2025-08-19T18:57:42.950656",
     "exception": false,
     "start_time": "2025-08-19T18:57:42.935142",
     "status": "completed"
    },
    "tags": []
   },
   "source": [
    "# CP Metrics"
   ]
  },
  {
   "cell_type": "code",
   "execution_count": 46,
   "id": "9de55fb1",
   "metadata": {
    "execution": {
     "iopub.execute_input": "2025-08-19T18:57:42.980180Z",
     "iopub.status.busy": "2025-08-19T18:57:42.978829Z",
     "iopub.status.idle": "2025-08-19T18:57:42.992013Z",
     "shell.execute_reply": "2025-08-19T18:57:42.990951Z"
    },
    "papermill": {
     "duration": 0.030059,
     "end_time": "2025-08-19T18:57:42.993665",
     "exception": false,
     "start_time": "2025-08-19T18:57:42.963606",
     "status": "completed"
    },
    "tags": []
   },
   "outputs": [
    {
     "data": {
      "text/plain": [
       "{'coverage': 0.9106454129974362, 'avg_size': 1.1979600936350463}"
      ]
     },
     "execution_count": 46,
     "metadata": {},
     "output_type": "execute_result"
    }
   ],
   "source": [
    "metrics"
   ]
  },
  {
   "cell_type": "code",
   "execution_count": 47,
   "id": "64c340a1",
   "metadata": {
    "execution": {
     "iopub.execute_input": "2025-08-19T18:57:43.025499Z",
     "iopub.status.busy": "2025-08-19T18:57:43.023821Z",
     "iopub.status.idle": "2025-08-19T18:57:43.138358Z",
     "shell.execute_reply": "2025-08-19T18:57:43.137037Z"
    },
    "papermill": {
     "duration": 0.13228,
     "end_time": "2025-08-19T18:57:43.141576",
     "exception": false,
     "start_time": "2025-08-19T18:57:43.009296",
     "status": "completed"
    },
    "tags": []
   },
   "outputs": [],
   "source": [
    "example_universe = universe.copy()\n",
    "universe_training_year = example_universe.get(\"training_year\")\n",
    "universe_training_size = example_universe.get(\"training_size\")\n",
    "universe_scale = example_universe.get(\"scale\")\n",
    "universe_model = example_universe.get(\"model\")\n",
    "universe_exclude_features = example_universe.get(\"exclude_features\")\n",
    "universe_exclude_subgroups = example_universe.get(\"exclude_subgroups\")"
   ]
  },
  {
   "cell_type": "code",
   "execution_count": 48,
   "id": "dbb53cb4",
   "metadata": {
    "execution": {
     "iopub.execute_input": "2025-08-19T18:57:43.190353Z",
     "iopub.status.busy": "2025-08-19T18:57:43.189942Z",
     "iopub.status.idle": "2025-08-19T18:57:43.195768Z",
     "shell.execute_reply": "2025-08-19T18:57:43.194984Z"
    },
    "papermill": {
     "duration": 0.020629,
     "end_time": "2025-08-19T18:57:43.197157",
     "exception": false,
     "start_time": "2025-08-19T18:57:43.176528",
     "status": "completed"
    },
    "tags": []
   },
   "outputs": [],
   "source": [
    "cp_metrics_dict = {\n",
    "    \"universe_id\": [universe_id],\n",
    "    \"universe_training_year\": [universe_training_year],\n",
    "    \"universe_training_size\": [universe_training_size],\n",
    "    \"universe_scale\": [universe_scale],\n",
    "    \"universe_model\": [universe_model],\n",
    "    \"universe_exclude_features\": [universe_exclude_features],\n",
    "    \"universe_exclude_subgroups\": [universe_exclude_subgroups],\n",
    "    \"q_hat\": [q_hat],\n",
    "    \"coverage\": [metrics[\"coverage\"]],\n",
    "    \"avg_size\": [metrics[\"avg_size\"]],\n",
    "}"
   ]
  },
  {
   "cell_type": "code",
   "execution_count": 49,
   "id": "0d70d4b2",
   "metadata": {
    "execution": {
     "iopub.execute_input": "2025-08-19T18:57:43.224568Z",
     "iopub.status.busy": "2025-08-19T18:57:43.224170Z",
     "iopub.status.idle": "2025-08-19T18:57:43.395395Z",
     "shell.execute_reply": "2025-08-19T18:57:43.394038Z"
    },
    "papermill": {
     "duration": 0.188777,
     "end_time": "2025-08-19T18:57:43.399392",
     "exception": false,
     "start_time": "2025-08-19T18:57:43.210615",
     "status": "completed"
    },
    "tags": []
   },
   "outputs": [],
   "source": [
    "cp_metrics_df = pd.DataFrame(cp_metrics_dict)"
   ]
  },
  {
   "cell_type": "code",
   "execution_count": 50,
   "id": "b494403c",
   "metadata": {
    "execution": {
     "iopub.execute_input": "2025-08-19T18:57:43.443904Z",
     "iopub.status.busy": "2025-08-19T18:57:43.442837Z",
     "iopub.status.idle": "2025-08-19T18:57:43.468737Z",
     "shell.execute_reply": "2025-08-19T18:57:43.467913Z"
    },
    "papermill": {
     "duration": 0.043976,
     "end_time": "2025-08-19T18:57:43.470507",
     "exception": false,
     "start_time": "2025-08-19T18:57:43.426531",
     "status": "completed"
    },
    "tags": []
   },
   "outputs": [
    {
     "data": {
      "text/html": [
       "<div>\n",
       "<style scoped>\n",
       "    .dataframe tbody tr th:only-of-type {\n",
       "        vertical-align: middle;\n",
       "    }\n",
       "\n",
       "    .dataframe tbody tr th {\n",
       "        vertical-align: top;\n",
       "    }\n",
       "\n",
       "    .dataframe thead th {\n",
       "        text-align: right;\n",
       "    }\n",
       "</style>\n",
       "<table border=\"1\" class=\"dataframe\">\n",
       "  <thead>\n",
       "    <tr style=\"text-align: right;\">\n",
       "      <th></th>\n",
       "      <th>universe_id</th>\n",
       "      <th>universe_training_year</th>\n",
       "      <th>universe_training_size</th>\n",
       "      <th>universe_scale</th>\n",
       "      <th>universe_model</th>\n",
       "      <th>universe_exclude_features</th>\n",
       "      <th>universe_exclude_subgroups</th>\n",
       "      <th>q_hat</th>\n",
       "      <th>coverage</th>\n",
       "      <th>avg_size</th>\n",
       "    </tr>\n",
       "  </thead>\n",
       "  <tbody>\n",
       "    <tr>\n",
       "      <th>0</th>\n",
       "      <td>683765583719c3b652cda582b2308691</td>\n",
       "      <td>2012_14</td>\n",
       "      <td>1k</td>\n",
       "      <td>scale</td>\n",
       "      <td>penalized_logreg</td>\n",
       "      <td>nationality</td>\n",
       "      <td>keep-all</td>\n",
       "      <td>0.753863</td>\n",
       "      <td>0.910645</td>\n",
       "      <td>1.19796</td>\n",
       "    </tr>\n",
       "  </tbody>\n",
       "</table>\n",
       "</div>"
      ],
      "text/plain": [
       "                        universe_id universe_training_year  \\\n",
       "0  683765583719c3b652cda582b2308691                2012_14   \n",
       "\n",
       "  universe_training_size universe_scale    universe_model  \\\n",
       "0                     1k          scale  penalized_logreg   \n",
       "\n",
       "  universe_exclude_features universe_exclude_subgroups     q_hat  coverage  \\\n",
       "0               nationality                   keep-all  0.753863  0.910645   \n",
       "\n",
       "   avg_size  \n",
       "0   1.19796  "
      ]
     },
     "execution_count": 50,
     "metadata": {},
     "output_type": "execute_result"
    }
   ],
   "source": [
    "cp_metrics_df"
   ]
  },
  {
   "cell_type": "markdown",
   "id": "ed608b0b",
   "metadata": {
    "papermill": {
     "duration": 0.01371,
     "end_time": "2025-08-19T18:57:43.511592",
     "exception": false,
     "start_time": "2025-08-19T18:57:43.497882",
     "status": "completed"
    },
    "tags": []
   },
   "source": [
    "Conditional coverage & looking at subgroups"
   ]
  },
  {
   "cell_type": "code",
   "execution_count": 51,
   "id": "8968c366",
   "metadata": {
    "execution": {
     "iopub.execute_input": "2025-08-19T18:57:43.539924Z",
     "iopub.status.busy": "2025-08-19T18:57:43.538980Z",
     "iopub.status.idle": "2025-08-19T18:57:43.986435Z",
     "shell.execute_reply": "2025-08-19T18:57:43.985245Z"
    },
    "papermill": {
     "duration": 0.462999,
     "end_time": "2025-08-19T18:57:43.988091",
     "exception": false,
     "start_time": "2025-08-19T18:57:43.525092",
     "status": "completed"
    },
    "tags": []
   },
   "outputs": [],
   "source": [
    "from fairness_multiverse.conformal import build_cp_groups\n",
    "\n",
    "cp_groups_df = build_cp_groups(pred_sets, y_true, X_test.index, org_test)"
   ]
  },
  {
   "cell_type": "code",
   "execution_count": 52,
   "id": "292ddabf",
   "metadata": {
    "execution": {
     "iopub.execute_input": "2025-08-19T18:57:44.015239Z",
     "iopub.status.busy": "2025-08-19T18:57:44.014649Z",
     "iopub.status.idle": "2025-08-19T18:57:44.938579Z",
     "shell.execute_reply": "2025-08-19T18:57:44.936036Z"
    },
    "papermill": {
     "duration": 0.939859,
     "end_time": "2025-08-19T18:57:44.940876",
     "exception": false,
     "start_time": "2025-08-19T18:57:44.001017",
     "status": "completed"
    },
    "tags": []
   },
   "outputs": [],
   "source": [
    "# Define covered = 1 if true_label is in the predicted set\n",
    "cp_groups_df['covered'] = cp_groups_df.apply(\n",
    "    lambda r: int(r['true_label'] in r['pred_set']),\n",
    "    axis=1\n",
    ")"
   ]
  },
  {
   "cell_type": "code",
   "execution_count": 53,
   "id": "3a261692",
   "metadata": {
    "execution": {
     "iopub.execute_input": "2025-08-19T18:57:44.970617Z",
     "iopub.status.busy": "2025-08-19T18:57:44.969915Z",
     "iopub.status.idle": "2025-08-19T18:57:45.002032Z",
     "shell.execute_reply": "2025-08-19T18:57:45.000808Z"
    },
    "papermill": {
     "duration": 0.049786,
     "end_time": "2025-08-19T18:57:45.004169",
     "exception": false,
     "start_time": "2025-08-19T18:57:44.954383",
     "status": "completed"
    },
    "tags": []
   },
   "outputs": [],
   "source": [
    "subgroups = ['frau1','nongerman','nongerman_male','nongerman_female']\n",
    "\n",
    "# Conditional coverage for subgroup==1\n",
    "cond_coverage = {\n",
    "    g: cp_groups_df.loc[cp_groups_df[g]==1, 'covered'].mean()\n",
    "    for g in subgroups\n",
    "}"
   ]
  },
  {
   "cell_type": "code",
   "execution_count": 54,
   "id": "894fd600",
   "metadata": {
    "execution": {
     "iopub.execute_input": "2025-08-19T18:57:45.039287Z",
     "iopub.status.busy": "2025-08-19T18:57:45.038495Z",
     "iopub.status.idle": "2025-08-19T18:57:45.052022Z",
     "shell.execute_reply": "2025-08-19T18:57:45.050680Z"
    },
    "papermill": {
     "duration": 0.029705,
     "end_time": "2025-08-19T18:57:45.053654",
     "exception": false,
     "start_time": "2025-08-19T18:57:45.023949",
     "status": "completed"
    },
    "tags": []
   },
   "outputs": [
    {
     "data": {
      "text/plain": [
       "{'frau1': 0.9026823021970616,\n",
       " 'nongerman': 0.9126480660191995,\n",
       " 'nongerman_male': 0.9315500315230117,\n",
       " 'nongerman_female': 0.881371087928465}"
      ]
     },
     "execution_count": 54,
     "metadata": {},
     "output_type": "execute_result"
    }
   ],
   "source": [
    "cond_coverage"
   ]
  },
  {
   "cell_type": "code",
   "execution_count": 55,
   "id": "942895c7",
   "metadata": {
    "execution": {
     "iopub.execute_input": "2025-08-19T18:57:45.086258Z",
     "iopub.status.busy": "2025-08-19T18:57:45.085156Z",
     "iopub.status.idle": "2025-08-19T18:57:45.098734Z",
     "shell.execute_reply": "2025-08-19T18:57:45.097432Z"
    },
    "papermill": {
     "duration": 0.02962,
     "end_time": "2025-08-19T18:57:45.100519",
     "exception": false,
     "start_time": "2025-08-19T18:57:45.070899",
     "status": "completed"
    },
    "tags": []
   },
   "outputs": [],
   "source": [
    "for subgroup, cov in cond_coverage.items():\n",
    "    cp_metrics_df[f\"cov_{subgroup}\"] = cov"
   ]
  },
  {
   "cell_type": "code",
   "execution_count": 56,
   "id": "3970120f",
   "metadata": {
    "execution": {
     "iopub.execute_input": "2025-08-19T18:57:45.134964Z",
     "iopub.status.busy": "2025-08-19T18:57:45.133967Z",
     "iopub.status.idle": "2025-08-19T18:57:45.154897Z",
     "shell.execute_reply": "2025-08-19T18:57:45.153877Z"
    },
    "papermill": {
     "duration": 0.036941,
     "end_time": "2025-08-19T18:57:45.156310",
     "exception": false,
     "start_time": "2025-08-19T18:57:45.119369",
     "status": "completed"
    },
    "tags": []
   },
   "outputs": [
    {
     "data": {
      "text/html": [
       "<div>\n",
       "<style scoped>\n",
       "    .dataframe tbody tr th:only-of-type {\n",
       "        vertical-align: middle;\n",
       "    }\n",
       "\n",
       "    .dataframe tbody tr th {\n",
       "        vertical-align: top;\n",
       "    }\n",
       "\n",
       "    .dataframe thead th {\n",
       "        text-align: right;\n",
       "    }\n",
       "</style>\n",
       "<table border=\"1\" class=\"dataframe\">\n",
       "  <thead>\n",
       "    <tr style=\"text-align: right;\">\n",
       "      <th></th>\n",
       "      <th>universe_id</th>\n",
       "      <th>universe_training_year</th>\n",
       "      <th>universe_training_size</th>\n",
       "      <th>universe_scale</th>\n",
       "      <th>universe_model</th>\n",
       "      <th>universe_exclude_features</th>\n",
       "      <th>universe_exclude_subgroups</th>\n",
       "      <th>q_hat</th>\n",
       "      <th>coverage</th>\n",
       "      <th>avg_size</th>\n",
       "      <th>cov_frau1</th>\n",
       "      <th>cov_nongerman</th>\n",
       "      <th>cov_nongerman_male</th>\n",
       "      <th>cov_nongerman_female</th>\n",
       "    </tr>\n",
       "  </thead>\n",
       "  <tbody>\n",
       "    <tr>\n",
       "      <th>0</th>\n",
       "      <td>683765583719c3b652cda582b2308691</td>\n",
       "      <td>2012_14</td>\n",
       "      <td>1k</td>\n",
       "      <td>scale</td>\n",
       "      <td>penalized_logreg</td>\n",
       "      <td>nationality</td>\n",
       "      <td>keep-all</td>\n",
       "      <td>0.753863</td>\n",
       "      <td>0.910645</td>\n",
       "      <td>1.19796</td>\n",
       "      <td>0.902682</td>\n",
       "      <td>0.912648</td>\n",
       "      <td>0.93155</td>\n",
       "      <td>0.881371</td>\n",
       "    </tr>\n",
       "  </tbody>\n",
       "</table>\n",
       "</div>"
      ],
      "text/plain": [
       "                        universe_id universe_training_year  \\\n",
       "0  683765583719c3b652cda582b2308691                2012_14   \n",
       "\n",
       "  universe_training_size universe_scale    universe_model  \\\n",
       "0                     1k          scale  penalized_logreg   \n",
       "\n",
       "  universe_exclude_features universe_exclude_subgroups     q_hat  coverage  \\\n",
       "0               nationality                   keep-all  0.753863  0.910645   \n",
       "\n",
       "   avg_size  cov_frau1  cov_nongerman  cov_nongerman_male  \\\n",
       "0   1.19796   0.902682       0.912648             0.93155   \n",
       "\n",
       "   cov_nongerman_female  \n",
       "0              0.881371  "
      ]
     },
     "execution_count": 56,
     "metadata": {},
     "output_type": "execute_result"
    }
   ],
   "source": [
    "cp_metrics_df"
   ]
  },
  {
   "cell_type": "markdown",
   "id": "3fc519cc",
   "metadata": {
    "papermill": {
     "duration": 0.012416,
     "end_time": "2025-08-19T18:57:45.183723",
     "exception": false,
     "start_time": "2025-08-19T18:57:45.171307",
     "status": "completed"
    },
    "tags": []
   },
   "source": [
    "# (Fairness) Metrics"
   ]
  },
  {
   "cell_type": "code",
   "execution_count": 57,
   "id": "a2e5e155",
   "metadata": {
    "execution": {
     "iopub.execute_input": "2025-08-19T18:57:45.211656Z",
     "iopub.status.busy": "2025-08-19T18:57:45.210386Z",
     "iopub.status.idle": "2025-08-19T18:57:45.247319Z",
     "shell.execute_reply": "2025-08-19T18:57:45.246368Z"
    },
    "papermill": {
     "duration": 0.053769,
     "end_time": "2025-08-19T18:57:45.249857",
     "exception": false,
     "start_time": "2025-08-19T18:57:45.196088",
     "status": "completed"
    },
    "tags": []
   },
   "outputs": [],
   "source": [
    "colname_to_bin = \"maxdeutsch1\"\n",
    "majority_value = org_train[colname_to_bin].mode()[0]\n",
    "\n",
    "org_test[\"majmin\"] = np.where(org_test[colname_to_bin] == majority_value, \"majority\", \"minority\")"
   ]
  },
  {
   "cell_type": "code",
   "execution_count": 58,
   "id": "17e3e4d5",
   "metadata": {
    "execution": {
     "iopub.execute_input": "2025-08-19T18:57:45.295743Z",
     "iopub.status.busy": "2025-08-19T18:57:45.294222Z",
     "iopub.status.idle": "2025-08-19T18:57:47.126333Z",
     "shell.execute_reply": "2025-08-19T18:57:47.124711Z"
    },
    "papermill": {
     "duration": 1.850024,
     "end_time": "2025-08-19T18:57:47.128185",
     "exception": false,
     "start_time": "2025-08-19T18:57:45.278161",
     "status": "completed"
    },
    "tags": []
   },
   "outputs": [],
   "source": [
    "example_universe = universe.copy()\n",
    "example_universe[\"cutoff\"] = example_universe[\"cutoff\"][0]\n",
    "example_universe[\"eval_fairness_grouping\"] = example_universe[\"eval_fairness_grouping\"][0]\n",
    "fairness_dict, metric_frame = universe_analysis.compute_metrics(\n",
    "    example_universe,\n",
    "    y_pred_prob=probs_test,\n",
    "    y_test=y_true,\n",
    "    org_test=org_test,\n",
    ")"
   ]
  },
  {
   "cell_type": "markdown",
   "id": "1fb7a0e9",
   "metadata": {
    "papermill": {
     "duration": 0.012786,
     "end_time": "2025-08-19T18:57:47.157875",
     "exception": false,
     "start_time": "2025-08-19T18:57:47.145089",
     "status": "completed"
    },
    "tags": []
   },
   "source": [
    "# Overall"
   ]
  },
  {
   "cell_type": "markdown",
   "id": "be1784b1",
   "metadata": {
    "papermill": {
     "duration": 0.012576,
     "end_time": "2025-08-19T18:57:47.182935",
     "exception": false,
     "start_time": "2025-08-19T18:57:47.170359",
     "status": "completed"
    },
    "tags": []
   },
   "source": [
    "Main fairness target: Equalized Odds. Seems to be a better fit than equal opportunity, since we're not only interested in Y = 1. Seems to be a better fit than demographic parity, since we also care about accuracy, not just equal distribution of preds.\n",
    "\n",
    "Pick column for computation of fairness metrics\n",
    "\n",
    "Performance\n",
    "Overall performance measures, most interesting in relation to the measures split by group below"
   ]
  },
  {
   "cell_type": "code",
   "execution_count": 59,
   "id": "b7672bee",
   "metadata": {
    "execution": {
     "iopub.execute_input": "2025-08-19T18:57:47.214194Z",
     "iopub.status.busy": "2025-08-19T18:57:47.213811Z",
     "iopub.status.idle": "2025-08-19T18:57:47.224117Z",
     "shell.execute_reply": "2025-08-19T18:57:47.223235Z"
    },
    "papermill": {
     "duration": 0.03901,
     "end_time": "2025-08-19T18:57:47.234403",
     "exception": false,
     "start_time": "2025-08-19T18:57:47.195393",
     "status": "completed"
    },
    "tags": []
   },
   "outputs": [
    {
     "data": {
      "text/plain": [
       "accuracy                   0.219474\n",
       "balanced accuracy          0.537670\n",
       "f1                         0.240940\n",
       "precision                  0.137641\n",
       "false positive rate        0.890335\n",
       "false negative rate        0.034324\n",
       "selection rate             0.900000\n",
       "count                  89710.000000\n",
       "dtype: float64"
      ]
     },
     "execution_count": 59,
     "metadata": {},
     "output_type": "execute_result"
    }
   ],
   "source": [
    "metric_frame.overall"
   ]
  },
  {
   "cell_type": "markdown",
   "id": "d93333c9",
   "metadata": {
    "papermill": {
     "duration": 0.012588,
     "end_time": "2025-08-19T18:57:47.261279",
     "exception": false,
     "start_time": "2025-08-19T18:57:47.248691",
     "status": "completed"
    },
    "tags": []
   },
   "source": [
    "By Group"
   ]
  },
  {
   "cell_type": "code",
   "execution_count": 60,
   "id": "52256966",
   "metadata": {
    "execution": {
     "iopub.execute_input": "2025-08-19T18:57:47.304899Z",
     "iopub.status.busy": "2025-08-19T18:57:47.304384Z",
     "iopub.status.idle": "2025-08-19T18:57:47.320333Z",
     "shell.execute_reply": "2025-08-19T18:57:47.319483Z"
    },
    "papermill": {
     "duration": 0.032872,
     "end_time": "2025-08-19T18:57:47.321990",
     "exception": false,
     "start_time": "2025-08-19T18:57:47.289118",
     "status": "completed"
    },
    "tags": []
   },
   "outputs": [
    {
     "data": {
      "text/html": [
       "<div>\n",
       "<style scoped>\n",
       "    .dataframe tbody tr th:only-of-type {\n",
       "        vertical-align: middle;\n",
       "    }\n",
       "\n",
       "    .dataframe tbody tr th {\n",
       "        vertical-align: top;\n",
       "    }\n",
       "\n",
       "    .dataframe thead th {\n",
       "        text-align: right;\n",
       "    }\n",
       "</style>\n",
       "<table border=\"1\" class=\"dataframe\">\n",
       "  <thead>\n",
       "    <tr style=\"text-align: right;\">\n",
       "      <th></th>\n",
       "      <th>accuracy</th>\n",
       "      <th>balanced accuracy</th>\n",
       "      <th>f1</th>\n",
       "      <th>precision</th>\n",
       "      <th>false positive rate</th>\n",
       "      <th>false negative rate</th>\n",
       "      <th>selection rate</th>\n",
       "      <th>count</th>\n",
       "    </tr>\n",
       "    <tr>\n",
       "      <th>majmin</th>\n",
       "      <th></th>\n",
       "      <th></th>\n",
       "      <th></th>\n",
       "      <th></th>\n",
       "      <th></th>\n",
       "      <th></th>\n",
       "      <th></th>\n",
       "      <th></th>\n",
       "    </tr>\n",
       "  </thead>\n",
       "  <tbody>\n",
       "    <tr>\n",
       "      <th>majority</th>\n",
       "      <td>0.239641</td>\n",
       "      <td>0.545055</td>\n",
       "      <td>0.250221</td>\n",
       "      <td>0.143855</td>\n",
       "      <td>0.870065</td>\n",
       "      <td>0.039825</td>\n",
       "      <td>0.881972</td>\n",
       "      <td>69170.0</td>\n",
       "    </tr>\n",
       "    <tr>\n",
       "      <th>minority</th>\n",
       "      <td>0.151558</td>\n",
       "      <td>0.514806</td>\n",
       "      <td>0.211484</td>\n",
       "      <td>0.118431</td>\n",
       "      <td>0.957297</td>\n",
       "      <td>0.013091</td>\n",
       "      <td>0.960711</td>\n",
       "      <td>20540.0</td>\n",
       "    </tr>\n",
       "  </tbody>\n",
       "</table>\n",
       "</div>"
      ],
      "text/plain": [
       "          accuracy  balanced accuracy        f1  precision  \\\n",
       "majmin                                                       \n",
       "majority  0.239641           0.545055  0.250221   0.143855   \n",
       "minority  0.151558           0.514806  0.211484   0.118431   \n",
       "\n",
       "          false positive rate  false negative rate  selection rate    count  \n",
       "majmin                                                                       \n",
       "majority             0.870065             0.039825        0.881972  69170.0  \n",
       "minority             0.957297             0.013091        0.960711  20540.0  "
      ]
     },
     "execution_count": 60,
     "metadata": {},
     "output_type": "execute_result"
    }
   ],
   "source": [
    "metric_frame.by_group"
   ]
  },
  {
   "cell_type": "code",
   "execution_count": 61,
   "id": "6e6c20ae",
   "metadata": {
    "execution": {
     "iopub.execute_input": "2025-08-19T18:57:47.351529Z",
     "iopub.status.busy": "2025-08-19T18:57:47.351203Z",
     "iopub.status.idle": "2025-08-19T18:57:49.361077Z",
     "shell.execute_reply": "2025-08-19T18:57:49.359163Z"
    },
    "papermill": {
     "duration": 2.025999,
     "end_time": "2025-08-19T18:57:49.363175",
     "exception": false,
     "start_time": "2025-08-19T18:57:47.337176",
     "status": "completed"
    },
    "tags": []
   },
   "outputs": [
    {
     "data": {
      "text/plain": [
       "array([[<Axes: title={'center': 'accuracy'}, xlabel='majmin'>,\n",
       "        <Axes: title={'center': 'balanced accuracy'}, xlabel='majmin'>,\n",
       "        <Axes: title={'center': 'f1'}, xlabel='majmin'>],\n",
       "       [<Axes: title={'center': 'precision'}, xlabel='majmin'>,\n",
       "        <Axes: title={'center': 'false positive rate'}, xlabel='majmin'>,\n",
       "        <Axes: title={'center': 'false negative rate'}, xlabel='majmin'>],\n",
       "       [<Axes: title={'center': 'selection rate'}, xlabel='majmin'>,\n",
       "        <Axes: title={'center': 'count'}, xlabel='majmin'>,\n",
       "        <Axes: xlabel='majmin'>]], dtype=object)"
      ]
     },
     "execution_count": 61,
     "metadata": {},
     "output_type": "execute_result"
    },
    {
     "data": {
      "image/png": "[encoded data removed]",
      "text/plain": [
       "<Figure size 1200x800 with 9 Axes>"
      ]
     },
     "metadata": {},
     "output_type": "display_data"
    }
   ],
   "source": [
    "# In a graphic\n",
    "metric_frame.by_group.plot.bar(\n",
    "    subplots=True,\n",
    "    layout=[3, 3],\n",
    "    legend=False,\n",
    "    figsize=[12, 8],\n",
    "    title=\"Show all metrics\",\n",
    ")"
   ]
  },
  {
   "cell_type": "markdown",
   "id": "b2e433ae",
   "metadata": {
    "papermill": {
     "duration": 0.013693,
     "end_time": "2025-08-19T18:57:49.394092",
     "exception": false,
     "start_time": "2025-08-19T18:57:49.380399",
     "status": "completed"
    },
    "tags": []
   },
   "source": [
    "# Final Output"
   ]
  },
  {
   "cell_type": "code",
   "execution_count": 62,
   "id": "3871301e",
   "metadata": {
    "execution": {
     "iopub.execute_input": "2025-08-19T18:57:49.423620Z",
     "iopub.status.busy": "2025-08-19T18:57:49.422833Z",
     "iopub.status.idle": "2025-08-19T18:57:49.433370Z",
     "shell.execute_reply": "2025-08-19T18:57:49.432517Z"
    },
    "papermill": {
     "duration": 0.027146,
     "end_time": "2025-08-19T18:57:49.434860",
     "exception": false,
     "start_time": "2025-08-19T18:57:49.407714",
     "status": "completed"
    },
    "tags": []
   },
   "outputs": [
    {
     "data": {
      "text/plain": [
       "4"
      ]
     },
     "execution_count": 62,
     "metadata": {},
     "output_type": "execute_result"
    }
   ],
   "source": [
    "sub_universes = universe_analysis.generate_sub_universes()\n",
    "len(sub_universes)"
   ]
  },
  {
   "cell_type": "code",
   "execution_count": 63,
   "id": "d9cfdaca",
   "metadata": {
    "execution": {
     "iopub.execute_input": "2025-08-19T18:57:49.464390Z",
     "iopub.status.busy": "2025-08-19T18:57:49.463898Z",
     "iopub.status.idle": "2025-08-19T18:57:49.493574Z",
     "shell.execute_reply": "2025-08-19T18:57:49.492448Z"
    },
    "papermill": {
     "duration": 0.046901,
     "end_time": "2025-08-19T18:57:49.495837",
     "exception": false,
     "start_time": "2025-08-19T18:57:49.448936",
     "status": "completed"
    },
    "tags": []
   },
   "outputs": [],
   "source": [
    "def filter_sub_universe_data(sub_universe, org_test):\n",
    "    # Keep all rows — no filtering\n",
    "    keep_rows_mask = np.ones(org_test.shape[0], dtype=bool)\n",
    "\n",
    "    print(f\"[INFO] Keeping all rows: {keep_rows_mask.sum()} rows retained.\")\n",
    "    return keep_rows_mask"
   ]
  },
  {
   "cell_type": "code",
   "execution_count": 64,
   "id": "2bc31ac1",
   "metadata": {
    "execution": {
     "iopub.execute_input": "2025-08-19T18:57:49.532625Z",
     "iopub.status.busy": "2025-08-19T18:57:49.531895Z",
     "iopub.status.idle": "2025-08-19T18:57:56.674654Z",
     "shell.execute_reply": "2025-08-19T18:57:56.672898Z"
    },
    "papermill": {
     "duration": 7.160716,
     "end_time": "2025-08-19T18:57:56.676775",
     "exception": false,
     "start_time": "2025-08-19T18:57:49.516059",
     "status": "completed"
    },
    "tags": []
   },
   "outputs": [
    {
     "name": "stdout",
     "output_type": "stream",
     "text": [
      "Stopping execution_time clock.\n",
      "[INFO] Keeping all rows: 89710 rows retained.\n"
     ]
    },
    {
     "name": "stdout",
     "output_type": "stream",
     "text": [
      "[INFO] Keeping all rows: 89710 rows retained.\n"
     ]
    },
    {
     "name": "stdout",
     "output_type": "stream",
     "text": [
      "[INFO] Keeping all rows: 89710 rows retained.\n"
     ]
    },
    {
     "name": "stdout",
     "output_type": "stream",
     "text": [
      "[INFO] Keeping all rows: 89710 rows retained.\n"
     ]
    },
    {
     "data": {
      "text/html": [
       "<div>\n",
       "<style scoped>\n",
       "    .dataframe tbody tr th:only-of-type {\n",
       "        vertical-align: middle;\n",
       "    }\n",
       "\n",
       "    .dataframe tbody tr th {\n",
       "        vertical-align: top;\n",
       "    }\n",
       "\n",
       "    .dataframe thead th {\n",
       "        text-align: right;\n",
       "    }\n",
       "</style>\n",
       "<table border=\"1\" class=\"dataframe\">\n",
       "  <thead>\n",
       "    <tr style=\"text-align: right;\">\n",
       "      <th></th>\n",
       "      <th>run_no</th>\n",
       "      <th>universe_id</th>\n",
       "      <th>universe_settings</th>\n",
       "      <th>execution_time</th>\n",
       "      <th>test_size_n</th>\n",
       "      <th>test_size_frac</th>\n",
       "      <th>fair_main_equalized_odds_difference</th>\n",
       "      <th>fair_main_equalized_odds_ratio</th>\n",
       "      <th>fair_main_demographic_parity_difference</th>\n",
       "      <th>fair_main_demographic_parity_ratio</th>\n",
       "      <th>...</th>\n",
       "      <th>perf_grp_precision_0</th>\n",
       "      <th>perf_grp_precision_1</th>\n",
       "      <th>perf_grp_false positive rate_0</th>\n",
       "      <th>perf_grp_false positive rate_1</th>\n",
       "      <th>perf_grp_false negative rate_0</th>\n",
       "      <th>perf_grp_false negative rate_1</th>\n",
       "      <th>perf_grp_selection rate_0</th>\n",
       "      <th>perf_grp_selection rate_1</th>\n",
       "      <th>perf_grp_count_0</th>\n",
       "      <th>perf_grp_count_1</th>\n",
       "    </tr>\n",
       "  </thead>\n",
       "  <tbody>\n",
       "    <tr>\n",
       "      <th>0</th>\n",
       "      <td>3</td>\n",
       "      <td>683765583719c3b652cda582b2308691</td>\n",
       "      <td>{\"cutoff\": \"quantile_0.1\", \"eval_fairness_grou...</td>\n",
       "      <td>21.805473</td>\n",
       "      <td>89710</td>\n",
       "      <td>1.0</td>\n",
       "      <td>0.087232</td>\n",
       "      <td>0.908877</td>\n",
       "      <td>0.078739</td>\n",
       "      <td>0.918041</td>\n",
       "      <td>...</td>\n",
       "      <td>NaN</td>\n",
       "      <td>NaN</td>\n",
       "      <td>NaN</td>\n",
       "      <td>NaN</td>\n",
       "      <td>NaN</td>\n",
       "      <td>NaN</td>\n",
       "      <td>NaN</td>\n",
       "      <td>NaN</td>\n",
       "      <td>NaN</td>\n",
       "      <td>NaN</td>\n",
       "    </tr>\n",
       "    <tr>\n",
       "      <th>0</th>\n",
       "      <td>3</td>\n",
       "      <td>683765583719c3b652cda582b2308691</td>\n",
       "      <td>{\"cutoff\": \"quantile_0.1\", \"eval_fairness_grou...</td>\n",
       "      <td>21.805473</td>\n",
       "      <td>89710</td>\n",
       "      <td>1.0</td>\n",
       "      <td>0.087232</td>\n",
       "      <td>0.908877</td>\n",
       "      <td>0.078739</td>\n",
       "      <td>0.918041</td>\n",
       "      <td>...</td>\n",
       "      <td>0.118431</td>\n",
       "      <td>0.143855</td>\n",
       "      <td>0.957297</td>\n",
       "      <td>0.870065</td>\n",
       "      <td>0.013091</td>\n",
       "      <td>0.039825</td>\n",
       "      <td>0.960711</td>\n",
       "      <td>0.881972</td>\n",
       "      <td>20540.0</td>\n",
       "      <td>69170.0</td>\n",
       "    </tr>\n",
       "    <tr>\n",
       "      <th>0</th>\n",
       "      <td>3</td>\n",
       "      <td>683765583719c3b652cda582b2308691</td>\n",
       "      <td>{\"cutoff\": \"quantile_0.25\", \"eval_fairness_gro...</td>\n",
       "      <td>21.805473</td>\n",
       "      <td>89710</td>\n",
       "      <td>1.0</td>\n",
       "      <td>0.164460</td>\n",
       "      <td>0.807611</td>\n",
       "      <td>0.148329</td>\n",
       "      <td>0.828395</td>\n",
       "      <td>...</td>\n",
       "      <td>NaN</td>\n",
       "      <td>NaN</td>\n",
       "      <td>NaN</td>\n",
       "      <td>NaN</td>\n",
       "      <td>NaN</td>\n",
       "      <td>NaN</td>\n",
       "      <td>NaN</td>\n",
       "      <td>NaN</td>\n",
       "      <td>NaN</td>\n",
       "      <td>NaN</td>\n",
       "    </tr>\n",
       "    <tr>\n",
       "      <th>0</th>\n",
       "      <td>3</td>\n",
       "      <td>683765583719c3b652cda582b2308691</td>\n",
       "      <td>{\"cutoff\": \"quantile_0.25\", \"eval_fairness_gro...</td>\n",
       "      <td>21.805473</td>\n",
       "      <td>89710</td>\n",
       "      <td>1.0</td>\n",
       "      <td>0.164460</td>\n",
       "      <td>0.807611</td>\n",
       "      <td>0.148329</td>\n",
       "      <td>0.828395</td>\n",
       "      <td>...</td>\n",
       "      <td>0.125042</td>\n",
       "      <td>0.163241</td>\n",
       "      <td>0.854832</td>\n",
       "      <td>0.690371</td>\n",
       "      <td>0.062500</td>\n",
       "      <td>0.115427</td>\n",
       "      <td>0.864362</td>\n",
       "      <td>0.716033</td>\n",
       "      <td>20540.0</td>\n",
       "      <td>69170.0</td>\n",
       "    </tr>\n",
       "  </tbody>\n",
       "</table>\n",
       "<p>4 rows × 50 columns</p>\n",
       "</div>"
      ],
      "text/plain": [
       "  run_no                       universe_id  \\\n",
       "0      3  683765583719c3b652cda582b2308691   \n",
       "0      3  683765583719c3b652cda582b2308691   \n",
       "0      3  683765583719c3b652cda582b2308691   \n",
       "0      3  683765583719c3b652cda582b2308691   \n",
       "\n",
       "                                   universe_settings  execution_time  \\\n",
       "0  {\"cutoff\": \"quantile_0.1\", \"eval_fairness_grou...       21.805473   \n",
       "0  {\"cutoff\": \"quantile_0.1\", \"eval_fairness_grou...       21.805473   \n",
       "0  {\"cutoff\": \"quantile_0.25\", \"eval_fairness_gro...       21.805473   \n",
       "0  {\"cutoff\": \"quantile_0.25\", \"eval_fairness_gro...       21.805473   \n",
       "\n",
       "   test_size_n  test_size_frac  fair_main_equalized_odds_difference  \\\n",
       "0        89710             1.0                             0.087232   \n",
       "0        89710             1.0                             0.087232   \n",
       "0        89710             1.0                             0.164460   \n",
       "0        89710             1.0                             0.164460   \n",
       "\n",
       "   fair_main_equalized_odds_ratio  fair_main_demographic_parity_difference  \\\n",
       "0                        0.908877                                 0.078739   \n",
       "0                        0.908877                                 0.078739   \n",
       "0                        0.807611                                 0.148329   \n",
       "0                        0.807611                                 0.148329   \n",
       "\n",
       "   fair_main_demographic_parity_ratio  ...  perf_grp_precision_0  \\\n",
       "0                            0.918041  ...                   NaN   \n",
       "0                            0.918041  ...              0.118431   \n",
       "0                            0.828395  ...                   NaN   \n",
       "0                            0.828395  ...              0.125042   \n",
       "\n",
       "   perf_grp_precision_1  perf_grp_false positive rate_0  \\\n",
       "0                   NaN                             NaN   \n",
       "0              0.143855                        0.957297   \n",
       "0                   NaN                             NaN   \n",
       "0              0.163241                        0.854832   \n",
       "\n",
       "   perf_grp_false positive rate_1  perf_grp_false negative rate_0  \\\n",
       "0                             NaN                             NaN   \n",
       "0                        0.870065                        0.013091   \n",
       "0                             NaN                             NaN   \n",
       "0                        0.690371                        0.062500   \n",
       "\n",
       "   perf_grp_false negative rate_1  perf_grp_selection rate_0  \\\n",
       "0                             NaN                        NaN   \n",
       "0                        0.039825                   0.960711   \n",
       "0                             NaN                        NaN   \n",
       "0                        0.115427                   0.864362   \n",
       "\n",
       "   perf_grp_selection rate_1  perf_grp_count_0  perf_grp_count_1  \n",
       "0                        NaN               NaN               NaN  \n",
       "0                   0.881972           20540.0           69170.0  \n",
       "0                        NaN               NaN               NaN  \n",
       "0                   0.716033           20540.0           69170.0  \n",
       "\n",
       "[4 rows x 50 columns]"
      ]
     },
     "execution_count": 64,
     "metadata": {},
     "output_type": "execute_result"
    }
   ],
   "source": [
    "final_output = universe_analysis.generate_final_output(\n",
    "    y_pred_prob=probs_test,\n",
    "    y_test=y_true,\n",
    "    org_test=org_test,\n",
    "    filter_data=filter_sub_universe_data,\n",
    "    cp_metrics_df=cp_metrics_df,\n",
    "    save=True,\n",
    ")\n",
    "final_output"
   ]
  },
  {
   "cell_type": "code",
   "execution_count": null,
   "id": "8b80a1ff",
   "metadata": {
    "papermill": {
     "duration": 0.014564,
     "end_time": "2025-08-19T18:57:56.708654",
     "exception": false,
     "start_time": "2025-08-19T18:57:56.694090",
     "status": "completed"
    },
    "tags": []
   },
   "outputs": [],
   "source": []
  },
  {
   "cell_type": "code",
   "execution_count": null,
   "id": "275c9fad",
   "metadata": {
    "papermill": {
     "duration": 0.014338,
     "end_time": "2025-08-19T18:57:56.737536",
     "exception": false,
     "start_time": "2025-08-19T18:57:56.723198",
     "status": "completed"
    },
    "tags": []
   },
   "outputs": [],
   "source": []
  }
 ],
 "metadata": {
  "celltoolbar": "Tags",
  "kernelspec": {
   "display_name": "Python (CMA Fairness)",
   "language": "python",
   "name": "cma_fair_env"
  },
  "language_info": {
   "codemirror_mode": {
    "name": "ipython",
    "version": 3
   },
   "file_extension": ".py",
   "mimetype": "text/x-python",
   "name": "python",
   "nbconvert_exporter": "python",
   "pygments_lexer": "ipython3",
   "version": "3.10.12"
  },
  "papermill": {
   "default_parameters": {},
   "duration": 32.760424,
   "end_time": "2025-08-19T18:57:57.574207",
   "environment_variables": {},
   "exception": null,
   "input_path": "universe_analysis.ipynb",
   "output_path": "output/runs/3/notebooks/m_3-683765583719c3b652cda582b2308691.ipynb",
   "parameters": {
    "output_dir": "output",
    "run_no": "3",
    "seed": "2023",
    "universe": "{\"cutoff\": [\"quantile_0.1\", \"quantile_0.25\"], \"eval_fairness_grouping\": [\"majority-minority\", \"nationality-all\"], \"exclude_features\": \"nationality\", \"exclude_subgroups\": \"keep-all\", \"model\": \"penalized_logreg\", \"scale\": \"scale\", \"training_size\": \"1k\", \"training_year\": \"2012_14\"}",
    "universe_id": "683765583719c3b652cda582b2308691"
   },
   "start_time": "2025-08-19T18:57:24.813783",
   "version": "2.6.0"
  }
 },
 "nbformat": 4,
 "nbformat_minor": 5
}