{
 "cells": [
  {
   "cell_type": "markdown",
   "id": "ef23dbb3",
   "metadata": {
    "papermill": {
     "duration": 0.022627,
     "end_time": "2025-08-19T18:07:09.525988",
     "exception": false,
     "start_time": "2025-08-19T18:07:09.503361",
     "status": "completed"
    },
    "tags": []
   },
   "source": [
    "# Setup"
   ]
  },
  {
   "cell_type": "code",
   "execution_count": 1,
   "id": "0bc8e7dc",
   "metadata": {
    "execution": {
     "iopub.execute_input": "2025-08-19T18:07:09.548017Z",
     "iopub.status.busy": "2025-08-19T18:07:09.547710Z",
     "iopub.status.idle": "2025-08-19T18:07:09.559508Z",
     "shell.execute_reply": "2025-08-19T18:07:09.558257Z"
    },
    "papermill": {
     "duration": 0.023757,
     "end_time": "2025-08-19T18:07:09.561268",
     "exception": false,
     "start_time": "2025-08-19T18:07:09.537511",
     "status": "completed"
    },
    "tags": []
   },
   "outputs": [
    {
     "name": "stdout",
     "output_type": "stream",
     "text": [
      "/dss/dsshome1/0C/ra93lal2/cma/CMA_Fairness_v2\n"
     ]
    },
    {
     "name": "stderr",
     "output_type": "stream",
     "text": [
      "/dss/dsshome1/0C/ra93lal2/.local/share/virtualenvs/CMA_Fairness_v2-3j10GkSs/lib/python3.10/site-packages/IPython/core/magics/osm.py:393: UserWarning: This is now an optional IPython functionality, using bookmarks requires you to install the `pickleshare` library.\n",
      "  bkms = self.shell.db.get('bookmarks', {})\n",
      "/dss/dsshome1/0C/ra93lal2/.local/share/virtualenvs/CMA_Fairness_v2-3j10GkSs/lib/python3.10/site-packages/IPython/core/magics/osm.py:417: UserWarning: This is now an optional IPython functionality, setting dhist requires you to install the `pickleshare` library.\n",
      "  self.shell.db['dhist'] = compress_dhist(dhist)[-100:]\n"
     ]
    }
   ],
   "source": [
    "%cd ~/cma/CMA_Fairness_v2"
   ]
  },
  {
   "cell_type": "markdown",
   "id": "9d235661",
   "metadata": {
    "papermill": {
     "duration": 0.008886,
     "end_time": "2025-08-19T18:07:09.579243",
     "exception": false,
     "start_time": "2025-08-19T18:07:09.570357",
     "status": "completed"
    },
    "tags": []
   },
   "source": [
    "The following cell holds the definition of our parameters, these values can be overriden by rendering the with e.g. the following command:\n",
    "\n",
    "papermill -p alpha 0.2 -p ratio 0.3 universe_analysis.ipynb output/test_run.ipynb"
   ]
  },
  {
   "cell_type": "code",
   "execution_count": 2,
   "id": "4a789d8e",
   "metadata": {
    "execution": {
     "iopub.execute_input": "2025-08-19T18:07:09.597307Z",
     "iopub.status.busy": "2025-08-19T18:07:09.597046Z",
     "iopub.status.idle": "2025-08-19T18:07:09.602362Z",
     "shell.execute_reply": "2025-08-19T18:07:09.601358Z"
    },
    "papermill": {
     "duration": 0.016033,
     "end_time": "2025-08-19T18:07:09.603825",
     "exception": false,
     "start_time": "2025-08-19T18:07:09.587792",
     "status": "completed"
    },
    "tags": []
   },
   "outputs": [
    {
     "name": "stdout",
     "output_type": "stream",
     "text": [
      "Current working directory: /dss/dsshome1/0C/ra93lal2/cma/CMA_Fairness_v2\n"
     ]
    }
   ],
   "source": [
    "import os\n",
    "print(\"Current working directory:\", os.getcwd())"
   ]
  },
  {
   "cell_type": "code",
   "execution_count": 3,
   "id": "4132aaed",
   "metadata": {
    "execution": {
     "iopub.execute_input": "2025-08-19T18:07:09.622957Z",
     "iopub.status.busy": "2025-08-19T18:07:09.622715Z",
     "iopub.status.idle": "2025-08-19T18:07:09.627907Z",
     "shell.execute_reply": "2025-08-19T18:07:09.626990Z"
    },
    "papermill": {
     "duration": 0.016224,
     "end_time": "2025-08-19T18:07:09.629482",
     "exception": false,
     "start_time": "2025-08-19T18:07:09.613258",
     "status": "completed"
    },
    "tags": [
     "parameters"
    ]
   },
   "outputs": [],
   "source": [
    "run_no = 0\n",
    "universe_id = \"test\"\n",
    "universe = {\n",
    "    \"training_size\": \"5k\", # \"25k\", \"5k\", \"1k\"\n",
    "    \"training_year\": \"2012_14\", # \"2014\", \"2012_14\", \"2010_14\"\n",
    "    \"scale\": \"scale\", # \"scale\", \"do-not-scale\",\n",
    "    \"model\": \"elasticnet\", # \"logreg\", \"penalized_logreg\", \"rf\", \"gbm\", \"elasticnet\"\n",
    "    \"cutoff\": [\"quantile_0.15\", \"quantile_0.30\"],\n",
    "    \"exclude_features\": \"age\", # \"none\", \"nationality\", \"sex\", \"nationality-sex\", \"age\"\n",
    "    \"exclude_subgroups\": \"drop-non-german\", # \"keep-all\", \"drop-non-german\"\n",
    "    \"eval_fairness_grouping\": [\"majority-minority\", \"nationality-all\"]\n",
    "}\n",
    "\n",
    "output_dir=\"./output\"\n",
    "seed=0"
   ]
  },
  {
   "cell_type": "code",
   "execution_count": 4,
   "id": "e7d0b6f9",
   "metadata": {
    "execution": {
     "iopub.execute_input": "2025-08-19T18:07:09.648454Z",
     "iopub.status.busy": "2025-08-19T18:07:09.648212Z",
     "iopub.status.idle": "2025-08-19T18:07:09.653041Z",
     "shell.execute_reply": "2025-08-19T18:07:09.651885Z"
    },
    "papermill": {
     "duration": 0.016707,
     "end_time": "2025-08-19T18:07:09.654906",
     "exception": false,
     "start_time": "2025-08-19T18:07:09.638199",
     "status": "completed"
    },
    "tags": [
     "injected-parameters"
    ]
   },
   "outputs": [],
   "source": [
    "# Parameters\n",
    "universe_id = \"5a6029aaf510f4593bc0d2e67594f376\"\n",
    "run_no = \"3\"\n",
    "universe = \"{\\\"cutoff\\\": [\\\"quantile_0.1\\\", \\\"quantile_0.25\\\"], \\\"eval_fairness_grouping\\\": [\\\"majority-minority\\\", \\\"nationality-all\\\"], \\\"exclude_features\\\": \\\"sex\\\", \\\"exclude_subgroups\\\": \\\"keep-all\\\", \\\"model\\\": \\\"elasticnet\\\", \\\"scale\\\": \\\"scale\\\", \\\"training_size\\\": \\\"25k\\\", \\\"training_year\\\": \\\"2012_14\\\"}\"\n",
    "output_dir = \"output\"\n",
    "seed = \"2023\"\n"
   ]
  },
  {
   "cell_type": "code",
   "execution_count": 5,
   "id": "a5d7941f",
   "metadata": {
    "execution": {
     "iopub.execute_input": "2025-08-19T18:07:09.673323Z",
     "iopub.status.busy": "2025-08-19T18:07:09.673074Z",
     "iopub.status.idle": "2025-08-19T18:07:09.677305Z",
     "shell.execute_reply": "2025-08-19T18:07:09.676463Z"
    },
    "papermill": {
     "duration": 0.014994,
     "end_time": "2025-08-19T18:07:09.678664",
     "exception": false,
     "start_time": "2025-08-19T18:07:09.663670",
     "status": "completed"
    },
    "tags": []
   },
   "outputs": [],
   "source": [
    "import json\n",
    "if isinstance(universe, str):\n",
    "    universe = json.loads(universe)"
   ]
  },
  {
   "cell_type": "code",
   "execution_count": 6,
   "id": "7076ccb1",
   "metadata": {
    "execution": {
     "iopub.execute_input": "2025-08-19T18:07:09.697773Z",
     "iopub.status.busy": "2025-08-19T18:07:09.697529Z",
     "iopub.status.idle": "2025-08-19T18:07:09.732781Z",
     "shell.execute_reply": "2025-08-19T18:07:09.731692Z"
    },
    "papermill": {
     "duration": 0.046757,
     "end_time": "2025-08-19T18:07:09.734547",
     "exception": false,
     "start_time": "2025-08-19T18:07:09.687790",
     "status": "completed"
    },
    "tags": []
   },
   "outputs": [],
   "source": [
    "# Auto-reload the custom package\n",
    "%load_ext autoreload\n",
    "%autoreload 1\n",
    "%aimport fairness_multiverse"
   ]
  },
  {
   "cell_type": "code",
   "execution_count": 7,
   "id": "94c8eb93",
   "metadata": {
    "execution": {
     "iopub.execute_input": "2025-08-19T18:07:09.753946Z",
     "iopub.status.busy": "2025-08-19T18:07:09.753695Z",
     "iopub.status.idle": "2025-08-19T18:07:11.193729Z",
     "shell.execute_reply": "2025-08-19T18:07:11.191942Z"
    },
    "papermill": {
     "duration": 1.451742,
     "end_time": "2025-08-19T18:07:11.195458",
     "exception": false,
     "start_time": "2025-08-19T18:07:09.743716",
     "status": "completed"
    },
    "tags": []
   },
   "outputs": [],
   "source": [
    "from fairness_multiverse.universe import UniverseAnalysis\n",
    "\n",
    "universe_analysis = UniverseAnalysis(\n",
    "    run_no = run_no,\n",
    "    universe_id = universe_id,\n",
    "    universe = universe,\n",
    "    output_dir=output_dir,\n",
    ")"
   ]
  },
  {
   "cell_type": "code",
   "execution_count": 8,
   "id": "2a6381cf",
   "metadata": {
    "execution": {
     "iopub.execute_input": "2025-08-19T18:07:11.222010Z",
     "iopub.status.busy": "2025-08-19T18:07:11.221627Z",
     "iopub.status.idle": "2025-08-19T18:07:11.242487Z",
     "shell.execute_reply": "2025-08-19T18:07:11.241611Z"
    },
    "papermill": {
     "duration": 0.039744,
     "end_time": "2025-08-19T18:07:11.245263",
     "exception": false,
     "start_time": "2025-08-19T18:07:11.205519",
     "status": "completed"
    },
    "tags": []
   },
   "outputs": [
    {
     "name": "stdout",
     "output_type": "stream",
     "text": [
      "Using Seed: 2023\n"
     ]
    }
   ],
   "source": [
    "import numpy as np\n",
    "parsed_seed = int(seed)\n",
    "np.random.seed(parsed_seed)\n",
    "print(f\"Using Seed: {parsed_seed}\")"
   ]
  },
  {
   "cell_type": "markdown",
   "id": "b6e958b4",
   "metadata": {
    "papermill": {
     "duration": 0.008984,
     "end_time": "2025-08-19T18:07:11.263684",
     "exception": false,
     "start_time": "2025-08-19T18:07:11.254700",
     "status": "completed"
    },
    "tags": []
   },
   "source": [
    "# Loading Data"
   ]
  },
  {
   "cell_type": "code",
   "execution_count": 9,
   "id": "98701482",
   "metadata": {
    "execution": {
     "iopub.execute_input": "2025-08-19T18:07:11.282759Z",
     "iopub.status.busy": "2025-08-19T18:07:11.282364Z",
     "iopub.status.idle": "2025-08-19T18:07:21.427899Z",
     "shell.execute_reply": "2025-08-19T18:07:21.426334Z"
    },
    "papermill": {
     "duration": 10.156727,
     "end_time": "2025-08-19T18:07:21.429290",
     "exception": false,
     "start_time": "2025-08-19T18:07:11.272563",
     "status": "completed"
    },
    "tags": []
   },
   "outputs": [
    {
     "name": "stdout",
     "output_type": "stream",
     "text": [
      "Loading SIAB data from cache: data/siab_cached.csv.gz\n"
     ]
    },
    {
     "name": "stdout",
     "output_type": "stream",
     "text": [
      "(643690, 164)\n"
     ]
    }
   ],
   "source": [
    "from pathlib import Path\n",
    "import pandas as pd\n",
    "\n",
    "# File paths\n",
    "raw_file = Path(\"data/raw/siab.csv\")\n",
    "cache_file = Path(\"data/siab_cached.csv.gz\")\n",
    "\n",
    "# Ensure cache directory exists\n",
    "cache_file.parent.mkdir(parents=True, exist_ok=True)\n",
    "\n",
    "# Load with simple caching\n",
    "if cache_file.exists():\n",
    "    print(f\"Loading SIAB data from cache: {cache_file}\")\n",
    "    siab = pd.read_csv(cache_file, compression='gzip')\n",
    "else:\n",
    "    print(f\"Cache not found. Reading raw SIAB data: {raw_file}\")\n",
    "    siab = pd.read_csv(raw_file)\n",
    "    siab.to_csv(cache_file, index=False, compression='gzip')\n",
    "    print(f\"Cached SIAB data to: {cache_file}\")\n",
    "\n",
    "print(siab.shape)"
   ]
  },
  {
   "cell_type": "code",
   "execution_count": 10,
   "id": "058d2abb",
   "metadata": {
    "execution": {
     "iopub.execute_input": "2025-08-19T18:07:21.453221Z",
     "iopub.status.busy": "2025-08-19T18:07:21.452708Z",
     "iopub.status.idle": "2025-08-19T18:07:21.596559Z",
     "shell.execute_reply": "2025-08-19T18:07:21.595351Z"
    },
    "papermill": {
     "duration": 0.156091,
     "end_time": "2025-08-19T18:07:21.597869",
     "exception": false,
     "start_time": "2025-08-19T18:07:21.441778",
     "status": "completed"
    },
    "tags": []
   },
   "outputs": [
    {
     "data": {
      "text/html": [
       "<div>\n",
       "<style scoped>\n",
       "    .dataframe tbody tr th:only-of-type {\n",
       "        vertical-align: middle;\n",
       "    }\n",
       "\n",
       "    .dataframe tbody tr th {\n",
       "        vertical-align: top;\n",
       "    }\n",
       "\n",
       "    .dataframe thead th {\n",
       "        text-align: right;\n",
       "    }\n",
       "</style>\n",
       "<table border=\"1\" class=\"dataframe\">\n",
       "  <thead>\n",
       "    <tr style=\"text-align: right;\">\n",
       "      <th></th>\n",
       "      <th>persnr</th>\n",
       "      <th>year</th>\n",
       "      <th>nrEntry</th>\n",
       "      <th>ltue</th>\n",
       "      <th>employed_before</th>\n",
       "      <th>receipt_leh_before</th>\n",
       "      <th>receipt_lhg_before</th>\n",
       "      <th>se_before</th>\n",
       "      <th>ASU_notue_seeking_before</th>\n",
       "      <th>ASU_other_before</th>\n",
       "      <th>...</th>\n",
       "      <th>minijob_tot_dur_byage</th>\n",
       "      <th>ft_tot_dur_byage</th>\n",
       "      <th>befrist_tot_dur_byage</th>\n",
       "      <th>leih_tot_dur_byage</th>\n",
       "      <th>LHG_tot_dur_byage</th>\n",
       "      <th>LEH_tot_dur_byage</th>\n",
       "      <th>almp_tot_dur_byage</th>\n",
       "      <th>almp_aw_tot_dur_byage</th>\n",
       "      <th>se_tot_dur_byage</th>\n",
       "      <th>seeking1_tot_dur_byage</th>\n",
       "    </tr>\n",
       "  </thead>\n",
       "  <tbody>\n",
       "    <tr>\n",
       "      <th>0</th>\n",
       "      <td>7</td>\n",
       "      <td>2015</td>\n",
       "      <td>1</td>\n",
       "      <td>0</td>\n",
       "      <td>1</td>\n",
       "      <td>0</td>\n",
       "      <td>0</td>\n",
       "      <td>0</td>\n",
       "      <td>1</td>\n",
       "      <td>0</td>\n",
       "      <td>...</td>\n",
       "      <td>0.000000</td>\n",
       "      <td>0.000000</td>\n",
       "      <td>15.043478</td>\n",
       "      <td>0.000000</td>\n",
       "      <td>0.000000</td>\n",
       "      <td>0.000000</td>\n",
       "      <td>0.000000</td>\n",
       "      <td>0.000000</td>\n",
       "      <td>0.000000</td>\n",
       "      <td>0.000000</td>\n",
       "    </tr>\n",
       "    <tr>\n",
       "      <th>1</th>\n",
       "      <td>18</td>\n",
       "      <td>2010</td>\n",
       "      <td>1</td>\n",
       "      <td>1</td>\n",
       "      <td>0</td>\n",
       "      <td>0</td>\n",
       "      <td>0</td>\n",
       "      <td>0</td>\n",
       "      <td>0</td>\n",
       "      <td>0</td>\n",
       "      <td>...</td>\n",
       "      <td>0.000000</td>\n",
       "      <td>0.000000</td>\n",
       "      <td>0.000000</td>\n",
       "      <td>0.000000</td>\n",
       "      <td>0.000000</td>\n",
       "      <td>0.000000</td>\n",
       "      <td>0.000000</td>\n",
       "      <td>0.000000</td>\n",
       "      <td>0.000000</td>\n",
       "      <td>0.000000</td>\n",
       "    </tr>\n",
       "    <tr>\n",
       "      <th>2</th>\n",
       "      <td>18</td>\n",
       "      <td>2011</td>\n",
       "      <td>2</td>\n",
       "      <td>0</td>\n",
       "      <td>1</td>\n",
       "      <td>0</td>\n",
       "      <td>1</td>\n",
       "      <td>0</td>\n",
       "      <td>1</td>\n",
       "      <td>0</td>\n",
       "      <td>...</td>\n",
       "      <td>2.714286</td>\n",
       "      <td>2.714286</td>\n",
       "      <td>0.000000</td>\n",
       "      <td>0.000000</td>\n",
       "      <td>10.775510</td>\n",
       "      <td>0.000000</td>\n",
       "      <td>8.367347</td>\n",
       "      <td>0.000000</td>\n",
       "      <td>0.000000</td>\n",
       "      <td>9.836735</td>\n",
       "    </tr>\n",
       "    <tr>\n",
       "      <th>3</th>\n",
       "      <td>18</td>\n",
       "      <td>2012</td>\n",
       "      <td>3</td>\n",
       "      <td>0</td>\n",
       "      <td>1</td>\n",
       "      <td>0</td>\n",
       "      <td>1</td>\n",
       "      <td>0</td>\n",
       "      <td>1</td>\n",
       "      <td>0</td>\n",
       "      <td>...</td>\n",
       "      <td>4.200000</td>\n",
       "      <td>4.200000</td>\n",
       "      <td>0.000000</td>\n",
       "      <td>0.000000</td>\n",
       "      <td>12.100000</td>\n",
       "      <td>0.000000</td>\n",
       "      <td>9.400000</td>\n",
       "      <td>0.000000</td>\n",
       "      <td>0.000000</td>\n",
       "      <td>9.960000</td>\n",
       "    </tr>\n",
       "    <tr>\n",
       "      <th>4</th>\n",
       "      <td>18</td>\n",
       "      <td>2012</td>\n",
       "      <td>4</td>\n",
       "      <td>0</td>\n",
       "      <td>1</td>\n",
       "      <td>0</td>\n",
       "      <td>1</td>\n",
       "      <td>0</td>\n",
       "      <td>1</td>\n",
       "      <td>0</td>\n",
       "      <td>...</td>\n",
       "      <td>5.460000</td>\n",
       "      <td>5.460000</td>\n",
       "      <td>0.000000</td>\n",
       "      <td>0.000000</td>\n",
       "      <td>13.360000</td>\n",
       "      <td>0.000000</td>\n",
       "      <td>10.320000</td>\n",
       "      <td>0.000000</td>\n",
       "      <td>0.000000</td>\n",
       "      <td>10.280000</td>\n",
       "    </tr>\n",
       "    <tr>\n",
       "      <th>...</th>\n",
       "      <td>...</td>\n",
       "      <td>...</td>\n",
       "      <td>...</td>\n",
       "      <td>...</td>\n",
       "      <td>...</td>\n",
       "      <td>...</td>\n",
       "      <td>...</td>\n",
       "      <td>...</td>\n",
       "      <td>...</td>\n",
       "      <td>...</td>\n",
       "      <td>...</td>\n",
       "      <td>...</td>\n",
       "      <td>...</td>\n",
       "      <td>...</td>\n",
       "      <td>...</td>\n",
       "      <td>...</td>\n",
       "      <td>...</td>\n",
       "      <td>...</td>\n",
       "      <td>...</td>\n",
       "      <td>...</td>\n",
       "      <td>...</td>\n",
       "    </tr>\n",
       "    <tr>\n",
       "      <th>643685</th>\n",
       "      <td>1827860</td>\n",
       "      <td>2013</td>\n",
       "      <td>1</td>\n",
       "      <td>0</td>\n",
       "      <td>0</td>\n",
       "      <td>0</td>\n",
       "      <td>1</td>\n",
       "      <td>0</td>\n",
       "      <td>0</td>\n",
       "      <td>1</td>\n",
       "      <td>...</td>\n",
       "      <td>0.000000</td>\n",
       "      <td>0.000000</td>\n",
       "      <td>0.000000</td>\n",
       "      <td>0.000000</td>\n",
       "      <td>0.612903</td>\n",
       "      <td>0.000000</td>\n",
       "      <td>0.000000</td>\n",
       "      <td>0.000000</td>\n",
       "      <td>0.000000</td>\n",
       "      <td>0.000000</td>\n",
       "    </tr>\n",
       "    <tr>\n",
       "      <th>643686</th>\n",
       "      <td>1827860</td>\n",
       "      <td>2015</td>\n",
       "      <td>2</td>\n",
       "      <td>1</td>\n",
       "      <td>0</td>\n",
       "      <td>0</td>\n",
       "      <td>1</td>\n",
       "      <td>0</td>\n",
       "      <td>1</td>\n",
       "      <td>0</td>\n",
       "      <td>...</td>\n",
       "      <td>0.000000</td>\n",
       "      <td>0.000000</td>\n",
       "      <td>0.212121</td>\n",
       "      <td>0.212121</td>\n",
       "      <td>17.363636</td>\n",
       "      <td>0.000000</td>\n",
       "      <td>8.909091</td>\n",
       "      <td>0.000000</td>\n",
       "      <td>0.000000</td>\n",
       "      <td>7.121212</td>\n",
       "    </tr>\n",
       "    <tr>\n",
       "      <th>643687</th>\n",
       "      <td>1827860</td>\n",
       "      <td>2016</td>\n",
       "      <td>3</td>\n",
       "      <td>1</td>\n",
       "      <td>0</td>\n",
       "      <td>0</td>\n",
       "      <td>1</td>\n",
       "      <td>1</td>\n",
       "      <td>0</td>\n",
       "      <td>1</td>\n",
       "      <td>...</td>\n",
       "      <td>0.000000</td>\n",
       "      <td>0.000000</td>\n",
       "      <td>0.294118</td>\n",
       "      <td>0.205882</td>\n",
       "      <td>34.705882</td>\n",
       "      <td>0.000000</td>\n",
       "      <td>10.352941</td>\n",
       "      <td>1.705882</td>\n",
       "      <td>1.705882</td>\n",
       "      <td>23.911765</td>\n",
       "    </tr>\n",
       "    <tr>\n",
       "      <th>643688</th>\n",
       "      <td>1827869</td>\n",
       "      <td>2013</td>\n",
       "      <td>1</td>\n",
       "      <td>1</td>\n",
       "      <td>1</td>\n",
       "      <td>0</td>\n",
       "      <td>0</td>\n",
       "      <td>0</td>\n",
       "      <td>1</td>\n",
       "      <td>0</td>\n",
       "      <td>...</td>\n",
       "      <td>0.000000</td>\n",
       "      <td>0.000000</td>\n",
       "      <td>0.000000</td>\n",
       "      <td>0.000000</td>\n",
       "      <td>0.000000</td>\n",
       "      <td>0.525424</td>\n",
       "      <td>0.000000</td>\n",
       "      <td>0.000000</td>\n",
       "      <td>0.000000</td>\n",
       "      <td>0.000000</td>\n",
       "    </tr>\n",
       "    <tr>\n",
       "      <th>643689</th>\n",
       "      <td>1827869</td>\n",
       "      <td>2014</td>\n",
       "      <td>2</td>\n",
       "      <td>0</td>\n",
       "      <td>0</td>\n",
       "      <td>1</td>\n",
       "      <td>0</td>\n",
       "      <td>0</td>\n",
       "      <td>1</td>\n",
       "      <td>0</td>\n",
       "      <td>...</td>\n",
       "      <td>0.000000</td>\n",
       "      <td>0.666667</td>\n",
       "      <td>0.666667</td>\n",
       "      <td>0.000000</td>\n",
       "      <td>0.000000</td>\n",
       "      <td>8.950000</td>\n",
       "      <td>1.033333</td>\n",
       "      <td>0.083333</td>\n",
       "      <td>0.083333</td>\n",
       "      <td>8.133333</td>\n",
       "    </tr>\n",
       "  </tbody>\n",
       "</table>\n",
       "<p>643690 rows × 164 columns</p>\n",
       "</div>"
      ],
      "text/plain": [
       "         persnr  year  nrEntry  ltue  employed_before  receipt_leh_before  \\\n",
       "0             7  2015        1     0                1                   0   \n",
       "1            18  2010        1     1                0                   0   \n",
       "2            18  2011        2     0                1                   0   \n",
       "3            18  2012        3     0                1                   0   \n",
       "4            18  2012        4     0                1                   0   \n",
       "...         ...   ...      ...   ...              ...                 ...   \n",
       "643685  1827860  2013        1     0                0                   0   \n",
       "643686  1827860  2015        2     1                0                   0   \n",
       "643687  1827860  2016        3     1                0                   0   \n",
       "643688  1827869  2013        1     1                1                   0   \n",
       "643689  1827869  2014        2     0                0                   1   \n",
       "\n",
       "        receipt_lhg_before  se_before  ASU_notue_seeking_before  \\\n",
       "0                        0          0                         1   \n",
       "1                        0          0                         0   \n",
       "2                        1          0                         1   \n",
       "3                        1          0                         1   \n",
       "4                        1          0                         1   \n",
       "...                    ...        ...                       ...   \n",
       "643685                   1          0                         0   \n",
       "643686                   1          0                         1   \n",
       "643687                   1          1                         0   \n",
       "643688                   0          0                         1   \n",
       "643689                   0          0                         1   \n",
       "\n",
       "        ASU_other_before  ...  minijob_tot_dur_byage  ft_tot_dur_byage  \\\n",
       "0                      0  ...               0.000000          0.000000   \n",
       "1                      0  ...               0.000000          0.000000   \n",
       "2                      0  ...               2.714286          2.714286   \n",
       "3                      0  ...               4.200000          4.200000   \n",
       "4                      0  ...               5.460000          5.460000   \n",
       "...                  ...  ...                    ...               ...   \n",
       "643685                 1  ...               0.000000          0.000000   \n",
       "643686                 0  ...               0.000000          0.000000   \n",
       "643687                 1  ...               0.000000          0.000000   \n",
       "643688                 0  ...               0.000000          0.000000   \n",
       "643689                 0  ...               0.000000          0.666667   \n",
       "\n",
       "        befrist_tot_dur_byage  leih_tot_dur_byage  LHG_tot_dur_byage  \\\n",
       "0                   15.043478            0.000000           0.000000   \n",
       "1                    0.000000            0.000000           0.000000   \n",
       "2                    0.000000            0.000000          10.775510   \n",
       "3                    0.000000            0.000000          12.100000   \n",
       "4                    0.000000            0.000000          13.360000   \n",
       "...                       ...                 ...                ...   \n",
       "643685               0.000000            0.000000           0.612903   \n",
       "643686               0.212121            0.212121          17.363636   \n",
       "643687               0.294118            0.205882          34.705882   \n",
       "643688               0.000000            0.000000           0.000000   \n",
       "643689               0.666667            0.000000           0.000000   \n",
       "\n",
       "        LEH_tot_dur_byage  almp_tot_dur_byage  almp_aw_tot_dur_byage  \\\n",
       "0                0.000000            0.000000               0.000000   \n",
       "1                0.000000            0.000000               0.000000   \n",
       "2                0.000000            8.367347               0.000000   \n",
       "3                0.000000            9.400000               0.000000   \n",
       "4                0.000000           10.320000               0.000000   \n",
       "...                   ...                 ...                    ...   \n",
       "643685           0.000000            0.000000               0.000000   \n",
       "643686           0.000000            8.909091               0.000000   \n",
       "643687           0.000000           10.352941               1.705882   \n",
       "643688           0.525424            0.000000               0.000000   \n",
       "643689           8.950000            1.033333               0.083333   \n",
       "\n",
       "        se_tot_dur_byage  seeking1_tot_dur_byage  \n",
       "0               0.000000                0.000000  \n",
       "1               0.000000                0.000000  \n",
       "2               0.000000                9.836735  \n",
       "3               0.000000                9.960000  \n",
       "4               0.000000               10.280000  \n",
       "...                  ...                     ...  \n",
       "643685          0.000000                0.000000  \n",
       "643686          0.000000                7.121212  \n",
       "643687          1.705882               23.911765  \n",
       "643688          0.000000                0.000000  \n",
       "643689          0.083333                8.133333  \n",
       "\n",
       "[643690 rows x 164 columns]"
      ]
     },
     "execution_count": 10,
     "metadata": {},
     "output_type": "execute_result"
    }
   ],
   "source": [
    "siab"
   ]
  },
  {
   "cell_type": "markdown",
   "id": "1f87e805",
   "metadata": {
    "papermill": {
     "duration": 0.012323,
     "end_time": "2025-08-19T18:07:21.621457",
     "exception": false,
     "start_time": "2025-08-19T18:07:21.609134",
     "status": "completed"
    },
    "tags": []
   },
   "source": [
    "# Splitting Data and Setting Training Data Size"
   ]
  },
  {
   "cell_type": "code",
   "execution_count": 11,
   "id": "910ae358",
   "metadata": {
    "execution": {
     "iopub.execute_input": "2025-08-19T18:07:21.642357Z",
     "iopub.status.busy": "2025-08-19T18:07:21.641944Z",
     "iopub.status.idle": "2025-08-19T18:07:22.387885Z",
     "shell.execute_reply": "2025-08-19T18:07:22.386670Z"
    },
    "papermill": {
     "duration": 0.759794,
     "end_time": "2025-08-19T18:07:22.390987",
     "exception": false,
     "start_time": "2025-08-19T18:07:21.631193",
     "status": "completed"
    },
    "tags": []
   },
   "outputs": [],
   "source": [
    "from fairness_multiverse.universe import sample_by_year_size\n",
    "\n",
    "siab_train = sample_by_year_size(siab,\n",
    "                               training_year=universe[\"training_year\"],\n",
    "                               training_size=universe[\"training_size\"])"
   ]
  },
  {
   "cell_type": "code",
   "execution_count": 12,
   "id": "919c8ff5",
   "metadata": {
    "execution": {
     "iopub.execute_input": "2025-08-19T18:07:22.426341Z",
     "iopub.status.busy": "2025-08-19T18:07:22.425364Z",
     "iopub.status.idle": "2025-08-19T18:07:22.435099Z",
     "shell.execute_reply": "2025-08-19T18:07:22.433735Z"
    },
    "papermill": {
     "duration": 0.024259,
     "end_time": "2025-08-19T18:07:22.436844",
     "exception": false,
     "start_time": "2025-08-19T18:07:22.412585",
     "status": "completed"
    },
    "tags": []
   },
   "outputs": [
    {
     "data": {
      "text/plain": [
       "(25000, 164)"
      ]
     },
     "execution_count": 12,
     "metadata": {},
     "output_type": "execute_result"
    }
   ],
   "source": [
    "siab_train.shape"
   ]
  },
  {
   "cell_type": "code",
   "execution_count": 13,
   "id": "feb13bf4",
   "metadata": {
    "execution": {
     "iopub.execute_input": "2025-08-19T18:07:22.461854Z",
     "iopub.status.busy": "2025-08-19T18:07:22.460631Z",
     "iopub.status.idle": "2025-08-19T18:07:22.475112Z",
     "shell.execute_reply": "2025-08-19T18:07:22.473810Z"
    },
    "papermill": {
     "duration": 0.027537,
     "end_time": "2025-08-19T18:07:22.477038",
     "exception": false,
     "start_time": "2025-08-19T18:07:22.449501",
     "status": "completed"
    },
    "tags": []
   },
   "outputs": [
    {
     "data": {
      "text/plain": [
       "year\n",
       "2012    8334\n",
       "2013    8333\n",
       "2014    8333\n",
       "dtype: int64"
      ]
     },
     "metadata": {},
     "output_type": "display_data"
    }
   ],
   "source": [
    "display(siab_train.groupby(\"year\").size())"
   ]
  },
  {
   "cell_type": "code",
   "execution_count": 14,
   "id": "0997782f",
   "metadata": {
    "execution": {
     "iopub.execute_input": "2025-08-19T18:07:22.504418Z",
     "iopub.status.busy": "2025-08-19T18:07:22.503123Z",
     "iopub.status.idle": "2025-08-19T18:07:22.790734Z",
     "shell.execute_reply": "2025-08-19T18:07:22.789825Z"
    },
    "papermill": {
     "duration": 0.301191,
     "end_time": "2025-08-19T18:07:22.792457",
     "exception": false,
     "start_time": "2025-08-19T18:07:22.491266",
     "status": "completed"
    },
    "tags": []
   },
   "outputs": [],
   "source": [
    "#siab_train = siab_s[siab_s.year < 2015]\n",
    "siab_calib = siab[siab.year == 2015]\n",
    "siab_test = siab[siab.year == 2016]"
   ]
  },
  {
   "cell_type": "code",
   "execution_count": 15,
   "id": "2c1e4012",
   "metadata": {
    "execution": {
     "iopub.execute_input": "2025-08-19T18:07:22.815924Z",
     "iopub.status.busy": "2025-08-19T18:07:22.815084Z",
     "iopub.status.idle": "2025-08-19T18:07:22.820347Z",
     "shell.execute_reply": "2025-08-19T18:07:22.819355Z"
    },
    "papermill": {
     "duration": 0.017806,
     "end_time": "2025-08-19T18:07:22.821773",
     "exception": false,
     "start_time": "2025-08-19T18:07:22.803967",
     "status": "completed"
    },
    "tags": []
   },
   "outputs": [],
   "source": [
    "#siab_calib.shape"
   ]
  },
  {
   "cell_type": "code",
   "execution_count": 16,
   "id": "f66b54ca",
   "metadata": {
    "execution": {
     "iopub.execute_input": "2025-08-19T18:07:22.844182Z",
     "iopub.status.busy": "2025-08-19T18:07:22.842700Z",
     "iopub.status.idle": "2025-08-19T18:07:22.849915Z",
     "shell.execute_reply": "2025-08-19T18:07:22.848631Z"
    },
    "papermill": {
     "duration": 0.019993,
     "end_time": "2025-08-19T18:07:22.851604",
     "exception": false,
     "start_time": "2025-08-19T18:07:22.831611",
     "status": "completed"
    },
    "tags": []
   },
   "outputs": [],
   "source": [
    "#siab_test.shape"
   ]
  },
  {
   "cell_type": "code",
   "execution_count": 17,
   "id": "27e4384d",
   "metadata": {
    "execution": {
     "iopub.execute_input": "2025-08-19T18:07:22.876152Z",
     "iopub.status.busy": "2025-08-19T18:07:22.875060Z",
     "iopub.status.idle": "2025-08-19T18:07:22.898003Z",
     "shell.execute_reply": "2025-08-19T18:07:22.896719Z"
    },
    "papermill": {
     "duration": 0.037436,
     "end_time": "2025-08-19T18:07:22.899920",
     "exception": false,
     "start_time": "2025-08-19T18:07:22.862484",
     "status": "completed"
    },
    "tags": []
   },
   "outputs": [],
   "source": [
    "X_train = siab_train.iloc[:,4:164]\n",
    "y_train = siab_train.iloc[:, [3]]"
   ]
  },
  {
   "cell_type": "code",
   "execution_count": 18,
   "id": "08ee8389",
   "metadata": {
    "execution": {
     "iopub.execute_input": "2025-08-19T18:07:22.934393Z",
     "iopub.status.busy": "2025-08-19T18:07:22.933357Z",
     "iopub.status.idle": "2025-08-19T18:07:22.990994Z",
     "shell.execute_reply": "2025-08-19T18:07:22.989669Z"
    },
    "papermill": {
     "duration": 0.07607,
     "end_time": "2025-08-19T18:07:22.994443",
     "exception": false,
     "start_time": "2025-08-19T18:07:22.918373",
     "status": "completed"
    },
    "tags": []
   },
   "outputs": [],
   "source": [
    "X_calib = siab_calib.iloc[:,4:164]\n",
    "y_calib = siab_calib.iloc[:, [3]]"
   ]
  },
  {
   "cell_type": "code",
   "execution_count": 19,
   "id": "b7ff42e0",
   "metadata": {
    "execution": {
     "iopub.execute_input": "2025-08-19T18:07:23.029769Z",
     "iopub.status.busy": "2025-08-19T18:07:23.028812Z",
     "iopub.status.idle": "2025-08-19T18:07:23.088064Z",
     "shell.execute_reply": "2025-08-19T18:07:23.086729Z"
    },
    "papermill": {
     "duration": 0.075907,
     "end_time": "2025-08-19T18:07:23.091406",
     "exception": false,
     "start_time": "2025-08-19T18:07:23.015499",
     "status": "completed"
    },
    "tags": []
   },
   "outputs": [],
   "source": [
    "X_test = siab_test.iloc[:,4:164]\n",
    "y_true = siab_test.iloc[:, [3]]"
   ]
  },
  {
   "cell_type": "code",
   "execution_count": 20,
   "id": "0275101e",
   "metadata": {
    "execution": {
     "iopub.execute_input": "2025-08-19T18:07:23.128400Z",
     "iopub.status.busy": "2025-08-19T18:07:23.127280Z",
     "iopub.status.idle": "2025-08-19T18:07:23.259090Z",
     "shell.execute_reply": "2025-08-19T18:07:23.258112Z"
    },
    "papermill": {
     "duration": 0.147364,
     "end_time": "2025-08-19T18:07:23.261000",
     "exception": false,
     "start_time": "2025-08-19T18:07:23.113636",
     "status": "completed"
    },
    "tags": []
   },
   "outputs": [],
   "source": [
    "# Auxiliary data needed downstream in the pipeline\n",
    "\n",
    "org_train = X_train.copy()\n",
    "org_test = X_test.copy()\n",
    "org_calib = X_calib.copy()"
   ]
  },
  {
   "cell_type": "markdown",
   "id": "b461e618",
   "metadata": {
    "papermill": {
     "duration": 0.010116,
     "end_time": "2025-08-19T18:07:23.282395",
     "exception": false,
     "start_time": "2025-08-19T18:07:23.272279",
     "status": "completed"
    },
    "tags": []
   },
   "source": [
    "# Preprocessing Data"
   ]
  },
  {
   "cell_type": "code",
   "execution_count": 21,
   "id": "78e74c4b",
   "metadata": {
    "execution": {
     "iopub.execute_input": "2025-08-19T18:07:23.306234Z",
     "iopub.status.busy": "2025-08-19T18:07:23.304307Z",
     "iopub.status.idle": "2025-08-19T18:07:23.313846Z",
     "shell.execute_reply": "2025-08-19T18:07:23.312597Z"
    },
    "papermill": {
     "duration": 0.023231,
     "end_time": "2025-08-19T18:07:23.315651",
     "exception": false,
     "start_time": "2025-08-19T18:07:23.292420",
     "status": "completed"
    },
    "tags": []
   },
   "outputs": [],
   "source": [
    "# EXCLUDE PROTECTED FEATURES\n",
    "# --------------------------\n",
    "\n",
    "excluded_features = universe[\"exclude_features\"].split(\"-\")\n",
    "excluded_features_dictionary = {\n",
    "    \"nationality\": [\"maxdeutsch1\", \"maxdeutsch.Missing.\"],\n",
    "    \"sex\": [\"frau1\"],\n",
    "    \"age\": [\"age\"],\n",
    "}"
   ]
  },
  {
   "cell_type": "code",
   "execution_count": 22,
   "id": "f8e63555",
   "metadata": {
    "execution": {
     "iopub.execute_input": "2025-08-19T18:07:23.340887Z",
     "iopub.status.busy": "2025-08-19T18:07:23.339756Z",
     "iopub.status.idle": "2025-08-19T18:07:23.348247Z",
     "shell.execute_reply": "2025-08-19T18:07:23.346978Z"
    },
    "papermill": {
     "duration": 0.021619,
     "end_time": "2025-08-19T18:07:23.349739",
     "exception": false,
     "start_time": "2025-08-19T18:07:23.328120",
     "status": "completed"
    },
    "tags": []
   },
   "outputs": [],
   "source": [
    "excluded_features_columns = [\n",
    "    excluded_features_dictionary[f] for f in excluded_features if len(f) > 0 and f != \"none\"\n",
    "]"
   ]
  },
  {
   "cell_type": "code",
   "execution_count": 23,
   "id": "da781f7c",
   "metadata": {
    "execution": {
     "iopub.execute_input": "2025-08-19T18:07:23.372871Z",
     "iopub.status.busy": "2025-08-19T18:07:23.371605Z",
     "iopub.status.idle": "2025-08-19T18:07:23.382653Z",
     "shell.execute_reply": "2025-08-19T18:07:23.381110Z"
    },
    "papermill": {
     "duration": 0.024416,
     "end_time": "2025-08-19T18:07:23.384350",
     "exception": false,
     "start_time": "2025-08-19T18:07:23.359934",
     "status": "completed"
    },
    "tags": []
   },
   "outputs": [],
   "source": [
    "from fairness_multiverse.universe import flatten_once\n",
    "\n",
    "excluded_features_columns = flatten_once(excluded_features_columns)"
   ]
  },
  {
   "cell_type": "code",
   "execution_count": 24,
   "id": "37fef0f0",
   "metadata": {
    "execution": {
     "iopub.execute_input": "2025-08-19T18:07:23.410619Z",
     "iopub.status.busy": "2025-08-19T18:07:23.409098Z",
     "iopub.status.idle": "2025-08-19T18:07:23.429645Z",
     "shell.execute_reply": "2025-08-19T18:07:23.428351Z"
    },
    "papermill": {
     "duration": 0.034482,
     "end_time": "2025-08-19T18:07:23.431631",
     "exception": false,
     "start_time": "2025-08-19T18:07:23.397149",
     "status": "completed"
    },
    "tags": []
   },
   "outputs": [
    {
     "name": "stdout",
     "output_type": "stream",
     "text": [
      "Dropping features: ['frau1']\n"
     ]
    }
   ],
   "source": [
    "if len(excluded_features_columns) > 0:\n",
    "    print(f\"Dropping features: {excluded_features_columns}\")\n",
    "    X_train.drop(excluded_features_columns, axis=1, inplace=True)"
   ]
  },
  {
   "cell_type": "code",
   "execution_count": 25,
   "id": "d029e3e9",
   "metadata": {
    "execution": {
     "iopub.execute_input": "2025-08-19T18:07:23.464989Z",
     "iopub.status.busy": "2025-08-19T18:07:23.464549Z",
     "iopub.status.idle": "2025-08-19T18:07:23.520972Z",
     "shell.execute_reply": "2025-08-19T18:07:23.519694Z"
    },
    "papermill": {
     "duration": 0.072722,
     "end_time": "2025-08-19T18:07:23.522643",
     "exception": false,
     "start_time": "2025-08-19T18:07:23.449921",
     "status": "completed"
    },
    "tags": []
   },
   "outputs": [
    {
     "name": "stdout",
     "output_type": "stream",
     "text": [
      "Dropping features: ['frau1']\n"
     ]
    }
   ],
   "source": [
    "if len(excluded_features_columns) > 0:\n",
    "    print(f\"Dropping features: {excluded_features_columns}\")\n",
    "    X_test.drop(excluded_features_columns, axis=1, inplace=True)"
   ]
  },
  {
   "cell_type": "code",
   "execution_count": 26,
   "id": "01d571f0",
   "metadata": {
    "execution": {
     "iopub.execute_input": "2025-08-19T18:07:23.552335Z",
     "iopub.status.busy": "2025-08-19T18:07:23.551920Z",
     "iopub.status.idle": "2025-08-19T18:07:23.603566Z",
     "shell.execute_reply": "2025-08-19T18:07:23.602618Z"
    },
    "papermill": {
     "duration": 0.066221,
     "end_time": "2025-08-19T18:07:23.605225",
     "exception": false,
     "start_time": "2025-08-19T18:07:23.539004",
     "status": "completed"
    },
    "tags": []
   },
   "outputs": [
    {
     "name": "stdout",
     "output_type": "stream",
     "text": [
      "Dropping features: ['frau1']\n"
     ]
    }
   ],
   "source": [
    "if len(excluded_features_columns) > 0:\n",
    "    print(f\"Dropping features: {excluded_features_columns}\")\n",
    "    X_calib.drop(excluded_features_columns, axis=1, inplace=True)"
   ]
  },
  {
   "cell_type": "code",
   "execution_count": 27,
   "id": "3037356e",
   "metadata": {
    "execution": {
     "iopub.execute_input": "2025-08-19T18:07:23.630112Z",
     "iopub.status.busy": "2025-08-19T18:07:23.628607Z",
     "iopub.status.idle": "2025-08-19T18:07:23.636888Z",
     "shell.execute_reply": "2025-08-19T18:07:23.635623Z"
    },
    "papermill": {
     "duration": 0.023695,
     "end_time": "2025-08-19T18:07:23.639890",
     "exception": false,
     "start_time": "2025-08-19T18:07:23.616195",
     "status": "completed"
    },
    "tags": []
   },
   "outputs": [],
   "source": [
    "# EXCLUDE CERTAIN SUBGROUPS\n",
    "# -------------------------\n",
    "\n",
    "mode = universe.get(\"exclude_subgroups\", \"keep-all\") # Defaults to \"keep-all\" if the key is missing."
   ]
  },
  {
   "cell_type": "code",
   "execution_count": 28,
   "id": "9d1e63fd",
   "metadata": {
    "execution": {
     "iopub.execute_input": "2025-08-19T18:07:23.692727Z",
     "iopub.status.busy": "2025-08-19T18:07:23.691341Z",
     "iopub.status.idle": "2025-08-19T18:07:23.702497Z",
     "shell.execute_reply": "2025-08-19T18:07:23.701385Z"
    },
    "papermill": {
     "duration": 0.039288,
     "end_time": "2025-08-19T18:07:23.704377",
     "exception": false,
     "start_time": "2025-08-19T18:07:23.665089",
     "status": "completed"
    },
    "tags": []
   },
   "outputs": [],
   "source": [
    "if mode == \"keep-all\":\n",
    "    keep_mask = pd.Series(True, index=org_train.index)\n",
    "\n",
    "elif mode == \"drop-non-german\":\n",
    "    keep_mask = (org_train[\"maxdeutsch1\"] == 1) & (org_train[\"maxdeutsch.Missing.\"] == 0)\n",
    "\n",
    "else:\n",
    "    raise ValueError(f\"Unsupported mode for exclude_subgroups: {mode}\")"
   ]
  },
  {
   "cell_type": "code",
   "execution_count": 29,
   "id": "d3b65474",
   "metadata": {
    "execution": {
     "iopub.execute_input": "2025-08-19T18:07:23.735053Z",
     "iopub.status.busy": "2025-08-19T18:07:23.733775Z",
     "iopub.status.idle": "2025-08-19T18:07:23.744600Z",
     "shell.execute_reply": "2025-08-19T18:07:23.743319Z"
    },
    "papermill": {
     "duration": 0.025124,
     "end_time": "2025-08-19T18:07:23.746465",
     "exception": false,
     "start_time": "2025-08-19T18:07:23.721341",
     "status": "completed"
    },
    "tags": []
   },
   "outputs": [],
   "source": [
    "n_drop = (~keep_mask).sum() # Calculates how many rows are set to be dropped\n",
    "if n_drop > 0:\n",
    "    pct = n_drop / len(keep_mask) * 100\n",
    "    print(f\"Dropping {n_drop} rows ({pct:.2f}%) where mode='{mode}'\")"
   ]
  },
  {
   "cell_type": "code",
   "execution_count": 30,
   "id": "f44389b3",
   "metadata": {
    "execution": {
     "iopub.execute_input": "2025-08-19T18:07:23.775368Z",
     "iopub.status.busy": "2025-08-19T18:07:23.773991Z",
     "iopub.status.idle": "2025-08-19T18:07:23.797427Z",
     "shell.execute_reply": "2025-08-19T18:07:23.796320Z"
    },
    "papermill": {
     "duration": 0.037951,
     "end_time": "2025-08-19T18:07:23.799457",
     "exception": false,
     "start_time": "2025-08-19T18:07:23.761506",
     "status": "completed"
    },
    "tags": []
   },
   "outputs": [],
   "source": [
    "X_train = X_train[keep_mask]"
   ]
  },
  {
   "cell_type": "code",
   "execution_count": 31,
   "id": "ceca8c2a",
   "metadata": {
    "execution": {
     "iopub.execute_input": "2025-08-19T18:07:23.836266Z",
     "iopub.status.busy": "2025-08-19T18:07:23.835524Z",
     "iopub.status.idle": "2025-08-19T18:07:23.845836Z",
     "shell.execute_reply": "2025-08-19T18:07:23.844544Z"
    },
    "papermill": {
     "duration": 0.026622,
     "end_time": "2025-08-19T18:07:23.847643",
     "exception": false,
     "start_time": "2025-08-19T18:07:23.821021",
     "status": "completed"
    },
    "tags": []
   },
   "outputs": [],
   "source": [
    "y_train = y_train[keep_mask]"
   ]
  },
  {
   "cell_type": "markdown",
   "id": "04d31e2f",
   "metadata": {
    "papermill": {
     "duration": 0.010616,
     "end_time": "2025-08-19T18:07:23.873296",
     "exception": false,
     "start_time": "2025-08-19T18:07:23.862680",
     "status": "completed"
    },
    "tags": []
   },
   "source": [
    "# Model Training"
   ]
  },
  {
   "cell_type": "code",
   "execution_count": 32,
   "id": "db991733",
   "metadata": {
    "execution": {
     "iopub.execute_input": "2025-08-19T18:07:23.897649Z",
     "iopub.status.busy": "2025-08-19T18:07:23.896160Z",
     "iopub.status.idle": "2025-08-19T18:07:24.008430Z",
     "shell.execute_reply": "2025-08-19T18:07:24.007562Z"
    },
    "papermill": {
     "duration": 0.127549,
     "end_time": "2025-08-19T18:07:24.011377",
     "exception": false,
     "start_time": "2025-08-19T18:07:23.883828",
     "status": "completed"
    },
    "tags": []
   },
   "outputs": [],
   "source": [
    "from sklearn.linear_model import LogisticRegression\n",
    "from sklearn.ensemble import GradientBoostingClassifier, RandomForestClassifier\n",
    "\n",
    "if (universe[\"model\"] == \"logreg\"):\n",
    "    model = LogisticRegression() #penalty=\"none\", solver=\"newton-cg\", max_iter=1)\n",
    "elif (universe[\"model\"] == \"penalized_logreg\"):\n",
    "    model = LogisticRegression(penalty=\"l2\", C=0.1) #, solver=\"newton-cg\", max_iter=1)\n",
    "elif (universe[\"model\"] == \"rf\"):\n",
    "    model = RandomForestClassifier() # n_estimators=100, n_jobs=-1\n",
    "elif (universe[\"model\"] == \"gbm\"):\n",
    "    model = GradientBoostingClassifier()\n",
    "elif (universe[\"model\"] == \"elasticnet\"):\n",
    "    model = LogisticRegression(penalty = 'elasticnet', solver = 'saga', l1_ratio = 0.5) # max_iter=5000\n",
    "else:\n",
    "    raise \"Unsupported universe.model\""
   ]
  },
  {
   "cell_type": "code",
   "execution_count": 33,
   "id": "a4b5cd25",
   "metadata": {
    "execution": {
     "iopub.execute_input": "2025-08-19T18:07:24.052420Z",
     "iopub.status.busy": "2025-08-19T18:07:24.051156Z",
     "iopub.status.idle": "2025-08-19T18:07:24.061233Z",
     "shell.execute_reply": "2025-08-19T18:07:24.059951Z"
    },
    "papermill": {
     "duration": 0.02602,
     "end_time": "2025-08-19T18:07:24.062646",
     "exception": false,
     "start_time": "2025-08-19T18:07:24.036626",
     "status": "completed"
    },
    "tags": []
   },
   "outputs": [],
   "source": [
    "from sklearn.pipeline import Pipeline\n",
    "from sklearn.preprocessing import StandardScaler\n",
    "\n",
    "model = Pipeline([\n",
    "    #(\"continuous_processor\", continuous_processor),\n",
    "    #(\"categorical_preprocessor\", categorical_preprocessor),\n",
    "    (\"scale\", StandardScaler() if universe[\"scale\"] == \"scale\" else None), \n",
    "    (\"model\", model),\n",
    "])"
   ]
  },
  {
   "cell_type": "code",
   "execution_count": 34,
   "id": "283a904d",
   "metadata": {
    "execution": {
     "iopub.execute_input": "2025-08-19T18:07:24.090263Z",
     "iopub.status.busy": "2025-08-19T18:07:24.088402Z",
     "iopub.status.idle": "2025-08-19T18:07:31.269784Z",
     "shell.execute_reply": "2025-08-19T18:07:31.268753Z"
    },
    "papermill": {
     "duration": 7.195117,
     "end_time": "2025-08-19T18:07:31.271336",
     "exception": false,
     "start_time": "2025-08-19T18:07:24.076219",
     "status": "completed"
    },
    "tags": []
   },
   "outputs": [
    {
     "name": "stderr",
     "output_type": "stream",
     "text": [
      "/dss/dsshome1/0C/ra93lal2/.local/share/virtualenvs/CMA_Fairness_v2-3j10GkSs/lib/python3.10/site-packages/sklearn/linear_model/_sag.py:350: ConvergenceWarning: The max_iter was reached which means the coef_ did not converge\n",
      "  warnings.warn(\n"
     ]
    },
    {
     "data": {
      "text/html": [
       "<style>#sk-container-id-1 {color: black;background-color: white;}#sk-container-id-1 pre{padding: 0;}#sk-container-id-1 div.sk-toggleable {background-color: white;}#sk-container-id-1 label.sk-toggleable__label {cursor: pointer;display: block;width: 100%;margin-bottom: 0;padding: 0.3em;box-sizing: border-box;text-align: center;}#sk-container-id-1 label.sk-toggleable__label-arrow:before {content: \"▸\";float: left;margin-right: 0.25em;color: #696969;}#sk-container-id-1 label.sk-toggleable__label-arrow:hover:before {color: black;}#sk-container-id-1 div.sk-estimator:hover label.sk-toggleable__label-arrow:before {color: black;}#sk-container-id-1 div.sk-toggleable__content {max-height: 0;max-width: 0;overflow: hidden;text-align: left;background-color: #f0f8ff;}#sk-container-id-1 div.sk-toggleable__content pre {margin: 0.2em;color: black;border-radius: 0.25em;background-color: #f0f8ff;}#sk-container-id-1 input.sk-toggleable__control:checked~div.sk-toggleable__content {max-height: 200px;max-width: 100%;overflow: auto;}#sk-container-id-1 input.sk-toggleable__control:checked~label.sk-toggleable__label-arrow:before {content: \"▾\";}#sk-container-id-1 div.sk-estimator input.sk-toggleable__control:checked~label.sk-toggleable__label {background-color: #d4ebff;}#sk-container-id-1 div.sk-label input.sk-toggleable__control:checked~label.sk-toggleable__label {background-color: #d4ebff;}#sk-container-id-1 input.sk-hidden--visually {border: 0;clip: rect(1px 1px 1px 1px);clip: rect(1px, 1px, 1px, 1px);height: 1px;margin: -1px;overflow: hidden;padding: 0;position: absolute;width: 1px;}#sk-container-id-1 div.sk-estimator {font-family: monospace;background-color: #f0f8ff;border: 1px dotted black;border-radius: 0.25em;box-sizing: border-box;margin-bottom: 0.5em;}#sk-container-id-1 div.sk-estimator:hover {background-color: #d4ebff;}#sk-container-id-1 div.sk-parallel-item::after {content: \"\";width: 100%;border-bottom: 1px solid gray;flex-grow: 1;}#sk-container-id-1 div.sk-label:hover label.sk-toggleable__label {background-color: #d4ebff;}#sk-container-id-1 div.sk-serial::before {content: \"\";position: absolute;border-left: 1px solid gray;box-sizing: border-box;top: 0;bottom: 0;left: 50%;z-index: 0;}#sk-container-id-1 div.sk-serial {display: flex;flex-direction: column;align-items: center;background-color: white;padding-right: 0.2em;padding-left: 0.2em;position: relative;}#sk-container-id-1 div.sk-item {position: relative;z-index: 1;}#sk-container-id-1 div.sk-parallel {display: flex;align-items: stretch;justify-content: center;background-color: white;position: relative;}#sk-container-id-1 div.sk-item::before, #sk-container-id-1 div.sk-parallel-item::before {content: \"\";position: absolute;border-left: 1px solid gray;box-sizing: border-box;top: 0;bottom: 0;left: 50%;z-index: -1;}#sk-container-id-1 div.sk-parallel-item {display: flex;flex-direction: column;z-index: 1;position: relative;background-color: white;}#sk-container-id-1 div.sk-parallel-item:first-child::after {align-self: flex-end;width: 50%;}#sk-container-id-1 div.sk-parallel-item:last-child::after {align-self: flex-start;width: 50%;}#sk-container-id-1 div.sk-parallel-item:only-child::after {width: 0;}#sk-container-id-1 div.sk-dashed-wrapped {border: 1px dashed gray;margin: 0 0.4em 0.5em 0.4em;box-sizing: border-box;padding-bottom: 0.4em;background-color: white;}#sk-container-id-1 div.sk-label label {font-family: monospace;font-weight: bold;display: inline-block;line-height: 1.2em;}#sk-container-id-1 div.sk-label-container {text-align: center;}#sk-container-id-1 div.sk-container {/* jupyter's `normalize.less` sets `[hidden] { display: none; }` but bootstrap.min.css set `[hidden] { display: none !important; }` so we also need the `!important` here to be able to override the default hidden behavior on the sphinx rendered scikit-learn.org. See: https://github.com/scikit-learn/scikit-learn/issues/21755 */display: inline-block !important;position: relative;}#sk-container-id-1 div.sk-text-repr-fallback {display: none;}</style><div id=\"sk-container-id-1\" class=\"sk-top-container\"><div class=\"sk-text-repr-fallback\"><pre>Pipeline(steps=[(&#x27;scale&#x27;, StandardScaler()),\n",
       "                (&#x27;model&#x27;,\n",
       "                 LogisticRegression(l1_ratio=0.5, penalty=&#x27;elasticnet&#x27;,\n",
       "                                    solver=&#x27;saga&#x27;))])</pre><b>In a Jupyter environment, please rerun this cell to show the HTML representation or trust the notebook. <br />On GitHub, the HTML representation is unable to render, please try loading this page with nbviewer.org.</b></div><div class=\"sk-container\" hidden><div class=\"sk-item sk-dashed-wrapped\"><div class=\"sk-label-container\"><div class=\"sk-label sk-toggleable\"><input class=\"sk-toggleable__control sk-hidden--visually\" id=\"sk-estimator-id-1\" type=\"checkbox\" ><label for=\"sk-estimator-id-1\" class=\"sk-toggleable__label sk-toggleable__label-arrow\">Pipeline</label><div class=\"sk-toggleable__content\"><pre>Pipeline(steps=[(&#x27;scale&#x27;, StandardScaler()),\n",
       "                (&#x27;model&#x27;,\n",
       "                 LogisticRegression(l1_ratio=0.5, penalty=&#x27;elasticnet&#x27;,\n",
       "                                    solver=&#x27;saga&#x27;))])</pre></div></div></div><div class=\"sk-serial\"><div class=\"sk-item\"><div class=\"sk-estimator sk-toggleable\"><input class=\"sk-toggleable__control sk-hidden--visually\" id=\"sk-estimator-id-2\" type=\"checkbox\" ><label for=\"sk-estimator-id-2\" class=\"sk-toggleable__label sk-toggleable__label-arrow\">StandardScaler</label><div class=\"sk-toggleable__content\"><pre>StandardScaler()</pre></div></div></div><div class=\"sk-item\"><div class=\"sk-estimator sk-toggleable\"><input class=\"sk-toggleable__control sk-hidden--visually\" id=\"sk-estimator-id-3\" type=\"checkbox\" ><label for=\"sk-estimator-id-3\" class=\"sk-toggleable__label sk-toggleable__label-arrow\">LogisticRegression</label><div class=\"sk-toggleable__content\"><pre>LogisticRegression(l1_ratio=0.5, penalty=&#x27;elasticnet&#x27;, solver=&#x27;saga&#x27;)</pre></div></div></div></div></div></div></div>"
      ],
      "text/plain": [
       "Pipeline(steps=[('scale', StandardScaler()),\n",
       "                ('model',\n",
       "                 LogisticRegression(l1_ratio=0.5, penalty='elasticnet',\n",
       "                                    solver='saga'))])"
      ]
     },
     "execution_count": 34,
     "metadata": {},
     "output_type": "execute_result"
    }
   ],
   "source": [
    "model.fit(X_train, y_train.values.ravel())"
   ]
  },
  {
   "cell_type": "code",
   "execution_count": 35,
   "id": "6e15e313",
   "metadata": {
    "execution": {
     "iopub.execute_input": "2025-08-19T18:07:31.318223Z",
     "iopub.status.busy": "2025-08-19T18:07:31.317434Z",
     "iopub.status.idle": "2025-08-19T18:07:31.519953Z",
     "shell.execute_reply": "2025-08-19T18:07:31.519264Z"
    },
    "papermill": {
     "duration": 0.233295,
     "end_time": "2025-08-19T18:07:31.521364",
     "exception": false,
     "start_time": "2025-08-19T18:07:31.288069",
     "status": "completed"
    },
    "tags": []
   },
   "outputs": [
    {
     "data": {
      "text/plain": [
       "0.8623676290268644"
      ]
     },
     "execution_count": 35,
     "metadata": {},
     "output_type": "execute_result"
    }
   ],
   "source": [
    "from fairness_multiverse.universe import predict_w_threshold\n",
    "\n",
    "probs_test = model.predict_proba(X_test)\n",
    "\n",
    "'''\n",
    "Below code returns a boolean array (or binary 0/1 array depending on how it’s used) where each element \n",
    "is True if the probability of class 1 is greater than or equal to the threshold, and False otherwise.\n",
    "'''\n",
    "y_pred_default = predict_w_threshold(probs_test, 0.5)\n",
    "\n",
    "from sklearn.metrics import accuracy_score\n",
    "\n",
    "# Naive prediction\n",
    "accuracy_score(y_true = y_true, y_pred = y_pred_default)"
   ]
  },
  {
   "cell_type": "code",
   "execution_count": 36,
   "id": "6f14067c",
   "metadata": {
    "execution": {
     "iopub.execute_input": "2025-08-19T18:07:31.585131Z",
     "iopub.status.busy": "2025-08-19T18:07:31.584336Z",
     "iopub.status.idle": "2025-08-19T18:07:31.768576Z",
     "shell.execute_reply": "2025-08-19T18:07:31.767837Z"
    },
    "papermill": {
     "duration": 0.227857,
     "end_time": "2025-08-19T18:07:31.770190",
     "exception": false,
     "start_time": "2025-08-19T18:07:31.542333",
     "status": "completed"
    },
    "tags": []
   },
   "outputs": [
    {
     "data": {
      "text/plain": [
       "array([0, 0, 0, ..., 0, 0, 0])"
      ]
     },
     "execution_count": 36,
     "metadata": {},
     "output_type": "execute_result"
    }
   ],
   "source": [
    "model.predict(X_test)"
   ]
  },
  {
   "cell_type": "markdown",
   "id": "3759920c",
   "metadata": {
    "papermill": {
     "duration": 0.010906,
     "end_time": "2025-08-19T18:07:31.793984",
     "exception": false,
     "start_time": "2025-08-19T18:07:31.783078",
     "status": "completed"
    },
    "tags": []
   },
   "source": [
    "# Conformal Prediction"
   ]
  },
  {
   "cell_type": "code",
   "execution_count": 37,
   "id": "14b27f59",
   "metadata": {
    "execution": {
     "iopub.execute_input": "2025-08-19T18:07:31.818501Z",
     "iopub.status.busy": "2025-08-19T18:07:31.817169Z",
     "iopub.status.idle": "2025-08-19T18:07:31.827370Z",
     "shell.execute_reply": "2025-08-19T18:07:31.826156Z"
    },
    "papermill": {
     "duration": 0.023996,
     "end_time": "2025-08-19T18:07:31.828774",
     "exception": false,
     "start_time": "2025-08-19T18:07:31.804778",
     "status": "completed"
    },
    "tags": []
   },
   "outputs": [],
   "source": [
    "# Miscoverage level for conformal prediction (10% allowed error rate => 90% target coverage)\n",
    "alpha = 0.1"
   ]
  },
  {
   "cell_type": "code",
   "execution_count": 38,
   "id": "59102472",
   "metadata": {
    "execution": {
     "iopub.execute_input": "2025-08-19T18:07:31.854876Z",
     "iopub.status.busy": "2025-08-19T18:07:31.853627Z",
     "iopub.status.idle": "2025-08-19T18:07:32.047392Z",
     "shell.execute_reply": "2025-08-19T18:07:32.046636Z"
    },
    "papermill": {
     "duration": 0.207898,
     "end_time": "2025-08-19T18:07:32.048913",
     "exception": false,
     "start_time": "2025-08-19T18:07:31.841015",
     "status": "completed"
    },
    "tags": []
   },
   "outputs": [],
   "source": [
    "probs_calib = model.predict_proba(X_calib)"
   ]
  },
  {
   "cell_type": "code",
   "execution_count": 39,
   "id": "a792d4dd",
   "metadata": {
    "execution": {
     "iopub.execute_input": "2025-08-19T18:07:32.073447Z",
     "iopub.status.busy": "2025-08-19T18:07:32.072692Z",
     "iopub.status.idle": "2025-08-19T18:07:32.081011Z",
     "shell.execute_reply": "2025-08-19T18:07:32.080007Z"
    },
    "papermill": {
     "duration": 0.02167,
     "end_time": "2025-08-19T18:07:32.082304",
     "exception": false,
     "start_time": "2025-08-19T18:07:32.060634",
     "status": "completed"
    },
    "tags": []
   },
   "outputs": [],
   "source": [
    "y_calib = y_calib.values.ravel().astype(int)"
   ]
  },
  {
   "cell_type": "code",
   "execution_count": 40,
   "id": "650fd033",
   "metadata": {
    "execution": {
     "iopub.execute_input": "2025-08-19T18:07:32.109144Z",
     "iopub.status.busy": "2025-08-19T18:07:32.107970Z",
     "iopub.status.idle": "2025-08-19T18:07:32.122877Z",
     "shell.execute_reply": "2025-08-19T18:07:32.121747Z"
    },
    "papermill": {
     "duration": 0.028645,
     "end_time": "2025-08-19T18:07:32.124248",
     "exception": false,
     "start_time": "2025-08-19T18:07:32.095603",
     "status": "completed"
    },
    "tags": []
   },
   "outputs": [],
   "source": [
    "from fairness_multiverse.conformal import compute_nc_scores\n",
    "\n",
    "# Compute nonconformity scores on calibration set (1 - probability of true class)\n",
    "nc_scores = compute_nc_scores(probs_calib, y_calib)"
   ]
  },
  {
   "cell_type": "code",
   "execution_count": 41,
   "id": "28ada44c",
   "metadata": {
    "execution": {
     "iopub.execute_input": "2025-08-19T18:07:32.155269Z",
     "iopub.status.busy": "2025-08-19T18:07:32.153793Z",
     "iopub.status.idle": "2025-08-19T18:07:32.165319Z",
     "shell.execute_reply": "2025-08-19T18:07:32.164252Z"
    },
    "papermill": {
     "duration": 0.028975,
     "end_time": "2025-08-19T18:07:32.167216",
     "exception": false,
     "start_time": "2025-08-19T18:07:32.138241",
     "status": "completed"
    },
    "tags": []
   },
   "outputs": [],
   "source": [
    "from fairness_multiverse.conformal import find_threshold\n",
    "\n",
    "# Find conformal threshold q_hat for the given alpha (split conformal method)\n",
    "q_hat = find_threshold(nc_scores, alpha)"
   ]
  },
  {
   "cell_type": "code",
   "execution_count": 42,
   "id": "df56469e",
   "metadata": {
    "execution": {
     "iopub.execute_input": "2025-08-19T18:07:32.196229Z",
     "iopub.status.busy": "2025-08-19T18:07:32.195146Z",
     "iopub.status.idle": "2025-08-19T18:07:32.206870Z",
     "shell.execute_reply": "2025-08-19T18:07:32.205848Z"
    },
    "papermill": {
     "duration": 0.026898,
     "end_time": "2025-08-19T18:07:32.208542",
     "exception": false,
     "start_time": "2025-08-19T18:07:32.181644",
     "status": "completed"
    },
    "tags": []
   },
   "outputs": [
    {
     "data": {
      "text/plain": [
       "0.6648621936084509"
      ]
     },
     "execution_count": 42,
     "metadata": {},
     "output_type": "execute_result"
    }
   ],
   "source": [
    "q_hat"
   ]
  },
  {
   "cell_type": "code",
   "execution_count": 43,
   "id": "aa1f5faa",
   "metadata": {
    "execution": {
     "iopub.execute_input": "2025-08-19T18:07:32.237271Z",
     "iopub.status.busy": "2025-08-19T18:07:32.235977Z",
     "iopub.status.idle": "2025-08-19T18:07:32.847251Z",
     "shell.execute_reply": "2025-08-19T18:07:32.846384Z"
    },
    "papermill": {
     "duration": 0.626004,
     "end_time": "2025-08-19T18:07:32.848729",
     "exception": false,
     "start_time": "2025-08-19T18:07:32.222725",
     "status": "completed"
    },
    "tags": []
   },
   "outputs": [],
   "source": [
    "from fairness_multiverse.conformal import predict_conformal_sets\n",
    "\n",
    "# Generate prediction sets for each test example\n",
    "pred_sets = predict_conformal_sets(model, X_test, q_hat)"
   ]
  },
  {
   "cell_type": "code",
   "execution_count": 44,
   "id": "97f67a6b",
   "metadata": {
    "execution": {
     "iopub.execute_input": "2025-08-19T18:07:32.889295Z",
     "iopub.status.busy": "2025-08-19T18:07:32.888204Z",
     "iopub.status.idle": "2025-08-19T18:07:32.896549Z",
     "shell.execute_reply": "2025-08-19T18:07:32.895247Z"
    },
    "papermill": {
     "duration": 0.037347,
     "end_time": "2025-08-19T18:07:32.898797",
     "exception": false,
     "start_time": "2025-08-19T18:07:32.861450",
     "status": "completed"
    },
    "tags": []
   },
   "outputs": [],
   "source": [
    "y_true = y_true.squeeze()"
   ]
  },
  {
   "cell_type": "code",
   "execution_count": 45,
   "id": "e700e9a7",
   "metadata": {
    "execution": {
     "iopub.execute_input": "2025-08-19T18:07:32.932991Z",
     "iopub.status.busy": "2025-08-19T18:07:32.931688Z",
     "iopub.status.idle": "2025-08-19T18:07:33.415955Z",
     "shell.execute_reply": "2025-08-19T18:07:33.415064Z"
    },
    "papermill": {
     "duration": 0.501247,
     "end_time": "2025-08-19T18:07:33.418734",
     "exception": false,
     "start_time": "2025-08-19T18:07:32.917487",
     "status": "completed"
    },
    "tags": []
   },
   "outputs": [],
   "source": [
    "from fairness_multiverse.conformal import evaluate_sets\n",
    "\n",
    "# Evaluate coverage and average set size on test data\n",
    "metrics = evaluate_sets(pred_sets, y_true)"
   ]
  },
  {
   "cell_type": "markdown",
   "id": "efbacec0",
   "metadata": {
    "papermill": {
     "duration": 0.012733,
     "end_time": "2025-08-19T18:07:33.456189",
     "exception": false,
     "start_time": "2025-08-19T18:07:33.443456",
     "status": "completed"
    },
    "tags": []
   },
   "source": [
    "# CP Metrics"
   ]
  },
  {
   "cell_type": "code",
   "execution_count": 46,
   "id": "9de55fb1",
   "metadata": {
    "execution": {
     "iopub.execute_input": "2025-08-19T18:07:33.481465Z",
     "iopub.status.busy": "2025-08-19T18:07:33.480229Z",
     "iopub.status.idle": "2025-08-19T18:07:33.491475Z",
     "shell.execute_reply": "2025-08-19T18:07:33.490248Z"
    },
    "papermill": {
     "duration": 0.025697,
     "end_time": "2025-08-19T18:07:33.493095",
     "exception": false,
     "start_time": "2025-08-19T18:07:33.467398",
     "status": "completed"
    },
    "tags": []
   },
   "outputs": [
    {
     "data": {
      "text/plain": [
       "{'coverage': 0.9118715862222717, 'avg_size': 1.1255489911938468}"
      ]
     },
     "execution_count": 46,
     "metadata": {},
     "output_type": "execute_result"
    }
   ],
   "source": [
    "metrics"
   ]
  },
  {
   "cell_type": "code",
   "execution_count": 47,
   "id": "64c340a1",
   "metadata": {
    "execution": {
     "iopub.execute_input": "2025-08-19T18:07:33.526431Z",
     "iopub.status.busy": "2025-08-19T18:07:33.525281Z",
     "iopub.status.idle": "2025-08-19T18:07:33.536663Z",
     "shell.execute_reply": "2025-08-19T18:07:33.535017Z"
    },
    "papermill": {
     "duration": 0.026096,
     "end_time": "2025-08-19T18:07:33.538196",
     "exception": false,
     "start_time": "2025-08-19T18:07:33.512100",
     "status": "completed"
    },
    "tags": []
   },
   "outputs": [],
   "source": [
    "example_universe = universe.copy()\n",
    "universe_training_year = example_universe.get(\"training_year\")\n",
    "universe_training_size = example_universe.get(\"training_size\")\n",
    "universe_scale = example_universe.get(\"scale\")\n",
    "universe_model = example_universe.get(\"model\")\n",
    "universe_exclude_features = example_universe.get(\"exclude_features\")\n",
    "universe_exclude_subgroups = example_universe.get(\"exclude_subgroups\")"
   ]
  },
  {
   "cell_type": "code",
   "execution_count": 48,
   "id": "dbb53cb4",
   "metadata": {
    "execution": {
     "iopub.execute_input": "2025-08-19T18:07:33.569765Z",
     "iopub.status.busy": "2025-08-19T18:07:33.568559Z",
     "iopub.status.idle": "2025-08-19T18:07:33.579509Z",
     "shell.execute_reply": "2025-08-19T18:07:33.578020Z"
    },
    "papermill": {
     "duration": 0.027302,
     "end_time": "2025-08-19T18:07:33.581328",
     "exception": false,
     "start_time": "2025-08-19T18:07:33.554026",
     "status": "completed"
    },
    "tags": []
   },
   "outputs": [],
   "source": [
    "cp_metrics_dict = {\n",
    "    \"universe_id\": [universe_id],\n",
    "    \"universe_training_year\": [universe_training_year],\n",
    "    \"universe_training_size\": [universe_training_size],\n",
    "    \"universe_scale\": [universe_scale],\n",
    "    \"universe_model\": [universe_model],\n",
    "    \"universe_exclude_features\": [universe_exclude_features],\n",
    "    \"universe_exclude_subgroups\": [universe_exclude_subgroups],\n",
    "    \"q_hat\": [q_hat],\n",
    "    \"coverage\": [metrics[\"coverage\"]],\n",
    "    \"avg_size\": [metrics[\"avg_size\"]],\n",
    "}"
   ]
  },
  {
   "cell_type": "code",
   "execution_count": 49,
   "id": "0d70d4b2",
   "metadata": {
    "execution": {
     "iopub.execute_input": "2025-08-19T18:07:33.612376Z",
     "iopub.status.busy": "2025-08-19T18:07:33.611188Z",
     "iopub.status.idle": "2025-08-19T18:07:33.620914Z",
     "shell.execute_reply": "2025-08-19T18:07:33.619652Z"
    },
    "papermill": {
     "duration": 0.025544,
     "end_time": "2025-08-19T18:07:33.622530",
     "exception": false,
     "start_time": "2025-08-19T18:07:33.596986",
     "status": "completed"
    },
    "tags": []
   },
   "outputs": [],
   "source": [
    "cp_metrics_df = pd.DataFrame(cp_metrics_dict)"
   ]
  },
  {
   "cell_type": "code",
   "execution_count": 50,
   "id": "b494403c",
   "metadata": {
    "execution": {
     "iopub.execute_input": "2025-08-19T18:07:33.655653Z",
     "iopub.status.busy": "2025-08-19T18:07:33.654498Z",
     "iopub.status.idle": "2025-08-19T18:07:33.675424Z",
     "shell.execute_reply": "2025-08-19T18:07:33.674431Z"
    },
    "papermill": {
     "duration": 0.038883,
     "end_time": "2025-08-19T18:07:33.677437",
     "exception": false,
     "start_time": "2025-08-19T18:07:33.638554",
     "status": "completed"
    },
    "tags": []
   },
   "outputs": [
    {
     "data": {
      "text/html": [
       "<div>\n",
       "<style scoped>\n",
       "    .dataframe tbody tr th:only-of-type {\n",
       "        vertical-align: middle;\n",
       "    }\n",
       "\n",
       "    .dataframe tbody tr th {\n",
       "        vertical-align: top;\n",
       "    }\n",
       "\n",
       "    .dataframe thead th {\n",
       "        text-align: right;\n",
       "    }\n",
       "</style>\n",
       "<table border=\"1\" class=\"dataframe\">\n",
       "  <thead>\n",
       "    <tr style=\"text-align: right;\">\n",
       "      <th></th>\n",
       "      <th>universe_id</th>\n",
       "      <th>universe_training_year</th>\n",
       "      <th>universe_training_size</th>\n",
       "      <th>universe_scale</th>\n",
       "      <th>universe_model</th>\n",
       "      <th>universe_exclude_features</th>\n",
       "      <th>universe_exclude_subgroups</th>\n",
       "      <th>q_hat</th>\n",
       "      <th>coverage</th>\n",
       "      <th>avg_size</th>\n",
       "    </tr>\n",
       "  </thead>\n",
       "  <tbody>\n",
       "    <tr>\n",
       "      <th>0</th>\n",
       "      <td>5a6029aaf510f4593bc0d2e67594f376</td>\n",
       "      <td>2012_14</td>\n",
       "      <td>25k</td>\n",
       "      <td>scale</td>\n",
       "      <td>elasticnet</td>\n",
       "      <td>sex</td>\n",
       "      <td>keep-all</td>\n",
       "      <td>0.664862</td>\n",
       "      <td>0.911872</td>\n",
       "      <td>1.125549</td>\n",
       "    </tr>\n",
       "  </tbody>\n",
       "</table>\n",
       "</div>"
      ],
      "text/plain": [
       "                        universe_id universe_training_year  \\\n",
       "0  5a6029aaf510f4593bc0d2e67594f376                2012_14   \n",
       "\n",
       "  universe_training_size universe_scale universe_model  \\\n",
       "0                    25k          scale     elasticnet   \n",
       "\n",
       "  universe_exclude_features universe_exclude_subgroups     q_hat  coverage  \\\n",
       "0                       sex                   keep-all  0.664862  0.911872   \n",
       "\n",
       "   avg_size  \n",
       "0  1.125549  "
      ]
     },
     "execution_count": 50,
     "metadata": {},
     "output_type": "execute_result"
    }
   ],
   "source": [
    "cp_metrics_df"
   ]
  },
  {
   "cell_type": "markdown",
   "id": "ed608b0b",
   "metadata": {
    "papermill": {
     "duration": 0.013143,
     "end_time": "2025-08-19T18:07:33.712951",
     "exception": false,
     "start_time": "2025-08-19T18:07:33.699808",
     "status": "completed"
    },
    "tags": []
   },
   "source": [
    "Conditional coverage & looking at subgroups"
   ]
  },
  {
   "cell_type": "code",
   "execution_count": 51,
   "id": "8968c366",
   "metadata": {
    "execution": {
     "iopub.execute_input": "2025-08-19T18:07:33.751128Z",
     "iopub.status.busy": "2025-08-19T18:07:33.749795Z",
     "iopub.status.idle": "2025-08-19T18:07:33.975306Z",
     "shell.execute_reply": "2025-08-19T18:07:33.974439Z"
    },
    "papermill": {
     "duration": 0.253578,
     "end_time": "2025-08-19T18:07:33.978106",
     "exception": false,
     "start_time": "2025-08-19T18:07:33.724528",
     "status": "completed"
    },
    "tags": []
   },
   "outputs": [],
   "source": [
    "from fairness_multiverse.conformal import build_cp_groups\n",
    "\n",
    "cp_groups_df = build_cp_groups(pred_sets, y_true, X_test.index, org_test)"
   ]
  },
  {
   "cell_type": "code",
   "execution_count": 52,
   "id": "292ddabf",
   "metadata": {
    "execution": {
     "iopub.execute_input": "2025-08-19T18:07:34.023152Z",
     "iopub.status.busy": "2025-08-19T18:07:34.022119Z",
     "iopub.status.idle": "2025-08-19T18:07:34.930925Z",
     "shell.execute_reply": "2025-08-19T18:07:34.930092Z"
    },
    "papermill": {
     "duration": 0.927131,
     "end_time": "2025-08-19T18:07:34.933790",
     "exception": false,
     "start_time": "2025-08-19T18:07:34.006659",
     "status": "completed"
    },
    "tags": []
   },
   "outputs": [],
   "source": [
    "# Define covered = 1 if true_label is in the predicted set\n",
    "cp_groups_df['covered'] = cp_groups_df.apply(\n",
    "    lambda r: int(r['true_label'] in r['pred_set']),\n",
    "    axis=1\n",
    ")"
   ]
  },
  {
   "cell_type": "code",
   "execution_count": 53,
   "id": "3a261692",
   "metadata": {
    "execution": {
     "iopub.execute_input": "2025-08-19T18:07:34.974896Z",
     "iopub.status.busy": "2025-08-19T18:07:34.973782Z",
     "iopub.status.idle": "2025-08-19T18:07:34.993194Z",
     "shell.execute_reply": "2025-08-19T18:07:34.992139Z"
    },
    "papermill": {
     "duration": 0.035822,
     "end_time": "2025-08-19T18:07:34.994971",
     "exception": false,
     "start_time": "2025-08-19T18:07:34.959149",
     "status": "completed"
    },
    "tags": []
   },
   "outputs": [],
   "source": [
    "subgroups = ['frau1','nongerman','nongerman_male','nongerman_female']\n",
    "\n",
    "# Conditional coverage for subgroup==1\n",
    "cond_coverage = {\n",
    "    g: cp_groups_df.loc[cp_groups_df[g]==1, 'covered'].mean()\n",
    "    for g in subgroups\n",
    "}"
   ]
  },
  {
   "cell_type": "code",
   "execution_count": 54,
   "id": "894fd600",
   "metadata": {
    "execution": {
     "iopub.execute_input": "2025-08-19T18:07:35.054010Z",
     "iopub.status.busy": "2025-08-19T18:07:35.052881Z",
     "iopub.status.idle": "2025-08-19T18:07:35.063195Z",
     "shell.execute_reply": "2025-08-19T18:07:35.062006Z"
    },
    "papermill": {
     "duration": 0.042679,
     "end_time": "2025-08-19T18:07:35.064937",
     "exception": false,
     "start_time": "2025-08-19T18:07:35.022258",
     "status": "completed"
    },
    "tags": []
   },
   "outputs": [
    {
     "data": {
      "text/plain": [
       "{'frau1': 0.9113357595363256,\n",
       " 'nongerman': 0.9103463762420704,\n",
       " 'nongerman_male': 0.9258758893992615,\n",
       " 'nongerman_female': 0.8846497764530551}"
      ]
     },
     "execution_count": 54,
     "metadata": {},
     "output_type": "execute_result"
    }
   ],
   "source": [
    "cond_coverage"
   ]
  },
  {
   "cell_type": "code",
   "execution_count": 55,
   "id": "942895c7",
   "metadata": {
    "execution": {
     "iopub.execute_input": "2025-08-19T18:07:35.095331Z",
     "iopub.status.busy": "2025-08-19T18:07:35.094155Z",
     "iopub.status.idle": "2025-08-19T18:07:35.106495Z",
     "shell.execute_reply": "2025-08-19T18:07:35.105528Z"
    },
    "papermill": {
     "duration": 0.02823,
     "end_time": "2025-08-19T18:07:35.108000",
     "exception": false,
     "start_time": "2025-08-19T18:07:35.079770",
     "status": "completed"
    },
    "tags": []
   },
   "outputs": [],
   "source": [
    "for subgroup, cov in cond_coverage.items():\n",
    "    cp_metrics_df[f\"cov_{subgroup}\"] = cov"
   ]
  },
  {
   "cell_type": "code",
   "execution_count": 56,
   "id": "3970120f",
   "metadata": {
    "execution": {
     "iopub.execute_input": "2025-08-19T18:07:35.140843Z",
     "iopub.status.busy": "2025-08-19T18:07:35.139107Z",
     "iopub.status.idle": "2025-08-19T18:07:35.166000Z",
     "shell.execute_reply": "2025-08-19T18:07:35.165193Z"
    },
    "papermill": {
     "duration": 0.045082,
     "end_time": "2025-08-19T18:07:35.170419",
     "exception": false,
     "start_time": "2025-08-19T18:07:35.125337",
     "status": "completed"
    },
    "tags": []
   },
   "outputs": [
    {
     "data": {
      "text/html": [
       "<div>\n",
       "<style scoped>\n",
       "    .dataframe tbody tr th:only-of-type {\n",
       "        vertical-align: middle;\n",
       "    }\n",
       "\n",
       "    .dataframe tbody tr th {\n",
       "        vertical-align: top;\n",
       "    }\n",
       "\n",
       "    .dataframe thead th {\n",
       "        text-align: right;\n",
       "    }\n",
       "</style>\n",
       "<table border=\"1\" class=\"dataframe\">\n",
       "  <thead>\n",
       "    <tr style=\"text-align: right;\">\n",
       "      <th></th>\n",
       "      <th>universe_id</th>\n",
       "      <th>universe_training_year</th>\n",
       "      <th>universe_training_size</th>\n",
       "      <th>universe_scale</th>\n",
       "      <th>universe_model</th>\n",
       "      <th>universe_exclude_features</th>\n",
       "      <th>universe_exclude_subgroups</th>\n",
       "      <th>q_hat</th>\n",
       "      <th>coverage</th>\n",
       "      <th>avg_size</th>\n",
       "      <th>cov_frau1</th>\n",
       "      <th>cov_nongerman</th>\n",
       "      <th>cov_nongerman_male</th>\n",
       "      <th>cov_nongerman_female</th>\n",
       "    </tr>\n",
       "  </thead>\n",
       "  <tbody>\n",
       "    <tr>\n",
       "      <th>0</th>\n",
       "      <td>5a6029aaf510f4593bc0d2e67594f376</td>\n",
       "      <td>2012_14</td>\n",
       "      <td>25k</td>\n",
       "      <td>scale</td>\n",
       "      <td>elasticnet</td>\n",
       "      <td>sex</td>\n",
       "      <td>keep-all</td>\n",
       "      <td>0.664862</td>\n",
       "      <td>0.911872</td>\n",
       "      <td>1.125549</td>\n",
       "      <td>0.911336</td>\n",
       "      <td>0.910346</td>\n",
       "      <td>0.925876</td>\n",
       "      <td>0.88465</td>\n",
       "    </tr>\n",
       "  </tbody>\n",
       "</table>\n",
       "</div>"
      ],
      "text/plain": [
       "                        universe_id universe_training_year  \\\n",
       "0  5a6029aaf510f4593bc0d2e67594f376                2012_14   \n",
       "\n",
       "  universe_training_size universe_scale universe_model  \\\n",
       "0                    25k          scale     elasticnet   \n",
       "\n",
       "  universe_exclude_features universe_exclude_subgroups     q_hat  coverage  \\\n",
       "0                       sex                   keep-all  0.664862  0.911872   \n",
       "\n",
       "   avg_size  cov_frau1  cov_nongerman  cov_nongerman_male  \\\n",
       "0  1.125549   0.911336       0.910346            0.925876   \n",
       "\n",
       "   cov_nongerman_female  \n",
       "0               0.88465  "
      ]
     },
     "execution_count": 56,
     "metadata": {},
     "output_type": "execute_result"
    }
   ],
   "source": [
    "cp_metrics_df"
   ]
  },
  {
   "cell_type": "markdown",
   "id": "3fc519cc",
   "metadata": {
    "papermill": {
     "duration": 0.012003,
     "end_time": "2025-08-19T18:07:35.195089",
     "exception": false,
     "start_time": "2025-08-19T18:07:35.183086",
     "status": "completed"
    },
    "tags": []
   },
   "source": [
    "# (Fairness) Metrics"
   ]
  },
  {
   "cell_type": "code",
   "execution_count": 57,
   "id": "a2e5e155",
   "metadata": {
    "execution": {
     "iopub.execute_input": "2025-08-19T18:07:35.222015Z",
     "iopub.status.busy": "2025-08-19T18:07:35.221221Z",
     "iopub.status.idle": "2025-08-19T18:07:35.267093Z",
     "shell.execute_reply": "2025-08-19T18:07:35.265629Z"
    },
    "papermill": {
     "duration": 0.062531,
     "end_time": "2025-08-19T18:07:35.270548",
     "exception": false,
     "start_time": "2025-08-19T18:07:35.208017",
     "status": "completed"
    },
    "tags": []
   },
   "outputs": [],
   "source": [
    "colname_to_bin = \"maxdeutsch1\"\n",
    "majority_value = org_train[colname_to_bin].mode()[0]\n",
    "\n",
    "org_test[\"majmin\"] = np.where(org_test[colname_to_bin] == majority_value, \"majority\", \"minority\")"
   ]
  },
  {
   "cell_type": "code",
   "execution_count": 58,
   "id": "17e3e4d5",
   "metadata": {
    "execution": {
     "iopub.execute_input": "2025-08-19T18:07:35.318213Z",
     "iopub.status.busy": "2025-08-19T18:07:35.311096Z",
     "iopub.status.idle": "2025-08-19T18:07:37.058779Z",
     "shell.execute_reply": "2025-08-19T18:07:37.057546Z"
    },
    "papermill": {
     "duration": 1.76497,
     "end_time": "2025-08-19T18:07:37.060429",
     "exception": false,
     "start_time": "2025-08-19T18:07:35.295459",
     "status": "completed"
    },
    "tags": []
   },
   "outputs": [],
   "source": [
    "example_universe = universe.copy()\n",
    "example_universe[\"cutoff\"] = example_universe[\"cutoff\"][0]\n",
    "example_universe[\"eval_fairness_grouping\"] = example_universe[\"eval_fairness_grouping\"][0]\n",
    "fairness_dict, metric_frame = universe_analysis.compute_metrics(\n",
    "    example_universe,\n",
    "    y_pred_prob=probs_test,\n",
    "    y_test=y_true,\n",
    "    org_test=org_test,\n",
    ")"
   ]
  },
  {
   "cell_type": "markdown",
   "id": "1fb7a0e9",
   "metadata": {
    "papermill": {
     "duration": 0.01332,
     "end_time": "2025-08-19T18:07:37.102604",
     "exception": false,
     "start_time": "2025-08-19T18:07:37.089284",
     "status": "completed"
    },
    "tags": []
   },
   "source": [
    "# Overall"
   ]
  },
  {
   "cell_type": "markdown",
   "id": "be1784b1",
   "metadata": {
    "papermill": {
     "duration": 0.019554,
     "end_time": "2025-08-19T18:07:37.147450",
     "exception": false,
     "start_time": "2025-08-19T18:07:37.127896",
     "status": "completed"
    },
    "tags": []
   },
   "source": [
    "Main fairness target: Equalized Odds. Seems to be a better fit than equal opportunity, since we're not only interested in Y = 1. Seems to be a better fit than demographic parity, since we also care about accuracy, not just equal distribution of preds.\n",
    "\n",
    "Pick column for computation of fairness metrics\n",
    "\n",
    "Performance\n",
    "Overall performance measures, most interesting in relation to the measures split by group below"
   ]
  },
  {
   "cell_type": "code",
   "execution_count": 59,
   "id": "b7672bee",
   "metadata": {
    "execution": {
     "iopub.execute_input": "2025-08-19T18:07:37.176375Z",
     "iopub.status.busy": "2025-08-19T18:07:37.175596Z",
     "iopub.status.idle": "2025-08-19T18:07:37.190190Z",
     "shell.execute_reply": "2025-08-19T18:07:37.189130Z"
    },
    "papermill": {
     "duration": 0.031424,
     "end_time": "2025-08-19T18:07:37.191771",
     "exception": false,
     "start_time": "2025-08-19T18:07:37.160347",
     "status": "completed"
    },
    "tags": []
   },
   "outputs": [
    {
     "data": {
      "text/plain": [
       "accuracy                   0.225449\n",
       "balanced accuracy          0.551028\n",
       "f1                         0.246751\n",
       "precision                  0.140960\n",
       "false positive rate        0.886908\n",
       "false negative rate        0.011036\n",
       "selection rate             0.900000\n",
       "count                  89710.000000\n",
       "dtype: float64"
      ]
     },
     "execution_count": 59,
     "metadata": {},
     "output_type": "execute_result"
    }
   ],
   "source": [
    "metric_frame.overall"
   ]
  },
  {
   "cell_type": "markdown",
   "id": "d93333c9",
   "metadata": {
    "papermill": {
     "duration": 0.013078,
     "end_time": "2025-08-19T18:07:37.220132",
     "exception": false,
     "start_time": "2025-08-19T18:07:37.207054",
     "status": "completed"
    },
    "tags": []
   },
   "source": [
    "By Group"
   ]
  },
  {
   "cell_type": "code",
   "execution_count": 60,
   "id": "52256966",
   "metadata": {
    "execution": {
     "iopub.execute_input": "2025-08-19T18:07:37.246731Z",
     "iopub.status.busy": "2025-08-19T18:07:37.246311Z",
     "iopub.status.idle": "2025-08-19T18:07:37.259216Z",
     "shell.execute_reply": "2025-08-19T18:07:37.258391Z"
    },
    "papermill": {
     "duration": 0.03001,
     "end_time": "2025-08-19T18:07:37.262958",
     "exception": false,
     "start_time": "2025-08-19T18:07:37.232948",
     "status": "completed"
    },
    "tags": []
   },
   "outputs": [
    {
     "data": {
      "text/html": [
       "<div>\n",
       "<style scoped>\n",
       "    .dataframe tbody tr th:only-of-type {\n",
       "        vertical-align: middle;\n",
       "    }\n",
       "\n",
       "    .dataframe tbody tr th {\n",
       "        vertical-align: top;\n",
       "    }\n",
       "\n",
       "    .dataframe thead th {\n",
       "        text-align: right;\n",
       "    }\n",
       "</style>\n",
       "<table border=\"1\" class=\"dataframe\">\n",
       "  <thead>\n",
       "    <tr style=\"text-align: right;\">\n",
       "      <th></th>\n",
       "      <th>accuracy</th>\n",
       "      <th>balanced accuracy</th>\n",
       "      <th>f1</th>\n",
       "      <th>precision</th>\n",
       "      <th>false positive rate</th>\n",
       "      <th>false negative rate</th>\n",
       "      <th>selection rate</th>\n",
       "      <th>count</th>\n",
       "    </tr>\n",
       "    <tr>\n",
       "      <th>majmin</th>\n",
       "      <th></th>\n",
       "      <th></th>\n",
       "      <th></th>\n",
       "      <th></th>\n",
       "      <th></th>\n",
       "      <th></th>\n",
       "      <th></th>\n",
       "      <th></th>\n",
       "    </tr>\n",
       "  </thead>\n",
       "  <tbody>\n",
       "    <tr>\n",
       "      <th>majority</th>\n",
       "      <td>0.246942</td>\n",
       "      <td>0.560994</td>\n",
       "      <td>0.257431</td>\n",
       "      <td>0.147999</td>\n",
       "      <td>0.865867</td>\n",
       "      <td>0.012144</td>\n",
       "      <td>0.881986</td>\n",
       "      <td>69170.0</td>\n",
       "    </tr>\n",
       "    <tr>\n",
       "      <th>minority</th>\n",
       "      <td>0.153067</td>\n",
       "      <td>0.518413</td>\n",
       "      <td>0.212851</td>\n",
       "      <td>0.119197</td>\n",
       "      <td>0.956416</td>\n",
       "      <td>0.006757</td>\n",
       "      <td>0.960662</td>\n",
       "      <td>20540.0</td>\n",
       "    </tr>\n",
       "  </tbody>\n",
       "</table>\n",
       "</div>"
      ],
      "text/plain": [
       "          accuracy  balanced accuracy        f1  precision  \\\n",
       "majmin                                                       \n",
       "majority  0.246942           0.560994  0.257431   0.147999   \n",
       "minority  0.153067           0.518413  0.212851   0.119197   \n",
       "\n",
       "          false positive rate  false negative rate  selection rate    count  \n",
       "majmin                                                                       \n",
       "majority             0.865867             0.012144        0.881986  69170.0  \n",
       "minority             0.956416             0.006757        0.960662  20540.0  "
      ]
     },
     "execution_count": 60,
     "metadata": {},
     "output_type": "execute_result"
    }
   ],
   "source": [
    "metric_frame.by_group"
   ]
  },
  {
   "cell_type": "code",
   "execution_count": 61,
   "id": "6e6c20ae",
   "metadata": {
    "execution": {
     "iopub.execute_input": "2025-08-19T18:07:37.322286Z",
     "iopub.status.busy": "2025-08-19T18:07:37.321753Z",
     "iopub.status.idle": "2025-08-19T18:07:39.182527Z",
     "shell.execute_reply": "2025-08-19T18:07:39.181496Z"
    },
    "papermill": {
     "duration": 1.9006,
     "end_time": "2025-08-19T18:07:39.183970",
     "exception": false,
     "start_time": "2025-08-19T18:07:37.283370",
     "status": "completed"
    },
    "tags": []
   },
   "outputs": [
    {
     "data": {
      "text/plain": [
       "array([[<Axes: title={'center': 'accuracy'}, xlabel='majmin'>,\n",
       "        <Axes: title={'center': 'balanced accuracy'}, xlabel='majmin'>,\n",
       "        <Axes: title={'center': 'f1'}, xlabel='majmin'>],\n",
       "       [<Axes: title={'center': 'precision'}, xlabel='majmin'>,\n",
       "        <Axes: title={'center': 'false positive rate'}, xlabel='majmin'>,\n",
       "        <Axes: title={'center': 'false negative rate'}, xlabel='majmin'>],\n",
       "       [<Axes: title={'center': 'selection rate'}, xlabel='majmin'>,\n",
       "        <Axes: title={'center': 'count'}, xlabel='majmin'>,\n",
       "        <Axes: xlabel='majmin'>]], dtype=object)"
      ]
     },
     "execution_count": 61,
     "metadata": {},
     "output_type": "execute_result"
    },
    {
     "data": {
      "image/png": "[encoded data removed]",
      "text/plain": [
       "<Figure size 1200x800 with 9 Axes>"
      ]
     },
     "metadata": {},
     "output_type": "display_data"
    }
   ],
   "source": [
    "# In a graphic\n",
    "metric_frame.by_group.plot.bar(\n",
    "    subplots=True,\n",
    "    layout=[3, 3],\n",
    "    legend=False,\n",
    "    figsize=[12, 8],\n",
    "    title=\"Show all metrics\",\n",
    ")"
   ]
  },
  {
   "cell_type": "markdown",
   "id": "b2e433ae",
   "metadata": {
    "papermill": {
     "duration": 0.015803,
     "end_time": "2025-08-19T18:07:39.219608",
     "exception": false,
     "start_time": "2025-08-19T18:07:39.203805",
     "status": "completed"
    },
    "tags": []
   },
   "source": [
    "# Final Output"
   ]
  },
  {
   "cell_type": "code",
   "execution_count": 62,
   "id": "3871301e",
   "metadata": {
    "execution": {
     "iopub.execute_input": "2025-08-19T18:07:39.252028Z",
     "iopub.status.busy": "2025-08-19T18:07:39.249812Z",
     "iopub.status.idle": "2025-08-19T18:07:39.276243Z",
     "shell.execute_reply": "2025-08-19T18:07:39.275266Z"
    },
    "papermill": {
     "duration": 0.044457,
     "end_time": "2025-08-19T18:07:39.278209",
     "exception": false,
     "start_time": "2025-08-19T18:07:39.233752",
     "status": "completed"
    },
    "tags": []
   },
   "outputs": [
    {
     "data": {
      "text/plain": [
       "4"
      ]
     },
     "execution_count": 62,
     "metadata": {},
     "output_type": "execute_result"
    }
   ],
   "source": [
    "sub_universes = universe_analysis.generate_sub_universes()\n",
    "len(sub_universes)"
   ]
  },
  {
   "cell_type": "code",
   "execution_count": 63,
   "id": "d9cfdaca",
   "metadata": {
    "execution": {
     "iopub.execute_input": "2025-08-19T18:07:39.317679Z",
     "iopub.status.busy": "2025-08-19T18:07:39.316529Z",
     "iopub.status.idle": "2025-08-19T18:07:39.325268Z",
     "shell.execute_reply": "2025-08-19T18:07:39.324022Z"
    },
    "papermill": {
     "duration": 0.026474,
     "end_time": "2025-08-19T18:07:39.326795",
     "exception": false,
     "start_time": "2025-08-19T18:07:39.300321",
     "status": "completed"
    },
    "tags": []
   },
   "outputs": [],
   "source": [
    "def filter_sub_universe_data(sub_universe, org_test):\n",
    "    # Keep all rows — no filtering\n",
    "    keep_rows_mask = np.ones(org_test.shape[0], dtype=bool)\n",
    "\n",
    "    print(f\"[INFO] Keeping all rows: {keep_rows_mask.sum()} rows retained.\")\n",
    "    return keep_rows_mask"
   ]
  },
  {
   "cell_type": "code",
   "execution_count": 64,
   "id": "2bc31ac1",
   "metadata": {
    "execution": {
     "iopub.execute_input": "2025-08-19T18:07:39.361493Z",
     "iopub.status.busy": "2025-08-19T18:07:39.360288Z",
     "iopub.status.idle": "2025-08-19T18:07:46.222938Z",
     "shell.execute_reply": "2025-08-19T18:07:46.221907Z"
    },
    "papermill": {
     "duration": 6.881327,
     "end_time": "2025-08-19T18:07:46.225971",
     "exception": false,
     "start_time": "2025-08-19T18:07:39.344644",
     "status": "completed"
    },
    "tags": []
   },
   "outputs": [
    {
     "name": "stdout",
     "output_type": "stream",
     "text": [
      "Stopping execution_time clock.\n",
      "[INFO] Keeping all rows: 89710 rows retained.\n"
     ]
    },
    {
     "name": "stdout",
     "output_type": "stream",
     "text": [
      "[INFO] Keeping all rows: 89710 rows retained.\n"
     ]
    },
    {
     "name": "stdout",
     "output_type": "stream",
     "text": [
      "[INFO] Keeping all rows: 89710 rows retained.\n"
     ]
    },
    {
     "name": "stdout",
     "output_type": "stream",
     "text": [
      "[INFO] Keeping all rows: 89710 rows retained.\n"
     ]
    },
    {
     "data": {
      "text/html": [
       "<div>\n",
       "<style scoped>\n",
       "    .dataframe tbody tr th:only-of-type {\n",
       "        vertical-align: middle;\n",
       "    }\n",
       "\n",
       "    .dataframe tbody tr th {\n",
       "        vertical-align: top;\n",
       "    }\n",
       "\n",
       "    .dataframe thead th {\n",
       "        text-align: right;\n",
       "    }\n",
       "</style>\n",
       "<table border=\"1\" class=\"dataframe\">\n",
       "  <thead>\n",
       "    <tr style=\"text-align: right;\">\n",
       "      <th></th>\n",
       "      <th>run_no</th>\n",
       "      <th>universe_id</th>\n",
       "      <th>universe_settings</th>\n",
       "      <th>execution_time</th>\n",
       "      <th>test_size_n</th>\n",
       "      <th>test_size_frac</th>\n",
       "      <th>fair_main_equalized_odds_difference</th>\n",
       "      <th>fair_main_equalized_odds_ratio</th>\n",
       "      <th>fair_main_demographic_parity_difference</th>\n",
       "      <th>fair_main_demographic_parity_ratio</th>\n",
       "      <th>...</th>\n",
       "      <th>perf_grp_precision_0</th>\n",
       "      <th>perf_grp_precision_1</th>\n",
       "      <th>perf_grp_false positive rate_0</th>\n",
       "      <th>perf_grp_false positive rate_1</th>\n",
       "      <th>perf_grp_false negative rate_0</th>\n",
       "      <th>perf_grp_false negative rate_1</th>\n",
       "      <th>perf_grp_selection rate_0</th>\n",
       "      <th>perf_grp_selection rate_1</th>\n",
       "      <th>perf_grp_count_0</th>\n",
       "      <th>perf_grp_count_1</th>\n",
       "    </tr>\n",
       "  </thead>\n",
       "  <tbody>\n",
       "    <tr>\n",
       "      <th>0</th>\n",
       "      <td>3</td>\n",
       "      <td>5a6029aaf510f4593bc0d2e67594f376</td>\n",
       "      <td>{\"cutoff\": \"quantile_0.1\", \"eval_fairness_grou...</td>\n",
       "      <td>28.228884</td>\n",
       "      <td>89710</td>\n",
       "      <td>1.0</td>\n",
       "      <td>0.090549</td>\n",
       "      <td>0.905324</td>\n",
       "      <td>0.078676</td>\n",
       "      <td>0.918103</td>\n",
       "      <td>...</td>\n",
       "      <td>NaN</td>\n",
       "      <td>NaN</td>\n",
       "      <td>NaN</td>\n",
       "      <td>NaN</td>\n",
       "      <td>NaN</td>\n",
       "      <td>NaN</td>\n",
       "      <td>NaN</td>\n",
       "      <td>NaN</td>\n",
       "      <td>NaN</td>\n",
       "      <td>NaN</td>\n",
       "    </tr>\n",
       "    <tr>\n",
       "      <th>0</th>\n",
       "      <td>3</td>\n",
       "      <td>5a6029aaf510f4593bc0d2e67594f376</td>\n",
       "      <td>{\"cutoff\": \"quantile_0.1\", \"eval_fairness_grou...</td>\n",
       "      <td>28.228884</td>\n",
       "      <td>89710</td>\n",
       "      <td>1.0</td>\n",
       "      <td>0.090549</td>\n",
       "      <td>0.905324</td>\n",
       "      <td>0.078676</td>\n",
       "      <td>0.918103</td>\n",
       "      <td>...</td>\n",
       "      <td>0.119197</td>\n",
       "      <td>0.147999</td>\n",
       "      <td>0.956416</td>\n",
       "      <td>0.865867</td>\n",
       "      <td>0.006757</td>\n",
       "      <td>0.012144</td>\n",
       "      <td>0.960662</td>\n",
       "      <td>0.881986</td>\n",
       "      <td>20540.0</td>\n",
       "      <td>69170.0</td>\n",
       "    </tr>\n",
       "    <tr>\n",
       "      <th>0</th>\n",
       "      <td>3</td>\n",
       "      <td>5a6029aaf510f4593bc0d2e67594f376</td>\n",
       "      <td>{\"cutoff\": \"quantile_0.25\", \"eval_fairness_gro...</td>\n",
       "      <td>28.228884</td>\n",
       "      <td>89710</td>\n",
       "      <td>1.0</td>\n",
       "      <td>0.155932</td>\n",
       "      <td>0.814361</td>\n",
       "      <td>0.135196</td>\n",
       "      <td>0.841735</td>\n",
       "      <td>...</td>\n",
       "      <td>NaN</td>\n",
       "      <td>NaN</td>\n",
       "      <td>NaN</td>\n",
       "      <td>NaN</td>\n",
       "      <td>NaN</td>\n",
       "      <td>NaN</td>\n",
       "      <td>NaN</td>\n",
       "      <td>NaN</td>\n",
       "      <td>NaN</td>\n",
       "      <td>NaN</td>\n",
       "    </tr>\n",
       "    <tr>\n",
       "      <th>0</th>\n",
       "      <td>3</td>\n",
       "      <td>5a6029aaf510f4593bc0d2e67594f376</td>\n",
       "      <td>{\"cutoff\": \"quantile_0.25\", \"eval_fairness_gro...</td>\n",
       "      <td>28.228884</td>\n",
       "      <td>89710</td>\n",
       "      <td>1.0</td>\n",
       "      <td>0.155932</td>\n",
       "      <td>0.814361</td>\n",
       "      <td>0.135196</td>\n",
       "      <td>0.841735</td>\n",
       "      <td>...</td>\n",
       "      <td>0.130058</td>\n",
       "      <td>0.174381</td>\n",
       "      <td>0.839974</td>\n",
       "      <td>0.684041</td>\n",
       "      <td>0.036318</td>\n",
       "      <td>0.051094</td>\n",
       "      <td>0.854236</td>\n",
       "      <td>0.719040</td>\n",
       "      <td>20540.0</td>\n",
       "      <td>69170.0</td>\n",
       "    </tr>\n",
       "  </tbody>\n",
       "</table>\n",
       "<p>4 rows × 50 columns</p>\n",
       "</div>"
      ],
      "text/plain": [
       "  run_no                       universe_id  \\\n",
       "0      3  5a6029aaf510f4593bc0d2e67594f376   \n",
       "0      3  5a6029aaf510f4593bc0d2e67594f376   \n",
       "0      3  5a6029aaf510f4593bc0d2e67594f376   \n",
       "0      3  5a6029aaf510f4593bc0d2e67594f376   \n",
       "\n",
       "                                   universe_settings  execution_time  \\\n",
       "0  {\"cutoff\": \"quantile_0.1\", \"eval_fairness_grou...       28.228884   \n",
       "0  {\"cutoff\": \"quantile_0.1\", \"eval_fairness_grou...       28.228884   \n",
       "0  {\"cutoff\": \"quantile_0.25\", \"eval_fairness_gro...       28.228884   \n",
       "0  {\"cutoff\": \"quantile_0.25\", \"eval_fairness_gro...       28.228884   \n",
       "\n",
       "   test_size_n  test_size_frac  fair_main_equalized_odds_difference  \\\n",
       "0        89710             1.0                             0.090549   \n",
       "0        89710             1.0                             0.090549   \n",
       "0        89710             1.0                             0.155932   \n",
       "0        89710             1.0                             0.155932   \n",
       "\n",
       "   fair_main_equalized_odds_ratio  fair_main_demographic_parity_difference  \\\n",
       "0                        0.905324                                 0.078676   \n",
       "0                        0.905324                                 0.078676   \n",
       "0                        0.814361                                 0.135196   \n",
       "0                        0.814361                                 0.135196   \n",
       "\n",
       "   fair_main_demographic_parity_ratio  ...  perf_grp_precision_0  \\\n",
       "0                            0.918103  ...                   NaN   \n",
       "0                            0.918103  ...              0.119197   \n",
       "0                            0.841735  ...                   NaN   \n",
       "0                            0.841735  ...              0.130058   \n",
       "\n",
       "   perf_grp_precision_1  perf_grp_false positive rate_0  \\\n",
       "0                   NaN                             NaN   \n",
       "0              0.147999                        0.956416   \n",
       "0                   NaN                             NaN   \n",
       "0              0.174381                        0.839974   \n",
       "\n",
       "   perf_grp_false positive rate_1  perf_grp_false negative rate_0  \\\n",
       "0                             NaN                             NaN   \n",
       "0                        0.865867                        0.006757   \n",
       "0                             NaN                             NaN   \n",
       "0                        0.684041                        0.036318   \n",
       "\n",
       "   perf_grp_false negative rate_1  perf_grp_selection rate_0  \\\n",
       "0                             NaN                        NaN   \n",
       "0                        0.012144                   0.960662   \n",
       "0                             NaN                        NaN   \n",
       "0                        0.051094                   0.854236   \n",
       "\n",
       "   perf_grp_selection rate_1  perf_grp_count_0  perf_grp_count_1  \n",
       "0                        NaN               NaN               NaN  \n",
       "0                   0.881986           20540.0           69170.0  \n",
       "0                        NaN               NaN               NaN  \n",
       "0                   0.719040           20540.0           69170.0  \n",
       "\n",
       "[4 rows x 50 columns]"
      ]
     },
     "execution_count": 64,
     "metadata": {},
     "output_type": "execute_result"
    }
   ],
   "source": [
    "final_output = universe_analysis.generate_final_output(\n",
    "    y_pred_prob=probs_test,\n",
    "    y_test=y_true,\n",
    "    org_test=org_test,\n",
    "    filter_data=filter_sub_universe_data,\n",
    "    cp_metrics_df=cp_metrics_df,\n",
    "    save=True,\n",
    ")\n",
    "final_output"
   ]
  },
  {
   "cell_type": "code",
   "execution_count": null,
   "id": "8b80a1ff",
   "metadata": {
    "papermill": {
     "duration": 0.01507,
     "end_time": "2025-08-19T18:07:46.276550",
     "exception": false,
     "start_time": "2025-08-19T18:07:46.261480",
     "status": "completed"
    },
    "tags": []
   },
   "outputs": [],
   "source": []
  },
  {
   "cell_type": "code",
   "execution_count": null,
   "id": "275c9fad",
   "metadata": {
    "papermill": {
     "duration": 0.014313,
     "end_time": "2025-08-19T18:07:46.305228",
     "exception": false,
     "start_time": "2025-08-19T18:07:46.290915",
     "status": "completed"
    },
    "tags": []
   },
   "outputs": [],
   "source": []
  }
 ],
 "metadata": {
  "celltoolbar": "Tags",
  "kernelspec": {
   "display_name": "Python (CMA Fairness)",
   "language": "python",
   "name": "cma_fair_env"
  },
  "language_info": {
   "codemirror_mode": {
    "name": "ipython",
    "version": 3
   },
   "file_extension": ".py",
   "mimetype": "text/x-python",
   "name": "python",
   "nbconvert_exporter": "python",
   "pygments_lexer": "ipython3",
   "version": "3.10.12"
  },
  "papermill": {
   "default_parameters": {},
   "duration": 38.53052,
   "end_time": "2025-08-19T18:07:47.144757",
   "environment_variables": {},
   "exception": null,
   "input_path": "universe_analysis.ipynb",
   "output_path": "output/runs/3/notebooks/m_3-5a6029aaf510f4593bc0d2e67594f376.ipynb",
   "parameters": {
    "output_dir": "output",
    "run_no": "3",
    "seed": "2023",
    "universe": "{\"cutoff\": [\"quantile_0.1\", \"quantile_0.25\"], \"eval_fairness_grouping\": [\"majority-minority\", \"nationality-all\"], \"exclude_features\": \"sex\", \"exclude_subgroups\": \"keep-all\", \"model\": \"elasticnet\", \"scale\": \"scale\", \"training_size\": \"25k\", \"training_year\": \"2012_14\"}",
    "universe_id": "5a6029aaf510f4593bc0d2e67594f376"
   },
   "start_time": "2025-08-19T18:07:08.614237",
   "version": "2.6.0"
  }
 },
 "nbformat": 4,
 "nbformat_minor": 5
}