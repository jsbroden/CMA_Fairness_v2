{
 "cells": [
  {
   "cell_type": "markdown",
   "id": "ef23dbb3",
   "metadata": {
    "papermill": {
     "duration": 0.010767,
     "end_time": "2025-08-19T18:46:39.200020",
     "exception": false,
     "start_time": "2025-08-19T18:46:39.189253",
     "status": "completed"
    },
    "tags": []
   },
   "source": [
    "# Setup"
   ]
  },
  {
   "cell_type": "code",
   "execution_count": 1,
   "id": "0bc8e7dc",
   "metadata": {
    "execution": {
     "iopub.execute_input": "2025-08-19T18:46:39.234984Z",
     "iopub.status.busy": "2025-08-19T18:46:39.234570Z",
     "iopub.status.idle": "2025-08-19T18:46:39.246207Z",
     "shell.execute_reply": "2025-08-19T18:46:39.245190Z"
    },
    "papermill": {
     "duration": 0.030395,
     "end_time": "2025-08-19T18:46:39.247975",
     "exception": false,
     "start_time": "2025-08-19T18:46:39.217580",
     "status": "completed"
    },
    "tags": []
   },
   "outputs": [
    {
     "name": "stdout",
     "output_type": "stream",
     "text": [
      "/dss/dsshome1/0C/ra93lal2/cma/CMA_Fairness_v2\n"
     ]
    },
    {
     "name": "stderr",
     "output_type": "stream",
     "text": [
      "/dss/dsshome1/0C/ra93lal2/.local/share/virtualenvs/CMA_Fairness_v2-3j10GkSs/lib/python3.10/site-packages/IPython/core/magics/osm.py:393: UserWarning: This is now an optional IPython functionality, using bookmarks requires you to install the `pickleshare` library.\n",
      "  bkms = self.shell.db.get('bookmarks', {})\n",
      "/dss/dsshome1/0C/ra93lal2/.local/share/virtualenvs/CMA_Fairness_v2-3j10GkSs/lib/python3.10/site-packages/IPython/core/magics/osm.py:417: UserWarning: This is now an optional IPython functionality, setting dhist requires you to install the `pickleshare` library.\n",
      "  self.shell.db['dhist'] = compress_dhist(dhist)[-100:]\n"
     ]
    }
   ],
   "source": [
    "%cd ~/cma/CMA_Fairness_v2"
   ]
  },
  {
   "cell_type": "markdown",
   "id": "9d235661",
   "metadata": {
    "papermill": {
     "duration": 0.010204,
     "end_time": "2025-08-19T18:46:39.270192",
     "exception": false,
     "start_time": "2025-08-19T18:46:39.259988",
     "status": "completed"
    },
    "tags": []
   },
   "source": [
    "The following cell holds the definition of our parameters, these values can be overriden by rendering the with e.g. the following command:\n",
    "\n",
    "papermill -p alpha 0.2 -p ratio 0.3 universe_analysis.ipynb output/test_run.ipynb"
   ]
  },
  {
   "cell_type": "code",
   "execution_count": 2,
   "id": "4a789d8e",
   "metadata": {
    "execution": {
     "iopub.execute_input": "2025-08-19T18:46:39.291027Z",
     "iopub.status.busy": "2025-08-19T18:46:39.289871Z",
     "iopub.status.idle": "2025-08-19T18:46:39.298107Z",
     "shell.execute_reply": "2025-08-19T18:46:39.296951Z"
    },
    "papermill": {
     "duration": 0.020546,
     "end_time": "2025-08-19T18:46:39.299678",
     "exception": false,
     "start_time": "2025-08-19T18:46:39.279132",
     "status": "completed"
    },
    "tags": []
   },
   "outputs": [
    {
     "name": "stdout",
     "output_type": "stream",
     "text": [
      "Current working directory: /dss/dsshome1/0C/ra93lal2/cma/CMA_Fairness_v2\n"
     ]
    }
   ],
   "source": [
    "import os\n",
    "print(\"Current working directory:\", os.getcwd())"
   ]
  },
  {
   "cell_type": "code",
   "execution_count": 3,
   "id": "4132aaed",
   "metadata": {
    "execution": {
     "iopub.execute_input": "2025-08-19T18:46:39.325476Z",
     "iopub.status.busy": "2025-08-19T18:46:39.324282Z",
     "iopub.status.idle": "2025-08-19T18:46:39.334758Z",
     "shell.execute_reply": "2025-08-19T18:46:39.333116Z"
    },
    "papermill": {
     "duration": 0.023184,
     "end_time": "2025-08-19T18:46:39.336373",
     "exception": false,
     "start_time": "2025-08-19T18:46:39.313189",
     "status": "completed"
    },
    "tags": [
     "parameters"
    ]
   },
   "outputs": [],
   "source": [
    "run_no = 0\n",
    "universe_id = \"test\"\n",
    "universe = {\n",
    "    \"training_size\": \"5k\", # \"25k\", \"5k\", \"1k\"\n",
    "    \"training_year\": \"2012_14\", # \"2014\", \"2012_14\", \"2010_14\"\n",
    "    \"scale\": \"scale\", # \"scale\", \"do-not-scale\",\n",
    "    \"model\": \"elasticnet\", # \"logreg\", \"penalized_logreg\", \"rf\", \"gbm\", \"elasticnet\"\n",
    "    \"cutoff\": [\"quantile_0.15\", \"quantile_0.30\"],\n",
    "    \"exclude_features\": \"age\", # \"none\", \"nationality\", \"sex\", \"nationality-sex\", \"age\"\n",
    "    \"exclude_subgroups\": \"drop-non-german\", # \"keep-all\", \"drop-non-german\"\n",
    "    \"eval_fairness_grouping\": [\"majority-minority\", \"nationality-all\"]\n",
    "}\n",
    "\n",
    "output_dir=\"./output\"\n",
    "seed=0"
   ]
  },
  {
   "cell_type": "code",
   "execution_count": 4,
   "id": "eef04468",
   "metadata": {
    "execution": {
     "iopub.execute_input": "2025-08-19T18:46:39.360508Z",
     "iopub.status.busy": "2025-08-19T18:46:39.359398Z",
     "iopub.status.idle": "2025-08-19T18:46:39.366997Z",
     "shell.execute_reply": "2025-08-19T18:46:39.366047Z"
    },
    "papermill": {
     "duration": 0.020517,
     "end_time": "2025-08-19T18:46:39.369169",
     "exception": false,
     "start_time": "2025-08-19T18:46:39.348652",
     "status": "completed"
    },
    "tags": [
     "injected-parameters"
    ]
   },
   "outputs": [],
   "source": [
    "# Parameters\n",
    "universe_id = \"3690b925a524f06c1662f4d55f45b058\"\n",
    "run_no = \"3\"\n",
    "universe = \"{\\\"cutoff\\\": [\\\"quantile_0.1\\\", \\\"quantile_0.25\\\"], \\\"eval_fairness_grouping\\\": [\\\"majority-minority\\\", \\\"nationality-all\\\"], \\\"exclude_features\\\": \\\"nationality-sex\\\", \\\"exclude_subgroups\\\": \\\"drop-non-german\\\", \\\"model\\\": \\\"rf\\\", \\\"scale\\\": \\\"do-not-scale\\\", \\\"training_size\\\": \\\"5k\\\", \\\"training_year\\\": \\\"2010_14\\\"}\"\n",
    "output_dir = \"output\"\n",
    "seed = \"2023\"\n"
   ]
  },
  {
   "cell_type": "code",
   "execution_count": 5,
   "id": "a5d7941f",
   "metadata": {
    "execution": {
     "iopub.execute_input": "2025-08-19T18:46:39.391627Z",
     "iopub.status.busy": "2025-08-19T18:46:39.391133Z",
     "iopub.status.idle": "2025-08-19T18:46:39.395845Z",
     "shell.execute_reply": "2025-08-19T18:46:39.395048Z"
    },
    "papermill": {
     "duration": 0.016274,
     "end_time": "2025-08-19T18:46:39.397225",
     "exception": false,
     "start_time": "2025-08-19T18:46:39.380951",
     "status": "completed"
    },
    "tags": []
   },
   "outputs": [],
   "source": [
    "import json\n",
    "if isinstance(universe, str):\n",
    "    universe = json.loads(universe)"
   ]
  },
  {
   "cell_type": "code",
   "execution_count": 6,
   "id": "7076ccb1",
   "metadata": {
    "execution": {
     "iopub.execute_input": "2025-08-19T18:46:39.417401Z",
     "iopub.status.busy": "2025-08-19T18:46:39.416950Z",
     "iopub.status.idle": "2025-08-19T18:46:39.453807Z",
     "shell.execute_reply": "2025-08-19T18:46:39.452926Z"
    },
    "papermill": {
     "duration": 0.048759,
     "end_time": "2025-08-19T18:46:39.455367",
     "exception": false,
     "start_time": "2025-08-19T18:46:39.406608",
     "status": "completed"
    },
    "tags": []
   },
   "outputs": [],
   "source": [
    "# Auto-reload the custom package\n",
    "%load_ext autoreload\n",
    "%autoreload 1\n",
    "%aimport fairness_multiverse"
   ]
  },
  {
   "cell_type": "code",
   "execution_count": 7,
   "id": "94c8eb93",
   "metadata": {
    "execution": {
     "iopub.execute_input": "2025-08-19T18:46:39.476784Z",
     "iopub.status.busy": "2025-08-19T18:46:39.476296Z",
     "iopub.status.idle": "2025-08-19T18:46:41.097881Z",
     "shell.execute_reply": "2025-08-19T18:46:41.095168Z"
    },
    "papermill": {
     "duration": 1.635762,
     "end_time": "2025-08-19T18:46:41.101177",
     "exception": false,
     "start_time": "2025-08-19T18:46:39.465415",
     "status": "completed"
    },
    "tags": []
   },
   "outputs": [],
   "source": [
    "from fairness_multiverse.universe import UniverseAnalysis\n",
    "\n",
    "universe_analysis = UniverseAnalysis(\n",
    "    run_no = run_no,\n",
    "    universe_id = universe_id,\n",
    "    universe = universe,\n",
    "    output_dir=output_dir,\n",
    ")"
   ]
  },
  {
   "cell_type": "code",
   "execution_count": 8,
   "id": "2a6381cf",
   "metadata": {
    "execution": {
     "iopub.execute_input": "2025-08-19T18:46:41.128465Z",
     "iopub.status.busy": "2025-08-19T18:46:41.127109Z",
     "iopub.status.idle": "2025-08-19T18:46:41.139544Z",
     "shell.execute_reply": "2025-08-19T18:46:41.138203Z"
    },
    "papermill": {
     "duration": 0.025813,
     "end_time": "2025-08-19T18:46:41.141456",
     "exception": false,
     "start_time": "2025-08-19T18:46:41.115643",
     "status": "completed"
    },
    "tags": []
   },
   "outputs": [
    {
     "name": "stdout",
     "output_type": "stream",
     "text": [
      "Using Seed: 2023\n"
     ]
    }
   ],
   "source": [
    "import numpy as np\n",
    "parsed_seed = int(seed)\n",
    "np.random.seed(parsed_seed)\n",
    "print(f\"Using Seed: {parsed_seed}\")"
   ]
  },
  {
   "cell_type": "markdown",
   "id": "b6e958b4",
   "metadata": {
    "papermill": {
     "duration": 0.014209,
     "end_time": "2025-08-19T18:46:41.186009",
     "exception": false,
     "start_time": "2025-08-19T18:46:41.171800",
     "status": "completed"
    },
    "tags": []
   },
   "source": [
    "# Loading Data"
   ]
  },
  {
   "cell_type": "code",
   "execution_count": 9,
   "id": "98701482",
   "metadata": {
    "execution": {
     "iopub.execute_input": "2025-08-19T18:46:41.211611Z",
     "iopub.status.busy": "2025-08-19T18:46:41.209984Z",
     "iopub.status.idle": "2025-08-19T18:46:51.208573Z",
     "shell.execute_reply": "2025-08-19T18:46:51.206942Z"
    },
    "papermill": {
     "duration": 10.012131,
     "end_time": "2025-08-19T18:46:51.210148",
     "exception": false,
     "start_time": "2025-08-19T18:46:41.198017",
     "status": "completed"
    },
    "tags": []
   },
   "outputs": [
    {
     "name": "stdout",
     "output_type": "stream",
     "text": [
      "Loading SIAB data from cache: data/siab_cached.csv.gz\n"
     ]
    },
    {
     "name": "stdout",
     "output_type": "stream",
     "text": [
      "(643690, 164)\n"
     ]
    }
   ],
   "source": [
    "from pathlib import Path\n",
    "import pandas as pd\n",
    "\n",
    "# File paths\n",
    "raw_file = Path(\"data/raw/siab.csv\")\n",
    "cache_file = Path(\"data/siab_cached.csv.gz\")\n",
    "\n",
    "# Ensure cache directory exists\n",
    "cache_file.parent.mkdir(parents=True, exist_ok=True)\n",
    "\n",
    "# Load with simple caching\n",
    "if cache_file.exists():\n",
    "    print(f\"Loading SIAB data from cache: {cache_file}\")\n",
    "    siab = pd.read_csv(cache_file, compression='gzip')\n",
    "else:\n",
    "    print(f\"Cache not found. Reading raw SIAB data: {raw_file}\")\n",
    "    siab = pd.read_csv(raw_file)\n",
    "    siab.to_csv(cache_file, index=False, compression='gzip')\n",
    "    print(f\"Cached SIAB data to: {cache_file}\")\n",
    "\n",
    "print(siab.shape)"
   ]
  },
  {
   "cell_type": "code",
   "execution_count": 10,
   "id": "058d2abb",
   "metadata": {
    "execution": {
     "iopub.execute_input": "2025-08-19T18:46:51.244309Z",
     "iopub.status.busy": "2025-08-19T18:46:51.243913Z",
     "iopub.status.idle": "2025-08-19T18:46:51.397307Z",
     "shell.execute_reply": "2025-08-19T18:46:51.396138Z"
    },
    "papermill": {
     "duration": 0.175342,
     "end_time": "2025-08-19T18:46:51.400724",
     "exception": false,
     "start_time": "2025-08-19T18:46:51.225382",
     "status": "completed"
    },
    "tags": []
   },
   "outputs": [
    {
     "data": {
      "text/html": [
       "<div>\n",
       "<style scoped>\n",
       "    .dataframe tbody tr th:only-of-type {\n",
       "        vertical-align: middle;\n",
       "    }\n",
       "\n",
       "    .dataframe tbody tr th {\n",
       "        vertical-align: top;\n",
       "    }\n",
       "\n",
       "    .dataframe thead th {\n",
       "        text-align: right;\n",
       "    }\n",
       "</style>\n",
       "<table border=\"1\" class=\"dataframe\">\n",
       "  <thead>\n",
       "    <tr style=\"text-align: right;\">\n",
       "      <th></th>\n",
       "      <th>persnr</th>\n",
       "      <th>year</th>\n",
       "      <th>nrEntry</th>\n",
       "      <th>ltue</th>\n",
       "      <th>employed_before</th>\n",
       "      <th>receipt_leh_before</th>\n",
       "      <th>receipt_lhg_before</th>\n",
       "      <th>se_before</th>\n",
       "      <th>ASU_notue_seeking_before</th>\n",
       "      <th>ASU_other_before</th>\n",
       "      <th>...</th>\n",
       "      <th>minijob_tot_dur_byage</th>\n",
       "      <th>ft_tot_dur_byage</th>\n",
       "      <th>befrist_tot_dur_byage</th>\n",
       "      <th>leih_tot_dur_byage</th>\n",
       "      <th>LHG_tot_dur_byage</th>\n",
       "      <th>LEH_tot_dur_byage</th>\n",
       "      <th>almp_tot_dur_byage</th>\n",
       "      <th>almp_aw_tot_dur_byage</th>\n",
       "      <th>se_tot_dur_byage</th>\n",
       "      <th>seeking1_tot_dur_byage</th>\n",
       "    </tr>\n",
       "  </thead>\n",
       "  <tbody>\n",
       "    <tr>\n",
       "      <th>0</th>\n",
       "      <td>7</td>\n",
       "      <td>2015</td>\n",
       "      <td>1</td>\n",
       "      <td>0</td>\n",
       "      <td>1</td>\n",
       "      <td>0</td>\n",
       "      <td>0</td>\n",
       "      <td>0</td>\n",
       "      <td>1</td>\n",
       "      <td>0</td>\n",
       "      <td>...</td>\n",
       "      <td>0.000000</td>\n",
       "      <td>0.000000</td>\n",
       "      <td>15.043478</td>\n",
       "      <td>0.000000</td>\n",
       "      <td>0.000000</td>\n",
       "      <td>0.000000</td>\n",
       "      <td>0.000000</td>\n",
       "      <td>0.000000</td>\n",
       "      <td>0.000000</td>\n",
       "      <td>0.000000</td>\n",
       "    </tr>\n",
       "    <tr>\n",
       "      <th>1</th>\n",
       "      <td>18</td>\n",
       "      <td>2010</td>\n",
       "      <td>1</td>\n",
       "      <td>1</td>\n",
       "      <td>0</td>\n",
       "      <td>0</td>\n",
       "      <td>0</td>\n",
       "      <td>0</td>\n",
       "      <td>0</td>\n",
       "      <td>0</td>\n",
       "      <td>...</td>\n",
       "      <td>0.000000</td>\n",
       "      <td>0.000000</td>\n",
       "      <td>0.000000</td>\n",
       "      <td>0.000000</td>\n",
       "      <td>0.000000</td>\n",
       "      <td>0.000000</td>\n",
       "      <td>0.000000</td>\n",
       "      <td>0.000000</td>\n",
       "      <td>0.000000</td>\n",
       "      <td>0.000000</td>\n",
       "    </tr>\n",
       "    <tr>\n",
       "      <th>2</th>\n",
       "      <td>18</td>\n",
       "      <td>2011</td>\n",
       "      <td>2</td>\n",
       "      <td>0</td>\n",
       "      <td>1</td>\n",
       "      <td>0</td>\n",
       "      <td>1</td>\n",
       "      <td>0</td>\n",
       "      <td>1</td>\n",
       "      <td>0</td>\n",
       "      <td>...</td>\n",
       "      <td>2.714286</td>\n",
       "      <td>2.714286</td>\n",
       "      <td>0.000000</td>\n",
       "      <td>0.000000</td>\n",
       "      <td>10.775510</td>\n",
       "      <td>0.000000</td>\n",
       "      <td>8.367347</td>\n",
       "      <td>0.000000</td>\n",
       "      <td>0.000000</td>\n",
       "      <td>9.836735</td>\n",
       "    </tr>\n",
       "    <tr>\n",
       "      <th>3</th>\n",
       "      <td>18</td>\n",
       "      <td>2012</td>\n",
       "      <td>3</td>\n",
       "      <td>0</td>\n",
       "      <td>1</td>\n",
       "      <td>0</td>\n",
       "      <td>1</td>\n",
       "      <td>0</td>\n",
       "      <td>1</td>\n",
       "      <td>0</td>\n",
       "      <td>...</td>\n",
       "      <td>4.200000</td>\n",
       "      <td>4.200000</td>\n",
       "      <td>0.000000</td>\n",
       "      <td>0.000000</td>\n",
       "      <td>12.100000</td>\n",
       "      <td>0.000000</td>\n",
       "      <td>9.400000</td>\n",
       "      <td>0.000000</td>\n",
       "      <td>0.000000</td>\n",
       "      <td>9.960000</td>\n",
       "    </tr>\n",
       "    <tr>\n",
       "      <th>4</th>\n",
       "      <td>18</td>\n",
       "      <td>2012</td>\n",
       "      <td>4</td>\n",
       "      <td>0</td>\n",
       "      <td>1</td>\n",
       "      <td>0</td>\n",
       "      <td>1</td>\n",
       "      <td>0</td>\n",
       "      <td>1</td>\n",
       "      <td>0</td>\n",
       "      <td>...</td>\n",
       "      <td>5.460000</td>\n",
       "      <td>5.460000</td>\n",
       "      <td>0.000000</td>\n",
       "      <td>0.000000</td>\n",
       "      <td>13.360000</td>\n",
       "      <td>0.000000</td>\n",
       "      <td>10.320000</td>\n",
       "      <td>0.000000</td>\n",
       "      <td>0.000000</td>\n",
       "      <td>10.280000</td>\n",
       "    </tr>\n",
       "    <tr>\n",
       "      <th>...</th>\n",
       "      <td>...</td>\n",
       "      <td>...</td>\n",
       "      <td>...</td>\n",
       "      <td>...</td>\n",
       "      <td>...</td>\n",
       "      <td>...</td>\n",
       "      <td>...</td>\n",
       "      <td>...</td>\n",
       "      <td>...</td>\n",
       "      <td>...</td>\n",
       "      <td>...</td>\n",
       "      <td>...</td>\n",
       "      <td>...</td>\n",
       "      <td>...</td>\n",
       "      <td>...</td>\n",
       "      <td>...</td>\n",
       "      <td>...</td>\n",
       "      <td>...</td>\n",
       "      <td>...</td>\n",
       "      <td>...</td>\n",
       "      <td>...</td>\n",
       "    </tr>\n",
       "    <tr>\n",
       "      <th>643685</th>\n",
       "      <td>1827860</td>\n",
       "      <td>2013</td>\n",
       "      <td>1</td>\n",
       "      <td>0</td>\n",
       "      <td>0</td>\n",
       "      <td>0</td>\n",
       "      <td>1</td>\n",
       "      <td>0</td>\n",
       "      <td>0</td>\n",
       "      <td>1</td>\n",
       "      <td>...</td>\n",
       "      <td>0.000000</td>\n",
       "      <td>0.000000</td>\n",
       "      <td>0.000000</td>\n",
       "      <td>0.000000</td>\n",
       "      <td>0.612903</td>\n",
       "      <td>0.000000</td>\n",
       "      <td>0.000000</td>\n",
       "      <td>0.000000</td>\n",
       "      <td>0.000000</td>\n",
       "      <td>0.000000</td>\n",
       "    </tr>\n",
       "    <tr>\n",
       "      <th>643686</th>\n",
       "      <td>1827860</td>\n",
       "      <td>2015</td>\n",
       "      <td>2</td>\n",
       "      <td>1</td>\n",
       "      <td>0</td>\n",
       "      <td>0</td>\n",
       "      <td>1</td>\n",
       "      <td>0</td>\n",
       "      <td>1</td>\n",
       "      <td>0</td>\n",
       "      <td>...</td>\n",
       "      <td>0.000000</td>\n",
       "      <td>0.000000</td>\n",
       "      <td>0.212121</td>\n",
       "      <td>0.212121</td>\n",
       "      <td>17.363636</td>\n",
       "      <td>0.000000</td>\n",
       "      <td>8.909091</td>\n",
       "      <td>0.000000</td>\n",
       "      <td>0.000000</td>\n",
       "      <td>7.121212</td>\n",
       "    </tr>\n",
       "    <tr>\n",
       "      <th>643687</th>\n",
       "      <td>1827860</td>\n",
       "      <td>2016</td>\n",
       "      <td>3</td>\n",
       "      <td>1</td>\n",
       "      <td>0</td>\n",
       "      <td>0</td>\n",
       "      <td>1</td>\n",
       "      <td>1</td>\n",
       "      <td>0</td>\n",
       "      <td>1</td>\n",
       "      <td>...</td>\n",
       "      <td>0.000000</td>\n",
       "      <td>0.000000</td>\n",
       "      <td>0.294118</td>\n",
       "      <td>0.205882</td>\n",
       "      <td>34.705882</td>\n",
       "      <td>0.000000</td>\n",
       "      <td>10.352941</td>\n",
       "      <td>1.705882</td>\n",
       "      <td>1.705882</td>\n",
       "      <td>23.911765</td>\n",
       "    </tr>\n",
       "    <tr>\n",
       "      <th>643688</th>\n",
       "      <td>1827869</td>\n",
       "      <td>2013</td>\n",
       "      <td>1</td>\n",
       "      <td>1</td>\n",
       "      <td>1</td>\n",
       "      <td>0</td>\n",
       "      <td>0</td>\n",
       "      <td>0</td>\n",
       "      <td>1</td>\n",
       "      <td>0</td>\n",
       "      <td>...</td>\n",
       "      <td>0.000000</td>\n",
       "      <td>0.000000</td>\n",
       "      <td>0.000000</td>\n",
       "      <td>0.000000</td>\n",
       "      <td>0.000000</td>\n",
       "      <td>0.525424</td>\n",
       "      <td>0.000000</td>\n",
       "      <td>0.000000</td>\n",
       "      <td>0.000000</td>\n",
       "      <td>0.000000</td>\n",
       "    </tr>\n",
       "    <tr>\n",
       "      <th>643689</th>\n",
       "      <td>1827869</td>\n",
       "      <td>2014</td>\n",
       "      <td>2</td>\n",
       "      <td>0</td>\n",
       "      <td>0</td>\n",
       "      <td>1</td>\n",
       "      <td>0</td>\n",
       "      <td>0</td>\n",
       "      <td>1</td>\n",
       "      <td>0</td>\n",
       "      <td>...</td>\n",
       "      <td>0.000000</td>\n",
       "      <td>0.666667</td>\n",
       "      <td>0.666667</td>\n",
       "      <td>0.000000</td>\n",
       "      <td>0.000000</td>\n",
       "      <td>8.950000</td>\n",
       "      <td>1.033333</td>\n",
       "      <td>0.083333</td>\n",
       "      <td>0.083333</td>\n",
       "      <td>8.133333</td>\n",
       "    </tr>\n",
       "  </tbody>\n",
       "</table>\n",
       "<p>643690 rows × 164 columns</p>\n",
       "</div>"
      ],
      "text/plain": [
       "         persnr  year  nrEntry  ltue  employed_before  receipt_leh_before  \\\n",
       "0             7  2015        1     0                1                   0   \n",
       "1            18  2010        1     1                0                   0   \n",
       "2            18  2011        2     0                1                   0   \n",
       "3            18  2012        3     0                1                   0   \n",
       "4            18  2012        4     0                1                   0   \n",
       "...         ...   ...      ...   ...              ...                 ...   \n",
       "643685  1827860  2013        1     0                0                   0   \n",
       "643686  1827860  2015        2     1                0                   0   \n",
       "643687  1827860  2016        3     1                0                   0   \n",
       "643688  1827869  2013        1     1                1                   0   \n",
       "643689  1827869  2014        2     0                0                   1   \n",
       "\n",
       "        receipt_lhg_before  se_before  ASU_notue_seeking_before  \\\n",
       "0                        0          0                         1   \n",
       "1                        0          0                         0   \n",
       "2                        1          0                         1   \n",
       "3                        1          0                         1   \n",
       "4                        1          0                         1   \n",
       "...                    ...        ...                       ...   \n",
       "643685                   1          0                         0   \n",
       "643686                   1          0                         1   \n",
       "643687                   1          1                         0   \n",
       "643688                   0          0                         1   \n",
       "643689                   0          0                         1   \n",
       "\n",
       "        ASU_other_before  ...  minijob_tot_dur_byage  ft_tot_dur_byage  \\\n",
       "0                      0  ...               0.000000          0.000000   \n",
       "1                      0  ...               0.000000          0.000000   \n",
       "2                      0  ...               2.714286          2.714286   \n",
       "3                      0  ...               4.200000          4.200000   \n",
       "4                      0  ...               5.460000          5.460000   \n",
       "...                  ...  ...                    ...               ...   \n",
       "643685                 1  ...               0.000000          0.000000   \n",
       "643686                 0  ...               0.000000          0.000000   \n",
       "643687                 1  ...               0.000000          0.000000   \n",
       "643688                 0  ...               0.000000          0.000000   \n",
       "643689                 0  ...               0.000000          0.666667   \n",
       "\n",
       "        befrist_tot_dur_byage  leih_tot_dur_byage  LHG_tot_dur_byage  \\\n",
       "0                   15.043478            0.000000           0.000000   \n",
       "1                    0.000000            0.000000           0.000000   \n",
       "2                    0.000000            0.000000          10.775510   \n",
       "3                    0.000000            0.000000          12.100000   \n",
       "4                    0.000000            0.000000          13.360000   \n",
       "...                       ...                 ...                ...   \n",
       "643685               0.000000            0.000000           0.612903   \n",
       "643686               0.212121            0.212121          17.363636   \n",
       "643687               0.294118            0.205882          34.705882   \n",
       "643688               0.000000            0.000000           0.000000   \n",
       "643689               0.666667            0.000000           0.000000   \n",
       "\n",
       "        LEH_tot_dur_byage  almp_tot_dur_byage  almp_aw_tot_dur_byage  \\\n",
       "0                0.000000            0.000000               0.000000   \n",
       "1                0.000000            0.000000               0.000000   \n",
       "2                0.000000            8.367347               0.000000   \n",
       "3                0.000000            9.400000               0.000000   \n",
       "4                0.000000           10.320000               0.000000   \n",
       "...                   ...                 ...                    ...   \n",
       "643685           0.000000            0.000000               0.000000   \n",
       "643686           0.000000            8.909091               0.000000   \n",
       "643687           0.000000           10.352941               1.705882   \n",
       "643688           0.525424            0.000000               0.000000   \n",
       "643689           8.950000            1.033333               0.083333   \n",
       "\n",
       "        se_tot_dur_byage  seeking1_tot_dur_byage  \n",
       "0               0.000000                0.000000  \n",
       "1               0.000000                0.000000  \n",
       "2               0.000000                9.836735  \n",
       "3               0.000000                9.960000  \n",
       "4               0.000000               10.280000  \n",
       "...                  ...                     ...  \n",
       "643685          0.000000                0.000000  \n",
       "643686          0.000000                7.121212  \n",
       "643687          1.705882               23.911765  \n",
       "643688          0.000000                0.000000  \n",
       "643689          0.083333                8.133333  \n",
       "\n",
       "[643690 rows x 164 columns]"
      ]
     },
     "execution_count": 10,
     "metadata": {},
     "output_type": "execute_result"
    }
   ],
   "source": [
    "siab"
   ]
  },
  {
   "cell_type": "markdown",
   "id": "1f87e805",
   "metadata": {
    "papermill": {
     "duration": 0.02002,
     "end_time": "2025-08-19T18:46:51.441843",
     "exception": false,
     "start_time": "2025-08-19T18:46:51.421823",
     "status": "completed"
    },
    "tags": []
   },
   "source": [
    "# Splitting Data and Setting Training Data Size"
   ]
  },
  {
   "cell_type": "code",
   "execution_count": 11,
   "id": "910ae358",
   "metadata": {
    "execution": {
     "iopub.execute_input": "2025-08-19T18:46:51.480368Z",
     "iopub.status.busy": "2025-08-19T18:46:51.479957Z",
     "iopub.status.idle": "2025-08-19T18:46:52.539292Z",
     "shell.execute_reply": "2025-08-19T18:46:52.538055Z"
    },
    "papermill": {
     "duration": 1.088193,
     "end_time": "2025-08-19T18:46:52.542739",
     "exception": false,
     "start_time": "2025-08-19T18:46:51.454546",
     "status": "completed"
    },
    "tags": []
   },
   "outputs": [],
   "source": [
    "from fairness_multiverse.universe import sample_by_year_size\n",
    "\n",
    "siab_train = sample_by_year_size(siab,\n",
    "                               training_year=universe[\"training_year\"],\n",
    "                               training_size=universe[\"training_size\"])"
   ]
  },
  {
   "cell_type": "code",
   "execution_count": 12,
   "id": "919c8ff5",
   "metadata": {
    "execution": {
     "iopub.execute_input": "2025-08-19T18:46:52.579730Z",
     "iopub.status.busy": "2025-08-19T18:46:52.578673Z",
     "iopub.status.idle": "2025-08-19T18:46:52.588936Z",
     "shell.execute_reply": "2025-08-19T18:46:52.587720Z"
    },
    "papermill": {
     "duration": 0.026335,
     "end_time": "2025-08-19T18:46:52.591431",
     "exception": false,
     "start_time": "2025-08-19T18:46:52.565096",
     "status": "completed"
    },
    "tags": []
   },
   "outputs": [
    {
     "data": {
      "text/plain": [
       "(5000, 164)"
      ]
     },
     "execution_count": 12,
     "metadata": {},
     "output_type": "execute_result"
    }
   ],
   "source": [
    "siab_train.shape"
   ]
  },
  {
   "cell_type": "code",
   "execution_count": 13,
   "id": "feb13bf4",
   "metadata": {
    "execution": {
     "iopub.execute_input": "2025-08-19T18:46:52.615902Z",
     "iopub.status.busy": "2025-08-19T18:46:52.615206Z",
     "iopub.status.idle": "2025-08-19T18:46:52.629591Z",
     "shell.execute_reply": "2025-08-19T18:46:52.628409Z"
    },
    "papermill": {
     "duration": 0.028148,
     "end_time": "2025-08-19T18:46:52.631428",
     "exception": false,
     "start_time": "2025-08-19T18:46:52.603280",
     "status": "completed"
    },
    "tags": []
   },
   "outputs": [
    {
     "data": {
      "text/plain": [
       "year\n",
       "2010    1000\n",
       "2011    1000\n",
       "2012    1000\n",
       "2013    1000\n",
       "2014    1000\n",
       "dtype: int64"
      ]
     },
     "metadata": {},
     "output_type": "display_data"
    }
   ],
   "source": [
    "display(siab_train.groupby(\"year\").size())"
   ]
  },
  {
   "cell_type": "code",
   "execution_count": 14,
   "id": "0997782f",
   "metadata": {
    "execution": {
     "iopub.execute_input": "2025-08-19T18:46:52.657574Z",
     "iopub.status.busy": "2025-08-19T18:46:52.656832Z",
     "iopub.status.idle": "2025-08-19T18:46:52.915188Z",
     "shell.execute_reply": "2025-08-19T18:46:52.913931Z"
    },
    "papermill": {
     "duration": 0.274517,
     "end_time": "2025-08-19T18:46:52.918607",
     "exception": false,
     "start_time": "2025-08-19T18:46:52.644090",
     "status": "completed"
    },
    "tags": []
   },
   "outputs": [],
   "source": [
    "#siab_train = siab_s[siab_s.year < 2015]\n",
    "siab_calib = siab[siab.year == 2015]\n",
    "siab_test = siab[siab.year == 2016]"
   ]
  },
  {
   "cell_type": "code",
   "execution_count": 15,
   "id": "2c1e4012",
   "metadata": {
    "execution": {
     "iopub.execute_input": "2025-08-19T18:46:52.957560Z",
     "iopub.status.busy": "2025-08-19T18:46:52.956905Z",
     "iopub.status.idle": "2025-08-19T18:46:52.963303Z",
     "shell.execute_reply": "2025-08-19T18:46:52.961966Z"
    },
    "papermill": {
     "duration": 0.023413,
     "end_time": "2025-08-19T18:46:52.964898",
     "exception": false,
     "start_time": "2025-08-19T18:46:52.941485",
     "status": "completed"
    },
    "tags": []
   },
   "outputs": [],
   "source": [
    "#siab_calib.shape"
   ]
  },
  {
   "cell_type": "code",
   "execution_count": 16,
   "id": "f66b54ca",
   "metadata": {
    "execution": {
     "iopub.execute_input": "2025-08-19T18:46:52.987583Z",
     "iopub.status.busy": "2025-08-19T18:46:52.986878Z",
     "iopub.status.idle": "2025-08-19T18:46:52.993127Z",
     "shell.execute_reply": "2025-08-19T18:46:52.991884Z"
    },
    "papermill": {
     "duration": 0.019524,
     "end_time": "2025-08-19T18:46:52.994658",
     "exception": false,
     "start_time": "2025-08-19T18:46:52.975134",
     "status": "completed"
    },
    "tags": []
   },
   "outputs": [],
   "source": [
    "#siab_test.shape"
   ]
  },
  {
   "cell_type": "code",
   "execution_count": 17,
   "id": "27e4384d",
   "metadata": {
    "execution": {
     "iopub.execute_input": "2025-08-19T18:46:53.037146Z",
     "iopub.status.busy": "2025-08-19T18:46:53.036400Z",
     "iopub.status.idle": "2025-08-19T18:46:53.047857Z",
     "shell.execute_reply": "2025-08-19T18:46:53.046515Z"
    },
    "papermill": {
     "duration": 0.040391,
     "end_time": "2025-08-19T18:46:53.049943",
     "exception": false,
     "start_time": "2025-08-19T18:46:53.009552",
     "status": "completed"
    },
    "tags": []
   },
   "outputs": [],
   "source": [
    "X_train = siab_train.iloc[:,4:164]\n",
    "y_train = siab_train.iloc[:, [3]]"
   ]
  },
  {
   "cell_type": "code",
   "execution_count": 18,
   "id": "08ee8389",
   "metadata": {
    "execution": {
     "iopub.execute_input": "2025-08-19T18:46:53.086647Z",
     "iopub.status.busy": "2025-08-19T18:46:53.085934Z",
     "iopub.status.idle": "2025-08-19T18:46:53.147391Z",
     "shell.execute_reply": "2025-08-19T18:46:53.146450Z"
    },
    "papermill": {
     "duration": 0.079032,
     "end_time": "2025-08-19T18:46:53.150186",
     "exception": false,
     "start_time": "2025-08-19T18:46:53.071154",
     "status": "completed"
    },
    "tags": []
   },
   "outputs": [],
   "source": [
    "X_calib = siab_calib.iloc[:,4:164]\n",
    "y_calib = siab_calib.iloc[:, [3]]"
   ]
  },
  {
   "cell_type": "code",
   "execution_count": 19,
   "id": "b7ff42e0",
   "metadata": {
    "execution": {
     "iopub.execute_input": "2025-08-19T18:46:53.190928Z",
     "iopub.status.busy": "2025-08-19T18:46:53.190298Z",
     "iopub.status.idle": "2025-08-19T18:46:53.251705Z",
     "shell.execute_reply": "2025-08-19T18:46:53.250577Z"
    },
    "papermill": {
     "duration": 0.078641,
     "end_time": "2025-08-19T18:46:53.254424",
     "exception": false,
     "start_time": "2025-08-19T18:46:53.175783",
     "status": "completed"
    },
    "tags": []
   },
   "outputs": [],
   "source": [
    "X_test = siab_test.iloc[:,4:164]\n",
    "y_true = siab_test.iloc[:, [3]]"
   ]
  },
  {
   "cell_type": "code",
   "execution_count": 20,
   "id": "0275101e",
   "metadata": {
    "execution": {
     "iopub.execute_input": "2025-08-19T18:46:53.293412Z",
     "iopub.status.busy": "2025-08-19T18:46:53.292815Z",
     "iopub.status.idle": "2025-08-19T18:46:53.406374Z",
     "shell.execute_reply": "2025-08-19T18:46:53.405203Z"
    },
    "papermill": {
     "duration": 0.130429,
     "end_time": "2025-08-19T18:46:53.408919",
     "exception": false,
     "start_time": "2025-08-19T18:46:53.278490",
     "status": "completed"
    },
    "tags": []
   },
   "outputs": [],
   "source": [
    "# Auxiliary data needed downstream in the pipeline\n",
    "\n",
    "org_train = X_train.copy()\n",
    "org_test = X_test.copy()\n",
    "org_calib = X_calib.copy()"
   ]
  },
  {
   "cell_type": "markdown",
   "id": "b461e618",
   "metadata": {
    "papermill": {
     "duration": 0.01685,
     "end_time": "2025-08-19T18:46:53.446456",
     "exception": false,
     "start_time": "2025-08-19T18:46:53.429606",
     "status": "completed"
    },
    "tags": []
   },
   "source": [
    "# Preprocessing Data"
   ]
  },
  {
   "cell_type": "code",
   "execution_count": 21,
   "id": "78e74c4b",
   "metadata": {
    "execution": {
     "iopub.execute_input": "2025-08-19T18:46:53.475053Z",
     "iopub.status.busy": "2025-08-19T18:46:53.474308Z",
     "iopub.status.idle": "2025-08-19T18:46:53.482787Z",
     "shell.execute_reply": "2025-08-19T18:46:53.481500Z"
    },
    "papermill": {
     "duration": 0.027622,
     "end_time": "2025-08-19T18:46:53.484289",
     "exception": false,
     "start_time": "2025-08-19T18:46:53.456667",
     "status": "completed"
    },
    "tags": []
   },
   "outputs": [],
   "source": [
    "# EXCLUDE PROTECTED FEATURES\n",
    "# --------------------------\n",
    "\n",
    "excluded_features = universe[\"exclude_features\"].split(\"-\")\n",
    "excluded_features_dictionary = {\n",
    "    \"nationality\": [\"maxdeutsch1\", \"maxdeutsch.Missing.\"],\n",
    "    \"sex\": [\"frau1\"],\n",
    "    \"age\": [\"age\"],\n",
    "}"
   ]
  },
  {
   "cell_type": "code",
   "execution_count": 22,
   "id": "f8e63555",
   "metadata": {
    "execution": {
     "iopub.execute_input": "2025-08-19T18:46:53.522691Z",
     "iopub.status.busy": "2025-08-19T18:46:53.521978Z",
     "iopub.status.idle": "2025-08-19T18:46:53.530379Z",
     "shell.execute_reply": "2025-08-19T18:46:53.529020Z"
    },
    "papermill": {
     "duration": 0.034966,
     "end_time": "2025-08-19T18:46:53.532176",
     "exception": false,
     "start_time": "2025-08-19T18:46:53.497210",
     "status": "completed"
    },
    "tags": []
   },
   "outputs": [],
   "source": [
    "excluded_features_columns = [\n",
    "    excluded_features_dictionary[f] for f in excluded_features if len(f) > 0 and f != \"none\"\n",
    "]"
   ]
  },
  {
   "cell_type": "code",
   "execution_count": 23,
   "id": "da781f7c",
   "metadata": {
    "execution": {
     "iopub.execute_input": "2025-08-19T18:46:53.559706Z",
     "iopub.status.busy": "2025-08-19T18:46:53.558855Z",
     "iopub.status.idle": "2025-08-19T18:46:53.566482Z",
     "shell.execute_reply": "2025-08-19T18:46:53.565121Z"
    },
    "papermill": {
     "duration": 0.022182,
     "end_time": "2025-08-19T18:46:53.568043",
     "exception": false,
     "start_time": "2025-08-19T18:46:53.545861",
     "status": "completed"
    },
    "tags": []
   },
   "outputs": [],
   "source": [
    "from fairness_multiverse.universe import flatten_once\n",
    "\n",
    "excluded_features_columns = flatten_once(excluded_features_columns)"
   ]
  },
  {
   "cell_type": "code",
   "execution_count": 24,
   "id": "37fef0f0",
   "metadata": {
    "execution": {
     "iopub.execute_input": "2025-08-19T18:46:53.605743Z",
     "iopub.status.busy": "2025-08-19T18:46:53.604666Z",
     "iopub.status.idle": "2025-08-19T18:46:53.620909Z",
     "shell.execute_reply": "2025-08-19T18:46:53.619824Z"
    },
    "papermill": {
     "duration": 0.041957,
     "end_time": "2025-08-19T18:46:53.623188",
     "exception": false,
     "start_time": "2025-08-19T18:46:53.581231",
     "status": "completed"
    },
    "tags": []
   },
   "outputs": [
    {
     "name": "stdout",
     "output_type": "stream",
     "text": [
      "Dropping features: ['maxdeutsch1', 'maxdeutsch.Missing.', 'frau1']\n"
     ]
    }
   ],
   "source": [
    "if len(excluded_features_columns) > 0:\n",
    "    print(f\"Dropping features: {excluded_features_columns}\")\n",
    "    X_train.drop(excluded_features_columns, axis=1, inplace=True)"
   ]
  },
  {
   "cell_type": "code",
   "execution_count": 25,
   "id": "d029e3e9",
   "metadata": {
    "execution": {
     "iopub.execute_input": "2025-08-19T18:46:53.659303Z",
     "iopub.status.busy": "2025-08-19T18:46:53.658566Z",
     "iopub.status.idle": "2025-08-19T18:46:53.715073Z",
     "shell.execute_reply": "2025-08-19T18:46:53.714182Z"
    },
    "papermill": {
     "duration": 0.073489,
     "end_time": "2025-08-19T18:46:53.717659",
     "exception": false,
     "start_time": "2025-08-19T18:46:53.644170",
     "status": "completed"
    },
    "tags": []
   },
   "outputs": [
    {
     "name": "stdout",
     "output_type": "stream",
     "text": [
      "Dropping features: ['maxdeutsch1', 'maxdeutsch.Missing.', 'frau1']\n"
     ]
    }
   ],
   "source": [
    "if len(excluded_features_columns) > 0:\n",
    "    print(f\"Dropping features: {excluded_features_columns}\")\n",
    "    X_test.drop(excluded_features_columns, axis=1, inplace=True)"
   ]
  },
  {
   "cell_type": "code",
   "execution_count": 26,
   "id": "01d571f0",
   "metadata": {
    "execution": {
     "iopub.execute_input": "2025-08-19T18:46:53.758348Z",
     "iopub.status.busy": "2025-08-19T18:46:53.757737Z",
     "iopub.status.idle": "2025-08-19T18:46:53.813805Z",
     "shell.execute_reply": "2025-08-19T18:46:53.812854Z"
    },
    "papermill": {
     "duration": 0.073552,
     "end_time": "2025-08-19T18:46:53.816461",
     "exception": false,
     "start_time": "2025-08-19T18:46:53.742909",
     "status": "completed"
    },
    "tags": []
   },
   "outputs": [
    {
     "name": "stdout",
     "output_type": "stream",
     "text": [
      "Dropping features: ['maxdeutsch1', 'maxdeutsch.Missing.', 'frau1']\n"
     ]
    }
   ],
   "source": [
    "if len(excluded_features_columns) > 0:\n",
    "    print(f\"Dropping features: {excluded_features_columns}\")\n",
    "    X_calib.drop(excluded_features_columns, axis=1, inplace=True)"
   ]
  },
  {
   "cell_type": "code",
   "execution_count": 27,
   "id": "3037356e",
   "metadata": {
    "execution": {
     "iopub.execute_input": "2025-08-19T18:46:53.855806Z",
     "iopub.status.busy": "2025-08-19T18:46:53.855091Z",
     "iopub.status.idle": "2025-08-19T18:46:54.111806Z",
     "shell.execute_reply": "2025-08-19T18:46:54.110415Z"
    },
    "papermill": {
     "duration": 0.274682,
     "end_time": "2025-08-19T18:46:54.114993",
     "exception": false,
     "start_time": "2025-08-19T18:46:53.840311",
     "status": "completed"
    },
    "tags": []
   },
   "outputs": [],
   "source": [
    "# EXCLUDE CERTAIN SUBGROUPS\n",
    "# -------------------------\n",
    "\n",
    "mode = universe.get(\"exclude_subgroups\", \"keep-all\") # Defaults to \"keep-all\" if the key is missing."
   ]
  },
  {
   "cell_type": "code",
   "execution_count": 28,
   "id": "9d1e63fd",
   "metadata": {
    "execution": {
     "iopub.execute_input": "2025-08-19T18:46:54.154259Z",
     "iopub.status.busy": "2025-08-19T18:46:54.153548Z",
     "iopub.status.idle": "2025-08-19T18:46:54.164215Z",
     "shell.execute_reply": "2025-08-19T18:46:54.163077Z"
    },
    "papermill": {
     "duration": 0.026966,
     "end_time": "2025-08-19T18:46:54.165836",
     "exception": false,
     "start_time": "2025-08-19T18:46:54.138870",
     "status": "completed"
    },
    "tags": []
   },
   "outputs": [],
   "source": [
    "if mode == \"keep-all\":\n",
    "    keep_mask = pd.Series(True, index=org_train.index)\n",
    "\n",
    "elif mode == \"drop-non-german\":\n",
    "    keep_mask = (org_train[\"maxdeutsch1\"] == 1) & (org_train[\"maxdeutsch.Missing.\"] == 0)\n",
    "\n",
    "else:\n",
    "    raise ValueError(f\"Unsupported mode for exclude_subgroups: {mode}\")"
   ]
  },
  {
   "cell_type": "code",
   "execution_count": 29,
   "id": "d3b65474",
   "metadata": {
    "execution": {
     "iopub.execute_input": "2025-08-19T18:46:54.192876Z",
     "iopub.status.busy": "2025-08-19T18:46:54.192137Z",
     "iopub.status.idle": "2025-08-19T18:46:54.202356Z",
     "shell.execute_reply": "2025-08-19T18:46:54.200986Z"
    },
    "papermill": {
     "duration": 0.024582,
     "end_time": "2025-08-19T18:46:54.203936",
     "exception": false,
     "start_time": "2025-08-19T18:46:54.179354",
     "status": "completed"
    },
    "tags": []
   },
   "outputs": [
    {
     "name": "stdout",
     "output_type": "stream",
     "text": [
      "Dropping 657 rows (13.14%) where mode='drop-non-german'\n"
     ]
    }
   ],
   "source": [
    "n_drop = (~keep_mask).sum() # Calculates how many rows are set to be dropped\n",
    "if n_drop > 0:\n",
    "    pct = n_drop / len(keep_mask) * 100\n",
    "    print(f\"Dropping {n_drop} rows ({pct:.2f}%) where mode='{mode}'\")"
   ]
  },
  {
   "cell_type": "code",
   "execution_count": 30,
   "id": "f44389b3",
   "metadata": {
    "execution": {
     "iopub.execute_input": "2025-08-19T18:46:54.230215Z",
     "iopub.status.busy": "2025-08-19T18:46:54.229523Z",
     "iopub.status.idle": "2025-08-19T18:46:54.240027Z",
     "shell.execute_reply": "2025-08-19T18:46:54.238694Z"
    },
    "papermill": {
     "duration": 0.025537,
     "end_time": "2025-08-19T18:46:54.241934",
     "exception": false,
     "start_time": "2025-08-19T18:46:54.216397",
     "status": "completed"
    },
    "tags": []
   },
   "outputs": [],
   "source": [
    "X_train = X_train[keep_mask]"
   ]
  },
  {
   "cell_type": "code",
   "execution_count": 31,
   "id": "ceca8c2a",
   "metadata": {
    "execution": {
     "iopub.execute_input": "2025-08-19T18:46:54.269778Z",
     "iopub.status.busy": "2025-08-19T18:46:54.269080Z",
     "iopub.status.idle": "2025-08-19T18:46:54.277501Z",
     "shell.execute_reply": "2025-08-19T18:46:54.276153Z"
    },
    "papermill": {
     "duration": 0.023074,
     "end_time": "2025-08-19T18:46:54.279220",
     "exception": false,
     "start_time": "2025-08-19T18:46:54.256146",
     "status": "completed"
    },
    "tags": []
   },
   "outputs": [],
   "source": [
    "y_train = y_train[keep_mask]"
   ]
  },
  {
   "cell_type": "markdown",
   "id": "04d31e2f",
   "metadata": {
    "papermill": {
     "duration": 0.011233,
     "end_time": "2025-08-19T18:46:54.302624",
     "exception": false,
     "start_time": "2025-08-19T18:46:54.291391",
     "status": "completed"
    },
    "tags": []
   },
   "source": [
    "# Model Training"
   ]
  },
  {
   "cell_type": "code",
   "execution_count": 32,
   "id": "db991733",
   "metadata": {
    "execution": {
     "iopub.execute_input": "2025-08-19T18:46:54.327277Z",
     "iopub.status.busy": "2025-08-19T18:46:54.326742Z",
     "iopub.status.idle": "2025-08-19T18:46:54.434780Z",
     "shell.execute_reply": "2025-08-19T18:46:54.433660Z"
    },
    "papermill": {
     "duration": 0.124312,
     "end_time": "2025-08-19T18:46:54.438223",
     "exception": false,
     "start_time": "2025-08-19T18:46:54.313911",
     "status": "completed"
    },
    "tags": []
   },
   "outputs": [],
   "source": [
    "from sklearn.linear_model import LogisticRegression\n",
    "from sklearn.ensemble import GradientBoostingClassifier, RandomForestClassifier\n",
    "\n",
    "if (universe[\"model\"] == \"logreg\"):\n",
    "    model = LogisticRegression() #penalty=\"none\", solver=\"newton-cg\", max_iter=1)\n",
    "elif (universe[\"model\"] == \"penalized_logreg\"):\n",
    "    model = LogisticRegression(penalty=\"l2\", C=0.1) #, solver=\"newton-cg\", max_iter=1)\n",
    "elif (universe[\"model\"] == \"rf\"):\n",
    "    model = RandomForestClassifier() # n_estimators=100, n_jobs=-1\n",
    "elif (universe[\"model\"] == \"gbm\"):\n",
    "    model = GradientBoostingClassifier()\n",
    "elif (universe[\"model\"] == \"elasticnet\"):\n",
    "    model = LogisticRegression(penalty = 'elasticnet', solver = 'saga', l1_ratio = 0.5) # max_iter=5000\n",
    "else:\n",
    "    raise \"Unsupported universe.model\""
   ]
  },
  {
   "cell_type": "code",
   "execution_count": 33,
   "id": "a4b5cd25",
   "metadata": {
    "execution": {
     "iopub.execute_input": "2025-08-19T18:46:54.478189Z",
     "iopub.status.busy": "2025-08-19T18:46:54.477464Z",
     "iopub.status.idle": "2025-08-19T18:46:54.486911Z",
     "shell.execute_reply": "2025-08-19T18:46:54.485464Z"
    },
    "papermill": {
     "duration": 0.026919,
     "end_time": "2025-08-19T18:46:54.489083",
     "exception": false,
     "start_time": "2025-08-19T18:46:54.462164",
     "status": "completed"
    },
    "tags": []
   },
   "outputs": [],
   "source": [
    "from sklearn.pipeline import Pipeline\n",
    "from sklearn.preprocessing import StandardScaler\n",
    "\n",
    "model = Pipeline([\n",
    "    #(\"continuous_processor\", continuous_processor),\n",
    "    #(\"categorical_preprocessor\", categorical_preprocessor),\n",
    "    (\"scale\", StandardScaler() if universe[\"scale\"] == \"scale\" else None), \n",
    "    (\"model\", model),\n",
    "])"
   ]
  },
  {
   "cell_type": "code",
   "execution_count": 34,
   "id": "283a904d",
   "metadata": {
    "execution": {
     "iopub.execute_input": "2025-08-19T18:46:54.517531Z",
     "iopub.status.busy": "2025-08-19T18:46:54.516800Z",
     "iopub.status.idle": "2025-08-19T18:46:55.677609Z",
     "shell.execute_reply": "2025-08-19T18:46:55.676757Z"
    },
    "papermill": {
     "duration": 1.175736,
     "end_time": "2025-08-19T18:46:55.678926",
     "exception": false,
     "start_time": "2025-08-19T18:46:54.503190",
     "status": "completed"
    },
    "tags": []
   },
   "outputs": [
    {
     "data": {
      "text/html": [
       "<style>#sk-container-id-1 {color: black;background-color: white;}#sk-container-id-1 pre{padding: 0;}#sk-container-id-1 div.sk-toggleable {background-color: white;}#sk-container-id-1 label.sk-toggleable__label {cursor: pointer;display: block;width: 100%;margin-bottom: 0;padding: 0.3em;box-sizing: border-box;text-align: center;}#sk-container-id-1 label.sk-toggleable__label-arrow:before {content: \"▸\";float: left;margin-right: 0.25em;color: #696969;}#sk-container-id-1 label.sk-toggleable__label-arrow:hover:before {color: black;}#sk-container-id-1 div.sk-estimator:hover label.sk-toggleable__label-arrow:before {color: black;}#sk-container-id-1 div.sk-toggleable__content {max-height: 0;max-width: 0;overflow: hidden;text-align: left;background-color: #f0f8ff;}#sk-container-id-1 div.sk-toggleable__content pre {margin: 0.2em;color: black;border-radius: 0.25em;background-color: #f0f8ff;}#sk-container-id-1 input.sk-toggleable__control:checked~div.sk-toggleable__content {max-height: 200px;max-width: 100%;overflow: auto;}#sk-container-id-1 input.sk-toggleable__control:checked~label.sk-toggleable__label-arrow:before {content: \"▾\";}#sk-container-id-1 div.sk-estimator input.sk-toggleable__control:checked~label.sk-toggleable__label {background-color: #d4ebff;}#sk-container-id-1 div.sk-label input.sk-toggleable__control:checked~label.sk-toggleable__label {background-color: #d4ebff;}#sk-container-id-1 input.sk-hidden--visually {border: 0;clip: rect(1px 1px 1px 1px);clip: rect(1px, 1px, 1px, 1px);height: 1px;margin: -1px;overflow: hidden;padding: 0;position: absolute;width: 1px;}#sk-container-id-1 div.sk-estimator {font-family: monospace;background-color: #f0f8ff;border: 1px dotted black;border-radius: 0.25em;box-sizing: border-box;margin-bottom: 0.5em;}#sk-container-id-1 div.sk-estimator:hover {background-color: #d4ebff;}#sk-container-id-1 div.sk-parallel-item::after {content: \"\";width: 100%;border-bottom: 1px solid gray;flex-grow: 1;}#sk-container-id-1 div.sk-label:hover label.sk-toggleable__label {background-color: #d4ebff;}#sk-container-id-1 div.sk-serial::before {content: \"\";position: absolute;border-left: 1px solid gray;box-sizing: border-box;top: 0;bottom: 0;left: 50%;z-index: 0;}#sk-container-id-1 div.sk-serial {display: flex;flex-direction: column;align-items: center;background-color: white;padding-right: 0.2em;padding-left: 0.2em;position: relative;}#sk-container-id-1 div.sk-item {position: relative;z-index: 1;}#sk-container-id-1 div.sk-parallel {display: flex;align-items: stretch;justify-content: center;background-color: white;position: relative;}#sk-container-id-1 div.sk-item::before, #sk-container-id-1 div.sk-parallel-item::before {content: \"\";position: absolute;border-left: 1px solid gray;box-sizing: border-box;top: 0;bottom: 0;left: 50%;z-index: -1;}#sk-container-id-1 div.sk-parallel-item {display: flex;flex-direction: column;z-index: 1;position: relative;background-color: white;}#sk-container-id-1 div.sk-parallel-item:first-child::after {align-self: flex-end;width: 50%;}#sk-container-id-1 div.sk-parallel-item:last-child::after {align-self: flex-start;width: 50%;}#sk-container-id-1 div.sk-parallel-item:only-child::after {width: 0;}#sk-container-id-1 div.sk-dashed-wrapped {border: 1px dashed gray;margin: 0 0.4em 0.5em 0.4em;box-sizing: border-box;padding-bottom: 0.4em;background-color: white;}#sk-container-id-1 div.sk-label label {font-family: monospace;font-weight: bold;display: inline-block;line-height: 1.2em;}#sk-container-id-1 div.sk-label-container {text-align: center;}#sk-container-id-1 div.sk-container {/* jupyter's `normalize.less` sets `[hidden] { display: none; }` but bootstrap.min.css set `[hidden] { display: none !important; }` so we also need the `!important` here to be able to override the default hidden behavior on the sphinx rendered scikit-learn.org. See: https://github.com/scikit-learn/scikit-learn/issues/21755 */display: inline-block !important;position: relative;}#sk-container-id-1 div.sk-text-repr-fallback {display: none;}</style><div id=\"sk-container-id-1\" class=\"sk-top-container\"><div class=\"sk-text-repr-fallback\"><pre>Pipeline(steps=[(&#x27;scale&#x27;, None), (&#x27;model&#x27;, RandomForestClassifier())])</pre><b>In a Jupyter environment, please rerun this cell to show the HTML representation or trust the notebook. <br />On GitHub, the HTML representation is unable to render, please try loading this page with nbviewer.org.</b></div><div class=\"sk-container\" hidden><div class=\"sk-item sk-dashed-wrapped\"><div class=\"sk-label-container\"><div class=\"sk-label sk-toggleable\"><input class=\"sk-toggleable__control sk-hidden--visually\" id=\"sk-estimator-id-1\" type=\"checkbox\" ><label for=\"sk-estimator-id-1\" class=\"sk-toggleable__label sk-toggleable__label-arrow\">Pipeline</label><div class=\"sk-toggleable__content\"><pre>Pipeline(steps=[(&#x27;scale&#x27;, None), (&#x27;model&#x27;, RandomForestClassifier())])</pre></div></div></div><div class=\"sk-serial\"><div class=\"sk-item\"><div class=\"sk-estimator sk-toggleable\"><input class=\"sk-toggleable__control sk-hidden--visually\" id=\"sk-estimator-id-2\" type=\"checkbox\" ><label for=\"sk-estimator-id-2\" class=\"sk-toggleable__label sk-toggleable__label-arrow\">None</label><div class=\"sk-toggleable__content\"><pre>None</pre></div></div></div><div class=\"sk-item\"><div class=\"sk-estimator sk-toggleable\"><input class=\"sk-toggleable__control sk-hidden--visually\" id=\"sk-estimator-id-3\" type=\"checkbox\" ><label for=\"sk-estimator-id-3\" class=\"sk-toggleable__label sk-toggleable__label-arrow\">RandomForestClassifier</label><div class=\"sk-toggleable__content\"><pre>RandomForestClassifier()</pre></div></div></div></div></div></div></div>"
      ],
      "text/plain": [
       "Pipeline(steps=[('scale', None), ('model', RandomForestClassifier())])"
      ]
     },
     "execution_count": 34,
     "metadata": {},
     "output_type": "execute_result"
    }
   ],
   "source": [
    "model.fit(X_train, y_train.values.ravel())"
   ]
  },
  {
   "cell_type": "code",
   "execution_count": 35,
   "id": "6e15e313",
   "metadata": {
    "execution": {
     "iopub.execute_input": "2025-08-19T18:46:55.725347Z",
     "iopub.status.busy": "2025-08-19T18:46:55.708001Z",
     "iopub.status.idle": "2025-08-19T18:46:57.475086Z",
     "shell.execute_reply": "2025-08-19T18:46:57.473708Z"
    },
    "papermill": {
     "duration": 1.787258,
     "end_time": "2025-08-19T18:46:57.477836",
     "exception": false,
     "start_time": "2025-08-19T18:46:55.690578",
     "status": "completed"
    },
    "tags": []
   },
   "outputs": [
    {
     "data": {
      "text/plain": [
       "0.8627243339649984"
      ]
     },
     "execution_count": 35,
     "metadata": {},
     "output_type": "execute_result"
    }
   ],
   "source": [
    "from fairness_multiverse.universe import predict_w_threshold\n",
    "\n",
    "probs_test = model.predict_proba(X_test)\n",
    "\n",
    "'''\n",
    "Below code returns a boolean array (or binary 0/1 array depending on how it’s used) where each element \n",
    "is True if the probability of class 1 is greater than or equal to the threshold, and False otherwise.\n",
    "'''\n",
    "y_pred_default = predict_w_threshold(probs_test, 0.5)\n",
    "\n",
    "from sklearn.metrics import accuracy_score\n",
    "\n",
    "# Naive prediction\n",
    "accuracy_score(y_true = y_true, y_pred = y_pred_default)"
   ]
  },
  {
   "cell_type": "code",
   "execution_count": 36,
   "id": "6f14067c",
   "metadata": {
    "execution": {
     "iopub.execute_input": "2025-08-19T18:46:57.520266Z",
     "iopub.status.busy": "2025-08-19T18:46:57.519036Z",
     "iopub.status.idle": "2025-08-19T18:46:59.186545Z",
     "shell.execute_reply": "2025-08-19T18:46:59.185361Z"
    },
    "papermill": {
     "duration": 1.685789,
     "end_time": "2025-08-19T18:46:59.189246",
     "exception": false,
     "start_time": "2025-08-19T18:46:57.503457",
     "status": "completed"
    },
    "tags": []
   },
   "outputs": [
    {
     "data": {
      "text/plain": [
       "array([0, 0, 0, ..., 0, 0, 0])"
      ]
     },
     "execution_count": 36,
     "metadata": {},
     "output_type": "execute_result"
    }
   ],
   "source": [
    "model.predict(X_test)"
   ]
  },
  {
   "cell_type": "markdown",
   "id": "3759920c",
   "metadata": {
    "papermill": {
     "duration": 0.012517,
     "end_time": "2025-08-19T18:46:59.224950",
     "exception": false,
     "start_time": "2025-08-19T18:46:59.212433",
     "status": "completed"
    },
    "tags": []
   },
   "source": [
    "# Conformal Prediction"
   ]
  },
  {
   "cell_type": "code",
   "execution_count": 37,
   "id": "14b27f59",
   "metadata": {
    "execution": {
     "iopub.execute_input": "2025-08-19T18:46:59.251237Z",
     "iopub.status.busy": "2025-08-19T18:46:59.249610Z",
     "iopub.status.idle": "2025-08-19T18:46:59.258569Z",
     "shell.execute_reply": "2025-08-19T18:46:59.257234Z"
    },
    "papermill": {
     "duration": 0.023604,
     "end_time": "2025-08-19T18:46:59.260206",
     "exception": false,
     "start_time": "2025-08-19T18:46:59.236602",
     "status": "completed"
    },
    "tags": []
   },
   "outputs": [],
   "source": [
    "# Miscoverage level for conformal prediction (10% allowed error rate => 90% target coverage)\n",
    "alpha = 0.1"
   ]
  },
  {
   "cell_type": "code",
   "execution_count": 38,
   "id": "59102472",
   "metadata": {
    "execution": {
     "iopub.execute_input": "2025-08-19T18:46:59.289296Z",
     "iopub.status.busy": "2025-08-19T18:46:59.287985Z",
     "iopub.status.idle": "2025-08-19T18:47:00.869276Z",
     "shell.execute_reply": "2025-08-19T18:47:00.868216Z"
    },
    "papermill": {
     "duration": 1.597323,
     "end_time": "2025-08-19T18:47:00.872334",
     "exception": false,
     "start_time": "2025-08-19T18:46:59.275011",
     "status": "completed"
    },
    "tags": []
   },
   "outputs": [],
   "source": [
    "probs_calib = model.predict_proba(X_calib)"
   ]
  },
  {
   "cell_type": "code",
   "execution_count": 39,
   "id": "a792d4dd",
   "metadata": {
    "execution": {
     "iopub.execute_input": "2025-08-19T18:47:00.924929Z",
     "iopub.status.busy": "2025-08-19T18:47:00.923604Z",
     "iopub.status.idle": "2025-08-19T18:47:00.932772Z",
     "shell.execute_reply": "2025-08-19T18:47:00.931353Z"
    },
    "papermill": {
     "duration": 0.028959,
     "end_time": "2025-08-19T18:47:00.934506",
     "exception": false,
     "start_time": "2025-08-19T18:47:00.905547",
     "status": "completed"
    },
    "tags": []
   },
   "outputs": [],
   "source": [
    "y_calib = y_calib.values.ravel().astype(int)"
   ]
  },
  {
   "cell_type": "code",
   "execution_count": 40,
   "id": "650fd033",
   "metadata": {
    "execution": {
     "iopub.execute_input": "2025-08-19T18:47:00.963782Z",
     "iopub.status.busy": "2025-08-19T18:47:00.962476Z",
     "iopub.status.idle": "2025-08-19T18:47:00.975677Z",
     "shell.execute_reply": "2025-08-19T18:47:00.974274Z"
    },
    "papermill": {
     "duration": 0.027451,
     "end_time": "2025-08-19T18:47:00.977355",
     "exception": false,
     "start_time": "2025-08-19T18:47:00.949904",
     "status": "completed"
    },
    "tags": []
   },
   "outputs": [],
   "source": [
    "from fairness_multiverse.conformal import compute_nc_scores\n",
    "\n",
    "# Compute nonconformity scores on calibration set (1 - probability of true class)\n",
    "nc_scores = compute_nc_scores(probs_calib, y_calib)"
   ]
  },
  {
   "cell_type": "code",
   "execution_count": 41,
   "id": "28ada44c",
   "metadata": {
    "execution": {
     "iopub.execute_input": "2025-08-19T18:47:01.006178Z",
     "iopub.status.busy": "2025-08-19T18:47:01.004764Z",
     "iopub.status.idle": "2025-08-19T18:47:01.016437Z",
     "shell.execute_reply": "2025-08-19T18:47:01.015083Z"
    },
    "papermill": {
     "duration": 0.026441,
     "end_time": "2025-08-19T18:47:01.018058",
     "exception": false,
     "start_time": "2025-08-19T18:47:00.991617",
     "status": "completed"
    },
    "tags": []
   },
   "outputs": [],
   "source": [
    "from fairness_multiverse.conformal import find_threshold\n",
    "\n",
    "# Find conformal threshold q_hat for the given alpha (split conformal method)\n",
    "q_hat = find_threshold(nc_scores, alpha)"
   ]
  },
  {
   "cell_type": "code",
   "execution_count": 42,
   "id": "df56469e",
   "metadata": {
    "execution": {
     "iopub.execute_input": "2025-08-19T18:47:01.046389Z",
     "iopub.status.busy": "2025-08-19T18:47:01.045208Z",
     "iopub.status.idle": "2025-08-19T18:47:01.055357Z",
     "shell.execute_reply": "2025-08-19T18:47:01.053965Z"
    },
    "papermill": {
     "duration": 0.024533,
     "end_time": "2025-08-19T18:47:01.056791",
     "exception": false,
     "start_time": "2025-08-19T18:47:01.032258",
     "status": "completed"
    },
    "tags": []
   },
   "outputs": [
    {
     "data": {
      "text/plain": [
       "0.6699999999999999"
      ]
     },
     "execution_count": 42,
     "metadata": {},
     "output_type": "execute_result"
    }
   ],
   "source": [
    "q_hat"
   ]
  },
  {
   "cell_type": "code",
   "execution_count": 43,
   "id": "aa1f5faa",
   "metadata": {
    "execution": {
     "iopub.execute_input": "2025-08-19T18:47:01.084814Z",
     "iopub.status.busy": "2025-08-19T18:47:01.083551Z",
     "iopub.status.idle": "2025-08-19T18:47:03.182323Z",
     "shell.execute_reply": "2025-08-19T18:47:03.181382Z"
    },
    "papermill": {
     "duration": 2.114422,
     "end_time": "2025-08-19T18:47:03.185273",
     "exception": false,
     "start_time": "2025-08-19T18:47:01.070851",
     "status": "completed"
    },
    "tags": []
   },
   "outputs": [],
   "source": [
    "from fairness_multiverse.conformal import predict_conformal_sets\n",
    "\n",
    "# Generate prediction sets for each test example\n",
    "pred_sets = predict_conformal_sets(model, X_test, q_hat)"
   ]
  },
  {
   "cell_type": "code",
   "execution_count": 44,
   "id": "97f67a6b",
   "metadata": {
    "execution": {
     "iopub.execute_input": "2025-08-19T18:47:03.230955Z",
     "iopub.status.busy": "2025-08-19T18:47:03.229571Z",
     "iopub.status.idle": "2025-08-19T18:47:03.237911Z",
     "shell.execute_reply": "2025-08-19T18:47:03.236547Z"
    },
    "papermill": {
     "duration": 0.024438,
     "end_time": "2025-08-19T18:47:03.239373",
     "exception": false,
     "start_time": "2025-08-19T18:47:03.214935",
     "status": "completed"
    },
    "tags": []
   },
   "outputs": [],
   "source": [
    "y_true = y_true.squeeze()"
   ]
  },
  {
   "cell_type": "code",
   "execution_count": 45,
   "id": "e700e9a7",
   "metadata": {
    "execution": {
     "iopub.execute_input": "2025-08-19T18:47:03.267975Z",
     "iopub.status.busy": "2025-08-19T18:47:03.266376Z",
     "iopub.status.idle": "2025-08-19T18:47:03.770297Z",
     "shell.execute_reply": "2025-08-19T18:47:03.769388Z"
    },
    "papermill": {
     "duration": 0.51978,
     "end_time": "2025-08-19T18:47:03.773347",
     "exception": false,
     "start_time": "2025-08-19T18:47:03.253567",
     "status": "completed"
    },
    "tags": []
   },
   "outputs": [],
   "source": [
    "from fairness_multiverse.conformal import evaluate_sets\n",
    "\n",
    "# Evaluate coverage and average set size on test data\n",
    "metrics = evaluate_sets(pred_sets, y_true)"
   ]
  },
  {
   "cell_type": "markdown",
   "id": "efbacec0",
   "metadata": {
    "papermill": {
     "duration": 0.013667,
     "end_time": "2025-08-19T18:47:03.814757",
     "exception": false,
     "start_time": "2025-08-19T18:47:03.801090",
     "status": "completed"
    },
    "tags": []
   },
   "source": [
    "# CP Metrics"
   ]
  },
  {
   "cell_type": "code",
   "execution_count": 46,
   "id": "9de55fb1",
   "metadata": {
    "execution": {
     "iopub.execute_input": "2025-08-19T18:47:03.840398Z",
     "iopub.status.busy": "2025-08-19T18:47:03.839179Z",
     "iopub.status.idle": "2025-08-19T18:47:03.849816Z",
     "shell.execute_reply": "2025-08-19T18:47:03.848546Z"
    },
    "papermill": {
     "duration": 0.025213,
     "end_time": "2025-08-19T18:47:03.851384",
     "exception": false,
     "start_time": "2025-08-19T18:47:03.826171",
     "status": "completed"
    },
    "tags": []
   },
   "outputs": [
    {
     "data": {
      "text/plain": [
       "{'coverage': 0.914858990079144, 'avg_size': 1.1535391818080483}"
      ]
     },
     "execution_count": 46,
     "metadata": {},
     "output_type": "execute_result"
    }
   ],
   "source": [
    "metrics"
   ]
  },
  {
   "cell_type": "code",
   "execution_count": 47,
   "id": "64c340a1",
   "metadata": {
    "execution": {
     "iopub.execute_input": "2025-08-19T18:47:03.887178Z",
     "iopub.status.busy": "2025-08-19T18:47:03.880656Z",
     "iopub.status.idle": "2025-08-19T18:47:03.896171Z",
     "shell.execute_reply": "2025-08-19T18:47:03.894816Z"
    },
    "papermill": {
     "duration": 0.031428,
     "end_time": "2025-08-19T18:47:03.898065",
     "exception": false,
     "start_time": "2025-08-19T18:47:03.866637",
     "status": "completed"
    },
    "tags": []
   },
   "outputs": [],
   "source": [
    "example_universe = universe.copy()\n",
    "universe_training_year = example_universe.get(\"training_year\")\n",
    "universe_training_size = example_universe.get(\"training_size\")\n",
    "universe_scale = example_universe.get(\"scale\")\n",
    "universe_model = example_universe.get(\"model\")\n",
    "universe_exclude_features = example_universe.get(\"exclude_features\")\n",
    "universe_exclude_subgroups = example_universe.get(\"exclude_subgroups\")"
   ]
  },
  {
   "cell_type": "code",
   "execution_count": 48,
   "id": "dbb53cb4",
   "metadata": {
    "execution": {
     "iopub.execute_input": "2025-08-19T18:47:03.930391Z",
     "iopub.status.busy": "2025-08-19T18:47:03.929970Z",
     "iopub.status.idle": "2025-08-19T18:47:03.935297Z",
     "shell.execute_reply": "2025-08-19T18:47:03.934458Z"
    },
    "papermill": {
     "duration": 0.020651,
     "end_time": "2025-08-19T18:47:03.936986",
     "exception": false,
     "start_time": "2025-08-19T18:47:03.916335",
     "status": "completed"
    },
    "tags": []
   },
   "outputs": [],
   "source": [
    "cp_metrics_dict = {\n",
    "    \"universe_id\": [universe_id],\n",
    "    \"universe_training_year\": [universe_training_year],\n",
    "    \"universe_training_size\": [universe_training_size],\n",
    "    \"universe_scale\": [universe_scale],\n",
    "    \"universe_model\": [universe_model],\n",
    "    \"universe_exclude_features\": [universe_exclude_features],\n",
    "    \"universe_exclude_subgroups\": [universe_exclude_subgroups],\n",
    "    \"q_hat\": [q_hat],\n",
    "    \"coverage\": [metrics[\"coverage\"]],\n",
    "    \"avg_size\": [metrics[\"avg_size\"]],\n",
    "}"
   ]
  },
  {
   "cell_type": "code",
   "execution_count": 49,
   "id": "0d70d4b2",
   "metadata": {
    "execution": {
     "iopub.execute_input": "2025-08-19T18:47:03.968446Z",
     "iopub.status.busy": "2025-08-19T18:47:03.967659Z",
     "iopub.status.idle": "2025-08-19T18:47:03.976092Z",
     "shell.execute_reply": "2025-08-19T18:47:03.974549Z"
    },
    "papermill": {
     "duration": 0.024622,
     "end_time": "2025-08-19T18:47:03.977639",
     "exception": false,
     "start_time": "2025-08-19T18:47:03.953017",
     "status": "completed"
    },
    "tags": []
   },
   "outputs": [],
   "source": [
    "cp_metrics_df = pd.DataFrame(cp_metrics_dict)"
   ]
  },
  {
   "cell_type": "code",
   "execution_count": 50,
   "id": "b494403c",
   "metadata": {
    "execution": {
     "iopub.execute_input": "2025-08-19T18:47:04.007972Z",
     "iopub.status.busy": "2025-08-19T18:47:04.007545Z",
     "iopub.status.idle": "2025-08-19T18:47:04.021681Z",
     "shell.execute_reply": "2025-08-19T18:47:04.020436Z"
    },
    "papermill": {
     "duration": 0.029284,
     "end_time": "2025-08-19T18:47:04.023105",
     "exception": false,
     "start_time": "2025-08-19T18:47:03.993821",
     "status": "completed"
    },
    "tags": []
   },
   "outputs": [
    {
     "data": {
      "text/html": [
       "<div>\n",
       "<style scoped>\n",
       "    .dataframe tbody tr th:only-of-type {\n",
       "        vertical-align: middle;\n",
       "    }\n",
       "\n",
       "    .dataframe tbody tr th {\n",
       "        vertical-align: top;\n",
       "    }\n",
       "\n",
       "    .dataframe thead th {\n",
       "        text-align: right;\n",
       "    }\n",
       "</style>\n",
       "<table border=\"1\" class=\"dataframe\">\n",
       "  <thead>\n",
       "    <tr style=\"text-align: right;\">\n",
       "      <th></th>\n",
       "      <th>universe_id</th>\n",
       "      <th>universe_training_year</th>\n",
       "      <th>universe_training_size</th>\n",
       "      <th>universe_scale</th>\n",
       "      <th>universe_model</th>\n",
       "      <th>universe_exclude_features</th>\n",
       "      <th>universe_exclude_subgroups</th>\n",
       "      <th>q_hat</th>\n",
       "      <th>coverage</th>\n",
       "      <th>avg_size</th>\n",
       "    </tr>\n",
       "  </thead>\n",
       "  <tbody>\n",
       "    <tr>\n",
       "      <th>0</th>\n",
       "      <td>3690b925a524f06c1662f4d55f45b058</td>\n",
       "      <td>2010_14</td>\n",
       "      <td>5k</td>\n",
       "      <td>do-not-scale</td>\n",
       "      <td>rf</td>\n",
       "      <td>nationality-sex</td>\n",
       "      <td>drop-non-german</td>\n",
       "      <td>0.67</td>\n",
       "      <td>0.914859</td>\n",
       "      <td>1.153539</td>\n",
       "    </tr>\n",
       "  </tbody>\n",
       "</table>\n",
       "</div>"
      ],
      "text/plain": [
       "                        universe_id universe_training_year  \\\n",
       "0  3690b925a524f06c1662f4d55f45b058                2010_14   \n",
       "\n",
       "  universe_training_size universe_scale universe_model  \\\n",
       "0                     5k   do-not-scale             rf   \n",
       "\n",
       "  universe_exclude_features universe_exclude_subgroups  q_hat  coverage  \\\n",
       "0           nationality-sex            drop-non-german   0.67  0.914859   \n",
       "\n",
       "   avg_size  \n",
       "0  1.153539  "
      ]
     },
     "execution_count": 50,
     "metadata": {},
     "output_type": "execute_result"
    }
   ],
   "source": [
    "cp_metrics_df"
   ]
  },
  {
   "cell_type": "markdown",
   "id": "ed608b0b",
   "metadata": {
    "papermill": {
     "duration": 0.012917,
     "end_time": "2025-08-19T18:47:04.051704",
     "exception": false,
     "start_time": "2025-08-19T18:47:04.038787",
     "status": "completed"
    },
    "tags": []
   },
   "source": [
    "Conditional coverage & looking at subgroups"
   ]
  },
  {
   "cell_type": "code",
   "execution_count": 51,
   "id": "8968c366",
   "metadata": {
    "execution": {
     "iopub.execute_input": "2025-08-19T18:47:04.080123Z",
     "iopub.status.busy": "2025-08-19T18:47:04.078576Z",
     "iopub.status.idle": "2025-08-19T18:47:04.326675Z",
     "shell.execute_reply": "2025-08-19T18:47:04.325736Z"
    },
    "papermill": {
     "duration": 0.264159,
     "end_time": "2025-08-19T18:47:04.328360",
     "exception": false,
     "start_time": "2025-08-19T18:47:04.064201",
     "status": "completed"
    },
    "tags": []
   },
   "outputs": [],
   "source": [
    "from fairness_multiverse.conformal import build_cp_groups\n",
    "\n",
    "cp_groups_df = build_cp_groups(pred_sets, y_true, X_test.index, org_test)"
   ]
  },
  {
   "cell_type": "code",
   "execution_count": 52,
   "id": "292ddabf",
   "metadata": {
    "execution": {
     "iopub.execute_input": "2025-08-19T18:47:04.355703Z",
     "iopub.status.busy": "2025-08-19T18:47:04.355282Z",
     "iopub.status.idle": "2025-08-19T18:47:05.202731Z",
     "shell.execute_reply": "2025-08-19T18:47:05.201707Z"
    },
    "papermill": {
     "duration": 0.863073,
     "end_time": "2025-08-19T18:47:05.204603",
     "exception": false,
     "start_time": "2025-08-19T18:47:04.341530",
     "status": "completed"
    },
    "tags": []
   },
   "outputs": [],
   "source": [
    "# Define covered = 1 if true_label is in the predicted set\n",
    "cp_groups_df['covered'] = cp_groups_df.apply(\n",
    "    lambda r: int(r['true_label'] in r['pred_set']),\n",
    "    axis=1\n",
    ")"
   ]
  },
  {
   "cell_type": "code",
   "execution_count": 53,
   "id": "3a261692",
   "metadata": {
    "execution": {
     "iopub.execute_input": "2025-08-19T18:47:05.234609Z",
     "iopub.status.busy": "2025-08-19T18:47:05.233403Z",
     "iopub.status.idle": "2025-08-19T18:47:05.250578Z",
     "shell.execute_reply": "2025-08-19T18:47:05.249412Z"
    },
    "papermill": {
     "duration": 0.032857,
     "end_time": "2025-08-19T18:47:05.252345",
     "exception": false,
     "start_time": "2025-08-19T18:47:05.219488",
     "status": "completed"
    },
    "tags": []
   },
   "outputs": [],
   "source": [
    "subgroups = ['frau1','nongerman','nongerman_male','nongerman_female']\n",
    "\n",
    "# Conditional coverage for subgroup==1\n",
    "cond_coverage = {\n",
    "    g: cp_groups_df.loc[cp_groups_df[g]==1, 'covered'].mean()\n",
    "    for g in subgroups\n",
    "}"
   ]
  },
  {
   "cell_type": "code",
   "execution_count": 54,
   "id": "894fd600",
   "metadata": {
    "execution": {
     "iopub.execute_input": "2025-08-19T18:47:05.288241Z",
     "iopub.status.busy": "2025-08-19T18:47:05.286820Z",
     "iopub.status.idle": "2025-08-19T18:47:05.297957Z",
     "shell.execute_reply": "2025-08-19T18:47:05.296222Z"
    },
    "papermill": {
     "duration": 0.028018,
     "end_time": "2025-08-19T18:47:05.299984",
     "exception": false,
     "start_time": "2025-08-19T18:47:05.271966",
     "status": "completed"
    },
    "tags": []
   },
   "outputs": [
    {
     "data": {
      "text/plain": [
       "{'frau1': 0.912144493867098,\n",
       " 'nongerman': 0.9065289395385393,\n",
       " 'nongerman_male': 0.9216427992434477,\n",
       " 'nongerman_female': 0.8815201192250373}"
      ]
     },
     "execution_count": 54,
     "metadata": {},
     "output_type": "execute_result"
    }
   ],
   "source": [
    "cond_coverage"
   ]
  },
  {
   "cell_type": "code",
   "execution_count": 55,
   "id": "942895c7",
   "metadata": {
    "execution": {
     "iopub.execute_input": "2025-08-19T18:47:05.346289Z",
     "iopub.status.busy": "2025-08-19T18:47:05.345876Z",
     "iopub.status.idle": "2025-08-19T18:47:05.352016Z",
     "shell.execute_reply": "2025-08-19T18:47:05.351310Z"
    },
    "papermill": {
     "duration": 0.033214,
     "end_time": "2025-08-19T18:47:05.353516",
     "exception": false,
     "start_time": "2025-08-19T18:47:05.320302",
     "status": "completed"
    },
    "tags": []
   },
   "outputs": [],
   "source": [
    "for subgroup, cov in cond_coverage.items():\n",
    "    cp_metrics_df[f\"cov_{subgroup}\"] = cov"
   ]
  },
  {
   "cell_type": "code",
   "execution_count": 56,
   "id": "3970120f",
   "metadata": {
    "execution": {
     "iopub.execute_input": "2025-08-19T18:47:05.381683Z",
     "iopub.status.busy": "2025-08-19T18:47:05.381232Z",
     "iopub.status.idle": "2025-08-19T18:47:05.398613Z",
     "shell.execute_reply": "2025-08-19T18:47:05.397718Z"
    },
    "papermill": {
     "duration": 0.033519,
     "end_time": "2025-08-19T18:47:05.400306",
     "exception": false,
     "start_time": "2025-08-19T18:47:05.366787",
     "status": "completed"
    },
    "tags": []
   },
   "outputs": [
    {
     "data": {
      "text/html": [
       "<div>\n",
       "<style scoped>\n",
       "    .dataframe tbody tr th:only-of-type {\n",
       "        vertical-align: middle;\n",
       "    }\n",
       "\n",
       "    .dataframe tbody tr th {\n",
       "        vertical-align: top;\n",
       "    }\n",
       "\n",
       "    .dataframe thead th {\n",
       "        text-align: right;\n",
       "    }\n",
       "</style>\n",
       "<table border=\"1\" class=\"dataframe\">\n",
       "  <thead>\n",
       "    <tr style=\"text-align: right;\">\n",
       "      <th></th>\n",
       "      <th>universe_id</th>\n",
       "      <th>universe_training_year</th>\n",
       "      <th>universe_training_size</th>\n",
       "      <th>universe_scale</th>\n",
       "      <th>universe_model</th>\n",
       "      <th>universe_exclude_features</th>\n",
       "      <th>universe_exclude_subgroups</th>\n",
       "      <th>q_hat</th>\n",
       "      <th>coverage</th>\n",
       "      <th>avg_size</th>\n",
       "      <th>cov_frau1</th>\n",
       "      <th>cov_nongerman</th>\n",
       "      <th>cov_nongerman_male</th>\n",
       "      <th>cov_nongerman_female</th>\n",
       "    </tr>\n",
       "  </thead>\n",
       "  <tbody>\n",
       "    <tr>\n",
       "      <th>0</th>\n",
       "      <td>3690b925a524f06c1662f4d55f45b058</td>\n",
       "      <td>2010_14</td>\n",
       "      <td>5k</td>\n",
       "      <td>do-not-scale</td>\n",
       "      <td>rf</td>\n",
       "      <td>nationality-sex</td>\n",
       "      <td>drop-non-german</td>\n",
       "      <td>0.67</td>\n",
       "      <td>0.914859</td>\n",
       "      <td>1.153539</td>\n",
       "      <td>0.912144</td>\n",
       "      <td>0.906529</td>\n",
       "      <td>0.921643</td>\n",
       "      <td>0.88152</td>\n",
       "    </tr>\n",
       "  </tbody>\n",
       "</table>\n",
       "</div>"
      ],
      "text/plain": [
       "                        universe_id universe_training_year  \\\n",
       "0  3690b925a524f06c1662f4d55f45b058                2010_14   \n",
       "\n",
       "  universe_training_size universe_scale universe_model  \\\n",
       "0                     5k   do-not-scale             rf   \n",
       "\n",
       "  universe_exclude_features universe_exclude_subgroups  q_hat  coverage  \\\n",
       "0           nationality-sex            drop-non-german   0.67  0.914859   \n",
       "\n",
       "   avg_size  cov_frau1  cov_nongerman  cov_nongerman_male  \\\n",
       "0  1.153539   0.912144       0.906529            0.921643   \n",
       "\n",
       "   cov_nongerman_female  \n",
       "0               0.88152  "
      ]
     },
     "execution_count": 56,
     "metadata": {},
     "output_type": "execute_result"
    }
   ],
   "source": [
    "cp_metrics_df"
   ]
  },
  {
   "cell_type": "markdown",
   "id": "3fc519cc",
   "metadata": {
    "papermill": {
     "duration": 0.012974,
     "end_time": "2025-08-19T18:47:05.428868",
     "exception": false,
     "start_time": "2025-08-19T18:47:05.415894",
     "status": "completed"
    },
    "tags": []
   },
   "source": [
    "# (Fairness) Metrics"
   ]
  },
  {
   "cell_type": "code",
   "execution_count": 57,
   "id": "a2e5e155",
   "metadata": {
    "execution": {
     "iopub.execute_input": "2025-08-19T18:47:05.458514Z",
     "iopub.status.busy": "2025-08-19T18:47:05.456999Z",
     "iopub.status.idle": "2025-08-19T18:47:05.485399Z",
     "shell.execute_reply": "2025-08-19T18:47:05.484359Z"
    },
    "papermill": {
     "duration": 0.045653,
     "end_time": "2025-08-19T18:47:05.487677",
     "exception": false,
     "start_time": "2025-08-19T18:47:05.442024",
     "status": "completed"
    },
    "tags": []
   },
   "outputs": [],
   "source": [
    "colname_to_bin = \"maxdeutsch1\"\n",
    "majority_value = org_train[colname_to_bin].mode()[0]\n",
    "\n",
    "org_test[\"majmin\"] = np.where(org_test[colname_to_bin] == majority_value, \"majority\", \"minority\")"
   ]
  },
  {
   "cell_type": "code",
   "execution_count": 58,
   "id": "17e3e4d5",
   "metadata": {
    "execution": {
     "iopub.execute_input": "2025-08-19T18:47:05.527313Z",
     "iopub.status.busy": "2025-08-19T18:47:05.526076Z",
     "iopub.status.idle": "2025-08-19T18:47:07.223808Z",
     "shell.execute_reply": "2025-08-19T18:47:07.222516Z"
    },
    "papermill": {
     "duration": 1.714347,
     "end_time": "2025-08-19T18:47:07.225485",
     "exception": false,
     "start_time": "2025-08-19T18:47:05.511138",
     "status": "completed"
    },
    "tags": []
   },
   "outputs": [],
   "source": [
    "example_universe = universe.copy()\n",
    "example_universe[\"cutoff\"] = example_universe[\"cutoff\"][0]\n",
    "example_universe[\"eval_fairness_grouping\"] = example_universe[\"eval_fairness_grouping\"][0]\n",
    "fairness_dict, metric_frame = universe_analysis.compute_metrics(\n",
    "    example_universe,\n",
    "    y_pred_prob=probs_test,\n",
    "    y_test=y_true,\n",
    "    org_test=org_test,\n",
    ")"
   ]
  },
  {
   "cell_type": "markdown",
   "id": "1fb7a0e9",
   "metadata": {
    "papermill": {
     "duration": 0.016982,
     "end_time": "2025-08-19T18:47:07.259151",
     "exception": false,
     "start_time": "2025-08-19T18:47:07.242169",
     "status": "completed"
    },
    "tags": []
   },
   "source": [
    "# Overall"
   ]
  },
  {
   "cell_type": "markdown",
   "id": "be1784b1",
   "metadata": {
    "papermill": {
     "duration": 0.012216,
     "end_time": "2025-08-19T18:47:07.283880",
     "exception": false,
     "start_time": "2025-08-19T18:47:07.271664",
     "status": "completed"
    },
    "tags": []
   },
   "source": [
    "Main fairness target: Equalized Odds. Seems to be a better fit than equal opportunity, since we're not only interested in Y = 1. Seems to be a better fit than demographic parity, since we also care about accuracy, not just equal distribution of preds.\n",
    "\n",
    "Pick column for computation of fairness metrics\n",
    "\n",
    "Performance\n",
    "Overall performance measures, most interesting in relation to the measures split by group below"
   ]
  },
  {
   "cell_type": "code",
   "execution_count": 59,
   "id": "b7672bee",
   "metadata": {
    "execution": {
     "iopub.execute_input": "2025-08-19T18:47:07.309883Z",
     "iopub.status.busy": "2025-08-19T18:47:07.309464Z",
     "iopub.status.idle": "2025-08-19T18:47:07.317888Z",
     "shell.execute_reply": "2025-08-19T18:47:07.316742Z"
    },
    "papermill": {
     "duration": 0.023502,
     "end_time": "2025-08-19T18:47:07.319557",
     "exception": false,
     "start_time": "2025-08-19T18:47:07.296055",
     "status": "completed"
    },
    "tags": []
   },
   "outputs": [
    {
     "data": {
      "text/plain": [
       "accuracy                   0.196544\n",
       "balanced accuracy          0.533745\n",
       "f1                         0.239700\n",
       "precision                  0.136408\n",
       "false positive rate        0.919823\n",
       "false negative rate        0.012687\n",
       "selection rate             0.928481\n",
       "count                  89710.000000\n",
       "dtype: float64"
      ]
     },
     "execution_count": 59,
     "metadata": {},
     "output_type": "execute_result"
    }
   ],
   "source": [
    "metric_frame.overall"
   ]
  },
  {
   "cell_type": "markdown",
   "id": "d93333c9",
   "metadata": {
    "papermill": {
     "duration": 0.012821,
     "end_time": "2025-08-19T18:47:07.347411",
     "exception": false,
     "start_time": "2025-08-19T18:47:07.334590",
     "status": "completed"
    },
    "tags": []
   },
   "source": [
    "By Group"
   ]
  },
  {
   "cell_type": "code",
   "execution_count": 60,
   "id": "52256966",
   "metadata": {
    "execution": {
     "iopub.execute_input": "2025-08-19T18:47:07.375093Z",
     "iopub.status.busy": "2025-08-19T18:47:07.374672Z",
     "iopub.status.idle": "2025-08-19T18:47:07.389468Z",
     "shell.execute_reply": "2025-08-19T18:47:07.388610Z"
    },
    "papermill": {
     "duration": 0.030043,
     "end_time": "2025-08-19T18:47:07.391085",
     "exception": false,
     "start_time": "2025-08-19T18:47:07.361042",
     "status": "completed"
    },
    "tags": []
   },
   "outputs": [
    {
     "data": {
      "text/html": [
       "<div>\n",
       "<style scoped>\n",
       "    .dataframe tbody tr th:only-of-type {\n",
       "        vertical-align: middle;\n",
       "    }\n",
       "\n",
       "    .dataframe tbody tr th {\n",
       "        vertical-align: top;\n",
       "    }\n",
       "\n",
       "    .dataframe thead th {\n",
       "        text-align: right;\n",
       "    }\n",
       "</style>\n",
       "<table border=\"1\" class=\"dataframe\">\n",
       "  <thead>\n",
       "    <tr style=\"text-align: right;\">\n",
       "      <th></th>\n",
       "      <th>accuracy</th>\n",
       "      <th>balanced accuracy</th>\n",
       "      <th>f1</th>\n",
       "      <th>precision</th>\n",
       "      <th>false positive rate</th>\n",
       "      <th>false negative rate</th>\n",
       "      <th>selection rate</th>\n",
       "      <th>count</th>\n",
       "    </tr>\n",
       "    <tr>\n",
       "      <th>majmin</th>\n",
       "      <th></th>\n",
       "      <th></th>\n",
       "      <th></th>\n",
       "      <th></th>\n",
       "      <th></th>\n",
       "      <th></th>\n",
       "      <th></th>\n",
       "      <th></th>\n",
       "    </tr>\n",
       "  </thead>\n",
       "  <tbody>\n",
       "    <tr>\n",
       "      <th>majority</th>\n",
       "      <td>0.198337</td>\n",
       "      <td>0.534754</td>\n",
       "      <td>0.246436</td>\n",
       "      <td>0.140694</td>\n",
       "      <td>0.922505</td>\n",
       "      <td>0.007987</td>\n",
       "      <td>0.931690</td>\n",
       "      <td>69170.0</td>\n",
       "    </tr>\n",
       "    <tr>\n",
       "      <th>minority</th>\n",
       "      <td>0.190506</td>\n",
       "      <td>0.529105</td>\n",
       "      <td>0.216336</td>\n",
       "      <td>0.121757</td>\n",
       "      <td>0.910962</td>\n",
       "      <td>0.030828</td>\n",
       "      <td>0.917673</td>\n",
       "      <td>20540.0</td>\n",
       "    </tr>\n",
       "  </tbody>\n",
       "</table>\n",
       "</div>"
      ],
      "text/plain": [
       "          accuracy  balanced accuracy        f1  precision  \\\n",
       "majmin                                                       \n",
       "majority  0.198337           0.534754  0.246436   0.140694   \n",
       "minority  0.190506           0.529105  0.216336   0.121757   \n",
       "\n",
       "          false positive rate  false negative rate  selection rate    count  \n",
       "majmin                                                                       \n",
       "majority             0.922505             0.007987        0.931690  69170.0  \n",
       "minority             0.910962             0.030828        0.917673  20540.0  "
      ]
     },
     "execution_count": 60,
     "metadata": {},
     "output_type": "execute_result"
    }
   ],
   "source": [
    "metric_frame.by_group"
   ]
  },
  {
   "cell_type": "code",
   "execution_count": 61,
   "id": "6e6c20ae",
   "metadata": {
    "execution": {
     "iopub.execute_input": "2025-08-19T18:47:07.421551Z",
     "iopub.status.busy": "2025-08-19T18:47:07.421161Z",
     "iopub.status.idle": "2025-08-19T18:47:09.149717Z",
     "shell.execute_reply": "2025-08-19T18:47:09.148927Z"
    },
    "papermill": {
     "duration": 1.743503,
     "end_time": "2025-08-19T18:47:09.150945",
     "exception": false,
     "start_time": "2025-08-19T18:47:07.407442",
     "status": "completed"
    },
    "tags": []
   },
   "outputs": [
    {
     "data": {
      "text/plain": [
       "array([[<Axes: title={'center': 'accuracy'}, xlabel='majmin'>,\n",
       "        <Axes: title={'center': 'balanced accuracy'}, xlabel='majmin'>,\n",
       "        <Axes: title={'center': 'f1'}, xlabel='majmin'>],\n",
       "       [<Axes: title={'center': 'precision'}, xlabel='majmin'>,\n",
       "        <Axes: title={'center': 'false positive rate'}, xlabel='majmin'>,\n",
       "        <Axes: title={'center': 'false negative rate'}, xlabel='majmin'>],\n",
       "       [<Axes: title={'center': 'selection rate'}, xlabel='majmin'>,\n",
       "        <Axes: title={'center': 'count'}, xlabel='majmin'>,\n",
       "        <Axes: xlabel='majmin'>]], dtype=object)"
      ]
     },
     "execution_count": 61,
     "metadata": {},
     "output_type": "execute_result"
    },
    {
     "data": {
      "image/png": "[encoded data removed]",
      "text/plain": [
       "<Figure size 1200x800 with 9 Axes>"
      ]
     },
     "metadata": {},
     "output_type": "display_data"
    }
   ],
   "source": [
    "# In a graphic\n",
    "metric_frame.by_group.plot.bar(\n",
    "    subplots=True,\n",
    "    layout=[3, 3],\n",
    "    legend=False,\n",
    "    figsize=[12, 8],\n",
    "    title=\"Show all metrics\",\n",
    ")"
   ]
  },
  {
   "cell_type": "markdown",
   "id": "b2e433ae",
   "metadata": {
    "papermill": {
     "duration": 0.0243,
     "end_time": "2025-08-19T18:47:09.200202",
     "exception": false,
     "start_time": "2025-08-19T18:47:09.175902",
     "status": "completed"
    },
    "tags": []
   },
   "source": [
    "# Final Output"
   ]
  },
  {
   "cell_type": "code",
   "execution_count": 62,
   "id": "3871301e",
   "metadata": {
    "execution": {
     "iopub.execute_input": "2025-08-19T18:47:09.233017Z",
     "iopub.status.busy": "2025-08-19T18:47:09.232167Z",
     "iopub.status.idle": "2025-08-19T18:47:09.239683Z",
     "shell.execute_reply": "2025-08-19T18:47:09.238909Z"
    },
    "papermill": {
     "duration": 0.025084,
     "end_time": "2025-08-19T18:47:09.241010",
     "exception": false,
     "start_time": "2025-08-19T18:47:09.215926",
     "status": "completed"
    },
    "tags": []
   },
   "outputs": [
    {
     "data": {
      "text/plain": [
       "4"
      ]
     },
     "execution_count": 62,
     "metadata": {},
     "output_type": "execute_result"
    }
   ],
   "source": [
    "sub_universes = universe_analysis.generate_sub_universes()\n",
    "len(sub_universes)"
   ]
  },
  {
   "cell_type": "code",
   "execution_count": 63,
   "id": "d9cfdaca",
   "metadata": {
    "execution": {
     "iopub.execute_input": "2025-08-19T18:47:09.273838Z",
     "iopub.status.busy": "2025-08-19T18:47:09.272890Z",
     "iopub.status.idle": "2025-08-19T18:47:09.289522Z",
     "shell.execute_reply": "2025-08-19T18:47:09.288336Z"
    },
    "papermill": {
     "duration": 0.035361,
     "end_time": "2025-08-19T18:47:09.291946",
     "exception": false,
     "start_time": "2025-08-19T18:47:09.256585",
     "status": "completed"
    },
    "tags": []
   },
   "outputs": [],
   "source": [
    "def filter_sub_universe_data(sub_universe, org_test):\n",
    "    # Keep all rows — no filtering\n",
    "    keep_rows_mask = np.ones(org_test.shape[0], dtype=bool)\n",
    "\n",
    "    print(f\"[INFO] Keeping all rows: {keep_rows_mask.sum()} rows retained.\")\n",
    "    return keep_rows_mask"
   ]
  },
  {
   "cell_type": "code",
   "execution_count": 64,
   "id": "2bc31ac1",
   "metadata": {
    "execution": {
     "iopub.execute_input": "2025-08-19T18:47:09.329256Z",
     "iopub.status.busy": "2025-08-19T18:47:09.328838Z",
     "iopub.status.idle": "2025-08-19T18:47:16.050155Z",
     "shell.execute_reply": "2025-08-19T18:47:16.049313Z"
    },
    "papermill": {
     "duration": 6.742555,
     "end_time": "2025-08-19T18:47:16.051349",
     "exception": false,
     "start_time": "2025-08-19T18:47:09.308794",
     "status": "completed"
    },
    "tags": []
   },
   "outputs": [
    {
     "name": "stdout",
     "output_type": "stream",
     "text": [
      "Stopping execution_time clock.\n",
      "[INFO] Keeping all rows: 89710 rows retained.\n"
     ]
    },
    {
     "name": "stdout",
     "output_type": "stream",
     "text": [
      "[INFO] Keeping all rows: 89710 rows retained.\n"
     ]
    },
    {
     "name": "stdout",
     "output_type": "stream",
     "text": [
      "[INFO] Keeping all rows: 89710 rows retained.\n"
     ]
    },
    {
     "name": "stdout",
     "output_type": "stream",
     "text": [
      "[INFO] Keeping all rows: 89710 rows retained.\n"
     ]
    },
    {
     "data": {
      "text/html": [
       "<div>\n",
       "<style scoped>\n",
       "    .dataframe tbody tr th:only-of-type {\n",
       "        vertical-align: middle;\n",
       "    }\n",
       "\n",
       "    .dataframe tbody tr th {\n",
       "        vertical-align: top;\n",
       "    }\n",
       "\n",
       "    .dataframe thead th {\n",
       "        text-align: right;\n",
       "    }\n",
       "</style>\n",
       "<table border=\"1\" class=\"dataframe\">\n",
       "  <thead>\n",
       "    <tr style=\"text-align: right;\">\n",
       "      <th></th>\n",
       "      <th>run_no</th>\n",
       "      <th>universe_id</th>\n",
       "      <th>universe_settings</th>\n",
       "      <th>execution_time</th>\n",
       "      <th>test_size_n</th>\n",
       "      <th>test_size_frac</th>\n",
       "      <th>fair_main_equalized_odds_difference</th>\n",
       "      <th>fair_main_equalized_odds_ratio</th>\n",
       "      <th>fair_main_demographic_parity_difference</th>\n",
       "      <th>fair_main_demographic_parity_ratio</th>\n",
       "      <th>...</th>\n",
       "      <th>perf_grp_precision_0</th>\n",
       "      <th>perf_grp_precision_1</th>\n",
       "      <th>perf_grp_false positive rate_0</th>\n",
       "      <th>perf_grp_false positive rate_1</th>\n",
       "      <th>perf_grp_false negative rate_0</th>\n",
       "      <th>perf_grp_false negative rate_1</th>\n",
       "      <th>perf_grp_selection rate_0</th>\n",
       "      <th>perf_grp_selection rate_1</th>\n",
       "      <th>perf_grp_count_0</th>\n",
       "      <th>perf_grp_count_1</th>\n",
       "    </tr>\n",
       "  </thead>\n",
       "  <tbody>\n",
       "    <tr>\n",
       "      <th>0</th>\n",
       "      <td>3</td>\n",
       "      <td>3690b925a524f06c1662f4d55f45b058</td>\n",
       "      <td>{\"cutoff\": \"quantile_0.1\", \"eval_fairness_grou...</td>\n",
       "      <td>28.314677</td>\n",
       "      <td>89710</td>\n",
       "      <td>1.0</td>\n",
       "      <td>0.022841</td>\n",
       "      <td>0.976975</td>\n",
       "      <td>0.014017</td>\n",
       "      <td>0.984955</td>\n",
       "      <td>...</td>\n",
       "      <td>NaN</td>\n",
       "      <td>NaN</td>\n",
       "      <td>NaN</td>\n",
       "      <td>NaN</td>\n",
       "      <td>NaN</td>\n",
       "      <td>NaN</td>\n",
       "      <td>NaN</td>\n",
       "      <td>NaN</td>\n",
       "      <td>NaN</td>\n",
       "      <td>NaN</td>\n",
       "    </tr>\n",
       "    <tr>\n",
       "      <th>0</th>\n",
       "      <td>3</td>\n",
       "      <td>3690b925a524f06c1662f4d55f45b058</td>\n",
       "      <td>{\"cutoff\": \"quantile_0.1\", \"eval_fairness_grou...</td>\n",
       "      <td>28.314677</td>\n",
       "      <td>89710</td>\n",
       "      <td>1.0</td>\n",
       "      <td>0.022841</td>\n",
       "      <td>0.976975</td>\n",
       "      <td>0.014017</td>\n",
       "      <td>0.984955</td>\n",
       "      <td>...</td>\n",
       "      <td>0.121757</td>\n",
       "      <td>0.140694</td>\n",
       "      <td>0.910962</td>\n",
       "      <td>0.922505</td>\n",
       "      <td>0.030828</td>\n",
       "      <td>0.007987</td>\n",
       "      <td>0.917673</td>\n",
       "      <td>0.93169</td>\n",
       "      <td>20540.0</td>\n",
       "      <td>69170.0</td>\n",
       "    </tr>\n",
       "    <tr>\n",
       "      <th>0</th>\n",
       "      <td>3</td>\n",
       "      <td>3690b925a524f06c1662f4d55f45b058</td>\n",
       "      <td>{\"cutoff\": \"quantile_0.25\", \"eval_fairness_gro...</td>\n",
       "      <td>28.314677</td>\n",
       "      <td>89710</td>\n",
       "      <td>1.0</td>\n",
       "      <td>0.109640</td>\n",
       "      <td>0.885356</td>\n",
       "      <td>0.041150</td>\n",
       "      <td>0.947594</td>\n",
       "      <td>...</td>\n",
       "      <td>NaN</td>\n",
       "      <td>NaN</td>\n",
       "      <td>NaN</td>\n",
       "      <td>NaN</td>\n",
       "      <td>NaN</td>\n",
       "      <td>NaN</td>\n",
       "      <td>NaN</td>\n",
       "      <td>NaN</td>\n",
       "      <td>NaN</td>\n",
       "      <td>NaN</td>\n",
       "    </tr>\n",
       "    <tr>\n",
       "      <th>0</th>\n",
       "      <td>3</td>\n",
       "      <td>3690b925a524f06c1662f4d55f45b058</td>\n",
       "      <td>{\"cutoff\": \"quantile_0.25\", \"eval_fairness_gro...</td>\n",
       "      <td>28.314677</td>\n",
       "      <td>89710</td>\n",
       "      <td>1.0</td>\n",
       "      <td>0.109640</td>\n",
       "      <td>0.885356</td>\n",
       "      <td>0.041150</td>\n",
       "      <td>0.947594</td>\n",
       "      <td>...</td>\n",
       "      <td>0.131192</td>\n",
       "      <td>0.160938</td>\n",
       "      <td>0.730685</td>\n",
       "      <td>0.759154</td>\n",
       "      <td>0.153294</td>\n",
       "      <td>0.043654</td>\n",
       "      <td>0.744060</td>\n",
       "      <td>0.78521</td>\n",
       "      <td>20540.0</td>\n",
       "      <td>69170.0</td>\n",
       "    </tr>\n",
       "  </tbody>\n",
       "</table>\n",
       "<p>4 rows × 50 columns</p>\n",
       "</div>"
      ],
      "text/plain": [
       "  run_no                       universe_id  \\\n",
       "0      3  3690b925a524f06c1662f4d55f45b058   \n",
       "0      3  3690b925a524f06c1662f4d55f45b058   \n",
       "0      3  3690b925a524f06c1662f4d55f45b058   \n",
       "0      3  3690b925a524f06c1662f4d55f45b058   \n",
       "\n",
       "                                   universe_settings  execution_time  \\\n",
       "0  {\"cutoff\": \"quantile_0.1\", \"eval_fairness_grou...       28.314677   \n",
       "0  {\"cutoff\": \"quantile_0.1\", \"eval_fairness_grou...       28.314677   \n",
       "0  {\"cutoff\": \"quantile_0.25\", \"eval_fairness_gro...       28.314677   \n",
       "0  {\"cutoff\": \"quantile_0.25\", \"eval_fairness_gro...       28.314677   \n",
       "\n",
       "   test_size_n  test_size_frac  fair_main_equalized_odds_difference  \\\n",
       "0        89710             1.0                             0.022841   \n",
       "0        89710             1.0                             0.022841   \n",
       "0        89710             1.0                             0.109640   \n",
       "0        89710             1.0                             0.109640   \n",
       "\n",
       "   fair_main_equalized_odds_ratio  fair_main_demographic_parity_difference  \\\n",
       "0                        0.976975                                 0.014017   \n",
       "0                        0.976975                                 0.014017   \n",
       "0                        0.885356                                 0.041150   \n",
       "0                        0.885356                                 0.041150   \n",
       "\n",
       "   fair_main_demographic_parity_ratio  ...  perf_grp_precision_0  \\\n",
       "0                            0.984955  ...                   NaN   \n",
       "0                            0.984955  ...              0.121757   \n",
       "0                            0.947594  ...                   NaN   \n",
       "0                            0.947594  ...              0.131192   \n",
       "\n",
       "   perf_grp_precision_1  perf_grp_false positive rate_0  \\\n",
       "0                   NaN                             NaN   \n",
       "0              0.140694                        0.910962   \n",
       "0                   NaN                             NaN   \n",
       "0              0.160938                        0.730685   \n",
       "\n",
       "   perf_grp_false positive rate_1  perf_grp_false negative rate_0  \\\n",
       "0                             NaN                             NaN   \n",
       "0                        0.922505                        0.030828   \n",
       "0                             NaN                             NaN   \n",
       "0                        0.759154                        0.153294   \n",
       "\n",
       "   perf_grp_false negative rate_1  perf_grp_selection rate_0  \\\n",
       "0                             NaN                        NaN   \n",
       "0                        0.007987                   0.917673   \n",
       "0                             NaN                        NaN   \n",
       "0                        0.043654                   0.744060   \n",
       "\n",
       "   perf_grp_selection rate_1  perf_grp_count_0  perf_grp_count_1  \n",
       "0                        NaN               NaN               NaN  \n",
       "0                    0.93169           20540.0           69170.0  \n",
       "0                        NaN               NaN               NaN  \n",
       "0                    0.78521           20540.0           69170.0  \n",
       "\n",
       "[4 rows x 50 columns]"
      ]
     },
     "execution_count": 64,
     "metadata": {},
     "output_type": "execute_result"
    }
   ],
   "source": [
    "final_output = universe_analysis.generate_final_output(\n",
    "    y_pred_prob=probs_test,\n",
    "    y_test=y_true,\n",
    "    org_test=org_test,\n",
    "    filter_data=filter_sub_universe_data,\n",
    "    cp_metrics_df=cp_metrics_df,\n",
    "    save=True,\n",
    ")\n",
    "final_output"
   ]
  },
  {
   "cell_type": "code",
   "execution_count": null,
   "id": "8b80a1ff",
   "metadata": {
    "papermill": {
     "duration": 0.019198,
     "end_time": "2025-08-19T18:47:16.110115",
     "exception": false,
     "start_time": "2025-08-19T18:47:16.090917",
     "status": "completed"
    },
    "tags": []
   },
   "outputs": [],
   "source": []
  },
  {
   "cell_type": "code",
   "execution_count": null,
   "id": "275c9fad",
   "metadata": {
    "papermill": {
     "duration": 0.014862,
     "end_time": "2025-08-19T18:47:16.140364",
     "exception": false,
     "start_time": "2025-08-19T18:47:16.125502",
     "status": "completed"
    },
    "tags": []
   },
   "outputs": [],
   "source": []
  }
 ],
 "metadata": {
  "celltoolbar": "Tags",
  "kernelspec": {
   "display_name": "Python (CMA Fairness)",
   "language": "python",
   "name": "cma_fair_env"
  },
  "language_info": {
   "codemirror_mode": {
    "name": "ipython",
    "version": 3
   },
   "file_extension": ".py",
   "mimetype": "text/x-python",
   "name": "python",
   "nbconvert_exporter": "python",
   "pygments_lexer": "ipython3",
   "version": "3.10.12"
  },
  "papermill": {
   "default_parameters": {},
   "duration": 38.816782,
   "end_time": "2025-08-19T18:47:16.986215",
   "environment_variables": {},
   "exception": null,
   "input_path": "universe_analysis.ipynb",
   "output_path": "output/runs/3/notebooks/m_3-3690b925a524f06c1662f4d55f45b058.ipynb",
   "parameters": {
    "output_dir": "output",
    "run_no": "3",
    "seed": "2023",
    "universe": "{\"cutoff\": [\"quantile_0.1\", \"quantile_0.25\"], \"eval_fairness_grouping\": [\"majority-minority\", \"nationality-all\"], \"exclude_features\": \"nationality-sex\", \"exclude_subgroups\": \"drop-non-german\", \"model\": \"rf\", \"scale\": \"do-not-scale\", \"training_size\": \"5k\", \"training_year\": \"2010_14\"}",
    "universe_id": "3690b925a524f06c1662f4d55f45b058"
   },
   "start_time": "2025-08-19T18:46:38.169433",
   "version": "2.6.0"
  }
 },
 "nbformat": 4,
 "nbformat_minor": 5
}