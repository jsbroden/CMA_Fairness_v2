{
 "cells": [
  {
   "cell_type": "markdown",
   "id": "ef23dbb3",
   "metadata": {
    "papermill": {
     "duration": 0.009597,
     "end_time": "2025-08-19T19:01:25.182708",
     "exception": false,
     "start_time": "2025-08-19T19:01:25.173111",
     "status": "completed"
    },
    "tags": []
   },
   "source": [
    "# Setup"
   ]
  },
  {
   "cell_type": "code",
   "execution_count": 1,
   "id": "0bc8e7dc",
   "metadata": {
    "execution": {
     "iopub.execute_input": "2025-08-19T19:01:25.217793Z",
     "iopub.status.busy": "2025-08-19T19:01:25.217330Z",
     "iopub.status.idle": "2025-08-19T19:01:25.227633Z",
     "shell.execute_reply": "2025-08-19T19:01:25.226858Z"
    },
    "papermill": {
     "duration": 0.037171,
     "end_time": "2025-08-19T19:01:25.229254",
     "exception": false,
     "start_time": "2025-08-19T19:01:25.192083",
     "status": "completed"
    },
    "tags": []
   },
   "outputs": [
    {
     "name": "stdout",
     "output_type": "stream",
     "text": [
      "/dss/dsshome1/0C/ra93lal2/cma/CMA_Fairness_v2\n"
     ]
    },
    {
     "name": "stderr",
     "output_type": "stream",
     "text": [
      "/dss/dsshome1/0C/ra93lal2/.local/share/virtualenvs/CMA_Fairness_v2-3j10GkSs/lib/python3.10/site-packages/IPython/core/magics/osm.py:393: UserWarning: This is now an optional IPython functionality, using bookmarks requires you to install the `pickleshare` library.\n",
      "  bkms = self.shell.db.get('bookmarks', {})\n",
      "/dss/dsshome1/0C/ra93lal2/.local/share/virtualenvs/CMA_Fairness_v2-3j10GkSs/lib/python3.10/site-packages/IPython/core/magics/osm.py:417: UserWarning: This is now an optional IPython functionality, setting dhist requires you to install the `pickleshare` library.\n",
      "  self.shell.db['dhist'] = compress_dhist(dhist)[-100:]\n"
     ]
    }
   ],
   "source": [
    "%cd ~/cma/CMA_Fairness_v2"
   ]
  },
  {
   "cell_type": "markdown",
   "id": "9d235661",
   "metadata": {
    "papermill": {
     "duration": 0.009979,
     "end_time": "2025-08-19T19:01:25.250064",
     "exception": false,
     "start_time": "2025-08-19T19:01:25.240085",
     "status": "completed"
    },
    "tags": []
   },
   "source": [
    "The following cell holds the definition of our parameters, these values can be overriden by rendering the with e.g. the following command:\n",
    "\n",
    "papermill -p alpha 0.2 -p ratio 0.3 universe_analysis.ipynb output/test_run.ipynb"
   ]
  },
  {
   "cell_type": "code",
   "execution_count": 2,
   "id": "4a789d8e",
   "metadata": {
    "execution": {
     "iopub.execute_input": "2025-08-19T19:01:25.269932Z",
     "iopub.status.busy": "2025-08-19T19:01:25.269395Z",
     "iopub.status.idle": "2025-08-19T19:01:25.273961Z",
     "shell.execute_reply": "2025-08-19T19:01:25.273199Z"
    },
    "papermill": {
     "duration": 0.016468,
     "end_time": "2025-08-19T19:01:25.276046",
     "exception": false,
     "start_time": "2025-08-19T19:01:25.259578",
     "status": "completed"
    },
    "tags": []
   },
   "outputs": [
    {
     "name": "stdout",
     "output_type": "stream",
     "text": [
      "Current working directory: /dss/dsshome1/0C/ra93lal2/cma/CMA_Fairness_v2\n"
     ]
    }
   ],
   "source": [
    "import os\n",
    "print(\"Current working directory:\", os.getcwd())"
   ]
  },
  {
   "cell_type": "code",
   "execution_count": 3,
   "id": "4132aaed",
   "metadata": {
    "execution": {
     "iopub.execute_input": "2025-08-19T19:01:25.295232Z",
     "iopub.status.busy": "2025-08-19T19:01:25.294897Z",
     "iopub.status.idle": "2025-08-19T19:01:25.299363Z",
     "shell.execute_reply": "2025-08-19T19:01:25.298686Z"
    },
    "papermill": {
     "duration": 0.01543,
     "end_time": "2025-08-19T19:01:25.300705",
     "exception": false,
     "start_time": "2025-08-19T19:01:25.285275",
     "status": "completed"
    },
    "tags": [
     "parameters"
    ]
   },
   "outputs": [],
   "source": [
    "run_no = 0\n",
    "universe_id = \"test\"\n",
    "universe = {\n",
    "    \"training_size\": \"5k\", # \"25k\", \"5k\", \"1k\"\n",
    "    \"training_year\": \"2012_14\", # \"2014\", \"2012_14\", \"2010_14\"\n",
    "    \"scale\": \"scale\", # \"scale\", \"do-not-scale\",\n",
    "    \"model\": \"elasticnet\", # \"logreg\", \"penalized_logreg\", \"rf\", \"gbm\", \"elasticnet\"\n",
    "    \"cutoff\": [\"quantile_0.15\", \"quantile_0.30\"],\n",
    "    \"exclude_features\": \"age\", # \"none\", \"nationality\", \"sex\", \"nationality-sex\", \"age\"\n",
    "    \"exclude_subgroups\": \"drop-non-german\", # \"keep-all\", \"drop-non-german\"\n",
    "    \"eval_fairness_grouping\": [\"majority-minority\", \"nationality-all\"]\n",
    "}\n",
    "\n",
    "output_dir=\"./output\"\n",
    "seed=0"
   ]
  },
  {
   "cell_type": "code",
   "execution_count": 4,
   "id": "6852b47d",
   "metadata": {
    "execution": {
     "iopub.execute_input": "2025-08-19T19:01:25.321205Z",
     "iopub.status.busy": "2025-08-19T19:01:25.320682Z",
     "iopub.status.idle": "2025-08-19T19:01:25.325141Z",
     "shell.execute_reply": "2025-08-19T19:01:25.324270Z"
    },
    "papermill": {
     "duration": 0.016346,
     "end_time": "2025-08-19T19:01:25.326461",
     "exception": false,
     "start_time": "2025-08-19T19:01:25.310115",
     "status": "completed"
    },
    "tags": [
     "injected-parameters"
    ]
   },
   "outputs": [],
   "source": [
    "# Parameters\n",
    "universe_id = \"81748a1d026bd9091f7083285e1ef244\"\n",
    "run_no = \"3\"\n",
    "universe = \"{\\\"cutoff\\\": [\\\"quantile_0.1\\\", \\\"quantile_0.25\\\"], \\\"eval_fairness_grouping\\\": [\\\"majority-minority\\\", \\\"nationality-all\\\"], \\\"exclude_features\\\": \\\"nationality\\\", \\\"exclude_subgroups\\\": \\\"drop-non-german\\\", \\\"model\\\": \\\"penalized_logreg\\\", \\\"scale\\\": \\\"do-not-scale\\\", \\\"training_size\\\": \\\"1k\\\", \\\"training_year\\\": \\\"2012_14\\\"}\"\n",
    "output_dir = \"output\"\n",
    "seed = \"2023\"\n"
   ]
  },
  {
   "cell_type": "code",
   "execution_count": 5,
   "id": "a5d7941f",
   "metadata": {
    "execution": {
     "iopub.execute_input": "2025-08-19T19:01:25.347496Z",
     "iopub.status.busy": "2025-08-19T19:01:25.346459Z",
     "iopub.status.idle": "2025-08-19T19:01:25.353146Z",
     "shell.execute_reply": "2025-08-19T19:01:25.351911Z"
    },
    "papermill": {
     "duration": 0.018715,
     "end_time": "2025-08-19T19:01:25.354634",
     "exception": false,
     "start_time": "2025-08-19T19:01:25.335919",
     "status": "completed"
    },
    "tags": []
   },
   "outputs": [],
   "source": [
    "import json\n",
    "if isinstance(universe, str):\n",
    "    universe = json.loads(universe)"
   ]
  },
  {
   "cell_type": "code",
   "execution_count": 6,
   "id": "7076ccb1",
   "metadata": {
    "execution": {
     "iopub.execute_input": "2025-08-19T19:01:25.377035Z",
     "iopub.status.busy": "2025-08-19T19:01:25.376026Z",
     "iopub.status.idle": "2025-08-19T19:01:25.424267Z",
     "shell.execute_reply": "2025-08-19T19:01:25.423288Z"
    },
    "papermill": {
     "duration": 0.062121,
     "end_time": "2025-08-19T19:01:25.427539",
     "exception": false,
     "start_time": "2025-08-19T19:01:25.365418",
     "status": "completed"
    },
    "tags": []
   },
   "outputs": [],
   "source": [
    "# Auto-reload the custom package\n",
    "%load_ext autoreload\n",
    "%autoreload 1\n",
    "%aimport fairness_multiverse"
   ]
  },
  {
   "cell_type": "code",
   "execution_count": 7,
   "id": "94c8eb93",
   "metadata": {
    "execution": {
     "iopub.execute_input": "2025-08-19T19:01:25.461664Z",
     "iopub.status.busy": "2025-08-19T19:01:25.460842Z",
     "iopub.status.idle": "2025-08-19T19:01:26.904895Z",
     "shell.execute_reply": "2025-08-19T19:01:26.903312Z"
    },
    "papermill": {
     "duration": 1.46068,
     "end_time": "2025-08-19T19:01:26.908622",
     "exception": false,
     "start_time": "2025-08-19T19:01:25.447942",
     "status": "completed"
    },
    "tags": []
   },
   "outputs": [],
   "source": [
    "from fairness_multiverse.universe import UniverseAnalysis\n",
    "\n",
    "universe_analysis = UniverseAnalysis(\n",
    "    run_no = run_no,\n",
    "    universe_id = universe_id,\n",
    "    universe = universe,\n",
    "    output_dir=output_dir,\n",
    ")"
   ]
  },
  {
   "cell_type": "code",
   "execution_count": 8,
   "id": "2a6381cf",
   "metadata": {
    "execution": {
     "iopub.execute_input": "2025-08-19T19:01:26.943618Z",
     "iopub.status.busy": "2025-08-19T19:01:26.942547Z",
     "iopub.status.idle": "2025-08-19T19:01:26.979187Z",
     "shell.execute_reply": "2025-08-19T19:01:26.977745Z"
    },
    "papermill": {
     "duration": 0.052574,
     "end_time": "2025-08-19T19:01:26.981314",
     "exception": false,
     "start_time": "2025-08-19T19:01:26.928740",
     "status": "completed"
    },
    "tags": []
   },
   "outputs": [
    {
     "name": "stdout",
     "output_type": "stream",
     "text": [
      "Using Seed: 2023\n"
     ]
    }
   ],
   "source": [
    "import numpy as np\n",
    "parsed_seed = int(seed)\n",
    "np.random.seed(parsed_seed)\n",
    "print(f\"Using Seed: {parsed_seed}\")"
   ]
  },
  {
   "cell_type": "markdown",
   "id": "b6e958b4",
   "metadata": {
    "papermill": {
     "duration": 0.010138,
     "end_time": "2025-08-19T19:01:27.008281",
     "exception": false,
     "start_time": "2025-08-19T19:01:26.998143",
     "status": "completed"
    },
    "tags": []
   },
   "source": [
    "# Loading Data"
   ]
  },
  {
   "cell_type": "code",
   "execution_count": 9,
   "id": "98701482",
   "metadata": {
    "execution": {
     "iopub.execute_input": "2025-08-19T19:01:27.030594Z",
     "iopub.status.busy": "2025-08-19T19:01:27.029392Z",
     "iopub.status.idle": "2025-08-19T19:01:37.431439Z",
     "shell.execute_reply": "2025-08-19T19:01:37.430429Z"
    },
    "papermill": {
     "duration": 10.414465,
     "end_time": "2025-08-19T19:01:37.432730",
     "exception": false,
     "start_time": "2025-08-19T19:01:27.018265",
     "status": "completed"
    },
    "tags": []
   },
   "outputs": [
    {
     "name": "stdout",
     "output_type": "stream",
     "text": [
      "Loading SIAB data from cache: data/siab_cached.csv.gz\n"
     ]
    },
    {
     "name": "stdout",
     "output_type": "stream",
     "text": [
      "(643690, 164)\n"
     ]
    }
   ],
   "source": [
    "from pathlib import Path\n",
    "import pandas as pd\n",
    "\n",
    "# File paths\n",
    "raw_file = Path(\"data/raw/siab.csv\")\n",
    "cache_file = Path(\"data/siab_cached.csv.gz\")\n",
    "\n",
    "# Ensure cache directory exists\n",
    "cache_file.parent.mkdir(parents=True, exist_ok=True)\n",
    "\n",
    "# Load with simple caching\n",
    "if cache_file.exists():\n",
    "    print(f\"Loading SIAB data from cache: {cache_file}\")\n",
    "    siab = pd.read_csv(cache_file, compression='gzip')\n",
    "else:\n",
    "    print(f\"Cache not found. Reading raw SIAB data: {raw_file}\")\n",
    "    siab = pd.read_csv(raw_file)\n",
    "    siab.to_csv(cache_file, index=False, compression='gzip')\n",
    "    print(f\"Cached SIAB data to: {cache_file}\")\n",
    "\n",
    "print(siab.shape)"
   ]
  },
  {
   "cell_type": "code",
   "execution_count": 10,
   "id": "058d2abb",
   "metadata": {
    "execution": {
     "iopub.execute_input": "2025-08-19T19:01:37.466355Z",
     "iopub.status.busy": "2025-08-19T19:01:37.456968Z",
     "iopub.status.idle": "2025-08-19T19:01:37.662871Z",
     "shell.execute_reply": "2025-08-19T19:01:37.662123Z"
    },
    "papermill": {
     "duration": 0.219075,
     "end_time": "2025-08-19T19:01:37.664174",
     "exception": false,
     "start_time": "2025-08-19T19:01:37.445099",
     "status": "completed"
    },
    "tags": []
   },
   "outputs": [
    {
     "data": {
      "text/html": [
       "<div>\n",
       "<style scoped>\n",
       "    .dataframe tbody tr th:only-of-type {\n",
       "        vertical-align: middle;\n",
       "    }\n",
       "\n",
       "    .dataframe tbody tr th {\n",
       "        vertical-align: top;\n",
       "    }\n",
       "\n",
       "    .dataframe thead th {\n",
       "        text-align: right;\n",
       "    }\n",
       "</style>\n",
       "<table border=\"1\" class=\"dataframe\">\n",
       "  <thead>\n",
       "    <tr style=\"text-align: right;\">\n",
       "      <th></th>\n",
       "      <th>persnr</th>\n",
       "      <th>year</th>\n",
       "      <th>nrEntry</th>\n",
       "      <th>ltue</th>\n",
       "      <th>employed_before</th>\n",
       "      <th>receipt_leh_before</th>\n",
       "      <th>receipt_lhg_before</th>\n",
       "      <th>se_before</th>\n",
       "      <th>ASU_notue_seeking_before</th>\n",
       "      <th>ASU_other_before</th>\n",
       "      <th>...</th>\n",
       "      <th>minijob_tot_dur_byage</th>\n",
       "      <th>ft_tot_dur_byage</th>\n",
       "      <th>befrist_tot_dur_byage</th>\n",
       "      <th>leih_tot_dur_byage</th>\n",
       "      <th>LHG_tot_dur_byage</th>\n",
       "      <th>LEH_tot_dur_byage</th>\n",
       "      <th>almp_tot_dur_byage</th>\n",
       "      <th>almp_aw_tot_dur_byage</th>\n",
       "      <th>se_tot_dur_byage</th>\n",
       "      <th>seeking1_tot_dur_byage</th>\n",
       "    </tr>\n",
       "  </thead>\n",
       "  <tbody>\n",
       "    <tr>\n",
       "      <th>0</th>\n",
       "      <td>7</td>\n",
       "      <td>2015</td>\n",
       "      <td>1</td>\n",
       "      <td>0</td>\n",
       "      <td>1</td>\n",
       "      <td>0</td>\n",
       "      <td>0</td>\n",
       "      <td>0</td>\n",
       "      <td>1</td>\n",
       "      <td>0</td>\n",
       "      <td>...</td>\n",
       "      <td>0.000000</td>\n",
       "      <td>0.000000</td>\n",
       "      <td>15.043478</td>\n",
       "      <td>0.000000</td>\n",
       "      <td>0.000000</td>\n",
       "      <td>0.000000</td>\n",
       "      <td>0.000000</td>\n",
       "      <td>0.000000</td>\n",
       "      <td>0.000000</td>\n",
       "      <td>0.000000</td>\n",
       "    </tr>\n",
       "    <tr>\n",
       "      <th>1</th>\n",
       "      <td>18</td>\n",
       "      <td>2010</td>\n",
       "      <td>1</td>\n",
       "      <td>1</td>\n",
       "      <td>0</td>\n",
       "      <td>0</td>\n",
       "      <td>0</td>\n",
       "      <td>0</td>\n",
       "      <td>0</td>\n",
       "      <td>0</td>\n",
       "      <td>...</td>\n",
       "      <td>0.000000</td>\n",
       "      <td>0.000000</td>\n",
       "      <td>0.000000</td>\n",
       "      <td>0.000000</td>\n",
       "      <td>0.000000</td>\n",
       "      <td>0.000000</td>\n",
       "      <td>0.000000</td>\n",
       "      <td>0.000000</td>\n",
       "      <td>0.000000</td>\n",
       "      <td>0.000000</td>\n",
       "    </tr>\n",
       "    <tr>\n",
       "      <th>2</th>\n",
       "      <td>18</td>\n",
       "      <td>2011</td>\n",
       "      <td>2</td>\n",
       "      <td>0</td>\n",
       "      <td>1</td>\n",
       "      <td>0</td>\n",
       "      <td>1</td>\n",
       "      <td>0</td>\n",
       "      <td>1</td>\n",
       "      <td>0</td>\n",
       "      <td>...</td>\n",
       "      <td>2.714286</td>\n",
       "      <td>2.714286</td>\n",
       "      <td>0.000000</td>\n",
       "      <td>0.000000</td>\n",
       "      <td>10.775510</td>\n",
       "      <td>0.000000</td>\n",
       "      <td>8.367347</td>\n",
       "      <td>0.000000</td>\n",
       "      <td>0.000000</td>\n",
       "      <td>9.836735</td>\n",
       "    </tr>\n",
       "    <tr>\n",
       "      <th>3</th>\n",
       "      <td>18</td>\n",
       "      <td>2012</td>\n",
       "      <td>3</td>\n",
       "      <td>0</td>\n",
       "      <td>1</td>\n",
       "      <td>0</td>\n",
       "      <td>1</td>\n",
       "      <td>0</td>\n",
       "      <td>1</td>\n",
       "      <td>0</td>\n",
       "      <td>...</td>\n",
       "      <td>4.200000</td>\n",
       "      <td>4.200000</td>\n",
       "      <td>0.000000</td>\n",
       "      <td>0.000000</td>\n",
       "      <td>12.100000</td>\n",
       "      <td>0.000000</td>\n",
       "      <td>9.400000</td>\n",
       "      <td>0.000000</td>\n",
       "      <td>0.000000</td>\n",
       "      <td>9.960000</td>\n",
       "    </tr>\n",
       "    <tr>\n",
       "      <th>4</th>\n",
       "      <td>18</td>\n",
       "      <td>2012</td>\n",
       "      <td>4</td>\n",
       "      <td>0</td>\n",
       "      <td>1</td>\n",
       "      <td>0</td>\n",
       "      <td>1</td>\n",
       "      <td>0</td>\n",
       "      <td>1</td>\n",
       "      <td>0</td>\n",
       "      <td>...</td>\n",
       "      <td>5.460000</td>\n",
       "      <td>5.460000</td>\n",
       "      <td>0.000000</td>\n",
       "      <td>0.000000</td>\n",
       "      <td>13.360000</td>\n",
       "      <td>0.000000</td>\n",
       "      <td>10.320000</td>\n",
       "      <td>0.000000</td>\n",
       "      <td>0.000000</td>\n",
       "      <td>10.280000</td>\n",
       "    </tr>\n",
       "    <tr>\n",
       "      <th>...</th>\n",
       "      <td>...</td>\n",
       "      <td>...</td>\n",
       "      <td>...</td>\n",
       "      <td>...</td>\n",
       "      <td>...</td>\n",
       "      <td>...</td>\n",
       "      <td>...</td>\n",
       "      <td>...</td>\n",
       "      <td>...</td>\n",
       "      <td>...</td>\n",
       "      <td>...</td>\n",
       "      <td>...</td>\n",
       "      <td>...</td>\n",
       "      <td>...</td>\n",
       "      <td>...</td>\n",
       "      <td>...</td>\n",
       "      <td>...</td>\n",
       "      <td>...</td>\n",
       "      <td>...</td>\n",
       "      <td>...</td>\n",
       "      <td>...</td>\n",
       "    </tr>\n",
       "    <tr>\n",
       "      <th>643685</th>\n",
       "      <td>1827860</td>\n",
       "      <td>2013</td>\n",
       "      <td>1</td>\n",
       "      <td>0</td>\n",
       "      <td>0</td>\n",
       "      <td>0</td>\n",
       "      <td>1</td>\n",
       "      <td>0</td>\n",
       "      <td>0</td>\n",
       "      <td>1</td>\n",
       "      <td>...</td>\n",
       "      <td>0.000000</td>\n",
       "      <td>0.000000</td>\n",
       "      <td>0.000000</td>\n",
       "      <td>0.000000</td>\n",
       "      <td>0.612903</td>\n",
       "      <td>0.000000</td>\n",
       "      <td>0.000000</td>\n",
       "      <td>0.000000</td>\n",
       "      <td>0.000000</td>\n",
       "      <td>0.000000</td>\n",
       "    </tr>\n",
       "    <tr>\n",
       "      <th>643686</th>\n",
       "      <td>1827860</td>\n",
       "      <td>2015</td>\n",
       "      <td>2</td>\n",
       "      <td>1</td>\n",
       "      <td>0</td>\n",
       "      <td>0</td>\n",
       "      <td>1</td>\n",
       "      <td>0</td>\n",
       "      <td>1</td>\n",
       "      <td>0</td>\n",
       "      <td>...</td>\n",
       "      <td>0.000000</td>\n",
       "      <td>0.000000</td>\n",
       "      <td>0.212121</td>\n",
       "      <td>0.212121</td>\n",
       "      <td>17.363636</td>\n",
       "      <td>0.000000</td>\n",
       "      <td>8.909091</td>\n",
       "      <td>0.000000</td>\n",
       "      <td>0.000000</td>\n",
       "      <td>7.121212</td>\n",
       "    </tr>\n",
       "    <tr>\n",
       "      <th>643687</th>\n",
       "      <td>1827860</td>\n",
       "      <td>2016</td>\n",
       "      <td>3</td>\n",
       "      <td>1</td>\n",
       "      <td>0</td>\n",
       "      <td>0</td>\n",
       "      <td>1</td>\n",
       "      <td>1</td>\n",
       "      <td>0</td>\n",
       "      <td>1</td>\n",
       "      <td>...</td>\n",
       "      <td>0.000000</td>\n",
       "      <td>0.000000</td>\n",
       "      <td>0.294118</td>\n",
       "      <td>0.205882</td>\n",
       "      <td>34.705882</td>\n",
       "      <td>0.000000</td>\n",
       "      <td>10.352941</td>\n",
       "      <td>1.705882</td>\n",
       "      <td>1.705882</td>\n",
       "      <td>23.911765</td>\n",
       "    </tr>\n",
       "    <tr>\n",
       "      <th>643688</th>\n",
       "      <td>1827869</td>\n",
       "      <td>2013</td>\n",
       "      <td>1</td>\n",
       "      <td>1</td>\n",
       "      <td>1</td>\n",
       "      <td>0</td>\n",
       "      <td>0</td>\n",
       "      <td>0</td>\n",
       "      <td>1</td>\n",
       "      <td>0</td>\n",
       "      <td>...</td>\n",
       "      <td>0.000000</td>\n",
       "      <td>0.000000</td>\n",
       "      <td>0.000000</td>\n",
       "      <td>0.000000</td>\n",
       "      <td>0.000000</td>\n",
       "      <td>0.525424</td>\n",
       "      <td>0.000000</td>\n",
       "      <td>0.000000</td>\n",
       "      <td>0.000000</td>\n",
       "      <td>0.000000</td>\n",
       "    </tr>\n",
       "    <tr>\n",
       "      <th>643689</th>\n",
       "      <td>1827869</td>\n",
       "      <td>2014</td>\n",
       "      <td>2</td>\n",
       "      <td>0</td>\n",
       "      <td>0</td>\n",
       "      <td>1</td>\n",
       "      <td>0</td>\n",
       "      <td>0</td>\n",
       "      <td>1</td>\n",
       "      <td>0</td>\n",
       "      <td>...</td>\n",
       "      <td>0.000000</td>\n",
       "      <td>0.666667</td>\n",
       "      <td>0.666667</td>\n",
       "      <td>0.000000</td>\n",
       "      <td>0.000000</td>\n",
       "      <td>8.950000</td>\n",
       "      <td>1.033333</td>\n",
       "      <td>0.083333</td>\n",
       "      <td>0.083333</td>\n",
       "      <td>8.133333</td>\n",
       "    </tr>\n",
       "  </tbody>\n",
       "</table>\n",
       "<p>643690 rows × 164 columns</p>\n",
       "</div>"
      ],
      "text/plain": [
       "         persnr  year  nrEntry  ltue  employed_before  receipt_leh_before  \\\n",
       "0             7  2015        1     0                1                   0   \n",
       "1            18  2010        1     1                0                   0   \n",
       "2            18  2011        2     0                1                   0   \n",
       "3            18  2012        3     0                1                   0   \n",
       "4            18  2012        4     0                1                   0   \n",
       "...         ...   ...      ...   ...              ...                 ...   \n",
       "643685  1827860  2013        1     0                0                   0   \n",
       "643686  1827860  2015        2     1                0                   0   \n",
       "643687  1827860  2016        3     1                0                   0   \n",
       "643688  1827869  2013        1     1                1                   0   \n",
       "643689  1827869  2014        2     0                0                   1   \n",
       "\n",
       "        receipt_lhg_before  se_before  ASU_notue_seeking_before  \\\n",
       "0                        0          0                         1   \n",
       "1                        0          0                         0   \n",
       "2                        1          0                         1   \n",
       "3                        1          0                         1   \n",
       "4                        1          0                         1   \n",
       "...                    ...        ...                       ...   \n",
       "643685                   1          0                         0   \n",
       "643686                   1          0                         1   \n",
       "643687                   1          1                         0   \n",
       "643688                   0          0                         1   \n",
       "643689                   0          0                         1   \n",
       "\n",
       "        ASU_other_before  ...  minijob_tot_dur_byage  ft_tot_dur_byage  \\\n",
       "0                      0  ...               0.000000          0.000000   \n",
       "1                      0  ...               0.000000          0.000000   \n",
       "2                      0  ...               2.714286          2.714286   \n",
       "3                      0  ...               4.200000          4.200000   \n",
       "4                      0  ...               5.460000          5.460000   \n",
       "...                  ...  ...                    ...               ...   \n",
       "643685                 1  ...               0.000000          0.000000   \n",
       "643686                 0  ...               0.000000          0.000000   \n",
       "643687                 1  ...               0.000000          0.000000   \n",
       "643688                 0  ...               0.000000          0.000000   \n",
       "643689                 0  ...               0.000000          0.666667   \n",
       "\n",
       "        befrist_tot_dur_byage  leih_tot_dur_byage  LHG_tot_dur_byage  \\\n",
       "0                   15.043478            0.000000           0.000000   \n",
       "1                    0.000000            0.000000           0.000000   \n",
       "2                    0.000000            0.000000          10.775510   \n",
       "3                    0.000000            0.000000          12.100000   \n",
       "4                    0.000000            0.000000          13.360000   \n",
       "...                       ...                 ...                ...   \n",
       "643685               0.000000            0.000000           0.612903   \n",
       "643686               0.212121            0.212121          17.363636   \n",
       "643687               0.294118            0.205882          34.705882   \n",
       "643688               0.000000            0.000000           0.000000   \n",
       "643689               0.666667            0.000000           0.000000   \n",
       "\n",
       "        LEH_tot_dur_byage  almp_tot_dur_byage  almp_aw_tot_dur_byage  \\\n",
       "0                0.000000            0.000000               0.000000   \n",
       "1                0.000000            0.000000               0.000000   \n",
       "2                0.000000            8.367347               0.000000   \n",
       "3                0.000000            9.400000               0.000000   \n",
       "4                0.000000           10.320000               0.000000   \n",
       "...                   ...                 ...                    ...   \n",
       "643685           0.000000            0.000000               0.000000   \n",
       "643686           0.000000            8.909091               0.000000   \n",
       "643687           0.000000           10.352941               1.705882   \n",
       "643688           0.525424            0.000000               0.000000   \n",
       "643689           8.950000            1.033333               0.083333   \n",
       "\n",
       "        se_tot_dur_byage  seeking1_tot_dur_byage  \n",
       "0               0.000000                0.000000  \n",
       "1               0.000000                0.000000  \n",
       "2               0.000000                9.836735  \n",
       "3               0.000000                9.960000  \n",
       "4               0.000000               10.280000  \n",
       "...                  ...                     ...  \n",
       "643685          0.000000                0.000000  \n",
       "643686          0.000000                7.121212  \n",
       "643687          1.705882               23.911765  \n",
       "643688          0.000000                0.000000  \n",
       "643689          0.083333                8.133333  \n",
       "\n",
       "[643690 rows x 164 columns]"
      ]
     },
     "execution_count": 10,
     "metadata": {},
     "output_type": "execute_result"
    }
   ],
   "source": [
    "siab"
   ]
  },
  {
   "cell_type": "markdown",
   "id": "1f87e805",
   "metadata": {
    "papermill": {
     "duration": 0.009667,
     "end_time": "2025-08-19T19:01:37.685669",
     "exception": false,
     "start_time": "2025-08-19T19:01:37.676002",
     "status": "completed"
    },
    "tags": []
   },
   "source": [
    "# Splitting Data and Setting Training Data Size"
   ]
  },
  {
   "cell_type": "code",
   "execution_count": 11,
   "id": "910ae358",
   "metadata": {
    "execution": {
     "iopub.execute_input": "2025-08-19T19:01:37.707564Z",
     "iopub.status.busy": "2025-08-19T19:01:37.706423Z",
     "iopub.status.idle": "2025-08-19T19:01:38.357256Z",
     "shell.execute_reply": "2025-08-19T19:01:38.356583Z"
    },
    "papermill": {
     "duration": 0.663432,
     "end_time": "2025-08-19T19:01:38.358659",
     "exception": false,
     "start_time": "2025-08-19T19:01:37.695227",
     "status": "completed"
    },
    "tags": []
   },
   "outputs": [],
   "source": [
    "from fairness_multiverse.universe import sample_by_year_size\n",
    "\n",
    "siab_train = sample_by_year_size(siab,\n",
    "                               training_year=universe[\"training_year\"],\n",
    "                               training_size=universe[\"training_size\"])"
   ]
  },
  {
   "cell_type": "code",
   "execution_count": 12,
   "id": "919c8ff5",
   "metadata": {
    "execution": {
     "iopub.execute_input": "2025-08-19T19:01:38.382914Z",
     "iopub.status.busy": "2025-08-19T19:01:38.381203Z",
     "iopub.status.idle": "2025-08-19T19:01:38.392627Z",
     "shell.execute_reply": "2025-08-19T19:01:38.391448Z"
    },
    "papermill": {
     "duration": 0.024976,
     "end_time": "2025-08-19T19:01:38.394029",
     "exception": false,
     "start_time": "2025-08-19T19:01:38.369053",
     "status": "completed"
    },
    "tags": []
   },
   "outputs": [
    {
     "data": {
      "text/plain": [
       "(1000, 164)"
      ]
     },
     "execution_count": 12,
     "metadata": {},
     "output_type": "execute_result"
    }
   ],
   "source": [
    "siab_train.shape"
   ]
  },
  {
   "cell_type": "code",
   "execution_count": 13,
   "id": "feb13bf4",
   "metadata": {
    "execution": {
     "iopub.execute_input": "2025-08-19T19:01:38.422705Z",
     "iopub.status.busy": "2025-08-19T19:01:38.421768Z",
     "iopub.status.idle": "2025-08-19T19:01:38.435695Z",
     "shell.execute_reply": "2025-08-19T19:01:38.434513Z"
    },
    "papermill": {
     "duration": 0.029925,
     "end_time": "2025-08-19T19:01:38.437151",
     "exception": false,
     "start_time": "2025-08-19T19:01:38.407226",
     "status": "completed"
    },
    "tags": []
   },
   "outputs": [
    {
     "data": {
      "text/plain": [
       "year\n",
       "2012    334\n",
       "2013    333\n",
       "2014    333\n",
       "dtype: int64"
      ]
     },
     "metadata": {},
     "output_type": "display_data"
    }
   ],
   "source": [
    "display(siab_train.groupby(\"year\").size())"
   ]
  },
  {
   "cell_type": "code",
   "execution_count": 14,
   "id": "0997782f",
   "metadata": {
    "execution": {
     "iopub.execute_input": "2025-08-19T19:01:38.466201Z",
     "iopub.status.busy": "2025-08-19T19:01:38.465293Z",
     "iopub.status.idle": "2025-08-19T19:01:38.745232Z",
     "shell.execute_reply": "2025-08-19T19:01:38.744555Z"
    },
    "papermill": {
     "duration": 0.29367,
     "end_time": "2025-08-19T19:01:38.746659",
     "exception": false,
     "start_time": "2025-08-19T19:01:38.452989",
     "status": "completed"
    },
    "tags": []
   },
   "outputs": [],
   "source": [
    "#siab_train = siab_s[siab_s.year < 2015]\n",
    "siab_calib = siab[siab.year == 2015]\n",
    "siab_test = siab[siab.year == 2016]"
   ]
  },
  {
   "cell_type": "code",
   "execution_count": 15,
   "id": "2c1e4012",
   "metadata": {
    "execution": {
     "iopub.execute_input": "2025-08-19T19:01:38.778926Z",
     "iopub.status.busy": "2025-08-19T19:01:38.778546Z",
     "iopub.status.idle": "2025-08-19T19:01:38.782942Z",
     "shell.execute_reply": "2025-08-19T19:01:38.782171Z"
    },
    "papermill": {
     "duration": 0.02352,
     "end_time": "2025-08-19T19:01:38.784770",
     "exception": false,
     "start_time": "2025-08-19T19:01:38.761250",
     "status": "completed"
    },
    "tags": []
   },
   "outputs": [],
   "source": [
    "#siab_calib.shape"
   ]
  },
  {
   "cell_type": "code",
   "execution_count": 16,
   "id": "f66b54ca",
   "metadata": {
    "execution": {
     "iopub.execute_input": "2025-08-19T19:01:38.806910Z",
     "iopub.status.busy": "2025-08-19T19:01:38.806477Z",
     "iopub.status.idle": "2025-08-19T19:01:38.810350Z",
     "shell.execute_reply": "2025-08-19T19:01:38.809731Z"
    },
    "papermill": {
     "duration": 0.016485,
     "end_time": "2025-08-19T19:01:38.811859",
     "exception": false,
     "start_time": "2025-08-19T19:01:38.795374",
     "status": "completed"
    },
    "tags": []
   },
   "outputs": [],
   "source": [
    "#siab_test.shape"
   ]
  },
  {
   "cell_type": "code",
   "execution_count": 17,
   "id": "27e4384d",
   "metadata": {
    "execution": {
     "iopub.execute_input": "2025-08-19T19:01:38.833949Z",
     "iopub.status.busy": "2025-08-19T19:01:38.833579Z",
     "iopub.status.idle": "2025-08-19T19:01:38.838826Z",
     "shell.execute_reply": "2025-08-19T19:01:38.838171Z"
    },
    "papermill": {
     "duration": 0.018359,
     "end_time": "2025-08-19T19:01:38.841155",
     "exception": false,
     "start_time": "2025-08-19T19:01:38.822796",
     "status": "completed"
    },
    "tags": []
   },
   "outputs": [],
   "source": [
    "X_train = siab_train.iloc[:,4:164]\n",
    "y_train = siab_train.iloc[:, [3]]"
   ]
  },
  {
   "cell_type": "code",
   "execution_count": 18,
   "id": "08ee8389",
   "metadata": {
    "execution": {
     "iopub.execute_input": "2025-08-19T19:01:38.880742Z",
     "iopub.status.busy": "2025-08-19T19:01:38.879823Z",
     "iopub.status.idle": "2025-08-19T19:01:38.933419Z",
     "shell.execute_reply": "2025-08-19T19:01:38.932521Z"
    },
    "papermill": {
     "duration": 0.071716,
     "end_time": "2025-08-19T19:01:38.934931",
     "exception": false,
     "start_time": "2025-08-19T19:01:38.863215",
     "status": "completed"
    },
    "tags": []
   },
   "outputs": [],
   "source": [
    "X_calib = siab_calib.iloc[:,4:164]\n",
    "y_calib = siab_calib.iloc[:, [3]]"
   ]
  },
  {
   "cell_type": "code",
   "execution_count": 19,
   "id": "b7ff42e0",
   "metadata": {
    "execution": {
     "iopub.execute_input": "2025-08-19T19:01:38.958088Z",
     "iopub.status.busy": "2025-08-19T19:01:38.957780Z",
     "iopub.status.idle": "2025-08-19T19:01:39.014673Z",
     "shell.execute_reply": "2025-08-19T19:01:39.013565Z"
    },
    "papermill": {
     "duration": 0.076092,
     "end_time": "2025-08-19T19:01:39.022038",
     "exception": false,
     "start_time": "2025-08-19T19:01:38.945946",
     "status": "completed"
    },
    "tags": []
   },
   "outputs": [],
   "source": [
    "X_test = siab_test.iloc[:,4:164]\n",
    "y_true = siab_test.iloc[:, [3]]"
   ]
  },
  {
   "cell_type": "code",
   "execution_count": 20,
   "id": "0275101e",
   "metadata": {
    "execution": {
     "iopub.execute_input": "2025-08-19T19:01:39.062282Z",
     "iopub.status.busy": "2025-08-19T19:01:39.061419Z",
     "iopub.status.idle": "2025-08-19T19:01:39.176734Z",
     "shell.execute_reply": "2025-08-19T19:01:39.175993Z"
    },
    "papermill": {
     "duration": 0.128613,
     "end_time": "2025-08-19T19:01:39.178188",
     "exception": false,
     "start_time": "2025-08-19T19:01:39.049575",
     "status": "completed"
    },
    "tags": []
   },
   "outputs": [],
   "source": [
    "# Auxiliary data needed downstream in the pipeline\n",
    "\n",
    "org_train = X_train.copy()\n",
    "org_test = X_test.copy()\n",
    "org_calib = X_calib.copy()"
   ]
  },
  {
   "cell_type": "markdown",
   "id": "b461e618",
   "metadata": {
    "papermill": {
     "duration": 0.014828,
     "end_time": "2025-08-19T19:01:39.208007",
     "exception": false,
     "start_time": "2025-08-19T19:01:39.193179",
     "status": "completed"
    },
    "tags": []
   },
   "source": [
    "# Preprocessing Data"
   ]
  },
  {
   "cell_type": "code",
   "execution_count": 21,
   "id": "78e74c4b",
   "metadata": {
    "execution": {
     "iopub.execute_input": "2025-08-19T19:01:39.232977Z",
     "iopub.status.busy": "2025-08-19T19:01:39.232560Z",
     "iopub.status.idle": "2025-08-19T19:01:39.237643Z",
     "shell.execute_reply": "2025-08-19T19:01:39.236709Z"
    },
    "papermill": {
     "duration": 0.021648,
     "end_time": "2025-08-19T19:01:39.241709",
     "exception": false,
     "start_time": "2025-08-19T19:01:39.220061",
     "status": "completed"
    },
    "tags": []
   },
   "outputs": [],
   "source": [
    "# EXCLUDE PROTECTED FEATURES\n",
    "# --------------------------\n",
    "\n",
    "excluded_features = universe[\"exclude_features\"].split(\"-\")\n",
    "excluded_features_dictionary = {\n",
    "    \"nationality\": [\"maxdeutsch1\", \"maxdeutsch.Missing.\"],\n",
    "    \"sex\": [\"frau1\"],\n",
    "    \"age\": [\"age\"],\n",
    "}"
   ]
  },
  {
   "cell_type": "code",
   "execution_count": 22,
   "id": "f8e63555",
   "metadata": {
    "execution": {
     "iopub.execute_input": "2025-08-19T19:01:39.282059Z",
     "iopub.status.busy": "2025-08-19T19:01:39.281342Z",
     "iopub.status.idle": "2025-08-19T19:01:39.287782Z",
     "shell.execute_reply": "2025-08-19T19:01:39.286775Z"
    },
    "papermill": {
     "duration": 0.021396,
     "end_time": "2025-08-19T19:01:39.289359",
     "exception": false,
     "start_time": "2025-08-19T19:01:39.267963",
     "status": "completed"
    },
    "tags": []
   },
   "outputs": [],
   "source": [
    "excluded_features_columns = [\n",
    "    excluded_features_dictionary[f] for f in excluded_features if len(f) > 0 and f != \"none\"\n",
    "]"
   ]
  },
  {
   "cell_type": "code",
   "execution_count": 23,
   "id": "da781f7c",
   "metadata": {
    "execution": {
     "iopub.execute_input": "2025-08-19T19:01:39.315770Z",
     "iopub.status.busy": "2025-08-19T19:01:39.315453Z",
     "iopub.status.idle": "2025-08-19T19:01:39.321700Z",
     "shell.execute_reply": "2025-08-19T19:01:39.320822Z"
    },
    "papermill": {
     "duration": 0.020263,
     "end_time": "2025-08-19T19:01:39.323099",
     "exception": false,
     "start_time": "2025-08-19T19:01:39.302836",
     "status": "completed"
    },
    "tags": []
   },
   "outputs": [],
   "source": [
    "from fairness_multiverse.universe import flatten_once\n",
    "\n",
    "excluded_features_columns = flatten_once(excluded_features_columns)"
   ]
  },
  {
   "cell_type": "code",
   "execution_count": 24,
   "id": "37fef0f0",
   "metadata": {
    "execution": {
     "iopub.execute_input": "2025-08-19T19:01:39.347015Z",
     "iopub.status.busy": "2025-08-19T19:01:39.346697Z",
     "iopub.status.idle": "2025-08-19T19:01:39.353942Z",
     "shell.execute_reply": "2025-08-19T19:01:39.353150Z"
    },
    "papermill": {
     "duration": 0.019973,
     "end_time": "2025-08-19T19:01:39.355233",
     "exception": false,
     "start_time": "2025-08-19T19:01:39.335260",
     "status": "completed"
    },
    "tags": []
   },
   "outputs": [
    {
     "name": "stdout",
     "output_type": "stream",
     "text": [
      "Dropping features: ['maxdeutsch1', 'maxdeutsch.Missing.']\n"
     ]
    }
   ],
   "source": [
    "if len(excluded_features_columns) > 0:\n",
    "    print(f\"Dropping features: {excluded_features_columns}\")\n",
    "    X_train.drop(excluded_features_columns, axis=1, inplace=True)"
   ]
  },
  {
   "cell_type": "code",
   "execution_count": 25,
   "id": "d029e3e9",
   "metadata": {
    "execution": {
     "iopub.execute_input": "2025-08-19T19:01:39.384364Z",
     "iopub.status.busy": "2025-08-19T19:01:39.383265Z",
     "iopub.status.idle": "2025-08-19T19:01:39.439836Z",
     "shell.execute_reply": "2025-08-19T19:01:39.439107Z"
    },
    "papermill": {
     "duration": 0.078511,
     "end_time": "2025-08-19T19:01:39.445617",
     "exception": false,
     "start_time": "2025-08-19T19:01:39.367106",
     "status": "completed"
    },
    "tags": []
   },
   "outputs": [
    {
     "name": "stdout",
     "output_type": "stream",
     "text": [
      "Dropping features: ['maxdeutsch1', 'maxdeutsch.Missing.']\n"
     ]
    }
   ],
   "source": [
    "if len(excluded_features_columns) > 0:\n",
    "    print(f\"Dropping features: {excluded_features_columns}\")\n",
    "    X_test.drop(excluded_features_columns, axis=1, inplace=True)"
   ]
  },
  {
   "cell_type": "code",
   "execution_count": 26,
   "id": "01d571f0",
   "metadata": {
    "execution": {
     "iopub.execute_input": "2025-08-19T19:01:39.482861Z",
     "iopub.status.busy": "2025-08-19T19:01:39.481807Z",
     "iopub.status.idle": "2025-08-19T19:01:39.536336Z",
     "shell.execute_reply": "2025-08-19T19:01:39.535600Z"
    },
    "papermill": {
     "duration": 0.071473,
     "end_time": "2025-08-19T19:01:39.540193",
     "exception": false,
     "start_time": "2025-08-19T19:01:39.468720",
     "status": "completed"
    },
    "tags": []
   },
   "outputs": [
    {
     "name": "stdout",
     "output_type": "stream",
     "text": [
      "Dropping features: ['maxdeutsch1', 'maxdeutsch.Missing.']\n"
     ]
    }
   ],
   "source": [
    "if len(excluded_features_columns) > 0:\n",
    "    print(f\"Dropping features: {excluded_features_columns}\")\n",
    "    X_calib.drop(excluded_features_columns, axis=1, inplace=True)"
   ]
  },
  {
   "cell_type": "code",
   "execution_count": 27,
   "id": "3037356e",
   "metadata": {
    "execution": {
     "iopub.execute_input": "2025-08-19T19:01:39.576396Z",
     "iopub.status.busy": "2025-08-19T19:01:39.575402Z",
     "iopub.status.idle": "2025-08-19T19:01:39.582690Z",
     "shell.execute_reply": "2025-08-19T19:01:39.581498Z"
    },
    "papermill": {
     "duration": 0.021814,
     "end_time": "2025-08-19T19:01:39.584171",
     "exception": false,
     "start_time": "2025-08-19T19:01:39.562357",
     "status": "completed"
    },
    "tags": []
   },
   "outputs": [],
   "source": [
    "# EXCLUDE CERTAIN SUBGROUPS\n",
    "# -------------------------\n",
    "\n",
    "mode = universe.get(\"exclude_subgroups\", \"keep-all\") # Defaults to \"keep-all\" if the key is missing."
   ]
  },
  {
   "cell_type": "code",
   "execution_count": 28,
   "id": "9d1e63fd",
   "metadata": {
    "execution": {
     "iopub.execute_input": "2025-08-19T19:01:39.613176Z",
     "iopub.status.busy": "2025-08-19T19:01:39.611910Z",
     "iopub.status.idle": "2025-08-19T19:01:39.622432Z",
     "shell.execute_reply": "2025-08-19T19:01:39.621285Z"
    },
    "papermill": {
     "duration": 0.028975,
     "end_time": "2025-08-19T19:01:39.627316",
     "exception": false,
     "start_time": "2025-08-19T19:01:39.598341",
     "status": "completed"
    },
    "tags": []
   },
   "outputs": [],
   "source": [
    "if mode == \"keep-all\":\n",
    "    keep_mask = pd.Series(True, index=org_train.index)\n",
    "\n",
    "elif mode == \"drop-non-german\":\n",
    "    keep_mask = (org_train[\"maxdeutsch1\"] == 1) & (org_train[\"maxdeutsch.Missing.\"] == 0)\n",
    "\n",
    "else:\n",
    "    raise ValueError(f\"Unsupported mode for exclude_subgroups: {mode}\")"
   ]
  },
  {
   "cell_type": "code",
   "execution_count": 29,
   "id": "d3b65474",
   "metadata": {
    "execution": {
     "iopub.execute_input": "2025-08-19T19:01:39.677383Z",
     "iopub.status.busy": "2025-08-19T19:01:39.676927Z",
     "iopub.status.idle": "2025-08-19T19:01:39.715950Z",
     "shell.execute_reply": "2025-08-19T19:01:39.714657Z"
    },
    "papermill": {
     "duration": 0.071102,
     "end_time": "2025-08-19T19:01:39.720176",
     "exception": false,
     "start_time": "2025-08-19T19:01:39.649074",
     "status": "completed"
    },
    "tags": []
   },
   "outputs": [
    {
     "name": "stdout",
     "output_type": "stream",
     "text": [
      "Dropping 147 rows (14.70%) where mode='drop-non-german'\n"
     ]
    }
   ],
   "source": [
    "n_drop = (~keep_mask).sum() # Calculates how many rows are set to be dropped\n",
    "if n_drop > 0:\n",
    "    pct = n_drop / len(keep_mask) * 100\n",
    "    print(f\"Dropping {n_drop} rows ({pct:.2f}%) where mode='{mode}'\")"
   ]
  },
  {
   "cell_type": "code",
   "execution_count": 30,
   "id": "f44389b3",
   "metadata": {
    "execution": {
     "iopub.execute_input": "2025-08-19T19:01:39.755018Z",
     "iopub.status.busy": "2025-08-19T19:01:39.754714Z",
     "iopub.status.idle": "2025-08-19T19:01:39.760372Z",
     "shell.execute_reply": "2025-08-19T19:01:39.759596Z"
    },
    "papermill": {
     "duration": 0.023986,
     "end_time": "2025-08-19T19:01:39.765946",
     "exception": false,
     "start_time": "2025-08-19T19:01:39.741960",
     "status": "completed"
    },
    "tags": []
   },
   "outputs": [],
   "source": [
    "X_train = X_train[keep_mask]"
   ]
  },
  {
   "cell_type": "code",
   "execution_count": 31,
   "id": "ceca8c2a",
   "metadata": {
    "execution": {
     "iopub.execute_input": "2025-08-19T19:01:39.789584Z",
     "iopub.status.busy": "2025-08-19T19:01:39.789329Z",
     "iopub.status.idle": "2025-08-19T19:01:39.794072Z",
     "shell.execute_reply": "2025-08-19T19:01:39.793413Z"
    },
    "papermill": {
     "duration": 0.02053,
     "end_time": "2025-08-19T19:01:39.798117",
     "exception": false,
     "start_time": "2025-08-19T19:01:39.777587",
     "status": "completed"
    },
    "tags": []
   },
   "outputs": [],
   "source": [
    "y_train = y_train[keep_mask]"
   ]
  },
  {
   "cell_type": "markdown",
   "id": "04d31e2f",
   "metadata": {
    "papermill": {
     "duration": 0.011849,
     "end_time": "2025-08-19T19:01:39.832810",
     "exception": false,
     "start_time": "2025-08-19T19:01:39.820961",
     "status": "completed"
    },
    "tags": []
   },
   "source": [
    "# Model Training"
   ]
  },
  {
   "cell_type": "code",
   "execution_count": 32,
   "id": "db991733",
   "metadata": {
    "execution": {
     "iopub.execute_input": "2025-08-19T19:01:39.857456Z",
     "iopub.status.busy": "2025-08-19T19:01:39.856233Z",
     "iopub.status.idle": "2025-08-19T19:01:39.967535Z",
     "shell.execute_reply": "2025-08-19T19:01:39.966712Z"
    },
    "papermill": {
     "duration": 0.126548,
     "end_time": "2025-08-19T19:01:39.970268",
     "exception": false,
     "start_time": "2025-08-19T19:01:39.843720",
     "status": "completed"
    },
    "tags": []
   },
   "outputs": [],
   "source": [
    "from sklearn.linear_model import LogisticRegression\n",
    "from sklearn.ensemble import GradientBoostingClassifier, RandomForestClassifier\n",
    "\n",
    "if (universe[\"model\"] == \"logreg\"):\n",
    "    model = LogisticRegression() #penalty=\"none\", solver=\"newton-cg\", max_iter=1)\n",
    "elif (universe[\"model\"] == \"penalized_logreg\"):\n",
    "    model = LogisticRegression(penalty=\"l2\", C=0.1) #, solver=\"newton-cg\", max_iter=1)\n",
    "elif (universe[\"model\"] == \"rf\"):\n",
    "    model = RandomForestClassifier() # n_estimators=100, n_jobs=-1\n",
    "elif (universe[\"model\"] == \"gbm\"):\n",
    "    model = GradientBoostingClassifier()\n",
    "elif (universe[\"model\"] == \"elasticnet\"):\n",
    "    model = LogisticRegression(penalty = 'elasticnet', solver = 'saga', l1_ratio = 0.5) # max_iter=5000\n",
    "else:\n",
    "    raise \"Unsupported universe.model\""
   ]
  },
  {
   "cell_type": "code",
   "execution_count": 33,
   "id": "a4b5cd25",
   "metadata": {
    "execution": {
     "iopub.execute_input": "2025-08-19T19:01:40.008697Z",
     "iopub.status.busy": "2025-08-19T19:01:40.007637Z",
     "iopub.status.idle": "2025-08-19T19:01:40.016743Z",
     "shell.execute_reply": "2025-08-19T19:01:40.015389Z"
    },
    "papermill": {
     "duration": 0.024297,
     "end_time": "2025-08-19T19:01:40.018295",
     "exception": false,
     "start_time": "2025-08-19T19:01:39.993998",
     "status": "completed"
    },
    "tags": []
   },
   "outputs": [],
   "source": [
    "from sklearn.pipeline import Pipeline\n",
    "from sklearn.preprocessing import StandardScaler\n",
    "\n",
    "model = Pipeline([\n",
    "    #(\"continuous_processor\", continuous_processor),\n",
    "    #(\"categorical_preprocessor\", categorical_preprocessor),\n",
    "    (\"scale\", StandardScaler() if universe[\"scale\"] == \"scale\" else None), \n",
    "    (\"model\", model),\n",
    "])"
   ]
  },
  {
   "cell_type": "code",
   "execution_count": 34,
   "id": "283a904d",
   "metadata": {
    "execution": {
     "iopub.execute_input": "2025-08-19T19:01:40.045599Z",
     "iopub.status.busy": "2025-08-19T19:01:40.044628Z",
     "iopub.status.idle": "2025-08-19T19:01:40.103889Z",
     "shell.execute_reply": "2025-08-19T19:01:40.103162Z"
    },
    "papermill": {
     "duration": 0.075823,
     "end_time": "2025-08-19T19:01:40.108204",
     "exception": false,
     "start_time": "2025-08-19T19:01:40.032381",
     "status": "completed"
    },
    "tags": []
   },
   "outputs": [
    {
     "name": "stderr",
     "output_type": "stream",
     "text": [
      "/dss/dsshome1/0C/ra93lal2/.local/share/virtualenvs/CMA_Fairness_v2-3j10GkSs/lib/python3.10/site-packages/sklearn/linear_model/_logistic.py:444: ConvergenceWarning: lbfgs failed to converge (status=1):\n",
      "STOP: TOTAL NO. of ITERATIONS REACHED LIMIT.\n",
      "\n",
      "Increase the number of iterations (max_iter) or scale the data as shown in:\n",
      "    https://scikit-learn.org/stable/modules/preprocessing.html\n",
      "Please also refer to the documentation for alternative solver options:\n",
      "    https://scikit-learn.org/stable/modules/linear_model.html#logistic-regression\n",
      "  n_iter_i = _check_optimize_result(\n"
     ]
    },
    {
     "data": {
      "text/html": [
       "<style>#sk-container-id-1 {color: black;background-color: white;}#sk-container-id-1 pre{padding: 0;}#sk-container-id-1 div.sk-toggleable {background-color: white;}#sk-container-id-1 label.sk-toggleable__label {cursor: pointer;display: block;width: 100%;margin-bottom: 0;padding: 0.3em;box-sizing: border-box;text-align: center;}#sk-container-id-1 label.sk-toggleable__label-arrow:before {content: \"▸\";float: left;margin-right: 0.25em;color: #696969;}#sk-container-id-1 label.sk-toggleable__label-arrow:hover:before {color: black;}#sk-container-id-1 div.sk-estimator:hover label.sk-toggleable__label-arrow:before {color: black;}#sk-container-id-1 div.sk-toggleable__content {max-height: 0;max-width: 0;overflow: hidden;text-align: left;background-color: #f0f8ff;}#sk-container-id-1 div.sk-toggleable__content pre {margin: 0.2em;color: black;border-radius: 0.25em;background-color: #f0f8ff;}#sk-container-id-1 input.sk-toggleable__control:checked~div.sk-toggleable__content {max-height: 200px;max-width: 100%;overflow: auto;}#sk-container-id-1 input.sk-toggleable__control:checked~label.sk-toggleable__label-arrow:before {content: \"▾\";}#sk-container-id-1 div.sk-estimator input.sk-toggleable__control:checked~label.sk-toggleable__label {background-color: #d4ebff;}#sk-container-id-1 div.sk-label input.sk-toggleable__control:checked~label.sk-toggleable__label {background-color: #d4ebff;}#sk-container-id-1 input.sk-hidden--visually {border: 0;clip: rect(1px 1px 1px 1px);clip: rect(1px, 1px, 1px, 1px);height: 1px;margin: -1px;overflow: hidden;padding: 0;position: absolute;width: 1px;}#sk-container-id-1 div.sk-estimator {font-family: monospace;background-color: #f0f8ff;border: 1px dotted black;border-radius: 0.25em;box-sizing: border-box;margin-bottom: 0.5em;}#sk-container-id-1 div.sk-estimator:hover {background-color: #d4ebff;}#sk-container-id-1 div.sk-parallel-item::after {content: \"\";width: 100%;border-bottom: 1px solid gray;flex-grow: 1;}#sk-container-id-1 div.sk-label:hover label.sk-toggleable__label {background-color: #d4ebff;}#sk-container-id-1 div.sk-serial::before {content: \"\";position: absolute;border-left: 1px solid gray;box-sizing: border-box;top: 0;bottom: 0;left: 50%;z-index: 0;}#sk-container-id-1 div.sk-serial {display: flex;flex-direction: column;align-items: center;background-color: white;padding-right: 0.2em;padding-left: 0.2em;position: relative;}#sk-container-id-1 div.sk-item {position: relative;z-index: 1;}#sk-container-id-1 div.sk-parallel {display: flex;align-items: stretch;justify-content: center;background-color: white;position: relative;}#sk-container-id-1 div.sk-item::before, #sk-container-id-1 div.sk-parallel-item::before {content: \"\";position: absolute;border-left: 1px solid gray;box-sizing: border-box;top: 0;bottom: 0;left: 50%;z-index: -1;}#sk-container-id-1 div.sk-parallel-item {display: flex;flex-direction: column;z-index: 1;position: relative;background-color: white;}#sk-container-id-1 div.sk-parallel-item:first-child::after {align-self: flex-end;width: 50%;}#sk-container-id-1 div.sk-parallel-item:last-child::after {align-self: flex-start;width: 50%;}#sk-container-id-1 div.sk-parallel-item:only-child::after {width: 0;}#sk-container-id-1 div.sk-dashed-wrapped {border: 1px dashed gray;margin: 0 0.4em 0.5em 0.4em;box-sizing: border-box;padding-bottom: 0.4em;background-color: white;}#sk-container-id-1 div.sk-label label {font-family: monospace;font-weight: bold;display: inline-block;line-height: 1.2em;}#sk-container-id-1 div.sk-label-container {text-align: center;}#sk-container-id-1 div.sk-container {/* jupyter's `normalize.less` sets `[hidden] { display: none; }` but bootstrap.min.css set `[hidden] { display: none !important; }` so we also need the `!important` here to be able to override the default hidden behavior on the sphinx rendered scikit-learn.org. See: https://github.com/scikit-learn/scikit-learn/issues/21755 */display: inline-block !important;position: relative;}#sk-container-id-1 div.sk-text-repr-fallback {display: none;}</style><div id=\"sk-container-id-1\" class=\"sk-top-container\"><div class=\"sk-text-repr-fallback\"><pre>Pipeline(steps=[(&#x27;scale&#x27;, None), (&#x27;model&#x27;, LogisticRegression(C=0.1))])</pre><b>In a Jupyter environment, please rerun this cell to show the HTML representation or trust the notebook. <br />On GitHub, the HTML representation is unable to render, please try loading this page with nbviewer.org.</b></div><div class=\"sk-container\" hidden><div class=\"sk-item sk-dashed-wrapped\"><div class=\"sk-label-container\"><div class=\"sk-label sk-toggleable\"><input class=\"sk-toggleable__control sk-hidden--visually\" id=\"sk-estimator-id-1\" type=\"checkbox\" ><label for=\"sk-estimator-id-1\" class=\"sk-toggleable__label sk-toggleable__label-arrow\">Pipeline</label><div class=\"sk-toggleable__content\"><pre>Pipeline(steps=[(&#x27;scale&#x27;, None), (&#x27;model&#x27;, LogisticRegression(C=0.1))])</pre></div></div></div><div class=\"sk-serial\"><div class=\"sk-item\"><div class=\"sk-estimator sk-toggleable\"><input class=\"sk-toggleable__control sk-hidden--visually\" id=\"sk-estimator-id-2\" type=\"checkbox\" ><label for=\"sk-estimator-id-2\" class=\"sk-toggleable__label sk-toggleable__label-arrow\">None</label><div class=\"sk-toggleable__content\"><pre>None</pre></div></div></div><div class=\"sk-item\"><div class=\"sk-estimator sk-toggleable\"><input class=\"sk-toggleable__control sk-hidden--visually\" id=\"sk-estimator-id-3\" type=\"checkbox\" ><label for=\"sk-estimator-id-3\" class=\"sk-toggleable__label sk-toggleable__label-arrow\">LogisticRegression</label><div class=\"sk-toggleable__content\"><pre>LogisticRegression(C=0.1)</pre></div></div></div></div></div></div></div>"
      ],
      "text/plain": [
       "Pipeline(steps=[('scale', None), ('model', LogisticRegression(C=0.1))])"
      ]
     },
     "execution_count": 34,
     "metadata": {},
     "output_type": "execute_result"
    }
   ],
   "source": [
    "model.fit(X_train, y_train.values.ravel())"
   ]
  },
  {
   "cell_type": "code",
   "execution_count": 35,
   "id": "6e15e313",
   "metadata": {
    "execution": {
     "iopub.execute_input": "2025-08-19T19:01:40.148881Z",
     "iopub.status.busy": "2025-08-19T19:01:40.148170Z",
     "iopub.status.idle": "2025-08-19T19:01:40.249651Z",
     "shell.execute_reply": "2025-08-19T19:01:40.248880Z"
    },
    "papermill": {
     "duration": 0.118652,
     "end_time": "2025-08-19T19:01:40.252259",
     "exception": false,
     "start_time": "2025-08-19T19:01:40.133607",
     "status": "completed"
    },
    "tags": []
   },
   "outputs": [
    {
     "data": {
      "text/plain": [
       "0.8580425816519898"
      ]
     },
     "execution_count": 35,
     "metadata": {},
     "output_type": "execute_result"
    }
   ],
   "source": [
    "from fairness_multiverse.universe import predict_w_threshold\n",
    "\n",
    "probs_test = model.predict_proba(X_test)\n",
    "\n",
    "'''\n",
    "Below code returns a boolean array (or binary 0/1 array depending on how it’s used) where each element \n",
    "is True if the probability of class 1 is greater than or equal to the threshold, and False otherwise.\n",
    "'''\n",
    "y_pred_default = predict_w_threshold(probs_test, 0.5)\n",
    "\n",
    "from sklearn.metrics import accuracy_score\n",
    "\n",
    "# Naive prediction\n",
    "accuracy_score(y_true = y_true, y_pred = y_pred_default)"
   ]
  },
  {
   "cell_type": "code",
   "execution_count": 36,
   "id": "6f14067c",
   "metadata": {
    "execution": {
     "iopub.execute_input": "2025-08-19T19:01:40.291984Z",
     "iopub.status.busy": "2025-08-19T19:01:40.290629Z",
     "iopub.status.idle": "2025-08-19T19:01:40.386862Z",
     "shell.execute_reply": "2025-08-19T19:01:40.386017Z"
    },
    "papermill": {
     "duration": 0.111575,
     "end_time": "2025-08-19T19:01:40.388274",
     "exception": false,
     "start_time": "2025-08-19T19:01:40.276699",
     "status": "completed"
    },
    "tags": []
   },
   "outputs": [
    {
     "data": {
      "text/plain": [
       "array([0, 0, 0, ..., 0, 0, 0])"
      ]
     },
     "execution_count": 36,
     "metadata": {},
     "output_type": "execute_result"
    }
   ],
   "source": [
    "model.predict(X_test)"
   ]
  },
  {
   "cell_type": "markdown",
   "id": "3759920c",
   "metadata": {
    "papermill": {
     "duration": 0.013234,
     "end_time": "2025-08-19T19:01:40.415486",
     "exception": false,
     "start_time": "2025-08-19T19:01:40.402252",
     "status": "completed"
    },
    "tags": []
   },
   "source": [
    "# Conformal Prediction"
   ]
  },
  {
   "cell_type": "code",
   "execution_count": 37,
   "id": "14b27f59",
   "metadata": {
    "execution": {
     "iopub.execute_input": "2025-08-19T19:01:40.439175Z",
     "iopub.status.busy": "2025-08-19T19:01:40.438894Z",
     "iopub.status.idle": "2025-08-19T19:01:40.443185Z",
     "shell.execute_reply": "2025-08-19T19:01:40.442445Z"
    },
    "papermill": {
     "duration": 0.017481,
     "end_time": "2025-08-19T19:01:40.444427",
     "exception": false,
     "start_time": "2025-08-19T19:01:40.426946",
     "status": "completed"
    },
    "tags": []
   },
   "outputs": [],
   "source": [
    "# Miscoverage level for conformal prediction (10% allowed error rate => 90% target coverage)\n",
    "alpha = 0.1"
   ]
  },
  {
   "cell_type": "code",
   "execution_count": 38,
   "id": "59102472",
   "metadata": {
    "execution": {
     "iopub.execute_input": "2025-08-19T19:01:40.467986Z",
     "iopub.status.busy": "2025-08-19T19:01:40.467741Z",
     "iopub.status.idle": "2025-08-19T19:01:40.545509Z",
     "shell.execute_reply": "2025-08-19T19:01:40.544635Z"
    },
    "papermill": {
     "duration": 0.091998,
     "end_time": "2025-08-19T19:01:40.547483",
     "exception": false,
     "start_time": "2025-08-19T19:01:40.455485",
     "status": "completed"
    },
    "tags": []
   },
   "outputs": [],
   "source": [
    "probs_calib = model.predict_proba(X_calib)"
   ]
  },
  {
   "cell_type": "code",
   "execution_count": 39,
   "id": "a792d4dd",
   "metadata": {
    "execution": {
     "iopub.execute_input": "2025-08-19T19:01:40.576611Z",
     "iopub.status.busy": "2025-08-19T19:01:40.575557Z",
     "iopub.status.idle": "2025-08-19T19:01:40.582488Z",
     "shell.execute_reply": "2025-08-19T19:01:40.581329Z"
    },
    "papermill": {
     "duration": 0.021006,
     "end_time": "2025-08-19T19:01:40.583827",
     "exception": false,
     "start_time": "2025-08-19T19:01:40.562821",
     "status": "completed"
    },
    "tags": []
   },
   "outputs": [],
   "source": [
    "y_calib = y_calib.values.ravel().astype(int)"
   ]
  },
  {
   "cell_type": "code",
   "execution_count": 40,
   "id": "650fd033",
   "metadata": {
    "execution": {
     "iopub.execute_input": "2025-08-19T19:01:40.611581Z",
     "iopub.status.busy": "2025-08-19T19:01:40.610457Z",
     "iopub.status.idle": "2025-08-19T19:01:40.621253Z",
     "shell.execute_reply": "2025-08-19T19:01:40.619971Z"
    },
    "papermill": {
     "duration": 0.02486,
     "end_time": "2025-08-19T19:01:40.622925",
     "exception": false,
     "start_time": "2025-08-19T19:01:40.598065",
     "status": "completed"
    },
    "tags": []
   },
   "outputs": [],
   "source": [
    "from fairness_multiverse.conformal import compute_nc_scores\n",
    "\n",
    "# Compute nonconformity scores on calibration set (1 - probability of true class)\n",
    "nc_scores = compute_nc_scores(probs_calib, y_calib)"
   ]
  },
  {
   "cell_type": "code",
   "execution_count": 41,
   "id": "28ada44c",
   "metadata": {
    "execution": {
     "iopub.execute_input": "2025-08-19T19:01:40.654146Z",
     "iopub.status.busy": "2025-08-19T19:01:40.652956Z",
     "iopub.status.idle": "2025-08-19T19:01:40.662615Z",
     "shell.execute_reply": "2025-08-19T19:01:40.661336Z"
    },
    "papermill": {
     "duration": 0.024269,
     "end_time": "2025-08-19T19:01:40.664204",
     "exception": false,
     "start_time": "2025-08-19T19:01:40.639935",
     "status": "completed"
    },
    "tags": []
   },
   "outputs": [],
   "source": [
    "from fairness_multiverse.conformal import find_threshold\n",
    "\n",
    "# Find conformal threshold q_hat for the given alpha (split conformal method)\n",
    "q_hat = find_threshold(nc_scores, alpha)"
   ]
  },
  {
   "cell_type": "code",
   "execution_count": 42,
   "id": "df56469e",
   "metadata": {
    "execution": {
     "iopub.execute_input": "2025-08-19T19:01:40.693007Z",
     "iopub.status.busy": "2025-08-19T19:01:40.691809Z",
     "iopub.status.idle": "2025-08-19T19:01:40.701463Z",
     "shell.execute_reply": "2025-08-19T19:01:40.700159Z"
    },
    "papermill": {
     "duration": 0.023948,
     "end_time": "2025-08-19T19:01:40.702939",
     "exception": false,
     "start_time": "2025-08-19T19:01:40.678991",
     "status": "completed"
    },
    "tags": []
   },
   "outputs": [
    {
     "data": {
      "text/plain": [
       "0.6892180735665097"
      ]
     },
     "execution_count": 42,
     "metadata": {},
     "output_type": "execute_result"
    }
   ],
   "source": [
    "q_hat"
   ]
  },
  {
   "cell_type": "code",
   "execution_count": 43,
   "id": "aa1f5faa",
   "metadata": {
    "execution": {
     "iopub.execute_input": "2025-08-19T19:01:40.731633Z",
     "iopub.status.busy": "2025-08-19T19:01:40.730507Z",
     "iopub.status.idle": "2025-08-19T19:01:41.224420Z",
     "shell.execute_reply": "2025-08-19T19:01:41.223677Z"
    },
    "papermill": {
     "duration": 0.509619,
     "end_time": "2025-08-19T19:01:41.227141",
     "exception": false,
     "start_time": "2025-08-19T19:01:40.717522",
     "status": "completed"
    },
    "tags": []
   },
   "outputs": [],
   "source": [
    "from fairness_multiverse.conformal import predict_conformal_sets\n",
    "\n",
    "# Generate prediction sets for each test example\n",
    "pred_sets = predict_conformal_sets(model, X_test, q_hat)"
   ]
  },
  {
   "cell_type": "code",
   "execution_count": 44,
   "id": "97f67a6b",
   "metadata": {
    "execution": {
     "iopub.execute_input": "2025-08-19T19:01:41.269180Z",
     "iopub.status.busy": "2025-08-19T19:01:41.268306Z",
     "iopub.status.idle": "2025-08-19T19:01:41.276118Z",
     "shell.execute_reply": "2025-08-19T19:01:41.274645Z"
    },
    "papermill": {
     "duration": 0.024104,
     "end_time": "2025-08-19T19:01:41.277805",
     "exception": false,
     "start_time": "2025-08-19T19:01:41.253701",
     "status": "completed"
    },
    "tags": []
   },
   "outputs": [],
   "source": [
    "y_true = y_true.squeeze()"
   ]
  },
  {
   "cell_type": "code",
   "execution_count": 45,
   "id": "e700e9a7",
   "metadata": {
    "execution": {
     "iopub.execute_input": "2025-08-19T19:01:41.306323Z",
     "iopub.status.busy": "2025-08-19T19:01:41.305418Z",
     "iopub.status.idle": "2025-08-19T19:01:41.811068Z",
     "shell.execute_reply": "2025-08-19T19:01:41.810227Z"
    },
    "papermill": {
     "duration": 0.536275,
     "end_time": "2025-08-19T19:01:41.828846",
     "exception": false,
     "start_time": "2025-08-19T19:01:41.292571",
     "status": "completed"
    },
    "tags": []
   },
   "outputs": [],
   "source": [
    "from fairness_multiverse.conformal import evaluate_sets\n",
    "\n",
    "# Evaluate coverage and average set size on test data\n",
    "metrics = evaluate_sets(pred_sets, y_true)"
   ]
  },
  {
   "cell_type": "markdown",
   "id": "efbacec0",
   "metadata": {
    "papermill": {
     "duration": 0.011557,
     "end_time": "2025-08-19T19:01:41.858382",
     "exception": false,
     "start_time": "2025-08-19T19:01:41.846825",
     "status": "completed"
    },
    "tags": []
   },
   "source": [
    "# CP Metrics"
   ]
  },
  {
   "cell_type": "code",
   "execution_count": 46,
   "id": "9de55fb1",
   "metadata": {
    "execution": {
     "iopub.execute_input": "2025-08-19T19:01:41.883818Z",
     "iopub.status.busy": "2025-08-19T19:01:41.882920Z",
     "iopub.status.idle": "2025-08-19T19:01:41.890614Z",
     "shell.execute_reply": "2025-08-19T19:01:41.889577Z"
    },
    "papermill": {
     "duration": 0.021681,
     "end_time": "2025-08-19T19:01:41.891987",
     "exception": false,
     "start_time": "2025-08-19T19:01:41.870306",
     "status": "completed"
    },
    "tags": []
   },
   "outputs": [
    {
     "data": {
      "text/plain": [
       "{'coverage': 0.9119161743395385, 'avg_size': 1.2178798350239661}"
      ]
     },
     "execution_count": 46,
     "metadata": {},
     "output_type": "execute_result"
    }
   ],
   "source": [
    "metrics"
   ]
  },
  {
   "cell_type": "code",
   "execution_count": 47,
   "id": "64c340a1",
   "metadata": {
    "execution": {
     "iopub.execute_input": "2025-08-19T19:01:41.917450Z",
     "iopub.status.busy": "2025-08-19T19:01:41.917168Z",
     "iopub.status.idle": "2025-08-19T19:01:41.922296Z",
     "shell.execute_reply": "2025-08-19T19:01:41.921633Z"
    },
    "papermill": {
     "duration": 0.019008,
     "end_time": "2025-08-19T19:01:41.923591",
     "exception": false,
     "start_time": "2025-08-19T19:01:41.904583",
     "status": "completed"
    },
    "tags": []
   },
   "outputs": [],
   "source": [
    "example_universe = universe.copy()\n",
    "universe_training_year = example_universe.get(\"training_year\")\n",
    "universe_training_size = example_universe.get(\"training_size\")\n",
    "universe_scale = example_universe.get(\"scale\")\n",
    "universe_model = example_universe.get(\"model\")\n",
    "universe_exclude_features = example_universe.get(\"exclude_features\")\n",
    "universe_exclude_subgroups = example_universe.get(\"exclude_subgroups\")"
   ]
  },
  {
   "cell_type": "code",
   "execution_count": 48,
   "id": "dbb53cb4",
   "metadata": {
    "execution": {
     "iopub.execute_input": "2025-08-19T19:01:41.950011Z",
     "iopub.status.busy": "2025-08-19T19:01:41.949071Z",
     "iopub.status.idle": "2025-08-19T19:01:41.955518Z",
     "shell.execute_reply": "2025-08-19T19:01:41.954670Z"
    },
    "papermill": {
     "duration": 0.020263,
     "end_time": "2025-08-19T19:01:41.956681",
     "exception": false,
     "start_time": "2025-08-19T19:01:41.936418",
     "status": "completed"
    },
    "tags": []
   },
   "outputs": [],
   "source": [
    "cp_metrics_dict = {\n",
    "    \"universe_id\": [universe_id],\n",
    "    \"universe_training_year\": [universe_training_year],\n",
    "    \"universe_training_size\": [universe_training_size],\n",
    "    \"universe_scale\": [universe_scale],\n",
    "    \"universe_model\": [universe_model],\n",
    "    \"universe_exclude_features\": [universe_exclude_features],\n",
    "    \"universe_exclude_subgroups\": [universe_exclude_subgroups],\n",
    "    \"q_hat\": [q_hat],\n",
    "    \"coverage\": [metrics[\"coverage\"]],\n",
    "    \"avg_size\": [metrics[\"avg_size\"]],\n",
    "}"
   ]
  },
  {
   "cell_type": "code",
   "execution_count": 49,
   "id": "0d70d4b2",
   "metadata": {
    "execution": {
     "iopub.execute_input": "2025-08-19T19:01:41.984364Z",
     "iopub.status.busy": "2025-08-19T19:01:41.983953Z",
     "iopub.status.idle": "2025-08-19T19:01:41.989449Z",
     "shell.execute_reply": "2025-08-19T19:01:41.988774Z"
    },
    "papermill": {
     "duration": 0.019558,
     "end_time": "2025-08-19T19:01:41.990611",
     "exception": false,
     "start_time": "2025-08-19T19:01:41.971053",
     "status": "completed"
    },
    "tags": []
   },
   "outputs": [],
   "source": [
    "cp_metrics_df = pd.DataFrame(cp_metrics_dict)"
   ]
  },
  {
   "cell_type": "code",
   "execution_count": 50,
   "id": "b494403c",
   "metadata": {
    "execution": {
     "iopub.execute_input": "2025-08-19T19:01:42.016734Z",
     "iopub.status.busy": "2025-08-19T19:01:42.016273Z",
     "iopub.status.idle": "2025-08-19T19:01:42.029140Z",
     "shell.execute_reply": "2025-08-19T19:01:42.028391Z"
    },
    "papermill": {
     "duration": 0.027957,
     "end_time": "2025-08-19T19:01:42.030828",
     "exception": false,
     "start_time": "2025-08-19T19:01:42.002871",
     "status": "completed"
    },
    "tags": []
   },
   "outputs": [
    {
     "data": {
      "text/html": [
       "<div>\n",
       "<style scoped>\n",
       "    .dataframe tbody tr th:only-of-type {\n",
       "        vertical-align: middle;\n",
       "    }\n",
       "\n",
       "    .dataframe tbody tr th {\n",
       "        vertical-align: top;\n",
       "    }\n",
       "\n",
       "    .dataframe thead th {\n",
       "        text-align: right;\n",
       "    }\n",
       "</style>\n",
       "<table border=\"1\" class=\"dataframe\">\n",
       "  <thead>\n",
       "    <tr style=\"text-align: right;\">\n",
       "      <th></th>\n",
       "      <th>universe_id</th>\n",
       "      <th>universe_training_year</th>\n",
       "      <th>universe_training_size</th>\n",
       "      <th>universe_scale</th>\n",
       "      <th>universe_model</th>\n",
       "      <th>universe_exclude_features</th>\n",
       "      <th>universe_exclude_subgroups</th>\n",
       "      <th>q_hat</th>\n",
       "      <th>coverage</th>\n",
       "      <th>avg_size</th>\n",
       "    </tr>\n",
       "  </thead>\n",
       "  <tbody>\n",
       "    <tr>\n",
       "      <th>0</th>\n",
       "      <td>81748a1d026bd9091f7083285e1ef244</td>\n",
       "      <td>2012_14</td>\n",
       "      <td>1k</td>\n",
       "      <td>do-not-scale</td>\n",
       "      <td>penalized_logreg</td>\n",
       "      <td>nationality</td>\n",
       "      <td>drop-non-german</td>\n",
       "      <td>0.689218</td>\n",
       "      <td>0.911916</td>\n",
       "      <td>1.21788</td>\n",
       "    </tr>\n",
       "  </tbody>\n",
       "</table>\n",
       "</div>"
      ],
      "text/plain": [
       "                        universe_id universe_training_year  \\\n",
       "0  81748a1d026bd9091f7083285e1ef244                2012_14   \n",
       "\n",
       "  universe_training_size universe_scale    universe_model  \\\n",
       "0                     1k   do-not-scale  penalized_logreg   \n",
       "\n",
       "  universe_exclude_features universe_exclude_subgroups     q_hat  coverage  \\\n",
       "0               nationality            drop-non-german  0.689218  0.911916   \n",
       "\n",
       "   avg_size  \n",
       "0   1.21788  "
      ]
     },
     "execution_count": 50,
     "metadata": {},
     "output_type": "execute_result"
    }
   ],
   "source": [
    "cp_metrics_df"
   ]
  },
  {
   "cell_type": "markdown",
   "id": "ed608b0b",
   "metadata": {
    "papermill": {
     "duration": 0.014489,
     "end_time": "2025-08-19T19:01:42.060923",
     "exception": false,
     "start_time": "2025-08-19T19:01:42.046434",
     "status": "completed"
    },
    "tags": []
   },
   "source": [
    "Conditional coverage & looking at subgroups"
   ]
  },
  {
   "cell_type": "code",
   "execution_count": 51,
   "id": "8968c366",
   "metadata": {
    "execution": {
     "iopub.execute_input": "2025-08-19T19:01:42.086234Z",
     "iopub.status.busy": "2025-08-19T19:01:42.085700Z",
     "iopub.status.idle": "2025-08-19T19:01:42.327919Z",
     "shell.execute_reply": "2025-08-19T19:01:42.327189Z"
    },
    "papermill": {
     "duration": 0.256615,
     "end_time": "2025-08-19T19:01:42.329397",
     "exception": false,
     "start_time": "2025-08-19T19:01:42.072782",
     "status": "completed"
    },
    "tags": []
   },
   "outputs": [],
   "source": [
    "from fairness_multiverse.conformal import build_cp_groups\n",
    "\n",
    "cp_groups_df = build_cp_groups(pred_sets, y_true, X_test.index, org_test)"
   ]
  },
  {
   "cell_type": "code",
   "execution_count": 52,
   "id": "292ddabf",
   "metadata": {
    "execution": {
     "iopub.execute_input": "2025-08-19T19:01:42.357468Z",
     "iopub.status.busy": "2025-08-19T19:01:42.356150Z",
     "iopub.status.idle": "2025-08-19T19:01:43.207418Z",
     "shell.execute_reply": "2025-08-19T19:01:43.206316Z"
    },
    "papermill": {
     "duration": 0.86801,
     "end_time": "2025-08-19T19:01:43.210250",
     "exception": false,
     "start_time": "2025-08-19T19:01:42.342240",
     "status": "completed"
    },
    "tags": []
   },
   "outputs": [],
   "source": [
    "# Define covered = 1 if true_label is in the predicted set\n",
    "cp_groups_df['covered'] = cp_groups_df.apply(\n",
    "    lambda r: int(r['true_label'] in r['pred_set']),\n",
    "    axis=1\n",
    ")"
   ]
  },
  {
   "cell_type": "code",
   "execution_count": 53,
   "id": "3a261692",
   "metadata": {
    "execution": {
     "iopub.execute_input": "2025-08-19T19:01:43.254503Z",
     "iopub.status.busy": "2025-08-19T19:01:43.253697Z",
     "iopub.status.idle": "2025-08-19T19:01:43.274566Z",
     "shell.execute_reply": "2025-08-19T19:01:43.273699Z"
    },
    "papermill": {
     "duration": 0.039376,
     "end_time": "2025-08-19T19:01:43.277135",
     "exception": false,
     "start_time": "2025-08-19T19:01:43.237759",
     "status": "completed"
    },
    "tags": []
   },
   "outputs": [],
   "source": [
    "subgroups = ['frau1','nongerman','nongerman_male','nongerman_female']\n",
    "\n",
    "# Conditional coverage for subgroup==1\n",
    "cond_coverage = {\n",
    "    g: cp_groups_df.loc[cp_groups_df[g]==1, 'covered'].mean()\n",
    "    for g in subgroups\n",
    "}"
   ]
  },
  {
   "cell_type": "code",
   "execution_count": 54,
   "id": "894fd600",
   "metadata": {
    "execution": {
     "iopub.execute_input": "2025-08-19T19:01:43.329902Z",
     "iopub.status.busy": "2025-08-19T19:01:43.328844Z",
     "iopub.status.idle": "2025-08-19T19:01:43.336488Z",
     "shell.execute_reply": "2025-08-19T19:01:43.335689Z"
    },
    "papermill": {
     "duration": 0.043725,
     "end_time": "2025-08-19T19:01:43.340696",
     "exception": false,
     "start_time": "2025-08-19T19:01:43.296971",
     "status": "completed"
    },
    "tags": []
   },
   "outputs": [
    {
     "data": {
      "text/plain": [
       "{'frau1': 0.9109853079929909,\n",
       " 'nongerman': 0.9345983270645034,\n",
       " 'nongerman_male': 0.9462307484463659,\n",
       " 'nongerman_female': 0.9153502235469448}"
      ]
     },
     "execution_count": 54,
     "metadata": {},
     "output_type": "execute_result"
    }
   ],
   "source": [
    "cond_coverage"
   ]
  },
  {
   "cell_type": "code",
   "execution_count": 55,
   "id": "942895c7",
   "metadata": {
    "execution": {
     "iopub.execute_input": "2025-08-19T19:01:43.370521Z",
     "iopub.status.busy": "2025-08-19T19:01:43.370094Z",
     "iopub.status.idle": "2025-08-19T19:01:43.377395Z",
     "shell.execute_reply": "2025-08-19T19:01:43.376503Z"
    },
    "papermill": {
     "duration": 0.021454,
     "end_time": "2025-08-19T19:01:43.378635",
     "exception": false,
     "start_time": "2025-08-19T19:01:43.357181",
     "status": "completed"
    },
    "tags": []
   },
   "outputs": [],
   "source": [
    "for subgroup, cov in cond_coverage.items():\n",
    "    cp_metrics_df[f\"cov_{subgroup}\"] = cov"
   ]
  },
  {
   "cell_type": "code",
   "execution_count": 56,
   "id": "3970120f",
   "metadata": {
    "execution": {
     "iopub.execute_input": "2025-08-19T19:01:43.404447Z",
     "iopub.status.busy": "2025-08-19T19:01:43.404044Z",
     "iopub.status.idle": "2025-08-19T19:01:43.420609Z",
     "shell.execute_reply": "2025-08-19T19:01:43.419005Z"
    },
    "papermill": {
     "duration": 0.030998,
     "end_time": "2025-08-19T19:01:43.421928",
     "exception": false,
     "start_time": "2025-08-19T19:01:43.390930",
     "status": "completed"
    },
    "tags": []
   },
   "outputs": [
    {
     "data": {
      "text/html": [
       "<div>\n",
       "<style scoped>\n",
       "    .dataframe tbody tr th:only-of-type {\n",
       "        vertical-align: middle;\n",
       "    }\n",
       "\n",
       "    .dataframe tbody tr th {\n",
       "        vertical-align: top;\n",
       "    }\n",
       "\n",
       "    .dataframe thead th {\n",
       "        text-align: right;\n",
       "    }\n",
       "</style>\n",
       "<table border=\"1\" class=\"dataframe\">\n",
       "  <thead>\n",
       "    <tr style=\"text-align: right;\">\n",
       "      <th></th>\n",
       "      <th>universe_id</th>\n",
       "      <th>universe_training_year</th>\n",
       "      <th>universe_training_size</th>\n",
       "      <th>universe_scale</th>\n",
       "      <th>universe_model</th>\n",
       "      <th>universe_exclude_features</th>\n",
       "      <th>universe_exclude_subgroups</th>\n",
       "      <th>q_hat</th>\n",
       "      <th>coverage</th>\n",
       "      <th>avg_size</th>\n",
       "      <th>cov_frau1</th>\n",
       "      <th>cov_nongerman</th>\n",
       "      <th>cov_nongerman_male</th>\n",
       "      <th>cov_nongerman_female</th>\n",
       "    </tr>\n",
       "  </thead>\n",
       "  <tbody>\n",
       "    <tr>\n",
       "      <th>0</th>\n",
       "      <td>81748a1d026bd9091f7083285e1ef244</td>\n",
       "      <td>2012_14</td>\n",
       "      <td>1k</td>\n",
       "      <td>do-not-scale</td>\n",
       "      <td>penalized_logreg</td>\n",
       "      <td>nationality</td>\n",
       "      <td>drop-non-german</td>\n",
       "      <td>0.689218</td>\n",
       "      <td>0.911916</td>\n",
       "      <td>1.21788</td>\n",
       "      <td>0.910985</td>\n",
       "      <td>0.934598</td>\n",
       "      <td>0.946231</td>\n",
       "      <td>0.91535</td>\n",
       "    </tr>\n",
       "  </tbody>\n",
       "</table>\n",
       "</div>"
      ],
      "text/plain": [
       "                        universe_id universe_training_year  \\\n",
       "0  81748a1d026bd9091f7083285e1ef244                2012_14   \n",
       "\n",
       "  universe_training_size universe_scale    universe_model  \\\n",
       "0                     1k   do-not-scale  penalized_logreg   \n",
       "\n",
       "  universe_exclude_features universe_exclude_subgroups     q_hat  coverage  \\\n",
       "0               nationality            drop-non-german  0.689218  0.911916   \n",
       "\n",
       "   avg_size  cov_frau1  cov_nongerman  cov_nongerman_male  \\\n",
       "0   1.21788   0.910985       0.934598            0.946231   \n",
       "\n",
       "   cov_nongerman_female  \n",
       "0               0.91535  "
      ]
     },
     "execution_count": 56,
     "metadata": {},
     "output_type": "execute_result"
    }
   ],
   "source": [
    "cp_metrics_df"
   ]
  },
  {
   "cell_type": "markdown",
   "id": "3fc519cc",
   "metadata": {
    "papermill": {
     "duration": 0.012201,
     "end_time": "2025-08-19T19:01:43.448144",
     "exception": false,
     "start_time": "2025-08-19T19:01:43.435943",
     "status": "completed"
    },
    "tags": []
   },
   "source": [
    "# (Fairness) Metrics"
   ]
  },
  {
   "cell_type": "code",
   "execution_count": 57,
   "id": "a2e5e155",
   "metadata": {
    "execution": {
     "iopub.execute_input": "2025-08-19T19:01:43.475107Z",
     "iopub.status.busy": "2025-08-19T19:01:43.473950Z",
     "iopub.status.idle": "2025-08-19T19:01:43.499865Z",
     "shell.execute_reply": "2025-08-19T19:01:43.499015Z"
    },
    "papermill": {
     "duration": 0.041268,
     "end_time": "2025-08-19T19:01:43.501566",
     "exception": false,
     "start_time": "2025-08-19T19:01:43.460298",
     "status": "completed"
    },
    "tags": []
   },
   "outputs": [],
   "source": [
    "colname_to_bin = \"maxdeutsch1\"\n",
    "majority_value = org_train[colname_to_bin].mode()[0]\n",
    "\n",
    "org_test[\"majmin\"] = np.where(org_test[colname_to_bin] == majority_value, \"majority\", \"minority\")"
   ]
  },
  {
   "cell_type": "code",
   "execution_count": 58,
   "id": "17e3e4d5",
   "metadata": {
    "execution": {
     "iopub.execute_input": "2025-08-19T19:01:43.542711Z",
     "iopub.status.busy": "2025-08-19T19:01:43.541590Z",
     "iopub.status.idle": "2025-08-19T19:01:45.245058Z",
     "shell.execute_reply": "2025-08-19T19:01:45.244370Z"
    },
    "papermill": {
     "duration": 1.721348,
     "end_time": "2025-08-19T19:01:45.247685",
     "exception": false,
     "start_time": "2025-08-19T19:01:43.526337",
     "status": "completed"
    },
    "tags": []
   },
   "outputs": [],
   "source": [
    "example_universe = universe.copy()\n",
    "example_universe[\"cutoff\"] = example_universe[\"cutoff\"][0]\n",
    "example_universe[\"eval_fairness_grouping\"] = example_universe[\"eval_fairness_grouping\"][0]\n",
    "fairness_dict, metric_frame = universe_analysis.compute_metrics(\n",
    "    example_universe,\n",
    "    y_pred_prob=probs_test,\n",
    "    y_test=y_true,\n",
    "    org_test=org_test,\n",
    ")"
   ]
  },
  {
   "cell_type": "markdown",
   "id": "1fb7a0e9",
   "metadata": {
    "papermill": {
     "duration": 0.014034,
     "end_time": "2025-08-19T19:01:45.290138",
     "exception": false,
     "start_time": "2025-08-19T19:01:45.276104",
     "status": "completed"
    },
    "tags": []
   },
   "source": [
    "# Overall"
   ]
  },
  {
   "cell_type": "markdown",
   "id": "be1784b1",
   "metadata": {
    "papermill": {
     "duration": 0.012355,
     "end_time": "2025-08-19T19:01:45.314959",
     "exception": false,
     "start_time": "2025-08-19T19:01:45.302604",
     "status": "completed"
    },
    "tags": []
   },
   "source": [
    "Main fairness target: Equalized Odds. Seems to be a better fit than equal opportunity, since we're not only interested in Y = 1. Seems to be a better fit than demographic parity, since we also care about accuracy, not just equal distribution of preds.\n",
    "\n",
    "Pick column for computation of fairness metrics\n",
    "\n",
    "Performance\n",
    "Overall performance measures, most interesting in relation to the measures split by group below"
   ]
  },
  {
   "cell_type": "code",
   "execution_count": 59,
   "id": "b7672bee",
   "metadata": {
    "execution": {
     "iopub.execute_input": "2025-08-19T19:01:45.341669Z",
     "iopub.status.busy": "2025-08-19T19:01:45.341177Z",
     "iopub.status.idle": "2025-08-19T19:01:45.350449Z",
     "shell.execute_reply": "2025-08-19T19:01:45.347342Z"
    },
    "papermill": {
     "duration": 0.023977,
     "end_time": "2025-08-19T19:01:45.351782",
     "exception": false,
     "start_time": "2025-08-19T19:01:45.327805",
     "status": "completed"
    },
    "tags": []
   },
   "outputs": [
    {
     "data": {
      "text/plain": [
       "accuracy                   0.212719\n",
       "balanced accuracy          0.522568\n",
       "f1                         0.234371\n",
       "precision                  0.133888\n",
       "false positive rate        0.894210\n",
       "false negative rate        0.060653\n",
       "selection rate             0.900000\n",
       "count                  89710.000000\n",
       "dtype: float64"
      ]
     },
     "execution_count": 59,
     "metadata": {},
     "output_type": "execute_result"
    }
   ],
   "source": [
    "metric_frame.overall"
   ]
  },
  {
   "cell_type": "markdown",
   "id": "d93333c9",
   "metadata": {
    "papermill": {
     "duration": 0.013003,
     "end_time": "2025-08-19T19:01:45.380111",
     "exception": false,
     "start_time": "2025-08-19T19:01:45.367108",
     "status": "completed"
    },
    "tags": []
   },
   "source": [
    "By Group"
   ]
  },
  {
   "cell_type": "code",
   "execution_count": 60,
   "id": "52256966",
   "metadata": {
    "execution": {
     "iopub.execute_input": "2025-08-19T19:01:45.406023Z",
     "iopub.status.busy": "2025-08-19T19:01:45.405725Z",
     "iopub.status.idle": "2025-08-19T19:01:45.420504Z",
     "shell.execute_reply": "2025-08-19T19:01:45.418387Z"
    },
    "papermill": {
     "duration": 0.032416,
     "end_time": "2025-08-19T19:01:45.424881",
     "exception": false,
     "start_time": "2025-08-19T19:01:45.392465",
     "status": "completed"
    },
    "tags": []
   },
   "outputs": [
    {
     "data": {
      "text/html": [
       "<div>\n",
       "<style scoped>\n",
       "    .dataframe tbody tr th:only-of-type {\n",
       "        vertical-align: middle;\n",
       "    }\n",
       "\n",
       "    .dataframe tbody tr th {\n",
       "        vertical-align: top;\n",
       "    }\n",
       "\n",
       "    .dataframe thead th {\n",
       "        text-align: right;\n",
       "    }\n",
       "</style>\n",
       "<table border=\"1\" class=\"dataframe\">\n",
       "  <thead>\n",
       "    <tr style=\"text-align: right;\">\n",
       "      <th></th>\n",
       "      <th>accuracy</th>\n",
       "      <th>balanced accuracy</th>\n",
       "      <th>f1</th>\n",
       "      <th>precision</th>\n",
       "      <th>false positive rate</th>\n",
       "      <th>false negative rate</th>\n",
       "      <th>selection rate</th>\n",
       "      <th>count</th>\n",
       "    </tr>\n",
       "    <tr>\n",
       "      <th>majmin</th>\n",
       "      <th></th>\n",
       "      <th></th>\n",
       "      <th></th>\n",
       "      <th></th>\n",
       "      <th></th>\n",
       "      <th></th>\n",
       "      <th></th>\n",
       "      <th></th>\n",
       "    </tr>\n",
       "  </thead>\n",
       "  <tbody>\n",
       "    <tr>\n",
       "      <th>majority</th>\n",
       "      <td>0.231271</td>\n",
       "      <td>0.527201</td>\n",
       "      <td>0.242150</td>\n",
       "      <td>0.139210</td>\n",
       "      <td>0.875029</td>\n",
       "      <td>0.070569</td>\n",
       "      <td>0.882218</td>\n",
       "      <td>69170.0</td>\n",
       "    </tr>\n",
       "    <tr>\n",
       "      <th>minority</th>\n",
       "      <td>0.150243</td>\n",
       "      <td>0.510023</td>\n",
       "      <td>0.209654</td>\n",
       "      <td>0.117417</td>\n",
       "      <td>0.957572</td>\n",
       "      <td>0.022382</td>\n",
       "      <td>0.959883</td>\n",
       "      <td>20540.0</td>\n",
       "    </tr>\n",
       "  </tbody>\n",
       "</table>\n",
       "</div>"
      ],
      "text/plain": [
       "          accuracy  balanced accuracy        f1  precision  \\\n",
       "majmin                                                       \n",
       "majority  0.231271           0.527201  0.242150   0.139210   \n",
       "minority  0.150243           0.510023  0.209654   0.117417   \n",
       "\n",
       "          false positive rate  false negative rate  selection rate    count  \n",
       "majmin                                                                       \n",
       "majority             0.875029             0.070569        0.882218  69170.0  \n",
       "minority             0.957572             0.022382        0.959883  20540.0  "
      ]
     },
     "execution_count": 60,
     "metadata": {},
     "output_type": "execute_result"
    }
   ],
   "source": [
    "metric_frame.by_group"
   ]
  },
  {
   "cell_type": "code",
   "execution_count": 61,
   "id": "6e6c20ae",
   "metadata": {
    "execution": {
     "iopub.execute_input": "2025-08-19T19:01:45.462764Z",
     "iopub.status.busy": "2025-08-19T19:01:45.462252Z",
     "iopub.status.idle": "2025-08-19T19:01:47.475861Z",
     "shell.execute_reply": "2025-08-19T19:01:47.474987Z"
    },
    "papermill": {
     "duration": 2.029435,
     "end_time": "2025-08-19T19:01:47.477317",
     "exception": false,
     "start_time": "2025-08-19T19:01:45.447882",
     "status": "completed"
    },
    "tags": []
   },
   "outputs": [
    {
     "data": {
      "text/plain": [
       "array([[<Axes: title={'center': 'accuracy'}, xlabel='majmin'>,\n",
       "        <Axes: title={'center': 'balanced accuracy'}, xlabel='majmin'>,\n",
       "        <Axes: title={'center': 'f1'}, xlabel='majmin'>],\n",
       "       [<Axes: title={'center': 'precision'}, xlabel='majmin'>,\n",
       "        <Axes: title={'center': 'false positive rate'}, xlabel='majmin'>,\n",
       "        <Axes: title={'center': 'false negative rate'}, xlabel='majmin'>],\n",
       "       [<Axes: title={'center': 'selection rate'}, xlabel='majmin'>,\n",
       "        <Axes: title={'center': 'count'}, xlabel='majmin'>,\n",
       "        <Axes: xlabel='majmin'>]], dtype=object)"
      ]
     },
     "execution_count": 61,
     "metadata": {},
     "output_type": "execute_result"
    },
    {
     "data": {
      "image/png": "[encoded data removed]",
      "text/plain": [
       "<Figure size 1200x800 with 9 Axes>"
      ]
     },
     "metadata": {},
     "output_type": "display_data"
    }
   ],
   "source": [
    "# In a graphic\n",
    "metric_frame.by_group.plot.bar(\n",
    "    subplots=True,\n",
    "    layout=[3, 3],\n",
    "    legend=False,\n",
    "    figsize=[12, 8],\n",
    "    title=\"Show all metrics\",\n",
    ")"
   ]
  },
  {
   "cell_type": "markdown",
   "id": "b2e433ae",
   "metadata": {
    "papermill": {
     "duration": 0.015418,
     "end_time": "2025-08-19T19:01:47.507710",
     "exception": false,
     "start_time": "2025-08-19T19:01:47.492292",
     "status": "completed"
    },
    "tags": []
   },
   "source": [
    "# Final Output"
   ]
  },
  {
   "cell_type": "code",
   "execution_count": 62,
   "id": "3871301e",
   "metadata": {
    "execution": {
     "iopub.execute_input": "2025-08-19T19:01:47.537019Z",
     "iopub.status.busy": "2025-08-19T19:01:47.536249Z",
     "iopub.status.idle": "2025-08-19T19:01:47.546474Z",
     "shell.execute_reply": "2025-08-19T19:01:47.545423Z"
    },
    "papermill": {
     "duration": 0.030821,
     "end_time": "2025-08-19T19:01:47.552160",
     "exception": false,
     "start_time": "2025-08-19T19:01:47.521339",
     "status": "completed"
    },
    "tags": []
   },
   "outputs": [
    {
     "data": {
      "text/plain": [
       "4"
      ]
     },
     "execution_count": 62,
     "metadata": {},
     "output_type": "execute_result"
    }
   ],
   "source": [
    "sub_universes = universe_analysis.generate_sub_universes()\n",
    "len(sub_universes)"
   ]
  },
  {
   "cell_type": "code",
   "execution_count": 63,
   "id": "d9cfdaca",
   "metadata": {
    "execution": {
     "iopub.execute_input": "2025-08-19T19:01:47.592744Z",
     "iopub.status.busy": "2025-08-19T19:01:47.591301Z",
     "iopub.status.idle": "2025-08-19T19:01:47.599573Z",
     "shell.execute_reply": "2025-08-19T19:01:47.598295Z"
    },
    "papermill": {
     "duration": 0.025306,
     "end_time": "2025-08-19T19:01:47.601333",
     "exception": false,
     "start_time": "2025-08-19T19:01:47.576027",
     "status": "completed"
    },
    "tags": []
   },
   "outputs": [],
   "source": [
    "def filter_sub_universe_data(sub_universe, org_test):\n",
    "    # Keep all rows — no filtering\n",
    "    keep_rows_mask = np.ones(org_test.shape[0], dtype=bool)\n",
    "\n",
    "    print(f\"[INFO] Keeping all rows: {keep_rows_mask.sum()} rows retained.\")\n",
    "    return keep_rows_mask"
   ]
  },
  {
   "cell_type": "code",
   "execution_count": 64,
   "id": "2bc31ac1",
   "metadata": {
    "execution": {
     "iopub.execute_input": "2025-08-19T19:01:47.635077Z",
     "iopub.status.busy": "2025-08-19T19:01:47.633775Z",
     "iopub.status.idle": "2025-08-19T19:01:54.533833Z",
     "shell.execute_reply": "2025-08-19T19:01:54.532852Z"
    },
    "papermill": {
     "duration": 6.91745,
     "end_time": "2025-08-19T19:01:54.535342",
     "exception": false,
     "start_time": "2025-08-19T19:01:47.617892",
     "status": "completed"
    },
    "tags": []
   },
   "outputs": [
    {
     "name": "stdout",
     "output_type": "stream",
     "text": [
      "Stopping execution_time clock.\n",
      "[INFO] Keeping all rows: 89710 rows retained.\n"
     ]
    },
    {
     "name": "stdout",
     "output_type": "stream",
     "text": [
      "[INFO] Keeping all rows: 89710 rows retained.\n"
     ]
    },
    {
     "name": "stdout",
     "output_type": "stream",
     "text": [
      "[INFO] Keeping all rows: 89710 rows retained.\n"
     ]
    },
    {
     "name": "stdout",
     "output_type": "stream",
     "text": [
      "[INFO] Keeping all rows: 89710 rows retained.\n"
     ]
    },
    {
     "data": {
      "text/html": [
       "<div>\n",
       "<style scoped>\n",
       "    .dataframe tbody tr th:only-of-type {\n",
       "        vertical-align: middle;\n",
       "    }\n",
       "\n",
       "    .dataframe tbody tr th {\n",
       "        vertical-align: top;\n",
       "    }\n",
       "\n",
       "    .dataframe thead th {\n",
       "        text-align: right;\n",
       "    }\n",
       "</style>\n",
       "<table border=\"1\" class=\"dataframe\">\n",
       "  <thead>\n",
       "    <tr style=\"text-align: right;\">\n",
       "      <th></th>\n",
       "      <th>run_no</th>\n",
       "      <th>universe_id</th>\n",
       "      <th>universe_settings</th>\n",
       "      <th>execution_time</th>\n",
       "      <th>test_size_n</th>\n",
       "      <th>test_size_frac</th>\n",
       "      <th>fair_main_equalized_odds_difference</th>\n",
       "      <th>fair_main_equalized_odds_ratio</th>\n",
       "      <th>fair_main_demographic_parity_difference</th>\n",
       "      <th>fair_main_demographic_parity_ratio</th>\n",
       "      <th>...</th>\n",
       "      <th>perf_grp_precision_0</th>\n",
       "      <th>perf_grp_precision_1</th>\n",
       "      <th>perf_grp_false positive rate_0</th>\n",
       "      <th>perf_grp_false positive rate_1</th>\n",
       "      <th>perf_grp_false negative rate_0</th>\n",
       "      <th>perf_grp_false negative rate_1</th>\n",
       "      <th>perf_grp_selection rate_0</th>\n",
       "      <th>perf_grp_selection rate_1</th>\n",
       "      <th>perf_grp_count_0</th>\n",
       "      <th>perf_grp_count_1</th>\n",
       "    </tr>\n",
       "  </thead>\n",
       "  <tbody>\n",
       "    <tr>\n",
       "      <th>0</th>\n",
       "      <td>3</td>\n",
       "      <td>81748a1d026bd9091f7083285e1ef244</td>\n",
       "      <td>{\"cutoff\": \"quantile_0.1\", \"eval_fairness_grou...</td>\n",
       "      <td>20.796627</td>\n",
       "      <td>89710</td>\n",
       "      <td>1.0</td>\n",
       "      <td>0.082543</td>\n",
       "      <td>0.913800</td>\n",
       "      <td>0.077665</td>\n",
       "      <td>0.919089</td>\n",
       "      <td>...</td>\n",
       "      <td>NaN</td>\n",
       "      <td>NaN</td>\n",
       "      <td>NaN</td>\n",
       "      <td>NaN</td>\n",
       "      <td>NaN</td>\n",
       "      <td>NaN</td>\n",
       "      <td>NaN</td>\n",
       "      <td>NaN</td>\n",
       "      <td>NaN</td>\n",
       "      <td>NaN</td>\n",
       "    </tr>\n",
       "    <tr>\n",
       "      <th>0</th>\n",
       "      <td>3</td>\n",
       "      <td>81748a1d026bd9091f7083285e1ef244</td>\n",
       "      <td>{\"cutoff\": \"quantile_0.1\", \"eval_fairness_grou...</td>\n",
       "      <td>20.796627</td>\n",
       "      <td>89710</td>\n",
       "      <td>1.0</td>\n",
       "      <td>0.082543</td>\n",
       "      <td>0.913800</td>\n",
       "      <td>0.077665</td>\n",
       "      <td>0.919089</td>\n",
       "      <td>...</td>\n",
       "      <td>0.117417</td>\n",
       "      <td>0.139210</td>\n",
       "      <td>0.957572</td>\n",
       "      <td>0.875029</td>\n",
       "      <td>0.022382</td>\n",
       "      <td>0.070569</td>\n",
       "      <td>0.959883</td>\n",
       "      <td>0.882218</td>\n",
       "      <td>20540.0</td>\n",
       "      <td>69170.0</td>\n",
       "    </tr>\n",
       "    <tr>\n",
       "      <th>0</th>\n",
       "      <td>3</td>\n",
       "      <td>81748a1d026bd9091f7083285e1ef244</td>\n",
       "      <td>{\"cutoff\": \"quantile_0.25\", \"eval_fairness_gro...</td>\n",
       "      <td>20.796627</td>\n",
       "      <td>89710</td>\n",
       "      <td>1.0</td>\n",
       "      <td>0.204788</td>\n",
       "      <td>0.770227</td>\n",
       "      <td>0.189877</td>\n",
       "      <td>0.788178</td>\n",
       "      <td>...</td>\n",
       "      <td>NaN</td>\n",
       "      <td>NaN</td>\n",
       "      <td>NaN</td>\n",
       "      <td>NaN</td>\n",
       "      <td>NaN</td>\n",
       "      <td>NaN</td>\n",
       "      <td>NaN</td>\n",
       "      <td>NaN</td>\n",
       "      <td>NaN</td>\n",
       "      <td>NaN</td>\n",
       "    </tr>\n",
       "    <tr>\n",
       "      <th>0</th>\n",
       "      <td>3</td>\n",
       "      <td>81748a1d026bd9091f7083285e1ef244</td>\n",
       "      <td>{\"cutoff\": \"quantile_0.25\", \"eval_fairness_gro...</td>\n",
       "      <td>20.796627</td>\n",
       "      <td>89710</td>\n",
       "      <td>1.0</td>\n",
       "      <td>0.204788</td>\n",
       "      <td>0.770227</td>\n",
       "      <td>0.189877</td>\n",
       "      <td>0.788178</td>\n",
       "      <td>...</td>\n",
       "      <td>0.120356</td>\n",
       "      <td>0.156763</td>\n",
       "      <td>0.891261</td>\n",
       "      <td>0.686473</td>\n",
       "      <td>0.064189</td>\n",
       "      <td>0.161816</td>\n",
       "      <td>0.896397</td>\n",
       "      <td>0.706520</td>\n",
       "      <td>20540.0</td>\n",
       "      <td>69170.0</td>\n",
       "    </tr>\n",
       "  </tbody>\n",
       "</table>\n",
       "<p>4 rows × 50 columns</p>\n",
       "</div>"
      ],
      "text/plain": [
       "  run_no                       universe_id  \\\n",
       "0      3  81748a1d026bd9091f7083285e1ef244   \n",
       "0      3  81748a1d026bd9091f7083285e1ef244   \n",
       "0      3  81748a1d026bd9091f7083285e1ef244   \n",
       "0      3  81748a1d026bd9091f7083285e1ef244   \n",
       "\n",
       "                                   universe_settings  execution_time  \\\n",
       "0  {\"cutoff\": \"quantile_0.1\", \"eval_fairness_grou...       20.796627   \n",
       "0  {\"cutoff\": \"quantile_0.1\", \"eval_fairness_grou...       20.796627   \n",
       "0  {\"cutoff\": \"quantile_0.25\", \"eval_fairness_gro...       20.796627   \n",
       "0  {\"cutoff\": \"quantile_0.25\", \"eval_fairness_gro...       20.796627   \n",
       "\n",
       "   test_size_n  test_size_frac  fair_main_equalized_odds_difference  \\\n",
       "0        89710             1.0                             0.082543   \n",
       "0        89710             1.0                             0.082543   \n",
       "0        89710             1.0                             0.204788   \n",
       "0        89710             1.0                             0.204788   \n",
       "\n",
       "   fair_main_equalized_odds_ratio  fair_main_demographic_parity_difference  \\\n",
       "0                        0.913800                                 0.077665   \n",
       "0                        0.913800                                 0.077665   \n",
       "0                        0.770227                                 0.189877   \n",
       "0                        0.770227                                 0.189877   \n",
       "\n",
       "   fair_main_demographic_parity_ratio  ...  perf_grp_precision_0  \\\n",
       "0                            0.919089  ...                   NaN   \n",
       "0                            0.919089  ...              0.117417   \n",
       "0                            0.788178  ...                   NaN   \n",
       "0                            0.788178  ...              0.120356   \n",
       "\n",
       "   perf_grp_precision_1  perf_grp_false positive rate_0  \\\n",
       "0                   NaN                             NaN   \n",
       "0              0.139210                        0.957572   \n",
       "0                   NaN                             NaN   \n",
       "0              0.156763                        0.891261   \n",
       "\n",
       "   perf_grp_false positive rate_1  perf_grp_false negative rate_0  \\\n",
       "0                             NaN                             NaN   \n",
       "0                        0.875029                        0.022382   \n",
       "0                             NaN                             NaN   \n",
       "0                        0.686473                        0.064189   \n",
       "\n",
       "   perf_grp_false negative rate_1  perf_grp_selection rate_0  \\\n",
       "0                             NaN                        NaN   \n",
       "0                        0.070569                   0.959883   \n",
       "0                             NaN                        NaN   \n",
       "0                        0.161816                   0.896397   \n",
       "\n",
       "   perf_grp_selection rate_1  perf_grp_count_0  perf_grp_count_1  \n",
       "0                        NaN               NaN               NaN  \n",
       "0                   0.882218           20540.0           69170.0  \n",
       "0                        NaN               NaN               NaN  \n",
       "0                   0.706520           20540.0           69170.0  \n",
       "\n",
       "[4 rows x 50 columns]"
      ]
     },
     "execution_count": 64,
     "metadata": {},
     "output_type": "execute_result"
    }
   ],
   "source": [
    "final_output = universe_analysis.generate_final_output(\n",
    "    y_pred_prob=probs_test,\n",
    "    y_test=y_true,\n",
    "    org_test=org_test,\n",
    "    filter_data=filter_sub_universe_data,\n",
    "    cp_metrics_df=cp_metrics_df,\n",
    "    save=True,\n",
    ")\n",
    "final_output"
   ]
  },
  {
   "cell_type": "code",
   "execution_count": null,
   "id": "8b80a1ff",
   "metadata": {
    "papermill": {
     "duration": 0.017505,
     "end_time": "2025-08-19T19:01:54.575861",
     "exception": false,
     "start_time": "2025-08-19T19:01:54.558356",
     "status": "completed"
    },
    "tags": []
   },
   "outputs": [],
   "source": []
  },
  {
   "cell_type": "code",
   "execution_count": null,
   "id": "275c9fad",
   "metadata": {
    "papermill": {
     "duration": 0.014867,
     "end_time": "2025-08-19T19:01:54.606407",
     "exception": false,
     "start_time": "2025-08-19T19:01:54.591540",
     "status": "completed"
    },
    "tags": []
   },
   "outputs": [],
   "source": []
  }
 ],
 "metadata": {
  "celltoolbar": "Tags",
  "kernelspec": {
   "display_name": "Python (CMA Fairness)",
   "language": "python",
   "name": "cma_fair_env"
  },
  "language_info": {
   "codemirror_mode": {
    "name": "ipython",
    "version": 3
   },
   "file_extension": ".py",
   "mimetype": "text/x-python",
   "name": "python",
   "nbconvert_exporter": "python",
   "pygments_lexer": "ipython3",
   "version": "3.10.12"
  },
  "papermill": {
   "default_parameters": {},
   "duration": 31.186182,
   "end_time": "2025-08-19T19:01:55.446212",
   "environment_variables": {},
   "exception": null,
   "input_path": "universe_analysis.ipynb",
   "output_path": "output/runs/3/notebooks/m_3-81748a1d026bd9091f7083285e1ef244.ipynb",
   "parameters": {
    "output_dir": "output",
    "run_no": "3",
    "seed": "2023",
    "universe": "{\"cutoff\": [\"quantile_0.1\", \"quantile_0.25\"], \"eval_fairness_grouping\": [\"majority-minority\", \"nationality-all\"], \"exclude_features\": \"nationality\", \"exclude_subgroups\": \"drop-non-german\", \"model\": \"penalized_logreg\", \"scale\": \"do-not-scale\", \"training_size\": \"1k\", \"training_year\": \"2012_14\"}",
    "universe_id": "81748a1d026bd9091f7083285e1ef244"
   },
   "start_time": "2025-08-19T19:01:24.260030",
   "version": "2.6.0"
  }
 },
 "nbformat": 4,
 "nbformat_minor": 5
}