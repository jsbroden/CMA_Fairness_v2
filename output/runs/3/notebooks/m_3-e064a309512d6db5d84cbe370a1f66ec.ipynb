{
 "cells": [
  {
   "cell_type": "markdown",
   "id": "ef23dbb3",
   "metadata": {
    "papermill": {
     "duration": 0.009666,
     "end_time": "2025-08-19T18:44:41.366176",
     "exception": false,
     "start_time": "2025-08-19T18:44:41.356510",
     "status": "completed"
    },
    "tags": []
   },
   "source": [
    "# Setup"
   ]
  },
  {
   "cell_type": "code",
   "execution_count": 1,
   "id": "0bc8e7dc",
   "metadata": {
    "execution": {
     "iopub.execute_input": "2025-08-19T18:44:41.427140Z",
     "iopub.status.busy": "2025-08-19T18:44:41.426779Z",
     "iopub.status.idle": "2025-08-19T18:44:41.437765Z",
     "shell.execute_reply": "2025-08-19T18:44:41.436935Z"
    },
    "papermill": {
     "duration": 0.061745,
     "end_time": "2025-08-19T18:44:41.438907",
     "exception": false,
     "start_time": "2025-08-19T18:44:41.377162",
     "status": "completed"
    },
    "tags": []
   },
   "outputs": [
    {
     "name": "stdout",
     "output_type": "stream",
     "text": [
      "/dss/dsshome1/0C/ra93lal2/cma/CMA_Fairness_v2\n"
     ]
    },
    {
     "name": "stderr",
     "output_type": "stream",
     "text": [
      "/dss/dsshome1/0C/ra93lal2/.local/share/virtualenvs/CMA_Fairness_v2-3j10GkSs/lib/python3.10/site-packages/IPython/core/magics/osm.py:393: UserWarning: This is now an optional IPython functionality, using bookmarks requires you to install the `pickleshare` library.\n",
      "  bkms = self.shell.db.get('bookmarks', {})\n",
      "/dss/dsshome1/0C/ra93lal2/.local/share/virtualenvs/CMA_Fairness_v2-3j10GkSs/lib/python3.10/site-packages/IPython/core/magics/osm.py:417: UserWarning: This is now an optional IPython functionality, setting dhist requires you to install the `pickleshare` library.\n",
      "  self.shell.db['dhist'] = compress_dhist(dhist)[-100:]\n"
     ]
    }
   ],
   "source": [
    "%cd ~/cma/CMA_Fairness_v2"
   ]
  },
  {
   "cell_type": "markdown",
   "id": "9d235661",
   "metadata": {
    "papermill": {
     "duration": 0.015393,
     "end_time": "2025-08-19T18:44:41.464407",
     "exception": false,
     "start_time": "2025-08-19T18:44:41.449014",
     "status": "completed"
    },
    "tags": []
   },
   "source": [
    "The following cell holds the definition of our parameters, these values can be overriden by rendering the with e.g. the following command:\n",
    "\n",
    "papermill -p alpha 0.2 -p ratio 0.3 universe_analysis.ipynb output/test_run.ipynb"
   ]
  },
  {
   "cell_type": "code",
   "execution_count": 2,
   "id": "4a789d8e",
   "metadata": {
    "execution": {
     "iopub.execute_input": "2025-08-19T18:44:41.487751Z",
     "iopub.status.busy": "2025-08-19T18:44:41.487307Z",
     "iopub.status.idle": "2025-08-19T18:44:41.491916Z",
     "shell.execute_reply": "2025-08-19T18:44:41.491199Z"
    },
    "papermill": {
     "duration": 0.019294,
     "end_time": "2025-08-19T18:44:41.495822",
     "exception": false,
     "start_time": "2025-08-19T18:44:41.476528",
     "status": "completed"
    },
    "tags": []
   },
   "outputs": [
    {
     "name": "stdout",
     "output_type": "stream",
     "text": [
      "Current working directory: /dss/dsshome1/0C/ra93lal2/cma/CMA_Fairness_v2\n"
     ]
    }
   ],
   "source": [
    "import os\n",
    "print(\"Current working directory:\", os.getcwd())"
   ]
  },
  {
   "cell_type": "code",
   "execution_count": 3,
   "id": "4132aaed",
   "metadata": {
    "execution": {
     "iopub.execute_input": "2025-08-19T18:44:41.535941Z",
     "iopub.status.busy": "2025-08-19T18:44:41.535453Z",
     "iopub.status.idle": "2025-08-19T18:44:41.540715Z",
     "shell.execute_reply": "2025-08-19T18:44:41.539954Z"
    },
    "papermill": {
     "duration": 0.028411,
     "end_time": "2025-08-19T18:44:41.545518",
     "exception": false,
     "start_time": "2025-08-19T18:44:41.517107",
     "status": "completed"
    },
    "tags": [
     "parameters"
    ]
   },
   "outputs": [],
   "source": [
    "run_no = 0\n",
    "universe_id = \"test\"\n",
    "universe = {\n",
    "    \"training_size\": \"5k\", # \"25k\", \"5k\", \"1k\"\n",
    "    \"training_year\": \"2012_14\", # \"2014\", \"2012_14\", \"2010_14\"\n",
    "    \"scale\": \"scale\", # \"scale\", \"do-not-scale\",\n",
    "    \"model\": \"elasticnet\", # \"logreg\", \"penalized_logreg\", \"rf\", \"gbm\", \"elasticnet\"\n",
    "    \"cutoff\": [\"quantile_0.15\", \"quantile_0.30\"],\n",
    "    \"exclude_features\": \"age\", # \"none\", \"nationality\", \"sex\", \"nationality-sex\", \"age\"\n",
    "    \"exclude_subgroups\": \"drop-non-german\", # \"keep-all\", \"drop-non-german\"\n",
    "    \"eval_fairness_grouping\": [\"majority-minority\", \"nationality-all\"]\n",
    "}\n",
    "\n",
    "output_dir=\"./output\"\n",
    "seed=0"
   ]
  },
  {
   "cell_type": "code",
   "execution_count": 4,
   "id": "111ec83b",
   "metadata": {
    "execution": {
     "iopub.execute_input": "2025-08-19T18:44:41.576923Z",
     "iopub.status.busy": "2025-08-19T18:44:41.575957Z",
     "iopub.status.idle": "2025-08-19T18:44:41.584927Z",
     "shell.execute_reply": "2025-08-19T18:44:41.583102Z"
    },
    "papermill": {
     "duration": 0.02327,
     "end_time": "2025-08-19T18:44:41.586534",
     "exception": false,
     "start_time": "2025-08-19T18:44:41.563264",
     "status": "completed"
    },
    "tags": [
     "injected-parameters"
    ]
   },
   "outputs": [],
   "source": [
    "# Parameters\n",
    "universe_id = \"e064a309512d6db5d84cbe370a1f66ec\"\n",
    "run_no = \"3\"\n",
    "universe = \"{\\\"cutoff\\\": [\\\"quantile_0.1\\\", \\\"quantile_0.25\\\"], \\\"eval_fairness_grouping\\\": [\\\"majority-minority\\\", \\\"nationality-all\\\"], \\\"exclude_features\\\": \\\"sex\\\", \\\"exclude_subgroups\\\": \\\"keep-all\\\", \\\"model\\\": \\\"logreg\\\", \\\"scale\\\": \\\"do-not-scale\\\", \\\"training_size\\\": \\\"5k\\\", \\\"training_year\\\": \\\"2010_14\\\"}\"\n",
    "output_dir = \"output\"\n",
    "seed = \"2023\"\n"
   ]
  },
  {
   "cell_type": "code",
   "execution_count": 5,
   "id": "a5d7941f",
   "metadata": {
    "execution": {
     "iopub.execute_input": "2025-08-19T18:44:41.612429Z",
     "iopub.status.busy": "2025-08-19T18:44:41.611346Z",
     "iopub.status.idle": "2025-08-19T18:44:41.636977Z",
     "shell.execute_reply": "2025-08-19T18:44:41.633804Z"
    },
    "papermill": {
     "duration": 0.040772,
     "end_time": "2025-08-19T18:44:41.640011",
     "exception": false,
     "start_time": "2025-08-19T18:44:41.599239",
     "status": "completed"
    },
    "tags": []
   },
   "outputs": [],
   "source": [
    "import json\n",
    "if isinstance(universe, str):\n",
    "    universe = json.loads(universe)"
   ]
  },
  {
   "cell_type": "code",
   "execution_count": 6,
   "id": "7076ccb1",
   "metadata": {
    "execution": {
     "iopub.execute_input": "2025-08-19T18:44:41.686593Z",
     "iopub.status.busy": "2025-08-19T18:44:41.686084Z",
     "iopub.status.idle": "2025-08-19T18:44:41.735535Z",
     "shell.execute_reply": "2025-08-19T18:44:41.734633Z"
    },
    "papermill": {
     "duration": 0.076317,
     "end_time": "2025-08-19T18:44:41.737104",
     "exception": false,
     "start_time": "2025-08-19T18:44:41.660787",
     "status": "completed"
    },
    "tags": []
   },
   "outputs": [],
   "source": [
    "# Auto-reload the custom package\n",
    "%load_ext autoreload\n",
    "%autoreload 1\n",
    "%aimport fairness_multiverse"
   ]
  },
  {
   "cell_type": "code",
   "execution_count": 7,
   "id": "94c8eb93",
   "metadata": {
    "execution": {
     "iopub.execute_input": "2025-08-19T18:44:41.758207Z",
     "iopub.status.busy": "2025-08-19T18:44:41.757765Z",
     "iopub.status.idle": "2025-08-19T18:44:43.398449Z",
     "shell.execute_reply": "2025-08-19T18:44:43.397717Z"
    },
    "papermill": {
     "duration": 1.653256,
     "end_time": "2025-08-19T18:44:43.400105",
     "exception": false,
     "start_time": "2025-08-19T18:44:41.746849",
     "status": "completed"
    },
    "tags": []
   },
   "outputs": [],
   "source": [
    "from fairness_multiverse.universe import UniverseAnalysis\n",
    "\n",
    "universe_analysis = UniverseAnalysis(\n",
    "    run_no = run_no,\n",
    "    universe_id = universe_id,\n",
    "    universe = universe,\n",
    "    output_dir=output_dir,\n",
    ")"
   ]
  },
  {
   "cell_type": "code",
   "execution_count": 8,
   "id": "2a6381cf",
   "metadata": {
    "execution": {
     "iopub.execute_input": "2025-08-19T18:44:43.420022Z",
     "iopub.status.busy": "2025-08-19T18:44:43.419389Z",
     "iopub.status.idle": "2025-08-19T18:44:43.425166Z",
     "shell.execute_reply": "2025-08-19T18:44:43.424233Z"
    },
    "papermill": {
     "duration": 0.017367,
     "end_time": "2025-08-19T18:44:43.426693",
     "exception": false,
     "start_time": "2025-08-19T18:44:43.409326",
     "status": "completed"
    },
    "tags": []
   },
   "outputs": [
    {
     "name": "stdout",
     "output_type": "stream",
     "text": [
      "Using Seed: 2023\n"
     ]
    }
   ],
   "source": [
    "import numpy as np\n",
    "parsed_seed = int(seed)\n",
    "np.random.seed(parsed_seed)\n",
    "print(f\"Using Seed: {parsed_seed}\")"
   ]
  },
  {
   "cell_type": "markdown",
   "id": "b6e958b4",
   "metadata": {
    "papermill": {
     "duration": 0.008862,
     "end_time": "2025-08-19T18:44:43.445079",
     "exception": false,
     "start_time": "2025-08-19T18:44:43.436217",
     "status": "completed"
    },
    "tags": []
   },
   "source": [
    "# Loading Data"
   ]
  },
  {
   "cell_type": "code",
   "execution_count": 9,
   "id": "98701482",
   "metadata": {
    "execution": {
     "iopub.execute_input": "2025-08-19T18:44:43.465256Z",
     "iopub.status.busy": "2025-08-19T18:44:43.464291Z",
     "iopub.status.idle": "2025-08-19T18:44:53.295362Z",
     "shell.execute_reply": "2025-08-19T18:44:53.294315Z"
    },
    "papermill": {
     "duration": 9.842676,
     "end_time": "2025-08-19T18:44:53.296696",
     "exception": false,
     "start_time": "2025-08-19T18:44:43.454020",
     "status": "completed"
    },
    "tags": []
   },
   "outputs": [
    {
     "name": "stdout",
     "output_type": "stream",
     "text": [
      "Loading SIAB data from cache: data/siab_cached.csv.gz\n"
     ]
    },
    {
     "name": "stdout",
     "output_type": "stream",
     "text": [
      "(643690, 164)\n"
     ]
    }
   ],
   "source": [
    "from pathlib import Path\n",
    "import pandas as pd\n",
    "\n",
    "# File paths\n",
    "raw_file = Path(\"data/raw/siab.csv\")\n",
    "cache_file = Path(\"data/siab_cached.csv.gz\")\n",
    "\n",
    "# Ensure cache directory exists\n",
    "cache_file.parent.mkdir(parents=True, exist_ok=True)\n",
    "\n",
    "# Load with simple caching\n",
    "if cache_file.exists():\n",
    "    print(f\"Loading SIAB data from cache: {cache_file}\")\n",
    "    siab = pd.read_csv(cache_file, compression='gzip')\n",
    "else:\n",
    "    print(f\"Cache not found. Reading raw SIAB data: {raw_file}\")\n",
    "    siab = pd.read_csv(raw_file)\n",
    "    siab.to_csv(cache_file, index=False, compression='gzip')\n",
    "    print(f\"Cached SIAB data to: {cache_file}\")\n",
    "\n",
    "print(siab.shape)"
   ]
  },
  {
   "cell_type": "code",
   "execution_count": 10,
   "id": "058d2abb",
   "metadata": {
    "execution": {
     "iopub.execute_input": "2025-08-19T18:44:53.321570Z",
     "iopub.status.busy": "2025-08-19T18:44:53.320801Z",
     "iopub.status.idle": "2025-08-19T18:44:53.445473Z",
     "shell.execute_reply": "2025-08-19T18:44:53.444440Z"
    },
    "papermill": {
     "duration": 0.141491,
     "end_time": "2025-08-19T18:44:53.450841",
     "exception": false,
     "start_time": "2025-08-19T18:44:53.309350",
     "status": "completed"
    },
    "tags": []
   },
   "outputs": [
    {
     "data": {
      "text/html": [
       "<div>\n",
       "<style scoped>\n",
       "    .dataframe tbody tr th:only-of-type {\n",
       "        vertical-align: middle;\n",
       "    }\n",
       "\n",
       "    .dataframe tbody tr th {\n",
       "        vertical-align: top;\n",
       "    }\n",
       "\n",
       "    .dataframe thead th {\n",
       "        text-align: right;\n",
       "    }\n",
       "</style>\n",
       "<table border=\"1\" class=\"dataframe\">\n",
       "  <thead>\n",
       "    <tr style=\"text-align: right;\">\n",
       "      <th></th>\n",
       "      <th>persnr</th>\n",
       "      <th>year</th>\n",
       "      <th>nrEntry</th>\n",
       "      <th>ltue</th>\n",
       "      <th>employed_before</th>\n",
       "      <th>receipt_leh_before</th>\n",
       "      <th>receipt_lhg_before</th>\n",
       "      <th>se_before</th>\n",
       "      <th>ASU_notue_seeking_before</th>\n",
       "      <th>ASU_other_before</th>\n",
       "      <th>...</th>\n",
       "      <th>minijob_tot_dur_byage</th>\n",
       "      <th>ft_tot_dur_byage</th>\n",
       "      <th>befrist_tot_dur_byage</th>\n",
       "      <th>leih_tot_dur_byage</th>\n",
       "      <th>LHG_tot_dur_byage</th>\n",
       "      <th>LEH_tot_dur_byage</th>\n",
       "      <th>almp_tot_dur_byage</th>\n",
       "      <th>almp_aw_tot_dur_byage</th>\n",
       "      <th>se_tot_dur_byage</th>\n",
       "      <th>seeking1_tot_dur_byage</th>\n",
       "    </tr>\n",
       "  </thead>\n",
       "  <tbody>\n",
       "    <tr>\n",
       "      <th>0</th>\n",
       "      <td>7</td>\n",
       "      <td>2015</td>\n",
       "      <td>1</td>\n",
       "      <td>0</td>\n",
       "      <td>1</td>\n",
       "      <td>0</td>\n",
       "      <td>0</td>\n",
       "      <td>0</td>\n",
       "      <td>1</td>\n",
       "      <td>0</td>\n",
       "      <td>...</td>\n",
       "      <td>0.000000</td>\n",
       "      <td>0.000000</td>\n",
       "      <td>15.043478</td>\n",
       "      <td>0.000000</td>\n",
       "      <td>0.000000</td>\n",
       "      <td>0.000000</td>\n",
       "      <td>0.000000</td>\n",
       "      <td>0.000000</td>\n",
       "      <td>0.000000</td>\n",
       "      <td>0.000000</td>\n",
       "    </tr>\n",
       "    <tr>\n",
       "      <th>1</th>\n",
       "      <td>18</td>\n",
       "      <td>2010</td>\n",
       "      <td>1</td>\n",
       "      <td>1</td>\n",
       "      <td>0</td>\n",
       "      <td>0</td>\n",
       "      <td>0</td>\n",
       "      <td>0</td>\n",
       "      <td>0</td>\n",
       "      <td>0</td>\n",
       "      <td>...</td>\n",
       "      <td>0.000000</td>\n",
       "      <td>0.000000</td>\n",
       "      <td>0.000000</td>\n",
       "      <td>0.000000</td>\n",
       "      <td>0.000000</td>\n",
       "      <td>0.000000</td>\n",
       "      <td>0.000000</td>\n",
       "      <td>0.000000</td>\n",
       "      <td>0.000000</td>\n",
       "      <td>0.000000</td>\n",
       "    </tr>\n",
       "    <tr>\n",
       "      <th>2</th>\n",
       "      <td>18</td>\n",
       "      <td>2011</td>\n",
       "      <td>2</td>\n",
       "      <td>0</td>\n",
       "      <td>1</td>\n",
       "      <td>0</td>\n",
       "      <td>1</td>\n",
       "      <td>0</td>\n",
       "      <td>1</td>\n",
       "      <td>0</td>\n",
       "      <td>...</td>\n",
       "      <td>2.714286</td>\n",
       "      <td>2.714286</td>\n",
       "      <td>0.000000</td>\n",
       "      <td>0.000000</td>\n",
       "      <td>10.775510</td>\n",
       "      <td>0.000000</td>\n",
       "      <td>8.367347</td>\n",
       "      <td>0.000000</td>\n",
       "      <td>0.000000</td>\n",
       "      <td>9.836735</td>\n",
       "    </tr>\n",
       "    <tr>\n",
       "      <th>3</th>\n",
       "      <td>18</td>\n",
       "      <td>2012</td>\n",
       "      <td>3</td>\n",
       "      <td>0</td>\n",
       "      <td>1</td>\n",
       "      <td>0</td>\n",
       "      <td>1</td>\n",
       "      <td>0</td>\n",
       "      <td>1</td>\n",
       "      <td>0</td>\n",
       "      <td>...</td>\n",
       "      <td>4.200000</td>\n",
       "      <td>4.200000</td>\n",
       "      <td>0.000000</td>\n",
       "      <td>0.000000</td>\n",
       "      <td>12.100000</td>\n",
       "      <td>0.000000</td>\n",
       "      <td>9.400000</td>\n",
       "      <td>0.000000</td>\n",
       "      <td>0.000000</td>\n",
       "      <td>9.960000</td>\n",
       "    </tr>\n",
       "    <tr>\n",
       "      <th>4</th>\n",
       "      <td>18</td>\n",
       "      <td>2012</td>\n",
       "      <td>4</td>\n",
       "      <td>0</td>\n",
       "      <td>1</td>\n",
       "      <td>0</td>\n",
       "      <td>1</td>\n",
       "      <td>0</td>\n",
       "      <td>1</td>\n",
       "      <td>0</td>\n",
       "      <td>...</td>\n",
       "      <td>5.460000</td>\n",
       "      <td>5.460000</td>\n",
       "      <td>0.000000</td>\n",
       "      <td>0.000000</td>\n",
       "      <td>13.360000</td>\n",
       "      <td>0.000000</td>\n",
       "      <td>10.320000</td>\n",
       "      <td>0.000000</td>\n",
       "      <td>0.000000</td>\n",
       "      <td>10.280000</td>\n",
       "    </tr>\n",
       "    <tr>\n",
       "      <th>...</th>\n",
       "      <td>...</td>\n",
       "      <td>...</td>\n",
       "      <td>...</td>\n",
       "      <td>...</td>\n",
       "      <td>...</td>\n",
       "      <td>...</td>\n",
       "      <td>...</td>\n",
       "      <td>...</td>\n",
       "      <td>...</td>\n",
       "      <td>...</td>\n",
       "      <td>...</td>\n",
       "      <td>...</td>\n",
       "      <td>...</td>\n",
       "      <td>...</td>\n",
       "      <td>...</td>\n",
       "      <td>...</td>\n",
       "      <td>...</td>\n",
       "      <td>...</td>\n",
       "      <td>...</td>\n",
       "      <td>...</td>\n",
       "      <td>...</td>\n",
       "    </tr>\n",
       "    <tr>\n",
       "      <th>643685</th>\n",
       "      <td>1827860</td>\n",
       "      <td>2013</td>\n",
       "      <td>1</td>\n",
       "      <td>0</td>\n",
       "      <td>0</td>\n",
       "      <td>0</td>\n",
       "      <td>1</td>\n",
       "      <td>0</td>\n",
       "      <td>0</td>\n",
       "      <td>1</td>\n",
       "      <td>...</td>\n",
       "      <td>0.000000</td>\n",
       "      <td>0.000000</td>\n",
       "      <td>0.000000</td>\n",
       "      <td>0.000000</td>\n",
       "      <td>0.612903</td>\n",
       "      <td>0.000000</td>\n",
       "      <td>0.000000</td>\n",
       "      <td>0.000000</td>\n",
       "      <td>0.000000</td>\n",
       "      <td>0.000000</td>\n",
       "    </tr>\n",
       "    <tr>\n",
       "      <th>643686</th>\n",
       "      <td>1827860</td>\n",
       "      <td>2015</td>\n",
       "      <td>2</td>\n",
       "      <td>1</td>\n",
       "      <td>0</td>\n",
       "      <td>0</td>\n",
       "      <td>1</td>\n",
       "      <td>0</td>\n",
       "      <td>1</td>\n",
       "      <td>0</td>\n",
       "      <td>...</td>\n",
       "      <td>0.000000</td>\n",
       "      <td>0.000000</td>\n",
       "      <td>0.212121</td>\n",
       "      <td>0.212121</td>\n",
       "      <td>17.363636</td>\n",
       "      <td>0.000000</td>\n",
       "      <td>8.909091</td>\n",
       "      <td>0.000000</td>\n",
       "      <td>0.000000</td>\n",
       "      <td>7.121212</td>\n",
       "    </tr>\n",
       "    <tr>\n",
       "      <th>643687</th>\n",
       "      <td>1827860</td>\n",
       "      <td>2016</td>\n",
       "      <td>3</td>\n",
       "      <td>1</td>\n",
       "      <td>0</td>\n",
       "      <td>0</td>\n",
       "      <td>1</td>\n",
       "      <td>1</td>\n",
       "      <td>0</td>\n",
       "      <td>1</td>\n",
       "      <td>...</td>\n",
       "      <td>0.000000</td>\n",
       "      <td>0.000000</td>\n",
       "      <td>0.294118</td>\n",
       "      <td>0.205882</td>\n",
       "      <td>34.705882</td>\n",
       "      <td>0.000000</td>\n",
       "      <td>10.352941</td>\n",
       "      <td>1.705882</td>\n",
       "      <td>1.705882</td>\n",
       "      <td>23.911765</td>\n",
       "    </tr>\n",
       "    <tr>\n",
       "      <th>643688</th>\n",
       "      <td>1827869</td>\n",
       "      <td>2013</td>\n",
       "      <td>1</td>\n",
       "      <td>1</td>\n",
       "      <td>1</td>\n",
       "      <td>0</td>\n",
       "      <td>0</td>\n",
       "      <td>0</td>\n",
       "      <td>1</td>\n",
       "      <td>0</td>\n",
       "      <td>...</td>\n",
       "      <td>0.000000</td>\n",
       "      <td>0.000000</td>\n",
       "      <td>0.000000</td>\n",
       "      <td>0.000000</td>\n",
       "      <td>0.000000</td>\n",
       "      <td>0.525424</td>\n",
       "      <td>0.000000</td>\n",
       "      <td>0.000000</td>\n",
       "      <td>0.000000</td>\n",
       "      <td>0.000000</td>\n",
       "    </tr>\n",
       "    <tr>\n",
       "      <th>643689</th>\n",
       "      <td>1827869</td>\n",
       "      <td>2014</td>\n",
       "      <td>2</td>\n",
       "      <td>0</td>\n",
       "      <td>0</td>\n",
       "      <td>1</td>\n",
       "      <td>0</td>\n",
       "      <td>0</td>\n",
       "      <td>1</td>\n",
       "      <td>0</td>\n",
       "      <td>...</td>\n",
       "      <td>0.000000</td>\n",
       "      <td>0.666667</td>\n",
       "      <td>0.666667</td>\n",
       "      <td>0.000000</td>\n",
       "      <td>0.000000</td>\n",
       "      <td>8.950000</td>\n",
       "      <td>1.033333</td>\n",
       "      <td>0.083333</td>\n",
       "      <td>0.083333</td>\n",
       "      <td>8.133333</td>\n",
       "    </tr>\n",
       "  </tbody>\n",
       "</table>\n",
       "<p>643690 rows × 164 columns</p>\n",
       "</div>"
      ],
      "text/plain": [
       "         persnr  year  nrEntry  ltue  employed_before  receipt_leh_before  \\\n",
       "0             7  2015        1     0                1                   0   \n",
       "1            18  2010        1     1                0                   0   \n",
       "2            18  2011        2     0                1                   0   \n",
       "3            18  2012        3     0                1                   0   \n",
       "4            18  2012        4     0                1                   0   \n",
       "...         ...   ...      ...   ...              ...                 ...   \n",
       "643685  1827860  2013        1     0                0                   0   \n",
       "643686  1827860  2015        2     1                0                   0   \n",
       "643687  1827860  2016        3     1                0                   0   \n",
       "643688  1827869  2013        1     1                1                   0   \n",
       "643689  1827869  2014        2     0                0                   1   \n",
       "\n",
       "        receipt_lhg_before  se_before  ASU_notue_seeking_before  \\\n",
       "0                        0          0                         1   \n",
       "1                        0          0                         0   \n",
       "2                        1          0                         1   \n",
       "3                        1          0                         1   \n",
       "4                        1          0                         1   \n",
       "...                    ...        ...                       ...   \n",
       "643685                   1          0                         0   \n",
       "643686                   1          0                         1   \n",
       "643687                   1          1                         0   \n",
       "643688                   0          0                         1   \n",
       "643689                   0          0                         1   \n",
       "\n",
       "        ASU_other_before  ...  minijob_tot_dur_byage  ft_tot_dur_byage  \\\n",
       "0                      0  ...               0.000000          0.000000   \n",
       "1                      0  ...               0.000000          0.000000   \n",
       "2                      0  ...               2.714286          2.714286   \n",
       "3                      0  ...               4.200000          4.200000   \n",
       "4                      0  ...               5.460000          5.460000   \n",
       "...                  ...  ...                    ...               ...   \n",
       "643685                 1  ...               0.000000          0.000000   \n",
       "643686                 0  ...               0.000000          0.000000   \n",
       "643687                 1  ...               0.000000          0.000000   \n",
       "643688                 0  ...               0.000000          0.000000   \n",
       "643689                 0  ...               0.000000          0.666667   \n",
       "\n",
       "        befrist_tot_dur_byage  leih_tot_dur_byage  LHG_tot_dur_byage  \\\n",
       "0                   15.043478            0.000000           0.000000   \n",
       "1                    0.000000            0.000000           0.000000   \n",
       "2                    0.000000            0.000000          10.775510   \n",
       "3                    0.000000            0.000000          12.100000   \n",
       "4                    0.000000            0.000000          13.360000   \n",
       "...                       ...                 ...                ...   \n",
       "643685               0.000000            0.000000           0.612903   \n",
       "643686               0.212121            0.212121          17.363636   \n",
       "643687               0.294118            0.205882          34.705882   \n",
       "643688               0.000000            0.000000           0.000000   \n",
       "643689               0.666667            0.000000           0.000000   \n",
       "\n",
       "        LEH_tot_dur_byage  almp_tot_dur_byage  almp_aw_tot_dur_byage  \\\n",
       "0                0.000000            0.000000               0.000000   \n",
       "1                0.000000            0.000000               0.000000   \n",
       "2                0.000000            8.367347               0.000000   \n",
       "3                0.000000            9.400000               0.000000   \n",
       "4                0.000000           10.320000               0.000000   \n",
       "...                   ...                 ...                    ...   \n",
       "643685           0.000000            0.000000               0.000000   \n",
       "643686           0.000000            8.909091               0.000000   \n",
       "643687           0.000000           10.352941               1.705882   \n",
       "643688           0.525424            0.000000               0.000000   \n",
       "643689           8.950000            1.033333               0.083333   \n",
       "\n",
       "        se_tot_dur_byage  seeking1_tot_dur_byage  \n",
       "0               0.000000                0.000000  \n",
       "1               0.000000                0.000000  \n",
       "2               0.000000                9.836735  \n",
       "3               0.000000                9.960000  \n",
       "4               0.000000               10.280000  \n",
       "...                  ...                     ...  \n",
       "643685          0.000000                0.000000  \n",
       "643686          0.000000                7.121212  \n",
       "643687          1.705882               23.911765  \n",
       "643688          0.000000                0.000000  \n",
       "643689          0.083333                8.133333  \n",
       "\n",
       "[643690 rows x 164 columns]"
      ]
     },
     "execution_count": 10,
     "metadata": {},
     "output_type": "execute_result"
    }
   ],
   "source": [
    "siab"
   ]
  },
  {
   "cell_type": "markdown",
   "id": "1f87e805",
   "metadata": {
    "papermill": {
     "duration": 0.010826,
     "end_time": "2025-08-19T18:44:53.481638",
     "exception": false,
     "start_time": "2025-08-19T18:44:53.470812",
     "status": "completed"
    },
    "tags": []
   },
   "source": [
    "# Splitting Data and Setting Training Data Size"
   ]
  },
  {
   "cell_type": "code",
   "execution_count": 11,
   "id": "910ae358",
   "metadata": {
    "execution": {
     "iopub.execute_input": "2025-08-19T18:44:53.503248Z",
     "iopub.status.busy": "2025-08-19T18:44:53.502262Z",
     "iopub.status.idle": "2025-08-19T18:44:54.544428Z",
     "shell.execute_reply": "2025-08-19T18:44:54.543570Z"
    },
    "papermill": {
     "duration": 1.054828,
     "end_time": "2025-08-19T18:44:54.545921",
     "exception": false,
     "start_time": "2025-08-19T18:44:53.491093",
     "status": "completed"
    },
    "tags": []
   },
   "outputs": [],
   "source": [
    "from fairness_multiverse.universe import sample_by_year_size\n",
    "\n",
    "siab_train = sample_by_year_size(siab,\n",
    "                               training_year=universe[\"training_year\"],\n",
    "                               training_size=universe[\"training_size\"])"
   ]
  },
  {
   "cell_type": "code",
   "execution_count": 12,
   "id": "919c8ff5",
   "metadata": {
    "execution": {
     "iopub.execute_input": "2025-08-19T18:44:54.566908Z",
     "iopub.status.busy": "2025-08-19T18:44:54.566528Z",
     "iopub.status.idle": "2025-08-19T18:44:54.571729Z",
     "shell.execute_reply": "2025-08-19T18:44:54.571093Z"
    },
    "papermill": {
     "duration": 0.016901,
     "end_time": "2025-08-19T18:44:54.572850",
     "exception": false,
     "start_time": "2025-08-19T18:44:54.555949",
     "status": "completed"
    },
    "tags": []
   },
   "outputs": [
    {
     "data": {
      "text/plain": [
       "(5000, 164)"
      ]
     },
     "execution_count": 12,
     "metadata": {},
     "output_type": "execute_result"
    }
   ],
   "source": [
    "siab_train.shape"
   ]
  },
  {
   "cell_type": "code",
   "execution_count": 13,
   "id": "feb13bf4",
   "metadata": {
    "execution": {
     "iopub.execute_input": "2025-08-19T18:44:54.594088Z",
     "iopub.status.busy": "2025-08-19T18:44:54.593418Z",
     "iopub.status.idle": "2025-08-19T18:44:54.603190Z",
     "shell.execute_reply": "2025-08-19T18:44:54.602399Z"
    },
    "papermill": {
     "duration": 0.021957,
     "end_time": "2025-08-19T18:44:54.604669",
     "exception": false,
     "start_time": "2025-08-19T18:44:54.582712",
     "status": "completed"
    },
    "tags": []
   },
   "outputs": [
    {
     "data": {
      "text/plain": [
       "year\n",
       "2010    1000\n",
       "2011    1000\n",
       "2012    1000\n",
       "2013    1000\n",
       "2014    1000\n",
       "dtype: int64"
      ]
     },
     "metadata": {},
     "output_type": "display_data"
    }
   ],
   "source": [
    "display(siab_train.groupby(\"year\").size())"
   ]
  },
  {
   "cell_type": "code",
   "execution_count": 14,
   "id": "0997782f",
   "metadata": {
    "execution": {
     "iopub.execute_input": "2025-08-19T18:44:54.628911Z",
     "iopub.status.busy": "2025-08-19T18:44:54.628019Z",
     "iopub.status.idle": "2025-08-19T18:44:54.946430Z",
     "shell.execute_reply": "2025-08-19T18:44:54.945600Z"
    },
    "papermill": {
     "duration": 0.331018,
     "end_time": "2025-08-19T18:44:54.947876",
     "exception": false,
     "start_time": "2025-08-19T18:44:54.616858",
     "status": "completed"
    },
    "tags": []
   },
   "outputs": [],
   "source": [
    "#siab_train = siab_s[siab_s.year < 2015]\n",
    "siab_calib = siab[siab.year == 2015]\n",
    "siab_test = siab[siab.year == 2016]"
   ]
  },
  {
   "cell_type": "code",
   "execution_count": 15,
   "id": "2c1e4012",
   "metadata": {
    "execution": {
     "iopub.execute_input": "2025-08-19T18:44:54.971652Z",
     "iopub.status.busy": "2025-08-19T18:44:54.971211Z",
     "iopub.status.idle": "2025-08-19T18:44:54.975561Z",
     "shell.execute_reply": "2025-08-19T18:44:54.974832Z"
    },
    "papermill": {
     "duration": 0.017885,
     "end_time": "2025-08-19T18:44:54.977217",
     "exception": false,
     "start_time": "2025-08-19T18:44:54.959332",
     "status": "completed"
    },
    "tags": []
   },
   "outputs": [],
   "source": [
    "#siab_calib.shape"
   ]
  },
  {
   "cell_type": "code",
   "execution_count": 16,
   "id": "f66b54ca",
   "metadata": {
    "execution": {
     "iopub.execute_input": "2025-08-19T18:44:55.000413Z",
     "iopub.status.busy": "2025-08-19T18:44:54.999996Z",
     "iopub.status.idle": "2025-08-19T18:44:55.004192Z",
     "shell.execute_reply": "2025-08-19T18:44:55.003487Z"
    },
    "papermill": {
     "duration": 0.017097,
     "end_time": "2025-08-19T18:44:55.005736",
     "exception": false,
     "start_time": "2025-08-19T18:44:54.988639",
     "status": "completed"
    },
    "tags": []
   },
   "outputs": [],
   "source": [
    "#siab_test.shape"
   ]
  },
  {
   "cell_type": "code",
   "execution_count": 17,
   "id": "27e4384d",
   "metadata": {
    "execution": {
     "iopub.execute_input": "2025-08-19T18:44:55.027893Z",
     "iopub.status.busy": "2025-08-19T18:44:55.027506Z",
     "iopub.status.idle": "2025-08-19T18:44:55.034611Z",
     "shell.execute_reply": "2025-08-19T18:44:55.033884Z"
    },
    "papermill": {
     "duration": 0.019652,
     "end_time": "2025-08-19T18:44:55.036176",
     "exception": false,
     "start_time": "2025-08-19T18:44:55.016524",
     "status": "completed"
    },
    "tags": []
   },
   "outputs": [],
   "source": [
    "X_train = siab_train.iloc[:,4:164]\n",
    "y_train = siab_train.iloc[:, [3]]"
   ]
  },
  {
   "cell_type": "code",
   "execution_count": 18,
   "id": "08ee8389",
   "metadata": {
    "execution": {
     "iopub.execute_input": "2025-08-19T18:44:55.079752Z",
     "iopub.status.busy": "2025-08-19T18:44:55.079032Z",
     "iopub.status.idle": "2025-08-19T18:44:55.144818Z",
     "shell.execute_reply": "2025-08-19T18:44:55.143466Z"
    },
    "papermill": {
     "duration": 0.084551,
     "end_time": "2025-08-19T18:44:55.148609",
     "exception": false,
     "start_time": "2025-08-19T18:44:55.064058",
     "status": "completed"
    },
    "tags": []
   },
   "outputs": [],
   "source": [
    "X_calib = siab_calib.iloc[:,4:164]\n",
    "y_calib = siab_calib.iloc[:, [3]]"
   ]
  },
  {
   "cell_type": "code",
   "execution_count": 19,
   "id": "b7ff42e0",
   "metadata": {
    "execution": {
     "iopub.execute_input": "2025-08-19T18:44:55.185609Z",
     "iopub.status.busy": "2025-08-19T18:44:55.184118Z",
     "iopub.status.idle": "2025-08-19T18:44:55.262725Z",
     "shell.execute_reply": "2025-08-19T18:44:55.261974Z"
    },
    "papermill": {
     "duration": 0.095151,
     "end_time": "2025-08-19T18:44:55.265832",
     "exception": false,
     "start_time": "2025-08-19T18:44:55.170681",
     "status": "completed"
    },
    "tags": []
   },
   "outputs": [],
   "source": [
    "X_test = siab_test.iloc[:,4:164]\n",
    "y_true = siab_test.iloc[:, [3]]"
   ]
  },
  {
   "cell_type": "code",
   "execution_count": 20,
   "id": "0275101e",
   "metadata": {
    "execution": {
     "iopub.execute_input": "2025-08-19T18:44:55.305964Z",
     "iopub.status.busy": "2025-08-19T18:44:55.305255Z",
     "iopub.status.idle": "2025-08-19T18:44:55.425880Z",
     "shell.execute_reply": "2025-08-19T18:44:55.425091Z"
    },
    "papermill": {
     "duration": 0.137006,
     "end_time": "2025-08-19T18:44:55.427478",
     "exception": false,
     "start_time": "2025-08-19T18:44:55.290472",
     "status": "completed"
    },
    "tags": []
   },
   "outputs": [],
   "source": [
    "# Auxiliary data needed downstream in the pipeline\n",
    "\n",
    "org_train = X_train.copy()\n",
    "org_test = X_test.copy()\n",
    "org_calib = X_calib.copy()"
   ]
  },
  {
   "cell_type": "markdown",
   "id": "b461e618",
   "metadata": {
    "papermill": {
     "duration": 0.013672,
     "end_time": "2025-08-19T18:44:55.453146",
     "exception": false,
     "start_time": "2025-08-19T18:44:55.439474",
     "status": "completed"
    },
    "tags": []
   },
   "source": [
    "# Preprocessing Data"
   ]
  },
  {
   "cell_type": "code",
   "execution_count": 21,
   "id": "78e74c4b",
   "metadata": {
    "execution": {
     "iopub.execute_input": "2025-08-19T18:44:55.477496Z",
     "iopub.status.busy": "2025-08-19T18:44:55.476462Z",
     "iopub.status.idle": "2025-08-19T18:44:55.483836Z",
     "shell.execute_reply": "2025-08-19T18:44:55.483062Z"
    },
    "papermill": {
     "duration": 0.021423,
     "end_time": "2025-08-19T18:44:55.485402",
     "exception": false,
     "start_time": "2025-08-19T18:44:55.463979",
     "status": "completed"
    },
    "tags": []
   },
   "outputs": [],
   "source": [
    "# EXCLUDE PROTECTED FEATURES\n",
    "# --------------------------\n",
    "\n",
    "excluded_features = universe[\"exclude_features\"].split(\"-\")\n",
    "excluded_features_dictionary = {\n",
    "    \"nationality\": [\"maxdeutsch1\", \"maxdeutsch.Missing.\"],\n",
    "    \"sex\": [\"frau1\"],\n",
    "    \"age\": [\"age\"],\n",
    "}"
   ]
  },
  {
   "cell_type": "code",
   "execution_count": 22,
   "id": "f8e63555",
   "metadata": {
    "execution": {
     "iopub.execute_input": "2025-08-19T18:44:55.513418Z",
     "iopub.status.busy": "2025-08-19T18:44:55.512951Z",
     "iopub.status.idle": "2025-08-19T18:44:55.517922Z",
     "shell.execute_reply": "2025-08-19T18:44:55.517237Z"
    },
    "papermill": {
     "duration": 0.017949,
     "end_time": "2025-08-19T18:44:55.519325",
     "exception": false,
     "start_time": "2025-08-19T18:44:55.501376",
     "status": "completed"
    },
    "tags": []
   },
   "outputs": [],
   "source": [
    "excluded_features_columns = [\n",
    "    excluded_features_dictionary[f] for f in excluded_features if len(f) > 0 and f != \"none\"\n",
    "]"
   ]
  },
  {
   "cell_type": "code",
   "execution_count": 23,
   "id": "da781f7c",
   "metadata": {
    "execution": {
     "iopub.execute_input": "2025-08-19T18:44:55.556306Z",
     "iopub.status.busy": "2025-08-19T18:44:55.555851Z",
     "iopub.status.idle": "2025-08-19T18:44:55.560587Z",
     "shell.execute_reply": "2025-08-19T18:44:55.559886Z"
    },
    "papermill": {
     "duration": 0.022854,
     "end_time": "2025-08-19T18:44:55.562017",
     "exception": false,
     "start_time": "2025-08-19T18:44:55.539163",
     "status": "completed"
    },
    "tags": []
   },
   "outputs": [],
   "source": [
    "from fairness_multiverse.universe import flatten_once\n",
    "\n",
    "excluded_features_columns = flatten_once(excluded_features_columns)"
   ]
  },
  {
   "cell_type": "code",
   "execution_count": 24,
   "id": "37fef0f0",
   "metadata": {
    "execution": {
     "iopub.execute_input": "2025-08-19T18:44:55.585606Z",
     "iopub.status.busy": "2025-08-19T18:44:55.585191Z",
     "iopub.status.idle": "2025-08-19T18:44:55.594991Z",
     "shell.execute_reply": "2025-08-19T18:44:55.594246Z"
    },
    "papermill": {
     "duration": 0.029616,
     "end_time": "2025-08-19T18:44:55.603672",
     "exception": false,
     "start_time": "2025-08-19T18:44:55.574056",
     "status": "completed"
    },
    "tags": []
   },
   "outputs": [
    {
     "name": "stdout",
     "output_type": "stream",
     "text": [
      "Dropping features: ['frau1']\n"
     ]
    }
   ],
   "source": [
    "if len(excluded_features_columns) > 0:\n",
    "    print(f\"Dropping features: {excluded_features_columns}\")\n",
    "    X_train.drop(excluded_features_columns, axis=1, inplace=True)"
   ]
  },
  {
   "cell_type": "code",
   "execution_count": 25,
   "id": "d029e3e9",
   "metadata": {
    "execution": {
     "iopub.execute_input": "2025-08-19T18:44:55.645386Z",
     "iopub.status.busy": "2025-08-19T18:44:55.645075Z",
     "iopub.status.idle": "2025-08-19T18:44:55.713720Z",
     "shell.execute_reply": "2025-08-19T18:44:55.713007Z"
    },
    "papermill": {
     "duration": 0.088884,
     "end_time": "2025-08-19T18:44:55.716529",
     "exception": false,
     "start_time": "2025-08-19T18:44:55.627645",
     "status": "completed"
    },
    "tags": []
   },
   "outputs": [
    {
     "name": "stdout",
     "output_type": "stream",
     "text": [
      "Dropping features: ['frau1']\n"
     ]
    }
   ],
   "source": [
    "if len(excluded_features_columns) > 0:\n",
    "    print(f\"Dropping features: {excluded_features_columns}\")\n",
    "    X_test.drop(excluded_features_columns, axis=1, inplace=True)"
   ]
  },
  {
   "cell_type": "code",
   "execution_count": 26,
   "id": "01d571f0",
   "metadata": {
    "execution": {
     "iopub.execute_input": "2025-08-19T18:44:55.752998Z",
     "iopub.status.busy": "2025-08-19T18:44:55.752426Z",
     "iopub.status.idle": "2025-08-19T18:44:55.815158Z",
     "shell.execute_reply": "2025-08-19T18:44:55.814312Z"
    },
    "papermill": {
     "duration": 0.079256,
     "end_time": "2025-08-19T18:44:55.817932",
     "exception": false,
     "start_time": "2025-08-19T18:44:55.738676",
     "status": "completed"
    },
    "tags": []
   },
   "outputs": [
    {
     "name": "stdout",
     "output_type": "stream",
     "text": [
      "Dropping features: ['frau1']\n"
     ]
    }
   ],
   "source": [
    "if len(excluded_features_columns) > 0:\n",
    "    print(f\"Dropping features: {excluded_features_columns}\")\n",
    "    X_calib.drop(excluded_features_columns, axis=1, inplace=True)"
   ]
  },
  {
   "cell_type": "code",
   "execution_count": 27,
   "id": "3037356e",
   "metadata": {
    "execution": {
     "iopub.execute_input": "2025-08-19T18:44:55.856310Z",
     "iopub.status.busy": "2025-08-19T18:44:55.855014Z",
     "iopub.status.idle": "2025-08-19T18:44:55.862531Z",
     "shell.execute_reply": "2025-08-19T18:44:55.861281Z"
    },
    "papermill": {
     "duration": 0.022539,
     "end_time": "2025-08-19T18:44:55.863788",
     "exception": false,
     "start_time": "2025-08-19T18:44:55.841249",
     "status": "completed"
    },
    "tags": []
   },
   "outputs": [],
   "source": [
    "# EXCLUDE CERTAIN SUBGROUPS\n",
    "# -------------------------\n",
    "\n",
    "mode = universe.get(\"exclude_subgroups\", \"keep-all\") # Defaults to \"keep-all\" if the key is missing."
   ]
  },
  {
   "cell_type": "code",
   "execution_count": 28,
   "id": "9d1e63fd",
   "metadata": {
    "execution": {
     "iopub.execute_input": "2025-08-19T18:44:55.890591Z",
     "iopub.status.busy": "2025-08-19T18:44:55.889392Z",
     "iopub.status.idle": "2025-08-19T18:44:55.899417Z",
     "shell.execute_reply": "2025-08-19T18:44:55.898182Z"
    },
    "papermill": {
     "duration": 0.023813,
     "end_time": "2025-08-19T18:44:55.900951",
     "exception": false,
     "start_time": "2025-08-19T18:44:55.877138",
     "status": "completed"
    },
    "tags": []
   },
   "outputs": [],
   "source": [
    "if mode == \"keep-all\":\n",
    "    keep_mask = pd.Series(True, index=org_train.index)\n",
    "\n",
    "elif mode == \"drop-non-german\":\n",
    "    keep_mask = (org_train[\"maxdeutsch1\"] == 1) & (org_train[\"maxdeutsch.Missing.\"] == 0)\n",
    "\n",
    "else:\n",
    "    raise ValueError(f\"Unsupported mode for exclude_subgroups: {mode}\")"
   ]
  },
  {
   "cell_type": "code",
   "execution_count": 29,
   "id": "d3b65474",
   "metadata": {
    "execution": {
     "iopub.execute_input": "2025-08-19T18:44:55.937660Z",
     "iopub.status.busy": "2025-08-19T18:44:55.936115Z",
     "iopub.status.idle": "2025-08-19T18:44:55.947345Z",
     "shell.execute_reply": "2025-08-19T18:44:55.946118Z"
    },
    "papermill": {
     "duration": 0.029755,
     "end_time": "2025-08-19T18:44:55.950144",
     "exception": false,
     "start_time": "2025-08-19T18:44:55.920389",
     "status": "completed"
    },
    "tags": []
   },
   "outputs": [],
   "source": [
    "n_drop = (~keep_mask).sum() # Calculates how many rows are set to be dropped\n",
    "if n_drop > 0:\n",
    "    pct = n_drop / len(keep_mask) * 100\n",
    "    print(f\"Dropping {n_drop} rows ({pct:.2f}%) where mode='{mode}'\")"
   ]
  },
  {
   "cell_type": "code",
   "execution_count": 30,
   "id": "f44389b3",
   "metadata": {
    "execution": {
     "iopub.execute_input": "2025-08-19T18:44:56.004637Z",
     "iopub.status.busy": "2025-08-19T18:44:56.003280Z",
     "iopub.status.idle": "2025-08-19T18:44:56.020898Z",
     "shell.execute_reply": "2025-08-19T18:44:56.019920Z"
    },
    "papermill": {
     "duration": 0.047839,
     "end_time": "2025-08-19T18:44:56.022402",
     "exception": false,
     "start_time": "2025-08-19T18:44:55.974563",
     "status": "completed"
    },
    "tags": []
   },
   "outputs": [],
   "source": [
    "X_train = X_train[keep_mask]"
   ]
  },
  {
   "cell_type": "code",
   "execution_count": 31,
   "id": "ceca8c2a",
   "metadata": {
    "execution": {
     "iopub.execute_input": "2025-08-19T18:44:56.046756Z",
     "iopub.status.busy": "2025-08-19T18:44:56.045602Z",
     "iopub.status.idle": "2025-08-19T18:44:56.053931Z",
     "shell.execute_reply": "2025-08-19T18:44:56.052684Z"
    },
    "papermill": {
     "duration": 0.021911,
     "end_time": "2025-08-19T18:44:56.055434",
     "exception": false,
     "start_time": "2025-08-19T18:44:56.033523",
     "status": "completed"
    },
    "tags": []
   },
   "outputs": [],
   "source": [
    "y_train = y_train[keep_mask]"
   ]
  },
  {
   "cell_type": "markdown",
   "id": "04d31e2f",
   "metadata": {
    "papermill": {
     "duration": 0.010839,
     "end_time": "2025-08-19T18:44:56.078182",
     "exception": false,
     "start_time": "2025-08-19T18:44:56.067343",
     "status": "completed"
    },
    "tags": []
   },
   "source": [
    "# Model Training"
   ]
  },
  {
   "cell_type": "code",
   "execution_count": 32,
   "id": "db991733",
   "metadata": {
    "execution": {
     "iopub.execute_input": "2025-08-19T18:44:56.102563Z",
     "iopub.status.busy": "2025-08-19T18:44:56.101213Z",
     "iopub.status.idle": "2025-08-19T18:44:56.207058Z",
     "shell.execute_reply": "2025-08-19T18:44:56.206306Z"
    },
    "papermill": {
     "duration": 0.121111,
     "end_time": "2025-08-19T18:44:56.210056",
     "exception": false,
     "start_time": "2025-08-19T18:44:56.088945",
     "status": "completed"
    },
    "tags": []
   },
   "outputs": [],
   "source": [
    "from sklearn.linear_model import LogisticRegression\n",
    "from sklearn.ensemble import GradientBoostingClassifier, RandomForestClassifier\n",
    "\n",
    "if (universe[\"model\"] == \"logreg\"):\n",
    "    model = LogisticRegression() #penalty=\"none\", solver=\"newton-cg\", max_iter=1)\n",
    "elif (universe[\"model\"] == \"penalized_logreg\"):\n",
    "    model = LogisticRegression(penalty=\"l2\", C=0.1) #, solver=\"newton-cg\", max_iter=1)\n",
    "elif (universe[\"model\"] == \"rf\"):\n",
    "    model = RandomForestClassifier() # n_estimators=100, n_jobs=-1\n",
    "elif (universe[\"model\"] == \"gbm\"):\n",
    "    model = GradientBoostingClassifier()\n",
    "elif (universe[\"model\"] == \"elasticnet\"):\n",
    "    model = LogisticRegression(penalty = 'elasticnet', solver = 'saga', l1_ratio = 0.5) # max_iter=5000\n",
    "else:\n",
    "    raise \"Unsupported universe.model\""
   ]
  },
  {
   "cell_type": "code",
   "execution_count": 33,
   "id": "a4b5cd25",
   "metadata": {
    "execution": {
     "iopub.execute_input": "2025-08-19T18:44:56.252164Z",
     "iopub.status.busy": "2025-08-19T18:44:56.250774Z",
     "iopub.status.idle": "2025-08-19T18:44:56.260155Z",
     "shell.execute_reply": "2025-08-19T18:44:56.258879Z"
    },
    "papermill": {
     "duration": 0.02532,
     "end_time": "2025-08-19T18:44:56.261648",
     "exception": false,
     "start_time": "2025-08-19T18:44:56.236328",
     "status": "completed"
    },
    "tags": []
   },
   "outputs": [],
   "source": [
    "from sklearn.pipeline import Pipeline\n",
    "from sklearn.preprocessing import StandardScaler\n",
    "\n",
    "model = Pipeline([\n",
    "    #(\"continuous_processor\", continuous_processor),\n",
    "    #(\"categorical_preprocessor\", categorical_preprocessor),\n",
    "    (\"scale\", StandardScaler() if universe[\"scale\"] == \"scale\" else None), \n",
    "    (\"model\", model),\n",
    "])"
   ]
  },
  {
   "cell_type": "code",
   "execution_count": 34,
   "id": "283a904d",
   "metadata": {
    "execution": {
     "iopub.execute_input": "2025-08-19T18:44:56.288733Z",
     "iopub.status.busy": "2025-08-19T18:44:56.287986Z",
     "iopub.status.idle": "2025-08-19T18:44:56.445767Z",
     "shell.execute_reply": "2025-08-19T18:44:56.445102Z"
    },
    "papermill": {
     "duration": 0.173789,
     "end_time": "2025-08-19T18:44:56.449152",
     "exception": false,
     "start_time": "2025-08-19T18:44:56.275363",
     "status": "completed"
    },
    "tags": []
   },
   "outputs": [
    {
     "name": "stderr",
     "output_type": "stream",
     "text": [
      "/dss/dsshome1/0C/ra93lal2/.local/share/virtualenvs/CMA_Fairness_v2-3j10GkSs/lib/python3.10/site-packages/sklearn/linear_model/_logistic.py:444: ConvergenceWarning: lbfgs failed to converge (status=1):\n",
      "STOP: TOTAL NO. of ITERATIONS REACHED LIMIT.\n",
      "\n",
      "Increase the number of iterations (max_iter) or scale the data as shown in:\n",
      "    https://scikit-learn.org/stable/modules/preprocessing.html\n",
      "Please also refer to the documentation for alternative solver options:\n",
      "    https://scikit-learn.org/stable/modules/linear_model.html#logistic-regression\n",
      "  n_iter_i = _check_optimize_result(\n"
     ]
    },
    {
     "data": {
      "text/html": [
       "<style>#sk-container-id-1 {color: black;background-color: white;}#sk-container-id-1 pre{padding: 0;}#sk-container-id-1 div.sk-toggleable {background-color: white;}#sk-container-id-1 label.sk-toggleable__label {cursor: pointer;display: block;width: 100%;margin-bottom: 0;padding: 0.3em;box-sizing: border-box;text-align: center;}#sk-container-id-1 label.sk-toggleable__label-arrow:before {content: \"▸\";float: left;margin-right: 0.25em;color: #696969;}#sk-container-id-1 label.sk-toggleable__label-arrow:hover:before {color: black;}#sk-container-id-1 div.sk-estimator:hover label.sk-toggleable__label-arrow:before {color: black;}#sk-container-id-1 div.sk-toggleable__content {max-height: 0;max-width: 0;overflow: hidden;text-align: left;background-color: #f0f8ff;}#sk-container-id-1 div.sk-toggleable__content pre {margin: 0.2em;color: black;border-radius: 0.25em;background-color: #f0f8ff;}#sk-container-id-1 input.sk-toggleable__control:checked~div.sk-toggleable__content {max-height: 200px;max-width: 100%;overflow: auto;}#sk-container-id-1 input.sk-toggleable__control:checked~label.sk-toggleable__label-arrow:before {content: \"▾\";}#sk-container-id-1 div.sk-estimator input.sk-toggleable__control:checked~label.sk-toggleable__label {background-color: #d4ebff;}#sk-container-id-1 div.sk-label input.sk-toggleable__control:checked~label.sk-toggleable__label {background-color: #d4ebff;}#sk-container-id-1 input.sk-hidden--visually {border: 0;clip: rect(1px 1px 1px 1px);clip: rect(1px, 1px, 1px, 1px);height: 1px;margin: -1px;overflow: hidden;padding: 0;position: absolute;width: 1px;}#sk-container-id-1 div.sk-estimator {font-family: monospace;background-color: #f0f8ff;border: 1px dotted black;border-radius: 0.25em;box-sizing: border-box;margin-bottom: 0.5em;}#sk-container-id-1 div.sk-estimator:hover {background-color: #d4ebff;}#sk-container-id-1 div.sk-parallel-item::after {content: \"\";width: 100%;border-bottom: 1px solid gray;flex-grow: 1;}#sk-container-id-1 div.sk-label:hover label.sk-toggleable__label {background-color: #d4ebff;}#sk-container-id-1 div.sk-serial::before {content: \"\";position: absolute;border-left: 1px solid gray;box-sizing: border-box;top: 0;bottom: 0;left: 50%;z-index: 0;}#sk-container-id-1 div.sk-serial {display: flex;flex-direction: column;align-items: center;background-color: white;padding-right: 0.2em;padding-left: 0.2em;position: relative;}#sk-container-id-1 div.sk-item {position: relative;z-index: 1;}#sk-container-id-1 div.sk-parallel {display: flex;align-items: stretch;justify-content: center;background-color: white;position: relative;}#sk-container-id-1 div.sk-item::before, #sk-container-id-1 div.sk-parallel-item::before {content: \"\";position: absolute;border-left: 1px solid gray;box-sizing: border-box;top: 0;bottom: 0;left: 50%;z-index: -1;}#sk-container-id-1 div.sk-parallel-item {display: flex;flex-direction: column;z-index: 1;position: relative;background-color: white;}#sk-container-id-1 div.sk-parallel-item:first-child::after {align-self: flex-end;width: 50%;}#sk-container-id-1 div.sk-parallel-item:last-child::after {align-self: flex-start;width: 50%;}#sk-container-id-1 div.sk-parallel-item:only-child::after {width: 0;}#sk-container-id-1 div.sk-dashed-wrapped {border: 1px dashed gray;margin: 0 0.4em 0.5em 0.4em;box-sizing: border-box;padding-bottom: 0.4em;background-color: white;}#sk-container-id-1 div.sk-label label {font-family: monospace;font-weight: bold;display: inline-block;line-height: 1.2em;}#sk-container-id-1 div.sk-label-container {text-align: center;}#sk-container-id-1 div.sk-container {/* jupyter's `normalize.less` sets `[hidden] { display: none; }` but bootstrap.min.css set `[hidden] { display: none !important; }` so we also need the `!important` here to be able to override the default hidden behavior on the sphinx rendered scikit-learn.org. See: https://github.com/scikit-learn/scikit-learn/issues/21755 */display: inline-block !important;position: relative;}#sk-container-id-1 div.sk-text-repr-fallback {display: none;}</style><div id=\"sk-container-id-1\" class=\"sk-top-container\"><div class=\"sk-text-repr-fallback\"><pre>Pipeline(steps=[(&#x27;scale&#x27;, None), (&#x27;model&#x27;, LogisticRegression())])</pre><b>In a Jupyter environment, please rerun this cell to show the HTML representation or trust the notebook. <br />On GitHub, the HTML representation is unable to render, please try loading this page with nbviewer.org.</b></div><div class=\"sk-container\" hidden><div class=\"sk-item sk-dashed-wrapped\"><div class=\"sk-label-container\"><div class=\"sk-label sk-toggleable\"><input class=\"sk-toggleable__control sk-hidden--visually\" id=\"sk-estimator-id-1\" type=\"checkbox\" ><label for=\"sk-estimator-id-1\" class=\"sk-toggleable__label sk-toggleable__label-arrow\">Pipeline</label><div class=\"sk-toggleable__content\"><pre>Pipeline(steps=[(&#x27;scale&#x27;, None), (&#x27;model&#x27;, LogisticRegression())])</pre></div></div></div><div class=\"sk-serial\"><div class=\"sk-item\"><div class=\"sk-estimator sk-toggleable\"><input class=\"sk-toggleable__control sk-hidden--visually\" id=\"sk-estimator-id-2\" type=\"checkbox\" ><label for=\"sk-estimator-id-2\" class=\"sk-toggleable__label sk-toggleable__label-arrow\">None</label><div class=\"sk-toggleable__content\"><pre>None</pre></div></div></div><div class=\"sk-item\"><div class=\"sk-estimator sk-toggleable\"><input class=\"sk-toggleable__control sk-hidden--visually\" id=\"sk-estimator-id-3\" type=\"checkbox\" ><label for=\"sk-estimator-id-3\" class=\"sk-toggleable__label sk-toggleable__label-arrow\">LogisticRegression</label><div class=\"sk-toggleable__content\"><pre>LogisticRegression()</pre></div></div></div></div></div></div></div>"
      ],
      "text/plain": [
       "Pipeline(steps=[('scale', None), ('model', LogisticRegression())])"
      ]
     },
     "execution_count": 34,
     "metadata": {},
     "output_type": "execute_result"
    }
   ],
   "source": [
    "model.fit(X_train, y_train.values.ravel())"
   ]
  },
  {
   "cell_type": "code",
   "execution_count": 35,
   "id": "6e15e313",
   "metadata": {
    "execution": {
     "iopub.execute_input": "2025-08-19T18:44:56.482636Z",
     "iopub.status.busy": "2025-08-19T18:44:56.481634Z",
     "iopub.status.idle": "2025-08-19T18:44:56.588546Z",
     "shell.execute_reply": "2025-08-19T18:44:56.587846Z"
    },
    "papermill": {
     "duration": 0.123498,
     "end_time": "2025-08-19T18:44:56.589940",
     "exception": false,
     "start_time": "2025-08-19T18:44:56.466442",
     "status": "completed"
    },
    "tags": []
   },
   "outputs": [
    {
     "data": {
      "text/plain": [
       "0.8626017166425147"
      ]
     },
     "execution_count": 35,
     "metadata": {},
     "output_type": "execute_result"
    }
   ],
   "source": [
    "from fairness_multiverse.universe import predict_w_threshold\n",
    "\n",
    "probs_test = model.predict_proba(X_test)\n",
    "\n",
    "'''\n",
    "Below code returns a boolean array (or binary 0/1 array depending on how it’s used) where each element \n",
    "is True if the probability of class 1 is greater than or equal to the threshold, and False otherwise.\n",
    "'''\n",
    "y_pred_default = predict_w_threshold(probs_test, 0.5)\n",
    "\n",
    "from sklearn.metrics import accuracy_score\n",
    "\n",
    "# Naive prediction\n",
    "accuracy_score(y_true = y_true, y_pred = y_pred_default)"
   ]
  },
  {
   "cell_type": "code",
   "execution_count": 36,
   "id": "6f14067c",
   "metadata": {
    "execution": {
     "iopub.execute_input": "2025-08-19T18:44:56.637924Z",
     "iopub.status.busy": "2025-08-19T18:44:56.636279Z",
     "iopub.status.idle": "2025-08-19T18:44:56.732299Z",
     "shell.execute_reply": "2025-08-19T18:44:56.731542Z"
    },
    "papermill": {
     "duration": 0.125393,
     "end_time": "2025-08-19T18:44:56.734950",
     "exception": false,
     "start_time": "2025-08-19T18:44:56.609557",
     "status": "completed"
    },
    "tags": []
   },
   "outputs": [
    {
     "data": {
      "text/plain": [
       "array([0, 0, 0, ..., 0, 0, 0])"
      ]
     },
     "execution_count": 36,
     "metadata": {},
     "output_type": "execute_result"
    }
   ],
   "source": [
    "model.predict(X_test)"
   ]
  },
  {
   "cell_type": "markdown",
   "id": "3759920c",
   "metadata": {
    "papermill": {
     "duration": 0.012581,
     "end_time": "2025-08-19T18:44:56.771998",
     "exception": false,
     "start_time": "2025-08-19T18:44:56.759417",
     "status": "completed"
    },
    "tags": []
   },
   "source": [
    "# Conformal Prediction"
   ]
  },
  {
   "cell_type": "code",
   "execution_count": 37,
   "id": "14b27f59",
   "metadata": {
    "execution": {
     "iopub.execute_input": "2025-08-19T18:44:56.796645Z",
     "iopub.status.busy": "2025-08-19T18:44:56.796080Z",
     "iopub.status.idle": "2025-08-19T18:44:56.801172Z",
     "shell.execute_reply": "2025-08-19T18:44:56.800332Z"
    },
    "papermill": {
     "duration": 0.019625,
     "end_time": "2025-08-19T18:44:56.802978",
     "exception": false,
     "start_time": "2025-08-19T18:44:56.783353",
     "status": "completed"
    },
    "tags": []
   },
   "outputs": [],
   "source": [
    "# Miscoverage level for conformal prediction (10% allowed error rate => 90% target coverage)\n",
    "alpha = 0.1"
   ]
  },
  {
   "cell_type": "code",
   "execution_count": 38,
   "id": "59102472",
   "metadata": {
    "execution": {
     "iopub.execute_input": "2025-08-19T18:44:56.827312Z",
     "iopub.status.busy": "2025-08-19T18:44:56.826991Z",
     "iopub.status.idle": "2025-08-19T18:44:56.907912Z",
     "shell.execute_reply": "2025-08-19T18:44:56.907178Z"
    },
    "papermill": {
     "duration": 0.094598,
     "end_time": "2025-08-19T18:44:56.909376",
     "exception": false,
     "start_time": "2025-08-19T18:44:56.814778",
     "status": "completed"
    },
    "tags": []
   },
   "outputs": [],
   "source": [
    "probs_calib = model.predict_proba(X_calib)"
   ]
  },
  {
   "cell_type": "code",
   "execution_count": 39,
   "id": "a792d4dd",
   "metadata": {
    "execution": {
     "iopub.execute_input": "2025-08-19T18:44:56.935529Z",
     "iopub.status.busy": "2025-08-19T18:44:56.934880Z",
     "iopub.status.idle": "2025-08-19T18:44:56.942976Z",
     "shell.execute_reply": "2025-08-19T18:44:56.941909Z"
    },
    "papermill": {
     "duration": 0.022766,
     "end_time": "2025-08-19T18:44:56.944326",
     "exception": false,
     "start_time": "2025-08-19T18:44:56.921560",
     "status": "completed"
    },
    "tags": []
   },
   "outputs": [],
   "source": [
    "y_calib = y_calib.values.ravel().astype(int)"
   ]
  },
  {
   "cell_type": "code",
   "execution_count": 40,
   "id": "650fd033",
   "metadata": {
    "execution": {
     "iopub.execute_input": "2025-08-19T18:44:56.973453Z",
     "iopub.status.busy": "2025-08-19T18:44:56.971935Z",
     "iopub.status.idle": "2025-08-19T18:44:56.983289Z",
     "shell.execute_reply": "2025-08-19T18:44:56.982314Z"
    },
    "papermill": {
     "duration": 0.027047,
     "end_time": "2025-08-19T18:44:56.984705",
     "exception": false,
     "start_time": "2025-08-19T18:44:56.957658",
     "status": "completed"
    },
    "tags": []
   },
   "outputs": [],
   "source": [
    "from fairness_multiverse.conformal import compute_nc_scores\n",
    "\n",
    "# Compute nonconformity scores on calibration set (1 - probability of true class)\n",
    "nc_scores = compute_nc_scores(probs_calib, y_calib)"
   ]
  },
  {
   "cell_type": "code",
   "execution_count": 41,
   "id": "28ada44c",
   "metadata": {
    "execution": {
     "iopub.execute_input": "2025-08-19T18:44:57.023054Z",
     "iopub.status.busy": "2025-08-19T18:44:57.021728Z",
     "iopub.status.idle": "2025-08-19T18:44:57.031333Z",
     "shell.execute_reply": "2025-08-19T18:44:57.030146Z"
    },
    "papermill": {
     "duration": 0.035741,
     "end_time": "2025-08-19T18:44:57.032808",
     "exception": false,
     "start_time": "2025-08-19T18:44:56.997067",
     "status": "completed"
    },
    "tags": []
   },
   "outputs": [],
   "source": [
    "from fairness_multiverse.conformal import find_threshold\n",
    "\n",
    "# Find conformal threshold q_hat for the given alpha (split conformal method)\n",
    "q_hat = find_threshold(nc_scores, alpha)"
   ]
  },
  {
   "cell_type": "code",
   "execution_count": 42,
   "id": "df56469e",
   "metadata": {
    "execution": {
     "iopub.execute_input": "2025-08-19T18:44:57.061426Z",
     "iopub.status.busy": "2025-08-19T18:44:57.060148Z",
     "iopub.status.idle": "2025-08-19T18:44:57.070159Z",
     "shell.execute_reply": "2025-08-19T18:44:57.069115Z"
    },
    "papermill": {
     "duration": 0.02498,
     "end_time": "2025-08-19T18:44:57.071475",
     "exception": false,
     "start_time": "2025-08-19T18:44:57.046495",
     "status": "completed"
    },
    "tags": []
   },
   "outputs": [
    {
     "data": {
      "text/plain": [
       "0.678766258006127"
      ]
     },
     "execution_count": 42,
     "metadata": {},
     "output_type": "execute_result"
    }
   ],
   "source": [
    "q_hat"
   ]
  },
  {
   "cell_type": "code",
   "execution_count": 43,
   "id": "aa1f5faa",
   "metadata": {
    "execution": {
     "iopub.execute_input": "2025-08-19T18:44:57.100789Z",
     "iopub.status.busy": "2025-08-19T18:44:57.099455Z",
     "iopub.status.idle": "2025-08-19T18:44:57.655342Z",
     "shell.execute_reply": "2025-08-19T18:44:57.654382Z"
    },
    "papermill": {
     "duration": 0.571957,
     "end_time": "2025-08-19T18:44:57.657847",
     "exception": false,
     "start_time": "2025-08-19T18:44:57.085890",
     "status": "completed"
    },
    "tags": []
   },
   "outputs": [],
   "source": [
    "from fairness_multiverse.conformal import predict_conformal_sets\n",
    "\n",
    "# Generate prediction sets for each test example\n",
    "pred_sets = predict_conformal_sets(model, X_test, q_hat)"
   ]
  },
  {
   "cell_type": "code",
   "execution_count": 44,
   "id": "97f67a6b",
   "metadata": {
    "execution": {
     "iopub.execute_input": "2025-08-19T18:44:57.690545Z",
     "iopub.status.busy": "2025-08-19T18:44:57.689510Z",
     "iopub.status.idle": "2025-08-19T18:44:57.699007Z",
     "shell.execute_reply": "2025-08-19T18:44:57.697300Z"
    },
    "papermill": {
     "duration": 0.024958,
     "end_time": "2025-08-19T18:44:57.700993",
     "exception": false,
     "start_time": "2025-08-19T18:44:57.676035",
     "status": "completed"
    },
    "tags": []
   },
   "outputs": [],
   "source": [
    "y_true = y_true.squeeze()"
   ]
  },
  {
   "cell_type": "code",
   "execution_count": 45,
   "id": "e700e9a7",
   "metadata": {
    "execution": {
     "iopub.execute_input": "2025-08-19T18:44:57.728250Z",
     "iopub.status.busy": "2025-08-19T18:44:57.727482Z",
     "iopub.status.idle": "2025-08-19T18:44:58.231413Z",
     "shell.execute_reply": "2025-08-19T18:44:58.230160Z"
    },
    "papermill": {
     "duration": 0.518244,
     "end_time": "2025-08-19T18:44:58.233064",
     "exception": false,
     "start_time": "2025-08-19T18:44:57.714820",
     "status": "completed"
    },
    "tags": []
   },
   "outputs": [],
   "source": [
    "from fairness_multiverse.conformal import evaluate_sets\n",
    "\n",
    "# Evaluate coverage and average set size on test data\n",
    "metrics = evaluate_sets(pred_sets, y_true)"
   ]
  },
  {
   "cell_type": "markdown",
   "id": "efbacec0",
   "metadata": {
    "papermill": {
     "duration": 0.027718,
     "end_time": "2025-08-19T18:44:58.277383",
     "exception": false,
     "start_time": "2025-08-19T18:44:58.249665",
     "status": "completed"
    },
    "tags": []
   },
   "source": [
    "# CP Metrics"
   ]
  },
  {
   "cell_type": "code",
   "execution_count": 46,
   "id": "9de55fb1",
   "metadata": {
    "execution": {
     "iopub.execute_input": "2025-08-19T18:44:58.306610Z",
     "iopub.status.busy": "2025-08-19T18:44:58.305245Z",
     "iopub.status.idle": "2025-08-19T18:44:58.319891Z",
     "shell.execute_reply": "2025-08-19T18:44:58.318610Z"
    },
    "papermill": {
     "duration": 0.030718,
     "end_time": "2025-08-19T18:44:58.321873",
     "exception": false,
     "start_time": "2025-08-19T18:44:58.291155",
     "status": "completed"
    },
    "tags": []
   },
   "outputs": [
    {
     "data": {
      "text/plain": [
       "{'coverage': 0.9125515550105897, 'avg_size': 1.209408092743284}"
      ]
     },
     "execution_count": 46,
     "metadata": {},
     "output_type": "execute_result"
    }
   ],
   "source": [
    "metrics"
   ]
  },
  {
   "cell_type": "code",
   "execution_count": 47,
   "id": "64c340a1",
   "metadata": {
    "execution": {
     "iopub.execute_input": "2025-08-19T18:44:58.352739Z",
     "iopub.status.busy": "2025-08-19T18:44:58.351800Z",
     "iopub.status.idle": "2025-08-19T18:44:58.363636Z",
     "shell.execute_reply": "2025-08-19T18:44:58.361948Z"
    },
    "papermill": {
     "duration": 0.026887,
     "end_time": "2025-08-19T18:44:58.365443",
     "exception": false,
     "start_time": "2025-08-19T18:44:58.338556",
     "status": "completed"
    },
    "tags": []
   },
   "outputs": [],
   "source": [
    "example_universe = universe.copy()\n",
    "universe_training_year = example_universe.get(\"training_year\")\n",
    "universe_training_size = example_universe.get(\"training_size\")\n",
    "universe_scale = example_universe.get(\"scale\")\n",
    "universe_model = example_universe.get(\"model\")\n",
    "universe_exclude_features = example_universe.get(\"exclude_features\")\n",
    "universe_exclude_subgroups = example_universe.get(\"exclude_subgroups\")"
   ]
  },
  {
   "cell_type": "code",
   "execution_count": 48,
   "id": "dbb53cb4",
   "metadata": {
    "execution": {
     "iopub.execute_input": "2025-08-19T18:44:58.395478Z",
     "iopub.status.busy": "2025-08-19T18:44:58.394536Z",
     "iopub.status.idle": "2025-08-19T18:44:58.406028Z",
     "shell.execute_reply": "2025-08-19T18:44:58.404277Z"
    },
    "papermill": {
     "duration": 0.02697,
     "end_time": "2025-08-19T18:44:58.407765",
     "exception": false,
     "start_time": "2025-08-19T18:44:58.380795",
     "status": "completed"
    },
    "tags": []
   },
   "outputs": [],
   "source": [
    "cp_metrics_dict = {\n",
    "    \"universe_id\": [universe_id],\n",
    "    \"universe_training_year\": [universe_training_year],\n",
    "    \"universe_training_size\": [universe_training_size],\n",
    "    \"universe_scale\": [universe_scale],\n",
    "    \"universe_model\": [universe_model],\n",
    "    \"universe_exclude_features\": [universe_exclude_features],\n",
    "    \"universe_exclude_subgroups\": [universe_exclude_subgroups],\n",
    "    \"q_hat\": [q_hat],\n",
    "    \"coverage\": [metrics[\"coverage\"]],\n",
    "    \"avg_size\": [metrics[\"avg_size\"]],\n",
    "}"
   ]
  },
  {
   "cell_type": "code",
   "execution_count": 49,
   "id": "0d70d4b2",
   "metadata": {
    "execution": {
     "iopub.execute_input": "2025-08-19T18:44:58.472901Z",
     "iopub.status.busy": "2025-08-19T18:44:58.472442Z",
     "iopub.status.idle": "2025-08-19T18:44:58.478990Z",
     "shell.execute_reply": "2025-08-19T18:44:58.477799Z"
    },
    "papermill": {
     "duration": 0.039478,
     "end_time": "2025-08-19T18:44:58.481235",
     "exception": false,
     "start_time": "2025-08-19T18:44:58.441757",
     "status": "completed"
    },
    "tags": []
   },
   "outputs": [],
   "source": [
    "cp_metrics_df = pd.DataFrame(cp_metrics_dict)"
   ]
  },
  {
   "cell_type": "code",
   "execution_count": 50,
   "id": "b494403c",
   "metadata": {
    "execution": {
     "iopub.execute_input": "2025-08-19T18:44:58.519104Z",
     "iopub.status.busy": "2025-08-19T18:44:58.517678Z",
     "iopub.status.idle": "2025-08-19T18:44:58.552655Z",
     "shell.execute_reply": "2025-08-19T18:44:58.551724Z"
    },
    "papermill": {
     "duration": 0.052007,
     "end_time": "2025-08-19T18:44:58.555018",
     "exception": false,
     "start_time": "2025-08-19T18:44:58.503011",
     "status": "completed"
    },
    "tags": []
   },
   "outputs": [
    {
     "data": {
      "text/html": [
       "<div>\n",
       "<style scoped>\n",
       "    .dataframe tbody tr th:only-of-type {\n",
       "        vertical-align: middle;\n",
       "    }\n",
       "\n",
       "    .dataframe tbody tr th {\n",
       "        vertical-align: top;\n",
       "    }\n",
       "\n",
       "    .dataframe thead th {\n",
       "        text-align: right;\n",
       "    }\n",
       "</style>\n",
       "<table border=\"1\" class=\"dataframe\">\n",
       "  <thead>\n",
       "    <tr style=\"text-align: right;\">\n",
       "      <th></th>\n",
       "      <th>universe_id</th>\n",
       "      <th>universe_training_year</th>\n",
       "      <th>universe_training_size</th>\n",
       "      <th>universe_scale</th>\n",
       "      <th>universe_model</th>\n",
       "      <th>universe_exclude_features</th>\n",
       "      <th>universe_exclude_subgroups</th>\n",
       "      <th>q_hat</th>\n",
       "      <th>coverage</th>\n",
       "      <th>avg_size</th>\n",
       "    </tr>\n",
       "  </thead>\n",
       "  <tbody>\n",
       "    <tr>\n",
       "      <th>0</th>\n",
       "      <td>e064a309512d6db5d84cbe370a1f66ec</td>\n",
       "      <td>2010_14</td>\n",
       "      <td>5k</td>\n",
       "      <td>do-not-scale</td>\n",
       "      <td>logreg</td>\n",
       "      <td>sex</td>\n",
       "      <td>keep-all</td>\n",
       "      <td>0.678766</td>\n",
       "      <td>0.912552</td>\n",
       "      <td>1.209408</td>\n",
       "    </tr>\n",
       "  </tbody>\n",
       "</table>\n",
       "</div>"
      ],
      "text/plain": [
       "                        universe_id universe_training_year  \\\n",
       "0  e064a309512d6db5d84cbe370a1f66ec                2010_14   \n",
       "\n",
       "  universe_training_size universe_scale universe_model  \\\n",
       "0                     5k   do-not-scale         logreg   \n",
       "\n",
       "  universe_exclude_features universe_exclude_subgroups     q_hat  coverage  \\\n",
       "0                       sex                   keep-all  0.678766  0.912552   \n",
       "\n",
       "   avg_size  \n",
       "0  1.209408  "
      ]
     },
     "execution_count": 50,
     "metadata": {},
     "output_type": "execute_result"
    }
   ],
   "source": [
    "cp_metrics_df"
   ]
  },
  {
   "cell_type": "markdown",
   "id": "ed608b0b",
   "metadata": {
    "papermill": {
     "duration": 0.01297,
     "end_time": "2025-08-19T18:44:58.592454",
     "exception": false,
     "start_time": "2025-08-19T18:44:58.579484",
     "status": "completed"
    },
    "tags": []
   },
   "source": [
    "Conditional coverage & looking at subgroups"
   ]
  },
  {
   "cell_type": "code",
   "execution_count": 51,
   "id": "8968c366",
   "metadata": {
    "execution": {
     "iopub.execute_input": "2025-08-19T18:44:58.623238Z",
     "iopub.status.busy": "2025-08-19T18:44:58.622160Z",
     "iopub.status.idle": "2025-08-19T18:44:59.098068Z",
     "shell.execute_reply": "2025-08-19T18:44:59.096878Z"
    },
    "papermill": {
     "duration": 0.492172,
     "end_time": "2025-08-19T18:44:59.099780",
     "exception": false,
     "start_time": "2025-08-19T18:44:58.607608",
     "status": "completed"
    },
    "tags": []
   },
   "outputs": [],
   "source": [
    "from fairness_multiverse.conformal import build_cp_groups\n",
    "\n",
    "cp_groups_df = build_cp_groups(pred_sets, y_true, X_test.index, org_test)"
   ]
  },
  {
   "cell_type": "code",
   "execution_count": 52,
   "id": "292ddabf",
   "metadata": {
    "execution": {
     "iopub.execute_input": "2025-08-19T18:44:59.126529Z",
     "iopub.status.busy": "2025-08-19T18:44:59.126043Z",
     "iopub.status.idle": "2025-08-19T18:45:00.077177Z",
     "shell.execute_reply": "2025-08-19T18:45:00.074385Z"
    },
    "papermill": {
     "duration": 0.968005,
     "end_time": "2025-08-19T18:45:00.080676",
     "exception": false,
     "start_time": "2025-08-19T18:44:59.112671",
     "status": "completed"
    },
    "tags": []
   },
   "outputs": [],
   "source": [
    "# Define covered = 1 if true_label is in the predicted set\n",
    "cp_groups_df['covered'] = cp_groups_df.apply(\n",
    "    lambda r: int(r['true_label'] in r['pred_set']),\n",
    "    axis=1\n",
    ")"
   ]
  },
  {
   "cell_type": "code",
   "execution_count": 53,
   "id": "3a261692",
   "metadata": {
    "execution": {
     "iopub.execute_input": "2025-08-19T18:45:00.126594Z",
     "iopub.status.busy": "2025-08-19T18:45:00.125284Z",
     "iopub.status.idle": "2025-08-19T18:45:00.152014Z",
     "shell.execute_reply": "2025-08-19T18:45:00.150680Z"
    },
    "papermill": {
     "duration": 0.045496,
     "end_time": "2025-08-19T18:45:00.154183",
     "exception": false,
     "start_time": "2025-08-19T18:45:00.108687",
     "status": "completed"
    },
    "tags": []
   },
   "outputs": [],
   "source": [
    "subgroups = ['frau1','nongerman','nongerman_male','nongerman_female']\n",
    "\n",
    "# Conditional coverage for subgroup==1\n",
    "cond_coverage = {\n",
    "    g: cp_groups_df.loc[cp_groups_df[g]==1, 'covered'].mean()\n",
    "    for g in subgroups\n",
    "}"
   ]
  },
  {
   "cell_type": "code",
   "execution_count": 54,
   "id": "894fd600",
   "metadata": {
    "execution": {
     "iopub.execute_input": "2025-08-19T18:45:00.194480Z",
     "iopub.status.busy": "2025-08-19T18:45:00.193078Z",
     "iopub.status.idle": "2025-08-19T18:45:00.207749Z",
     "shell.execute_reply": "2025-08-19T18:45:00.205996Z"
    },
    "papermill": {
     "duration": 0.03257,
     "end_time": "2025-08-19T18:45:00.210305",
     "exception": false,
     "start_time": "2025-08-19T18:45:00.177735",
     "status": "completed"
    },
    "tags": []
   },
   "outputs": [
    {
     "data": {
      "text/plain": [
       "{'frau1': 0.912252325111201,\n",
       " 'nongerman': 0.9360579352158536,\n",
       " 'nongerman_male': 0.946410879942358,\n",
       " 'nongerman_female': 0.9189269746646795}"
      ]
     },
     "execution_count": 54,
     "metadata": {},
     "output_type": "execute_result"
    }
   ],
   "source": [
    "cond_coverage"
   ]
  },
  {
   "cell_type": "code",
   "execution_count": 55,
   "id": "942895c7",
   "metadata": {
    "execution": {
     "iopub.execute_input": "2025-08-19T18:45:00.249603Z",
     "iopub.status.busy": "2025-08-19T18:45:00.248643Z",
     "iopub.status.idle": "2025-08-19T18:45:00.257305Z",
     "shell.execute_reply": "2025-08-19T18:45:00.256221Z"
    },
    "papermill": {
     "duration": 0.025661,
     "end_time": "2025-08-19T18:45:00.259022",
     "exception": false,
     "start_time": "2025-08-19T18:45:00.233361",
     "status": "completed"
    },
    "tags": []
   },
   "outputs": [],
   "source": [
    "for subgroup, cov in cond_coverage.items():\n",
    "    cp_metrics_df[f\"cov_{subgroup}\"] = cov"
   ]
  },
  {
   "cell_type": "code",
   "execution_count": 56,
   "id": "3970120f",
   "metadata": {
    "execution": {
     "iopub.execute_input": "2025-08-19T18:45:00.291379Z",
     "iopub.status.busy": "2025-08-19T18:45:00.288446Z",
     "iopub.status.idle": "2025-08-19T18:45:00.311171Z",
     "shell.execute_reply": "2025-08-19T18:45:00.310413Z"
    },
    "papermill": {
     "duration": 0.037844,
     "end_time": "2025-08-19T18:45:00.312501",
     "exception": false,
     "start_time": "2025-08-19T18:45:00.274657",
     "status": "completed"
    },
    "tags": []
   },
   "outputs": [
    {
     "data": {
      "text/html": [
       "<div>\n",
       "<style scoped>\n",
       "    .dataframe tbody tr th:only-of-type {\n",
       "        vertical-align: middle;\n",
       "    }\n",
       "\n",
       "    .dataframe tbody tr th {\n",
       "        vertical-align: top;\n",
       "    }\n",
       "\n",
       "    .dataframe thead th {\n",
       "        text-align: right;\n",
       "    }\n",
       "</style>\n",
       "<table border=\"1\" class=\"dataframe\">\n",
       "  <thead>\n",
       "    <tr style=\"text-align: right;\">\n",
       "      <th></th>\n",
       "      <th>universe_id</th>\n",
       "      <th>universe_training_year</th>\n",
       "      <th>universe_training_size</th>\n",
       "      <th>universe_scale</th>\n",
       "      <th>universe_model</th>\n",
       "      <th>universe_exclude_features</th>\n",
       "      <th>universe_exclude_subgroups</th>\n",
       "      <th>q_hat</th>\n",
       "      <th>coverage</th>\n",
       "      <th>avg_size</th>\n",
       "      <th>cov_frau1</th>\n",
       "      <th>cov_nongerman</th>\n",
       "      <th>cov_nongerman_male</th>\n",
       "      <th>cov_nongerman_female</th>\n",
       "    </tr>\n",
       "  </thead>\n",
       "  <tbody>\n",
       "    <tr>\n",
       "      <th>0</th>\n",
       "      <td>e064a309512d6db5d84cbe370a1f66ec</td>\n",
       "      <td>2010_14</td>\n",
       "      <td>5k</td>\n",
       "      <td>do-not-scale</td>\n",
       "      <td>logreg</td>\n",
       "      <td>sex</td>\n",
       "      <td>keep-all</td>\n",
       "      <td>0.678766</td>\n",
       "      <td>0.912552</td>\n",
       "      <td>1.209408</td>\n",
       "      <td>0.912252</td>\n",
       "      <td>0.936058</td>\n",
       "      <td>0.946411</td>\n",
       "      <td>0.918927</td>\n",
       "    </tr>\n",
       "  </tbody>\n",
       "</table>\n",
       "</div>"
      ],
      "text/plain": [
       "                        universe_id universe_training_year  \\\n",
       "0  e064a309512d6db5d84cbe370a1f66ec                2010_14   \n",
       "\n",
       "  universe_training_size universe_scale universe_model  \\\n",
       "0                     5k   do-not-scale         logreg   \n",
       "\n",
       "  universe_exclude_features universe_exclude_subgroups     q_hat  coverage  \\\n",
       "0                       sex                   keep-all  0.678766  0.912552   \n",
       "\n",
       "   avg_size  cov_frau1  cov_nongerman  cov_nongerman_male  \\\n",
       "0  1.209408   0.912252       0.936058            0.946411   \n",
       "\n",
       "   cov_nongerman_female  \n",
       "0              0.918927  "
      ]
     },
     "execution_count": 56,
     "metadata": {},
     "output_type": "execute_result"
    }
   ],
   "source": [
    "cp_metrics_df"
   ]
  },
  {
   "cell_type": "markdown",
   "id": "3fc519cc",
   "metadata": {
    "papermill": {
     "duration": 0.020875,
     "end_time": "2025-08-19T18:45:00.347315",
     "exception": false,
     "start_time": "2025-08-19T18:45:00.326440",
     "status": "completed"
    },
    "tags": []
   },
   "source": [
    "# (Fairness) Metrics"
   ]
  },
  {
   "cell_type": "code",
   "execution_count": 57,
   "id": "a2e5e155",
   "metadata": {
    "execution": {
     "iopub.execute_input": "2025-08-19T18:45:00.386238Z",
     "iopub.status.busy": "2025-08-19T18:45:00.385133Z",
     "iopub.status.idle": "2025-08-19T18:45:00.414176Z",
     "shell.execute_reply": "2025-08-19T18:45:00.413254Z"
    },
    "papermill": {
     "duration": 0.045994,
     "end_time": "2025-08-19T18:45:00.416438",
     "exception": false,
     "start_time": "2025-08-19T18:45:00.370444",
     "status": "completed"
    },
    "tags": []
   },
   "outputs": [],
   "source": [
    "colname_to_bin = \"maxdeutsch1\"\n",
    "majority_value = org_train[colname_to_bin].mode()[0]\n",
    "\n",
    "org_test[\"majmin\"] = np.where(org_test[colname_to_bin] == majority_value, \"majority\", \"minority\")"
   ]
  },
  {
   "cell_type": "code",
   "execution_count": 58,
   "id": "17e3e4d5",
   "metadata": {
    "execution": {
     "iopub.execute_input": "2025-08-19T18:45:00.461724Z",
     "iopub.status.busy": "2025-08-19T18:45:00.460047Z",
     "iopub.status.idle": "2025-08-19T18:45:02.227833Z",
     "shell.execute_reply": "2025-08-19T18:45:02.225921Z"
    },
    "papermill": {
     "duration": 1.792267,
     "end_time": "2025-08-19T18:45:02.229665",
     "exception": false,
     "start_time": "2025-08-19T18:45:00.437398",
     "status": "completed"
    },
    "tags": []
   },
   "outputs": [],
   "source": [
    "example_universe = universe.copy()\n",
    "example_universe[\"cutoff\"] = example_universe[\"cutoff\"][0]\n",
    "example_universe[\"eval_fairness_grouping\"] = example_universe[\"eval_fairness_grouping\"][0]\n",
    "fairness_dict, metric_frame = universe_analysis.compute_metrics(\n",
    "    example_universe,\n",
    "    y_pred_prob=probs_test,\n",
    "    y_test=y_true,\n",
    "    org_test=org_test,\n",
    ")"
   ]
  },
  {
   "cell_type": "markdown",
   "id": "1fb7a0e9",
   "metadata": {
    "papermill": {
     "duration": 0.012726,
     "end_time": "2025-08-19T18:45:02.257469",
     "exception": false,
     "start_time": "2025-08-19T18:45:02.244743",
     "status": "completed"
    },
    "tags": []
   },
   "source": [
    "# Overall"
   ]
  },
  {
   "cell_type": "markdown",
   "id": "be1784b1",
   "metadata": {
    "papermill": {
     "duration": 0.012425,
     "end_time": "2025-08-19T18:45:02.282353",
     "exception": false,
     "start_time": "2025-08-19T18:45:02.269928",
     "status": "completed"
    },
    "tags": []
   },
   "source": [
    "Main fairness target: Equalized Odds. Seems to be a better fit than equal opportunity, since we're not only interested in Y = 1. Seems to be a better fit than demographic parity, since we also care about accuracy, not just equal distribution of preds.\n",
    "\n",
    "Pick column for computation of fairness metrics\n",
    "\n",
    "Performance\n",
    "Overall performance measures, most interesting in relation to the measures split by group below"
   ]
  },
  {
   "cell_type": "code",
   "execution_count": 59,
   "id": "b7672bee",
   "metadata": {
    "execution": {
     "iopub.execute_input": "2025-08-19T18:45:02.310629Z",
     "iopub.status.busy": "2025-08-19T18:45:02.310070Z",
     "iopub.status.idle": "2025-08-19T18:45:02.320775Z",
     "shell.execute_reply": "2025-08-19T18:45:02.320029Z"
    },
    "papermill": {
     "duration": 0.027306,
     "end_time": "2025-08-19T18:45:02.322097",
     "exception": false,
     "start_time": "2025-08-19T18:45:02.294791",
     "status": "completed"
    },
    "tags": []
   },
   "outputs": [
    {
     "data": {
      "text/plain": [
       "accuracy                   0.218292\n",
       "balanced accuracy          0.535029\n",
       "f1                         0.239791\n",
       "precision                  0.136985\n",
       "false positive rate        0.891013\n",
       "false negative rate        0.038929\n",
       "selection rate             0.900000\n",
       "count                  89710.000000\n",
       "dtype: float64"
      ]
     },
     "execution_count": 59,
     "metadata": {},
     "output_type": "execute_result"
    }
   ],
   "source": [
    "metric_frame.overall"
   ]
  },
  {
   "cell_type": "markdown",
   "id": "d93333c9",
   "metadata": {
    "papermill": {
     "duration": 0.0126,
     "end_time": "2025-08-19T18:45:02.351327",
     "exception": false,
     "start_time": "2025-08-19T18:45:02.338727",
     "status": "completed"
    },
    "tags": []
   },
   "source": [
    "By Group"
   ]
  },
  {
   "cell_type": "code",
   "execution_count": 60,
   "id": "52256966",
   "metadata": {
    "execution": {
     "iopub.execute_input": "2025-08-19T18:45:02.379410Z",
     "iopub.status.busy": "2025-08-19T18:45:02.378314Z",
     "iopub.status.idle": "2025-08-19T18:45:02.404952Z",
     "shell.execute_reply": "2025-08-19T18:45:02.404146Z"
    },
    "papermill": {
     "duration": 0.042897,
     "end_time": "2025-08-19T18:45:02.406682",
     "exception": false,
     "start_time": "2025-08-19T18:45:02.363785",
     "status": "completed"
    },
    "tags": []
   },
   "outputs": [
    {
     "data": {
      "text/html": [
       "<div>\n",
       "<style scoped>\n",
       "    .dataframe tbody tr th:only-of-type {\n",
       "        vertical-align: middle;\n",
       "    }\n",
       "\n",
       "    .dataframe tbody tr th {\n",
       "        vertical-align: top;\n",
       "    }\n",
       "\n",
       "    .dataframe thead th {\n",
       "        text-align: right;\n",
       "    }\n",
       "</style>\n",
       "<table border=\"1\" class=\"dataframe\">\n",
       "  <thead>\n",
       "    <tr style=\"text-align: right;\">\n",
       "      <th></th>\n",
       "      <th>accuracy</th>\n",
       "      <th>balanced accuracy</th>\n",
       "      <th>f1</th>\n",
       "      <th>precision</th>\n",
       "      <th>false positive rate</th>\n",
       "      <th>false negative rate</th>\n",
       "      <th>selection rate</th>\n",
       "      <th>count</th>\n",
       "    </tr>\n",
       "    <tr>\n",
       "      <th>majmin</th>\n",
       "      <th></th>\n",
       "      <th></th>\n",
       "      <th></th>\n",
       "      <th></th>\n",
       "      <th></th>\n",
       "      <th></th>\n",
       "      <th></th>\n",
       "      <th></th>\n",
       "    </tr>\n",
       "  </thead>\n",
       "  <tbody>\n",
       "    <tr>\n",
       "      <th>majority</th>\n",
       "      <td>0.24022</td>\n",
       "      <td>0.543069</td>\n",
       "      <td>0.249293</td>\n",
       "      <td>0.143364</td>\n",
       "      <td>0.868566</td>\n",
       "      <td>0.045295</td>\n",
       "      <td>0.879948</td>\n",
       "      <td>69170.0</td>\n",
       "    </tr>\n",
       "    <tr>\n",
       "      <th>minority</th>\n",
       "      <td>0.14445</td>\n",
       "      <td>0.510238</td>\n",
       "      <td>0.209883</td>\n",
       "      <td>0.117446</td>\n",
       "      <td>0.965166</td>\n",
       "      <td>0.014358</td>\n",
       "      <td>0.967527</td>\n",
       "      <td>20540.0</td>\n",
       "    </tr>\n",
       "  </tbody>\n",
       "</table>\n",
       "</div>"
      ],
      "text/plain": [
       "          accuracy  balanced accuracy        f1  precision  \\\n",
       "majmin                                                       \n",
       "majority   0.24022           0.543069  0.249293   0.143364   \n",
       "minority   0.14445           0.510238  0.209883   0.117446   \n",
       "\n",
       "          false positive rate  false negative rate  selection rate    count  \n",
       "majmin                                                                       \n",
       "majority             0.868566             0.045295        0.879948  69170.0  \n",
       "minority             0.965166             0.014358        0.967527  20540.0  "
      ]
     },
     "execution_count": 60,
     "metadata": {},
     "output_type": "execute_result"
    }
   ],
   "source": [
    "metric_frame.by_group"
   ]
  },
  {
   "cell_type": "code",
   "execution_count": 61,
   "id": "6e6c20ae",
   "metadata": {
    "execution": {
     "iopub.execute_input": "2025-08-19T18:45:02.447735Z",
     "iopub.status.busy": "2025-08-19T18:45:02.446649Z",
     "iopub.status.idle": "2025-08-19T18:45:04.392339Z",
     "shell.execute_reply": "2025-08-19T18:45:04.391374Z"
    },
    "papermill": {
     "duration": 1.962426,
     "end_time": "2025-08-19T18:45:04.393714",
     "exception": false,
     "start_time": "2025-08-19T18:45:02.431288",
     "status": "completed"
    },
    "tags": []
   },
   "outputs": [
    {
     "data": {
      "text/plain": [
       "array([[<Axes: title={'center': 'accuracy'}, xlabel='majmin'>,\n",
       "        <Axes: title={'center': 'balanced accuracy'}, xlabel='majmin'>,\n",
       "        <Axes: title={'center': 'f1'}, xlabel='majmin'>],\n",
       "       [<Axes: title={'center': 'precision'}, xlabel='majmin'>,\n",
       "        <Axes: title={'center': 'false positive rate'}, xlabel='majmin'>,\n",
       "        <Axes: title={'center': 'false negative rate'}, xlabel='majmin'>],\n",
       "       [<Axes: title={'center': 'selection rate'}, xlabel='majmin'>,\n",
       "        <Axes: title={'center': 'count'}, xlabel='majmin'>,\n",
       "        <Axes: xlabel='majmin'>]], dtype=object)"
      ]
     },
     "execution_count": 61,
     "metadata": {},
     "output_type": "execute_result"
    },
    {
     "data": {
      "image/png": "[encoded data removed]",
      "text/plain": [
       "<Figure size 1200x800 with 9 Axes>"
      ]
     },
     "metadata": {},
     "output_type": "display_data"
    }
   ],
   "source": [
    "# In a graphic\n",
    "metric_frame.by_group.plot.bar(\n",
    "    subplots=True,\n",
    "    layout=[3, 3],\n",
    "    legend=False,\n",
    "    figsize=[12, 8],\n",
    "    title=\"Show all metrics\",\n",
    ")"
   ]
  },
  {
   "cell_type": "markdown",
   "id": "b2e433ae",
   "metadata": {
    "papermill": {
     "duration": 0.013913,
     "end_time": "2025-08-19T18:45:04.422592",
     "exception": false,
     "start_time": "2025-08-19T18:45:04.408679",
     "status": "completed"
    },
    "tags": []
   },
   "source": [
    "# Final Output"
   ]
  },
  {
   "cell_type": "code",
   "execution_count": 62,
   "id": "3871301e",
   "metadata": {
    "execution": {
     "iopub.execute_input": "2025-08-19T18:45:04.454819Z",
     "iopub.status.busy": "2025-08-19T18:45:04.452354Z",
     "iopub.status.idle": "2025-08-19T18:45:04.472244Z",
     "shell.execute_reply": "2025-08-19T18:45:04.470335Z"
    },
    "papermill": {
     "duration": 0.037762,
     "end_time": "2025-08-19T18:45:04.474078",
     "exception": false,
     "start_time": "2025-08-19T18:45:04.436316",
     "status": "completed"
    },
    "tags": []
   },
   "outputs": [
    {
     "data": {
      "text/plain": [
       "4"
      ]
     },
     "execution_count": 62,
     "metadata": {},
     "output_type": "execute_result"
    }
   ],
   "source": [
    "sub_universes = universe_analysis.generate_sub_universes()\n",
    "len(sub_universes)"
   ]
  },
  {
   "cell_type": "code",
   "execution_count": 63,
   "id": "d9cfdaca",
   "metadata": {
    "execution": {
     "iopub.execute_input": "2025-08-19T18:45:04.515156Z",
     "iopub.status.busy": "2025-08-19T18:45:04.513667Z",
     "iopub.status.idle": "2025-08-19T18:45:04.520296Z",
     "shell.execute_reply": "2025-08-19T18:45:04.519721Z"
    },
    "papermill": {
     "duration": 0.024238,
     "end_time": "2025-08-19T18:45:04.521528",
     "exception": false,
     "start_time": "2025-08-19T18:45:04.497290",
     "status": "completed"
    },
    "tags": []
   },
   "outputs": [],
   "source": [
    "def filter_sub_universe_data(sub_universe, org_test):\n",
    "    # Keep all rows — no filtering\n",
    "    keep_rows_mask = np.ones(org_test.shape[0], dtype=bool)\n",
    "\n",
    "    print(f\"[INFO] Keeping all rows: {keep_rows_mask.sum()} rows retained.\")\n",
    "    return keep_rows_mask"
   ]
  },
  {
   "cell_type": "code",
   "execution_count": 64,
   "id": "2bc31ac1",
   "metadata": {
    "execution": {
     "iopub.execute_input": "2025-08-19T18:45:04.562654Z",
     "iopub.status.busy": "2025-08-19T18:45:04.561957Z",
     "iopub.status.idle": "2025-08-19T18:45:11.461299Z",
     "shell.execute_reply": "2025-08-19T18:45:11.455541Z"
    },
    "papermill": {
     "duration": 6.92517,
     "end_time": "2025-08-19T18:45:11.463099",
     "exception": false,
     "start_time": "2025-08-19T18:45:04.537929",
     "status": "completed"
    },
    "tags": []
   },
   "outputs": [
    {
     "name": "stdout",
     "output_type": "stream",
     "text": [
      "Stopping execution_time clock.\n",
      "[INFO] Keeping all rows: 89710 rows retained.\n"
     ]
    },
    {
     "name": "stdout",
     "output_type": "stream",
     "text": [
      "[INFO] Keeping all rows: 89710 rows retained.\n"
     ]
    },
    {
     "name": "stdout",
     "output_type": "stream",
     "text": [
      "[INFO] Keeping all rows: 89710 rows retained.\n"
     ]
    },
    {
     "name": "stdout",
     "output_type": "stream",
     "text": [
      "[INFO] Keeping all rows: 89710 rows retained.\n"
     ]
    },
    {
     "data": {
      "text/html": [
       "<div>\n",
       "<style scoped>\n",
       "    .dataframe tbody tr th:only-of-type {\n",
       "        vertical-align: middle;\n",
       "    }\n",
       "\n",
       "    .dataframe tbody tr th {\n",
       "        vertical-align: top;\n",
       "    }\n",
       "\n",
       "    .dataframe thead th {\n",
       "        text-align: right;\n",
       "    }\n",
       "</style>\n",
       "<table border=\"1\" class=\"dataframe\">\n",
       "  <thead>\n",
       "    <tr style=\"text-align: right;\">\n",
       "      <th></th>\n",
       "      <th>run_no</th>\n",
       "      <th>universe_id</th>\n",
       "      <th>universe_settings</th>\n",
       "      <th>execution_time</th>\n",
       "      <th>test_size_n</th>\n",
       "      <th>test_size_frac</th>\n",
       "      <th>fair_main_equalized_odds_difference</th>\n",
       "      <th>fair_main_equalized_odds_ratio</th>\n",
       "      <th>fair_main_demographic_parity_difference</th>\n",
       "      <th>fair_main_demographic_parity_ratio</th>\n",
       "      <th>...</th>\n",
       "      <th>perf_grp_precision_0</th>\n",
       "      <th>perf_grp_precision_1</th>\n",
       "      <th>perf_grp_false positive rate_0</th>\n",
       "      <th>perf_grp_false positive rate_1</th>\n",
       "      <th>perf_grp_false negative rate_0</th>\n",
       "      <th>perf_grp_false negative rate_1</th>\n",
       "      <th>perf_grp_selection rate_0</th>\n",
       "      <th>perf_grp_selection rate_1</th>\n",
       "      <th>perf_grp_count_0</th>\n",
       "      <th>perf_grp_count_1</th>\n",
       "    </tr>\n",
       "  </thead>\n",
       "  <tbody>\n",
       "    <tr>\n",
       "      <th>0</th>\n",
       "      <td>3</td>\n",
       "      <td>e064a309512d6db5d84cbe370a1f66ec</td>\n",
       "      <td>{\"cutoff\": \"quantile_0.1\", \"eval_fairness_grou...</td>\n",
       "      <td>21.214463</td>\n",
       "      <td>89710</td>\n",
       "      <td>1.0</td>\n",
       "      <td>0.096600</td>\n",
       "      <td>0.899913</td>\n",
       "      <td>0.087579</td>\n",
       "      <td>0.909482</td>\n",
       "      <td>...</td>\n",
       "      <td>NaN</td>\n",
       "      <td>NaN</td>\n",
       "      <td>NaN</td>\n",
       "      <td>NaN</td>\n",
       "      <td>NaN</td>\n",
       "      <td>NaN</td>\n",
       "      <td>NaN</td>\n",
       "      <td>NaN</td>\n",
       "      <td>NaN</td>\n",
       "      <td>NaN</td>\n",
       "    </tr>\n",
       "    <tr>\n",
       "      <th>0</th>\n",
       "      <td>3</td>\n",
       "      <td>e064a309512d6db5d84cbe370a1f66ec</td>\n",
       "      <td>{\"cutoff\": \"quantile_0.1\", \"eval_fairness_grou...</td>\n",
       "      <td>21.214463</td>\n",
       "      <td>89710</td>\n",
       "      <td>1.0</td>\n",
       "      <td>0.096600</td>\n",
       "      <td>0.899913</td>\n",
       "      <td>0.087579</td>\n",
       "      <td>0.909482</td>\n",
       "      <td>...</td>\n",
       "      <td>0.117446</td>\n",
       "      <td>0.143364</td>\n",
       "      <td>0.965166</td>\n",
       "      <td>0.868566</td>\n",
       "      <td>0.014358</td>\n",
       "      <td>0.045295</td>\n",
       "      <td>0.967527</td>\n",
       "      <td>0.879948</td>\n",
       "      <td>20540.0</td>\n",
       "      <td>69170.0</td>\n",
       "    </tr>\n",
       "    <tr>\n",
       "      <th>0</th>\n",
       "      <td>3</td>\n",
       "      <td>e064a309512d6db5d84cbe370a1f66ec</td>\n",
       "      <td>{\"cutoff\": \"quantile_0.25\", \"eval_fairness_gro...</td>\n",
       "      <td>21.214463</td>\n",
       "      <td>89710</td>\n",
       "      <td>1.0</td>\n",
       "      <td>0.219307</td>\n",
       "      <td>0.756001</td>\n",
       "      <td>0.200927</td>\n",
       "      <td>0.777961</td>\n",
       "      <td>...</td>\n",
       "      <td>NaN</td>\n",
       "      <td>NaN</td>\n",
       "      <td>NaN</td>\n",
       "      <td>NaN</td>\n",
       "      <td>NaN</td>\n",
       "      <td>NaN</td>\n",
       "      <td>NaN</td>\n",
       "      <td>NaN</td>\n",
       "      <td>NaN</td>\n",
       "      <td>NaN</td>\n",
       "    </tr>\n",
       "    <tr>\n",
       "      <th>0</th>\n",
       "      <td>3</td>\n",
       "      <td>e064a309512d6db5d84cbe370a1f66ec</td>\n",
       "      <td>{\"cutoff\": \"quantile_0.25\", \"eval_fairness_gro...</td>\n",
       "      <td>21.214463</td>\n",
       "      <td>89710</td>\n",
       "      <td>1.0</td>\n",
       "      <td>0.219307</td>\n",
       "      <td>0.756001</td>\n",
       "      <td>0.200927</td>\n",
       "      <td>0.777961</td>\n",
       "      <td>...</td>\n",
       "      <td>0.121268</td>\n",
       "      <td>0.162337</td>\n",
       "      <td>0.898800</td>\n",
       "      <td>0.679494</td>\n",
       "      <td>0.048142</td>\n",
       "      <td>0.135120</td>\n",
       "      <td>0.904917</td>\n",
       "      <td>0.703990</td>\n",
       "      <td>20540.0</td>\n",
       "      <td>69170.0</td>\n",
       "    </tr>\n",
       "  </tbody>\n",
       "</table>\n",
       "<p>4 rows × 50 columns</p>\n",
       "</div>"
      ],
      "text/plain": [
       "  run_no                       universe_id  \\\n",
       "0      3  e064a309512d6db5d84cbe370a1f66ec   \n",
       "0      3  e064a309512d6db5d84cbe370a1f66ec   \n",
       "0      3  e064a309512d6db5d84cbe370a1f66ec   \n",
       "0      3  e064a309512d6db5d84cbe370a1f66ec   \n",
       "\n",
       "                                   universe_settings  execution_time  \\\n",
       "0  {\"cutoff\": \"quantile_0.1\", \"eval_fairness_grou...       21.214463   \n",
       "0  {\"cutoff\": \"quantile_0.1\", \"eval_fairness_grou...       21.214463   \n",
       "0  {\"cutoff\": \"quantile_0.25\", \"eval_fairness_gro...       21.214463   \n",
       "0  {\"cutoff\": \"quantile_0.25\", \"eval_fairness_gro...       21.214463   \n",
       "\n",
       "   test_size_n  test_size_frac  fair_main_equalized_odds_difference  \\\n",
       "0        89710             1.0                             0.096600   \n",
       "0        89710             1.0                             0.096600   \n",
       "0        89710             1.0                             0.219307   \n",
       "0        89710             1.0                             0.219307   \n",
       "\n",
       "   fair_main_equalized_odds_ratio  fair_main_demographic_parity_difference  \\\n",
       "0                        0.899913                                 0.087579   \n",
       "0                        0.899913                                 0.087579   \n",
       "0                        0.756001                                 0.200927   \n",
       "0                        0.756001                                 0.200927   \n",
       "\n",
       "   fair_main_demographic_parity_ratio  ...  perf_grp_precision_0  \\\n",
       "0                            0.909482  ...                   NaN   \n",
       "0                            0.909482  ...              0.117446   \n",
       "0                            0.777961  ...                   NaN   \n",
       "0                            0.777961  ...              0.121268   \n",
       "\n",
       "   perf_grp_precision_1  perf_grp_false positive rate_0  \\\n",
       "0                   NaN                             NaN   \n",
       "0              0.143364                        0.965166   \n",
       "0                   NaN                             NaN   \n",
       "0              0.162337                        0.898800   \n",
       "\n",
       "   perf_grp_false positive rate_1  perf_grp_false negative rate_0  \\\n",
       "0                             NaN                             NaN   \n",
       "0                        0.868566                        0.014358   \n",
       "0                             NaN                             NaN   \n",
       "0                        0.679494                        0.048142   \n",
       "\n",
       "   perf_grp_false negative rate_1  perf_grp_selection rate_0  \\\n",
       "0                             NaN                        NaN   \n",
       "0                        0.045295                   0.967527   \n",
       "0                             NaN                        NaN   \n",
       "0                        0.135120                   0.904917   \n",
       "\n",
       "   perf_grp_selection rate_1  perf_grp_count_0  perf_grp_count_1  \n",
       "0                        NaN               NaN               NaN  \n",
       "0                   0.879948           20540.0           69170.0  \n",
       "0                        NaN               NaN               NaN  \n",
       "0                   0.703990           20540.0           69170.0  \n",
       "\n",
       "[4 rows x 50 columns]"
      ]
     },
     "execution_count": 64,
     "metadata": {},
     "output_type": "execute_result"
    }
   ],
   "source": [
    "final_output = universe_analysis.generate_final_output(\n",
    "    y_pred_prob=probs_test,\n",
    "    y_test=y_true,\n",
    "    org_test=org_test,\n",
    "    filter_data=filter_sub_universe_data,\n",
    "    cp_metrics_df=cp_metrics_df,\n",
    "    save=True,\n",
    ")\n",
    "final_output"
   ]
  },
  {
   "cell_type": "code",
   "execution_count": null,
   "id": "8b80a1ff",
   "metadata": {
    "papermill": {
     "duration": 0.015453,
     "end_time": "2025-08-19T18:45:11.499969",
     "exception": false,
     "start_time": "2025-08-19T18:45:11.484516",
     "status": "completed"
    },
    "tags": []
   },
   "outputs": [],
   "source": []
  },
  {
   "cell_type": "code",
   "execution_count": null,
   "id": "275c9fad",
   "metadata": {
    "papermill": {
     "duration": 0.018711,
     "end_time": "2025-08-19T18:45:11.535932",
     "exception": false,
     "start_time": "2025-08-19T18:45:11.517221",
     "status": "completed"
    },
    "tags": []
   },
   "outputs": [],
   "source": []
  }
 ],
 "metadata": {
  "celltoolbar": "Tags",
  "kernelspec": {
   "display_name": "Python (CMA Fairness)",
   "language": "python",
   "name": "cma_fair_env"
  },
  "language_info": {
   "codemirror_mode": {
    "name": "ipython",
    "version": 3
   },
   "file_extension": ".py",
   "mimetype": "text/x-python",
   "name": "python",
   "nbconvert_exporter": "python",
   "pygments_lexer": "ipython3",
   "version": "3.10.12"
  },
  "papermill": {
   "default_parameters": {},
   "duration": 32.34358,
   "end_time": "2025-08-19T18:45:12.579534",
   "environment_variables": {},
   "exception": null,
   "input_path": "universe_analysis.ipynb",
   "output_path": "output/runs/3/notebooks/m_3-e064a309512d6db5d84cbe370a1f66ec.ipynb",
   "parameters": {
    "output_dir": "output",
    "run_no": "3",
    "seed": "2023",
    "universe": "{\"cutoff\": [\"quantile_0.1\", \"quantile_0.25\"], \"eval_fairness_grouping\": [\"majority-minority\", \"nationality-all\"], \"exclude_features\": \"sex\", \"exclude_subgroups\": \"keep-all\", \"model\": \"logreg\", \"scale\": \"do-not-scale\", \"training_size\": \"5k\", \"training_year\": \"2010_14\"}",
    "universe_id": "e064a309512d6db5d84cbe370a1f66ec"
   },
   "start_time": "2025-08-19T18:44:40.235954",
   "version": "2.6.0"
  }
 },
 "nbformat": 4,
 "nbformat_minor": 5
}