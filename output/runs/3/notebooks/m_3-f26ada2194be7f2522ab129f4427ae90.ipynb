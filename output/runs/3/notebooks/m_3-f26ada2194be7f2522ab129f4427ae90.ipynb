{
 "cells": [
  {
   "cell_type": "markdown",
   "id": "ef23dbb3",
   "metadata": {
    "papermill": {
     "duration": 0.012209,
     "end_time": "2025-08-19T18:24:11.574663",
     "exception": false,
     "start_time": "2025-08-19T18:24:11.562454",
     "status": "completed"
    },
    "tags": []
   },
   "source": [
    "# Setup"
   ]
  },
  {
   "cell_type": "code",
   "execution_count": 1,
   "id": "0bc8e7dc",
   "metadata": {
    "execution": {
     "iopub.execute_input": "2025-08-19T18:24:11.603812Z",
     "iopub.status.busy": "2025-08-19T18:24:11.602606Z",
     "iopub.status.idle": "2025-08-19T18:24:11.622943Z",
     "shell.execute_reply": "2025-08-19T18:24:11.621838Z"
    },
    "papermill": {
     "duration": 0.038595,
     "end_time": "2025-08-19T18:24:11.624404",
     "exception": false,
     "start_time": "2025-08-19T18:24:11.585809",
     "status": "completed"
    },
    "tags": []
   },
   "outputs": [
    {
     "name": "stdout",
     "output_type": "stream",
     "text": [
      "/dss/dsshome1/0C/ra93lal2/cma/CMA_Fairness_v2\n"
     ]
    },
    {
     "name": "stderr",
     "output_type": "stream",
     "text": [
      "/dss/dsshome1/0C/ra93lal2/.local/share/virtualenvs/CMA_Fairness_v2-3j10GkSs/lib/python3.10/site-packages/IPython/core/magics/osm.py:393: UserWarning: This is now an optional IPython functionality, using bookmarks requires you to install the `pickleshare` library.\n",
      "  bkms = self.shell.db.get('bookmarks', {})\n",
      "/dss/dsshome1/0C/ra93lal2/.local/share/virtualenvs/CMA_Fairness_v2-3j10GkSs/lib/python3.10/site-packages/IPython/core/magics/osm.py:417: UserWarning: This is now an optional IPython functionality, setting dhist requires you to install the `pickleshare` library.\n",
      "  self.shell.db['dhist'] = compress_dhist(dhist)[-100:]\n"
     ]
    }
   ],
   "source": [
    "%cd ~/cma/CMA_Fairness_v2"
   ]
  },
  {
   "cell_type": "markdown",
   "id": "9d235661",
   "metadata": {
    "papermill": {
     "duration": 0.009111,
     "end_time": "2025-08-19T18:24:11.643438",
     "exception": false,
     "start_time": "2025-08-19T18:24:11.634327",
     "status": "completed"
    },
    "tags": []
   },
   "source": [
    "The following cell holds the definition of our parameters, these values can be overriden by rendering the with e.g. the following command:\n",
    "\n",
    "papermill -p alpha 0.2 -p ratio 0.3 universe_analysis.ipynb output/test_run.ipynb"
   ]
  },
  {
   "cell_type": "code",
   "execution_count": 2,
   "id": "4a789d8e",
   "metadata": {
    "execution": {
     "iopub.execute_input": "2025-08-19T18:24:11.662407Z",
     "iopub.status.busy": "2025-08-19T18:24:11.661926Z",
     "iopub.status.idle": "2025-08-19T18:24:11.667681Z",
     "shell.execute_reply": "2025-08-19T18:24:11.666754Z"
    },
    "papermill": {
     "duration": 0.0176,
     "end_time": "2025-08-19T18:24:11.669861",
     "exception": false,
     "start_time": "2025-08-19T18:24:11.652261",
     "status": "completed"
    },
    "tags": []
   },
   "outputs": [
    {
     "name": "stdout",
     "output_type": "stream",
     "text": [
      "Current working directory: /dss/dsshome1/0C/ra93lal2/cma/CMA_Fairness_v2\n"
     ]
    }
   ],
   "source": [
    "import os\n",
    "print(\"Current working directory:\", os.getcwd())"
   ]
  },
  {
   "cell_type": "code",
   "execution_count": 3,
   "id": "4132aaed",
   "metadata": {
    "execution": {
     "iopub.execute_input": "2025-08-19T18:24:11.691408Z",
     "iopub.status.busy": "2025-08-19T18:24:11.690450Z",
     "iopub.status.idle": "2025-08-19T18:24:11.700374Z",
     "shell.execute_reply": "2025-08-19T18:24:11.699059Z"
    },
    "papermill": {
     "duration": 0.022135,
     "end_time": "2025-08-19T18:24:11.702338",
     "exception": false,
     "start_time": "2025-08-19T18:24:11.680203",
     "status": "completed"
    },
    "tags": [
     "parameters"
    ]
   },
   "outputs": [],
   "source": [
    "run_no = 0\n",
    "universe_id = \"test\"\n",
    "universe = {\n",
    "    \"training_size\": \"5k\", # \"25k\", \"5k\", \"1k\"\n",
    "    \"training_year\": \"2012_14\", # \"2014\", \"2012_14\", \"2010_14\"\n",
    "    \"scale\": \"scale\", # \"scale\", \"do-not-scale\",\n",
    "    \"model\": \"elasticnet\", # \"logreg\", \"penalized_logreg\", \"rf\", \"gbm\", \"elasticnet\"\n",
    "    \"cutoff\": [\"quantile_0.15\", \"quantile_0.30\"],\n",
    "    \"exclude_features\": \"age\", # \"none\", \"nationality\", \"sex\", \"nationality-sex\", \"age\"\n",
    "    \"exclude_subgroups\": \"drop-non-german\", # \"keep-all\", \"drop-non-german\"\n",
    "    \"eval_fairness_grouping\": [\"majority-minority\", \"nationality-all\"]\n",
    "}\n",
    "\n",
    "output_dir=\"./output\"\n",
    "seed=0"
   ]
  },
  {
   "cell_type": "code",
   "execution_count": 4,
   "id": "1773ca65",
   "metadata": {
    "execution": {
     "iopub.execute_input": "2025-08-19T18:24:11.722150Z",
     "iopub.status.busy": "2025-08-19T18:24:11.721385Z",
     "iopub.status.idle": "2025-08-19T18:24:11.726161Z",
     "shell.execute_reply": "2025-08-19T18:24:11.725486Z"
    },
    "papermill": {
     "duration": 0.015819,
     "end_time": "2025-08-19T18:24:11.727391",
     "exception": false,
     "start_time": "2025-08-19T18:24:11.711572",
     "status": "completed"
    },
    "tags": [
     "injected-parameters"
    ]
   },
   "outputs": [],
   "source": [
    "# Parameters\n",
    "universe_id = \"f26ada2194be7f2522ab129f4427ae90\"\n",
    "run_no = \"3\"\n",
    "universe = \"{\\\"cutoff\\\": [\\\"quantile_0.1\\\", \\\"quantile_0.25\\\"], \\\"eval_fairness_grouping\\\": [\\\"majority-minority\\\", \\\"nationality-all\\\"], \\\"exclude_features\\\": \\\"none\\\", \\\"exclude_subgroups\\\": \\\"keep-all\\\", \\\"model\\\": \\\"rf\\\", \\\"scale\\\": \\\"scale\\\", \\\"training_size\\\": \\\"5k\\\", \\\"training_year\\\": \\\"2014\\\"}\"\n",
    "output_dir = \"output\"\n",
    "seed = \"2023\"\n"
   ]
  },
  {
   "cell_type": "code",
   "execution_count": 5,
   "id": "a5d7941f",
   "metadata": {
    "execution": {
     "iopub.execute_input": "2025-08-19T18:24:11.747083Z",
     "iopub.status.busy": "2025-08-19T18:24:11.746619Z",
     "iopub.status.idle": "2025-08-19T18:24:11.750827Z",
     "shell.execute_reply": "2025-08-19T18:24:11.750131Z"
    },
    "papermill": {
     "duration": 0.015251,
     "end_time": "2025-08-19T18:24:11.752007",
     "exception": false,
     "start_time": "2025-08-19T18:24:11.736756",
     "status": "completed"
    },
    "tags": []
   },
   "outputs": [],
   "source": [
    "import json\n",
    "if isinstance(universe, str):\n",
    "    universe = json.loads(universe)"
   ]
  },
  {
   "cell_type": "code",
   "execution_count": 6,
   "id": "7076ccb1",
   "metadata": {
    "execution": {
     "iopub.execute_input": "2025-08-19T18:24:11.772983Z",
     "iopub.status.busy": "2025-08-19T18:24:11.772524Z",
     "iopub.status.idle": "2025-08-19T18:24:11.811796Z",
     "shell.execute_reply": "2025-08-19T18:24:11.811012Z"
    },
    "papermill": {
     "duration": 0.053007,
     "end_time": "2025-08-19T18:24:11.814574",
     "exception": false,
     "start_time": "2025-08-19T18:24:11.761567",
     "status": "completed"
    },
    "tags": []
   },
   "outputs": [],
   "source": [
    "# Auto-reload the custom package\n",
    "%load_ext autoreload\n",
    "%autoreload 1\n",
    "%aimport fairness_multiverse"
   ]
  },
  {
   "cell_type": "code",
   "execution_count": 7,
   "id": "94c8eb93",
   "metadata": {
    "execution": {
     "iopub.execute_input": "2025-08-19T18:24:11.852147Z",
     "iopub.status.busy": "2025-08-19T18:24:11.851304Z",
     "iopub.status.idle": "2025-08-19T18:24:13.434017Z",
     "shell.execute_reply": "2025-08-19T18:24:13.432543Z"
    },
    "papermill": {
     "duration": 1.598556,
     "end_time": "2025-08-19T18:24:13.435731",
     "exception": false,
     "start_time": "2025-08-19T18:24:11.837175",
     "status": "completed"
    },
    "tags": []
   },
   "outputs": [],
   "source": [
    "from fairness_multiverse.universe import UniverseAnalysis\n",
    "\n",
    "universe_analysis = UniverseAnalysis(\n",
    "    run_no = run_no,\n",
    "    universe_id = universe_id,\n",
    "    universe = universe,\n",
    "    output_dir=output_dir,\n",
    ")"
   ]
  },
  {
   "cell_type": "code",
   "execution_count": 8,
   "id": "2a6381cf",
   "metadata": {
    "execution": {
     "iopub.execute_input": "2025-08-19T18:24:13.457162Z",
     "iopub.status.busy": "2025-08-19T18:24:13.456022Z",
     "iopub.status.idle": "2025-08-19T18:24:13.464863Z",
     "shell.execute_reply": "2025-08-19T18:24:13.463554Z"
    },
    "papermill": {
     "duration": 0.020967,
     "end_time": "2025-08-19T18:24:13.466306",
     "exception": false,
     "start_time": "2025-08-19T18:24:13.445339",
     "status": "completed"
    },
    "tags": []
   },
   "outputs": [
    {
     "name": "stdout",
     "output_type": "stream",
     "text": [
      "Using Seed: 2023\n"
     ]
    }
   ],
   "source": [
    "import numpy as np\n",
    "parsed_seed = int(seed)\n",
    "np.random.seed(parsed_seed)\n",
    "print(f\"Using Seed: {parsed_seed}\")"
   ]
  },
  {
   "cell_type": "markdown",
   "id": "b6e958b4",
   "metadata": {
    "papermill": {
     "duration": 0.009419,
     "end_time": "2025-08-19T18:24:13.485767",
     "exception": false,
     "start_time": "2025-08-19T18:24:13.476348",
     "status": "completed"
    },
    "tags": []
   },
   "source": [
    "# Loading Data"
   ]
  },
  {
   "cell_type": "code",
   "execution_count": 9,
   "id": "98701482",
   "metadata": {
    "execution": {
     "iopub.execute_input": "2025-08-19T18:24:13.506536Z",
     "iopub.status.busy": "2025-08-19T18:24:13.505272Z",
     "iopub.status.idle": "2025-08-19T18:24:23.983143Z",
     "shell.execute_reply": "2025-08-19T18:24:23.981716Z"
    },
    "papermill": {
     "duration": 10.490259,
     "end_time": "2025-08-19T18:24:23.985006",
     "exception": false,
     "start_time": "2025-08-19T18:24:13.494747",
     "status": "completed"
    },
    "tags": []
   },
   "outputs": [
    {
     "name": "stdout",
     "output_type": "stream",
     "text": [
      "Loading SIAB data from cache: data/siab_cached.csv.gz\n"
     ]
    },
    {
     "name": "stdout",
     "output_type": "stream",
     "text": [
      "(643690, 164)\n"
     ]
    }
   ],
   "source": [
    "from pathlib import Path\n",
    "import pandas as pd\n",
    "\n",
    "# File paths\n",
    "raw_file = Path(\"data/raw/siab.csv\")\n",
    "cache_file = Path(\"data/siab_cached.csv.gz\")\n",
    "\n",
    "# Ensure cache directory exists\n",
    "cache_file.parent.mkdir(parents=True, exist_ok=True)\n",
    "\n",
    "# Load with simple caching\n",
    "if cache_file.exists():\n",
    "    print(f\"Loading SIAB data from cache: {cache_file}\")\n",
    "    siab = pd.read_csv(cache_file, compression='gzip')\n",
    "else:\n",
    "    print(f\"Cache not found. Reading raw SIAB data: {raw_file}\")\n",
    "    siab = pd.read_csv(raw_file)\n",
    "    siab.to_csv(cache_file, index=False, compression='gzip')\n",
    "    print(f\"Cached SIAB data to: {cache_file}\")\n",
    "\n",
    "print(siab.shape)"
   ]
  },
  {
   "cell_type": "code",
   "execution_count": 10,
   "id": "058d2abb",
   "metadata": {
    "execution": {
     "iopub.execute_input": "2025-08-19T18:24:24.011337Z",
     "iopub.status.busy": "2025-08-19T18:24:24.010968Z",
     "iopub.status.idle": "2025-08-19T18:24:24.196220Z",
     "shell.execute_reply": "2025-08-19T18:24:24.194129Z"
    },
    "papermill": {
     "duration": 0.198062,
     "end_time": "2025-08-19T18:24:24.198195",
     "exception": false,
     "start_time": "2025-08-19T18:24:24.000133",
     "status": "completed"
    },
    "tags": []
   },
   "outputs": [
    {
     "data": {
      "text/html": [
       "<div>\n",
       "<style scoped>\n",
       "    .dataframe tbody tr th:only-of-type {\n",
       "        vertical-align: middle;\n",
       "    }\n",
       "\n",
       "    .dataframe tbody tr th {\n",
       "        vertical-align: top;\n",
       "    }\n",
       "\n",
       "    .dataframe thead th {\n",
       "        text-align: right;\n",
       "    }\n",
       "</style>\n",
       "<table border=\"1\" class=\"dataframe\">\n",
       "  <thead>\n",
       "    <tr style=\"text-align: right;\">\n",
       "      <th></th>\n",
       "      <th>persnr</th>\n",
       "      <th>year</th>\n",
       "      <th>nrEntry</th>\n",
       "      <th>ltue</th>\n",
       "      <th>employed_before</th>\n",
       "      <th>receipt_leh_before</th>\n",
       "      <th>receipt_lhg_before</th>\n",
       "      <th>se_before</th>\n",
       "      <th>ASU_notue_seeking_before</th>\n",
       "      <th>ASU_other_before</th>\n",
       "      <th>...</th>\n",
       "      <th>minijob_tot_dur_byage</th>\n",
       "      <th>ft_tot_dur_byage</th>\n",
       "      <th>befrist_tot_dur_byage</th>\n",
       "      <th>leih_tot_dur_byage</th>\n",
       "      <th>LHG_tot_dur_byage</th>\n",
       "      <th>LEH_tot_dur_byage</th>\n",
       "      <th>almp_tot_dur_byage</th>\n",
       "      <th>almp_aw_tot_dur_byage</th>\n",
       "      <th>se_tot_dur_byage</th>\n",
       "      <th>seeking1_tot_dur_byage</th>\n",
       "    </tr>\n",
       "  </thead>\n",
       "  <tbody>\n",
       "    <tr>\n",
       "      <th>0</th>\n",
       "      <td>7</td>\n",
       "      <td>2015</td>\n",
       "      <td>1</td>\n",
       "      <td>0</td>\n",
       "      <td>1</td>\n",
       "      <td>0</td>\n",
       "      <td>0</td>\n",
       "      <td>0</td>\n",
       "      <td>1</td>\n",
       "      <td>0</td>\n",
       "      <td>...</td>\n",
       "      <td>0.000000</td>\n",
       "      <td>0.000000</td>\n",
       "      <td>15.043478</td>\n",
       "      <td>0.000000</td>\n",
       "      <td>0.000000</td>\n",
       "      <td>0.000000</td>\n",
       "      <td>0.000000</td>\n",
       "      <td>0.000000</td>\n",
       "      <td>0.000000</td>\n",
       "      <td>0.000000</td>\n",
       "    </tr>\n",
       "    <tr>\n",
       "      <th>1</th>\n",
       "      <td>18</td>\n",
       "      <td>2010</td>\n",
       "      <td>1</td>\n",
       "      <td>1</td>\n",
       "      <td>0</td>\n",
       "      <td>0</td>\n",
       "      <td>0</td>\n",
       "      <td>0</td>\n",
       "      <td>0</td>\n",
       "      <td>0</td>\n",
       "      <td>...</td>\n",
       "      <td>0.000000</td>\n",
       "      <td>0.000000</td>\n",
       "      <td>0.000000</td>\n",
       "      <td>0.000000</td>\n",
       "      <td>0.000000</td>\n",
       "      <td>0.000000</td>\n",
       "      <td>0.000000</td>\n",
       "      <td>0.000000</td>\n",
       "      <td>0.000000</td>\n",
       "      <td>0.000000</td>\n",
       "    </tr>\n",
       "    <tr>\n",
       "      <th>2</th>\n",
       "      <td>18</td>\n",
       "      <td>2011</td>\n",
       "      <td>2</td>\n",
       "      <td>0</td>\n",
       "      <td>1</td>\n",
       "      <td>0</td>\n",
       "      <td>1</td>\n",
       "      <td>0</td>\n",
       "      <td>1</td>\n",
       "      <td>0</td>\n",
       "      <td>...</td>\n",
       "      <td>2.714286</td>\n",
       "      <td>2.714286</td>\n",
       "      <td>0.000000</td>\n",
       "      <td>0.000000</td>\n",
       "      <td>10.775510</td>\n",
       "      <td>0.000000</td>\n",
       "      <td>8.367347</td>\n",
       "      <td>0.000000</td>\n",
       "      <td>0.000000</td>\n",
       "      <td>9.836735</td>\n",
       "    </tr>\n",
       "    <tr>\n",
       "      <th>3</th>\n",
       "      <td>18</td>\n",
       "      <td>2012</td>\n",
       "      <td>3</td>\n",
       "      <td>0</td>\n",
       "      <td>1</td>\n",
       "      <td>0</td>\n",
       "      <td>1</td>\n",
       "      <td>0</td>\n",
       "      <td>1</td>\n",
       "      <td>0</td>\n",
       "      <td>...</td>\n",
       "      <td>4.200000</td>\n",
       "      <td>4.200000</td>\n",
       "      <td>0.000000</td>\n",
       "      <td>0.000000</td>\n",
       "      <td>12.100000</td>\n",
       "      <td>0.000000</td>\n",
       "      <td>9.400000</td>\n",
       "      <td>0.000000</td>\n",
       "      <td>0.000000</td>\n",
       "      <td>9.960000</td>\n",
       "    </tr>\n",
       "    <tr>\n",
       "      <th>4</th>\n",
       "      <td>18</td>\n",
       "      <td>2012</td>\n",
       "      <td>4</td>\n",
       "      <td>0</td>\n",
       "      <td>1</td>\n",
       "      <td>0</td>\n",
       "      <td>1</td>\n",
       "      <td>0</td>\n",
       "      <td>1</td>\n",
       "      <td>0</td>\n",
       "      <td>...</td>\n",
       "      <td>5.460000</td>\n",
       "      <td>5.460000</td>\n",
       "      <td>0.000000</td>\n",
       "      <td>0.000000</td>\n",
       "      <td>13.360000</td>\n",
       "      <td>0.000000</td>\n",
       "      <td>10.320000</td>\n",
       "      <td>0.000000</td>\n",
       "      <td>0.000000</td>\n",
       "      <td>10.280000</td>\n",
       "    </tr>\n",
       "    <tr>\n",
       "      <th>...</th>\n",
       "      <td>...</td>\n",
       "      <td>...</td>\n",
       "      <td>...</td>\n",
       "      <td>...</td>\n",
       "      <td>...</td>\n",
       "      <td>...</td>\n",
       "      <td>...</td>\n",
       "      <td>...</td>\n",
       "      <td>...</td>\n",
       "      <td>...</td>\n",
       "      <td>...</td>\n",
       "      <td>...</td>\n",
       "      <td>...</td>\n",
       "      <td>...</td>\n",
       "      <td>...</td>\n",
       "      <td>...</td>\n",
       "      <td>...</td>\n",
       "      <td>...</td>\n",
       "      <td>...</td>\n",
       "      <td>...</td>\n",
       "      <td>...</td>\n",
       "    </tr>\n",
       "    <tr>\n",
       "      <th>643685</th>\n",
       "      <td>1827860</td>\n",
       "      <td>2013</td>\n",
       "      <td>1</td>\n",
       "      <td>0</td>\n",
       "      <td>0</td>\n",
       "      <td>0</td>\n",
       "      <td>1</td>\n",
       "      <td>0</td>\n",
       "      <td>0</td>\n",
       "      <td>1</td>\n",
       "      <td>...</td>\n",
       "      <td>0.000000</td>\n",
       "      <td>0.000000</td>\n",
       "      <td>0.000000</td>\n",
       "      <td>0.000000</td>\n",
       "      <td>0.612903</td>\n",
       "      <td>0.000000</td>\n",
       "      <td>0.000000</td>\n",
       "      <td>0.000000</td>\n",
       "      <td>0.000000</td>\n",
       "      <td>0.000000</td>\n",
       "    </tr>\n",
       "    <tr>\n",
       "      <th>643686</th>\n",
       "      <td>1827860</td>\n",
       "      <td>2015</td>\n",
       "      <td>2</td>\n",
       "      <td>1</td>\n",
       "      <td>0</td>\n",
       "      <td>0</td>\n",
       "      <td>1</td>\n",
       "      <td>0</td>\n",
       "      <td>1</td>\n",
       "      <td>0</td>\n",
       "      <td>...</td>\n",
       "      <td>0.000000</td>\n",
       "      <td>0.000000</td>\n",
       "      <td>0.212121</td>\n",
       "      <td>0.212121</td>\n",
       "      <td>17.363636</td>\n",
       "      <td>0.000000</td>\n",
       "      <td>8.909091</td>\n",
       "      <td>0.000000</td>\n",
       "      <td>0.000000</td>\n",
       "      <td>7.121212</td>\n",
       "    </tr>\n",
       "    <tr>\n",
       "      <th>643687</th>\n",
       "      <td>1827860</td>\n",
       "      <td>2016</td>\n",
       "      <td>3</td>\n",
       "      <td>1</td>\n",
       "      <td>0</td>\n",
       "      <td>0</td>\n",
       "      <td>1</td>\n",
       "      <td>1</td>\n",
       "      <td>0</td>\n",
       "      <td>1</td>\n",
       "      <td>...</td>\n",
       "      <td>0.000000</td>\n",
       "      <td>0.000000</td>\n",
       "      <td>0.294118</td>\n",
       "      <td>0.205882</td>\n",
       "      <td>34.705882</td>\n",
       "      <td>0.000000</td>\n",
       "      <td>10.352941</td>\n",
       "      <td>1.705882</td>\n",
       "      <td>1.705882</td>\n",
       "      <td>23.911765</td>\n",
       "    </tr>\n",
       "    <tr>\n",
       "      <th>643688</th>\n",
       "      <td>1827869</td>\n",
       "      <td>2013</td>\n",
       "      <td>1</td>\n",
       "      <td>1</td>\n",
       "      <td>1</td>\n",
       "      <td>0</td>\n",
       "      <td>0</td>\n",
       "      <td>0</td>\n",
       "      <td>1</td>\n",
       "      <td>0</td>\n",
       "      <td>...</td>\n",
       "      <td>0.000000</td>\n",
       "      <td>0.000000</td>\n",
       "      <td>0.000000</td>\n",
       "      <td>0.000000</td>\n",
       "      <td>0.000000</td>\n",
       "      <td>0.525424</td>\n",
       "      <td>0.000000</td>\n",
       "      <td>0.000000</td>\n",
       "      <td>0.000000</td>\n",
       "      <td>0.000000</td>\n",
       "    </tr>\n",
       "    <tr>\n",
       "      <th>643689</th>\n",
       "      <td>1827869</td>\n",
       "      <td>2014</td>\n",
       "      <td>2</td>\n",
       "      <td>0</td>\n",
       "      <td>0</td>\n",
       "      <td>1</td>\n",
       "      <td>0</td>\n",
       "      <td>0</td>\n",
       "      <td>1</td>\n",
       "      <td>0</td>\n",
       "      <td>...</td>\n",
       "      <td>0.000000</td>\n",
       "      <td>0.666667</td>\n",
       "      <td>0.666667</td>\n",
       "      <td>0.000000</td>\n",
       "      <td>0.000000</td>\n",
       "      <td>8.950000</td>\n",
       "      <td>1.033333</td>\n",
       "      <td>0.083333</td>\n",
       "      <td>0.083333</td>\n",
       "      <td>8.133333</td>\n",
       "    </tr>\n",
       "  </tbody>\n",
       "</table>\n",
       "<p>643690 rows × 164 columns</p>\n",
       "</div>"
      ],
      "text/plain": [
       "         persnr  year  nrEntry  ltue  employed_before  receipt_leh_before  \\\n",
       "0             7  2015        1     0                1                   0   \n",
       "1            18  2010        1     1                0                   0   \n",
       "2            18  2011        2     0                1                   0   \n",
       "3            18  2012        3     0                1                   0   \n",
       "4            18  2012        4     0                1                   0   \n",
       "...         ...   ...      ...   ...              ...                 ...   \n",
       "643685  1827860  2013        1     0                0                   0   \n",
       "643686  1827860  2015        2     1                0                   0   \n",
       "643687  1827860  2016        3     1                0                   0   \n",
       "643688  1827869  2013        1     1                1                   0   \n",
       "643689  1827869  2014        2     0                0                   1   \n",
       "\n",
       "        receipt_lhg_before  se_before  ASU_notue_seeking_before  \\\n",
       "0                        0          0                         1   \n",
       "1                        0          0                         0   \n",
       "2                        1          0                         1   \n",
       "3                        1          0                         1   \n",
       "4                        1          0                         1   \n",
       "...                    ...        ...                       ...   \n",
       "643685                   1          0                         0   \n",
       "643686                   1          0                         1   \n",
       "643687                   1          1                         0   \n",
       "643688                   0          0                         1   \n",
       "643689                   0          0                         1   \n",
       "\n",
       "        ASU_other_before  ...  minijob_tot_dur_byage  ft_tot_dur_byage  \\\n",
       "0                      0  ...               0.000000          0.000000   \n",
       "1                      0  ...               0.000000          0.000000   \n",
       "2                      0  ...               2.714286          2.714286   \n",
       "3                      0  ...               4.200000          4.200000   \n",
       "4                      0  ...               5.460000          5.460000   \n",
       "...                  ...  ...                    ...               ...   \n",
       "643685                 1  ...               0.000000          0.000000   \n",
       "643686                 0  ...               0.000000          0.000000   \n",
       "643687                 1  ...               0.000000          0.000000   \n",
       "643688                 0  ...               0.000000          0.000000   \n",
       "643689                 0  ...               0.000000          0.666667   \n",
       "\n",
       "        befrist_tot_dur_byage  leih_tot_dur_byage  LHG_tot_dur_byage  \\\n",
       "0                   15.043478            0.000000           0.000000   \n",
       "1                    0.000000            0.000000           0.000000   \n",
       "2                    0.000000            0.000000          10.775510   \n",
       "3                    0.000000            0.000000          12.100000   \n",
       "4                    0.000000            0.000000          13.360000   \n",
       "...                       ...                 ...                ...   \n",
       "643685               0.000000            0.000000           0.612903   \n",
       "643686               0.212121            0.212121          17.363636   \n",
       "643687               0.294118            0.205882          34.705882   \n",
       "643688               0.000000            0.000000           0.000000   \n",
       "643689               0.666667            0.000000           0.000000   \n",
       "\n",
       "        LEH_tot_dur_byage  almp_tot_dur_byage  almp_aw_tot_dur_byage  \\\n",
       "0                0.000000            0.000000               0.000000   \n",
       "1                0.000000            0.000000               0.000000   \n",
       "2                0.000000            8.367347               0.000000   \n",
       "3                0.000000            9.400000               0.000000   \n",
       "4                0.000000           10.320000               0.000000   \n",
       "...                   ...                 ...                    ...   \n",
       "643685           0.000000            0.000000               0.000000   \n",
       "643686           0.000000            8.909091               0.000000   \n",
       "643687           0.000000           10.352941               1.705882   \n",
       "643688           0.525424            0.000000               0.000000   \n",
       "643689           8.950000            1.033333               0.083333   \n",
       "\n",
       "        se_tot_dur_byage  seeking1_tot_dur_byage  \n",
       "0               0.000000                0.000000  \n",
       "1               0.000000                0.000000  \n",
       "2               0.000000                9.836735  \n",
       "3               0.000000                9.960000  \n",
       "4               0.000000               10.280000  \n",
       "...                  ...                     ...  \n",
       "643685          0.000000                0.000000  \n",
       "643686          0.000000                7.121212  \n",
       "643687          1.705882               23.911765  \n",
       "643688          0.000000                0.000000  \n",
       "643689          0.083333                8.133333  \n",
       "\n",
       "[643690 rows x 164 columns]"
      ]
     },
     "execution_count": 10,
     "metadata": {},
     "output_type": "execute_result"
    }
   ],
   "source": [
    "siab"
   ]
  },
  {
   "cell_type": "markdown",
   "id": "1f87e805",
   "metadata": {
    "papermill": {
     "duration": 0.021769,
     "end_time": "2025-08-19T18:24:24.234639",
     "exception": false,
     "start_time": "2025-08-19T18:24:24.212870",
     "status": "completed"
    },
    "tags": []
   },
   "source": [
    "# Splitting Data and Setting Training Data Size"
   ]
  },
  {
   "cell_type": "code",
   "execution_count": 11,
   "id": "910ae358",
   "metadata": {
    "execution": {
     "iopub.execute_input": "2025-08-19T18:24:24.264899Z",
     "iopub.status.busy": "2025-08-19T18:24:24.264351Z",
     "iopub.status.idle": "2025-08-19T18:24:24.476160Z",
     "shell.execute_reply": "2025-08-19T18:24:24.474938Z"
    },
    "papermill": {
     "duration": 0.227075,
     "end_time": "2025-08-19T18:24:24.479338",
     "exception": false,
     "start_time": "2025-08-19T18:24:24.252263",
     "status": "completed"
    },
    "tags": []
   },
   "outputs": [],
   "source": [
    "from fairness_multiverse.universe import sample_by_year_size\n",
    "\n",
    "siab_train = sample_by_year_size(siab,\n",
    "                               training_year=universe[\"training_year\"],\n",
    "                               training_size=universe[\"training_size\"])"
   ]
  },
  {
   "cell_type": "code",
   "execution_count": 12,
   "id": "919c8ff5",
   "metadata": {
    "execution": {
     "iopub.execute_input": "2025-08-19T18:24:24.518689Z",
     "iopub.status.busy": "2025-08-19T18:24:24.517203Z",
     "iopub.status.idle": "2025-08-19T18:24:24.529316Z",
     "shell.execute_reply": "2025-08-19T18:24:24.527945Z"
    },
    "papermill": {
     "duration": 0.027753,
     "end_time": "2025-08-19T18:24:24.530754",
     "exception": false,
     "start_time": "2025-08-19T18:24:24.503001",
     "status": "completed"
    },
    "tags": []
   },
   "outputs": [
    {
     "data": {
      "text/plain": [
       "(5000, 164)"
      ]
     },
     "execution_count": 12,
     "metadata": {},
     "output_type": "execute_result"
    }
   ],
   "source": [
    "siab_train.shape"
   ]
  },
  {
   "cell_type": "code",
   "execution_count": 13,
   "id": "feb13bf4",
   "metadata": {
    "execution": {
     "iopub.execute_input": "2025-08-19T18:24:24.557571Z",
     "iopub.status.busy": "2025-08-19T18:24:24.556358Z",
     "iopub.status.idle": "2025-08-19T18:24:24.572777Z",
     "shell.execute_reply": "2025-08-19T18:24:24.571542Z"
    },
    "papermill": {
     "duration": 0.030267,
     "end_time": "2025-08-19T18:24:24.574474",
     "exception": false,
     "start_time": "2025-08-19T18:24:24.544207",
     "status": "completed"
    },
    "tags": []
   },
   "outputs": [
    {
     "data": {
      "text/plain": [
       "year\n",
       "2014    5000\n",
       "dtype: int64"
      ]
     },
     "metadata": {},
     "output_type": "display_data"
    }
   ],
   "source": [
    "display(siab_train.groupby(\"year\").size())"
   ]
  },
  {
   "cell_type": "code",
   "execution_count": 14,
   "id": "0997782f",
   "metadata": {
    "execution": {
     "iopub.execute_input": "2025-08-19T18:24:24.602692Z",
     "iopub.status.busy": "2025-08-19T18:24:24.601416Z",
     "iopub.status.idle": "2025-08-19T18:24:24.838354Z",
     "shell.execute_reply": "2025-08-19T18:24:24.837662Z"
    },
    "papermill": {
     "duration": 0.251338,
     "end_time": "2025-08-19T18:24:24.840299",
     "exception": false,
     "start_time": "2025-08-19T18:24:24.588961",
     "status": "completed"
    },
    "tags": []
   },
   "outputs": [],
   "source": [
    "#siab_train = siab_s[siab_s.year < 2015]\n",
    "siab_calib = siab[siab.year == 2015]\n",
    "siab_test = siab[siab.year == 2016]"
   ]
  },
  {
   "cell_type": "code",
   "execution_count": 15,
   "id": "2c1e4012",
   "metadata": {
    "execution": {
     "iopub.execute_input": "2025-08-19T18:24:24.868755Z",
     "iopub.status.busy": "2025-08-19T18:24:24.867964Z",
     "iopub.status.idle": "2025-08-19T18:24:24.873904Z",
     "shell.execute_reply": "2025-08-19T18:24:24.872710Z"
    },
    "papermill": {
     "duration": 0.032264,
     "end_time": "2025-08-19T18:24:24.888021",
     "exception": false,
     "start_time": "2025-08-19T18:24:24.855757",
     "status": "completed"
    },
    "tags": []
   },
   "outputs": [],
   "source": [
    "#siab_calib.shape"
   ]
  },
  {
   "cell_type": "code",
   "execution_count": 16,
   "id": "f66b54ca",
   "metadata": {
    "execution": {
     "iopub.execute_input": "2025-08-19T18:24:24.915463Z",
     "iopub.status.busy": "2025-08-19T18:24:24.915070Z",
     "iopub.status.idle": "2025-08-19T18:24:24.919881Z",
     "shell.execute_reply": "2025-08-19T18:24:24.918955Z"
    },
    "papermill": {
     "duration": 0.018555,
     "end_time": "2025-08-19T18:24:24.921163",
     "exception": false,
     "start_time": "2025-08-19T18:24:24.902608",
     "status": "completed"
    },
    "tags": []
   },
   "outputs": [],
   "source": [
    "#siab_test.shape"
   ]
  },
  {
   "cell_type": "code",
   "execution_count": 17,
   "id": "27e4384d",
   "metadata": {
    "execution": {
     "iopub.execute_input": "2025-08-19T18:24:24.944424Z",
     "iopub.status.busy": "2025-08-19T18:24:24.944113Z",
     "iopub.status.idle": "2025-08-19T18:24:24.963103Z",
     "shell.execute_reply": "2025-08-19T18:24:24.962149Z"
    },
    "papermill": {
     "duration": 0.032442,
     "end_time": "2025-08-19T18:24:24.964927",
     "exception": false,
     "start_time": "2025-08-19T18:24:24.932485",
     "status": "completed"
    },
    "tags": []
   },
   "outputs": [],
   "source": [
    "X_train = siab_train.iloc[:,4:164]\n",
    "y_train = siab_train.iloc[:, [3]]"
   ]
  },
  {
   "cell_type": "code",
   "execution_count": 18,
   "id": "08ee8389",
   "metadata": {
    "execution": {
     "iopub.execute_input": "2025-08-19T18:24:24.994875Z",
     "iopub.status.busy": "2025-08-19T18:24:24.994533Z",
     "iopub.status.idle": "2025-08-19T18:24:25.051162Z",
     "shell.execute_reply": "2025-08-19T18:24:25.050095Z"
    },
    "papermill": {
     "duration": 0.070999,
     "end_time": "2025-08-19T18:24:25.053555",
     "exception": false,
     "start_time": "2025-08-19T18:24:24.982556",
     "status": "completed"
    },
    "tags": []
   },
   "outputs": [],
   "source": [
    "X_calib = siab_calib.iloc[:,4:164]\n",
    "y_calib = siab_calib.iloc[:, [3]]"
   ]
  },
  {
   "cell_type": "code",
   "execution_count": 19,
   "id": "b7ff42e0",
   "metadata": {
    "execution": {
     "iopub.execute_input": "2025-08-19T18:24:25.076290Z",
     "iopub.status.busy": "2025-08-19T18:24:25.075878Z",
     "iopub.status.idle": "2025-08-19T18:24:25.137006Z",
     "shell.execute_reply": "2025-08-19T18:24:25.135913Z"
    },
    "papermill": {
     "duration": 0.075172,
     "end_time": "2025-08-19T18:24:25.139568",
     "exception": false,
     "start_time": "2025-08-19T18:24:25.064396",
     "status": "completed"
    },
    "tags": []
   },
   "outputs": [],
   "source": [
    "X_test = siab_test.iloc[:,4:164]\n",
    "y_true = siab_test.iloc[:, [3]]"
   ]
  },
  {
   "cell_type": "code",
   "execution_count": 20,
   "id": "0275101e",
   "metadata": {
    "execution": {
     "iopub.execute_input": "2025-08-19T18:24:25.184364Z",
     "iopub.status.busy": "2025-08-19T18:24:25.182437Z",
     "iopub.status.idle": "2025-08-19T18:24:25.316055Z",
     "shell.execute_reply": "2025-08-19T18:24:25.315110Z"
    },
    "papermill": {
     "duration": 0.155417,
     "end_time": "2025-08-19T18:24:25.317764",
     "exception": false,
     "start_time": "2025-08-19T18:24:25.162347",
     "status": "completed"
    },
    "tags": []
   },
   "outputs": [],
   "source": [
    "# Auxiliary data needed downstream in the pipeline\n",
    "\n",
    "org_train = X_train.copy()\n",
    "org_test = X_test.copy()\n",
    "org_calib = X_calib.copy()"
   ]
  },
  {
   "cell_type": "markdown",
   "id": "b461e618",
   "metadata": {
    "papermill": {
     "duration": 0.010375,
     "end_time": "2025-08-19T18:24:25.341656",
     "exception": false,
     "start_time": "2025-08-19T18:24:25.331281",
     "status": "completed"
    },
    "tags": []
   },
   "source": [
    "# Preprocessing Data"
   ]
  },
  {
   "cell_type": "code",
   "execution_count": 21,
   "id": "78e74c4b",
   "metadata": {
    "execution": {
     "iopub.execute_input": "2025-08-19T18:24:25.364078Z",
     "iopub.status.busy": "2025-08-19T18:24:25.363746Z",
     "iopub.status.idle": "2025-08-19T18:24:25.369987Z",
     "shell.execute_reply": "2025-08-19T18:24:25.368878Z"
    },
    "papermill": {
     "duration": 0.019755,
     "end_time": "2025-08-19T18:24:25.371903",
     "exception": false,
     "start_time": "2025-08-19T18:24:25.352148",
     "status": "completed"
    },
    "tags": []
   },
   "outputs": [],
   "source": [
    "# EXCLUDE PROTECTED FEATURES\n",
    "# --------------------------\n",
    "\n",
    "excluded_features = universe[\"exclude_features\"].split(\"-\")\n",
    "excluded_features_dictionary = {\n",
    "    \"nationality\": [\"maxdeutsch1\", \"maxdeutsch.Missing.\"],\n",
    "    \"sex\": [\"frau1\"],\n",
    "    \"age\": [\"age\"],\n",
    "}"
   ]
  },
  {
   "cell_type": "code",
   "execution_count": 22,
   "id": "f8e63555",
   "metadata": {
    "execution": {
     "iopub.execute_input": "2025-08-19T18:24:25.399669Z",
     "iopub.status.busy": "2025-08-19T18:24:25.398572Z",
     "iopub.status.idle": "2025-08-19T18:24:25.407073Z",
     "shell.execute_reply": "2025-08-19T18:24:25.405776Z"
    },
    "papermill": {
     "duration": 0.022873,
     "end_time": "2025-08-19T18:24:25.408600",
     "exception": false,
     "start_time": "2025-08-19T18:24:25.385727",
     "status": "completed"
    },
    "tags": []
   },
   "outputs": [],
   "source": [
    "excluded_features_columns = [\n",
    "    excluded_features_dictionary[f] for f in excluded_features if len(f) > 0 and f != \"none\"\n",
    "]"
   ]
  },
  {
   "cell_type": "code",
   "execution_count": 23,
   "id": "da781f7c",
   "metadata": {
    "execution": {
     "iopub.execute_input": "2025-08-19T18:24:25.448534Z",
     "iopub.status.busy": "2025-08-19T18:24:25.447702Z",
     "iopub.status.idle": "2025-08-19T18:24:25.461106Z",
     "shell.execute_reply": "2025-08-19T18:24:25.459907Z"
    },
    "papermill": {
     "duration": 0.029316,
     "end_time": "2025-08-19T18:24:25.464409",
     "exception": false,
     "start_time": "2025-08-19T18:24:25.435093",
     "status": "completed"
    },
    "tags": []
   },
   "outputs": [],
   "source": [
    "from fairness_multiverse.universe import flatten_once\n",
    "\n",
    "excluded_features_columns = flatten_once(excluded_features_columns)"
   ]
  },
  {
   "cell_type": "code",
   "execution_count": 24,
   "id": "37fef0f0",
   "metadata": {
    "execution": {
     "iopub.execute_input": "2025-08-19T18:24:25.494968Z",
     "iopub.status.busy": "2025-08-19T18:24:25.494234Z",
     "iopub.status.idle": "2025-08-19T18:24:25.503114Z",
     "shell.execute_reply": "2025-08-19T18:24:25.501626Z"
    },
    "papermill": {
     "duration": 0.024668,
     "end_time": "2025-08-19T18:24:25.504812",
     "exception": false,
     "start_time": "2025-08-19T18:24:25.480144",
     "status": "completed"
    },
    "tags": []
   },
   "outputs": [],
   "source": [
    "if len(excluded_features_columns) > 0:\n",
    "    print(f\"Dropping features: {excluded_features_columns}\")\n",
    "    X_train.drop(excluded_features_columns, axis=1, inplace=True)"
   ]
  },
  {
   "cell_type": "code",
   "execution_count": 25,
   "id": "d029e3e9",
   "metadata": {
    "execution": {
     "iopub.execute_input": "2025-08-19T18:24:25.530271Z",
     "iopub.status.busy": "2025-08-19T18:24:25.529234Z",
     "iopub.status.idle": "2025-08-19T18:24:25.537422Z",
     "shell.execute_reply": "2025-08-19T18:24:25.535999Z"
    },
    "papermill": {
     "duration": 0.021835,
     "end_time": "2025-08-19T18:24:25.539066",
     "exception": false,
     "start_time": "2025-08-19T18:24:25.517231",
     "status": "completed"
    },
    "tags": []
   },
   "outputs": [],
   "source": [
    "if len(excluded_features_columns) > 0:\n",
    "    print(f\"Dropping features: {excluded_features_columns}\")\n",
    "    X_test.drop(excluded_features_columns, axis=1, inplace=True)"
   ]
  },
  {
   "cell_type": "code",
   "execution_count": 26,
   "id": "01d571f0",
   "metadata": {
    "execution": {
     "iopub.execute_input": "2025-08-19T18:24:25.563242Z",
     "iopub.status.busy": "2025-08-19T18:24:25.562181Z",
     "iopub.status.idle": "2025-08-19T18:24:25.610861Z",
     "shell.execute_reply": "2025-08-19T18:24:25.609189Z"
    },
    "papermill": {
     "duration": 0.064611,
     "end_time": "2025-08-19T18:24:25.614585",
     "exception": false,
     "start_time": "2025-08-19T18:24:25.549974",
     "status": "completed"
    },
    "tags": []
   },
   "outputs": [],
   "source": [
    "if len(excluded_features_columns) > 0:\n",
    "    print(f\"Dropping features: {excluded_features_columns}\")\n",
    "    X_calib.drop(excluded_features_columns, axis=1, inplace=True)"
   ]
  },
  {
   "cell_type": "code",
   "execution_count": 27,
   "id": "3037356e",
   "metadata": {
    "execution": {
     "iopub.execute_input": "2025-08-19T18:24:25.651044Z",
     "iopub.status.busy": "2025-08-19T18:24:25.650029Z",
     "iopub.status.idle": "2025-08-19T18:24:25.658004Z",
     "shell.execute_reply": "2025-08-19T18:24:25.656686Z"
    },
    "papermill": {
     "duration": 0.023578,
     "end_time": "2025-08-19T18:24:25.659794",
     "exception": false,
     "start_time": "2025-08-19T18:24:25.636216",
     "status": "completed"
    },
    "tags": []
   },
   "outputs": [],
   "source": [
    "# EXCLUDE CERTAIN SUBGROUPS\n",
    "# -------------------------\n",
    "\n",
    "mode = universe.get(\"exclude_subgroups\", \"keep-all\") # Defaults to \"keep-all\" if the key is missing."
   ]
  },
  {
   "cell_type": "code",
   "execution_count": 28,
   "id": "9d1e63fd",
   "metadata": {
    "execution": {
     "iopub.execute_input": "2025-08-19T18:24:25.684643Z",
     "iopub.status.busy": "2025-08-19T18:24:25.683903Z",
     "iopub.status.idle": "2025-08-19T18:24:25.694754Z",
     "shell.execute_reply": "2025-08-19T18:24:25.693276Z"
    },
    "papermill": {
     "duration": 0.025346,
     "end_time": "2025-08-19T18:24:25.696720",
     "exception": false,
     "start_time": "2025-08-19T18:24:25.671374",
     "status": "completed"
    },
    "tags": []
   },
   "outputs": [],
   "source": [
    "if mode == \"keep-all\":\n",
    "    keep_mask = pd.Series(True, index=org_train.index)\n",
    "\n",
    "elif mode == \"drop-non-german\":\n",
    "    keep_mask = (org_train[\"maxdeutsch1\"] == 1) & (org_train[\"maxdeutsch.Missing.\"] == 0)\n",
    "\n",
    "else:\n",
    "    raise ValueError(f\"Unsupported mode for exclude_subgroups: {mode}\")"
   ]
  },
  {
   "cell_type": "code",
   "execution_count": 29,
   "id": "d3b65474",
   "metadata": {
    "execution": {
     "iopub.execute_input": "2025-08-19T18:24:25.723709Z",
     "iopub.status.busy": "2025-08-19T18:24:25.722966Z",
     "iopub.status.idle": "2025-08-19T18:24:25.733200Z",
     "shell.execute_reply": "2025-08-19T18:24:25.731915Z"
    },
    "papermill": {
     "duration": 0.024673,
     "end_time": "2025-08-19T18:24:25.735006",
     "exception": false,
     "start_time": "2025-08-19T18:24:25.710333",
     "status": "completed"
    },
    "tags": []
   },
   "outputs": [],
   "source": [
    "n_drop = (~keep_mask).sum() # Calculates how many rows are set to be dropped\n",
    "if n_drop > 0:\n",
    "    pct = n_drop / len(keep_mask) * 100\n",
    "    print(f\"Dropping {n_drop} rows ({pct:.2f}%) where mode='{mode}'\")"
   ]
  },
  {
   "cell_type": "code",
   "execution_count": 30,
   "id": "f44389b3",
   "metadata": {
    "execution": {
     "iopub.execute_input": "2025-08-19T18:24:25.779145Z",
     "iopub.status.busy": "2025-08-19T18:24:25.778793Z",
     "iopub.status.idle": "2025-08-19T18:24:25.786405Z",
     "shell.execute_reply": "2025-08-19T18:24:25.785578Z"
    },
    "papermill": {
     "duration": 0.037154,
     "end_time": "2025-08-19T18:24:25.788319",
     "exception": false,
     "start_time": "2025-08-19T18:24:25.751165",
     "status": "completed"
    },
    "tags": []
   },
   "outputs": [],
   "source": [
    "X_train = X_train[keep_mask]"
   ]
  },
  {
   "cell_type": "code",
   "execution_count": 31,
   "id": "ceca8c2a",
   "metadata": {
    "execution": {
     "iopub.execute_input": "2025-08-19T18:24:25.811848Z",
     "iopub.status.busy": "2025-08-19T18:24:25.811532Z",
     "iopub.status.idle": "2025-08-19T18:24:25.818062Z",
     "shell.execute_reply": "2025-08-19T18:24:25.817038Z"
    },
    "papermill": {
     "duration": 0.019674,
     "end_time": "2025-08-19T18:24:25.819570",
     "exception": false,
     "start_time": "2025-08-19T18:24:25.799896",
     "status": "completed"
    },
    "tags": []
   },
   "outputs": [],
   "source": [
    "y_train = y_train[keep_mask]"
   ]
  },
  {
   "cell_type": "markdown",
   "id": "04d31e2f",
   "metadata": {
    "papermill": {
     "duration": 0.010485,
     "end_time": "2025-08-19T18:24:25.840834",
     "exception": false,
     "start_time": "2025-08-19T18:24:25.830349",
     "status": "completed"
    },
    "tags": []
   },
   "source": [
    "# Model Training"
   ]
  },
  {
   "cell_type": "code",
   "execution_count": 32,
   "id": "db991733",
   "metadata": {
    "execution": {
     "iopub.execute_input": "2025-08-19T18:24:25.863247Z",
     "iopub.status.busy": "2025-08-19T18:24:25.862911Z",
     "iopub.status.idle": "2025-08-19T18:24:25.969394Z",
     "shell.execute_reply": "2025-08-19T18:24:25.968506Z"
    },
    "papermill": {
     "duration": 0.119754,
     "end_time": "2025-08-19T18:24:25.971052",
     "exception": false,
     "start_time": "2025-08-19T18:24:25.851298",
     "status": "completed"
    },
    "tags": []
   },
   "outputs": [],
   "source": [
    "from sklearn.linear_model import LogisticRegression\n",
    "from sklearn.ensemble import GradientBoostingClassifier, RandomForestClassifier\n",
    "\n",
    "if (universe[\"model\"] == \"logreg\"):\n",
    "    model = LogisticRegression() #penalty=\"none\", solver=\"newton-cg\", max_iter=1)\n",
    "elif (universe[\"model\"] == \"penalized_logreg\"):\n",
    "    model = LogisticRegression(penalty=\"l2\", C=0.1) #, solver=\"newton-cg\", max_iter=1)\n",
    "elif (universe[\"model\"] == \"rf\"):\n",
    "    model = RandomForestClassifier() # n_estimators=100, n_jobs=-1\n",
    "elif (universe[\"model\"] == \"gbm\"):\n",
    "    model = GradientBoostingClassifier()\n",
    "elif (universe[\"model\"] == \"elasticnet\"):\n",
    "    model = LogisticRegression(penalty = 'elasticnet', solver = 'saga', l1_ratio = 0.5) # max_iter=5000\n",
    "else:\n",
    "    raise \"Unsupported universe.model\""
   ]
  },
  {
   "cell_type": "code",
   "execution_count": 33,
   "id": "a4b5cd25",
   "metadata": {
    "execution": {
     "iopub.execute_input": "2025-08-19T18:24:25.996442Z",
     "iopub.status.busy": "2025-08-19T18:24:25.995915Z",
     "iopub.status.idle": "2025-08-19T18:24:26.011104Z",
     "shell.execute_reply": "2025-08-19T18:24:26.010166Z"
    },
    "papermill": {
     "duration": 0.036095,
     "end_time": "2025-08-19T18:24:26.019954",
     "exception": false,
     "start_time": "2025-08-19T18:24:25.983859",
     "status": "completed"
    },
    "tags": []
   },
   "outputs": [],
   "source": [
    "from sklearn.pipeline import Pipeline\n",
    "from sklearn.preprocessing import StandardScaler\n",
    "\n",
    "model = Pipeline([\n",
    "    #(\"continuous_processor\", continuous_processor),\n",
    "    #(\"categorical_preprocessor\", categorical_preprocessor),\n",
    "    (\"scale\", StandardScaler() if universe[\"scale\"] == \"scale\" else None), \n",
    "    (\"model\", model),\n",
    "])"
   ]
  },
  {
   "cell_type": "code",
   "execution_count": 34,
   "id": "283a904d",
   "metadata": {
    "execution": {
     "iopub.execute_input": "2025-08-19T18:24:26.057888Z",
     "iopub.status.busy": "2025-08-19T18:24:26.056853Z",
     "iopub.status.idle": "2025-08-19T18:24:27.370191Z",
     "shell.execute_reply": "2025-08-19T18:24:27.368816Z"
    },
    "papermill": {
     "duration": 1.332856,
     "end_time": "2025-08-19T18:24:27.373526",
     "exception": false,
     "start_time": "2025-08-19T18:24:26.040670",
     "status": "completed"
    },
    "tags": []
   },
   "outputs": [
    {
     "data": {
      "text/html": [
       "<style>#sk-container-id-1 {color: black;background-color: white;}#sk-container-id-1 pre{padding: 0;}#sk-container-id-1 div.sk-toggleable {background-color: white;}#sk-container-id-1 label.sk-toggleable__label {cursor: pointer;display: block;width: 100%;margin-bottom: 0;padding: 0.3em;box-sizing: border-box;text-align: center;}#sk-container-id-1 label.sk-toggleable__label-arrow:before {content: \"▸\";float: left;margin-right: 0.25em;color: #696969;}#sk-container-id-1 label.sk-toggleable__label-arrow:hover:before {color: black;}#sk-container-id-1 div.sk-estimator:hover label.sk-toggleable__label-arrow:before {color: black;}#sk-container-id-1 div.sk-toggleable__content {max-height: 0;max-width: 0;overflow: hidden;text-align: left;background-color: #f0f8ff;}#sk-container-id-1 div.sk-toggleable__content pre {margin: 0.2em;color: black;border-radius: 0.25em;background-color: #f0f8ff;}#sk-container-id-1 input.sk-toggleable__control:checked~div.sk-toggleable__content {max-height: 200px;max-width: 100%;overflow: auto;}#sk-container-id-1 input.sk-toggleable__control:checked~label.sk-toggleable__label-arrow:before {content: \"▾\";}#sk-container-id-1 div.sk-estimator input.sk-toggleable__control:checked~label.sk-toggleable__label {background-color: #d4ebff;}#sk-container-id-1 div.sk-label input.sk-toggleable__control:checked~label.sk-toggleable__label {background-color: #d4ebff;}#sk-container-id-1 input.sk-hidden--visually {border: 0;clip: rect(1px 1px 1px 1px);clip: rect(1px, 1px, 1px, 1px);height: 1px;margin: -1px;overflow: hidden;padding: 0;position: absolute;width: 1px;}#sk-container-id-1 div.sk-estimator {font-family: monospace;background-color: #f0f8ff;border: 1px dotted black;border-radius: 0.25em;box-sizing: border-box;margin-bottom: 0.5em;}#sk-container-id-1 div.sk-estimator:hover {background-color: #d4ebff;}#sk-container-id-1 div.sk-parallel-item::after {content: \"\";width: 100%;border-bottom: 1px solid gray;flex-grow: 1;}#sk-container-id-1 div.sk-label:hover label.sk-toggleable__label {background-color: #d4ebff;}#sk-container-id-1 div.sk-serial::before {content: \"\";position: absolute;border-left: 1px solid gray;box-sizing: border-box;top: 0;bottom: 0;left: 50%;z-index: 0;}#sk-container-id-1 div.sk-serial {display: flex;flex-direction: column;align-items: center;background-color: white;padding-right: 0.2em;padding-left: 0.2em;position: relative;}#sk-container-id-1 div.sk-item {position: relative;z-index: 1;}#sk-container-id-1 div.sk-parallel {display: flex;align-items: stretch;justify-content: center;background-color: white;position: relative;}#sk-container-id-1 div.sk-item::before, #sk-container-id-1 div.sk-parallel-item::before {content: \"\";position: absolute;border-left: 1px solid gray;box-sizing: border-box;top: 0;bottom: 0;left: 50%;z-index: -1;}#sk-container-id-1 div.sk-parallel-item {display: flex;flex-direction: column;z-index: 1;position: relative;background-color: white;}#sk-container-id-1 div.sk-parallel-item:first-child::after {align-self: flex-end;width: 50%;}#sk-container-id-1 div.sk-parallel-item:last-child::after {align-self: flex-start;width: 50%;}#sk-container-id-1 div.sk-parallel-item:only-child::after {width: 0;}#sk-container-id-1 div.sk-dashed-wrapped {border: 1px dashed gray;margin: 0 0.4em 0.5em 0.4em;box-sizing: border-box;padding-bottom: 0.4em;background-color: white;}#sk-container-id-1 div.sk-label label {font-family: monospace;font-weight: bold;display: inline-block;line-height: 1.2em;}#sk-container-id-1 div.sk-label-container {text-align: center;}#sk-container-id-1 div.sk-container {/* jupyter's `normalize.less` sets `[hidden] { display: none; }` but bootstrap.min.css set `[hidden] { display: none !important; }` so we also need the `!important` here to be able to override the default hidden behavior on the sphinx rendered scikit-learn.org. See: https://github.com/scikit-learn/scikit-learn/issues/21755 */display: inline-block !important;position: relative;}#sk-container-id-1 div.sk-text-repr-fallback {display: none;}</style><div id=\"sk-container-id-1\" class=\"sk-top-container\"><div class=\"sk-text-repr-fallback\"><pre>Pipeline(steps=[(&#x27;scale&#x27;, StandardScaler()),\n",
       "                (&#x27;model&#x27;, RandomForestClassifier())])</pre><b>In a Jupyter environment, please rerun this cell to show the HTML representation or trust the notebook. <br />On GitHub, the HTML representation is unable to render, please try loading this page with nbviewer.org.</b></div><div class=\"sk-container\" hidden><div class=\"sk-item sk-dashed-wrapped\"><div class=\"sk-label-container\"><div class=\"sk-label sk-toggleable\"><input class=\"sk-toggleable__control sk-hidden--visually\" id=\"sk-estimator-id-1\" type=\"checkbox\" ><label for=\"sk-estimator-id-1\" class=\"sk-toggleable__label sk-toggleable__label-arrow\">Pipeline</label><div class=\"sk-toggleable__content\"><pre>Pipeline(steps=[(&#x27;scale&#x27;, StandardScaler()),\n",
       "                (&#x27;model&#x27;, RandomForestClassifier())])</pre></div></div></div><div class=\"sk-serial\"><div class=\"sk-item\"><div class=\"sk-estimator sk-toggleable\"><input class=\"sk-toggleable__control sk-hidden--visually\" id=\"sk-estimator-id-2\" type=\"checkbox\" ><label for=\"sk-estimator-id-2\" class=\"sk-toggleable__label sk-toggleable__label-arrow\">StandardScaler</label><div class=\"sk-toggleable__content\"><pre>StandardScaler()</pre></div></div></div><div class=\"sk-item\"><div class=\"sk-estimator sk-toggleable\"><input class=\"sk-toggleable__control sk-hidden--visually\" id=\"sk-estimator-id-3\" type=\"checkbox\" ><label for=\"sk-estimator-id-3\" class=\"sk-toggleable__label sk-toggleable__label-arrow\">RandomForestClassifier</label><div class=\"sk-toggleable__content\"><pre>RandomForestClassifier()</pre></div></div></div></div></div></div></div>"
      ],
      "text/plain": [
       "Pipeline(steps=[('scale', StandardScaler()),\n",
       "                ('model', RandomForestClassifier())])"
      ]
     },
     "execution_count": 34,
     "metadata": {},
     "output_type": "execute_result"
    }
   ],
   "source": [
    "model.fit(X_train, y_train.values.ravel())"
   ]
  },
  {
   "cell_type": "code",
   "execution_count": 35,
   "id": "6e15e313",
   "metadata": {
    "execution": {
     "iopub.execute_input": "2025-08-19T18:24:27.412531Z",
     "iopub.status.busy": "2025-08-19T18:24:27.411416Z",
     "iopub.status.idle": "2025-08-19T18:24:29.468009Z",
     "shell.execute_reply": "2025-08-19T18:24:29.466679Z"
    },
    "papermill": {
     "duration": 2.074384,
     "end_time": "2025-08-19T18:24:29.471268",
     "exception": false,
     "start_time": "2025-08-19T18:24:27.396884",
     "status": "completed"
    },
    "tags": []
   },
   "outputs": [
    {
     "data": {
      "text/plain": [
       "0.8644186824211347"
      ]
     },
     "execution_count": 35,
     "metadata": {},
     "output_type": "execute_result"
    }
   ],
   "source": [
    "from fairness_multiverse.universe import predict_w_threshold\n",
    "\n",
    "probs_test = model.predict_proba(X_test)\n",
    "\n",
    "'''\n",
    "Below code returns a boolean array (or binary 0/1 array depending on how it’s used) where each element \n",
    "is True if the probability of class 1 is greater than or equal to the threshold, and False otherwise.\n",
    "'''\n",
    "y_pred_default = predict_w_threshold(probs_test, 0.5)\n",
    "\n",
    "from sklearn.metrics import accuracy_score\n",
    "\n",
    "# Naive prediction\n",
    "accuracy_score(y_true = y_true, y_pred = y_pred_default)"
   ]
  },
  {
   "cell_type": "code",
   "execution_count": 36,
   "id": "6f14067c",
   "metadata": {
    "execution": {
     "iopub.execute_input": "2025-08-19T18:24:29.513511Z",
     "iopub.status.busy": "2025-08-19T18:24:29.512452Z",
     "iopub.status.idle": "2025-08-19T18:24:31.478485Z",
     "shell.execute_reply": "2025-08-19T18:24:31.476910Z"
    },
    "papermill": {
     "duration": 1.985514,
     "end_time": "2025-08-19T18:24:31.481886",
     "exception": false,
     "start_time": "2025-08-19T18:24:29.496372",
     "status": "completed"
    },
    "tags": []
   },
   "outputs": [
    {
     "data": {
      "text/plain": [
       "array([0, 0, 0, ..., 0, 0, 0])"
      ]
     },
     "execution_count": 36,
     "metadata": {},
     "output_type": "execute_result"
    }
   ],
   "source": [
    "model.predict(X_test)"
   ]
  },
  {
   "cell_type": "markdown",
   "id": "3759920c",
   "metadata": {
    "papermill": {
     "duration": 0.013147,
     "end_time": "2025-08-19T18:24:31.520635",
     "exception": false,
     "start_time": "2025-08-19T18:24:31.507488",
     "status": "completed"
    },
    "tags": []
   },
   "source": [
    "# Conformal Prediction"
   ]
  },
  {
   "cell_type": "code",
   "execution_count": 37,
   "id": "14b27f59",
   "metadata": {
    "execution": {
     "iopub.execute_input": "2025-08-19T18:24:31.550536Z",
     "iopub.status.busy": "2025-08-19T18:24:31.549254Z",
     "iopub.status.idle": "2025-08-19T18:24:31.559896Z",
     "shell.execute_reply": "2025-08-19T18:24:31.558382Z"
    },
    "papermill": {
     "duration": 0.028706,
     "end_time": "2025-08-19T18:24:31.562579",
     "exception": false,
     "start_time": "2025-08-19T18:24:31.533873",
     "status": "completed"
    },
    "tags": []
   },
   "outputs": [],
   "source": [
    "# Miscoverage level for conformal prediction (10% allowed error rate => 90% target coverage)\n",
    "alpha = 0.1"
   ]
  },
  {
   "cell_type": "code",
   "execution_count": 38,
   "id": "59102472",
   "metadata": {
    "execution": {
     "iopub.execute_input": "2025-08-19T18:24:31.595456Z",
     "iopub.status.busy": "2025-08-19T18:24:31.594058Z",
     "iopub.status.idle": "2025-08-19T18:24:33.530320Z",
     "shell.execute_reply": "2025-08-19T18:24:33.528818Z"
    },
    "papermill": {
     "duration": 1.954632,
     "end_time": "2025-08-19T18:24:33.531908",
     "exception": false,
     "start_time": "2025-08-19T18:24:31.577276",
     "status": "completed"
    },
    "tags": []
   },
   "outputs": [],
   "source": [
    "probs_calib = model.predict_proba(X_calib)"
   ]
  },
  {
   "cell_type": "code",
   "execution_count": 39,
   "id": "a792d4dd",
   "metadata": {
    "execution": {
     "iopub.execute_input": "2025-08-19T18:24:33.570367Z",
     "iopub.status.busy": "2025-08-19T18:24:33.569287Z",
     "iopub.status.idle": "2025-08-19T18:24:33.580412Z",
     "shell.execute_reply": "2025-08-19T18:24:33.579387Z"
    },
    "papermill": {
     "duration": 0.036641,
     "end_time": "2025-08-19T18:24:33.582032",
     "exception": false,
     "start_time": "2025-08-19T18:24:33.545391",
     "status": "completed"
    },
    "tags": []
   },
   "outputs": [],
   "source": [
    "y_calib = y_calib.values.ravel().astype(int)"
   ]
  },
  {
   "cell_type": "code",
   "execution_count": 40,
   "id": "650fd033",
   "metadata": {
    "execution": {
     "iopub.execute_input": "2025-08-19T18:24:33.627808Z",
     "iopub.status.busy": "2025-08-19T18:24:33.627273Z",
     "iopub.status.idle": "2025-08-19T18:24:33.635353Z",
     "shell.execute_reply": "2025-08-19T18:24:33.634446Z"
    },
    "papermill": {
     "duration": 0.040572,
     "end_time": "2025-08-19T18:24:33.638084",
     "exception": false,
     "start_time": "2025-08-19T18:24:33.597512",
     "status": "completed"
    },
    "tags": []
   },
   "outputs": [],
   "source": [
    "from fairness_multiverse.conformal import compute_nc_scores\n",
    "\n",
    "# Compute nonconformity scores on calibration set (1 - probability of true class)\n",
    "nc_scores = compute_nc_scores(probs_calib, y_calib)"
   ]
  },
  {
   "cell_type": "code",
   "execution_count": 41,
   "id": "28ada44c",
   "metadata": {
    "execution": {
     "iopub.execute_input": "2025-08-19T18:24:33.671647Z",
     "iopub.status.busy": "2025-08-19T18:24:33.670553Z",
     "iopub.status.idle": "2025-08-19T18:24:33.681119Z",
     "shell.execute_reply": "2025-08-19T18:24:33.679901Z"
    },
    "papermill": {
     "duration": 0.025054,
     "end_time": "2025-08-19T18:24:33.682545",
     "exception": false,
     "start_time": "2025-08-19T18:24:33.657491",
     "status": "completed"
    },
    "tags": []
   },
   "outputs": [],
   "source": [
    "from fairness_multiverse.conformal import find_threshold\n",
    "\n",
    "# Find conformal threshold q_hat for the given alpha (split conformal method)\n",
    "q_hat = find_threshold(nc_scores, alpha)"
   ]
  },
  {
   "cell_type": "code",
   "execution_count": 42,
   "id": "df56469e",
   "metadata": {
    "execution": {
     "iopub.execute_input": "2025-08-19T18:24:33.711442Z",
     "iopub.status.busy": "2025-08-19T18:24:33.710365Z",
     "iopub.status.idle": "2025-08-19T18:24:33.722494Z",
     "shell.execute_reply": "2025-08-19T18:24:33.721326Z"
    },
    "papermill": {
     "duration": 0.027035,
     "end_time": "2025-08-19T18:24:33.724017",
     "exception": false,
     "start_time": "2025-08-19T18:24:33.696982",
     "status": "completed"
    },
    "tags": []
   },
   "outputs": [
    {
     "data": {
      "text/plain": [
       "0.6599999999999999"
      ]
     },
     "execution_count": 42,
     "metadata": {},
     "output_type": "execute_result"
    }
   ],
   "source": [
    "q_hat"
   ]
  },
  {
   "cell_type": "code",
   "execution_count": 43,
   "id": "aa1f5faa",
   "metadata": {
    "execution": {
     "iopub.execute_input": "2025-08-19T18:24:33.753086Z",
     "iopub.status.busy": "2025-08-19T18:24:33.752116Z",
     "iopub.status.idle": "2025-08-19T18:24:36.206635Z",
     "shell.execute_reply": "2025-08-19T18:24:36.205884Z"
    },
    "papermill": {
     "duration": 2.469167,
     "end_time": "2025-08-19T18:24:36.208092",
     "exception": false,
     "start_time": "2025-08-19T18:24:33.738925",
     "status": "completed"
    },
    "tags": []
   },
   "outputs": [],
   "source": [
    "from fairness_multiverse.conformal import predict_conformal_sets\n",
    "\n",
    "# Generate prediction sets for each test example\n",
    "pred_sets = predict_conformal_sets(model, X_test, q_hat)"
   ]
  },
  {
   "cell_type": "code",
   "execution_count": 44,
   "id": "97f67a6b",
   "metadata": {
    "execution": {
     "iopub.execute_input": "2025-08-19T18:24:36.243057Z",
     "iopub.status.busy": "2025-08-19T18:24:36.242604Z",
     "iopub.status.idle": "2025-08-19T18:24:36.247701Z",
     "shell.execute_reply": "2025-08-19T18:24:36.247084Z"
    },
    "papermill": {
     "duration": 0.025633,
     "end_time": "2025-08-19T18:24:36.249220",
     "exception": false,
     "start_time": "2025-08-19T18:24:36.223587",
     "status": "completed"
    },
    "tags": []
   },
   "outputs": [],
   "source": [
    "y_true = y_true.squeeze()"
   ]
  },
  {
   "cell_type": "code",
   "execution_count": 45,
   "id": "e700e9a7",
   "metadata": {
    "execution": {
     "iopub.execute_input": "2025-08-19T18:24:36.274154Z",
     "iopub.status.busy": "2025-08-19T18:24:36.273846Z",
     "iopub.status.idle": "2025-08-19T18:24:36.761369Z",
     "shell.execute_reply": "2025-08-19T18:24:36.760633Z"
    },
    "papermill": {
     "duration": 0.501574,
     "end_time": "2025-08-19T18:24:36.763016",
     "exception": false,
     "start_time": "2025-08-19T18:24:36.261442",
     "status": "completed"
    },
    "tags": []
   },
   "outputs": [],
   "source": [
    "from fairness_multiverse.conformal import evaluate_sets\n",
    "\n",
    "# Evaluate coverage and average set size on test data\n",
    "metrics = evaluate_sets(pred_sets, y_true)"
   ]
  },
  {
   "cell_type": "markdown",
   "id": "efbacec0",
   "metadata": {
    "papermill": {
     "duration": 0.011615,
     "end_time": "2025-08-19T18:24:36.786715",
     "exception": false,
     "start_time": "2025-08-19T18:24:36.775100",
     "status": "completed"
    },
    "tags": []
   },
   "source": [
    "# CP Metrics"
   ]
  },
  {
   "cell_type": "code",
   "execution_count": 46,
   "id": "9de55fb1",
   "metadata": {
    "execution": {
     "iopub.execute_input": "2025-08-19T18:24:36.813085Z",
     "iopub.status.busy": "2025-08-19T18:24:36.811514Z",
     "iopub.status.idle": "2025-08-19T18:24:36.830339Z",
     "shell.execute_reply": "2025-08-19T18:24:36.828555Z"
    },
    "papermill": {
     "duration": 0.034169,
     "end_time": "2025-08-19T18:24:36.832227",
     "exception": false,
     "start_time": "2025-08-19T18:24:36.798058",
     "status": "completed"
    },
    "tags": []
   },
   "outputs": [
    {
     "data": {
      "text/plain": [
       "{'coverage': 0.9122171441310891, 'avg_size': 1.1384572511425706}"
      ]
     },
     "execution_count": 46,
     "metadata": {},
     "output_type": "execute_result"
    }
   ],
   "source": [
    "metrics"
   ]
  },
  {
   "cell_type": "code",
   "execution_count": 47,
   "id": "64c340a1",
   "metadata": {
    "execution": {
     "iopub.execute_input": "2025-08-19T18:24:36.865249Z",
     "iopub.status.busy": "2025-08-19T18:24:36.863873Z",
     "iopub.status.idle": "2025-08-19T18:24:36.958357Z",
     "shell.execute_reply": "2025-08-19T18:24:36.956709Z"
    },
    "papermill": {
     "duration": 0.112564,
     "end_time": "2025-08-19T18:24:36.962074",
     "exception": false,
     "start_time": "2025-08-19T18:24:36.849510",
     "status": "completed"
    },
    "tags": []
   },
   "outputs": [],
   "source": [
    "example_universe = universe.copy()\n",
    "universe_training_year = example_universe.get(\"training_year\")\n",
    "universe_training_size = example_universe.get(\"training_size\")\n",
    "universe_scale = example_universe.get(\"scale\")\n",
    "universe_model = example_universe.get(\"model\")\n",
    "universe_exclude_features = example_universe.get(\"exclude_features\")\n",
    "universe_exclude_subgroups = example_universe.get(\"exclude_subgroups\")"
   ]
  },
  {
   "cell_type": "code",
   "execution_count": 48,
   "id": "dbb53cb4",
   "metadata": {
    "execution": {
     "iopub.execute_input": "2025-08-19T18:24:37.003852Z",
     "iopub.status.busy": "2025-08-19T18:24:37.002884Z",
     "iopub.status.idle": "2025-08-19T18:24:37.010561Z",
     "shell.execute_reply": "2025-08-19T18:24:37.009471Z"
    },
    "papermill": {
     "duration": 0.024254,
     "end_time": "2025-08-19T18:24:37.011923",
     "exception": false,
     "start_time": "2025-08-19T18:24:36.987669",
     "status": "completed"
    },
    "tags": []
   },
   "outputs": [],
   "source": [
    "cp_metrics_dict = {\n",
    "    \"universe_id\": [universe_id],\n",
    "    \"universe_training_year\": [universe_training_year],\n",
    "    \"universe_training_size\": [universe_training_size],\n",
    "    \"universe_scale\": [universe_scale],\n",
    "    \"universe_model\": [universe_model],\n",
    "    \"universe_exclude_features\": [universe_exclude_features],\n",
    "    \"universe_exclude_subgroups\": [universe_exclude_subgroups],\n",
    "    \"q_hat\": [q_hat],\n",
    "    \"coverage\": [metrics[\"coverage\"]],\n",
    "    \"avg_size\": [metrics[\"avg_size\"]],\n",
    "}"
   ]
  },
  {
   "cell_type": "code",
   "execution_count": 49,
   "id": "0d70d4b2",
   "metadata": {
    "execution": {
     "iopub.execute_input": "2025-08-19T18:24:37.048105Z",
     "iopub.status.busy": "2025-08-19T18:24:37.047430Z",
     "iopub.status.idle": "2025-08-19T18:24:37.059394Z",
     "shell.execute_reply": "2025-08-19T18:24:37.058334Z"
    },
    "papermill": {
     "duration": 0.035236,
     "end_time": "2025-08-19T18:24:37.061249",
     "exception": false,
     "start_time": "2025-08-19T18:24:37.026013",
     "status": "completed"
    },
    "tags": []
   },
   "outputs": [],
   "source": [
    "cp_metrics_df = pd.DataFrame(cp_metrics_dict)"
   ]
  },
  {
   "cell_type": "code",
   "execution_count": 50,
   "id": "b494403c",
   "metadata": {
    "execution": {
     "iopub.execute_input": "2025-08-19T18:24:37.091081Z",
     "iopub.status.busy": "2025-08-19T18:24:37.090633Z",
     "iopub.status.idle": "2025-08-19T18:24:37.108984Z",
     "shell.execute_reply": "2025-08-19T18:24:37.107592Z"
    },
    "papermill": {
     "duration": 0.033242,
     "end_time": "2025-08-19T18:24:37.110822",
     "exception": false,
     "start_time": "2025-08-19T18:24:37.077580",
     "status": "completed"
    },
    "tags": []
   },
   "outputs": [
    {
     "data": {
      "text/html": [
       "<div>\n",
       "<style scoped>\n",
       "    .dataframe tbody tr th:only-of-type {\n",
       "        vertical-align: middle;\n",
       "    }\n",
       "\n",
       "    .dataframe tbody tr th {\n",
       "        vertical-align: top;\n",
       "    }\n",
       "\n",
       "    .dataframe thead th {\n",
       "        text-align: right;\n",
       "    }\n",
       "</style>\n",
       "<table border=\"1\" class=\"dataframe\">\n",
       "  <thead>\n",
       "    <tr style=\"text-align: right;\">\n",
       "      <th></th>\n",
       "      <th>universe_id</th>\n",
       "      <th>universe_training_year</th>\n",
       "      <th>universe_training_size</th>\n",
       "      <th>universe_scale</th>\n",
       "      <th>universe_model</th>\n",
       "      <th>universe_exclude_features</th>\n",
       "      <th>universe_exclude_subgroups</th>\n",
       "      <th>q_hat</th>\n",
       "      <th>coverage</th>\n",
       "      <th>avg_size</th>\n",
       "    </tr>\n",
       "  </thead>\n",
       "  <tbody>\n",
       "    <tr>\n",
       "      <th>0</th>\n",
       "      <td>f26ada2194be7f2522ab129f4427ae90</td>\n",
       "      <td>2014</td>\n",
       "      <td>5k</td>\n",
       "      <td>scale</td>\n",
       "      <td>rf</td>\n",
       "      <td>none</td>\n",
       "      <td>keep-all</td>\n",
       "      <td>0.66</td>\n",
       "      <td>0.912217</td>\n",
       "      <td>1.138457</td>\n",
       "    </tr>\n",
       "  </tbody>\n",
       "</table>\n",
       "</div>"
      ],
      "text/plain": [
       "                        universe_id universe_training_year  \\\n",
       "0  f26ada2194be7f2522ab129f4427ae90                   2014   \n",
       "\n",
       "  universe_training_size universe_scale universe_model  \\\n",
       "0                     5k          scale             rf   \n",
       "\n",
       "  universe_exclude_features universe_exclude_subgroups  q_hat  coverage  \\\n",
       "0                      none                   keep-all   0.66  0.912217   \n",
       "\n",
       "   avg_size  \n",
       "0  1.138457  "
      ]
     },
     "execution_count": 50,
     "metadata": {},
     "output_type": "execute_result"
    }
   ],
   "source": [
    "cp_metrics_df"
   ]
  },
  {
   "cell_type": "markdown",
   "id": "ed608b0b",
   "metadata": {
    "papermill": {
     "duration": 0.011905,
     "end_time": "2025-08-19T18:24:37.136924",
     "exception": false,
     "start_time": "2025-08-19T18:24:37.125019",
     "status": "completed"
    },
    "tags": []
   },
   "source": [
    "Conditional coverage & looking at subgroups"
   ]
  },
  {
   "cell_type": "code",
   "execution_count": 51,
   "id": "8968c366",
   "metadata": {
    "execution": {
     "iopub.execute_input": "2025-08-19T18:24:37.163984Z",
     "iopub.status.busy": "2025-08-19T18:24:37.162809Z",
     "iopub.status.idle": "2025-08-19T18:24:37.591739Z",
     "shell.execute_reply": "2025-08-19T18:24:37.589066Z"
    },
    "papermill": {
     "duration": 0.44551,
     "end_time": "2025-08-19T18:24:37.594477",
     "exception": false,
     "start_time": "2025-08-19T18:24:37.148967",
     "status": "completed"
    },
    "tags": []
   },
   "outputs": [],
   "source": [
    "from fairness_multiverse.conformal import build_cp_groups\n",
    "\n",
    "cp_groups_df = build_cp_groups(pred_sets, y_true, X_test.index, org_test)"
   ]
  },
  {
   "cell_type": "code",
   "execution_count": 52,
   "id": "292ddabf",
   "metadata": {
    "execution": {
     "iopub.execute_input": "2025-08-19T18:24:37.629604Z",
     "iopub.status.busy": "2025-08-19T18:24:37.627798Z",
     "iopub.status.idle": "2025-08-19T18:24:38.638251Z",
     "shell.execute_reply": "2025-08-19T18:24:38.636408Z"
    },
    "papermill": {
     "duration": 1.027624,
     "end_time": "2025-08-19T18:24:38.640288",
     "exception": false,
     "start_time": "2025-08-19T18:24:37.612664",
     "status": "completed"
    },
    "tags": []
   },
   "outputs": [],
   "source": [
    "# Define covered = 1 if true_label is in the predicted set\n",
    "cp_groups_df['covered'] = cp_groups_df.apply(\n",
    "    lambda r: int(r['true_label'] in r['pred_set']),\n",
    "    axis=1\n",
    ")"
   ]
  },
  {
   "cell_type": "code",
   "execution_count": 53,
   "id": "3a261692",
   "metadata": {
    "execution": {
     "iopub.execute_input": "2025-08-19T18:24:38.667648Z",
     "iopub.status.busy": "2025-08-19T18:24:38.667253Z",
     "iopub.status.idle": "2025-08-19T18:24:38.684336Z",
     "shell.execute_reply": "2025-08-19T18:24:38.683142Z"
    },
    "papermill": {
     "duration": 0.032584,
     "end_time": "2025-08-19T18:24:38.685823",
     "exception": false,
     "start_time": "2025-08-19T18:24:38.653239",
     "status": "completed"
    },
    "tags": []
   },
   "outputs": [],
   "source": [
    "subgroups = ['frau1','nongerman','nongerman_male','nongerman_female']\n",
    "\n",
    "# Conditional coverage for subgroup==1\n",
    "cond_coverage = {\n",
    "    g: cp_groups_df.loc[cp_groups_df[g]==1, 'covered'].mean()\n",
    "    for g in subgroups\n",
    "}"
   ]
  },
  {
   "cell_type": "code",
   "execution_count": 54,
   "id": "894fd600",
   "metadata": {
    "execution": {
     "iopub.execute_input": "2025-08-19T18:24:38.717509Z",
     "iopub.status.busy": "2025-08-19T18:24:38.712110Z",
     "iopub.status.idle": "2025-08-19T18:24:38.736683Z",
     "shell.execute_reply": "2025-08-19T18:24:38.735544Z"
    },
    "papermill": {
     "duration": 0.039824,
     "end_time": "2025-08-19T18:24:38.738411",
     "exception": false,
     "start_time": "2025-08-19T18:24:38.698587",
     "status": "completed"
    },
    "tags": []
   },
   "outputs": [
    {
     "data": {
      "text/plain": [
       "{'frau1': 0.9111470548591455,\n",
       " 'nongerman': 0.9059114130129681,\n",
       " 'nongerman_male': 0.9209222732594794,\n",
       " 'nongerman_female': 0.8810730253353204}"
      ]
     },
     "execution_count": 54,
     "metadata": {},
     "output_type": "execute_result"
    }
   ],
   "source": [
    "cond_coverage"
   ]
  },
  {
   "cell_type": "code",
   "execution_count": 55,
   "id": "942895c7",
   "metadata": {
    "execution": {
     "iopub.execute_input": "2025-08-19T18:24:38.766944Z",
     "iopub.status.busy": "2025-08-19T18:24:38.766427Z",
     "iopub.status.idle": "2025-08-19T18:24:38.787322Z",
     "shell.execute_reply": "2025-08-19T18:24:38.786299Z"
    },
    "papermill": {
     "duration": 0.038127,
     "end_time": "2025-08-19T18:24:38.790648",
     "exception": false,
     "start_time": "2025-08-19T18:24:38.752521",
     "status": "completed"
    },
    "tags": []
   },
   "outputs": [],
   "source": [
    "for subgroup, cov in cond_coverage.items():\n",
    "    cp_metrics_df[f\"cov_{subgroup}\"] = cov"
   ]
  },
  {
   "cell_type": "code",
   "execution_count": 56,
   "id": "3970120f",
   "metadata": {
    "execution": {
     "iopub.execute_input": "2025-08-19T18:24:38.832585Z",
     "iopub.status.busy": "2025-08-19T18:24:38.832104Z",
     "iopub.status.idle": "2025-08-19T18:24:38.862162Z",
     "shell.execute_reply": "2025-08-19T18:24:38.860455Z"
    },
    "papermill": {
     "duration": 0.047701,
     "end_time": "2025-08-19T18:24:38.865287",
     "exception": false,
     "start_time": "2025-08-19T18:24:38.817586",
     "status": "completed"
    },
    "tags": []
   },
   "outputs": [
    {
     "data": {
      "text/html": [
       "<div>\n",
       "<style scoped>\n",
       "    .dataframe tbody tr th:only-of-type {\n",
       "        vertical-align: middle;\n",
       "    }\n",
       "\n",
       "    .dataframe tbody tr th {\n",
       "        vertical-align: top;\n",
       "    }\n",
       "\n",
       "    .dataframe thead th {\n",
       "        text-align: right;\n",
       "    }\n",
       "</style>\n",
       "<table border=\"1\" class=\"dataframe\">\n",
       "  <thead>\n",
       "    <tr style=\"text-align: right;\">\n",
       "      <th></th>\n",
       "      <th>universe_id</th>\n",
       "      <th>universe_training_year</th>\n",
       "      <th>universe_training_size</th>\n",
       "      <th>universe_scale</th>\n",
       "      <th>universe_model</th>\n",
       "      <th>universe_exclude_features</th>\n",
       "      <th>universe_exclude_subgroups</th>\n",
       "      <th>q_hat</th>\n",
       "      <th>coverage</th>\n",
       "      <th>avg_size</th>\n",
       "      <th>cov_frau1</th>\n",
       "      <th>cov_nongerman</th>\n",
       "      <th>cov_nongerman_male</th>\n",
       "      <th>cov_nongerman_female</th>\n",
       "    </tr>\n",
       "  </thead>\n",
       "  <tbody>\n",
       "    <tr>\n",
       "      <th>0</th>\n",
       "      <td>f26ada2194be7f2522ab129f4427ae90</td>\n",
       "      <td>2014</td>\n",
       "      <td>5k</td>\n",
       "      <td>scale</td>\n",
       "      <td>rf</td>\n",
       "      <td>none</td>\n",
       "      <td>keep-all</td>\n",
       "      <td>0.66</td>\n",
       "      <td>0.912217</td>\n",
       "      <td>1.138457</td>\n",
       "      <td>0.911147</td>\n",
       "      <td>0.905911</td>\n",
       "      <td>0.920922</td>\n",
       "      <td>0.881073</td>\n",
       "    </tr>\n",
       "  </tbody>\n",
       "</table>\n",
       "</div>"
      ],
      "text/plain": [
       "                        universe_id universe_training_year  \\\n",
       "0  f26ada2194be7f2522ab129f4427ae90                   2014   \n",
       "\n",
       "  universe_training_size universe_scale universe_model  \\\n",
       "0                     5k          scale             rf   \n",
       "\n",
       "  universe_exclude_features universe_exclude_subgroups  q_hat  coverage  \\\n",
       "0                      none                   keep-all   0.66  0.912217   \n",
       "\n",
       "   avg_size  cov_frau1  cov_nongerman  cov_nongerman_male  \\\n",
       "0  1.138457   0.911147       0.905911            0.920922   \n",
       "\n",
       "   cov_nongerman_female  \n",
       "0              0.881073  "
      ]
     },
     "execution_count": 56,
     "metadata": {},
     "output_type": "execute_result"
    }
   ],
   "source": [
    "cp_metrics_df"
   ]
  },
  {
   "cell_type": "markdown",
   "id": "3fc519cc",
   "metadata": {
    "papermill": {
     "duration": 0.013115,
     "end_time": "2025-08-19T18:24:38.901345",
     "exception": false,
     "start_time": "2025-08-19T18:24:38.888230",
     "status": "completed"
    },
    "tags": []
   },
   "source": [
    "# (Fairness) Metrics"
   ]
  },
  {
   "cell_type": "code",
   "execution_count": 57,
   "id": "a2e5e155",
   "metadata": {
    "execution": {
     "iopub.execute_input": "2025-08-19T18:24:38.928829Z",
     "iopub.status.busy": "2025-08-19T18:24:38.927412Z",
     "iopub.status.idle": "2025-08-19T18:24:38.967665Z",
     "shell.execute_reply": "2025-08-19T18:24:38.964261Z"
    },
    "papermill": {
     "duration": 0.064382,
     "end_time": "2025-08-19T18:24:38.977876",
     "exception": false,
     "start_time": "2025-08-19T18:24:38.913494",
     "status": "completed"
    },
    "tags": []
   },
   "outputs": [],
   "source": [
    "colname_to_bin = \"maxdeutsch1\"\n",
    "majority_value = org_train[colname_to_bin].mode()[0]\n",
    "\n",
    "org_test[\"majmin\"] = np.where(org_test[colname_to_bin] == majority_value, \"majority\", \"minority\")"
   ]
  },
  {
   "cell_type": "code",
   "execution_count": 58,
   "id": "17e3e4d5",
   "metadata": {
    "execution": {
     "iopub.execute_input": "2025-08-19T18:24:39.012731Z",
     "iopub.status.busy": "2025-08-19T18:24:39.011853Z",
     "iopub.status.idle": "2025-08-19T18:24:40.763801Z",
     "shell.execute_reply": "2025-08-19T18:24:40.762191Z"
    },
    "papermill": {
     "duration": 1.772718,
     "end_time": "2025-08-19T18:24:40.765523",
     "exception": false,
     "start_time": "2025-08-19T18:24:38.992805",
     "status": "completed"
    },
    "tags": []
   },
   "outputs": [],
   "source": [
    "example_universe = universe.copy()\n",
    "example_universe[\"cutoff\"] = example_universe[\"cutoff\"][0]\n",
    "example_universe[\"eval_fairness_grouping\"] = example_universe[\"eval_fairness_grouping\"][0]\n",
    "fairness_dict, metric_frame = universe_analysis.compute_metrics(\n",
    "    example_universe,\n",
    "    y_pred_prob=probs_test,\n",
    "    y_test=y_true,\n",
    "    org_test=org_test,\n",
    ")"
   ]
  },
  {
   "cell_type": "markdown",
   "id": "1fb7a0e9",
   "metadata": {
    "papermill": {
     "duration": 0.012499,
     "end_time": "2025-08-19T18:24:40.795377",
     "exception": false,
     "start_time": "2025-08-19T18:24:40.782878",
     "status": "completed"
    },
    "tags": []
   },
   "source": [
    "# Overall"
   ]
  },
  {
   "cell_type": "markdown",
   "id": "be1784b1",
   "metadata": {
    "papermill": {
     "duration": 0.012209,
     "end_time": "2025-08-19T18:24:40.819991",
     "exception": false,
     "start_time": "2025-08-19T18:24:40.807782",
     "status": "completed"
    },
    "tags": []
   },
   "source": [
    "Main fairness target: Equalized Odds. Seems to be a better fit than equal opportunity, since we're not only interested in Y = 1. Seems to be a better fit than demographic parity, since we also care about accuracy, not just equal distribution of preds.\n",
    "\n",
    "Pick column for computation of fairness metrics\n",
    "\n",
    "Performance\n",
    "Overall performance measures, most interesting in relation to the measures split by group below"
   ]
  },
  {
   "cell_type": "code",
   "execution_count": 59,
   "id": "b7672bee",
   "metadata": {
    "execution": {
     "iopub.execute_input": "2025-08-19T18:24:40.848554Z",
     "iopub.status.busy": "2025-08-19T18:24:40.847316Z",
     "iopub.status.idle": "2025-08-19T18:24:40.862344Z",
     "shell.execute_reply": "2025-08-19T18:24:40.861428Z"
    },
    "papermill": {
     "duration": 0.031918,
     "end_time": "2025-08-19T18:24:40.864153",
     "exception": false,
     "start_time": "2025-08-19T18:24:40.832235",
     "status": "completed"
    },
    "tags": []
   },
   "outputs": [
    {
     "data": {
      "text/plain": [
       "accuracy                   0.197603\n",
       "balanced accuracy          0.533834\n",
       "f1                         0.239715\n",
       "precision                  0.136442\n",
       "false positive rate        0.918429\n",
       "false negative rate        0.013903\n",
       "selection rate             0.927110\n",
       "count                  89710.000000\n",
       "dtype: float64"
      ]
     },
     "execution_count": 59,
     "metadata": {},
     "output_type": "execute_result"
    }
   ],
   "source": [
    "metric_frame.overall"
   ]
  },
  {
   "cell_type": "markdown",
   "id": "d93333c9",
   "metadata": {
    "papermill": {
     "duration": 0.012842,
     "end_time": "2025-08-19T18:24:40.895647",
     "exception": false,
     "start_time": "2025-08-19T18:24:40.882805",
     "status": "completed"
    },
    "tags": []
   },
   "source": [
    "By Group"
   ]
  },
  {
   "cell_type": "code",
   "execution_count": 60,
   "id": "52256966",
   "metadata": {
    "execution": {
     "iopub.execute_input": "2025-08-19T18:24:40.922357Z",
     "iopub.status.busy": "2025-08-19T18:24:40.921731Z",
     "iopub.status.idle": "2025-08-19T18:24:40.951920Z",
     "shell.execute_reply": "2025-08-19T18:24:40.950958Z"
    },
    "papermill": {
     "duration": 0.045742,
     "end_time": "2025-08-19T18:24:40.953723",
     "exception": false,
     "start_time": "2025-08-19T18:24:40.907981",
     "status": "completed"
    },
    "tags": []
   },
   "outputs": [
    {
     "data": {
      "text/html": [
       "<div>\n",
       "<style scoped>\n",
       "    .dataframe tbody tr th:only-of-type {\n",
       "        vertical-align: middle;\n",
       "    }\n",
       "\n",
       "    .dataframe tbody tr th {\n",
       "        vertical-align: top;\n",
       "    }\n",
       "\n",
       "    .dataframe thead th {\n",
       "        text-align: right;\n",
       "    }\n",
       "</style>\n",
       "<table border=\"1\" class=\"dataframe\">\n",
       "  <thead>\n",
       "    <tr style=\"text-align: right;\">\n",
       "      <th></th>\n",
       "      <th>accuracy</th>\n",
       "      <th>balanced accuracy</th>\n",
       "      <th>f1</th>\n",
       "      <th>precision</th>\n",
       "      <th>false positive rate</th>\n",
       "      <th>false negative rate</th>\n",
       "      <th>selection rate</th>\n",
       "      <th>count</th>\n",
       "    </tr>\n",
       "    <tr>\n",
       "      <th>majmin</th>\n",
       "      <th></th>\n",
       "      <th></th>\n",
       "      <th></th>\n",
       "      <th></th>\n",
       "      <th></th>\n",
       "      <th></th>\n",
       "      <th></th>\n",
       "      <th></th>\n",
       "    </tr>\n",
       "  </thead>\n",
       "  <tbody>\n",
       "    <tr>\n",
       "      <th>majority</th>\n",
       "      <td>0.197239</td>\n",
       "      <td>0.533843</td>\n",
       "      <td>0.246059</td>\n",
       "      <td>0.140461</td>\n",
       "      <td>0.923671</td>\n",
       "      <td>0.008643</td>\n",
       "      <td>0.932615</td>\n",
       "      <td>69170.0</td>\n",
       "    </tr>\n",
       "    <tr>\n",
       "      <th>minority</th>\n",
       "      <td>0.198832</td>\n",
       "      <td>0.532341</td>\n",
       "      <td>0.217499</td>\n",
       "      <td>0.122548</td>\n",
       "      <td>0.901112</td>\n",
       "      <td>0.034206</td>\n",
       "      <td>0.908569</td>\n",
       "      <td>20540.0</td>\n",
       "    </tr>\n",
       "  </tbody>\n",
       "</table>\n",
       "</div>"
      ],
      "text/plain": [
       "          accuracy  balanced accuracy        f1  precision  \\\n",
       "majmin                                                       \n",
       "majority  0.197239           0.533843  0.246059   0.140461   \n",
       "minority  0.198832           0.532341  0.217499   0.122548   \n",
       "\n",
       "          false positive rate  false negative rate  selection rate    count  \n",
       "majmin                                                                       \n",
       "majority             0.923671             0.008643        0.932615  69170.0  \n",
       "minority             0.901112             0.034206        0.908569  20540.0  "
      ]
     },
     "execution_count": 60,
     "metadata": {},
     "output_type": "execute_result"
    }
   ],
   "source": [
    "metric_frame.by_group"
   ]
  },
  {
   "cell_type": "code",
   "execution_count": 61,
   "id": "6e6c20ae",
   "metadata": {
    "execution": {
     "iopub.execute_input": "2025-08-19T18:24:40.993508Z",
     "iopub.status.busy": "2025-08-19T18:24:40.993083Z",
     "iopub.status.idle": "2025-08-19T18:24:42.971166Z",
     "shell.execute_reply": "2025-08-19T18:24:42.970205Z"
    },
    "papermill": {
     "duration": 1.994006,
     "end_time": "2025-08-19T18:24:42.972498",
     "exception": false,
     "start_time": "2025-08-19T18:24:40.978492",
     "status": "completed"
    },
    "tags": []
   },
   "outputs": [
    {
     "data": {
      "text/plain": [
       "array([[<Axes: title={'center': 'accuracy'}, xlabel='majmin'>,\n",
       "        <Axes: title={'center': 'balanced accuracy'}, xlabel='majmin'>,\n",
       "        <Axes: title={'center': 'f1'}, xlabel='majmin'>],\n",
       "       [<Axes: title={'center': 'precision'}, xlabel='majmin'>,\n",
       "        <Axes: title={'center': 'false positive rate'}, xlabel='majmin'>,\n",
       "        <Axes: title={'center': 'false negative rate'}, xlabel='majmin'>],\n",
       "       [<Axes: title={'center': 'selection rate'}, xlabel='majmin'>,\n",
       "        <Axes: title={'center': 'count'}, xlabel='majmin'>,\n",
       "        <Axes: xlabel='majmin'>]], dtype=object)"
      ]
     },
     "execution_count": 61,
     "metadata": {},
     "output_type": "execute_result"
    },
    {
     "data": {
      "image/png": "[encoded data removed]",
      "text/plain": [
       "<Figure size 1200x800 with 9 Axes>"
      ]
     },
     "metadata": {},
     "output_type": "display_data"
    }
   ],
   "source": [
    "# In a graphic\n",
    "metric_frame.by_group.plot.bar(\n",
    "    subplots=True,\n",
    "    layout=[3, 3],\n",
    "    legend=False,\n",
    "    figsize=[12, 8],\n",
    "    title=\"Show all metrics\",\n",
    ")"
   ]
  },
  {
   "cell_type": "markdown",
   "id": "b2e433ae",
   "metadata": {
    "papermill": {
     "duration": 0.01392,
     "end_time": "2025-08-19T18:24:43.001252",
     "exception": false,
     "start_time": "2025-08-19T18:24:42.987332",
     "status": "completed"
    },
    "tags": []
   },
   "source": [
    "# Final Output"
   ]
  },
  {
   "cell_type": "code",
   "execution_count": 62,
   "id": "3871301e",
   "metadata": {
    "execution": {
     "iopub.execute_input": "2025-08-19T18:24:43.033194Z",
     "iopub.status.busy": "2025-08-19T18:24:43.031316Z",
     "iopub.status.idle": "2025-08-19T18:24:43.049927Z",
     "shell.execute_reply": "2025-08-19T18:24:43.048978Z"
    },
    "papermill": {
     "duration": 0.036571,
     "end_time": "2025-08-19T18:24:43.051593",
     "exception": false,
     "start_time": "2025-08-19T18:24:43.015022",
     "status": "completed"
    },
    "tags": []
   },
   "outputs": [
    {
     "data": {
      "text/plain": [
       "4"
      ]
     },
     "execution_count": 62,
     "metadata": {},
     "output_type": "execute_result"
    }
   ],
   "source": [
    "sub_universes = universe_analysis.generate_sub_universes()\n",
    "len(sub_universes)"
   ]
  },
  {
   "cell_type": "code",
   "execution_count": 63,
   "id": "d9cfdaca",
   "metadata": {
    "execution": {
     "iopub.execute_input": "2025-08-19T18:24:43.092242Z",
     "iopub.status.busy": "2025-08-19T18:24:43.091249Z",
     "iopub.status.idle": "2025-08-19T18:24:43.101255Z",
     "shell.execute_reply": "2025-08-19T18:24:43.099924Z"
    },
    "papermill": {
     "duration": 0.028139,
     "end_time": "2025-08-19T18:24:43.102807",
     "exception": false,
     "start_time": "2025-08-19T18:24:43.074668",
     "status": "completed"
    },
    "tags": []
   },
   "outputs": [],
   "source": [
    "def filter_sub_universe_data(sub_universe, org_test):\n",
    "    # Keep all rows — no filtering\n",
    "    keep_rows_mask = np.ones(org_test.shape[0], dtype=bool)\n",
    "\n",
    "    print(f\"[INFO] Keeping all rows: {keep_rows_mask.sum()} rows retained.\")\n",
    "    return keep_rows_mask"
   ]
  },
  {
   "cell_type": "code",
   "execution_count": 64,
   "id": "2bc31ac1",
   "metadata": {
    "execution": {
     "iopub.execute_input": "2025-08-19T18:24:43.139252Z",
     "iopub.status.busy": "2025-08-19T18:24:43.138285Z",
     "iopub.status.idle": "2025-08-19T18:24:49.750135Z",
     "shell.execute_reply": "2025-08-19T18:24:49.749128Z"
    },
    "papermill": {
     "duration": 6.629496,
     "end_time": "2025-08-19T18:24:49.751723",
     "exception": false,
     "start_time": "2025-08-19T18:24:43.122227",
     "status": "completed"
    },
    "tags": []
   },
   "outputs": [
    {
     "name": "stdout",
     "output_type": "stream",
     "text": [
      "Stopping execution_time clock.\n",
      "[INFO] Keeping all rows: 89710 rows retained.\n"
     ]
    },
    {
     "name": "stdout",
     "output_type": "stream",
     "text": [
      "[INFO] Keeping all rows: 89710 rows retained.\n"
     ]
    },
    {
     "name": "stdout",
     "output_type": "stream",
     "text": [
      "[INFO] Keeping all rows: 89710 rows retained.\n"
     ]
    },
    {
     "name": "stdout",
     "output_type": "stream",
     "text": [
      "[INFO] Keeping all rows: 89710 rows retained.\n"
     ]
    },
    {
     "data": {
      "text/html": [
       "<div>\n",
       "<style scoped>\n",
       "    .dataframe tbody tr th:only-of-type {\n",
       "        vertical-align: middle;\n",
       "    }\n",
       "\n",
       "    .dataframe tbody tr th {\n",
       "        vertical-align: top;\n",
       "    }\n",
       "\n",
       "    .dataframe thead th {\n",
       "        text-align: right;\n",
       "    }\n",
       "</style>\n",
       "<table border=\"1\" class=\"dataframe\">\n",
       "  <thead>\n",
       "    <tr style=\"text-align: right;\">\n",
       "      <th></th>\n",
       "      <th>run_no</th>\n",
       "      <th>universe_id</th>\n",
       "      <th>universe_settings</th>\n",
       "      <th>execution_time</th>\n",
       "      <th>test_size_n</th>\n",
       "      <th>test_size_frac</th>\n",
       "      <th>fair_main_equalized_odds_difference</th>\n",
       "      <th>fair_main_equalized_odds_ratio</th>\n",
       "      <th>fair_main_demographic_parity_difference</th>\n",
       "      <th>fair_main_demographic_parity_ratio</th>\n",
       "      <th>...</th>\n",
       "      <th>perf_grp_precision_0</th>\n",
       "      <th>perf_grp_precision_1</th>\n",
       "      <th>perf_grp_false positive rate_0</th>\n",
       "      <th>perf_grp_false positive rate_1</th>\n",
       "      <th>perf_grp_false negative rate_0</th>\n",
       "      <th>perf_grp_false negative rate_1</th>\n",
       "      <th>perf_grp_selection rate_0</th>\n",
       "      <th>perf_grp_selection rate_1</th>\n",
       "      <th>perf_grp_count_0</th>\n",
       "      <th>perf_grp_count_1</th>\n",
       "    </tr>\n",
       "  </thead>\n",
       "  <tbody>\n",
       "    <tr>\n",
       "      <th>0</th>\n",
       "      <td>3</td>\n",
       "      <td>f26ada2194be7f2522ab129f4427ae90</td>\n",
       "      <td>{\"cutoff\": \"quantile_0.1\", \"eval_fairness_grou...</td>\n",
       "      <td>29.772731</td>\n",
       "      <td>89710</td>\n",
       "      <td>1.0</td>\n",
       "      <td>0.025563</td>\n",
       "      <td>0.974214</td>\n",
       "      <td>0.024047</td>\n",
       "      <td>0.974216</td>\n",
       "      <td>...</td>\n",
       "      <td>NaN</td>\n",
       "      <td>NaN</td>\n",
       "      <td>NaN</td>\n",
       "      <td>NaN</td>\n",
       "      <td>NaN</td>\n",
       "      <td>NaN</td>\n",
       "      <td>NaN</td>\n",
       "      <td>NaN</td>\n",
       "      <td>NaN</td>\n",
       "      <td>NaN</td>\n",
       "    </tr>\n",
       "    <tr>\n",
       "      <th>0</th>\n",
       "      <td>3</td>\n",
       "      <td>f26ada2194be7f2522ab129f4427ae90</td>\n",
       "      <td>{\"cutoff\": \"quantile_0.1\", \"eval_fairness_grou...</td>\n",
       "      <td>29.772731</td>\n",
       "      <td>89710</td>\n",
       "      <td>1.0</td>\n",
       "      <td>0.025563</td>\n",
       "      <td>0.974214</td>\n",
       "      <td>0.024047</td>\n",
       "      <td>0.974216</td>\n",
       "      <td>...</td>\n",
       "      <td>0.122548</td>\n",
       "      <td>0.140461</td>\n",
       "      <td>0.901112</td>\n",
       "      <td>0.923671</td>\n",
       "      <td>0.034206</td>\n",
       "      <td>0.008643</td>\n",
       "      <td>0.908569</td>\n",
       "      <td>0.932615</td>\n",
       "      <td>20540.0</td>\n",
       "      <td>69170.0</td>\n",
       "    </tr>\n",
       "    <tr>\n",
       "      <th>0</th>\n",
       "      <td>3</td>\n",
       "      <td>f26ada2194be7f2522ab129f4427ae90</td>\n",
       "      <td>{\"cutoff\": \"quantile_0.25\", \"eval_fairness_gro...</td>\n",
       "      <td>29.772731</td>\n",
       "      <td>89710</td>\n",
       "      <td>1.0</td>\n",
       "      <td>0.070059</td>\n",
       "      <td>0.926066</td>\n",
       "      <td>0.044978</td>\n",
       "      <td>0.941728</td>\n",
       "      <td>...</td>\n",
       "      <td>NaN</td>\n",
       "      <td>NaN</td>\n",
       "      <td>NaN</td>\n",
       "      <td>NaN</td>\n",
       "      <td>NaN</td>\n",
       "      <td>NaN</td>\n",
       "      <td>NaN</td>\n",
       "      <td>NaN</td>\n",
       "      <td>NaN</td>\n",
       "      <td>NaN</td>\n",
       "    </tr>\n",
       "    <tr>\n",
       "      <th>0</th>\n",
       "      <td>3</td>\n",
       "      <td>f26ada2194be7f2522ab129f4427ae90</td>\n",
       "      <td>{\"cutoff\": \"quantile_0.25\", \"eval_fairness_gro...</td>\n",
       "      <td>29.772731</td>\n",
       "      <td>89710</td>\n",
       "      <td>1.0</td>\n",
       "      <td>0.070059</td>\n",
       "      <td>0.926066</td>\n",
       "      <td>0.044978</td>\n",
       "      <td>0.941728</td>\n",
       "      <td>...</td>\n",
       "      <td>0.139183</td>\n",
       "      <td>0.162224</td>\n",
       "      <td>0.707242</td>\n",
       "      <td>0.745094</td>\n",
       "      <td>0.122466</td>\n",
       "      <td>0.052407</td>\n",
       "      <td>0.726874</td>\n",
       "      <td>0.771852</td>\n",
       "      <td>20540.0</td>\n",
       "      <td>69170.0</td>\n",
       "    </tr>\n",
       "  </tbody>\n",
       "</table>\n",
       "<p>4 rows × 50 columns</p>\n",
       "</div>"
      ],
      "text/plain": [
       "  run_no                       universe_id  \\\n",
       "0      3  f26ada2194be7f2522ab129f4427ae90   \n",
       "0      3  f26ada2194be7f2522ab129f4427ae90   \n",
       "0      3  f26ada2194be7f2522ab129f4427ae90   \n",
       "0      3  f26ada2194be7f2522ab129f4427ae90   \n",
       "\n",
       "                                   universe_settings  execution_time  \\\n",
       "0  {\"cutoff\": \"quantile_0.1\", \"eval_fairness_grou...       29.772731   \n",
       "0  {\"cutoff\": \"quantile_0.1\", \"eval_fairness_grou...       29.772731   \n",
       "0  {\"cutoff\": \"quantile_0.25\", \"eval_fairness_gro...       29.772731   \n",
       "0  {\"cutoff\": \"quantile_0.25\", \"eval_fairness_gro...       29.772731   \n",
       "\n",
       "   test_size_n  test_size_frac  fair_main_equalized_odds_difference  \\\n",
       "0        89710             1.0                             0.025563   \n",
       "0        89710             1.0                             0.025563   \n",
       "0        89710             1.0                             0.070059   \n",
       "0        89710             1.0                             0.070059   \n",
       "\n",
       "   fair_main_equalized_odds_ratio  fair_main_demographic_parity_difference  \\\n",
       "0                        0.974214                                 0.024047   \n",
       "0                        0.974214                                 0.024047   \n",
       "0                        0.926066                                 0.044978   \n",
       "0                        0.926066                                 0.044978   \n",
       "\n",
       "   fair_main_demographic_parity_ratio  ...  perf_grp_precision_0  \\\n",
       "0                            0.974216  ...                   NaN   \n",
       "0                            0.974216  ...              0.122548   \n",
       "0                            0.941728  ...                   NaN   \n",
       "0                            0.941728  ...              0.139183   \n",
       "\n",
       "   perf_grp_precision_1  perf_grp_false positive rate_0  \\\n",
       "0                   NaN                             NaN   \n",
       "0              0.140461                        0.901112   \n",
       "0                   NaN                             NaN   \n",
       "0              0.162224                        0.707242   \n",
       "\n",
       "   perf_grp_false positive rate_1  perf_grp_false negative rate_0  \\\n",
       "0                             NaN                             NaN   \n",
       "0                        0.923671                        0.034206   \n",
       "0                             NaN                             NaN   \n",
       "0                        0.745094                        0.122466   \n",
       "\n",
       "   perf_grp_false negative rate_1  perf_grp_selection rate_0  \\\n",
       "0                             NaN                        NaN   \n",
       "0                        0.008643                   0.908569   \n",
       "0                             NaN                        NaN   \n",
       "0                        0.052407                   0.726874   \n",
       "\n",
       "   perf_grp_selection rate_1  perf_grp_count_0  perf_grp_count_1  \n",
       "0                        NaN               NaN               NaN  \n",
       "0                   0.932615           20540.0           69170.0  \n",
       "0                        NaN               NaN               NaN  \n",
       "0                   0.771852           20540.0           69170.0  \n",
       "\n",
       "[4 rows x 50 columns]"
      ]
     },
     "execution_count": 64,
     "metadata": {},
     "output_type": "execute_result"
    }
   ],
   "source": [
    "final_output = universe_analysis.generate_final_output(\n",
    "    y_pred_prob=probs_test,\n",
    "    y_test=y_true,\n",
    "    org_test=org_test,\n",
    "    filter_data=filter_sub_universe_data,\n",
    "    cp_metrics_df=cp_metrics_df,\n",
    "    save=True,\n",
    ")\n",
    "final_output"
   ]
  },
  {
   "cell_type": "code",
   "execution_count": null,
   "id": "8b80a1ff",
   "metadata": {
    "papermill": {
     "duration": 0.014104,
     "end_time": "2025-08-19T18:24:49.783313",
     "exception": false,
     "start_time": "2025-08-19T18:24:49.769209",
     "status": "completed"
    },
    "tags": []
   },
   "outputs": [],
   "source": []
  },
  {
   "cell_type": "code",
   "execution_count": null,
   "id": "275c9fad",
   "metadata": {
    "papermill": {
     "duration": 0.014048,
     "end_time": "2025-08-19T18:24:49.811556",
     "exception": false,
     "start_time": "2025-08-19T18:24:49.797508",
     "status": "completed"
    },
    "tags": []
   },
   "outputs": [],
   "source": []
  }
 ],
 "metadata": {
  "celltoolbar": "Tags",
  "kernelspec": {
   "display_name": "Python (CMA Fairness)",
   "language": "python",
   "name": "cma_fair_env"
  },
  "language_info": {
   "codemirror_mode": {
    "name": "ipython",
    "version": 3
   },
   "file_extension": ".py",
   "mimetype": "text/x-python",
   "name": "python",
   "nbconvert_exporter": "python",
   "pygments_lexer": "ipython3",
   "version": "3.10.12"
  },
  "papermill": {
   "default_parameters": {},
   "duration": 39.992017,
   "end_time": "2025-08-19T18:24:50.648208",
   "environment_variables": {},
   "exception": null,
   "input_path": "universe_analysis.ipynb",
   "output_path": "output/runs/3/notebooks/m_3-f26ada2194be7f2522ab129f4427ae90.ipynb",
   "parameters": {
    "output_dir": "output",
    "run_no": "3",
    "seed": "2023",
    "universe": "{\"cutoff\": [\"quantile_0.1\", \"quantile_0.25\"], \"eval_fairness_grouping\": [\"majority-minority\", \"nationality-all\"], \"exclude_features\": \"none\", \"exclude_subgroups\": \"keep-all\", \"model\": \"rf\", \"scale\": \"scale\", \"training_size\": \"5k\", \"training_year\": \"2014\"}",
    "universe_id": "f26ada2194be7f2522ab129f4427ae90"
   },
   "start_time": "2025-08-19T18:24:10.656191",
   "version": "2.6.0"
  }
 },
 "nbformat": 4,
 "nbformat_minor": 5
}