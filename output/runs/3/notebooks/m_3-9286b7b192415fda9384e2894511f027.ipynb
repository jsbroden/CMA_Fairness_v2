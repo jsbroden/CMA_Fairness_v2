{
 "cells": [
  {
   "cell_type": "markdown",
   "id": "ef23dbb3",
   "metadata": {
    "papermill": {
     "duration": 0.009306,
     "end_time": "2025-08-19T18:29:02.732786",
     "exception": false,
     "start_time": "2025-08-19T18:29:02.723480",
     "status": "completed"
    },
    "tags": []
   },
   "source": [
    "# Setup"
   ]
  },
  {
   "cell_type": "code",
   "execution_count": 1,
   "id": "0bc8e7dc",
   "metadata": {
    "execution": {
     "iopub.execute_input": "2025-08-19T18:29:02.752992Z",
     "iopub.status.busy": "2025-08-19T18:29:02.751976Z",
     "iopub.status.idle": "2025-08-19T18:29:02.771599Z",
     "shell.execute_reply": "2025-08-19T18:29:02.770208Z"
    },
    "papermill": {
     "duration": 0.033118,
     "end_time": "2025-08-19T18:29:02.774739",
     "exception": false,
     "start_time": "2025-08-19T18:29:02.741621",
     "status": "completed"
    },
    "tags": []
   },
   "outputs": [
    {
     "name": "stdout",
     "output_type": "stream",
     "text": [
      "/dss/dsshome1/0C/ra93lal2/cma/CMA_Fairness_v2\n"
     ]
    },
    {
     "name": "stderr",
     "output_type": "stream",
     "text": [
      "/dss/dsshome1/0C/ra93lal2/.local/share/virtualenvs/CMA_Fairness_v2-3j10GkSs/lib/python3.10/site-packages/IPython/core/magics/osm.py:393: UserWarning: This is now an optional IPython functionality, using bookmarks requires you to install the `pickleshare` library.\n",
      "  bkms = self.shell.db.get('bookmarks', {})\n",
      "/dss/dsshome1/0C/ra93lal2/.local/share/virtualenvs/CMA_Fairness_v2-3j10GkSs/lib/python3.10/site-packages/IPython/core/magics/osm.py:417: UserWarning: This is now an optional IPython functionality, setting dhist requires you to install the `pickleshare` library.\n",
      "  self.shell.db['dhist'] = compress_dhist(dhist)[-100:]\n"
     ]
    }
   ],
   "source": [
    "%cd ~/cma/CMA_Fairness_v2"
   ]
  },
  {
   "cell_type": "markdown",
   "id": "9d235661",
   "metadata": {
    "papermill": {
     "duration": 0.009754,
     "end_time": "2025-08-19T18:29:02.797133",
     "exception": false,
     "start_time": "2025-08-19T18:29:02.787379",
     "status": "completed"
    },
    "tags": []
   },
   "source": [
    "The following cell holds the definition of our parameters, these values can be overriden by rendering the with e.g. the following command:\n",
    "\n",
    "papermill -p alpha 0.2 -p ratio 0.3 universe_analysis.ipynb output/test_run.ipynb"
   ]
  },
  {
   "cell_type": "code",
   "execution_count": 2,
   "id": "4a789d8e",
   "metadata": {
    "execution": {
     "iopub.execute_input": "2025-08-19T18:29:02.817433Z",
     "iopub.status.busy": "2025-08-19T18:29:02.816214Z",
     "iopub.status.idle": "2025-08-19T18:29:02.825489Z",
     "shell.execute_reply": "2025-08-19T18:29:02.823855Z"
    },
    "papermill": {
     "duration": 0.020885,
     "end_time": "2025-08-19T18:29:02.826821",
     "exception": false,
     "start_time": "2025-08-19T18:29:02.805936",
     "status": "completed"
    },
    "tags": []
   },
   "outputs": [
    {
     "name": "stdout",
     "output_type": "stream",
     "text": [
      "Current working directory: /dss/dsshome1/0C/ra93lal2/cma/CMA_Fairness_v2\n"
     ]
    }
   ],
   "source": [
    "import os\n",
    "print(\"Current working directory:\", os.getcwd())"
   ]
  },
  {
   "cell_type": "code",
   "execution_count": 3,
   "id": "4132aaed",
   "metadata": {
    "execution": {
     "iopub.execute_input": "2025-08-19T18:29:02.846436Z",
     "iopub.status.busy": "2025-08-19T18:29:02.845880Z",
     "iopub.status.idle": "2025-08-19T18:29:02.853332Z",
     "shell.execute_reply": "2025-08-19T18:29:02.852222Z"
    },
    "papermill": {
     "duration": 0.019307,
     "end_time": "2025-08-19T18:29:02.854961",
     "exception": false,
     "start_time": "2025-08-19T18:29:02.835654",
     "status": "completed"
    },
    "tags": [
     "parameters"
    ]
   },
   "outputs": [],
   "source": [
    "run_no = 0\n",
    "universe_id = \"test\"\n",
    "universe = {\n",
    "    \"training_size\": \"5k\", # \"25k\", \"5k\", \"1k\"\n",
    "    \"training_year\": \"2012_14\", # \"2014\", \"2012_14\", \"2010_14\"\n",
    "    \"scale\": \"scale\", # \"scale\", \"do-not-scale\",\n",
    "    \"model\": \"elasticnet\", # \"logreg\", \"penalized_logreg\", \"rf\", \"gbm\", \"elasticnet\"\n",
    "    \"cutoff\": [\"quantile_0.15\", \"quantile_0.30\"],\n",
    "    \"exclude_features\": \"age\", # \"none\", \"nationality\", \"sex\", \"nationality-sex\", \"age\"\n",
    "    \"exclude_subgroups\": \"drop-non-german\", # \"keep-all\", \"drop-non-german\"\n",
    "    \"eval_fairness_grouping\": [\"majority-minority\", \"nationality-all\"]\n",
    "}\n",
    "\n",
    "output_dir=\"./output\"\n",
    "seed=0"
   ]
  },
  {
   "cell_type": "code",
   "execution_count": 4,
   "id": "386e2a09",
   "metadata": {
    "execution": {
     "iopub.execute_input": "2025-08-19T18:29:02.876169Z",
     "iopub.status.busy": "2025-08-19T18:29:02.875354Z",
     "iopub.status.idle": "2025-08-19T18:29:02.885651Z",
     "shell.execute_reply": "2025-08-19T18:29:02.884194Z"
    },
    "papermill": {
     "duration": 0.022548,
     "end_time": "2025-08-19T18:29:02.886996",
     "exception": false,
     "start_time": "2025-08-19T18:29:02.864448",
     "status": "completed"
    },
    "tags": [
     "injected-parameters"
    ]
   },
   "outputs": [],
   "source": [
    "# Parameters\n",
    "universe_id = \"9286b7b192415fda9384e2894511f027\"\n",
    "run_no = \"3\"\n",
    "universe = \"{\\\"cutoff\\\": [\\\"quantile_0.1\\\", \\\"quantile_0.25\\\"], \\\"eval_fairness_grouping\\\": [\\\"majority-minority\\\", \\\"nationality-all\\\"], \\\"exclude_features\\\": \\\"age\\\", \\\"exclude_subgroups\\\": \\\"drop-non-german\\\", \\\"model\\\": \\\"rf\\\", \\\"scale\\\": \\\"do-not-scale\\\", \\\"training_size\\\": \\\"5k\\\", \\\"training_year\\\": \\\"2014\\\"}\"\n",
    "output_dir = \"output\"\n",
    "seed = \"2023\"\n"
   ]
  },
  {
   "cell_type": "code",
   "execution_count": 5,
   "id": "a5d7941f",
   "metadata": {
    "execution": {
     "iopub.execute_input": "2025-08-19T18:29:02.909208Z",
     "iopub.status.busy": "2025-08-19T18:29:02.908732Z",
     "iopub.status.idle": "2025-08-19T18:29:02.915866Z",
     "shell.execute_reply": "2025-08-19T18:29:02.914178Z"
    },
    "papermill": {
     "duration": 0.022462,
     "end_time": "2025-08-19T18:29:02.920459",
     "exception": false,
     "start_time": "2025-08-19T18:29:02.897997",
     "status": "completed"
    },
    "tags": []
   },
   "outputs": [],
   "source": [
    "import json\n",
    "if isinstance(universe, str):\n",
    "    universe = json.loads(universe)"
   ]
  },
  {
   "cell_type": "code",
   "execution_count": 6,
   "id": "7076ccb1",
   "metadata": {
    "execution": {
     "iopub.execute_input": "2025-08-19T18:29:02.942597Z",
     "iopub.status.busy": "2025-08-19T18:29:02.941800Z",
     "iopub.status.idle": "2025-08-19T18:29:02.988238Z",
     "shell.execute_reply": "2025-08-19T18:29:02.985790Z"
    },
    "papermill": {
     "duration": 0.059756,
     "end_time": "2025-08-19T18:29:02.991586",
     "exception": false,
     "start_time": "2025-08-19T18:29:02.931830",
     "status": "completed"
    },
    "tags": []
   },
   "outputs": [],
   "source": [
    "# Auto-reload the custom package\n",
    "%load_ext autoreload\n",
    "%autoreload 1\n",
    "%aimport fairness_multiverse"
   ]
  },
  {
   "cell_type": "code",
   "execution_count": 7,
   "id": "94c8eb93",
   "metadata": {
    "execution": {
     "iopub.execute_input": "2025-08-19T18:29:03.026743Z",
     "iopub.status.busy": "2025-08-19T18:29:03.026162Z",
     "iopub.status.idle": "2025-08-19T18:29:04.551743Z",
     "shell.execute_reply": "2025-08-19T18:29:04.550297Z"
    },
    "papermill": {
     "duration": 1.540089,
     "end_time": "2025-08-19T18:29:04.553469",
     "exception": false,
     "start_time": "2025-08-19T18:29:03.013380",
     "status": "completed"
    },
    "tags": []
   },
   "outputs": [],
   "source": [
    "from fairness_multiverse.universe import UniverseAnalysis\n",
    "\n",
    "universe_analysis = UniverseAnalysis(\n",
    "    run_no = run_no,\n",
    "    universe_id = universe_id,\n",
    "    universe = universe,\n",
    "    output_dir=output_dir,\n",
    ")"
   ]
  },
  {
   "cell_type": "code",
   "execution_count": 8,
   "id": "2a6381cf",
   "metadata": {
    "execution": {
     "iopub.execute_input": "2025-08-19T18:29:04.575232Z",
     "iopub.status.busy": "2025-08-19T18:29:04.573366Z",
     "iopub.status.idle": "2025-08-19T18:29:04.586592Z",
     "shell.execute_reply": "2025-08-19T18:29:04.585531Z"
    },
    "papermill": {
     "duration": 0.025461,
     "end_time": "2025-08-19T18:29:04.588143",
     "exception": false,
     "start_time": "2025-08-19T18:29:04.562682",
     "status": "completed"
    },
    "tags": []
   },
   "outputs": [
    {
     "name": "stdout",
     "output_type": "stream",
     "text": [
      "Using Seed: 2023\n"
     ]
    }
   ],
   "source": [
    "import numpy as np\n",
    "parsed_seed = int(seed)\n",
    "np.random.seed(parsed_seed)\n",
    "print(f\"Using Seed: {parsed_seed}\")"
   ]
  },
  {
   "cell_type": "markdown",
   "id": "b6e958b4",
   "metadata": {
    "papermill": {
     "duration": 0.011958,
     "end_time": "2025-08-19T18:29:04.611516",
     "exception": false,
     "start_time": "2025-08-19T18:29:04.599558",
     "status": "completed"
    },
    "tags": []
   },
   "source": [
    "# Loading Data"
   ]
  },
  {
   "cell_type": "code",
   "execution_count": 9,
   "id": "98701482",
   "metadata": {
    "execution": {
     "iopub.execute_input": "2025-08-19T18:29:04.633047Z",
     "iopub.status.busy": "2025-08-19T18:29:04.631848Z",
     "iopub.status.idle": "2025-08-19T18:29:14.618199Z",
     "shell.execute_reply": "2025-08-19T18:29:14.617205Z"
    },
    "papermill": {
     "duration": 9.999034,
     "end_time": "2025-08-19T18:29:14.619744",
     "exception": false,
     "start_time": "2025-08-19T18:29:04.620710",
     "status": "completed"
    },
    "tags": []
   },
   "outputs": [
    {
     "name": "stdout",
     "output_type": "stream",
     "text": [
      "Loading SIAB data from cache: data/siab_cached.csv.gz\n"
     ]
    },
    {
     "name": "stdout",
     "output_type": "stream",
     "text": [
      "(643690, 164)\n"
     ]
    }
   ],
   "source": [
    "from pathlib import Path\n",
    "import pandas as pd\n",
    "\n",
    "# File paths\n",
    "raw_file = Path(\"data/raw/siab.csv\")\n",
    "cache_file = Path(\"data/siab_cached.csv.gz\")\n",
    "\n",
    "# Ensure cache directory exists\n",
    "cache_file.parent.mkdir(parents=True, exist_ok=True)\n",
    "\n",
    "# Load with simple caching\n",
    "if cache_file.exists():\n",
    "    print(f\"Loading SIAB data from cache: {cache_file}\")\n",
    "    siab = pd.read_csv(cache_file, compression='gzip')\n",
    "else:\n",
    "    print(f\"Cache not found. Reading raw SIAB data: {raw_file}\")\n",
    "    siab = pd.read_csv(raw_file)\n",
    "    siab.to_csv(cache_file, index=False, compression='gzip')\n",
    "    print(f\"Cached SIAB data to: {cache_file}\")\n",
    "\n",
    "print(siab.shape)"
   ]
  },
  {
   "cell_type": "code",
   "execution_count": 10,
   "id": "058d2abb",
   "metadata": {
    "execution": {
     "iopub.execute_input": "2025-08-19T18:29:14.643662Z",
     "iopub.status.busy": "2025-08-19T18:29:14.643302Z",
     "iopub.status.idle": "2025-08-19T18:29:14.824298Z",
     "shell.execute_reply": "2025-08-19T18:29:14.823543Z"
    },
    "papermill": {
     "duration": 0.193921,
     "end_time": "2025-08-19T18:29:14.825640",
     "exception": false,
     "start_time": "2025-08-19T18:29:14.631719",
     "status": "completed"
    },
    "tags": []
   },
   "outputs": [
    {
     "data": {
      "text/html": [
       "<div>\n",
       "<style scoped>\n",
       "    .dataframe tbody tr th:only-of-type {\n",
       "        vertical-align: middle;\n",
       "    }\n",
       "\n",
       "    .dataframe tbody tr th {\n",
       "        vertical-align: top;\n",
       "    }\n",
       "\n",
       "    .dataframe thead th {\n",
       "        text-align: right;\n",
       "    }\n",
       "</style>\n",
       "<table border=\"1\" class=\"dataframe\">\n",
       "  <thead>\n",
       "    <tr style=\"text-align: right;\">\n",
       "      <th></th>\n",
       "      <th>persnr</th>\n",
       "      <th>year</th>\n",
       "      <th>nrEntry</th>\n",
       "      <th>ltue</th>\n",
       "      <th>employed_before</th>\n",
       "      <th>receipt_leh_before</th>\n",
       "      <th>receipt_lhg_before</th>\n",
       "      <th>se_before</th>\n",
       "      <th>ASU_notue_seeking_before</th>\n",
       "      <th>ASU_other_before</th>\n",
       "      <th>...</th>\n",
       "      <th>minijob_tot_dur_byage</th>\n",
       "      <th>ft_tot_dur_byage</th>\n",
       "      <th>befrist_tot_dur_byage</th>\n",
       "      <th>leih_tot_dur_byage</th>\n",
       "      <th>LHG_tot_dur_byage</th>\n",
       "      <th>LEH_tot_dur_byage</th>\n",
       "      <th>almp_tot_dur_byage</th>\n",
       "      <th>almp_aw_tot_dur_byage</th>\n",
       "      <th>se_tot_dur_byage</th>\n",
       "      <th>seeking1_tot_dur_byage</th>\n",
       "    </tr>\n",
       "  </thead>\n",
       "  <tbody>\n",
       "    <tr>\n",
       "      <th>0</th>\n",
       "      <td>7</td>\n",
       "      <td>2015</td>\n",
       "      <td>1</td>\n",
       "      <td>0</td>\n",
       "      <td>1</td>\n",
       "      <td>0</td>\n",
       "      <td>0</td>\n",
       "      <td>0</td>\n",
       "      <td>1</td>\n",
       "      <td>0</td>\n",
       "      <td>...</td>\n",
       "      <td>0.000000</td>\n",
       "      <td>0.000000</td>\n",
       "      <td>15.043478</td>\n",
       "      <td>0.000000</td>\n",
       "      <td>0.000000</td>\n",
       "      <td>0.000000</td>\n",
       "      <td>0.000000</td>\n",
       "      <td>0.000000</td>\n",
       "      <td>0.000000</td>\n",
       "      <td>0.000000</td>\n",
       "    </tr>\n",
       "    <tr>\n",
       "      <th>1</th>\n",
       "      <td>18</td>\n",
       "      <td>2010</td>\n",
       "      <td>1</td>\n",
       "      <td>1</td>\n",
       "      <td>0</td>\n",
       "      <td>0</td>\n",
       "      <td>0</td>\n",
       "      <td>0</td>\n",
       "      <td>0</td>\n",
       "      <td>0</td>\n",
       "      <td>...</td>\n",
       "      <td>0.000000</td>\n",
       "      <td>0.000000</td>\n",
       "      <td>0.000000</td>\n",
       "      <td>0.000000</td>\n",
       "      <td>0.000000</td>\n",
       "      <td>0.000000</td>\n",
       "      <td>0.000000</td>\n",
       "      <td>0.000000</td>\n",
       "      <td>0.000000</td>\n",
       "      <td>0.000000</td>\n",
       "    </tr>\n",
       "    <tr>\n",
       "      <th>2</th>\n",
       "      <td>18</td>\n",
       "      <td>2011</td>\n",
       "      <td>2</td>\n",
       "      <td>0</td>\n",
       "      <td>1</td>\n",
       "      <td>0</td>\n",
       "      <td>1</td>\n",
       "      <td>0</td>\n",
       "      <td>1</td>\n",
       "      <td>0</td>\n",
       "      <td>...</td>\n",
       "      <td>2.714286</td>\n",
       "      <td>2.714286</td>\n",
       "      <td>0.000000</td>\n",
       "      <td>0.000000</td>\n",
       "      <td>10.775510</td>\n",
       "      <td>0.000000</td>\n",
       "      <td>8.367347</td>\n",
       "      <td>0.000000</td>\n",
       "      <td>0.000000</td>\n",
       "      <td>9.836735</td>\n",
       "    </tr>\n",
       "    <tr>\n",
       "      <th>3</th>\n",
       "      <td>18</td>\n",
       "      <td>2012</td>\n",
       "      <td>3</td>\n",
       "      <td>0</td>\n",
       "      <td>1</td>\n",
       "      <td>0</td>\n",
       "      <td>1</td>\n",
       "      <td>0</td>\n",
       "      <td>1</td>\n",
       "      <td>0</td>\n",
       "      <td>...</td>\n",
       "      <td>4.200000</td>\n",
       "      <td>4.200000</td>\n",
       "      <td>0.000000</td>\n",
       "      <td>0.000000</td>\n",
       "      <td>12.100000</td>\n",
       "      <td>0.000000</td>\n",
       "      <td>9.400000</td>\n",
       "      <td>0.000000</td>\n",
       "      <td>0.000000</td>\n",
       "      <td>9.960000</td>\n",
       "    </tr>\n",
       "    <tr>\n",
       "      <th>4</th>\n",
       "      <td>18</td>\n",
       "      <td>2012</td>\n",
       "      <td>4</td>\n",
       "      <td>0</td>\n",
       "      <td>1</td>\n",
       "      <td>0</td>\n",
       "      <td>1</td>\n",
       "      <td>0</td>\n",
       "      <td>1</td>\n",
       "      <td>0</td>\n",
       "      <td>...</td>\n",
       "      <td>5.460000</td>\n",
       "      <td>5.460000</td>\n",
       "      <td>0.000000</td>\n",
       "      <td>0.000000</td>\n",
       "      <td>13.360000</td>\n",
       "      <td>0.000000</td>\n",
       "      <td>10.320000</td>\n",
       "      <td>0.000000</td>\n",
       "      <td>0.000000</td>\n",
       "      <td>10.280000</td>\n",
       "    </tr>\n",
       "    <tr>\n",
       "      <th>...</th>\n",
       "      <td>...</td>\n",
       "      <td>...</td>\n",
       "      <td>...</td>\n",
       "      <td>...</td>\n",
       "      <td>...</td>\n",
       "      <td>...</td>\n",
       "      <td>...</td>\n",
       "      <td>...</td>\n",
       "      <td>...</td>\n",
       "      <td>...</td>\n",
       "      <td>...</td>\n",
       "      <td>...</td>\n",
       "      <td>...</td>\n",
       "      <td>...</td>\n",
       "      <td>...</td>\n",
       "      <td>...</td>\n",
       "      <td>...</td>\n",
       "      <td>...</td>\n",
       "      <td>...</td>\n",
       "      <td>...</td>\n",
       "      <td>...</td>\n",
       "    </tr>\n",
       "    <tr>\n",
       "      <th>643685</th>\n",
       "      <td>1827860</td>\n",
       "      <td>2013</td>\n",
       "      <td>1</td>\n",
       "      <td>0</td>\n",
       "      <td>0</td>\n",
       "      <td>0</td>\n",
       "      <td>1</td>\n",
       "      <td>0</td>\n",
       "      <td>0</td>\n",
       "      <td>1</td>\n",
       "      <td>...</td>\n",
       "      <td>0.000000</td>\n",
       "      <td>0.000000</td>\n",
       "      <td>0.000000</td>\n",
       "      <td>0.000000</td>\n",
       "      <td>0.612903</td>\n",
       "      <td>0.000000</td>\n",
       "      <td>0.000000</td>\n",
       "      <td>0.000000</td>\n",
       "      <td>0.000000</td>\n",
       "      <td>0.000000</td>\n",
       "    </tr>\n",
       "    <tr>\n",
       "      <th>643686</th>\n",
       "      <td>1827860</td>\n",
       "      <td>2015</td>\n",
       "      <td>2</td>\n",
       "      <td>1</td>\n",
       "      <td>0</td>\n",
       "      <td>0</td>\n",
       "      <td>1</td>\n",
       "      <td>0</td>\n",
       "      <td>1</td>\n",
       "      <td>0</td>\n",
       "      <td>...</td>\n",
       "      <td>0.000000</td>\n",
       "      <td>0.000000</td>\n",
       "      <td>0.212121</td>\n",
       "      <td>0.212121</td>\n",
       "      <td>17.363636</td>\n",
       "      <td>0.000000</td>\n",
       "      <td>8.909091</td>\n",
       "      <td>0.000000</td>\n",
       "      <td>0.000000</td>\n",
       "      <td>7.121212</td>\n",
       "    </tr>\n",
       "    <tr>\n",
       "      <th>643687</th>\n",
       "      <td>1827860</td>\n",
       "      <td>2016</td>\n",
       "      <td>3</td>\n",
       "      <td>1</td>\n",
       "      <td>0</td>\n",
       "      <td>0</td>\n",
       "      <td>1</td>\n",
       "      <td>1</td>\n",
       "      <td>0</td>\n",
       "      <td>1</td>\n",
       "      <td>...</td>\n",
       "      <td>0.000000</td>\n",
       "      <td>0.000000</td>\n",
       "      <td>0.294118</td>\n",
       "      <td>0.205882</td>\n",
       "      <td>34.705882</td>\n",
       "      <td>0.000000</td>\n",
       "      <td>10.352941</td>\n",
       "      <td>1.705882</td>\n",
       "      <td>1.705882</td>\n",
       "      <td>23.911765</td>\n",
       "    </tr>\n",
       "    <tr>\n",
       "      <th>643688</th>\n",
       "      <td>1827869</td>\n",
       "      <td>2013</td>\n",
       "      <td>1</td>\n",
       "      <td>1</td>\n",
       "      <td>1</td>\n",
       "      <td>0</td>\n",
       "      <td>0</td>\n",
       "      <td>0</td>\n",
       "      <td>1</td>\n",
       "      <td>0</td>\n",
       "      <td>...</td>\n",
       "      <td>0.000000</td>\n",
       "      <td>0.000000</td>\n",
       "      <td>0.000000</td>\n",
       "      <td>0.000000</td>\n",
       "      <td>0.000000</td>\n",
       "      <td>0.525424</td>\n",
       "      <td>0.000000</td>\n",
       "      <td>0.000000</td>\n",
       "      <td>0.000000</td>\n",
       "      <td>0.000000</td>\n",
       "    </tr>\n",
       "    <tr>\n",
       "      <th>643689</th>\n",
       "      <td>1827869</td>\n",
       "      <td>2014</td>\n",
       "      <td>2</td>\n",
       "      <td>0</td>\n",
       "      <td>0</td>\n",
       "      <td>1</td>\n",
       "      <td>0</td>\n",
       "      <td>0</td>\n",
       "      <td>1</td>\n",
       "      <td>0</td>\n",
       "      <td>...</td>\n",
       "      <td>0.000000</td>\n",
       "      <td>0.666667</td>\n",
       "      <td>0.666667</td>\n",
       "      <td>0.000000</td>\n",
       "      <td>0.000000</td>\n",
       "      <td>8.950000</td>\n",
       "      <td>1.033333</td>\n",
       "      <td>0.083333</td>\n",
       "      <td>0.083333</td>\n",
       "      <td>8.133333</td>\n",
       "    </tr>\n",
       "  </tbody>\n",
       "</table>\n",
       "<p>643690 rows × 164 columns</p>\n",
       "</div>"
      ],
      "text/plain": [
       "         persnr  year  nrEntry  ltue  employed_before  receipt_leh_before  \\\n",
       "0             7  2015        1     0                1                   0   \n",
       "1            18  2010        1     1                0                   0   \n",
       "2            18  2011        2     0                1                   0   \n",
       "3            18  2012        3     0                1                   0   \n",
       "4            18  2012        4     0                1                   0   \n",
       "...         ...   ...      ...   ...              ...                 ...   \n",
       "643685  1827860  2013        1     0                0                   0   \n",
       "643686  1827860  2015        2     1                0                   0   \n",
       "643687  1827860  2016        3     1                0                   0   \n",
       "643688  1827869  2013        1     1                1                   0   \n",
       "643689  1827869  2014        2     0                0                   1   \n",
       "\n",
       "        receipt_lhg_before  se_before  ASU_notue_seeking_before  \\\n",
       "0                        0          0                         1   \n",
       "1                        0          0                         0   \n",
       "2                        1          0                         1   \n",
       "3                        1          0                         1   \n",
       "4                        1          0                         1   \n",
       "...                    ...        ...                       ...   \n",
       "643685                   1          0                         0   \n",
       "643686                   1          0                         1   \n",
       "643687                   1          1                         0   \n",
       "643688                   0          0                         1   \n",
       "643689                   0          0                         1   \n",
       "\n",
       "        ASU_other_before  ...  minijob_tot_dur_byage  ft_tot_dur_byage  \\\n",
       "0                      0  ...               0.000000          0.000000   \n",
       "1                      0  ...               0.000000          0.000000   \n",
       "2                      0  ...               2.714286          2.714286   \n",
       "3                      0  ...               4.200000          4.200000   \n",
       "4                      0  ...               5.460000          5.460000   \n",
       "...                  ...  ...                    ...               ...   \n",
       "643685                 1  ...               0.000000          0.000000   \n",
       "643686                 0  ...               0.000000          0.000000   \n",
       "643687                 1  ...               0.000000          0.000000   \n",
       "643688                 0  ...               0.000000          0.000000   \n",
       "643689                 0  ...               0.000000          0.666667   \n",
       "\n",
       "        befrist_tot_dur_byage  leih_tot_dur_byage  LHG_tot_dur_byage  \\\n",
       "0                   15.043478            0.000000           0.000000   \n",
       "1                    0.000000            0.000000           0.000000   \n",
       "2                    0.000000            0.000000          10.775510   \n",
       "3                    0.000000            0.000000          12.100000   \n",
       "4                    0.000000            0.000000          13.360000   \n",
       "...                       ...                 ...                ...   \n",
       "643685               0.000000            0.000000           0.612903   \n",
       "643686               0.212121            0.212121          17.363636   \n",
       "643687               0.294118            0.205882          34.705882   \n",
       "643688               0.000000            0.000000           0.000000   \n",
       "643689               0.666667            0.000000           0.000000   \n",
       "\n",
       "        LEH_tot_dur_byage  almp_tot_dur_byage  almp_aw_tot_dur_byage  \\\n",
       "0                0.000000            0.000000               0.000000   \n",
       "1                0.000000            0.000000               0.000000   \n",
       "2                0.000000            8.367347               0.000000   \n",
       "3                0.000000            9.400000               0.000000   \n",
       "4                0.000000           10.320000               0.000000   \n",
       "...                   ...                 ...                    ...   \n",
       "643685           0.000000            0.000000               0.000000   \n",
       "643686           0.000000            8.909091               0.000000   \n",
       "643687           0.000000           10.352941               1.705882   \n",
       "643688           0.525424            0.000000               0.000000   \n",
       "643689           8.950000            1.033333               0.083333   \n",
       "\n",
       "        se_tot_dur_byage  seeking1_tot_dur_byage  \n",
       "0               0.000000                0.000000  \n",
       "1               0.000000                0.000000  \n",
       "2               0.000000                9.836735  \n",
       "3               0.000000                9.960000  \n",
       "4               0.000000               10.280000  \n",
       "...                  ...                     ...  \n",
       "643685          0.000000                0.000000  \n",
       "643686          0.000000                7.121212  \n",
       "643687          1.705882               23.911765  \n",
       "643688          0.000000                0.000000  \n",
       "643689          0.083333                8.133333  \n",
       "\n",
       "[643690 rows x 164 columns]"
      ]
     },
     "execution_count": 10,
     "metadata": {},
     "output_type": "execute_result"
    }
   ],
   "source": [
    "siab"
   ]
  },
  {
   "cell_type": "markdown",
   "id": "1f87e805",
   "metadata": {
    "papermill": {
     "duration": 0.009865,
     "end_time": "2025-08-19T18:29:14.845613",
     "exception": false,
     "start_time": "2025-08-19T18:29:14.835748",
     "status": "completed"
    },
    "tags": []
   },
   "source": [
    "# Splitting Data and Setting Training Data Size"
   ]
  },
  {
   "cell_type": "code",
   "execution_count": 11,
   "id": "910ae358",
   "metadata": {
    "execution": {
     "iopub.execute_input": "2025-08-19T18:29:14.866995Z",
     "iopub.status.busy": "2025-08-19T18:29:14.866677Z",
     "iopub.status.idle": "2025-08-19T18:29:15.142287Z",
     "shell.execute_reply": "2025-08-19T18:29:15.141489Z"
    },
    "papermill": {
     "duration": 0.288285,
     "end_time": "2025-08-19T18:29:15.143711",
     "exception": false,
     "start_time": "2025-08-19T18:29:14.855426",
     "status": "completed"
    },
    "tags": []
   },
   "outputs": [],
   "source": [
    "from fairness_multiverse.universe import sample_by_year_size\n",
    "\n",
    "siab_train = sample_by_year_size(siab,\n",
    "                               training_year=universe[\"training_year\"],\n",
    "                               training_size=universe[\"training_size\"])"
   ]
  },
  {
   "cell_type": "code",
   "execution_count": 12,
   "id": "919c8ff5",
   "metadata": {
    "execution": {
     "iopub.execute_input": "2025-08-19T18:29:15.168106Z",
     "iopub.status.busy": "2025-08-19T18:29:15.167745Z",
     "iopub.status.idle": "2025-08-19T18:29:15.173848Z",
     "shell.execute_reply": "2025-08-19T18:29:15.173141Z"
    },
    "papermill": {
     "duration": 0.021627,
     "end_time": "2025-08-19T18:29:15.175515",
     "exception": false,
     "start_time": "2025-08-19T18:29:15.153888",
     "status": "completed"
    },
    "tags": []
   },
   "outputs": [
    {
     "data": {
      "text/plain": [
       "(5000, 164)"
      ]
     },
     "execution_count": 12,
     "metadata": {},
     "output_type": "execute_result"
    }
   ],
   "source": [
    "siab_train.shape"
   ]
  },
  {
   "cell_type": "code",
   "execution_count": 13,
   "id": "feb13bf4",
   "metadata": {
    "execution": {
     "iopub.execute_input": "2025-08-19T18:29:15.196618Z",
     "iopub.status.busy": "2025-08-19T18:29:15.196275Z",
     "iopub.status.idle": "2025-08-19T18:29:15.204966Z",
     "shell.execute_reply": "2025-08-19T18:29:15.204211Z"
    },
    "papermill": {
     "duration": 0.021098,
     "end_time": "2025-08-19T18:29:15.206573",
     "exception": false,
     "start_time": "2025-08-19T18:29:15.185475",
     "status": "completed"
    },
    "tags": []
   },
   "outputs": [
    {
     "data": {
      "text/plain": [
       "year\n",
       "2014    5000\n",
       "dtype: int64"
      ]
     },
     "metadata": {},
     "output_type": "display_data"
    }
   ],
   "source": [
    "display(siab_train.groupby(\"year\").size())"
   ]
  },
  {
   "cell_type": "code",
   "execution_count": 14,
   "id": "0997782f",
   "metadata": {
    "execution": {
     "iopub.execute_input": "2025-08-19T18:29:15.228287Z",
     "iopub.status.busy": "2025-08-19T18:29:15.227875Z",
     "iopub.status.idle": "2025-08-19T18:29:15.500599Z",
     "shell.execute_reply": "2025-08-19T18:29:15.499508Z"
    },
    "papermill": {
     "duration": 0.285674,
     "end_time": "2025-08-19T18:29:15.502478",
     "exception": false,
     "start_time": "2025-08-19T18:29:15.216804",
     "status": "completed"
    },
    "tags": []
   },
   "outputs": [],
   "source": [
    "#siab_train = siab_s[siab_s.year < 2015]\n",
    "siab_calib = siab[siab.year == 2015]\n",
    "siab_test = siab[siab.year == 2016]"
   ]
  },
  {
   "cell_type": "code",
   "execution_count": 15,
   "id": "2c1e4012",
   "metadata": {
    "execution": {
     "iopub.execute_input": "2025-08-19T18:29:15.524332Z",
     "iopub.status.busy": "2025-08-19T18:29:15.524017Z",
     "iopub.status.idle": "2025-08-19T18:29:15.531028Z",
     "shell.execute_reply": "2025-08-19T18:29:15.529491Z"
    },
    "papermill": {
     "duration": 0.019567,
     "end_time": "2025-08-19T18:29:15.532413",
     "exception": false,
     "start_time": "2025-08-19T18:29:15.512846",
     "status": "completed"
    },
    "tags": []
   },
   "outputs": [],
   "source": [
    "#siab_calib.shape"
   ]
  },
  {
   "cell_type": "code",
   "execution_count": 16,
   "id": "f66b54ca",
   "metadata": {
    "execution": {
     "iopub.execute_input": "2025-08-19T18:29:15.553866Z",
     "iopub.status.busy": "2025-08-19T18:29:15.553561Z",
     "iopub.status.idle": "2025-08-19T18:29:15.560086Z",
     "shell.execute_reply": "2025-08-19T18:29:15.558663Z"
    },
    "papermill": {
     "duration": 0.023028,
     "end_time": "2025-08-19T18:29:15.565589",
     "exception": false,
     "start_time": "2025-08-19T18:29:15.542561",
     "status": "completed"
    },
    "tags": []
   },
   "outputs": [],
   "source": [
    "#siab_test.shape"
   ]
  },
  {
   "cell_type": "code",
   "execution_count": 17,
   "id": "27e4384d",
   "metadata": {
    "execution": {
     "iopub.execute_input": "2025-08-19T18:29:15.596848Z",
     "iopub.status.busy": "2025-08-19T18:29:15.595842Z",
     "iopub.status.idle": "2025-08-19T18:29:15.614932Z",
     "shell.execute_reply": "2025-08-19T18:29:15.613719Z"
    },
    "papermill": {
     "duration": 0.033317,
     "end_time": "2025-08-19T18:29:15.616962",
     "exception": false,
     "start_time": "2025-08-19T18:29:15.583645",
     "status": "completed"
    },
    "tags": []
   },
   "outputs": [],
   "source": [
    "X_train = siab_train.iloc[:,4:164]\n",
    "y_train = siab_train.iloc[:, [3]]"
   ]
  },
  {
   "cell_type": "code",
   "execution_count": 18,
   "id": "08ee8389",
   "metadata": {
    "execution": {
     "iopub.execute_input": "2025-08-19T18:29:15.646963Z",
     "iopub.status.busy": "2025-08-19T18:29:15.645972Z",
     "iopub.status.idle": "2025-08-19T18:29:15.706398Z",
     "shell.execute_reply": "2025-08-19T18:29:15.705648Z"
    },
    "papermill": {
     "duration": 0.074453,
     "end_time": "2025-08-19T18:29:15.707922",
     "exception": false,
     "start_time": "2025-08-19T18:29:15.633469",
     "status": "completed"
    },
    "tags": []
   },
   "outputs": [],
   "source": [
    "X_calib = siab_calib.iloc[:,4:164]\n",
    "y_calib = siab_calib.iloc[:, [3]]"
   ]
  },
  {
   "cell_type": "code",
   "execution_count": 19,
   "id": "b7ff42e0",
   "metadata": {
    "execution": {
     "iopub.execute_input": "2025-08-19T18:29:15.735344Z",
     "iopub.status.busy": "2025-08-19T18:29:15.734911Z",
     "iopub.status.idle": "2025-08-19T18:29:15.788202Z",
     "shell.execute_reply": "2025-08-19T18:29:15.787079Z"
    },
    "papermill": {
     "duration": 0.068859,
     "end_time": "2025-08-19T18:29:15.789709",
     "exception": false,
     "start_time": "2025-08-19T18:29:15.720850",
     "status": "completed"
    },
    "tags": []
   },
   "outputs": [],
   "source": [
    "X_test = siab_test.iloc[:,4:164]\n",
    "y_true = siab_test.iloc[:, [3]]"
   ]
  },
  {
   "cell_type": "code",
   "execution_count": 20,
   "id": "0275101e",
   "metadata": {
    "execution": {
     "iopub.execute_input": "2025-08-19T18:29:15.823498Z",
     "iopub.status.busy": "2025-08-19T18:29:15.822941Z",
     "iopub.status.idle": "2025-08-19T18:29:15.928790Z",
     "shell.execute_reply": "2025-08-19T18:29:15.927901Z"
    },
    "papermill": {
     "duration": 0.128286,
     "end_time": "2025-08-19T18:29:15.930311",
     "exception": false,
     "start_time": "2025-08-19T18:29:15.802025",
     "status": "completed"
    },
    "tags": []
   },
   "outputs": [],
   "source": [
    "# Auxiliary data needed downstream in the pipeline\n",
    "\n",
    "org_train = X_train.copy()\n",
    "org_test = X_test.copy()\n",
    "org_calib = X_calib.copy()"
   ]
  },
  {
   "cell_type": "markdown",
   "id": "b461e618",
   "metadata": {
    "papermill": {
     "duration": 0.010153,
     "end_time": "2025-08-19T18:29:15.950871",
     "exception": false,
     "start_time": "2025-08-19T18:29:15.940718",
     "status": "completed"
    },
    "tags": []
   },
   "source": [
    "# Preprocessing Data"
   ]
  },
  {
   "cell_type": "code",
   "execution_count": 21,
   "id": "78e74c4b",
   "metadata": {
    "execution": {
     "iopub.execute_input": "2025-08-19T18:29:15.972891Z",
     "iopub.status.busy": "2025-08-19T18:29:15.972441Z",
     "iopub.status.idle": "2025-08-19T18:29:15.979631Z",
     "shell.execute_reply": "2025-08-19T18:29:15.978607Z"
    },
    "papermill": {
     "duration": 0.020086,
     "end_time": "2025-08-19T18:29:15.981102",
     "exception": false,
     "start_time": "2025-08-19T18:29:15.961016",
     "status": "completed"
    },
    "tags": []
   },
   "outputs": [],
   "source": [
    "# EXCLUDE PROTECTED FEATURES\n",
    "# --------------------------\n",
    "\n",
    "excluded_features = universe[\"exclude_features\"].split(\"-\")\n",
    "excluded_features_dictionary = {\n",
    "    \"nationality\": [\"maxdeutsch1\", \"maxdeutsch.Missing.\"],\n",
    "    \"sex\": [\"frau1\"],\n",
    "    \"age\": [\"age\"],\n",
    "}"
   ]
  },
  {
   "cell_type": "code",
   "execution_count": 22,
   "id": "f8e63555",
   "metadata": {
    "execution": {
     "iopub.execute_input": "2025-08-19T18:29:16.003419Z",
     "iopub.status.busy": "2025-08-19T18:29:16.002959Z",
     "iopub.status.idle": "2025-08-19T18:29:16.008360Z",
     "shell.execute_reply": "2025-08-19T18:29:16.007543Z"
    },
    "papermill": {
     "duration": 0.018059,
     "end_time": "2025-08-19T18:29:16.009563",
     "exception": false,
     "start_time": "2025-08-19T18:29:15.991504",
     "status": "completed"
    },
    "tags": []
   },
   "outputs": [],
   "source": [
    "excluded_features_columns = [\n",
    "    excluded_features_dictionary[f] for f in excluded_features if len(f) > 0 and f != \"none\"\n",
    "]"
   ]
  },
  {
   "cell_type": "code",
   "execution_count": 23,
   "id": "da781f7c",
   "metadata": {
    "execution": {
     "iopub.execute_input": "2025-08-19T18:29:16.031628Z",
     "iopub.status.busy": "2025-08-19T18:29:16.031311Z",
     "iopub.status.idle": "2025-08-19T18:29:16.036064Z",
     "shell.execute_reply": "2025-08-19T18:29:16.035185Z"
    },
    "papermill": {
     "duration": 0.017396,
     "end_time": "2025-08-19T18:29:16.037352",
     "exception": false,
     "start_time": "2025-08-19T18:29:16.019956",
     "status": "completed"
    },
    "tags": []
   },
   "outputs": [],
   "source": [
    "from fairness_multiverse.universe import flatten_once\n",
    "\n",
    "excluded_features_columns = flatten_once(excluded_features_columns)"
   ]
  },
  {
   "cell_type": "code",
   "execution_count": 24,
   "id": "37fef0f0",
   "metadata": {
    "execution": {
     "iopub.execute_input": "2025-08-19T18:29:16.058962Z",
     "iopub.status.busy": "2025-08-19T18:29:16.058580Z",
     "iopub.status.idle": "2025-08-19T18:29:16.066151Z",
     "shell.execute_reply": "2025-08-19T18:29:16.065339Z"
    },
    "papermill": {
     "duration": 0.019996,
     "end_time": "2025-08-19T18:29:16.067667",
     "exception": false,
     "start_time": "2025-08-19T18:29:16.047671",
     "status": "completed"
    },
    "tags": []
   },
   "outputs": [
    {
     "name": "stdout",
     "output_type": "stream",
     "text": [
      "Dropping features: ['age']\n"
     ]
    }
   ],
   "source": [
    "if len(excluded_features_columns) > 0:\n",
    "    print(f\"Dropping features: {excluded_features_columns}\")\n",
    "    X_train.drop(excluded_features_columns, axis=1, inplace=True)"
   ]
  },
  {
   "cell_type": "code",
   "execution_count": 25,
   "id": "d029e3e9",
   "metadata": {
    "execution": {
     "iopub.execute_input": "2025-08-19T18:29:16.090442Z",
     "iopub.status.busy": "2025-08-19T18:29:16.090099Z",
     "iopub.status.idle": "2025-08-19T18:29:16.145767Z",
     "shell.execute_reply": "2025-08-19T18:29:16.145035Z"
    },
    "papermill": {
     "duration": 0.067584,
     "end_time": "2025-08-19T18:29:16.146950",
     "exception": false,
     "start_time": "2025-08-19T18:29:16.079366",
     "status": "completed"
    },
    "tags": []
   },
   "outputs": [
    {
     "name": "stdout",
     "output_type": "stream",
     "text": [
      "Dropping features: ['age']\n"
     ]
    }
   ],
   "source": [
    "if len(excluded_features_columns) > 0:\n",
    "    print(f\"Dropping features: {excluded_features_columns}\")\n",
    "    X_test.drop(excluded_features_columns, axis=1, inplace=True)"
   ]
  },
  {
   "cell_type": "code",
   "execution_count": 26,
   "id": "01d571f0",
   "metadata": {
    "execution": {
     "iopub.execute_input": "2025-08-19T18:29:16.171377Z",
     "iopub.status.busy": "2025-08-19T18:29:16.169903Z",
     "iopub.status.idle": "2025-08-19T18:29:16.276480Z",
     "shell.execute_reply": "2025-08-19T18:29:16.275785Z"
    },
    "papermill": {
     "duration": 0.121078,
     "end_time": "2025-08-19T18:29:16.278740",
     "exception": false,
     "start_time": "2025-08-19T18:29:16.157662",
     "status": "completed"
    },
    "tags": []
   },
   "outputs": [
    {
     "name": "stdout",
     "output_type": "stream",
     "text": [
      "Dropping features: ['age']\n"
     ]
    }
   ],
   "source": [
    "if len(excluded_features_columns) > 0:\n",
    "    print(f\"Dropping features: {excluded_features_columns}\")\n",
    "    X_calib.drop(excluded_features_columns, axis=1, inplace=True)"
   ]
  },
  {
   "cell_type": "code",
   "execution_count": 27,
   "id": "3037356e",
   "metadata": {
    "execution": {
     "iopub.execute_input": "2025-08-19T18:29:16.324355Z",
     "iopub.status.busy": "2025-08-19T18:29:16.316327Z",
     "iopub.status.idle": "2025-08-19T18:29:16.331880Z",
     "shell.execute_reply": "2025-08-19T18:29:16.330324Z"
    },
    "papermill": {
     "duration": 0.030806,
     "end_time": "2025-08-19T18:29:16.333412",
     "exception": false,
     "start_time": "2025-08-19T18:29:16.302606",
     "status": "completed"
    },
    "tags": []
   },
   "outputs": [],
   "source": [
    "# EXCLUDE CERTAIN SUBGROUPS\n",
    "# -------------------------\n",
    "\n",
    "mode = universe.get(\"exclude_subgroups\", \"keep-all\") # Defaults to \"keep-all\" if the key is missing."
   ]
  },
  {
   "cell_type": "code",
   "execution_count": 28,
   "id": "9d1e63fd",
   "metadata": {
    "execution": {
     "iopub.execute_input": "2025-08-19T18:29:16.359330Z",
     "iopub.status.busy": "2025-08-19T18:29:16.356617Z",
     "iopub.status.idle": "2025-08-19T18:29:16.386604Z",
     "shell.execute_reply": "2025-08-19T18:29:16.385554Z"
    },
    "papermill": {
     "duration": 0.045179,
     "end_time": "2025-08-19T18:29:16.389692",
     "exception": false,
     "start_time": "2025-08-19T18:29:16.344513",
     "status": "completed"
    },
    "tags": []
   },
   "outputs": [],
   "source": [
    "if mode == \"keep-all\":\n",
    "    keep_mask = pd.Series(True, index=org_train.index)\n",
    "\n",
    "elif mode == \"drop-non-german\":\n",
    "    keep_mask = (org_train[\"maxdeutsch1\"] == 1) & (org_train[\"maxdeutsch.Missing.\"] == 0)\n",
    "\n",
    "else:\n",
    "    raise ValueError(f\"Unsupported mode for exclude_subgroups: {mode}\")"
   ]
  },
  {
   "cell_type": "code",
   "execution_count": 29,
   "id": "d3b65474",
   "metadata": {
    "execution": {
     "iopub.execute_input": "2025-08-19T18:29:16.424378Z",
     "iopub.status.busy": "2025-08-19T18:29:16.423663Z",
     "iopub.status.idle": "2025-08-19T18:29:16.431724Z",
     "shell.execute_reply": "2025-08-19T18:29:16.430816Z"
    },
    "papermill": {
     "duration": 0.02257,
     "end_time": "2025-08-19T18:29:16.433067",
     "exception": false,
     "start_time": "2025-08-19T18:29:16.410497",
     "status": "completed"
    },
    "tags": []
   },
   "outputs": [
    {
     "name": "stdout",
     "output_type": "stream",
     "text": [
      "Dropping 741 rows (14.82%) where mode='drop-non-german'\n"
     ]
    }
   ],
   "source": [
    "n_drop = (~keep_mask).sum() # Calculates how many rows are set to be dropped\n",
    "if n_drop > 0:\n",
    "    pct = n_drop / len(keep_mask) * 100\n",
    "    print(f\"Dropping {n_drop} rows ({pct:.2f}%) where mode='{mode}'\")"
   ]
  },
  {
   "cell_type": "code",
   "execution_count": 30,
   "id": "f44389b3",
   "metadata": {
    "execution": {
     "iopub.execute_input": "2025-08-19T18:29:16.456103Z",
     "iopub.status.busy": "2025-08-19T18:29:16.455456Z",
     "iopub.status.idle": "2025-08-19T18:29:16.464849Z",
     "shell.execute_reply": "2025-08-19T18:29:16.463850Z"
    },
    "papermill": {
     "duration": 0.022502,
     "end_time": "2025-08-19T18:29:16.466267",
     "exception": false,
     "start_time": "2025-08-19T18:29:16.443765",
     "status": "completed"
    },
    "tags": []
   },
   "outputs": [],
   "source": [
    "X_train = X_train[keep_mask]"
   ]
  },
  {
   "cell_type": "code",
   "execution_count": 31,
   "id": "ceca8c2a",
   "metadata": {
    "execution": {
     "iopub.execute_input": "2025-08-19T18:29:16.491418Z",
     "iopub.status.busy": "2025-08-19T18:29:16.490879Z",
     "iopub.status.idle": "2025-08-19T18:29:16.496826Z",
     "shell.execute_reply": "2025-08-19T18:29:16.495949Z"
    },
    "papermill": {
     "duration": 0.018866,
     "end_time": "2025-08-19T18:29:16.498125",
     "exception": false,
     "start_time": "2025-08-19T18:29:16.479259",
     "status": "completed"
    },
    "tags": []
   },
   "outputs": [],
   "source": [
    "y_train = y_train[keep_mask]"
   ]
  },
  {
   "cell_type": "markdown",
   "id": "04d31e2f",
   "metadata": {
    "papermill": {
     "duration": 0.010464,
     "end_time": "2025-08-19T18:29:16.519208",
     "exception": false,
     "start_time": "2025-08-19T18:29:16.508744",
     "status": "completed"
    },
    "tags": []
   },
   "source": [
    "# Model Training"
   ]
  },
  {
   "cell_type": "code",
   "execution_count": 32,
   "id": "db991733",
   "metadata": {
    "execution": {
     "iopub.execute_input": "2025-08-19T18:29:16.543262Z",
     "iopub.status.busy": "2025-08-19T18:29:16.542536Z",
     "iopub.status.idle": "2025-08-19T18:29:16.682059Z",
     "shell.execute_reply": "2025-08-19T18:29:16.681296Z"
    },
    "papermill": {
     "duration": 0.153805,
     "end_time": "2025-08-19T18:29:16.683776",
     "exception": false,
     "start_time": "2025-08-19T18:29:16.529971",
     "status": "completed"
    },
    "tags": []
   },
   "outputs": [],
   "source": [
    "from sklearn.linear_model import LogisticRegression\n",
    "from sklearn.ensemble import GradientBoostingClassifier, RandomForestClassifier\n",
    "\n",
    "if (universe[\"model\"] == \"logreg\"):\n",
    "    model = LogisticRegression() #penalty=\"none\", solver=\"newton-cg\", max_iter=1)\n",
    "elif (universe[\"model\"] == \"penalized_logreg\"):\n",
    "    model = LogisticRegression(penalty=\"l2\", C=0.1) #, solver=\"newton-cg\", max_iter=1)\n",
    "elif (universe[\"model\"] == \"rf\"):\n",
    "    model = RandomForestClassifier() # n_estimators=100, n_jobs=-1\n",
    "elif (universe[\"model\"] == \"gbm\"):\n",
    "    model = GradientBoostingClassifier()\n",
    "elif (universe[\"model\"] == \"elasticnet\"):\n",
    "    model = LogisticRegression(penalty = 'elasticnet', solver = 'saga', l1_ratio = 0.5) # max_iter=5000\n",
    "else:\n",
    "    raise \"Unsupported universe.model\""
   ]
  },
  {
   "cell_type": "code",
   "execution_count": 33,
   "id": "a4b5cd25",
   "metadata": {
    "execution": {
     "iopub.execute_input": "2025-08-19T18:29:16.721828Z",
     "iopub.status.busy": "2025-08-19T18:29:16.721087Z",
     "iopub.status.idle": "2025-08-19T18:29:16.735310Z",
     "shell.execute_reply": "2025-08-19T18:29:16.734122Z"
    },
    "papermill": {
     "duration": 0.038831,
     "end_time": "2025-08-19T18:29:16.737743",
     "exception": false,
     "start_time": "2025-08-19T18:29:16.698912",
     "status": "completed"
    },
    "tags": []
   },
   "outputs": [],
   "source": [
    "from sklearn.pipeline import Pipeline\n",
    "from sklearn.preprocessing import StandardScaler\n",
    "\n",
    "model = Pipeline([\n",
    "    #(\"continuous_processor\", continuous_processor),\n",
    "    #(\"categorical_preprocessor\", categorical_preprocessor),\n",
    "    (\"scale\", StandardScaler() if universe[\"scale\"] == \"scale\" else None), \n",
    "    (\"model\", model),\n",
    "])"
   ]
  },
  {
   "cell_type": "code",
   "execution_count": 34,
   "id": "283a904d",
   "metadata": {
    "execution": {
     "iopub.execute_input": "2025-08-19T18:29:16.773775Z",
     "iopub.status.busy": "2025-08-19T18:29:16.773159Z",
     "iopub.status.idle": "2025-08-19T18:29:17.899704Z",
     "shell.execute_reply": "2025-08-19T18:29:17.898739Z"
    },
    "papermill": {
     "duration": 1.142016,
     "end_time": "2025-08-19T18:29:17.901174",
     "exception": false,
     "start_time": "2025-08-19T18:29:16.759158",
     "status": "completed"
    },
    "tags": []
   },
   "outputs": [
    {
     "data": {
      "text/html": [
       "<style>#sk-container-id-1 {color: black;background-color: white;}#sk-container-id-1 pre{padding: 0;}#sk-container-id-1 div.sk-toggleable {background-color: white;}#sk-container-id-1 label.sk-toggleable__label {cursor: pointer;display: block;width: 100%;margin-bottom: 0;padding: 0.3em;box-sizing: border-box;text-align: center;}#sk-container-id-1 label.sk-toggleable__label-arrow:before {content: \"▸\";float: left;margin-right: 0.25em;color: #696969;}#sk-container-id-1 label.sk-toggleable__label-arrow:hover:before {color: black;}#sk-container-id-1 div.sk-estimator:hover label.sk-toggleable__label-arrow:before {color: black;}#sk-container-id-1 div.sk-toggleable__content {max-height: 0;max-width: 0;overflow: hidden;text-align: left;background-color: #f0f8ff;}#sk-container-id-1 div.sk-toggleable__content pre {margin: 0.2em;color: black;border-radius: 0.25em;background-color: #f0f8ff;}#sk-container-id-1 input.sk-toggleable__control:checked~div.sk-toggleable__content {max-height: 200px;max-width: 100%;overflow: auto;}#sk-container-id-1 input.sk-toggleable__control:checked~label.sk-toggleable__label-arrow:before {content: \"▾\";}#sk-container-id-1 div.sk-estimator input.sk-toggleable__control:checked~label.sk-toggleable__label {background-color: #d4ebff;}#sk-container-id-1 div.sk-label input.sk-toggleable__control:checked~label.sk-toggleable__label {background-color: #d4ebff;}#sk-container-id-1 input.sk-hidden--visually {border: 0;clip: rect(1px 1px 1px 1px);clip: rect(1px, 1px, 1px, 1px);height: 1px;margin: -1px;overflow: hidden;padding: 0;position: absolute;width: 1px;}#sk-container-id-1 div.sk-estimator {font-family: monospace;background-color: #f0f8ff;border: 1px dotted black;border-radius: 0.25em;box-sizing: border-box;margin-bottom: 0.5em;}#sk-container-id-1 div.sk-estimator:hover {background-color: #d4ebff;}#sk-container-id-1 div.sk-parallel-item::after {content: \"\";width: 100%;border-bottom: 1px solid gray;flex-grow: 1;}#sk-container-id-1 div.sk-label:hover label.sk-toggleable__label {background-color: #d4ebff;}#sk-container-id-1 div.sk-serial::before {content: \"\";position: absolute;border-left: 1px solid gray;box-sizing: border-box;top: 0;bottom: 0;left: 50%;z-index: 0;}#sk-container-id-1 div.sk-serial {display: flex;flex-direction: column;align-items: center;background-color: white;padding-right: 0.2em;padding-left: 0.2em;position: relative;}#sk-container-id-1 div.sk-item {position: relative;z-index: 1;}#sk-container-id-1 div.sk-parallel {display: flex;align-items: stretch;justify-content: center;background-color: white;position: relative;}#sk-container-id-1 div.sk-item::before, #sk-container-id-1 div.sk-parallel-item::before {content: \"\";position: absolute;border-left: 1px solid gray;box-sizing: border-box;top: 0;bottom: 0;left: 50%;z-index: -1;}#sk-container-id-1 div.sk-parallel-item {display: flex;flex-direction: column;z-index: 1;position: relative;background-color: white;}#sk-container-id-1 div.sk-parallel-item:first-child::after {align-self: flex-end;width: 50%;}#sk-container-id-1 div.sk-parallel-item:last-child::after {align-self: flex-start;width: 50%;}#sk-container-id-1 div.sk-parallel-item:only-child::after {width: 0;}#sk-container-id-1 div.sk-dashed-wrapped {border: 1px dashed gray;margin: 0 0.4em 0.5em 0.4em;box-sizing: border-box;padding-bottom: 0.4em;background-color: white;}#sk-container-id-1 div.sk-label label {font-family: monospace;font-weight: bold;display: inline-block;line-height: 1.2em;}#sk-container-id-1 div.sk-label-container {text-align: center;}#sk-container-id-1 div.sk-container {/* jupyter's `normalize.less` sets `[hidden] { display: none; }` but bootstrap.min.css set `[hidden] { display: none !important; }` so we also need the `!important` here to be able to override the default hidden behavior on the sphinx rendered scikit-learn.org. See: https://github.com/scikit-learn/scikit-learn/issues/21755 */display: inline-block !important;position: relative;}#sk-container-id-1 div.sk-text-repr-fallback {display: none;}</style><div id=\"sk-container-id-1\" class=\"sk-top-container\"><div class=\"sk-text-repr-fallback\"><pre>Pipeline(steps=[(&#x27;scale&#x27;, None), (&#x27;model&#x27;, RandomForestClassifier())])</pre><b>In a Jupyter environment, please rerun this cell to show the HTML representation or trust the notebook. <br />On GitHub, the HTML representation is unable to render, please try loading this page with nbviewer.org.</b></div><div class=\"sk-container\" hidden><div class=\"sk-item sk-dashed-wrapped\"><div class=\"sk-label-container\"><div class=\"sk-label sk-toggleable\"><input class=\"sk-toggleable__control sk-hidden--visually\" id=\"sk-estimator-id-1\" type=\"checkbox\" ><label for=\"sk-estimator-id-1\" class=\"sk-toggleable__label sk-toggleable__label-arrow\">Pipeline</label><div class=\"sk-toggleable__content\"><pre>Pipeline(steps=[(&#x27;scale&#x27;, None), (&#x27;model&#x27;, RandomForestClassifier())])</pre></div></div></div><div class=\"sk-serial\"><div class=\"sk-item\"><div class=\"sk-estimator sk-toggleable\"><input class=\"sk-toggleable__control sk-hidden--visually\" id=\"sk-estimator-id-2\" type=\"checkbox\" ><label for=\"sk-estimator-id-2\" class=\"sk-toggleable__label sk-toggleable__label-arrow\">None</label><div class=\"sk-toggleable__content\"><pre>None</pre></div></div></div><div class=\"sk-item\"><div class=\"sk-estimator sk-toggleable\"><input class=\"sk-toggleable__control sk-hidden--visually\" id=\"sk-estimator-id-3\" type=\"checkbox\" ><label for=\"sk-estimator-id-3\" class=\"sk-toggleable__label sk-toggleable__label-arrow\">RandomForestClassifier</label><div class=\"sk-toggleable__content\"><pre>RandomForestClassifier()</pre></div></div></div></div></div></div></div>"
      ],
      "text/plain": [
       "Pipeline(steps=[('scale', None), ('model', RandomForestClassifier())])"
      ]
     },
     "execution_count": 34,
     "metadata": {},
     "output_type": "execute_result"
    }
   ],
   "source": [
    "model.fit(X_train, y_train.values.ravel())"
   ]
  },
  {
   "cell_type": "code",
   "execution_count": 35,
   "id": "6e15e313",
   "metadata": {
    "execution": {
     "iopub.execute_input": "2025-08-19T18:29:17.929936Z",
     "iopub.status.busy": "2025-08-19T18:29:17.929457Z",
     "iopub.status.idle": "2025-08-19T18:29:19.849544Z",
     "shell.execute_reply": "2025-08-19T18:29:19.847969Z"
    },
    "papermill": {
     "duration": 1.938139,
     "end_time": "2025-08-19T18:29:19.851012",
     "exception": false,
     "start_time": "2025-08-19T18:29:17.912873",
     "status": "completed"
    },
    "tags": []
   },
   "outputs": [
    {
     "data": {
      "text/plain": [
       "0.8635715081930665"
      ]
     },
     "execution_count": 35,
     "metadata": {},
     "output_type": "execute_result"
    }
   ],
   "source": [
    "from fairness_multiverse.universe import predict_w_threshold\n",
    "\n",
    "probs_test = model.predict_proba(X_test)\n",
    "\n",
    "'''\n",
    "Below code returns a boolean array (or binary 0/1 array depending on how it’s used) where each element \n",
    "is True if the probability of class 1 is greater than or equal to the threshold, and False otherwise.\n",
    "'''\n",
    "y_pred_default = predict_w_threshold(probs_test, 0.5)\n",
    "\n",
    "from sklearn.metrics import accuracy_score\n",
    "\n",
    "# Naive prediction\n",
    "accuracy_score(y_true = y_true, y_pred = y_pred_default)"
   ]
  },
  {
   "cell_type": "code",
   "execution_count": 36,
   "id": "6f14067c",
   "metadata": {
    "execution": {
     "iopub.execute_input": "2025-08-19T18:29:19.879821Z",
     "iopub.status.busy": "2025-08-19T18:29:19.878616Z",
     "iopub.status.idle": "2025-08-19T18:29:21.690307Z",
     "shell.execute_reply": "2025-08-19T18:29:21.689231Z"
    },
    "papermill": {
     "duration": 1.825725,
     "end_time": "2025-08-19T18:29:21.691521",
     "exception": false,
     "start_time": "2025-08-19T18:29:19.865796",
     "status": "completed"
    },
    "tags": []
   },
   "outputs": [
    {
     "data": {
      "text/plain": [
       "array([0, 0, 0, ..., 0, 0, 0])"
      ]
     },
     "execution_count": 36,
     "metadata": {},
     "output_type": "execute_result"
    }
   ],
   "source": [
    "model.predict(X_test)"
   ]
  },
  {
   "cell_type": "markdown",
   "id": "3759920c",
   "metadata": {
    "papermill": {
     "duration": 0.010989,
     "end_time": "2025-08-19T18:29:21.716404",
     "exception": false,
     "start_time": "2025-08-19T18:29:21.705415",
     "status": "completed"
    },
    "tags": []
   },
   "source": [
    "# Conformal Prediction"
   ]
  },
  {
   "cell_type": "code",
   "execution_count": 37,
   "id": "14b27f59",
   "metadata": {
    "execution": {
     "iopub.execute_input": "2025-08-19T18:29:21.742100Z",
     "iopub.status.busy": "2025-08-19T18:29:21.740799Z",
     "iopub.status.idle": "2025-08-19T18:29:21.750187Z",
     "shell.execute_reply": "2025-08-19T18:29:21.748830Z"
    },
    "papermill": {
     "duration": 0.024502,
     "end_time": "2025-08-19T18:29:21.751746",
     "exception": false,
     "start_time": "2025-08-19T18:29:21.727244",
     "status": "completed"
    },
    "tags": []
   },
   "outputs": [],
   "source": [
    "# Miscoverage level for conformal prediction (10% allowed error rate => 90% target coverage)\n",
    "alpha = 0.1"
   ]
  },
  {
   "cell_type": "code",
   "execution_count": 38,
   "id": "59102472",
   "metadata": {
    "execution": {
     "iopub.execute_input": "2025-08-19T18:29:21.776037Z",
     "iopub.status.busy": "2025-08-19T18:29:21.775202Z",
     "iopub.status.idle": "2025-08-19T18:29:23.568501Z",
     "shell.execute_reply": "2025-08-19T18:29:23.567204Z"
    },
    "papermill": {
     "duration": 1.807334,
     "end_time": "2025-08-19T18:29:23.570255",
     "exception": false,
     "start_time": "2025-08-19T18:29:21.762921",
     "status": "completed"
    },
    "tags": []
   },
   "outputs": [],
   "source": [
    "probs_calib = model.predict_proba(X_calib)"
   ]
  },
  {
   "cell_type": "code",
   "execution_count": 39,
   "id": "a792d4dd",
   "metadata": {
    "execution": {
     "iopub.execute_input": "2025-08-19T18:29:23.605292Z",
     "iopub.status.busy": "2025-08-19T18:29:23.604708Z",
     "iopub.status.idle": "2025-08-19T18:29:23.611168Z",
     "shell.execute_reply": "2025-08-19T18:29:23.610356Z"
    },
    "papermill": {
     "duration": 0.027398,
     "end_time": "2025-08-19T18:29:23.612607",
     "exception": false,
     "start_time": "2025-08-19T18:29:23.585209",
     "status": "completed"
    },
    "tags": []
   },
   "outputs": [],
   "source": [
    "y_calib = y_calib.values.ravel().astype(int)"
   ]
  },
  {
   "cell_type": "code",
   "execution_count": 40,
   "id": "650fd033",
   "metadata": {
    "execution": {
     "iopub.execute_input": "2025-08-19T18:29:23.637685Z",
     "iopub.status.busy": "2025-08-19T18:29:23.637249Z",
     "iopub.status.idle": "2025-08-19T18:29:23.644194Z",
     "shell.execute_reply": "2025-08-19T18:29:23.643499Z"
    },
    "papermill": {
     "duration": 0.020901,
     "end_time": "2025-08-19T18:29:23.645656",
     "exception": false,
     "start_time": "2025-08-19T18:29:23.624755",
     "status": "completed"
    },
    "tags": []
   },
   "outputs": [],
   "source": [
    "from fairness_multiverse.conformal import compute_nc_scores\n",
    "\n",
    "# Compute nonconformity scores on calibration set (1 - probability of true class)\n",
    "nc_scores = compute_nc_scores(probs_calib, y_calib)"
   ]
  },
  {
   "cell_type": "code",
   "execution_count": 41,
   "id": "28ada44c",
   "metadata": {
    "execution": {
     "iopub.execute_input": "2025-08-19T18:29:23.673517Z",
     "iopub.status.busy": "2025-08-19T18:29:23.673082Z",
     "iopub.status.idle": "2025-08-19T18:29:23.679172Z",
     "shell.execute_reply": "2025-08-19T18:29:23.678346Z"
    },
    "papermill": {
     "duration": 0.020643,
     "end_time": "2025-08-19T18:29:23.680825",
     "exception": false,
     "start_time": "2025-08-19T18:29:23.660182",
     "status": "completed"
    },
    "tags": []
   },
   "outputs": [],
   "source": [
    "from fairness_multiverse.conformal import find_threshold\n",
    "\n",
    "# Find conformal threshold q_hat for the given alpha (split conformal method)\n",
    "q_hat = find_threshold(nc_scores, alpha)"
   ]
  },
  {
   "cell_type": "code",
   "execution_count": 42,
   "id": "df56469e",
   "metadata": {
    "execution": {
     "iopub.execute_input": "2025-08-19T18:29:23.708860Z",
     "iopub.status.busy": "2025-08-19T18:29:23.708420Z",
     "iopub.status.idle": "2025-08-19T18:29:23.714166Z",
     "shell.execute_reply": "2025-08-19T18:29:23.713489Z"
    },
    "papermill": {
     "duration": 0.020955,
     "end_time": "2025-08-19T18:29:23.715765",
     "exception": false,
     "start_time": "2025-08-19T18:29:23.694810",
     "status": "completed"
    },
    "tags": []
   },
   "outputs": [
    {
     "data": {
      "text/plain": [
       "0.6599999999999999"
      ]
     },
     "execution_count": 42,
     "metadata": {},
     "output_type": "execute_result"
    }
   ],
   "source": [
    "q_hat"
   ]
  },
  {
   "cell_type": "code",
   "execution_count": 43,
   "id": "aa1f5faa",
   "metadata": {
    "execution": {
     "iopub.execute_input": "2025-08-19T18:29:23.745095Z",
     "iopub.status.busy": "2025-08-19T18:29:23.744672Z",
     "iopub.status.idle": "2025-08-19T18:29:26.066592Z",
     "shell.execute_reply": "2025-08-19T18:29:26.065676Z"
    },
    "papermill": {
     "duration": 2.340437,
     "end_time": "2025-08-19T18:29:26.068286",
     "exception": false,
     "start_time": "2025-08-19T18:29:23.727849",
     "status": "completed"
    },
    "tags": []
   },
   "outputs": [],
   "source": [
    "from fairness_multiverse.conformal import predict_conformal_sets\n",
    "\n",
    "# Generate prediction sets for each test example\n",
    "pred_sets = predict_conformal_sets(model, X_test, q_hat)"
   ]
  },
  {
   "cell_type": "code",
   "execution_count": 44,
   "id": "97f67a6b",
   "metadata": {
    "execution": {
     "iopub.execute_input": "2025-08-19T18:29:26.103569Z",
     "iopub.status.busy": "2025-08-19T18:29:26.103079Z",
     "iopub.status.idle": "2025-08-19T18:29:26.109004Z",
     "shell.execute_reply": "2025-08-19T18:29:26.108256Z"
    },
    "papermill": {
     "duration": 0.026052,
     "end_time": "2025-08-19T18:29:26.110370",
     "exception": false,
     "start_time": "2025-08-19T18:29:26.084318",
     "status": "completed"
    },
    "tags": []
   },
   "outputs": [],
   "source": [
    "y_true = y_true.squeeze()"
   ]
  },
  {
   "cell_type": "code",
   "execution_count": 45,
   "id": "e700e9a7",
   "metadata": {
    "execution": {
     "iopub.execute_input": "2025-08-19T18:29:26.134638Z",
     "iopub.status.busy": "2025-08-19T18:29:26.134269Z",
     "iopub.status.idle": "2025-08-19T18:29:26.618434Z",
     "shell.execute_reply": "2025-08-19T18:29:26.617602Z"
    },
    "papermill": {
     "duration": 0.497745,
     "end_time": "2025-08-19T18:29:26.619909",
     "exception": false,
     "start_time": "2025-08-19T18:29:26.122164",
     "status": "completed"
    },
    "tags": []
   },
   "outputs": [],
   "source": [
    "from fairness_multiverse.conformal import evaluate_sets\n",
    "\n",
    "# Evaluate coverage and average set size on test data\n",
    "metrics = evaluate_sets(pred_sets, y_true)"
   ]
  },
  {
   "cell_type": "markdown",
   "id": "efbacec0",
   "metadata": {
    "papermill": {
     "duration": 0.0288,
     "end_time": "2025-08-19T18:29:26.660514",
     "exception": false,
     "start_time": "2025-08-19T18:29:26.631714",
     "status": "completed"
    },
    "tags": []
   },
   "source": [
    "# CP Metrics"
   ]
  },
  {
   "cell_type": "code",
   "execution_count": 46,
   "id": "9de55fb1",
   "metadata": {
    "execution": {
     "iopub.execute_input": "2025-08-19T18:29:26.685543Z",
     "iopub.status.busy": "2025-08-19T18:29:26.685118Z",
     "iopub.status.idle": "2025-08-19T18:29:26.690869Z",
     "shell.execute_reply": "2025-08-19T18:29:26.690229Z"
    },
    "papermill": {
     "duration": 0.020622,
     "end_time": "2025-08-19T18:29:26.693121",
     "exception": false,
     "start_time": "2025-08-19T18:29:26.672499",
     "status": "completed"
    },
    "tags": []
   },
   "outputs": [
    {
     "data": {
      "text/plain": [
       "{'coverage': 0.9103444432058856, 'avg_size': 1.1371641957418348}"
      ]
     },
     "execution_count": 46,
     "metadata": {},
     "output_type": "execute_result"
    }
   ],
   "source": [
    "metrics"
   ]
  },
  {
   "cell_type": "code",
   "execution_count": 47,
   "id": "64c340a1",
   "metadata": {
    "execution": {
     "iopub.execute_input": "2025-08-19T18:29:26.717206Z",
     "iopub.status.busy": "2025-08-19T18:29:26.716853Z",
     "iopub.status.idle": "2025-08-19T18:29:26.722205Z",
     "shell.execute_reply": "2025-08-19T18:29:26.721547Z"
    },
    "papermill": {
     "duration": 0.018689,
     "end_time": "2025-08-19T18:29:26.723545",
     "exception": false,
     "start_time": "2025-08-19T18:29:26.704856",
     "status": "completed"
    },
    "tags": []
   },
   "outputs": [],
   "source": [
    "example_universe = universe.copy()\n",
    "universe_training_year = example_universe.get(\"training_year\")\n",
    "universe_training_size = example_universe.get(\"training_size\")\n",
    "universe_scale = example_universe.get(\"scale\")\n",
    "universe_model = example_universe.get(\"model\")\n",
    "universe_exclude_features = example_universe.get(\"exclude_features\")\n",
    "universe_exclude_subgroups = example_universe.get(\"exclude_subgroups\")"
   ]
  },
  {
   "cell_type": "code",
   "execution_count": 48,
   "id": "dbb53cb4",
   "metadata": {
    "execution": {
     "iopub.execute_input": "2025-08-19T18:29:26.748587Z",
     "iopub.status.busy": "2025-08-19T18:29:26.748176Z",
     "iopub.status.idle": "2025-08-19T18:29:26.753302Z",
     "shell.execute_reply": "2025-08-19T18:29:26.752528Z"
    },
    "papermill": {
     "duration": 0.019286,
     "end_time": "2025-08-19T18:29:26.754632",
     "exception": false,
     "start_time": "2025-08-19T18:29:26.735346",
     "status": "completed"
    },
    "tags": []
   },
   "outputs": [],
   "source": [
    "cp_metrics_dict = {\n",
    "    \"universe_id\": [universe_id],\n",
    "    \"universe_training_year\": [universe_training_year],\n",
    "    \"universe_training_size\": [universe_training_size],\n",
    "    \"universe_scale\": [universe_scale],\n",
    "    \"universe_model\": [universe_model],\n",
    "    \"universe_exclude_features\": [universe_exclude_features],\n",
    "    \"universe_exclude_subgroups\": [universe_exclude_subgroups],\n",
    "    \"q_hat\": [q_hat],\n",
    "    \"coverage\": [metrics[\"coverage\"]],\n",
    "    \"avg_size\": [metrics[\"avg_size\"]],\n",
    "}"
   ]
  },
  {
   "cell_type": "code",
   "execution_count": 49,
   "id": "0d70d4b2",
   "metadata": {
    "execution": {
     "iopub.execute_input": "2025-08-19T18:29:26.780147Z",
     "iopub.status.busy": "2025-08-19T18:29:26.779806Z",
     "iopub.status.idle": "2025-08-19T18:29:26.802352Z",
     "shell.execute_reply": "2025-08-19T18:29:26.801570Z"
    },
    "papermill": {
     "duration": 0.037871,
     "end_time": "2025-08-19T18:29:26.804212",
     "exception": false,
     "start_time": "2025-08-19T18:29:26.766341",
     "status": "completed"
    },
    "tags": []
   },
   "outputs": [],
   "source": [
    "cp_metrics_df = pd.DataFrame(cp_metrics_dict)"
   ]
  },
  {
   "cell_type": "code",
   "execution_count": 50,
   "id": "b494403c",
   "metadata": {
    "execution": {
     "iopub.execute_input": "2025-08-19T18:29:26.834439Z",
     "iopub.status.busy": "2025-08-19T18:29:26.834111Z",
     "iopub.status.idle": "2025-08-19T18:29:26.846098Z",
     "shell.execute_reply": "2025-08-19T18:29:26.845265Z"
    },
    "papermill": {
     "duration": 0.026154,
     "end_time": "2025-08-19T18:29:26.848205",
     "exception": false,
     "start_time": "2025-08-19T18:29:26.822051",
     "status": "completed"
    },
    "tags": []
   },
   "outputs": [
    {
     "data": {
      "text/html": [
       "<div>\n",
       "<style scoped>\n",
       "    .dataframe tbody tr th:only-of-type {\n",
       "        vertical-align: middle;\n",
       "    }\n",
       "\n",
       "    .dataframe tbody tr th {\n",
       "        vertical-align: top;\n",
       "    }\n",
       "\n",
       "    .dataframe thead th {\n",
       "        text-align: right;\n",
       "    }\n",
       "</style>\n",
       "<table border=\"1\" class=\"dataframe\">\n",
       "  <thead>\n",
       "    <tr style=\"text-align: right;\">\n",
       "      <th></th>\n",
       "      <th>universe_id</th>\n",
       "      <th>universe_training_year</th>\n",
       "      <th>universe_training_size</th>\n",
       "      <th>universe_scale</th>\n",
       "      <th>universe_model</th>\n",
       "      <th>universe_exclude_features</th>\n",
       "      <th>universe_exclude_subgroups</th>\n",
       "      <th>q_hat</th>\n",
       "      <th>coverage</th>\n",
       "      <th>avg_size</th>\n",
       "    </tr>\n",
       "  </thead>\n",
       "  <tbody>\n",
       "    <tr>\n",
       "      <th>0</th>\n",
       "      <td>9286b7b192415fda9384e2894511f027</td>\n",
       "      <td>2014</td>\n",
       "      <td>5k</td>\n",
       "      <td>do-not-scale</td>\n",
       "      <td>rf</td>\n",
       "      <td>age</td>\n",
       "      <td>drop-non-german</td>\n",
       "      <td>0.66</td>\n",
       "      <td>0.910344</td>\n",
       "      <td>1.137164</td>\n",
       "    </tr>\n",
       "  </tbody>\n",
       "</table>\n",
       "</div>"
      ],
      "text/plain": [
       "                        universe_id universe_training_year  \\\n",
       "0  9286b7b192415fda9384e2894511f027                   2014   \n",
       "\n",
       "  universe_training_size universe_scale universe_model  \\\n",
       "0                     5k   do-not-scale             rf   \n",
       "\n",
       "  universe_exclude_features universe_exclude_subgroups  q_hat  coverage  \\\n",
       "0                       age            drop-non-german   0.66  0.910344   \n",
       "\n",
       "   avg_size  \n",
       "0  1.137164  "
      ]
     },
     "execution_count": 50,
     "metadata": {},
     "output_type": "execute_result"
    }
   ],
   "source": [
    "cp_metrics_df"
   ]
  },
  {
   "cell_type": "markdown",
   "id": "ed608b0b",
   "metadata": {
    "papermill": {
     "duration": 0.021982,
     "end_time": "2025-08-19T18:29:26.898666",
     "exception": false,
     "start_time": "2025-08-19T18:29:26.876684",
     "status": "completed"
    },
    "tags": []
   },
   "source": [
    "Conditional coverage & looking at subgroups"
   ]
  },
  {
   "cell_type": "code",
   "execution_count": 51,
   "id": "8968c366",
   "metadata": {
    "execution": {
     "iopub.execute_input": "2025-08-19T18:29:26.923974Z",
     "iopub.status.busy": "2025-08-19T18:29:26.923606Z",
     "iopub.status.idle": "2025-08-19T18:29:27.163725Z",
     "shell.execute_reply": "2025-08-19T18:29:27.162941Z"
    },
    "papermill": {
     "duration": 0.253998,
     "end_time": "2025-08-19T18:29:27.165288",
     "exception": false,
     "start_time": "2025-08-19T18:29:26.911290",
     "status": "completed"
    },
    "tags": []
   },
   "outputs": [],
   "source": [
    "from fairness_multiverse.conformal import build_cp_groups\n",
    "\n",
    "cp_groups_df = build_cp_groups(pred_sets, y_true, X_test.index, org_test)"
   ]
  },
  {
   "cell_type": "code",
   "execution_count": 52,
   "id": "292ddabf",
   "metadata": {
    "execution": {
     "iopub.execute_input": "2025-08-19T18:29:27.190554Z",
     "iopub.status.busy": "2025-08-19T18:29:27.190197Z",
     "iopub.status.idle": "2025-08-19T18:29:28.151136Z",
     "shell.execute_reply": "2025-08-19T18:29:28.149990Z"
    },
    "papermill": {
     "duration": 0.976411,
     "end_time": "2025-08-19T18:29:28.154172",
     "exception": false,
     "start_time": "2025-08-19T18:29:27.177761",
     "status": "completed"
    },
    "tags": []
   },
   "outputs": [],
   "source": [
    "# Define covered = 1 if true_label is in the predicted set\n",
    "cp_groups_df['covered'] = cp_groups_df.apply(\n",
    "    lambda r: int(r['true_label'] in r['pred_set']),\n",
    "    axis=1\n",
    ")"
   ]
  },
  {
   "cell_type": "code",
   "execution_count": 53,
   "id": "3a261692",
   "metadata": {
    "execution": {
     "iopub.execute_input": "2025-08-19T18:29:28.195042Z",
     "iopub.status.busy": "2025-08-19T18:29:28.194590Z",
     "iopub.status.idle": "2025-08-19T18:29:28.206292Z",
     "shell.execute_reply": "2025-08-19T18:29:28.205544Z"
    },
    "papermill": {
     "duration": 0.028742,
     "end_time": "2025-08-19T18:29:28.209332",
     "exception": false,
     "start_time": "2025-08-19T18:29:28.180590",
     "status": "completed"
    },
    "tags": []
   },
   "outputs": [],
   "source": [
    "subgroups = ['frau1','nongerman','nongerman_male','nongerman_female']\n",
    "\n",
    "# Conditional coverage for subgroup==1\n",
    "cond_coverage = {\n",
    "    g: cp_groups_df.loc[cp_groups_df[g]==1, 'covered'].mean()\n",
    "    for g in subgroups\n",
    "}"
   ]
  },
  {
   "cell_type": "code",
   "execution_count": 54,
   "id": "894fd600",
   "metadata": {
    "execution": {
     "iopub.execute_input": "2025-08-19T18:29:28.251525Z",
     "iopub.status.busy": "2025-08-19T18:29:28.250426Z",
     "iopub.status.idle": "2025-08-19T18:29:28.260561Z",
     "shell.execute_reply": "2025-08-19T18:29:28.259398Z"
    },
    "papermill": {
     "duration": 0.026395,
     "end_time": "2025-08-19T18:29:28.262092",
     "exception": false,
     "start_time": "2025-08-19T18:29:28.235697",
     "status": "completed"
    },
    "tags": []
   },
   "outputs": [
    {
     "data": {
      "text/plain": [
       "{'frau1': 0.9114166329694029,\n",
       " 'nongerman': 0.8963678212541403,\n",
       " 'nongerman_male': 0.902909123660272,\n",
       " 'nongerman_female': 0.8855439642324888}"
      ]
     },
     "execution_count": 54,
     "metadata": {},
     "output_type": "execute_result"
    }
   ],
   "source": [
    "cond_coverage"
   ]
  },
  {
   "cell_type": "code",
   "execution_count": 55,
   "id": "942895c7",
   "metadata": {
    "execution": {
     "iopub.execute_input": "2025-08-19T18:29:28.294761Z",
     "iopub.status.busy": "2025-08-19T18:29:28.293322Z",
     "iopub.status.idle": "2025-08-19T18:29:28.307984Z",
     "shell.execute_reply": "2025-08-19T18:29:28.306630Z"
    },
    "papermill": {
     "duration": 0.031771,
     "end_time": "2025-08-19T18:29:28.309624",
     "exception": false,
     "start_time": "2025-08-19T18:29:28.277853",
     "status": "completed"
    },
    "tags": []
   },
   "outputs": [],
   "source": [
    "for subgroup, cov in cond_coverage.items():\n",
    "    cp_metrics_df[f\"cov_{subgroup}\"] = cov"
   ]
  },
  {
   "cell_type": "code",
   "execution_count": 56,
   "id": "3970120f",
   "metadata": {
    "execution": {
     "iopub.execute_input": "2025-08-19T18:29:28.344698Z",
     "iopub.status.busy": "2025-08-19T18:29:28.343556Z",
     "iopub.status.idle": "2025-08-19T18:29:28.365830Z",
     "shell.execute_reply": "2025-08-19T18:29:28.365026Z"
    },
    "papermill": {
     "duration": 0.040608,
     "end_time": "2025-08-19T18:29:28.369212",
     "exception": false,
     "start_time": "2025-08-19T18:29:28.328604",
     "status": "completed"
    },
    "tags": []
   },
   "outputs": [
    {
     "data": {
      "text/html": [
       "<div>\n",
       "<style scoped>\n",
       "    .dataframe tbody tr th:only-of-type {\n",
       "        vertical-align: middle;\n",
       "    }\n",
       "\n",
       "    .dataframe tbody tr th {\n",
       "        vertical-align: top;\n",
       "    }\n",
       "\n",
       "    .dataframe thead th {\n",
       "        text-align: right;\n",
       "    }\n",
       "</style>\n",
       "<table border=\"1\" class=\"dataframe\">\n",
       "  <thead>\n",
       "    <tr style=\"text-align: right;\">\n",
       "      <th></th>\n",
       "      <th>universe_id</th>\n",
       "      <th>universe_training_year</th>\n",
       "      <th>universe_training_size</th>\n",
       "      <th>universe_scale</th>\n",
       "      <th>universe_model</th>\n",
       "      <th>universe_exclude_features</th>\n",
       "      <th>universe_exclude_subgroups</th>\n",
       "      <th>q_hat</th>\n",
       "      <th>coverage</th>\n",
       "      <th>avg_size</th>\n",
       "      <th>cov_frau1</th>\n",
       "      <th>cov_nongerman</th>\n",
       "      <th>cov_nongerman_male</th>\n",
       "      <th>cov_nongerman_female</th>\n",
       "    </tr>\n",
       "  </thead>\n",
       "  <tbody>\n",
       "    <tr>\n",
       "      <th>0</th>\n",
       "      <td>9286b7b192415fda9384e2894511f027</td>\n",
       "      <td>2014</td>\n",
       "      <td>5k</td>\n",
       "      <td>do-not-scale</td>\n",
       "      <td>rf</td>\n",
       "      <td>age</td>\n",
       "      <td>drop-non-german</td>\n",
       "      <td>0.66</td>\n",
       "      <td>0.910344</td>\n",
       "      <td>1.137164</td>\n",
       "      <td>0.911417</td>\n",
       "      <td>0.896368</td>\n",
       "      <td>0.902909</td>\n",
       "      <td>0.885544</td>\n",
       "    </tr>\n",
       "  </tbody>\n",
       "</table>\n",
       "</div>"
      ],
      "text/plain": [
       "                        universe_id universe_training_year  \\\n",
       "0  9286b7b192415fda9384e2894511f027                   2014   \n",
       "\n",
       "  universe_training_size universe_scale universe_model  \\\n",
       "0                     5k   do-not-scale             rf   \n",
       "\n",
       "  universe_exclude_features universe_exclude_subgroups  q_hat  coverage  \\\n",
       "0                       age            drop-non-german   0.66  0.910344   \n",
       "\n",
       "   avg_size  cov_frau1  cov_nongerman  cov_nongerman_male  \\\n",
       "0  1.137164   0.911417       0.896368            0.902909   \n",
       "\n",
       "   cov_nongerman_female  \n",
       "0              0.885544  "
      ]
     },
     "execution_count": 56,
     "metadata": {},
     "output_type": "execute_result"
    }
   ],
   "source": [
    "cp_metrics_df"
   ]
  },
  {
   "cell_type": "markdown",
   "id": "3fc519cc",
   "metadata": {
    "papermill": {
     "duration": 0.012101,
     "end_time": "2025-08-19T18:29:28.402426",
     "exception": false,
     "start_time": "2025-08-19T18:29:28.390325",
     "status": "completed"
    },
    "tags": []
   },
   "source": [
    "# (Fairness) Metrics"
   ]
  },
  {
   "cell_type": "code",
   "execution_count": 57,
   "id": "a2e5e155",
   "metadata": {
    "execution": {
     "iopub.execute_input": "2025-08-19T18:29:28.429043Z",
     "iopub.status.busy": "2025-08-19T18:29:28.427903Z",
     "iopub.status.idle": "2025-08-19T18:29:28.456854Z",
     "shell.execute_reply": "2025-08-19T18:29:28.455983Z"
    },
    "papermill": {
     "duration": 0.044745,
     "end_time": "2025-08-19T18:29:28.459147",
     "exception": false,
     "start_time": "2025-08-19T18:29:28.414402",
     "status": "completed"
    },
    "tags": []
   },
   "outputs": [],
   "source": [
    "colname_to_bin = \"maxdeutsch1\"\n",
    "majority_value = org_train[colname_to_bin].mode()[0]\n",
    "\n",
    "org_test[\"majmin\"] = np.where(org_test[colname_to_bin] == majority_value, \"majority\", \"minority\")"
   ]
  },
  {
   "cell_type": "code",
   "execution_count": 58,
   "id": "17e3e4d5",
   "metadata": {
    "execution": {
     "iopub.execute_input": "2025-08-19T18:29:28.499334Z",
     "iopub.status.busy": "2025-08-19T18:29:28.498344Z",
     "iopub.status.idle": "2025-08-19T18:29:30.250492Z",
     "shell.execute_reply": "2025-08-19T18:29:30.249203Z"
    },
    "papermill": {
     "duration": 1.768404,
     "end_time": "2025-08-19T18:29:30.252422",
     "exception": false,
     "start_time": "2025-08-19T18:29:28.484018",
     "status": "completed"
    },
    "tags": []
   },
   "outputs": [],
   "source": [
    "example_universe = universe.copy()\n",
    "example_universe[\"cutoff\"] = example_universe[\"cutoff\"][0]\n",
    "example_universe[\"eval_fairness_grouping\"] = example_universe[\"eval_fairness_grouping\"][0]\n",
    "fairness_dict, metric_frame = universe_analysis.compute_metrics(\n",
    "    example_universe,\n",
    "    y_pred_prob=probs_test,\n",
    "    y_test=y_true,\n",
    "    org_test=org_test,\n",
    ")"
   ]
  },
  {
   "cell_type": "markdown",
   "id": "1fb7a0e9",
   "metadata": {
    "papermill": {
     "duration": 0.012494,
     "end_time": "2025-08-19T18:29:30.283264",
     "exception": false,
     "start_time": "2025-08-19T18:29:30.270770",
     "status": "completed"
    },
    "tags": []
   },
   "source": [
    "# Overall"
   ]
  },
  {
   "cell_type": "markdown",
   "id": "be1784b1",
   "metadata": {
    "papermill": {
     "duration": 0.012112,
     "end_time": "2025-08-19T18:29:30.307512",
     "exception": false,
     "start_time": "2025-08-19T18:29:30.295400",
     "status": "completed"
    },
    "tags": []
   },
   "source": [
    "Main fairness target: Equalized Odds. Seems to be a better fit than equal opportunity, since we're not only interested in Y = 1. Seems to be a better fit than demographic parity, since we also care about accuracy, not just equal distribution of preds.\n",
    "\n",
    "Pick column for computation of fairness metrics\n",
    "\n",
    "Performance\n",
    "Overall performance measures, most interesting in relation to the measures split by group below"
   ]
  },
  {
   "cell_type": "code",
   "execution_count": 59,
   "id": "b7672bee",
   "metadata": {
    "execution": {
     "iopub.execute_input": "2025-08-19T18:29:30.333488Z",
     "iopub.status.busy": "2025-08-19T18:29:30.333022Z",
     "iopub.status.idle": "2025-08-19T18:29:30.340870Z",
     "shell.execute_reply": "2025-08-19T18:29:30.340127Z"
    },
    "papermill": {
     "duration": 0.022469,
     "end_time": "2025-08-19T18:29:30.342052",
     "exception": false,
     "start_time": "2025-08-19T18:29:30.319583",
     "status": "completed"
    },
    "tags": []
   },
   "outputs": [
    {
     "data": {
      "text/plain": [
       "accuracy                   0.198662\n",
       "balanced accuracy          0.532329\n",
       "f1                         0.239039\n",
       "precision                  0.136098\n",
       "false positive rate        0.916486\n",
       "false negative rate        0.018856\n",
       "selection rate             0.924780\n",
       "count                  89710.000000\n",
       "dtype: float64"
      ]
     },
     "execution_count": 59,
     "metadata": {},
     "output_type": "execute_result"
    }
   ],
   "source": [
    "metric_frame.overall"
   ]
  },
  {
   "cell_type": "markdown",
   "id": "d93333c9",
   "metadata": {
    "papermill": {
     "duration": 0.012248,
     "end_time": "2025-08-19T18:29:30.367498",
     "exception": false,
     "start_time": "2025-08-19T18:29:30.355250",
     "status": "completed"
    },
    "tags": []
   },
   "source": [
    "By Group"
   ]
  },
  {
   "cell_type": "code",
   "execution_count": 60,
   "id": "52256966",
   "metadata": {
    "execution": {
     "iopub.execute_input": "2025-08-19T18:29:30.393254Z",
     "iopub.status.busy": "2025-08-19T18:29:30.392863Z",
     "iopub.status.idle": "2025-08-19T18:29:30.415738Z",
     "shell.execute_reply": "2025-08-19T18:29:30.415027Z"
    },
    "papermill": {
     "duration": 0.037546,
     "end_time": "2025-08-19T18:29:30.417237",
     "exception": false,
     "start_time": "2025-08-19T18:29:30.379691",
     "status": "completed"
    },
    "tags": []
   },
   "outputs": [
    {
     "data": {
      "text/html": [
       "<div>\n",
       "<style scoped>\n",
       "    .dataframe tbody tr th:only-of-type {\n",
       "        vertical-align: middle;\n",
       "    }\n",
       "\n",
       "    .dataframe tbody tr th {\n",
       "        vertical-align: top;\n",
       "    }\n",
       "\n",
       "    .dataframe thead th {\n",
       "        text-align: right;\n",
       "    }\n",
       "</style>\n",
       "<table border=\"1\" class=\"dataframe\">\n",
       "  <thead>\n",
       "    <tr style=\"text-align: right;\">\n",
       "      <th></th>\n",
       "      <th>accuracy</th>\n",
       "      <th>balanced accuracy</th>\n",
       "      <th>f1</th>\n",
       "      <th>precision</th>\n",
       "      <th>false positive rate</th>\n",
       "      <th>false negative rate</th>\n",
       "      <th>selection rate</th>\n",
       "      <th>count</th>\n",
       "    </tr>\n",
       "    <tr>\n",
       "      <th>majmin</th>\n",
       "      <th></th>\n",
       "      <th></th>\n",
       "      <th></th>\n",
       "      <th></th>\n",
       "      <th></th>\n",
       "      <th></th>\n",
       "      <th></th>\n",
       "      <th></th>\n",
       "    </tr>\n",
       "  </thead>\n",
       "  <tbody>\n",
       "    <tr>\n",
       "      <th>majority</th>\n",
       "      <td>0.197687</td>\n",
       "      <td>0.533452</td>\n",
       "      <td>0.245876</td>\n",
       "      <td>0.140372</td>\n",
       "      <td>0.922922</td>\n",
       "      <td>0.010175</td>\n",
       "      <td>0.931762</td>\n",
       "      <td>69170.0</td>\n",
       "    </tr>\n",
       "    <tr>\n",
       "      <th>minority</th>\n",
       "      <td>0.201947</td>\n",
       "      <td>0.526206</td>\n",
       "      <td>0.214943</td>\n",
       "      <td>0.121219</td>\n",
       "      <td>0.895223</td>\n",
       "      <td>0.052365</td>\n",
       "      <td>0.901266</td>\n",
       "      <td>20540.0</td>\n",
       "    </tr>\n",
       "  </tbody>\n",
       "</table>\n",
       "</div>"
      ],
      "text/plain": [
       "          accuracy  balanced accuracy        f1  precision  \\\n",
       "majmin                                                       \n",
       "majority  0.197687           0.533452  0.245876   0.140372   \n",
       "minority  0.201947           0.526206  0.214943   0.121219   \n",
       "\n",
       "          false positive rate  false negative rate  selection rate    count  \n",
       "majmin                                                                       \n",
       "majority             0.922922             0.010175        0.931762  69170.0  \n",
       "minority             0.895223             0.052365        0.901266  20540.0  "
      ]
     },
     "execution_count": 60,
     "metadata": {},
     "output_type": "execute_result"
    }
   ],
   "source": [
    "metric_frame.by_group"
   ]
  },
  {
   "cell_type": "code",
   "execution_count": 61,
   "id": "6e6c20ae",
   "metadata": {
    "execution": {
     "iopub.execute_input": "2025-08-19T18:29:30.450574Z",
     "iopub.status.busy": "2025-08-19T18:29:30.450209Z",
     "iopub.status.idle": "2025-08-19T18:29:32.285764Z",
     "shell.execute_reply": "2025-08-19T18:29:32.284788Z"
    },
    "papermill": {
     "duration": 1.854602,
     "end_time": "2025-08-19T18:29:32.291333",
     "exception": false,
     "start_time": "2025-08-19T18:29:30.436731",
     "status": "completed"
    },
    "tags": []
   },
   "outputs": [
    {
     "data": {
      "text/plain": [
       "array([[<Axes: title={'center': 'accuracy'}, xlabel='majmin'>,\n",
       "        <Axes: title={'center': 'balanced accuracy'}, xlabel='majmin'>,\n",
       "        <Axes: title={'center': 'f1'}, xlabel='majmin'>],\n",
       "       [<Axes: title={'center': 'precision'}, xlabel='majmin'>,\n",
       "        <Axes: title={'center': 'false positive rate'}, xlabel='majmin'>,\n",
       "        <Axes: title={'center': 'false negative rate'}, xlabel='majmin'>],\n",
       "       [<Axes: title={'center': 'selection rate'}, xlabel='majmin'>,\n",
       "        <Axes: title={'center': 'count'}, xlabel='majmin'>,\n",
       "        <Axes: xlabel='majmin'>]], dtype=object)"
      ]
     },
     "execution_count": 61,
     "metadata": {},
     "output_type": "execute_result"
    },
    {
     "data": {
      "image/png": "[encoded data removed]",
      "text/plain": [
       "<Figure size 1200x800 with 9 Axes>"
      ]
     },
     "metadata": {},
     "output_type": "display_data"
    }
   ],
   "source": [
    "# In a graphic\n",
    "metric_frame.by_group.plot.bar(\n",
    "    subplots=True,\n",
    "    layout=[3, 3],\n",
    "    legend=False,\n",
    "    figsize=[12, 8],\n",
    "    title=\"Show all metrics\",\n",
    ")"
   ]
  },
  {
   "cell_type": "markdown",
   "id": "b2e433ae",
   "metadata": {
    "papermill": {
     "duration": 0.013936,
     "end_time": "2025-08-19T18:29:32.335062",
     "exception": false,
     "start_time": "2025-08-19T18:29:32.321126",
     "status": "completed"
    },
    "tags": []
   },
   "source": [
    "# Final Output"
   ]
  },
  {
   "cell_type": "code",
   "execution_count": 62,
   "id": "3871301e",
   "metadata": {
    "execution": {
     "iopub.execute_input": "2025-08-19T18:29:32.367191Z",
     "iopub.status.busy": "2025-08-19T18:29:32.364973Z",
     "iopub.status.idle": "2025-08-19T18:29:32.391687Z",
     "shell.execute_reply": "2025-08-19T18:29:32.390622Z"
    },
    "papermill": {
     "duration": 0.044421,
     "end_time": "2025-08-19T18:29:32.393295",
     "exception": false,
     "start_time": "2025-08-19T18:29:32.348874",
     "status": "completed"
    },
    "tags": []
   },
   "outputs": [
    {
     "data": {
      "text/plain": [
       "4"
      ]
     },
     "execution_count": 62,
     "metadata": {},
     "output_type": "execute_result"
    }
   ],
   "source": [
    "sub_universes = universe_analysis.generate_sub_universes()\n",
    "len(sub_universes)"
   ]
  },
  {
   "cell_type": "code",
   "execution_count": 63,
   "id": "d9cfdaca",
   "metadata": {
    "execution": {
     "iopub.execute_input": "2025-08-19T18:29:32.428881Z",
     "iopub.status.busy": "2025-08-19T18:29:32.427643Z",
     "iopub.status.idle": "2025-08-19T18:29:32.437575Z",
     "shell.execute_reply": "2025-08-19T18:29:32.436305Z"
    },
    "papermill": {
     "duration": 0.026691,
     "end_time": "2025-08-19T18:29:32.438881",
     "exception": false,
     "start_time": "2025-08-19T18:29:32.412190",
     "status": "completed"
    },
    "tags": []
   },
   "outputs": [],
   "source": [
    "def filter_sub_universe_data(sub_universe, org_test):\n",
    "    # Keep all rows — no filtering\n",
    "    keep_rows_mask = np.ones(org_test.shape[0], dtype=bool)\n",
    "\n",
    "    print(f\"[INFO] Keeping all rows: {keep_rows_mask.sum()} rows retained.\")\n",
    "    return keep_rows_mask"
   ]
  },
  {
   "cell_type": "code",
   "execution_count": 64,
   "id": "2bc31ac1",
   "metadata": {
    "execution": {
     "iopub.execute_input": "2025-08-19T18:29:32.471966Z",
     "iopub.status.busy": "2025-08-19T18:29:32.470724Z",
     "iopub.status.idle": "2025-08-19T18:29:39.181427Z",
     "shell.execute_reply": "2025-08-19T18:29:39.180183Z"
    },
    "papermill": {
     "duration": 6.727326,
     "end_time": "2025-08-19T18:29:39.182778",
     "exception": false,
     "start_time": "2025-08-19T18:29:32.455452",
     "status": "completed"
    },
    "tags": []
   },
   "outputs": [
    {
     "name": "stdout",
     "output_type": "stream",
     "text": [
      "Stopping execution_time clock.\n",
      "[INFO] Keeping all rows: 89710 rows retained.\n"
     ]
    },
    {
     "name": "stdout",
     "output_type": "stream",
     "text": [
      "[INFO] Keeping all rows: 89710 rows retained.\n"
     ]
    },
    {
     "name": "stdout",
     "output_type": "stream",
     "text": [
      "[INFO] Keeping all rows: 89710 rows retained.\n"
     ]
    },
    {
     "name": "stdout",
     "output_type": "stream",
     "text": [
      "[INFO] Keeping all rows: 89710 rows retained.\n"
     ]
    },
    {
     "data": {
      "text/html": [
       "<div>\n",
       "<style scoped>\n",
       "    .dataframe tbody tr th:only-of-type {\n",
       "        vertical-align: middle;\n",
       "    }\n",
       "\n",
       "    .dataframe tbody tr th {\n",
       "        vertical-align: top;\n",
       "    }\n",
       "\n",
       "    .dataframe thead th {\n",
       "        text-align: right;\n",
       "    }\n",
       "</style>\n",
       "<table border=\"1\" class=\"dataframe\">\n",
       "  <thead>\n",
       "    <tr style=\"text-align: right;\">\n",
       "      <th></th>\n",
       "      <th>run_no</th>\n",
       "      <th>universe_id</th>\n",
       "      <th>universe_settings</th>\n",
       "      <th>execution_time</th>\n",
       "      <th>test_size_n</th>\n",
       "      <th>test_size_frac</th>\n",
       "      <th>fair_main_equalized_odds_difference</th>\n",
       "      <th>fair_main_equalized_odds_ratio</th>\n",
       "      <th>fair_main_demographic_parity_difference</th>\n",
       "      <th>fair_main_demographic_parity_ratio</th>\n",
       "      <th>...</th>\n",
       "      <th>perf_grp_precision_0</th>\n",
       "      <th>perf_grp_precision_1</th>\n",
       "      <th>perf_grp_false positive rate_0</th>\n",
       "      <th>perf_grp_false positive rate_1</th>\n",
       "      <th>perf_grp_false negative rate_0</th>\n",
       "      <th>perf_grp_false negative rate_1</th>\n",
       "      <th>perf_grp_selection rate_0</th>\n",
       "      <th>perf_grp_selection rate_1</th>\n",
       "      <th>perf_grp_count_0</th>\n",
       "      <th>perf_grp_count_1</th>\n",
       "    </tr>\n",
       "  </thead>\n",
       "  <tbody>\n",
       "    <tr>\n",
       "      <th>0</th>\n",
       "      <td>3</td>\n",
       "      <td>9286b7b192415fda9384e2894511f027</td>\n",
       "      <td>{\"cutoff\": \"quantile_0.1\", \"eval_fairness_grou...</td>\n",
       "      <td>27.981587</td>\n",
       "      <td>89710</td>\n",
       "      <td>1.0</td>\n",
       "      <td>0.042190</td>\n",
       "      <td>0.957376</td>\n",
       "      <td>0.030497</td>\n",
       "      <td>0.96727</td>\n",
       "      <td>...</td>\n",
       "      <td>NaN</td>\n",
       "      <td>NaN</td>\n",
       "      <td>NaN</td>\n",
       "      <td>NaN</td>\n",
       "      <td>NaN</td>\n",
       "      <td>NaN</td>\n",
       "      <td>NaN</td>\n",
       "      <td>NaN</td>\n",
       "      <td>NaN</td>\n",
       "      <td>NaN</td>\n",
       "    </tr>\n",
       "    <tr>\n",
       "      <th>0</th>\n",
       "      <td>3</td>\n",
       "      <td>9286b7b192415fda9384e2894511f027</td>\n",
       "      <td>{\"cutoff\": \"quantile_0.1\", \"eval_fairness_grou...</td>\n",
       "      <td>27.981587</td>\n",
       "      <td>89710</td>\n",
       "      <td>1.0</td>\n",
       "      <td>0.042190</td>\n",
       "      <td>0.957376</td>\n",
       "      <td>0.030497</td>\n",
       "      <td>0.96727</td>\n",
       "      <td>...</td>\n",
       "      <td>0.121219</td>\n",
       "      <td>0.140372</td>\n",
       "      <td>0.895223</td>\n",
       "      <td>0.922922</td>\n",
       "      <td>0.052365</td>\n",
       "      <td>0.010175</td>\n",
       "      <td>0.901266</td>\n",
       "      <td>0.931762</td>\n",
       "      <td>20540.0</td>\n",
       "      <td>69170.0</td>\n",
       "    </tr>\n",
       "    <tr>\n",
       "      <th>0</th>\n",
       "      <td>3</td>\n",
       "      <td>9286b7b192415fda9384e2894511f027</td>\n",
       "      <td>{\"cutoff\": \"quantile_0.25\", \"eval_fairness_gro...</td>\n",
       "      <td>27.981587</td>\n",
       "      <td>89710</td>\n",
       "      <td>1.0</td>\n",
       "      <td>0.095605</td>\n",
       "      <td>0.898451</td>\n",
       "      <td>0.038707</td>\n",
       "      <td>0.94935</td>\n",
       "      <td>...</td>\n",
       "      <td>NaN</td>\n",
       "      <td>NaN</td>\n",
       "      <td>NaN</td>\n",
       "      <td>NaN</td>\n",
       "      <td>NaN</td>\n",
       "      <td>NaN</td>\n",
       "      <td>NaN</td>\n",
       "      <td>NaN</td>\n",
       "      <td>NaN</td>\n",
       "      <td>NaN</td>\n",
       "    </tr>\n",
       "    <tr>\n",
       "      <th>0</th>\n",
       "      <td>3</td>\n",
       "      <td>9286b7b192415fda9384e2894511f027</td>\n",
       "      <td>{\"cutoff\": \"quantile_0.25\", \"eval_fairness_gro...</td>\n",
       "      <td>27.981587</td>\n",
       "      <td>89710</td>\n",
       "      <td>1.0</td>\n",
       "      <td>0.095605</td>\n",
       "      <td>0.898451</td>\n",
       "      <td>0.038707</td>\n",
       "      <td>0.94935</td>\n",
       "      <td>...</td>\n",
       "      <td>0.134411</td>\n",
       "      <td>0.162785</td>\n",
       "      <td>0.709828</td>\n",
       "      <td>0.737231</td>\n",
       "      <td>0.154139</td>\n",
       "      <td>0.058534</td>\n",
       "      <td>0.725511</td>\n",
       "      <td>0.764219</td>\n",
       "      <td>20540.0</td>\n",
       "      <td>69170.0</td>\n",
       "    </tr>\n",
       "  </tbody>\n",
       "</table>\n",
       "<p>4 rows × 50 columns</p>\n",
       "</div>"
      ],
      "text/plain": [
       "  run_no                       universe_id  \\\n",
       "0      3  9286b7b192415fda9384e2894511f027   \n",
       "0      3  9286b7b192415fda9384e2894511f027   \n",
       "0      3  9286b7b192415fda9384e2894511f027   \n",
       "0      3  9286b7b192415fda9384e2894511f027   \n",
       "\n",
       "                                   universe_settings  execution_time  \\\n",
       "0  {\"cutoff\": \"quantile_0.1\", \"eval_fairness_grou...       27.981587   \n",
       "0  {\"cutoff\": \"quantile_0.1\", \"eval_fairness_grou...       27.981587   \n",
       "0  {\"cutoff\": \"quantile_0.25\", \"eval_fairness_gro...       27.981587   \n",
       "0  {\"cutoff\": \"quantile_0.25\", \"eval_fairness_gro...       27.981587   \n",
       "\n",
       "   test_size_n  test_size_frac  fair_main_equalized_odds_difference  \\\n",
       "0        89710             1.0                             0.042190   \n",
       "0        89710             1.0                             0.042190   \n",
       "0        89710             1.0                             0.095605   \n",
       "0        89710             1.0                             0.095605   \n",
       "\n",
       "   fair_main_equalized_odds_ratio  fair_main_demographic_parity_difference  \\\n",
       "0                        0.957376                                 0.030497   \n",
       "0                        0.957376                                 0.030497   \n",
       "0                        0.898451                                 0.038707   \n",
       "0                        0.898451                                 0.038707   \n",
       "\n",
       "   fair_main_demographic_parity_ratio  ...  perf_grp_precision_0  \\\n",
       "0                             0.96727  ...                   NaN   \n",
       "0                             0.96727  ...              0.121219   \n",
       "0                             0.94935  ...                   NaN   \n",
       "0                             0.94935  ...              0.134411   \n",
       "\n",
       "   perf_grp_precision_1  perf_grp_false positive rate_0  \\\n",
       "0                   NaN                             NaN   \n",
       "0              0.140372                        0.895223   \n",
       "0                   NaN                             NaN   \n",
       "0              0.162785                        0.709828   \n",
       "\n",
       "   perf_grp_false positive rate_1  perf_grp_false negative rate_0  \\\n",
       "0                             NaN                             NaN   \n",
       "0                        0.922922                        0.052365   \n",
       "0                             NaN                             NaN   \n",
       "0                        0.737231                        0.154139   \n",
       "\n",
       "   perf_grp_false negative rate_1  perf_grp_selection rate_0  \\\n",
       "0                             NaN                        NaN   \n",
       "0                        0.010175                   0.901266   \n",
       "0                             NaN                        NaN   \n",
       "0                        0.058534                   0.725511   \n",
       "\n",
       "   perf_grp_selection rate_1  perf_grp_count_0  perf_grp_count_1  \n",
       "0                        NaN               NaN               NaN  \n",
       "0                   0.931762           20540.0           69170.0  \n",
       "0                        NaN               NaN               NaN  \n",
       "0                   0.764219           20540.0           69170.0  \n",
       "\n",
       "[4 rows x 50 columns]"
      ]
     },
     "execution_count": 64,
     "metadata": {},
     "output_type": "execute_result"
    }
   ],
   "source": [
    "final_output = universe_analysis.generate_final_output(\n",
    "    y_pred_prob=probs_test,\n",
    "    y_test=y_true,\n",
    "    org_test=org_test,\n",
    "    filter_data=filter_sub_universe_data,\n",
    "    cp_metrics_df=cp_metrics_df,\n",
    "    save=True,\n",
    ")\n",
    "final_output"
   ]
  },
  {
   "cell_type": "code",
   "execution_count": null,
   "id": "8b80a1ff",
   "metadata": {
    "papermill": {
     "duration": 0.01506,
     "end_time": "2025-08-19T18:29:39.215930",
     "exception": false,
     "start_time": "2025-08-19T18:29:39.200870",
     "status": "completed"
    },
    "tags": []
   },
   "outputs": [],
   "source": []
  },
  {
   "cell_type": "code",
   "execution_count": null,
   "id": "275c9fad",
   "metadata": {
    "papermill": {
     "duration": 0.014651,
     "end_time": "2025-08-19T18:29:39.245437",
     "exception": false,
     "start_time": "2025-08-19T18:29:39.230786",
     "status": "completed"
    },
    "tags": []
   },
   "outputs": [],
   "source": []
  }
 ],
 "metadata": {
  "celltoolbar": "Tags",
  "kernelspec": {
   "display_name": "Python (CMA Fairness)",
   "language": "python",
   "name": "cma_fair_env"
  },
  "language_info": {
   "codemirror_mode": {
    "name": "ipython",
    "version": 3
   },
   "file_extension": ".py",
   "mimetype": "text/x-python",
   "name": "python",
   "nbconvert_exporter": "python",
   "pygments_lexer": "ipython3",
   "version": "3.10.12"
  },
  "papermill": {
   "default_parameters": {},
   "duration": 38.496995,
   "end_time": "2025-08-19T18:29:40.189912",
   "environment_variables": {},
   "exception": null,
   "input_path": "universe_analysis.ipynb",
   "output_path": "output/runs/3/notebooks/m_3-9286b7b192415fda9384e2894511f027.ipynb",
   "parameters": {
    "output_dir": "output",
    "run_no": "3",
    "seed": "2023",
    "universe": "{\"cutoff\": [\"quantile_0.1\", \"quantile_0.25\"], \"eval_fairness_grouping\": [\"majority-minority\", \"nationality-all\"], \"exclude_features\": \"age\", \"exclude_subgroups\": \"drop-non-german\", \"model\": \"rf\", \"scale\": \"do-not-scale\", \"training_size\": \"5k\", \"training_year\": \"2014\"}",
    "universe_id": "9286b7b192415fda9384e2894511f027"
   },
   "start_time": "2025-08-19T18:29:01.692917",
   "version": "2.6.0"
  }
 },
 "nbformat": 4,
 "nbformat_minor": 5
}