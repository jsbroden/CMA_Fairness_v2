{
 "cells": [
  {
   "cell_type": "markdown",
   "id": "ef23dbb3",
   "metadata": {
    "papermill": {
     "duration": 0.02211,
     "end_time": "2025-08-19T17:58:40.956858",
     "exception": false,
     "start_time": "2025-08-19T17:58:40.934748",
     "status": "completed"
    },
    "tags": []
   },
   "source": [
    "# Setup"
   ]
  },
  {
   "cell_type": "code",
   "execution_count": 1,
   "id": "0bc8e7dc",
   "metadata": {
    "execution": {
     "iopub.execute_input": "2025-08-19T17:58:40.981560Z",
     "iopub.status.busy": "2025-08-19T17:58:40.980335Z",
     "iopub.status.idle": "2025-08-19T17:58:41.000026Z",
     "shell.execute_reply": "2025-08-19T17:58:40.998982Z"
    },
    "papermill": {
     "duration": 0.033117,
     "end_time": "2025-08-19T17:58:41.001692",
     "exception": false,
     "start_time": "2025-08-19T17:58:40.968575",
     "status": "completed"
    },
    "tags": []
   },
   "outputs": [
    {
     "name": "stdout",
     "output_type": "stream",
     "text": [
      "/dss/dsshome1/0C/ra93lal2/cma/CMA_Fairness_v2\n"
     ]
    },
    {
     "name": "stderr",
     "output_type": "stream",
     "text": [
      "/dss/dsshome1/0C/ra93lal2/.local/share/virtualenvs/CMA_Fairness_v2-3j10GkSs/lib/python3.10/site-packages/IPython/core/magics/osm.py:393: UserWarning: This is now an optional IPython functionality, using bookmarks requires you to install the `pickleshare` library.\n",
      "  bkms = self.shell.db.get('bookmarks', {})\n",
      "/dss/dsshome1/0C/ra93lal2/.local/share/virtualenvs/CMA_Fairness_v2-3j10GkSs/lib/python3.10/site-packages/IPython/core/magics/osm.py:417: UserWarning: This is now an optional IPython functionality, setting dhist requires you to install the `pickleshare` library.\n",
      "  self.shell.db['dhist'] = compress_dhist(dhist)[-100:]\n"
     ]
    }
   ],
   "source": [
    "%cd ~/cma/CMA_Fairness_v2"
   ]
  },
  {
   "cell_type": "markdown",
   "id": "9d235661",
   "metadata": {
    "papermill": {
     "duration": 0.009346,
     "end_time": "2025-08-19T17:58:41.023226",
     "exception": false,
     "start_time": "2025-08-19T17:58:41.013880",
     "status": "completed"
    },
    "tags": []
   },
   "source": [
    "The following cell holds the definition of our parameters, these values can be overriden by rendering the with e.g. the following command:\n",
    "\n",
    "papermill -p alpha 0.2 -p ratio 0.3 universe_analysis.ipynb output/test_run.ipynb"
   ]
  },
  {
   "cell_type": "code",
   "execution_count": 2,
   "id": "4a789d8e",
   "metadata": {
    "execution": {
     "iopub.execute_input": "2025-08-19T17:58:41.042310Z",
     "iopub.status.busy": "2025-08-19T17:58:41.041855Z",
     "iopub.status.idle": "2025-08-19T17:58:41.046443Z",
     "shell.execute_reply": "2025-08-19T17:58:41.045510Z"
    },
    "papermill": {
     "duration": 0.016247,
     "end_time": "2025-08-19T17:58:41.048249",
     "exception": false,
     "start_time": "2025-08-19T17:58:41.032002",
     "status": "completed"
    },
    "tags": []
   },
   "outputs": [
    {
     "name": "stdout",
     "output_type": "stream",
     "text": [
      "Current working directory: /dss/dsshome1/0C/ra93lal2/cma/CMA_Fairness_v2\n"
     ]
    }
   ],
   "source": [
    "import os\n",
    "print(\"Current working directory:\", os.getcwd())"
   ]
  },
  {
   "cell_type": "code",
   "execution_count": 3,
   "id": "4132aaed",
   "metadata": {
    "execution": {
     "iopub.execute_input": "2025-08-19T17:58:41.071022Z",
     "iopub.status.busy": "2025-08-19T17:58:41.069472Z",
     "iopub.status.idle": "2025-08-19T17:58:41.079689Z",
     "shell.execute_reply": "2025-08-19T17:58:41.078394Z"
    },
    "papermill": {
     "duration": 0.023984,
     "end_time": "2025-08-19T17:58:41.081918",
     "exception": false,
     "start_time": "2025-08-19T17:58:41.057934",
     "status": "completed"
    },
    "tags": [
     "parameters"
    ]
   },
   "outputs": [],
   "source": [
    "run_no = 0\n",
    "universe_id = \"test\"\n",
    "universe = {\n",
    "    \"training_size\": \"5k\", # \"25k\", \"5k\", \"1k\"\n",
    "    \"training_year\": \"2012_14\", # \"2014\", \"2012_14\", \"2010_14\"\n",
    "    \"scale\": \"scale\", # \"scale\", \"do-not-scale\",\n",
    "    \"model\": \"elasticnet\", # \"logreg\", \"penalized_logreg\", \"rf\", \"gbm\", \"elasticnet\"\n",
    "    \"cutoff\": [\"quantile_0.15\", \"quantile_0.30\"],\n",
    "    \"exclude_features\": \"age\", # \"none\", \"nationality\", \"sex\", \"nationality-sex\", \"age\"\n",
    "    \"exclude_subgroups\": \"drop-non-german\", # \"keep-all\", \"drop-non-german\"\n",
    "    \"eval_fairness_grouping\": [\"majority-minority\", \"nationality-all\"]\n",
    "}\n",
    "\n",
    "output_dir=\"./output\"\n",
    "seed=0"
   ]
  },
  {
   "cell_type": "code",
   "execution_count": 4,
   "id": "c84e3519",
   "metadata": {
    "execution": {
     "iopub.execute_input": "2025-08-19T17:58:41.108071Z",
     "iopub.status.busy": "2025-08-19T17:58:41.106893Z",
     "iopub.status.idle": "2025-08-19T17:58:41.128261Z",
     "shell.execute_reply": "2025-08-19T17:58:41.127130Z"
    },
    "papermill": {
     "duration": 0.034917,
     "end_time": "2025-08-19T17:58:41.130359",
     "exception": false,
     "start_time": "2025-08-19T17:58:41.095442",
     "status": "completed"
    },
    "tags": [
     "injected-parameters"
    ]
   },
   "outputs": [],
   "source": [
    "# Parameters\n",
    "universe_id = \"98747486137f37cf92985a39255d4805\"\n",
    "run_no = \"3\"\n",
    "universe = \"{\\\"cutoff\\\": [\\\"quantile_0.1\\\", \\\"quantile_0.25\\\"], \\\"eval_fairness_grouping\\\": [\\\"majority-minority\\\", \\\"nationality-all\\\"], \\\"exclude_features\\\": \\\"nationality\\\", \\\"exclude_subgroups\\\": \\\"keep-all\\\", \\\"model\\\": \\\"penalized_logreg\\\", \\\"scale\\\": \\\"do-not-scale\\\", \\\"training_size\\\": \\\"25k\\\", \\\"training_year\\\": \\\"2014\\\"}\"\n",
    "output_dir = \"output\"\n",
    "seed = \"2023\"\n"
   ]
  },
  {
   "cell_type": "code",
   "execution_count": 5,
   "id": "a5d7941f",
   "metadata": {
    "execution": {
     "iopub.execute_input": "2025-08-19T17:58:41.158622Z",
     "iopub.status.busy": "2025-08-19T17:58:41.158129Z",
     "iopub.status.idle": "2025-08-19T17:58:41.163069Z",
     "shell.execute_reply": "2025-08-19T17:58:41.162225Z"
    },
    "papermill": {
     "duration": 0.018144,
     "end_time": "2025-08-19T17:58:41.164598",
     "exception": false,
     "start_time": "2025-08-19T17:58:41.146454",
     "status": "completed"
    },
    "tags": []
   },
   "outputs": [],
   "source": [
    "import json\n",
    "if isinstance(universe, str):\n",
    "    universe = json.loads(universe)"
   ]
  },
  {
   "cell_type": "code",
   "execution_count": 6,
   "id": "7076ccb1",
   "metadata": {
    "execution": {
     "iopub.execute_input": "2025-08-19T17:58:41.185321Z",
     "iopub.status.busy": "2025-08-19T17:58:41.184879Z",
     "iopub.status.idle": "2025-08-19T17:58:41.220896Z",
     "shell.execute_reply": "2025-08-19T17:58:41.220005Z"
    },
    "papermill": {
     "duration": 0.049231,
     "end_time": "2025-08-19T17:58:41.223520",
     "exception": false,
     "start_time": "2025-08-19T17:58:41.174289",
     "status": "completed"
    },
    "tags": []
   },
   "outputs": [],
   "source": [
    "# Auto-reload the custom package\n",
    "%load_ext autoreload\n",
    "%autoreload 1\n",
    "%aimport fairness_multiverse"
   ]
  },
  {
   "cell_type": "code",
   "execution_count": 7,
   "id": "94c8eb93",
   "metadata": {
    "execution": {
     "iopub.execute_input": "2025-08-19T17:58:41.259354Z",
     "iopub.status.busy": "2025-08-19T17:58:41.258849Z",
     "iopub.status.idle": "2025-08-19T17:58:42.848644Z",
     "shell.execute_reply": "2025-08-19T17:58:42.847554Z"
    },
    "papermill": {
     "duration": 1.605237,
     "end_time": "2025-08-19T17:58:42.850355",
     "exception": false,
     "start_time": "2025-08-19T17:58:41.245118",
     "status": "completed"
    },
    "tags": []
   },
   "outputs": [],
   "source": [
    "from fairness_multiverse.universe import UniverseAnalysis\n",
    "\n",
    "universe_analysis = UniverseAnalysis(\n",
    "    run_no = run_no,\n",
    "    universe_id = universe_id,\n",
    "    universe = universe,\n",
    "    output_dir=output_dir,\n",
    ")"
   ]
  },
  {
   "cell_type": "code",
   "execution_count": 8,
   "id": "2a6381cf",
   "metadata": {
    "execution": {
     "iopub.execute_input": "2025-08-19T17:58:42.871208Z",
     "iopub.status.busy": "2025-08-19T17:58:42.870882Z",
     "iopub.status.idle": "2025-08-19T17:58:42.877052Z",
     "shell.execute_reply": "2025-08-19T17:58:42.876102Z"
    },
    "papermill": {
     "duration": 0.019047,
     "end_time": "2025-08-19T17:58:42.879169",
     "exception": false,
     "start_time": "2025-08-19T17:58:42.860122",
     "status": "completed"
    },
    "tags": []
   },
   "outputs": [
    {
     "name": "stdout",
     "output_type": "stream",
     "text": [
      "Using Seed: 2023\n"
     ]
    }
   ],
   "source": [
    "import numpy as np\n",
    "parsed_seed = int(seed)\n",
    "np.random.seed(parsed_seed)\n",
    "print(f\"Using Seed: {parsed_seed}\")"
   ]
  },
  {
   "cell_type": "markdown",
   "id": "b6e958b4",
   "metadata": {
    "papermill": {
     "duration": 0.012581,
     "end_time": "2025-08-19T17:58:42.901899",
     "exception": false,
     "start_time": "2025-08-19T17:58:42.889318",
     "status": "completed"
    },
    "tags": []
   },
   "source": [
    "# Loading Data"
   ]
  },
  {
   "cell_type": "code",
   "execution_count": 9,
   "id": "98701482",
   "metadata": {
    "execution": {
     "iopub.execute_input": "2025-08-19T17:58:42.926027Z",
     "iopub.status.busy": "2025-08-19T17:58:42.924575Z",
     "iopub.status.idle": "2025-08-19T17:58:53.573423Z",
     "shell.execute_reply": "2025-08-19T17:58:53.570601Z"
    },
    "papermill": {
     "duration": 10.663,
     "end_time": "2025-08-19T17:58:53.575352",
     "exception": false,
     "start_time": "2025-08-19T17:58:42.912352",
     "status": "completed"
    },
    "tags": []
   },
   "outputs": [
    {
     "name": "stdout",
     "output_type": "stream",
     "text": [
      "Loading SIAB data from cache: data/siab_cached.csv.gz\n"
     ]
    },
    {
     "name": "stdout",
     "output_type": "stream",
     "text": [
      "(643690, 164)\n"
     ]
    }
   ],
   "source": [
    "from pathlib import Path\n",
    "import pandas as pd\n",
    "\n",
    "# File paths\n",
    "raw_file = Path(\"data/raw/siab.csv\")\n",
    "cache_file = Path(\"data/siab_cached.csv.gz\")\n",
    "\n",
    "# Ensure cache directory exists\n",
    "cache_file.parent.mkdir(parents=True, exist_ok=True)\n",
    "\n",
    "# Load with simple caching\n",
    "if cache_file.exists():\n",
    "    print(f\"Loading SIAB data from cache: {cache_file}\")\n",
    "    siab = pd.read_csv(cache_file, compression='gzip')\n",
    "else:\n",
    "    print(f\"Cache not found. Reading raw SIAB data: {raw_file}\")\n",
    "    siab = pd.read_csv(raw_file)\n",
    "    siab.to_csv(cache_file, index=False, compression='gzip')\n",
    "    print(f\"Cached SIAB data to: {cache_file}\")\n",
    "\n",
    "print(siab.shape)"
   ]
  },
  {
   "cell_type": "code",
   "execution_count": 10,
   "id": "058d2abb",
   "metadata": {
    "execution": {
     "iopub.execute_input": "2025-08-19T17:58:53.618353Z",
     "iopub.status.busy": "2025-08-19T17:58:53.616899Z",
     "iopub.status.idle": "2025-08-19T17:58:53.783830Z",
     "shell.execute_reply": "2025-08-19T17:58:53.782877Z"
    },
    "papermill": {
     "duration": 0.185644,
     "end_time": "2025-08-19T17:58:53.785223",
     "exception": false,
     "start_time": "2025-08-19T17:58:53.599579",
     "status": "completed"
    },
    "tags": []
   },
   "outputs": [
    {
     "data": {
      "text/html": [
       "<div>\n",
       "<style scoped>\n",
       "    .dataframe tbody tr th:only-of-type {\n",
       "        vertical-align: middle;\n",
       "    }\n",
       "\n",
       "    .dataframe tbody tr th {\n",
       "        vertical-align: top;\n",
       "    }\n",
       "\n",
       "    .dataframe thead th {\n",
       "        text-align: right;\n",
       "    }\n",
       "</style>\n",
       "<table border=\"1\" class=\"dataframe\">\n",
       "  <thead>\n",
       "    <tr style=\"text-align: right;\">\n",
       "      <th></th>\n",
       "      <th>persnr</th>\n",
       "      <th>year</th>\n",
       "      <th>nrEntry</th>\n",
       "      <th>ltue</th>\n",
       "      <th>employed_before</th>\n",
       "      <th>receipt_leh_before</th>\n",
       "      <th>receipt_lhg_before</th>\n",
       "      <th>se_before</th>\n",
       "      <th>ASU_notue_seeking_before</th>\n",
       "      <th>ASU_other_before</th>\n",
       "      <th>...</th>\n",
       "      <th>minijob_tot_dur_byage</th>\n",
       "      <th>ft_tot_dur_byage</th>\n",
       "      <th>befrist_tot_dur_byage</th>\n",
       "      <th>leih_tot_dur_byage</th>\n",
       "      <th>LHG_tot_dur_byage</th>\n",
       "      <th>LEH_tot_dur_byage</th>\n",
       "      <th>almp_tot_dur_byage</th>\n",
       "      <th>almp_aw_tot_dur_byage</th>\n",
       "      <th>se_tot_dur_byage</th>\n",
       "      <th>seeking1_tot_dur_byage</th>\n",
       "    </tr>\n",
       "  </thead>\n",
       "  <tbody>\n",
       "    <tr>\n",
       "      <th>0</th>\n",
       "      <td>7</td>\n",
       "      <td>2015</td>\n",
       "      <td>1</td>\n",
       "      <td>0</td>\n",
       "      <td>1</td>\n",
       "      <td>0</td>\n",
       "      <td>0</td>\n",
       "      <td>0</td>\n",
       "      <td>1</td>\n",
       "      <td>0</td>\n",
       "      <td>...</td>\n",
       "      <td>0.000000</td>\n",
       "      <td>0.000000</td>\n",
       "      <td>15.043478</td>\n",
       "      <td>0.000000</td>\n",
       "      <td>0.000000</td>\n",
       "      <td>0.000000</td>\n",
       "      <td>0.000000</td>\n",
       "      <td>0.000000</td>\n",
       "      <td>0.000000</td>\n",
       "      <td>0.000000</td>\n",
       "    </tr>\n",
       "    <tr>\n",
       "      <th>1</th>\n",
       "      <td>18</td>\n",
       "      <td>2010</td>\n",
       "      <td>1</td>\n",
       "      <td>1</td>\n",
       "      <td>0</td>\n",
       "      <td>0</td>\n",
       "      <td>0</td>\n",
       "      <td>0</td>\n",
       "      <td>0</td>\n",
       "      <td>0</td>\n",
       "      <td>...</td>\n",
       "      <td>0.000000</td>\n",
       "      <td>0.000000</td>\n",
       "      <td>0.000000</td>\n",
       "      <td>0.000000</td>\n",
       "      <td>0.000000</td>\n",
       "      <td>0.000000</td>\n",
       "      <td>0.000000</td>\n",
       "      <td>0.000000</td>\n",
       "      <td>0.000000</td>\n",
       "      <td>0.000000</td>\n",
       "    </tr>\n",
       "    <tr>\n",
       "      <th>2</th>\n",
       "      <td>18</td>\n",
       "      <td>2011</td>\n",
       "      <td>2</td>\n",
       "      <td>0</td>\n",
       "      <td>1</td>\n",
       "      <td>0</td>\n",
       "      <td>1</td>\n",
       "      <td>0</td>\n",
       "      <td>1</td>\n",
       "      <td>0</td>\n",
       "      <td>...</td>\n",
       "      <td>2.714286</td>\n",
       "      <td>2.714286</td>\n",
       "      <td>0.000000</td>\n",
       "      <td>0.000000</td>\n",
       "      <td>10.775510</td>\n",
       "      <td>0.000000</td>\n",
       "      <td>8.367347</td>\n",
       "      <td>0.000000</td>\n",
       "      <td>0.000000</td>\n",
       "      <td>9.836735</td>\n",
       "    </tr>\n",
       "    <tr>\n",
       "      <th>3</th>\n",
       "      <td>18</td>\n",
       "      <td>2012</td>\n",
       "      <td>3</td>\n",
       "      <td>0</td>\n",
       "      <td>1</td>\n",
       "      <td>0</td>\n",
       "      <td>1</td>\n",
       "      <td>0</td>\n",
       "      <td>1</td>\n",
       "      <td>0</td>\n",
       "      <td>...</td>\n",
       "      <td>4.200000</td>\n",
       "      <td>4.200000</td>\n",
       "      <td>0.000000</td>\n",
       "      <td>0.000000</td>\n",
       "      <td>12.100000</td>\n",
       "      <td>0.000000</td>\n",
       "      <td>9.400000</td>\n",
       "      <td>0.000000</td>\n",
       "      <td>0.000000</td>\n",
       "      <td>9.960000</td>\n",
       "    </tr>\n",
       "    <tr>\n",
       "      <th>4</th>\n",
       "      <td>18</td>\n",
       "      <td>2012</td>\n",
       "      <td>4</td>\n",
       "      <td>0</td>\n",
       "      <td>1</td>\n",
       "      <td>0</td>\n",
       "      <td>1</td>\n",
       "      <td>0</td>\n",
       "      <td>1</td>\n",
       "      <td>0</td>\n",
       "      <td>...</td>\n",
       "      <td>5.460000</td>\n",
       "      <td>5.460000</td>\n",
       "      <td>0.000000</td>\n",
       "      <td>0.000000</td>\n",
       "      <td>13.360000</td>\n",
       "      <td>0.000000</td>\n",
       "      <td>10.320000</td>\n",
       "      <td>0.000000</td>\n",
       "      <td>0.000000</td>\n",
       "      <td>10.280000</td>\n",
       "    </tr>\n",
       "    <tr>\n",
       "      <th>...</th>\n",
       "      <td>...</td>\n",
       "      <td>...</td>\n",
       "      <td>...</td>\n",
       "      <td>...</td>\n",
       "      <td>...</td>\n",
       "      <td>...</td>\n",
       "      <td>...</td>\n",
       "      <td>...</td>\n",
       "      <td>...</td>\n",
       "      <td>...</td>\n",
       "      <td>...</td>\n",
       "      <td>...</td>\n",
       "      <td>...</td>\n",
       "      <td>...</td>\n",
       "      <td>...</td>\n",
       "      <td>...</td>\n",
       "      <td>...</td>\n",
       "      <td>...</td>\n",
       "      <td>...</td>\n",
       "      <td>...</td>\n",
       "      <td>...</td>\n",
       "    </tr>\n",
       "    <tr>\n",
       "      <th>643685</th>\n",
       "      <td>1827860</td>\n",
       "      <td>2013</td>\n",
       "      <td>1</td>\n",
       "      <td>0</td>\n",
       "      <td>0</td>\n",
       "      <td>0</td>\n",
       "      <td>1</td>\n",
       "      <td>0</td>\n",
       "      <td>0</td>\n",
       "      <td>1</td>\n",
       "      <td>...</td>\n",
       "      <td>0.000000</td>\n",
       "      <td>0.000000</td>\n",
       "      <td>0.000000</td>\n",
       "      <td>0.000000</td>\n",
       "      <td>0.612903</td>\n",
       "      <td>0.000000</td>\n",
       "      <td>0.000000</td>\n",
       "      <td>0.000000</td>\n",
       "      <td>0.000000</td>\n",
       "      <td>0.000000</td>\n",
       "    </tr>\n",
       "    <tr>\n",
       "      <th>643686</th>\n",
       "      <td>1827860</td>\n",
       "      <td>2015</td>\n",
       "      <td>2</td>\n",
       "      <td>1</td>\n",
       "      <td>0</td>\n",
       "      <td>0</td>\n",
       "      <td>1</td>\n",
       "      <td>0</td>\n",
       "      <td>1</td>\n",
       "      <td>0</td>\n",
       "      <td>...</td>\n",
       "      <td>0.000000</td>\n",
       "      <td>0.000000</td>\n",
       "      <td>0.212121</td>\n",
       "      <td>0.212121</td>\n",
       "      <td>17.363636</td>\n",
       "      <td>0.000000</td>\n",
       "      <td>8.909091</td>\n",
       "      <td>0.000000</td>\n",
       "      <td>0.000000</td>\n",
       "      <td>7.121212</td>\n",
       "    </tr>\n",
       "    <tr>\n",
       "      <th>643687</th>\n",
       "      <td>1827860</td>\n",
       "      <td>2016</td>\n",
       "      <td>3</td>\n",
       "      <td>1</td>\n",
       "      <td>0</td>\n",
       "      <td>0</td>\n",
       "      <td>1</td>\n",
       "      <td>1</td>\n",
       "      <td>0</td>\n",
       "      <td>1</td>\n",
       "      <td>...</td>\n",
       "      <td>0.000000</td>\n",
       "      <td>0.000000</td>\n",
       "      <td>0.294118</td>\n",
       "      <td>0.205882</td>\n",
       "      <td>34.705882</td>\n",
       "      <td>0.000000</td>\n",
       "      <td>10.352941</td>\n",
       "      <td>1.705882</td>\n",
       "      <td>1.705882</td>\n",
       "      <td>23.911765</td>\n",
       "    </tr>\n",
       "    <tr>\n",
       "      <th>643688</th>\n",
       "      <td>1827869</td>\n",
       "      <td>2013</td>\n",
       "      <td>1</td>\n",
       "      <td>1</td>\n",
       "      <td>1</td>\n",
       "      <td>0</td>\n",
       "      <td>0</td>\n",
       "      <td>0</td>\n",
       "      <td>1</td>\n",
       "      <td>0</td>\n",
       "      <td>...</td>\n",
       "      <td>0.000000</td>\n",
       "      <td>0.000000</td>\n",
       "      <td>0.000000</td>\n",
       "      <td>0.000000</td>\n",
       "      <td>0.000000</td>\n",
       "      <td>0.525424</td>\n",
       "      <td>0.000000</td>\n",
       "      <td>0.000000</td>\n",
       "      <td>0.000000</td>\n",
       "      <td>0.000000</td>\n",
       "    </tr>\n",
       "    <tr>\n",
       "      <th>643689</th>\n",
       "      <td>1827869</td>\n",
       "      <td>2014</td>\n",
       "      <td>2</td>\n",
       "      <td>0</td>\n",
       "      <td>0</td>\n",
       "      <td>1</td>\n",
       "      <td>0</td>\n",
       "      <td>0</td>\n",
       "      <td>1</td>\n",
       "      <td>0</td>\n",
       "      <td>...</td>\n",
       "      <td>0.000000</td>\n",
       "      <td>0.666667</td>\n",
       "      <td>0.666667</td>\n",
       "      <td>0.000000</td>\n",
       "      <td>0.000000</td>\n",
       "      <td>8.950000</td>\n",
       "      <td>1.033333</td>\n",
       "      <td>0.083333</td>\n",
       "      <td>0.083333</td>\n",
       "      <td>8.133333</td>\n",
       "    </tr>\n",
       "  </tbody>\n",
       "</table>\n",
       "<p>643690 rows × 164 columns</p>\n",
       "</div>"
      ],
      "text/plain": [
       "         persnr  year  nrEntry  ltue  employed_before  receipt_leh_before  \\\n",
       "0             7  2015        1     0                1                   0   \n",
       "1            18  2010        1     1                0                   0   \n",
       "2            18  2011        2     0                1                   0   \n",
       "3            18  2012        3     0                1                   0   \n",
       "4            18  2012        4     0                1                   0   \n",
       "...         ...   ...      ...   ...              ...                 ...   \n",
       "643685  1827860  2013        1     0                0                   0   \n",
       "643686  1827860  2015        2     1                0                   0   \n",
       "643687  1827860  2016        3     1                0                   0   \n",
       "643688  1827869  2013        1     1                1                   0   \n",
       "643689  1827869  2014        2     0                0                   1   \n",
       "\n",
       "        receipt_lhg_before  se_before  ASU_notue_seeking_before  \\\n",
       "0                        0          0                         1   \n",
       "1                        0          0                         0   \n",
       "2                        1          0                         1   \n",
       "3                        1          0                         1   \n",
       "4                        1          0                         1   \n",
       "...                    ...        ...                       ...   \n",
       "643685                   1          0                         0   \n",
       "643686                   1          0                         1   \n",
       "643687                   1          1                         0   \n",
       "643688                   0          0                         1   \n",
       "643689                   0          0                         1   \n",
       "\n",
       "        ASU_other_before  ...  minijob_tot_dur_byage  ft_tot_dur_byage  \\\n",
       "0                      0  ...               0.000000          0.000000   \n",
       "1                      0  ...               0.000000          0.000000   \n",
       "2                      0  ...               2.714286          2.714286   \n",
       "3                      0  ...               4.200000          4.200000   \n",
       "4                      0  ...               5.460000          5.460000   \n",
       "...                  ...  ...                    ...               ...   \n",
       "643685                 1  ...               0.000000          0.000000   \n",
       "643686                 0  ...               0.000000          0.000000   \n",
       "643687                 1  ...               0.000000          0.000000   \n",
       "643688                 0  ...               0.000000          0.000000   \n",
       "643689                 0  ...               0.000000          0.666667   \n",
       "\n",
       "        befrist_tot_dur_byage  leih_tot_dur_byage  LHG_tot_dur_byage  \\\n",
       "0                   15.043478            0.000000           0.000000   \n",
       "1                    0.000000            0.000000           0.000000   \n",
       "2                    0.000000            0.000000          10.775510   \n",
       "3                    0.000000            0.000000          12.100000   \n",
       "4                    0.000000            0.000000          13.360000   \n",
       "...                       ...                 ...                ...   \n",
       "643685               0.000000            0.000000           0.612903   \n",
       "643686               0.212121            0.212121          17.363636   \n",
       "643687               0.294118            0.205882          34.705882   \n",
       "643688               0.000000            0.000000           0.000000   \n",
       "643689               0.666667            0.000000           0.000000   \n",
       "\n",
       "        LEH_tot_dur_byage  almp_tot_dur_byage  almp_aw_tot_dur_byage  \\\n",
       "0                0.000000            0.000000               0.000000   \n",
       "1                0.000000            0.000000               0.000000   \n",
       "2                0.000000            8.367347               0.000000   \n",
       "3                0.000000            9.400000               0.000000   \n",
       "4                0.000000           10.320000               0.000000   \n",
       "...                   ...                 ...                    ...   \n",
       "643685           0.000000            0.000000               0.000000   \n",
       "643686           0.000000            8.909091               0.000000   \n",
       "643687           0.000000           10.352941               1.705882   \n",
       "643688           0.525424            0.000000               0.000000   \n",
       "643689           8.950000            1.033333               0.083333   \n",
       "\n",
       "        se_tot_dur_byage  seeking1_tot_dur_byage  \n",
       "0               0.000000                0.000000  \n",
       "1               0.000000                0.000000  \n",
       "2               0.000000                9.836735  \n",
       "3               0.000000                9.960000  \n",
       "4               0.000000               10.280000  \n",
       "...                  ...                     ...  \n",
       "643685          0.000000                0.000000  \n",
       "643686          0.000000                7.121212  \n",
       "643687          1.705882               23.911765  \n",
       "643688          0.000000                0.000000  \n",
       "643689          0.083333                8.133333  \n",
       "\n",
       "[643690 rows x 164 columns]"
      ]
     },
     "execution_count": 10,
     "metadata": {},
     "output_type": "execute_result"
    }
   ],
   "source": [
    "siab"
   ]
  },
  {
   "cell_type": "markdown",
   "id": "1f87e805",
   "metadata": {
    "papermill": {
     "duration": 0.009674,
     "end_time": "2025-08-19T17:58:53.805778",
     "exception": false,
     "start_time": "2025-08-19T17:58:53.796104",
     "status": "completed"
    },
    "tags": []
   },
   "source": [
    "# Splitting Data and Setting Training Data Size"
   ]
  },
  {
   "cell_type": "code",
   "execution_count": 11,
   "id": "910ae358",
   "metadata": {
    "execution": {
     "iopub.execute_input": "2025-08-19T17:58:53.827952Z",
     "iopub.status.busy": "2025-08-19T17:58:53.826602Z",
     "iopub.status.idle": "2025-08-19T17:58:54.179302Z",
     "shell.execute_reply": "2025-08-19T17:58:54.178317Z"
    },
    "papermill": {
     "duration": 0.365744,
     "end_time": "2025-08-19T17:58:54.181117",
     "exception": false,
     "start_time": "2025-08-19T17:58:53.815373",
     "status": "completed"
    },
    "tags": []
   },
   "outputs": [],
   "source": [
    "from fairness_multiverse.universe import sample_by_year_size\n",
    "\n",
    "siab_train = sample_by_year_size(siab,\n",
    "                               training_year=universe[\"training_year\"],\n",
    "                               training_size=universe[\"training_size\"])"
   ]
  },
  {
   "cell_type": "code",
   "execution_count": 12,
   "id": "919c8ff5",
   "metadata": {
    "execution": {
     "iopub.execute_input": "2025-08-19T17:58:54.213915Z",
     "iopub.status.busy": "2025-08-19T17:58:54.211868Z",
     "iopub.status.idle": "2025-08-19T17:58:54.226798Z",
     "shell.execute_reply": "2025-08-19T17:58:54.225924Z"
    },
    "papermill": {
     "duration": 0.035005,
     "end_time": "2025-08-19T17:58:54.228884",
     "exception": false,
     "start_time": "2025-08-19T17:58:54.193879",
     "status": "completed"
    },
    "tags": []
   },
   "outputs": [
    {
     "data": {
      "text/plain": [
       "(25000, 164)"
      ]
     },
     "execution_count": 12,
     "metadata": {},
     "output_type": "execute_result"
    }
   ],
   "source": [
    "siab_train.shape"
   ]
  },
  {
   "cell_type": "code",
   "execution_count": 13,
   "id": "feb13bf4",
   "metadata": {
    "execution": {
     "iopub.execute_input": "2025-08-19T17:58:54.252251Z",
     "iopub.status.busy": "2025-08-19T17:58:54.251922Z",
     "iopub.status.idle": "2025-08-19T17:58:54.259483Z",
     "shell.execute_reply": "2025-08-19T17:58:54.258904Z"
    },
    "papermill": {
     "duration": 0.020265,
     "end_time": "2025-08-19T17:58:54.261591",
     "exception": false,
     "start_time": "2025-08-19T17:58:54.241326",
     "status": "completed"
    },
    "tags": []
   },
   "outputs": [
    {
     "data": {
      "text/plain": [
       "year\n",
       "2014    25000\n",
       "dtype: int64"
      ]
     },
     "metadata": {},
     "output_type": "display_data"
    }
   ],
   "source": [
    "display(siab_train.groupby(\"year\").size())"
   ]
  },
  {
   "cell_type": "code",
   "execution_count": 14,
   "id": "0997782f",
   "metadata": {
    "execution": {
     "iopub.execute_input": "2025-08-19T17:58:54.282189Z",
     "iopub.status.busy": "2025-08-19T17:58:54.281860Z",
     "iopub.status.idle": "2025-08-19T17:58:54.567568Z",
     "shell.execute_reply": "2025-08-19T17:58:54.566891Z"
    },
    "papermill": {
     "duration": 0.297925,
     "end_time": "2025-08-19T17:58:54.569362",
     "exception": false,
     "start_time": "2025-08-19T17:58:54.271437",
     "status": "completed"
    },
    "tags": []
   },
   "outputs": [],
   "source": [
    "#siab_train = siab_s[siab_s.year < 2015]\n",
    "siab_calib = siab[siab.year == 2015]\n",
    "siab_test = siab[siab.year == 2016]"
   ]
  },
  {
   "cell_type": "code",
   "execution_count": 15,
   "id": "2c1e4012",
   "metadata": {
    "execution": {
     "iopub.execute_input": "2025-08-19T17:58:54.590433Z",
     "iopub.status.busy": "2025-08-19T17:58:54.590072Z",
     "iopub.status.idle": "2025-08-19T17:58:54.593753Z",
     "shell.execute_reply": "2025-08-19T17:58:54.593181Z"
    },
    "papermill": {
     "duration": 0.015482,
     "end_time": "2025-08-19T17:58:54.595106",
     "exception": false,
     "start_time": "2025-08-19T17:58:54.579624",
     "status": "completed"
    },
    "tags": []
   },
   "outputs": [],
   "source": [
    "#siab_calib.shape"
   ]
  },
  {
   "cell_type": "code",
   "execution_count": 16,
   "id": "f66b54ca",
   "metadata": {
    "execution": {
     "iopub.execute_input": "2025-08-19T17:58:54.615653Z",
     "iopub.status.busy": "2025-08-19T17:58:54.615351Z",
     "iopub.status.idle": "2025-08-19T17:58:54.618629Z",
     "shell.execute_reply": "2025-08-19T17:58:54.618067Z"
    },
    "papermill": {
     "duration": 0.014835,
     "end_time": "2025-08-19T17:58:54.619986",
     "exception": false,
     "start_time": "2025-08-19T17:58:54.605151",
     "status": "completed"
    },
    "tags": []
   },
   "outputs": [],
   "source": [
    "#siab_test.shape"
   ]
  },
  {
   "cell_type": "code",
   "execution_count": 17,
   "id": "27e4384d",
   "metadata": {
    "execution": {
     "iopub.execute_input": "2025-08-19T17:58:54.640366Z",
     "iopub.status.busy": "2025-08-19T17:58:54.640083Z",
     "iopub.status.idle": "2025-08-19T17:58:54.682684Z",
     "shell.execute_reply": "2025-08-19T17:58:54.681813Z"
    },
    "papermill": {
     "duration": 0.05404,
     "end_time": "2025-08-19T17:58:54.683959",
     "exception": false,
     "start_time": "2025-08-19T17:58:54.629919",
     "status": "completed"
    },
    "tags": []
   },
   "outputs": [],
   "source": [
    "X_train = siab_train.iloc[:,4:164]\n",
    "y_train = siab_train.iloc[:, [3]]"
   ]
  },
  {
   "cell_type": "code",
   "execution_count": 18,
   "id": "08ee8389",
   "metadata": {
    "execution": {
     "iopub.execute_input": "2025-08-19T17:58:54.714874Z",
     "iopub.status.busy": "2025-08-19T17:58:54.714487Z",
     "iopub.status.idle": "2025-08-19T17:58:54.794925Z",
     "shell.execute_reply": "2025-08-19T17:58:54.794054Z"
    },
    "papermill": {
     "duration": 0.100345,
     "end_time": "2025-08-19T17:58:54.797512",
     "exception": false,
     "start_time": "2025-08-19T17:58:54.697167",
     "status": "completed"
    },
    "tags": []
   },
   "outputs": [],
   "source": [
    "X_calib = siab_calib.iloc[:,4:164]\n",
    "y_calib = siab_calib.iloc[:, [3]]"
   ]
  },
  {
   "cell_type": "code",
   "execution_count": 19,
   "id": "b7ff42e0",
   "metadata": {
    "execution": {
     "iopub.execute_input": "2025-08-19T17:58:54.832631Z",
     "iopub.status.busy": "2025-08-19T17:58:54.831745Z",
     "iopub.status.idle": "2025-08-19T17:58:54.903401Z",
     "shell.execute_reply": "2025-08-19T17:58:54.902084Z"
    },
    "papermill": {
     "duration": 0.087388,
     "end_time": "2025-08-19T17:58:54.906210",
     "exception": false,
     "start_time": "2025-08-19T17:58:54.818822",
     "status": "completed"
    },
    "tags": []
   },
   "outputs": [],
   "source": [
    "X_test = siab_test.iloc[:,4:164]\n",
    "y_true = siab_test.iloc[:, [3]]"
   ]
  },
  {
   "cell_type": "code",
   "execution_count": 20,
   "id": "0275101e",
   "metadata": {
    "execution": {
     "iopub.execute_input": "2025-08-19T17:58:54.943110Z",
     "iopub.status.busy": "2025-08-19T17:58:54.942083Z",
     "iopub.status.idle": "2025-08-19T17:58:55.081050Z",
     "shell.execute_reply": "2025-08-19T17:58:55.080359Z"
    },
    "papermill": {
     "duration": 0.165277,
     "end_time": "2025-08-19T17:58:55.093957",
     "exception": false,
     "start_time": "2025-08-19T17:58:54.928680",
     "status": "completed"
    },
    "tags": []
   },
   "outputs": [],
   "source": [
    "# Auxiliary data needed downstream in the pipeline\n",
    "\n",
    "org_train = X_train.copy()\n",
    "org_test = X_test.copy()\n",
    "org_calib = X_calib.copy()"
   ]
  },
  {
   "cell_type": "markdown",
   "id": "b461e618",
   "metadata": {
    "papermill": {
     "duration": 0.010146,
     "end_time": "2025-08-19T17:58:55.139198",
     "exception": false,
     "start_time": "2025-08-19T17:58:55.129052",
     "status": "completed"
    },
    "tags": []
   },
   "source": [
    "# Preprocessing Data"
   ]
  },
  {
   "cell_type": "code",
   "execution_count": 21,
   "id": "78e74c4b",
   "metadata": {
    "execution": {
     "iopub.execute_input": "2025-08-19T17:58:55.165705Z",
     "iopub.status.busy": "2025-08-19T17:58:55.164082Z",
     "iopub.status.idle": "2025-08-19T17:58:55.177357Z",
     "shell.execute_reply": "2025-08-19T17:58:55.176434Z"
    },
    "papermill": {
     "duration": 0.038635,
     "end_time": "2025-08-19T17:58:55.190594",
     "exception": false,
     "start_time": "2025-08-19T17:58:55.151959",
     "status": "completed"
    },
    "tags": []
   },
   "outputs": [],
   "source": [
    "# EXCLUDE PROTECTED FEATURES\n",
    "# --------------------------\n",
    "\n",
    "excluded_features = universe[\"exclude_features\"].split(\"-\")\n",
    "excluded_features_dictionary = {\n",
    "    \"nationality\": [\"maxdeutsch1\", \"maxdeutsch.Missing.\"],\n",
    "    \"sex\": [\"frau1\"],\n",
    "    \"age\": [\"age\"],\n",
    "}"
   ]
  },
  {
   "cell_type": "code",
   "execution_count": 22,
   "id": "f8e63555",
   "metadata": {
    "execution": {
     "iopub.execute_input": "2025-08-19T17:58:55.215176Z",
     "iopub.status.busy": "2025-08-19T17:58:55.214739Z",
     "iopub.status.idle": "2025-08-19T17:58:55.222581Z",
     "shell.execute_reply": "2025-08-19T17:58:55.221128Z"
    },
    "papermill": {
     "duration": 0.025108,
     "end_time": "2025-08-19T17:58:55.228461",
     "exception": false,
     "start_time": "2025-08-19T17:58:55.203353",
     "status": "completed"
    },
    "tags": []
   },
   "outputs": [],
   "source": [
    "excluded_features_columns = [\n",
    "    excluded_features_dictionary[f] for f in excluded_features if len(f) > 0 and f != \"none\"\n",
    "]"
   ]
  },
  {
   "cell_type": "code",
   "execution_count": 23,
   "id": "da781f7c",
   "metadata": {
    "execution": {
     "iopub.execute_input": "2025-08-19T17:58:55.261874Z",
     "iopub.status.busy": "2025-08-19T17:58:55.260782Z",
     "iopub.status.idle": "2025-08-19T17:58:55.268131Z",
     "shell.execute_reply": "2025-08-19T17:58:55.266926Z"
    },
    "papermill": {
     "duration": 0.022095,
     "end_time": "2025-08-19T17:58:55.270551",
     "exception": false,
     "start_time": "2025-08-19T17:58:55.248456",
     "status": "completed"
    },
    "tags": []
   },
   "outputs": [],
   "source": [
    "from fairness_multiverse.universe import flatten_once\n",
    "\n",
    "excluded_features_columns = flatten_once(excluded_features_columns)"
   ]
  },
  {
   "cell_type": "code",
   "execution_count": 24,
   "id": "37fef0f0",
   "metadata": {
    "execution": {
     "iopub.execute_input": "2025-08-19T17:58:55.294689Z",
     "iopub.status.busy": "2025-08-19T17:58:55.293748Z",
     "iopub.status.idle": "2025-08-19T17:58:55.336950Z",
     "shell.execute_reply": "2025-08-19T17:58:55.335909Z"
    },
    "papermill": {
     "duration": 0.059691,
     "end_time": "2025-08-19T17:58:55.341762",
     "exception": false,
     "start_time": "2025-08-19T17:58:55.282071",
     "status": "completed"
    },
    "tags": []
   },
   "outputs": [
    {
     "name": "stdout",
     "output_type": "stream",
     "text": [
      "Dropping features: ['maxdeutsch1', 'maxdeutsch.Missing.']\n"
     ]
    }
   ],
   "source": [
    "if len(excluded_features_columns) > 0:\n",
    "    print(f\"Dropping features: {excluded_features_columns}\")\n",
    "    X_train.drop(excluded_features_columns, axis=1, inplace=True)"
   ]
  },
  {
   "cell_type": "code",
   "execution_count": 25,
   "id": "d029e3e9",
   "metadata": {
    "execution": {
     "iopub.execute_input": "2025-08-19T17:58:55.378100Z",
     "iopub.status.busy": "2025-08-19T17:58:55.377198Z",
     "iopub.status.idle": "2025-08-19T17:58:55.435015Z",
     "shell.execute_reply": "2025-08-19T17:58:55.433844Z"
    },
    "papermill": {
     "duration": 0.0761,
     "end_time": "2025-08-19T17:58:55.440553",
     "exception": false,
     "start_time": "2025-08-19T17:58:55.364453",
     "status": "completed"
    },
    "tags": []
   },
   "outputs": [
    {
     "name": "stdout",
     "output_type": "stream",
     "text": [
      "Dropping features: ['maxdeutsch1', 'maxdeutsch.Missing.']\n"
     ]
    }
   ],
   "source": [
    "if len(excluded_features_columns) > 0:\n",
    "    print(f\"Dropping features: {excluded_features_columns}\")\n",
    "    X_test.drop(excluded_features_columns, axis=1, inplace=True)"
   ]
  },
  {
   "cell_type": "code",
   "execution_count": 26,
   "id": "01d571f0",
   "metadata": {
    "execution": {
     "iopub.execute_input": "2025-08-19T17:58:55.473418Z",
     "iopub.status.busy": "2025-08-19T17:58:55.472376Z",
     "iopub.status.idle": "2025-08-19T17:58:55.537158Z",
     "shell.execute_reply": "2025-08-19T17:58:55.535980Z"
    },
    "papermill": {
     "duration": 0.082109,
     "end_time": "2025-08-19T17:58:55.542116",
     "exception": false,
     "start_time": "2025-08-19T17:58:55.460007",
     "status": "completed"
    },
    "tags": []
   },
   "outputs": [
    {
     "name": "stdout",
     "output_type": "stream",
     "text": [
      "Dropping features: ['maxdeutsch1', 'maxdeutsch.Missing.']\n"
     ]
    }
   ],
   "source": [
    "if len(excluded_features_columns) > 0:\n",
    "    print(f\"Dropping features: {excluded_features_columns}\")\n",
    "    X_calib.drop(excluded_features_columns, axis=1, inplace=True)"
   ]
  },
  {
   "cell_type": "code",
   "execution_count": 27,
   "id": "3037356e",
   "metadata": {
    "execution": {
     "iopub.execute_input": "2025-08-19T17:58:55.580217Z",
     "iopub.status.busy": "2025-08-19T17:58:55.579206Z",
     "iopub.status.idle": "2025-08-19T17:58:55.586626Z",
     "shell.execute_reply": "2025-08-19T17:58:55.585358Z"
    },
    "papermill": {
     "duration": 0.022305,
     "end_time": "2025-08-19T17:58:55.588051",
     "exception": false,
     "start_time": "2025-08-19T17:58:55.565746",
     "status": "completed"
    },
    "tags": []
   },
   "outputs": [],
   "source": [
    "# EXCLUDE CERTAIN SUBGROUPS\n",
    "# -------------------------\n",
    "\n",
    "mode = universe.get(\"exclude_subgroups\", \"keep-all\") # Defaults to \"keep-all\" if the key is missing."
   ]
  },
  {
   "cell_type": "code",
   "execution_count": 28,
   "id": "9d1e63fd",
   "metadata": {
    "execution": {
     "iopub.execute_input": "2025-08-19T17:58:55.611674Z",
     "iopub.status.busy": "2025-08-19T17:58:55.610812Z",
     "iopub.status.idle": "2025-08-19T17:58:55.620693Z",
     "shell.execute_reply": "2025-08-19T17:58:55.619380Z"
    },
    "papermill": {
     "duration": 0.023022,
     "end_time": "2025-08-19T17:58:55.622349",
     "exception": false,
     "start_time": "2025-08-19T17:58:55.599327",
     "status": "completed"
    },
    "tags": []
   },
   "outputs": [],
   "source": [
    "if mode == \"keep-all\":\n",
    "    keep_mask = pd.Series(True, index=org_train.index)\n",
    "\n",
    "elif mode == \"drop-non-german\":\n",
    "    keep_mask = (org_train[\"maxdeutsch1\"] == 1) & (org_train[\"maxdeutsch.Missing.\"] == 0)\n",
    "\n",
    "else:\n",
    "    raise ValueError(f\"Unsupported mode for exclude_subgroups: {mode}\")"
   ]
  },
  {
   "cell_type": "code",
   "execution_count": 29,
   "id": "d3b65474",
   "metadata": {
    "execution": {
     "iopub.execute_input": "2025-08-19T17:58:55.648725Z",
     "iopub.status.busy": "2025-08-19T17:58:55.647733Z",
     "iopub.status.idle": "2025-08-19T17:58:55.656978Z",
     "shell.execute_reply": "2025-08-19T17:58:55.655782Z"
    },
    "papermill": {
     "duration": 0.022601,
     "end_time": "2025-08-19T17:58:55.658516",
     "exception": false,
     "start_time": "2025-08-19T17:58:55.635915",
     "status": "completed"
    },
    "tags": []
   },
   "outputs": [],
   "source": [
    "n_drop = (~keep_mask).sum() # Calculates how many rows are set to be dropped\n",
    "if n_drop > 0:\n",
    "    pct = n_drop / len(keep_mask) * 100\n",
    "    print(f\"Dropping {n_drop} rows ({pct:.2f}%) where mode='{mode}'\")"
   ]
  },
  {
   "cell_type": "code",
   "execution_count": 30,
   "id": "f44389b3",
   "metadata": {
    "execution": {
     "iopub.execute_input": "2025-08-19T17:58:55.682104Z",
     "iopub.status.busy": "2025-08-19T17:58:55.681171Z",
     "iopub.status.idle": "2025-08-19T17:58:55.700251Z",
     "shell.execute_reply": "2025-08-19T17:58:55.699123Z"
    },
    "papermill": {
     "duration": 0.032422,
     "end_time": "2025-08-19T17:58:55.702093",
     "exception": false,
     "start_time": "2025-08-19T17:58:55.669671",
     "status": "completed"
    },
    "tags": []
   },
   "outputs": [],
   "source": [
    "X_train = X_train[keep_mask]"
   ]
  },
  {
   "cell_type": "code",
   "execution_count": 31,
   "id": "ceca8c2a",
   "metadata": {
    "execution": {
     "iopub.execute_input": "2025-08-19T17:58:55.736867Z",
     "iopub.status.busy": "2025-08-19T17:58:55.736070Z",
     "iopub.status.idle": "2025-08-19T17:58:55.746017Z",
     "shell.execute_reply": "2025-08-19T17:58:55.744283Z"
    },
    "papermill": {
     "duration": 0.028536,
     "end_time": "2025-08-19T17:58:55.747672",
     "exception": false,
     "start_time": "2025-08-19T17:58:55.719136",
     "status": "completed"
    },
    "tags": []
   },
   "outputs": [],
   "source": [
    "y_train = y_train[keep_mask]"
   ]
  },
  {
   "cell_type": "markdown",
   "id": "04d31e2f",
   "metadata": {
    "papermill": {
     "duration": 0.01019,
     "end_time": "2025-08-19T17:58:55.769032",
     "exception": false,
     "start_time": "2025-08-19T17:58:55.758842",
     "status": "completed"
    },
    "tags": []
   },
   "source": [
    "# Model Training"
   ]
  },
  {
   "cell_type": "code",
   "execution_count": 32,
   "id": "db991733",
   "metadata": {
    "execution": {
     "iopub.execute_input": "2025-08-19T17:58:55.792013Z",
     "iopub.status.busy": "2025-08-19T17:58:55.791020Z",
     "iopub.status.idle": "2025-08-19T17:58:55.900918Z",
     "shell.execute_reply": "2025-08-19T17:58:55.899550Z"
    },
    "papermill": {
     "duration": 0.125635,
     "end_time": "2025-08-19T17:58:55.904821",
     "exception": false,
     "start_time": "2025-08-19T17:58:55.779186",
     "status": "completed"
    },
    "tags": []
   },
   "outputs": [],
   "source": [
    "from sklearn.linear_model import LogisticRegression\n",
    "from sklearn.ensemble import GradientBoostingClassifier, RandomForestClassifier\n",
    "\n",
    "if (universe[\"model\"] == \"logreg\"):\n",
    "    model = LogisticRegression() #penalty=\"none\", solver=\"newton-cg\", max_iter=1)\n",
    "elif (universe[\"model\"] == \"penalized_logreg\"):\n",
    "    model = LogisticRegression(penalty=\"l2\", C=0.1) #, solver=\"newton-cg\", max_iter=1)\n",
    "elif (universe[\"model\"] == \"rf\"):\n",
    "    model = RandomForestClassifier() # n_estimators=100, n_jobs=-1\n",
    "elif (universe[\"model\"] == \"gbm\"):\n",
    "    model = GradientBoostingClassifier()\n",
    "elif (universe[\"model\"] == \"elasticnet\"):\n",
    "    model = LogisticRegression(penalty = 'elasticnet', solver = 'saga', l1_ratio = 0.5) # max_iter=5000\n",
    "else:\n",
    "    raise \"Unsupported universe.model\""
   ]
  },
  {
   "cell_type": "code",
   "execution_count": 33,
   "id": "a4b5cd25",
   "metadata": {
    "execution": {
     "iopub.execute_input": "2025-08-19T17:58:55.941499Z",
     "iopub.status.busy": "2025-08-19T17:58:55.941045Z",
     "iopub.status.idle": "2025-08-19T17:58:55.946509Z",
     "shell.execute_reply": "2025-08-19T17:58:55.945802Z"
    },
    "papermill": {
     "duration": 0.020157,
     "end_time": "2025-08-19T17:58:55.947942",
     "exception": false,
     "start_time": "2025-08-19T17:58:55.927785",
     "status": "completed"
    },
    "tags": []
   },
   "outputs": [],
   "source": [
    "from sklearn.pipeline import Pipeline\n",
    "from sklearn.preprocessing import StandardScaler\n",
    "\n",
    "model = Pipeline([\n",
    "    #(\"continuous_processor\", continuous_processor),\n",
    "    #(\"categorical_preprocessor\", categorical_preprocessor),\n",
    "    (\"scale\", StandardScaler() if universe[\"scale\"] == \"scale\" else None), \n",
    "    (\"model\", model),\n",
    "])"
   ]
  },
  {
   "cell_type": "code",
   "execution_count": 34,
   "id": "283a904d",
   "metadata": {
    "execution": {
     "iopub.execute_input": "2025-08-19T17:58:55.971482Z",
     "iopub.status.busy": "2025-08-19T17:58:55.970805Z",
     "iopub.status.idle": "2025-08-19T17:58:56.943775Z",
     "shell.execute_reply": "2025-08-19T17:58:56.940939Z"
    },
    "papermill": {
     "duration": 0.986076,
     "end_time": "2025-08-19T17:58:56.945573",
     "exception": false,
     "start_time": "2025-08-19T17:58:55.959497",
     "status": "completed"
    },
    "tags": []
   },
   "outputs": [
    {
     "name": "stderr",
     "output_type": "stream",
     "text": [
      "/dss/dsshome1/0C/ra93lal2/.local/share/virtualenvs/CMA_Fairness_v2-3j10GkSs/lib/python3.10/site-packages/sklearn/linear_model/_logistic.py:444: ConvergenceWarning: lbfgs failed to converge (status=1):\n",
      "STOP: TOTAL NO. of ITERATIONS REACHED LIMIT.\n",
      "\n",
      "Increase the number of iterations (max_iter) or scale the data as shown in:\n",
      "    https://scikit-learn.org/stable/modules/preprocessing.html\n",
      "Please also refer to the documentation for alternative solver options:\n",
      "    https://scikit-learn.org/stable/modules/linear_model.html#logistic-regression\n",
      "  n_iter_i = _check_optimize_result(\n"
     ]
    },
    {
     "data": {
      "text/html": [
       "<style>#sk-container-id-1 {color: black;background-color: white;}#sk-container-id-1 pre{padding: 0;}#sk-container-id-1 div.sk-toggleable {background-color: white;}#sk-container-id-1 label.sk-toggleable__label {cursor: pointer;display: block;width: 100%;margin-bottom: 0;padding: 0.3em;box-sizing: border-box;text-align: center;}#sk-container-id-1 label.sk-toggleable__label-arrow:before {content: \"▸\";float: left;margin-right: 0.25em;color: #696969;}#sk-container-id-1 label.sk-toggleable__label-arrow:hover:before {color: black;}#sk-container-id-1 div.sk-estimator:hover label.sk-toggleable__label-arrow:before {color: black;}#sk-container-id-1 div.sk-toggleable__content {max-height: 0;max-width: 0;overflow: hidden;text-align: left;background-color: #f0f8ff;}#sk-container-id-1 div.sk-toggleable__content pre {margin: 0.2em;color: black;border-radius: 0.25em;background-color: #f0f8ff;}#sk-container-id-1 input.sk-toggleable__control:checked~div.sk-toggleable__content {max-height: 200px;max-width: 100%;overflow: auto;}#sk-container-id-1 input.sk-toggleable__control:checked~label.sk-toggleable__label-arrow:before {content: \"▾\";}#sk-container-id-1 div.sk-estimator input.sk-toggleable__control:checked~label.sk-toggleable__label {background-color: #d4ebff;}#sk-container-id-1 div.sk-label input.sk-toggleable__control:checked~label.sk-toggleable__label {background-color: #d4ebff;}#sk-container-id-1 input.sk-hidden--visually {border: 0;clip: rect(1px 1px 1px 1px);clip: rect(1px, 1px, 1px, 1px);height: 1px;margin: -1px;overflow: hidden;padding: 0;position: absolute;width: 1px;}#sk-container-id-1 div.sk-estimator {font-family: monospace;background-color: #f0f8ff;border: 1px dotted black;border-radius: 0.25em;box-sizing: border-box;margin-bottom: 0.5em;}#sk-container-id-1 div.sk-estimator:hover {background-color: #d4ebff;}#sk-container-id-1 div.sk-parallel-item::after {content: \"\";width: 100%;border-bottom: 1px solid gray;flex-grow: 1;}#sk-container-id-1 div.sk-label:hover label.sk-toggleable__label {background-color: #d4ebff;}#sk-container-id-1 div.sk-serial::before {content: \"\";position: absolute;border-left: 1px solid gray;box-sizing: border-box;top: 0;bottom: 0;left: 50%;z-index: 0;}#sk-container-id-1 div.sk-serial {display: flex;flex-direction: column;align-items: center;background-color: white;padding-right: 0.2em;padding-left: 0.2em;position: relative;}#sk-container-id-1 div.sk-item {position: relative;z-index: 1;}#sk-container-id-1 div.sk-parallel {display: flex;align-items: stretch;justify-content: center;background-color: white;position: relative;}#sk-container-id-1 div.sk-item::before, #sk-container-id-1 div.sk-parallel-item::before {content: \"\";position: absolute;border-left: 1px solid gray;box-sizing: border-box;top: 0;bottom: 0;left: 50%;z-index: -1;}#sk-container-id-1 div.sk-parallel-item {display: flex;flex-direction: column;z-index: 1;position: relative;background-color: white;}#sk-container-id-1 div.sk-parallel-item:first-child::after {align-self: flex-end;width: 50%;}#sk-container-id-1 div.sk-parallel-item:last-child::after {align-self: flex-start;width: 50%;}#sk-container-id-1 div.sk-parallel-item:only-child::after {width: 0;}#sk-container-id-1 div.sk-dashed-wrapped {border: 1px dashed gray;margin: 0 0.4em 0.5em 0.4em;box-sizing: border-box;padding-bottom: 0.4em;background-color: white;}#sk-container-id-1 div.sk-label label {font-family: monospace;font-weight: bold;display: inline-block;line-height: 1.2em;}#sk-container-id-1 div.sk-label-container {text-align: center;}#sk-container-id-1 div.sk-container {/* jupyter's `normalize.less` sets `[hidden] { display: none; }` but bootstrap.min.css set `[hidden] { display: none !important; }` so we also need the `!important` here to be able to override the default hidden behavior on the sphinx rendered scikit-learn.org. See: https://github.com/scikit-learn/scikit-learn/issues/21755 */display: inline-block !important;position: relative;}#sk-container-id-1 div.sk-text-repr-fallback {display: none;}</style><div id=\"sk-container-id-1\" class=\"sk-top-container\"><div class=\"sk-text-repr-fallback\"><pre>Pipeline(steps=[(&#x27;scale&#x27;, None), (&#x27;model&#x27;, LogisticRegression(C=0.1))])</pre><b>In a Jupyter environment, please rerun this cell to show the HTML representation or trust the notebook. <br />On GitHub, the HTML representation is unable to render, please try loading this page with nbviewer.org.</b></div><div class=\"sk-container\" hidden><div class=\"sk-item sk-dashed-wrapped\"><div class=\"sk-label-container\"><div class=\"sk-label sk-toggleable\"><input class=\"sk-toggleable__control sk-hidden--visually\" id=\"sk-estimator-id-1\" type=\"checkbox\" ><label for=\"sk-estimator-id-1\" class=\"sk-toggleable__label sk-toggleable__label-arrow\">Pipeline</label><div class=\"sk-toggleable__content\"><pre>Pipeline(steps=[(&#x27;scale&#x27;, None), (&#x27;model&#x27;, LogisticRegression(C=0.1))])</pre></div></div></div><div class=\"sk-serial\"><div class=\"sk-item\"><div class=\"sk-estimator sk-toggleable\"><input class=\"sk-toggleable__control sk-hidden--visually\" id=\"sk-estimator-id-2\" type=\"checkbox\" ><label for=\"sk-estimator-id-2\" class=\"sk-toggleable__label sk-toggleable__label-arrow\">None</label><div class=\"sk-toggleable__content\"><pre>None</pre></div></div></div><div class=\"sk-item\"><div class=\"sk-estimator sk-toggleable\"><input class=\"sk-toggleable__control sk-hidden--visually\" id=\"sk-estimator-id-3\" type=\"checkbox\" ><label for=\"sk-estimator-id-3\" class=\"sk-toggleable__label sk-toggleable__label-arrow\">LogisticRegression</label><div class=\"sk-toggleable__content\"><pre>LogisticRegression(C=0.1)</pre></div></div></div></div></div></div></div>"
      ],
      "text/plain": [
       "Pipeline(steps=[('scale', None), ('model', LogisticRegression(C=0.1))])"
      ]
     },
     "execution_count": 34,
     "metadata": {},
     "output_type": "execute_result"
    }
   ],
   "source": [
    "model.fit(X_train, y_train.values.ravel())"
   ]
  },
  {
   "cell_type": "code",
   "execution_count": 35,
   "id": "6e15e313",
   "metadata": {
    "execution": {
     "iopub.execute_input": "2025-08-19T17:58:56.981825Z",
     "iopub.status.busy": "2025-08-19T17:58:56.980280Z",
     "iopub.status.idle": "2025-08-19T17:58:57.095733Z",
     "shell.execute_reply": "2025-08-19T17:58:57.094640Z"
    },
    "papermill": {
     "duration": 0.133243,
     "end_time": "2025-08-19T17:58:57.098272",
     "exception": false,
     "start_time": "2025-08-19T17:58:56.965029",
     "status": "completed"
    },
    "tags": []
   },
   "outputs": [
    {
     "data": {
      "text/plain": [
       "0.8634934789878498"
      ]
     },
     "execution_count": 35,
     "metadata": {},
     "output_type": "execute_result"
    }
   ],
   "source": [
    "from fairness_multiverse.universe import predict_w_threshold\n",
    "\n",
    "probs_test = model.predict_proba(X_test)\n",
    "\n",
    "'''\n",
    "Below code returns a boolean array (or binary 0/1 array depending on how it’s used) where each element \n",
    "is True if the probability of class 1 is greater than or equal to the threshold, and False otherwise.\n",
    "'''\n",
    "y_pred_default = predict_w_threshold(probs_test, 0.5)\n",
    "\n",
    "from sklearn.metrics import accuracy_score\n",
    "\n",
    "# Naive prediction\n",
    "accuracy_score(y_true = y_true, y_pred = y_pred_default)"
   ]
  },
  {
   "cell_type": "code",
   "execution_count": 36,
   "id": "6f14067c",
   "metadata": {
    "execution": {
     "iopub.execute_input": "2025-08-19T17:58:57.137156Z",
     "iopub.status.busy": "2025-08-19T17:58:57.136106Z",
     "iopub.status.idle": "2025-08-19T17:58:57.229659Z",
     "shell.execute_reply": "2025-08-19T17:58:57.228680Z"
    },
    "papermill": {
     "duration": 0.110074,
     "end_time": "2025-08-19T17:58:57.232036",
     "exception": false,
     "start_time": "2025-08-19T17:58:57.121962",
     "status": "completed"
    },
    "tags": []
   },
   "outputs": [
    {
     "data": {
      "text/plain": [
       "array([0, 0, 0, ..., 0, 0, 0])"
      ]
     },
     "execution_count": 36,
     "metadata": {},
     "output_type": "execute_result"
    }
   ],
   "source": [
    "model.predict(X_test)"
   ]
  },
  {
   "cell_type": "markdown",
   "id": "3759920c",
   "metadata": {
    "papermill": {
     "duration": 0.011048,
     "end_time": "2025-08-19T17:58:57.258552",
     "exception": false,
     "start_time": "2025-08-19T17:58:57.247504",
     "status": "completed"
    },
    "tags": []
   },
   "source": [
    "# Conformal Prediction"
   ]
  },
  {
   "cell_type": "code",
   "execution_count": 37,
   "id": "14b27f59",
   "metadata": {
    "execution": {
     "iopub.execute_input": "2025-08-19T17:58:57.283314Z",
     "iopub.status.busy": "2025-08-19T17:58:57.282272Z",
     "iopub.status.idle": "2025-08-19T17:58:57.291168Z",
     "shell.execute_reply": "2025-08-19T17:58:57.288376Z"
    },
    "papermill": {
     "duration": 0.023495,
     "end_time": "2025-08-19T17:58:57.292929",
     "exception": false,
     "start_time": "2025-08-19T17:58:57.269434",
     "status": "completed"
    },
    "tags": []
   },
   "outputs": [],
   "source": [
    "# Miscoverage level for conformal prediction (10% allowed error rate => 90% target coverage)\n",
    "alpha = 0.1"
   ]
  },
  {
   "cell_type": "code",
   "execution_count": 38,
   "id": "59102472",
   "metadata": {
    "execution": {
     "iopub.execute_input": "2025-08-19T17:58:57.320907Z",
     "iopub.status.busy": "2025-08-19T17:58:57.319868Z",
     "iopub.status.idle": "2025-08-19T17:58:57.415464Z",
     "shell.execute_reply": "2025-08-19T17:58:57.414682Z"
    },
    "papermill": {
     "duration": 0.110791,
     "end_time": "2025-08-19T17:58:57.416969",
     "exception": false,
     "start_time": "2025-08-19T17:58:57.306178",
     "status": "completed"
    },
    "tags": []
   },
   "outputs": [],
   "source": [
    "probs_calib = model.predict_proba(X_calib)"
   ]
  },
  {
   "cell_type": "code",
   "execution_count": 39,
   "id": "a792d4dd",
   "metadata": {
    "execution": {
     "iopub.execute_input": "2025-08-19T17:58:57.444934Z",
     "iopub.status.busy": "2025-08-19T17:58:57.444541Z",
     "iopub.status.idle": "2025-08-19T17:58:57.449012Z",
     "shell.execute_reply": "2025-08-19T17:58:57.448287Z"
    },
    "papermill": {
     "duration": 0.020293,
     "end_time": "2025-08-19T17:58:57.450279",
     "exception": false,
     "start_time": "2025-08-19T17:58:57.429986",
     "status": "completed"
    },
    "tags": []
   },
   "outputs": [],
   "source": [
    "y_calib = y_calib.values.ravel().astype(int)"
   ]
  },
  {
   "cell_type": "code",
   "execution_count": 40,
   "id": "650fd033",
   "metadata": {
    "execution": {
     "iopub.execute_input": "2025-08-19T17:58:57.473250Z",
     "iopub.status.busy": "2025-08-19T17:58:57.472985Z",
     "iopub.status.idle": "2025-08-19T17:58:57.485009Z",
     "shell.execute_reply": "2025-08-19T17:58:57.484341Z"
    },
    "papermill": {
     "duration": 0.025129,
     "end_time": "2025-08-19T17:58:57.486469",
     "exception": false,
     "start_time": "2025-08-19T17:58:57.461340",
     "status": "completed"
    },
    "tags": []
   },
   "outputs": [],
   "source": [
    "from fairness_multiverse.conformal import compute_nc_scores\n",
    "\n",
    "# Compute nonconformity scores on calibration set (1 - probability of true class)\n",
    "nc_scores = compute_nc_scores(probs_calib, y_calib)"
   ]
  },
  {
   "cell_type": "code",
   "execution_count": 41,
   "id": "28ada44c",
   "metadata": {
    "execution": {
     "iopub.execute_input": "2025-08-19T17:58:57.514071Z",
     "iopub.status.busy": "2025-08-19T17:58:57.513701Z",
     "iopub.status.idle": "2025-08-19T17:58:57.518901Z",
     "shell.execute_reply": "2025-08-19T17:58:57.518132Z"
    },
    "papermill": {
     "duration": 0.022553,
     "end_time": "2025-08-19T17:58:57.520809",
     "exception": false,
     "start_time": "2025-08-19T17:58:57.498256",
     "status": "completed"
    },
    "tags": []
   },
   "outputs": [],
   "source": [
    "from fairness_multiverse.conformal import find_threshold\n",
    "\n",
    "# Find conformal threshold q_hat for the given alpha (split conformal method)\n",
    "q_hat = find_threshold(nc_scores, alpha)"
   ]
  },
  {
   "cell_type": "code",
   "execution_count": 42,
   "id": "df56469e",
   "metadata": {
    "execution": {
     "iopub.execute_input": "2025-08-19T17:58:57.546702Z",
     "iopub.status.busy": "2025-08-19T17:58:57.546145Z",
     "iopub.status.idle": "2025-08-19T17:58:57.554915Z",
     "shell.execute_reply": "2025-08-19T17:58:57.553685Z"
    },
    "papermill": {
     "duration": 0.027012,
     "end_time": "2025-08-19T17:58:57.561021",
     "exception": false,
     "start_time": "2025-08-19T17:58:57.534009",
     "status": "completed"
    },
    "tags": []
   },
   "outputs": [
    {
     "data": {
      "text/plain": [
       "0.6801418218133948"
      ]
     },
     "execution_count": 42,
     "metadata": {},
     "output_type": "execute_result"
    }
   ],
   "source": [
    "q_hat"
   ]
  },
  {
   "cell_type": "code",
   "execution_count": 43,
   "id": "aa1f5faa",
   "metadata": {
    "execution": {
     "iopub.execute_input": "2025-08-19T17:58:57.589336Z",
     "iopub.status.busy": "2025-08-19T17:58:57.588453Z",
     "iopub.status.idle": "2025-08-19T17:58:58.137423Z",
     "shell.execute_reply": "2025-08-19T17:58:58.136161Z"
    },
    "papermill": {
     "duration": 0.564778,
     "end_time": "2025-08-19T17:58:58.140324",
     "exception": false,
     "start_time": "2025-08-19T17:58:57.575546",
     "status": "completed"
    },
    "tags": []
   },
   "outputs": [],
   "source": [
    "from fairness_multiverse.conformal import predict_conformal_sets\n",
    "\n",
    "# Generate prediction sets for each test example\n",
    "pred_sets = predict_conformal_sets(model, X_test, q_hat)"
   ]
  },
  {
   "cell_type": "code",
   "execution_count": 44,
   "id": "97f67a6b",
   "metadata": {
    "execution": {
     "iopub.execute_input": "2025-08-19T17:58:58.179359Z",
     "iopub.status.busy": "2025-08-19T17:58:58.178133Z",
     "iopub.status.idle": "2025-08-19T17:58:58.187093Z",
     "shell.execute_reply": "2025-08-19T17:58:58.185924Z"
    },
    "papermill": {
     "duration": 0.024594,
     "end_time": "2025-08-19T17:58:58.188828",
     "exception": false,
     "start_time": "2025-08-19T17:58:58.164234",
     "status": "completed"
    },
    "tags": []
   },
   "outputs": [],
   "source": [
    "y_true = y_true.squeeze()"
   ]
  },
  {
   "cell_type": "code",
   "execution_count": 45,
   "id": "e700e9a7",
   "metadata": {
    "execution": {
     "iopub.execute_input": "2025-08-19T17:58:58.216685Z",
     "iopub.status.busy": "2025-08-19T17:58:58.215393Z",
     "iopub.status.idle": "2025-08-19T17:58:58.727196Z",
     "shell.execute_reply": "2025-08-19T17:58:58.725742Z"
    },
    "papermill": {
     "duration": 0.535981,
     "end_time": "2025-08-19T17:58:58.738964",
     "exception": false,
     "start_time": "2025-08-19T17:58:58.202983",
     "status": "completed"
    },
    "tags": []
   },
   "outputs": [],
   "source": [
    "from fairness_multiverse.conformal import evaluate_sets\n",
    "\n",
    "# Evaluate coverage and average set size on test data\n",
    "metrics = evaluate_sets(pred_sets, y_true)"
   ]
  },
  {
   "cell_type": "markdown",
   "id": "efbacec0",
   "metadata": {
    "papermill": {
     "duration": 0.021513,
     "end_time": "2025-08-19T17:58:58.789549",
     "exception": false,
     "start_time": "2025-08-19T17:58:58.768036",
     "status": "completed"
    },
    "tags": []
   },
   "source": [
    "# CP Metrics"
   ]
  },
  {
   "cell_type": "code",
   "execution_count": 46,
   "id": "9de55fb1",
   "metadata": {
    "execution": {
     "iopub.execute_input": "2025-08-19T17:58:58.814518Z",
     "iopub.status.busy": "2025-08-19T17:58:58.814037Z",
     "iopub.status.idle": "2025-08-19T17:58:58.820947Z",
     "shell.execute_reply": "2025-08-19T17:58:58.820173Z"
    },
    "papermill": {
     "duration": 0.020685,
     "end_time": "2025-08-19T17:58:58.822299",
     "exception": false,
     "start_time": "2025-08-19T17:58:58.801614",
     "status": "completed"
    },
    "tags": []
   },
   "outputs": [
    {
     "data": {
      "text/plain": [
       "{'coverage': 0.9122951733363058, 'avg_size': 1.2008471742280682}"
      ]
     },
     "execution_count": 46,
     "metadata": {},
     "output_type": "execute_result"
    }
   ],
   "source": [
    "metrics"
   ]
  },
  {
   "cell_type": "code",
   "execution_count": 47,
   "id": "64c340a1",
   "metadata": {
    "execution": {
     "iopub.execute_input": "2025-08-19T17:58:58.846081Z",
     "iopub.status.busy": "2025-08-19T17:58:58.845728Z",
     "iopub.status.idle": "2025-08-19T17:58:58.850992Z",
     "shell.execute_reply": "2025-08-19T17:58:58.850088Z"
    },
    "papermill": {
     "duration": 0.018665,
     "end_time": "2025-08-19T17:58:58.852278",
     "exception": false,
     "start_time": "2025-08-19T17:58:58.833613",
     "status": "completed"
    },
    "tags": []
   },
   "outputs": [],
   "source": [
    "example_universe = universe.copy()\n",
    "universe_training_year = example_universe.get(\"training_year\")\n",
    "universe_training_size = example_universe.get(\"training_size\")\n",
    "universe_scale = example_universe.get(\"scale\")\n",
    "universe_model = example_universe.get(\"model\")\n",
    "universe_exclude_features = example_universe.get(\"exclude_features\")\n",
    "universe_exclude_subgroups = example_universe.get(\"exclude_subgroups\")"
   ]
  },
  {
   "cell_type": "code",
   "execution_count": 48,
   "id": "dbb53cb4",
   "metadata": {
    "execution": {
     "iopub.execute_input": "2025-08-19T17:58:58.876138Z",
     "iopub.status.busy": "2025-08-19T17:58:58.875774Z",
     "iopub.status.idle": "2025-08-19T17:58:58.883090Z",
     "shell.execute_reply": "2025-08-19T17:58:58.882312Z"
    },
    "papermill": {
     "duration": 0.020779,
     "end_time": "2025-08-19T17:58:58.884408",
     "exception": false,
     "start_time": "2025-08-19T17:58:58.863629",
     "status": "completed"
    },
    "tags": []
   },
   "outputs": [],
   "source": [
    "cp_metrics_dict = {\n",
    "    \"universe_id\": [universe_id],\n",
    "    \"universe_training_year\": [universe_training_year],\n",
    "    \"universe_training_size\": [universe_training_size],\n",
    "    \"universe_scale\": [universe_scale],\n",
    "    \"universe_model\": [universe_model],\n",
    "    \"universe_exclude_features\": [universe_exclude_features],\n",
    "    \"universe_exclude_subgroups\": [universe_exclude_subgroups],\n",
    "    \"q_hat\": [q_hat],\n",
    "    \"coverage\": [metrics[\"coverage\"]],\n",
    "    \"avg_size\": [metrics[\"avg_size\"]],\n",
    "}"
   ]
  },
  {
   "cell_type": "code",
   "execution_count": 49,
   "id": "0d70d4b2",
   "metadata": {
    "execution": {
     "iopub.execute_input": "2025-08-19T17:58:58.908437Z",
     "iopub.status.busy": "2025-08-19T17:58:58.907835Z",
     "iopub.status.idle": "2025-08-19T17:58:58.913267Z",
     "shell.execute_reply": "2025-08-19T17:58:58.912618Z"
    },
    "papermill": {
     "duration": 0.0187,
     "end_time": "2025-08-19T17:58:58.914516",
     "exception": false,
     "start_time": "2025-08-19T17:58:58.895816",
     "status": "completed"
    },
    "tags": []
   },
   "outputs": [],
   "source": [
    "cp_metrics_df = pd.DataFrame(cp_metrics_dict)"
   ]
  },
  {
   "cell_type": "code",
   "execution_count": 50,
   "id": "b494403c",
   "metadata": {
    "execution": {
     "iopub.execute_input": "2025-08-19T17:58:58.938563Z",
     "iopub.status.busy": "2025-08-19T17:58:58.938100Z",
     "iopub.status.idle": "2025-08-19T17:58:58.963771Z",
     "shell.execute_reply": "2025-08-19T17:58:58.963003Z"
    },
    "papermill": {
     "duration": 0.039289,
     "end_time": "2025-08-19T17:58:58.965168",
     "exception": false,
     "start_time": "2025-08-19T17:58:58.925879",
     "status": "completed"
    },
    "tags": []
   },
   "outputs": [
    {
     "data": {
      "text/html": [
       "<div>\n",
       "<style scoped>\n",
       "    .dataframe tbody tr th:only-of-type {\n",
       "        vertical-align: middle;\n",
       "    }\n",
       "\n",
       "    .dataframe tbody tr th {\n",
       "        vertical-align: top;\n",
       "    }\n",
       "\n",
       "    .dataframe thead th {\n",
       "        text-align: right;\n",
       "    }\n",
       "</style>\n",
       "<table border=\"1\" class=\"dataframe\">\n",
       "  <thead>\n",
       "    <tr style=\"text-align: right;\">\n",
       "      <th></th>\n",
       "      <th>universe_id</th>\n",
       "      <th>universe_training_year</th>\n",
       "      <th>universe_training_size</th>\n",
       "      <th>universe_scale</th>\n",
       "      <th>universe_model</th>\n",
       "      <th>universe_exclude_features</th>\n",
       "      <th>universe_exclude_subgroups</th>\n",
       "      <th>q_hat</th>\n",
       "      <th>coverage</th>\n",
       "      <th>avg_size</th>\n",
       "    </tr>\n",
       "  </thead>\n",
       "  <tbody>\n",
       "    <tr>\n",
       "      <th>0</th>\n",
       "      <td>98747486137f37cf92985a39255d4805</td>\n",
       "      <td>2014</td>\n",
       "      <td>25k</td>\n",
       "      <td>do-not-scale</td>\n",
       "      <td>penalized_logreg</td>\n",
       "      <td>nationality</td>\n",
       "      <td>keep-all</td>\n",
       "      <td>0.680142</td>\n",
       "      <td>0.912295</td>\n",
       "      <td>1.200847</td>\n",
       "    </tr>\n",
       "  </tbody>\n",
       "</table>\n",
       "</div>"
      ],
      "text/plain": [
       "                        universe_id universe_training_year  \\\n",
       "0  98747486137f37cf92985a39255d4805                   2014   \n",
       "\n",
       "  universe_training_size universe_scale    universe_model  \\\n",
       "0                    25k   do-not-scale  penalized_logreg   \n",
       "\n",
       "  universe_exclude_features universe_exclude_subgroups     q_hat  coverage  \\\n",
       "0               nationality                   keep-all  0.680142  0.912295   \n",
       "\n",
       "   avg_size  \n",
       "0  1.200847  "
      ]
     },
     "execution_count": 50,
     "metadata": {},
     "output_type": "execute_result"
    }
   ],
   "source": [
    "cp_metrics_df"
   ]
  },
  {
   "cell_type": "markdown",
   "id": "ed608b0b",
   "metadata": {
    "papermill": {
     "duration": 0.011522,
     "end_time": "2025-08-19T17:58:58.998558",
     "exception": false,
     "start_time": "2025-08-19T17:58:58.987036",
     "status": "completed"
    },
    "tags": []
   },
   "source": [
    "Conditional coverage & looking at subgroups"
   ]
  },
  {
   "cell_type": "code",
   "execution_count": 51,
   "id": "8968c366",
   "metadata": {
    "execution": {
     "iopub.execute_input": "2025-08-19T17:58:59.023927Z",
     "iopub.status.busy": "2025-08-19T17:58:59.023192Z",
     "iopub.status.idle": "2025-08-19T17:58:59.281310Z",
     "shell.execute_reply": "2025-08-19T17:58:59.280521Z"
    },
    "papermill": {
     "duration": 0.27391,
     "end_time": "2025-08-19T17:58:59.283991",
     "exception": false,
     "start_time": "2025-08-19T17:58:59.010081",
     "status": "completed"
    },
    "tags": []
   },
   "outputs": [],
   "source": [
    "from fairness_multiverse.conformal import build_cp_groups\n",
    "\n",
    "cp_groups_df = build_cp_groups(pred_sets, y_true, X_test.index, org_test)"
   ]
  },
  {
   "cell_type": "code",
   "execution_count": 52,
   "id": "292ddabf",
   "metadata": {
    "execution": {
     "iopub.execute_input": "2025-08-19T17:58:59.342784Z",
     "iopub.status.busy": "2025-08-19T17:58:59.342334Z",
     "iopub.status.idle": "2025-08-19T17:59:00.193948Z",
     "shell.execute_reply": "2025-08-19T17:59:00.192907Z"
    },
    "papermill": {
     "duration": 0.886335,
     "end_time": "2025-08-19T17:59:00.197537",
     "exception": false,
     "start_time": "2025-08-19T17:58:59.311202",
     "status": "completed"
    },
    "tags": []
   },
   "outputs": [],
   "source": [
    "# Define covered = 1 if true_label is in the predicted set\n",
    "cp_groups_df['covered'] = cp_groups_df.apply(\n",
    "    lambda r: int(r['true_label'] in r['pred_set']),\n",
    "    axis=1\n",
    ")"
   ]
  },
  {
   "cell_type": "code",
   "execution_count": 53,
   "id": "3a261692",
   "metadata": {
    "execution": {
     "iopub.execute_input": "2025-08-19T17:59:00.239713Z",
     "iopub.status.busy": "2025-08-19T17:59:00.238792Z",
     "iopub.status.idle": "2025-08-19T17:59:00.256579Z",
     "shell.execute_reply": "2025-08-19T17:59:00.255531Z"
    },
    "papermill": {
     "duration": 0.034738,
     "end_time": "2025-08-19T17:59:00.258443",
     "exception": false,
     "start_time": "2025-08-19T17:59:00.223705",
     "status": "completed"
    },
    "tags": []
   },
   "outputs": [],
   "source": [
    "subgroups = ['frau1','nongerman','nongerman_male','nongerman_female']\n",
    "\n",
    "# Conditional coverage for subgroup==1\n",
    "cond_coverage = {\n",
    "    g: cp_groups_df.loc[cp_groups_df[g]==1, 'covered'].mean()\n",
    "    for g in subgroups\n",
    "}"
   ]
  },
  {
   "cell_type": "code",
   "execution_count": 54,
   "id": "894fd600",
   "metadata": {
    "execution": {
     "iopub.execute_input": "2025-08-19T17:59:00.292023Z",
     "iopub.status.busy": "2025-08-19T17:59:00.291054Z",
     "iopub.status.idle": "2025-08-19T17:59:00.300787Z",
     "shell.execute_reply": "2025-08-19T17:59:00.299460Z"
    },
    "papermill": {
     "duration": 0.025278,
     "end_time": "2025-08-19T17:59:00.302358",
     "exception": false,
     "start_time": "2025-08-19T17:59:00.277080",
     "status": "completed"
    },
    "tags": []
   },
   "outputs": [
    {
     "data": {
      "text/plain": [
       "{'frau1': 0.9110392236150424,\n",
       " 'nongerman': 0.9283669230337394,\n",
       " 'nongerman_male': 0.9424479870305323,\n",
       " 'nongerman_female': 0.9050670640834575}"
      ]
     },
     "execution_count": 54,
     "metadata": {},
     "output_type": "execute_result"
    }
   ],
   "source": [
    "cond_coverage"
   ]
  },
  {
   "cell_type": "code",
   "execution_count": 55,
   "id": "942895c7",
   "metadata": {
    "execution": {
     "iopub.execute_input": "2025-08-19T17:59:00.332136Z",
     "iopub.status.busy": "2025-08-19T17:59:00.331041Z",
     "iopub.status.idle": "2025-08-19T17:59:00.341523Z",
     "shell.execute_reply": "2025-08-19T17:59:00.340503Z"
    },
    "papermill": {
     "duration": 0.027114,
     "end_time": "2025-08-19T17:59:00.344207",
     "exception": false,
     "start_time": "2025-08-19T17:59:00.317093",
     "status": "completed"
    },
    "tags": []
   },
   "outputs": [],
   "source": [
    "for subgroup, cov in cond_coverage.items():\n",
    "    cp_metrics_df[f\"cov_{subgroup}\"] = cov"
   ]
  },
  {
   "cell_type": "code",
   "execution_count": 56,
   "id": "3970120f",
   "metadata": {
    "execution": {
     "iopub.execute_input": "2025-08-19T17:59:00.374178Z",
     "iopub.status.busy": "2025-08-19T17:59:00.373242Z",
     "iopub.status.idle": "2025-08-19T17:59:00.398358Z",
     "shell.execute_reply": "2025-08-19T17:59:00.397221Z"
    },
    "papermill": {
     "duration": 0.041447,
     "end_time": "2025-08-19T17:59:00.400950",
     "exception": false,
     "start_time": "2025-08-19T17:59:00.359503",
     "status": "completed"
    },
    "tags": []
   },
   "outputs": [
    {
     "data": {
      "text/html": [
       "<div>\n",
       "<style scoped>\n",
       "    .dataframe tbody tr th:only-of-type {\n",
       "        vertical-align: middle;\n",
       "    }\n",
       "\n",
       "    .dataframe tbody tr th {\n",
       "        vertical-align: top;\n",
       "    }\n",
       "\n",
       "    .dataframe thead th {\n",
       "        text-align: right;\n",
       "    }\n",
       "</style>\n",
       "<table border=\"1\" class=\"dataframe\">\n",
       "  <thead>\n",
       "    <tr style=\"text-align: right;\">\n",
       "      <th></th>\n",
       "      <th>universe_id</th>\n",
       "      <th>universe_training_year</th>\n",
       "      <th>universe_training_size</th>\n",
       "      <th>universe_scale</th>\n",
       "      <th>universe_model</th>\n",
       "      <th>universe_exclude_features</th>\n",
       "      <th>universe_exclude_subgroups</th>\n",
       "      <th>q_hat</th>\n",
       "      <th>coverage</th>\n",
       "      <th>avg_size</th>\n",
       "      <th>cov_frau1</th>\n",
       "      <th>cov_nongerman</th>\n",
       "      <th>cov_nongerman_male</th>\n",
       "      <th>cov_nongerman_female</th>\n",
       "    </tr>\n",
       "  </thead>\n",
       "  <tbody>\n",
       "    <tr>\n",
       "      <th>0</th>\n",
       "      <td>98747486137f37cf92985a39255d4805</td>\n",
       "      <td>2014</td>\n",
       "      <td>25k</td>\n",
       "      <td>do-not-scale</td>\n",
       "      <td>penalized_logreg</td>\n",
       "      <td>nationality</td>\n",
       "      <td>keep-all</td>\n",
       "      <td>0.680142</td>\n",
       "      <td>0.912295</td>\n",
       "      <td>1.200847</td>\n",
       "      <td>0.911039</td>\n",
       "      <td>0.928367</td>\n",
       "      <td>0.942448</td>\n",
       "      <td>0.905067</td>\n",
       "    </tr>\n",
       "  </tbody>\n",
       "</table>\n",
       "</div>"
      ],
      "text/plain": [
       "                        universe_id universe_training_year  \\\n",
       "0  98747486137f37cf92985a39255d4805                   2014   \n",
       "\n",
       "  universe_training_size universe_scale    universe_model  \\\n",
       "0                    25k   do-not-scale  penalized_logreg   \n",
       "\n",
       "  universe_exclude_features universe_exclude_subgroups     q_hat  coverage  \\\n",
       "0               nationality                   keep-all  0.680142  0.912295   \n",
       "\n",
       "   avg_size  cov_frau1  cov_nongerman  cov_nongerman_male  \\\n",
       "0  1.200847   0.911039       0.928367            0.942448   \n",
       "\n",
       "   cov_nongerman_female  \n",
       "0              0.905067  "
      ]
     },
     "execution_count": 56,
     "metadata": {},
     "output_type": "execute_result"
    }
   ],
   "source": [
    "cp_metrics_df"
   ]
  },
  {
   "cell_type": "markdown",
   "id": "3fc519cc",
   "metadata": {
    "papermill": {
     "duration": 0.012241,
     "end_time": "2025-08-19T17:59:00.434089",
     "exception": false,
     "start_time": "2025-08-19T17:59:00.421848",
     "status": "completed"
    },
    "tags": []
   },
   "source": [
    "# (Fairness) Metrics"
   ]
  },
  {
   "cell_type": "code",
   "execution_count": 57,
   "id": "a2e5e155",
   "metadata": {
    "execution": {
     "iopub.execute_input": "2025-08-19T17:59:00.460795Z",
     "iopub.status.busy": "2025-08-19T17:59:00.459410Z",
     "iopub.status.idle": "2025-08-19T17:59:00.485606Z",
     "shell.execute_reply": "2025-08-19T17:59:00.484826Z"
    },
    "papermill": {
     "duration": 0.04131,
     "end_time": "2025-08-19T17:59:00.487198",
     "exception": false,
     "start_time": "2025-08-19T17:59:00.445888",
     "status": "completed"
    },
    "tags": []
   },
   "outputs": [],
   "source": [
    "colname_to_bin = \"maxdeutsch1\"\n",
    "majority_value = org_train[colname_to_bin].mode()[0]\n",
    "\n",
    "org_test[\"majmin\"] = np.where(org_test[colname_to_bin] == majority_value, \"majority\", \"minority\")"
   ]
  },
  {
   "cell_type": "code",
   "execution_count": 58,
   "id": "17e3e4d5",
   "metadata": {
    "execution": {
     "iopub.execute_input": "2025-08-19T17:59:00.522573Z",
     "iopub.status.busy": "2025-08-19T17:59:00.521193Z",
     "iopub.status.idle": "2025-08-19T17:59:02.224695Z",
     "shell.execute_reply": "2025-08-19T17:59:02.223386Z"
    },
    "papermill": {
     "duration": 1.719952,
     "end_time": "2025-08-19T17:59:02.226253",
     "exception": false,
     "start_time": "2025-08-19T17:59:00.506301",
     "status": "completed"
    },
    "tags": []
   },
   "outputs": [],
   "source": [
    "example_universe = universe.copy()\n",
    "example_universe[\"cutoff\"] = example_universe[\"cutoff\"][0]\n",
    "example_universe[\"eval_fairness_grouping\"] = example_universe[\"eval_fairness_grouping\"][0]\n",
    "fairness_dict, metric_frame = universe_analysis.compute_metrics(\n",
    "    example_universe,\n",
    "    y_pred_prob=probs_test,\n",
    "    y_test=y_true,\n",
    "    org_test=org_test,\n",
    ")"
   ]
  },
  {
   "cell_type": "markdown",
   "id": "1fb7a0e9",
   "metadata": {
    "papermill": {
     "duration": 0.012984,
     "end_time": "2025-08-19T17:59:02.254901",
     "exception": false,
     "start_time": "2025-08-19T17:59:02.241917",
     "status": "completed"
    },
    "tags": []
   },
   "source": [
    "# Overall"
   ]
  },
  {
   "cell_type": "markdown",
   "id": "be1784b1",
   "metadata": {
    "papermill": {
     "duration": 0.01282,
     "end_time": "2025-08-19T17:59:02.280440",
     "exception": false,
     "start_time": "2025-08-19T17:59:02.267620",
     "status": "completed"
    },
    "tags": []
   },
   "source": [
    "Main fairness target: Equalized Odds. Seems to be a better fit than equal opportunity, since we're not only interested in Y = 1. Seems to be a better fit than demographic parity, since we also care about accuracy, not just equal distribution of preds.\n",
    "\n",
    "Pick column for computation of fairness metrics\n",
    "\n",
    "Performance\n",
    "Overall performance measures, most interesting in relation to the measures split by group below"
   ]
  },
  {
   "cell_type": "code",
   "execution_count": 59,
   "id": "b7672bee",
   "metadata": {
    "execution": {
     "iopub.execute_input": "2025-08-19T17:59:02.309296Z",
     "iopub.status.busy": "2025-08-19T17:59:02.308143Z",
     "iopub.status.idle": "2025-08-19T17:59:02.324085Z",
     "shell.execute_reply": "2025-08-19T17:59:02.322971Z"
    },
    "papermill": {
     "duration": 0.032594,
     "end_time": "2025-08-19T17:59:02.325657",
     "exception": false,
     "start_time": "2025-08-19T17:59:02.293063",
     "status": "completed"
    },
    "tags": []
   },
   "outputs": [
    {
     "data": {
      "text/plain": [
       "accuracy                   0.217178\n",
       "balanced accuracy          0.532537\n",
       "f1                         0.238707\n",
       "precision                  0.136365\n",
       "false positive rate        0.891652\n",
       "false negative rate        0.043274\n",
       "selection rate             0.900000\n",
       "count                  89710.000000\n",
       "dtype: float64"
      ]
     },
     "execution_count": 59,
     "metadata": {},
     "output_type": "execute_result"
    }
   ],
   "source": [
    "metric_frame.overall"
   ]
  },
  {
   "cell_type": "markdown",
   "id": "d93333c9",
   "metadata": {
    "papermill": {
     "duration": 0.012847,
     "end_time": "2025-08-19T17:59:02.355500",
     "exception": false,
     "start_time": "2025-08-19T17:59:02.342653",
     "status": "completed"
    },
    "tags": []
   },
   "source": [
    "By Group"
   ]
  },
  {
   "cell_type": "code",
   "execution_count": 60,
   "id": "52256966",
   "metadata": {
    "execution": {
     "iopub.execute_input": "2025-08-19T17:59:02.384573Z",
     "iopub.status.busy": "2025-08-19T17:59:02.383300Z",
     "iopub.status.idle": "2025-08-19T17:59:02.405486Z",
     "shell.execute_reply": "2025-08-19T17:59:02.404613Z"
    },
    "papermill": {
     "duration": 0.039146,
     "end_time": "2025-08-19T17:59:02.407724",
     "exception": false,
     "start_time": "2025-08-19T17:59:02.368578",
     "status": "completed"
    },
    "tags": []
   },
   "outputs": [
    {
     "data": {
      "text/html": [
       "<div>\n",
       "<style scoped>\n",
       "    .dataframe tbody tr th:only-of-type {\n",
       "        vertical-align: middle;\n",
       "    }\n",
       "\n",
       "    .dataframe tbody tr th {\n",
       "        vertical-align: top;\n",
       "    }\n",
       "\n",
       "    .dataframe thead th {\n",
       "        text-align: right;\n",
       "    }\n",
       "</style>\n",
       "<table border=\"1\" class=\"dataframe\">\n",
       "  <thead>\n",
       "    <tr style=\"text-align: right;\">\n",
       "      <th></th>\n",
       "      <th>accuracy</th>\n",
       "      <th>balanced accuracy</th>\n",
       "      <th>f1</th>\n",
       "      <th>precision</th>\n",
       "      <th>false positive rate</th>\n",
       "      <th>false negative rate</th>\n",
       "      <th>selection rate</th>\n",
       "      <th>count</th>\n",
       "    </tr>\n",
       "    <tr>\n",
       "      <th>majmin</th>\n",
       "      <th></th>\n",
       "      <th></th>\n",
       "      <th></th>\n",
       "      <th></th>\n",
       "      <th></th>\n",
       "      <th></th>\n",
       "      <th></th>\n",
       "      <th></th>\n",
       "    </tr>\n",
       "  </thead>\n",
       "  <tbody>\n",
       "    <tr>\n",
       "      <th>majority</th>\n",
       "      <td>0.239034</td>\n",
       "      <td>0.539882</td>\n",
       "      <td>0.247842</td>\n",
       "      <td>0.142538</td>\n",
       "      <td>0.869032</td>\n",
       "      <td>0.051204</td>\n",
       "      <td>0.879572</td>\n",
       "      <td>69170.0</td>\n",
       "    </tr>\n",
       "    <tr>\n",
       "      <th>minority</th>\n",
       "      <td>0.143574</td>\n",
       "      <td>0.510477</td>\n",
       "      <td>0.209997</td>\n",
       "      <td>0.117493</td>\n",
       "      <td>0.966377</td>\n",
       "      <td>0.012669</td>\n",
       "      <td>0.968793</td>\n",
       "      <td>20540.0</td>\n",
       "    </tr>\n",
       "  </tbody>\n",
       "</table>\n",
       "</div>"
      ],
      "text/plain": [
       "          accuracy  balanced accuracy        f1  precision  \\\n",
       "majmin                                                       \n",
       "majority  0.239034           0.539882  0.247842   0.142538   \n",
       "minority  0.143574           0.510477  0.209997   0.117493   \n",
       "\n",
       "          false positive rate  false negative rate  selection rate    count  \n",
       "majmin                                                                       \n",
       "majority             0.869032             0.051204        0.879572  69170.0  \n",
       "minority             0.966377             0.012669        0.968793  20540.0  "
      ]
     },
     "execution_count": 60,
     "metadata": {},
     "output_type": "execute_result"
    }
   ],
   "source": [
    "metric_frame.by_group"
   ]
  },
  {
   "cell_type": "code",
   "execution_count": 61,
   "id": "6e6c20ae",
   "metadata": {
    "execution": {
     "iopub.execute_input": "2025-08-19T17:59:02.444037Z",
     "iopub.status.busy": "2025-08-19T17:59:02.443023Z",
     "iopub.status.idle": "2025-08-19T17:59:04.291057Z",
     "shell.execute_reply": "2025-08-19T17:59:04.290207Z"
    },
    "papermill": {
     "duration": 1.864142,
     "end_time": "2025-08-19T17:59:04.292275",
     "exception": false,
     "start_time": "2025-08-19T17:59:02.428133",
     "status": "completed"
    },
    "tags": []
   },
   "outputs": [
    {
     "data": {
      "text/plain": [
       "array([[<Axes: title={'center': 'accuracy'}, xlabel='majmin'>,\n",
       "        <Axes: title={'center': 'balanced accuracy'}, xlabel='majmin'>,\n",
       "        <Axes: title={'center': 'f1'}, xlabel='majmin'>],\n",
       "       [<Axes: title={'center': 'precision'}, xlabel='majmin'>,\n",
       "        <Axes: title={'center': 'false positive rate'}, xlabel='majmin'>,\n",
       "        <Axes: title={'center': 'false negative rate'}, xlabel='majmin'>],\n",
       "       [<Axes: title={'center': 'selection rate'}, xlabel='majmin'>,\n",
       "        <Axes: title={'center': 'count'}, xlabel='majmin'>,\n",
       "        <Axes: xlabel='majmin'>]], dtype=object)"
      ]
     },
     "execution_count": 61,
     "metadata": {},
     "output_type": "execute_result"
    },
    {
     "data": {
      "image/png": "[encoded data removed]",
      "text/plain": [
       "<Figure size 1200x800 with 9 Axes>"
      ]
     },
     "metadata": {},
     "output_type": "display_data"
    }
   ],
   "source": [
    "# In a graphic\n",
    "metric_frame.by_group.plot.bar(\n",
    "    subplots=True,\n",
    "    layout=[3, 3],\n",
    "    legend=False,\n",
    "    figsize=[12, 8],\n",
    "    title=\"Show all metrics\",\n",
    ")"
   ]
  },
  {
   "cell_type": "markdown",
   "id": "b2e433ae",
   "metadata": {
    "papermill": {
     "duration": 0.022658,
     "end_time": "2025-08-19T17:59:04.336363",
     "exception": false,
     "start_time": "2025-08-19T17:59:04.313705",
     "status": "completed"
    },
    "tags": []
   },
   "source": [
    "# Final Output"
   ]
  },
  {
   "cell_type": "code",
   "execution_count": 62,
   "id": "3871301e",
   "metadata": {
    "execution": {
     "iopub.execute_input": "2025-08-19T17:59:04.366354Z",
     "iopub.status.busy": "2025-08-19T17:59:04.365527Z",
     "iopub.status.idle": "2025-08-19T17:59:04.374438Z",
     "shell.execute_reply": "2025-08-19T17:59:04.373835Z"
    },
    "papermill": {
     "duration": 0.025687,
     "end_time": "2025-08-19T17:59:04.376441",
     "exception": false,
     "start_time": "2025-08-19T17:59:04.350754",
     "status": "completed"
    },
    "tags": []
   },
   "outputs": [
    {
     "data": {
      "text/plain": [
       "4"
      ]
     },
     "execution_count": 62,
     "metadata": {},
     "output_type": "execute_result"
    }
   ],
   "source": [
    "sub_universes = universe_analysis.generate_sub_universes()\n",
    "len(sub_universes)"
   ]
  },
  {
   "cell_type": "code",
   "execution_count": 63,
   "id": "d9cfdaca",
   "metadata": {
    "execution": {
     "iopub.execute_input": "2025-08-19T17:59:04.405688Z",
     "iopub.status.busy": "2025-08-19T17:59:04.405320Z",
     "iopub.status.idle": "2025-08-19T17:59:04.410316Z",
     "shell.execute_reply": "2025-08-19T17:59:04.409211Z"
    },
    "papermill": {
     "duration": 0.021391,
     "end_time": "2025-08-19T17:59:04.411723",
     "exception": false,
     "start_time": "2025-08-19T17:59:04.390332",
     "status": "completed"
    },
    "tags": []
   },
   "outputs": [],
   "source": [
    "def filter_sub_universe_data(sub_universe, org_test):\n",
    "    # Keep all rows — no filtering\n",
    "    keep_rows_mask = np.ones(org_test.shape[0], dtype=bool)\n",
    "\n",
    "    print(f\"[INFO] Keeping all rows: {keep_rows_mask.sum()} rows retained.\")\n",
    "    return keep_rows_mask"
   ]
  },
  {
   "cell_type": "code",
   "execution_count": 64,
   "id": "2bc31ac1",
   "metadata": {
    "execution": {
     "iopub.execute_input": "2025-08-19T17:59:04.440547Z",
     "iopub.status.busy": "2025-08-19T17:59:04.440159Z",
     "iopub.status.idle": "2025-08-19T17:59:11.097449Z",
     "shell.execute_reply": "2025-08-19T17:59:11.096488Z"
    },
    "papermill": {
     "duration": 6.673138,
     "end_time": "2025-08-19T17:59:11.098726",
     "exception": false,
     "start_time": "2025-08-19T17:59:04.425588",
     "status": "completed"
    },
    "tags": []
   },
   "outputs": [
    {
     "name": "stdout",
     "output_type": "stream",
     "text": [
      "Stopping execution_time clock.\n",
      "[INFO] Keeping all rows: 89710 rows retained.\n"
     ]
    },
    {
     "name": "stdout",
     "output_type": "stream",
     "text": [
      "[INFO] Keeping all rows: 89710 rows retained.\n"
     ]
    },
    {
     "name": "stdout",
     "output_type": "stream",
     "text": [
      "[INFO] Keeping all rows: 89710 rows retained.\n"
     ]
    },
    {
     "name": "stdout",
     "output_type": "stream",
     "text": [
      "[INFO] Keeping all rows: 89710 rows retained.\n"
     ]
    },
    {
     "data": {
      "text/html": [
       "<div>\n",
       "<style scoped>\n",
       "    .dataframe tbody tr th:only-of-type {\n",
       "        vertical-align: middle;\n",
       "    }\n",
       "\n",
       "    .dataframe tbody tr th {\n",
       "        vertical-align: top;\n",
       "    }\n",
       "\n",
       "    .dataframe thead th {\n",
       "        text-align: right;\n",
       "    }\n",
       "</style>\n",
       "<table border=\"1\" class=\"dataframe\">\n",
       "  <thead>\n",
       "    <tr style=\"text-align: right;\">\n",
       "      <th></th>\n",
       "      <th>run_no</th>\n",
       "      <th>universe_id</th>\n",
       "      <th>universe_settings</th>\n",
       "      <th>execution_time</th>\n",
       "      <th>test_size_n</th>\n",
       "      <th>test_size_frac</th>\n",
       "      <th>fair_main_equalized_odds_difference</th>\n",
       "      <th>fair_main_equalized_odds_ratio</th>\n",
       "      <th>fair_main_demographic_parity_difference</th>\n",
       "      <th>fair_main_demographic_parity_ratio</th>\n",
       "      <th>...</th>\n",
       "      <th>perf_grp_precision_0</th>\n",
       "      <th>perf_grp_precision_1</th>\n",
       "      <th>perf_grp_false positive rate_0</th>\n",
       "      <th>perf_grp_false positive rate_1</th>\n",
       "      <th>perf_grp_false negative rate_0</th>\n",
       "      <th>perf_grp_false negative rate_1</th>\n",
       "      <th>perf_grp_selection rate_0</th>\n",
       "      <th>perf_grp_selection rate_1</th>\n",
       "      <th>perf_grp_count_0</th>\n",
       "      <th>perf_grp_count_1</th>\n",
       "    </tr>\n",
       "  </thead>\n",
       "  <tbody>\n",
       "    <tr>\n",
       "      <th>0</th>\n",
       "      <td>3</td>\n",
       "      <td>98747486137f37cf92985a39255d4805</td>\n",
       "      <td>{\"cutoff\": \"quantile_0.1\", \"eval_fairness_grou...</td>\n",
       "      <td>21.640167</td>\n",
       "      <td>89710</td>\n",
       "      <td>1.0</td>\n",
       "      <td>0.097345</td>\n",
       "      <td>0.899268</td>\n",
       "      <td>0.089221</td>\n",
       "      <td>0.907905</td>\n",
       "      <td>...</td>\n",
       "      <td>NaN</td>\n",
       "      <td>NaN</td>\n",
       "      <td>NaN</td>\n",
       "      <td>NaN</td>\n",
       "      <td>NaN</td>\n",
       "      <td>NaN</td>\n",
       "      <td>NaN</td>\n",
       "      <td>NaN</td>\n",
       "      <td>NaN</td>\n",
       "      <td>NaN</td>\n",
       "    </tr>\n",
       "    <tr>\n",
       "      <th>0</th>\n",
       "      <td>3</td>\n",
       "      <td>98747486137f37cf92985a39255d4805</td>\n",
       "      <td>{\"cutoff\": \"quantile_0.1\", \"eval_fairness_grou...</td>\n",
       "      <td>21.640167</td>\n",
       "      <td>89710</td>\n",
       "      <td>1.0</td>\n",
       "      <td>0.097345</td>\n",
       "      <td>0.899268</td>\n",
       "      <td>0.089221</td>\n",
       "      <td>0.907905</td>\n",
       "      <td>...</td>\n",
       "      <td>0.117493</td>\n",
       "      <td>0.142538</td>\n",
       "      <td>0.966377</td>\n",
       "      <td>0.869032</td>\n",
       "      <td>0.012669</td>\n",
       "      <td>0.051204</td>\n",
       "      <td>0.968793</td>\n",
       "      <td>0.879572</td>\n",
       "      <td>20540.0</td>\n",
       "      <td>69170.0</td>\n",
       "    </tr>\n",
       "    <tr>\n",
       "      <th>0</th>\n",
       "      <td>3</td>\n",
       "      <td>98747486137f37cf92985a39255d4805</td>\n",
       "      <td>{\"cutoff\": \"quantile_0.25\", \"eval_fairness_gro...</td>\n",
       "      <td>21.640167</td>\n",
       "      <td>89710</td>\n",
       "      <td>1.0</td>\n",
       "      <td>0.210412</td>\n",
       "      <td>0.763946</td>\n",
       "      <td>0.192592</td>\n",
       "      <td>0.785649</td>\n",
       "      <td>...</td>\n",
       "      <td>NaN</td>\n",
       "      <td>NaN</td>\n",
       "      <td>NaN</td>\n",
       "      <td>NaN</td>\n",
       "      <td>NaN</td>\n",
       "      <td>NaN</td>\n",
       "      <td>NaN</td>\n",
       "      <td>NaN</td>\n",
       "      <td>NaN</td>\n",
       "      <td>NaN</td>\n",
       "    </tr>\n",
       "    <tr>\n",
       "      <th>0</th>\n",
       "      <td>3</td>\n",
       "      <td>98747486137f37cf92985a39255d4805</td>\n",
       "      <td>{\"cutoff\": \"quantile_0.25\", \"eval_fairness_gro...</td>\n",
       "      <td>21.640167</td>\n",
       "      <td>89710</td>\n",
       "      <td>1.0</td>\n",
       "      <td>0.210412</td>\n",
       "      <td>0.763946</td>\n",
       "      <td>0.192592</td>\n",
       "      <td>0.785649</td>\n",
       "      <td>...</td>\n",
       "      <td>0.122297</td>\n",
       "      <td>0.162799</td>\n",
       "      <td>0.891371</td>\n",
       "      <td>0.680960</td>\n",
       "      <td>0.046875</td>\n",
       "      <td>0.130306</td>\n",
       "      <td>0.898491</td>\n",
       "      <td>0.705899</td>\n",
       "      <td>20540.0</td>\n",
       "      <td>69170.0</td>\n",
       "    </tr>\n",
       "  </tbody>\n",
       "</table>\n",
       "<p>4 rows × 50 columns</p>\n",
       "</div>"
      ],
      "text/plain": [
       "  run_no                       universe_id  \\\n",
       "0      3  98747486137f37cf92985a39255d4805   \n",
       "0      3  98747486137f37cf92985a39255d4805   \n",
       "0      3  98747486137f37cf92985a39255d4805   \n",
       "0      3  98747486137f37cf92985a39255d4805   \n",
       "\n",
       "                                   universe_settings  execution_time  \\\n",
       "0  {\"cutoff\": \"quantile_0.1\", \"eval_fairness_grou...       21.640167   \n",
       "0  {\"cutoff\": \"quantile_0.1\", \"eval_fairness_grou...       21.640167   \n",
       "0  {\"cutoff\": \"quantile_0.25\", \"eval_fairness_gro...       21.640167   \n",
       "0  {\"cutoff\": \"quantile_0.25\", \"eval_fairness_gro...       21.640167   \n",
       "\n",
       "   test_size_n  test_size_frac  fair_main_equalized_odds_difference  \\\n",
       "0        89710             1.0                             0.097345   \n",
       "0        89710             1.0                             0.097345   \n",
       "0        89710             1.0                             0.210412   \n",
       "0        89710             1.0                             0.210412   \n",
       "\n",
       "   fair_main_equalized_odds_ratio  fair_main_demographic_parity_difference  \\\n",
       "0                        0.899268                                 0.089221   \n",
       "0                        0.899268                                 0.089221   \n",
       "0                        0.763946                                 0.192592   \n",
       "0                        0.763946                                 0.192592   \n",
       "\n",
       "   fair_main_demographic_parity_ratio  ...  perf_grp_precision_0  \\\n",
       "0                            0.907905  ...                   NaN   \n",
       "0                            0.907905  ...              0.117493   \n",
       "0                            0.785649  ...                   NaN   \n",
       "0                            0.785649  ...              0.122297   \n",
       "\n",
       "   perf_grp_precision_1  perf_grp_false positive rate_0  \\\n",
       "0                   NaN                             NaN   \n",
       "0              0.142538                        0.966377   \n",
       "0                   NaN                             NaN   \n",
       "0              0.162799                        0.891371   \n",
       "\n",
       "   perf_grp_false positive rate_1  perf_grp_false negative rate_0  \\\n",
       "0                             NaN                             NaN   \n",
       "0                        0.869032                        0.012669   \n",
       "0                             NaN                             NaN   \n",
       "0                        0.680960                        0.046875   \n",
       "\n",
       "   perf_grp_false negative rate_1  perf_grp_selection rate_0  \\\n",
       "0                             NaN                        NaN   \n",
       "0                        0.051204                   0.968793   \n",
       "0                             NaN                        NaN   \n",
       "0                        0.130306                   0.898491   \n",
       "\n",
       "   perf_grp_selection rate_1  perf_grp_count_0  perf_grp_count_1  \n",
       "0                        NaN               NaN               NaN  \n",
       "0                   0.879572           20540.0           69170.0  \n",
       "0                        NaN               NaN               NaN  \n",
       "0                   0.705899           20540.0           69170.0  \n",
       "\n",
       "[4 rows x 50 columns]"
      ]
     },
     "execution_count": 64,
     "metadata": {},
     "output_type": "execute_result"
    }
   ],
   "source": [
    "final_output = universe_analysis.generate_final_output(\n",
    "    y_pred_prob=probs_test,\n",
    "    y_test=y_true,\n",
    "    org_test=org_test,\n",
    "    filter_data=filter_sub_universe_data,\n",
    "    cp_metrics_df=cp_metrics_df,\n",
    "    save=True,\n",
    ")\n",
    "final_output"
   ]
  },
  {
   "cell_type": "code",
   "execution_count": null,
   "id": "8b80a1ff",
   "metadata": {
    "papermill": {
     "duration": 0.014174,
     "end_time": "2025-08-19T17:59:11.130018",
     "exception": false,
     "start_time": "2025-08-19T17:59:11.115844",
     "status": "completed"
    },
    "tags": []
   },
   "outputs": [],
   "source": []
  },
  {
   "cell_type": "code",
   "execution_count": null,
   "id": "275c9fad",
   "metadata": {
    "papermill": {
     "duration": 0.014008,
     "end_time": "2025-08-19T17:59:11.158106",
     "exception": false,
     "start_time": "2025-08-19T17:59:11.144098",
     "status": "completed"
    },
    "tags": []
   },
   "outputs": [],
   "source": []
  }
 ],
 "metadata": {
  "celltoolbar": "Tags",
  "kernelspec": {
   "display_name": "Python (CMA Fairness)",
   "language": "python",
   "name": "cma_fair_env"
  },
  "language_info": {
   "codemirror_mode": {
    "name": "ipython",
    "version": 3
   },
   "file_extension": ".py",
   "mimetype": "text/x-python",
   "name": "python",
   "nbconvert_exporter": "python",
   "pygments_lexer": "ipython3",
   "version": "3.10.12"
  },
  "papermill": {
   "default_parameters": {},
   "duration": 31.877965,
   "end_time": "2025-08-19T17:59:11.902983",
   "environment_variables": {},
   "exception": null,
   "input_path": "universe_analysis.ipynb",
   "output_path": "output/runs/3/notebooks/m_3-98747486137f37cf92985a39255d4805.ipynb",
   "parameters": {
    "output_dir": "output",
    "run_no": "3",
    "seed": "2023",
    "universe": "{\"cutoff\": [\"quantile_0.1\", \"quantile_0.25\"], \"eval_fairness_grouping\": [\"majority-minority\", \"nationality-all\"], \"exclude_features\": \"nationality\", \"exclude_subgroups\": \"keep-all\", \"model\": \"penalized_logreg\", \"scale\": \"do-not-scale\", \"training_size\": \"25k\", \"training_year\": \"2014\"}",
    "universe_id": "98747486137f37cf92985a39255d4805"
   },
   "start_time": "2025-08-19T17:58:40.025018",
   "version": "2.6.0"
  }
 },
 "nbformat": 4,
 "nbformat_minor": 5
}