{
 "cells": [
  {
   "cell_type": "markdown",
   "id": "ef23dbb3",
   "metadata": {
    "papermill": {
     "duration": 0.023346,
     "end_time": "2025-08-19T18:27:23.568886",
     "exception": false,
     "start_time": "2025-08-19T18:27:23.545540",
     "status": "completed"
    },
    "tags": []
   },
   "source": [
    "# Setup"
   ]
  },
  {
   "cell_type": "code",
   "execution_count": 1,
   "id": "0bc8e7dc",
   "metadata": {
    "execution": {
     "iopub.execute_input": "2025-08-19T18:27:23.591697Z",
     "iopub.status.busy": "2025-08-19T18:27:23.591201Z",
     "iopub.status.idle": "2025-08-19T18:27:23.601291Z",
     "shell.execute_reply": "2025-08-19T18:27:23.600454Z"
    },
    "papermill": {
     "duration": 0.024727,
     "end_time": "2025-08-19T18:27:23.606245",
     "exception": false,
     "start_time": "2025-08-19T18:27:23.581518",
     "status": "completed"
    },
    "tags": []
   },
   "outputs": [
    {
     "name": "stdout",
     "output_type": "stream",
     "text": [
      "/dss/dsshome1/0C/ra93lal2/cma/CMA_Fairness_v2\n"
     ]
    },
    {
     "name": "stderr",
     "output_type": "stream",
     "text": [
      "/dss/dsshome1/0C/ra93lal2/.local/share/virtualenvs/CMA_Fairness_v2-3j10GkSs/lib/python3.10/site-packages/IPython/core/magics/osm.py:393: UserWarning: This is now an optional IPython functionality, using bookmarks requires you to install the `pickleshare` library.\n",
      "  bkms = self.shell.db.get('bookmarks', {})\n",
      "/dss/dsshome1/0C/ra93lal2/.local/share/virtualenvs/CMA_Fairness_v2-3j10GkSs/lib/python3.10/site-packages/IPython/core/magics/osm.py:417: UserWarning: This is now an optional IPython functionality, setting dhist requires you to install the `pickleshare` library.\n",
      "  self.shell.db['dhist'] = compress_dhist(dhist)[-100:]\n"
     ]
    }
   ],
   "source": [
    "%cd ~/cma/CMA_Fairness_v2"
   ]
  },
  {
   "cell_type": "markdown",
   "id": "9d235661",
   "metadata": {
    "papermill": {
     "duration": 0.010465,
     "end_time": "2025-08-19T18:27:23.635072",
     "exception": false,
     "start_time": "2025-08-19T18:27:23.624607",
     "status": "completed"
    },
    "tags": []
   },
   "source": [
    "The following cell holds the definition of our parameters, these values can be overriden by rendering the with e.g. the following command:\n",
    "\n",
    "papermill -p alpha 0.2 -p ratio 0.3 universe_analysis.ipynb output/test_run.ipynb"
   ]
  },
  {
   "cell_type": "code",
   "execution_count": 2,
   "id": "4a789d8e",
   "metadata": {
    "execution": {
     "iopub.execute_input": "2025-08-19T18:27:23.655336Z",
     "iopub.status.busy": "2025-08-19T18:27:23.654188Z",
     "iopub.status.idle": "2025-08-19T18:27:23.662947Z",
     "shell.execute_reply": "2025-08-19T18:27:23.661601Z"
    },
    "papermill": {
     "duration": 0.020832,
     "end_time": "2025-08-19T18:27:23.664557",
     "exception": false,
     "start_time": "2025-08-19T18:27:23.643725",
     "status": "completed"
    },
    "tags": []
   },
   "outputs": [
    {
     "name": "stdout",
     "output_type": "stream",
     "text": [
      "Current working directory: /dss/dsshome1/0C/ra93lal2/cma/CMA_Fairness_v2\n"
     ]
    }
   ],
   "source": [
    "import os\n",
    "print(\"Current working directory:\", os.getcwd())"
   ]
  },
  {
   "cell_type": "code",
   "execution_count": 3,
   "id": "4132aaed",
   "metadata": {
    "execution": {
     "iopub.execute_input": "2025-08-19T18:27:23.686623Z",
     "iopub.status.busy": "2025-08-19T18:27:23.685541Z",
     "iopub.status.idle": "2025-08-19T18:27:23.695651Z",
     "shell.execute_reply": "2025-08-19T18:27:23.694068Z"
    },
    "papermill": {
     "duration": 0.0224,
     "end_time": "2025-08-19T18:27:23.697439",
     "exception": false,
     "start_time": "2025-08-19T18:27:23.675039",
     "status": "completed"
    },
    "tags": [
     "parameters"
    ]
   },
   "outputs": [],
   "source": [
    "run_no = 0\n",
    "universe_id = \"test\"\n",
    "universe = {\n",
    "    \"training_size\": \"5k\", # \"25k\", \"5k\", \"1k\"\n",
    "    \"training_year\": \"2012_14\", # \"2014\", \"2012_14\", \"2010_14\"\n",
    "    \"scale\": \"scale\", # \"scale\", \"do-not-scale\",\n",
    "    \"model\": \"elasticnet\", # \"logreg\", \"penalized_logreg\", \"rf\", \"gbm\", \"elasticnet\"\n",
    "    \"cutoff\": [\"quantile_0.15\", \"quantile_0.30\"],\n",
    "    \"exclude_features\": \"age\", # \"none\", \"nationality\", \"sex\", \"nationality-sex\", \"age\"\n",
    "    \"exclude_subgroups\": \"drop-non-german\", # \"keep-all\", \"drop-non-german\"\n",
    "    \"eval_fairness_grouping\": [\"majority-minority\", \"nationality-all\"]\n",
    "}\n",
    "\n",
    "output_dir=\"./output\"\n",
    "seed=0"
   ]
  },
  {
   "cell_type": "code",
   "execution_count": 4,
   "id": "767b6b9e",
   "metadata": {
    "execution": {
     "iopub.execute_input": "2025-08-19T18:27:23.721378Z",
     "iopub.status.busy": "2025-08-19T18:27:23.720732Z",
     "iopub.status.idle": "2025-08-19T18:27:23.726199Z",
     "shell.execute_reply": "2025-08-19T18:27:23.725454Z"
    },
    "papermill": {
     "duration": 0.017804,
     "end_time": "2025-08-19T18:27:23.727722",
     "exception": false,
     "start_time": "2025-08-19T18:27:23.709918",
     "status": "completed"
    },
    "tags": [
     "injected-parameters"
    ]
   },
   "outputs": [],
   "source": [
    "# Parameters\n",
    "universe_id = \"1ad98b4e03cb337821ca62ac5fa740b4\"\n",
    "run_no = \"3\"\n",
    "universe = \"{\\\"cutoff\\\": [\\\"quantile_0.1\\\", \\\"quantile_0.25\\\"], \\\"eval_fairness_grouping\\\": [\\\"majority-minority\\\", \\\"nationality-all\\\"], \\\"exclude_features\\\": \\\"none\\\", \\\"exclude_subgroups\\\": \\\"keep-all\\\", \\\"model\\\": \\\"penalized_logreg\\\", \\\"scale\\\": \\\"do-not-scale\\\", \\\"training_size\\\": \\\"5k\\\", \\\"training_year\\\": \\\"2014\\\"}\"\n",
    "output_dir = \"output\"\n",
    "seed = \"2023\"\n"
   ]
  },
  {
   "cell_type": "code",
   "execution_count": 5,
   "id": "a5d7941f",
   "metadata": {
    "execution": {
     "iopub.execute_input": "2025-08-19T18:27:23.747372Z",
     "iopub.status.busy": "2025-08-19T18:27:23.747076Z",
     "iopub.status.idle": "2025-08-19T18:27:23.751340Z",
     "shell.execute_reply": "2025-08-19T18:27:23.750540Z"
    },
    "papermill": {
     "duration": 0.015682,
     "end_time": "2025-08-19T18:27:23.752710",
     "exception": false,
     "start_time": "2025-08-19T18:27:23.737028",
     "status": "completed"
    },
    "tags": []
   },
   "outputs": [],
   "source": [
    "import json\n",
    "if isinstance(universe, str):\n",
    "    universe = json.loads(universe)"
   ]
  },
  {
   "cell_type": "code",
   "execution_count": 6,
   "id": "7076ccb1",
   "metadata": {
    "execution": {
     "iopub.execute_input": "2025-08-19T18:27:23.772601Z",
     "iopub.status.busy": "2025-08-19T18:27:23.772281Z",
     "iopub.status.idle": "2025-08-19T18:27:23.806199Z",
     "shell.execute_reply": "2025-08-19T18:27:23.805456Z"
    },
    "papermill": {
     "duration": 0.045782,
     "end_time": "2025-08-19T18:27:23.807788",
     "exception": false,
     "start_time": "2025-08-19T18:27:23.762006",
     "status": "completed"
    },
    "tags": []
   },
   "outputs": [],
   "source": [
    "# Auto-reload the custom package\n",
    "%load_ext autoreload\n",
    "%autoreload 1\n",
    "%aimport fairness_multiverse"
   ]
  },
  {
   "cell_type": "code",
   "execution_count": 7,
   "id": "94c8eb93",
   "metadata": {
    "execution": {
     "iopub.execute_input": "2025-08-19T18:27:23.837108Z",
     "iopub.status.busy": "2025-08-19T18:27:23.836780Z",
     "iopub.status.idle": "2025-08-19T18:27:25.313308Z",
     "shell.execute_reply": "2025-08-19T18:27:25.311700Z"
    },
    "papermill": {
     "duration": 1.49483,
     "end_time": "2025-08-19T18:27:25.315939",
     "exception": false,
     "start_time": "2025-08-19T18:27:23.821109",
     "status": "completed"
    },
    "tags": []
   },
   "outputs": [],
   "source": [
    "from fairness_multiverse.universe import UniverseAnalysis\n",
    "\n",
    "universe_analysis = UniverseAnalysis(\n",
    "    run_no = run_no,\n",
    "    universe_id = universe_id,\n",
    "    universe = universe,\n",
    "    output_dir=output_dir,\n",
    ")"
   ]
  },
  {
   "cell_type": "code",
   "execution_count": 8,
   "id": "2a6381cf",
   "metadata": {
    "execution": {
     "iopub.execute_input": "2025-08-19T18:27:25.337828Z",
     "iopub.status.busy": "2025-08-19T18:27:25.337494Z",
     "iopub.status.idle": "2025-08-19T18:27:25.347905Z",
     "shell.execute_reply": "2025-08-19T18:27:25.346730Z"
    },
    "papermill": {
     "duration": 0.022952,
     "end_time": "2025-08-19T18:27:25.349583",
     "exception": false,
     "start_time": "2025-08-19T18:27:25.326631",
     "status": "completed"
    },
    "tags": []
   },
   "outputs": [
    {
     "name": "stdout",
     "output_type": "stream",
     "text": [
      "Using Seed: 2023\n"
     ]
    }
   ],
   "source": [
    "import numpy as np\n",
    "parsed_seed = int(seed)\n",
    "np.random.seed(parsed_seed)\n",
    "print(f\"Using Seed: {parsed_seed}\")"
   ]
  },
  {
   "cell_type": "markdown",
   "id": "b6e958b4",
   "metadata": {
    "papermill": {
     "duration": 0.009238,
     "end_time": "2025-08-19T18:27:25.368929",
     "exception": false,
     "start_time": "2025-08-19T18:27:25.359691",
     "status": "completed"
    },
    "tags": []
   },
   "source": [
    "# Loading Data"
   ]
  },
  {
   "cell_type": "code",
   "execution_count": 9,
   "id": "98701482",
   "metadata": {
    "execution": {
     "iopub.execute_input": "2025-08-19T18:27:25.388649Z",
     "iopub.status.busy": "2025-08-19T18:27:25.388317Z",
     "iopub.status.idle": "2025-08-19T18:27:36.951183Z",
     "shell.execute_reply": "2025-08-19T18:27:36.949737Z"
    },
    "papermill": {
     "duration": 11.57468,
     "end_time": "2025-08-19T18:27:36.952697",
     "exception": false,
     "start_time": "2025-08-19T18:27:25.378017",
     "status": "completed"
    },
    "tags": []
   },
   "outputs": [
    {
     "name": "stdout",
     "output_type": "stream",
     "text": [
      "Loading SIAB data from cache: data/siab_cached.csv.gz\n"
     ]
    },
    {
     "name": "stdout",
     "output_type": "stream",
     "text": [
      "(643690, 164)\n"
     ]
    }
   ],
   "source": [
    "from pathlib import Path\n",
    "import pandas as pd\n",
    "\n",
    "# File paths\n",
    "raw_file = Path(\"data/raw/siab.csv\")\n",
    "cache_file = Path(\"data/siab_cached.csv.gz\")\n",
    "\n",
    "# Ensure cache directory exists\n",
    "cache_file.parent.mkdir(parents=True, exist_ok=True)\n",
    "\n",
    "# Load with simple caching\n",
    "if cache_file.exists():\n",
    "    print(f\"Loading SIAB data from cache: {cache_file}\")\n",
    "    siab = pd.read_csv(cache_file, compression='gzip')\n",
    "else:\n",
    "    print(f\"Cache not found. Reading raw SIAB data: {raw_file}\")\n",
    "    siab = pd.read_csv(raw_file)\n",
    "    siab.to_csv(cache_file, index=False, compression='gzip')\n",
    "    print(f\"Cached SIAB data to: {cache_file}\")\n",
    "\n",
    "print(siab.shape)"
   ]
  },
  {
   "cell_type": "code",
   "execution_count": 10,
   "id": "058d2abb",
   "metadata": {
    "execution": {
     "iopub.execute_input": "2025-08-19T18:27:36.983519Z",
     "iopub.status.busy": "2025-08-19T18:27:36.983152Z",
     "iopub.status.idle": "2025-08-19T18:27:37.261090Z",
     "shell.execute_reply": "2025-08-19T18:27:37.260116Z"
    },
    "papermill": {
     "duration": 0.297533,
     "end_time": "2025-08-19T18:27:37.262319",
     "exception": false,
     "start_time": "2025-08-19T18:27:36.964786",
     "status": "completed"
    },
    "tags": []
   },
   "outputs": [
    {
     "data": {
      "text/html": [
       "<div>\n",
       "<style scoped>\n",
       "    .dataframe tbody tr th:only-of-type {\n",
       "        vertical-align: middle;\n",
       "    }\n",
       "\n",
       "    .dataframe tbody tr th {\n",
       "        vertical-align: top;\n",
       "    }\n",
       "\n",
       "    .dataframe thead th {\n",
       "        text-align: right;\n",
       "    }\n",
       "</style>\n",
       "<table border=\"1\" class=\"dataframe\">\n",
       "  <thead>\n",
       "    <tr style=\"text-align: right;\">\n",
       "      <th></th>\n",
       "      <th>persnr</th>\n",
       "      <th>year</th>\n",
       "      <th>nrEntry</th>\n",
       "      <th>ltue</th>\n",
       "      <th>employed_before</th>\n",
       "      <th>receipt_leh_before</th>\n",
       "      <th>receipt_lhg_before</th>\n",
       "      <th>se_before</th>\n",
       "      <th>ASU_notue_seeking_before</th>\n",
       "      <th>ASU_other_before</th>\n",
       "      <th>...</th>\n",
       "      <th>minijob_tot_dur_byage</th>\n",
       "      <th>ft_tot_dur_byage</th>\n",
       "      <th>befrist_tot_dur_byage</th>\n",
       "      <th>leih_tot_dur_byage</th>\n",
       "      <th>LHG_tot_dur_byage</th>\n",
       "      <th>LEH_tot_dur_byage</th>\n",
       "      <th>almp_tot_dur_byage</th>\n",
       "      <th>almp_aw_tot_dur_byage</th>\n",
       "      <th>se_tot_dur_byage</th>\n",
       "      <th>seeking1_tot_dur_byage</th>\n",
       "    </tr>\n",
       "  </thead>\n",
       "  <tbody>\n",
       "    <tr>\n",
       "      <th>0</th>\n",
       "      <td>7</td>\n",
       "      <td>2015</td>\n",
       "      <td>1</td>\n",
       "      <td>0</td>\n",
       "      <td>1</td>\n",
       "      <td>0</td>\n",
       "      <td>0</td>\n",
       "      <td>0</td>\n",
       "      <td>1</td>\n",
       "      <td>0</td>\n",
       "      <td>...</td>\n",
       "      <td>0.000000</td>\n",
       "      <td>0.000000</td>\n",
       "      <td>15.043478</td>\n",
       "      <td>0.000000</td>\n",
       "      <td>0.000000</td>\n",
       "      <td>0.000000</td>\n",
       "      <td>0.000000</td>\n",
       "      <td>0.000000</td>\n",
       "      <td>0.000000</td>\n",
       "      <td>0.000000</td>\n",
       "    </tr>\n",
       "    <tr>\n",
       "      <th>1</th>\n",
       "      <td>18</td>\n",
       "      <td>2010</td>\n",
       "      <td>1</td>\n",
       "      <td>1</td>\n",
       "      <td>0</td>\n",
       "      <td>0</td>\n",
       "      <td>0</td>\n",
       "      <td>0</td>\n",
       "      <td>0</td>\n",
       "      <td>0</td>\n",
       "      <td>...</td>\n",
       "      <td>0.000000</td>\n",
       "      <td>0.000000</td>\n",
       "      <td>0.000000</td>\n",
       "      <td>0.000000</td>\n",
       "      <td>0.000000</td>\n",
       "      <td>0.000000</td>\n",
       "      <td>0.000000</td>\n",
       "      <td>0.000000</td>\n",
       "      <td>0.000000</td>\n",
       "      <td>0.000000</td>\n",
       "    </tr>\n",
       "    <tr>\n",
       "      <th>2</th>\n",
       "      <td>18</td>\n",
       "      <td>2011</td>\n",
       "      <td>2</td>\n",
       "      <td>0</td>\n",
       "      <td>1</td>\n",
       "      <td>0</td>\n",
       "      <td>1</td>\n",
       "      <td>0</td>\n",
       "      <td>1</td>\n",
       "      <td>0</td>\n",
       "      <td>...</td>\n",
       "      <td>2.714286</td>\n",
       "      <td>2.714286</td>\n",
       "      <td>0.000000</td>\n",
       "      <td>0.000000</td>\n",
       "      <td>10.775510</td>\n",
       "      <td>0.000000</td>\n",
       "      <td>8.367347</td>\n",
       "      <td>0.000000</td>\n",
       "      <td>0.000000</td>\n",
       "      <td>9.836735</td>\n",
       "    </tr>\n",
       "    <tr>\n",
       "      <th>3</th>\n",
       "      <td>18</td>\n",
       "      <td>2012</td>\n",
       "      <td>3</td>\n",
       "      <td>0</td>\n",
       "      <td>1</td>\n",
       "      <td>0</td>\n",
       "      <td>1</td>\n",
       "      <td>0</td>\n",
       "      <td>1</td>\n",
       "      <td>0</td>\n",
       "      <td>...</td>\n",
       "      <td>4.200000</td>\n",
       "      <td>4.200000</td>\n",
       "      <td>0.000000</td>\n",
       "      <td>0.000000</td>\n",
       "      <td>12.100000</td>\n",
       "      <td>0.000000</td>\n",
       "      <td>9.400000</td>\n",
       "      <td>0.000000</td>\n",
       "      <td>0.000000</td>\n",
       "      <td>9.960000</td>\n",
       "    </tr>\n",
       "    <tr>\n",
       "      <th>4</th>\n",
       "      <td>18</td>\n",
       "      <td>2012</td>\n",
       "      <td>4</td>\n",
       "      <td>0</td>\n",
       "      <td>1</td>\n",
       "      <td>0</td>\n",
       "      <td>1</td>\n",
       "      <td>0</td>\n",
       "      <td>1</td>\n",
       "      <td>0</td>\n",
       "      <td>...</td>\n",
       "      <td>5.460000</td>\n",
       "      <td>5.460000</td>\n",
       "      <td>0.000000</td>\n",
       "      <td>0.000000</td>\n",
       "      <td>13.360000</td>\n",
       "      <td>0.000000</td>\n",
       "      <td>10.320000</td>\n",
       "      <td>0.000000</td>\n",
       "      <td>0.000000</td>\n",
       "      <td>10.280000</td>\n",
       "    </tr>\n",
       "    <tr>\n",
       "      <th>...</th>\n",
       "      <td>...</td>\n",
       "      <td>...</td>\n",
       "      <td>...</td>\n",
       "      <td>...</td>\n",
       "      <td>...</td>\n",
       "      <td>...</td>\n",
       "      <td>...</td>\n",
       "      <td>...</td>\n",
       "      <td>...</td>\n",
       "      <td>...</td>\n",
       "      <td>...</td>\n",
       "      <td>...</td>\n",
       "      <td>...</td>\n",
       "      <td>...</td>\n",
       "      <td>...</td>\n",
       "      <td>...</td>\n",
       "      <td>...</td>\n",
       "      <td>...</td>\n",
       "      <td>...</td>\n",
       "      <td>...</td>\n",
       "      <td>...</td>\n",
       "    </tr>\n",
       "    <tr>\n",
       "      <th>643685</th>\n",
       "      <td>1827860</td>\n",
       "      <td>2013</td>\n",
       "      <td>1</td>\n",
       "      <td>0</td>\n",
       "      <td>0</td>\n",
       "      <td>0</td>\n",
       "      <td>1</td>\n",
       "      <td>0</td>\n",
       "      <td>0</td>\n",
       "      <td>1</td>\n",
       "      <td>...</td>\n",
       "      <td>0.000000</td>\n",
       "      <td>0.000000</td>\n",
       "      <td>0.000000</td>\n",
       "      <td>0.000000</td>\n",
       "      <td>0.612903</td>\n",
       "      <td>0.000000</td>\n",
       "      <td>0.000000</td>\n",
       "      <td>0.000000</td>\n",
       "      <td>0.000000</td>\n",
       "      <td>0.000000</td>\n",
       "    </tr>\n",
       "    <tr>\n",
       "      <th>643686</th>\n",
       "      <td>1827860</td>\n",
       "      <td>2015</td>\n",
       "      <td>2</td>\n",
       "      <td>1</td>\n",
       "      <td>0</td>\n",
       "      <td>0</td>\n",
       "      <td>1</td>\n",
       "      <td>0</td>\n",
       "      <td>1</td>\n",
       "      <td>0</td>\n",
       "      <td>...</td>\n",
       "      <td>0.000000</td>\n",
       "      <td>0.000000</td>\n",
       "      <td>0.212121</td>\n",
       "      <td>0.212121</td>\n",
       "      <td>17.363636</td>\n",
       "      <td>0.000000</td>\n",
       "      <td>8.909091</td>\n",
       "      <td>0.000000</td>\n",
       "      <td>0.000000</td>\n",
       "      <td>7.121212</td>\n",
       "    </tr>\n",
       "    <tr>\n",
       "      <th>643687</th>\n",
       "      <td>1827860</td>\n",
       "      <td>2016</td>\n",
       "      <td>3</td>\n",
       "      <td>1</td>\n",
       "      <td>0</td>\n",
       "      <td>0</td>\n",
       "      <td>1</td>\n",
       "      <td>1</td>\n",
       "      <td>0</td>\n",
       "      <td>1</td>\n",
       "      <td>...</td>\n",
       "      <td>0.000000</td>\n",
       "      <td>0.000000</td>\n",
       "      <td>0.294118</td>\n",
       "      <td>0.205882</td>\n",
       "      <td>34.705882</td>\n",
       "      <td>0.000000</td>\n",
       "      <td>10.352941</td>\n",
       "      <td>1.705882</td>\n",
       "      <td>1.705882</td>\n",
       "      <td>23.911765</td>\n",
       "    </tr>\n",
       "    <tr>\n",
       "      <th>643688</th>\n",
       "      <td>1827869</td>\n",
       "      <td>2013</td>\n",
       "      <td>1</td>\n",
       "      <td>1</td>\n",
       "      <td>1</td>\n",
       "      <td>0</td>\n",
       "      <td>0</td>\n",
       "      <td>0</td>\n",
       "      <td>1</td>\n",
       "      <td>0</td>\n",
       "      <td>...</td>\n",
       "      <td>0.000000</td>\n",
       "      <td>0.000000</td>\n",
       "      <td>0.000000</td>\n",
       "      <td>0.000000</td>\n",
       "      <td>0.000000</td>\n",
       "      <td>0.525424</td>\n",
       "      <td>0.000000</td>\n",
       "      <td>0.000000</td>\n",
       "      <td>0.000000</td>\n",
       "      <td>0.000000</td>\n",
       "    </tr>\n",
       "    <tr>\n",
       "      <th>643689</th>\n",
       "      <td>1827869</td>\n",
       "      <td>2014</td>\n",
       "      <td>2</td>\n",
       "      <td>0</td>\n",
       "      <td>0</td>\n",
       "      <td>1</td>\n",
       "      <td>0</td>\n",
       "      <td>0</td>\n",
       "      <td>1</td>\n",
       "      <td>0</td>\n",
       "      <td>...</td>\n",
       "      <td>0.000000</td>\n",
       "      <td>0.666667</td>\n",
       "      <td>0.666667</td>\n",
       "      <td>0.000000</td>\n",
       "      <td>0.000000</td>\n",
       "      <td>8.950000</td>\n",
       "      <td>1.033333</td>\n",
       "      <td>0.083333</td>\n",
       "      <td>0.083333</td>\n",
       "      <td>8.133333</td>\n",
       "    </tr>\n",
       "  </tbody>\n",
       "</table>\n",
       "<p>643690 rows × 164 columns</p>\n",
       "</div>"
      ],
      "text/plain": [
       "         persnr  year  nrEntry  ltue  employed_before  receipt_leh_before  \\\n",
       "0             7  2015        1     0                1                   0   \n",
       "1            18  2010        1     1                0                   0   \n",
       "2            18  2011        2     0                1                   0   \n",
       "3            18  2012        3     0                1                   0   \n",
       "4            18  2012        4     0                1                   0   \n",
       "...         ...   ...      ...   ...              ...                 ...   \n",
       "643685  1827860  2013        1     0                0                   0   \n",
       "643686  1827860  2015        2     1                0                   0   \n",
       "643687  1827860  2016        3     1                0                   0   \n",
       "643688  1827869  2013        1     1                1                   0   \n",
       "643689  1827869  2014        2     0                0                   1   \n",
       "\n",
       "        receipt_lhg_before  se_before  ASU_notue_seeking_before  \\\n",
       "0                        0          0                         1   \n",
       "1                        0          0                         0   \n",
       "2                        1          0                         1   \n",
       "3                        1          0                         1   \n",
       "4                        1          0                         1   \n",
       "...                    ...        ...                       ...   \n",
       "643685                   1          0                         0   \n",
       "643686                   1          0                         1   \n",
       "643687                   1          1                         0   \n",
       "643688                   0          0                         1   \n",
       "643689                   0          0                         1   \n",
       "\n",
       "        ASU_other_before  ...  minijob_tot_dur_byage  ft_tot_dur_byage  \\\n",
       "0                      0  ...               0.000000          0.000000   \n",
       "1                      0  ...               0.000000          0.000000   \n",
       "2                      0  ...               2.714286          2.714286   \n",
       "3                      0  ...               4.200000          4.200000   \n",
       "4                      0  ...               5.460000          5.460000   \n",
       "...                  ...  ...                    ...               ...   \n",
       "643685                 1  ...               0.000000          0.000000   \n",
       "643686                 0  ...               0.000000          0.000000   \n",
       "643687                 1  ...               0.000000          0.000000   \n",
       "643688                 0  ...               0.000000          0.000000   \n",
       "643689                 0  ...               0.000000          0.666667   \n",
       "\n",
       "        befrist_tot_dur_byage  leih_tot_dur_byage  LHG_tot_dur_byage  \\\n",
       "0                   15.043478            0.000000           0.000000   \n",
       "1                    0.000000            0.000000           0.000000   \n",
       "2                    0.000000            0.000000          10.775510   \n",
       "3                    0.000000            0.000000          12.100000   \n",
       "4                    0.000000            0.000000          13.360000   \n",
       "...                       ...                 ...                ...   \n",
       "643685               0.000000            0.000000           0.612903   \n",
       "643686               0.212121            0.212121          17.363636   \n",
       "643687               0.294118            0.205882          34.705882   \n",
       "643688               0.000000            0.000000           0.000000   \n",
       "643689               0.666667            0.000000           0.000000   \n",
       "\n",
       "        LEH_tot_dur_byage  almp_tot_dur_byage  almp_aw_tot_dur_byage  \\\n",
       "0                0.000000            0.000000               0.000000   \n",
       "1                0.000000            0.000000               0.000000   \n",
       "2                0.000000            8.367347               0.000000   \n",
       "3                0.000000            9.400000               0.000000   \n",
       "4                0.000000           10.320000               0.000000   \n",
       "...                   ...                 ...                    ...   \n",
       "643685           0.000000            0.000000               0.000000   \n",
       "643686           0.000000            8.909091               0.000000   \n",
       "643687           0.000000           10.352941               1.705882   \n",
       "643688           0.525424            0.000000               0.000000   \n",
       "643689           8.950000            1.033333               0.083333   \n",
       "\n",
       "        se_tot_dur_byage  seeking1_tot_dur_byage  \n",
       "0               0.000000                0.000000  \n",
       "1               0.000000                0.000000  \n",
       "2               0.000000                9.836735  \n",
       "3               0.000000                9.960000  \n",
       "4               0.000000               10.280000  \n",
       "...                  ...                     ...  \n",
       "643685          0.000000                0.000000  \n",
       "643686          0.000000                7.121212  \n",
       "643687          1.705882               23.911765  \n",
       "643688          0.000000                0.000000  \n",
       "643689          0.083333                8.133333  \n",
       "\n",
       "[643690 rows x 164 columns]"
      ]
     },
     "execution_count": 10,
     "metadata": {},
     "output_type": "execute_result"
    }
   ],
   "source": [
    "siab"
   ]
  },
  {
   "cell_type": "markdown",
   "id": "1f87e805",
   "metadata": {
    "papermill": {
     "duration": 0.012082,
     "end_time": "2025-08-19T18:27:37.285365",
     "exception": false,
     "start_time": "2025-08-19T18:27:37.273283",
     "status": "completed"
    },
    "tags": []
   },
   "source": [
    "# Splitting Data and Setting Training Data Size"
   ]
  },
  {
   "cell_type": "code",
   "execution_count": 11,
   "id": "910ae358",
   "metadata": {
    "execution": {
     "iopub.execute_input": "2025-08-19T18:27:37.322505Z",
     "iopub.status.busy": "2025-08-19T18:27:37.320611Z",
     "iopub.status.idle": "2025-08-19T18:27:37.639354Z",
     "shell.execute_reply": "2025-08-19T18:27:37.638635Z"
    },
    "papermill": {
     "duration": 0.338475,
     "end_time": "2025-08-19T18:27:37.640843",
     "exception": false,
     "start_time": "2025-08-19T18:27:37.302368",
     "status": "completed"
    },
    "tags": []
   },
   "outputs": [],
   "source": [
    "from fairness_multiverse.universe import sample_by_year_size\n",
    "\n",
    "siab_train = sample_by_year_size(siab,\n",
    "                               training_year=universe[\"training_year\"],\n",
    "                               training_size=universe[\"training_size\"])"
   ]
  },
  {
   "cell_type": "code",
   "execution_count": 12,
   "id": "919c8ff5",
   "metadata": {
    "execution": {
     "iopub.execute_input": "2025-08-19T18:27:37.682021Z",
     "iopub.status.busy": "2025-08-19T18:27:37.676795Z",
     "iopub.status.idle": "2025-08-19T18:27:37.692627Z",
     "shell.execute_reply": "2025-08-19T18:27:37.690990Z"
    },
    "papermill": {
     "duration": 0.029179,
     "end_time": "2025-08-19T18:27:37.694262",
     "exception": false,
     "start_time": "2025-08-19T18:27:37.665083",
     "status": "completed"
    },
    "tags": []
   },
   "outputs": [
    {
     "data": {
      "text/plain": [
       "(5000, 164)"
      ]
     },
     "execution_count": 12,
     "metadata": {},
     "output_type": "execute_result"
    }
   ],
   "source": [
    "siab_train.shape"
   ]
  },
  {
   "cell_type": "code",
   "execution_count": 13,
   "id": "feb13bf4",
   "metadata": {
    "execution": {
     "iopub.execute_input": "2025-08-19T18:27:37.725245Z",
     "iopub.status.busy": "2025-08-19T18:27:37.724330Z",
     "iopub.status.idle": "2025-08-19T18:27:37.732238Z",
     "shell.execute_reply": "2025-08-19T18:27:37.731541Z"
    },
    "papermill": {
     "duration": 0.022961,
     "end_time": "2025-08-19T18:27:37.733319",
     "exception": false,
     "start_time": "2025-08-19T18:27:37.710358",
     "status": "completed"
    },
    "tags": []
   },
   "outputs": [
    {
     "data": {
      "text/plain": [
       "year\n",
       "2014    5000\n",
       "dtype: int64"
      ]
     },
     "metadata": {},
     "output_type": "display_data"
    }
   ],
   "source": [
    "display(siab_train.groupby(\"year\").size())"
   ]
  },
  {
   "cell_type": "code",
   "execution_count": 14,
   "id": "0997782f",
   "metadata": {
    "execution": {
     "iopub.execute_input": "2025-08-19T18:27:37.757712Z",
     "iopub.status.busy": "2025-08-19T18:27:37.756852Z",
     "iopub.status.idle": "2025-08-19T18:27:38.037326Z",
     "shell.execute_reply": "2025-08-19T18:27:38.036607Z"
    },
    "papermill": {
     "duration": 0.292925,
     "end_time": "2025-08-19T18:27:38.038825",
     "exception": false,
     "start_time": "2025-08-19T18:27:37.745900",
     "status": "completed"
    },
    "tags": []
   },
   "outputs": [],
   "source": [
    "#siab_train = siab_s[siab_s.year < 2015]\n",
    "siab_calib = siab[siab.year == 2015]\n",
    "siab_test = siab[siab.year == 2016]"
   ]
  },
  {
   "cell_type": "code",
   "execution_count": 15,
   "id": "2c1e4012",
   "metadata": {
    "execution": {
     "iopub.execute_input": "2025-08-19T18:27:38.077024Z",
     "iopub.status.busy": "2025-08-19T18:27:38.075960Z",
     "iopub.status.idle": "2025-08-19T18:27:38.083569Z",
     "shell.execute_reply": "2025-08-19T18:27:38.081947Z"
    },
    "papermill": {
     "duration": 0.024992,
     "end_time": "2025-08-19T18:27:38.086136",
     "exception": false,
     "start_time": "2025-08-19T18:27:38.061144",
     "status": "completed"
    },
    "tags": []
   },
   "outputs": [],
   "source": [
    "#siab_calib.shape"
   ]
  },
  {
   "cell_type": "code",
   "execution_count": 16,
   "id": "f66b54ca",
   "metadata": {
    "execution": {
     "iopub.execute_input": "2025-08-19T18:27:38.126900Z",
     "iopub.status.busy": "2025-08-19T18:27:38.125755Z",
     "iopub.status.idle": "2025-08-19T18:27:38.133831Z",
     "shell.execute_reply": "2025-08-19T18:27:38.132186Z"
    },
    "papermill": {
     "duration": 0.024424,
     "end_time": "2025-08-19T18:27:38.135224",
     "exception": false,
     "start_time": "2025-08-19T18:27:38.110800",
     "status": "completed"
    },
    "tags": []
   },
   "outputs": [],
   "source": [
    "#siab_test.shape"
   ]
  },
  {
   "cell_type": "code",
   "execution_count": 17,
   "id": "27e4384d",
   "metadata": {
    "execution": {
     "iopub.execute_input": "2025-08-19T18:27:38.161837Z",
     "iopub.status.busy": "2025-08-19T18:27:38.160644Z",
     "iopub.status.idle": "2025-08-19T18:27:38.183955Z",
     "shell.execute_reply": "2025-08-19T18:27:38.183101Z"
    },
    "papermill": {
     "duration": 0.03678,
     "end_time": "2025-08-19T18:27:38.185520",
     "exception": false,
     "start_time": "2025-08-19T18:27:38.148740",
     "status": "completed"
    },
    "tags": []
   },
   "outputs": [],
   "source": [
    "X_train = siab_train.iloc[:,4:164]\n",
    "y_train = siab_train.iloc[:, [3]]"
   ]
  },
  {
   "cell_type": "code",
   "execution_count": 18,
   "id": "08ee8389",
   "metadata": {
    "execution": {
     "iopub.execute_input": "2025-08-19T18:27:38.219636Z",
     "iopub.status.busy": "2025-08-19T18:27:38.218478Z",
     "iopub.status.idle": "2025-08-19T18:27:38.280418Z",
     "shell.execute_reply": "2025-08-19T18:27:38.279620Z"
    },
    "papermill": {
     "duration": 0.078587,
     "end_time": "2025-08-19T18:27:38.283413",
     "exception": false,
     "start_time": "2025-08-19T18:27:38.204826",
     "status": "completed"
    },
    "tags": []
   },
   "outputs": [],
   "source": [
    "X_calib = siab_calib.iloc[:,4:164]\n",
    "y_calib = siab_calib.iloc[:, [3]]"
   ]
  },
  {
   "cell_type": "code",
   "execution_count": 19,
   "id": "b7ff42e0",
   "metadata": {
    "execution": {
     "iopub.execute_input": "2025-08-19T18:27:38.320271Z",
     "iopub.status.busy": "2025-08-19T18:27:38.319755Z",
     "iopub.status.idle": "2025-08-19T18:27:38.375920Z",
     "shell.execute_reply": "2025-08-19T18:27:38.374978Z"
    },
    "papermill": {
     "duration": 0.070642,
     "end_time": "2025-08-19T18:27:38.377133",
     "exception": false,
     "start_time": "2025-08-19T18:27:38.306491",
     "status": "completed"
    },
    "tags": []
   },
   "outputs": [],
   "source": [
    "X_test = siab_test.iloc[:,4:164]\n",
    "y_true = siab_test.iloc[:, [3]]"
   ]
  },
  {
   "cell_type": "code",
   "execution_count": 20,
   "id": "0275101e",
   "metadata": {
    "execution": {
     "iopub.execute_input": "2025-08-19T18:27:38.417103Z",
     "iopub.status.busy": "2025-08-19T18:27:38.415757Z",
     "iopub.status.idle": "2025-08-19T18:27:38.538005Z",
     "shell.execute_reply": "2025-08-19T18:27:38.537076Z"
    },
    "papermill": {
     "duration": 0.151472,
     "end_time": "2025-08-19T18:27:38.540943",
     "exception": false,
     "start_time": "2025-08-19T18:27:38.389471",
     "status": "completed"
    },
    "tags": []
   },
   "outputs": [],
   "source": [
    "# Auxiliary data needed downstream in the pipeline\n",
    "\n",
    "org_train = X_train.copy()\n",
    "org_test = X_test.copy()\n",
    "org_calib = X_calib.copy()"
   ]
  },
  {
   "cell_type": "markdown",
   "id": "b461e618",
   "metadata": {
    "papermill": {
     "duration": 0.022916,
     "end_time": "2025-08-19T18:27:38.589321",
     "exception": false,
     "start_time": "2025-08-19T18:27:38.566405",
     "status": "completed"
    },
    "tags": []
   },
   "source": [
    "# Preprocessing Data"
   ]
  },
  {
   "cell_type": "code",
   "execution_count": 21,
   "id": "78e74c4b",
   "metadata": {
    "execution": {
     "iopub.execute_input": "2025-08-19T18:27:38.617432Z",
     "iopub.status.busy": "2025-08-19T18:27:38.616956Z",
     "iopub.status.idle": "2025-08-19T18:27:38.622217Z",
     "shell.execute_reply": "2025-08-19T18:27:38.621446Z"
    },
    "papermill": {
     "duration": 0.01808,
     "end_time": "2025-08-19T18:27:38.623622",
     "exception": false,
     "start_time": "2025-08-19T18:27:38.605542",
     "status": "completed"
    },
    "tags": []
   },
   "outputs": [],
   "source": [
    "# EXCLUDE PROTECTED FEATURES\n",
    "# --------------------------\n",
    "\n",
    "excluded_features = universe[\"exclude_features\"].split(\"-\")\n",
    "excluded_features_dictionary = {\n",
    "    \"nationality\": [\"maxdeutsch1\", \"maxdeutsch.Missing.\"],\n",
    "    \"sex\": [\"frau1\"],\n",
    "    \"age\": [\"age\"],\n",
    "}"
   ]
  },
  {
   "cell_type": "code",
   "execution_count": 22,
   "id": "f8e63555",
   "metadata": {
    "execution": {
     "iopub.execute_input": "2025-08-19T18:27:38.646846Z",
     "iopub.status.busy": "2025-08-19T18:27:38.646440Z",
     "iopub.status.idle": "2025-08-19T18:27:38.651093Z",
     "shell.execute_reply": "2025-08-19T18:27:38.650344Z"
    },
    "papermill": {
     "duration": 0.018568,
     "end_time": "2025-08-19T18:27:38.652520",
     "exception": false,
     "start_time": "2025-08-19T18:27:38.633952",
     "status": "completed"
    },
    "tags": []
   },
   "outputs": [],
   "source": [
    "excluded_features_columns = [\n",
    "    excluded_features_dictionary[f] for f in excluded_features if len(f) > 0 and f != \"none\"\n",
    "]"
   ]
  },
  {
   "cell_type": "code",
   "execution_count": 23,
   "id": "da781f7c",
   "metadata": {
    "execution": {
     "iopub.execute_input": "2025-08-19T18:27:38.677195Z",
     "iopub.status.busy": "2025-08-19T18:27:38.676787Z",
     "iopub.status.idle": "2025-08-19T18:27:38.681285Z",
     "shell.execute_reply": "2025-08-19T18:27:38.680518Z"
    },
    "papermill": {
     "duration": 0.017005,
     "end_time": "2025-08-19T18:27:38.682674",
     "exception": false,
     "start_time": "2025-08-19T18:27:38.665669",
     "status": "completed"
    },
    "tags": []
   },
   "outputs": [],
   "source": [
    "from fairness_multiverse.universe import flatten_once\n",
    "\n",
    "excluded_features_columns = flatten_once(excluded_features_columns)"
   ]
  },
  {
   "cell_type": "code",
   "execution_count": 24,
   "id": "37fef0f0",
   "metadata": {
    "execution": {
     "iopub.execute_input": "2025-08-19T18:27:38.707629Z",
     "iopub.status.busy": "2025-08-19T18:27:38.707300Z",
     "iopub.status.idle": "2025-08-19T18:27:38.719371Z",
     "shell.execute_reply": "2025-08-19T18:27:38.718446Z"
    },
    "papermill": {
     "duration": 0.028012,
     "end_time": "2025-08-19T18:27:38.721085",
     "exception": false,
     "start_time": "2025-08-19T18:27:38.693073",
     "status": "completed"
    },
    "tags": []
   },
   "outputs": [],
   "source": [
    "if len(excluded_features_columns) > 0:\n",
    "    print(f\"Dropping features: {excluded_features_columns}\")\n",
    "    X_train.drop(excluded_features_columns, axis=1, inplace=True)"
   ]
  },
  {
   "cell_type": "code",
   "execution_count": 25,
   "id": "d029e3e9",
   "metadata": {
    "execution": {
     "iopub.execute_input": "2025-08-19T18:27:38.747591Z",
     "iopub.status.busy": "2025-08-19T18:27:38.747185Z",
     "iopub.status.idle": "2025-08-19T18:27:38.752018Z",
     "shell.execute_reply": "2025-08-19T18:27:38.751139Z"
    },
    "papermill": {
     "duration": 0.020196,
     "end_time": "2025-08-19T18:27:38.753329",
     "exception": false,
     "start_time": "2025-08-19T18:27:38.733133",
     "status": "completed"
    },
    "tags": []
   },
   "outputs": [],
   "source": [
    "if len(excluded_features_columns) > 0:\n",
    "    print(f\"Dropping features: {excluded_features_columns}\")\n",
    "    X_test.drop(excluded_features_columns, axis=1, inplace=True)"
   ]
  },
  {
   "cell_type": "code",
   "execution_count": 26,
   "id": "01d571f0",
   "metadata": {
    "execution": {
     "iopub.execute_input": "2025-08-19T18:27:38.777435Z",
     "iopub.status.busy": "2025-08-19T18:27:38.777056Z",
     "iopub.status.idle": "2025-08-19T18:27:38.782031Z",
     "shell.execute_reply": "2025-08-19T18:27:38.781142Z"
    },
    "papermill": {
     "duration": 0.017649,
     "end_time": "2025-08-19T18:27:38.783461",
     "exception": false,
     "start_time": "2025-08-19T18:27:38.765812",
     "status": "completed"
    },
    "tags": []
   },
   "outputs": [],
   "source": [
    "if len(excluded_features_columns) > 0:\n",
    "    print(f\"Dropping features: {excluded_features_columns}\")\n",
    "    X_calib.drop(excluded_features_columns, axis=1, inplace=True)"
   ]
  },
  {
   "cell_type": "code",
   "execution_count": 27,
   "id": "3037356e",
   "metadata": {
    "execution": {
     "iopub.execute_input": "2025-08-19T18:27:38.807926Z",
     "iopub.status.busy": "2025-08-19T18:27:38.807481Z",
     "iopub.status.idle": "2025-08-19T18:27:38.812163Z",
     "shell.execute_reply": "2025-08-19T18:27:38.811382Z"
    },
    "papermill": {
     "duration": 0.019386,
     "end_time": "2025-08-19T18:27:38.813502",
     "exception": false,
     "start_time": "2025-08-19T18:27:38.794116",
     "status": "completed"
    },
    "tags": []
   },
   "outputs": [],
   "source": [
    "# EXCLUDE CERTAIN SUBGROUPS\n",
    "# -------------------------\n",
    "\n",
    "mode = universe.get(\"exclude_subgroups\", \"keep-all\") # Defaults to \"keep-all\" if the key is missing."
   ]
  },
  {
   "cell_type": "code",
   "execution_count": 28,
   "id": "9d1e63fd",
   "metadata": {
    "execution": {
     "iopub.execute_input": "2025-08-19T18:27:38.838267Z",
     "iopub.status.busy": "2025-08-19T18:27:38.837842Z",
     "iopub.status.idle": "2025-08-19T18:27:38.843549Z",
     "shell.execute_reply": "2025-08-19T18:27:38.842867Z"
    },
    "papermill": {
     "duration": 0.018648,
     "end_time": "2025-08-19T18:27:38.844847",
     "exception": false,
     "start_time": "2025-08-19T18:27:38.826199",
     "status": "completed"
    },
    "tags": []
   },
   "outputs": [],
   "source": [
    "if mode == \"keep-all\":\n",
    "    keep_mask = pd.Series(True, index=org_train.index)\n",
    "\n",
    "elif mode == \"drop-non-german\":\n",
    "    keep_mask = (org_train[\"maxdeutsch1\"] == 1) & (org_train[\"maxdeutsch.Missing.\"] == 0)\n",
    "\n",
    "else:\n",
    "    raise ValueError(f\"Unsupported mode for exclude_subgroups: {mode}\")"
   ]
  },
  {
   "cell_type": "code",
   "execution_count": 29,
   "id": "d3b65474",
   "metadata": {
    "execution": {
     "iopub.execute_input": "2025-08-19T18:27:38.867852Z",
     "iopub.status.busy": "2025-08-19T18:27:38.867434Z",
     "iopub.status.idle": "2025-08-19T18:27:38.881006Z",
     "shell.execute_reply": "2025-08-19T18:27:38.879541Z"
    },
    "papermill": {
     "duration": 0.027191,
     "end_time": "2025-08-19T18:27:38.882663",
     "exception": false,
     "start_time": "2025-08-19T18:27:38.855472",
     "status": "completed"
    },
    "tags": []
   },
   "outputs": [],
   "source": [
    "n_drop = (~keep_mask).sum() # Calculates how many rows are set to be dropped\n",
    "if n_drop > 0:\n",
    "    pct = n_drop / len(keep_mask) * 100\n",
    "    print(f\"Dropping {n_drop} rows ({pct:.2f}%) where mode='{mode}'\")"
   ]
  },
  {
   "cell_type": "code",
   "execution_count": 30,
   "id": "f44389b3",
   "metadata": {
    "execution": {
     "iopub.execute_input": "2025-08-19T18:27:38.908330Z",
     "iopub.status.busy": "2025-08-19T18:27:38.906931Z",
     "iopub.status.idle": "2025-08-19T18:27:38.929316Z",
     "shell.execute_reply": "2025-08-19T18:27:38.928301Z"
    },
    "papermill": {
     "duration": 0.037399,
     "end_time": "2025-08-19T18:27:38.931216",
     "exception": false,
     "start_time": "2025-08-19T18:27:38.893817",
     "status": "completed"
    },
    "tags": []
   },
   "outputs": [],
   "source": [
    "X_train = X_train[keep_mask]"
   ]
  },
  {
   "cell_type": "code",
   "execution_count": 31,
   "id": "ceca8c2a",
   "metadata": {
    "execution": {
     "iopub.execute_input": "2025-08-19T18:27:38.964225Z",
     "iopub.status.busy": "2025-08-19T18:27:38.963495Z",
     "iopub.status.idle": "2025-08-19T18:27:39.010796Z",
     "shell.execute_reply": "2025-08-19T18:27:39.009103Z"
    },
    "papermill": {
     "duration": 0.065547,
     "end_time": "2025-08-19T18:27:39.014094",
     "exception": false,
     "start_time": "2025-08-19T18:27:38.948547",
     "status": "completed"
    },
    "tags": []
   },
   "outputs": [],
   "source": [
    "y_train = y_train[keep_mask]"
   ]
  },
  {
   "cell_type": "markdown",
   "id": "04d31e2f",
   "metadata": {
    "papermill": {
     "duration": 0.011284,
     "end_time": "2025-08-19T18:27:39.049886",
     "exception": false,
     "start_time": "2025-08-19T18:27:39.038602",
     "status": "completed"
    },
    "tags": []
   },
   "source": [
    "# Model Training"
   ]
  },
  {
   "cell_type": "code",
   "execution_count": 32,
   "id": "db991733",
   "metadata": {
    "execution": {
     "iopub.execute_input": "2025-08-19T18:27:39.073682Z",
     "iopub.status.busy": "2025-08-19T18:27:39.072323Z",
     "iopub.status.idle": "2025-08-19T18:27:39.195445Z",
     "shell.execute_reply": "2025-08-19T18:27:39.194199Z"
    },
    "papermill": {
     "duration": 0.138788,
     "end_time": "2025-08-19T18:27:39.199083",
     "exception": false,
     "start_time": "2025-08-19T18:27:39.060295",
     "status": "completed"
    },
    "tags": []
   },
   "outputs": [],
   "source": [
    "from sklearn.linear_model import LogisticRegression\n",
    "from sklearn.ensemble import GradientBoostingClassifier, RandomForestClassifier\n",
    "\n",
    "if (universe[\"model\"] == \"logreg\"):\n",
    "    model = LogisticRegression() #penalty=\"none\", solver=\"newton-cg\", max_iter=1)\n",
    "elif (universe[\"model\"] == \"penalized_logreg\"):\n",
    "    model = LogisticRegression(penalty=\"l2\", C=0.1) #, solver=\"newton-cg\", max_iter=1)\n",
    "elif (universe[\"model\"] == \"rf\"):\n",
    "    model = RandomForestClassifier() # n_estimators=100, n_jobs=-1\n",
    "elif (universe[\"model\"] == \"gbm\"):\n",
    "    model = GradientBoostingClassifier()\n",
    "elif (universe[\"model\"] == \"elasticnet\"):\n",
    "    model = LogisticRegression(penalty = 'elasticnet', solver = 'saga', l1_ratio = 0.5) # max_iter=5000\n",
    "else:\n",
    "    raise \"Unsupported universe.model\""
   ]
  },
  {
   "cell_type": "code",
   "execution_count": 33,
   "id": "a4b5cd25",
   "metadata": {
    "execution": {
     "iopub.execute_input": "2025-08-19T18:27:39.248529Z",
     "iopub.status.busy": "2025-08-19T18:27:39.247401Z",
     "iopub.status.idle": "2025-08-19T18:27:39.281429Z",
     "shell.execute_reply": "2025-08-19T18:27:39.279715Z"
    },
    "papermill": {
     "duration": 0.061344,
     "end_time": "2025-08-19T18:27:39.284464",
     "exception": false,
     "start_time": "2025-08-19T18:27:39.223120",
     "status": "completed"
    },
    "tags": []
   },
   "outputs": [],
   "source": [
    "from sklearn.pipeline import Pipeline\n",
    "from sklearn.preprocessing import StandardScaler\n",
    "\n",
    "model = Pipeline([\n",
    "    #(\"continuous_processor\", continuous_processor),\n",
    "    #(\"categorical_preprocessor\", categorical_preprocessor),\n",
    "    (\"scale\", StandardScaler() if universe[\"scale\"] == \"scale\" else None), \n",
    "    (\"model\", model),\n",
    "])"
   ]
  },
  {
   "cell_type": "code",
   "execution_count": 34,
   "id": "283a904d",
   "metadata": {
    "execution": {
     "iopub.execute_input": "2025-08-19T18:27:39.322594Z",
     "iopub.status.busy": "2025-08-19T18:27:39.321489Z",
     "iopub.status.idle": "2025-08-19T18:27:39.488260Z",
     "shell.execute_reply": "2025-08-19T18:27:39.486842Z"
    },
    "papermill": {
     "duration": 0.188393,
     "end_time": "2025-08-19T18:27:39.496343",
     "exception": false,
     "start_time": "2025-08-19T18:27:39.307950",
     "status": "completed"
    },
    "tags": []
   },
   "outputs": [
    {
     "name": "stderr",
     "output_type": "stream",
     "text": [
      "/dss/dsshome1/0C/ra93lal2/.local/share/virtualenvs/CMA_Fairness_v2-3j10GkSs/lib/python3.10/site-packages/sklearn/linear_model/_logistic.py:444: ConvergenceWarning: lbfgs failed to converge (status=1):\n",
      "STOP: TOTAL NO. of ITERATIONS REACHED LIMIT.\n",
      "\n",
      "Increase the number of iterations (max_iter) or scale the data as shown in:\n",
      "    https://scikit-learn.org/stable/modules/preprocessing.html\n",
      "Please also refer to the documentation for alternative solver options:\n",
      "    https://scikit-learn.org/stable/modules/linear_model.html#logistic-regression\n",
      "  n_iter_i = _check_optimize_result(\n"
     ]
    },
    {
     "data": {
      "text/html": [
       "<style>#sk-container-id-1 {color: black;background-color: white;}#sk-container-id-1 pre{padding: 0;}#sk-container-id-1 div.sk-toggleable {background-color: white;}#sk-container-id-1 label.sk-toggleable__label {cursor: pointer;display: block;width: 100%;margin-bottom: 0;padding: 0.3em;box-sizing: border-box;text-align: center;}#sk-container-id-1 label.sk-toggleable__label-arrow:before {content: \"▸\";float: left;margin-right: 0.25em;color: #696969;}#sk-container-id-1 label.sk-toggleable__label-arrow:hover:before {color: black;}#sk-container-id-1 div.sk-estimator:hover label.sk-toggleable__label-arrow:before {color: black;}#sk-container-id-1 div.sk-toggleable__content {max-height: 0;max-width: 0;overflow: hidden;text-align: left;background-color: #f0f8ff;}#sk-container-id-1 div.sk-toggleable__content pre {margin: 0.2em;color: black;border-radius: 0.25em;background-color: #f0f8ff;}#sk-container-id-1 input.sk-toggleable__control:checked~div.sk-toggleable__content {max-height: 200px;max-width: 100%;overflow: auto;}#sk-container-id-1 input.sk-toggleable__control:checked~label.sk-toggleable__label-arrow:before {content: \"▾\";}#sk-container-id-1 div.sk-estimator input.sk-toggleable__control:checked~label.sk-toggleable__label {background-color: #d4ebff;}#sk-container-id-1 div.sk-label input.sk-toggleable__control:checked~label.sk-toggleable__label {background-color: #d4ebff;}#sk-container-id-1 input.sk-hidden--visually {border: 0;clip: rect(1px 1px 1px 1px);clip: rect(1px, 1px, 1px, 1px);height: 1px;margin: -1px;overflow: hidden;padding: 0;position: absolute;width: 1px;}#sk-container-id-1 div.sk-estimator {font-family: monospace;background-color: #f0f8ff;border: 1px dotted black;border-radius: 0.25em;box-sizing: border-box;margin-bottom: 0.5em;}#sk-container-id-1 div.sk-estimator:hover {background-color: #d4ebff;}#sk-container-id-1 div.sk-parallel-item::after {content: \"\";width: 100%;border-bottom: 1px solid gray;flex-grow: 1;}#sk-container-id-1 div.sk-label:hover label.sk-toggleable__label {background-color: #d4ebff;}#sk-container-id-1 div.sk-serial::before {content: \"\";position: absolute;border-left: 1px solid gray;box-sizing: border-box;top: 0;bottom: 0;left: 50%;z-index: 0;}#sk-container-id-1 div.sk-serial {display: flex;flex-direction: column;align-items: center;background-color: white;padding-right: 0.2em;padding-left: 0.2em;position: relative;}#sk-container-id-1 div.sk-item {position: relative;z-index: 1;}#sk-container-id-1 div.sk-parallel {display: flex;align-items: stretch;justify-content: center;background-color: white;position: relative;}#sk-container-id-1 div.sk-item::before, #sk-container-id-1 div.sk-parallel-item::before {content: \"\";position: absolute;border-left: 1px solid gray;box-sizing: border-box;top: 0;bottom: 0;left: 50%;z-index: -1;}#sk-container-id-1 div.sk-parallel-item {display: flex;flex-direction: column;z-index: 1;position: relative;background-color: white;}#sk-container-id-1 div.sk-parallel-item:first-child::after {align-self: flex-end;width: 50%;}#sk-container-id-1 div.sk-parallel-item:last-child::after {align-self: flex-start;width: 50%;}#sk-container-id-1 div.sk-parallel-item:only-child::after {width: 0;}#sk-container-id-1 div.sk-dashed-wrapped {border: 1px dashed gray;margin: 0 0.4em 0.5em 0.4em;box-sizing: border-box;padding-bottom: 0.4em;background-color: white;}#sk-container-id-1 div.sk-label label {font-family: monospace;font-weight: bold;display: inline-block;line-height: 1.2em;}#sk-container-id-1 div.sk-label-container {text-align: center;}#sk-container-id-1 div.sk-container {/* jupyter's `normalize.less` sets `[hidden] { display: none; }` but bootstrap.min.css set `[hidden] { display: none !important; }` so we also need the `!important` here to be able to override the default hidden behavior on the sphinx rendered scikit-learn.org. See: https://github.com/scikit-learn/scikit-learn/issues/21755 */display: inline-block !important;position: relative;}#sk-container-id-1 div.sk-text-repr-fallback {display: none;}</style><div id=\"sk-container-id-1\" class=\"sk-top-container\"><div class=\"sk-text-repr-fallback\"><pre>Pipeline(steps=[(&#x27;scale&#x27;, None), (&#x27;model&#x27;, LogisticRegression(C=0.1))])</pre><b>In a Jupyter environment, please rerun this cell to show the HTML representation or trust the notebook. <br />On GitHub, the HTML representation is unable to render, please try loading this page with nbviewer.org.</b></div><div class=\"sk-container\" hidden><div class=\"sk-item sk-dashed-wrapped\"><div class=\"sk-label-container\"><div class=\"sk-label sk-toggleable\"><input class=\"sk-toggleable__control sk-hidden--visually\" id=\"sk-estimator-id-1\" type=\"checkbox\" ><label for=\"sk-estimator-id-1\" class=\"sk-toggleable__label sk-toggleable__label-arrow\">Pipeline</label><div class=\"sk-toggleable__content\"><pre>Pipeline(steps=[(&#x27;scale&#x27;, None), (&#x27;model&#x27;, LogisticRegression(C=0.1))])</pre></div></div></div><div class=\"sk-serial\"><div class=\"sk-item\"><div class=\"sk-estimator sk-toggleable\"><input class=\"sk-toggleable__control sk-hidden--visually\" id=\"sk-estimator-id-2\" type=\"checkbox\" ><label for=\"sk-estimator-id-2\" class=\"sk-toggleable__label sk-toggleable__label-arrow\">None</label><div class=\"sk-toggleable__content\"><pre>None</pre></div></div></div><div class=\"sk-item\"><div class=\"sk-estimator sk-toggleable\"><input class=\"sk-toggleable__control sk-hidden--visually\" id=\"sk-estimator-id-3\" type=\"checkbox\" ><label for=\"sk-estimator-id-3\" class=\"sk-toggleable__label sk-toggleable__label-arrow\">LogisticRegression</label><div class=\"sk-toggleable__content\"><pre>LogisticRegression(C=0.1)</pre></div></div></div></div></div></div></div>"
      ],
      "text/plain": [
       "Pipeline(steps=[('scale', None), ('model', LogisticRegression(C=0.1))])"
      ]
     },
     "execution_count": 34,
     "metadata": {},
     "output_type": "execute_result"
    }
   ],
   "source": [
    "model.fit(X_train, y_train.values.ravel())"
   ]
  },
  {
   "cell_type": "code",
   "execution_count": 35,
   "id": "6e15e313",
   "metadata": {
    "execution": {
     "iopub.execute_input": "2025-08-19T18:27:39.531620Z",
     "iopub.status.busy": "2025-08-19T18:27:39.530308Z",
     "iopub.status.idle": "2025-08-19T18:27:39.663906Z",
     "shell.execute_reply": "2025-08-19T18:27:39.662679Z"
    },
    "papermill": {
     "duration": 0.149926,
     "end_time": "2025-08-19T18:27:39.665479",
     "exception": false,
     "start_time": "2025-08-19T18:27:39.515553",
     "status": "completed"
    },
    "tags": []
   },
   "outputs": [
    {
     "data": {
      "text/plain": [
       "0.8605841043361944"
      ]
     },
     "execution_count": 35,
     "metadata": {},
     "output_type": "execute_result"
    }
   ],
   "source": [
    "from fairness_multiverse.universe import predict_w_threshold\n",
    "\n",
    "probs_test = model.predict_proba(X_test)\n",
    "\n",
    "'''\n",
    "Below code returns a boolean array (or binary 0/1 array depending on how it’s used) where each element \n",
    "is True if the probability of class 1 is greater than or equal to the threshold, and False otherwise.\n",
    "'''\n",
    "y_pred_default = predict_w_threshold(probs_test, 0.5)\n",
    "\n",
    "from sklearn.metrics import accuracy_score\n",
    "\n",
    "# Naive prediction\n",
    "accuracy_score(y_true = y_true, y_pred = y_pred_default)"
   ]
  },
  {
   "cell_type": "code",
   "execution_count": 36,
   "id": "6f14067c",
   "metadata": {
    "execution": {
     "iopub.execute_input": "2025-08-19T18:27:39.704374Z",
     "iopub.status.busy": "2025-08-19T18:27:39.703333Z",
     "iopub.status.idle": "2025-08-19T18:27:39.805140Z",
     "shell.execute_reply": "2025-08-19T18:27:39.804509Z"
    },
    "papermill": {
     "duration": 0.118828,
     "end_time": "2025-08-19T18:27:39.807485",
     "exception": false,
     "start_time": "2025-08-19T18:27:39.688657",
     "status": "completed"
    },
    "tags": []
   },
   "outputs": [
    {
     "data": {
      "text/plain": [
       "array([0, 0, 0, ..., 0, 0, 0])"
      ]
     },
     "execution_count": 36,
     "metadata": {},
     "output_type": "execute_result"
    }
   ],
   "source": [
    "model.predict(X_test)"
   ]
  },
  {
   "cell_type": "markdown",
   "id": "3759920c",
   "metadata": {
    "papermill": {
     "duration": 0.012706,
     "end_time": "2025-08-19T18:27:39.856841",
     "exception": false,
     "start_time": "2025-08-19T18:27:39.844135",
     "status": "completed"
    },
    "tags": []
   },
   "source": [
    "# Conformal Prediction"
   ]
  },
  {
   "cell_type": "code",
   "execution_count": 37,
   "id": "14b27f59",
   "metadata": {
    "execution": {
     "iopub.execute_input": "2025-08-19T18:27:39.884645Z",
     "iopub.status.busy": "2025-08-19T18:27:39.883342Z",
     "iopub.status.idle": "2025-08-19T18:27:39.892247Z",
     "shell.execute_reply": "2025-08-19T18:27:39.890591Z"
    },
    "papermill": {
     "duration": 0.023826,
     "end_time": "2025-08-19T18:27:39.893943",
     "exception": false,
     "start_time": "2025-08-19T18:27:39.870117",
     "status": "completed"
    },
    "tags": []
   },
   "outputs": [],
   "source": [
    "# Miscoverage level for conformal prediction (10% allowed error rate => 90% target coverage)\n",
    "alpha = 0.1"
   ]
  },
  {
   "cell_type": "code",
   "execution_count": 38,
   "id": "59102472",
   "metadata": {
    "execution": {
     "iopub.execute_input": "2025-08-19T18:27:39.931851Z",
     "iopub.status.busy": "2025-08-19T18:27:39.930690Z",
     "iopub.status.idle": "2025-08-19T18:27:40.029701Z",
     "shell.execute_reply": "2025-08-19T18:27:40.028989Z"
    },
    "papermill": {
     "duration": 0.117173,
     "end_time": "2025-08-19T18:27:40.034332",
     "exception": false,
     "start_time": "2025-08-19T18:27:39.917159",
     "status": "completed"
    },
    "tags": []
   },
   "outputs": [],
   "source": [
    "probs_calib = model.predict_proba(X_calib)"
   ]
  },
  {
   "cell_type": "code",
   "execution_count": 39,
   "id": "a792d4dd",
   "metadata": {
    "execution": {
     "iopub.execute_input": "2025-08-19T18:27:40.083655Z",
     "iopub.status.busy": "2025-08-19T18:27:40.082495Z",
     "iopub.status.idle": "2025-08-19T18:27:40.092459Z",
     "shell.execute_reply": "2025-08-19T18:27:40.091124Z"
    },
    "papermill": {
     "duration": 0.035035,
     "end_time": "2025-08-19T18:27:40.093940",
     "exception": false,
     "start_time": "2025-08-19T18:27:40.058905",
     "status": "completed"
    },
    "tags": []
   },
   "outputs": [],
   "source": [
    "y_calib = y_calib.values.ravel().astype(int)"
   ]
  },
  {
   "cell_type": "code",
   "execution_count": 40,
   "id": "650fd033",
   "metadata": {
    "execution": {
     "iopub.execute_input": "2025-08-19T18:27:40.119334Z",
     "iopub.status.busy": "2025-08-19T18:27:40.117890Z",
     "iopub.status.idle": "2025-08-19T18:27:40.126544Z",
     "shell.execute_reply": "2025-08-19T18:27:40.125772Z"
    },
    "papermill": {
     "duration": 0.023762,
     "end_time": "2025-08-19T18:27:40.129096",
     "exception": false,
     "start_time": "2025-08-19T18:27:40.105334",
     "status": "completed"
    },
    "tags": []
   },
   "outputs": [],
   "source": [
    "from fairness_multiverse.conformal import compute_nc_scores\n",
    "\n",
    "# Compute nonconformity scores on calibration set (1 - probability of true class)\n",
    "nc_scores = compute_nc_scores(probs_calib, y_calib)"
   ]
  },
  {
   "cell_type": "code",
   "execution_count": 41,
   "id": "28ada44c",
   "metadata": {
    "execution": {
     "iopub.execute_input": "2025-08-19T18:27:40.154997Z",
     "iopub.status.busy": "2025-08-19T18:27:40.154530Z",
     "iopub.status.idle": "2025-08-19T18:27:40.159996Z",
     "shell.execute_reply": "2025-08-19T18:27:40.159273Z"
    },
    "papermill": {
     "duration": 0.022633,
     "end_time": "2025-08-19T18:27:40.164549",
     "exception": false,
     "start_time": "2025-08-19T18:27:40.141916",
     "status": "completed"
    },
    "tags": []
   },
   "outputs": [],
   "source": [
    "from fairness_multiverse.conformal import find_threshold\n",
    "\n",
    "# Find conformal threshold q_hat for the given alpha (split conformal method)\n",
    "q_hat = find_threshold(nc_scores, alpha)"
   ]
  },
  {
   "cell_type": "code",
   "execution_count": 42,
   "id": "df56469e",
   "metadata": {
    "execution": {
     "iopub.execute_input": "2025-08-19T18:27:40.204890Z",
     "iopub.status.busy": "2025-08-19T18:27:40.203682Z",
     "iopub.status.idle": "2025-08-19T18:27:40.215123Z",
     "shell.execute_reply": "2025-08-19T18:27:40.213876Z"
    },
    "papermill": {
     "duration": 0.027192,
     "end_time": "2025-08-19T18:27:40.216667",
     "exception": false,
     "start_time": "2025-08-19T18:27:40.189475",
     "status": "completed"
    },
    "tags": []
   },
   "outputs": [
    {
     "data": {
      "text/plain": [
       "0.6770977151473154"
      ]
     },
     "execution_count": 42,
     "metadata": {},
     "output_type": "execute_result"
    }
   ],
   "source": [
    "q_hat"
   ]
  },
  {
   "cell_type": "code",
   "execution_count": 43,
   "id": "aa1f5faa",
   "metadata": {
    "execution": {
     "iopub.execute_input": "2025-08-19T18:27:40.246062Z",
     "iopub.status.busy": "2025-08-19T18:27:40.244925Z",
     "iopub.status.idle": "2025-08-19T18:27:40.825616Z",
     "shell.execute_reply": "2025-08-19T18:27:40.823900Z"
    },
    "papermill": {
     "duration": 0.597739,
     "end_time": "2025-08-19T18:27:40.829241",
     "exception": false,
     "start_time": "2025-08-19T18:27:40.231502",
     "status": "completed"
    },
    "tags": []
   },
   "outputs": [],
   "source": [
    "from fairness_multiverse.conformal import predict_conformal_sets\n",
    "\n",
    "# Generate prediction sets for each test example\n",
    "pred_sets = predict_conformal_sets(model, X_test, q_hat)"
   ]
  },
  {
   "cell_type": "code",
   "execution_count": 44,
   "id": "97f67a6b",
   "metadata": {
    "execution": {
     "iopub.execute_input": "2025-08-19T18:27:40.874899Z",
     "iopub.status.busy": "2025-08-19T18:27:40.873137Z",
     "iopub.status.idle": "2025-08-19T18:27:40.884272Z",
     "shell.execute_reply": "2025-08-19T18:27:40.882924Z"
    },
    "papermill": {
     "duration": 0.031899,
     "end_time": "2025-08-19T18:27:40.886364",
     "exception": false,
     "start_time": "2025-08-19T18:27:40.854465",
     "status": "completed"
    },
    "tags": []
   },
   "outputs": [],
   "source": [
    "y_true = y_true.squeeze()"
   ]
  },
  {
   "cell_type": "code",
   "execution_count": 45,
   "id": "e700e9a7",
   "metadata": {
    "execution": {
     "iopub.execute_input": "2025-08-19T18:27:40.936733Z",
     "iopub.status.busy": "2025-08-19T18:27:40.935052Z",
     "iopub.status.idle": "2025-08-19T18:27:41.456513Z",
     "shell.execute_reply": "2025-08-19T18:27:41.454921Z"
    },
    "papermill": {
     "duration": 0.557014,
     "end_time": "2025-08-19T18:27:41.458313",
     "exception": false,
     "start_time": "2025-08-19T18:27:40.901299",
     "status": "completed"
    },
    "tags": []
   },
   "outputs": [],
   "source": [
    "from fairness_multiverse.conformal import evaluate_sets\n",
    "\n",
    "# Evaluate coverage and average set size on test data\n",
    "metrics = evaluate_sets(pred_sets, y_true)"
   ]
  },
  {
   "cell_type": "markdown",
   "id": "efbacec0",
   "metadata": {
    "papermill": {
     "duration": 0.011517,
     "end_time": "2025-08-19T18:27:41.483793",
     "exception": false,
     "start_time": "2025-08-19T18:27:41.472276",
     "status": "completed"
    },
    "tags": []
   },
   "source": [
    "# CP Metrics"
   ]
  },
  {
   "cell_type": "code",
   "execution_count": 46,
   "id": "9de55fb1",
   "metadata": {
    "execution": {
     "iopub.execute_input": "2025-08-19T18:27:41.512804Z",
     "iopub.status.busy": "2025-08-19T18:27:41.510931Z",
     "iopub.status.idle": "2025-08-19T18:27:41.522953Z",
     "shell.execute_reply": "2025-08-19T18:27:41.522220Z"
    },
    "papermill": {
     "duration": 0.029523,
     "end_time": "2025-08-19T18:27:41.524603",
     "exception": false,
     "start_time": "2025-08-19T18:27:41.495080",
     "status": "completed"
    },
    "tags": []
   },
   "outputs": [
    {
     "data": {
      "text/plain": [
       "{'coverage': 0.911971909486122, 'avg_size': 1.1986957975699477}"
      ]
     },
     "execution_count": 46,
     "metadata": {},
     "output_type": "execute_result"
    }
   ],
   "source": [
    "metrics"
   ]
  },
  {
   "cell_type": "code",
   "execution_count": 47,
   "id": "64c340a1",
   "metadata": {
    "execution": {
     "iopub.execute_input": "2025-08-19T18:27:41.550364Z",
     "iopub.status.busy": "2025-08-19T18:27:41.549483Z",
     "iopub.status.idle": "2025-08-19T18:27:41.559516Z",
     "shell.execute_reply": "2025-08-19T18:27:41.558537Z"
    },
    "papermill": {
     "duration": 0.023925,
     "end_time": "2025-08-19T18:27:41.560989",
     "exception": false,
     "start_time": "2025-08-19T18:27:41.537064",
     "status": "completed"
    },
    "tags": []
   },
   "outputs": [],
   "source": [
    "example_universe = universe.copy()\n",
    "universe_training_year = example_universe.get(\"training_year\")\n",
    "universe_training_size = example_universe.get(\"training_size\")\n",
    "universe_scale = example_universe.get(\"scale\")\n",
    "universe_model = example_universe.get(\"model\")\n",
    "universe_exclude_features = example_universe.get(\"exclude_features\")\n",
    "universe_exclude_subgroups = example_universe.get(\"exclude_subgroups\")"
   ]
  },
  {
   "cell_type": "code",
   "execution_count": 48,
   "id": "dbb53cb4",
   "metadata": {
    "execution": {
     "iopub.execute_input": "2025-08-19T18:27:41.592360Z",
     "iopub.status.busy": "2025-08-19T18:27:41.590930Z",
     "iopub.status.idle": "2025-08-19T18:27:41.612686Z",
     "shell.execute_reply": "2025-08-19T18:27:41.611196Z"
    },
    "papermill": {
     "duration": 0.037393,
     "end_time": "2025-08-19T18:27:41.614755",
     "exception": false,
     "start_time": "2025-08-19T18:27:41.577362",
     "status": "completed"
    },
    "tags": []
   },
   "outputs": [],
   "source": [
    "cp_metrics_dict = {\n",
    "    \"universe_id\": [universe_id],\n",
    "    \"universe_training_year\": [universe_training_year],\n",
    "    \"universe_training_size\": [universe_training_size],\n",
    "    \"universe_scale\": [universe_scale],\n",
    "    \"universe_model\": [universe_model],\n",
    "    \"universe_exclude_features\": [universe_exclude_features],\n",
    "    \"universe_exclude_subgroups\": [universe_exclude_subgroups],\n",
    "    \"q_hat\": [q_hat],\n",
    "    \"coverage\": [metrics[\"coverage\"]],\n",
    "    \"avg_size\": [metrics[\"avg_size\"]],\n",
    "}"
   ]
  },
  {
   "cell_type": "code",
   "execution_count": 49,
   "id": "0d70d4b2",
   "metadata": {
    "execution": {
     "iopub.execute_input": "2025-08-19T18:27:41.653678Z",
     "iopub.status.busy": "2025-08-19T18:27:41.652532Z",
     "iopub.status.idle": "2025-08-19T18:27:41.666008Z",
     "shell.execute_reply": "2025-08-19T18:27:41.664395Z"
    },
    "papermill": {
     "duration": 0.030143,
     "end_time": "2025-08-19T18:27:41.667780",
     "exception": false,
     "start_time": "2025-08-19T18:27:41.637637",
     "status": "completed"
    },
    "tags": []
   },
   "outputs": [],
   "source": [
    "cp_metrics_df = pd.DataFrame(cp_metrics_dict)"
   ]
  },
  {
   "cell_type": "code",
   "execution_count": 50,
   "id": "b494403c",
   "metadata": {
    "execution": {
     "iopub.execute_input": "2025-08-19T18:27:41.701161Z",
     "iopub.status.busy": "2025-08-19T18:27:41.700002Z",
     "iopub.status.idle": "2025-08-19T18:27:41.724962Z",
     "shell.execute_reply": "2025-08-19T18:27:41.723610Z"
    },
    "papermill": {
     "duration": 0.041694,
     "end_time": "2025-08-19T18:27:41.727359",
     "exception": false,
     "start_time": "2025-08-19T18:27:41.685665",
     "status": "completed"
    },
    "tags": []
   },
   "outputs": [
    {
     "data": {
      "text/html": [
       "<div>\n",
       "<style scoped>\n",
       "    .dataframe tbody tr th:only-of-type {\n",
       "        vertical-align: middle;\n",
       "    }\n",
       "\n",
       "    .dataframe tbody tr th {\n",
       "        vertical-align: top;\n",
       "    }\n",
       "\n",
       "    .dataframe thead th {\n",
       "        text-align: right;\n",
       "    }\n",
       "</style>\n",
       "<table border=\"1\" class=\"dataframe\">\n",
       "  <thead>\n",
       "    <tr style=\"text-align: right;\">\n",
       "      <th></th>\n",
       "      <th>universe_id</th>\n",
       "      <th>universe_training_year</th>\n",
       "      <th>universe_training_size</th>\n",
       "      <th>universe_scale</th>\n",
       "      <th>universe_model</th>\n",
       "      <th>universe_exclude_features</th>\n",
       "      <th>universe_exclude_subgroups</th>\n",
       "      <th>q_hat</th>\n",
       "      <th>coverage</th>\n",
       "      <th>avg_size</th>\n",
       "    </tr>\n",
       "  </thead>\n",
       "  <tbody>\n",
       "    <tr>\n",
       "      <th>0</th>\n",
       "      <td>1ad98b4e03cb337821ca62ac5fa740b4</td>\n",
       "      <td>2014</td>\n",
       "      <td>5k</td>\n",
       "      <td>do-not-scale</td>\n",
       "      <td>penalized_logreg</td>\n",
       "      <td>none</td>\n",
       "      <td>keep-all</td>\n",
       "      <td>0.677098</td>\n",
       "      <td>0.911972</td>\n",
       "      <td>1.198696</td>\n",
       "    </tr>\n",
       "  </tbody>\n",
       "</table>\n",
       "</div>"
      ],
      "text/plain": [
       "                        universe_id universe_training_year  \\\n",
       "0  1ad98b4e03cb337821ca62ac5fa740b4                   2014   \n",
       "\n",
       "  universe_training_size universe_scale    universe_model  \\\n",
       "0                     5k   do-not-scale  penalized_logreg   \n",
       "\n",
       "  universe_exclude_features universe_exclude_subgroups     q_hat  coverage  \\\n",
       "0                      none                   keep-all  0.677098  0.911972   \n",
       "\n",
       "   avg_size  \n",
       "0  1.198696  "
      ]
     },
     "execution_count": 50,
     "metadata": {},
     "output_type": "execute_result"
    }
   ],
   "source": [
    "cp_metrics_df"
   ]
  },
  {
   "cell_type": "markdown",
   "id": "ed608b0b",
   "metadata": {
    "papermill": {
     "duration": 0.011776,
     "end_time": "2025-08-19T18:27:41.755849",
     "exception": false,
     "start_time": "2025-08-19T18:27:41.744073",
     "status": "completed"
    },
    "tags": []
   },
   "source": [
    "Conditional coverage & looking at subgroups"
   ]
  },
  {
   "cell_type": "code",
   "execution_count": 51,
   "id": "8968c366",
   "metadata": {
    "execution": {
     "iopub.execute_input": "2025-08-19T18:27:41.781824Z",
     "iopub.status.busy": "2025-08-19T18:27:41.780641Z",
     "iopub.status.idle": "2025-08-19T18:27:42.115433Z",
     "shell.execute_reply": "2025-08-19T18:27:42.114330Z"
    },
    "papermill": {
     "duration": 0.349845,
     "end_time": "2025-08-19T18:27:42.117159",
     "exception": false,
     "start_time": "2025-08-19T18:27:41.767314",
     "status": "completed"
    },
    "tags": []
   },
   "outputs": [],
   "source": [
    "from fairness_multiverse.conformal import build_cp_groups\n",
    "\n",
    "cp_groups_df = build_cp_groups(pred_sets, y_true, X_test.index, org_test)"
   ]
  },
  {
   "cell_type": "code",
   "execution_count": 52,
   "id": "292ddabf",
   "metadata": {
    "execution": {
     "iopub.execute_input": "2025-08-19T18:27:42.144255Z",
     "iopub.status.busy": "2025-08-19T18:27:42.143122Z",
     "iopub.status.idle": "2025-08-19T18:27:43.040119Z",
     "shell.execute_reply": "2025-08-19T18:27:43.038758Z"
    },
    "papermill": {
     "duration": 0.912226,
     "end_time": "2025-08-19T18:27:43.041851",
     "exception": false,
     "start_time": "2025-08-19T18:27:42.129625",
     "status": "completed"
    },
    "tags": []
   },
   "outputs": [],
   "source": [
    "# Define covered = 1 if true_label is in the predicted set\n",
    "cp_groups_df['covered'] = cp_groups_df.apply(\n",
    "    lambda r: int(r['true_label'] in r['pred_set']),\n",
    "    axis=1\n",
    ")"
   ]
  },
  {
   "cell_type": "code",
   "execution_count": 53,
   "id": "3a261692",
   "metadata": {
    "execution": {
     "iopub.execute_input": "2025-08-19T18:27:43.074410Z",
     "iopub.status.busy": "2025-08-19T18:27:43.073185Z",
     "iopub.status.idle": "2025-08-19T18:27:43.095951Z",
     "shell.execute_reply": "2025-08-19T18:27:43.094888Z"
    },
    "papermill": {
     "duration": 0.04296,
     "end_time": "2025-08-19T18:27:43.097322",
     "exception": false,
     "start_time": "2025-08-19T18:27:43.054362",
     "status": "completed"
    },
    "tags": []
   },
   "outputs": [],
   "source": [
    "subgroups = ['frau1','nongerman','nongerman_male','nongerman_female']\n",
    "\n",
    "# Conditional coverage for subgroup==1\n",
    "cond_coverage = {\n",
    "    g: cp_groups_df.loc[cp_groups_df[g]==1, 'covered'].mean()\n",
    "    for g in subgroups\n",
    "}"
   ]
  },
  {
   "cell_type": "code",
   "execution_count": 54,
   "id": "894fd600",
   "metadata": {
    "execution": {
     "iopub.execute_input": "2025-08-19T18:27:43.131468Z",
     "iopub.status.busy": "2025-08-19T18:27:43.129717Z",
     "iopub.status.idle": "2025-08-19T18:27:43.142021Z",
     "shell.execute_reply": "2025-08-19T18:27:43.139948Z"
    },
    "papermill": {
     "duration": 0.03269,
     "end_time": "2025-08-19T18:27:43.144244",
     "exception": false,
     "start_time": "2025-08-19T18:27:43.111554",
     "status": "completed"
    },
    "tags": []
   },
   "outputs": [
    {
     "data": {
      "text/plain": [
       "{'frau1': 0.9095835018196522,\n",
       " 'nongerman': 0.9259529557065065,\n",
       " 'nongerman_male': 0.941727461046564,\n",
       " 'nongerman_female': 0.8998509687034277}"
      ]
     },
     "execution_count": 54,
     "metadata": {},
     "output_type": "execute_result"
    }
   ],
   "source": [
    "cond_coverage"
   ]
  },
  {
   "cell_type": "code",
   "execution_count": 55,
   "id": "942895c7",
   "metadata": {
    "execution": {
     "iopub.execute_input": "2025-08-19T18:27:43.176026Z",
     "iopub.status.busy": "2025-08-19T18:27:43.174816Z",
     "iopub.status.idle": "2025-08-19T18:27:43.187776Z",
     "shell.execute_reply": "2025-08-19T18:27:43.185653Z"
    },
    "papermill": {
     "duration": 0.028491,
     "end_time": "2025-08-19T18:27:43.189878",
     "exception": false,
     "start_time": "2025-08-19T18:27:43.161387",
     "status": "completed"
    },
    "tags": []
   },
   "outputs": [],
   "source": [
    "for subgroup, cov in cond_coverage.items():\n",
    "    cp_metrics_df[f\"cov_{subgroup}\"] = cov"
   ]
  },
  {
   "cell_type": "code",
   "execution_count": 56,
   "id": "3970120f",
   "metadata": {
    "execution": {
     "iopub.execute_input": "2025-08-19T18:27:43.219094Z",
     "iopub.status.busy": "2025-08-19T18:27:43.217736Z",
     "iopub.status.idle": "2025-08-19T18:27:43.299878Z",
     "shell.execute_reply": "2025-08-19T18:27:43.298619Z"
    },
    "papermill": {
     "duration": 0.098661,
     "end_time": "2025-08-19T18:27:43.302379",
     "exception": false,
     "start_time": "2025-08-19T18:27:43.203718",
     "status": "completed"
    },
    "tags": []
   },
   "outputs": [
    {
     "data": {
      "text/html": [
       "<div>\n",
       "<style scoped>\n",
       "    .dataframe tbody tr th:only-of-type {\n",
       "        vertical-align: middle;\n",
       "    }\n",
       "\n",
       "    .dataframe tbody tr th {\n",
       "        vertical-align: top;\n",
       "    }\n",
       "\n",
       "    .dataframe thead th {\n",
       "        text-align: right;\n",
       "    }\n",
       "</style>\n",
       "<table border=\"1\" class=\"dataframe\">\n",
       "  <thead>\n",
       "    <tr style=\"text-align: right;\">\n",
       "      <th></th>\n",
       "      <th>universe_id</th>\n",
       "      <th>universe_training_year</th>\n",
       "      <th>universe_training_size</th>\n",
       "      <th>universe_scale</th>\n",
       "      <th>universe_model</th>\n",
       "      <th>universe_exclude_features</th>\n",
       "      <th>universe_exclude_subgroups</th>\n",
       "      <th>q_hat</th>\n",
       "      <th>coverage</th>\n",
       "      <th>avg_size</th>\n",
       "      <th>cov_frau1</th>\n",
       "      <th>cov_nongerman</th>\n",
       "      <th>cov_nongerman_male</th>\n",
       "      <th>cov_nongerman_female</th>\n",
       "    </tr>\n",
       "  </thead>\n",
       "  <tbody>\n",
       "    <tr>\n",
       "      <th>0</th>\n",
       "      <td>1ad98b4e03cb337821ca62ac5fa740b4</td>\n",
       "      <td>2014</td>\n",
       "      <td>5k</td>\n",
       "      <td>do-not-scale</td>\n",
       "      <td>penalized_logreg</td>\n",
       "      <td>none</td>\n",
       "      <td>keep-all</td>\n",
       "      <td>0.677098</td>\n",
       "      <td>0.911972</td>\n",
       "      <td>1.198696</td>\n",
       "      <td>0.909584</td>\n",
       "      <td>0.925953</td>\n",
       "      <td>0.941727</td>\n",
       "      <td>0.899851</td>\n",
       "    </tr>\n",
       "  </tbody>\n",
       "</table>\n",
       "</div>"
      ],
      "text/plain": [
       "                        universe_id universe_training_year  \\\n",
       "0  1ad98b4e03cb337821ca62ac5fa740b4                   2014   \n",
       "\n",
       "  universe_training_size universe_scale    universe_model  \\\n",
       "0                     5k   do-not-scale  penalized_logreg   \n",
       "\n",
       "  universe_exclude_features universe_exclude_subgroups     q_hat  coverage  \\\n",
       "0                      none                   keep-all  0.677098  0.911972   \n",
       "\n",
       "   avg_size  cov_frau1  cov_nongerman  cov_nongerman_male  \\\n",
       "0  1.198696   0.909584       0.925953            0.941727   \n",
       "\n",
       "   cov_nongerman_female  \n",
       "0              0.899851  "
      ]
     },
     "execution_count": 56,
     "metadata": {},
     "output_type": "execute_result"
    }
   ],
   "source": [
    "cp_metrics_df"
   ]
  },
  {
   "cell_type": "markdown",
   "id": "3fc519cc",
   "metadata": {
    "papermill": {
     "duration": 0.012211,
     "end_time": "2025-08-19T18:27:43.344557",
     "exception": false,
     "start_time": "2025-08-19T18:27:43.332346",
     "status": "completed"
    },
    "tags": []
   },
   "source": [
    "# (Fairness) Metrics"
   ]
  },
  {
   "cell_type": "code",
   "execution_count": 57,
   "id": "a2e5e155",
   "metadata": {
    "execution": {
     "iopub.execute_input": "2025-08-19T18:27:43.377621Z",
     "iopub.status.busy": "2025-08-19T18:27:43.376444Z",
     "iopub.status.idle": "2025-08-19T18:27:43.413690Z",
     "shell.execute_reply": "2025-08-19T18:27:43.412696Z"
    },
    "papermill": {
     "duration": 0.052611,
     "end_time": "2025-08-19T18:27:43.415323",
     "exception": false,
     "start_time": "2025-08-19T18:27:43.362712",
     "status": "completed"
    },
    "tags": []
   },
   "outputs": [],
   "source": [
    "colname_to_bin = \"maxdeutsch1\"\n",
    "majority_value = org_train[colname_to_bin].mode()[0]\n",
    "\n",
    "org_test[\"majmin\"] = np.where(org_test[colname_to_bin] == majority_value, \"majority\", \"minority\")"
   ]
  },
  {
   "cell_type": "code",
   "execution_count": 58,
   "id": "17e3e4d5",
   "metadata": {
    "execution": {
     "iopub.execute_input": "2025-08-19T18:27:43.451040Z",
     "iopub.status.busy": "2025-08-19T18:27:43.449803Z",
     "iopub.status.idle": "2025-08-19T18:27:45.188674Z",
     "shell.execute_reply": "2025-08-19T18:27:45.187510Z"
    },
    "papermill": {
     "duration": 1.757784,
     "end_time": "2025-08-19T18:27:45.190759",
     "exception": false,
     "start_time": "2025-08-19T18:27:43.432975",
     "status": "completed"
    },
    "tags": []
   },
   "outputs": [],
   "source": [
    "example_universe = universe.copy()\n",
    "example_universe[\"cutoff\"] = example_universe[\"cutoff\"][0]\n",
    "example_universe[\"eval_fairness_grouping\"] = example_universe[\"eval_fairness_grouping\"][0]\n",
    "fairness_dict, metric_frame = universe_analysis.compute_metrics(\n",
    "    example_universe,\n",
    "    y_pred_prob=probs_test,\n",
    "    y_test=y_true,\n",
    "    org_test=org_test,\n",
    ")"
   ]
  },
  {
   "cell_type": "markdown",
   "id": "1fb7a0e9",
   "metadata": {
    "papermill": {
     "duration": 0.012367,
     "end_time": "2025-08-19T18:27:45.222623",
     "exception": false,
     "start_time": "2025-08-19T18:27:45.210256",
     "status": "completed"
    },
    "tags": []
   },
   "source": [
    "# Overall"
   ]
  },
  {
   "cell_type": "markdown",
   "id": "be1784b1",
   "metadata": {
    "papermill": {
     "duration": 0.012146,
     "end_time": "2025-08-19T18:27:45.246806",
     "exception": false,
     "start_time": "2025-08-19T18:27:45.234660",
     "status": "completed"
    },
    "tags": []
   },
   "source": [
    "Main fairness target: Equalized Odds. Seems to be a better fit than equal opportunity, since we're not only interested in Y = 1. Seems to be a better fit than demographic parity, since we also care about accuracy, not just equal distribution of preds.\n",
    "\n",
    "Pick column for computation of fairness metrics\n",
    "\n",
    "Performance\n",
    "Overall performance measures, most interesting in relation to the measures split by group below"
   ]
  },
  {
   "cell_type": "code",
   "execution_count": 59,
   "id": "b7672bee",
   "metadata": {
    "execution": {
     "iopub.execute_input": "2025-08-19T18:27:45.276718Z",
     "iopub.status.busy": "2025-08-19T18:27:45.275220Z",
     "iopub.status.idle": "2025-08-19T18:27:45.292631Z",
     "shell.execute_reply": "2025-08-19T18:27:45.291503Z"
    },
    "papermill": {
     "duration": 0.03536,
     "end_time": "2025-08-19T18:27:45.294154",
     "exception": false,
     "start_time": "2025-08-19T18:27:45.258794",
     "status": "completed"
    },
    "tags": []
   },
   "outputs": [
    {
     "data": {
      "text/plain": [
       "accuracy                   0.216598\n",
       "balanced accuracy          0.531241\n",
       "f1                         0.238143\n",
       "precision                  0.136043\n",
       "false positive rate        0.891985\n",
       "false negative rate        0.045534\n",
       "selection rate             0.900000\n",
       "count                  89710.000000\n",
       "dtype: float64"
      ]
     },
     "execution_count": 59,
     "metadata": {},
     "output_type": "execute_result"
    }
   ],
   "source": [
    "metric_frame.overall"
   ]
  },
  {
   "cell_type": "markdown",
   "id": "d93333c9",
   "metadata": {
    "papermill": {
     "duration": 0.01379,
     "end_time": "2025-08-19T18:27:45.328395",
     "exception": false,
     "start_time": "2025-08-19T18:27:45.314605",
     "status": "completed"
    },
    "tags": []
   },
   "source": [
    "By Group"
   ]
  },
  {
   "cell_type": "code",
   "execution_count": 60,
   "id": "52256966",
   "metadata": {
    "execution": {
     "iopub.execute_input": "2025-08-19T18:27:45.364946Z",
     "iopub.status.busy": "2025-08-19T18:27:45.362967Z",
     "iopub.status.idle": "2025-08-19T18:27:45.388604Z",
     "shell.execute_reply": "2025-08-19T18:27:45.387393Z"
    },
    "papermill": {
     "duration": 0.042931,
     "end_time": "2025-08-19T18:27:45.390333",
     "exception": false,
     "start_time": "2025-08-19T18:27:45.347402",
     "status": "completed"
    },
    "tags": []
   },
   "outputs": [
    {
     "data": {
      "text/html": [
       "<div>\n",
       "<style scoped>\n",
       "    .dataframe tbody tr th:only-of-type {\n",
       "        vertical-align: middle;\n",
       "    }\n",
       "\n",
       "    .dataframe tbody tr th {\n",
       "        vertical-align: top;\n",
       "    }\n",
       "\n",
       "    .dataframe thead th {\n",
       "        text-align: right;\n",
       "    }\n",
       "</style>\n",
       "<table border=\"1\" class=\"dataframe\">\n",
       "  <thead>\n",
       "    <tr style=\"text-align: right;\">\n",
       "      <th></th>\n",
       "      <th>accuracy</th>\n",
       "      <th>balanced accuracy</th>\n",
       "      <th>f1</th>\n",
       "      <th>precision</th>\n",
       "      <th>false positive rate</th>\n",
       "      <th>false negative rate</th>\n",
       "      <th>selection rate</th>\n",
       "      <th>count</th>\n",
       "    </tr>\n",
       "    <tr>\n",
       "      <th>majmin</th>\n",
       "      <th></th>\n",
       "      <th></th>\n",
       "      <th></th>\n",
       "      <th></th>\n",
       "      <th></th>\n",
       "      <th></th>\n",
       "      <th></th>\n",
       "      <th></th>\n",
       "    </tr>\n",
       "  </thead>\n",
       "  <tbody>\n",
       "    <tr>\n",
       "      <th>majority</th>\n",
       "      <td>0.238109</td>\n",
       "      <td>0.538282</td>\n",
       "      <td>0.247121</td>\n",
       "      <td>0.142118</td>\n",
       "      <td>0.869715</td>\n",
       "      <td>0.053720</td>\n",
       "      <td>0.879832</td>\n",
       "      <td>69170.0</td>\n",
       "    </tr>\n",
       "    <tr>\n",
       "      <th>minority</th>\n",
       "      <td>0.144158</td>\n",
       "      <td>0.510256</td>\n",
       "      <td>0.209897</td>\n",
       "      <td>0.117449</td>\n",
       "      <td>0.965551</td>\n",
       "      <td>0.013936</td>\n",
       "      <td>0.967916</td>\n",
       "      <td>20540.0</td>\n",
       "    </tr>\n",
       "  </tbody>\n",
       "</table>\n",
       "</div>"
      ],
      "text/plain": [
       "          accuracy  balanced accuracy        f1  precision  \\\n",
       "majmin                                                       \n",
       "majority  0.238109           0.538282  0.247121   0.142118   \n",
       "minority  0.144158           0.510256  0.209897   0.117449   \n",
       "\n",
       "          false positive rate  false negative rate  selection rate    count  \n",
       "majmin                                                                       \n",
       "majority             0.869715             0.053720        0.879832  69170.0  \n",
       "minority             0.965551             0.013936        0.967916  20540.0  "
      ]
     },
     "execution_count": 60,
     "metadata": {},
     "output_type": "execute_result"
    }
   ],
   "source": [
    "metric_frame.by_group"
   ]
  },
  {
   "cell_type": "code",
   "execution_count": 61,
   "id": "6e6c20ae",
   "metadata": {
    "execution": {
     "iopub.execute_input": "2025-08-19T18:27:45.430393Z",
     "iopub.status.busy": "2025-08-19T18:27:45.428680Z",
     "iopub.status.idle": "2025-08-19T18:27:47.296880Z",
     "shell.execute_reply": "2025-08-19T18:27:47.295852Z"
    },
    "papermill": {
     "duration": 1.884357,
     "end_time": "2025-08-19T18:27:47.298265",
     "exception": false,
     "start_time": "2025-08-19T18:27:45.413908",
     "status": "completed"
    },
    "tags": []
   },
   "outputs": [
    {
     "data": {
      "text/plain": [
       "array([[<Axes: title={'center': 'accuracy'}, xlabel='majmin'>,\n",
       "        <Axes: title={'center': 'balanced accuracy'}, xlabel='majmin'>,\n",
       "        <Axes: title={'center': 'f1'}, xlabel='majmin'>],\n",
       "       [<Axes: title={'center': 'precision'}, xlabel='majmin'>,\n",
       "        <Axes: title={'center': 'false positive rate'}, xlabel='majmin'>,\n",
       "        <Axes: title={'center': 'false negative rate'}, xlabel='majmin'>],\n",
       "       [<Axes: title={'center': 'selection rate'}, xlabel='majmin'>,\n",
       "        <Axes: title={'center': 'count'}, xlabel='majmin'>,\n",
       "        <Axes: xlabel='majmin'>]], dtype=object)"
      ]
     },
     "execution_count": 61,
     "metadata": {},
     "output_type": "execute_result"
    },
    {
     "data": {
      "image/png": "[encoded data removed]",
      "text/plain": [
       "<Figure size 1200x800 with 9 Axes>"
      ]
     },
     "metadata": {},
     "output_type": "display_data"
    }
   ],
   "source": [
    "# In a graphic\n",
    "metric_frame.by_group.plot.bar(\n",
    "    subplots=True,\n",
    "    layout=[3, 3],\n",
    "    legend=False,\n",
    "    figsize=[12, 8],\n",
    "    title=\"Show all metrics\",\n",
    ")"
   ]
  },
  {
   "cell_type": "markdown",
   "id": "b2e433ae",
   "metadata": {
    "papermill": {
     "duration": 0.013404,
     "end_time": "2025-08-19T18:27:47.326787",
     "exception": false,
     "start_time": "2025-08-19T18:27:47.313383",
     "status": "completed"
    },
    "tags": []
   },
   "source": [
    "# Final Output"
   ]
  },
  {
   "cell_type": "code",
   "execution_count": 62,
   "id": "3871301e",
   "metadata": {
    "execution": {
     "iopub.execute_input": "2025-08-19T18:27:47.357758Z",
     "iopub.status.busy": "2025-08-19T18:27:47.355899Z",
     "iopub.status.idle": "2025-08-19T18:27:47.390145Z",
     "shell.execute_reply": "2025-08-19T18:27:47.388037Z"
    },
    "papermill": {
     "duration": 0.05172,
     "end_time": "2025-08-19T18:27:47.391957",
     "exception": false,
     "start_time": "2025-08-19T18:27:47.340237",
     "status": "completed"
    },
    "tags": []
   },
   "outputs": [
    {
     "data": {
      "text/plain": [
       "4"
      ]
     },
     "execution_count": 62,
     "metadata": {},
     "output_type": "execute_result"
    }
   ],
   "source": [
    "sub_universes = universe_analysis.generate_sub_universes()\n",
    "len(sub_universes)"
   ]
  },
  {
   "cell_type": "code",
   "execution_count": 63,
   "id": "d9cfdaca",
   "metadata": {
    "execution": {
     "iopub.execute_input": "2025-08-19T18:27:47.434405Z",
     "iopub.status.busy": "2025-08-19T18:27:47.429012Z",
     "iopub.status.idle": "2025-08-19T18:27:47.452978Z",
     "shell.execute_reply": "2025-08-19T18:27:47.452120Z"
    },
    "papermill": {
     "duration": 0.043415,
     "end_time": "2025-08-19T18:27:47.454268",
     "exception": false,
     "start_time": "2025-08-19T18:27:47.410853",
     "status": "completed"
    },
    "tags": []
   },
   "outputs": [],
   "source": [
    "def filter_sub_universe_data(sub_universe, org_test):\n",
    "    # Keep all rows — no filtering\n",
    "    keep_rows_mask = np.ones(org_test.shape[0], dtype=bool)\n",
    "\n",
    "    print(f\"[INFO] Keeping all rows: {keep_rows_mask.sum()} rows retained.\")\n",
    "    return keep_rows_mask"
   ]
  },
  {
   "cell_type": "code",
   "execution_count": 64,
   "id": "2bc31ac1",
   "metadata": {
    "execution": {
     "iopub.execute_input": "2025-08-19T18:27:47.483295Z",
     "iopub.status.busy": "2025-08-19T18:27:47.482850Z",
     "iopub.status.idle": "2025-08-19T18:27:54.155429Z",
     "shell.execute_reply": "2025-08-19T18:27:54.154413Z"
    },
    "papermill": {
     "duration": 6.688601,
     "end_time": "2025-08-19T18:27:54.156782",
     "exception": false,
     "start_time": "2025-08-19T18:27:47.468181",
     "status": "completed"
    },
    "tags": []
   },
   "outputs": [
    {
     "name": "stdout",
     "output_type": "stream",
     "text": [
      "Stopping execution_time clock.\n",
      "[INFO] Keeping all rows: 89710 rows retained.\n"
     ]
    },
    {
     "name": "stdout",
     "output_type": "stream",
     "text": [
      "[INFO] Keeping all rows: 89710 rows retained.\n"
     ]
    },
    {
     "name": "stdout",
     "output_type": "stream",
     "text": [
      "[INFO] Keeping all rows: 89710 rows retained.\n"
     ]
    },
    {
     "name": "stdout",
     "output_type": "stream",
     "text": [
      "[INFO] Keeping all rows: 89710 rows retained.\n"
     ]
    },
    {
     "data": {
      "text/html": [
       "<div>\n",
       "<style scoped>\n",
       "    .dataframe tbody tr th:only-of-type {\n",
       "        vertical-align: middle;\n",
       "    }\n",
       "\n",
       "    .dataframe tbody tr th {\n",
       "        vertical-align: top;\n",
       "    }\n",
       "\n",
       "    .dataframe thead th {\n",
       "        text-align: right;\n",
       "    }\n",
       "</style>\n",
       "<table border=\"1\" class=\"dataframe\">\n",
       "  <thead>\n",
       "    <tr style=\"text-align: right;\">\n",
       "      <th></th>\n",
       "      <th>run_no</th>\n",
       "      <th>universe_id</th>\n",
       "      <th>universe_settings</th>\n",
       "      <th>execution_time</th>\n",
       "      <th>test_size_n</th>\n",
       "      <th>test_size_frac</th>\n",
       "      <th>fair_main_equalized_odds_difference</th>\n",
       "      <th>fair_main_equalized_odds_ratio</th>\n",
       "      <th>fair_main_demographic_parity_difference</th>\n",
       "      <th>fair_main_demographic_parity_ratio</th>\n",
       "      <th>...</th>\n",
       "      <th>perf_grp_precision_0</th>\n",
       "      <th>perf_grp_precision_1</th>\n",
       "      <th>perf_grp_false positive rate_0</th>\n",
       "      <th>perf_grp_false positive rate_1</th>\n",
       "      <th>perf_grp_false negative rate_0</th>\n",
       "      <th>perf_grp_false negative rate_1</th>\n",
       "      <th>perf_grp_selection rate_0</th>\n",
       "      <th>perf_grp_selection rate_1</th>\n",
       "      <th>perf_grp_count_0</th>\n",
       "      <th>perf_grp_count_1</th>\n",
       "    </tr>\n",
       "  </thead>\n",
       "  <tbody>\n",
       "    <tr>\n",
       "      <th>0</th>\n",
       "      <td>3</td>\n",
       "      <td>1ad98b4e03cb337821ca62ac5fa740b4</td>\n",
       "      <td>{\"cutoff\": \"quantile_0.1\", \"eval_fairness_grou...</td>\n",
       "      <td>22.229333</td>\n",
       "      <td>89710</td>\n",
       "      <td>1.0</td>\n",
       "      <td>0.095836</td>\n",
       "      <td>0.900745</td>\n",
       "      <td>0.088084</td>\n",
       "      <td>0.908996</td>\n",
       "      <td>...</td>\n",
       "      <td>NaN</td>\n",
       "      <td>NaN</td>\n",
       "      <td>NaN</td>\n",
       "      <td>NaN</td>\n",
       "      <td>NaN</td>\n",
       "      <td>NaN</td>\n",
       "      <td>NaN</td>\n",
       "      <td>NaN</td>\n",
       "      <td>NaN</td>\n",
       "      <td>NaN</td>\n",
       "    </tr>\n",
       "    <tr>\n",
       "      <th>0</th>\n",
       "      <td>3</td>\n",
       "      <td>1ad98b4e03cb337821ca62ac5fa740b4</td>\n",
       "      <td>{\"cutoff\": \"quantile_0.1\", \"eval_fairness_grou...</td>\n",
       "      <td>22.229333</td>\n",
       "      <td>89710</td>\n",
       "      <td>1.0</td>\n",
       "      <td>0.095836</td>\n",
       "      <td>0.900745</td>\n",
       "      <td>0.088084</td>\n",
       "      <td>0.908996</td>\n",
       "      <td>...</td>\n",
       "      <td>0.117449</td>\n",
       "      <td>0.142118</td>\n",
       "      <td>0.965551</td>\n",
       "      <td>0.869715</td>\n",
       "      <td>0.013936</td>\n",
       "      <td>0.053720</td>\n",
       "      <td>0.967916</td>\n",
       "      <td>0.879832</td>\n",
       "      <td>20540.0</td>\n",
       "      <td>69170.0</td>\n",
       "    </tr>\n",
       "    <tr>\n",
       "      <th>0</th>\n",
       "      <td>3</td>\n",
       "      <td>1ad98b4e03cb337821ca62ac5fa740b4</td>\n",
       "      <td>{\"cutoff\": \"quantile_0.25\", \"eval_fairness_gro...</td>\n",
       "      <td>22.229333</td>\n",
       "      <td>89710</td>\n",
       "      <td>1.0</td>\n",
       "      <td>0.209979</td>\n",
       "      <td>0.764432</td>\n",
       "      <td>0.192403</td>\n",
       "      <td>0.785825</td>\n",
       "      <td>...</td>\n",
       "      <td>NaN</td>\n",
       "      <td>NaN</td>\n",
       "      <td>NaN</td>\n",
       "      <td>NaN</td>\n",
       "      <td>NaN</td>\n",
       "      <td>NaN</td>\n",
       "      <td>NaN</td>\n",
       "      <td>NaN</td>\n",
       "      <td>NaN</td>\n",
       "      <td>NaN</td>\n",
       "    </tr>\n",
       "    <tr>\n",
       "      <th>0</th>\n",
       "      <td>3</td>\n",
       "      <td>1ad98b4e03cb337821ca62ac5fa740b4</td>\n",
       "      <td>{\"cutoff\": \"quantile_0.25\", \"eval_fairness_gro...</td>\n",
       "      <td>22.229333</td>\n",
       "      <td>89710</td>\n",
       "      <td>1.0</td>\n",
       "      <td>0.209979</td>\n",
       "      <td>0.764432</td>\n",
       "      <td>0.192403</td>\n",
       "      <td>0.785825</td>\n",
       "      <td>...</td>\n",
       "      <td>0.122155</td>\n",
       "      <td>0.162318</td>\n",
       "      <td>0.891371</td>\n",
       "      <td>0.681393</td>\n",
       "      <td>0.048142</td>\n",
       "      <td>0.132823</td>\n",
       "      <td>0.898345</td>\n",
       "      <td>0.705942</td>\n",
       "      <td>20540.0</td>\n",
       "      <td>69170.0</td>\n",
       "    </tr>\n",
       "  </tbody>\n",
       "</table>\n",
       "<p>4 rows × 50 columns</p>\n",
       "</div>"
      ],
      "text/plain": [
       "  run_no                       universe_id  \\\n",
       "0      3  1ad98b4e03cb337821ca62ac5fa740b4   \n",
       "0      3  1ad98b4e03cb337821ca62ac5fa740b4   \n",
       "0      3  1ad98b4e03cb337821ca62ac5fa740b4   \n",
       "0      3  1ad98b4e03cb337821ca62ac5fa740b4   \n",
       "\n",
       "                                   universe_settings  execution_time  \\\n",
       "0  {\"cutoff\": \"quantile_0.1\", \"eval_fairness_grou...       22.229333   \n",
       "0  {\"cutoff\": \"quantile_0.1\", \"eval_fairness_grou...       22.229333   \n",
       "0  {\"cutoff\": \"quantile_0.25\", \"eval_fairness_gro...       22.229333   \n",
       "0  {\"cutoff\": \"quantile_0.25\", \"eval_fairness_gro...       22.229333   \n",
       "\n",
       "   test_size_n  test_size_frac  fair_main_equalized_odds_difference  \\\n",
       "0        89710             1.0                             0.095836   \n",
       "0        89710             1.0                             0.095836   \n",
       "0        89710             1.0                             0.209979   \n",
       "0        89710             1.0                             0.209979   \n",
       "\n",
       "   fair_main_equalized_odds_ratio  fair_main_demographic_parity_difference  \\\n",
       "0                        0.900745                                 0.088084   \n",
       "0                        0.900745                                 0.088084   \n",
       "0                        0.764432                                 0.192403   \n",
       "0                        0.764432                                 0.192403   \n",
       "\n",
       "   fair_main_demographic_parity_ratio  ...  perf_grp_precision_0  \\\n",
       "0                            0.908996  ...                   NaN   \n",
       "0                            0.908996  ...              0.117449   \n",
       "0                            0.785825  ...                   NaN   \n",
       "0                            0.785825  ...              0.122155   \n",
       "\n",
       "   perf_grp_precision_1  perf_grp_false positive rate_0  \\\n",
       "0                   NaN                             NaN   \n",
       "0              0.142118                        0.965551   \n",
       "0                   NaN                             NaN   \n",
       "0              0.162318                        0.891371   \n",
       "\n",
       "   perf_grp_false positive rate_1  perf_grp_false negative rate_0  \\\n",
       "0                             NaN                             NaN   \n",
       "0                        0.869715                        0.013936   \n",
       "0                             NaN                             NaN   \n",
       "0                        0.681393                        0.048142   \n",
       "\n",
       "   perf_grp_false negative rate_1  perf_grp_selection rate_0  \\\n",
       "0                             NaN                        NaN   \n",
       "0                        0.053720                   0.967916   \n",
       "0                             NaN                        NaN   \n",
       "0                        0.132823                   0.898345   \n",
       "\n",
       "   perf_grp_selection rate_1  perf_grp_count_0  perf_grp_count_1  \n",
       "0                        NaN               NaN               NaN  \n",
       "0                   0.879832           20540.0           69170.0  \n",
       "0                        NaN               NaN               NaN  \n",
       "0                   0.705942           20540.0           69170.0  \n",
       "\n",
       "[4 rows x 50 columns]"
      ]
     },
     "execution_count": 64,
     "metadata": {},
     "output_type": "execute_result"
    }
   ],
   "source": [
    "final_output = universe_analysis.generate_final_output(\n",
    "    y_pred_prob=probs_test,\n",
    "    y_test=y_true,\n",
    "    org_test=org_test,\n",
    "    filter_data=filter_sub_universe_data,\n",
    "    cp_metrics_df=cp_metrics_df,\n",
    "    save=True,\n",
    ")\n",
    "final_output"
   ]
  },
  {
   "cell_type": "code",
   "execution_count": null,
   "id": "8b80a1ff",
   "metadata": {
    "papermill": {
     "duration": 0.030971,
     "end_time": "2025-08-19T18:27:54.215193",
     "exception": false,
     "start_time": "2025-08-19T18:27:54.184222",
     "status": "completed"
    },
    "tags": []
   },
   "outputs": [],
   "source": []
  },
  {
   "cell_type": "code",
   "execution_count": null,
   "id": "275c9fad",
   "metadata": {
    "papermill": {
     "duration": 0.029523,
     "end_time": "2025-08-19T18:27:54.273201",
     "exception": false,
     "start_time": "2025-08-19T18:27:54.243678",
     "status": "completed"
    },
    "tags": []
   },
   "outputs": [],
   "source": []
  }
 ],
 "metadata": {
  "celltoolbar": "Tags",
  "kernelspec": {
   "display_name": "Python (CMA Fairness)",
   "language": "python",
   "name": "cma_fair_env"
  },
  "language_info": {
   "codemirror_mode": {
    "name": "ipython",
    "version": 3
   },
   "file_extension": ".py",
   "mimetype": "text/x-python",
   "name": "python",
   "nbconvert_exporter": "python",
   "pygments_lexer": "ipython3",
   "version": "3.10.12"
  },
  "papermill": {
   "default_parameters": {},
   "duration": 32.505684,
   "end_time": "2025-08-19T18:27:55.115181",
   "environment_variables": {},
   "exception": null,
   "input_path": "universe_analysis.ipynb",
   "output_path": "output/runs/3/notebooks/m_3-1ad98b4e03cb337821ca62ac5fa740b4.ipynb",
   "parameters": {
    "output_dir": "output",
    "run_no": "3",
    "seed": "2023",
    "universe": "{\"cutoff\": [\"quantile_0.1\", \"quantile_0.25\"], \"eval_fairness_grouping\": [\"majority-minority\", \"nationality-all\"], \"exclude_features\": \"none\", \"exclude_subgroups\": \"keep-all\", \"model\": \"penalized_logreg\", \"scale\": \"do-not-scale\", \"training_size\": \"5k\", \"training_year\": \"2014\"}",
    "universe_id": "1ad98b4e03cb337821ca62ac5fa740b4"
   },
   "start_time": "2025-08-19T18:27:22.609497",
   "version": "2.6.0"
  }
 },
 "nbformat": 4,
 "nbformat_minor": 5
}