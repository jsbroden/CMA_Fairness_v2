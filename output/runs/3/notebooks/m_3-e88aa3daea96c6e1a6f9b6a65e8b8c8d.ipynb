{
 "cells": [
  {
   "cell_type": "markdown",
   "id": "ef23dbb3",
   "metadata": {
    "papermill": {
     "duration": 0.023739,
     "end_time": "2025-08-19T19:02:21.582324",
     "exception": false,
     "start_time": "2025-08-19T19:02:21.558585",
     "status": "completed"
    },
    "tags": []
   },
   "source": [
    "# Setup"
   ]
  },
  {
   "cell_type": "code",
   "execution_count": 1,
   "id": "0bc8e7dc",
   "metadata": {
    "execution": {
     "iopub.execute_input": "2025-08-19T19:02:21.603795Z",
     "iopub.status.busy": "2025-08-19T19:02:21.603317Z",
     "iopub.status.idle": "2025-08-19T19:02:21.613622Z",
     "shell.execute_reply": "2025-08-19T19:02:21.612586Z"
    },
    "papermill": {
     "duration": 0.023127,
     "end_time": "2025-08-19T19:02:21.616889",
     "exception": false,
     "start_time": "2025-08-19T19:02:21.593762",
     "status": "completed"
    },
    "tags": []
   },
   "outputs": [
    {
     "name": "stdout",
     "output_type": "stream",
     "text": [
      "/dss/dsshome1/0C/ra93lal2/cma/CMA_Fairness_v2\n"
     ]
    },
    {
     "name": "stderr",
     "output_type": "stream",
     "text": [
      "/dss/dsshome1/0C/ra93lal2/.local/share/virtualenvs/CMA_Fairness_v2-3j10GkSs/lib/python3.10/site-packages/IPython/core/magics/osm.py:393: UserWarning: This is now an optional IPython functionality, using bookmarks requires you to install the `pickleshare` library.\n",
      "  bkms = self.shell.db.get('bookmarks', {})\n",
      "/dss/dsshome1/0C/ra93lal2/.local/share/virtualenvs/CMA_Fairness_v2-3j10GkSs/lib/python3.10/site-packages/IPython/core/magics/osm.py:417: UserWarning: This is now an optional IPython functionality, setting dhist requires you to install the `pickleshare` library.\n",
      "  self.shell.db['dhist'] = compress_dhist(dhist)[-100:]\n"
     ]
    }
   ],
   "source": [
    "%cd ~/cma/CMA_Fairness_v2"
   ]
  },
  {
   "cell_type": "markdown",
   "id": "9d235661",
   "metadata": {
    "papermill": {
     "duration": 0.011225,
     "end_time": "2025-08-19T19:02:21.647326",
     "exception": false,
     "start_time": "2025-08-19T19:02:21.636101",
     "status": "completed"
    },
    "tags": []
   },
   "source": [
    "The following cell holds the definition of our parameters, these values can be overriden by rendering the with e.g. the following command:\n",
    "\n",
    "papermill -p alpha 0.2 -p ratio 0.3 universe_analysis.ipynb output/test_run.ipynb"
   ]
  },
  {
   "cell_type": "code",
   "execution_count": 2,
   "id": "4a789d8e",
   "metadata": {
    "execution": {
     "iopub.execute_input": "2025-08-19T19:02:21.668279Z",
     "iopub.status.busy": "2025-08-19T19:02:21.666898Z",
     "iopub.status.idle": "2025-08-19T19:02:21.674674Z",
     "shell.execute_reply": "2025-08-19T19:02:21.673157Z"
    },
    "papermill": {
     "duration": 0.019818,
     "end_time": "2025-08-19T19:02:21.676238",
     "exception": false,
     "start_time": "2025-08-19T19:02:21.656420",
     "status": "completed"
    },
    "tags": []
   },
   "outputs": [
    {
     "name": "stdout",
     "output_type": "stream",
     "text": [
      "Current working directory: /dss/dsshome1/0C/ra93lal2/cma/CMA_Fairness_v2\n"
     ]
    }
   ],
   "source": [
    "import os\n",
    "print(\"Current working directory:\", os.getcwd())"
   ]
  },
  {
   "cell_type": "code",
   "execution_count": 3,
   "id": "4132aaed",
   "metadata": {
    "execution": {
     "iopub.execute_input": "2025-08-19T19:02:21.698772Z",
     "iopub.status.busy": "2025-08-19T19:02:21.697570Z",
     "iopub.status.idle": "2025-08-19T19:02:21.707106Z",
     "shell.execute_reply": "2025-08-19T19:02:21.705858Z"
    },
    "papermill": {
     "duration": 0.021656,
     "end_time": "2025-08-19T19:02:21.708608",
     "exception": false,
     "start_time": "2025-08-19T19:02:21.686952",
     "status": "completed"
    },
    "tags": [
     "parameters"
    ]
   },
   "outputs": [],
   "source": [
    "run_no = 0\n",
    "universe_id = \"test\"\n",
    "universe = {\n",
    "    \"training_size\": \"5k\", # \"25k\", \"5k\", \"1k\"\n",
    "    \"training_year\": \"2012_14\", # \"2014\", \"2012_14\", \"2010_14\"\n",
    "    \"scale\": \"scale\", # \"scale\", \"do-not-scale\",\n",
    "    \"model\": \"elasticnet\", # \"logreg\", \"penalized_logreg\", \"rf\", \"gbm\", \"elasticnet\"\n",
    "    \"cutoff\": [\"quantile_0.15\", \"quantile_0.30\"],\n",
    "    \"exclude_features\": \"age\", # \"none\", \"nationality\", \"sex\", \"nationality-sex\", \"age\"\n",
    "    \"exclude_subgroups\": \"drop-non-german\", # \"keep-all\", \"drop-non-german\"\n",
    "    \"eval_fairness_grouping\": [\"majority-minority\", \"nationality-all\"]\n",
    "}\n",
    "\n",
    "output_dir=\"./output\"\n",
    "seed=0"
   ]
  },
  {
   "cell_type": "code",
   "execution_count": 4,
   "id": "156fb8dc",
   "metadata": {
    "execution": {
     "iopub.execute_input": "2025-08-19T19:02:21.737019Z",
     "iopub.status.busy": "2025-08-19T19:02:21.735563Z",
     "iopub.status.idle": "2025-08-19T19:02:21.743248Z",
     "shell.execute_reply": "2025-08-19T19:02:21.742033Z"
    },
    "papermill": {
     "duration": 0.021346,
     "end_time": "2025-08-19T19:02:21.744670",
     "exception": false,
     "start_time": "2025-08-19T19:02:21.723324",
     "status": "completed"
    },
    "tags": [
     "injected-parameters"
    ]
   },
   "outputs": [],
   "source": [
    "# Parameters\n",
    "universe_id = \"e88aa3daea96c6e1a6f9b6a65e8b8c8d\"\n",
    "run_no = \"3\"\n",
    "universe = \"{\\\"cutoff\\\": [\\\"quantile_0.1\\\", \\\"quantile_0.25\\\"], \\\"eval_fairness_grouping\\\": [\\\"majority-minority\\\", \\\"nationality-all\\\"], \\\"exclude_features\\\": \\\"sex\\\", \\\"exclude_subgroups\\\": \\\"drop-non-german\\\", \\\"model\\\": \\\"rf\\\", \\\"scale\\\": \\\"do-not-scale\\\", \\\"training_size\\\": \\\"1k\\\", \\\"training_year\\\": \\\"2012_14\\\"}\"\n",
    "output_dir = \"output\"\n",
    "seed = \"2023\"\n"
   ]
  },
  {
   "cell_type": "code",
   "execution_count": 5,
   "id": "a5d7941f",
   "metadata": {
    "execution": {
     "iopub.execute_input": "2025-08-19T19:02:21.766710Z",
     "iopub.status.busy": "2025-08-19T19:02:21.765430Z",
     "iopub.status.idle": "2025-08-19T19:02:21.772762Z",
     "shell.execute_reply": "2025-08-19T19:02:21.771405Z"
    },
    "papermill": {
     "duration": 0.019111,
     "end_time": "2025-08-19T19:02:21.774068",
     "exception": false,
     "start_time": "2025-08-19T19:02:21.754957",
     "status": "completed"
    },
    "tags": []
   },
   "outputs": [],
   "source": [
    "import json\n",
    "if isinstance(universe, str):\n",
    "    universe = json.loads(universe)"
   ]
  },
  {
   "cell_type": "code",
   "execution_count": 6,
   "id": "7076ccb1",
   "metadata": {
    "execution": {
     "iopub.execute_input": "2025-08-19T19:02:21.797751Z",
     "iopub.status.busy": "2025-08-19T19:02:21.796457Z",
     "iopub.status.idle": "2025-08-19T19:02:21.846781Z",
     "shell.execute_reply": "2025-08-19T19:02:21.845864Z"
    },
    "papermill": {
     "duration": 0.063473,
     "end_time": "2025-08-19T19:02:21.849575",
     "exception": false,
     "start_time": "2025-08-19T19:02:21.786102",
     "status": "completed"
    },
    "tags": []
   },
   "outputs": [],
   "source": [
    "# Auto-reload the custom package\n",
    "%load_ext autoreload\n",
    "%autoreload 1\n",
    "%aimport fairness_multiverse"
   ]
  },
  {
   "cell_type": "code",
   "execution_count": 7,
   "id": "94c8eb93",
   "metadata": {
    "execution": {
     "iopub.execute_input": "2025-08-19T19:02:21.888565Z",
     "iopub.status.busy": "2025-08-19T19:02:21.887273Z",
     "iopub.status.idle": "2025-08-19T19:02:23.340501Z",
     "shell.execute_reply": "2025-08-19T19:02:23.339141Z"
    },
    "papermill": {
     "duration": 1.4716,
     "end_time": "2025-08-19T19:02:23.344319",
     "exception": false,
     "start_time": "2025-08-19T19:02:21.872719",
     "status": "completed"
    },
    "tags": []
   },
   "outputs": [],
   "source": [
    "from fairness_multiverse.universe import UniverseAnalysis\n",
    "\n",
    "universe_analysis = UniverseAnalysis(\n",
    "    run_no = run_no,\n",
    "    universe_id = universe_id,\n",
    "    universe = universe,\n",
    "    output_dir=output_dir,\n",
    ")"
   ]
  },
  {
   "cell_type": "code",
   "execution_count": 8,
   "id": "2a6381cf",
   "metadata": {
    "execution": {
     "iopub.execute_input": "2025-08-19T19:02:23.379948Z",
     "iopub.status.busy": "2025-08-19T19:02:23.378693Z",
     "iopub.status.idle": "2025-08-19T19:02:23.389382Z",
     "shell.execute_reply": "2025-08-19T19:02:23.388141Z"
    },
    "papermill": {
     "duration": 0.025948,
     "end_time": "2025-08-19T19:02:23.391076",
     "exception": false,
     "start_time": "2025-08-19T19:02:23.365128",
     "status": "completed"
    },
    "tags": []
   },
   "outputs": [
    {
     "name": "stdout",
     "output_type": "stream",
     "text": [
      "Using Seed: 2023\n"
     ]
    }
   ],
   "source": [
    "import numpy as np\n",
    "parsed_seed = int(seed)\n",
    "np.random.seed(parsed_seed)\n",
    "print(f\"Using Seed: {parsed_seed}\")"
   ]
  },
  {
   "cell_type": "markdown",
   "id": "b6e958b4",
   "metadata": {
    "papermill": {
     "duration": 0.00914,
     "end_time": "2025-08-19T19:02:23.412980",
     "exception": false,
     "start_time": "2025-08-19T19:02:23.403840",
     "status": "completed"
    },
    "tags": []
   },
   "source": [
    "# Loading Data"
   ]
  },
  {
   "cell_type": "code",
   "execution_count": 9,
   "id": "98701482",
   "metadata": {
    "execution": {
     "iopub.execute_input": "2025-08-19T19:02:23.434475Z",
     "iopub.status.busy": "2025-08-19T19:02:23.433317Z",
     "iopub.status.idle": "2025-08-19T19:02:33.365594Z",
     "shell.execute_reply": "2025-08-19T19:02:33.364562Z"
    },
    "papermill": {
     "duration": 9.944713,
     "end_time": "2025-08-19T19:02:33.367028",
     "exception": false,
     "start_time": "2025-08-19T19:02:23.422315",
     "status": "completed"
    },
    "tags": []
   },
   "outputs": [
    {
     "name": "stdout",
     "output_type": "stream",
     "text": [
      "Loading SIAB data from cache: data/siab_cached.csv.gz\n"
     ]
    },
    {
     "name": "stdout",
     "output_type": "stream",
     "text": [
      "(643690, 164)\n"
     ]
    }
   ],
   "source": [
    "from pathlib import Path\n",
    "import pandas as pd\n",
    "\n",
    "# File paths\n",
    "raw_file = Path(\"data/raw/siab.csv\")\n",
    "cache_file = Path(\"data/siab_cached.csv.gz\")\n",
    "\n",
    "# Ensure cache directory exists\n",
    "cache_file.parent.mkdir(parents=True, exist_ok=True)\n",
    "\n",
    "# Load with simple caching\n",
    "if cache_file.exists():\n",
    "    print(f\"Loading SIAB data from cache: {cache_file}\")\n",
    "    siab = pd.read_csv(cache_file, compression='gzip')\n",
    "else:\n",
    "    print(f\"Cache not found. Reading raw SIAB data: {raw_file}\")\n",
    "    siab = pd.read_csv(raw_file)\n",
    "    siab.to_csv(cache_file, index=False, compression='gzip')\n",
    "    print(f\"Cached SIAB data to: {cache_file}\")\n",
    "\n",
    "print(siab.shape)"
   ]
  },
  {
   "cell_type": "code",
   "execution_count": 10,
   "id": "058d2abb",
   "metadata": {
    "execution": {
     "iopub.execute_input": "2025-08-19T19:02:33.391168Z",
     "iopub.status.busy": "2025-08-19T19:02:33.390880Z",
     "iopub.status.idle": "2025-08-19T19:02:33.568064Z",
     "shell.execute_reply": "2025-08-19T19:02:33.566859Z"
    },
    "papermill": {
     "duration": 0.189773,
     "end_time": "2025-08-19T19:02:33.569737",
     "exception": false,
     "start_time": "2025-08-19T19:02:33.379964",
     "status": "completed"
    },
    "tags": []
   },
   "outputs": [
    {
     "data": {
      "text/html": [
       "<div>\n",
       "<style scoped>\n",
       "    .dataframe tbody tr th:only-of-type {\n",
       "        vertical-align: middle;\n",
       "    }\n",
       "\n",
       "    .dataframe tbody tr th {\n",
       "        vertical-align: top;\n",
       "    }\n",
       "\n",
       "    .dataframe thead th {\n",
       "        text-align: right;\n",
       "    }\n",
       "</style>\n",
       "<table border=\"1\" class=\"dataframe\">\n",
       "  <thead>\n",
       "    <tr style=\"text-align: right;\">\n",
       "      <th></th>\n",
       "      <th>persnr</th>\n",
       "      <th>year</th>\n",
       "      <th>nrEntry</th>\n",
       "      <th>ltue</th>\n",
       "      <th>employed_before</th>\n",
       "      <th>receipt_leh_before</th>\n",
       "      <th>receipt_lhg_before</th>\n",
       "      <th>se_before</th>\n",
       "      <th>ASU_notue_seeking_before</th>\n",
       "      <th>ASU_other_before</th>\n",
       "      <th>...</th>\n",
       "      <th>minijob_tot_dur_byage</th>\n",
       "      <th>ft_tot_dur_byage</th>\n",
       "      <th>befrist_tot_dur_byage</th>\n",
       "      <th>leih_tot_dur_byage</th>\n",
       "      <th>LHG_tot_dur_byage</th>\n",
       "      <th>LEH_tot_dur_byage</th>\n",
       "      <th>almp_tot_dur_byage</th>\n",
       "      <th>almp_aw_tot_dur_byage</th>\n",
       "      <th>se_tot_dur_byage</th>\n",
       "      <th>seeking1_tot_dur_byage</th>\n",
       "    </tr>\n",
       "  </thead>\n",
       "  <tbody>\n",
       "    <tr>\n",
       "      <th>0</th>\n",
       "      <td>7</td>\n",
       "      <td>2015</td>\n",
       "      <td>1</td>\n",
       "      <td>0</td>\n",
       "      <td>1</td>\n",
       "      <td>0</td>\n",
       "      <td>0</td>\n",
       "      <td>0</td>\n",
       "      <td>1</td>\n",
       "      <td>0</td>\n",
       "      <td>...</td>\n",
       "      <td>0.000000</td>\n",
       "      <td>0.000000</td>\n",
       "      <td>15.043478</td>\n",
       "      <td>0.000000</td>\n",
       "      <td>0.000000</td>\n",
       "      <td>0.000000</td>\n",
       "      <td>0.000000</td>\n",
       "      <td>0.000000</td>\n",
       "      <td>0.000000</td>\n",
       "      <td>0.000000</td>\n",
       "    </tr>\n",
       "    <tr>\n",
       "      <th>1</th>\n",
       "      <td>18</td>\n",
       "      <td>2010</td>\n",
       "      <td>1</td>\n",
       "      <td>1</td>\n",
       "      <td>0</td>\n",
       "      <td>0</td>\n",
       "      <td>0</td>\n",
       "      <td>0</td>\n",
       "      <td>0</td>\n",
       "      <td>0</td>\n",
       "      <td>...</td>\n",
       "      <td>0.000000</td>\n",
       "      <td>0.000000</td>\n",
       "      <td>0.000000</td>\n",
       "      <td>0.000000</td>\n",
       "      <td>0.000000</td>\n",
       "      <td>0.000000</td>\n",
       "      <td>0.000000</td>\n",
       "      <td>0.000000</td>\n",
       "      <td>0.000000</td>\n",
       "      <td>0.000000</td>\n",
       "    </tr>\n",
       "    <tr>\n",
       "      <th>2</th>\n",
       "      <td>18</td>\n",
       "      <td>2011</td>\n",
       "      <td>2</td>\n",
       "      <td>0</td>\n",
       "      <td>1</td>\n",
       "      <td>0</td>\n",
       "      <td>1</td>\n",
       "      <td>0</td>\n",
       "      <td>1</td>\n",
       "      <td>0</td>\n",
       "      <td>...</td>\n",
       "      <td>2.714286</td>\n",
       "      <td>2.714286</td>\n",
       "      <td>0.000000</td>\n",
       "      <td>0.000000</td>\n",
       "      <td>10.775510</td>\n",
       "      <td>0.000000</td>\n",
       "      <td>8.367347</td>\n",
       "      <td>0.000000</td>\n",
       "      <td>0.000000</td>\n",
       "      <td>9.836735</td>\n",
       "    </tr>\n",
       "    <tr>\n",
       "      <th>3</th>\n",
       "      <td>18</td>\n",
       "      <td>2012</td>\n",
       "      <td>3</td>\n",
       "      <td>0</td>\n",
       "      <td>1</td>\n",
       "      <td>0</td>\n",
       "      <td>1</td>\n",
       "      <td>0</td>\n",
       "      <td>1</td>\n",
       "      <td>0</td>\n",
       "      <td>...</td>\n",
       "      <td>4.200000</td>\n",
       "      <td>4.200000</td>\n",
       "      <td>0.000000</td>\n",
       "      <td>0.000000</td>\n",
       "      <td>12.100000</td>\n",
       "      <td>0.000000</td>\n",
       "      <td>9.400000</td>\n",
       "      <td>0.000000</td>\n",
       "      <td>0.000000</td>\n",
       "      <td>9.960000</td>\n",
       "    </tr>\n",
       "    <tr>\n",
       "      <th>4</th>\n",
       "      <td>18</td>\n",
       "      <td>2012</td>\n",
       "      <td>4</td>\n",
       "      <td>0</td>\n",
       "      <td>1</td>\n",
       "      <td>0</td>\n",
       "      <td>1</td>\n",
       "      <td>0</td>\n",
       "      <td>1</td>\n",
       "      <td>0</td>\n",
       "      <td>...</td>\n",
       "      <td>5.460000</td>\n",
       "      <td>5.460000</td>\n",
       "      <td>0.000000</td>\n",
       "      <td>0.000000</td>\n",
       "      <td>13.360000</td>\n",
       "      <td>0.000000</td>\n",
       "      <td>10.320000</td>\n",
       "      <td>0.000000</td>\n",
       "      <td>0.000000</td>\n",
       "      <td>10.280000</td>\n",
       "    </tr>\n",
       "    <tr>\n",
       "      <th>...</th>\n",
       "      <td>...</td>\n",
       "      <td>...</td>\n",
       "      <td>...</td>\n",
       "      <td>...</td>\n",
       "      <td>...</td>\n",
       "      <td>...</td>\n",
       "      <td>...</td>\n",
       "      <td>...</td>\n",
       "      <td>...</td>\n",
       "      <td>...</td>\n",
       "      <td>...</td>\n",
       "      <td>...</td>\n",
       "      <td>...</td>\n",
       "      <td>...</td>\n",
       "      <td>...</td>\n",
       "      <td>...</td>\n",
       "      <td>...</td>\n",
       "      <td>...</td>\n",
       "      <td>...</td>\n",
       "      <td>...</td>\n",
       "      <td>...</td>\n",
       "    </tr>\n",
       "    <tr>\n",
       "      <th>643685</th>\n",
       "      <td>1827860</td>\n",
       "      <td>2013</td>\n",
       "      <td>1</td>\n",
       "      <td>0</td>\n",
       "      <td>0</td>\n",
       "      <td>0</td>\n",
       "      <td>1</td>\n",
       "      <td>0</td>\n",
       "      <td>0</td>\n",
       "      <td>1</td>\n",
       "      <td>...</td>\n",
       "      <td>0.000000</td>\n",
       "      <td>0.000000</td>\n",
       "      <td>0.000000</td>\n",
       "      <td>0.000000</td>\n",
       "      <td>0.612903</td>\n",
       "      <td>0.000000</td>\n",
       "      <td>0.000000</td>\n",
       "      <td>0.000000</td>\n",
       "      <td>0.000000</td>\n",
       "      <td>0.000000</td>\n",
       "    </tr>\n",
       "    <tr>\n",
       "      <th>643686</th>\n",
       "      <td>1827860</td>\n",
       "      <td>2015</td>\n",
       "      <td>2</td>\n",
       "      <td>1</td>\n",
       "      <td>0</td>\n",
       "      <td>0</td>\n",
       "      <td>1</td>\n",
       "      <td>0</td>\n",
       "      <td>1</td>\n",
       "      <td>0</td>\n",
       "      <td>...</td>\n",
       "      <td>0.000000</td>\n",
       "      <td>0.000000</td>\n",
       "      <td>0.212121</td>\n",
       "      <td>0.212121</td>\n",
       "      <td>17.363636</td>\n",
       "      <td>0.000000</td>\n",
       "      <td>8.909091</td>\n",
       "      <td>0.000000</td>\n",
       "      <td>0.000000</td>\n",
       "      <td>7.121212</td>\n",
       "    </tr>\n",
       "    <tr>\n",
       "      <th>643687</th>\n",
       "      <td>1827860</td>\n",
       "      <td>2016</td>\n",
       "      <td>3</td>\n",
       "      <td>1</td>\n",
       "      <td>0</td>\n",
       "      <td>0</td>\n",
       "      <td>1</td>\n",
       "      <td>1</td>\n",
       "      <td>0</td>\n",
       "      <td>1</td>\n",
       "      <td>...</td>\n",
       "      <td>0.000000</td>\n",
       "      <td>0.000000</td>\n",
       "      <td>0.294118</td>\n",
       "      <td>0.205882</td>\n",
       "      <td>34.705882</td>\n",
       "      <td>0.000000</td>\n",
       "      <td>10.352941</td>\n",
       "      <td>1.705882</td>\n",
       "      <td>1.705882</td>\n",
       "      <td>23.911765</td>\n",
       "    </tr>\n",
       "    <tr>\n",
       "      <th>643688</th>\n",
       "      <td>1827869</td>\n",
       "      <td>2013</td>\n",
       "      <td>1</td>\n",
       "      <td>1</td>\n",
       "      <td>1</td>\n",
       "      <td>0</td>\n",
       "      <td>0</td>\n",
       "      <td>0</td>\n",
       "      <td>1</td>\n",
       "      <td>0</td>\n",
       "      <td>...</td>\n",
       "      <td>0.000000</td>\n",
       "      <td>0.000000</td>\n",
       "      <td>0.000000</td>\n",
       "      <td>0.000000</td>\n",
       "      <td>0.000000</td>\n",
       "      <td>0.525424</td>\n",
       "      <td>0.000000</td>\n",
       "      <td>0.000000</td>\n",
       "      <td>0.000000</td>\n",
       "      <td>0.000000</td>\n",
       "    </tr>\n",
       "    <tr>\n",
       "      <th>643689</th>\n",
       "      <td>1827869</td>\n",
       "      <td>2014</td>\n",
       "      <td>2</td>\n",
       "      <td>0</td>\n",
       "      <td>0</td>\n",
       "      <td>1</td>\n",
       "      <td>0</td>\n",
       "      <td>0</td>\n",
       "      <td>1</td>\n",
       "      <td>0</td>\n",
       "      <td>...</td>\n",
       "      <td>0.000000</td>\n",
       "      <td>0.666667</td>\n",
       "      <td>0.666667</td>\n",
       "      <td>0.000000</td>\n",
       "      <td>0.000000</td>\n",
       "      <td>8.950000</td>\n",
       "      <td>1.033333</td>\n",
       "      <td>0.083333</td>\n",
       "      <td>0.083333</td>\n",
       "      <td>8.133333</td>\n",
       "    </tr>\n",
       "  </tbody>\n",
       "</table>\n",
       "<p>643690 rows × 164 columns</p>\n",
       "</div>"
      ],
      "text/plain": [
       "         persnr  year  nrEntry  ltue  employed_before  receipt_leh_before  \\\n",
       "0             7  2015        1     0                1                   0   \n",
       "1            18  2010        1     1                0                   0   \n",
       "2            18  2011        2     0                1                   0   \n",
       "3            18  2012        3     0                1                   0   \n",
       "4            18  2012        4     0                1                   0   \n",
       "...         ...   ...      ...   ...              ...                 ...   \n",
       "643685  1827860  2013        1     0                0                   0   \n",
       "643686  1827860  2015        2     1                0                   0   \n",
       "643687  1827860  2016        3     1                0                   0   \n",
       "643688  1827869  2013        1     1                1                   0   \n",
       "643689  1827869  2014        2     0                0                   1   \n",
       "\n",
       "        receipt_lhg_before  se_before  ASU_notue_seeking_before  \\\n",
       "0                        0          0                         1   \n",
       "1                        0          0                         0   \n",
       "2                        1          0                         1   \n",
       "3                        1          0                         1   \n",
       "4                        1          0                         1   \n",
       "...                    ...        ...                       ...   \n",
       "643685                   1          0                         0   \n",
       "643686                   1          0                         1   \n",
       "643687                   1          1                         0   \n",
       "643688                   0          0                         1   \n",
       "643689                   0          0                         1   \n",
       "\n",
       "        ASU_other_before  ...  minijob_tot_dur_byage  ft_tot_dur_byage  \\\n",
       "0                      0  ...               0.000000          0.000000   \n",
       "1                      0  ...               0.000000          0.000000   \n",
       "2                      0  ...               2.714286          2.714286   \n",
       "3                      0  ...               4.200000          4.200000   \n",
       "4                      0  ...               5.460000          5.460000   \n",
       "...                  ...  ...                    ...               ...   \n",
       "643685                 1  ...               0.000000          0.000000   \n",
       "643686                 0  ...               0.000000          0.000000   \n",
       "643687                 1  ...               0.000000          0.000000   \n",
       "643688                 0  ...               0.000000          0.000000   \n",
       "643689                 0  ...               0.000000          0.666667   \n",
       "\n",
       "        befrist_tot_dur_byage  leih_tot_dur_byage  LHG_tot_dur_byage  \\\n",
       "0                   15.043478            0.000000           0.000000   \n",
       "1                    0.000000            0.000000           0.000000   \n",
       "2                    0.000000            0.000000          10.775510   \n",
       "3                    0.000000            0.000000          12.100000   \n",
       "4                    0.000000            0.000000          13.360000   \n",
       "...                       ...                 ...                ...   \n",
       "643685               0.000000            0.000000           0.612903   \n",
       "643686               0.212121            0.212121          17.363636   \n",
       "643687               0.294118            0.205882          34.705882   \n",
       "643688               0.000000            0.000000           0.000000   \n",
       "643689               0.666667            0.000000           0.000000   \n",
       "\n",
       "        LEH_tot_dur_byage  almp_tot_dur_byage  almp_aw_tot_dur_byage  \\\n",
       "0                0.000000            0.000000               0.000000   \n",
       "1                0.000000            0.000000               0.000000   \n",
       "2                0.000000            8.367347               0.000000   \n",
       "3                0.000000            9.400000               0.000000   \n",
       "4                0.000000           10.320000               0.000000   \n",
       "...                   ...                 ...                    ...   \n",
       "643685           0.000000            0.000000               0.000000   \n",
       "643686           0.000000            8.909091               0.000000   \n",
       "643687           0.000000           10.352941               1.705882   \n",
       "643688           0.525424            0.000000               0.000000   \n",
       "643689           8.950000            1.033333               0.083333   \n",
       "\n",
       "        se_tot_dur_byage  seeking1_tot_dur_byage  \n",
       "0               0.000000                0.000000  \n",
       "1               0.000000                0.000000  \n",
       "2               0.000000                9.836735  \n",
       "3               0.000000                9.960000  \n",
       "4               0.000000               10.280000  \n",
       "...                  ...                     ...  \n",
       "643685          0.000000                0.000000  \n",
       "643686          0.000000                7.121212  \n",
       "643687          1.705882               23.911765  \n",
       "643688          0.000000                0.000000  \n",
       "643689          0.083333                8.133333  \n",
       "\n",
       "[643690 rows x 164 columns]"
      ]
     },
     "execution_count": 10,
     "metadata": {},
     "output_type": "execute_result"
    }
   ],
   "source": [
    "siab"
   ]
  },
  {
   "cell_type": "markdown",
   "id": "1f87e805",
   "metadata": {
    "papermill": {
     "duration": 0.009509,
     "end_time": "2025-08-19T19:02:33.590853",
     "exception": false,
     "start_time": "2025-08-19T19:02:33.581344",
     "status": "completed"
    },
    "tags": []
   },
   "source": [
    "# Splitting Data and Setting Training Data Size"
   ]
  },
  {
   "cell_type": "code",
   "execution_count": 11,
   "id": "910ae358",
   "metadata": {
    "execution": {
     "iopub.execute_input": "2025-08-19T19:02:33.613877Z",
     "iopub.status.busy": "2025-08-19T19:02:33.611882Z",
     "iopub.status.idle": "2025-08-19T19:02:34.297045Z",
     "shell.execute_reply": "2025-08-19T19:02:34.296156Z"
    },
    "papermill": {
     "duration": 0.698078,
     "end_time": "2025-08-19T19:02:34.298622",
     "exception": false,
     "start_time": "2025-08-19T19:02:33.600544",
     "status": "completed"
    },
    "tags": []
   },
   "outputs": [],
   "source": [
    "from fairness_multiverse.universe import sample_by_year_size\n",
    "\n",
    "siab_train = sample_by_year_size(siab,\n",
    "                               training_year=universe[\"training_year\"],\n",
    "                               training_size=universe[\"training_size\"])"
   ]
  },
  {
   "cell_type": "code",
   "execution_count": 12,
   "id": "919c8ff5",
   "metadata": {
    "execution": {
     "iopub.execute_input": "2025-08-19T19:02:34.322717Z",
     "iopub.status.busy": "2025-08-19T19:02:34.322319Z",
     "iopub.status.idle": "2025-08-19T19:02:34.328126Z",
     "shell.execute_reply": "2025-08-19T19:02:34.327352Z"
    },
    "papermill": {
     "duration": 0.01826,
     "end_time": "2025-08-19T19:02:34.329807",
     "exception": false,
     "start_time": "2025-08-19T19:02:34.311547",
     "status": "completed"
    },
    "tags": []
   },
   "outputs": [
    {
     "data": {
      "text/plain": [
       "(1000, 164)"
      ]
     },
     "execution_count": 12,
     "metadata": {},
     "output_type": "execute_result"
    }
   ],
   "source": [
    "siab_train.shape"
   ]
  },
  {
   "cell_type": "code",
   "execution_count": 13,
   "id": "feb13bf4",
   "metadata": {
    "execution": {
     "iopub.execute_input": "2025-08-19T19:02:34.351297Z",
     "iopub.status.busy": "2025-08-19T19:02:34.350930Z",
     "iopub.status.idle": "2025-08-19T19:02:34.358668Z",
     "shell.execute_reply": "2025-08-19T19:02:34.357931Z"
    },
    "papermill": {
     "duration": 0.020312,
     "end_time": "2025-08-19T19:02:34.360040",
     "exception": false,
     "start_time": "2025-08-19T19:02:34.339728",
     "status": "completed"
    },
    "tags": []
   },
   "outputs": [
    {
     "data": {
      "text/plain": [
       "year\n",
       "2012    334\n",
       "2013    333\n",
       "2014    333\n",
       "dtype: int64"
      ]
     },
     "metadata": {},
     "output_type": "display_data"
    }
   ],
   "source": [
    "display(siab_train.groupby(\"year\").size())"
   ]
  },
  {
   "cell_type": "code",
   "execution_count": 14,
   "id": "0997782f",
   "metadata": {
    "execution": {
     "iopub.execute_input": "2025-08-19T19:02:34.382208Z",
     "iopub.status.busy": "2025-08-19T19:02:34.381370Z",
     "iopub.status.idle": "2025-08-19T19:02:34.778832Z",
     "shell.execute_reply": "2025-08-19T19:02:34.777662Z"
    },
    "papermill": {
     "duration": 0.410492,
     "end_time": "2025-08-19T19:02:34.781036",
     "exception": false,
     "start_time": "2025-08-19T19:02:34.370544",
     "status": "completed"
    },
    "tags": []
   },
   "outputs": [],
   "source": [
    "#siab_train = siab_s[siab_s.year < 2015]\n",
    "siab_calib = siab[siab.year == 2015]\n",
    "siab_test = siab[siab.year == 2016]"
   ]
  },
  {
   "cell_type": "code",
   "execution_count": 15,
   "id": "2c1e4012",
   "metadata": {
    "execution": {
     "iopub.execute_input": "2025-08-19T19:02:34.804935Z",
     "iopub.status.busy": "2025-08-19T19:02:34.804324Z",
     "iopub.status.idle": "2025-08-19T19:02:34.810035Z",
     "shell.execute_reply": "2025-08-19T19:02:34.809315Z"
    },
    "papermill": {
     "duration": 0.020103,
     "end_time": "2025-08-19T19:02:34.811495",
     "exception": false,
     "start_time": "2025-08-19T19:02:34.791392",
     "status": "completed"
    },
    "tags": []
   },
   "outputs": [],
   "source": [
    "#siab_calib.shape"
   ]
  },
  {
   "cell_type": "code",
   "execution_count": 16,
   "id": "f66b54ca",
   "metadata": {
    "execution": {
     "iopub.execute_input": "2025-08-19T19:02:34.948736Z",
     "iopub.status.busy": "2025-08-19T19:02:34.948228Z",
     "iopub.status.idle": "2025-08-19T19:02:34.952799Z",
     "shell.execute_reply": "2025-08-19T19:02:34.951970Z"
    },
    "papermill": {
     "duration": 0.017068,
     "end_time": "2025-08-19T19:02:34.954092",
     "exception": false,
     "start_time": "2025-08-19T19:02:34.937024",
     "status": "completed"
    },
    "tags": []
   },
   "outputs": [],
   "source": [
    "#siab_test.shape"
   ]
  },
  {
   "cell_type": "code",
   "execution_count": 17,
   "id": "27e4384d",
   "metadata": {
    "execution": {
     "iopub.execute_input": "2025-08-19T19:02:34.976301Z",
     "iopub.status.busy": "2025-08-19T19:02:34.975836Z",
     "iopub.status.idle": "2025-08-19T19:02:34.983927Z",
     "shell.execute_reply": "2025-08-19T19:02:34.983081Z"
    },
    "papermill": {
     "duration": 0.021147,
     "end_time": "2025-08-19T19:02:34.985521",
     "exception": false,
     "start_time": "2025-08-19T19:02:34.964374",
     "status": "completed"
    },
    "tags": []
   },
   "outputs": [],
   "source": [
    "X_train = siab_train.iloc[:,4:164]\n",
    "y_train = siab_train.iloc[:, [3]]"
   ]
  },
  {
   "cell_type": "code",
   "execution_count": 18,
   "id": "08ee8389",
   "metadata": {
    "execution": {
     "iopub.execute_input": "2025-08-19T19:02:35.009676Z",
     "iopub.status.busy": "2025-08-19T19:02:35.009243Z",
     "iopub.status.idle": "2025-08-19T19:02:35.071353Z",
     "shell.execute_reply": "2025-08-19T19:02:35.070469Z"
    },
    "papermill": {
     "duration": 0.074977,
     "end_time": "2025-08-19T19:02:35.073028",
     "exception": false,
     "start_time": "2025-08-19T19:02:34.998051",
     "status": "completed"
    },
    "tags": []
   },
   "outputs": [],
   "source": [
    "X_calib = siab_calib.iloc[:,4:164]\n",
    "y_calib = siab_calib.iloc[:, [3]]"
   ]
  },
  {
   "cell_type": "code",
   "execution_count": 19,
   "id": "b7ff42e0",
   "metadata": {
    "execution": {
     "iopub.execute_input": "2025-08-19T19:02:35.097052Z",
     "iopub.status.busy": "2025-08-19T19:02:35.096599Z",
     "iopub.status.idle": "2025-08-19T19:02:35.153806Z",
     "shell.execute_reply": "2025-08-19T19:02:35.153004Z"
    },
    "papermill": {
     "duration": 0.069866,
     "end_time": "2025-08-19T19:02:35.155164",
     "exception": false,
     "start_time": "2025-08-19T19:02:35.085298",
     "status": "completed"
    },
    "tags": []
   },
   "outputs": [],
   "source": [
    "X_test = siab_test.iloc[:,4:164]\n",
    "y_true = siab_test.iloc[:, [3]]"
   ]
  },
  {
   "cell_type": "code",
   "execution_count": 20,
   "id": "0275101e",
   "metadata": {
    "execution": {
     "iopub.execute_input": "2025-08-19T19:02:35.179891Z",
     "iopub.status.busy": "2025-08-19T19:02:35.179394Z",
     "iopub.status.idle": "2025-08-19T19:02:35.292860Z",
     "shell.execute_reply": "2025-08-19T19:02:35.292085Z"
    },
    "papermill": {
     "duration": 0.126894,
     "end_time": "2025-08-19T19:02:35.294438",
     "exception": false,
     "start_time": "2025-08-19T19:02:35.167544",
     "status": "completed"
    },
    "tags": []
   },
   "outputs": [],
   "source": [
    "# Auxiliary data needed downstream in the pipeline\n",
    "\n",
    "org_train = X_train.copy()\n",
    "org_test = X_test.copy()\n",
    "org_calib = X_calib.copy()"
   ]
  },
  {
   "cell_type": "markdown",
   "id": "b461e618",
   "metadata": {
    "papermill": {
     "duration": 0.010663,
     "end_time": "2025-08-19T19:02:35.315991",
     "exception": false,
     "start_time": "2025-08-19T19:02:35.305328",
     "status": "completed"
    },
    "tags": []
   },
   "source": [
    "# Preprocessing Data"
   ]
  },
  {
   "cell_type": "code",
   "execution_count": 21,
   "id": "78e74c4b",
   "metadata": {
    "execution": {
     "iopub.execute_input": "2025-08-19T19:02:35.337984Z",
     "iopub.status.busy": "2025-08-19T19:02:35.337517Z",
     "iopub.status.idle": "2025-08-19T19:02:35.342586Z",
     "shell.execute_reply": "2025-08-19T19:02:35.341806Z"
    },
    "papermill": {
     "duration": 0.018255,
     "end_time": "2025-08-19T19:02:35.344499",
     "exception": false,
     "start_time": "2025-08-19T19:02:35.326244",
     "status": "completed"
    },
    "tags": []
   },
   "outputs": [],
   "source": [
    "# EXCLUDE PROTECTED FEATURES\n",
    "# --------------------------\n",
    "\n",
    "excluded_features = universe[\"exclude_features\"].split(\"-\")\n",
    "excluded_features_dictionary = {\n",
    "    \"nationality\": [\"maxdeutsch1\", \"maxdeutsch.Missing.\"],\n",
    "    \"sex\": [\"frau1\"],\n",
    "    \"age\": [\"age\"],\n",
    "}"
   ]
  },
  {
   "cell_type": "code",
   "execution_count": 22,
   "id": "f8e63555",
   "metadata": {
    "execution": {
     "iopub.execute_input": "2025-08-19T19:02:35.367064Z",
     "iopub.status.busy": "2025-08-19T19:02:35.366611Z",
     "iopub.status.idle": "2025-08-19T19:02:35.371406Z",
     "shell.execute_reply": "2025-08-19T19:02:35.370671Z"
    },
    "papermill": {
     "duration": 0.017433,
     "end_time": "2025-08-19T19:02:35.372710",
     "exception": false,
     "start_time": "2025-08-19T19:02:35.355277",
     "status": "completed"
    },
    "tags": []
   },
   "outputs": [],
   "source": [
    "excluded_features_columns = [\n",
    "    excluded_features_dictionary[f] for f in excluded_features if len(f) > 0 and f != \"none\"\n",
    "]"
   ]
  },
  {
   "cell_type": "code",
   "execution_count": 23,
   "id": "da781f7c",
   "metadata": {
    "execution": {
     "iopub.execute_input": "2025-08-19T19:02:35.394943Z",
     "iopub.status.busy": "2025-08-19T19:02:35.394497Z",
     "iopub.status.idle": "2025-08-19T19:02:35.399238Z",
     "shell.execute_reply": "2025-08-19T19:02:35.398552Z"
    },
    "papermill": {
     "duration": 0.017251,
     "end_time": "2025-08-19T19:02:35.400519",
     "exception": false,
     "start_time": "2025-08-19T19:02:35.383268",
     "status": "completed"
    },
    "tags": []
   },
   "outputs": [],
   "source": [
    "from fairness_multiverse.universe import flatten_once\n",
    "\n",
    "excluded_features_columns = flatten_once(excluded_features_columns)"
   ]
  },
  {
   "cell_type": "code",
   "execution_count": 24,
   "id": "37fef0f0",
   "metadata": {
    "execution": {
     "iopub.execute_input": "2025-08-19T19:02:35.423265Z",
     "iopub.status.busy": "2025-08-19T19:02:35.422579Z",
     "iopub.status.idle": "2025-08-19T19:02:35.430110Z",
     "shell.execute_reply": "2025-08-19T19:02:35.429353Z"
    },
    "papermill": {
     "duration": 0.020462,
     "end_time": "2025-08-19T19:02:35.431609",
     "exception": false,
     "start_time": "2025-08-19T19:02:35.411147",
     "status": "completed"
    },
    "tags": []
   },
   "outputs": [
    {
     "name": "stdout",
     "output_type": "stream",
     "text": [
      "Dropping features: ['frau1']\n"
     ]
    }
   ],
   "source": [
    "if len(excluded_features_columns) > 0:\n",
    "    print(f\"Dropping features: {excluded_features_columns}\")\n",
    "    X_train.drop(excluded_features_columns, axis=1, inplace=True)"
   ]
  },
  {
   "cell_type": "code",
   "execution_count": 25,
   "id": "d029e3e9",
   "metadata": {
    "execution": {
     "iopub.execute_input": "2025-08-19T19:02:35.455735Z",
     "iopub.status.busy": "2025-08-19T19:02:35.455303Z",
     "iopub.status.idle": "2025-08-19T19:02:35.513404Z",
     "shell.execute_reply": "2025-08-19T19:02:35.512421Z"
    },
    "papermill": {
     "duration": 0.070821,
     "end_time": "2025-08-19T19:02:35.514741",
     "exception": false,
     "start_time": "2025-08-19T19:02:35.443920",
     "status": "completed"
    },
    "tags": []
   },
   "outputs": [
    {
     "name": "stdout",
     "output_type": "stream",
     "text": [
      "Dropping features: ['frau1']\n"
     ]
    }
   ],
   "source": [
    "if len(excluded_features_columns) > 0:\n",
    "    print(f\"Dropping features: {excluded_features_columns}\")\n",
    "    X_test.drop(excluded_features_columns, axis=1, inplace=True)"
   ]
  },
  {
   "cell_type": "code",
   "execution_count": 26,
   "id": "01d571f0",
   "metadata": {
    "execution": {
     "iopub.execute_input": "2025-08-19T19:02:35.539397Z",
     "iopub.status.busy": "2025-08-19T19:02:35.538935Z",
     "iopub.status.idle": "2025-08-19T19:02:35.589750Z",
     "shell.execute_reply": "2025-08-19T19:02:35.588886Z"
    },
    "papermill": {
     "duration": 0.063714,
     "end_time": "2025-08-19T19:02:35.591083",
     "exception": false,
     "start_time": "2025-08-19T19:02:35.527369",
     "status": "completed"
    },
    "tags": []
   },
   "outputs": [
    {
     "name": "stdout",
     "output_type": "stream",
     "text": [
      "Dropping features: ['frau1']\n"
     ]
    }
   ],
   "source": [
    "if len(excluded_features_columns) > 0:\n",
    "    print(f\"Dropping features: {excluded_features_columns}\")\n",
    "    X_calib.drop(excluded_features_columns, axis=1, inplace=True)"
   ]
  },
  {
   "cell_type": "code",
   "execution_count": 27,
   "id": "3037356e",
   "metadata": {
    "execution": {
     "iopub.execute_input": "2025-08-19T19:02:35.615648Z",
     "iopub.status.busy": "2025-08-19T19:02:35.614510Z",
     "iopub.status.idle": "2025-08-19T19:02:35.624169Z",
     "shell.execute_reply": "2025-08-19T19:02:35.621999Z"
    },
    "papermill": {
     "duration": 0.023713,
     "end_time": "2025-08-19T19:02:35.625939",
     "exception": false,
     "start_time": "2025-08-19T19:02:35.602226",
     "status": "completed"
    },
    "tags": []
   },
   "outputs": [],
   "source": [
    "# EXCLUDE CERTAIN SUBGROUPS\n",
    "# -------------------------\n",
    "\n",
    "mode = universe.get(\"exclude_subgroups\", \"keep-all\") # Defaults to \"keep-all\" if the key is missing."
   ]
  },
  {
   "cell_type": "code",
   "execution_count": 28,
   "id": "9d1e63fd",
   "metadata": {
    "execution": {
     "iopub.execute_input": "2025-08-19T19:02:35.661180Z",
     "iopub.status.busy": "2025-08-19T19:02:35.660003Z",
     "iopub.status.idle": "2025-08-19T19:02:35.672349Z",
     "shell.execute_reply": "2025-08-19T19:02:35.671267Z"
    },
    "papermill": {
     "duration": 0.029545,
     "end_time": "2025-08-19T19:02:35.674091",
     "exception": false,
     "start_time": "2025-08-19T19:02:35.644546",
     "status": "completed"
    },
    "tags": []
   },
   "outputs": [],
   "source": [
    "if mode == \"keep-all\":\n",
    "    keep_mask = pd.Series(True, index=org_train.index)\n",
    "\n",
    "elif mode == \"drop-non-german\":\n",
    "    keep_mask = (org_train[\"maxdeutsch1\"] == 1) & (org_train[\"maxdeutsch.Missing.\"] == 0)\n",
    "\n",
    "else:\n",
    "    raise ValueError(f\"Unsupported mode for exclude_subgroups: {mode}\")"
   ]
  },
  {
   "cell_type": "code",
   "execution_count": 29,
   "id": "d3b65474",
   "metadata": {
    "execution": {
     "iopub.execute_input": "2025-08-19T19:02:35.713550Z",
     "iopub.status.busy": "2025-08-19T19:02:35.711809Z",
     "iopub.status.idle": "2025-08-19T19:02:35.727159Z",
     "shell.execute_reply": "2025-08-19T19:02:35.726035Z"
    },
    "papermill": {
     "duration": 0.031114,
     "end_time": "2025-08-19T19:02:35.728858",
     "exception": false,
     "start_time": "2025-08-19T19:02:35.697744",
     "status": "completed"
    },
    "tags": []
   },
   "outputs": [
    {
     "name": "stdout",
     "output_type": "stream",
     "text": [
      "Dropping 147 rows (14.70%) where mode='drop-non-german'\n"
     ]
    }
   ],
   "source": [
    "n_drop = (~keep_mask).sum() # Calculates how many rows are set to be dropped\n",
    "if n_drop > 0:\n",
    "    pct = n_drop / len(keep_mask) * 100\n",
    "    print(f\"Dropping {n_drop} rows ({pct:.2f}%) where mode='{mode}'\")"
   ]
  },
  {
   "cell_type": "code",
   "execution_count": 30,
   "id": "f44389b3",
   "metadata": {
    "execution": {
     "iopub.execute_input": "2025-08-19T19:02:35.757137Z",
     "iopub.status.busy": "2025-08-19T19:02:35.756667Z",
     "iopub.status.idle": "2025-08-19T19:02:35.762347Z",
     "shell.execute_reply": "2025-08-19T19:02:35.761553Z"
    },
    "papermill": {
     "duration": 0.019048,
     "end_time": "2025-08-19T19:02:35.763834",
     "exception": false,
     "start_time": "2025-08-19T19:02:35.744786",
     "status": "completed"
    },
    "tags": []
   },
   "outputs": [],
   "source": [
    "X_train = X_train[keep_mask]"
   ]
  },
  {
   "cell_type": "code",
   "execution_count": 31,
   "id": "ceca8c2a",
   "metadata": {
    "execution": {
     "iopub.execute_input": "2025-08-19T19:02:35.794173Z",
     "iopub.status.busy": "2025-08-19T19:02:35.793456Z",
     "iopub.status.idle": "2025-08-19T19:02:35.799333Z",
     "shell.execute_reply": "2025-08-19T19:02:35.798400Z"
    },
    "papermill": {
     "duration": 0.026149,
     "end_time": "2025-08-19T19:02:35.801123",
     "exception": false,
     "start_time": "2025-08-19T19:02:35.774974",
     "status": "completed"
    },
    "tags": []
   },
   "outputs": [],
   "source": [
    "y_train = y_train[keep_mask]"
   ]
  },
  {
   "cell_type": "markdown",
   "id": "04d31e2f",
   "metadata": {
    "papermill": {
     "duration": 0.010696,
     "end_time": "2025-08-19T19:02:35.823129",
     "exception": false,
     "start_time": "2025-08-19T19:02:35.812433",
     "status": "completed"
    },
    "tags": []
   },
   "source": [
    "# Model Training"
   ]
  },
  {
   "cell_type": "code",
   "execution_count": 32,
   "id": "db991733",
   "metadata": {
    "execution": {
     "iopub.execute_input": "2025-08-19T19:02:35.865349Z",
     "iopub.status.busy": "2025-08-19T19:02:35.865008Z",
     "iopub.status.idle": "2025-08-19T19:02:35.968805Z",
     "shell.execute_reply": "2025-08-19T19:02:35.967581Z"
    },
    "papermill": {
     "duration": 0.136147,
     "end_time": "2025-08-19T19:02:35.972307",
     "exception": false,
     "start_time": "2025-08-19T19:02:35.836160",
     "status": "completed"
    },
    "tags": []
   },
   "outputs": [],
   "source": [
    "from sklearn.linear_model import LogisticRegression\n",
    "from sklearn.ensemble import GradientBoostingClassifier, RandomForestClassifier\n",
    "\n",
    "if (universe[\"model\"] == \"logreg\"):\n",
    "    model = LogisticRegression() #penalty=\"none\", solver=\"newton-cg\", max_iter=1)\n",
    "elif (universe[\"model\"] == \"penalized_logreg\"):\n",
    "    model = LogisticRegression(penalty=\"l2\", C=0.1) #, solver=\"newton-cg\", max_iter=1)\n",
    "elif (universe[\"model\"] == \"rf\"):\n",
    "    model = RandomForestClassifier() # n_estimators=100, n_jobs=-1\n",
    "elif (universe[\"model\"] == \"gbm\"):\n",
    "    model = GradientBoostingClassifier()\n",
    "elif (universe[\"model\"] == \"elasticnet\"):\n",
    "    model = LogisticRegression(penalty = 'elasticnet', solver = 'saga', l1_ratio = 0.5) # max_iter=5000\n",
    "else:\n",
    "    raise \"Unsupported universe.model\""
   ]
  },
  {
   "cell_type": "code",
   "execution_count": 33,
   "id": "a4b5cd25",
   "metadata": {
    "execution": {
     "iopub.execute_input": "2025-08-19T19:02:36.007103Z",
     "iopub.status.busy": "2025-08-19T19:02:36.005816Z",
     "iopub.status.idle": "2025-08-19T19:02:36.015013Z",
     "shell.execute_reply": "2025-08-19T19:02:36.013803Z"
    },
    "papermill": {
     "duration": 0.024765,
     "end_time": "2025-08-19T19:02:36.017414",
     "exception": false,
     "start_time": "2025-08-19T19:02:35.992649",
     "status": "completed"
    },
    "tags": []
   },
   "outputs": [],
   "source": [
    "from sklearn.pipeline import Pipeline\n",
    "from sklearn.preprocessing import StandardScaler\n",
    "\n",
    "model = Pipeline([\n",
    "    #(\"continuous_processor\", continuous_processor),\n",
    "    #(\"categorical_preprocessor\", categorical_preprocessor),\n",
    "    (\"scale\", StandardScaler() if universe[\"scale\"] == \"scale\" else None), \n",
    "    (\"model\", model),\n",
    "])"
   ]
  },
  {
   "cell_type": "code",
   "execution_count": 34,
   "id": "283a904d",
   "metadata": {
    "execution": {
     "iopub.execute_input": "2025-08-19T19:02:36.046447Z",
     "iopub.status.busy": "2025-08-19T19:02:36.045080Z",
     "iopub.status.idle": "2025-08-19T19:02:36.337387Z",
     "shell.execute_reply": "2025-08-19T19:02:36.336698Z"
    },
    "papermill": {
     "duration": 0.30766,
     "end_time": "2025-08-19T19:02:36.338604",
     "exception": false,
     "start_time": "2025-08-19T19:02:36.030944",
     "status": "completed"
    },
    "tags": []
   },
   "outputs": [
    {
     "data": {
      "text/html": [
       "<style>#sk-container-id-1 {color: black;background-color: white;}#sk-container-id-1 pre{padding: 0;}#sk-container-id-1 div.sk-toggleable {background-color: white;}#sk-container-id-1 label.sk-toggleable__label {cursor: pointer;display: block;width: 100%;margin-bottom: 0;padding: 0.3em;box-sizing: border-box;text-align: center;}#sk-container-id-1 label.sk-toggleable__label-arrow:before {content: \"▸\";float: left;margin-right: 0.25em;color: #696969;}#sk-container-id-1 label.sk-toggleable__label-arrow:hover:before {color: black;}#sk-container-id-1 div.sk-estimator:hover label.sk-toggleable__label-arrow:before {color: black;}#sk-container-id-1 div.sk-toggleable__content {max-height: 0;max-width: 0;overflow: hidden;text-align: left;background-color: #f0f8ff;}#sk-container-id-1 div.sk-toggleable__content pre {margin: 0.2em;color: black;border-radius: 0.25em;background-color: #f0f8ff;}#sk-container-id-1 input.sk-toggleable__control:checked~div.sk-toggleable__content {max-height: 200px;max-width: 100%;overflow: auto;}#sk-container-id-1 input.sk-toggleable__control:checked~label.sk-toggleable__label-arrow:before {content: \"▾\";}#sk-container-id-1 div.sk-estimator input.sk-toggleable__control:checked~label.sk-toggleable__label {background-color: #d4ebff;}#sk-container-id-1 div.sk-label input.sk-toggleable__control:checked~label.sk-toggleable__label {background-color: #d4ebff;}#sk-container-id-1 input.sk-hidden--visually {border: 0;clip: rect(1px 1px 1px 1px);clip: rect(1px, 1px, 1px, 1px);height: 1px;margin: -1px;overflow: hidden;padding: 0;position: absolute;width: 1px;}#sk-container-id-1 div.sk-estimator {font-family: monospace;background-color: #f0f8ff;border: 1px dotted black;border-radius: 0.25em;box-sizing: border-box;margin-bottom: 0.5em;}#sk-container-id-1 div.sk-estimator:hover {background-color: #d4ebff;}#sk-container-id-1 div.sk-parallel-item::after {content: \"\";width: 100%;border-bottom: 1px solid gray;flex-grow: 1;}#sk-container-id-1 div.sk-label:hover label.sk-toggleable__label {background-color: #d4ebff;}#sk-container-id-1 div.sk-serial::before {content: \"\";position: absolute;border-left: 1px solid gray;box-sizing: border-box;top: 0;bottom: 0;left: 50%;z-index: 0;}#sk-container-id-1 div.sk-serial {display: flex;flex-direction: column;align-items: center;background-color: white;padding-right: 0.2em;padding-left: 0.2em;position: relative;}#sk-container-id-1 div.sk-item {position: relative;z-index: 1;}#sk-container-id-1 div.sk-parallel {display: flex;align-items: stretch;justify-content: center;background-color: white;position: relative;}#sk-container-id-1 div.sk-item::before, #sk-container-id-1 div.sk-parallel-item::before {content: \"\";position: absolute;border-left: 1px solid gray;box-sizing: border-box;top: 0;bottom: 0;left: 50%;z-index: -1;}#sk-container-id-1 div.sk-parallel-item {display: flex;flex-direction: column;z-index: 1;position: relative;background-color: white;}#sk-container-id-1 div.sk-parallel-item:first-child::after {align-self: flex-end;width: 50%;}#sk-container-id-1 div.sk-parallel-item:last-child::after {align-self: flex-start;width: 50%;}#sk-container-id-1 div.sk-parallel-item:only-child::after {width: 0;}#sk-container-id-1 div.sk-dashed-wrapped {border: 1px dashed gray;margin: 0 0.4em 0.5em 0.4em;box-sizing: border-box;padding-bottom: 0.4em;background-color: white;}#sk-container-id-1 div.sk-label label {font-family: monospace;font-weight: bold;display: inline-block;line-height: 1.2em;}#sk-container-id-1 div.sk-label-container {text-align: center;}#sk-container-id-1 div.sk-container {/* jupyter's `normalize.less` sets `[hidden] { display: none; }` but bootstrap.min.css set `[hidden] { display: none !important; }` so we also need the `!important` here to be able to override the default hidden behavior on the sphinx rendered scikit-learn.org. See: https://github.com/scikit-learn/scikit-learn/issues/21755 */display: inline-block !important;position: relative;}#sk-container-id-1 div.sk-text-repr-fallback {display: none;}</style><div id=\"sk-container-id-1\" class=\"sk-top-container\"><div class=\"sk-text-repr-fallback\"><pre>Pipeline(steps=[(&#x27;scale&#x27;, None), (&#x27;model&#x27;, RandomForestClassifier())])</pre><b>In a Jupyter environment, please rerun this cell to show the HTML representation or trust the notebook. <br />On GitHub, the HTML representation is unable to render, please try loading this page with nbviewer.org.</b></div><div class=\"sk-container\" hidden><div class=\"sk-item sk-dashed-wrapped\"><div class=\"sk-label-container\"><div class=\"sk-label sk-toggleable\"><input class=\"sk-toggleable__control sk-hidden--visually\" id=\"sk-estimator-id-1\" type=\"checkbox\" ><label for=\"sk-estimator-id-1\" class=\"sk-toggleable__label sk-toggleable__label-arrow\">Pipeline</label><div class=\"sk-toggleable__content\"><pre>Pipeline(steps=[(&#x27;scale&#x27;, None), (&#x27;model&#x27;, RandomForestClassifier())])</pre></div></div></div><div class=\"sk-serial\"><div class=\"sk-item\"><div class=\"sk-estimator sk-toggleable\"><input class=\"sk-toggleable__control sk-hidden--visually\" id=\"sk-estimator-id-2\" type=\"checkbox\" ><label for=\"sk-estimator-id-2\" class=\"sk-toggleable__label sk-toggleable__label-arrow\">None</label><div class=\"sk-toggleable__content\"><pre>None</pre></div></div></div><div class=\"sk-item\"><div class=\"sk-estimator sk-toggleable\"><input class=\"sk-toggleable__control sk-hidden--visually\" id=\"sk-estimator-id-3\" type=\"checkbox\" ><label for=\"sk-estimator-id-3\" class=\"sk-toggleable__label sk-toggleable__label-arrow\">RandomForestClassifier</label><div class=\"sk-toggleable__content\"><pre>RandomForestClassifier()</pre></div></div></div></div></div></div></div>"
      ],
      "text/plain": [
       "Pipeline(steps=[('scale', None), ('model', RandomForestClassifier())])"
      ]
     },
     "execution_count": 34,
     "metadata": {},
     "output_type": "execute_result"
    }
   ],
   "source": [
    "model.fit(X_train, y_train.values.ravel())"
   ]
  },
  {
   "cell_type": "code",
   "execution_count": 35,
   "id": "6e15e313",
   "metadata": {
    "execution": {
     "iopub.execute_input": "2025-08-19T19:02:36.364677Z",
     "iopub.status.busy": "2025-08-19T19:02:36.363576Z",
     "iopub.status.idle": "2025-08-19T19:02:37.601624Z",
     "shell.execute_reply": "2025-08-19T19:02:37.598934Z"
    },
    "papermill": {
     "duration": 1.25435,
     "end_time": "2025-08-19T19:02:37.605349",
     "exception": false,
     "start_time": "2025-08-19T19:02:36.350999",
     "status": "completed"
    },
    "tags": []
   },
   "outputs": [
    {
     "data": {
      "text/plain": [
       "0.8580091405640397"
      ]
     },
     "execution_count": 35,
     "metadata": {},
     "output_type": "execute_result"
    }
   ],
   "source": [
    "from fairness_multiverse.universe import predict_w_threshold\n",
    "\n",
    "probs_test = model.predict_proba(X_test)\n",
    "\n",
    "'''\n",
    "Below code returns a boolean array (or binary 0/1 array depending on how it’s used) where each element \n",
    "is True if the probability of class 1 is greater than or equal to the threshold, and False otherwise.\n",
    "'''\n",
    "y_pred_default = predict_w_threshold(probs_test, 0.5)\n",
    "\n",
    "from sklearn.metrics import accuracy_score\n",
    "\n",
    "# Naive prediction\n",
    "accuracy_score(y_true = y_true, y_pred = y_pred_default)"
   ]
  },
  {
   "cell_type": "code",
   "execution_count": 36,
   "id": "6f14067c",
   "metadata": {
    "execution": {
     "iopub.execute_input": "2025-08-19T19:02:37.643960Z",
     "iopub.status.busy": "2025-08-19T19:02:37.642610Z",
     "iopub.status.idle": "2025-08-19T19:02:39.012069Z",
     "shell.execute_reply": "2025-08-19T19:02:39.011098Z"
    },
    "papermill": {
     "duration": 1.385208,
     "end_time": "2025-08-19T19:02:39.013414",
     "exception": false,
     "start_time": "2025-08-19T19:02:37.628206",
     "status": "completed"
    },
    "tags": []
   },
   "outputs": [
    {
     "data": {
      "text/plain": [
       "array([0, 0, 0, ..., 0, 0, 0])"
      ]
     },
     "execution_count": 36,
     "metadata": {},
     "output_type": "execute_result"
    }
   ],
   "source": [
    "model.predict(X_test)"
   ]
  },
  {
   "cell_type": "markdown",
   "id": "3759920c",
   "metadata": {
    "papermill": {
     "duration": 0.011174,
     "end_time": "2025-08-19T19:02:39.036569",
     "exception": false,
     "start_time": "2025-08-19T19:02:39.025395",
     "status": "completed"
    },
    "tags": []
   },
   "source": [
    "# Conformal Prediction"
   ]
  },
  {
   "cell_type": "code",
   "execution_count": 37,
   "id": "14b27f59",
   "metadata": {
    "execution": {
     "iopub.execute_input": "2025-08-19T19:02:39.060457Z",
     "iopub.status.busy": "2025-08-19T19:02:39.059921Z",
     "iopub.status.idle": "2025-08-19T19:02:39.064991Z",
     "shell.execute_reply": "2025-08-19T19:02:39.064196Z"
    },
    "papermill": {
     "duration": 0.018849,
     "end_time": "2025-08-19T19:02:39.066527",
     "exception": false,
     "start_time": "2025-08-19T19:02:39.047678",
     "status": "completed"
    },
    "tags": []
   },
   "outputs": [],
   "source": [
    "# Miscoverage level for conformal prediction (10% allowed error rate => 90% target coverage)\n",
    "alpha = 0.1"
   ]
  },
  {
   "cell_type": "code",
   "execution_count": 38,
   "id": "59102472",
   "metadata": {
    "execution": {
     "iopub.execute_input": "2025-08-19T19:02:39.090257Z",
     "iopub.status.busy": "2025-08-19T19:02:39.089825Z",
     "iopub.status.idle": "2025-08-19T19:02:40.297831Z",
     "shell.execute_reply": "2025-08-19T19:02:40.296495Z"
    },
    "papermill": {
     "duration": 1.22176,
     "end_time": "2025-08-19T19:02:40.299623",
     "exception": false,
     "start_time": "2025-08-19T19:02:39.077863",
     "status": "completed"
    },
    "tags": []
   },
   "outputs": [],
   "source": [
    "probs_calib = model.predict_proba(X_calib)"
   ]
  },
  {
   "cell_type": "code",
   "execution_count": 39,
   "id": "a792d4dd",
   "metadata": {
    "execution": {
     "iopub.execute_input": "2025-08-19T19:02:40.327901Z",
     "iopub.status.busy": "2025-08-19T19:02:40.326948Z",
     "iopub.status.idle": "2025-08-19T19:02:40.336594Z",
     "shell.execute_reply": "2025-08-19T19:02:40.335199Z"
    },
    "papermill": {
     "duration": 0.025254,
     "end_time": "2025-08-19T19:02:40.338142",
     "exception": false,
     "start_time": "2025-08-19T19:02:40.312888",
     "status": "completed"
    },
    "tags": []
   },
   "outputs": [],
   "source": [
    "y_calib = y_calib.values.ravel().astype(int)"
   ]
  },
  {
   "cell_type": "code",
   "execution_count": 40,
   "id": "650fd033",
   "metadata": {
    "execution": {
     "iopub.execute_input": "2025-08-19T19:02:40.366372Z",
     "iopub.status.busy": "2025-08-19T19:02:40.365308Z",
     "iopub.status.idle": "2025-08-19T19:02:40.379098Z",
     "shell.execute_reply": "2025-08-19T19:02:40.377834Z"
    },
    "papermill": {
     "duration": 0.029272,
     "end_time": "2025-08-19T19:02:40.381004",
     "exception": false,
     "start_time": "2025-08-19T19:02:40.351732",
     "status": "completed"
    },
    "tags": []
   },
   "outputs": [],
   "source": [
    "from fairness_multiverse.conformal import compute_nc_scores\n",
    "\n",
    "# Compute nonconformity scores on calibration set (1 - probability of true class)\n",
    "nc_scores = compute_nc_scores(probs_calib, y_calib)"
   ]
  },
  {
   "cell_type": "code",
   "execution_count": 41,
   "id": "28ada44c",
   "metadata": {
    "execution": {
     "iopub.execute_input": "2025-08-19T19:02:40.414919Z",
     "iopub.status.busy": "2025-08-19T19:02:40.411929Z",
     "iopub.status.idle": "2025-08-19T19:02:40.426404Z",
     "shell.execute_reply": "2025-08-19T19:02:40.425600Z"
    },
    "papermill": {
     "duration": 0.029507,
     "end_time": "2025-08-19T19:02:40.428020",
     "exception": false,
     "start_time": "2025-08-19T19:02:40.398513",
     "status": "completed"
    },
    "tags": []
   },
   "outputs": [],
   "source": [
    "from fairness_multiverse.conformal import find_threshold\n",
    "\n",
    "# Find conformal threshold q_hat for the given alpha (split conformal method)\n",
    "q_hat = find_threshold(nc_scores, alpha)"
   ]
  },
  {
   "cell_type": "code",
   "execution_count": 42,
   "id": "df56469e",
   "metadata": {
    "execution": {
     "iopub.execute_input": "2025-08-19T19:02:40.457057Z",
     "iopub.status.busy": "2025-08-19T19:02:40.455818Z",
     "iopub.status.idle": "2025-08-19T19:02:40.464180Z",
     "shell.execute_reply": "2025-08-19T19:02:40.463313Z"
    },
    "papermill": {
     "duration": 0.022405,
     "end_time": "2025-08-19T19:02:40.465523",
     "exception": false,
     "start_time": "2025-08-19T19:02:40.443118",
     "status": "completed"
    },
    "tags": []
   },
   "outputs": [
    {
     "data": {
      "text/plain": [
       "0.6699999999999999"
      ]
     },
     "execution_count": 42,
     "metadata": {},
     "output_type": "execute_result"
    }
   ],
   "source": [
    "q_hat"
   ]
  },
  {
   "cell_type": "code",
   "execution_count": 43,
   "id": "aa1f5faa",
   "metadata": {
    "execution": {
     "iopub.execute_input": "2025-08-19T19:02:40.497544Z",
     "iopub.status.busy": "2025-08-19T19:02:40.495053Z",
     "iopub.status.idle": "2025-08-19T19:02:42.273718Z",
     "shell.execute_reply": "2025-08-19T19:02:42.272167Z"
    },
    "papermill": {
     "duration": 1.795837,
     "end_time": "2025-08-19T19:02:42.275618",
     "exception": false,
     "start_time": "2025-08-19T19:02:40.479781",
     "status": "completed"
    },
    "tags": []
   },
   "outputs": [],
   "source": [
    "from fairness_multiverse.conformal import predict_conformal_sets\n",
    "\n",
    "# Generate prediction sets for each test example\n",
    "pred_sets = predict_conformal_sets(model, X_test, q_hat)"
   ]
  },
  {
   "cell_type": "code",
   "execution_count": 44,
   "id": "97f67a6b",
   "metadata": {
    "execution": {
     "iopub.execute_input": "2025-08-19T19:02:42.317591Z",
     "iopub.status.busy": "2025-08-19T19:02:42.316190Z",
     "iopub.status.idle": "2025-08-19T19:02:42.327186Z",
     "shell.execute_reply": "2025-08-19T19:02:42.326088Z"
    },
    "papermill": {
     "duration": 0.028748,
     "end_time": "2025-08-19T19:02:42.328927",
     "exception": false,
     "start_time": "2025-08-19T19:02:42.300179",
     "status": "completed"
    },
    "tags": []
   },
   "outputs": [],
   "source": [
    "y_true = y_true.squeeze()"
   ]
  },
  {
   "cell_type": "code",
   "execution_count": 45,
   "id": "e700e9a7",
   "metadata": {
    "execution": {
     "iopub.execute_input": "2025-08-19T19:02:42.359260Z",
     "iopub.status.busy": "2025-08-19T19:02:42.358144Z",
     "iopub.status.idle": "2025-08-19T19:02:42.859845Z",
     "shell.execute_reply": "2025-08-19T19:02:42.858900Z"
    },
    "papermill": {
     "duration": 0.516591,
     "end_time": "2025-08-19T19:02:42.861423",
     "exception": false,
     "start_time": "2025-08-19T19:02:42.344832",
     "status": "completed"
    },
    "tags": []
   },
   "outputs": [],
   "source": [
    "from fairness_multiverse.conformal import evaluate_sets\n",
    "\n",
    "# Evaluate coverage and average set size on test data\n",
    "metrics = evaluate_sets(pred_sets, y_true)"
   ]
  },
  {
   "cell_type": "markdown",
   "id": "efbacec0",
   "metadata": {
    "papermill": {
     "duration": 0.011965,
     "end_time": "2025-08-19T19:02:42.885506",
     "exception": false,
     "start_time": "2025-08-19T19:02:42.873541",
     "status": "completed"
    },
    "tags": []
   },
   "source": [
    "# CP Metrics"
   ]
  },
  {
   "cell_type": "code",
   "execution_count": 46,
   "id": "9de55fb1",
   "metadata": {
    "execution": {
     "iopub.execute_input": "2025-08-19T19:02:42.916259Z",
     "iopub.status.busy": "2025-08-19T19:02:42.910550Z",
     "iopub.status.idle": "2025-08-19T19:02:42.931719Z",
     "shell.execute_reply": "2025-08-19T19:02:42.930432Z"
    },
    "papermill": {
     "duration": 0.038165,
     "end_time": "2025-08-19T19:02:42.935242",
     "exception": false,
     "start_time": "2025-08-19T19:02:42.897077",
     "status": "completed"
    },
    "tags": []
   },
   "outputs": [
    {
     "data": {
      "text/plain": [
       "{'coverage': 0.9158622227176457, 'avg_size': 1.1783190279790436}"
      ]
     },
     "execution_count": 46,
     "metadata": {},
     "output_type": "execute_result"
    }
   ],
   "source": [
    "metrics"
   ]
  },
  {
   "cell_type": "code",
   "execution_count": 47,
   "id": "64c340a1",
   "metadata": {
    "execution": {
     "iopub.execute_input": "2025-08-19T19:02:42.968152Z",
     "iopub.status.busy": "2025-08-19T19:02:42.966780Z",
     "iopub.status.idle": "2025-08-19T19:02:42.977301Z",
     "shell.execute_reply": "2025-08-19T19:02:42.975998Z"
    },
    "papermill": {
     "duration": 0.026534,
     "end_time": "2025-08-19T19:02:42.978872",
     "exception": false,
     "start_time": "2025-08-19T19:02:42.952338",
     "status": "completed"
    },
    "tags": []
   },
   "outputs": [],
   "source": [
    "example_universe = universe.copy()\n",
    "universe_training_year = example_universe.get(\"training_year\")\n",
    "universe_training_size = example_universe.get(\"training_size\")\n",
    "universe_scale = example_universe.get(\"scale\")\n",
    "universe_model = example_universe.get(\"model\")\n",
    "universe_exclude_features = example_universe.get(\"exclude_features\")\n",
    "universe_exclude_subgroups = example_universe.get(\"exclude_subgroups\")"
   ]
  },
  {
   "cell_type": "code",
   "execution_count": 48,
   "id": "dbb53cb4",
   "metadata": {
    "execution": {
     "iopub.execute_input": "2025-08-19T19:02:43.018218Z",
     "iopub.status.busy": "2025-08-19T19:02:43.015301Z",
     "iopub.status.idle": "2025-08-19T19:02:43.035702Z",
     "shell.execute_reply": "2025-08-19T19:02:43.034167Z"
    },
    "papermill": {
     "duration": 0.040339,
     "end_time": "2025-08-19T19:02:43.038419",
     "exception": false,
     "start_time": "2025-08-19T19:02:42.998080",
     "status": "completed"
    },
    "tags": []
   },
   "outputs": [],
   "source": [
    "cp_metrics_dict = {\n",
    "    \"universe_id\": [universe_id],\n",
    "    \"universe_training_year\": [universe_training_year],\n",
    "    \"universe_training_size\": [universe_training_size],\n",
    "    \"universe_scale\": [universe_scale],\n",
    "    \"universe_model\": [universe_model],\n",
    "    \"universe_exclude_features\": [universe_exclude_features],\n",
    "    \"universe_exclude_subgroups\": [universe_exclude_subgroups],\n",
    "    \"q_hat\": [q_hat],\n",
    "    \"coverage\": [metrics[\"coverage\"]],\n",
    "    \"avg_size\": [metrics[\"avg_size\"]],\n",
    "}"
   ]
  },
  {
   "cell_type": "code",
   "execution_count": 49,
   "id": "0d70d4b2",
   "metadata": {
    "execution": {
     "iopub.execute_input": "2025-08-19T19:02:43.071730Z",
     "iopub.status.busy": "2025-08-19T19:02:43.070867Z",
     "iopub.status.idle": "2025-08-19T19:02:43.077032Z",
     "shell.execute_reply": "2025-08-19T19:02:43.076250Z"
    },
    "papermill": {
     "duration": 0.023431,
     "end_time": "2025-08-19T19:02:43.079746",
     "exception": false,
     "start_time": "2025-08-19T19:02:43.056315",
     "status": "completed"
    },
    "tags": []
   },
   "outputs": [],
   "source": [
    "cp_metrics_df = pd.DataFrame(cp_metrics_dict)"
   ]
  },
  {
   "cell_type": "code",
   "execution_count": 50,
   "id": "b494403c",
   "metadata": {
    "execution": {
     "iopub.execute_input": "2025-08-19T19:02:43.106804Z",
     "iopub.status.busy": "2025-08-19T19:02:43.106169Z",
     "iopub.status.idle": "2025-08-19T19:02:43.127165Z",
     "shell.execute_reply": "2025-08-19T19:02:43.126201Z"
    },
    "papermill": {
     "duration": 0.035519,
     "end_time": "2025-08-19T19:02:43.128808",
     "exception": false,
     "start_time": "2025-08-19T19:02:43.093289",
     "status": "completed"
    },
    "tags": []
   },
   "outputs": [
    {
     "data": {
      "text/html": [
       "<div>\n",
       "<style scoped>\n",
       "    .dataframe tbody tr th:only-of-type {\n",
       "        vertical-align: middle;\n",
       "    }\n",
       "\n",
       "    .dataframe tbody tr th {\n",
       "        vertical-align: top;\n",
       "    }\n",
       "\n",
       "    .dataframe thead th {\n",
       "        text-align: right;\n",
       "    }\n",
       "</style>\n",
       "<table border=\"1\" class=\"dataframe\">\n",
       "  <thead>\n",
       "    <tr style=\"text-align: right;\">\n",
       "      <th></th>\n",
       "      <th>universe_id</th>\n",
       "      <th>universe_training_year</th>\n",
       "      <th>universe_training_size</th>\n",
       "      <th>universe_scale</th>\n",
       "      <th>universe_model</th>\n",
       "      <th>universe_exclude_features</th>\n",
       "      <th>universe_exclude_subgroups</th>\n",
       "      <th>q_hat</th>\n",
       "      <th>coverage</th>\n",
       "      <th>avg_size</th>\n",
       "    </tr>\n",
       "  </thead>\n",
       "  <tbody>\n",
       "    <tr>\n",
       "      <th>0</th>\n",
       "      <td>e88aa3daea96c6e1a6f9b6a65e8b8c8d</td>\n",
       "      <td>2012_14</td>\n",
       "      <td>1k</td>\n",
       "      <td>do-not-scale</td>\n",
       "      <td>rf</td>\n",
       "      <td>sex</td>\n",
       "      <td>drop-non-german</td>\n",
       "      <td>0.67</td>\n",
       "      <td>0.915862</td>\n",
       "      <td>1.178319</td>\n",
       "    </tr>\n",
       "  </tbody>\n",
       "</table>\n",
       "</div>"
      ],
      "text/plain": [
       "                        universe_id universe_training_year  \\\n",
       "0  e88aa3daea96c6e1a6f9b6a65e8b8c8d                2012_14   \n",
       "\n",
       "  universe_training_size universe_scale universe_model  \\\n",
       "0                     1k   do-not-scale             rf   \n",
       "\n",
       "  universe_exclude_features universe_exclude_subgroups  q_hat  coverage  \\\n",
       "0                       sex            drop-non-german   0.67  0.915862   \n",
       "\n",
       "   avg_size  \n",
       "0  1.178319  "
      ]
     },
     "execution_count": 50,
     "metadata": {},
     "output_type": "execute_result"
    }
   ],
   "source": [
    "cp_metrics_df"
   ]
  },
  {
   "cell_type": "markdown",
   "id": "ed608b0b",
   "metadata": {
    "papermill": {
     "duration": 0.033975,
     "end_time": "2025-08-19T19:02:43.176570",
     "exception": false,
     "start_time": "2025-08-19T19:02:43.142595",
     "status": "completed"
    },
    "tags": []
   },
   "source": [
    "Conditional coverage & looking at subgroups"
   ]
  },
  {
   "cell_type": "code",
   "execution_count": 51,
   "id": "8968c366",
   "metadata": {
    "execution": {
     "iopub.execute_input": "2025-08-19T19:02:43.205433Z",
     "iopub.status.busy": "2025-08-19T19:02:43.204941Z",
     "iopub.status.idle": "2025-08-19T19:02:43.486514Z",
     "shell.execute_reply": "2025-08-19T19:02:43.485623Z"
    },
    "papermill": {
     "duration": 0.297002,
     "end_time": "2025-08-19T19:02:43.488268",
     "exception": false,
     "start_time": "2025-08-19T19:02:43.191266",
     "status": "completed"
    },
    "tags": []
   },
   "outputs": [],
   "source": [
    "from fairness_multiverse.conformal import build_cp_groups\n",
    "\n",
    "cp_groups_df = build_cp_groups(pred_sets, y_true, X_test.index, org_test)"
   ]
  },
  {
   "cell_type": "code",
   "execution_count": 52,
   "id": "292ddabf",
   "metadata": {
    "execution": {
     "iopub.execute_input": "2025-08-19T19:02:43.519609Z",
     "iopub.status.busy": "2025-08-19T19:02:43.518691Z",
     "iopub.status.idle": "2025-08-19T19:02:44.390977Z",
     "shell.execute_reply": "2025-08-19T19:02:44.389821Z"
    },
    "papermill": {
     "duration": 0.88738,
     "end_time": "2025-08-19T19:02:44.392792",
     "exception": false,
     "start_time": "2025-08-19T19:02:43.505412",
     "status": "completed"
    },
    "tags": []
   },
   "outputs": [],
   "source": [
    "# Define covered = 1 if true_label is in the predicted set\n",
    "cp_groups_df['covered'] = cp_groups_df.apply(\n",
    "    lambda r: int(r['true_label'] in r['pred_set']),\n",
    "    axis=1\n",
    ")"
   ]
  },
  {
   "cell_type": "code",
   "execution_count": 53,
   "id": "3a261692",
   "metadata": {
    "execution": {
     "iopub.execute_input": "2025-08-19T19:02:44.423499Z",
     "iopub.status.busy": "2025-08-19T19:02:44.422971Z",
     "iopub.status.idle": "2025-08-19T19:02:44.446346Z",
     "shell.execute_reply": "2025-08-19T19:02:44.445412Z"
    },
    "papermill": {
     "duration": 0.039282,
     "end_time": "2025-08-19T19:02:44.447831",
     "exception": false,
     "start_time": "2025-08-19T19:02:44.408549",
     "status": "completed"
    },
    "tags": []
   },
   "outputs": [],
   "source": [
    "subgroups = ['frau1','nongerman','nongerman_male','nongerman_female']\n",
    "\n",
    "# Conditional coverage for subgroup==1\n",
    "cond_coverage = {\n",
    "    g: cp_groups_df.loc[cp_groups_df[g]==1, 'covered'].mean()\n",
    "    for g in subgroups\n",
    "}"
   ]
  },
  {
   "cell_type": "code",
   "execution_count": 54,
   "id": "894fd600",
   "metadata": {
    "execution": {
     "iopub.execute_input": "2025-08-19T19:02:44.477604Z",
     "iopub.status.busy": "2025-08-19T19:02:44.477207Z",
     "iopub.status.idle": "2025-08-19T19:02:44.485588Z",
     "shell.execute_reply": "2025-08-19T19:02:44.484461Z"
    },
    "papermill": {
     "duration": 0.023271,
     "end_time": "2025-08-19T19:02:44.487172",
     "exception": false,
     "start_time": "2025-08-19T19:02:44.463901",
     "status": "completed"
    },
    "tags": []
   },
   "outputs": [
    {
     "data": {
      "text/plain": [
       "{'frau1': 0.9170238576627577,\n",
       " 'nongerman': 0.9121428170437321,\n",
       " 'nongerman_male': 0.9238043771953526,\n",
       " 'nongerman_female': 0.8928464977645305}"
      ]
     },
     "execution_count": 54,
     "metadata": {},
     "output_type": "execute_result"
    }
   ],
   "source": [
    "cond_coverage"
   ]
  },
  {
   "cell_type": "code",
   "execution_count": 55,
   "id": "942895c7",
   "metadata": {
    "execution": {
     "iopub.execute_input": "2025-08-19T19:02:44.514694Z",
     "iopub.status.busy": "2025-08-19T19:02:44.513987Z",
     "iopub.status.idle": "2025-08-19T19:02:44.521729Z",
     "shell.execute_reply": "2025-08-19T19:02:44.520897Z"
    },
    "papermill": {
     "duration": 0.023688,
     "end_time": "2025-08-19T19:02:44.524075",
     "exception": false,
     "start_time": "2025-08-19T19:02:44.500387",
     "status": "completed"
    },
    "tags": []
   },
   "outputs": [],
   "source": [
    "for subgroup, cov in cond_coverage.items():\n",
    "    cp_metrics_df[f\"cov_{subgroup}\"] = cov"
   ]
  },
  {
   "cell_type": "code",
   "execution_count": 56,
   "id": "3970120f",
   "metadata": {
    "execution": {
     "iopub.execute_input": "2025-08-19T19:02:44.581343Z",
     "iopub.status.busy": "2025-08-19T19:02:44.580660Z",
     "iopub.status.idle": "2025-08-19T19:02:44.600128Z",
     "shell.execute_reply": "2025-08-19T19:02:44.598959Z"
    },
    "papermill": {
     "duration": 0.049478,
     "end_time": "2025-08-19T19:02:44.601876",
     "exception": false,
     "start_time": "2025-08-19T19:02:44.552398",
     "status": "completed"
    },
    "tags": []
   },
   "outputs": [
    {
     "data": {
      "text/html": [
       "<div>\n",
       "<style scoped>\n",
       "    .dataframe tbody tr th:only-of-type {\n",
       "        vertical-align: middle;\n",
       "    }\n",
       "\n",
       "    .dataframe tbody tr th {\n",
       "        vertical-align: top;\n",
       "    }\n",
       "\n",
       "    .dataframe thead th {\n",
       "        text-align: right;\n",
       "    }\n",
       "</style>\n",
       "<table border=\"1\" class=\"dataframe\">\n",
       "  <thead>\n",
       "    <tr style=\"text-align: right;\">\n",
       "      <th></th>\n",
       "      <th>universe_id</th>\n",
       "      <th>universe_training_year</th>\n",
       "      <th>universe_training_size</th>\n",
       "      <th>universe_scale</th>\n",
       "      <th>universe_model</th>\n",
       "      <th>universe_exclude_features</th>\n",
       "      <th>universe_exclude_subgroups</th>\n",
       "      <th>q_hat</th>\n",
       "      <th>coverage</th>\n",
       "      <th>avg_size</th>\n",
       "      <th>cov_frau1</th>\n",
       "      <th>cov_nongerman</th>\n",
       "      <th>cov_nongerman_male</th>\n",
       "      <th>cov_nongerman_female</th>\n",
       "    </tr>\n",
       "  </thead>\n",
       "  <tbody>\n",
       "    <tr>\n",
       "      <th>0</th>\n",
       "      <td>e88aa3daea96c6e1a6f9b6a65e8b8c8d</td>\n",
       "      <td>2012_14</td>\n",
       "      <td>1k</td>\n",
       "      <td>do-not-scale</td>\n",
       "      <td>rf</td>\n",
       "      <td>sex</td>\n",
       "      <td>drop-non-german</td>\n",
       "      <td>0.67</td>\n",
       "      <td>0.915862</td>\n",
       "      <td>1.178319</td>\n",
       "      <td>0.917024</td>\n",
       "      <td>0.912143</td>\n",
       "      <td>0.923804</td>\n",
       "      <td>0.892846</td>\n",
       "    </tr>\n",
       "  </tbody>\n",
       "</table>\n",
       "</div>"
      ],
      "text/plain": [
       "                        universe_id universe_training_year  \\\n",
       "0  e88aa3daea96c6e1a6f9b6a65e8b8c8d                2012_14   \n",
       "\n",
       "  universe_training_size universe_scale universe_model  \\\n",
       "0                     1k   do-not-scale             rf   \n",
       "\n",
       "  universe_exclude_features universe_exclude_subgroups  q_hat  coverage  \\\n",
       "0                       sex            drop-non-german   0.67  0.915862   \n",
       "\n",
       "   avg_size  cov_frau1  cov_nongerman  cov_nongerman_male  \\\n",
       "0  1.178319   0.917024       0.912143            0.923804   \n",
       "\n",
       "   cov_nongerman_female  \n",
       "0              0.892846  "
      ]
     },
     "execution_count": 56,
     "metadata": {},
     "output_type": "execute_result"
    }
   ],
   "source": [
    "cp_metrics_df"
   ]
  },
  {
   "cell_type": "markdown",
   "id": "3fc519cc",
   "metadata": {
    "papermill": {
     "duration": 0.02377,
     "end_time": "2025-08-19T19:02:44.640732",
     "exception": false,
     "start_time": "2025-08-19T19:02:44.616962",
     "status": "completed"
    },
    "tags": []
   },
   "source": [
    "# (Fairness) Metrics"
   ]
  },
  {
   "cell_type": "code",
   "execution_count": 57,
   "id": "a2e5e155",
   "metadata": {
    "execution": {
     "iopub.execute_input": "2025-08-19T19:02:44.687749Z",
     "iopub.status.busy": "2025-08-19T19:02:44.683602Z",
     "iopub.status.idle": "2025-08-19T19:02:44.717953Z",
     "shell.execute_reply": "2025-08-19T19:02:44.716992Z"
    },
    "papermill": {
     "duration": 0.063152,
     "end_time": "2025-08-19T19:02:44.720780",
     "exception": false,
     "start_time": "2025-08-19T19:02:44.657628",
     "status": "completed"
    },
    "tags": []
   },
   "outputs": [],
   "source": [
    "colname_to_bin = \"maxdeutsch1\"\n",
    "majority_value = org_train[colname_to_bin].mode()[0]\n",
    "\n",
    "org_test[\"majmin\"] = np.where(org_test[colname_to_bin] == majority_value, \"majority\", \"minority\")"
   ]
  },
  {
   "cell_type": "code",
   "execution_count": 58,
   "id": "17e3e4d5",
   "metadata": {
    "execution": {
     "iopub.execute_input": "2025-08-19T19:02:44.762648Z",
     "iopub.status.busy": "2025-08-19T19:02:44.761371Z",
     "iopub.status.idle": "2025-08-19T19:02:46.581007Z",
     "shell.execute_reply": "2025-08-19T19:02:46.579619Z"
    },
    "papermill": {
     "duration": 1.838115,
     "end_time": "2025-08-19T19:02:46.583937",
     "exception": false,
     "start_time": "2025-08-19T19:02:44.745822",
     "status": "completed"
    },
    "tags": []
   },
   "outputs": [],
   "source": [
    "example_universe = universe.copy()\n",
    "example_universe[\"cutoff\"] = example_universe[\"cutoff\"][0]\n",
    "example_universe[\"eval_fairness_grouping\"] = example_universe[\"eval_fairness_grouping\"][0]\n",
    "fairness_dict, metric_frame = universe_analysis.compute_metrics(\n",
    "    example_universe,\n",
    "    y_pred_prob=probs_test,\n",
    "    y_test=y_true,\n",
    "    org_test=org_test,\n",
    ")"
   ]
  },
  {
   "cell_type": "markdown",
   "id": "1fb7a0e9",
   "metadata": {
    "papermill": {
     "duration": 0.013956,
     "end_time": "2025-08-19T19:02:46.625966",
     "exception": false,
     "start_time": "2025-08-19T19:02:46.612010",
     "status": "completed"
    },
    "tags": []
   },
   "source": [
    "# Overall"
   ]
  },
  {
   "cell_type": "markdown",
   "id": "be1784b1",
   "metadata": {
    "papermill": {
     "duration": 0.01315,
     "end_time": "2025-08-19T19:02:46.651583",
     "exception": false,
     "start_time": "2025-08-19T19:02:46.638433",
     "status": "completed"
    },
    "tags": []
   },
   "source": [
    "Main fairness target: Equalized Odds. Seems to be a better fit than equal opportunity, since we're not only interested in Y = 1. Seems to be a better fit than demographic parity, since we also care about accuracy, not just equal distribution of preds.\n",
    "\n",
    "Pick column for computation of fairness metrics\n",
    "\n",
    "Performance\n",
    "Overall performance measures, most interesting in relation to the measures split by group below"
   ]
  },
  {
   "cell_type": "code",
   "execution_count": 59,
   "id": "b7672bee",
   "metadata": {
    "execution": {
     "iopub.execute_input": "2025-08-19T19:02:46.678161Z",
     "iopub.status.busy": "2025-08-19T19:02:46.677812Z",
     "iopub.status.idle": "2025-08-19T19:02:46.685981Z",
     "shell.execute_reply": "2025-08-19T19:02:46.685288Z"
    },
    "papermill": {
     "duration": 0.023944,
     "end_time": "2025-08-19T19:02:46.687892",
     "exception": false,
     "start_time": "2025-08-19T19:02:46.663948",
     "status": "completed"
    },
    "tags": []
   },
   "outputs": [
    {
     "data": {
      "text/plain": [
       "accuracy                   0.219117\n",
       "balanced accuracy          0.544136\n",
       "f1                         0.243807\n",
       "precision                  0.139195\n",
       "false positive rate        0.893046\n",
       "false negative rate        0.018683\n",
       "selection rate             0.904370\n",
       "count                  89710.000000\n",
       "dtype: float64"
      ]
     },
     "execution_count": 59,
     "metadata": {},
     "output_type": "execute_result"
    }
   ],
   "source": [
    "metric_frame.overall"
   ]
  },
  {
   "cell_type": "markdown",
   "id": "d93333c9",
   "metadata": {
    "papermill": {
     "duration": 0.019286,
     "end_time": "2025-08-19T19:02:46.724117",
     "exception": false,
     "start_time": "2025-08-19T19:02:46.704831",
     "status": "completed"
    },
    "tags": []
   },
   "source": [
    "By Group"
   ]
  },
  {
   "cell_type": "code",
   "execution_count": 60,
   "id": "52256966",
   "metadata": {
    "execution": {
     "iopub.execute_input": "2025-08-19T19:02:46.752003Z",
     "iopub.status.busy": "2025-08-19T19:02:46.751577Z",
     "iopub.status.idle": "2025-08-19T19:02:46.765831Z",
     "shell.execute_reply": "2025-08-19T19:02:46.765090Z"
    },
    "papermill": {
     "duration": 0.029486,
     "end_time": "2025-08-19T19:02:46.767318",
     "exception": false,
     "start_time": "2025-08-19T19:02:46.737832",
     "status": "completed"
    },
    "tags": []
   },
   "outputs": [
    {
     "data": {
      "text/html": [
       "<div>\n",
       "<style scoped>\n",
       "    .dataframe tbody tr th:only-of-type {\n",
       "        vertical-align: middle;\n",
       "    }\n",
       "\n",
       "    .dataframe tbody tr th {\n",
       "        vertical-align: top;\n",
       "    }\n",
       "\n",
       "    .dataframe thead th {\n",
       "        text-align: right;\n",
       "    }\n",
       "</style>\n",
       "<table border=\"1\" class=\"dataframe\">\n",
       "  <thead>\n",
       "    <tr style=\"text-align: right;\">\n",
       "      <th></th>\n",
       "      <th>accuracy</th>\n",
       "      <th>balanced accuracy</th>\n",
       "      <th>f1</th>\n",
       "      <th>precision</th>\n",
       "      <th>false positive rate</th>\n",
       "      <th>false negative rate</th>\n",
       "      <th>selection rate</th>\n",
       "      <th>count</th>\n",
       "    </tr>\n",
       "    <tr>\n",
       "      <th>majmin</th>\n",
       "      <th></th>\n",
       "      <th></th>\n",
       "      <th></th>\n",
       "      <th></th>\n",
       "      <th></th>\n",
       "      <th></th>\n",
       "      <th></th>\n",
       "      <th></th>\n",
       "    </tr>\n",
       "  </thead>\n",
       "  <tbody>\n",
       "    <tr>\n",
       "      <th>majority</th>\n",
       "      <td>0.230678</td>\n",
       "      <td>0.548841</td>\n",
       "      <td>0.252108</td>\n",
       "      <td>0.144633</td>\n",
       "      <td>0.883608</td>\n",
       "      <td>0.018709</td>\n",
       "      <td>0.896516</td>\n",
       "      <td>69170.0</td>\n",
       "    </tr>\n",
       "    <tr>\n",
       "      <th>minority</th>\n",
       "      <td>0.180185</td>\n",
       "      <td>0.528597</td>\n",
       "      <td>0.216317</td>\n",
       "      <td>0.121554</td>\n",
       "      <td>0.924224</td>\n",
       "      <td>0.018581</td>\n",
       "      <td>0.930818</td>\n",
       "      <td>20540.0</td>\n",
       "    </tr>\n",
       "  </tbody>\n",
       "</table>\n",
       "</div>"
      ],
      "text/plain": [
       "          accuracy  balanced accuracy        f1  precision  \\\n",
       "majmin                                                       \n",
       "majority  0.230678           0.548841  0.252108   0.144633   \n",
       "minority  0.180185           0.528597  0.216317   0.121554   \n",
       "\n",
       "          false positive rate  false negative rate  selection rate    count  \n",
       "majmin                                                                       \n",
       "majority             0.883608             0.018709        0.896516  69170.0  \n",
       "minority             0.924224             0.018581        0.930818  20540.0  "
      ]
     },
     "execution_count": 60,
     "metadata": {},
     "output_type": "execute_result"
    }
   ],
   "source": [
    "metric_frame.by_group"
   ]
  },
  {
   "cell_type": "code",
   "execution_count": 61,
   "id": "6e6c20ae",
   "metadata": {
    "execution": {
     "iopub.execute_input": "2025-08-19T19:02:46.797082Z",
     "iopub.status.busy": "2025-08-19T19:02:46.796664Z",
     "iopub.status.idle": "2025-08-19T19:02:48.595003Z",
     "shell.execute_reply": "2025-08-19T19:02:48.591505Z"
    },
    "papermill": {
     "duration": 1.813701,
     "end_time": "2025-08-19T19:02:48.596386",
     "exception": false,
     "start_time": "2025-08-19T19:02:46.782685",
     "status": "completed"
    },
    "tags": []
   },
   "outputs": [
    {
     "data": {
      "text/plain": [
       "array([[<Axes: title={'center': 'accuracy'}, xlabel='majmin'>,\n",
       "        <Axes: title={'center': 'balanced accuracy'}, xlabel='majmin'>,\n",
       "        <Axes: title={'center': 'f1'}, xlabel='majmin'>],\n",
       "       [<Axes: title={'center': 'precision'}, xlabel='majmin'>,\n",
       "        <Axes: title={'center': 'false positive rate'}, xlabel='majmin'>,\n",
       "        <Axes: title={'center': 'false negative rate'}, xlabel='majmin'>],\n",
       "       [<Axes: title={'center': 'selection rate'}, xlabel='majmin'>,\n",
       "        <Axes: title={'center': 'count'}, xlabel='majmin'>,\n",
       "        <Axes: xlabel='majmin'>]], dtype=object)"
      ]
     },
     "execution_count": 61,
     "metadata": {},
     "output_type": "execute_result"
    },
    {
     "data": {
      "image/png": "[encoded data removed]",
      "text/plain": [
       "<Figure size 1200x800 with 9 Axes>"
      ]
     },
     "metadata": {},
     "output_type": "display_data"
    }
   ],
   "source": [
    "# In a graphic\n",
    "metric_frame.by_group.plot.bar(\n",
    "    subplots=True,\n",
    "    layout=[3, 3],\n",
    "    legend=False,\n",
    "    figsize=[12, 8],\n",
    "    title=\"Show all metrics\",\n",
    ")"
   ]
  },
  {
   "cell_type": "markdown",
   "id": "b2e433ae",
   "metadata": {
    "papermill": {
     "duration": 0.01375,
     "end_time": "2025-08-19T19:02:48.627138",
     "exception": false,
     "start_time": "2025-08-19T19:02:48.613388",
     "status": "completed"
    },
    "tags": []
   },
   "source": [
    "# Final Output"
   ]
  },
  {
   "cell_type": "code",
   "execution_count": 62,
   "id": "3871301e",
   "metadata": {
    "execution": {
     "iopub.execute_input": "2025-08-19T19:02:48.659966Z",
     "iopub.status.busy": "2025-08-19T19:02:48.658749Z",
     "iopub.status.idle": "2025-08-19T19:02:48.668543Z",
     "shell.execute_reply": "2025-08-19T19:02:48.667836Z"
    },
    "papermill": {
     "duration": 0.02842,
     "end_time": "2025-08-19T19:02:48.669683",
     "exception": false,
     "start_time": "2025-08-19T19:02:48.641263",
     "status": "completed"
    },
    "tags": []
   },
   "outputs": [
    {
     "data": {
      "text/plain": [
       "4"
      ]
     },
     "execution_count": 62,
     "metadata": {},
     "output_type": "execute_result"
    }
   ],
   "source": [
    "sub_universes = universe_analysis.generate_sub_universes()\n",
    "len(sub_universes)"
   ]
  },
  {
   "cell_type": "code",
   "execution_count": 63,
   "id": "d9cfdaca",
   "metadata": {
    "execution": {
     "iopub.execute_input": "2025-08-19T19:02:48.703461Z",
     "iopub.status.busy": "2025-08-19T19:02:48.702379Z",
     "iopub.status.idle": "2025-08-19T19:02:48.709124Z",
     "shell.execute_reply": "2025-08-19T19:02:48.708225Z"
    },
    "papermill": {
     "duration": 0.02402,
     "end_time": "2025-08-19T19:02:48.710345",
     "exception": false,
     "start_time": "2025-08-19T19:02:48.686325",
     "status": "completed"
    },
    "tags": []
   },
   "outputs": [],
   "source": [
    "def filter_sub_universe_data(sub_universe, org_test):\n",
    "    # Keep all rows — no filtering\n",
    "    keep_rows_mask = np.ones(org_test.shape[0], dtype=bool)\n",
    "\n",
    "    print(f\"[INFO] Keeping all rows: {keep_rows_mask.sum()} rows retained.\")\n",
    "    return keep_rows_mask"
   ]
  },
  {
   "cell_type": "code",
   "execution_count": 64,
   "id": "2bc31ac1",
   "metadata": {
    "execution": {
     "iopub.execute_input": "2025-08-19T19:02:48.744041Z",
     "iopub.status.busy": "2025-08-19T19:02:48.742714Z",
     "iopub.status.idle": "2025-08-19T19:02:55.637948Z",
     "shell.execute_reply": "2025-08-19T19:02:55.636784Z"
    },
    "papermill": {
     "duration": 6.912506,
     "end_time": "2025-08-19T19:02:55.639311",
     "exception": false,
     "start_time": "2025-08-19T19:02:48.726805",
     "status": "completed"
    },
    "tags": []
   },
   "outputs": [
    {
     "name": "stdout",
     "output_type": "stream",
     "text": [
      "Stopping execution_time clock.\n",
      "[INFO] Keeping all rows: 89710 rows retained.\n"
     ]
    },
    {
     "name": "stdout",
     "output_type": "stream",
     "text": [
      "[INFO] Keeping all rows: 89710 rows retained.\n"
     ]
    },
    {
     "name": "stdout",
     "output_type": "stream",
     "text": [
      "[INFO] Keeping all rows: 89710 rows retained.\n"
     ]
    },
    {
     "name": "stdout",
     "output_type": "stream",
     "text": [
      "[INFO] Keeping all rows: 89710 rows retained.\n"
     ]
    },
    {
     "data": {
      "text/html": [
       "<div>\n",
       "<style scoped>\n",
       "    .dataframe tbody tr th:only-of-type {\n",
       "        vertical-align: middle;\n",
       "    }\n",
       "\n",
       "    .dataframe tbody tr th {\n",
       "        vertical-align: top;\n",
       "    }\n",
       "\n",
       "    .dataframe thead th {\n",
       "        text-align: right;\n",
       "    }\n",
       "</style>\n",
       "<table border=\"1\" class=\"dataframe\">\n",
       "  <thead>\n",
       "    <tr style=\"text-align: right;\">\n",
       "      <th></th>\n",
       "      <th>run_no</th>\n",
       "      <th>universe_id</th>\n",
       "      <th>universe_settings</th>\n",
       "      <th>execution_time</th>\n",
       "      <th>test_size_n</th>\n",
       "      <th>test_size_frac</th>\n",
       "      <th>fair_main_equalized_odds_difference</th>\n",
       "      <th>fair_main_equalized_odds_ratio</th>\n",
       "      <th>fair_main_demographic_parity_difference</th>\n",
       "      <th>fair_main_demographic_parity_ratio</th>\n",
       "      <th>...</th>\n",
       "      <th>perf_grp_precision_0</th>\n",
       "      <th>perf_grp_precision_1</th>\n",
       "      <th>perf_grp_false positive rate_0</th>\n",
       "      <th>perf_grp_false positive rate_1</th>\n",
       "      <th>perf_grp_false negative rate_0</th>\n",
       "      <th>perf_grp_false negative rate_1</th>\n",
       "      <th>perf_grp_selection rate_0</th>\n",
       "      <th>perf_grp_selection rate_1</th>\n",
       "      <th>perf_grp_count_0</th>\n",
       "      <th>perf_grp_count_1</th>\n",
       "    </tr>\n",
       "  </thead>\n",
       "  <tbody>\n",
       "    <tr>\n",
       "      <th>0</th>\n",
       "      <td>3</td>\n",
       "      <td>e88aa3daea96c6e1a6f9b6a65e8b8c8d</td>\n",
       "      <td>{\"cutoff\": \"quantile_0.1\", \"eval_fairness_grou...</td>\n",
       "      <td>25.462811</td>\n",
       "      <td>89710</td>\n",
       "      <td>1.0</td>\n",
       "      <td>0.040616</td>\n",
       "      <td>0.956054</td>\n",
       "      <td>0.034302</td>\n",
       "      <td>0.963148</td>\n",
       "      <td>...</td>\n",
       "      <td>NaN</td>\n",
       "      <td>NaN</td>\n",
       "      <td>NaN</td>\n",
       "      <td>NaN</td>\n",
       "      <td>NaN</td>\n",
       "      <td>NaN</td>\n",
       "      <td>NaN</td>\n",
       "      <td>NaN</td>\n",
       "      <td>NaN</td>\n",
       "      <td>NaN</td>\n",
       "    </tr>\n",
       "    <tr>\n",
       "      <th>0</th>\n",
       "      <td>3</td>\n",
       "      <td>e88aa3daea96c6e1a6f9b6a65e8b8c8d</td>\n",
       "      <td>{\"cutoff\": \"quantile_0.1\", \"eval_fairness_grou...</td>\n",
       "      <td>25.462811</td>\n",
       "      <td>89710</td>\n",
       "      <td>1.0</td>\n",
       "      <td>0.040616</td>\n",
       "      <td>0.956054</td>\n",
       "      <td>0.034302</td>\n",
       "      <td>0.963148</td>\n",
       "      <td>...</td>\n",
       "      <td>0.121554</td>\n",
       "      <td>0.144633</td>\n",
       "      <td>0.924224</td>\n",
       "      <td>0.883608</td>\n",
       "      <td>0.018581</td>\n",
       "      <td>0.018709</td>\n",
       "      <td>0.930818</td>\n",
       "      <td>0.896516</td>\n",
       "      <td>20540.0</td>\n",
       "      <td>69170.0</td>\n",
       "    </tr>\n",
       "    <tr>\n",
       "      <th>0</th>\n",
       "      <td>3</td>\n",
       "      <td>e88aa3daea96c6e1a6f9b6a65e8b8c8d</td>\n",
       "      <td>{\"cutoff\": \"quantile_0.25\", \"eval_fairness_gro...</td>\n",
       "      <td>25.462811</td>\n",
       "      <td>89710</td>\n",
       "      <td>1.0</td>\n",
       "      <td>0.091144</td>\n",
       "      <td>0.886665</td>\n",
       "      <td>0.074287</td>\n",
       "      <td>0.909045</td>\n",
       "      <td>...</td>\n",
       "      <td>NaN</td>\n",
       "      <td>NaN</td>\n",
       "      <td>NaN</td>\n",
       "      <td>NaN</td>\n",
       "      <td>NaN</td>\n",
       "      <td>NaN</td>\n",
       "      <td>NaN</td>\n",
       "      <td>NaN</td>\n",
       "      <td>NaN</td>\n",
       "      <td>NaN</td>\n",
       "    </tr>\n",
       "    <tr>\n",
       "      <th>0</th>\n",
       "      <td>3</td>\n",
       "      <td>e88aa3daea96c6e1a6f9b6a65e8b8c8d</td>\n",
       "      <td>{\"cutoff\": \"quantile_0.25\", \"eval_fairness_gro...</td>\n",
       "      <td>25.462811</td>\n",
       "      <td>89710</td>\n",
       "      <td>1.0</td>\n",
       "      <td>0.091144</td>\n",
       "      <td>0.886665</td>\n",
       "      <td>0.074287</td>\n",
       "      <td>0.909045</td>\n",
       "      <td>...</td>\n",
       "      <td>0.128875</td>\n",
       "      <td>0.166504</td>\n",
       "      <td>0.804204</td>\n",
       "      <td>0.713060</td>\n",
       "      <td>0.086993</td>\n",
       "      <td>0.064442</td>\n",
       "      <td>0.816748</td>\n",
       "      <td>0.742461</td>\n",
       "      <td>20540.0</td>\n",
       "      <td>69170.0</td>\n",
       "    </tr>\n",
       "  </tbody>\n",
       "</table>\n",
       "<p>4 rows × 50 columns</p>\n",
       "</div>"
      ],
      "text/plain": [
       "  run_no                       universe_id  \\\n",
       "0      3  e88aa3daea96c6e1a6f9b6a65e8b8c8d   \n",
       "0      3  e88aa3daea96c6e1a6f9b6a65e8b8c8d   \n",
       "0      3  e88aa3daea96c6e1a6f9b6a65e8b8c8d   \n",
       "0      3  e88aa3daea96c6e1a6f9b6a65e8b8c8d   \n",
       "\n",
       "                                   universe_settings  execution_time  \\\n",
       "0  {\"cutoff\": \"quantile_0.1\", \"eval_fairness_grou...       25.462811   \n",
       "0  {\"cutoff\": \"quantile_0.1\", \"eval_fairness_grou...       25.462811   \n",
       "0  {\"cutoff\": \"quantile_0.25\", \"eval_fairness_gro...       25.462811   \n",
       "0  {\"cutoff\": \"quantile_0.25\", \"eval_fairness_gro...       25.462811   \n",
       "\n",
       "   test_size_n  test_size_frac  fair_main_equalized_odds_difference  \\\n",
       "0        89710             1.0                             0.040616   \n",
       "0        89710             1.0                             0.040616   \n",
       "0        89710             1.0                             0.091144   \n",
       "0        89710             1.0                             0.091144   \n",
       "\n",
       "   fair_main_equalized_odds_ratio  fair_main_demographic_parity_difference  \\\n",
       "0                        0.956054                                 0.034302   \n",
       "0                        0.956054                                 0.034302   \n",
       "0                        0.886665                                 0.074287   \n",
       "0                        0.886665                                 0.074287   \n",
       "\n",
       "   fair_main_demographic_parity_ratio  ...  perf_grp_precision_0  \\\n",
       "0                            0.963148  ...                   NaN   \n",
       "0                            0.963148  ...              0.121554   \n",
       "0                            0.909045  ...                   NaN   \n",
       "0                            0.909045  ...              0.128875   \n",
       "\n",
       "   perf_grp_precision_1  perf_grp_false positive rate_0  \\\n",
       "0                   NaN                             NaN   \n",
       "0              0.144633                        0.924224   \n",
       "0                   NaN                             NaN   \n",
       "0              0.166504                        0.804204   \n",
       "\n",
       "   perf_grp_false positive rate_1  perf_grp_false negative rate_0  \\\n",
       "0                             NaN                             NaN   \n",
       "0                        0.883608                        0.018581   \n",
       "0                             NaN                             NaN   \n",
       "0                        0.713060                        0.086993   \n",
       "\n",
       "   perf_grp_false negative rate_1  perf_grp_selection rate_0  \\\n",
       "0                             NaN                        NaN   \n",
       "0                        0.018709                   0.930818   \n",
       "0                             NaN                        NaN   \n",
       "0                        0.064442                   0.816748   \n",
       "\n",
       "   perf_grp_selection rate_1  perf_grp_count_0  perf_grp_count_1  \n",
       "0                        NaN               NaN               NaN  \n",
       "0                   0.896516           20540.0           69170.0  \n",
       "0                        NaN               NaN               NaN  \n",
       "0                   0.742461           20540.0           69170.0  \n",
       "\n",
       "[4 rows x 50 columns]"
      ]
     },
     "execution_count": 64,
     "metadata": {},
     "output_type": "execute_result"
    }
   ],
   "source": [
    "final_output = universe_analysis.generate_final_output(\n",
    "    y_pred_prob=probs_test,\n",
    "    y_test=y_true,\n",
    "    org_test=org_test,\n",
    "    filter_data=filter_sub_universe_data,\n",
    "    cp_metrics_df=cp_metrics_df,\n",
    "    save=True,\n",
    ")\n",
    "final_output"
   ]
  },
  {
   "cell_type": "code",
   "execution_count": null,
   "id": "8b80a1ff",
   "metadata": {
    "papermill": {
     "duration": 0.016729,
     "end_time": "2025-08-19T19:02:55.676670",
     "exception": false,
     "start_time": "2025-08-19T19:02:55.659941",
     "status": "completed"
    },
    "tags": []
   },
   "outputs": [],
   "source": []
  },
  {
   "cell_type": "code",
   "execution_count": null,
   "id": "275c9fad",
   "metadata": {
    "papermill": {
     "duration": 0.015214,
     "end_time": "2025-08-19T19:02:55.707079",
     "exception": false,
     "start_time": "2025-08-19T19:02:55.691865",
     "status": "completed"
    },
    "tags": []
   },
   "outputs": [],
   "source": []
  }
 ],
 "metadata": {
  "celltoolbar": "Tags",
  "kernelspec": {
   "display_name": "Python (CMA Fairness)",
   "language": "python",
   "name": "cma_fair_env"
  },
  "language_info": {
   "codemirror_mode": {
    "name": "ipython",
    "version": 3
   },
   "file_extension": ".py",
   "mimetype": "text/x-python",
   "name": "python",
   "nbconvert_exporter": "python",
   "pygments_lexer": "ipython3",
   "version": "3.10.12"
  },
  "papermill": {
   "default_parameters": {},
   "duration": 35.992451,
   "end_time": "2025-08-19T19:02:56.659918",
   "environment_variables": {},
   "exception": null,
   "input_path": "universe_analysis.ipynb",
   "output_path": "output/runs/3/notebooks/m_3-e88aa3daea96c6e1a6f9b6a65e8b8c8d.ipynb",
   "parameters": {
    "output_dir": "output",
    "run_no": "3",
    "seed": "2023",
    "universe": "{\"cutoff\": [\"quantile_0.1\", \"quantile_0.25\"], \"eval_fairness_grouping\": [\"majority-minority\", \"nationality-all\"], \"exclude_features\": \"sex\", \"exclude_subgroups\": \"drop-non-german\", \"model\": \"rf\", \"scale\": \"do-not-scale\", \"training_size\": \"1k\", \"training_year\": \"2012_14\"}",
    "universe_id": "e88aa3daea96c6e1a6f9b6a65e8b8c8d"
   },
   "start_time": "2025-08-19T19:02:20.667467",
   "version": "2.6.0"
  }
 },
 "nbformat": 4,
 "nbformat_minor": 5
}