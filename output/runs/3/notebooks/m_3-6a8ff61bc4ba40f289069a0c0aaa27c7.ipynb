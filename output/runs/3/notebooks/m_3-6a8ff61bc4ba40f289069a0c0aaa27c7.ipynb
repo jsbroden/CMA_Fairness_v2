{
 "cells": [
  {
   "cell_type": "markdown",
   "id": "ef23dbb3",
   "metadata": {
    "papermill": {
     "duration": 0.035333,
     "end_time": "2025-08-19T18:11:51.908274",
     "exception": false,
     "start_time": "2025-08-19T18:11:51.872941",
     "status": "completed"
    },
    "tags": []
   },
   "source": [
    "# Setup"
   ]
  },
  {
   "cell_type": "code",
   "execution_count": 1,
   "id": "0bc8e7dc",
   "metadata": {
    "execution": {
     "iopub.execute_input": "2025-08-19T18:11:51.942739Z",
     "iopub.status.busy": "2025-08-19T18:11:51.942253Z",
     "iopub.status.idle": "2025-08-19T18:11:51.951562Z",
     "shell.execute_reply": "2025-08-19T18:11:51.950874Z"
    },
    "papermill": {
     "duration": 0.024919,
     "end_time": "2025-08-19T18:11:51.954357",
     "exception": false,
     "start_time": "2025-08-19T18:11:51.929438",
     "status": "completed"
    },
    "tags": []
   },
   "outputs": [
    {
     "name": "stdout",
     "output_type": "stream",
     "text": [
      "/dss/dsshome1/0C/ra93lal2/cma/CMA_Fairness_v2\n"
     ]
    },
    {
     "name": "stderr",
     "output_type": "stream",
     "text": [
      "/dss/dsshome1/0C/ra93lal2/.local/share/virtualenvs/CMA_Fairness_v2-3j10GkSs/lib/python3.10/site-packages/IPython/core/magics/osm.py:393: UserWarning: This is now an optional IPython functionality, using bookmarks requires you to install the `pickleshare` library.\n",
      "  bkms = self.shell.db.get('bookmarks', {})\n",
      "/dss/dsshome1/0C/ra93lal2/.local/share/virtualenvs/CMA_Fairness_v2-3j10GkSs/lib/python3.10/site-packages/IPython/core/magics/osm.py:417: UserWarning: This is now an optional IPython functionality, setting dhist requires you to install the `pickleshare` library.\n",
      "  self.shell.db['dhist'] = compress_dhist(dhist)[-100:]\n"
     ]
    }
   ],
   "source": [
    "%cd ~/cma/CMA_Fairness_v2"
   ]
  },
  {
   "cell_type": "markdown",
   "id": "9d235661",
   "metadata": {
    "papermill": {
     "duration": 0.009097,
     "end_time": "2025-08-19T18:11:51.976712",
     "exception": false,
     "start_time": "2025-08-19T18:11:51.967615",
     "status": "completed"
    },
    "tags": []
   },
   "source": [
    "The following cell holds the definition of our parameters, these values can be overriden by rendering the with e.g. the following command:\n",
    "\n",
    "papermill -p alpha 0.2 -p ratio 0.3 universe_analysis.ipynb output/test_run.ipynb"
   ]
  },
  {
   "cell_type": "code",
   "execution_count": 2,
   "id": "4a789d8e",
   "metadata": {
    "execution": {
     "iopub.execute_input": "2025-08-19T18:11:51.996575Z",
     "iopub.status.busy": "2025-08-19T18:11:51.995475Z",
     "iopub.status.idle": "2025-08-19T18:11:52.002766Z",
     "shell.execute_reply": "2025-08-19T18:11:52.001297Z"
    },
    "papermill": {
     "duration": 0.019255,
     "end_time": "2025-08-19T18:11:52.004561",
     "exception": false,
     "start_time": "2025-08-19T18:11:51.985306",
     "status": "completed"
    },
    "tags": []
   },
   "outputs": [
    {
     "name": "stdout",
     "output_type": "stream",
     "text": [
      "Current working directory: /dss/dsshome1/0C/ra93lal2/cma/CMA_Fairness_v2\n"
     ]
    }
   ],
   "source": [
    "import os\n",
    "print(\"Current working directory:\", os.getcwd())"
   ]
  },
  {
   "cell_type": "code",
   "execution_count": 3,
   "id": "4132aaed",
   "metadata": {
    "execution": {
     "iopub.execute_input": "2025-08-19T18:11:52.025198Z",
     "iopub.status.busy": "2025-08-19T18:11:52.024125Z",
     "iopub.status.idle": "2025-08-19T18:11:52.033487Z",
     "shell.execute_reply": "2025-08-19T18:11:52.032287Z"
    },
    "papermill": {
     "duration": 0.020858,
     "end_time": "2025-08-19T18:11:52.034893",
     "exception": false,
     "start_time": "2025-08-19T18:11:52.014035",
     "status": "completed"
    },
    "tags": [
     "parameters"
    ]
   },
   "outputs": [],
   "source": [
    "run_no = 0\n",
    "universe_id = \"test\"\n",
    "universe = {\n",
    "    \"training_size\": \"5k\", # \"25k\", \"5k\", \"1k\"\n",
    "    \"training_year\": \"2012_14\", # \"2014\", \"2012_14\", \"2010_14\"\n",
    "    \"scale\": \"scale\", # \"scale\", \"do-not-scale\",\n",
    "    \"model\": \"elasticnet\", # \"logreg\", \"penalized_logreg\", \"rf\", \"gbm\", \"elasticnet\"\n",
    "    \"cutoff\": [\"quantile_0.15\", \"quantile_0.30\"],\n",
    "    \"exclude_features\": \"age\", # \"none\", \"nationality\", \"sex\", \"nationality-sex\", \"age\"\n",
    "    \"exclude_subgroups\": \"drop-non-german\", # \"keep-all\", \"drop-non-german\"\n",
    "    \"eval_fairness_grouping\": [\"majority-minority\", \"nationality-all\"]\n",
    "}\n",
    "\n",
    "output_dir=\"./output\"\n",
    "seed=0"
   ]
  },
  {
   "cell_type": "code",
   "execution_count": 4,
   "id": "dddab4a1",
   "metadata": {
    "execution": {
     "iopub.execute_input": "2025-08-19T18:11:52.056775Z",
     "iopub.status.busy": "2025-08-19T18:11:52.055744Z",
     "iopub.status.idle": "2025-08-19T18:11:52.062981Z",
     "shell.execute_reply": "2025-08-19T18:11:52.061781Z"
    },
    "papermill": {
     "duration": 0.019676,
     "end_time": "2025-08-19T18:11:52.064435",
     "exception": false,
     "start_time": "2025-08-19T18:11:52.044759",
     "status": "completed"
    },
    "tags": [
     "injected-parameters"
    ]
   },
   "outputs": [],
   "source": [
    "# Parameters\n",
    "universe_id = \"6a8ff61bc4ba40f289069a0c0aaa27c7\"\n",
    "run_no = \"3\"\n",
    "universe = \"{\\\"cutoff\\\": [\\\"quantile_0.1\\\", \\\"quantile_0.25\\\"], \\\"eval_fairness_grouping\\\": [\\\"majority-minority\\\", \\\"nationality-all\\\"], \\\"exclude_features\\\": \\\"none\\\", \\\"exclude_subgroups\\\": \\\"drop-non-german\\\", \\\"model\\\": \\\"elasticnet\\\", \\\"scale\\\": \\\"do-not-scale\\\", \\\"training_size\\\": \\\"25k\\\", \\\"training_year\\\": \\\"2012_14\\\"}\"\n",
    "output_dir = \"output\"\n",
    "seed = \"2023\"\n"
   ]
  },
  {
   "cell_type": "code",
   "execution_count": 5,
   "id": "a5d7941f",
   "metadata": {
    "execution": {
     "iopub.execute_input": "2025-08-19T18:11:52.084560Z",
     "iopub.status.busy": "2025-08-19T18:11:52.083553Z",
     "iopub.status.idle": "2025-08-19T18:11:52.090178Z",
     "shell.execute_reply": "2025-08-19T18:11:52.088943Z"
    },
    "papermill": {
     "duration": 0.017997,
     "end_time": "2025-08-19T18:11:52.091611",
     "exception": false,
     "start_time": "2025-08-19T18:11:52.073614",
     "status": "completed"
    },
    "tags": []
   },
   "outputs": [],
   "source": [
    "import json\n",
    "if isinstance(universe, str):\n",
    "    universe = json.loads(universe)"
   ]
  },
  {
   "cell_type": "code",
   "execution_count": 6,
   "id": "7076ccb1",
   "metadata": {
    "execution": {
     "iopub.execute_input": "2025-08-19T18:11:52.112400Z",
     "iopub.status.busy": "2025-08-19T18:11:52.111527Z",
     "iopub.status.idle": "2025-08-19T18:11:52.161845Z",
     "shell.execute_reply": "2025-08-19T18:11:52.161125Z"
    },
    "papermill": {
     "duration": 0.063258,
     "end_time": "2025-08-19T18:11:52.164618",
     "exception": false,
     "start_time": "2025-08-19T18:11:52.101360",
     "status": "completed"
    },
    "tags": []
   },
   "outputs": [],
   "source": [
    "# Auto-reload the custom package\n",
    "%load_ext autoreload\n",
    "%autoreload 1\n",
    "%aimport fairness_multiverse"
   ]
  },
  {
   "cell_type": "code",
   "execution_count": 7,
   "id": "94c8eb93",
   "metadata": {
    "execution": {
     "iopub.execute_input": "2025-08-19T18:11:52.201534Z",
     "iopub.status.busy": "2025-08-19T18:11:52.200314Z",
     "iopub.status.idle": "2025-08-19T18:11:53.715702Z",
     "shell.execute_reply": "2025-08-19T18:11:53.714313Z"
    },
    "papermill": {
     "duration": 1.530868,
     "end_time": "2025-08-19T18:11:53.717403",
     "exception": false,
     "start_time": "2025-08-19T18:11:52.186535",
     "status": "completed"
    },
    "tags": []
   },
   "outputs": [],
   "source": [
    "from fairness_multiverse.universe import UniverseAnalysis\n",
    "\n",
    "universe_analysis = UniverseAnalysis(\n",
    "    run_no = run_no,\n",
    "    universe_id = universe_id,\n",
    "    universe = universe,\n",
    "    output_dir=output_dir,\n",
    ")"
   ]
  },
  {
   "cell_type": "code",
   "execution_count": 8,
   "id": "2a6381cf",
   "metadata": {
    "execution": {
     "iopub.execute_input": "2025-08-19T18:11:53.746071Z",
     "iopub.status.busy": "2025-08-19T18:11:53.744628Z",
     "iopub.status.idle": "2025-08-19T18:11:53.754947Z",
     "shell.execute_reply": "2025-08-19T18:11:53.753788Z"
    },
    "papermill": {
     "duration": 0.030097,
     "end_time": "2025-08-19T18:11:53.756833",
     "exception": false,
     "start_time": "2025-08-19T18:11:53.726736",
     "status": "completed"
    },
    "tags": []
   },
   "outputs": [
    {
     "name": "stdout",
     "output_type": "stream",
     "text": [
      "Using Seed: 2023\n"
     ]
    }
   ],
   "source": [
    "import numpy as np\n",
    "parsed_seed = int(seed)\n",
    "np.random.seed(parsed_seed)\n",
    "print(f\"Using Seed: {parsed_seed}\")"
   ]
  },
  {
   "cell_type": "markdown",
   "id": "b6e958b4",
   "metadata": {
    "papermill": {
     "duration": 0.010148,
     "end_time": "2025-08-19T18:11:53.782102",
     "exception": false,
     "start_time": "2025-08-19T18:11:53.771954",
     "status": "completed"
    },
    "tags": []
   },
   "source": [
    "# Loading Data"
   ]
  },
  {
   "cell_type": "code",
   "execution_count": 9,
   "id": "98701482",
   "metadata": {
    "execution": {
     "iopub.execute_input": "2025-08-19T18:11:53.806325Z",
     "iopub.status.busy": "2025-08-19T18:11:53.805181Z",
     "iopub.status.idle": "2025-08-19T18:12:03.777918Z",
     "shell.execute_reply": "2025-08-19T18:12:03.777206Z"
    },
    "papermill": {
     "duration": 9.985416,
     "end_time": "2025-08-19T18:12:03.779446",
     "exception": false,
     "start_time": "2025-08-19T18:11:53.794030",
     "status": "completed"
    },
    "tags": []
   },
   "outputs": [
    {
     "name": "stdout",
     "output_type": "stream",
     "text": [
      "Loading SIAB data from cache: data/siab_cached.csv.gz\n"
     ]
    },
    {
     "name": "stdout",
     "output_type": "stream",
     "text": [
      "(643690, 164)\n"
     ]
    }
   ],
   "source": [
    "from pathlib import Path\n",
    "import pandas as pd\n",
    "\n",
    "# File paths\n",
    "raw_file = Path(\"data/raw/siab.csv\")\n",
    "cache_file = Path(\"data/siab_cached.csv.gz\")\n",
    "\n",
    "# Ensure cache directory exists\n",
    "cache_file.parent.mkdir(parents=True, exist_ok=True)\n",
    "\n",
    "# Load with simple caching\n",
    "if cache_file.exists():\n",
    "    print(f\"Loading SIAB data from cache: {cache_file}\")\n",
    "    siab = pd.read_csv(cache_file, compression='gzip')\n",
    "else:\n",
    "    print(f\"Cache not found. Reading raw SIAB data: {raw_file}\")\n",
    "    siab = pd.read_csv(raw_file)\n",
    "    siab.to_csv(cache_file, index=False, compression='gzip')\n",
    "    print(f\"Cached SIAB data to: {cache_file}\")\n",
    "\n",
    "print(siab.shape)"
   ]
  },
  {
   "cell_type": "code",
   "execution_count": 10,
   "id": "058d2abb",
   "metadata": {
    "execution": {
     "iopub.execute_input": "2025-08-19T18:12:03.806324Z",
     "iopub.status.busy": "2025-08-19T18:12:03.805730Z",
     "iopub.status.idle": "2025-08-19T18:12:03.932816Z",
     "shell.execute_reply": "2025-08-19T18:12:03.932040Z"
    },
    "papermill": {
     "duration": 0.142297,
     "end_time": "2025-08-19T18:12:03.934634",
     "exception": false,
     "start_time": "2025-08-19T18:12:03.792337",
     "status": "completed"
    },
    "tags": []
   },
   "outputs": [
    {
     "data": {
      "text/html": [
       "<div>\n",
       "<style scoped>\n",
       "    .dataframe tbody tr th:only-of-type {\n",
       "        vertical-align: middle;\n",
       "    }\n",
       "\n",
       "    .dataframe tbody tr th {\n",
       "        vertical-align: top;\n",
       "    }\n",
       "\n",
       "    .dataframe thead th {\n",
       "        text-align: right;\n",
       "    }\n",
       "</style>\n",
       "<table border=\"1\" class=\"dataframe\">\n",
       "  <thead>\n",
       "    <tr style=\"text-align: right;\">\n",
       "      <th></th>\n",
       "      <th>persnr</th>\n",
       "      <th>year</th>\n",
       "      <th>nrEntry</th>\n",
       "      <th>ltue</th>\n",
       "      <th>employed_before</th>\n",
       "      <th>receipt_leh_before</th>\n",
       "      <th>receipt_lhg_before</th>\n",
       "      <th>se_before</th>\n",
       "      <th>ASU_notue_seeking_before</th>\n",
       "      <th>ASU_other_before</th>\n",
       "      <th>...</th>\n",
       "      <th>minijob_tot_dur_byage</th>\n",
       "      <th>ft_tot_dur_byage</th>\n",
       "      <th>befrist_tot_dur_byage</th>\n",
       "      <th>leih_tot_dur_byage</th>\n",
       "      <th>LHG_tot_dur_byage</th>\n",
       "      <th>LEH_tot_dur_byage</th>\n",
       "      <th>almp_tot_dur_byage</th>\n",
       "      <th>almp_aw_tot_dur_byage</th>\n",
       "      <th>se_tot_dur_byage</th>\n",
       "      <th>seeking1_tot_dur_byage</th>\n",
       "    </tr>\n",
       "  </thead>\n",
       "  <tbody>\n",
       "    <tr>\n",
       "      <th>0</th>\n",
       "      <td>7</td>\n",
       "      <td>2015</td>\n",
       "      <td>1</td>\n",
       "      <td>0</td>\n",
       "      <td>1</td>\n",
       "      <td>0</td>\n",
       "      <td>0</td>\n",
       "      <td>0</td>\n",
       "      <td>1</td>\n",
       "      <td>0</td>\n",
       "      <td>...</td>\n",
       "      <td>0.000000</td>\n",
       "      <td>0.000000</td>\n",
       "      <td>15.043478</td>\n",
       "      <td>0.000000</td>\n",
       "      <td>0.000000</td>\n",
       "      <td>0.000000</td>\n",
       "      <td>0.000000</td>\n",
       "      <td>0.000000</td>\n",
       "      <td>0.000000</td>\n",
       "      <td>0.000000</td>\n",
       "    </tr>\n",
       "    <tr>\n",
       "      <th>1</th>\n",
       "      <td>18</td>\n",
       "      <td>2010</td>\n",
       "      <td>1</td>\n",
       "      <td>1</td>\n",
       "      <td>0</td>\n",
       "      <td>0</td>\n",
       "      <td>0</td>\n",
       "      <td>0</td>\n",
       "      <td>0</td>\n",
       "      <td>0</td>\n",
       "      <td>...</td>\n",
       "      <td>0.000000</td>\n",
       "      <td>0.000000</td>\n",
       "      <td>0.000000</td>\n",
       "      <td>0.000000</td>\n",
       "      <td>0.000000</td>\n",
       "      <td>0.000000</td>\n",
       "      <td>0.000000</td>\n",
       "      <td>0.000000</td>\n",
       "      <td>0.000000</td>\n",
       "      <td>0.000000</td>\n",
       "    </tr>\n",
       "    <tr>\n",
       "      <th>2</th>\n",
       "      <td>18</td>\n",
       "      <td>2011</td>\n",
       "      <td>2</td>\n",
       "      <td>0</td>\n",
       "      <td>1</td>\n",
       "      <td>0</td>\n",
       "      <td>1</td>\n",
       "      <td>0</td>\n",
       "      <td>1</td>\n",
       "      <td>0</td>\n",
       "      <td>...</td>\n",
       "      <td>2.714286</td>\n",
       "      <td>2.714286</td>\n",
       "      <td>0.000000</td>\n",
       "      <td>0.000000</td>\n",
       "      <td>10.775510</td>\n",
       "      <td>0.000000</td>\n",
       "      <td>8.367347</td>\n",
       "      <td>0.000000</td>\n",
       "      <td>0.000000</td>\n",
       "      <td>9.836735</td>\n",
       "    </tr>\n",
       "    <tr>\n",
       "      <th>3</th>\n",
       "      <td>18</td>\n",
       "      <td>2012</td>\n",
       "      <td>3</td>\n",
       "      <td>0</td>\n",
       "      <td>1</td>\n",
       "      <td>0</td>\n",
       "      <td>1</td>\n",
       "      <td>0</td>\n",
       "      <td>1</td>\n",
       "      <td>0</td>\n",
       "      <td>...</td>\n",
       "      <td>4.200000</td>\n",
       "      <td>4.200000</td>\n",
       "      <td>0.000000</td>\n",
       "      <td>0.000000</td>\n",
       "      <td>12.100000</td>\n",
       "      <td>0.000000</td>\n",
       "      <td>9.400000</td>\n",
       "      <td>0.000000</td>\n",
       "      <td>0.000000</td>\n",
       "      <td>9.960000</td>\n",
       "    </tr>\n",
       "    <tr>\n",
       "      <th>4</th>\n",
       "      <td>18</td>\n",
       "      <td>2012</td>\n",
       "      <td>4</td>\n",
       "      <td>0</td>\n",
       "      <td>1</td>\n",
       "      <td>0</td>\n",
       "      <td>1</td>\n",
       "      <td>0</td>\n",
       "      <td>1</td>\n",
       "      <td>0</td>\n",
       "      <td>...</td>\n",
       "      <td>5.460000</td>\n",
       "      <td>5.460000</td>\n",
       "      <td>0.000000</td>\n",
       "      <td>0.000000</td>\n",
       "      <td>13.360000</td>\n",
       "      <td>0.000000</td>\n",
       "      <td>10.320000</td>\n",
       "      <td>0.000000</td>\n",
       "      <td>0.000000</td>\n",
       "      <td>10.280000</td>\n",
       "    </tr>\n",
       "    <tr>\n",
       "      <th>...</th>\n",
       "      <td>...</td>\n",
       "      <td>...</td>\n",
       "      <td>...</td>\n",
       "      <td>...</td>\n",
       "      <td>...</td>\n",
       "      <td>...</td>\n",
       "      <td>...</td>\n",
       "      <td>...</td>\n",
       "      <td>...</td>\n",
       "      <td>...</td>\n",
       "      <td>...</td>\n",
       "      <td>...</td>\n",
       "      <td>...</td>\n",
       "      <td>...</td>\n",
       "      <td>...</td>\n",
       "      <td>...</td>\n",
       "      <td>...</td>\n",
       "      <td>...</td>\n",
       "      <td>...</td>\n",
       "      <td>...</td>\n",
       "      <td>...</td>\n",
       "    </tr>\n",
       "    <tr>\n",
       "      <th>643685</th>\n",
       "      <td>1827860</td>\n",
       "      <td>2013</td>\n",
       "      <td>1</td>\n",
       "      <td>0</td>\n",
       "      <td>0</td>\n",
       "      <td>0</td>\n",
       "      <td>1</td>\n",
       "      <td>0</td>\n",
       "      <td>0</td>\n",
       "      <td>1</td>\n",
       "      <td>...</td>\n",
       "      <td>0.000000</td>\n",
       "      <td>0.000000</td>\n",
       "      <td>0.000000</td>\n",
       "      <td>0.000000</td>\n",
       "      <td>0.612903</td>\n",
       "      <td>0.000000</td>\n",
       "      <td>0.000000</td>\n",
       "      <td>0.000000</td>\n",
       "      <td>0.000000</td>\n",
       "      <td>0.000000</td>\n",
       "    </tr>\n",
       "    <tr>\n",
       "      <th>643686</th>\n",
       "      <td>1827860</td>\n",
       "      <td>2015</td>\n",
       "      <td>2</td>\n",
       "      <td>1</td>\n",
       "      <td>0</td>\n",
       "      <td>0</td>\n",
       "      <td>1</td>\n",
       "      <td>0</td>\n",
       "      <td>1</td>\n",
       "      <td>0</td>\n",
       "      <td>...</td>\n",
       "      <td>0.000000</td>\n",
       "      <td>0.000000</td>\n",
       "      <td>0.212121</td>\n",
       "      <td>0.212121</td>\n",
       "      <td>17.363636</td>\n",
       "      <td>0.000000</td>\n",
       "      <td>8.909091</td>\n",
       "      <td>0.000000</td>\n",
       "      <td>0.000000</td>\n",
       "      <td>7.121212</td>\n",
       "    </tr>\n",
       "    <tr>\n",
       "      <th>643687</th>\n",
       "      <td>1827860</td>\n",
       "      <td>2016</td>\n",
       "      <td>3</td>\n",
       "      <td>1</td>\n",
       "      <td>0</td>\n",
       "      <td>0</td>\n",
       "      <td>1</td>\n",
       "      <td>1</td>\n",
       "      <td>0</td>\n",
       "      <td>1</td>\n",
       "      <td>...</td>\n",
       "      <td>0.000000</td>\n",
       "      <td>0.000000</td>\n",
       "      <td>0.294118</td>\n",
       "      <td>0.205882</td>\n",
       "      <td>34.705882</td>\n",
       "      <td>0.000000</td>\n",
       "      <td>10.352941</td>\n",
       "      <td>1.705882</td>\n",
       "      <td>1.705882</td>\n",
       "      <td>23.911765</td>\n",
       "    </tr>\n",
       "    <tr>\n",
       "      <th>643688</th>\n",
       "      <td>1827869</td>\n",
       "      <td>2013</td>\n",
       "      <td>1</td>\n",
       "      <td>1</td>\n",
       "      <td>1</td>\n",
       "      <td>0</td>\n",
       "      <td>0</td>\n",
       "      <td>0</td>\n",
       "      <td>1</td>\n",
       "      <td>0</td>\n",
       "      <td>...</td>\n",
       "      <td>0.000000</td>\n",
       "      <td>0.000000</td>\n",
       "      <td>0.000000</td>\n",
       "      <td>0.000000</td>\n",
       "      <td>0.000000</td>\n",
       "      <td>0.525424</td>\n",
       "      <td>0.000000</td>\n",
       "      <td>0.000000</td>\n",
       "      <td>0.000000</td>\n",
       "      <td>0.000000</td>\n",
       "    </tr>\n",
       "    <tr>\n",
       "      <th>643689</th>\n",
       "      <td>1827869</td>\n",
       "      <td>2014</td>\n",
       "      <td>2</td>\n",
       "      <td>0</td>\n",
       "      <td>0</td>\n",
       "      <td>1</td>\n",
       "      <td>0</td>\n",
       "      <td>0</td>\n",
       "      <td>1</td>\n",
       "      <td>0</td>\n",
       "      <td>...</td>\n",
       "      <td>0.000000</td>\n",
       "      <td>0.666667</td>\n",
       "      <td>0.666667</td>\n",
       "      <td>0.000000</td>\n",
       "      <td>0.000000</td>\n",
       "      <td>8.950000</td>\n",
       "      <td>1.033333</td>\n",
       "      <td>0.083333</td>\n",
       "      <td>0.083333</td>\n",
       "      <td>8.133333</td>\n",
       "    </tr>\n",
       "  </tbody>\n",
       "</table>\n",
       "<p>643690 rows × 164 columns</p>\n",
       "</div>"
      ],
      "text/plain": [
       "         persnr  year  nrEntry  ltue  employed_before  receipt_leh_before  \\\n",
       "0             7  2015        1     0                1                   0   \n",
       "1            18  2010        1     1                0                   0   \n",
       "2            18  2011        2     0                1                   0   \n",
       "3            18  2012        3     0                1                   0   \n",
       "4            18  2012        4     0                1                   0   \n",
       "...         ...   ...      ...   ...              ...                 ...   \n",
       "643685  1827860  2013        1     0                0                   0   \n",
       "643686  1827860  2015        2     1                0                   0   \n",
       "643687  1827860  2016        3     1                0                   0   \n",
       "643688  1827869  2013        1     1                1                   0   \n",
       "643689  1827869  2014        2     0                0                   1   \n",
       "\n",
       "        receipt_lhg_before  se_before  ASU_notue_seeking_before  \\\n",
       "0                        0          0                         1   \n",
       "1                        0          0                         0   \n",
       "2                        1          0                         1   \n",
       "3                        1          0                         1   \n",
       "4                        1          0                         1   \n",
       "...                    ...        ...                       ...   \n",
       "643685                   1          0                         0   \n",
       "643686                   1          0                         1   \n",
       "643687                   1          1                         0   \n",
       "643688                   0          0                         1   \n",
       "643689                   0          0                         1   \n",
       "\n",
       "        ASU_other_before  ...  minijob_tot_dur_byage  ft_tot_dur_byage  \\\n",
       "0                      0  ...               0.000000          0.000000   \n",
       "1                      0  ...               0.000000          0.000000   \n",
       "2                      0  ...               2.714286          2.714286   \n",
       "3                      0  ...               4.200000          4.200000   \n",
       "4                      0  ...               5.460000          5.460000   \n",
       "...                  ...  ...                    ...               ...   \n",
       "643685                 1  ...               0.000000          0.000000   \n",
       "643686                 0  ...               0.000000          0.000000   \n",
       "643687                 1  ...               0.000000          0.000000   \n",
       "643688                 0  ...               0.000000          0.000000   \n",
       "643689                 0  ...               0.000000          0.666667   \n",
       "\n",
       "        befrist_tot_dur_byage  leih_tot_dur_byage  LHG_tot_dur_byage  \\\n",
       "0                   15.043478            0.000000           0.000000   \n",
       "1                    0.000000            0.000000           0.000000   \n",
       "2                    0.000000            0.000000          10.775510   \n",
       "3                    0.000000            0.000000          12.100000   \n",
       "4                    0.000000            0.000000          13.360000   \n",
       "...                       ...                 ...                ...   \n",
       "643685               0.000000            0.000000           0.612903   \n",
       "643686               0.212121            0.212121          17.363636   \n",
       "643687               0.294118            0.205882          34.705882   \n",
       "643688               0.000000            0.000000           0.000000   \n",
       "643689               0.666667            0.000000           0.000000   \n",
       "\n",
       "        LEH_tot_dur_byage  almp_tot_dur_byage  almp_aw_tot_dur_byage  \\\n",
       "0                0.000000            0.000000               0.000000   \n",
       "1                0.000000            0.000000               0.000000   \n",
       "2                0.000000            8.367347               0.000000   \n",
       "3                0.000000            9.400000               0.000000   \n",
       "4                0.000000           10.320000               0.000000   \n",
       "...                   ...                 ...                    ...   \n",
       "643685           0.000000            0.000000               0.000000   \n",
       "643686           0.000000            8.909091               0.000000   \n",
       "643687           0.000000           10.352941               1.705882   \n",
       "643688           0.525424            0.000000               0.000000   \n",
       "643689           8.950000            1.033333               0.083333   \n",
       "\n",
       "        se_tot_dur_byage  seeking1_tot_dur_byage  \n",
       "0               0.000000                0.000000  \n",
       "1               0.000000                0.000000  \n",
       "2               0.000000                9.836735  \n",
       "3               0.000000                9.960000  \n",
       "4               0.000000               10.280000  \n",
       "...                  ...                     ...  \n",
       "643685          0.000000                0.000000  \n",
       "643686          0.000000                7.121212  \n",
       "643687          1.705882               23.911765  \n",
       "643688          0.000000                0.000000  \n",
       "643689          0.083333                8.133333  \n",
       "\n",
       "[643690 rows x 164 columns]"
      ]
     },
     "execution_count": 10,
     "metadata": {},
     "output_type": "execute_result"
    }
   ],
   "source": [
    "siab"
   ]
  },
  {
   "cell_type": "markdown",
   "id": "1f87e805",
   "metadata": {
    "papermill": {
     "duration": 0.010071,
     "end_time": "2025-08-19T18:12:03.956981",
     "exception": false,
     "start_time": "2025-08-19T18:12:03.946910",
     "status": "completed"
    },
    "tags": []
   },
   "source": [
    "# Splitting Data and Setting Training Data Size"
   ]
  },
  {
   "cell_type": "code",
   "execution_count": 11,
   "id": "910ae358",
   "metadata": {
    "execution": {
     "iopub.execute_input": "2025-08-19T18:12:03.981890Z",
     "iopub.status.busy": "2025-08-19T18:12:03.981574Z",
     "iopub.status.idle": "2025-08-19T18:12:04.715911Z",
     "shell.execute_reply": "2025-08-19T18:12:04.714773Z"
    },
    "papermill": {
     "duration": 0.751158,
     "end_time": "2025-08-19T18:12:04.717943",
     "exception": false,
     "start_time": "2025-08-19T18:12:03.966785",
     "status": "completed"
    },
    "tags": []
   },
   "outputs": [],
   "source": [
    "from fairness_multiverse.universe import sample_by_year_size\n",
    "\n",
    "siab_train = sample_by_year_size(siab,\n",
    "                               training_year=universe[\"training_year\"],\n",
    "                               training_size=universe[\"training_size\"])"
   ]
  },
  {
   "cell_type": "code",
   "execution_count": 12,
   "id": "919c8ff5",
   "metadata": {
    "execution": {
     "iopub.execute_input": "2025-08-19T18:12:04.748850Z",
     "iopub.status.busy": "2025-08-19T18:12:04.747040Z",
     "iopub.status.idle": "2025-08-19T18:12:04.759213Z",
     "shell.execute_reply": "2025-08-19T18:12:04.758231Z"
    },
    "papermill": {
     "duration": 0.044809,
     "end_time": "2025-08-19T18:12:04.774860",
     "exception": false,
     "start_time": "2025-08-19T18:12:04.730051",
     "status": "completed"
    },
    "tags": []
   },
   "outputs": [
    {
     "data": {
      "text/plain": [
       "(25000, 164)"
      ]
     },
     "execution_count": 12,
     "metadata": {},
     "output_type": "execute_result"
    }
   ],
   "source": [
    "siab_train.shape"
   ]
  },
  {
   "cell_type": "code",
   "execution_count": 13,
   "id": "feb13bf4",
   "metadata": {
    "execution": {
     "iopub.execute_input": "2025-08-19T18:12:04.800878Z",
     "iopub.status.busy": "2025-08-19T18:12:04.797896Z",
     "iopub.status.idle": "2025-08-19T18:12:04.823704Z",
     "shell.execute_reply": "2025-08-19T18:12:04.822437Z"
    },
    "papermill": {
     "duration": 0.039555,
     "end_time": "2025-08-19T18:12:04.825449",
     "exception": false,
     "start_time": "2025-08-19T18:12:04.785894",
     "status": "completed"
    },
    "tags": []
   },
   "outputs": [
    {
     "data": {
      "text/plain": [
       "year\n",
       "2012    8334\n",
       "2013    8333\n",
       "2014    8333\n",
       "dtype: int64"
      ]
     },
     "metadata": {},
     "output_type": "display_data"
    }
   ],
   "source": [
    "display(siab_train.groupby(\"year\").size())"
   ]
  },
  {
   "cell_type": "code",
   "execution_count": 14,
   "id": "0997782f",
   "metadata": {
    "execution": {
     "iopub.execute_input": "2025-08-19T18:12:04.864298Z",
     "iopub.status.busy": "2025-08-19T18:12:04.862834Z",
     "iopub.status.idle": "2025-08-19T18:12:05.145181Z",
     "shell.execute_reply": "2025-08-19T18:12:05.144276Z"
    },
    "papermill": {
     "duration": 0.297745,
     "end_time": "2025-08-19T18:12:05.146874",
     "exception": false,
     "start_time": "2025-08-19T18:12:04.849129",
     "status": "completed"
    },
    "tags": []
   },
   "outputs": [],
   "source": [
    "#siab_train = siab_s[siab_s.year < 2015]\n",
    "siab_calib = siab[siab.year == 2015]\n",
    "siab_test = siab[siab.year == 2016]"
   ]
  },
  {
   "cell_type": "code",
   "execution_count": 15,
   "id": "2c1e4012",
   "metadata": {
    "execution": {
     "iopub.execute_input": "2025-08-19T18:12:05.190692Z",
     "iopub.status.busy": "2025-08-19T18:12:05.189358Z",
     "iopub.status.idle": "2025-08-19T18:12:05.198050Z",
     "shell.execute_reply": "2025-08-19T18:12:05.196527Z"
    },
    "papermill": {
     "duration": 0.04139,
     "end_time": "2025-08-19T18:12:05.199386",
     "exception": false,
     "start_time": "2025-08-19T18:12:05.157996",
     "status": "completed"
    },
    "tags": []
   },
   "outputs": [],
   "source": [
    "#siab_calib.shape"
   ]
  },
  {
   "cell_type": "code",
   "execution_count": 16,
   "id": "f66b54ca",
   "metadata": {
    "execution": {
     "iopub.execute_input": "2025-08-19T18:12:05.224927Z",
     "iopub.status.busy": "2025-08-19T18:12:05.223759Z",
     "iopub.status.idle": "2025-08-19T18:12:05.234404Z",
     "shell.execute_reply": "2025-08-19T18:12:05.233504Z"
    },
    "papermill": {
     "duration": 0.025744,
     "end_time": "2025-08-19T18:12:05.235928",
     "exception": false,
     "start_time": "2025-08-19T18:12:05.210184",
     "status": "completed"
    },
    "tags": []
   },
   "outputs": [],
   "source": [
    "#siab_test.shape"
   ]
  },
  {
   "cell_type": "code",
   "execution_count": 17,
   "id": "27e4384d",
   "metadata": {
    "execution": {
     "iopub.execute_input": "2025-08-19T18:12:05.262577Z",
     "iopub.status.busy": "2025-08-19T18:12:05.260986Z",
     "iopub.status.idle": "2025-08-19T18:12:05.306769Z",
     "shell.execute_reply": "2025-08-19T18:12:05.305910Z"
    },
    "papermill": {
     "duration": 0.058682,
     "end_time": "2025-08-19T18:12:05.308397",
     "exception": false,
     "start_time": "2025-08-19T18:12:05.249715",
     "status": "completed"
    },
    "tags": []
   },
   "outputs": [],
   "source": [
    "X_train = siab_train.iloc[:,4:164]\n",
    "y_train = siab_train.iloc[:, [3]]"
   ]
  },
  {
   "cell_type": "code",
   "execution_count": 18,
   "id": "08ee8389",
   "metadata": {
    "execution": {
     "iopub.execute_input": "2025-08-19T18:12:05.351062Z",
     "iopub.status.busy": "2025-08-19T18:12:05.349686Z",
     "iopub.status.idle": "2025-08-19T18:12:05.468807Z",
     "shell.execute_reply": "2025-08-19T18:12:05.467922Z"
    },
    "papermill": {
     "duration": 0.134879,
     "end_time": "2025-08-19T18:12:05.470516",
     "exception": false,
     "start_time": "2025-08-19T18:12:05.335637",
     "status": "completed"
    },
    "tags": []
   },
   "outputs": [],
   "source": [
    "X_calib = siab_calib.iloc[:,4:164]\n",
    "y_calib = siab_calib.iloc[:, [3]]"
   ]
  },
  {
   "cell_type": "code",
   "execution_count": 19,
   "id": "b7ff42e0",
   "metadata": {
    "execution": {
     "iopub.execute_input": "2025-08-19T18:12:05.493569Z",
     "iopub.status.busy": "2025-08-19T18:12:05.493083Z",
     "iopub.status.idle": "2025-08-19T18:12:05.549728Z",
     "shell.execute_reply": "2025-08-19T18:12:05.548920Z"
    },
    "papermill": {
     "duration": 0.069744,
     "end_time": "2025-08-19T18:12:05.551199",
     "exception": false,
     "start_time": "2025-08-19T18:12:05.481455",
     "status": "completed"
    },
    "tags": []
   },
   "outputs": [],
   "source": [
    "X_test = siab_test.iloc[:,4:164]\n",
    "y_true = siab_test.iloc[:, [3]]"
   ]
  },
  {
   "cell_type": "code",
   "execution_count": 20,
   "id": "0275101e",
   "metadata": {
    "execution": {
     "iopub.execute_input": "2025-08-19T18:12:05.586329Z",
     "iopub.status.busy": "2025-08-19T18:12:05.585819Z",
     "iopub.status.idle": "2025-08-19T18:12:05.725748Z",
     "shell.execute_reply": "2025-08-19T18:12:05.724978Z"
    },
    "papermill": {
     "duration": 0.160967,
     "end_time": "2025-08-19T18:12:05.728801",
     "exception": false,
     "start_time": "2025-08-19T18:12:05.567834",
     "status": "completed"
    },
    "tags": []
   },
   "outputs": [],
   "source": [
    "# Auxiliary data needed downstream in the pipeline\n",
    "\n",
    "org_train = X_train.copy()\n",
    "org_test = X_test.copy()\n",
    "org_calib = X_calib.copy()"
   ]
  },
  {
   "cell_type": "markdown",
   "id": "b461e618",
   "metadata": {
    "papermill": {
     "duration": 0.015556,
     "end_time": "2025-08-19T18:12:05.768917",
     "exception": false,
     "start_time": "2025-08-19T18:12:05.753361",
     "status": "completed"
    },
    "tags": []
   },
   "source": [
    "# Preprocessing Data"
   ]
  },
  {
   "cell_type": "code",
   "execution_count": 21,
   "id": "78e74c4b",
   "metadata": {
    "execution": {
     "iopub.execute_input": "2025-08-19T18:12:05.792430Z",
     "iopub.status.busy": "2025-08-19T18:12:05.790935Z",
     "iopub.status.idle": "2025-08-19T18:12:05.800018Z",
     "shell.execute_reply": "2025-08-19T18:12:05.798704Z"
    },
    "papermill": {
     "duration": 0.022394,
     "end_time": "2025-08-19T18:12:05.801444",
     "exception": false,
     "start_time": "2025-08-19T18:12:05.779050",
     "status": "completed"
    },
    "tags": []
   },
   "outputs": [],
   "source": [
    "# EXCLUDE PROTECTED FEATURES\n",
    "# --------------------------\n",
    "\n",
    "excluded_features = universe[\"exclude_features\"].split(\"-\")\n",
    "excluded_features_dictionary = {\n",
    "    \"nationality\": [\"maxdeutsch1\", \"maxdeutsch.Missing.\"],\n",
    "    \"sex\": [\"frau1\"],\n",
    "    \"age\": [\"age\"],\n",
    "}"
   ]
  },
  {
   "cell_type": "code",
   "execution_count": 22,
   "id": "f8e63555",
   "metadata": {
    "execution": {
     "iopub.execute_input": "2025-08-19T18:12:05.827626Z",
     "iopub.status.busy": "2025-08-19T18:12:05.826355Z",
     "iopub.status.idle": "2025-08-19T18:12:05.834926Z",
     "shell.execute_reply": "2025-08-19T18:12:05.833706Z"
    },
    "papermill": {
     "duration": 0.021782,
     "end_time": "2025-08-19T18:12:05.836350",
     "exception": false,
     "start_time": "2025-08-19T18:12:05.814568",
     "status": "completed"
    },
    "tags": []
   },
   "outputs": [],
   "source": [
    "excluded_features_columns = [\n",
    "    excluded_features_dictionary[f] for f in excluded_features if len(f) > 0 and f != \"none\"\n",
    "]"
   ]
  },
  {
   "cell_type": "code",
   "execution_count": 23,
   "id": "da781f7c",
   "metadata": {
    "execution": {
     "iopub.execute_input": "2025-08-19T18:12:05.869986Z",
     "iopub.status.busy": "2025-08-19T18:12:05.868973Z",
     "iopub.status.idle": "2025-08-19T18:12:05.875531Z",
     "shell.execute_reply": "2025-08-19T18:12:05.874453Z"
    },
    "papermill": {
     "duration": 0.02982,
     "end_time": "2025-08-19T18:12:05.878839",
     "exception": false,
     "start_time": "2025-08-19T18:12:05.849019",
     "status": "completed"
    },
    "tags": []
   },
   "outputs": [],
   "source": [
    "from fairness_multiverse.universe import flatten_once\n",
    "\n",
    "excluded_features_columns = flatten_once(excluded_features_columns)"
   ]
  },
  {
   "cell_type": "code",
   "execution_count": 24,
   "id": "37fef0f0",
   "metadata": {
    "execution": {
     "iopub.execute_input": "2025-08-19T18:12:05.905692Z",
     "iopub.status.busy": "2025-08-19T18:12:05.904803Z",
     "iopub.status.idle": "2025-08-19T18:12:05.909837Z",
     "shell.execute_reply": "2025-08-19T18:12:05.909144Z"
    },
    "papermill": {
     "duration": 0.017648,
     "end_time": "2025-08-19T18:12:05.911149",
     "exception": false,
     "start_time": "2025-08-19T18:12:05.893501",
     "status": "completed"
    },
    "tags": []
   },
   "outputs": [],
   "source": [
    "if len(excluded_features_columns) > 0:\n",
    "    print(f\"Dropping features: {excluded_features_columns}\")\n",
    "    X_train.drop(excluded_features_columns, axis=1, inplace=True)"
   ]
  },
  {
   "cell_type": "code",
   "execution_count": 25,
   "id": "d029e3e9",
   "metadata": {
    "execution": {
     "iopub.execute_input": "2025-08-19T18:12:05.934377Z",
     "iopub.status.busy": "2025-08-19T18:12:05.933551Z",
     "iopub.status.idle": "2025-08-19T18:12:05.954875Z",
     "shell.execute_reply": "2025-08-19T18:12:05.954101Z"
    },
    "papermill": {
     "duration": 0.034884,
     "end_time": "2025-08-19T18:12:05.957104",
     "exception": false,
     "start_time": "2025-08-19T18:12:05.922220",
     "status": "completed"
    },
    "tags": []
   },
   "outputs": [],
   "source": [
    "if len(excluded_features_columns) > 0:\n",
    "    print(f\"Dropping features: {excluded_features_columns}\")\n",
    "    X_test.drop(excluded_features_columns, axis=1, inplace=True)"
   ]
  },
  {
   "cell_type": "code",
   "execution_count": 26,
   "id": "01d571f0",
   "metadata": {
    "execution": {
     "iopub.execute_input": "2025-08-19T18:12:05.992234Z",
     "iopub.status.busy": "2025-08-19T18:12:05.991104Z",
     "iopub.status.idle": "2025-08-19T18:12:05.997178Z",
     "shell.execute_reply": "2025-08-19T18:12:05.996277Z"
    },
    "papermill": {
     "duration": 0.023014,
     "end_time": "2025-08-19T18:12:05.998751",
     "exception": false,
     "start_time": "2025-08-19T18:12:05.975737",
     "status": "completed"
    },
    "tags": []
   },
   "outputs": [],
   "source": [
    "if len(excluded_features_columns) > 0:\n",
    "    print(f\"Dropping features: {excluded_features_columns}\")\n",
    "    X_calib.drop(excluded_features_columns, axis=1, inplace=True)"
   ]
  },
  {
   "cell_type": "code",
   "execution_count": 27,
   "id": "3037356e",
   "metadata": {
    "execution": {
     "iopub.execute_input": "2025-08-19T18:12:06.038060Z",
     "iopub.status.busy": "2025-08-19T18:12:06.037765Z",
     "iopub.status.idle": "2025-08-19T18:12:06.043933Z",
     "shell.execute_reply": "2025-08-19T18:12:06.043198Z"
    },
    "papermill": {
     "duration": 0.036182,
     "end_time": "2025-08-19T18:12:06.045723",
     "exception": false,
     "start_time": "2025-08-19T18:12:06.009541",
     "status": "completed"
    },
    "tags": []
   },
   "outputs": [],
   "source": [
    "# EXCLUDE CERTAIN SUBGROUPS\n",
    "# -------------------------\n",
    "\n",
    "mode = universe.get(\"exclude_subgroups\", \"keep-all\") # Defaults to \"keep-all\" if the key is missing."
   ]
  },
  {
   "cell_type": "code",
   "execution_count": 28,
   "id": "9d1e63fd",
   "metadata": {
    "execution": {
     "iopub.execute_input": "2025-08-19T18:12:06.084204Z",
     "iopub.status.busy": "2025-08-19T18:12:06.083880Z",
     "iopub.status.idle": "2025-08-19T18:12:06.091375Z",
     "shell.execute_reply": "2025-08-19T18:12:06.090595Z"
    },
    "papermill": {
     "duration": 0.023714,
     "end_time": "2025-08-19T18:12:06.093776",
     "exception": false,
     "start_time": "2025-08-19T18:12:06.070062",
     "status": "completed"
    },
    "tags": []
   },
   "outputs": [],
   "source": [
    "if mode == \"keep-all\":\n",
    "    keep_mask = pd.Series(True, index=org_train.index)\n",
    "\n",
    "elif mode == \"drop-non-german\":\n",
    "    keep_mask = (org_train[\"maxdeutsch1\"] == 1) & (org_train[\"maxdeutsch.Missing.\"] == 0)\n",
    "\n",
    "else:\n",
    "    raise ValueError(f\"Unsupported mode for exclude_subgroups: {mode}\")"
   ]
  },
  {
   "cell_type": "code",
   "execution_count": 29,
   "id": "d3b65474",
   "metadata": {
    "execution": {
     "iopub.execute_input": "2025-08-19T18:12:06.146647Z",
     "iopub.status.busy": "2025-08-19T18:12:06.146113Z",
     "iopub.status.idle": "2025-08-19T18:12:06.152886Z",
     "shell.execute_reply": "2025-08-19T18:12:06.152151Z"
    },
    "papermill": {
     "duration": 0.026154,
     "end_time": "2025-08-19T18:12:06.154344",
     "exception": false,
     "start_time": "2025-08-19T18:12:06.128190",
     "status": "completed"
    },
    "tags": []
   },
   "outputs": [
    {
     "name": "stdout",
     "output_type": "stream",
     "text": [
      "Dropping 3481 rows (13.92%) where mode='drop-non-german'\n"
     ]
    }
   ],
   "source": [
    "n_drop = (~keep_mask).sum() # Calculates how many rows are set to be dropped\n",
    "if n_drop > 0:\n",
    "    pct = n_drop / len(keep_mask) * 100\n",
    "    print(f\"Dropping {n_drop} rows ({pct:.2f}%) where mode='{mode}'\")"
   ]
  },
  {
   "cell_type": "code",
   "execution_count": 30,
   "id": "f44389b3",
   "metadata": {
    "execution": {
     "iopub.execute_input": "2025-08-19T18:12:06.177784Z",
     "iopub.status.busy": "2025-08-19T18:12:06.177464Z",
     "iopub.status.idle": "2025-08-19T18:12:06.200958Z",
     "shell.execute_reply": "2025-08-19T18:12:06.200191Z"
    },
    "papermill": {
     "duration": 0.038492,
     "end_time": "2025-08-19T18:12:06.203743",
     "exception": false,
     "start_time": "2025-08-19T18:12:06.165251",
     "status": "completed"
    },
    "tags": []
   },
   "outputs": [],
   "source": [
    "X_train = X_train[keep_mask]"
   ]
  },
  {
   "cell_type": "code",
   "execution_count": 31,
   "id": "ceca8c2a",
   "metadata": {
    "execution": {
     "iopub.execute_input": "2025-08-19T18:12:06.226752Z",
     "iopub.status.busy": "2025-08-19T18:12:06.226289Z",
     "iopub.status.idle": "2025-08-19T18:12:06.231492Z",
     "shell.execute_reply": "2025-08-19T18:12:06.230780Z"
    },
    "papermill": {
     "duration": 0.018133,
     "end_time": "2025-08-19T18:12:06.232835",
     "exception": false,
     "start_time": "2025-08-19T18:12:06.214702",
     "status": "completed"
    },
    "tags": []
   },
   "outputs": [],
   "source": [
    "y_train = y_train[keep_mask]"
   ]
  },
  {
   "cell_type": "markdown",
   "id": "04d31e2f",
   "metadata": {
    "papermill": {
     "duration": 0.010563,
     "end_time": "2025-08-19T18:12:06.254001",
     "exception": false,
     "start_time": "2025-08-19T18:12:06.243438",
     "status": "completed"
    },
    "tags": []
   },
   "source": [
    "# Model Training"
   ]
  },
  {
   "cell_type": "code",
   "execution_count": 32,
   "id": "db991733",
   "metadata": {
    "execution": {
     "iopub.execute_input": "2025-08-19T18:12:06.276637Z",
     "iopub.status.busy": "2025-08-19T18:12:06.276292Z",
     "iopub.status.idle": "2025-08-19T18:12:06.381965Z",
     "shell.execute_reply": "2025-08-19T18:12:06.381201Z"
    },
    "papermill": {
     "duration": 0.118995,
     "end_time": "2025-08-19T18:12:06.383570",
     "exception": false,
     "start_time": "2025-08-19T18:12:06.264575",
     "status": "completed"
    },
    "tags": []
   },
   "outputs": [],
   "source": [
    "from sklearn.linear_model import LogisticRegression\n",
    "from sklearn.ensemble import GradientBoostingClassifier, RandomForestClassifier\n",
    "\n",
    "if (universe[\"model\"] == \"logreg\"):\n",
    "    model = LogisticRegression() #penalty=\"none\", solver=\"newton-cg\", max_iter=1)\n",
    "elif (universe[\"model\"] == \"penalized_logreg\"):\n",
    "    model = LogisticRegression(penalty=\"l2\", C=0.1) #, solver=\"newton-cg\", max_iter=1)\n",
    "elif (universe[\"model\"] == \"rf\"):\n",
    "    model = RandomForestClassifier() # n_estimators=100, n_jobs=-1\n",
    "elif (universe[\"model\"] == \"gbm\"):\n",
    "    model = GradientBoostingClassifier()\n",
    "elif (universe[\"model\"] == \"elasticnet\"):\n",
    "    model = LogisticRegression(penalty = 'elasticnet', solver = 'saga', l1_ratio = 0.5) # max_iter=5000\n",
    "else:\n",
    "    raise \"Unsupported universe.model\""
   ]
  },
  {
   "cell_type": "code",
   "execution_count": 33,
   "id": "a4b5cd25",
   "metadata": {
    "execution": {
     "iopub.execute_input": "2025-08-19T18:12:06.430995Z",
     "iopub.status.busy": "2025-08-19T18:12:06.430298Z",
     "iopub.status.idle": "2025-08-19T18:12:06.440465Z",
     "shell.execute_reply": "2025-08-19T18:12:06.439253Z"
    },
    "papermill": {
     "duration": 0.03813,
     "end_time": "2025-08-19T18:12:06.443105",
     "exception": false,
     "start_time": "2025-08-19T18:12:06.404975",
     "status": "completed"
    },
    "tags": []
   },
   "outputs": [],
   "source": [
    "from sklearn.pipeline import Pipeline\n",
    "from sklearn.preprocessing import StandardScaler\n",
    "\n",
    "model = Pipeline([\n",
    "    #(\"continuous_processor\", continuous_processor),\n",
    "    #(\"categorical_preprocessor\", categorical_preprocessor),\n",
    "    (\"scale\", StandardScaler() if universe[\"scale\"] == \"scale\" else None), \n",
    "    (\"model\", model),\n",
    "])"
   ]
  },
  {
   "cell_type": "code",
   "execution_count": 34,
   "id": "283a904d",
   "metadata": {
    "execution": {
     "iopub.execute_input": "2025-08-19T18:12:06.485869Z",
     "iopub.status.busy": "2025-08-19T18:12:06.484544Z",
     "iopub.status.idle": "2025-08-19T18:12:12.614827Z",
     "shell.execute_reply": "2025-08-19T18:12:12.613635Z"
    },
    "papermill": {
     "duration": 6.149833,
     "end_time": "2025-08-19T18:12:12.616097",
     "exception": false,
     "start_time": "2025-08-19T18:12:06.466264",
     "status": "completed"
    },
    "tags": []
   },
   "outputs": [
    {
     "name": "stderr",
     "output_type": "stream",
     "text": [
      "/dss/dsshome1/0C/ra93lal2/.local/share/virtualenvs/CMA_Fairness_v2-3j10GkSs/lib/python3.10/site-packages/sklearn/linear_model/_sag.py:350: ConvergenceWarning: The max_iter was reached which means the coef_ did not converge\n",
      "  warnings.warn(\n"
     ]
    },
    {
     "data": {
      "text/html": [
       "<style>#sk-container-id-1 {color: black;background-color: white;}#sk-container-id-1 pre{padding: 0;}#sk-container-id-1 div.sk-toggleable {background-color: white;}#sk-container-id-1 label.sk-toggleable__label {cursor: pointer;display: block;width: 100%;margin-bottom: 0;padding: 0.3em;box-sizing: border-box;text-align: center;}#sk-container-id-1 label.sk-toggleable__label-arrow:before {content: \"▸\";float: left;margin-right: 0.25em;color: #696969;}#sk-container-id-1 label.sk-toggleable__label-arrow:hover:before {color: black;}#sk-container-id-1 div.sk-estimator:hover label.sk-toggleable__label-arrow:before {color: black;}#sk-container-id-1 div.sk-toggleable__content {max-height: 0;max-width: 0;overflow: hidden;text-align: left;background-color: #f0f8ff;}#sk-container-id-1 div.sk-toggleable__content pre {margin: 0.2em;color: black;border-radius: 0.25em;background-color: #f0f8ff;}#sk-container-id-1 input.sk-toggleable__control:checked~div.sk-toggleable__content {max-height: 200px;max-width: 100%;overflow: auto;}#sk-container-id-1 input.sk-toggleable__control:checked~label.sk-toggleable__label-arrow:before {content: \"▾\";}#sk-container-id-1 div.sk-estimator input.sk-toggleable__control:checked~label.sk-toggleable__label {background-color: #d4ebff;}#sk-container-id-1 div.sk-label input.sk-toggleable__control:checked~label.sk-toggleable__label {background-color: #d4ebff;}#sk-container-id-1 input.sk-hidden--visually {border: 0;clip: rect(1px 1px 1px 1px);clip: rect(1px, 1px, 1px, 1px);height: 1px;margin: -1px;overflow: hidden;padding: 0;position: absolute;width: 1px;}#sk-container-id-1 div.sk-estimator {font-family: monospace;background-color: #f0f8ff;border: 1px dotted black;border-radius: 0.25em;box-sizing: border-box;margin-bottom: 0.5em;}#sk-container-id-1 div.sk-estimator:hover {background-color: #d4ebff;}#sk-container-id-1 div.sk-parallel-item::after {content: \"\";width: 100%;border-bottom: 1px solid gray;flex-grow: 1;}#sk-container-id-1 div.sk-label:hover label.sk-toggleable__label {background-color: #d4ebff;}#sk-container-id-1 div.sk-serial::before {content: \"\";position: absolute;border-left: 1px solid gray;box-sizing: border-box;top: 0;bottom: 0;left: 50%;z-index: 0;}#sk-container-id-1 div.sk-serial {display: flex;flex-direction: column;align-items: center;background-color: white;padding-right: 0.2em;padding-left: 0.2em;position: relative;}#sk-container-id-1 div.sk-item {position: relative;z-index: 1;}#sk-container-id-1 div.sk-parallel {display: flex;align-items: stretch;justify-content: center;background-color: white;position: relative;}#sk-container-id-1 div.sk-item::before, #sk-container-id-1 div.sk-parallel-item::before {content: \"\";position: absolute;border-left: 1px solid gray;box-sizing: border-box;top: 0;bottom: 0;left: 50%;z-index: -1;}#sk-container-id-1 div.sk-parallel-item {display: flex;flex-direction: column;z-index: 1;position: relative;background-color: white;}#sk-container-id-1 div.sk-parallel-item:first-child::after {align-self: flex-end;width: 50%;}#sk-container-id-1 div.sk-parallel-item:last-child::after {align-self: flex-start;width: 50%;}#sk-container-id-1 div.sk-parallel-item:only-child::after {width: 0;}#sk-container-id-1 div.sk-dashed-wrapped {border: 1px dashed gray;margin: 0 0.4em 0.5em 0.4em;box-sizing: border-box;padding-bottom: 0.4em;background-color: white;}#sk-container-id-1 div.sk-label label {font-family: monospace;font-weight: bold;display: inline-block;line-height: 1.2em;}#sk-container-id-1 div.sk-label-container {text-align: center;}#sk-container-id-1 div.sk-container {/* jupyter's `normalize.less` sets `[hidden] { display: none; }` but bootstrap.min.css set `[hidden] { display: none !important; }` so we also need the `!important` here to be able to override the default hidden behavior on the sphinx rendered scikit-learn.org. See: https://github.com/scikit-learn/scikit-learn/issues/21755 */display: inline-block !important;position: relative;}#sk-container-id-1 div.sk-text-repr-fallback {display: none;}</style><div id=\"sk-container-id-1\" class=\"sk-top-container\"><div class=\"sk-text-repr-fallback\"><pre>Pipeline(steps=[(&#x27;scale&#x27;, None),\n",
       "                (&#x27;model&#x27;,\n",
       "                 LogisticRegression(l1_ratio=0.5, penalty=&#x27;elasticnet&#x27;,\n",
       "                                    solver=&#x27;saga&#x27;))])</pre><b>In a Jupyter environment, please rerun this cell to show the HTML representation or trust the notebook. <br />On GitHub, the HTML representation is unable to render, please try loading this page with nbviewer.org.</b></div><div class=\"sk-container\" hidden><div class=\"sk-item sk-dashed-wrapped\"><div class=\"sk-label-container\"><div class=\"sk-label sk-toggleable\"><input class=\"sk-toggleable__control sk-hidden--visually\" id=\"sk-estimator-id-1\" type=\"checkbox\" ><label for=\"sk-estimator-id-1\" class=\"sk-toggleable__label sk-toggleable__label-arrow\">Pipeline</label><div class=\"sk-toggleable__content\"><pre>Pipeline(steps=[(&#x27;scale&#x27;, None),\n",
       "                (&#x27;model&#x27;,\n",
       "                 LogisticRegression(l1_ratio=0.5, penalty=&#x27;elasticnet&#x27;,\n",
       "                                    solver=&#x27;saga&#x27;))])</pre></div></div></div><div class=\"sk-serial\"><div class=\"sk-item\"><div class=\"sk-estimator sk-toggleable\"><input class=\"sk-toggleable__control sk-hidden--visually\" id=\"sk-estimator-id-2\" type=\"checkbox\" ><label for=\"sk-estimator-id-2\" class=\"sk-toggleable__label sk-toggleable__label-arrow\">None</label><div class=\"sk-toggleable__content\"><pre>None</pre></div></div></div><div class=\"sk-item\"><div class=\"sk-estimator sk-toggleable\"><input class=\"sk-toggleable__control sk-hidden--visually\" id=\"sk-estimator-id-3\" type=\"checkbox\" ><label for=\"sk-estimator-id-3\" class=\"sk-toggleable__label sk-toggleable__label-arrow\">LogisticRegression</label><div class=\"sk-toggleable__content\"><pre>LogisticRegression(l1_ratio=0.5, penalty=&#x27;elasticnet&#x27;, solver=&#x27;saga&#x27;)</pre></div></div></div></div></div></div></div>"
      ],
      "text/plain": [
       "Pipeline(steps=[('scale', None),\n",
       "                ('model',\n",
       "                 LogisticRegression(l1_ratio=0.5, penalty='elasticnet',\n",
       "                                    solver='saga'))])"
      ]
     },
     "execution_count": 34,
     "metadata": {},
     "output_type": "execute_result"
    }
   ],
   "source": [
    "model.fit(X_train, y_train.values.ravel())"
   ]
  },
  {
   "cell_type": "code",
   "execution_count": 35,
   "id": "6e15e313",
   "metadata": {
    "execution": {
     "iopub.execute_input": "2025-08-19T18:12:12.645342Z",
     "iopub.status.busy": "2025-08-19T18:12:12.644143Z",
     "iopub.status.idle": "2025-08-19T18:12:12.764551Z",
     "shell.execute_reply": "2025-08-19T18:12:12.763823Z"
    },
    "papermill": {
     "duration": 0.135824,
     "end_time": "2025-08-19T18:12:12.765906",
     "exception": false,
     "start_time": "2025-08-19T18:12:12.630082",
     "status": "completed"
    },
    "tags": []
   },
   "outputs": [
    {
     "data": {
      "text/plain": [
       "0.8653550328837365"
      ]
     },
     "execution_count": 35,
     "metadata": {},
     "output_type": "execute_result"
    }
   ],
   "source": [
    "from fairness_multiverse.universe import predict_w_threshold\n",
    "\n",
    "probs_test = model.predict_proba(X_test)\n",
    "\n",
    "'''\n",
    "Below code returns a boolean array (or binary 0/1 array depending on how it’s used) where each element \n",
    "is True if the probability of class 1 is greater than or equal to the threshold, and False otherwise.\n",
    "'''\n",
    "y_pred_default = predict_w_threshold(probs_test, 0.5)\n",
    "\n",
    "from sklearn.metrics import accuracy_score\n",
    "\n",
    "# Naive prediction\n",
    "accuracy_score(y_true = y_true, y_pred = y_pred_default)"
   ]
  },
  {
   "cell_type": "code",
   "execution_count": 36,
   "id": "6f14067c",
   "metadata": {
    "execution": {
     "iopub.execute_input": "2025-08-19T18:12:12.792286Z",
     "iopub.status.busy": "2025-08-19T18:12:12.791519Z",
     "iopub.status.idle": "2025-08-19T18:12:12.892023Z",
     "shell.execute_reply": "2025-08-19T18:12:12.890991Z"
    },
    "papermill": {
     "duration": 0.116246,
     "end_time": "2025-08-19T18:12:12.895215",
     "exception": false,
     "start_time": "2025-08-19T18:12:12.778969",
     "status": "completed"
    },
    "tags": []
   },
   "outputs": [
    {
     "data": {
      "text/plain": [
       "array([0, 0, 0, ..., 0, 0, 0])"
      ]
     },
     "execution_count": 36,
     "metadata": {},
     "output_type": "execute_result"
    }
   ],
   "source": [
    "model.predict(X_test)"
   ]
  },
  {
   "cell_type": "markdown",
   "id": "3759920c",
   "metadata": {
    "papermill": {
     "duration": 0.019425,
     "end_time": "2025-08-19T18:12:12.957379",
     "exception": false,
     "start_time": "2025-08-19T18:12:12.937954",
     "status": "completed"
    },
    "tags": []
   },
   "source": [
    "# Conformal Prediction"
   ]
  },
  {
   "cell_type": "code",
   "execution_count": 37,
   "id": "14b27f59",
   "metadata": {
    "execution": {
     "iopub.execute_input": "2025-08-19T18:12:12.994551Z",
     "iopub.status.busy": "2025-08-19T18:12:12.993400Z",
     "iopub.status.idle": "2025-08-19T18:12:13.000436Z",
     "shell.execute_reply": "2025-08-19T18:12:12.999633Z"
    },
    "papermill": {
     "duration": 0.033776,
     "end_time": "2025-08-19T18:12:13.002845",
     "exception": false,
     "start_time": "2025-08-19T18:12:12.969069",
     "status": "completed"
    },
    "tags": []
   },
   "outputs": [],
   "source": [
    "# Miscoverage level for conformal prediction (10% allowed error rate => 90% target coverage)\n",
    "alpha = 0.1"
   ]
  },
  {
   "cell_type": "code",
   "execution_count": 38,
   "id": "59102472",
   "metadata": {
    "execution": {
     "iopub.execute_input": "2025-08-19T18:12:13.029216Z",
     "iopub.status.busy": "2025-08-19T18:12:13.028680Z",
     "iopub.status.idle": "2025-08-19T18:12:13.120421Z",
     "shell.execute_reply": "2025-08-19T18:12:13.119314Z"
    },
    "papermill": {
     "duration": 0.10544,
     "end_time": "2025-08-19T18:12:13.122044",
     "exception": false,
     "start_time": "2025-08-19T18:12:13.016604",
     "status": "completed"
    },
    "tags": []
   },
   "outputs": [],
   "source": [
    "probs_calib = model.predict_proba(X_calib)"
   ]
  },
  {
   "cell_type": "code",
   "execution_count": 39,
   "id": "a792d4dd",
   "metadata": {
    "execution": {
     "iopub.execute_input": "2025-08-19T18:12:13.150482Z",
     "iopub.status.busy": "2025-08-19T18:12:13.149298Z",
     "iopub.status.idle": "2025-08-19T18:12:13.160037Z",
     "shell.execute_reply": "2025-08-19T18:12:13.158181Z"
    },
    "papermill": {
     "duration": 0.024739,
     "end_time": "2025-08-19T18:12:13.161702",
     "exception": false,
     "start_time": "2025-08-19T18:12:13.136963",
     "status": "completed"
    },
    "tags": []
   },
   "outputs": [],
   "source": [
    "y_calib = y_calib.values.ravel().astype(int)"
   ]
  },
  {
   "cell_type": "code",
   "execution_count": 40,
   "id": "650fd033",
   "metadata": {
    "execution": {
     "iopub.execute_input": "2025-08-19T18:12:13.191682Z",
     "iopub.status.busy": "2025-08-19T18:12:13.190504Z",
     "iopub.status.idle": "2025-08-19T18:12:13.204750Z",
     "shell.execute_reply": "2025-08-19T18:12:13.203405Z"
    },
    "papermill": {
     "duration": 0.02912,
     "end_time": "2025-08-19T18:12:13.206362",
     "exception": false,
     "start_time": "2025-08-19T18:12:13.177242",
     "status": "completed"
    },
    "tags": []
   },
   "outputs": [],
   "source": [
    "from fairness_multiverse.conformal import compute_nc_scores\n",
    "\n",
    "# Compute nonconformity scores on calibration set (1 - probability of true class)\n",
    "nc_scores = compute_nc_scores(probs_calib, y_calib)"
   ]
  },
  {
   "cell_type": "code",
   "execution_count": 41,
   "id": "28ada44c",
   "metadata": {
    "execution": {
     "iopub.execute_input": "2025-08-19T18:12:13.241196Z",
     "iopub.status.busy": "2025-08-19T18:12:13.239139Z",
     "iopub.status.idle": "2025-08-19T18:12:13.253293Z",
     "shell.execute_reply": "2025-08-19T18:12:13.251857Z"
    },
    "papermill": {
     "duration": 0.030588,
     "end_time": "2025-08-19T18:12:13.254767",
     "exception": false,
     "start_time": "2025-08-19T18:12:13.224179",
     "status": "completed"
    },
    "tags": []
   },
   "outputs": [],
   "source": [
    "from fairness_multiverse.conformal import find_threshold\n",
    "\n",
    "# Find conformal threshold q_hat for the given alpha (split conformal method)\n",
    "q_hat = find_threshold(nc_scores, alpha)"
   ]
  },
  {
   "cell_type": "code",
   "execution_count": 42,
   "id": "df56469e",
   "metadata": {
    "execution": {
     "iopub.execute_input": "2025-08-19T18:12:13.285104Z",
     "iopub.status.busy": "2025-08-19T18:12:13.283262Z",
     "iopub.status.idle": "2025-08-19T18:12:13.295759Z",
     "shell.execute_reply": "2025-08-19T18:12:13.294612Z"
    },
    "papermill": {
     "duration": 0.027409,
     "end_time": "2025-08-19T18:12:13.297259",
     "exception": false,
     "start_time": "2025-08-19T18:12:13.269850",
     "status": "completed"
    },
    "tags": []
   },
   "outputs": [
    {
     "data": {
      "text/plain": [
       "0.6575029570716353"
      ]
     },
     "execution_count": 42,
     "metadata": {},
     "output_type": "execute_result"
    }
   ],
   "source": [
    "q_hat"
   ]
  },
  {
   "cell_type": "code",
   "execution_count": 43,
   "id": "aa1f5faa",
   "metadata": {
    "execution": {
     "iopub.execute_input": "2025-08-19T18:12:13.326981Z",
     "iopub.status.busy": "2025-08-19T18:12:13.325867Z",
     "iopub.status.idle": "2025-08-19T18:12:13.842100Z",
     "shell.execute_reply": "2025-08-19T18:12:13.841379Z"
    },
    "papermill": {
     "duration": 0.53065,
     "end_time": "2025-08-19T18:12:13.843542",
     "exception": false,
     "start_time": "2025-08-19T18:12:13.312892",
     "status": "completed"
    },
    "tags": []
   },
   "outputs": [],
   "source": [
    "from fairness_multiverse.conformal import predict_conformal_sets\n",
    "\n",
    "# Generate prediction sets for each test example\n",
    "pred_sets = predict_conformal_sets(model, X_test, q_hat)"
   ]
  },
  {
   "cell_type": "code",
   "execution_count": 44,
   "id": "97f67a6b",
   "metadata": {
    "execution": {
     "iopub.execute_input": "2025-08-19T18:12:13.896396Z",
     "iopub.status.busy": "2025-08-19T18:12:13.896033Z",
     "iopub.status.idle": "2025-08-19T18:12:13.901337Z",
     "shell.execute_reply": "2025-08-19T18:12:13.900711Z"
    },
    "papermill": {
     "duration": 0.032604,
     "end_time": "2025-08-19T18:12:13.904856",
     "exception": false,
     "start_time": "2025-08-19T18:12:13.872252",
     "status": "completed"
    },
    "tags": []
   },
   "outputs": [],
   "source": [
    "y_true = y_true.squeeze()"
   ]
  },
  {
   "cell_type": "code",
   "execution_count": 45,
   "id": "e700e9a7",
   "metadata": {
    "execution": {
     "iopub.execute_input": "2025-08-19T18:12:13.933424Z",
     "iopub.status.busy": "2025-08-19T18:12:13.933113Z",
     "iopub.status.idle": "2025-08-19T18:12:14.441084Z",
     "shell.execute_reply": "2025-08-19T18:12:14.440326Z"
    },
    "papermill": {
     "duration": 0.522446,
     "end_time": "2025-08-19T18:12:14.442937",
     "exception": false,
     "start_time": "2025-08-19T18:12:13.920491",
     "status": "completed"
    },
    "tags": []
   },
   "outputs": [],
   "source": [
    "from fairness_multiverse.conformal import evaluate_sets\n",
    "\n",
    "# Evaluate coverage and average set size on test data\n",
    "metrics = evaluate_sets(pred_sets, y_true)"
   ]
  },
  {
   "cell_type": "markdown",
   "id": "efbacec0",
   "metadata": {
    "papermill": {
     "duration": 0.011509,
     "end_time": "2025-08-19T18:12:14.466769",
     "exception": false,
     "start_time": "2025-08-19T18:12:14.455260",
     "status": "completed"
    },
    "tags": []
   },
   "source": [
    "# CP Metrics"
   ]
  },
  {
   "cell_type": "code",
   "execution_count": 46,
   "id": "9de55fb1",
   "metadata": {
    "execution": {
     "iopub.execute_input": "2025-08-19T18:12:14.494796Z",
     "iopub.status.busy": "2025-08-19T18:12:14.494301Z",
     "iopub.status.idle": "2025-08-19T18:12:14.500014Z",
     "shell.execute_reply": "2025-08-19T18:12:14.499411Z"
    },
    "papermill": {
     "duration": 0.022538,
     "end_time": "2025-08-19T18:12:14.504166",
     "exception": false,
     "start_time": "2025-08-19T18:12:14.481628",
     "status": "completed"
    },
    "tags": []
   },
   "outputs": [
    {
     "data": {
      "text/plain": [
       "{'coverage': 0.9139003455579088, 'avg_size': 1.2490469289934232}"
      ]
     },
     "execution_count": 46,
     "metadata": {},
     "output_type": "execute_result"
    }
   ],
   "source": [
    "metrics"
   ]
  },
  {
   "cell_type": "code",
   "execution_count": 47,
   "id": "64c340a1",
   "metadata": {
    "execution": {
     "iopub.execute_input": "2025-08-19T18:12:14.530019Z",
     "iopub.status.busy": "2025-08-19T18:12:14.529575Z",
     "iopub.status.idle": "2025-08-19T18:12:14.534588Z",
     "shell.execute_reply": "2025-08-19T18:12:14.533976Z"
    },
    "papermill": {
     "duration": 0.019339,
     "end_time": "2025-08-19T18:12:14.536223",
     "exception": false,
     "start_time": "2025-08-19T18:12:14.516884",
     "status": "completed"
    },
    "tags": []
   },
   "outputs": [],
   "source": [
    "example_universe = universe.copy()\n",
    "universe_training_year = example_universe.get(\"training_year\")\n",
    "universe_training_size = example_universe.get(\"training_size\")\n",
    "universe_scale = example_universe.get(\"scale\")\n",
    "universe_model = example_universe.get(\"model\")\n",
    "universe_exclude_features = example_universe.get(\"exclude_features\")\n",
    "universe_exclude_subgroups = example_universe.get(\"exclude_subgroups\")"
   ]
  },
  {
   "cell_type": "code",
   "execution_count": 48,
   "id": "dbb53cb4",
   "metadata": {
    "execution": {
     "iopub.execute_input": "2025-08-19T18:12:14.561591Z",
     "iopub.status.busy": "2025-08-19T18:12:14.561163Z",
     "iopub.status.idle": "2025-08-19T18:12:14.566377Z",
     "shell.execute_reply": "2025-08-19T18:12:14.565767Z"
    },
    "papermill": {
     "duration": 0.019957,
     "end_time": "2025-08-19T18:12:14.567890",
     "exception": false,
     "start_time": "2025-08-19T18:12:14.547933",
     "status": "completed"
    },
    "tags": []
   },
   "outputs": [],
   "source": [
    "cp_metrics_dict = {\n",
    "    \"universe_id\": [universe_id],\n",
    "    \"universe_training_year\": [universe_training_year],\n",
    "    \"universe_training_size\": [universe_training_size],\n",
    "    \"universe_scale\": [universe_scale],\n",
    "    \"universe_model\": [universe_model],\n",
    "    \"universe_exclude_features\": [universe_exclude_features],\n",
    "    \"universe_exclude_subgroups\": [universe_exclude_subgroups],\n",
    "    \"q_hat\": [q_hat],\n",
    "    \"coverage\": [metrics[\"coverage\"]],\n",
    "    \"avg_size\": [metrics[\"avg_size\"]],\n",
    "}"
   ]
  },
  {
   "cell_type": "code",
   "execution_count": 49,
   "id": "0d70d4b2",
   "metadata": {
    "execution": {
     "iopub.execute_input": "2025-08-19T18:12:14.595611Z",
     "iopub.status.busy": "2025-08-19T18:12:14.595166Z",
     "iopub.status.idle": "2025-08-19T18:12:14.600357Z",
     "shell.execute_reply": "2025-08-19T18:12:14.599754Z"
    },
    "papermill": {
     "duration": 0.019258,
     "end_time": "2025-08-19T18:12:14.601879",
     "exception": false,
     "start_time": "2025-08-19T18:12:14.582621",
     "status": "completed"
    },
    "tags": []
   },
   "outputs": [],
   "source": [
    "cp_metrics_df = pd.DataFrame(cp_metrics_dict)"
   ]
  },
  {
   "cell_type": "code",
   "execution_count": 50,
   "id": "b494403c",
   "metadata": {
    "execution": {
     "iopub.execute_input": "2025-08-19T18:12:14.626894Z",
     "iopub.status.busy": "2025-08-19T18:12:14.626419Z",
     "iopub.status.idle": "2025-08-19T18:12:14.639754Z",
     "shell.execute_reply": "2025-08-19T18:12:14.639011Z"
    },
    "papermill": {
     "duration": 0.030115,
     "end_time": "2025-08-19T18:12:14.643716",
     "exception": false,
     "start_time": "2025-08-19T18:12:14.613601",
     "status": "completed"
    },
    "tags": []
   },
   "outputs": [
    {
     "data": {
      "text/html": [
       "<div>\n",
       "<style scoped>\n",
       "    .dataframe tbody tr th:only-of-type {\n",
       "        vertical-align: middle;\n",
       "    }\n",
       "\n",
       "    .dataframe tbody tr th {\n",
       "        vertical-align: top;\n",
       "    }\n",
       "\n",
       "    .dataframe thead th {\n",
       "        text-align: right;\n",
       "    }\n",
       "</style>\n",
       "<table border=\"1\" class=\"dataframe\">\n",
       "  <thead>\n",
       "    <tr style=\"text-align: right;\">\n",
       "      <th></th>\n",
       "      <th>universe_id</th>\n",
       "      <th>universe_training_year</th>\n",
       "      <th>universe_training_size</th>\n",
       "      <th>universe_scale</th>\n",
       "      <th>universe_model</th>\n",
       "      <th>universe_exclude_features</th>\n",
       "      <th>universe_exclude_subgroups</th>\n",
       "      <th>q_hat</th>\n",
       "      <th>coverage</th>\n",
       "      <th>avg_size</th>\n",
       "    </tr>\n",
       "  </thead>\n",
       "  <tbody>\n",
       "    <tr>\n",
       "      <th>0</th>\n",
       "      <td>6a8ff61bc4ba40f289069a0c0aaa27c7</td>\n",
       "      <td>2012_14</td>\n",
       "      <td>25k</td>\n",
       "      <td>do-not-scale</td>\n",
       "      <td>elasticnet</td>\n",
       "      <td>none</td>\n",
       "      <td>drop-non-german</td>\n",
       "      <td>0.657503</td>\n",
       "      <td>0.9139</td>\n",
       "      <td>1.249047</td>\n",
       "    </tr>\n",
       "  </tbody>\n",
       "</table>\n",
       "</div>"
      ],
      "text/plain": [
       "                        universe_id universe_training_year  \\\n",
       "0  6a8ff61bc4ba40f289069a0c0aaa27c7                2012_14   \n",
       "\n",
       "  universe_training_size universe_scale universe_model  \\\n",
       "0                    25k   do-not-scale     elasticnet   \n",
       "\n",
       "  universe_exclude_features universe_exclude_subgroups     q_hat  coverage  \\\n",
       "0                      none            drop-non-german  0.657503    0.9139   \n",
       "\n",
       "   avg_size  \n",
       "0  1.249047  "
      ]
     },
     "execution_count": 50,
     "metadata": {},
     "output_type": "execute_result"
    }
   ],
   "source": [
    "cp_metrics_df"
   ]
  },
  {
   "cell_type": "markdown",
   "id": "ed608b0b",
   "metadata": {
    "papermill": {
     "duration": 0.012798,
     "end_time": "2025-08-19T18:12:14.676740",
     "exception": false,
     "start_time": "2025-08-19T18:12:14.663942",
     "status": "completed"
    },
    "tags": []
   },
   "source": [
    "Conditional coverage & looking at subgroups"
   ]
  },
  {
   "cell_type": "code",
   "execution_count": 51,
   "id": "8968c366",
   "metadata": {
    "execution": {
     "iopub.execute_input": "2025-08-19T18:12:14.706168Z",
     "iopub.status.busy": "2025-08-19T18:12:14.704987Z",
     "iopub.status.idle": "2025-08-19T18:12:14.952603Z",
     "shell.execute_reply": "2025-08-19T18:12:14.951865Z"
    },
    "papermill": {
     "duration": 0.265232,
     "end_time": "2025-08-19T18:12:14.954006",
     "exception": false,
     "start_time": "2025-08-19T18:12:14.688774",
     "status": "completed"
    },
    "tags": []
   },
   "outputs": [],
   "source": [
    "from fairness_multiverse.conformal import build_cp_groups\n",
    "\n",
    "cp_groups_df = build_cp_groups(pred_sets, y_true, X_test.index, org_test)"
   ]
  },
  {
   "cell_type": "code",
   "execution_count": 52,
   "id": "292ddabf",
   "metadata": {
    "execution": {
     "iopub.execute_input": "2025-08-19T18:12:14.979658Z",
     "iopub.status.busy": "2025-08-19T18:12:14.979356Z",
     "iopub.status.idle": "2025-08-19T18:12:15.811922Z",
     "shell.execute_reply": "2025-08-19T18:12:15.810728Z"
    },
    "papermill": {
     "duration": 0.847114,
     "end_time": "2025-08-19T18:12:15.813569",
     "exception": false,
     "start_time": "2025-08-19T18:12:14.966455",
     "status": "completed"
    },
    "tags": []
   },
   "outputs": [],
   "source": [
    "# Define covered = 1 if true_label is in the predicted set\n",
    "cp_groups_df['covered'] = cp_groups_df.apply(\n",
    "    lambda r: int(r['true_label'] in r['pred_set']),\n",
    "    axis=1\n",
    ")"
   ]
  },
  {
   "cell_type": "code",
   "execution_count": 53,
   "id": "3a261692",
   "metadata": {
    "execution": {
     "iopub.execute_input": "2025-08-19T18:12:15.849791Z",
     "iopub.status.busy": "2025-08-19T18:12:15.849458Z",
     "iopub.status.idle": "2025-08-19T18:12:15.862514Z",
     "shell.execute_reply": "2025-08-19T18:12:15.861826Z"
    },
    "papermill": {
     "duration": 0.035854,
     "end_time": "2025-08-19T18:12:15.865148",
     "exception": false,
     "start_time": "2025-08-19T18:12:15.829294",
     "status": "completed"
    },
    "tags": []
   },
   "outputs": [],
   "source": [
    "subgroups = ['frau1','nongerman','nongerman_male','nongerman_female']\n",
    "\n",
    "# Conditional coverage for subgroup==1\n",
    "cond_coverage = {\n",
    "    g: cp_groups_df.loc[cp_groups_df[g]==1, 'covered'].mean()\n",
    "    for g in subgroups\n",
    "}"
   ]
  },
  {
   "cell_type": "code",
   "execution_count": 54,
   "id": "894fd600",
   "metadata": {
    "execution": {
     "iopub.execute_input": "2025-08-19T18:12:15.916927Z",
     "iopub.status.busy": "2025-08-19T18:12:15.913779Z",
     "iopub.status.idle": "2025-08-19T18:12:15.923818Z",
     "shell.execute_reply": "2025-08-19T18:12:15.922858Z"
    },
    "papermill": {
     "duration": 0.025341,
     "end_time": "2025-08-19T18:12:15.925195",
     "exception": false,
     "start_time": "2025-08-19T18:12:15.899854",
     "status": "completed"
    },
    "tags": []
   },
   "outputs": [
    {
     "data": {
      "text/plain": [
       "{'frau1': 0.9127375657096644,\n",
       " 'nongerman': 0.9608712737888059,\n",
       " 'nongerman_male': 0.9681167252094028,\n",
       " 'nongerman_female': 0.9488822652757078}"
      ]
     },
     "execution_count": 54,
     "metadata": {},
     "output_type": "execute_result"
    }
   ],
   "source": [
    "cond_coverage"
   ]
  },
  {
   "cell_type": "code",
   "execution_count": 55,
   "id": "942895c7",
   "metadata": {
    "execution": {
     "iopub.execute_input": "2025-08-19T18:12:15.964995Z",
     "iopub.status.busy": "2025-08-19T18:12:15.960389Z",
     "iopub.status.idle": "2025-08-19T18:12:15.983796Z",
     "shell.execute_reply": "2025-08-19T18:12:15.983007Z"
    },
    "papermill": {
     "duration": 0.038455,
     "end_time": "2025-08-19T18:12:15.985455",
     "exception": false,
     "start_time": "2025-08-19T18:12:15.947000",
     "status": "completed"
    },
    "tags": []
   },
   "outputs": [],
   "source": [
    "for subgroup, cov in cond_coverage.items():\n",
    "    cp_metrics_df[f\"cov_{subgroup}\"] = cov"
   ]
  },
  {
   "cell_type": "code",
   "execution_count": 56,
   "id": "3970120f",
   "metadata": {
    "execution": {
     "iopub.execute_input": "2025-08-19T18:12:16.031114Z",
     "iopub.status.busy": "2025-08-19T18:12:16.030664Z",
     "iopub.status.idle": "2025-08-19T18:12:16.046576Z",
     "shell.execute_reply": "2025-08-19T18:12:16.045689Z"
    },
    "papermill": {
     "duration": 0.036573,
     "end_time": "2025-08-19T18:12:16.050174",
     "exception": false,
     "start_time": "2025-08-19T18:12:16.013601",
     "status": "completed"
    },
    "tags": []
   },
   "outputs": [
    {
     "data": {
      "text/html": [
       "<div>\n",
       "<style scoped>\n",
       "    .dataframe tbody tr th:only-of-type {\n",
       "        vertical-align: middle;\n",
       "    }\n",
       "\n",
       "    .dataframe tbody tr th {\n",
       "        vertical-align: top;\n",
       "    }\n",
       "\n",
       "    .dataframe thead th {\n",
       "        text-align: right;\n",
       "    }\n",
       "</style>\n",
       "<table border=\"1\" class=\"dataframe\">\n",
       "  <thead>\n",
       "    <tr style=\"text-align: right;\">\n",
       "      <th></th>\n",
       "      <th>universe_id</th>\n",
       "      <th>universe_training_year</th>\n",
       "      <th>universe_training_size</th>\n",
       "      <th>universe_scale</th>\n",
       "      <th>universe_model</th>\n",
       "      <th>universe_exclude_features</th>\n",
       "      <th>universe_exclude_subgroups</th>\n",
       "      <th>q_hat</th>\n",
       "      <th>coverage</th>\n",
       "      <th>avg_size</th>\n",
       "      <th>cov_frau1</th>\n",
       "      <th>cov_nongerman</th>\n",
       "      <th>cov_nongerman_male</th>\n",
       "      <th>cov_nongerman_female</th>\n",
       "    </tr>\n",
       "  </thead>\n",
       "  <tbody>\n",
       "    <tr>\n",
       "      <th>0</th>\n",
       "      <td>6a8ff61bc4ba40f289069a0c0aaa27c7</td>\n",
       "      <td>2012_14</td>\n",
       "      <td>25k</td>\n",
       "      <td>do-not-scale</td>\n",
       "      <td>elasticnet</td>\n",
       "      <td>none</td>\n",
       "      <td>drop-non-german</td>\n",
       "      <td>0.657503</td>\n",
       "      <td>0.9139</td>\n",
       "      <td>1.249047</td>\n",
       "      <td>0.912738</td>\n",
       "      <td>0.960871</td>\n",
       "      <td>0.968117</td>\n",
       "      <td>0.948882</td>\n",
       "    </tr>\n",
       "  </tbody>\n",
       "</table>\n",
       "</div>"
      ],
      "text/plain": [
       "                        universe_id universe_training_year  \\\n",
       "0  6a8ff61bc4ba40f289069a0c0aaa27c7                2012_14   \n",
       "\n",
       "  universe_training_size universe_scale universe_model  \\\n",
       "0                    25k   do-not-scale     elasticnet   \n",
       "\n",
       "  universe_exclude_features universe_exclude_subgroups     q_hat  coverage  \\\n",
       "0                      none            drop-non-german  0.657503    0.9139   \n",
       "\n",
       "   avg_size  cov_frau1  cov_nongerman  cov_nongerman_male  \\\n",
       "0  1.249047   0.912738       0.960871            0.968117   \n",
       "\n",
       "   cov_nongerman_female  \n",
       "0              0.948882  "
      ]
     },
     "execution_count": 56,
     "metadata": {},
     "output_type": "execute_result"
    }
   ],
   "source": [
    "cp_metrics_df"
   ]
  },
  {
   "cell_type": "markdown",
   "id": "3fc519cc",
   "metadata": {
    "papermill": {
     "duration": 0.028743,
     "end_time": "2025-08-19T18:12:16.106430",
     "exception": false,
     "start_time": "2025-08-19T18:12:16.077687",
     "status": "completed"
    },
    "tags": []
   },
   "source": [
    "# (Fairness) Metrics"
   ]
  },
  {
   "cell_type": "code",
   "execution_count": 57,
   "id": "a2e5e155",
   "metadata": {
    "execution": {
     "iopub.execute_input": "2025-08-19T18:12:16.139068Z",
     "iopub.status.busy": "2025-08-19T18:12:16.138046Z",
     "iopub.status.idle": "2025-08-19T18:12:16.154047Z",
     "shell.execute_reply": "2025-08-19T18:12:16.153416Z"
    },
    "papermill": {
     "duration": 0.035594,
     "end_time": "2025-08-19T18:12:16.155575",
     "exception": false,
     "start_time": "2025-08-19T18:12:16.119981",
     "status": "completed"
    },
    "tags": []
   },
   "outputs": [],
   "source": [
    "colname_to_bin = \"maxdeutsch1\"\n",
    "majority_value = org_train[colname_to_bin].mode()[0]\n",
    "\n",
    "org_test[\"majmin\"] = np.where(org_test[colname_to_bin] == majority_value, \"majority\", \"minority\")"
   ]
  },
  {
   "cell_type": "code",
   "execution_count": 58,
   "id": "17e3e4d5",
   "metadata": {
    "execution": {
     "iopub.execute_input": "2025-08-19T18:12:16.200905Z",
     "iopub.status.busy": "2025-08-19T18:12:16.199656Z",
     "iopub.status.idle": "2025-08-19T18:12:17.998429Z",
     "shell.execute_reply": "2025-08-19T18:12:17.996807Z"
    },
    "papermill": {
     "duration": 1.823708,
     "end_time": "2025-08-19T18:12:18.000167",
     "exception": false,
     "start_time": "2025-08-19T18:12:16.176459",
     "status": "completed"
    },
    "tags": []
   },
   "outputs": [],
   "source": [
    "example_universe = universe.copy()\n",
    "example_universe[\"cutoff\"] = example_universe[\"cutoff\"][0]\n",
    "example_universe[\"eval_fairness_grouping\"] = example_universe[\"eval_fairness_grouping\"][0]\n",
    "fairness_dict, metric_frame = universe_analysis.compute_metrics(\n",
    "    example_universe,\n",
    "    y_pred_prob=probs_test,\n",
    "    y_test=y_true,\n",
    "    org_test=org_test,\n",
    ")"
   ]
  },
  {
   "cell_type": "markdown",
   "id": "1fb7a0e9",
   "metadata": {
    "papermill": {
     "duration": 0.02164,
     "end_time": "2025-08-19T18:12:18.043002",
     "exception": false,
     "start_time": "2025-08-19T18:12:18.021362",
     "status": "completed"
    },
    "tags": []
   },
   "source": [
    "# Overall"
   ]
  },
  {
   "cell_type": "markdown",
   "id": "be1784b1",
   "metadata": {
    "papermill": {
     "duration": 0.012117,
     "end_time": "2025-08-19T18:12:18.067726",
     "exception": false,
     "start_time": "2025-08-19T18:12:18.055609",
     "status": "completed"
    },
    "tags": []
   },
   "source": [
    "Main fairness target: Equalized Odds. Seems to be a better fit than equal opportunity, since we're not only interested in Y = 1. Seems to be a better fit than demographic parity, since we also care about accuracy, not just equal distribution of preds.\n",
    "\n",
    "Pick column for computation of fairness metrics\n",
    "\n",
    "Performance\n",
    "Overall performance measures, most interesting in relation to the measures split by group below"
   ]
  },
  {
   "cell_type": "code",
   "execution_count": 59,
   "id": "b7672bee",
   "metadata": {
    "execution": {
     "iopub.execute_input": "2025-08-19T18:12:18.096316Z",
     "iopub.status.busy": "2025-08-19T18:12:18.095956Z",
     "iopub.status.idle": "2025-08-19T18:12:18.107267Z",
     "shell.execute_reply": "2025-08-19T18:12:18.106002Z"
    },
    "papermill": {
     "duration": 0.026385,
     "end_time": "2025-08-19T18:12:18.108580",
     "exception": false,
     "start_time": "2025-08-19T18:12:18.082195",
     "status": "completed"
    },
    "tags": []
   },
   "outputs": [
    {
     "data": {
      "text/plain": [
       "accuracy                   0.216330\n",
       "balanced accuracy          0.530643\n",
       "f1                         0.237883\n",
       "precision                  0.135895\n",
       "false positive rate        0.892138\n",
       "false negative rate        0.046576\n",
       "selection rate             0.900000\n",
       "count                  89710.000000\n",
       "dtype: float64"
      ]
     },
     "execution_count": 59,
     "metadata": {},
     "output_type": "execute_result"
    }
   ],
   "source": [
    "metric_frame.overall"
   ]
  },
  {
   "cell_type": "markdown",
   "id": "d93333c9",
   "metadata": {
    "papermill": {
     "duration": 0.012286,
     "end_time": "2025-08-19T18:12:18.133396",
     "exception": false,
     "start_time": "2025-08-19T18:12:18.121110",
     "status": "completed"
    },
    "tags": []
   },
   "source": [
    "By Group"
   ]
  },
  {
   "cell_type": "code",
   "execution_count": 60,
   "id": "52256966",
   "metadata": {
    "execution": {
     "iopub.execute_input": "2025-08-19T18:12:18.159085Z",
     "iopub.status.busy": "2025-08-19T18:12:18.158790Z",
     "iopub.status.idle": "2025-08-19T18:12:18.172940Z",
     "shell.execute_reply": "2025-08-19T18:12:18.172057Z"
    },
    "papermill": {
     "duration": 0.034465,
     "end_time": "2025-08-19T18:12:18.180025",
     "exception": false,
     "start_time": "2025-08-19T18:12:18.145560",
     "status": "completed"
    },
    "tags": []
   },
   "outputs": [
    {
     "data": {
      "text/html": [
       "<div>\n",
       "<style scoped>\n",
       "    .dataframe tbody tr th:only-of-type {\n",
       "        vertical-align: middle;\n",
       "    }\n",
       "\n",
       "    .dataframe tbody tr th {\n",
       "        vertical-align: top;\n",
       "    }\n",
       "\n",
       "    .dataframe thead th {\n",
       "        text-align: right;\n",
       "    }\n",
       "</style>\n",
       "<table border=\"1\" class=\"dataframe\">\n",
       "  <thead>\n",
       "    <tr style=\"text-align: right;\">\n",
       "      <th></th>\n",
       "      <th>accuracy</th>\n",
       "      <th>balanced accuracy</th>\n",
       "      <th>f1</th>\n",
       "      <th>precision</th>\n",
       "      <th>false positive rate</th>\n",
       "      <th>false negative rate</th>\n",
       "      <th>selection rate</th>\n",
       "      <th>count</th>\n",
       "    </tr>\n",
       "    <tr>\n",
       "      <th>majmin</th>\n",
       "      <th></th>\n",
       "      <th></th>\n",
       "      <th></th>\n",
       "      <th></th>\n",
       "      <th></th>\n",
       "      <th></th>\n",
       "      <th></th>\n",
       "      <th></th>\n",
       "    </tr>\n",
       "  </thead>\n",
       "  <tbody>\n",
       "    <tr>\n",
       "      <th>majority</th>\n",
       "      <td>0.237675</td>\n",
       "      <td>0.538589</td>\n",
       "      <td>0.247273</td>\n",
       "      <td>0.142189</td>\n",
       "      <td>0.870415</td>\n",
       "      <td>0.052407</td>\n",
       "      <td>0.880613</td>\n",
       "      <td>69170.0</td>\n",
       "    </tr>\n",
       "    <tr>\n",
       "      <th>minority</th>\n",
       "      <td>0.144450</td>\n",
       "      <td>0.506014</td>\n",
       "      <td>0.208245</td>\n",
       "      <td>0.116558</td>\n",
       "      <td>0.963901</td>\n",
       "      <td>0.024071</td>\n",
       "      <td>0.965287</td>\n",
       "      <td>20540.0</td>\n",
       "    </tr>\n",
       "  </tbody>\n",
       "</table>\n",
       "</div>"
      ],
      "text/plain": [
       "          accuracy  balanced accuracy        f1  precision  \\\n",
       "majmin                                                       \n",
       "majority  0.237675           0.538589  0.247273   0.142189   \n",
       "minority  0.144450           0.506014  0.208245   0.116558   \n",
       "\n",
       "          false positive rate  false negative rate  selection rate    count  \n",
       "majmin                                                                       \n",
       "majority             0.870415             0.052407        0.880613  69170.0  \n",
       "minority             0.963901             0.024071        0.965287  20540.0  "
      ]
     },
     "execution_count": 60,
     "metadata": {},
     "output_type": "execute_result"
    }
   ],
   "source": [
    "metric_frame.by_group"
   ]
  },
  {
   "cell_type": "code",
   "execution_count": 61,
   "id": "6e6c20ae",
   "metadata": {
    "execution": {
     "iopub.execute_input": "2025-08-19T18:12:18.219758Z",
     "iopub.status.busy": "2025-08-19T18:12:18.218355Z",
     "iopub.status.idle": "2025-08-19T18:12:20.088097Z",
     "shell.execute_reply": "2025-08-19T18:12:20.087210Z"
    },
    "papermill": {
     "duration": 1.895734,
     "end_time": "2025-08-19T18:12:20.099919",
     "exception": false,
     "start_time": "2025-08-19T18:12:18.204185",
     "status": "completed"
    },
    "tags": []
   },
   "outputs": [
    {
     "data": {
      "text/plain": [
       "array([[<Axes: title={'center': 'accuracy'}, xlabel='majmin'>,\n",
       "        <Axes: title={'center': 'balanced accuracy'}, xlabel='majmin'>,\n",
       "        <Axes: title={'center': 'f1'}, xlabel='majmin'>],\n",
       "       [<Axes: title={'center': 'precision'}, xlabel='majmin'>,\n",
       "        <Axes: title={'center': 'false positive rate'}, xlabel='majmin'>,\n",
       "        <Axes: title={'center': 'false negative rate'}, xlabel='majmin'>],\n",
       "       [<Axes: title={'center': 'selection rate'}, xlabel='majmin'>,\n",
       "        <Axes: title={'center': 'count'}, xlabel='majmin'>,\n",
       "        <Axes: xlabel='majmin'>]], dtype=object)"
      ]
     },
     "execution_count": 61,
     "metadata": {},
     "output_type": "execute_result"
    },
    {
     "data": {
      "image/png": "[encoded data removed]",
      "text/plain": [
       "<Figure size 1200x800 with 9 Axes>"
      ]
     },
     "metadata": {},
     "output_type": "display_data"
    }
   ],
   "source": [
    "# In a graphic\n",
    "metric_frame.by_group.plot.bar(\n",
    "    subplots=True,\n",
    "    layout=[3, 3],\n",
    "    legend=False,\n",
    "    figsize=[12, 8],\n",
    "    title=\"Show all metrics\",\n",
    ")"
   ]
  },
  {
   "cell_type": "markdown",
   "id": "b2e433ae",
   "metadata": {
    "papermill": {
     "duration": 0.013676,
     "end_time": "2025-08-19T18:12:20.132551",
     "exception": false,
     "start_time": "2025-08-19T18:12:20.118875",
     "status": "completed"
    },
    "tags": []
   },
   "source": [
    "# Final Output"
   ]
  },
  {
   "cell_type": "code",
   "execution_count": 62,
   "id": "3871301e",
   "metadata": {
    "execution": {
     "iopub.execute_input": "2025-08-19T18:12:20.164090Z",
     "iopub.status.busy": "2025-08-19T18:12:20.161755Z",
     "iopub.status.idle": "2025-08-19T18:12:20.180523Z",
     "shell.execute_reply": "2025-08-19T18:12:20.179436Z"
    },
    "papermill": {
     "duration": 0.035686,
     "end_time": "2025-08-19T18:12:20.181761",
     "exception": false,
     "start_time": "2025-08-19T18:12:20.146075",
     "status": "completed"
    },
    "tags": []
   },
   "outputs": [
    {
     "data": {
      "text/plain": [
       "4"
      ]
     },
     "execution_count": 62,
     "metadata": {},
     "output_type": "execute_result"
    }
   ],
   "source": [
    "sub_universes = universe_analysis.generate_sub_universes()\n",
    "len(sub_universes)"
   ]
  },
  {
   "cell_type": "code",
   "execution_count": 63,
   "id": "d9cfdaca",
   "metadata": {
    "execution": {
     "iopub.execute_input": "2025-08-19T18:12:20.224240Z",
     "iopub.status.busy": "2025-08-19T18:12:20.223205Z",
     "iopub.status.idle": "2025-08-19T18:12:20.254286Z",
     "shell.execute_reply": "2025-08-19T18:12:20.252672Z"
    },
    "papermill": {
     "duration": 0.061902,
     "end_time": "2025-08-19T18:12:20.257802",
     "exception": false,
     "start_time": "2025-08-19T18:12:20.195900",
     "status": "completed"
    },
    "tags": []
   },
   "outputs": [],
   "source": [
    "def filter_sub_universe_data(sub_universe, org_test):\n",
    "    # Keep all rows — no filtering\n",
    "    keep_rows_mask = np.ones(org_test.shape[0], dtype=bool)\n",
    "\n",
    "    print(f\"[INFO] Keeping all rows: {keep_rows_mask.sum()} rows retained.\")\n",
    "    return keep_rows_mask"
   ]
  },
  {
   "cell_type": "code",
   "execution_count": 64,
   "id": "2bc31ac1",
   "metadata": {
    "execution": {
     "iopub.execute_input": "2025-08-19T18:12:20.323636Z",
     "iopub.status.busy": "2025-08-19T18:12:20.323135Z",
     "iopub.status.idle": "2025-08-19T18:12:26.937641Z",
     "shell.execute_reply": "2025-08-19T18:12:26.936609Z"
    },
    "papermill": {
     "duration": 6.655703,
     "end_time": "2025-08-19T18:12:26.939210",
     "exception": false,
     "start_time": "2025-08-19T18:12:20.283507",
     "status": "completed"
    },
    "tags": []
   },
   "outputs": [
    {
     "name": "stdout",
     "output_type": "stream",
     "text": [
      "Stopping execution_time clock.\n",
      "[INFO] Keeping all rows: 89710 rows retained.\n"
     ]
    },
    {
     "name": "stdout",
     "output_type": "stream",
     "text": [
      "[INFO] Keeping all rows: 89710 rows retained.\n"
     ]
    },
    {
     "name": "stdout",
     "output_type": "stream",
     "text": [
      "[INFO] Keeping all rows: 89710 rows retained.\n"
     ]
    },
    {
     "name": "stdout",
     "output_type": "stream",
     "text": [
      "[INFO] Keeping all rows: 89710 rows retained.\n"
     ]
    },
    {
     "data": {
      "text/html": [
       "<div>\n",
       "<style scoped>\n",
       "    .dataframe tbody tr th:only-of-type {\n",
       "        vertical-align: middle;\n",
       "    }\n",
       "\n",
       "    .dataframe tbody tr th {\n",
       "        vertical-align: top;\n",
       "    }\n",
       "\n",
       "    .dataframe thead th {\n",
       "        text-align: right;\n",
       "    }\n",
       "</style>\n",
       "<table border=\"1\" class=\"dataframe\">\n",
       "  <thead>\n",
       "    <tr style=\"text-align: right;\">\n",
       "      <th></th>\n",
       "      <th>run_no</th>\n",
       "      <th>universe_id</th>\n",
       "      <th>universe_settings</th>\n",
       "      <th>execution_time</th>\n",
       "      <th>test_size_n</th>\n",
       "      <th>test_size_frac</th>\n",
       "      <th>fair_main_equalized_odds_difference</th>\n",
       "      <th>fair_main_equalized_odds_ratio</th>\n",
       "      <th>fair_main_demographic_parity_difference</th>\n",
       "      <th>fair_main_demographic_parity_ratio</th>\n",
       "      <th>...</th>\n",
       "      <th>perf_grp_precision_0</th>\n",
       "      <th>perf_grp_precision_1</th>\n",
       "      <th>perf_grp_false positive rate_0</th>\n",
       "      <th>perf_grp_false positive rate_1</th>\n",
       "      <th>perf_grp_false negative rate_0</th>\n",
       "      <th>perf_grp_false negative rate_1</th>\n",
       "      <th>perf_grp_selection rate_0</th>\n",
       "      <th>perf_grp_selection rate_1</th>\n",
       "      <th>perf_grp_count_0</th>\n",
       "      <th>perf_grp_count_1</th>\n",
       "    </tr>\n",
       "  </thead>\n",
       "  <tbody>\n",
       "    <tr>\n",
       "      <th>0</th>\n",
       "      <td>3</td>\n",
       "      <td>6a8ff61bc4ba40f289069a0c0aaa27c7</td>\n",
       "      <td>{\"cutoff\": \"quantile_0.1\", \"eval_fairness_grou...</td>\n",
       "      <td>26.667661</td>\n",
       "      <td>89710</td>\n",
       "      <td>1.0</td>\n",
       "      <td>0.093486</td>\n",
       "      <td>0.903013</td>\n",
       "      <td>0.084674</td>\n",
       "      <td>0.912281</td>\n",
       "      <td>...</td>\n",
       "      <td>NaN</td>\n",
       "      <td>NaN</td>\n",
       "      <td>NaN</td>\n",
       "      <td>NaN</td>\n",
       "      <td>NaN</td>\n",
       "      <td>NaN</td>\n",
       "      <td>NaN</td>\n",
       "      <td>NaN</td>\n",
       "      <td>NaN</td>\n",
       "      <td>NaN</td>\n",
       "    </tr>\n",
       "    <tr>\n",
       "      <th>0</th>\n",
       "      <td>3</td>\n",
       "      <td>6a8ff61bc4ba40f289069a0c0aaa27c7</td>\n",
       "      <td>{\"cutoff\": \"quantile_0.1\", \"eval_fairness_grou...</td>\n",
       "      <td>26.667661</td>\n",
       "      <td>89710</td>\n",
       "      <td>1.0</td>\n",
       "      <td>0.093486</td>\n",
       "      <td>0.903013</td>\n",
       "      <td>0.084674</td>\n",
       "      <td>0.912281</td>\n",
       "      <td>...</td>\n",
       "      <td>0.116558</td>\n",
       "      <td>0.142189</td>\n",
       "      <td>0.963901</td>\n",
       "      <td>0.870415</td>\n",
       "      <td>0.024071</td>\n",
       "      <td>0.052407</td>\n",
       "      <td>0.965287</td>\n",
       "      <td>0.880613</td>\n",
       "      <td>20540.0</td>\n",
       "      <td>69170.0</td>\n",
       "    </tr>\n",
       "    <tr>\n",
       "      <th>0</th>\n",
       "      <td>3</td>\n",
       "      <td>6a8ff61bc4ba40f289069a0c0aaa27c7</td>\n",
       "      <td>{\"cutoff\": \"quantile_0.25\", \"eval_fairness_gro...</td>\n",
       "      <td>26.667661</td>\n",
       "      <td>89710</td>\n",
       "      <td>1.0</td>\n",
       "      <td>0.226662</td>\n",
       "      <td>0.750263</td>\n",
       "      <td>0.209956</td>\n",
       "      <td>0.769754</td>\n",
       "      <td>...</td>\n",
       "      <td>NaN</td>\n",
       "      <td>NaN</td>\n",
       "      <td>NaN</td>\n",
       "      <td>NaN</td>\n",
       "      <td>NaN</td>\n",
       "      <td>NaN</td>\n",
       "      <td>NaN</td>\n",
       "      <td>NaN</td>\n",
       "      <td>NaN</td>\n",
       "      <td>NaN</td>\n",
       "    </tr>\n",
       "    <tr>\n",
       "      <th>0</th>\n",
       "      <td>3</td>\n",
       "      <td>6a8ff61bc4ba40f289069a0c0aaa27c7</td>\n",
       "      <td>{\"cutoff\": \"quantile_0.25\", \"eval_fairness_gro...</td>\n",
       "      <td>26.667661</td>\n",
       "      <td>89710</td>\n",
       "      <td>1.0</td>\n",
       "      <td>0.226662</td>\n",
       "      <td>0.750263</td>\n",
       "      <td>0.209956</td>\n",
       "      <td>0.769754</td>\n",
       "      <td>...</td>\n",
       "      <td>0.119434</td>\n",
       "      <td>0.158078</td>\n",
       "      <td>0.907605</td>\n",
       "      <td>0.680943</td>\n",
       "      <td>0.055321</td>\n",
       "      <td>0.160284</td>\n",
       "      <td>0.911879</td>\n",
       "      <td>0.701923</td>\n",
       "      <td>20540.0</td>\n",
       "      <td>69170.0</td>\n",
       "    </tr>\n",
       "  </tbody>\n",
       "</table>\n",
       "<p>4 rows × 50 columns</p>\n",
       "</div>"
      ],
      "text/plain": [
       "  run_no                       universe_id  \\\n",
       "0      3  6a8ff61bc4ba40f289069a0c0aaa27c7   \n",
       "0      3  6a8ff61bc4ba40f289069a0c0aaa27c7   \n",
       "0      3  6a8ff61bc4ba40f289069a0c0aaa27c7   \n",
       "0      3  6a8ff61bc4ba40f289069a0c0aaa27c7   \n",
       "\n",
       "                                   universe_settings  execution_time  \\\n",
       "0  {\"cutoff\": \"quantile_0.1\", \"eval_fairness_grou...       26.667661   \n",
       "0  {\"cutoff\": \"quantile_0.1\", \"eval_fairness_grou...       26.667661   \n",
       "0  {\"cutoff\": \"quantile_0.25\", \"eval_fairness_gro...       26.667661   \n",
       "0  {\"cutoff\": \"quantile_0.25\", \"eval_fairness_gro...       26.667661   \n",
       "\n",
       "   test_size_n  test_size_frac  fair_main_equalized_odds_difference  \\\n",
       "0        89710             1.0                             0.093486   \n",
       "0        89710             1.0                             0.093486   \n",
       "0        89710             1.0                             0.226662   \n",
       "0        89710             1.0                             0.226662   \n",
       "\n",
       "   fair_main_equalized_odds_ratio  fair_main_demographic_parity_difference  \\\n",
       "0                        0.903013                                 0.084674   \n",
       "0                        0.903013                                 0.084674   \n",
       "0                        0.750263                                 0.209956   \n",
       "0                        0.750263                                 0.209956   \n",
       "\n",
       "   fair_main_demographic_parity_ratio  ...  perf_grp_precision_0  \\\n",
       "0                            0.912281  ...                   NaN   \n",
       "0                            0.912281  ...              0.116558   \n",
       "0                            0.769754  ...                   NaN   \n",
       "0                            0.769754  ...              0.119434   \n",
       "\n",
       "   perf_grp_precision_1  perf_grp_false positive rate_0  \\\n",
       "0                   NaN                             NaN   \n",
       "0              0.142189                        0.963901   \n",
       "0                   NaN                             NaN   \n",
       "0              0.158078                        0.907605   \n",
       "\n",
       "   perf_grp_false positive rate_1  perf_grp_false negative rate_0  \\\n",
       "0                             NaN                             NaN   \n",
       "0                        0.870415                        0.024071   \n",
       "0                             NaN                             NaN   \n",
       "0                        0.680943                        0.055321   \n",
       "\n",
       "   perf_grp_false negative rate_1  perf_grp_selection rate_0  \\\n",
       "0                             NaN                        NaN   \n",
       "0                        0.052407                   0.965287   \n",
       "0                             NaN                        NaN   \n",
       "0                        0.160284                   0.911879   \n",
       "\n",
       "   perf_grp_selection rate_1  perf_grp_count_0  perf_grp_count_1  \n",
       "0                        NaN               NaN               NaN  \n",
       "0                   0.880613           20540.0           69170.0  \n",
       "0                        NaN               NaN               NaN  \n",
       "0                   0.701923           20540.0           69170.0  \n",
       "\n",
       "[4 rows x 50 columns]"
      ]
     },
     "execution_count": 64,
     "metadata": {},
     "output_type": "execute_result"
    }
   ],
   "source": [
    "final_output = universe_analysis.generate_final_output(\n",
    "    y_pred_prob=probs_test,\n",
    "    y_test=y_true,\n",
    "    org_test=org_test,\n",
    "    filter_data=filter_sub_universe_data,\n",
    "    cp_metrics_df=cp_metrics_df,\n",
    "    save=True,\n",
    ")\n",
    "final_output"
   ]
  },
  {
   "cell_type": "code",
   "execution_count": null,
   "id": "8b80a1ff",
   "metadata": {
    "papermill": {
     "duration": 0.014811,
     "end_time": "2025-08-19T18:12:26.974424",
     "exception": false,
     "start_time": "2025-08-19T18:12:26.959613",
     "status": "completed"
    },
    "tags": []
   },
   "outputs": [],
   "source": []
  },
  {
   "cell_type": "code",
   "execution_count": null,
   "id": "275c9fad",
   "metadata": {
    "papermill": {
     "duration": 0.014227,
     "end_time": "2025-08-19T18:12:27.003046",
     "exception": false,
     "start_time": "2025-08-19T18:12:26.988819",
     "status": "completed"
    },
    "tags": []
   },
   "outputs": [],
   "source": []
  }
 ],
 "metadata": {
  "celltoolbar": "Tags",
  "kernelspec": {
   "display_name": "Python (CMA Fairness)",
   "language": "python",
   "name": "cma_fair_env"
  },
  "language_info": {
   "codemirror_mode": {
    "name": "ipython",
    "version": 3
   },
   "file_extension": ".py",
   "mimetype": "text/x-python",
   "name": "python",
   "nbconvert_exporter": "python",
   "pygments_lexer": "ipython3",
   "version": "3.10.12"
  },
  "papermill": {
   "default_parameters": {},
   "duration": 36.883669,
   "end_time": "2025-08-19T18:12:27.840129",
   "environment_variables": {},
   "exception": null,
   "input_path": "universe_analysis.ipynb",
   "output_path": "output/runs/3/notebooks/m_3-6a8ff61bc4ba40f289069a0c0aaa27c7.ipynb",
   "parameters": {
    "output_dir": "output",
    "run_no": "3",
    "seed": "2023",
    "universe": "{\"cutoff\": [\"quantile_0.1\", \"quantile_0.25\"], \"eval_fairness_grouping\": [\"majority-minority\", \"nationality-all\"], \"exclude_features\": \"none\", \"exclude_subgroups\": \"drop-non-german\", \"model\": \"elasticnet\", \"scale\": \"do-not-scale\", \"training_size\": \"25k\", \"training_year\": \"2012_14\"}",
    "universe_id": "6a8ff61bc4ba40f289069a0c0aaa27c7"
   },
   "start_time": "2025-08-19T18:11:50.956460",
   "version": "2.6.0"
  }
 },
 "nbformat": 4,
 "nbformat_minor": 5
}