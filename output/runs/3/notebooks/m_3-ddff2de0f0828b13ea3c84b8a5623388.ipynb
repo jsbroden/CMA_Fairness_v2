{
 "cells": [
  {
   "cell_type": "markdown",
   "id": "ef23dbb3",
   "metadata": {
    "papermill": {
     "duration": 0.017448,
     "end_time": "2025-08-19T18:56:34.943743",
     "exception": false,
     "start_time": "2025-08-19T18:56:34.926295",
     "status": "completed"
    },
    "tags": []
   },
   "source": [
    "# Setup"
   ]
  },
  {
   "cell_type": "code",
   "execution_count": 1,
   "id": "0bc8e7dc",
   "metadata": {
    "execution": {
     "iopub.execute_input": "2025-08-19T18:56:34.966084Z",
     "iopub.status.busy": "2025-08-19T18:56:34.965519Z",
     "iopub.status.idle": "2025-08-19T18:56:34.975482Z",
     "shell.execute_reply": "2025-08-19T18:56:34.974593Z"
    },
    "papermill": {
     "duration": 0.021819,
     "end_time": "2025-08-19T18:56:34.976887",
     "exception": false,
     "start_time": "2025-08-19T18:56:34.955068",
     "status": "completed"
    },
    "tags": []
   },
   "outputs": [
    {
     "name": "stdout",
     "output_type": "stream",
     "text": [
      "/dss/dsshome1/0C/ra93lal2/cma/CMA_Fairness_v2\n"
     ]
    },
    {
     "name": "stderr",
     "output_type": "stream",
     "text": [
      "/dss/dsshome1/0C/ra93lal2/.local/share/virtualenvs/CMA_Fairness_v2-3j10GkSs/lib/python3.10/site-packages/IPython/core/magics/osm.py:393: UserWarning: This is now an optional IPython functionality, using bookmarks requires you to install the `pickleshare` library.\n",
      "  bkms = self.shell.db.get('bookmarks', {})\n",
      "/dss/dsshome1/0C/ra93lal2/.local/share/virtualenvs/CMA_Fairness_v2-3j10GkSs/lib/python3.10/site-packages/IPython/core/magics/osm.py:417: UserWarning: This is now an optional IPython functionality, setting dhist requires you to install the `pickleshare` library.\n",
      "  self.shell.db['dhist'] = compress_dhist(dhist)[-100:]\n"
     ]
    }
   ],
   "source": [
    "%cd ~/cma/CMA_Fairness_v2"
   ]
  },
  {
   "cell_type": "markdown",
   "id": "9d235661",
   "metadata": {
    "papermill": {
     "duration": 0.010313,
     "end_time": "2025-08-19T18:56:34.999820",
     "exception": false,
     "start_time": "2025-08-19T18:56:34.989507",
     "status": "completed"
    },
    "tags": []
   },
   "source": [
    "The following cell holds the definition of our parameters, these values can be overriden by rendering the with e.g. the following command:\n",
    "\n",
    "papermill -p alpha 0.2 -p ratio 0.3 universe_analysis.ipynb output/test_run.ipynb"
   ]
  },
  {
   "cell_type": "code",
   "execution_count": 2,
   "id": "4a789d8e",
   "metadata": {
    "execution": {
     "iopub.execute_input": "2025-08-19T18:56:35.021265Z",
     "iopub.status.busy": "2025-08-19T18:56:35.020868Z",
     "iopub.status.idle": "2025-08-19T18:56:35.044542Z",
     "shell.execute_reply": "2025-08-19T18:56:35.042995Z"
    },
    "papermill": {
     "duration": 0.037607,
     "end_time": "2025-08-19T18:56:35.047323",
     "exception": false,
     "start_time": "2025-08-19T18:56:35.009716",
     "status": "completed"
    },
    "tags": []
   },
   "outputs": [
    {
     "name": "stdout",
     "output_type": "stream",
     "text": [
      "Current working directory: /dss/dsshome1/0C/ra93lal2/cma/CMA_Fairness_v2\n"
     ]
    }
   ],
   "source": [
    "import os\n",
    "print(\"Current working directory:\", os.getcwd())"
   ]
  },
  {
   "cell_type": "code",
   "execution_count": 3,
   "id": "4132aaed",
   "metadata": {
    "execution": {
     "iopub.execute_input": "2025-08-19T18:56:35.072690Z",
     "iopub.status.busy": "2025-08-19T18:56:35.072287Z",
     "iopub.status.idle": "2025-08-19T18:56:35.077234Z",
     "shell.execute_reply": "2025-08-19T18:56:35.076386Z"
    },
    "papermill": {
     "duration": 0.016382,
     "end_time": "2025-08-19T18:56:35.078749",
     "exception": false,
     "start_time": "2025-08-19T18:56:35.062367",
     "status": "completed"
    },
    "tags": [
     "parameters"
    ]
   },
   "outputs": [],
   "source": [
    "run_no = 0\n",
    "universe_id = \"test\"\n",
    "universe = {\n",
    "    \"training_size\": \"5k\", # \"25k\", \"5k\", \"1k\"\n",
    "    \"training_year\": \"2012_14\", # \"2014\", \"2012_14\", \"2010_14\"\n",
    "    \"scale\": \"scale\", # \"scale\", \"do-not-scale\",\n",
    "    \"model\": \"elasticnet\", # \"logreg\", \"penalized_logreg\", \"rf\", \"gbm\", \"elasticnet\"\n",
    "    \"cutoff\": [\"quantile_0.15\", \"quantile_0.30\"],\n",
    "    \"exclude_features\": \"age\", # \"none\", \"nationality\", \"sex\", \"nationality-sex\", \"age\"\n",
    "    \"exclude_subgroups\": \"drop-non-german\", # \"keep-all\", \"drop-non-german\"\n",
    "    \"eval_fairness_grouping\": [\"majority-minority\", \"nationality-all\"]\n",
    "}\n",
    "\n",
    "output_dir=\"./output\"\n",
    "seed=0"
   ]
  },
  {
   "cell_type": "code",
   "execution_count": 4,
   "id": "e1834009",
   "metadata": {
    "execution": {
     "iopub.execute_input": "2025-08-19T18:56:35.101691Z",
     "iopub.status.busy": "2025-08-19T18:56:35.101292Z",
     "iopub.status.idle": "2025-08-19T18:56:35.127210Z",
     "shell.execute_reply": "2025-08-19T18:56:35.126103Z"
    },
    "papermill": {
     "duration": 0.040717,
     "end_time": "2025-08-19T18:56:35.130724",
     "exception": false,
     "start_time": "2025-08-19T18:56:35.090007",
     "status": "completed"
    },
    "tags": [
     "injected-parameters"
    ]
   },
   "outputs": [],
   "source": [
    "# Parameters\n",
    "universe_id = \"ddff2de0f0828b13ea3c84b8a5623388\"\n",
    "run_no = \"3\"\n",
    "universe = \"{\\\"cutoff\\\": [\\\"quantile_0.1\\\", \\\"quantile_0.25\\\"], \\\"eval_fairness_grouping\\\": [\\\"majority-minority\\\", \\\"nationality-all\\\"], \\\"exclude_features\\\": \\\"nationality\\\", \\\"exclude_subgroups\\\": \\\"keep-all\\\", \\\"model\\\": \\\"logreg\\\", \\\"scale\\\": \\\"scale\\\", \\\"training_size\\\": \\\"1k\\\", \\\"training_year\\\": \\\"2012_14\\\"}\"\n",
    "output_dir = \"output\"\n",
    "seed = \"2023\"\n"
   ]
  },
  {
   "cell_type": "code",
   "execution_count": 5,
   "id": "a5d7941f",
   "metadata": {
    "execution": {
     "iopub.execute_input": "2025-08-19T18:56:35.158431Z",
     "iopub.status.busy": "2025-08-19T18:56:35.158042Z",
     "iopub.status.idle": "2025-08-19T18:56:35.162346Z",
     "shell.execute_reply": "2025-08-19T18:56:35.161437Z"
    },
    "papermill": {
     "duration": 0.016725,
     "end_time": "2025-08-19T18:56:35.163794",
     "exception": false,
     "start_time": "2025-08-19T18:56:35.147069",
     "status": "completed"
    },
    "tags": []
   },
   "outputs": [],
   "source": [
    "import json\n",
    "if isinstance(universe, str):\n",
    "    universe = json.loads(universe)"
   ]
  },
  {
   "cell_type": "code",
   "execution_count": 6,
   "id": "7076ccb1",
   "metadata": {
    "execution": {
     "iopub.execute_input": "2025-08-19T18:56:35.184937Z",
     "iopub.status.busy": "2025-08-19T18:56:35.184546Z",
     "iopub.status.idle": "2025-08-19T18:56:35.220859Z",
     "shell.execute_reply": "2025-08-19T18:56:35.219964Z"
    },
    "papermill": {
     "duration": 0.048235,
     "end_time": "2025-08-19T18:56:35.222427",
     "exception": false,
     "start_time": "2025-08-19T18:56:35.174192",
     "status": "completed"
    },
    "tags": []
   },
   "outputs": [],
   "source": [
    "# Auto-reload the custom package\n",
    "%load_ext autoreload\n",
    "%autoreload 1\n",
    "%aimport fairness_multiverse"
   ]
  },
  {
   "cell_type": "code",
   "execution_count": 7,
   "id": "94c8eb93",
   "metadata": {
    "execution": {
     "iopub.execute_input": "2025-08-19T18:56:35.243566Z",
     "iopub.status.busy": "2025-08-19T18:56:35.243173Z",
     "iopub.status.idle": "2025-08-19T18:56:36.943434Z",
     "shell.execute_reply": "2025-08-19T18:56:36.942410Z"
    },
    "papermill": {
     "duration": 1.712481,
     "end_time": "2025-08-19T18:56:36.945316",
     "exception": false,
     "start_time": "2025-08-19T18:56:35.232835",
     "status": "completed"
    },
    "tags": []
   },
   "outputs": [],
   "source": [
    "from fairness_multiverse.universe import UniverseAnalysis\n",
    "\n",
    "universe_analysis = UniverseAnalysis(\n",
    "    run_no = run_no,\n",
    "    universe_id = universe_id,\n",
    "    universe = universe,\n",
    "    output_dir=output_dir,\n",
    ")"
   ]
  },
  {
   "cell_type": "code",
   "execution_count": 8,
   "id": "2a6381cf",
   "metadata": {
    "execution": {
     "iopub.execute_input": "2025-08-19T18:56:36.968012Z",
     "iopub.status.busy": "2025-08-19T18:56:36.966592Z",
     "iopub.status.idle": "2025-08-19T18:56:36.977048Z",
     "shell.execute_reply": "2025-08-19T18:56:36.976073Z"
    },
    "papermill": {
     "duration": 0.023089,
     "end_time": "2025-08-19T18:56:36.978484",
     "exception": false,
     "start_time": "2025-08-19T18:56:36.955395",
     "status": "completed"
    },
    "tags": []
   },
   "outputs": [
    {
     "name": "stdout",
     "output_type": "stream",
     "text": [
      "Using Seed: 2023\n"
     ]
    }
   ],
   "source": [
    "import numpy as np\n",
    "parsed_seed = int(seed)\n",
    "np.random.seed(parsed_seed)\n",
    "print(f\"Using Seed: {parsed_seed}\")"
   ]
  },
  {
   "cell_type": "markdown",
   "id": "b6e958b4",
   "metadata": {
    "papermill": {
     "duration": 0.00912,
     "end_time": "2025-08-19T18:56:36.999430",
     "exception": false,
     "start_time": "2025-08-19T18:56:36.990310",
     "status": "completed"
    },
    "tags": []
   },
   "source": [
    "# Loading Data"
   ]
  },
  {
   "cell_type": "code",
   "execution_count": 9,
   "id": "98701482",
   "metadata": {
    "execution": {
     "iopub.execute_input": "2025-08-19T18:56:37.018821Z",
     "iopub.status.busy": "2025-08-19T18:56:37.018408Z",
     "iopub.status.idle": "2025-08-19T18:56:47.176889Z",
     "shell.execute_reply": "2025-08-19T18:56:47.175714Z"
    },
    "papermill": {
     "duration": 10.169939,
     "end_time": "2025-08-19T18:56:47.178364",
     "exception": false,
     "start_time": "2025-08-19T18:56:37.008425",
     "status": "completed"
    },
    "tags": []
   },
   "outputs": [
    {
     "name": "stdout",
     "output_type": "stream",
     "text": [
      "Loading SIAB data from cache: data/siab_cached.csv.gz\n"
     ]
    },
    {
     "name": "stdout",
     "output_type": "stream",
     "text": [
      "(643690, 164)\n"
     ]
    }
   ],
   "source": [
    "from pathlib import Path\n",
    "import pandas as pd\n",
    "\n",
    "# File paths\n",
    "raw_file = Path(\"data/raw/siab.csv\")\n",
    "cache_file = Path(\"data/siab_cached.csv.gz\")\n",
    "\n",
    "# Ensure cache directory exists\n",
    "cache_file.parent.mkdir(parents=True, exist_ok=True)\n",
    "\n",
    "# Load with simple caching\n",
    "if cache_file.exists():\n",
    "    print(f\"Loading SIAB data from cache: {cache_file}\")\n",
    "    siab = pd.read_csv(cache_file, compression='gzip')\n",
    "else:\n",
    "    print(f\"Cache not found. Reading raw SIAB data: {raw_file}\")\n",
    "    siab = pd.read_csv(raw_file)\n",
    "    siab.to_csv(cache_file, index=False, compression='gzip')\n",
    "    print(f\"Cached SIAB data to: {cache_file}\")\n",
    "\n",
    "print(siab.shape)"
   ]
  },
  {
   "cell_type": "code",
   "execution_count": 10,
   "id": "058d2abb",
   "metadata": {
    "execution": {
     "iopub.execute_input": "2025-08-19T18:56:47.216876Z",
     "iopub.status.busy": "2025-08-19T18:56:47.215621Z",
     "iopub.status.idle": "2025-08-19T18:56:47.378545Z",
     "shell.execute_reply": "2025-08-19T18:56:47.377371Z"
    },
    "papermill": {
     "duration": 0.187807,
     "end_time": "2025-08-19T18:56:47.380151",
     "exception": false,
     "start_time": "2025-08-19T18:56:47.192344",
     "status": "completed"
    },
    "tags": []
   },
   "outputs": [
    {
     "data": {
      "text/html": [
       "<div>\n",
       "<style scoped>\n",
       "    .dataframe tbody tr th:only-of-type {\n",
       "        vertical-align: middle;\n",
       "    }\n",
       "\n",
       "    .dataframe tbody tr th {\n",
       "        vertical-align: top;\n",
       "    }\n",
       "\n",
       "    .dataframe thead th {\n",
       "        text-align: right;\n",
       "    }\n",
       "</style>\n",
       "<table border=\"1\" class=\"dataframe\">\n",
       "  <thead>\n",
       "    <tr style=\"text-align: right;\">\n",
       "      <th></th>\n",
       "      <th>persnr</th>\n",
       "      <th>year</th>\n",
       "      <th>nrEntry</th>\n",
       "      <th>ltue</th>\n",
       "      <th>employed_before</th>\n",
       "      <th>receipt_leh_before</th>\n",
       "      <th>receipt_lhg_before</th>\n",
       "      <th>se_before</th>\n",
       "      <th>ASU_notue_seeking_before</th>\n",
       "      <th>ASU_other_before</th>\n",
       "      <th>...</th>\n",
       "      <th>minijob_tot_dur_byage</th>\n",
       "      <th>ft_tot_dur_byage</th>\n",
       "      <th>befrist_tot_dur_byage</th>\n",
       "      <th>leih_tot_dur_byage</th>\n",
       "      <th>LHG_tot_dur_byage</th>\n",
       "      <th>LEH_tot_dur_byage</th>\n",
       "      <th>almp_tot_dur_byage</th>\n",
       "      <th>almp_aw_tot_dur_byage</th>\n",
       "      <th>se_tot_dur_byage</th>\n",
       "      <th>seeking1_tot_dur_byage</th>\n",
       "    </tr>\n",
       "  </thead>\n",
       "  <tbody>\n",
       "    <tr>\n",
       "      <th>0</th>\n",
       "      <td>7</td>\n",
       "      <td>2015</td>\n",
       "      <td>1</td>\n",
       "      <td>0</td>\n",
       "      <td>1</td>\n",
       "      <td>0</td>\n",
       "      <td>0</td>\n",
       "      <td>0</td>\n",
       "      <td>1</td>\n",
       "      <td>0</td>\n",
       "      <td>...</td>\n",
       "      <td>0.000000</td>\n",
       "      <td>0.000000</td>\n",
       "      <td>15.043478</td>\n",
       "      <td>0.000000</td>\n",
       "      <td>0.000000</td>\n",
       "      <td>0.000000</td>\n",
       "      <td>0.000000</td>\n",
       "      <td>0.000000</td>\n",
       "      <td>0.000000</td>\n",
       "      <td>0.000000</td>\n",
       "    </tr>\n",
       "    <tr>\n",
       "      <th>1</th>\n",
       "      <td>18</td>\n",
       "      <td>2010</td>\n",
       "      <td>1</td>\n",
       "      <td>1</td>\n",
       "      <td>0</td>\n",
       "      <td>0</td>\n",
       "      <td>0</td>\n",
       "      <td>0</td>\n",
       "      <td>0</td>\n",
       "      <td>0</td>\n",
       "      <td>...</td>\n",
       "      <td>0.000000</td>\n",
       "      <td>0.000000</td>\n",
       "      <td>0.000000</td>\n",
       "      <td>0.000000</td>\n",
       "      <td>0.000000</td>\n",
       "      <td>0.000000</td>\n",
       "      <td>0.000000</td>\n",
       "      <td>0.000000</td>\n",
       "      <td>0.000000</td>\n",
       "      <td>0.000000</td>\n",
       "    </tr>\n",
       "    <tr>\n",
       "      <th>2</th>\n",
       "      <td>18</td>\n",
       "      <td>2011</td>\n",
       "      <td>2</td>\n",
       "      <td>0</td>\n",
       "      <td>1</td>\n",
       "      <td>0</td>\n",
       "      <td>1</td>\n",
       "      <td>0</td>\n",
       "      <td>1</td>\n",
       "      <td>0</td>\n",
       "      <td>...</td>\n",
       "      <td>2.714286</td>\n",
       "      <td>2.714286</td>\n",
       "      <td>0.000000</td>\n",
       "      <td>0.000000</td>\n",
       "      <td>10.775510</td>\n",
       "      <td>0.000000</td>\n",
       "      <td>8.367347</td>\n",
       "      <td>0.000000</td>\n",
       "      <td>0.000000</td>\n",
       "      <td>9.836735</td>\n",
       "    </tr>\n",
       "    <tr>\n",
       "      <th>3</th>\n",
       "      <td>18</td>\n",
       "      <td>2012</td>\n",
       "      <td>3</td>\n",
       "      <td>0</td>\n",
       "      <td>1</td>\n",
       "      <td>0</td>\n",
       "      <td>1</td>\n",
       "      <td>0</td>\n",
       "      <td>1</td>\n",
       "      <td>0</td>\n",
       "      <td>...</td>\n",
       "      <td>4.200000</td>\n",
       "      <td>4.200000</td>\n",
       "      <td>0.000000</td>\n",
       "      <td>0.000000</td>\n",
       "      <td>12.100000</td>\n",
       "      <td>0.000000</td>\n",
       "      <td>9.400000</td>\n",
       "      <td>0.000000</td>\n",
       "      <td>0.000000</td>\n",
       "      <td>9.960000</td>\n",
       "    </tr>\n",
       "    <tr>\n",
       "      <th>4</th>\n",
       "      <td>18</td>\n",
       "      <td>2012</td>\n",
       "      <td>4</td>\n",
       "      <td>0</td>\n",
       "      <td>1</td>\n",
       "      <td>0</td>\n",
       "      <td>1</td>\n",
       "      <td>0</td>\n",
       "      <td>1</td>\n",
       "      <td>0</td>\n",
       "      <td>...</td>\n",
       "      <td>5.460000</td>\n",
       "      <td>5.460000</td>\n",
       "      <td>0.000000</td>\n",
       "      <td>0.000000</td>\n",
       "      <td>13.360000</td>\n",
       "      <td>0.000000</td>\n",
       "      <td>10.320000</td>\n",
       "      <td>0.000000</td>\n",
       "      <td>0.000000</td>\n",
       "      <td>10.280000</td>\n",
       "    </tr>\n",
       "    <tr>\n",
       "      <th>...</th>\n",
       "      <td>...</td>\n",
       "      <td>...</td>\n",
       "      <td>...</td>\n",
       "      <td>...</td>\n",
       "      <td>...</td>\n",
       "      <td>...</td>\n",
       "      <td>...</td>\n",
       "      <td>...</td>\n",
       "      <td>...</td>\n",
       "      <td>...</td>\n",
       "      <td>...</td>\n",
       "      <td>...</td>\n",
       "      <td>...</td>\n",
       "      <td>...</td>\n",
       "      <td>...</td>\n",
       "      <td>...</td>\n",
       "      <td>...</td>\n",
       "      <td>...</td>\n",
       "      <td>...</td>\n",
       "      <td>...</td>\n",
       "      <td>...</td>\n",
       "    </tr>\n",
       "    <tr>\n",
       "      <th>643685</th>\n",
       "      <td>1827860</td>\n",
       "      <td>2013</td>\n",
       "      <td>1</td>\n",
       "      <td>0</td>\n",
       "      <td>0</td>\n",
       "      <td>0</td>\n",
       "      <td>1</td>\n",
       "      <td>0</td>\n",
       "      <td>0</td>\n",
       "      <td>1</td>\n",
       "      <td>...</td>\n",
       "      <td>0.000000</td>\n",
       "      <td>0.000000</td>\n",
       "      <td>0.000000</td>\n",
       "      <td>0.000000</td>\n",
       "      <td>0.612903</td>\n",
       "      <td>0.000000</td>\n",
       "      <td>0.000000</td>\n",
       "      <td>0.000000</td>\n",
       "      <td>0.000000</td>\n",
       "      <td>0.000000</td>\n",
       "    </tr>\n",
       "    <tr>\n",
       "      <th>643686</th>\n",
       "      <td>1827860</td>\n",
       "      <td>2015</td>\n",
       "      <td>2</td>\n",
       "      <td>1</td>\n",
       "      <td>0</td>\n",
       "      <td>0</td>\n",
       "      <td>1</td>\n",
       "      <td>0</td>\n",
       "      <td>1</td>\n",
       "      <td>0</td>\n",
       "      <td>...</td>\n",
       "      <td>0.000000</td>\n",
       "      <td>0.000000</td>\n",
       "      <td>0.212121</td>\n",
       "      <td>0.212121</td>\n",
       "      <td>17.363636</td>\n",
       "      <td>0.000000</td>\n",
       "      <td>8.909091</td>\n",
       "      <td>0.000000</td>\n",
       "      <td>0.000000</td>\n",
       "      <td>7.121212</td>\n",
       "    </tr>\n",
       "    <tr>\n",
       "      <th>643687</th>\n",
       "      <td>1827860</td>\n",
       "      <td>2016</td>\n",
       "      <td>3</td>\n",
       "      <td>1</td>\n",
       "      <td>0</td>\n",
       "      <td>0</td>\n",
       "      <td>1</td>\n",
       "      <td>1</td>\n",
       "      <td>0</td>\n",
       "      <td>1</td>\n",
       "      <td>...</td>\n",
       "      <td>0.000000</td>\n",
       "      <td>0.000000</td>\n",
       "      <td>0.294118</td>\n",
       "      <td>0.205882</td>\n",
       "      <td>34.705882</td>\n",
       "      <td>0.000000</td>\n",
       "      <td>10.352941</td>\n",
       "      <td>1.705882</td>\n",
       "      <td>1.705882</td>\n",
       "      <td>23.911765</td>\n",
       "    </tr>\n",
       "    <tr>\n",
       "      <th>643688</th>\n",
       "      <td>1827869</td>\n",
       "      <td>2013</td>\n",
       "      <td>1</td>\n",
       "      <td>1</td>\n",
       "      <td>1</td>\n",
       "      <td>0</td>\n",
       "      <td>0</td>\n",
       "      <td>0</td>\n",
       "      <td>1</td>\n",
       "      <td>0</td>\n",
       "      <td>...</td>\n",
       "      <td>0.000000</td>\n",
       "      <td>0.000000</td>\n",
       "      <td>0.000000</td>\n",
       "      <td>0.000000</td>\n",
       "      <td>0.000000</td>\n",
       "      <td>0.525424</td>\n",
       "      <td>0.000000</td>\n",
       "      <td>0.000000</td>\n",
       "      <td>0.000000</td>\n",
       "      <td>0.000000</td>\n",
       "    </tr>\n",
       "    <tr>\n",
       "      <th>643689</th>\n",
       "      <td>1827869</td>\n",
       "      <td>2014</td>\n",
       "      <td>2</td>\n",
       "      <td>0</td>\n",
       "      <td>0</td>\n",
       "      <td>1</td>\n",
       "      <td>0</td>\n",
       "      <td>0</td>\n",
       "      <td>1</td>\n",
       "      <td>0</td>\n",
       "      <td>...</td>\n",
       "      <td>0.000000</td>\n",
       "      <td>0.666667</td>\n",
       "      <td>0.666667</td>\n",
       "      <td>0.000000</td>\n",
       "      <td>0.000000</td>\n",
       "      <td>8.950000</td>\n",
       "      <td>1.033333</td>\n",
       "      <td>0.083333</td>\n",
       "      <td>0.083333</td>\n",
       "      <td>8.133333</td>\n",
       "    </tr>\n",
       "  </tbody>\n",
       "</table>\n",
       "<p>643690 rows × 164 columns</p>\n",
       "</div>"
      ],
      "text/plain": [
       "         persnr  year  nrEntry  ltue  employed_before  receipt_leh_before  \\\n",
       "0             7  2015        1     0                1                   0   \n",
       "1            18  2010        1     1                0                   0   \n",
       "2            18  2011        2     0                1                   0   \n",
       "3            18  2012        3     0                1                   0   \n",
       "4            18  2012        4     0                1                   0   \n",
       "...         ...   ...      ...   ...              ...                 ...   \n",
       "643685  1827860  2013        1     0                0                   0   \n",
       "643686  1827860  2015        2     1                0                   0   \n",
       "643687  1827860  2016        3     1                0                   0   \n",
       "643688  1827869  2013        1     1                1                   0   \n",
       "643689  1827869  2014        2     0                0                   1   \n",
       "\n",
       "        receipt_lhg_before  se_before  ASU_notue_seeking_before  \\\n",
       "0                        0          0                         1   \n",
       "1                        0          0                         0   \n",
       "2                        1          0                         1   \n",
       "3                        1          0                         1   \n",
       "4                        1          0                         1   \n",
       "...                    ...        ...                       ...   \n",
       "643685                   1          0                         0   \n",
       "643686                   1          0                         1   \n",
       "643687                   1          1                         0   \n",
       "643688                   0          0                         1   \n",
       "643689                   0          0                         1   \n",
       "\n",
       "        ASU_other_before  ...  minijob_tot_dur_byage  ft_tot_dur_byage  \\\n",
       "0                      0  ...               0.000000          0.000000   \n",
       "1                      0  ...               0.000000          0.000000   \n",
       "2                      0  ...               2.714286          2.714286   \n",
       "3                      0  ...               4.200000          4.200000   \n",
       "4                      0  ...               5.460000          5.460000   \n",
       "...                  ...  ...                    ...               ...   \n",
       "643685                 1  ...               0.000000          0.000000   \n",
       "643686                 0  ...               0.000000          0.000000   \n",
       "643687                 1  ...               0.000000          0.000000   \n",
       "643688                 0  ...               0.000000          0.000000   \n",
       "643689                 0  ...               0.000000          0.666667   \n",
       "\n",
       "        befrist_tot_dur_byage  leih_tot_dur_byage  LHG_tot_dur_byage  \\\n",
       "0                   15.043478            0.000000           0.000000   \n",
       "1                    0.000000            0.000000           0.000000   \n",
       "2                    0.000000            0.000000          10.775510   \n",
       "3                    0.000000            0.000000          12.100000   \n",
       "4                    0.000000            0.000000          13.360000   \n",
       "...                       ...                 ...                ...   \n",
       "643685               0.000000            0.000000           0.612903   \n",
       "643686               0.212121            0.212121          17.363636   \n",
       "643687               0.294118            0.205882          34.705882   \n",
       "643688               0.000000            0.000000           0.000000   \n",
       "643689               0.666667            0.000000           0.000000   \n",
       "\n",
       "        LEH_tot_dur_byage  almp_tot_dur_byage  almp_aw_tot_dur_byage  \\\n",
       "0                0.000000            0.000000               0.000000   \n",
       "1                0.000000            0.000000               0.000000   \n",
       "2                0.000000            8.367347               0.000000   \n",
       "3                0.000000            9.400000               0.000000   \n",
       "4                0.000000           10.320000               0.000000   \n",
       "...                   ...                 ...                    ...   \n",
       "643685           0.000000            0.000000               0.000000   \n",
       "643686           0.000000            8.909091               0.000000   \n",
       "643687           0.000000           10.352941               1.705882   \n",
       "643688           0.525424            0.000000               0.000000   \n",
       "643689           8.950000            1.033333               0.083333   \n",
       "\n",
       "        se_tot_dur_byage  seeking1_tot_dur_byage  \n",
       "0               0.000000                0.000000  \n",
       "1               0.000000                0.000000  \n",
       "2               0.000000                9.836735  \n",
       "3               0.000000                9.960000  \n",
       "4               0.000000               10.280000  \n",
       "...                  ...                     ...  \n",
       "643685          0.000000                0.000000  \n",
       "643686          0.000000                7.121212  \n",
       "643687          1.705882               23.911765  \n",
       "643688          0.000000                0.000000  \n",
       "643689          0.083333                8.133333  \n",
       "\n",
       "[643690 rows x 164 columns]"
      ]
     },
     "execution_count": 10,
     "metadata": {},
     "output_type": "execute_result"
    }
   ],
   "source": [
    "siab"
   ]
  },
  {
   "cell_type": "markdown",
   "id": "1f87e805",
   "metadata": {
    "papermill": {
     "duration": 0.011378,
     "end_time": "2025-08-19T18:56:47.403980",
     "exception": false,
     "start_time": "2025-08-19T18:56:47.392602",
     "status": "completed"
    },
    "tags": []
   },
   "source": [
    "# Splitting Data and Setting Training Data Size"
   ]
  },
  {
   "cell_type": "code",
   "execution_count": 11,
   "id": "910ae358",
   "metadata": {
    "execution": {
     "iopub.execute_input": "2025-08-19T18:56:47.425336Z",
     "iopub.status.busy": "2025-08-19T18:56:47.424808Z",
     "iopub.status.idle": "2025-08-19T18:56:48.057910Z",
     "shell.execute_reply": "2025-08-19T18:56:48.056099Z"
    },
    "papermill": {
     "duration": 0.646245,
     "end_time": "2025-08-19T18:56:48.059941",
     "exception": false,
     "start_time": "2025-08-19T18:56:47.413696",
     "status": "completed"
    },
    "tags": []
   },
   "outputs": [],
   "source": [
    "from fairness_multiverse.universe import sample_by_year_size\n",
    "\n",
    "siab_train = sample_by_year_size(siab,\n",
    "                               training_year=universe[\"training_year\"],\n",
    "                               training_size=universe[\"training_size\"])"
   ]
  },
  {
   "cell_type": "code",
   "execution_count": 12,
   "id": "919c8ff5",
   "metadata": {
    "execution": {
     "iopub.execute_input": "2025-08-19T18:56:48.084617Z",
     "iopub.status.busy": "2025-08-19T18:56:48.083744Z",
     "iopub.status.idle": "2025-08-19T18:56:48.096581Z",
     "shell.execute_reply": "2025-08-19T18:56:48.095404Z"
    },
    "papermill": {
     "duration": 0.02638,
     "end_time": "2025-08-19T18:56:48.098267",
     "exception": false,
     "start_time": "2025-08-19T18:56:48.071887",
     "status": "completed"
    },
    "tags": []
   },
   "outputs": [
    {
     "data": {
      "text/plain": [
       "(1000, 164)"
      ]
     },
     "execution_count": 12,
     "metadata": {},
     "output_type": "execute_result"
    }
   ],
   "source": [
    "siab_train.shape"
   ]
  },
  {
   "cell_type": "code",
   "execution_count": 13,
   "id": "feb13bf4",
   "metadata": {
    "execution": {
     "iopub.execute_input": "2025-08-19T18:56:48.124046Z",
     "iopub.status.busy": "2025-08-19T18:56:48.122532Z",
     "iopub.status.idle": "2025-08-19T18:56:48.135292Z",
     "shell.execute_reply": "2025-08-19T18:56:48.134404Z"
    },
    "papermill": {
     "duration": 0.026053,
     "end_time": "2025-08-19T18:56:48.136975",
     "exception": false,
     "start_time": "2025-08-19T18:56:48.110922",
     "status": "completed"
    },
    "tags": []
   },
   "outputs": [
    {
     "data": {
      "text/plain": [
       "year\n",
       "2012    334\n",
       "2013    333\n",
       "2014    333\n",
       "dtype: int64"
      ]
     },
     "metadata": {},
     "output_type": "display_data"
    }
   ],
   "source": [
    "display(siab_train.groupby(\"year\").size())"
   ]
  },
  {
   "cell_type": "code",
   "execution_count": 14,
   "id": "0997782f",
   "metadata": {
    "execution": {
     "iopub.execute_input": "2025-08-19T18:56:48.175210Z",
     "iopub.status.busy": "2025-08-19T18:56:48.168389Z",
     "iopub.status.idle": "2025-08-19T18:56:48.490375Z",
     "shell.execute_reply": "2025-08-19T18:56:48.488827Z"
    },
    "papermill": {
     "duration": 0.342541,
     "end_time": "2025-08-19T18:56:48.492125",
     "exception": false,
     "start_time": "2025-08-19T18:56:48.149584",
     "status": "completed"
    },
    "tags": []
   },
   "outputs": [],
   "source": [
    "#siab_train = siab_s[siab_s.year < 2015]\n",
    "siab_calib = siab[siab.year == 2015]\n",
    "siab_test = siab[siab.year == 2016]"
   ]
  },
  {
   "cell_type": "code",
   "execution_count": 15,
   "id": "2c1e4012",
   "metadata": {
    "execution": {
     "iopub.execute_input": "2025-08-19T18:56:48.515267Z",
     "iopub.status.busy": "2025-08-19T18:56:48.514715Z",
     "iopub.status.idle": "2025-08-19T18:56:48.521825Z",
     "shell.execute_reply": "2025-08-19T18:56:48.520355Z"
    },
    "papermill": {
     "duration": 0.020814,
     "end_time": "2025-08-19T18:56:48.523652",
     "exception": false,
     "start_time": "2025-08-19T18:56:48.502838",
     "status": "completed"
    },
    "tags": []
   },
   "outputs": [],
   "source": [
    "#siab_calib.shape"
   ]
  },
  {
   "cell_type": "code",
   "execution_count": 16,
   "id": "f66b54ca",
   "metadata": {
    "execution": {
     "iopub.execute_input": "2025-08-19T18:56:48.549747Z",
     "iopub.status.busy": "2025-08-19T18:56:48.549322Z",
     "iopub.status.idle": "2025-08-19T18:56:48.554479Z",
     "shell.execute_reply": "2025-08-19T18:56:48.553505Z"
    },
    "papermill": {
     "duration": 0.019811,
     "end_time": "2025-08-19T18:56:48.557155",
     "exception": false,
     "start_time": "2025-08-19T18:56:48.537344",
     "status": "completed"
    },
    "tags": []
   },
   "outputs": [],
   "source": [
    "#siab_test.shape"
   ]
  },
  {
   "cell_type": "code",
   "execution_count": 17,
   "id": "27e4384d",
   "metadata": {
    "execution": {
     "iopub.execute_input": "2025-08-19T18:56:48.594004Z",
     "iopub.status.busy": "2025-08-19T18:56:48.592743Z",
     "iopub.status.idle": "2025-08-19T18:56:48.602463Z",
     "shell.execute_reply": "2025-08-19T18:56:48.601255Z"
    },
    "papermill": {
     "duration": 0.02509,
     "end_time": "2025-08-19T18:56:48.603852",
     "exception": false,
     "start_time": "2025-08-19T18:56:48.578762",
     "status": "completed"
    },
    "tags": []
   },
   "outputs": [],
   "source": [
    "X_train = siab_train.iloc[:,4:164]\n",
    "y_train = siab_train.iloc[:, [3]]"
   ]
  },
  {
   "cell_type": "code",
   "execution_count": 18,
   "id": "08ee8389",
   "metadata": {
    "execution": {
     "iopub.execute_input": "2025-08-19T18:56:48.629366Z",
     "iopub.status.busy": "2025-08-19T18:56:48.628328Z",
     "iopub.status.idle": "2025-08-19T18:56:48.703613Z",
     "shell.execute_reply": "2025-08-19T18:56:48.702903Z"
    },
    "papermill": {
     "duration": 0.089384,
     "end_time": "2025-08-19T18:56:48.706313",
     "exception": false,
     "start_time": "2025-08-19T18:56:48.616929",
     "status": "completed"
    },
    "tags": []
   },
   "outputs": [],
   "source": [
    "X_calib = siab_calib.iloc[:,4:164]\n",
    "y_calib = siab_calib.iloc[:, [3]]"
   ]
  },
  {
   "cell_type": "code",
   "execution_count": 19,
   "id": "b7ff42e0",
   "metadata": {
    "execution": {
     "iopub.execute_input": "2025-08-19T18:56:48.743919Z",
     "iopub.status.busy": "2025-08-19T18:56:48.742622Z",
     "iopub.status.idle": "2025-08-19T18:56:48.845757Z",
     "shell.execute_reply": "2025-08-19T18:56:48.844955Z"
    },
    "papermill": {
     "duration": 0.118212,
     "end_time": "2025-08-19T18:56:48.848314",
     "exception": false,
     "start_time": "2025-08-19T18:56:48.730102",
     "status": "completed"
    },
    "tags": []
   },
   "outputs": [],
   "source": [
    "X_test = siab_test.iloc[:,4:164]\n",
    "y_true = siab_test.iloc[:, [3]]"
   ]
  },
  {
   "cell_type": "code",
   "execution_count": 20,
   "id": "0275101e",
   "metadata": {
    "execution": {
     "iopub.execute_input": "2025-08-19T18:56:48.896323Z",
     "iopub.status.busy": "2025-08-19T18:56:48.894794Z",
     "iopub.status.idle": "2025-08-19T18:56:49.043162Z",
     "shell.execute_reply": "2025-08-19T18:56:49.042424Z"
    },
    "papermill": {
     "duration": 0.171193,
     "end_time": "2025-08-19T18:56:49.044671",
     "exception": false,
     "start_time": "2025-08-19T18:56:48.873478",
     "status": "completed"
    },
    "tags": []
   },
   "outputs": [],
   "source": [
    "# Auxiliary data needed downstream in the pipeline\n",
    "\n",
    "org_train = X_train.copy()\n",
    "org_test = X_test.copy()\n",
    "org_calib = X_calib.copy()"
   ]
  },
  {
   "cell_type": "markdown",
   "id": "b461e618",
   "metadata": {
    "papermill": {
     "duration": 0.010768,
     "end_time": "2025-08-19T18:56:49.066517",
     "exception": false,
     "start_time": "2025-08-19T18:56:49.055749",
     "status": "completed"
    },
    "tags": []
   },
   "source": [
    "# Preprocessing Data"
   ]
  },
  {
   "cell_type": "code",
   "execution_count": 21,
   "id": "78e74c4b",
   "metadata": {
    "execution": {
     "iopub.execute_input": "2025-08-19T18:56:49.090390Z",
     "iopub.status.busy": "2025-08-19T18:56:49.089210Z",
     "iopub.status.idle": "2025-08-19T18:56:49.100334Z",
     "shell.execute_reply": "2025-08-19T18:56:49.098903Z"
    },
    "papermill": {
     "duration": 0.025083,
     "end_time": "2025-08-19T18:56:49.102163",
     "exception": false,
     "start_time": "2025-08-19T18:56:49.077080",
     "status": "completed"
    },
    "tags": []
   },
   "outputs": [],
   "source": [
    "# EXCLUDE PROTECTED FEATURES\n",
    "# --------------------------\n",
    "\n",
    "excluded_features = universe[\"exclude_features\"].split(\"-\")\n",
    "excluded_features_dictionary = {\n",
    "    \"nationality\": [\"maxdeutsch1\", \"maxdeutsch.Missing.\"],\n",
    "    \"sex\": [\"frau1\"],\n",
    "    \"age\": [\"age\"],\n",
    "}"
   ]
  },
  {
   "cell_type": "code",
   "execution_count": 22,
   "id": "f8e63555",
   "metadata": {
    "execution": {
     "iopub.execute_input": "2025-08-19T18:56:49.130052Z",
     "iopub.status.busy": "2025-08-19T18:56:49.128938Z",
     "iopub.status.idle": "2025-08-19T18:56:49.139017Z",
     "shell.execute_reply": "2025-08-19T18:56:49.137375Z"
    },
    "papermill": {
     "duration": 0.023921,
     "end_time": "2025-08-19T18:56:49.140635",
     "exception": false,
     "start_time": "2025-08-19T18:56:49.116714",
     "status": "completed"
    },
    "tags": []
   },
   "outputs": [],
   "source": [
    "excluded_features_columns = [\n",
    "    excluded_features_dictionary[f] for f in excluded_features if len(f) > 0 and f != \"none\"\n",
    "]"
   ]
  },
  {
   "cell_type": "code",
   "execution_count": 23,
   "id": "da781f7c",
   "metadata": {
    "execution": {
     "iopub.execute_input": "2025-08-19T18:56:49.169316Z",
     "iopub.status.busy": "2025-08-19T18:56:49.168115Z",
     "iopub.status.idle": "2025-08-19T18:56:49.178003Z",
     "shell.execute_reply": "2025-08-19T18:56:49.175842Z"
    },
    "papermill": {
     "duration": 0.024464,
     "end_time": "2025-08-19T18:56:49.179765",
     "exception": false,
     "start_time": "2025-08-19T18:56:49.155301",
     "status": "completed"
    },
    "tags": []
   },
   "outputs": [],
   "source": [
    "from fairness_multiverse.universe import flatten_once\n",
    "\n",
    "excluded_features_columns = flatten_once(excluded_features_columns)"
   ]
  },
  {
   "cell_type": "code",
   "execution_count": 24,
   "id": "37fef0f0",
   "metadata": {
    "execution": {
     "iopub.execute_input": "2025-08-19T18:56:49.207774Z",
     "iopub.status.busy": "2025-08-19T18:56:49.206018Z",
     "iopub.status.idle": "2025-08-19T18:56:49.224353Z",
     "shell.execute_reply": "2025-08-19T18:56:49.223213Z"
    },
    "papermill": {
     "duration": 0.03251,
     "end_time": "2025-08-19T18:56:49.226093",
     "exception": false,
     "start_time": "2025-08-19T18:56:49.193583",
     "status": "completed"
    },
    "tags": []
   },
   "outputs": [
    {
     "name": "stdout",
     "output_type": "stream",
     "text": [
      "Dropping features: ['maxdeutsch1', 'maxdeutsch.Missing.']\n"
     ]
    }
   ],
   "source": [
    "if len(excluded_features_columns) > 0:\n",
    "    print(f\"Dropping features: {excluded_features_columns}\")\n",
    "    X_train.drop(excluded_features_columns, axis=1, inplace=True)"
   ]
  },
  {
   "cell_type": "code",
   "execution_count": 25,
   "id": "d029e3e9",
   "metadata": {
    "execution": {
     "iopub.execute_input": "2025-08-19T18:56:49.250667Z",
     "iopub.status.busy": "2025-08-19T18:56:49.249554Z",
     "iopub.status.idle": "2025-08-19T18:56:49.328726Z",
     "shell.execute_reply": "2025-08-19T18:56:49.327941Z"
    },
    "papermill": {
     "duration": 0.097873,
     "end_time": "2025-08-19T18:56:49.335676",
     "exception": false,
     "start_time": "2025-08-19T18:56:49.237803",
     "status": "completed"
    },
    "tags": []
   },
   "outputs": [
    {
     "name": "stdout",
     "output_type": "stream",
     "text": [
      "Dropping features: ['maxdeutsch1', 'maxdeutsch.Missing.']\n"
     ]
    }
   ],
   "source": [
    "if len(excluded_features_columns) > 0:\n",
    "    print(f\"Dropping features: {excluded_features_columns}\")\n",
    "    X_test.drop(excluded_features_columns, axis=1, inplace=True)"
   ]
  },
  {
   "cell_type": "code",
   "execution_count": 26,
   "id": "01d571f0",
   "metadata": {
    "execution": {
     "iopub.execute_input": "2025-08-19T18:56:49.373044Z",
     "iopub.status.busy": "2025-08-19T18:56:49.371644Z",
     "iopub.status.idle": "2025-08-19T18:56:49.430360Z",
     "shell.execute_reply": "2025-08-19T18:56:49.429476Z"
    },
    "papermill": {
     "duration": 0.074165,
     "end_time": "2025-08-19T18:56:49.432966",
     "exception": false,
     "start_time": "2025-08-19T18:56:49.358801",
     "status": "completed"
    },
    "tags": []
   },
   "outputs": [
    {
     "name": "stdout",
     "output_type": "stream",
     "text": [
      "Dropping features: ['maxdeutsch1', 'maxdeutsch.Missing.']\n"
     ]
    }
   ],
   "source": [
    "if len(excluded_features_columns) > 0:\n",
    "    print(f\"Dropping features: {excluded_features_columns}\")\n",
    "    X_calib.drop(excluded_features_columns, axis=1, inplace=True)"
   ]
  },
  {
   "cell_type": "code",
   "execution_count": 27,
   "id": "3037356e",
   "metadata": {
    "execution": {
     "iopub.execute_input": "2025-08-19T18:56:49.473267Z",
     "iopub.status.busy": "2025-08-19T18:56:49.472069Z",
     "iopub.status.idle": "2025-08-19T18:56:49.481583Z",
     "shell.execute_reply": "2025-08-19T18:56:49.479890Z"
    },
    "papermill": {
     "duration": 0.025806,
     "end_time": "2025-08-19T18:56:49.483419",
     "exception": false,
     "start_time": "2025-08-19T18:56:49.457613",
     "status": "completed"
    },
    "tags": []
   },
   "outputs": [],
   "source": [
    "# EXCLUDE CERTAIN SUBGROUPS\n",
    "# -------------------------\n",
    "\n",
    "mode = universe.get(\"exclude_subgroups\", \"keep-all\") # Defaults to \"keep-all\" if the key is missing."
   ]
  },
  {
   "cell_type": "code",
   "execution_count": 28,
   "id": "9d1e63fd",
   "metadata": {
    "execution": {
     "iopub.execute_input": "2025-08-19T18:56:49.512679Z",
     "iopub.status.busy": "2025-08-19T18:56:49.511188Z",
     "iopub.status.idle": "2025-08-19T18:56:49.525341Z",
     "shell.execute_reply": "2025-08-19T18:56:49.523766Z"
    },
    "papermill": {
     "duration": 0.029136,
     "end_time": "2025-08-19T18:56:49.527467",
     "exception": false,
     "start_time": "2025-08-19T18:56:49.498331",
     "status": "completed"
    },
    "tags": []
   },
   "outputs": [],
   "source": [
    "if mode == \"keep-all\":\n",
    "    keep_mask = pd.Series(True, index=org_train.index)\n",
    "\n",
    "elif mode == \"drop-non-german\":\n",
    "    keep_mask = (org_train[\"maxdeutsch1\"] == 1) & (org_train[\"maxdeutsch.Missing.\"] == 0)\n",
    "\n",
    "else:\n",
    "    raise ValueError(f\"Unsupported mode for exclude_subgroups: {mode}\")"
   ]
  },
  {
   "cell_type": "code",
   "execution_count": 29,
   "id": "d3b65474",
   "metadata": {
    "execution": {
     "iopub.execute_input": "2025-08-19T18:56:49.559197Z",
     "iopub.status.busy": "2025-08-19T18:56:49.557644Z",
     "iopub.status.idle": "2025-08-19T18:56:49.571129Z",
     "shell.execute_reply": "2025-08-19T18:56:49.569682Z"
    },
    "papermill": {
     "duration": 0.028805,
     "end_time": "2025-08-19T18:56:49.572975",
     "exception": false,
     "start_time": "2025-08-19T18:56:49.544170",
     "status": "completed"
    },
    "tags": []
   },
   "outputs": [],
   "source": [
    "n_drop = (~keep_mask).sum() # Calculates how many rows are set to be dropped\n",
    "if n_drop > 0:\n",
    "    pct = n_drop / len(keep_mask) * 100\n",
    "    print(f\"Dropping {n_drop} rows ({pct:.2f}%) where mode='{mode}'\")"
   ]
  },
  {
   "cell_type": "code",
   "execution_count": 30,
   "id": "f44389b3",
   "metadata": {
    "execution": {
     "iopub.execute_input": "2025-08-19T18:56:49.600082Z",
     "iopub.status.busy": "2025-08-19T18:56:49.599182Z",
     "iopub.status.idle": "2025-08-19T18:56:49.605588Z",
     "shell.execute_reply": "2025-08-19T18:56:49.604797Z"
    },
    "papermill": {
     "duration": 0.0198,
     "end_time": "2025-08-19T18:56:49.606788",
     "exception": false,
     "start_time": "2025-08-19T18:56:49.586988",
     "status": "completed"
    },
    "tags": []
   },
   "outputs": [],
   "source": [
    "X_train = X_train[keep_mask]"
   ]
  },
  {
   "cell_type": "code",
   "execution_count": 31,
   "id": "ceca8c2a",
   "metadata": {
    "execution": {
     "iopub.execute_input": "2025-08-19T18:56:49.631588Z",
     "iopub.status.busy": "2025-08-19T18:56:49.631031Z",
     "iopub.status.idle": "2025-08-19T18:56:49.637916Z",
     "shell.execute_reply": "2025-08-19T18:56:49.637213Z"
    },
    "papermill": {
     "duration": 0.019966,
     "end_time": "2025-08-19T18:56:49.639119",
     "exception": false,
     "start_time": "2025-08-19T18:56:49.619153",
     "status": "completed"
    },
    "tags": []
   },
   "outputs": [],
   "source": [
    "y_train = y_train[keep_mask]"
   ]
  },
  {
   "cell_type": "markdown",
   "id": "04d31e2f",
   "metadata": {
    "papermill": {
     "duration": 0.01046,
     "end_time": "2025-08-19T18:56:49.660301",
     "exception": false,
     "start_time": "2025-08-19T18:56:49.649841",
     "status": "completed"
    },
    "tags": []
   },
   "source": [
    "# Model Training"
   ]
  },
  {
   "cell_type": "code",
   "execution_count": 32,
   "id": "db991733",
   "metadata": {
    "execution": {
     "iopub.execute_input": "2025-08-19T18:56:49.683316Z",
     "iopub.status.busy": "2025-08-19T18:56:49.682546Z",
     "iopub.status.idle": "2025-08-19T18:56:49.800076Z",
     "shell.execute_reply": "2025-08-19T18:56:49.798678Z"
    },
    "papermill": {
     "duration": 0.13227,
     "end_time": "2025-08-19T18:56:49.803074",
     "exception": false,
     "start_time": "2025-08-19T18:56:49.670804",
     "status": "completed"
    },
    "tags": []
   },
   "outputs": [],
   "source": [
    "from sklearn.linear_model import LogisticRegression\n",
    "from sklearn.ensemble import GradientBoostingClassifier, RandomForestClassifier\n",
    "\n",
    "if (universe[\"model\"] == \"logreg\"):\n",
    "    model = LogisticRegression() #penalty=\"none\", solver=\"newton-cg\", max_iter=1)\n",
    "elif (universe[\"model\"] == \"penalized_logreg\"):\n",
    "    model = LogisticRegression(penalty=\"l2\", C=0.1) #, solver=\"newton-cg\", max_iter=1)\n",
    "elif (universe[\"model\"] == \"rf\"):\n",
    "    model = RandomForestClassifier() # n_estimators=100, n_jobs=-1\n",
    "elif (universe[\"model\"] == \"gbm\"):\n",
    "    model = GradientBoostingClassifier()\n",
    "elif (universe[\"model\"] == \"elasticnet\"):\n",
    "    model = LogisticRegression(penalty = 'elasticnet', solver = 'saga', l1_ratio = 0.5) # max_iter=5000\n",
    "else:\n",
    "    raise \"Unsupported universe.model\""
   ]
  },
  {
   "cell_type": "code",
   "execution_count": 33,
   "id": "a4b5cd25",
   "metadata": {
    "execution": {
     "iopub.execute_input": "2025-08-19T18:56:49.841189Z",
     "iopub.status.busy": "2025-08-19T18:56:49.826456Z",
     "iopub.status.idle": "2025-08-19T18:56:49.850044Z",
     "shell.execute_reply": "2025-08-19T18:56:49.849112Z"
    },
    "papermill": {
     "duration": 0.037559,
     "end_time": "2025-08-19T18:56:49.851819",
     "exception": false,
     "start_time": "2025-08-19T18:56:49.814260",
     "status": "completed"
    },
    "tags": []
   },
   "outputs": [],
   "source": [
    "from sklearn.pipeline import Pipeline\n",
    "from sklearn.preprocessing import StandardScaler\n",
    "\n",
    "model = Pipeline([\n",
    "    #(\"continuous_processor\", continuous_processor),\n",
    "    #(\"categorical_preprocessor\", categorical_preprocessor),\n",
    "    (\"scale\", StandardScaler() if universe[\"scale\"] == \"scale\" else None), \n",
    "    (\"model\", model),\n",
    "])"
   ]
  },
  {
   "cell_type": "code",
   "execution_count": 34,
   "id": "283a904d",
   "metadata": {
    "execution": {
     "iopub.execute_input": "2025-08-19T18:56:49.889063Z",
     "iopub.status.busy": "2025-08-19T18:56:49.888160Z",
     "iopub.status.idle": "2025-08-19T18:56:49.957006Z",
     "shell.execute_reply": "2025-08-19T18:56:49.956083Z"
    },
    "papermill": {
     "duration": 0.083699,
     "end_time": "2025-08-19T18:56:49.958788",
     "exception": false,
     "start_time": "2025-08-19T18:56:49.875089",
     "status": "completed"
    },
    "tags": []
   },
   "outputs": [
    {
     "name": "stderr",
     "output_type": "stream",
     "text": [
      "/dss/dsshome1/0C/ra93lal2/.local/share/virtualenvs/CMA_Fairness_v2-3j10GkSs/lib/python3.10/site-packages/sklearn/linear_model/_logistic.py:444: ConvergenceWarning: lbfgs failed to converge (status=1):\n",
      "STOP: TOTAL NO. of ITERATIONS REACHED LIMIT.\n",
      "\n",
      "Increase the number of iterations (max_iter) or scale the data as shown in:\n",
      "    https://scikit-learn.org/stable/modules/preprocessing.html\n",
      "Please also refer to the documentation for alternative solver options:\n",
      "    https://scikit-learn.org/stable/modules/linear_model.html#logistic-regression\n",
      "  n_iter_i = _check_optimize_result(\n"
     ]
    },
    {
     "data": {
      "text/html": [
       "<style>#sk-container-id-1 {color: black;background-color: white;}#sk-container-id-1 pre{padding: 0;}#sk-container-id-1 div.sk-toggleable {background-color: white;}#sk-container-id-1 label.sk-toggleable__label {cursor: pointer;display: block;width: 100%;margin-bottom: 0;padding: 0.3em;box-sizing: border-box;text-align: center;}#sk-container-id-1 label.sk-toggleable__label-arrow:before {content: \"▸\";float: left;margin-right: 0.25em;color: #696969;}#sk-container-id-1 label.sk-toggleable__label-arrow:hover:before {color: black;}#sk-container-id-1 div.sk-estimator:hover label.sk-toggleable__label-arrow:before {color: black;}#sk-container-id-1 div.sk-toggleable__content {max-height: 0;max-width: 0;overflow: hidden;text-align: left;background-color: #f0f8ff;}#sk-container-id-1 div.sk-toggleable__content pre {margin: 0.2em;color: black;border-radius: 0.25em;background-color: #f0f8ff;}#sk-container-id-1 input.sk-toggleable__control:checked~div.sk-toggleable__content {max-height: 200px;max-width: 100%;overflow: auto;}#sk-container-id-1 input.sk-toggleable__control:checked~label.sk-toggleable__label-arrow:before {content: \"▾\";}#sk-container-id-1 div.sk-estimator input.sk-toggleable__control:checked~label.sk-toggleable__label {background-color: #d4ebff;}#sk-container-id-1 div.sk-label input.sk-toggleable__control:checked~label.sk-toggleable__label {background-color: #d4ebff;}#sk-container-id-1 input.sk-hidden--visually {border: 0;clip: rect(1px 1px 1px 1px);clip: rect(1px, 1px, 1px, 1px);height: 1px;margin: -1px;overflow: hidden;padding: 0;position: absolute;width: 1px;}#sk-container-id-1 div.sk-estimator {font-family: monospace;background-color: #f0f8ff;border: 1px dotted black;border-radius: 0.25em;box-sizing: border-box;margin-bottom: 0.5em;}#sk-container-id-1 div.sk-estimator:hover {background-color: #d4ebff;}#sk-container-id-1 div.sk-parallel-item::after {content: \"\";width: 100%;border-bottom: 1px solid gray;flex-grow: 1;}#sk-container-id-1 div.sk-label:hover label.sk-toggleable__label {background-color: #d4ebff;}#sk-container-id-1 div.sk-serial::before {content: \"\";position: absolute;border-left: 1px solid gray;box-sizing: border-box;top: 0;bottom: 0;left: 50%;z-index: 0;}#sk-container-id-1 div.sk-serial {display: flex;flex-direction: column;align-items: center;background-color: white;padding-right: 0.2em;padding-left: 0.2em;position: relative;}#sk-container-id-1 div.sk-item {position: relative;z-index: 1;}#sk-container-id-1 div.sk-parallel {display: flex;align-items: stretch;justify-content: center;background-color: white;position: relative;}#sk-container-id-1 div.sk-item::before, #sk-container-id-1 div.sk-parallel-item::before {content: \"\";position: absolute;border-left: 1px solid gray;box-sizing: border-box;top: 0;bottom: 0;left: 50%;z-index: -1;}#sk-container-id-1 div.sk-parallel-item {display: flex;flex-direction: column;z-index: 1;position: relative;background-color: white;}#sk-container-id-1 div.sk-parallel-item:first-child::after {align-self: flex-end;width: 50%;}#sk-container-id-1 div.sk-parallel-item:last-child::after {align-self: flex-start;width: 50%;}#sk-container-id-1 div.sk-parallel-item:only-child::after {width: 0;}#sk-container-id-1 div.sk-dashed-wrapped {border: 1px dashed gray;margin: 0 0.4em 0.5em 0.4em;box-sizing: border-box;padding-bottom: 0.4em;background-color: white;}#sk-container-id-1 div.sk-label label {font-family: monospace;font-weight: bold;display: inline-block;line-height: 1.2em;}#sk-container-id-1 div.sk-label-container {text-align: center;}#sk-container-id-1 div.sk-container {/* jupyter's `normalize.less` sets `[hidden] { display: none; }` but bootstrap.min.css set `[hidden] { display: none !important; }` so we also need the `!important` here to be able to override the default hidden behavior on the sphinx rendered scikit-learn.org. See: https://github.com/scikit-learn/scikit-learn/issues/21755 */display: inline-block !important;position: relative;}#sk-container-id-1 div.sk-text-repr-fallback {display: none;}</style><div id=\"sk-container-id-1\" class=\"sk-top-container\"><div class=\"sk-text-repr-fallback\"><pre>Pipeline(steps=[(&#x27;scale&#x27;, StandardScaler()), (&#x27;model&#x27;, LogisticRegression())])</pre><b>In a Jupyter environment, please rerun this cell to show the HTML representation or trust the notebook. <br />On GitHub, the HTML representation is unable to render, please try loading this page with nbviewer.org.</b></div><div class=\"sk-container\" hidden><div class=\"sk-item sk-dashed-wrapped\"><div class=\"sk-label-container\"><div class=\"sk-label sk-toggleable\"><input class=\"sk-toggleable__control sk-hidden--visually\" id=\"sk-estimator-id-1\" type=\"checkbox\" ><label for=\"sk-estimator-id-1\" class=\"sk-toggleable__label sk-toggleable__label-arrow\">Pipeline</label><div class=\"sk-toggleable__content\"><pre>Pipeline(steps=[(&#x27;scale&#x27;, StandardScaler()), (&#x27;model&#x27;, LogisticRegression())])</pre></div></div></div><div class=\"sk-serial\"><div class=\"sk-item\"><div class=\"sk-estimator sk-toggleable\"><input class=\"sk-toggleable__control sk-hidden--visually\" id=\"sk-estimator-id-2\" type=\"checkbox\" ><label for=\"sk-estimator-id-2\" class=\"sk-toggleable__label sk-toggleable__label-arrow\">StandardScaler</label><div class=\"sk-toggleable__content\"><pre>StandardScaler()</pre></div></div></div><div class=\"sk-item\"><div class=\"sk-estimator sk-toggleable\"><input class=\"sk-toggleable__control sk-hidden--visually\" id=\"sk-estimator-id-3\" type=\"checkbox\" ><label for=\"sk-estimator-id-3\" class=\"sk-toggleable__label sk-toggleable__label-arrow\">LogisticRegression</label><div class=\"sk-toggleable__content\"><pre>LogisticRegression()</pre></div></div></div></div></div></div></div>"
      ],
      "text/plain": [
       "Pipeline(steps=[('scale', StandardScaler()), ('model', LogisticRegression())])"
      ]
     },
     "execution_count": 34,
     "metadata": {},
     "output_type": "execute_result"
    }
   ],
   "source": [
    "model.fit(X_train, y_train.values.ravel())"
   ]
  },
  {
   "cell_type": "code",
   "execution_count": 35,
   "id": "6e15e313",
   "metadata": {
    "execution": {
     "iopub.execute_input": "2025-08-19T18:56:49.985006Z",
     "iopub.status.busy": "2025-08-19T18:56:49.984540Z",
     "iopub.status.idle": "2025-08-19T18:56:50.205406Z",
     "shell.execute_reply": "2025-08-19T18:56:50.204545Z"
    },
    "papermill": {
     "duration": 0.234921,
     "end_time": "2025-08-19T18:56:50.207119",
     "exception": false,
     "start_time": "2025-08-19T18:56:49.972198",
     "status": "completed"
    },
    "tags": []
   },
   "outputs": [
    {
     "data": {
      "text/plain": [
       "0.8180135993757663"
      ]
     },
     "execution_count": 35,
     "metadata": {},
     "output_type": "execute_result"
    }
   ],
   "source": [
    "from fairness_multiverse.universe import predict_w_threshold\n",
    "\n",
    "probs_test = model.predict_proba(X_test)\n",
    "\n",
    "'''\n",
    "Below code returns a boolean array (or binary 0/1 array depending on how it’s used) where each element \n",
    "is True if the probability of class 1 is greater than or equal to the threshold, and False otherwise.\n",
    "'''\n",
    "y_pred_default = predict_w_threshold(probs_test, 0.5)\n",
    "\n",
    "from sklearn.metrics import accuracy_score\n",
    "\n",
    "# Naive prediction\n",
    "accuracy_score(y_true = y_true, y_pred = y_pred_default)"
   ]
  },
  {
   "cell_type": "code",
   "execution_count": 36,
   "id": "6f14067c",
   "metadata": {
    "execution": {
     "iopub.execute_input": "2025-08-19T18:56:50.239785Z",
     "iopub.status.busy": "2025-08-19T18:56:50.239425Z",
     "iopub.status.idle": "2025-08-19T18:56:50.419527Z",
     "shell.execute_reply": "2025-08-19T18:56:50.418741Z"
    },
    "papermill": {
     "duration": 0.196769,
     "end_time": "2025-08-19T18:56:50.422668",
     "exception": false,
     "start_time": "2025-08-19T18:56:50.225899",
     "status": "completed"
    },
    "tags": []
   },
   "outputs": [
    {
     "data": {
      "text/plain": [
       "array([0, 0, 0, ..., 0, 0, 0])"
      ]
     },
     "execution_count": 36,
     "metadata": {},
     "output_type": "execute_result"
    }
   ],
   "source": [
    "model.predict(X_test)"
   ]
  },
  {
   "cell_type": "markdown",
   "id": "3759920c",
   "metadata": {
    "papermill": {
     "duration": 0.012583,
     "end_time": "2025-08-19T18:56:50.459221",
     "exception": false,
     "start_time": "2025-08-19T18:56:50.446638",
     "status": "completed"
    },
    "tags": []
   },
   "source": [
    "# Conformal Prediction"
   ]
  },
  {
   "cell_type": "code",
   "execution_count": 37,
   "id": "14b27f59",
   "metadata": {
    "execution": {
     "iopub.execute_input": "2025-08-19T18:56:50.485030Z",
     "iopub.status.busy": "2025-08-19T18:56:50.483678Z",
     "iopub.status.idle": "2025-08-19T18:56:50.491169Z",
     "shell.execute_reply": "2025-08-19T18:56:50.489948Z"
    },
    "papermill": {
     "duration": 0.02228,
     "end_time": "2025-08-19T18:56:50.492904",
     "exception": false,
     "start_time": "2025-08-19T18:56:50.470624",
     "status": "completed"
    },
    "tags": []
   },
   "outputs": [],
   "source": [
    "# Miscoverage level for conformal prediction (10% allowed error rate => 90% target coverage)\n",
    "alpha = 0.1"
   ]
  },
  {
   "cell_type": "code",
   "execution_count": 38,
   "id": "59102472",
   "metadata": {
    "execution": {
     "iopub.execute_input": "2025-08-19T18:56:50.522099Z",
     "iopub.status.busy": "2025-08-19T18:56:50.520802Z",
     "iopub.status.idle": "2025-08-19T18:56:50.703886Z",
     "shell.execute_reply": "2025-08-19T18:56:50.703073Z"
    },
    "papermill": {
     "duration": 0.199416,
     "end_time": "2025-08-19T18:56:50.706801",
     "exception": false,
     "start_time": "2025-08-19T18:56:50.507385",
     "status": "completed"
    },
    "tags": []
   },
   "outputs": [],
   "source": [
    "probs_calib = model.predict_proba(X_calib)"
   ]
  },
  {
   "cell_type": "code",
   "execution_count": 39,
   "id": "a792d4dd",
   "metadata": {
    "execution": {
     "iopub.execute_input": "2025-08-19T18:56:50.750099Z",
     "iopub.status.busy": "2025-08-19T18:56:50.748728Z",
     "iopub.status.idle": "2025-08-19T18:56:50.757720Z",
     "shell.execute_reply": "2025-08-19T18:56:50.756635Z"
    },
    "papermill": {
     "duration": 0.02573,
     "end_time": "2025-08-19T18:56:50.759196",
     "exception": false,
     "start_time": "2025-08-19T18:56:50.733466",
     "status": "completed"
    },
    "tags": []
   },
   "outputs": [],
   "source": [
    "y_calib = y_calib.values.ravel().astype(int)"
   ]
  },
  {
   "cell_type": "code",
   "execution_count": 40,
   "id": "650fd033",
   "metadata": {
    "execution": {
     "iopub.execute_input": "2025-08-19T18:56:50.787969Z",
     "iopub.status.busy": "2025-08-19T18:56:50.786655Z",
     "iopub.status.idle": "2025-08-19T18:56:50.799250Z",
     "shell.execute_reply": "2025-08-19T18:56:50.798173Z"
    },
    "papermill": {
     "duration": 0.027483,
     "end_time": "2025-08-19T18:56:50.800910",
     "exception": false,
     "start_time": "2025-08-19T18:56:50.773427",
     "status": "completed"
    },
    "tags": []
   },
   "outputs": [],
   "source": [
    "from fairness_multiverse.conformal import compute_nc_scores\n",
    "\n",
    "# Compute nonconformity scores on calibration set (1 - probability of true class)\n",
    "nc_scores = compute_nc_scores(probs_calib, y_calib)"
   ]
  },
  {
   "cell_type": "code",
   "execution_count": 41,
   "id": "28ada44c",
   "metadata": {
    "execution": {
     "iopub.execute_input": "2025-08-19T18:56:50.834032Z",
     "iopub.status.busy": "2025-08-19T18:56:50.832717Z",
     "iopub.status.idle": "2025-08-19T18:56:50.844209Z",
     "shell.execute_reply": "2025-08-19T18:56:50.842984Z"
    },
    "papermill": {
     "duration": 0.027268,
     "end_time": "2025-08-19T18:56:50.845816",
     "exception": false,
     "start_time": "2025-08-19T18:56:50.818548",
     "status": "completed"
    },
    "tags": []
   },
   "outputs": [],
   "source": [
    "from fairness_multiverse.conformal import find_threshold\n",
    "\n",
    "# Find conformal threshold q_hat for the given alpha (split conformal method)\n",
    "q_hat = find_threshold(nc_scores, alpha)"
   ]
  },
  {
   "cell_type": "code",
   "execution_count": 42,
   "id": "df56469e",
   "metadata": {
    "execution": {
     "iopub.execute_input": "2025-08-19T18:56:50.874421Z",
     "iopub.status.busy": "2025-08-19T18:56:50.873095Z",
     "iopub.status.idle": "2025-08-19T18:56:50.883284Z",
     "shell.execute_reply": "2025-08-19T18:56:50.882119Z"
    },
    "papermill": {
     "duration": 0.024887,
     "end_time": "2025-08-19T18:56:50.884762",
     "exception": false,
     "start_time": "2025-08-19T18:56:50.859875",
     "status": "completed"
    },
    "tags": []
   },
   "outputs": [
    {
     "data": {
      "text/plain": [
       "0.8122915238606836"
      ]
     },
     "execution_count": 42,
     "metadata": {},
     "output_type": "execute_result"
    }
   ],
   "source": [
    "q_hat"
   ]
  },
  {
   "cell_type": "code",
   "execution_count": 43,
   "id": "aa1f5faa",
   "metadata": {
    "execution": {
     "iopub.execute_input": "2025-08-19T18:56:50.913837Z",
     "iopub.status.busy": "2025-08-19T18:56:50.912537Z",
     "iopub.status.idle": "2025-08-19T18:56:51.557966Z",
     "shell.execute_reply": "2025-08-19T18:56:51.556397Z"
    },
    "papermill": {
     "duration": 0.660971,
     "end_time": "2025-08-19T18:56:51.560169",
     "exception": false,
     "start_time": "2025-08-19T18:56:50.899198",
     "status": "completed"
    },
    "tags": []
   },
   "outputs": [],
   "source": [
    "from fairness_multiverse.conformal import predict_conformal_sets\n",
    "\n",
    "# Generate prediction sets for each test example\n",
    "pred_sets = predict_conformal_sets(model, X_test, q_hat)"
   ]
  },
  {
   "cell_type": "code",
   "execution_count": 44,
   "id": "97f67a6b",
   "metadata": {
    "execution": {
     "iopub.execute_input": "2025-08-19T18:56:51.586108Z",
     "iopub.status.busy": "2025-08-19T18:56:51.585613Z",
     "iopub.status.idle": "2025-08-19T18:56:51.592314Z",
     "shell.execute_reply": "2025-08-19T18:56:51.591492Z"
    },
    "papermill": {
     "duration": 0.021165,
     "end_time": "2025-08-19T18:56:51.593888",
     "exception": false,
     "start_time": "2025-08-19T18:56:51.572723",
     "status": "completed"
    },
    "tags": []
   },
   "outputs": [],
   "source": [
    "y_true = y_true.squeeze()"
   ]
  },
  {
   "cell_type": "code",
   "execution_count": 45,
   "id": "e700e9a7",
   "metadata": {
    "execution": {
     "iopub.execute_input": "2025-08-19T18:56:51.618587Z",
     "iopub.status.busy": "2025-08-19T18:56:51.618188Z",
     "iopub.status.idle": "2025-08-19T18:56:52.172200Z",
     "shell.execute_reply": "2025-08-19T18:56:52.169085Z"
    },
    "papermill": {
     "duration": 0.569017,
     "end_time": "2025-08-19T18:56:52.174678",
     "exception": false,
     "start_time": "2025-08-19T18:56:51.605661",
     "status": "completed"
    },
    "tags": []
   },
   "outputs": [],
   "source": [
    "from fairness_multiverse.conformal import evaluate_sets\n",
    "\n",
    "# Evaluate coverage and average set size on test data\n",
    "metrics = evaluate_sets(pred_sets, y_true)"
   ]
  },
  {
   "cell_type": "markdown",
   "id": "efbacec0",
   "metadata": {
    "papermill": {
     "duration": 0.011604,
     "end_time": "2025-08-19T18:56:52.198618",
     "exception": false,
     "start_time": "2025-08-19T18:56:52.187014",
     "status": "completed"
    },
    "tags": []
   },
   "source": [
    "# CP Metrics"
   ]
  },
  {
   "cell_type": "code",
   "execution_count": 46,
   "id": "9de55fb1",
   "metadata": {
    "execution": {
     "iopub.execute_input": "2025-08-19T18:56:52.227637Z",
     "iopub.status.busy": "2025-08-19T18:56:52.226169Z",
     "iopub.status.idle": "2025-08-19T18:56:52.241294Z",
     "shell.execute_reply": "2025-08-19T18:56:52.240290Z"
    },
    "papermill": {
     "duration": 0.032856,
     "end_time": "2025-08-19T18:56:52.243075",
     "exception": false,
     "start_time": "2025-08-19T18:56:52.210219",
     "status": "completed"
    },
    "tags": []
   },
   "outputs": [
    {
     "data": {
      "text/plain": [
       "{'coverage': 0.9086389477204325, 'avg_size': 1.2561029985508863}"
      ]
     },
     "execution_count": 46,
     "metadata": {},
     "output_type": "execute_result"
    }
   ],
   "source": [
    "metrics"
   ]
  },
  {
   "cell_type": "code",
   "execution_count": 47,
   "id": "64c340a1",
   "metadata": {
    "execution": {
     "iopub.execute_input": "2025-08-19T18:56:52.275494Z",
     "iopub.status.busy": "2025-08-19T18:56:52.274756Z",
     "iopub.status.idle": "2025-08-19T18:56:52.284897Z",
     "shell.execute_reply": "2025-08-19T18:56:52.283566Z"
    },
    "papermill": {
     "duration": 0.025754,
     "end_time": "2025-08-19T18:56:52.286555",
     "exception": false,
     "start_time": "2025-08-19T18:56:52.260801",
     "status": "completed"
    },
    "tags": []
   },
   "outputs": [],
   "source": [
    "example_universe = universe.copy()\n",
    "universe_training_year = example_universe.get(\"training_year\")\n",
    "universe_training_size = example_universe.get(\"training_size\")\n",
    "universe_scale = example_universe.get(\"scale\")\n",
    "universe_model = example_universe.get(\"model\")\n",
    "universe_exclude_features = example_universe.get(\"exclude_features\")\n",
    "universe_exclude_subgroups = example_universe.get(\"exclude_subgroups\")"
   ]
  },
  {
   "cell_type": "code",
   "execution_count": 48,
   "id": "dbb53cb4",
   "metadata": {
    "execution": {
     "iopub.execute_input": "2025-08-19T18:56:52.319736Z",
     "iopub.status.busy": "2025-08-19T18:56:52.319036Z",
     "iopub.status.idle": "2025-08-19T18:56:52.329195Z",
     "shell.execute_reply": "2025-08-19T18:56:52.327778Z"
    },
    "papermill": {
     "duration": 0.026481,
     "end_time": "2025-08-19T18:56:52.330634",
     "exception": false,
     "start_time": "2025-08-19T18:56:52.304153",
     "status": "completed"
    },
    "tags": []
   },
   "outputs": [],
   "source": [
    "cp_metrics_dict = {\n",
    "    \"universe_id\": [universe_id],\n",
    "    \"universe_training_year\": [universe_training_year],\n",
    "    \"universe_training_size\": [universe_training_size],\n",
    "    \"universe_scale\": [universe_scale],\n",
    "    \"universe_model\": [universe_model],\n",
    "    \"universe_exclude_features\": [universe_exclude_features],\n",
    "    \"universe_exclude_subgroups\": [universe_exclude_subgroups],\n",
    "    \"q_hat\": [q_hat],\n",
    "    \"coverage\": [metrics[\"coverage\"]],\n",
    "    \"avg_size\": [metrics[\"avg_size\"]],\n",
    "}"
   ]
  },
  {
   "cell_type": "code",
   "execution_count": 49,
   "id": "0d70d4b2",
   "metadata": {
    "execution": {
     "iopub.execute_input": "2025-08-19T18:56:52.359804Z",
     "iopub.status.busy": "2025-08-19T18:56:52.359118Z",
     "iopub.status.idle": "2025-08-19T18:56:52.371678Z",
     "shell.execute_reply": "2025-08-19T18:56:52.370239Z"
    },
    "papermill": {
     "duration": 0.028263,
     "end_time": "2025-08-19T18:56:52.373466",
     "exception": false,
     "start_time": "2025-08-19T18:56:52.345203",
     "status": "completed"
    },
    "tags": []
   },
   "outputs": [],
   "source": [
    "cp_metrics_df = pd.DataFrame(cp_metrics_dict)"
   ]
  },
  {
   "cell_type": "code",
   "execution_count": 50,
   "id": "b494403c",
   "metadata": {
    "execution": {
     "iopub.execute_input": "2025-08-19T18:56:52.403474Z",
     "iopub.status.busy": "2025-08-19T18:56:52.402741Z",
     "iopub.status.idle": "2025-08-19T18:56:52.426355Z",
     "shell.execute_reply": "2025-08-19T18:56:52.425407Z"
    },
    "papermill": {
     "duration": 0.039673,
     "end_time": "2025-08-19T18:56:52.428279",
     "exception": false,
     "start_time": "2025-08-19T18:56:52.388606",
     "status": "completed"
    },
    "tags": []
   },
   "outputs": [
    {
     "data": {
      "text/html": [
       "<div>\n",
       "<style scoped>\n",
       "    .dataframe tbody tr th:only-of-type {\n",
       "        vertical-align: middle;\n",
       "    }\n",
       "\n",
       "    .dataframe tbody tr th {\n",
       "        vertical-align: top;\n",
       "    }\n",
       "\n",
       "    .dataframe thead th {\n",
       "        text-align: right;\n",
       "    }\n",
       "</style>\n",
       "<table border=\"1\" class=\"dataframe\">\n",
       "  <thead>\n",
       "    <tr style=\"text-align: right;\">\n",
       "      <th></th>\n",
       "      <th>universe_id</th>\n",
       "      <th>universe_training_year</th>\n",
       "      <th>universe_training_size</th>\n",
       "      <th>universe_scale</th>\n",
       "      <th>universe_model</th>\n",
       "      <th>universe_exclude_features</th>\n",
       "      <th>universe_exclude_subgroups</th>\n",
       "      <th>q_hat</th>\n",
       "      <th>coverage</th>\n",
       "      <th>avg_size</th>\n",
       "    </tr>\n",
       "  </thead>\n",
       "  <tbody>\n",
       "    <tr>\n",
       "      <th>0</th>\n",
       "      <td>ddff2de0f0828b13ea3c84b8a5623388</td>\n",
       "      <td>2012_14</td>\n",
       "      <td>1k</td>\n",
       "      <td>scale</td>\n",
       "      <td>logreg</td>\n",
       "      <td>nationality</td>\n",
       "      <td>keep-all</td>\n",
       "      <td>0.812292</td>\n",
       "      <td>0.908639</td>\n",
       "      <td>1.256103</td>\n",
       "    </tr>\n",
       "  </tbody>\n",
       "</table>\n",
       "</div>"
      ],
      "text/plain": [
       "                        universe_id universe_training_year  \\\n",
       "0  ddff2de0f0828b13ea3c84b8a5623388                2012_14   \n",
       "\n",
       "  universe_training_size universe_scale universe_model  \\\n",
       "0                     1k          scale         logreg   \n",
       "\n",
       "  universe_exclude_features universe_exclude_subgroups     q_hat  coverage  \\\n",
       "0               nationality                   keep-all  0.812292  0.908639   \n",
       "\n",
       "   avg_size  \n",
       "0  1.256103  "
      ]
     },
     "execution_count": 50,
     "metadata": {},
     "output_type": "execute_result"
    }
   ],
   "source": [
    "cp_metrics_df"
   ]
  },
  {
   "cell_type": "markdown",
   "id": "ed608b0b",
   "metadata": {
    "papermill": {
     "duration": 0.012917,
     "end_time": "2025-08-19T18:56:52.460793",
     "exception": false,
     "start_time": "2025-08-19T18:56:52.447876",
     "status": "completed"
    },
    "tags": []
   },
   "source": [
    "Conditional coverage & looking at subgroups"
   ]
  },
  {
   "cell_type": "code",
   "execution_count": 51,
   "id": "8968c366",
   "metadata": {
    "execution": {
     "iopub.execute_input": "2025-08-19T18:56:52.487829Z",
     "iopub.status.busy": "2025-08-19T18:56:52.487114Z",
     "iopub.status.idle": "2025-08-19T18:56:52.811876Z",
     "shell.execute_reply": "2025-08-19T18:56:52.810982Z"
    },
    "papermill": {
     "duration": 0.341794,
     "end_time": "2025-08-19T18:56:52.814798",
     "exception": false,
     "start_time": "2025-08-19T18:56:52.473004",
     "status": "completed"
    },
    "tags": []
   },
   "outputs": [],
   "source": [
    "from fairness_multiverse.conformal import build_cp_groups\n",
    "\n",
    "cp_groups_df = build_cp_groups(pred_sets, y_true, X_test.index, org_test)"
   ]
  },
  {
   "cell_type": "code",
   "execution_count": 52,
   "id": "292ddabf",
   "metadata": {
    "execution": {
     "iopub.execute_input": "2025-08-19T18:56:52.856248Z",
     "iopub.status.busy": "2025-08-19T18:56:52.855767Z",
     "iopub.status.idle": "2025-08-19T18:56:53.717045Z",
     "shell.execute_reply": "2025-08-19T18:56:53.715238Z"
    },
    "papermill": {
     "duration": 0.880563,
     "end_time": "2025-08-19T18:56:53.721642",
     "exception": false,
     "start_time": "2025-08-19T18:56:52.841079",
     "status": "completed"
    },
    "tags": []
   },
   "outputs": [],
   "source": [
    "# Define covered = 1 if true_label is in the predicted set\n",
    "cp_groups_df['covered'] = cp_groups_df.apply(\n",
    "    lambda r: int(r['true_label'] in r['pred_set']),\n",
    "    axis=1\n",
    ")"
   ]
  },
  {
   "cell_type": "code",
   "execution_count": 53,
   "id": "3a261692",
   "metadata": {
    "execution": {
     "iopub.execute_input": "2025-08-19T18:56:53.763478Z",
     "iopub.status.busy": "2025-08-19T18:56:53.762174Z",
     "iopub.status.idle": "2025-08-19T18:56:53.792185Z",
     "shell.execute_reply": "2025-08-19T18:56:53.790909Z"
    },
    "papermill": {
     "duration": 0.048873,
     "end_time": "2025-08-19T18:56:53.795549",
     "exception": false,
     "start_time": "2025-08-19T18:56:53.746676",
     "status": "completed"
    },
    "tags": []
   },
   "outputs": [],
   "source": [
    "subgroups = ['frau1','nongerman','nongerman_male','nongerman_female']\n",
    "\n",
    "# Conditional coverage for subgroup==1\n",
    "cond_coverage = {\n",
    "    g: cp_groups_df.loc[cp_groups_df[g]==1, 'covered'].mean()\n",
    "    for g in subgroups\n",
    "}"
   ]
  },
  {
   "cell_type": "code",
   "execution_count": 54,
   "id": "894fd600",
   "metadata": {
    "execution": {
     "iopub.execute_input": "2025-08-19T18:56:53.841413Z",
     "iopub.status.busy": "2025-08-19T18:56:53.840312Z",
     "iopub.status.idle": "2025-08-19T18:56:53.851262Z",
     "shell.execute_reply": "2025-08-19T18:56:53.849983Z"
    },
    "papermill": {
     "duration": 0.026627,
     "end_time": "2025-08-19T18:56:53.852984",
     "exception": false,
     "start_time": "2025-08-19T18:56:53.826357",
     "status": "completed"
    },
    "tags": []
   },
   "outputs": [
    {
     "data": {
      "text/plain": [
       "{'frau1': 0.9019274834883407,\n",
       " 'nongerman': 0.9140515353954977,\n",
       " 'nongerman_male': 0.9322705575069801,\n",
       " 'nongerman_female': 0.8839046199701938}"
      ]
     },
     "execution_count": 54,
     "metadata": {},
     "output_type": "execute_result"
    }
   ],
   "source": [
    "cond_coverage"
   ]
  },
  {
   "cell_type": "code",
   "execution_count": 55,
   "id": "942895c7",
   "metadata": {
    "execution": {
     "iopub.execute_input": "2025-08-19T18:56:53.882410Z",
     "iopub.status.busy": "2025-08-19T18:56:53.881306Z",
     "iopub.status.idle": "2025-08-19T18:56:53.893403Z",
     "shell.execute_reply": "2025-08-19T18:56:53.892111Z"
    },
    "papermill": {
     "duration": 0.027235,
     "end_time": "2025-08-19T18:56:53.895011",
     "exception": false,
     "start_time": "2025-08-19T18:56:53.867776",
     "status": "completed"
    },
    "tags": []
   },
   "outputs": [],
   "source": [
    "for subgroup, cov in cond_coverage.items():\n",
    "    cp_metrics_df[f\"cov_{subgroup}\"] = cov"
   ]
  },
  {
   "cell_type": "code",
   "execution_count": 56,
   "id": "3970120f",
   "metadata": {
    "execution": {
     "iopub.execute_input": "2025-08-19T18:56:53.926039Z",
     "iopub.status.busy": "2025-08-19T18:56:53.925021Z",
     "iopub.status.idle": "2025-08-19T18:56:53.954313Z",
     "shell.execute_reply": "2025-08-19T18:56:53.953191Z"
    },
    "papermill": {
     "duration": 0.046625,
     "end_time": "2025-08-19T18:56:53.956952",
     "exception": false,
     "start_time": "2025-08-19T18:56:53.910327",
     "status": "completed"
    },
    "tags": []
   },
   "outputs": [
    {
     "data": {
      "text/html": [
       "<div>\n",
       "<style scoped>\n",
       "    .dataframe tbody tr th:only-of-type {\n",
       "        vertical-align: middle;\n",
       "    }\n",
       "\n",
       "    .dataframe tbody tr th {\n",
       "        vertical-align: top;\n",
       "    }\n",
       "\n",
       "    .dataframe thead th {\n",
       "        text-align: right;\n",
       "    }\n",
       "</style>\n",
       "<table border=\"1\" class=\"dataframe\">\n",
       "  <thead>\n",
       "    <tr style=\"text-align: right;\">\n",
       "      <th></th>\n",
       "      <th>universe_id</th>\n",
       "      <th>universe_training_year</th>\n",
       "      <th>universe_training_size</th>\n",
       "      <th>universe_scale</th>\n",
       "      <th>universe_model</th>\n",
       "      <th>universe_exclude_features</th>\n",
       "      <th>universe_exclude_subgroups</th>\n",
       "      <th>q_hat</th>\n",
       "      <th>coverage</th>\n",
       "      <th>avg_size</th>\n",
       "      <th>cov_frau1</th>\n",
       "      <th>cov_nongerman</th>\n",
       "      <th>cov_nongerman_male</th>\n",
       "      <th>cov_nongerman_female</th>\n",
       "    </tr>\n",
       "  </thead>\n",
       "  <tbody>\n",
       "    <tr>\n",
       "      <th>0</th>\n",
       "      <td>ddff2de0f0828b13ea3c84b8a5623388</td>\n",
       "      <td>2012_14</td>\n",
       "      <td>1k</td>\n",
       "      <td>scale</td>\n",
       "      <td>logreg</td>\n",
       "      <td>nationality</td>\n",
       "      <td>keep-all</td>\n",
       "      <td>0.812292</td>\n",
       "      <td>0.908639</td>\n",
       "      <td>1.256103</td>\n",
       "      <td>0.901927</td>\n",
       "      <td>0.914052</td>\n",
       "      <td>0.932271</td>\n",
       "      <td>0.883905</td>\n",
       "    </tr>\n",
       "  </tbody>\n",
       "</table>\n",
       "</div>"
      ],
      "text/plain": [
       "                        universe_id universe_training_year  \\\n",
       "0  ddff2de0f0828b13ea3c84b8a5623388                2012_14   \n",
       "\n",
       "  universe_training_size universe_scale universe_model  \\\n",
       "0                     1k          scale         logreg   \n",
       "\n",
       "  universe_exclude_features universe_exclude_subgroups     q_hat  coverage  \\\n",
       "0               nationality                   keep-all  0.812292  0.908639   \n",
       "\n",
       "   avg_size  cov_frau1  cov_nongerman  cov_nongerman_male  \\\n",
       "0  1.256103   0.901927       0.914052            0.932271   \n",
       "\n",
       "   cov_nongerman_female  \n",
       "0              0.883905  "
      ]
     },
     "execution_count": 56,
     "metadata": {},
     "output_type": "execute_result"
    }
   ],
   "source": [
    "cp_metrics_df"
   ]
  },
  {
   "cell_type": "markdown",
   "id": "3fc519cc",
   "metadata": {
    "papermill": {
     "duration": 0.012321,
     "end_time": "2025-08-19T18:56:53.986926",
     "exception": false,
     "start_time": "2025-08-19T18:56:53.974605",
     "status": "completed"
    },
    "tags": []
   },
   "source": [
    "# (Fairness) Metrics"
   ]
  },
  {
   "cell_type": "code",
   "execution_count": 57,
   "id": "a2e5e155",
   "metadata": {
    "execution": {
     "iopub.execute_input": "2025-08-19T18:56:54.014515Z",
     "iopub.status.busy": "2025-08-19T18:56:54.013468Z",
     "iopub.status.idle": "2025-08-19T18:56:54.067456Z",
     "shell.execute_reply": "2025-08-19T18:56:54.066264Z"
    },
    "papermill": {
     "duration": 0.071719,
     "end_time": "2025-08-19T18:56:54.070923",
     "exception": false,
     "start_time": "2025-08-19T18:56:53.999204",
     "status": "completed"
    },
    "tags": []
   },
   "outputs": [],
   "source": [
    "colname_to_bin = \"maxdeutsch1\"\n",
    "majority_value = org_train[colname_to_bin].mode()[0]\n",
    "\n",
    "org_test[\"majmin\"] = np.where(org_test[colname_to_bin] == majority_value, \"majority\", \"minority\")"
   ]
  },
  {
   "cell_type": "code",
   "execution_count": 58,
   "id": "17e3e4d5",
   "metadata": {
    "execution": {
     "iopub.execute_input": "2025-08-19T18:56:54.112418Z",
     "iopub.status.busy": "2025-08-19T18:56:54.112005Z",
     "iopub.status.idle": "2025-08-19T18:56:55.858495Z",
     "shell.execute_reply": "2025-08-19T18:56:55.857168Z"
    },
    "papermill": {
     "duration": 1.76279,
     "end_time": "2025-08-19T18:56:55.860212",
     "exception": false,
     "start_time": "2025-08-19T18:56:54.097422",
     "status": "completed"
    },
    "tags": []
   },
   "outputs": [],
   "source": [
    "example_universe = universe.copy()\n",
    "example_universe[\"cutoff\"] = example_universe[\"cutoff\"][0]\n",
    "example_universe[\"eval_fairness_grouping\"] = example_universe[\"eval_fairness_grouping\"][0]\n",
    "fairness_dict, metric_frame = universe_analysis.compute_metrics(\n",
    "    example_universe,\n",
    "    y_pred_prob=probs_test,\n",
    "    y_test=y_true,\n",
    "    org_test=org_test,\n",
    ")"
   ]
  },
  {
   "cell_type": "markdown",
   "id": "1fb7a0e9",
   "metadata": {
    "papermill": {
     "duration": 0.03137,
     "end_time": "2025-08-19T18:56:55.909034",
     "exception": false,
     "start_time": "2025-08-19T18:56:55.877664",
     "status": "completed"
    },
    "tags": []
   },
   "source": [
    "# Overall"
   ]
  },
  {
   "cell_type": "markdown",
   "id": "be1784b1",
   "metadata": {
    "papermill": {
     "duration": 0.012076,
     "end_time": "2025-08-19T18:56:55.934661",
     "exception": false,
     "start_time": "2025-08-19T18:56:55.922585",
     "status": "completed"
    },
    "tags": []
   },
   "source": [
    "Main fairness target: Equalized Odds. Seems to be a better fit than equal opportunity, since we're not only interested in Y = 1. Seems to be a better fit than demographic parity, since we also care about accuracy, not just equal distribution of preds.\n",
    "\n",
    "Pick column for computation of fairness metrics\n",
    "\n",
    "Performance\n",
    "Overall performance measures, most interesting in relation to the measures split by group below"
   ]
  },
  {
   "cell_type": "code",
   "execution_count": 59,
   "id": "b7672bee",
   "metadata": {
    "execution": {
     "iopub.execute_input": "2025-08-19T18:56:55.963372Z",
     "iopub.status.busy": "2025-08-19T18:56:55.962562Z",
     "iopub.status.idle": "2025-08-19T18:56:55.976944Z",
     "shell.execute_reply": "2025-08-19T18:56:55.975802Z"
    },
    "papermill": {
     "duration": 0.031936,
     "end_time": "2025-08-19T18:56:55.978773",
     "exception": false,
     "start_time": "2025-08-19T18:56:55.946837",
     "status": "completed"
    },
    "tags": []
   },
   "outputs": [
    {
     "data": {
      "text/plain": [
       "accuracy                   0.217244\n",
       "balanced accuracy          0.532686\n",
       "f1                         0.238772\n",
       "precision                  0.136402\n",
       "false positive rate        0.891614\n",
       "false negative rate        0.043014\n",
       "selection rate             0.900000\n",
       "count                  89710.000000\n",
       "dtype: float64"
      ]
     },
     "execution_count": 59,
     "metadata": {},
     "output_type": "execute_result"
    }
   ],
   "source": [
    "metric_frame.overall"
   ]
  },
  {
   "cell_type": "markdown",
   "id": "d93333c9",
   "metadata": {
    "papermill": {
     "duration": 0.012221,
     "end_time": "2025-08-19T18:56:56.006833",
     "exception": false,
     "start_time": "2025-08-19T18:56:55.994612",
     "status": "completed"
    },
    "tags": []
   },
   "source": [
    "By Group"
   ]
  },
  {
   "cell_type": "code",
   "execution_count": 60,
   "id": "52256966",
   "metadata": {
    "execution": {
     "iopub.execute_input": "2025-08-19T18:56:56.034353Z",
     "iopub.status.busy": "2025-08-19T18:56:56.033643Z",
     "iopub.status.idle": "2025-08-19T18:56:56.056308Z",
     "shell.execute_reply": "2025-08-19T18:56:56.055188Z"
    },
    "papermill": {
     "duration": 0.039075,
     "end_time": "2025-08-19T18:56:56.058428",
     "exception": false,
     "start_time": "2025-08-19T18:56:56.019353",
     "status": "completed"
    },
    "tags": []
   },
   "outputs": [
    {
     "data": {
      "text/html": [
       "<div>\n",
       "<style scoped>\n",
       "    .dataframe tbody tr th:only-of-type {\n",
       "        vertical-align: middle;\n",
       "    }\n",
       "\n",
       "    .dataframe tbody tr th {\n",
       "        vertical-align: top;\n",
       "    }\n",
       "\n",
       "    .dataframe thead th {\n",
       "        text-align: right;\n",
       "    }\n",
       "</style>\n",
       "<table border=\"1\" class=\"dataframe\">\n",
       "  <thead>\n",
       "    <tr style=\"text-align: right;\">\n",
       "      <th></th>\n",
       "      <th>accuracy</th>\n",
       "      <th>balanced accuracy</th>\n",
       "      <th>f1</th>\n",
       "      <th>precision</th>\n",
       "      <th>false positive rate</th>\n",
       "      <th>false negative rate</th>\n",
       "      <th>selection rate</th>\n",
       "      <th>count</th>\n",
       "    </tr>\n",
       "    <tr>\n",
       "      <th>majmin</th>\n",
       "      <th></th>\n",
       "      <th></th>\n",
       "      <th></th>\n",
       "      <th></th>\n",
       "      <th></th>\n",
       "      <th></th>\n",
       "      <th></th>\n",
       "      <th></th>\n",
       "    </tr>\n",
       "  </thead>\n",
       "  <tbody>\n",
       "    <tr>\n",
       "      <th>majority</th>\n",
       "      <td>0.235275</td>\n",
       "      <td>0.538180</td>\n",
       "      <td>0.247139</td>\n",
       "      <td>0.142048</td>\n",
       "      <td>0.873530</td>\n",
       "      <td>0.050109</td>\n",
       "      <td>0.883620</td>\n",
       "      <td>69170.0</td>\n",
       "    </tr>\n",
       "    <tr>\n",
       "      <th>minority</th>\n",
       "      <td>0.156524</td>\n",
       "      <td>0.516511</td>\n",
       "      <td>0.212034</td>\n",
       "      <td>0.118813</td>\n",
       "      <td>0.951354</td>\n",
       "      <td>0.015625</td>\n",
       "      <td>0.955161</td>\n",
       "      <td>20540.0</td>\n",
       "    </tr>\n",
       "  </tbody>\n",
       "</table>\n",
       "</div>"
      ],
      "text/plain": [
       "          accuracy  balanced accuracy        f1  precision  \\\n",
       "majmin                                                       \n",
       "majority  0.235275           0.538180  0.247139   0.142048   \n",
       "minority  0.156524           0.516511  0.212034   0.118813   \n",
       "\n",
       "          false positive rate  false negative rate  selection rate    count  \n",
       "majmin                                                                       \n",
       "majority             0.873530             0.050109        0.883620  69170.0  \n",
       "minority             0.951354             0.015625        0.955161  20540.0  "
      ]
     },
     "execution_count": 60,
     "metadata": {},
     "output_type": "execute_result"
    }
   ],
   "source": [
    "metric_frame.by_group"
   ]
  },
  {
   "cell_type": "code",
   "execution_count": 61,
   "id": "6e6c20ae",
   "metadata": {
    "execution": {
     "iopub.execute_input": "2025-08-19T18:56:56.093154Z",
     "iopub.status.busy": "2025-08-19T18:56:56.092382Z",
     "iopub.status.idle": "2025-08-19T18:56:58.040463Z",
     "shell.execute_reply": "2025-08-19T18:56:58.039566Z"
    },
    "papermill": {
     "duration": 1.964828,
     "end_time": "2025-08-19T18:56:58.041914",
     "exception": false,
     "start_time": "2025-08-19T18:56:56.077086",
     "status": "completed"
    },
    "tags": []
   },
   "outputs": [
    {
     "data": {
      "text/plain": [
       "array([[<Axes: title={'center': 'accuracy'}, xlabel='majmin'>,\n",
       "        <Axes: title={'center': 'balanced accuracy'}, xlabel='majmin'>,\n",
       "        <Axes: title={'center': 'f1'}, xlabel='majmin'>],\n",
       "       [<Axes: title={'center': 'precision'}, xlabel='majmin'>,\n",
       "        <Axes: title={'center': 'false positive rate'}, xlabel='majmin'>,\n",
       "        <Axes: title={'center': 'false negative rate'}, xlabel='majmin'>],\n",
       "       [<Axes: title={'center': 'selection rate'}, xlabel='majmin'>,\n",
       "        <Axes: title={'center': 'count'}, xlabel='majmin'>,\n",
       "        <Axes: xlabel='majmin'>]], dtype=object)"
      ]
     },
     "execution_count": 61,
     "metadata": {},
     "output_type": "execute_result"
    },
    {
     "data": {
      "image/png": "[encoded data removed]",
      "text/plain": [
       "<Figure size 1200x800 with 9 Axes>"
      ]
     },
     "metadata": {},
     "output_type": "display_data"
    }
   ],
   "source": [
    "# In a graphic\n",
    "metric_frame.by_group.plot.bar(\n",
    "    subplots=True,\n",
    "    layout=[3, 3],\n",
    "    legend=False,\n",
    "    figsize=[12, 8],\n",
    "    title=\"Show all metrics\",\n",
    ")"
   ]
  },
  {
   "cell_type": "markdown",
   "id": "b2e433ae",
   "metadata": {
    "papermill": {
     "duration": 0.013711,
     "end_time": "2025-08-19T18:56:58.071555",
     "exception": false,
     "start_time": "2025-08-19T18:56:58.057844",
     "status": "completed"
    },
    "tags": []
   },
   "source": [
    "# Final Output"
   ]
  },
  {
   "cell_type": "code",
   "execution_count": 62,
   "id": "3871301e",
   "metadata": {
    "execution": {
     "iopub.execute_input": "2025-08-19T18:56:58.101532Z",
     "iopub.status.busy": "2025-08-19T18:56:58.100336Z",
     "iopub.status.idle": "2025-08-19T18:56:58.110054Z",
     "shell.execute_reply": "2025-08-19T18:56:58.109450Z"
    },
    "papermill": {
     "duration": 0.026787,
     "end_time": "2025-08-19T18:56:58.111936",
     "exception": false,
     "start_time": "2025-08-19T18:56:58.085149",
     "status": "completed"
    },
    "tags": []
   },
   "outputs": [
    {
     "data": {
      "text/plain": [
       "4"
      ]
     },
     "execution_count": 62,
     "metadata": {},
     "output_type": "execute_result"
    }
   ],
   "source": [
    "sub_universes = universe_analysis.generate_sub_universes()\n",
    "len(sub_universes)"
   ]
  },
  {
   "cell_type": "code",
   "execution_count": 63,
   "id": "d9cfdaca",
   "metadata": {
    "execution": {
     "iopub.execute_input": "2025-08-19T18:56:58.141247Z",
     "iopub.status.busy": "2025-08-19T18:56:58.140839Z",
     "iopub.status.idle": "2025-08-19T18:56:58.161311Z",
     "shell.execute_reply": "2025-08-19T18:56:58.160525Z"
    },
    "papermill": {
     "duration": 0.037129,
     "end_time": "2025-08-19T18:56:58.162985",
     "exception": false,
     "start_time": "2025-08-19T18:56:58.125856",
     "status": "completed"
    },
    "tags": []
   },
   "outputs": [],
   "source": [
    "def filter_sub_universe_data(sub_universe, org_test):\n",
    "    # Keep all rows — no filtering\n",
    "    keep_rows_mask = np.ones(org_test.shape[0], dtype=bool)\n",
    "\n",
    "    print(f\"[INFO] Keeping all rows: {keep_rows_mask.sum()} rows retained.\")\n",
    "    return keep_rows_mask"
   ]
  },
  {
   "cell_type": "code",
   "execution_count": 64,
   "id": "2bc31ac1",
   "metadata": {
    "execution": {
     "iopub.execute_input": "2025-08-19T18:56:58.198012Z",
     "iopub.status.busy": "2025-08-19T18:56:58.197611Z",
     "iopub.status.idle": "2025-08-19T18:57:05.169457Z",
     "shell.execute_reply": "2025-08-19T18:57:05.168285Z"
    },
    "papermill": {
     "duration": 6.988261,
     "end_time": "2025-08-19T18:57:05.170872",
     "exception": false,
     "start_time": "2025-08-19T18:56:58.182611",
     "status": "completed"
    },
    "tags": []
   },
   "outputs": [
    {
     "name": "stdout",
     "output_type": "stream",
     "text": [
      "Stopping execution_time clock.\n",
      "[INFO] Keeping all rows: 89710 rows retained.\n"
     ]
    },
    {
     "name": "stdout",
     "output_type": "stream",
     "text": [
      "[INFO] Keeping all rows: 89710 rows retained.\n"
     ]
    },
    {
     "name": "stdout",
     "output_type": "stream",
     "text": [
      "[INFO] Keeping all rows: 89710 rows retained.\n"
     ]
    },
    {
     "name": "stdout",
     "output_type": "stream",
     "text": [
      "[INFO] Keeping all rows: 89710 rows retained.\n"
     ]
    },
    {
     "data": {
      "text/html": [
       "<div>\n",
       "<style scoped>\n",
       "    .dataframe tbody tr th:only-of-type {\n",
       "        vertical-align: middle;\n",
       "    }\n",
       "\n",
       "    .dataframe tbody tr th {\n",
       "        vertical-align: top;\n",
       "    }\n",
       "\n",
       "    .dataframe thead th {\n",
       "        text-align: right;\n",
       "    }\n",
       "</style>\n",
       "<table border=\"1\" class=\"dataframe\">\n",
       "  <thead>\n",
       "    <tr style=\"text-align: right;\">\n",
       "      <th></th>\n",
       "      <th>run_no</th>\n",
       "      <th>universe_id</th>\n",
       "      <th>universe_settings</th>\n",
       "      <th>execution_time</th>\n",
       "      <th>test_size_n</th>\n",
       "      <th>test_size_frac</th>\n",
       "      <th>fair_main_equalized_odds_difference</th>\n",
       "      <th>fair_main_equalized_odds_ratio</th>\n",
       "      <th>fair_main_demographic_parity_difference</th>\n",
       "      <th>fair_main_demographic_parity_ratio</th>\n",
       "      <th>...</th>\n",
       "      <th>perf_grp_precision_0</th>\n",
       "      <th>perf_grp_precision_1</th>\n",
       "      <th>perf_grp_false positive rate_0</th>\n",
       "      <th>perf_grp_false positive rate_1</th>\n",
       "      <th>perf_grp_false negative rate_0</th>\n",
       "      <th>perf_grp_false negative rate_1</th>\n",
       "      <th>perf_grp_selection rate_0</th>\n",
       "      <th>perf_grp_selection rate_1</th>\n",
       "      <th>perf_grp_count_0</th>\n",
       "      <th>perf_grp_count_1</th>\n",
       "    </tr>\n",
       "  </thead>\n",
       "  <tbody>\n",
       "    <tr>\n",
       "      <th>0</th>\n",
       "      <td>3</td>\n",
       "      <td>ddff2de0f0828b13ea3c84b8a5623388</td>\n",
       "      <td>{\"cutoff\": \"quantile_0.1\", \"eval_fairness_grou...</td>\n",
       "      <td>21.303825</td>\n",
       "      <td>89710</td>\n",
       "      <td>1.0</td>\n",
       "      <td>0.077824</td>\n",
       "      <td>0.918197</td>\n",
       "      <td>0.071541</td>\n",
       "      <td>0.925101</td>\n",
       "      <td>...</td>\n",
       "      <td>NaN</td>\n",
       "      <td>NaN</td>\n",
       "      <td>NaN</td>\n",
       "      <td>NaN</td>\n",
       "      <td>NaN</td>\n",
       "      <td>NaN</td>\n",
       "      <td>NaN</td>\n",
       "      <td>NaN</td>\n",
       "      <td>NaN</td>\n",
       "      <td>NaN</td>\n",
       "    </tr>\n",
       "    <tr>\n",
       "      <th>0</th>\n",
       "      <td>3</td>\n",
       "      <td>ddff2de0f0828b13ea3c84b8a5623388</td>\n",
       "      <td>{\"cutoff\": \"quantile_0.1\", \"eval_fairness_grou...</td>\n",
       "      <td>21.303825</td>\n",
       "      <td>89710</td>\n",
       "      <td>1.0</td>\n",
       "      <td>0.077824</td>\n",
       "      <td>0.918197</td>\n",
       "      <td>0.071541</td>\n",
       "      <td>0.925101</td>\n",
       "      <td>...</td>\n",
       "      <td>0.118813</td>\n",
       "      <td>0.142048</td>\n",
       "      <td>0.951354</td>\n",
       "      <td>0.87353</td>\n",
       "      <td>0.015625</td>\n",
       "      <td>0.050109</td>\n",
       "      <td>0.955161</td>\n",
       "      <td>0.883620</td>\n",
       "      <td>20540.0</td>\n",
       "      <td>69170.0</td>\n",
       "    </tr>\n",
       "    <tr>\n",
       "      <th>0</th>\n",
       "      <td>3</td>\n",
       "      <td>ddff2de0f0828b13ea3c84b8a5623388</td>\n",
       "      <td>{\"cutoff\": \"quantile_0.25\", \"eval_fairness_gro...</td>\n",
       "      <td>21.303825</td>\n",
       "      <td>89710</td>\n",
       "      <td>1.0</td>\n",
       "      <td>0.165183</td>\n",
       "      <td>0.807435</td>\n",
       "      <td>0.150981</td>\n",
       "      <td>0.825739</td>\n",
       "      <td>...</td>\n",
       "      <td>NaN</td>\n",
       "      <td>NaN</td>\n",
       "      <td>NaN</td>\n",
       "      <td>NaN</td>\n",
       "      <td>NaN</td>\n",
       "      <td>NaN</td>\n",
       "      <td>NaN</td>\n",
       "      <td>NaN</td>\n",
       "      <td>NaN</td>\n",
       "      <td>NaN</td>\n",
       "    </tr>\n",
       "    <tr>\n",
       "      <th>0</th>\n",
       "      <td>3</td>\n",
       "      <td>ddff2de0f0828b13ea3c84b8a5623388</td>\n",
       "      <td>{\"cutoff\": \"quantile_0.25\", \"eval_fairness_gro...</td>\n",
       "      <td>21.303825</td>\n",
       "      <td>89710</td>\n",
       "      <td>1.0</td>\n",
       "      <td>0.165183</td>\n",
       "      <td>0.807435</td>\n",
       "      <td>0.150981</td>\n",
       "      <td>0.825739</td>\n",
       "      <td>...</td>\n",
       "      <td>0.124073</td>\n",
       "      <td>0.159803</td>\n",
       "      <td>0.857803</td>\n",
       "      <td>0.69262</td>\n",
       "      <td>0.067568</td>\n",
       "      <td>0.134792</td>\n",
       "      <td>0.866407</td>\n",
       "      <td>0.715426</td>\n",
       "      <td>20540.0</td>\n",
       "      <td>69170.0</td>\n",
       "    </tr>\n",
       "  </tbody>\n",
       "</table>\n",
       "<p>4 rows × 50 columns</p>\n",
       "</div>"
      ],
      "text/plain": [
       "  run_no                       universe_id  \\\n",
       "0      3  ddff2de0f0828b13ea3c84b8a5623388   \n",
       "0      3  ddff2de0f0828b13ea3c84b8a5623388   \n",
       "0      3  ddff2de0f0828b13ea3c84b8a5623388   \n",
       "0      3  ddff2de0f0828b13ea3c84b8a5623388   \n",
       "\n",
       "                                   universe_settings  execution_time  \\\n",
       "0  {\"cutoff\": \"quantile_0.1\", \"eval_fairness_grou...       21.303825   \n",
       "0  {\"cutoff\": \"quantile_0.1\", \"eval_fairness_grou...       21.303825   \n",
       "0  {\"cutoff\": \"quantile_0.25\", \"eval_fairness_gro...       21.303825   \n",
       "0  {\"cutoff\": \"quantile_0.25\", \"eval_fairness_gro...       21.303825   \n",
       "\n",
       "   test_size_n  test_size_frac  fair_main_equalized_odds_difference  \\\n",
       "0        89710             1.0                             0.077824   \n",
       "0        89710             1.0                             0.077824   \n",
       "0        89710             1.0                             0.165183   \n",
       "0        89710             1.0                             0.165183   \n",
       "\n",
       "   fair_main_equalized_odds_ratio  fair_main_demographic_parity_difference  \\\n",
       "0                        0.918197                                 0.071541   \n",
       "0                        0.918197                                 0.071541   \n",
       "0                        0.807435                                 0.150981   \n",
       "0                        0.807435                                 0.150981   \n",
       "\n",
       "   fair_main_demographic_parity_ratio  ...  perf_grp_precision_0  \\\n",
       "0                            0.925101  ...                   NaN   \n",
       "0                            0.925101  ...              0.118813   \n",
       "0                            0.825739  ...                   NaN   \n",
       "0                            0.825739  ...              0.124073   \n",
       "\n",
       "   perf_grp_precision_1  perf_grp_false positive rate_0  \\\n",
       "0                   NaN                             NaN   \n",
       "0              0.142048                        0.951354   \n",
       "0                   NaN                             NaN   \n",
       "0              0.159803                        0.857803   \n",
       "\n",
       "   perf_grp_false positive rate_1  perf_grp_false negative rate_0  \\\n",
       "0                             NaN                             NaN   \n",
       "0                         0.87353                        0.015625   \n",
       "0                             NaN                             NaN   \n",
       "0                         0.69262                        0.067568   \n",
       "\n",
       "   perf_grp_false negative rate_1  perf_grp_selection rate_0  \\\n",
       "0                             NaN                        NaN   \n",
       "0                        0.050109                   0.955161   \n",
       "0                             NaN                        NaN   \n",
       "0                        0.134792                   0.866407   \n",
       "\n",
       "   perf_grp_selection rate_1  perf_grp_count_0  perf_grp_count_1  \n",
       "0                        NaN               NaN               NaN  \n",
       "0                   0.883620           20540.0           69170.0  \n",
       "0                        NaN               NaN               NaN  \n",
       "0                   0.715426           20540.0           69170.0  \n",
       "\n",
       "[4 rows x 50 columns]"
      ]
     },
     "execution_count": 64,
     "metadata": {},
     "output_type": "execute_result"
    }
   ],
   "source": [
    "final_output = universe_analysis.generate_final_output(\n",
    "    y_pred_prob=probs_test,\n",
    "    y_test=y_true,\n",
    "    org_test=org_test,\n",
    "    filter_data=filter_sub_universe_data,\n",
    "    cp_metrics_df=cp_metrics_df,\n",
    "    save=True,\n",
    ")\n",
    "final_output"
   ]
  },
  {
   "cell_type": "code",
   "execution_count": null,
   "id": "8b80a1ff",
   "metadata": {
    "papermill": {
     "duration": 0.014227,
     "end_time": "2025-08-19T18:57:05.202372",
     "exception": false,
     "start_time": "2025-08-19T18:57:05.188145",
     "status": "completed"
    },
    "tags": []
   },
   "outputs": [],
   "source": []
  },
  {
   "cell_type": "code",
   "execution_count": null,
   "id": "275c9fad",
   "metadata": {
    "papermill": {
     "duration": 0.01429,
     "end_time": "2025-08-19T18:57:05.230900",
     "exception": false,
     "start_time": "2025-08-19T18:57:05.216610",
     "status": "completed"
    },
    "tags": []
   },
   "outputs": [],
   "source": []
  }
 ],
 "metadata": {
  "celltoolbar": "Tags",
  "kernelspec": {
   "display_name": "Python (CMA Fairness)",
   "language": "python",
   "name": "cma_fair_env"
  },
  "language_info": {
   "codemirror_mode": {
    "name": "ipython",
    "version": 3
   },
   "file_extension": ".py",
   "mimetype": "text/x-python",
   "name": "python",
   "nbconvert_exporter": "python",
   "pygments_lexer": "ipython3",
   "version": "3.10.12"
  },
  "papermill": {
   "default_parameters": {},
   "duration": 32.053463,
   "end_time": "2025-08-19T18:57:06.069093",
   "environment_variables": {},
   "exception": null,
   "input_path": "universe_analysis.ipynb",
   "output_path": "output/runs/3/notebooks/m_3-ddff2de0f0828b13ea3c84b8a5623388.ipynb",
   "parameters": {
    "output_dir": "output",
    "run_no": "3",
    "seed": "2023",
    "universe": "{\"cutoff\": [\"quantile_0.1\", \"quantile_0.25\"], \"eval_fairness_grouping\": [\"majority-minority\", \"nationality-all\"], \"exclude_features\": \"nationality\", \"exclude_subgroups\": \"keep-all\", \"model\": \"logreg\", \"scale\": \"scale\", \"training_size\": \"1k\", \"training_year\": \"2012_14\"}",
    "universe_id": "ddff2de0f0828b13ea3c84b8a5623388"
   },
   "start_time": "2025-08-19T18:56:34.015630",
   "version": "2.6.0"
  }
 },
 "nbformat": 4,
 "nbformat_minor": 5
}