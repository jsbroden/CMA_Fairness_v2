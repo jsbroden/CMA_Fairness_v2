{
 "cells": [
  {
   "cell_type": "markdown",
   "id": "ef23dbb3",
   "metadata": {
    "papermill": {
     "duration": 0.01008,
     "end_time": "2025-08-19T18:39:52.341170",
     "exception": false,
     "start_time": "2025-08-19T18:39:52.331090",
     "status": "completed"
    },
    "tags": []
   },
   "source": [
    "# Setup"
   ]
  },
  {
   "cell_type": "code",
   "execution_count": 1,
   "id": "0bc8e7dc",
   "metadata": {
    "execution": {
     "iopub.execute_input": "2025-08-19T18:39:52.360935Z",
     "iopub.status.busy": "2025-08-19T18:39:52.359800Z",
     "iopub.status.idle": "2025-08-19T18:39:52.374162Z",
     "shell.execute_reply": "2025-08-19T18:39:52.373232Z"
    },
    "papermill": {
     "duration": 0.025808,
     "end_time": "2025-08-19T18:39:52.375647",
     "exception": false,
     "start_time": "2025-08-19T18:39:52.349839",
     "status": "completed"
    },
    "tags": []
   },
   "outputs": [
    {
     "name": "stdout",
     "output_type": "stream",
     "text": [
      "/dss/dsshome1/0C/ra93lal2/cma/CMA_Fairness_v2\n"
     ]
    },
    {
     "name": "stderr",
     "output_type": "stream",
     "text": [
      "/dss/dsshome1/0C/ra93lal2/.local/share/virtualenvs/CMA_Fairness_v2-3j10GkSs/lib/python3.10/site-packages/IPython/core/magics/osm.py:393: UserWarning: This is now an optional IPython functionality, using bookmarks requires you to install the `pickleshare` library.\n",
      "  bkms = self.shell.db.get('bookmarks', {})\n",
      "/dss/dsshome1/0C/ra93lal2/.local/share/virtualenvs/CMA_Fairness_v2-3j10GkSs/lib/python3.10/site-packages/IPython/core/magics/osm.py:417: UserWarning: This is now an optional IPython functionality, setting dhist requires you to install the `pickleshare` library.\n",
      "  self.shell.db['dhist'] = compress_dhist(dhist)[-100:]\n"
     ]
    }
   ],
   "source": [
    "%cd ~/cma/CMA_Fairness_v2"
   ]
  },
  {
   "cell_type": "markdown",
   "id": "9d235661",
   "metadata": {
    "papermill": {
     "duration": 0.009035,
     "end_time": "2025-08-19T18:39:52.394546",
     "exception": false,
     "start_time": "2025-08-19T18:39:52.385511",
     "status": "completed"
    },
    "tags": []
   },
   "source": [
    "The following cell holds the definition of our parameters, these values can be overriden by rendering the with e.g. the following command:\n",
    "\n",
    "papermill -p alpha 0.2 -p ratio 0.3 universe_analysis.ipynb output/test_run.ipynb"
   ]
  },
  {
   "cell_type": "code",
   "execution_count": 2,
   "id": "4a789d8e",
   "metadata": {
    "execution": {
     "iopub.execute_input": "2025-08-19T18:39:52.413164Z",
     "iopub.status.busy": "2025-08-19T18:39:52.412802Z",
     "iopub.status.idle": "2025-08-19T18:39:52.417369Z",
     "shell.execute_reply": "2025-08-19T18:39:52.416528Z"
    },
    "papermill": {
     "duration": 0.015404,
     "end_time": "2025-08-19T18:39:52.418633",
     "exception": false,
     "start_time": "2025-08-19T18:39:52.403229",
     "status": "completed"
    },
    "tags": []
   },
   "outputs": [
    {
     "name": "stdout",
     "output_type": "stream",
     "text": [
      "Current working directory: /dss/dsshome1/0C/ra93lal2/cma/CMA_Fairness_v2\n"
     ]
    }
   ],
   "source": [
    "import os\n",
    "print(\"Current working directory:\", os.getcwd())"
   ]
  },
  {
   "cell_type": "code",
   "execution_count": 3,
   "id": "4132aaed",
   "metadata": {
    "execution": {
     "iopub.execute_input": "2025-08-19T18:39:52.437925Z",
     "iopub.status.busy": "2025-08-19T18:39:52.437581Z",
     "iopub.status.idle": "2025-08-19T18:39:52.442345Z",
     "shell.execute_reply": "2025-08-19T18:39:52.441531Z"
    },
    "papermill": {
     "duration": 0.015815,
     "end_time": "2025-08-19T18:39:52.443655",
     "exception": false,
     "start_time": "2025-08-19T18:39:52.427840",
     "status": "completed"
    },
    "tags": [
     "parameters"
    ]
   },
   "outputs": [],
   "source": [
    "run_no = 0\n",
    "universe_id = \"test\"\n",
    "universe = {\n",
    "    \"training_size\": \"5k\", # \"25k\", \"5k\", \"1k\"\n",
    "    \"training_year\": \"2012_14\", # \"2014\", \"2012_14\", \"2010_14\"\n",
    "    \"scale\": \"scale\", # \"scale\", \"do-not-scale\",\n",
    "    \"model\": \"elasticnet\", # \"logreg\", \"penalized_logreg\", \"rf\", \"gbm\", \"elasticnet\"\n",
    "    \"cutoff\": [\"quantile_0.15\", \"quantile_0.30\"],\n",
    "    \"exclude_features\": \"age\", # \"none\", \"nationality\", \"sex\", \"nationality-sex\", \"age\"\n",
    "    \"exclude_subgroups\": \"drop-non-german\", # \"keep-all\", \"drop-non-german\"\n",
    "    \"eval_fairness_grouping\": [\"majority-minority\", \"nationality-all\"]\n",
    "}\n",
    "\n",
    "output_dir=\"./output\"\n",
    "seed=0"
   ]
  },
  {
   "cell_type": "code",
   "execution_count": 4,
   "id": "e28b8c9d",
   "metadata": {
    "execution": {
     "iopub.execute_input": "2025-08-19T18:39:52.463991Z",
     "iopub.status.busy": "2025-08-19T18:39:52.463642Z",
     "iopub.status.idle": "2025-08-19T18:39:52.467850Z",
     "shell.execute_reply": "2025-08-19T18:39:52.467074Z"
    },
    "papermill": {
     "duration": 0.01569,
     "end_time": "2025-08-19T18:39:52.469088",
     "exception": false,
     "start_time": "2025-08-19T18:39:52.453398",
     "status": "completed"
    },
    "tags": [
     "injected-parameters"
    ]
   },
   "outputs": [],
   "source": [
    "# Parameters\n",
    "universe_id = \"29991b0e7c7d7bef6db8950de5502600\"\n",
    "run_no = \"3\"\n",
    "universe = \"{\\\"cutoff\\\": [\\\"quantile_0.1\\\", \\\"quantile_0.25\\\"], \\\"eval_fairness_grouping\\\": [\\\"majority-minority\\\", \\\"nationality-all\\\"], \\\"exclude_features\\\": \\\"nationality\\\", \\\"exclude_subgroups\\\": \\\"keep-all\\\", \\\"model\\\": \\\"logreg\\\", \\\"scale\\\": \\\"scale\\\", \\\"training_size\\\": \\\"5k\\\", \\\"training_year\\\": \\\"2010_14\\\"}\"\n",
    "output_dir = \"output\"\n",
    "seed = \"2023\"\n"
   ]
  },
  {
   "cell_type": "code",
   "execution_count": 5,
   "id": "a5d7941f",
   "metadata": {
    "execution": {
     "iopub.execute_input": "2025-08-19T18:39:52.488331Z",
     "iopub.status.busy": "2025-08-19T18:39:52.487982Z",
     "iopub.status.idle": "2025-08-19T18:39:52.492008Z",
     "shell.execute_reply": "2025-08-19T18:39:52.491212Z"
    },
    "papermill": {
     "duration": 0.015074,
     "end_time": "2025-08-19T18:39:52.493331",
     "exception": false,
     "start_time": "2025-08-19T18:39:52.478257",
     "status": "completed"
    },
    "tags": []
   },
   "outputs": [],
   "source": [
    "import json\n",
    "if isinstance(universe, str):\n",
    "    universe = json.loads(universe)"
   ]
  },
  {
   "cell_type": "code",
   "execution_count": 6,
   "id": "7076ccb1",
   "metadata": {
    "execution": {
     "iopub.execute_input": "2025-08-19T18:39:52.514601Z",
     "iopub.status.busy": "2025-08-19T18:39:52.514251Z",
     "iopub.status.idle": "2025-08-19T18:39:52.548460Z",
     "shell.execute_reply": "2025-08-19T18:39:52.547721Z"
    },
    "papermill": {
     "duration": 0.045688,
     "end_time": "2025-08-19T18:39:52.550108",
     "exception": false,
     "start_time": "2025-08-19T18:39:52.504420",
     "status": "completed"
    },
    "tags": []
   },
   "outputs": [],
   "source": [
    "# Auto-reload the custom package\n",
    "%load_ext autoreload\n",
    "%autoreload 1\n",
    "%aimport fairness_multiverse"
   ]
  },
  {
   "cell_type": "code",
   "execution_count": 7,
   "id": "94c8eb93",
   "metadata": {
    "execution": {
     "iopub.execute_input": "2025-08-19T18:39:52.582570Z",
     "iopub.status.busy": "2025-08-19T18:39:52.581440Z",
     "iopub.status.idle": "2025-08-19T18:39:55.490323Z",
     "shell.execute_reply": "2025-08-19T18:39:55.489617Z"
    },
    "papermill": {
     "duration": 2.922956,
     "end_time": "2025-08-19T18:39:55.491652",
     "exception": false,
     "start_time": "2025-08-19T18:39:52.568696",
     "status": "completed"
    },
    "tags": []
   },
   "outputs": [],
   "source": [
    "from fairness_multiverse.universe import UniverseAnalysis\n",
    "\n",
    "universe_analysis = UniverseAnalysis(\n",
    "    run_no = run_no,\n",
    "    universe_id = universe_id,\n",
    "    universe = universe,\n",
    "    output_dir=output_dir,\n",
    ")"
   ]
  },
  {
   "cell_type": "code",
   "execution_count": 8,
   "id": "2a6381cf",
   "metadata": {
    "execution": {
     "iopub.execute_input": "2025-08-19T18:39:55.521433Z",
     "iopub.status.busy": "2025-08-19T18:39:55.521011Z",
     "iopub.status.idle": "2025-08-19T18:39:55.526019Z",
     "shell.execute_reply": "2025-08-19T18:39:55.525437Z"
    },
    "papermill": {
     "duration": 0.017922,
     "end_time": "2025-08-19T18:39:55.526976",
     "exception": false,
     "start_time": "2025-08-19T18:39:55.509054",
     "status": "completed"
    },
    "tags": []
   },
   "outputs": [
    {
     "name": "stdout",
     "output_type": "stream",
     "text": [
      "Using Seed: 2023\n"
     ]
    }
   ],
   "source": [
    "import numpy as np\n",
    "parsed_seed = int(seed)\n",
    "np.random.seed(parsed_seed)\n",
    "print(f\"Using Seed: {parsed_seed}\")"
   ]
  },
  {
   "cell_type": "markdown",
   "id": "b6e958b4",
   "metadata": {
    "papermill": {
     "duration": 0.008914,
     "end_time": "2025-08-19T18:39:55.557731",
     "exception": false,
     "start_time": "2025-08-19T18:39:55.548817",
     "status": "completed"
    },
    "tags": []
   },
   "source": [
    "# Loading Data"
   ]
  },
  {
   "cell_type": "code",
   "execution_count": 9,
   "id": "98701482",
   "metadata": {
    "execution": {
     "iopub.execute_input": "2025-08-19T18:39:55.603369Z",
     "iopub.status.busy": "2025-08-19T18:39:55.602958Z",
     "iopub.status.idle": "2025-08-19T18:40:07.170935Z",
     "shell.execute_reply": "2025-08-19T18:40:07.169913Z"
    },
    "papermill": {
     "duration": 11.597157,
     "end_time": "2025-08-19T18:40:07.173946",
     "exception": false,
     "start_time": "2025-08-19T18:39:55.576789",
     "status": "completed"
    },
    "tags": []
   },
   "outputs": [
    {
     "name": "stdout",
     "output_type": "stream",
     "text": [
      "Loading SIAB data from cache: data/siab_cached.csv.gz\n"
     ]
    },
    {
     "name": "stdout",
     "output_type": "stream",
     "text": [
      "(643690, 164)\n"
     ]
    }
   ],
   "source": [
    "from pathlib import Path\n",
    "import pandas as pd\n",
    "\n",
    "# File paths\n",
    "raw_file = Path(\"data/raw/siab.csv\")\n",
    "cache_file = Path(\"data/siab_cached.csv.gz\")\n",
    "\n",
    "# Ensure cache directory exists\n",
    "cache_file.parent.mkdir(parents=True, exist_ok=True)\n",
    "\n",
    "# Load with simple caching\n",
    "if cache_file.exists():\n",
    "    print(f\"Loading SIAB data from cache: {cache_file}\")\n",
    "    siab = pd.read_csv(cache_file, compression='gzip')\n",
    "else:\n",
    "    print(f\"Cache not found. Reading raw SIAB data: {raw_file}\")\n",
    "    siab = pd.read_csv(raw_file)\n",
    "    siab.to_csv(cache_file, index=False, compression='gzip')\n",
    "    print(f\"Cached SIAB data to: {cache_file}\")\n",
    "\n",
    "print(siab.shape)"
   ]
  },
  {
   "cell_type": "code",
   "execution_count": 10,
   "id": "058d2abb",
   "metadata": {
    "execution": {
     "iopub.execute_input": "2025-08-19T18:40:07.197140Z",
     "iopub.status.busy": "2025-08-19T18:40:07.196208Z",
     "iopub.status.idle": "2025-08-19T18:40:07.437405Z",
     "shell.execute_reply": "2025-08-19T18:40:07.436621Z"
    },
    "papermill": {
     "duration": 0.253015,
     "end_time": "2025-08-19T18:40:07.438844",
     "exception": false,
     "start_time": "2025-08-19T18:40:07.185829",
     "status": "completed"
    },
    "tags": []
   },
   "outputs": [
    {
     "data": {
      "text/html": [
       "<div>\n",
       "<style scoped>\n",
       "    .dataframe tbody tr th:only-of-type {\n",
       "        vertical-align: middle;\n",
       "    }\n",
       "\n",
       "    .dataframe tbody tr th {\n",
       "        vertical-align: top;\n",
       "    }\n",
       "\n",
       "    .dataframe thead th {\n",
       "        text-align: right;\n",
       "    }\n",
       "</style>\n",
       "<table border=\"1\" class=\"dataframe\">\n",
       "  <thead>\n",
       "    <tr style=\"text-align: right;\">\n",
       "      <th></th>\n",
       "      <th>persnr</th>\n",
       "      <th>year</th>\n",
       "      <th>nrEntry</th>\n",
       "      <th>ltue</th>\n",
       "      <th>employed_before</th>\n",
       "      <th>receipt_leh_before</th>\n",
       "      <th>receipt_lhg_before</th>\n",
       "      <th>se_before</th>\n",
       "      <th>ASU_notue_seeking_before</th>\n",
       "      <th>ASU_other_before</th>\n",
       "      <th>...</th>\n",
       "      <th>minijob_tot_dur_byage</th>\n",
       "      <th>ft_tot_dur_byage</th>\n",
       "      <th>befrist_tot_dur_byage</th>\n",
       "      <th>leih_tot_dur_byage</th>\n",
       "      <th>LHG_tot_dur_byage</th>\n",
       "      <th>LEH_tot_dur_byage</th>\n",
       "      <th>almp_tot_dur_byage</th>\n",
       "      <th>almp_aw_tot_dur_byage</th>\n",
       "      <th>se_tot_dur_byage</th>\n",
       "      <th>seeking1_tot_dur_byage</th>\n",
       "    </tr>\n",
       "  </thead>\n",
       "  <tbody>\n",
       "    <tr>\n",
       "      <th>0</th>\n",
       "      <td>7</td>\n",
       "      <td>2015</td>\n",
       "      <td>1</td>\n",
       "      <td>0</td>\n",
       "      <td>1</td>\n",
       "      <td>0</td>\n",
       "      <td>0</td>\n",
       "      <td>0</td>\n",
       "      <td>1</td>\n",
       "      <td>0</td>\n",
       "      <td>...</td>\n",
       "      <td>0.000000</td>\n",
       "      <td>0.000000</td>\n",
       "      <td>15.043478</td>\n",
       "      <td>0.000000</td>\n",
       "      <td>0.000000</td>\n",
       "      <td>0.000000</td>\n",
       "      <td>0.000000</td>\n",
       "      <td>0.000000</td>\n",
       "      <td>0.000000</td>\n",
       "      <td>0.000000</td>\n",
       "    </tr>\n",
       "    <tr>\n",
       "      <th>1</th>\n",
       "      <td>18</td>\n",
       "      <td>2010</td>\n",
       "      <td>1</td>\n",
       "      <td>1</td>\n",
       "      <td>0</td>\n",
       "      <td>0</td>\n",
       "      <td>0</td>\n",
       "      <td>0</td>\n",
       "      <td>0</td>\n",
       "      <td>0</td>\n",
       "      <td>...</td>\n",
       "      <td>0.000000</td>\n",
       "      <td>0.000000</td>\n",
       "      <td>0.000000</td>\n",
       "      <td>0.000000</td>\n",
       "      <td>0.000000</td>\n",
       "      <td>0.000000</td>\n",
       "      <td>0.000000</td>\n",
       "      <td>0.000000</td>\n",
       "      <td>0.000000</td>\n",
       "      <td>0.000000</td>\n",
       "    </tr>\n",
       "    <tr>\n",
       "      <th>2</th>\n",
       "      <td>18</td>\n",
       "      <td>2011</td>\n",
       "      <td>2</td>\n",
       "      <td>0</td>\n",
       "      <td>1</td>\n",
       "      <td>0</td>\n",
       "      <td>1</td>\n",
       "      <td>0</td>\n",
       "      <td>1</td>\n",
       "      <td>0</td>\n",
       "      <td>...</td>\n",
       "      <td>2.714286</td>\n",
       "      <td>2.714286</td>\n",
       "      <td>0.000000</td>\n",
       "      <td>0.000000</td>\n",
       "      <td>10.775510</td>\n",
       "      <td>0.000000</td>\n",
       "      <td>8.367347</td>\n",
       "      <td>0.000000</td>\n",
       "      <td>0.000000</td>\n",
       "      <td>9.836735</td>\n",
       "    </tr>\n",
       "    <tr>\n",
       "      <th>3</th>\n",
       "      <td>18</td>\n",
       "      <td>2012</td>\n",
       "      <td>3</td>\n",
       "      <td>0</td>\n",
       "      <td>1</td>\n",
       "      <td>0</td>\n",
       "      <td>1</td>\n",
       "      <td>0</td>\n",
       "      <td>1</td>\n",
       "      <td>0</td>\n",
       "      <td>...</td>\n",
       "      <td>4.200000</td>\n",
       "      <td>4.200000</td>\n",
       "      <td>0.000000</td>\n",
       "      <td>0.000000</td>\n",
       "      <td>12.100000</td>\n",
       "      <td>0.000000</td>\n",
       "      <td>9.400000</td>\n",
       "      <td>0.000000</td>\n",
       "      <td>0.000000</td>\n",
       "      <td>9.960000</td>\n",
       "    </tr>\n",
       "    <tr>\n",
       "      <th>4</th>\n",
       "      <td>18</td>\n",
       "      <td>2012</td>\n",
       "      <td>4</td>\n",
       "      <td>0</td>\n",
       "      <td>1</td>\n",
       "      <td>0</td>\n",
       "      <td>1</td>\n",
       "      <td>0</td>\n",
       "      <td>1</td>\n",
       "      <td>0</td>\n",
       "      <td>...</td>\n",
       "      <td>5.460000</td>\n",
       "      <td>5.460000</td>\n",
       "      <td>0.000000</td>\n",
       "      <td>0.000000</td>\n",
       "      <td>13.360000</td>\n",
       "      <td>0.000000</td>\n",
       "      <td>10.320000</td>\n",
       "      <td>0.000000</td>\n",
       "      <td>0.000000</td>\n",
       "      <td>10.280000</td>\n",
       "    </tr>\n",
       "    <tr>\n",
       "      <th>...</th>\n",
       "      <td>...</td>\n",
       "      <td>...</td>\n",
       "      <td>...</td>\n",
       "      <td>...</td>\n",
       "      <td>...</td>\n",
       "      <td>...</td>\n",
       "      <td>...</td>\n",
       "      <td>...</td>\n",
       "      <td>...</td>\n",
       "      <td>...</td>\n",
       "      <td>...</td>\n",
       "      <td>...</td>\n",
       "      <td>...</td>\n",
       "      <td>...</td>\n",
       "      <td>...</td>\n",
       "      <td>...</td>\n",
       "      <td>...</td>\n",
       "      <td>...</td>\n",
       "      <td>...</td>\n",
       "      <td>...</td>\n",
       "      <td>...</td>\n",
       "    </tr>\n",
       "    <tr>\n",
       "      <th>643685</th>\n",
       "      <td>1827860</td>\n",
       "      <td>2013</td>\n",
       "      <td>1</td>\n",
       "      <td>0</td>\n",
       "      <td>0</td>\n",
       "      <td>0</td>\n",
       "      <td>1</td>\n",
       "      <td>0</td>\n",
       "      <td>0</td>\n",
       "      <td>1</td>\n",
       "      <td>...</td>\n",
       "      <td>0.000000</td>\n",
       "      <td>0.000000</td>\n",
       "      <td>0.000000</td>\n",
       "      <td>0.000000</td>\n",
       "      <td>0.612903</td>\n",
       "      <td>0.000000</td>\n",
       "      <td>0.000000</td>\n",
       "      <td>0.000000</td>\n",
       "      <td>0.000000</td>\n",
       "      <td>0.000000</td>\n",
       "    </tr>\n",
       "    <tr>\n",
       "      <th>643686</th>\n",
       "      <td>1827860</td>\n",
       "      <td>2015</td>\n",
       "      <td>2</td>\n",
       "      <td>1</td>\n",
       "      <td>0</td>\n",
       "      <td>0</td>\n",
       "      <td>1</td>\n",
       "      <td>0</td>\n",
       "      <td>1</td>\n",
       "      <td>0</td>\n",
       "      <td>...</td>\n",
       "      <td>0.000000</td>\n",
       "      <td>0.000000</td>\n",
       "      <td>0.212121</td>\n",
       "      <td>0.212121</td>\n",
       "      <td>17.363636</td>\n",
       "      <td>0.000000</td>\n",
       "      <td>8.909091</td>\n",
       "      <td>0.000000</td>\n",
       "      <td>0.000000</td>\n",
       "      <td>7.121212</td>\n",
       "    </tr>\n",
       "    <tr>\n",
       "      <th>643687</th>\n",
       "      <td>1827860</td>\n",
       "      <td>2016</td>\n",
       "      <td>3</td>\n",
       "      <td>1</td>\n",
       "      <td>0</td>\n",
       "      <td>0</td>\n",
       "      <td>1</td>\n",
       "      <td>1</td>\n",
       "      <td>0</td>\n",
       "      <td>1</td>\n",
       "      <td>...</td>\n",
       "      <td>0.000000</td>\n",
       "      <td>0.000000</td>\n",
       "      <td>0.294118</td>\n",
       "      <td>0.205882</td>\n",
       "      <td>34.705882</td>\n",
       "      <td>0.000000</td>\n",
       "      <td>10.352941</td>\n",
       "      <td>1.705882</td>\n",
       "      <td>1.705882</td>\n",
       "      <td>23.911765</td>\n",
       "    </tr>\n",
       "    <tr>\n",
       "      <th>643688</th>\n",
       "      <td>1827869</td>\n",
       "      <td>2013</td>\n",
       "      <td>1</td>\n",
       "      <td>1</td>\n",
       "      <td>1</td>\n",
       "      <td>0</td>\n",
       "      <td>0</td>\n",
       "      <td>0</td>\n",
       "      <td>1</td>\n",
       "      <td>0</td>\n",
       "      <td>...</td>\n",
       "      <td>0.000000</td>\n",
       "      <td>0.000000</td>\n",
       "      <td>0.000000</td>\n",
       "      <td>0.000000</td>\n",
       "      <td>0.000000</td>\n",
       "      <td>0.525424</td>\n",
       "      <td>0.000000</td>\n",
       "      <td>0.000000</td>\n",
       "      <td>0.000000</td>\n",
       "      <td>0.000000</td>\n",
       "    </tr>\n",
       "    <tr>\n",
       "      <th>643689</th>\n",
       "      <td>1827869</td>\n",
       "      <td>2014</td>\n",
       "      <td>2</td>\n",
       "      <td>0</td>\n",
       "      <td>0</td>\n",
       "      <td>1</td>\n",
       "      <td>0</td>\n",
       "      <td>0</td>\n",
       "      <td>1</td>\n",
       "      <td>0</td>\n",
       "      <td>...</td>\n",
       "      <td>0.000000</td>\n",
       "      <td>0.666667</td>\n",
       "      <td>0.666667</td>\n",
       "      <td>0.000000</td>\n",
       "      <td>0.000000</td>\n",
       "      <td>8.950000</td>\n",
       "      <td>1.033333</td>\n",
       "      <td>0.083333</td>\n",
       "      <td>0.083333</td>\n",
       "      <td>8.133333</td>\n",
       "    </tr>\n",
       "  </tbody>\n",
       "</table>\n",
       "<p>643690 rows × 164 columns</p>\n",
       "</div>"
      ],
      "text/plain": [
       "         persnr  year  nrEntry  ltue  employed_before  receipt_leh_before  \\\n",
       "0             7  2015        1     0                1                   0   \n",
       "1            18  2010        1     1                0                   0   \n",
       "2            18  2011        2     0                1                   0   \n",
       "3            18  2012        3     0                1                   0   \n",
       "4            18  2012        4     0                1                   0   \n",
       "...         ...   ...      ...   ...              ...                 ...   \n",
       "643685  1827860  2013        1     0                0                   0   \n",
       "643686  1827860  2015        2     1                0                   0   \n",
       "643687  1827860  2016        3     1                0                   0   \n",
       "643688  1827869  2013        1     1                1                   0   \n",
       "643689  1827869  2014        2     0                0                   1   \n",
       "\n",
       "        receipt_lhg_before  se_before  ASU_notue_seeking_before  \\\n",
       "0                        0          0                         1   \n",
       "1                        0          0                         0   \n",
       "2                        1          0                         1   \n",
       "3                        1          0                         1   \n",
       "4                        1          0                         1   \n",
       "...                    ...        ...                       ...   \n",
       "643685                   1          0                         0   \n",
       "643686                   1          0                         1   \n",
       "643687                   1          1                         0   \n",
       "643688                   0          0                         1   \n",
       "643689                   0          0                         1   \n",
       "\n",
       "        ASU_other_before  ...  minijob_tot_dur_byage  ft_tot_dur_byage  \\\n",
       "0                      0  ...               0.000000          0.000000   \n",
       "1                      0  ...               0.000000          0.000000   \n",
       "2                      0  ...               2.714286          2.714286   \n",
       "3                      0  ...               4.200000          4.200000   \n",
       "4                      0  ...               5.460000          5.460000   \n",
       "...                  ...  ...                    ...               ...   \n",
       "643685                 1  ...               0.000000          0.000000   \n",
       "643686                 0  ...               0.000000          0.000000   \n",
       "643687                 1  ...               0.000000          0.000000   \n",
       "643688                 0  ...               0.000000          0.000000   \n",
       "643689                 0  ...               0.000000          0.666667   \n",
       "\n",
       "        befrist_tot_dur_byage  leih_tot_dur_byage  LHG_tot_dur_byage  \\\n",
       "0                   15.043478            0.000000           0.000000   \n",
       "1                    0.000000            0.000000           0.000000   \n",
       "2                    0.000000            0.000000          10.775510   \n",
       "3                    0.000000            0.000000          12.100000   \n",
       "4                    0.000000            0.000000          13.360000   \n",
       "...                       ...                 ...                ...   \n",
       "643685               0.000000            0.000000           0.612903   \n",
       "643686               0.212121            0.212121          17.363636   \n",
       "643687               0.294118            0.205882          34.705882   \n",
       "643688               0.000000            0.000000           0.000000   \n",
       "643689               0.666667            0.000000           0.000000   \n",
       "\n",
       "        LEH_tot_dur_byage  almp_tot_dur_byage  almp_aw_tot_dur_byage  \\\n",
       "0                0.000000            0.000000               0.000000   \n",
       "1                0.000000            0.000000               0.000000   \n",
       "2                0.000000            8.367347               0.000000   \n",
       "3                0.000000            9.400000               0.000000   \n",
       "4                0.000000           10.320000               0.000000   \n",
       "...                   ...                 ...                    ...   \n",
       "643685           0.000000            0.000000               0.000000   \n",
       "643686           0.000000            8.909091               0.000000   \n",
       "643687           0.000000           10.352941               1.705882   \n",
       "643688           0.525424            0.000000               0.000000   \n",
       "643689           8.950000            1.033333               0.083333   \n",
       "\n",
       "        se_tot_dur_byage  seeking1_tot_dur_byage  \n",
       "0               0.000000                0.000000  \n",
       "1               0.000000                0.000000  \n",
       "2               0.000000                9.836735  \n",
       "3               0.000000                9.960000  \n",
       "4               0.000000               10.280000  \n",
       "...                  ...                     ...  \n",
       "643685          0.000000                0.000000  \n",
       "643686          0.000000                7.121212  \n",
       "643687          1.705882               23.911765  \n",
       "643688          0.000000                0.000000  \n",
       "643689          0.083333                8.133333  \n",
       "\n",
       "[643690 rows x 164 columns]"
      ]
     },
     "execution_count": 10,
     "metadata": {},
     "output_type": "execute_result"
    }
   ],
   "source": [
    "siab"
   ]
  },
  {
   "cell_type": "markdown",
   "id": "1f87e805",
   "metadata": {
    "papermill": {
     "duration": 0.009966,
     "end_time": "2025-08-19T18:40:07.458894",
     "exception": false,
     "start_time": "2025-08-19T18:40:07.448928",
     "status": "completed"
    },
    "tags": []
   },
   "source": [
    "# Splitting Data and Setting Training Data Size"
   ]
  },
  {
   "cell_type": "code",
   "execution_count": 11,
   "id": "910ae358",
   "metadata": {
    "execution": {
     "iopub.execute_input": "2025-08-19T18:40:07.479360Z",
     "iopub.status.busy": "2025-08-19T18:40:07.478946Z",
     "iopub.status.idle": "2025-08-19T18:40:09.416550Z",
     "shell.execute_reply": "2025-08-19T18:40:09.407362Z"
    },
    "papermill": {
     "duration": 1.950098,
     "end_time": "2025-08-19T18:40:09.418514",
     "exception": false,
     "start_time": "2025-08-19T18:40:07.468416",
     "status": "completed"
    },
    "tags": []
   },
   "outputs": [],
   "source": [
    "from fairness_multiverse.universe import sample_by_year_size\n",
    "\n",
    "siab_train = sample_by_year_size(siab,\n",
    "                               training_year=universe[\"training_year\"],\n",
    "                               training_size=universe[\"training_size\"])"
   ]
  },
  {
   "cell_type": "code",
   "execution_count": 12,
   "id": "919c8ff5",
   "metadata": {
    "execution": {
     "iopub.execute_input": "2025-08-19T18:40:09.466894Z",
     "iopub.status.busy": "2025-08-19T18:40:09.466417Z",
     "iopub.status.idle": "2025-08-19T18:40:09.473273Z",
     "shell.execute_reply": "2025-08-19T18:40:09.472566Z"
    },
    "papermill": {
     "duration": 0.047353,
     "end_time": "2025-08-19T18:40:09.475989",
     "exception": false,
     "start_time": "2025-08-19T18:40:09.428636",
     "status": "completed"
    },
    "tags": []
   },
   "outputs": [
    {
     "data": {
      "text/plain": [
       "(5000, 164)"
      ]
     },
     "execution_count": 12,
     "metadata": {},
     "output_type": "execute_result"
    }
   ],
   "source": [
    "siab_train.shape"
   ]
  },
  {
   "cell_type": "code",
   "execution_count": 13,
   "id": "feb13bf4",
   "metadata": {
    "execution": {
     "iopub.execute_input": "2025-08-19T18:40:09.546697Z",
     "iopub.status.busy": "2025-08-19T18:40:09.546296Z",
     "iopub.status.idle": "2025-08-19T18:40:09.553779Z",
     "shell.execute_reply": "2025-08-19T18:40:09.553128Z"
    },
    "papermill": {
     "duration": 0.070202,
     "end_time": "2025-08-19T18:40:09.571128",
     "exception": false,
     "start_time": "2025-08-19T18:40:09.500926",
     "status": "completed"
    },
    "tags": []
   },
   "outputs": [
    {
     "data": {
      "text/plain": [
       "year\n",
       "2010    1000\n",
       "2011    1000\n",
       "2012    1000\n",
       "2013    1000\n",
       "2014    1000\n",
       "dtype: int64"
      ]
     },
     "metadata": {},
     "output_type": "display_data"
    }
   ],
   "source": [
    "display(siab_train.groupby(\"year\").size())"
   ]
  },
  {
   "cell_type": "code",
   "execution_count": 14,
   "id": "0997782f",
   "metadata": {
    "execution": {
     "iopub.execute_input": "2025-08-19T18:40:09.623975Z",
     "iopub.status.busy": "2025-08-19T18:40:09.621917Z",
     "iopub.status.idle": "2025-08-19T18:40:10.041839Z",
     "shell.execute_reply": "2025-08-19T18:40:10.040824Z"
    },
    "papermill": {
     "duration": 0.434297,
     "end_time": "2025-08-19T18:40:10.043486",
     "exception": false,
     "start_time": "2025-08-19T18:40:09.609189",
     "status": "completed"
    },
    "tags": []
   },
   "outputs": [],
   "source": [
    "#siab_train = siab_s[siab_s.year < 2015]\n",
    "siab_calib = siab[siab.year == 2015]\n",
    "siab_test = siab[siab.year == 2016]"
   ]
  },
  {
   "cell_type": "code",
   "execution_count": 15,
   "id": "2c1e4012",
   "metadata": {
    "execution": {
     "iopub.execute_input": "2025-08-19T18:40:10.070255Z",
     "iopub.status.busy": "2025-08-19T18:40:10.069926Z",
     "iopub.status.idle": "2025-08-19T18:40:10.074232Z",
     "shell.execute_reply": "2025-08-19T18:40:10.073558Z"
    },
    "papermill": {
     "duration": 0.028638,
     "end_time": "2025-08-19T18:40:10.086212",
     "exception": false,
     "start_time": "2025-08-19T18:40:10.057574",
     "status": "completed"
    },
    "tags": []
   },
   "outputs": [],
   "source": [
    "#siab_calib.shape"
   ]
  },
  {
   "cell_type": "code",
   "execution_count": 16,
   "id": "f66b54ca",
   "metadata": {
    "execution": {
     "iopub.execute_input": "2025-08-19T18:40:10.166603Z",
     "iopub.status.busy": "2025-08-19T18:40:10.166299Z",
     "iopub.status.idle": "2025-08-19T18:40:10.170288Z",
     "shell.execute_reply": "2025-08-19T18:40:10.169545Z"
    },
    "papermill": {
     "duration": 0.065046,
     "end_time": "2025-08-19T18:40:10.173999",
     "exception": false,
     "start_time": "2025-08-19T18:40:10.108953",
     "status": "completed"
    },
    "tags": []
   },
   "outputs": [],
   "source": [
    "#siab_test.shape"
   ]
  },
  {
   "cell_type": "code",
   "execution_count": 17,
   "id": "27e4384d",
   "metadata": {
    "execution": {
     "iopub.execute_input": "2025-08-19T18:40:10.217639Z",
     "iopub.status.busy": "2025-08-19T18:40:10.217325Z",
     "iopub.status.idle": "2025-08-19T18:40:10.233029Z",
     "shell.execute_reply": "2025-08-19T18:40:10.232168Z"
    },
    "papermill": {
     "duration": 0.032694,
     "end_time": "2025-08-19T18:40:10.234640",
     "exception": false,
     "start_time": "2025-08-19T18:40:10.201946",
     "status": "completed"
    },
    "tags": []
   },
   "outputs": [],
   "source": [
    "X_train = siab_train.iloc[:,4:164]\n",
    "y_train = siab_train.iloc[:, [3]]"
   ]
  },
  {
   "cell_type": "code",
   "execution_count": 18,
   "id": "08ee8389",
   "metadata": {
    "execution": {
     "iopub.execute_input": "2025-08-19T18:40:10.287093Z",
     "iopub.status.busy": "2025-08-19T18:40:10.286750Z",
     "iopub.status.idle": "2025-08-19T18:40:10.380078Z",
     "shell.execute_reply": "2025-08-19T18:40:10.379311Z"
    },
    "papermill": {
     "duration": 0.134417,
     "end_time": "2025-08-19T18:40:10.381448",
     "exception": false,
     "start_time": "2025-08-19T18:40:10.247031",
     "status": "completed"
    },
    "tags": []
   },
   "outputs": [],
   "source": [
    "X_calib = siab_calib.iloc[:,4:164]\n",
    "y_calib = siab_calib.iloc[:, [3]]"
   ]
  },
  {
   "cell_type": "code",
   "execution_count": 19,
   "id": "b7ff42e0",
   "metadata": {
    "execution": {
     "iopub.execute_input": "2025-08-19T18:40:10.404340Z",
     "iopub.status.busy": "2025-08-19T18:40:10.403942Z",
     "iopub.status.idle": "2025-08-19T18:40:10.466525Z",
     "shell.execute_reply": "2025-08-19T18:40:10.465802Z"
    },
    "papermill": {
     "duration": 0.075938,
     "end_time": "2025-08-19T18:40:10.468017",
     "exception": false,
     "start_time": "2025-08-19T18:40:10.392079",
     "status": "completed"
    },
    "tags": []
   },
   "outputs": [],
   "source": [
    "X_test = siab_test.iloc[:,4:164]\n",
    "y_true = siab_test.iloc[:, [3]]"
   ]
  },
  {
   "cell_type": "code",
   "execution_count": 20,
   "id": "0275101e",
   "metadata": {
    "execution": {
     "iopub.execute_input": "2025-08-19T18:40:10.492653Z",
     "iopub.status.busy": "2025-08-19T18:40:10.491574Z",
     "iopub.status.idle": "2025-08-19T18:40:10.708980Z",
     "shell.execute_reply": "2025-08-19T18:40:10.707911Z"
    },
    "papermill": {
     "duration": 0.231795,
     "end_time": "2025-08-19T18:40:10.711107",
     "exception": false,
     "start_time": "2025-08-19T18:40:10.479312",
     "status": "completed"
    },
    "tags": []
   },
   "outputs": [],
   "source": [
    "# Auxiliary data needed downstream in the pipeline\n",
    "\n",
    "org_train = X_train.copy()\n",
    "org_test = X_test.copy()\n",
    "org_calib = X_calib.copy()"
   ]
  },
  {
   "cell_type": "markdown",
   "id": "b461e618",
   "metadata": {
    "papermill": {
     "duration": 0.027503,
     "end_time": "2025-08-19T18:40:10.789131",
     "exception": false,
     "start_time": "2025-08-19T18:40:10.761628",
     "status": "completed"
    },
    "tags": []
   },
   "source": [
    "# Preprocessing Data"
   ]
  },
  {
   "cell_type": "code",
   "execution_count": 21,
   "id": "78e74c4b",
   "metadata": {
    "execution": {
     "iopub.execute_input": "2025-08-19T18:40:10.811784Z",
     "iopub.status.busy": "2025-08-19T18:40:10.811481Z",
     "iopub.status.idle": "2025-08-19T18:40:10.816380Z",
     "shell.execute_reply": "2025-08-19T18:40:10.815714Z"
    },
    "papermill": {
     "duration": 0.018083,
     "end_time": "2025-08-19T18:40:10.818111",
     "exception": false,
     "start_time": "2025-08-19T18:40:10.800028",
     "status": "completed"
    },
    "tags": []
   },
   "outputs": [],
   "source": [
    "# EXCLUDE PROTECTED FEATURES\n",
    "# --------------------------\n",
    "\n",
    "excluded_features = universe[\"exclude_features\"].split(\"-\")\n",
    "excluded_features_dictionary = {\n",
    "    \"nationality\": [\"maxdeutsch1\", \"maxdeutsch.Missing.\"],\n",
    "    \"sex\": [\"frau1\"],\n",
    "    \"age\": [\"age\"],\n",
    "}"
   ]
  },
  {
   "cell_type": "code",
   "execution_count": 22,
   "id": "f8e63555",
   "metadata": {
    "execution": {
     "iopub.execute_input": "2025-08-19T18:40:10.866179Z",
     "iopub.status.busy": "2025-08-19T18:40:10.865874Z",
     "iopub.status.idle": "2025-08-19T18:40:10.870463Z",
     "shell.execute_reply": "2025-08-19T18:40:10.869777Z"
    },
    "papermill": {
     "duration": 0.026625,
     "end_time": "2025-08-19T18:40:10.871567",
     "exception": false,
     "start_time": "2025-08-19T18:40:10.844942",
     "status": "completed"
    },
    "tags": []
   },
   "outputs": [],
   "source": [
    "excluded_features_columns = [\n",
    "    excluded_features_dictionary[f] for f in excluded_features if len(f) > 0 and f != \"none\"\n",
    "]"
   ]
  },
  {
   "cell_type": "code",
   "execution_count": 23,
   "id": "da781f7c",
   "metadata": {
    "execution": {
     "iopub.execute_input": "2025-08-19T18:40:10.893017Z",
     "iopub.status.busy": "2025-08-19T18:40:10.892757Z",
     "iopub.status.idle": "2025-08-19T18:40:10.940639Z",
     "shell.execute_reply": "2025-08-19T18:40:10.939814Z"
    },
    "papermill": {
     "duration": 0.061317,
     "end_time": "2025-08-19T18:40:10.943227",
     "exception": false,
     "start_time": "2025-08-19T18:40:10.881910",
     "status": "completed"
    },
    "tags": []
   },
   "outputs": [],
   "source": [
    "from fairness_multiverse.universe import flatten_once\n",
    "\n",
    "excluded_features_columns = flatten_once(excluded_features_columns)"
   ]
  },
  {
   "cell_type": "code",
   "execution_count": 24,
   "id": "37fef0f0",
   "metadata": {
    "execution": {
     "iopub.execute_input": "2025-08-19T18:40:10.979666Z",
     "iopub.status.busy": "2025-08-19T18:40:10.979366Z",
     "iopub.status.idle": "2025-08-19T18:40:10.993121Z",
     "shell.execute_reply": "2025-08-19T18:40:10.992414Z"
    },
    "papermill": {
     "duration": 0.02781,
     "end_time": "2025-08-19T18:40:10.994152",
     "exception": false,
     "start_time": "2025-08-19T18:40:10.966342",
     "status": "completed"
    },
    "tags": []
   },
   "outputs": [
    {
     "name": "stdout",
     "output_type": "stream",
     "text": [
      "Dropping features: ['maxdeutsch1', 'maxdeutsch.Missing.']\n"
     ]
    }
   ],
   "source": [
    "if len(excluded_features_columns) > 0:\n",
    "    print(f\"Dropping features: {excluded_features_columns}\")\n",
    "    X_train.drop(excluded_features_columns, axis=1, inplace=True)"
   ]
  },
  {
   "cell_type": "code",
   "execution_count": 25,
   "id": "d029e3e9",
   "metadata": {
    "execution": {
     "iopub.execute_input": "2025-08-19T18:40:11.028552Z",
     "iopub.status.busy": "2025-08-19T18:40:11.028225Z",
     "iopub.status.idle": "2025-08-19T18:40:11.118926Z",
     "shell.execute_reply": "2025-08-19T18:40:11.118130Z"
    },
    "papermill": {
     "duration": 0.103577,
     "end_time": "2025-08-19T18:40:11.120452",
     "exception": false,
     "start_time": "2025-08-19T18:40:11.016875",
     "status": "completed"
    },
    "tags": []
   },
   "outputs": [
    {
     "name": "stdout",
     "output_type": "stream",
     "text": [
      "Dropping features: ['maxdeutsch1', 'maxdeutsch.Missing.']\n"
     ]
    }
   ],
   "source": [
    "if len(excluded_features_columns) > 0:\n",
    "    print(f\"Dropping features: {excluded_features_columns}\")\n",
    "    X_test.drop(excluded_features_columns, axis=1, inplace=True)"
   ]
  },
  {
   "cell_type": "code",
   "execution_count": 26,
   "id": "01d571f0",
   "metadata": {
    "execution": {
     "iopub.execute_input": "2025-08-19T18:40:11.149585Z",
     "iopub.status.busy": "2025-08-19T18:40:11.149226Z",
     "iopub.status.idle": "2025-08-19T18:40:11.239175Z",
     "shell.execute_reply": "2025-08-19T18:40:11.238185Z"
    },
    "papermill": {
     "duration": 0.109161,
     "end_time": "2025-08-19T18:40:11.240553",
     "exception": false,
     "start_time": "2025-08-19T18:40:11.131392",
     "status": "completed"
    },
    "tags": []
   },
   "outputs": [
    {
     "name": "stdout",
     "output_type": "stream",
     "text": [
      "Dropping features: ['maxdeutsch1', 'maxdeutsch.Missing.']\n"
     ]
    }
   ],
   "source": [
    "if len(excluded_features_columns) > 0:\n",
    "    print(f\"Dropping features: {excluded_features_columns}\")\n",
    "    X_calib.drop(excluded_features_columns, axis=1, inplace=True)"
   ]
  },
  {
   "cell_type": "code",
   "execution_count": 27,
   "id": "3037356e",
   "metadata": {
    "execution": {
     "iopub.execute_input": "2025-08-19T18:40:11.263520Z",
     "iopub.status.busy": "2025-08-19T18:40:11.263165Z",
     "iopub.status.idle": "2025-08-19T18:40:11.267285Z",
     "shell.execute_reply": "2025-08-19T18:40:11.266687Z"
    },
    "papermill": {
     "duration": 0.016904,
     "end_time": "2025-08-19T18:40:11.268352",
     "exception": false,
     "start_time": "2025-08-19T18:40:11.251448",
     "status": "completed"
    },
    "tags": []
   },
   "outputs": [],
   "source": [
    "# EXCLUDE CERTAIN SUBGROUPS\n",
    "# -------------------------\n",
    "\n",
    "mode = universe.get(\"exclude_subgroups\", \"keep-all\") # Defaults to \"keep-all\" if the key is missing."
   ]
  },
  {
   "cell_type": "code",
   "execution_count": 28,
   "id": "9d1e63fd",
   "metadata": {
    "execution": {
     "iopub.execute_input": "2025-08-19T18:40:11.300741Z",
     "iopub.status.busy": "2025-08-19T18:40:11.300395Z",
     "iopub.status.idle": "2025-08-19T18:40:11.305394Z",
     "shell.execute_reply": "2025-08-19T18:40:11.304810Z"
    },
    "papermill": {
     "duration": 0.02077,
     "end_time": "2025-08-19T18:40:11.309264",
     "exception": false,
     "start_time": "2025-08-19T18:40:11.288494",
     "status": "completed"
    },
    "tags": []
   },
   "outputs": [],
   "source": [
    "if mode == \"keep-all\":\n",
    "    keep_mask = pd.Series(True, index=org_train.index)\n",
    "\n",
    "elif mode == \"drop-non-german\":\n",
    "    keep_mask = (org_train[\"maxdeutsch1\"] == 1) & (org_train[\"maxdeutsch.Missing.\"] == 0)\n",
    "\n",
    "else:\n",
    "    raise ValueError(f\"Unsupported mode for exclude_subgroups: {mode}\")"
   ]
  },
  {
   "cell_type": "code",
   "execution_count": 29,
   "id": "d3b65474",
   "metadata": {
    "execution": {
     "iopub.execute_input": "2025-08-19T18:40:11.332308Z",
     "iopub.status.busy": "2025-08-19T18:40:11.331911Z",
     "iopub.status.idle": "2025-08-19T18:40:11.336963Z",
     "shell.execute_reply": "2025-08-19T18:40:11.336335Z"
    },
    "papermill": {
     "duration": 0.018392,
     "end_time": "2025-08-19T18:40:11.338490",
     "exception": false,
     "start_time": "2025-08-19T18:40:11.320098",
     "status": "completed"
    },
    "tags": []
   },
   "outputs": [],
   "source": [
    "n_drop = (~keep_mask).sum() # Calculates how many rows are set to be dropped\n",
    "if n_drop > 0:\n",
    "    pct = n_drop / len(keep_mask) * 100\n",
    "    print(f\"Dropping {n_drop} rows ({pct:.2f}%) where mode='{mode}'\")"
   ]
  },
  {
   "cell_type": "code",
   "execution_count": 30,
   "id": "f44389b3",
   "metadata": {
    "execution": {
     "iopub.execute_input": "2025-08-19T18:40:11.361556Z",
     "iopub.status.busy": "2025-08-19T18:40:11.361161Z",
     "iopub.status.idle": "2025-08-19T18:40:11.367872Z",
     "shell.execute_reply": "2025-08-19T18:40:11.367246Z"
    },
    "papermill": {
     "duration": 0.020022,
     "end_time": "2025-08-19T18:40:11.369424",
     "exception": false,
     "start_time": "2025-08-19T18:40:11.349402",
     "status": "completed"
    },
    "tags": []
   },
   "outputs": [],
   "source": [
    "X_train = X_train[keep_mask]"
   ]
  },
  {
   "cell_type": "code",
   "execution_count": 31,
   "id": "ceca8c2a",
   "metadata": {
    "execution": {
     "iopub.execute_input": "2025-08-19T18:40:11.392190Z",
     "iopub.status.busy": "2025-08-19T18:40:11.391886Z",
     "iopub.status.idle": "2025-08-19T18:40:11.396465Z",
     "shell.execute_reply": "2025-08-19T18:40:11.395876Z"
    },
    "papermill": {
     "duration": 0.017641,
     "end_time": "2025-08-19T18:40:11.397982",
     "exception": false,
     "start_time": "2025-08-19T18:40:11.380341",
     "status": "completed"
    },
    "tags": []
   },
   "outputs": [],
   "source": [
    "y_train = y_train[keep_mask]"
   ]
  },
  {
   "cell_type": "markdown",
   "id": "04d31e2f",
   "metadata": {
    "papermill": {
     "duration": 0.011443,
     "end_time": "2025-08-19T18:40:11.420148",
     "exception": false,
     "start_time": "2025-08-19T18:40:11.408705",
     "status": "completed"
    },
    "tags": []
   },
   "source": [
    "# Model Training"
   ]
  },
  {
   "cell_type": "code",
   "execution_count": 32,
   "id": "db991733",
   "metadata": {
    "execution": {
     "iopub.execute_input": "2025-08-19T18:40:11.473318Z",
     "iopub.status.busy": "2025-08-19T18:40:11.472931Z",
     "iopub.status.idle": "2025-08-19T18:40:11.634266Z",
     "shell.execute_reply": "2025-08-19T18:40:11.633598Z"
    },
    "papermill": {
     "duration": 0.205318,
     "end_time": "2025-08-19T18:40:11.635878",
     "exception": false,
     "start_time": "2025-08-19T18:40:11.430560",
     "status": "completed"
    },
    "tags": []
   },
   "outputs": [],
   "source": [
    "from sklearn.linear_model import LogisticRegression\n",
    "from sklearn.ensemble import GradientBoostingClassifier, RandomForestClassifier\n",
    "\n",
    "if (universe[\"model\"] == \"logreg\"):\n",
    "    model = LogisticRegression() #penalty=\"none\", solver=\"newton-cg\", max_iter=1)\n",
    "elif (universe[\"model\"] == \"penalized_logreg\"):\n",
    "    model = LogisticRegression(penalty=\"l2\", C=0.1) #, solver=\"newton-cg\", max_iter=1)\n",
    "elif (universe[\"model\"] == \"rf\"):\n",
    "    model = RandomForestClassifier() # n_estimators=100, n_jobs=-1\n",
    "elif (universe[\"model\"] == \"gbm\"):\n",
    "    model = GradientBoostingClassifier()\n",
    "elif (universe[\"model\"] == \"elasticnet\"):\n",
    "    model = LogisticRegression(penalty = 'elasticnet', solver = 'saga', l1_ratio = 0.5) # max_iter=5000\n",
    "else:\n",
    "    raise \"Unsupported universe.model\""
   ]
  },
  {
   "cell_type": "code",
   "execution_count": 33,
   "id": "a4b5cd25",
   "metadata": {
    "execution": {
     "iopub.execute_input": "2025-08-19T18:40:11.694934Z",
     "iopub.status.busy": "2025-08-19T18:40:11.689124Z",
     "iopub.status.idle": "2025-08-19T18:40:11.699691Z",
     "shell.execute_reply": "2025-08-19T18:40:11.699128Z"
    },
    "papermill": {
     "duration": 0.054232,
     "end_time": "2025-08-19T18:40:11.700963",
     "exception": false,
     "start_time": "2025-08-19T18:40:11.646731",
     "status": "completed"
    },
    "tags": []
   },
   "outputs": [],
   "source": [
    "from sklearn.pipeline import Pipeline\n",
    "from sklearn.preprocessing import StandardScaler\n",
    "\n",
    "model = Pipeline([\n",
    "    #(\"continuous_processor\", continuous_processor),\n",
    "    #(\"categorical_preprocessor\", categorical_preprocessor),\n",
    "    (\"scale\", StandardScaler() if universe[\"scale\"] == \"scale\" else None), \n",
    "    (\"model\", model),\n",
    "])"
   ]
  },
  {
   "cell_type": "code",
   "execution_count": 34,
   "id": "283a904d",
   "metadata": {
    "execution": {
     "iopub.execute_input": "2025-08-19T18:40:11.736844Z",
     "iopub.status.busy": "2025-08-19T18:40:11.736202Z",
     "iopub.status.idle": "2025-08-19T18:40:11.978414Z",
     "shell.execute_reply": "2025-08-19T18:40:11.977624Z"
    },
    "papermill": {
     "duration": 0.257112,
     "end_time": "2025-08-19T18:40:11.979898",
     "exception": false,
     "start_time": "2025-08-19T18:40:11.722786",
     "status": "completed"
    },
    "tags": []
   },
   "outputs": [
    {
     "name": "stderr",
     "output_type": "stream",
     "text": [
      "/dss/dsshome1/0C/ra93lal2/.local/share/virtualenvs/CMA_Fairness_v2-3j10GkSs/lib/python3.10/site-packages/sklearn/linear_model/_logistic.py:444: ConvergenceWarning: lbfgs failed to converge (status=1):\n",
      "STOP: TOTAL NO. of ITERATIONS REACHED LIMIT.\n",
      "\n",
      "Increase the number of iterations (max_iter) or scale the data as shown in:\n",
      "    https://scikit-learn.org/stable/modules/preprocessing.html\n",
      "Please also refer to the documentation for alternative solver options:\n",
      "    https://scikit-learn.org/stable/modules/linear_model.html#logistic-regression\n",
      "  n_iter_i = _check_optimize_result(\n"
     ]
    },
    {
     "data": {
      "text/html": [
       "<style>#sk-container-id-1 {color: black;background-color: white;}#sk-container-id-1 pre{padding: 0;}#sk-container-id-1 div.sk-toggleable {background-color: white;}#sk-container-id-1 label.sk-toggleable__label {cursor: pointer;display: block;width: 100%;margin-bottom: 0;padding: 0.3em;box-sizing: border-box;text-align: center;}#sk-container-id-1 label.sk-toggleable__label-arrow:before {content: \"▸\";float: left;margin-right: 0.25em;color: #696969;}#sk-container-id-1 label.sk-toggleable__label-arrow:hover:before {color: black;}#sk-container-id-1 div.sk-estimator:hover label.sk-toggleable__label-arrow:before {color: black;}#sk-container-id-1 div.sk-toggleable__content {max-height: 0;max-width: 0;overflow: hidden;text-align: left;background-color: #f0f8ff;}#sk-container-id-1 div.sk-toggleable__content pre {margin: 0.2em;color: black;border-radius: 0.25em;background-color: #f0f8ff;}#sk-container-id-1 input.sk-toggleable__control:checked~div.sk-toggleable__content {max-height: 200px;max-width: 100%;overflow: auto;}#sk-container-id-1 input.sk-toggleable__control:checked~label.sk-toggleable__label-arrow:before {content: \"▾\";}#sk-container-id-1 div.sk-estimator input.sk-toggleable__control:checked~label.sk-toggleable__label {background-color: #d4ebff;}#sk-container-id-1 div.sk-label input.sk-toggleable__control:checked~label.sk-toggleable__label {background-color: #d4ebff;}#sk-container-id-1 input.sk-hidden--visually {border: 0;clip: rect(1px 1px 1px 1px);clip: rect(1px, 1px, 1px, 1px);height: 1px;margin: -1px;overflow: hidden;padding: 0;position: absolute;width: 1px;}#sk-container-id-1 div.sk-estimator {font-family: monospace;background-color: #f0f8ff;border: 1px dotted black;border-radius: 0.25em;box-sizing: border-box;margin-bottom: 0.5em;}#sk-container-id-1 div.sk-estimator:hover {background-color: #d4ebff;}#sk-container-id-1 div.sk-parallel-item::after {content: \"\";width: 100%;border-bottom: 1px solid gray;flex-grow: 1;}#sk-container-id-1 div.sk-label:hover label.sk-toggleable__label {background-color: #d4ebff;}#sk-container-id-1 div.sk-serial::before {content: \"\";position: absolute;border-left: 1px solid gray;box-sizing: border-box;top: 0;bottom: 0;left: 50%;z-index: 0;}#sk-container-id-1 div.sk-serial {display: flex;flex-direction: column;align-items: center;background-color: white;padding-right: 0.2em;padding-left: 0.2em;position: relative;}#sk-container-id-1 div.sk-item {position: relative;z-index: 1;}#sk-container-id-1 div.sk-parallel {display: flex;align-items: stretch;justify-content: center;background-color: white;position: relative;}#sk-container-id-1 div.sk-item::before, #sk-container-id-1 div.sk-parallel-item::before {content: \"\";position: absolute;border-left: 1px solid gray;box-sizing: border-box;top: 0;bottom: 0;left: 50%;z-index: -1;}#sk-container-id-1 div.sk-parallel-item {display: flex;flex-direction: column;z-index: 1;position: relative;background-color: white;}#sk-container-id-1 div.sk-parallel-item:first-child::after {align-self: flex-end;width: 50%;}#sk-container-id-1 div.sk-parallel-item:last-child::after {align-self: flex-start;width: 50%;}#sk-container-id-1 div.sk-parallel-item:only-child::after {width: 0;}#sk-container-id-1 div.sk-dashed-wrapped {border: 1px dashed gray;margin: 0 0.4em 0.5em 0.4em;box-sizing: border-box;padding-bottom: 0.4em;background-color: white;}#sk-container-id-1 div.sk-label label {font-family: monospace;font-weight: bold;display: inline-block;line-height: 1.2em;}#sk-container-id-1 div.sk-label-container {text-align: center;}#sk-container-id-1 div.sk-container {/* jupyter's `normalize.less` sets `[hidden] { display: none; }` but bootstrap.min.css set `[hidden] { display: none !important; }` so we also need the `!important` here to be able to override the default hidden behavior on the sphinx rendered scikit-learn.org. See: https://github.com/scikit-learn/scikit-learn/issues/21755 */display: inline-block !important;position: relative;}#sk-container-id-1 div.sk-text-repr-fallback {display: none;}</style><div id=\"sk-container-id-1\" class=\"sk-top-container\"><div class=\"sk-text-repr-fallback\"><pre>Pipeline(steps=[(&#x27;scale&#x27;, StandardScaler()), (&#x27;model&#x27;, LogisticRegression())])</pre><b>In a Jupyter environment, please rerun this cell to show the HTML representation or trust the notebook. <br />On GitHub, the HTML representation is unable to render, please try loading this page with nbviewer.org.</b></div><div class=\"sk-container\" hidden><div class=\"sk-item sk-dashed-wrapped\"><div class=\"sk-label-container\"><div class=\"sk-label sk-toggleable\"><input class=\"sk-toggleable__control sk-hidden--visually\" id=\"sk-estimator-id-1\" type=\"checkbox\" ><label for=\"sk-estimator-id-1\" class=\"sk-toggleable__label sk-toggleable__label-arrow\">Pipeline</label><div class=\"sk-toggleable__content\"><pre>Pipeline(steps=[(&#x27;scale&#x27;, StandardScaler()), (&#x27;model&#x27;, LogisticRegression())])</pre></div></div></div><div class=\"sk-serial\"><div class=\"sk-item\"><div class=\"sk-estimator sk-toggleable\"><input class=\"sk-toggleable__control sk-hidden--visually\" id=\"sk-estimator-id-2\" type=\"checkbox\" ><label for=\"sk-estimator-id-2\" class=\"sk-toggleable__label sk-toggleable__label-arrow\">StandardScaler</label><div class=\"sk-toggleable__content\"><pre>StandardScaler()</pre></div></div></div><div class=\"sk-item\"><div class=\"sk-estimator sk-toggleable\"><input class=\"sk-toggleable__control sk-hidden--visually\" id=\"sk-estimator-id-3\" type=\"checkbox\" ><label for=\"sk-estimator-id-3\" class=\"sk-toggleable__label sk-toggleable__label-arrow\">LogisticRegression</label><div class=\"sk-toggleable__content\"><pre>LogisticRegression()</pre></div></div></div></div></div></div></div>"
      ],
      "text/plain": [
       "Pipeline(steps=[('scale', StandardScaler()), ('model', LogisticRegression())])"
      ]
     },
     "execution_count": 34,
     "metadata": {},
     "output_type": "execute_result"
    }
   ],
   "source": [
    "model.fit(X_train, y_train.values.ravel())"
   ]
  },
  {
   "cell_type": "code",
   "execution_count": 35,
   "id": "6e15e313",
   "metadata": {
    "execution": {
     "iopub.execute_input": "2025-08-19T18:40:12.004153Z",
     "iopub.status.busy": "2025-08-19T18:40:12.003843Z",
     "iopub.status.idle": "2025-08-19T18:40:12.274491Z",
     "shell.execute_reply": "2025-08-19T18:40:12.273503Z"
    },
    "papermill": {
     "duration": 0.284782,
     "end_time": "2025-08-19T18:40:12.276167",
     "exception": false,
     "start_time": "2025-08-19T18:40:11.991385",
     "status": "completed"
    },
    "tags": []
   },
   "outputs": [
    {
     "data": {
      "text/plain": [
       "0.8526585664920299"
      ]
     },
     "execution_count": 35,
     "metadata": {},
     "output_type": "execute_result"
    }
   ],
   "source": [
    "from fairness_multiverse.universe import predict_w_threshold\n",
    "\n",
    "probs_test = model.predict_proba(X_test)\n",
    "\n",
    "'''\n",
    "Below code returns a boolean array (or binary 0/1 array depending on how it’s used) where each element \n",
    "is True if the probability of class 1 is greater than or equal to the threshold, and False otherwise.\n",
    "'''\n",
    "y_pred_default = predict_w_threshold(probs_test, 0.5)\n",
    "\n",
    "from sklearn.metrics import accuracy_score\n",
    "\n",
    "# Naive prediction\n",
    "accuracy_score(y_true = y_true, y_pred = y_pred_default)"
   ]
  },
  {
   "cell_type": "code",
   "execution_count": 36,
   "id": "6f14067c",
   "metadata": {
    "execution": {
     "iopub.execute_input": "2025-08-19T18:40:12.333769Z",
     "iopub.status.busy": "2025-08-19T18:40:12.333430Z",
     "iopub.status.idle": "2025-08-19T18:40:12.519825Z",
     "shell.execute_reply": "2025-08-19T18:40:12.519080Z"
    },
    "papermill": {
     "duration": 0.200449,
     "end_time": "2025-08-19T18:40:12.521038",
     "exception": false,
     "start_time": "2025-08-19T18:40:12.320589",
     "status": "completed"
    },
    "tags": []
   },
   "outputs": [
    {
     "data": {
      "text/plain": [
       "array([0, 0, 0, ..., 0, 0, 0])"
      ]
     },
     "execution_count": 36,
     "metadata": {},
     "output_type": "execute_result"
    }
   ],
   "source": [
    "model.predict(X_test)"
   ]
  },
  {
   "cell_type": "markdown",
   "id": "3759920c",
   "metadata": {
    "papermill": {
     "duration": 0.024533,
     "end_time": "2025-08-19T18:40:12.557382",
     "exception": false,
     "start_time": "2025-08-19T18:40:12.532849",
     "status": "completed"
    },
    "tags": []
   },
   "source": [
    "# Conformal Prediction"
   ]
  },
  {
   "cell_type": "code",
   "execution_count": 37,
   "id": "14b27f59",
   "metadata": {
    "execution": {
     "iopub.execute_input": "2025-08-19T18:40:12.624288Z",
     "iopub.status.busy": "2025-08-19T18:40:12.623977Z",
     "iopub.status.idle": "2025-08-19T18:40:12.631640Z",
     "shell.execute_reply": "2025-08-19T18:40:12.629043Z"
    },
    "papermill": {
     "duration": 0.03592,
     "end_time": "2025-08-19T18:40:12.632870",
     "exception": false,
     "start_time": "2025-08-19T18:40:12.596950",
     "status": "completed"
    },
    "tags": []
   },
   "outputs": [],
   "source": [
    "# Miscoverage level for conformal prediction (10% allowed error rate => 90% target coverage)\n",
    "alpha = 0.1"
   ]
  },
  {
   "cell_type": "code",
   "execution_count": 38,
   "id": "59102472",
   "metadata": {
    "execution": {
     "iopub.execute_input": "2025-08-19T18:40:12.671086Z",
     "iopub.status.busy": "2025-08-19T18:40:12.670767Z",
     "iopub.status.idle": "2025-08-19T18:40:12.957387Z",
     "shell.execute_reply": "2025-08-19T18:40:12.956531Z"
    },
    "papermill": {
     "duration": 0.314152,
     "end_time": "2025-08-19T18:40:12.958882",
     "exception": false,
     "start_time": "2025-08-19T18:40:12.644730",
     "status": "completed"
    },
    "tags": []
   },
   "outputs": [],
   "source": [
    "probs_calib = model.predict_proba(X_calib)"
   ]
  },
  {
   "cell_type": "code",
   "execution_count": 39,
   "id": "a792d4dd",
   "metadata": {
    "execution": {
     "iopub.execute_input": "2025-08-19T18:40:12.984043Z",
     "iopub.status.busy": "2025-08-19T18:40:12.983729Z",
     "iopub.status.idle": "2025-08-19T18:40:12.989187Z",
     "shell.execute_reply": "2025-08-19T18:40:12.988366Z"
    },
    "papermill": {
     "duration": 0.019417,
     "end_time": "2025-08-19T18:40:12.990425",
     "exception": false,
     "start_time": "2025-08-19T18:40:12.971008",
     "status": "completed"
    },
    "tags": []
   },
   "outputs": [],
   "source": [
    "y_calib = y_calib.values.ravel().astype(int)"
   ]
  },
  {
   "cell_type": "code",
   "execution_count": 40,
   "id": "650fd033",
   "metadata": {
    "execution": {
     "iopub.execute_input": "2025-08-19T18:40:13.019404Z",
     "iopub.status.busy": "2025-08-19T18:40:13.019092Z",
     "iopub.status.idle": "2025-08-19T18:40:13.025988Z",
     "shell.execute_reply": "2025-08-19T18:40:13.025221Z"
    },
    "papermill": {
     "duration": 0.02502,
     "end_time": "2025-08-19T18:40:13.027596",
     "exception": false,
     "start_time": "2025-08-19T18:40:13.002576",
     "status": "completed"
    },
    "tags": []
   },
   "outputs": [],
   "source": [
    "from fairness_multiverse.conformal import compute_nc_scores\n",
    "\n",
    "# Compute nonconformity scores on calibration set (1 - probability of true class)\n",
    "nc_scores = compute_nc_scores(probs_calib, y_calib)"
   ]
  },
  {
   "cell_type": "code",
   "execution_count": 41,
   "id": "28ada44c",
   "metadata": {
    "execution": {
     "iopub.execute_input": "2025-08-19T18:40:13.054071Z",
     "iopub.status.busy": "2025-08-19T18:40:13.053760Z",
     "iopub.status.idle": "2025-08-19T18:40:13.059836Z",
     "shell.execute_reply": "2025-08-19T18:40:13.059003Z"
    },
    "papermill": {
     "duration": 0.021511,
     "end_time": "2025-08-19T18:40:13.061754",
     "exception": false,
     "start_time": "2025-08-19T18:40:13.040243",
     "status": "completed"
    },
    "tags": []
   },
   "outputs": [],
   "source": [
    "from fairness_multiverse.conformal import find_threshold\n",
    "\n",
    "# Find conformal threshold q_hat for the given alpha (split conformal method)\n",
    "q_hat = find_threshold(nc_scores, alpha)"
   ]
  },
  {
   "cell_type": "code",
   "execution_count": 42,
   "id": "df56469e",
   "metadata": {
    "execution": {
     "iopub.execute_input": "2025-08-19T18:40:13.126432Z",
     "iopub.status.busy": "2025-08-19T18:40:13.126121Z",
     "iopub.status.idle": "2025-08-19T18:40:13.133452Z",
     "shell.execute_reply": "2025-08-19T18:40:13.132613Z"
    },
    "papermill": {
     "duration": 0.03539,
     "end_time": "2025-08-19T18:40:13.134802",
     "exception": false,
     "start_time": "2025-08-19T18:40:13.099412",
     "status": "completed"
    },
    "tags": []
   },
   "outputs": [
    {
     "data": {
      "text/plain": [
       "0.680978685979396"
      ]
     },
     "execution_count": 42,
     "metadata": {},
     "output_type": "execute_result"
    }
   ],
   "source": [
    "q_hat"
   ]
  },
  {
   "cell_type": "code",
   "execution_count": 43,
   "id": "aa1f5faa",
   "metadata": {
    "execution": {
     "iopub.execute_input": "2025-08-19T18:40:13.186499Z",
     "iopub.status.busy": "2025-08-19T18:40:13.186193Z",
     "iopub.status.idle": "2025-08-19T18:40:13.993089Z",
     "shell.execute_reply": "2025-08-19T18:40:13.992266Z"
    },
    "papermill": {
     "duration": 0.834295,
     "end_time": "2025-08-19T18:40:13.994460",
     "exception": false,
     "start_time": "2025-08-19T18:40:13.160165",
     "status": "completed"
    },
    "tags": []
   },
   "outputs": [],
   "source": [
    "from fairness_multiverse.conformal import predict_conformal_sets\n",
    "\n",
    "# Generate prediction sets for each test example\n",
    "pred_sets = predict_conformal_sets(model, X_test, q_hat)"
   ]
  },
  {
   "cell_type": "code",
   "execution_count": 44,
   "id": "97f67a6b",
   "metadata": {
    "execution": {
     "iopub.execute_input": "2025-08-19T18:40:14.019698Z",
     "iopub.status.busy": "2025-08-19T18:40:14.018967Z",
     "iopub.status.idle": "2025-08-19T18:40:14.025471Z",
     "shell.execute_reply": "2025-08-19T18:40:14.024519Z"
    },
    "papermill": {
     "duration": 0.021124,
     "end_time": "2025-08-19T18:40:14.027238",
     "exception": false,
     "start_time": "2025-08-19T18:40:14.006114",
     "status": "completed"
    },
    "tags": []
   },
   "outputs": [],
   "source": [
    "y_true = y_true.squeeze()"
   ]
  },
  {
   "cell_type": "code",
   "execution_count": 45,
   "id": "e700e9a7",
   "metadata": {
    "execution": {
     "iopub.execute_input": "2025-08-19T18:40:14.078356Z",
     "iopub.status.busy": "2025-08-19T18:40:14.077943Z",
     "iopub.status.idle": "2025-08-19T18:40:14.777373Z",
     "shell.execute_reply": "2025-08-19T18:40:14.776093Z"
    },
    "papermill": {
     "duration": 0.737047,
     "end_time": "2025-08-19T18:40:14.779144",
     "exception": false,
     "start_time": "2025-08-19T18:40:14.042097",
     "status": "completed"
    },
    "tags": []
   },
   "outputs": [],
   "source": [
    "from fairness_multiverse.conformal import evaluate_sets\n",
    "\n",
    "# Evaluate coverage and average set size on test data\n",
    "metrics = evaluate_sets(pred_sets, y_true)"
   ]
  },
  {
   "cell_type": "markdown",
   "id": "efbacec0",
   "metadata": {
    "papermill": {
     "duration": 0.017725,
     "end_time": "2025-08-19T18:40:14.810851",
     "exception": false,
     "start_time": "2025-08-19T18:40:14.793126",
     "status": "completed"
    },
    "tags": []
   },
   "source": [
    "# CP Metrics"
   ]
  },
  {
   "cell_type": "code",
   "execution_count": 46,
   "id": "9de55fb1",
   "metadata": {
    "execution": {
     "iopub.execute_input": "2025-08-19T18:40:14.836020Z",
     "iopub.status.busy": "2025-08-19T18:40:14.835547Z",
     "iopub.status.idle": "2025-08-19T18:40:14.842237Z",
     "shell.execute_reply": "2025-08-19T18:40:14.841585Z"
    },
    "papermill": {
     "duration": 0.020905,
     "end_time": "2025-08-19T18:40:14.843900",
     "exception": false,
     "start_time": "2025-08-19T18:40:14.822995",
     "status": "completed"
    },
    "tags": []
   },
   "outputs": [
    {
     "data": {
      "text/plain": [
       "{'coverage': 0.9109017946717199, 'avg_size': 1.146817523130086}"
      ]
     },
     "execution_count": 46,
     "metadata": {},
     "output_type": "execute_result"
    }
   ],
   "source": [
    "metrics"
   ]
  },
  {
   "cell_type": "code",
   "execution_count": 47,
   "id": "64c340a1",
   "metadata": {
    "execution": {
     "iopub.execute_input": "2025-08-19T18:40:14.867934Z",
     "iopub.status.busy": "2025-08-19T18:40:14.867625Z",
     "iopub.status.idle": "2025-08-19T18:40:14.872236Z",
     "shell.execute_reply": "2025-08-19T18:40:14.871569Z"
    },
    "papermill": {
     "duration": 0.017874,
     "end_time": "2025-08-19T18:40:14.873518",
     "exception": false,
     "start_time": "2025-08-19T18:40:14.855644",
     "status": "completed"
    },
    "tags": []
   },
   "outputs": [],
   "source": [
    "example_universe = universe.copy()\n",
    "universe_training_year = example_universe.get(\"training_year\")\n",
    "universe_training_size = example_universe.get(\"training_size\")\n",
    "universe_scale = example_universe.get(\"scale\")\n",
    "universe_model = example_universe.get(\"model\")\n",
    "universe_exclude_features = example_universe.get(\"exclude_features\")\n",
    "universe_exclude_subgroups = example_universe.get(\"exclude_subgroups\")"
   ]
  },
  {
   "cell_type": "code",
   "execution_count": 48,
   "id": "dbb53cb4",
   "metadata": {
    "execution": {
     "iopub.execute_input": "2025-08-19T18:40:14.900975Z",
     "iopub.status.busy": "2025-08-19T18:40:14.900742Z",
     "iopub.status.idle": "2025-08-19T18:40:15.066500Z",
     "shell.execute_reply": "2025-08-19T18:40:15.065698Z"
    },
    "papermill": {
     "duration": 0.181108,
     "end_time": "2025-08-19T18:40:15.068372",
     "exception": false,
     "start_time": "2025-08-19T18:40:14.887264",
     "status": "completed"
    },
    "tags": []
   },
   "outputs": [],
   "source": [
    "cp_metrics_dict = {\n",
    "    \"universe_id\": [universe_id],\n",
    "    \"universe_training_year\": [universe_training_year],\n",
    "    \"universe_training_size\": [universe_training_size],\n",
    "    \"universe_scale\": [universe_scale],\n",
    "    \"universe_model\": [universe_model],\n",
    "    \"universe_exclude_features\": [universe_exclude_features],\n",
    "    \"universe_exclude_subgroups\": [universe_exclude_subgroups],\n",
    "    \"q_hat\": [q_hat],\n",
    "    \"coverage\": [metrics[\"coverage\"]],\n",
    "    \"avg_size\": [metrics[\"avg_size\"]],\n",
    "}"
   ]
  },
  {
   "cell_type": "code",
   "execution_count": 49,
   "id": "0d70d4b2",
   "metadata": {
    "execution": {
     "iopub.execute_input": "2025-08-19T18:40:15.095514Z",
     "iopub.status.busy": "2025-08-19T18:40:15.095112Z",
     "iopub.status.idle": "2025-08-19T18:40:15.101162Z",
     "shell.execute_reply": "2025-08-19T18:40:15.100369Z"
    },
    "papermill": {
     "duration": 0.021713,
     "end_time": "2025-08-19T18:40:15.102507",
     "exception": false,
     "start_time": "2025-08-19T18:40:15.080794",
     "status": "completed"
    },
    "tags": []
   },
   "outputs": [],
   "source": [
    "cp_metrics_df = pd.DataFrame(cp_metrics_dict)"
   ]
  },
  {
   "cell_type": "code",
   "execution_count": 50,
   "id": "b494403c",
   "metadata": {
    "execution": {
     "iopub.execute_input": "2025-08-19T18:40:15.128254Z",
     "iopub.status.busy": "2025-08-19T18:40:15.127848Z",
     "iopub.status.idle": "2025-08-19T18:40:15.143501Z",
     "shell.execute_reply": "2025-08-19T18:40:15.142625Z"
    },
    "papermill": {
     "duration": 0.030078,
     "end_time": "2025-08-19T18:40:15.144911",
     "exception": false,
     "start_time": "2025-08-19T18:40:15.114833",
     "status": "completed"
    },
    "tags": []
   },
   "outputs": [
    {
     "data": {
      "text/html": [
       "<div>\n",
       "<style scoped>\n",
       "    .dataframe tbody tr th:only-of-type {\n",
       "        vertical-align: middle;\n",
       "    }\n",
       "\n",
       "    .dataframe tbody tr th {\n",
       "        vertical-align: top;\n",
       "    }\n",
       "\n",
       "    .dataframe thead th {\n",
       "        text-align: right;\n",
       "    }\n",
       "</style>\n",
       "<table border=\"1\" class=\"dataframe\">\n",
       "  <thead>\n",
       "    <tr style=\"text-align: right;\">\n",
       "      <th></th>\n",
       "      <th>universe_id</th>\n",
       "      <th>universe_training_year</th>\n",
       "      <th>universe_training_size</th>\n",
       "      <th>universe_scale</th>\n",
       "      <th>universe_model</th>\n",
       "      <th>universe_exclude_features</th>\n",
       "      <th>universe_exclude_subgroups</th>\n",
       "      <th>q_hat</th>\n",
       "      <th>coverage</th>\n",
       "      <th>avg_size</th>\n",
       "    </tr>\n",
       "  </thead>\n",
       "  <tbody>\n",
       "    <tr>\n",
       "      <th>0</th>\n",
       "      <td>29991b0e7c7d7bef6db8950de5502600</td>\n",
       "      <td>2010_14</td>\n",
       "      <td>5k</td>\n",
       "      <td>scale</td>\n",
       "      <td>logreg</td>\n",
       "      <td>nationality</td>\n",
       "      <td>keep-all</td>\n",
       "      <td>0.680979</td>\n",
       "      <td>0.910902</td>\n",
       "      <td>1.146818</td>\n",
       "    </tr>\n",
       "  </tbody>\n",
       "</table>\n",
       "</div>"
      ],
      "text/plain": [
       "                        universe_id universe_training_year  \\\n",
       "0  29991b0e7c7d7bef6db8950de5502600                2010_14   \n",
       "\n",
       "  universe_training_size universe_scale universe_model  \\\n",
       "0                     5k          scale         logreg   \n",
       "\n",
       "  universe_exclude_features universe_exclude_subgroups     q_hat  coverage  \\\n",
       "0               nationality                   keep-all  0.680979  0.910902   \n",
       "\n",
       "   avg_size  \n",
       "0  1.146818  "
      ]
     },
     "execution_count": 50,
     "metadata": {},
     "output_type": "execute_result"
    }
   ],
   "source": [
    "cp_metrics_df"
   ]
  },
  {
   "cell_type": "markdown",
   "id": "ed608b0b",
   "metadata": {
    "papermill": {
     "duration": 0.011653,
     "end_time": "2025-08-19T18:40:15.171056",
     "exception": false,
     "start_time": "2025-08-19T18:40:15.159403",
     "status": "completed"
    },
    "tags": []
   },
   "source": [
    "Conditional coverage & looking at subgroups"
   ]
  },
  {
   "cell_type": "code",
   "execution_count": 51,
   "id": "8968c366",
   "metadata": {
    "execution": {
     "iopub.execute_input": "2025-08-19T18:40:15.195726Z",
     "iopub.status.busy": "2025-08-19T18:40:15.195303Z",
     "iopub.status.idle": "2025-08-19T18:40:15.487129Z",
     "shell.execute_reply": "2025-08-19T18:40:15.486063Z"
    },
    "papermill": {
     "duration": 0.306568,
     "end_time": "2025-08-19T18:40:15.489133",
     "exception": false,
     "start_time": "2025-08-19T18:40:15.182565",
     "status": "completed"
    },
    "tags": []
   },
   "outputs": [],
   "source": [
    "from fairness_multiverse.conformal import build_cp_groups\n",
    "\n",
    "cp_groups_df = build_cp_groups(pred_sets, y_true, X_test.index, org_test)"
   ]
  },
  {
   "cell_type": "code",
   "execution_count": 52,
   "id": "292ddabf",
   "metadata": {
    "execution": {
     "iopub.execute_input": "2025-08-19T18:40:15.536970Z",
     "iopub.status.busy": "2025-08-19T18:40:15.529148Z",
     "iopub.status.idle": "2025-08-19T18:40:16.781888Z",
     "shell.execute_reply": "2025-08-19T18:40:16.780633Z"
    },
    "papermill": {
     "duration": 1.281989,
     "end_time": "2025-08-19T18:40:16.783523",
     "exception": false,
     "start_time": "2025-08-19T18:40:15.501534",
     "status": "completed"
    },
    "tags": []
   },
   "outputs": [],
   "source": [
    "# Define covered = 1 if true_label is in the predicted set\n",
    "cp_groups_df['covered'] = cp_groups_df.apply(\n",
    "    lambda r: int(r['true_label'] in r['pred_set']),\n",
    "    axis=1\n",
    ")"
   ]
  },
  {
   "cell_type": "code",
   "execution_count": 53,
   "id": "3a261692",
   "metadata": {
    "execution": {
     "iopub.execute_input": "2025-08-19T18:40:16.847005Z",
     "iopub.status.busy": "2025-08-19T18:40:16.846522Z",
     "iopub.status.idle": "2025-08-19T18:40:16.859034Z",
     "shell.execute_reply": "2025-08-19T18:40:16.858399Z"
    },
    "papermill": {
     "duration": 0.04017,
     "end_time": "2025-08-19T18:40:16.861125",
     "exception": false,
     "start_time": "2025-08-19T18:40:16.820955",
     "status": "completed"
    },
    "tags": []
   },
   "outputs": [],
   "source": [
    "subgroups = ['frau1','nongerman','nongerman_male','nongerman_female']\n",
    "\n",
    "# Conditional coverage for subgroup==1\n",
    "cond_coverage = {\n",
    "    g: cp_groups_df.loc[cp_groups_df[g]==1, 'covered'].mean()\n",
    "    for g in subgroups\n",
    "}"
   ]
  },
  {
   "cell_type": "code",
   "execution_count": 54,
   "id": "894fd600",
   "metadata": {
    "execution": {
     "iopub.execute_input": "2025-08-19T18:40:16.894492Z",
     "iopub.status.busy": "2025-08-19T18:40:16.893725Z",
     "iopub.status.idle": "2025-08-19T18:40:16.901818Z",
     "shell.execute_reply": "2025-08-19T18:40:16.900915Z"
    },
    "papermill": {
     "duration": 0.025423,
     "end_time": "2025-08-19T18:40:16.903070",
     "exception": false,
     "start_time": "2025-08-19T18:40:16.877647",
     "status": "completed"
    },
    "tags": []
   },
   "outputs": [
    {
     "data": {
      "text/plain": [
       "{'frau1': 0.9087478096778542,\n",
       " 'nongerman': 0.9117498456183686,\n",
       " 'nongerman_male': 0.9283977303431505,\n",
       " 'nongerman_female': 0.8842026825633383}"
      ]
     },
     "execution_count": 54,
     "metadata": {},
     "output_type": "execute_result"
    }
   ],
   "source": [
    "cond_coverage"
   ]
  },
  {
   "cell_type": "code",
   "execution_count": 55,
   "id": "942895c7",
   "metadata": {
    "execution": {
     "iopub.execute_input": "2025-08-19T18:40:16.929687Z",
     "iopub.status.busy": "2025-08-19T18:40:16.929343Z",
     "iopub.status.idle": "2025-08-19T18:40:16.940140Z",
     "shell.execute_reply": "2025-08-19T18:40:16.939378Z"
    },
    "papermill": {
     "duration": 0.025842,
     "end_time": "2025-08-19T18:40:16.941470",
     "exception": false,
     "start_time": "2025-08-19T18:40:16.915628",
     "status": "completed"
    },
    "tags": []
   },
   "outputs": [],
   "source": [
    "for subgroup, cov in cond_coverage.items():\n",
    "    cp_metrics_df[f\"cov_{subgroup}\"] = cov"
   ]
  },
  {
   "cell_type": "code",
   "execution_count": 56,
   "id": "3970120f",
   "metadata": {
    "execution": {
     "iopub.execute_input": "2025-08-19T18:40:16.984886Z",
     "iopub.status.busy": "2025-08-19T18:40:16.984624Z",
     "iopub.status.idle": "2025-08-19T18:40:17.005222Z",
     "shell.execute_reply": "2025-08-19T18:40:17.004443Z"
    },
    "papermill": {
     "duration": 0.049957,
     "end_time": "2025-08-19T18:40:17.006495",
     "exception": false,
     "start_time": "2025-08-19T18:40:16.956538",
     "status": "completed"
    },
    "tags": []
   },
   "outputs": [
    {
     "data": {
      "text/html": [
       "<div>\n",
       "<style scoped>\n",
       "    .dataframe tbody tr th:only-of-type {\n",
       "        vertical-align: middle;\n",
       "    }\n",
       "\n",
       "    .dataframe tbody tr th {\n",
       "        vertical-align: top;\n",
       "    }\n",
       "\n",
       "    .dataframe thead th {\n",
       "        text-align: right;\n",
       "    }\n",
       "</style>\n",
       "<table border=\"1\" class=\"dataframe\">\n",
       "  <thead>\n",
       "    <tr style=\"text-align: right;\">\n",
       "      <th></th>\n",
       "      <th>universe_id</th>\n",
       "      <th>universe_training_year</th>\n",
       "      <th>universe_training_size</th>\n",
       "      <th>universe_scale</th>\n",
       "      <th>universe_model</th>\n",
       "      <th>universe_exclude_features</th>\n",
       "      <th>universe_exclude_subgroups</th>\n",
       "      <th>q_hat</th>\n",
       "      <th>coverage</th>\n",
       "      <th>avg_size</th>\n",
       "      <th>cov_frau1</th>\n",
       "      <th>cov_nongerman</th>\n",
       "      <th>cov_nongerman_male</th>\n",
       "      <th>cov_nongerman_female</th>\n",
       "    </tr>\n",
       "  </thead>\n",
       "  <tbody>\n",
       "    <tr>\n",
       "      <th>0</th>\n",
       "      <td>29991b0e7c7d7bef6db8950de5502600</td>\n",
       "      <td>2010_14</td>\n",
       "      <td>5k</td>\n",
       "      <td>scale</td>\n",
       "      <td>logreg</td>\n",
       "      <td>nationality</td>\n",
       "      <td>keep-all</td>\n",
       "      <td>0.680979</td>\n",
       "      <td>0.910902</td>\n",
       "      <td>1.146818</td>\n",
       "      <td>0.908748</td>\n",
       "      <td>0.91175</td>\n",
       "      <td>0.928398</td>\n",
       "      <td>0.884203</td>\n",
       "    </tr>\n",
       "  </tbody>\n",
       "</table>\n",
       "</div>"
      ],
      "text/plain": [
       "                        universe_id universe_training_year  \\\n",
       "0  29991b0e7c7d7bef6db8950de5502600                2010_14   \n",
       "\n",
       "  universe_training_size universe_scale universe_model  \\\n",
       "0                     5k          scale         logreg   \n",
       "\n",
       "  universe_exclude_features universe_exclude_subgroups     q_hat  coverage  \\\n",
       "0               nationality                   keep-all  0.680979  0.910902   \n",
       "\n",
       "   avg_size  cov_frau1  cov_nongerman  cov_nongerman_male  \\\n",
       "0  1.146818   0.908748        0.91175            0.928398   \n",
       "\n",
       "   cov_nongerman_female  \n",
       "0              0.884203  "
      ]
     },
     "execution_count": 56,
     "metadata": {},
     "output_type": "execute_result"
    }
   ],
   "source": [
    "cp_metrics_df"
   ]
  },
  {
   "cell_type": "markdown",
   "id": "3fc519cc",
   "metadata": {
    "papermill": {
     "duration": 0.02815,
     "end_time": "2025-08-19T18:40:17.069203",
     "exception": false,
     "start_time": "2025-08-19T18:40:17.041053",
     "status": "completed"
    },
    "tags": []
   },
   "source": [
    "# (Fairness) Metrics"
   ]
  },
  {
   "cell_type": "code",
   "execution_count": 57,
   "id": "a2e5e155",
   "metadata": {
    "execution": {
     "iopub.execute_input": "2025-08-19T18:40:17.171007Z",
     "iopub.status.busy": "2025-08-19T18:40:17.170686Z",
     "iopub.status.idle": "2025-08-19T18:40:17.197222Z",
     "shell.execute_reply": "2025-08-19T18:40:17.196536Z"
    },
    "papermill": {
     "duration": 0.098686,
     "end_time": "2025-08-19T18:40:17.199294",
     "exception": false,
     "start_time": "2025-08-19T18:40:17.100608",
     "status": "completed"
    },
    "tags": []
   },
   "outputs": [],
   "source": [
    "colname_to_bin = \"maxdeutsch1\"\n",
    "majority_value = org_train[colname_to_bin].mode()[0]\n",
    "\n",
    "org_test[\"majmin\"] = np.where(org_test[colname_to_bin] == majority_value, \"majority\", \"minority\")"
   ]
  },
  {
   "cell_type": "code",
   "execution_count": 58,
   "id": "17e3e4d5",
   "metadata": {
    "execution": {
     "iopub.execute_input": "2025-08-19T18:40:17.245802Z",
     "iopub.status.busy": "2025-08-19T18:40:17.245226Z",
     "iopub.status.idle": "2025-08-19T18:40:19.654430Z",
     "shell.execute_reply": "2025-08-19T18:40:19.653214Z"
    },
    "papermill": {
     "duration": 2.430456,
     "end_time": "2025-08-19T18:40:19.656034",
     "exception": false,
     "start_time": "2025-08-19T18:40:17.225578",
     "status": "completed"
    },
    "tags": []
   },
   "outputs": [],
   "source": [
    "example_universe = universe.copy()\n",
    "example_universe[\"cutoff\"] = example_universe[\"cutoff\"][0]\n",
    "example_universe[\"eval_fairness_grouping\"] = example_universe[\"eval_fairness_grouping\"][0]\n",
    "fairness_dict, metric_frame = universe_analysis.compute_metrics(\n",
    "    example_universe,\n",
    "    y_pred_prob=probs_test,\n",
    "    y_test=y_true,\n",
    "    org_test=org_test,\n",
    ")"
   ]
  },
  {
   "cell_type": "markdown",
   "id": "1fb7a0e9",
   "metadata": {
    "papermill": {
     "duration": 0.028152,
     "end_time": "2025-08-19T18:40:19.697036",
     "exception": false,
     "start_time": "2025-08-19T18:40:19.668884",
     "status": "completed"
    },
    "tags": []
   },
   "source": [
    "# Overall"
   ]
  },
  {
   "cell_type": "markdown",
   "id": "be1784b1",
   "metadata": {
    "papermill": {
     "duration": 0.026492,
     "end_time": "2025-08-19T18:40:19.751433",
     "exception": false,
     "start_time": "2025-08-19T18:40:19.724941",
     "status": "completed"
    },
    "tags": []
   },
   "source": [
    "Main fairness target: Equalized Odds. Seems to be a better fit than equal opportunity, since we're not only interested in Y = 1. Seems to be a better fit than demographic parity, since we also care about accuracy, not just equal distribution of preds.\n",
    "\n",
    "Pick column for computation of fairness metrics\n",
    "\n",
    "Performance\n",
    "Overall performance measures, most interesting in relation to the measures split by group below"
   ]
  },
  {
   "cell_type": "code",
   "execution_count": 59,
   "id": "b7672bee",
   "metadata": {
    "execution": {
     "iopub.execute_input": "2025-08-19T18:40:19.777559Z",
     "iopub.status.busy": "2025-08-19T18:40:19.777086Z",
     "iopub.status.idle": "2025-08-19T18:40:19.784986Z",
     "shell.execute_reply": "2025-08-19T18:40:19.784229Z"
    },
    "papermill": {
     "duration": 0.022664,
     "end_time": "2025-08-19T18:40:19.786341",
     "exception": false,
     "start_time": "2025-08-19T18:40:19.763677",
     "status": "completed"
    },
    "tags": []
   },
   "outputs": [
    {
     "data": {
      "text/plain": [
       "accuracy                   0.223420\n",
       "balanced accuracy          0.546492\n",
       "f1                         0.244778\n",
       "precision                  0.139833\n",
       "false positive rate        0.888072\n",
       "false negative rate        0.018943\n",
       "selection rate             0.900000\n",
       "count                  89710.000000\n",
       "dtype: float64"
      ]
     },
     "execution_count": 59,
     "metadata": {},
     "output_type": "execute_result"
    }
   ],
   "source": [
    "metric_frame.overall"
   ]
  },
  {
   "cell_type": "markdown",
   "id": "d93333c9",
   "metadata": {
    "papermill": {
     "duration": 0.012679,
     "end_time": "2025-08-19T18:40:19.825842",
     "exception": false,
     "start_time": "2025-08-19T18:40:19.813163",
     "status": "completed"
    },
    "tags": []
   },
   "source": [
    "By Group"
   ]
  },
  {
   "cell_type": "code",
   "execution_count": 60,
   "id": "52256966",
   "metadata": {
    "execution": {
     "iopub.execute_input": "2025-08-19T18:40:19.851639Z",
     "iopub.status.busy": "2025-08-19T18:40:19.851236Z",
     "iopub.status.idle": "2025-08-19T18:40:19.869748Z",
     "shell.execute_reply": "2025-08-19T18:40:19.868999Z"
    },
    "papermill": {
     "duration": 0.033084,
     "end_time": "2025-08-19T18:40:19.871144",
     "exception": false,
     "start_time": "2025-08-19T18:40:19.838060",
     "status": "completed"
    },
    "tags": []
   },
   "outputs": [
    {
     "data": {
      "text/html": [
       "<div>\n",
       "<style scoped>\n",
       "    .dataframe tbody tr th:only-of-type {\n",
       "        vertical-align: middle;\n",
       "    }\n",
       "\n",
       "    .dataframe tbody tr th {\n",
       "        vertical-align: top;\n",
       "    }\n",
       "\n",
       "    .dataframe thead th {\n",
       "        text-align: right;\n",
       "    }\n",
       "</style>\n",
       "<table border=\"1\" class=\"dataframe\">\n",
       "  <thead>\n",
       "    <tr style=\"text-align: right;\">\n",
       "      <th></th>\n",
       "      <th>accuracy</th>\n",
       "      <th>balanced accuracy</th>\n",
       "      <th>f1</th>\n",
       "      <th>precision</th>\n",
       "      <th>false positive rate</th>\n",
       "      <th>false negative rate</th>\n",
       "      <th>selection rate</th>\n",
       "      <th>count</th>\n",
       "    </tr>\n",
       "    <tr>\n",
       "      <th>majmin</th>\n",
       "      <th></th>\n",
       "      <th></th>\n",
       "      <th></th>\n",
       "      <th></th>\n",
       "      <th></th>\n",
       "      <th></th>\n",
       "      <th></th>\n",
       "      <th></th>\n",
       "    </tr>\n",
       "  </thead>\n",
       "  <tbody>\n",
       "    <tr>\n",
       "      <th>majority</th>\n",
       "      <td>0.244788</td>\n",
       "      <td>0.556414</td>\n",
       "      <td>0.255360</td>\n",
       "      <td>0.146807</td>\n",
       "      <td>0.867150</td>\n",
       "      <td>0.020022</td>\n",
       "      <td>0.882059</td>\n",
       "      <td>69170.0</td>\n",
       "    </tr>\n",
       "    <tr>\n",
       "      <th>minority</th>\n",
       "      <td>0.151461</td>\n",
       "      <td>0.514016</td>\n",
       "      <td>0.211179</td>\n",
       "      <td>0.118264</td>\n",
       "      <td>0.957187</td>\n",
       "      <td>0.014780</td>\n",
       "      <td>0.960419</td>\n",
       "      <td>20540.0</td>\n",
       "    </tr>\n",
       "  </tbody>\n",
       "</table>\n",
       "</div>"
      ],
      "text/plain": [
       "          accuracy  balanced accuracy        f1  precision  \\\n",
       "majmin                                                       \n",
       "majority  0.244788           0.556414  0.255360   0.146807   \n",
       "minority  0.151461           0.514016  0.211179   0.118264   \n",
       "\n",
       "          false positive rate  false negative rate  selection rate    count  \n",
       "majmin                                                                       \n",
       "majority             0.867150             0.020022        0.882059  69170.0  \n",
       "minority             0.957187             0.014780        0.960419  20540.0  "
      ]
     },
     "execution_count": 60,
     "metadata": {},
     "output_type": "execute_result"
    }
   ],
   "source": [
    "metric_frame.by_group"
   ]
  },
  {
   "cell_type": "code",
   "execution_count": 61,
   "id": "6e6c20ae",
   "metadata": {
    "execution": {
     "iopub.execute_input": "2025-08-19T18:40:19.899526Z",
     "iopub.status.busy": "2025-08-19T18:40:19.899161Z",
     "iopub.status.idle": "2025-08-19T18:40:23.314593Z",
     "shell.execute_reply": "2025-08-19T18:40:23.313388Z"
    },
    "papermill": {
     "duration": 3.430013,
     "end_time": "2025-08-19T18:40:23.315866",
     "exception": false,
     "start_time": "2025-08-19T18:40:19.885853",
     "status": "completed"
    },
    "tags": []
   },
   "outputs": [
    {
     "data": {
      "text/plain": [
       "array([[<Axes: title={'center': 'accuracy'}, xlabel='majmin'>,\n",
       "        <Axes: title={'center': 'balanced accuracy'}, xlabel='majmin'>,\n",
       "        <Axes: title={'center': 'f1'}, xlabel='majmin'>],\n",
       "       [<Axes: title={'center': 'precision'}, xlabel='majmin'>,\n",
       "        <Axes: title={'center': 'false positive rate'}, xlabel='majmin'>,\n",
       "        <Axes: title={'center': 'false negative rate'}, xlabel='majmin'>],\n",
       "       [<Axes: title={'center': 'selection rate'}, xlabel='majmin'>,\n",
       "        <Axes: title={'center': 'count'}, xlabel='majmin'>,\n",
       "        <Axes: xlabel='majmin'>]], dtype=object)"
      ]
     },
     "execution_count": 61,
     "metadata": {},
     "output_type": "execute_result"
    },
    {
     "data": {
      "image/png": "[encoded data removed]",
      "text/plain": [
       "<Figure size 1200x800 with 9 Axes>"
      ]
     },
     "metadata": {},
     "output_type": "display_data"
    }
   ],
   "source": [
    "# In a graphic\n",
    "metric_frame.by_group.plot.bar(\n",
    "    subplots=True,\n",
    "    layout=[3, 3],\n",
    "    legend=False,\n",
    "    figsize=[12, 8],\n",
    "    title=\"Show all metrics\",\n",
    ")"
   ]
  },
  {
   "cell_type": "markdown",
   "id": "b2e433ae",
   "metadata": {
    "papermill": {
     "duration": 0.015465,
     "end_time": "2025-08-19T18:40:23.350079",
     "exception": false,
     "start_time": "2025-08-19T18:40:23.334614",
     "status": "completed"
    },
    "tags": []
   },
   "source": [
    "# Final Output"
   ]
  },
  {
   "cell_type": "code",
   "execution_count": 62,
   "id": "3871301e",
   "metadata": {
    "execution": {
     "iopub.execute_input": "2025-08-19T18:40:23.382699Z",
     "iopub.status.busy": "2025-08-19T18:40:23.381620Z",
     "iopub.status.idle": "2025-08-19T18:40:23.391948Z",
     "shell.execute_reply": "2025-08-19T18:40:23.391286Z"
    },
    "papermill": {
     "duration": 0.02789,
     "end_time": "2025-08-19T18:40:23.393153",
     "exception": false,
     "start_time": "2025-08-19T18:40:23.365263",
     "status": "completed"
    },
    "tags": []
   },
   "outputs": [
    {
     "data": {
      "text/plain": [
       "4"
      ]
     },
     "execution_count": 62,
     "metadata": {},
     "output_type": "execute_result"
    }
   ],
   "source": [
    "sub_universes = universe_analysis.generate_sub_universes()\n",
    "len(sub_universes)"
   ]
  },
  {
   "cell_type": "code",
   "execution_count": 63,
   "id": "d9cfdaca",
   "metadata": {
    "execution": {
     "iopub.execute_input": "2025-08-19T18:40:23.450958Z",
     "iopub.status.busy": "2025-08-19T18:40:23.450561Z",
     "iopub.status.idle": "2025-08-19T18:40:23.457589Z",
     "shell.execute_reply": "2025-08-19T18:40:23.456711Z"
    },
    "papermill": {
     "duration": 0.040782,
     "end_time": "2025-08-19T18:40:23.458782",
     "exception": false,
     "start_time": "2025-08-19T18:40:23.418000",
     "status": "completed"
    },
    "tags": []
   },
   "outputs": [],
   "source": [
    "def filter_sub_universe_data(sub_universe, org_test):\n",
    "    # Keep all rows — no filtering\n",
    "    keep_rows_mask = np.ones(org_test.shape[0], dtype=bool)\n",
    "\n",
    "    print(f\"[INFO] Keeping all rows: {keep_rows_mask.sum()} rows retained.\")\n",
    "    return keep_rows_mask"
   ]
  },
  {
   "cell_type": "code",
   "execution_count": 64,
   "id": "2bc31ac1",
   "metadata": {
    "execution": {
     "iopub.execute_input": "2025-08-19T18:40:23.490476Z",
     "iopub.status.busy": "2025-08-19T18:40:23.489981Z",
     "iopub.status.idle": "2025-08-19T18:40:31.576856Z",
     "shell.execute_reply": "2025-08-19T18:40:31.575798Z"
    },
    "papermill": {
     "duration": 8.103263,
     "end_time": "2025-08-19T18:40:31.578223",
     "exception": false,
     "start_time": "2025-08-19T18:40:23.474960",
     "status": "completed"
    },
    "tags": []
   },
   "outputs": [
    {
     "name": "stdout",
     "output_type": "stream",
     "text": [
      "Stopping execution_time clock.\n",
      "[INFO] Keeping all rows: 89710 rows retained.\n"
     ]
    },
    {
     "name": "stdout",
     "output_type": "stream",
     "text": [
      "[INFO] Keeping all rows: 89710 rows retained.\n"
     ]
    },
    {
     "name": "stdout",
     "output_type": "stream",
     "text": [
      "[INFO] Keeping all rows: 89710 rows retained.\n"
     ]
    },
    {
     "name": "stdout",
     "output_type": "stream",
     "text": [
      "[INFO] Keeping all rows: 89710 rows retained.\n"
     ]
    },
    {
     "data": {
      "text/html": [
       "<div>\n",
       "<style scoped>\n",
       "    .dataframe tbody tr th:only-of-type {\n",
       "        vertical-align: middle;\n",
       "    }\n",
       "\n",
       "    .dataframe tbody tr th {\n",
       "        vertical-align: top;\n",
       "    }\n",
       "\n",
       "    .dataframe thead th {\n",
       "        text-align: right;\n",
       "    }\n",
       "</style>\n",
       "<table border=\"1\" class=\"dataframe\">\n",
       "  <thead>\n",
       "    <tr style=\"text-align: right;\">\n",
       "      <th></th>\n",
       "      <th>run_no</th>\n",
       "      <th>universe_id</th>\n",
       "      <th>universe_settings</th>\n",
       "      <th>execution_time</th>\n",
       "      <th>test_size_n</th>\n",
       "      <th>test_size_frac</th>\n",
       "      <th>fair_main_equalized_odds_difference</th>\n",
       "      <th>fair_main_equalized_odds_ratio</th>\n",
       "      <th>fair_main_demographic_parity_difference</th>\n",
       "      <th>fair_main_demographic_parity_ratio</th>\n",
       "      <th>...</th>\n",
       "      <th>perf_grp_precision_0</th>\n",
       "      <th>perf_grp_precision_1</th>\n",
       "      <th>perf_grp_false positive rate_0</th>\n",
       "      <th>perf_grp_false positive rate_1</th>\n",
       "      <th>perf_grp_false negative rate_0</th>\n",
       "      <th>perf_grp_false negative rate_1</th>\n",
       "      <th>perf_grp_selection rate_0</th>\n",
       "      <th>perf_grp_selection rate_1</th>\n",
       "      <th>perf_grp_count_0</th>\n",
       "      <th>perf_grp_count_1</th>\n",
       "    </tr>\n",
       "  </thead>\n",
       "  <tbody>\n",
       "    <tr>\n",
       "      <th>0</th>\n",
       "      <td>3</td>\n",
       "      <td>29991b0e7c7d7bef6db8950de5502600</td>\n",
       "      <td>{\"cutoff\": \"quantile_0.1\", \"eval_fairness_grou...</td>\n",
       "      <td>28.049756</td>\n",
       "      <td>89710</td>\n",
       "      <td>1.0</td>\n",
       "      <td>0.090037</td>\n",
       "      <td>0.905936</td>\n",
       "      <td>0.07836</td>\n",
       "      <td>0.918411</td>\n",
       "      <td>...</td>\n",
       "      <td>NaN</td>\n",
       "      <td>NaN</td>\n",
       "      <td>NaN</td>\n",
       "      <td>NaN</td>\n",
       "      <td>NaN</td>\n",
       "      <td>NaN</td>\n",
       "      <td>NaN</td>\n",
       "      <td>NaN</td>\n",
       "      <td>NaN</td>\n",
       "      <td>NaN</td>\n",
       "    </tr>\n",
       "    <tr>\n",
       "      <th>0</th>\n",
       "      <td>3</td>\n",
       "      <td>29991b0e7c7d7bef6db8950de5502600</td>\n",
       "      <td>{\"cutoff\": \"quantile_0.1\", \"eval_fairness_grou...</td>\n",
       "      <td>28.049756</td>\n",
       "      <td>89710</td>\n",
       "      <td>1.0</td>\n",
       "      <td>0.090037</td>\n",
       "      <td>0.905936</td>\n",
       "      <td>0.07836</td>\n",
       "      <td>0.918411</td>\n",
       "      <td>...</td>\n",
       "      <td>0.118264</td>\n",
       "      <td>0.146807</td>\n",
       "      <td>0.957187</td>\n",
       "      <td>0.867150</td>\n",
       "      <td>0.014780</td>\n",
       "      <td>0.020022</td>\n",
       "      <td>0.960419</td>\n",
       "      <td>0.882059</td>\n",
       "      <td>20540.0</td>\n",
       "      <td>69170.0</td>\n",
       "    </tr>\n",
       "    <tr>\n",
       "      <th>0</th>\n",
       "      <td>3</td>\n",
       "      <td>29991b0e7c7d7bef6db8950de5502600</td>\n",
       "      <td>{\"cutoff\": \"quantile_0.25\", \"eval_fairness_gro...</td>\n",
       "      <td>28.049756</td>\n",
       "      <td>89710</td>\n",
       "      <td>1.0</td>\n",
       "      <td>0.177905</td>\n",
       "      <td>0.793029</td>\n",
       "      <td>0.15578</td>\n",
       "      <td>0.820964</td>\n",
       "      <td>...</td>\n",
       "      <td>NaN</td>\n",
       "      <td>NaN</td>\n",
       "      <td>NaN</td>\n",
       "      <td>NaN</td>\n",
       "      <td>NaN</td>\n",
       "      <td>NaN</td>\n",
       "      <td>NaN</td>\n",
       "      <td>NaN</td>\n",
       "      <td>NaN</td>\n",
       "      <td>NaN</td>\n",
       "    </tr>\n",
       "    <tr>\n",
       "      <th>0</th>\n",
       "      <td>3</td>\n",
       "      <td>29991b0e7c7d7bef6db8950de5502600</td>\n",
       "      <td>{\"cutoff\": \"quantile_0.25\", \"eval_fairness_gro...</td>\n",
       "      <td>28.049756</td>\n",
       "      <td>89710</td>\n",
       "      <td>1.0</td>\n",
       "      <td>0.177905</td>\n",
       "      <td>0.793029</td>\n",
       "      <td>0.15578</td>\n",
       "      <td>0.820964</td>\n",
       "      <td>...</td>\n",
       "      <td>0.126007</td>\n",
       "      <td>0.171828</td>\n",
       "      <td>0.859564</td>\n",
       "      <td>0.681659</td>\n",
       "      <td>0.048986</td>\n",
       "      <td>0.071116</td>\n",
       "      <td>0.870107</td>\n",
       "      <td>0.714327</td>\n",
       "      <td>20540.0</td>\n",
       "      <td>69170.0</td>\n",
       "    </tr>\n",
       "  </tbody>\n",
       "</table>\n",
       "<p>4 rows × 50 columns</p>\n",
       "</div>"
      ],
      "text/plain": [
       "  run_no                       universe_id  \\\n",
       "0      3  29991b0e7c7d7bef6db8950de5502600   \n",
       "0      3  29991b0e7c7d7bef6db8950de5502600   \n",
       "0      3  29991b0e7c7d7bef6db8950de5502600   \n",
       "0      3  29991b0e7c7d7bef6db8950de5502600   \n",
       "\n",
       "                                   universe_settings  execution_time  \\\n",
       "0  {\"cutoff\": \"quantile_0.1\", \"eval_fairness_grou...       28.049756   \n",
       "0  {\"cutoff\": \"quantile_0.1\", \"eval_fairness_grou...       28.049756   \n",
       "0  {\"cutoff\": \"quantile_0.25\", \"eval_fairness_gro...       28.049756   \n",
       "0  {\"cutoff\": \"quantile_0.25\", \"eval_fairness_gro...       28.049756   \n",
       "\n",
       "   test_size_n  test_size_frac  fair_main_equalized_odds_difference  \\\n",
       "0        89710             1.0                             0.090037   \n",
       "0        89710             1.0                             0.090037   \n",
       "0        89710             1.0                             0.177905   \n",
       "0        89710             1.0                             0.177905   \n",
       "\n",
       "   fair_main_equalized_odds_ratio  fair_main_demographic_parity_difference  \\\n",
       "0                        0.905936                                  0.07836   \n",
       "0                        0.905936                                  0.07836   \n",
       "0                        0.793029                                  0.15578   \n",
       "0                        0.793029                                  0.15578   \n",
       "\n",
       "   fair_main_demographic_parity_ratio  ...  perf_grp_precision_0  \\\n",
       "0                            0.918411  ...                   NaN   \n",
       "0                            0.918411  ...              0.118264   \n",
       "0                            0.820964  ...                   NaN   \n",
       "0                            0.820964  ...              0.126007   \n",
       "\n",
       "   perf_grp_precision_1  perf_grp_false positive rate_0  \\\n",
       "0                   NaN                             NaN   \n",
       "0              0.146807                        0.957187   \n",
       "0                   NaN                             NaN   \n",
       "0              0.171828                        0.859564   \n",
       "\n",
       "   perf_grp_false positive rate_1  perf_grp_false negative rate_0  \\\n",
       "0                             NaN                             NaN   \n",
       "0                        0.867150                        0.014780   \n",
       "0                             NaN                             NaN   \n",
       "0                        0.681659                        0.048986   \n",
       "\n",
       "   perf_grp_false negative rate_1  perf_grp_selection rate_0  \\\n",
       "0                             NaN                        NaN   \n",
       "0                        0.020022                   0.960419   \n",
       "0                             NaN                        NaN   \n",
       "0                        0.071116                   0.870107   \n",
       "\n",
       "   perf_grp_selection rate_1  perf_grp_count_0  perf_grp_count_1  \n",
       "0                        NaN               NaN               NaN  \n",
       "0                   0.882059           20540.0           69170.0  \n",
       "0                        NaN               NaN               NaN  \n",
       "0                   0.714327           20540.0           69170.0  \n",
       "\n",
       "[4 rows x 50 columns]"
      ]
     },
     "execution_count": 64,
     "metadata": {},
     "output_type": "execute_result"
    }
   ],
   "source": [
    "final_output = universe_analysis.generate_final_output(\n",
    "    y_pred_prob=probs_test,\n",
    "    y_test=y_true,\n",
    "    org_test=org_test,\n",
    "    filter_data=filter_sub_universe_data,\n",
    "    cp_metrics_df=cp_metrics_df,\n",
    "    save=True,\n",
    ")\n",
    "final_output"
   ]
  },
  {
   "cell_type": "code",
   "execution_count": null,
   "id": "8b80a1ff",
   "metadata": {
    "papermill": {
     "duration": 0.043805,
     "end_time": "2025-08-19T18:40:31.657460",
     "exception": false,
     "start_time": "2025-08-19T18:40:31.613655",
     "status": "completed"
    },
    "tags": []
   },
   "outputs": [],
   "source": []
  },
  {
   "cell_type": "code",
   "execution_count": null,
   "id": "275c9fad",
   "metadata": {
    "papermill": {
     "duration": 0.015004,
     "end_time": "2025-08-19T18:40:31.700415",
     "exception": false,
     "start_time": "2025-08-19T18:40:31.685411",
     "status": "completed"
    },
    "tags": []
   },
   "outputs": [],
   "source": []
  }
 ],
 "metadata": {
  "celltoolbar": "Tags",
  "kernelspec": {
   "display_name": "Python (CMA Fairness)",
   "language": "python",
   "name": "cma_fair_env"
  },
  "language_info": {
   "codemirror_mode": {
    "name": "ipython",
    "version": 3
   },
   "file_extension": ".py",
   "mimetype": "text/x-python",
   "name": "python",
   "nbconvert_exporter": "python",
   "pygments_lexer": "ipython3",
   "version": "3.10.12"
  },
  "papermill": {
   "default_parameters": {},
   "duration": 41.967895,
   "end_time": "2025-08-19T18:40:32.570066",
   "environment_variables": {},
   "exception": null,
   "input_path": "universe_analysis.ipynb",
   "output_path": "output/runs/3/notebooks/m_3-29991b0e7c7d7bef6db8950de5502600.ipynb",
   "parameters": {
    "output_dir": "output",
    "run_no": "3",
    "seed": "2023",
    "universe": "{\"cutoff\": [\"quantile_0.1\", \"quantile_0.25\"], \"eval_fairness_grouping\": [\"majority-minority\", \"nationality-all\"], \"exclude_features\": \"nationality\", \"exclude_subgroups\": \"keep-all\", \"model\": \"logreg\", \"scale\": \"scale\", \"training_size\": \"5k\", \"training_year\": \"2010_14\"}",
    "universe_id": "29991b0e7c7d7bef6db8950de5502600"
   },
   "start_time": "2025-08-19T18:39:50.602171",
   "version": "2.6.0"
  }
 },
 "nbformat": 4,
 "nbformat_minor": 5
}