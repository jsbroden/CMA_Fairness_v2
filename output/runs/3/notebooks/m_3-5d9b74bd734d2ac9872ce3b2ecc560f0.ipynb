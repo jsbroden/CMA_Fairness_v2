{
 "cells": [
  {
   "cell_type": "markdown",
   "id": "ef23dbb3",
   "metadata": {
    "papermill": {
     "duration": 0.011419,
     "end_time": "2025-08-19T18:36:37.031701",
     "exception": false,
     "start_time": "2025-08-19T18:36:37.020282",
     "status": "completed"
    },
    "tags": []
   },
   "source": [
    "# Setup"
   ]
  },
  {
   "cell_type": "code",
   "execution_count": 1,
   "id": "0bc8e7dc",
   "metadata": {
    "execution": {
     "iopub.execute_input": "2025-08-19T18:36:37.051170Z",
     "iopub.status.busy": "2025-08-19T18:36:37.050548Z",
     "iopub.status.idle": "2025-08-19T18:36:37.065306Z",
     "shell.execute_reply": "2025-08-19T18:36:37.064304Z"
    },
    "papermill": {
     "duration": 0.026122,
     "end_time": "2025-08-19T18:36:37.066817",
     "exception": false,
     "start_time": "2025-08-19T18:36:37.040695",
     "status": "completed"
    },
    "tags": []
   },
   "outputs": [
    {
     "name": "stdout",
     "output_type": "stream",
     "text": [
      "/dss/dsshome1/0C/ra93lal2/cma/CMA_Fairness_v2\n"
     ]
    },
    {
     "name": "stderr",
     "output_type": "stream",
     "text": [
      "/dss/dsshome1/0C/ra93lal2/.local/share/virtualenvs/CMA_Fairness_v2-3j10GkSs/lib/python3.10/site-packages/IPython/core/magics/osm.py:393: UserWarning: This is now an optional IPython functionality, using bookmarks requires you to install the `pickleshare` library.\n",
      "  bkms = self.shell.db.get('bookmarks', {})\n",
      "/dss/dsshome1/0C/ra93lal2/.local/share/virtualenvs/CMA_Fairness_v2-3j10GkSs/lib/python3.10/site-packages/IPython/core/magics/osm.py:417: UserWarning: This is now an optional IPython functionality, setting dhist requires you to install the `pickleshare` library.\n",
      "  self.shell.db['dhist'] = compress_dhist(dhist)[-100:]\n"
     ]
    }
   ],
   "source": [
    "%cd ~/cma/CMA_Fairness_v2"
   ]
  },
  {
   "cell_type": "markdown",
   "id": "9d235661",
   "metadata": {
    "papermill": {
     "duration": 0.010585,
     "end_time": "2025-08-19T18:36:37.091944",
     "exception": false,
     "start_time": "2025-08-19T18:36:37.081359",
     "status": "completed"
    },
    "tags": []
   },
   "source": [
    "The following cell holds the definition of our parameters, these values can be overriden by rendering the with e.g. the following command:\n",
    "\n",
    "papermill -p alpha 0.2 -p ratio 0.3 universe_analysis.ipynb output/test_run.ipynb"
   ]
  },
  {
   "cell_type": "code",
   "execution_count": 2,
   "id": "4a789d8e",
   "metadata": {
    "execution": {
     "iopub.execute_input": "2025-08-19T18:36:37.110873Z",
     "iopub.status.busy": "2025-08-19T18:36:37.110397Z",
     "iopub.status.idle": "2025-08-19T18:36:37.115632Z",
     "shell.execute_reply": "2025-08-19T18:36:37.114577Z"
    },
    "papermill": {
     "duration": 0.016298,
     "end_time": "2025-08-19T18:36:37.117051",
     "exception": false,
     "start_time": "2025-08-19T18:36:37.100753",
     "status": "completed"
    },
    "tags": []
   },
   "outputs": [
    {
     "name": "stdout",
     "output_type": "stream",
     "text": [
      "Current working directory: /dss/dsshome1/0C/ra93lal2/cma/CMA_Fairness_v2\n"
     ]
    }
   ],
   "source": [
    "import os\n",
    "print(\"Current working directory:\", os.getcwd())"
   ]
  },
  {
   "cell_type": "code",
   "execution_count": 3,
   "id": "4132aaed",
   "metadata": {
    "execution": {
     "iopub.execute_input": "2025-08-19T18:36:37.137045Z",
     "iopub.status.busy": "2025-08-19T18:36:37.136338Z",
     "iopub.status.idle": "2025-08-19T18:36:37.142446Z",
     "shell.execute_reply": "2025-08-19T18:36:37.141343Z"
    },
    "papermill": {
     "duration": 0.017414,
     "end_time": "2025-08-19T18:36:37.143763",
     "exception": false,
     "start_time": "2025-08-19T18:36:37.126349",
     "status": "completed"
    },
    "tags": [
     "parameters"
    ]
   },
   "outputs": [],
   "source": [
    "run_no = 0\n",
    "universe_id = \"test\"\n",
    "universe = {\n",
    "    \"training_size\": \"5k\", # \"25k\", \"5k\", \"1k\"\n",
    "    \"training_year\": \"2012_14\", # \"2014\", \"2012_14\", \"2010_14\"\n",
    "    \"scale\": \"scale\", # \"scale\", \"do-not-scale\",\n",
    "    \"model\": \"elasticnet\", # \"logreg\", \"penalized_logreg\", \"rf\", \"gbm\", \"elasticnet\"\n",
    "    \"cutoff\": [\"quantile_0.15\", \"quantile_0.30\"],\n",
    "    \"exclude_features\": \"age\", # \"none\", \"nationality\", \"sex\", \"nationality-sex\", \"age\"\n",
    "    \"exclude_subgroups\": \"drop-non-german\", # \"keep-all\", \"drop-non-german\"\n",
    "    \"eval_fairness_grouping\": [\"majority-minority\", \"nationality-all\"]\n",
    "}\n",
    "\n",
    "output_dir=\"./output\"\n",
    "seed=0"
   ]
  },
  {
   "cell_type": "code",
   "execution_count": 4,
   "id": "66cfe815",
   "metadata": {
    "execution": {
     "iopub.execute_input": "2025-08-19T18:36:37.162838Z",
     "iopub.status.busy": "2025-08-19T18:36:37.162462Z",
     "iopub.status.idle": "2025-08-19T18:36:37.166791Z",
     "shell.execute_reply": "2025-08-19T18:36:37.165959Z"
    },
    "papermill": {
     "duration": 0.015181,
     "end_time": "2025-08-19T18:36:37.167970",
     "exception": false,
     "start_time": "2025-08-19T18:36:37.152789",
     "status": "completed"
    },
    "tags": [
     "injected-parameters"
    ]
   },
   "outputs": [],
   "source": [
    "# Parameters\n",
    "universe_id = \"5d9b74bd734d2ac9872ce3b2ecc560f0\"\n",
    "run_no = \"3\"\n",
    "universe = \"{\\\"cutoff\\\": [\\\"quantile_0.1\\\", \\\"quantile_0.25\\\"], \\\"eval_fairness_grouping\\\": [\\\"majority-minority\\\", \\\"nationality-all\\\"], \\\"exclude_features\\\": \\\"age\\\", \\\"exclude_subgroups\\\": \\\"drop-non-german\\\", \\\"model\\\": \\\"penalized_logreg\\\", \\\"scale\\\": \\\"do-not-scale\\\", \\\"training_size\\\": \\\"5k\\\", \\\"training_year\\\": \\\"2012_14\\\"}\"\n",
    "output_dir = \"output\"\n",
    "seed = \"2023\"\n"
   ]
  },
  {
   "cell_type": "code",
   "execution_count": 5,
   "id": "a5d7941f",
   "metadata": {
    "execution": {
     "iopub.execute_input": "2025-08-19T18:36:37.198698Z",
     "iopub.status.busy": "2025-08-19T18:36:37.198207Z",
     "iopub.status.idle": "2025-08-19T18:36:37.202812Z",
     "shell.execute_reply": "2025-08-19T18:36:37.201807Z"
    },
    "papermill": {
     "duration": 0.028171,
     "end_time": "2025-08-19T18:36:37.205298",
     "exception": false,
     "start_time": "2025-08-19T18:36:37.177127",
     "status": "completed"
    },
    "tags": []
   },
   "outputs": [],
   "source": [
    "import json\n",
    "if isinstance(universe, str):\n",
    "    universe = json.loads(universe)"
   ]
  },
  {
   "cell_type": "code",
   "execution_count": 6,
   "id": "7076ccb1",
   "metadata": {
    "execution": {
     "iopub.execute_input": "2025-08-19T18:36:37.246152Z",
     "iopub.status.busy": "2025-08-19T18:36:37.245697Z",
     "iopub.status.idle": "2025-08-19T18:36:37.284742Z",
     "shell.execute_reply": "2025-08-19T18:36:37.283938Z"
    },
    "papermill": {
     "duration": 0.054179,
     "end_time": "2025-08-19T18:36:37.289261",
     "exception": false,
     "start_time": "2025-08-19T18:36:37.235082",
     "status": "completed"
    },
    "tags": []
   },
   "outputs": [],
   "source": [
    "# Auto-reload the custom package\n",
    "%load_ext autoreload\n",
    "%autoreload 1\n",
    "%aimport fairness_multiverse"
   ]
  },
  {
   "cell_type": "code",
   "execution_count": 7,
   "id": "94c8eb93",
   "metadata": {
    "execution": {
     "iopub.execute_input": "2025-08-19T18:36:37.329588Z",
     "iopub.status.busy": "2025-08-19T18:36:37.328563Z",
     "iopub.status.idle": "2025-08-19T18:36:39.000589Z",
     "shell.execute_reply": "2025-08-19T18:36:38.999402Z"
    },
    "papermill": {
     "duration": 1.686149,
     "end_time": "2025-08-19T18:36:39.002391",
     "exception": false,
     "start_time": "2025-08-19T18:36:37.316242",
     "status": "completed"
    },
    "tags": []
   },
   "outputs": [],
   "source": [
    "from fairness_multiverse.universe import UniverseAnalysis\n",
    "\n",
    "universe_analysis = UniverseAnalysis(\n",
    "    run_no = run_no,\n",
    "    universe_id = universe_id,\n",
    "    universe = universe,\n",
    "    output_dir=output_dir,\n",
    ")"
   ]
  },
  {
   "cell_type": "code",
   "execution_count": 8,
   "id": "2a6381cf",
   "metadata": {
    "execution": {
     "iopub.execute_input": "2025-08-19T18:36:39.026002Z",
     "iopub.status.busy": "2025-08-19T18:36:39.025354Z",
     "iopub.status.idle": "2025-08-19T18:36:39.036412Z",
     "shell.execute_reply": "2025-08-19T18:36:39.035100Z"
    },
    "papermill": {
     "duration": 0.02389,
     "end_time": "2025-08-19T18:36:39.037859",
     "exception": false,
     "start_time": "2025-08-19T18:36:39.013969",
     "status": "completed"
    },
    "tags": []
   },
   "outputs": [
    {
     "name": "stdout",
     "output_type": "stream",
     "text": [
      "Using Seed: 2023\n"
     ]
    }
   ],
   "source": [
    "import numpy as np\n",
    "parsed_seed = int(seed)\n",
    "np.random.seed(parsed_seed)\n",
    "print(f\"Using Seed: {parsed_seed}\")"
   ]
  },
  {
   "cell_type": "markdown",
   "id": "b6e958b4",
   "metadata": {
    "papermill": {
     "duration": 0.009558,
     "end_time": "2025-08-19T18:36:39.060112",
     "exception": false,
     "start_time": "2025-08-19T18:36:39.050554",
     "status": "completed"
    },
    "tags": []
   },
   "source": [
    "# Loading Data"
   ]
  },
  {
   "cell_type": "code",
   "execution_count": 9,
   "id": "98701482",
   "metadata": {
    "execution": {
     "iopub.execute_input": "2025-08-19T18:36:39.081522Z",
     "iopub.status.busy": "2025-08-19T18:36:39.080445Z",
     "iopub.status.idle": "2025-08-19T18:36:48.875731Z",
     "shell.execute_reply": "2025-08-19T18:36:48.874654Z"
    },
    "papermill": {
     "duration": 9.807343,
     "end_time": "2025-08-19T18:36:48.877098",
     "exception": false,
     "start_time": "2025-08-19T18:36:39.069755",
     "status": "completed"
    },
    "tags": []
   },
   "outputs": [
    {
     "name": "stdout",
     "output_type": "stream",
     "text": [
      "Loading SIAB data from cache: data/siab_cached.csv.gz\n"
     ]
    },
    {
     "name": "stdout",
     "output_type": "stream",
     "text": [
      "(643690, 164)\n"
     ]
    }
   ],
   "source": [
    "from pathlib import Path\n",
    "import pandas as pd\n",
    "\n",
    "# File paths\n",
    "raw_file = Path(\"data/raw/siab.csv\")\n",
    "cache_file = Path(\"data/siab_cached.csv.gz\")\n",
    "\n",
    "# Ensure cache directory exists\n",
    "cache_file.parent.mkdir(parents=True, exist_ok=True)\n",
    "\n",
    "# Load with simple caching\n",
    "if cache_file.exists():\n",
    "    print(f\"Loading SIAB data from cache: {cache_file}\")\n",
    "    siab = pd.read_csv(cache_file, compression='gzip')\n",
    "else:\n",
    "    print(f\"Cache not found. Reading raw SIAB data: {raw_file}\")\n",
    "    siab = pd.read_csv(raw_file)\n",
    "    siab.to_csv(cache_file, index=False, compression='gzip')\n",
    "    print(f\"Cached SIAB data to: {cache_file}\")\n",
    "\n",
    "print(siab.shape)"
   ]
  },
  {
   "cell_type": "code",
   "execution_count": 10,
   "id": "058d2abb",
   "metadata": {
    "execution": {
     "iopub.execute_input": "2025-08-19T18:36:48.924669Z",
     "iopub.status.busy": "2025-08-19T18:36:48.923822Z",
     "iopub.status.idle": "2025-08-19T18:36:49.081609Z",
     "shell.execute_reply": "2025-08-19T18:36:49.080862Z"
    },
    "papermill": {
     "duration": 0.189384,
     "end_time": "2025-08-19T18:36:49.085767",
     "exception": false,
     "start_time": "2025-08-19T18:36:48.896383",
     "status": "completed"
    },
    "tags": []
   },
   "outputs": [
    {
     "data": {
      "text/html": [
       "<div>\n",
       "<style scoped>\n",
       "    .dataframe tbody tr th:only-of-type {\n",
       "        vertical-align: middle;\n",
       "    }\n",
       "\n",
       "    .dataframe tbody tr th {\n",
       "        vertical-align: top;\n",
       "    }\n",
       "\n",
       "    .dataframe thead th {\n",
       "        text-align: right;\n",
       "    }\n",
       "</style>\n",
       "<table border=\"1\" class=\"dataframe\">\n",
       "  <thead>\n",
       "    <tr style=\"text-align: right;\">\n",
       "      <th></th>\n",
       "      <th>persnr</th>\n",
       "      <th>year</th>\n",
       "      <th>nrEntry</th>\n",
       "      <th>ltue</th>\n",
       "      <th>employed_before</th>\n",
       "      <th>receipt_leh_before</th>\n",
       "      <th>receipt_lhg_before</th>\n",
       "      <th>se_before</th>\n",
       "      <th>ASU_notue_seeking_before</th>\n",
       "      <th>ASU_other_before</th>\n",
       "      <th>...</th>\n",
       "      <th>minijob_tot_dur_byage</th>\n",
       "      <th>ft_tot_dur_byage</th>\n",
       "      <th>befrist_tot_dur_byage</th>\n",
       "      <th>leih_tot_dur_byage</th>\n",
       "      <th>LHG_tot_dur_byage</th>\n",
       "      <th>LEH_tot_dur_byage</th>\n",
       "      <th>almp_tot_dur_byage</th>\n",
       "      <th>almp_aw_tot_dur_byage</th>\n",
       "      <th>se_tot_dur_byage</th>\n",
       "      <th>seeking1_tot_dur_byage</th>\n",
       "    </tr>\n",
       "  </thead>\n",
       "  <tbody>\n",
       "    <tr>\n",
       "      <th>0</th>\n",
       "      <td>7</td>\n",
       "      <td>2015</td>\n",
       "      <td>1</td>\n",
       "      <td>0</td>\n",
       "      <td>1</td>\n",
       "      <td>0</td>\n",
       "      <td>0</td>\n",
       "      <td>0</td>\n",
       "      <td>1</td>\n",
       "      <td>0</td>\n",
       "      <td>...</td>\n",
       "      <td>0.000000</td>\n",
       "      <td>0.000000</td>\n",
       "      <td>15.043478</td>\n",
       "      <td>0.000000</td>\n",
       "      <td>0.000000</td>\n",
       "      <td>0.000000</td>\n",
       "      <td>0.000000</td>\n",
       "      <td>0.000000</td>\n",
       "      <td>0.000000</td>\n",
       "      <td>0.000000</td>\n",
       "    </tr>\n",
       "    <tr>\n",
       "      <th>1</th>\n",
       "      <td>18</td>\n",
       "      <td>2010</td>\n",
       "      <td>1</td>\n",
       "      <td>1</td>\n",
       "      <td>0</td>\n",
       "      <td>0</td>\n",
       "      <td>0</td>\n",
       "      <td>0</td>\n",
       "      <td>0</td>\n",
       "      <td>0</td>\n",
       "      <td>...</td>\n",
       "      <td>0.000000</td>\n",
       "      <td>0.000000</td>\n",
       "      <td>0.000000</td>\n",
       "      <td>0.000000</td>\n",
       "      <td>0.000000</td>\n",
       "      <td>0.000000</td>\n",
       "      <td>0.000000</td>\n",
       "      <td>0.000000</td>\n",
       "      <td>0.000000</td>\n",
       "      <td>0.000000</td>\n",
       "    </tr>\n",
       "    <tr>\n",
       "      <th>2</th>\n",
       "      <td>18</td>\n",
       "      <td>2011</td>\n",
       "      <td>2</td>\n",
       "      <td>0</td>\n",
       "      <td>1</td>\n",
       "      <td>0</td>\n",
       "      <td>1</td>\n",
       "      <td>0</td>\n",
       "      <td>1</td>\n",
       "      <td>0</td>\n",
       "      <td>...</td>\n",
       "      <td>2.714286</td>\n",
       "      <td>2.714286</td>\n",
       "      <td>0.000000</td>\n",
       "      <td>0.000000</td>\n",
       "      <td>10.775510</td>\n",
       "      <td>0.000000</td>\n",
       "      <td>8.367347</td>\n",
       "      <td>0.000000</td>\n",
       "      <td>0.000000</td>\n",
       "      <td>9.836735</td>\n",
       "    </tr>\n",
       "    <tr>\n",
       "      <th>3</th>\n",
       "      <td>18</td>\n",
       "      <td>2012</td>\n",
       "      <td>3</td>\n",
       "      <td>0</td>\n",
       "      <td>1</td>\n",
       "      <td>0</td>\n",
       "      <td>1</td>\n",
       "      <td>0</td>\n",
       "      <td>1</td>\n",
       "      <td>0</td>\n",
       "      <td>...</td>\n",
       "      <td>4.200000</td>\n",
       "      <td>4.200000</td>\n",
       "      <td>0.000000</td>\n",
       "      <td>0.000000</td>\n",
       "      <td>12.100000</td>\n",
       "      <td>0.000000</td>\n",
       "      <td>9.400000</td>\n",
       "      <td>0.000000</td>\n",
       "      <td>0.000000</td>\n",
       "      <td>9.960000</td>\n",
       "    </tr>\n",
       "    <tr>\n",
       "      <th>4</th>\n",
       "      <td>18</td>\n",
       "      <td>2012</td>\n",
       "      <td>4</td>\n",
       "      <td>0</td>\n",
       "      <td>1</td>\n",
       "      <td>0</td>\n",
       "      <td>1</td>\n",
       "      <td>0</td>\n",
       "      <td>1</td>\n",
       "      <td>0</td>\n",
       "      <td>...</td>\n",
       "      <td>5.460000</td>\n",
       "      <td>5.460000</td>\n",
       "      <td>0.000000</td>\n",
       "      <td>0.000000</td>\n",
       "      <td>13.360000</td>\n",
       "      <td>0.000000</td>\n",
       "      <td>10.320000</td>\n",
       "      <td>0.000000</td>\n",
       "      <td>0.000000</td>\n",
       "      <td>10.280000</td>\n",
       "    </tr>\n",
       "    <tr>\n",
       "      <th>...</th>\n",
       "      <td>...</td>\n",
       "      <td>...</td>\n",
       "      <td>...</td>\n",
       "      <td>...</td>\n",
       "      <td>...</td>\n",
       "      <td>...</td>\n",
       "      <td>...</td>\n",
       "      <td>...</td>\n",
       "      <td>...</td>\n",
       "      <td>...</td>\n",
       "      <td>...</td>\n",
       "      <td>...</td>\n",
       "      <td>...</td>\n",
       "      <td>...</td>\n",
       "      <td>...</td>\n",
       "      <td>...</td>\n",
       "      <td>...</td>\n",
       "      <td>...</td>\n",
       "      <td>...</td>\n",
       "      <td>...</td>\n",
       "      <td>...</td>\n",
       "    </tr>\n",
       "    <tr>\n",
       "      <th>643685</th>\n",
       "      <td>1827860</td>\n",
       "      <td>2013</td>\n",
       "      <td>1</td>\n",
       "      <td>0</td>\n",
       "      <td>0</td>\n",
       "      <td>0</td>\n",
       "      <td>1</td>\n",
       "      <td>0</td>\n",
       "      <td>0</td>\n",
       "      <td>1</td>\n",
       "      <td>...</td>\n",
       "      <td>0.000000</td>\n",
       "      <td>0.000000</td>\n",
       "      <td>0.000000</td>\n",
       "      <td>0.000000</td>\n",
       "      <td>0.612903</td>\n",
       "      <td>0.000000</td>\n",
       "      <td>0.000000</td>\n",
       "      <td>0.000000</td>\n",
       "      <td>0.000000</td>\n",
       "      <td>0.000000</td>\n",
       "    </tr>\n",
       "    <tr>\n",
       "      <th>643686</th>\n",
       "      <td>1827860</td>\n",
       "      <td>2015</td>\n",
       "      <td>2</td>\n",
       "      <td>1</td>\n",
       "      <td>0</td>\n",
       "      <td>0</td>\n",
       "      <td>1</td>\n",
       "      <td>0</td>\n",
       "      <td>1</td>\n",
       "      <td>0</td>\n",
       "      <td>...</td>\n",
       "      <td>0.000000</td>\n",
       "      <td>0.000000</td>\n",
       "      <td>0.212121</td>\n",
       "      <td>0.212121</td>\n",
       "      <td>17.363636</td>\n",
       "      <td>0.000000</td>\n",
       "      <td>8.909091</td>\n",
       "      <td>0.000000</td>\n",
       "      <td>0.000000</td>\n",
       "      <td>7.121212</td>\n",
       "    </tr>\n",
       "    <tr>\n",
       "      <th>643687</th>\n",
       "      <td>1827860</td>\n",
       "      <td>2016</td>\n",
       "      <td>3</td>\n",
       "      <td>1</td>\n",
       "      <td>0</td>\n",
       "      <td>0</td>\n",
       "      <td>1</td>\n",
       "      <td>1</td>\n",
       "      <td>0</td>\n",
       "      <td>1</td>\n",
       "      <td>...</td>\n",
       "      <td>0.000000</td>\n",
       "      <td>0.000000</td>\n",
       "      <td>0.294118</td>\n",
       "      <td>0.205882</td>\n",
       "      <td>34.705882</td>\n",
       "      <td>0.000000</td>\n",
       "      <td>10.352941</td>\n",
       "      <td>1.705882</td>\n",
       "      <td>1.705882</td>\n",
       "      <td>23.911765</td>\n",
       "    </tr>\n",
       "    <tr>\n",
       "      <th>643688</th>\n",
       "      <td>1827869</td>\n",
       "      <td>2013</td>\n",
       "      <td>1</td>\n",
       "      <td>1</td>\n",
       "      <td>1</td>\n",
       "      <td>0</td>\n",
       "      <td>0</td>\n",
       "      <td>0</td>\n",
       "      <td>1</td>\n",
       "      <td>0</td>\n",
       "      <td>...</td>\n",
       "      <td>0.000000</td>\n",
       "      <td>0.000000</td>\n",
       "      <td>0.000000</td>\n",
       "      <td>0.000000</td>\n",
       "      <td>0.000000</td>\n",
       "      <td>0.525424</td>\n",
       "      <td>0.000000</td>\n",
       "      <td>0.000000</td>\n",
       "      <td>0.000000</td>\n",
       "      <td>0.000000</td>\n",
       "    </tr>\n",
       "    <tr>\n",
       "      <th>643689</th>\n",
       "      <td>1827869</td>\n",
       "      <td>2014</td>\n",
       "      <td>2</td>\n",
       "      <td>0</td>\n",
       "      <td>0</td>\n",
       "      <td>1</td>\n",
       "      <td>0</td>\n",
       "      <td>0</td>\n",
       "      <td>1</td>\n",
       "      <td>0</td>\n",
       "      <td>...</td>\n",
       "      <td>0.000000</td>\n",
       "      <td>0.666667</td>\n",
       "      <td>0.666667</td>\n",
       "      <td>0.000000</td>\n",
       "      <td>0.000000</td>\n",
       "      <td>8.950000</td>\n",
       "      <td>1.033333</td>\n",
       "      <td>0.083333</td>\n",
       "      <td>0.083333</td>\n",
       "      <td>8.133333</td>\n",
       "    </tr>\n",
       "  </tbody>\n",
       "</table>\n",
       "<p>643690 rows × 164 columns</p>\n",
       "</div>"
      ],
      "text/plain": [
       "         persnr  year  nrEntry  ltue  employed_before  receipt_leh_before  \\\n",
       "0             7  2015        1     0                1                   0   \n",
       "1            18  2010        1     1                0                   0   \n",
       "2            18  2011        2     0                1                   0   \n",
       "3            18  2012        3     0                1                   0   \n",
       "4            18  2012        4     0                1                   0   \n",
       "...         ...   ...      ...   ...              ...                 ...   \n",
       "643685  1827860  2013        1     0                0                   0   \n",
       "643686  1827860  2015        2     1                0                   0   \n",
       "643687  1827860  2016        3     1                0                   0   \n",
       "643688  1827869  2013        1     1                1                   0   \n",
       "643689  1827869  2014        2     0                0                   1   \n",
       "\n",
       "        receipt_lhg_before  se_before  ASU_notue_seeking_before  \\\n",
       "0                        0          0                         1   \n",
       "1                        0          0                         0   \n",
       "2                        1          0                         1   \n",
       "3                        1          0                         1   \n",
       "4                        1          0                         1   \n",
       "...                    ...        ...                       ...   \n",
       "643685                   1          0                         0   \n",
       "643686                   1          0                         1   \n",
       "643687                   1          1                         0   \n",
       "643688                   0          0                         1   \n",
       "643689                   0          0                         1   \n",
       "\n",
       "        ASU_other_before  ...  minijob_tot_dur_byage  ft_tot_dur_byage  \\\n",
       "0                      0  ...               0.000000          0.000000   \n",
       "1                      0  ...               0.000000          0.000000   \n",
       "2                      0  ...               2.714286          2.714286   \n",
       "3                      0  ...               4.200000          4.200000   \n",
       "4                      0  ...               5.460000          5.460000   \n",
       "...                  ...  ...                    ...               ...   \n",
       "643685                 1  ...               0.000000          0.000000   \n",
       "643686                 0  ...               0.000000          0.000000   \n",
       "643687                 1  ...               0.000000          0.000000   \n",
       "643688                 0  ...               0.000000          0.000000   \n",
       "643689                 0  ...               0.000000          0.666667   \n",
       "\n",
       "        befrist_tot_dur_byage  leih_tot_dur_byage  LHG_tot_dur_byage  \\\n",
       "0                   15.043478            0.000000           0.000000   \n",
       "1                    0.000000            0.000000           0.000000   \n",
       "2                    0.000000            0.000000          10.775510   \n",
       "3                    0.000000            0.000000          12.100000   \n",
       "4                    0.000000            0.000000          13.360000   \n",
       "...                       ...                 ...                ...   \n",
       "643685               0.000000            0.000000           0.612903   \n",
       "643686               0.212121            0.212121          17.363636   \n",
       "643687               0.294118            0.205882          34.705882   \n",
       "643688               0.000000            0.000000           0.000000   \n",
       "643689               0.666667            0.000000           0.000000   \n",
       "\n",
       "        LEH_tot_dur_byage  almp_tot_dur_byage  almp_aw_tot_dur_byage  \\\n",
       "0                0.000000            0.000000               0.000000   \n",
       "1                0.000000            0.000000               0.000000   \n",
       "2                0.000000            8.367347               0.000000   \n",
       "3                0.000000            9.400000               0.000000   \n",
       "4                0.000000           10.320000               0.000000   \n",
       "...                   ...                 ...                    ...   \n",
       "643685           0.000000            0.000000               0.000000   \n",
       "643686           0.000000            8.909091               0.000000   \n",
       "643687           0.000000           10.352941               1.705882   \n",
       "643688           0.525424            0.000000               0.000000   \n",
       "643689           8.950000            1.033333               0.083333   \n",
       "\n",
       "        se_tot_dur_byage  seeking1_tot_dur_byage  \n",
       "0               0.000000                0.000000  \n",
       "1               0.000000                0.000000  \n",
       "2               0.000000                9.836735  \n",
       "3               0.000000                9.960000  \n",
       "4               0.000000               10.280000  \n",
       "...                  ...                     ...  \n",
       "643685          0.000000                0.000000  \n",
       "643686          0.000000                7.121212  \n",
       "643687          1.705882               23.911765  \n",
       "643688          0.000000                0.000000  \n",
       "643689          0.083333                8.133333  \n",
       "\n",
       "[643690 rows x 164 columns]"
      ]
     },
     "execution_count": 10,
     "metadata": {},
     "output_type": "execute_result"
    }
   ],
   "source": [
    "siab"
   ]
  },
  {
   "cell_type": "markdown",
   "id": "1f87e805",
   "metadata": {
    "papermill": {
     "duration": 0.011971,
     "end_time": "2025-08-19T18:36:49.119647",
     "exception": false,
     "start_time": "2025-08-19T18:36:49.107676",
     "status": "completed"
    },
    "tags": []
   },
   "source": [
    "# Splitting Data and Setting Training Data Size"
   ]
  },
  {
   "cell_type": "code",
   "execution_count": 11,
   "id": "910ae358",
   "metadata": {
    "execution": {
     "iopub.execute_input": "2025-08-19T18:36:49.142758Z",
     "iopub.status.busy": "2025-08-19T18:36:49.142051Z",
     "iopub.status.idle": "2025-08-19T18:36:49.831793Z",
     "shell.execute_reply": "2025-08-19T18:36:49.830971Z"
    },
    "papermill": {
     "duration": 0.703854,
     "end_time": "2025-08-19T18:36:49.833590",
     "exception": false,
     "start_time": "2025-08-19T18:36:49.129736",
     "status": "completed"
    },
    "tags": []
   },
   "outputs": [],
   "source": [
    "from fairness_multiverse.universe import sample_by_year_size\n",
    "\n",
    "siab_train = sample_by_year_size(siab,\n",
    "                               training_year=universe[\"training_year\"],\n",
    "                               training_size=universe[\"training_size\"])"
   ]
  },
  {
   "cell_type": "code",
   "execution_count": 12,
   "id": "919c8ff5",
   "metadata": {
    "execution": {
     "iopub.execute_input": "2025-08-19T18:36:49.882900Z",
     "iopub.status.busy": "2025-08-19T18:36:49.882159Z",
     "iopub.status.idle": "2025-08-19T18:36:49.893303Z",
     "shell.execute_reply": "2025-08-19T18:36:49.891249Z"
    },
    "papermill": {
     "duration": 0.041603,
     "end_time": "2025-08-19T18:36:49.895371",
     "exception": false,
     "start_time": "2025-08-19T18:36:49.853768",
     "status": "completed"
    },
    "tags": []
   },
   "outputs": [
    {
     "data": {
      "text/plain": [
       "(5000, 164)"
      ]
     },
     "execution_count": 12,
     "metadata": {},
     "output_type": "execute_result"
    }
   ],
   "source": [
    "siab_train.shape"
   ]
  },
  {
   "cell_type": "code",
   "execution_count": 13,
   "id": "feb13bf4",
   "metadata": {
    "execution": {
     "iopub.execute_input": "2025-08-19T18:36:49.927317Z",
     "iopub.status.busy": "2025-08-19T18:36:49.926560Z",
     "iopub.status.idle": "2025-08-19T18:36:49.959679Z",
     "shell.execute_reply": "2025-08-19T18:36:49.958942Z"
    },
    "papermill": {
     "duration": 0.062218,
     "end_time": "2025-08-19T18:36:49.974753",
     "exception": false,
     "start_time": "2025-08-19T18:36:49.912535",
     "status": "completed"
    },
    "tags": []
   },
   "outputs": [
    {
     "data": {
      "text/plain": [
       "year\n",
       "2012    1667\n",
       "2013    1667\n",
       "2014    1666\n",
       "dtype: int64"
      ]
     },
     "metadata": {},
     "output_type": "display_data"
    }
   ],
   "source": [
    "display(siab_train.groupby(\"year\").size())"
   ]
  },
  {
   "cell_type": "code",
   "execution_count": 14,
   "id": "0997782f",
   "metadata": {
    "execution": {
     "iopub.execute_input": "2025-08-19T18:36:50.006468Z",
     "iopub.status.busy": "2025-08-19T18:36:50.005775Z",
     "iopub.status.idle": "2025-08-19T18:36:50.305843Z",
     "shell.execute_reply": "2025-08-19T18:36:50.304932Z"
    },
    "papermill": {
     "duration": 0.317869,
     "end_time": "2025-08-19T18:36:50.308412",
     "exception": false,
     "start_time": "2025-08-19T18:36:49.990543",
     "status": "completed"
    },
    "tags": []
   },
   "outputs": [],
   "source": [
    "#siab_train = siab_s[siab_s.year < 2015]\n",
    "siab_calib = siab[siab.year == 2015]\n",
    "siab_test = siab[siab.year == 2016]"
   ]
  },
  {
   "cell_type": "code",
   "execution_count": 15,
   "id": "2c1e4012",
   "metadata": {
    "execution": {
     "iopub.execute_input": "2025-08-19T18:36:50.344455Z",
     "iopub.status.busy": "2025-08-19T18:36:50.343789Z",
     "iopub.status.idle": "2025-08-19T18:36:50.351545Z",
     "shell.execute_reply": "2025-08-19T18:36:50.350234Z"
    },
    "papermill": {
     "duration": 0.027898,
     "end_time": "2025-08-19T18:36:50.353084",
     "exception": false,
     "start_time": "2025-08-19T18:36:50.325186",
     "status": "completed"
    },
    "tags": []
   },
   "outputs": [],
   "source": [
    "#siab_calib.shape"
   ]
  },
  {
   "cell_type": "code",
   "execution_count": 16,
   "id": "f66b54ca",
   "metadata": {
    "execution": {
     "iopub.execute_input": "2025-08-19T18:36:50.386293Z",
     "iopub.status.busy": "2025-08-19T18:36:50.384833Z",
     "iopub.status.idle": "2025-08-19T18:36:50.392516Z",
     "shell.execute_reply": "2025-08-19T18:36:50.391209Z"
    },
    "papermill": {
     "duration": 0.023031,
     "end_time": "2025-08-19T18:36:50.394201",
     "exception": false,
     "start_time": "2025-08-19T18:36:50.371170",
     "status": "completed"
    },
    "tags": []
   },
   "outputs": [],
   "source": [
    "#siab_test.shape"
   ]
  },
  {
   "cell_type": "code",
   "execution_count": 17,
   "id": "27e4384d",
   "metadata": {
    "execution": {
     "iopub.execute_input": "2025-08-19T18:36:50.423679Z",
     "iopub.status.busy": "2025-08-19T18:36:50.422262Z",
     "iopub.status.idle": "2025-08-19T18:36:50.435359Z",
     "shell.execute_reply": "2025-08-19T18:36:50.434169Z"
    },
    "papermill": {
     "duration": 0.02929,
     "end_time": "2025-08-19T18:36:50.437241",
     "exception": false,
     "start_time": "2025-08-19T18:36:50.407951",
     "status": "completed"
    },
    "tags": []
   },
   "outputs": [],
   "source": [
    "X_train = siab_train.iloc[:,4:164]\n",
    "y_train = siab_train.iloc[:, [3]]"
   ]
  },
  {
   "cell_type": "code",
   "execution_count": 18,
   "id": "08ee8389",
   "metadata": {
    "execution": {
     "iopub.execute_input": "2025-08-19T18:36:50.472402Z",
     "iopub.status.busy": "2025-08-19T18:36:50.464717Z",
     "iopub.status.idle": "2025-08-19T18:36:50.531497Z",
     "shell.execute_reply": "2025-08-19T18:36:50.530330Z"
    },
    "papermill": {
     "duration": 0.081561,
     "end_time": "2025-08-19T18:36:50.533401",
     "exception": false,
     "start_time": "2025-08-19T18:36:50.451840",
     "status": "completed"
    },
    "tags": []
   },
   "outputs": [],
   "source": [
    "X_calib = siab_calib.iloc[:,4:164]\n",
    "y_calib = siab_calib.iloc[:, [3]]"
   ]
  },
  {
   "cell_type": "code",
   "execution_count": 19,
   "id": "b7ff42e0",
   "metadata": {
    "execution": {
     "iopub.execute_input": "2025-08-19T18:36:50.557778Z",
     "iopub.status.busy": "2025-08-19T18:36:50.557177Z",
     "iopub.status.idle": "2025-08-19T18:36:50.623428Z",
     "shell.execute_reply": "2025-08-19T18:36:50.622487Z"
    },
    "papermill": {
     "duration": 0.080826,
     "end_time": "2025-08-19T18:36:50.625664",
     "exception": false,
     "start_time": "2025-08-19T18:36:50.544838",
     "status": "completed"
    },
    "tags": []
   },
   "outputs": [],
   "source": [
    "X_test = siab_test.iloc[:,4:164]\n",
    "y_true = siab_test.iloc[:, [3]]"
   ]
  },
  {
   "cell_type": "code",
   "execution_count": 20,
   "id": "0275101e",
   "metadata": {
    "execution": {
     "iopub.execute_input": "2025-08-19T18:36:50.826528Z",
     "iopub.status.busy": "2025-08-19T18:36:50.826080Z",
     "iopub.status.idle": "2025-08-19T18:36:50.931087Z",
     "shell.execute_reply": "2025-08-19T18:36:50.930051Z"
    },
    "papermill": {
     "duration": 0.293056,
     "end_time": "2025-08-19T18:36:50.933062",
     "exception": false,
     "start_time": "2025-08-19T18:36:50.640006",
     "status": "completed"
    },
    "tags": []
   },
   "outputs": [],
   "source": [
    "# Auxiliary data needed downstream in the pipeline\n",
    "\n",
    "org_train = X_train.copy()\n",
    "org_test = X_test.copy()\n",
    "org_calib = X_calib.copy()"
   ]
  },
  {
   "cell_type": "markdown",
   "id": "b461e618",
   "metadata": {
    "papermill": {
     "duration": 0.010764,
     "end_time": "2025-08-19T18:36:50.958690",
     "exception": false,
     "start_time": "2025-08-19T18:36:50.947926",
     "status": "completed"
    },
    "tags": []
   },
   "source": [
    "# Preprocessing Data"
   ]
  },
  {
   "cell_type": "code",
   "execution_count": 21,
   "id": "78e74c4b",
   "metadata": {
    "execution": {
     "iopub.execute_input": "2025-08-19T18:36:51.014492Z",
     "iopub.status.busy": "2025-08-19T18:36:51.014179Z",
     "iopub.status.idle": "2025-08-19T18:36:51.020047Z",
     "shell.execute_reply": "2025-08-19T18:36:51.019226Z"
    },
    "papermill": {
     "duration": 0.039685,
     "end_time": "2025-08-19T18:36:51.023974",
     "exception": false,
     "start_time": "2025-08-19T18:36:50.984289",
     "status": "completed"
    },
    "tags": []
   },
   "outputs": [],
   "source": [
    "# EXCLUDE PROTECTED FEATURES\n",
    "# --------------------------\n",
    "\n",
    "excluded_features = universe[\"exclude_features\"].split(\"-\")\n",
    "excluded_features_dictionary = {\n",
    "    \"nationality\": [\"maxdeutsch1\", \"maxdeutsch.Missing.\"],\n",
    "    \"sex\": [\"frau1\"],\n",
    "    \"age\": [\"age\"],\n",
    "}"
   ]
  },
  {
   "cell_type": "code",
   "execution_count": 22,
   "id": "f8e63555",
   "metadata": {
    "execution": {
     "iopub.execute_input": "2025-08-19T18:36:51.059142Z",
     "iopub.status.busy": "2025-08-19T18:36:51.057595Z",
     "iopub.status.idle": "2025-08-19T18:36:51.070478Z",
     "shell.execute_reply": "2025-08-19T18:36:51.069163Z"
    },
    "papermill": {
     "duration": 0.04261,
     "end_time": "2025-08-19T18:36:51.080048",
     "exception": false,
     "start_time": "2025-08-19T18:36:51.037438",
     "status": "completed"
    },
    "tags": []
   },
   "outputs": [],
   "source": [
    "excluded_features_columns = [\n",
    "    excluded_features_dictionary[f] for f in excluded_features if len(f) > 0 and f != \"none\"\n",
    "]"
   ]
  },
  {
   "cell_type": "code",
   "execution_count": 23,
   "id": "da781f7c",
   "metadata": {
    "execution": {
     "iopub.execute_input": "2025-08-19T18:36:51.105325Z",
     "iopub.status.busy": "2025-08-19T18:36:51.104725Z",
     "iopub.status.idle": "2025-08-19T18:36:51.330025Z",
     "shell.execute_reply": "2025-08-19T18:36:51.328586Z"
    },
    "papermill": {
     "duration": 0.239092,
     "end_time": "2025-08-19T18:36:51.332247",
     "exception": false,
     "start_time": "2025-08-19T18:36:51.093155",
     "status": "completed"
    },
    "tags": []
   },
   "outputs": [],
   "source": [
    "from fairness_multiverse.universe import flatten_once\n",
    "\n",
    "excluded_features_columns = flatten_once(excluded_features_columns)"
   ]
  },
  {
   "cell_type": "code",
   "execution_count": 24,
   "id": "37fef0f0",
   "metadata": {
    "execution": {
     "iopub.execute_input": "2025-08-19T18:36:51.382109Z",
     "iopub.status.busy": "2025-08-19T18:36:51.381598Z",
     "iopub.status.idle": "2025-08-19T18:36:51.611066Z",
     "shell.execute_reply": "2025-08-19T18:36:51.609407Z"
    },
    "papermill": {
     "duration": 0.25929,
     "end_time": "2025-08-19T18:36:51.612836",
     "exception": false,
     "start_time": "2025-08-19T18:36:51.353546",
     "status": "completed"
    },
    "tags": []
   },
   "outputs": [
    {
     "name": "stdout",
     "output_type": "stream",
     "text": [
      "Dropping features: ['age']\n"
     ]
    }
   ],
   "source": [
    "if len(excluded_features_columns) > 0:\n",
    "    print(f\"Dropping features: {excluded_features_columns}\")\n",
    "    X_train.drop(excluded_features_columns, axis=1, inplace=True)"
   ]
  },
  {
   "cell_type": "code",
   "execution_count": 25,
   "id": "d029e3e9",
   "metadata": {
    "execution": {
     "iopub.execute_input": "2025-08-19T18:36:51.652850Z",
     "iopub.status.busy": "2025-08-19T18:36:51.652155Z",
     "iopub.status.idle": "2025-08-19T18:36:51.763135Z",
     "shell.execute_reply": "2025-08-19T18:36:51.761967Z"
    },
    "papermill": {
     "duration": 0.14167,
     "end_time": "2025-08-19T18:36:51.769600",
     "exception": false,
     "start_time": "2025-08-19T18:36:51.627930",
     "status": "completed"
    },
    "tags": []
   },
   "outputs": [
    {
     "name": "stdout",
     "output_type": "stream",
     "text": [
      "Dropping features: ['age']\n"
     ]
    }
   ],
   "source": [
    "if len(excluded_features_columns) > 0:\n",
    "    print(f\"Dropping features: {excluded_features_columns}\")\n",
    "    X_test.drop(excluded_features_columns, axis=1, inplace=True)"
   ]
  },
  {
   "cell_type": "code",
   "execution_count": 26,
   "id": "01d571f0",
   "metadata": {
    "execution": {
     "iopub.execute_input": "2025-08-19T18:36:51.798519Z",
     "iopub.status.busy": "2025-08-19T18:36:51.798115Z",
     "iopub.status.idle": "2025-08-19T18:36:51.859850Z",
     "shell.execute_reply": "2025-08-19T18:36:51.858990Z"
    },
    "papermill": {
     "duration": 0.07558,
     "end_time": "2025-08-19T18:36:51.861397",
     "exception": false,
     "start_time": "2025-08-19T18:36:51.785817",
     "status": "completed"
    },
    "tags": []
   },
   "outputs": [
    {
     "name": "stdout",
     "output_type": "stream",
     "text": [
      "Dropping features: ['age']\n"
     ]
    }
   ],
   "source": [
    "if len(excluded_features_columns) > 0:\n",
    "    print(f\"Dropping features: {excluded_features_columns}\")\n",
    "    X_calib.drop(excluded_features_columns, axis=1, inplace=True)"
   ]
  },
  {
   "cell_type": "code",
   "execution_count": 27,
   "id": "3037356e",
   "metadata": {
    "execution": {
     "iopub.execute_input": "2025-08-19T18:36:51.904225Z",
     "iopub.status.busy": "2025-08-19T18:36:51.903138Z",
     "iopub.status.idle": "2025-08-19T18:36:51.910578Z",
     "shell.execute_reply": "2025-08-19T18:36:51.909400Z"
    },
    "papermill": {
     "duration": 0.039443,
     "end_time": "2025-08-19T18:36:51.914584",
     "exception": false,
     "start_time": "2025-08-19T18:36:51.875141",
     "status": "completed"
    },
    "tags": []
   },
   "outputs": [],
   "source": [
    "# EXCLUDE CERTAIN SUBGROUPS\n",
    "# -------------------------\n",
    "\n",
    "mode = universe.get(\"exclude_subgroups\", \"keep-all\") # Defaults to \"keep-all\" if the key is missing."
   ]
  },
  {
   "cell_type": "code",
   "execution_count": 28,
   "id": "9d1e63fd",
   "metadata": {
    "execution": {
     "iopub.execute_input": "2025-08-19T18:36:51.942688Z",
     "iopub.status.busy": "2025-08-19T18:36:51.942318Z",
     "iopub.status.idle": "2025-08-19T18:36:52.553521Z",
     "shell.execute_reply": "2025-08-19T18:36:52.552522Z"
    },
    "papermill": {
     "duration": 0.626033,
     "end_time": "2025-08-19T18:36:52.556178",
     "exception": false,
     "start_time": "2025-08-19T18:36:51.930145",
     "status": "completed"
    },
    "tags": []
   },
   "outputs": [],
   "source": [
    "if mode == \"keep-all\":\n",
    "    keep_mask = pd.Series(True, index=org_train.index)\n",
    "\n",
    "elif mode == \"drop-non-german\":\n",
    "    keep_mask = (org_train[\"maxdeutsch1\"] == 1) & (org_train[\"maxdeutsch.Missing.\"] == 0)\n",
    "\n",
    "else:\n",
    "    raise ValueError(f\"Unsupported mode for exclude_subgroups: {mode}\")"
   ]
  },
  {
   "cell_type": "code",
   "execution_count": 29,
   "id": "d3b65474",
   "metadata": {
    "execution": {
     "iopub.execute_input": "2025-08-19T18:36:52.591707Z",
     "iopub.status.busy": "2025-08-19T18:36:52.591280Z",
     "iopub.status.idle": "2025-08-19T18:36:52.597755Z",
     "shell.execute_reply": "2025-08-19T18:36:52.596833Z"
    },
    "papermill": {
     "duration": 0.023093,
     "end_time": "2025-08-19T18:36:52.599138",
     "exception": false,
     "start_time": "2025-08-19T18:36:52.576045",
     "status": "completed"
    },
    "tags": []
   },
   "outputs": [
    {
     "name": "stdout",
     "output_type": "stream",
     "text": [
      "Dropping 665 rows (13.30%) where mode='drop-non-german'\n"
     ]
    }
   ],
   "source": [
    "n_drop = (~keep_mask).sum() # Calculates how many rows are set to be dropped\n",
    "if n_drop > 0:\n",
    "    pct = n_drop / len(keep_mask) * 100\n",
    "    print(f\"Dropping {n_drop} rows ({pct:.2f}%) where mode='{mode}'\")"
   ]
  },
  {
   "cell_type": "code",
   "execution_count": 30,
   "id": "f44389b3",
   "metadata": {
    "execution": {
     "iopub.execute_input": "2025-08-19T18:36:52.624310Z",
     "iopub.status.busy": "2025-08-19T18:36:52.622068Z",
     "iopub.status.idle": "2025-08-19T18:36:52.643353Z",
     "shell.execute_reply": "2025-08-19T18:36:52.641952Z"
    },
    "papermill": {
     "duration": 0.034559,
     "end_time": "2025-08-19T18:36:52.645149",
     "exception": false,
     "start_time": "2025-08-19T18:36:52.610590",
     "status": "completed"
    },
    "tags": []
   },
   "outputs": [],
   "source": [
    "X_train = X_train[keep_mask]"
   ]
  },
  {
   "cell_type": "code",
   "execution_count": 31,
   "id": "ceca8c2a",
   "metadata": {
    "execution": {
     "iopub.execute_input": "2025-08-19T18:36:52.669466Z",
     "iopub.status.busy": "2025-08-19T18:36:52.668395Z",
     "iopub.status.idle": "2025-08-19T18:36:52.677143Z",
     "shell.execute_reply": "2025-08-19T18:36:52.675712Z"
    },
    "papermill": {
     "duration": 0.022165,
     "end_time": "2025-08-19T18:36:52.678521",
     "exception": false,
     "start_time": "2025-08-19T18:36:52.656356",
     "status": "completed"
    },
    "tags": []
   },
   "outputs": [],
   "source": [
    "y_train = y_train[keep_mask]"
   ]
  },
  {
   "cell_type": "markdown",
   "id": "04d31e2f",
   "metadata": {
    "papermill": {
     "duration": 0.010274,
     "end_time": "2025-08-19T18:36:52.702044",
     "exception": false,
     "start_time": "2025-08-19T18:36:52.691770",
     "status": "completed"
    },
    "tags": []
   },
   "source": [
    "# Model Training"
   ]
  },
  {
   "cell_type": "code",
   "execution_count": 32,
   "id": "db991733",
   "metadata": {
    "execution": {
     "iopub.execute_input": "2025-08-19T18:36:52.724633Z",
     "iopub.status.busy": "2025-08-19T18:36:52.724047Z",
     "iopub.status.idle": "2025-08-19T18:36:52.830978Z",
     "shell.execute_reply": "2025-08-19T18:36:52.829249Z"
    },
    "papermill": {
     "duration": 0.13214,
     "end_time": "2025-08-19T18:36:52.844526",
     "exception": false,
     "start_time": "2025-08-19T18:36:52.712386",
     "status": "completed"
    },
    "tags": []
   },
   "outputs": [],
   "source": [
    "from sklearn.linear_model import LogisticRegression\n",
    "from sklearn.ensemble import GradientBoostingClassifier, RandomForestClassifier\n",
    "\n",
    "if (universe[\"model\"] == \"logreg\"):\n",
    "    model = LogisticRegression() #penalty=\"none\", solver=\"newton-cg\", max_iter=1)\n",
    "elif (universe[\"model\"] == \"penalized_logreg\"):\n",
    "    model = LogisticRegression(penalty=\"l2\", C=0.1) #, solver=\"newton-cg\", max_iter=1)\n",
    "elif (universe[\"model\"] == \"rf\"):\n",
    "    model = RandomForestClassifier() # n_estimators=100, n_jobs=-1\n",
    "elif (universe[\"model\"] == \"gbm\"):\n",
    "    model = GradientBoostingClassifier()\n",
    "elif (universe[\"model\"] == \"elasticnet\"):\n",
    "    model = LogisticRegression(penalty = 'elasticnet', solver = 'saga', l1_ratio = 0.5) # max_iter=5000\n",
    "else:\n",
    "    raise \"Unsupported universe.model\""
   ]
  },
  {
   "cell_type": "code",
   "execution_count": 33,
   "id": "a4b5cd25",
   "metadata": {
    "execution": {
     "iopub.execute_input": "2025-08-19T18:36:52.875532Z",
     "iopub.status.busy": "2025-08-19T18:36:52.875124Z",
     "iopub.status.idle": "2025-08-19T18:36:52.880222Z",
     "shell.execute_reply": "2025-08-19T18:36:52.879405Z"
    },
    "papermill": {
     "duration": 0.021183,
     "end_time": "2025-08-19T18:36:52.883536",
     "exception": false,
     "start_time": "2025-08-19T18:36:52.862353",
     "status": "completed"
    },
    "tags": []
   },
   "outputs": [],
   "source": [
    "from sklearn.pipeline import Pipeline\n",
    "from sklearn.preprocessing import StandardScaler\n",
    "\n",
    "model = Pipeline([\n",
    "    #(\"continuous_processor\", continuous_processor),\n",
    "    #(\"categorical_preprocessor\", categorical_preprocessor),\n",
    "    (\"scale\", StandardScaler() if universe[\"scale\"] == \"scale\" else None), \n",
    "    (\"model\", model),\n",
    "])"
   ]
  },
  {
   "cell_type": "code",
   "execution_count": 34,
   "id": "283a904d",
   "metadata": {
    "execution": {
     "iopub.execute_input": "2025-08-19T18:36:52.924041Z",
     "iopub.status.busy": "2025-08-19T18:36:52.922938Z",
     "iopub.status.idle": "2025-08-19T18:36:53.085526Z",
     "shell.execute_reply": "2025-08-19T18:36:53.084631Z"
    },
    "papermill": {
     "duration": 0.179602,
     "end_time": "2025-08-19T18:36:53.088440",
     "exception": false,
     "start_time": "2025-08-19T18:36:52.908838",
     "status": "completed"
    },
    "tags": []
   },
   "outputs": [
    {
     "name": "stderr",
     "output_type": "stream",
     "text": [
      "/dss/dsshome1/0C/ra93lal2/.local/share/virtualenvs/CMA_Fairness_v2-3j10GkSs/lib/python3.10/site-packages/sklearn/linear_model/_logistic.py:444: ConvergenceWarning: lbfgs failed to converge (status=1):\n",
      "STOP: TOTAL NO. of ITERATIONS REACHED LIMIT.\n",
      "\n",
      "Increase the number of iterations (max_iter) or scale the data as shown in:\n",
      "    https://scikit-learn.org/stable/modules/preprocessing.html\n",
      "Please also refer to the documentation for alternative solver options:\n",
      "    https://scikit-learn.org/stable/modules/linear_model.html#logistic-regression\n",
      "  n_iter_i = _check_optimize_result(\n"
     ]
    },
    {
     "data": {
      "text/html": [
       "<style>#sk-container-id-1 {color: black;background-color: white;}#sk-container-id-1 pre{padding: 0;}#sk-container-id-1 div.sk-toggleable {background-color: white;}#sk-container-id-1 label.sk-toggleable__label {cursor: pointer;display: block;width: 100%;margin-bottom: 0;padding: 0.3em;box-sizing: border-box;text-align: center;}#sk-container-id-1 label.sk-toggleable__label-arrow:before {content: \"▸\";float: left;margin-right: 0.25em;color: #696969;}#sk-container-id-1 label.sk-toggleable__label-arrow:hover:before {color: black;}#sk-container-id-1 div.sk-estimator:hover label.sk-toggleable__label-arrow:before {color: black;}#sk-container-id-1 div.sk-toggleable__content {max-height: 0;max-width: 0;overflow: hidden;text-align: left;background-color: #f0f8ff;}#sk-container-id-1 div.sk-toggleable__content pre {margin: 0.2em;color: black;border-radius: 0.25em;background-color: #f0f8ff;}#sk-container-id-1 input.sk-toggleable__control:checked~div.sk-toggleable__content {max-height: 200px;max-width: 100%;overflow: auto;}#sk-container-id-1 input.sk-toggleable__control:checked~label.sk-toggleable__label-arrow:before {content: \"▾\";}#sk-container-id-1 div.sk-estimator input.sk-toggleable__control:checked~label.sk-toggleable__label {background-color: #d4ebff;}#sk-container-id-1 div.sk-label input.sk-toggleable__control:checked~label.sk-toggleable__label {background-color: #d4ebff;}#sk-container-id-1 input.sk-hidden--visually {border: 0;clip: rect(1px 1px 1px 1px);clip: rect(1px, 1px, 1px, 1px);height: 1px;margin: -1px;overflow: hidden;padding: 0;position: absolute;width: 1px;}#sk-container-id-1 div.sk-estimator {font-family: monospace;background-color: #f0f8ff;border: 1px dotted black;border-radius: 0.25em;box-sizing: border-box;margin-bottom: 0.5em;}#sk-container-id-1 div.sk-estimator:hover {background-color: #d4ebff;}#sk-container-id-1 div.sk-parallel-item::after {content: \"\";width: 100%;border-bottom: 1px solid gray;flex-grow: 1;}#sk-container-id-1 div.sk-label:hover label.sk-toggleable__label {background-color: #d4ebff;}#sk-container-id-1 div.sk-serial::before {content: \"\";position: absolute;border-left: 1px solid gray;box-sizing: border-box;top: 0;bottom: 0;left: 50%;z-index: 0;}#sk-container-id-1 div.sk-serial {display: flex;flex-direction: column;align-items: center;background-color: white;padding-right: 0.2em;padding-left: 0.2em;position: relative;}#sk-container-id-1 div.sk-item {position: relative;z-index: 1;}#sk-container-id-1 div.sk-parallel {display: flex;align-items: stretch;justify-content: center;background-color: white;position: relative;}#sk-container-id-1 div.sk-item::before, #sk-container-id-1 div.sk-parallel-item::before {content: \"\";position: absolute;border-left: 1px solid gray;box-sizing: border-box;top: 0;bottom: 0;left: 50%;z-index: -1;}#sk-container-id-1 div.sk-parallel-item {display: flex;flex-direction: column;z-index: 1;position: relative;background-color: white;}#sk-container-id-1 div.sk-parallel-item:first-child::after {align-self: flex-end;width: 50%;}#sk-container-id-1 div.sk-parallel-item:last-child::after {align-self: flex-start;width: 50%;}#sk-container-id-1 div.sk-parallel-item:only-child::after {width: 0;}#sk-container-id-1 div.sk-dashed-wrapped {border: 1px dashed gray;margin: 0 0.4em 0.5em 0.4em;box-sizing: border-box;padding-bottom: 0.4em;background-color: white;}#sk-container-id-1 div.sk-label label {font-family: monospace;font-weight: bold;display: inline-block;line-height: 1.2em;}#sk-container-id-1 div.sk-label-container {text-align: center;}#sk-container-id-1 div.sk-container {/* jupyter's `normalize.less` sets `[hidden] { display: none; }` but bootstrap.min.css set `[hidden] { display: none !important; }` so we also need the `!important` here to be able to override the default hidden behavior on the sphinx rendered scikit-learn.org. See: https://github.com/scikit-learn/scikit-learn/issues/21755 */display: inline-block !important;position: relative;}#sk-container-id-1 div.sk-text-repr-fallback {display: none;}</style><div id=\"sk-container-id-1\" class=\"sk-top-container\"><div class=\"sk-text-repr-fallback\"><pre>Pipeline(steps=[(&#x27;scale&#x27;, None), (&#x27;model&#x27;, LogisticRegression(C=0.1))])</pre><b>In a Jupyter environment, please rerun this cell to show the HTML representation or trust the notebook. <br />On GitHub, the HTML representation is unable to render, please try loading this page with nbviewer.org.</b></div><div class=\"sk-container\" hidden><div class=\"sk-item sk-dashed-wrapped\"><div class=\"sk-label-container\"><div class=\"sk-label sk-toggleable\"><input class=\"sk-toggleable__control sk-hidden--visually\" id=\"sk-estimator-id-1\" type=\"checkbox\" ><label for=\"sk-estimator-id-1\" class=\"sk-toggleable__label sk-toggleable__label-arrow\">Pipeline</label><div class=\"sk-toggleable__content\"><pre>Pipeline(steps=[(&#x27;scale&#x27;, None), (&#x27;model&#x27;, LogisticRegression(C=0.1))])</pre></div></div></div><div class=\"sk-serial\"><div class=\"sk-item\"><div class=\"sk-estimator sk-toggleable\"><input class=\"sk-toggleable__control sk-hidden--visually\" id=\"sk-estimator-id-2\" type=\"checkbox\" ><label for=\"sk-estimator-id-2\" class=\"sk-toggleable__label sk-toggleable__label-arrow\">None</label><div class=\"sk-toggleable__content\"><pre>None</pre></div></div></div><div class=\"sk-item\"><div class=\"sk-estimator sk-toggleable\"><input class=\"sk-toggleable__control sk-hidden--visually\" id=\"sk-estimator-id-3\" type=\"checkbox\" ><label for=\"sk-estimator-id-3\" class=\"sk-toggleable__label sk-toggleable__label-arrow\">LogisticRegression</label><div class=\"sk-toggleable__content\"><pre>LogisticRegression(C=0.1)</pre></div></div></div></div></div></div></div>"
      ],
      "text/plain": [
       "Pipeline(steps=[('scale', None), ('model', LogisticRegression(C=0.1))])"
      ]
     },
     "execution_count": 34,
     "metadata": {},
     "output_type": "execute_result"
    }
   ],
   "source": [
    "model.fit(X_train, y_train.values.ravel())"
   ]
  },
  {
   "cell_type": "code",
   "execution_count": 35,
   "id": "6e15e313",
   "metadata": {
    "execution": {
     "iopub.execute_input": "2025-08-19T18:36:53.127195Z",
     "iopub.status.busy": "2025-08-19T18:36:53.126809Z",
     "iopub.status.idle": "2025-08-19T18:36:53.226210Z",
     "shell.execute_reply": "2025-08-19T18:36:53.225412Z"
    },
    "papermill": {
     "duration": 0.121721,
     "end_time": "2025-08-19T18:36:53.228259",
     "exception": false,
     "start_time": "2025-08-19T18:36:53.106538",
     "status": "completed"
    },
    "tags": []
   },
   "outputs": [
    {
     "data": {
      "text/plain": [
       "0.859034667261175"
      ]
     },
     "execution_count": 35,
     "metadata": {},
     "output_type": "execute_result"
    }
   ],
   "source": [
    "from fairness_multiverse.universe import predict_w_threshold\n",
    "\n",
    "probs_test = model.predict_proba(X_test)\n",
    "\n",
    "'''\n",
    "Below code returns a boolean array (or binary 0/1 array depending on how it’s used) where each element \n",
    "is True if the probability of class 1 is greater than or equal to the threshold, and False otherwise.\n",
    "'''\n",
    "y_pred_default = predict_w_threshold(probs_test, 0.5)\n",
    "\n",
    "from sklearn.metrics import accuracy_score\n",
    "\n",
    "# Naive prediction\n",
    "accuracy_score(y_true = y_true, y_pred = y_pred_default)"
   ]
  },
  {
   "cell_type": "code",
   "execution_count": 36,
   "id": "6f14067c",
   "metadata": {
    "execution": {
     "iopub.execute_input": "2025-08-19T18:36:53.274704Z",
     "iopub.status.busy": "2025-08-19T18:36:53.273900Z",
     "iopub.status.idle": "2025-08-19T18:36:53.361569Z",
     "shell.execute_reply": "2025-08-19T18:36:53.360687Z"
    },
    "papermill": {
     "duration": 0.102551,
     "end_time": "2025-08-19T18:36:53.364136",
     "exception": false,
     "start_time": "2025-08-19T18:36:53.261585",
     "status": "completed"
    },
    "tags": []
   },
   "outputs": [
    {
     "data": {
      "text/plain": [
       "array([0, 0, 0, ..., 0, 0, 0])"
      ]
     },
     "execution_count": 36,
     "metadata": {},
     "output_type": "execute_result"
    }
   ],
   "source": [
    "model.predict(X_test)"
   ]
  },
  {
   "cell_type": "markdown",
   "id": "3759920c",
   "metadata": {
    "papermill": {
     "duration": 0.012578,
     "end_time": "2025-08-19T18:36:53.400777",
     "exception": false,
     "start_time": "2025-08-19T18:36:53.388199",
     "status": "completed"
    },
    "tags": []
   },
   "source": [
    "# Conformal Prediction"
   ]
  },
  {
   "cell_type": "code",
   "execution_count": 37,
   "id": "14b27f59",
   "metadata": {
    "execution": {
     "iopub.execute_input": "2025-08-19T18:36:53.426127Z",
     "iopub.status.busy": "2025-08-19T18:36:53.424638Z",
     "iopub.status.idle": "2025-08-19T18:36:53.433453Z",
     "shell.execute_reply": "2025-08-19T18:36:53.432053Z"
    },
    "papermill": {
     "duration": 0.023518,
     "end_time": "2025-08-19T18:36:53.435442",
     "exception": false,
     "start_time": "2025-08-19T18:36:53.411924",
     "status": "completed"
    },
    "tags": []
   },
   "outputs": [],
   "source": [
    "# Miscoverage level for conformal prediction (10% allowed error rate => 90% target coverage)\n",
    "alpha = 0.1"
   ]
  },
  {
   "cell_type": "code",
   "execution_count": 38,
   "id": "59102472",
   "metadata": {
    "execution": {
     "iopub.execute_input": "2025-08-19T18:36:53.464699Z",
     "iopub.status.busy": "2025-08-19T18:36:53.463469Z",
     "iopub.status.idle": "2025-08-19T18:36:53.558501Z",
     "shell.execute_reply": "2025-08-19T18:36:53.557597Z"
    },
    "papermill": {
     "duration": 0.11136,
     "end_time": "2025-08-19T18:36:53.561398",
     "exception": false,
     "start_time": "2025-08-19T18:36:53.450038",
     "status": "completed"
    },
    "tags": []
   },
   "outputs": [],
   "source": [
    "probs_calib = model.predict_proba(X_calib)"
   ]
  },
  {
   "cell_type": "code",
   "execution_count": 39,
   "id": "a792d4dd",
   "metadata": {
    "execution": {
     "iopub.execute_input": "2025-08-19T18:36:53.602497Z",
     "iopub.status.busy": "2025-08-19T18:36:53.601419Z",
     "iopub.status.idle": "2025-08-19T18:36:53.611185Z",
     "shell.execute_reply": "2025-08-19T18:36:53.609864Z"
    },
    "papermill": {
     "duration": 0.030935,
     "end_time": "2025-08-19T18:36:53.617891",
     "exception": false,
     "start_time": "2025-08-19T18:36:53.586956",
     "status": "completed"
    },
    "tags": []
   },
   "outputs": [],
   "source": [
    "y_calib = y_calib.values.ravel().astype(int)"
   ]
  },
  {
   "cell_type": "code",
   "execution_count": 40,
   "id": "650fd033",
   "metadata": {
    "execution": {
     "iopub.execute_input": "2025-08-19T18:36:53.667885Z",
     "iopub.status.busy": "2025-08-19T18:36:53.667405Z",
     "iopub.status.idle": "2025-08-19T18:36:53.676045Z",
     "shell.execute_reply": "2025-08-19T18:36:53.674914Z"
    },
    "papermill": {
     "duration": 0.04175,
     "end_time": "2025-08-19T18:36:53.679206",
     "exception": false,
     "start_time": "2025-08-19T18:36:53.637456",
     "status": "completed"
    },
    "tags": []
   },
   "outputs": [],
   "source": [
    "from fairness_multiverse.conformal import compute_nc_scores\n",
    "\n",
    "# Compute nonconformity scores on calibration set (1 - probability of true class)\n",
    "nc_scores = compute_nc_scores(probs_calib, y_calib)"
   ]
  },
  {
   "cell_type": "code",
   "execution_count": 41,
   "id": "28ada44c",
   "metadata": {
    "execution": {
     "iopub.execute_input": "2025-08-19T18:36:53.715839Z",
     "iopub.status.busy": "2025-08-19T18:36:53.714183Z",
     "iopub.status.idle": "2025-08-19T18:36:53.725753Z",
     "shell.execute_reply": "2025-08-19T18:36:53.724888Z"
    },
    "papermill": {
     "duration": 0.026297,
     "end_time": "2025-08-19T18:36:53.727209",
     "exception": false,
     "start_time": "2025-08-19T18:36:53.700912",
     "status": "completed"
    },
    "tags": []
   },
   "outputs": [],
   "source": [
    "from fairness_multiverse.conformal import find_threshold\n",
    "\n",
    "# Find conformal threshold q_hat for the given alpha (split conformal method)\n",
    "q_hat = find_threshold(nc_scores, alpha)"
   ]
  },
  {
   "cell_type": "code",
   "execution_count": 42,
   "id": "df56469e",
   "metadata": {
    "execution": {
     "iopub.execute_input": "2025-08-19T18:36:53.753935Z",
     "iopub.status.busy": "2025-08-19T18:36:53.753556Z",
     "iopub.status.idle": "2025-08-19T18:36:53.759613Z",
     "shell.execute_reply": "2025-08-19T18:36:53.758699Z"
    },
    "papermill": {
     "duration": 0.019751,
     "end_time": "2025-08-19T18:36:53.761034",
     "exception": false,
     "start_time": "2025-08-19T18:36:53.741283",
     "status": "completed"
    },
    "tags": []
   },
   "outputs": [
    {
     "data": {
      "text/plain": [
       "0.6542874122957234"
      ]
     },
     "execution_count": 42,
     "metadata": {},
     "output_type": "execute_result"
    }
   ],
   "source": [
    "q_hat"
   ]
  },
  {
   "cell_type": "code",
   "execution_count": 43,
   "id": "aa1f5faa",
   "metadata": {
    "execution": {
     "iopub.execute_input": "2025-08-19T18:36:53.785340Z",
     "iopub.status.busy": "2025-08-19T18:36:53.784989Z",
     "iopub.status.idle": "2025-08-19T18:36:54.334342Z",
     "shell.execute_reply": "2025-08-19T18:36:54.333114Z"
    },
    "papermill": {
     "duration": 0.563087,
     "end_time": "2025-08-19T18:36:54.335905",
     "exception": false,
     "start_time": "2025-08-19T18:36:53.772818",
     "status": "completed"
    },
    "tags": []
   },
   "outputs": [],
   "source": [
    "from fairness_multiverse.conformal import predict_conformal_sets\n",
    "\n",
    "# Generate prediction sets for each test example\n",
    "pred_sets = predict_conformal_sets(model, X_test, q_hat)"
   ]
  },
  {
   "cell_type": "code",
   "execution_count": 44,
   "id": "97f67a6b",
   "metadata": {
    "execution": {
     "iopub.execute_input": "2025-08-19T18:36:54.361154Z",
     "iopub.status.busy": "2025-08-19T18:36:54.360728Z",
     "iopub.status.idle": "2025-08-19T18:36:54.366101Z",
     "shell.execute_reply": "2025-08-19T18:36:54.365541Z"
    },
    "papermill": {
     "duration": 0.019133,
     "end_time": "2025-08-19T18:36:54.367218",
     "exception": false,
     "start_time": "2025-08-19T18:36:54.348085",
     "status": "completed"
    },
    "tags": []
   },
   "outputs": [],
   "source": [
    "y_true = y_true.squeeze()"
   ]
  },
  {
   "cell_type": "code",
   "execution_count": 45,
   "id": "e700e9a7",
   "metadata": {
    "execution": {
     "iopub.execute_input": "2025-08-19T18:36:54.393747Z",
     "iopub.status.busy": "2025-08-19T18:36:54.392586Z",
     "iopub.status.idle": "2025-08-19T18:36:54.901120Z",
     "shell.execute_reply": "2025-08-19T18:36:54.899852Z"
    },
    "papermill": {
     "duration": 0.52274,
     "end_time": "2025-08-19T18:36:54.902523",
     "exception": false,
     "start_time": "2025-08-19T18:36:54.379783",
     "status": "completed"
    },
    "tags": []
   },
   "outputs": [],
   "source": [
    "from fairness_multiverse.conformal import evaluate_sets\n",
    "\n",
    "# Evaluate coverage and average set size on test data\n",
    "metrics = evaluate_sets(pred_sets, y_true)"
   ]
  },
  {
   "cell_type": "markdown",
   "id": "efbacec0",
   "metadata": {
    "papermill": {
     "duration": 0.011622,
     "end_time": "2025-08-19T18:36:54.926349",
     "exception": false,
     "start_time": "2025-08-19T18:36:54.914727",
     "status": "completed"
    },
    "tags": []
   },
   "source": [
    "# CP Metrics"
   ]
  },
  {
   "cell_type": "code",
   "execution_count": 46,
   "id": "9de55fb1",
   "metadata": {
    "execution": {
     "iopub.execute_input": "2025-08-19T18:36:54.951776Z",
     "iopub.status.busy": "2025-08-19T18:36:54.951068Z",
     "iopub.status.idle": "2025-08-19T18:36:54.961406Z",
     "shell.execute_reply": "2025-08-19T18:36:54.960422Z"
    },
    "papermill": {
     "duration": 0.025685,
     "end_time": "2025-08-19T18:36:54.963538",
     "exception": false,
     "start_time": "2025-08-19T18:36:54.937853",
     "status": "completed"
    },
    "tags": []
   },
   "outputs": [
    {
     "data": {
      "text/plain": [
       "{'coverage': 0.9127744955969235, 'avg_size': 1.2486010478207559}"
      ]
     },
     "execution_count": 46,
     "metadata": {},
     "output_type": "execute_result"
    }
   ],
   "source": [
    "metrics"
   ]
  },
  {
   "cell_type": "code",
   "execution_count": 47,
   "id": "64c340a1",
   "metadata": {
    "execution": {
     "iopub.execute_input": "2025-08-19T18:36:55.000204Z",
     "iopub.status.busy": "2025-08-19T18:36:54.999199Z",
     "iopub.status.idle": "2025-08-19T18:36:55.008358Z",
     "shell.execute_reply": "2025-08-19T18:36:55.007258Z"
    },
    "papermill": {
     "duration": 0.039464,
     "end_time": "2025-08-19T18:36:55.016840",
     "exception": false,
     "start_time": "2025-08-19T18:36:54.977376",
     "status": "completed"
    },
    "tags": []
   },
   "outputs": [],
   "source": [
    "example_universe = universe.copy()\n",
    "universe_training_year = example_universe.get(\"training_year\")\n",
    "universe_training_size = example_universe.get(\"training_size\")\n",
    "universe_scale = example_universe.get(\"scale\")\n",
    "universe_model = example_universe.get(\"model\")\n",
    "universe_exclude_features = example_universe.get(\"exclude_features\")\n",
    "universe_exclude_subgroups = example_universe.get(\"exclude_subgroups\")"
   ]
  },
  {
   "cell_type": "code",
   "execution_count": 48,
   "id": "dbb53cb4",
   "metadata": {
    "execution": {
     "iopub.execute_input": "2025-08-19T18:36:55.043925Z",
     "iopub.status.busy": "2025-08-19T18:36:55.043540Z",
     "iopub.status.idle": "2025-08-19T18:36:55.048751Z",
     "shell.execute_reply": "2025-08-19T18:36:55.048039Z"
    },
    "papermill": {
     "duration": 0.019249,
     "end_time": "2025-08-19T18:36:55.050051",
     "exception": false,
     "start_time": "2025-08-19T18:36:55.030802",
     "status": "completed"
    },
    "tags": []
   },
   "outputs": [],
   "source": [
    "cp_metrics_dict = {\n",
    "    \"universe_id\": [universe_id],\n",
    "    \"universe_training_year\": [universe_training_year],\n",
    "    \"universe_training_size\": [universe_training_size],\n",
    "    \"universe_scale\": [universe_scale],\n",
    "    \"universe_model\": [universe_model],\n",
    "    \"universe_exclude_features\": [universe_exclude_features],\n",
    "    \"universe_exclude_subgroups\": [universe_exclude_subgroups],\n",
    "    \"q_hat\": [q_hat],\n",
    "    \"coverage\": [metrics[\"coverage\"]],\n",
    "    \"avg_size\": [metrics[\"avg_size\"]],\n",
    "}"
   ]
  },
  {
   "cell_type": "code",
   "execution_count": 49,
   "id": "0d70d4b2",
   "metadata": {
    "execution": {
     "iopub.execute_input": "2025-08-19T18:36:55.096099Z",
     "iopub.status.busy": "2025-08-19T18:36:55.095688Z",
     "iopub.status.idle": "2025-08-19T18:36:55.102716Z",
     "shell.execute_reply": "2025-08-19T18:36:55.101974Z"
    },
    "papermill": {
     "duration": 0.036177,
     "end_time": "2025-08-19T18:36:55.103980",
     "exception": false,
     "start_time": "2025-08-19T18:36:55.067803",
     "status": "completed"
    },
    "tags": []
   },
   "outputs": [],
   "source": [
    "cp_metrics_df = pd.DataFrame(cp_metrics_dict)"
   ]
  },
  {
   "cell_type": "code",
   "execution_count": 50,
   "id": "b494403c",
   "metadata": {
    "execution": {
     "iopub.execute_input": "2025-08-19T18:36:55.132364Z",
     "iopub.status.busy": "2025-08-19T18:36:55.131980Z",
     "iopub.status.idle": "2025-08-19T18:36:55.147094Z",
     "shell.execute_reply": "2025-08-19T18:36:55.146048Z"
    },
    "papermill": {
     "duration": 0.039593,
     "end_time": "2025-08-19T18:36:55.158476",
     "exception": false,
     "start_time": "2025-08-19T18:36:55.118883",
     "status": "completed"
    },
    "tags": []
   },
   "outputs": [
    {
     "data": {
      "text/html": [
       "<div>\n",
       "<style scoped>\n",
       "    .dataframe tbody tr th:only-of-type {\n",
       "        vertical-align: middle;\n",
       "    }\n",
       "\n",
       "    .dataframe tbody tr th {\n",
       "        vertical-align: top;\n",
       "    }\n",
       "\n",
       "    .dataframe thead th {\n",
       "        text-align: right;\n",
       "    }\n",
       "</style>\n",
       "<table border=\"1\" class=\"dataframe\">\n",
       "  <thead>\n",
       "    <tr style=\"text-align: right;\">\n",
       "      <th></th>\n",
       "      <th>universe_id</th>\n",
       "      <th>universe_training_year</th>\n",
       "      <th>universe_training_size</th>\n",
       "      <th>universe_scale</th>\n",
       "      <th>universe_model</th>\n",
       "      <th>universe_exclude_features</th>\n",
       "      <th>universe_exclude_subgroups</th>\n",
       "      <th>q_hat</th>\n",
       "      <th>coverage</th>\n",
       "      <th>avg_size</th>\n",
       "    </tr>\n",
       "  </thead>\n",
       "  <tbody>\n",
       "    <tr>\n",
       "      <th>0</th>\n",
       "      <td>5d9b74bd734d2ac9872ce3b2ecc560f0</td>\n",
       "      <td>2012_14</td>\n",
       "      <td>5k</td>\n",
       "      <td>do-not-scale</td>\n",
       "      <td>penalized_logreg</td>\n",
       "      <td>age</td>\n",
       "      <td>drop-non-german</td>\n",
       "      <td>0.654287</td>\n",
       "      <td>0.912774</td>\n",
       "      <td>1.248601</td>\n",
       "    </tr>\n",
       "  </tbody>\n",
       "</table>\n",
       "</div>"
      ],
      "text/plain": [
       "                        universe_id universe_training_year  \\\n",
       "0  5d9b74bd734d2ac9872ce3b2ecc560f0                2012_14   \n",
       "\n",
       "  universe_training_size universe_scale    universe_model  \\\n",
       "0                     5k   do-not-scale  penalized_logreg   \n",
       "\n",
       "  universe_exclude_features universe_exclude_subgroups     q_hat  coverage  \\\n",
       "0                       age            drop-non-german  0.654287  0.912774   \n",
       "\n",
       "   avg_size  \n",
       "0  1.248601  "
      ]
     },
     "execution_count": 50,
     "metadata": {},
     "output_type": "execute_result"
    }
   ],
   "source": [
    "cp_metrics_df"
   ]
  },
  {
   "cell_type": "markdown",
   "id": "ed608b0b",
   "metadata": {
    "papermill": {
     "duration": 0.012163,
     "end_time": "2025-08-19T18:36:55.183621",
     "exception": false,
     "start_time": "2025-08-19T18:36:55.171458",
     "status": "completed"
    },
    "tags": []
   },
   "source": [
    "Conditional coverage & looking at subgroups"
   ]
  },
  {
   "cell_type": "code",
   "execution_count": 51,
   "id": "8968c366",
   "metadata": {
    "execution": {
     "iopub.execute_input": "2025-08-19T18:36:55.210783Z",
     "iopub.status.busy": "2025-08-19T18:36:55.209622Z",
     "iopub.status.idle": "2025-08-19T18:36:55.495565Z",
     "shell.execute_reply": "2025-08-19T18:36:55.494581Z"
    },
    "papermill": {
     "duration": 0.302696,
     "end_time": "2025-08-19T18:36:55.498537",
     "exception": false,
     "start_time": "2025-08-19T18:36:55.195841",
     "status": "completed"
    },
    "tags": []
   },
   "outputs": [],
   "source": [
    "from fairness_multiverse.conformal import build_cp_groups\n",
    "\n",
    "cp_groups_df = build_cp_groups(pred_sets, y_true, X_test.index, org_test)"
   ]
  },
  {
   "cell_type": "code",
   "execution_count": 52,
   "id": "292ddabf",
   "metadata": {
    "execution": {
     "iopub.execute_input": "2025-08-19T18:36:55.545922Z",
     "iopub.status.busy": "2025-08-19T18:36:55.545429Z",
     "iopub.status.idle": "2025-08-19T18:36:56.433182Z",
     "shell.execute_reply": "2025-08-19T18:36:56.431988Z"
    },
    "papermill": {
     "duration": 0.909467,
     "end_time": "2025-08-19T18:36:56.434853",
     "exception": false,
     "start_time": "2025-08-19T18:36:55.525386",
     "status": "completed"
    },
    "tags": []
   },
   "outputs": [],
   "source": [
    "# Define covered = 1 if true_label is in the predicted set\n",
    "cp_groups_df['covered'] = cp_groups_df.apply(\n",
    "    lambda r: int(r['true_label'] in r['pred_set']),\n",
    "    axis=1\n",
    ")"
   ]
  },
  {
   "cell_type": "code",
   "execution_count": 53,
   "id": "3a261692",
   "metadata": {
    "execution": {
     "iopub.execute_input": "2025-08-19T18:36:56.471012Z",
     "iopub.status.busy": "2025-08-19T18:36:56.470505Z",
     "iopub.status.idle": "2025-08-19T18:36:56.484739Z",
     "shell.execute_reply": "2025-08-19T18:36:56.482736Z"
    },
    "papermill": {
     "duration": 0.037991,
     "end_time": "2025-08-19T18:36:56.486048",
     "exception": false,
     "start_time": "2025-08-19T18:36:56.448057",
     "status": "completed"
    },
    "tags": []
   },
   "outputs": [],
   "source": [
    "subgroups = ['frau1','nongerman','nongerman_male','nongerman_female']\n",
    "\n",
    "# Conditional coverage for subgroup==1\n",
    "cond_coverage = {\n",
    "    g: cp_groups_df.loc[cp_groups_df[g]==1, 'covered'].mean()\n",
    "    for g in subgroups\n",
    "}"
   ]
  },
  {
   "cell_type": "code",
   "execution_count": 54,
   "id": "894fd600",
   "metadata": {
    "execution": {
     "iopub.execute_input": "2025-08-19T18:36:56.521943Z",
     "iopub.status.busy": "2025-08-19T18:36:56.521521Z",
     "iopub.status.idle": "2025-08-19T18:36:56.527464Z",
     "shell.execute_reply": "2025-08-19T18:36:56.526815Z"
    },
    "papermill": {
     "duration": 0.021729,
     "end_time": "2025-08-19T18:36:56.528872",
     "exception": false,
     "start_time": "2025-08-19T18:36:56.507143",
     "status": "completed"
    },
    "tags": []
   },
   "outputs": [
    {
     "data": {
      "text/plain": [
       "{'frau1': 0.9113088017252999,\n",
       " 'nongerman': 0.9610958288890137,\n",
       " 'nongerman_male': 0.9675763307214267,\n",
       " 'nongerman_female': 0.9503725782414307}"
      ]
     },
     "execution_count": 54,
     "metadata": {},
     "output_type": "execute_result"
    }
   ],
   "source": [
    "cond_coverage"
   ]
  },
  {
   "cell_type": "code",
   "execution_count": 55,
   "id": "942895c7",
   "metadata": {
    "execution": {
     "iopub.execute_input": "2025-08-19T18:36:56.556947Z",
     "iopub.status.busy": "2025-08-19T18:36:56.556624Z",
     "iopub.status.idle": "2025-08-19T18:36:56.562495Z",
     "shell.execute_reply": "2025-08-19T18:36:56.561842Z"
    },
    "papermill": {
     "duration": 0.020238,
     "end_time": "2025-08-19T18:36:56.563709",
     "exception": false,
     "start_time": "2025-08-19T18:36:56.543471",
     "status": "completed"
    },
    "tags": []
   },
   "outputs": [],
   "source": [
    "for subgroup, cov in cond_coverage.items():\n",
    "    cp_metrics_df[f\"cov_{subgroup}\"] = cov"
   ]
  },
  {
   "cell_type": "code",
   "execution_count": 56,
   "id": "3970120f",
   "metadata": {
    "execution": {
     "iopub.execute_input": "2025-08-19T18:36:56.589768Z",
     "iopub.status.busy": "2025-08-19T18:36:56.589328Z",
     "iopub.status.idle": "2025-08-19T18:36:56.604948Z",
     "shell.execute_reply": "2025-08-19T18:36:56.604098Z"
    },
    "papermill": {
     "duration": 0.030188,
     "end_time": "2025-08-19T18:36:56.606200",
     "exception": false,
     "start_time": "2025-08-19T18:36:56.576012",
     "status": "completed"
    },
    "tags": []
   },
   "outputs": [
    {
     "data": {
      "text/html": [
       "<div>\n",
       "<style scoped>\n",
       "    .dataframe tbody tr th:only-of-type {\n",
       "        vertical-align: middle;\n",
       "    }\n",
       "\n",
       "    .dataframe tbody tr th {\n",
       "        vertical-align: top;\n",
       "    }\n",
       "\n",
       "    .dataframe thead th {\n",
       "        text-align: right;\n",
       "    }\n",
       "</style>\n",
       "<table border=\"1\" class=\"dataframe\">\n",
       "  <thead>\n",
       "    <tr style=\"text-align: right;\">\n",
       "      <th></th>\n",
       "      <th>universe_id</th>\n",
       "      <th>universe_training_year</th>\n",
       "      <th>universe_training_size</th>\n",
       "      <th>universe_scale</th>\n",
       "      <th>universe_model</th>\n",
       "      <th>universe_exclude_features</th>\n",
       "      <th>universe_exclude_subgroups</th>\n",
       "      <th>q_hat</th>\n",
       "      <th>coverage</th>\n",
       "      <th>avg_size</th>\n",
       "      <th>cov_frau1</th>\n",
       "      <th>cov_nongerman</th>\n",
       "      <th>cov_nongerman_male</th>\n",
       "      <th>cov_nongerman_female</th>\n",
       "    </tr>\n",
       "  </thead>\n",
       "  <tbody>\n",
       "    <tr>\n",
       "      <th>0</th>\n",
       "      <td>5d9b74bd734d2ac9872ce3b2ecc560f0</td>\n",
       "      <td>2012_14</td>\n",
       "      <td>5k</td>\n",
       "      <td>do-not-scale</td>\n",
       "      <td>penalized_logreg</td>\n",
       "      <td>age</td>\n",
       "      <td>drop-non-german</td>\n",
       "      <td>0.654287</td>\n",
       "      <td>0.912774</td>\n",
       "      <td>1.248601</td>\n",
       "      <td>0.911309</td>\n",
       "      <td>0.961096</td>\n",
       "      <td>0.967576</td>\n",
       "      <td>0.950373</td>\n",
       "    </tr>\n",
       "  </tbody>\n",
       "</table>\n",
       "</div>"
      ],
      "text/plain": [
       "                        universe_id universe_training_year  \\\n",
       "0  5d9b74bd734d2ac9872ce3b2ecc560f0                2012_14   \n",
       "\n",
       "  universe_training_size universe_scale    universe_model  \\\n",
       "0                     5k   do-not-scale  penalized_logreg   \n",
       "\n",
       "  universe_exclude_features universe_exclude_subgroups     q_hat  coverage  \\\n",
       "0                       age            drop-non-german  0.654287  0.912774   \n",
       "\n",
       "   avg_size  cov_frau1  cov_nongerman  cov_nongerman_male  \\\n",
       "0  1.248601   0.911309       0.961096            0.967576   \n",
       "\n",
       "   cov_nongerman_female  \n",
       "0              0.950373  "
      ]
     },
     "execution_count": 56,
     "metadata": {},
     "output_type": "execute_result"
    }
   ],
   "source": [
    "cp_metrics_df"
   ]
  },
  {
   "cell_type": "markdown",
   "id": "3fc519cc",
   "metadata": {
    "papermill": {
     "duration": 0.012291,
     "end_time": "2025-08-19T18:36:56.634771",
     "exception": false,
     "start_time": "2025-08-19T18:36:56.622480",
     "status": "completed"
    },
    "tags": []
   },
   "source": [
    "# (Fairness) Metrics"
   ]
  },
  {
   "cell_type": "code",
   "execution_count": 57,
   "id": "a2e5e155",
   "metadata": {
    "execution": {
     "iopub.execute_input": "2025-08-19T18:36:56.661174Z",
     "iopub.status.busy": "2025-08-19T18:36:56.660463Z",
     "iopub.status.idle": "2025-08-19T18:36:56.676743Z",
     "shell.execute_reply": "2025-08-19T18:36:56.676069Z"
    },
    "papermill": {
     "duration": 0.030843,
     "end_time": "2025-08-19T18:36:56.677932",
     "exception": false,
     "start_time": "2025-08-19T18:36:56.647089",
     "status": "completed"
    },
    "tags": []
   },
   "outputs": [],
   "source": [
    "colname_to_bin = \"maxdeutsch1\"\n",
    "majority_value = org_train[colname_to_bin].mode()[0]\n",
    "\n",
    "org_test[\"majmin\"] = np.where(org_test[colname_to_bin] == majority_value, \"majority\", \"minority\")"
   ]
  },
  {
   "cell_type": "code",
   "execution_count": 58,
   "id": "17e3e4d5",
   "metadata": {
    "execution": {
     "iopub.execute_input": "2025-08-19T18:36:56.705394Z",
     "iopub.status.busy": "2025-08-19T18:36:56.704644Z",
     "iopub.status.idle": "2025-08-19T18:36:58.430407Z",
     "shell.execute_reply": "2025-08-19T18:36:58.428880Z"
    },
    "papermill": {
     "duration": 1.741161,
     "end_time": "2025-08-19T18:36:58.432117",
     "exception": false,
     "start_time": "2025-08-19T18:36:56.690956",
     "status": "completed"
    },
    "tags": []
   },
   "outputs": [],
   "source": [
    "example_universe = universe.copy()\n",
    "example_universe[\"cutoff\"] = example_universe[\"cutoff\"][0]\n",
    "example_universe[\"eval_fairness_grouping\"] = example_universe[\"eval_fairness_grouping\"][0]\n",
    "fairness_dict, metric_frame = universe_analysis.compute_metrics(\n",
    "    example_universe,\n",
    "    y_pred_prob=probs_test,\n",
    "    y_test=y_true,\n",
    "    org_test=org_test,\n",
    ")"
   ]
  },
  {
   "cell_type": "markdown",
   "id": "1fb7a0e9",
   "metadata": {
    "papermill": {
     "duration": 0.017433,
     "end_time": "2025-08-19T18:36:58.478537",
     "exception": false,
     "start_time": "2025-08-19T18:36:58.461104",
     "status": "completed"
    },
    "tags": []
   },
   "source": [
    "# Overall"
   ]
  },
  {
   "cell_type": "markdown",
   "id": "be1784b1",
   "metadata": {
    "papermill": {
     "duration": 0.012668,
     "end_time": "2025-08-19T18:36:58.504097",
     "exception": false,
     "start_time": "2025-08-19T18:36:58.491429",
     "status": "completed"
    },
    "tags": []
   },
   "source": [
    "Main fairness target: Equalized Odds. Seems to be a better fit than equal opportunity, since we're not only interested in Y = 1. Seems to be a better fit than demographic parity, since we also care about accuracy, not just equal distribution of preds.\n",
    "\n",
    "Pick column for computation of fairness metrics\n",
    "\n",
    "Performance\n",
    "Overall performance measures, most interesting in relation to the measures split by group below"
   ]
  },
  {
   "cell_type": "code",
   "execution_count": 59,
   "id": "b7672bee",
   "metadata": {
    "execution": {
     "iopub.execute_input": "2025-08-19T18:36:58.532751Z",
     "iopub.status.busy": "2025-08-19T18:36:58.531923Z",
     "iopub.status.idle": "2025-08-19T18:36:58.548237Z",
     "shell.execute_reply": "2025-08-19T18:36:58.547064Z"
    },
    "papermill": {
     "duration": 0.033347,
     "end_time": "2025-08-19T18:36:58.549797",
     "exception": false,
     "start_time": "2025-08-19T18:36:58.516450",
     "status": "completed"
    },
    "tags": []
   },
   "outputs": [
    {
     "data": {
      "text/plain": [
       "accuracy                   0.217467\n",
       "balanced accuracy          0.533185\n",
       "f1                         0.238989\n",
       "precision                  0.136526\n",
       "false positive rate        0.891486\n",
       "false negative rate        0.042145\n",
       "selection rate             0.900000\n",
       "count                  89710.000000\n",
       "dtype: float64"
      ]
     },
     "execution_count": 59,
     "metadata": {},
     "output_type": "execute_result"
    }
   ],
   "source": [
    "metric_frame.overall"
   ]
  },
  {
   "cell_type": "markdown",
   "id": "d93333c9",
   "metadata": {
    "papermill": {
     "duration": 0.015793,
     "end_time": "2025-08-19T18:36:58.592655",
     "exception": false,
     "start_time": "2025-08-19T18:36:58.576862",
     "status": "completed"
    },
    "tags": []
   },
   "source": [
    "By Group"
   ]
  },
  {
   "cell_type": "code",
   "execution_count": 60,
   "id": "52256966",
   "metadata": {
    "execution": {
     "iopub.execute_input": "2025-08-19T18:36:58.622931Z",
     "iopub.status.busy": "2025-08-19T18:36:58.622219Z",
     "iopub.status.idle": "2025-08-19T18:36:58.645920Z",
     "shell.execute_reply": "2025-08-19T18:36:58.645065Z"
    },
    "papermill": {
     "duration": 0.043812,
     "end_time": "2025-08-19T18:36:58.649736",
     "exception": false,
     "start_time": "2025-08-19T18:36:58.605924",
     "status": "completed"
    },
    "tags": []
   },
   "outputs": [
    {
     "data": {
      "text/html": [
       "<div>\n",
       "<style scoped>\n",
       "    .dataframe tbody tr th:only-of-type {\n",
       "        vertical-align: middle;\n",
       "    }\n",
       "\n",
       "    .dataframe tbody tr th {\n",
       "        vertical-align: top;\n",
       "    }\n",
       "\n",
       "    .dataframe thead th {\n",
       "        text-align: right;\n",
       "    }\n",
       "</style>\n",
       "<table border=\"1\" class=\"dataframe\">\n",
       "  <thead>\n",
       "    <tr style=\"text-align: right;\">\n",
       "      <th></th>\n",
       "      <th>accuracy</th>\n",
       "      <th>balanced accuracy</th>\n",
       "      <th>f1</th>\n",
       "      <th>precision</th>\n",
       "      <th>false positive rate</th>\n",
       "      <th>false negative rate</th>\n",
       "      <th>selection rate</th>\n",
       "      <th>count</th>\n",
       "    </tr>\n",
       "    <tr>\n",
       "      <th>majmin</th>\n",
       "      <th></th>\n",
       "      <th></th>\n",
       "      <th></th>\n",
       "      <th></th>\n",
       "      <th></th>\n",
       "      <th></th>\n",
       "      <th></th>\n",
       "      <th></th>\n",
       "    </tr>\n",
       "  </thead>\n",
       "  <tbody>\n",
       "    <tr>\n",
       "      <th>majority</th>\n",
       "      <td>0.239627</td>\n",
       "      <td>0.540966</td>\n",
       "      <td>0.248331</td>\n",
       "      <td>0.142822</td>\n",
       "      <td>0.868616</td>\n",
       "      <td>0.049453</td>\n",
       "      <td>0.879442</td>\n",
       "      <td>69170.0</td>\n",
       "    </tr>\n",
       "    <tr>\n",
       "      <th>minority</th>\n",
       "      <td>0.142843</td>\n",
       "      <td>0.509513</td>\n",
       "      <td>0.209643</td>\n",
       "      <td>0.117290</td>\n",
       "      <td>0.967037</td>\n",
       "      <td>0.013936</td>\n",
       "      <td>0.969231</td>\n",
       "      <td>20540.0</td>\n",
       "    </tr>\n",
       "  </tbody>\n",
       "</table>\n",
       "</div>"
      ],
      "text/plain": [
       "          accuracy  balanced accuracy        f1  precision  \\\n",
       "majmin                                                       \n",
       "majority  0.239627           0.540966  0.248331   0.142822   \n",
       "minority  0.142843           0.509513  0.209643   0.117290   \n",
       "\n",
       "          false positive rate  false negative rate  selection rate    count  \n",
       "majmin                                                                       \n",
       "majority             0.868616             0.049453        0.879442  69170.0  \n",
       "minority             0.967037             0.013936        0.969231  20540.0  "
      ]
     },
     "execution_count": 60,
     "metadata": {},
     "output_type": "execute_result"
    }
   ],
   "source": [
    "metric_frame.by_group"
   ]
  },
  {
   "cell_type": "code",
   "execution_count": 61,
   "id": "6e6c20ae",
   "metadata": {
    "execution": {
     "iopub.execute_input": "2025-08-19T18:36:58.685517Z",
     "iopub.status.busy": "2025-08-19T18:36:58.684805Z",
     "iopub.status.idle": "2025-08-19T18:37:00.541333Z",
     "shell.execute_reply": "2025-08-19T18:37:00.540326Z"
    },
    "papermill": {
     "duration": 1.876229,
     "end_time": "2025-08-19T18:37:00.545661",
     "exception": false,
     "start_time": "2025-08-19T18:36:58.669432",
     "status": "completed"
    },
    "tags": []
   },
   "outputs": [
    {
     "data": {
      "text/plain": [
       "array([[<Axes: title={'center': 'accuracy'}, xlabel='majmin'>,\n",
       "        <Axes: title={'center': 'balanced accuracy'}, xlabel='majmin'>,\n",
       "        <Axes: title={'center': 'f1'}, xlabel='majmin'>],\n",
       "       [<Axes: title={'center': 'precision'}, xlabel='majmin'>,\n",
       "        <Axes: title={'center': 'false positive rate'}, xlabel='majmin'>,\n",
       "        <Axes: title={'center': 'false negative rate'}, xlabel='majmin'>],\n",
       "       [<Axes: title={'center': 'selection rate'}, xlabel='majmin'>,\n",
       "        <Axes: title={'center': 'count'}, xlabel='majmin'>,\n",
       "        <Axes: xlabel='majmin'>]], dtype=object)"
      ]
     },
     "execution_count": 61,
     "metadata": {},
     "output_type": "execute_result"
    },
    {
     "data": {
      "image/png": "[encoded data removed]",
      "text/plain": [
       "<Figure size 1200x800 with 9 Axes>"
      ]
     },
     "metadata": {},
     "output_type": "display_data"
    }
   ],
   "source": [
    "# In a graphic\n",
    "metric_frame.by_group.plot.bar(\n",
    "    subplots=True,\n",
    "    layout=[3, 3],\n",
    "    legend=False,\n",
    "    figsize=[12, 8],\n",
    "    title=\"Show all metrics\",\n",
    ")"
   ]
  },
  {
   "cell_type": "markdown",
   "id": "b2e433ae",
   "metadata": {
    "papermill": {
     "duration": 0.01381,
     "end_time": "2025-08-19T18:37:00.586213",
     "exception": false,
     "start_time": "2025-08-19T18:37:00.572403",
     "status": "completed"
    },
    "tags": []
   },
   "source": [
    "# Final Output"
   ]
  },
  {
   "cell_type": "code",
   "execution_count": 62,
   "id": "3871301e",
   "metadata": {
    "execution": {
     "iopub.execute_input": "2025-08-19T18:37:00.619010Z",
     "iopub.status.busy": "2025-08-19T18:37:00.616601Z",
     "iopub.status.idle": "2025-08-19T18:37:00.635704Z",
     "shell.execute_reply": "2025-08-19T18:37:00.634664Z"
    },
    "papermill": {
     "duration": 0.037326,
     "end_time": "2025-08-19T18:37:00.637497",
     "exception": false,
     "start_time": "2025-08-19T18:37:00.600171",
     "status": "completed"
    },
    "tags": []
   },
   "outputs": [
    {
     "data": {
      "text/plain": [
       "4"
      ]
     },
     "execution_count": 62,
     "metadata": {},
     "output_type": "execute_result"
    }
   ],
   "source": [
    "sub_universes = universe_analysis.generate_sub_universes()\n",
    "len(sub_universes)"
   ]
  },
  {
   "cell_type": "code",
   "execution_count": 63,
   "id": "d9cfdaca",
   "metadata": {
    "execution": {
     "iopub.execute_input": "2025-08-19T18:37:00.679419Z",
     "iopub.status.busy": "2025-08-19T18:37:00.678168Z",
     "iopub.status.idle": "2025-08-19T18:37:00.688621Z",
     "shell.execute_reply": "2025-08-19T18:37:00.687126Z"
    },
    "papermill": {
     "duration": 0.027796,
     "end_time": "2025-08-19T18:37:00.690146",
     "exception": false,
     "start_time": "2025-08-19T18:37:00.662350",
     "status": "completed"
    },
    "tags": []
   },
   "outputs": [],
   "source": [
    "def filter_sub_universe_data(sub_universe, org_test):\n",
    "    # Keep all rows — no filtering\n",
    "    keep_rows_mask = np.ones(org_test.shape[0], dtype=bool)\n",
    "\n",
    "    print(f\"[INFO] Keeping all rows: {keep_rows_mask.sum()} rows retained.\")\n",
    "    return keep_rows_mask"
   ]
  },
  {
   "cell_type": "code",
   "execution_count": 64,
   "id": "2bc31ac1",
   "metadata": {
    "execution": {
     "iopub.execute_input": "2025-08-19T18:37:00.724409Z",
     "iopub.status.busy": "2025-08-19T18:37:00.723278Z",
     "iopub.status.idle": "2025-08-19T18:37:07.333540Z",
     "shell.execute_reply": "2025-08-19T18:37:07.332523Z"
    },
    "papermill": {
     "duration": 6.627576,
     "end_time": "2025-08-19T18:37:07.335044",
     "exception": false,
     "start_time": "2025-08-19T18:37:00.707468",
     "status": "completed"
    },
    "tags": []
   },
   "outputs": [
    {
     "name": "stdout",
     "output_type": "stream",
     "text": [
      "Stopping execution_time clock.\n",
      "[INFO] Keeping all rows: 89710 rows retained.\n"
     ]
    },
    {
     "name": "stdout",
     "output_type": "stream",
     "text": [
      "[INFO] Keeping all rows: 89710 rows retained.\n"
     ]
    },
    {
     "name": "stdout",
     "output_type": "stream",
     "text": [
      "[INFO] Keeping all rows: 89710 rows retained.\n"
     ]
    },
    {
     "name": "stdout",
     "output_type": "stream",
     "text": [
      "[INFO] Keeping all rows: 89710 rows retained.\n"
     ]
    },
    {
     "data": {
      "text/html": [
       "<div>\n",
       "<style scoped>\n",
       "    .dataframe tbody tr th:only-of-type {\n",
       "        vertical-align: middle;\n",
       "    }\n",
       "\n",
       "    .dataframe tbody tr th {\n",
       "        vertical-align: top;\n",
       "    }\n",
       "\n",
       "    .dataframe thead th {\n",
       "        text-align: right;\n",
       "    }\n",
       "</style>\n",
       "<table border=\"1\" class=\"dataframe\">\n",
       "  <thead>\n",
       "    <tr style=\"text-align: right;\">\n",
       "      <th></th>\n",
       "      <th>run_no</th>\n",
       "      <th>universe_id</th>\n",
       "      <th>universe_settings</th>\n",
       "      <th>execution_time</th>\n",
       "      <th>test_size_n</th>\n",
       "      <th>test_size_frac</th>\n",
       "      <th>fair_main_equalized_odds_difference</th>\n",
       "      <th>fair_main_equalized_odds_ratio</th>\n",
       "      <th>fair_main_demographic_parity_difference</th>\n",
       "      <th>fair_main_demographic_parity_ratio</th>\n",
       "      <th>...</th>\n",
       "      <th>perf_grp_precision_0</th>\n",
       "      <th>perf_grp_precision_1</th>\n",
       "      <th>perf_grp_false positive rate_0</th>\n",
       "      <th>perf_grp_false positive rate_1</th>\n",
       "      <th>perf_grp_false negative rate_0</th>\n",
       "      <th>perf_grp_false negative rate_1</th>\n",
       "      <th>perf_grp_selection rate_0</th>\n",
       "      <th>perf_grp_selection rate_1</th>\n",
       "      <th>perf_grp_count_0</th>\n",
       "      <th>perf_grp_count_1</th>\n",
       "    </tr>\n",
       "  </thead>\n",
       "  <tbody>\n",
       "    <tr>\n",
       "      <th>0</th>\n",
       "      <td>3</td>\n",
       "      <td>5d9b74bd734d2ac9872ce3b2ecc560f0</td>\n",
       "      <td>{\"cutoff\": \"quantile_0.1\", \"eval_fairness_grou...</td>\n",
       "      <td>21.80629</td>\n",
       "      <td>89710</td>\n",
       "      <td>1.0</td>\n",
       "      <td>0.098422</td>\n",
       "      <td>0.898224</td>\n",
       "      <td>0.089789</td>\n",
       "      <td>0.907361</td>\n",
       "      <td>...</td>\n",
       "      <td>NaN</td>\n",
       "      <td>NaN</td>\n",
       "      <td>NaN</td>\n",
       "      <td>NaN</td>\n",
       "      <td>NaN</td>\n",
       "      <td>NaN</td>\n",
       "      <td>NaN</td>\n",
       "      <td>NaN</td>\n",
       "      <td>NaN</td>\n",
       "      <td>NaN</td>\n",
       "    </tr>\n",
       "    <tr>\n",
       "      <th>0</th>\n",
       "      <td>3</td>\n",
       "      <td>5d9b74bd734d2ac9872ce3b2ecc560f0</td>\n",
       "      <td>{\"cutoff\": \"quantile_0.1\", \"eval_fairness_grou...</td>\n",
       "      <td>21.80629</td>\n",
       "      <td>89710</td>\n",
       "      <td>1.0</td>\n",
       "      <td>0.098422</td>\n",
       "      <td>0.898224</td>\n",
       "      <td>0.089789</td>\n",
       "      <td>0.907361</td>\n",
       "      <td>...</td>\n",
       "      <td>0.117290</td>\n",
       "      <td>0.142822</td>\n",
       "      <td>0.967037</td>\n",
       "      <td>0.868616</td>\n",
       "      <td>0.013936</td>\n",
       "      <td>0.049453</td>\n",
       "      <td>0.969231</td>\n",
       "      <td>0.879442</td>\n",
       "      <td>20540.0</td>\n",
       "      <td>69170.0</td>\n",
       "    </tr>\n",
       "    <tr>\n",
       "      <th>0</th>\n",
       "      <td>3</td>\n",
       "      <td>5d9b74bd734d2ac9872ce3b2ecc560f0</td>\n",
       "      <td>{\"cutoff\": \"quantile_0.25\", \"eval_fairness_gro...</td>\n",
       "      <td>21.80629</td>\n",
       "      <td>89710</td>\n",
       "      <td>1.0</td>\n",
       "      <td>0.232508</td>\n",
       "      <td>0.744889</td>\n",
       "      <td>0.214503</td>\n",
       "      <td>0.765669</td>\n",
       "      <td>...</td>\n",
       "      <td>NaN</td>\n",
       "      <td>NaN</td>\n",
       "      <td>NaN</td>\n",
       "      <td>NaN</td>\n",
       "      <td>NaN</td>\n",
       "      <td>NaN</td>\n",
       "      <td>NaN</td>\n",
       "      <td>NaN</td>\n",
       "      <td>NaN</td>\n",
       "      <td>NaN</td>\n",
       "    </tr>\n",
       "    <tr>\n",
       "      <th>0</th>\n",
       "      <td>3</td>\n",
       "      <td>5d9b74bd734d2ac9872ce3b2ecc560f0</td>\n",
       "      <td>{\"cutoff\": \"quantile_0.25\", \"eval_fairness_gro...</td>\n",
       "      <td>21.80629</td>\n",
       "      <td>89710</td>\n",
       "      <td>1.0</td>\n",
       "      <td>0.232508</td>\n",
       "      <td>0.744889</td>\n",
       "      <td>0.214503</td>\n",
       "      <td>0.765669</td>\n",
       "      <td>...</td>\n",
       "      <td>0.119136</td>\n",
       "      <td>0.159365</td>\n",
       "      <td>0.911402</td>\n",
       "      <td>0.678894</td>\n",
       "      <td>0.054054</td>\n",
       "      <td>0.154705</td>\n",
       "      <td>0.915385</td>\n",
       "      <td>0.700882</td>\n",
       "      <td>20540.0</td>\n",
       "      <td>69170.0</td>\n",
       "    </tr>\n",
       "  </tbody>\n",
       "</table>\n",
       "<p>4 rows × 50 columns</p>\n",
       "</div>"
      ],
      "text/plain": [
       "  run_no                       universe_id  \\\n",
       "0      3  5d9b74bd734d2ac9872ce3b2ecc560f0   \n",
       "0      3  5d9b74bd734d2ac9872ce3b2ecc560f0   \n",
       "0      3  5d9b74bd734d2ac9872ce3b2ecc560f0   \n",
       "0      3  5d9b74bd734d2ac9872ce3b2ecc560f0   \n",
       "\n",
       "                                   universe_settings  execution_time  \\\n",
       "0  {\"cutoff\": \"quantile_0.1\", \"eval_fairness_grou...        21.80629   \n",
       "0  {\"cutoff\": \"quantile_0.1\", \"eval_fairness_grou...        21.80629   \n",
       "0  {\"cutoff\": \"quantile_0.25\", \"eval_fairness_gro...        21.80629   \n",
       "0  {\"cutoff\": \"quantile_0.25\", \"eval_fairness_gro...        21.80629   \n",
       "\n",
       "   test_size_n  test_size_frac  fair_main_equalized_odds_difference  \\\n",
       "0        89710             1.0                             0.098422   \n",
       "0        89710             1.0                             0.098422   \n",
       "0        89710             1.0                             0.232508   \n",
       "0        89710             1.0                             0.232508   \n",
       "\n",
       "   fair_main_equalized_odds_ratio  fair_main_demographic_parity_difference  \\\n",
       "0                        0.898224                                 0.089789   \n",
       "0                        0.898224                                 0.089789   \n",
       "0                        0.744889                                 0.214503   \n",
       "0                        0.744889                                 0.214503   \n",
       "\n",
       "   fair_main_demographic_parity_ratio  ...  perf_grp_precision_0  \\\n",
       "0                            0.907361  ...                   NaN   \n",
       "0                            0.907361  ...              0.117290   \n",
       "0                            0.765669  ...                   NaN   \n",
       "0                            0.765669  ...              0.119136   \n",
       "\n",
       "   perf_grp_precision_1  perf_grp_false positive rate_0  \\\n",
       "0                   NaN                             NaN   \n",
       "0              0.142822                        0.967037   \n",
       "0                   NaN                             NaN   \n",
       "0              0.159365                        0.911402   \n",
       "\n",
       "   perf_grp_false positive rate_1  perf_grp_false negative rate_0  \\\n",
       "0                             NaN                             NaN   \n",
       "0                        0.868616                        0.013936   \n",
       "0                             NaN                             NaN   \n",
       "0                        0.678894                        0.054054   \n",
       "\n",
       "   perf_grp_false negative rate_1  perf_grp_selection rate_0  \\\n",
       "0                             NaN                        NaN   \n",
       "0                        0.049453                   0.969231   \n",
       "0                             NaN                        NaN   \n",
       "0                        0.154705                   0.915385   \n",
       "\n",
       "   perf_grp_selection rate_1  perf_grp_count_0  perf_grp_count_1  \n",
       "0                        NaN               NaN               NaN  \n",
       "0                   0.879442           20540.0           69170.0  \n",
       "0                        NaN               NaN               NaN  \n",
       "0                   0.700882           20540.0           69170.0  \n",
       "\n",
       "[4 rows x 50 columns]"
      ]
     },
     "execution_count": 64,
     "metadata": {},
     "output_type": "execute_result"
    }
   ],
   "source": [
    "final_output = universe_analysis.generate_final_output(\n",
    "    y_pred_prob=probs_test,\n",
    "    y_test=y_true,\n",
    "    org_test=org_test,\n",
    "    filter_data=filter_sub_universe_data,\n",
    "    cp_metrics_df=cp_metrics_df,\n",
    "    save=True,\n",
    ")\n",
    "final_output"
   ]
  },
  {
   "cell_type": "code",
   "execution_count": null,
   "id": "8b80a1ff",
   "metadata": {
    "papermill": {
     "duration": 0.014857,
     "end_time": "2025-08-19T18:37:07.369794",
     "exception": false,
     "start_time": "2025-08-19T18:37:07.354937",
     "status": "completed"
    },
    "tags": []
   },
   "outputs": [],
   "source": []
  },
  {
   "cell_type": "code",
   "execution_count": null,
   "id": "275c9fad",
   "metadata": {
    "papermill": {
     "duration": 0.014384,
     "end_time": "2025-08-19T18:37:07.398987",
     "exception": false,
     "start_time": "2025-08-19T18:37:07.384603",
     "status": "completed"
    },
    "tags": []
   },
   "outputs": [],
   "source": []
  }
 ],
 "metadata": {
  "celltoolbar": "Tags",
  "kernelspec": {
   "display_name": "Python (CMA Fairness)",
   "language": "python",
   "name": "cma_fair_env"
  },
  "language_info": {
   "codemirror_mode": {
    "name": "ipython",
    "version": 3
   },
   "file_extension": ".py",
   "mimetype": "text/x-python",
   "name": "python",
   "nbconvert_exporter": "python",
   "pygments_lexer": "ipython3",
   "version": "3.10.12"
  },
  "papermill": {
   "default_parameters": {},
   "duration": 32.221366,
   "end_time": "2025-08-19T18:37:08.240825",
   "environment_variables": {},
   "exception": null,
   "input_path": "universe_analysis.ipynb",
   "output_path": "output/runs/3/notebooks/m_3-5d9b74bd734d2ac9872ce3b2ecc560f0.ipynb",
   "parameters": {
    "output_dir": "output",
    "run_no": "3",
    "seed": "2023",
    "universe": "{\"cutoff\": [\"quantile_0.1\", \"quantile_0.25\"], \"eval_fairness_grouping\": [\"majority-minority\", \"nationality-all\"], \"exclude_features\": \"age\", \"exclude_subgroups\": \"drop-non-german\", \"model\": \"penalized_logreg\", \"scale\": \"do-not-scale\", \"training_size\": \"5k\", \"training_year\": \"2012_14\"}",
    "universe_id": "5d9b74bd734d2ac9872ce3b2ecc560f0"
   },
   "start_time": "2025-08-19T18:36:36.019459",
   "version": "2.6.0"
  }
 },
 "nbformat": 4,
 "nbformat_minor": 5
}