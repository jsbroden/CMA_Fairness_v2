{
 "cells": [
  {
   "cell_type": "markdown",
   "id": "ef23dbb3",
   "metadata": {
    "papermill": {
     "duration": 0.021792,
     "end_time": "2025-08-19T19:00:18.813895",
     "exception": false,
     "start_time": "2025-08-19T19:00:18.792103",
     "status": "completed"
    },
    "tags": []
   },
   "source": [
    "# Setup"
   ]
  },
  {
   "cell_type": "code",
   "execution_count": 1,
   "id": "0bc8e7dc",
   "metadata": {
    "execution": {
     "iopub.execute_input": "2025-08-19T19:00:18.837952Z",
     "iopub.status.busy": "2025-08-19T19:00:18.836716Z",
     "iopub.status.idle": "2025-08-19T19:00:18.856008Z",
     "shell.execute_reply": "2025-08-19T19:00:18.854557Z"
    },
    "papermill": {
     "duration": 0.032049,
     "end_time": "2025-08-19T19:00:18.858188",
     "exception": false,
     "start_time": "2025-08-19T19:00:18.826139",
     "status": "completed"
    },
    "tags": []
   },
   "outputs": [
    {
     "name": "stdout",
     "output_type": "stream",
     "text": [
      "/dss/dsshome1/0C/ra93lal2/cma/CMA_Fairness_v2\n"
     ]
    },
    {
     "name": "stderr",
     "output_type": "stream",
     "text": [
      "/dss/dsshome1/0C/ra93lal2/.local/share/virtualenvs/CMA_Fairness_v2-3j10GkSs/lib/python3.10/site-packages/IPython/core/magics/osm.py:393: UserWarning: This is now an optional IPython functionality, using bookmarks requires you to install the `pickleshare` library.\n",
      "  bkms = self.shell.db.get('bookmarks', {})\n",
      "/dss/dsshome1/0C/ra93lal2/.local/share/virtualenvs/CMA_Fairness_v2-3j10GkSs/lib/python3.10/site-packages/IPython/core/magics/osm.py:417: UserWarning: This is now an optional IPython functionality, setting dhist requires you to install the `pickleshare` library.\n",
      "  self.shell.db['dhist'] = compress_dhist(dhist)[-100:]\n"
     ]
    }
   ],
   "source": [
    "%cd ~/cma/CMA_Fairness_v2"
   ]
  },
  {
   "cell_type": "markdown",
   "id": "9d235661",
   "metadata": {
    "papermill": {
     "duration": 0.009026,
     "end_time": "2025-08-19T19:00:18.878482",
     "exception": false,
     "start_time": "2025-08-19T19:00:18.869456",
     "status": "completed"
    },
    "tags": []
   },
   "source": [
    "The following cell holds the definition of our parameters, these values can be overriden by rendering the with e.g. the following command:\n",
    "\n",
    "papermill -p alpha 0.2 -p ratio 0.3 universe_analysis.ipynb output/test_run.ipynb"
   ]
  },
  {
   "cell_type": "code",
   "execution_count": 2,
   "id": "4a789d8e",
   "metadata": {
    "execution": {
     "iopub.execute_input": "2025-08-19T19:00:18.898410Z",
     "iopub.status.busy": "2025-08-19T19:00:18.897865Z",
     "iopub.status.idle": "2025-08-19T19:00:18.903577Z",
     "shell.execute_reply": "2025-08-19T19:00:18.902587Z"
    },
    "papermill": {
     "duration": 0.01894,
     "end_time": "2025-08-19T19:00:18.906265",
     "exception": false,
     "start_time": "2025-08-19T19:00:18.887325",
     "status": "completed"
    },
    "tags": []
   },
   "outputs": [
    {
     "name": "stdout",
     "output_type": "stream",
     "text": [
      "Current working directory: /dss/dsshome1/0C/ra93lal2/cma/CMA_Fairness_v2\n"
     ]
    }
   ],
   "source": [
    "import os\n",
    "print(\"Current working directory:\", os.getcwd())"
   ]
  },
  {
   "cell_type": "code",
   "execution_count": 3,
   "id": "4132aaed",
   "metadata": {
    "execution": {
     "iopub.execute_input": "2025-08-19T19:00:18.926308Z",
     "iopub.status.busy": "2025-08-19T19:00:18.925937Z",
     "iopub.status.idle": "2025-08-19T19:00:18.931876Z",
     "shell.execute_reply": "2025-08-19T19:00:18.930376Z"
    },
    "papermill": {
     "duration": 0.017434,
     "end_time": "2025-08-19T19:00:18.933500",
     "exception": false,
     "start_time": "2025-08-19T19:00:18.916066",
     "status": "completed"
    },
    "tags": [
     "parameters"
    ]
   },
   "outputs": [],
   "source": [
    "run_no = 0\n",
    "universe_id = \"test\"\n",
    "universe = {\n",
    "    \"training_size\": \"5k\", # \"25k\", \"5k\", \"1k\"\n",
    "    \"training_year\": \"2012_14\", # \"2014\", \"2012_14\", \"2010_14\"\n",
    "    \"scale\": \"scale\", # \"scale\", \"do-not-scale\",\n",
    "    \"model\": \"elasticnet\", # \"logreg\", \"penalized_logreg\", \"rf\", \"gbm\", \"elasticnet\"\n",
    "    \"cutoff\": [\"quantile_0.15\", \"quantile_0.30\"],\n",
    "    \"exclude_features\": \"age\", # \"none\", \"nationality\", \"sex\", \"nationality-sex\", \"age\"\n",
    "    \"exclude_subgroups\": \"drop-non-german\", # \"keep-all\", \"drop-non-german\"\n",
    "    \"eval_fairness_grouping\": [\"majority-minority\", \"nationality-all\"]\n",
    "}\n",
    "\n",
    "output_dir=\"./output\"\n",
    "seed=0"
   ]
  },
  {
   "cell_type": "code",
   "execution_count": 4,
   "id": "7d3f3312",
   "metadata": {
    "execution": {
     "iopub.execute_input": "2025-08-19T19:00:18.956304Z",
     "iopub.status.busy": "2025-08-19T19:00:18.954816Z",
     "iopub.status.idle": "2025-08-19T19:00:18.962895Z",
     "shell.execute_reply": "2025-08-19T19:00:18.961549Z"
    },
    "papermill": {
     "duration": 0.020649,
     "end_time": "2025-08-19T19:00:18.964711",
     "exception": false,
     "start_time": "2025-08-19T19:00:18.944062",
     "status": "completed"
    },
    "tags": [
     "injected-parameters"
    ]
   },
   "outputs": [],
   "source": [
    "# Parameters\n",
    "universe_id = \"7ef49888426b28bdba0dd8b636bb74e1\"\n",
    "run_no = \"3\"\n",
    "universe = \"{\\\"cutoff\\\": [\\\"quantile_0.1\\\", \\\"quantile_0.25\\\"], \\\"eval_fairness_grouping\\\": [\\\"majority-minority\\\", \\\"nationality-all\\\"], \\\"exclude_features\\\": \\\"age\\\", \\\"exclude_subgroups\\\": \\\"keep-all\\\", \\\"model\\\": \\\"elasticnet\\\", \\\"scale\\\": \\\"scale\\\", \\\"training_size\\\": \\\"1k\\\", \\\"training_year\\\": \\\"2012_14\\\"}\"\n",
    "output_dir = \"output\"\n",
    "seed = \"2023\"\n"
   ]
  },
  {
   "cell_type": "code",
   "execution_count": 5,
   "id": "a5d7941f",
   "metadata": {
    "execution": {
     "iopub.execute_input": "2025-08-19T19:00:18.988462Z",
     "iopub.status.busy": "2025-08-19T19:00:18.987208Z",
     "iopub.status.idle": "2025-08-19T19:00:18.994975Z",
     "shell.execute_reply": "2025-08-19T19:00:18.993583Z"
    },
    "papermill": {
     "duration": 0.02018,
     "end_time": "2025-08-19T19:00:18.996585",
     "exception": false,
     "start_time": "2025-08-19T19:00:18.976405",
     "status": "completed"
    },
    "tags": []
   },
   "outputs": [],
   "source": [
    "import json\n",
    "if isinstance(universe, str):\n",
    "    universe = json.loads(universe)"
   ]
  },
  {
   "cell_type": "code",
   "execution_count": 6,
   "id": "7076ccb1",
   "metadata": {
    "execution": {
     "iopub.execute_input": "2025-08-19T19:00:19.018892Z",
     "iopub.status.busy": "2025-08-19T19:00:19.017706Z",
     "iopub.status.idle": "2025-08-19T19:00:19.071175Z",
     "shell.execute_reply": "2025-08-19T19:00:19.070038Z"
    },
    "papermill": {
     "duration": 0.067357,
     "end_time": "2025-08-19T19:00:19.074445",
     "exception": false,
     "start_time": "2025-08-19T19:00:19.007088",
     "status": "completed"
    },
    "tags": []
   },
   "outputs": [],
   "source": [
    "# Auto-reload the custom package\n",
    "%load_ext autoreload\n",
    "%autoreload 1\n",
    "%aimport fairness_multiverse"
   ]
  },
  {
   "cell_type": "code",
   "execution_count": 7,
   "id": "94c8eb93",
   "metadata": {
    "execution": {
     "iopub.execute_input": "2025-08-19T19:00:19.109404Z",
     "iopub.status.busy": "2025-08-19T19:00:19.108202Z",
     "iopub.status.idle": "2025-08-19T19:00:20.740764Z",
     "shell.execute_reply": "2025-08-19T19:00:20.739717Z"
    },
    "papermill": {
     "duration": 1.647096,
     "end_time": "2025-08-19T19:00:20.742254",
     "exception": false,
     "start_time": "2025-08-19T19:00:19.095158",
     "status": "completed"
    },
    "tags": []
   },
   "outputs": [],
   "source": [
    "from fairness_multiverse.universe import UniverseAnalysis\n",
    "\n",
    "universe_analysis = UniverseAnalysis(\n",
    "    run_no = run_no,\n",
    "    universe_id = universe_id,\n",
    "    universe = universe,\n",
    "    output_dir=output_dir,\n",
    ")"
   ]
  },
  {
   "cell_type": "code",
   "execution_count": 8,
   "id": "2a6381cf",
   "metadata": {
    "execution": {
     "iopub.execute_input": "2025-08-19T19:00:20.763179Z",
     "iopub.status.busy": "2025-08-19T19:00:20.762394Z",
     "iopub.status.idle": "2025-08-19T19:00:20.769611Z",
     "shell.execute_reply": "2025-08-19T19:00:20.768992Z"
    },
    "papermill": {
     "duration": 0.019164,
     "end_time": "2025-08-19T19:00:20.771102",
     "exception": false,
     "start_time": "2025-08-19T19:00:20.751938",
     "status": "completed"
    },
    "tags": []
   },
   "outputs": [
    {
     "name": "stdout",
     "output_type": "stream",
     "text": [
      "Using Seed: 2023\n"
     ]
    }
   ],
   "source": [
    "import numpy as np\n",
    "parsed_seed = int(seed)\n",
    "np.random.seed(parsed_seed)\n",
    "print(f\"Using Seed: {parsed_seed}\")"
   ]
  },
  {
   "cell_type": "markdown",
   "id": "b6e958b4",
   "metadata": {
    "papermill": {
     "duration": 0.008893,
     "end_time": "2025-08-19T19:00:20.789859",
     "exception": false,
     "start_time": "2025-08-19T19:00:20.780966",
     "status": "completed"
    },
    "tags": []
   },
   "source": [
    "# Loading Data"
   ]
  },
  {
   "cell_type": "code",
   "execution_count": 9,
   "id": "98701482",
   "metadata": {
    "execution": {
     "iopub.execute_input": "2025-08-19T19:00:20.809072Z",
     "iopub.status.busy": "2025-08-19T19:00:20.808681Z",
     "iopub.status.idle": "2025-08-19T19:00:31.224996Z",
     "shell.execute_reply": "2025-08-19T19:00:31.222273Z"
    },
    "papermill": {
     "duration": 10.43152,
     "end_time": "2025-08-19T19:00:31.230316",
     "exception": false,
     "start_time": "2025-08-19T19:00:20.798796",
     "status": "completed"
    },
    "tags": []
   },
   "outputs": [
    {
     "name": "stdout",
     "output_type": "stream",
     "text": [
      "Loading SIAB data from cache: data/siab_cached.csv.gz\n"
     ]
    },
    {
     "name": "stdout",
     "output_type": "stream",
     "text": [
      "(643690, 164)\n"
     ]
    }
   ],
   "source": [
    "from pathlib import Path\n",
    "import pandas as pd\n",
    "\n",
    "# File paths\n",
    "raw_file = Path(\"data/raw/siab.csv\")\n",
    "cache_file = Path(\"data/siab_cached.csv.gz\")\n",
    "\n",
    "# Ensure cache directory exists\n",
    "cache_file.parent.mkdir(parents=True, exist_ok=True)\n",
    "\n",
    "# Load with simple caching\n",
    "if cache_file.exists():\n",
    "    print(f\"Loading SIAB data from cache: {cache_file}\")\n",
    "    siab = pd.read_csv(cache_file, compression='gzip')\n",
    "else:\n",
    "    print(f\"Cache not found. Reading raw SIAB data: {raw_file}\")\n",
    "    siab = pd.read_csv(raw_file)\n",
    "    siab.to_csv(cache_file, index=False, compression='gzip')\n",
    "    print(f\"Cached SIAB data to: {cache_file}\")\n",
    "\n",
    "print(siab.shape)"
   ]
  },
  {
   "cell_type": "code",
   "execution_count": 10,
   "id": "058d2abb",
   "metadata": {
    "execution": {
     "iopub.execute_input": "2025-08-19T19:00:31.269406Z",
     "iopub.status.busy": "2025-08-19T19:00:31.268754Z",
     "iopub.status.idle": "2025-08-19T19:00:31.479190Z",
     "shell.execute_reply": "2025-08-19T19:00:31.478451Z"
    },
    "papermill": {
     "duration": 0.236484,
     "end_time": "2025-08-19T19:00:31.480568",
     "exception": false,
     "start_time": "2025-08-19T19:00:31.244084",
     "status": "completed"
    },
    "tags": []
   },
   "outputs": [
    {
     "data": {
      "text/html": [
       "<div>\n",
       "<style scoped>\n",
       "    .dataframe tbody tr th:only-of-type {\n",
       "        vertical-align: middle;\n",
       "    }\n",
       "\n",
       "    .dataframe tbody tr th {\n",
       "        vertical-align: top;\n",
       "    }\n",
       "\n",
       "    .dataframe thead th {\n",
       "        text-align: right;\n",
       "    }\n",
       "</style>\n",
       "<table border=\"1\" class=\"dataframe\">\n",
       "  <thead>\n",
       "    <tr style=\"text-align: right;\">\n",
       "      <th></th>\n",
       "      <th>persnr</th>\n",
       "      <th>year</th>\n",
       "      <th>nrEntry</th>\n",
       "      <th>ltue</th>\n",
       "      <th>employed_before</th>\n",
       "      <th>receipt_leh_before</th>\n",
       "      <th>receipt_lhg_before</th>\n",
       "      <th>se_before</th>\n",
       "      <th>ASU_notue_seeking_before</th>\n",
       "      <th>ASU_other_before</th>\n",
       "      <th>...</th>\n",
       "      <th>minijob_tot_dur_byage</th>\n",
       "      <th>ft_tot_dur_byage</th>\n",
       "      <th>befrist_tot_dur_byage</th>\n",
       "      <th>leih_tot_dur_byage</th>\n",
       "      <th>LHG_tot_dur_byage</th>\n",
       "      <th>LEH_tot_dur_byage</th>\n",
       "      <th>almp_tot_dur_byage</th>\n",
       "      <th>almp_aw_tot_dur_byage</th>\n",
       "      <th>se_tot_dur_byage</th>\n",
       "      <th>seeking1_tot_dur_byage</th>\n",
       "    </tr>\n",
       "  </thead>\n",
       "  <tbody>\n",
       "    <tr>\n",
       "      <th>0</th>\n",
       "      <td>7</td>\n",
       "      <td>2015</td>\n",
       "      <td>1</td>\n",
       "      <td>0</td>\n",
       "      <td>1</td>\n",
       "      <td>0</td>\n",
       "      <td>0</td>\n",
       "      <td>0</td>\n",
       "      <td>1</td>\n",
       "      <td>0</td>\n",
       "      <td>...</td>\n",
       "      <td>0.000000</td>\n",
       "      <td>0.000000</td>\n",
       "      <td>15.043478</td>\n",
       "      <td>0.000000</td>\n",
       "      <td>0.000000</td>\n",
       "      <td>0.000000</td>\n",
       "      <td>0.000000</td>\n",
       "      <td>0.000000</td>\n",
       "      <td>0.000000</td>\n",
       "      <td>0.000000</td>\n",
       "    </tr>\n",
       "    <tr>\n",
       "      <th>1</th>\n",
       "      <td>18</td>\n",
       "      <td>2010</td>\n",
       "      <td>1</td>\n",
       "      <td>1</td>\n",
       "      <td>0</td>\n",
       "      <td>0</td>\n",
       "      <td>0</td>\n",
       "      <td>0</td>\n",
       "      <td>0</td>\n",
       "      <td>0</td>\n",
       "      <td>...</td>\n",
       "      <td>0.000000</td>\n",
       "      <td>0.000000</td>\n",
       "      <td>0.000000</td>\n",
       "      <td>0.000000</td>\n",
       "      <td>0.000000</td>\n",
       "      <td>0.000000</td>\n",
       "      <td>0.000000</td>\n",
       "      <td>0.000000</td>\n",
       "      <td>0.000000</td>\n",
       "      <td>0.000000</td>\n",
       "    </tr>\n",
       "    <tr>\n",
       "      <th>2</th>\n",
       "      <td>18</td>\n",
       "      <td>2011</td>\n",
       "      <td>2</td>\n",
       "      <td>0</td>\n",
       "      <td>1</td>\n",
       "      <td>0</td>\n",
       "      <td>1</td>\n",
       "      <td>0</td>\n",
       "      <td>1</td>\n",
       "      <td>0</td>\n",
       "      <td>...</td>\n",
       "      <td>2.714286</td>\n",
       "      <td>2.714286</td>\n",
       "      <td>0.000000</td>\n",
       "      <td>0.000000</td>\n",
       "      <td>10.775510</td>\n",
       "      <td>0.000000</td>\n",
       "      <td>8.367347</td>\n",
       "      <td>0.000000</td>\n",
       "      <td>0.000000</td>\n",
       "      <td>9.836735</td>\n",
       "    </tr>\n",
       "    <tr>\n",
       "      <th>3</th>\n",
       "      <td>18</td>\n",
       "      <td>2012</td>\n",
       "      <td>3</td>\n",
       "      <td>0</td>\n",
       "      <td>1</td>\n",
       "      <td>0</td>\n",
       "      <td>1</td>\n",
       "      <td>0</td>\n",
       "      <td>1</td>\n",
       "      <td>0</td>\n",
       "      <td>...</td>\n",
       "      <td>4.200000</td>\n",
       "      <td>4.200000</td>\n",
       "      <td>0.000000</td>\n",
       "      <td>0.000000</td>\n",
       "      <td>12.100000</td>\n",
       "      <td>0.000000</td>\n",
       "      <td>9.400000</td>\n",
       "      <td>0.000000</td>\n",
       "      <td>0.000000</td>\n",
       "      <td>9.960000</td>\n",
       "    </tr>\n",
       "    <tr>\n",
       "      <th>4</th>\n",
       "      <td>18</td>\n",
       "      <td>2012</td>\n",
       "      <td>4</td>\n",
       "      <td>0</td>\n",
       "      <td>1</td>\n",
       "      <td>0</td>\n",
       "      <td>1</td>\n",
       "      <td>0</td>\n",
       "      <td>1</td>\n",
       "      <td>0</td>\n",
       "      <td>...</td>\n",
       "      <td>5.460000</td>\n",
       "      <td>5.460000</td>\n",
       "      <td>0.000000</td>\n",
       "      <td>0.000000</td>\n",
       "      <td>13.360000</td>\n",
       "      <td>0.000000</td>\n",
       "      <td>10.320000</td>\n",
       "      <td>0.000000</td>\n",
       "      <td>0.000000</td>\n",
       "      <td>10.280000</td>\n",
       "    </tr>\n",
       "    <tr>\n",
       "      <th>...</th>\n",
       "      <td>...</td>\n",
       "      <td>...</td>\n",
       "      <td>...</td>\n",
       "      <td>...</td>\n",
       "      <td>...</td>\n",
       "      <td>...</td>\n",
       "      <td>...</td>\n",
       "      <td>...</td>\n",
       "      <td>...</td>\n",
       "      <td>...</td>\n",
       "      <td>...</td>\n",
       "      <td>...</td>\n",
       "      <td>...</td>\n",
       "      <td>...</td>\n",
       "      <td>...</td>\n",
       "      <td>...</td>\n",
       "      <td>...</td>\n",
       "      <td>...</td>\n",
       "      <td>...</td>\n",
       "      <td>...</td>\n",
       "      <td>...</td>\n",
       "    </tr>\n",
       "    <tr>\n",
       "      <th>643685</th>\n",
       "      <td>1827860</td>\n",
       "      <td>2013</td>\n",
       "      <td>1</td>\n",
       "      <td>0</td>\n",
       "      <td>0</td>\n",
       "      <td>0</td>\n",
       "      <td>1</td>\n",
       "      <td>0</td>\n",
       "      <td>0</td>\n",
       "      <td>1</td>\n",
       "      <td>...</td>\n",
       "      <td>0.000000</td>\n",
       "      <td>0.000000</td>\n",
       "      <td>0.000000</td>\n",
       "      <td>0.000000</td>\n",
       "      <td>0.612903</td>\n",
       "      <td>0.000000</td>\n",
       "      <td>0.000000</td>\n",
       "      <td>0.000000</td>\n",
       "      <td>0.000000</td>\n",
       "      <td>0.000000</td>\n",
       "    </tr>\n",
       "    <tr>\n",
       "      <th>643686</th>\n",
       "      <td>1827860</td>\n",
       "      <td>2015</td>\n",
       "      <td>2</td>\n",
       "      <td>1</td>\n",
       "      <td>0</td>\n",
       "      <td>0</td>\n",
       "      <td>1</td>\n",
       "      <td>0</td>\n",
       "      <td>1</td>\n",
       "      <td>0</td>\n",
       "      <td>...</td>\n",
       "      <td>0.000000</td>\n",
       "      <td>0.000000</td>\n",
       "      <td>0.212121</td>\n",
       "      <td>0.212121</td>\n",
       "      <td>17.363636</td>\n",
       "      <td>0.000000</td>\n",
       "      <td>8.909091</td>\n",
       "      <td>0.000000</td>\n",
       "      <td>0.000000</td>\n",
       "      <td>7.121212</td>\n",
       "    </tr>\n",
       "    <tr>\n",
       "      <th>643687</th>\n",
       "      <td>1827860</td>\n",
       "      <td>2016</td>\n",
       "      <td>3</td>\n",
       "      <td>1</td>\n",
       "      <td>0</td>\n",
       "      <td>0</td>\n",
       "      <td>1</td>\n",
       "      <td>1</td>\n",
       "      <td>0</td>\n",
       "      <td>1</td>\n",
       "      <td>...</td>\n",
       "      <td>0.000000</td>\n",
       "      <td>0.000000</td>\n",
       "      <td>0.294118</td>\n",
       "      <td>0.205882</td>\n",
       "      <td>34.705882</td>\n",
       "      <td>0.000000</td>\n",
       "      <td>10.352941</td>\n",
       "      <td>1.705882</td>\n",
       "      <td>1.705882</td>\n",
       "      <td>23.911765</td>\n",
       "    </tr>\n",
       "    <tr>\n",
       "      <th>643688</th>\n",
       "      <td>1827869</td>\n",
       "      <td>2013</td>\n",
       "      <td>1</td>\n",
       "      <td>1</td>\n",
       "      <td>1</td>\n",
       "      <td>0</td>\n",
       "      <td>0</td>\n",
       "      <td>0</td>\n",
       "      <td>1</td>\n",
       "      <td>0</td>\n",
       "      <td>...</td>\n",
       "      <td>0.000000</td>\n",
       "      <td>0.000000</td>\n",
       "      <td>0.000000</td>\n",
       "      <td>0.000000</td>\n",
       "      <td>0.000000</td>\n",
       "      <td>0.525424</td>\n",
       "      <td>0.000000</td>\n",
       "      <td>0.000000</td>\n",
       "      <td>0.000000</td>\n",
       "      <td>0.000000</td>\n",
       "    </tr>\n",
       "    <tr>\n",
       "      <th>643689</th>\n",
       "      <td>1827869</td>\n",
       "      <td>2014</td>\n",
       "      <td>2</td>\n",
       "      <td>0</td>\n",
       "      <td>0</td>\n",
       "      <td>1</td>\n",
       "      <td>0</td>\n",
       "      <td>0</td>\n",
       "      <td>1</td>\n",
       "      <td>0</td>\n",
       "      <td>...</td>\n",
       "      <td>0.000000</td>\n",
       "      <td>0.666667</td>\n",
       "      <td>0.666667</td>\n",
       "      <td>0.000000</td>\n",
       "      <td>0.000000</td>\n",
       "      <td>8.950000</td>\n",
       "      <td>1.033333</td>\n",
       "      <td>0.083333</td>\n",
       "      <td>0.083333</td>\n",
       "      <td>8.133333</td>\n",
       "    </tr>\n",
       "  </tbody>\n",
       "</table>\n",
       "<p>643690 rows × 164 columns</p>\n",
       "</div>"
      ],
      "text/plain": [
       "         persnr  year  nrEntry  ltue  employed_before  receipt_leh_before  \\\n",
       "0             7  2015        1     0                1                   0   \n",
       "1            18  2010        1     1                0                   0   \n",
       "2            18  2011        2     0                1                   0   \n",
       "3            18  2012        3     0                1                   0   \n",
       "4            18  2012        4     0                1                   0   \n",
       "...         ...   ...      ...   ...              ...                 ...   \n",
       "643685  1827860  2013        1     0                0                   0   \n",
       "643686  1827860  2015        2     1                0                   0   \n",
       "643687  1827860  2016        3     1                0                   0   \n",
       "643688  1827869  2013        1     1                1                   0   \n",
       "643689  1827869  2014        2     0                0                   1   \n",
       "\n",
       "        receipt_lhg_before  se_before  ASU_notue_seeking_before  \\\n",
       "0                        0          0                         1   \n",
       "1                        0          0                         0   \n",
       "2                        1          0                         1   \n",
       "3                        1          0                         1   \n",
       "4                        1          0                         1   \n",
       "...                    ...        ...                       ...   \n",
       "643685                   1          0                         0   \n",
       "643686                   1          0                         1   \n",
       "643687                   1          1                         0   \n",
       "643688                   0          0                         1   \n",
       "643689                   0          0                         1   \n",
       "\n",
       "        ASU_other_before  ...  minijob_tot_dur_byage  ft_tot_dur_byage  \\\n",
       "0                      0  ...               0.000000          0.000000   \n",
       "1                      0  ...               0.000000          0.000000   \n",
       "2                      0  ...               2.714286          2.714286   \n",
       "3                      0  ...               4.200000          4.200000   \n",
       "4                      0  ...               5.460000          5.460000   \n",
       "...                  ...  ...                    ...               ...   \n",
       "643685                 1  ...               0.000000          0.000000   \n",
       "643686                 0  ...               0.000000          0.000000   \n",
       "643687                 1  ...               0.000000          0.000000   \n",
       "643688                 0  ...               0.000000          0.000000   \n",
       "643689                 0  ...               0.000000          0.666667   \n",
       "\n",
       "        befrist_tot_dur_byage  leih_tot_dur_byage  LHG_tot_dur_byage  \\\n",
       "0                   15.043478            0.000000           0.000000   \n",
       "1                    0.000000            0.000000           0.000000   \n",
       "2                    0.000000            0.000000          10.775510   \n",
       "3                    0.000000            0.000000          12.100000   \n",
       "4                    0.000000            0.000000          13.360000   \n",
       "...                       ...                 ...                ...   \n",
       "643685               0.000000            0.000000           0.612903   \n",
       "643686               0.212121            0.212121          17.363636   \n",
       "643687               0.294118            0.205882          34.705882   \n",
       "643688               0.000000            0.000000           0.000000   \n",
       "643689               0.666667            0.000000           0.000000   \n",
       "\n",
       "        LEH_tot_dur_byage  almp_tot_dur_byage  almp_aw_tot_dur_byage  \\\n",
       "0                0.000000            0.000000               0.000000   \n",
       "1                0.000000            0.000000               0.000000   \n",
       "2                0.000000            8.367347               0.000000   \n",
       "3                0.000000            9.400000               0.000000   \n",
       "4                0.000000           10.320000               0.000000   \n",
       "...                   ...                 ...                    ...   \n",
       "643685           0.000000            0.000000               0.000000   \n",
       "643686           0.000000            8.909091               0.000000   \n",
       "643687           0.000000           10.352941               1.705882   \n",
       "643688           0.525424            0.000000               0.000000   \n",
       "643689           8.950000            1.033333               0.083333   \n",
       "\n",
       "        se_tot_dur_byage  seeking1_tot_dur_byage  \n",
       "0               0.000000                0.000000  \n",
       "1               0.000000                0.000000  \n",
       "2               0.000000                9.836735  \n",
       "3               0.000000                9.960000  \n",
       "4               0.000000               10.280000  \n",
       "...                  ...                     ...  \n",
       "643685          0.000000                0.000000  \n",
       "643686          0.000000                7.121212  \n",
       "643687          1.705882               23.911765  \n",
       "643688          0.000000                0.000000  \n",
       "643689          0.083333                8.133333  \n",
       "\n",
       "[643690 rows x 164 columns]"
      ]
     },
     "execution_count": 10,
     "metadata": {},
     "output_type": "execute_result"
    }
   ],
   "source": [
    "siab"
   ]
  },
  {
   "cell_type": "markdown",
   "id": "1f87e805",
   "metadata": {
    "papermill": {
     "duration": 0.015552,
     "end_time": "2025-08-19T19:00:31.509514",
     "exception": false,
     "start_time": "2025-08-19T19:00:31.493962",
     "status": "completed"
    },
    "tags": []
   },
   "source": [
    "# Splitting Data and Setting Training Data Size"
   ]
  },
  {
   "cell_type": "code",
   "execution_count": 11,
   "id": "910ae358",
   "metadata": {
    "execution": {
     "iopub.execute_input": "2025-08-19T19:00:31.533164Z",
     "iopub.status.busy": "2025-08-19T19:00:31.532733Z",
     "iopub.status.idle": "2025-08-19T19:00:32.180646Z",
     "shell.execute_reply": "2025-08-19T19:00:32.179208Z"
    },
    "papermill": {
     "duration": 0.66054,
     "end_time": "2025-08-19T19:00:32.182351",
     "exception": false,
     "start_time": "2025-08-19T19:00:31.521811",
     "status": "completed"
    },
    "tags": []
   },
   "outputs": [],
   "source": [
    "from fairness_multiverse.universe import sample_by_year_size\n",
    "\n",
    "siab_train = sample_by_year_size(siab,\n",
    "                               training_year=universe[\"training_year\"],\n",
    "                               training_size=universe[\"training_size\"])"
   ]
  },
  {
   "cell_type": "code",
   "execution_count": 12,
   "id": "919c8ff5",
   "metadata": {
    "execution": {
     "iopub.execute_input": "2025-08-19T19:00:32.211888Z",
     "iopub.status.busy": "2025-08-19T19:00:32.211545Z",
     "iopub.status.idle": "2025-08-19T19:00:32.221729Z",
     "shell.execute_reply": "2025-08-19T19:00:32.220872Z"
    },
    "papermill": {
     "duration": 0.036299,
     "end_time": "2025-08-19T19:00:32.229226",
     "exception": false,
     "start_time": "2025-08-19T19:00:32.192927",
     "status": "completed"
    },
    "tags": []
   },
   "outputs": [
    {
     "data": {
      "text/plain": [
       "(1000, 164)"
      ]
     },
     "execution_count": 12,
     "metadata": {},
     "output_type": "execute_result"
    }
   ],
   "source": [
    "siab_train.shape"
   ]
  },
  {
   "cell_type": "code",
   "execution_count": 13,
   "id": "feb13bf4",
   "metadata": {
    "execution": {
     "iopub.execute_input": "2025-08-19T19:00:32.260555Z",
     "iopub.status.busy": "2025-08-19T19:00:32.259636Z",
     "iopub.status.idle": "2025-08-19T19:00:32.270539Z",
     "shell.execute_reply": "2025-08-19T19:00:32.269753Z"
    },
    "papermill": {
     "duration": 0.024745,
     "end_time": "2025-08-19T19:00:32.271907",
     "exception": false,
     "start_time": "2025-08-19T19:00:32.247162",
     "status": "completed"
    },
    "tags": []
   },
   "outputs": [
    {
     "data": {
      "text/plain": [
       "year\n",
       "2012    334\n",
       "2013    333\n",
       "2014    333\n",
       "dtype: int64"
      ]
     },
     "metadata": {},
     "output_type": "display_data"
    }
   ],
   "source": [
    "display(siab_train.groupby(\"year\").size())"
   ]
  },
  {
   "cell_type": "code",
   "execution_count": 14,
   "id": "0997782f",
   "metadata": {
    "execution": {
     "iopub.execute_input": "2025-08-19T19:00:32.297962Z",
     "iopub.status.busy": "2025-08-19T19:00:32.296952Z",
     "iopub.status.idle": "2025-08-19T19:00:32.599453Z",
     "shell.execute_reply": "2025-08-19T19:00:32.594621Z"
    },
    "papermill": {
     "duration": 0.318414,
     "end_time": "2025-08-19T19:00:32.602510",
     "exception": false,
     "start_time": "2025-08-19T19:00:32.284096",
     "status": "completed"
    },
    "tags": []
   },
   "outputs": [],
   "source": [
    "#siab_train = siab_s[siab_s.year < 2015]\n",
    "siab_calib = siab[siab.year == 2015]\n",
    "siab_test = siab[siab.year == 2016]"
   ]
  },
  {
   "cell_type": "code",
   "execution_count": 15,
   "id": "2c1e4012",
   "metadata": {
    "execution": {
     "iopub.execute_input": "2025-08-19T19:00:32.638742Z",
     "iopub.status.busy": "2025-08-19T19:00:32.637697Z",
     "iopub.status.idle": "2025-08-19T19:00:32.644767Z",
     "shell.execute_reply": "2025-08-19T19:00:32.643580Z"
    },
    "papermill": {
     "duration": 0.021444,
     "end_time": "2025-08-19T19:00:32.646225",
     "exception": false,
     "start_time": "2025-08-19T19:00:32.624781",
     "status": "completed"
    },
    "tags": []
   },
   "outputs": [],
   "source": [
    "#siab_calib.shape"
   ]
  },
  {
   "cell_type": "code",
   "execution_count": 16,
   "id": "f66b54ca",
   "metadata": {
    "execution": {
     "iopub.execute_input": "2025-08-19T19:00:32.670613Z",
     "iopub.status.busy": "2025-08-19T19:00:32.669604Z",
     "iopub.status.idle": "2025-08-19T19:00:32.678084Z",
     "shell.execute_reply": "2025-08-19T19:00:32.675666Z"
    },
    "papermill": {
     "duration": 0.021499,
     "end_time": "2025-08-19T19:00:32.679517",
     "exception": false,
     "start_time": "2025-08-19T19:00:32.658018",
     "status": "completed"
    },
    "tags": []
   },
   "outputs": [],
   "source": [
    "#siab_test.shape"
   ]
  },
  {
   "cell_type": "code",
   "execution_count": 17,
   "id": "27e4384d",
   "metadata": {
    "execution": {
     "iopub.execute_input": "2025-08-19T19:00:32.705243Z",
     "iopub.status.busy": "2025-08-19T19:00:32.704214Z",
     "iopub.status.idle": "2025-08-19T19:00:32.715837Z",
     "shell.execute_reply": "2025-08-19T19:00:32.714584Z"
    },
    "papermill": {
     "duration": 0.026975,
     "end_time": "2025-08-19T19:00:32.718748",
     "exception": false,
     "start_time": "2025-08-19T19:00:32.691773",
     "status": "completed"
    },
    "tags": []
   },
   "outputs": [],
   "source": [
    "X_train = siab_train.iloc[:,4:164]\n",
    "y_train = siab_train.iloc[:, [3]]"
   ]
  },
  {
   "cell_type": "code",
   "execution_count": 18,
   "id": "08ee8389",
   "metadata": {
    "execution": {
     "iopub.execute_input": "2025-08-19T19:00:32.747305Z",
     "iopub.status.busy": "2025-08-19T19:00:32.746281Z",
     "iopub.status.idle": "2025-08-19T19:00:32.808272Z",
     "shell.execute_reply": "2025-08-19T19:00:32.807148Z"
    },
    "papermill": {
     "duration": 0.078494,
     "end_time": "2025-08-19T19:00:32.811508",
     "exception": false,
     "start_time": "2025-08-19T19:00:32.733014",
     "status": "completed"
    },
    "tags": []
   },
   "outputs": [],
   "source": [
    "X_calib = siab_calib.iloc[:,4:164]\n",
    "y_calib = siab_calib.iloc[:, [3]]"
   ]
  },
  {
   "cell_type": "code",
   "execution_count": 19,
   "id": "b7ff42e0",
   "metadata": {
    "execution": {
     "iopub.execute_input": "2025-08-19T19:00:32.851557Z",
     "iopub.status.busy": "2025-08-19T19:00:32.850570Z",
     "iopub.status.idle": "2025-08-19T19:00:32.915713Z",
     "shell.execute_reply": "2025-08-19T19:00:32.914561Z"
    },
    "papermill": {
     "duration": 0.082253,
     "end_time": "2025-08-19T19:00:32.918932",
     "exception": false,
     "start_time": "2025-08-19T19:00:32.836679",
     "status": "completed"
    },
    "tags": []
   },
   "outputs": [],
   "source": [
    "X_test = siab_test.iloc[:,4:164]\n",
    "y_true = siab_test.iloc[:, [3]]"
   ]
  },
  {
   "cell_type": "code",
   "execution_count": 20,
   "id": "0275101e",
   "metadata": {
    "execution": {
     "iopub.execute_input": "2025-08-19T19:00:32.958980Z",
     "iopub.status.busy": "2025-08-19T19:00:32.958008Z",
     "iopub.status.idle": "2025-08-19T19:00:33.085759Z",
     "shell.execute_reply": "2025-08-19T19:00:33.084581Z"
    },
    "papermill": {
     "duration": 0.144081,
     "end_time": "2025-08-19T19:00:33.088890",
     "exception": false,
     "start_time": "2025-08-19T19:00:32.944809",
     "status": "completed"
    },
    "tags": []
   },
   "outputs": [],
   "source": [
    "# Auxiliary data needed downstream in the pipeline\n",
    "\n",
    "org_train = X_train.copy()\n",
    "org_test = X_test.copy()\n",
    "org_calib = X_calib.copy()"
   ]
  },
  {
   "cell_type": "markdown",
   "id": "b461e618",
   "metadata": {
    "papermill": {
     "duration": 0.011843,
     "end_time": "2025-08-19T19:00:33.125576",
     "exception": false,
     "start_time": "2025-08-19T19:00:33.113733",
     "status": "completed"
    },
    "tags": []
   },
   "source": [
    "# Preprocessing Data"
   ]
  },
  {
   "cell_type": "code",
   "execution_count": 21,
   "id": "78e74c4b",
   "metadata": {
    "execution": {
     "iopub.execute_input": "2025-08-19T19:00:33.151693Z",
     "iopub.status.busy": "2025-08-19T19:00:33.150724Z",
     "iopub.status.idle": "2025-08-19T19:00:33.160586Z",
     "shell.execute_reply": "2025-08-19T19:00:33.159135Z"
    },
    "papermill": {
     "duration": 0.026103,
     "end_time": "2025-08-19T19:00:33.162027",
     "exception": false,
     "start_time": "2025-08-19T19:00:33.135924",
     "status": "completed"
    },
    "tags": []
   },
   "outputs": [],
   "source": [
    "# EXCLUDE PROTECTED FEATURES\n",
    "# --------------------------\n",
    "\n",
    "excluded_features = universe[\"exclude_features\"].split(\"-\")\n",
    "excluded_features_dictionary = {\n",
    "    \"nationality\": [\"maxdeutsch1\", \"maxdeutsch.Missing.\"],\n",
    "    \"sex\": [\"frau1\"],\n",
    "    \"age\": [\"age\"],\n",
    "}"
   ]
  },
  {
   "cell_type": "code",
   "execution_count": 22,
   "id": "f8e63555",
   "metadata": {
    "execution": {
     "iopub.execute_input": "2025-08-19T19:00:33.195414Z",
     "iopub.status.busy": "2025-08-19T19:00:33.190694Z",
     "iopub.status.idle": "2025-08-19T19:00:33.205667Z",
     "shell.execute_reply": "2025-08-19T19:00:33.204742Z"
    },
    "papermill": {
     "duration": 0.033507,
     "end_time": "2025-08-19T19:00:33.209908",
     "exception": false,
     "start_time": "2025-08-19T19:00:33.176401",
     "status": "completed"
    },
    "tags": []
   },
   "outputs": [],
   "source": [
    "excluded_features_columns = [\n",
    "    excluded_features_dictionary[f] for f in excluded_features if len(f) > 0 and f != \"none\"\n",
    "]"
   ]
  },
  {
   "cell_type": "code",
   "execution_count": 23,
   "id": "da781f7c",
   "metadata": {
    "execution": {
     "iopub.execute_input": "2025-08-19T19:00:33.237330Z",
     "iopub.status.busy": "2025-08-19T19:00:33.237028Z",
     "iopub.status.idle": "2025-08-19T19:00:33.240889Z",
     "shell.execute_reply": "2025-08-19T19:00:33.240260Z"
    },
    "papermill": {
     "duration": 0.016843,
     "end_time": "2025-08-19T19:00:33.242360",
     "exception": false,
     "start_time": "2025-08-19T19:00:33.225517",
     "status": "completed"
    },
    "tags": []
   },
   "outputs": [],
   "source": [
    "from fairness_multiverse.universe import flatten_once\n",
    "\n",
    "excluded_features_columns = flatten_once(excluded_features_columns)"
   ]
  },
  {
   "cell_type": "code",
   "execution_count": 24,
   "id": "37fef0f0",
   "metadata": {
    "execution": {
     "iopub.execute_input": "2025-08-19T19:00:33.263665Z",
     "iopub.status.busy": "2025-08-19T19:00:33.263399Z",
     "iopub.status.idle": "2025-08-19T19:00:33.272928Z",
     "shell.execute_reply": "2025-08-19T19:00:33.271681Z"
    },
    "papermill": {
     "duration": 0.021944,
     "end_time": "2025-08-19T19:00:33.274491",
     "exception": false,
     "start_time": "2025-08-19T19:00:33.252547",
     "status": "completed"
    },
    "tags": []
   },
   "outputs": [
    {
     "name": "stdout",
     "output_type": "stream",
     "text": [
      "Dropping features: ['age']\n"
     ]
    }
   ],
   "source": [
    "if len(excluded_features_columns) > 0:\n",
    "    print(f\"Dropping features: {excluded_features_columns}\")\n",
    "    X_train.drop(excluded_features_columns, axis=1, inplace=True)"
   ]
  },
  {
   "cell_type": "code",
   "execution_count": 25,
   "id": "d029e3e9",
   "metadata": {
    "execution": {
     "iopub.execute_input": "2025-08-19T19:00:33.299086Z",
     "iopub.status.busy": "2025-08-19T19:00:33.298671Z",
     "iopub.status.idle": "2025-08-19T19:00:33.358574Z",
     "shell.execute_reply": "2025-08-19T19:00:33.357859Z"
    },
    "papermill": {
     "duration": 0.073589,
     "end_time": "2025-08-19T19:00:33.360088",
     "exception": false,
     "start_time": "2025-08-19T19:00:33.286499",
     "status": "completed"
    },
    "tags": []
   },
   "outputs": [
    {
     "name": "stdout",
     "output_type": "stream",
     "text": [
      "Dropping features: ['age']\n"
     ]
    }
   ],
   "source": [
    "if len(excluded_features_columns) > 0:\n",
    "    print(f\"Dropping features: {excluded_features_columns}\")\n",
    "    X_test.drop(excluded_features_columns, axis=1, inplace=True)"
   ]
  },
  {
   "cell_type": "code",
   "execution_count": 26,
   "id": "01d571f0",
   "metadata": {
    "execution": {
     "iopub.execute_input": "2025-08-19T19:00:33.384516Z",
     "iopub.status.busy": "2025-08-19T19:00:33.384098Z",
     "iopub.status.idle": "2025-08-19T19:00:33.522323Z",
     "shell.execute_reply": "2025-08-19T19:00:33.521481Z"
    },
    "papermill": {
     "duration": 0.151843,
     "end_time": "2025-08-19T19:00:33.524418",
     "exception": false,
     "start_time": "2025-08-19T19:00:33.372575",
     "status": "completed"
    },
    "tags": []
   },
   "outputs": [
    {
     "name": "stdout",
     "output_type": "stream",
     "text": [
      "Dropping features: ['age']\n"
     ]
    }
   ],
   "source": [
    "if len(excluded_features_columns) > 0:\n",
    "    print(f\"Dropping features: {excluded_features_columns}\")\n",
    "    X_calib.drop(excluded_features_columns, axis=1, inplace=True)"
   ]
  },
  {
   "cell_type": "code",
   "execution_count": 27,
   "id": "3037356e",
   "metadata": {
    "execution": {
     "iopub.execute_input": "2025-08-19T19:00:33.548279Z",
     "iopub.status.busy": "2025-08-19T19:00:33.547767Z",
     "iopub.status.idle": "2025-08-19T19:00:33.552584Z",
     "shell.execute_reply": "2025-08-19T19:00:33.551885Z"
    },
    "papermill": {
     "duration": 0.018086,
     "end_time": "2025-08-19T19:00:33.553939",
     "exception": false,
     "start_time": "2025-08-19T19:00:33.535853",
     "status": "completed"
    },
    "tags": []
   },
   "outputs": [],
   "source": [
    "# EXCLUDE CERTAIN SUBGROUPS\n",
    "# -------------------------\n",
    "\n",
    "mode = universe.get(\"exclude_subgroups\", \"keep-all\") # Defaults to \"keep-all\" if the key is missing."
   ]
  },
  {
   "cell_type": "code",
   "execution_count": 28,
   "id": "9d1e63fd",
   "metadata": {
    "execution": {
     "iopub.execute_input": "2025-08-19T19:00:33.576657Z",
     "iopub.status.busy": "2025-08-19T19:00:33.576270Z",
     "iopub.status.idle": "2025-08-19T19:00:33.585774Z",
     "shell.execute_reply": "2025-08-19T19:00:33.585190Z"
    },
    "papermill": {
     "duration": 0.022255,
     "end_time": "2025-08-19T19:00:33.586992",
     "exception": false,
     "start_time": "2025-08-19T19:00:33.564737",
     "status": "completed"
    },
    "tags": []
   },
   "outputs": [],
   "source": [
    "if mode == \"keep-all\":\n",
    "    keep_mask = pd.Series(True, index=org_train.index)\n",
    "\n",
    "elif mode == \"drop-non-german\":\n",
    "    keep_mask = (org_train[\"maxdeutsch1\"] == 1) & (org_train[\"maxdeutsch.Missing.\"] == 0)\n",
    "\n",
    "else:\n",
    "    raise ValueError(f\"Unsupported mode for exclude_subgroups: {mode}\")"
   ]
  },
  {
   "cell_type": "code",
   "execution_count": 29,
   "id": "d3b65474",
   "metadata": {
    "execution": {
     "iopub.execute_input": "2025-08-19T19:00:33.609207Z",
     "iopub.status.busy": "2025-08-19T19:00:33.608843Z",
     "iopub.status.idle": "2025-08-19T19:00:33.614519Z",
     "shell.execute_reply": "2025-08-19T19:00:33.613542Z"
    },
    "papermill": {
     "duration": 0.019545,
     "end_time": "2025-08-19T19:00:33.617008",
     "exception": false,
     "start_time": "2025-08-19T19:00:33.597463",
     "status": "completed"
    },
    "tags": []
   },
   "outputs": [],
   "source": [
    "n_drop = (~keep_mask).sum() # Calculates how many rows are set to be dropped\n",
    "if n_drop > 0:\n",
    "    pct = n_drop / len(keep_mask) * 100\n",
    "    print(f\"Dropping {n_drop} rows ({pct:.2f}%) where mode='{mode}'\")"
   ]
  },
  {
   "cell_type": "code",
   "execution_count": 30,
   "id": "f44389b3",
   "metadata": {
    "execution": {
     "iopub.execute_input": "2025-08-19T19:00:33.669595Z",
     "iopub.status.busy": "2025-08-19T19:00:33.668176Z",
     "iopub.status.idle": "2025-08-19T19:00:33.680918Z",
     "shell.execute_reply": "2025-08-19T19:00:33.679346Z"
    },
    "papermill": {
     "duration": 0.044869,
     "end_time": "2025-08-19T19:00:33.684629",
     "exception": false,
     "start_time": "2025-08-19T19:00:33.639760",
     "status": "completed"
    },
    "tags": []
   },
   "outputs": [],
   "source": [
    "X_train = X_train[keep_mask]"
   ]
  },
  {
   "cell_type": "code",
   "execution_count": 31,
   "id": "ceca8c2a",
   "metadata": {
    "execution": {
     "iopub.execute_input": "2025-08-19T19:00:33.715635Z",
     "iopub.status.busy": "2025-08-19T19:00:33.715164Z",
     "iopub.status.idle": "2025-08-19T19:00:33.720812Z",
     "shell.execute_reply": "2025-08-19T19:00:33.719958Z"
    },
    "papermill": {
     "duration": 0.018794,
     "end_time": "2025-08-19T19:00:33.722249",
     "exception": false,
     "start_time": "2025-08-19T19:00:33.703455",
     "status": "completed"
    },
    "tags": []
   },
   "outputs": [],
   "source": [
    "y_train = y_train[keep_mask]"
   ]
  },
  {
   "cell_type": "markdown",
   "id": "04d31e2f",
   "metadata": {
    "papermill": {
     "duration": 0.010341,
     "end_time": "2025-08-19T19:00:33.743216",
     "exception": false,
     "start_time": "2025-08-19T19:00:33.732875",
     "status": "completed"
    },
    "tags": []
   },
   "source": [
    "# Model Training"
   ]
  },
  {
   "cell_type": "code",
   "execution_count": 32,
   "id": "db991733",
   "metadata": {
    "execution": {
     "iopub.execute_input": "2025-08-19T19:00:33.765866Z",
     "iopub.status.busy": "2025-08-19T19:00:33.765406Z",
     "iopub.status.idle": "2025-08-19T19:00:33.894222Z",
     "shell.execute_reply": "2025-08-19T19:00:33.892855Z"
    },
    "papermill": {
     "duration": 0.142067,
     "end_time": "2025-08-19T19:00:33.895810",
     "exception": false,
     "start_time": "2025-08-19T19:00:33.753743",
     "status": "completed"
    },
    "tags": []
   },
   "outputs": [],
   "source": [
    "from sklearn.linear_model import LogisticRegression\n",
    "from sklearn.ensemble import GradientBoostingClassifier, RandomForestClassifier\n",
    "\n",
    "if (universe[\"model\"] == \"logreg\"):\n",
    "    model = LogisticRegression() #penalty=\"none\", solver=\"newton-cg\", max_iter=1)\n",
    "elif (universe[\"model\"] == \"penalized_logreg\"):\n",
    "    model = LogisticRegression(penalty=\"l2\", C=0.1) #, solver=\"newton-cg\", max_iter=1)\n",
    "elif (universe[\"model\"] == \"rf\"):\n",
    "    model = RandomForestClassifier() # n_estimators=100, n_jobs=-1\n",
    "elif (universe[\"model\"] == \"gbm\"):\n",
    "    model = GradientBoostingClassifier()\n",
    "elif (universe[\"model\"] == \"elasticnet\"):\n",
    "    model = LogisticRegression(penalty = 'elasticnet', solver = 'saga', l1_ratio = 0.5) # max_iter=5000\n",
    "else:\n",
    "    raise \"Unsupported universe.model\""
   ]
  },
  {
   "cell_type": "code",
   "execution_count": 33,
   "id": "a4b5cd25",
   "metadata": {
    "execution": {
     "iopub.execute_input": "2025-08-19T19:00:33.920287Z",
     "iopub.status.busy": "2025-08-19T19:00:33.919306Z",
     "iopub.status.idle": "2025-08-19T19:00:33.925376Z",
     "shell.execute_reply": "2025-08-19T19:00:33.924516Z"
    },
    "papermill": {
     "duration": 0.019573,
     "end_time": "2025-08-19T19:00:33.926598",
     "exception": false,
     "start_time": "2025-08-19T19:00:33.907025",
     "status": "completed"
    },
    "tags": []
   },
   "outputs": [],
   "source": [
    "from sklearn.pipeline import Pipeline\n",
    "from sklearn.preprocessing import StandardScaler\n",
    "\n",
    "model = Pipeline([\n",
    "    #(\"continuous_processor\", continuous_processor),\n",
    "    #(\"categorical_preprocessor\", categorical_preprocessor),\n",
    "    (\"scale\", StandardScaler() if universe[\"scale\"] == \"scale\" else None), \n",
    "    (\"model\", model),\n",
    "])"
   ]
  },
  {
   "cell_type": "code",
   "execution_count": 34,
   "id": "283a904d",
   "metadata": {
    "execution": {
     "iopub.execute_input": "2025-08-19T19:00:33.953418Z",
     "iopub.status.busy": "2025-08-19T19:00:33.952157Z",
     "iopub.status.idle": "2025-08-19T19:00:34.328758Z",
     "shell.execute_reply": "2025-08-19T19:00:34.327889Z"
    },
    "papermill": {
     "duration": 0.390196,
     "end_time": "2025-08-19T19:00:34.330015",
     "exception": false,
     "start_time": "2025-08-19T19:00:33.939819",
     "status": "completed"
    },
    "tags": []
   },
   "outputs": [
    {
     "name": "stderr",
     "output_type": "stream",
     "text": [
      "/dss/dsshome1/0C/ra93lal2/.local/share/virtualenvs/CMA_Fairness_v2-3j10GkSs/lib/python3.10/site-packages/sklearn/linear_model/_sag.py:350: ConvergenceWarning: The max_iter was reached which means the coef_ did not converge\n",
      "  warnings.warn(\n"
     ]
    },
    {
     "data": {
      "text/html": [
       "<style>#sk-container-id-1 {color: black;background-color: white;}#sk-container-id-1 pre{padding: 0;}#sk-container-id-1 div.sk-toggleable {background-color: white;}#sk-container-id-1 label.sk-toggleable__label {cursor: pointer;display: block;width: 100%;margin-bottom: 0;padding: 0.3em;box-sizing: border-box;text-align: center;}#sk-container-id-1 label.sk-toggleable__label-arrow:before {content: \"▸\";float: left;margin-right: 0.25em;color: #696969;}#sk-container-id-1 label.sk-toggleable__label-arrow:hover:before {color: black;}#sk-container-id-1 div.sk-estimator:hover label.sk-toggleable__label-arrow:before {color: black;}#sk-container-id-1 div.sk-toggleable__content {max-height: 0;max-width: 0;overflow: hidden;text-align: left;background-color: #f0f8ff;}#sk-container-id-1 div.sk-toggleable__content pre {margin: 0.2em;color: black;border-radius: 0.25em;background-color: #f0f8ff;}#sk-container-id-1 input.sk-toggleable__control:checked~div.sk-toggleable__content {max-height: 200px;max-width: 100%;overflow: auto;}#sk-container-id-1 input.sk-toggleable__control:checked~label.sk-toggleable__label-arrow:before {content: \"▾\";}#sk-container-id-1 div.sk-estimator input.sk-toggleable__control:checked~label.sk-toggleable__label {background-color: #d4ebff;}#sk-container-id-1 div.sk-label input.sk-toggleable__control:checked~label.sk-toggleable__label {background-color: #d4ebff;}#sk-container-id-1 input.sk-hidden--visually {border: 0;clip: rect(1px 1px 1px 1px);clip: rect(1px, 1px, 1px, 1px);height: 1px;margin: -1px;overflow: hidden;padding: 0;position: absolute;width: 1px;}#sk-container-id-1 div.sk-estimator {font-family: monospace;background-color: #f0f8ff;border: 1px dotted black;border-radius: 0.25em;box-sizing: border-box;margin-bottom: 0.5em;}#sk-container-id-1 div.sk-estimator:hover {background-color: #d4ebff;}#sk-container-id-1 div.sk-parallel-item::after {content: \"\";width: 100%;border-bottom: 1px solid gray;flex-grow: 1;}#sk-container-id-1 div.sk-label:hover label.sk-toggleable__label {background-color: #d4ebff;}#sk-container-id-1 div.sk-serial::before {content: \"\";position: absolute;border-left: 1px solid gray;box-sizing: border-box;top: 0;bottom: 0;left: 50%;z-index: 0;}#sk-container-id-1 div.sk-serial {display: flex;flex-direction: column;align-items: center;background-color: white;padding-right: 0.2em;padding-left: 0.2em;position: relative;}#sk-container-id-1 div.sk-item {position: relative;z-index: 1;}#sk-container-id-1 div.sk-parallel {display: flex;align-items: stretch;justify-content: center;background-color: white;position: relative;}#sk-container-id-1 div.sk-item::before, #sk-container-id-1 div.sk-parallel-item::before {content: \"\";position: absolute;border-left: 1px solid gray;box-sizing: border-box;top: 0;bottom: 0;left: 50%;z-index: -1;}#sk-container-id-1 div.sk-parallel-item {display: flex;flex-direction: column;z-index: 1;position: relative;background-color: white;}#sk-container-id-1 div.sk-parallel-item:first-child::after {align-self: flex-end;width: 50%;}#sk-container-id-1 div.sk-parallel-item:last-child::after {align-self: flex-start;width: 50%;}#sk-container-id-1 div.sk-parallel-item:only-child::after {width: 0;}#sk-container-id-1 div.sk-dashed-wrapped {border: 1px dashed gray;margin: 0 0.4em 0.5em 0.4em;box-sizing: border-box;padding-bottom: 0.4em;background-color: white;}#sk-container-id-1 div.sk-label label {font-family: monospace;font-weight: bold;display: inline-block;line-height: 1.2em;}#sk-container-id-1 div.sk-label-container {text-align: center;}#sk-container-id-1 div.sk-container {/* jupyter's `normalize.less` sets `[hidden] { display: none; }` but bootstrap.min.css set `[hidden] { display: none !important; }` so we also need the `!important` here to be able to override the default hidden behavior on the sphinx rendered scikit-learn.org. See: https://github.com/scikit-learn/scikit-learn/issues/21755 */display: inline-block !important;position: relative;}#sk-container-id-1 div.sk-text-repr-fallback {display: none;}</style><div id=\"sk-container-id-1\" class=\"sk-top-container\"><div class=\"sk-text-repr-fallback\"><pre>Pipeline(steps=[(&#x27;scale&#x27;, StandardScaler()),\n",
       "                (&#x27;model&#x27;,\n",
       "                 LogisticRegression(l1_ratio=0.5, penalty=&#x27;elasticnet&#x27;,\n",
       "                                    solver=&#x27;saga&#x27;))])</pre><b>In a Jupyter environment, please rerun this cell to show the HTML representation or trust the notebook. <br />On GitHub, the HTML representation is unable to render, please try loading this page with nbviewer.org.</b></div><div class=\"sk-container\" hidden><div class=\"sk-item sk-dashed-wrapped\"><div class=\"sk-label-container\"><div class=\"sk-label sk-toggleable\"><input class=\"sk-toggleable__control sk-hidden--visually\" id=\"sk-estimator-id-1\" type=\"checkbox\" ><label for=\"sk-estimator-id-1\" class=\"sk-toggleable__label sk-toggleable__label-arrow\">Pipeline</label><div class=\"sk-toggleable__content\"><pre>Pipeline(steps=[(&#x27;scale&#x27;, StandardScaler()),\n",
       "                (&#x27;model&#x27;,\n",
       "                 LogisticRegression(l1_ratio=0.5, penalty=&#x27;elasticnet&#x27;,\n",
       "                                    solver=&#x27;saga&#x27;))])</pre></div></div></div><div class=\"sk-serial\"><div class=\"sk-item\"><div class=\"sk-estimator sk-toggleable\"><input class=\"sk-toggleable__control sk-hidden--visually\" id=\"sk-estimator-id-2\" type=\"checkbox\" ><label for=\"sk-estimator-id-2\" class=\"sk-toggleable__label sk-toggleable__label-arrow\">StandardScaler</label><div class=\"sk-toggleable__content\"><pre>StandardScaler()</pre></div></div></div><div class=\"sk-item\"><div class=\"sk-estimator sk-toggleable\"><input class=\"sk-toggleable__control sk-hidden--visually\" id=\"sk-estimator-id-3\" type=\"checkbox\" ><label for=\"sk-estimator-id-3\" class=\"sk-toggleable__label sk-toggleable__label-arrow\">LogisticRegression</label><div class=\"sk-toggleable__content\"><pre>LogisticRegression(l1_ratio=0.5, penalty=&#x27;elasticnet&#x27;, solver=&#x27;saga&#x27;)</pre></div></div></div></div></div></div></div>"
      ],
      "text/plain": [
       "Pipeline(steps=[('scale', StandardScaler()),\n",
       "                ('model',\n",
       "                 LogisticRegression(l1_ratio=0.5, penalty='elasticnet',\n",
       "                                    solver='saga'))])"
      ]
     },
     "execution_count": 34,
     "metadata": {},
     "output_type": "execute_result"
    }
   ],
   "source": [
    "model.fit(X_train, y_train.values.ravel())"
   ]
  },
  {
   "cell_type": "code",
   "execution_count": 35,
   "id": "6e15e313",
   "metadata": {
    "execution": {
     "iopub.execute_input": "2025-08-19T19:00:34.385243Z",
     "iopub.status.busy": "2025-08-19T19:00:34.383743Z",
     "iopub.status.idle": "2025-08-19T19:00:34.628699Z",
     "shell.execute_reply": "2025-08-19T19:00:34.627595Z"
    },
    "papermill": {
     "duration": 0.276657,
     "end_time": "2025-08-19T19:00:34.630487",
     "exception": false,
     "start_time": "2025-08-19T19:00:34.353830",
     "status": "completed"
    },
    "tags": []
   },
   "outputs": [
    {
     "data": {
      "text/plain": [
       "0.8310333296176569"
      ]
     },
     "execution_count": 35,
     "metadata": {},
     "output_type": "execute_result"
    }
   ],
   "source": [
    "from fairness_multiverse.universe import predict_w_threshold\n",
    "\n",
    "probs_test = model.predict_proba(X_test)\n",
    "\n",
    "'''\n",
    "Below code returns a boolean array (or binary 0/1 array depending on how it’s used) where each element \n",
    "is True if the probability of class 1 is greater than or equal to the threshold, and False otherwise.\n",
    "'''\n",
    "y_pred_default = predict_w_threshold(probs_test, 0.5)\n",
    "\n",
    "from sklearn.metrics import accuracy_score\n",
    "\n",
    "# Naive prediction\n",
    "accuracy_score(y_true = y_true, y_pred = y_pred_default)"
   ]
  },
  {
   "cell_type": "code",
   "execution_count": 36,
   "id": "6f14067c",
   "metadata": {
    "execution": {
     "iopub.execute_input": "2025-08-19T19:00:34.657405Z",
     "iopub.status.busy": "2025-08-19T19:00:34.656934Z",
     "iopub.status.idle": "2025-08-19T19:00:34.857596Z",
     "shell.execute_reply": "2025-08-19T19:00:34.856523Z"
    },
    "papermill": {
     "duration": 0.21504,
     "end_time": "2025-08-19T19:00:34.859225",
     "exception": false,
     "start_time": "2025-08-19T19:00:34.644185",
     "status": "completed"
    },
    "tags": []
   },
   "outputs": [
    {
     "data": {
      "text/plain": [
       "array([0, 0, 0, ..., 0, 0, 0])"
      ]
     },
     "execution_count": 36,
     "metadata": {},
     "output_type": "execute_result"
    }
   ],
   "source": [
    "model.predict(X_test)"
   ]
  },
  {
   "cell_type": "markdown",
   "id": "3759920c",
   "metadata": {
    "papermill": {
     "duration": 0.011793,
     "end_time": "2025-08-19T19:00:34.885358",
     "exception": false,
     "start_time": "2025-08-19T19:00:34.873565",
     "status": "completed"
    },
    "tags": []
   },
   "source": [
    "# Conformal Prediction"
   ]
  },
  {
   "cell_type": "code",
   "execution_count": 37,
   "id": "14b27f59",
   "metadata": {
    "execution": {
     "iopub.execute_input": "2025-08-19T19:00:34.915928Z",
     "iopub.status.busy": "2025-08-19T19:00:34.914661Z",
     "iopub.status.idle": "2025-08-19T19:00:34.923497Z",
     "shell.execute_reply": "2025-08-19T19:00:34.922238Z"
    },
    "papermill": {
     "duration": 0.028798,
     "end_time": "2025-08-19T19:00:34.925103",
     "exception": false,
     "start_time": "2025-08-19T19:00:34.896305",
     "status": "completed"
    },
    "tags": []
   },
   "outputs": [],
   "source": [
    "# Miscoverage level for conformal prediction (10% allowed error rate => 90% target coverage)\n",
    "alpha = 0.1"
   ]
  },
  {
   "cell_type": "code",
   "execution_count": 38,
   "id": "59102472",
   "metadata": {
    "execution": {
     "iopub.execute_input": "2025-08-19T19:00:34.956525Z",
     "iopub.status.busy": "2025-08-19T19:00:34.952181Z",
     "iopub.status.idle": "2025-08-19T19:00:35.151749Z",
     "shell.execute_reply": "2025-08-19T19:00:35.150694Z"
    },
    "papermill": {
     "duration": 0.214619,
     "end_time": "2025-08-19T19:00:35.153858",
     "exception": false,
     "start_time": "2025-08-19T19:00:34.939239",
     "status": "completed"
    },
    "tags": []
   },
   "outputs": [],
   "source": [
    "probs_calib = model.predict_proba(X_calib)"
   ]
  },
  {
   "cell_type": "code",
   "execution_count": 39,
   "id": "a792d4dd",
   "metadata": {
    "execution": {
     "iopub.execute_input": "2025-08-19T19:00:35.181469Z",
     "iopub.status.busy": "2025-08-19T19:00:35.180704Z",
     "iopub.status.idle": "2025-08-19T19:00:35.189427Z",
     "shell.execute_reply": "2025-08-19T19:00:35.187827Z"
    },
    "papermill": {
     "duration": 0.023118,
     "end_time": "2025-08-19T19:00:35.191117",
     "exception": false,
     "start_time": "2025-08-19T19:00:35.167999",
     "status": "completed"
    },
    "tags": []
   },
   "outputs": [],
   "source": [
    "y_calib = y_calib.values.ravel().astype(int)"
   ]
  },
  {
   "cell_type": "code",
   "execution_count": 40,
   "id": "650fd033",
   "metadata": {
    "execution": {
     "iopub.execute_input": "2025-08-19T19:00:35.219134Z",
     "iopub.status.busy": "2025-08-19T19:00:35.217823Z",
     "iopub.status.idle": "2025-08-19T19:00:35.231929Z",
     "shell.execute_reply": "2025-08-19T19:00:35.230502Z"
    },
    "papermill": {
     "duration": 0.028563,
     "end_time": "2025-08-19T19:00:35.233578",
     "exception": false,
     "start_time": "2025-08-19T19:00:35.205015",
     "status": "completed"
    },
    "tags": []
   },
   "outputs": [],
   "source": [
    "from fairness_multiverse.conformal import compute_nc_scores\n",
    "\n",
    "# Compute nonconformity scores on calibration set (1 - probability of true class)\n",
    "nc_scores = compute_nc_scores(probs_calib, y_calib)"
   ]
  },
  {
   "cell_type": "code",
   "execution_count": 41,
   "id": "28ada44c",
   "metadata": {
    "execution": {
     "iopub.execute_input": "2025-08-19T19:00:35.263100Z",
     "iopub.status.busy": "2025-08-19T19:00:35.261876Z",
     "iopub.status.idle": "2025-08-19T19:00:35.275609Z",
     "shell.execute_reply": "2025-08-19T19:00:35.274139Z"
    },
    "papermill": {
     "duration": 0.02859,
     "end_time": "2025-08-19T19:00:35.277137",
     "exception": false,
     "start_time": "2025-08-19T19:00:35.248547",
     "status": "completed"
    },
    "tags": []
   },
   "outputs": [],
   "source": [
    "from fairness_multiverse.conformal import find_threshold\n",
    "\n",
    "# Find conformal threshold q_hat for the given alpha (split conformal method)\n",
    "q_hat = find_threshold(nc_scores, alpha)"
   ]
  },
  {
   "cell_type": "code",
   "execution_count": 42,
   "id": "df56469e",
   "metadata": {
    "execution": {
     "iopub.execute_input": "2025-08-19T19:00:35.310587Z",
     "iopub.status.busy": "2025-08-19T19:00:35.309341Z",
     "iopub.status.idle": "2025-08-19T19:00:35.320345Z",
     "shell.execute_reply": "2025-08-19T19:00:35.319176Z"
    },
    "papermill": {
     "duration": 0.02672,
     "end_time": "2025-08-19T19:00:35.321690",
     "exception": false,
     "start_time": "2025-08-19T19:00:35.294970",
     "status": "completed"
    },
    "tags": []
   },
   "outputs": [
    {
     "data": {
      "text/plain": [
       "0.7749051654248165"
      ]
     },
     "execution_count": 42,
     "metadata": {},
     "output_type": "execute_result"
    }
   ],
   "source": [
    "q_hat"
   ]
  },
  {
   "cell_type": "code",
   "execution_count": 43,
   "id": "aa1f5faa",
   "metadata": {
    "execution": {
     "iopub.execute_input": "2025-08-19T19:00:35.350627Z",
     "iopub.status.busy": "2025-08-19T19:00:35.349316Z",
     "iopub.status.idle": "2025-08-19T19:00:36.039184Z",
     "shell.execute_reply": "2025-08-19T19:00:36.037824Z"
    },
    "papermill": {
     "duration": 0.704855,
     "end_time": "2025-08-19T19:00:36.041263",
     "exception": false,
     "start_time": "2025-08-19T19:00:35.336408",
     "status": "completed"
    },
    "tags": []
   },
   "outputs": [],
   "source": [
    "from fairness_multiverse.conformal import predict_conformal_sets\n",
    "\n",
    "# Generate prediction sets for each test example\n",
    "pred_sets = predict_conformal_sets(model, X_test, q_hat)"
   ]
  },
  {
   "cell_type": "code",
   "execution_count": 44,
   "id": "97f67a6b",
   "metadata": {
    "execution": {
     "iopub.execute_input": "2025-08-19T19:00:36.067388Z",
     "iopub.status.busy": "2025-08-19T19:00:36.066985Z",
     "iopub.status.idle": "2025-08-19T19:00:36.072018Z",
     "shell.execute_reply": "2025-08-19T19:00:36.071277Z"
    },
    "papermill": {
     "duration": 0.021774,
     "end_time": "2025-08-19T19:00:36.075460",
     "exception": false,
     "start_time": "2025-08-19T19:00:36.053686",
     "status": "completed"
    },
    "tags": []
   },
   "outputs": [],
   "source": [
    "y_true = y_true.squeeze()"
   ]
  },
  {
   "cell_type": "code",
   "execution_count": 45,
   "id": "e700e9a7",
   "metadata": {
    "execution": {
     "iopub.execute_input": "2025-08-19T19:00:36.110561Z",
     "iopub.status.busy": "2025-08-19T19:00:36.104079Z",
     "iopub.status.idle": "2025-08-19T19:00:36.667945Z",
     "shell.execute_reply": "2025-08-19T19:00:36.666679Z"
    },
    "papermill": {
     "duration": 0.583728,
     "end_time": "2025-08-19T19:00:36.672092",
     "exception": false,
     "start_time": "2025-08-19T19:00:36.088364",
     "status": "completed"
    },
    "tags": []
   },
   "outputs": [],
   "source": [
    "from fairness_multiverse.conformal import evaluate_sets\n",
    "\n",
    "# Evaluate coverage and average set size on test data\n",
    "metrics = evaluate_sets(pred_sets, y_true)"
   ]
  },
  {
   "cell_type": "markdown",
   "id": "efbacec0",
   "metadata": {
    "papermill": {
     "duration": 0.011765,
     "end_time": "2025-08-19T19:00:36.702117",
     "exception": false,
     "start_time": "2025-08-19T19:00:36.690352",
     "status": "completed"
    },
    "tags": []
   },
   "source": [
    "# CP Metrics"
   ]
  },
  {
   "cell_type": "code",
   "execution_count": 46,
   "id": "9de55fb1",
   "metadata": {
    "execution": {
     "iopub.execute_input": "2025-08-19T19:00:36.727642Z",
     "iopub.status.busy": "2025-08-19T19:00:36.727063Z",
     "iopub.status.idle": "2025-08-19T19:00:36.737670Z",
     "shell.execute_reply": "2025-08-19T19:00:36.736043Z"
    },
    "papermill": {
     "duration": 0.025969,
     "end_time": "2025-08-19T19:00:36.739545",
     "exception": false,
     "start_time": "2025-08-19T19:00:36.713576",
     "status": "completed"
    },
    "tags": []
   },
   "outputs": [
    {
     "data": {
      "text/plain": [
       "{'coverage': 0.9095975922416676, 'avg_size': 1.2246349347898784}"
      ]
     },
     "execution_count": 46,
     "metadata": {},
     "output_type": "execute_result"
    }
   ],
   "source": [
    "metrics"
   ]
  },
  {
   "cell_type": "code",
   "execution_count": 47,
   "id": "64c340a1",
   "metadata": {
    "execution": {
     "iopub.execute_input": "2025-08-19T19:00:36.768117Z",
     "iopub.status.busy": "2025-08-19T19:00:36.766516Z",
     "iopub.status.idle": "2025-08-19T19:00:36.778140Z",
     "shell.execute_reply": "2025-08-19T19:00:36.776466Z"
    },
    "papermill": {
     "duration": 0.027342,
     "end_time": "2025-08-19T19:00:36.780098",
     "exception": false,
     "start_time": "2025-08-19T19:00:36.752756",
     "status": "completed"
    },
    "tags": []
   },
   "outputs": [],
   "source": [
    "example_universe = universe.copy()\n",
    "universe_training_year = example_universe.get(\"training_year\")\n",
    "universe_training_size = example_universe.get(\"training_size\")\n",
    "universe_scale = example_universe.get(\"scale\")\n",
    "universe_model = example_universe.get(\"model\")\n",
    "universe_exclude_features = example_universe.get(\"exclude_features\")\n",
    "universe_exclude_subgroups = example_universe.get(\"exclude_subgroups\")"
   ]
  },
  {
   "cell_type": "code",
   "execution_count": 48,
   "id": "dbb53cb4",
   "metadata": {
    "execution": {
     "iopub.execute_input": "2025-08-19T19:00:36.811470Z",
     "iopub.status.busy": "2025-08-19T19:00:36.810180Z",
     "iopub.status.idle": "2025-08-19T19:00:36.821265Z",
     "shell.execute_reply": "2025-08-19T19:00:36.820064Z"
    },
    "papermill": {
     "duration": 0.0266,
     "end_time": "2025-08-19T19:00:36.823013",
     "exception": false,
     "start_time": "2025-08-19T19:00:36.796413",
     "status": "completed"
    },
    "tags": []
   },
   "outputs": [],
   "source": [
    "cp_metrics_dict = {\n",
    "    \"universe_id\": [universe_id],\n",
    "    \"universe_training_year\": [universe_training_year],\n",
    "    \"universe_training_size\": [universe_training_size],\n",
    "    \"universe_scale\": [universe_scale],\n",
    "    \"universe_model\": [universe_model],\n",
    "    \"universe_exclude_features\": [universe_exclude_features],\n",
    "    \"universe_exclude_subgroups\": [universe_exclude_subgroups],\n",
    "    \"q_hat\": [q_hat],\n",
    "    \"coverage\": [metrics[\"coverage\"]],\n",
    "    \"avg_size\": [metrics[\"avg_size\"]],\n",
    "}"
   ]
  },
  {
   "cell_type": "code",
   "execution_count": 49,
   "id": "0d70d4b2",
   "metadata": {
    "execution": {
     "iopub.execute_input": "2025-08-19T19:00:36.853700Z",
     "iopub.status.busy": "2025-08-19T19:00:36.852599Z",
     "iopub.status.idle": "2025-08-19T19:00:36.864668Z",
     "shell.execute_reply": "2025-08-19T19:00:36.863309Z"
    },
    "papermill": {
     "duration": 0.027674,
     "end_time": "2025-08-19T19:00:36.866423",
     "exception": false,
     "start_time": "2025-08-19T19:00:36.838749",
     "status": "completed"
    },
    "tags": []
   },
   "outputs": [],
   "source": [
    "cp_metrics_df = pd.DataFrame(cp_metrics_dict)"
   ]
  },
  {
   "cell_type": "code",
   "execution_count": 50,
   "id": "b494403c",
   "metadata": {
    "execution": {
     "iopub.execute_input": "2025-08-19T19:00:36.896091Z",
     "iopub.status.busy": "2025-08-19T19:00:36.894788Z",
     "iopub.status.idle": "2025-08-19T19:00:36.931470Z",
     "shell.execute_reply": "2025-08-19T19:00:36.929905Z"
    },
    "papermill": {
     "duration": 0.05406,
     "end_time": "2025-08-19T19:00:36.935271",
     "exception": false,
     "start_time": "2025-08-19T19:00:36.881211",
     "status": "completed"
    },
    "tags": []
   },
   "outputs": [
    {
     "data": {
      "text/html": [
       "<div>\n",
       "<style scoped>\n",
       "    .dataframe tbody tr th:only-of-type {\n",
       "        vertical-align: middle;\n",
       "    }\n",
       "\n",
       "    .dataframe tbody tr th {\n",
       "        vertical-align: top;\n",
       "    }\n",
       "\n",
       "    .dataframe thead th {\n",
       "        text-align: right;\n",
       "    }\n",
       "</style>\n",
       "<table border=\"1\" class=\"dataframe\">\n",
       "  <thead>\n",
       "    <tr style=\"text-align: right;\">\n",
       "      <th></th>\n",
       "      <th>universe_id</th>\n",
       "      <th>universe_training_year</th>\n",
       "      <th>universe_training_size</th>\n",
       "      <th>universe_scale</th>\n",
       "      <th>universe_model</th>\n",
       "      <th>universe_exclude_features</th>\n",
       "      <th>universe_exclude_subgroups</th>\n",
       "      <th>q_hat</th>\n",
       "      <th>coverage</th>\n",
       "      <th>avg_size</th>\n",
       "    </tr>\n",
       "  </thead>\n",
       "  <tbody>\n",
       "    <tr>\n",
       "      <th>0</th>\n",
       "      <td>7ef49888426b28bdba0dd8b636bb74e1</td>\n",
       "      <td>2012_14</td>\n",
       "      <td>1k</td>\n",
       "      <td>scale</td>\n",
       "      <td>elasticnet</td>\n",
       "      <td>age</td>\n",
       "      <td>keep-all</td>\n",
       "      <td>0.774905</td>\n",
       "      <td>0.909598</td>\n",
       "      <td>1.224635</td>\n",
       "    </tr>\n",
       "  </tbody>\n",
       "</table>\n",
       "</div>"
      ],
      "text/plain": [
       "                        universe_id universe_training_year  \\\n",
       "0  7ef49888426b28bdba0dd8b636bb74e1                2012_14   \n",
       "\n",
       "  universe_training_size universe_scale universe_model  \\\n",
       "0                     1k          scale     elasticnet   \n",
       "\n",
       "  universe_exclude_features universe_exclude_subgroups     q_hat  coverage  \\\n",
       "0                       age                   keep-all  0.774905  0.909598   \n",
       "\n",
       "   avg_size  \n",
       "0  1.224635  "
      ]
     },
     "execution_count": 50,
     "metadata": {},
     "output_type": "execute_result"
    }
   ],
   "source": [
    "cp_metrics_df"
   ]
  },
  {
   "cell_type": "markdown",
   "id": "ed608b0b",
   "metadata": {
    "papermill": {
     "duration": 0.012933,
     "end_time": "2025-08-19T19:00:36.971379",
     "exception": false,
     "start_time": "2025-08-19T19:00:36.958446",
     "status": "completed"
    },
    "tags": []
   },
   "source": [
    "Conditional coverage & looking at subgroups"
   ]
  },
  {
   "cell_type": "code",
   "execution_count": 51,
   "id": "8968c366",
   "metadata": {
    "execution": {
     "iopub.execute_input": "2025-08-19T19:00:37.008712Z",
     "iopub.status.busy": "2025-08-19T19:00:36.999816Z",
     "iopub.status.idle": "2025-08-19T19:00:37.394517Z",
     "shell.execute_reply": "2025-08-19T19:00:37.392342Z"
    },
    "papermill": {
     "duration": 0.412928,
     "end_time": "2025-08-19T19:00:37.396338",
     "exception": false,
     "start_time": "2025-08-19T19:00:36.983410",
     "status": "completed"
    },
    "tags": []
   },
   "outputs": [],
   "source": [
    "from fairness_multiverse.conformal import build_cp_groups\n",
    "\n",
    "cp_groups_df = build_cp_groups(pred_sets, y_true, X_test.index, org_test)"
   ]
  },
  {
   "cell_type": "code",
   "execution_count": 52,
   "id": "292ddabf",
   "metadata": {
    "execution": {
     "iopub.execute_input": "2025-08-19T19:00:37.432181Z",
     "iopub.status.busy": "2025-08-19T19:00:37.424767Z",
     "iopub.status.idle": "2025-08-19T19:00:38.349733Z",
     "shell.execute_reply": "2025-08-19T19:00:38.348487Z"
    },
    "papermill": {
     "duration": 0.942471,
     "end_time": "2025-08-19T19:00:38.351237",
     "exception": false,
     "start_time": "2025-08-19T19:00:37.408766",
     "status": "completed"
    },
    "tags": []
   },
   "outputs": [],
   "source": [
    "# Define covered = 1 if true_label is in the predicted set\n",
    "cp_groups_df['covered'] = cp_groups_df.apply(\n",
    "    lambda r: int(r['true_label'] in r['pred_set']),\n",
    "    axis=1\n",
    ")"
   ]
  },
  {
   "cell_type": "code",
   "execution_count": 53,
   "id": "3a261692",
   "metadata": {
    "execution": {
     "iopub.execute_input": "2025-08-19T19:00:38.378055Z",
     "iopub.status.busy": "2025-08-19T19:00:38.377105Z",
     "iopub.status.idle": "2025-08-19T19:00:38.392294Z",
     "shell.execute_reply": "2025-08-19T19:00:38.391634Z"
    },
    "papermill": {
     "duration": 0.030204,
     "end_time": "2025-08-19T19:00:38.393684",
     "exception": false,
     "start_time": "2025-08-19T19:00:38.363480",
     "status": "completed"
    },
    "tags": []
   },
   "outputs": [],
   "source": [
    "subgroups = ['frau1','nongerman','nongerman_male','nongerman_female']\n",
    "\n",
    "# Conditional coverage for subgroup==1\n",
    "cond_coverage = {\n",
    "    g: cp_groups_df.loc[cp_groups_df[g]==1, 'covered'].mean()\n",
    "    for g in subgroups\n",
    "}"
   ]
  },
  {
   "cell_type": "code",
   "execution_count": 54,
   "id": "894fd600",
   "metadata": {
    "execution": {
     "iopub.execute_input": "2025-08-19T19:00:38.419962Z",
     "iopub.status.busy": "2025-08-19T19:00:38.419539Z",
     "iopub.status.idle": "2025-08-19T19:00:38.425745Z",
     "shell.execute_reply": "2025-08-19T19:00:38.425130Z"
    },
    "papermill": {
     "duration": 0.021789,
     "end_time": "2025-08-19T19:00:38.428263",
     "exception": false,
     "start_time": "2025-08-19T19:00:38.406474",
     "status": "completed"
    },
    "tags": []
   },
   "outputs": [
    {
     "data": {
      "text/plain": [
       "{'frau1': 0.9024396818978299,\n",
       " 'nongerman': 0.914556784370965,\n",
       " 'nongerman_male': 0.9333513464829325,\n",
       " 'nongerman_female': 0.8834575260804769}"
      ]
     },
     "execution_count": 54,
     "metadata": {},
     "output_type": "execute_result"
    }
   ],
   "source": [
    "cond_coverage"
   ]
  },
  {
   "cell_type": "code",
   "execution_count": 55,
   "id": "942895c7",
   "metadata": {
    "execution": {
     "iopub.execute_input": "2025-08-19T19:00:38.454016Z",
     "iopub.status.busy": "2025-08-19T19:00:38.453620Z",
     "iopub.status.idle": "2025-08-19T19:00:38.460009Z",
     "shell.execute_reply": "2025-08-19T19:00:38.459356Z"
    },
    "papermill": {
     "duration": 0.021683,
     "end_time": "2025-08-19T19:00:38.462538",
     "exception": false,
     "start_time": "2025-08-19T19:00:38.440855",
     "status": "completed"
    },
    "tags": []
   },
   "outputs": [],
   "source": [
    "for subgroup, cov in cond_coverage.items():\n",
    "    cp_metrics_df[f\"cov_{subgroup}\"] = cov"
   ]
  },
  {
   "cell_type": "code",
   "execution_count": 56,
   "id": "3970120f",
   "metadata": {
    "execution": {
     "iopub.execute_input": "2025-08-19T19:00:38.507698Z",
     "iopub.status.busy": "2025-08-19T19:00:38.507116Z",
     "iopub.status.idle": "2025-08-19T19:00:38.530291Z",
     "shell.execute_reply": "2025-08-19T19:00:38.529543Z"
    },
    "papermill": {
     "duration": 0.057296,
     "end_time": "2025-08-19T19:00:38.532597",
     "exception": false,
     "start_time": "2025-08-19T19:00:38.475301",
     "status": "completed"
    },
    "tags": []
   },
   "outputs": [
    {
     "data": {
      "text/html": [
       "<div>\n",
       "<style scoped>\n",
       "    .dataframe tbody tr th:only-of-type {\n",
       "        vertical-align: middle;\n",
       "    }\n",
       "\n",
       "    .dataframe tbody tr th {\n",
       "        vertical-align: top;\n",
       "    }\n",
       "\n",
       "    .dataframe thead th {\n",
       "        text-align: right;\n",
       "    }\n",
       "</style>\n",
       "<table border=\"1\" class=\"dataframe\">\n",
       "  <thead>\n",
       "    <tr style=\"text-align: right;\">\n",
       "      <th></th>\n",
       "      <th>universe_id</th>\n",
       "      <th>universe_training_year</th>\n",
       "      <th>universe_training_size</th>\n",
       "      <th>universe_scale</th>\n",
       "      <th>universe_model</th>\n",
       "      <th>universe_exclude_features</th>\n",
       "      <th>universe_exclude_subgroups</th>\n",
       "      <th>q_hat</th>\n",
       "      <th>coverage</th>\n",
       "      <th>avg_size</th>\n",
       "      <th>cov_frau1</th>\n",
       "      <th>cov_nongerman</th>\n",
       "      <th>cov_nongerman_male</th>\n",
       "      <th>cov_nongerman_female</th>\n",
       "    </tr>\n",
       "  </thead>\n",
       "  <tbody>\n",
       "    <tr>\n",
       "      <th>0</th>\n",
       "      <td>7ef49888426b28bdba0dd8b636bb74e1</td>\n",
       "      <td>2012_14</td>\n",
       "      <td>1k</td>\n",
       "      <td>scale</td>\n",
       "      <td>elasticnet</td>\n",
       "      <td>age</td>\n",
       "      <td>keep-all</td>\n",
       "      <td>0.774905</td>\n",
       "      <td>0.909598</td>\n",
       "      <td>1.224635</td>\n",
       "      <td>0.90244</td>\n",
       "      <td>0.914557</td>\n",
       "      <td>0.933351</td>\n",
       "      <td>0.883458</td>\n",
       "    </tr>\n",
       "  </tbody>\n",
       "</table>\n",
       "</div>"
      ],
      "text/plain": [
       "                        universe_id universe_training_year  \\\n",
       "0  7ef49888426b28bdba0dd8b636bb74e1                2012_14   \n",
       "\n",
       "  universe_training_size universe_scale universe_model  \\\n",
       "0                     1k          scale     elasticnet   \n",
       "\n",
       "  universe_exclude_features universe_exclude_subgroups     q_hat  coverage  \\\n",
       "0                       age                   keep-all  0.774905  0.909598   \n",
       "\n",
       "   avg_size  cov_frau1  cov_nongerman  cov_nongerman_male  \\\n",
       "0  1.224635    0.90244       0.914557            0.933351   \n",
       "\n",
       "   cov_nongerman_female  \n",
       "0              0.883458  "
      ]
     },
     "execution_count": 56,
     "metadata": {},
     "output_type": "execute_result"
    }
   ],
   "source": [
    "cp_metrics_df"
   ]
  },
  {
   "cell_type": "markdown",
   "id": "3fc519cc",
   "metadata": {
    "papermill": {
     "duration": 0.012459,
     "end_time": "2025-08-19T19:00:38.569432",
     "exception": false,
     "start_time": "2025-08-19T19:00:38.556973",
     "status": "completed"
    },
    "tags": []
   },
   "source": [
    "# (Fairness) Metrics"
   ]
  },
  {
   "cell_type": "code",
   "execution_count": 57,
   "id": "a2e5e155",
   "metadata": {
    "execution": {
     "iopub.execute_input": "2025-08-19T19:00:38.599433Z",
     "iopub.status.busy": "2025-08-19T19:00:38.598968Z",
     "iopub.status.idle": "2025-08-19T19:00:38.620773Z",
     "shell.execute_reply": "2025-08-19T19:00:38.619649Z"
    },
    "papermill": {
     "duration": 0.04086,
     "end_time": "2025-08-19T19:00:38.622884",
     "exception": false,
     "start_time": "2025-08-19T19:00:38.582024",
     "status": "completed"
    },
    "tags": []
   },
   "outputs": [],
   "source": [
    "colname_to_bin = \"maxdeutsch1\"\n",
    "majority_value = org_train[colname_to_bin].mode()[0]\n",
    "\n",
    "org_test[\"majmin\"] = np.where(org_test[colname_to_bin] == majority_value, \"majority\", \"minority\")"
   ]
  },
  {
   "cell_type": "code",
   "execution_count": 58,
   "id": "17e3e4d5",
   "metadata": {
    "execution": {
     "iopub.execute_input": "2025-08-19T19:00:38.663789Z",
     "iopub.status.busy": "2025-08-19T19:00:38.662788Z",
     "iopub.status.idle": "2025-08-19T19:00:40.438649Z",
     "shell.execute_reply": "2025-08-19T19:00:40.435670Z"
    },
    "papermill": {
     "duration": 1.796281,
     "end_time": "2025-08-19T19:00:40.440916",
     "exception": false,
     "start_time": "2025-08-19T19:00:38.644635",
     "status": "completed"
    },
    "tags": []
   },
   "outputs": [],
   "source": [
    "example_universe = universe.copy()\n",
    "example_universe[\"cutoff\"] = example_universe[\"cutoff\"][0]\n",
    "example_universe[\"eval_fairness_grouping\"] = example_universe[\"eval_fairness_grouping\"][0]\n",
    "fairness_dict, metric_frame = universe_analysis.compute_metrics(\n",
    "    example_universe,\n",
    "    y_pred_prob=probs_test,\n",
    "    y_test=y_true,\n",
    "    org_test=org_test,\n",
    ")"
   ]
  },
  {
   "cell_type": "markdown",
   "id": "1fb7a0e9",
   "metadata": {
    "papermill": {
     "duration": 0.01249,
     "end_time": "2025-08-19T19:00:40.466987",
     "exception": false,
     "start_time": "2025-08-19T19:00:40.454497",
     "status": "completed"
    },
    "tags": []
   },
   "source": [
    "# Overall"
   ]
  },
  {
   "cell_type": "markdown",
   "id": "be1784b1",
   "metadata": {
    "papermill": {
     "duration": 0.013256,
     "end_time": "2025-08-19T19:00:40.492666",
     "exception": false,
     "start_time": "2025-08-19T19:00:40.479410",
     "status": "completed"
    },
    "tags": []
   },
   "source": [
    "Main fairness target: Equalized Odds. Seems to be a better fit than equal opportunity, since we're not only interested in Y = 1. Seems to be a better fit than demographic parity, since we also care about accuracy, not just equal distribution of preds.\n",
    "\n",
    "Pick column for computation of fairness metrics\n",
    "\n",
    "Performance\n",
    "Overall performance measures, most interesting in relation to the measures split by group below"
   ]
  },
  {
   "cell_type": "code",
   "execution_count": 59,
   "id": "b7672bee",
   "metadata": {
    "execution": {
     "iopub.execute_input": "2025-08-19T19:00:40.520946Z",
     "iopub.status.busy": "2025-08-19T19:00:40.519894Z",
     "iopub.status.idle": "2025-08-19T19:00:40.530423Z",
     "shell.execute_reply": "2025-08-19T19:00:40.529556Z"
    },
    "papermill": {
     "duration": 0.028567,
     "end_time": "2025-08-19T19:00:40.533821",
     "exception": false,
     "start_time": "2025-08-19T19:00:40.505254",
     "status": "completed"
    },
    "tags": []
   },
   "outputs": [
    {
     "data": {
      "text/plain": [
       "accuracy                   0.218827\n",
       "balanced accuracy          0.536225\n",
       "f1                         0.240311\n",
       "precision                  0.137282\n",
       "false positive rate        0.890706\n",
       "false negative rate        0.036844\n",
       "selection rate             0.900000\n",
       "count                  89710.000000\n",
       "dtype: float64"
      ]
     },
     "execution_count": 59,
     "metadata": {},
     "output_type": "execute_result"
    }
   ],
   "source": [
    "metric_frame.overall"
   ]
  },
  {
   "cell_type": "markdown",
   "id": "d93333c9",
   "metadata": {
    "papermill": {
     "duration": 0.013004,
     "end_time": "2025-08-19T19:00:40.571614",
     "exception": false,
     "start_time": "2025-08-19T19:00:40.558610",
     "status": "completed"
    },
    "tags": []
   },
   "source": [
    "By Group"
   ]
  },
  {
   "cell_type": "code",
   "execution_count": 60,
   "id": "52256966",
   "metadata": {
    "execution": {
     "iopub.execute_input": "2025-08-19T19:00:40.599722Z",
     "iopub.status.busy": "2025-08-19T19:00:40.599000Z",
     "iopub.status.idle": "2025-08-19T19:00:40.623377Z",
     "shell.execute_reply": "2025-08-19T19:00:40.622366Z"
    },
    "papermill": {
     "duration": 0.041101,
     "end_time": "2025-08-19T19:00:40.625504",
     "exception": false,
     "start_time": "2025-08-19T19:00:40.584403",
     "status": "completed"
    },
    "tags": []
   },
   "outputs": [
    {
     "data": {
      "text/html": [
       "<div>\n",
       "<style scoped>\n",
       "    .dataframe tbody tr th:only-of-type {\n",
       "        vertical-align: middle;\n",
       "    }\n",
       "\n",
       "    .dataframe tbody tr th {\n",
       "        vertical-align: top;\n",
       "    }\n",
       "\n",
       "    .dataframe thead th {\n",
       "        text-align: right;\n",
       "    }\n",
       "</style>\n",
       "<table border=\"1\" class=\"dataframe\">\n",
       "  <thead>\n",
       "    <tr style=\"text-align: right;\">\n",
       "      <th></th>\n",
       "      <th>accuracy</th>\n",
       "      <th>balanced accuracy</th>\n",
       "      <th>f1</th>\n",
       "      <th>precision</th>\n",
       "      <th>false positive rate</th>\n",
       "      <th>false negative rate</th>\n",
       "      <th>selection rate</th>\n",
       "      <th>count</th>\n",
       "    </tr>\n",
       "    <tr>\n",
       "      <th>majmin</th>\n",
       "      <th></th>\n",
       "      <th></th>\n",
       "      <th></th>\n",
       "      <th></th>\n",
       "      <th></th>\n",
       "      <th></th>\n",
       "      <th></th>\n",
       "      <th></th>\n",
       "    </tr>\n",
       "  </thead>\n",
       "  <tbody>\n",
       "    <tr>\n",
       "      <th>majority</th>\n",
       "      <td>0.238629</td>\n",
       "      <td>0.543405</td>\n",
       "      <td>0.24948</td>\n",
       "      <td>0.143421</td>\n",
       "      <td>0.870848</td>\n",
       "      <td>0.042341</td>\n",
       "      <td>0.882319</td>\n",
       "      <td>69170.0</td>\n",
       "    </tr>\n",
       "    <tr>\n",
       "      <th>minority</th>\n",
       "      <td>0.152142</td>\n",
       "      <td>0.514034</td>\n",
       "      <td>0.21117</td>\n",
       "      <td>0.118271</td>\n",
       "      <td>0.956306</td>\n",
       "      <td>0.015625</td>\n",
       "      <td>0.959542</td>\n",
       "      <td>20540.0</td>\n",
       "    </tr>\n",
       "  </tbody>\n",
       "</table>\n",
       "</div>"
      ],
      "text/plain": [
       "          accuracy  balanced accuracy       f1  precision  \\\n",
       "majmin                                                      \n",
       "majority  0.238629           0.543405  0.24948   0.143421   \n",
       "minority  0.152142           0.514034  0.21117   0.118271   \n",
       "\n",
       "          false positive rate  false negative rate  selection rate    count  \n",
       "majmin                                                                       \n",
       "majority             0.870848             0.042341        0.882319  69170.0  \n",
       "minority             0.956306             0.015625        0.959542  20540.0  "
      ]
     },
     "execution_count": 60,
     "metadata": {},
     "output_type": "execute_result"
    }
   ],
   "source": [
    "metric_frame.by_group"
   ]
  },
  {
   "cell_type": "code",
   "execution_count": 61,
   "id": "6e6c20ae",
   "metadata": {
    "execution": {
     "iopub.execute_input": "2025-08-19T19:00:40.664067Z",
     "iopub.status.busy": "2025-08-19T19:00:40.662894Z",
     "iopub.status.idle": "2025-08-19T19:00:42.876541Z",
     "shell.execute_reply": "2025-08-19T19:00:42.875181Z"
    },
    "papermill": {
     "duration": 2.233483,
     "end_time": "2025-08-19T19:00:42.880946",
     "exception": false,
     "start_time": "2025-08-19T19:00:40.647463",
     "status": "completed"
    },
    "tags": []
   },
   "outputs": [
    {
     "data": {
      "text/plain": [
       "array([[<Axes: title={'center': 'accuracy'}, xlabel='majmin'>,\n",
       "        <Axes: title={'center': 'balanced accuracy'}, xlabel='majmin'>,\n",
       "        <Axes: title={'center': 'f1'}, xlabel='majmin'>],\n",
       "       [<Axes: title={'center': 'precision'}, xlabel='majmin'>,\n",
       "        <Axes: title={'center': 'false positive rate'}, xlabel='majmin'>,\n",
       "        <Axes: title={'center': 'false negative rate'}, xlabel='majmin'>],\n",
       "       [<Axes: title={'center': 'selection rate'}, xlabel='majmin'>,\n",
       "        <Axes: title={'center': 'count'}, xlabel='majmin'>,\n",
       "        <Axes: xlabel='majmin'>]], dtype=object)"
      ]
     },
     "execution_count": 61,
     "metadata": {},
     "output_type": "execute_result"
    },
    {
     "data": {
      "image/png": "[encoded data removed]",
      "text/plain": [
       "<Figure size 1200x800 with 9 Axes>"
      ]
     },
     "metadata": {},
     "output_type": "display_data"
    }
   ],
   "source": [
    "# In a graphic\n",
    "metric_frame.by_group.plot.bar(\n",
    "    subplots=True,\n",
    "    layout=[3, 3],\n",
    "    legend=False,\n",
    "    figsize=[12, 8],\n",
    "    title=\"Show all metrics\",\n",
    ")"
   ]
  },
  {
   "cell_type": "markdown",
   "id": "b2e433ae",
   "metadata": {
    "papermill": {
     "duration": 0.024869,
     "end_time": "2025-08-19T19:00:42.934513",
     "exception": false,
     "start_time": "2025-08-19T19:00:42.909644",
     "status": "completed"
    },
    "tags": []
   },
   "source": [
    "# Final Output"
   ]
  },
  {
   "cell_type": "code",
   "execution_count": 62,
   "id": "3871301e",
   "metadata": {
    "execution": {
     "iopub.execute_input": "2025-08-19T19:00:42.965606Z",
     "iopub.status.busy": "2025-08-19T19:00:42.963976Z",
     "iopub.status.idle": "2025-08-19T19:00:42.980237Z",
     "shell.execute_reply": "2025-08-19T19:00:42.979448Z"
    },
    "papermill": {
     "duration": 0.033003,
     "end_time": "2025-08-19T19:00:42.981715",
     "exception": false,
     "start_time": "2025-08-19T19:00:42.948712",
     "status": "completed"
    },
    "tags": []
   },
   "outputs": [
    {
     "data": {
      "text/plain": [
       "4"
      ]
     },
     "execution_count": 62,
     "metadata": {},
     "output_type": "execute_result"
    }
   ],
   "source": [
    "sub_universes = universe_analysis.generate_sub_universes()\n",
    "len(sub_universes)"
   ]
  },
  {
   "cell_type": "code",
   "execution_count": 63,
   "id": "d9cfdaca",
   "metadata": {
    "execution": {
     "iopub.execute_input": "2025-08-19T19:00:43.024721Z",
     "iopub.status.busy": "2025-08-19T19:00:43.023972Z",
     "iopub.status.idle": "2025-08-19T19:00:43.037158Z",
     "shell.execute_reply": "2025-08-19T19:00:43.035956Z"
    },
    "papermill": {
     "duration": 0.036756,
     "end_time": "2025-08-19T19:00:43.039872",
     "exception": false,
     "start_time": "2025-08-19T19:00:43.003116",
     "status": "completed"
    },
    "tags": []
   },
   "outputs": [],
   "source": [
    "def filter_sub_universe_data(sub_universe, org_test):\n",
    "    # Keep all rows — no filtering\n",
    "    keep_rows_mask = np.ones(org_test.shape[0], dtype=bool)\n",
    "\n",
    "    print(f\"[INFO] Keeping all rows: {keep_rows_mask.sum()} rows retained.\")\n",
    "    return keep_rows_mask"
   ]
  },
  {
   "cell_type": "code",
   "execution_count": 64,
   "id": "2bc31ac1",
   "metadata": {
    "execution": {
     "iopub.execute_input": "2025-08-19T19:00:43.078070Z",
     "iopub.status.busy": "2025-08-19T19:00:43.077320Z",
     "iopub.status.idle": "2025-08-19T19:00:50.015189Z",
     "shell.execute_reply": "2025-08-19T19:00:50.014202Z"
    },
    "papermill": {
     "duration": 6.954971,
     "end_time": "2025-08-19T19:00:50.016482",
     "exception": false,
     "start_time": "2025-08-19T19:00:43.061511",
     "status": "completed"
    },
    "tags": []
   },
   "outputs": [
    {
     "name": "stdout",
     "output_type": "stream",
     "text": [
      "Stopping execution_time clock.\n",
      "[INFO] Keeping all rows: 89710 rows retained.\n"
     ]
    },
    {
     "name": "stdout",
     "output_type": "stream",
     "text": [
      "[INFO] Keeping all rows: 89710 rows retained.\n"
     ]
    },
    {
     "name": "stdout",
     "output_type": "stream",
     "text": [
      "[INFO] Keeping all rows: 89710 rows retained.\n"
     ]
    },
    {
     "name": "stdout",
     "output_type": "stream",
     "text": [
      "[INFO] Keeping all rows: 89710 rows retained.\n"
     ]
    },
    {
     "data": {
      "text/html": [
       "<div>\n",
       "<style scoped>\n",
       "    .dataframe tbody tr th:only-of-type {\n",
       "        vertical-align: middle;\n",
       "    }\n",
       "\n",
       "    .dataframe tbody tr th {\n",
       "        vertical-align: top;\n",
       "    }\n",
       "\n",
       "    .dataframe thead th {\n",
       "        text-align: right;\n",
       "    }\n",
       "</style>\n",
       "<table border=\"1\" class=\"dataframe\">\n",
       "  <thead>\n",
       "    <tr style=\"text-align: right;\">\n",
       "      <th></th>\n",
       "      <th>run_no</th>\n",
       "      <th>universe_id</th>\n",
       "      <th>universe_settings</th>\n",
       "      <th>execution_time</th>\n",
       "      <th>test_size_n</th>\n",
       "      <th>test_size_frac</th>\n",
       "      <th>fair_main_equalized_odds_difference</th>\n",
       "      <th>fair_main_equalized_odds_ratio</th>\n",
       "      <th>fair_main_demographic_parity_difference</th>\n",
       "      <th>fair_main_demographic_parity_ratio</th>\n",
       "      <th>...</th>\n",
       "      <th>perf_grp_precision_0</th>\n",
       "      <th>perf_grp_precision_1</th>\n",
       "      <th>perf_grp_false positive rate_0</th>\n",
       "      <th>perf_grp_false positive rate_1</th>\n",
       "      <th>perf_grp_false negative rate_0</th>\n",
       "      <th>perf_grp_false negative rate_1</th>\n",
       "      <th>perf_grp_selection rate_0</th>\n",
       "      <th>perf_grp_selection rate_1</th>\n",
       "      <th>perf_grp_count_0</th>\n",
       "      <th>perf_grp_count_1</th>\n",
       "    </tr>\n",
       "  </thead>\n",
       "  <tbody>\n",
       "    <tr>\n",
       "      <th>0</th>\n",
       "      <td>3</td>\n",
       "      <td>7ef49888426b28bdba0dd8b636bb74e1</td>\n",
       "      <td>{\"cutoff\": \"quantile_0.1\", \"eval_fairness_grou...</td>\n",
       "      <td>22.423062</td>\n",
       "      <td>89710</td>\n",
       "      <td>1.0</td>\n",
       "      <td>0.085458</td>\n",
       "      <td>0.910637</td>\n",
       "      <td>0.077223</td>\n",
       "      <td>0.919521</td>\n",
       "      <td>...</td>\n",
       "      <td>NaN</td>\n",
       "      <td>NaN</td>\n",
       "      <td>NaN</td>\n",
       "      <td>NaN</td>\n",
       "      <td>NaN</td>\n",
       "      <td>NaN</td>\n",
       "      <td>NaN</td>\n",
       "      <td>NaN</td>\n",
       "      <td>NaN</td>\n",
       "      <td>NaN</td>\n",
       "    </tr>\n",
       "    <tr>\n",
       "      <th>0</th>\n",
       "      <td>3</td>\n",
       "      <td>7ef49888426b28bdba0dd8b636bb74e1</td>\n",
       "      <td>{\"cutoff\": \"quantile_0.1\", \"eval_fairness_grou...</td>\n",
       "      <td>22.423062</td>\n",
       "      <td>89710</td>\n",
       "      <td>1.0</td>\n",
       "      <td>0.085458</td>\n",
       "      <td>0.910637</td>\n",
       "      <td>0.077223</td>\n",
       "      <td>0.919521</td>\n",
       "      <td>...</td>\n",
       "      <td>0.118271</td>\n",
       "      <td>0.143421</td>\n",
       "      <td>0.956306</td>\n",
       "      <td>0.870848</td>\n",
       "      <td>0.015625</td>\n",
       "      <td>0.042341</td>\n",
       "      <td>0.959542</td>\n",
       "      <td>0.882319</td>\n",
       "      <td>20540.0</td>\n",
       "      <td>69170.0</td>\n",
       "    </tr>\n",
       "    <tr>\n",
       "      <th>0</th>\n",
       "      <td>3</td>\n",
       "      <td>7ef49888426b28bdba0dd8b636bb74e1</td>\n",
       "      <td>{\"cutoff\": \"quantile_0.25\", \"eval_fairness_gro...</td>\n",
       "      <td>22.423062</td>\n",
       "      <td>89710</td>\n",
       "      <td>1.0</td>\n",
       "      <td>0.170516</td>\n",
       "      <td>0.801853</td>\n",
       "      <td>0.154896</td>\n",
       "      <td>0.821841</td>\n",
       "      <td>...</td>\n",
       "      <td>NaN</td>\n",
       "      <td>NaN</td>\n",
       "      <td>NaN</td>\n",
       "      <td>NaN</td>\n",
       "      <td>NaN</td>\n",
       "      <td>NaN</td>\n",
       "      <td>NaN</td>\n",
       "      <td>NaN</td>\n",
       "      <td>NaN</td>\n",
       "      <td>NaN</td>\n",
       "    </tr>\n",
       "    <tr>\n",
       "      <th>0</th>\n",
       "      <td>3</td>\n",
       "      <td>7ef49888426b28bdba0dd8b636bb74e1</td>\n",
       "      <td>{\"cutoff\": \"quantile_0.25\", \"eval_fairness_gro...</td>\n",
       "      <td>22.423062</td>\n",
       "      <td>89710</td>\n",
       "      <td>1.0</td>\n",
       "      <td>0.170516</td>\n",
       "      <td>0.801853</td>\n",
       "      <td>0.154896</td>\n",
       "      <td>0.821841</td>\n",
       "      <td>...</td>\n",
       "      <td>0.124314</td>\n",
       "      <td>0.161885</td>\n",
       "      <td>0.860555</td>\n",
       "      <td>0.690038</td>\n",
       "      <td>0.062500</td>\n",
       "      <td>0.124617</td>\n",
       "      <td>0.869426</td>\n",
       "      <td>0.714529</td>\n",
       "      <td>20540.0</td>\n",
       "      <td>69170.0</td>\n",
       "    </tr>\n",
       "  </tbody>\n",
       "</table>\n",
       "<p>4 rows × 50 columns</p>\n",
       "</div>"
      ],
      "text/plain": [
       "  run_no                       universe_id  \\\n",
       "0      3  7ef49888426b28bdba0dd8b636bb74e1   \n",
       "0      3  7ef49888426b28bdba0dd8b636bb74e1   \n",
       "0      3  7ef49888426b28bdba0dd8b636bb74e1   \n",
       "0      3  7ef49888426b28bdba0dd8b636bb74e1   \n",
       "\n",
       "                                   universe_settings  execution_time  \\\n",
       "0  {\"cutoff\": \"quantile_0.1\", \"eval_fairness_grou...       22.423062   \n",
       "0  {\"cutoff\": \"quantile_0.1\", \"eval_fairness_grou...       22.423062   \n",
       "0  {\"cutoff\": \"quantile_0.25\", \"eval_fairness_gro...       22.423062   \n",
       "0  {\"cutoff\": \"quantile_0.25\", \"eval_fairness_gro...       22.423062   \n",
       "\n",
       "   test_size_n  test_size_frac  fair_main_equalized_odds_difference  \\\n",
       "0        89710             1.0                             0.085458   \n",
       "0        89710             1.0                             0.085458   \n",
       "0        89710             1.0                             0.170516   \n",
       "0        89710             1.0                             0.170516   \n",
       "\n",
       "   fair_main_equalized_odds_ratio  fair_main_demographic_parity_difference  \\\n",
       "0                        0.910637                                 0.077223   \n",
       "0                        0.910637                                 0.077223   \n",
       "0                        0.801853                                 0.154896   \n",
       "0                        0.801853                                 0.154896   \n",
       "\n",
       "   fair_main_demographic_parity_ratio  ...  perf_grp_precision_0  \\\n",
       "0                            0.919521  ...                   NaN   \n",
       "0                            0.919521  ...              0.118271   \n",
       "0                            0.821841  ...                   NaN   \n",
       "0                            0.821841  ...              0.124314   \n",
       "\n",
       "   perf_grp_precision_1  perf_grp_false positive rate_0  \\\n",
       "0                   NaN                             NaN   \n",
       "0              0.143421                        0.956306   \n",
       "0                   NaN                             NaN   \n",
       "0              0.161885                        0.860555   \n",
       "\n",
       "   perf_grp_false positive rate_1  perf_grp_false negative rate_0  \\\n",
       "0                             NaN                             NaN   \n",
       "0                        0.870848                        0.015625   \n",
       "0                             NaN                             NaN   \n",
       "0                        0.690038                        0.062500   \n",
       "\n",
       "   perf_grp_false negative rate_1  perf_grp_selection rate_0  \\\n",
       "0                             NaN                        NaN   \n",
       "0                        0.042341                   0.959542   \n",
       "0                             NaN                        NaN   \n",
       "0                        0.124617                   0.869426   \n",
       "\n",
       "   perf_grp_selection rate_1  perf_grp_count_0  perf_grp_count_1  \n",
       "0                        NaN               NaN               NaN  \n",
       "0                   0.882319           20540.0           69170.0  \n",
       "0                        NaN               NaN               NaN  \n",
       "0                   0.714529           20540.0           69170.0  \n",
       "\n",
       "[4 rows x 50 columns]"
      ]
     },
     "execution_count": 64,
     "metadata": {},
     "output_type": "execute_result"
    }
   ],
   "source": [
    "final_output = universe_analysis.generate_final_output(\n",
    "    y_pred_prob=probs_test,\n",
    "    y_test=y_true,\n",
    "    org_test=org_test,\n",
    "    filter_data=filter_sub_universe_data,\n",
    "    cp_metrics_df=cp_metrics_df,\n",
    "    save=True,\n",
    ")\n",
    "final_output"
   ]
  },
  {
   "cell_type": "code",
   "execution_count": null,
   "id": "8b80a1ff",
   "metadata": {
    "papermill": {
     "duration": 0.020913,
     "end_time": "2025-08-19T19:00:50.055192",
     "exception": false,
     "start_time": "2025-08-19T19:00:50.034279",
     "status": "completed"
    },
    "tags": []
   },
   "outputs": [],
   "source": []
  },
  {
   "cell_type": "code",
   "execution_count": null,
   "id": "275c9fad",
   "metadata": {
    "papermill": {
     "duration": 0.01409,
     "end_time": "2025-08-19T19:00:50.083580",
     "exception": false,
     "start_time": "2025-08-19T19:00:50.069490",
     "status": "completed"
    },
    "tags": []
   },
   "outputs": [],
   "source": []
  }
 ],
 "metadata": {
  "celltoolbar": "Tags",
  "kernelspec": {
   "display_name": "Python (CMA Fairness)",
   "language": "python",
   "name": "cma_fair_env"
  },
  "language_info": {
   "codemirror_mode": {
    "name": "ipython",
    "version": 3
   },
   "file_extension": ".py",
   "mimetype": "text/x-python",
   "name": "python",
   "nbconvert_exporter": "python",
   "pygments_lexer": "ipython3",
   "version": "3.10.12"
  },
  "papermill": {
   "default_parameters": {},
   "duration": 33.263661,
   "end_time": "2025-08-19T19:00:51.021496",
   "environment_variables": {},
   "exception": null,
   "input_path": "universe_analysis.ipynb",
   "output_path": "output/runs/3/notebooks/m_3-7ef49888426b28bdba0dd8b636bb74e1.ipynb",
   "parameters": {
    "output_dir": "output",
    "run_no": "3",
    "seed": "2023",
    "universe": "{\"cutoff\": [\"quantile_0.1\", \"quantile_0.25\"], \"eval_fairness_grouping\": [\"majority-minority\", \"nationality-all\"], \"exclude_features\": \"age\", \"exclude_subgroups\": \"keep-all\", \"model\": \"elasticnet\", \"scale\": \"scale\", \"training_size\": \"1k\", \"training_year\": \"2012_14\"}",
    "universe_id": "7ef49888426b28bdba0dd8b636bb74e1"
   },
   "start_time": "2025-08-19T19:00:17.757835",
   "version": "2.6.0"
  }
 },
 "nbformat": 4,
 "nbformat_minor": 5
}