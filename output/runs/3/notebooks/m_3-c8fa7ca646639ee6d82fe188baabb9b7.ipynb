{
 "cells": [
  {
   "cell_type": "markdown",
   "id": "ef23dbb3",
   "metadata": {
    "papermill": {
     "duration": 0.017809,
     "end_time": "2025-08-19T18:50:45.655368",
     "exception": false,
     "start_time": "2025-08-19T18:50:45.637559",
     "status": "completed"
    },
    "tags": []
   },
   "source": [
    "# Setup"
   ]
  },
  {
   "cell_type": "code",
   "execution_count": 1,
   "id": "0bc8e7dc",
   "metadata": {
    "execution": {
     "iopub.execute_input": "2025-08-19T18:50:45.676940Z",
     "iopub.status.busy": "2025-08-19T18:50:45.675909Z",
     "iopub.status.idle": "2025-08-19T18:50:45.698565Z",
     "shell.execute_reply": "2025-08-19T18:50:45.697325Z"
    },
    "papermill": {
     "duration": 0.035262,
     "end_time": "2025-08-19T18:50:45.700669",
     "exception": false,
     "start_time": "2025-08-19T18:50:45.665407",
     "status": "completed"
    },
    "tags": []
   },
   "outputs": [
    {
     "name": "stdout",
     "output_type": "stream",
     "text": [
      "/dss/dsshome1/0C/ra93lal2/cma/CMA_Fairness_v2\n"
     ]
    },
    {
     "name": "stderr",
     "output_type": "stream",
     "text": [
      "/dss/dsshome1/0C/ra93lal2/.local/share/virtualenvs/CMA_Fairness_v2-3j10GkSs/lib/python3.10/site-packages/IPython/core/magics/osm.py:393: UserWarning: This is now an optional IPython functionality, using bookmarks requires you to install the `pickleshare` library.\n",
      "  bkms = self.shell.db.get('bookmarks', {})\n",
      "/dss/dsshome1/0C/ra93lal2/.local/share/virtualenvs/CMA_Fairness_v2-3j10GkSs/lib/python3.10/site-packages/IPython/core/magics/osm.py:417: UserWarning: This is now an optional IPython functionality, setting dhist requires you to install the `pickleshare` library.\n",
      "  self.shell.db['dhist'] = compress_dhist(dhist)[-100:]\n"
     ]
    }
   ],
   "source": [
    "%cd ~/cma/CMA_Fairness_v2"
   ]
  },
  {
   "cell_type": "markdown",
   "id": "9d235661",
   "metadata": {
    "papermill": {
     "duration": 0.012719,
     "end_time": "2025-08-19T18:50:45.744145",
     "exception": false,
     "start_time": "2025-08-19T18:50:45.731426",
     "status": "completed"
    },
    "tags": []
   },
   "source": [
    "The following cell holds the definition of our parameters, these values can be overriden by rendering the with e.g. the following command:\n",
    "\n",
    "papermill -p alpha 0.2 -p ratio 0.3 universe_analysis.ipynb output/test_run.ipynb"
   ]
  },
  {
   "cell_type": "code",
   "execution_count": 2,
   "id": "4a789d8e",
   "metadata": {
    "execution": {
     "iopub.execute_input": "2025-08-19T18:50:45.764385Z",
     "iopub.status.busy": "2025-08-19T18:50:45.763958Z",
     "iopub.status.idle": "2025-08-19T18:50:45.768778Z",
     "shell.execute_reply": "2025-08-19T18:50:45.767957Z"
    },
    "papermill": {
     "duration": 0.015946,
     "end_time": "2025-08-19T18:50:45.770120",
     "exception": false,
     "start_time": "2025-08-19T18:50:45.754174",
     "status": "completed"
    },
    "tags": []
   },
   "outputs": [
    {
     "name": "stdout",
     "output_type": "stream",
     "text": [
      "Current working directory: /dss/dsshome1/0C/ra93lal2/cma/CMA_Fairness_v2\n"
     ]
    }
   ],
   "source": [
    "import os\n",
    "print(\"Current working directory:\", os.getcwd())"
   ]
  },
  {
   "cell_type": "code",
   "execution_count": 3,
   "id": "4132aaed",
   "metadata": {
    "execution": {
     "iopub.execute_input": "2025-08-19T18:50:45.791567Z",
     "iopub.status.busy": "2025-08-19T18:50:45.790788Z",
     "iopub.status.idle": "2025-08-19T18:50:45.799820Z",
     "shell.execute_reply": "2025-08-19T18:50:45.799109Z"
    },
    "papermill": {
     "duration": 0.025039,
     "end_time": "2025-08-19T18:50:45.804141",
     "exception": false,
     "start_time": "2025-08-19T18:50:45.779102",
     "status": "completed"
    },
    "tags": [
     "parameters"
    ]
   },
   "outputs": [],
   "source": [
    "run_no = 0\n",
    "universe_id = \"test\"\n",
    "universe = {\n",
    "    \"training_size\": \"5k\", # \"25k\", \"5k\", \"1k\"\n",
    "    \"training_year\": \"2012_14\", # \"2014\", \"2012_14\", \"2010_14\"\n",
    "    \"scale\": \"scale\", # \"scale\", \"do-not-scale\",\n",
    "    \"model\": \"elasticnet\", # \"logreg\", \"penalized_logreg\", \"rf\", \"gbm\", \"elasticnet\"\n",
    "    \"cutoff\": [\"quantile_0.15\", \"quantile_0.30\"],\n",
    "    \"exclude_features\": \"age\", # \"none\", \"nationality\", \"sex\", \"nationality-sex\", \"age\"\n",
    "    \"exclude_subgroups\": \"drop-non-german\", # \"keep-all\", \"drop-non-german\"\n",
    "    \"eval_fairness_grouping\": [\"majority-minority\", \"nationality-all\"]\n",
    "}\n",
    "\n",
    "output_dir=\"./output\"\n",
    "seed=0"
   ]
  },
  {
   "cell_type": "code",
   "execution_count": 4,
   "id": "68504a7d",
   "metadata": {
    "execution": {
     "iopub.execute_input": "2025-08-19T18:50:45.837940Z",
     "iopub.status.busy": "2025-08-19T18:50:45.837178Z",
     "iopub.status.idle": "2025-08-19T18:50:45.845023Z",
     "shell.execute_reply": "2025-08-19T18:50:45.843595Z"
    },
    "papermill": {
     "duration": 0.021726,
     "end_time": "2025-08-19T18:50:45.846487",
     "exception": false,
     "start_time": "2025-08-19T18:50:45.824761",
     "status": "completed"
    },
    "tags": [
     "injected-parameters"
    ]
   },
   "outputs": [],
   "source": [
    "# Parameters\n",
    "universe_id = \"c8fa7ca646639ee6d82fe188baabb9b7\"\n",
    "run_no = \"3\"\n",
    "universe = \"{\\\"cutoff\\\": [\\\"quantile_0.1\\\", \\\"quantile_0.25\\\"], \\\"eval_fairness_grouping\\\": [\\\"majority-minority\\\", \\\"nationality-all\\\"], \\\"exclude_features\\\": \\\"age\\\", \\\"exclude_subgroups\\\": \\\"keep-all\\\", \\\"model\\\": \\\"rf\\\", \\\"scale\\\": \\\"scale\\\", \\\"training_size\\\": \\\"1k\\\", \\\"training_year\\\": \\\"2014\\\"}\"\n",
    "output_dir = \"output\"\n",
    "seed = \"2023\"\n"
   ]
  },
  {
   "cell_type": "code",
   "execution_count": 5,
   "id": "a5d7941f",
   "metadata": {
    "execution": {
     "iopub.execute_input": "2025-08-19T18:50:45.868891Z",
     "iopub.status.busy": "2025-08-19T18:50:45.868175Z",
     "iopub.status.idle": "2025-08-19T18:50:45.874386Z",
     "shell.execute_reply": "2025-08-19T18:50:45.873351Z"
    },
    "papermill": {
     "duration": 0.018911,
     "end_time": "2025-08-19T18:50:45.875680",
     "exception": false,
     "start_time": "2025-08-19T18:50:45.856769",
     "status": "completed"
    },
    "tags": []
   },
   "outputs": [],
   "source": [
    "import json\n",
    "if isinstance(universe, str):\n",
    "    universe = json.loads(universe)"
   ]
  },
  {
   "cell_type": "code",
   "execution_count": 6,
   "id": "7076ccb1",
   "metadata": {
    "execution": {
     "iopub.execute_input": "2025-08-19T18:50:45.897103Z",
     "iopub.status.busy": "2025-08-19T18:50:45.896106Z",
     "iopub.status.idle": "2025-08-19T18:50:45.946514Z",
     "shell.execute_reply": "2025-08-19T18:50:45.945704Z"
    },
    "papermill": {
     "duration": 0.063994,
     "end_time": "2025-08-19T18:50:45.949311",
     "exception": false,
     "start_time": "2025-08-19T18:50:45.885317",
     "status": "completed"
    },
    "tags": []
   },
   "outputs": [],
   "source": [
    "# Auto-reload the custom package\n",
    "%load_ext autoreload\n",
    "%autoreload 1\n",
    "%aimport fairness_multiverse"
   ]
  },
  {
   "cell_type": "code",
   "execution_count": 7,
   "id": "94c8eb93",
   "metadata": {
    "execution": {
     "iopub.execute_input": "2025-08-19T18:50:45.986282Z",
     "iopub.status.busy": "2025-08-19T18:50:45.985831Z",
     "iopub.status.idle": "2025-08-19T18:50:47.634662Z",
     "shell.execute_reply": "2025-08-19T18:50:47.633839Z"
    },
    "papermill": {
     "duration": 1.663865,
     "end_time": "2025-08-19T18:50:47.636416",
     "exception": false,
     "start_time": "2025-08-19T18:50:45.972551",
     "status": "completed"
    },
    "tags": []
   },
   "outputs": [],
   "source": [
    "from fairness_multiverse.universe import UniverseAnalysis\n",
    "\n",
    "universe_analysis = UniverseAnalysis(\n",
    "    run_no = run_no,\n",
    "    universe_id = universe_id,\n",
    "    universe = universe,\n",
    "    output_dir=output_dir,\n",
    ")"
   ]
  },
  {
   "cell_type": "code",
   "execution_count": 8,
   "id": "2a6381cf",
   "metadata": {
    "execution": {
     "iopub.execute_input": "2025-08-19T18:50:47.669619Z",
     "iopub.status.busy": "2025-08-19T18:50:47.669185Z",
     "iopub.status.idle": "2025-08-19T18:50:47.675888Z",
     "shell.execute_reply": "2025-08-19T18:50:47.675089Z"
    },
    "papermill": {
     "duration": 0.031422,
     "end_time": "2025-08-19T18:50:47.677642",
     "exception": false,
     "start_time": "2025-08-19T18:50:47.646220",
     "status": "completed"
    },
    "tags": []
   },
   "outputs": [
    {
     "name": "stdout",
     "output_type": "stream",
     "text": [
      "Using Seed: 2023\n"
     ]
    }
   ],
   "source": [
    "import numpy as np\n",
    "parsed_seed = int(seed)\n",
    "np.random.seed(parsed_seed)\n",
    "print(f\"Using Seed: {parsed_seed}\")"
   ]
  },
  {
   "cell_type": "markdown",
   "id": "b6e958b4",
   "metadata": {
    "papermill": {
     "duration": 0.00946,
     "end_time": "2025-08-19T18:50:47.698568",
     "exception": false,
     "start_time": "2025-08-19T18:50:47.689108",
     "status": "completed"
    },
    "tags": []
   },
   "source": [
    "# Loading Data"
   ]
  },
  {
   "cell_type": "code",
   "execution_count": 9,
   "id": "98701482",
   "metadata": {
    "execution": {
     "iopub.execute_input": "2025-08-19T18:50:47.718477Z",
     "iopub.status.busy": "2025-08-19T18:50:47.718167Z",
     "iopub.status.idle": "2025-08-19T18:50:57.638204Z",
     "shell.execute_reply": "2025-08-19T18:50:57.634526Z"
    },
    "papermill": {
     "duration": 9.933256,
     "end_time": "2025-08-19T18:50:57.641028",
     "exception": false,
     "start_time": "2025-08-19T18:50:47.707772",
     "status": "completed"
    },
    "tags": []
   },
   "outputs": [
    {
     "name": "stdout",
     "output_type": "stream",
     "text": [
      "Loading SIAB data from cache: data/siab_cached.csv.gz\n"
     ]
    },
    {
     "name": "stdout",
     "output_type": "stream",
     "text": [
      "(643690, 164)\n"
     ]
    }
   ],
   "source": [
    "from pathlib import Path\n",
    "import pandas as pd\n",
    "\n",
    "# File paths\n",
    "raw_file = Path(\"data/raw/siab.csv\")\n",
    "cache_file = Path(\"data/siab_cached.csv.gz\")\n",
    "\n",
    "# Ensure cache directory exists\n",
    "cache_file.parent.mkdir(parents=True, exist_ok=True)\n",
    "\n",
    "# Load with simple caching\n",
    "if cache_file.exists():\n",
    "    print(f\"Loading SIAB data from cache: {cache_file}\")\n",
    "    siab = pd.read_csv(cache_file, compression='gzip')\n",
    "else:\n",
    "    print(f\"Cache not found. Reading raw SIAB data: {raw_file}\")\n",
    "    siab = pd.read_csv(raw_file)\n",
    "    siab.to_csv(cache_file, index=False, compression='gzip')\n",
    "    print(f\"Cached SIAB data to: {cache_file}\")\n",
    "\n",
    "print(siab.shape)"
   ]
  },
  {
   "cell_type": "code",
   "execution_count": 10,
   "id": "058d2abb",
   "metadata": {
    "execution": {
     "iopub.execute_input": "2025-08-19T18:50:57.702650Z",
     "iopub.status.busy": "2025-08-19T18:50:57.702259Z",
     "iopub.status.idle": "2025-08-19T18:50:57.830083Z",
     "shell.execute_reply": "2025-08-19T18:50:57.829349Z"
    },
    "papermill": {
     "duration": 0.166323,
     "end_time": "2025-08-19T18:50:57.831716",
     "exception": false,
     "start_time": "2025-08-19T18:50:57.665393",
     "status": "completed"
    },
    "tags": []
   },
   "outputs": [
    {
     "data": {
      "text/html": [
       "<div>\n",
       "<style scoped>\n",
       "    .dataframe tbody tr th:only-of-type {\n",
       "        vertical-align: middle;\n",
       "    }\n",
       "\n",
       "    .dataframe tbody tr th {\n",
       "        vertical-align: top;\n",
       "    }\n",
       "\n",
       "    .dataframe thead th {\n",
       "        text-align: right;\n",
       "    }\n",
       "</style>\n",
       "<table border=\"1\" class=\"dataframe\">\n",
       "  <thead>\n",
       "    <tr style=\"text-align: right;\">\n",
       "      <th></th>\n",
       "      <th>persnr</th>\n",
       "      <th>year</th>\n",
       "      <th>nrEntry</th>\n",
       "      <th>ltue</th>\n",
       "      <th>employed_before</th>\n",
       "      <th>receipt_leh_before</th>\n",
       "      <th>receipt_lhg_before</th>\n",
       "      <th>se_before</th>\n",
       "      <th>ASU_notue_seeking_before</th>\n",
       "      <th>ASU_other_before</th>\n",
       "      <th>...</th>\n",
       "      <th>minijob_tot_dur_byage</th>\n",
       "      <th>ft_tot_dur_byage</th>\n",
       "      <th>befrist_tot_dur_byage</th>\n",
       "      <th>leih_tot_dur_byage</th>\n",
       "      <th>LHG_tot_dur_byage</th>\n",
       "      <th>LEH_tot_dur_byage</th>\n",
       "      <th>almp_tot_dur_byage</th>\n",
       "      <th>almp_aw_tot_dur_byage</th>\n",
       "      <th>se_tot_dur_byage</th>\n",
       "      <th>seeking1_tot_dur_byage</th>\n",
       "    </tr>\n",
       "  </thead>\n",
       "  <tbody>\n",
       "    <tr>\n",
       "      <th>0</th>\n",
       "      <td>7</td>\n",
       "      <td>2015</td>\n",
       "      <td>1</td>\n",
       "      <td>0</td>\n",
       "      <td>1</td>\n",
       "      <td>0</td>\n",
       "      <td>0</td>\n",
       "      <td>0</td>\n",
       "      <td>1</td>\n",
       "      <td>0</td>\n",
       "      <td>...</td>\n",
       "      <td>0.000000</td>\n",
       "      <td>0.000000</td>\n",
       "      <td>15.043478</td>\n",
       "      <td>0.000000</td>\n",
       "      <td>0.000000</td>\n",
       "      <td>0.000000</td>\n",
       "      <td>0.000000</td>\n",
       "      <td>0.000000</td>\n",
       "      <td>0.000000</td>\n",
       "      <td>0.000000</td>\n",
       "    </tr>\n",
       "    <tr>\n",
       "      <th>1</th>\n",
       "      <td>18</td>\n",
       "      <td>2010</td>\n",
       "      <td>1</td>\n",
       "      <td>1</td>\n",
       "      <td>0</td>\n",
       "      <td>0</td>\n",
       "      <td>0</td>\n",
       "      <td>0</td>\n",
       "      <td>0</td>\n",
       "      <td>0</td>\n",
       "      <td>...</td>\n",
       "      <td>0.000000</td>\n",
       "      <td>0.000000</td>\n",
       "      <td>0.000000</td>\n",
       "      <td>0.000000</td>\n",
       "      <td>0.000000</td>\n",
       "      <td>0.000000</td>\n",
       "      <td>0.000000</td>\n",
       "      <td>0.000000</td>\n",
       "      <td>0.000000</td>\n",
       "      <td>0.000000</td>\n",
       "    </tr>\n",
       "    <tr>\n",
       "      <th>2</th>\n",
       "      <td>18</td>\n",
       "      <td>2011</td>\n",
       "      <td>2</td>\n",
       "      <td>0</td>\n",
       "      <td>1</td>\n",
       "      <td>0</td>\n",
       "      <td>1</td>\n",
       "      <td>0</td>\n",
       "      <td>1</td>\n",
       "      <td>0</td>\n",
       "      <td>...</td>\n",
       "      <td>2.714286</td>\n",
       "      <td>2.714286</td>\n",
       "      <td>0.000000</td>\n",
       "      <td>0.000000</td>\n",
       "      <td>10.775510</td>\n",
       "      <td>0.000000</td>\n",
       "      <td>8.367347</td>\n",
       "      <td>0.000000</td>\n",
       "      <td>0.000000</td>\n",
       "      <td>9.836735</td>\n",
       "    </tr>\n",
       "    <tr>\n",
       "      <th>3</th>\n",
       "      <td>18</td>\n",
       "      <td>2012</td>\n",
       "      <td>3</td>\n",
       "      <td>0</td>\n",
       "      <td>1</td>\n",
       "      <td>0</td>\n",
       "      <td>1</td>\n",
       "      <td>0</td>\n",
       "      <td>1</td>\n",
       "      <td>0</td>\n",
       "      <td>...</td>\n",
       "      <td>4.200000</td>\n",
       "      <td>4.200000</td>\n",
       "      <td>0.000000</td>\n",
       "      <td>0.000000</td>\n",
       "      <td>12.100000</td>\n",
       "      <td>0.000000</td>\n",
       "      <td>9.400000</td>\n",
       "      <td>0.000000</td>\n",
       "      <td>0.000000</td>\n",
       "      <td>9.960000</td>\n",
       "    </tr>\n",
       "    <tr>\n",
       "      <th>4</th>\n",
       "      <td>18</td>\n",
       "      <td>2012</td>\n",
       "      <td>4</td>\n",
       "      <td>0</td>\n",
       "      <td>1</td>\n",
       "      <td>0</td>\n",
       "      <td>1</td>\n",
       "      <td>0</td>\n",
       "      <td>1</td>\n",
       "      <td>0</td>\n",
       "      <td>...</td>\n",
       "      <td>5.460000</td>\n",
       "      <td>5.460000</td>\n",
       "      <td>0.000000</td>\n",
       "      <td>0.000000</td>\n",
       "      <td>13.360000</td>\n",
       "      <td>0.000000</td>\n",
       "      <td>10.320000</td>\n",
       "      <td>0.000000</td>\n",
       "      <td>0.000000</td>\n",
       "      <td>10.280000</td>\n",
       "    </tr>\n",
       "    <tr>\n",
       "      <th>...</th>\n",
       "      <td>...</td>\n",
       "      <td>...</td>\n",
       "      <td>...</td>\n",
       "      <td>...</td>\n",
       "      <td>...</td>\n",
       "      <td>...</td>\n",
       "      <td>...</td>\n",
       "      <td>...</td>\n",
       "      <td>...</td>\n",
       "      <td>...</td>\n",
       "      <td>...</td>\n",
       "      <td>...</td>\n",
       "      <td>...</td>\n",
       "      <td>...</td>\n",
       "      <td>...</td>\n",
       "      <td>...</td>\n",
       "      <td>...</td>\n",
       "      <td>...</td>\n",
       "      <td>...</td>\n",
       "      <td>...</td>\n",
       "      <td>...</td>\n",
       "    </tr>\n",
       "    <tr>\n",
       "      <th>643685</th>\n",
       "      <td>1827860</td>\n",
       "      <td>2013</td>\n",
       "      <td>1</td>\n",
       "      <td>0</td>\n",
       "      <td>0</td>\n",
       "      <td>0</td>\n",
       "      <td>1</td>\n",
       "      <td>0</td>\n",
       "      <td>0</td>\n",
       "      <td>1</td>\n",
       "      <td>...</td>\n",
       "      <td>0.000000</td>\n",
       "      <td>0.000000</td>\n",
       "      <td>0.000000</td>\n",
       "      <td>0.000000</td>\n",
       "      <td>0.612903</td>\n",
       "      <td>0.000000</td>\n",
       "      <td>0.000000</td>\n",
       "      <td>0.000000</td>\n",
       "      <td>0.000000</td>\n",
       "      <td>0.000000</td>\n",
       "    </tr>\n",
       "    <tr>\n",
       "      <th>643686</th>\n",
       "      <td>1827860</td>\n",
       "      <td>2015</td>\n",
       "      <td>2</td>\n",
       "      <td>1</td>\n",
       "      <td>0</td>\n",
       "      <td>0</td>\n",
       "      <td>1</td>\n",
       "      <td>0</td>\n",
       "      <td>1</td>\n",
       "      <td>0</td>\n",
       "      <td>...</td>\n",
       "      <td>0.000000</td>\n",
       "      <td>0.000000</td>\n",
       "      <td>0.212121</td>\n",
       "      <td>0.212121</td>\n",
       "      <td>17.363636</td>\n",
       "      <td>0.000000</td>\n",
       "      <td>8.909091</td>\n",
       "      <td>0.000000</td>\n",
       "      <td>0.000000</td>\n",
       "      <td>7.121212</td>\n",
       "    </tr>\n",
       "    <tr>\n",
       "      <th>643687</th>\n",
       "      <td>1827860</td>\n",
       "      <td>2016</td>\n",
       "      <td>3</td>\n",
       "      <td>1</td>\n",
       "      <td>0</td>\n",
       "      <td>0</td>\n",
       "      <td>1</td>\n",
       "      <td>1</td>\n",
       "      <td>0</td>\n",
       "      <td>1</td>\n",
       "      <td>...</td>\n",
       "      <td>0.000000</td>\n",
       "      <td>0.000000</td>\n",
       "      <td>0.294118</td>\n",
       "      <td>0.205882</td>\n",
       "      <td>34.705882</td>\n",
       "      <td>0.000000</td>\n",
       "      <td>10.352941</td>\n",
       "      <td>1.705882</td>\n",
       "      <td>1.705882</td>\n",
       "      <td>23.911765</td>\n",
       "    </tr>\n",
       "    <tr>\n",
       "      <th>643688</th>\n",
       "      <td>1827869</td>\n",
       "      <td>2013</td>\n",
       "      <td>1</td>\n",
       "      <td>1</td>\n",
       "      <td>1</td>\n",
       "      <td>0</td>\n",
       "      <td>0</td>\n",
       "      <td>0</td>\n",
       "      <td>1</td>\n",
       "      <td>0</td>\n",
       "      <td>...</td>\n",
       "      <td>0.000000</td>\n",
       "      <td>0.000000</td>\n",
       "      <td>0.000000</td>\n",
       "      <td>0.000000</td>\n",
       "      <td>0.000000</td>\n",
       "      <td>0.525424</td>\n",
       "      <td>0.000000</td>\n",
       "      <td>0.000000</td>\n",
       "      <td>0.000000</td>\n",
       "      <td>0.000000</td>\n",
       "    </tr>\n",
       "    <tr>\n",
       "      <th>643689</th>\n",
       "      <td>1827869</td>\n",
       "      <td>2014</td>\n",
       "      <td>2</td>\n",
       "      <td>0</td>\n",
       "      <td>0</td>\n",
       "      <td>1</td>\n",
       "      <td>0</td>\n",
       "      <td>0</td>\n",
       "      <td>1</td>\n",
       "      <td>0</td>\n",
       "      <td>...</td>\n",
       "      <td>0.000000</td>\n",
       "      <td>0.666667</td>\n",
       "      <td>0.666667</td>\n",
       "      <td>0.000000</td>\n",
       "      <td>0.000000</td>\n",
       "      <td>8.950000</td>\n",
       "      <td>1.033333</td>\n",
       "      <td>0.083333</td>\n",
       "      <td>0.083333</td>\n",
       "      <td>8.133333</td>\n",
       "    </tr>\n",
       "  </tbody>\n",
       "</table>\n",
       "<p>643690 rows × 164 columns</p>\n",
       "</div>"
      ],
      "text/plain": [
       "         persnr  year  nrEntry  ltue  employed_before  receipt_leh_before  \\\n",
       "0             7  2015        1     0                1                   0   \n",
       "1            18  2010        1     1                0                   0   \n",
       "2            18  2011        2     0                1                   0   \n",
       "3            18  2012        3     0                1                   0   \n",
       "4            18  2012        4     0                1                   0   \n",
       "...         ...   ...      ...   ...              ...                 ...   \n",
       "643685  1827860  2013        1     0                0                   0   \n",
       "643686  1827860  2015        2     1                0                   0   \n",
       "643687  1827860  2016        3     1                0                   0   \n",
       "643688  1827869  2013        1     1                1                   0   \n",
       "643689  1827869  2014        2     0                0                   1   \n",
       "\n",
       "        receipt_lhg_before  se_before  ASU_notue_seeking_before  \\\n",
       "0                        0          0                         1   \n",
       "1                        0          0                         0   \n",
       "2                        1          0                         1   \n",
       "3                        1          0                         1   \n",
       "4                        1          0                         1   \n",
       "...                    ...        ...                       ...   \n",
       "643685                   1          0                         0   \n",
       "643686                   1          0                         1   \n",
       "643687                   1          1                         0   \n",
       "643688                   0          0                         1   \n",
       "643689                   0          0                         1   \n",
       "\n",
       "        ASU_other_before  ...  minijob_tot_dur_byage  ft_tot_dur_byage  \\\n",
       "0                      0  ...               0.000000          0.000000   \n",
       "1                      0  ...               0.000000          0.000000   \n",
       "2                      0  ...               2.714286          2.714286   \n",
       "3                      0  ...               4.200000          4.200000   \n",
       "4                      0  ...               5.460000          5.460000   \n",
       "...                  ...  ...                    ...               ...   \n",
       "643685                 1  ...               0.000000          0.000000   \n",
       "643686                 0  ...               0.000000          0.000000   \n",
       "643687                 1  ...               0.000000          0.000000   \n",
       "643688                 0  ...               0.000000          0.000000   \n",
       "643689                 0  ...               0.000000          0.666667   \n",
       "\n",
       "        befrist_tot_dur_byage  leih_tot_dur_byage  LHG_tot_dur_byage  \\\n",
       "0                   15.043478            0.000000           0.000000   \n",
       "1                    0.000000            0.000000           0.000000   \n",
       "2                    0.000000            0.000000          10.775510   \n",
       "3                    0.000000            0.000000          12.100000   \n",
       "4                    0.000000            0.000000          13.360000   \n",
       "...                       ...                 ...                ...   \n",
       "643685               0.000000            0.000000           0.612903   \n",
       "643686               0.212121            0.212121          17.363636   \n",
       "643687               0.294118            0.205882          34.705882   \n",
       "643688               0.000000            0.000000           0.000000   \n",
       "643689               0.666667            0.000000           0.000000   \n",
       "\n",
       "        LEH_tot_dur_byage  almp_tot_dur_byage  almp_aw_tot_dur_byage  \\\n",
       "0                0.000000            0.000000               0.000000   \n",
       "1                0.000000            0.000000               0.000000   \n",
       "2                0.000000            8.367347               0.000000   \n",
       "3                0.000000            9.400000               0.000000   \n",
       "4                0.000000           10.320000               0.000000   \n",
       "...                   ...                 ...                    ...   \n",
       "643685           0.000000            0.000000               0.000000   \n",
       "643686           0.000000            8.909091               0.000000   \n",
       "643687           0.000000           10.352941               1.705882   \n",
       "643688           0.525424            0.000000               0.000000   \n",
       "643689           8.950000            1.033333               0.083333   \n",
       "\n",
       "        se_tot_dur_byage  seeking1_tot_dur_byage  \n",
       "0               0.000000                0.000000  \n",
       "1               0.000000                0.000000  \n",
       "2               0.000000                9.836735  \n",
       "3               0.000000                9.960000  \n",
       "4               0.000000               10.280000  \n",
       "...                  ...                     ...  \n",
       "643685          0.000000                0.000000  \n",
       "643686          0.000000                7.121212  \n",
       "643687          1.705882               23.911765  \n",
       "643688          0.000000                0.000000  \n",
       "643689          0.083333                8.133333  \n",
       "\n",
       "[643690 rows x 164 columns]"
      ]
     },
     "execution_count": 10,
     "metadata": {},
     "output_type": "execute_result"
    }
   ],
   "source": [
    "siab"
   ]
  },
  {
   "cell_type": "markdown",
   "id": "1f87e805",
   "metadata": {
    "papermill": {
     "duration": 0.009836,
     "end_time": "2025-08-19T18:50:57.854250",
     "exception": false,
     "start_time": "2025-08-19T18:50:57.844414",
     "status": "completed"
    },
    "tags": []
   },
   "source": [
    "# Splitting Data and Setting Training Data Size"
   ]
  },
  {
   "cell_type": "code",
   "execution_count": 11,
   "id": "910ae358",
   "metadata": {
    "execution": {
     "iopub.execute_input": "2025-08-19T18:50:57.875267Z",
     "iopub.status.busy": "2025-08-19T18:50:57.874831Z",
     "iopub.status.idle": "2025-08-19T18:50:58.129694Z",
     "shell.execute_reply": "2025-08-19T18:50:58.128962Z"
    },
    "papermill": {
     "duration": 0.267105,
     "end_time": "2025-08-19T18:50:58.131112",
     "exception": false,
     "start_time": "2025-08-19T18:50:57.864007",
     "status": "completed"
    },
    "tags": []
   },
   "outputs": [],
   "source": [
    "from fairness_multiverse.universe import sample_by_year_size\n",
    "\n",
    "siab_train = sample_by_year_size(siab,\n",
    "                               training_year=universe[\"training_year\"],\n",
    "                               training_size=universe[\"training_size\"])"
   ]
  },
  {
   "cell_type": "code",
   "execution_count": 12,
   "id": "919c8ff5",
   "metadata": {
    "execution": {
     "iopub.execute_input": "2025-08-19T18:50:58.152723Z",
     "iopub.status.busy": "2025-08-19T18:50:58.152164Z",
     "iopub.status.idle": "2025-08-19T18:50:58.159961Z",
     "shell.execute_reply": "2025-08-19T18:50:58.159011Z"
    },
    "papermill": {
     "duration": 0.019921,
     "end_time": "2025-08-19T18:50:58.161128",
     "exception": false,
     "start_time": "2025-08-19T18:50:58.141207",
     "status": "completed"
    },
    "tags": []
   },
   "outputs": [
    {
     "data": {
      "text/plain": [
       "(1000, 164)"
      ]
     },
     "execution_count": 12,
     "metadata": {},
     "output_type": "execute_result"
    }
   ],
   "source": [
    "siab_train.shape"
   ]
  },
  {
   "cell_type": "code",
   "execution_count": 13,
   "id": "feb13bf4",
   "metadata": {
    "execution": {
     "iopub.execute_input": "2025-08-19T18:50:58.202575Z",
     "iopub.status.busy": "2025-08-19T18:50:58.202074Z",
     "iopub.status.idle": "2025-08-19T18:50:58.212037Z",
     "shell.execute_reply": "2025-08-19T18:50:58.211400Z"
    },
    "papermill": {
     "duration": 0.03686,
     "end_time": "2025-08-19T18:50:58.214434",
     "exception": false,
     "start_time": "2025-08-19T18:50:58.177574",
     "status": "completed"
    },
    "tags": []
   },
   "outputs": [
    {
     "data": {
      "text/plain": [
       "year\n",
       "2014    1000\n",
       "dtype: int64"
      ]
     },
     "metadata": {},
     "output_type": "display_data"
    }
   ],
   "source": [
    "display(siab_train.groupby(\"year\").size())"
   ]
  },
  {
   "cell_type": "code",
   "execution_count": 14,
   "id": "0997782f",
   "metadata": {
    "execution": {
     "iopub.execute_input": "2025-08-19T18:50:58.246151Z",
     "iopub.status.busy": "2025-08-19T18:50:58.244970Z",
     "iopub.status.idle": "2025-08-19T18:50:58.527155Z",
     "shell.execute_reply": "2025-08-19T18:50:58.526248Z"
    },
    "papermill": {
     "duration": 0.297679,
     "end_time": "2025-08-19T18:50:58.528758",
     "exception": false,
     "start_time": "2025-08-19T18:50:58.231079",
     "status": "completed"
    },
    "tags": []
   },
   "outputs": [],
   "source": [
    "#siab_train = siab_s[siab_s.year < 2015]\n",
    "siab_calib = siab[siab.year == 2015]\n",
    "siab_test = siab[siab.year == 2016]"
   ]
  },
  {
   "cell_type": "code",
   "execution_count": 15,
   "id": "2c1e4012",
   "metadata": {
    "execution": {
     "iopub.execute_input": "2025-08-19T18:50:58.558923Z",
     "iopub.status.busy": "2025-08-19T18:50:58.558438Z",
     "iopub.status.idle": "2025-08-19T18:50:58.562911Z",
     "shell.execute_reply": "2025-08-19T18:50:58.562220Z"
    },
    "papermill": {
     "duration": 0.023313,
     "end_time": "2025-08-19T18:50:58.564200",
     "exception": false,
     "start_time": "2025-08-19T18:50:58.540887",
     "status": "completed"
    },
    "tags": []
   },
   "outputs": [],
   "source": [
    "#siab_calib.shape"
   ]
  },
  {
   "cell_type": "code",
   "execution_count": 16,
   "id": "f66b54ca",
   "metadata": {
    "execution": {
     "iopub.execute_input": "2025-08-19T18:50:58.597421Z",
     "iopub.status.busy": "2025-08-19T18:50:58.596825Z",
     "iopub.status.idle": "2025-08-19T18:50:58.603424Z",
     "shell.execute_reply": "2025-08-19T18:50:58.602074Z"
    },
    "papermill": {
     "duration": 0.0202,
     "end_time": "2025-08-19T18:50:58.604840",
     "exception": false,
     "start_time": "2025-08-19T18:50:58.584640",
     "status": "completed"
    },
    "tags": []
   },
   "outputs": [],
   "source": [
    "#siab_test.shape"
   ]
  },
  {
   "cell_type": "code",
   "execution_count": 17,
   "id": "27e4384d",
   "metadata": {
    "execution": {
     "iopub.execute_input": "2025-08-19T18:50:58.628339Z",
     "iopub.status.busy": "2025-08-19T18:50:58.627404Z",
     "iopub.status.idle": "2025-08-19T18:50:58.640296Z",
     "shell.execute_reply": "2025-08-19T18:50:58.638461Z"
    },
    "papermill": {
     "duration": 0.026645,
     "end_time": "2025-08-19T18:50:58.642171",
     "exception": false,
     "start_time": "2025-08-19T18:50:58.615526",
     "status": "completed"
    },
    "tags": []
   },
   "outputs": [],
   "source": [
    "X_train = siab_train.iloc[:,4:164]\n",
    "y_train = siab_train.iloc[:, [3]]"
   ]
  },
  {
   "cell_type": "code",
   "execution_count": 18,
   "id": "08ee8389",
   "metadata": {
    "execution": {
     "iopub.execute_input": "2025-08-19T18:50:58.672241Z",
     "iopub.status.busy": "2025-08-19T18:50:58.671064Z",
     "iopub.status.idle": "2025-08-19T18:50:58.730160Z",
     "shell.execute_reply": "2025-08-19T18:50:58.728689Z"
    },
    "papermill": {
     "duration": 0.0751,
     "end_time": "2025-08-19T18:50:58.732762",
     "exception": false,
     "start_time": "2025-08-19T18:50:58.657662",
     "status": "completed"
    },
    "tags": []
   },
   "outputs": [],
   "source": [
    "X_calib = siab_calib.iloc[:,4:164]\n",
    "y_calib = siab_calib.iloc[:, [3]]"
   ]
  },
  {
   "cell_type": "code",
   "execution_count": 19,
   "id": "b7ff42e0",
   "metadata": {
    "execution": {
     "iopub.execute_input": "2025-08-19T18:50:58.773858Z",
     "iopub.status.busy": "2025-08-19T18:50:58.772810Z",
     "iopub.status.idle": "2025-08-19T18:50:58.827807Z",
     "shell.execute_reply": "2025-08-19T18:50:58.827097Z"
    },
    "papermill": {
     "duration": 0.072588,
     "end_time": "2025-08-19T18:50:58.830514",
     "exception": false,
     "start_time": "2025-08-19T18:50:58.757926",
     "status": "completed"
    },
    "tags": []
   },
   "outputs": [],
   "source": [
    "X_test = siab_test.iloc[:,4:164]\n",
    "y_true = siab_test.iloc[:, [3]]"
   ]
  },
  {
   "cell_type": "code",
   "execution_count": 20,
   "id": "0275101e",
   "metadata": {
    "execution": {
     "iopub.execute_input": "2025-08-19T18:50:58.871102Z",
     "iopub.status.busy": "2025-08-19T18:50:58.870069Z",
     "iopub.status.idle": "2025-08-19T18:50:58.985974Z",
     "shell.execute_reply": "2025-08-19T18:50:58.984985Z"
    },
    "papermill": {
     "duration": 0.133117,
     "end_time": "2025-08-19T18:50:58.988693",
     "exception": false,
     "start_time": "2025-08-19T18:50:58.855576",
     "status": "completed"
    },
    "tags": []
   },
   "outputs": [],
   "source": [
    "# Auxiliary data needed downstream in the pipeline\n",
    "\n",
    "org_train = X_train.copy()\n",
    "org_test = X_test.copy()\n",
    "org_calib = X_calib.copy()"
   ]
  },
  {
   "cell_type": "markdown",
   "id": "b461e618",
   "metadata": {
    "papermill": {
     "duration": 0.012696,
     "end_time": "2025-08-19T18:50:59.025258",
     "exception": false,
     "start_time": "2025-08-19T18:50:59.012562",
     "status": "completed"
    },
    "tags": []
   },
   "source": [
    "# Preprocessing Data"
   ]
  },
  {
   "cell_type": "code",
   "execution_count": 21,
   "id": "78e74c4b",
   "metadata": {
    "execution": {
     "iopub.execute_input": "2025-08-19T18:50:59.049056Z",
     "iopub.status.busy": "2025-08-19T18:50:59.047738Z",
     "iopub.status.idle": "2025-08-19T18:50:59.058217Z",
     "shell.execute_reply": "2025-08-19T18:50:59.056631Z"
    },
    "papermill": {
     "duration": 0.024408,
     "end_time": "2025-08-19T18:50:59.059874",
     "exception": false,
     "start_time": "2025-08-19T18:50:59.035466",
     "status": "completed"
    },
    "tags": []
   },
   "outputs": [],
   "source": [
    "# EXCLUDE PROTECTED FEATURES\n",
    "# --------------------------\n",
    "\n",
    "excluded_features = universe[\"exclude_features\"].split(\"-\")\n",
    "excluded_features_dictionary = {\n",
    "    \"nationality\": [\"maxdeutsch1\", \"maxdeutsch.Missing.\"],\n",
    "    \"sex\": [\"frau1\"],\n",
    "    \"age\": [\"age\"],\n",
    "}"
   ]
  },
  {
   "cell_type": "code",
   "execution_count": 22,
   "id": "f8e63555",
   "metadata": {
    "execution": {
     "iopub.execute_input": "2025-08-19T18:50:59.086153Z",
     "iopub.status.busy": "2025-08-19T18:50:59.084919Z",
     "iopub.status.idle": "2025-08-19T18:50:59.095110Z",
     "shell.execute_reply": "2025-08-19T18:50:59.093493Z"
    },
    "papermill": {
     "duration": 0.023619,
     "end_time": "2025-08-19T18:50:59.096546",
     "exception": false,
     "start_time": "2025-08-19T18:50:59.072927",
     "status": "completed"
    },
    "tags": []
   },
   "outputs": [],
   "source": [
    "excluded_features_columns = [\n",
    "    excluded_features_dictionary[f] for f in excluded_features if len(f) > 0 and f != \"none\"\n",
    "]"
   ]
  },
  {
   "cell_type": "code",
   "execution_count": 23,
   "id": "da781f7c",
   "metadata": {
    "execution": {
     "iopub.execute_input": "2025-08-19T18:50:59.122811Z",
     "iopub.status.busy": "2025-08-19T18:50:59.121466Z",
     "iopub.status.idle": "2025-08-19T18:50:59.130022Z",
     "shell.execute_reply": "2025-08-19T18:50:59.128407Z"
    },
    "papermill": {
     "duration": 0.021939,
     "end_time": "2025-08-19T18:50:59.131491",
     "exception": false,
     "start_time": "2025-08-19T18:50:59.109552",
     "status": "completed"
    },
    "tags": []
   },
   "outputs": [],
   "source": [
    "from fairness_multiverse.universe import flatten_once\n",
    "\n",
    "excluded_features_columns = flatten_once(excluded_features_columns)"
   ]
  },
  {
   "cell_type": "code",
   "execution_count": 24,
   "id": "37fef0f0",
   "metadata": {
    "execution": {
     "iopub.execute_input": "2025-08-19T18:50:59.157910Z",
     "iopub.status.busy": "2025-08-19T18:50:59.156700Z",
     "iopub.status.idle": "2025-08-19T18:50:59.173286Z",
     "shell.execute_reply": "2025-08-19T18:50:59.172219Z"
    },
    "papermill": {
     "duration": 0.030046,
     "end_time": "2025-08-19T18:50:59.174637",
     "exception": false,
     "start_time": "2025-08-19T18:50:59.144591",
     "status": "completed"
    },
    "tags": []
   },
   "outputs": [
    {
     "name": "stdout",
     "output_type": "stream",
     "text": [
      "Dropping features: ['age']\n"
     ]
    }
   ],
   "source": [
    "if len(excluded_features_columns) > 0:\n",
    "    print(f\"Dropping features: {excluded_features_columns}\")\n",
    "    X_train.drop(excluded_features_columns, axis=1, inplace=True)"
   ]
  },
  {
   "cell_type": "code",
   "execution_count": 25,
   "id": "d029e3e9",
   "metadata": {
    "execution": {
     "iopub.execute_input": "2025-08-19T18:50:59.202377Z",
     "iopub.status.busy": "2025-08-19T18:50:59.200990Z",
     "iopub.status.idle": "2025-08-19T18:50:59.264186Z",
     "shell.execute_reply": "2025-08-19T18:50:59.263515Z"
    },
    "papermill": {
     "duration": 0.078453,
     "end_time": "2025-08-19T18:50:59.267034",
     "exception": false,
     "start_time": "2025-08-19T18:50:59.188581",
     "status": "completed"
    },
    "tags": []
   },
   "outputs": [
    {
     "name": "stdout",
     "output_type": "stream",
     "text": [
      "Dropping features: ['age']\n"
     ]
    }
   ],
   "source": [
    "if len(excluded_features_columns) > 0:\n",
    "    print(f\"Dropping features: {excluded_features_columns}\")\n",
    "    X_test.drop(excluded_features_columns, axis=1, inplace=True)"
   ]
  },
  {
   "cell_type": "code",
   "execution_count": 26,
   "id": "01d571f0",
   "metadata": {
    "execution": {
     "iopub.execute_input": "2025-08-19T18:50:59.306947Z",
     "iopub.status.busy": "2025-08-19T18:50:59.306308Z",
     "iopub.status.idle": "2025-08-19T18:50:59.362688Z",
     "shell.execute_reply": "2025-08-19T18:50:59.361930Z"
    },
    "papermill": {
     "duration": 0.073135,
     "end_time": "2025-08-19T18:50:59.364111",
     "exception": false,
     "start_time": "2025-08-19T18:50:59.290976",
     "status": "completed"
    },
    "tags": []
   },
   "outputs": [
    {
     "name": "stdout",
     "output_type": "stream",
     "text": [
      "Dropping features: ['age']\n"
     ]
    }
   ],
   "source": [
    "if len(excluded_features_columns) > 0:\n",
    "    print(f\"Dropping features: {excluded_features_columns}\")\n",
    "    X_calib.drop(excluded_features_columns, axis=1, inplace=True)"
   ]
  },
  {
   "cell_type": "code",
   "execution_count": 27,
   "id": "3037356e",
   "metadata": {
    "execution": {
     "iopub.execute_input": "2025-08-19T18:50:59.388651Z",
     "iopub.status.busy": "2025-08-19T18:50:59.388332Z",
     "iopub.status.idle": "2025-08-19T18:50:59.393258Z",
     "shell.execute_reply": "2025-08-19T18:50:59.392590Z"
    },
    "papermill": {
     "duration": 0.018744,
     "end_time": "2025-08-19T18:50:59.394608",
     "exception": false,
     "start_time": "2025-08-19T18:50:59.375864",
     "status": "completed"
    },
    "tags": []
   },
   "outputs": [],
   "source": [
    "# EXCLUDE CERTAIN SUBGROUPS\n",
    "# -------------------------\n",
    "\n",
    "mode = universe.get(\"exclude_subgroups\", \"keep-all\") # Defaults to \"keep-all\" if the key is missing."
   ]
  },
  {
   "cell_type": "code",
   "execution_count": 28,
   "id": "9d1e63fd",
   "metadata": {
    "execution": {
     "iopub.execute_input": "2025-08-19T18:50:59.418559Z",
     "iopub.status.busy": "2025-08-19T18:50:59.418251Z",
     "iopub.status.idle": "2025-08-19T18:50:59.424800Z",
     "shell.execute_reply": "2025-08-19T18:50:59.423964Z"
    },
    "papermill": {
     "duration": 0.02161,
     "end_time": "2025-08-19T18:50:59.427297",
     "exception": false,
     "start_time": "2025-08-19T18:50:59.405687",
     "status": "completed"
    },
    "tags": []
   },
   "outputs": [],
   "source": [
    "if mode == \"keep-all\":\n",
    "    keep_mask = pd.Series(True, index=org_train.index)\n",
    "\n",
    "elif mode == \"drop-non-german\":\n",
    "    keep_mask = (org_train[\"maxdeutsch1\"] == 1) & (org_train[\"maxdeutsch.Missing.\"] == 0)\n",
    "\n",
    "else:\n",
    "    raise ValueError(f\"Unsupported mode for exclude_subgroups: {mode}\")"
   ]
  },
  {
   "cell_type": "code",
   "execution_count": 29,
   "id": "d3b65474",
   "metadata": {
    "execution": {
     "iopub.execute_input": "2025-08-19T18:50:59.450486Z",
     "iopub.status.busy": "2025-08-19T18:50:59.450063Z",
     "iopub.status.idle": "2025-08-19T18:50:59.461494Z",
     "shell.execute_reply": "2025-08-19T18:50:59.460534Z"
    },
    "papermill": {
     "duration": 0.024688,
     "end_time": "2025-08-19T18:50:59.462772",
     "exception": false,
     "start_time": "2025-08-19T18:50:59.438084",
     "status": "completed"
    },
    "tags": []
   },
   "outputs": [],
   "source": [
    "n_drop = (~keep_mask).sum() # Calculates how many rows are set to be dropped\n",
    "if n_drop > 0:\n",
    "    pct = n_drop / len(keep_mask) * 100\n",
    "    print(f\"Dropping {n_drop} rows ({pct:.2f}%) where mode='{mode}'\")"
   ]
  },
  {
   "cell_type": "code",
   "execution_count": 30,
   "id": "f44389b3",
   "metadata": {
    "execution": {
     "iopub.execute_input": "2025-08-19T18:50:59.521490Z",
     "iopub.status.busy": "2025-08-19T18:50:59.520913Z",
     "iopub.status.idle": "2025-08-19T18:50:59.528312Z",
     "shell.execute_reply": "2025-08-19T18:50:59.527504Z"
    },
    "papermill": {
     "duration": 0.038052,
     "end_time": "2025-08-19T18:50:59.530819",
     "exception": false,
     "start_time": "2025-08-19T18:50:59.492767",
     "status": "completed"
    },
    "tags": []
   },
   "outputs": [],
   "source": [
    "X_train = X_train[keep_mask]"
   ]
  },
  {
   "cell_type": "code",
   "execution_count": 31,
   "id": "ceca8c2a",
   "metadata": {
    "execution": {
     "iopub.execute_input": "2025-08-19T18:50:59.572016Z",
     "iopub.status.busy": "2025-08-19T18:50:59.571520Z",
     "iopub.status.idle": "2025-08-19T18:50:59.577454Z",
     "shell.execute_reply": "2025-08-19T18:50:59.576623Z"
    },
    "papermill": {
     "duration": 0.02126,
     "end_time": "2025-08-19T18:50:59.578758",
     "exception": false,
     "start_time": "2025-08-19T18:50:59.557498",
     "status": "completed"
    },
    "tags": []
   },
   "outputs": [],
   "source": [
    "y_train = y_train[keep_mask]"
   ]
  },
  {
   "cell_type": "markdown",
   "id": "04d31e2f",
   "metadata": {
    "papermill": {
     "duration": 0.011461,
     "end_time": "2025-08-19T18:50:59.602525",
     "exception": false,
     "start_time": "2025-08-19T18:50:59.591064",
     "status": "completed"
    },
    "tags": []
   },
   "source": [
    "# Model Training"
   ]
  },
  {
   "cell_type": "code",
   "execution_count": 32,
   "id": "db991733",
   "metadata": {
    "execution": {
     "iopub.execute_input": "2025-08-19T18:50:59.627222Z",
     "iopub.status.busy": "2025-08-19T18:50:59.626882Z",
     "iopub.status.idle": "2025-08-19T18:50:59.732927Z",
     "shell.execute_reply": "2025-08-19T18:50:59.732179Z"
    },
    "papermill": {
     "duration": 0.120907,
     "end_time": "2025-08-19T18:50:59.734780",
     "exception": false,
     "start_time": "2025-08-19T18:50:59.613873",
     "status": "completed"
    },
    "tags": []
   },
   "outputs": [],
   "source": [
    "from sklearn.linear_model import LogisticRegression\n",
    "from sklearn.ensemble import GradientBoostingClassifier, RandomForestClassifier\n",
    "\n",
    "if (universe[\"model\"] == \"logreg\"):\n",
    "    model = LogisticRegression() #penalty=\"none\", solver=\"newton-cg\", max_iter=1)\n",
    "elif (universe[\"model\"] == \"penalized_logreg\"):\n",
    "    model = LogisticRegression(penalty=\"l2\", C=0.1) #, solver=\"newton-cg\", max_iter=1)\n",
    "elif (universe[\"model\"] == \"rf\"):\n",
    "    model = RandomForestClassifier() # n_estimators=100, n_jobs=-1\n",
    "elif (universe[\"model\"] == \"gbm\"):\n",
    "    model = GradientBoostingClassifier()\n",
    "elif (universe[\"model\"] == \"elasticnet\"):\n",
    "    model = LogisticRegression(penalty = 'elasticnet', solver = 'saga', l1_ratio = 0.5) # max_iter=5000\n",
    "else:\n",
    "    raise \"Unsupported universe.model\""
   ]
  },
  {
   "cell_type": "code",
   "execution_count": 33,
   "id": "a4b5cd25",
   "metadata": {
    "execution": {
     "iopub.execute_input": "2025-08-19T18:50:59.773915Z",
     "iopub.status.busy": "2025-08-19T18:50:59.773558Z",
     "iopub.status.idle": "2025-08-19T18:50:59.779322Z",
     "shell.execute_reply": "2025-08-19T18:50:59.778220Z"
    },
    "papermill": {
     "duration": 0.033103,
     "end_time": "2025-08-19T18:50:59.780935",
     "exception": false,
     "start_time": "2025-08-19T18:50:59.747832",
     "status": "completed"
    },
    "tags": []
   },
   "outputs": [],
   "source": [
    "from sklearn.pipeline import Pipeline\n",
    "from sklearn.preprocessing import StandardScaler\n",
    "\n",
    "model = Pipeline([\n",
    "    #(\"continuous_processor\", continuous_processor),\n",
    "    #(\"categorical_preprocessor\", categorical_preprocessor),\n",
    "    (\"scale\", StandardScaler() if universe[\"scale\"] == \"scale\" else None), \n",
    "    (\"model\", model),\n",
    "])"
   ]
  },
  {
   "cell_type": "code",
   "execution_count": 34,
   "id": "283a904d",
   "metadata": {
    "execution": {
     "iopub.execute_input": "2025-08-19T18:50:59.808115Z",
     "iopub.status.busy": "2025-08-19T18:50:59.807808Z",
     "iopub.status.idle": "2025-08-19T18:51:00.119356Z",
     "shell.execute_reply": "2025-08-19T18:51:00.118617Z"
    },
    "papermill": {
     "duration": 0.32506,
     "end_time": "2025-08-19T18:51:00.120547",
     "exception": false,
     "start_time": "2025-08-19T18:50:59.795487",
     "status": "completed"
    },
    "tags": []
   },
   "outputs": [
    {
     "data": {
      "text/html": [
       "<style>#sk-container-id-1 {color: black;background-color: white;}#sk-container-id-1 pre{padding: 0;}#sk-container-id-1 div.sk-toggleable {background-color: white;}#sk-container-id-1 label.sk-toggleable__label {cursor: pointer;display: block;width: 100%;margin-bottom: 0;padding: 0.3em;box-sizing: border-box;text-align: center;}#sk-container-id-1 label.sk-toggleable__label-arrow:before {content: \"▸\";float: left;margin-right: 0.25em;color: #696969;}#sk-container-id-1 label.sk-toggleable__label-arrow:hover:before {color: black;}#sk-container-id-1 div.sk-estimator:hover label.sk-toggleable__label-arrow:before {color: black;}#sk-container-id-1 div.sk-toggleable__content {max-height: 0;max-width: 0;overflow: hidden;text-align: left;background-color: #f0f8ff;}#sk-container-id-1 div.sk-toggleable__content pre {margin: 0.2em;color: black;border-radius: 0.25em;background-color: #f0f8ff;}#sk-container-id-1 input.sk-toggleable__control:checked~div.sk-toggleable__content {max-height: 200px;max-width: 100%;overflow: auto;}#sk-container-id-1 input.sk-toggleable__control:checked~label.sk-toggleable__label-arrow:before {content: \"▾\";}#sk-container-id-1 div.sk-estimator input.sk-toggleable__control:checked~label.sk-toggleable__label {background-color: #d4ebff;}#sk-container-id-1 div.sk-label input.sk-toggleable__control:checked~label.sk-toggleable__label {background-color: #d4ebff;}#sk-container-id-1 input.sk-hidden--visually {border: 0;clip: rect(1px 1px 1px 1px);clip: rect(1px, 1px, 1px, 1px);height: 1px;margin: -1px;overflow: hidden;padding: 0;position: absolute;width: 1px;}#sk-container-id-1 div.sk-estimator {font-family: monospace;background-color: #f0f8ff;border: 1px dotted black;border-radius: 0.25em;box-sizing: border-box;margin-bottom: 0.5em;}#sk-container-id-1 div.sk-estimator:hover {background-color: #d4ebff;}#sk-container-id-1 div.sk-parallel-item::after {content: \"\";width: 100%;border-bottom: 1px solid gray;flex-grow: 1;}#sk-container-id-1 div.sk-label:hover label.sk-toggleable__label {background-color: #d4ebff;}#sk-container-id-1 div.sk-serial::before {content: \"\";position: absolute;border-left: 1px solid gray;box-sizing: border-box;top: 0;bottom: 0;left: 50%;z-index: 0;}#sk-container-id-1 div.sk-serial {display: flex;flex-direction: column;align-items: center;background-color: white;padding-right: 0.2em;padding-left: 0.2em;position: relative;}#sk-container-id-1 div.sk-item {position: relative;z-index: 1;}#sk-container-id-1 div.sk-parallel {display: flex;align-items: stretch;justify-content: center;background-color: white;position: relative;}#sk-container-id-1 div.sk-item::before, #sk-container-id-1 div.sk-parallel-item::before {content: \"\";position: absolute;border-left: 1px solid gray;box-sizing: border-box;top: 0;bottom: 0;left: 50%;z-index: -1;}#sk-container-id-1 div.sk-parallel-item {display: flex;flex-direction: column;z-index: 1;position: relative;background-color: white;}#sk-container-id-1 div.sk-parallel-item:first-child::after {align-self: flex-end;width: 50%;}#sk-container-id-1 div.sk-parallel-item:last-child::after {align-self: flex-start;width: 50%;}#sk-container-id-1 div.sk-parallel-item:only-child::after {width: 0;}#sk-container-id-1 div.sk-dashed-wrapped {border: 1px dashed gray;margin: 0 0.4em 0.5em 0.4em;box-sizing: border-box;padding-bottom: 0.4em;background-color: white;}#sk-container-id-1 div.sk-label label {font-family: monospace;font-weight: bold;display: inline-block;line-height: 1.2em;}#sk-container-id-1 div.sk-label-container {text-align: center;}#sk-container-id-1 div.sk-container {/* jupyter's `normalize.less` sets `[hidden] { display: none; }` but bootstrap.min.css set `[hidden] { display: none !important; }` so we also need the `!important` here to be able to override the default hidden behavior on the sphinx rendered scikit-learn.org. See: https://github.com/scikit-learn/scikit-learn/issues/21755 */display: inline-block !important;position: relative;}#sk-container-id-1 div.sk-text-repr-fallback {display: none;}</style><div id=\"sk-container-id-1\" class=\"sk-top-container\"><div class=\"sk-text-repr-fallback\"><pre>Pipeline(steps=[(&#x27;scale&#x27;, StandardScaler()),\n",
       "                (&#x27;model&#x27;, RandomForestClassifier())])</pre><b>In a Jupyter environment, please rerun this cell to show the HTML representation or trust the notebook. <br />On GitHub, the HTML representation is unable to render, please try loading this page with nbviewer.org.</b></div><div class=\"sk-container\" hidden><div class=\"sk-item sk-dashed-wrapped\"><div class=\"sk-label-container\"><div class=\"sk-label sk-toggleable\"><input class=\"sk-toggleable__control sk-hidden--visually\" id=\"sk-estimator-id-1\" type=\"checkbox\" ><label for=\"sk-estimator-id-1\" class=\"sk-toggleable__label sk-toggleable__label-arrow\">Pipeline</label><div class=\"sk-toggleable__content\"><pre>Pipeline(steps=[(&#x27;scale&#x27;, StandardScaler()),\n",
       "                (&#x27;model&#x27;, RandomForestClassifier())])</pre></div></div></div><div class=\"sk-serial\"><div class=\"sk-item\"><div class=\"sk-estimator sk-toggleable\"><input class=\"sk-toggleable__control sk-hidden--visually\" id=\"sk-estimator-id-2\" type=\"checkbox\" ><label for=\"sk-estimator-id-2\" class=\"sk-toggleable__label sk-toggleable__label-arrow\">StandardScaler</label><div class=\"sk-toggleable__content\"><pre>StandardScaler()</pre></div></div></div><div class=\"sk-item\"><div class=\"sk-estimator sk-toggleable\"><input class=\"sk-toggleable__control sk-hidden--visually\" id=\"sk-estimator-id-3\" type=\"checkbox\" ><label for=\"sk-estimator-id-3\" class=\"sk-toggleable__label sk-toggleable__label-arrow\">RandomForestClassifier</label><div class=\"sk-toggleable__content\"><pre>RandomForestClassifier()</pre></div></div></div></div></div></div></div>"
      ],
      "text/plain": [
       "Pipeline(steps=[('scale', StandardScaler()),\n",
       "                ('model', RandomForestClassifier())])"
      ]
     },
     "execution_count": 34,
     "metadata": {},
     "output_type": "execute_result"
    }
   ],
   "source": [
    "model.fit(X_train, y_train.values.ravel())"
   ]
  },
  {
   "cell_type": "code",
   "execution_count": 35,
   "id": "6e15e313",
   "metadata": {
    "execution": {
     "iopub.execute_input": "2025-08-19T18:51:00.149574Z",
     "iopub.status.busy": "2025-08-19T18:51:00.148940Z",
     "iopub.status.idle": "2025-08-19T18:51:01.664396Z",
     "shell.execute_reply": "2025-08-19T18:51:01.662199Z"
    },
    "papermill": {
     "duration": 1.533245,
     "end_time": "2025-08-19T18:51:01.666141",
     "exception": false,
     "start_time": "2025-08-19T18:51:00.132896",
     "status": "completed"
    },
    "tags": []
   },
   "outputs": [
    {
     "data": {
      "text/plain": [
       "0.8615316018281128"
      ]
     },
     "execution_count": 35,
     "metadata": {},
     "output_type": "execute_result"
    }
   ],
   "source": [
    "from fairness_multiverse.universe import predict_w_threshold\n",
    "\n",
    "probs_test = model.predict_proba(X_test)\n",
    "\n",
    "'''\n",
    "Below code returns a boolean array (or binary 0/1 array depending on how it’s used) where each element \n",
    "is True if the probability of class 1 is greater than or equal to the threshold, and False otherwise.\n",
    "'''\n",
    "y_pred_default = predict_w_threshold(probs_test, 0.5)\n",
    "\n",
    "from sklearn.metrics import accuracy_score\n",
    "\n",
    "# Naive prediction\n",
    "accuracy_score(y_true = y_true, y_pred = y_pred_default)"
   ]
  },
  {
   "cell_type": "code",
   "execution_count": 36,
   "id": "6f14067c",
   "metadata": {
    "execution": {
     "iopub.execute_input": "2025-08-19T18:51:01.700903Z",
     "iopub.status.busy": "2025-08-19T18:51:01.700402Z",
     "iopub.status.idle": "2025-08-19T18:51:03.178878Z",
     "shell.execute_reply": "2025-08-19T18:51:03.177607Z"
    },
    "papermill": {
     "duration": 1.492623,
     "end_time": "2025-08-19T18:51:03.180445",
     "exception": false,
     "start_time": "2025-08-19T18:51:01.687822",
     "status": "completed"
    },
    "tags": []
   },
   "outputs": [
    {
     "data": {
      "text/plain": [
       "array([0, 0, 0, ..., 0, 0, 0])"
      ]
     },
     "execution_count": 36,
     "metadata": {},
     "output_type": "execute_result"
    }
   ],
   "source": [
    "model.predict(X_test)"
   ]
  },
  {
   "cell_type": "markdown",
   "id": "3759920c",
   "metadata": {
    "papermill": {
     "duration": 0.021112,
     "end_time": "2025-08-19T18:51:03.226301",
     "exception": false,
     "start_time": "2025-08-19T18:51:03.205189",
     "status": "completed"
    },
    "tags": []
   },
   "source": [
    "# Conformal Prediction"
   ]
  },
  {
   "cell_type": "code",
   "execution_count": 37,
   "id": "14b27f59",
   "metadata": {
    "execution": {
     "iopub.execute_input": "2025-08-19T18:51:03.255236Z",
     "iopub.status.busy": "2025-08-19T18:51:03.253989Z",
     "iopub.status.idle": "2025-08-19T18:51:03.267465Z",
     "shell.execute_reply": "2025-08-19T18:51:03.266286Z"
    },
    "papermill": {
     "duration": 0.031189,
     "end_time": "2025-08-19T18:51:03.270410",
     "exception": false,
     "start_time": "2025-08-19T18:51:03.239221",
     "status": "completed"
    },
    "tags": []
   },
   "outputs": [],
   "source": [
    "# Miscoverage level for conformal prediction (10% allowed error rate => 90% target coverage)\n",
    "alpha = 0.1"
   ]
  },
  {
   "cell_type": "code",
   "execution_count": 38,
   "id": "59102472",
   "metadata": {
    "execution": {
     "iopub.execute_input": "2025-08-19T18:51:03.299875Z",
     "iopub.status.busy": "2025-08-19T18:51:03.299506Z",
     "iopub.status.idle": "2025-08-19T18:51:04.685400Z",
     "shell.execute_reply": "2025-08-19T18:51:04.684253Z"
    },
    "papermill": {
     "duration": 1.399803,
     "end_time": "2025-08-19T18:51:04.687037",
     "exception": false,
     "start_time": "2025-08-19T18:51:03.287234",
     "status": "completed"
    },
    "tags": []
   },
   "outputs": [],
   "source": [
    "probs_calib = model.predict_proba(X_calib)"
   ]
  },
  {
   "cell_type": "code",
   "execution_count": 39,
   "id": "a792d4dd",
   "metadata": {
    "execution": {
     "iopub.execute_input": "2025-08-19T18:51:04.716677Z",
     "iopub.status.busy": "2025-08-19T18:51:04.716155Z",
     "iopub.status.idle": "2025-08-19T18:51:04.722198Z",
     "shell.execute_reply": "2025-08-19T18:51:04.721591Z"
    },
    "papermill": {
     "duration": 0.02417,
     "end_time": "2025-08-19T18:51:04.723683",
     "exception": false,
     "start_time": "2025-08-19T18:51:04.699513",
     "status": "completed"
    },
    "tags": []
   },
   "outputs": [],
   "source": [
    "y_calib = y_calib.values.ravel().astype(int)"
   ]
  },
  {
   "cell_type": "code",
   "execution_count": 40,
   "id": "650fd033",
   "metadata": {
    "execution": {
     "iopub.execute_input": "2025-08-19T18:51:04.752570Z",
     "iopub.status.busy": "2025-08-19T18:51:04.752187Z",
     "iopub.status.idle": "2025-08-19T18:51:04.758770Z",
     "shell.execute_reply": "2025-08-19T18:51:04.758056Z"
    },
    "papermill": {
     "duration": 0.025681,
     "end_time": "2025-08-19T18:51:04.764463",
     "exception": false,
     "start_time": "2025-08-19T18:51:04.738782",
     "status": "completed"
    },
    "tags": []
   },
   "outputs": [],
   "source": [
    "from fairness_multiverse.conformal import compute_nc_scores\n",
    "\n",
    "# Compute nonconformity scores on calibration set (1 - probability of true class)\n",
    "nc_scores = compute_nc_scores(probs_calib, y_calib)"
   ]
  },
  {
   "cell_type": "code",
   "execution_count": 41,
   "id": "28ada44c",
   "metadata": {
    "execution": {
     "iopub.execute_input": "2025-08-19T18:51:04.803311Z",
     "iopub.status.busy": "2025-08-19T18:51:04.802288Z",
     "iopub.status.idle": "2025-08-19T18:51:04.814163Z",
     "shell.execute_reply": "2025-08-19T18:51:04.812584Z"
    },
    "papermill": {
     "duration": 0.028045,
     "end_time": "2025-08-19T18:51:04.816042",
     "exception": false,
     "start_time": "2025-08-19T18:51:04.787997",
     "status": "completed"
    },
    "tags": []
   },
   "outputs": [],
   "source": [
    "from fairness_multiverse.conformal import find_threshold\n",
    "\n",
    "# Find conformal threshold q_hat for the given alpha (split conformal method)\n",
    "q_hat = find_threshold(nc_scores, alpha)"
   ]
  },
  {
   "cell_type": "code",
   "execution_count": 42,
   "id": "df56469e",
   "metadata": {
    "execution": {
     "iopub.execute_input": "2025-08-19T18:51:04.849974Z",
     "iopub.status.busy": "2025-08-19T18:51:04.848956Z",
     "iopub.status.idle": "2025-08-19T18:51:04.860925Z",
     "shell.execute_reply": "2025-08-19T18:51:04.859629Z"
    },
    "papermill": {
     "duration": 0.028153,
     "end_time": "2025-08-19T18:51:04.862484",
     "exception": false,
     "start_time": "2025-08-19T18:51:04.834331",
     "status": "completed"
    },
    "tags": []
   },
   "outputs": [
    {
     "data": {
      "text/plain": [
       "0.6799999999999999"
      ]
     },
     "execution_count": 42,
     "metadata": {},
     "output_type": "execute_result"
    }
   ],
   "source": [
    "q_hat"
   ]
  },
  {
   "cell_type": "code",
   "execution_count": 43,
   "id": "aa1f5faa",
   "metadata": {
    "execution": {
     "iopub.execute_input": "2025-08-19T18:51:04.891873Z",
     "iopub.status.busy": "2025-08-19T18:51:04.890893Z",
     "iopub.status.idle": "2025-08-19T18:51:06.752576Z",
     "shell.execute_reply": "2025-08-19T18:51:06.751803Z"
    },
    "papermill": {
     "duration": 1.877228,
     "end_time": "2025-08-19T18:51:06.754305",
     "exception": false,
     "start_time": "2025-08-19T18:51:04.877077",
     "status": "completed"
    },
    "tags": []
   },
   "outputs": [],
   "source": [
    "from fairness_multiverse.conformal import predict_conformal_sets\n",
    "\n",
    "# Generate prediction sets for each test example\n",
    "pred_sets = predict_conformal_sets(model, X_test, q_hat)"
   ]
  },
  {
   "cell_type": "code",
   "execution_count": 44,
   "id": "97f67a6b",
   "metadata": {
    "execution": {
     "iopub.execute_input": "2025-08-19T18:51:06.800085Z",
     "iopub.status.busy": "2025-08-19T18:51:06.798701Z",
     "iopub.status.idle": "2025-08-19T18:51:06.808637Z",
     "shell.execute_reply": "2025-08-19T18:51:06.806908Z"
    },
    "papermill": {
     "duration": 0.040526,
     "end_time": "2025-08-19T18:51:06.810182",
     "exception": false,
     "start_time": "2025-08-19T18:51:06.769656",
     "status": "completed"
    },
    "tags": []
   },
   "outputs": [],
   "source": [
    "y_true = y_true.squeeze()"
   ]
  },
  {
   "cell_type": "code",
   "execution_count": 45,
   "id": "e700e9a7",
   "metadata": {
    "execution": {
     "iopub.execute_input": "2025-08-19T18:51:06.843655Z",
     "iopub.status.busy": "2025-08-19T18:51:06.842351Z",
     "iopub.status.idle": "2025-08-19T18:51:07.357828Z",
     "shell.execute_reply": "2025-08-19T18:51:07.356596Z"
    },
    "papermill": {
     "duration": 0.53292,
     "end_time": "2025-08-19T18:51:07.360908",
     "exception": false,
     "start_time": "2025-08-19T18:51:06.827988",
     "status": "completed"
    },
    "tags": []
   },
   "outputs": [],
   "source": [
    "from fairness_multiverse.conformal import evaluate_sets\n",
    "\n",
    "# Evaluate coverage and average set size on test data\n",
    "metrics = evaluate_sets(pred_sets, y_true)"
   ]
  },
  {
   "cell_type": "markdown",
   "id": "efbacec0",
   "metadata": {
    "papermill": {
     "duration": 0.013018,
     "end_time": "2025-08-19T18:51:07.400185",
     "exception": false,
     "start_time": "2025-08-19T18:51:07.387167",
     "status": "completed"
    },
    "tags": []
   },
   "source": [
    "# CP Metrics"
   ]
  },
  {
   "cell_type": "code",
   "execution_count": 46,
   "id": "9de55fb1",
   "metadata": {
    "execution": {
     "iopub.execute_input": "2025-08-19T18:51:07.428308Z",
     "iopub.status.busy": "2025-08-19T18:51:07.426820Z",
     "iopub.status.idle": "2025-08-19T18:51:07.440550Z",
     "shell.execute_reply": "2025-08-19T18:51:07.439266Z"
    },
    "papermill": {
     "duration": 0.03006,
     "end_time": "2025-08-19T18:51:07.442255",
     "exception": false,
     "start_time": "2025-08-19T18:51:07.412195",
     "status": "completed"
    },
    "tags": []
   },
   "outputs": [
    {
     "data": {
      "text/plain": [
       "{'coverage': 0.9131423475643741, 'avg_size': 1.147954520120388}"
      ]
     },
     "execution_count": 46,
     "metadata": {},
     "output_type": "execute_result"
    }
   ],
   "source": [
    "metrics"
   ]
  },
  {
   "cell_type": "code",
   "execution_count": 47,
   "id": "64c340a1",
   "metadata": {
    "execution": {
     "iopub.execute_input": "2025-08-19T18:51:07.474065Z",
     "iopub.status.busy": "2025-08-19T18:51:07.472864Z",
     "iopub.status.idle": "2025-08-19T18:51:07.484121Z",
     "shell.execute_reply": "2025-08-19T18:51:07.482508Z"
    },
    "papermill": {
     "duration": 0.027067,
     "end_time": "2025-08-19T18:51:07.485797",
     "exception": false,
     "start_time": "2025-08-19T18:51:07.458730",
     "status": "completed"
    },
    "tags": []
   },
   "outputs": [],
   "source": [
    "example_universe = universe.copy()\n",
    "universe_training_year = example_universe.get(\"training_year\")\n",
    "universe_training_size = example_universe.get(\"training_size\")\n",
    "universe_scale = example_universe.get(\"scale\")\n",
    "universe_model = example_universe.get(\"model\")\n",
    "universe_exclude_features = example_universe.get(\"exclude_features\")\n",
    "universe_exclude_subgroups = example_universe.get(\"exclude_subgroups\")"
   ]
  },
  {
   "cell_type": "code",
   "execution_count": 48,
   "id": "dbb53cb4",
   "metadata": {
    "execution": {
     "iopub.execute_input": "2025-08-19T18:51:07.520367Z",
     "iopub.status.busy": "2025-08-19T18:51:07.519340Z",
     "iopub.status.idle": "2025-08-19T18:51:07.530472Z",
     "shell.execute_reply": "2025-08-19T18:51:07.528888Z"
    },
    "papermill": {
     "duration": 0.029456,
     "end_time": "2025-08-19T18:51:07.533830",
     "exception": false,
     "start_time": "2025-08-19T18:51:07.504374",
     "status": "completed"
    },
    "tags": []
   },
   "outputs": [],
   "source": [
    "cp_metrics_dict = {\n",
    "    \"universe_id\": [universe_id],\n",
    "    \"universe_training_year\": [universe_training_year],\n",
    "    \"universe_training_size\": [universe_training_size],\n",
    "    \"universe_scale\": [universe_scale],\n",
    "    \"universe_model\": [universe_model],\n",
    "    \"universe_exclude_features\": [universe_exclude_features],\n",
    "    \"universe_exclude_subgroups\": [universe_exclude_subgroups],\n",
    "    \"q_hat\": [q_hat],\n",
    "    \"coverage\": [metrics[\"coverage\"]],\n",
    "    \"avg_size\": [metrics[\"avg_size\"]],\n",
    "}"
   ]
  },
  {
   "cell_type": "code",
   "execution_count": 49,
   "id": "0d70d4b2",
   "metadata": {
    "execution": {
     "iopub.execute_input": "2025-08-19T18:51:07.580803Z",
     "iopub.status.busy": "2025-08-19T18:51:07.575763Z",
     "iopub.status.idle": "2025-08-19T18:51:07.587033Z",
     "shell.execute_reply": "2025-08-19T18:51:07.586009Z"
    },
    "papermill": {
     "duration": 0.027846,
     "end_time": "2025-08-19T18:51:07.588305",
     "exception": false,
     "start_time": "2025-08-19T18:51:07.560459",
     "status": "completed"
    },
    "tags": []
   },
   "outputs": [],
   "source": [
    "cp_metrics_df = pd.DataFrame(cp_metrics_dict)"
   ]
  },
  {
   "cell_type": "code",
   "execution_count": 50,
   "id": "b494403c",
   "metadata": {
    "execution": {
     "iopub.execute_input": "2025-08-19T18:51:07.619014Z",
     "iopub.status.busy": "2025-08-19T18:51:07.618347Z",
     "iopub.status.idle": "2025-08-19T18:51:07.640028Z",
     "shell.execute_reply": "2025-08-19T18:51:07.639217Z"
    },
    "papermill": {
     "duration": 0.038638,
     "end_time": "2025-08-19T18:51:07.643037",
     "exception": false,
     "start_time": "2025-08-19T18:51:07.604399",
     "status": "completed"
    },
    "tags": []
   },
   "outputs": [
    {
     "data": {
      "text/html": [
       "<div>\n",
       "<style scoped>\n",
       "    .dataframe tbody tr th:only-of-type {\n",
       "        vertical-align: middle;\n",
       "    }\n",
       "\n",
       "    .dataframe tbody tr th {\n",
       "        vertical-align: top;\n",
       "    }\n",
       "\n",
       "    .dataframe thead th {\n",
       "        text-align: right;\n",
       "    }\n",
       "</style>\n",
       "<table border=\"1\" class=\"dataframe\">\n",
       "  <thead>\n",
       "    <tr style=\"text-align: right;\">\n",
       "      <th></th>\n",
       "      <th>universe_id</th>\n",
       "      <th>universe_training_year</th>\n",
       "      <th>universe_training_size</th>\n",
       "      <th>universe_scale</th>\n",
       "      <th>universe_model</th>\n",
       "      <th>universe_exclude_features</th>\n",
       "      <th>universe_exclude_subgroups</th>\n",
       "      <th>q_hat</th>\n",
       "      <th>coverage</th>\n",
       "      <th>avg_size</th>\n",
       "    </tr>\n",
       "  </thead>\n",
       "  <tbody>\n",
       "    <tr>\n",
       "      <th>0</th>\n",
       "      <td>c8fa7ca646639ee6d82fe188baabb9b7</td>\n",
       "      <td>2014</td>\n",
       "      <td>1k</td>\n",
       "      <td>scale</td>\n",
       "      <td>rf</td>\n",
       "      <td>age</td>\n",
       "      <td>keep-all</td>\n",
       "      <td>0.68</td>\n",
       "      <td>0.913142</td>\n",
       "      <td>1.147955</td>\n",
       "    </tr>\n",
       "  </tbody>\n",
       "</table>\n",
       "</div>"
      ],
      "text/plain": [
       "                        universe_id universe_training_year  \\\n",
       "0  c8fa7ca646639ee6d82fe188baabb9b7                   2014   \n",
       "\n",
       "  universe_training_size universe_scale universe_model  \\\n",
       "0                     1k          scale             rf   \n",
       "\n",
       "  universe_exclude_features universe_exclude_subgroups  q_hat  coverage  \\\n",
       "0                       age                   keep-all   0.68  0.913142   \n",
       "\n",
       "   avg_size  \n",
       "0  1.147955  "
      ]
     },
     "execution_count": 50,
     "metadata": {},
     "output_type": "execute_result"
    }
   ],
   "source": [
    "cp_metrics_df"
   ]
  },
  {
   "cell_type": "markdown",
   "id": "ed608b0b",
   "metadata": {
    "papermill": {
     "duration": 0.013788,
     "end_time": "2025-08-19T18:51:07.681735",
     "exception": false,
     "start_time": "2025-08-19T18:51:07.667947",
     "status": "completed"
    },
    "tags": []
   },
   "source": [
    "Conditional coverage & looking at subgroups"
   ]
  },
  {
   "cell_type": "code",
   "execution_count": 51,
   "id": "8968c366",
   "metadata": {
    "execution": {
     "iopub.execute_input": "2025-08-19T18:51:07.709645Z",
     "iopub.status.busy": "2025-08-19T18:51:07.708940Z",
     "iopub.status.idle": "2025-08-19T18:51:07.981490Z",
     "shell.execute_reply": "2025-08-19T18:51:07.980340Z"
    },
    "papermill": {
     "duration": 0.292142,
     "end_time": "2025-08-19T18:51:07.986380",
     "exception": false,
     "start_time": "2025-08-19T18:51:07.694238",
     "status": "completed"
    },
    "tags": []
   },
   "outputs": [],
   "source": [
    "from fairness_multiverse.conformal import build_cp_groups\n",
    "\n",
    "cp_groups_df = build_cp_groups(pred_sets, y_true, X_test.index, org_test)"
   ]
  },
  {
   "cell_type": "code",
   "execution_count": 52,
   "id": "292ddabf",
   "metadata": {
    "execution": {
     "iopub.execute_input": "2025-08-19T18:51:08.023145Z",
     "iopub.status.busy": "2025-08-19T18:51:08.022423Z",
     "iopub.status.idle": "2025-08-19T18:51:09.003012Z",
     "shell.execute_reply": "2025-08-19T18:51:09.001567Z"
    },
    "papermill": {
     "duration": 0.996873,
     "end_time": "2025-08-19T18:51:09.004889",
     "exception": false,
     "start_time": "2025-08-19T18:51:08.008016",
     "status": "completed"
    },
    "tags": []
   },
   "outputs": [],
   "source": [
    "# Define covered = 1 if true_label is in the predicted set\n",
    "cp_groups_df['covered'] = cp_groups_df.apply(\n",
    "    lambda r: int(r['true_label'] in r['pred_set']),\n",
    "    axis=1\n",
    ")"
   ]
  },
  {
   "cell_type": "code",
   "execution_count": 53,
   "id": "3a261692",
   "metadata": {
    "execution": {
     "iopub.execute_input": "2025-08-19T18:51:09.073835Z",
     "iopub.status.busy": "2025-08-19T18:51:09.073386Z",
     "iopub.status.idle": "2025-08-19T18:51:09.087645Z",
     "shell.execute_reply": "2025-08-19T18:51:09.086884Z"
    },
    "papermill": {
     "duration": 0.061129,
     "end_time": "2025-08-19T18:51:09.089196",
     "exception": false,
     "start_time": "2025-08-19T18:51:09.028067",
     "status": "completed"
    },
    "tags": []
   },
   "outputs": [],
   "source": [
    "subgroups = ['frau1','nongerman','nongerman_male','nongerman_female']\n",
    "\n",
    "# Conditional coverage for subgroup==1\n",
    "cond_coverage = {\n",
    "    g: cp_groups_df.loc[cp_groups_df[g]==1, 'covered'].mean()\n",
    "    for g in subgroups\n",
    "}"
   ]
  },
  {
   "cell_type": "code",
   "execution_count": 54,
   "id": "894fd600",
   "metadata": {
    "execution": {
     "iopub.execute_input": "2025-08-19T18:51:09.131393Z",
     "iopub.status.busy": "2025-08-19T18:51:09.131007Z",
     "iopub.status.idle": "2025-08-19T18:51:09.137350Z",
     "shell.execute_reply": "2025-08-19T18:51:09.136669Z"
    },
    "papermill": {
     "duration": 0.039553,
     "end_time": "2025-08-19T18:51:09.148849",
     "exception": false,
     "start_time": "2025-08-19T18:51:09.109296",
     "status": "completed"
    },
    "tags": []
   },
   "outputs": [
    {
     "data": {
      "text/plain": [
       "{'frau1': 0.907076425394258,\n",
       " 'nongerman': 0.9077078538146298,\n",
       " 'nongerman_male': 0.9259659551472575,\n",
       " 'nongerman_female': 0.8774962742175857}"
      ]
     },
     "execution_count": 54,
     "metadata": {},
     "output_type": "execute_result"
    }
   ],
   "source": [
    "cond_coverage"
   ]
  },
  {
   "cell_type": "code",
   "execution_count": 55,
   "id": "942895c7",
   "metadata": {
    "execution": {
     "iopub.execute_input": "2025-08-19T18:51:09.176375Z",
     "iopub.status.busy": "2025-08-19T18:51:09.175687Z",
     "iopub.status.idle": "2025-08-19T18:51:09.190975Z",
     "shell.execute_reply": "2025-08-19T18:51:09.190196Z"
    },
    "papermill": {
     "duration": 0.030566,
     "end_time": "2025-08-19T18:51:09.192498",
     "exception": false,
     "start_time": "2025-08-19T18:51:09.161932",
     "status": "completed"
    },
    "tags": []
   },
   "outputs": [],
   "source": [
    "for subgroup, cov in cond_coverage.items():\n",
    "    cp_metrics_df[f\"cov_{subgroup}\"] = cov"
   ]
  },
  {
   "cell_type": "code",
   "execution_count": 56,
   "id": "3970120f",
   "metadata": {
    "execution": {
     "iopub.execute_input": "2025-08-19T18:51:09.223447Z",
     "iopub.status.busy": "2025-08-19T18:51:09.223171Z",
     "iopub.status.idle": "2025-08-19T18:51:09.239633Z",
     "shell.execute_reply": "2025-08-19T18:51:09.239073Z"
    },
    "papermill": {
     "duration": 0.043249,
     "end_time": "2025-08-19T18:51:09.252878",
     "exception": false,
     "start_time": "2025-08-19T18:51:09.209629",
     "status": "completed"
    },
    "tags": []
   },
   "outputs": [
    {
     "data": {
      "text/html": [
       "<div>\n",
       "<style scoped>\n",
       "    .dataframe tbody tr th:only-of-type {\n",
       "        vertical-align: middle;\n",
       "    }\n",
       "\n",
       "    .dataframe tbody tr th {\n",
       "        vertical-align: top;\n",
       "    }\n",
       "\n",
       "    .dataframe thead th {\n",
       "        text-align: right;\n",
       "    }\n",
       "</style>\n",
       "<table border=\"1\" class=\"dataframe\">\n",
       "  <thead>\n",
       "    <tr style=\"text-align: right;\">\n",
       "      <th></th>\n",
       "      <th>universe_id</th>\n",
       "      <th>universe_training_year</th>\n",
       "      <th>universe_training_size</th>\n",
       "      <th>universe_scale</th>\n",
       "      <th>universe_model</th>\n",
       "      <th>universe_exclude_features</th>\n",
       "      <th>universe_exclude_subgroups</th>\n",
       "      <th>q_hat</th>\n",
       "      <th>coverage</th>\n",
       "      <th>avg_size</th>\n",
       "      <th>cov_frau1</th>\n",
       "      <th>cov_nongerman</th>\n",
       "      <th>cov_nongerman_male</th>\n",
       "      <th>cov_nongerman_female</th>\n",
       "    </tr>\n",
       "  </thead>\n",
       "  <tbody>\n",
       "    <tr>\n",
       "      <th>0</th>\n",
       "      <td>c8fa7ca646639ee6d82fe188baabb9b7</td>\n",
       "      <td>2014</td>\n",
       "      <td>1k</td>\n",
       "      <td>scale</td>\n",
       "      <td>rf</td>\n",
       "      <td>age</td>\n",
       "      <td>keep-all</td>\n",
       "      <td>0.68</td>\n",
       "      <td>0.913142</td>\n",
       "      <td>1.147955</td>\n",
       "      <td>0.907076</td>\n",
       "      <td>0.907708</td>\n",
       "      <td>0.925966</td>\n",
       "      <td>0.877496</td>\n",
       "    </tr>\n",
       "  </tbody>\n",
       "</table>\n",
       "</div>"
      ],
      "text/plain": [
       "                        universe_id universe_training_year  \\\n",
       "0  c8fa7ca646639ee6d82fe188baabb9b7                   2014   \n",
       "\n",
       "  universe_training_size universe_scale universe_model  \\\n",
       "0                     1k          scale             rf   \n",
       "\n",
       "  universe_exclude_features universe_exclude_subgroups  q_hat  coverage  \\\n",
       "0                       age                   keep-all   0.68  0.913142   \n",
       "\n",
       "   avg_size  cov_frau1  cov_nongerman  cov_nongerman_male  \\\n",
       "0  1.147955   0.907076       0.907708            0.925966   \n",
       "\n",
       "   cov_nongerman_female  \n",
       "0              0.877496  "
      ]
     },
     "execution_count": 56,
     "metadata": {},
     "output_type": "execute_result"
    }
   ],
   "source": [
    "cp_metrics_df"
   ]
  },
  {
   "cell_type": "markdown",
   "id": "3fc519cc",
   "metadata": {
    "papermill": {
     "duration": 0.012313,
     "end_time": "2025-08-19T18:51:09.278881",
     "exception": false,
     "start_time": "2025-08-19T18:51:09.266568",
     "status": "completed"
    },
    "tags": []
   },
   "source": [
    "# (Fairness) Metrics"
   ]
  },
  {
   "cell_type": "code",
   "execution_count": 57,
   "id": "a2e5e155",
   "metadata": {
    "execution": {
     "iopub.execute_input": "2025-08-19T18:51:09.305389Z",
     "iopub.status.busy": "2025-08-19T18:51:09.304937Z",
     "iopub.status.idle": "2025-08-19T18:51:09.329945Z",
     "shell.execute_reply": "2025-08-19T18:51:09.329130Z"
    },
    "papermill": {
     "duration": 0.04041,
     "end_time": "2025-08-19T18:51:09.331703",
     "exception": false,
     "start_time": "2025-08-19T18:51:09.291293",
     "status": "completed"
    },
    "tags": []
   },
   "outputs": [],
   "source": [
    "colname_to_bin = \"maxdeutsch1\"\n",
    "majority_value = org_train[colname_to_bin].mode()[0]\n",
    "\n",
    "org_test[\"majmin\"] = np.where(org_test[colname_to_bin] == majority_value, \"majority\", \"minority\")"
   ]
  },
  {
   "cell_type": "code",
   "execution_count": 58,
   "id": "17e3e4d5",
   "metadata": {
    "execution": {
     "iopub.execute_input": "2025-08-19T18:51:09.373545Z",
     "iopub.status.busy": "2025-08-19T18:51:09.372390Z",
     "iopub.status.idle": "2025-08-19T18:51:11.138967Z",
     "shell.execute_reply": "2025-08-19T18:51:11.137819Z"
    },
    "papermill": {
     "duration": 1.783967,
     "end_time": "2025-08-19T18:51:11.140703",
     "exception": false,
     "start_time": "2025-08-19T18:51:09.356736",
     "status": "completed"
    },
    "tags": []
   },
   "outputs": [],
   "source": [
    "example_universe = universe.copy()\n",
    "example_universe[\"cutoff\"] = example_universe[\"cutoff\"][0]\n",
    "example_universe[\"eval_fairness_grouping\"] = example_universe[\"eval_fairness_grouping\"][0]\n",
    "fairness_dict, metric_frame = universe_analysis.compute_metrics(\n",
    "    example_universe,\n",
    "    y_pred_prob=probs_test,\n",
    "    y_test=y_true,\n",
    "    org_test=org_test,\n",
    ")"
   ]
  },
  {
   "cell_type": "markdown",
   "id": "1fb7a0e9",
   "metadata": {
    "papermill": {
     "duration": 0.025034,
     "end_time": "2025-08-19T18:51:11.193680",
     "exception": false,
     "start_time": "2025-08-19T18:51:11.168646",
     "status": "completed"
    },
    "tags": []
   },
   "source": [
    "# Overall"
   ]
  },
  {
   "cell_type": "markdown",
   "id": "be1784b1",
   "metadata": {
    "papermill": {
     "duration": 0.012623,
     "end_time": "2025-08-19T18:51:11.220188",
     "exception": false,
     "start_time": "2025-08-19T18:51:11.207565",
     "status": "completed"
    },
    "tags": []
   },
   "source": [
    "Main fairness target: Equalized Odds. Seems to be a better fit than equal opportunity, since we're not only interested in Y = 1. Seems to be a better fit than demographic parity, since we also care about accuracy, not just equal distribution of preds.\n",
    "\n",
    "Pick column for computation of fairness metrics\n",
    "\n",
    "Performance\n",
    "Overall performance measures, most interesting in relation to the measures split by group below"
   ]
  },
  {
   "cell_type": "code",
   "execution_count": 59,
   "id": "b7672bee",
   "metadata": {
    "execution": {
     "iopub.execute_input": "2025-08-19T18:51:11.246986Z",
     "iopub.status.busy": "2025-08-19T18:51:11.246621Z",
     "iopub.status.idle": "2025-08-19T18:51:11.256490Z",
     "shell.execute_reply": "2025-08-19T18:51:11.255592Z"
    },
    "papermill": {
     "duration": 0.025214,
     "end_time": "2025-08-19T18:51:11.257901",
     "exception": false,
     "start_time": "2025-08-19T18:51:11.232687",
     "status": "completed"
    },
    "tags": []
   },
   "outputs": [
    {
     "data": {
      "text/plain": [
       "accuracy                   0.214848\n",
       "balanced accuracy          0.532905\n",
       "f1                         0.238925\n",
       "precision                  0.136426\n",
       "false positive rate        0.894913\n",
       "false negative rate        0.039277\n",
       "selection rate             0.903355\n",
       "count                  89710.000000\n",
       "dtype: float64"
      ]
     },
     "execution_count": 59,
     "metadata": {},
     "output_type": "execute_result"
    }
   ],
   "source": [
    "metric_frame.overall"
   ]
  },
  {
   "cell_type": "markdown",
   "id": "d93333c9",
   "metadata": {
    "papermill": {
     "duration": 0.012414,
     "end_time": "2025-08-19T18:51:11.282962",
     "exception": false,
     "start_time": "2025-08-19T18:51:11.270548",
     "status": "completed"
    },
    "tags": []
   },
   "source": [
    "By Group"
   ]
  },
  {
   "cell_type": "code",
   "execution_count": 60,
   "id": "52256966",
   "metadata": {
    "execution": {
     "iopub.execute_input": "2025-08-19T18:51:11.308751Z",
     "iopub.status.busy": "2025-08-19T18:51:11.308464Z",
     "iopub.status.idle": "2025-08-19T18:51:11.323159Z",
     "shell.execute_reply": "2025-08-19T18:51:11.322049Z"
    },
    "papermill": {
     "duration": 0.032769,
     "end_time": "2025-08-19T18:51:11.328096",
     "exception": false,
     "start_time": "2025-08-19T18:51:11.295327",
     "status": "completed"
    },
    "tags": []
   },
   "outputs": [
    {
     "data": {
      "text/html": [
       "<div>\n",
       "<style scoped>\n",
       "    .dataframe tbody tr th:only-of-type {\n",
       "        vertical-align: middle;\n",
       "    }\n",
       "\n",
       "    .dataframe tbody tr th {\n",
       "        vertical-align: top;\n",
       "    }\n",
       "\n",
       "    .dataframe thead th {\n",
       "        text-align: right;\n",
       "    }\n",
       "</style>\n",
       "<table border=\"1\" class=\"dataframe\">\n",
       "  <thead>\n",
       "    <tr style=\"text-align: right;\">\n",
       "      <th></th>\n",
       "      <th>accuracy</th>\n",
       "      <th>balanced accuracy</th>\n",
       "      <th>f1</th>\n",
       "      <th>precision</th>\n",
       "      <th>false positive rate</th>\n",
       "      <th>false negative rate</th>\n",
       "      <th>selection rate</th>\n",
       "      <th>count</th>\n",
       "    </tr>\n",
       "    <tr>\n",
       "      <th>majmin</th>\n",
       "      <th></th>\n",
       "      <th></th>\n",
       "      <th></th>\n",
       "      <th></th>\n",
       "      <th></th>\n",
       "      <th></th>\n",
       "      <th></th>\n",
       "      <th></th>\n",
       "    </tr>\n",
       "  </thead>\n",
       "  <tbody>\n",
       "    <tr>\n",
       "      <th>majority</th>\n",
       "      <td>0.193928</td>\n",
       "      <td>0.530219</td>\n",
       "      <td>0.244540</td>\n",
       "      <td>0.139552</td>\n",
       "      <td>0.926870</td>\n",
       "      <td>0.012691</td>\n",
       "      <td>0.934856</td>\n",
       "      <td>69170.0</td>\n",
       "    </tr>\n",
       "    <tr>\n",
       "      <th>minority</th>\n",
       "      <td>0.285297</td>\n",
       "      <td>0.534381</td>\n",
       "      <td>0.216816</td>\n",
       "      <td>0.124084</td>\n",
       "      <td>0.789346</td>\n",
       "      <td>0.141892</td>\n",
       "      <td>0.797274</td>\n",
       "      <td>20540.0</td>\n",
       "    </tr>\n",
       "  </tbody>\n",
       "</table>\n",
       "</div>"
      ],
      "text/plain": [
       "          accuracy  balanced accuracy        f1  precision  \\\n",
       "majmin                                                       \n",
       "majority  0.193928           0.530219  0.244540   0.139552   \n",
       "minority  0.285297           0.534381  0.216816   0.124084   \n",
       "\n",
       "          false positive rate  false negative rate  selection rate    count  \n",
       "majmin                                                                       \n",
       "majority             0.926870             0.012691        0.934856  69170.0  \n",
       "minority             0.789346             0.141892        0.797274  20540.0  "
      ]
     },
     "execution_count": 60,
     "metadata": {},
     "output_type": "execute_result"
    }
   ],
   "source": [
    "metric_frame.by_group"
   ]
  },
  {
   "cell_type": "code",
   "execution_count": 61,
   "id": "6e6c20ae",
   "metadata": {
    "execution": {
     "iopub.execute_input": "2025-08-19T18:51:11.364406Z",
     "iopub.status.busy": "2025-08-19T18:51:11.363612Z",
     "iopub.status.idle": "2025-08-19T18:51:13.297105Z",
     "shell.execute_reply": "2025-08-19T18:51:13.296076Z"
    },
    "papermill": {
     "duration": 1.949626,
     "end_time": "2025-08-19T18:51:13.298888",
     "exception": false,
     "start_time": "2025-08-19T18:51:11.349262",
     "status": "completed"
    },
    "tags": []
   },
   "outputs": [
    {
     "data": {
      "text/plain": [
       "array([[<Axes: title={'center': 'accuracy'}, xlabel='majmin'>,\n",
       "        <Axes: title={'center': 'balanced accuracy'}, xlabel='majmin'>,\n",
       "        <Axes: title={'center': 'f1'}, xlabel='majmin'>],\n",
       "       [<Axes: title={'center': 'precision'}, xlabel='majmin'>,\n",
       "        <Axes: title={'center': 'false positive rate'}, xlabel='majmin'>,\n",
       "        <Axes: title={'center': 'false negative rate'}, xlabel='majmin'>],\n",
       "       [<Axes: title={'center': 'selection rate'}, xlabel='majmin'>,\n",
       "        <Axes: title={'center': 'count'}, xlabel='majmin'>,\n",
       "        <Axes: xlabel='majmin'>]], dtype=object)"
      ]
     },
     "execution_count": 61,
     "metadata": {},
     "output_type": "execute_result"
    },
    {
     "data": {
      "image/png": "[encoded data removed]",
      "text/plain": [
       "<Figure size 1200x800 with 9 Axes>"
      ]
     },
     "metadata": {},
     "output_type": "display_data"
    }
   ],
   "source": [
    "# In a graphic\n",
    "metric_frame.by_group.plot.bar(\n",
    "    subplots=True,\n",
    "    layout=[3, 3],\n",
    "    legend=False,\n",
    "    figsize=[12, 8],\n",
    "    title=\"Show all metrics\",\n",
    ")"
   ]
  },
  {
   "cell_type": "markdown",
   "id": "b2e433ae",
   "metadata": {
    "papermill": {
     "duration": 0.014011,
     "end_time": "2025-08-19T18:51:13.331310",
     "exception": false,
     "start_time": "2025-08-19T18:51:13.317299",
     "status": "completed"
    },
    "tags": []
   },
   "source": [
    "# Final Output"
   ]
  },
  {
   "cell_type": "code",
   "execution_count": 62,
   "id": "3871301e",
   "metadata": {
    "execution": {
     "iopub.execute_input": "2025-08-19T18:51:13.360752Z",
     "iopub.status.busy": "2025-08-19T18:51:13.359911Z",
     "iopub.status.idle": "2025-08-19T18:51:13.369451Z",
     "shell.execute_reply": "2025-08-19T18:51:13.368819Z"
    },
    "papermill": {
     "duration": 0.025562,
     "end_time": "2025-08-19T18:51:13.370601",
     "exception": false,
     "start_time": "2025-08-19T18:51:13.345039",
     "status": "completed"
    },
    "tags": []
   },
   "outputs": [
    {
     "data": {
      "text/plain": [
       "4"
      ]
     },
     "execution_count": 62,
     "metadata": {},
     "output_type": "execute_result"
    }
   ],
   "source": [
    "sub_universes = universe_analysis.generate_sub_universes()\n",
    "len(sub_universes)"
   ]
  },
  {
   "cell_type": "code",
   "execution_count": 63,
   "id": "d9cfdaca",
   "metadata": {
    "execution": {
     "iopub.execute_input": "2025-08-19T18:51:13.416227Z",
     "iopub.status.busy": "2025-08-19T18:51:13.415940Z",
     "iopub.status.idle": "2025-08-19T18:51:13.428922Z",
     "shell.execute_reply": "2025-08-19T18:51:13.428269Z"
    },
    "papermill": {
     "duration": 0.043237,
     "end_time": "2025-08-19T18:51:13.430570",
     "exception": false,
     "start_time": "2025-08-19T18:51:13.387333",
     "status": "completed"
    },
    "tags": []
   },
   "outputs": [],
   "source": [
    "def filter_sub_universe_data(sub_universe, org_test):\n",
    "    # Keep all rows — no filtering\n",
    "    keep_rows_mask = np.ones(org_test.shape[0], dtype=bool)\n",
    "\n",
    "    print(f\"[INFO] Keeping all rows: {keep_rows_mask.sum()} rows retained.\")\n",
    "    return keep_rows_mask"
   ]
  },
  {
   "cell_type": "code",
   "execution_count": 64,
   "id": "2bc31ac1",
   "metadata": {
    "execution": {
     "iopub.execute_input": "2025-08-19T18:51:13.472943Z",
     "iopub.status.busy": "2025-08-19T18:51:13.472570Z",
     "iopub.status.idle": "2025-08-19T18:51:20.289242Z",
     "shell.execute_reply": "2025-08-19T18:51:20.287767Z"
    },
    "papermill": {
     "duration": 6.844893,
     "end_time": "2025-08-19T18:51:20.290776",
     "exception": false,
     "start_time": "2025-08-19T18:51:13.445883",
     "status": "completed"
    },
    "tags": []
   },
   "outputs": [
    {
     "name": "stdout",
     "output_type": "stream",
     "text": [
      "Stopping execution_time clock.\n",
      "[INFO] Keeping all rows: 89710 rows retained.\n"
     ]
    },
    {
     "name": "stdout",
     "output_type": "stream",
     "text": [
      "[INFO] Keeping all rows: 89710 rows retained.\n"
     ]
    },
    {
     "name": "stdout",
     "output_type": "stream",
     "text": [
      "[INFO] Keeping all rows: 89710 rows retained.\n"
     ]
    },
    {
     "name": "stdout",
     "output_type": "stream",
     "text": [
      "[INFO] Keeping all rows: 89710 rows retained.\n"
     ]
    },
    {
     "data": {
      "text/html": [
       "<div>\n",
       "<style scoped>\n",
       "    .dataframe tbody tr th:only-of-type {\n",
       "        vertical-align: middle;\n",
       "    }\n",
       "\n",
       "    .dataframe tbody tr th {\n",
       "        vertical-align: top;\n",
       "    }\n",
       "\n",
       "    .dataframe thead th {\n",
       "        text-align: right;\n",
       "    }\n",
       "</style>\n",
       "<table border=\"1\" class=\"dataframe\">\n",
       "  <thead>\n",
       "    <tr style=\"text-align: right;\">\n",
       "      <th></th>\n",
       "      <th>run_no</th>\n",
       "      <th>universe_id</th>\n",
       "      <th>universe_settings</th>\n",
       "      <th>execution_time</th>\n",
       "      <th>test_size_n</th>\n",
       "      <th>test_size_frac</th>\n",
       "      <th>fair_main_equalized_odds_difference</th>\n",
       "      <th>fair_main_equalized_odds_ratio</th>\n",
       "      <th>fair_main_demographic_parity_difference</th>\n",
       "      <th>fair_main_demographic_parity_ratio</th>\n",
       "      <th>...</th>\n",
       "      <th>perf_grp_precision_0</th>\n",
       "      <th>perf_grp_precision_1</th>\n",
       "      <th>perf_grp_false positive rate_0</th>\n",
       "      <th>perf_grp_false positive rate_1</th>\n",
       "      <th>perf_grp_false negative rate_0</th>\n",
       "      <th>perf_grp_false negative rate_1</th>\n",
       "      <th>perf_grp_selection rate_0</th>\n",
       "      <th>perf_grp_selection rate_1</th>\n",
       "      <th>perf_grp_count_0</th>\n",
       "      <th>perf_grp_count_1</th>\n",
       "    </tr>\n",
       "  </thead>\n",
       "  <tbody>\n",
       "    <tr>\n",
       "      <th>0</th>\n",
       "      <td>3</td>\n",
       "      <td>c8fa7ca646639ee6d82fe188baabb9b7</td>\n",
       "      <td>{\"cutoff\": \"quantile_0.1\", \"eval_fairness_grou...</td>\n",
       "      <td>25.890731</td>\n",
       "      <td>89710</td>\n",
       "      <td>1.0</td>\n",
       "      <td>0.137524</td>\n",
       "      <td>0.851626</td>\n",
       "      <td>0.137583</td>\n",
       "      <td>0.852830</td>\n",
       "      <td>...</td>\n",
       "      <td>NaN</td>\n",
       "      <td>NaN</td>\n",
       "      <td>NaN</td>\n",
       "      <td>NaN</td>\n",
       "      <td>NaN</td>\n",
       "      <td>NaN</td>\n",
       "      <td>NaN</td>\n",
       "      <td>NaN</td>\n",
       "      <td>NaN</td>\n",
       "      <td>NaN</td>\n",
       "    </tr>\n",
       "    <tr>\n",
       "      <th>0</th>\n",
       "      <td>3</td>\n",
       "      <td>c8fa7ca646639ee6d82fe188baabb9b7</td>\n",
       "      <td>{\"cutoff\": \"quantile_0.1\", \"eval_fairness_grou...</td>\n",
       "      <td>25.890731</td>\n",
       "      <td>89710</td>\n",
       "      <td>1.0</td>\n",
       "      <td>0.137524</td>\n",
       "      <td>0.851626</td>\n",
       "      <td>0.137583</td>\n",
       "      <td>0.852830</td>\n",
       "      <td>...</td>\n",
       "      <td>0.124084</td>\n",
       "      <td>0.139552</td>\n",
       "      <td>0.789346</td>\n",
       "      <td>0.926870</td>\n",
       "      <td>0.141892</td>\n",
       "      <td>0.012691</td>\n",
       "      <td>0.797274</td>\n",
       "      <td>0.934856</td>\n",
       "      <td>20540.0</td>\n",
       "      <td>69170.0</td>\n",
       "    </tr>\n",
       "    <tr>\n",
       "      <th>0</th>\n",
       "      <td>3</td>\n",
       "      <td>c8fa7ca646639ee6d82fe188baabb9b7</td>\n",
       "      <td>{\"cutoff\": \"quantile_0.25\", \"eval_fairness_gro...</td>\n",
       "      <td>25.890731</td>\n",
       "      <td>89710</td>\n",
       "      <td>1.0</td>\n",
       "      <td>0.141329</td>\n",
       "      <td>0.849708</td>\n",
       "      <td>0.125403</td>\n",
       "      <td>0.847332</td>\n",
       "      <td>...</td>\n",
       "      <td>NaN</td>\n",
       "      <td>NaN</td>\n",
       "      <td>NaN</td>\n",
       "      <td>NaN</td>\n",
       "      <td>NaN</td>\n",
       "      <td>NaN</td>\n",
       "      <td>NaN</td>\n",
       "      <td>NaN</td>\n",
       "      <td>NaN</td>\n",
       "      <td>NaN</td>\n",
       "    </tr>\n",
       "    <tr>\n",
       "      <th>0</th>\n",
       "      <td>3</td>\n",
       "      <td>c8fa7ca646639ee6d82fe188baabb9b7</td>\n",
       "      <td>{\"cutoff\": \"quantile_0.25\", \"eval_fairness_gro...</td>\n",
       "      <td>25.890731</td>\n",
       "      <td>89710</td>\n",
       "      <td>1.0</td>\n",
       "      <td>0.141329</td>\n",
       "      <td>0.849708</td>\n",
       "      <td>0.125403</td>\n",
       "      <td>0.847332</td>\n",
       "      <td>...</td>\n",
       "      <td>0.134583</td>\n",
       "      <td>0.153440</td>\n",
       "      <td>0.680828</td>\n",
       "      <td>0.801249</td>\n",
       "      <td>0.187500</td>\n",
       "      <td>0.046171</td>\n",
       "      <td>0.696008</td>\n",
       "      <td>0.821411</td>\n",
       "      <td>20540.0</td>\n",
       "      <td>69170.0</td>\n",
       "    </tr>\n",
       "  </tbody>\n",
       "</table>\n",
       "<p>4 rows × 50 columns</p>\n",
       "</div>"
      ],
      "text/plain": [
       "  run_no                       universe_id  \\\n",
       "0      3  c8fa7ca646639ee6d82fe188baabb9b7   \n",
       "0      3  c8fa7ca646639ee6d82fe188baabb9b7   \n",
       "0      3  c8fa7ca646639ee6d82fe188baabb9b7   \n",
       "0      3  c8fa7ca646639ee6d82fe188baabb9b7   \n",
       "\n",
       "                                   universe_settings  execution_time  \\\n",
       "0  {\"cutoff\": \"quantile_0.1\", \"eval_fairness_grou...       25.890731   \n",
       "0  {\"cutoff\": \"quantile_0.1\", \"eval_fairness_grou...       25.890731   \n",
       "0  {\"cutoff\": \"quantile_0.25\", \"eval_fairness_gro...       25.890731   \n",
       "0  {\"cutoff\": \"quantile_0.25\", \"eval_fairness_gro...       25.890731   \n",
       "\n",
       "   test_size_n  test_size_frac  fair_main_equalized_odds_difference  \\\n",
       "0        89710             1.0                             0.137524   \n",
       "0        89710             1.0                             0.137524   \n",
       "0        89710             1.0                             0.141329   \n",
       "0        89710             1.0                             0.141329   \n",
       "\n",
       "   fair_main_equalized_odds_ratio  fair_main_demographic_parity_difference  \\\n",
       "0                        0.851626                                 0.137583   \n",
       "0                        0.851626                                 0.137583   \n",
       "0                        0.849708                                 0.125403   \n",
       "0                        0.849708                                 0.125403   \n",
       "\n",
       "   fair_main_demographic_parity_ratio  ...  perf_grp_precision_0  \\\n",
       "0                            0.852830  ...                   NaN   \n",
       "0                            0.852830  ...              0.124084   \n",
       "0                            0.847332  ...                   NaN   \n",
       "0                            0.847332  ...              0.134583   \n",
       "\n",
       "   perf_grp_precision_1  perf_grp_false positive rate_0  \\\n",
       "0                   NaN                             NaN   \n",
       "0              0.139552                        0.789346   \n",
       "0                   NaN                             NaN   \n",
       "0              0.153440                        0.680828   \n",
       "\n",
       "   perf_grp_false positive rate_1  perf_grp_false negative rate_0  \\\n",
       "0                             NaN                             NaN   \n",
       "0                        0.926870                        0.141892   \n",
       "0                             NaN                             NaN   \n",
       "0                        0.801249                        0.187500   \n",
       "\n",
       "   perf_grp_false negative rate_1  perf_grp_selection rate_0  \\\n",
       "0                             NaN                        NaN   \n",
       "0                        0.012691                   0.797274   \n",
       "0                             NaN                        NaN   \n",
       "0                        0.046171                   0.696008   \n",
       "\n",
       "   perf_grp_selection rate_1  perf_grp_count_0  perf_grp_count_1  \n",
       "0                        NaN               NaN               NaN  \n",
       "0                   0.934856           20540.0           69170.0  \n",
       "0                        NaN               NaN               NaN  \n",
       "0                   0.821411           20540.0           69170.0  \n",
       "\n",
       "[4 rows x 50 columns]"
      ]
     },
     "execution_count": 64,
     "metadata": {},
     "output_type": "execute_result"
    }
   ],
   "source": [
    "final_output = universe_analysis.generate_final_output(\n",
    "    y_pred_prob=probs_test,\n",
    "    y_test=y_true,\n",
    "    org_test=org_test,\n",
    "    filter_data=filter_sub_universe_data,\n",
    "    cp_metrics_df=cp_metrics_df,\n",
    "    save=True,\n",
    ")\n",
    "final_output"
   ]
  },
  {
   "cell_type": "code",
   "execution_count": null,
   "id": "8b80a1ff",
   "metadata": {
    "papermill": {
     "duration": 0.032204,
     "end_time": "2025-08-19T18:51:20.356912",
     "exception": false,
     "start_time": "2025-08-19T18:51:20.324708",
     "status": "completed"
    },
    "tags": []
   },
   "outputs": [],
   "source": []
  },
  {
   "cell_type": "code",
   "execution_count": null,
   "id": "275c9fad",
   "metadata": {
    "papermill": {
     "duration": 0.014218,
     "end_time": "2025-08-19T18:51:20.391743",
     "exception": false,
     "start_time": "2025-08-19T18:51:20.377525",
     "status": "completed"
    },
    "tags": []
   },
   "outputs": [],
   "source": []
  }
 ],
 "metadata": {
  "celltoolbar": "Tags",
  "kernelspec": {
   "display_name": "Python (CMA Fairness)",
   "language": "python",
   "name": "cma_fair_env"
  },
  "language_info": {
   "codemirror_mode": {
    "name": "ipython",
    "version": 3
   },
   "file_extension": ".py",
   "mimetype": "text/x-python",
   "name": "python",
   "nbconvert_exporter": "python",
   "pygments_lexer": "ipython3",
   "version": "3.10.12"
  },
  "papermill": {
   "default_parameters": {},
   "duration": 36.639059,
   "end_time": "2025-08-19T18:51:21.255573",
   "environment_variables": {},
   "exception": null,
   "input_path": "universe_analysis.ipynb",
   "output_path": "output/runs/3/notebooks/m_3-c8fa7ca646639ee6d82fe188baabb9b7.ipynb",
   "parameters": {
    "output_dir": "output",
    "run_no": "3",
    "seed": "2023",
    "universe": "{\"cutoff\": [\"quantile_0.1\", \"quantile_0.25\"], \"eval_fairness_grouping\": [\"majority-minority\", \"nationality-all\"], \"exclude_features\": \"age\", \"exclude_subgroups\": \"keep-all\", \"model\": \"rf\", \"scale\": \"scale\", \"training_size\": \"1k\", \"training_year\": \"2014\"}",
    "universe_id": "c8fa7ca646639ee6d82fe188baabb9b7"
   },
   "start_time": "2025-08-19T18:50:44.616514",
   "version": "2.6.0"
  }
 },
 "nbformat": 4,
 "nbformat_minor": 5
}