{
 "cells": [
  {
   "cell_type": "markdown",
   "id": "ef23dbb3",
   "metadata": {
    "papermill": {
     "duration": 0.009096,
     "end_time": "2025-08-19T18:49:46.218846",
     "exception": false,
     "start_time": "2025-08-19T18:49:46.209750",
     "status": "completed"
    },
    "tags": []
   },
   "source": [
    "# Setup"
   ]
  },
  {
   "cell_type": "code",
   "execution_count": 1,
   "id": "0bc8e7dc",
   "metadata": {
    "execution": {
     "iopub.execute_input": "2025-08-19T18:49:46.239474Z",
     "iopub.status.busy": "2025-08-19T18:49:46.238467Z",
     "iopub.status.idle": "2025-08-19T18:49:46.258922Z",
     "shell.execute_reply": "2025-08-19T18:49:46.257700Z"
    },
    "papermill": {
     "duration": 0.032961,
     "end_time": "2025-08-19T18:49:46.260764",
     "exception": false,
     "start_time": "2025-08-19T18:49:46.227803",
     "status": "completed"
    },
    "tags": []
   },
   "outputs": [
    {
     "name": "stdout",
     "output_type": "stream",
     "text": [
      "/dss/dsshome1/0C/ra93lal2/cma/CMA_Fairness_v2\n"
     ]
    },
    {
     "name": "stderr",
     "output_type": "stream",
     "text": [
      "/dss/dsshome1/0C/ra93lal2/.local/share/virtualenvs/CMA_Fairness_v2-3j10GkSs/lib/python3.10/site-packages/IPython/core/magics/osm.py:393: UserWarning: This is now an optional IPython functionality, using bookmarks requires you to install the `pickleshare` library.\n",
      "  bkms = self.shell.db.get('bookmarks', {})\n",
      "/dss/dsshome1/0C/ra93lal2/.local/share/virtualenvs/CMA_Fairness_v2-3j10GkSs/lib/python3.10/site-packages/IPython/core/magics/osm.py:417: UserWarning: This is now an optional IPython functionality, setting dhist requires you to install the `pickleshare` library.\n",
      "  self.shell.db['dhist'] = compress_dhist(dhist)[-100:]\n"
     ]
    }
   ],
   "source": [
    "%cd ~/cma/CMA_Fairness_v2"
   ]
  },
  {
   "cell_type": "markdown",
   "id": "9d235661",
   "metadata": {
    "papermill": {
     "duration": 0.008886,
     "end_time": "2025-08-19T18:49:46.282492",
     "exception": false,
     "start_time": "2025-08-19T18:49:46.273606",
     "status": "completed"
    },
    "tags": []
   },
   "source": [
    "The following cell holds the definition of our parameters, these values can be overriden by rendering the with e.g. the following command:\n",
    "\n",
    "papermill -p alpha 0.2 -p ratio 0.3 universe_analysis.ipynb output/test_run.ipynb"
   ]
  },
  {
   "cell_type": "code",
   "execution_count": 2,
   "id": "4a789d8e",
   "metadata": {
    "execution": {
     "iopub.execute_input": "2025-08-19T18:49:46.302706Z",
     "iopub.status.busy": "2025-08-19T18:49:46.301690Z",
     "iopub.status.idle": "2025-08-19T18:49:46.310833Z",
     "shell.execute_reply": "2025-08-19T18:49:46.309073Z"
    },
    "papermill": {
     "duration": 0.021591,
     "end_time": "2025-08-19T18:49:46.312822",
     "exception": false,
     "start_time": "2025-08-19T18:49:46.291231",
     "status": "completed"
    },
    "tags": []
   },
   "outputs": [
    {
     "name": "stdout",
     "output_type": "stream",
     "text": [
      "Current working directory: /dss/dsshome1/0C/ra93lal2/cma/CMA_Fairness_v2\n"
     ]
    }
   ],
   "source": [
    "import os\n",
    "print(\"Current working directory:\", os.getcwd())"
   ]
  },
  {
   "cell_type": "code",
   "execution_count": 3,
   "id": "4132aaed",
   "metadata": {
    "execution": {
     "iopub.execute_input": "2025-08-19T18:49:46.337141Z",
     "iopub.status.busy": "2025-08-19T18:49:46.335681Z",
     "iopub.status.idle": "2025-08-19T18:49:46.345571Z",
     "shell.execute_reply": "2025-08-19T18:49:46.344033Z"
    },
    "papermill": {
     "duration": 0.022311,
     "end_time": "2025-08-19T18:49:46.347500",
     "exception": false,
     "start_time": "2025-08-19T18:49:46.325189",
     "status": "completed"
    },
    "tags": [
     "parameters"
    ]
   },
   "outputs": [],
   "source": [
    "run_no = 0\n",
    "universe_id = \"test\"\n",
    "universe = {\n",
    "    \"training_size\": \"5k\", # \"25k\", \"5k\", \"1k\"\n",
    "    \"training_year\": \"2012_14\", # \"2014\", \"2012_14\", \"2010_14\"\n",
    "    \"scale\": \"scale\", # \"scale\", \"do-not-scale\",\n",
    "    \"model\": \"elasticnet\", # \"logreg\", \"penalized_logreg\", \"rf\", \"gbm\", \"elasticnet\"\n",
    "    \"cutoff\": [\"quantile_0.15\", \"quantile_0.30\"],\n",
    "    \"exclude_features\": \"age\", # \"none\", \"nationality\", \"sex\", \"nationality-sex\", \"age\"\n",
    "    \"exclude_subgroups\": \"drop-non-german\", # \"keep-all\", \"drop-non-german\"\n",
    "    \"eval_fairness_grouping\": [\"majority-minority\", \"nationality-all\"]\n",
    "}\n",
    "\n",
    "output_dir=\"./output\"\n",
    "seed=0"
   ]
  },
  {
   "cell_type": "code",
   "execution_count": 4,
   "id": "faa6a4e3",
   "metadata": {
    "execution": {
     "iopub.execute_input": "2025-08-19T18:49:46.368932Z",
     "iopub.status.busy": "2025-08-19T18:49:46.368673Z",
     "iopub.status.idle": "2025-08-19T18:49:46.385083Z",
     "shell.execute_reply": "2025-08-19T18:49:46.373682Z"
    },
    "papermill": {
     "duration": 0.027939,
     "end_time": "2025-08-19T18:49:46.386541",
     "exception": false,
     "start_time": "2025-08-19T18:49:46.358602",
     "status": "completed"
    },
    "tags": [
     "injected-parameters"
    ]
   },
   "outputs": [],
   "source": [
    "# Parameters\n",
    "universe_id = \"e1e7bd20b1896a0d9ac6a0e6a3c5d600\"\n",
    "run_no = \"3\"\n",
    "universe = \"{\\\"cutoff\\\": [\\\"quantile_0.1\\\", \\\"quantile_0.25\\\"], \\\"eval_fairness_grouping\\\": [\\\"majority-minority\\\", \\\"nationality-all\\\"], \\\"exclude_features\\\": \\\"nationality-sex\\\", \\\"exclude_subgroups\\\": \\\"keep-all\\\", \\\"model\\\": \\\"penalized_logreg\\\", \\\"scale\\\": \\\"scale\\\", \\\"training_size\\\": \\\"1k\\\", \\\"training_year\\\": \\\"2014\\\"}\"\n",
    "output_dir = \"output\"\n",
    "seed = \"2023\"\n"
   ]
  },
  {
   "cell_type": "code",
   "execution_count": 5,
   "id": "a5d7941f",
   "metadata": {
    "execution": {
     "iopub.execute_input": "2025-08-19T18:49:46.414202Z",
     "iopub.status.busy": "2025-08-19T18:49:46.413646Z",
     "iopub.status.idle": "2025-08-19T18:49:46.417907Z",
     "shell.execute_reply": "2025-08-19T18:49:46.417094Z"
    },
    "papermill": {
     "duration": 0.018339,
     "end_time": "2025-08-19T18:49:46.421072",
     "exception": false,
     "start_time": "2025-08-19T18:49:46.402733",
     "status": "completed"
    },
    "tags": []
   },
   "outputs": [],
   "source": [
    "import json\n",
    "if isinstance(universe, str):\n",
    "    universe = json.loads(universe)"
   ]
  },
  {
   "cell_type": "code",
   "execution_count": 6,
   "id": "7076ccb1",
   "metadata": {
    "execution": {
     "iopub.execute_input": "2025-08-19T18:49:46.442142Z",
     "iopub.status.busy": "2025-08-19T18:49:46.441636Z",
     "iopub.status.idle": "2025-08-19T18:49:46.495947Z",
     "shell.execute_reply": "2025-08-19T18:49:46.494844Z"
    },
    "papermill": {
     "duration": 0.066379,
     "end_time": "2025-08-19T18:49:46.497912",
     "exception": false,
     "start_time": "2025-08-19T18:49:46.431533",
     "status": "completed"
    },
    "tags": []
   },
   "outputs": [],
   "source": [
    "# Auto-reload the custom package\n",
    "%load_ext autoreload\n",
    "%autoreload 1\n",
    "%aimport fairness_multiverse"
   ]
  },
  {
   "cell_type": "code",
   "execution_count": 7,
   "id": "94c8eb93",
   "metadata": {
    "execution": {
     "iopub.execute_input": "2025-08-19T18:49:46.522003Z",
     "iopub.status.busy": "2025-08-19T18:49:46.521029Z",
     "iopub.status.idle": "2025-08-19T18:49:48.074690Z",
     "shell.execute_reply": "2025-08-19T18:49:48.073890Z"
    },
    "papermill": {
     "duration": 1.567782,
     "end_time": "2025-08-19T18:49:48.077692",
     "exception": false,
     "start_time": "2025-08-19T18:49:46.509910",
     "status": "completed"
    },
    "tags": []
   },
   "outputs": [],
   "source": [
    "from fairness_multiverse.universe import UniverseAnalysis\n",
    "\n",
    "universe_analysis = UniverseAnalysis(\n",
    "    run_no = run_no,\n",
    "    universe_id = universe_id,\n",
    "    universe = universe,\n",
    "    output_dir=output_dir,\n",
    ")"
   ]
  },
  {
   "cell_type": "code",
   "execution_count": 8,
   "id": "2a6381cf",
   "metadata": {
    "execution": {
     "iopub.execute_input": "2025-08-19T18:49:48.125099Z",
     "iopub.status.busy": "2025-08-19T18:49:48.124689Z",
     "iopub.status.idle": "2025-08-19T18:49:48.129661Z",
     "shell.execute_reply": "2025-08-19T18:49:48.128994Z"
    },
    "papermill": {
     "duration": 0.03139,
     "end_time": "2025-08-19T18:49:48.131258",
     "exception": false,
     "start_time": "2025-08-19T18:49:48.099868",
     "status": "completed"
    },
    "tags": []
   },
   "outputs": [
    {
     "name": "stdout",
     "output_type": "stream",
     "text": [
      "Using Seed: 2023\n"
     ]
    }
   ],
   "source": [
    "import numpy as np\n",
    "parsed_seed = int(seed)\n",
    "np.random.seed(parsed_seed)\n",
    "print(f\"Using Seed: {parsed_seed}\")"
   ]
  },
  {
   "cell_type": "markdown",
   "id": "b6e958b4",
   "metadata": {
    "papermill": {
     "duration": 0.010425,
     "end_time": "2025-08-19T18:49:48.156404",
     "exception": false,
     "start_time": "2025-08-19T18:49:48.145979",
     "status": "completed"
    },
    "tags": []
   },
   "source": [
    "# Loading Data"
   ]
  },
  {
   "cell_type": "code",
   "execution_count": 9,
   "id": "98701482",
   "metadata": {
    "execution": {
     "iopub.execute_input": "2025-08-19T18:49:48.195596Z",
     "iopub.status.busy": "2025-08-19T18:49:48.194997Z",
     "iopub.status.idle": "2025-08-19T18:49:58.409170Z",
     "shell.execute_reply": "2025-08-19T18:49:58.408182Z"
    },
    "papermill": {
     "duration": 10.230263,
     "end_time": "2025-08-19T18:49:58.410389",
     "exception": false,
     "start_time": "2025-08-19T18:49:48.180126",
     "status": "completed"
    },
    "tags": []
   },
   "outputs": [
    {
     "name": "stdout",
     "output_type": "stream",
     "text": [
      "Loading SIAB data from cache: data/siab_cached.csv.gz\n"
     ]
    },
    {
     "name": "stdout",
     "output_type": "stream",
     "text": [
      "(643690, 164)\n"
     ]
    }
   ],
   "source": [
    "from pathlib import Path\n",
    "import pandas as pd\n",
    "\n",
    "# File paths\n",
    "raw_file = Path(\"data/raw/siab.csv\")\n",
    "cache_file = Path(\"data/siab_cached.csv.gz\")\n",
    "\n",
    "# Ensure cache directory exists\n",
    "cache_file.parent.mkdir(parents=True, exist_ok=True)\n",
    "\n",
    "# Load with simple caching\n",
    "if cache_file.exists():\n",
    "    print(f\"Loading SIAB data from cache: {cache_file}\")\n",
    "    siab = pd.read_csv(cache_file, compression='gzip')\n",
    "else:\n",
    "    print(f\"Cache not found. Reading raw SIAB data: {raw_file}\")\n",
    "    siab = pd.read_csv(raw_file)\n",
    "    siab.to_csv(cache_file, index=False, compression='gzip')\n",
    "    print(f\"Cached SIAB data to: {cache_file}\")\n",
    "\n",
    "print(siab.shape)"
   ]
  },
  {
   "cell_type": "code",
   "execution_count": 10,
   "id": "058d2abb",
   "metadata": {
    "execution": {
     "iopub.execute_input": "2025-08-19T18:49:58.434090Z",
     "iopub.status.busy": "2025-08-19T18:49:58.433591Z",
     "iopub.status.idle": "2025-08-19T18:49:58.599997Z",
     "shell.execute_reply": "2025-08-19T18:49:58.598889Z"
    },
    "papermill": {
     "duration": 0.182742,
     "end_time": "2025-08-19T18:49:58.605220",
     "exception": false,
     "start_time": "2025-08-19T18:49:58.422478",
     "status": "completed"
    },
    "tags": []
   },
   "outputs": [
    {
     "data": {
      "text/html": [
       "<div>\n",
       "<style scoped>\n",
       "    .dataframe tbody tr th:only-of-type {\n",
       "        vertical-align: middle;\n",
       "    }\n",
       "\n",
       "    .dataframe tbody tr th {\n",
       "        vertical-align: top;\n",
       "    }\n",
       "\n",
       "    .dataframe thead th {\n",
       "        text-align: right;\n",
       "    }\n",
       "</style>\n",
       "<table border=\"1\" class=\"dataframe\">\n",
       "  <thead>\n",
       "    <tr style=\"text-align: right;\">\n",
       "      <th></th>\n",
       "      <th>persnr</th>\n",
       "      <th>year</th>\n",
       "      <th>nrEntry</th>\n",
       "      <th>ltue</th>\n",
       "      <th>employed_before</th>\n",
       "      <th>receipt_leh_before</th>\n",
       "      <th>receipt_lhg_before</th>\n",
       "      <th>se_before</th>\n",
       "      <th>ASU_notue_seeking_before</th>\n",
       "      <th>ASU_other_before</th>\n",
       "      <th>...</th>\n",
       "      <th>minijob_tot_dur_byage</th>\n",
       "      <th>ft_tot_dur_byage</th>\n",
       "      <th>befrist_tot_dur_byage</th>\n",
       "      <th>leih_tot_dur_byage</th>\n",
       "      <th>LHG_tot_dur_byage</th>\n",
       "      <th>LEH_tot_dur_byage</th>\n",
       "      <th>almp_tot_dur_byage</th>\n",
       "      <th>almp_aw_tot_dur_byage</th>\n",
       "      <th>se_tot_dur_byage</th>\n",
       "      <th>seeking1_tot_dur_byage</th>\n",
       "    </tr>\n",
       "  </thead>\n",
       "  <tbody>\n",
       "    <tr>\n",
       "      <th>0</th>\n",
       "      <td>7</td>\n",
       "      <td>2015</td>\n",
       "      <td>1</td>\n",
       "      <td>0</td>\n",
       "      <td>1</td>\n",
       "      <td>0</td>\n",
       "      <td>0</td>\n",
       "      <td>0</td>\n",
       "      <td>1</td>\n",
       "      <td>0</td>\n",
       "      <td>...</td>\n",
       "      <td>0.000000</td>\n",
       "      <td>0.000000</td>\n",
       "      <td>15.043478</td>\n",
       "      <td>0.000000</td>\n",
       "      <td>0.000000</td>\n",
       "      <td>0.000000</td>\n",
       "      <td>0.000000</td>\n",
       "      <td>0.000000</td>\n",
       "      <td>0.000000</td>\n",
       "      <td>0.000000</td>\n",
       "    </tr>\n",
       "    <tr>\n",
       "      <th>1</th>\n",
       "      <td>18</td>\n",
       "      <td>2010</td>\n",
       "      <td>1</td>\n",
       "      <td>1</td>\n",
       "      <td>0</td>\n",
       "      <td>0</td>\n",
       "      <td>0</td>\n",
       "      <td>0</td>\n",
       "      <td>0</td>\n",
       "      <td>0</td>\n",
       "      <td>...</td>\n",
       "      <td>0.000000</td>\n",
       "      <td>0.000000</td>\n",
       "      <td>0.000000</td>\n",
       "      <td>0.000000</td>\n",
       "      <td>0.000000</td>\n",
       "      <td>0.000000</td>\n",
       "      <td>0.000000</td>\n",
       "      <td>0.000000</td>\n",
       "      <td>0.000000</td>\n",
       "      <td>0.000000</td>\n",
       "    </tr>\n",
       "    <tr>\n",
       "      <th>2</th>\n",
       "      <td>18</td>\n",
       "      <td>2011</td>\n",
       "      <td>2</td>\n",
       "      <td>0</td>\n",
       "      <td>1</td>\n",
       "      <td>0</td>\n",
       "      <td>1</td>\n",
       "      <td>0</td>\n",
       "      <td>1</td>\n",
       "      <td>0</td>\n",
       "      <td>...</td>\n",
       "      <td>2.714286</td>\n",
       "      <td>2.714286</td>\n",
       "      <td>0.000000</td>\n",
       "      <td>0.000000</td>\n",
       "      <td>10.775510</td>\n",
       "      <td>0.000000</td>\n",
       "      <td>8.367347</td>\n",
       "      <td>0.000000</td>\n",
       "      <td>0.000000</td>\n",
       "      <td>9.836735</td>\n",
       "    </tr>\n",
       "    <tr>\n",
       "      <th>3</th>\n",
       "      <td>18</td>\n",
       "      <td>2012</td>\n",
       "      <td>3</td>\n",
       "      <td>0</td>\n",
       "      <td>1</td>\n",
       "      <td>0</td>\n",
       "      <td>1</td>\n",
       "      <td>0</td>\n",
       "      <td>1</td>\n",
       "      <td>0</td>\n",
       "      <td>...</td>\n",
       "      <td>4.200000</td>\n",
       "      <td>4.200000</td>\n",
       "      <td>0.000000</td>\n",
       "      <td>0.000000</td>\n",
       "      <td>12.100000</td>\n",
       "      <td>0.000000</td>\n",
       "      <td>9.400000</td>\n",
       "      <td>0.000000</td>\n",
       "      <td>0.000000</td>\n",
       "      <td>9.960000</td>\n",
       "    </tr>\n",
       "    <tr>\n",
       "      <th>4</th>\n",
       "      <td>18</td>\n",
       "      <td>2012</td>\n",
       "      <td>4</td>\n",
       "      <td>0</td>\n",
       "      <td>1</td>\n",
       "      <td>0</td>\n",
       "      <td>1</td>\n",
       "      <td>0</td>\n",
       "      <td>1</td>\n",
       "      <td>0</td>\n",
       "      <td>...</td>\n",
       "      <td>5.460000</td>\n",
       "      <td>5.460000</td>\n",
       "      <td>0.000000</td>\n",
       "      <td>0.000000</td>\n",
       "      <td>13.360000</td>\n",
       "      <td>0.000000</td>\n",
       "      <td>10.320000</td>\n",
       "      <td>0.000000</td>\n",
       "      <td>0.000000</td>\n",
       "      <td>10.280000</td>\n",
       "    </tr>\n",
       "    <tr>\n",
       "      <th>...</th>\n",
       "      <td>...</td>\n",
       "      <td>...</td>\n",
       "      <td>...</td>\n",
       "      <td>...</td>\n",
       "      <td>...</td>\n",
       "      <td>...</td>\n",
       "      <td>...</td>\n",
       "      <td>...</td>\n",
       "      <td>...</td>\n",
       "      <td>...</td>\n",
       "      <td>...</td>\n",
       "      <td>...</td>\n",
       "      <td>...</td>\n",
       "      <td>...</td>\n",
       "      <td>...</td>\n",
       "      <td>...</td>\n",
       "      <td>...</td>\n",
       "      <td>...</td>\n",
       "      <td>...</td>\n",
       "      <td>...</td>\n",
       "      <td>...</td>\n",
       "    </tr>\n",
       "    <tr>\n",
       "      <th>643685</th>\n",
       "      <td>1827860</td>\n",
       "      <td>2013</td>\n",
       "      <td>1</td>\n",
       "      <td>0</td>\n",
       "      <td>0</td>\n",
       "      <td>0</td>\n",
       "      <td>1</td>\n",
       "      <td>0</td>\n",
       "      <td>0</td>\n",
       "      <td>1</td>\n",
       "      <td>...</td>\n",
       "      <td>0.000000</td>\n",
       "      <td>0.000000</td>\n",
       "      <td>0.000000</td>\n",
       "      <td>0.000000</td>\n",
       "      <td>0.612903</td>\n",
       "      <td>0.000000</td>\n",
       "      <td>0.000000</td>\n",
       "      <td>0.000000</td>\n",
       "      <td>0.000000</td>\n",
       "      <td>0.000000</td>\n",
       "    </tr>\n",
       "    <tr>\n",
       "      <th>643686</th>\n",
       "      <td>1827860</td>\n",
       "      <td>2015</td>\n",
       "      <td>2</td>\n",
       "      <td>1</td>\n",
       "      <td>0</td>\n",
       "      <td>0</td>\n",
       "      <td>1</td>\n",
       "      <td>0</td>\n",
       "      <td>1</td>\n",
       "      <td>0</td>\n",
       "      <td>...</td>\n",
       "      <td>0.000000</td>\n",
       "      <td>0.000000</td>\n",
       "      <td>0.212121</td>\n",
       "      <td>0.212121</td>\n",
       "      <td>17.363636</td>\n",
       "      <td>0.000000</td>\n",
       "      <td>8.909091</td>\n",
       "      <td>0.000000</td>\n",
       "      <td>0.000000</td>\n",
       "      <td>7.121212</td>\n",
       "    </tr>\n",
       "    <tr>\n",
       "      <th>643687</th>\n",
       "      <td>1827860</td>\n",
       "      <td>2016</td>\n",
       "      <td>3</td>\n",
       "      <td>1</td>\n",
       "      <td>0</td>\n",
       "      <td>0</td>\n",
       "      <td>1</td>\n",
       "      <td>1</td>\n",
       "      <td>0</td>\n",
       "      <td>1</td>\n",
       "      <td>...</td>\n",
       "      <td>0.000000</td>\n",
       "      <td>0.000000</td>\n",
       "      <td>0.294118</td>\n",
       "      <td>0.205882</td>\n",
       "      <td>34.705882</td>\n",
       "      <td>0.000000</td>\n",
       "      <td>10.352941</td>\n",
       "      <td>1.705882</td>\n",
       "      <td>1.705882</td>\n",
       "      <td>23.911765</td>\n",
       "    </tr>\n",
       "    <tr>\n",
       "      <th>643688</th>\n",
       "      <td>1827869</td>\n",
       "      <td>2013</td>\n",
       "      <td>1</td>\n",
       "      <td>1</td>\n",
       "      <td>1</td>\n",
       "      <td>0</td>\n",
       "      <td>0</td>\n",
       "      <td>0</td>\n",
       "      <td>1</td>\n",
       "      <td>0</td>\n",
       "      <td>...</td>\n",
       "      <td>0.000000</td>\n",
       "      <td>0.000000</td>\n",
       "      <td>0.000000</td>\n",
       "      <td>0.000000</td>\n",
       "      <td>0.000000</td>\n",
       "      <td>0.525424</td>\n",
       "      <td>0.000000</td>\n",
       "      <td>0.000000</td>\n",
       "      <td>0.000000</td>\n",
       "      <td>0.000000</td>\n",
       "    </tr>\n",
       "    <tr>\n",
       "      <th>643689</th>\n",
       "      <td>1827869</td>\n",
       "      <td>2014</td>\n",
       "      <td>2</td>\n",
       "      <td>0</td>\n",
       "      <td>0</td>\n",
       "      <td>1</td>\n",
       "      <td>0</td>\n",
       "      <td>0</td>\n",
       "      <td>1</td>\n",
       "      <td>0</td>\n",
       "      <td>...</td>\n",
       "      <td>0.000000</td>\n",
       "      <td>0.666667</td>\n",
       "      <td>0.666667</td>\n",
       "      <td>0.000000</td>\n",
       "      <td>0.000000</td>\n",
       "      <td>8.950000</td>\n",
       "      <td>1.033333</td>\n",
       "      <td>0.083333</td>\n",
       "      <td>0.083333</td>\n",
       "      <td>8.133333</td>\n",
       "    </tr>\n",
       "  </tbody>\n",
       "</table>\n",
       "<p>643690 rows × 164 columns</p>\n",
       "</div>"
      ],
      "text/plain": [
       "         persnr  year  nrEntry  ltue  employed_before  receipt_leh_before  \\\n",
       "0             7  2015        1     0                1                   0   \n",
       "1            18  2010        1     1                0                   0   \n",
       "2            18  2011        2     0                1                   0   \n",
       "3            18  2012        3     0                1                   0   \n",
       "4            18  2012        4     0                1                   0   \n",
       "...         ...   ...      ...   ...              ...                 ...   \n",
       "643685  1827860  2013        1     0                0                   0   \n",
       "643686  1827860  2015        2     1                0                   0   \n",
       "643687  1827860  2016        3     1                0                   0   \n",
       "643688  1827869  2013        1     1                1                   0   \n",
       "643689  1827869  2014        2     0                0                   1   \n",
       "\n",
       "        receipt_lhg_before  se_before  ASU_notue_seeking_before  \\\n",
       "0                        0          0                         1   \n",
       "1                        0          0                         0   \n",
       "2                        1          0                         1   \n",
       "3                        1          0                         1   \n",
       "4                        1          0                         1   \n",
       "...                    ...        ...                       ...   \n",
       "643685                   1          0                         0   \n",
       "643686                   1          0                         1   \n",
       "643687                   1          1                         0   \n",
       "643688                   0          0                         1   \n",
       "643689                   0          0                         1   \n",
       "\n",
       "        ASU_other_before  ...  minijob_tot_dur_byage  ft_tot_dur_byage  \\\n",
       "0                      0  ...               0.000000          0.000000   \n",
       "1                      0  ...               0.000000          0.000000   \n",
       "2                      0  ...               2.714286          2.714286   \n",
       "3                      0  ...               4.200000          4.200000   \n",
       "4                      0  ...               5.460000          5.460000   \n",
       "...                  ...  ...                    ...               ...   \n",
       "643685                 1  ...               0.000000          0.000000   \n",
       "643686                 0  ...               0.000000          0.000000   \n",
       "643687                 1  ...               0.000000          0.000000   \n",
       "643688                 0  ...               0.000000          0.000000   \n",
       "643689                 0  ...               0.000000          0.666667   \n",
       "\n",
       "        befrist_tot_dur_byage  leih_tot_dur_byage  LHG_tot_dur_byage  \\\n",
       "0                   15.043478            0.000000           0.000000   \n",
       "1                    0.000000            0.000000           0.000000   \n",
       "2                    0.000000            0.000000          10.775510   \n",
       "3                    0.000000            0.000000          12.100000   \n",
       "4                    0.000000            0.000000          13.360000   \n",
       "...                       ...                 ...                ...   \n",
       "643685               0.000000            0.000000           0.612903   \n",
       "643686               0.212121            0.212121          17.363636   \n",
       "643687               0.294118            0.205882          34.705882   \n",
       "643688               0.000000            0.000000           0.000000   \n",
       "643689               0.666667            0.000000           0.000000   \n",
       "\n",
       "        LEH_tot_dur_byage  almp_tot_dur_byage  almp_aw_tot_dur_byage  \\\n",
       "0                0.000000            0.000000               0.000000   \n",
       "1                0.000000            0.000000               0.000000   \n",
       "2                0.000000            8.367347               0.000000   \n",
       "3                0.000000            9.400000               0.000000   \n",
       "4                0.000000           10.320000               0.000000   \n",
       "...                   ...                 ...                    ...   \n",
       "643685           0.000000            0.000000               0.000000   \n",
       "643686           0.000000            8.909091               0.000000   \n",
       "643687           0.000000           10.352941               1.705882   \n",
       "643688           0.525424            0.000000               0.000000   \n",
       "643689           8.950000            1.033333               0.083333   \n",
       "\n",
       "        se_tot_dur_byage  seeking1_tot_dur_byage  \n",
       "0               0.000000                0.000000  \n",
       "1               0.000000                0.000000  \n",
       "2               0.000000                9.836735  \n",
       "3               0.000000                9.960000  \n",
       "4               0.000000               10.280000  \n",
       "...                  ...                     ...  \n",
       "643685          0.000000                0.000000  \n",
       "643686          0.000000                7.121212  \n",
       "643687          1.705882               23.911765  \n",
       "643688          0.000000                0.000000  \n",
       "643689          0.083333                8.133333  \n",
       "\n",
       "[643690 rows x 164 columns]"
      ]
     },
     "execution_count": 10,
     "metadata": {},
     "output_type": "execute_result"
    }
   ],
   "source": [
    "siab"
   ]
  },
  {
   "cell_type": "markdown",
   "id": "1f87e805",
   "metadata": {
    "papermill": {
     "duration": 0.01113,
     "end_time": "2025-08-19T18:49:58.636227",
     "exception": false,
     "start_time": "2025-08-19T18:49:58.625097",
     "status": "completed"
    },
    "tags": []
   },
   "source": [
    "# Splitting Data and Setting Training Data Size"
   ]
  },
  {
   "cell_type": "code",
   "execution_count": 11,
   "id": "910ae358",
   "metadata": {
    "execution": {
     "iopub.execute_input": "2025-08-19T18:49:58.657890Z",
     "iopub.status.busy": "2025-08-19T18:49:58.657199Z",
     "iopub.status.idle": "2025-08-19T18:49:58.934756Z",
     "shell.execute_reply": "2025-08-19T18:49:58.933828Z"
    },
    "papermill": {
     "duration": 0.290703,
     "end_time": "2025-08-19T18:49:58.936411",
     "exception": false,
     "start_time": "2025-08-19T18:49:58.645708",
     "status": "completed"
    },
    "tags": []
   },
   "outputs": [],
   "source": [
    "from fairness_multiverse.universe import sample_by_year_size\n",
    "\n",
    "siab_train = sample_by_year_size(siab,\n",
    "                               training_year=universe[\"training_year\"],\n",
    "                               training_size=universe[\"training_size\"])"
   ]
  },
  {
   "cell_type": "code",
   "execution_count": 12,
   "id": "919c8ff5",
   "metadata": {
    "execution": {
     "iopub.execute_input": "2025-08-19T18:49:58.959812Z",
     "iopub.status.busy": "2025-08-19T18:49:58.959138Z",
     "iopub.status.idle": "2025-08-19T18:49:58.969556Z",
     "shell.execute_reply": "2025-08-19T18:49:58.968491Z"
    },
    "papermill": {
     "duration": 0.022521,
     "end_time": "2025-08-19T18:49:58.970838",
     "exception": false,
     "start_time": "2025-08-19T18:49:58.948317",
     "status": "completed"
    },
    "tags": []
   },
   "outputs": [
    {
     "data": {
      "text/plain": [
       "(1000, 164)"
      ]
     },
     "execution_count": 12,
     "metadata": {},
     "output_type": "execute_result"
    }
   ],
   "source": [
    "siab_train.shape"
   ]
  },
  {
   "cell_type": "code",
   "execution_count": 13,
   "id": "feb13bf4",
   "metadata": {
    "execution": {
     "iopub.execute_input": "2025-08-19T18:49:58.999702Z",
     "iopub.status.busy": "2025-08-19T18:49:58.998324Z",
     "iopub.status.idle": "2025-08-19T18:49:59.018078Z",
     "shell.execute_reply": "2025-08-19T18:49:59.017252Z"
    },
    "papermill": {
     "duration": 0.03664,
     "end_time": "2025-08-19T18:49:59.019445",
     "exception": false,
     "start_time": "2025-08-19T18:49:58.982805",
     "status": "completed"
    },
    "tags": []
   },
   "outputs": [
    {
     "data": {
      "text/plain": [
       "year\n",
       "2014    1000\n",
       "dtype: int64"
      ]
     },
     "metadata": {},
     "output_type": "display_data"
    }
   ],
   "source": [
    "display(siab_train.groupby(\"year\").size())"
   ]
  },
  {
   "cell_type": "code",
   "execution_count": 14,
   "id": "0997782f",
   "metadata": {
    "execution": {
     "iopub.execute_input": "2025-08-19T18:49:59.040838Z",
     "iopub.status.busy": "2025-08-19T18:49:59.040368Z",
     "iopub.status.idle": "2025-08-19T18:49:59.293225Z",
     "shell.execute_reply": "2025-08-19T18:49:59.292562Z"
    },
    "papermill": {
     "duration": 0.266345,
     "end_time": "2025-08-19T18:49:59.295903",
     "exception": false,
     "start_time": "2025-08-19T18:49:59.029558",
     "status": "completed"
    },
    "tags": []
   },
   "outputs": [],
   "source": [
    "#siab_train = siab_s[siab_s.year < 2015]\n",
    "siab_calib = siab[siab.year == 2015]\n",
    "siab_test = siab[siab.year == 2016]"
   ]
  },
  {
   "cell_type": "code",
   "execution_count": 15,
   "id": "2c1e4012",
   "metadata": {
    "execution": {
     "iopub.execute_input": "2025-08-19T18:49:59.335349Z",
     "iopub.status.busy": "2025-08-19T18:49:59.334147Z",
     "iopub.status.idle": "2025-08-19T18:49:59.346763Z",
     "shell.execute_reply": "2025-08-19T18:49:59.344618Z"
    },
    "papermill": {
     "duration": 0.028973,
     "end_time": "2025-08-19T18:49:59.348850",
     "exception": false,
     "start_time": "2025-08-19T18:49:59.319877",
     "status": "completed"
    },
    "tags": []
   },
   "outputs": [],
   "source": [
    "#siab_calib.shape"
   ]
  },
  {
   "cell_type": "code",
   "execution_count": 16,
   "id": "f66b54ca",
   "metadata": {
    "execution": {
     "iopub.execute_input": "2025-08-19T18:49:59.390241Z",
     "iopub.status.busy": "2025-08-19T18:49:59.388988Z",
     "iopub.status.idle": "2025-08-19T18:49:59.400406Z",
     "shell.execute_reply": "2025-08-19T18:49:59.399067Z"
    },
    "papermill": {
     "duration": 0.024833,
     "end_time": "2025-08-19T18:49:59.401952",
     "exception": false,
     "start_time": "2025-08-19T18:49:59.377119",
     "status": "completed"
    },
    "tags": []
   },
   "outputs": [],
   "source": [
    "#siab_test.shape"
   ]
  },
  {
   "cell_type": "code",
   "execution_count": 17,
   "id": "27e4384d",
   "metadata": {
    "execution": {
     "iopub.execute_input": "2025-08-19T18:49:59.430935Z",
     "iopub.status.busy": "2025-08-19T18:49:59.429485Z",
     "iopub.status.idle": "2025-08-19T18:49:59.448549Z",
     "shell.execute_reply": "2025-08-19T18:49:59.445748Z"
    },
    "papermill": {
     "duration": 0.035155,
     "end_time": "2025-08-19T18:49:59.450393",
     "exception": false,
     "start_time": "2025-08-19T18:49:59.415238",
     "status": "completed"
    },
    "tags": []
   },
   "outputs": [],
   "source": [
    "X_train = siab_train.iloc[:,4:164]\n",
    "y_train = siab_train.iloc[:, [3]]"
   ]
  },
  {
   "cell_type": "code",
   "execution_count": 18,
   "id": "08ee8389",
   "metadata": {
    "execution": {
     "iopub.execute_input": "2025-08-19T18:49:59.478232Z",
     "iopub.status.busy": "2025-08-19T18:49:59.477846Z",
     "iopub.status.idle": "2025-08-19T18:49:59.527257Z",
     "shell.execute_reply": "2025-08-19T18:49:59.525284Z"
    },
    "papermill": {
     "duration": 0.063944,
     "end_time": "2025-08-19T18:49:59.529985",
     "exception": false,
     "start_time": "2025-08-19T18:49:59.466041",
     "status": "completed"
    },
    "tags": []
   },
   "outputs": [],
   "source": [
    "X_calib = siab_calib.iloc[:,4:164]\n",
    "y_calib = siab_calib.iloc[:, [3]]"
   ]
  },
  {
   "cell_type": "code",
   "execution_count": 19,
   "id": "b7ff42e0",
   "metadata": {
    "execution": {
     "iopub.execute_input": "2025-08-19T18:49:59.568059Z",
     "iopub.status.busy": "2025-08-19T18:49:59.566787Z",
     "iopub.status.idle": "2025-08-19T18:49:59.656225Z",
     "shell.execute_reply": "2025-08-19T18:49:59.655481Z"
    },
    "papermill": {
     "duration": 0.105762,
     "end_time": "2025-08-19T18:49:59.659114",
     "exception": false,
     "start_time": "2025-08-19T18:49:59.553352",
     "status": "completed"
    },
    "tags": []
   },
   "outputs": [],
   "source": [
    "X_test = siab_test.iloc[:,4:164]\n",
    "y_true = siab_test.iloc[:, [3]]"
   ]
  },
  {
   "cell_type": "code",
   "execution_count": 20,
   "id": "0275101e",
   "metadata": {
    "execution": {
     "iopub.execute_input": "2025-08-19T18:49:59.699137Z",
     "iopub.status.busy": "2025-08-19T18:49:59.697868Z",
     "iopub.status.idle": "2025-08-19T18:49:59.960607Z",
     "shell.execute_reply": "2025-08-19T18:49:59.959911Z"
    },
    "papermill": {
     "duration": 0.279607,
     "end_time": "2025-08-19T18:49:59.963348",
     "exception": false,
     "start_time": "2025-08-19T18:49:59.683741",
     "status": "completed"
    },
    "tags": []
   },
   "outputs": [],
   "source": [
    "# Auxiliary data needed downstream in the pipeline\n",
    "\n",
    "org_train = X_train.copy()\n",
    "org_test = X_test.copy()\n",
    "org_calib = X_calib.copy()"
   ]
  },
  {
   "cell_type": "markdown",
   "id": "b461e618",
   "metadata": {
    "papermill": {
     "duration": 0.012612,
     "end_time": "2025-08-19T18:50:00.000487",
     "exception": false,
     "start_time": "2025-08-19T18:49:59.987875",
     "status": "completed"
    },
    "tags": []
   },
   "source": [
    "# Preprocessing Data"
   ]
  },
  {
   "cell_type": "code",
   "execution_count": 21,
   "id": "78e74c4b",
   "metadata": {
    "execution": {
     "iopub.execute_input": "2025-08-19T18:50:00.023700Z",
     "iopub.status.busy": "2025-08-19T18:50:00.022402Z",
     "iopub.status.idle": "2025-08-19T18:50:00.032336Z",
     "shell.execute_reply": "2025-08-19T18:50:00.030710Z"
    },
    "papermill": {
     "duration": 0.025197,
     "end_time": "2025-08-19T18:50:00.035895",
     "exception": false,
     "start_time": "2025-08-19T18:50:00.010698",
     "status": "completed"
    },
    "tags": []
   },
   "outputs": [],
   "source": [
    "# EXCLUDE PROTECTED FEATURES\n",
    "# --------------------------\n",
    "\n",
    "excluded_features = universe[\"exclude_features\"].split(\"-\")\n",
    "excluded_features_dictionary = {\n",
    "    \"nationality\": [\"maxdeutsch1\", \"maxdeutsch.Missing.\"],\n",
    "    \"sex\": [\"frau1\"],\n",
    "    \"age\": [\"age\"],\n",
    "}"
   ]
  },
  {
   "cell_type": "code",
   "execution_count": 22,
   "id": "f8e63555",
   "metadata": {
    "execution": {
     "iopub.execute_input": "2025-08-19T18:50:00.075410Z",
     "iopub.status.busy": "2025-08-19T18:50:00.074081Z",
     "iopub.status.idle": "2025-08-19T18:50:00.091297Z",
     "shell.execute_reply": "2025-08-19T18:50:00.089650Z"
    },
    "papermill": {
     "duration": 0.033761,
     "end_time": "2025-08-19T18:50:00.093079",
     "exception": false,
     "start_time": "2025-08-19T18:50:00.059318",
     "status": "completed"
    },
    "tags": []
   },
   "outputs": [],
   "source": [
    "excluded_features_columns = [\n",
    "    excluded_features_dictionary[f] for f in excluded_features if len(f) > 0 and f != \"none\"\n",
    "]"
   ]
  },
  {
   "cell_type": "code",
   "execution_count": 23,
   "id": "da781f7c",
   "metadata": {
    "execution": {
     "iopub.execute_input": "2025-08-19T18:50:00.140798Z",
     "iopub.status.busy": "2025-08-19T18:50:00.138810Z",
     "iopub.status.idle": "2025-08-19T18:50:00.146401Z",
     "shell.execute_reply": "2025-08-19T18:50:00.145251Z"
    },
    "papermill": {
     "duration": 0.022386,
     "end_time": "2025-08-19T18:50:00.147530",
     "exception": false,
     "start_time": "2025-08-19T18:50:00.125144",
     "status": "completed"
    },
    "tags": []
   },
   "outputs": [],
   "source": [
    "from fairness_multiverse.universe import flatten_once\n",
    "\n",
    "excluded_features_columns = flatten_once(excluded_features_columns)"
   ]
  },
  {
   "cell_type": "code",
   "execution_count": 24,
   "id": "37fef0f0",
   "metadata": {
    "execution": {
     "iopub.execute_input": "2025-08-19T18:50:00.170147Z",
     "iopub.status.busy": "2025-08-19T18:50:00.169862Z",
     "iopub.status.idle": "2025-08-19T18:50:00.203211Z",
     "shell.execute_reply": "2025-08-19T18:50:00.201994Z"
    },
    "papermill": {
     "duration": 0.047466,
     "end_time": "2025-08-19T18:50:00.206139",
     "exception": false,
     "start_time": "2025-08-19T18:50:00.158673",
     "status": "completed"
    },
    "tags": []
   },
   "outputs": [
    {
     "name": "stdout",
     "output_type": "stream",
     "text": [
      "Dropping features: ['maxdeutsch1', 'maxdeutsch.Missing.', 'frau1']\n"
     ]
    }
   ],
   "source": [
    "if len(excluded_features_columns) > 0:\n",
    "    print(f\"Dropping features: {excluded_features_columns}\")\n",
    "    X_train.drop(excluded_features_columns, axis=1, inplace=True)"
   ]
  },
  {
   "cell_type": "code",
   "execution_count": 25,
   "id": "d029e3e9",
   "metadata": {
    "execution": {
     "iopub.execute_input": "2025-08-19T18:50:00.235218Z",
     "iopub.status.busy": "2025-08-19T18:50:00.234919Z",
     "iopub.status.idle": "2025-08-19T18:50:00.293082Z",
     "shell.execute_reply": "2025-08-19T18:50:00.291982Z"
    },
    "papermill": {
     "duration": 0.071863,
     "end_time": "2025-08-19T18:50:00.294414",
     "exception": false,
     "start_time": "2025-08-19T18:50:00.222551",
     "status": "completed"
    },
    "tags": []
   },
   "outputs": [
    {
     "name": "stdout",
     "output_type": "stream",
     "text": [
      "Dropping features: ['maxdeutsch1', 'maxdeutsch.Missing.', 'frau1']\n"
     ]
    }
   ],
   "source": [
    "if len(excluded_features_columns) > 0:\n",
    "    print(f\"Dropping features: {excluded_features_columns}\")\n",
    "    X_test.drop(excluded_features_columns, axis=1, inplace=True)"
   ]
  },
  {
   "cell_type": "code",
   "execution_count": 26,
   "id": "01d571f0",
   "metadata": {
    "execution": {
     "iopub.execute_input": "2025-08-19T18:50:00.319771Z",
     "iopub.status.busy": "2025-08-19T18:50:00.318756Z",
     "iopub.status.idle": "2025-08-19T18:50:00.401526Z",
     "shell.execute_reply": "2025-08-19T18:50:00.400941Z"
    },
    "papermill": {
     "duration": 0.097514,
     "end_time": "2025-08-19T18:50:00.404522",
     "exception": false,
     "start_time": "2025-08-19T18:50:00.307008",
     "status": "completed"
    },
    "tags": []
   },
   "outputs": [
    {
     "name": "stdout",
     "output_type": "stream",
     "text": [
      "Dropping features: ['maxdeutsch1', 'maxdeutsch.Missing.', 'frau1']\n"
     ]
    }
   ],
   "source": [
    "if len(excluded_features_columns) > 0:\n",
    "    print(f\"Dropping features: {excluded_features_columns}\")\n",
    "    X_calib.drop(excluded_features_columns, axis=1, inplace=True)"
   ]
  },
  {
   "cell_type": "code",
   "execution_count": 27,
   "id": "3037356e",
   "metadata": {
    "execution": {
     "iopub.execute_input": "2025-08-19T18:50:00.440955Z",
     "iopub.status.busy": "2025-08-19T18:50:00.439972Z",
     "iopub.status.idle": "2025-08-19T18:50:00.454387Z",
     "shell.execute_reply": "2025-08-19T18:50:00.452776Z"
    },
    "papermill": {
     "duration": 0.029516,
     "end_time": "2025-08-19T18:50:00.456106",
     "exception": false,
     "start_time": "2025-08-19T18:50:00.426590",
     "status": "completed"
    },
    "tags": []
   },
   "outputs": [],
   "source": [
    "# EXCLUDE CERTAIN SUBGROUPS\n",
    "# -------------------------\n",
    "\n",
    "mode = universe.get(\"exclude_subgroups\", \"keep-all\") # Defaults to \"keep-all\" if the key is missing."
   ]
  },
  {
   "cell_type": "code",
   "execution_count": 28,
   "id": "9d1e63fd",
   "metadata": {
    "execution": {
     "iopub.execute_input": "2025-08-19T18:50:00.490806Z",
     "iopub.status.busy": "2025-08-19T18:50:00.488187Z",
     "iopub.status.idle": "2025-08-19T18:50:00.505068Z",
     "shell.execute_reply": "2025-08-19T18:50:00.503354Z"
    },
    "papermill": {
     "duration": 0.035003,
     "end_time": "2025-08-19T18:50:00.506932",
     "exception": false,
     "start_time": "2025-08-19T18:50:00.471929",
     "status": "completed"
    },
    "tags": []
   },
   "outputs": [],
   "source": [
    "if mode == \"keep-all\":\n",
    "    keep_mask = pd.Series(True, index=org_train.index)\n",
    "\n",
    "elif mode == \"drop-non-german\":\n",
    "    keep_mask = (org_train[\"maxdeutsch1\"] == 1) & (org_train[\"maxdeutsch.Missing.\"] == 0)\n",
    "\n",
    "else:\n",
    "    raise ValueError(f\"Unsupported mode for exclude_subgroups: {mode}\")"
   ]
  },
  {
   "cell_type": "code",
   "execution_count": 29,
   "id": "d3b65474",
   "metadata": {
    "execution": {
     "iopub.execute_input": "2025-08-19T18:50:00.538613Z",
     "iopub.status.busy": "2025-08-19T18:50:00.537391Z",
     "iopub.status.idle": "2025-08-19T18:50:00.548006Z",
     "shell.execute_reply": "2025-08-19T18:50:00.546421Z"
    },
    "papermill": {
     "duration": 0.025202,
     "end_time": "2025-08-19T18:50:00.549480",
     "exception": false,
     "start_time": "2025-08-19T18:50:00.524278",
     "status": "completed"
    },
    "tags": []
   },
   "outputs": [],
   "source": [
    "n_drop = (~keep_mask).sum() # Calculates how many rows are set to be dropped\n",
    "if n_drop > 0:\n",
    "    pct = n_drop / len(keep_mask) * 100\n",
    "    print(f\"Dropping {n_drop} rows ({pct:.2f}%) where mode='{mode}'\")"
   ]
  },
  {
   "cell_type": "code",
   "execution_count": 30,
   "id": "f44389b3",
   "metadata": {
    "execution": {
     "iopub.execute_input": "2025-08-19T18:50:00.576168Z",
     "iopub.status.busy": "2025-08-19T18:50:00.574956Z",
     "iopub.status.idle": "2025-08-19T18:50:00.615811Z",
     "shell.execute_reply": "2025-08-19T18:50:00.614160Z"
    },
    "papermill": {
     "duration": 0.056169,
     "end_time": "2025-08-19T18:50:00.619042",
     "exception": false,
     "start_time": "2025-08-19T18:50:00.562873",
     "status": "completed"
    },
    "tags": []
   },
   "outputs": [],
   "source": [
    "X_train = X_train[keep_mask]"
   ]
  },
  {
   "cell_type": "code",
   "execution_count": 31,
   "id": "ceca8c2a",
   "metadata": {
    "execution": {
     "iopub.execute_input": "2025-08-19T18:50:00.659778Z",
     "iopub.status.busy": "2025-08-19T18:50:00.658764Z",
     "iopub.status.idle": "2025-08-19T18:50:00.668010Z",
     "shell.execute_reply": "2025-08-19T18:50:00.666413Z"
    },
    "papermill": {
     "duration": 0.024979,
     "end_time": "2025-08-19T18:50:00.669489",
     "exception": false,
     "start_time": "2025-08-19T18:50:00.644510",
     "status": "completed"
    },
    "tags": []
   },
   "outputs": [],
   "source": [
    "y_train = y_train[keep_mask]"
   ]
  },
  {
   "cell_type": "markdown",
   "id": "04d31e2f",
   "metadata": {
    "papermill": {
     "duration": 0.011053,
     "end_time": "2025-08-19T18:50:00.694406",
     "exception": false,
     "start_time": "2025-08-19T18:50:00.683353",
     "status": "completed"
    },
    "tags": []
   },
   "source": [
    "# Model Training"
   ]
  },
  {
   "cell_type": "code",
   "execution_count": 32,
   "id": "db991733",
   "metadata": {
    "execution": {
     "iopub.execute_input": "2025-08-19T18:50:00.718213Z",
     "iopub.status.busy": "2025-08-19T18:50:00.716813Z",
     "iopub.status.idle": "2025-08-19T18:50:00.835276Z",
     "shell.execute_reply": "2025-08-19T18:50:00.834511Z"
    },
    "papermill": {
     "duration": 0.133129,
     "end_time": "2025-08-19T18:50:00.837953",
     "exception": false,
     "start_time": "2025-08-19T18:50:00.704824",
     "status": "completed"
    },
    "tags": []
   },
   "outputs": [],
   "source": [
    "from sklearn.linear_model import LogisticRegression\n",
    "from sklearn.ensemble import GradientBoostingClassifier, RandomForestClassifier\n",
    "\n",
    "if (universe[\"model\"] == \"logreg\"):\n",
    "    model = LogisticRegression() #penalty=\"none\", solver=\"newton-cg\", max_iter=1)\n",
    "elif (universe[\"model\"] == \"penalized_logreg\"):\n",
    "    model = LogisticRegression(penalty=\"l2\", C=0.1) #, solver=\"newton-cg\", max_iter=1)\n",
    "elif (universe[\"model\"] == \"rf\"):\n",
    "    model = RandomForestClassifier() # n_estimators=100, n_jobs=-1\n",
    "elif (universe[\"model\"] == \"gbm\"):\n",
    "    model = GradientBoostingClassifier()\n",
    "elif (universe[\"model\"] == \"elasticnet\"):\n",
    "    model = LogisticRegression(penalty = 'elasticnet', solver = 'saga', l1_ratio = 0.5) # max_iter=5000\n",
    "else:\n",
    "    raise \"Unsupported universe.model\""
   ]
  },
  {
   "cell_type": "code",
   "execution_count": 33,
   "id": "a4b5cd25",
   "metadata": {
    "execution": {
     "iopub.execute_input": "2025-08-19T18:50:00.876661Z",
     "iopub.status.busy": "2025-08-19T18:50:00.875615Z",
     "iopub.status.idle": "2025-08-19T18:50:00.885762Z",
     "shell.execute_reply": "2025-08-19T18:50:00.884180Z"
    },
    "papermill": {
     "duration": 0.025354,
     "end_time": "2025-08-19T18:50:00.887267",
     "exception": false,
     "start_time": "2025-08-19T18:50:00.861913",
     "status": "completed"
    },
    "tags": []
   },
   "outputs": [],
   "source": [
    "from sklearn.pipeline import Pipeline\n",
    "from sklearn.preprocessing import StandardScaler\n",
    "\n",
    "model = Pipeline([\n",
    "    #(\"continuous_processor\", continuous_processor),\n",
    "    #(\"categorical_preprocessor\", categorical_preprocessor),\n",
    "    (\"scale\", StandardScaler() if universe[\"scale\"] == \"scale\" else None), \n",
    "    (\"model\", model),\n",
    "])"
   ]
  },
  {
   "cell_type": "code",
   "execution_count": 34,
   "id": "283a904d",
   "metadata": {
    "execution": {
     "iopub.execute_input": "2025-08-19T18:50:00.914060Z",
     "iopub.status.busy": "2025-08-19T18:50:00.913094Z",
     "iopub.status.idle": "2025-08-19T18:50:00.979976Z",
     "shell.execute_reply": "2025-08-19T18:50:00.979155Z"
    },
    "papermill": {
     "duration": 0.081157,
     "end_time": "2025-08-19T18:50:00.981742",
     "exception": false,
     "start_time": "2025-08-19T18:50:00.900585",
     "status": "completed"
    },
    "tags": []
   },
   "outputs": [
    {
     "data": {
      "text/html": [
       "<style>#sk-container-id-1 {color: black;background-color: white;}#sk-container-id-1 pre{padding: 0;}#sk-container-id-1 div.sk-toggleable {background-color: white;}#sk-container-id-1 label.sk-toggleable__label {cursor: pointer;display: block;width: 100%;margin-bottom: 0;padding: 0.3em;box-sizing: border-box;text-align: center;}#sk-container-id-1 label.sk-toggleable__label-arrow:before {content: \"▸\";float: left;margin-right: 0.25em;color: #696969;}#sk-container-id-1 label.sk-toggleable__label-arrow:hover:before {color: black;}#sk-container-id-1 div.sk-estimator:hover label.sk-toggleable__label-arrow:before {color: black;}#sk-container-id-1 div.sk-toggleable__content {max-height: 0;max-width: 0;overflow: hidden;text-align: left;background-color: #f0f8ff;}#sk-container-id-1 div.sk-toggleable__content pre {margin: 0.2em;color: black;border-radius: 0.25em;background-color: #f0f8ff;}#sk-container-id-1 input.sk-toggleable__control:checked~div.sk-toggleable__content {max-height: 200px;max-width: 100%;overflow: auto;}#sk-container-id-1 input.sk-toggleable__control:checked~label.sk-toggleable__label-arrow:before {content: \"▾\";}#sk-container-id-1 div.sk-estimator input.sk-toggleable__control:checked~label.sk-toggleable__label {background-color: #d4ebff;}#sk-container-id-1 div.sk-label input.sk-toggleable__control:checked~label.sk-toggleable__label {background-color: #d4ebff;}#sk-container-id-1 input.sk-hidden--visually {border: 0;clip: rect(1px 1px 1px 1px);clip: rect(1px, 1px, 1px, 1px);height: 1px;margin: -1px;overflow: hidden;padding: 0;position: absolute;width: 1px;}#sk-container-id-1 div.sk-estimator {font-family: monospace;background-color: #f0f8ff;border: 1px dotted black;border-radius: 0.25em;box-sizing: border-box;margin-bottom: 0.5em;}#sk-container-id-1 div.sk-estimator:hover {background-color: #d4ebff;}#sk-container-id-1 div.sk-parallel-item::after {content: \"\";width: 100%;border-bottom: 1px solid gray;flex-grow: 1;}#sk-container-id-1 div.sk-label:hover label.sk-toggleable__label {background-color: #d4ebff;}#sk-container-id-1 div.sk-serial::before {content: \"\";position: absolute;border-left: 1px solid gray;box-sizing: border-box;top: 0;bottom: 0;left: 50%;z-index: 0;}#sk-container-id-1 div.sk-serial {display: flex;flex-direction: column;align-items: center;background-color: white;padding-right: 0.2em;padding-left: 0.2em;position: relative;}#sk-container-id-1 div.sk-item {position: relative;z-index: 1;}#sk-container-id-1 div.sk-parallel {display: flex;align-items: stretch;justify-content: center;background-color: white;position: relative;}#sk-container-id-1 div.sk-item::before, #sk-container-id-1 div.sk-parallel-item::before {content: \"\";position: absolute;border-left: 1px solid gray;box-sizing: border-box;top: 0;bottom: 0;left: 50%;z-index: -1;}#sk-container-id-1 div.sk-parallel-item {display: flex;flex-direction: column;z-index: 1;position: relative;background-color: white;}#sk-container-id-1 div.sk-parallel-item:first-child::after {align-self: flex-end;width: 50%;}#sk-container-id-1 div.sk-parallel-item:last-child::after {align-self: flex-start;width: 50%;}#sk-container-id-1 div.sk-parallel-item:only-child::after {width: 0;}#sk-container-id-1 div.sk-dashed-wrapped {border: 1px dashed gray;margin: 0 0.4em 0.5em 0.4em;box-sizing: border-box;padding-bottom: 0.4em;background-color: white;}#sk-container-id-1 div.sk-label label {font-family: monospace;font-weight: bold;display: inline-block;line-height: 1.2em;}#sk-container-id-1 div.sk-label-container {text-align: center;}#sk-container-id-1 div.sk-container {/* jupyter's `normalize.less` sets `[hidden] { display: none; }` but bootstrap.min.css set `[hidden] { display: none !important; }` so we also need the `!important` here to be able to override the default hidden behavior on the sphinx rendered scikit-learn.org. See: https://github.com/scikit-learn/scikit-learn/issues/21755 */display: inline-block !important;position: relative;}#sk-container-id-1 div.sk-text-repr-fallback {display: none;}</style><div id=\"sk-container-id-1\" class=\"sk-top-container\"><div class=\"sk-text-repr-fallback\"><pre>Pipeline(steps=[(&#x27;scale&#x27;, StandardScaler()),\n",
       "                (&#x27;model&#x27;, LogisticRegression(C=0.1))])</pre><b>In a Jupyter environment, please rerun this cell to show the HTML representation or trust the notebook. <br />On GitHub, the HTML representation is unable to render, please try loading this page with nbviewer.org.</b></div><div class=\"sk-container\" hidden><div class=\"sk-item sk-dashed-wrapped\"><div class=\"sk-label-container\"><div class=\"sk-label sk-toggleable\"><input class=\"sk-toggleable__control sk-hidden--visually\" id=\"sk-estimator-id-1\" type=\"checkbox\" ><label for=\"sk-estimator-id-1\" class=\"sk-toggleable__label sk-toggleable__label-arrow\">Pipeline</label><div class=\"sk-toggleable__content\"><pre>Pipeline(steps=[(&#x27;scale&#x27;, StandardScaler()),\n",
       "                (&#x27;model&#x27;, LogisticRegression(C=0.1))])</pre></div></div></div><div class=\"sk-serial\"><div class=\"sk-item\"><div class=\"sk-estimator sk-toggleable\"><input class=\"sk-toggleable__control sk-hidden--visually\" id=\"sk-estimator-id-2\" type=\"checkbox\" ><label for=\"sk-estimator-id-2\" class=\"sk-toggleable__label sk-toggleable__label-arrow\">StandardScaler</label><div class=\"sk-toggleable__content\"><pre>StandardScaler()</pre></div></div></div><div class=\"sk-item\"><div class=\"sk-estimator sk-toggleable\"><input class=\"sk-toggleable__control sk-hidden--visually\" id=\"sk-estimator-id-3\" type=\"checkbox\" ><label for=\"sk-estimator-id-3\" class=\"sk-toggleable__label sk-toggleable__label-arrow\">LogisticRegression</label><div class=\"sk-toggleable__content\"><pre>LogisticRegression(C=0.1)</pre></div></div></div></div></div></div></div>"
      ],
      "text/plain": [
       "Pipeline(steps=[('scale', StandardScaler()),\n",
       "                ('model', LogisticRegression(C=0.1))])"
      ]
     },
     "execution_count": 34,
     "metadata": {},
     "output_type": "execute_result"
    }
   ],
   "source": [
    "model.fit(X_train, y_train.values.ravel())"
   ]
  },
  {
   "cell_type": "code",
   "execution_count": 35,
   "id": "6e15e313",
   "metadata": {
    "execution": {
     "iopub.execute_input": "2025-08-19T18:50:01.006579Z",
     "iopub.status.busy": "2025-08-19T18:50:01.006294Z",
     "iopub.status.idle": "2025-08-19T18:50:01.191487Z",
     "shell.execute_reply": "2025-08-19T18:50:01.190400Z"
    },
    "papermill": {
     "duration": 0.201269,
     "end_time": "2025-08-19T18:50:01.195898",
     "exception": false,
     "start_time": "2025-08-19T18:50:00.994629",
     "status": "completed"
    },
    "tags": []
   },
   "outputs": [
    {
     "data": {
      "text/plain": [
       "0.830531713298406"
      ]
     },
     "execution_count": 35,
     "metadata": {},
     "output_type": "execute_result"
    }
   ],
   "source": [
    "from fairness_multiverse.universe import predict_w_threshold\n",
    "\n",
    "probs_test = model.predict_proba(X_test)\n",
    "\n",
    "'''\n",
    "Below code returns a boolean array (or binary 0/1 array depending on how it’s used) where each element \n",
    "is True if the probability of class 1 is greater than or equal to the threshold, and False otherwise.\n",
    "'''\n",
    "y_pred_default = predict_w_threshold(probs_test, 0.5)\n",
    "\n",
    "from sklearn.metrics import accuracy_score\n",
    "\n",
    "# Naive prediction\n",
    "accuracy_score(y_true = y_true, y_pred = y_pred_default)"
   ]
  },
  {
   "cell_type": "code",
   "execution_count": 36,
   "id": "6f14067c",
   "metadata": {
    "execution": {
     "iopub.execute_input": "2025-08-19T18:50:01.231255Z",
     "iopub.status.busy": "2025-08-19T18:50:01.230361Z",
     "iopub.status.idle": "2025-08-19T18:50:01.422357Z",
     "shell.execute_reply": "2025-08-19T18:50:01.421036Z"
    },
    "papermill": {
     "duration": 0.208279,
     "end_time": "2025-08-19T18:50:01.425450",
     "exception": false,
     "start_time": "2025-08-19T18:50:01.217171",
     "status": "completed"
    },
    "tags": []
   },
   "outputs": [
    {
     "data": {
      "text/plain": [
       "array([0, 0, 0, ..., 0, 0, 0])"
      ]
     },
     "execution_count": 36,
     "metadata": {},
     "output_type": "execute_result"
    }
   ],
   "source": [
    "model.predict(X_test)"
   ]
  },
  {
   "cell_type": "markdown",
   "id": "3759920c",
   "metadata": {
    "papermill": {
     "duration": 0.012164,
     "end_time": "2025-08-19T18:50:01.461175",
     "exception": false,
     "start_time": "2025-08-19T18:50:01.449011",
     "status": "completed"
    },
    "tags": []
   },
   "source": [
    "# Conformal Prediction"
   ]
  },
  {
   "cell_type": "code",
   "execution_count": 37,
   "id": "14b27f59",
   "metadata": {
    "execution": {
     "iopub.execute_input": "2025-08-19T18:50:01.502561Z",
     "iopub.status.busy": "2025-08-19T18:50:01.499808Z",
     "iopub.status.idle": "2025-08-19T18:50:01.510546Z",
     "shell.execute_reply": "2025-08-19T18:50:01.509306Z"
    },
    "papermill": {
     "duration": 0.041258,
     "end_time": "2025-08-19T18:50:01.513447",
     "exception": false,
     "start_time": "2025-08-19T18:50:01.472189",
     "status": "completed"
    },
    "tags": []
   },
   "outputs": [],
   "source": [
    "# Miscoverage level for conformal prediction (10% allowed error rate => 90% target coverage)\n",
    "alpha = 0.1"
   ]
  },
  {
   "cell_type": "code",
   "execution_count": 38,
   "id": "59102472",
   "metadata": {
    "execution": {
     "iopub.execute_input": "2025-08-19T18:50:01.545536Z",
     "iopub.status.busy": "2025-08-19T18:50:01.545137Z",
     "iopub.status.idle": "2025-08-19T18:50:01.714659Z",
     "shell.execute_reply": "2025-08-19T18:50:01.713589Z"
    },
    "papermill": {
     "duration": 0.183764,
     "end_time": "2025-08-19T18:50:01.716712",
     "exception": false,
     "start_time": "2025-08-19T18:50:01.532948",
     "status": "completed"
    },
    "tags": []
   },
   "outputs": [],
   "source": [
    "probs_calib = model.predict_proba(X_calib)"
   ]
  },
  {
   "cell_type": "code",
   "execution_count": 39,
   "id": "a792d4dd",
   "metadata": {
    "execution": {
     "iopub.execute_input": "2025-08-19T18:50:01.765602Z",
     "iopub.status.busy": "2025-08-19T18:50:01.764515Z",
     "iopub.status.idle": "2025-08-19T18:50:01.833843Z",
     "shell.execute_reply": "2025-08-19T18:50:01.832089Z"
    },
    "papermill": {
     "duration": 0.101024,
     "end_time": "2025-08-19T18:50:01.837180",
     "exception": false,
     "start_time": "2025-08-19T18:50:01.736156",
     "status": "completed"
    },
    "tags": []
   },
   "outputs": [],
   "source": [
    "y_calib = y_calib.values.ravel().astype(int)"
   ]
  },
  {
   "cell_type": "code",
   "execution_count": 40,
   "id": "650fd033",
   "metadata": {
    "execution": {
     "iopub.execute_input": "2025-08-19T18:50:01.877191Z",
     "iopub.status.busy": "2025-08-19T18:50:01.875856Z",
     "iopub.status.idle": "2025-08-19T18:50:01.890137Z",
     "shell.execute_reply": "2025-08-19T18:50:01.889038Z"
    },
    "papermill": {
     "duration": 0.030368,
     "end_time": "2025-08-19T18:50:01.891794",
     "exception": false,
     "start_time": "2025-08-19T18:50:01.861426",
     "status": "completed"
    },
    "tags": []
   },
   "outputs": [],
   "source": [
    "from fairness_multiverse.conformal import compute_nc_scores\n",
    "\n",
    "# Compute nonconformity scores on calibration set (1 - probability of true class)\n",
    "nc_scores = compute_nc_scores(probs_calib, y_calib)"
   ]
  },
  {
   "cell_type": "code",
   "execution_count": 41,
   "id": "28ada44c",
   "metadata": {
    "execution": {
     "iopub.execute_input": "2025-08-19T18:50:01.922084Z",
     "iopub.status.busy": "2025-08-19T18:50:01.921014Z",
     "iopub.status.idle": "2025-08-19T18:50:01.931611Z",
     "shell.execute_reply": "2025-08-19T18:50:01.930386Z"
    },
    "papermill": {
     "duration": 0.031001,
     "end_time": "2025-08-19T18:50:01.937668",
     "exception": false,
     "start_time": "2025-08-19T18:50:01.906667",
     "status": "completed"
    },
    "tags": []
   },
   "outputs": [],
   "source": [
    "from fairness_multiverse.conformal import find_threshold\n",
    "\n",
    "# Find conformal threshold q_hat for the given alpha (split conformal method)\n",
    "q_hat = find_threshold(nc_scores, alpha)"
   ]
  },
  {
   "cell_type": "code",
   "execution_count": 42,
   "id": "df56469e",
   "metadata": {
    "execution": {
     "iopub.execute_input": "2025-08-19T18:50:01.966902Z",
     "iopub.status.busy": "2025-08-19T18:50:01.965943Z",
     "iopub.status.idle": "2025-08-19T18:50:01.980130Z",
     "shell.execute_reply": "2025-08-19T18:50:01.978746Z"
    },
    "papermill": {
     "duration": 0.029371,
     "end_time": "2025-08-19T18:50:01.982209",
     "exception": false,
     "start_time": "2025-08-19T18:50:01.952838",
     "status": "completed"
    },
    "tags": []
   },
   "outputs": [
    {
     "data": {
      "text/plain": [
       "0.7455398907909114"
      ]
     },
     "execution_count": 42,
     "metadata": {},
     "output_type": "execute_result"
    }
   ],
   "source": [
    "q_hat"
   ]
  },
  {
   "cell_type": "code",
   "execution_count": 43,
   "id": "aa1f5faa",
   "metadata": {
    "execution": {
     "iopub.execute_input": "2025-08-19T18:50:02.009293Z",
     "iopub.status.busy": "2025-08-19T18:50:02.008322Z",
     "iopub.status.idle": "2025-08-19T18:50:02.622891Z",
     "shell.execute_reply": "2025-08-19T18:50:02.621411Z"
    },
    "papermill": {
     "duration": 0.630899,
     "end_time": "2025-08-19T18:50:02.626321",
     "exception": false,
     "start_time": "2025-08-19T18:50:01.995422",
     "status": "completed"
    },
    "tags": []
   },
   "outputs": [],
   "source": [
    "from fairness_multiverse.conformal import predict_conformal_sets\n",
    "\n",
    "# Generate prediction sets for each test example\n",
    "pred_sets = predict_conformal_sets(model, X_test, q_hat)"
   ]
  },
  {
   "cell_type": "code",
   "execution_count": 44,
   "id": "97f67a6b",
   "metadata": {
    "execution": {
     "iopub.execute_input": "2025-08-19T18:50:02.667927Z",
     "iopub.status.busy": "2025-08-19T18:50:02.666629Z",
     "iopub.status.idle": "2025-08-19T18:50:02.679201Z",
     "shell.execute_reply": "2025-08-19T18:50:02.678269Z"
    },
    "papermill": {
     "duration": 0.028758,
     "end_time": "2025-08-19T18:50:02.680921",
     "exception": false,
     "start_time": "2025-08-19T18:50:02.652163",
     "status": "completed"
    },
    "tags": []
   },
   "outputs": [],
   "source": [
    "y_true = y_true.squeeze()"
   ]
  },
  {
   "cell_type": "code",
   "execution_count": 45,
   "id": "e700e9a7",
   "metadata": {
    "execution": {
     "iopub.execute_input": "2025-08-19T18:50:02.707315Z",
     "iopub.status.busy": "2025-08-19T18:50:02.707020Z",
     "iopub.status.idle": "2025-08-19T18:50:03.270406Z",
     "shell.execute_reply": "2025-08-19T18:50:03.269098Z"
    },
    "papermill": {
     "duration": 0.577842,
     "end_time": "2025-08-19T18:50:03.272223",
     "exception": false,
     "start_time": "2025-08-19T18:50:02.694381",
     "status": "completed"
    },
    "tags": []
   },
   "outputs": [],
   "source": [
    "from fairness_multiverse.conformal import evaluate_sets\n",
    "\n",
    "# Evaluate coverage and average set size on test data\n",
    "metrics = evaluate_sets(pred_sets, y_true)"
   ]
  },
  {
   "cell_type": "markdown",
   "id": "efbacec0",
   "metadata": {
    "papermill": {
     "duration": 0.02898,
     "end_time": "2025-08-19T18:50:03.314594",
     "exception": false,
     "start_time": "2025-08-19T18:50:03.285614",
     "status": "completed"
    },
    "tags": []
   },
   "source": [
    "# CP Metrics"
   ]
  },
  {
   "cell_type": "code",
   "execution_count": 46,
   "id": "9de55fb1",
   "metadata": {
    "execution": {
     "iopub.execute_input": "2025-08-19T18:50:03.343749Z",
     "iopub.status.busy": "2025-08-19T18:50:03.342656Z",
     "iopub.status.idle": "2025-08-19T18:50:03.357486Z",
     "shell.execute_reply": "2025-08-19T18:50:03.356290Z"
    },
    "papermill": {
     "duration": 0.030619,
     "end_time": "2025-08-19T18:50:03.359049",
     "exception": false,
     "start_time": "2025-08-19T18:50:03.328430",
     "status": "completed"
    },
    "tags": []
   },
   "outputs": [
    {
     "data": {
      "text/plain": [
       "{'coverage': 0.9080370081373313, 'avg_size': 1.201961877159737}"
      ]
     },
     "execution_count": 46,
     "metadata": {},
     "output_type": "execute_result"
    }
   ],
   "source": [
    "metrics"
   ]
  },
  {
   "cell_type": "code",
   "execution_count": 47,
   "id": "64c340a1",
   "metadata": {
    "execution": {
     "iopub.execute_input": "2025-08-19T18:50:03.394093Z",
     "iopub.status.busy": "2025-08-19T18:50:03.392731Z",
     "iopub.status.idle": "2025-08-19T18:50:03.437549Z",
     "shell.execute_reply": "2025-08-19T18:50:03.435664Z"
    },
    "papermill": {
     "duration": 0.077525,
     "end_time": "2025-08-19T18:50:03.455040",
     "exception": false,
     "start_time": "2025-08-19T18:50:03.377515",
     "status": "completed"
    },
    "tags": []
   },
   "outputs": [],
   "source": [
    "example_universe = universe.copy()\n",
    "universe_training_year = example_universe.get(\"training_year\")\n",
    "universe_training_size = example_universe.get(\"training_size\")\n",
    "universe_scale = example_universe.get(\"scale\")\n",
    "universe_model = example_universe.get(\"model\")\n",
    "universe_exclude_features = example_universe.get(\"exclude_features\")\n",
    "universe_exclude_subgroups = example_universe.get(\"exclude_subgroups\")"
   ]
  },
  {
   "cell_type": "code",
   "execution_count": 48,
   "id": "dbb53cb4",
   "metadata": {
    "execution": {
     "iopub.execute_input": "2025-08-19T18:50:03.516754Z",
     "iopub.status.busy": "2025-08-19T18:50:03.515678Z",
     "iopub.status.idle": "2025-08-19T18:50:03.526248Z",
     "shell.execute_reply": "2025-08-19T18:50:03.524938Z"
    },
    "papermill": {
     "duration": 0.035152,
     "end_time": "2025-08-19T18:50:03.527731",
     "exception": false,
     "start_time": "2025-08-19T18:50:03.492579",
     "status": "completed"
    },
    "tags": []
   },
   "outputs": [],
   "source": [
    "cp_metrics_dict = {\n",
    "    \"universe_id\": [universe_id],\n",
    "    \"universe_training_year\": [universe_training_year],\n",
    "    \"universe_training_size\": [universe_training_size],\n",
    "    \"universe_scale\": [universe_scale],\n",
    "    \"universe_model\": [universe_model],\n",
    "    \"universe_exclude_features\": [universe_exclude_features],\n",
    "    \"universe_exclude_subgroups\": [universe_exclude_subgroups],\n",
    "    \"q_hat\": [q_hat],\n",
    "    \"coverage\": [metrics[\"coverage\"]],\n",
    "    \"avg_size\": [metrics[\"avg_size\"]],\n",
    "}"
   ]
  },
  {
   "cell_type": "code",
   "execution_count": 49,
   "id": "0d70d4b2",
   "metadata": {
    "execution": {
     "iopub.execute_input": "2025-08-19T18:50:03.558495Z",
     "iopub.status.busy": "2025-08-19T18:50:03.557457Z",
     "iopub.status.idle": "2025-08-19T18:50:03.569861Z",
     "shell.execute_reply": "2025-08-19T18:50:03.568345Z"
    },
    "papermill": {
     "duration": 0.02788,
     "end_time": "2025-08-19T18:50:03.571583",
     "exception": false,
     "start_time": "2025-08-19T18:50:03.543703",
     "status": "completed"
    },
    "tags": []
   },
   "outputs": [],
   "source": [
    "cp_metrics_df = pd.DataFrame(cp_metrics_dict)"
   ]
  },
  {
   "cell_type": "code",
   "execution_count": 50,
   "id": "b494403c",
   "metadata": {
    "execution": {
     "iopub.execute_input": "2025-08-19T18:50:03.605088Z",
     "iopub.status.busy": "2025-08-19T18:50:03.604664Z",
     "iopub.status.idle": "2025-08-19T18:50:03.617299Z",
     "shell.execute_reply": "2025-08-19T18:50:03.616632Z"
    },
    "papermill": {
     "duration": 0.02809,
     "end_time": "2025-08-19T18:50:03.618544",
     "exception": false,
     "start_time": "2025-08-19T18:50:03.590454",
     "status": "completed"
    },
    "tags": []
   },
   "outputs": [
    {
     "data": {
      "text/html": [
       "<div>\n",
       "<style scoped>\n",
       "    .dataframe tbody tr th:only-of-type {\n",
       "        vertical-align: middle;\n",
       "    }\n",
       "\n",
       "    .dataframe tbody tr th {\n",
       "        vertical-align: top;\n",
       "    }\n",
       "\n",
       "    .dataframe thead th {\n",
       "        text-align: right;\n",
       "    }\n",
       "</style>\n",
       "<table border=\"1\" class=\"dataframe\">\n",
       "  <thead>\n",
       "    <tr style=\"text-align: right;\">\n",
       "      <th></th>\n",
       "      <th>universe_id</th>\n",
       "      <th>universe_training_year</th>\n",
       "      <th>universe_training_size</th>\n",
       "      <th>universe_scale</th>\n",
       "      <th>universe_model</th>\n",
       "      <th>universe_exclude_features</th>\n",
       "      <th>universe_exclude_subgroups</th>\n",
       "      <th>q_hat</th>\n",
       "      <th>coverage</th>\n",
       "      <th>avg_size</th>\n",
       "    </tr>\n",
       "  </thead>\n",
       "  <tbody>\n",
       "    <tr>\n",
       "      <th>0</th>\n",
       "      <td>e1e7bd20b1896a0d9ac6a0e6a3c5d600</td>\n",
       "      <td>2014</td>\n",
       "      <td>1k</td>\n",
       "      <td>scale</td>\n",
       "      <td>penalized_logreg</td>\n",
       "      <td>nationality-sex</td>\n",
       "      <td>keep-all</td>\n",
       "      <td>0.74554</td>\n",
       "      <td>0.908037</td>\n",
       "      <td>1.201962</td>\n",
       "    </tr>\n",
       "  </tbody>\n",
       "</table>\n",
       "</div>"
      ],
      "text/plain": [
       "                        universe_id universe_training_year  \\\n",
       "0  e1e7bd20b1896a0d9ac6a0e6a3c5d600                   2014   \n",
       "\n",
       "  universe_training_size universe_scale    universe_model  \\\n",
       "0                     1k          scale  penalized_logreg   \n",
       "\n",
       "  universe_exclude_features universe_exclude_subgroups    q_hat  coverage  \\\n",
       "0           nationality-sex                   keep-all  0.74554  0.908037   \n",
       "\n",
       "   avg_size  \n",
       "0  1.201962  "
      ]
     },
     "execution_count": 50,
     "metadata": {},
     "output_type": "execute_result"
    }
   ],
   "source": [
    "cp_metrics_df"
   ]
  },
  {
   "cell_type": "markdown",
   "id": "ed608b0b",
   "metadata": {
    "papermill": {
     "duration": 0.012063,
     "end_time": "2025-08-19T18:50:03.645540",
     "exception": false,
     "start_time": "2025-08-19T18:50:03.633477",
     "status": "completed"
    },
    "tags": []
   },
   "source": [
    "Conditional coverage & looking at subgroups"
   ]
  },
  {
   "cell_type": "code",
   "execution_count": 51,
   "id": "8968c366",
   "metadata": {
    "execution": {
     "iopub.execute_input": "2025-08-19T18:50:03.672742Z",
     "iopub.status.busy": "2025-08-19T18:50:03.670798Z",
     "iopub.status.idle": "2025-08-19T18:50:03.946308Z",
     "shell.execute_reply": "2025-08-19T18:50:03.945510Z"
    },
    "papermill": {
     "duration": 0.290308,
     "end_time": "2025-08-19T18:50:03.947650",
     "exception": false,
     "start_time": "2025-08-19T18:50:03.657342",
     "status": "completed"
    },
    "tags": []
   },
   "outputs": [],
   "source": [
    "from fairness_multiverse.conformal import build_cp_groups\n",
    "\n",
    "cp_groups_df = build_cp_groups(pred_sets, y_true, X_test.index, org_test)"
   ]
  },
  {
   "cell_type": "code",
   "execution_count": 52,
   "id": "292ddabf",
   "metadata": {
    "execution": {
     "iopub.execute_input": "2025-08-19T18:50:03.978628Z",
     "iopub.status.busy": "2025-08-19T18:50:03.978182Z",
     "iopub.status.idle": "2025-08-19T18:50:04.857041Z",
     "shell.execute_reply": "2025-08-19T18:50:04.855877Z"
    },
    "papermill": {
     "duration": 0.897583,
     "end_time": "2025-08-19T18:50:04.858699",
     "exception": false,
     "start_time": "2025-08-19T18:50:03.961116",
     "status": "completed"
    },
    "tags": []
   },
   "outputs": [],
   "source": [
    "# Define covered = 1 if true_label is in the predicted set\n",
    "cp_groups_df['covered'] = cp_groups_df.apply(\n",
    "    lambda r: int(r['true_label'] in r['pred_set']),\n",
    "    axis=1\n",
    ")"
   ]
  },
  {
   "cell_type": "code",
   "execution_count": 53,
   "id": "3a261692",
   "metadata": {
    "execution": {
     "iopub.execute_input": "2025-08-19T18:50:04.884699Z",
     "iopub.status.busy": "2025-08-19T18:50:04.884260Z",
     "iopub.status.idle": "2025-08-19T18:50:04.896497Z",
     "shell.execute_reply": "2025-08-19T18:50:04.895879Z"
    },
    "papermill": {
     "duration": 0.027575,
     "end_time": "2025-08-19T18:50:04.899074",
     "exception": false,
     "start_time": "2025-08-19T18:50:04.871499",
     "status": "completed"
    },
    "tags": []
   },
   "outputs": [],
   "source": [
    "subgroups = ['frau1','nongerman','nongerman_male','nongerman_female']\n",
    "\n",
    "# Conditional coverage for subgroup==1\n",
    "cond_coverage = {\n",
    "    g: cp_groups_df.loc[cp_groups_df[g]==1, 'covered'].mean()\n",
    "    for g in subgroups\n",
    "}"
   ]
  },
  {
   "cell_type": "code",
   "execution_count": 54,
   "id": "894fd600",
   "metadata": {
    "execution": {
     "iopub.execute_input": "2025-08-19T18:50:04.942929Z",
     "iopub.status.busy": "2025-08-19T18:50:04.941035Z",
     "iopub.status.idle": "2025-08-19T18:50:04.954105Z",
     "shell.execute_reply": "2025-08-19T18:50:04.952676Z"
    },
    "papermill": {
     "duration": 0.030079,
     "end_time": "2025-08-19T18:50:04.955761",
     "exception": false,
     "start_time": "2025-08-19T18:50:04.925682",
     "status": "completed"
    },
    "tags": []
   },
   "outputs": [
    {
     "data": {
      "text/plain": [
       "{'frau1': 0.9050545895673271,\n",
       " 'nongerman': 0.9081569640150452,\n",
       " 'nongerman_male': 0.9257858236512654,\n",
       " 'nongerman_female': 0.8789865871833085}"
      ]
     },
     "execution_count": 54,
     "metadata": {},
     "output_type": "execute_result"
    }
   ],
   "source": [
    "cond_coverage"
   ]
  },
  {
   "cell_type": "code",
   "execution_count": 55,
   "id": "942895c7",
   "metadata": {
    "execution": {
     "iopub.execute_input": "2025-08-19T18:50:04.992955Z",
     "iopub.status.busy": "2025-08-19T18:50:04.990852Z",
     "iopub.status.idle": "2025-08-19T18:50:05.109159Z",
     "shell.execute_reply": "2025-08-19T18:50:05.108465Z"
    },
    "papermill": {
     "duration": 0.138117,
     "end_time": "2025-08-19T18:50:05.112017",
     "exception": false,
     "start_time": "2025-08-19T18:50:04.973900",
     "status": "completed"
    },
    "tags": []
   },
   "outputs": [],
   "source": [
    "for subgroup, cov in cond_coverage.items():\n",
    "    cp_metrics_df[f\"cov_{subgroup}\"] = cov"
   ]
  },
  {
   "cell_type": "code",
   "execution_count": 56,
   "id": "3970120f",
   "metadata": {
    "execution": {
     "iopub.execute_input": "2025-08-19T18:50:05.157272Z",
     "iopub.status.busy": "2025-08-19T18:50:05.155639Z",
     "iopub.status.idle": "2025-08-19T18:50:05.689426Z",
     "shell.execute_reply": "2025-08-19T18:50:05.687827Z"
    },
    "papermill": {
     "duration": 0.550017,
     "end_time": "2025-08-19T18:50:05.690755",
     "exception": false,
     "start_time": "2025-08-19T18:50:05.140738",
     "status": "completed"
    },
    "tags": []
   },
   "outputs": [
    {
     "data": {
      "text/html": [
       "<div>\n",
       "<style scoped>\n",
       "    .dataframe tbody tr th:only-of-type {\n",
       "        vertical-align: middle;\n",
       "    }\n",
       "\n",
       "    .dataframe tbody tr th {\n",
       "        vertical-align: top;\n",
       "    }\n",
       "\n",
       "    .dataframe thead th {\n",
       "        text-align: right;\n",
       "    }\n",
       "</style>\n",
       "<table border=\"1\" class=\"dataframe\">\n",
       "  <thead>\n",
       "    <tr style=\"text-align: right;\">\n",
       "      <th></th>\n",
       "      <th>universe_id</th>\n",
       "      <th>universe_training_year</th>\n",
       "      <th>universe_training_size</th>\n",
       "      <th>universe_scale</th>\n",
       "      <th>universe_model</th>\n",
       "      <th>universe_exclude_features</th>\n",
       "      <th>universe_exclude_subgroups</th>\n",
       "      <th>q_hat</th>\n",
       "      <th>coverage</th>\n",
       "      <th>avg_size</th>\n",
       "      <th>cov_frau1</th>\n",
       "      <th>cov_nongerman</th>\n",
       "      <th>cov_nongerman_male</th>\n",
       "      <th>cov_nongerman_female</th>\n",
       "    </tr>\n",
       "  </thead>\n",
       "  <tbody>\n",
       "    <tr>\n",
       "      <th>0</th>\n",
       "      <td>e1e7bd20b1896a0d9ac6a0e6a3c5d600</td>\n",
       "      <td>2014</td>\n",
       "      <td>1k</td>\n",
       "      <td>scale</td>\n",
       "      <td>penalized_logreg</td>\n",
       "      <td>nationality-sex</td>\n",
       "      <td>keep-all</td>\n",
       "      <td>0.74554</td>\n",
       "      <td>0.908037</td>\n",
       "      <td>1.201962</td>\n",
       "      <td>0.905055</td>\n",
       "      <td>0.908157</td>\n",
       "      <td>0.925786</td>\n",
       "      <td>0.878987</td>\n",
       "    </tr>\n",
       "  </tbody>\n",
       "</table>\n",
       "</div>"
      ],
      "text/plain": [
       "                        universe_id universe_training_year  \\\n",
       "0  e1e7bd20b1896a0d9ac6a0e6a3c5d600                   2014   \n",
       "\n",
       "  universe_training_size universe_scale    universe_model  \\\n",
       "0                     1k          scale  penalized_logreg   \n",
       "\n",
       "  universe_exclude_features universe_exclude_subgroups    q_hat  coverage  \\\n",
       "0           nationality-sex                   keep-all  0.74554  0.908037   \n",
       "\n",
       "   avg_size  cov_frau1  cov_nongerman  cov_nongerman_male  \\\n",
       "0  1.201962   0.905055       0.908157            0.925786   \n",
       "\n",
       "   cov_nongerman_female  \n",
       "0              0.878987  "
      ]
     },
     "execution_count": 56,
     "metadata": {},
     "output_type": "execute_result"
    }
   ],
   "source": [
    "cp_metrics_df"
   ]
  },
  {
   "cell_type": "markdown",
   "id": "3fc519cc",
   "metadata": {
    "papermill": {
     "duration": 0.012189,
     "end_time": "2025-08-19T18:50:05.715985",
     "exception": false,
     "start_time": "2025-08-19T18:50:05.703796",
     "status": "completed"
    },
    "tags": []
   },
   "source": [
    "# (Fairness) Metrics"
   ]
  },
  {
   "cell_type": "code",
   "execution_count": 57,
   "id": "a2e5e155",
   "metadata": {
    "execution": {
     "iopub.execute_input": "2025-08-19T18:50:05.743038Z",
     "iopub.status.busy": "2025-08-19T18:50:05.741650Z",
     "iopub.status.idle": "2025-08-19T18:50:05.770356Z",
     "shell.execute_reply": "2025-08-19T18:50:05.769558Z"
    },
    "papermill": {
     "duration": 0.044203,
     "end_time": "2025-08-19T18:50:05.772241",
     "exception": false,
     "start_time": "2025-08-19T18:50:05.728038",
     "status": "completed"
    },
    "tags": []
   },
   "outputs": [],
   "source": [
    "colname_to_bin = \"maxdeutsch1\"\n",
    "majority_value = org_train[colname_to_bin].mode()[0]\n",
    "\n",
    "org_test[\"majmin\"] = np.where(org_test[colname_to_bin] == majority_value, \"majority\", \"minority\")"
   ]
  },
  {
   "cell_type": "code",
   "execution_count": 58,
   "id": "17e3e4d5",
   "metadata": {
    "execution": {
     "iopub.execute_input": "2025-08-19T18:50:05.841841Z",
     "iopub.status.busy": "2025-08-19T18:50:05.840568Z",
     "iopub.status.idle": "2025-08-19T18:50:07.558910Z",
     "shell.execute_reply": "2025-08-19T18:50:07.557580Z"
    },
    "papermill": {
     "duration": 1.742929,
     "end_time": "2025-08-19T18:50:07.561420",
     "exception": false,
     "start_time": "2025-08-19T18:50:05.818491",
     "status": "completed"
    },
    "tags": []
   },
   "outputs": [],
   "source": [
    "example_universe = universe.copy()\n",
    "example_universe[\"cutoff\"] = example_universe[\"cutoff\"][0]\n",
    "example_universe[\"eval_fairness_grouping\"] = example_universe[\"eval_fairness_grouping\"][0]\n",
    "fairness_dict, metric_frame = universe_analysis.compute_metrics(\n",
    "    example_universe,\n",
    "    y_pred_prob=probs_test,\n",
    "    y_test=y_true,\n",
    "    org_test=org_test,\n",
    ")"
   ]
  },
  {
   "cell_type": "markdown",
   "id": "1fb7a0e9",
   "metadata": {
    "papermill": {
     "duration": 0.01405,
     "end_time": "2025-08-19T18:50:07.603642",
     "exception": false,
     "start_time": "2025-08-19T18:50:07.589592",
     "status": "completed"
    },
    "tags": []
   },
   "source": [
    "# Overall"
   ]
  },
  {
   "cell_type": "markdown",
   "id": "be1784b1",
   "metadata": {
    "papermill": {
     "duration": 0.012615,
     "end_time": "2025-08-19T18:50:07.630789",
     "exception": false,
     "start_time": "2025-08-19T18:50:07.618174",
     "status": "completed"
    },
    "tags": []
   },
   "source": [
    "Main fairness target: Equalized Odds. Seems to be a better fit than equal opportunity, since we're not only interested in Y = 1. Seems to be a better fit than demographic parity, since we also care about accuracy, not just equal distribution of preds.\n",
    "\n",
    "Pick column for computation of fairness metrics\n",
    "\n",
    "Performance\n",
    "Overall performance measures, most interesting in relation to the measures split by group below"
   ]
  },
  {
   "cell_type": "code",
   "execution_count": 59,
   "id": "b7672bee",
   "metadata": {
    "execution": {
     "iopub.execute_input": "2025-08-19T18:50:07.659313Z",
     "iopub.status.busy": "2025-08-19T18:50:07.658703Z",
     "iopub.status.idle": "2025-08-19T18:50:07.667294Z",
     "shell.execute_reply": "2025-08-19T18:50:07.666599Z"
    },
    "papermill": {
     "duration": 0.025432,
     "end_time": "2025-08-19T18:50:07.668572",
     "exception": false,
     "start_time": "2025-08-19T18:50:07.643140",
     "status": "completed"
    },
    "tags": []
   },
   "outputs": [
    {
     "data": {
      "text/plain": [
       "accuracy                   0.220210\n",
       "balanced accuracy          0.539315\n",
       "f1                         0.241656\n",
       "precision                  0.138050\n",
       "false positive rate        0.889913\n",
       "false negative rate        0.031456\n",
       "selection rate             0.900000\n",
       "count                  89710.000000\n",
       "dtype: float64"
      ]
     },
     "execution_count": 59,
     "metadata": {},
     "output_type": "execute_result"
    }
   ],
   "source": [
    "metric_frame.overall"
   ]
  },
  {
   "cell_type": "markdown",
   "id": "d93333c9",
   "metadata": {
    "papermill": {
     "duration": 0.01332,
     "end_time": "2025-08-19T18:50:07.698831",
     "exception": false,
     "start_time": "2025-08-19T18:50:07.685511",
     "status": "completed"
    },
    "tags": []
   },
   "source": [
    "By Group"
   ]
  },
  {
   "cell_type": "code",
   "execution_count": 60,
   "id": "52256966",
   "metadata": {
    "execution": {
     "iopub.execute_input": "2025-08-19T18:50:07.728036Z",
     "iopub.status.busy": "2025-08-19T18:50:07.727185Z",
     "iopub.status.idle": "2025-08-19T18:50:07.751209Z",
     "shell.execute_reply": "2025-08-19T18:50:07.750352Z"
    },
    "papermill": {
     "duration": 0.041848,
     "end_time": "2025-08-19T18:50:07.753716",
     "exception": false,
     "start_time": "2025-08-19T18:50:07.711868",
     "status": "completed"
    },
    "tags": []
   },
   "outputs": [
    {
     "data": {
      "text/html": [
       "<div>\n",
       "<style scoped>\n",
       "    .dataframe tbody tr th:only-of-type {\n",
       "        vertical-align: middle;\n",
       "    }\n",
       "\n",
       "    .dataframe tbody tr th {\n",
       "        vertical-align: top;\n",
       "    }\n",
       "\n",
       "    .dataframe thead th {\n",
       "        text-align: right;\n",
       "    }\n",
       "</style>\n",
       "<table border=\"1\" class=\"dataframe\">\n",
       "  <thead>\n",
       "    <tr style=\"text-align: right;\">\n",
       "      <th></th>\n",
       "      <th>accuracy</th>\n",
       "      <th>balanced accuracy</th>\n",
       "      <th>f1</th>\n",
       "      <th>precision</th>\n",
       "      <th>false positive rate</th>\n",
       "      <th>false negative rate</th>\n",
       "      <th>selection rate</th>\n",
       "      <th>count</th>\n",
       "    </tr>\n",
       "    <tr>\n",
       "      <th>majmin</th>\n",
       "      <th></th>\n",
       "      <th></th>\n",
       "      <th></th>\n",
       "      <th></th>\n",
       "      <th></th>\n",
       "      <th></th>\n",
       "      <th></th>\n",
       "      <th></th>\n",
       "    </tr>\n",
       "  </thead>\n",
       "  <tbody>\n",
       "    <tr>\n",
       "      <th>majority</th>\n",
       "      <td>0.239714</td>\n",
       "      <td>0.547415</td>\n",
       "      <td>0.251306</td>\n",
       "      <td>0.144449</td>\n",
       "      <td>0.870815</td>\n",
       "      <td>0.034354</td>\n",
       "      <td>0.883345</td>\n",
       "      <td>69170.0</td>\n",
       "    </tr>\n",
       "    <tr>\n",
       "      <th>minority</th>\n",
       "      <td>0.154528</td>\n",
       "      <td>0.513363</td>\n",
       "      <td>0.210852</td>\n",
       "      <td>0.118138</td>\n",
       "      <td>0.953005</td>\n",
       "      <td>0.020270</td>\n",
       "      <td>0.956086</td>\n",
       "      <td>20540.0</td>\n",
       "    </tr>\n",
       "  </tbody>\n",
       "</table>\n",
       "</div>"
      ],
      "text/plain": [
       "          accuracy  balanced accuracy        f1  precision  \\\n",
       "majmin                                                       \n",
       "majority  0.239714           0.547415  0.251306   0.144449   \n",
       "minority  0.154528           0.513363  0.210852   0.118138   \n",
       "\n",
       "          false positive rate  false negative rate  selection rate    count  \n",
       "majmin                                                                       \n",
       "majority             0.870815             0.034354        0.883345  69170.0  \n",
       "minority             0.953005             0.020270        0.956086  20540.0  "
      ]
     },
     "execution_count": 60,
     "metadata": {},
     "output_type": "execute_result"
    }
   ],
   "source": [
    "metric_frame.by_group"
   ]
  },
  {
   "cell_type": "code",
   "execution_count": 61,
   "id": "6e6c20ae",
   "metadata": {
    "execution": {
     "iopub.execute_input": "2025-08-19T18:50:07.809212Z",
     "iopub.status.busy": "2025-08-19T18:50:07.808753Z",
     "iopub.status.idle": "2025-08-19T18:50:09.618047Z",
     "shell.execute_reply": "2025-08-19T18:50:09.617070Z"
    },
    "papermill": {
     "duration": 1.839685,
     "end_time": "2025-08-19T18:50:09.619627",
     "exception": false,
     "start_time": "2025-08-19T18:50:07.779942",
     "status": "completed"
    },
    "tags": []
   },
   "outputs": [
    {
     "data": {
      "text/plain": [
       "array([[<Axes: title={'center': 'accuracy'}, xlabel='majmin'>,\n",
       "        <Axes: title={'center': 'balanced accuracy'}, xlabel='majmin'>,\n",
       "        <Axes: title={'center': 'f1'}, xlabel='majmin'>],\n",
       "       [<Axes: title={'center': 'precision'}, xlabel='majmin'>,\n",
       "        <Axes: title={'center': 'false positive rate'}, xlabel='majmin'>,\n",
       "        <Axes: title={'center': 'false negative rate'}, xlabel='majmin'>],\n",
       "       [<Axes: title={'center': 'selection rate'}, xlabel='majmin'>,\n",
       "        <Axes: title={'center': 'count'}, xlabel='majmin'>,\n",
       "        <Axes: xlabel='majmin'>]], dtype=object)"
      ]
     },
     "execution_count": 61,
     "metadata": {},
     "output_type": "execute_result"
    },
    {
     "data": {
      "image/png": "[encoded data removed]",
      "text/plain": [
       "<Figure size 1200x800 with 9 Axes>"
      ]
     },
     "metadata": {},
     "output_type": "display_data"
    }
   ],
   "source": [
    "# In a graphic\n",
    "metric_frame.by_group.plot.bar(\n",
    "    subplots=True,\n",
    "    layout=[3, 3],\n",
    "    legend=False,\n",
    "    figsize=[12, 8],\n",
    "    title=\"Show all metrics\",\n",
    ")"
   ]
  },
  {
   "cell_type": "markdown",
   "id": "b2e433ae",
   "metadata": {
    "papermill": {
     "duration": 0.01519,
     "end_time": "2025-08-19T18:50:09.653562",
     "exception": false,
     "start_time": "2025-08-19T18:50:09.638372",
     "status": "completed"
    },
    "tags": []
   },
   "source": [
    "# Final Output"
   ]
  },
  {
   "cell_type": "code",
   "execution_count": 62,
   "id": "3871301e",
   "metadata": {
    "execution": {
     "iopub.execute_input": "2025-08-19T18:50:09.685615Z",
     "iopub.status.busy": "2025-08-19T18:50:09.683391Z",
     "iopub.status.idle": "2025-08-19T18:50:09.702324Z",
     "shell.execute_reply": "2025-08-19T18:50:09.701351Z"
    },
    "papermill": {
     "duration": 0.036321,
     "end_time": "2025-08-19T18:50:09.703664",
     "exception": false,
     "start_time": "2025-08-19T18:50:09.667343",
     "status": "completed"
    },
    "tags": []
   },
   "outputs": [
    {
     "data": {
      "text/plain": [
       "4"
      ]
     },
     "execution_count": 62,
     "metadata": {},
     "output_type": "execute_result"
    }
   ],
   "source": [
    "sub_universes = universe_analysis.generate_sub_universes()\n",
    "len(sub_universes)"
   ]
  },
  {
   "cell_type": "code",
   "execution_count": 63,
   "id": "d9cfdaca",
   "metadata": {
    "execution": {
     "iopub.execute_input": "2025-08-19T18:50:09.750438Z",
     "iopub.status.busy": "2025-08-19T18:50:09.749453Z",
     "iopub.status.idle": "2025-08-19T18:50:09.755194Z",
     "shell.execute_reply": "2025-08-19T18:50:09.754346Z"
    },
    "papermill": {
     "duration": 0.027023,
     "end_time": "2025-08-19T18:50:09.756455",
     "exception": false,
     "start_time": "2025-08-19T18:50:09.729432",
     "status": "completed"
    },
    "tags": []
   },
   "outputs": [],
   "source": [
    "def filter_sub_universe_data(sub_universe, org_test):\n",
    "    # Keep all rows — no filtering\n",
    "    keep_rows_mask = np.ones(org_test.shape[0], dtype=bool)\n",
    "\n",
    "    print(f\"[INFO] Keeping all rows: {keep_rows_mask.sum()} rows retained.\")\n",
    "    return keep_rows_mask"
   ]
  },
  {
   "cell_type": "code",
   "execution_count": 64,
   "id": "2bc31ac1",
   "metadata": {
    "execution": {
     "iopub.execute_input": "2025-08-19T18:50:09.787875Z",
     "iopub.status.busy": "2025-08-19T18:50:09.786783Z",
     "iopub.status.idle": "2025-08-19T18:50:16.620995Z",
     "shell.execute_reply": "2025-08-19T18:50:16.619977Z"
    },
    "papermill": {
     "duration": 6.851094,
     "end_time": "2025-08-19T18:50:16.622547",
     "exception": false,
     "start_time": "2025-08-19T18:50:09.771453",
     "status": "completed"
    },
    "tags": []
   },
   "outputs": [
    {
     "name": "stdout",
     "output_type": "stream",
     "text": [
      "Stopping execution_time clock.\n",
      "[INFO] Keeping all rows: 89710 rows retained.\n"
     ]
    },
    {
     "name": "stdout",
     "output_type": "stream",
     "text": [
      "[INFO] Keeping all rows: 89710 rows retained.\n"
     ]
    },
    {
     "name": "stdout",
     "output_type": "stream",
     "text": [
      "[INFO] Keeping all rows: 89710 rows retained.\n"
     ]
    },
    {
     "name": "stdout",
     "output_type": "stream",
     "text": [
      "[INFO] Keeping all rows: 89710 rows retained.\n"
     ]
    },
    {
     "data": {
      "text/html": [
       "<div>\n",
       "<style scoped>\n",
       "    .dataframe tbody tr th:only-of-type {\n",
       "        vertical-align: middle;\n",
       "    }\n",
       "\n",
       "    .dataframe tbody tr th {\n",
       "        vertical-align: top;\n",
       "    }\n",
       "\n",
       "    .dataframe thead th {\n",
       "        text-align: right;\n",
       "    }\n",
       "</style>\n",
       "<table border=\"1\" class=\"dataframe\">\n",
       "  <thead>\n",
       "    <tr style=\"text-align: right;\">\n",
       "      <th></th>\n",
       "      <th>run_no</th>\n",
       "      <th>universe_id</th>\n",
       "      <th>universe_settings</th>\n",
       "      <th>execution_time</th>\n",
       "      <th>test_size_n</th>\n",
       "      <th>test_size_frac</th>\n",
       "      <th>fair_main_equalized_odds_difference</th>\n",
       "      <th>fair_main_equalized_odds_ratio</th>\n",
       "      <th>fair_main_demographic_parity_difference</th>\n",
       "      <th>fair_main_demographic_parity_ratio</th>\n",
       "      <th>...</th>\n",
       "      <th>perf_grp_precision_0</th>\n",
       "      <th>perf_grp_precision_1</th>\n",
       "      <th>perf_grp_false positive rate_0</th>\n",
       "      <th>perf_grp_false positive rate_1</th>\n",
       "      <th>perf_grp_false negative rate_0</th>\n",
       "      <th>perf_grp_false negative rate_1</th>\n",
       "      <th>perf_grp_selection rate_0</th>\n",
       "      <th>perf_grp_selection rate_1</th>\n",
       "      <th>perf_grp_count_0</th>\n",
       "      <th>perf_grp_count_1</th>\n",
       "    </tr>\n",
       "  </thead>\n",
       "  <tbody>\n",
       "    <tr>\n",
       "      <th>0</th>\n",
       "      <td>3</td>\n",
       "      <td>e1e7bd20b1896a0d9ac6a0e6a3c5d600</td>\n",
       "      <td>{\"cutoff\": \"quantile_0.1\", \"eval_fairness_grou...</td>\n",
       "      <td>21.764554</td>\n",
       "      <td>89710</td>\n",
       "      <td>1.0</td>\n",
       "      <td>0.082190</td>\n",
       "      <td>0.913757</td>\n",
       "      <td>0.072740</td>\n",
       "      <td>0.923919</td>\n",
       "      <td>...</td>\n",
       "      <td>NaN</td>\n",
       "      <td>NaN</td>\n",
       "      <td>NaN</td>\n",
       "      <td>NaN</td>\n",
       "      <td>NaN</td>\n",
       "      <td>NaN</td>\n",
       "      <td>NaN</td>\n",
       "      <td>NaN</td>\n",
       "      <td>NaN</td>\n",
       "      <td>NaN</td>\n",
       "    </tr>\n",
       "    <tr>\n",
       "      <th>0</th>\n",
       "      <td>3</td>\n",
       "      <td>e1e7bd20b1896a0d9ac6a0e6a3c5d600</td>\n",
       "      <td>{\"cutoff\": \"quantile_0.1\", \"eval_fairness_grou...</td>\n",
       "      <td>21.764554</td>\n",
       "      <td>89710</td>\n",
       "      <td>1.0</td>\n",
       "      <td>0.082190</td>\n",
       "      <td>0.913757</td>\n",
       "      <td>0.072740</td>\n",
       "      <td>0.923919</td>\n",
       "      <td>...</td>\n",
       "      <td>0.118138</td>\n",
       "      <td>0.144449</td>\n",
       "      <td>0.953005</td>\n",
       "      <td>0.870815</td>\n",
       "      <td>0.02027</td>\n",
       "      <td>0.034354</td>\n",
       "      <td>0.956086</td>\n",
       "      <td>0.883345</td>\n",
       "      <td>20540.0</td>\n",
       "      <td>69170.0</td>\n",
       "    </tr>\n",
       "    <tr>\n",
       "      <th>0</th>\n",
       "      <td>3</td>\n",
       "      <td>e1e7bd20b1896a0d9ac6a0e6a3c5d600</td>\n",
       "      <td>{\"cutoff\": \"quantile_0.25\", \"eval_fairness_gro...</td>\n",
       "      <td>21.764554</td>\n",
       "      <td>89710</td>\n",
       "      <td>1.0</td>\n",
       "      <td>0.084137</td>\n",
       "      <td>0.893831</td>\n",
       "      <td>0.072937</td>\n",
       "      <td>0.909534</td>\n",
       "      <td>...</td>\n",
       "      <td>NaN</td>\n",
       "      <td>NaN</td>\n",
       "      <td>NaN</td>\n",
       "      <td>NaN</td>\n",
       "      <td>NaN</td>\n",
       "      <td>NaN</td>\n",
       "      <td>NaN</td>\n",
       "      <td>NaN</td>\n",
       "      <td>NaN</td>\n",
       "      <td>NaN</td>\n",
       "    </tr>\n",
       "    <tr>\n",
       "      <th>0</th>\n",
       "      <td>3</td>\n",
       "      <td>e1e7bd20b1896a0d9ac6a0e6a3c5d600</td>\n",
       "      <td>{\"cutoff\": \"quantile_0.25\", \"eval_fairness_gro...</td>\n",
       "      <td>21.764554</td>\n",
       "      <td>89710</td>\n",
       "      <td>1.0</td>\n",
       "      <td>0.084137</td>\n",
       "      <td>0.893831</td>\n",
       "      <td>0.072937</td>\n",
       "      <td>0.909534</td>\n",
       "      <td>...</td>\n",
       "      <td>0.130374</td>\n",
       "      <td>0.161666</td>\n",
       "      <td>0.792483</td>\n",
       "      <td>0.708346</td>\n",
       "      <td>0.08826</td>\n",
       "      <td>0.102845</td>\n",
       "      <td>0.806232</td>\n",
       "      <td>0.733295</td>\n",
       "      <td>20540.0</td>\n",
       "      <td>69170.0</td>\n",
       "    </tr>\n",
       "  </tbody>\n",
       "</table>\n",
       "<p>4 rows × 50 columns</p>\n",
       "</div>"
      ],
      "text/plain": [
       "  run_no                       universe_id  \\\n",
       "0      3  e1e7bd20b1896a0d9ac6a0e6a3c5d600   \n",
       "0      3  e1e7bd20b1896a0d9ac6a0e6a3c5d600   \n",
       "0      3  e1e7bd20b1896a0d9ac6a0e6a3c5d600   \n",
       "0      3  e1e7bd20b1896a0d9ac6a0e6a3c5d600   \n",
       "\n",
       "                                   universe_settings  execution_time  \\\n",
       "0  {\"cutoff\": \"quantile_0.1\", \"eval_fairness_grou...       21.764554   \n",
       "0  {\"cutoff\": \"quantile_0.1\", \"eval_fairness_grou...       21.764554   \n",
       "0  {\"cutoff\": \"quantile_0.25\", \"eval_fairness_gro...       21.764554   \n",
       "0  {\"cutoff\": \"quantile_0.25\", \"eval_fairness_gro...       21.764554   \n",
       "\n",
       "   test_size_n  test_size_frac  fair_main_equalized_odds_difference  \\\n",
       "0        89710             1.0                             0.082190   \n",
       "0        89710             1.0                             0.082190   \n",
       "0        89710             1.0                             0.084137   \n",
       "0        89710             1.0                             0.084137   \n",
       "\n",
       "   fair_main_equalized_odds_ratio  fair_main_demographic_parity_difference  \\\n",
       "0                        0.913757                                 0.072740   \n",
       "0                        0.913757                                 0.072740   \n",
       "0                        0.893831                                 0.072937   \n",
       "0                        0.893831                                 0.072937   \n",
       "\n",
       "   fair_main_demographic_parity_ratio  ...  perf_grp_precision_0  \\\n",
       "0                            0.923919  ...                   NaN   \n",
       "0                            0.923919  ...              0.118138   \n",
       "0                            0.909534  ...                   NaN   \n",
       "0                            0.909534  ...              0.130374   \n",
       "\n",
       "   perf_grp_precision_1  perf_grp_false positive rate_0  \\\n",
       "0                   NaN                             NaN   \n",
       "0              0.144449                        0.953005   \n",
       "0                   NaN                             NaN   \n",
       "0              0.161666                        0.792483   \n",
       "\n",
       "   perf_grp_false positive rate_1  perf_grp_false negative rate_0  \\\n",
       "0                             NaN                             NaN   \n",
       "0                        0.870815                         0.02027   \n",
       "0                             NaN                             NaN   \n",
       "0                        0.708346                         0.08826   \n",
       "\n",
       "   perf_grp_false negative rate_1  perf_grp_selection rate_0  \\\n",
       "0                             NaN                        NaN   \n",
       "0                        0.034354                   0.956086   \n",
       "0                             NaN                        NaN   \n",
       "0                        0.102845                   0.806232   \n",
       "\n",
       "   perf_grp_selection rate_1  perf_grp_count_0  perf_grp_count_1  \n",
       "0                        NaN               NaN               NaN  \n",
       "0                   0.883345           20540.0           69170.0  \n",
       "0                        NaN               NaN               NaN  \n",
       "0                   0.733295           20540.0           69170.0  \n",
       "\n",
       "[4 rows x 50 columns]"
      ]
     },
     "execution_count": 64,
     "metadata": {},
     "output_type": "execute_result"
    }
   ],
   "source": [
    "final_output = universe_analysis.generate_final_output(\n",
    "    y_pred_prob=probs_test,\n",
    "    y_test=y_true,\n",
    "    org_test=org_test,\n",
    "    filter_data=filter_sub_universe_data,\n",
    "    cp_metrics_df=cp_metrics_df,\n",
    "    save=True,\n",
    ")\n",
    "final_output"
   ]
  },
  {
   "cell_type": "code",
   "execution_count": null,
   "id": "8b80a1ff",
   "metadata": {
    "papermill": {
     "duration": 0.014358,
     "end_time": "2025-08-19T18:50:16.658581",
     "exception": false,
     "start_time": "2025-08-19T18:50:16.644223",
     "status": "completed"
    },
    "tags": []
   },
   "outputs": [],
   "source": []
  },
  {
   "cell_type": "code",
   "execution_count": null,
   "id": "275c9fad",
   "metadata": {
    "papermill": {
     "duration": 0.013958,
     "end_time": "2025-08-19T18:50:16.686758",
     "exception": false,
     "start_time": "2025-08-19T18:50:16.672800",
     "status": "completed"
    },
    "tags": []
   },
   "outputs": [],
   "source": []
  }
 ],
 "metadata": {
  "celltoolbar": "Tags",
  "kernelspec": {
   "display_name": "Python (CMA Fairness)",
   "language": "python",
   "name": "cma_fair_env"
  },
  "language_info": {
   "codemirror_mode": {
    "name": "ipython",
    "version": 3
   },
   "file_extension": ".py",
   "mimetype": "text/x-python",
   "name": "python",
   "nbconvert_exporter": "python",
   "pygments_lexer": "ipython3",
   "version": "3.10.12"
  },
  "papermill": {
   "default_parameters": {},
   "duration": 32.239871,
   "end_time": "2025-08-19T18:50:17.523865",
   "environment_variables": {},
   "exception": null,
   "input_path": "universe_analysis.ipynb",
   "output_path": "output/runs/3/notebooks/m_3-e1e7bd20b1896a0d9ac6a0e6a3c5d600.ipynb",
   "parameters": {
    "output_dir": "output",
    "run_no": "3",
    "seed": "2023",
    "universe": "{\"cutoff\": [\"quantile_0.1\", \"quantile_0.25\"], \"eval_fairness_grouping\": [\"majority-minority\", \"nationality-all\"], \"exclude_features\": \"nationality-sex\", \"exclude_subgroups\": \"keep-all\", \"model\": \"penalized_logreg\", \"scale\": \"scale\", \"training_size\": \"1k\", \"training_year\": \"2014\"}",
    "universe_id": "e1e7bd20b1896a0d9ac6a0e6a3c5d600"
   },
   "start_time": "2025-08-19T18:49:45.283994",
   "version": "2.6.0"
  }
 },
 "nbformat": 4,
 "nbformat_minor": 5
}