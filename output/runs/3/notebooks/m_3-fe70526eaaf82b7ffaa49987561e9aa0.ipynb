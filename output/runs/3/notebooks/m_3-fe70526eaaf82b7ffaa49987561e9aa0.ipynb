{
 "cells": [
  {
   "cell_type": "markdown",
   "id": "ef23dbb3",
   "metadata": {
    "papermill": {
     "duration": 0.010114,
     "end_time": "2025-08-19T19:02:04.497128",
     "exception": false,
     "start_time": "2025-08-19T19:02:04.487014",
     "status": "completed"
    },
    "tags": []
   },
   "source": [
    "# Setup"
   ]
  },
  {
   "cell_type": "code",
   "execution_count": 1,
   "id": "0bc8e7dc",
   "metadata": {
    "execution": {
     "iopub.execute_input": "2025-08-19T19:02:04.525141Z",
     "iopub.status.busy": "2025-08-19T19:02:04.524819Z",
     "iopub.status.idle": "2025-08-19T19:02:04.535094Z",
     "shell.execute_reply": "2025-08-19T19:02:04.534203Z"
    },
    "papermill": {
     "duration": 0.024769,
     "end_time": "2025-08-19T19:02:04.537235",
     "exception": false,
     "start_time": "2025-08-19T19:02:04.512466",
     "status": "completed"
    },
    "tags": []
   },
   "outputs": [
    {
     "name": "stdout",
     "output_type": "stream",
     "text": [
      "/dss/dsshome1/0C/ra93lal2/cma/CMA_Fairness_v2\n"
     ]
    },
    {
     "name": "stderr",
     "output_type": "stream",
     "text": [
      "/dss/dsshome1/0C/ra93lal2/.local/share/virtualenvs/CMA_Fairness_v2-3j10GkSs/lib/python3.10/site-packages/IPython/core/magics/osm.py:393: UserWarning: This is now an optional IPython functionality, using bookmarks requires you to install the `pickleshare` library.\n",
      "  bkms = self.shell.db.get('bookmarks', {})\n",
      "/dss/dsshome1/0C/ra93lal2/.local/share/virtualenvs/CMA_Fairness_v2-3j10GkSs/lib/python3.10/site-packages/IPython/core/magics/osm.py:417: UserWarning: This is now an optional IPython functionality, setting dhist requires you to install the `pickleshare` library.\n",
      "  self.shell.db['dhist'] = compress_dhist(dhist)[-100:]\n"
     ]
    }
   ],
   "source": [
    "%cd ~/cma/CMA_Fairness_v2"
   ]
  },
  {
   "cell_type": "markdown",
   "id": "9d235661",
   "metadata": {
    "papermill": {
     "duration": 0.010008,
     "end_time": "2025-08-19T19:02:04.561589",
     "exception": false,
     "start_time": "2025-08-19T19:02:04.551581",
     "status": "completed"
    },
    "tags": []
   },
   "source": [
    "The following cell holds the definition of our parameters, these values can be overriden by rendering the with e.g. the following command:\n",
    "\n",
    "papermill -p alpha 0.2 -p ratio 0.3 universe_analysis.ipynb output/test_run.ipynb"
   ]
  },
  {
   "cell_type": "code",
   "execution_count": 2,
   "id": "4a789d8e",
   "metadata": {
    "execution": {
     "iopub.execute_input": "2025-08-19T19:02:04.584853Z",
     "iopub.status.busy": "2025-08-19T19:02:04.583550Z",
     "iopub.status.idle": "2025-08-19T19:02:04.593364Z",
     "shell.execute_reply": "2025-08-19T19:02:04.592257Z"
    },
    "papermill": {
     "duration": 0.023419,
     "end_time": "2025-08-19T19:02:04.595481",
     "exception": false,
     "start_time": "2025-08-19T19:02:04.572062",
     "status": "completed"
    },
    "tags": []
   },
   "outputs": [
    {
     "name": "stdout",
     "output_type": "stream",
     "text": [
      "Current working directory: /dss/dsshome1/0C/ra93lal2/cma/CMA_Fairness_v2\n"
     ]
    }
   ],
   "source": [
    "import os\n",
    "print(\"Current working directory:\", os.getcwd())"
   ]
  },
  {
   "cell_type": "code",
   "execution_count": 3,
   "id": "4132aaed",
   "metadata": {
    "execution": {
     "iopub.execute_input": "2025-08-19T19:02:04.626335Z",
     "iopub.status.busy": "2025-08-19T19:02:04.625765Z",
     "iopub.status.idle": "2025-08-19T19:02:04.632536Z",
     "shell.execute_reply": "2025-08-19T19:02:04.631089Z"
    },
    "papermill": {
     "duration": 0.02033,
     "end_time": "2025-08-19T19:02:04.633959",
     "exception": false,
     "start_time": "2025-08-19T19:02:04.613629",
     "status": "completed"
    },
    "tags": [
     "parameters"
    ]
   },
   "outputs": [],
   "source": [
    "run_no = 0\n",
    "universe_id = \"test\"\n",
    "universe = {\n",
    "    \"training_size\": \"5k\", # \"25k\", \"5k\", \"1k\"\n",
    "    \"training_year\": \"2012_14\", # \"2014\", \"2012_14\", \"2010_14\"\n",
    "    \"scale\": \"scale\", # \"scale\", \"do-not-scale\",\n",
    "    \"model\": \"elasticnet\", # \"logreg\", \"penalized_logreg\", \"rf\", \"gbm\", \"elasticnet\"\n",
    "    \"cutoff\": [\"quantile_0.15\", \"quantile_0.30\"],\n",
    "    \"exclude_features\": \"age\", # \"none\", \"nationality\", \"sex\", \"nationality-sex\", \"age\"\n",
    "    \"exclude_subgroups\": \"drop-non-german\", # \"keep-all\", \"drop-non-german\"\n",
    "    \"eval_fairness_grouping\": [\"majority-minority\", \"nationality-all\"]\n",
    "}\n",
    "\n",
    "output_dir=\"./output\"\n",
    "seed=0"
   ]
  },
  {
   "cell_type": "code",
   "execution_count": 4,
   "id": "a3e53f18",
   "metadata": {
    "execution": {
     "iopub.execute_input": "2025-08-19T19:02:04.655675Z",
     "iopub.status.busy": "2025-08-19T19:02:04.655159Z",
     "iopub.status.idle": "2025-08-19T19:02:04.660142Z",
     "shell.execute_reply": "2025-08-19T19:02:04.659256Z"
    },
    "papermill": {
     "duration": 0.018634,
     "end_time": "2025-08-19T19:02:04.663234",
     "exception": false,
     "start_time": "2025-08-19T19:02:04.644600",
     "status": "completed"
    },
    "tags": [
     "injected-parameters"
    ]
   },
   "outputs": [],
   "source": [
    "# Parameters\n",
    "universe_id = \"fe70526eaaf82b7ffaa49987561e9aa0\"\n",
    "run_no = \"3\"\n",
    "universe = \"{\\\"cutoff\\\": [\\\"quantile_0.1\\\", \\\"quantile_0.25\\\"], \\\"eval_fairness_grouping\\\": [\\\"majority-minority\\\", \\\"nationality-all\\\"], \\\"exclude_features\\\": \\\"none\\\", \\\"exclude_subgroups\\\": \\\"drop-non-german\\\", \\\"model\\\": \\\"rf\\\", \\\"scale\\\": \\\"do-not-scale\\\", \\\"training_size\\\": \\\"1k\\\", \\\"training_year\\\": \\\"2012_14\\\"}\"\n",
    "output_dir = \"output\"\n",
    "seed = \"2023\"\n"
   ]
  },
  {
   "cell_type": "code",
   "execution_count": 5,
   "id": "a5d7941f",
   "metadata": {
    "execution": {
     "iopub.execute_input": "2025-08-19T19:02:04.702311Z",
     "iopub.status.busy": "2025-08-19T19:02:04.701061Z",
     "iopub.status.idle": "2025-08-19T19:02:04.708798Z",
     "shell.execute_reply": "2025-08-19T19:02:04.707310Z"
    },
    "papermill": {
     "duration": 0.02629,
     "end_time": "2025-08-19T19:02:04.710541",
     "exception": false,
     "start_time": "2025-08-19T19:02:04.684251",
     "status": "completed"
    },
    "tags": []
   },
   "outputs": [],
   "source": [
    "import json\n",
    "if isinstance(universe, str):\n",
    "    universe = json.loads(universe)"
   ]
  },
  {
   "cell_type": "code",
   "execution_count": 6,
   "id": "7076ccb1",
   "metadata": {
    "execution": {
     "iopub.execute_input": "2025-08-19T19:02:04.734764Z",
     "iopub.status.busy": "2025-08-19T19:02:04.733403Z",
     "iopub.status.idle": "2025-08-19T19:02:04.783320Z",
     "shell.execute_reply": "2025-08-19T19:02:04.782599Z"
    },
    "papermill": {
     "duration": 0.063309,
     "end_time": "2025-08-19T19:02:04.786102",
     "exception": false,
     "start_time": "2025-08-19T19:02:04.722793",
     "status": "completed"
    },
    "tags": []
   },
   "outputs": [],
   "source": [
    "# Auto-reload the custom package\n",
    "%load_ext autoreload\n",
    "%autoreload 1\n",
    "%aimport fairness_multiverse"
   ]
  },
  {
   "cell_type": "code",
   "execution_count": 7,
   "id": "94c8eb93",
   "metadata": {
    "execution": {
     "iopub.execute_input": "2025-08-19T19:02:04.822213Z",
     "iopub.status.busy": "2025-08-19T19:02:04.821305Z",
     "iopub.status.idle": "2025-08-19T19:02:06.608268Z",
     "shell.execute_reply": "2025-08-19T19:02:06.607442Z"
    },
    "papermill": {
     "duration": 1.803214,
     "end_time": "2025-08-19T19:02:06.609913",
     "exception": false,
     "start_time": "2025-08-19T19:02:04.806699",
     "status": "completed"
    },
    "tags": []
   },
   "outputs": [],
   "source": [
    "from fairness_multiverse.universe import UniverseAnalysis\n",
    "\n",
    "universe_analysis = UniverseAnalysis(\n",
    "    run_no = run_no,\n",
    "    universe_id = universe_id,\n",
    "    universe = universe,\n",
    "    output_dir=output_dir,\n",
    ")"
   ]
  },
  {
   "cell_type": "code",
   "execution_count": 8,
   "id": "2a6381cf",
   "metadata": {
    "execution": {
     "iopub.execute_input": "2025-08-19T19:02:06.629941Z",
     "iopub.status.busy": "2025-08-19T19:02:06.629649Z",
     "iopub.status.idle": "2025-08-19T19:02:06.635257Z",
     "shell.execute_reply": "2025-08-19T19:02:06.634435Z"
    },
    "papermill": {
     "duration": 0.018023,
     "end_time": "2025-08-19T19:02:06.637356",
     "exception": false,
     "start_time": "2025-08-19T19:02:06.619333",
     "status": "completed"
    },
    "tags": []
   },
   "outputs": [
    {
     "name": "stdout",
     "output_type": "stream",
     "text": [
      "Using Seed: 2023\n"
     ]
    }
   ],
   "source": [
    "import numpy as np\n",
    "parsed_seed = int(seed)\n",
    "np.random.seed(parsed_seed)\n",
    "print(f\"Using Seed: {parsed_seed}\")"
   ]
  },
  {
   "cell_type": "markdown",
   "id": "b6e958b4",
   "metadata": {
    "papermill": {
     "duration": 0.013694,
     "end_time": "2025-08-19T19:02:06.662676",
     "exception": false,
     "start_time": "2025-08-19T19:02:06.648982",
     "status": "completed"
    },
    "tags": []
   },
   "source": [
    "# Loading Data"
   ]
  },
  {
   "cell_type": "code",
   "execution_count": 9,
   "id": "98701482",
   "metadata": {
    "execution": {
     "iopub.execute_input": "2025-08-19T19:02:06.683351Z",
     "iopub.status.busy": "2025-08-19T19:02:06.683054Z",
     "iopub.status.idle": "2025-08-19T19:02:16.897360Z",
     "shell.execute_reply": "2025-08-19T19:02:16.896428Z"
    },
    "papermill": {
     "duration": 10.225651,
     "end_time": "2025-08-19T19:02:16.898705",
     "exception": false,
     "start_time": "2025-08-19T19:02:06.673054",
     "status": "completed"
    },
    "tags": []
   },
   "outputs": [
    {
     "name": "stdout",
     "output_type": "stream",
     "text": [
      "Loading SIAB data from cache: data/siab_cached.csv.gz\n"
     ]
    },
    {
     "name": "stdout",
     "output_type": "stream",
     "text": [
      "(643690, 164)\n"
     ]
    }
   ],
   "source": [
    "from pathlib import Path\n",
    "import pandas as pd\n",
    "\n",
    "# File paths\n",
    "raw_file = Path(\"data/raw/siab.csv\")\n",
    "cache_file = Path(\"data/siab_cached.csv.gz\")\n",
    "\n",
    "# Ensure cache directory exists\n",
    "cache_file.parent.mkdir(parents=True, exist_ok=True)\n",
    "\n",
    "# Load with simple caching\n",
    "if cache_file.exists():\n",
    "    print(f\"Loading SIAB data from cache: {cache_file}\")\n",
    "    siab = pd.read_csv(cache_file, compression='gzip')\n",
    "else:\n",
    "    print(f\"Cache not found. Reading raw SIAB data: {raw_file}\")\n",
    "    siab = pd.read_csv(raw_file)\n",
    "    siab.to_csv(cache_file, index=False, compression='gzip')\n",
    "    print(f\"Cached SIAB data to: {cache_file}\")\n",
    "\n",
    "print(siab.shape)"
   ]
  },
  {
   "cell_type": "code",
   "execution_count": 10,
   "id": "058d2abb",
   "metadata": {
    "execution": {
     "iopub.execute_input": "2025-08-19T19:02:16.928293Z",
     "iopub.status.busy": "2025-08-19T19:02:16.927459Z",
     "iopub.status.idle": "2025-08-19T19:02:17.106466Z",
     "shell.execute_reply": "2025-08-19T19:02:17.105687Z"
    },
    "papermill": {
     "duration": 0.196273,
     "end_time": "2025-08-19T19:02:17.108024",
     "exception": false,
     "start_time": "2025-08-19T19:02:16.911751",
     "status": "completed"
    },
    "tags": []
   },
   "outputs": [
    {
     "data": {
      "text/html": [
       "<div>\n",
       "<style scoped>\n",
       "    .dataframe tbody tr th:only-of-type {\n",
       "        vertical-align: middle;\n",
       "    }\n",
       "\n",
       "    .dataframe tbody tr th {\n",
       "        vertical-align: top;\n",
       "    }\n",
       "\n",
       "    .dataframe thead th {\n",
       "        text-align: right;\n",
       "    }\n",
       "</style>\n",
       "<table border=\"1\" class=\"dataframe\">\n",
       "  <thead>\n",
       "    <tr style=\"text-align: right;\">\n",
       "      <th></th>\n",
       "      <th>persnr</th>\n",
       "      <th>year</th>\n",
       "      <th>nrEntry</th>\n",
       "      <th>ltue</th>\n",
       "      <th>employed_before</th>\n",
       "      <th>receipt_leh_before</th>\n",
       "      <th>receipt_lhg_before</th>\n",
       "      <th>se_before</th>\n",
       "      <th>ASU_notue_seeking_before</th>\n",
       "      <th>ASU_other_before</th>\n",
       "      <th>...</th>\n",
       "      <th>minijob_tot_dur_byage</th>\n",
       "      <th>ft_tot_dur_byage</th>\n",
       "      <th>befrist_tot_dur_byage</th>\n",
       "      <th>leih_tot_dur_byage</th>\n",
       "      <th>LHG_tot_dur_byage</th>\n",
       "      <th>LEH_tot_dur_byage</th>\n",
       "      <th>almp_tot_dur_byage</th>\n",
       "      <th>almp_aw_tot_dur_byage</th>\n",
       "      <th>se_tot_dur_byage</th>\n",
       "      <th>seeking1_tot_dur_byage</th>\n",
       "    </tr>\n",
       "  </thead>\n",
       "  <tbody>\n",
       "    <tr>\n",
       "      <th>0</th>\n",
       "      <td>7</td>\n",
       "      <td>2015</td>\n",
       "      <td>1</td>\n",
       "      <td>0</td>\n",
       "      <td>1</td>\n",
       "      <td>0</td>\n",
       "      <td>0</td>\n",
       "      <td>0</td>\n",
       "      <td>1</td>\n",
       "      <td>0</td>\n",
       "      <td>...</td>\n",
       "      <td>0.000000</td>\n",
       "      <td>0.000000</td>\n",
       "      <td>15.043478</td>\n",
       "      <td>0.000000</td>\n",
       "      <td>0.000000</td>\n",
       "      <td>0.000000</td>\n",
       "      <td>0.000000</td>\n",
       "      <td>0.000000</td>\n",
       "      <td>0.000000</td>\n",
       "      <td>0.000000</td>\n",
       "    </tr>\n",
       "    <tr>\n",
       "      <th>1</th>\n",
       "      <td>18</td>\n",
       "      <td>2010</td>\n",
       "      <td>1</td>\n",
       "      <td>1</td>\n",
       "      <td>0</td>\n",
       "      <td>0</td>\n",
       "      <td>0</td>\n",
       "      <td>0</td>\n",
       "      <td>0</td>\n",
       "      <td>0</td>\n",
       "      <td>...</td>\n",
       "      <td>0.000000</td>\n",
       "      <td>0.000000</td>\n",
       "      <td>0.000000</td>\n",
       "      <td>0.000000</td>\n",
       "      <td>0.000000</td>\n",
       "      <td>0.000000</td>\n",
       "      <td>0.000000</td>\n",
       "      <td>0.000000</td>\n",
       "      <td>0.000000</td>\n",
       "      <td>0.000000</td>\n",
       "    </tr>\n",
       "    <tr>\n",
       "      <th>2</th>\n",
       "      <td>18</td>\n",
       "      <td>2011</td>\n",
       "      <td>2</td>\n",
       "      <td>0</td>\n",
       "      <td>1</td>\n",
       "      <td>0</td>\n",
       "      <td>1</td>\n",
       "      <td>0</td>\n",
       "      <td>1</td>\n",
       "      <td>0</td>\n",
       "      <td>...</td>\n",
       "      <td>2.714286</td>\n",
       "      <td>2.714286</td>\n",
       "      <td>0.000000</td>\n",
       "      <td>0.000000</td>\n",
       "      <td>10.775510</td>\n",
       "      <td>0.000000</td>\n",
       "      <td>8.367347</td>\n",
       "      <td>0.000000</td>\n",
       "      <td>0.000000</td>\n",
       "      <td>9.836735</td>\n",
       "    </tr>\n",
       "    <tr>\n",
       "      <th>3</th>\n",
       "      <td>18</td>\n",
       "      <td>2012</td>\n",
       "      <td>3</td>\n",
       "      <td>0</td>\n",
       "      <td>1</td>\n",
       "      <td>0</td>\n",
       "      <td>1</td>\n",
       "      <td>0</td>\n",
       "      <td>1</td>\n",
       "      <td>0</td>\n",
       "      <td>...</td>\n",
       "      <td>4.200000</td>\n",
       "      <td>4.200000</td>\n",
       "      <td>0.000000</td>\n",
       "      <td>0.000000</td>\n",
       "      <td>12.100000</td>\n",
       "      <td>0.000000</td>\n",
       "      <td>9.400000</td>\n",
       "      <td>0.000000</td>\n",
       "      <td>0.000000</td>\n",
       "      <td>9.960000</td>\n",
       "    </tr>\n",
       "    <tr>\n",
       "      <th>4</th>\n",
       "      <td>18</td>\n",
       "      <td>2012</td>\n",
       "      <td>4</td>\n",
       "      <td>0</td>\n",
       "      <td>1</td>\n",
       "      <td>0</td>\n",
       "      <td>1</td>\n",
       "      <td>0</td>\n",
       "      <td>1</td>\n",
       "      <td>0</td>\n",
       "      <td>...</td>\n",
       "      <td>5.460000</td>\n",
       "      <td>5.460000</td>\n",
       "      <td>0.000000</td>\n",
       "      <td>0.000000</td>\n",
       "      <td>13.360000</td>\n",
       "      <td>0.000000</td>\n",
       "      <td>10.320000</td>\n",
       "      <td>0.000000</td>\n",
       "      <td>0.000000</td>\n",
       "      <td>10.280000</td>\n",
       "    </tr>\n",
       "    <tr>\n",
       "      <th>...</th>\n",
       "      <td>...</td>\n",
       "      <td>...</td>\n",
       "      <td>...</td>\n",
       "      <td>...</td>\n",
       "      <td>...</td>\n",
       "      <td>...</td>\n",
       "      <td>...</td>\n",
       "      <td>...</td>\n",
       "      <td>...</td>\n",
       "      <td>...</td>\n",
       "      <td>...</td>\n",
       "      <td>...</td>\n",
       "      <td>...</td>\n",
       "      <td>...</td>\n",
       "      <td>...</td>\n",
       "      <td>...</td>\n",
       "      <td>...</td>\n",
       "      <td>...</td>\n",
       "      <td>...</td>\n",
       "      <td>...</td>\n",
       "      <td>...</td>\n",
       "    </tr>\n",
       "    <tr>\n",
       "      <th>643685</th>\n",
       "      <td>1827860</td>\n",
       "      <td>2013</td>\n",
       "      <td>1</td>\n",
       "      <td>0</td>\n",
       "      <td>0</td>\n",
       "      <td>0</td>\n",
       "      <td>1</td>\n",
       "      <td>0</td>\n",
       "      <td>0</td>\n",
       "      <td>1</td>\n",
       "      <td>...</td>\n",
       "      <td>0.000000</td>\n",
       "      <td>0.000000</td>\n",
       "      <td>0.000000</td>\n",
       "      <td>0.000000</td>\n",
       "      <td>0.612903</td>\n",
       "      <td>0.000000</td>\n",
       "      <td>0.000000</td>\n",
       "      <td>0.000000</td>\n",
       "      <td>0.000000</td>\n",
       "      <td>0.000000</td>\n",
       "    </tr>\n",
       "    <tr>\n",
       "      <th>643686</th>\n",
       "      <td>1827860</td>\n",
       "      <td>2015</td>\n",
       "      <td>2</td>\n",
       "      <td>1</td>\n",
       "      <td>0</td>\n",
       "      <td>0</td>\n",
       "      <td>1</td>\n",
       "      <td>0</td>\n",
       "      <td>1</td>\n",
       "      <td>0</td>\n",
       "      <td>...</td>\n",
       "      <td>0.000000</td>\n",
       "      <td>0.000000</td>\n",
       "      <td>0.212121</td>\n",
       "      <td>0.212121</td>\n",
       "      <td>17.363636</td>\n",
       "      <td>0.000000</td>\n",
       "      <td>8.909091</td>\n",
       "      <td>0.000000</td>\n",
       "      <td>0.000000</td>\n",
       "      <td>7.121212</td>\n",
       "    </tr>\n",
       "    <tr>\n",
       "      <th>643687</th>\n",
       "      <td>1827860</td>\n",
       "      <td>2016</td>\n",
       "      <td>3</td>\n",
       "      <td>1</td>\n",
       "      <td>0</td>\n",
       "      <td>0</td>\n",
       "      <td>1</td>\n",
       "      <td>1</td>\n",
       "      <td>0</td>\n",
       "      <td>1</td>\n",
       "      <td>...</td>\n",
       "      <td>0.000000</td>\n",
       "      <td>0.000000</td>\n",
       "      <td>0.294118</td>\n",
       "      <td>0.205882</td>\n",
       "      <td>34.705882</td>\n",
       "      <td>0.000000</td>\n",
       "      <td>10.352941</td>\n",
       "      <td>1.705882</td>\n",
       "      <td>1.705882</td>\n",
       "      <td>23.911765</td>\n",
       "    </tr>\n",
       "    <tr>\n",
       "      <th>643688</th>\n",
       "      <td>1827869</td>\n",
       "      <td>2013</td>\n",
       "      <td>1</td>\n",
       "      <td>1</td>\n",
       "      <td>1</td>\n",
       "      <td>0</td>\n",
       "      <td>0</td>\n",
       "      <td>0</td>\n",
       "      <td>1</td>\n",
       "      <td>0</td>\n",
       "      <td>...</td>\n",
       "      <td>0.000000</td>\n",
       "      <td>0.000000</td>\n",
       "      <td>0.000000</td>\n",
       "      <td>0.000000</td>\n",
       "      <td>0.000000</td>\n",
       "      <td>0.525424</td>\n",
       "      <td>0.000000</td>\n",
       "      <td>0.000000</td>\n",
       "      <td>0.000000</td>\n",
       "      <td>0.000000</td>\n",
       "    </tr>\n",
       "    <tr>\n",
       "      <th>643689</th>\n",
       "      <td>1827869</td>\n",
       "      <td>2014</td>\n",
       "      <td>2</td>\n",
       "      <td>0</td>\n",
       "      <td>0</td>\n",
       "      <td>1</td>\n",
       "      <td>0</td>\n",
       "      <td>0</td>\n",
       "      <td>1</td>\n",
       "      <td>0</td>\n",
       "      <td>...</td>\n",
       "      <td>0.000000</td>\n",
       "      <td>0.666667</td>\n",
       "      <td>0.666667</td>\n",
       "      <td>0.000000</td>\n",
       "      <td>0.000000</td>\n",
       "      <td>8.950000</td>\n",
       "      <td>1.033333</td>\n",
       "      <td>0.083333</td>\n",
       "      <td>0.083333</td>\n",
       "      <td>8.133333</td>\n",
       "    </tr>\n",
       "  </tbody>\n",
       "</table>\n",
       "<p>643690 rows × 164 columns</p>\n",
       "</div>"
      ],
      "text/plain": [
       "         persnr  year  nrEntry  ltue  employed_before  receipt_leh_before  \\\n",
       "0             7  2015        1     0                1                   0   \n",
       "1            18  2010        1     1                0                   0   \n",
       "2            18  2011        2     0                1                   0   \n",
       "3            18  2012        3     0                1                   0   \n",
       "4            18  2012        4     0                1                   0   \n",
       "...         ...   ...      ...   ...              ...                 ...   \n",
       "643685  1827860  2013        1     0                0                   0   \n",
       "643686  1827860  2015        2     1                0                   0   \n",
       "643687  1827860  2016        3     1                0                   0   \n",
       "643688  1827869  2013        1     1                1                   0   \n",
       "643689  1827869  2014        2     0                0                   1   \n",
       "\n",
       "        receipt_lhg_before  se_before  ASU_notue_seeking_before  \\\n",
       "0                        0          0                         1   \n",
       "1                        0          0                         0   \n",
       "2                        1          0                         1   \n",
       "3                        1          0                         1   \n",
       "4                        1          0                         1   \n",
       "...                    ...        ...                       ...   \n",
       "643685                   1          0                         0   \n",
       "643686                   1          0                         1   \n",
       "643687                   1          1                         0   \n",
       "643688                   0          0                         1   \n",
       "643689                   0          0                         1   \n",
       "\n",
       "        ASU_other_before  ...  minijob_tot_dur_byage  ft_tot_dur_byage  \\\n",
       "0                      0  ...               0.000000          0.000000   \n",
       "1                      0  ...               0.000000          0.000000   \n",
       "2                      0  ...               2.714286          2.714286   \n",
       "3                      0  ...               4.200000          4.200000   \n",
       "4                      0  ...               5.460000          5.460000   \n",
       "...                  ...  ...                    ...               ...   \n",
       "643685                 1  ...               0.000000          0.000000   \n",
       "643686                 0  ...               0.000000          0.000000   \n",
       "643687                 1  ...               0.000000          0.000000   \n",
       "643688                 0  ...               0.000000          0.000000   \n",
       "643689                 0  ...               0.000000          0.666667   \n",
       "\n",
       "        befrist_tot_dur_byage  leih_tot_dur_byage  LHG_tot_dur_byage  \\\n",
       "0                   15.043478            0.000000           0.000000   \n",
       "1                    0.000000            0.000000           0.000000   \n",
       "2                    0.000000            0.000000          10.775510   \n",
       "3                    0.000000            0.000000          12.100000   \n",
       "4                    0.000000            0.000000          13.360000   \n",
       "...                       ...                 ...                ...   \n",
       "643685               0.000000            0.000000           0.612903   \n",
       "643686               0.212121            0.212121          17.363636   \n",
       "643687               0.294118            0.205882          34.705882   \n",
       "643688               0.000000            0.000000           0.000000   \n",
       "643689               0.666667            0.000000           0.000000   \n",
       "\n",
       "        LEH_tot_dur_byage  almp_tot_dur_byage  almp_aw_tot_dur_byage  \\\n",
       "0                0.000000            0.000000               0.000000   \n",
       "1                0.000000            0.000000               0.000000   \n",
       "2                0.000000            8.367347               0.000000   \n",
       "3                0.000000            9.400000               0.000000   \n",
       "4                0.000000           10.320000               0.000000   \n",
       "...                   ...                 ...                    ...   \n",
       "643685           0.000000            0.000000               0.000000   \n",
       "643686           0.000000            8.909091               0.000000   \n",
       "643687           0.000000           10.352941               1.705882   \n",
       "643688           0.525424            0.000000               0.000000   \n",
       "643689           8.950000            1.033333               0.083333   \n",
       "\n",
       "        se_tot_dur_byage  seeking1_tot_dur_byage  \n",
       "0               0.000000                0.000000  \n",
       "1               0.000000                0.000000  \n",
       "2               0.000000                9.836735  \n",
       "3               0.000000                9.960000  \n",
       "4               0.000000               10.280000  \n",
       "...                  ...                     ...  \n",
       "643685          0.000000                0.000000  \n",
       "643686          0.000000                7.121212  \n",
       "643687          1.705882               23.911765  \n",
       "643688          0.000000                0.000000  \n",
       "643689          0.083333                8.133333  \n",
       "\n",
       "[643690 rows x 164 columns]"
      ]
     },
     "execution_count": 10,
     "metadata": {},
     "output_type": "execute_result"
    }
   ],
   "source": [
    "siab"
   ]
  },
  {
   "cell_type": "markdown",
   "id": "1f87e805",
   "metadata": {
    "papermill": {
     "duration": 0.011564,
     "end_time": "2025-08-19T19:02:17.131734",
     "exception": false,
     "start_time": "2025-08-19T19:02:17.120170",
     "status": "completed"
    },
    "tags": []
   },
   "source": [
    "# Splitting Data and Setting Training Data Size"
   ]
  },
  {
   "cell_type": "code",
   "execution_count": 11,
   "id": "910ae358",
   "metadata": {
    "execution": {
     "iopub.execute_input": "2025-08-19T19:02:17.153453Z",
     "iopub.status.busy": "2025-08-19T19:02:17.153039Z",
     "iopub.status.idle": "2025-08-19T19:02:17.905005Z",
     "shell.execute_reply": "2025-08-19T19:02:17.903783Z"
    },
    "papermill": {
     "duration": 0.76491,
     "end_time": "2025-08-19T19:02:17.906479",
     "exception": false,
     "start_time": "2025-08-19T19:02:17.141569",
     "status": "completed"
    },
    "tags": []
   },
   "outputs": [],
   "source": [
    "from fairness_multiverse.universe import sample_by_year_size\n",
    "\n",
    "siab_train = sample_by_year_size(siab,\n",
    "                               training_year=universe[\"training_year\"],\n",
    "                               training_size=universe[\"training_size\"])"
   ]
  },
  {
   "cell_type": "code",
   "execution_count": 12,
   "id": "919c8ff5",
   "metadata": {
    "execution": {
     "iopub.execute_input": "2025-08-19T19:02:17.929445Z",
     "iopub.status.busy": "2025-08-19T19:02:17.928902Z",
     "iopub.status.idle": "2025-08-19T19:02:17.935656Z",
     "shell.execute_reply": "2025-08-19T19:02:17.935012Z"
    },
    "papermill": {
     "duration": 0.020678,
     "end_time": "2025-08-19T19:02:17.938066",
     "exception": false,
     "start_time": "2025-08-19T19:02:17.917388",
     "status": "completed"
    },
    "tags": []
   },
   "outputs": [
    {
     "data": {
      "text/plain": [
       "(1000, 164)"
      ]
     },
     "execution_count": 12,
     "metadata": {},
     "output_type": "execute_result"
    }
   ],
   "source": [
    "siab_train.shape"
   ]
  },
  {
   "cell_type": "code",
   "execution_count": 13,
   "id": "feb13bf4",
   "metadata": {
    "execution": {
     "iopub.execute_input": "2025-08-19T19:02:17.960941Z",
     "iopub.status.busy": "2025-08-19T19:02:17.960522Z",
     "iopub.status.idle": "2025-08-19T19:02:17.968649Z",
     "shell.execute_reply": "2025-08-19T19:02:17.967974Z"
    },
    "papermill": {
     "duration": 0.022421,
     "end_time": "2025-08-19T19:02:17.971165",
     "exception": false,
     "start_time": "2025-08-19T19:02:17.948744",
     "status": "completed"
    },
    "tags": []
   },
   "outputs": [
    {
     "data": {
      "text/plain": [
       "year\n",
       "2012    334\n",
       "2013    333\n",
       "2014    333\n",
       "dtype: int64"
      ]
     },
     "metadata": {},
     "output_type": "display_data"
    }
   ],
   "source": [
    "display(siab_train.groupby(\"year\").size())"
   ]
  },
  {
   "cell_type": "code",
   "execution_count": 14,
   "id": "0997782f",
   "metadata": {
    "execution": {
     "iopub.execute_input": "2025-08-19T19:02:17.994131Z",
     "iopub.status.busy": "2025-08-19T19:02:17.993719Z",
     "iopub.status.idle": "2025-08-19T19:02:18.323284Z",
     "shell.execute_reply": "2025-08-19T19:02:18.322557Z"
    },
    "papermill": {
     "duration": 0.34284,
     "end_time": "2025-08-19T19:02:18.324692",
     "exception": false,
     "start_time": "2025-08-19T19:02:17.981852",
     "status": "completed"
    },
    "tags": []
   },
   "outputs": [],
   "source": [
    "#siab_train = siab_s[siab_s.year < 2015]\n",
    "siab_calib = siab[siab.year == 2015]\n",
    "siab_test = siab[siab.year == 2016]"
   ]
  },
  {
   "cell_type": "code",
   "execution_count": 15,
   "id": "2c1e4012",
   "metadata": {
    "execution": {
     "iopub.execute_input": "2025-08-19T19:02:18.346573Z",
     "iopub.status.busy": "2025-08-19T19:02:18.345845Z",
     "iopub.status.idle": "2025-08-19T19:02:18.351228Z",
     "shell.execute_reply": "2025-08-19T19:02:18.350254Z"
    },
    "papermill": {
     "duration": 0.017664,
     "end_time": "2025-08-19T19:02:18.352620",
     "exception": false,
     "start_time": "2025-08-19T19:02:18.334956",
     "status": "completed"
    },
    "tags": []
   },
   "outputs": [],
   "source": [
    "#siab_calib.shape"
   ]
  },
  {
   "cell_type": "code",
   "execution_count": 16,
   "id": "f66b54ca",
   "metadata": {
    "execution": {
     "iopub.execute_input": "2025-08-19T19:02:18.388415Z",
     "iopub.status.busy": "2025-08-19T19:02:18.387414Z",
     "iopub.status.idle": "2025-08-19T19:02:18.395431Z",
     "shell.execute_reply": "2025-08-19T19:02:18.393635Z"
    },
    "papermill": {
     "duration": 0.039795,
     "end_time": "2025-08-19T19:02:18.402554",
     "exception": false,
     "start_time": "2025-08-19T19:02:18.362759",
     "status": "completed"
    },
    "tags": []
   },
   "outputs": [],
   "source": [
    "#siab_test.shape"
   ]
  },
  {
   "cell_type": "code",
   "execution_count": 17,
   "id": "27e4384d",
   "metadata": {
    "execution": {
     "iopub.execute_input": "2025-08-19T19:02:18.431780Z",
     "iopub.status.busy": "2025-08-19T19:02:18.431363Z",
     "iopub.status.idle": "2025-08-19T19:02:18.437251Z",
     "shell.execute_reply": "2025-08-19T19:02:18.436438Z"
    },
    "papermill": {
     "duration": 0.02007,
     "end_time": "2025-08-19T19:02:18.438892",
     "exception": false,
     "start_time": "2025-08-19T19:02:18.418822",
     "status": "completed"
    },
    "tags": []
   },
   "outputs": [],
   "source": [
    "X_train = siab_train.iloc[:,4:164]\n",
    "y_train = siab_train.iloc[:, [3]]"
   ]
  },
  {
   "cell_type": "code",
   "execution_count": 18,
   "id": "08ee8389",
   "metadata": {
    "execution": {
     "iopub.execute_input": "2025-08-19T19:02:18.462410Z",
     "iopub.status.busy": "2025-08-19T19:02:18.461996Z",
     "iopub.status.idle": "2025-08-19T19:02:18.523057Z",
     "shell.execute_reply": "2025-08-19T19:02:18.521737Z"
    },
    "papermill": {
     "duration": 0.074093,
     "end_time": "2025-08-19T19:02:18.524598",
     "exception": false,
     "start_time": "2025-08-19T19:02:18.450505",
     "status": "completed"
    },
    "tags": []
   },
   "outputs": [],
   "source": [
    "X_calib = siab_calib.iloc[:,4:164]\n",
    "y_calib = siab_calib.iloc[:, [3]]"
   ]
  },
  {
   "cell_type": "code",
   "execution_count": 19,
   "id": "b7ff42e0",
   "metadata": {
    "execution": {
     "iopub.execute_input": "2025-08-19T19:02:18.552813Z",
     "iopub.status.busy": "2025-08-19T19:02:18.551902Z",
     "iopub.status.idle": "2025-08-19T19:02:18.630355Z",
     "shell.execute_reply": "2025-08-19T19:02:18.629455Z"
    },
    "papermill": {
     "duration": 0.094126,
     "end_time": "2025-08-19T19:02:18.632188",
     "exception": false,
     "start_time": "2025-08-19T19:02:18.538062",
     "status": "completed"
    },
    "tags": []
   },
   "outputs": [],
   "source": [
    "X_test = siab_test.iloc[:,4:164]\n",
    "y_true = siab_test.iloc[:, [3]]"
   ]
  },
  {
   "cell_type": "code",
   "execution_count": 20,
   "id": "0275101e",
   "metadata": {
    "execution": {
     "iopub.execute_input": "2025-08-19T19:02:18.657340Z",
     "iopub.status.busy": "2025-08-19T19:02:18.656277Z",
     "iopub.status.idle": "2025-08-19T19:02:18.767670Z",
     "shell.execute_reply": "2025-08-19T19:02:18.766885Z"
    },
    "papermill": {
     "duration": 0.125112,
     "end_time": "2025-08-19T19:02:18.769344",
     "exception": false,
     "start_time": "2025-08-19T19:02:18.644232",
     "status": "completed"
    },
    "tags": []
   },
   "outputs": [],
   "source": [
    "# Auxiliary data needed downstream in the pipeline\n",
    "\n",
    "org_train = X_train.copy()\n",
    "org_test = X_test.copy()\n",
    "org_calib = X_calib.copy()"
   ]
  },
  {
   "cell_type": "markdown",
   "id": "b461e618",
   "metadata": {
    "papermill": {
     "duration": 0.01038,
     "end_time": "2025-08-19T19:02:18.790599",
     "exception": false,
     "start_time": "2025-08-19T19:02:18.780219",
     "status": "completed"
    },
    "tags": []
   },
   "source": [
    "# Preprocessing Data"
   ]
  },
  {
   "cell_type": "code",
   "execution_count": 21,
   "id": "78e74c4b",
   "metadata": {
    "execution": {
     "iopub.execute_input": "2025-08-19T19:02:18.813355Z",
     "iopub.status.busy": "2025-08-19T19:02:18.812838Z",
     "iopub.status.idle": "2025-08-19T19:02:18.818109Z",
     "shell.execute_reply": "2025-08-19T19:02:18.817411Z"
    },
    "papermill": {
     "duration": 0.018558,
     "end_time": "2025-08-19T19:02:18.819521",
     "exception": false,
     "start_time": "2025-08-19T19:02:18.800963",
     "status": "completed"
    },
    "tags": []
   },
   "outputs": [],
   "source": [
    "# EXCLUDE PROTECTED FEATURES\n",
    "# --------------------------\n",
    "\n",
    "excluded_features = universe[\"exclude_features\"].split(\"-\")\n",
    "excluded_features_dictionary = {\n",
    "    \"nationality\": [\"maxdeutsch1\", \"maxdeutsch.Missing.\"],\n",
    "    \"sex\": [\"frau1\"],\n",
    "    \"age\": [\"age\"],\n",
    "}"
   ]
  },
  {
   "cell_type": "code",
   "execution_count": 22,
   "id": "f8e63555",
   "metadata": {
    "execution": {
     "iopub.execute_input": "2025-08-19T19:02:18.841337Z",
     "iopub.status.busy": "2025-08-19T19:02:18.840943Z",
     "iopub.status.idle": "2025-08-19T19:02:18.845828Z",
     "shell.execute_reply": "2025-08-19T19:02:18.845039Z"
    },
    "papermill": {
     "duration": 0.017361,
     "end_time": "2025-08-19T19:02:18.847157",
     "exception": false,
     "start_time": "2025-08-19T19:02:18.829796",
     "status": "completed"
    },
    "tags": []
   },
   "outputs": [],
   "source": [
    "excluded_features_columns = [\n",
    "    excluded_features_dictionary[f] for f in excluded_features if len(f) > 0 and f != \"none\"\n",
    "]"
   ]
  },
  {
   "cell_type": "code",
   "execution_count": 23,
   "id": "da781f7c",
   "metadata": {
    "execution": {
     "iopub.execute_input": "2025-08-19T19:02:18.884897Z",
     "iopub.status.busy": "2025-08-19T19:02:18.884191Z",
     "iopub.status.idle": "2025-08-19T19:02:18.892529Z",
     "shell.execute_reply": "2025-08-19T19:02:18.891070Z"
    },
    "papermill": {
     "duration": 0.035312,
     "end_time": "2025-08-19T19:02:18.894421",
     "exception": false,
     "start_time": "2025-08-19T19:02:18.859109",
     "status": "completed"
    },
    "tags": []
   },
   "outputs": [],
   "source": [
    "from fairness_multiverse.universe import flatten_once\n",
    "\n",
    "excluded_features_columns = flatten_once(excluded_features_columns)"
   ]
  },
  {
   "cell_type": "code",
   "execution_count": 24,
   "id": "37fef0f0",
   "metadata": {
    "execution": {
     "iopub.execute_input": "2025-08-19T19:02:18.935017Z",
     "iopub.status.busy": "2025-08-19T19:02:18.934462Z",
     "iopub.status.idle": "2025-08-19T19:02:18.940080Z",
     "shell.execute_reply": "2025-08-19T19:02:18.939225Z"
    },
    "papermill": {
     "duration": 0.035473,
     "end_time": "2025-08-19T19:02:18.942037",
     "exception": false,
     "start_time": "2025-08-19T19:02:18.906564",
     "status": "completed"
    },
    "tags": []
   },
   "outputs": [],
   "source": [
    "if len(excluded_features_columns) > 0:\n",
    "    print(f\"Dropping features: {excluded_features_columns}\")\n",
    "    X_train.drop(excluded_features_columns, axis=1, inplace=True)"
   ]
  },
  {
   "cell_type": "code",
   "execution_count": 25,
   "id": "d029e3e9",
   "metadata": {
    "execution": {
     "iopub.execute_input": "2025-08-19T19:02:18.965056Z",
     "iopub.status.busy": "2025-08-19T19:02:18.964750Z",
     "iopub.status.idle": "2025-08-19T19:02:18.972583Z",
     "shell.execute_reply": "2025-08-19T19:02:18.971951Z"
    },
    "papermill": {
     "duration": 0.020809,
     "end_time": "2025-08-19T19:02:18.973962",
     "exception": false,
     "start_time": "2025-08-19T19:02:18.953153",
     "status": "completed"
    },
    "tags": []
   },
   "outputs": [],
   "source": [
    "if len(excluded_features_columns) > 0:\n",
    "    print(f\"Dropping features: {excluded_features_columns}\")\n",
    "    X_test.drop(excluded_features_columns, axis=1, inplace=True)"
   ]
  },
  {
   "cell_type": "code",
   "execution_count": 26,
   "id": "01d571f0",
   "metadata": {
    "execution": {
     "iopub.execute_input": "2025-08-19T19:02:18.997976Z",
     "iopub.status.busy": "2025-08-19T19:02:18.997673Z",
     "iopub.status.idle": "2025-08-19T19:02:19.002189Z",
     "shell.execute_reply": "2025-08-19T19:02:19.001613Z"
    },
    "papermill": {
     "duration": 0.020038,
     "end_time": "2025-08-19T19:02:19.004816",
     "exception": false,
     "start_time": "2025-08-19T19:02:18.984778",
     "status": "completed"
    },
    "tags": []
   },
   "outputs": [],
   "source": [
    "if len(excluded_features_columns) > 0:\n",
    "    print(f\"Dropping features: {excluded_features_columns}\")\n",
    "    X_calib.drop(excluded_features_columns, axis=1, inplace=True)"
   ]
  },
  {
   "cell_type": "code",
   "execution_count": 27,
   "id": "3037356e",
   "metadata": {
    "execution": {
     "iopub.execute_input": "2025-08-19T19:02:19.047533Z",
     "iopub.status.busy": "2025-08-19T19:02:19.047226Z",
     "iopub.status.idle": "2025-08-19T19:02:19.051733Z",
     "shell.execute_reply": "2025-08-19T19:02:19.050970Z"
    },
    "papermill": {
     "duration": 0.019564,
     "end_time": "2025-08-19T19:02:19.053114",
     "exception": false,
     "start_time": "2025-08-19T19:02:19.033550",
     "status": "completed"
    },
    "tags": []
   },
   "outputs": [],
   "source": [
    "# EXCLUDE CERTAIN SUBGROUPS\n",
    "# -------------------------\n",
    "\n",
    "mode = universe.get(\"exclude_subgroups\", \"keep-all\") # Defaults to \"keep-all\" if the key is missing."
   ]
  },
  {
   "cell_type": "code",
   "execution_count": 28,
   "id": "9d1e63fd",
   "metadata": {
    "execution": {
     "iopub.execute_input": "2025-08-19T19:02:19.075252Z",
     "iopub.status.busy": "2025-08-19T19:02:19.074872Z",
     "iopub.status.idle": "2025-08-19T19:02:19.081168Z",
     "shell.execute_reply": "2025-08-19T19:02:19.080463Z"
    },
    "papermill": {
     "duration": 0.018879,
     "end_time": "2025-08-19T19:02:19.082474",
     "exception": false,
     "start_time": "2025-08-19T19:02:19.063595",
     "status": "completed"
    },
    "tags": []
   },
   "outputs": [],
   "source": [
    "if mode == \"keep-all\":\n",
    "    keep_mask = pd.Series(True, index=org_train.index)\n",
    "\n",
    "elif mode == \"drop-non-german\":\n",
    "    keep_mask = (org_train[\"maxdeutsch1\"] == 1) & (org_train[\"maxdeutsch.Missing.\"] == 0)\n",
    "\n",
    "else:\n",
    "    raise ValueError(f\"Unsupported mode for exclude_subgroups: {mode}\")"
   ]
  },
  {
   "cell_type": "code",
   "execution_count": 29,
   "id": "d3b65474",
   "metadata": {
    "execution": {
     "iopub.execute_input": "2025-08-19T19:02:19.105524Z",
     "iopub.status.busy": "2025-08-19T19:02:19.105130Z",
     "iopub.status.idle": "2025-08-19T19:02:19.111024Z",
     "shell.execute_reply": "2025-08-19T19:02:19.110360Z"
    },
    "papermill": {
     "duration": 0.018962,
     "end_time": "2025-08-19T19:02:19.112306",
     "exception": false,
     "start_time": "2025-08-19T19:02:19.093344",
     "status": "completed"
    },
    "tags": []
   },
   "outputs": [
    {
     "name": "stdout",
     "output_type": "stream",
     "text": [
      "Dropping 147 rows (14.70%) where mode='drop-non-german'\n"
     ]
    }
   ],
   "source": [
    "n_drop = (~keep_mask).sum() # Calculates how many rows are set to be dropped\n",
    "if n_drop > 0:\n",
    "    pct = n_drop / len(keep_mask) * 100\n",
    "    print(f\"Dropping {n_drop} rows ({pct:.2f}%) where mode='{mode}'\")"
   ]
  },
  {
   "cell_type": "code",
   "execution_count": 30,
   "id": "f44389b3",
   "metadata": {
    "execution": {
     "iopub.execute_input": "2025-08-19T19:02:19.139074Z",
     "iopub.status.busy": "2025-08-19T19:02:19.138761Z",
     "iopub.status.idle": "2025-08-19T19:02:19.145477Z",
     "shell.execute_reply": "2025-08-19T19:02:19.144781Z"
    },
    "papermill": {
     "duration": 0.020911,
     "end_time": "2025-08-19T19:02:19.147704",
     "exception": false,
     "start_time": "2025-08-19T19:02:19.126793",
     "status": "completed"
    },
    "tags": []
   },
   "outputs": [],
   "source": [
    "X_train = X_train[keep_mask]"
   ]
  },
  {
   "cell_type": "code",
   "execution_count": 31,
   "id": "ceca8c2a",
   "metadata": {
    "execution": {
     "iopub.execute_input": "2025-08-19T19:02:19.184594Z",
     "iopub.status.busy": "2025-08-19T19:02:19.184034Z",
     "iopub.status.idle": "2025-08-19T19:02:19.191134Z",
     "shell.execute_reply": "2025-08-19T19:02:19.189943Z"
    },
    "papermill": {
     "duration": 0.02285,
     "end_time": "2025-08-19T19:02:19.192676",
     "exception": false,
     "start_time": "2025-08-19T19:02:19.169826",
     "status": "completed"
    },
    "tags": []
   },
   "outputs": [],
   "source": [
    "y_train = y_train[keep_mask]"
   ]
  },
  {
   "cell_type": "markdown",
   "id": "04d31e2f",
   "metadata": {
    "papermill": {
     "duration": 0.010717,
     "end_time": "2025-08-19T19:02:19.216830",
     "exception": false,
     "start_time": "2025-08-19T19:02:19.206113",
     "status": "completed"
    },
    "tags": []
   },
   "source": [
    "# Model Training"
   ]
  },
  {
   "cell_type": "code",
   "execution_count": 32,
   "id": "db991733",
   "metadata": {
    "execution": {
     "iopub.execute_input": "2025-08-19T19:02:19.240887Z",
     "iopub.status.busy": "2025-08-19T19:02:19.239598Z",
     "iopub.status.idle": "2025-08-19T19:02:19.356167Z",
     "shell.execute_reply": "2025-08-19T19:02:19.355304Z"
    },
    "papermill": {
     "duration": 0.130437,
     "end_time": "2025-08-19T19:02:19.357757",
     "exception": false,
     "start_time": "2025-08-19T19:02:19.227320",
     "status": "completed"
    },
    "tags": []
   },
   "outputs": [],
   "source": [
    "from sklearn.linear_model import LogisticRegression\n",
    "from sklearn.ensemble import GradientBoostingClassifier, RandomForestClassifier\n",
    "\n",
    "if (universe[\"model\"] == \"logreg\"):\n",
    "    model = LogisticRegression() #penalty=\"none\", solver=\"newton-cg\", max_iter=1)\n",
    "elif (universe[\"model\"] == \"penalized_logreg\"):\n",
    "    model = LogisticRegression(penalty=\"l2\", C=0.1) #, solver=\"newton-cg\", max_iter=1)\n",
    "elif (universe[\"model\"] == \"rf\"):\n",
    "    model = RandomForestClassifier() # n_estimators=100, n_jobs=-1\n",
    "elif (universe[\"model\"] == \"gbm\"):\n",
    "    model = GradientBoostingClassifier()\n",
    "elif (universe[\"model\"] == \"elasticnet\"):\n",
    "    model = LogisticRegression(penalty = 'elasticnet', solver = 'saga', l1_ratio = 0.5) # max_iter=5000\n",
    "else:\n",
    "    raise \"Unsupported universe.model\""
   ]
  },
  {
   "cell_type": "code",
   "execution_count": 33,
   "id": "a4b5cd25",
   "metadata": {
    "execution": {
     "iopub.execute_input": "2025-08-19T19:02:19.396422Z",
     "iopub.status.busy": "2025-08-19T19:02:19.395017Z",
     "iopub.status.idle": "2025-08-19T19:02:19.404304Z",
     "shell.execute_reply": "2025-08-19T19:02:19.403044Z"
    },
    "papermill": {
     "duration": 0.037106,
     "end_time": "2025-08-19T19:02:19.406193",
     "exception": false,
     "start_time": "2025-08-19T19:02:19.369087",
     "status": "completed"
    },
    "tags": []
   },
   "outputs": [],
   "source": [
    "from sklearn.pipeline import Pipeline\n",
    "from sklearn.preprocessing import StandardScaler\n",
    "\n",
    "model = Pipeline([\n",
    "    #(\"continuous_processor\", continuous_processor),\n",
    "    #(\"categorical_preprocessor\", categorical_preprocessor),\n",
    "    (\"scale\", StandardScaler() if universe[\"scale\"] == \"scale\" else None), \n",
    "    (\"model\", model),\n",
    "])"
   ]
  },
  {
   "cell_type": "code",
   "execution_count": 34,
   "id": "283a904d",
   "metadata": {
    "execution": {
     "iopub.execute_input": "2025-08-19T19:02:19.434971Z",
     "iopub.status.busy": "2025-08-19T19:02:19.433462Z",
     "iopub.status.idle": "2025-08-19T19:02:19.737470Z",
     "shell.execute_reply": "2025-08-19T19:02:19.736240Z"
    },
    "papermill": {
     "duration": 0.318799,
     "end_time": "2025-08-19T19:02:19.738748",
     "exception": false,
     "start_time": "2025-08-19T19:02:19.419949",
     "status": "completed"
    },
    "tags": []
   },
   "outputs": [
    {
     "data": {
      "text/html": [
       "<style>#sk-container-id-1 {color: black;background-color: white;}#sk-container-id-1 pre{padding: 0;}#sk-container-id-1 div.sk-toggleable {background-color: white;}#sk-container-id-1 label.sk-toggleable__label {cursor: pointer;display: block;width: 100%;margin-bottom: 0;padding: 0.3em;box-sizing: border-box;text-align: center;}#sk-container-id-1 label.sk-toggleable__label-arrow:before {content: \"▸\";float: left;margin-right: 0.25em;color: #696969;}#sk-container-id-1 label.sk-toggleable__label-arrow:hover:before {color: black;}#sk-container-id-1 div.sk-estimator:hover label.sk-toggleable__label-arrow:before {color: black;}#sk-container-id-1 div.sk-toggleable__content {max-height: 0;max-width: 0;overflow: hidden;text-align: left;background-color: #f0f8ff;}#sk-container-id-1 div.sk-toggleable__content pre {margin: 0.2em;color: black;border-radius: 0.25em;background-color: #f0f8ff;}#sk-container-id-1 input.sk-toggleable__control:checked~div.sk-toggleable__content {max-height: 200px;max-width: 100%;overflow: auto;}#sk-container-id-1 input.sk-toggleable__control:checked~label.sk-toggleable__label-arrow:before {content: \"▾\";}#sk-container-id-1 div.sk-estimator input.sk-toggleable__control:checked~label.sk-toggleable__label {background-color: #d4ebff;}#sk-container-id-1 div.sk-label input.sk-toggleable__control:checked~label.sk-toggleable__label {background-color: #d4ebff;}#sk-container-id-1 input.sk-hidden--visually {border: 0;clip: rect(1px 1px 1px 1px);clip: rect(1px, 1px, 1px, 1px);height: 1px;margin: -1px;overflow: hidden;padding: 0;position: absolute;width: 1px;}#sk-container-id-1 div.sk-estimator {font-family: monospace;background-color: #f0f8ff;border: 1px dotted black;border-radius: 0.25em;box-sizing: border-box;margin-bottom: 0.5em;}#sk-container-id-1 div.sk-estimator:hover {background-color: #d4ebff;}#sk-container-id-1 div.sk-parallel-item::after {content: \"\";width: 100%;border-bottom: 1px solid gray;flex-grow: 1;}#sk-container-id-1 div.sk-label:hover label.sk-toggleable__label {background-color: #d4ebff;}#sk-container-id-1 div.sk-serial::before {content: \"\";position: absolute;border-left: 1px solid gray;box-sizing: border-box;top: 0;bottom: 0;left: 50%;z-index: 0;}#sk-container-id-1 div.sk-serial {display: flex;flex-direction: column;align-items: center;background-color: white;padding-right: 0.2em;padding-left: 0.2em;position: relative;}#sk-container-id-1 div.sk-item {position: relative;z-index: 1;}#sk-container-id-1 div.sk-parallel {display: flex;align-items: stretch;justify-content: center;background-color: white;position: relative;}#sk-container-id-1 div.sk-item::before, #sk-container-id-1 div.sk-parallel-item::before {content: \"\";position: absolute;border-left: 1px solid gray;box-sizing: border-box;top: 0;bottom: 0;left: 50%;z-index: -1;}#sk-container-id-1 div.sk-parallel-item {display: flex;flex-direction: column;z-index: 1;position: relative;background-color: white;}#sk-container-id-1 div.sk-parallel-item:first-child::after {align-self: flex-end;width: 50%;}#sk-container-id-1 div.sk-parallel-item:last-child::after {align-self: flex-start;width: 50%;}#sk-container-id-1 div.sk-parallel-item:only-child::after {width: 0;}#sk-container-id-1 div.sk-dashed-wrapped {border: 1px dashed gray;margin: 0 0.4em 0.5em 0.4em;box-sizing: border-box;padding-bottom: 0.4em;background-color: white;}#sk-container-id-1 div.sk-label label {font-family: monospace;font-weight: bold;display: inline-block;line-height: 1.2em;}#sk-container-id-1 div.sk-label-container {text-align: center;}#sk-container-id-1 div.sk-container {/* jupyter's `normalize.less` sets `[hidden] { display: none; }` but bootstrap.min.css set `[hidden] { display: none !important; }` so we also need the `!important` here to be able to override the default hidden behavior on the sphinx rendered scikit-learn.org. See: https://github.com/scikit-learn/scikit-learn/issues/21755 */display: inline-block !important;position: relative;}#sk-container-id-1 div.sk-text-repr-fallback {display: none;}</style><div id=\"sk-container-id-1\" class=\"sk-top-container\"><div class=\"sk-text-repr-fallback\"><pre>Pipeline(steps=[(&#x27;scale&#x27;, None), (&#x27;model&#x27;, RandomForestClassifier())])</pre><b>In a Jupyter environment, please rerun this cell to show the HTML representation or trust the notebook. <br />On GitHub, the HTML representation is unable to render, please try loading this page with nbviewer.org.</b></div><div class=\"sk-container\" hidden><div class=\"sk-item sk-dashed-wrapped\"><div class=\"sk-label-container\"><div class=\"sk-label sk-toggleable\"><input class=\"sk-toggleable__control sk-hidden--visually\" id=\"sk-estimator-id-1\" type=\"checkbox\" ><label for=\"sk-estimator-id-1\" class=\"sk-toggleable__label sk-toggleable__label-arrow\">Pipeline</label><div class=\"sk-toggleable__content\"><pre>Pipeline(steps=[(&#x27;scale&#x27;, None), (&#x27;model&#x27;, RandomForestClassifier())])</pre></div></div></div><div class=\"sk-serial\"><div class=\"sk-item\"><div class=\"sk-estimator sk-toggleable\"><input class=\"sk-toggleable__control sk-hidden--visually\" id=\"sk-estimator-id-2\" type=\"checkbox\" ><label for=\"sk-estimator-id-2\" class=\"sk-toggleable__label sk-toggleable__label-arrow\">None</label><div class=\"sk-toggleable__content\"><pre>None</pre></div></div></div><div class=\"sk-item\"><div class=\"sk-estimator sk-toggleable\"><input class=\"sk-toggleable__control sk-hidden--visually\" id=\"sk-estimator-id-3\" type=\"checkbox\" ><label for=\"sk-estimator-id-3\" class=\"sk-toggleable__label sk-toggleable__label-arrow\">RandomForestClassifier</label><div class=\"sk-toggleable__content\"><pre>RandomForestClassifier()</pre></div></div></div></div></div></div></div>"
      ],
      "text/plain": [
       "Pipeline(steps=[('scale', None), ('model', RandomForestClassifier())])"
      ]
     },
     "execution_count": 34,
     "metadata": {},
     "output_type": "execute_result"
    }
   ],
   "source": [
    "model.fit(X_train, y_train.values.ravel())"
   ]
  },
  {
   "cell_type": "code",
   "execution_count": 35,
   "id": "6e15e313",
   "metadata": {
    "execution": {
     "iopub.execute_input": "2025-08-19T19:02:19.762726Z",
     "iopub.status.busy": "2025-08-19T19:02:19.762265Z",
     "iopub.status.idle": "2025-08-19T19:02:21.078951Z",
     "shell.execute_reply": "2025-08-19T19:02:21.077260Z"
    },
    "papermill": {
     "duration": 1.332018,
     "end_time": "2025-08-19T19:02:21.082061",
     "exception": false,
     "start_time": "2025-08-19T19:02:19.750043",
     "status": "completed"
    },
    "tags": []
   },
   "outputs": [
    {
     "data": {
      "text/plain": [
       "0.8588228737041579"
      ]
     },
     "execution_count": 35,
     "metadata": {},
     "output_type": "execute_result"
    }
   ],
   "source": [
    "from fairness_multiverse.universe import predict_w_threshold\n",
    "\n",
    "probs_test = model.predict_proba(X_test)\n",
    "\n",
    "'''\n",
    "Below code returns a boolean array (or binary 0/1 array depending on how it’s used) where each element \n",
    "is True if the probability of class 1 is greater than or equal to the threshold, and False otherwise.\n",
    "'''\n",
    "y_pred_default = predict_w_threshold(probs_test, 0.5)\n",
    "\n",
    "from sklearn.metrics import accuracy_score\n",
    "\n",
    "# Naive prediction\n",
    "accuracy_score(y_true = y_true, y_pred = y_pred_default)"
   ]
  },
  {
   "cell_type": "code",
   "execution_count": 36,
   "id": "6f14067c",
   "metadata": {
    "execution": {
     "iopub.execute_input": "2025-08-19T19:02:21.114752Z",
     "iopub.status.busy": "2025-08-19T19:02:21.113191Z",
     "iopub.status.idle": "2025-08-19T19:02:22.403047Z",
     "shell.execute_reply": "2025-08-19T19:02:22.401923Z"
    },
    "papermill": {
     "duration": 1.311809,
     "end_time": "2025-08-19T19:02:22.410963",
     "exception": false,
     "start_time": "2025-08-19T19:02:21.099154",
     "status": "completed"
    },
    "tags": []
   },
   "outputs": [
    {
     "data": {
      "text/plain": [
       "array([0, 0, 0, ..., 0, 0, 0])"
      ]
     },
     "execution_count": 36,
     "metadata": {},
     "output_type": "execute_result"
    }
   ],
   "source": [
    "model.predict(X_test)"
   ]
  },
  {
   "cell_type": "markdown",
   "id": "3759920c",
   "metadata": {
    "papermill": {
     "duration": 0.012359,
     "end_time": "2025-08-19T19:02:22.443943",
     "exception": false,
     "start_time": "2025-08-19T19:02:22.431584",
     "status": "completed"
    },
    "tags": []
   },
   "source": [
    "# Conformal Prediction"
   ]
  },
  {
   "cell_type": "code",
   "execution_count": 37,
   "id": "14b27f59",
   "metadata": {
    "execution": {
     "iopub.execute_input": "2025-08-19T19:02:22.495561Z",
     "iopub.status.busy": "2025-08-19T19:02:22.494349Z",
     "iopub.status.idle": "2025-08-19T19:02:22.504721Z",
     "shell.execute_reply": "2025-08-19T19:02:22.503011Z"
    },
    "papermill": {
     "duration": 0.049959,
     "end_time": "2025-08-19T19:02:22.509648",
     "exception": false,
     "start_time": "2025-08-19T19:02:22.459689",
     "status": "completed"
    },
    "tags": []
   },
   "outputs": [],
   "source": [
    "# Miscoverage level for conformal prediction (10% allowed error rate => 90% target coverage)\n",
    "alpha = 0.1"
   ]
  },
  {
   "cell_type": "code",
   "execution_count": 38,
   "id": "59102472",
   "metadata": {
    "execution": {
     "iopub.execute_input": "2025-08-19T19:02:22.541576Z",
     "iopub.status.busy": "2025-08-19T19:02:22.541278Z",
     "iopub.status.idle": "2025-08-19T19:02:23.732930Z",
     "shell.execute_reply": "2025-08-19T19:02:23.731698Z"
    },
    "papermill": {
     "duration": 1.206105,
     "end_time": "2025-08-19T19:02:23.735016",
     "exception": false,
     "start_time": "2025-08-19T19:02:22.528911",
     "status": "completed"
    },
    "tags": []
   },
   "outputs": [],
   "source": [
    "probs_calib = model.predict_proba(X_calib)"
   ]
  },
  {
   "cell_type": "code",
   "execution_count": 39,
   "id": "a792d4dd",
   "metadata": {
    "execution": {
     "iopub.execute_input": "2025-08-19T19:02:23.767512Z",
     "iopub.status.busy": "2025-08-19T19:02:23.766556Z",
     "iopub.status.idle": "2025-08-19T19:02:23.776446Z",
     "shell.execute_reply": "2025-08-19T19:02:23.775296Z"
    },
    "papermill": {
     "duration": 0.026564,
     "end_time": "2025-08-19T19:02:23.778360",
     "exception": false,
     "start_time": "2025-08-19T19:02:23.751796",
     "status": "completed"
    },
    "tags": []
   },
   "outputs": [],
   "source": [
    "y_calib = y_calib.values.ravel().astype(int)"
   ]
  },
  {
   "cell_type": "code",
   "execution_count": 40,
   "id": "650fd033",
   "metadata": {
    "execution": {
     "iopub.execute_input": "2025-08-19T19:02:23.810345Z",
     "iopub.status.busy": "2025-08-19T19:02:23.804124Z",
     "iopub.status.idle": "2025-08-19T19:02:23.819120Z",
     "shell.execute_reply": "2025-08-19T19:02:23.818193Z"
    },
    "papermill": {
     "duration": 0.029464,
     "end_time": "2025-08-19T19:02:23.821073",
     "exception": false,
     "start_time": "2025-08-19T19:02:23.791609",
     "status": "completed"
    },
    "tags": []
   },
   "outputs": [],
   "source": [
    "from fairness_multiverse.conformal import compute_nc_scores\n",
    "\n",
    "# Compute nonconformity scores on calibration set (1 - probability of true class)\n",
    "nc_scores = compute_nc_scores(probs_calib, y_calib)"
   ]
  },
  {
   "cell_type": "code",
   "execution_count": 41,
   "id": "28ada44c",
   "metadata": {
    "execution": {
     "iopub.execute_input": "2025-08-19T19:02:23.847769Z",
     "iopub.status.busy": "2025-08-19T19:02:23.846989Z",
     "iopub.status.idle": "2025-08-19T19:02:23.864586Z",
     "shell.execute_reply": "2025-08-19T19:02:23.862543Z"
    },
    "papermill": {
     "duration": 0.032973,
     "end_time": "2025-08-19T19:02:23.866744",
     "exception": false,
     "start_time": "2025-08-19T19:02:23.833771",
     "status": "completed"
    },
    "tags": []
   },
   "outputs": [],
   "source": [
    "from fairness_multiverse.conformal import find_threshold\n",
    "\n",
    "# Find conformal threshold q_hat for the given alpha (split conformal method)\n",
    "q_hat = find_threshold(nc_scores, alpha)"
   ]
  },
  {
   "cell_type": "code",
   "execution_count": 42,
   "id": "df56469e",
   "metadata": {
    "execution": {
     "iopub.execute_input": "2025-08-19T19:02:23.899081Z",
     "iopub.status.busy": "2025-08-19T19:02:23.897979Z",
     "iopub.status.idle": "2025-08-19T19:02:23.911002Z",
     "shell.execute_reply": "2025-08-19T19:02:23.909130Z"
    },
    "papermill": {
     "duration": 0.028685,
     "end_time": "2025-08-19T19:02:23.913074",
     "exception": false,
     "start_time": "2025-08-19T19:02:23.884389",
     "status": "completed"
    },
    "tags": []
   },
   "outputs": [
    {
     "data": {
      "text/plain": [
       "0.6699999999999999"
      ]
     },
     "execution_count": 42,
     "metadata": {},
     "output_type": "execute_result"
    }
   ],
   "source": [
    "q_hat"
   ]
  },
  {
   "cell_type": "code",
   "execution_count": 43,
   "id": "aa1f5faa",
   "metadata": {
    "execution": {
     "iopub.execute_input": "2025-08-19T19:02:23.940300Z",
     "iopub.status.busy": "2025-08-19T19:02:23.939290Z",
     "iopub.status.idle": "2025-08-19T19:02:26.042118Z",
     "shell.execute_reply": "2025-08-19T19:02:26.041257Z"
    },
    "papermill": {
     "duration": 2.117504,
     "end_time": "2025-08-19T19:02:26.043661",
     "exception": false,
     "start_time": "2025-08-19T19:02:23.926157",
     "status": "completed"
    },
    "tags": []
   },
   "outputs": [],
   "source": [
    "from fairness_multiverse.conformal import predict_conformal_sets\n",
    "\n",
    "# Generate prediction sets for each test example\n",
    "pred_sets = predict_conformal_sets(model, X_test, q_hat)"
   ]
  },
  {
   "cell_type": "code",
   "execution_count": 44,
   "id": "97f67a6b",
   "metadata": {
    "execution": {
     "iopub.execute_input": "2025-08-19T19:02:26.071544Z",
     "iopub.status.busy": "2025-08-19T19:02:26.070821Z",
     "iopub.status.idle": "2025-08-19T19:02:26.081837Z",
     "shell.execute_reply": "2025-08-19T19:02:26.080527Z"
    },
    "papermill": {
     "duration": 0.025563,
     "end_time": "2025-08-19T19:02:26.083829",
     "exception": false,
     "start_time": "2025-08-19T19:02:26.058266",
     "status": "completed"
    },
    "tags": []
   },
   "outputs": [],
   "source": [
    "y_true = y_true.squeeze()"
   ]
  },
  {
   "cell_type": "code",
   "execution_count": 45,
   "id": "e700e9a7",
   "metadata": {
    "execution": {
     "iopub.execute_input": "2025-08-19T19:02:26.112364Z",
     "iopub.status.busy": "2025-08-19T19:02:26.112035Z",
     "iopub.status.idle": "2025-08-19T19:02:26.608483Z",
     "shell.execute_reply": "2025-08-19T19:02:26.607170Z"
    },
    "papermill": {
     "duration": 0.51264,
     "end_time": "2025-08-19T19:02:26.611535",
     "exception": false,
     "start_time": "2025-08-19T19:02:26.098895",
     "status": "completed"
    },
    "tags": []
   },
   "outputs": [],
   "source": [
    "from fairness_multiverse.conformal import evaluate_sets\n",
    "\n",
    "# Evaluate coverage and average set size on test data\n",
    "metrics = evaluate_sets(pred_sets, y_true)"
   ]
  },
  {
   "cell_type": "markdown",
   "id": "efbacec0",
   "metadata": {
    "papermill": {
     "duration": 0.011199,
     "end_time": "2025-08-19T19:02:26.635180",
     "exception": false,
     "start_time": "2025-08-19T19:02:26.623981",
     "status": "completed"
    },
    "tags": []
   },
   "source": [
    "# CP Metrics"
   ]
  },
  {
   "cell_type": "code",
   "execution_count": 46,
   "id": "9de55fb1",
   "metadata": {
    "execution": {
     "iopub.execute_input": "2025-08-19T19:02:26.659957Z",
     "iopub.status.busy": "2025-08-19T19:02:26.659381Z",
     "iopub.status.idle": "2025-08-19T19:02:26.671611Z",
     "shell.execute_reply": "2025-08-19T19:02:26.670483Z"
    },
    "papermill": {
     "duration": 0.026656,
     "end_time": "2025-08-19T19:02:26.673075",
     "exception": false,
     "start_time": "2025-08-19T19:02:26.646419",
     "status": "completed"
    },
    "tags": []
   },
   "outputs": [
    {
     "data": {
      "text/plain": [
       "{'coverage': 0.916174339538513, 'avg_size': 1.182800133764352}"
      ]
     },
     "execution_count": 46,
     "metadata": {},
     "output_type": "execute_result"
    }
   ],
   "source": [
    "metrics"
   ]
  },
  {
   "cell_type": "code",
   "execution_count": 47,
   "id": "64c340a1",
   "metadata": {
    "execution": {
     "iopub.execute_input": "2025-08-19T19:02:26.701096Z",
     "iopub.status.busy": "2025-08-19T19:02:26.700591Z",
     "iopub.status.idle": "2025-08-19T19:02:26.706509Z",
     "shell.execute_reply": "2025-08-19T19:02:26.705885Z"
    },
    "papermill": {
     "duration": 0.020924,
     "end_time": "2025-08-19T19:02:26.707652",
     "exception": false,
     "start_time": "2025-08-19T19:02:26.686728",
     "status": "completed"
    },
    "tags": []
   },
   "outputs": [],
   "source": [
    "example_universe = universe.copy()\n",
    "universe_training_year = example_universe.get(\"training_year\")\n",
    "universe_training_size = example_universe.get(\"training_size\")\n",
    "universe_scale = example_universe.get(\"scale\")\n",
    "universe_model = example_universe.get(\"model\")\n",
    "universe_exclude_features = example_universe.get(\"exclude_features\")\n",
    "universe_exclude_subgroups = example_universe.get(\"exclude_subgroups\")"
   ]
  },
  {
   "cell_type": "code",
   "execution_count": 48,
   "id": "dbb53cb4",
   "metadata": {
    "execution": {
     "iopub.execute_input": "2025-08-19T19:02:26.735428Z",
     "iopub.status.busy": "2025-08-19T19:02:26.734025Z",
     "iopub.status.idle": "2025-08-19T19:02:26.744865Z",
     "shell.execute_reply": "2025-08-19T19:02:26.743663Z"
    },
    "papermill": {
     "duration": 0.026926,
     "end_time": "2025-08-19T19:02:26.746591",
     "exception": false,
     "start_time": "2025-08-19T19:02:26.719665",
     "status": "completed"
    },
    "tags": []
   },
   "outputs": [],
   "source": [
    "cp_metrics_dict = {\n",
    "    \"universe_id\": [universe_id],\n",
    "    \"universe_training_year\": [universe_training_year],\n",
    "    \"universe_training_size\": [universe_training_size],\n",
    "    \"universe_scale\": [universe_scale],\n",
    "    \"universe_model\": [universe_model],\n",
    "    \"universe_exclude_features\": [universe_exclude_features],\n",
    "    \"universe_exclude_subgroups\": [universe_exclude_subgroups],\n",
    "    \"q_hat\": [q_hat],\n",
    "    \"coverage\": [metrics[\"coverage\"]],\n",
    "    \"avg_size\": [metrics[\"avg_size\"]],\n",
    "}"
   ]
  },
  {
   "cell_type": "code",
   "execution_count": 49,
   "id": "0d70d4b2",
   "metadata": {
    "execution": {
     "iopub.execute_input": "2025-08-19T19:02:26.774881Z",
     "iopub.status.busy": "2025-08-19T19:02:26.773714Z",
     "iopub.status.idle": "2025-08-19T19:02:26.789130Z",
     "shell.execute_reply": "2025-08-19T19:02:26.787904Z"
    },
    "papermill": {
     "duration": 0.030151,
     "end_time": "2025-08-19T19:02:26.790769",
     "exception": false,
     "start_time": "2025-08-19T19:02:26.760618",
     "status": "completed"
    },
    "tags": []
   },
   "outputs": [],
   "source": [
    "cp_metrics_df = pd.DataFrame(cp_metrics_dict)"
   ]
  },
  {
   "cell_type": "code",
   "execution_count": 50,
   "id": "b494403c",
   "metadata": {
    "execution": {
     "iopub.execute_input": "2025-08-19T19:02:26.820400Z",
     "iopub.status.busy": "2025-08-19T19:02:26.819227Z",
     "iopub.status.idle": "2025-08-19T19:02:26.846742Z",
     "shell.execute_reply": "2025-08-19T19:02:26.845943Z"
    },
    "papermill": {
     "duration": 0.042579,
     "end_time": "2025-08-19T19:02:26.848692",
     "exception": false,
     "start_time": "2025-08-19T19:02:26.806113",
     "status": "completed"
    },
    "tags": []
   },
   "outputs": [
    {
     "data": {
      "text/html": [
       "<div>\n",
       "<style scoped>\n",
       "    .dataframe tbody tr th:only-of-type {\n",
       "        vertical-align: middle;\n",
       "    }\n",
       "\n",
       "    .dataframe tbody tr th {\n",
       "        vertical-align: top;\n",
       "    }\n",
       "\n",
       "    .dataframe thead th {\n",
       "        text-align: right;\n",
       "    }\n",
       "</style>\n",
       "<table border=\"1\" class=\"dataframe\">\n",
       "  <thead>\n",
       "    <tr style=\"text-align: right;\">\n",
       "      <th></th>\n",
       "      <th>universe_id</th>\n",
       "      <th>universe_training_year</th>\n",
       "      <th>universe_training_size</th>\n",
       "      <th>universe_scale</th>\n",
       "      <th>universe_model</th>\n",
       "      <th>universe_exclude_features</th>\n",
       "      <th>universe_exclude_subgroups</th>\n",
       "      <th>q_hat</th>\n",
       "      <th>coverage</th>\n",
       "      <th>avg_size</th>\n",
       "    </tr>\n",
       "  </thead>\n",
       "  <tbody>\n",
       "    <tr>\n",
       "      <th>0</th>\n",
       "      <td>fe70526eaaf82b7ffaa49987561e9aa0</td>\n",
       "      <td>2012_14</td>\n",
       "      <td>1k</td>\n",
       "      <td>do-not-scale</td>\n",
       "      <td>rf</td>\n",
       "      <td>none</td>\n",
       "      <td>drop-non-german</td>\n",
       "      <td>0.67</td>\n",
       "      <td>0.916174</td>\n",
       "      <td>1.1828</td>\n",
       "    </tr>\n",
       "  </tbody>\n",
       "</table>\n",
       "</div>"
      ],
      "text/plain": [
       "                        universe_id universe_training_year  \\\n",
       "0  fe70526eaaf82b7ffaa49987561e9aa0                2012_14   \n",
       "\n",
       "  universe_training_size universe_scale universe_model  \\\n",
       "0                     1k   do-not-scale             rf   \n",
       "\n",
       "  universe_exclude_features universe_exclude_subgroups  q_hat  coverage  \\\n",
       "0                      none            drop-non-german   0.67  0.916174   \n",
       "\n",
       "   avg_size  \n",
       "0    1.1828  "
      ]
     },
     "execution_count": 50,
     "metadata": {},
     "output_type": "execute_result"
    }
   ],
   "source": [
    "cp_metrics_df"
   ]
  },
  {
   "cell_type": "markdown",
   "id": "ed608b0b",
   "metadata": {
    "papermill": {
     "duration": 0.012971,
     "end_time": "2025-08-19T19:02:26.883956",
     "exception": false,
     "start_time": "2025-08-19T19:02:26.870985",
     "status": "completed"
    },
    "tags": []
   },
   "source": [
    "Conditional coverage & looking at subgroups"
   ]
  },
  {
   "cell_type": "code",
   "execution_count": 51,
   "id": "8968c366",
   "metadata": {
    "execution": {
     "iopub.execute_input": "2025-08-19T19:02:26.911199Z",
     "iopub.status.busy": "2025-08-19T19:02:26.909993Z",
     "iopub.status.idle": "2025-08-19T19:02:27.290351Z",
     "shell.execute_reply": "2025-08-19T19:02:27.289553Z"
    },
    "papermill": {
     "duration": 0.396967,
     "end_time": "2025-08-19T19:02:27.292464",
     "exception": false,
     "start_time": "2025-08-19T19:02:26.895497",
     "status": "completed"
    },
    "tags": []
   },
   "outputs": [],
   "source": [
    "from fairness_multiverse.conformal import build_cp_groups\n",
    "\n",
    "cp_groups_df = build_cp_groups(pred_sets, y_true, X_test.index, org_test)"
   ]
  },
  {
   "cell_type": "code",
   "execution_count": 52,
   "id": "292ddabf",
   "metadata": {
    "execution": {
     "iopub.execute_input": "2025-08-19T19:02:27.319560Z",
     "iopub.status.busy": "2025-08-19T19:02:27.319271Z",
     "iopub.status.idle": "2025-08-19T19:02:28.200930Z",
     "shell.execute_reply": "2025-08-19T19:02:28.199737Z"
    },
    "papermill": {
     "duration": 0.89713,
     "end_time": "2025-08-19T19:02:28.203885",
     "exception": false,
     "start_time": "2025-08-19T19:02:27.306755",
     "status": "completed"
    },
    "tags": []
   },
   "outputs": [],
   "source": [
    "# Define covered = 1 if true_label is in the predicted set\n",
    "cp_groups_df['covered'] = cp_groups_df.apply(\n",
    "    lambda r: int(r['true_label'] in r['pred_set']),\n",
    "    axis=1\n",
    ")"
   ]
  },
  {
   "cell_type": "code",
   "execution_count": 53,
   "id": "3a261692",
   "metadata": {
    "execution": {
     "iopub.execute_input": "2025-08-19T19:02:28.230356Z",
     "iopub.status.busy": "2025-08-19T19:02:28.229996Z",
     "iopub.status.idle": "2025-08-19T19:02:28.243074Z",
     "shell.execute_reply": "2025-08-19T19:02:28.242396Z"
    },
    "papermill": {
     "duration": 0.029002,
     "end_time": "2025-08-19T19:02:28.245531",
     "exception": false,
     "start_time": "2025-08-19T19:02:28.216529",
     "status": "completed"
    },
    "tags": []
   },
   "outputs": [],
   "source": [
    "subgroups = ['frau1','nongerman','nongerman_male','nongerman_female']\n",
    "\n",
    "# Conditional coverage for subgroup==1\n",
    "cond_coverage = {\n",
    "    g: cp_groups_df.loc[cp_groups_df[g]==1, 'covered'].mean()\n",
    "    for g in subgroups\n",
    "}"
   ]
  },
  {
   "cell_type": "code",
   "execution_count": 54,
   "id": "894fd600",
   "metadata": {
    "execution": {
     "iopub.execute_input": "2025-08-19T19:02:28.290535Z",
     "iopub.status.busy": "2025-08-19T19:02:28.289451Z",
     "iopub.status.idle": "2025-08-19T19:02:28.302828Z",
     "shell.execute_reply": "2025-08-19T19:02:28.301526Z"
    },
    "papermill": {
     "duration": 0.031137,
     "end_time": "2025-08-19T19:02:28.304574",
     "exception": false,
     "start_time": "2025-08-19T19:02:28.273437",
     "status": "completed"
    },
    "tags": []
   },
   "outputs": [
    {
     "data": {
      "text/plain": [
       "{'frau1': 0.9126027766545356,\n",
       " 'nongerman': 0.9141076741705496,\n",
       " 'nongerman_male': 0.9363235161668018,\n",
       " 'nongerman_female': 0.8773472429210134}"
      ]
     },
     "execution_count": 54,
     "metadata": {},
     "output_type": "execute_result"
    }
   ],
   "source": [
    "cond_coverage"
   ]
  },
  {
   "cell_type": "code",
   "execution_count": 55,
   "id": "942895c7",
   "metadata": {
    "execution": {
     "iopub.execute_input": "2025-08-19T19:02:28.349852Z",
     "iopub.status.busy": "2025-08-19T19:02:28.349433Z",
     "iopub.status.idle": "2025-08-19T19:02:28.355520Z",
     "shell.execute_reply": "2025-08-19T19:02:28.354936Z"
    },
    "papermill": {
     "duration": 0.027513,
     "end_time": "2025-08-19T19:02:28.358732",
     "exception": false,
     "start_time": "2025-08-19T19:02:28.331219",
     "status": "completed"
    },
    "tags": []
   },
   "outputs": [],
   "source": [
    "for subgroup, cov in cond_coverage.items():\n",
    "    cp_metrics_df[f\"cov_{subgroup}\"] = cov"
   ]
  },
  {
   "cell_type": "code",
   "execution_count": 56,
   "id": "3970120f",
   "metadata": {
    "execution": {
     "iopub.execute_input": "2025-08-19T19:02:28.402825Z",
     "iopub.status.busy": "2025-08-19T19:02:28.401718Z",
     "iopub.status.idle": "2025-08-19T19:02:28.427694Z",
     "shell.execute_reply": "2025-08-19T19:02:28.426781Z"
    },
    "papermill": {
     "duration": 0.043452,
     "end_time": "2025-08-19T19:02:28.429423",
     "exception": false,
     "start_time": "2025-08-19T19:02:28.385971",
     "status": "completed"
    },
    "tags": []
   },
   "outputs": [
    {
     "data": {
      "text/html": [
       "<div>\n",
       "<style scoped>\n",
       "    .dataframe tbody tr th:only-of-type {\n",
       "        vertical-align: middle;\n",
       "    }\n",
       "\n",
       "    .dataframe tbody tr th {\n",
       "        vertical-align: top;\n",
       "    }\n",
       "\n",
       "    .dataframe thead th {\n",
       "        text-align: right;\n",
       "    }\n",
       "</style>\n",
       "<table border=\"1\" class=\"dataframe\">\n",
       "  <thead>\n",
       "    <tr style=\"text-align: right;\">\n",
       "      <th></th>\n",
       "      <th>universe_id</th>\n",
       "      <th>universe_training_year</th>\n",
       "      <th>universe_training_size</th>\n",
       "      <th>universe_scale</th>\n",
       "      <th>universe_model</th>\n",
       "      <th>universe_exclude_features</th>\n",
       "      <th>universe_exclude_subgroups</th>\n",
       "      <th>q_hat</th>\n",
       "      <th>coverage</th>\n",
       "      <th>avg_size</th>\n",
       "      <th>cov_frau1</th>\n",
       "      <th>cov_nongerman</th>\n",
       "      <th>cov_nongerman_male</th>\n",
       "      <th>cov_nongerman_female</th>\n",
       "    </tr>\n",
       "  </thead>\n",
       "  <tbody>\n",
       "    <tr>\n",
       "      <th>0</th>\n",
       "      <td>fe70526eaaf82b7ffaa49987561e9aa0</td>\n",
       "      <td>2012_14</td>\n",
       "      <td>1k</td>\n",
       "      <td>do-not-scale</td>\n",
       "      <td>rf</td>\n",
       "      <td>none</td>\n",
       "      <td>drop-non-german</td>\n",
       "      <td>0.67</td>\n",
       "      <td>0.916174</td>\n",
       "      <td>1.1828</td>\n",
       "      <td>0.912603</td>\n",
       "      <td>0.914108</td>\n",
       "      <td>0.936324</td>\n",
       "      <td>0.877347</td>\n",
       "    </tr>\n",
       "  </tbody>\n",
       "</table>\n",
       "</div>"
      ],
      "text/plain": [
       "                        universe_id universe_training_year  \\\n",
       "0  fe70526eaaf82b7ffaa49987561e9aa0                2012_14   \n",
       "\n",
       "  universe_training_size universe_scale universe_model  \\\n",
       "0                     1k   do-not-scale             rf   \n",
       "\n",
       "  universe_exclude_features universe_exclude_subgroups  q_hat  coverage  \\\n",
       "0                      none            drop-non-german   0.67  0.916174   \n",
       "\n",
       "   avg_size  cov_frau1  cov_nongerman  cov_nongerman_male  \\\n",
       "0    1.1828   0.912603       0.914108            0.936324   \n",
       "\n",
       "   cov_nongerman_female  \n",
       "0              0.877347  "
      ]
     },
     "execution_count": 56,
     "metadata": {},
     "output_type": "execute_result"
    }
   ],
   "source": [
    "cp_metrics_df"
   ]
  },
  {
   "cell_type": "markdown",
   "id": "3fc519cc",
   "metadata": {
    "papermill": {
     "duration": 0.013523,
     "end_time": "2025-08-19T19:02:28.466965",
     "exception": false,
     "start_time": "2025-08-19T19:02:28.453442",
     "status": "completed"
    },
    "tags": []
   },
   "source": [
    "# (Fairness) Metrics"
   ]
  },
  {
   "cell_type": "code",
   "execution_count": 57,
   "id": "a2e5e155",
   "metadata": {
    "execution": {
     "iopub.execute_input": "2025-08-19T19:02:28.495147Z",
     "iopub.status.busy": "2025-08-19T19:02:28.493847Z",
     "iopub.status.idle": "2025-08-19T19:02:28.520971Z",
     "shell.execute_reply": "2025-08-19T19:02:28.520074Z"
    },
    "papermill": {
     "duration": 0.04349,
     "end_time": "2025-08-19T19:02:28.522947",
     "exception": false,
     "start_time": "2025-08-19T19:02:28.479457",
     "status": "completed"
    },
    "tags": []
   },
   "outputs": [],
   "source": [
    "colname_to_bin = \"maxdeutsch1\"\n",
    "majority_value = org_train[colname_to_bin].mode()[0]\n",
    "\n",
    "org_test[\"majmin\"] = np.where(org_test[colname_to_bin] == majority_value, \"majority\", \"minority\")"
   ]
  },
  {
   "cell_type": "code",
   "execution_count": 58,
   "id": "17e3e4d5",
   "metadata": {
    "execution": {
     "iopub.execute_input": "2025-08-19T19:02:28.563715Z",
     "iopub.status.busy": "2025-08-19T19:02:28.562719Z",
     "iopub.status.idle": "2025-08-19T19:02:30.312564Z",
     "shell.execute_reply": "2025-08-19T19:02:30.311227Z"
    },
    "papermill": {
     "duration": 1.766872,
     "end_time": "2025-08-19T19:02:30.314248",
     "exception": false,
     "start_time": "2025-08-19T19:02:28.547376",
     "status": "completed"
    },
    "tags": []
   },
   "outputs": [],
   "source": [
    "example_universe = universe.copy()\n",
    "example_universe[\"cutoff\"] = example_universe[\"cutoff\"][0]\n",
    "example_universe[\"eval_fairness_grouping\"] = example_universe[\"eval_fairness_grouping\"][0]\n",
    "fairness_dict, metric_frame = universe_analysis.compute_metrics(\n",
    "    example_universe,\n",
    "    y_pred_prob=probs_test,\n",
    "    y_test=y_true,\n",
    "    org_test=org_test,\n",
    ")"
   ]
  },
  {
   "cell_type": "markdown",
   "id": "1fb7a0e9",
   "metadata": {
    "papermill": {
     "duration": 0.021956,
     "end_time": "2025-08-19T19:02:30.352652",
     "exception": false,
     "start_time": "2025-08-19T19:02:30.330696",
     "status": "completed"
    },
    "tags": []
   },
   "source": [
    "# Overall"
   ]
  },
  {
   "cell_type": "markdown",
   "id": "be1784b1",
   "metadata": {
    "papermill": {
     "duration": 0.013987,
     "end_time": "2025-08-19T19:02:30.393742",
     "exception": false,
     "start_time": "2025-08-19T19:02:30.379755",
     "status": "completed"
    },
    "tags": []
   },
   "source": [
    "Main fairness target: Equalized Odds. Seems to be a better fit than equal opportunity, since we're not only interested in Y = 1. Seems to be a better fit than demographic parity, since we also care about accuracy, not just equal distribution of preds.\n",
    "\n",
    "Pick column for computation of fairness metrics\n",
    "\n",
    "Performance\n",
    "Overall performance measures, most interesting in relation to the measures split by group below"
   ]
  },
  {
   "cell_type": "code",
   "execution_count": 59,
   "id": "b7672bee",
   "metadata": {
    "execution": {
     "iopub.execute_input": "2025-08-19T19:02:30.421464Z",
     "iopub.status.busy": "2025-08-19T19:02:30.420988Z",
     "iopub.status.idle": "2025-08-19T19:02:30.430277Z",
     "shell.execute_reply": "2025-08-19T19:02:30.429497Z"
    },
    "papermill": {
     "duration": 0.027391,
     "end_time": "2025-08-19T19:02:30.433905",
     "exception": false,
     "start_time": "2025-08-19T19:02:30.406514",
     "status": "completed"
    },
    "tags": []
   },
   "outputs": [
    {
     "data": {
      "text/plain": [
       "accuracy                   0.208527\n",
       "balanced accuracy          0.539766\n",
       "f1                         0.242077\n",
       "precision                  0.137989\n",
       "false positive rate        0.905782\n",
       "false negative rate        0.014685\n",
       "selection rate             0.915985\n",
       "count                  89710.000000\n",
       "dtype: float64"
      ]
     },
     "execution_count": 59,
     "metadata": {},
     "output_type": "execute_result"
    }
   ],
   "source": [
    "metric_frame.overall"
   ]
  },
  {
   "cell_type": "markdown",
   "id": "d93333c9",
   "metadata": {
    "papermill": {
     "duration": 0.013171,
     "end_time": "2025-08-19T19:02:30.462224",
     "exception": false,
     "start_time": "2025-08-19T19:02:30.449053",
     "status": "completed"
    },
    "tags": []
   },
   "source": [
    "By Group"
   ]
  },
  {
   "cell_type": "code",
   "execution_count": 60,
   "id": "52256966",
   "metadata": {
    "execution": {
     "iopub.execute_input": "2025-08-19T19:02:30.490061Z",
     "iopub.status.busy": "2025-08-19T19:02:30.489644Z",
     "iopub.status.idle": "2025-08-19T19:02:30.505216Z",
     "shell.execute_reply": "2025-08-19T19:02:30.504344Z"
    },
    "papermill": {
     "duration": 0.031614,
     "end_time": "2025-08-19T19:02:30.506885",
     "exception": false,
     "start_time": "2025-08-19T19:02:30.475271",
     "status": "completed"
    },
    "tags": []
   },
   "outputs": [
    {
     "data": {
      "text/html": [
       "<div>\n",
       "<style scoped>\n",
       "    .dataframe tbody tr th:only-of-type {\n",
       "        vertical-align: middle;\n",
       "    }\n",
       "\n",
       "    .dataframe tbody tr th {\n",
       "        vertical-align: top;\n",
       "    }\n",
       "\n",
       "    .dataframe thead th {\n",
       "        text-align: right;\n",
       "    }\n",
       "</style>\n",
       "<table border=\"1\" class=\"dataframe\">\n",
       "  <thead>\n",
       "    <tr style=\"text-align: right;\">\n",
       "      <th></th>\n",
       "      <th>accuracy</th>\n",
       "      <th>balanced accuracy</th>\n",
       "      <th>f1</th>\n",
       "      <th>precision</th>\n",
       "      <th>false positive rate</th>\n",
       "      <th>false negative rate</th>\n",
       "      <th>selection rate</th>\n",
       "      <th>count</th>\n",
       "    </tr>\n",
       "    <tr>\n",
       "      <th>majmin</th>\n",
       "      <th></th>\n",
       "      <th></th>\n",
       "      <th></th>\n",
       "      <th></th>\n",
       "      <th></th>\n",
       "      <th></th>\n",
       "      <th></th>\n",
       "      <th></th>\n",
       "    </tr>\n",
       "  </thead>\n",
       "  <tbody>\n",
       "    <tr>\n",
       "      <th>majority</th>\n",
       "      <td>0.220182</td>\n",
       "      <td>0.544278</td>\n",
       "      <td>0.250229</td>\n",
       "      <td>0.143323</td>\n",
       "      <td>0.896235</td>\n",
       "      <td>0.015208</td>\n",
       "      <td>0.907937</td>\n",
       "      <td>69170.0</td>\n",
       "    </tr>\n",
       "    <tr>\n",
       "      <th>minority</th>\n",
       "      <td>0.169279</td>\n",
       "      <td>0.525005</td>\n",
       "      <td>0.215097</td>\n",
       "      <td>0.120696</td>\n",
       "      <td>0.937321</td>\n",
       "      <td>0.012669</td>\n",
       "      <td>0.943087</td>\n",
       "      <td>20540.0</td>\n",
       "    </tr>\n",
       "  </tbody>\n",
       "</table>\n",
       "</div>"
      ],
      "text/plain": [
       "          accuracy  balanced accuracy        f1  precision  \\\n",
       "majmin                                                       \n",
       "majority  0.220182           0.544278  0.250229   0.143323   \n",
       "minority  0.169279           0.525005  0.215097   0.120696   \n",
       "\n",
       "          false positive rate  false negative rate  selection rate    count  \n",
       "majmin                                                                       \n",
       "majority             0.896235             0.015208        0.907937  69170.0  \n",
       "minority             0.937321             0.012669        0.943087  20540.0  "
      ]
     },
     "execution_count": 60,
     "metadata": {},
     "output_type": "execute_result"
    }
   ],
   "source": [
    "metric_frame.by_group"
   ]
  },
  {
   "cell_type": "code",
   "execution_count": 61,
   "id": "6e6c20ae",
   "metadata": {
    "execution": {
     "iopub.execute_input": "2025-08-19T19:02:30.537714Z",
     "iopub.status.busy": "2025-08-19T19:02:30.537386Z",
     "iopub.status.idle": "2025-08-19T19:02:32.425403Z",
     "shell.execute_reply": "2025-08-19T19:02:32.423817Z"
    },
    "papermill": {
     "duration": 1.905789,
     "end_time": "2025-08-19T19:02:32.427845",
     "exception": false,
     "start_time": "2025-08-19T19:02:30.522056",
     "status": "completed"
    },
    "tags": []
   },
   "outputs": [
    {
     "data": {
      "text/plain": [
       "array([[<Axes: title={'center': 'accuracy'}, xlabel='majmin'>,\n",
       "        <Axes: title={'center': 'balanced accuracy'}, xlabel='majmin'>,\n",
       "        <Axes: title={'center': 'f1'}, xlabel='majmin'>],\n",
       "       [<Axes: title={'center': 'precision'}, xlabel='majmin'>,\n",
       "        <Axes: title={'center': 'false positive rate'}, xlabel='majmin'>,\n",
       "        <Axes: title={'center': 'false negative rate'}, xlabel='majmin'>],\n",
       "       [<Axes: title={'center': 'selection rate'}, xlabel='majmin'>,\n",
       "        <Axes: title={'center': 'count'}, xlabel='majmin'>,\n",
       "        <Axes: xlabel='majmin'>]], dtype=object)"
      ]
     },
     "execution_count": 61,
     "metadata": {},
     "output_type": "execute_result"
    },
    {
     "data": {
      "image/png": "[encoded data removed]",
      "text/plain": [
       "<Figure size 1200x800 with 9 Axes>"
      ]
     },
     "metadata": {},
     "output_type": "display_data"
    }
   ],
   "source": [
    "# In a graphic\n",
    "metric_frame.by_group.plot.bar(\n",
    "    subplots=True,\n",
    "    layout=[3, 3],\n",
    "    legend=False,\n",
    "    figsize=[12, 8],\n",
    "    title=\"Show all metrics\",\n",
    ")"
   ]
  },
  {
   "cell_type": "markdown",
   "id": "b2e433ae",
   "metadata": {
    "papermill": {
     "duration": 0.013935,
     "end_time": "2025-08-19T19:02:32.462543",
     "exception": false,
     "start_time": "2025-08-19T19:02:32.448608",
     "status": "completed"
    },
    "tags": []
   },
   "source": [
    "# Final Output"
   ]
  },
  {
   "cell_type": "code",
   "execution_count": 62,
   "id": "3871301e",
   "metadata": {
    "execution": {
     "iopub.execute_input": "2025-08-19T19:02:32.493913Z",
     "iopub.status.busy": "2025-08-19T19:02:32.492467Z",
     "iopub.status.idle": "2025-08-19T19:02:32.521130Z",
     "shell.execute_reply": "2025-08-19T19:02:32.519898Z"
    },
    "papermill": {
     "duration": 0.049248,
     "end_time": "2025-08-19T19:02:32.525638",
     "exception": false,
     "start_time": "2025-08-19T19:02:32.476390",
     "status": "completed"
    },
    "tags": []
   },
   "outputs": [
    {
     "data": {
      "text/plain": [
       "4"
      ]
     },
     "execution_count": 62,
     "metadata": {},
     "output_type": "execute_result"
    }
   ],
   "source": [
    "sub_universes = universe_analysis.generate_sub_universes()\n",
    "len(sub_universes)"
   ]
  },
  {
   "cell_type": "code",
   "execution_count": 63,
   "id": "d9cfdaca",
   "metadata": {
    "execution": {
     "iopub.execute_input": "2025-08-19T19:02:32.567292Z",
     "iopub.status.busy": "2025-08-19T19:02:32.566888Z",
     "iopub.status.idle": "2025-08-19T19:02:32.594703Z",
     "shell.execute_reply": "2025-08-19T19:02:32.593581Z"
    },
    "papermill": {
     "duration": 0.049093,
     "end_time": "2025-08-19T19:02:32.597205",
     "exception": false,
     "start_time": "2025-08-19T19:02:32.548112",
     "status": "completed"
    },
    "tags": []
   },
   "outputs": [],
   "source": [
    "def filter_sub_universe_data(sub_universe, org_test):\n",
    "    # Keep all rows — no filtering\n",
    "    keep_rows_mask = np.ones(org_test.shape[0], dtype=bool)\n",
    "\n",
    "    print(f\"[INFO] Keeping all rows: {keep_rows_mask.sum()} rows retained.\")\n",
    "    return keep_rows_mask"
   ]
  },
  {
   "cell_type": "code",
   "execution_count": 64,
   "id": "2bc31ac1",
   "metadata": {
    "execution": {
     "iopub.execute_input": "2025-08-19T19:02:32.640729Z",
     "iopub.status.busy": "2025-08-19T19:02:32.640108Z",
     "iopub.status.idle": "2025-08-19T19:02:39.676827Z",
     "shell.execute_reply": "2025-08-19T19:02:39.675827Z"
    },
    "papermill": {
     "duration": 7.054179,
     "end_time": "2025-08-19T19:02:39.678193",
     "exception": false,
     "start_time": "2025-08-19T19:02:32.624014",
     "status": "completed"
    },
    "tags": []
   },
   "outputs": [
    {
     "name": "stdout",
     "output_type": "stream",
     "text": [
      "Stopping execution_time clock.\n",
      "[INFO] Keeping all rows: 89710 rows retained.\n"
     ]
    },
    {
     "name": "stdout",
     "output_type": "stream",
     "text": [
      "[INFO] Keeping all rows: 89710 rows retained.\n"
     ]
    },
    {
     "name": "stdout",
     "output_type": "stream",
     "text": [
      "[INFO] Keeping all rows: 89710 rows retained.\n"
     ]
    },
    {
     "name": "stdout",
     "output_type": "stream",
     "text": [
      "[INFO] Keeping all rows: 89710 rows retained.\n"
     ]
    },
    {
     "data": {
      "text/html": [
       "<div>\n",
       "<style scoped>\n",
       "    .dataframe tbody tr th:only-of-type {\n",
       "        vertical-align: middle;\n",
       "    }\n",
       "\n",
       "    .dataframe tbody tr th {\n",
       "        vertical-align: top;\n",
       "    }\n",
       "\n",
       "    .dataframe thead th {\n",
       "        text-align: right;\n",
       "    }\n",
       "</style>\n",
       "<table border=\"1\" class=\"dataframe\">\n",
       "  <thead>\n",
       "    <tr style=\"text-align: right;\">\n",
       "      <th></th>\n",
       "      <th>run_no</th>\n",
       "      <th>universe_id</th>\n",
       "      <th>universe_settings</th>\n",
       "      <th>execution_time</th>\n",
       "      <th>test_size_n</th>\n",
       "      <th>test_size_frac</th>\n",
       "      <th>fair_main_equalized_odds_difference</th>\n",
       "      <th>fair_main_equalized_odds_ratio</th>\n",
       "      <th>fair_main_demographic_parity_difference</th>\n",
       "      <th>fair_main_demographic_parity_ratio</th>\n",
       "      <th>...</th>\n",
       "      <th>perf_grp_precision_0</th>\n",
       "      <th>perf_grp_precision_1</th>\n",
       "      <th>perf_grp_false positive rate_0</th>\n",
       "      <th>perf_grp_false positive rate_1</th>\n",
       "      <th>perf_grp_false negative rate_0</th>\n",
       "      <th>perf_grp_false negative rate_1</th>\n",
       "      <th>perf_grp_selection rate_0</th>\n",
       "      <th>perf_grp_selection rate_1</th>\n",
       "      <th>perf_grp_count_0</th>\n",
       "      <th>perf_grp_count_1</th>\n",
       "    </tr>\n",
       "  </thead>\n",
       "  <tbody>\n",
       "    <tr>\n",
       "      <th>0</th>\n",
       "      <td>3</td>\n",
       "      <td>fe70526eaaf82b7ffaa49987561e9aa0</td>\n",
       "      <td>{\"cutoff\": \"quantile_0.1\", \"eval_fairness_grou...</td>\n",
       "      <td>26.083872</td>\n",
       "      <td>89710</td>\n",
       "      <td>1.0</td>\n",
       "      <td>0.041086</td>\n",
       "      <td>0.956167</td>\n",
       "      <td>0.03515</td>\n",
       "      <td>0.962729</td>\n",
       "      <td>...</td>\n",
       "      <td>NaN</td>\n",
       "      <td>NaN</td>\n",
       "      <td>NaN</td>\n",
       "      <td>NaN</td>\n",
       "      <td>NaN</td>\n",
       "      <td>NaN</td>\n",
       "      <td>NaN</td>\n",
       "      <td>NaN</td>\n",
       "      <td>NaN</td>\n",
       "      <td>NaN</td>\n",
       "    </tr>\n",
       "    <tr>\n",
       "      <th>0</th>\n",
       "      <td>3</td>\n",
       "      <td>fe70526eaaf82b7ffaa49987561e9aa0</td>\n",
       "      <td>{\"cutoff\": \"quantile_0.1\", \"eval_fairness_grou...</td>\n",
       "      <td>26.083872</td>\n",
       "      <td>89710</td>\n",
       "      <td>1.0</td>\n",
       "      <td>0.041086</td>\n",
       "      <td>0.956167</td>\n",
       "      <td>0.03515</td>\n",
       "      <td>0.962729</td>\n",
       "      <td>...</td>\n",
       "      <td>0.120696</td>\n",
       "      <td>0.143323</td>\n",
       "      <td>0.937321</td>\n",
       "      <td>0.896235</td>\n",
       "      <td>0.012669</td>\n",
       "      <td>0.015208</td>\n",
       "      <td>0.943087</td>\n",
       "      <td>0.907937</td>\n",
       "      <td>20540.0</td>\n",
       "      <td>69170.0</td>\n",
       "    </tr>\n",
       "    <tr>\n",
       "      <th>0</th>\n",
       "      <td>3</td>\n",
       "      <td>fe70526eaaf82b7ffaa49987561e9aa0</td>\n",
       "      <td>{\"cutoff\": \"quantile_0.25\", \"eval_fairness_gro...</td>\n",
       "      <td>26.083872</td>\n",
       "      <td>89710</td>\n",
       "      <td>1.0</td>\n",
       "      <td>0.095171</td>\n",
       "      <td>0.884972</td>\n",
       "      <td>0.07933</td>\n",
       "      <td>0.905474</td>\n",
       "      <td>...</td>\n",
       "      <td>NaN</td>\n",
       "      <td>NaN</td>\n",
       "      <td>NaN</td>\n",
       "      <td>NaN</td>\n",
       "      <td>NaN</td>\n",
       "      <td>NaN</td>\n",
       "      <td>NaN</td>\n",
       "      <td>NaN</td>\n",
       "      <td>NaN</td>\n",
       "      <td>NaN</td>\n",
       "    </tr>\n",
       "    <tr>\n",
       "      <th>0</th>\n",
       "      <td>3</td>\n",
       "      <td>fe70526eaaf82b7ffaa49987561e9aa0</td>\n",
       "      <td>{\"cutoff\": \"quantile_0.25\", \"eval_fairness_gro...</td>\n",
       "      <td>26.083872</td>\n",
       "      <td>89710</td>\n",
       "      <td>1.0</td>\n",
       "      <td>0.095171</td>\n",
       "      <td>0.884972</td>\n",
       "      <td>0.07933</td>\n",
       "      <td>0.905474</td>\n",
       "      <td>...</td>\n",
       "      <td>0.127799</td>\n",
       "      <td>0.163784</td>\n",
       "      <td>0.827372</td>\n",
       "      <td>0.732201</td>\n",
       "      <td>0.069679</td>\n",
       "      <td>0.058096</td>\n",
       "      <td>0.839241</td>\n",
       "      <td>0.759910</td>\n",
       "      <td>20540.0</td>\n",
       "      <td>69170.0</td>\n",
       "    </tr>\n",
       "  </tbody>\n",
       "</table>\n",
       "<p>4 rows × 50 columns</p>\n",
       "</div>"
      ],
      "text/plain": [
       "  run_no                       universe_id  \\\n",
       "0      3  fe70526eaaf82b7ffaa49987561e9aa0   \n",
       "0      3  fe70526eaaf82b7ffaa49987561e9aa0   \n",
       "0      3  fe70526eaaf82b7ffaa49987561e9aa0   \n",
       "0      3  fe70526eaaf82b7ffaa49987561e9aa0   \n",
       "\n",
       "                                   universe_settings  execution_time  \\\n",
       "0  {\"cutoff\": \"quantile_0.1\", \"eval_fairness_grou...       26.083872   \n",
       "0  {\"cutoff\": \"quantile_0.1\", \"eval_fairness_grou...       26.083872   \n",
       "0  {\"cutoff\": \"quantile_0.25\", \"eval_fairness_gro...       26.083872   \n",
       "0  {\"cutoff\": \"quantile_0.25\", \"eval_fairness_gro...       26.083872   \n",
       "\n",
       "   test_size_n  test_size_frac  fair_main_equalized_odds_difference  \\\n",
       "0        89710             1.0                             0.041086   \n",
       "0        89710             1.0                             0.041086   \n",
       "0        89710             1.0                             0.095171   \n",
       "0        89710             1.0                             0.095171   \n",
       "\n",
       "   fair_main_equalized_odds_ratio  fair_main_demographic_parity_difference  \\\n",
       "0                        0.956167                                  0.03515   \n",
       "0                        0.956167                                  0.03515   \n",
       "0                        0.884972                                  0.07933   \n",
       "0                        0.884972                                  0.07933   \n",
       "\n",
       "   fair_main_demographic_parity_ratio  ...  perf_grp_precision_0  \\\n",
       "0                            0.962729  ...                   NaN   \n",
       "0                            0.962729  ...              0.120696   \n",
       "0                            0.905474  ...                   NaN   \n",
       "0                            0.905474  ...              0.127799   \n",
       "\n",
       "   perf_grp_precision_1  perf_grp_false positive rate_0  \\\n",
       "0                   NaN                             NaN   \n",
       "0              0.143323                        0.937321   \n",
       "0                   NaN                             NaN   \n",
       "0              0.163784                        0.827372   \n",
       "\n",
       "   perf_grp_false positive rate_1  perf_grp_false negative rate_0  \\\n",
       "0                             NaN                             NaN   \n",
       "0                        0.896235                        0.012669   \n",
       "0                             NaN                             NaN   \n",
       "0                        0.732201                        0.069679   \n",
       "\n",
       "   perf_grp_false negative rate_1  perf_grp_selection rate_0  \\\n",
       "0                             NaN                        NaN   \n",
       "0                        0.015208                   0.943087   \n",
       "0                             NaN                        NaN   \n",
       "0                        0.058096                   0.839241   \n",
       "\n",
       "   perf_grp_selection rate_1  perf_grp_count_0  perf_grp_count_1  \n",
       "0                        NaN               NaN               NaN  \n",
       "0                   0.907937           20540.0           69170.0  \n",
       "0                        NaN               NaN               NaN  \n",
       "0                   0.759910           20540.0           69170.0  \n",
       "\n",
       "[4 rows x 50 columns]"
      ]
     },
     "execution_count": 64,
     "metadata": {},
     "output_type": "execute_result"
    }
   ],
   "source": [
    "final_output = universe_analysis.generate_final_output(\n",
    "    y_pred_prob=probs_test,\n",
    "    y_test=y_true,\n",
    "    org_test=org_test,\n",
    "    filter_data=filter_sub_universe_data,\n",
    "    cp_metrics_df=cp_metrics_df,\n",
    "    save=True,\n",
    ")\n",
    "final_output"
   ]
  },
  {
   "cell_type": "code",
   "execution_count": null,
   "id": "8b80a1ff",
   "metadata": {
    "papermill": {
     "duration": 0.014283,
     "end_time": "2025-08-19T19:02:39.709983",
     "exception": false,
     "start_time": "2025-08-19T19:02:39.695700",
     "status": "completed"
    },
    "tags": []
   },
   "outputs": [],
   "source": []
  },
  {
   "cell_type": "code",
   "execution_count": null,
   "id": "275c9fad",
   "metadata": {
    "papermill": {
     "duration": 0.014664,
     "end_time": "2025-08-19T19:02:39.738763",
     "exception": false,
     "start_time": "2025-08-19T19:02:39.724099",
     "status": "completed"
    },
    "tags": []
   },
   "outputs": [],
   "source": []
  }
 ],
 "metadata": {
  "celltoolbar": "Tags",
  "kernelspec": {
   "display_name": "Python (CMA Fairness)",
   "language": "python",
   "name": "cma_fair_env"
  },
  "language_info": {
   "codemirror_mode": {
    "name": "ipython",
    "version": 3
   },
   "file_extension": ".py",
   "mimetype": "text/x-python",
   "name": "python",
   "nbconvert_exporter": "python",
   "pygments_lexer": "ipython3",
   "version": "3.10.12"
  },
  "papermill": {
   "default_parameters": {},
   "duration": 37.102012,
   "end_time": "2025-08-19T19:02:40.573619",
   "environment_variables": {},
   "exception": null,
   "input_path": "universe_analysis.ipynb",
   "output_path": "output/runs/3/notebooks/m_3-fe70526eaaf82b7ffaa49987561e9aa0.ipynb",
   "parameters": {
    "output_dir": "output",
    "run_no": "3",
    "seed": "2023",
    "universe": "{\"cutoff\": [\"quantile_0.1\", \"quantile_0.25\"], \"eval_fairness_grouping\": [\"majority-minority\", \"nationality-all\"], \"exclude_features\": \"none\", \"exclude_subgroups\": \"drop-non-german\", \"model\": \"rf\", \"scale\": \"do-not-scale\", \"training_size\": \"1k\", \"training_year\": \"2012_14\"}",
    "universe_id": "fe70526eaaf82b7ffaa49987561e9aa0"
   },
   "start_time": "2025-08-19T19:02:03.471607",
   "version": "2.6.0"
  }
 },
 "nbformat": 4,
 "nbformat_minor": 5
}