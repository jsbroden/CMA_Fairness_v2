{
 "cells": [
  {
   "cell_type": "markdown",
   "id": "ef23dbb3",
   "metadata": {
    "papermill": {
     "duration": 0.011258,
     "end_time": "2025-08-19T17:59:40.058233",
     "exception": false,
     "start_time": "2025-08-19T17:59:40.046975",
     "status": "completed"
    },
    "tags": []
   },
   "source": [
    "# Setup"
   ]
  },
  {
   "cell_type": "code",
   "execution_count": 1,
   "id": "0bc8e7dc",
   "metadata": {
    "execution": {
     "iopub.execute_input": "2025-08-19T17:59:40.081059Z",
     "iopub.status.busy": "2025-08-19T17:59:40.079940Z",
     "iopub.status.idle": "2025-08-19T17:59:40.099805Z",
     "shell.execute_reply": "2025-08-19T17:59:40.098753Z"
    },
    "papermill": {
     "duration": 0.034038,
     "end_time": "2025-08-19T17:59:40.101422",
     "exception": false,
     "start_time": "2025-08-19T17:59:40.067384",
     "status": "completed"
    },
    "tags": []
   },
   "outputs": [
    {
     "name": "stdout",
     "output_type": "stream",
     "text": [
      "/dss/dsshome1/0C/ra93lal2/cma/CMA_Fairness_v2\n"
     ]
    },
    {
     "name": "stderr",
     "output_type": "stream",
     "text": [
      "/dss/dsshome1/0C/ra93lal2/.local/share/virtualenvs/CMA_Fairness_v2-3j10GkSs/lib/python3.10/site-packages/IPython/core/magics/osm.py:393: UserWarning: This is now an optional IPython functionality, using bookmarks requires you to install the `pickleshare` library.\n",
      "  bkms = self.shell.db.get('bookmarks', {})\n",
      "/dss/dsshome1/0C/ra93lal2/.local/share/virtualenvs/CMA_Fairness_v2-3j10GkSs/lib/python3.10/site-packages/IPython/core/magics/osm.py:417: UserWarning: This is now an optional IPython functionality, setting dhist requires you to install the `pickleshare` library.\n",
      "  self.shell.db['dhist'] = compress_dhist(dhist)[-100:]\n"
     ]
    }
   ],
   "source": [
    "%cd ~/cma/CMA_Fairness_v2"
   ]
  },
  {
   "cell_type": "markdown",
   "id": "9d235661",
   "metadata": {
    "papermill": {
     "duration": 0.011587,
     "end_time": "2025-08-19T17:59:40.130687",
     "exception": false,
     "start_time": "2025-08-19T17:59:40.119100",
     "status": "completed"
    },
    "tags": []
   },
   "source": [
    "The following cell holds the definition of our parameters, these values can be overriden by rendering the with e.g. the following command:\n",
    "\n",
    "papermill -p alpha 0.2 -p ratio 0.3 universe_analysis.ipynb output/test_run.ipynb"
   ]
  },
  {
   "cell_type": "code",
   "execution_count": 2,
   "id": "4a789d8e",
   "metadata": {
    "execution": {
     "iopub.execute_input": "2025-08-19T17:59:40.274484Z",
     "iopub.status.busy": "2025-08-19T17:59:40.273501Z",
     "iopub.status.idle": "2025-08-19T17:59:40.282169Z",
     "shell.execute_reply": "2025-08-19T17:59:40.280690Z"
    },
    "papermill": {
     "duration": 0.020755,
     "end_time": "2025-08-19T17:59:40.283484",
     "exception": false,
     "start_time": "2025-08-19T17:59:40.262729",
     "status": "completed"
    },
    "tags": []
   },
   "outputs": [
    {
     "name": "stdout",
     "output_type": "stream",
     "text": [
      "Current working directory: /dss/dsshome1/0C/ra93lal2/cma/CMA_Fairness_v2\n"
     ]
    }
   ],
   "source": [
    "import os\n",
    "print(\"Current working directory:\", os.getcwd())"
   ]
  },
  {
   "cell_type": "code",
   "execution_count": 3,
   "id": "4132aaed",
   "metadata": {
    "execution": {
     "iopub.execute_input": "2025-08-19T17:59:40.328845Z",
     "iopub.status.busy": "2025-08-19T17:59:40.328349Z",
     "iopub.status.idle": "2025-08-19T17:59:40.333763Z",
     "shell.execute_reply": "2025-08-19T17:59:40.332995Z"
    },
    "papermill": {
     "duration": 0.030051,
     "end_time": "2025-08-19T17:59:40.335031",
     "exception": false,
     "start_time": "2025-08-19T17:59:40.304980",
     "status": "completed"
    },
    "tags": [
     "parameters"
    ]
   },
   "outputs": [],
   "source": [
    "run_no = 0\n",
    "universe_id = \"test\"\n",
    "universe = {\n",
    "    \"training_size\": \"5k\", # \"25k\", \"5k\", \"1k\"\n",
    "    \"training_year\": \"2012_14\", # \"2014\", \"2012_14\", \"2010_14\"\n",
    "    \"scale\": \"scale\", # \"scale\", \"do-not-scale\",\n",
    "    \"model\": \"elasticnet\", # \"logreg\", \"penalized_logreg\", \"rf\", \"gbm\", \"elasticnet\"\n",
    "    \"cutoff\": [\"quantile_0.15\", \"quantile_0.30\"],\n",
    "    \"exclude_features\": \"age\", # \"none\", \"nationality\", \"sex\", \"nationality-sex\", \"age\"\n",
    "    \"exclude_subgroups\": \"drop-non-german\", # \"keep-all\", \"drop-non-german\"\n",
    "    \"eval_fairness_grouping\": [\"majority-minority\", \"nationality-all\"]\n",
    "}\n",
    "\n",
    "output_dir=\"./output\"\n",
    "seed=0"
   ]
  },
  {
   "cell_type": "code",
   "execution_count": 4,
   "id": "79f685ec",
   "metadata": {
    "execution": {
     "iopub.execute_input": "2025-08-19T17:59:40.372060Z",
     "iopub.status.busy": "2025-08-19T17:59:40.371101Z",
     "iopub.status.idle": "2025-08-19T17:59:40.378886Z",
     "shell.execute_reply": "2025-08-19T17:59:40.377431Z"
    },
    "papermill": {
     "duration": 0.019847,
     "end_time": "2025-08-19T17:59:40.380263",
     "exception": false,
     "start_time": "2025-08-19T17:59:40.360416",
     "status": "completed"
    },
    "tags": [
     "injected-parameters"
    ]
   },
   "outputs": [],
   "source": [
    "# Parameters\n",
    "universe_id = \"1e25f156a4cec868e85cfe415cfffb14\"\n",
    "run_no = \"3\"\n",
    "universe = \"{\\\"cutoff\\\": [\\\"quantile_0.1\\\", \\\"quantile_0.25\\\"], \\\"eval_fairness_grouping\\\": [\\\"majority-minority\\\", \\\"nationality-all\\\"], \\\"exclude_features\\\": \\\"nationality\\\", \\\"exclude_subgroups\\\": \\\"keep-all\\\", \\\"model\\\": \\\"rf\\\", \\\"scale\\\": \\\"do-not-scale\\\", \\\"training_size\\\": \\\"25k\\\", \\\"training_year\\\": \\\"2014\\\"}\"\n",
    "output_dir = \"output\"\n",
    "seed = \"2023\"\n"
   ]
  },
  {
   "cell_type": "code",
   "execution_count": 5,
   "id": "a5d7941f",
   "metadata": {
    "execution": {
     "iopub.execute_input": "2025-08-19T17:59:40.404548Z",
     "iopub.status.busy": "2025-08-19T17:59:40.403599Z",
     "iopub.status.idle": "2025-08-19T17:59:40.410042Z",
     "shell.execute_reply": "2025-08-19T17:59:40.408906Z"
    },
    "papermill": {
     "duration": 0.028128,
     "end_time": "2025-08-19T17:59:40.420936",
     "exception": false,
     "start_time": "2025-08-19T17:59:40.392808",
     "status": "completed"
    },
    "tags": []
   },
   "outputs": [],
   "source": [
    "import json\n",
    "if isinstance(universe, str):\n",
    "    universe = json.loads(universe)"
   ]
  },
  {
   "cell_type": "code",
   "execution_count": 6,
   "id": "7076ccb1",
   "metadata": {
    "execution": {
     "iopub.execute_input": "2025-08-19T17:59:40.454457Z",
     "iopub.status.busy": "2025-08-19T17:59:40.453396Z",
     "iopub.status.idle": "2025-08-19T17:59:40.505149Z",
     "shell.execute_reply": "2025-08-19T17:59:40.504524Z"
    },
    "papermill": {
     "duration": 0.076597,
     "end_time": "2025-08-19T17:59:40.507660",
     "exception": false,
     "start_time": "2025-08-19T17:59:40.431063",
     "status": "completed"
    },
    "tags": []
   },
   "outputs": [],
   "source": [
    "# Auto-reload the custom package\n",
    "%load_ext autoreload\n",
    "%autoreload 1\n",
    "%aimport fairness_multiverse"
   ]
  },
  {
   "cell_type": "code",
   "execution_count": 7,
   "id": "94c8eb93",
   "metadata": {
    "execution": {
     "iopub.execute_input": "2025-08-19T17:59:40.546248Z",
     "iopub.status.busy": "2025-08-19T17:59:40.545376Z",
     "iopub.status.idle": "2025-08-19T17:59:42.130273Z",
     "shell.execute_reply": "2025-08-19T17:59:42.129553Z"
    },
    "papermill": {
     "duration": 1.600801,
     "end_time": "2025-08-19T17:59:42.131916",
     "exception": false,
     "start_time": "2025-08-19T17:59:40.531115",
     "status": "completed"
    },
    "tags": []
   },
   "outputs": [],
   "source": [
    "from fairness_multiverse.universe import UniverseAnalysis\n",
    "\n",
    "universe_analysis = UniverseAnalysis(\n",
    "    run_no = run_no,\n",
    "    universe_id = universe_id,\n",
    "    universe = universe,\n",
    "    output_dir=output_dir,\n",
    ")"
   ]
  },
  {
   "cell_type": "code",
   "execution_count": 8,
   "id": "2a6381cf",
   "metadata": {
    "execution": {
     "iopub.execute_input": "2025-08-19T17:59:42.176148Z",
     "iopub.status.busy": "2025-08-19T17:59:42.174900Z",
     "iopub.status.idle": "2025-08-19T17:59:42.185670Z",
     "shell.execute_reply": "2025-08-19T17:59:42.184215Z"
    },
    "papermill": {
     "duration": 0.037427,
     "end_time": "2025-08-19T17:59:42.187091",
     "exception": false,
     "start_time": "2025-08-19T17:59:42.149664",
     "status": "completed"
    },
    "tags": []
   },
   "outputs": [
    {
     "name": "stdout",
     "output_type": "stream",
     "text": [
      "Using Seed: 2023\n"
     ]
    }
   ],
   "source": [
    "import numpy as np\n",
    "parsed_seed = int(seed)\n",
    "np.random.seed(parsed_seed)\n",
    "print(f\"Using Seed: {parsed_seed}\")"
   ]
  },
  {
   "cell_type": "markdown",
   "id": "b6e958b4",
   "metadata": {
    "papermill": {
     "duration": 0.009821,
     "end_time": "2025-08-19T17:59:42.214591",
     "exception": false,
     "start_time": "2025-08-19T17:59:42.204770",
     "status": "completed"
    },
    "tags": []
   },
   "source": [
    "# Loading Data"
   ]
  },
  {
   "cell_type": "code",
   "execution_count": 9,
   "id": "98701482",
   "metadata": {
    "execution": {
     "iopub.execute_input": "2025-08-19T17:59:42.236850Z",
     "iopub.status.busy": "2025-08-19T17:59:42.235344Z",
     "iopub.status.idle": "2025-08-19T17:59:52.358816Z",
     "shell.execute_reply": "2025-08-19T17:59:52.357896Z"
    },
    "papermill": {
     "duration": 10.13603,
     "end_time": "2025-08-19T17:59:52.360198",
     "exception": false,
     "start_time": "2025-08-19T17:59:42.224168",
     "status": "completed"
    },
    "tags": []
   },
   "outputs": [
    {
     "name": "stdout",
     "output_type": "stream",
     "text": [
      "Loading SIAB data from cache: data/siab_cached.csv.gz\n"
     ]
    },
    {
     "name": "stdout",
     "output_type": "stream",
     "text": [
      "(643690, 164)\n"
     ]
    }
   ],
   "source": [
    "from pathlib import Path\n",
    "import pandas as pd\n",
    "\n",
    "# File paths\n",
    "raw_file = Path(\"data/raw/siab.csv\")\n",
    "cache_file = Path(\"data/siab_cached.csv.gz\")\n",
    "\n",
    "# Ensure cache directory exists\n",
    "cache_file.parent.mkdir(parents=True, exist_ok=True)\n",
    "\n",
    "# Load with simple caching\n",
    "if cache_file.exists():\n",
    "    print(f\"Loading SIAB data from cache: {cache_file}\")\n",
    "    siab = pd.read_csv(cache_file, compression='gzip')\n",
    "else:\n",
    "    print(f\"Cache not found. Reading raw SIAB data: {raw_file}\")\n",
    "    siab = pd.read_csv(raw_file)\n",
    "    siab.to_csv(cache_file, index=False, compression='gzip')\n",
    "    print(f\"Cached SIAB data to: {cache_file}\")\n",
    "\n",
    "print(siab.shape)"
   ]
  },
  {
   "cell_type": "code",
   "execution_count": 10,
   "id": "058d2abb",
   "metadata": {
    "execution": {
     "iopub.execute_input": "2025-08-19T17:59:52.397225Z",
     "iopub.status.busy": "2025-08-19T17:59:52.396523Z",
     "iopub.status.idle": "2025-08-19T17:59:52.527880Z",
     "shell.execute_reply": "2025-08-19T17:59:52.527139Z"
    },
    "papermill": {
     "duration": 0.146802,
     "end_time": "2025-08-19T17:59:52.530729",
     "exception": false,
     "start_time": "2025-08-19T17:59:52.383927",
     "status": "completed"
    },
    "tags": []
   },
   "outputs": [
    {
     "data": {
      "text/html": [
       "<div>\n",
       "<style scoped>\n",
       "    .dataframe tbody tr th:only-of-type {\n",
       "        vertical-align: middle;\n",
       "    }\n",
       "\n",
       "    .dataframe tbody tr th {\n",
       "        vertical-align: top;\n",
       "    }\n",
       "\n",
       "    .dataframe thead th {\n",
       "        text-align: right;\n",
       "    }\n",
       "</style>\n",
       "<table border=\"1\" class=\"dataframe\">\n",
       "  <thead>\n",
       "    <tr style=\"text-align: right;\">\n",
       "      <th></th>\n",
       "      <th>persnr</th>\n",
       "      <th>year</th>\n",
       "      <th>nrEntry</th>\n",
       "      <th>ltue</th>\n",
       "      <th>employed_before</th>\n",
       "      <th>receipt_leh_before</th>\n",
       "      <th>receipt_lhg_before</th>\n",
       "      <th>se_before</th>\n",
       "      <th>ASU_notue_seeking_before</th>\n",
       "      <th>ASU_other_before</th>\n",
       "      <th>...</th>\n",
       "      <th>minijob_tot_dur_byage</th>\n",
       "      <th>ft_tot_dur_byage</th>\n",
       "      <th>befrist_tot_dur_byage</th>\n",
       "      <th>leih_tot_dur_byage</th>\n",
       "      <th>LHG_tot_dur_byage</th>\n",
       "      <th>LEH_tot_dur_byage</th>\n",
       "      <th>almp_tot_dur_byage</th>\n",
       "      <th>almp_aw_tot_dur_byage</th>\n",
       "      <th>se_tot_dur_byage</th>\n",
       "      <th>seeking1_tot_dur_byage</th>\n",
       "    </tr>\n",
       "  </thead>\n",
       "  <tbody>\n",
       "    <tr>\n",
       "      <th>0</th>\n",
       "      <td>7</td>\n",
       "      <td>2015</td>\n",
       "      <td>1</td>\n",
       "      <td>0</td>\n",
       "      <td>1</td>\n",
       "      <td>0</td>\n",
       "      <td>0</td>\n",
       "      <td>0</td>\n",
       "      <td>1</td>\n",
       "      <td>0</td>\n",
       "      <td>...</td>\n",
       "      <td>0.000000</td>\n",
       "      <td>0.000000</td>\n",
       "      <td>15.043478</td>\n",
       "      <td>0.000000</td>\n",
       "      <td>0.000000</td>\n",
       "      <td>0.000000</td>\n",
       "      <td>0.000000</td>\n",
       "      <td>0.000000</td>\n",
       "      <td>0.000000</td>\n",
       "      <td>0.000000</td>\n",
       "    </tr>\n",
       "    <tr>\n",
       "      <th>1</th>\n",
       "      <td>18</td>\n",
       "      <td>2010</td>\n",
       "      <td>1</td>\n",
       "      <td>1</td>\n",
       "      <td>0</td>\n",
       "      <td>0</td>\n",
       "      <td>0</td>\n",
       "      <td>0</td>\n",
       "      <td>0</td>\n",
       "      <td>0</td>\n",
       "      <td>...</td>\n",
       "      <td>0.000000</td>\n",
       "      <td>0.000000</td>\n",
       "      <td>0.000000</td>\n",
       "      <td>0.000000</td>\n",
       "      <td>0.000000</td>\n",
       "      <td>0.000000</td>\n",
       "      <td>0.000000</td>\n",
       "      <td>0.000000</td>\n",
       "      <td>0.000000</td>\n",
       "      <td>0.000000</td>\n",
       "    </tr>\n",
       "    <tr>\n",
       "      <th>2</th>\n",
       "      <td>18</td>\n",
       "      <td>2011</td>\n",
       "      <td>2</td>\n",
       "      <td>0</td>\n",
       "      <td>1</td>\n",
       "      <td>0</td>\n",
       "      <td>1</td>\n",
       "      <td>0</td>\n",
       "      <td>1</td>\n",
       "      <td>0</td>\n",
       "      <td>...</td>\n",
       "      <td>2.714286</td>\n",
       "      <td>2.714286</td>\n",
       "      <td>0.000000</td>\n",
       "      <td>0.000000</td>\n",
       "      <td>10.775510</td>\n",
       "      <td>0.000000</td>\n",
       "      <td>8.367347</td>\n",
       "      <td>0.000000</td>\n",
       "      <td>0.000000</td>\n",
       "      <td>9.836735</td>\n",
       "    </tr>\n",
       "    <tr>\n",
       "      <th>3</th>\n",
       "      <td>18</td>\n",
       "      <td>2012</td>\n",
       "      <td>3</td>\n",
       "      <td>0</td>\n",
       "      <td>1</td>\n",
       "      <td>0</td>\n",
       "      <td>1</td>\n",
       "      <td>0</td>\n",
       "      <td>1</td>\n",
       "      <td>0</td>\n",
       "      <td>...</td>\n",
       "      <td>4.200000</td>\n",
       "      <td>4.200000</td>\n",
       "      <td>0.000000</td>\n",
       "      <td>0.000000</td>\n",
       "      <td>12.100000</td>\n",
       "      <td>0.000000</td>\n",
       "      <td>9.400000</td>\n",
       "      <td>0.000000</td>\n",
       "      <td>0.000000</td>\n",
       "      <td>9.960000</td>\n",
       "    </tr>\n",
       "    <tr>\n",
       "      <th>4</th>\n",
       "      <td>18</td>\n",
       "      <td>2012</td>\n",
       "      <td>4</td>\n",
       "      <td>0</td>\n",
       "      <td>1</td>\n",
       "      <td>0</td>\n",
       "      <td>1</td>\n",
       "      <td>0</td>\n",
       "      <td>1</td>\n",
       "      <td>0</td>\n",
       "      <td>...</td>\n",
       "      <td>5.460000</td>\n",
       "      <td>5.460000</td>\n",
       "      <td>0.000000</td>\n",
       "      <td>0.000000</td>\n",
       "      <td>13.360000</td>\n",
       "      <td>0.000000</td>\n",
       "      <td>10.320000</td>\n",
       "      <td>0.000000</td>\n",
       "      <td>0.000000</td>\n",
       "      <td>10.280000</td>\n",
       "    </tr>\n",
       "    <tr>\n",
       "      <th>...</th>\n",
       "      <td>...</td>\n",
       "      <td>...</td>\n",
       "      <td>...</td>\n",
       "      <td>...</td>\n",
       "      <td>...</td>\n",
       "      <td>...</td>\n",
       "      <td>...</td>\n",
       "      <td>...</td>\n",
       "      <td>...</td>\n",
       "      <td>...</td>\n",
       "      <td>...</td>\n",
       "      <td>...</td>\n",
       "      <td>...</td>\n",
       "      <td>...</td>\n",
       "      <td>...</td>\n",
       "      <td>...</td>\n",
       "      <td>...</td>\n",
       "      <td>...</td>\n",
       "      <td>...</td>\n",
       "      <td>...</td>\n",
       "      <td>...</td>\n",
       "    </tr>\n",
       "    <tr>\n",
       "      <th>643685</th>\n",
       "      <td>1827860</td>\n",
       "      <td>2013</td>\n",
       "      <td>1</td>\n",
       "      <td>0</td>\n",
       "      <td>0</td>\n",
       "      <td>0</td>\n",
       "      <td>1</td>\n",
       "      <td>0</td>\n",
       "      <td>0</td>\n",
       "      <td>1</td>\n",
       "      <td>...</td>\n",
       "      <td>0.000000</td>\n",
       "      <td>0.000000</td>\n",
       "      <td>0.000000</td>\n",
       "      <td>0.000000</td>\n",
       "      <td>0.612903</td>\n",
       "      <td>0.000000</td>\n",
       "      <td>0.000000</td>\n",
       "      <td>0.000000</td>\n",
       "      <td>0.000000</td>\n",
       "      <td>0.000000</td>\n",
       "    </tr>\n",
       "    <tr>\n",
       "      <th>643686</th>\n",
       "      <td>1827860</td>\n",
       "      <td>2015</td>\n",
       "      <td>2</td>\n",
       "      <td>1</td>\n",
       "      <td>0</td>\n",
       "      <td>0</td>\n",
       "      <td>1</td>\n",
       "      <td>0</td>\n",
       "      <td>1</td>\n",
       "      <td>0</td>\n",
       "      <td>...</td>\n",
       "      <td>0.000000</td>\n",
       "      <td>0.000000</td>\n",
       "      <td>0.212121</td>\n",
       "      <td>0.212121</td>\n",
       "      <td>17.363636</td>\n",
       "      <td>0.000000</td>\n",
       "      <td>8.909091</td>\n",
       "      <td>0.000000</td>\n",
       "      <td>0.000000</td>\n",
       "      <td>7.121212</td>\n",
       "    </tr>\n",
       "    <tr>\n",
       "      <th>643687</th>\n",
       "      <td>1827860</td>\n",
       "      <td>2016</td>\n",
       "      <td>3</td>\n",
       "      <td>1</td>\n",
       "      <td>0</td>\n",
       "      <td>0</td>\n",
       "      <td>1</td>\n",
       "      <td>1</td>\n",
       "      <td>0</td>\n",
       "      <td>1</td>\n",
       "      <td>...</td>\n",
       "      <td>0.000000</td>\n",
       "      <td>0.000000</td>\n",
       "      <td>0.294118</td>\n",
       "      <td>0.205882</td>\n",
       "      <td>34.705882</td>\n",
       "      <td>0.000000</td>\n",
       "      <td>10.352941</td>\n",
       "      <td>1.705882</td>\n",
       "      <td>1.705882</td>\n",
       "      <td>23.911765</td>\n",
       "    </tr>\n",
       "    <tr>\n",
       "      <th>643688</th>\n",
       "      <td>1827869</td>\n",
       "      <td>2013</td>\n",
       "      <td>1</td>\n",
       "      <td>1</td>\n",
       "      <td>1</td>\n",
       "      <td>0</td>\n",
       "      <td>0</td>\n",
       "      <td>0</td>\n",
       "      <td>1</td>\n",
       "      <td>0</td>\n",
       "      <td>...</td>\n",
       "      <td>0.000000</td>\n",
       "      <td>0.000000</td>\n",
       "      <td>0.000000</td>\n",
       "      <td>0.000000</td>\n",
       "      <td>0.000000</td>\n",
       "      <td>0.525424</td>\n",
       "      <td>0.000000</td>\n",
       "      <td>0.000000</td>\n",
       "      <td>0.000000</td>\n",
       "      <td>0.000000</td>\n",
       "    </tr>\n",
       "    <tr>\n",
       "      <th>643689</th>\n",
       "      <td>1827869</td>\n",
       "      <td>2014</td>\n",
       "      <td>2</td>\n",
       "      <td>0</td>\n",
       "      <td>0</td>\n",
       "      <td>1</td>\n",
       "      <td>0</td>\n",
       "      <td>0</td>\n",
       "      <td>1</td>\n",
       "      <td>0</td>\n",
       "      <td>...</td>\n",
       "      <td>0.000000</td>\n",
       "      <td>0.666667</td>\n",
       "      <td>0.666667</td>\n",
       "      <td>0.000000</td>\n",
       "      <td>0.000000</td>\n",
       "      <td>8.950000</td>\n",
       "      <td>1.033333</td>\n",
       "      <td>0.083333</td>\n",
       "      <td>0.083333</td>\n",
       "      <td>8.133333</td>\n",
       "    </tr>\n",
       "  </tbody>\n",
       "</table>\n",
       "<p>643690 rows × 164 columns</p>\n",
       "</div>"
      ],
      "text/plain": [
       "         persnr  year  nrEntry  ltue  employed_before  receipt_leh_before  \\\n",
       "0             7  2015        1     0                1                   0   \n",
       "1            18  2010        1     1                0                   0   \n",
       "2            18  2011        2     0                1                   0   \n",
       "3            18  2012        3     0                1                   0   \n",
       "4            18  2012        4     0                1                   0   \n",
       "...         ...   ...      ...   ...              ...                 ...   \n",
       "643685  1827860  2013        1     0                0                   0   \n",
       "643686  1827860  2015        2     1                0                   0   \n",
       "643687  1827860  2016        3     1                0                   0   \n",
       "643688  1827869  2013        1     1                1                   0   \n",
       "643689  1827869  2014        2     0                0                   1   \n",
       "\n",
       "        receipt_lhg_before  se_before  ASU_notue_seeking_before  \\\n",
       "0                        0          0                         1   \n",
       "1                        0          0                         0   \n",
       "2                        1          0                         1   \n",
       "3                        1          0                         1   \n",
       "4                        1          0                         1   \n",
       "...                    ...        ...                       ...   \n",
       "643685                   1          0                         0   \n",
       "643686                   1          0                         1   \n",
       "643687                   1          1                         0   \n",
       "643688                   0          0                         1   \n",
       "643689                   0          0                         1   \n",
       "\n",
       "        ASU_other_before  ...  minijob_tot_dur_byage  ft_tot_dur_byage  \\\n",
       "0                      0  ...               0.000000          0.000000   \n",
       "1                      0  ...               0.000000          0.000000   \n",
       "2                      0  ...               2.714286          2.714286   \n",
       "3                      0  ...               4.200000          4.200000   \n",
       "4                      0  ...               5.460000          5.460000   \n",
       "...                  ...  ...                    ...               ...   \n",
       "643685                 1  ...               0.000000          0.000000   \n",
       "643686                 0  ...               0.000000          0.000000   \n",
       "643687                 1  ...               0.000000          0.000000   \n",
       "643688                 0  ...               0.000000          0.000000   \n",
       "643689                 0  ...               0.000000          0.666667   \n",
       "\n",
       "        befrist_tot_dur_byage  leih_tot_dur_byage  LHG_tot_dur_byage  \\\n",
       "0                   15.043478            0.000000           0.000000   \n",
       "1                    0.000000            0.000000           0.000000   \n",
       "2                    0.000000            0.000000          10.775510   \n",
       "3                    0.000000            0.000000          12.100000   \n",
       "4                    0.000000            0.000000          13.360000   \n",
       "...                       ...                 ...                ...   \n",
       "643685               0.000000            0.000000           0.612903   \n",
       "643686               0.212121            0.212121          17.363636   \n",
       "643687               0.294118            0.205882          34.705882   \n",
       "643688               0.000000            0.000000           0.000000   \n",
       "643689               0.666667            0.000000           0.000000   \n",
       "\n",
       "        LEH_tot_dur_byage  almp_tot_dur_byage  almp_aw_tot_dur_byage  \\\n",
       "0                0.000000            0.000000               0.000000   \n",
       "1                0.000000            0.000000               0.000000   \n",
       "2                0.000000            8.367347               0.000000   \n",
       "3                0.000000            9.400000               0.000000   \n",
       "4                0.000000           10.320000               0.000000   \n",
       "...                   ...                 ...                    ...   \n",
       "643685           0.000000            0.000000               0.000000   \n",
       "643686           0.000000            8.909091               0.000000   \n",
       "643687           0.000000           10.352941               1.705882   \n",
       "643688           0.525424            0.000000               0.000000   \n",
       "643689           8.950000            1.033333               0.083333   \n",
       "\n",
       "        se_tot_dur_byage  seeking1_tot_dur_byage  \n",
       "0               0.000000                0.000000  \n",
       "1               0.000000                0.000000  \n",
       "2               0.000000                9.836735  \n",
       "3               0.000000                9.960000  \n",
       "4               0.000000               10.280000  \n",
       "...                  ...                     ...  \n",
       "643685          0.000000                0.000000  \n",
       "643686          0.000000                7.121212  \n",
       "643687          1.705882               23.911765  \n",
       "643688          0.000000                0.000000  \n",
       "643689          0.083333                8.133333  \n",
       "\n",
       "[643690 rows x 164 columns]"
      ]
     },
     "execution_count": 10,
     "metadata": {},
     "output_type": "execute_result"
    }
   ],
   "source": [
    "siab"
   ]
  },
  {
   "cell_type": "markdown",
   "id": "1f87e805",
   "metadata": {
    "papermill": {
     "duration": 0.012525,
     "end_time": "2025-08-19T17:59:52.568117",
     "exception": false,
     "start_time": "2025-08-19T17:59:52.555592",
     "status": "completed"
    },
    "tags": []
   },
   "source": [
    "# Splitting Data and Setting Training Data Size"
   ]
  },
  {
   "cell_type": "code",
   "execution_count": 11,
   "id": "910ae358",
   "metadata": {
    "execution": {
     "iopub.execute_input": "2025-08-19T17:59:52.592383Z",
     "iopub.status.busy": "2025-08-19T17:59:52.590622Z",
     "iopub.status.idle": "2025-08-19T17:59:52.874665Z",
     "shell.execute_reply": "2025-08-19T17:59:52.873984Z"
    },
    "papermill": {
     "duration": 0.298111,
     "end_time": "2025-08-19T17:59:52.876467",
     "exception": false,
     "start_time": "2025-08-19T17:59:52.578356",
     "status": "completed"
    },
    "tags": []
   },
   "outputs": [],
   "source": [
    "from fairness_multiverse.universe import sample_by_year_size\n",
    "\n",
    "siab_train = sample_by_year_size(siab,\n",
    "                               training_year=universe[\"training_year\"],\n",
    "                               training_size=universe[\"training_size\"])"
   ]
  },
  {
   "cell_type": "code",
   "execution_count": 12,
   "id": "919c8ff5",
   "metadata": {
    "execution": {
     "iopub.execute_input": "2025-08-19T17:59:52.899851Z",
     "iopub.status.busy": "2025-08-19T17:59:52.899432Z",
     "iopub.status.idle": "2025-08-19T17:59:52.905323Z",
     "shell.execute_reply": "2025-08-19T17:59:52.904739Z"
    },
    "papermill": {
     "duration": 0.01933,
     "end_time": "2025-08-19T17:59:52.906708",
     "exception": false,
     "start_time": "2025-08-19T17:59:52.887378",
     "status": "completed"
    },
    "tags": []
   },
   "outputs": [
    {
     "data": {
      "text/plain": [
       "(25000, 164)"
      ]
     },
     "execution_count": 12,
     "metadata": {},
     "output_type": "execute_result"
    }
   ],
   "source": [
    "siab_train.shape"
   ]
  },
  {
   "cell_type": "code",
   "execution_count": 13,
   "id": "feb13bf4",
   "metadata": {
    "execution": {
     "iopub.execute_input": "2025-08-19T17:59:52.932074Z",
     "iopub.status.busy": "2025-08-19T17:59:52.931642Z",
     "iopub.status.idle": "2025-08-19T17:59:52.941670Z",
     "shell.execute_reply": "2025-08-19T17:59:52.940330Z"
    },
    "papermill": {
     "duration": 0.03233,
     "end_time": "2025-08-19T17:59:52.952237",
     "exception": false,
     "start_time": "2025-08-19T17:59:52.919907",
     "status": "completed"
    },
    "tags": []
   },
   "outputs": [
    {
     "data": {
      "text/plain": [
       "year\n",
       "2014    25000\n",
       "dtype: int64"
      ]
     },
     "metadata": {},
     "output_type": "display_data"
    }
   ],
   "source": [
    "display(siab_train.groupby(\"year\").size())"
   ]
  },
  {
   "cell_type": "code",
   "execution_count": 14,
   "id": "0997782f",
   "metadata": {
    "execution": {
     "iopub.execute_input": "2025-08-19T17:59:52.993561Z",
     "iopub.status.busy": "2025-08-19T17:59:52.991812Z",
     "iopub.status.idle": "2025-08-19T17:59:53.267852Z",
     "shell.execute_reply": "2025-08-19T17:59:53.266343Z"
    },
    "papermill": {
     "duration": 0.293647,
     "end_time": "2025-08-19T17:59:53.271408",
     "exception": false,
     "start_time": "2025-08-19T17:59:52.977761",
     "status": "completed"
    },
    "tags": []
   },
   "outputs": [],
   "source": [
    "#siab_train = siab_s[siab_s.year < 2015]\n",
    "siab_calib = siab[siab.year == 2015]\n",
    "siab_test = siab[siab.year == 2016]"
   ]
  },
  {
   "cell_type": "code",
   "execution_count": 15,
   "id": "2c1e4012",
   "metadata": {
    "execution": {
     "iopub.execute_input": "2025-08-19T17:59:53.313602Z",
     "iopub.status.busy": "2025-08-19T17:59:53.312395Z",
     "iopub.status.idle": "2025-08-19T17:59:53.321446Z",
     "shell.execute_reply": "2025-08-19T17:59:53.320039Z"
    },
    "papermill": {
     "duration": 0.029971,
     "end_time": "2025-08-19T17:59:53.323599",
     "exception": false,
     "start_time": "2025-08-19T17:59:53.293628",
     "status": "completed"
    },
    "tags": []
   },
   "outputs": [],
   "source": [
    "#siab_calib.shape"
   ]
  },
  {
   "cell_type": "code",
   "execution_count": 16,
   "id": "f66b54ca",
   "metadata": {
    "execution": {
     "iopub.execute_input": "2025-08-19T17:59:53.351272Z",
     "iopub.status.busy": "2025-08-19T17:59:53.350291Z",
     "iopub.status.idle": "2025-08-19T17:59:53.356964Z",
     "shell.execute_reply": "2025-08-19T17:59:53.355724Z"
    },
    "papermill": {
     "duration": 0.020428,
     "end_time": "2025-08-19T17:59:53.358655",
     "exception": false,
     "start_time": "2025-08-19T17:59:53.338227",
     "status": "completed"
    },
    "tags": []
   },
   "outputs": [],
   "source": [
    "#siab_test.shape"
   ]
  },
  {
   "cell_type": "code",
   "execution_count": 17,
   "id": "27e4384d",
   "metadata": {
    "execution": {
     "iopub.execute_input": "2025-08-19T17:59:53.384663Z",
     "iopub.status.busy": "2025-08-19T17:59:53.383574Z",
     "iopub.status.idle": "2025-08-19T17:59:53.403881Z",
     "shell.execute_reply": "2025-08-19T17:59:53.402679Z"
    },
    "papermill": {
     "duration": 0.034347,
     "end_time": "2025-08-19T17:59:53.406013",
     "exception": false,
     "start_time": "2025-08-19T17:59:53.371666",
     "status": "completed"
    },
    "tags": []
   },
   "outputs": [],
   "source": [
    "X_train = siab_train.iloc[:,4:164]\n",
    "y_train = siab_train.iloc[:, [3]]"
   ]
  },
  {
   "cell_type": "code",
   "execution_count": 18,
   "id": "08ee8389",
   "metadata": {
    "execution": {
     "iopub.execute_input": "2025-08-19T17:59:53.438016Z",
     "iopub.status.busy": "2025-08-19T17:59:53.437041Z",
     "iopub.status.idle": "2025-08-19T17:59:53.495203Z",
     "shell.execute_reply": "2025-08-19T17:59:53.494274Z"
    },
    "papermill": {
     "duration": 0.075154,
     "end_time": "2025-08-19T17:59:53.498871",
     "exception": false,
     "start_time": "2025-08-19T17:59:53.423717",
     "status": "completed"
    },
    "tags": []
   },
   "outputs": [],
   "source": [
    "X_calib = siab_calib.iloc[:,4:164]\n",
    "y_calib = siab_calib.iloc[:, [3]]"
   ]
  },
  {
   "cell_type": "code",
   "execution_count": 19,
   "id": "b7ff42e0",
   "metadata": {
    "execution": {
     "iopub.execute_input": "2025-08-19T17:59:53.537504Z",
     "iopub.status.busy": "2025-08-19T17:59:53.536457Z",
     "iopub.status.idle": "2025-08-19T17:59:53.595382Z",
     "shell.execute_reply": "2025-08-19T17:59:53.594563Z"
    },
    "papermill": {
     "duration": 0.073897,
     "end_time": "2025-08-19T17:59:53.596837",
     "exception": false,
     "start_time": "2025-08-19T17:59:53.522940",
     "status": "completed"
    },
    "tags": []
   },
   "outputs": [],
   "source": [
    "X_test = siab_test.iloc[:,4:164]\n",
    "y_true = siab_test.iloc[:, [3]]"
   ]
  },
  {
   "cell_type": "code",
   "execution_count": 20,
   "id": "0275101e",
   "metadata": {
    "execution": {
     "iopub.execute_input": "2025-08-19T17:59:53.633083Z",
     "iopub.status.busy": "2025-08-19T17:59:53.632153Z",
     "iopub.status.idle": "2025-08-19T17:59:53.745746Z",
     "shell.execute_reply": "2025-08-19T17:59:53.744677Z"
    },
    "papermill": {
     "duration": 0.128766,
     "end_time": "2025-08-19T17:59:53.748714",
     "exception": false,
     "start_time": "2025-08-19T17:59:53.619948",
     "status": "completed"
    },
    "tags": []
   },
   "outputs": [],
   "source": [
    "# Auxiliary data needed downstream in the pipeline\n",
    "\n",
    "org_train = X_train.copy()\n",
    "org_test = X_test.copy()\n",
    "org_calib = X_calib.copy()"
   ]
  },
  {
   "cell_type": "markdown",
   "id": "b461e618",
   "metadata": {
    "papermill": {
     "duration": 0.012475,
     "end_time": "2025-08-19T17:59:53.784292",
     "exception": false,
     "start_time": "2025-08-19T17:59:53.771817",
     "status": "completed"
    },
    "tags": []
   },
   "source": [
    "# Preprocessing Data"
   ]
  },
  {
   "cell_type": "code",
   "execution_count": 21,
   "id": "78e74c4b",
   "metadata": {
    "execution": {
     "iopub.execute_input": "2025-08-19T17:59:53.807936Z",
     "iopub.status.busy": "2025-08-19T17:59:53.806917Z",
     "iopub.status.idle": "2025-08-19T17:59:53.817386Z",
     "shell.execute_reply": "2025-08-19T17:59:53.816086Z"
    },
    "papermill": {
     "duration": 0.024523,
     "end_time": "2025-08-19T17:59:53.819241",
     "exception": false,
     "start_time": "2025-08-19T17:59:53.794718",
     "status": "completed"
    },
    "tags": []
   },
   "outputs": [],
   "source": [
    "# EXCLUDE PROTECTED FEATURES\n",
    "# --------------------------\n",
    "\n",
    "excluded_features = universe[\"exclude_features\"].split(\"-\")\n",
    "excluded_features_dictionary = {\n",
    "    \"nationality\": [\"maxdeutsch1\", \"maxdeutsch.Missing.\"],\n",
    "    \"sex\": [\"frau1\"],\n",
    "    \"age\": [\"age\"],\n",
    "}"
   ]
  },
  {
   "cell_type": "code",
   "execution_count": 22,
   "id": "f8e63555",
   "metadata": {
    "execution": {
     "iopub.execute_input": "2025-08-19T17:59:53.847015Z",
     "iopub.status.busy": "2025-08-19T17:59:53.845633Z",
     "iopub.status.idle": "2025-08-19T17:59:53.854110Z",
     "shell.execute_reply": "2025-08-19T17:59:53.852937Z"
    },
    "papermill": {
     "duration": 0.022515,
     "end_time": "2025-08-19T17:59:53.855873",
     "exception": false,
     "start_time": "2025-08-19T17:59:53.833358",
     "status": "completed"
    },
    "tags": []
   },
   "outputs": [],
   "source": [
    "excluded_features_columns = [\n",
    "    excluded_features_dictionary[f] for f in excluded_features if len(f) > 0 and f != \"none\"\n",
    "]"
   ]
  },
  {
   "cell_type": "code",
   "execution_count": 23,
   "id": "da781f7c",
   "metadata": {
    "execution": {
     "iopub.execute_input": "2025-08-19T17:59:53.883363Z",
     "iopub.status.busy": "2025-08-19T17:59:53.882381Z",
     "iopub.status.idle": "2025-08-19T17:59:53.889999Z",
     "shell.execute_reply": "2025-08-19T17:59:53.888824Z"
    },
    "papermill": {
     "duration": 0.021444,
     "end_time": "2025-08-19T17:59:53.891686",
     "exception": false,
     "start_time": "2025-08-19T17:59:53.870242",
     "status": "completed"
    },
    "tags": []
   },
   "outputs": [],
   "source": [
    "from fairness_multiverse.universe import flatten_once\n",
    "\n",
    "excluded_features_columns = flatten_once(excluded_features_columns)"
   ]
  },
  {
   "cell_type": "code",
   "execution_count": 24,
   "id": "37fef0f0",
   "metadata": {
    "execution": {
     "iopub.execute_input": "2025-08-19T17:59:53.917003Z",
     "iopub.status.busy": "2025-08-19T17:59:53.915896Z",
     "iopub.status.idle": "2025-08-19T17:59:53.936424Z",
     "shell.execute_reply": "2025-08-19T17:59:53.935207Z"
    },
    "papermill": {
     "duration": 0.035631,
     "end_time": "2025-08-19T17:59:53.939174",
     "exception": false,
     "start_time": "2025-08-19T17:59:53.903543",
     "status": "completed"
    },
    "tags": []
   },
   "outputs": [
    {
     "name": "stdout",
     "output_type": "stream",
     "text": [
      "Dropping features: ['maxdeutsch1', 'maxdeutsch.Missing.']\n"
     ]
    }
   ],
   "source": [
    "if len(excluded_features_columns) > 0:\n",
    "    print(f\"Dropping features: {excluded_features_columns}\")\n",
    "    X_train.drop(excluded_features_columns, axis=1, inplace=True)"
   ]
  },
  {
   "cell_type": "code",
   "execution_count": 25,
   "id": "d029e3e9",
   "metadata": {
    "execution": {
     "iopub.execute_input": "2025-08-19T17:59:53.968630Z",
     "iopub.status.busy": "2025-08-19T17:59:53.967645Z",
     "iopub.status.idle": "2025-08-19T17:59:54.027128Z",
     "shell.execute_reply": "2025-08-19T17:59:54.026284Z"
    },
    "papermill": {
     "duration": 0.078873,
     "end_time": "2025-08-19T17:59:54.034091",
     "exception": false,
     "start_time": "2025-08-19T17:59:53.955218",
     "status": "completed"
    },
    "tags": []
   },
   "outputs": [
    {
     "name": "stdout",
     "output_type": "stream",
     "text": [
      "Dropping features: ['maxdeutsch1', 'maxdeutsch.Missing.']\n"
     ]
    }
   ],
   "source": [
    "if len(excluded_features_columns) > 0:\n",
    "    print(f\"Dropping features: {excluded_features_columns}\")\n",
    "    X_test.drop(excluded_features_columns, axis=1, inplace=True)"
   ]
  },
  {
   "cell_type": "code",
   "execution_count": 26,
   "id": "01d571f0",
   "metadata": {
    "execution": {
     "iopub.execute_input": "2025-08-19T17:59:54.058207Z",
     "iopub.status.busy": "2025-08-19T17:59:54.057339Z",
     "iopub.status.idle": "2025-08-19T17:59:54.117429Z",
     "shell.execute_reply": "2025-08-19T17:59:54.116228Z"
    },
    "papermill": {
     "duration": 0.077351,
     "end_time": "2025-08-19T17:59:54.122452",
     "exception": false,
     "start_time": "2025-08-19T17:59:54.045101",
     "status": "completed"
    },
    "tags": []
   },
   "outputs": [
    {
     "name": "stdout",
     "output_type": "stream",
     "text": [
      "Dropping features: ['maxdeutsch1', 'maxdeutsch.Missing.']\n"
     ]
    }
   ],
   "source": [
    "if len(excluded_features_columns) > 0:\n",
    "    print(f\"Dropping features: {excluded_features_columns}\")\n",
    "    X_calib.drop(excluded_features_columns, axis=1, inplace=True)"
   ]
  },
  {
   "cell_type": "code",
   "execution_count": 27,
   "id": "3037356e",
   "metadata": {
    "execution": {
     "iopub.execute_input": "2025-08-19T17:59:54.158465Z",
     "iopub.status.busy": "2025-08-19T17:59:54.157425Z",
     "iopub.status.idle": "2025-08-19T17:59:54.165697Z",
     "shell.execute_reply": "2025-08-19T17:59:54.164352Z"
    },
    "papermill": {
     "duration": 0.023412,
     "end_time": "2025-08-19T17:59:54.167401",
     "exception": false,
     "start_time": "2025-08-19T17:59:54.143989",
     "status": "completed"
    },
    "tags": []
   },
   "outputs": [],
   "source": [
    "# EXCLUDE CERTAIN SUBGROUPS\n",
    "# -------------------------\n",
    "\n",
    "mode = universe.get(\"exclude_subgroups\", \"keep-all\") # Defaults to \"keep-all\" if the key is missing."
   ]
  },
  {
   "cell_type": "code",
   "execution_count": 28,
   "id": "9d1e63fd",
   "metadata": {
    "execution": {
     "iopub.execute_input": "2025-08-19T17:59:54.194860Z",
     "iopub.status.busy": "2025-08-19T17:59:54.193785Z",
     "iopub.status.idle": "2025-08-19T17:59:54.206224Z",
     "shell.execute_reply": "2025-08-19T17:59:54.205024Z"
    },
    "papermill": {
     "duration": 0.026979,
     "end_time": "2025-08-19T17:59:54.208083",
     "exception": false,
     "start_time": "2025-08-19T17:59:54.181104",
     "status": "completed"
    },
    "tags": []
   },
   "outputs": [],
   "source": [
    "if mode == \"keep-all\":\n",
    "    keep_mask = pd.Series(True, index=org_train.index)\n",
    "\n",
    "elif mode == \"drop-non-german\":\n",
    "    keep_mask = (org_train[\"maxdeutsch1\"] == 1) & (org_train[\"maxdeutsch.Missing.\"] == 0)\n",
    "\n",
    "else:\n",
    "    raise ValueError(f\"Unsupported mode for exclude_subgroups: {mode}\")"
   ]
  },
  {
   "cell_type": "code",
   "execution_count": 29,
   "id": "d3b65474",
   "metadata": {
    "execution": {
     "iopub.execute_input": "2025-08-19T17:59:54.237582Z",
     "iopub.status.busy": "2025-08-19T17:59:54.236974Z",
     "iopub.status.idle": "2025-08-19T17:59:54.243761Z",
     "shell.execute_reply": "2025-08-19T17:59:54.243008Z"
    },
    "papermill": {
     "duration": 0.02002,
     "end_time": "2025-08-19T17:59:54.244966",
     "exception": false,
     "start_time": "2025-08-19T17:59:54.224946",
     "status": "completed"
    },
    "tags": []
   },
   "outputs": [],
   "source": [
    "n_drop = (~keep_mask).sum() # Calculates how many rows are set to be dropped\n",
    "if n_drop > 0:\n",
    "    pct = n_drop / len(keep_mask) * 100\n",
    "    print(f\"Dropping {n_drop} rows ({pct:.2f}%) where mode='{mode}'\")"
   ]
  },
  {
   "cell_type": "code",
   "execution_count": 30,
   "id": "f44389b3",
   "metadata": {
    "execution": {
     "iopub.execute_input": "2025-08-19T17:59:54.273295Z",
     "iopub.status.busy": "2025-08-19T17:59:54.272565Z",
     "iopub.status.idle": "2025-08-19T17:59:54.306563Z",
     "shell.execute_reply": "2025-08-19T17:59:54.305602Z"
    },
    "papermill": {
     "duration": 0.051783,
     "end_time": "2025-08-19T17:59:54.309177",
     "exception": false,
     "start_time": "2025-08-19T17:59:54.257394",
     "status": "completed"
    },
    "tags": []
   },
   "outputs": [],
   "source": [
    "X_train = X_train[keep_mask]"
   ]
  },
  {
   "cell_type": "code",
   "execution_count": 31,
   "id": "ceca8c2a",
   "metadata": {
    "execution": {
     "iopub.execute_input": "2025-08-19T17:59:54.348776Z",
     "iopub.status.busy": "2025-08-19T17:59:54.347922Z",
     "iopub.status.idle": "2025-08-19T17:59:54.359118Z",
     "shell.execute_reply": "2025-08-19T17:59:54.356573Z"
    },
    "papermill": {
     "duration": 0.027894,
     "end_time": "2025-08-19T17:59:54.361975",
     "exception": false,
     "start_time": "2025-08-19T17:59:54.334081",
     "status": "completed"
    },
    "tags": []
   },
   "outputs": [],
   "source": [
    "y_train = y_train[keep_mask]"
   ]
  },
  {
   "cell_type": "markdown",
   "id": "04d31e2f",
   "metadata": {
    "papermill": {
     "duration": 0.011264,
     "end_time": "2025-08-19T17:59:54.386772",
     "exception": false,
     "start_time": "2025-08-19T17:59:54.375508",
     "status": "completed"
    },
    "tags": []
   },
   "source": [
    "# Model Training"
   ]
  },
  {
   "cell_type": "code",
   "execution_count": 32,
   "id": "db991733",
   "metadata": {
    "execution": {
     "iopub.execute_input": "2025-08-19T17:59:54.412068Z",
     "iopub.status.busy": "2025-08-19T17:59:54.410598Z",
     "iopub.status.idle": "2025-08-19T17:59:54.534744Z",
     "shell.execute_reply": "2025-08-19T17:59:54.533674Z"
    },
    "papermill": {
     "duration": 0.142386,
     "end_time": "2025-08-19T17:59:54.540128",
     "exception": false,
     "start_time": "2025-08-19T17:59:54.397742",
     "status": "completed"
    },
    "tags": []
   },
   "outputs": [],
   "source": [
    "from sklearn.linear_model import LogisticRegression\n",
    "from sklearn.ensemble import GradientBoostingClassifier, RandomForestClassifier\n",
    "\n",
    "if (universe[\"model\"] == \"logreg\"):\n",
    "    model = LogisticRegression() #penalty=\"none\", solver=\"newton-cg\", max_iter=1)\n",
    "elif (universe[\"model\"] == \"penalized_logreg\"):\n",
    "    model = LogisticRegression(penalty=\"l2\", C=0.1) #, solver=\"newton-cg\", max_iter=1)\n",
    "elif (universe[\"model\"] == \"rf\"):\n",
    "    model = RandomForestClassifier() # n_estimators=100, n_jobs=-1\n",
    "elif (universe[\"model\"] == \"gbm\"):\n",
    "    model = GradientBoostingClassifier()\n",
    "elif (universe[\"model\"] == \"elasticnet\"):\n",
    "    model = LogisticRegression(penalty = 'elasticnet', solver = 'saga', l1_ratio = 0.5) # max_iter=5000\n",
    "else:\n",
    "    raise \"Unsupported universe.model\""
   ]
  },
  {
   "cell_type": "code",
   "execution_count": 33,
   "id": "a4b5cd25",
   "metadata": {
    "execution": {
     "iopub.execute_input": "2025-08-19T17:59:54.585993Z",
     "iopub.status.busy": "2025-08-19T17:59:54.584980Z",
     "iopub.status.idle": "2025-08-19T17:59:54.594738Z",
     "shell.execute_reply": "2025-08-19T17:59:54.593181Z"
    },
    "papermill": {
     "duration": 0.024168,
     "end_time": "2025-08-19T17:59:54.596388",
     "exception": false,
     "start_time": "2025-08-19T17:59:54.572220",
     "status": "completed"
    },
    "tags": []
   },
   "outputs": [],
   "source": [
    "from sklearn.pipeline import Pipeline\n",
    "from sklearn.preprocessing import StandardScaler\n",
    "\n",
    "model = Pipeline([\n",
    "    #(\"continuous_processor\", continuous_processor),\n",
    "    #(\"categorical_preprocessor\", categorical_preprocessor),\n",
    "    (\"scale\", StandardScaler() if universe[\"scale\"] == \"scale\" else None), \n",
    "    (\"model\", model),\n",
    "])"
   ]
  },
  {
   "cell_type": "code",
   "execution_count": 34,
   "id": "283a904d",
   "metadata": {
    "execution": {
     "iopub.execute_input": "2025-08-19T17:59:54.624987Z",
     "iopub.status.busy": "2025-08-19T17:59:54.623766Z",
     "iopub.status.idle": "2025-08-19T18:00:03.113357Z",
     "shell.execute_reply": "2025-08-19T18:00:03.112482Z"
    },
    "papermill": {
     "duration": 8.504655,
     "end_time": "2025-08-19T18:00:03.114572",
     "exception": false,
     "start_time": "2025-08-19T17:59:54.609917",
     "status": "completed"
    },
    "tags": []
   },
   "outputs": [
    {
     "data": {
      "text/html": [
       "<style>#sk-container-id-1 {color: black;background-color: white;}#sk-container-id-1 pre{padding: 0;}#sk-container-id-1 div.sk-toggleable {background-color: white;}#sk-container-id-1 label.sk-toggleable__label {cursor: pointer;display: block;width: 100%;margin-bottom: 0;padding: 0.3em;box-sizing: border-box;text-align: center;}#sk-container-id-1 label.sk-toggleable__label-arrow:before {content: \"▸\";float: left;margin-right: 0.25em;color: #696969;}#sk-container-id-1 label.sk-toggleable__label-arrow:hover:before {color: black;}#sk-container-id-1 div.sk-estimator:hover label.sk-toggleable__label-arrow:before {color: black;}#sk-container-id-1 div.sk-toggleable__content {max-height: 0;max-width: 0;overflow: hidden;text-align: left;background-color: #f0f8ff;}#sk-container-id-1 div.sk-toggleable__content pre {margin: 0.2em;color: black;border-radius: 0.25em;background-color: #f0f8ff;}#sk-container-id-1 input.sk-toggleable__control:checked~div.sk-toggleable__content {max-height: 200px;max-width: 100%;overflow: auto;}#sk-container-id-1 input.sk-toggleable__control:checked~label.sk-toggleable__label-arrow:before {content: \"▾\";}#sk-container-id-1 div.sk-estimator input.sk-toggleable__control:checked~label.sk-toggleable__label {background-color: #d4ebff;}#sk-container-id-1 div.sk-label input.sk-toggleable__control:checked~label.sk-toggleable__label {background-color: #d4ebff;}#sk-container-id-1 input.sk-hidden--visually {border: 0;clip: rect(1px 1px 1px 1px);clip: rect(1px, 1px, 1px, 1px);height: 1px;margin: -1px;overflow: hidden;padding: 0;position: absolute;width: 1px;}#sk-container-id-1 div.sk-estimator {font-family: monospace;background-color: #f0f8ff;border: 1px dotted black;border-radius: 0.25em;box-sizing: border-box;margin-bottom: 0.5em;}#sk-container-id-1 div.sk-estimator:hover {background-color: #d4ebff;}#sk-container-id-1 div.sk-parallel-item::after {content: \"\";width: 100%;border-bottom: 1px solid gray;flex-grow: 1;}#sk-container-id-1 div.sk-label:hover label.sk-toggleable__label {background-color: #d4ebff;}#sk-container-id-1 div.sk-serial::before {content: \"\";position: absolute;border-left: 1px solid gray;box-sizing: border-box;top: 0;bottom: 0;left: 50%;z-index: 0;}#sk-container-id-1 div.sk-serial {display: flex;flex-direction: column;align-items: center;background-color: white;padding-right: 0.2em;padding-left: 0.2em;position: relative;}#sk-container-id-1 div.sk-item {position: relative;z-index: 1;}#sk-container-id-1 div.sk-parallel {display: flex;align-items: stretch;justify-content: center;background-color: white;position: relative;}#sk-container-id-1 div.sk-item::before, #sk-container-id-1 div.sk-parallel-item::before {content: \"\";position: absolute;border-left: 1px solid gray;box-sizing: border-box;top: 0;bottom: 0;left: 50%;z-index: -1;}#sk-container-id-1 div.sk-parallel-item {display: flex;flex-direction: column;z-index: 1;position: relative;background-color: white;}#sk-container-id-1 div.sk-parallel-item:first-child::after {align-self: flex-end;width: 50%;}#sk-container-id-1 div.sk-parallel-item:last-child::after {align-self: flex-start;width: 50%;}#sk-container-id-1 div.sk-parallel-item:only-child::after {width: 0;}#sk-container-id-1 div.sk-dashed-wrapped {border: 1px dashed gray;margin: 0 0.4em 0.5em 0.4em;box-sizing: border-box;padding-bottom: 0.4em;background-color: white;}#sk-container-id-1 div.sk-label label {font-family: monospace;font-weight: bold;display: inline-block;line-height: 1.2em;}#sk-container-id-1 div.sk-label-container {text-align: center;}#sk-container-id-1 div.sk-container {/* jupyter's `normalize.less` sets `[hidden] { display: none; }` but bootstrap.min.css set `[hidden] { display: none !important; }` so we also need the `!important` here to be able to override the default hidden behavior on the sphinx rendered scikit-learn.org. See: https://github.com/scikit-learn/scikit-learn/issues/21755 */display: inline-block !important;position: relative;}#sk-container-id-1 div.sk-text-repr-fallback {display: none;}</style><div id=\"sk-container-id-1\" class=\"sk-top-container\"><div class=\"sk-text-repr-fallback\"><pre>Pipeline(steps=[(&#x27;scale&#x27;, None), (&#x27;model&#x27;, RandomForestClassifier())])</pre><b>In a Jupyter environment, please rerun this cell to show the HTML representation or trust the notebook. <br />On GitHub, the HTML representation is unable to render, please try loading this page with nbviewer.org.</b></div><div class=\"sk-container\" hidden><div class=\"sk-item sk-dashed-wrapped\"><div class=\"sk-label-container\"><div class=\"sk-label sk-toggleable\"><input class=\"sk-toggleable__control sk-hidden--visually\" id=\"sk-estimator-id-1\" type=\"checkbox\" ><label for=\"sk-estimator-id-1\" class=\"sk-toggleable__label sk-toggleable__label-arrow\">Pipeline</label><div class=\"sk-toggleable__content\"><pre>Pipeline(steps=[(&#x27;scale&#x27;, None), (&#x27;model&#x27;, RandomForestClassifier())])</pre></div></div></div><div class=\"sk-serial\"><div class=\"sk-item\"><div class=\"sk-estimator sk-toggleable\"><input class=\"sk-toggleable__control sk-hidden--visually\" id=\"sk-estimator-id-2\" type=\"checkbox\" ><label for=\"sk-estimator-id-2\" class=\"sk-toggleable__label sk-toggleable__label-arrow\">None</label><div class=\"sk-toggleable__content\"><pre>None</pre></div></div></div><div class=\"sk-item\"><div class=\"sk-estimator sk-toggleable\"><input class=\"sk-toggleable__control sk-hidden--visually\" id=\"sk-estimator-id-3\" type=\"checkbox\" ><label for=\"sk-estimator-id-3\" class=\"sk-toggleable__label sk-toggleable__label-arrow\">RandomForestClassifier</label><div class=\"sk-toggleable__content\"><pre>RandomForestClassifier()</pre></div></div></div></div></div></div></div>"
      ],
      "text/plain": [
       "Pipeline(steps=[('scale', None), ('model', RandomForestClassifier())])"
      ]
     },
     "execution_count": 34,
     "metadata": {},
     "output_type": "execute_result"
    }
   ],
   "source": [
    "model.fit(X_train, y_train.values.ravel())"
   ]
  },
  {
   "cell_type": "code",
   "execution_count": 35,
   "id": "6e15e313",
   "metadata": {
    "execution": {
     "iopub.execute_input": "2025-08-19T18:00:03.143029Z",
     "iopub.status.busy": "2025-08-19T18:00:03.141922Z",
     "iopub.status.idle": "2025-08-19T18:00:05.858862Z",
     "shell.execute_reply": "2025-08-19T18:00:05.857872Z"
    },
    "papermill": {
     "duration": 2.733114,
     "end_time": "2025-08-19T18:00:05.861656",
     "exception": false,
     "start_time": "2025-08-19T18:00:03.128542",
     "status": "completed"
    },
    "tags": []
   },
   "outputs": [
    {
     "data": {
      "text/plain": [
       "0.8665143239326719"
      ]
     },
     "execution_count": 35,
     "metadata": {},
     "output_type": "execute_result"
    }
   ],
   "source": [
    "from fairness_multiverse.universe import predict_w_threshold\n",
    "\n",
    "probs_test = model.predict_proba(X_test)\n",
    "\n",
    "'''\n",
    "Below code returns a boolean array (or binary 0/1 array depending on how it’s used) where each element \n",
    "is True if the probability of class 1 is greater than or equal to the threshold, and False otherwise.\n",
    "'''\n",
    "y_pred_default = predict_w_threshold(probs_test, 0.5)\n",
    "\n",
    "from sklearn.metrics import accuracy_score\n",
    "\n",
    "# Naive prediction\n",
    "accuracy_score(y_true = y_true, y_pred = y_pred_default)"
   ]
  },
  {
   "cell_type": "code",
   "execution_count": 36,
   "id": "6f14067c",
   "metadata": {
    "execution": {
     "iopub.execute_input": "2025-08-19T18:00:05.914388Z",
     "iopub.status.busy": "2025-08-19T18:00:05.913219Z",
     "iopub.status.idle": "2025-08-19T18:00:08.499364Z",
     "shell.execute_reply": "2025-08-19T18:00:08.498202Z"
    },
    "papermill": {
     "duration": 2.603586,
     "end_time": "2025-08-19T18:00:08.502113",
     "exception": false,
     "start_time": "2025-08-19T18:00:05.898527",
     "status": "completed"
    },
    "tags": []
   },
   "outputs": [
    {
     "data": {
      "text/plain": [
       "array([0, 0, 0, ..., 0, 0, 0])"
      ]
     },
     "execution_count": 36,
     "metadata": {},
     "output_type": "execute_result"
    }
   ],
   "source": [
    "model.predict(X_test)"
   ]
  },
  {
   "cell_type": "markdown",
   "id": "3759920c",
   "metadata": {
    "papermill": {
     "duration": 0.012228,
     "end_time": "2025-08-19T18:00:08.538325",
     "exception": false,
     "start_time": "2025-08-19T18:00:08.526097",
     "status": "completed"
    },
    "tags": []
   },
   "source": [
    "# Conformal Prediction"
   ]
  },
  {
   "cell_type": "code",
   "execution_count": 37,
   "id": "14b27f59",
   "metadata": {
    "execution": {
     "iopub.execute_input": "2025-08-19T18:00:08.564071Z",
     "iopub.status.busy": "2025-08-19T18:00:08.562871Z",
     "iopub.status.idle": "2025-08-19T18:00:08.572655Z",
     "shell.execute_reply": "2025-08-19T18:00:08.571333Z"
    },
    "papermill": {
     "duration": 0.02472,
     "end_time": "2025-08-19T18:00:08.574138",
     "exception": false,
     "start_time": "2025-08-19T18:00:08.549418",
     "status": "completed"
    },
    "tags": []
   },
   "outputs": [],
   "source": [
    "# Miscoverage level for conformal prediction (10% allowed error rate => 90% target coverage)\n",
    "alpha = 0.1"
   ]
  },
  {
   "cell_type": "code",
   "execution_count": 38,
   "id": "59102472",
   "metadata": {
    "execution": {
     "iopub.execute_input": "2025-08-19T18:00:08.604163Z",
     "iopub.status.busy": "2025-08-19T18:00:08.602743Z",
     "iopub.status.idle": "2025-08-19T18:00:11.099428Z",
     "shell.execute_reply": "2025-08-19T18:00:11.098207Z"
    },
    "papermill": {
     "duration": 2.511372,
     "end_time": "2025-08-19T18:00:11.101029",
     "exception": false,
     "start_time": "2025-08-19T18:00:08.589657",
     "status": "completed"
    },
    "tags": []
   },
   "outputs": [],
   "source": [
    "probs_calib = model.predict_proba(X_calib)"
   ]
  },
  {
   "cell_type": "code",
   "execution_count": 39,
   "id": "a792d4dd",
   "metadata": {
    "execution": {
     "iopub.execute_input": "2025-08-19T18:00:11.128027Z",
     "iopub.status.busy": "2025-08-19T18:00:11.127401Z",
     "iopub.status.idle": "2025-08-19T18:00:11.133771Z",
     "shell.execute_reply": "2025-08-19T18:00:11.132981Z"
    },
    "papermill": {
     "duration": 0.020703,
     "end_time": "2025-08-19T18:00:11.135172",
     "exception": false,
     "start_time": "2025-08-19T18:00:11.114469",
     "status": "completed"
    },
    "tags": []
   },
   "outputs": [],
   "source": [
    "y_calib = y_calib.values.ravel().astype(int)"
   ]
  },
  {
   "cell_type": "code",
   "execution_count": 40,
   "id": "650fd033",
   "metadata": {
    "execution": {
     "iopub.execute_input": "2025-08-19T18:00:11.158776Z",
     "iopub.status.busy": "2025-08-19T18:00:11.158414Z",
     "iopub.status.idle": "2025-08-19T18:00:11.164958Z",
     "shell.execute_reply": "2025-08-19T18:00:11.164298Z"
    },
    "papermill": {
     "duration": 0.019866,
     "end_time": "2025-08-19T18:00:11.166254",
     "exception": false,
     "start_time": "2025-08-19T18:00:11.146388",
     "status": "completed"
    },
    "tags": []
   },
   "outputs": [],
   "source": [
    "from fairness_multiverse.conformal import compute_nc_scores\n",
    "\n",
    "# Compute nonconformity scores on calibration set (1 - probability of true class)\n",
    "nc_scores = compute_nc_scores(probs_calib, y_calib)"
   ]
  },
  {
   "cell_type": "code",
   "execution_count": 41,
   "id": "28ada44c",
   "metadata": {
    "execution": {
     "iopub.execute_input": "2025-08-19T18:00:11.190506Z",
     "iopub.status.busy": "2025-08-19T18:00:11.190133Z",
     "iopub.status.idle": "2025-08-19T18:00:11.195556Z",
     "shell.execute_reply": "2025-08-19T18:00:11.194822Z"
    },
    "papermill": {
     "duration": 0.018713,
     "end_time": "2025-08-19T18:00:11.196723",
     "exception": false,
     "start_time": "2025-08-19T18:00:11.178010",
     "status": "completed"
    },
    "tags": []
   },
   "outputs": [],
   "source": [
    "from fairness_multiverse.conformal import find_threshold\n",
    "\n",
    "# Find conformal threshold q_hat for the given alpha (split conformal method)\n",
    "q_hat = find_threshold(nc_scores, alpha)"
   ]
  },
  {
   "cell_type": "code",
   "execution_count": 42,
   "id": "df56469e",
   "metadata": {
    "execution": {
     "iopub.execute_input": "2025-08-19T18:00:11.220972Z",
     "iopub.status.busy": "2025-08-19T18:00:11.220271Z",
     "iopub.status.idle": "2025-08-19T18:00:11.227541Z",
     "shell.execute_reply": "2025-08-19T18:00:11.226619Z"
    },
    "papermill": {
     "duration": 0.020818,
     "end_time": "2025-08-19T18:00:11.228804",
     "exception": false,
     "start_time": "2025-08-19T18:00:11.207986",
     "status": "completed"
    },
    "tags": []
   },
   "outputs": [
    {
     "data": {
      "text/plain": [
       "0.6699999999999999"
      ]
     },
     "execution_count": 42,
     "metadata": {},
     "output_type": "execute_result"
    }
   ],
   "source": [
    "q_hat"
   ]
  },
  {
   "cell_type": "code",
   "execution_count": 43,
   "id": "aa1f5faa",
   "metadata": {
    "execution": {
     "iopub.execute_input": "2025-08-19T18:00:11.254844Z",
     "iopub.status.busy": "2025-08-19T18:00:11.253887Z",
     "iopub.status.idle": "2025-08-19T18:00:14.172883Z",
     "shell.execute_reply": "2025-08-19T18:00:14.171910Z"
    },
    "papermill": {
     "duration": 2.933641,
     "end_time": "2025-08-19T18:00:14.174460",
     "exception": false,
     "start_time": "2025-08-19T18:00:11.240819",
     "status": "completed"
    },
    "tags": []
   },
   "outputs": [],
   "source": [
    "from fairness_multiverse.conformal import predict_conformal_sets\n",
    "\n",
    "# Generate prediction sets for each test example\n",
    "pred_sets = predict_conformal_sets(model, X_test, q_hat)"
   ]
  },
  {
   "cell_type": "code",
   "execution_count": 44,
   "id": "97f67a6b",
   "metadata": {
    "execution": {
     "iopub.execute_input": "2025-08-19T18:00:14.201088Z",
     "iopub.status.busy": "2025-08-19T18:00:14.200397Z",
     "iopub.status.idle": "2025-08-19T18:00:14.222298Z",
     "shell.execute_reply": "2025-08-19T18:00:14.221171Z"
    },
    "papermill": {
     "duration": 0.038018,
     "end_time": "2025-08-19T18:00:14.225546",
     "exception": false,
     "start_time": "2025-08-19T18:00:14.187528",
     "status": "completed"
    },
    "tags": []
   },
   "outputs": [],
   "source": [
    "y_true = y_true.squeeze()"
   ]
  },
  {
   "cell_type": "code",
   "execution_count": 45,
   "id": "e700e9a7",
   "metadata": {
    "execution": {
     "iopub.execute_input": "2025-08-19T18:00:14.251118Z",
     "iopub.status.busy": "2025-08-19T18:00:14.250738Z",
     "iopub.status.idle": "2025-08-19T18:00:14.746388Z",
     "shell.execute_reply": "2025-08-19T18:00:14.744939Z"
    },
    "papermill": {
     "duration": 0.511445,
     "end_time": "2025-08-19T18:00:14.749984",
     "exception": false,
     "start_time": "2025-08-19T18:00:14.238539",
     "status": "completed"
    },
    "tags": []
   },
   "outputs": [],
   "source": [
    "from fairness_multiverse.conformal import evaluate_sets\n",
    "\n",
    "# Evaluate coverage and average set size on test data\n",
    "metrics = evaluate_sets(pred_sets, y_true)"
   ]
  },
  {
   "cell_type": "markdown",
   "id": "efbacec0",
   "metadata": {
    "papermill": {
     "duration": 0.015163,
     "end_time": "2025-08-19T18:00:14.788920",
     "exception": false,
     "start_time": "2025-08-19T18:00:14.773757",
     "status": "completed"
    },
    "tags": []
   },
   "source": [
    "# CP Metrics"
   ]
  },
  {
   "cell_type": "code",
   "execution_count": 46,
   "id": "9de55fb1",
   "metadata": {
    "execution": {
     "iopub.execute_input": "2025-08-19T18:00:14.831195Z",
     "iopub.status.busy": "2025-08-19T18:00:14.830728Z",
     "iopub.status.idle": "2025-08-19T18:00:14.837733Z",
     "shell.execute_reply": "2025-08-19T18:00:14.836996Z"
    },
    "papermill": {
     "duration": 0.023346,
     "end_time": "2025-08-19T18:00:14.839041",
     "exception": false,
     "start_time": "2025-08-19T18:00:14.815695",
     "status": "completed"
    },
    "tags": []
   },
   "outputs": [
    {
     "data": {
      "text/plain": [
       "{'coverage': 0.9165421915059636, 'avg_size': 1.1511314234756438}"
      ]
     },
     "execution_count": 46,
     "metadata": {},
     "output_type": "execute_result"
    }
   ],
   "source": [
    "metrics"
   ]
  },
  {
   "cell_type": "code",
   "execution_count": 47,
   "id": "64c340a1",
   "metadata": {
    "execution": {
     "iopub.execute_input": "2025-08-19T18:00:14.864719Z",
     "iopub.status.busy": "2025-08-19T18:00:14.864273Z",
     "iopub.status.idle": "2025-08-19T18:00:14.869795Z",
     "shell.execute_reply": "2025-08-19T18:00:14.868911Z"
    },
    "papermill": {
     "duration": 0.021799,
     "end_time": "2025-08-19T18:00:14.872644",
     "exception": false,
     "start_time": "2025-08-19T18:00:14.850845",
     "status": "completed"
    },
    "tags": []
   },
   "outputs": [],
   "source": [
    "example_universe = universe.copy()\n",
    "universe_training_year = example_universe.get(\"training_year\")\n",
    "universe_training_size = example_universe.get(\"training_size\")\n",
    "universe_scale = example_universe.get(\"scale\")\n",
    "universe_model = example_universe.get(\"model\")\n",
    "universe_exclude_features = example_universe.get(\"exclude_features\")\n",
    "universe_exclude_subgroups = example_universe.get(\"exclude_subgroups\")"
   ]
  },
  {
   "cell_type": "code",
   "execution_count": 48,
   "id": "dbb53cb4",
   "metadata": {
    "execution": {
     "iopub.execute_input": "2025-08-19T18:00:14.905367Z",
     "iopub.status.busy": "2025-08-19T18:00:14.904413Z",
     "iopub.status.idle": "2025-08-19T18:00:14.913315Z",
     "shell.execute_reply": "2025-08-19T18:00:14.911922Z"
    },
    "papermill": {
     "duration": 0.024404,
     "end_time": "2025-08-19T18:00:14.914832",
     "exception": false,
     "start_time": "2025-08-19T18:00:14.890428",
     "status": "completed"
    },
    "tags": []
   },
   "outputs": [],
   "source": [
    "cp_metrics_dict = {\n",
    "    \"universe_id\": [universe_id],\n",
    "    \"universe_training_year\": [universe_training_year],\n",
    "    \"universe_training_size\": [universe_training_size],\n",
    "    \"universe_scale\": [universe_scale],\n",
    "    \"universe_model\": [universe_model],\n",
    "    \"universe_exclude_features\": [universe_exclude_features],\n",
    "    \"universe_exclude_subgroups\": [universe_exclude_subgroups],\n",
    "    \"q_hat\": [q_hat],\n",
    "    \"coverage\": [metrics[\"coverage\"]],\n",
    "    \"avg_size\": [metrics[\"avg_size\"]],\n",
    "}"
   ]
  },
  {
   "cell_type": "code",
   "execution_count": 49,
   "id": "0d70d4b2",
   "metadata": {
    "execution": {
     "iopub.execute_input": "2025-08-19T18:00:14.941510Z",
     "iopub.status.busy": "2025-08-19T18:00:14.940421Z",
     "iopub.status.idle": "2025-08-19T18:00:14.951298Z",
     "shell.execute_reply": "2025-08-19T18:00:14.950091Z"
    },
    "papermill": {
     "duration": 0.025725,
     "end_time": "2025-08-19T18:00:14.953092",
     "exception": false,
     "start_time": "2025-08-19T18:00:14.927367",
     "status": "completed"
    },
    "tags": []
   },
   "outputs": [],
   "source": [
    "cp_metrics_df = pd.DataFrame(cp_metrics_dict)"
   ]
  },
  {
   "cell_type": "code",
   "execution_count": 50,
   "id": "b494403c",
   "metadata": {
    "execution": {
     "iopub.execute_input": "2025-08-19T18:00:14.981818Z",
     "iopub.status.busy": "2025-08-19T18:00:14.980881Z",
     "iopub.status.idle": "2025-08-19T18:00:15.003698Z",
     "shell.execute_reply": "2025-08-19T18:00:15.002631Z"
    },
    "papermill": {
     "duration": 0.038249,
     "end_time": "2025-08-19T18:00:15.005753",
     "exception": false,
     "start_time": "2025-08-19T18:00:14.967504",
     "status": "completed"
    },
    "tags": []
   },
   "outputs": [
    {
     "data": {
      "text/html": [
       "<div>\n",
       "<style scoped>\n",
       "    .dataframe tbody tr th:only-of-type {\n",
       "        vertical-align: middle;\n",
       "    }\n",
       "\n",
       "    .dataframe tbody tr th {\n",
       "        vertical-align: top;\n",
       "    }\n",
       "\n",
       "    .dataframe thead th {\n",
       "        text-align: right;\n",
       "    }\n",
       "</style>\n",
       "<table border=\"1\" class=\"dataframe\">\n",
       "  <thead>\n",
       "    <tr style=\"text-align: right;\">\n",
       "      <th></th>\n",
       "      <th>universe_id</th>\n",
       "      <th>universe_training_year</th>\n",
       "      <th>universe_training_size</th>\n",
       "      <th>universe_scale</th>\n",
       "      <th>universe_model</th>\n",
       "      <th>universe_exclude_features</th>\n",
       "      <th>universe_exclude_subgroups</th>\n",
       "      <th>q_hat</th>\n",
       "      <th>coverage</th>\n",
       "      <th>avg_size</th>\n",
       "    </tr>\n",
       "  </thead>\n",
       "  <tbody>\n",
       "    <tr>\n",
       "      <th>0</th>\n",
       "      <td>1e25f156a4cec868e85cfe415cfffb14</td>\n",
       "      <td>2014</td>\n",
       "      <td>25k</td>\n",
       "      <td>do-not-scale</td>\n",
       "      <td>rf</td>\n",
       "      <td>nationality</td>\n",
       "      <td>keep-all</td>\n",
       "      <td>0.67</td>\n",
       "      <td>0.916542</td>\n",
       "      <td>1.151131</td>\n",
       "    </tr>\n",
       "  </tbody>\n",
       "</table>\n",
       "</div>"
      ],
      "text/plain": [
       "                        universe_id universe_training_year  \\\n",
       "0  1e25f156a4cec868e85cfe415cfffb14                   2014   \n",
       "\n",
       "  universe_training_size universe_scale universe_model  \\\n",
       "0                    25k   do-not-scale             rf   \n",
       "\n",
       "  universe_exclude_features universe_exclude_subgroups  q_hat  coverage  \\\n",
       "0               nationality                   keep-all   0.67  0.916542   \n",
       "\n",
       "   avg_size  \n",
       "0  1.151131  "
      ]
     },
     "execution_count": 50,
     "metadata": {},
     "output_type": "execute_result"
    }
   ],
   "source": [
    "cp_metrics_df"
   ]
  },
  {
   "cell_type": "markdown",
   "id": "ed608b0b",
   "metadata": {
    "papermill": {
     "duration": 0.011758,
     "end_time": "2025-08-19T18:00:15.034755",
     "exception": false,
     "start_time": "2025-08-19T18:00:15.022997",
     "status": "completed"
    },
    "tags": []
   },
   "source": [
    "Conditional coverage & looking at subgroups"
   ]
  },
  {
   "cell_type": "code",
   "execution_count": 51,
   "id": "8968c366",
   "metadata": {
    "execution": {
     "iopub.execute_input": "2025-08-19T18:00:15.062105Z",
     "iopub.status.busy": "2025-08-19T18:00:15.061115Z",
     "iopub.status.idle": "2025-08-19T18:00:15.360739Z",
     "shell.execute_reply": "2025-08-19T18:00:15.359645Z"
    },
    "papermill": {
     "duration": 0.32499,
     "end_time": "2025-08-19T18:00:15.372757",
     "exception": false,
     "start_time": "2025-08-19T18:00:15.047767",
     "status": "completed"
    },
    "tags": []
   },
   "outputs": [],
   "source": [
    "from fairness_multiverse.conformal import build_cp_groups\n",
    "\n",
    "cp_groups_df = build_cp_groups(pred_sets, y_true, X_test.index, org_test)"
   ]
  },
  {
   "cell_type": "code",
   "execution_count": 52,
   "id": "292ddabf",
   "metadata": {
    "execution": {
     "iopub.execute_input": "2025-08-19T18:00:15.423690Z",
     "iopub.status.busy": "2025-08-19T18:00:15.410046Z",
     "iopub.status.idle": "2025-08-19T18:00:16.284864Z",
     "shell.execute_reply": "2025-08-19T18:00:16.283532Z"
    },
    "papermill": {
     "duration": 0.890887,
     "end_time": "2025-08-19T18:00:16.286901",
     "exception": false,
     "start_time": "2025-08-19T18:00:15.396014",
     "status": "completed"
    },
    "tags": []
   },
   "outputs": [],
   "source": [
    "# Define covered = 1 if true_label is in the predicted set\n",
    "cp_groups_df['covered'] = cp_groups_df.apply(\n",
    "    lambda r: int(r['true_label'] in r['pred_set']),\n",
    "    axis=1\n",
    ")"
   ]
  },
  {
   "cell_type": "code",
   "execution_count": 53,
   "id": "3a261692",
   "metadata": {
    "execution": {
     "iopub.execute_input": "2025-08-19T18:00:16.344138Z",
     "iopub.status.busy": "2025-08-19T18:00:16.343559Z",
     "iopub.status.idle": "2025-08-19T18:00:16.363661Z",
     "shell.execute_reply": "2025-08-19T18:00:16.362479Z"
    },
    "papermill": {
     "duration": 0.049321,
     "end_time": "2025-08-19T18:00:16.366118",
     "exception": false,
     "start_time": "2025-08-19T18:00:16.316797",
     "status": "completed"
    },
    "tags": []
   },
   "outputs": [],
   "source": [
    "subgroups = ['frau1','nongerman','nongerman_male','nongerman_female']\n",
    "\n",
    "# Conditional coverage for subgroup==1\n",
    "cond_coverage = {\n",
    "    g: cp_groups_df.loc[cp_groups_df[g]==1, 'covered'].mean()\n",
    "    for g in subgroups\n",
    "}"
   ]
  },
  {
   "cell_type": "code",
   "execution_count": 54,
   "id": "894fd600",
   "metadata": {
    "execution": {
     "iopub.execute_input": "2025-08-19T18:00:16.394491Z",
     "iopub.status.busy": "2025-08-19T18:00:16.393359Z",
     "iopub.status.idle": "2025-08-19T18:00:16.406077Z",
     "shell.execute_reply": "2025-08-19T18:00:16.404815Z"
    },
    "papermill": {
     "duration": 0.039637,
     "end_time": "2025-08-19T18:00:16.418376",
     "exception": false,
     "start_time": "2025-08-19T18:00:16.378739",
     "status": "completed"
    },
    "tags": []
   },
   "outputs": [
    {
     "data": {
      "text/plain": [
       "{'frau1': 0.9170508154737835,\n",
       " 'nongerman': 0.9159602537472632,\n",
       " 'nongerman_male': 0.9286679275871386,\n",
       " 'nongerman_female': 0.8949329359165424}"
      ]
     },
     "execution_count": 54,
     "metadata": {},
     "output_type": "execute_result"
    }
   ],
   "source": [
    "cond_coverage"
   ]
  },
  {
   "cell_type": "code",
   "execution_count": 55,
   "id": "942895c7",
   "metadata": {
    "execution": {
     "iopub.execute_input": "2025-08-19T18:00:16.459608Z",
     "iopub.status.busy": "2025-08-19T18:00:16.459189Z",
     "iopub.status.idle": "2025-08-19T18:00:16.466018Z",
     "shell.execute_reply": "2025-08-19T18:00:16.465236Z"
    },
    "papermill": {
     "duration": 0.021951,
     "end_time": "2025-08-19T18:00:16.467401",
     "exception": false,
     "start_time": "2025-08-19T18:00:16.445450",
     "status": "completed"
    },
    "tags": []
   },
   "outputs": [],
   "source": [
    "for subgroup, cov in cond_coverage.items():\n",
    "    cp_metrics_df[f\"cov_{subgroup}\"] = cov"
   ]
  },
  {
   "cell_type": "code",
   "execution_count": 56,
   "id": "3970120f",
   "metadata": {
    "execution": {
     "iopub.execute_input": "2025-08-19T18:00:16.493284Z",
     "iopub.status.busy": "2025-08-19T18:00:16.492929Z",
     "iopub.status.idle": "2025-08-19T18:00:16.508742Z",
     "shell.execute_reply": "2025-08-19T18:00:16.507997Z"
    },
    "papermill": {
     "duration": 0.029994,
     "end_time": "2025-08-19T18:00:16.510070",
     "exception": false,
     "start_time": "2025-08-19T18:00:16.480076",
     "status": "completed"
    },
    "tags": []
   },
   "outputs": [
    {
     "data": {
      "text/html": [
       "<div>\n",
       "<style scoped>\n",
       "    .dataframe tbody tr th:only-of-type {\n",
       "        vertical-align: middle;\n",
       "    }\n",
       "\n",
       "    .dataframe tbody tr th {\n",
       "        vertical-align: top;\n",
       "    }\n",
       "\n",
       "    .dataframe thead th {\n",
       "        text-align: right;\n",
       "    }\n",
       "</style>\n",
       "<table border=\"1\" class=\"dataframe\">\n",
       "  <thead>\n",
       "    <tr style=\"text-align: right;\">\n",
       "      <th></th>\n",
       "      <th>universe_id</th>\n",
       "      <th>universe_training_year</th>\n",
       "      <th>universe_training_size</th>\n",
       "      <th>universe_scale</th>\n",
       "      <th>universe_model</th>\n",
       "      <th>universe_exclude_features</th>\n",
       "      <th>universe_exclude_subgroups</th>\n",
       "      <th>q_hat</th>\n",
       "      <th>coverage</th>\n",
       "      <th>avg_size</th>\n",
       "      <th>cov_frau1</th>\n",
       "      <th>cov_nongerman</th>\n",
       "      <th>cov_nongerman_male</th>\n",
       "      <th>cov_nongerman_female</th>\n",
       "    </tr>\n",
       "  </thead>\n",
       "  <tbody>\n",
       "    <tr>\n",
       "      <th>0</th>\n",
       "      <td>1e25f156a4cec868e85cfe415cfffb14</td>\n",
       "      <td>2014</td>\n",
       "      <td>25k</td>\n",
       "      <td>do-not-scale</td>\n",
       "      <td>rf</td>\n",
       "      <td>nationality</td>\n",
       "      <td>keep-all</td>\n",
       "      <td>0.67</td>\n",
       "      <td>0.916542</td>\n",
       "      <td>1.151131</td>\n",
       "      <td>0.917051</td>\n",
       "      <td>0.91596</td>\n",
       "      <td>0.928668</td>\n",
       "      <td>0.894933</td>\n",
       "    </tr>\n",
       "  </tbody>\n",
       "</table>\n",
       "</div>"
      ],
      "text/plain": [
       "                        universe_id universe_training_year  \\\n",
       "0  1e25f156a4cec868e85cfe415cfffb14                   2014   \n",
       "\n",
       "  universe_training_size universe_scale universe_model  \\\n",
       "0                    25k   do-not-scale             rf   \n",
       "\n",
       "  universe_exclude_features universe_exclude_subgroups  q_hat  coverage  \\\n",
       "0               nationality                   keep-all   0.67  0.916542   \n",
       "\n",
       "   avg_size  cov_frau1  cov_nongerman  cov_nongerman_male  \\\n",
       "0  1.151131   0.917051        0.91596            0.928668   \n",
       "\n",
       "   cov_nongerman_female  \n",
       "0              0.894933  "
      ]
     },
     "execution_count": 56,
     "metadata": {},
     "output_type": "execute_result"
    }
   ],
   "source": [
    "cp_metrics_df"
   ]
  },
  {
   "cell_type": "markdown",
   "id": "3fc519cc",
   "metadata": {
    "papermill": {
     "duration": 0.012118,
     "end_time": "2025-08-19T18:00:16.536638",
     "exception": false,
     "start_time": "2025-08-19T18:00:16.524520",
     "status": "completed"
    },
    "tags": []
   },
   "source": [
    "# (Fairness) Metrics"
   ]
  },
  {
   "cell_type": "code",
   "execution_count": 57,
   "id": "a2e5e155",
   "metadata": {
    "execution": {
     "iopub.execute_input": "2025-08-19T18:00:16.562858Z",
     "iopub.status.busy": "2025-08-19T18:00:16.562007Z",
     "iopub.status.idle": "2025-08-19T18:00:16.576890Z",
     "shell.execute_reply": "2025-08-19T18:00:16.576111Z"
    },
    "papermill": {
     "duration": 0.029513,
     "end_time": "2025-08-19T18:00:16.578228",
     "exception": false,
     "start_time": "2025-08-19T18:00:16.548715",
     "status": "completed"
    },
    "tags": []
   },
   "outputs": [],
   "source": [
    "colname_to_bin = \"maxdeutsch1\"\n",
    "majority_value = org_train[colname_to_bin].mode()[0]\n",
    "\n",
    "org_test[\"majmin\"] = np.where(org_test[colname_to_bin] == majority_value, \"majority\", \"minority\")"
   ]
  },
  {
   "cell_type": "code",
   "execution_count": 58,
   "id": "17e3e4d5",
   "metadata": {
    "execution": {
     "iopub.execute_input": "2025-08-19T18:00:16.608181Z",
     "iopub.status.busy": "2025-08-19T18:00:16.607813Z",
     "iopub.status.idle": "2025-08-19T18:00:18.369997Z",
     "shell.execute_reply": "2025-08-19T18:00:18.368574Z"
    },
    "papermill": {
     "duration": 1.780157,
     "end_time": "2025-08-19T18:00:18.374589",
     "exception": false,
     "start_time": "2025-08-19T18:00:16.594432",
     "status": "completed"
    },
    "tags": []
   },
   "outputs": [],
   "source": [
    "example_universe = universe.copy()\n",
    "example_universe[\"cutoff\"] = example_universe[\"cutoff\"][0]\n",
    "example_universe[\"eval_fairness_grouping\"] = example_universe[\"eval_fairness_grouping\"][0]\n",
    "fairness_dict, metric_frame = universe_analysis.compute_metrics(\n",
    "    example_universe,\n",
    "    y_pred_prob=probs_test,\n",
    "    y_test=y_true,\n",
    "    org_test=org_test,\n",
    ")"
   ]
  },
  {
   "cell_type": "markdown",
   "id": "1fb7a0e9",
   "metadata": {
    "papermill": {
     "duration": 0.012296,
     "end_time": "2025-08-19T18:00:18.402649",
     "exception": false,
     "start_time": "2025-08-19T18:00:18.390353",
     "status": "completed"
    },
    "tags": []
   },
   "source": [
    "# Overall"
   ]
  },
  {
   "cell_type": "markdown",
   "id": "be1784b1",
   "metadata": {
    "papermill": {
     "duration": 0.012043,
     "end_time": "2025-08-19T18:00:18.427036",
     "exception": false,
     "start_time": "2025-08-19T18:00:18.414993",
     "status": "completed"
    },
    "tags": []
   },
   "source": [
    "Main fairness target: Equalized Odds. Seems to be a better fit than equal opportunity, since we're not only interested in Y = 1. Seems to be a better fit than demographic parity, since we also care about accuracy, not just equal distribution of preds.\n",
    "\n",
    "Pick column for computation of fairness metrics\n",
    "\n",
    "Performance\n",
    "Overall performance measures, most interesting in relation to the measures split by group below"
   ]
  },
  {
   "cell_type": "code",
   "execution_count": 59,
   "id": "b7672bee",
   "metadata": {
    "execution": {
     "iopub.execute_input": "2025-08-19T18:00:18.452812Z",
     "iopub.status.busy": "2025-08-19T18:00:18.452383Z",
     "iopub.status.idle": "2025-08-19T18:00:18.460257Z",
     "shell.execute_reply": "2025-08-19T18:00:18.459543Z"
    },
    "papermill": {
     "duration": 0.027164,
     "end_time": "2025-08-19T18:00:18.466245",
     "exception": false,
     "start_time": "2025-08-19T18:00:18.439081",
     "status": "completed"
    },
    "tags": []
   },
   "outputs": [
    {
     "data": {
      "text/plain": [
       "accuracy                   0.205139\n",
       "balanced accuracy          0.534339\n",
       "f1                         0.239773\n",
       "precision                  0.136653\n",
       "false positive rate        0.908468\n",
       "false negative rate        0.022854\n",
       "selection rate             0.917278\n",
       "count                  89710.000000\n",
       "dtype: float64"
      ]
     },
     "execution_count": 59,
     "metadata": {},
     "output_type": "execute_result"
    }
   ],
   "source": [
    "metric_frame.overall"
   ]
  },
  {
   "cell_type": "markdown",
   "id": "d93333c9",
   "metadata": {
    "papermill": {
     "duration": 0.012412,
     "end_time": "2025-08-19T18:00:18.518192",
     "exception": false,
     "start_time": "2025-08-19T18:00:18.505780",
     "status": "completed"
    },
    "tags": []
   },
   "source": [
    "By Group"
   ]
  },
  {
   "cell_type": "code",
   "execution_count": 60,
   "id": "52256966",
   "metadata": {
    "execution": {
     "iopub.execute_input": "2025-08-19T18:00:18.545480Z",
     "iopub.status.busy": "2025-08-19T18:00:18.544391Z",
     "iopub.status.idle": "2025-08-19T18:00:18.568058Z",
     "shell.execute_reply": "2025-08-19T18:00:18.566799Z"
    },
    "papermill": {
     "duration": 0.039484,
     "end_time": "2025-08-19T18:00:18.569994",
     "exception": false,
     "start_time": "2025-08-19T18:00:18.530510",
     "status": "completed"
    },
    "tags": []
   },
   "outputs": [
    {
     "data": {
      "text/html": [
       "<div>\n",
       "<style scoped>\n",
       "    .dataframe tbody tr th:only-of-type {\n",
       "        vertical-align: middle;\n",
       "    }\n",
       "\n",
       "    .dataframe tbody tr th {\n",
       "        vertical-align: top;\n",
       "    }\n",
       "\n",
       "    .dataframe thead th {\n",
       "        text-align: right;\n",
       "    }\n",
       "</style>\n",
       "<table border=\"1\" class=\"dataframe\">\n",
       "  <thead>\n",
       "    <tr style=\"text-align: right;\">\n",
       "      <th></th>\n",
       "      <th>accuracy</th>\n",
       "      <th>balanced accuracy</th>\n",
       "      <th>f1</th>\n",
       "      <th>precision</th>\n",
       "      <th>false positive rate</th>\n",
       "      <th>false negative rate</th>\n",
       "      <th>selection rate</th>\n",
       "      <th>count</th>\n",
       "    </tr>\n",
       "    <tr>\n",
       "      <th>majmin</th>\n",
       "      <th></th>\n",
       "      <th></th>\n",
       "      <th></th>\n",
       "      <th></th>\n",
       "      <th></th>\n",
       "      <th></th>\n",
       "      <th></th>\n",
       "      <th></th>\n",
       "    </tr>\n",
       "  </thead>\n",
       "  <tbody>\n",
       "    <tr>\n",
       "      <th>majority</th>\n",
       "      <td>0.195518</td>\n",
       "      <td>0.532712</td>\n",
       "      <td>0.245601</td>\n",
       "      <td>0.140169</td>\n",
       "      <td>0.925604</td>\n",
       "      <td>0.008972</td>\n",
       "      <td>0.934249</td>\n",
       "      <td>69170.0</td>\n",
       "    </tr>\n",
       "    <tr>\n",
       "      <th>minority</th>\n",
       "      <td>0.237537</td>\n",
       "      <td>0.535852</td>\n",
       "      <td>0.218318</td>\n",
       "      <td>0.123790</td>\n",
       "      <td>0.851860</td>\n",
       "      <td>0.076436</td>\n",
       "      <td>0.860127</td>\n",
       "      <td>20540.0</td>\n",
       "    </tr>\n",
       "  </tbody>\n",
       "</table>\n",
       "</div>"
      ],
      "text/plain": [
       "          accuracy  balanced accuracy        f1  precision  \\\n",
       "majmin                                                       \n",
       "majority  0.195518           0.532712  0.245601   0.140169   \n",
       "minority  0.237537           0.535852  0.218318   0.123790   \n",
       "\n",
       "          false positive rate  false negative rate  selection rate    count  \n",
       "majmin                                                                       \n",
       "majority             0.925604             0.008972        0.934249  69170.0  \n",
       "minority             0.851860             0.076436        0.860127  20540.0  "
      ]
     },
     "execution_count": 60,
     "metadata": {},
     "output_type": "execute_result"
    }
   ],
   "source": [
    "metric_frame.by_group"
   ]
  },
  {
   "cell_type": "code",
   "execution_count": 61,
   "id": "6e6c20ae",
   "metadata": {
    "execution": {
     "iopub.execute_input": "2025-08-19T18:00:18.605592Z",
     "iopub.status.busy": "2025-08-19T18:00:18.604585Z",
     "iopub.status.idle": "2025-08-19T18:00:20.459901Z",
     "shell.execute_reply": "2025-08-19T18:00:20.458934Z"
    },
    "papermill": {
     "duration": 1.870932,
     "end_time": "2025-08-19T18:00:20.461249",
     "exception": false,
     "start_time": "2025-08-19T18:00:18.590317",
     "status": "completed"
    },
    "tags": []
   },
   "outputs": [
    {
     "data": {
      "text/plain": [
       "array([[<Axes: title={'center': 'accuracy'}, xlabel='majmin'>,\n",
       "        <Axes: title={'center': 'balanced accuracy'}, xlabel='majmin'>,\n",
       "        <Axes: title={'center': 'f1'}, xlabel='majmin'>],\n",
       "       [<Axes: title={'center': 'precision'}, xlabel='majmin'>,\n",
       "        <Axes: title={'center': 'false positive rate'}, xlabel='majmin'>,\n",
       "        <Axes: title={'center': 'false negative rate'}, xlabel='majmin'>],\n",
       "       [<Axes: title={'center': 'selection rate'}, xlabel='majmin'>,\n",
       "        <Axes: title={'center': 'count'}, xlabel='majmin'>,\n",
       "        <Axes: xlabel='majmin'>]], dtype=object)"
      ]
     },
     "execution_count": 61,
     "metadata": {},
     "output_type": "execute_result"
    },
    {
     "data": {
      "image/png": "[encoded data removed]",
      "text/plain": [
       "<Figure size 1200x800 with 9 Axes>"
      ]
     },
     "metadata": {},
     "output_type": "display_data"
    }
   ],
   "source": [
    "# In a graphic\n",
    "metric_frame.by_group.plot.bar(\n",
    "    subplots=True,\n",
    "    layout=[3, 3],\n",
    "    legend=False,\n",
    "    figsize=[12, 8],\n",
    "    title=\"Show all metrics\",\n",
    ")"
   ]
  },
  {
   "cell_type": "markdown",
   "id": "b2e433ae",
   "metadata": {
    "papermill": {
     "duration": 0.016738,
     "end_time": "2025-08-19T18:00:20.496102",
     "exception": false,
     "start_time": "2025-08-19T18:00:20.479364",
     "status": "completed"
    },
    "tags": []
   },
   "source": [
    "# Final Output"
   ]
  },
  {
   "cell_type": "code",
   "execution_count": 62,
   "id": "3871301e",
   "metadata": {
    "execution": {
     "iopub.execute_input": "2025-08-19T18:00:20.533406Z",
     "iopub.status.busy": "2025-08-19T18:00:20.531076Z",
     "iopub.status.idle": "2025-08-19T18:00:20.548579Z",
     "shell.execute_reply": "2025-08-19T18:00:20.547572Z"
    },
    "papermill": {
     "duration": 0.039121,
     "end_time": "2025-08-19T18:00:20.550130",
     "exception": false,
     "start_time": "2025-08-19T18:00:20.511009",
     "status": "completed"
    },
    "tags": []
   },
   "outputs": [
    {
     "data": {
      "text/plain": [
       "4"
      ]
     },
     "execution_count": 62,
     "metadata": {},
     "output_type": "execute_result"
    }
   ],
   "source": [
    "sub_universes = universe_analysis.generate_sub_universes()\n",
    "len(sub_universes)"
   ]
  },
  {
   "cell_type": "code",
   "execution_count": 63,
   "id": "d9cfdaca",
   "metadata": {
    "execution": {
     "iopub.execute_input": "2025-08-19T18:00:20.607553Z",
     "iopub.status.busy": "2025-08-19T18:00:20.606676Z",
     "iopub.status.idle": "2025-08-19T18:00:20.612101Z",
     "shell.execute_reply": "2025-08-19T18:00:20.611445Z"
    },
    "papermill": {
     "duration": 0.040323,
     "end_time": "2025-08-19T18:00:20.613361",
     "exception": false,
     "start_time": "2025-08-19T18:00:20.573038",
     "status": "completed"
    },
    "tags": []
   },
   "outputs": [],
   "source": [
    "def filter_sub_universe_data(sub_universe, org_test):\n",
    "    # Keep all rows — no filtering\n",
    "    keep_rows_mask = np.ones(org_test.shape[0], dtype=bool)\n",
    "\n",
    "    print(f\"[INFO] Keeping all rows: {keep_rows_mask.sum()} rows retained.\")\n",
    "    return keep_rows_mask"
   ]
  },
  {
   "cell_type": "code",
   "execution_count": 64,
   "id": "2bc31ac1",
   "metadata": {
    "execution": {
     "iopub.execute_input": "2025-08-19T18:00:20.642114Z",
     "iopub.status.busy": "2025-08-19T18:00:20.641843Z",
     "iopub.status.idle": "2025-08-19T18:00:27.423333Z",
     "shell.execute_reply": "2025-08-19T18:00:27.422304Z"
    },
    "papermill": {
     "duration": 6.797374,
     "end_time": "2025-08-19T18:00:27.424728",
     "exception": false,
     "start_time": "2025-08-19T18:00:20.627354",
     "status": "completed"
    },
    "tags": []
   },
   "outputs": [
    {
     "name": "stdout",
     "output_type": "stream",
     "text": [
      "Stopping execution_time clock.\n",
      "[INFO] Keeping all rows: 89710 rows retained.\n"
     ]
    },
    {
     "name": "stdout",
     "output_type": "stream",
     "text": [
      "[INFO] Keeping all rows: 89710 rows retained.\n"
     ]
    },
    {
     "name": "stdout",
     "output_type": "stream",
     "text": [
      "[INFO] Keeping all rows: 89710 rows retained.\n"
     ]
    },
    {
     "name": "stdout",
     "output_type": "stream",
     "text": [
      "[INFO] Keeping all rows: 89710 rows retained.\n"
     ]
    },
    {
     "data": {
      "text/html": [
       "<div>\n",
       "<style scoped>\n",
       "    .dataframe tbody tr th:only-of-type {\n",
       "        vertical-align: middle;\n",
       "    }\n",
       "\n",
       "    .dataframe tbody tr th {\n",
       "        vertical-align: top;\n",
       "    }\n",
       "\n",
       "    .dataframe thead th {\n",
       "        text-align: right;\n",
       "    }\n",
       "</style>\n",
       "<table border=\"1\" class=\"dataframe\">\n",
       "  <thead>\n",
       "    <tr style=\"text-align: right;\">\n",
       "      <th></th>\n",
       "      <th>run_no</th>\n",
       "      <th>universe_id</th>\n",
       "      <th>universe_settings</th>\n",
       "      <th>execution_time</th>\n",
       "      <th>test_size_n</th>\n",
       "      <th>test_size_frac</th>\n",
       "      <th>fair_main_equalized_odds_difference</th>\n",
       "      <th>fair_main_equalized_odds_ratio</th>\n",
       "      <th>fair_main_demographic_parity_difference</th>\n",
       "      <th>fair_main_demographic_parity_ratio</th>\n",
       "      <th>...</th>\n",
       "      <th>perf_grp_precision_0</th>\n",
       "      <th>perf_grp_precision_1</th>\n",
       "      <th>perf_grp_false positive rate_0</th>\n",
       "      <th>perf_grp_false positive rate_1</th>\n",
       "      <th>perf_grp_false negative rate_0</th>\n",
       "      <th>perf_grp_false negative rate_1</th>\n",
       "      <th>perf_grp_selection rate_0</th>\n",
       "      <th>perf_grp_selection rate_1</th>\n",
       "      <th>perf_grp_count_0</th>\n",
       "      <th>perf_grp_count_1</th>\n",
       "    </tr>\n",
       "  </thead>\n",
       "  <tbody>\n",
       "    <tr>\n",
       "      <th>0</th>\n",
       "      <td>3</td>\n",
       "      <td>1e25f156a4cec868e85cfe415cfffb14</td>\n",
       "      <td>{\"cutoff\": \"quantile_0.1\", \"eval_fairness_grou...</td>\n",
       "      <td>38.564136</td>\n",
       "      <td>89710</td>\n",
       "      <td>1.0</td>\n",
       "      <td>0.073744</td>\n",
       "      <td>0.920329</td>\n",
       "      <td>0.074122</td>\n",
       "      <td>0.920661</td>\n",
       "      <td>...</td>\n",
       "      <td>NaN</td>\n",
       "      <td>NaN</td>\n",
       "      <td>NaN</td>\n",
       "      <td>NaN</td>\n",
       "      <td>NaN</td>\n",
       "      <td>NaN</td>\n",
       "      <td>NaN</td>\n",
       "      <td>NaN</td>\n",
       "      <td>NaN</td>\n",
       "      <td>NaN</td>\n",
       "    </tr>\n",
       "    <tr>\n",
       "      <th>0</th>\n",
       "      <td>3</td>\n",
       "      <td>1e25f156a4cec868e85cfe415cfffb14</td>\n",
       "      <td>{\"cutoff\": \"quantile_0.1\", \"eval_fairness_grou...</td>\n",
       "      <td>38.564136</td>\n",
       "      <td>89710</td>\n",
       "      <td>1.0</td>\n",
       "      <td>0.073744</td>\n",
       "      <td>0.920329</td>\n",
       "      <td>0.074122</td>\n",
       "      <td>0.920661</td>\n",
       "      <td>...</td>\n",
       "      <td>0.123790</td>\n",
       "      <td>0.140169</td>\n",
       "      <td>0.85186</td>\n",
       "      <td>0.925604</td>\n",
       "      <td>0.076436</td>\n",
       "      <td>0.008972</td>\n",
       "      <td>0.860127</td>\n",
       "      <td>0.934249</td>\n",
       "      <td>20540.0</td>\n",
       "      <td>69170.0</td>\n",
       "    </tr>\n",
       "    <tr>\n",
       "      <th>0</th>\n",
       "      <td>3</td>\n",
       "      <td>1e25f156a4cec868e85cfe415cfffb14</td>\n",
       "      <td>{\"cutoff\": \"quantile_0.25\", \"eval_fairness_gro...</td>\n",
       "      <td>38.564136</td>\n",
       "      <td>89710</td>\n",
       "      <td>1.0</td>\n",
       "      <td>0.098036</td>\n",
       "      <td>0.897195</td>\n",
       "      <td>0.074195</td>\n",
       "      <td>0.903687</td>\n",
       "      <td>...</td>\n",
       "      <td>NaN</td>\n",
       "      <td>NaN</td>\n",
       "      <td>NaN</td>\n",
       "      <td>NaN</td>\n",
       "      <td>NaN</td>\n",
       "      <td>NaN</td>\n",
       "      <td>NaN</td>\n",
       "      <td>NaN</td>\n",
       "      <td>NaN</td>\n",
       "      <td>NaN</td>\n",
       "    </tr>\n",
       "    <tr>\n",
       "      <th>0</th>\n",
       "      <td>3</td>\n",
       "      <td>1e25f156a4cec868e85cfe415cfffb14</td>\n",
       "      <td>{\"cutoff\": \"quantile_0.25\", \"eval_fairness_gro...</td>\n",
       "      <td>38.564136</td>\n",
       "      <td>89710</td>\n",
       "      <td>1.0</td>\n",
       "      <td>0.098036</td>\n",
       "      <td>0.897195</td>\n",
       "      <td>0.074195</td>\n",
       "      <td>0.903687</td>\n",
       "      <td>...</td>\n",
       "      <td>0.141688</td>\n",
       "      <td>0.163573</td>\n",
       "      <td>0.67538</td>\n",
       "      <td>0.742445</td>\n",
       "      <td>0.144426</td>\n",
       "      <td>0.046389</td>\n",
       "      <td>0.696154</td>\n",
       "      <td>0.770348</td>\n",
       "      <td>20540.0</td>\n",
       "      <td>69170.0</td>\n",
       "    </tr>\n",
       "  </tbody>\n",
       "</table>\n",
       "<p>4 rows × 50 columns</p>\n",
       "</div>"
      ],
      "text/plain": [
       "  run_no                       universe_id  \\\n",
       "0      3  1e25f156a4cec868e85cfe415cfffb14   \n",
       "0      3  1e25f156a4cec868e85cfe415cfffb14   \n",
       "0      3  1e25f156a4cec868e85cfe415cfffb14   \n",
       "0      3  1e25f156a4cec868e85cfe415cfffb14   \n",
       "\n",
       "                                   universe_settings  execution_time  \\\n",
       "0  {\"cutoff\": \"quantile_0.1\", \"eval_fairness_grou...       38.564136   \n",
       "0  {\"cutoff\": \"quantile_0.1\", \"eval_fairness_grou...       38.564136   \n",
       "0  {\"cutoff\": \"quantile_0.25\", \"eval_fairness_gro...       38.564136   \n",
       "0  {\"cutoff\": \"quantile_0.25\", \"eval_fairness_gro...       38.564136   \n",
       "\n",
       "   test_size_n  test_size_frac  fair_main_equalized_odds_difference  \\\n",
       "0        89710             1.0                             0.073744   \n",
       "0        89710             1.0                             0.073744   \n",
       "0        89710             1.0                             0.098036   \n",
       "0        89710             1.0                             0.098036   \n",
       "\n",
       "   fair_main_equalized_odds_ratio  fair_main_demographic_parity_difference  \\\n",
       "0                        0.920329                                 0.074122   \n",
       "0                        0.920329                                 0.074122   \n",
       "0                        0.897195                                 0.074195   \n",
       "0                        0.897195                                 0.074195   \n",
       "\n",
       "   fair_main_demographic_parity_ratio  ...  perf_grp_precision_0  \\\n",
       "0                            0.920661  ...                   NaN   \n",
       "0                            0.920661  ...              0.123790   \n",
       "0                            0.903687  ...                   NaN   \n",
       "0                            0.903687  ...              0.141688   \n",
       "\n",
       "   perf_grp_precision_1  perf_grp_false positive rate_0  \\\n",
       "0                   NaN                             NaN   \n",
       "0              0.140169                         0.85186   \n",
       "0                   NaN                             NaN   \n",
       "0              0.163573                         0.67538   \n",
       "\n",
       "   perf_grp_false positive rate_1  perf_grp_false negative rate_0  \\\n",
       "0                             NaN                             NaN   \n",
       "0                        0.925604                        0.076436   \n",
       "0                             NaN                             NaN   \n",
       "0                        0.742445                        0.144426   \n",
       "\n",
       "   perf_grp_false negative rate_1  perf_grp_selection rate_0  \\\n",
       "0                             NaN                        NaN   \n",
       "0                        0.008972                   0.860127   \n",
       "0                             NaN                        NaN   \n",
       "0                        0.046389                   0.696154   \n",
       "\n",
       "   perf_grp_selection rate_1  perf_grp_count_0  perf_grp_count_1  \n",
       "0                        NaN               NaN               NaN  \n",
       "0                   0.934249           20540.0           69170.0  \n",
       "0                        NaN               NaN               NaN  \n",
       "0                   0.770348           20540.0           69170.0  \n",
       "\n",
       "[4 rows x 50 columns]"
      ]
     },
     "execution_count": 64,
     "metadata": {},
     "output_type": "execute_result"
    }
   ],
   "source": [
    "final_output = universe_analysis.generate_final_output(\n",
    "    y_pred_prob=probs_test,\n",
    "    y_test=y_true,\n",
    "    org_test=org_test,\n",
    "    filter_data=filter_sub_universe_data,\n",
    "    cp_metrics_df=cp_metrics_df,\n",
    "    save=True,\n",
    ")\n",
    "final_output"
   ]
  },
  {
   "cell_type": "code",
   "execution_count": null,
   "id": "8b80a1ff",
   "metadata": {
    "papermill": {
     "duration": 0.026568,
     "end_time": "2025-08-19T18:00:27.484111",
     "exception": false,
     "start_time": "2025-08-19T18:00:27.457543",
     "status": "completed"
    },
    "tags": []
   },
   "outputs": [],
   "source": []
  },
  {
   "cell_type": "code",
   "execution_count": null,
   "id": "275c9fad",
   "metadata": {
    "papermill": {
     "duration": 0.014761,
     "end_time": "2025-08-19T18:00:27.514897",
     "exception": false,
     "start_time": "2025-08-19T18:00:27.500136",
     "status": "completed"
    },
    "tags": []
   },
   "outputs": [],
   "source": []
  }
 ],
 "metadata": {
  "celltoolbar": "Tags",
  "kernelspec": {
   "display_name": "Python (CMA Fairness)",
   "language": "python",
   "name": "cma_fair_env"
  },
  "language_info": {
   "codemirror_mode": {
    "name": "ipython",
    "version": 3
   },
   "file_extension": ".py",
   "mimetype": "text/x-python",
   "name": "python",
   "nbconvert_exporter": "python",
   "pygments_lexer": "ipython3",
   "version": "3.10.12"
  },
  "papermill": {
   "default_parameters": {},
   "duration": 49.240592,
   "end_time": "2025-08-19T18:00:28.357422",
   "environment_variables": {},
   "exception": null,
   "input_path": "universe_analysis.ipynb",
   "output_path": "output/runs/3/notebooks/m_3-1e25f156a4cec868e85cfe415cfffb14.ipynb",
   "parameters": {
    "output_dir": "output",
    "run_no": "3",
    "seed": "2023",
    "universe": "{\"cutoff\": [\"quantile_0.1\", \"quantile_0.25\"], \"eval_fairness_grouping\": [\"majority-minority\", \"nationality-all\"], \"exclude_features\": \"nationality\", \"exclude_subgroups\": \"keep-all\", \"model\": \"rf\", \"scale\": \"do-not-scale\", \"training_size\": \"25k\", \"training_year\": \"2014\"}",
    "universe_id": "1e25f156a4cec868e85cfe415cfffb14"
   },
   "start_time": "2025-08-19T17:59:39.116830",
   "version": "2.6.0"
  }
 },
 "nbformat": 4,
 "nbformat_minor": 5
}