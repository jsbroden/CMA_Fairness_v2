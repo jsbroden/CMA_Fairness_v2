{
 "cells": [
  {
   "cell_type": "markdown",
   "id": "ef23dbb3",
   "metadata": {
    "papermill": {
     "duration": 0.00921,
     "end_time": "2025-08-19T18:52:11.013370",
     "exception": false,
     "start_time": "2025-08-19T18:52:11.004160",
     "status": "completed"
    },
    "tags": []
   },
   "source": [
    "# Setup"
   ]
  },
  {
   "cell_type": "code",
   "execution_count": 1,
   "id": "0bc8e7dc",
   "metadata": {
    "execution": {
     "iopub.execute_input": "2025-08-19T18:52:11.032387Z",
     "iopub.status.busy": "2025-08-19T18:52:11.031792Z",
     "iopub.status.idle": "2025-08-19T18:52:11.043315Z",
     "shell.execute_reply": "2025-08-19T18:52:11.042572Z"
    },
    "papermill": {
     "duration": 0.023978,
     "end_time": "2025-08-19T18:52:11.045988",
     "exception": false,
     "start_time": "2025-08-19T18:52:11.022010",
     "status": "completed"
    },
    "tags": []
   },
   "outputs": [
    {
     "name": "stdout",
     "output_type": "stream",
     "text": [
      "/dss/dsshome1/0C/ra93lal2/cma/CMA_Fairness_v2\n"
     ]
    },
    {
     "name": "stderr",
     "output_type": "stream",
     "text": [
      "/dss/dsshome1/0C/ra93lal2/.local/share/virtualenvs/CMA_Fairness_v2-3j10GkSs/lib/python3.10/site-packages/IPython/core/magics/osm.py:393: UserWarning: This is now an optional IPython functionality, using bookmarks requires you to install the `pickleshare` library.\n",
      "  bkms = self.shell.db.get('bookmarks', {})\n",
      "/dss/dsshome1/0C/ra93lal2/.local/share/virtualenvs/CMA_Fairness_v2-3j10GkSs/lib/python3.10/site-packages/IPython/core/magics/osm.py:417: UserWarning: This is now an optional IPython functionality, setting dhist requires you to install the `pickleshare` library.\n",
      "  self.shell.db['dhist'] = compress_dhist(dhist)[-100:]\n"
     ]
    }
   ],
   "source": [
    "%cd ~/cma/CMA_Fairness_v2"
   ]
  },
  {
   "cell_type": "markdown",
   "id": "9d235661",
   "metadata": {
    "papermill": {
     "duration": 0.00874,
     "end_time": "2025-08-19T18:52:11.064205",
     "exception": false,
     "start_time": "2025-08-19T18:52:11.055465",
     "status": "completed"
    },
    "tags": []
   },
   "source": [
    "The following cell holds the definition of our parameters, these values can be overriden by rendering the with e.g. the following command:\n",
    "\n",
    "papermill -p alpha 0.2 -p ratio 0.3 universe_analysis.ipynb output/test_run.ipynb"
   ]
  },
  {
   "cell_type": "code",
   "execution_count": 2,
   "id": "4a789d8e",
   "metadata": {
    "execution": {
     "iopub.execute_input": "2025-08-19T18:52:11.082757Z",
     "iopub.status.busy": "2025-08-19T18:52:11.082428Z",
     "iopub.status.idle": "2025-08-19T18:52:11.087170Z",
     "shell.execute_reply": "2025-08-19T18:52:11.086450Z"
    },
    "papermill": {
     "duration": 0.015799,
     "end_time": "2025-08-19T18:52:11.088618",
     "exception": false,
     "start_time": "2025-08-19T18:52:11.072819",
     "status": "completed"
    },
    "tags": []
   },
   "outputs": [
    {
     "name": "stdout",
     "output_type": "stream",
     "text": [
      "Current working directory: /dss/dsshome1/0C/ra93lal2/cma/CMA_Fairness_v2\n"
     ]
    }
   ],
   "source": [
    "import os\n",
    "print(\"Current working directory:\", os.getcwd())"
   ]
  },
  {
   "cell_type": "code",
   "execution_count": 3,
   "id": "4132aaed",
   "metadata": {
    "execution": {
     "iopub.execute_input": "2025-08-19T18:52:11.107333Z",
     "iopub.status.busy": "2025-08-19T18:52:11.107052Z",
     "iopub.status.idle": "2025-08-19T18:52:11.112022Z",
     "shell.execute_reply": "2025-08-19T18:52:11.111322Z"
    },
    "papermill": {
     "duration": 0.015906,
     "end_time": "2025-08-19T18:52:11.113231",
     "exception": false,
     "start_time": "2025-08-19T18:52:11.097325",
     "status": "completed"
    },
    "tags": [
     "parameters"
    ]
   },
   "outputs": [],
   "source": [
    "run_no = 0\n",
    "universe_id = \"test\"\n",
    "universe = {\n",
    "    \"training_size\": \"5k\", # \"25k\", \"5k\", \"1k\"\n",
    "    \"training_year\": \"2012_14\", # \"2014\", \"2012_14\", \"2010_14\"\n",
    "    \"scale\": \"scale\", # \"scale\", \"do-not-scale\",\n",
    "    \"model\": \"elasticnet\", # \"logreg\", \"penalized_logreg\", \"rf\", \"gbm\", \"elasticnet\"\n",
    "    \"cutoff\": [\"quantile_0.15\", \"quantile_0.30\"],\n",
    "    \"exclude_features\": \"age\", # \"none\", \"nationality\", \"sex\", \"nationality-sex\", \"age\"\n",
    "    \"exclude_subgroups\": \"drop-non-german\", # \"keep-all\", \"drop-non-german\"\n",
    "    \"eval_fairness_grouping\": [\"majority-minority\", \"nationality-all\"]\n",
    "}\n",
    "\n",
    "output_dir=\"./output\"\n",
    "seed=0"
   ]
  },
  {
   "cell_type": "code",
   "execution_count": 4,
   "id": "893929ea",
   "metadata": {
    "execution": {
     "iopub.execute_input": "2025-08-19T18:52:11.132271Z",
     "iopub.status.busy": "2025-08-19T18:52:11.131983Z",
     "iopub.status.idle": "2025-08-19T18:52:11.144662Z",
     "shell.execute_reply": "2025-08-19T18:52:11.144003Z"
    },
    "papermill": {
     "duration": 0.023659,
     "end_time": "2025-08-19T18:52:11.145947",
     "exception": false,
     "start_time": "2025-08-19T18:52:11.122288",
     "status": "completed"
    },
    "tags": [
     "injected-parameters"
    ]
   },
   "outputs": [],
   "source": [
    "# Parameters\n",
    "universe_id = \"30468d4e8fdc9dfd2c408ab4703038d5\"\n",
    "run_no = \"3\"\n",
    "universe = \"{\\\"cutoff\\\": [\\\"quantile_0.1\\\", \\\"quantile_0.25\\\"], \\\"eval_fairness_grouping\\\": [\\\"majority-minority\\\", \\\"nationality-all\\\"], \\\"exclude_features\\\": \\\"nationality-sex\\\", \\\"exclude_subgroups\\\": \\\"keep-all\\\", \\\"model\\\": \\\"elasticnet\\\", \\\"scale\\\": \\\"scale\\\", \\\"training_size\\\": \\\"1k\\\", \\\"training_year\\\": \\\"2014\\\"}\"\n",
    "output_dir = \"output\"\n",
    "seed = \"2023\"\n"
   ]
  },
  {
   "cell_type": "code",
   "execution_count": 5,
   "id": "a5d7941f",
   "metadata": {
    "execution": {
     "iopub.execute_input": "2025-08-19T18:52:11.169276Z",
     "iopub.status.busy": "2025-08-19T18:52:11.168823Z",
     "iopub.status.idle": "2025-08-19T18:52:11.174481Z",
     "shell.execute_reply": "2025-08-19T18:52:11.173612Z"
    },
    "papermill": {
     "duration": 0.017222,
     "end_time": "2025-08-19T18:52:11.175789",
     "exception": false,
     "start_time": "2025-08-19T18:52:11.158567",
     "status": "completed"
    },
    "tags": []
   },
   "outputs": [],
   "source": [
    "import json\n",
    "if isinstance(universe, str):\n",
    "    universe = json.loads(universe)"
   ]
  },
  {
   "cell_type": "code",
   "execution_count": 6,
   "id": "7076ccb1",
   "metadata": {
    "execution": {
     "iopub.execute_input": "2025-08-19T18:52:11.199055Z",
     "iopub.status.busy": "2025-08-19T18:52:11.197959Z",
     "iopub.status.idle": "2025-08-19T18:52:11.263542Z",
     "shell.execute_reply": "2025-08-19T18:52:11.262690Z"
    },
    "papermill": {
     "duration": 0.080808,
     "end_time": "2025-08-19T18:52:11.265583",
     "exception": false,
     "start_time": "2025-08-19T18:52:11.184775",
     "status": "completed"
    },
    "tags": []
   },
   "outputs": [],
   "source": [
    "# Auto-reload the custom package\n",
    "%load_ext autoreload\n",
    "%autoreload 1\n",
    "%aimport fairness_multiverse"
   ]
  },
  {
   "cell_type": "code",
   "execution_count": 7,
   "id": "94c8eb93",
   "metadata": {
    "execution": {
     "iopub.execute_input": "2025-08-19T18:52:11.290046Z",
     "iopub.status.busy": "2025-08-19T18:52:11.289052Z",
     "iopub.status.idle": "2025-08-19T18:52:12.867127Z",
     "shell.execute_reply": "2025-08-19T18:52:12.864337Z"
    },
    "papermill": {
     "duration": 1.591278,
     "end_time": "2025-08-19T18:52:12.869033",
     "exception": false,
     "start_time": "2025-08-19T18:52:11.277755",
     "status": "completed"
    },
    "tags": []
   },
   "outputs": [],
   "source": [
    "from fairness_multiverse.universe import UniverseAnalysis\n",
    "\n",
    "universe_analysis = UniverseAnalysis(\n",
    "    run_no = run_no,\n",
    "    universe_id = universe_id,\n",
    "    universe = universe,\n",
    "    output_dir=output_dir,\n",
    ")"
   ]
  },
  {
   "cell_type": "code",
   "execution_count": 8,
   "id": "2a6381cf",
   "metadata": {
    "execution": {
     "iopub.execute_input": "2025-08-19T18:52:12.909986Z",
     "iopub.status.busy": "2025-08-19T18:52:12.909580Z",
     "iopub.status.idle": "2025-08-19T18:52:12.931084Z",
     "shell.execute_reply": "2025-08-19T18:52:12.929625Z"
    },
    "papermill": {
     "duration": 0.05413,
     "end_time": "2025-08-19T18:52:12.933347",
     "exception": false,
     "start_time": "2025-08-19T18:52:12.879217",
     "status": "completed"
    },
    "tags": []
   },
   "outputs": [
    {
     "name": "stdout",
     "output_type": "stream",
     "text": [
      "Using Seed: 2023\n"
     ]
    }
   ],
   "source": [
    "import numpy as np\n",
    "parsed_seed = int(seed)\n",
    "np.random.seed(parsed_seed)\n",
    "print(f\"Using Seed: {parsed_seed}\")"
   ]
  },
  {
   "cell_type": "markdown",
   "id": "b6e958b4",
   "metadata": {
    "papermill": {
     "duration": 0.011376,
     "end_time": "2025-08-19T18:52:12.961541",
     "exception": false,
     "start_time": "2025-08-19T18:52:12.950165",
     "status": "completed"
    },
    "tags": []
   },
   "source": [
    "# Loading Data"
   ]
  },
  {
   "cell_type": "code",
   "execution_count": 9,
   "id": "98701482",
   "metadata": {
    "execution": {
     "iopub.execute_input": "2025-08-19T18:52:12.983661Z",
     "iopub.status.busy": "2025-08-19T18:52:12.983229Z",
     "iopub.status.idle": "2025-08-19T18:52:23.774044Z",
     "shell.execute_reply": "2025-08-19T18:52:23.772961Z"
    },
    "papermill": {
     "duration": 10.804755,
     "end_time": "2025-08-19T18:52:23.775448",
     "exception": false,
     "start_time": "2025-08-19T18:52:12.970693",
     "status": "completed"
    },
    "tags": []
   },
   "outputs": [
    {
     "name": "stdout",
     "output_type": "stream",
     "text": [
      "Loading SIAB data from cache: data/siab_cached.csv.gz\n"
     ]
    },
    {
     "name": "stdout",
     "output_type": "stream",
     "text": [
      "(643690, 164)\n"
     ]
    }
   ],
   "source": [
    "from pathlib import Path\n",
    "import pandas as pd\n",
    "\n",
    "# File paths\n",
    "raw_file = Path(\"data/raw/siab.csv\")\n",
    "cache_file = Path(\"data/siab_cached.csv.gz\")\n",
    "\n",
    "# Ensure cache directory exists\n",
    "cache_file.parent.mkdir(parents=True, exist_ok=True)\n",
    "\n",
    "# Load with simple caching\n",
    "if cache_file.exists():\n",
    "    print(f\"Loading SIAB data from cache: {cache_file}\")\n",
    "    siab = pd.read_csv(cache_file, compression='gzip')\n",
    "else:\n",
    "    print(f\"Cache not found. Reading raw SIAB data: {raw_file}\")\n",
    "    siab = pd.read_csv(raw_file)\n",
    "    siab.to_csv(cache_file, index=False, compression='gzip')\n",
    "    print(f\"Cached SIAB data to: {cache_file}\")\n",
    "\n",
    "print(siab.shape)"
   ]
  },
  {
   "cell_type": "code",
   "execution_count": 10,
   "id": "058d2abb",
   "metadata": {
    "execution": {
     "iopub.execute_input": "2025-08-19T18:52:23.801099Z",
     "iopub.status.busy": "2025-08-19T18:52:23.800339Z",
     "iopub.status.idle": "2025-08-19T18:52:24.058653Z",
     "shell.execute_reply": "2025-08-19T18:52:24.057284Z"
    },
    "papermill": {
     "duration": 0.271909,
     "end_time": "2025-08-19T18:52:24.060238",
     "exception": false,
     "start_time": "2025-08-19T18:52:23.788329",
     "status": "completed"
    },
    "tags": []
   },
   "outputs": [
    {
     "data": {
      "text/html": [
       "<div>\n",
       "<style scoped>\n",
       "    .dataframe tbody tr th:only-of-type {\n",
       "        vertical-align: middle;\n",
       "    }\n",
       "\n",
       "    .dataframe tbody tr th {\n",
       "        vertical-align: top;\n",
       "    }\n",
       "\n",
       "    .dataframe thead th {\n",
       "        text-align: right;\n",
       "    }\n",
       "</style>\n",
       "<table border=\"1\" class=\"dataframe\">\n",
       "  <thead>\n",
       "    <tr style=\"text-align: right;\">\n",
       "      <th></th>\n",
       "      <th>persnr</th>\n",
       "      <th>year</th>\n",
       "      <th>nrEntry</th>\n",
       "      <th>ltue</th>\n",
       "      <th>employed_before</th>\n",
       "      <th>receipt_leh_before</th>\n",
       "      <th>receipt_lhg_before</th>\n",
       "      <th>se_before</th>\n",
       "      <th>ASU_notue_seeking_before</th>\n",
       "      <th>ASU_other_before</th>\n",
       "      <th>...</th>\n",
       "      <th>minijob_tot_dur_byage</th>\n",
       "      <th>ft_tot_dur_byage</th>\n",
       "      <th>befrist_tot_dur_byage</th>\n",
       "      <th>leih_tot_dur_byage</th>\n",
       "      <th>LHG_tot_dur_byage</th>\n",
       "      <th>LEH_tot_dur_byage</th>\n",
       "      <th>almp_tot_dur_byage</th>\n",
       "      <th>almp_aw_tot_dur_byage</th>\n",
       "      <th>se_tot_dur_byage</th>\n",
       "      <th>seeking1_tot_dur_byage</th>\n",
       "    </tr>\n",
       "  </thead>\n",
       "  <tbody>\n",
       "    <tr>\n",
       "      <th>0</th>\n",
       "      <td>7</td>\n",
       "      <td>2015</td>\n",
       "      <td>1</td>\n",
       "      <td>0</td>\n",
       "      <td>1</td>\n",
       "      <td>0</td>\n",
       "      <td>0</td>\n",
       "      <td>0</td>\n",
       "      <td>1</td>\n",
       "      <td>0</td>\n",
       "      <td>...</td>\n",
       "      <td>0.000000</td>\n",
       "      <td>0.000000</td>\n",
       "      <td>15.043478</td>\n",
       "      <td>0.000000</td>\n",
       "      <td>0.000000</td>\n",
       "      <td>0.000000</td>\n",
       "      <td>0.000000</td>\n",
       "      <td>0.000000</td>\n",
       "      <td>0.000000</td>\n",
       "      <td>0.000000</td>\n",
       "    </tr>\n",
       "    <tr>\n",
       "      <th>1</th>\n",
       "      <td>18</td>\n",
       "      <td>2010</td>\n",
       "      <td>1</td>\n",
       "      <td>1</td>\n",
       "      <td>0</td>\n",
       "      <td>0</td>\n",
       "      <td>0</td>\n",
       "      <td>0</td>\n",
       "      <td>0</td>\n",
       "      <td>0</td>\n",
       "      <td>...</td>\n",
       "      <td>0.000000</td>\n",
       "      <td>0.000000</td>\n",
       "      <td>0.000000</td>\n",
       "      <td>0.000000</td>\n",
       "      <td>0.000000</td>\n",
       "      <td>0.000000</td>\n",
       "      <td>0.000000</td>\n",
       "      <td>0.000000</td>\n",
       "      <td>0.000000</td>\n",
       "      <td>0.000000</td>\n",
       "    </tr>\n",
       "    <tr>\n",
       "      <th>2</th>\n",
       "      <td>18</td>\n",
       "      <td>2011</td>\n",
       "      <td>2</td>\n",
       "      <td>0</td>\n",
       "      <td>1</td>\n",
       "      <td>0</td>\n",
       "      <td>1</td>\n",
       "      <td>0</td>\n",
       "      <td>1</td>\n",
       "      <td>0</td>\n",
       "      <td>...</td>\n",
       "      <td>2.714286</td>\n",
       "      <td>2.714286</td>\n",
       "      <td>0.000000</td>\n",
       "      <td>0.000000</td>\n",
       "      <td>10.775510</td>\n",
       "      <td>0.000000</td>\n",
       "      <td>8.367347</td>\n",
       "      <td>0.000000</td>\n",
       "      <td>0.000000</td>\n",
       "      <td>9.836735</td>\n",
       "    </tr>\n",
       "    <tr>\n",
       "      <th>3</th>\n",
       "      <td>18</td>\n",
       "      <td>2012</td>\n",
       "      <td>3</td>\n",
       "      <td>0</td>\n",
       "      <td>1</td>\n",
       "      <td>0</td>\n",
       "      <td>1</td>\n",
       "      <td>0</td>\n",
       "      <td>1</td>\n",
       "      <td>0</td>\n",
       "      <td>...</td>\n",
       "      <td>4.200000</td>\n",
       "      <td>4.200000</td>\n",
       "      <td>0.000000</td>\n",
       "      <td>0.000000</td>\n",
       "      <td>12.100000</td>\n",
       "      <td>0.000000</td>\n",
       "      <td>9.400000</td>\n",
       "      <td>0.000000</td>\n",
       "      <td>0.000000</td>\n",
       "      <td>9.960000</td>\n",
       "    </tr>\n",
       "    <tr>\n",
       "      <th>4</th>\n",
       "      <td>18</td>\n",
       "      <td>2012</td>\n",
       "      <td>4</td>\n",
       "      <td>0</td>\n",
       "      <td>1</td>\n",
       "      <td>0</td>\n",
       "      <td>1</td>\n",
       "      <td>0</td>\n",
       "      <td>1</td>\n",
       "      <td>0</td>\n",
       "      <td>...</td>\n",
       "      <td>5.460000</td>\n",
       "      <td>5.460000</td>\n",
       "      <td>0.000000</td>\n",
       "      <td>0.000000</td>\n",
       "      <td>13.360000</td>\n",
       "      <td>0.000000</td>\n",
       "      <td>10.320000</td>\n",
       "      <td>0.000000</td>\n",
       "      <td>0.000000</td>\n",
       "      <td>10.280000</td>\n",
       "    </tr>\n",
       "    <tr>\n",
       "      <th>...</th>\n",
       "      <td>...</td>\n",
       "      <td>...</td>\n",
       "      <td>...</td>\n",
       "      <td>...</td>\n",
       "      <td>...</td>\n",
       "      <td>...</td>\n",
       "      <td>...</td>\n",
       "      <td>...</td>\n",
       "      <td>...</td>\n",
       "      <td>...</td>\n",
       "      <td>...</td>\n",
       "      <td>...</td>\n",
       "      <td>...</td>\n",
       "      <td>...</td>\n",
       "      <td>...</td>\n",
       "      <td>...</td>\n",
       "      <td>...</td>\n",
       "      <td>...</td>\n",
       "      <td>...</td>\n",
       "      <td>...</td>\n",
       "      <td>...</td>\n",
       "    </tr>\n",
       "    <tr>\n",
       "      <th>643685</th>\n",
       "      <td>1827860</td>\n",
       "      <td>2013</td>\n",
       "      <td>1</td>\n",
       "      <td>0</td>\n",
       "      <td>0</td>\n",
       "      <td>0</td>\n",
       "      <td>1</td>\n",
       "      <td>0</td>\n",
       "      <td>0</td>\n",
       "      <td>1</td>\n",
       "      <td>...</td>\n",
       "      <td>0.000000</td>\n",
       "      <td>0.000000</td>\n",
       "      <td>0.000000</td>\n",
       "      <td>0.000000</td>\n",
       "      <td>0.612903</td>\n",
       "      <td>0.000000</td>\n",
       "      <td>0.000000</td>\n",
       "      <td>0.000000</td>\n",
       "      <td>0.000000</td>\n",
       "      <td>0.000000</td>\n",
       "    </tr>\n",
       "    <tr>\n",
       "      <th>643686</th>\n",
       "      <td>1827860</td>\n",
       "      <td>2015</td>\n",
       "      <td>2</td>\n",
       "      <td>1</td>\n",
       "      <td>0</td>\n",
       "      <td>0</td>\n",
       "      <td>1</td>\n",
       "      <td>0</td>\n",
       "      <td>1</td>\n",
       "      <td>0</td>\n",
       "      <td>...</td>\n",
       "      <td>0.000000</td>\n",
       "      <td>0.000000</td>\n",
       "      <td>0.212121</td>\n",
       "      <td>0.212121</td>\n",
       "      <td>17.363636</td>\n",
       "      <td>0.000000</td>\n",
       "      <td>8.909091</td>\n",
       "      <td>0.000000</td>\n",
       "      <td>0.000000</td>\n",
       "      <td>7.121212</td>\n",
       "    </tr>\n",
       "    <tr>\n",
       "      <th>643687</th>\n",
       "      <td>1827860</td>\n",
       "      <td>2016</td>\n",
       "      <td>3</td>\n",
       "      <td>1</td>\n",
       "      <td>0</td>\n",
       "      <td>0</td>\n",
       "      <td>1</td>\n",
       "      <td>1</td>\n",
       "      <td>0</td>\n",
       "      <td>1</td>\n",
       "      <td>...</td>\n",
       "      <td>0.000000</td>\n",
       "      <td>0.000000</td>\n",
       "      <td>0.294118</td>\n",
       "      <td>0.205882</td>\n",
       "      <td>34.705882</td>\n",
       "      <td>0.000000</td>\n",
       "      <td>10.352941</td>\n",
       "      <td>1.705882</td>\n",
       "      <td>1.705882</td>\n",
       "      <td>23.911765</td>\n",
       "    </tr>\n",
       "    <tr>\n",
       "      <th>643688</th>\n",
       "      <td>1827869</td>\n",
       "      <td>2013</td>\n",
       "      <td>1</td>\n",
       "      <td>1</td>\n",
       "      <td>1</td>\n",
       "      <td>0</td>\n",
       "      <td>0</td>\n",
       "      <td>0</td>\n",
       "      <td>1</td>\n",
       "      <td>0</td>\n",
       "      <td>...</td>\n",
       "      <td>0.000000</td>\n",
       "      <td>0.000000</td>\n",
       "      <td>0.000000</td>\n",
       "      <td>0.000000</td>\n",
       "      <td>0.000000</td>\n",
       "      <td>0.525424</td>\n",
       "      <td>0.000000</td>\n",
       "      <td>0.000000</td>\n",
       "      <td>0.000000</td>\n",
       "      <td>0.000000</td>\n",
       "    </tr>\n",
       "    <tr>\n",
       "      <th>643689</th>\n",
       "      <td>1827869</td>\n",
       "      <td>2014</td>\n",
       "      <td>2</td>\n",
       "      <td>0</td>\n",
       "      <td>0</td>\n",
       "      <td>1</td>\n",
       "      <td>0</td>\n",
       "      <td>0</td>\n",
       "      <td>1</td>\n",
       "      <td>0</td>\n",
       "      <td>...</td>\n",
       "      <td>0.000000</td>\n",
       "      <td>0.666667</td>\n",
       "      <td>0.666667</td>\n",
       "      <td>0.000000</td>\n",
       "      <td>0.000000</td>\n",
       "      <td>8.950000</td>\n",
       "      <td>1.033333</td>\n",
       "      <td>0.083333</td>\n",
       "      <td>0.083333</td>\n",
       "      <td>8.133333</td>\n",
       "    </tr>\n",
       "  </tbody>\n",
       "</table>\n",
       "<p>643690 rows × 164 columns</p>\n",
       "</div>"
      ],
      "text/plain": [
       "         persnr  year  nrEntry  ltue  employed_before  receipt_leh_before  \\\n",
       "0             7  2015        1     0                1                   0   \n",
       "1            18  2010        1     1                0                   0   \n",
       "2            18  2011        2     0                1                   0   \n",
       "3            18  2012        3     0                1                   0   \n",
       "4            18  2012        4     0                1                   0   \n",
       "...         ...   ...      ...   ...              ...                 ...   \n",
       "643685  1827860  2013        1     0                0                   0   \n",
       "643686  1827860  2015        2     1                0                   0   \n",
       "643687  1827860  2016        3     1                0                   0   \n",
       "643688  1827869  2013        1     1                1                   0   \n",
       "643689  1827869  2014        2     0                0                   1   \n",
       "\n",
       "        receipt_lhg_before  se_before  ASU_notue_seeking_before  \\\n",
       "0                        0          0                         1   \n",
       "1                        0          0                         0   \n",
       "2                        1          0                         1   \n",
       "3                        1          0                         1   \n",
       "4                        1          0                         1   \n",
       "...                    ...        ...                       ...   \n",
       "643685                   1          0                         0   \n",
       "643686                   1          0                         1   \n",
       "643687                   1          1                         0   \n",
       "643688                   0          0                         1   \n",
       "643689                   0          0                         1   \n",
       "\n",
       "        ASU_other_before  ...  minijob_tot_dur_byage  ft_tot_dur_byage  \\\n",
       "0                      0  ...               0.000000          0.000000   \n",
       "1                      0  ...               0.000000          0.000000   \n",
       "2                      0  ...               2.714286          2.714286   \n",
       "3                      0  ...               4.200000          4.200000   \n",
       "4                      0  ...               5.460000          5.460000   \n",
       "...                  ...  ...                    ...               ...   \n",
       "643685                 1  ...               0.000000          0.000000   \n",
       "643686                 0  ...               0.000000          0.000000   \n",
       "643687                 1  ...               0.000000          0.000000   \n",
       "643688                 0  ...               0.000000          0.000000   \n",
       "643689                 0  ...               0.000000          0.666667   \n",
       "\n",
       "        befrist_tot_dur_byage  leih_tot_dur_byage  LHG_tot_dur_byage  \\\n",
       "0                   15.043478            0.000000           0.000000   \n",
       "1                    0.000000            0.000000           0.000000   \n",
       "2                    0.000000            0.000000          10.775510   \n",
       "3                    0.000000            0.000000          12.100000   \n",
       "4                    0.000000            0.000000          13.360000   \n",
       "...                       ...                 ...                ...   \n",
       "643685               0.000000            0.000000           0.612903   \n",
       "643686               0.212121            0.212121          17.363636   \n",
       "643687               0.294118            0.205882          34.705882   \n",
       "643688               0.000000            0.000000           0.000000   \n",
       "643689               0.666667            0.000000           0.000000   \n",
       "\n",
       "        LEH_tot_dur_byage  almp_tot_dur_byage  almp_aw_tot_dur_byage  \\\n",
       "0                0.000000            0.000000               0.000000   \n",
       "1                0.000000            0.000000               0.000000   \n",
       "2                0.000000            8.367347               0.000000   \n",
       "3                0.000000            9.400000               0.000000   \n",
       "4                0.000000           10.320000               0.000000   \n",
       "...                   ...                 ...                    ...   \n",
       "643685           0.000000            0.000000               0.000000   \n",
       "643686           0.000000            8.909091               0.000000   \n",
       "643687           0.000000           10.352941               1.705882   \n",
       "643688           0.525424            0.000000               0.000000   \n",
       "643689           8.950000            1.033333               0.083333   \n",
       "\n",
       "        se_tot_dur_byage  seeking1_tot_dur_byage  \n",
       "0               0.000000                0.000000  \n",
       "1               0.000000                0.000000  \n",
       "2               0.000000                9.836735  \n",
       "3               0.000000                9.960000  \n",
       "4               0.000000               10.280000  \n",
       "...                  ...                     ...  \n",
       "643685          0.000000                0.000000  \n",
       "643686          0.000000                7.121212  \n",
       "643687          1.705882               23.911765  \n",
       "643688          0.000000                0.000000  \n",
       "643689          0.083333                8.133333  \n",
       "\n",
       "[643690 rows x 164 columns]"
      ]
     },
     "execution_count": 10,
     "metadata": {},
     "output_type": "execute_result"
    }
   ],
   "source": [
    "siab"
   ]
  },
  {
   "cell_type": "markdown",
   "id": "1f87e805",
   "metadata": {
    "papermill": {
     "duration": 0.009701,
     "end_time": "2025-08-19T18:52:24.082040",
     "exception": false,
     "start_time": "2025-08-19T18:52:24.072339",
     "status": "completed"
    },
    "tags": []
   },
   "source": [
    "# Splitting Data and Setting Training Data Size"
   ]
  },
  {
   "cell_type": "code",
   "execution_count": 11,
   "id": "910ae358",
   "metadata": {
    "execution": {
     "iopub.execute_input": "2025-08-19T18:52:24.103366Z",
     "iopub.status.busy": "2025-08-19T18:52:24.102657Z",
     "iopub.status.idle": "2025-08-19T18:52:24.399898Z",
     "shell.execute_reply": "2025-08-19T18:52:24.399071Z"
    },
    "papermill": {
     "duration": 0.310087,
     "end_time": "2025-08-19T18:52:24.401688",
     "exception": false,
     "start_time": "2025-08-19T18:52:24.091601",
     "status": "completed"
    },
    "tags": []
   },
   "outputs": [],
   "source": [
    "from fairness_multiverse.universe import sample_by_year_size\n",
    "\n",
    "siab_train = sample_by_year_size(siab,\n",
    "                               training_year=universe[\"training_year\"],\n",
    "                               training_size=universe[\"training_size\"])"
   ]
  },
  {
   "cell_type": "code",
   "execution_count": 12,
   "id": "919c8ff5",
   "metadata": {
    "execution": {
     "iopub.execute_input": "2025-08-19T18:52:24.423197Z",
     "iopub.status.busy": "2025-08-19T18:52:24.422716Z",
     "iopub.status.idle": "2025-08-19T18:52:24.428875Z",
     "shell.execute_reply": "2025-08-19T18:52:24.428085Z"
    },
    "papermill": {
     "duration": 0.018781,
     "end_time": "2025-08-19T18:52:24.430704",
     "exception": false,
     "start_time": "2025-08-19T18:52:24.411923",
     "status": "completed"
    },
    "tags": []
   },
   "outputs": [
    {
     "data": {
      "text/plain": [
       "(1000, 164)"
      ]
     },
     "execution_count": 12,
     "metadata": {},
     "output_type": "execute_result"
    }
   ],
   "source": [
    "siab_train.shape"
   ]
  },
  {
   "cell_type": "code",
   "execution_count": 13,
   "id": "feb13bf4",
   "metadata": {
    "execution": {
     "iopub.execute_input": "2025-08-19T18:52:24.452171Z",
     "iopub.status.busy": "2025-08-19T18:52:24.451745Z",
     "iopub.status.idle": "2025-08-19T18:52:24.459990Z",
     "shell.execute_reply": "2025-08-19T18:52:24.459232Z"
    },
    "papermill": {
     "duration": 0.02054,
     "end_time": "2025-08-19T18:52:24.461338",
     "exception": false,
     "start_time": "2025-08-19T18:52:24.440798",
     "status": "completed"
    },
    "tags": []
   },
   "outputs": [
    {
     "data": {
      "text/plain": [
       "year\n",
       "2014    1000\n",
       "dtype: int64"
      ]
     },
     "metadata": {},
     "output_type": "display_data"
    }
   ],
   "source": [
    "display(siab_train.groupby(\"year\").size())"
   ]
  },
  {
   "cell_type": "code",
   "execution_count": 14,
   "id": "0997782f",
   "metadata": {
    "execution": {
     "iopub.execute_input": "2025-08-19T18:52:24.483953Z",
     "iopub.status.busy": "2025-08-19T18:52:24.483538Z",
     "iopub.status.idle": "2025-08-19T18:52:24.764157Z",
     "shell.execute_reply": "2025-08-19T18:52:24.763296Z"
    },
    "papermill": {
     "duration": 0.293354,
     "end_time": "2025-08-19T18:52:24.765751",
     "exception": false,
     "start_time": "2025-08-19T18:52:24.472397",
     "status": "completed"
    },
    "tags": []
   },
   "outputs": [],
   "source": [
    "#siab_train = siab_s[siab_s.year < 2015]\n",
    "siab_calib = siab[siab.year == 2015]\n",
    "siab_test = siab[siab.year == 2016]"
   ]
  },
  {
   "cell_type": "code",
   "execution_count": 15,
   "id": "2c1e4012",
   "metadata": {
    "execution": {
     "iopub.execute_input": "2025-08-19T18:52:24.787510Z",
     "iopub.status.busy": "2025-08-19T18:52:24.787177Z",
     "iopub.status.idle": "2025-08-19T18:52:24.792151Z",
     "shell.execute_reply": "2025-08-19T18:52:24.791200Z"
    },
    "papermill": {
     "duration": 0.017293,
     "end_time": "2025-08-19T18:52:24.793546",
     "exception": false,
     "start_time": "2025-08-19T18:52:24.776253",
     "status": "completed"
    },
    "tags": []
   },
   "outputs": [],
   "source": [
    "#siab_calib.shape"
   ]
  },
  {
   "cell_type": "code",
   "execution_count": 16,
   "id": "f66b54ca",
   "metadata": {
    "execution": {
     "iopub.execute_input": "2025-08-19T18:52:24.815749Z",
     "iopub.status.busy": "2025-08-19T18:52:24.815262Z",
     "iopub.status.idle": "2025-08-19T18:52:24.820074Z",
     "shell.execute_reply": "2025-08-19T18:52:24.819305Z"
    },
    "papermill": {
     "duration": 0.017452,
     "end_time": "2025-08-19T18:52:24.821516",
     "exception": false,
     "start_time": "2025-08-19T18:52:24.804064",
     "status": "completed"
    },
    "tags": []
   },
   "outputs": [],
   "source": [
    "#siab_test.shape"
   ]
  },
  {
   "cell_type": "code",
   "execution_count": 17,
   "id": "27e4384d",
   "metadata": {
    "execution": {
     "iopub.execute_input": "2025-08-19T18:52:24.844721Z",
     "iopub.status.busy": "2025-08-19T18:52:24.844240Z",
     "iopub.status.idle": "2025-08-19T18:52:24.851748Z",
     "shell.execute_reply": "2025-08-19T18:52:24.850918Z"
    },
    "papermill": {
     "duration": 0.020967,
     "end_time": "2025-08-19T18:52:24.853450",
     "exception": false,
     "start_time": "2025-08-19T18:52:24.832483",
     "status": "completed"
    },
    "tags": []
   },
   "outputs": [],
   "source": [
    "X_train = siab_train.iloc[:,4:164]\n",
    "y_train = siab_train.iloc[:, [3]]"
   ]
  },
  {
   "cell_type": "code",
   "execution_count": 18,
   "id": "08ee8389",
   "metadata": {
    "execution": {
     "iopub.execute_input": "2025-08-19T18:52:24.876964Z",
     "iopub.status.busy": "2025-08-19T18:52:24.876662Z",
     "iopub.status.idle": "2025-08-19T18:52:24.926763Z",
     "shell.execute_reply": "2025-08-19T18:52:24.925957Z"
    },
    "papermill": {
     "duration": 0.062693,
     "end_time": "2025-08-19T18:52:24.928076",
     "exception": false,
     "start_time": "2025-08-19T18:52:24.865383",
     "status": "completed"
    },
    "tags": []
   },
   "outputs": [],
   "source": [
    "X_calib = siab_calib.iloc[:,4:164]\n",
    "y_calib = siab_calib.iloc[:, [3]]"
   ]
  },
  {
   "cell_type": "code",
   "execution_count": 19,
   "id": "b7ff42e0",
   "metadata": {
    "execution": {
     "iopub.execute_input": "2025-08-19T18:52:24.950931Z",
     "iopub.status.busy": "2025-08-19T18:52:24.950443Z",
     "iopub.status.idle": "2025-08-19T18:52:25.008072Z",
     "shell.execute_reply": "2025-08-19T18:52:25.007192Z"
    },
    "papermill": {
     "duration": 0.070822,
     "end_time": "2025-08-19T18:52:25.009705",
     "exception": false,
     "start_time": "2025-08-19T18:52:24.938883",
     "status": "completed"
    },
    "tags": []
   },
   "outputs": [],
   "source": [
    "X_test = siab_test.iloc[:,4:164]\n",
    "y_true = siab_test.iloc[:, [3]]"
   ]
  },
  {
   "cell_type": "code",
   "execution_count": 20,
   "id": "0275101e",
   "metadata": {
    "execution": {
     "iopub.execute_input": "2025-08-19T18:52:25.034459Z",
     "iopub.status.busy": "2025-08-19T18:52:25.033914Z",
     "iopub.status.idle": "2025-08-19T18:52:25.157360Z",
     "shell.execute_reply": "2025-08-19T18:52:25.156321Z"
    },
    "papermill": {
     "duration": 0.138741,
     "end_time": "2025-08-19T18:52:25.161012",
     "exception": false,
     "start_time": "2025-08-19T18:52:25.022271",
     "status": "completed"
    },
    "tags": []
   },
   "outputs": [],
   "source": [
    "# Auxiliary data needed downstream in the pipeline\n",
    "\n",
    "org_train = X_train.copy()\n",
    "org_test = X_test.copy()\n",
    "org_calib = X_calib.copy()"
   ]
  },
  {
   "cell_type": "markdown",
   "id": "b461e618",
   "metadata": {
    "papermill": {
     "duration": 0.018056,
     "end_time": "2025-08-19T18:52:25.210157",
     "exception": false,
     "start_time": "2025-08-19T18:52:25.192101",
     "status": "completed"
    },
    "tags": []
   },
   "source": [
    "# Preprocessing Data"
   ]
  },
  {
   "cell_type": "code",
   "execution_count": 21,
   "id": "78e74c4b",
   "metadata": {
    "execution": {
     "iopub.execute_input": "2025-08-19T18:52:25.233605Z",
     "iopub.status.busy": "2025-08-19T18:52:25.233084Z",
     "iopub.status.idle": "2025-08-19T18:52:25.238702Z",
     "shell.execute_reply": "2025-08-19T18:52:25.237950Z"
    },
    "papermill": {
     "duration": 0.018873,
     "end_time": "2025-08-19T18:52:25.240039",
     "exception": false,
     "start_time": "2025-08-19T18:52:25.221166",
     "status": "completed"
    },
    "tags": []
   },
   "outputs": [],
   "source": [
    "# EXCLUDE PROTECTED FEATURES\n",
    "# --------------------------\n",
    "\n",
    "excluded_features = universe[\"exclude_features\"].split(\"-\")\n",
    "excluded_features_dictionary = {\n",
    "    \"nationality\": [\"maxdeutsch1\", \"maxdeutsch.Missing.\"],\n",
    "    \"sex\": [\"frau1\"],\n",
    "    \"age\": [\"age\"],\n",
    "}"
   ]
  },
  {
   "cell_type": "code",
   "execution_count": 22,
   "id": "f8e63555",
   "metadata": {
    "execution": {
     "iopub.execute_input": "2025-08-19T18:52:25.262480Z",
     "iopub.status.busy": "2025-08-19T18:52:25.261998Z",
     "iopub.status.idle": "2025-08-19T18:52:25.266738Z",
     "shell.execute_reply": "2025-08-19T18:52:25.265958Z"
    },
    "papermill": {
     "duration": 0.017323,
     "end_time": "2025-08-19T18:52:25.268029",
     "exception": false,
     "start_time": "2025-08-19T18:52:25.250706",
     "status": "completed"
    },
    "tags": []
   },
   "outputs": [],
   "source": [
    "excluded_features_columns = [\n",
    "    excluded_features_dictionary[f] for f in excluded_features if len(f) > 0 and f != \"none\"\n",
    "]"
   ]
  },
  {
   "cell_type": "code",
   "execution_count": 23,
   "id": "da781f7c",
   "metadata": {
    "execution": {
     "iopub.execute_input": "2025-08-19T18:52:25.289745Z",
     "iopub.status.busy": "2025-08-19T18:52:25.289302Z",
     "iopub.status.idle": "2025-08-19T18:52:25.293467Z",
     "shell.execute_reply": "2025-08-19T18:52:25.292738Z"
    },
    "papermill": {
     "duration": 0.01643,
     "end_time": "2025-08-19T18:52:25.294739",
     "exception": false,
     "start_time": "2025-08-19T18:52:25.278309",
     "status": "completed"
    },
    "tags": []
   },
   "outputs": [],
   "source": [
    "from fairness_multiverse.universe import flatten_once\n",
    "\n",
    "excluded_features_columns = flatten_once(excluded_features_columns)"
   ]
  },
  {
   "cell_type": "code",
   "execution_count": 24,
   "id": "37fef0f0",
   "metadata": {
    "execution": {
     "iopub.execute_input": "2025-08-19T18:52:25.316589Z",
     "iopub.status.busy": "2025-08-19T18:52:25.316135Z",
     "iopub.status.idle": "2025-08-19T18:52:25.323885Z",
     "shell.execute_reply": "2025-08-19T18:52:25.322878Z"
    },
    "papermill": {
     "duration": 0.020331,
     "end_time": "2025-08-19T18:52:25.325431",
     "exception": false,
     "start_time": "2025-08-19T18:52:25.305100",
     "status": "completed"
    },
    "tags": []
   },
   "outputs": [
    {
     "name": "stdout",
     "output_type": "stream",
     "text": [
      "Dropping features: ['maxdeutsch1', 'maxdeutsch.Missing.', 'frau1']\n"
     ]
    }
   ],
   "source": [
    "if len(excluded_features_columns) > 0:\n",
    "    print(f\"Dropping features: {excluded_features_columns}\")\n",
    "    X_train.drop(excluded_features_columns, axis=1, inplace=True)"
   ]
  },
  {
   "cell_type": "code",
   "execution_count": 25,
   "id": "d029e3e9",
   "metadata": {
    "execution": {
     "iopub.execute_input": "2025-08-19T18:52:25.348530Z",
     "iopub.status.busy": "2025-08-19T18:52:25.348217Z",
     "iopub.status.idle": "2025-08-19T18:52:25.406631Z",
     "shell.execute_reply": "2025-08-19T18:52:25.405558Z"
    },
    "papermill": {
     "duration": 0.07451,
     "end_time": "2025-08-19T18:52:25.411756",
     "exception": false,
     "start_time": "2025-08-19T18:52:25.337246",
     "status": "completed"
    },
    "tags": []
   },
   "outputs": [
    {
     "name": "stdout",
     "output_type": "stream",
     "text": [
      "Dropping features: ['maxdeutsch1', 'maxdeutsch.Missing.', 'frau1']\n"
     ]
    }
   ],
   "source": [
    "if len(excluded_features_columns) > 0:\n",
    "    print(f\"Dropping features: {excluded_features_columns}\")\n",
    "    X_test.drop(excluded_features_columns, axis=1, inplace=True)"
   ]
  },
  {
   "cell_type": "code",
   "execution_count": 26,
   "id": "01d571f0",
   "metadata": {
    "execution": {
     "iopub.execute_input": "2025-08-19T18:52:25.444663Z",
     "iopub.status.busy": "2025-08-19T18:52:25.443457Z",
     "iopub.status.idle": "2025-08-19T18:52:25.506220Z",
     "shell.execute_reply": "2025-08-19T18:52:25.503536Z"
    },
    "papermill": {
     "duration": 0.079057,
     "end_time": "2025-08-19T18:52:25.509786",
     "exception": false,
     "start_time": "2025-08-19T18:52:25.430729",
     "status": "completed"
    },
    "tags": []
   },
   "outputs": [
    {
     "name": "stdout",
     "output_type": "stream",
     "text": [
      "Dropping features: ['maxdeutsch1', 'maxdeutsch.Missing.', 'frau1']\n"
     ]
    }
   ],
   "source": [
    "if len(excluded_features_columns) > 0:\n",
    "    print(f\"Dropping features: {excluded_features_columns}\")\n",
    "    X_calib.drop(excluded_features_columns, axis=1, inplace=True)"
   ]
  },
  {
   "cell_type": "code",
   "execution_count": 27,
   "id": "3037356e",
   "metadata": {
    "execution": {
     "iopub.execute_input": "2025-08-19T18:52:25.544986Z",
     "iopub.status.busy": "2025-08-19T18:52:25.543589Z",
     "iopub.status.idle": "2025-08-19T18:52:25.551307Z",
     "shell.execute_reply": "2025-08-19T18:52:25.550039Z"
    },
    "papermill": {
     "duration": 0.022337,
     "end_time": "2025-08-19T18:52:25.552999",
     "exception": false,
     "start_time": "2025-08-19T18:52:25.530662",
     "status": "completed"
    },
    "tags": []
   },
   "outputs": [],
   "source": [
    "# EXCLUDE CERTAIN SUBGROUPS\n",
    "# -------------------------\n",
    "\n",
    "mode = universe.get(\"exclude_subgroups\", \"keep-all\") # Defaults to \"keep-all\" if the key is missing."
   ]
  },
  {
   "cell_type": "code",
   "execution_count": 28,
   "id": "9d1e63fd",
   "metadata": {
    "execution": {
     "iopub.execute_input": "2025-08-19T18:52:25.581459Z",
     "iopub.status.busy": "2025-08-19T18:52:25.580769Z",
     "iopub.status.idle": "2025-08-19T18:52:25.591905Z",
     "shell.execute_reply": "2025-08-19T18:52:25.590555Z"
    },
    "papermill": {
     "duration": 0.024818,
     "end_time": "2025-08-19T18:52:25.593404",
     "exception": false,
     "start_time": "2025-08-19T18:52:25.568586",
     "status": "completed"
    },
    "tags": []
   },
   "outputs": [],
   "source": [
    "if mode == \"keep-all\":\n",
    "    keep_mask = pd.Series(True, index=org_train.index)\n",
    "\n",
    "elif mode == \"drop-non-german\":\n",
    "    keep_mask = (org_train[\"maxdeutsch1\"] == 1) & (org_train[\"maxdeutsch.Missing.\"] == 0)\n",
    "\n",
    "else:\n",
    "    raise ValueError(f\"Unsupported mode for exclude_subgroups: {mode}\")"
   ]
  },
  {
   "cell_type": "code",
   "execution_count": 29,
   "id": "d3b65474",
   "metadata": {
    "execution": {
     "iopub.execute_input": "2025-08-19T18:52:25.620040Z",
     "iopub.status.busy": "2025-08-19T18:52:25.618927Z",
     "iopub.status.idle": "2025-08-19T18:52:25.628524Z",
     "shell.execute_reply": "2025-08-19T18:52:25.627511Z"
    },
    "papermill": {
     "duration": 0.02324,
     "end_time": "2025-08-19T18:52:25.630017",
     "exception": false,
     "start_time": "2025-08-19T18:52:25.606777",
     "status": "completed"
    },
    "tags": []
   },
   "outputs": [],
   "source": [
    "n_drop = (~keep_mask).sum() # Calculates how many rows are set to be dropped\n",
    "if n_drop > 0:\n",
    "    pct = n_drop / len(keep_mask) * 100\n",
    "    print(f\"Dropping {n_drop} rows ({pct:.2f}%) where mode='{mode}'\")"
   ]
  },
  {
   "cell_type": "code",
   "execution_count": 30,
   "id": "f44389b3",
   "metadata": {
    "execution": {
     "iopub.execute_input": "2025-08-19T18:52:25.655185Z",
     "iopub.status.busy": "2025-08-19T18:52:25.654060Z",
     "iopub.status.idle": "2025-08-19T18:52:25.663145Z",
     "shell.execute_reply": "2025-08-19T18:52:25.661956Z"
    },
    "papermill": {
     "duration": 0.022577,
     "end_time": "2025-08-19T18:52:25.664616",
     "exception": false,
     "start_time": "2025-08-19T18:52:25.642039",
     "status": "completed"
    },
    "tags": []
   },
   "outputs": [],
   "source": [
    "X_train = X_train[keep_mask]"
   ]
  },
  {
   "cell_type": "code",
   "execution_count": 31,
   "id": "ceca8c2a",
   "metadata": {
    "execution": {
     "iopub.execute_input": "2025-08-19T18:52:25.691289Z",
     "iopub.status.busy": "2025-08-19T18:52:25.690110Z",
     "iopub.status.idle": "2025-08-19T18:52:25.698248Z",
     "shell.execute_reply": "2025-08-19T18:52:25.697074Z"
    },
    "papermill": {
     "duration": 0.021843,
     "end_time": "2025-08-19T18:52:25.699790",
     "exception": false,
     "start_time": "2025-08-19T18:52:25.677947",
     "status": "completed"
    },
    "tags": []
   },
   "outputs": [],
   "source": [
    "y_train = y_train[keep_mask]"
   ]
  },
  {
   "cell_type": "markdown",
   "id": "04d31e2f",
   "metadata": {
    "papermill": {
     "duration": 0.010554,
     "end_time": "2025-08-19T18:52:25.722025",
     "exception": false,
     "start_time": "2025-08-19T18:52:25.711471",
     "status": "completed"
    },
    "tags": []
   },
   "source": [
    "# Model Training"
   ]
  },
  {
   "cell_type": "code",
   "execution_count": 32,
   "id": "db991733",
   "metadata": {
    "execution": {
     "iopub.execute_input": "2025-08-19T18:52:25.752573Z",
     "iopub.status.busy": "2025-08-19T18:52:25.751382Z",
     "iopub.status.idle": "2025-08-19T18:52:25.869352Z",
     "shell.execute_reply": "2025-08-19T18:52:25.868236Z"
    },
    "papermill": {
     "duration": 0.135381,
     "end_time": "2025-08-19T18:52:25.872892",
     "exception": false,
     "start_time": "2025-08-19T18:52:25.737511",
     "status": "completed"
    },
    "tags": []
   },
   "outputs": [],
   "source": [
    "from sklearn.linear_model import LogisticRegression\n",
    "from sklearn.ensemble import GradientBoostingClassifier, RandomForestClassifier\n",
    "\n",
    "if (universe[\"model\"] == \"logreg\"):\n",
    "    model = LogisticRegression() #penalty=\"none\", solver=\"newton-cg\", max_iter=1)\n",
    "elif (universe[\"model\"] == \"penalized_logreg\"):\n",
    "    model = LogisticRegression(penalty=\"l2\", C=0.1) #, solver=\"newton-cg\", max_iter=1)\n",
    "elif (universe[\"model\"] == \"rf\"):\n",
    "    model = RandomForestClassifier() # n_estimators=100, n_jobs=-1\n",
    "elif (universe[\"model\"] == \"gbm\"):\n",
    "    model = GradientBoostingClassifier()\n",
    "elif (universe[\"model\"] == \"elasticnet\"):\n",
    "    model = LogisticRegression(penalty = 'elasticnet', solver = 'saga', l1_ratio = 0.5) # max_iter=5000\n",
    "else:\n",
    "    raise \"Unsupported universe.model\""
   ]
  },
  {
   "cell_type": "code",
   "execution_count": 33,
   "id": "a4b5cd25",
   "metadata": {
    "execution": {
     "iopub.execute_input": "2025-08-19T18:52:25.910638Z",
     "iopub.status.busy": "2025-08-19T18:52:25.909496Z",
     "iopub.status.idle": "2025-08-19T18:52:25.918944Z",
     "shell.execute_reply": "2025-08-19T18:52:25.917730Z"
    },
    "papermill": {
     "duration": 0.025124,
     "end_time": "2025-08-19T18:52:25.920897",
     "exception": false,
     "start_time": "2025-08-19T18:52:25.895773",
     "status": "completed"
    },
    "tags": []
   },
   "outputs": [],
   "source": [
    "from sklearn.pipeline import Pipeline\n",
    "from sklearn.preprocessing import StandardScaler\n",
    "\n",
    "model = Pipeline([\n",
    "    #(\"continuous_processor\", continuous_processor),\n",
    "    #(\"categorical_preprocessor\", categorical_preprocessor),\n",
    "    (\"scale\", StandardScaler() if universe[\"scale\"] == \"scale\" else None), \n",
    "    (\"model\", model),\n",
    "])"
   ]
  },
  {
   "cell_type": "code",
   "execution_count": 34,
   "id": "283a904d",
   "metadata": {
    "execution": {
     "iopub.execute_input": "2025-08-19T18:52:25.947349Z",
     "iopub.status.busy": "2025-08-19T18:52:25.946193Z",
     "iopub.status.idle": "2025-08-19T18:52:26.208219Z",
     "shell.execute_reply": "2025-08-19T18:52:26.207339Z"
    },
    "papermill": {
     "duration": 0.275454,
     "end_time": "2025-08-19T18:52:26.209477",
     "exception": false,
     "start_time": "2025-08-19T18:52:25.934023",
     "status": "completed"
    },
    "tags": []
   },
   "outputs": [
    {
     "name": "stderr",
     "output_type": "stream",
     "text": [
      "/dss/dsshome1/0C/ra93lal2/.local/share/virtualenvs/CMA_Fairness_v2-3j10GkSs/lib/python3.10/site-packages/sklearn/linear_model/_sag.py:350: ConvergenceWarning: The max_iter was reached which means the coef_ did not converge\n",
      "  warnings.warn(\n"
     ]
    },
    {
     "data": {
      "text/html": [
       "<style>#sk-container-id-1 {color: black;background-color: white;}#sk-container-id-1 pre{padding: 0;}#sk-container-id-1 div.sk-toggleable {background-color: white;}#sk-container-id-1 label.sk-toggleable__label {cursor: pointer;display: block;width: 100%;margin-bottom: 0;padding: 0.3em;box-sizing: border-box;text-align: center;}#sk-container-id-1 label.sk-toggleable__label-arrow:before {content: \"▸\";float: left;margin-right: 0.25em;color: #696969;}#sk-container-id-1 label.sk-toggleable__label-arrow:hover:before {color: black;}#sk-container-id-1 div.sk-estimator:hover label.sk-toggleable__label-arrow:before {color: black;}#sk-container-id-1 div.sk-toggleable__content {max-height: 0;max-width: 0;overflow: hidden;text-align: left;background-color: #f0f8ff;}#sk-container-id-1 div.sk-toggleable__content pre {margin: 0.2em;color: black;border-radius: 0.25em;background-color: #f0f8ff;}#sk-container-id-1 input.sk-toggleable__control:checked~div.sk-toggleable__content {max-height: 200px;max-width: 100%;overflow: auto;}#sk-container-id-1 input.sk-toggleable__control:checked~label.sk-toggleable__label-arrow:before {content: \"▾\";}#sk-container-id-1 div.sk-estimator input.sk-toggleable__control:checked~label.sk-toggleable__label {background-color: #d4ebff;}#sk-container-id-1 div.sk-label input.sk-toggleable__control:checked~label.sk-toggleable__label {background-color: #d4ebff;}#sk-container-id-1 input.sk-hidden--visually {border: 0;clip: rect(1px 1px 1px 1px);clip: rect(1px, 1px, 1px, 1px);height: 1px;margin: -1px;overflow: hidden;padding: 0;position: absolute;width: 1px;}#sk-container-id-1 div.sk-estimator {font-family: monospace;background-color: #f0f8ff;border: 1px dotted black;border-radius: 0.25em;box-sizing: border-box;margin-bottom: 0.5em;}#sk-container-id-1 div.sk-estimator:hover {background-color: #d4ebff;}#sk-container-id-1 div.sk-parallel-item::after {content: \"\";width: 100%;border-bottom: 1px solid gray;flex-grow: 1;}#sk-container-id-1 div.sk-label:hover label.sk-toggleable__label {background-color: #d4ebff;}#sk-container-id-1 div.sk-serial::before {content: \"\";position: absolute;border-left: 1px solid gray;box-sizing: border-box;top: 0;bottom: 0;left: 50%;z-index: 0;}#sk-container-id-1 div.sk-serial {display: flex;flex-direction: column;align-items: center;background-color: white;padding-right: 0.2em;padding-left: 0.2em;position: relative;}#sk-container-id-1 div.sk-item {position: relative;z-index: 1;}#sk-container-id-1 div.sk-parallel {display: flex;align-items: stretch;justify-content: center;background-color: white;position: relative;}#sk-container-id-1 div.sk-item::before, #sk-container-id-1 div.sk-parallel-item::before {content: \"\";position: absolute;border-left: 1px solid gray;box-sizing: border-box;top: 0;bottom: 0;left: 50%;z-index: -1;}#sk-container-id-1 div.sk-parallel-item {display: flex;flex-direction: column;z-index: 1;position: relative;background-color: white;}#sk-container-id-1 div.sk-parallel-item:first-child::after {align-self: flex-end;width: 50%;}#sk-container-id-1 div.sk-parallel-item:last-child::after {align-self: flex-start;width: 50%;}#sk-container-id-1 div.sk-parallel-item:only-child::after {width: 0;}#sk-container-id-1 div.sk-dashed-wrapped {border: 1px dashed gray;margin: 0 0.4em 0.5em 0.4em;box-sizing: border-box;padding-bottom: 0.4em;background-color: white;}#sk-container-id-1 div.sk-label label {font-family: monospace;font-weight: bold;display: inline-block;line-height: 1.2em;}#sk-container-id-1 div.sk-label-container {text-align: center;}#sk-container-id-1 div.sk-container {/* jupyter's `normalize.less` sets `[hidden] { display: none; }` but bootstrap.min.css set `[hidden] { display: none !important; }` so we also need the `!important` here to be able to override the default hidden behavior on the sphinx rendered scikit-learn.org. See: https://github.com/scikit-learn/scikit-learn/issues/21755 */display: inline-block !important;position: relative;}#sk-container-id-1 div.sk-text-repr-fallback {display: none;}</style><div id=\"sk-container-id-1\" class=\"sk-top-container\"><div class=\"sk-text-repr-fallback\"><pre>Pipeline(steps=[(&#x27;scale&#x27;, StandardScaler()),\n",
       "                (&#x27;model&#x27;,\n",
       "                 LogisticRegression(l1_ratio=0.5, penalty=&#x27;elasticnet&#x27;,\n",
       "                                    solver=&#x27;saga&#x27;))])</pre><b>In a Jupyter environment, please rerun this cell to show the HTML representation or trust the notebook. <br />On GitHub, the HTML representation is unable to render, please try loading this page with nbviewer.org.</b></div><div class=\"sk-container\" hidden><div class=\"sk-item sk-dashed-wrapped\"><div class=\"sk-label-container\"><div class=\"sk-label sk-toggleable\"><input class=\"sk-toggleable__control sk-hidden--visually\" id=\"sk-estimator-id-1\" type=\"checkbox\" ><label for=\"sk-estimator-id-1\" class=\"sk-toggleable__label sk-toggleable__label-arrow\">Pipeline</label><div class=\"sk-toggleable__content\"><pre>Pipeline(steps=[(&#x27;scale&#x27;, StandardScaler()),\n",
       "                (&#x27;model&#x27;,\n",
       "                 LogisticRegression(l1_ratio=0.5, penalty=&#x27;elasticnet&#x27;,\n",
       "                                    solver=&#x27;saga&#x27;))])</pre></div></div></div><div class=\"sk-serial\"><div class=\"sk-item\"><div class=\"sk-estimator sk-toggleable\"><input class=\"sk-toggleable__control sk-hidden--visually\" id=\"sk-estimator-id-2\" type=\"checkbox\" ><label for=\"sk-estimator-id-2\" class=\"sk-toggleable__label sk-toggleable__label-arrow\">StandardScaler</label><div class=\"sk-toggleable__content\"><pre>StandardScaler()</pre></div></div></div><div class=\"sk-item\"><div class=\"sk-estimator sk-toggleable\"><input class=\"sk-toggleable__control sk-hidden--visually\" id=\"sk-estimator-id-3\" type=\"checkbox\" ><label for=\"sk-estimator-id-3\" class=\"sk-toggleable__label sk-toggleable__label-arrow\">LogisticRegression</label><div class=\"sk-toggleable__content\"><pre>LogisticRegression(l1_ratio=0.5, penalty=&#x27;elasticnet&#x27;, solver=&#x27;saga&#x27;)</pre></div></div></div></div></div></div></div>"
      ],
      "text/plain": [
       "Pipeline(steps=[('scale', StandardScaler()),\n",
       "                ('model',\n",
       "                 LogisticRegression(l1_ratio=0.5, penalty='elasticnet',\n",
       "                                    solver='saga'))])"
      ]
     },
     "execution_count": 34,
     "metadata": {},
     "output_type": "execute_result"
    }
   ],
   "source": [
    "model.fit(X_train, y_train.values.ravel())"
   ]
  },
  {
   "cell_type": "code",
   "execution_count": 35,
   "id": "6e15e313",
   "metadata": {
    "execution": {
     "iopub.execute_input": "2025-08-19T18:52:26.234872Z",
     "iopub.status.busy": "2025-08-19T18:52:26.233650Z",
     "iopub.status.idle": "2025-08-19T18:52:26.433533Z",
     "shell.execute_reply": "2025-08-19T18:52:26.432761Z"
    },
    "papermill": {
     "duration": 0.213658,
     "end_time": "2025-08-19T18:52:26.434814",
     "exception": false,
     "start_time": "2025-08-19T18:52:26.221156",
     "status": "completed"
    },
    "tags": []
   },
   "outputs": [
    {
     "data": {
      "text/plain": [
       "0.8216140898450562"
      ]
     },
     "execution_count": 35,
     "metadata": {},
     "output_type": "execute_result"
    }
   ],
   "source": [
    "from fairness_multiverse.universe import predict_w_threshold\n",
    "\n",
    "probs_test = model.predict_proba(X_test)\n",
    "\n",
    "'''\n",
    "Below code returns a boolean array (or binary 0/1 array depending on how it’s used) where each element \n",
    "is True if the probability of class 1 is greater than or equal to the threshold, and False otherwise.\n",
    "'''\n",
    "y_pred_default = predict_w_threshold(probs_test, 0.5)\n",
    "\n",
    "from sklearn.metrics import accuracy_score\n",
    "\n",
    "# Naive prediction\n",
    "accuracy_score(y_true = y_true, y_pred = y_pred_default)"
   ]
  },
  {
   "cell_type": "code",
   "execution_count": 36,
   "id": "6f14067c",
   "metadata": {
    "execution": {
     "iopub.execute_input": "2025-08-19T18:52:26.459099Z",
     "iopub.status.busy": "2025-08-19T18:52:26.458629Z",
     "iopub.status.idle": "2025-08-19T18:52:26.634724Z",
     "shell.execute_reply": "2025-08-19T18:52:26.634042Z"
    },
    "papermill": {
     "duration": 0.189296,
     "end_time": "2025-08-19T18:52:26.635984",
     "exception": false,
     "start_time": "2025-08-19T18:52:26.446688",
     "status": "completed"
    },
    "tags": []
   },
   "outputs": [
    {
     "data": {
      "text/plain": [
       "array([0, 0, 0, ..., 0, 0, 0])"
      ]
     },
     "execution_count": 36,
     "metadata": {},
     "output_type": "execute_result"
    }
   ],
   "source": [
    "model.predict(X_test)"
   ]
  },
  {
   "cell_type": "markdown",
   "id": "3759920c",
   "metadata": {
    "papermill": {
     "duration": 0.028663,
     "end_time": "2025-08-19T18:52:26.676136",
     "exception": false,
     "start_time": "2025-08-19T18:52:26.647473",
     "status": "completed"
    },
    "tags": []
   },
   "source": [
    "# Conformal Prediction"
   ]
  },
  {
   "cell_type": "code",
   "execution_count": 37,
   "id": "14b27f59",
   "metadata": {
    "execution": {
     "iopub.execute_input": "2025-08-19T18:52:26.700116Z",
     "iopub.status.busy": "2025-08-19T18:52:26.699621Z",
     "iopub.status.idle": "2025-08-19T18:52:26.704025Z",
     "shell.execute_reply": "2025-08-19T18:52:26.703276Z"
    },
    "papermill": {
     "duration": 0.019015,
     "end_time": "2025-08-19T18:52:26.706404",
     "exception": false,
     "start_time": "2025-08-19T18:52:26.687389",
     "status": "completed"
    },
    "tags": []
   },
   "outputs": [],
   "source": [
    "# Miscoverage level for conformal prediction (10% allowed error rate => 90% target coverage)\n",
    "alpha = 0.1"
   ]
  },
  {
   "cell_type": "code",
   "execution_count": 38,
   "id": "59102472",
   "metadata": {
    "execution": {
     "iopub.execute_input": "2025-08-19T18:52:26.731204Z",
     "iopub.status.busy": "2025-08-19T18:52:26.730880Z",
     "iopub.status.idle": "2025-08-19T18:52:26.907756Z",
     "shell.execute_reply": "2025-08-19T18:52:26.906994Z"
    },
    "papermill": {
     "duration": 0.191136,
     "end_time": "2025-08-19T18:52:26.909290",
     "exception": false,
     "start_time": "2025-08-19T18:52:26.718154",
     "status": "completed"
    },
    "tags": []
   },
   "outputs": [],
   "source": [
    "probs_calib = model.predict_proba(X_calib)"
   ]
  },
  {
   "cell_type": "code",
   "execution_count": 39,
   "id": "a792d4dd",
   "metadata": {
    "execution": {
     "iopub.execute_input": "2025-08-19T18:52:26.933975Z",
     "iopub.status.busy": "2025-08-19T18:52:26.933278Z",
     "iopub.status.idle": "2025-08-19T18:52:26.939707Z",
     "shell.execute_reply": "2025-08-19T18:52:26.938885Z"
    },
    "papermill": {
     "duration": 0.020225,
     "end_time": "2025-08-19T18:52:26.941066",
     "exception": false,
     "start_time": "2025-08-19T18:52:26.920841",
     "status": "completed"
    },
    "tags": []
   },
   "outputs": [],
   "source": [
    "y_calib = y_calib.values.ravel().astype(int)"
   ]
  },
  {
   "cell_type": "code",
   "execution_count": 40,
   "id": "650fd033",
   "metadata": {
    "execution": {
     "iopub.execute_input": "2025-08-19T18:52:26.967210Z",
     "iopub.status.busy": "2025-08-19T18:52:26.966503Z",
     "iopub.status.idle": "2025-08-19T18:52:26.975987Z",
     "shell.execute_reply": "2025-08-19T18:52:26.975120Z"
    },
    "papermill": {
     "duration": 0.024529,
     "end_time": "2025-08-19T18:52:26.977294",
     "exception": false,
     "start_time": "2025-08-19T18:52:26.952765",
     "status": "completed"
    },
    "tags": []
   },
   "outputs": [],
   "source": [
    "from fairness_multiverse.conformal import compute_nc_scores\n",
    "\n",
    "# Compute nonconformity scores on calibration set (1 - probability of true class)\n",
    "nc_scores = compute_nc_scores(probs_calib, y_calib)"
   ]
  },
  {
   "cell_type": "code",
   "execution_count": 41,
   "id": "28ada44c",
   "metadata": {
    "execution": {
     "iopub.execute_input": "2025-08-19T18:52:27.002392Z",
     "iopub.status.busy": "2025-08-19T18:52:27.002060Z",
     "iopub.status.idle": "2025-08-19T18:52:27.008450Z",
     "shell.execute_reply": "2025-08-19T18:52:27.007320Z"
    },
    "papermill": {
     "duration": 0.020156,
     "end_time": "2025-08-19T18:52:27.009882",
     "exception": false,
     "start_time": "2025-08-19T18:52:26.989726",
     "status": "completed"
    },
    "tags": []
   },
   "outputs": [],
   "source": [
    "from fairness_multiverse.conformal import find_threshold\n",
    "\n",
    "# Find conformal threshold q_hat for the given alpha (split conformal method)\n",
    "q_hat = find_threshold(nc_scores, alpha)"
   ]
  },
  {
   "cell_type": "code",
   "execution_count": 42,
   "id": "df56469e",
   "metadata": {
    "execution": {
     "iopub.execute_input": "2025-08-19T18:52:27.040268Z",
     "iopub.status.busy": "2025-08-19T18:52:27.039789Z",
     "iopub.status.idle": "2025-08-19T18:52:27.046567Z",
     "shell.execute_reply": "2025-08-19T18:52:27.045811Z"
    },
    "papermill": {
     "duration": 0.021339,
     "end_time": "2025-08-19T18:52:27.047925",
     "exception": false,
     "start_time": "2025-08-19T18:52:27.026586",
     "status": "completed"
    },
    "tags": []
   },
   "outputs": [
    {
     "data": {
      "text/plain": [
       "0.7736593464364004"
      ]
     },
     "execution_count": 42,
     "metadata": {},
     "output_type": "execute_result"
    }
   ],
   "source": [
    "q_hat"
   ]
  },
  {
   "cell_type": "code",
   "execution_count": 43,
   "id": "aa1f5faa",
   "metadata": {
    "execution": {
     "iopub.execute_input": "2025-08-19T18:52:27.074787Z",
     "iopub.status.busy": "2025-08-19T18:52:27.074343Z",
     "iopub.status.idle": "2025-08-19T18:52:27.747218Z",
     "shell.execute_reply": "2025-08-19T18:52:27.745367Z"
    },
    "papermill": {
     "duration": 0.688073,
     "end_time": "2025-08-19T18:52:27.749314",
     "exception": false,
     "start_time": "2025-08-19T18:52:27.061241",
     "status": "completed"
    },
    "tags": []
   },
   "outputs": [],
   "source": [
    "from fairness_multiverse.conformal import predict_conformal_sets\n",
    "\n",
    "# Generate prediction sets for each test example\n",
    "pred_sets = predict_conformal_sets(model, X_test, q_hat)"
   ]
  },
  {
   "cell_type": "code",
   "execution_count": 44,
   "id": "97f67a6b",
   "metadata": {
    "execution": {
     "iopub.execute_input": "2025-08-19T18:52:27.778949Z",
     "iopub.status.busy": "2025-08-19T18:52:27.777809Z",
     "iopub.status.idle": "2025-08-19T18:52:27.796182Z",
     "shell.execute_reply": "2025-08-19T18:52:27.794827Z"
    },
    "papermill": {
     "duration": 0.0347,
     "end_time": "2025-08-19T18:52:27.798064",
     "exception": false,
     "start_time": "2025-08-19T18:52:27.763364",
     "status": "completed"
    },
    "tags": []
   },
   "outputs": [],
   "source": [
    "y_true = y_true.squeeze()"
   ]
  },
  {
   "cell_type": "code",
   "execution_count": 45,
   "id": "e700e9a7",
   "metadata": {
    "execution": {
     "iopub.execute_input": "2025-08-19T18:52:27.824937Z",
     "iopub.status.busy": "2025-08-19T18:52:27.823585Z",
     "iopub.status.idle": "2025-08-19T18:52:28.343691Z",
     "shell.execute_reply": "2025-08-19T18:52:28.342370Z"
    },
    "papermill": {
     "duration": 0.534744,
     "end_time": "2025-08-19T18:52:28.345303",
     "exception": false,
     "start_time": "2025-08-19T18:52:27.810559",
     "status": "completed"
    },
    "tags": []
   },
   "outputs": [],
   "source": [
    "from fairness_multiverse.conformal import evaluate_sets\n",
    "\n",
    "# Evaluate coverage and average set size on test data\n",
    "metrics = evaluate_sets(pred_sets, y_true)"
   ]
  },
  {
   "cell_type": "markdown",
   "id": "efbacec0",
   "metadata": {
    "papermill": {
     "duration": 0.01149,
     "end_time": "2025-08-19T18:52:28.368533",
     "exception": false,
     "start_time": "2025-08-19T18:52:28.357043",
     "status": "completed"
    },
    "tags": []
   },
   "source": [
    "# CP Metrics"
   ]
  },
  {
   "cell_type": "code",
   "execution_count": 46,
   "id": "9de55fb1",
   "metadata": {
    "execution": {
     "iopub.execute_input": "2025-08-19T18:52:28.394604Z",
     "iopub.status.busy": "2025-08-19T18:52:28.393407Z",
     "iopub.status.idle": "2025-08-19T18:52:28.407926Z",
     "shell.execute_reply": "2025-08-19T18:52:28.406588Z"
    },
    "papermill": {
     "duration": 0.030148,
     "end_time": "2025-08-19T18:52:28.409837",
     "exception": false,
     "start_time": "2025-08-19T18:52:28.379689",
     "status": "completed"
    },
    "tags": []
   },
   "outputs": [
    {
     "data": {
      "text/plain": [
       "{'coverage': 0.906699364619329, 'avg_size': 1.2238769367963438}"
      ]
     },
     "execution_count": 46,
     "metadata": {},
     "output_type": "execute_result"
    }
   ],
   "source": [
    "metrics"
   ]
  },
  {
   "cell_type": "code",
   "execution_count": 47,
   "id": "64c340a1",
   "metadata": {
    "execution": {
     "iopub.execute_input": "2025-08-19T18:52:28.441061Z",
     "iopub.status.busy": "2025-08-19T18:52:28.439683Z",
     "iopub.status.idle": "2025-08-19T18:52:28.450571Z",
     "shell.execute_reply": "2025-08-19T18:52:28.449399Z"
    },
    "papermill": {
     "duration": 0.028588,
     "end_time": "2025-08-19T18:52:28.454884",
     "exception": false,
     "start_time": "2025-08-19T18:52:28.426296",
     "status": "completed"
    },
    "tags": []
   },
   "outputs": [],
   "source": [
    "example_universe = universe.copy()\n",
    "universe_training_year = example_universe.get(\"training_year\")\n",
    "universe_training_size = example_universe.get(\"training_size\")\n",
    "universe_scale = example_universe.get(\"scale\")\n",
    "universe_model = example_universe.get(\"model\")\n",
    "universe_exclude_features = example_universe.get(\"exclude_features\")\n",
    "universe_exclude_subgroups = example_universe.get(\"exclude_subgroups\")"
   ]
  },
  {
   "cell_type": "code",
   "execution_count": 48,
   "id": "dbb53cb4",
   "metadata": {
    "execution": {
     "iopub.execute_input": "2025-08-19T18:52:28.484524Z",
     "iopub.status.busy": "2025-08-19T18:52:28.483723Z",
     "iopub.status.idle": "2025-08-19T18:52:28.491774Z",
     "shell.execute_reply": "2025-08-19T18:52:28.490871Z"
    },
    "papermill": {
     "duration": 0.022646,
     "end_time": "2025-08-19T18:52:28.493454",
     "exception": false,
     "start_time": "2025-08-19T18:52:28.470808",
     "status": "completed"
    },
    "tags": []
   },
   "outputs": [],
   "source": [
    "cp_metrics_dict = {\n",
    "    \"universe_id\": [universe_id],\n",
    "    \"universe_training_year\": [universe_training_year],\n",
    "    \"universe_training_size\": [universe_training_size],\n",
    "    \"universe_scale\": [universe_scale],\n",
    "    \"universe_model\": [universe_model],\n",
    "    \"universe_exclude_features\": [universe_exclude_features],\n",
    "    \"universe_exclude_subgroups\": [universe_exclude_subgroups],\n",
    "    \"q_hat\": [q_hat],\n",
    "    \"coverage\": [metrics[\"coverage\"]],\n",
    "    \"avg_size\": [metrics[\"avg_size\"]],\n",
    "}"
   ]
  },
  {
   "cell_type": "code",
   "execution_count": 49,
   "id": "0d70d4b2",
   "metadata": {
    "execution": {
     "iopub.execute_input": "2025-08-19T18:52:28.518723Z",
     "iopub.status.busy": "2025-08-19T18:52:28.518199Z",
     "iopub.status.idle": "2025-08-19T18:52:28.525432Z",
     "shell.execute_reply": "2025-08-19T18:52:28.524619Z"
    },
    "papermill": {
     "duration": 0.020946,
     "end_time": "2025-08-19T18:52:28.526758",
     "exception": false,
     "start_time": "2025-08-19T18:52:28.505812",
     "status": "completed"
    },
    "tags": []
   },
   "outputs": [],
   "source": [
    "cp_metrics_df = pd.DataFrame(cp_metrics_dict)"
   ]
  },
  {
   "cell_type": "code",
   "execution_count": 50,
   "id": "b494403c",
   "metadata": {
    "execution": {
     "iopub.execute_input": "2025-08-19T18:52:28.553013Z",
     "iopub.status.busy": "2025-08-19T18:52:28.552694Z",
     "iopub.status.idle": "2025-08-19T18:52:28.570304Z",
     "shell.execute_reply": "2025-08-19T18:52:28.568562Z"
    },
    "papermill": {
     "duration": 0.033178,
     "end_time": "2025-08-19T18:52:28.572511",
     "exception": false,
     "start_time": "2025-08-19T18:52:28.539333",
     "status": "completed"
    },
    "tags": []
   },
   "outputs": [
    {
     "data": {
      "text/html": [
       "<div>\n",
       "<style scoped>\n",
       "    .dataframe tbody tr th:only-of-type {\n",
       "        vertical-align: middle;\n",
       "    }\n",
       "\n",
       "    .dataframe tbody tr th {\n",
       "        vertical-align: top;\n",
       "    }\n",
       "\n",
       "    .dataframe thead th {\n",
       "        text-align: right;\n",
       "    }\n",
       "</style>\n",
       "<table border=\"1\" class=\"dataframe\">\n",
       "  <thead>\n",
       "    <tr style=\"text-align: right;\">\n",
       "      <th></th>\n",
       "      <th>universe_id</th>\n",
       "      <th>universe_training_year</th>\n",
       "      <th>universe_training_size</th>\n",
       "      <th>universe_scale</th>\n",
       "      <th>universe_model</th>\n",
       "      <th>universe_exclude_features</th>\n",
       "      <th>universe_exclude_subgroups</th>\n",
       "      <th>q_hat</th>\n",
       "      <th>coverage</th>\n",
       "      <th>avg_size</th>\n",
       "    </tr>\n",
       "  </thead>\n",
       "  <tbody>\n",
       "    <tr>\n",
       "      <th>0</th>\n",
       "      <td>30468d4e8fdc9dfd2c408ab4703038d5</td>\n",
       "      <td>2014</td>\n",
       "      <td>1k</td>\n",
       "      <td>scale</td>\n",
       "      <td>elasticnet</td>\n",
       "      <td>nationality-sex</td>\n",
       "      <td>keep-all</td>\n",
       "      <td>0.773659</td>\n",
       "      <td>0.906699</td>\n",
       "      <td>1.223877</td>\n",
       "    </tr>\n",
       "  </tbody>\n",
       "</table>\n",
       "</div>"
      ],
      "text/plain": [
       "                        universe_id universe_training_year  \\\n",
       "0  30468d4e8fdc9dfd2c408ab4703038d5                   2014   \n",
       "\n",
       "  universe_training_size universe_scale universe_model  \\\n",
       "0                     1k          scale     elasticnet   \n",
       "\n",
       "  universe_exclude_features universe_exclude_subgroups     q_hat  coverage  \\\n",
       "0           nationality-sex                   keep-all  0.773659  0.906699   \n",
       "\n",
       "   avg_size  \n",
       "0  1.223877  "
      ]
     },
     "execution_count": 50,
     "metadata": {},
     "output_type": "execute_result"
    }
   ],
   "source": [
    "cp_metrics_df"
   ]
  },
  {
   "cell_type": "markdown",
   "id": "ed608b0b",
   "metadata": {
    "papermill": {
     "duration": 0.012033,
     "end_time": "2025-08-19T18:52:28.600881",
     "exception": false,
     "start_time": "2025-08-19T18:52:28.588848",
     "status": "completed"
    },
    "tags": []
   },
   "source": [
    "Conditional coverage & looking at subgroups"
   ]
  },
  {
   "cell_type": "code",
   "execution_count": 51,
   "id": "8968c366",
   "metadata": {
    "execution": {
     "iopub.execute_input": "2025-08-19T18:52:28.627460Z",
     "iopub.status.busy": "2025-08-19T18:52:28.626687Z",
     "iopub.status.idle": "2025-08-19T18:52:28.938837Z",
     "shell.execute_reply": "2025-08-19T18:52:28.938122Z"
    },
    "papermill": {
     "duration": 0.327681,
     "end_time": "2025-08-19T18:52:28.940357",
     "exception": false,
     "start_time": "2025-08-19T18:52:28.612676",
     "status": "completed"
    },
    "tags": []
   },
   "outputs": [],
   "source": [
    "from fairness_multiverse.conformal import build_cp_groups\n",
    "\n",
    "cp_groups_df = build_cp_groups(pred_sets, y_true, X_test.index, org_test)"
   ]
  },
  {
   "cell_type": "code",
   "execution_count": 52,
   "id": "292ddabf",
   "metadata": {
    "execution": {
     "iopub.execute_input": "2025-08-19T18:52:28.967450Z",
     "iopub.status.busy": "2025-08-19T18:52:28.966692Z",
     "iopub.status.idle": "2025-08-19T18:52:29.858661Z",
     "shell.execute_reply": "2025-08-19T18:52:29.857491Z"
    },
    "papermill": {
     "duration": 0.90783,
     "end_time": "2025-08-19T18:52:29.860537",
     "exception": false,
     "start_time": "2025-08-19T18:52:28.952707",
     "status": "completed"
    },
    "tags": []
   },
   "outputs": [],
   "source": [
    "# Define covered = 1 if true_label is in the predicted set\n",
    "cp_groups_df['covered'] = cp_groups_df.apply(\n",
    "    lambda r: int(r['true_label'] in r['pred_set']),\n",
    "    axis=1\n",
    ")"
   ]
  },
  {
   "cell_type": "code",
   "execution_count": 53,
   "id": "3a261692",
   "metadata": {
    "execution": {
     "iopub.execute_input": "2025-08-19T18:52:29.888731Z",
     "iopub.status.busy": "2025-08-19T18:52:29.887837Z",
     "iopub.status.idle": "2025-08-19T18:52:29.911157Z",
     "shell.execute_reply": "2025-08-19T18:52:29.909994Z"
    },
    "papermill": {
     "duration": 0.04045,
     "end_time": "2025-08-19T18:52:29.913346",
     "exception": false,
     "start_time": "2025-08-19T18:52:29.872896",
     "status": "completed"
    },
    "tags": []
   },
   "outputs": [],
   "source": [
    "subgroups = ['frau1','nongerman','nongerman_male','nongerman_female']\n",
    "\n",
    "# Conditional coverage for subgroup==1\n",
    "cond_coverage = {\n",
    "    g: cp_groups_df.loc[cp_groups_df[g]==1, 'covered'].mean()\n",
    "    for g in subgroups\n",
    "}"
   ]
  },
  {
   "cell_type": "code",
   "execution_count": 54,
   "id": "894fd600",
   "metadata": {
    "execution": {
     "iopub.execute_input": "2025-08-19T18:52:29.952686Z",
     "iopub.status.busy": "2025-08-19T18:52:29.951884Z",
     "iopub.status.idle": "2025-08-19T18:52:29.962877Z",
     "shell.execute_reply": "2025-08-19T18:52:29.961554Z"
    },
    "papermill": {
     "duration": 0.027502,
     "end_time": "2025-08-19T18:52:29.964370",
     "exception": false,
     "start_time": "2025-08-19T18:52:29.936868",
     "status": "completed"
    },
    "tags": []
   },
   "outputs": [
    {
     "data": {
      "text/plain": [
       "{'frau1': 0.9056207035988678,\n",
       " 'nongerman': 0.9096727109414473,\n",
       " 'nongerman_male': 0.9252454291632892,\n",
       " 'nongerman_female': 0.8839046199701938}"
      ]
     },
     "execution_count": 54,
     "metadata": {},
     "output_type": "execute_result"
    }
   ],
   "source": [
    "cond_coverage"
   ]
  },
  {
   "cell_type": "code",
   "execution_count": 55,
   "id": "942895c7",
   "metadata": {
    "execution": {
     "iopub.execute_input": "2025-08-19T18:52:29.991831Z",
     "iopub.status.busy": "2025-08-19T18:52:29.991423Z",
     "iopub.status.idle": "2025-08-19T18:52:29.998767Z",
     "shell.execute_reply": "2025-08-19T18:52:29.998028Z"
    },
    "papermill": {
     "duration": 0.02233,
     "end_time": "2025-08-19T18:52:30.000362",
     "exception": false,
     "start_time": "2025-08-19T18:52:29.978032",
     "status": "completed"
    },
    "tags": []
   },
   "outputs": [],
   "source": [
    "for subgroup, cov in cond_coverage.items():\n",
    "    cp_metrics_df[f\"cov_{subgroup}\"] = cov"
   ]
  },
  {
   "cell_type": "code",
   "execution_count": 56,
   "id": "3970120f",
   "metadata": {
    "execution": {
     "iopub.execute_input": "2025-08-19T18:52:30.026285Z",
     "iopub.status.busy": "2025-08-19T18:52:30.025607Z",
     "iopub.status.idle": "2025-08-19T18:52:30.052175Z",
     "shell.execute_reply": "2025-08-19T18:52:30.051135Z"
    },
    "papermill": {
     "duration": 0.042067,
     "end_time": "2025-08-19T18:52:30.054653",
     "exception": false,
     "start_time": "2025-08-19T18:52:30.012586",
     "status": "completed"
    },
    "tags": []
   },
   "outputs": [
    {
     "data": {
      "text/html": [
       "<div>\n",
       "<style scoped>\n",
       "    .dataframe tbody tr th:only-of-type {\n",
       "        vertical-align: middle;\n",
       "    }\n",
       "\n",
       "    .dataframe tbody tr th {\n",
       "        vertical-align: top;\n",
       "    }\n",
       "\n",
       "    .dataframe thead th {\n",
       "        text-align: right;\n",
       "    }\n",
       "</style>\n",
       "<table border=\"1\" class=\"dataframe\">\n",
       "  <thead>\n",
       "    <tr style=\"text-align: right;\">\n",
       "      <th></th>\n",
       "      <th>universe_id</th>\n",
       "      <th>universe_training_year</th>\n",
       "      <th>universe_training_size</th>\n",
       "      <th>universe_scale</th>\n",
       "      <th>universe_model</th>\n",
       "      <th>universe_exclude_features</th>\n",
       "      <th>universe_exclude_subgroups</th>\n",
       "      <th>q_hat</th>\n",
       "      <th>coverage</th>\n",
       "      <th>avg_size</th>\n",
       "      <th>cov_frau1</th>\n",
       "      <th>cov_nongerman</th>\n",
       "      <th>cov_nongerman_male</th>\n",
       "      <th>cov_nongerman_female</th>\n",
       "    </tr>\n",
       "  </thead>\n",
       "  <tbody>\n",
       "    <tr>\n",
       "      <th>0</th>\n",
       "      <td>30468d4e8fdc9dfd2c408ab4703038d5</td>\n",
       "      <td>2014</td>\n",
       "      <td>1k</td>\n",
       "      <td>scale</td>\n",
       "      <td>elasticnet</td>\n",
       "      <td>nationality-sex</td>\n",
       "      <td>keep-all</td>\n",
       "      <td>0.773659</td>\n",
       "      <td>0.906699</td>\n",
       "      <td>1.223877</td>\n",
       "      <td>0.905621</td>\n",
       "      <td>0.909673</td>\n",
       "      <td>0.925245</td>\n",
       "      <td>0.883905</td>\n",
       "    </tr>\n",
       "  </tbody>\n",
       "</table>\n",
       "</div>"
      ],
      "text/plain": [
       "                        universe_id universe_training_year  \\\n",
       "0  30468d4e8fdc9dfd2c408ab4703038d5                   2014   \n",
       "\n",
       "  universe_training_size universe_scale universe_model  \\\n",
       "0                     1k          scale     elasticnet   \n",
       "\n",
       "  universe_exclude_features universe_exclude_subgroups     q_hat  coverage  \\\n",
       "0           nationality-sex                   keep-all  0.773659  0.906699   \n",
       "\n",
       "   avg_size  cov_frau1  cov_nongerman  cov_nongerman_male  \\\n",
       "0  1.223877   0.905621       0.909673            0.925245   \n",
       "\n",
       "   cov_nongerman_female  \n",
       "0              0.883905  "
      ]
     },
     "execution_count": 56,
     "metadata": {},
     "output_type": "execute_result"
    }
   ],
   "source": [
    "cp_metrics_df"
   ]
  },
  {
   "cell_type": "markdown",
   "id": "3fc519cc",
   "metadata": {
    "papermill": {
     "duration": 0.01222,
     "end_time": "2025-08-19T18:52:30.083548",
     "exception": false,
     "start_time": "2025-08-19T18:52:30.071328",
     "status": "completed"
    },
    "tags": []
   },
   "source": [
    "# (Fairness) Metrics"
   ]
  },
  {
   "cell_type": "code",
   "execution_count": 57,
   "id": "a2e5e155",
   "metadata": {
    "execution": {
     "iopub.execute_input": "2025-08-19T18:52:30.109705Z",
     "iopub.status.busy": "2025-08-19T18:52:30.109279Z",
     "iopub.status.idle": "2025-08-19T18:52:30.125312Z",
     "shell.execute_reply": "2025-08-19T18:52:30.124538Z"
    },
    "papermill": {
     "duration": 0.031309,
     "end_time": "2025-08-19T18:52:30.126999",
     "exception": false,
     "start_time": "2025-08-19T18:52:30.095690",
     "status": "completed"
    },
    "tags": []
   },
   "outputs": [],
   "source": [
    "colname_to_bin = \"maxdeutsch1\"\n",
    "majority_value = org_train[colname_to_bin].mode()[0]\n",
    "\n",
    "org_test[\"majmin\"] = np.where(org_test[colname_to_bin] == majority_value, \"majority\", \"minority\")"
   ]
  },
  {
   "cell_type": "code",
   "execution_count": 58,
   "id": "17e3e4d5",
   "metadata": {
    "execution": {
     "iopub.execute_input": "2025-08-19T18:52:30.160986Z",
     "iopub.status.busy": "2025-08-19T18:52:30.160104Z",
     "iopub.status.idle": "2025-08-19T18:52:31.946214Z",
     "shell.execute_reply": "2025-08-19T18:52:31.944900Z"
    },
    "papermill": {
     "duration": 1.802046,
     "end_time": "2025-08-19T18:52:31.947952",
     "exception": false,
     "start_time": "2025-08-19T18:52:30.145906",
     "status": "completed"
    },
    "tags": []
   },
   "outputs": [],
   "source": [
    "example_universe = universe.copy()\n",
    "example_universe[\"cutoff\"] = example_universe[\"cutoff\"][0]\n",
    "example_universe[\"eval_fairness_grouping\"] = example_universe[\"eval_fairness_grouping\"][0]\n",
    "fairness_dict, metric_frame = universe_analysis.compute_metrics(\n",
    "    example_universe,\n",
    "    y_pred_prob=probs_test,\n",
    "    y_test=y_true,\n",
    "    org_test=org_test,\n",
    ")"
   ]
  },
  {
   "cell_type": "markdown",
   "id": "1fb7a0e9",
   "metadata": {
    "papermill": {
     "duration": 0.021019,
     "end_time": "2025-08-19T18:52:31.982715",
     "exception": false,
     "start_time": "2025-08-19T18:52:31.961696",
     "status": "completed"
    },
    "tags": []
   },
   "source": [
    "# Overall"
   ]
  },
  {
   "cell_type": "markdown",
   "id": "be1784b1",
   "metadata": {
    "papermill": {
     "duration": 0.012506,
     "end_time": "2025-08-19T18:52:32.008605",
     "exception": false,
     "start_time": "2025-08-19T18:52:31.996099",
     "status": "completed"
    },
    "tags": []
   },
   "source": [
    "Main fairness target: Equalized Odds. Seems to be a better fit than equal opportunity, since we're not only interested in Y = 1. Seems to be a better fit than demographic parity, since we also care about accuracy, not just equal distribution of preds.\n",
    "\n",
    "Pick column for computation of fairness metrics\n",
    "\n",
    "Performance\n",
    "Overall performance measures, most interesting in relation to the measures split by group below"
   ]
  },
  {
   "cell_type": "code",
   "execution_count": 59,
   "id": "b7672bee",
   "metadata": {
    "execution": {
     "iopub.execute_input": "2025-08-19T18:52:32.037162Z",
     "iopub.status.busy": "2025-08-19T18:52:32.036173Z",
     "iopub.status.idle": "2025-08-19T18:52:32.053780Z",
     "shell.execute_reply": "2025-08-19T18:52:32.052520Z"
    },
    "papermill": {
     "duration": 0.034265,
     "end_time": "2025-08-19T18:52:32.055355",
     "exception": false,
     "start_time": "2025-08-19T18:52:32.021090",
     "status": "completed"
    },
    "tags": []
   },
   "outputs": [
    {
     "data": {
      "text/plain": [
       "accuracy                   0.219474\n",
       "balanced accuracy          0.537670\n",
       "f1                         0.240940\n",
       "precision                  0.137641\n",
       "false positive rate        0.890335\n",
       "false negative rate        0.034324\n",
       "selection rate             0.900000\n",
       "count                  89710.000000\n",
       "dtype: float64"
      ]
     },
     "execution_count": 59,
     "metadata": {},
     "output_type": "execute_result"
    }
   ],
   "source": [
    "metric_frame.overall"
   ]
  },
  {
   "cell_type": "markdown",
   "id": "d93333c9",
   "metadata": {
    "papermill": {
     "duration": 0.013078,
     "end_time": "2025-08-19T18:52:32.087113",
     "exception": false,
     "start_time": "2025-08-19T18:52:32.074035",
     "status": "completed"
    },
    "tags": []
   },
   "source": [
    "By Group"
   ]
  },
  {
   "cell_type": "code",
   "execution_count": 60,
   "id": "52256966",
   "metadata": {
    "execution": {
     "iopub.execute_input": "2025-08-19T18:52:32.114815Z",
     "iopub.status.busy": "2025-08-19T18:52:32.113769Z",
     "iopub.status.idle": "2025-08-19T18:52:32.138226Z",
     "shell.execute_reply": "2025-08-19T18:52:32.137177Z"
    },
    "papermill": {
     "duration": 0.040171,
     "end_time": "2025-08-19T18:52:32.139726",
     "exception": false,
     "start_time": "2025-08-19T18:52:32.099555",
     "status": "completed"
    },
    "tags": []
   },
   "outputs": [
    {
     "data": {
      "text/html": [
       "<div>\n",
       "<style scoped>\n",
       "    .dataframe tbody tr th:only-of-type {\n",
       "        vertical-align: middle;\n",
       "    }\n",
       "\n",
       "    .dataframe tbody tr th {\n",
       "        vertical-align: top;\n",
       "    }\n",
       "\n",
       "    .dataframe thead th {\n",
       "        text-align: right;\n",
       "    }\n",
       "</style>\n",
       "<table border=\"1\" class=\"dataframe\">\n",
       "  <thead>\n",
       "    <tr style=\"text-align: right;\">\n",
       "      <th></th>\n",
       "      <th>accuracy</th>\n",
       "      <th>balanced accuracy</th>\n",
       "      <th>f1</th>\n",
       "      <th>precision</th>\n",
       "      <th>false positive rate</th>\n",
       "      <th>false negative rate</th>\n",
       "      <th>selection rate</th>\n",
       "      <th>count</th>\n",
       "    </tr>\n",
       "    <tr>\n",
       "      <th>majmin</th>\n",
       "      <th></th>\n",
       "      <th></th>\n",
       "      <th></th>\n",
       "      <th></th>\n",
       "      <th></th>\n",
       "      <th></th>\n",
       "      <th></th>\n",
       "      <th></th>\n",
       "    </tr>\n",
       "  </thead>\n",
       "  <tbody>\n",
       "    <tr>\n",
       "      <th>majority</th>\n",
       "      <td>0.237878</td>\n",
       "      <td>0.545013</td>\n",
       "      <td>0.250235</td>\n",
       "      <td>0.143812</td>\n",
       "      <td>0.872447</td>\n",
       "      <td>0.037527</td>\n",
       "      <td>0.884343</td>\n",
       "      <td>69170.0</td>\n",
       "    </tr>\n",
       "    <tr>\n",
       "      <th>minority</th>\n",
       "      <td>0.157498</td>\n",
       "      <td>0.514306</td>\n",
       "      <td>0.211150</td>\n",
       "      <td>0.118350</td>\n",
       "      <td>0.949428</td>\n",
       "      <td>0.021959</td>\n",
       "      <td>0.952726</td>\n",
       "      <td>20540.0</td>\n",
       "    </tr>\n",
       "  </tbody>\n",
       "</table>\n",
       "</div>"
      ],
      "text/plain": [
       "          accuracy  balanced accuracy        f1  precision  \\\n",
       "majmin                                                       \n",
       "majority  0.237878           0.545013  0.250235   0.143812   \n",
       "minority  0.157498           0.514306  0.211150   0.118350   \n",
       "\n",
       "          false positive rate  false negative rate  selection rate    count  \n",
       "majmin                                                                       \n",
       "majority             0.872447             0.037527        0.884343  69170.0  \n",
       "minority             0.949428             0.021959        0.952726  20540.0  "
      ]
     },
     "execution_count": 60,
     "metadata": {},
     "output_type": "execute_result"
    }
   ],
   "source": [
    "metric_frame.by_group"
   ]
  },
  {
   "cell_type": "code",
   "execution_count": 61,
   "id": "6e6c20ae",
   "metadata": {
    "execution": {
     "iopub.execute_input": "2025-08-19T18:52:32.171830Z",
     "iopub.status.busy": "2025-08-19T18:52:32.171416Z",
     "iopub.status.idle": "2025-08-19T18:52:34.114237Z",
     "shell.execute_reply": "2025-08-19T18:52:34.113324Z"
    },
    "papermill": {
     "duration": 1.962116,
     "end_time": "2025-08-19T18:52:34.115558",
     "exception": false,
     "start_time": "2025-08-19T18:52:32.153442",
     "status": "completed"
    },
    "tags": []
   },
   "outputs": [
    {
     "data": {
      "text/plain": [
       "array([[<Axes: title={'center': 'accuracy'}, xlabel='majmin'>,\n",
       "        <Axes: title={'center': 'balanced accuracy'}, xlabel='majmin'>,\n",
       "        <Axes: title={'center': 'f1'}, xlabel='majmin'>],\n",
       "       [<Axes: title={'center': 'precision'}, xlabel='majmin'>,\n",
       "        <Axes: title={'center': 'false positive rate'}, xlabel='majmin'>,\n",
       "        <Axes: title={'center': 'false negative rate'}, xlabel='majmin'>],\n",
       "       [<Axes: title={'center': 'selection rate'}, xlabel='majmin'>,\n",
       "        <Axes: title={'center': 'count'}, xlabel='majmin'>,\n",
       "        <Axes: xlabel='majmin'>]], dtype=object)"
      ]
     },
     "execution_count": 61,
     "metadata": {},
     "output_type": "execute_result"
    },
    {
     "data": {
      "image/png": "[encoded data removed]",
      "text/plain": [
       "<Figure size 1200x800 with 9 Axes>"
      ]
     },
     "metadata": {},
     "output_type": "display_data"
    }
   ],
   "source": [
    "# In a graphic\n",
    "metric_frame.by_group.plot.bar(\n",
    "    subplots=True,\n",
    "    layout=[3, 3],\n",
    "    legend=False,\n",
    "    figsize=[12, 8],\n",
    "    title=\"Show all metrics\",\n",
    ")"
   ]
  },
  {
   "cell_type": "markdown",
   "id": "b2e433ae",
   "metadata": {
    "papermill": {
     "duration": 0.020097,
     "end_time": "2025-08-19T18:52:34.155370",
     "exception": false,
     "start_time": "2025-08-19T18:52:34.135273",
     "status": "completed"
    },
    "tags": []
   },
   "source": [
    "# Final Output"
   ]
  },
  {
   "cell_type": "code",
   "execution_count": 62,
   "id": "3871301e",
   "metadata": {
    "execution": {
     "iopub.execute_input": "2025-08-19T18:52:34.186337Z",
     "iopub.status.busy": "2025-08-19T18:52:34.185372Z",
     "iopub.status.idle": "2025-08-19T18:52:34.195853Z",
     "shell.execute_reply": "2025-08-19T18:52:34.195102Z"
    },
    "papermill": {
     "duration": 0.026835,
     "end_time": "2025-08-19T18:52:34.197098",
     "exception": false,
     "start_time": "2025-08-19T18:52:34.170263",
     "status": "completed"
    },
    "tags": []
   },
   "outputs": [
    {
     "data": {
      "text/plain": [
       "4"
      ]
     },
     "execution_count": 62,
     "metadata": {},
     "output_type": "execute_result"
    }
   ],
   "source": [
    "sub_universes = universe_analysis.generate_sub_universes()\n",
    "len(sub_universes)"
   ]
  },
  {
   "cell_type": "code",
   "execution_count": 63,
   "id": "d9cfdaca",
   "metadata": {
    "execution": {
     "iopub.execute_input": "2025-08-19T18:52:34.227689Z",
     "iopub.status.busy": "2025-08-19T18:52:34.227270Z",
     "iopub.status.idle": "2025-08-19T18:52:34.232320Z",
     "shell.execute_reply": "2025-08-19T18:52:34.231600Z"
    },
    "papermill": {
     "duration": 0.021255,
     "end_time": "2025-08-19T18:52:34.233504",
     "exception": false,
     "start_time": "2025-08-19T18:52:34.212249",
     "status": "completed"
    },
    "tags": []
   },
   "outputs": [],
   "source": [
    "def filter_sub_universe_data(sub_universe, org_test):\n",
    "    # Keep all rows — no filtering\n",
    "    keep_rows_mask = np.ones(org_test.shape[0], dtype=bool)\n",
    "\n",
    "    print(f\"[INFO] Keeping all rows: {keep_rows_mask.sum()} rows retained.\")\n",
    "    return keep_rows_mask"
   ]
  },
  {
   "cell_type": "code",
   "execution_count": 64,
   "id": "2bc31ac1",
   "metadata": {
    "execution": {
     "iopub.execute_input": "2025-08-19T18:52:34.262889Z",
     "iopub.status.busy": "2025-08-19T18:52:34.262298Z",
     "iopub.status.idle": "2025-08-19T18:52:41.154575Z",
     "shell.execute_reply": "2025-08-19T18:52:41.153563Z"
    },
    "papermill": {
     "duration": 6.910833,
     "end_time": "2025-08-19T18:52:41.158268",
     "exception": false,
     "start_time": "2025-08-19T18:52:34.247435",
     "status": "completed"
    },
    "tags": []
   },
   "outputs": [
    {
     "name": "stdout",
     "output_type": "stream",
     "text": [
      "Stopping execution_time clock.\n",
      "[INFO] Keeping all rows: 89710 rows retained.\n"
     ]
    },
    {
     "name": "stdout",
     "output_type": "stream",
     "text": [
      "[INFO] Keeping all rows: 89710 rows retained.\n"
     ]
    },
    {
     "name": "stdout",
     "output_type": "stream",
     "text": [
      "[INFO] Keeping all rows: 89710 rows retained.\n"
     ]
    },
    {
     "name": "stdout",
     "output_type": "stream",
     "text": [
      "[INFO] Keeping all rows: 89710 rows retained.\n"
     ]
    },
    {
     "data": {
      "text/html": [
       "<div>\n",
       "<style scoped>\n",
       "    .dataframe tbody tr th:only-of-type {\n",
       "        vertical-align: middle;\n",
       "    }\n",
       "\n",
       "    .dataframe tbody tr th {\n",
       "        vertical-align: top;\n",
       "    }\n",
       "\n",
       "    .dataframe thead th {\n",
       "        text-align: right;\n",
       "    }\n",
       "</style>\n",
       "<table border=\"1\" class=\"dataframe\">\n",
       "  <thead>\n",
       "    <tr style=\"text-align: right;\">\n",
       "      <th></th>\n",
       "      <th>run_no</th>\n",
       "      <th>universe_id</th>\n",
       "      <th>universe_settings</th>\n",
       "      <th>execution_time</th>\n",
       "      <th>test_size_n</th>\n",
       "      <th>test_size_frac</th>\n",
       "      <th>fair_main_equalized_odds_difference</th>\n",
       "      <th>fair_main_equalized_odds_ratio</th>\n",
       "      <th>fair_main_demographic_parity_difference</th>\n",
       "      <th>fair_main_demographic_parity_ratio</th>\n",
       "      <th>...</th>\n",
       "      <th>perf_grp_precision_0</th>\n",
       "      <th>perf_grp_precision_1</th>\n",
       "      <th>perf_grp_false positive rate_0</th>\n",
       "      <th>perf_grp_false positive rate_1</th>\n",
       "      <th>perf_grp_false negative rate_0</th>\n",
       "      <th>perf_grp_false negative rate_1</th>\n",
       "      <th>perf_grp_selection rate_0</th>\n",
       "      <th>perf_grp_selection rate_1</th>\n",
       "      <th>perf_grp_count_0</th>\n",
       "      <th>perf_grp_count_1</th>\n",
       "    </tr>\n",
       "  </thead>\n",
       "  <tbody>\n",
       "    <tr>\n",
       "      <th>0</th>\n",
       "      <td>3</td>\n",
       "      <td>30468d4e8fdc9dfd2c408ab4703038d5</td>\n",
       "      <td>{\"cutoff\": \"quantile_0.1\", \"eval_fairness_grou...</td>\n",
       "      <td>21.468342</td>\n",
       "      <td>89710</td>\n",
       "      <td>1.0</td>\n",
       "      <td>0.076981</td>\n",
       "      <td>0.918919</td>\n",
       "      <td>0.068383</td>\n",
       "      <td>0.928223</td>\n",
       "      <td>...</td>\n",
       "      <td>NaN</td>\n",
       "      <td>NaN</td>\n",
       "      <td>NaN</td>\n",
       "      <td>NaN</td>\n",
       "      <td>NaN</td>\n",
       "      <td>NaN</td>\n",
       "      <td>NaN</td>\n",
       "      <td>NaN</td>\n",
       "      <td>NaN</td>\n",
       "      <td>NaN</td>\n",
       "    </tr>\n",
       "    <tr>\n",
       "      <th>0</th>\n",
       "      <td>3</td>\n",
       "      <td>30468d4e8fdc9dfd2c408ab4703038d5</td>\n",
       "      <td>{\"cutoff\": \"quantile_0.1\", \"eval_fairness_grou...</td>\n",
       "      <td>21.468342</td>\n",
       "      <td>89710</td>\n",
       "      <td>1.0</td>\n",
       "      <td>0.076981</td>\n",
       "      <td>0.918919</td>\n",
       "      <td>0.068383</td>\n",
       "      <td>0.928223</td>\n",
       "      <td>...</td>\n",
       "      <td>0.118350</td>\n",
       "      <td>0.143812</td>\n",
       "      <td>0.949428</td>\n",
       "      <td>0.872447</td>\n",
       "      <td>0.021959</td>\n",
       "      <td>0.037527</td>\n",
       "      <td>0.952726</td>\n",
       "      <td>0.884343</td>\n",
       "      <td>20540.0</td>\n",
       "      <td>69170.0</td>\n",
       "    </tr>\n",
       "    <tr>\n",
       "      <th>0</th>\n",
       "      <td>3</td>\n",
       "      <td>30468d4e8fdc9dfd2c408ab4703038d5</td>\n",
       "      <td>{\"cutoff\": \"quantile_0.25\", \"eval_fairness_gro...</td>\n",
       "      <td>21.468342</td>\n",
       "      <td>89710</td>\n",
       "      <td>1.0</td>\n",
       "      <td>0.083271</td>\n",
       "      <td>0.894996</td>\n",
       "      <td>0.073063</td>\n",
       "      <td>0.909388</td>\n",
       "      <td>...</td>\n",
       "      <td>NaN</td>\n",
       "      <td>NaN</td>\n",
       "      <td>NaN</td>\n",
       "      <td>NaN</td>\n",
       "      <td>NaN</td>\n",
       "      <td>NaN</td>\n",
       "      <td>NaN</td>\n",
       "      <td>NaN</td>\n",
       "      <td>NaN</td>\n",
       "      <td>NaN</td>\n",
       "    </tr>\n",
       "    <tr>\n",
       "      <th>0</th>\n",
       "      <td>3</td>\n",
       "      <td>30468d4e8fdc9dfd2c408ab4703038d5</td>\n",
       "      <td>{\"cutoff\": \"quantile_0.25\", \"eval_fairness_gro...</td>\n",
       "      <td>21.468342</td>\n",
       "      <td>89710</td>\n",
       "      <td>1.0</td>\n",
       "      <td>0.083271</td>\n",
       "      <td>0.894996</td>\n",
       "      <td>0.073063</td>\n",
       "      <td>0.909388</td>\n",
       "      <td>...</td>\n",
       "      <td>0.129876</td>\n",
       "      <td>0.159957</td>\n",
       "      <td>0.793033</td>\n",
       "      <td>0.709762</td>\n",
       "      <td>0.091639</td>\n",
       "      <td>0.112363</td>\n",
       "      <td>0.806329</td>\n",
       "      <td>0.733266</td>\n",
       "      <td>20540.0</td>\n",
       "      <td>69170.0</td>\n",
       "    </tr>\n",
       "  </tbody>\n",
       "</table>\n",
       "<p>4 rows × 50 columns</p>\n",
       "</div>"
      ],
      "text/plain": [
       "  run_no                       universe_id  \\\n",
       "0      3  30468d4e8fdc9dfd2c408ab4703038d5   \n",
       "0      3  30468d4e8fdc9dfd2c408ab4703038d5   \n",
       "0      3  30468d4e8fdc9dfd2c408ab4703038d5   \n",
       "0      3  30468d4e8fdc9dfd2c408ab4703038d5   \n",
       "\n",
       "                                   universe_settings  execution_time  \\\n",
       "0  {\"cutoff\": \"quantile_0.1\", \"eval_fairness_grou...       21.468342   \n",
       "0  {\"cutoff\": \"quantile_0.1\", \"eval_fairness_grou...       21.468342   \n",
       "0  {\"cutoff\": \"quantile_0.25\", \"eval_fairness_gro...       21.468342   \n",
       "0  {\"cutoff\": \"quantile_0.25\", \"eval_fairness_gro...       21.468342   \n",
       "\n",
       "   test_size_n  test_size_frac  fair_main_equalized_odds_difference  \\\n",
       "0        89710             1.0                             0.076981   \n",
       "0        89710             1.0                             0.076981   \n",
       "0        89710             1.0                             0.083271   \n",
       "0        89710             1.0                             0.083271   \n",
       "\n",
       "   fair_main_equalized_odds_ratio  fair_main_demographic_parity_difference  \\\n",
       "0                        0.918919                                 0.068383   \n",
       "0                        0.918919                                 0.068383   \n",
       "0                        0.894996                                 0.073063   \n",
       "0                        0.894996                                 0.073063   \n",
       "\n",
       "   fair_main_demographic_parity_ratio  ...  perf_grp_precision_0  \\\n",
       "0                            0.928223  ...                   NaN   \n",
       "0                            0.928223  ...              0.118350   \n",
       "0                            0.909388  ...                   NaN   \n",
       "0                            0.909388  ...              0.129876   \n",
       "\n",
       "   perf_grp_precision_1  perf_grp_false positive rate_0  \\\n",
       "0                   NaN                             NaN   \n",
       "0              0.143812                        0.949428   \n",
       "0                   NaN                             NaN   \n",
       "0              0.159957                        0.793033   \n",
       "\n",
       "   perf_grp_false positive rate_1  perf_grp_false negative rate_0  \\\n",
       "0                             NaN                             NaN   \n",
       "0                        0.872447                        0.021959   \n",
       "0                             NaN                             NaN   \n",
       "0                        0.709762                        0.091639   \n",
       "\n",
       "   perf_grp_false negative rate_1  perf_grp_selection rate_0  \\\n",
       "0                             NaN                        NaN   \n",
       "0                        0.037527                   0.952726   \n",
       "0                             NaN                        NaN   \n",
       "0                        0.112363                   0.806329   \n",
       "\n",
       "   perf_grp_selection rate_1  perf_grp_count_0  perf_grp_count_1  \n",
       "0                        NaN               NaN               NaN  \n",
       "0                   0.884343           20540.0           69170.0  \n",
       "0                        NaN               NaN               NaN  \n",
       "0                   0.733266           20540.0           69170.0  \n",
       "\n",
       "[4 rows x 50 columns]"
      ]
     },
     "execution_count": 64,
     "metadata": {},
     "output_type": "execute_result"
    }
   ],
   "source": [
    "final_output = universe_analysis.generate_final_output(\n",
    "    y_pred_prob=probs_test,\n",
    "    y_test=y_true,\n",
    "    org_test=org_test,\n",
    "    filter_data=filter_sub_universe_data,\n",
    "    cp_metrics_df=cp_metrics_df,\n",
    "    save=True,\n",
    ")\n",
    "final_output"
   ]
  },
  {
   "cell_type": "code",
   "execution_count": null,
   "id": "8b80a1ff",
   "metadata": {
    "papermill": {
     "duration": 0.015551,
     "end_time": "2025-08-19T18:52:41.204258",
     "exception": false,
     "start_time": "2025-08-19T18:52:41.188707",
     "status": "completed"
    },
    "tags": []
   },
   "outputs": [],
   "source": []
  },
  {
   "cell_type": "code",
   "execution_count": null,
   "id": "275c9fad",
   "metadata": {
    "papermill": {
     "duration": 0.021203,
     "end_time": "2025-08-19T18:52:41.241605",
     "exception": false,
     "start_time": "2025-08-19T18:52:41.220402",
     "status": "completed"
    },
    "tags": []
   },
   "outputs": [],
   "source": []
  }
 ],
 "metadata": {
  "celltoolbar": "Tags",
  "kernelspec": {
   "display_name": "Python (CMA Fairness)",
   "language": "python",
   "name": "cma_fair_env"
  },
  "language_info": {
   "codemirror_mode": {
    "name": "ipython",
    "version": 3
   },
   "file_extension": ".py",
   "mimetype": "text/x-python",
   "name": "python",
   "nbconvert_exporter": "python",
   "pygments_lexer": "ipython3",
   "version": "3.10.12"
  },
  "papermill": {
   "default_parameters": {},
   "duration": 32.26748,
   "end_time": "2025-08-19T18:52:42.194417",
   "environment_variables": {},
   "exception": null,
   "input_path": "universe_analysis.ipynb",
   "output_path": "output/runs/3/notebooks/m_3-30468d4e8fdc9dfd2c408ab4703038d5.ipynb",
   "parameters": {
    "output_dir": "output",
    "run_no": "3",
    "seed": "2023",
    "universe": "{\"cutoff\": [\"quantile_0.1\", \"quantile_0.25\"], \"eval_fairness_grouping\": [\"majority-minority\", \"nationality-all\"], \"exclude_features\": \"nationality-sex\", \"exclude_subgroups\": \"keep-all\", \"model\": \"elasticnet\", \"scale\": \"scale\", \"training_size\": \"1k\", \"training_year\": \"2014\"}",
    "universe_id": "30468d4e8fdc9dfd2c408ab4703038d5"
   },
   "start_time": "2025-08-19T18:52:09.926937",
   "version": "2.6.0"
  }
 },
 "nbformat": 4,
 "nbformat_minor": 5
}