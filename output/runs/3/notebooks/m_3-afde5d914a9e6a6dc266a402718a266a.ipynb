{
 "cells": [
  {
   "cell_type": "markdown",
   "id": "ef23dbb3",
   "metadata": {
    "papermill": {
     "duration": 0.009321,
     "end_time": "2025-08-19T18:51:29.919898",
     "exception": false,
     "start_time": "2025-08-19T18:51:29.910577",
     "status": "completed"
    },
    "tags": []
   },
   "source": [
    "# Setup"
   ]
  },
  {
   "cell_type": "code",
   "execution_count": 1,
   "id": "0bc8e7dc",
   "metadata": {
    "execution": {
     "iopub.execute_input": "2025-08-19T18:51:29.939644Z",
     "iopub.status.busy": "2025-08-19T18:51:29.938438Z",
     "iopub.status.idle": "2025-08-19T18:51:29.958596Z",
     "shell.execute_reply": "2025-08-19T18:51:29.957435Z"
    },
    "papermill": {
     "duration": 0.032793,
     "end_time": "2025-08-19T18:51:29.961186",
     "exception": false,
     "start_time": "2025-08-19T18:51:29.928393",
     "status": "completed"
    },
    "tags": []
   },
   "outputs": [
    {
     "name": "stdout",
     "output_type": "stream",
     "text": [
      "/dss/dsshome1/0C/ra93lal2/cma/CMA_Fairness_v2\n"
     ]
    },
    {
     "name": "stderr",
     "output_type": "stream",
     "text": [
      "/dss/dsshome1/0C/ra93lal2/.local/share/virtualenvs/CMA_Fairness_v2-3j10GkSs/lib/python3.10/site-packages/IPython/core/magics/osm.py:393: UserWarning: This is now an optional IPython functionality, using bookmarks requires you to install the `pickleshare` library.\n",
      "  bkms = self.shell.db.get('bookmarks', {})\n",
      "/dss/dsshome1/0C/ra93lal2/.local/share/virtualenvs/CMA_Fairness_v2-3j10GkSs/lib/python3.10/site-packages/IPython/core/magics/osm.py:417: UserWarning: This is now an optional IPython functionality, setting dhist requires you to install the `pickleshare` library.\n",
      "  self.shell.db['dhist'] = compress_dhist(dhist)[-100:]\n"
     ]
    }
   ],
   "source": [
    "%cd ~/cma/CMA_Fairness_v2"
   ]
  },
  {
   "cell_type": "markdown",
   "id": "9d235661",
   "metadata": {
    "papermill": {
     "duration": 0.009264,
     "end_time": "2025-08-19T18:51:29.984844",
     "exception": false,
     "start_time": "2025-08-19T18:51:29.975580",
     "status": "completed"
    },
    "tags": []
   },
   "source": [
    "The following cell holds the definition of our parameters, these values can be overriden by rendering the with e.g. the following command:\n",
    "\n",
    "papermill -p alpha 0.2 -p ratio 0.3 universe_analysis.ipynb output/test_run.ipynb"
   ]
  },
  {
   "cell_type": "code",
   "execution_count": 2,
   "id": "4a789d8e",
   "metadata": {
    "execution": {
     "iopub.execute_input": "2025-08-19T18:51:30.004651Z",
     "iopub.status.busy": "2025-08-19T18:51:30.003508Z",
     "iopub.status.idle": "2025-08-19T18:51:30.013073Z",
     "shell.execute_reply": "2025-08-19T18:51:30.011380Z"
    },
    "papermill": {
     "duration": 0.021867,
     "end_time": "2025-08-19T18:51:30.015306",
     "exception": false,
     "start_time": "2025-08-19T18:51:29.993439",
     "status": "completed"
    },
    "tags": []
   },
   "outputs": [
    {
     "name": "stdout",
     "output_type": "stream",
     "text": [
      "Current working directory: /dss/dsshome1/0C/ra93lal2/cma/CMA_Fairness_v2\n"
     ]
    }
   ],
   "source": [
    "import os\n",
    "print(\"Current working directory:\", os.getcwd())"
   ]
  },
  {
   "cell_type": "code",
   "execution_count": 3,
   "id": "4132aaed",
   "metadata": {
    "execution": {
     "iopub.execute_input": "2025-08-19T18:51:30.037076Z",
     "iopub.status.busy": "2025-08-19T18:51:30.035992Z",
     "iopub.status.idle": "2025-08-19T18:51:30.046262Z",
     "shell.execute_reply": "2025-08-19T18:51:30.044739Z"
    },
    "papermill": {
     "duration": 0.022359,
     "end_time": "2025-08-19T18:51:30.048023",
     "exception": false,
     "start_time": "2025-08-19T18:51:30.025664",
     "status": "completed"
    },
    "tags": [
     "parameters"
    ]
   },
   "outputs": [],
   "source": [
    "run_no = 0\n",
    "universe_id = \"test\"\n",
    "universe = {\n",
    "    \"training_size\": \"5k\", # \"25k\", \"5k\", \"1k\"\n",
    "    \"training_year\": \"2012_14\", # \"2014\", \"2012_14\", \"2010_14\"\n",
    "    \"scale\": \"scale\", # \"scale\", \"do-not-scale\",\n",
    "    \"model\": \"elasticnet\", # \"logreg\", \"penalized_logreg\", \"rf\", \"gbm\", \"elasticnet\"\n",
    "    \"cutoff\": [\"quantile_0.15\", \"quantile_0.30\"],\n",
    "    \"exclude_features\": \"age\", # \"none\", \"nationality\", \"sex\", \"nationality-sex\", \"age\"\n",
    "    \"exclude_subgroups\": \"drop-non-german\", # \"keep-all\", \"drop-non-german\"\n",
    "    \"eval_fairness_grouping\": [\"majority-minority\", \"nationality-all\"]\n",
    "}\n",
    "\n",
    "output_dir=\"./output\"\n",
    "seed=0"
   ]
  },
  {
   "cell_type": "code",
   "execution_count": 4,
   "id": "8a08a132",
   "metadata": {
    "execution": {
     "iopub.execute_input": "2025-08-19T18:51:30.072654Z",
     "iopub.status.busy": "2025-08-19T18:51:30.070813Z",
     "iopub.status.idle": "2025-08-19T18:51:30.080150Z",
     "shell.execute_reply": "2025-08-19T18:51:30.078751Z"
    },
    "papermill": {
     "duration": 0.021385,
     "end_time": "2025-08-19T18:51:30.082028",
     "exception": false,
     "start_time": "2025-08-19T18:51:30.060643",
     "status": "completed"
    },
    "tags": [
     "injected-parameters"
    ]
   },
   "outputs": [],
   "source": [
    "# Parameters\n",
    "universe_id = \"afde5d914a9e6a6dc266a402718a266a\"\n",
    "run_no = \"3\"\n",
    "universe = \"{\\\"cutoff\\\": [\\\"quantile_0.1\\\", \\\"quantile_0.25\\\"], \\\"eval_fairness_grouping\\\": [\\\"majority-minority\\\", \\\"nationality-all\\\"], \\\"exclude_features\\\": \\\"nationality-sex\\\", \\\"exclude_subgroups\\\": \\\"drop-non-german\\\", \\\"model\\\": \\\"gbm\\\", \\\"scale\\\": \\\"scale\\\", \\\"training_size\\\": \\\"1k\\\", \\\"training_year\\\": \\\"2014\\\"}\"\n",
    "output_dir = \"output\"\n",
    "seed = \"2023\"\n"
   ]
  },
  {
   "cell_type": "code",
   "execution_count": 5,
   "id": "a5d7941f",
   "metadata": {
    "execution": {
     "iopub.execute_input": "2025-08-19T18:51:30.109248Z",
     "iopub.status.busy": "2025-08-19T18:51:30.107465Z",
     "iopub.status.idle": "2025-08-19T18:51:30.116009Z",
     "shell.execute_reply": "2025-08-19T18:51:30.114425Z"
    },
    "papermill": {
     "duration": 0.023185,
     "end_time": "2025-08-19T18:51:30.117674",
     "exception": false,
     "start_time": "2025-08-19T18:51:30.094489",
     "status": "completed"
    },
    "tags": []
   },
   "outputs": [],
   "source": [
    "import json\n",
    "if isinstance(universe, str):\n",
    "    universe = json.loads(universe)"
   ]
  },
  {
   "cell_type": "code",
   "execution_count": 6,
   "id": "7076ccb1",
   "metadata": {
    "execution": {
     "iopub.execute_input": "2025-08-19T18:51:30.142211Z",
     "iopub.status.busy": "2025-08-19T18:51:30.141133Z",
     "iopub.status.idle": "2025-08-19T18:51:30.187522Z",
     "shell.execute_reply": "2025-08-19T18:51:30.186932Z"
    },
    "papermill": {
     "duration": 0.059146,
     "end_time": "2025-08-19T18:51:30.190044",
     "exception": false,
     "start_time": "2025-08-19T18:51:30.130898",
     "status": "completed"
    },
    "tags": []
   },
   "outputs": [],
   "source": [
    "# Auto-reload the custom package\n",
    "%load_ext autoreload\n",
    "%autoreload 1\n",
    "%aimport fairness_multiverse"
   ]
  },
  {
   "cell_type": "code",
   "execution_count": 7,
   "id": "94c8eb93",
   "metadata": {
    "execution": {
     "iopub.execute_input": "2025-08-19T18:51:30.226967Z",
     "iopub.status.busy": "2025-08-19T18:51:30.225929Z",
     "iopub.status.idle": "2025-08-19T18:51:31.650185Z",
     "shell.execute_reply": "2025-08-19T18:51:31.649202Z"
    },
    "papermill": {
     "duration": 1.44045,
     "end_time": "2025-08-19T18:51:31.652968",
     "exception": false,
     "start_time": "2025-08-19T18:51:30.212518",
     "status": "completed"
    },
    "tags": []
   },
   "outputs": [],
   "source": [
    "from fairness_multiverse.universe import UniverseAnalysis\n",
    "\n",
    "universe_analysis = UniverseAnalysis(\n",
    "    run_no = run_no,\n",
    "    universe_id = universe_id,\n",
    "    universe = universe,\n",
    "    output_dir=output_dir,\n",
    ")"
   ]
  },
  {
   "cell_type": "code",
   "execution_count": 8,
   "id": "2a6381cf",
   "metadata": {
    "execution": {
     "iopub.execute_input": "2025-08-19T18:51:31.691081Z",
     "iopub.status.busy": "2025-08-19T18:51:31.689766Z",
     "iopub.status.idle": "2025-08-19T18:51:31.701303Z",
     "shell.execute_reply": "2025-08-19T18:51:31.699960Z"
    },
    "papermill": {
     "duration": 0.027454,
     "end_time": "2025-08-19T18:51:31.703178",
     "exception": false,
     "start_time": "2025-08-19T18:51:31.675724",
     "status": "completed"
    },
    "tags": []
   },
   "outputs": [
    {
     "name": "stdout",
     "output_type": "stream",
     "text": [
      "Using Seed: 2023\n"
     ]
    }
   ],
   "source": [
    "import numpy as np\n",
    "parsed_seed = int(seed)\n",
    "np.random.seed(parsed_seed)\n",
    "print(f\"Using Seed: {parsed_seed}\")"
   ]
  },
  {
   "cell_type": "markdown",
   "id": "b6e958b4",
   "metadata": {
    "papermill": {
     "duration": 0.00915,
     "end_time": "2025-08-19T18:51:31.724979",
     "exception": false,
     "start_time": "2025-08-19T18:51:31.715829",
     "status": "completed"
    },
    "tags": []
   },
   "source": [
    "# Loading Data"
   ]
  },
  {
   "cell_type": "code",
   "execution_count": 9,
   "id": "98701482",
   "metadata": {
    "execution": {
     "iopub.execute_input": "2025-08-19T18:51:31.745788Z",
     "iopub.status.busy": "2025-08-19T18:51:31.744535Z",
     "iopub.status.idle": "2025-08-19T18:51:41.841054Z",
     "shell.execute_reply": "2025-08-19T18:51:41.840105Z"
    },
    "papermill": {
     "duration": 10.108694,
     "end_time": "2025-08-19T18:51:41.842568",
     "exception": false,
     "start_time": "2025-08-19T18:51:31.733874",
     "status": "completed"
    },
    "tags": []
   },
   "outputs": [
    {
     "name": "stdout",
     "output_type": "stream",
     "text": [
      "Loading SIAB data from cache: data/siab_cached.csv.gz\n"
     ]
    },
    {
     "name": "stdout",
     "output_type": "stream",
     "text": [
      "(643690, 164)\n"
     ]
    }
   ],
   "source": [
    "from pathlib import Path\n",
    "import pandas as pd\n",
    "\n",
    "# File paths\n",
    "raw_file = Path(\"data/raw/siab.csv\")\n",
    "cache_file = Path(\"data/siab_cached.csv.gz\")\n",
    "\n",
    "# Ensure cache directory exists\n",
    "cache_file.parent.mkdir(parents=True, exist_ok=True)\n",
    "\n",
    "# Load with simple caching\n",
    "if cache_file.exists():\n",
    "    print(f\"Loading SIAB data from cache: {cache_file}\")\n",
    "    siab = pd.read_csv(cache_file, compression='gzip')\n",
    "else:\n",
    "    print(f\"Cache not found. Reading raw SIAB data: {raw_file}\")\n",
    "    siab = pd.read_csv(raw_file)\n",
    "    siab.to_csv(cache_file, index=False, compression='gzip')\n",
    "    print(f\"Cached SIAB data to: {cache_file}\")\n",
    "\n",
    "print(siab.shape)"
   ]
  },
  {
   "cell_type": "code",
   "execution_count": 10,
   "id": "058d2abb",
   "metadata": {
    "execution": {
     "iopub.execute_input": "2025-08-19T18:51:41.877558Z",
     "iopub.status.busy": "2025-08-19T18:51:41.876293Z",
     "iopub.status.idle": "2025-08-19T18:51:42.017657Z",
     "shell.execute_reply": "2025-08-19T18:51:42.016902Z"
    },
    "papermill": {
     "duration": 0.153828,
     "end_time": "2025-08-19T18:51:42.018791",
     "exception": false,
     "start_time": "2025-08-19T18:51:41.864963",
     "status": "completed"
    },
    "tags": []
   },
   "outputs": [
    {
     "data": {
      "text/html": [
       "<div>\n",
       "<style scoped>\n",
       "    .dataframe tbody tr th:only-of-type {\n",
       "        vertical-align: middle;\n",
       "    }\n",
       "\n",
       "    .dataframe tbody tr th {\n",
       "        vertical-align: top;\n",
       "    }\n",
       "\n",
       "    .dataframe thead th {\n",
       "        text-align: right;\n",
       "    }\n",
       "</style>\n",
       "<table border=\"1\" class=\"dataframe\">\n",
       "  <thead>\n",
       "    <tr style=\"text-align: right;\">\n",
       "      <th></th>\n",
       "      <th>persnr</th>\n",
       "      <th>year</th>\n",
       "      <th>nrEntry</th>\n",
       "      <th>ltue</th>\n",
       "      <th>employed_before</th>\n",
       "      <th>receipt_leh_before</th>\n",
       "      <th>receipt_lhg_before</th>\n",
       "      <th>se_before</th>\n",
       "      <th>ASU_notue_seeking_before</th>\n",
       "      <th>ASU_other_before</th>\n",
       "      <th>...</th>\n",
       "      <th>minijob_tot_dur_byage</th>\n",
       "      <th>ft_tot_dur_byage</th>\n",
       "      <th>befrist_tot_dur_byage</th>\n",
       "      <th>leih_tot_dur_byage</th>\n",
       "      <th>LHG_tot_dur_byage</th>\n",
       "      <th>LEH_tot_dur_byage</th>\n",
       "      <th>almp_tot_dur_byage</th>\n",
       "      <th>almp_aw_tot_dur_byage</th>\n",
       "      <th>se_tot_dur_byage</th>\n",
       "      <th>seeking1_tot_dur_byage</th>\n",
       "    </tr>\n",
       "  </thead>\n",
       "  <tbody>\n",
       "    <tr>\n",
       "      <th>0</th>\n",
       "      <td>7</td>\n",
       "      <td>2015</td>\n",
       "      <td>1</td>\n",
       "      <td>0</td>\n",
       "      <td>1</td>\n",
       "      <td>0</td>\n",
       "      <td>0</td>\n",
       "      <td>0</td>\n",
       "      <td>1</td>\n",
       "      <td>0</td>\n",
       "      <td>...</td>\n",
       "      <td>0.000000</td>\n",
       "      <td>0.000000</td>\n",
       "      <td>15.043478</td>\n",
       "      <td>0.000000</td>\n",
       "      <td>0.000000</td>\n",
       "      <td>0.000000</td>\n",
       "      <td>0.000000</td>\n",
       "      <td>0.000000</td>\n",
       "      <td>0.000000</td>\n",
       "      <td>0.000000</td>\n",
       "    </tr>\n",
       "    <tr>\n",
       "      <th>1</th>\n",
       "      <td>18</td>\n",
       "      <td>2010</td>\n",
       "      <td>1</td>\n",
       "      <td>1</td>\n",
       "      <td>0</td>\n",
       "      <td>0</td>\n",
       "      <td>0</td>\n",
       "      <td>0</td>\n",
       "      <td>0</td>\n",
       "      <td>0</td>\n",
       "      <td>...</td>\n",
       "      <td>0.000000</td>\n",
       "      <td>0.000000</td>\n",
       "      <td>0.000000</td>\n",
       "      <td>0.000000</td>\n",
       "      <td>0.000000</td>\n",
       "      <td>0.000000</td>\n",
       "      <td>0.000000</td>\n",
       "      <td>0.000000</td>\n",
       "      <td>0.000000</td>\n",
       "      <td>0.000000</td>\n",
       "    </tr>\n",
       "    <tr>\n",
       "      <th>2</th>\n",
       "      <td>18</td>\n",
       "      <td>2011</td>\n",
       "      <td>2</td>\n",
       "      <td>0</td>\n",
       "      <td>1</td>\n",
       "      <td>0</td>\n",
       "      <td>1</td>\n",
       "      <td>0</td>\n",
       "      <td>1</td>\n",
       "      <td>0</td>\n",
       "      <td>...</td>\n",
       "      <td>2.714286</td>\n",
       "      <td>2.714286</td>\n",
       "      <td>0.000000</td>\n",
       "      <td>0.000000</td>\n",
       "      <td>10.775510</td>\n",
       "      <td>0.000000</td>\n",
       "      <td>8.367347</td>\n",
       "      <td>0.000000</td>\n",
       "      <td>0.000000</td>\n",
       "      <td>9.836735</td>\n",
       "    </tr>\n",
       "    <tr>\n",
       "      <th>3</th>\n",
       "      <td>18</td>\n",
       "      <td>2012</td>\n",
       "      <td>3</td>\n",
       "      <td>0</td>\n",
       "      <td>1</td>\n",
       "      <td>0</td>\n",
       "      <td>1</td>\n",
       "      <td>0</td>\n",
       "      <td>1</td>\n",
       "      <td>0</td>\n",
       "      <td>...</td>\n",
       "      <td>4.200000</td>\n",
       "      <td>4.200000</td>\n",
       "      <td>0.000000</td>\n",
       "      <td>0.000000</td>\n",
       "      <td>12.100000</td>\n",
       "      <td>0.000000</td>\n",
       "      <td>9.400000</td>\n",
       "      <td>0.000000</td>\n",
       "      <td>0.000000</td>\n",
       "      <td>9.960000</td>\n",
       "    </tr>\n",
       "    <tr>\n",
       "      <th>4</th>\n",
       "      <td>18</td>\n",
       "      <td>2012</td>\n",
       "      <td>4</td>\n",
       "      <td>0</td>\n",
       "      <td>1</td>\n",
       "      <td>0</td>\n",
       "      <td>1</td>\n",
       "      <td>0</td>\n",
       "      <td>1</td>\n",
       "      <td>0</td>\n",
       "      <td>...</td>\n",
       "      <td>5.460000</td>\n",
       "      <td>5.460000</td>\n",
       "      <td>0.000000</td>\n",
       "      <td>0.000000</td>\n",
       "      <td>13.360000</td>\n",
       "      <td>0.000000</td>\n",
       "      <td>10.320000</td>\n",
       "      <td>0.000000</td>\n",
       "      <td>0.000000</td>\n",
       "      <td>10.280000</td>\n",
       "    </tr>\n",
       "    <tr>\n",
       "      <th>...</th>\n",
       "      <td>...</td>\n",
       "      <td>...</td>\n",
       "      <td>...</td>\n",
       "      <td>...</td>\n",
       "      <td>...</td>\n",
       "      <td>...</td>\n",
       "      <td>...</td>\n",
       "      <td>...</td>\n",
       "      <td>...</td>\n",
       "      <td>...</td>\n",
       "      <td>...</td>\n",
       "      <td>...</td>\n",
       "      <td>...</td>\n",
       "      <td>...</td>\n",
       "      <td>...</td>\n",
       "      <td>...</td>\n",
       "      <td>...</td>\n",
       "      <td>...</td>\n",
       "      <td>...</td>\n",
       "      <td>...</td>\n",
       "      <td>...</td>\n",
       "    </tr>\n",
       "    <tr>\n",
       "      <th>643685</th>\n",
       "      <td>1827860</td>\n",
       "      <td>2013</td>\n",
       "      <td>1</td>\n",
       "      <td>0</td>\n",
       "      <td>0</td>\n",
       "      <td>0</td>\n",
       "      <td>1</td>\n",
       "      <td>0</td>\n",
       "      <td>0</td>\n",
       "      <td>1</td>\n",
       "      <td>...</td>\n",
       "      <td>0.000000</td>\n",
       "      <td>0.000000</td>\n",
       "      <td>0.000000</td>\n",
       "      <td>0.000000</td>\n",
       "      <td>0.612903</td>\n",
       "      <td>0.000000</td>\n",
       "      <td>0.000000</td>\n",
       "      <td>0.000000</td>\n",
       "      <td>0.000000</td>\n",
       "      <td>0.000000</td>\n",
       "    </tr>\n",
       "    <tr>\n",
       "      <th>643686</th>\n",
       "      <td>1827860</td>\n",
       "      <td>2015</td>\n",
       "      <td>2</td>\n",
       "      <td>1</td>\n",
       "      <td>0</td>\n",
       "      <td>0</td>\n",
       "      <td>1</td>\n",
       "      <td>0</td>\n",
       "      <td>1</td>\n",
       "      <td>0</td>\n",
       "      <td>...</td>\n",
       "      <td>0.000000</td>\n",
       "      <td>0.000000</td>\n",
       "      <td>0.212121</td>\n",
       "      <td>0.212121</td>\n",
       "      <td>17.363636</td>\n",
       "      <td>0.000000</td>\n",
       "      <td>8.909091</td>\n",
       "      <td>0.000000</td>\n",
       "      <td>0.000000</td>\n",
       "      <td>7.121212</td>\n",
       "    </tr>\n",
       "    <tr>\n",
       "      <th>643687</th>\n",
       "      <td>1827860</td>\n",
       "      <td>2016</td>\n",
       "      <td>3</td>\n",
       "      <td>1</td>\n",
       "      <td>0</td>\n",
       "      <td>0</td>\n",
       "      <td>1</td>\n",
       "      <td>1</td>\n",
       "      <td>0</td>\n",
       "      <td>1</td>\n",
       "      <td>...</td>\n",
       "      <td>0.000000</td>\n",
       "      <td>0.000000</td>\n",
       "      <td>0.294118</td>\n",
       "      <td>0.205882</td>\n",
       "      <td>34.705882</td>\n",
       "      <td>0.000000</td>\n",
       "      <td>10.352941</td>\n",
       "      <td>1.705882</td>\n",
       "      <td>1.705882</td>\n",
       "      <td>23.911765</td>\n",
       "    </tr>\n",
       "    <tr>\n",
       "      <th>643688</th>\n",
       "      <td>1827869</td>\n",
       "      <td>2013</td>\n",
       "      <td>1</td>\n",
       "      <td>1</td>\n",
       "      <td>1</td>\n",
       "      <td>0</td>\n",
       "      <td>0</td>\n",
       "      <td>0</td>\n",
       "      <td>1</td>\n",
       "      <td>0</td>\n",
       "      <td>...</td>\n",
       "      <td>0.000000</td>\n",
       "      <td>0.000000</td>\n",
       "      <td>0.000000</td>\n",
       "      <td>0.000000</td>\n",
       "      <td>0.000000</td>\n",
       "      <td>0.525424</td>\n",
       "      <td>0.000000</td>\n",
       "      <td>0.000000</td>\n",
       "      <td>0.000000</td>\n",
       "      <td>0.000000</td>\n",
       "    </tr>\n",
       "    <tr>\n",
       "      <th>643689</th>\n",
       "      <td>1827869</td>\n",
       "      <td>2014</td>\n",
       "      <td>2</td>\n",
       "      <td>0</td>\n",
       "      <td>0</td>\n",
       "      <td>1</td>\n",
       "      <td>0</td>\n",
       "      <td>0</td>\n",
       "      <td>1</td>\n",
       "      <td>0</td>\n",
       "      <td>...</td>\n",
       "      <td>0.000000</td>\n",
       "      <td>0.666667</td>\n",
       "      <td>0.666667</td>\n",
       "      <td>0.000000</td>\n",
       "      <td>0.000000</td>\n",
       "      <td>8.950000</td>\n",
       "      <td>1.033333</td>\n",
       "      <td>0.083333</td>\n",
       "      <td>0.083333</td>\n",
       "      <td>8.133333</td>\n",
       "    </tr>\n",
       "  </tbody>\n",
       "</table>\n",
       "<p>643690 rows × 164 columns</p>\n",
       "</div>"
      ],
      "text/plain": [
       "         persnr  year  nrEntry  ltue  employed_before  receipt_leh_before  \\\n",
       "0             7  2015        1     0                1                   0   \n",
       "1            18  2010        1     1                0                   0   \n",
       "2            18  2011        2     0                1                   0   \n",
       "3            18  2012        3     0                1                   0   \n",
       "4            18  2012        4     0                1                   0   \n",
       "...         ...   ...      ...   ...              ...                 ...   \n",
       "643685  1827860  2013        1     0                0                   0   \n",
       "643686  1827860  2015        2     1                0                   0   \n",
       "643687  1827860  2016        3     1                0                   0   \n",
       "643688  1827869  2013        1     1                1                   0   \n",
       "643689  1827869  2014        2     0                0                   1   \n",
       "\n",
       "        receipt_lhg_before  se_before  ASU_notue_seeking_before  \\\n",
       "0                        0          0                         1   \n",
       "1                        0          0                         0   \n",
       "2                        1          0                         1   \n",
       "3                        1          0                         1   \n",
       "4                        1          0                         1   \n",
       "...                    ...        ...                       ...   \n",
       "643685                   1          0                         0   \n",
       "643686                   1          0                         1   \n",
       "643687                   1          1                         0   \n",
       "643688                   0          0                         1   \n",
       "643689                   0          0                         1   \n",
       "\n",
       "        ASU_other_before  ...  minijob_tot_dur_byage  ft_tot_dur_byage  \\\n",
       "0                      0  ...               0.000000          0.000000   \n",
       "1                      0  ...               0.000000          0.000000   \n",
       "2                      0  ...               2.714286          2.714286   \n",
       "3                      0  ...               4.200000          4.200000   \n",
       "4                      0  ...               5.460000          5.460000   \n",
       "...                  ...  ...                    ...               ...   \n",
       "643685                 1  ...               0.000000          0.000000   \n",
       "643686                 0  ...               0.000000          0.000000   \n",
       "643687                 1  ...               0.000000          0.000000   \n",
       "643688                 0  ...               0.000000          0.000000   \n",
       "643689                 0  ...               0.000000          0.666667   \n",
       "\n",
       "        befrist_tot_dur_byage  leih_tot_dur_byage  LHG_tot_dur_byage  \\\n",
       "0                   15.043478            0.000000           0.000000   \n",
       "1                    0.000000            0.000000           0.000000   \n",
       "2                    0.000000            0.000000          10.775510   \n",
       "3                    0.000000            0.000000          12.100000   \n",
       "4                    0.000000            0.000000          13.360000   \n",
       "...                       ...                 ...                ...   \n",
       "643685               0.000000            0.000000           0.612903   \n",
       "643686               0.212121            0.212121          17.363636   \n",
       "643687               0.294118            0.205882          34.705882   \n",
       "643688               0.000000            0.000000           0.000000   \n",
       "643689               0.666667            0.000000           0.000000   \n",
       "\n",
       "        LEH_tot_dur_byage  almp_tot_dur_byage  almp_aw_tot_dur_byage  \\\n",
       "0                0.000000            0.000000               0.000000   \n",
       "1                0.000000            0.000000               0.000000   \n",
       "2                0.000000            8.367347               0.000000   \n",
       "3                0.000000            9.400000               0.000000   \n",
       "4                0.000000           10.320000               0.000000   \n",
       "...                   ...                 ...                    ...   \n",
       "643685           0.000000            0.000000               0.000000   \n",
       "643686           0.000000            8.909091               0.000000   \n",
       "643687           0.000000           10.352941               1.705882   \n",
       "643688           0.525424            0.000000               0.000000   \n",
       "643689           8.950000            1.033333               0.083333   \n",
       "\n",
       "        se_tot_dur_byage  seeking1_tot_dur_byage  \n",
       "0               0.000000                0.000000  \n",
       "1               0.000000                0.000000  \n",
       "2               0.000000                9.836735  \n",
       "3               0.000000                9.960000  \n",
       "4               0.000000               10.280000  \n",
       "...                  ...                     ...  \n",
       "643685          0.000000                0.000000  \n",
       "643686          0.000000                7.121212  \n",
       "643687          1.705882               23.911765  \n",
       "643688          0.000000                0.000000  \n",
       "643689          0.083333                8.133333  \n",
       "\n",
       "[643690 rows x 164 columns]"
      ]
     },
     "execution_count": 10,
     "metadata": {},
     "output_type": "execute_result"
    }
   ],
   "source": [
    "siab"
   ]
  },
  {
   "cell_type": "markdown",
   "id": "1f87e805",
   "metadata": {
    "papermill": {
     "duration": 0.009399,
     "end_time": "2025-08-19T18:51:42.038077",
     "exception": false,
     "start_time": "2025-08-19T18:51:42.028678",
     "status": "completed"
    },
    "tags": []
   },
   "source": [
    "# Splitting Data and Setting Training Data Size"
   ]
  },
  {
   "cell_type": "code",
   "execution_count": 11,
   "id": "910ae358",
   "metadata": {
    "execution": {
     "iopub.execute_input": "2025-08-19T18:51:42.059676Z",
     "iopub.status.busy": "2025-08-19T18:51:42.058689Z",
     "iopub.status.idle": "2025-08-19T18:51:42.291419Z",
     "shell.execute_reply": "2025-08-19T18:51:42.290752Z"
    },
    "papermill": {
     "duration": 0.246416,
     "end_time": "2025-08-19T18:51:42.294117",
     "exception": false,
     "start_time": "2025-08-19T18:51:42.047701",
     "status": "completed"
    },
    "tags": []
   },
   "outputs": [],
   "source": [
    "from fairness_multiverse.universe import sample_by_year_size\n",
    "\n",
    "siab_train = sample_by_year_size(siab,\n",
    "                               training_year=universe[\"training_year\"],\n",
    "                               training_size=universe[\"training_size\"])"
   ]
  },
  {
   "cell_type": "code",
   "execution_count": 12,
   "id": "919c8ff5",
   "metadata": {
    "execution": {
     "iopub.execute_input": "2025-08-19T18:51:42.344222Z",
     "iopub.status.busy": "2025-08-19T18:51:42.343226Z",
     "iopub.status.idle": "2025-08-19T18:51:42.355313Z",
     "shell.execute_reply": "2025-08-19T18:51:42.353504Z"
    },
    "papermill": {
     "duration": 0.039662,
     "end_time": "2025-08-19T18:51:42.357111",
     "exception": false,
     "start_time": "2025-08-19T18:51:42.317449",
     "status": "completed"
    },
    "tags": []
   },
   "outputs": [
    {
     "data": {
      "text/plain": [
       "(1000, 164)"
      ]
     },
     "execution_count": 12,
     "metadata": {},
     "output_type": "execute_result"
    }
   ],
   "source": [
    "siab_train.shape"
   ]
  },
  {
   "cell_type": "code",
   "execution_count": 13,
   "id": "feb13bf4",
   "metadata": {
    "execution": {
     "iopub.execute_input": "2025-08-19T18:51:42.386480Z",
     "iopub.status.busy": "2025-08-19T18:51:42.385504Z",
     "iopub.status.idle": "2025-08-19T18:51:42.400578Z",
     "shell.execute_reply": "2025-08-19T18:51:42.399454Z"
    },
    "papermill": {
     "duration": 0.029645,
     "end_time": "2025-08-19T18:51:42.402300",
     "exception": false,
     "start_time": "2025-08-19T18:51:42.372655",
     "status": "completed"
    },
    "tags": []
   },
   "outputs": [
    {
     "data": {
      "text/plain": [
       "year\n",
       "2014    1000\n",
       "dtype: int64"
      ]
     },
     "metadata": {},
     "output_type": "display_data"
    }
   ],
   "source": [
    "display(siab_train.groupby(\"year\").size())"
   ]
  },
  {
   "cell_type": "code",
   "execution_count": 14,
   "id": "0997782f",
   "metadata": {
    "execution": {
     "iopub.execute_input": "2025-08-19T18:51:42.426920Z",
     "iopub.status.busy": "2025-08-19T18:51:42.425980Z",
     "iopub.status.idle": "2025-08-19T18:51:42.679656Z",
     "shell.execute_reply": "2025-08-19T18:51:42.679003Z"
    },
    "papermill": {
     "duration": 0.266439,
     "end_time": "2025-08-19T18:51:42.681039",
     "exception": false,
     "start_time": "2025-08-19T18:51:42.414600",
     "status": "completed"
    },
    "tags": []
   },
   "outputs": [],
   "source": [
    "#siab_train = siab_s[siab_s.year < 2015]\n",
    "siab_calib = siab[siab.year == 2015]\n",
    "siab_test = siab[siab.year == 2016]"
   ]
  },
  {
   "cell_type": "code",
   "execution_count": 15,
   "id": "2c1e4012",
   "metadata": {
    "execution": {
     "iopub.execute_input": "2025-08-19T18:51:42.705335Z",
     "iopub.status.busy": "2025-08-19T18:51:42.704625Z",
     "iopub.status.idle": "2025-08-19T18:51:42.710005Z",
     "shell.execute_reply": "2025-08-19T18:51:42.708991Z"
    },
    "papermill": {
     "duration": 0.017882,
     "end_time": "2025-08-19T18:51:42.711424",
     "exception": false,
     "start_time": "2025-08-19T18:51:42.693542",
     "status": "completed"
    },
    "tags": []
   },
   "outputs": [],
   "source": [
    "#siab_calib.shape"
   ]
  },
  {
   "cell_type": "code",
   "execution_count": 16,
   "id": "f66b54ca",
   "metadata": {
    "execution": {
     "iopub.execute_input": "2025-08-19T18:51:42.741720Z",
     "iopub.status.busy": "2025-08-19T18:51:42.740058Z",
     "iopub.status.idle": "2025-08-19T18:51:42.748315Z",
     "shell.execute_reply": "2025-08-19T18:51:42.746714Z"
    },
    "papermill": {
     "duration": 0.026881,
     "end_time": "2025-08-19T18:51:42.755251",
     "exception": false,
     "start_time": "2025-08-19T18:51:42.728370",
     "status": "completed"
    },
    "tags": []
   },
   "outputs": [],
   "source": [
    "#siab_test.shape"
   ]
  },
  {
   "cell_type": "code",
   "execution_count": 17,
   "id": "27e4384d",
   "metadata": {
    "execution": {
     "iopub.execute_input": "2025-08-19T18:51:42.781517Z",
     "iopub.status.busy": "2025-08-19T18:51:42.780531Z",
     "iopub.status.idle": "2025-08-19T18:51:42.791807Z",
     "shell.execute_reply": "2025-08-19T18:51:42.790062Z"
    },
    "papermill": {
     "duration": 0.026959,
     "end_time": "2025-08-19T18:51:42.795831",
     "exception": false,
     "start_time": "2025-08-19T18:51:42.768872",
     "status": "completed"
    },
    "tags": []
   },
   "outputs": [],
   "source": [
    "X_train = siab_train.iloc[:,4:164]\n",
    "y_train = siab_train.iloc[:, [3]]"
   ]
  },
  {
   "cell_type": "code",
   "execution_count": 18,
   "id": "08ee8389",
   "metadata": {
    "execution": {
     "iopub.execute_input": "2025-08-19T18:51:42.845798Z",
     "iopub.status.busy": "2025-08-19T18:51:42.843863Z",
     "iopub.status.idle": "2025-08-19T18:51:42.947144Z",
     "shell.execute_reply": "2025-08-19T18:51:42.945967Z"
    },
    "papermill": {
     "duration": 0.119905,
     "end_time": "2025-08-19T18:51:42.949018",
     "exception": false,
     "start_time": "2025-08-19T18:51:42.829113",
     "status": "completed"
    },
    "tags": []
   },
   "outputs": [],
   "source": [
    "X_calib = siab_calib.iloc[:,4:164]\n",
    "y_calib = siab_calib.iloc[:, [3]]"
   ]
  },
  {
   "cell_type": "code",
   "execution_count": 19,
   "id": "b7ff42e0",
   "metadata": {
    "execution": {
     "iopub.execute_input": "2025-08-19T18:51:42.971971Z",
     "iopub.status.busy": "2025-08-19T18:51:42.971659Z",
     "iopub.status.idle": "2025-08-19T18:51:43.032552Z",
     "shell.execute_reply": "2025-08-19T18:51:43.031786Z"
    },
    "papermill": {
     "duration": 0.075107,
     "end_time": "2025-08-19T18:51:43.035206",
     "exception": false,
     "start_time": "2025-08-19T18:51:42.960099",
     "status": "completed"
    },
    "tags": []
   },
   "outputs": [],
   "source": [
    "X_test = siab_test.iloc[:,4:164]\n",
    "y_true = siab_test.iloc[:, [3]]"
   ]
  },
  {
   "cell_type": "code",
   "execution_count": 20,
   "id": "0275101e",
   "metadata": {
    "execution": {
     "iopub.execute_input": "2025-08-19T18:51:43.079275Z",
     "iopub.status.busy": "2025-08-19T18:51:43.078562Z",
     "iopub.status.idle": "2025-08-19T18:51:43.192837Z",
     "shell.execute_reply": "2025-08-19T18:51:43.192049Z"
    },
    "papermill": {
     "duration": 0.133331,
     "end_time": "2025-08-19T18:51:43.195531",
     "exception": false,
     "start_time": "2025-08-19T18:51:43.062200",
     "status": "completed"
    },
    "tags": []
   },
   "outputs": [],
   "source": [
    "# Auxiliary data needed downstream in the pipeline\n",
    "\n",
    "org_train = X_train.copy()\n",
    "org_test = X_test.copy()\n",
    "org_calib = X_calib.copy()"
   ]
  },
  {
   "cell_type": "markdown",
   "id": "b461e618",
   "metadata": {
    "papermill": {
     "duration": 0.029799,
     "end_time": "2025-08-19T18:51:43.249861",
     "exception": false,
     "start_time": "2025-08-19T18:51:43.220062",
     "status": "completed"
    },
    "tags": []
   },
   "source": [
    "# Preprocessing Data"
   ]
  },
  {
   "cell_type": "code",
   "execution_count": 21,
   "id": "78e74c4b",
   "metadata": {
    "execution": {
     "iopub.execute_input": "2025-08-19T18:51:43.297293Z",
     "iopub.status.busy": "2025-08-19T18:51:43.296577Z",
     "iopub.status.idle": "2025-08-19T18:51:43.305917Z",
     "shell.execute_reply": "2025-08-19T18:51:43.304280Z"
    },
    "papermill": {
     "duration": 0.038594,
     "end_time": "2025-08-19T18:51:43.309127",
     "exception": false,
     "start_time": "2025-08-19T18:51:43.270533",
     "status": "completed"
    },
    "tags": []
   },
   "outputs": [],
   "source": [
    "# EXCLUDE PROTECTED FEATURES\n",
    "# --------------------------\n",
    "\n",
    "excluded_features = universe[\"exclude_features\"].split(\"-\")\n",
    "excluded_features_dictionary = {\n",
    "    \"nationality\": [\"maxdeutsch1\", \"maxdeutsch.Missing.\"],\n",
    "    \"sex\": [\"frau1\"],\n",
    "    \"age\": [\"age\"],\n",
    "}"
   ]
  },
  {
   "cell_type": "code",
   "execution_count": 22,
   "id": "f8e63555",
   "metadata": {
    "execution": {
     "iopub.execute_input": "2025-08-19T18:51:43.338972Z",
     "iopub.status.busy": "2025-08-19T18:51:43.338659Z",
     "iopub.status.idle": "2025-08-19T18:51:43.347863Z",
     "shell.execute_reply": "2025-08-19T18:51:43.342901Z"
    },
    "papermill": {
     "duration": 0.024302,
     "end_time": "2025-08-19T18:51:43.351475",
     "exception": false,
     "start_time": "2025-08-19T18:51:43.327173",
     "status": "completed"
    },
    "tags": []
   },
   "outputs": [],
   "source": [
    "excluded_features_columns = [\n",
    "    excluded_features_dictionary[f] for f in excluded_features if len(f) > 0 and f != \"none\"\n",
    "]"
   ]
  },
  {
   "cell_type": "code",
   "execution_count": 23,
   "id": "da781f7c",
   "metadata": {
    "execution": {
     "iopub.execute_input": "2025-08-19T18:51:43.377900Z",
     "iopub.status.busy": "2025-08-19T18:51:43.377609Z",
     "iopub.status.idle": "2025-08-19T18:51:43.381374Z",
     "shell.execute_reply": "2025-08-19T18:51:43.380776Z"
    },
    "papermill": {
     "duration": 0.018116,
     "end_time": "2025-08-19T18:51:43.383766",
     "exception": false,
     "start_time": "2025-08-19T18:51:43.365650",
     "status": "completed"
    },
    "tags": []
   },
   "outputs": [],
   "source": [
    "from fairness_multiverse.universe import flatten_once\n",
    "\n",
    "excluded_features_columns = flatten_once(excluded_features_columns)"
   ]
  },
  {
   "cell_type": "code",
   "execution_count": 24,
   "id": "37fef0f0",
   "metadata": {
    "execution": {
     "iopub.execute_input": "2025-08-19T18:51:43.406258Z",
     "iopub.status.busy": "2025-08-19T18:51:43.405957Z",
     "iopub.status.idle": "2025-08-19T18:51:43.413682Z",
     "shell.execute_reply": "2025-08-19T18:51:43.412802Z"
    },
    "papermill": {
     "duration": 0.022567,
     "end_time": "2025-08-19T18:51:43.417315",
     "exception": false,
     "start_time": "2025-08-19T18:51:43.394748",
     "status": "completed"
    },
    "tags": []
   },
   "outputs": [
    {
     "name": "stdout",
     "output_type": "stream",
     "text": [
      "Dropping features: ['maxdeutsch1', 'maxdeutsch.Missing.', 'frau1']\n"
     ]
    }
   ],
   "source": [
    "if len(excluded_features_columns) > 0:\n",
    "    print(f\"Dropping features: {excluded_features_columns}\")\n",
    "    X_train.drop(excluded_features_columns, axis=1, inplace=True)"
   ]
  },
  {
   "cell_type": "code",
   "execution_count": 25,
   "id": "d029e3e9",
   "metadata": {
    "execution": {
     "iopub.execute_input": "2025-08-19T18:51:43.441833Z",
     "iopub.status.busy": "2025-08-19T18:51:43.441540Z",
     "iopub.status.idle": "2025-08-19T18:51:43.502164Z",
     "shell.execute_reply": "2025-08-19T18:51:43.501458Z"
    },
    "papermill": {
     "duration": 0.07336,
     "end_time": "2025-08-19T18:51:43.503625",
     "exception": false,
     "start_time": "2025-08-19T18:51:43.430265",
     "status": "completed"
    },
    "tags": []
   },
   "outputs": [
    {
     "name": "stdout",
     "output_type": "stream",
     "text": [
      "Dropping features: ['maxdeutsch1', 'maxdeutsch.Missing.', 'frau1']\n"
     ]
    }
   ],
   "source": [
    "if len(excluded_features_columns) > 0:\n",
    "    print(f\"Dropping features: {excluded_features_columns}\")\n",
    "    X_test.drop(excluded_features_columns, axis=1, inplace=True)"
   ]
  },
  {
   "cell_type": "code",
   "execution_count": 26,
   "id": "01d571f0",
   "metadata": {
    "execution": {
     "iopub.execute_input": "2025-08-19T18:51:43.529775Z",
     "iopub.status.busy": "2025-08-19T18:51:43.528458Z",
     "iopub.status.idle": "2025-08-19T18:51:43.577415Z",
     "shell.execute_reply": "2025-08-19T18:51:43.576780Z"
    },
    "papermill": {
     "duration": 0.062495,
     "end_time": "2025-08-19T18:51:43.578593",
     "exception": false,
     "start_time": "2025-08-19T18:51:43.516098",
     "status": "completed"
    },
    "tags": []
   },
   "outputs": [
    {
     "name": "stdout",
     "output_type": "stream",
     "text": [
      "Dropping features: ['maxdeutsch1', 'maxdeutsch.Missing.', 'frau1']\n"
     ]
    }
   ],
   "source": [
    "if len(excluded_features_columns) > 0:\n",
    "    print(f\"Dropping features: {excluded_features_columns}\")\n",
    "    X_calib.drop(excluded_features_columns, axis=1, inplace=True)"
   ]
  },
  {
   "cell_type": "code",
   "execution_count": 27,
   "id": "3037356e",
   "metadata": {
    "execution": {
     "iopub.execute_input": "2025-08-19T18:51:43.601867Z",
     "iopub.status.busy": "2025-08-19T18:51:43.601052Z",
     "iopub.status.idle": "2025-08-19T18:51:43.606883Z",
     "shell.execute_reply": "2025-08-19T18:51:43.605937Z"
    },
    "papermill": {
     "duration": 0.018746,
     "end_time": "2025-08-19T18:51:43.608063",
     "exception": false,
     "start_time": "2025-08-19T18:51:43.589317",
     "status": "completed"
    },
    "tags": []
   },
   "outputs": [],
   "source": [
    "# EXCLUDE CERTAIN SUBGROUPS\n",
    "# -------------------------\n",
    "\n",
    "mode = universe.get(\"exclude_subgroups\", \"keep-all\") # Defaults to \"keep-all\" if the key is missing."
   ]
  },
  {
   "cell_type": "code",
   "execution_count": 28,
   "id": "9d1e63fd",
   "metadata": {
    "execution": {
     "iopub.execute_input": "2025-08-19T18:51:43.635923Z",
     "iopub.status.busy": "2025-08-19T18:51:43.634576Z",
     "iopub.status.idle": "2025-08-19T18:51:43.646554Z",
     "shell.execute_reply": "2025-08-19T18:51:43.644987Z"
    },
    "papermill": {
     "duration": 0.026752,
     "end_time": "2025-08-19T18:51:43.648299",
     "exception": false,
     "start_time": "2025-08-19T18:51:43.621547",
     "status": "completed"
    },
    "tags": []
   },
   "outputs": [],
   "source": [
    "if mode == \"keep-all\":\n",
    "    keep_mask = pd.Series(True, index=org_train.index)\n",
    "\n",
    "elif mode == \"drop-non-german\":\n",
    "    keep_mask = (org_train[\"maxdeutsch1\"] == 1) & (org_train[\"maxdeutsch.Missing.\"] == 0)\n",
    "\n",
    "else:\n",
    "    raise ValueError(f\"Unsupported mode for exclude_subgroups: {mode}\")"
   ]
  },
  {
   "cell_type": "code",
   "execution_count": 29,
   "id": "d3b65474",
   "metadata": {
    "execution": {
     "iopub.execute_input": "2025-08-19T18:51:43.679558Z",
     "iopub.status.busy": "2025-08-19T18:51:43.678264Z",
     "iopub.status.idle": "2025-08-19T18:51:43.690476Z",
     "shell.execute_reply": "2025-08-19T18:51:43.688935Z"
    },
    "papermill": {
     "duration": 0.027399,
     "end_time": "2025-08-19T18:51:43.692172",
     "exception": false,
     "start_time": "2025-08-19T18:51:43.664773",
     "status": "completed"
    },
    "tags": []
   },
   "outputs": [
    {
     "name": "stdout",
     "output_type": "stream",
     "text": [
      "Dropping 147 rows (14.70%) where mode='drop-non-german'\n"
     ]
    }
   ],
   "source": [
    "n_drop = (~keep_mask).sum() # Calculates how many rows are set to be dropped\n",
    "if n_drop > 0:\n",
    "    pct = n_drop / len(keep_mask) * 100\n",
    "    print(f\"Dropping {n_drop} rows ({pct:.2f}%) where mode='{mode}'\")"
   ]
  },
  {
   "cell_type": "code",
   "execution_count": 30,
   "id": "f44389b3",
   "metadata": {
    "execution": {
     "iopub.execute_input": "2025-08-19T18:51:43.719362Z",
     "iopub.status.busy": "2025-08-19T18:51:43.718056Z",
     "iopub.status.idle": "2025-08-19T18:51:43.727946Z",
     "shell.execute_reply": "2025-08-19T18:51:43.726360Z"
    },
    "papermill": {
     "duration": 0.024251,
     "end_time": "2025-08-19T18:51:43.729603",
     "exception": false,
     "start_time": "2025-08-19T18:51:43.705352",
     "status": "completed"
    },
    "tags": []
   },
   "outputs": [],
   "source": [
    "X_train = X_train[keep_mask]"
   ]
  },
  {
   "cell_type": "code",
   "execution_count": 31,
   "id": "ceca8c2a",
   "metadata": {
    "execution": {
     "iopub.execute_input": "2025-08-19T18:51:43.757311Z",
     "iopub.status.busy": "2025-08-19T18:51:43.755982Z",
     "iopub.status.idle": "2025-08-19T18:51:43.771461Z",
     "shell.execute_reply": "2025-08-19T18:51:43.769838Z"
    },
    "papermill": {
     "duration": 0.030377,
     "end_time": "2025-08-19T18:51:43.773396",
     "exception": false,
     "start_time": "2025-08-19T18:51:43.743019",
     "status": "completed"
    },
    "tags": []
   },
   "outputs": [],
   "source": [
    "y_train = y_train[keep_mask]"
   ]
  },
  {
   "cell_type": "markdown",
   "id": "04d31e2f",
   "metadata": {
    "papermill": {
     "duration": 0.011154,
     "end_time": "2025-08-19T18:51:43.801519",
     "exception": false,
     "start_time": "2025-08-19T18:51:43.790365",
     "status": "completed"
    },
    "tags": []
   },
   "source": [
    "# Model Training"
   ]
  },
  {
   "cell_type": "code",
   "execution_count": 32,
   "id": "db991733",
   "metadata": {
    "execution": {
     "iopub.execute_input": "2025-08-19T18:51:43.825988Z",
     "iopub.status.busy": "2025-08-19T18:51:43.824674Z",
     "iopub.status.idle": "2025-08-19T18:51:43.925408Z",
     "shell.execute_reply": "2025-08-19T18:51:43.924668Z"
    },
    "papermill": {
     "duration": 0.116026,
     "end_time": "2025-08-19T18:51:43.927991",
     "exception": false,
     "start_time": "2025-08-19T18:51:43.811965",
     "status": "completed"
    },
    "tags": []
   },
   "outputs": [],
   "source": [
    "from sklearn.linear_model import LogisticRegression\n",
    "from sklearn.ensemble import GradientBoostingClassifier, RandomForestClassifier\n",
    "\n",
    "if (universe[\"model\"] == \"logreg\"):\n",
    "    model = LogisticRegression() #penalty=\"none\", solver=\"newton-cg\", max_iter=1)\n",
    "elif (universe[\"model\"] == \"penalized_logreg\"):\n",
    "    model = LogisticRegression(penalty=\"l2\", C=0.1) #, solver=\"newton-cg\", max_iter=1)\n",
    "elif (universe[\"model\"] == \"rf\"):\n",
    "    model = RandomForestClassifier() # n_estimators=100, n_jobs=-1\n",
    "elif (universe[\"model\"] == \"gbm\"):\n",
    "    model = GradientBoostingClassifier()\n",
    "elif (universe[\"model\"] == \"elasticnet\"):\n",
    "    model = LogisticRegression(penalty = 'elasticnet', solver = 'saga', l1_ratio = 0.5) # max_iter=5000\n",
    "else:\n",
    "    raise \"Unsupported universe.model\""
   ]
  },
  {
   "cell_type": "code",
   "execution_count": 33,
   "id": "a4b5cd25",
   "metadata": {
    "execution": {
     "iopub.execute_input": "2025-08-19T18:51:43.969431Z",
     "iopub.status.busy": "2025-08-19T18:51:43.968038Z",
     "iopub.status.idle": "2025-08-19T18:51:43.978007Z",
     "shell.execute_reply": "2025-08-19T18:51:43.976581Z"
    },
    "papermill": {
     "duration": 0.026261,
     "end_time": "2025-08-19T18:51:43.979621",
     "exception": false,
     "start_time": "2025-08-19T18:51:43.953360",
     "status": "completed"
    },
    "tags": []
   },
   "outputs": [],
   "source": [
    "from sklearn.pipeline import Pipeline\n",
    "from sklearn.preprocessing import StandardScaler\n",
    "\n",
    "model = Pipeline([\n",
    "    #(\"continuous_processor\", continuous_processor),\n",
    "    #(\"categorical_preprocessor\", categorical_preprocessor),\n",
    "    (\"scale\", StandardScaler() if universe[\"scale\"] == \"scale\" else None), \n",
    "    (\"model\", model),\n",
    "])"
   ]
  },
  {
   "cell_type": "code",
   "execution_count": 34,
   "id": "283a904d",
   "metadata": {
    "execution": {
     "iopub.execute_input": "2025-08-19T18:51:44.011130Z",
     "iopub.status.busy": "2025-08-19T18:51:44.009831Z",
     "iopub.status.idle": "2025-08-19T18:51:44.817244Z",
     "shell.execute_reply": "2025-08-19T18:51:44.816261Z"
    },
    "papermill": {
     "duration": 0.822448,
     "end_time": "2025-08-19T18:51:44.818410",
     "exception": false,
     "start_time": "2025-08-19T18:51:43.995962",
     "status": "completed"
    },
    "tags": []
   },
   "outputs": [
    {
     "data": {
      "text/html": [
       "<style>#sk-container-id-1 {color: black;background-color: white;}#sk-container-id-1 pre{padding: 0;}#sk-container-id-1 div.sk-toggleable {background-color: white;}#sk-container-id-1 label.sk-toggleable__label {cursor: pointer;display: block;width: 100%;margin-bottom: 0;padding: 0.3em;box-sizing: border-box;text-align: center;}#sk-container-id-1 label.sk-toggleable__label-arrow:before {content: \"▸\";float: left;margin-right: 0.25em;color: #696969;}#sk-container-id-1 label.sk-toggleable__label-arrow:hover:before {color: black;}#sk-container-id-1 div.sk-estimator:hover label.sk-toggleable__label-arrow:before {color: black;}#sk-container-id-1 div.sk-toggleable__content {max-height: 0;max-width: 0;overflow: hidden;text-align: left;background-color: #f0f8ff;}#sk-container-id-1 div.sk-toggleable__content pre {margin: 0.2em;color: black;border-radius: 0.25em;background-color: #f0f8ff;}#sk-container-id-1 input.sk-toggleable__control:checked~div.sk-toggleable__content {max-height: 200px;max-width: 100%;overflow: auto;}#sk-container-id-1 input.sk-toggleable__control:checked~label.sk-toggleable__label-arrow:before {content: \"▾\";}#sk-container-id-1 div.sk-estimator input.sk-toggleable__control:checked~label.sk-toggleable__label {background-color: #d4ebff;}#sk-container-id-1 div.sk-label input.sk-toggleable__control:checked~label.sk-toggleable__label {background-color: #d4ebff;}#sk-container-id-1 input.sk-hidden--visually {border: 0;clip: rect(1px 1px 1px 1px);clip: rect(1px, 1px, 1px, 1px);height: 1px;margin: -1px;overflow: hidden;padding: 0;position: absolute;width: 1px;}#sk-container-id-1 div.sk-estimator {font-family: monospace;background-color: #f0f8ff;border: 1px dotted black;border-radius: 0.25em;box-sizing: border-box;margin-bottom: 0.5em;}#sk-container-id-1 div.sk-estimator:hover {background-color: #d4ebff;}#sk-container-id-1 div.sk-parallel-item::after {content: \"\";width: 100%;border-bottom: 1px solid gray;flex-grow: 1;}#sk-container-id-1 div.sk-label:hover label.sk-toggleable__label {background-color: #d4ebff;}#sk-container-id-1 div.sk-serial::before {content: \"\";position: absolute;border-left: 1px solid gray;box-sizing: border-box;top: 0;bottom: 0;left: 50%;z-index: 0;}#sk-container-id-1 div.sk-serial {display: flex;flex-direction: column;align-items: center;background-color: white;padding-right: 0.2em;padding-left: 0.2em;position: relative;}#sk-container-id-1 div.sk-item {position: relative;z-index: 1;}#sk-container-id-1 div.sk-parallel {display: flex;align-items: stretch;justify-content: center;background-color: white;position: relative;}#sk-container-id-1 div.sk-item::before, #sk-container-id-1 div.sk-parallel-item::before {content: \"\";position: absolute;border-left: 1px solid gray;box-sizing: border-box;top: 0;bottom: 0;left: 50%;z-index: -1;}#sk-container-id-1 div.sk-parallel-item {display: flex;flex-direction: column;z-index: 1;position: relative;background-color: white;}#sk-container-id-1 div.sk-parallel-item:first-child::after {align-self: flex-end;width: 50%;}#sk-container-id-1 div.sk-parallel-item:last-child::after {align-self: flex-start;width: 50%;}#sk-container-id-1 div.sk-parallel-item:only-child::after {width: 0;}#sk-container-id-1 div.sk-dashed-wrapped {border: 1px dashed gray;margin: 0 0.4em 0.5em 0.4em;box-sizing: border-box;padding-bottom: 0.4em;background-color: white;}#sk-container-id-1 div.sk-label label {font-family: monospace;font-weight: bold;display: inline-block;line-height: 1.2em;}#sk-container-id-1 div.sk-label-container {text-align: center;}#sk-container-id-1 div.sk-container {/* jupyter's `normalize.less` sets `[hidden] { display: none; }` but bootstrap.min.css set `[hidden] { display: none !important; }` so we also need the `!important` here to be able to override the default hidden behavior on the sphinx rendered scikit-learn.org. See: https://github.com/scikit-learn/scikit-learn/issues/21755 */display: inline-block !important;position: relative;}#sk-container-id-1 div.sk-text-repr-fallback {display: none;}</style><div id=\"sk-container-id-1\" class=\"sk-top-container\"><div class=\"sk-text-repr-fallback\"><pre>Pipeline(steps=[(&#x27;scale&#x27;, StandardScaler()),\n",
       "                (&#x27;model&#x27;, GradientBoostingClassifier())])</pre><b>In a Jupyter environment, please rerun this cell to show the HTML representation or trust the notebook. <br />On GitHub, the HTML representation is unable to render, please try loading this page with nbviewer.org.</b></div><div class=\"sk-container\" hidden><div class=\"sk-item sk-dashed-wrapped\"><div class=\"sk-label-container\"><div class=\"sk-label sk-toggleable\"><input class=\"sk-toggleable__control sk-hidden--visually\" id=\"sk-estimator-id-1\" type=\"checkbox\" ><label for=\"sk-estimator-id-1\" class=\"sk-toggleable__label sk-toggleable__label-arrow\">Pipeline</label><div class=\"sk-toggleable__content\"><pre>Pipeline(steps=[(&#x27;scale&#x27;, StandardScaler()),\n",
       "                (&#x27;model&#x27;, GradientBoostingClassifier())])</pre></div></div></div><div class=\"sk-serial\"><div class=\"sk-item\"><div class=\"sk-estimator sk-toggleable\"><input class=\"sk-toggleable__control sk-hidden--visually\" id=\"sk-estimator-id-2\" type=\"checkbox\" ><label for=\"sk-estimator-id-2\" class=\"sk-toggleable__label sk-toggleable__label-arrow\">StandardScaler</label><div class=\"sk-toggleable__content\"><pre>StandardScaler()</pre></div></div></div><div class=\"sk-item\"><div class=\"sk-estimator sk-toggleable\"><input class=\"sk-toggleable__control sk-hidden--visually\" id=\"sk-estimator-id-3\" type=\"checkbox\" ><label for=\"sk-estimator-id-3\" class=\"sk-toggleable__label sk-toggleable__label-arrow\">GradientBoostingClassifier</label><div class=\"sk-toggleable__content\"><pre>GradientBoostingClassifier()</pre></div></div></div></div></div></div></div>"
      ],
      "text/plain": [
       "Pipeline(steps=[('scale', StandardScaler()),\n",
       "                ('model', GradientBoostingClassifier())])"
      ]
     },
     "execution_count": 34,
     "metadata": {},
     "output_type": "execute_result"
    }
   ],
   "source": [
    "model.fit(X_train, y_train.values.ravel())"
   ]
  },
  {
   "cell_type": "code",
   "execution_count": 35,
   "id": "6e15e313",
   "metadata": {
    "execution": {
     "iopub.execute_input": "2025-08-19T18:51:44.841558Z",
     "iopub.status.busy": "2025-08-19T18:51:44.841271Z",
     "iopub.status.idle": "2025-08-19T18:51:45.488828Z",
     "shell.execute_reply": "2025-08-19T18:51:45.487744Z"
    },
    "papermill": {
     "duration": 0.66165,
     "end_time": "2025-08-19T18:51:45.491229",
     "exception": false,
     "start_time": "2025-08-19T18:51:44.829579",
     "status": "completed"
    },
    "tags": []
   },
   "outputs": [
    {
     "data": {
      "text/plain": [
       "0.8476424032995207"
      ]
     },
     "execution_count": 35,
     "metadata": {},
     "output_type": "execute_result"
    }
   ],
   "source": [
    "from fairness_multiverse.universe import predict_w_threshold\n",
    "\n",
    "probs_test = model.predict_proba(X_test)\n",
    "\n",
    "'''\n",
    "Below code returns a boolean array (or binary 0/1 array depending on how it’s used) where each element \n",
    "is True if the probability of class 1 is greater than or equal to the threshold, and False otherwise.\n",
    "'''\n",
    "y_pred_default = predict_w_threshold(probs_test, 0.5)\n",
    "\n",
    "from sklearn.metrics import accuracy_score\n",
    "\n",
    "# Naive prediction\n",
    "accuracy_score(y_true = y_true, y_pred = y_pred_default)"
   ]
  },
  {
   "cell_type": "code",
   "execution_count": 36,
   "id": "6f14067c",
   "metadata": {
    "execution": {
     "iopub.execute_input": "2025-08-19T18:51:45.524965Z",
     "iopub.status.busy": "2025-08-19T18:51:45.524074Z",
     "iopub.status.idle": "2025-08-19T18:51:46.148637Z",
     "shell.execute_reply": "2025-08-19T18:51:46.147637Z"
    },
    "papermill": {
     "duration": 0.639014,
     "end_time": "2025-08-19T18:51:46.149901",
     "exception": false,
     "start_time": "2025-08-19T18:51:45.510887",
     "status": "completed"
    },
    "tags": []
   },
   "outputs": [
    {
     "data": {
      "text/plain": [
       "array([0, 0, 0, ..., 0, 0, 0])"
      ]
     },
     "execution_count": 36,
     "metadata": {},
     "output_type": "execute_result"
    }
   ],
   "source": [
    "model.predict(X_test)"
   ]
  },
  {
   "cell_type": "markdown",
   "id": "3759920c",
   "metadata": {
    "papermill": {
     "duration": 0.017169,
     "end_time": "2025-08-19T18:51:46.182258",
     "exception": false,
     "start_time": "2025-08-19T18:51:46.165089",
     "status": "completed"
    },
    "tags": []
   },
   "source": [
    "# Conformal Prediction"
   ]
  },
  {
   "cell_type": "code",
   "execution_count": 37,
   "id": "14b27f59",
   "metadata": {
    "execution": {
     "iopub.execute_input": "2025-08-19T18:51:46.207580Z",
     "iopub.status.busy": "2025-08-19T18:51:46.207115Z",
     "iopub.status.idle": "2025-08-19T18:51:46.211724Z",
     "shell.execute_reply": "2025-08-19T18:51:46.211038Z"
    },
    "papermill": {
     "duration": 0.019412,
     "end_time": "2025-08-19T18:51:46.214159",
     "exception": false,
     "start_time": "2025-08-19T18:51:46.194747",
     "status": "completed"
    },
    "tags": []
   },
   "outputs": [],
   "source": [
    "# Miscoverage level for conformal prediction (10% allowed error rate => 90% target coverage)\n",
    "alpha = 0.1"
   ]
  },
  {
   "cell_type": "code",
   "execution_count": 38,
   "id": "59102472",
   "metadata": {
    "execution": {
     "iopub.execute_input": "2025-08-19T18:51:46.253568Z",
     "iopub.status.busy": "2025-08-19T18:51:46.252531Z",
     "iopub.status.idle": "2025-08-19T18:51:46.836060Z",
     "shell.execute_reply": "2025-08-19T18:51:46.834709Z"
    },
    "papermill": {
     "duration": 0.600315,
     "end_time": "2025-08-19T18:51:46.838532",
     "exception": false,
     "start_time": "2025-08-19T18:51:46.238217",
     "status": "completed"
    },
    "tags": []
   },
   "outputs": [],
   "source": [
    "probs_calib = model.predict_proba(X_calib)"
   ]
  },
  {
   "cell_type": "code",
   "execution_count": 39,
   "id": "a792d4dd",
   "metadata": {
    "execution": {
     "iopub.execute_input": "2025-08-19T18:51:46.874982Z",
     "iopub.status.busy": "2025-08-19T18:51:46.874241Z",
     "iopub.status.idle": "2025-08-19T18:51:46.882311Z",
     "shell.execute_reply": "2025-08-19T18:51:46.881277Z"
    },
    "papermill": {
     "duration": 0.027251,
     "end_time": "2025-08-19T18:51:46.883914",
     "exception": false,
     "start_time": "2025-08-19T18:51:46.856663",
     "status": "completed"
    },
    "tags": []
   },
   "outputs": [],
   "source": [
    "y_calib = y_calib.values.ravel().astype(int)"
   ]
  },
  {
   "cell_type": "code",
   "execution_count": 40,
   "id": "650fd033",
   "metadata": {
    "execution": {
     "iopub.execute_input": "2025-08-19T18:51:46.914663Z",
     "iopub.status.busy": "2025-08-19T18:51:46.914199Z",
     "iopub.status.idle": "2025-08-19T18:51:46.923481Z",
     "shell.execute_reply": "2025-08-19T18:51:46.922778Z"
    },
    "papermill": {
     "duration": 0.02426,
     "end_time": "2025-08-19T18:51:46.924928",
     "exception": false,
     "start_time": "2025-08-19T18:51:46.900668",
     "status": "completed"
    },
    "tags": []
   },
   "outputs": [],
   "source": [
    "from fairness_multiverse.conformal import compute_nc_scores\n",
    "\n",
    "# Compute nonconformity scores on calibration set (1 - probability of true class)\n",
    "nc_scores = compute_nc_scores(probs_calib, y_calib)"
   ]
  },
  {
   "cell_type": "code",
   "execution_count": 41,
   "id": "28ada44c",
   "metadata": {
    "execution": {
     "iopub.execute_input": "2025-08-19T18:51:46.952322Z",
     "iopub.status.busy": "2025-08-19T18:51:46.951907Z",
     "iopub.status.idle": "2025-08-19T18:51:46.957682Z",
     "shell.execute_reply": "2025-08-19T18:51:46.956947Z"
    },
    "papermill": {
     "duration": 0.019828,
     "end_time": "2025-08-19T18:51:46.958963",
     "exception": false,
     "start_time": "2025-08-19T18:51:46.939135",
     "status": "completed"
    },
    "tags": []
   },
   "outputs": [],
   "source": [
    "from fairness_multiverse.conformal import find_threshold\n",
    "\n",
    "# Find conformal threshold q_hat for the given alpha (split conformal method)\n",
    "q_hat = find_threshold(nc_scores, alpha)"
   ]
  },
  {
   "cell_type": "code",
   "execution_count": 42,
   "id": "df56469e",
   "metadata": {
    "execution": {
     "iopub.execute_input": "2025-08-19T18:51:46.984424Z",
     "iopub.status.busy": "2025-08-19T18:51:46.983716Z",
     "iopub.status.idle": "2025-08-19T18:51:46.993678Z",
     "shell.execute_reply": "2025-08-19T18:51:46.992545Z"
    },
    "papermill": {
     "duration": 0.024223,
     "end_time": "2025-08-19T18:51:46.995041",
     "exception": false,
     "start_time": "2025-08-19T18:51:46.970818",
     "status": "completed"
    },
    "tags": []
   },
   "outputs": [
    {
     "data": {
      "text/plain": [
       "0.7592762802936929"
      ]
     },
     "execution_count": 42,
     "metadata": {},
     "output_type": "execute_result"
    }
   ],
   "source": [
    "q_hat"
   ]
  },
  {
   "cell_type": "code",
   "execution_count": 43,
   "id": "aa1f5faa",
   "metadata": {
    "execution": {
     "iopub.execute_input": "2025-08-19T18:51:47.022294Z",
     "iopub.status.busy": "2025-08-19T18:51:47.021662Z",
     "iopub.status.idle": "2025-08-19T18:51:48.120288Z",
     "shell.execute_reply": "2025-08-19T18:51:48.119369Z"
    },
    "papermill": {
     "duration": 1.113842,
     "end_time": "2025-08-19T18:51:48.122443",
     "exception": false,
     "start_time": "2025-08-19T18:51:47.008601",
     "status": "completed"
    },
    "tags": []
   },
   "outputs": [],
   "source": [
    "from fairness_multiverse.conformal import predict_conformal_sets\n",
    "\n",
    "# Generate prediction sets for each test example\n",
    "pred_sets = predict_conformal_sets(model, X_test, q_hat)"
   ]
  },
  {
   "cell_type": "code",
   "execution_count": 44,
   "id": "97f67a6b",
   "metadata": {
    "execution": {
     "iopub.execute_input": "2025-08-19T18:51:48.158186Z",
     "iopub.status.busy": "2025-08-19T18:51:48.157345Z",
     "iopub.status.idle": "2025-08-19T18:51:48.166069Z",
     "shell.execute_reply": "2025-08-19T18:51:48.164855Z"
    },
    "papermill": {
     "duration": 0.027739,
     "end_time": "2025-08-19T18:51:48.167479",
     "exception": false,
     "start_time": "2025-08-19T18:51:48.139740",
     "status": "completed"
    },
    "tags": []
   },
   "outputs": [],
   "source": [
    "y_true = y_true.squeeze()"
   ]
  },
  {
   "cell_type": "code",
   "execution_count": 45,
   "id": "e700e9a7",
   "metadata": {
    "execution": {
     "iopub.execute_input": "2025-08-19T18:51:48.209238Z",
     "iopub.status.busy": "2025-08-19T18:51:48.207688Z",
     "iopub.status.idle": "2025-08-19T18:51:48.718027Z",
     "shell.execute_reply": "2025-08-19T18:51:48.716780Z"
    },
    "papermill": {
     "duration": 0.536923,
     "end_time": "2025-08-19T18:51:48.719924",
     "exception": false,
     "start_time": "2025-08-19T18:51:48.183001",
     "status": "completed"
    },
    "tags": []
   },
   "outputs": [],
   "source": [
    "from fairness_multiverse.conformal import evaluate_sets\n",
    "\n",
    "# Evaluate coverage and average set size on test data\n",
    "metrics = evaluate_sets(pred_sets, y_true)"
   ]
  },
  {
   "cell_type": "markdown",
   "id": "efbacec0",
   "metadata": {
    "papermill": {
     "duration": 0.013061,
     "end_time": "2025-08-19T18:51:48.755016",
     "exception": false,
     "start_time": "2025-08-19T18:51:48.741955",
     "status": "completed"
    },
    "tags": []
   },
   "source": [
    "# CP Metrics"
   ]
  },
  {
   "cell_type": "code",
   "execution_count": 46,
   "id": "9de55fb1",
   "metadata": {
    "execution": {
     "iopub.execute_input": "2025-08-19T18:51:48.816574Z",
     "iopub.status.busy": "2025-08-19T18:51:48.814484Z",
     "iopub.status.idle": "2025-08-19T18:51:48.830128Z",
     "shell.execute_reply": "2025-08-19T18:51:48.828944Z"
    },
    "papermill": {
     "duration": 0.064388,
     "end_time": "2025-08-19T18:51:48.831998",
     "exception": false,
     "start_time": "2025-08-19T18:51:48.767610",
     "status": "completed"
    },
    "tags": []
   },
   "outputs": [
    {
     "data": {
      "text/plain": [
       "{'coverage': 0.9091071229517333, 'avg_size': 1.159246460818192}"
      ]
     },
     "execution_count": 46,
     "metadata": {},
     "output_type": "execute_result"
    }
   ],
   "source": [
    "metrics"
   ]
  },
  {
   "cell_type": "code",
   "execution_count": 47,
   "id": "64c340a1",
   "metadata": {
    "execution": {
     "iopub.execute_input": "2025-08-19T18:51:48.866041Z",
     "iopub.status.busy": "2025-08-19T18:51:48.865180Z",
     "iopub.status.idle": "2025-08-19T18:51:48.878397Z",
     "shell.execute_reply": "2025-08-19T18:51:48.876808Z"
    },
    "papermill": {
     "duration": 0.030578,
     "end_time": "2025-08-19T18:51:48.880124",
     "exception": false,
     "start_time": "2025-08-19T18:51:48.849546",
     "status": "completed"
    },
    "tags": []
   },
   "outputs": [],
   "source": [
    "example_universe = universe.copy()\n",
    "universe_training_year = example_universe.get(\"training_year\")\n",
    "universe_training_size = example_universe.get(\"training_size\")\n",
    "universe_scale = example_universe.get(\"scale\")\n",
    "universe_model = example_universe.get(\"model\")\n",
    "universe_exclude_features = example_universe.get(\"exclude_features\")\n",
    "universe_exclude_subgroups = example_universe.get(\"exclude_subgroups\")"
   ]
  },
  {
   "cell_type": "code",
   "execution_count": 48,
   "id": "dbb53cb4",
   "metadata": {
    "execution": {
     "iopub.execute_input": "2025-08-19T18:51:48.910704Z",
     "iopub.status.busy": "2025-08-19T18:51:48.909707Z",
     "iopub.status.idle": "2025-08-19T18:51:48.915139Z",
     "shell.execute_reply": "2025-08-19T18:51:48.914503Z"
    },
    "papermill": {
     "duration": 0.021049,
     "end_time": "2025-08-19T18:51:48.916257",
     "exception": false,
     "start_time": "2025-08-19T18:51:48.895208",
     "status": "completed"
    },
    "tags": []
   },
   "outputs": [],
   "source": [
    "cp_metrics_dict = {\n",
    "    \"universe_id\": [universe_id],\n",
    "    \"universe_training_year\": [universe_training_year],\n",
    "    \"universe_training_size\": [universe_training_size],\n",
    "    \"universe_scale\": [universe_scale],\n",
    "    \"universe_model\": [universe_model],\n",
    "    \"universe_exclude_features\": [universe_exclude_features],\n",
    "    \"universe_exclude_subgroups\": [universe_exclude_subgroups],\n",
    "    \"q_hat\": [q_hat],\n",
    "    \"coverage\": [metrics[\"coverage\"]],\n",
    "    \"avg_size\": [metrics[\"avg_size\"]],\n",
    "}"
   ]
  },
  {
   "cell_type": "code",
   "execution_count": 49,
   "id": "0d70d4b2",
   "metadata": {
    "execution": {
     "iopub.execute_input": "2025-08-19T18:51:48.954553Z",
     "iopub.status.busy": "2025-08-19T18:51:48.954130Z",
     "iopub.status.idle": "2025-08-19T18:51:49.111675Z",
     "shell.execute_reply": "2025-08-19T18:51:49.110510Z"
    },
    "papermill": {
     "duration": 0.182783,
     "end_time": "2025-08-19T18:51:49.113591",
     "exception": false,
     "start_time": "2025-08-19T18:51:48.930808",
     "status": "completed"
    },
    "tags": []
   },
   "outputs": [],
   "source": [
    "cp_metrics_df = pd.DataFrame(cp_metrics_dict)"
   ]
  },
  {
   "cell_type": "code",
   "execution_count": 50,
   "id": "b494403c",
   "metadata": {
    "execution": {
     "iopub.execute_input": "2025-08-19T18:51:49.175294Z",
     "iopub.status.busy": "2025-08-19T18:51:49.174984Z",
     "iopub.status.idle": "2025-08-19T18:51:49.220878Z",
     "shell.execute_reply": "2025-08-19T18:51:49.218989Z"
    },
    "papermill": {
     "duration": 0.094956,
     "end_time": "2025-08-19T18:51:49.223640",
     "exception": false,
     "start_time": "2025-08-19T18:51:49.128684",
     "status": "completed"
    },
    "tags": []
   },
   "outputs": [
    {
     "data": {
      "text/html": [
       "<div>\n",
       "<style scoped>\n",
       "    .dataframe tbody tr th:only-of-type {\n",
       "        vertical-align: middle;\n",
       "    }\n",
       "\n",
       "    .dataframe tbody tr th {\n",
       "        vertical-align: top;\n",
       "    }\n",
       "\n",
       "    .dataframe thead th {\n",
       "        text-align: right;\n",
       "    }\n",
       "</style>\n",
       "<table border=\"1\" class=\"dataframe\">\n",
       "  <thead>\n",
       "    <tr style=\"text-align: right;\">\n",
       "      <th></th>\n",
       "      <th>universe_id</th>\n",
       "      <th>universe_training_year</th>\n",
       "      <th>universe_training_size</th>\n",
       "      <th>universe_scale</th>\n",
       "      <th>universe_model</th>\n",
       "      <th>universe_exclude_features</th>\n",
       "      <th>universe_exclude_subgroups</th>\n",
       "      <th>q_hat</th>\n",
       "      <th>coverage</th>\n",
       "      <th>avg_size</th>\n",
       "    </tr>\n",
       "  </thead>\n",
       "  <tbody>\n",
       "    <tr>\n",
       "      <th>0</th>\n",
       "      <td>afde5d914a9e6a6dc266a402718a266a</td>\n",
       "      <td>2014</td>\n",
       "      <td>1k</td>\n",
       "      <td>scale</td>\n",
       "      <td>gbm</td>\n",
       "      <td>nationality-sex</td>\n",
       "      <td>drop-non-german</td>\n",
       "      <td>0.759276</td>\n",
       "      <td>0.909107</td>\n",
       "      <td>1.159246</td>\n",
       "    </tr>\n",
       "  </tbody>\n",
       "</table>\n",
       "</div>"
      ],
      "text/plain": [
       "                        universe_id universe_training_year  \\\n",
       "0  afde5d914a9e6a6dc266a402718a266a                   2014   \n",
       "\n",
       "  universe_training_size universe_scale universe_model  \\\n",
       "0                     1k          scale            gbm   \n",
       "\n",
       "  universe_exclude_features universe_exclude_subgroups     q_hat  coverage  \\\n",
       "0           nationality-sex            drop-non-german  0.759276  0.909107   \n",
       "\n",
       "   avg_size  \n",
       "0  1.159246  "
      ]
     },
     "execution_count": 50,
     "metadata": {},
     "output_type": "execute_result"
    }
   ],
   "source": [
    "cp_metrics_df"
   ]
  },
  {
   "cell_type": "markdown",
   "id": "ed608b0b",
   "metadata": {
    "papermill": {
     "duration": 0.013978,
     "end_time": "2025-08-19T18:51:49.257350",
     "exception": false,
     "start_time": "2025-08-19T18:51:49.243372",
     "status": "completed"
    },
    "tags": []
   },
   "source": [
    "Conditional coverage & looking at subgroups"
   ]
  },
  {
   "cell_type": "code",
   "execution_count": 51,
   "id": "8968c366",
   "metadata": {
    "execution": {
     "iopub.execute_input": "2025-08-19T18:51:49.288145Z",
     "iopub.status.busy": "2025-08-19T18:51:49.287635Z",
     "iopub.status.idle": "2025-08-19T18:51:49.589528Z",
     "shell.execute_reply": "2025-08-19T18:51:49.587958Z"
    },
    "papermill": {
     "duration": 0.320376,
     "end_time": "2025-08-19T18:51:49.591460",
     "exception": false,
     "start_time": "2025-08-19T18:51:49.271084",
     "status": "completed"
    },
    "tags": []
   },
   "outputs": [],
   "source": [
    "from fairness_multiverse.conformal import build_cp_groups\n",
    "\n",
    "cp_groups_df = build_cp_groups(pred_sets, y_true, X_test.index, org_test)"
   ]
  },
  {
   "cell_type": "code",
   "execution_count": 52,
   "id": "292ddabf",
   "metadata": {
    "execution": {
     "iopub.execute_input": "2025-08-19T18:51:49.636190Z",
     "iopub.status.busy": "2025-08-19T18:51:49.635904Z",
     "iopub.status.idle": "2025-08-19T18:51:50.517067Z",
     "shell.execute_reply": "2025-08-19T18:51:50.515815Z"
    },
    "papermill": {
     "duration": 0.910051,
     "end_time": "2025-08-19T18:51:50.519361",
     "exception": false,
     "start_time": "2025-08-19T18:51:49.609310",
     "status": "completed"
    },
    "tags": []
   },
   "outputs": [],
   "source": [
    "# Define covered = 1 if true_label is in the predicted set\n",
    "cp_groups_df['covered'] = cp_groups_df.apply(\n",
    "    lambda r: int(r['true_label'] in r['pred_set']),\n",
    "    axis=1\n",
    ")"
   ]
  },
  {
   "cell_type": "code",
   "execution_count": 53,
   "id": "3a261692",
   "metadata": {
    "execution": {
     "iopub.execute_input": "2025-08-19T18:51:50.568345Z",
     "iopub.status.busy": "2025-08-19T18:51:50.567098Z",
     "iopub.status.idle": "2025-08-19T18:51:50.590680Z",
     "shell.execute_reply": "2025-08-19T18:51:50.589799Z"
    },
    "papermill": {
     "duration": 0.040292,
     "end_time": "2025-08-19T18:51:50.592591",
     "exception": false,
     "start_time": "2025-08-19T18:51:50.552299",
     "status": "completed"
    },
    "tags": []
   },
   "outputs": [],
   "source": [
    "subgroups = ['frau1','nongerman','nongerman_male','nongerman_female']\n",
    "\n",
    "# Conditional coverage for subgroup==1\n",
    "cond_coverage = {\n",
    "    g: cp_groups_df.loc[cp_groups_df[g]==1, 'covered'].mean()\n",
    "    for g in subgroups\n",
    "}"
   ]
  },
  {
   "cell_type": "code",
   "execution_count": 54,
   "id": "894fd600",
   "metadata": {
    "execution": {
     "iopub.execute_input": "2025-08-19T18:51:50.632118Z",
     "iopub.status.busy": "2025-08-19T18:51:50.630886Z",
     "iopub.status.idle": "2025-08-19T18:51:50.641609Z",
     "shell.execute_reply": "2025-08-19T18:51:50.640228Z"
    },
    "papermill": {
     "duration": 0.03945,
     "end_time": "2025-08-19T18:51:50.655703",
     "exception": false,
     "start_time": "2025-08-19T18:51:50.616253",
     "status": "completed"
    },
    "tags": []
   },
   "outputs": [
    {
     "data": {
      "text/plain": [
       "{'frau1': 0.9076694972368243,\n",
       " 'nongerman': 0.9077078538146298,\n",
       " 'nongerman_male': 0.9234441142033685,\n",
       " 'nongerman_female': 0.8816691505216095}"
      ]
     },
     "execution_count": 54,
     "metadata": {},
     "output_type": "execute_result"
    }
   ],
   "source": [
    "cond_coverage"
   ]
  },
  {
   "cell_type": "code",
   "execution_count": 55,
   "id": "942895c7",
   "metadata": {
    "execution": {
     "iopub.execute_input": "2025-08-19T18:51:50.682110Z",
     "iopub.status.busy": "2025-08-19T18:51:50.681362Z",
     "iopub.status.idle": "2025-08-19T18:51:50.688270Z",
     "shell.execute_reply": "2025-08-19T18:51:50.687601Z"
    },
    "papermill": {
     "duration": 0.021382,
     "end_time": "2025-08-19T18:51:50.689593",
     "exception": false,
     "start_time": "2025-08-19T18:51:50.668211",
     "status": "completed"
    },
    "tags": []
   },
   "outputs": [],
   "source": [
    "for subgroup, cov in cond_coverage.items():\n",
    "    cp_metrics_df[f\"cov_{subgroup}\"] = cov"
   ]
  },
  {
   "cell_type": "code",
   "execution_count": 56,
   "id": "3970120f",
   "metadata": {
    "execution": {
     "iopub.execute_input": "2025-08-19T18:51:50.715315Z",
     "iopub.status.busy": "2025-08-19T18:51:50.714967Z",
     "iopub.status.idle": "2025-08-19T18:51:50.732000Z",
     "shell.execute_reply": "2025-08-19T18:51:50.731247Z"
    },
    "papermill": {
     "duration": 0.031836,
     "end_time": "2025-08-19T18:51:50.733729",
     "exception": false,
     "start_time": "2025-08-19T18:51:50.701893",
     "status": "completed"
    },
    "tags": []
   },
   "outputs": [
    {
     "data": {
      "text/html": [
       "<div>\n",
       "<style scoped>\n",
       "    .dataframe tbody tr th:only-of-type {\n",
       "        vertical-align: middle;\n",
       "    }\n",
       "\n",
       "    .dataframe tbody tr th {\n",
       "        vertical-align: top;\n",
       "    }\n",
       "\n",
       "    .dataframe thead th {\n",
       "        text-align: right;\n",
       "    }\n",
       "</style>\n",
       "<table border=\"1\" class=\"dataframe\">\n",
       "  <thead>\n",
       "    <tr style=\"text-align: right;\">\n",
       "      <th></th>\n",
       "      <th>universe_id</th>\n",
       "      <th>universe_training_year</th>\n",
       "      <th>universe_training_size</th>\n",
       "      <th>universe_scale</th>\n",
       "      <th>universe_model</th>\n",
       "      <th>universe_exclude_features</th>\n",
       "      <th>universe_exclude_subgroups</th>\n",
       "      <th>q_hat</th>\n",
       "      <th>coverage</th>\n",
       "      <th>avg_size</th>\n",
       "      <th>cov_frau1</th>\n",
       "      <th>cov_nongerman</th>\n",
       "      <th>cov_nongerman_male</th>\n",
       "      <th>cov_nongerman_female</th>\n",
       "    </tr>\n",
       "  </thead>\n",
       "  <tbody>\n",
       "    <tr>\n",
       "      <th>0</th>\n",
       "      <td>afde5d914a9e6a6dc266a402718a266a</td>\n",
       "      <td>2014</td>\n",
       "      <td>1k</td>\n",
       "      <td>scale</td>\n",
       "      <td>gbm</td>\n",
       "      <td>nationality-sex</td>\n",
       "      <td>drop-non-german</td>\n",
       "      <td>0.759276</td>\n",
       "      <td>0.909107</td>\n",
       "      <td>1.159246</td>\n",
       "      <td>0.907669</td>\n",
       "      <td>0.907708</td>\n",
       "      <td>0.923444</td>\n",
       "      <td>0.881669</td>\n",
       "    </tr>\n",
       "  </tbody>\n",
       "</table>\n",
       "</div>"
      ],
      "text/plain": [
       "                        universe_id universe_training_year  \\\n",
       "0  afde5d914a9e6a6dc266a402718a266a                   2014   \n",
       "\n",
       "  universe_training_size universe_scale universe_model  \\\n",
       "0                     1k          scale            gbm   \n",
       "\n",
       "  universe_exclude_features universe_exclude_subgroups     q_hat  coverage  \\\n",
       "0           nationality-sex            drop-non-german  0.759276  0.909107   \n",
       "\n",
       "   avg_size  cov_frau1  cov_nongerman  cov_nongerman_male  \\\n",
       "0  1.159246   0.907669       0.907708            0.923444   \n",
       "\n",
       "   cov_nongerman_female  \n",
       "0              0.881669  "
      ]
     },
     "execution_count": 56,
     "metadata": {},
     "output_type": "execute_result"
    }
   ],
   "source": [
    "cp_metrics_df"
   ]
  },
  {
   "cell_type": "markdown",
   "id": "3fc519cc",
   "metadata": {
    "papermill": {
     "duration": 0.018612,
     "end_time": "2025-08-19T18:51:50.768809",
     "exception": false,
     "start_time": "2025-08-19T18:51:50.750197",
     "status": "completed"
    },
    "tags": []
   },
   "source": [
    "# (Fairness) Metrics"
   ]
  },
  {
   "cell_type": "code",
   "execution_count": 57,
   "id": "a2e5e155",
   "metadata": {
    "execution": {
     "iopub.execute_input": "2025-08-19T18:51:50.794165Z",
     "iopub.status.busy": "2025-08-19T18:51:50.793871Z",
     "iopub.status.idle": "2025-08-19T18:51:50.810507Z",
     "shell.execute_reply": "2025-08-19T18:51:50.809788Z"
    },
    "papermill": {
     "duration": 0.031139,
     "end_time": "2025-08-19T18:51:50.812113",
     "exception": false,
     "start_time": "2025-08-19T18:51:50.780974",
     "status": "completed"
    },
    "tags": []
   },
   "outputs": [],
   "source": [
    "colname_to_bin = \"maxdeutsch1\"\n",
    "majority_value = org_train[colname_to_bin].mode()[0]\n",
    "\n",
    "org_test[\"majmin\"] = np.where(org_test[colname_to_bin] == majority_value, \"majority\", \"minority\")"
   ]
  },
  {
   "cell_type": "code",
   "execution_count": 58,
   "id": "17e3e4d5",
   "metadata": {
    "execution": {
     "iopub.execute_input": "2025-08-19T18:51:50.838957Z",
     "iopub.status.busy": "2025-08-19T18:51:50.838671Z",
     "iopub.status.idle": "2025-08-19T18:51:52.577648Z",
     "shell.execute_reply": "2025-08-19T18:51:52.576368Z"
    },
    "papermill": {
     "duration": 1.75429,
     "end_time": "2025-08-19T18:51:52.579938",
     "exception": false,
     "start_time": "2025-08-19T18:51:50.825648",
     "status": "completed"
    },
    "tags": []
   },
   "outputs": [],
   "source": [
    "example_universe = universe.copy()\n",
    "example_universe[\"cutoff\"] = example_universe[\"cutoff\"][0]\n",
    "example_universe[\"eval_fairness_grouping\"] = example_universe[\"eval_fairness_grouping\"][0]\n",
    "fairness_dict, metric_frame = universe_analysis.compute_metrics(\n",
    "    example_universe,\n",
    "    y_pred_prob=probs_test,\n",
    "    y_test=y_true,\n",
    "    org_test=org_test,\n",
    ")"
   ]
  },
  {
   "cell_type": "markdown",
   "id": "1fb7a0e9",
   "metadata": {
    "papermill": {
     "duration": 0.014022,
     "end_time": "2025-08-19T18:51:52.616833",
     "exception": false,
     "start_time": "2025-08-19T18:51:52.602811",
     "status": "completed"
    },
    "tags": []
   },
   "source": [
    "# Overall"
   ]
  },
  {
   "cell_type": "markdown",
   "id": "be1784b1",
   "metadata": {
    "papermill": {
     "duration": 0.013297,
     "end_time": "2025-08-19T18:51:52.643784",
     "exception": false,
     "start_time": "2025-08-19T18:51:52.630487",
     "status": "completed"
    },
    "tags": []
   },
   "source": [
    "Main fairness target: Equalized Odds. Seems to be a better fit than equal opportunity, since we're not only interested in Y = 1. Seems to be a better fit than demographic parity, since we also care about accuracy, not just equal distribution of preds.\n",
    "\n",
    "Pick column for computation of fairness metrics\n",
    "\n",
    "Performance\n",
    "Overall performance measures, most interesting in relation to the measures split by group below"
   ]
  },
  {
   "cell_type": "code",
   "execution_count": 59,
   "id": "b7672bee",
   "metadata": {
    "execution": {
     "iopub.execute_input": "2025-08-19T18:51:52.671155Z",
     "iopub.status.busy": "2025-08-19T18:51:52.670762Z",
     "iopub.status.idle": "2025-08-19T18:51:52.679599Z",
     "shell.execute_reply": "2025-08-19T18:51:52.678756Z"
    },
    "papermill": {
     "duration": 0.02425,
     "end_time": "2025-08-19T18:51:52.680938",
     "exception": false,
     "start_time": "2025-08-19T18:51:52.656688",
     "status": "completed"
    },
    "tags": []
   },
   "outputs": [
    {
     "data": {
      "text/plain": [
       "accuracy                   0.219518\n",
       "balanced accuracy          0.540549\n",
       "f1                         0.242216\n",
       "precision                  0.138338\n",
       "false positive rate        0.891269\n",
       "false negative rate        0.027633\n",
       "selection rate             0.901672\n",
       "count                  89710.000000\n",
       "dtype: float64"
      ]
     },
     "execution_count": 59,
     "metadata": {},
     "output_type": "execute_result"
    }
   ],
   "source": [
    "metric_frame.overall"
   ]
  },
  {
   "cell_type": "markdown",
   "id": "d93333c9",
   "metadata": {
    "papermill": {
     "duration": 0.016405,
     "end_time": "2025-08-19T18:51:52.721074",
     "exception": false,
     "start_time": "2025-08-19T18:51:52.704669",
     "status": "completed"
    },
    "tags": []
   },
   "source": [
    "By Group"
   ]
  },
  {
   "cell_type": "code",
   "execution_count": 60,
   "id": "52256966",
   "metadata": {
    "execution": {
     "iopub.execute_input": "2025-08-19T18:51:52.748135Z",
     "iopub.status.busy": "2025-08-19T18:51:52.747698Z",
     "iopub.status.idle": "2025-08-19T18:51:52.768321Z",
     "shell.execute_reply": "2025-08-19T18:51:52.767627Z"
    },
    "papermill": {
     "duration": 0.035664,
     "end_time": "2025-08-19T18:51:52.769714",
     "exception": false,
     "start_time": "2025-08-19T18:51:52.734050",
     "status": "completed"
    },
    "tags": []
   },
   "outputs": [
    {
     "data": {
      "text/html": [
       "<div>\n",
       "<style scoped>\n",
       "    .dataframe tbody tr th:only-of-type {\n",
       "        vertical-align: middle;\n",
       "    }\n",
       "\n",
       "    .dataframe tbody tr th {\n",
       "        vertical-align: top;\n",
       "    }\n",
       "\n",
       "    .dataframe thead th {\n",
       "        text-align: right;\n",
       "    }\n",
       "</style>\n",
       "<table border=\"1\" class=\"dataframe\">\n",
       "  <thead>\n",
       "    <tr style=\"text-align: right;\">\n",
       "      <th></th>\n",
       "      <th>accuracy</th>\n",
       "      <th>balanced accuracy</th>\n",
       "      <th>f1</th>\n",
       "      <th>precision</th>\n",
       "      <th>false positive rate</th>\n",
       "      <th>false negative rate</th>\n",
       "      <th>selection rate</th>\n",
       "      <th>count</th>\n",
       "    </tr>\n",
       "    <tr>\n",
       "      <th>majmin</th>\n",
       "      <th></th>\n",
       "      <th></th>\n",
       "      <th></th>\n",
       "      <th></th>\n",
       "      <th></th>\n",
       "      <th></th>\n",
       "      <th></th>\n",
       "      <th></th>\n",
       "    </tr>\n",
       "  </thead>\n",
       "  <tbody>\n",
       "    <tr>\n",
       "      <th>majority</th>\n",
       "      <td>0.238948</td>\n",
       "      <td>0.548365</td>\n",
       "      <td>0.251755</td>\n",
       "      <td>0.144673</td>\n",
       "      <td>0.872197</td>\n",
       "      <td>0.031072</td>\n",
       "      <td>0.884979</td>\n",
       "      <td>69170.0</td>\n",
       "    </tr>\n",
       "    <tr>\n",
       "      <th>minority</th>\n",
       "      <td>0.154090</td>\n",
       "      <td>0.515686</td>\n",
       "      <td>0.211768</td>\n",
       "      <td>0.118628</td>\n",
       "      <td>0.954270</td>\n",
       "      <td>0.014358</td>\n",
       "      <td>0.957887</td>\n",
       "      <td>20540.0</td>\n",
       "    </tr>\n",
       "  </tbody>\n",
       "</table>\n",
       "</div>"
      ],
      "text/plain": [
       "          accuracy  balanced accuracy        f1  precision  \\\n",
       "majmin                                                       \n",
       "majority  0.238948           0.548365  0.251755   0.144673   \n",
       "minority  0.154090           0.515686  0.211768   0.118628   \n",
       "\n",
       "          false positive rate  false negative rate  selection rate    count  \n",
       "majmin                                                                       \n",
       "majority             0.872197             0.031072        0.884979  69170.0  \n",
       "minority             0.954270             0.014358        0.957887  20540.0  "
      ]
     },
     "execution_count": 60,
     "metadata": {},
     "output_type": "execute_result"
    }
   ],
   "source": [
    "metric_frame.by_group"
   ]
  },
  {
   "cell_type": "code",
   "execution_count": 61,
   "id": "6e6c20ae",
   "metadata": {
    "execution": {
     "iopub.execute_input": "2025-08-19T18:51:52.831269Z",
     "iopub.status.busy": "2025-08-19T18:51:52.830826Z",
     "iopub.status.idle": "2025-08-19T18:51:54.669246Z",
     "shell.execute_reply": "2025-08-19T18:51:54.668265Z"
    },
    "papermill": {
     "duration": 1.884781,
     "end_time": "2025-08-19T18:51:54.670588",
     "exception": false,
     "start_time": "2025-08-19T18:51:52.785807",
     "status": "completed"
    },
    "tags": []
   },
   "outputs": [
    {
     "data": {
      "text/plain": [
       "array([[<Axes: title={'center': 'accuracy'}, xlabel='majmin'>,\n",
       "        <Axes: title={'center': 'balanced accuracy'}, xlabel='majmin'>,\n",
       "        <Axes: title={'center': 'f1'}, xlabel='majmin'>],\n",
       "       [<Axes: title={'center': 'precision'}, xlabel='majmin'>,\n",
       "        <Axes: title={'center': 'false positive rate'}, xlabel='majmin'>,\n",
       "        <Axes: title={'center': 'false negative rate'}, xlabel='majmin'>],\n",
       "       [<Axes: title={'center': 'selection rate'}, xlabel='majmin'>,\n",
       "        <Axes: title={'center': 'count'}, xlabel='majmin'>,\n",
       "        <Axes: xlabel='majmin'>]], dtype=object)"
      ]
     },
     "execution_count": 61,
     "metadata": {},
     "output_type": "execute_result"
    },
    {
     "data": {
      "image/png": "[encoded data removed]",
      "text/plain": [
       "<Figure size 1200x800 with 9 Axes>"
      ]
     },
     "metadata": {},
     "output_type": "display_data"
    }
   ],
   "source": [
    "# In a graphic\n",
    "metric_frame.by_group.plot.bar(\n",
    "    subplots=True,\n",
    "    layout=[3, 3],\n",
    "    legend=False,\n",
    "    figsize=[12, 8],\n",
    "    title=\"Show all metrics\",\n",
    ")"
   ]
  },
  {
   "cell_type": "markdown",
   "id": "b2e433ae",
   "metadata": {
    "papermill": {
     "duration": 0.014738,
     "end_time": "2025-08-19T18:51:54.703493",
     "exception": false,
     "start_time": "2025-08-19T18:51:54.688755",
     "status": "completed"
    },
    "tags": []
   },
   "source": [
    "# Final Output"
   ]
  },
  {
   "cell_type": "code",
   "execution_count": 62,
   "id": "3871301e",
   "metadata": {
    "execution": {
     "iopub.execute_input": "2025-08-19T18:51:54.735439Z",
     "iopub.status.busy": "2025-08-19T18:51:54.734364Z",
     "iopub.status.idle": "2025-08-19T18:51:54.744168Z",
     "shell.execute_reply": "2025-08-19T18:51:54.743330Z"
    },
    "papermill": {
     "duration": 0.027171,
     "end_time": "2025-08-19T18:51:54.745456",
     "exception": false,
     "start_time": "2025-08-19T18:51:54.718285",
     "status": "completed"
    },
    "tags": []
   },
   "outputs": [
    {
     "data": {
      "text/plain": [
       "4"
      ]
     },
     "execution_count": 62,
     "metadata": {},
     "output_type": "execute_result"
    }
   ],
   "source": [
    "sub_universes = universe_analysis.generate_sub_universes()\n",
    "len(sub_universes)"
   ]
  },
  {
   "cell_type": "code",
   "execution_count": 63,
   "id": "d9cfdaca",
   "metadata": {
    "execution": {
     "iopub.execute_input": "2025-08-19T18:51:54.779347Z",
     "iopub.status.busy": "2025-08-19T18:51:54.778831Z",
     "iopub.status.idle": "2025-08-19T18:51:54.821300Z",
     "shell.execute_reply": "2025-08-19T18:51:54.820522Z"
    },
    "papermill": {
     "duration": 0.061575,
     "end_time": "2025-08-19T18:51:54.824160",
     "exception": false,
     "start_time": "2025-08-19T18:51:54.762585",
     "status": "completed"
    },
    "tags": []
   },
   "outputs": [],
   "source": [
    "def filter_sub_universe_data(sub_universe, org_test):\n",
    "    # Keep all rows — no filtering\n",
    "    keep_rows_mask = np.ones(org_test.shape[0], dtype=bool)\n",
    "\n",
    "    print(f\"[INFO] Keeping all rows: {keep_rows_mask.sum()} rows retained.\")\n",
    "    return keep_rows_mask"
   ]
  },
  {
   "cell_type": "code",
   "execution_count": 64,
   "id": "2bc31ac1",
   "metadata": {
    "execution": {
     "iopub.execute_input": "2025-08-19T18:51:54.880554Z",
     "iopub.status.busy": "2025-08-19T18:51:54.880039Z",
     "iopub.status.idle": "2025-08-19T18:52:01.443577Z",
     "shell.execute_reply": "2025-08-19T18:52:01.442596Z"
    },
    "papermill": {
     "duration": 6.584288,
     "end_time": "2025-08-19T18:52:01.446724",
     "exception": false,
     "start_time": "2025-08-19T18:51:54.862436",
     "status": "completed"
    },
    "tags": []
   },
   "outputs": [
    {
     "name": "stdout",
     "output_type": "stream",
     "text": [
      "Stopping execution_time clock.\n",
      "[INFO] Keeping all rows: 89710 rows retained.\n"
     ]
    },
    {
     "name": "stdout",
     "output_type": "stream",
     "text": [
      "[INFO] Keeping all rows: 89710 rows retained.\n"
     ]
    },
    {
     "name": "stdout",
     "output_type": "stream",
     "text": [
      "[INFO] Keeping all rows: 89710 rows retained.\n"
     ]
    },
    {
     "name": "stdout",
     "output_type": "stream",
     "text": [
      "[INFO] Keeping all rows: 89710 rows retained.\n"
     ]
    },
    {
     "data": {
      "text/html": [
       "<div>\n",
       "<style scoped>\n",
       "    .dataframe tbody tr th:only-of-type {\n",
       "        vertical-align: middle;\n",
       "    }\n",
       "\n",
       "    .dataframe tbody tr th {\n",
       "        vertical-align: top;\n",
       "    }\n",
       "\n",
       "    .dataframe thead th {\n",
       "        text-align: right;\n",
       "    }\n",
       "</style>\n",
       "<table border=\"1\" class=\"dataframe\">\n",
       "  <thead>\n",
       "    <tr style=\"text-align: right;\">\n",
       "      <th></th>\n",
       "      <th>run_no</th>\n",
       "      <th>universe_id</th>\n",
       "      <th>universe_settings</th>\n",
       "      <th>execution_time</th>\n",
       "      <th>test_size_n</th>\n",
       "      <th>test_size_frac</th>\n",
       "      <th>fair_main_equalized_odds_difference</th>\n",
       "      <th>fair_main_equalized_odds_ratio</th>\n",
       "      <th>fair_main_demographic_parity_difference</th>\n",
       "      <th>fair_main_demographic_parity_ratio</th>\n",
       "      <th>...</th>\n",
       "      <th>perf_grp_precision_0</th>\n",
       "      <th>perf_grp_precision_1</th>\n",
       "      <th>perf_grp_false positive rate_0</th>\n",
       "      <th>perf_grp_false positive rate_1</th>\n",
       "      <th>perf_grp_false negative rate_0</th>\n",
       "      <th>perf_grp_false negative rate_1</th>\n",
       "      <th>perf_grp_selection rate_0</th>\n",
       "      <th>perf_grp_selection rate_1</th>\n",
       "      <th>perf_grp_count_0</th>\n",
       "      <th>perf_grp_count_1</th>\n",
       "    </tr>\n",
       "  </thead>\n",
       "  <tbody>\n",
       "    <tr>\n",
       "      <th>0</th>\n",
       "      <td>3</td>\n",
       "      <td>afde5d914a9e6a6dc266a402718a266a</td>\n",
       "      <td>{\"cutoff\": \"quantile_0.1\", \"eval_fairness_grou...</td>\n",
       "      <td>23.28424</td>\n",
       "      <td>89710</td>\n",
       "      <td>1.0</td>\n",
       "      <td>0.082073</td>\n",
       "      <td>0.913994</td>\n",
       "      <td>0.072908</td>\n",
       "      <td>0.923887</td>\n",
       "      <td>...</td>\n",
       "      <td>NaN</td>\n",
       "      <td>NaN</td>\n",
       "      <td>NaN</td>\n",
       "      <td>NaN</td>\n",
       "      <td>NaN</td>\n",
       "      <td>NaN</td>\n",
       "      <td>NaN</td>\n",
       "      <td>NaN</td>\n",
       "      <td>NaN</td>\n",
       "      <td>NaN</td>\n",
       "    </tr>\n",
       "    <tr>\n",
       "      <th>0</th>\n",
       "      <td>3</td>\n",
       "      <td>afde5d914a9e6a6dc266a402718a266a</td>\n",
       "      <td>{\"cutoff\": \"quantile_0.1\", \"eval_fairness_grou...</td>\n",
       "      <td>23.28424</td>\n",
       "      <td>89710</td>\n",
       "      <td>1.0</td>\n",
       "      <td>0.082073</td>\n",
       "      <td>0.913994</td>\n",
       "      <td>0.072908</td>\n",
       "      <td>0.923887</td>\n",
       "      <td>...</td>\n",
       "      <td>0.118628</td>\n",
       "      <td>0.144673</td>\n",
       "      <td>0.954270</td>\n",
       "      <td>0.872197</td>\n",
       "      <td>0.014358</td>\n",
       "      <td>0.031072</td>\n",
       "      <td>0.957887</td>\n",
       "      <td>0.884979</td>\n",
       "      <td>20540.0</td>\n",
       "      <td>69170.0</td>\n",
       "    </tr>\n",
       "    <tr>\n",
       "      <th>0</th>\n",
       "      <td>3</td>\n",
       "      <td>afde5d914a9e6a6dc266a402718a266a</td>\n",
       "      <td>{\"cutoff\": \"quantile_0.25\", \"eval_fairness_gro...</td>\n",
       "      <td>23.28424</td>\n",
       "      <td>89710</td>\n",
       "      <td>1.0</td>\n",
       "      <td>0.177563</td>\n",
       "      <td>0.794401</td>\n",
       "      <td>0.158372</td>\n",
       "      <td>0.818656</td>\n",
       "      <td>...</td>\n",
       "      <td>NaN</td>\n",
       "      <td>NaN</td>\n",
       "      <td>NaN</td>\n",
       "      <td>NaN</td>\n",
       "      <td>NaN</td>\n",
       "      <td>NaN</td>\n",
       "      <td>NaN</td>\n",
       "      <td>NaN</td>\n",
       "      <td>NaN</td>\n",
       "      <td>NaN</td>\n",
       "    </tr>\n",
       "    <tr>\n",
       "      <th>0</th>\n",
       "      <td>3</td>\n",
       "      <td>afde5d914a9e6a6dc266a402718a266a</td>\n",
       "      <td>{\"cutoff\": \"quantile_0.25\", \"eval_fairness_gro...</td>\n",
       "      <td>23.28424</td>\n",
       "      <td>89710</td>\n",
       "      <td>1.0</td>\n",
       "      <td>0.177563</td>\n",
       "      <td>0.794401</td>\n",
       "      <td>0.158372</td>\n",
       "      <td>0.818656</td>\n",
       "      <td>...</td>\n",
       "      <td>0.125098</td>\n",
       "      <td>0.167189</td>\n",
       "      <td>0.863636</td>\n",
       "      <td>0.686074</td>\n",
       "      <td>0.052365</td>\n",
       "      <td>0.095405</td>\n",
       "      <td>0.873320</td>\n",
       "      <td>0.714949</td>\n",
       "      <td>20540.0</td>\n",
       "      <td>69170.0</td>\n",
       "    </tr>\n",
       "  </tbody>\n",
       "</table>\n",
       "<p>4 rows × 50 columns</p>\n",
       "</div>"
      ],
      "text/plain": [
       "  run_no                       universe_id  \\\n",
       "0      3  afde5d914a9e6a6dc266a402718a266a   \n",
       "0      3  afde5d914a9e6a6dc266a402718a266a   \n",
       "0      3  afde5d914a9e6a6dc266a402718a266a   \n",
       "0      3  afde5d914a9e6a6dc266a402718a266a   \n",
       "\n",
       "                                   universe_settings  execution_time  \\\n",
       "0  {\"cutoff\": \"quantile_0.1\", \"eval_fairness_grou...        23.28424   \n",
       "0  {\"cutoff\": \"quantile_0.1\", \"eval_fairness_grou...        23.28424   \n",
       "0  {\"cutoff\": \"quantile_0.25\", \"eval_fairness_gro...        23.28424   \n",
       "0  {\"cutoff\": \"quantile_0.25\", \"eval_fairness_gro...        23.28424   \n",
       "\n",
       "   test_size_n  test_size_frac  fair_main_equalized_odds_difference  \\\n",
       "0        89710             1.0                             0.082073   \n",
       "0        89710             1.0                             0.082073   \n",
       "0        89710             1.0                             0.177563   \n",
       "0        89710             1.0                             0.177563   \n",
       "\n",
       "   fair_main_equalized_odds_ratio  fair_main_demographic_parity_difference  \\\n",
       "0                        0.913994                                 0.072908   \n",
       "0                        0.913994                                 0.072908   \n",
       "0                        0.794401                                 0.158372   \n",
       "0                        0.794401                                 0.158372   \n",
       "\n",
       "   fair_main_demographic_parity_ratio  ...  perf_grp_precision_0  \\\n",
       "0                            0.923887  ...                   NaN   \n",
       "0                            0.923887  ...              0.118628   \n",
       "0                            0.818656  ...                   NaN   \n",
       "0                            0.818656  ...              0.125098   \n",
       "\n",
       "   perf_grp_precision_1  perf_grp_false positive rate_0  \\\n",
       "0                   NaN                             NaN   \n",
       "0              0.144673                        0.954270   \n",
       "0                   NaN                             NaN   \n",
       "0              0.167189                        0.863636   \n",
       "\n",
       "   perf_grp_false positive rate_1  perf_grp_false negative rate_0  \\\n",
       "0                             NaN                             NaN   \n",
       "0                        0.872197                        0.014358   \n",
       "0                             NaN                             NaN   \n",
       "0                        0.686074                        0.052365   \n",
       "\n",
       "   perf_grp_false negative rate_1  perf_grp_selection rate_0  \\\n",
       "0                             NaN                        NaN   \n",
       "0                        0.031072                   0.957887   \n",
       "0                             NaN                        NaN   \n",
       "0                        0.095405                   0.873320   \n",
       "\n",
       "   perf_grp_selection rate_1  perf_grp_count_0  perf_grp_count_1  \n",
       "0                        NaN               NaN               NaN  \n",
       "0                   0.884979           20540.0           69170.0  \n",
       "0                        NaN               NaN               NaN  \n",
       "0                   0.714949           20540.0           69170.0  \n",
       "\n",
       "[4 rows x 50 columns]"
      ]
     },
     "execution_count": 64,
     "metadata": {},
     "output_type": "execute_result"
    }
   ],
   "source": [
    "final_output = universe_analysis.generate_final_output(\n",
    "    y_pred_prob=probs_test,\n",
    "    y_test=y_true,\n",
    "    org_test=org_test,\n",
    "    filter_data=filter_sub_universe_data,\n",
    "    cp_metrics_df=cp_metrics_df,\n",
    "    save=True,\n",
    ")\n",
    "final_output"
   ]
  },
  {
   "cell_type": "code",
   "execution_count": null,
   "id": "8b80a1ff",
   "metadata": {
    "papermill": {
     "duration": 0.018133,
     "end_time": "2025-08-19T18:52:01.498674",
     "exception": false,
     "start_time": "2025-08-19T18:52:01.480541",
     "status": "completed"
    },
    "tags": []
   },
   "outputs": [],
   "source": []
  },
  {
   "cell_type": "code",
   "execution_count": null,
   "id": "275c9fad",
   "metadata": {
    "papermill": {
     "duration": 0.014899,
     "end_time": "2025-08-19T18:52:01.528061",
     "exception": false,
     "start_time": "2025-08-19T18:52:01.513162",
     "status": "completed"
    },
    "tags": []
   },
   "outputs": [],
   "source": []
  }
 ],
 "metadata": {
  "celltoolbar": "Tags",
  "kernelspec": {
   "display_name": "Python (CMA Fairness)",
   "language": "python",
   "name": "cma_fair_env"
  },
  "language_info": {
   "codemirror_mode": {
    "name": "ipython",
    "version": 3
   },
   "file_extension": ".py",
   "mimetype": "text/x-python",
   "name": "python",
   "nbconvert_exporter": "python",
   "pygments_lexer": "ipython3",
   "version": "3.10.12"
  },
  "papermill": {
   "default_parameters": {},
   "duration": 33.440246,
   "end_time": "2025-08-19T18:52:02.468163",
   "environment_variables": {},
   "exception": null,
   "input_path": "universe_analysis.ipynb",
   "output_path": "output/runs/3/notebooks/m_3-afde5d914a9e6a6dc266a402718a266a.ipynb",
   "parameters": {
    "output_dir": "output",
    "run_no": "3",
    "seed": "2023",
    "universe": "{\"cutoff\": [\"quantile_0.1\", \"quantile_0.25\"], \"eval_fairness_grouping\": [\"majority-minority\", \"nationality-all\"], \"exclude_features\": \"nationality-sex\", \"exclude_subgroups\": \"drop-non-german\", \"model\": \"gbm\", \"scale\": \"scale\", \"training_size\": \"1k\", \"training_year\": \"2014\"}",
    "universe_id": "afde5d914a9e6a6dc266a402718a266a"
   },
   "start_time": "2025-08-19T18:51:29.027917",
   "version": "2.6.0"
  }
 },
 "nbformat": 4,
 "nbformat_minor": 5
}