{
 "cells": [
  {
   "cell_type": "markdown",
   "id": "ef23dbb3",
   "metadata": {
    "papermill": {
     "duration": 0.009059,
     "end_time": "2025-08-19T18:40:26.509863",
     "exception": false,
     "start_time": "2025-08-19T18:40:26.500804",
     "status": "completed"
    },
    "tags": []
   },
   "source": [
    "# Setup"
   ]
  },
  {
   "cell_type": "code",
   "execution_count": 1,
   "id": "0bc8e7dc",
   "metadata": {
    "execution": {
     "iopub.execute_input": "2025-08-19T18:40:26.528414Z",
     "iopub.status.busy": "2025-08-19T18:40:26.527932Z",
     "iopub.status.idle": "2025-08-19T18:40:26.537298Z",
     "shell.execute_reply": "2025-08-19T18:40:26.536727Z"
    },
    "papermill": {
     "duration": 0.020162,
     "end_time": "2025-08-19T18:40:26.538549",
     "exception": false,
     "start_time": "2025-08-19T18:40:26.518387",
     "status": "completed"
    },
    "tags": []
   },
   "outputs": [
    {
     "name": "stdout",
     "output_type": "stream",
     "text": [
      "/dss/dsshome1/0C/ra93lal2/cma/CMA_Fairness_v2\n"
     ]
    },
    {
     "name": "stderr",
     "output_type": "stream",
     "text": [
      "/dss/dsshome1/0C/ra93lal2/.local/share/virtualenvs/CMA_Fairness_v2-3j10GkSs/lib/python3.10/site-packages/IPython/core/magics/osm.py:393: UserWarning: This is now an optional IPython functionality, using bookmarks requires you to install the `pickleshare` library.\n",
      "  bkms = self.shell.db.get('bookmarks', {})\n",
      "/dss/dsshome1/0C/ra93lal2/.local/share/virtualenvs/CMA_Fairness_v2-3j10GkSs/lib/python3.10/site-packages/IPython/core/magics/osm.py:417: UserWarning: This is now an optional IPython functionality, setting dhist requires you to install the `pickleshare` library.\n",
      "  self.shell.db['dhist'] = compress_dhist(dhist)[-100:]\n"
     ]
    }
   ],
   "source": [
    "%cd ~/cma/CMA_Fairness_v2"
   ]
  },
  {
   "cell_type": "markdown",
   "id": "9d235661",
   "metadata": {
    "papermill": {
     "duration": 0.009132,
     "end_time": "2025-08-19T18:40:26.556541",
     "exception": false,
     "start_time": "2025-08-19T18:40:26.547409",
     "status": "completed"
    },
    "tags": []
   },
   "source": [
    "The following cell holds the definition of our parameters, these values can be overriden by rendering the with e.g. the following command:\n",
    "\n",
    "papermill -p alpha 0.2 -p ratio 0.3 universe_analysis.ipynb output/test_run.ipynb"
   ]
  },
  {
   "cell_type": "code",
   "execution_count": 2,
   "id": "4a789d8e",
   "metadata": {
    "execution": {
     "iopub.execute_input": "2025-08-19T18:40:26.575435Z",
     "iopub.status.busy": "2025-08-19T18:40:26.574847Z",
     "iopub.status.idle": "2025-08-19T18:40:26.580148Z",
     "shell.execute_reply": "2025-08-19T18:40:26.579303Z"
    },
    "papermill": {
     "duration": 0.016428,
     "end_time": "2025-08-19T18:40:26.581656",
     "exception": false,
     "start_time": "2025-08-19T18:40:26.565228",
     "status": "completed"
    },
    "tags": []
   },
   "outputs": [
    {
     "name": "stdout",
     "output_type": "stream",
     "text": [
      "Current working directory: /dss/dsshome1/0C/ra93lal2/cma/CMA_Fairness_v2\n"
     ]
    }
   ],
   "source": [
    "import os\n",
    "print(\"Current working directory:\", os.getcwd())"
   ]
  },
  {
   "cell_type": "code",
   "execution_count": 3,
   "id": "4132aaed",
   "metadata": {
    "execution": {
     "iopub.execute_input": "2025-08-19T18:40:26.623406Z",
     "iopub.status.busy": "2025-08-19T18:40:26.622117Z",
     "iopub.status.idle": "2025-08-19T18:40:26.628816Z",
     "shell.execute_reply": "2025-08-19T18:40:26.628009Z"
    },
    "papermill": {
     "duration": 0.040086,
     "end_time": "2025-08-19T18:40:26.630749",
     "exception": false,
     "start_time": "2025-08-19T18:40:26.590663",
     "status": "completed"
    },
    "tags": [
     "parameters"
    ]
   },
   "outputs": [],
   "source": [
    "run_no = 0\n",
    "universe_id = \"test\"\n",
    "universe = {\n",
    "    \"training_size\": \"5k\", # \"25k\", \"5k\", \"1k\"\n",
    "    \"training_year\": \"2012_14\", # \"2014\", \"2012_14\", \"2010_14\"\n",
    "    \"scale\": \"scale\", # \"scale\", \"do-not-scale\",\n",
    "    \"model\": \"elasticnet\", # \"logreg\", \"penalized_logreg\", \"rf\", \"gbm\", \"elasticnet\"\n",
    "    \"cutoff\": [\"quantile_0.15\", \"quantile_0.30\"],\n",
    "    \"exclude_features\": \"age\", # \"none\", \"nationality\", \"sex\", \"nationality-sex\", \"age\"\n",
    "    \"exclude_subgroups\": \"drop-non-german\", # \"keep-all\", \"drop-non-german\"\n",
    "    \"eval_fairness_grouping\": [\"majority-minority\", \"nationality-all\"]\n",
    "}\n",
    "\n",
    "output_dir=\"./output\"\n",
    "seed=0"
   ]
  },
  {
   "cell_type": "code",
   "execution_count": 4,
   "id": "030ca7a4",
   "metadata": {
    "execution": {
     "iopub.execute_input": "2025-08-19T18:40:26.673865Z",
     "iopub.status.busy": "2025-08-19T18:40:26.673631Z",
     "iopub.status.idle": "2025-08-19T18:40:26.677852Z",
     "shell.execute_reply": "2025-08-19T18:40:26.677278Z"
    },
    "papermill": {
     "duration": 0.026125,
     "end_time": "2025-08-19T18:40:26.678922",
     "exception": false,
     "start_time": "2025-08-19T18:40:26.652797",
     "status": "completed"
    },
    "tags": [
     "injected-parameters"
    ]
   },
   "outputs": [],
   "source": [
    "# Parameters\n",
    "universe_id = \"fafcdeac82718fb37b9cf4599d49c6f6\"\n",
    "run_no = \"3\"\n",
    "universe = \"{\\\"cutoff\\\": [\\\"quantile_0.1\\\", \\\"quantile_0.25\\\"], \\\"eval_fairness_grouping\\\": [\\\"majority-minority\\\", \\\"nationality-all\\\"], \\\"exclude_features\\\": \\\"nationality-sex\\\", \\\"exclude_subgroups\\\": \\\"drop-non-german\\\", \\\"model\\\": \\\"logreg\\\", \\\"scale\\\": \\\"scale\\\", \\\"training_size\\\": \\\"5k\\\", \\\"training_year\\\": \\\"2010_14\\\"}\"\n",
    "output_dir = \"output\"\n",
    "seed = \"2023\"\n"
   ]
  },
  {
   "cell_type": "code",
   "execution_count": 5,
   "id": "a5d7941f",
   "metadata": {
    "execution": {
     "iopub.execute_input": "2025-08-19T18:40:26.713861Z",
     "iopub.status.busy": "2025-08-19T18:40:26.713626Z",
     "iopub.status.idle": "2025-08-19T18:40:26.718552Z",
     "shell.execute_reply": "2025-08-19T18:40:26.717848Z"
    },
    "papermill": {
     "duration": 0.030082,
     "end_time": "2025-08-19T18:40:26.719641",
     "exception": false,
     "start_time": "2025-08-19T18:40:26.689559",
     "status": "completed"
    },
    "tags": []
   },
   "outputs": [],
   "source": [
    "import json\n",
    "if isinstance(universe, str):\n",
    "    universe = json.loads(universe)"
   ]
  },
  {
   "cell_type": "code",
   "execution_count": 6,
   "id": "7076ccb1",
   "metadata": {
    "execution": {
     "iopub.execute_input": "2025-08-19T18:40:26.740972Z",
     "iopub.status.busy": "2025-08-19T18:40:26.740594Z",
     "iopub.status.idle": "2025-08-19T18:40:26.838786Z",
     "shell.execute_reply": "2025-08-19T18:40:26.838060Z"
    },
    "papermill": {
     "duration": 0.109287,
     "end_time": "2025-08-19T18:40:26.840331",
     "exception": false,
     "start_time": "2025-08-19T18:40:26.731044",
     "status": "completed"
    },
    "tags": []
   },
   "outputs": [],
   "source": [
    "# Auto-reload the custom package\n",
    "%load_ext autoreload\n",
    "%autoreload 1\n",
    "%aimport fairness_multiverse"
   ]
  },
  {
   "cell_type": "code",
   "execution_count": 7,
   "id": "94c8eb93",
   "metadata": {
    "execution": {
     "iopub.execute_input": "2025-08-19T18:40:26.871004Z",
     "iopub.status.busy": "2025-08-19T18:40:26.870568Z",
     "iopub.status.idle": "2025-08-19T18:40:29.363388Z",
     "shell.execute_reply": "2025-08-19T18:40:29.362554Z"
    },
    "papermill": {
     "duration": 2.504195,
     "end_time": "2025-08-19T18:40:29.365037",
     "exception": false,
     "start_time": "2025-08-19T18:40:26.860842",
     "status": "completed"
    },
    "tags": []
   },
   "outputs": [],
   "source": [
    "from fairness_multiverse.universe import UniverseAnalysis\n",
    "\n",
    "universe_analysis = UniverseAnalysis(\n",
    "    run_no = run_no,\n",
    "    universe_id = universe_id,\n",
    "    universe = universe,\n",
    "    output_dir=output_dir,\n",
    ")"
   ]
  },
  {
   "cell_type": "code",
   "execution_count": 8,
   "id": "2a6381cf",
   "metadata": {
    "execution": {
     "iopub.execute_input": "2025-08-19T18:40:29.390366Z",
     "iopub.status.busy": "2025-08-19T18:40:29.389843Z",
     "iopub.status.idle": "2025-08-19T18:40:29.395493Z",
     "shell.execute_reply": "2025-08-19T18:40:29.394821Z"
    },
    "papermill": {
     "duration": 0.019853,
     "end_time": "2025-08-19T18:40:29.396816",
     "exception": false,
     "start_time": "2025-08-19T18:40:29.376963",
     "status": "completed"
    },
    "tags": []
   },
   "outputs": [
    {
     "name": "stdout",
     "output_type": "stream",
     "text": [
      "Using Seed: 2023\n"
     ]
    }
   ],
   "source": [
    "import numpy as np\n",
    "parsed_seed = int(seed)\n",
    "np.random.seed(parsed_seed)\n",
    "print(f\"Using Seed: {parsed_seed}\")"
   ]
  },
  {
   "cell_type": "markdown",
   "id": "b6e958b4",
   "metadata": {
    "papermill": {
     "duration": 0.008848,
     "end_time": "2025-08-19T18:40:29.414805",
     "exception": false,
     "start_time": "2025-08-19T18:40:29.405957",
     "status": "completed"
    },
    "tags": []
   },
   "source": [
    "# Loading Data"
   ]
  },
  {
   "cell_type": "code",
   "execution_count": 9,
   "id": "98701482",
   "metadata": {
    "execution": {
     "iopub.execute_input": "2025-08-19T18:40:29.434248Z",
     "iopub.status.busy": "2025-08-19T18:40:29.433763Z",
     "iopub.status.idle": "2025-08-19T18:40:42.926225Z",
     "shell.execute_reply": "2025-08-19T18:40:42.925193Z"
    },
    "papermill": {
     "duration": 13.50391,
     "end_time": "2025-08-19T18:40:42.927722",
     "exception": false,
     "start_time": "2025-08-19T18:40:29.423812",
     "status": "completed"
    },
    "tags": []
   },
   "outputs": [
    {
     "name": "stdout",
     "output_type": "stream",
     "text": [
      "Loading SIAB data from cache: data/siab_cached.csv.gz\n"
     ]
    },
    {
     "name": "stdout",
     "output_type": "stream",
     "text": [
      "(643690, 164)\n"
     ]
    }
   ],
   "source": [
    "from pathlib import Path\n",
    "import pandas as pd\n",
    "\n",
    "# File paths\n",
    "raw_file = Path(\"data/raw/siab.csv\")\n",
    "cache_file = Path(\"data/siab_cached.csv.gz\")\n",
    "\n",
    "# Ensure cache directory exists\n",
    "cache_file.parent.mkdir(parents=True, exist_ok=True)\n",
    "\n",
    "# Load with simple caching\n",
    "if cache_file.exists():\n",
    "    print(f\"Loading SIAB data from cache: {cache_file}\")\n",
    "    siab = pd.read_csv(cache_file, compression='gzip')\n",
    "else:\n",
    "    print(f\"Cache not found. Reading raw SIAB data: {raw_file}\")\n",
    "    siab = pd.read_csv(raw_file)\n",
    "    siab.to_csv(cache_file, index=False, compression='gzip')\n",
    "    print(f\"Cached SIAB data to: {cache_file}\")\n",
    "\n",
    "print(siab.shape)"
   ]
  },
  {
   "cell_type": "code",
   "execution_count": 10,
   "id": "058d2abb",
   "metadata": {
    "execution": {
     "iopub.execute_input": "2025-08-19T18:40:42.965329Z",
     "iopub.status.busy": "2025-08-19T18:40:42.964776Z",
     "iopub.status.idle": "2025-08-19T18:40:43.163803Z",
     "shell.execute_reply": "2025-08-19T18:40:43.163076Z"
    },
    "papermill": {
     "duration": 0.219667,
     "end_time": "2025-08-19T18:40:43.165519",
     "exception": false,
     "start_time": "2025-08-19T18:40:42.945852",
     "status": "completed"
    },
    "tags": []
   },
   "outputs": [
    {
     "data": {
      "text/html": [
       "<div>\n",
       "<style scoped>\n",
       "    .dataframe tbody tr th:only-of-type {\n",
       "        vertical-align: middle;\n",
       "    }\n",
       "\n",
       "    .dataframe tbody tr th {\n",
       "        vertical-align: top;\n",
       "    }\n",
       "\n",
       "    .dataframe thead th {\n",
       "        text-align: right;\n",
       "    }\n",
       "</style>\n",
       "<table border=\"1\" class=\"dataframe\">\n",
       "  <thead>\n",
       "    <tr style=\"text-align: right;\">\n",
       "      <th></th>\n",
       "      <th>persnr</th>\n",
       "      <th>year</th>\n",
       "      <th>nrEntry</th>\n",
       "      <th>ltue</th>\n",
       "      <th>employed_before</th>\n",
       "      <th>receipt_leh_before</th>\n",
       "      <th>receipt_lhg_before</th>\n",
       "      <th>se_before</th>\n",
       "      <th>ASU_notue_seeking_before</th>\n",
       "      <th>ASU_other_before</th>\n",
       "      <th>...</th>\n",
       "      <th>minijob_tot_dur_byage</th>\n",
       "      <th>ft_tot_dur_byage</th>\n",
       "      <th>befrist_tot_dur_byage</th>\n",
       "      <th>leih_tot_dur_byage</th>\n",
       "      <th>LHG_tot_dur_byage</th>\n",
       "      <th>LEH_tot_dur_byage</th>\n",
       "      <th>almp_tot_dur_byage</th>\n",
       "      <th>almp_aw_tot_dur_byage</th>\n",
       "      <th>se_tot_dur_byage</th>\n",
       "      <th>seeking1_tot_dur_byage</th>\n",
       "    </tr>\n",
       "  </thead>\n",
       "  <tbody>\n",
       "    <tr>\n",
       "      <th>0</th>\n",
       "      <td>7</td>\n",
       "      <td>2015</td>\n",
       "      <td>1</td>\n",
       "      <td>0</td>\n",
       "      <td>1</td>\n",
       "      <td>0</td>\n",
       "      <td>0</td>\n",
       "      <td>0</td>\n",
       "      <td>1</td>\n",
       "      <td>0</td>\n",
       "      <td>...</td>\n",
       "      <td>0.000000</td>\n",
       "      <td>0.000000</td>\n",
       "      <td>15.043478</td>\n",
       "      <td>0.000000</td>\n",
       "      <td>0.000000</td>\n",
       "      <td>0.000000</td>\n",
       "      <td>0.000000</td>\n",
       "      <td>0.000000</td>\n",
       "      <td>0.000000</td>\n",
       "      <td>0.000000</td>\n",
       "    </tr>\n",
       "    <tr>\n",
       "      <th>1</th>\n",
       "      <td>18</td>\n",
       "      <td>2010</td>\n",
       "      <td>1</td>\n",
       "      <td>1</td>\n",
       "      <td>0</td>\n",
       "      <td>0</td>\n",
       "      <td>0</td>\n",
       "      <td>0</td>\n",
       "      <td>0</td>\n",
       "      <td>0</td>\n",
       "      <td>...</td>\n",
       "      <td>0.000000</td>\n",
       "      <td>0.000000</td>\n",
       "      <td>0.000000</td>\n",
       "      <td>0.000000</td>\n",
       "      <td>0.000000</td>\n",
       "      <td>0.000000</td>\n",
       "      <td>0.000000</td>\n",
       "      <td>0.000000</td>\n",
       "      <td>0.000000</td>\n",
       "      <td>0.000000</td>\n",
       "    </tr>\n",
       "    <tr>\n",
       "      <th>2</th>\n",
       "      <td>18</td>\n",
       "      <td>2011</td>\n",
       "      <td>2</td>\n",
       "      <td>0</td>\n",
       "      <td>1</td>\n",
       "      <td>0</td>\n",
       "      <td>1</td>\n",
       "      <td>0</td>\n",
       "      <td>1</td>\n",
       "      <td>0</td>\n",
       "      <td>...</td>\n",
       "      <td>2.714286</td>\n",
       "      <td>2.714286</td>\n",
       "      <td>0.000000</td>\n",
       "      <td>0.000000</td>\n",
       "      <td>10.775510</td>\n",
       "      <td>0.000000</td>\n",
       "      <td>8.367347</td>\n",
       "      <td>0.000000</td>\n",
       "      <td>0.000000</td>\n",
       "      <td>9.836735</td>\n",
       "    </tr>\n",
       "    <tr>\n",
       "      <th>3</th>\n",
       "      <td>18</td>\n",
       "      <td>2012</td>\n",
       "      <td>3</td>\n",
       "      <td>0</td>\n",
       "      <td>1</td>\n",
       "      <td>0</td>\n",
       "      <td>1</td>\n",
       "      <td>0</td>\n",
       "      <td>1</td>\n",
       "      <td>0</td>\n",
       "      <td>...</td>\n",
       "      <td>4.200000</td>\n",
       "      <td>4.200000</td>\n",
       "      <td>0.000000</td>\n",
       "      <td>0.000000</td>\n",
       "      <td>12.100000</td>\n",
       "      <td>0.000000</td>\n",
       "      <td>9.400000</td>\n",
       "      <td>0.000000</td>\n",
       "      <td>0.000000</td>\n",
       "      <td>9.960000</td>\n",
       "    </tr>\n",
       "    <tr>\n",
       "      <th>4</th>\n",
       "      <td>18</td>\n",
       "      <td>2012</td>\n",
       "      <td>4</td>\n",
       "      <td>0</td>\n",
       "      <td>1</td>\n",
       "      <td>0</td>\n",
       "      <td>1</td>\n",
       "      <td>0</td>\n",
       "      <td>1</td>\n",
       "      <td>0</td>\n",
       "      <td>...</td>\n",
       "      <td>5.460000</td>\n",
       "      <td>5.460000</td>\n",
       "      <td>0.000000</td>\n",
       "      <td>0.000000</td>\n",
       "      <td>13.360000</td>\n",
       "      <td>0.000000</td>\n",
       "      <td>10.320000</td>\n",
       "      <td>0.000000</td>\n",
       "      <td>0.000000</td>\n",
       "      <td>10.280000</td>\n",
       "    </tr>\n",
       "    <tr>\n",
       "      <th>...</th>\n",
       "      <td>...</td>\n",
       "      <td>...</td>\n",
       "      <td>...</td>\n",
       "      <td>...</td>\n",
       "      <td>...</td>\n",
       "      <td>...</td>\n",
       "      <td>...</td>\n",
       "      <td>...</td>\n",
       "      <td>...</td>\n",
       "      <td>...</td>\n",
       "      <td>...</td>\n",
       "      <td>...</td>\n",
       "      <td>...</td>\n",
       "      <td>...</td>\n",
       "      <td>...</td>\n",
       "      <td>...</td>\n",
       "      <td>...</td>\n",
       "      <td>...</td>\n",
       "      <td>...</td>\n",
       "      <td>...</td>\n",
       "      <td>...</td>\n",
       "    </tr>\n",
       "    <tr>\n",
       "      <th>643685</th>\n",
       "      <td>1827860</td>\n",
       "      <td>2013</td>\n",
       "      <td>1</td>\n",
       "      <td>0</td>\n",
       "      <td>0</td>\n",
       "      <td>0</td>\n",
       "      <td>1</td>\n",
       "      <td>0</td>\n",
       "      <td>0</td>\n",
       "      <td>1</td>\n",
       "      <td>...</td>\n",
       "      <td>0.000000</td>\n",
       "      <td>0.000000</td>\n",
       "      <td>0.000000</td>\n",
       "      <td>0.000000</td>\n",
       "      <td>0.612903</td>\n",
       "      <td>0.000000</td>\n",
       "      <td>0.000000</td>\n",
       "      <td>0.000000</td>\n",
       "      <td>0.000000</td>\n",
       "      <td>0.000000</td>\n",
       "    </tr>\n",
       "    <tr>\n",
       "      <th>643686</th>\n",
       "      <td>1827860</td>\n",
       "      <td>2015</td>\n",
       "      <td>2</td>\n",
       "      <td>1</td>\n",
       "      <td>0</td>\n",
       "      <td>0</td>\n",
       "      <td>1</td>\n",
       "      <td>0</td>\n",
       "      <td>1</td>\n",
       "      <td>0</td>\n",
       "      <td>...</td>\n",
       "      <td>0.000000</td>\n",
       "      <td>0.000000</td>\n",
       "      <td>0.212121</td>\n",
       "      <td>0.212121</td>\n",
       "      <td>17.363636</td>\n",
       "      <td>0.000000</td>\n",
       "      <td>8.909091</td>\n",
       "      <td>0.000000</td>\n",
       "      <td>0.000000</td>\n",
       "      <td>7.121212</td>\n",
       "    </tr>\n",
       "    <tr>\n",
       "      <th>643687</th>\n",
       "      <td>1827860</td>\n",
       "      <td>2016</td>\n",
       "      <td>3</td>\n",
       "      <td>1</td>\n",
       "      <td>0</td>\n",
       "      <td>0</td>\n",
       "      <td>1</td>\n",
       "      <td>1</td>\n",
       "      <td>0</td>\n",
       "      <td>1</td>\n",
       "      <td>...</td>\n",
       "      <td>0.000000</td>\n",
       "      <td>0.000000</td>\n",
       "      <td>0.294118</td>\n",
       "      <td>0.205882</td>\n",
       "      <td>34.705882</td>\n",
       "      <td>0.000000</td>\n",
       "      <td>10.352941</td>\n",
       "      <td>1.705882</td>\n",
       "      <td>1.705882</td>\n",
       "      <td>23.911765</td>\n",
       "    </tr>\n",
       "    <tr>\n",
       "      <th>643688</th>\n",
       "      <td>1827869</td>\n",
       "      <td>2013</td>\n",
       "      <td>1</td>\n",
       "      <td>1</td>\n",
       "      <td>1</td>\n",
       "      <td>0</td>\n",
       "      <td>0</td>\n",
       "      <td>0</td>\n",
       "      <td>1</td>\n",
       "      <td>0</td>\n",
       "      <td>...</td>\n",
       "      <td>0.000000</td>\n",
       "      <td>0.000000</td>\n",
       "      <td>0.000000</td>\n",
       "      <td>0.000000</td>\n",
       "      <td>0.000000</td>\n",
       "      <td>0.525424</td>\n",
       "      <td>0.000000</td>\n",
       "      <td>0.000000</td>\n",
       "      <td>0.000000</td>\n",
       "      <td>0.000000</td>\n",
       "    </tr>\n",
       "    <tr>\n",
       "      <th>643689</th>\n",
       "      <td>1827869</td>\n",
       "      <td>2014</td>\n",
       "      <td>2</td>\n",
       "      <td>0</td>\n",
       "      <td>0</td>\n",
       "      <td>1</td>\n",
       "      <td>0</td>\n",
       "      <td>0</td>\n",
       "      <td>1</td>\n",
       "      <td>0</td>\n",
       "      <td>...</td>\n",
       "      <td>0.000000</td>\n",
       "      <td>0.666667</td>\n",
       "      <td>0.666667</td>\n",
       "      <td>0.000000</td>\n",
       "      <td>0.000000</td>\n",
       "      <td>8.950000</td>\n",
       "      <td>1.033333</td>\n",
       "      <td>0.083333</td>\n",
       "      <td>0.083333</td>\n",
       "      <td>8.133333</td>\n",
       "    </tr>\n",
       "  </tbody>\n",
       "</table>\n",
       "<p>643690 rows × 164 columns</p>\n",
       "</div>"
      ],
      "text/plain": [
       "         persnr  year  nrEntry  ltue  employed_before  receipt_leh_before  \\\n",
       "0             7  2015        1     0                1                   0   \n",
       "1            18  2010        1     1                0                   0   \n",
       "2            18  2011        2     0                1                   0   \n",
       "3            18  2012        3     0                1                   0   \n",
       "4            18  2012        4     0                1                   0   \n",
       "...         ...   ...      ...   ...              ...                 ...   \n",
       "643685  1827860  2013        1     0                0                   0   \n",
       "643686  1827860  2015        2     1                0                   0   \n",
       "643687  1827860  2016        3     1                0                   0   \n",
       "643688  1827869  2013        1     1                1                   0   \n",
       "643689  1827869  2014        2     0                0                   1   \n",
       "\n",
       "        receipt_lhg_before  se_before  ASU_notue_seeking_before  \\\n",
       "0                        0          0                         1   \n",
       "1                        0          0                         0   \n",
       "2                        1          0                         1   \n",
       "3                        1          0                         1   \n",
       "4                        1          0                         1   \n",
       "...                    ...        ...                       ...   \n",
       "643685                   1          0                         0   \n",
       "643686                   1          0                         1   \n",
       "643687                   1          1                         0   \n",
       "643688                   0          0                         1   \n",
       "643689                   0          0                         1   \n",
       "\n",
       "        ASU_other_before  ...  minijob_tot_dur_byage  ft_tot_dur_byage  \\\n",
       "0                      0  ...               0.000000          0.000000   \n",
       "1                      0  ...               0.000000          0.000000   \n",
       "2                      0  ...               2.714286          2.714286   \n",
       "3                      0  ...               4.200000          4.200000   \n",
       "4                      0  ...               5.460000          5.460000   \n",
       "...                  ...  ...                    ...               ...   \n",
       "643685                 1  ...               0.000000          0.000000   \n",
       "643686                 0  ...               0.000000          0.000000   \n",
       "643687                 1  ...               0.000000          0.000000   \n",
       "643688                 0  ...               0.000000          0.000000   \n",
       "643689                 0  ...               0.000000          0.666667   \n",
       "\n",
       "        befrist_tot_dur_byage  leih_tot_dur_byage  LHG_tot_dur_byage  \\\n",
       "0                   15.043478            0.000000           0.000000   \n",
       "1                    0.000000            0.000000           0.000000   \n",
       "2                    0.000000            0.000000          10.775510   \n",
       "3                    0.000000            0.000000          12.100000   \n",
       "4                    0.000000            0.000000          13.360000   \n",
       "...                       ...                 ...                ...   \n",
       "643685               0.000000            0.000000           0.612903   \n",
       "643686               0.212121            0.212121          17.363636   \n",
       "643687               0.294118            0.205882          34.705882   \n",
       "643688               0.000000            0.000000           0.000000   \n",
       "643689               0.666667            0.000000           0.000000   \n",
       "\n",
       "        LEH_tot_dur_byage  almp_tot_dur_byage  almp_aw_tot_dur_byage  \\\n",
       "0                0.000000            0.000000               0.000000   \n",
       "1                0.000000            0.000000               0.000000   \n",
       "2                0.000000            8.367347               0.000000   \n",
       "3                0.000000            9.400000               0.000000   \n",
       "4                0.000000           10.320000               0.000000   \n",
       "...                   ...                 ...                    ...   \n",
       "643685           0.000000            0.000000               0.000000   \n",
       "643686           0.000000            8.909091               0.000000   \n",
       "643687           0.000000           10.352941               1.705882   \n",
       "643688           0.525424            0.000000               0.000000   \n",
       "643689           8.950000            1.033333               0.083333   \n",
       "\n",
       "        se_tot_dur_byage  seeking1_tot_dur_byage  \n",
       "0               0.000000                0.000000  \n",
       "1               0.000000                0.000000  \n",
       "2               0.000000                9.836735  \n",
       "3               0.000000                9.960000  \n",
       "4               0.000000               10.280000  \n",
       "...                  ...                     ...  \n",
       "643685          0.000000                0.000000  \n",
       "643686          0.000000                7.121212  \n",
       "643687          1.705882               23.911765  \n",
       "643688          0.000000                0.000000  \n",
       "643689          0.083333                8.133333  \n",
       "\n",
       "[643690 rows x 164 columns]"
      ]
     },
     "execution_count": 10,
     "metadata": {},
     "output_type": "execute_result"
    }
   ],
   "source": [
    "siab"
   ]
  },
  {
   "cell_type": "markdown",
   "id": "1f87e805",
   "metadata": {
    "papermill": {
     "duration": 0.009964,
     "end_time": "2025-08-19T18:40:43.185572",
     "exception": false,
     "start_time": "2025-08-19T18:40:43.175608",
     "status": "completed"
    },
    "tags": []
   },
   "source": [
    "# Splitting Data and Setting Training Data Size"
   ]
  },
  {
   "cell_type": "code",
   "execution_count": 11,
   "id": "910ae358",
   "metadata": {
    "execution": {
     "iopub.execute_input": "2025-08-19T18:40:43.212947Z",
     "iopub.status.busy": "2025-08-19T18:40:43.206753Z",
     "iopub.status.idle": "2025-08-19T18:40:44.834084Z",
     "shell.execute_reply": "2025-08-19T18:40:44.833382Z"
    },
    "papermill": {
     "duration": 1.63995,
     "end_time": "2025-08-19T18:40:44.835635",
     "exception": false,
     "start_time": "2025-08-19T18:40:43.195685",
     "status": "completed"
    },
    "tags": []
   },
   "outputs": [],
   "source": [
    "from fairness_multiverse.universe import sample_by_year_size\n",
    "\n",
    "siab_train = sample_by_year_size(siab,\n",
    "                               training_year=universe[\"training_year\"],\n",
    "                               training_size=universe[\"training_size\"])"
   ]
  },
  {
   "cell_type": "code",
   "execution_count": 12,
   "id": "919c8ff5",
   "metadata": {
    "execution": {
     "iopub.execute_input": "2025-08-19T18:40:44.878135Z",
     "iopub.status.busy": "2025-08-19T18:40:44.877653Z",
     "iopub.status.idle": "2025-08-19T18:40:44.883071Z",
     "shell.execute_reply": "2025-08-19T18:40:44.882476Z"
    },
    "papermill": {
     "duration": 0.040954,
     "end_time": "2025-08-19T18:40:44.886815",
     "exception": false,
     "start_time": "2025-08-19T18:40:44.845861",
     "status": "completed"
    },
    "tags": []
   },
   "outputs": [
    {
     "data": {
      "text/plain": [
       "(5000, 164)"
      ]
     },
     "execution_count": 12,
     "metadata": {},
     "output_type": "execute_result"
    }
   ],
   "source": [
    "siab_train.shape"
   ]
  },
  {
   "cell_type": "code",
   "execution_count": 13,
   "id": "feb13bf4",
   "metadata": {
    "execution": {
     "iopub.execute_input": "2025-08-19T18:40:44.921902Z",
     "iopub.status.busy": "2025-08-19T18:40:44.921158Z",
     "iopub.status.idle": "2025-08-19T18:40:44.928782Z",
     "shell.execute_reply": "2025-08-19T18:40:44.928157Z"
    },
    "papermill": {
     "duration": 0.022555,
     "end_time": "2025-08-19T18:40:44.929881",
     "exception": false,
     "start_time": "2025-08-19T18:40:44.907326",
     "status": "completed"
    },
    "tags": []
   },
   "outputs": [
    {
     "data": {
      "text/plain": [
       "year\n",
       "2010    1000\n",
       "2011    1000\n",
       "2012    1000\n",
       "2013    1000\n",
       "2014    1000\n",
       "dtype: int64"
      ]
     },
     "metadata": {},
     "output_type": "display_data"
    }
   ],
   "source": [
    "display(siab_train.groupby(\"year\").size())"
   ]
  },
  {
   "cell_type": "code",
   "execution_count": 14,
   "id": "0997782f",
   "metadata": {
    "execution": {
     "iopub.execute_input": "2025-08-19T18:40:45.015324Z",
     "iopub.status.busy": "2025-08-19T18:40:45.014823Z",
     "iopub.status.idle": "2025-08-19T18:40:45.514730Z",
     "shell.execute_reply": "2025-08-19T18:40:45.513539Z"
    },
    "papermill": {
     "duration": 0.566104,
     "end_time": "2025-08-19T18:40:45.525242",
     "exception": false,
     "start_time": "2025-08-19T18:40:44.959138",
     "status": "completed"
    },
    "tags": []
   },
   "outputs": [],
   "source": [
    "#siab_train = siab_s[siab_s.year < 2015]\n",
    "siab_calib = siab[siab.year == 2015]\n",
    "siab_test = siab[siab.year == 2016]"
   ]
  },
  {
   "cell_type": "code",
   "execution_count": 15,
   "id": "2c1e4012",
   "metadata": {
    "execution": {
     "iopub.execute_input": "2025-08-19T18:40:45.558928Z",
     "iopub.status.busy": "2025-08-19T18:40:45.558399Z",
     "iopub.status.idle": "2025-08-19T18:40:45.563378Z",
     "shell.execute_reply": "2025-08-19T18:40:45.562693Z"
    },
    "papermill": {
     "duration": 0.038423,
     "end_time": "2025-08-19T18:40:45.574055",
     "exception": false,
     "start_time": "2025-08-19T18:40:45.535632",
     "status": "completed"
    },
    "tags": []
   },
   "outputs": [],
   "source": [
    "#siab_calib.shape"
   ]
  },
  {
   "cell_type": "code",
   "execution_count": 16,
   "id": "f66b54ca",
   "metadata": {
    "execution": {
     "iopub.execute_input": "2025-08-19T18:40:45.605124Z",
     "iopub.status.busy": "2025-08-19T18:40:45.604625Z",
     "iopub.status.idle": "2025-08-19T18:40:45.608711Z",
     "shell.execute_reply": "2025-08-19T18:40:45.608084Z"
    },
    "papermill": {
     "duration": 0.025415,
     "end_time": "2025-08-19T18:40:45.609922",
     "exception": false,
     "start_time": "2025-08-19T18:40:45.584507",
     "status": "completed"
    },
    "tags": []
   },
   "outputs": [],
   "source": [
    "#siab_test.shape"
   ]
  },
  {
   "cell_type": "code",
   "execution_count": 17,
   "id": "27e4384d",
   "metadata": {
    "execution": {
     "iopub.execute_input": "2025-08-19T18:40:45.636393Z",
     "iopub.status.busy": "2025-08-19T18:40:45.636082Z",
     "iopub.status.idle": "2025-08-19T18:40:45.683827Z",
     "shell.execute_reply": "2025-08-19T18:40:45.683043Z"
    },
    "papermill": {
     "duration": 0.060661,
     "end_time": "2025-08-19T18:40:45.685475",
     "exception": false,
     "start_time": "2025-08-19T18:40:45.624814",
     "status": "completed"
    },
    "tags": []
   },
   "outputs": [],
   "source": [
    "X_train = siab_train.iloc[:,4:164]\n",
    "y_train = siab_train.iloc[:, [3]]"
   ]
  },
  {
   "cell_type": "code",
   "execution_count": 18,
   "id": "08ee8389",
   "metadata": {
    "execution": {
     "iopub.execute_input": "2025-08-19T18:40:45.741130Z",
     "iopub.status.busy": "2025-08-19T18:40:45.732743Z",
     "iopub.status.idle": "2025-08-19T18:40:45.984733Z",
     "shell.execute_reply": "2025-08-19T18:40:45.983919Z"
    },
    "papermill": {
     "duration": 0.273687,
     "end_time": "2025-08-19T18:40:45.986443",
     "exception": false,
     "start_time": "2025-08-19T18:40:45.712756",
     "status": "completed"
    },
    "tags": []
   },
   "outputs": [],
   "source": [
    "X_calib = siab_calib.iloc[:,4:164]\n",
    "y_calib = siab_calib.iloc[:, [3]]"
   ]
  },
  {
   "cell_type": "code",
   "execution_count": 19,
   "id": "b7ff42e0",
   "metadata": {
    "execution": {
     "iopub.execute_input": "2025-08-19T18:40:46.051966Z",
     "iopub.status.busy": "2025-08-19T18:40:46.051477Z",
     "iopub.status.idle": "2025-08-19T18:40:46.133517Z",
     "shell.execute_reply": "2025-08-19T18:40:46.132677Z"
    },
    "papermill": {
     "duration": 0.125282,
     "end_time": "2025-08-19T18:40:46.135383",
     "exception": false,
     "start_time": "2025-08-19T18:40:46.010101",
     "status": "completed"
    },
    "tags": []
   },
   "outputs": [],
   "source": [
    "X_test = siab_test.iloc[:,4:164]\n",
    "y_true = siab_test.iloc[:, [3]]"
   ]
  },
  {
   "cell_type": "code",
   "execution_count": 20,
   "id": "0275101e",
   "metadata": {
    "execution": {
     "iopub.execute_input": "2025-08-19T18:40:46.160505Z",
     "iopub.status.busy": "2025-08-19T18:40:46.160000Z",
     "iopub.status.idle": "2025-08-19T18:40:46.329052Z",
     "shell.execute_reply": "2025-08-19T18:40:46.328393Z"
    },
    "papermill": {
     "duration": 0.18202,
     "end_time": "2025-08-19T18:40:46.330371",
     "exception": false,
     "start_time": "2025-08-19T18:40:46.148351",
     "status": "completed"
    },
    "tags": []
   },
   "outputs": [],
   "source": [
    "# Auxiliary data needed downstream in the pipeline\n",
    "\n",
    "org_train = X_train.copy()\n",
    "org_test = X_test.copy()\n",
    "org_calib = X_calib.copy()"
   ]
  },
  {
   "cell_type": "markdown",
   "id": "b461e618",
   "metadata": {
    "papermill": {
     "duration": 0.055487,
     "end_time": "2025-08-19T18:40:46.408736",
     "exception": false,
     "start_time": "2025-08-19T18:40:46.353249",
     "status": "completed"
    },
    "tags": []
   },
   "source": [
    "# Preprocessing Data"
   ]
  },
  {
   "cell_type": "code",
   "execution_count": 21,
   "id": "78e74c4b",
   "metadata": {
    "execution": {
     "iopub.execute_input": "2025-08-19T18:40:46.494507Z",
     "iopub.status.busy": "2025-08-19T18:40:46.494020Z",
     "iopub.status.idle": "2025-08-19T18:40:46.499808Z",
     "shell.execute_reply": "2025-08-19T18:40:46.499177Z"
    },
    "papermill": {
     "duration": 0.064281,
     "end_time": "2025-08-19T18:40:46.501011",
     "exception": false,
     "start_time": "2025-08-19T18:40:46.436730",
     "status": "completed"
    },
    "tags": []
   },
   "outputs": [],
   "source": [
    "# EXCLUDE PROTECTED FEATURES\n",
    "# --------------------------\n",
    "\n",
    "excluded_features = universe[\"exclude_features\"].split(\"-\")\n",
    "excluded_features_dictionary = {\n",
    "    \"nationality\": [\"maxdeutsch1\", \"maxdeutsch.Missing.\"],\n",
    "    \"sex\": [\"frau1\"],\n",
    "    \"age\": [\"age\"],\n",
    "}"
   ]
  },
  {
   "cell_type": "code",
   "execution_count": 22,
   "id": "f8e63555",
   "metadata": {
    "execution": {
     "iopub.execute_input": "2025-08-19T18:40:46.562749Z",
     "iopub.status.busy": "2025-08-19T18:40:46.562224Z",
     "iopub.status.idle": "2025-08-19T18:40:46.567522Z",
     "shell.execute_reply": "2025-08-19T18:40:46.566770Z"
    },
    "papermill": {
     "duration": 0.035697,
     "end_time": "2025-08-19T18:40:46.568671",
     "exception": false,
     "start_time": "2025-08-19T18:40:46.532974",
     "status": "completed"
    },
    "tags": []
   },
   "outputs": [],
   "source": [
    "excluded_features_columns = [\n",
    "    excluded_features_dictionary[f] for f in excluded_features if len(f) > 0 and f != \"none\"\n",
    "]"
   ]
  },
  {
   "cell_type": "code",
   "execution_count": 23,
   "id": "da781f7c",
   "metadata": {
    "execution": {
     "iopub.execute_input": "2025-08-19T18:40:46.646198Z",
     "iopub.status.busy": "2025-08-19T18:40:46.645653Z",
     "iopub.status.idle": "2025-08-19T18:40:46.650222Z",
     "shell.execute_reply": "2025-08-19T18:40:46.649661Z"
    },
    "papermill": {
     "duration": 0.035367,
     "end_time": "2025-08-19T18:40:46.651989",
     "exception": false,
     "start_time": "2025-08-19T18:40:46.616622",
     "status": "completed"
    },
    "tags": []
   },
   "outputs": [],
   "source": [
    "from fairness_multiverse.universe import flatten_once\n",
    "\n",
    "excluded_features_columns = flatten_once(excluded_features_columns)"
   ]
  },
  {
   "cell_type": "code",
   "execution_count": 24,
   "id": "37fef0f0",
   "metadata": {
    "execution": {
     "iopub.execute_input": "2025-08-19T18:40:46.675558Z",
     "iopub.status.busy": "2025-08-19T18:40:46.675040Z",
     "iopub.status.idle": "2025-08-19T18:40:46.686811Z",
     "shell.execute_reply": "2025-08-19T18:40:46.686111Z"
    },
    "papermill": {
     "duration": 0.024923,
     "end_time": "2025-08-19T18:40:46.688179",
     "exception": false,
     "start_time": "2025-08-19T18:40:46.663256",
     "status": "completed"
    },
    "tags": []
   },
   "outputs": [
    {
     "name": "stdout",
     "output_type": "stream",
     "text": [
      "Dropping features: ['maxdeutsch1', 'maxdeutsch.Missing.', 'frau1']\n"
     ]
    }
   ],
   "source": [
    "if len(excluded_features_columns) > 0:\n",
    "    print(f\"Dropping features: {excluded_features_columns}\")\n",
    "    X_train.drop(excluded_features_columns, axis=1, inplace=True)"
   ]
  },
  {
   "cell_type": "code",
   "execution_count": 25,
   "id": "d029e3e9",
   "metadata": {
    "execution": {
     "iopub.execute_input": "2025-08-19T18:40:46.710467Z",
     "iopub.status.busy": "2025-08-19T18:40:46.710056Z",
     "iopub.status.idle": "2025-08-19T18:40:46.819983Z",
     "shell.execute_reply": "2025-08-19T18:40:46.819170Z"
    },
    "papermill": {
     "duration": 0.122481,
     "end_time": "2025-08-19T18:40:46.821381",
     "exception": false,
     "start_time": "2025-08-19T18:40:46.698900",
     "status": "completed"
    },
    "tags": []
   },
   "outputs": [
    {
     "name": "stdout",
     "output_type": "stream",
     "text": [
      "Dropping features: ['maxdeutsch1', 'maxdeutsch.Missing.', 'frau1']\n"
     ]
    }
   ],
   "source": [
    "if len(excluded_features_columns) > 0:\n",
    "    print(f\"Dropping features: {excluded_features_columns}\")\n",
    "    X_test.drop(excluded_features_columns, axis=1, inplace=True)"
   ]
  },
  {
   "cell_type": "code",
   "execution_count": 26,
   "id": "01d571f0",
   "metadata": {
    "execution": {
     "iopub.execute_input": "2025-08-19T18:40:46.857961Z",
     "iopub.status.busy": "2025-08-19T18:40:46.857434Z",
     "iopub.status.idle": "2025-08-19T18:40:46.924506Z",
     "shell.execute_reply": "2025-08-19T18:40:46.923773Z"
    },
    "papermill": {
     "duration": 0.09202,
     "end_time": "2025-08-19T18:40:46.925919",
     "exception": false,
     "start_time": "2025-08-19T18:40:46.833899",
     "status": "completed"
    },
    "tags": []
   },
   "outputs": [
    {
     "name": "stdout",
     "output_type": "stream",
     "text": [
      "Dropping features: ['maxdeutsch1', 'maxdeutsch.Missing.', 'frau1']\n"
     ]
    }
   ],
   "source": [
    "if len(excluded_features_columns) > 0:\n",
    "    print(f\"Dropping features: {excluded_features_columns}\")\n",
    "    X_calib.drop(excluded_features_columns, axis=1, inplace=True)"
   ]
  },
  {
   "cell_type": "code",
   "execution_count": 27,
   "id": "3037356e",
   "metadata": {
    "execution": {
     "iopub.execute_input": "2025-08-19T18:40:46.949294Z",
     "iopub.status.busy": "2025-08-19T18:40:46.948804Z",
     "iopub.status.idle": "2025-08-19T18:40:47.056462Z",
     "shell.execute_reply": "2025-08-19T18:40:47.055630Z"
    },
    "papermill": {
     "duration": 0.121477,
     "end_time": "2025-08-19T18:40:47.058181",
     "exception": false,
     "start_time": "2025-08-19T18:40:46.936704",
     "status": "completed"
    },
    "tags": []
   },
   "outputs": [],
   "source": [
    "# EXCLUDE CERTAIN SUBGROUPS\n",
    "# -------------------------\n",
    "\n",
    "mode = universe.get(\"exclude_subgroups\", \"keep-all\") # Defaults to \"keep-all\" if the key is missing."
   ]
  },
  {
   "cell_type": "code",
   "execution_count": 28,
   "id": "9d1e63fd",
   "metadata": {
    "execution": {
     "iopub.execute_input": "2025-08-19T18:40:47.107072Z",
     "iopub.status.busy": "2025-08-19T18:40:47.106560Z",
     "iopub.status.idle": "2025-08-19T18:40:47.114117Z",
     "shell.execute_reply": "2025-08-19T18:40:47.113224Z"
    },
    "papermill": {
     "duration": 0.046247,
     "end_time": "2025-08-19T18:40:47.115441",
     "exception": false,
     "start_time": "2025-08-19T18:40:47.069194",
     "status": "completed"
    },
    "tags": []
   },
   "outputs": [],
   "source": [
    "if mode == \"keep-all\":\n",
    "    keep_mask = pd.Series(True, index=org_train.index)\n",
    "\n",
    "elif mode == \"drop-non-german\":\n",
    "    keep_mask = (org_train[\"maxdeutsch1\"] == 1) & (org_train[\"maxdeutsch.Missing.\"] == 0)\n",
    "\n",
    "else:\n",
    "    raise ValueError(f\"Unsupported mode for exclude_subgroups: {mode}\")"
   ]
  },
  {
   "cell_type": "code",
   "execution_count": 29,
   "id": "d3b65474",
   "metadata": {
    "execution": {
     "iopub.execute_input": "2025-08-19T18:40:47.154843Z",
     "iopub.status.busy": "2025-08-19T18:40:47.154365Z",
     "iopub.status.idle": "2025-08-19T18:40:47.160270Z",
     "shell.execute_reply": "2025-08-19T18:40:47.159620Z"
    },
    "papermill": {
     "duration": 0.034963,
     "end_time": "2025-08-19T18:40:47.161455",
     "exception": false,
     "start_time": "2025-08-19T18:40:47.126492",
     "status": "completed"
    },
    "tags": []
   },
   "outputs": [
    {
     "name": "stdout",
     "output_type": "stream",
     "text": [
      "Dropping 657 rows (13.14%) where mode='drop-non-german'\n"
     ]
    }
   ],
   "source": [
    "n_drop = (~keep_mask).sum() # Calculates how many rows are set to be dropped\n",
    "if n_drop > 0:\n",
    "    pct = n_drop / len(keep_mask) * 100\n",
    "    print(f\"Dropping {n_drop} rows ({pct:.2f}%) where mode='{mode}'\")"
   ]
  },
  {
   "cell_type": "code",
   "execution_count": 30,
   "id": "f44389b3",
   "metadata": {
    "execution": {
     "iopub.execute_input": "2025-08-19T18:40:47.211277Z",
     "iopub.status.busy": "2025-08-19T18:40:47.210409Z",
     "iopub.status.idle": "2025-08-19T18:40:47.217406Z",
     "shell.execute_reply": "2025-08-19T18:40:47.216800Z"
    },
    "papermill": {
     "duration": 0.033541,
     "end_time": "2025-08-19T18:40:47.218553",
     "exception": false,
     "start_time": "2025-08-19T18:40:47.185012",
     "status": "completed"
    },
    "tags": []
   },
   "outputs": [],
   "source": [
    "X_train = X_train[keep_mask]"
   ]
  },
  {
   "cell_type": "code",
   "execution_count": 31,
   "id": "ceca8c2a",
   "metadata": {
    "execution": {
     "iopub.execute_input": "2025-08-19T18:40:47.264030Z",
     "iopub.status.busy": "2025-08-19T18:40:47.263543Z",
     "iopub.status.idle": "2025-08-19T18:40:47.268347Z",
     "shell.execute_reply": "2025-08-19T18:40:47.267771Z"
    },
    "papermill": {
     "duration": 0.040066,
     "end_time": "2025-08-19T18:40:47.269462",
     "exception": false,
     "start_time": "2025-08-19T18:40:47.229396",
     "status": "completed"
    },
    "tags": []
   },
   "outputs": [],
   "source": [
    "y_train = y_train[keep_mask]"
   ]
  },
  {
   "cell_type": "markdown",
   "id": "04d31e2f",
   "metadata": {
    "papermill": {
     "duration": 0.020975,
     "end_time": "2025-08-19T18:40:47.301060",
     "exception": false,
     "start_time": "2025-08-19T18:40:47.280085",
     "status": "completed"
    },
    "tags": []
   },
   "source": [
    "# Model Training"
   ]
  },
  {
   "cell_type": "code",
   "execution_count": 32,
   "id": "db991733",
   "metadata": {
    "execution": {
     "iopub.execute_input": "2025-08-19T18:40:47.386417Z",
     "iopub.status.busy": "2025-08-19T18:40:47.385912Z",
     "iopub.status.idle": "2025-08-19T18:40:47.625643Z",
     "shell.execute_reply": "2025-08-19T18:40:47.624599Z"
    },
    "papermill": {
     "duration": 0.315332,
     "end_time": "2025-08-19T18:40:47.627044",
     "exception": false,
     "start_time": "2025-08-19T18:40:47.311712",
     "status": "completed"
    },
    "tags": []
   },
   "outputs": [],
   "source": [
    "from sklearn.linear_model import LogisticRegression\n",
    "from sklearn.ensemble import GradientBoostingClassifier, RandomForestClassifier\n",
    "\n",
    "if (universe[\"model\"] == \"logreg\"):\n",
    "    model = LogisticRegression() #penalty=\"none\", solver=\"newton-cg\", max_iter=1)\n",
    "elif (universe[\"model\"] == \"penalized_logreg\"):\n",
    "    model = LogisticRegression(penalty=\"l2\", C=0.1) #, solver=\"newton-cg\", max_iter=1)\n",
    "elif (universe[\"model\"] == \"rf\"):\n",
    "    model = RandomForestClassifier() # n_estimators=100, n_jobs=-1\n",
    "elif (universe[\"model\"] == \"gbm\"):\n",
    "    model = GradientBoostingClassifier()\n",
    "elif (universe[\"model\"] == \"elasticnet\"):\n",
    "    model = LogisticRegression(penalty = 'elasticnet', solver = 'saga', l1_ratio = 0.5) # max_iter=5000\n",
    "else:\n",
    "    raise \"Unsupported universe.model\""
   ]
  },
  {
   "cell_type": "code",
   "execution_count": 33,
   "id": "a4b5cd25",
   "metadata": {
    "execution": {
     "iopub.execute_input": "2025-08-19T18:40:47.682708Z",
     "iopub.status.busy": "2025-08-19T18:40:47.682211Z",
     "iopub.status.idle": "2025-08-19T18:40:47.687756Z",
     "shell.execute_reply": "2025-08-19T18:40:47.687065Z"
    },
    "papermill": {
     "duration": 0.045792,
     "end_time": "2025-08-19T18:40:47.689026",
     "exception": false,
     "start_time": "2025-08-19T18:40:47.643234",
     "status": "completed"
    },
    "tags": []
   },
   "outputs": [],
   "source": [
    "from sklearn.pipeline import Pipeline\n",
    "from sklearn.preprocessing import StandardScaler\n",
    "\n",
    "model = Pipeline([\n",
    "    #(\"continuous_processor\", continuous_processor),\n",
    "    #(\"categorical_preprocessor\", categorical_preprocessor),\n",
    "    (\"scale\", StandardScaler() if universe[\"scale\"] == \"scale\" else None), \n",
    "    (\"model\", model),\n",
    "])"
   ]
  },
  {
   "cell_type": "code",
   "execution_count": 34,
   "id": "283a904d",
   "metadata": {
    "execution": {
     "iopub.execute_input": "2025-08-19T18:40:47.749614Z",
     "iopub.status.busy": "2025-08-19T18:40:47.749143Z",
     "iopub.status.idle": "2025-08-19T18:40:47.978657Z",
     "shell.execute_reply": "2025-08-19T18:40:47.978037Z"
    },
    "papermill": {
     "duration": 0.26597,
     "end_time": "2025-08-19T18:40:47.979772",
     "exception": false,
     "start_time": "2025-08-19T18:40:47.713802",
     "status": "completed"
    },
    "tags": []
   },
   "outputs": [
    {
     "name": "stderr",
     "output_type": "stream",
     "text": [
      "/dss/dsshome1/0C/ra93lal2/.local/share/virtualenvs/CMA_Fairness_v2-3j10GkSs/lib/python3.10/site-packages/sklearn/linear_model/_logistic.py:444: ConvergenceWarning: lbfgs failed to converge (status=1):\n",
      "STOP: TOTAL NO. of ITERATIONS REACHED LIMIT.\n",
      "\n",
      "Increase the number of iterations (max_iter) or scale the data as shown in:\n",
      "    https://scikit-learn.org/stable/modules/preprocessing.html\n",
      "Please also refer to the documentation for alternative solver options:\n",
      "    https://scikit-learn.org/stable/modules/linear_model.html#logistic-regression\n",
      "  n_iter_i = _check_optimize_result(\n"
     ]
    },
    {
     "data": {
      "text/html": [
       "<style>#sk-container-id-1 {color: black;background-color: white;}#sk-container-id-1 pre{padding: 0;}#sk-container-id-1 div.sk-toggleable {background-color: white;}#sk-container-id-1 label.sk-toggleable__label {cursor: pointer;display: block;width: 100%;margin-bottom: 0;padding: 0.3em;box-sizing: border-box;text-align: center;}#sk-container-id-1 label.sk-toggleable__label-arrow:before {content: \"▸\";float: left;margin-right: 0.25em;color: #696969;}#sk-container-id-1 label.sk-toggleable__label-arrow:hover:before {color: black;}#sk-container-id-1 div.sk-estimator:hover label.sk-toggleable__label-arrow:before {color: black;}#sk-container-id-1 div.sk-toggleable__content {max-height: 0;max-width: 0;overflow: hidden;text-align: left;background-color: #f0f8ff;}#sk-container-id-1 div.sk-toggleable__content pre {margin: 0.2em;color: black;border-radius: 0.25em;background-color: #f0f8ff;}#sk-container-id-1 input.sk-toggleable__control:checked~div.sk-toggleable__content {max-height: 200px;max-width: 100%;overflow: auto;}#sk-container-id-1 input.sk-toggleable__control:checked~label.sk-toggleable__label-arrow:before {content: \"▾\";}#sk-container-id-1 div.sk-estimator input.sk-toggleable__control:checked~label.sk-toggleable__label {background-color: #d4ebff;}#sk-container-id-1 div.sk-label input.sk-toggleable__control:checked~label.sk-toggleable__label {background-color: #d4ebff;}#sk-container-id-1 input.sk-hidden--visually {border: 0;clip: rect(1px 1px 1px 1px);clip: rect(1px, 1px, 1px, 1px);height: 1px;margin: -1px;overflow: hidden;padding: 0;position: absolute;width: 1px;}#sk-container-id-1 div.sk-estimator {font-family: monospace;background-color: #f0f8ff;border: 1px dotted black;border-radius: 0.25em;box-sizing: border-box;margin-bottom: 0.5em;}#sk-container-id-1 div.sk-estimator:hover {background-color: #d4ebff;}#sk-container-id-1 div.sk-parallel-item::after {content: \"\";width: 100%;border-bottom: 1px solid gray;flex-grow: 1;}#sk-container-id-1 div.sk-label:hover label.sk-toggleable__label {background-color: #d4ebff;}#sk-container-id-1 div.sk-serial::before {content: \"\";position: absolute;border-left: 1px solid gray;box-sizing: border-box;top: 0;bottom: 0;left: 50%;z-index: 0;}#sk-container-id-1 div.sk-serial {display: flex;flex-direction: column;align-items: center;background-color: white;padding-right: 0.2em;padding-left: 0.2em;position: relative;}#sk-container-id-1 div.sk-item {position: relative;z-index: 1;}#sk-container-id-1 div.sk-parallel {display: flex;align-items: stretch;justify-content: center;background-color: white;position: relative;}#sk-container-id-1 div.sk-item::before, #sk-container-id-1 div.sk-parallel-item::before {content: \"\";position: absolute;border-left: 1px solid gray;box-sizing: border-box;top: 0;bottom: 0;left: 50%;z-index: -1;}#sk-container-id-1 div.sk-parallel-item {display: flex;flex-direction: column;z-index: 1;position: relative;background-color: white;}#sk-container-id-1 div.sk-parallel-item:first-child::after {align-self: flex-end;width: 50%;}#sk-container-id-1 div.sk-parallel-item:last-child::after {align-self: flex-start;width: 50%;}#sk-container-id-1 div.sk-parallel-item:only-child::after {width: 0;}#sk-container-id-1 div.sk-dashed-wrapped {border: 1px dashed gray;margin: 0 0.4em 0.5em 0.4em;box-sizing: border-box;padding-bottom: 0.4em;background-color: white;}#sk-container-id-1 div.sk-label label {font-family: monospace;font-weight: bold;display: inline-block;line-height: 1.2em;}#sk-container-id-1 div.sk-label-container {text-align: center;}#sk-container-id-1 div.sk-container {/* jupyter's `normalize.less` sets `[hidden] { display: none; }` but bootstrap.min.css set `[hidden] { display: none !important; }` so we also need the `!important` here to be able to override the default hidden behavior on the sphinx rendered scikit-learn.org. See: https://github.com/scikit-learn/scikit-learn/issues/21755 */display: inline-block !important;position: relative;}#sk-container-id-1 div.sk-text-repr-fallback {display: none;}</style><div id=\"sk-container-id-1\" class=\"sk-top-container\"><div class=\"sk-text-repr-fallback\"><pre>Pipeline(steps=[(&#x27;scale&#x27;, StandardScaler()), (&#x27;model&#x27;, LogisticRegression())])</pre><b>In a Jupyter environment, please rerun this cell to show the HTML representation or trust the notebook. <br />On GitHub, the HTML representation is unable to render, please try loading this page with nbviewer.org.</b></div><div class=\"sk-container\" hidden><div class=\"sk-item sk-dashed-wrapped\"><div class=\"sk-label-container\"><div class=\"sk-label sk-toggleable\"><input class=\"sk-toggleable__control sk-hidden--visually\" id=\"sk-estimator-id-1\" type=\"checkbox\" ><label for=\"sk-estimator-id-1\" class=\"sk-toggleable__label sk-toggleable__label-arrow\">Pipeline</label><div class=\"sk-toggleable__content\"><pre>Pipeline(steps=[(&#x27;scale&#x27;, StandardScaler()), (&#x27;model&#x27;, LogisticRegression())])</pre></div></div></div><div class=\"sk-serial\"><div class=\"sk-item\"><div class=\"sk-estimator sk-toggleable\"><input class=\"sk-toggleable__control sk-hidden--visually\" id=\"sk-estimator-id-2\" type=\"checkbox\" ><label for=\"sk-estimator-id-2\" class=\"sk-toggleable__label sk-toggleable__label-arrow\">StandardScaler</label><div class=\"sk-toggleable__content\"><pre>StandardScaler()</pre></div></div></div><div class=\"sk-item\"><div class=\"sk-estimator sk-toggleable\"><input class=\"sk-toggleable__control sk-hidden--visually\" id=\"sk-estimator-id-3\" type=\"checkbox\" ><label for=\"sk-estimator-id-3\" class=\"sk-toggleable__label sk-toggleable__label-arrow\">LogisticRegression</label><div class=\"sk-toggleable__content\"><pre>LogisticRegression()</pre></div></div></div></div></div></div></div>"
      ],
      "text/plain": [
       "Pipeline(steps=[('scale', StandardScaler()), ('model', LogisticRegression())])"
      ]
     },
     "execution_count": 34,
     "metadata": {},
     "output_type": "execute_result"
    }
   ],
   "source": [
    "model.fit(X_train, y_train.values.ravel())"
   ]
  },
  {
   "cell_type": "code",
   "execution_count": 35,
   "id": "6e15e313",
   "metadata": {
    "execution": {
     "iopub.execute_input": "2025-08-19T18:40:48.028704Z",
     "iopub.status.busy": "2025-08-19T18:40:48.028188Z",
     "iopub.status.idle": "2025-08-19T18:40:48.227473Z",
     "shell.execute_reply": "2025-08-19T18:40:48.226719Z"
    },
    "papermill": {
     "duration": 0.216213,
     "end_time": "2025-08-19T18:40:48.228937",
     "exception": false,
     "start_time": "2025-08-19T18:40:48.012724",
     "status": "completed"
    },
    "tags": []
   },
   "outputs": [
    {
     "data": {
      "text/plain": [
       "0.8523130085832126"
      ]
     },
     "execution_count": 35,
     "metadata": {},
     "output_type": "execute_result"
    }
   ],
   "source": [
    "from fairness_multiverse.universe import predict_w_threshold\n",
    "\n",
    "probs_test = model.predict_proba(X_test)\n",
    "\n",
    "'''\n",
    "Below code returns a boolean array (or binary 0/1 array depending on how it’s used) where each element \n",
    "is True if the probability of class 1 is greater than or equal to the threshold, and False otherwise.\n",
    "'''\n",
    "y_pred_default = predict_w_threshold(probs_test, 0.5)\n",
    "\n",
    "from sklearn.metrics import accuracy_score\n",
    "\n",
    "# Naive prediction\n",
    "accuracy_score(y_true = y_true, y_pred = y_pred_default)"
   ]
  },
  {
   "cell_type": "code",
   "execution_count": 36,
   "id": "6f14067c",
   "metadata": {
    "execution": {
     "iopub.execute_input": "2025-08-19T18:40:48.261584Z",
     "iopub.status.busy": "2025-08-19T18:40:48.261053Z",
     "iopub.status.idle": "2025-08-19T18:40:48.502418Z",
     "shell.execute_reply": "2025-08-19T18:40:48.501520Z"
    },
    "papermill": {
     "duration": 0.25983,
     "end_time": "2025-08-19T18:40:48.503849",
     "exception": false,
     "start_time": "2025-08-19T18:40:48.244019",
     "status": "completed"
    },
    "tags": []
   },
   "outputs": [
    {
     "data": {
      "text/plain": [
       "array([0, 0, 0, ..., 0, 0, 0])"
      ]
     },
     "execution_count": 36,
     "metadata": {},
     "output_type": "execute_result"
    }
   ],
   "source": [
    "model.predict(X_test)"
   ]
  },
  {
   "cell_type": "markdown",
   "id": "3759920c",
   "metadata": {
    "papermill": {
     "duration": 0.011207,
     "end_time": "2025-08-19T18:40:48.528277",
     "exception": false,
     "start_time": "2025-08-19T18:40:48.517070",
     "status": "completed"
    },
    "tags": []
   },
   "source": [
    "# Conformal Prediction"
   ]
  },
  {
   "cell_type": "code",
   "execution_count": 37,
   "id": "14b27f59",
   "metadata": {
    "execution": {
     "iopub.execute_input": "2025-08-19T18:40:48.554542Z",
     "iopub.status.busy": "2025-08-19T18:40:48.554052Z",
     "iopub.status.idle": "2025-08-19T18:40:48.558431Z",
     "shell.execute_reply": "2025-08-19T18:40:48.557749Z"
    },
    "papermill": {
     "duration": 0.020712,
     "end_time": "2025-08-19T18:40:48.561908",
     "exception": false,
     "start_time": "2025-08-19T18:40:48.541196",
     "status": "completed"
    },
    "tags": []
   },
   "outputs": [],
   "source": [
    "# Miscoverage level for conformal prediction (10% allowed error rate => 90% target coverage)\n",
    "alpha = 0.1"
   ]
  },
  {
   "cell_type": "code",
   "execution_count": 38,
   "id": "59102472",
   "metadata": {
    "execution": {
     "iopub.execute_input": "2025-08-19T18:40:48.585533Z",
     "iopub.status.busy": "2025-08-19T18:40:48.585131Z",
     "iopub.status.idle": "2025-08-19T18:40:48.759752Z",
     "shell.execute_reply": "2025-08-19T18:40:48.759000Z"
    },
    "papermill": {
     "duration": 0.188124,
     "end_time": "2025-08-19T18:40:48.761254",
     "exception": false,
     "start_time": "2025-08-19T18:40:48.573130",
     "status": "completed"
    },
    "tags": []
   },
   "outputs": [],
   "source": [
    "probs_calib = model.predict_proba(X_calib)"
   ]
  },
  {
   "cell_type": "code",
   "execution_count": 39,
   "id": "a792d4dd",
   "metadata": {
    "execution": {
     "iopub.execute_input": "2025-08-19T18:40:48.786163Z",
     "iopub.status.busy": "2025-08-19T18:40:48.785679Z",
     "iopub.status.idle": "2025-08-19T18:40:48.790582Z",
     "shell.execute_reply": "2025-08-19T18:40:48.789788Z"
    },
    "papermill": {
     "duration": 0.018785,
     "end_time": "2025-08-19T18:40:48.792016",
     "exception": false,
     "start_time": "2025-08-19T18:40:48.773231",
     "status": "completed"
    },
    "tags": []
   },
   "outputs": [],
   "source": [
    "y_calib = y_calib.values.ravel().astype(int)"
   ]
  },
  {
   "cell_type": "code",
   "execution_count": 40,
   "id": "650fd033",
   "metadata": {
    "execution": {
     "iopub.execute_input": "2025-08-19T18:40:48.816598Z",
     "iopub.status.busy": "2025-08-19T18:40:48.816086Z",
     "iopub.status.idle": "2025-08-19T18:40:48.822624Z",
     "shell.execute_reply": "2025-08-19T18:40:48.821931Z"
    },
    "papermill": {
     "duration": 0.020583,
     "end_time": "2025-08-19T18:40:48.824204",
     "exception": false,
     "start_time": "2025-08-19T18:40:48.803621",
     "status": "completed"
    },
    "tags": []
   },
   "outputs": [],
   "source": [
    "from fairness_multiverse.conformal import compute_nc_scores\n",
    "\n",
    "# Compute nonconformity scores on calibration set (1 - probability of true class)\n",
    "nc_scores = compute_nc_scores(probs_calib, y_calib)"
   ]
  },
  {
   "cell_type": "code",
   "execution_count": 41,
   "id": "28ada44c",
   "metadata": {
    "execution": {
     "iopub.execute_input": "2025-08-19T18:40:48.848664Z",
     "iopub.status.busy": "2025-08-19T18:40:48.848331Z",
     "iopub.status.idle": "2025-08-19T18:40:48.854181Z",
     "shell.execute_reply": "2025-08-19T18:40:48.853385Z"
    },
    "papermill": {
     "duration": 0.019947,
     "end_time": "2025-08-19T18:40:48.855834",
     "exception": false,
     "start_time": "2025-08-19T18:40:48.835887",
     "status": "completed"
    },
    "tags": []
   },
   "outputs": [],
   "source": [
    "from fairness_multiverse.conformal import find_threshold\n",
    "\n",
    "# Find conformal threshold q_hat for the given alpha (split conformal method)\n",
    "q_hat = find_threshold(nc_scores, alpha)"
   ]
  },
  {
   "cell_type": "code",
   "execution_count": 42,
   "id": "df56469e",
   "metadata": {
    "execution": {
     "iopub.execute_input": "2025-08-19T18:40:48.882229Z",
     "iopub.status.busy": "2025-08-19T18:40:48.881750Z",
     "iopub.status.idle": "2025-08-19T18:40:48.887606Z",
     "shell.execute_reply": "2025-08-19T18:40:48.886854Z"
    },
    "papermill": {
     "duration": 0.020192,
     "end_time": "2025-08-19T18:40:48.889342",
     "exception": false,
     "start_time": "2025-08-19T18:40:48.869150",
     "status": "completed"
    },
    "tags": []
   },
   "outputs": [
    {
     "data": {
      "text/plain": [
       "0.6852633750624589"
      ]
     },
     "execution_count": 42,
     "metadata": {},
     "output_type": "execute_result"
    }
   ],
   "source": [
    "q_hat"
   ]
  },
  {
   "cell_type": "code",
   "execution_count": 43,
   "id": "aa1f5faa",
   "metadata": {
    "execution": {
     "iopub.execute_input": "2025-08-19T18:40:48.913757Z",
     "iopub.status.busy": "2025-08-19T18:40:48.913462Z",
     "iopub.status.idle": "2025-08-19T18:40:49.752600Z",
     "shell.execute_reply": "2025-08-19T18:40:49.738949Z"
    },
    "papermill": {
     "duration": 0.853384,
     "end_time": "2025-08-19T18:40:49.754474",
     "exception": false,
     "start_time": "2025-08-19T18:40:48.901090",
     "status": "completed"
    },
    "tags": []
   },
   "outputs": [],
   "source": [
    "from fairness_multiverse.conformal import predict_conformal_sets\n",
    "\n",
    "# Generate prediction sets for each test example\n",
    "pred_sets = predict_conformal_sets(model, X_test, q_hat)"
   ]
  },
  {
   "cell_type": "code",
   "execution_count": 44,
   "id": "97f67a6b",
   "metadata": {
    "execution": {
     "iopub.execute_input": "2025-08-19T18:40:49.779977Z",
     "iopub.status.busy": "2025-08-19T18:40:49.779424Z",
     "iopub.status.idle": "2025-08-19T18:40:49.787767Z",
     "shell.execute_reply": "2025-08-19T18:40:49.784248Z"
    },
    "papermill": {
     "duration": 0.026962,
     "end_time": "2025-08-19T18:40:49.793715",
     "exception": false,
     "start_time": "2025-08-19T18:40:49.766753",
     "status": "completed"
    },
    "tags": []
   },
   "outputs": [],
   "source": [
    "y_true = y_true.squeeze()"
   ]
  },
  {
   "cell_type": "code",
   "execution_count": 45,
   "id": "e700e9a7",
   "metadata": {
    "execution": {
     "iopub.execute_input": "2025-08-19T18:40:49.828401Z",
     "iopub.status.busy": "2025-08-19T18:40:49.827832Z",
     "iopub.status.idle": "2025-08-19T18:40:50.622702Z",
     "shell.execute_reply": "2025-08-19T18:40:50.621258Z"
    },
    "papermill": {
     "duration": 0.816823,
     "end_time": "2025-08-19T18:40:50.624342",
     "exception": false,
     "start_time": "2025-08-19T18:40:49.807519",
     "status": "completed"
    },
    "tags": []
   },
   "outputs": [],
   "source": [
    "from fairness_multiverse.conformal import evaluate_sets\n",
    "\n",
    "# Evaluate coverage and average set size on test data\n",
    "metrics = evaluate_sets(pred_sets, y_true)"
   ]
  },
  {
   "cell_type": "markdown",
   "id": "efbacec0",
   "metadata": {
    "papermill": {
     "duration": 0.014525,
     "end_time": "2025-08-19T18:40:50.653515",
     "exception": false,
     "start_time": "2025-08-19T18:40:50.638990",
     "status": "completed"
    },
    "tags": []
   },
   "source": [
    "# CP Metrics"
   ]
  },
  {
   "cell_type": "code",
   "execution_count": 46,
   "id": "9de55fb1",
   "metadata": {
    "execution": {
     "iopub.execute_input": "2025-08-19T18:40:50.754458Z",
     "iopub.status.busy": "2025-08-19T18:40:50.753939Z",
     "iopub.status.idle": "2025-08-19T18:40:50.761057Z",
     "shell.execute_reply": "2025-08-19T18:40:50.760337Z"
    },
    "papermill": {
     "duration": 0.09346,
     "end_time": "2025-08-19T18:40:50.762164",
     "exception": false,
     "start_time": "2025-08-19T18:40:50.668704",
     "status": "completed"
    },
    "tags": []
   },
   "outputs": [
    {
     "data": {
      "text/plain": [
       "{'coverage': 0.9105785308215361, 'avg_size': 1.1475643740943038}"
      ]
     },
     "execution_count": 46,
     "metadata": {},
     "output_type": "execute_result"
    }
   ],
   "source": [
    "metrics"
   ]
  },
  {
   "cell_type": "code",
   "execution_count": 47,
   "id": "64c340a1",
   "metadata": {
    "execution": {
     "iopub.execute_input": "2025-08-19T18:40:50.850440Z",
     "iopub.status.busy": "2025-08-19T18:40:50.849962Z",
     "iopub.status.idle": "2025-08-19T18:40:50.855543Z",
     "shell.execute_reply": "2025-08-19T18:40:50.854812Z"
    },
    "papermill": {
     "duration": 0.040123,
     "end_time": "2025-08-19T18:40:50.857183",
     "exception": false,
     "start_time": "2025-08-19T18:40:50.817060",
     "status": "completed"
    },
    "tags": []
   },
   "outputs": [],
   "source": [
    "example_universe = universe.copy()\n",
    "universe_training_year = example_universe.get(\"training_year\")\n",
    "universe_training_size = example_universe.get(\"training_size\")\n",
    "universe_scale = example_universe.get(\"scale\")\n",
    "universe_model = example_universe.get(\"model\")\n",
    "universe_exclude_features = example_universe.get(\"exclude_features\")\n",
    "universe_exclude_subgroups = example_universe.get(\"exclude_subgroups\")"
   ]
  },
  {
   "cell_type": "code",
   "execution_count": 48,
   "id": "dbb53cb4",
   "metadata": {
    "execution": {
     "iopub.execute_input": "2025-08-19T18:40:50.923075Z",
     "iopub.status.busy": "2025-08-19T18:40:50.922582Z",
     "iopub.status.idle": "2025-08-19T18:40:50.928083Z",
     "shell.execute_reply": "2025-08-19T18:40:50.927393Z"
    },
    "papermill": {
     "duration": 0.02021,
     "end_time": "2025-08-19T18:40:50.929418",
     "exception": false,
     "start_time": "2025-08-19T18:40:50.909208",
     "status": "completed"
    },
    "tags": []
   },
   "outputs": [],
   "source": [
    "cp_metrics_dict = {\n",
    "    \"universe_id\": [universe_id],\n",
    "    \"universe_training_year\": [universe_training_year],\n",
    "    \"universe_training_size\": [universe_training_size],\n",
    "    \"universe_scale\": [universe_scale],\n",
    "    \"universe_model\": [universe_model],\n",
    "    \"universe_exclude_features\": [universe_exclude_features],\n",
    "    \"universe_exclude_subgroups\": [universe_exclude_subgroups],\n",
    "    \"q_hat\": [q_hat],\n",
    "    \"coverage\": [metrics[\"coverage\"]],\n",
    "    \"avg_size\": [metrics[\"avg_size\"]],\n",
    "}"
   ]
  },
  {
   "cell_type": "code",
   "execution_count": 49,
   "id": "0d70d4b2",
   "metadata": {
    "execution": {
     "iopub.execute_input": "2025-08-19T18:40:50.954170Z",
     "iopub.status.busy": "2025-08-19T18:40:50.953861Z",
     "iopub.status.idle": "2025-08-19T18:40:50.959661Z",
     "shell.execute_reply": "2025-08-19T18:40:50.958801Z"
    },
    "papermill": {
     "duration": 0.019657,
     "end_time": "2025-08-19T18:40:50.960960",
     "exception": false,
     "start_time": "2025-08-19T18:40:50.941303",
     "status": "completed"
    },
    "tags": []
   },
   "outputs": [],
   "source": [
    "cp_metrics_df = pd.DataFrame(cp_metrics_dict)"
   ]
  },
  {
   "cell_type": "code",
   "execution_count": 50,
   "id": "b494403c",
   "metadata": {
    "execution": {
     "iopub.execute_input": "2025-08-19T18:40:50.986548Z",
     "iopub.status.busy": "2025-08-19T18:40:50.986101Z",
     "iopub.status.idle": "2025-08-19T18:40:51.001115Z",
     "shell.execute_reply": "2025-08-19T18:40:51.000371Z"
    },
    "papermill": {
     "duration": 0.029402,
     "end_time": "2025-08-19T18:40:51.002617",
     "exception": false,
     "start_time": "2025-08-19T18:40:50.973215",
     "status": "completed"
    },
    "tags": []
   },
   "outputs": [
    {
     "data": {
      "text/html": [
       "<div>\n",
       "<style scoped>\n",
       "    .dataframe tbody tr th:only-of-type {\n",
       "        vertical-align: middle;\n",
       "    }\n",
       "\n",
       "    .dataframe tbody tr th {\n",
       "        vertical-align: top;\n",
       "    }\n",
       "\n",
       "    .dataframe thead th {\n",
       "        text-align: right;\n",
       "    }\n",
       "</style>\n",
       "<table border=\"1\" class=\"dataframe\">\n",
       "  <thead>\n",
       "    <tr style=\"text-align: right;\">\n",
       "      <th></th>\n",
       "      <th>universe_id</th>\n",
       "      <th>universe_training_year</th>\n",
       "      <th>universe_training_size</th>\n",
       "      <th>universe_scale</th>\n",
       "      <th>universe_model</th>\n",
       "      <th>universe_exclude_features</th>\n",
       "      <th>universe_exclude_subgroups</th>\n",
       "      <th>q_hat</th>\n",
       "      <th>coverage</th>\n",
       "      <th>avg_size</th>\n",
       "    </tr>\n",
       "  </thead>\n",
       "  <tbody>\n",
       "    <tr>\n",
       "      <th>0</th>\n",
       "      <td>fafcdeac82718fb37b9cf4599d49c6f6</td>\n",
       "      <td>2010_14</td>\n",
       "      <td>5k</td>\n",
       "      <td>scale</td>\n",
       "      <td>logreg</td>\n",
       "      <td>nationality-sex</td>\n",
       "      <td>drop-non-german</td>\n",
       "      <td>0.685263</td>\n",
       "      <td>0.910579</td>\n",
       "      <td>1.147564</td>\n",
       "    </tr>\n",
       "  </tbody>\n",
       "</table>\n",
       "</div>"
      ],
      "text/plain": [
       "                        universe_id universe_training_year  \\\n",
       "0  fafcdeac82718fb37b9cf4599d49c6f6                2010_14   \n",
       "\n",
       "  universe_training_size universe_scale universe_model  \\\n",
       "0                     5k          scale         logreg   \n",
       "\n",
       "  universe_exclude_features universe_exclude_subgroups     q_hat  coverage  \\\n",
       "0           nationality-sex            drop-non-german  0.685263  0.910579   \n",
       "\n",
       "   avg_size  \n",
       "0  1.147564  "
      ]
     },
     "execution_count": 50,
     "metadata": {},
     "output_type": "execute_result"
    }
   ],
   "source": [
    "cp_metrics_df"
   ]
  },
  {
   "cell_type": "markdown",
   "id": "ed608b0b",
   "metadata": {
    "papermill": {
     "duration": 0.012078,
     "end_time": "2025-08-19T18:40:51.028755",
     "exception": false,
     "start_time": "2025-08-19T18:40:51.016677",
     "status": "completed"
    },
    "tags": []
   },
   "source": [
    "Conditional coverage & looking at subgroups"
   ]
  },
  {
   "cell_type": "code",
   "execution_count": 51,
   "id": "8968c366",
   "metadata": {
    "execution": {
     "iopub.execute_input": "2025-08-19T18:40:51.057992Z",
     "iopub.status.busy": "2025-08-19T18:40:51.057512Z",
     "iopub.status.idle": "2025-08-19T18:40:51.350882Z",
     "shell.execute_reply": "2025-08-19T18:40:51.349927Z"
    },
    "papermill": {
     "duration": 0.309569,
     "end_time": "2025-08-19T18:40:51.352564",
     "exception": false,
     "start_time": "2025-08-19T18:40:51.042995",
     "status": "completed"
    },
    "tags": []
   },
   "outputs": [],
   "source": [
    "from fairness_multiverse.conformal import build_cp_groups\n",
    "\n",
    "cp_groups_df = build_cp_groups(pred_sets, y_true, X_test.index, org_test)"
   ]
  },
  {
   "cell_type": "code",
   "execution_count": 52,
   "id": "292ddabf",
   "metadata": {
    "execution": {
     "iopub.execute_input": "2025-08-19T18:40:51.379631Z",
     "iopub.status.busy": "2025-08-19T18:40:51.379111Z",
     "iopub.status.idle": "2025-08-19T18:40:52.991743Z",
     "shell.execute_reply": "2025-08-19T18:40:52.990273Z"
    },
    "papermill": {
     "duration": 1.628161,
     "end_time": "2025-08-19T18:40:52.993504",
     "exception": false,
     "start_time": "2025-08-19T18:40:51.365343",
     "status": "completed"
    },
    "tags": []
   },
   "outputs": [],
   "source": [
    "# Define covered = 1 if true_label is in the predicted set\n",
    "cp_groups_df['covered'] = cp_groups_df.apply(\n",
    "    lambda r: int(r['true_label'] in r['pred_set']),\n",
    "    axis=1\n",
    ")"
   ]
  },
  {
   "cell_type": "code",
   "execution_count": 53,
   "id": "3a261692",
   "metadata": {
    "execution": {
     "iopub.execute_input": "2025-08-19T18:40:53.041105Z",
     "iopub.status.busy": "2025-08-19T18:40:53.040545Z",
     "iopub.status.idle": "2025-08-19T18:40:53.066912Z",
     "shell.execute_reply": "2025-08-19T18:40:53.062546Z"
    },
    "papermill": {
     "duration": 0.044663,
     "end_time": "2025-08-19T18:40:53.068601",
     "exception": false,
     "start_time": "2025-08-19T18:40:53.023938",
     "status": "completed"
    },
    "tags": []
   },
   "outputs": [],
   "source": [
    "subgroups = ['frau1','nongerman','nongerman_male','nongerman_female']\n",
    "\n",
    "# Conditional coverage for subgroup==1\n",
    "cond_coverage = {\n",
    "    g: cp_groups_df.loc[cp_groups_df[g]==1, 'covered'].mean()\n",
    "    for g in subgroups\n",
    "}"
   ]
  },
  {
   "cell_type": "code",
   "execution_count": 54,
   "id": "894fd600",
   "metadata": {
    "execution": {
     "iopub.execute_input": "2025-08-19T18:40:53.097485Z",
     "iopub.status.busy": "2025-08-19T18:40:53.097178Z",
     "iopub.status.idle": "2025-08-19T18:40:53.102787Z",
     "shell.execute_reply": "2025-08-19T18:40:53.102187Z"
    },
    "papermill": {
     "duration": 0.021725,
     "end_time": "2025-08-19T18:40:53.104767",
     "exception": false,
     "start_time": "2025-08-19T18:40:53.083042",
     "status": "completed"
    },
    "tags": []
   },
   "outputs": [
    {
     "data": {
      "text/plain": [
       "{'frau1': 0.9092600080873433,\n",
       " 'nongerman': 0.9128726211194071,\n",
       " 'nongerman_male': 0.92704674412321,\n",
       " 'nongerman_female': 0.8894187779433681}"
      ]
     },
     "execution_count": 54,
     "metadata": {},
     "output_type": "execute_result"
    }
   ],
   "source": [
    "cond_coverage"
   ]
  },
  {
   "cell_type": "code",
   "execution_count": 55,
   "id": "942895c7",
   "metadata": {
    "execution": {
     "iopub.execute_input": "2025-08-19T18:40:53.130792Z",
     "iopub.status.busy": "2025-08-19T18:40:53.130375Z",
     "iopub.status.idle": "2025-08-19T18:40:53.153141Z",
     "shell.execute_reply": "2025-08-19T18:40:53.152239Z"
    },
    "papermill": {
     "duration": 0.037832,
     "end_time": "2025-08-19T18:40:53.154918",
     "exception": false,
     "start_time": "2025-08-19T18:40:53.117086",
     "status": "completed"
    },
    "tags": []
   },
   "outputs": [],
   "source": [
    "for subgroup, cov in cond_coverage.items():\n",
    "    cp_metrics_df[f\"cov_{subgroup}\"] = cov"
   ]
  },
  {
   "cell_type": "code",
   "execution_count": 56,
   "id": "3970120f",
   "metadata": {
    "execution": {
     "iopub.execute_input": "2025-08-19T18:40:53.225116Z",
     "iopub.status.busy": "2025-08-19T18:40:53.224598Z",
     "iopub.status.idle": "2025-08-19T18:40:53.247067Z",
     "shell.execute_reply": "2025-08-19T18:40:53.246182Z"
    },
    "papermill": {
     "duration": 0.055742,
     "end_time": "2025-08-19T18:40:53.248566",
     "exception": false,
     "start_time": "2025-08-19T18:40:53.192824",
     "status": "completed"
    },
    "tags": []
   },
   "outputs": [
    {
     "data": {
      "text/html": [
       "<div>\n",
       "<style scoped>\n",
       "    .dataframe tbody tr th:only-of-type {\n",
       "        vertical-align: middle;\n",
       "    }\n",
       "\n",
       "    .dataframe tbody tr th {\n",
       "        vertical-align: top;\n",
       "    }\n",
       "\n",
       "    .dataframe thead th {\n",
       "        text-align: right;\n",
       "    }\n",
       "</style>\n",
       "<table border=\"1\" class=\"dataframe\">\n",
       "  <thead>\n",
       "    <tr style=\"text-align: right;\">\n",
       "      <th></th>\n",
       "      <th>universe_id</th>\n",
       "      <th>universe_training_year</th>\n",
       "      <th>universe_training_size</th>\n",
       "      <th>universe_scale</th>\n",
       "      <th>universe_model</th>\n",
       "      <th>universe_exclude_features</th>\n",
       "      <th>universe_exclude_subgroups</th>\n",
       "      <th>q_hat</th>\n",
       "      <th>coverage</th>\n",
       "      <th>avg_size</th>\n",
       "      <th>cov_frau1</th>\n",
       "      <th>cov_nongerman</th>\n",
       "      <th>cov_nongerman_male</th>\n",
       "      <th>cov_nongerman_female</th>\n",
       "    </tr>\n",
       "  </thead>\n",
       "  <tbody>\n",
       "    <tr>\n",
       "      <th>0</th>\n",
       "      <td>fafcdeac82718fb37b9cf4599d49c6f6</td>\n",
       "      <td>2010_14</td>\n",
       "      <td>5k</td>\n",
       "      <td>scale</td>\n",
       "      <td>logreg</td>\n",
       "      <td>nationality-sex</td>\n",
       "      <td>drop-non-german</td>\n",
       "      <td>0.685263</td>\n",
       "      <td>0.910579</td>\n",
       "      <td>1.147564</td>\n",
       "      <td>0.90926</td>\n",
       "      <td>0.912873</td>\n",
       "      <td>0.927047</td>\n",
       "      <td>0.889419</td>\n",
       "    </tr>\n",
       "  </tbody>\n",
       "</table>\n",
       "</div>"
      ],
      "text/plain": [
       "                        universe_id universe_training_year  \\\n",
       "0  fafcdeac82718fb37b9cf4599d49c6f6                2010_14   \n",
       "\n",
       "  universe_training_size universe_scale universe_model  \\\n",
       "0                     5k          scale         logreg   \n",
       "\n",
       "  universe_exclude_features universe_exclude_subgroups     q_hat  coverage  \\\n",
       "0           nationality-sex            drop-non-german  0.685263  0.910579   \n",
       "\n",
       "   avg_size  cov_frau1  cov_nongerman  cov_nongerman_male  \\\n",
       "0  1.147564    0.90926       0.912873            0.927047   \n",
       "\n",
       "   cov_nongerman_female  \n",
       "0              0.889419  "
      ]
     },
     "execution_count": 56,
     "metadata": {},
     "output_type": "execute_result"
    }
   ],
   "source": [
    "cp_metrics_df"
   ]
  },
  {
   "cell_type": "markdown",
   "id": "3fc519cc",
   "metadata": {
    "papermill": {
     "duration": 0.030071,
     "end_time": "2025-08-19T18:40:53.303769",
     "exception": false,
     "start_time": "2025-08-19T18:40:53.273698",
     "status": "completed"
    },
    "tags": []
   },
   "source": [
    "# (Fairness) Metrics"
   ]
  },
  {
   "cell_type": "code",
   "execution_count": 57,
   "id": "a2e5e155",
   "metadata": {
    "execution": {
     "iopub.execute_input": "2025-08-19T18:40:53.356155Z",
     "iopub.status.busy": "2025-08-19T18:40:53.355677Z",
     "iopub.status.idle": "2025-08-19T18:40:53.385378Z",
     "shell.execute_reply": "2025-08-19T18:40:53.375150Z"
    },
    "papermill": {
     "duration": 0.053067,
     "end_time": "2025-08-19T18:40:53.387487",
     "exception": false,
     "start_time": "2025-08-19T18:40:53.334420",
     "status": "completed"
    },
    "tags": []
   },
   "outputs": [],
   "source": [
    "colname_to_bin = \"maxdeutsch1\"\n",
    "majority_value = org_train[colname_to_bin].mode()[0]\n",
    "\n",
    "org_test[\"majmin\"] = np.where(org_test[colname_to_bin] == majority_value, \"majority\", \"minority\")"
   ]
  },
  {
   "cell_type": "code",
   "execution_count": 58,
   "id": "17e3e4d5",
   "metadata": {
    "execution": {
     "iopub.execute_input": "2025-08-19T18:40:53.437536Z",
     "iopub.status.busy": "2025-08-19T18:40:53.437107Z",
     "iopub.status.idle": "2025-08-19T18:40:55.415898Z",
     "shell.execute_reply": "2025-08-19T18:40:55.414570Z"
    },
    "papermill": {
     "duration": 2.002232,
     "end_time": "2025-08-19T18:40:55.417494",
     "exception": false,
     "start_time": "2025-08-19T18:40:53.415262",
     "status": "completed"
    },
    "tags": []
   },
   "outputs": [],
   "source": [
    "example_universe = universe.copy()\n",
    "example_universe[\"cutoff\"] = example_universe[\"cutoff\"][0]\n",
    "example_universe[\"eval_fairness_grouping\"] = example_universe[\"eval_fairness_grouping\"][0]\n",
    "fairness_dict, metric_frame = universe_analysis.compute_metrics(\n",
    "    example_universe,\n",
    "    y_pred_prob=probs_test,\n",
    "    y_test=y_true,\n",
    "    org_test=org_test,\n",
    ")"
   ]
  },
  {
   "cell_type": "markdown",
   "id": "1fb7a0e9",
   "metadata": {
    "papermill": {
     "duration": 0.046488,
     "end_time": "2025-08-19T18:40:55.479815",
     "exception": false,
     "start_time": "2025-08-19T18:40:55.433327",
     "status": "completed"
    },
    "tags": []
   },
   "source": [
    "# Overall"
   ]
  },
  {
   "cell_type": "markdown",
   "id": "be1784b1",
   "metadata": {
    "papermill": {
     "duration": 0.024807,
     "end_time": "2025-08-19T18:40:55.533233",
     "exception": false,
     "start_time": "2025-08-19T18:40:55.508426",
     "status": "completed"
    },
    "tags": []
   },
   "source": [
    "Main fairness target: Equalized Odds. Seems to be a better fit than equal opportunity, since we're not only interested in Y = 1. Seems to be a better fit than demographic parity, since we also care about accuracy, not just equal distribution of preds.\n",
    "\n",
    "Pick column for computation of fairness metrics\n",
    "\n",
    "Performance\n",
    "Overall performance measures, most interesting in relation to the measures split by group below"
   ]
  },
  {
   "cell_type": "code",
   "execution_count": 59,
   "id": "b7672bee",
   "metadata": {
    "execution": {
     "iopub.execute_input": "2025-08-19T18:40:55.561482Z",
     "iopub.status.busy": "2025-08-19T18:40:55.560938Z",
     "iopub.status.idle": "2025-08-19T18:40:55.569176Z",
     "shell.execute_reply": "2025-08-19T18:40:55.568458Z"
    },
    "papermill": {
     "duration": 0.024378,
     "end_time": "2025-08-19T18:40:55.571697",
     "exception": false,
     "start_time": "2025-08-19T18:40:55.547319",
     "status": "completed"
    },
    "tags": []
   },
   "outputs": [
    {
     "data": {
      "text/plain": [
       "accuracy                   0.222818\n",
       "balanced accuracy          0.545147\n",
       "f1                         0.244192\n",
       "precision                  0.139499\n",
       "false positive rate        0.888417\n",
       "false negative rate        0.021290\n",
       "selection rate             0.900000\n",
       "count                  89710.000000\n",
       "dtype: float64"
      ]
     },
     "execution_count": 59,
     "metadata": {},
     "output_type": "execute_result"
    }
   ],
   "source": [
    "metric_frame.overall"
   ]
  },
  {
   "cell_type": "markdown",
   "id": "d93333c9",
   "metadata": {
    "papermill": {
     "duration": 0.012515,
     "end_time": "2025-08-19T18:40:55.598882",
     "exception": false,
     "start_time": "2025-08-19T18:40:55.586367",
     "status": "completed"
    },
    "tags": []
   },
   "source": [
    "By Group"
   ]
  },
  {
   "cell_type": "code",
   "execution_count": 60,
   "id": "52256966",
   "metadata": {
    "execution": {
     "iopub.execute_input": "2025-08-19T18:40:55.632950Z",
     "iopub.status.busy": "2025-08-19T18:40:55.625351Z",
     "iopub.status.idle": "2025-08-19T18:40:55.649115Z",
     "shell.execute_reply": "2025-08-19T18:40:55.648377Z"
    },
    "papermill": {
     "duration": 0.044414,
     "end_time": "2025-08-19T18:40:55.656409",
     "exception": false,
     "start_time": "2025-08-19T18:40:55.611995",
     "status": "completed"
    },
    "tags": []
   },
   "outputs": [
    {
     "data": {
      "text/html": [
       "<div>\n",
       "<style scoped>\n",
       "    .dataframe tbody tr th:only-of-type {\n",
       "        vertical-align: middle;\n",
       "    }\n",
       "\n",
       "    .dataframe tbody tr th {\n",
       "        vertical-align: top;\n",
       "    }\n",
       "\n",
       "    .dataframe thead th {\n",
       "        text-align: right;\n",
       "    }\n",
       "</style>\n",
       "<table border=\"1\" class=\"dataframe\">\n",
       "  <thead>\n",
       "    <tr style=\"text-align: right;\">\n",
       "      <th></th>\n",
       "      <th>accuracy</th>\n",
       "      <th>balanced accuracy</th>\n",
       "      <th>f1</th>\n",
       "      <th>precision</th>\n",
       "      <th>false positive rate</th>\n",
       "      <th>false negative rate</th>\n",
       "      <th>selection rate</th>\n",
       "      <th>count</th>\n",
       "    </tr>\n",
       "    <tr>\n",
       "      <th>majmin</th>\n",
       "      <th></th>\n",
       "      <th></th>\n",
       "      <th></th>\n",
       "      <th></th>\n",
       "      <th></th>\n",
       "      <th></th>\n",
       "      <th></th>\n",
       "      <th></th>\n",
       "    </tr>\n",
       "  </thead>\n",
       "  <tbody>\n",
       "    <tr>\n",
       "      <th>majority</th>\n",
       "      <td>0.242085</td>\n",
       "      <td>0.553651</td>\n",
       "      <td>0.254129</td>\n",
       "      <td>0.146058</td>\n",
       "      <td>0.869832</td>\n",
       "      <td>0.022867</td>\n",
       "      <td>0.884010</td>\n",
       "      <td>69170.0</td>\n",
       "    </tr>\n",
       "    <tr>\n",
       "      <th>minority</th>\n",
       "      <td>0.157936</td>\n",
       "      <td>0.517492</td>\n",
       "      <td>0.212386</td>\n",
       "      <td>0.119028</td>\n",
       "      <td>0.949813</td>\n",
       "      <td>0.015203</td>\n",
       "      <td>0.953846</td>\n",
       "      <td>20540.0</td>\n",
       "    </tr>\n",
       "  </tbody>\n",
       "</table>\n",
       "</div>"
      ],
      "text/plain": [
       "          accuracy  balanced accuracy        f1  precision  \\\n",
       "majmin                                                       \n",
       "majority  0.242085           0.553651  0.254129   0.146058   \n",
       "minority  0.157936           0.517492  0.212386   0.119028   \n",
       "\n",
       "          false positive rate  false negative rate  selection rate    count  \n",
       "majmin                                                                       \n",
       "majority             0.869832             0.022867        0.884010  69170.0  \n",
       "minority             0.949813             0.015203        0.953846  20540.0  "
      ]
     },
     "execution_count": 60,
     "metadata": {},
     "output_type": "execute_result"
    }
   ],
   "source": [
    "metric_frame.by_group"
   ]
  },
  {
   "cell_type": "code",
   "execution_count": 61,
   "id": "6e6c20ae",
   "metadata": {
    "execution": {
     "iopub.execute_input": "2025-08-19T18:40:55.711743Z",
     "iopub.status.busy": "2025-08-19T18:40:55.711256Z",
     "iopub.status.idle": "2025-08-19T18:40:57.756913Z",
     "shell.execute_reply": "2025-08-19T18:40:57.756020Z"
    },
    "papermill": {
     "duration": 2.069788,
     "end_time": "2025-08-19T18:40:57.758161",
     "exception": false,
     "start_time": "2025-08-19T18:40:55.688373",
     "status": "completed"
    },
    "tags": []
   },
   "outputs": [
    {
     "data": {
      "text/plain": [
       "array([[<Axes: title={'center': 'accuracy'}, xlabel='majmin'>,\n",
       "        <Axes: title={'center': 'balanced accuracy'}, xlabel='majmin'>,\n",
       "        <Axes: title={'center': 'f1'}, xlabel='majmin'>],\n",
       "       [<Axes: title={'center': 'precision'}, xlabel='majmin'>,\n",
       "        <Axes: title={'center': 'false positive rate'}, xlabel='majmin'>,\n",
       "        <Axes: title={'center': 'false negative rate'}, xlabel='majmin'>],\n",
       "       [<Axes: title={'center': 'selection rate'}, xlabel='majmin'>,\n",
       "        <Axes: title={'center': 'count'}, xlabel='majmin'>,\n",
       "        <Axes: xlabel='majmin'>]], dtype=object)"
      ]
     },
     "execution_count": 61,
     "metadata": {},
     "output_type": "execute_result"
    },
    {
     "data": {
      "image/png": "[encoded data removed]",
      "text/plain": [
       "<Figure size 1200x800 with 9 Axes>"
      ]
     },
     "metadata": {},
     "output_type": "display_data"
    }
   ],
   "source": [
    "# In a graphic\n",
    "metric_frame.by_group.plot.bar(\n",
    "    subplots=True,\n",
    "    layout=[3, 3],\n",
    "    legend=False,\n",
    "    figsize=[12, 8],\n",
    "    title=\"Show all metrics\",\n",
    ")"
   ]
  },
  {
   "cell_type": "markdown",
   "id": "b2e433ae",
   "metadata": {
    "papermill": {
     "duration": 0.014414,
     "end_time": "2025-08-19T18:40:57.788066",
     "exception": false,
     "start_time": "2025-08-19T18:40:57.773652",
     "status": "completed"
    },
    "tags": []
   },
   "source": [
    "# Final Output"
   ]
  },
  {
   "cell_type": "code",
   "execution_count": 62,
   "id": "3871301e",
   "metadata": {
    "execution": {
     "iopub.execute_input": "2025-08-19T18:40:57.817872Z",
     "iopub.status.busy": "2025-08-19T18:40:57.817145Z",
     "iopub.status.idle": "2025-08-19T18:40:57.826684Z",
     "shell.execute_reply": "2025-08-19T18:40:57.826097Z"
    },
    "papermill": {
     "duration": 0.025839,
     "end_time": "2025-08-19T18:40:57.827918",
     "exception": false,
     "start_time": "2025-08-19T18:40:57.802079",
     "status": "completed"
    },
    "tags": []
   },
   "outputs": [
    {
     "data": {
      "text/plain": [
       "4"
      ]
     },
     "execution_count": 62,
     "metadata": {},
     "output_type": "execute_result"
    }
   ],
   "source": [
    "sub_universes = universe_analysis.generate_sub_universes()\n",
    "len(sub_universes)"
   ]
  },
  {
   "cell_type": "code",
   "execution_count": 63,
   "id": "d9cfdaca",
   "metadata": {
    "execution": {
     "iopub.execute_input": "2025-08-19T18:40:57.861715Z",
     "iopub.status.busy": "2025-08-19T18:40:57.860412Z",
     "iopub.status.idle": "2025-08-19T18:40:57.903990Z",
     "shell.execute_reply": "2025-08-19T18:40:57.903289Z"
    },
    "papermill": {
     "duration": 0.06085,
     "end_time": "2025-08-19T18:40:57.905469",
     "exception": false,
     "start_time": "2025-08-19T18:40:57.844619",
     "status": "completed"
    },
    "tags": []
   },
   "outputs": [],
   "source": [
    "def filter_sub_universe_data(sub_universe, org_test):\n",
    "    # Keep all rows — no filtering\n",
    "    keep_rows_mask = np.ones(org_test.shape[0], dtype=bool)\n",
    "\n",
    "    print(f\"[INFO] Keeping all rows: {keep_rows_mask.sum()} rows retained.\")\n",
    "    return keep_rows_mask"
   ]
  },
  {
   "cell_type": "code",
   "execution_count": 64,
   "id": "2bc31ac1",
   "metadata": {
    "execution": {
     "iopub.execute_input": "2025-08-19T18:40:57.963274Z",
     "iopub.status.busy": "2025-08-19T18:40:57.962784Z",
     "iopub.status.idle": "2025-08-19T18:41:07.200891Z",
     "shell.execute_reply": "2025-08-19T18:41:07.199906Z"
    },
    "papermill": {
     "duration": 9.26894,
     "end_time": "2025-08-19T18:41:07.202150",
     "exception": false,
     "start_time": "2025-08-19T18:40:57.933210",
     "status": "completed"
    },
    "tags": []
   },
   "outputs": [
    {
     "name": "stdout",
     "output_type": "stream",
     "text": [
      "Stopping execution_time clock.\n",
      "[INFO] Keeping all rows: 89710 rows retained.\n"
     ]
    },
    {
     "name": "stdout",
     "output_type": "stream",
     "text": [
      "[INFO] Keeping all rows: 89710 rows retained.\n"
     ]
    },
    {
     "name": "stdout",
     "output_type": "stream",
     "text": [
      "[INFO] Keeping all rows: 89710 rows retained.\n"
     ]
    },
    {
     "name": "stdout",
     "output_type": "stream",
     "text": [
      "[INFO] Keeping all rows: 89710 rows retained.\n"
     ]
    },
    {
     "data": {
      "text/html": [
       "<div>\n",
       "<style scoped>\n",
       "    .dataframe tbody tr th:only-of-type {\n",
       "        vertical-align: middle;\n",
       "    }\n",
       "\n",
       "    .dataframe tbody tr th {\n",
       "        vertical-align: top;\n",
       "    }\n",
       "\n",
       "    .dataframe thead th {\n",
       "        text-align: right;\n",
       "    }\n",
       "</style>\n",
       "<table border=\"1\" class=\"dataframe\">\n",
       "  <thead>\n",
       "    <tr style=\"text-align: right;\">\n",
       "      <th></th>\n",
       "      <th>run_no</th>\n",
       "      <th>universe_id</th>\n",
       "      <th>universe_settings</th>\n",
       "      <th>execution_time</th>\n",
       "      <th>test_size_n</th>\n",
       "      <th>test_size_frac</th>\n",
       "      <th>fair_main_equalized_odds_difference</th>\n",
       "      <th>fair_main_equalized_odds_ratio</th>\n",
       "      <th>fair_main_demographic_parity_difference</th>\n",
       "      <th>fair_main_demographic_parity_ratio</th>\n",
       "      <th>...</th>\n",
       "      <th>perf_grp_precision_0</th>\n",
       "      <th>perf_grp_precision_1</th>\n",
       "      <th>perf_grp_false positive rate_0</th>\n",
       "      <th>perf_grp_false positive rate_1</th>\n",
       "      <th>perf_grp_false negative rate_0</th>\n",
       "      <th>perf_grp_false negative rate_1</th>\n",
       "      <th>perf_grp_selection rate_0</th>\n",
       "      <th>perf_grp_selection rate_1</th>\n",
       "      <th>perf_grp_count_0</th>\n",
       "      <th>perf_grp_count_1</th>\n",
       "    </tr>\n",
       "  </thead>\n",
       "  <tbody>\n",
       "    <tr>\n",
       "      <th>0</th>\n",
       "      <td>3</td>\n",
       "      <td>fafcdeac82718fb37b9cf4599d49c6f6</td>\n",
       "      <td>{\"cutoff\": \"quantile_0.1\", \"eval_fairness_grou...</td>\n",
       "      <td>28.648563</td>\n",
       "      <td>89710</td>\n",
       "      <td>1.0</td>\n",
       "      <td>0.079981</td>\n",
       "      <td>0.915793</td>\n",
       "      <td>0.069836</td>\n",
       "      <td>0.926785</td>\n",
       "      <td>...</td>\n",
       "      <td>NaN</td>\n",
       "      <td>NaN</td>\n",
       "      <td>NaN</td>\n",
       "      <td>NaN</td>\n",
       "      <td>NaN</td>\n",
       "      <td>NaN</td>\n",
       "      <td>NaN</td>\n",
       "      <td>NaN</td>\n",
       "      <td>NaN</td>\n",
       "      <td>NaN</td>\n",
       "    </tr>\n",
       "    <tr>\n",
       "      <th>0</th>\n",
       "      <td>3</td>\n",
       "      <td>fafcdeac82718fb37b9cf4599d49c6f6</td>\n",
       "      <td>{\"cutoff\": \"quantile_0.1\", \"eval_fairness_grou...</td>\n",
       "      <td>28.648563</td>\n",
       "      <td>89710</td>\n",
       "      <td>1.0</td>\n",
       "      <td>0.079981</td>\n",
       "      <td>0.915793</td>\n",
       "      <td>0.069836</td>\n",
       "      <td>0.926785</td>\n",
       "      <td>...</td>\n",
       "      <td>0.119028</td>\n",
       "      <td>0.146058</td>\n",
       "      <td>0.949813</td>\n",
       "      <td>0.869832</td>\n",
       "      <td>0.015203</td>\n",
       "      <td>0.022867</td>\n",
       "      <td>0.953846</td>\n",
       "      <td>0.884010</td>\n",
       "      <td>20540.0</td>\n",
       "      <td>69170.0</td>\n",
       "    </tr>\n",
       "    <tr>\n",
       "      <th>0</th>\n",
       "      <td>3</td>\n",
       "      <td>fafcdeac82718fb37b9cf4599d49c6f6</td>\n",
       "      <td>{\"cutoff\": \"quantile_0.25\", \"eval_fairness_gro...</td>\n",
       "      <td>28.648563</td>\n",
       "      <td>89710</td>\n",
       "      <td>1.0</td>\n",
       "      <td>0.180476</td>\n",
       "      <td>0.790627</td>\n",
       "      <td>0.158495</td>\n",
       "      <td>0.818281</td>\n",
       "      <td>...</td>\n",
       "      <td>NaN</td>\n",
       "      <td>NaN</td>\n",
       "      <td>NaN</td>\n",
       "      <td>NaN</td>\n",
       "      <td>NaN</td>\n",
       "      <td>NaN</td>\n",
       "      <td>NaN</td>\n",
       "      <td>NaN</td>\n",
       "      <td>NaN</td>\n",
       "      <td>NaN</td>\n",
       "    </tr>\n",
       "    <tr>\n",
       "      <th>0</th>\n",
       "      <td>3</td>\n",
       "      <td>fafcdeac82718fb37b9cf4599d49c6f6</td>\n",
       "      <td>{\"cutoff\": \"quantile_0.25\", \"eval_fairness_gro...</td>\n",
       "      <td>28.648563</td>\n",
       "      <td>89710</td>\n",
       "      <td>1.0</td>\n",
       "      <td>0.180476</td>\n",
       "      <td>0.790627</td>\n",
       "      <td>0.158495</td>\n",
       "      <td>0.818281</td>\n",
       "      <td>...</td>\n",
       "      <td>0.125649</td>\n",
       "      <td>0.171289</td>\n",
       "      <td>0.861985</td>\n",
       "      <td>0.681509</td>\n",
       "      <td>0.049409</td>\n",
       "      <td>0.074836</td>\n",
       "      <td>0.872201</td>\n",
       "      <td>0.713705</td>\n",
       "      <td>20540.0</td>\n",
       "      <td>69170.0</td>\n",
       "    </tr>\n",
       "  </tbody>\n",
       "</table>\n",
       "<p>4 rows × 50 columns</p>\n",
       "</div>"
      ],
      "text/plain": [
       "  run_no                       universe_id  \\\n",
       "0      3  fafcdeac82718fb37b9cf4599d49c6f6   \n",
       "0      3  fafcdeac82718fb37b9cf4599d49c6f6   \n",
       "0      3  fafcdeac82718fb37b9cf4599d49c6f6   \n",
       "0      3  fafcdeac82718fb37b9cf4599d49c6f6   \n",
       "\n",
       "                                   universe_settings  execution_time  \\\n",
       "0  {\"cutoff\": \"quantile_0.1\", \"eval_fairness_grou...       28.648563   \n",
       "0  {\"cutoff\": \"quantile_0.1\", \"eval_fairness_grou...       28.648563   \n",
       "0  {\"cutoff\": \"quantile_0.25\", \"eval_fairness_gro...       28.648563   \n",
       "0  {\"cutoff\": \"quantile_0.25\", \"eval_fairness_gro...       28.648563   \n",
       "\n",
       "   test_size_n  test_size_frac  fair_main_equalized_odds_difference  \\\n",
       "0        89710             1.0                             0.079981   \n",
       "0        89710             1.0                             0.079981   \n",
       "0        89710             1.0                             0.180476   \n",
       "0        89710             1.0                             0.180476   \n",
       "\n",
       "   fair_main_equalized_odds_ratio  fair_main_demographic_parity_difference  \\\n",
       "0                        0.915793                                 0.069836   \n",
       "0                        0.915793                                 0.069836   \n",
       "0                        0.790627                                 0.158495   \n",
       "0                        0.790627                                 0.158495   \n",
       "\n",
       "   fair_main_demographic_parity_ratio  ...  perf_grp_precision_0  \\\n",
       "0                            0.926785  ...                   NaN   \n",
       "0                            0.926785  ...              0.119028   \n",
       "0                            0.818281  ...                   NaN   \n",
       "0                            0.818281  ...              0.125649   \n",
       "\n",
       "   perf_grp_precision_1  perf_grp_false positive rate_0  \\\n",
       "0                   NaN                             NaN   \n",
       "0              0.146058                        0.949813   \n",
       "0                   NaN                             NaN   \n",
       "0              0.171289                        0.861985   \n",
       "\n",
       "   perf_grp_false positive rate_1  perf_grp_false negative rate_0  \\\n",
       "0                             NaN                             NaN   \n",
       "0                        0.869832                        0.015203   \n",
       "0                             NaN                             NaN   \n",
       "0                        0.681509                        0.049409   \n",
       "\n",
       "   perf_grp_false negative rate_1  perf_grp_selection rate_0  \\\n",
       "0                             NaN                        NaN   \n",
       "0                        0.022867                   0.953846   \n",
       "0                             NaN                        NaN   \n",
       "0                        0.074836                   0.872201   \n",
       "\n",
       "   perf_grp_selection rate_1  perf_grp_count_0  perf_grp_count_1  \n",
       "0                        NaN               NaN               NaN  \n",
       "0                   0.884010           20540.0           69170.0  \n",
       "0                        NaN               NaN               NaN  \n",
       "0                   0.713705           20540.0           69170.0  \n",
       "\n",
       "[4 rows x 50 columns]"
      ]
     },
     "execution_count": 64,
     "metadata": {},
     "output_type": "execute_result"
    }
   ],
   "source": [
    "final_output = universe_analysis.generate_final_output(\n",
    "    y_pred_prob=probs_test,\n",
    "    y_test=y_true,\n",
    "    org_test=org_test,\n",
    "    filter_data=filter_sub_universe_data,\n",
    "    cp_metrics_df=cp_metrics_df,\n",
    "    save=True,\n",
    ")\n",
    "final_output"
   ]
  },
  {
   "cell_type": "code",
   "execution_count": null,
   "id": "8b80a1ff",
   "metadata": {
    "papermill": {
     "duration": 0.04958,
     "end_time": "2025-08-19T18:41:07.285354",
     "exception": false,
     "start_time": "2025-08-19T18:41:07.235774",
     "status": "completed"
    },
    "tags": []
   },
   "outputs": [],
   "source": []
  },
  {
   "cell_type": "code",
   "execution_count": null,
   "id": "275c9fad",
   "metadata": {
    "papermill": {
     "duration": 0.031253,
     "end_time": "2025-08-19T18:41:07.347637",
     "exception": false,
     "start_time": "2025-08-19T18:41:07.316384",
     "status": "completed"
    },
    "tags": []
   },
   "outputs": [],
   "source": []
  }
 ],
 "metadata": {
  "celltoolbar": "Tags",
  "kernelspec": {
   "display_name": "Python (CMA Fairness)",
   "language": "python",
   "name": "cma_fair_env"
  },
  "language_info": {
   "codemirror_mode": {
    "name": "ipython",
    "version": 3
   },
   "file_extension": ".py",
   "mimetype": "text/x-python",
   "name": "python",
   "nbconvert_exporter": "python",
   "pygments_lexer": "ipython3",
   "version": "3.10.12"
  },
  "papermill": {
   "default_parameters": {},
   "duration": 43.6761,
   "end_time": "2025-08-19T18:41:08.698658",
   "environment_variables": {},
   "exception": null,
   "input_path": "universe_analysis.ipynb",
   "output_path": "output/runs/3/notebooks/m_3-fafcdeac82718fb37b9cf4599d49c6f6.ipynb",
   "parameters": {
    "output_dir": "output",
    "run_no": "3",
    "seed": "2023",
    "universe": "{\"cutoff\": [\"quantile_0.1\", \"quantile_0.25\"], \"eval_fairness_grouping\": [\"majority-minority\", \"nationality-all\"], \"exclude_features\": \"nationality-sex\", \"exclude_subgroups\": \"drop-non-german\", \"model\": \"logreg\", \"scale\": \"scale\", \"training_size\": \"5k\", \"training_year\": \"2010_14\"}",
    "universe_id": "fafcdeac82718fb37b9cf4599d49c6f6"
   },
   "start_time": "2025-08-19T18:40:25.022558",
   "version": "2.6.0"
  }
 },
 "nbformat": 4,
 "nbformat_minor": 5
}