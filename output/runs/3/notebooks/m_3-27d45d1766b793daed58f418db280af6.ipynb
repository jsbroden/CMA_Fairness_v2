{
 "cells": [
  {
   "cell_type": "markdown",
   "id": "ef23dbb3",
   "metadata": {
    "papermill": {
     "duration": 0.009847,
     "end_time": "2025-08-19T18:38:01.695814",
     "exception": false,
     "start_time": "2025-08-19T18:38:01.685967",
     "status": "completed"
    },
    "tags": []
   },
   "source": [
    "# Setup"
   ]
  },
  {
   "cell_type": "code",
   "execution_count": 1,
   "id": "0bc8e7dc",
   "metadata": {
    "execution": {
     "iopub.execute_input": "2025-08-19T18:38:01.746194Z",
     "iopub.status.busy": "2025-08-19T18:38:01.745881Z",
     "iopub.status.idle": "2025-08-19T18:38:01.755295Z",
     "shell.execute_reply": "2025-08-19T18:38:01.754597Z"
    },
    "papermill": {
     "duration": 0.039312,
     "end_time": "2025-08-19T18:38:01.756360",
     "exception": false,
     "start_time": "2025-08-19T18:38:01.717048",
     "status": "completed"
    },
    "tags": []
   },
   "outputs": [
    {
     "name": "stdout",
     "output_type": "stream",
     "text": [
      "/dss/dsshome1/0C/ra93lal2/cma/CMA_Fairness_v2\n"
     ]
    },
    {
     "name": "stderr",
     "output_type": "stream",
     "text": [
      "/dss/dsshome1/0C/ra93lal2/.local/share/virtualenvs/CMA_Fairness_v2-3j10GkSs/lib/python3.10/site-packages/IPython/core/magics/osm.py:393: UserWarning: This is now an optional IPython functionality, using bookmarks requires you to install the `pickleshare` library.\n",
      "  bkms = self.shell.db.get('bookmarks', {})\n",
      "/dss/dsshome1/0C/ra93lal2/.local/share/virtualenvs/CMA_Fairness_v2-3j10GkSs/lib/python3.10/site-packages/IPython/core/magics/osm.py:417: UserWarning: This is now an optional IPython functionality, setting dhist requires you to install the `pickleshare` library.\n",
      "  self.shell.db['dhist'] = compress_dhist(dhist)[-100:]\n"
     ]
    }
   ],
   "source": [
    "%cd ~/cma/CMA_Fairness_v2"
   ]
  },
  {
   "cell_type": "markdown",
   "id": "9d235661",
   "metadata": {
    "papermill": {
     "duration": 0.015256,
     "end_time": "2025-08-19T18:38:01.797737",
     "exception": false,
     "start_time": "2025-08-19T18:38:01.782481",
     "status": "completed"
    },
    "tags": []
   },
   "source": [
    "The following cell holds the definition of our parameters, these values can be overriden by rendering the with e.g. the following command:\n",
    "\n",
    "papermill -p alpha 0.2 -p ratio 0.3 universe_analysis.ipynb output/test_run.ipynb"
   ]
  },
  {
   "cell_type": "code",
   "execution_count": 2,
   "id": "4a789d8e",
   "metadata": {
    "execution": {
     "iopub.execute_input": "2025-08-19T18:38:01.858202Z",
     "iopub.status.busy": "2025-08-19T18:38:01.857907Z",
     "iopub.status.idle": "2025-08-19T18:38:01.862392Z",
     "shell.execute_reply": "2025-08-19T18:38:01.861602Z"
    },
    "papermill": {
     "duration": 0.030501,
     "end_time": "2025-08-19T18:38:01.863486",
     "exception": false,
     "start_time": "2025-08-19T18:38:01.832985",
     "status": "completed"
    },
    "tags": []
   },
   "outputs": [
    {
     "name": "stdout",
     "output_type": "stream",
     "text": [
      "Current working directory: /dss/dsshome1/0C/ra93lal2/cma/CMA_Fairness_v2\n"
     ]
    }
   ],
   "source": [
    "import os\n",
    "print(\"Current working directory:\", os.getcwd())"
   ]
  },
  {
   "cell_type": "code",
   "execution_count": 3,
   "id": "4132aaed",
   "metadata": {
    "execution": {
     "iopub.execute_input": "2025-08-19T18:38:01.922155Z",
     "iopub.status.busy": "2025-08-19T18:38:01.921869Z",
     "iopub.status.idle": "2025-08-19T18:38:01.927419Z",
     "shell.execute_reply": "2025-08-19T18:38:01.925958Z"
    },
    "papermill": {
     "duration": 0.04815,
     "end_time": "2025-08-19T18:38:01.929496",
     "exception": false,
     "start_time": "2025-08-19T18:38:01.881346",
     "status": "completed"
    },
    "tags": [
     "parameters"
    ]
   },
   "outputs": [],
   "source": [
    "run_no = 0\n",
    "universe_id = \"test\"\n",
    "universe = {\n",
    "    \"training_size\": \"5k\", # \"25k\", \"5k\", \"1k\"\n",
    "    \"training_year\": \"2012_14\", # \"2014\", \"2012_14\", \"2010_14\"\n",
    "    \"scale\": \"scale\", # \"scale\", \"do-not-scale\",\n",
    "    \"model\": \"elasticnet\", # \"logreg\", \"penalized_logreg\", \"rf\", \"gbm\", \"elasticnet\"\n",
    "    \"cutoff\": [\"quantile_0.15\", \"quantile_0.30\"],\n",
    "    \"exclude_features\": \"age\", # \"none\", \"nationality\", \"sex\", \"nationality-sex\", \"age\"\n",
    "    \"exclude_subgroups\": \"drop-non-german\", # \"keep-all\", \"drop-non-german\"\n",
    "    \"eval_fairness_grouping\": [\"majority-minority\", \"nationality-all\"]\n",
    "}\n",
    "\n",
    "output_dir=\"./output\"\n",
    "seed=0"
   ]
  },
  {
   "cell_type": "code",
   "execution_count": 4,
   "id": "0818517b",
   "metadata": {
    "execution": {
     "iopub.execute_input": "2025-08-19T18:38:02.000028Z",
     "iopub.status.busy": "2025-08-19T18:38:01.999735Z",
     "iopub.status.idle": "2025-08-19T18:38:02.003714Z",
     "shell.execute_reply": "2025-08-19T18:38:02.002977Z"
    },
    "papermill": {
     "duration": 0.036755,
     "end_time": "2025-08-19T18:38:02.009800",
     "exception": false,
     "start_time": "2025-08-19T18:38:01.973045",
     "status": "completed"
    },
    "tags": [
     "injected-parameters"
    ]
   },
   "outputs": [],
   "source": [
    "# Parameters\n",
    "universe_id = \"27d45d1766b793daed58f418db280af6\"\n",
    "run_no = \"3\"\n",
    "universe = \"{\\\"cutoff\\\": [\\\"quantile_0.1\\\", \\\"quantile_0.25\\\"], \\\"eval_fairness_grouping\\\": [\\\"majority-minority\\\", \\\"nationality-all\\\"], \\\"exclude_features\\\": \\\"nationality-sex\\\", \\\"exclude_subgroups\\\": \\\"drop-non-german\\\", \\\"model\\\": \\\"gbm\\\", \\\"scale\\\": \\\"do-not-scale\\\", \\\"training_size\\\": \\\"5k\\\", \\\"training_year\\\": \\\"2012_14\\\"}\"\n",
    "output_dir = \"output\"\n",
    "seed = \"2023\"\n"
   ]
  },
  {
   "cell_type": "code",
   "execution_count": 5,
   "id": "a5d7941f",
   "metadata": {
    "execution": {
     "iopub.execute_input": "2025-08-19T18:38:02.086692Z",
     "iopub.status.busy": "2025-08-19T18:38:02.086386Z",
     "iopub.status.idle": "2025-08-19T18:38:02.090275Z",
     "shell.execute_reply": "2025-08-19T18:38:02.089509Z"
    },
    "papermill": {
     "duration": 0.03116,
     "end_time": "2025-08-19T18:38:02.099711",
     "exception": false,
     "start_time": "2025-08-19T18:38:02.068551",
     "status": "completed"
    },
    "tags": []
   },
   "outputs": [],
   "source": [
    "import json\n",
    "if isinstance(universe, str):\n",
    "    universe = json.loads(universe)"
   ]
  },
  {
   "cell_type": "code",
   "execution_count": 6,
   "id": "7076ccb1",
   "metadata": {
    "execution": {
     "iopub.execute_input": "2025-08-19T18:38:02.132088Z",
     "iopub.status.busy": "2025-08-19T18:38:02.131798Z",
     "iopub.status.idle": "2025-08-19T18:38:02.215810Z",
     "shell.execute_reply": "2025-08-19T18:38:02.215073Z"
    },
    "papermill": {
     "duration": 0.097876,
     "end_time": "2025-08-19T18:38:02.217499",
     "exception": false,
     "start_time": "2025-08-19T18:38:02.119623",
     "status": "completed"
    },
    "tags": []
   },
   "outputs": [],
   "source": [
    "# Auto-reload the custom package\n",
    "%load_ext autoreload\n",
    "%autoreload 1\n",
    "%aimport fairness_multiverse"
   ]
  },
  {
   "cell_type": "code",
   "execution_count": 7,
   "id": "94c8eb93",
   "metadata": {
    "execution": {
     "iopub.execute_input": "2025-08-19T18:38:02.266199Z",
     "iopub.status.busy": "2025-08-19T18:38:02.265910Z",
     "iopub.status.idle": "2025-08-19T18:38:05.123894Z",
     "shell.execute_reply": "2025-08-19T18:38:05.122896Z"
    },
    "papermill": {
     "duration": 2.884724,
     "end_time": "2025-08-19T18:38:05.125457",
     "exception": false,
     "start_time": "2025-08-19T18:38:02.240733",
     "status": "completed"
    },
    "tags": []
   },
   "outputs": [],
   "source": [
    "from fairness_multiverse.universe import UniverseAnalysis\n",
    "\n",
    "universe_analysis = UniverseAnalysis(\n",
    "    run_no = run_no,\n",
    "    universe_id = universe_id,\n",
    "    universe = universe,\n",
    "    output_dir=output_dir,\n",
    ")"
   ]
  },
  {
   "cell_type": "code",
   "execution_count": 8,
   "id": "2a6381cf",
   "metadata": {
    "execution": {
     "iopub.execute_input": "2025-08-19T18:38:05.166839Z",
     "iopub.status.busy": "2025-08-19T18:38:05.166347Z",
     "iopub.status.idle": "2025-08-19T18:38:05.171269Z",
     "shell.execute_reply": "2025-08-19T18:38:05.170568Z"
    },
    "papermill": {
     "duration": 0.027234,
     "end_time": "2025-08-19T18:38:05.172359",
     "exception": false,
     "start_time": "2025-08-19T18:38:05.145125",
     "status": "completed"
    },
    "tags": []
   },
   "outputs": [
    {
     "name": "stdout",
     "output_type": "stream",
     "text": [
      "Using Seed: 2023\n"
     ]
    }
   ],
   "source": [
    "import numpy as np\n",
    "parsed_seed = int(seed)\n",
    "np.random.seed(parsed_seed)\n",
    "print(f\"Using Seed: {parsed_seed}\")"
   ]
  },
  {
   "cell_type": "markdown",
   "id": "b6e958b4",
   "metadata": {
    "papermill": {
     "duration": 0.015538,
     "end_time": "2025-08-19T18:38:05.197443",
     "exception": false,
     "start_time": "2025-08-19T18:38:05.181905",
     "status": "completed"
    },
    "tags": []
   },
   "source": [
    "# Loading Data"
   ]
  },
  {
   "cell_type": "code",
   "execution_count": 9,
   "id": "98701482",
   "metadata": {
    "execution": {
     "iopub.execute_input": "2025-08-19T18:38:05.238617Z",
     "iopub.status.busy": "2025-08-19T18:38:05.238190Z",
     "iopub.status.idle": "2025-08-19T18:38:20.101580Z",
     "shell.execute_reply": "2025-08-19T18:38:20.100540Z"
    },
    "papermill": {
     "duration": 14.881949,
     "end_time": "2025-08-19T18:38:20.102685",
     "exception": false,
     "start_time": "2025-08-19T18:38:05.220736",
     "status": "completed"
    },
    "tags": []
   },
   "outputs": [
    {
     "name": "stdout",
     "output_type": "stream",
     "text": [
      "Loading SIAB data from cache: data/siab_cached.csv.gz\n"
     ]
    },
    {
     "name": "stdout",
     "output_type": "stream",
     "text": [
      "(643690, 164)\n"
     ]
    }
   ],
   "source": [
    "from pathlib import Path\n",
    "import pandas as pd\n",
    "\n",
    "# File paths\n",
    "raw_file = Path(\"data/raw/siab.csv\")\n",
    "cache_file = Path(\"data/siab_cached.csv.gz\")\n",
    "\n",
    "# Ensure cache directory exists\n",
    "cache_file.parent.mkdir(parents=True, exist_ok=True)\n",
    "\n",
    "# Load with simple caching\n",
    "if cache_file.exists():\n",
    "    print(f\"Loading SIAB data from cache: {cache_file}\")\n",
    "    siab = pd.read_csv(cache_file, compression='gzip')\n",
    "else:\n",
    "    print(f\"Cache not found. Reading raw SIAB data: {raw_file}\")\n",
    "    siab = pd.read_csv(raw_file)\n",
    "    siab.to_csv(cache_file, index=False, compression='gzip')\n",
    "    print(f\"Cached SIAB data to: {cache_file}\")\n",
    "\n",
    "print(siab.shape)"
   ]
  },
  {
   "cell_type": "code",
   "execution_count": 10,
   "id": "058d2abb",
   "metadata": {
    "execution": {
     "iopub.execute_input": "2025-08-19T18:38:20.130170Z",
     "iopub.status.busy": "2025-08-19T18:38:20.129702Z",
     "iopub.status.idle": "2025-08-19T18:38:20.461719Z",
     "shell.execute_reply": "2025-08-19T18:38:20.460906Z"
    },
    "papermill": {
     "duration": 0.346661,
     "end_time": "2025-08-19T18:38:20.462909",
     "exception": false,
     "start_time": "2025-08-19T18:38:20.116248",
     "status": "completed"
    },
    "tags": []
   },
   "outputs": [
    {
     "data": {
      "text/html": [
       "<div>\n",
       "<style scoped>\n",
       "    .dataframe tbody tr th:only-of-type {\n",
       "        vertical-align: middle;\n",
       "    }\n",
       "\n",
       "    .dataframe tbody tr th {\n",
       "        vertical-align: top;\n",
       "    }\n",
       "\n",
       "    .dataframe thead th {\n",
       "        text-align: right;\n",
       "    }\n",
       "</style>\n",
       "<table border=\"1\" class=\"dataframe\">\n",
       "  <thead>\n",
       "    <tr style=\"text-align: right;\">\n",
       "      <th></th>\n",
       "      <th>persnr</th>\n",
       "      <th>year</th>\n",
       "      <th>nrEntry</th>\n",
       "      <th>ltue</th>\n",
       "      <th>employed_before</th>\n",
       "      <th>receipt_leh_before</th>\n",
       "      <th>receipt_lhg_before</th>\n",
       "      <th>se_before</th>\n",
       "      <th>ASU_notue_seeking_before</th>\n",
       "      <th>ASU_other_before</th>\n",
       "      <th>...</th>\n",
       "      <th>minijob_tot_dur_byage</th>\n",
       "      <th>ft_tot_dur_byage</th>\n",
       "      <th>befrist_tot_dur_byage</th>\n",
       "      <th>leih_tot_dur_byage</th>\n",
       "      <th>LHG_tot_dur_byage</th>\n",
       "      <th>LEH_tot_dur_byage</th>\n",
       "      <th>almp_tot_dur_byage</th>\n",
       "      <th>almp_aw_tot_dur_byage</th>\n",
       "      <th>se_tot_dur_byage</th>\n",
       "      <th>seeking1_tot_dur_byage</th>\n",
       "    </tr>\n",
       "  </thead>\n",
       "  <tbody>\n",
       "    <tr>\n",
       "      <th>0</th>\n",
       "      <td>7</td>\n",
       "      <td>2015</td>\n",
       "      <td>1</td>\n",
       "      <td>0</td>\n",
       "      <td>1</td>\n",
       "      <td>0</td>\n",
       "      <td>0</td>\n",
       "      <td>0</td>\n",
       "      <td>1</td>\n",
       "      <td>0</td>\n",
       "      <td>...</td>\n",
       "      <td>0.000000</td>\n",
       "      <td>0.000000</td>\n",
       "      <td>15.043478</td>\n",
       "      <td>0.000000</td>\n",
       "      <td>0.000000</td>\n",
       "      <td>0.000000</td>\n",
       "      <td>0.000000</td>\n",
       "      <td>0.000000</td>\n",
       "      <td>0.000000</td>\n",
       "      <td>0.000000</td>\n",
       "    </tr>\n",
       "    <tr>\n",
       "      <th>1</th>\n",
       "      <td>18</td>\n",
       "      <td>2010</td>\n",
       "      <td>1</td>\n",
       "      <td>1</td>\n",
       "      <td>0</td>\n",
       "      <td>0</td>\n",
       "      <td>0</td>\n",
       "      <td>0</td>\n",
       "      <td>0</td>\n",
       "      <td>0</td>\n",
       "      <td>...</td>\n",
       "      <td>0.000000</td>\n",
       "      <td>0.000000</td>\n",
       "      <td>0.000000</td>\n",
       "      <td>0.000000</td>\n",
       "      <td>0.000000</td>\n",
       "      <td>0.000000</td>\n",
       "      <td>0.000000</td>\n",
       "      <td>0.000000</td>\n",
       "      <td>0.000000</td>\n",
       "      <td>0.000000</td>\n",
       "    </tr>\n",
       "    <tr>\n",
       "      <th>2</th>\n",
       "      <td>18</td>\n",
       "      <td>2011</td>\n",
       "      <td>2</td>\n",
       "      <td>0</td>\n",
       "      <td>1</td>\n",
       "      <td>0</td>\n",
       "      <td>1</td>\n",
       "      <td>0</td>\n",
       "      <td>1</td>\n",
       "      <td>0</td>\n",
       "      <td>...</td>\n",
       "      <td>2.714286</td>\n",
       "      <td>2.714286</td>\n",
       "      <td>0.000000</td>\n",
       "      <td>0.000000</td>\n",
       "      <td>10.775510</td>\n",
       "      <td>0.000000</td>\n",
       "      <td>8.367347</td>\n",
       "      <td>0.000000</td>\n",
       "      <td>0.000000</td>\n",
       "      <td>9.836735</td>\n",
       "    </tr>\n",
       "    <tr>\n",
       "      <th>3</th>\n",
       "      <td>18</td>\n",
       "      <td>2012</td>\n",
       "      <td>3</td>\n",
       "      <td>0</td>\n",
       "      <td>1</td>\n",
       "      <td>0</td>\n",
       "      <td>1</td>\n",
       "      <td>0</td>\n",
       "      <td>1</td>\n",
       "      <td>0</td>\n",
       "      <td>...</td>\n",
       "      <td>4.200000</td>\n",
       "      <td>4.200000</td>\n",
       "      <td>0.000000</td>\n",
       "      <td>0.000000</td>\n",
       "      <td>12.100000</td>\n",
       "      <td>0.000000</td>\n",
       "      <td>9.400000</td>\n",
       "      <td>0.000000</td>\n",
       "      <td>0.000000</td>\n",
       "      <td>9.960000</td>\n",
       "    </tr>\n",
       "    <tr>\n",
       "      <th>4</th>\n",
       "      <td>18</td>\n",
       "      <td>2012</td>\n",
       "      <td>4</td>\n",
       "      <td>0</td>\n",
       "      <td>1</td>\n",
       "      <td>0</td>\n",
       "      <td>1</td>\n",
       "      <td>0</td>\n",
       "      <td>1</td>\n",
       "      <td>0</td>\n",
       "      <td>...</td>\n",
       "      <td>5.460000</td>\n",
       "      <td>5.460000</td>\n",
       "      <td>0.000000</td>\n",
       "      <td>0.000000</td>\n",
       "      <td>13.360000</td>\n",
       "      <td>0.000000</td>\n",
       "      <td>10.320000</td>\n",
       "      <td>0.000000</td>\n",
       "      <td>0.000000</td>\n",
       "      <td>10.280000</td>\n",
       "    </tr>\n",
       "    <tr>\n",
       "      <th>...</th>\n",
       "      <td>...</td>\n",
       "      <td>...</td>\n",
       "      <td>...</td>\n",
       "      <td>...</td>\n",
       "      <td>...</td>\n",
       "      <td>...</td>\n",
       "      <td>...</td>\n",
       "      <td>...</td>\n",
       "      <td>...</td>\n",
       "      <td>...</td>\n",
       "      <td>...</td>\n",
       "      <td>...</td>\n",
       "      <td>...</td>\n",
       "      <td>...</td>\n",
       "      <td>...</td>\n",
       "      <td>...</td>\n",
       "      <td>...</td>\n",
       "      <td>...</td>\n",
       "      <td>...</td>\n",
       "      <td>...</td>\n",
       "      <td>...</td>\n",
       "    </tr>\n",
       "    <tr>\n",
       "      <th>643685</th>\n",
       "      <td>1827860</td>\n",
       "      <td>2013</td>\n",
       "      <td>1</td>\n",
       "      <td>0</td>\n",
       "      <td>0</td>\n",
       "      <td>0</td>\n",
       "      <td>1</td>\n",
       "      <td>0</td>\n",
       "      <td>0</td>\n",
       "      <td>1</td>\n",
       "      <td>...</td>\n",
       "      <td>0.000000</td>\n",
       "      <td>0.000000</td>\n",
       "      <td>0.000000</td>\n",
       "      <td>0.000000</td>\n",
       "      <td>0.612903</td>\n",
       "      <td>0.000000</td>\n",
       "      <td>0.000000</td>\n",
       "      <td>0.000000</td>\n",
       "      <td>0.000000</td>\n",
       "      <td>0.000000</td>\n",
       "    </tr>\n",
       "    <tr>\n",
       "      <th>643686</th>\n",
       "      <td>1827860</td>\n",
       "      <td>2015</td>\n",
       "      <td>2</td>\n",
       "      <td>1</td>\n",
       "      <td>0</td>\n",
       "      <td>0</td>\n",
       "      <td>1</td>\n",
       "      <td>0</td>\n",
       "      <td>1</td>\n",
       "      <td>0</td>\n",
       "      <td>...</td>\n",
       "      <td>0.000000</td>\n",
       "      <td>0.000000</td>\n",
       "      <td>0.212121</td>\n",
       "      <td>0.212121</td>\n",
       "      <td>17.363636</td>\n",
       "      <td>0.000000</td>\n",
       "      <td>8.909091</td>\n",
       "      <td>0.000000</td>\n",
       "      <td>0.000000</td>\n",
       "      <td>7.121212</td>\n",
       "    </tr>\n",
       "    <tr>\n",
       "      <th>643687</th>\n",
       "      <td>1827860</td>\n",
       "      <td>2016</td>\n",
       "      <td>3</td>\n",
       "      <td>1</td>\n",
       "      <td>0</td>\n",
       "      <td>0</td>\n",
       "      <td>1</td>\n",
       "      <td>1</td>\n",
       "      <td>0</td>\n",
       "      <td>1</td>\n",
       "      <td>...</td>\n",
       "      <td>0.000000</td>\n",
       "      <td>0.000000</td>\n",
       "      <td>0.294118</td>\n",
       "      <td>0.205882</td>\n",
       "      <td>34.705882</td>\n",
       "      <td>0.000000</td>\n",
       "      <td>10.352941</td>\n",
       "      <td>1.705882</td>\n",
       "      <td>1.705882</td>\n",
       "      <td>23.911765</td>\n",
       "    </tr>\n",
       "    <tr>\n",
       "      <th>643688</th>\n",
       "      <td>1827869</td>\n",
       "      <td>2013</td>\n",
       "      <td>1</td>\n",
       "      <td>1</td>\n",
       "      <td>1</td>\n",
       "      <td>0</td>\n",
       "      <td>0</td>\n",
       "      <td>0</td>\n",
       "      <td>1</td>\n",
       "      <td>0</td>\n",
       "      <td>...</td>\n",
       "      <td>0.000000</td>\n",
       "      <td>0.000000</td>\n",
       "      <td>0.000000</td>\n",
       "      <td>0.000000</td>\n",
       "      <td>0.000000</td>\n",
       "      <td>0.525424</td>\n",
       "      <td>0.000000</td>\n",
       "      <td>0.000000</td>\n",
       "      <td>0.000000</td>\n",
       "      <td>0.000000</td>\n",
       "    </tr>\n",
       "    <tr>\n",
       "      <th>643689</th>\n",
       "      <td>1827869</td>\n",
       "      <td>2014</td>\n",
       "      <td>2</td>\n",
       "      <td>0</td>\n",
       "      <td>0</td>\n",
       "      <td>1</td>\n",
       "      <td>0</td>\n",
       "      <td>0</td>\n",
       "      <td>1</td>\n",
       "      <td>0</td>\n",
       "      <td>...</td>\n",
       "      <td>0.000000</td>\n",
       "      <td>0.666667</td>\n",
       "      <td>0.666667</td>\n",
       "      <td>0.000000</td>\n",
       "      <td>0.000000</td>\n",
       "      <td>8.950000</td>\n",
       "      <td>1.033333</td>\n",
       "      <td>0.083333</td>\n",
       "      <td>0.083333</td>\n",
       "      <td>8.133333</td>\n",
       "    </tr>\n",
       "  </tbody>\n",
       "</table>\n",
       "<p>643690 rows × 164 columns</p>\n",
       "</div>"
      ],
      "text/plain": [
       "         persnr  year  nrEntry  ltue  employed_before  receipt_leh_before  \\\n",
       "0             7  2015        1     0                1                   0   \n",
       "1            18  2010        1     1                0                   0   \n",
       "2            18  2011        2     0                1                   0   \n",
       "3            18  2012        3     0                1                   0   \n",
       "4            18  2012        4     0                1                   0   \n",
       "...         ...   ...      ...   ...              ...                 ...   \n",
       "643685  1827860  2013        1     0                0                   0   \n",
       "643686  1827860  2015        2     1                0                   0   \n",
       "643687  1827860  2016        3     1                0                   0   \n",
       "643688  1827869  2013        1     1                1                   0   \n",
       "643689  1827869  2014        2     0                0                   1   \n",
       "\n",
       "        receipt_lhg_before  se_before  ASU_notue_seeking_before  \\\n",
       "0                        0          0                         1   \n",
       "1                        0          0                         0   \n",
       "2                        1          0                         1   \n",
       "3                        1          0                         1   \n",
       "4                        1          0                         1   \n",
       "...                    ...        ...                       ...   \n",
       "643685                   1          0                         0   \n",
       "643686                   1          0                         1   \n",
       "643687                   1          1                         0   \n",
       "643688                   0          0                         1   \n",
       "643689                   0          0                         1   \n",
       "\n",
       "        ASU_other_before  ...  minijob_tot_dur_byage  ft_tot_dur_byage  \\\n",
       "0                      0  ...               0.000000          0.000000   \n",
       "1                      0  ...               0.000000          0.000000   \n",
       "2                      0  ...               2.714286          2.714286   \n",
       "3                      0  ...               4.200000          4.200000   \n",
       "4                      0  ...               5.460000          5.460000   \n",
       "...                  ...  ...                    ...               ...   \n",
       "643685                 1  ...               0.000000          0.000000   \n",
       "643686                 0  ...               0.000000          0.000000   \n",
       "643687                 1  ...               0.000000          0.000000   \n",
       "643688                 0  ...               0.000000          0.000000   \n",
       "643689                 0  ...               0.000000          0.666667   \n",
       "\n",
       "        befrist_tot_dur_byage  leih_tot_dur_byage  LHG_tot_dur_byage  \\\n",
       "0                   15.043478            0.000000           0.000000   \n",
       "1                    0.000000            0.000000           0.000000   \n",
       "2                    0.000000            0.000000          10.775510   \n",
       "3                    0.000000            0.000000          12.100000   \n",
       "4                    0.000000            0.000000          13.360000   \n",
       "...                       ...                 ...                ...   \n",
       "643685               0.000000            0.000000           0.612903   \n",
       "643686               0.212121            0.212121          17.363636   \n",
       "643687               0.294118            0.205882          34.705882   \n",
       "643688               0.000000            0.000000           0.000000   \n",
       "643689               0.666667            0.000000           0.000000   \n",
       "\n",
       "        LEH_tot_dur_byage  almp_tot_dur_byage  almp_aw_tot_dur_byage  \\\n",
       "0                0.000000            0.000000               0.000000   \n",
       "1                0.000000            0.000000               0.000000   \n",
       "2                0.000000            8.367347               0.000000   \n",
       "3                0.000000            9.400000               0.000000   \n",
       "4                0.000000           10.320000               0.000000   \n",
       "...                   ...                 ...                    ...   \n",
       "643685           0.000000            0.000000               0.000000   \n",
       "643686           0.000000            8.909091               0.000000   \n",
       "643687           0.000000           10.352941               1.705882   \n",
       "643688           0.525424            0.000000               0.000000   \n",
       "643689           8.950000            1.033333               0.083333   \n",
       "\n",
       "        se_tot_dur_byage  seeking1_tot_dur_byage  \n",
       "0               0.000000                0.000000  \n",
       "1               0.000000                0.000000  \n",
       "2               0.000000                9.836735  \n",
       "3               0.000000                9.960000  \n",
       "4               0.000000               10.280000  \n",
       "...                  ...                     ...  \n",
       "643685          0.000000                0.000000  \n",
       "643686          0.000000                7.121212  \n",
       "643687          1.705882               23.911765  \n",
       "643688          0.000000                0.000000  \n",
       "643689          0.083333                8.133333  \n",
       "\n",
       "[643690 rows x 164 columns]"
      ]
     },
     "execution_count": 10,
     "metadata": {},
     "output_type": "execute_result"
    }
   ],
   "source": [
    "siab"
   ]
  },
  {
   "cell_type": "markdown",
   "id": "1f87e805",
   "metadata": {
    "papermill": {
     "duration": 0.032183,
     "end_time": "2025-08-19T18:38:20.520886",
     "exception": false,
     "start_time": "2025-08-19T18:38:20.488703",
     "status": "completed"
    },
    "tags": []
   },
   "source": [
    "# Splitting Data and Setting Training Data Size"
   ]
  },
  {
   "cell_type": "code",
   "execution_count": 11,
   "id": "910ae358",
   "metadata": {
    "execution": {
     "iopub.execute_input": "2025-08-19T18:38:20.570747Z",
     "iopub.status.busy": "2025-08-19T18:38:20.570338Z",
     "iopub.status.idle": "2025-08-19T18:38:21.350794Z",
     "shell.execute_reply": "2025-08-19T18:38:21.349947Z"
    },
    "papermill": {
     "duration": 0.799598,
     "end_time": "2025-08-19T18:38:21.352366",
     "exception": false,
     "start_time": "2025-08-19T18:38:20.552768",
     "status": "completed"
    },
    "tags": []
   },
   "outputs": [],
   "source": [
    "from fairness_multiverse.universe import sample_by_year_size\n",
    "\n",
    "siab_train = sample_by_year_size(siab,\n",
    "                               training_year=universe[\"training_year\"],\n",
    "                               training_size=universe[\"training_size\"])"
   ]
  },
  {
   "cell_type": "code",
   "execution_count": 12,
   "id": "919c8ff5",
   "metadata": {
    "execution": {
     "iopub.execute_input": "2025-08-19T18:38:21.379036Z",
     "iopub.status.busy": "2025-08-19T18:38:21.378732Z",
     "iopub.status.idle": "2025-08-19T18:38:21.390588Z",
     "shell.execute_reply": "2025-08-19T18:38:21.389625Z"
    },
    "papermill": {
     "duration": 0.032296,
     "end_time": "2025-08-19T18:38:21.397393",
     "exception": false,
     "start_time": "2025-08-19T18:38:21.365097",
     "status": "completed"
    },
    "tags": []
   },
   "outputs": [
    {
     "data": {
      "text/plain": [
       "(5000, 164)"
      ]
     },
     "execution_count": 12,
     "metadata": {},
     "output_type": "execute_result"
    }
   ],
   "source": [
    "siab_train.shape"
   ]
  },
  {
   "cell_type": "code",
   "execution_count": 13,
   "id": "feb13bf4",
   "metadata": {
    "execution": {
     "iopub.execute_input": "2025-08-19T18:38:21.436894Z",
     "iopub.status.busy": "2025-08-19T18:38:21.436457Z",
     "iopub.status.idle": "2025-08-19T18:38:21.451319Z",
     "shell.execute_reply": "2025-08-19T18:38:21.450573Z"
    },
    "papermill": {
     "duration": 0.035663,
     "end_time": "2025-08-19T18:38:21.452896",
     "exception": false,
     "start_time": "2025-08-19T18:38:21.417233",
     "status": "completed"
    },
    "tags": []
   },
   "outputs": [
    {
     "data": {
      "text/plain": [
       "year\n",
       "2012    1667\n",
       "2013    1667\n",
       "2014    1666\n",
       "dtype: int64"
      ]
     },
     "metadata": {},
     "output_type": "display_data"
    }
   ],
   "source": [
    "display(siab_train.groupby(\"year\").size())"
   ]
  },
  {
   "cell_type": "code",
   "execution_count": 14,
   "id": "0997782f",
   "metadata": {
    "execution": {
     "iopub.execute_input": "2025-08-19T18:38:21.479948Z",
     "iopub.status.busy": "2025-08-19T18:38:21.479679Z",
     "iopub.status.idle": "2025-08-19T18:38:21.828027Z",
     "shell.execute_reply": "2025-08-19T18:38:21.827062Z"
    },
    "papermill": {
     "duration": 0.364978,
     "end_time": "2025-08-19T18:38:21.829569",
     "exception": false,
     "start_time": "2025-08-19T18:38:21.464591",
     "status": "completed"
    },
    "tags": []
   },
   "outputs": [],
   "source": [
    "#siab_train = siab_s[siab_s.year < 2015]\n",
    "siab_calib = siab[siab.year == 2015]\n",
    "siab_test = siab[siab.year == 2016]"
   ]
  },
  {
   "cell_type": "code",
   "execution_count": 15,
   "id": "2c1e4012",
   "metadata": {
    "execution": {
     "iopub.execute_input": "2025-08-19T18:38:21.856162Z",
     "iopub.status.busy": "2025-08-19T18:38:21.855828Z",
     "iopub.status.idle": "2025-08-19T18:38:21.860650Z",
     "shell.execute_reply": "2025-08-19T18:38:21.859682Z"
    },
    "papermill": {
     "duration": 0.021344,
     "end_time": "2025-08-19T18:38:21.862158",
     "exception": false,
     "start_time": "2025-08-19T18:38:21.840814",
     "status": "completed"
    },
    "tags": []
   },
   "outputs": [],
   "source": [
    "#siab_calib.shape"
   ]
  },
  {
   "cell_type": "code",
   "execution_count": 16,
   "id": "f66b54ca",
   "metadata": {
    "execution": {
     "iopub.execute_input": "2025-08-19T18:38:21.885535Z",
     "iopub.status.busy": "2025-08-19T18:38:21.885099Z",
     "iopub.status.idle": "2025-08-19T18:38:21.889614Z",
     "shell.execute_reply": "2025-08-19T18:38:21.888763Z"
    },
    "papermill": {
     "duration": 0.017978,
     "end_time": "2025-08-19T18:38:21.891174",
     "exception": false,
     "start_time": "2025-08-19T18:38:21.873196",
     "status": "completed"
    },
    "tags": []
   },
   "outputs": [],
   "source": [
    "#siab_test.shape"
   ]
  },
  {
   "cell_type": "code",
   "execution_count": 17,
   "id": "27e4384d",
   "metadata": {
    "execution": {
     "iopub.execute_input": "2025-08-19T18:38:21.914120Z",
     "iopub.status.busy": "2025-08-19T18:38:21.913693Z",
     "iopub.status.idle": "2025-08-19T18:38:21.928588Z",
     "shell.execute_reply": "2025-08-19T18:38:21.927747Z"
    },
    "papermill": {
     "duration": 0.028349,
     "end_time": "2025-08-19T18:38:21.930398",
     "exception": false,
     "start_time": "2025-08-19T18:38:21.902049",
     "status": "completed"
    },
    "tags": []
   },
   "outputs": [],
   "source": [
    "X_train = siab_train.iloc[:,4:164]\n",
    "y_train = siab_train.iloc[:, [3]]"
   ]
  },
  {
   "cell_type": "code",
   "execution_count": 18,
   "id": "08ee8389",
   "metadata": {
    "execution": {
     "iopub.execute_input": "2025-08-19T18:38:21.958767Z",
     "iopub.status.busy": "2025-08-19T18:38:21.958355Z",
     "iopub.status.idle": "2025-08-19T18:38:22.065044Z",
     "shell.execute_reply": "2025-08-19T18:38:22.063139Z"
    },
    "papermill": {
     "duration": 0.124859,
     "end_time": "2025-08-19T18:38:22.067596",
     "exception": false,
     "start_time": "2025-08-19T18:38:21.942737",
     "status": "completed"
    },
    "tags": []
   },
   "outputs": [],
   "source": [
    "X_calib = siab_calib.iloc[:,4:164]\n",
    "y_calib = siab_calib.iloc[:, [3]]"
   ]
  },
  {
   "cell_type": "code",
   "execution_count": 19,
   "id": "b7ff42e0",
   "metadata": {
    "execution": {
     "iopub.execute_input": "2025-08-19T18:38:22.105204Z",
     "iopub.status.busy": "2025-08-19T18:38:22.104781Z",
     "iopub.status.idle": "2025-08-19T18:38:22.172161Z",
     "shell.execute_reply": "2025-08-19T18:38:22.171259Z"
    },
    "papermill": {
     "duration": 0.091256,
     "end_time": "2025-08-19T18:38:22.173961",
     "exception": false,
     "start_time": "2025-08-19T18:38:22.082705",
     "status": "completed"
    },
    "tags": []
   },
   "outputs": [],
   "source": [
    "X_test = siab_test.iloc[:,4:164]\n",
    "y_true = siab_test.iloc[:, [3]]"
   ]
  },
  {
   "cell_type": "code",
   "execution_count": 20,
   "id": "0275101e",
   "metadata": {
    "execution": {
     "iopub.execute_input": "2025-08-19T18:38:22.198606Z",
     "iopub.status.busy": "2025-08-19T18:38:22.198191Z",
     "iopub.status.idle": "2025-08-19T18:38:22.315475Z",
     "shell.execute_reply": "2025-08-19T18:38:22.314619Z"
    },
    "papermill": {
     "duration": 0.13215,
     "end_time": "2025-08-19T18:38:22.318601",
     "exception": false,
     "start_time": "2025-08-19T18:38:22.186451",
     "status": "completed"
    },
    "tags": []
   },
   "outputs": [],
   "source": [
    "# Auxiliary data needed downstream in the pipeline\n",
    "\n",
    "org_train = X_train.copy()\n",
    "org_test = X_test.copy()\n",
    "org_calib = X_calib.copy()"
   ]
  },
  {
   "cell_type": "markdown",
   "id": "b461e618",
   "metadata": {
    "papermill": {
     "duration": 0.010774,
     "end_time": "2025-08-19T18:38:22.340500",
     "exception": false,
     "start_time": "2025-08-19T18:38:22.329726",
     "status": "completed"
    },
    "tags": []
   },
   "source": [
    "# Preprocessing Data"
   ]
  },
  {
   "cell_type": "code",
   "execution_count": 21,
   "id": "78e74c4b",
   "metadata": {
    "execution": {
     "iopub.execute_input": "2025-08-19T18:38:22.379324Z",
     "iopub.status.busy": "2025-08-19T18:38:22.378808Z",
     "iopub.status.idle": "2025-08-19T18:38:22.384169Z",
     "shell.execute_reply": "2025-08-19T18:38:22.383316Z"
    },
    "papermill": {
     "duration": 0.034258,
     "end_time": "2025-08-19T18:38:22.385548",
     "exception": false,
     "start_time": "2025-08-19T18:38:22.351290",
     "status": "completed"
    },
    "tags": []
   },
   "outputs": [],
   "source": [
    "# EXCLUDE PROTECTED FEATURES\n",
    "# --------------------------\n",
    "\n",
    "excluded_features = universe[\"exclude_features\"].split(\"-\")\n",
    "excluded_features_dictionary = {\n",
    "    \"nationality\": [\"maxdeutsch1\", \"maxdeutsch.Missing.\"],\n",
    "    \"sex\": [\"frau1\"],\n",
    "    \"age\": [\"age\"],\n",
    "}"
   ]
  },
  {
   "cell_type": "code",
   "execution_count": 22,
   "id": "f8e63555",
   "metadata": {
    "execution": {
     "iopub.execute_input": "2025-08-19T18:38:22.426121Z",
     "iopub.status.busy": "2025-08-19T18:38:22.425700Z",
     "iopub.status.idle": "2025-08-19T18:38:22.430984Z",
     "shell.execute_reply": "2025-08-19T18:38:22.430170Z"
    },
    "papermill": {
     "duration": 0.029281,
     "end_time": "2025-08-19T18:38:22.432527",
     "exception": false,
     "start_time": "2025-08-19T18:38:22.403246",
     "status": "completed"
    },
    "tags": []
   },
   "outputs": [],
   "source": [
    "excluded_features_columns = [\n",
    "    excluded_features_dictionary[f] for f in excluded_features if len(f) > 0 and f != \"none\"\n",
    "]"
   ]
  },
  {
   "cell_type": "code",
   "execution_count": 23,
   "id": "da781f7c",
   "metadata": {
    "execution": {
     "iopub.execute_input": "2025-08-19T18:38:22.477404Z",
     "iopub.status.busy": "2025-08-19T18:38:22.476907Z",
     "iopub.status.idle": "2025-08-19T18:38:22.481472Z",
     "shell.execute_reply": "2025-08-19T18:38:22.480691Z"
    },
    "papermill": {
     "duration": 0.027387,
     "end_time": "2025-08-19T18:38:22.483025",
     "exception": false,
     "start_time": "2025-08-19T18:38:22.455638",
     "status": "completed"
    },
    "tags": []
   },
   "outputs": [],
   "source": [
    "from fairness_multiverse.universe import flatten_once\n",
    "\n",
    "excluded_features_columns = flatten_once(excluded_features_columns)"
   ]
  },
  {
   "cell_type": "code",
   "execution_count": 24,
   "id": "37fef0f0",
   "metadata": {
    "execution": {
     "iopub.execute_input": "2025-08-19T18:38:22.509133Z",
     "iopub.status.busy": "2025-08-19T18:38:22.508542Z",
     "iopub.status.idle": "2025-08-19T18:38:22.533396Z",
     "shell.execute_reply": "2025-08-19T18:38:22.532531Z"
    },
    "papermill": {
     "duration": 0.040403,
     "end_time": "2025-08-19T18:38:22.534932",
     "exception": false,
     "start_time": "2025-08-19T18:38:22.494529",
     "status": "completed"
    },
    "tags": []
   },
   "outputs": [
    {
     "name": "stdout",
     "output_type": "stream",
     "text": [
      "Dropping features: ['maxdeutsch1', 'maxdeutsch.Missing.', 'frau1']\n"
     ]
    }
   ],
   "source": [
    "if len(excluded_features_columns) > 0:\n",
    "    print(f\"Dropping features: {excluded_features_columns}\")\n",
    "    X_train.drop(excluded_features_columns, axis=1, inplace=True)"
   ]
  },
  {
   "cell_type": "code",
   "execution_count": 25,
   "id": "d029e3e9",
   "metadata": {
    "execution": {
     "iopub.execute_input": "2025-08-19T18:38:22.561494Z",
     "iopub.status.busy": "2025-08-19T18:38:22.560923Z",
     "iopub.status.idle": "2025-08-19T18:38:22.621416Z",
     "shell.execute_reply": "2025-08-19T18:38:22.619868Z"
    },
    "papermill": {
     "duration": 0.096776,
     "end_time": "2025-08-19T18:38:22.645219",
     "exception": false,
     "start_time": "2025-08-19T18:38:22.548443",
     "status": "completed"
    },
    "tags": []
   },
   "outputs": [
    {
     "name": "stdout",
     "output_type": "stream",
     "text": [
      "Dropping features: ['maxdeutsch1', 'maxdeutsch.Missing.', 'frau1']\n"
     ]
    }
   ],
   "source": [
    "if len(excluded_features_columns) > 0:\n",
    "    print(f\"Dropping features: {excluded_features_columns}\")\n",
    "    X_test.drop(excluded_features_columns, axis=1, inplace=True)"
   ]
  },
  {
   "cell_type": "code",
   "execution_count": 26,
   "id": "01d571f0",
   "metadata": {
    "execution": {
     "iopub.execute_input": "2025-08-19T18:38:22.694782Z",
     "iopub.status.busy": "2025-08-19T18:38:22.694364Z",
     "iopub.status.idle": "2025-08-19T18:38:22.858357Z",
     "shell.execute_reply": "2025-08-19T18:38:22.857529Z"
    },
    "papermill": {
     "duration": 0.193074,
     "end_time": "2025-08-19T18:38:22.859682",
     "exception": false,
     "start_time": "2025-08-19T18:38:22.666608",
     "status": "completed"
    },
    "tags": []
   },
   "outputs": [
    {
     "name": "stdout",
     "output_type": "stream",
     "text": [
      "Dropping features: ['maxdeutsch1', 'maxdeutsch.Missing.', 'frau1']\n"
     ]
    }
   ],
   "source": [
    "if len(excluded_features_columns) > 0:\n",
    "    print(f\"Dropping features: {excluded_features_columns}\")\n",
    "    X_calib.drop(excluded_features_columns, axis=1, inplace=True)"
   ]
  },
  {
   "cell_type": "code",
   "execution_count": 27,
   "id": "3037356e",
   "metadata": {
    "execution": {
     "iopub.execute_input": "2025-08-19T18:38:22.909620Z",
     "iopub.status.busy": "2025-08-19T18:38:22.909215Z",
     "iopub.status.idle": "2025-08-19T18:38:22.914209Z",
     "shell.execute_reply": "2025-08-19T18:38:22.913257Z"
    },
    "papermill": {
     "duration": 0.03489,
     "end_time": "2025-08-19T18:38:22.915585",
     "exception": false,
     "start_time": "2025-08-19T18:38:22.880695",
     "status": "completed"
    },
    "tags": []
   },
   "outputs": [],
   "source": [
    "# EXCLUDE CERTAIN SUBGROUPS\n",
    "# -------------------------\n",
    "\n",
    "mode = universe.get(\"exclude_subgroups\", \"keep-all\") # Defaults to \"keep-all\" if the key is missing."
   ]
  },
  {
   "cell_type": "code",
   "execution_count": 28,
   "id": "9d1e63fd",
   "metadata": {
    "execution": {
     "iopub.execute_input": "2025-08-19T18:38:22.938546Z",
     "iopub.status.busy": "2025-08-19T18:38:22.938182Z",
     "iopub.status.idle": "2025-08-19T18:38:22.944489Z",
     "shell.execute_reply": "2025-08-19T18:38:22.943622Z"
    },
    "papermill": {
     "duration": 0.03072,
     "end_time": "2025-08-19T18:38:22.957275",
     "exception": false,
     "start_time": "2025-08-19T18:38:22.926555",
     "status": "completed"
    },
    "tags": []
   },
   "outputs": [],
   "source": [
    "if mode == \"keep-all\":\n",
    "    keep_mask = pd.Series(True, index=org_train.index)\n",
    "\n",
    "elif mode == \"drop-non-german\":\n",
    "    keep_mask = (org_train[\"maxdeutsch1\"] == 1) & (org_train[\"maxdeutsch.Missing.\"] == 0)\n",
    "\n",
    "else:\n",
    "    raise ValueError(f\"Unsupported mode for exclude_subgroups: {mode}\")"
   ]
  },
  {
   "cell_type": "code",
   "execution_count": 29,
   "id": "d3b65474",
   "metadata": {
    "execution": {
     "iopub.execute_input": "2025-08-19T18:38:23.010513Z",
     "iopub.status.busy": "2025-08-19T18:38:23.010099Z",
     "iopub.status.idle": "2025-08-19T18:38:23.017659Z",
     "shell.execute_reply": "2025-08-19T18:38:23.016747Z"
    },
    "papermill": {
     "duration": 0.031261,
     "end_time": "2025-08-19T18:38:23.019256",
     "exception": false,
     "start_time": "2025-08-19T18:38:22.987995",
     "status": "completed"
    },
    "tags": []
   },
   "outputs": [
    {
     "name": "stdout",
     "output_type": "stream",
     "text": [
      "Dropping 665 rows (13.30%) where mode='drop-non-german'\n"
     ]
    }
   ],
   "source": [
    "n_drop = (~keep_mask).sum() # Calculates how many rows are set to be dropped\n",
    "if n_drop > 0:\n",
    "    pct = n_drop / len(keep_mask) * 100\n",
    "    print(f\"Dropping {n_drop} rows ({pct:.2f}%) where mode='{mode}'\")"
   ]
  },
  {
   "cell_type": "code",
   "execution_count": 30,
   "id": "f44389b3",
   "metadata": {
    "execution": {
     "iopub.execute_input": "2025-08-19T18:38:23.043725Z",
     "iopub.status.busy": "2025-08-19T18:38:23.043315Z",
     "iopub.status.idle": "2025-08-19T18:38:23.052684Z",
     "shell.execute_reply": "2025-08-19T18:38:23.051774Z"
    },
    "papermill": {
     "duration": 0.02299,
     "end_time": "2025-08-19T18:38:23.054181",
     "exception": false,
     "start_time": "2025-08-19T18:38:23.031191",
     "status": "completed"
    },
    "tags": []
   },
   "outputs": [],
   "source": [
    "X_train = X_train[keep_mask]"
   ]
  },
  {
   "cell_type": "code",
   "execution_count": 31,
   "id": "ceca8c2a",
   "metadata": {
    "execution": {
     "iopub.execute_input": "2025-08-19T18:38:23.078307Z",
     "iopub.status.busy": "2025-08-19T18:38:23.077912Z",
     "iopub.status.idle": "2025-08-19T18:38:23.082969Z",
     "shell.execute_reply": "2025-08-19T18:38:23.082183Z"
    },
    "papermill": {
     "duration": 0.018718,
     "end_time": "2025-08-19T18:38:23.084453",
     "exception": false,
     "start_time": "2025-08-19T18:38:23.065735",
     "status": "completed"
    },
    "tags": []
   },
   "outputs": [],
   "source": [
    "y_train = y_train[keep_mask]"
   ]
  },
  {
   "cell_type": "markdown",
   "id": "04d31e2f",
   "metadata": {
    "papermill": {
     "duration": 0.010848,
     "end_time": "2025-08-19T18:38:23.106365",
     "exception": false,
     "start_time": "2025-08-19T18:38:23.095517",
     "status": "completed"
    },
    "tags": []
   },
   "source": [
    "# Model Training"
   ]
  },
  {
   "cell_type": "code",
   "execution_count": 32,
   "id": "db991733",
   "metadata": {
    "execution": {
     "iopub.execute_input": "2025-08-19T18:38:23.185109Z",
     "iopub.status.busy": "2025-08-19T18:38:23.184709Z",
     "iopub.status.idle": "2025-08-19T18:38:23.363243Z",
     "shell.execute_reply": "2025-08-19T18:38:23.362343Z"
    },
    "papermill": {
     "duration": 0.241579,
     "end_time": "2025-08-19T18:38:23.365039",
     "exception": false,
     "start_time": "2025-08-19T18:38:23.123460",
     "status": "completed"
    },
    "tags": []
   },
   "outputs": [],
   "source": [
    "from sklearn.linear_model import LogisticRegression\n",
    "from sklearn.ensemble import GradientBoostingClassifier, RandomForestClassifier\n",
    "\n",
    "if (universe[\"model\"] == \"logreg\"):\n",
    "    model = LogisticRegression() #penalty=\"none\", solver=\"newton-cg\", max_iter=1)\n",
    "elif (universe[\"model\"] == \"penalized_logreg\"):\n",
    "    model = LogisticRegression(penalty=\"l2\", C=0.1) #, solver=\"newton-cg\", max_iter=1)\n",
    "elif (universe[\"model\"] == \"rf\"):\n",
    "    model = RandomForestClassifier() # n_estimators=100, n_jobs=-1\n",
    "elif (universe[\"model\"] == \"gbm\"):\n",
    "    model = GradientBoostingClassifier()\n",
    "elif (universe[\"model\"] == \"elasticnet\"):\n",
    "    model = LogisticRegression(penalty = 'elasticnet', solver = 'saga', l1_ratio = 0.5) # max_iter=5000\n",
    "else:\n",
    "    raise \"Unsupported universe.model\""
   ]
  },
  {
   "cell_type": "code",
   "execution_count": 33,
   "id": "a4b5cd25",
   "metadata": {
    "execution": {
     "iopub.execute_input": "2025-08-19T18:38:23.402359Z",
     "iopub.status.busy": "2025-08-19T18:38:23.401850Z",
     "iopub.status.idle": "2025-08-19T18:38:23.407985Z",
     "shell.execute_reply": "2025-08-19T18:38:23.407080Z"
    },
    "papermill": {
     "duration": 0.02069,
     "end_time": "2025-08-19T18:38:23.409476",
     "exception": false,
     "start_time": "2025-08-19T18:38:23.388786",
     "status": "completed"
    },
    "tags": []
   },
   "outputs": [],
   "source": [
    "from sklearn.pipeline import Pipeline\n",
    "from sklearn.preprocessing import StandardScaler\n",
    "\n",
    "model = Pipeline([\n",
    "    #(\"continuous_processor\", continuous_processor),\n",
    "    #(\"categorical_preprocessor\", categorical_preprocessor),\n",
    "    (\"scale\", StandardScaler() if universe[\"scale\"] == \"scale\" else None), \n",
    "    (\"model\", model),\n",
    "])"
   ]
  },
  {
   "cell_type": "code",
   "execution_count": 34,
   "id": "283a904d",
   "metadata": {
    "execution": {
     "iopub.execute_input": "2025-08-19T18:38:23.435302Z",
     "iopub.status.busy": "2025-08-19T18:38:23.434509Z",
     "iopub.status.idle": "2025-08-19T18:38:30.357126Z",
     "shell.execute_reply": "2025-08-19T18:38:30.356197Z"
    },
    "papermill": {
     "duration": 6.936348,
     "end_time": "2025-08-19T18:38:30.358454",
     "exception": false,
     "start_time": "2025-08-19T18:38:23.422106",
     "status": "completed"
    },
    "tags": []
   },
   "outputs": [
    {
     "data": {
      "text/html": [
       "<style>#sk-container-id-1 {color: black;background-color: white;}#sk-container-id-1 pre{padding: 0;}#sk-container-id-1 div.sk-toggleable {background-color: white;}#sk-container-id-1 label.sk-toggleable__label {cursor: pointer;display: block;width: 100%;margin-bottom: 0;padding: 0.3em;box-sizing: border-box;text-align: center;}#sk-container-id-1 label.sk-toggleable__label-arrow:before {content: \"▸\";float: left;margin-right: 0.25em;color: #696969;}#sk-container-id-1 label.sk-toggleable__label-arrow:hover:before {color: black;}#sk-container-id-1 div.sk-estimator:hover label.sk-toggleable__label-arrow:before {color: black;}#sk-container-id-1 div.sk-toggleable__content {max-height: 0;max-width: 0;overflow: hidden;text-align: left;background-color: #f0f8ff;}#sk-container-id-1 div.sk-toggleable__content pre {margin: 0.2em;color: black;border-radius: 0.25em;background-color: #f0f8ff;}#sk-container-id-1 input.sk-toggleable__control:checked~div.sk-toggleable__content {max-height: 200px;max-width: 100%;overflow: auto;}#sk-container-id-1 input.sk-toggleable__control:checked~label.sk-toggleable__label-arrow:before {content: \"▾\";}#sk-container-id-1 div.sk-estimator input.sk-toggleable__control:checked~label.sk-toggleable__label {background-color: #d4ebff;}#sk-container-id-1 div.sk-label input.sk-toggleable__control:checked~label.sk-toggleable__label {background-color: #d4ebff;}#sk-container-id-1 input.sk-hidden--visually {border: 0;clip: rect(1px 1px 1px 1px);clip: rect(1px, 1px, 1px, 1px);height: 1px;margin: -1px;overflow: hidden;padding: 0;position: absolute;width: 1px;}#sk-container-id-1 div.sk-estimator {font-family: monospace;background-color: #f0f8ff;border: 1px dotted black;border-radius: 0.25em;box-sizing: border-box;margin-bottom: 0.5em;}#sk-container-id-1 div.sk-estimator:hover {background-color: #d4ebff;}#sk-container-id-1 div.sk-parallel-item::after {content: \"\";width: 100%;border-bottom: 1px solid gray;flex-grow: 1;}#sk-container-id-1 div.sk-label:hover label.sk-toggleable__label {background-color: #d4ebff;}#sk-container-id-1 div.sk-serial::before {content: \"\";position: absolute;border-left: 1px solid gray;box-sizing: border-box;top: 0;bottom: 0;left: 50%;z-index: 0;}#sk-container-id-1 div.sk-serial {display: flex;flex-direction: column;align-items: center;background-color: white;padding-right: 0.2em;padding-left: 0.2em;position: relative;}#sk-container-id-1 div.sk-item {position: relative;z-index: 1;}#sk-container-id-1 div.sk-parallel {display: flex;align-items: stretch;justify-content: center;background-color: white;position: relative;}#sk-container-id-1 div.sk-item::before, #sk-container-id-1 div.sk-parallel-item::before {content: \"\";position: absolute;border-left: 1px solid gray;box-sizing: border-box;top: 0;bottom: 0;left: 50%;z-index: -1;}#sk-container-id-1 div.sk-parallel-item {display: flex;flex-direction: column;z-index: 1;position: relative;background-color: white;}#sk-container-id-1 div.sk-parallel-item:first-child::after {align-self: flex-end;width: 50%;}#sk-container-id-1 div.sk-parallel-item:last-child::after {align-self: flex-start;width: 50%;}#sk-container-id-1 div.sk-parallel-item:only-child::after {width: 0;}#sk-container-id-1 div.sk-dashed-wrapped {border: 1px dashed gray;margin: 0 0.4em 0.5em 0.4em;box-sizing: border-box;padding-bottom: 0.4em;background-color: white;}#sk-container-id-1 div.sk-label label {font-family: monospace;font-weight: bold;display: inline-block;line-height: 1.2em;}#sk-container-id-1 div.sk-label-container {text-align: center;}#sk-container-id-1 div.sk-container {/* jupyter's `normalize.less` sets `[hidden] { display: none; }` but bootstrap.min.css set `[hidden] { display: none !important; }` so we also need the `!important` here to be able to override the default hidden behavior on the sphinx rendered scikit-learn.org. See: https://github.com/scikit-learn/scikit-learn/issues/21755 */display: inline-block !important;position: relative;}#sk-container-id-1 div.sk-text-repr-fallback {display: none;}</style><div id=\"sk-container-id-1\" class=\"sk-top-container\"><div class=\"sk-text-repr-fallback\"><pre>Pipeline(steps=[(&#x27;scale&#x27;, None), (&#x27;model&#x27;, GradientBoostingClassifier())])</pre><b>In a Jupyter environment, please rerun this cell to show the HTML representation or trust the notebook. <br />On GitHub, the HTML representation is unable to render, please try loading this page with nbviewer.org.</b></div><div class=\"sk-container\" hidden><div class=\"sk-item sk-dashed-wrapped\"><div class=\"sk-label-container\"><div class=\"sk-label sk-toggleable\"><input class=\"sk-toggleable__control sk-hidden--visually\" id=\"sk-estimator-id-1\" type=\"checkbox\" ><label for=\"sk-estimator-id-1\" class=\"sk-toggleable__label sk-toggleable__label-arrow\">Pipeline</label><div class=\"sk-toggleable__content\"><pre>Pipeline(steps=[(&#x27;scale&#x27;, None), (&#x27;model&#x27;, GradientBoostingClassifier())])</pre></div></div></div><div class=\"sk-serial\"><div class=\"sk-item\"><div class=\"sk-estimator sk-toggleable\"><input class=\"sk-toggleable__control sk-hidden--visually\" id=\"sk-estimator-id-2\" type=\"checkbox\" ><label for=\"sk-estimator-id-2\" class=\"sk-toggleable__label sk-toggleable__label-arrow\">None</label><div class=\"sk-toggleable__content\"><pre>None</pre></div></div></div><div class=\"sk-item\"><div class=\"sk-estimator sk-toggleable\"><input class=\"sk-toggleable__control sk-hidden--visually\" id=\"sk-estimator-id-3\" type=\"checkbox\" ><label for=\"sk-estimator-id-3\" class=\"sk-toggleable__label sk-toggleable__label-arrow\">GradientBoostingClassifier</label><div class=\"sk-toggleable__content\"><pre>GradientBoostingClassifier()</pre></div></div></div></div></div></div></div>"
      ],
      "text/plain": [
       "Pipeline(steps=[('scale', None), ('model', GradientBoostingClassifier())])"
      ]
     },
     "execution_count": 34,
     "metadata": {},
     "output_type": "execute_result"
    }
   ],
   "source": [
    "model.fit(X_train, y_train.values.ravel())"
   ]
  },
  {
   "cell_type": "code",
   "execution_count": 35,
   "id": "6e15e313",
   "metadata": {
    "execution": {
     "iopub.execute_input": "2025-08-19T18:38:30.424786Z",
     "iopub.status.busy": "2025-08-19T18:38:30.424463Z",
     "iopub.status.idle": "2025-08-19T18:38:31.260454Z",
     "shell.execute_reply": "2025-08-19T18:38:31.259418Z"
    },
    "papermill": {
     "duration": 0.869437,
     "end_time": "2025-08-19T18:38:31.261760",
     "exception": false,
     "start_time": "2025-08-19T18:38:30.392323",
     "status": "completed"
    },
    "tags": []
   },
   "outputs": [
    {
     "data": {
      "text/plain": [
       "0.8636049492810166"
      ]
     },
     "execution_count": 35,
     "metadata": {},
     "output_type": "execute_result"
    }
   ],
   "source": [
    "from fairness_multiverse.universe import predict_w_threshold\n",
    "\n",
    "probs_test = model.predict_proba(X_test)\n",
    "\n",
    "'''\n",
    "Below code returns a boolean array (or binary 0/1 array depending on how it’s used) where each element \n",
    "is True if the probability of class 1 is greater than or equal to the threshold, and False otherwise.\n",
    "'''\n",
    "y_pred_default = predict_w_threshold(probs_test, 0.5)\n",
    "\n",
    "from sklearn.metrics import accuracy_score\n",
    "\n",
    "# Naive prediction\n",
    "accuracy_score(y_true = y_true, y_pred = y_pred_default)"
   ]
  },
  {
   "cell_type": "code",
   "execution_count": 36,
   "id": "6f14067c",
   "metadata": {
    "execution": {
     "iopub.execute_input": "2025-08-19T18:38:31.313593Z",
     "iopub.status.busy": "2025-08-19T18:38:31.312115Z",
     "iopub.status.idle": "2025-08-19T18:38:31.926305Z",
     "shell.execute_reply": "2025-08-19T18:38:31.925341Z"
    },
    "papermill": {
     "duration": 0.638668,
     "end_time": "2025-08-19T18:38:31.927872",
     "exception": false,
     "start_time": "2025-08-19T18:38:31.289204",
     "status": "completed"
    },
    "tags": []
   },
   "outputs": [
    {
     "data": {
      "text/plain": [
       "array([0, 0, 0, ..., 0, 0, 0])"
      ]
     },
     "execution_count": 36,
     "metadata": {},
     "output_type": "execute_result"
    }
   ],
   "source": [
    "model.predict(X_test)"
   ]
  },
  {
   "cell_type": "markdown",
   "id": "3759920c",
   "metadata": {
    "papermill": {
     "duration": 0.02334,
     "end_time": "2025-08-19T18:38:31.975713",
     "exception": false,
     "start_time": "2025-08-19T18:38:31.952373",
     "status": "completed"
    },
    "tags": []
   },
   "source": [
    "# Conformal Prediction"
   ]
  },
  {
   "cell_type": "code",
   "execution_count": 37,
   "id": "14b27f59",
   "metadata": {
    "execution": {
     "iopub.execute_input": "2025-08-19T18:38:32.090706Z",
     "iopub.status.busy": "2025-08-19T18:38:32.090258Z",
     "iopub.status.idle": "2025-08-19T18:38:32.094977Z",
     "shell.execute_reply": "2025-08-19T18:38:32.094290Z"
    },
    "papermill": {
     "duration": 0.054643,
     "end_time": "2025-08-19T18:38:32.096279",
     "exception": false,
     "start_time": "2025-08-19T18:38:32.041636",
     "status": "completed"
    },
    "tags": []
   },
   "outputs": [],
   "source": [
    "# Miscoverage level for conformal prediction (10% allowed error rate => 90% target coverage)\n",
    "alpha = 0.1"
   ]
  },
  {
   "cell_type": "code",
   "execution_count": 38,
   "id": "59102472",
   "metadata": {
    "execution": {
     "iopub.execute_input": "2025-08-19T18:38:32.154487Z",
     "iopub.status.busy": "2025-08-19T18:38:32.154106Z",
     "iopub.status.idle": "2025-08-19T18:38:32.871240Z",
     "shell.execute_reply": "2025-08-19T18:38:32.869940Z"
    },
    "papermill": {
     "duration": 0.744394,
     "end_time": "2025-08-19T18:38:32.872941",
     "exception": false,
     "start_time": "2025-08-19T18:38:32.128547",
     "status": "completed"
    },
    "tags": []
   },
   "outputs": [],
   "source": [
    "probs_calib = model.predict_proba(X_calib)"
   ]
  },
  {
   "cell_type": "code",
   "execution_count": 39,
   "id": "a792d4dd",
   "metadata": {
    "execution": {
     "iopub.execute_input": "2025-08-19T18:38:32.943337Z",
     "iopub.status.busy": "2025-08-19T18:38:32.942842Z",
     "iopub.status.idle": "2025-08-19T18:38:32.949586Z",
     "shell.execute_reply": "2025-08-19T18:38:32.948849Z"
    },
    "papermill": {
     "duration": 0.058395,
     "end_time": "2025-08-19T18:38:32.951322",
     "exception": false,
     "start_time": "2025-08-19T18:38:32.892927",
     "status": "completed"
    },
    "tags": []
   },
   "outputs": [],
   "source": [
    "y_calib = y_calib.values.ravel().astype(int)"
   ]
  },
  {
   "cell_type": "code",
   "execution_count": 40,
   "id": "650fd033",
   "metadata": {
    "execution": {
     "iopub.execute_input": "2025-08-19T18:38:33.002988Z",
     "iopub.status.busy": "2025-08-19T18:38:33.002588Z",
     "iopub.status.idle": "2025-08-19T18:38:33.009961Z",
     "shell.execute_reply": "2025-08-19T18:38:33.009337Z"
    },
    "papermill": {
     "duration": 0.034105,
     "end_time": "2025-08-19T18:38:33.011155",
     "exception": false,
     "start_time": "2025-08-19T18:38:32.977050",
     "status": "completed"
    },
    "tags": []
   },
   "outputs": [],
   "source": [
    "from fairness_multiverse.conformal import compute_nc_scores\n",
    "\n",
    "# Compute nonconformity scores on calibration set (1 - probability of true class)\n",
    "nc_scores = compute_nc_scores(probs_calib, y_calib)"
   ]
  },
  {
   "cell_type": "code",
   "execution_count": 41,
   "id": "28ada44c",
   "metadata": {
    "execution": {
     "iopub.execute_input": "2025-08-19T18:38:33.036334Z",
     "iopub.status.busy": "2025-08-19T18:38:33.035985Z",
     "iopub.status.idle": "2025-08-19T18:38:33.041725Z",
     "shell.execute_reply": "2025-08-19T18:38:33.040976Z"
    },
    "papermill": {
     "duration": 0.019439,
     "end_time": "2025-08-19T18:38:33.043331",
     "exception": false,
     "start_time": "2025-08-19T18:38:33.023892",
     "status": "completed"
    },
    "tags": []
   },
   "outputs": [],
   "source": [
    "from fairness_multiverse.conformal import find_threshold\n",
    "\n",
    "# Find conformal threshold q_hat for the given alpha (split conformal method)\n",
    "q_hat = find_threshold(nc_scores, alpha)"
   ]
  },
  {
   "cell_type": "code",
   "execution_count": 42,
   "id": "df56469e",
   "metadata": {
    "execution": {
     "iopub.execute_input": "2025-08-19T18:38:33.102527Z",
     "iopub.status.busy": "2025-08-19T18:38:33.102129Z",
     "iopub.status.idle": "2025-08-19T18:38:33.109331Z",
     "shell.execute_reply": "2025-08-19T18:38:33.108689Z"
    },
    "papermill": {
     "duration": 0.053487,
     "end_time": "2025-08-19T18:38:33.110811",
     "exception": false,
     "start_time": "2025-08-19T18:38:33.057324",
     "status": "completed"
    },
    "tags": []
   },
   "outputs": [
    {
     "data": {
      "text/plain": [
       "0.7014086306362836"
      ]
     },
     "execution_count": 42,
     "metadata": {},
     "output_type": "execute_result"
    }
   ],
   "source": [
    "q_hat"
   ]
  },
  {
   "cell_type": "code",
   "execution_count": 43,
   "id": "aa1f5faa",
   "metadata": {
    "execution": {
     "iopub.execute_input": "2025-08-19T18:38:33.162880Z",
     "iopub.status.busy": "2025-08-19T18:38:33.162482Z",
     "iopub.status.idle": "2025-08-19T18:38:35.050960Z",
     "shell.execute_reply": "2025-08-19T18:38:35.049808Z"
    },
    "papermill": {
     "duration": 1.915508,
     "end_time": "2025-08-19T18:38:35.052597",
     "exception": false,
     "start_time": "2025-08-19T18:38:33.137089",
     "status": "completed"
    },
    "tags": []
   },
   "outputs": [],
   "source": [
    "from fairness_multiverse.conformal import predict_conformal_sets\n",
    "\n",
    "# Generate prediction sets for each test example\n",
    "pred_sets = predict_conformal_sets(model, X_test, q_hat)"
   ]
  },
  {
   "cell_type": "code",
   "execution_count": 44,
   "id": "97f67a6b",
   "metadata": {
    "execution": {
     "iopub.execute_input": "2025-08-19T18:38:35.078916Z",
     "iopub.status.busy": "2025-08-19T18:38:35.078433Z",
     "iopub.status.idle": "2025-08-19T18:38:35.086596Z",
     "shell.execute_reply": "2025-08-19T18:38:35.085935Z"
    },
    "papermill": {
     "duration": 0.023291,
     "end_time": "2025-08-19T18:38:35.088377",
     "exception": false,
     "start_time": "2025-08-19T18:38:35.065086",
     "status": "completed"
    },
    "tags": []
   },
   "outputs": [],
   "source": [
    "y_true = y_true.squeeze()"
   ]
  },
  {
   "cell_type": "code",
   "execution_count": 45,
   "id": "e700e9a7",
   "metadata": {
    "execution": {
     "iopub.execute_input": "2025-08-19T18:38:35.114063Z",
     "iopub.status.busy": "2025-08-19T18:38:35.113661Z",
     "iopub.status.idle": "2025-08-19T18:38:35.605570Z",
     "shell.execute_reply": "2025-08-19T18:38:35.604321Z"
    },
    "papermill": {
     "duration": 0.506431,
     "end_time": "2025-08-19T18:38:35.607409",
     "exception": false,
     "start_time": "2025-08-19T18:38:35.100978",
     "status": "completed"
    },
    "tags": []
   },
   "outputs": [],
   "source": [
    "from fairness_multiverse.conformal import evaluate_sets\n",
    "\n",
    "# Evaluate coverage and average set size on test data\n",
    "metrics = evaluate_sets(pred_sets, y_true)"
   ]
  },
  {
   "cell_type": "markdown",
   "id": "efbacec0",
   "metadata": {
    "papermill": {
     "duration": 0.011733,
     "end_time": "2025-08-19T18:38:35.631632",
     "exception": false,
     "start_time": "2025-08-19T18:38:35.619899",
     "status": "completed"
    },
    "tags": []
   },
   "source": [
    "# CP Metrics"
   ]
  },
  {
   "cell_type": "code",
   "execution_count": 46,
   "id": "9de55fb1",
   "metadata": {
    "execution": {
     "iopub.execute_input": "2025-08-19T18:38:35.656113Z",
     "iopub.status.busy": "2025-08-19T18:38:35.655653Z",
     "iopub.status.idle": "2025-08-19T18:38:35.662279Z",
     "shell.execute_reply": "2025-08-19T18:38:35.661677Z"
    },
    "papermill": {
     "duration": 0.021552,
     "end_time": "2025-08-19T18:38:35.664522",
     "exception": false,
     "start_time": "2025-08-19T18:38:35.642970",
     "status": "completed"
    },
    "tags": []
   },
   "outputs": [
    {
     "data": {
      "text/plain": [
       "{'coverage': 0.9099320031211682, 'avg_size': 1.1268086055066324}"
      ]
     },
     "execution_count": 46,
     "metadata": {},
     "output_type": "execute_result"
    }
   ],
   "source": [
    "metrics"
   ]
  },
  {
   "cell_type": "code",
   "execution_count": 47,
   "id": "64c340a1",
   "metadata": {
    "execution": {
     "iopub.execute_input": "2025-08-19T18:38:35.688905Z",
     "iopub.status.busy": "2025-08-19T18:38:35.688567Z",
     "iopub.status.idle": "2025-08-19T18:38:35.693410Z",
     "shell.execute_reply": "2025-08-19T18:38:35.692787Z"
    },
    "papermill": {
     "duration": 0.018591,
     "end_time": "2025-08-19T18:38:35.694929",
     "exception": false,
     "start_time": "2025-08-19T18:38:35.676338",
     "status": "completed"
    },
    "tags": []
   },
   "outputs": [],
   "source": [
    "example_universe = universe.copy()\n",
    "universe_training_year = example_universe.get(\"training_year\")\n",
    "universe_training_size = example_universe.get(\"training_size\")\n",
    "universe_scale = example_universe.get(\"scale\")\n",
    "universe_model = example_universe.get(\"model\")\n",
    "universe_exclude_features = example_universe.get(\"exclude_features\")\n",
    "universe_exclude_subgroups = example_universe.get(\"exclude_subgroups\")"
   ]
  },
  {
   "cell_type": "code",
   "execution_count": 48,
   "id": "dbb53cb4",
   "metadata": {
    "execution": {
     "iopub.execute_input": "2025-08-19T18:38:35.720690Z",
     "iopub.status.busy": "2025-08-19T18:38:35.720311Z",
     "iopub.status.idle": "2025-08-19T18:38:35.725072Z",
     "shell.execute_reply": "2025-08-19T18:38:35.724379Z"
    },
    "papermill": {
     "duration": 0.019629,
     "end_time": "2025-08-19T18:38:35.726574",
     "exception": false,
     "start_time": "2025-08-19T18:38:35.706945",
     "status": "completed"
    },
    "tags": []
   },
   "outputs": [],
   "source": [
    "cp_metrics_dict = {\n",
    "    \"universe_id\": [universe_id],\n",
    "    \"universe_training_year\": [universe_training_year],\n",
    "    \"universe_training_size\": [universe_training_size],\n",
    "    \"universe_scale\": [universe_scale],\n",
    "    \"universe_model\": [universe_model],\n",
    "    \"universe_exclude_features\": [universe_exclude_features],\n",
    "    \"universe_exclude_subgroups\": [universe_exclude_subgroups],\n",
    "    \"q_hat\": [q_hat],\n",
    "    \"coverage\": [metrics[\"coverage\"]],\n",
    "    \"avg_size\": [metrics[\"avg_size\"]],\n",
    "}"
   ]
  },
  {
   "cell_type": "code",
   "execution_count": 49,
   "id": "0d70d4b2",
   "metadata": {
    "execution": {
     "iopub.execute_input": "2025-08-19T18:38:35.751344Z",
     "iopub.status.busy": "2025-08-19T18:38:35.750953Z",
     "iopub.status.idle": "2025-08-19T18:38:35.756622Z",
     "shell.execute_reply": "2025-08-19T18:38:35.755905Z"
    },
    "papermill": {
     "duration": 0.019771,
     "end_time": "2025-08-19T18:38:35.758172",
     "exception": false,
     "start_time": "2025-08-19T18:38:35.738401",
     "status": "completed"
    },
    "tags": []
   },
   "outputs": [],
   "source": [
    "cp_metrics_df = pd.DataFrame(cp_metrics_dict)"
   ]
  },
  {
   "cell_type": "code",
   "execution_count": 50,
   "id": "b494403c",
   "metadata": {
    "execution": {
     "iopub.execute_input": "2025-08-19T18:38:35.783531Z",
     "iopub.status.busy": "2025-08-19T18:38:35.783134Z",
     "iopub.status.idle": "2025-08-19T18:38:35.797476Z",
     "shell.execute_reply": "2025-08-19T18:38:35.796727Z"
    },
    "papermill": {
     "duration": 0.028611,
     "end_time": "2025-08-19T18:38:35.799060",
     "exception": false,
     "start_time": "2025-08-19T18:38:35.770449",
     "status": "completed"
    },
    "tags": []
   },
   "outputs": [
    {
     "data": {
      "text/html": [
       "<div>\n",
       "<style scoped>\n",
       "    .dataframe tbody tr th:only-of-type {\n",
       "        vertical-align: middle;\n",
       "    }\n",
       "\n",
       "    .dataframe tbody tr th {\n",
       "        vertical-align: top;\n",
       "    }\n",
       "\n",
       "    .dataframe thead th {\n",
       "        text-align: right;\n",
       "    }\n",
       "</style>\n",
       "<table border=\"1\" class=\"dataframe\">\n",
       "  <thead>\n",
       "    <tr style=\"text-align: right;\">\n",
       "      <th></th>\n",
       "      <th>universe_id</th>\n",
       "      <th>universe_training_year</th>\n",
       "      <th>universe_training_size</th>\n",
       "      <th>universe_scale</th>\n",
       "      <th>universe_model</th>\n",
       "      <th>universe_exclude_features</th>\n",
       "      <th>universe_exclude_subgroups</th>\n",
       "      <th>q_hat</th>\n",
       "      <th>coverage</th>\n",
       "      <th>avg_size</th>\n",
       "    </tr>\n",
       "  </thead>\n",
       "  <tbody>\n",
       "    <tr>\n",
       "      <th>0</th>\n",
       "      <td>27d45d1766b793daed58f418db280af6</td>\n",
       "      <td>2012_14</td>\n",
       "      <td>5k</td>\n",
       "      <td>do-not-scale</td>\n",
       "      <td>gbm</td>\n",
       "      <td>nationality-sex</td>\n",
       "      <td>drop-non-german</td>\n",
       "      <td>0.701409</td>\n",
       "      <td>0.909932</td>\n",
       "      <td>1.126809</td>\n",
       "    </tr>\n",
       "  </tbody>\n",
       "</table>\n",
       "</div>"
      ],
      "text/plain": [
       "                        universe_id universe_training_year  \\\n",
       "0  27d45d1766b793daed58f418db280af6                2012_14   \n",
       "\n",
       "  universe_training_size universe_scale universe_model  \\\n",
       "0                     5k   do-not-scale            gbm   \n",
       "\n",
       "  universe_exclude_features universe_exclude_subgroups     q_hat  coverage  \\\n",
       "0           nationality-sex            drop-non-german  0.701409  0.909932   \n",
       "\n",
       "   avg_size  \n",
       "0  1.126809  "
      ]
     },
     "execution_count": 50,
     "metadata": {},
     "output_type": "execute_result"
    }
   ],
   "source": [
    "cp_metrics_df"
   ]
  },
  {
   "cell_type": "markdown",
   "id": "ed608b0b",
   "metadata": {
    "papermill": {
     "duration": 0.024086,
     "end_time": "2025-08-19T18:38:35.865107",
     "exception": false,
     "start_time": "2025-08-19T18:38:35.841021",
     "status": "completed"
    },
    "tags": []
   },
   "source": [
    "Conditional coverage & looking at subgroups"
   ]
  },
  {
   "cell_type": "code",
   "execution_count": 51,
   "id": "8968c366",
   "metadata": {
    "execution": {
     "iopub.execute_input": "2025-08-19T18:38:35.914952Z",
     "iopub.status.busy": "2025-08-19T18:38:35.914558Z",
     "iopub.status.idle": "2025-08-19T18:38:36.198743Z",
     "shell.execute_reply": "2025-08-19T18:38:36.197719Z"
    },
    "papermill": {
     "duration": 0.311605,
     "end_time": "2025-08-19T18:38:36.200596",
     "exception": false,
     "start_time": "2025-08-19T18:38:35.888991",
     "status": "completed"
    },
    "tags": []
   },
   "outputs": [],
   "source": [
    "from fairness_multiverse.conformal import build_cp_groups\n",
    "\n",
    "cp_groups_df = build_cp_groups(pred_sets, y_true, X_test.index, org_test)"
   ]
  },
  {
   "cell_type": "code",
   "execution_count": 52,
   "id": "292ddabf",
   "metadata": {
    "execution": {
     "iopub.execute_input": "2025-08-19T18:38:36.231281Z",
     "iopub.status.busy": "2025-08-19T18:38:36.230811Z",
     "iopub.status.idle": "2025-08-19T18:38:37.162968Z",
     "shell.execute_reply": "2025-08-19T18:38:37.161812Z"
    },
    "papermill": {
     "duration": 0.951404,
     "end_time": "2025-08-19T18:38:37.164987",
     "exception": false,
     "start_time": "2025-08-19T18:38:36.213583",
     "status": "completed"
    },
    "tags": []
   },
   "outputs": [],
   "source": [
    "# Define covered = 1 if true_label is in the predicted set\n",
    "cp_groups_df['covered'] = cp_groups_df.apply(\n",
    "    lambda r: int(r['true_label'] in r['pred_set']),\n",
    "    axis=1\n",
    ")"
   ]
  },
  {
   "cell_type": "code",
   "execution_count": 53,
   "id": "3a261692",
   "metadata": {
    "execution": {
     "iopub.execute_input": "2025-08-19T18:38:37.195276Z",
     "iopub.status.busy": "2025-08-19T18:38:37.194811Z",
     "iopub.status.idle": "2025-08-19T18:38:37.207376Z",
     "shell.execute_reply": "2025-08-19T18:38:37.206734Z"
    },
    "papermill": {
     "duration": 0.027122,
     "end_time": "2025-08-19T18:38:37.208744",
     "exception": false,
     "start_time": "2025-08-19T18:38:37.181622",
     "status": "completed"
    },
    "tags": []
   },
   "outputs": [],
   "source": [
    "subgroups = ['frau1','nongerman','nongerman_male','nongerman_female']\n",
    "\n",
    "# Conditional coverage for subgroup==1\n",
    "cond_coverage = {\n",
    "    g: cp_groups_df.loc[cp_groups_df[g]==1, 'covered'].mean()\n",
    "    for g in subgroups\n",
    "}"
   ]
  },
  {
   "cell_type": "code",
   "execution_count": 54,
   "id": "894fd600",
   "metadata": {
    "execution": {
     "iopub.execute_input": "2025-08-19T18:38:37.233724Z",
     "iopub.status.busy": "2025-08-19T18:38:37.233386Z",
     "iopub.status.idle": "2025-08-19T18:38:37.240308Z",
     "shell.execute_reply": "2025-08-19T18:38:37.239640Z"
    },
    "papermill": {
     "duration": 0.022486,
     "end_time": "2025-08-19T18:38:37.243326",
     "exception": false,
     "start_time": "2025-08-19T18:38:37.220840",
     "status": "completed"
    },
    "tags": []
   },
   "outputs": [
    {
     "data": {
      "text/plain": [
       "{'frau1': 0.9057554926539965,\n",
       " 'nongerman': 0.904395666086566,\n",
       " 'nongerman_male': 0.92227325947942,\n",
       " 'nongerman_female': 0.8748137108792846}"
      ]
     },
     "execution_count": 54,
     "metadata": {},
     "output_type": "execute_result"
    }
   ],
   "source": [
    "cond_coverage"
   ]
  },
  {
   "cell_type": "code",
   "execution_count": 55,
   "id": "942895c7",
   "metadata": {
    "execution": {
     "iopub.execute_input": "2025-08-19T18:38:37.268464Z",
     "iopub.status.busy": "2025-08-19T18:38:37.268142Z",
     "iopub.status.idle": "2025-08-19T18:38:37.274000Z",
     "shell.execute_reply": "2025-08-19T18:38:37.273379Z"
    },
    "papermill": {
     "duration": 0.020047,
     "end_time": "2025-08-19T18:38:37.275489",
     "exception": false,
     "start_time": "2025-08-19T18:38:37.255442",
     "status": "completed"
    },
    "tags": []
   },
   "outputs": [],
   "source": [
    "for subgroup, cov in cond_coverage.items():\n",
    "    cp_metrics_df[f\"cov_{subgroup}\"] = cov"
   ]
  },
  {
   "cell_type": "code",
   "execution_count": 56,
   "id": "3970120f",
   "metadata": {
    "execution": {
     "iopub.execute_input": "2025-08-19T18:38:37.300515Z",
     "iopub.status.busy": "2025-08-19T18:38:37.300153Z",
     "iopub.status.idle": "2025-08-19T18:38:37.314106Z",
     "shell.execute_reply": "2025-08-19T18:38:37.313421Z"
    },
    "papermill": {
     "duration": 0.037646,
     "end_time": "2025-08-19T18:38:37.325218",
     "exception": false,
     "start_time": "2025-08-19T18:38:37.287572",
     "status": "completed"
    },
    "tags": []
   },
   "outputs": [
    {
     "data": {
      "text/html": [
       "<div>\n",
       "<style scoped>\n",
       "    .dataframe tbody tr th:only-of-type {\n",
       "        vertical-align: middle;\n",
       "    }\n",
       "\n",
       "    .dataframe tbody tr th {\n",
       "        vertical-align: top;\n",
       "    }\n",
       "\n",
       "    .dataframe thead th {\n",
       "        text-align: right;\n",
       "    }\n",
       "</style>\n",
       "<table border=\"1\" class=\"dataframe\">\n",
       "  <thead>\n",
       "    <tr style=\"text-align: right;\">\n",
       "      <th></th>\n",
       "      <th>universe_id</th>\n",
       "      <th>universe_training_year</th>\n",
       "      <th>universe_training_size</th>\n",
       "      <th>universe_scale</th>\n",
       "      <th>universe_model</th>\n",
       "      <th>universe_exclude_features</th>\n",
       "      <th>universe_exclude_subgroups</th>\n",
       "      <th>q_hat</th>\n",
       "      <th>coverage</th>\n",
       "      <th>avg_size</th>\n",
       "      <th>cov_frau1</th>\n",
       "      <th>cov_nongerman</th>\n",
       "      <th>cov_nongerman_male</th>\n",
       "      <th>cov_nongerman_female</th>\n",
       "    </tr>\n",
       "  </thead>\n",
       "  <tbody>\n",
       "    <tr>\n",
       "      <th>0</th>\n",
       "      <td>27d45d1766b793daed58f418db280af6</td>\n",
       "      <td>2012_14</td>\n",
       "      <td>5k</td>\n",
       "      <td>do-not-scale</td>\n",
       "      <td>gbm</td>\n",
       "      <td>nationality-sex</td>\n",
       "      <td>drop-non-german</td>\n",
       "      <td>0.701409</td>\n",
       "      <td>0.909932</td>\n",
       "      <td>1.126809</td>\n",
       "      <td>0.905755</td>\n",
       "      <td>0.904396</td>\n",
       "      <td>0.922273</td>\n",
       "      <td>0.874814</td>\n",
       "    </tr>\n",
       "  </tbody>\n",
       "</table>\n",
       "</div>"
      ],
      "text/plain": [
       "                        universe_id universe_training_year  \\\n",
       "0  27d45d1766b793daed58f418db280af6                2012_14   \n",
       "\n",
       "  universe_training_size universe_scale universe_model  \\\n",
       "0                     5k   do-not-scale            gbm   \n",
       "\n",
       "  universe_exclude_features universe_exclude_subgroups     q_hat  coverage  \\\n",
       "0           nationality-sex            drop-non-german  0.701409  0.909932   \n",
       "\n",
       "   avg_size  cov_frau1  cov_nongerman  cov_nongerman_male  \\\n",
       "0  1.126809   0.905755       0.904396            0.922273   \n",
       "\n",
       "   cov_nongerman_female  \n",
       "0              0.874814  "
      ]
     },
     "execution_count": 56,
     "metadata": {},
     "output_type": "execute_result"
    }
   ],
   "source": [
    "cp_metrics_df"
   ]
  },
  {
   "cell_type": "markdown",
   "id": "3fc519cc",
   "metadata": {
    "papermill": {
     "duration": 0.012079,
     "end_time": "2025-08-19T18:38:37.349725",
     "exception": false,
     "start_time": "2025-08-19T18:38:37.337646",
     "status": "completed"
    },
    "tags": []
   },
   "source": [
    "# (Fairness) Metrics"
   ]
  },
  {
   "cell_type": "code",
   "execution_count": 57,
   "id": "a2e5e155",
   "metadata": {
    "execution": {
     "iopub.execute_input": "2025-08-19T18:38:37.448148Z",
     "iopub.status.busy": "2025-08-19T18:38:37.447737Z",
     "iopub.status.idle": "2025-08-19T18:38:37.485266Z",
     "shell.execute_reply": "2025-08-19T18:38:37.484546Z"
    },
    "papermill": {
     "duration": 0.06441,
     "end_time": "2025-08-19T18:38:37.486495",
     "exception": false,
     "start_time": "2025-08-19T18:38:37.422085",
     "status": "completed"
    },
    "tags": []
   },
   "outputs": [],
   "source": [
    "colname_to_bin = \"maxdeutsch1\"\n",
    "majority_value = org_train[colname_to_bin].mode()[0]\n",
    "\n",
    "org_test[\"majmin\"] = np.where(org_test[colname_to_bin] == majority_value, \"majority\", \"minority\")"
   ]
  },
  {
   "cell_type": "code",
   "execution_count": 58,
   "id": "17e3e4d5",
   "metadata": {
    "execution": {
     "iopub.execute_input": "2025-08-19T18:38:37.533798Z",
     "iopub.status.busy": "2025-08-19T18:38:37.533395Z",
     "iopub.status.idle": "2025-08-19T18:38:41.116665Z",
     "shell.execute_reply": "2025-08-19T18:38:41.093835Z"
    },
    "papermill": {
     "duration": 3.617814,
     "end_time": "2025-08-19T18:38:41.129563",
     "exception": false,
     "start_time": "2025-08-19T18:38:37.511749",
     "status": "completed"
    },
    "tags": []
   },
   "outputs": [],
   "source": [
    "example_universe = universe.copy()\n",
    "example_universe[\"cutoff\"] = example_universe[\"cutoff\"][0]\n",
    "example_universe[\"eval_fairness_grouping\"] = example_universe[\"eval_fairness_grouping\"][0]\n",
    "fairness_dict, metric_frame = universe_analysis.compute_metrics(\n",
    "    example_universe,\n",
    "    y_pred_prob=probs_test,\n",
    "    y_test=y_true,\n",
    "    org_test=org_test,\n",
    ")"
   ]
  },
  {
   "cell_type": "markdown",
   "id": "1fb7a0e9",
   "metadata": {
    "papermill": {
     "duration": 0.028258,
     "end_time": "2025-08-19T18:38:41.173232",
     "exception": false,
     "start_time": "2025-08-19T18:38:41.144974",
     "status": "completed"
    },
    "tags": []
   },
   "source": [
    "# Overall"
   ]
  },
  {
   "cell_type": "markdown",
   "id": "be1784b1",
   "metadata": {
    "papermill": {
     "duration": 0.028286,
     "end_time": "2025-08-19T18:38:41.229371",
     "exception": false,
     "start_time": "2025-08-19T18:38:41.201085",
     "status": "completed"
    },
    "tags": []
   },
   "source": [
    "Main fairness target: Equalized Odds. Seems to be a better fit than equal opportunity, since we're not only interested in Y = 1. Seems to be a better fit than demographic parity, since we also care about accuracy, not just equal distribution of preds.\n",
    "\n",
    "Pick column for computation of fairness metrics\n",
    "\n",
    "Performance\n",
    "Overall performance measures, most interesting in relation to the measures split by group below"
   ]
  },
  {
   "cell_type": "code",
   "execution_count": 59,
   "id": "b7672bee",
   "metadata": {
    "execution": {
     "iopub.execute_input": "2025-08-19T18:38:41.260027Z",
     "iopub.status.busy": "2025-08-19T18:38:41.258719Z",
     "iopub.status.idle": "2025-08-19T18:38:41.271080Z",
     "shell.execute_reply": "2025-08-19T18:38:41.269931Z"
    },
    "papermill": {
     "duration": 0.028216,
     "end_time": "2025-08-19T18:38:41.272633",
     "exception": false,
     "start_time": "2025-08-19T18:38:41.244417",
     "status": "completed"
    },
    "tags": []
   },
   "outputs": [
    {
     "data": {
      "text/plain": [
       "accuracy                   0.224802\n",
       "balanced accuracy          0.549583\n",
       "f1                         0.246122\n",
       "precision                  0.140601\n",
       "false positive rate        0.887279\n",
       "false negative rate        0.013556\n",
       "selection rate             0.900000\n",
       "count                  89710.000000\n",
       "dtype: float64"
      ]
     },
     "execution_count": 59,
     "metadata": {},
     "output_type": "execute_result"
    }
   ],
   "source": [
    "metric_frame.overall"
   ]
  },
  {
   "cell_type": "markdown",
   "id": "d93333c9",
   "metadata": {
    "papermill": {
     "duration": 0.027893,
     "end_time": "2025-08-19T18:38:41.333131",
     "exception": false,
     "start_time": "2025-08-19T18:38:41.305238",
     "status": "completed"
    },
    "tags": []
   },
   "source": [
    "By Group"
   ]
  },
  {
   "cell_type": "code",
   "execution_count": 60,
   "id": "52256966",
   "metadata": {
    "execution": {
     "iopub.execute_input": "2025-08-19T18:38:41.393122Z",
     "iopub.status.busy": "2025-08-19T18:38:41.392630Z",
     "iopub.status.idle": "2025-08-19T18:38:41.419106Z",
     "shell.execute_reply": "2025-08-19T18:38:41.418279Z"
    },
    "papermill": {
     "duration": 0.059618,
     "end_time": "2025-08-19T18:38:41.420706",
     "exception": false,
     "start_time": "2025-08-19T18:38:41.361088",
     "status": "completed"
    },
    "tags": []
   },
   "outputs": [
    {
     "data": {
      "text/html": [
       "<div>\n",
       "<style scoped>\n",
       "    .dataframe tbody tr th:only-of-type {\n",
       "        vertical-align: middle;\n",
       "    }\n",
       "\n",
       "    .dataframe tbody tr th {\n",
       "        vertical-align: top;\n",
       "    }\n",
       "\n",
       "    .dataframe thead th {\n",
       "        text-align: right;\n",
       "    }\n",
       "</style>\n",
       "<table border=\"1\" class=\"dataframe\">\n",
       "  <thead>\n",
       "    <tr style=\"text-align: right;\">\n",
       "      <th></th>\n",
       "      <th>accuracy</th>\n",
       "      <th>balanced accuracy</th>\n",
       "      <th>f1</th>\n",
       "      <th>precision</th>\n",
       "      <th>false positive rate</th>\n",
       "      <th>false negative rate</th>\n",
       "      <th>selection rate</th>\n",
       "      <th>count</th>\n",
       "    </tr>\n",
       "    <tr>\n",
       "      <th>majmin</th>\n",
       "      <th></th>\n",
       "      <th></th>\n",
       "      <th></th>\n",
       "      <th></th>\n",
       "      <th></th>\n",
       "      <th></th>\n",
       "      <th></th>\n",
       "      <th></th>\n",
       "    </tr>\n",
       "  </thead>\n",
       "  <tbody>\n",
       "    <tr>\n",
       "      <th>majority</th>\n",
       "      <td>0.246986</td>\n",
       "      <td>0.559442</td>\n",
       "      <td>0.256721</td>\n",
       "      <td>0.147614</td>\n",
       "      <td>0.865251</td>\n",
       "      <td>0.015864</td>\n",
       "      <td>0.880960</td>\n",
       "      <td>69170.0</td>\n",
       "    </tr>\n",
       "    <tr>\n",
       "      <th>minority</th>\n",
       "      <td>0.150097</td>\n",
       "      <td>0.517653</td>\n",
       "      <td>0.212620</td>\n",
       "      <td>0.119022</td>\n",
       "      <td>0.960048</td>\n",
       "      <td>0.004645</td>\n",
       "      <td>0.964119</td>\n",
       "      <td>20540.0</td>\n",
       "    </tr>\n",
       "  </tbody>\n",
       "</table>\n",
       "</div>"
      ],
      "text/plain": [
       "          accuracy  balanced accuracy        f1  precision  \\\n",
       "majmin                                                       \n",
       "majority  0.246986           0.559442  0.256721   0.147614   \n",
       "minority  0.150097           0.517653  0.212620   0.119022   \n",
       "\n",
       "          false positive rate  false negative rate  selection rate    count  \n",
       "majmin                                                                       \n",
       "majority             0.865251             0.015864        0.880960  69170.0  \n",
       "minority             0.960048             0.004645        0.964119  20540.0  "
      ]
     },
     "execution_count": 60,
     "metadata": {},
     "output_type": "execute_result"
    }
   ],
   "source": [
    "metric_frame.by_group"
   ]
  },
  {
   "cell_type": "code",
   "execution_count": 61,
   "id": "6e6c20ae",
   "metadata": {
    "execution": {
     "iopub.execute_input": "2025-08-19T18:38:41.480815Z",
     "iopub.status.busy": "2025-08-19T18:38:41.479271Z",
     "iopub.status.idle": "2025-08-19T18:38:44.932541Z",
     "shell.execute_reply": "2025-08-19T18:38:44.931198Z"
    },
    "papermill": {
     "duration": 3.48524,
     "end_time": "2025-08-19T18:38:44.934389",
     "exception": false,
     "start_time": "2025-08-19T18:38:41.449149",
     "status": "completed"
    },
    "tags": []
   },
   "outputs": [
    {
     "data": {
      "text/plain": [
       "array([[<Axes: title={'center': 'accuracy'}, xlabel='majmin'>,\n",
       "        <Axes: title={'center': 'balanced accuracy'}, xlabel='majmin'>,\n",
       "        <Axes: title={'center': 'f1'}, xlabel='majmin'>],\n",
       "       [<Axes: title={'center': 'precision'}, xlabel='majmin'>,\n",
       "        <Axes: title={'center': 'false positive rate'}, xlabel='majmin'>,\n",
       "        <Axes: title={'center': 'false negative rate'}, xlabel='majmin'>],\n",
       "       [<Axes: title={'center': 'selection rate'}, xlabel='majmin'>,\n",
       "        <Axes: title={'center': 'count'}, xlabel='majmin'>,\n",
       "        <Axes: xlabel='majmin'>]], dtype=object)"
      ]
     },
     "execution_count": 61,
     "metadata": {},
     "output_type": "execute_result"
    },
    {
     "data": {
      "image/png": "[encoded data removed]",
      "text/plain": [
       "<Figure size 1200x800 with 9 Axes>"
      ]
     },
     "metadata": {},
     "output_type": "display_data"
    }
   ],
   "source": [
    "# In a graphic\n",
    "metric_frame.by_group.plot.bar(\n",
    "    subplots=True,\n",
    "    layout=[3, 3],\n",
    "    legend=False,\n",
    "    figsize=[12, 8],\n",
    "    title=\"Show all metrics\",\n",
    ")"
   ]
  },
  {
   "cell_type": "markdown",
   "id": "b2e433ae",
   "metadata": {
    "papermill": {
     "duration": 0.013992,
     "end_time": "2025-08-19T18:38:44.966223",
     "exception": false,
     "start_time": "2025-08-19T18:38:44.952231",
     "status": "completed"
    },
    "tags": []
   },
   "source": [
    "# Final Output"
   ]
  },
  {
   "cell_type": "code",
   "execution_count": 62,
   "id": "3871301e",
   "metadata": {
    "execution": {
     "iopub.execute_input": "2025-08-19T18:38:44.996139Z",
     "iopub.status.busy": "2025-08-19T18:38:44.994988Z",
     "iopub.status.idle": "2025-08-19T18:38:45.005659Z",
     "shell.execute_reply": "2025-08-19T18:38:45.004746Z"
    },
    "papermill": {
     "duration": 0.027262,
     "end_time": "2025-08-19T18:38:45.007196",
     "exception": false,
     "start_time": "2025-08-19T18:38:44.979934",
     "status": "completed"
    },
    "tags": []
   },
   "outputs": [
    {
     "data": {
      "text/plain": [
       "4"
      ]
     },
     "execution_count": 62,
     "metadata": {},
     "output_type": "execute_result"
    }
   ],
   "source": [
    "sub_universes = universe_analysis.generate_sub_universes()\n",
    "len(sub_universes)"
   ]
  },
  {
   "cell_type": "code",
   "execution_count": 63,
   "id": "d9cfdaca",
   "metadata": {
    "execution": {
     "iopub.execute_input": "2025-08-19T18:38:45.067293Z",
     "iopub.status.busy": "2025-08-19T18:38:45.066790Z",
     "iopub.status.idle": "2025-08-19T18:38:45.072405Z",
     "shell.execute_reply": "2025-08-19T18:38:45.071576Z"
    },
    "papermill": {
     "duration": 0.036484,
     "end_time": "2025-08-19T18:38:45.073937",
     "exception": false,
     "start_time": "2025-08-19T18:38:45.037453",
     "status": "completed"
    },
    "tags": []
   },
   "outputs": [],
   "source": [
    "def filter_sub_universe_data(sub_universe, org_test):\n",
    "    # Keep all rows — no filtering\n",
    "    keep_rows_mask = np.ones(org_test.shape[0], dtype=bool)\n",
    "\n",
    "    print(f\"[INFO] Keeping all rows: {keep_rows_mask.sum()} rows retained.\")\n",
    "    return keep_rows_mask"
   ]
  },
  {
   "cell_type": "code",
   "execution_count": 64,
   "id": "2bc31ac1",
   "metadata": {
    "execution": {
     "iopub.execute_input": "2025-08-19T18:38:45.104194Z",
     "iopub.status.busy": "2025-08-19T18:38:45.103693Z",
     "iopub.status.idle": "2025-08-19T18:38:54.000547Z",
     "shell.execute_reply": "2025-08-19T18:38:53.990041Z"
    },
    "papermill": {
     "duration": 8.913345,
     "end_time": "2025-08-19T18:38:54.002054",
     "exception": false,
     "start_time": "2025-08-19T18:38:45.088709",
     "status": "completed"
    },
    "tags": []
   },
   "outputs": [
    {
     "name": "stdout",
     "output_type": "stream",
     "text": [
      "Stopping execution_time clock.\n",
      "[INFO] Keeping all rows: 89710 rows retained.\n"
     ]
    },
    {
     "name": "stdout",
     "output_type": "stream",
     "text": [
      "[INFO] Keeping all rows: 89710 rows retained.\n"
     ]
    },
    {
     "name": "stdout",
     "output_type": "stream",
     "text": [
      "[INFO] Keeping all rows: 89710 rows retained.\n"
     ]
    },
    {
     "name": "stdout",
     "output_type": "stream",
     "text": [
      "[INFO] Keeping all rows: 89710 rows retained.\n"
     ]
    },
    {
     "data": {
      "text/html": [
       "<div>\n",
       "<style scoped>\n",
       "    .dataframe tbody tr th:only-of-type {\n",
       "        vertical-align: middle;\n",
       "    }\n",
       "\n",
       "    .dataframe tbody tr th {\n",
       "        vertical-align: top;\n",
       "    }\n",
       "\n",
       "    .dataframe thead th {\n",
       "        text-align: right;\n",
       "    }\n",
       "</style>\n",
       "<table border=\"1\" class=\"dataframe\">\n",
       "  <thead>\n",
       "    <tr style=\"text-align: right;\">\n",
       "      <th></th>\n",
       "      <th>run_no</th>\n",
       "      <th>universe_id</th>\n",
       "      <th>universe_settings</th>\n",
       "      <th>execution_time</th>\n",
       "      <th>test_size_n</th>\n",
       "      <th>test_size_frac</th>\n",
       "      <th>fair_main_equalized_odds_difference</th>\n",
       "      <th>fair_main_equalized_odds_ratio</th>\n",
       "      <th>fair_main_demographic_parity_difference</th>\n",
       "      <th>fair_main_demographic_parity_ratio</th>\n",
       "      <th>...</th>\n",
       "      <th>perf_grp_precision_0</th>\n",
       "      <th>perf_grp_precision_1</th>\n",
       "      <th>perf_grp_false positive rate_0</th>\n",
       "      <th>perf_grp_false positive rate_1</th>\n",
       "      <th>perf_grp_false negative rate_0</th>\n",
       "      <th>perf_grp_false negative rate_1</th>\n",
       "      <th>perf_grp_selection rate_0</th>\n",
       "      <th>perf_grp_selection rate_1</th>\n",
       "      <th>perf_grp_count_0</th>\n",
       "      <th>perf_grp_count_1</th>\n",
       "    </tr>\n",
       "  </thead>\n",
       "  <tbody>\n",
       "    <tr>\n",
       "      <th>0</th>\n",
       "      <td>3</td>\n",
       "      <td>27d45d1766b793daed58f418db280af6</td>\n",
       "      <td>{\"cutoff\": \"quantile_0.1\", \"eval_fairness_grou...</td>\n",
       "      <td>40.029084</td>\n",
       "      <td>89710</td>\n",
       "      <td>1.0</td>\n",
       "      <td>0.094798</td>\n",
       "      <td>0.901257</td>\n",
       "      <td>0.083159</td>\n",
       "      <td>0.913746</td>\n",
       "      <td>...</td>\n",
       "      <td>NaN</td>\n",
       "      <td>NaN</td>\n",
       "      <td>NaN</td>\n",
       "      <td>NaN</td>\n",
       "      <td>NaN</td>\n",
       "      <td>NaN</td>\n",
       "      <td>NaN</td>\n",
       "      <td>NaN</td>\n",
       "      <td>NaN</td>\n",
       "      <td>NaN</td>\n",
       "    </tr>\n",
       "    <tr>\n",
       "      <th>0</th>\n",
       "      <td>3</td>\n",
       "      <td>27d45d1766b793daed58f418db280af6</td>\n",
       "      <td>{\"cutoff\": \"quantile_0.1\", \"eval_fairness_grou...</td>\n",
       "      <td>40.029084</td>\n",
       "      <td>89710</td>\n",
       "      <td>1.0</td>\n",
       "      <td>0.094798</td>\n",
       "      <td>0.901257</td>\n",
       "      <td>0.083159</td>\n",
       "      <td>0.913746</td>\n",
       "      <td>...</td>\n",
       "      <td>0.119022</td>\n",
       "      <td>0.147614</td>\n",
       "      <td>0.960048</td>\n",
       "      <td>0.865251</td>\n",
       "      <td>0.004645</td>\n",
       "      <td>0.015864</td>\n",
       "      <td>0.964119</td>\n",
       "      <td>0.880960</td>\n",
       "      <td>20540.0</td>\n",
       "      <td>69170.0</td>\n",
       "    </tr>\n",
       "    <tr>\n",
       "      <th>0</th>\n",
       "      <td>3</td>\n",
       "      <td>27d45d1766b793daed58f418db280af6</td>\n",
       "      <td>{\"cutoff\": \"quantile_0.25\", \"eval_fairness_gro...</td>\n",
       "      <td>40.029084</td>\n",
       "      <td>89710</td>\n",
       "      <td>1.0</td>\n",
       "      <td>0.095154</td>\n",
       "      <td>0.880295</td>\n",
       "      <td>0.078795</td>\n",
       "      <td>0.902814</td>\n",
       "      <td>...</td>\n",
       "      <td>NaN</td>\n",
       "      <td>NaN</td>\n",
       "      <td>NaN</td>\n",
       "      <td>NaN</td>\n",
       "      <td>NaN</td>\n",
       "      <td>NaN</td>\n",
       "      <td>NaN</td>\n",
       "      <td>NaN</td>\n",
       "      <td>NaN</td>\n",
       "      <td>NaN</td>\n",
       "    </tr>\n",
       "    <tr>\n",
       "      <th>0</th>\n",
       "      <td>3</td>\n",
       "      <td>27d45d1766b793daed58f418db280af6</td>\n",
       "      <td>{\"cutoff\": \"quantile_0.25\", \"eval_fairness_gro...</td>\n",
       "      <td>40.029084</td>\n",
       "      <td>89710</td>\n",
       "      <td>1.0</td>\n",
       "      <td>0.095154</td>\n",
       "      <td>0.880295</td>\n",
       "      <td>0.078795</td>\n",
       "      <td>0.902814</td>\n",
       "      <td>...</td>\n",
       "      <td>0.132589</td>\n",
       "      <td>0.170334</td>\n",
       "      <td>0.794904</td>\n",
       "      <td>0.699750</td>\n",
       "      <td>0.067568</td>\n",
       "      <td>0.056455</td>\n",
       "      <td>0.810759</td>\n",
       "      <td>0.731965</td>\n",
       "      <td>20540.0</td>\n",
       "      <td>69170.0</td>\n",
       "    </tr>\n",
       "  </tbody>\n",
       "</table>\n",
       "<p>4 rows × 50 columns</p>\n",
       "</div>"
      ],
      "text/plain": [
       "  run_no                       universe_id  \\\n",
       "0      3  27d45d1766b793daed58f418db280af6   \n",
       "0      3  27d45d1766b793daed58f418db280af6   \n",
       "0      3  27d45d1766b793daed58f418db280af6   \n",
       "0      3  27d45d1766b793daed58f418db280af6   \n",
       "\n",
       "                                   universe_settings  execution_time  \\\n",
       "0  {\"cutoff\": \"quantile_0.1\", \"eval_fairness_grou...       40.029084   \n",
       "0  {\"cutoff\": \"quantile_0.1\", \"eval_fairness_grou...       40.029084   \n",
       "0  {\"cutoff\": \"quantile_0.25\", \"eval_fairness_gro...       40.029084   \n",
       "0  {\"cutoff\": \"quantile_0.25\", \"eval_fairness_gro...       40.029084   \n",
       "\n",
       "   test_size_n  test_size_frac  fair_main_equalized_odds_difference  \\\n",
       "0        89710             1.0                             0.094798   \n",
       "0        89710             1.0                             0.094798   \n",
       "0        89710             1.0                             0.095154   \n",
       "0        89710             1.0                             0.095154   \n",
       "\n",
       "   fair_main_equalized_odds_ratio  fair_main_demographic_parity_difference  \\\n",
       "0                        0.901257                                 0.083159   \n",
       "0                        0.901257                                 0.083159   \n",
       "0                        0.880295                                 0.078795   \n",
       "0                        0.880295                                 0.078795   \n",
       "\n",
       "   fair_main_demographic_parity_ratio  ...  perf_grp_precision_0  \\\n",
       "0                            0.913746  ...                   NaN   \n",
       "0                            0.913746  ...              0.119022   \n",
       "0                            0.902814  ...                   NaN   \n",
       "0                            0.902814  ...              0.132589   \n",
       "\n",
       "   perf_grp_precision_1  perf_grp_false positive rate_0  \\\n",
       "0                   NaN                             NaN   \n",
       "0              0.147614                        0.960048   \n",
       "0                   NaN                             NaN   \n",
       "0              0.170334                        0.794904   \n",
       "\n",
       "   perf_grp_false positive rate_1  perf_grp_false negative rate_0  \\\n",
       "0                             NaN                             NaN   \n",
       "0                        0.865251                        0.004645   \n",
       "0                             NaN                             NaN   \n",
       "0                        0.699750                        0.067568   \n",
       "\n",
       "   perf_grp_false negative rate_1  perf_grp_selection rate_0  \\\n",
       "0                             NaN                        NaN   \n",
       "0                        0.015864                   0.964119   \n",
       "0                             NaN                        NaN   \n",
       "0                        0.056455                   0.810759   \n",
       "\n",
       "   perf_grp_selection rate_1  perf_grp_count_0  perf_grp_count_1  \n",
       "0                        NaN               NaN               NaN  \n",
       "0                   0.880960           20540.0           69170.0  \n",
       "0                        NaN               NaN               NaN  \n",
       "0                   0.731965           20540.0           69170.0  \n",
       "\n",
       "[4 rows x 50 columns]"
      ]
     },
     "execution_count": 64,
     "metadata": {},
     "output_type": "execute_result"
    }
   ],
   "source": [
    "final_output = universe_analysis.generate_final_output(\n",
    "    y_pred_prob=probs_test,\n",
    "    y_test=y_true,\n",
    "    org_test=org_test,\n",
    "    filter_data=filter_sub_universe_data,\n",
    "    cp_metrics_df=cp_metrics_df,\n",
    "    save=True,\n",
    ")\n",
    "final_output"
   ]
  },
  {
   "cell_type": "code",
   "execution_count": null,
   "id": "8b80a1ff",
   "metadata": {
    "papermill": {
     "duration": 0.015124,
     "end_time": "2025-08-19T18:38:54.034591",
     "exception": false,
     "start_time": "2025-08-19T18:38:54.019467",
     "status": "completed"
    },
    "tags": []
   },
   "outputs": [],
   "source": []
  },
  {
   "cell_type": "code",
   "execution_count": null,
   "id": "275c9fad",
   "metadata": {
    "papermill": {
     "duration": 0.014961,
     "end_time": "2025-08-19T18:38:54.064433",
     "exception": false,
     "start_time": "2025-08-19T18:38:54.049472",
     "status": "completed"
    },
    "tags": []
   },
   "outputs": [],
   "source": []
  }
 ],
 "metadata": {
  "celltoolbar": "Tags",
  "kernelspec": {
   "display_name": "Python (CMA Fairness)",
   "language": "python",
   "name": "cma_fair_env"
  },
  "language_info": {
   "codemirror_mode": {
    "name": "ipython",
    "version": 3
   },
   "file_extension": ".py",
   "mimetype": "text/x-python",
   "name": "python",
   "nbconvert_exporter": "python",
   "pygments_lexer": "ipython3",
   "version": "3.10.12"
  },
  "papermill": {
   "default_parameters": {},
   "duration": 55.041883,
   "end_time": "2025-08-19T18:38:55.614605",
   "environment_variables": {},
   "exception": null,
   "input_path": "universe_analysis.ipynb",
   "output_path": "output/runs/3/notebooks/m_3-27d45d1766b793daed58f418db280af6.ipynb",
   "parameters": {
    "output_dir": "output",
    "run_no": "3",
    "seed": "2023",
    "universe": "{\"cutoff\": [\"quantile_0.1\", \"quantile_0.25\"], \"eval_fairness_grouping\": [\"majority-minority\", \"nationality-all\"], \"exclude_features\": \"nationality-sex\", \"exclude_subgroups\": \"drop-non-german\", \"model\": \"gbm\", \"scale\": \"do-not-scale\", \"training_size\": \"5k\", \"training_year\": \"2012_14\"}",
    "universe_id": "27d45d1766b793daed58f418db280af6"
   },
   "start_time": "2025-08-19T18:38:00.572722",
   "version": "2.6.0"
  }
 },
 "nbformat": 4,
 "nbformat_minor": 5
}