{
 "cells": [
  {
   "cell_type": "markdown",
   "id": "ef23dbb3",
   "metadata": {
    "papermill": {
     "duration": 0.021981,
     "end_time": "2025-08-19T18:31:29.433738",
     "exception": false,
     "start_time": "2025-08-19T18:31:29.411757",
     "status": "completed"
    },
    "tags": []
   },
   "source": [
    "# Setup"
   ]
  },
  {
   "cell_type": "code",
   "execution_count": 1,
   "id": "0bc8e7dc",
   "metadata": {
    "execution": {
     "iopub.execute_input": "2025-08-19T18:31:29.457895Z",
     "iopub.status.busy": "2025-08-19T18:31:29.456731Z",
     "iopub.status.idle": "2025-08-19T18:31:29.477077Z",
     "shell.execute_reply": "2025-08-19T18:31:29.476106Z"
    },
    "papermill": {
     "duration": 0.033855,
     "end_time": "2025-08-19T18:31:29.479461",
     "exception": false,
     "start_time": "2025-08-19T18:31:29.445606",
     "status": "completed"
    },
    "tags": []
   },
   "outputs": [
    {
     "name": "stdout",
     "output_type": "stream",
     "text": [
      "/dss/dsshome1/0C/ra93lal2/cma/CMA_Fairness_v2\n"
     ]
    },
    {
     "name": "stderr",
     "output_type": "stream",
     "text": [
      "/dss/dsshome1/0C/ra93lal2/.local/share/virtualenvs/CMA_Fairness_v2-3j10GkSs/lib/python3.10/site-packages/IPython/core/magics/osm.py:393: UserWarning: This is now an optional IPython functionality, using bookmarks requires you to install the `pickleshare` library.\n",
      "  bkms = self.shell.db.get('bookmarks', {})\n",
      "/dss/dsshome1/0C/ra93lal2/.local/share/virtualenvs/CMA_Fairness_v2-3j10GkSs/lib/python3.10/site-packages/IPython/core/magics/osm.py:417: UserWarning: This is now an optional IPython functionality, setting dhist requires you to install the `pickleshare` library.\n",
      "  self.shell.db['dhist'] = compress_dhist(dhist)[-100:]\n"
     ]
    }
   ],
   "source": [
    "%cd ~/cma/CMA_Fairness_v2"
   ]
  },
  {
   "cell_type": "markdown",
   "id": "9d235661",
   "metadata": {
    "papermill": {
     "duration": 0.009236,
     "end_time": "2025-08-19T18:31:29.503906",
     "exception": false,
     "start_time": "2025-08-19T18:31:29.494670",
     "status": "completed"
    },
    "tags": []
   },
   "source": [
    "The following cell holds the definition of our parameters, these values can be overriden by rendering the with e.g. the following command:\n",
    "\n",
    "papermill -p alpha 0.2 -p ratio 0.3 universe_analysis.ipynb output/test_run.ipynb"
   ]
  },
  {
   "cell_type": "code",
   "execution_count": 2,
   "id": "4a789d8e",
   "metadata": {
    "execution": {
     "iopub.execute_input": "2025-08-19T18:31:29.524332Z",
     "iopub.status.busy": "2025-08-19T18:31:29.523214Z",
     "iopub.status.idle": "2025-08-19T18:31:29.533749Z",
     "shell.execute_reply": "2025-08-19T18:31:29.531964Z"
    },
    "papermill": {
     "duration": 0.023694,
     "end_time": "2025-08-19T18:31:29.536392",
     "exception": false,
     "start_time": "2025-08-19T18:31:29.512698",
     "status": "completed"
    },
    "tags": []
   },
   "outputs": [
    {
     "name": "stdout",
     "output_type": "stream",
     "text": [
      "Current working directory: /dss/dsshome1/0C/ra93lal2/cma/CMA_Fairness_v2\n"
     ]
    }
   ],
   "source": [
    "import os\n",
    "print(\"Current working directory:\", os.getcwd())"
   ]
  },
  {
   "cell_type": "code",
   "execution_count": 3,
   "id": "4132aaed",
   "metadata": {
    "execution": {
     "iopub.execute_input": "2025-08-19T18:31:29.557741Z",
     "iopub.status.busy": "2025-08-19T18:31:29.557272Z",
     "iopub.status.idle": "2025-08-19T18:31:29.564541Z",
     "shell.execute_reply": "2025-08-19T18:31:29.562630Z"
    },
    "papermill": {
     "duration": 0.023608,
     "end_time": "2025-08-19T18:31:29.570808",
     "exception": false,
     "start_time": "2025-08-19T18:31:29.547200",
     "status": "completed"
    },
    "tags": [
     "parameters"
    ]
   },
   "outputs": [],
   "source": [
    "run_no = 0\n",
    "universe_id = \"test\"\n",
    "universe = {\n",
    "    \"training_size\": \"5k\", # \"25k\", \"5k\", \"1k\"\n",
    "    \"training_year\": \"2012_14\", # \"2014\", \"2012_14\", \"2010_14\"\n",
    "    \"scale\": \"scale\", # \"scale\", \"do-not-scale\",\n",
    "    \"model\": \"elasticnet\", # \"logreg\", \"penalized_logreg\", \"rf\", \"gbm\", \"elasticnet\"\n",
    "    \"cutoff\": [\"quantile_0.15\", \"quantile_0.30\"],\n",
    "    \"exclude_features\": \"age\", # \"none\", \"nationality\", \"sex\", \"nationality-sex\", \"age\"\n",
    "    \"exclude_subgroups\": \"drop-non-german\", # \"keep-all\", \"drop-non-german\"\n",
    "    \"eval_fairness_grouping\": [\"majority-minority\", \"nationality-all\"]\n",
    "}\n",
    "\n",
    "output_dir=\"./output\"\n",
    "seed=0"
   ]
  },
  {
   "cell_type": "code",
   "execution_count": 4,
   "id": "df515d6e",
   "metadata": {
    "execution": {
     "iopub.execute_input": "2025-08-19T18:31:29.605855Z",
     "iopub.status.busy": "2025-08-19T18:31:29.604781Z",
     "iopub.status.idle": "2025-08-19T18:31:29.614923Z",
     "shell.execute_reply": "2025-08-19T18:31:29.612825Z"
    },
    "papermill": {
     "duration": 0.023053,
     "end_time": "2025-08-19T18:31:29.616771",
     "exception": false,
     "start_time": "2025-08-19T18:31:29.593718",
     "status": "completed"
    },
    "tags": [
     "injected-parameters"
    ]
   },
   "outputs": [],
   "source": [
    "# Parameters\n",
    "universe_id = \"7ecfa42c74a67ee9c547f3cf9232863b\"\n",
    "run_no = \"3\"\n",
    "universe = \"{\\\"cutoff\\\": [\\\"quantile_0.1\\\", \\\"quantile_0.25\\\"], \\\"eval_fairness_grouping\\\": [\\\"majority-minority\\\", \\\"nationality-all\\\"], \\\"exclude_features\\\": \\\"none\\\", \\\"exclude_subgroups\\\": \\\"keep-all\\\", \\\"model\\\": \\\"penalized_logreg\\\", \\\"scale\\\": \\\"scale\\\", \\\"training_size\\\": \\\"5k\\\", \\\"training_year\\\": \\\"2012_14\\\"}\"\n",
    "output_dir = \"output\"\n",
    "seed = \"2023\"\n"
   ]
  },
  {
   "cell_type": "code",
   "execution_count": 5,
   "id": "a5d7941f",
   "metadata": {
    "execution": {
     "iopub.execute_input": "2025-08-19T18:31:29.641372Z",
     "iopub.status.busy": "2025-08-19T18:31:29.640266Z",
     "iopub.status.idle": "2025-08-19T18:31:29.649878Z",
     "shell.execute_reply": "2025-08-19T18:31:29.648183Z"
    },
    "papermill": {
     "duration": 0.023065,
     "end_time": "2025-08-19T18:31:29.651589",
     "exception": false,
     "start_time": "2025-08-19T18:31:29.628524",
     "status": "completed"
    },
    "tags": []
   },
   "outputs": [],
   "source": [
    "import json\n",
    "if isinstance(universe, str):\n",
    "    universe = json.loads(universe)"
   ]
  },
  {
   "cell_type": "code",
   "execution_count": 6,
   "id": "7076ccb1",
   "metadata": {
    "execution": {
     "iopub.execute_input": "2025-08-19T18:31:29.675013Z",
     "iopub.status.busy": "2025-08-19T18:31:29.673991Z",
     "iopub.status.idle": "2025-08-19T18:31:29.723589Z",
     "shell.execute_reply": "2025-08-19T18:31:29.722863Z"
    },
    "papermill": {
     "duration": 0.06348,
     "end_time": "2025-08-19T18:31:29.726273",
     "exception": false,
     "start_time": "2025-08-19T18:31:29.662793",
     "status": "completed"
    },
    "tags": []
   },
   "outputs": [],
   "source": [
    "# Auto-reload the custom package\n",
    "%load_ext autoreload\n",
    "%autoreload 1\n",
    "%aimport fairness_multiverse"
   ]
  },
  {
   "cell_type": "code",
   "execution_count": 7,
   "id": "94c8eb93",
   "metadata": {
    "execution": {
     "iopub.execute_input": "2025-08-19T18:31:29.762277Z",
     "iopub.status.busy": "2025-08-19T18:31:29.761307Z",
     "iopub.status.idle": "2025-08-19T18:31:31.292439Z",
     "shell.execute_reply": "2025-08-19T18:31:31.291431Z"
    },
    "papermill": {
     "duration": 1.546481,
     "end_time": "2025-08-19T18:31:31.294151",
     "exception": false,
     "start_time": "2025-08-19T18:31:29.747670",
     "status": "completed"
    },
    "tags": []
   },
   "outputs": [],
   "source": [
    "from fairness_multiverse.universe import UniverseAnalysis\n",
    "\n",
    "universe_analysis = UniverseAnalysis(\n",
    "    run_no = run_no,\n",
    "    universe_id = universe_id,\n",
    "    universe = universe,\n",
    "    output_dir=output_dir,\n",
    ")"
   ]
  },
  {
   "cell_type": "code",
   "execution_count": 8,
   "id": "2a6381cf",
   "metadata": {
    "execution": {
     "iopub.execute_input": "2025-08-19T18:31:31.317067Z",
     "iopub.status.busy": "2025-08-19T18:31:31.316772Z",
     "iopub.status.idle": "2025-08-19T18:31:31.322454Z",
     "shell.execute_reply": "2025-08-19T18:31:31.321572Z"
    },
    "papermill": {
     "duration": 0.018073,
     "end_time": "2025-08-19T18:31:31.324621",
     "exception": false,
     "start_time": "2025-08-19T18:31:31.306548",
     "status": "completed"
    },
    "tags": []
   },
   "outputs": [
    {
     "name": "stdout",
     "output_type": "stream",
     "text": [
      "Using Seed: 2023\n"
     ]
    }
   ],
   "source": [
    "import numpy as np\n",
    "parsed_seed = int(seed)\n",
    "np.random.seed(parsed_seed)\n",
    "print(f\"Using Seed: {parsed_seed}\")"
   ]
  },
  {
   "cell_type": "markdown",
   "id": "b6e958b4",
   "metadata": {
    "papermill": {
     "duration": 0.009961,
     "end_time": "2025-08-19T18:31:31.345058",
     "exception": false,
     "start_time": "2025-08-19T18:31:31.335097",
     "status": "completed"
    },
    "tags": []
   },
   "source": [
    "# Loading Data"
   ]
  },
  {
   "cell_type": "code",
   "execution_count": 9,
   "id": "98701482",
   "metadata": {
    "execution": {
     "iopub.execute_input": "2025-08-19T18:31:31.365253Z",
     "iopub.status.busy": "2025-08-19T18:31:31.364775Z",
     "iopub.status.idle": "2025-08-19T18:31:41.375005Z",
     "shell.execute_reply": "2025-08-19T18:31:41.374085Z"
    },
    "papermill": {
     "duration": 10.021737,
     "end_time": "2025-08-19T18:31:41.376358",
     "exception": false,
     "start_time": "2025-08-19T18:31:31.354621",
     "status": "completed"
    },
    "tags": []
   },
   "outputs": [
    {
     "name": "stdout",
     "output_type": "stream",
     "text": [
      "Loading SIAB data from cache: data/siab_cached.csv.gz\n"
     ]
    },
    {
     "name": "stdout",
     "output_type": "stream",
     "text": [
      "(643690, 164)\n"
     ]
    }
   ],
   "source": [
    "from pathlib import Path\n",
    "import pandas as pd\n",
    "\n",
    "# File paths\n",
    "raw_file = Path(\"data/raw/siab.csv\")\n",
    "cache_file = Path(\"data/siab_cached.csv.gz\")\n",
    "\n",
    "# Ensure cache directory exists\n",
    "cache_file.parent.mkdir(parents=True, exist_ok=True)\n",
    "\n",
    "# Load with simple caching\n",
    "if cache_file.exists():\n",
    "    print(f\"Loading SIAB data from cache: {cache_file}\")\n",
    "    siab = pd.read_csv(cache_file, compression='gzip')\n",
    "else:\n",
    "    print(f\"Cache not found. Reading raw SIAB data: {raw_file}\")\n",
    "    siab = pd.read_csv(raw_file)\n",
    "    siab.to_csv(cache_file, index=False, compression='gzip')\n",
    "    print(f\"Cached SIAB data to: {cache_file}\")\n",
    "\n",
    "print(siab.shape)"
   ]
  },
  {
   "cell_type": "code",
   "execution_count": 10,
   "id": "058d2abb",
   "metadata": {
    "execution": {
     "iopub.execute_input": "2025-08-19T18:31:41.419599Z",
     "iopub.status.busy": "2025-08-19T18:31:41.417823Z",
     "iopub.status.idle": "2025-08-19T18:31:41.609385Z",
     "shell.execute_reply": "2025-08-19T18:31:41.608688Z"
    },
    "papermill": {
     "duration": 0.205958,
     "end_time": "2025-08-19T18:31:41.610577",
     "exception": false,
     "start_time": "2025-08-19T18:31:41.404619",
     "status": "completed"
    },
    "tags": []
   },
   "outputs": [
    {
     "data": {
      "text/html": [
       "<div>\n",
       "<style scoped>\n",
       "    .dataframe tbody tr th:only-of-type {\n",
       "        vertical-align: middle;\n",
       "    }\n",
       "\n",
       "    .dataframe tbody tr th {\n",
       "        vertical-align: top;\n",
       "    }\n",
       "\n",
       "    .dataframe thead th {\n",
       "        text-align: right;\n",
       "    }\n",
       "</style>\n",
       "<table border=\"1\" class=\"dataframe\">\n",
       "  <thead>\n",
       "    <tr style=\"text-align: right;\">\n",
       "      <th></th>\n",
       "      <th>persnr</th>\n",
       "      <th>year</th>\n",
       "      <th>nrEntry</th>\n",
       "      <th>ltue</th>\n",
       "      <th>employed_before</th>\n",
       "      <th>receipt_leh_before</th>\n",
       "      <th>receipt_lhg_before</th>\n",
       "      <th>se_before</th>\n",
       "      <th>ASU_notue_seeking_before</th>\n",
       "      <th>ASU_other_before</th>\n",
       "      <th>...</th>\n",
       "      <th>minijob_tot_dur_byage</th>\n",
       "      <th>ft_tot_dur_byage</th>\n",
       "      <th>befrist_tot_dur_byage</th>\n",
       "      <th>leih_tot_dur_byage</th>\n",
       "      <th>LHG_tot_dur_byage</th>\n",
       "      <th>LEH_tot_dur_byage</th>\n",
       "      <th>almp_tot_dur_byage</th>\n",
       "      <th>almp_aw_tot_dur_byage</th>\n",
       "      <th>se_tot_dur_byage</th>\n",
       "      <th>seeking1_tot_dur_byage</th>\n",
       "    </tr>\n",
       "  </thead>\n",
       "  <tbody>\n",
       "    <tr>\n",
       "      <th>0</th>\n",
       "      <td>7</td>\n",
       "      <td>2015</td>\n",
       "      <td>1</td>\n",
       "      <td>0</td>\n",
       "      <td>1</td>\n",
       "      <td>0</td>\n",
       "      <td>0</td>\n",
       "      <td>0</td>\n",
       "      <td>1</td>\n",
       "      <td>0</td>\n",
       "      <td>...</td>\n",
       "      <td>0.000000</td>\n",
       "      <td>0.000000</td>\n",
       "      <td>15.043478</td>\n",
       "      <td>0.000000</td>\n",
       "      <td>0.000000</td>\n",
       "      <td>0.000000</td>\n",
       "      <td>0.000000</td>\n",
       "      <td>0.000000</td>\n",
       "      <td>0.000000</td>\n",
       "      <td>0.000000</td>\n",
       "    </tr>\n",
       "    <tr>\n",
       "      <th>1</th>\n",
       "      <td>18</td>\n",
       "      <td>2010</td>\n",
       "      <td>1</td>\n",
       "      <td>1</td>\n",
       "      <td>0</td>\n",
       "      <td>0</td>\n",
       "      <td>0</td>\n",
       "      <td>0</td>\n",
       "      <td>0</td>\n",
       "      <td>0</td>\n",
       "      <td>...</td>\n",
       "      <td>0.000000</td>\n",
       "      <td>0.000000</td>\n",
       "      <td>0.000000</td>\n",
       "      <td>0.000000</td>\n",
       "      <td>0.000000</td>\n",
       "      <td>0.000000</td>\n",
       "      <td>0.000000</td>\n",
       "      <td>0.000000</td>\n",
       "      <td>0.000000</td>\n",
       "      <td>0.000000</td>\n",
       "    </tr>\n",
       "    <tr>\n",
       "      <th>2</th>\n",
       "      <td>18</td>\n",
       "      <td>2011</td>\n",
       "      <td>2</td>\n",
       "      <td>0</td>\n",
       "      <td>1</td>\n",
       "      <td>0</td>\n",
       "      <td>1</td>\n",
       "      <td>0</td>\n",
       "      <td>1</td>\n",
       "      <td>0</td>\n",
       "      <td>...</td>\n",
       "      <td>2.714286</td>\n",
       "      <td>2.714286</td>\n",
       "      <td>0.000000</td>\n",
       "      <td>0.000000</td>\n",
       "      <td>10.775510</td>\n",
       "      <td>0.000000</td>\n",
       "      <td>8.367347</td>\n",
       "      <td>0.000000</td>\n",
       "      <td>0.000000</td>\n",
       "      <td>9.836735</td>\n",
       "    </tr>\n",
       "    <tr>\n",
       "      <th>3</th>\n",
       "      <td>18</td>\n",
       "      <td>2012</td>\n",
       "      <td>3</td>\n",
       "      <td>0</td>\n",
       "      <td>1</td>\n",
       "      <td>0</td>\n",
       "      <td>1</td>\n",
       "      <td>0</td>\n",
       "      <td>1</td>\n",
       "      <td>0</td>\n",
       "      <td>...</td>\n",
       "      <td>4.200000</td>\n",
       "      <td>4.200000</td>\n",
       "      <td>0.000000</td>\n",
       "      <td>0.000000</td>\n",
       "      <td>12.100000</td>\n",
       "      <td>0.000000</td>\n",
       "      <td>9.400000</td>\n",
       "      <td>0.000000</td>\n",
       "      <td>0.000000</td>\n",
       "      <td>9.960000</td>\n",
       "    </tr>\n",
       "    <tr>\n",
       "      <th>4</th>\n",
       "      <td>18</td>\n",
       "      <td>2012</td>\n",
       "      <td>4</td>\n",
       "      <td>0</td>\n",
       "      <td>1</td>\n",
       "      <td>0</td>\n",
       "      <td>1</td>\n",
       "      <td>0</td>\n",
       "      <td>1</td>\n",
       "      <td>0</td>\n",
       "      <td>...</td>\n",
       "      <td>5.460000</td>\n",
       "      <td>5.460000</td>\n",
       "      <td>0.000000</td>\n",
       "      <td>0.000000</td>\n",
       "      <td>13.360000</td>\n",
       "      <td>0.000000</td>\n",
       "      <td>10.320000</td>\n",
       "      <td>0.000000</td>\n",
       "      <td>0.000000</td>\n",
       "      <td>10.280000</td>\n",
       "    </tr>\n",
       "    <tr>\n",
       "      <th>...</th>\n",
       "      <td>...</td>\n",
       "      <td>...</td>\n",
       "      <td>...</td>\n",
       "      <td>...</td>\n",
       "      <td>...</td>\n",
       "      <td>...</td>\n",
       "      <td>...</td>\n",
       "      <td>...</td>\n",
       "      <td>...</td>\n",
       "      <td>...</td>\n",
       "      <td>...</td>\n",
       "      <td>...</td>\n",
       "      <td>...</td>\n",
       "      <td>...</td>\n",
       "      <td>...</td>\n",
       "      <td>...</td>\n",
       "      <td>...</td>\n",
       "      <td>...</td>\n",
       "      <td>...</td>\n",
       "      <td>...</td>\n",
       "      <td>...</td>\n",
       "    </tr>\n",
       "    <tr>\n",
       "      <th>643685</th>\n",
       "      <td>1827860</td>\n",
       "      <td>2013</td>\n",
       "      <td>1</td>\n",
       "      <td>0</td>\n",
       "      <td>0</td>\n",
       "      <td>0</td>\n",
       "      <td>1</td>\n",
       "      <td>0</td>\n",
       "      <td>0</td>\n",
       "      <td>1</td>\n",
       "      <td>...</td>\n",
       "      <td>0.000000</td>\n",
       "      <td>0.000000</td>\n",
       "      <td>0.000000</td>\n",
       "      <td>0.000000</td>\n",
       "      <td>0.612903</td>\n",
       "      <td>0.000000</td>\n",
       "      <td>0.000000</td>\n",
       "      <td>0.000000</td>\n",
       "      <td>0.000000</td>\n",
       "      <td>0.000000</td>\n",
       "    </tr>\n",
       "    <tr>\n",
       "      <th>643686</th>\n",
       "      <td>1827860</td>\n",
       "      <td>2015</td>\n",
       "      <td>2</td>\n",
       "      <td>1</td>\n",
       "      <td>0</td>\n",
       "      <td>0</td>\n",
       "      <td>1</td>\n",
       "      <td>0</td>\n",
       "      <td>1</td>\n",
       "      <td>0</td>\n",
       "      <td>...</td>\n",
       "      <td>0.000000</td>\n",
       "      <td>0.000000</td>\n",
       "      <td>0.212121</td>\n",
       "      <td>0.212121</td>\n",
       "      <td>17.363636</td>\n",
       "      <td>0.000000</td>\n",
       "      <td>8.909091</td>\n",
       "      <td>0.000000</td>\n",
       "      <td>0.000000</td>\n",
       "      <td>7.121212</td>\n",
       "    </tr>\n",
       "    <tr>\n",
       "      <th>643687</th>\n",
       "      <td>1827860</td>\n",
       "      <td>2016</td>\n",
       "      <td>3</td>\n",
       "      <td>1</td>\n",
       "      <td>0</td>\n",
       "      <td>0</td>\n",
       "      <td>1</td>\n",
       "      <td>1</td>\n",
       "      <td>0</td>\n",
       "      <td>1</td>\n",
       "      <td>...</td>\n",
       "      <td>0.000000</td>\n",
       "      <td>0.000000</td>\n",
       "      <td>0.294118</td>\n",
       "      <td>0.205882</td>\n",
       "      <td>34.705882</td>\n",
       "      <td>0.000000</td>\n",
       "      <td>10.352941</td>\n",
       "      <td>1.705882</td>\n",
       "      <td>1.705882</td>\n",
       "      <td>23.911765</td>\n",
       "    </tr>\n",
       "    <tr>\n",
       "      <th>643688</th>\n",
       "      <td>1827869</td>\n",
       "      <td>2013</td>\n",
       "      <td>1</td>\n",
       "      <td>1</td>\n",
       "      <td>1</td>\n",
       "      <td>0</td>\n",
       "      <td>0</td>\n",
       "      <td>0</td>\n",
       "      <td>1</td>\n",
       "      <td>0</td>\n",
       "      <td>...</td>\n",
       "      <td>0.000000</td>\n",
       "      <td>0.000000</td>\n",
       "      <td>0.000000</td>\n",
       "      <td>0.000000</td>\n",
       "      <td>0.000000</td>\n",
       "      <td>0.525424</td>\n",
       "      <td>0.000000</td>\n",
       "      <td>0.000000</td>\n",
       "      <td>0.000000</td>\n",
       "      <td>0.000000</td>\n",
       "    </tr>\n",
       "    <tr>\n",
       "      <th>643689</th>\n",
       "      <td>1827869</td>\n",
       "      <td>2014</td>\n",
       "      <td>2</td>\n",
       "      <td>0</td>\n",
       "      <td>0</td>\n",
       "      <td>1</td>\n",
       "      <td>0</td>\n",
       "      <td>0</td>\n",
       "      <td>1</td>\n",
       "      <td>0</td>\n",
       "      <td>...</td>\n",
       "      <td>0.000000</td>\n",
       "      <td>0.666667</td>\n",
       "      <td>0.666667</td>\n",
       "      <td>0.000000</td>\n",
       "      <td>0.000000</td>\n",
       "      <td>8.950000</td>\n",
       "      <td>1.033333</td>\n",
       "      <td>0.083333</td>\n",
       "      <td>0.083333</td>\n",
       "      <td>8.133333</td>\n",
       "    </tr>\n",
       "  </tbody>\n",
       "</table>\n",
       "<p>643690 rows × 164 columns</p>\n",
       "</div>"
      ],
      "text/plain": [
       "         persnr  year  nrEntry  ltue  employed_before  receipt_leh_before  \\\n",
       "0             7  2015        1     0                1                   0   \n",
       "1            18  2010        1     1                0                   0   \n",
       "2            18  2011        2     0                1                   0   \n",
       "3            18  2012        3     0                1                   0   \n",
       "4            18  2012        4     0                1                   0   \n",
       "...         ...   ...      ...   ...              ...                 ...   \n",
       "643685  1827860  2013        1     0                0                   0   \n",
       "643686  1827860  2015        2     1                0                   0   \n",
       "643687  1827860  2016        3     1                0                   0   \n",
       "643688  1827869  2013        1     1                1                   0   \n",
       "643689  1827869  2014        2     0                0                   1   \n",
       "\n",
       "        receipt_lhg_before  se_before  ASU_notue_seeking_before  \\\n",
       "0                        0          0                         1   \n",
       "1                        0          0                         0   \n",
       "2                        1          0                         1   \n",
       "3                        1          0                         1   \n",
       "4                        1          0                         1   \n",
       "...                    ...        ...                       ...   \n",
       "643685                   1          0                         0   \n",
       "643686                   1          0                         1   \n",
       "643687                   1          1                         0   \n",
       "643688                   0          0                         1   \n",
       "643689                   0          0                         1   \n",
       "\n",
       "        ASU_other_before  ...  minijob_tot_dur_byage  ft_tot_dur_byage  \\\n",
       "0                      0  ...               0.000000          0.000000   \n",
       "1                      0  ...               0.000000          0.000000   \n",
       "2                      0  ...               2.714286          2.714286   \n",
       "3                      0  ...               4.200000          4.200000   \n",
       "4                      0  ...               5.460000          5.460000   \n",
       "...                  ...  ...                    ...               ...   \n",
       "643685                 1  ...               0.000000          0.000000   \n",
       "643686                 0  ...               0.000000          0.000000   \n",
       "643687                 1  ...               0.000000          0.000000   \n",
       "643688                 0  ...               0.000000          0.000000   \n",
       "643689                 0  ...               0.000000          0.666667   \n",
       "\n",
       "        befrist_tot_dur_byage  leih_tot_dur_byage  LHG_tot_dur_byage  \\\n",
       "0                   15.043478            0.000000           0.000000   \n",
       "1                    0.000000            0.000000           0.000000   \n",
       "2                    0.000000            0.000000          10.775510   \n",
       "3                    0.000000            0.000000          12.100000   \n",
       "4                    0.000000            0.000000          13.360000   \n",
       "...                       ...                 ...                ...   \n",
       "643685               0.000000            0.000000           0.612903   \n",
       "643686               0.212121            0.212121          17.363636   \n",
       "643687               0.294118            0.205882          34.705882   \n",
       "643688               0.000000            0.000000           0.000000   \n",
       "643689               0.666667            0.000000           0.000000   \n",
       "\n",
       "        LEH_tot_dur_byage  almp_tot_dur_byage  almp_aw_tot_dur_byage  \\\n",
       "0                0.000000            0.000000               0.000000   \n",
       "1                0.000000            0.000000               0.000000   \n",
       "2                0.000000            8.367347               0.000000   \n",
       "3                0.000000            9.400000               0.000000   \n",
       "4                0.000000           10.320000               0.000000   \n",
       "...                   ...                 ...                    ...   \n",
       "643685           0.000000            0.000000               0.000000   \n",
       "643686           0.000000            8.909091               0.000000   \n",
       "643687           0.000000           10.352941               1.705882   \n",
       "643688           0.525424            0.000000               0.000000   \n",
       "643689           8.950000            1.033333               0.083333   \n",
       "\n",
       "        se_tot_dur_byage  seeking1_tot_dur_byage  \n",
       "0               0.000000                0.000000  \n",
       "1               0.000000                0.000000  \n",
       "2               0.000000                9.836735  \n",
       "3               0.000000                9.960000  \n",
       "4               0.000000               10.280000  \n",
       "...                  ...                     ...  \n",
       "643685          0.000000                0.000000  \n",
       "643686          0.000000                7.121212  \n",
       "643687          1.705882               23.911765  \n",
       "643688          0.000000                0.000000  \n",
       "643689          0.083333                8.133333  \n",
       "\n",
       "[643690 rows x 164 columns]"
      ]
     },
     "execution_count": 10,
     "metadata": {},
     "output_type": "execute_result"
    }
   ],
   "source": [
    "siab"
   ]
  },
  {
   "cell_type": "markdown",
   "id": "1f87e805",
   "metadata": {
    "papermill": {
     "duration": 0.009721,
     "end_time": "2025-08-19T18:31:41.634247",
     "exception": false,
     "start_time": "2025-08-19T18:31:41.624526",
     "status": "completed"
    },
    "tags": []
   },
   "source": [
    "# Splitting Data and Setting Training Data Size"
   ]
  },
  {
   "cell_type": "code",
   "execution_count": 11,
   "id": "910ae358",
   "metadata": {
    "execution": {
     "iopub.execute_input": "2025-08-19T18:31:41.655216Z",
     "iopub.status.busy": "2025-08-19T18:31:41.654626Z",
     "iopub.status.idle": "2025-08-19T18:31:42.301567Z",
     "shell.execute_reply": "2025-08-19T18:31:42.300679Z"
    },
    "papermill": {
     "duration": 0.659729,
     "end_time": "2025-08-19T18:31:42.303533",
     "exception": false,
     "start_time": "2025-08-19T18:31:41.643804",
     "status": "completed"
    },
    "tags": []
   },
   "outputs": [],
   "source": [
    "from fairness_multiverse.universe import sample_by_year_size\n",
    "\n",
    "siab_train = sample_by_year_size(siab,\n",
    "                               training_year=universe[\"training_year\"],\n",
    "                               training_size=universe[\"training_size\"])"
   ]
  },
  {
   "cell_type": "code",
   "execution_count": 12,
   "id": "919c8ff5",
   "metadata": {
    "execution": {
     "iopub.execute_input": "2025-08-19T18:31:42.329179Z",
     "iopub.status.busy": "2025-08-19T18:31:42.327754Z",
     "iopub.status.idle": "2025-08-19T18:31:42.336758Z",
     "shell.execute_reply": "2025-08-19T18:31:42.335405Z"
    },
    "papermill": {
     "duration": 0.021943,
     "end_time": "2025-08-19T18:31:42.338062",
     "exception": false,
     "start_time": "2025-08-19T18:31:42.316119",
     "status": "completed"
    },
    "tags": []
   },
   "outputs": [
    {
     "data": {
      "text/plain": [
       "(5000, 164)"
      ]
     },
     "execution_count": 12,
     "metadata": {},
     "output_type": "execute_result"
    }
   ],
   "source": [
    "siab_train.shape"
   ]
  },
  {
   "cell_type": "code",
   "execution_count": 13,
   "id": "feb13bf4",
   "metadata": {
    "execution": {
     "iopub.execute_input": "2025-08-19T18:31:42.362377Z",
     "iopub.status.busy": "2025-08-19T18:31:42.360909Z",
     "iopub.status.idle": "2025-08-19T18:31:42.536366Z",
     "shell.execute_reply": "2025-08-19T18:31:42.535098Z"
    },
    "papermill": {
     "duration": 0.190324,
     "end_time": "2025-08-19T18:31:42.538951",
     "exception": false,
     "start_time": "2025-08-19T18:31:42.348627",
     "status": "completed"
    },
    "tags": []
   },
   "outputs": [
    {
     "data": {
      "text/plain": [
       "year\n",
       "2012    1667\n",
       "2013    1667\n",
       "2014    1666\n",
       "dtype: int64"
      ]
     },
     "metadata": {},
     "output_type": "display_data"
    }
   ],
   "source": [
    "display(siab_train.groupby(\"year\").size())"
   ]
  },
  {
   "cell_type": "code",
   "execution_count": 14,
   "id": "0997782f",
   "metadata": {
    "execution": {
     "iopub.execute_input": "2025-08-19T18:31:42.575189Z",
     "iopub.status.busy": "2025-08-19T18:31:42.574099Z",
     "iopub.status.idle": "2025-08-19T18:31:42.844322Z",
     "shell.execute_reply": "2025-08-19T18:31:42.843018Z"
    },
    "papermill": {
     "duration": 0.284877,
     "end_time": "2025-08-19T18:31:42.846181",
     "exception": false,
     "start_time": "2025-08-19T18:31:42.561304",
     "status": "completed"
    },
    "tags": []
   },
   "outputs": [],
   "source": [
    "#siab_train = siab_s[siab_s.year < 2015]\n",
    "siab_calib = siab[siab.year == 2015]\n",
    "siab_test = siab[siab.year == 2016]"
   ]
  },
  {
   "cell_type": "code",
   "execution_count": 15,
   "id": "2c1e4012",
   "metadata": {
    "execution": {
     "iopub.execute_input": "2025-08-19T18:31:42.877797Z",
     "iopub.status.busy": "2025-08-19T18:31:42.877274Z",
     "iopub.status.idle": "2025-08-19T18:31:42.882022Z",
     "shell.execute_reply": "2025-08-19T18:31:42.881404Z"
    },
    "papermill": {
     "duration": 0.023415,
     "end_time": "2025-08-19T18:31:42.884501",
     "exception": false,
     "start_time": "2025-08-19T18:31:42.861086",
     "status": "completed"
    },
    "tags": []
   },
   "outputs": [],
   "source": [
    "#siab_calib.shape"
   ]
  },
  {
   "cell_type": "code",
   "execution_count": 16,
   "id": "f66b54ca",
   "metadata": {
    "execution": {
     "iopub.execute_input": "2025-08-19T18:31:42.911174Z",
     "iopub.status.busy": "2025-08-19T18:31:42.910290Z",
     "iopub.status.idle": "2025-08-19T18:31:42.916854Z",
     "shell.execute_reply": "2025-08-19T18:31:42.915527Z"
    },
    "papermill": {
     "duration": 0.020657,
     "end_time": "2025-08-19T18:31:42.918397",
     "exception": false,
     "start_time": "2025-08-19T18:31:42.897740",
     "status": "completed"
    },
    "tags": []
   },
   "outputs": [],
   "source": [
    "#siab_test.shape"
   ]
  },
  {
   "cell_type": "code",
   "execution_count": 17,
   "id": "27e4384d",
   "metadata": {
    "execution": {
     "iopub.execute_input": "2025-08-19T18:31:42.945124Z",
     "iopub.status.busy": "2025-08-19T18:31:42.943929Z",
     "iopub.status.idle": "2025-08-19T18:31:42.964558Z",
     "shell.execute_reply": "2025-08-19T18:31:42.963504Z"
    },
    "papermill": {
     "duration": 0.035445,
     "end_time": "2025-08-19T18:31:42.966816",
     "exception": false,
     "start_time": "2025-08-19T18:31:42.931371",
     "status": "completed"
    },
    "tags": []
   },
   "outputs": [],
   "source": [
    "X_train = siab_train.iloc[:,4:164]\n",
    "y_train = siab_train.iloc[:, [3]]"
   ]
  },
  {
   "cell_type": "code",
   "execution_count": 18,
   "id": "08ee8389",
   "metadata": {
    "execution": {
     "iopub.execute_input": "2025-08-19T18:31:42.992952Z",
     "iopub.status.busy": "2025-08-19T18:31:42.992441Z",
     "iopub.status.idle": "2025-08-19T18:31:43.048834Z",
     "shell.execute_reply": "2025-08-19T18:31:43.048136Z"
    },
    "papermill": {
     "duration": 0.069195,
     "end_time": "2025-08-19T18:31:43.050381",
     "exception": false,
     "start_time": "2025-08-19T18:31:42.981186",
     "status": "completed"
    },
    "tags": []
   },
   "outputs": [],
   "source": [
    "X_calib = siab_calib.iloc[:,4:164]\n",
    "y_calib = siab_calib.iloc[:, [3]]"
   ]
  },
  {
   "cell_type": "code",
   "execution_count": 19,
   "id": "b7ff42e0",
   "metadata": {
    "execution": {
     "iopub.execute_input": "2025-08-19T18:31:43.098677Z",
     "iopub.status.busy": "2025-08-19T18:31:43.097524Z",
     "iopub.status.idle": "2025-08-19T18:31:43.152260Z",
     "shell.execute_reply": "2025-08-19T18:31:43.151521Z"
    },
    "papermill": {
     "duration": 0.07381,
     "end_time": "2025-08-19T18:31:43.157269",
     "exception": false,
     "start_time": "2025-08-19T18:31:43.083459",
     "status": "completed"
    },
    "tags": []
   },
   "outputs": [],
   "source": [
    "X_test = siab_test.iloc[:,4:164]\n",
    "y_true = siab_test.iloc[:, [3]]"
   ]
  },
  {
   "cell_type": "code",
   "execution_count": 20,
   "id": "0275101e",
   "metadata": {
    "execution": {
     "iopub.execute_input": "2025-08-19T18:31:43.200197Z",
     "iopub.status.busy": "2025-08-19T18:31:43.198452Z",
     "iopub.status.idle": "2025-08-19T18:31:43.315236Z",
     "shell.execute_reply": "2025-08-19T18:31:43.314555Z"
    },
    "papermill": {
     "duration": 0.132936,
     "end_time": "2025-08-19T18:31:43.316789",
     "exception": false,
     "start_time": "2025-08-19T18:31:43.183853",
     "status": "completed"
    },
    "tags": []
   },
   "outputs": [],
   "source": [
    "# Auxiliary data needed downstream in the pipeline\n",
    "\n",
    "org_train = X_train.copy()\n",
    "org_test = X_test.copy()\n",
    "org_calib = X_calib.copy()"
   ]
  },
  {
   "cell_type": "markdown",
   "id": "b461e618",
   "metadata": {
    "papermill": {
     "duration": 0.017952,
     "end_time": "2025-08-19T18:31:43.347158",
     "exception": false,
     "start_time": "2025-08-19T18:31:43.329206",
     "status": "completed"
    },
    "tags": []
   },
   "source": [
    "# Preprocessing Data"
   ]
  },
  {
   "cell_type": "code",
   "execution_count": 21,
   "id": "78e74c4b",
   "metadata": {
    "execution": {
     "iopub.execute_input": "2025-08-19T18:31:43.370831Z",
     "iopub.status.busy": "2025-08-19T18:31:43.370349Z",
     "iopub.status.idle": "2025-08-19T18:31:43.375486Z",
     "shell.execute_reply": "2025-08-19T18:31:43.374857Z"
    },
    "papermill": {
     "duration": 0.01856,
     "end_time": "2025-08-19T18:31:43.377409",
     "exception": false,
     "start_time": "2025-08-19T18:31:43.358849",
     "status": "completed"
    },
    "tags": []
   },
   "outputs": [],
   "source": [
    "# EXCLUDE PROTECTED FEATURES\n",
    "# --------------------------\n",
    "\n",
    "excluded_features = universe[\"exclude_features\"].split(\"-\")\n",
    "excluded_features_dictionary = {\n",
    "    \"nationality\": [\"maxdeutsch1\", \"maxdeutsch.Missing.\"],\n",
    "    \"sex\": [\"frau1\"],\n",
    "    \"age\": [\"age\"],\n",
    "}"
   ]
  },
  {
   "cell_type": "code",
   "execution_count": 22,
   "id": "f8e63555",
   "metadata": {
    "execution": {
     "iopub.execute_input": "2025-08-19T18:31:43.399987Z",
     "iopub.status.busy": "2025-08-19T18:31:43.399599Z",
     "iopub.status.idle": "2025-08-19T18:31:43.404328Z",
     "shell.execute_reply": "2025-08-19T18:31:43.403566Z"
    },
    "papermill": {
     "duration": 0.01735,
     "end_time": "2025-08-19T18:31:43.405929",
     "exception": false,
     "start_time": "2025-08-19T18:31:43.388579",
     "status": "completed"
    },
    "tags": []
   },
   "outputs": [],
   "source": [
    "excluded_features_columns = [\n",
    "    excluded_features_dictionary[f] for f in excluded_features if len(f) > 0 and f != \"none\"\n",
    "]"
   ]
  },
  {
   "cell_type": "code",
   "execution_count": 23,
   "id": "da781f7c",
   "metadata": {
    "execution": {
     "iopub.execute_input": "2025-08-19T18:31:43.428628Z",
     "iopub.status.busy": "2025-08-19T18:31:43.428201Z",
     "iopub.status.idle": "2025-08-19T18:31:43.432582Z",
     "shell.execute_reply": "2025-08-19T18:31:43.431966Z"
    },
    "papermill": {
     "duration": 0.017281,
     "end_time": "2025-08-19T18:31:43.434331",
     "exception": false,
     "start_time": "2025-08-19T18:31:43.417050",
     "status": "completed"
    },
    "tags": []
   },
   "outputs": [],
   "source": [
    "from fairness_multiverse.universe import flatten_once\n",
    "\n",
    "excluded_features_columns = flatten_once(excluded_features_columns)"
   ]
  },
  {
   "cell_type": "code",
   "execution_count": 24,
   "id": "37fef0f0",
   "metadata": {
    "execution": {
     "iopub.execute_input": "2025-08-19T18:31:43.456834Z",
     "iopub.status.busy": "2025-08-19T18:31:43.456441Z",
     "iopub.status.idle": "2025-08-19T18:31:43.460949Z",
     "shell.execute_reply": "2025-08-19T18:31:43.460339Z"
    },
    "papermill": {
     "duration": 0.017252,
     "end_time": "2025-08-19T18:31:43.462648",
     "exception": false,
     "start_time": "2025-08-19T18:31:43.445396",
     "status": "completed"
    },
    "tags": []
   },
   "outputs": [],
   "source": [
    "if len(excluded_features_columns) > 0:\n",
    "    print(f\"Dropping features: {excluded_features_columns}\")\n",
    "    X_train.drop(excluded_features_columns, axis=1, inplace=True)"
   ]
  },
  {
   "cell_type": "code",
   "execution_count": 25,
   "id": "d029e3e9",
   "metadata": {
    "execution": {
     "iopub.execute_input": "2025-08-19T18:31:43.485148Z",
     "iopub.status.busy": "2025-08-19T18:31:43.484747Z",
     "iopub.status.idle": "2025-08-19T18:31:43.489304Z",
     "shell.execute_reply": "2025-08-19T18:31:43.488707Z"
    },
    "papermill": {
     "duration": 0.017486,
     "end_time": "2025-08-19T18:31:43.491068",
     "exception": false,
     "start_time": "2025-08-19T18:31:43.473582",
     "status": "completed"
    },
    "tags": []
   },
   "outputs": [],
   "source": [
    "if len(excluded_features_columns) > 0:\n",
    "    print(f\"Dropping features: {excluded_features_columns}\")\n",
    "    X_test.drop(excluded_features_columns, axis=1, inplace=True)"
   ]
  },
  {
   "cell_type": "code",
   "execution_count": 26,
   "id": "01d571f0",
   "metadata": {
    "execution": {
     "iopub.execute_input": "2025-08-19T18:31:43.513878Z",
     "iopub.status.busy": "2025-08-19T18:31:43.513488Z",
     "iopub.status.idle": "2025-08-19T18:31:43.518077Z",
     "shell.execute_reply": "2025-08-19T18:31:43.517470Z"
    },
    "papermill": {
     "duration": 0.018156,
     "end_time": "2025-08-19T18:31:43.519960",
     "exception": false,
     "start_time": "2025-08-19T18:31:43.501804",
     "status": "completed"
    },
    "tags": []
   },
   "outputs": [],
   "source": [
    "if len(excluded_features_columns) > 0:\n",
    "    print(f\"Dropping features: {excluded_features_columns}\")\n",
    "    X_calib.drop(excluded_features_columns, axis=1, inplace=True)"
   ]
  },
  {
   "cell_type": "code",
   "execution_count": 27,
   "id": "3037356e",
   "metadata": {
    "execution": {
     "iopub.execute_input": "2025-08-19T18:31:43.543309Z",
     "iopub.status.busy": "2025-08-19T18:31:43.542866Z",
     "iopub.status.idle": "2025-08-19T18:31:43.547509Z",
     "shell.execute_reply": "2025-08-19T18:31:43.546728Z"
    },
    "papermill": {
     "duration": 0.017574,
     "end_time": "2025-08-19T18:31:43.549115",
     "exception": false,
     "start_time": "2025-08-19T18:31:43.531541",
     "status": "completed"
    },
    "tags": []
   },
   "outputs": [],
   "source": [
    "# EXCLUDE CERTAIN SUBGROUPS\n",
    "# -------------------------\n",
    "\n",
    "mode = universe.get(\"exclude_subgroups\", \"keep-all\") # Defaults to \"keep-all\" if the key is missing."
   ]
  },
  {
   "cell_type": "code",
   "execution_count": 28,
   "id": "9d1e63fd",
   "metadata": {
    "execution": {
     "iopub.execute_input": "2025-08-19T18:31:43.571750Z",
     "iopub.status.busy": "2025-08-19T18:31:43.571341Z",
     "iopub.status.idle": "2025-08-19T18:31:43.576892Z",
     "shell.execute_reply": "2025-08-19T18:31:43.576283Z"
    },
    "papermill": {
     "duration": 0.018375,
     "end_time": "2025-08-19T18:31:43.578603",
     "exception": false,
     "start_time": "2025-08-19T18:31:43.560228",
     "status": "completed"
    },
    "tags": []
   },
   "outputs": [],
   "source": [
    "if mode == \"keep-all\":\n",
    "    keep_mask = pd.Series(True, index=org_train.index)\n",
    "\n",
    "elif mode == \"drop-non-german\":\n",
    "    keep_mask = (org_train[\"maxdeutsch1\"] == 1) & (org_train[\"maxdeutsch.Missing.\"] == 0)\n",
    "\n",
    "else:\n",
    "    raise ValueError(f\"Unsupported mode for exclude_subgroups: {mode}\")"
   ]
  },
  {
   "cell_type": "code",
   "execution_count": 29,
   "id": "d3b65474",
   "metadata": {
    "execution": {
     "iopub.execute_input": "2025-08-19T18:31:43.602664Z",
     "iopub.status.busy": "2025-08-19T18:31:43.602229Z",
     "iopub.status.idle": "2025-08-19T18:31:43.607708Z",
     "shell.execute_reply": "2025-08-19T18:31:43.607101Z"
    },
    "papermill": {
     "duration": 0.019354,
     "end_time": "2025-08-19T18:31:43.609476",
     "exception": false,
     "start_time": "2025-08-19T18:31:43.590122",
     "status": "completed"
    },
    "tags": []
   },
   "outputs": [],
   "source": [
    "n_drop = (~keep_mask).sum() # Calculates how many rows are set to be dropped\n",
    "if n_drop > 0:\n",
    "    pct = n_drop / len(keep_mask) * 100\n",
    "    print(f\"Dropping {n_drop} rows ({pct:.2f}%) where mode='{mode}'\")"
   ]
  },
  {
   "cell_type": "code",
   "execution_count": 30,
   "id": "f44389b3",
   "metadata": {
    "execution": {
     "iopub.execute_input": "2025-08-19T18:31:43.633394Z",
     "iopub.status.busy": "2025-08-19T18:31:43.632951Z",
     "iopub.status.idle": "2025-08-19T18:31:43.639831Z",
     "shell.execute_reply": "2025-08-19T18:31:43.639226Z"
    },
    "papermill": {
     "duration": 0.02042,
     "end_time": "2025-08-19T18:31:43.641524",
     "exception": false,
     "start_time": "2025-08-19T18:31:43.621104",
     "status": "completed"
    },
    "tags": []
   },
   "outputs": [],
   "source": [
    "X_train = X_train[keep_mask]"
   ]
  },
  {
   "cell_type": "code",
   "execution_count": 31,
   "id": "ceca8c2a",
   "metadata": {
    "execution": {
     "iopub.execute_input": "2025-08-19T18:31:43.666721Z",
     "iopub.status.busy": "2025-08-19T18:31:43.666306Z",
     "iopub.status.idle": "2025-08-19T18:31:43.670959Z",
     "shell.execute_reply": "2025-08-19T18:31:43.670334Z"
    },
    "papermill": {
     "duration": 0.019236,
     "end_time": "2025-08-19T18:31:43.672546",
     "exception": false,
     "start_time": "2025-08-19T18:31:43.653310",
     "status": "completed"
    },
    "tags": []
   },
   "outputs": [],
   "source": [
    "y_train = y_train[keep_mask]"
   ]
  },
  {
   "cell_type": "markdown",
   "id": "04d31e2f",
   "metadata": {
    "papermill": {
     "duration": 0.010891,
     "end_time": "2025-08-19T18:31:43.695066",
     "exception": false,
     "start_time": "2025-08-19T18:31:43.684175",
     "status": "completed"
    },
    "tags": []
   },
   "source": [
    "# Model Training"
   ]
  },
  {
   "cell_type": "code",
   "execution_count": 32,
   "id": "db991733",
   "metadata": {
    "execution": {
     "iopub.execute_input": "2025-08-19T18:31:43.718862Z",
     "iopub.status.busy": "2025-08-19T18:31:43.718406Z",
     "iopub.status.idle": "2025-08-19T18:31:43.811735Z",
     "shell.execute_reply": "2025-08-19T18:31:43.811082Z"
    },
    "papermill": {
     "duration": 0.106985,
     "end_time": "2025-08-19T18:31:43.813482",
     "exception": false,
     "start_time": "2025-08-19T18:31:43.706497",
     "status": "completed"
    },
    "tags": []
   },
   "outputs": [],
   "source": [
    "from sklearn.linear_model import LogisticRegression\n",
    "from sklearn.ensemble import GradientBoostingClassifier, RandomForestClassifier\n",
    "\n",
    "if (universe[\"model\"] == \"logreg\"):\n",
    "    model = LogisticRegression() #penalty=\"none\", solver=\"newton-cg\", max_iter=1)\n",
    "elif (universe[\"model\"] == \"penalized_logreg\"):\n",
    "    model = LogisticRegression(penalty=\"l2\", C=0.1) #, solver=\"newton-cg\", max_iter=1)\n",
    "elif (universe[\"model\"] == \"rf\"):\n",
    "    model = RandomForestClassifier() # n_estimators=100, n_jobs=-1\n",
    "elif (universe[\"model\"] == \"gbm\"):\n",
    "    model = GradientBoostingClassifier()\n",
    "elif (universe[\"model\"] == \"elasticnet\"):\n",
    "    model = LogisticRegression(penalty = 'elasticnet', solver = 'saga', l1_ratio = 0.5) # max_iter=5000\n",
    "else:\n",
    "    raise \"Unsupported universe.model\""
   ]
  },
  {
   "cell_type": "code",
   "execution_count": 33,
   "id": "a4b5cd25",
   "metadata": {
    "execution": {
     "iopub.execute_input": "2025-08-19T18:31:43.837070Z",
     "iopub.status.busy": "2025-08-19T18:31:43.836718Z",
     "iopub.status.idle": "2025-08-19T18:31:43.842007Z",
     "shell.execute_reply": "2025-08-19T18:31:43.841339Z"
    },
    "papermill": {
     "duration": 0.018894,
     "end_time": "2025-08-19T18:31:43.843746",
     "exception": false,
     "start_time": "2025-08-19T18:31:43.824852",
     "status": "completed"
    },
    "tags": []
   },
   "outputs": [],
   "source": [
    "from sklearn.pipeline import Pipeline\n",
    "from sklearn.preprocessing import StandardScaler\n",
    "\n",
    "model = Pipeline([\n",
    "    #(\"continuous_processor\", continuous_processor),\n",
    "    #(\"categorical_preprocessor\", categorical_preprocessor),\n",
    "    (\"scale\", StandardScaler() if universe[\"scale\"] == \"scale\" else None), \n",
    "    (\"model\", model),\n",
    "])"
   ]
  },
  {
   "cell_type": "code",
   "execution_count": 34,
   "id": "283a904d",
   "metadata": {
    "execution": {
     "iopub.execute_input": "2025-08-19T18:31:43.880224Z",
     "iopub.status.busy": "2025-08-19T18:31:43.879753Z",
     "iopub.status.idle": "2025-08-19T18:31:44.011367Z",
     "shell.execute_reply": "2025-08-19T18:31:44.010679Z"
    },
    "papermill": {
     "duration": 0.149354,
     "end_time": "2025-08-19T18:31:44.013233",
     "exception": false,
     "start_time": "2025-08-19T18:31:43.863879",
     "status": "completed"
    },
    "tags": []
   },
   "outputs": [
    {
     "data": {
      "text/html": [
       "<style>#sk-container-id-1 {color: black;background-color: white;}#sk-container-id-1 pre{padding: 0;}#sk-container-id-1 div.sk-toggleable {background-color: white;}#sk-container-id-1 label.sk-toggleable__label {cursor: pointer;display: block;width: 100%;margin-bottom: 0;padding: 0.3em;box-sizing: border-box;text-align: center;}#sk-container-id-1 label.sk-toggleable__label-arrow:before {content: \"▸\";float: left;margin-right: 0.25em;color: #696969;}#sk-container-id-1 label.sk-toggleable__label-arrow:hover:before {color: black;}#sk-container-id-1 div.sk-estimator:hover label.sk-toggleable__label-arrow:before {color: black;}#sk-container-id-1 div.sk-toggleable__content {max-height: 0;max-width: 0;overflow: hidden;text-align: left;background-color: #f0f8ff;}#sk-container-id-1 div.sk-toggleable__content pre {margin: 0.2em;color: black;border-radius: 0.25em;background-color: #f0f8ff;}#sk-container-id-1 input.sk-toggleable__control:checked~div.sk-toggleable__content {max-height: 200px;max-width: 100%;overflow: auto;}#sk-container-id-1 input.sk-toggleable__control:checked~label.sk-toggleable__label-arrow:before {content: \"▾\";}#sk-container-id-1 div.sk-estimator input.sk-toggleable__control:checked~label.sk-toggleable__label {background-color: #d4ebff;}#sk-container-id-1 div.sk-label input.sk-toggleable__control:checked~label.sk-toggleable__label {background-color: #d4ebff;}#sk-container-id-1 input.sk-hidden--visually {border: 0;clip: rect(1px 1px 1px 1px);clip: rect(1px, 1px, 1px, 1px);height: 1px;margin: -1px;overflow: hidden;padding: 0;position: absolute;width: 1px;}#sk-container-id-1 div.sk-estimator {font-family: monospace;background-color: #f0f8ff;border: 1px dotted black;border-radius: 0.25em;box-sizing: border-box;margin-bottom: 0.5em;}#sk-container-id-1 div.sk-estimator:hover {background-color: #d4ebff;}#sk-container-id-1 div.sk-parallel-item::after {content: \"\";width: 100%;border-bottom: 1px solid gray;flex-grow: 1;}#sk-container-id-1 div.sk-label:hover label.sk-toggleable__label {background-color: #d4ebff;}#sk-container-id-1 div.sk-serial::before {content: \"\";position: absolute;border-left: 1px solid gray;box-sizing: border-box;top: 0;bottom: 0;left: 50%;z-index: 0;}#sk-container-id-1 div.sk-serial {display: flex;flex-direction: column;align-items: center;background-color: white;padding-right: 0.2em;padding-left: 0.2em;position: relative;}#sk-container-id-1 div.sk-item {position: relative;z-index: 1;}#sk-container-id-1 div.sk-parallel {display: flex;align-items: stretch;justify-content: center;background-color: white;position: relative;}#sk-container-id-1 div.sk-item::before, #sk-container-id-1 div.sk-parallel-item::before {content: \"\";position: absolute;border-left: 1px solid gray;box-sizing: border-box;top: 0;bottom: 0;left: 50%;z-index: -1;}#sk-container-id-1 div.sk-parallel-item {display: flex;flex-direction: column;z-index: 1;position: relative;background-color: white;}#sk-container-id-1 div.sk-parallel-item:first-child::after {align-self: flex-end;width: 50%;}#sk-container-id-1 div.sk-parallel-item:last-child::after {align-self: flex-start;width: 50%;}#sk-container-id-1 div.sk-parallel-item:only-child::after {width: 0;}#sk-container-id-1 div.sk-dashed-wrapped {border: 1px dashed gray;margin: 0 0.4em 0.5em 0.4em;box-sizing: border-box;padding-bottom: 0.4em;background-color: white;}#sk-container-id-1 div.sk-label label {font-family: monospace;font-weight: bold;display: inline-block;line-height: 1.2em;}#sk-container-id-1 div.sk-label-container {text-align: center;}#sk-container-id-1 div.sk-container {/* jupyter's `normalize.less` sets `[hidden] { display: none; }` but bootstrap.min.css set `[hidden] { display: none !important; }` so we also need the `!important` here to be able to override the default hidden behavior on the sphinx rendered scikit-learn.org. See: https://github.com/scikit-learn/scikit-learn/issues/21755 */display: inline-block !important;position: relative;}#sk-container-id-1 div.sk-text-repr-fallback {display: none;}</style><div id=\"sk-container-id-1\" class=\"sk-top-container\"><div class=\"sk-text-repr-fallback\"><pre>Pipeline(steps=[(&#x27;scale&#x27;, StandardScaler()),\n",
       "                (&#x27;model&#x27;, LogisticRegression(C=0.1))])</pre><b>In a Jupyter environment, please rerun this cell to show the HTML representation or trust the notebook. <br />On GitHub, the HTML representation is unable to render, please try loading this page with nbviewer.org.</b></div><div class=\"sk-container\" hidden><div class=\"sk-item sk-dashed-wrapped\"><div class=\"sk-label-container\"><div class=\"sk-label sk-toggleable\"><input class=\"sk-toggleable__control sk-hidden--visually\" id=\"sk-estimator-id-1\" type=\"checkbox\" ><label for=\"sk-estimator-id-1\" class=\"sk-toggleable__label sk-toggleable__label-arrow\">Pipeline</label><div class=\"sk-toggleable__content\"><pre>Pipeline(steps=[(&#x27;scale&#x27;, StandardScaler()),\n",
       "                (&#x27;model&#x27;, LogisticRegression(C=0.1))])</pre></div></div></div><div class=\"sk-serial\"><div class=\"sk-item\"><div class=\"sk-estimator sk-toggleable\"><input class=\"sk-toggleable__control sk-hidden--visually\" id=\"sk-estimator-id-2\" type=\"checkbox\" ><label for=\"sk-estimator-id-2\" class=\"sk-toggleable__label sk-toggleable__label-arrow\">StandardScaler</label><div class=\"sk-toggleable__content\"><pre>StandardScaler()</pre></div></div></div><div class=\"sk-item\"><div class=\"sk-estimator sk-toggleable\"><input class=\"sk-toggleable__control sk-hidden--visually\" id=\"sk-estimator-id-3\" type=\"checkbox\" ><label for=\"sk-estimator-id-3\" class=\"sk-toggleable__label sk-toggleable__label-arrow\">LogisticRegression</label><div class=\"sk-toggleable__content\"><pre>LogisticRegression(C=0.1)</pre></div></div></div></div></div></div></div>"
      ],
      "text/plain": [
       "Pipeline(steps=[('scale', StandardScaler()),\n",
       "                ('model', LogisticRegression(C=0.1))])"
      ]
     },
     "execution_count": 34,
     "metadata": {},
     "output_type": "execute_result"
    }
   ],
   "source": [
    "model.fit(X_train, y_train.values.ravel())"
   ]
  },
  {
   "cell_type": "code",
   "execution_count": 35,
   "id": "6e15e313",
   "metadata": {
    "execution": {
     "iopub.execute_input": "2025-08-19T18:31:44.037094Z",
     "iopub.status.busy": "2025-08-19T18:31:44.036558Z",
     "iopub.status.idle": "2025-08-19T18:31:44.233342Z",
     "shell.execute_reply": "2025-08-19T18:31:44.232719Z"
    },
    "papermill": {
     "duration": 0.209684,
     "end_time": "2025-08-19T18:31:44.234561",
     "exception": false,
     "start_time": "2025-08-19T18:31:44.024877",
     "status": "completed"
    },
    "tags": []
   },
   "outputs": [
    {
     "data": {
      "text/plain": [
       "0.8574072009809386"
      ]
     },
     "execution_count": 35,
     "metadata": {},
     "output_type": "execute_result"
    }
   ],
   "source": [
    "from fairness_multiverse.universe import predict_w_threshold\n",
    "\n",
    "probs_test = model.predict_proba(X_test)\n",
    "\n",
    "'''\n",
    "Below code returns a boolean array (or binary 0/1 array depending on how it’s used) where each element \n",
    "is True if the probability of class 1 is greater than or equal to the threshold, and False otherwise.\n",
    "'''\n",
    "y_pred_default = predict_w_threshold(probs_test, 0.5)\n",
    "\n",
    "from sklearn.metrics import accuracy_score\n",
    "\n",
    "# Naive prediction\n",
    "accuracy_score(y_true = y_true, y_pred = y_pred_default)"
   ]
  },
  {
   "cell_type": "code",
   "execution_count": 36,
   "id": "6f14067c",
   "metadata": {
    "execution": {
     "iopub.execute_input": "2025-08-19T18:31:44.281669Z",
     "iopub.status.busy": "2025-08-19T18:31:44.274739Z",
     "iopub.status.idle": "2025-08-19T18:31:44.469443Z",
     "shell.execute_reply": "2025-08-19T18:31:44.468740Z"
    },
    "papermill": {
     "duration": 0.210538,
     "end_time": "2025-08-19T18:31:44.471793",
     "exception": false,
     "start_time": "2025-08-19T18:31:44.261255",
     "status": "completed"
    },
    "tags": []
   },
   "outputs": [
    {
     "data": {
      "text/plain": [
       "array([0, 0, 0, ..., 0, 0, 0])"
      ]
     },
     "execution_count": 36,
     "metadata": {},
     "output_type": "execute_result"
    }
   ],
   "source": [
    "model.predict(X_test)"
   ]
  },
  {
   "cell_type": "markdown",
   "id": "3759920c",
   "metadata": {
    "papermill": {
     "duration": 0.012765,
     "end_time": "2025-08-19T18:31:44.509645",
     "exception": false,
     "start_time": "2025-08-19T18:31:44.496880",
     "status": "completed"
    },
    "tags": []
   },
   "source": [
    "# Conformal Prediction"
   ]
  },
  {
   "cell_type": "code",
   "execution_count": 37,
   "id": "14b27f59",
   "metadata": {
    "execution": {
     "iopub.execute_input": "2025-08-19T18:31:44.534671Z",
     "iopub.status.busy": "2025-08-19T18:31:44.533518Z",
     "iopub.status.idle": "2025-08-19T18:31:44.543465Z",
     "shell.execute_reply": "2025-08-19T18:31:44.541780Z"
    },
    "papermill": {
     "duration": 0.024383,
     "end_time": "2025-08-19T18:31:44.545200",
     "exception": false,
     "start_time": "2025-08-19T18:31:44.520817",
     "status": "completed"
    },
    "tags": []
   },
   "outputs": [],
   "source": [
    "# Miscoverage level for conformal prediction (10% allowed error rate => 90% target coverage)\n",
    "alpha = 0.1"
   ]
  },
  {
   "cell_type": "code",
   "execution_count": 38,
   "id": "59102472",
   "metadata": {
    "execution": {
     "iopub.execute_input": "2025-08-19T18:31:44.572922Z",
     "iopub.status.busy": "2025-08-19T18:31:44.571796Z",
     "iopub.status.idle": "2025-08-19T18:31:44.757000Z",
     "shell.execute_reply": "2025-08-19T18:31:44.756303Z"
    },
    "papermill": {
     "duration": 0.199671,
     "end_time": "2025-08-19T18:31:44.758614",
     "exception": false,
     "start_time": "2025-08-19T18:31:44.558943",
     "status": "completed"
    },
    "tags": []
   },
   "outputs": [],
   "source": [
    "probs_calib = model.predict_proba(X_calib)"
   ]
  },
  {
   "cell_type": "code",
   "execution_count": 39,
   "id": "a792d4dd",
   "metadata": {
    "execution": {
     "iopub.execute_input": "2025-08-19T18:31:44.784213Z",
     "iopub.status.busy": "2025-08-19T18:31:44.782958Z",
     "iopub.status.idle": "2025-08-19T18:31:44.792431Z",
     "shell.execute_reply": "2025-08-19T18:31:44.790877Z"
    },
    "papermill": {
     "duration": 0.022978,
     "end_time": "2025-08-19T18:31:44.793821",
     "exception": false,
     "start_time": "2025-08-19T18:31:44.770843",
     "status": "completed"
    },
    "tags": []
   },
   "outputs": [],
   "source": [
    "y_calib = y_calib.values.ravel().astype(int)"
   ]
  },
  {
   "cell_type": "code",
   "execution_count": 40,
   "id": "650fd033",
   "metadata": {
    "execution": {
     "iopub.execute_input": "2025-08-19T18:31:44.821027Z",
     "iopub.status.busy": "2025-08-19T18:31:44.819871Z",
     "iopub.status.idle": "2025-08-19T18:31:44.833991Z",
     "shell.execute_reply": "2025-08-19T18:31:44.832246Z"
    },
    "papermill": {
     "duration": 0.028152,
     "end_time": "2025-08-19T18:31:44.835646",
     "exception": false,
     "start_time": "2025-08-19T18:31:44.807494",
     "status": "completed"
    },
    "tags": []
   },
   "outputs": [],
   "source": [
    "from fairness_multiverse.conformal import compute_nc_scores\n",
    "\n",
    "# Compute nonconformity scores on calibration set (1 - probability of true class)\n",
    "nc_scores = compute_nc_scores(probs_calib, y_calib)"
   ]
  },
  {
   "cell_type": "code",
   "execution_count": 41,
   "id": "28ada44c",
   "metadata": {
    "execution": {
     "iopub.execute_input": "2025-08-19T18:31:44.869711Z",
     "iopub.status.busy": "2025-08-19T18:31:44.868390Z",
     "iopub.status.idle": "2025-08-19T18:31:44.881651Z",
     "shell.execute_reply": "2025-08-19T18:31:44.880175Z"
    },
    "papermill": {
     "duration": 0.029339,
     "end_time": "2025-08-19T18:31:44.883226",
     "exception": false,
     "start_time": "2025-08-19T18:31:44.853887",
     "status": "completed"
    },
    "tags": []
   },
   "outputs": [],
   "source": [
    "from fairness_multiverse.conformal import find_threshold\n",
    "\n",
    "# Find conformal threshold q_hat for the given alpha (split conformal method)\n",
    "q_hat = find_threshold(nc_scores, alpha)"
   ]
  },
  {
   "cell_type": "code",
   "execution_count": 42,
   "id": "df56469e",
   "metadata": {
    "execution": {
     "iopub.execute_input": "2025-08-19T18:31:44.916119Z",
     "iopub.status.busy": "2025-08-19T18:31:44.914909Z",
     "iopub.status.idle": "2025-08-19T18:31:44.928507Z",
     "shell.execute_reply": "2025-08-19T18:31:44.926840Z"
    },
    "papermill": {
     "duration": 0.029103,
     "end_time": "2025-08-19T18:31:44.930040",
     "exception": false,
     "start_time": "2025-08-19T18:31:44.900937",
     "status": "completed"
    },
    "tags": []
   },
   "outputs": [
    {
     "data": {
      "text/plain": [
       "0.6841495637324887"
      ]
     },
     "execution_count": 42,
     "metadata": {},
     "output_type": "execute_result"
    }
   ],
   "source": [
    "q_hat"
   ]
  },
  {
   "cell_type": "code",
   "execution_count": 43,
   "id": "aa1f5faa",
   "metadata": {
    "execution": {
     "iopub.execute_input": "2025-08-19T18:31:44.972784Z",
     "iopub.status.busy": "2025-08-19T18:31:44.972033Z",
     "iopub.status.idle": "2025-08-19T18:31:45.569815Z",
     "shell.execute_reply": "2025-08-19T18:31:45.568644Z"
    },
    "papermill": {
     "duration": 0.627172,
     "end_time": "2025-08-19T18:31:45.571322",
     "exception": false,
     "start_time": "2025-08-19T18:31:44.944150",
     "status": "completed"
    },
    "tags": []
   },
   "outputs": [],
   "source": [
    "from fairness_multiverse.conformal import predict_conformal_sets\n",
    "\n",
    "# Generate prediction sets for each test example\n",
    "pred_sets = predict_conformal_sets(model, X_test, q_hat)"
   ]
  },
  {
   "cell_type": "code",
   "execution_count": 44,
   "id": "97f67a6b",
   "metadata": {
    "execution": {
     "iopub.execute_input": "2025-08-19T18:31:45.597682Z",
     "iopub.status.busy": "2025-08-19T18:31:45.596277Z",
     "iopub.status.idle": "2025-08-19T18:31:45.606042Z",
     "shell.execute_reply": "2025-08-19T18:31:45.604953Z"
    },
    "papermill": {
     "duration": 0.023975,
     "end_time": "2025-08-19T18:31:45.607504",
     "exception": false,
     "start_time": "2025-08-19T18:31:45.583529",
     "status": "completed"
    },
    "tags": []
   },
   "outputs": [],
   "source": [
    "y_true = y_true.squeeze()"
   ]
  },
  {
   "cell_type": "code",
   "execution_count": 45,
   "id": "e700e9a7",
   "metadata": {
    "execution": {
     "iopub.execute_input": "2025-08-19T18:31:45.635677Z",
     "iopub.status.busy": "2025-08-19T18:31:45.634545Z",
     "iopub.status.idle": "2025-08-19T18:31:46.149220Z",
     "shell.execute_reply": "2025-08-19T18:31:46.147982Z"
    },
    "papermill": {
     "duration": 0.530445,
     "end_time": "2025-08-19T18:31:46.152067",
     "exception": false,
     "start_time": "2025-08-19T18:31:45.621622",
     "status": "completed"
    },
    "tags": []
   },
   "outputs": [],
   "source": [
    "from fairness_multiverse.conformal import evaluate_sets\n",
    "\n",
    "# Evaluate coverage and average set size on test data\n",
    "metrics = evaluate_sets(pred_sets, y_true)"
   ]
  },
  {
   "cell_type": "markdown",
   "id": "efbacec0",
   "metadata": {
    "papermill": {
     "duration": 0.014323,
     "end_time": "2025-08-19T18:31:46.194425",
     "exception": false,
     "start_time": "2025-08-19T18:31:46.180102",
     "status": "completed"
    },
    "tags": []
   },
   "source": [
    "# CP Metrics"
   ]
  },
  {
   "cell_type": "code",
   "execution_count": 46,
   "id": "9de55fb1",
   "metadata": {
    "execution": {
     "iopub.execute_input": "2025-08-19T18:31:46.221212Z",
     "iopub.status.busy": "2025-08-19T18:31:46.219723Z",
     "iopub.status.idle": "2025-08-19T18:31:46.235330Z",
     "shell.execute_reply": "2025-08-19T18:31:46.234213Z"
    },
    "papermill": {
     "duration": 0.030898,
     "end_time": "2025-08-19T18:31:46.236784",
     "exception": false,
     "start_time": "2025-08-19T18:31:46.205886",
     "status": "completed"
    },
    "tags": []
   },
   "outputs": [
    {
     "data": {
      "text/plain": [
       "{'coverage': 0.910723442202653, 'avg_size': 1.1363839036896668}"
      ]
     },
     "execution_count": 46,
     "metadata": {},
     "output_type": "execute_result"
    }
   ],
   "source": [
    "metrics"
   ]
  },
  {
   "cell_type": "code",
   "execution_count": 47,
   "id": "64c340a1",
   "metadata": {
    "execution": {
     "iopub.execute_input": "2025-08-19T18:31:46.267383Z",
     "iopub.status.busy": "2025-08-19T18:31:46.266163Z",
     "iopub.status.idle": "2025-08-19T18:31:46.278538Z",
     "shell.execute_reply": "2025-08-19T18:31:46.276860Z"
    },
    "papermill": {
     "duration": 0.02729,
     "end_time": "2025-08-19T18:31:46.280177",
     "exception": false,
     "start_time": "2025-08-19T18:31:46.252887",
     "status": "completed"
    },
    "tags": []
   },
   "outputs": [],
   "source": [
    "example_universe = universe.copy()\n",
    "universe_training_year = example_universe.get(\"training_year\")\n",
    "universe_training_size = example_universe.get(\"training_size\")\n",
    "universe_scale = example_universe.get(\"scale\")\n",
    "universe_model = example_universe.get(\"model\")\n",
    "universe_exclude_features = example_universe.get(\"exclude_features\")\n",
    "universe_exclude_subgroups = example_universe.get(\"exclude_subgroups\")"
   ]
  },
  {
   "cell_type": "code",
   "execution_count": 48,
   "id": "dbb53cb4",
   "metadata": {
    "execution": {
     "iopub.execute_input": "2025-08-19T18:31:46.313260Z",
     "iopub.status.busy": "2025-08-19T18:31:46.312061Z",
     "iopub.status.idle": "2025-08-19T18:31:46.323689Z",
     "shell.execute_reply": "2025-08-19T18:31:46.322447Z"
    },
    "papermill": {
     "duration": 0.026965,
     "end_time": "2025-08-19T18:31:46.325212",
     "exception": false,
     "start_time": "2025-08-19T18:31:46.298247",
     "status": "completed"
    },
    "tags": []
   },
   "outputs": [],
   "source": [
    "cp_metrics_dict = {\n",
    "    \"universe_id\": [universe_id],\n",
    "    \"universe_training_year\": [universe_training_year],\n",
    "    \"universe_training_size\": [universe_training_size],\n",
    "    \"universe_scale\": [universe_scale],\n",
    "    \"universe_model\": [universe_model],\n",
    "    \"universe_exclude_features\": [universe_exclude_features],\n",
    "    \"universe_exclude_subgroups\": [universe_exclude_subgroups],\n",
    "    \"q_hat\": [q_hat],\n",
    "    \"coverage\": [metrics[\"coverage\"]],\n",
    "    \"avg_size\": [metrics[\"avg_size\"]],\n",
    "}"
   ]
  },
  {
   "cell_type": "code",
   "execution_count": 49,
   "id": "0d70d4b2",
   "metadata": {
    "execution": {
     "iopub.execute_input": "2025-08-19T18:31:46.355048Z",
     "iopub.status.busy": "2025-08-19T18:31:46.353876Z",
     "iopub.status.idle": "2025-08-19T18:31:46.366937Z",
     "shell.execute_reply": "2025-08-19T18:31:46.365679Z"
    },
    "papermill": {
     "duration": 0.028079,
     "end_time": "2025-08-19T18:31:46.368529",
     "exception": false,
     "start_time": "2025-08-19T18:31:46.340450",
     "status": "completed"
    },
    "tags": []
   },
   "outputs": [],
   "source": [
    "cp_metrics_df = pd.DataFrame(cp_metrics_dict)"
   ]
  },
  {
   "cell_type": "code",
   "execution_count": 50,
   "id": "b494403c",
   "metadata": {
    "execution": {
     "iopub.execute_input": "2025-08-19T18:31:46.401726Z",
     "iopub.status.busy": "2025-08-19T18:31:46.400577Z",
     "iopub.status.idle": "2025-08-19T18:31:46.425771Z",
     "shell.execute_reply": "2025-08-19T18:31:46.425032Z"
    },
    "papermill": {
     "duration": 0.040883,
     "end_time": "2025-08-19T18:31:46.427296",
     "exception": false,
     "start_time": "2025-08-19T18:31:46.386413",
     "status": "completed"
    },
    "tags": []
   },
   "outputs": [
    {
     "data": {
      "text/html": [
       "<div>\n",
       "<style scoped>\n",
       "    .dataframe tbody tr th:only-of-type {\n",
       "        vertical-align: middle;\n",
       "    }\n",
       "\n",
       "    .dataframe tbody tr th {\n",
       "        vertical-align: top;\n",
       "    }\n",
       "\n",
       "    .dataframe thead th {\n",
       "        text-align: right;\n",
       "    }\n",
       "</style>\n",
       "<table border=\"1\" class=\"dataframe\">\n",
       "  <thead>\n",
       "    <tr style=\"text-align: right;\">\n",
       "      <th></th>\n",
       "      <th>universe_id</th>\n",
       "      <th>universe_training_year</th>\n",
       "      <th>universe_training_size</th>\n",
       "      <th>universe_scale</th>\n",
       "      <th>universe_model</th>\n",
       "      <th>universe_exclude_features</th>\n",
       "      <th>universe_exclude_subgroups</th>\n",
       "      <th>q_hat</th>\n",
       "      <th>coverage</th>\n",
       "      <th>avg_size</th>\n",
       "    </tr>\n",
       "  </thead>\n",
       "  <tbody>\n",
       "    <tr>\n",
       "      <th>0</th>\n",
       "      <td>7ecfa42c74a67ee9c547f3cf9232863b</td>\n",
       "      <td>2012_14</td>\n",
       "      <td>5k</td>\n",
       "      <td>scale</td>\n",
       "      <td>penalized_logreg</td>\n",
       "      <td>none</td>\n",
       "      <td>keep-all</td>\n",
       "      <td>0.68415</td>\n",
       "      <td>0.910723</td>\n",
       "      <td>1.136384</td>\n",
       "    </tr>\n",
       "  </tbody>\n",
       "</table>\n",
       "</div>"
      ],
      "text/plain": [
       "                        universe_id universe_training_year  \\\n",
       "0  7ecfa42c74a67ee9c547f3cf9232863b                2012_14   \n",
       "\n",
       "  universe_training_size universe_scale    universe_model  \\\n",
       "0                     5k          scale  penalized_logreg   \n",
       "\n",
       "  universe_exclude_features universe_exclude_subgroups    q_hat  coverage  \\\n",
       "0                      none                   keep-all  0.68415  0.910723   \n",
       "\n",
       "   avg_size  \n",
       "0  1.136384  "
      ]
     },
     "execution_count": 50,
     "metadata": {},
     "output_type": "execute_result"
    }
   ],
   "source": [
    "cp_metrics_df"
   ]
  },
  {
   "cell_type": "markdown",
   "id": "ed608b0b",
   "metadata": {
    "papermill": {
     "duration": 0.011716,
     "end_time": "2025-08-19T18:31:46.456979",
     "exception": false,
     "start_time": "2025-08-19T18:31:46.445263",
     "status": "completed"
    },
    "tags": []
   },
   "source": [
    "Conditional coverage & looking at subgroups"
   ]
  },
  {
   "cell_type": "code",
   "execution_count": 51,
   "id": "8968c366",
   "metadata": {
    "execution": {
     "iopub.execute_input": "2025-08-19T18:31:46.482509Z",
     "iopub.status.busy": "2025-08-19T18:31:46.481350Z",
     "iopub.status.idle": "2025-08-19T18:31:46.756075Z",
     "shell.execute_reply": "2025-08-19T18:31:46.755054Z"
    },
    "papermill": {
     "duration": 0.290398,
     "end_time": "2025-08-19T18:31:46.758786",
     "exception": false,
     "start_time": "2025-08-19T18:31:46.468388",
     "status": "completed"
    },
    "tags": []
   },
   "outputs": [],
   "source": [
    "from fairness_multiverse.conformal import build_cp_groups\n",
    "\n",
    "cp_groups_df = build_cp_groups(pred_sets, y_true, X_test.index, org_test)"
   ]
  },
  {
   "cell_type": "code",
   "execution_count": 52,
   "id": "292ddabf",
   "metadata": {
    "execution": {
     "iopub.execute_input": "2025-08-19T18:31:46.800515Z",
     "iopub.status.busy": "2025-08-19T18:31:46.798706Z",
     "iopub.status.idle": "2025-08-19T18:31:47.676307Z",
     "shell.execute_reply": "2025-08-19T18:31:47.675121Z"
    },
    "papermill": {
     "duration": 0.893999,
     "end_time": "2025-08-19T18:31:47.677871",
     "exception": false,
     "start_time": "2025-08-19T18:31:46.783872",
     "status": "completed"
    },
    "tags": []
   },
   "outputs": [],
   "source": [
    "# Define covered = 1 if true_label is in the predicted set\n",
    "cp_groups_df['covered'] = cp_groups_df.apply(\n",
    "    lambda r: int(r['true_label'] in r['pred_set']),\n",
    "    axis=1\n",
    ")"
   ]
  },
  {
   "cell_type": "code",
   "execution_count": 53,
   "id": "3a261692",
   "metadata": {
    "execution": {
     "iopub.execute_input": "2025-08-19T18:31:47.725566Z",
     "iopub.status.busy": "2025-08-19T18:31:47.724099Z",
     "iopub.status.idle": "2025-08-19T18:31:47.750445Z",
     "shell.execute_reply": "2025-08-19T18:31:47.749613Z"
    },
    "papermill": {
     "duration": 0.043757,
     "end_time": "2025-08-19T18:31:47.752529",
     "exception": false,
     "start_time": "2025-08-19T18:31:47.708772",
     "status": "completed"
    },
    "tags": []
   },
   "outputs": [],
   "source": [
    "subgroups = ['frau1','nongerman','nongerman_male','nongerman_female']\n",
    "\n",
    "# Conditional coverage for subgroup==1\n",
    "cond_coverage = {\n",
    "    g: cp_groups_df.loc[cp_groups_df[g]==1, 'covered'].mean()\n",
    "    for g in subgroups\n",
    "}"
   ]
  },
  {
   "cell_type": "code",
   "execution_count": 54,
   "id": "894fd600",
   "metadata": {
    "execution": {
     "iopub.execute_input": "2025-08-19T18:31:47.790405Z",
     "iopub.status.busy": "2025-08-19T18:31:47.789381Z",
     "iopub.status.idle": "2025-08-19T18:31:47.800291Z",
     "shell.execute_reply": "2025-08-19T18:31:47.799361Z"
    },
    "papermill": {
     "duration": 0.032112,
     "end_time": "2025-08-19T18:31:47.806615",
     "exception": false,
     "start_time": "2025-08-19T18:31:47.774503",
     "status": "completed"
    },
    "tags": []
   },
   "outputs": [
    {
     "data": {
      "text/plain": [
       "{'frau1': 0.9057824504650223,\n",
       " 'nongerman': 0.9126480660191995,\n",
       " 'nongerman_male': 0.929658650815095,\n",
       " 'nongerman_female': 0.8845007451564829}"
      ]
     },
     "execution_count": 54,
     "metadata": {},
     "output_type": "execute_result"
    }
   ],
   "source": [
    "cond_coverage"
   ]
  },
  {
   "cell_type": "code",
   "execution_count": 55,
   "id": "942895c7",
   "metadata": {
    "execution": {
     "iopub.execute_input": "2025-08-19T18:31:47.833622Z",
     "iopub.status.busy": "2025-08-19T18:31:47.833124Z",
     "iopub.status.idle": "2025-08-19T18:31:47.840230Z",
     "shell.execute_reply": "2025-08-19T18:31:47.839406Z"
    },
    "papermill": {
     "duration": 0.021224,
     "end_time": "2025-08-19T18:31:47.841228",
     "exception": false,
     "start_time": "2025-08-19T18:31:47.820004",
     "status": "completed"
    },
    "tags": []
   },
   "outputs": [],
   "source": [
    "for subgroup, cov in cond_coverage.items():\n",
    "    cp_metrics_df[f\"cov_{subgroup}\"] = cov"
   ]
  },
  {
   "cell_type": "code",
   "execution_count": 56,
   "id": "3970120f",
   "metadata": {
    "execution": {
     "iopub.execute_input": "2025-08-19T18:31:47.867352Z",
     "iopub.status.busy": "2025-08-19T18:31:47.866668Z",
     "iopub.status.idle": "2025-08-19T18:31:47.882437Z",
     "shell.execute_reply": "2025-08-19T18:31:47.881739Z"
    },
    "papermill": {
     "duration": 0.040704,
     "end_time": "2025-08-19T18:31:47.894482",
     "exception": false,
     "start_time": "2025-08-19T18:31:47.853778",
     "status": "completed"
    },
    "tags": []
   },
   "outputs": [
    {
     "data": {
      "text/html": [
       "<div>\n",
       "<style scoped>\n",
       "    .dataframe tbody tr th:only-of-type {\n",
       "        vertical-align: middle;\n",
       "    }\n",
       "\n",
       "    .dataframe tbody tr th {\n",
       "        vertical-align: top;\n",
       "    }\n",
       "\n",
       "    .dataframe thead th {\n",
       "        text-align: right;\n",
       "    }\n",
       "</style>\n",
       "<table border=\"1\" class=\"dataframe\">\n",
       "  <thead>\n",
       "    <tr style=\"text-align: right;\">\n",
       "      <th></th>\n",
       "      <th>universe_id</th>\n",
       "      <th>universe_training_year</th>\n",
       "      <th>universe_training_size</th>\n",
       "      <th>universe_scale</th>\n",
       "      <th>universe_model</th>\n",
       "      <th>universe_exclude_features</th>\n",
       "      <th>universe_exclude_subgroups</th>\n",
       "      <th>q_hat</th>\n",
       "      <th>coverage</th>\n",
       "      <th>avg_size</th>\n",
       "      <th>cov_frau1</th>\n",
       "      <th>cov_nongerman</th>\n",
       "      <th>cov_nongerman_male</th>\n",
       "      <th>cov_nongerman_female</th>\n",
       "    </tr>\n",
       "  </thead>\n",
       "  <tbody>\n",
       "    <tr>\n",
       "      <th>0</th>\n",
       "      <td>7ecfa42c74a67ee9c547f3cf9232863b</td>\n",
       "      <td>2012_14</td>\n",
       "      <td>5k</td>\n",
       "      <td>scale</td>\n",
       "      <td>penalized_logreg</td>\n",
       "      <td>none</td>\n",
       "      <td>keep-all</td>\n",
       "      <td>0.68415</td>\n",
       "      <td>0.910723</td>\n",
       "      <td>1.136384</td>\n",
       "      <td>0.905782</td>\n",
       "      <td>0.912648</td>\n",
       "      <td>0.929659</td>\n",
       "      <td>0.884501</td>\n",
       "    </tr>\n",
       "  </tbody>\n",
       "</table>\n",
       "</div>"
      ],
      "text/plain": [
       "                        universe_id universe_training_year  \\\n",
       "0  7ecfa42c74a67ee9c547f3cf9232863b                2012_14   \n",
       "\n",
       "  universe_training_size universe_scale    universe_model  \\\n",
       "0                     5k          scale  penalized_logreg   \n",
       "\n",
       "  universe_exclude_features universe_exclude_subgroups    q_hat  coverage  \\\n",
       "0                      none                   keep-all  0.68415  0.910723   \n",
       "\n",
       "   avg_size  cov_frau1  cov_nongerman  cov_nongerman_male  \\\n",
       "0  1.136384   0.905782       0.912648            0.929659   \n",
       "\n",
       "   cov_nongerman_female  \n",
       "0              0.884501  "
      ]
     },
     "execution_count": 56,
     "metadata": {},
     "output_type": "execute_result"
    }
   ],
   "source": [
    "cp_metrics_df"
   ]
  },
  {
   "cell_type": "markdown",
   "id": "3fc519cc",
   "metadata": {
    "papermill": {
     "duration": 0.012755,
     "end_time": "2025-08-19T18:31:47.920439",
     "exception": false,
     "start_time": "2025-08-19T18:31:47.907684",
     "status": "completed"
    },
    "tags": []
   },
   "source": [
    "# (Fairness) Metrics"
   ]
  },
  {
   "cell_type": "code",
   "execution_count": 57,
   "id": "a2e5e155",
   "metadata": {
    "execution": {
     "iopub.execute_input": "2025-08-19T18:31:47.948093Z",
     "iopub.status.busy": "2025-08-19T18:31:47.947601Z",
     "iopub.status.idle": "2025-08-19T18:31:47.988431Z",
     "shell.execute_reply": "2025-08-19T18:31:47.986914Z"
    },
    "papermill": {
     "duration": 0.057102,
     "end_time": "2025-08-19T18:31:47.990727",
     "exception": false,
     "start_time": "2025-08-19T18:31:47.933625",
     "status": "completed"
    },
    "tags": []
   },
   "outputs": [],
   "source": [
    "colname_to_bin = \"maxdeutsch1\"\n",
    "majority_value = org_train[colname_to_bin].mode()[0]\n",
    "\n",
    "org_test[\"majmin\"] = np.where(org_test[colname_to_bin] == majority_value, \"majority\", \"minority\")"
   ]
  },
  {
   "cell_type": "code",
   "execution_count": 58,
   "id": "17e3e4d5",
   "metadata": {
    "execution": {
     "iopub.execute_input": "2025-08-19T18:31:48.035482Z",
     "iopub.status.busy": "2025-08-19T18:31:48.034276Z",
     "iopub.status.idle": "2025-08-19T18:31:49.765625Z",
     "shell.execute_reply": "2025-08-19T18:31:49.764323Z"
    },
    "papermill": {
     "duration": 1.749,
     "end_time": "2025-08-19T18:31:49.767424",
     "exception": false,
     "start_time": "2025-08-19T18:31:48.018424",
     "status": "completed"
    },
    "tags": []
   },
   "outputs": [],
   "source": [
    "example_universe = universe.copy()\n",
    "example_universe[\"cutoff\"] = example_universe[\"cutoff\"][0]\n",
    "example_universe[\"eval_fairness_grouping\"] = example_universe[\"eval_fairness_grouping\"][0]\n",
    "fairness_dict, metric_frame = universe_analysis.compute_metrics(\n",
    "    example_universe,\n",
    "    y_pred_prob=probs_test,\n",
    "    y_test=y_true,\n",
    "    org_test=org_test,\n",
    ")"
   ]
  },
  {
   "cell_type": "markdown",
   "id": "1fb7a0e9",
   "metadata": {
    "papermill": {
     "duration": 0.012458,
     "end_time": "2025-08-19T18:31:49.793377",
     "exception": false,
     "start_time": "2025-08-19T18:31:49.780919",
     "status": "completed"
    },
    "tags": []
   },
   "source": [
    "# Overall"
   ]
  },
  {
   "cell_type": "markdown",
   "id": "be1784b1",
   "metadata": {
    "papermill": {
     "duration": 0.012775,
     "end_time": "2025-08-19T18:31:49.818977",
     "exception": false,
     "start_time": "2025-08-19T18:31:49.806202",
     "status": "completed"
    },
    "tags": []
   },
   "source": [
    "Main fairness target: Equalized Odds. Seems to be a better fit than equal opportunity, since we're not only interested in Y = 1. Seems to be a better fit than demographic parity, since we also care about accuracy, not just equal distribution of preds.\n",
    "\n",
    "Pick column for computation of fairness metrics\n",
    "\n",
    "Performance\n",
    "Overall performance measures, most interesting in relation to the measures split by group below"
   ]
  },
  {
   "cell_type": "code",
   "execution_count": 59,
   "id": "b7672bee",
   "metadata": {
    "execution": {
     "iopub.execute_input": "2025-08-19T18:31:49.847597Z",
     "iopub.status.busy": "2025-08-19T18:31:49.845749Z",
     "iopub.status.idle": "2025-08-19T18:31:49.863663Z",
     "shell.execute_reply": "2025-08-19T18:31:49.862341Z"
    },
    "papermill": {
     "duration": 0.034304,
     "end_time": "2025-08-19T18:31:49.865425",
     "exception": false,
     "start_time": "2025-08-19T18:31:49.831121",
     "status": "completed"
    },
    "tags": []
   },
   "outputs": [
    {
     "data": {
      "text/plain": [
       "accuracy                   0.224111\n",
       "balanced accuracy          0.548037\n",
       "f1                         0.245450\n",
       "precision                  0.140217\n",
       "false positive rate        0.887676\n",
       "false negative rate        0.016250\n",
       "selection rate             0.900000\n",
       "count                  89710.000000\n",
       "dtype: float64"
      ]
     },
     "execution_count": 59,
     "metadata": {},
     "output_type": "execute_result"
    }
   ],
   "source": [
    "metric_frame.overall"
   ]
  },
  {
   "cell_type": "markdown",
   "id": "d93333c9",
   "metadata": {
    "papermill": {
     "duration": 0.012874,
     "end_time": "2025-08-19T18:31:49.898652",
     "exception": false,
     "start_time": "2025-08-19T18:31:49.885778",
     "status": "completed"
    },
    "tags": []
   },
   "source": [
    "By Group"
   ]
  },
  {
   "cell_type": "code",
   "execution_count": 60,
   "id": "52256966",
   "metadata": {
    "execution": {
     "iopub.execute_input": "2025-08-19T18:31:49.926496Z",
     "iopub.status.busy": "2025-08-19T18:31:49.925344Z",
     "iopub.status.idle": "2025-08-19T18:31:49.953942Z",
     "shell.execute_reply": "2025-08-19T18:31:49.953123Z"
    },
    "papermill": {
     "duration": 0.045001,
     "end_time": "2025-08-19T18:31:49.956037",
     "exception": false,
     "start_time": "2025-08-19T18:31:49.911036",
     "status": "completed"
    },
    "tags": []
   },
   "outputs": [
    {
     "data": {
      "text/html": [
       "<div>\n",
       "<style scoped>\n",
       "    .dataframe tbody tr th:only-of-type {\n",
       "        vertical-align: middle;\n",
       "    }\n",
       "\n",
       "    .dataframe tbody tr th {\n",
       "        vertical-align: top;\n",
       "    }\n",
       "\n",
       "    .dataframe thead th {\n",
       "        text-align: right;\n",
       "    }\n",
       "</style>\n",
       "<table border=\"1\" class=\"dataframe\">\n",
       "  <thead>\n",
       "    <tr style=\"text-align: right;\">\n",
       "      <th></th>\n",
       "      <th>accuracy</th>\n",
       "      <th>balanced accuracy</th>\n",
       "      <th>f1</th>\n",
       "      <th>precision</th>\n",
       "      <th>false positive rate</th>\n",
       "      <th>false negative rate</th>\n",
       "      <th>selection rate</th>\n",
       "      <th>count</th>\n",
       "    </tr>\n",
       "    <tr>\n",
       "      <th>majmin</th>\n",
       "      <th></th>\n",
       "      <th></th>\n",
       "      <th></th>\n",
       "      <th></th>\n",
       "      <th></th>\n",
       "      <th></th>\n",
       "      <th></th>\n",
       "      <th></th>\n",
       "    </tr>\n",
       "  </thead>\n",
       "  <tbody>\n",
       "    <tr>\n",
       "      <th>majority</th>\n",
       "      <td>0.248157</td>\n",
       "      <td>0.558911</td>\n",
       "      <td>0.256466</td>\n",
       "      <td>0.147509</td>\n",
       "      <td>0.863468</td>\n",
       "      <td>0.018709</td>\n",
       "      <td>0.879037</td>\n",
       "      <td>69170.0</td>\n",
       "    </tr>\n",
       "    <tr>\n",
       "      <th>minority</th>\n",
       "      <td>0.143135</td>\n",
       "      <td>0.512800</td>\n",
       "      <td>0.210904</td>\n",
       "      <td>0.117978</td>\n",
       "      <td>0.967643</td>\n",
       "      <td>0.006757</td>\n",
       "      <td>0.970594</td>\n",
       "      <td>20540.0</td>\n",
       "    </tr>\n",
       "  </tbody>\n",
       "</table>\n",
       "</div>"
      ],
      "text/plain": [
       "          accuracy  balanced accuracy        f1  precision  \\\n",
       "majmin                                                       \n",
       "majority  0.248157           0.558911  0.256466   0.147509   \n",
       "minority  0.143135           0.512800  0.210904   0.117978   \n",
       "\n",
       "          false positive rate  false negative rate  selection rate    count  \n",
       "majmin                                                                       \n",
       "majority             0.863468             0.018709        0.879037  69170.0  \n",
       "minority             0.967643             0.006757        0.970594  20540.0  "
      ]
     },
     "execution_count": 60,
     "metadata": {},
     "output_type": "execute_result"
    }
   ],
   "source": [
    "metric_frame.by_group"
   ]
  },
  {
   "cell_type": "code",
   "execution_count": 61,
   "id": "6e6c20ae",
   "metadata": {
    "execution": {
     "iopub.execute_input": "2025-08-19T18:31:50.008382Z",
     "iopub.status.busy": "2025-08-19T18:31:50.007354Z",
     "iopub.status.idle": "2025-08-19T18:31:51.799938Z",
     "shell.execute_reply": "2025-08-19T18:31:51.798699Z"
    },
    "papermill": {
     "duration": 1.812625,
     "end_time": "2025-08-19T18:31:51.801783",
     "exception": false,
     "start_time": "2025-08-19T18:31:49.989158",
     "status": "completed"
    },
    "tags": []
   },
   "outputs": [
    {
     "data": {
      "text/plain": [
       "array([[<Axes: title={'center': 'accuracy'}, xlabel='majmin'>,\n",
       "        <Axes: title={'center': 'balanced accuracy'}, xlabel='majmin'>,\n",
       "        <Axes: title={'center': 'f1'}, xlabel='majmin'>],\n",
       "       [<Axes: title={'center': 'precision'}, xlabel='majmin'>,\n",
       "        <Axes: title={'center': 'false positive rate'}, xlabel='majmin'>,\n",
       "        <Axes: title={'center': 'false negative rate'}, xlabel='majmin'>],\n",
       "       [<Axes: title={'center': 'selection rate'}, xlabel='majmin'>,\n",
       "        <Axes: title={'center': 'count'}, xlabel='majmin'>,\n",
       "        <Axes: xlabel='majmin'>]], dtype=object)"
      ]
     },
     "execution_count": 61,
     "metadata": {},
     "output_type": "execute_result"
    },
    {
     "data": {
      "image/png": "[encoded data removed]",
      "text/plain": [
       "<Figure size 1200x800 with 9 Axes>"
      ]
     },
     "metadata": {},
     "output_type": "display_data"
    }
   ],
   "source": [
    "# In a graphic\n",
    "metric_frame.by_group.plot.bar(\n",
    "    subplots=True,\n",
    "    layout=[3, 3],\n",
    "    legend=False,\n",
    "    figsize=[12, 8],\n",
    "    title=\"Show all metrics\",\n",
    ")"
   ]
  },
  {
   "cell_type": "markdown",
   "id": "b2e433ae",
   "metadata": {
    "papermill": {
     "duration": 0.028173,
     "end_time": "2025-08-19T18:31:51.856379",
     "exception": false,
     "start_time": "2025-08-19T18:31:51.828206",
     "status": "completed"
    },
    "tags": []
   },
   "source": [
    "# Final Output"
   ]
  },
  {
   "cell_type": "code",
   "execution_count": 62,
   "id": "3871301e",
   "metadata": {
    "execution": {
     "iopub.execute_input": "2025-08-19T18:31:51.901692Z",
     "iopub.status.busy": "2025-08-19T18:31:51.900804Z",
     "iopub.status.idle": "2025-08-19T18:31:51.910026Z",
     "shell.execute_reply": "2025-08-19T18:31:51.909183Z"
    },
    "papermill": {
     "duration": 0.04139,
     "end_time": "2025-08-19T18:31:51.912329",
     "exception": false,
     "start_time": "2025-08-19T18:31:51.870939",
     "status": "completed"
    },
    "tags": []
   },
   "outputs": [
    {
     "data": {
      "text/plain": [
       "4"
      ]
     },
     "execution_count": 62,
     "metadata": {},
     "output_type": "execute_result"
    }
   ],
   "source": [
    "sub_universes = universe_analysis.generate_sub_universes()\n",
    "len(sub_universes)"
   ]
  },
  {
   "cell_type": "code",
   "execution_count": 63,
   "id": "d9cfdaca",
   "metadata": {
    "execution": {
     "iopub.execute_input": "2025-08-19T18:31:51.942197Z",
     "iopub.status.busy": "2025-08-19T18:31:51.941766Z",
     "iopub.status.idle": "2025-08-19T18:31:51.973912Z",
     "shell.execute_reply": "2025-08-19T18:31:51.972258Z"
    },
    "papermill": {
     "duration": 0.049796,
     "end_time": "2025-08-19T18:31:51.976702",
     "exception": false,
     "start_time": "2025-08-19T18:31:51.926906",
     "status": "completed"
    },
    "tags": []
   },
   "outputs": [],
   "source": [
    "def filter_sub_universe_data(sub_universe, org_test):\n",
    "    # Keep all rows — no filtering\n",
    "    keep_rows_mask = np.ones(org_test.shape[0], dtype=bool)\n",
    "\n",
    "    print(f\"[INFO] Keeping all rows: {keep_rows_mask.sum()} rows retained.\")\n",
    "    return keep_rows_mask"
   ]
  },
  {
   "cell_type": "code",
   "execution_count": 64,
   "id": "2bc31ac1",
   "metadata": {
    "execution": {
     "iopub.execute_input": "2025-08-19T18:31:52.015612Z",
     "iopub.status.busy": "2025-08-19T18:31:52.015143Z",
     "iopub.status.idle": "2025-08-19T18:31:58.645216Z",
     "shell.execute_reply": "2025-08-19T18:31:58.644209Z"
    },
    "papermill": {
     "duration": 6.649061,
     "end_time": "2025-08-19T18:31:58.648757",
     "exception": false,
     "start_time": "2025-08-19T18:31:51.999696",
     "status": "completed"
    },
    "tags": []
   },
   "outputs": [
    {
     "name": "stdout",
     "output_type": "stream",
     "text": [
      "Stopping execution_time clock.\n",
      "[INFO] Keeping all rows: 89710 rows retained.\n"
     ]
    },
    {
     "name": "stdout",
     "output_type": "stream",
     "text": [
      "[INFO] Keeping all rows: 89710 rows retained.\n"
     ]
    },
    {
     "name": "stdout",
     "output_type": "stream",
     "text": [
      "[INFO] Keeping all rows: 89710 rows retained.\n"
     ]
    },
    {
     "name": "stdout",
     "output_type": "stream",
     "text": [
      "[INFO] Keeping all rows: 89710 rows retained.\n"
     ]
    },
    {
     "data": {
      "text/html": [
       "<div>\n",
       "<style scoped>\n",
       "    .dataframe tbody tr th:only-of-type {\n",
       "        vertical-align: middle;\n",
       "    }\n",
       "\n",
       "    .dataframe tbody tr th {\n",
       "        vertical-align: top;\n",
       "    }\n",
       "\n",
       "    .dataframe thead th {\n",
       "        text-align: right;\n",
       "    }\n",
       "</style>\n",
       "<table border=\"1\" class=\"dataframe\">\n",
       "  <thead>\n",
       "    <tr style=\"text-align: right;\">\n",
       "      <th></th>\n",
       "      <th>run_no</th>\n",
       "      <th>universe_id</th>\n",
       "      <th>universe_settings</th>\n",
       "      <th>execution_time</th>\n",
       "      <th>test_size_n</th>\n",
       "      <th>test_size_frac</th>\n",
       "      <th>fair_main_equalized_odds_difference</th>\n",
       "      <th>fair_main_equalized_odds_ratio</th>\n",
       "      <th>fair_main_demographic_parity_difference</th>\n",
       "      <th>fair_main_demographic_parity_ratio</th>\n",
       "      <th>...</th>\n",
       "      <th>perf_grp_precision_0</th>\n",
       "      <th>perf_grp_precision_1</th>\n",
       "      <th>perf_grp_false positive rate_0</th>\n",
       "      <th>perf_grp_false positive rate_1</th>\n",
       "      <th>perf_grp_false negative rate_0</th>\n",
       "      <th>perf_grp_false negative rate_1</th>\n",
       "      <th>perf_grp_selection rate_0</th>\n",
       "      <th>perf_grp_selection rate_1</th>\n",
       "      <th>perf_grp_count_0</th>\n",
       "      <th>perf_grp_count_1</th>\n",
       "    </tr>\n",
       "  </thead>\n",
       "  <tbody>\n",
       "    <tr>\n",
       "      <th>0</th>\n",
       "      <td>3</td>\n",
       "      <td>7ecfa42c74a67ee9c547f3cf9232863b</td>\n",
       "      <td>{\"cutoff\": \"quantile_0.1\", \"eval_fairness_grou...</td>\n",
       "      <td>20.771195</td>\n",
       "      <td>89710</td>\n",
       "      <td>1.0</td>\n",
       "      <td>0.104174</td>\n",
       "      <td>0.892342</td>\n",
       "      <td>0.091557</td>\n",
       "      <td>0.905669</td>\n",
       "      <td>...</td>\n",
       "      <td>NaN</td>\n",
       "      <td>NaN</td>\n",
       "      <td>NaN</td>\n",
       "      <td>NaN</td>\n",
       "      <td>NaN</td>\n",
       "      <td>NaN</td>\n",
       "      <td>NaN</td>\n",
       "      <td>NaN</td>\n",
       "      <td>NaN</td>\n",
       "      <td>NaN</td>\n",
       "    </tr>\n",
       "    <tr>\n",
       "      <th>0</th>\n",
       "      <td>3</td>\n",
       "      <td>7ecfa42c74a67ee9c547f3cf9232863b</td>\n",
       "      <td>{\"cutoff\": \"quantile_0.1\", \"eval_fairness_grou...</td>\n",
       "      <td>20.771195</td>\n",
       "      <td>89710</td>\n",
       "      <td>1.0</td>\n",
       "      <td>0.104174</td>\n",
       "      <td>0.892342</td>\n",
       "      <td>0.091557</td>\n",
       "      <td>0.905669</td>\n",
       "      <td>...</td>\n",
       "      <td>0.117978</td>\n",
       "      <td>0.147509</td>\n",
       "      <td>0.967643</td>\n",
       "      <td>0.863468</td>\n",
       "      <td>0.006757</td>\n",
       "      <td>0.018709</td>\n",
       "      <td>0.970594</td>\n",
       "      <td>0.879037</td>\n",
       "      <td>20540.0</td>\n",
       "      <td>69170.0</td>\n",
       "    </tr>\n",
       "    <tr>\n",
       "      <th>0</th>\n",
       "      <td>3</td>\n",
       "      <td>7ecfa42c74a67ee9c547f3cf9232863b</td>\n",
       "      <td>{\"cutoff\": \"quantile_0.25\", \"eval_fairness_gro...</td>\n",
       "      <td>20.771195</td>\n",
       "      <td>89710</td>\n",
       "      <td>1.0</td>\n",
       "      <td>0.199544</td>\n",
       "      <td>0.772086</td>\n",
       "      <td>0.175923</td>\n",
       "      <td>0.801361</td>\n",
       "      <td>...</td>\n",
       "      <td>NaN</td>\n",
       "      <td>NaN</td>\n",
       "      <td>NaN</td>\n",
       "      <td>NaN</td>\n",
       "      <td>NaN</td>\n",
       "      <td>NaN</td>\n",
       "      <td>NaN</td>\n",
       "      <td>NaN</td>\n",
       "      <td>NaN</td>\n",
       "      <td>NaN</td>\n",
       "    </tr>\n",
       "    <tr>\n",
       "      <th>0</th>\n",
       "      <td>3</td>\n",
       "      <td>7ecfa42c74a67ee9c547f3cf9232863b</td>\n",
       "      <td>{\"cutoff\": \"quantile_0.25\", \"eval_fairness_gro...</td>\n",
       "      <td>20.771195</td>\n",
       "      <td>89710</td>\n",
       "      <td>1.0</td>\n",
       "      <td>0.199544</td>\n",
       "      <td>0.772086</td>\n",
       "      <td>0.175923</td>\n",
       "      <td>0.801361</td>\n",
       "      <td>...</td>\n",
       "      <td>0.125392</td>\n",
       "      <td>0.173392</td>\n",
       "      <td>0.875523</td>\n",
       "      <td>0.675979</td>\n",
       "      <td>0.036740</td>\n",
       "      <td>0.068709</td>\n",
       "      <td>0.885638</td>\n",
       "      <td>0.709715</td>\n",
       "      <td>20540.0</td>\n",
       "      <td>69170.0</td>\n",
       "    </tr>\n",
       "  </tbody>\n",
       "</table>\n",
       "<p>4 rows × 50 columns</p>\n",
       "</div>"
      ],
      "text/plain": [
       "  run_no                       universe_id  \\\n",
       "0      3  7ecfa42c74a67ee9c547f3cf9232863b   \n",
       "0      3  7ecfa42c74a67ee9c547f3cf9232863b   \n",
       "0      3  7ecfa42c74a67ee9c547f3cf9232863b   \n",
       "0      3  7ecfa42c74a67ee9c547f3cf9232863b   \n",
       "\n",
       "                                   universe_settings  execution_time  \\\n",
       "0  {\"cutoff\": \"quantile_0.1\", \"eval_fairness_grou...       20.771195   \n",
       "0  {\"cutoff\": \"quantile_0.1\", \"eval_fairness_grou...       20.771195   \n",
       "0  {\"cutoff\": \"quantile_0.25\", \"eval_fairness_gro...       20.771195   \n",
       "0  {\"cutoff\": \"quantile_0.25\", \"eval_fairness_gro...       20.771195   \n",
       "\n",
       "   test_size_n  test_size_frac  fair_main_equalized_odds_difference  \\\n",
       "0        89710             1.0                             0.104174   \n",
       "0        89710             1.0                             0.104174   \n",
       "0        89710             1.0                             0.199544   \n",
       "0        89710             1.0                             0.199544   \n",
       "\n",
       "   fair_main_equalized_odds_ratio  fair_main_demographic_parity_difference  \\\n",
       "0                        0.892342                                 0.091557   \n",
       "0                        0.892342                                 0.091557   \n",
       "0                        0.772086                                 0.175923   \n",
       "0                        0.772086                                 0.175923   \n",
       "\n",
       "   fair_main_demographic_parity_ratio  ...  perf_grp_precision_0  \\\n",
       "0                            0.905669  ...                   NaN   \n",
       "0                            0.905669  ...              0.117978   \n",
       "0                            0.801361  ...                   NaN   \n",
       "0                            0.801361  ...              0.125392   \n",
       "\n",
       "   perf_grp_precision_1  perf_grp_false positive rate_0  \\\n",
       "0                   NaN                             NaN   \n",
       "0              0.147509                        0.967643   \n",
       "0                   NaN                             NaN   \n",
       "0              0.173392                        0.875523   \n",
       "\n",
       "   perf_grp_false positive rate_1  perf_grp_false negative rate_0  \\\n",
       "0                             NaN                             NaN   \n",
       "0                        0.863468                        0.006757   \n",
       "0                             NaN                             NaN   \n",
       "0                        0.675979                        0.036740   \n",
       "\n",
       "   perf_grp_false negative rate_1  perf_grp_selection rate_0  \\\n",
       "0                             NaN                        NaN   \n",
       "0                        0.018709                   0.970594   \n",
       "0                             NaN                        NaN   \n",
       "0                        0.068709                   0.885638   \n",
       "\n",
       "   perf_grp_selection rate_1  perf_grp_count_0  perf_grp_count_1  \n",
       "0                        NaN               NaN               NaN  \n",
       "0                   0.879037           20540.0           69170.0  \n",
       "0                        NaN               NaN               NaN  \n",
       "0                   0.709715           20540.0           69170.0  \n",
       "\n",
       "[4 rows x 50 columns]"
      ]
     },
     "execution_count": 64,
     "metadata": {},
     "output_type": "execute_result"
    }
   ],
   "source": [
    "final_output = universe_analysis.generate_final_output(\n",
    "    y_pred_prob=probs_test,\n",
    "    y_test=y_true,\n",
    "    org_test=org_test,\n",
    "    filter_data=filter_sub_universe_data,\n",
    "    cp_metrics_df=cp_metrics_df,\n",
    "    save=True,\n",
    ")\n",
    "final_output"
   ]
  },
  {
   "cell_type": "code",
   "execution_count": null,
   "id": "8b80a1ff",
   "metadata": {
    "papermill": {
     "duration": 0.014299,
     "end_time": "2025-08-19T18:31:58.693530",
     "exception": false,
     "start_time": "2025-08-19T18:31:58.679231",
     "status": "completed"
    },
    "tags": []
   },
   "outputs": [],
   "source": []
  },
  {
   "cell_type": "code",
   "execution_count": null,
   "id": "275c9fad",
   "metadata": {
    "papermill": {
     "duration": 0.014357,
     "end_time": "2025-08-19T18:31:58.722150",
     "exception": false,
     "start_time": "2025-08-19T18:31:58.707793",
     "status": "completed"
    },
    "tags": []
   },
   "outputs": [],
   "source": []
  }
 ],
 "metadata": {
  "celltoolbar": "Tags",
  "kernelspec": {
   "display_name": "Python (CMA Fairness)",
   "language": "python",
   "name": "cma_fair_env"
  },
  "language_info": {
   "codemirror_mode": {
    "name": "ipython",
    "version": 3
   },
   "file_extension": ".py",
   "mimetype": "text/x-python",
   "name": "python",
   "nbconvert_exporter": "python",
   "pygments_lexer": "ipython3",
   "version": "3.10.12"
  },
  "papermill": {
   "default_parameters": {},
   "duration": 31.093911,
   "end_time": "2025-08-19T18:31:59.561812",
   "environment_variables": {},
   "exception": null,
   "input_path": "universe_analysis.ipynb",
   "output_path": "output/runs/3/notebooks/m_3-7ecfa42c74a67ee9c547f3cf9232863b.ipynb",
   "parameters": {
    "output_dir": "output",
    "run_no": "3",
    "seed": "2023",
    "universe": "{\"cutoff\": [\"quantile_0.1\", \"quantile_0.25\"], \"eval_fairness_grouping\": [\"majority-minority\", \"nationality-all\"], \"exclude_features\": \"none\", \"exclude_subgroups\": \"keep-all\", \"model\": \"penalized_logreg\", \"scale\": \"scale\", \"training_size\": \"5k\", \"training_year\": \"2012_14\"}",
    "universe_id": "7ecfa42c74a67ee9c547f3cf9232863b"
   },
   "start_time": "2025-08-19T18:31:28.467901",
   "version": "2.6.0"
  }
 },
 "nbformat": 4,
 "nbformat_minor": 5
}