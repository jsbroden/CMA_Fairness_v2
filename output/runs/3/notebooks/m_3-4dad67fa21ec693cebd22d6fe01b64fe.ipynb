{
 "cells": [
  {
   "cell_type": "markdown",
   "id": "ef23dbb3",
   "metadata": {
    "papermill": {
     "duration": 0.023101,
     "end_time": "2025-08-19T18:26:08.881762",
     "exception": false,
     "start_time": "2025-08-19T18:26:08.858661",
     "status": "completed"
    },
    "tags": []
   },
   "source": [
    "# Setup"
   ]
  },
  {
   "cell_type": "code",
   "execution_count": 1,
   "id": "0bc8e7dc",
   "metadata": {
    "execution": {
     "iopub.execute_input": "2025-08-19T18:26:08.904446Z",
     "iopub.status.busy": "2025-08-19T18:26:08.904045Z",
     "iopub.status.idle": "2025-08-19T18:26:08.922697Z",
     "shell.execute_reply": "2025-08-19T18:26:08.917451Z"
    },
    "papermill": {
     "duration": 0.030299,
     "end_time": "2025-08-19T18:26:08.924776",
     "exception": false,
     "start_time": "2025-08-19T18:26:08.894477",
     "status": "completed"
    },
    "tags": []
   },
   "outputs": [
    {
     "name": "stdout",
     "output_type": "stream",
     "text": [
      "/dss/dsshome1/0C/ra93lal2/cma/CMA_Fairness_v2\n"
     ]
    },
    {
     "name": "stderr",
     "output_type": "stream",
     "text": [
      "/dss/dsshome1/0C/ra93lal2/.local/share/virtualenvs/CMA_Fairness_v2-3j10GkSs/lib/python3.10/site-packages/IPython/core/magics/osm.py:393: UserWarning: This is now an optional IPython functionality, using bookmarks requires you to install the `pickleshare` library.\n",
      "  bkms = self.shell.db.get('bookmarks', {})\n",
      "/dss/dsshome1/0C/ra93lal2/.local/share/virtualenvs/CMA_Fairness_v2-3j10GkSs/lib/python3.10/site-packages/IPython/core/magics/osm.py:417: UserWarning: This is now an optional IPython functionality, setting dhist requires you to install the `pickleshare` library.\n",
      "  self.shell.db['dhist'] = compress_dhist(dhist)[-100:]\n"
     ]
    }
   ],
   "source": [
    "%cd ~/cma/CMA_Fairness_v2"
   ]
  },
  {
   "cell_type": "markdown",
   "id": "9d235661",
   "metadata": {
    "papermill": {
     "duration": 0.010965,
     "end_time": "2025-08-19T18:26:08.947564",
     "exception": false,
     "start_time": "2025-08-19T18:26:08.936599",
     "status": "completed"
    },
    "tags": []
   },
   "source": [
    "The following cell holds the definition of our parameters, these values can be overriden by rendering the with e.g. the following command:\n",
    "\n",
    "papermill -p alpha 0.2 -p ratio 0.3 universe_analysis.ipynb output/test_run.ipynb"
   ]
  },
  {
   "cell_type": "code",
   "execution_count": 2,
   "id": "4a789d8e",
   "metadata": {
    "execution": {
     "iopub.execute_input": "2025-08-19T18:26:08.968246Z",
     "iopub.status.busy": "2025-08-19T18:26:08.967018Z",
     "iopub.status.idle": "2025-08-19T18:26:08.977970Z",
     "shell.execute_reply": "2025-08-19T18:26:08.976680Z"
    },
    "papermill": {
     "duration": 0.023136,
     "end_time": "2025-08-19T18:26:08.979255",
     "exception": false,
     "start_time": "2025-08-19T18:26:08.956119",
     "status": "completed"
    },
    "tags": []
   },
   "outputs": [
    {
     "name": "stdout",
     "output_type": "stream",
     "text": [
      "Current working directory: /dss/dsshome1/0C/ra93lal2/cma/CMA_Fairness_v2\n"
     ]
    }
   ],
   "source": [
    "import os\n",
    "print(\"Current working directory:\", os.getcwd())"
   ]
  },
  {
   "cell_type": "code",
   "execution_count": 3,
   "id": "4132aaed",
   "metadata": {
    "execution": {
     "iopub.execute_input": "2025-08-19T18:26:09.004237Z",
     "iopub.status.busy": "2025-08-19T18:26:09.003001Z",
     "iopub.status.idle": "2025-08-19T18:26:09.011850Z",
     "shell.execute_reply": "2025-08-19T18:26:09.010770Z"
    },
    "papermill": {
     "duration": 0.021377,
     "end_time": "2025-08-19T18:26:09.013289",
     "exception": false,
     "start_time": "2025-08-19T18:26:08.991912",
     "status": "completed"
    },
    "tags": [
     "parameters"
    ]
   },
   "outputs": [],
   "source": [
    "run_no = 0\n",
    "universe_id = \"test\"\n",
    "universe = {\n",
    "    \"training_size\": \"5k\", # \"25k\", \"5k\", \"1k\"\n",
    "    \"training_year\": \"2012_14\", # \"2014\", \"2012_14\", \"2010_14\"\n",
    "    \"scale\": \"scale\", # \"scale\", \"do-not-scale\",\n",
    "    \"model\": \"elasticnet\", # \"logreg\", \"penalized_logreg\", \"rf\", \"gbm\", \"elasticnet\"\n",
    "    \"cutoff\": [\"quantile_0.15\", \"quantile_0.30\"],\n",
    "    \"exclude_features\": \"age\", # \"none\", \"nationality\", \"sex\", \"nationality-sex\", \"age\"\n",
    "    \"exclude_subgroups\": \"drop-non-german\", # \"keep-all\", \"drop-non-german\"\n",
    "    \"eval_fairness_grouping\": [\"majority-minority\", \"nationality-all\"]\n",
    "}\n",
    "\n",
    "output_dir=\"./output\"\n",
    "seed=0"
   ]
  },
  {
   "cell_type": "code",
   "execution_count": 4,
   "id": "777b5c98",
   "metadata": {
    "execution": {
     "iopub.execute_input": "2025-08-19T18:26:09.037914Z",
     "iopub.status.busy": "2025-08-19T18:26:09.036646Z",
     "iopub.status.idle": "2025-08-19T18:26:09.046879Z",
     "shell.execute_reply": "2025-08-19T18:26:09.044720Z"
    },
    "papermill": {
     "duration": 0.022917,
     "end_time": "2025-08-19T18:26:09.048415",
     "exception": false,
     "start_time": "2025-08-19T18:26:09.025498",
     "status": "completed"
    },
    "tags": [
     "injected-parameters"
    ]
   },
   "outputs": [],
   "source": [
    "# Parameters\n",
    "universe_id = \"4dad67fa21ec693cebd22d6fe01b64fe\"\n",
    "run_no = \"3\"\n",
    "universe = \"{\\\"cutoff\\\": [\\\"quantile_0.1\\\", \\\"quantile_0.25\\\"], \\\"eval_fairness_grouping\\\": [\\\"majority-minority\\\", \\\"nationality-all\\\"], \\\"exclude_features\\\": \\\"nationality\\\", \\\"exclude_subgroups\\\": \\\"keep-all\\\", \\\"model\\\": \\\"elasticnet\\\", \\\"scale\\\": \\\"scale\\\", \\\"training_size\\\": \\\"5k\\\", \\\"training_year\\\": \\\"2014\\\"}\"\n",
    "output_dir = \"output\"\n",
    "seed = \"2023\"\n"
   ]
  },
  {
   "cell_type": "code",
   "execution_count": 5,
   "id": "a5d7941f",
   "metadata": {
    "execution": {
     "iopub.execute_input": "2025-08-19T18:26:09.072784Z",
     "iopub.status.busy": "2025-08-19T18:26:09.071179Z",
     "iopub.status.idle": "2025-08-19T18:26:09.080748Z",
     "shell.execute_reply": "2025-08-19T18:26:09.078935Z"
    },
    "papermill": {
     "duration": 0.022026,
     "end_time": "2025-08-19T18:26:09.082424",
     "exception": false,
     "start_time": "2025-08-19T18:26:09.060398",
     "status": "completed"
    },
    "tags": []
   },
   "outputs": [],
   "source": [
    "import json\n",
    "if isinstance(universe, str):\n",
    "    universe = json.loads(universe)"
   ]
  },
  {
   "cell_type": "code",
   "execution_count": 6,
   "id": "7076ccb1",
   "metadata": {
    "execution": {
     "iopub.execute_input": "2025-08-19T18:26:09.105605Z",
     "iopub.status.busy": "2025-08-19T18:26:09.104157Z",
     "iopub.status.idle": "2025-08-19T18:26:09.158212Z",
     "shell.execute_reply": "2025-08-19T18:26:09.157421Z"
    },
    "papermill": {
     "duration": 0.067467,
     "end_time": "2025-08-19T18:26:09.161308",
     "exception": false,
     "start_time": "2025-08-19T18:26:09.093841",
     "status": "completed"
    },
    "tags": []
   },
   "outputs": [],
   "source": [
    "# Auto-reload the custom package\n",
    "%load_ext autoreload\n",
    "%autoreload 1\n",
    "%aimport fairness_multiverse"
   ]
  },
  {
   "cell_type": "code",
   "execution_count": 7,
   "id": "94c8eb93",
   "metadata": {
    "execution": {
     "iopub.execute_input": "2025-08-19T18:26:09.203855Z",
     "iopub.status.busy": "2025-08-19T18:26:09.202594Z",
     "iopub.status.idle": "2025-08-19T18:26:10.834145Z",
     "shell.execute_reply": "2025-08-19T18:26:10.832881Z"
    },
    "papermill": {
     "duration": 1.650506,
     "end_time": "2025-08-19T18:26:10.836207",
     "exception": false,
     "start_time": "2025-08-19T18:26:09.185701",
     "status": "completed"
    },
    "tags": []
   },
   "outputs": [],
   "source": [
    "from fairness_multiverse.universe import UniverseAnalysis\n",
    "\n",
    "universe_analysis = UniverseAnalysis(\n",
    "    run_no = run_no,\n",
    "    universe_id = universe_id,\n",
    "    universe = universe,\n",
    "    output_dir=output_dir,\n",
    ")"
   ]
  },
  {
   "cell_type": "code",
   "execution_count": 8,
   "id": "2a6381cf",
   "metadata": {
    "execution": {
     "iopub.execute_input": "2025-08-19T18:26:10.858075Z",
     "iopub.status.busy": "2025-08-19T18:26:10.856841Z",
     "iopub.status.idle": "2025-08-19T18:26:10.870811Z",
     "shell.execute_reply": "2025-08-19T18:26:10.868988Z"
    },
    "papermill": {
     "duration": 0.026446,
     "end_time": "2025-08-19T18:26:10.872415",
     "exception": false,
     "start_time": "2025-08-19T18:26:10.845969",
     "status": "completed"
    },
    "tags": []
   },
   "outputs": [
    {
     "name": "stdout",
     "output_type": "stream",
     "text": [
      "Using Seed: 2023\n"
     ]
    }
   ],
   "source": [
    "import numpy as np\n",
    "parsed_seed = int(seed)\n",
    "np.random.seed(parsed_seed)\n",
    "print(f\"Using Seed: {parsed_seed}\")"
   ]
  },
  {
   "cell_type": "markdown",
   "id": "b6e958b4",
   "metadata": {
    "papermill": {
     "duration": 0.01102,
     "end_time": "2025-08-19T18:26:10.897509",
     "exception": false,
     "start_time": "2025-08-19T18:26:10.886489",
     "status": "completed"
    },
    "tags": []
   },
   "source": [
    "# Loading Data"
   ]
  },
  {
   "cell_type": "code",
   "execution_count": 9,
   "id": "98701482",
   "metadata": {
    "execution": {
     "iopub.execute_input": "2025-08-19T18:26:10.919119Z",
     "iopub.status.busy": "2025-08-19T18:26:10.918021Z",
     "iopub.status.idle": "2025-08-19T18:26:21.115466Z",
     "shell.execute_reply": "2025-08-19T18:26:21.114266Z"
    },
    "papermill": {
     "duration": 10.211904,
     "end_time": "2025-08-19T18:26:21.118748",
     "exception": false,
     "start_time": "2025-08-19T18:26:10.906844",
     "status": "completed"
    },
    "tags": []
   },
   "outputs": [
    {
     "name": "stdout",
     "output_type": "stream",
     "text": [
      "Loading SIAB data from cache: data/siab_cached.csv.gz\n"
     ]
    },
    {
     "name": "stdout",
     "output_type": "stream",
     "text": [
      "(643690, 164)\n"
     ]
    }
   ],
   "source": [
    "from pathlib import Path\n",
    "import pandas as pd\n",
    "\n",
    "# File paths\n",
    "raw_file = Path(\"data/raw/siab.csv\")\n",
    "cache_file = Path(\"data/siab_cached.csv.gz\")\n",
    "\n",
    "# Ensure cache directory exists\n",
    "cache_file.parent.mkdir(parents=True, exist_ok=True)\n",
    "\n",
    "# Load with simple caching\n",
    "if cache_file.exists():\n",
    "    print(f\"Loading SIAB data from cache: {cache_file}\")\n",
    "    siab = pd.read_csv(cache_file, compression='gzip')\n",
    "else:\n",
    "    print(f\"Cache not found. Reading raw SIAB data: {raw_file}\")\n",
    "    siab = pd.read_csv(raw_file)\n",
    "    siab.to_csv(cache_file, index=False, compression='gzip')\n",
    "    print(f\"Cached SIAB data to: {cache_file}\")\n",
    "\n",
    "print(siab.shape)"
   ]
  },
  {
   "cell_type": "code",
   "execution_count": 10,
   "id": "058d2abb",
   "metadata": {
    "execution": {
     "iopub.execute_input": "2025-08-19T18:26:21.161528Z",
     "iopub.status.busy": "2025-08-19T18:26:21.160131Z",
     "iopub.status.idle": "2025-08-19T18:26:21.320284Z",
     "shell.execute_reply": "2025-08-19T18:26:21.319148Z"
    },
    "papermill": {
     "duration": 0.178972,
     "end_time": "2025-08-19T18:26:21.321800",
     "exception": false,
     "start_time": "2025-08-19T18:26:21.142828",
     "status": "completed"
    },
    "tags": []
   },
   "outputs": [
    {
     "data": {
      "text/html": [
       "<div>\n",
       "<style scoped>\n",
       "    .dataframe tbody tr th:only-of-type {\n",
       "        vertical-align: middle;\n",
       "    }\n",
       "\n",
       "    .dataframe tbody tr th {\n",
       "        vertical-align: top;\n",
       "    }\n",
       "\n",
       "    .dataframe thead th {\n",
       "        text-align: right;\n",
       "    }\n",
       "</style>\n",
       "<table border=\"1\" class=\"dataframe\">\n",
       "  <thead>\n",
       "    <tr style=\"text-align: right;\">\n",
       "      <th></th>\n",
       "      <th>persnr</th>\n",
       "      <th>year</th>\n",
       "      <th>nrEntry</th>\n",
       "      <th>ltue</th>\n",
       "      <th>employed_before</th>\n",
       "      <th>receipt_leh_before</th>\n",
       "      <th>receipt_lhg_before</th>\n",
       "      <th>se_before</th>\n",
       "      <th>ASU_notue_seeking_before</th>\n",
       "      <th>ASU_other_before</th>\n",
       "      <th>...</th>\n",
       "      <th>minijob_tot_dur_byage</th>\n",
       "      <th>ft_tot_dur_byage</th>\n",
       "      <th>befrist_tot_dur_byage</th>\n",
       "      <th>leih_tot_dur_byage</th>\n",
       "      <th>LHG_tot_dur_byage</th>\n",
       "      <th>LEH_tot_dur_byage</th>\n",
       "      <th>almp_tot_dur_byage</th>\n",
       "      <th>almp_aw_tot_dur_byage</th>\n",
       "      <th>se_tot_dur_byage</th>\n",
       "      <th>seeking1_tot_dur_byage</th>\n",
       "    </tr>\n",
       "  </thead>\n",
       "  <tbody>\n",
       "    <tr>\n",
       "      <th>0</th>\n",
       "      <td>7</td>\n",
       "      <td>2015</td>\n",
       "      <td>1</td>\n",
       "      <td>0</td>\n",
       "      <td>1</td>\n",
       "      <td>0</td>\n",
       "      <td>0</td>\n",
       "      <td>0</td>\n",
       "      <td>1</td>\n",
       "      <td>0</td>\n",
       "      <td>...</td>\n",
       "      <td>0.000000</td>\n",
       "      <td>0.000000</td>\n",
       "      <td>15.043478</td>\n",
       "      <td>0.000000</td>\n",
       "      <td>0.000000</td>\n",
       "      <td>0.000000</td>\n",
       "      <td>0.000000</td>\n",
       "      <td>0.000000</td>\n",
       "      <td>0.000000</td>\n",
       "      <td>0.000000</td>\n",
       "    </tr>\n",
       "    <tr>\n",
       "      <th>1</th>\n",
       "      <td>18</td>\n",
       "      <td>2010</td>\n",
       "      <td>1</td>\n",
       "      <td>1</td>\n",
       "      <td>0</td>\n",
       "      <td>0</td>\n",
       "      <td>0</td>\n",
       "      <td>0</td>\n",
       "      <td>0</td>\n",
       "      <td>0</td>\n",
       "      <td>...</td>\n",
       "      <td>0.000000</td>\n",
       "      <td>0.000000</td>\n",
       "      <td>0.000000</td>\n",
       "      <td>0.000000</td>\n",
       "      <td>0.000000</td>\n",
       "      <td>0.000000</td>\n",
       "      <td>0.000000</td>\n",
       "      <td>0.000000</td>\n",
       "      <td>0.000000</td>\n",
       "      <td>0.000000</td>\n",
       "    </tr>\n",
       "    <tr>\n",
       "      <th>2</th>\n",
       "      <td>18</td>\n",
       "      <td>2011</td>\n",
       "      <td>2</td>\n",
       "      <td>0</td>\n",
       "      <td>1</td>\n",
       "      <td>0</td>\n",
       "      <td>1</td>\n",
       "      <td>0</td>\n",
       "      <td>1</td>\n",
       "      <td>0</td>\n",
       "      <td>...</td>\n",
       "      <td>2.714286</td>\n",
       "      <td>2.714286</td>\n",
       "      <td>0.000000</td>\n",
       "      <td>0.000000</td>\n",
       "      <td>10.775510</td>\n",
       "      <td>0.000000</td>\n",
       "      <td>8.367347</td>\n",
       "      <td>0.000000</td>\n",
       "      <td>0.000000</td>\n",
       "      <td>9.836735</td>\n",
       "    </tr>\n",
       "    <tr>\n",
       "      <th>3</th>\n",
       "      <td>18</td>\n",
       "      <td>2012</td>\n",
       "      <td>3</td>\n",
       "      <td>0</td>\n",
       "      <td>1</td>\n",
       "      <td>0</td>\n",
       "      <td>1</td>\n",
       "      <td>0</td>\n",
       "      <td>1</td>\n",
       "      <td>0</td>\n",
       "      <td>...</td>\n",
       "      <td>4.200000</td>\n",
       "      <td>4.200000</td>\n",
       "      <td>0.000000</td>\n",
       "      <td>0.000000</td>\n",
       "      <td>12.100000</td>\n",
       "      <td>0.000000</td>\n",
       "      <td>9.400000</td>\n",
       "      <td>0.000000</td>\n",
       "      <td>0.000000</td>\n",
       "      <td>9.960000</td>\n",
       "    </tr>\n",
       "    <tr>\n",
       "      <th>4</th>\n",
       "      <td>18</td>\n",
       "      <td>2012</td>\n",
       "      <td>4</td>\n",
       "      <td>0</td>\n",
       "      <td>1</td>\n",
       "      <td>0</td>\n",
       "      <td>1</td>\n",
       "      <td>0</td>\n",
       "      <td>1</td>\n",
       "      <td>0</td>\n",
       "      <td>...</td>\n",
       "      <td>5.460000</td>\n",
       "      <td>5.460000</td>\n",
       "      <td>0.000000</td>\n",
       "      <td>0.000000</td>\n",
       "      <td>13.360000</td>\n",
       "      <td>0.000000</td>\n",
       "      <td>10.320000</td>\n",
       "      <td>0.000000</td>\n",
       "      <td>0.000000</td>\n",
       "      <td>10.280000</td>\n",
       "    </tr>\n",
       "    <tr>\n",
       "      <th>...</th>\n",
       "      <td>...</td>\n",
       "      <td>...</td>\n",
       "      <td>...</td>\n",
       "      <td>...</td>\n",
       "      <td>...</td>\n",
       "      <td>...</td>\n",
       "      <td>...</td>\n",
       "      <td>...</td>\n",
       "      <td>...</td>\n",
       "      <td>...</td>\n",
       "      <td>...</td>\n",
       "      <td>...</td>\n",
       "      <td>...</td>\n",
       "      <td>...</td>\n",
       "      <td>...</td>\n",
       "      <td>...</td>\n",
       "      <td>...</td>\n",
       "      <td>...</td>\n",
       "      <td>...</td>\n",
       "      <td>...</td>\n",
       "      <td>...</td>\n",
       "    </tr>\n",
       "    <tr>\n",
       "      <th>643685</th>\n",
       "      <td>1827860</td>\n",
       "      <td>2013</td>\n",
       "      <td>1</td>\n",
       "      <td>0</td>\n",
       "      <td>0</td>\n",
       "      <td>0</td>\n",
       "      <td>1</td>\n",
       "      <td>0</td>\n",
       "      <td>0</td>\n",
       "      <td>1</td>\n",
       "      <td>...</td>\n",
       "      <td>0.000000</td>\n",
       "      <td>0.000000</td>\n",
       "      <td>0.000000</td>\n",
       "      <td>0.000000</td>\n",
       "      <td>0.612903</td>\n",
       "      <td>0.000000</td>\n",
       "      <td>0.000000</td>\n",
       "      <td>0.000000</td>\n",
       "      <td>0.000000</td>\n",
       "      <td>0.000000</td>\n",
       "    </tr>\n",
       "    <tr>\n",
       "      <th>643686</th>\n",
       "      <td>1827860</td>\n",
       "      <td>2015</td>\n",
       "      <td>2</td>\n",
       "      <td>1</td>\n",
       "      <td>0</td>\n",
       "      <td>0</td>\n",
       "      <td>1</td>\n",
       "      <td>0</td>\n",
       "      <td>1</td>\n",
       "      <td>0</td>\n",
       "      <td>...</td>\n",
       "      <td>0.000000</td>\n",
       "      <td>0.000000</td>\n",
       "      <td>0.212121</td>\n",
       "      <td>0.212121</td>\n",
       "      <td>17.363636</td>\n",
       "      <td>0.000000</td>\n",
       "      <td>8.909091</td>\n",
       "      <td>0.000000</td>\n",
       "      <td>0.000000</td>\n",
       "      <td>7.121212</td>\n",
       "    </tr>\n",
       "    <tr>\n",
       "      <th>643687</th>\n",
       "      <td>1827860</td>\n",
       "      <td>2016</td>\n",
       "      <td>3</td>\n",
       "      <td>1</td>\n",
       "      <td>0</td>\n",
       "      <td>0</td>\n",
       "      <td>1</td>\n",
       "      <td>1</td>\n",
       "      <td>0</td>\n",
       "      <td>1</td>\n",
       "      <td>...</td>\n",
       "      <td>0.000000</td>\n",
       "      <td>0.000000</td>\n",
       "      <td>0.294118</td>\n",
       "      <td>0.205882</td>\n",
       "      <td>34.705882</td>\n",
       "      <td>0.000000</td>\n",
       "      <td>10.352941</td>\n",
       "      <td>1.705882</td>\n",
       "      <td>1.705882</td>\n",
       "      <td>23.911765</td>\n",
       "    </tr>\n",
       "    <tr>\n",
       "      <th>643688</th>\n",
       "      <td>1827869</td>\n",
       "      <td>2013</td>\n",
       "      <td>1</td>\n",
       "      <td>1</td>\n",
       "      <td>1</td>\n",
       "      <td>0</td>\n",
       "      <td>0</td>\n",
       "      <td>0</td>\n",
       "      <td>1</td>\n",
       "      <td>0</td>\n",
       "      <td>...</td>\n",
       "      <td>0.000000</td>\n",
       "      <td>0.000000</td>\n",
       "      <td>0.000000</td>\n",
       "      <td>0.000000</td>\n",
       "      <td>0.000000</td>\n",
       "      <td>0.525424</td>\n",
       "      <td>0.000000</td>\n",
       "      <td>0.000000</td>\n",
       "      <td>0.000000</td>\n",
       "      <td>0.000000</td>\n",
       "    </tr>\n",
       "    <tr>\n",
       "      <th>643689</th>\n",
       "      <td>1827869</td>\n",
       "      <td>2014</td>\n",
       "      <td>2</td>\n",
       "      <td>0</td>\n",
       "      <td>0</td>\n",
       "      <td>1</td>\n",
       "      <td>0</td>\n",
       "      <td>0</td>\n",
       "      <td>1</td>\n",
       "      <td>0</td>\n",
       "      <td>...</td>\n",
       "      <td>0.000000</td>\n",
       "      <td>0.666667</td>\n",
       "      <td>0.666667</td>\n",
       "      <td>0.000000</td>\n",
       "      <td>0.000000</td>\n",
       "      <td>8.950000</td>\n",
       "      <td>1.033333</td>\n",
       "      <td>0.083333</td>\n",
       "      <td>0.083333</td>\n",
       "      <td>8.133333</td>\n",
       "    </tr>\n",
       "  </tbody>\n",
       "</table>\n",
       "<p>643690 rows × 164 columns</p>\n",
       "</div>"
      ],
      "text/plain": [
       "         persnr  year  nrEntry  ltue  employed_before  receipt_leh_before  \\\n",
       "0             7  2015        1     0                1                   0   \n",
       "1            18  2010        1     1                0                   0   \n",
       "2            18  2011        2     0                1                   0   \n",
       "3            18  2012        3     0                1                   0   \n",
       "4            18  2012        4     0                1                   0   \n",
       "...         ...   ...      ...   ...              ...                 ...   \n",
       "643685  1827860  2013        1     0                0                   0   \n",
       "643686  1827860  2015        2     1                0                   0   \n",
       "643687  1827860  2016        3     1                0                   0   \n",
       "643688  1827869  2013        1     1                1                   0   \n",
       "643689  1827869  2014        2     0                0                   1   \n",
       "\n",
       "        receipt_lhg_before  se_before  ASU_notue_seeking_before  \\\n",
       "0                        0          0                         1   \n",
       "1                        0          0                         0   \n",
       "2                        1          0                         1   \n",
       "3                        1          0                         1   \n",
       "4                        1          0                         1   \n",
       "...                    ...        ...                       ...   \n",
       "643685                   1          0                         0   \n",
       "643686                   1          0                         1   \n",
       "643687                   1          1                         0   \n",
       "643688                   0          0                         1   \n",
       "643689                   0          0                         1   \n",
       "\n",
       "        ASU_other_before  ...  minijob_tot_dur_byage  ft_tot_dur_byage  \\\n",
       "0                      0  ...               0.000000          0.000000   \n",
       "1                      0  ...               0.000000          0.000000   \n",
       "2                      0  ...               2.714286          2.714286   \n",
       "3                      0  ...               4.200000          4.200000   \n",
       "4                      0  ...               5.460000          5.460000   \n",
       "...                  ...  ...                    ...               ...   \n",
       "643685                 1  ...               0.000000          0.000000   \n",
       "643686                 0  ...               0.000000          0.000000   \n",
       "643687                 1  ...               0.000000          0.000000   \n",
       "643688                 0  ...               0.000000          0.000000   \n",
       "643689                 0  ...               0.000000          0.666667   \n",
       "\n",
       "        befrist_tot_dur_byage  leih_tot_dur_byage  LHG_tot_dur_byage  \\\n",
       "0                   15.043478            0.000000           0.000000   \n",
       "1                    0.000000            0.000000           0.000000   \n",
       "2                    0.000000            0.000000          10.775510   \n",
       "3                    0.000000            0.000000          12.100000   \n",
       "4                    0.000000            0.000000          13.360000   \n",
       "...                       ...                 ...                ...   \n",
       "643685               0.000000            0.000000           0.612903   \n",
       "643686               0.212121            0.212121          17.363636   \n",
       "643687               0.294118            0.205882          34.705882   \n",
       "643688               0.000000            0.000000           0.000000   \n",
       "643689               0.666667            0.000000           0.000000   \n",
       "\n",
       "        LEH_tot_dur_byage  almp_tot_dur_byage  almp_aw_tot_dur_byage  \\\n",
       "0                0.000000            0.000000               0.000000   \n",
       "1                0.000000            0.000000               0.000000   \n",
       "2                0.000000            8.367347               0.000000   \n",
       "3                0.000000            9.400000               0.000000   \n",
       "4                0.000000           10.320000               0.000000   \n",
       "...                   ...                 ...                    ...   \n",
       "643685           0.000000            0.000000               0.000000   \n",
       "643686           0.000000            8.909091               0.000000   \n",
       "643687           0.000000           10.352941               1.705882   \n",
       "643688           0.525424            0.000000               0.000000   \n",
       "643689           8.950000            1.033333               0.083333   \n",
       "\n",
       "        se_tot_dur_byage  seeking1_tot_dur_byage  \n",
       "0               0.000000                0.000000  \n",
       "1               0.000000                0.000000  \n",
       "2               0.000000                9.836735  \n",
       "3               0.000000                9.960000  \n",
       "4               0.000000               10.280000  \n",
       "...                  ...                     ...  \n",
       "643685          0.000000                0.000000  \n",
       "643686          0.000000                7.121212  \n",
       "643687          1.705882               23.911765  \n",
       "643688          0.000000                0.000000  \n",
       "643689          0.083333                8.133333  \n",
       "\n",
       "[643690 rows x 164 columns]"
      ]
     },
     "execution_count": 10,
     "metadata": {},
     "output_type": "execute_result"
    }
   ],
   "source": [
    "siab"
   ]
  },
  {
   "cell_type": "markdown",
   "id": "1f87e805",
   "metadata": {
    "papermill": {
     "duration": 0.010665,
     "end_time": "2025-08-19T18:26:21.349868",
     "exception": false,
     "start_time": "2025-08-19T18:26:21.339203",
     "status": "completed"
    },
    "tags": []
   },
   "source": [
    "# Splitting Data and Setting Training Data Size"
   ]
  },
  {
   "cell_type": "code",
   "execution_count": 11,
   "id": "910ae358",
   "metadata": {
    "execution": {
     "iopub.execute_input": "2025-08-19T18:26:21.393696Z",
     "iopub.status.busy": "2025-08-19T18:26:21.392797Z",
     "iopub.status.idle": "2025-08-19T18:26:21.689760Z",
     "shell.execute_reply": "2025-08-19T18:26:21.689041Z"
    },
    "papermill": {
     "duration": 0.323586,
     "end_time": "2025-08-19T18:26:21.691192",
     "exception": false,
     "start_time": "2025-08-19T18:26:21.367606",
     "status": "completed"
    },
    "tags": []
   },
   "outputs": [],
   "source": [
    "from fairness_multiverse.universe import sample_by_year_size\n",
    "\n",
    "siab_train = sample_by_year_size(siab,\n",
    "                               training_year=universe[\"training_year\"],\n",
    "                               training_size=universe[\"training_size\"])"
   ]
  },
  {
   "cell_type": "code",
   "execution_count": 12,
   "id": "919c8ff5",
   "metadata": {
    "execution": {
     "iopub.execute_input": "2025-08-19T18:26:21.712739Z",
     "iopub.status.busy": "2025-08-19T18:26:21.712101Z",
     "iopub.status.idle": "2025-08-19T18:26:21.722459Z",
     "shell.execute_reply": "2025-08-19T18:26:21.721270Z"
    },
    "papermill": {
     "duration": 0.022359,
     "end_time": "2025-08-19T18:26:21.723776",
     "exception": false,
     "start_time": "2025-08-19T18:26:21.701417",
     "status": "completed"
    },
    "tags": []
   },
   "outputs": [
    {
     "data": {
      "text/plain": [
       "(5000, 164)"
      ]
     },
     "execution_count": 12,
     "metadata": {},
     "output_type": "execute_result"
    }
   ],
   "source": [
    "siab_train.shape"
   ]
  },
  {
   "cell_type": "code",
   "execution_count": 13,
   "id": "feb13bf4",
   "metadata": {
    "execution": {
     "iopub.execute_input": "2025-08-19T18:26:21.755973Z",
     "iopub.status.busy": "2025-08-19T18:26:21.755564Z",
     "iopub.status.idle": "2025-08-19T18:26:21.768834Z",
     "shell.execute_reply": "2025-08-19T18:26:21.767262Z"
    },
    "papermill": {
     "duration": 0.032428,
     "end_time": "2025-08-19T18:26:21.773703",
     "exception": false,
     "start_time": "2025-08-19T18:26:21.741275",
     "status": "completed"
    },
    "tags": []
   },
   "outputs": [
    {
     "data": {
      "text/plain": [
       "year\n",
       "2014    5000\n",
       "dtype: int64"
      ]
     },
     "metadata": {},
     "output_type": "display_data"
    }
   ],
   "source": [
    "display(siab_train.groupby(\"year\").size())"
   ]
  },
  {
   "cell_type": "code",
   "execution_count": 14,
   "id": "0997782f",
   "metadata": {
    "execution": {
     "iopub.execute_input": "2025-08-19T18:26:21.806712Z",
     "iopub.status.busy": "2025-08-19T18:26:21.805764Z",
     "iopub.status.idle": "2025-08-19T18:26:22.098806Z",
     "shell.execute_reply": "2025-08-19T18:26:22.098000Z"
    },
    "papermill": {
     "duration": 0.307703,
     "end_time": "2025-08-19T18:26:22.100787",
     "exception": false,
     "start_time": "2025-08-19T18:26:21.793084",
     "status": "completed"
    },
    "tags": []
   },
   "outputs": [],
   "source": [
    "#siab_train = siab_s[siab_s.year < 2015]\n",
    "siab_calib = siab[siab.year == 2015]\n",
    "siab_test = siab[siab.year == 2016]"
   ]
  },
  {
   "cell_type": "code",
   "execution_count": 15,
   "id": "2c1e4012",
   "metadata": {
    "execution": {
     "iopub.execute_input": "2025-08-19T18:26:22.133797Z",
     "iopub.status.busy": "2025-08-19T18:26:22.133336Z",
     "iopub.status.idle": "2025-08-19T18:26:22.139435Z",
     "shell.execute_reply": "2025-08-19T18:26:22.137558Z"
    },
    "papermill": {
     "duration": 0.02561,
     "end_time": "2025-08-19T18:26:22.141330",
     "exception": false,
     "start_time": "2025-08-19T18:26:22.115720",
     "status": "completed"
    },
    "tags": []
   },
   "outputs": [],
   "source": [
    "#siab_calib.shape"
   ]
  },
  {
   "cell_type": "code",
   "execution_count": 16,
   "id": "f66b54ca",
   "metadata": {
    "execution": {
     "iopub.execute_input": "2025-08-19T18:26:22.165214Z",
     "iopub.status.busy": "2025-08-19T18:26:22.164843Z",
     "iopub.status.idle": "2025-08-19T18:26:22.170161Z",
     "shell.execute_reply": "2025-08-19T18:26:22.169349Z"
    },
    "papermill": {
     "duration": 0.019008,
     "end_time": "2025-08-19T18:26:22.171895",
     "exception": false,
     "start_time": "2025-08-19T18:26:22.152887",
     "status": "completed"
    },
    "tags": []
   },
   "outputs": [],
   "source": [
    "#siab_test.shape"
   ]
  },
  {
   "cell_type": "code",
   "execution_count": 17,
   "id": "27e4384d",
   "metadata": {
    "execution": {
     "iopub.execute_input": "2025-08-19T18:26:22.194397Z",
     "iopub.status.busy": "2025-08-19T18:26:22.194035Z",
     "iopub.status.idle": "2025-08-19T18:26:22.209993Z",
     "shell.execute_reply": "2025-08-19T18:26:22.209168Z"
    },
    "papermill": {
     "duration": 0.029164,
     "end_time": "2025-08-19T18:26:22.212220",
     "exception": false,
     "start_time": "2025-08-19T18:26:22.183056",
     "status": "completed"
    },
    "tags": []
   },
   "outputs": [],
   "source": [
    "X_train = siab_train.iloc[:,4:164]\n",
    "y_train = siab_train.iloc[:, [3]]"
   ]
  },
  {
   "cell_type": "code",
   "execution_count": 18,
   "id": "08ee8389",
   "metadata": {
    "execution": {
     "iopub.execute_input": "2025-08-19T18:26:22.249637Z",
     "iopub.status.busy": "2025-08-19T18:26:22.248148Z",
     "iopub.status.idle": "2025-08-19T18:26:22.305259Z",
     "shell.execute_reply": "2025-08-19T18:26:22.303097Z"
    },
    "papermill": {
     "duration": 0.073414,
     "end_time": "2025-08-19T18:26:22.307974",
     "exception": false,
     "start_time": "2025-08-19T18:26:22.234560",
     "status": "completed"
    },
    "tags": []
   },
   "outputs": [],
   "source": [
    "X_calib = siab_calib.iloc[:,4:164]\n",
    "y_calib = siab_calib.iloc[:, [3]]"
   ]
  },
  {
   "cell_type": "code",
   "execution_count": 19,
   "id": "b7ff42e0",
   "metadata": {
    "execution": {
     "iopub.execute_input": "2025-08-19T18:26:22.346368Z",
     "iopub.status.busy": "2025-08-19T18:26:22.345463Z",
     "iopub.status.idle": "2025-08-19T18:26:22.411723Z",
     "shell.execute_reply": "2025-08-19T18:26:22.410934Z"
    },
    "papermill": {
     "duration": 0.082938,
     "end_time": "2025-08-19T18:26:22.414310",
     "exception": false,
     "start_time": "2025-08-19T18:26:22.331372",
     "status": "completed"
    },
    "tags": []
   },
   "outputs": [],
   "source": [
    "X_test = siab_test.iloc[:,4:164]\n",
    "y_true = siab_test.iloc[:, [3]]"
   ]
  },
  {
   "cell_type": "code",
   "execution_count": 20,
   "id": "0275101e",
   "metadata": {
    "execution": {
     "iopub.execute_input": "2025-08-19T18:26:22.458832Z",
     "iopub.status.busy": "2025-08-19T18:26:22.457812Z",
     "iopub.status.idle": "2025-08-19T18:26:22.593107Z",
     "shell.execute_reply": "2025-08-19T18:26:22.592413Z"
    },
    "papermill": {
     "duration": 0.154923,
     "end_time": "2025-08-19T18:26:22.594732",
     "exception": false,
     "start_time": "2025-08-19T18:26:22.439809",
     "status": "completed"
    },
    "tags": []
   },
   "outputs": [],
   "source": [
    "# Auxiliary data needed downstream in the pipeline\n",
    "\n",
    "org_train = X_train.copy()\n",
    "org_test = X_test.copy()\n",
    "org_calib = X_calib.copy()"
   ]
  },
  {
   "cell_type": "markdown",
   "id": "b461e618",
   "metadata": {
    "papermill": {
     "duration": 0.016314,
     "end_time": "2025-08-19T18:26:22.627557",
     "exception": false,
     "start_time": "2025-08-19T18:26:22.611243",
     "status": "completed"
    },
    "tags": []
   },
   "source": [
    "# Preprocessing Data"
   ]
  },
  {
   "cell_type": "code",
   "execution_count": 21,
   "id": "78e74c4b",
   "metadata": {
    "execution": {
     "iopub.execute_input": "2025-08-19T18:26:22.662583Z",
     "iopub.status.busy": "2025-08-19T18:26:22.661567Z",
     "iopub.status.idle": "2025-08-19T18:26:22.674506Z",
     "shell.execute_reply": "2025-08-19T18:26:22.672897Z"
    },
    "papermill": {
     "duration": 0.034776,
     "end_time": "2025-08-19T18:26:22.676506",
     "exception": false,
     "start_time": "2025-08-19T18:26:22.641730",
     "status": "completed"
    },
    "tags": []
   },
   "outputs": [],
   "source": [
    "# EXCLUDE PROTECTED FEATURES\n",
    "# --------------------------\n",
    "\n",
    "excluded_features = universe[\"exclude_features\"].split(\"-\")\n",
    "excluded_features_dictionary = {\n",
    "    \"nationality\": [\"maxdeutsch1\", \"maxdeutsch.Missing.\"],\n",
    "    \"sex\": [\"frau1\"],\n",
    "    \"age\": [\"age\"],\n",
    "}"
   ]
  },
  {
   "cell_type": "code",
   "execution_count": 22,
   "id": "f8e63555",
   "metadata": {
    "execution": {
     "iopub.execute_input": "2025-08-19T18:26:22.710558Z",
     "iopub.status.busy": "2025-08-19T18:26:22.709567Z",
     "iopub.status.idle": "2025-08-19T18:26:22.722847Z",
     "shell.execute_reply": "2025-08-19T18:26:22.718998Z"
    },
    "papermill": {
     "duration": 0.029301,
     "end_time": "2025-08-19T18:26:22.724572",
     "exception": false,
     "start_time": "2025-08-19T18:26:22.695271",
     "status": "completed"
    },
    "tags": []
   },
   "outputs": [],
   "source": [
    "excluded_features_columns = [\n",
    "    excluded_features_dictionary[f] for f in excluded_features if len(f) > 0 and f != \"none\"\n",
    "]"
   ]
  },
  {
   "cell_type": "code",
   "execution_count": 23,
   "id": "da781f7c",
   "metadata": {
    "execution": {
     "iopub.execute_input": "2025-08-19T18:26:22.755488Z",
     "iopub.status.busy": "2025-08-19T18:26:22.754101Z",
     "iopub.status.idle": "2025-08-19T18:26:22.762932Z",
     "shell.execute_reply": "2025-08-19T18:26:22.761388Z"
    },
    "papermill": {
     "duration": 0.028174,
     "end_time": "2025-08-19T18:26:22.765764",
     "exception": false,
     "start_time": "2025-08-19T18:26:22.737590",
     "status": "completed"
    },
    "tags": []
   },
   "outputs": [],
   "source": [
    "from fairness_multiverse.universe import flatten_once\n",
    "\n",
    "excluded_features_columns = flatten_once(excluded_features_columns)"
   ]
  },
  {
   "cell_type": "code",
   "execution_count": 24,
   "id": "37fef0f0",
   "metadata": {
    "execution": {
     "iopub.execute_input": "2025-08-19T18:26:22.787862Z",
     "iopub.status.busy": "2025-08-19T18:26:22.787346Z",
     "iopub.status.idle": "2025-08-19T18:26:22.802203Z",
     "shell.execute_reply": "2025-08-19T18:26:22.801523Z"
    },
    "papermill": {
     "duration": 0.032829,
     "end_time": "2025-08-19T18:26:22.808903",
     "exception": false,
     "start_time": "2025-08-19T18:26:22.776074",
     "status": "completed"
    },
    "tags": []
   },
   "outputs": [
    {
     "name": "stdout",
     "output_type": "stream",
     "text": [
      "Dropping features: ['maxdeutsch1', 'maxdeutsch.Missing.']\n"
     ]
    }
   ],
   "source": [
    "if len(excluded_features_columns) > 0:\n",
    "    print(f\"Dropping features: {excluded_features_columns}\")\n",
    "    X_train.drop(excluded_features_columns, axis=1, inplace=True)"
   ]
  },
  {
   "cell_type": "code",
   "execution_count": 25,
   "id": "d029e3e9",
   "metadata": {
    "execution": {
     "iopub.execute_input": "2025-08-19T18:26:22.835212Z",
     "iopub.status.busy": "2025-08-19T18:26:22.834117Z",
     "iopub.status.idle": "2025-08-19T18:26:22.921443Z",
     "shell.execute_reply": "2025-08-19T18:26:22.916164Z"
    },
    "papermill": {
     "duration": 0.102185,
     "end_time": "2025-08-19T18:26:22.924519",
     "exception": false,
     "start_time": "2025-08-19T18:26:22.822334",
     "status": "completed"
    },
    "tags": []
   },
   "outputs": [
    {
     "name": "stdout",
     "output_type": "stream",
     "text": [
      "Dropping features: ['maxdeutsch1', 'maxdeutsch.Missing.']\n"
     ]
    }
   ],
   "source": [
    "if len(excluded_features_columns) > 0:\n",
    "    print(f\"Dropping features: {excluded_features_columns}\")\n",
    "    X_test.drop(excluded_features_columns, axis=1, inplace=True)"
   ]
  },
  {
   "cell_type": "code",
   "execution_count": 26,
   "id": "01d571f0",
   "metadata": {
    "execution": {
     "iopub.execute_input": "2025-08-19T18:26:22.962468Z",
     "iopub.status.busy": "2025-08-19T18:26:22.961537Z",
     "iopub.status.idle": "2025-08-19T18:26:23.019655Z",
     "shell.execute_reply": "2025-08-19T18:26:23.018368Z"
    },
    "papermill": {
     "duration": 0.075545,
     "end_time": "2025-08-19T18:26:23.023256",
     "exception": false,
     "start_time": "2025-08-19T18:26:22.947711",
     "status": "completed"
    },
    "tags": []
   },
   "outputs": [
    {
     "name": "stdout",
     "output_type": "stream",
     "text": [
      "Dropping features: ['maxdeutsch1', 'maxdeutsch.Missing.']\n"
     ]
    }
   ],
   "source": [
    "if len(excluded_features_columns) > 0:\n",
    "    print(f\"Dropping features: {excluded_features_columns}\")\n",
    "    X_calib.drop(excluded_features_columns, axis=1, inplace=True)"
   ]
  },
  {
   "cell_type": "code",
   "execution_count": 27,
   "id": "3037356e",
   "metadata": {
    "execution": {
     "iopub.execute_input": "2025-08-19T18:26:23.061724Z",
     "iopub.status.busy": "2025-08-19T18:26:23.060563Z",
     "iopub.status.idle": "2025-08-19T18:26:23.069481Z",
     "shell.execute_reply": "2025-08-19T18:26:23.067781Z"
    },
    "papermill": {
     "duration": 0.024759,
     "end_time": "2025-08-19T18:26:23.071093",
     "exception": false,
     "start_time": "2025-08-19T18:26:23.046334",
     "status": "completed"
    },
    "tags": []
   },
   "outputs": [],
   "source": [
    "# EXCLUDE CERTAIN SUBGROUPS\n",
    "# -------------------------\n",
    "\n",
    "mode = universe.get(\"exclude_subgroups\", \"keep-all\") # Defaults to \"keep-all\" if the key is missing."
   ]
  },
  {
   "cell_type": "code",
   "execution_count": 28,
   "id": "9d1e63fd",
   "metadata": {
    "execution": {
     "iopub.execute_input": "2025-08-19T18:26:23.098760Z",
     "iopub.status.busy": "2025-08-19T18:26:23.097601Z",
     "iopub.status.idle": "2025-08-19T18:26:23.123656Z",
     "shell.execute_reply": "2025-08-19T18:26:23.122390Z"
    },
    "papermill": {
     "duration": 0.040435,
     "end_time": "2025-08-19T18:26:23.125833",
     "exception": false,
     "start_time": "2025-08-19T18:26:23.085398",
     "status": "completed"
    },
    "tags": []
   },
   "outputs": [],
   "source": [
    "if mode == \"keep-all\":\n",
    "    keep_mask = pd.Series(True, index=org_train.index)\n",
    "\n",
    "elif mode == \"drop-non-german\":\n",
    "    keep_mask = (org_train[\"maxdeutsch1\"] == 1) & (org_train[\"maxdeutsch.Missing.\"] == 0)\n",
    "\n",
    "else:\n",
    "    raise ValueError(f\"Unsupported mode for exclude_subgroups: {mode}\")"
   ]
  },
  {
   "cell_type": "code",
   "execution_count": 29,
   "id": "d3b65474",
   "metadata": {
    "execution": {
     "iopub.execute_input": "2025-08-19T18:26:23.162496Z",
     "iopub.status.busy": "2025-08-19T18:26:23.161214Z",
     "iopub.status.idle": "2025-08-19T18:26:23.173200Z",
     "shell.execute_reply": "2025-08-19T18:26:23.171147Z"
    },
    "papermill": {
     "duration": 0.027599,
     "end_time": "2025-08-19T18:26:23.174737",
     "exception": false,
     "start_time": "2025-08-19T18:26:23.147138",
     "status": "completed"
    },
    "tags": []
   },
   "outputs": [],
   "source": [
    "n_drop = (~keep_mask).sum() # Calculates how many rows are set to be dropped\n",
    "if n_drop > 0:\n",
    "    pct = n_drop / len(keep_mask) * 100\n",
    "    print(f\"Dropping {n_drop} rows ({pct:.2f}%) where mode='{mode}'\")"
   ]
  },
  {
   "cell_type": "code",
   "execution_count": 30,
   "id": "f44389b3",
   "metadata": {
    "execution": {
     "iopub.execute_input": "2025-08-19T18:26:23.204260Z",
     "iopub.status.busy": "2025-08-19T18:26:23.203079Z",
     "iopub.status.idle": "2025-08-19T18:26:23.230399Z",
     "shell.execute_reply": "2025-08-19T18:26:23.229528Z"
    },
    "papermill": {
     "duration": 0.043795,
     "end_time": "2025-08-19T18:26:23.232087",
     "exception": false,
     "start_time": "2025-08-19T18:26:23.188292",
     "status": "completed"
    },
    "tags": []
   },
   "outputs": [],
   "source": [
    "X_train = X_train[keep_mask]"
   ]
  },
  {
   "cell_type": "code",
   "execution_count": 31,
   "id": "ceca8c2a",
   "metadata": {
    "execution": {
     "iopub.execute_input": "2025-08-19T18:26:23.259018Z",
     "iopub.status.busy": "2025-08-19T18:26:23.258515Z",
     "iopub.status.idle": "2025-08-19T18:26:23.264063Z",
     "shell.execute_reply": "2025-08-19T18:26:23.263378Z"
    },
    "papermill": {
     "duration": 0.019209,
     "end_time": "2025-08-19T18:26:23.265157",
     "exception": false,
     "start_time": "2025-08-19T18:26:23.245948",
     "status": "completed"
    },
    "tags": []
   },
   "outputs": [],
   "source": [
    "y_train = y_train[keep_mask]"
   ]
  },
  {
   "cell_type": "markdown",
   "id": "04d31e2f",
   "metadata": {
    "papermill": {
     "duration": 0.010944,
     "end_time": "2025-08-19T18:26:23.286957",
     "exception": false,
     "start_time": "2025-08-19T18:26:23.276013",
     "status": "completed"
    },
    "tags": []
   },
   "source": [
    "# Model Training"
   ]
  },
  {
   "cell_type": "code",
   "execution_count": 32,
   "id": "db991733",
   "metadata": {
    "execution": {
     "iopub.execute_input": "2025-08-19T18:26:23.312005Z",
     "iopub.status.busy": "2025-08-19T18:26:23.311149Z",
     "iopub.status.idle": "2025-08-19T18:26:23.434684Z",
     "shell.execute_reply": "2025-08-19T18:26:23.433753Z"
    },
    "papermill": {
     "duration": 0.138205,
     "end_time": "2025-08-19T18:26:23.437663",
     "exception": false,
     "start_time": "2025-08-19T18:26:23.299458",
     "status": "completed"
    },
    "tags": []
   },
   "outputs": [],
   "source": [
    "from sklearn.linear_model import LogisticRegression\n",
    "from sklearn.ensemble import GradientBoostingClassifier, RandomForestClassifier\n",
    "\n",
    "if (universe[\"model\"] == \"logreg\"):\n",
    "    model = LogisticRegression() #penalty=\"none\", solver=\"newton-cg\", max_iter=1)\n",
    "elif (universe[\"model\"] == \"penalized_logreg\"):\n",
    "    model = LogisticRegression(penalty=\"l2\", C=0.1) #, solver=\"newton-cg\", max_iter=1)\n",
    "elif (universe[\"model\"] == \"rf\"):\n",
    "    model = RandomForestClassifier() # n_estimators=100, n_jobs=-1\n",
    "elif (universe[\"model\"] == \"gbm\"):\n",
    "    model = GradientBoostingClassifier()\n",
    "elif (universe[\"model\"] == \"elasticnet\"):\n",
    "    model = LogisticRegression(penalty = 'elasticnet', solver = 'saga', l1_ratio = 0.5) # max_iter=5000\n",
    "else:\n",
    "    raise \"Unsupported universe.model\""
   ]
  },
  {
   "cell_type": "code",
   "execution_count": 33,
   "id": "a4b5cd25",
   "metadata": {
    "execution": {
     "iopub.execute_input": "2025-08-19T18:26:23.477809Z",
     "iopub.status.busy": "2025-08-19T18:26:23.476466Z",
     "iopub.status.idle": "2025-08-19T18:26:23.486410Z",
     "shell.execute_reply": "2025-08-19T18:26:23.484873Z"
    },
    "papermill": {
     "duration": 0.025533,
     "end_time": "2025-08-19T18:26:23.487840",
     "exception": false,
     "start_time": "2025-08-19T18:26:23.462307",
     "status": "completed"
    },
    "tags": []
   },
   "outputs": [],
   "source": [
    "from sklearn.pipeline import Pipeline\n",
    "from sklearn.preprocessing import StandardScaler\n",
    "\n",
    "model = Pipeline([\n",
    "    #(\"continuous_processor\", continuous_processor),\n",
    "    #(\"categorical_preprocessor\", categorical_preprocessor),\n",
    "    (\"scale\", StandardScaler() if universe[\"scale\"] == \"scale\" else None), \n",
    "    (\"model\", model),\n",
    "])"
   ]
  },
  {
   "cell_type": "code",
   "execution_count": 34,
   "id": "283a904d",
   "metadata": {
    "execution": {
     "iopub.execute_input": "2025-08-19T18:26:23.526863Z",
     "iopub.status.busy": "2025-08-19T18:26:23.514102Z",
     "iopub.status.idle": "2025-08-19T18:26:24.812695Z",
     "shell.execute_reply": "2025-08-19T18:26:24.809772Z"
    },
    "papermill": {
     "duration": 1.313482,
     "end_time": "2025-08-19T18:26:24.814723",
     "exception": false,
     "start_time": "2025-08-19T18:26:23.501241",
     "status": "completed"
    },
    "tags": []
   },
   "outputs": [
    {
     "name": "stderr",
     "output_type": "stream",
     "text": [
      "/dss/dsshome1/0C/ra93lal2/.local/share/virtualenvs/CMA_Fairness_v2-3j10GkSs/lib/python3.10/site-packages/sklearn/linear_model/_sag.py:350: ConvergenceWarning: The max_iter was reached which means the coef_ did not converge\n",
      "  warnings.warn(\n"
     ]
    },
    {
     "data": {
      "text/html": [
       "<style>#sk-container-id-1 {color: black;background-color: white;}#sk-container-id-1 pre{padding: 0;}#sk-container-id-1 div.sk-toggleable {background-color: white;}#sk-container-id-1 label.sk-toggleable__label {cursor: pointer;display: block;width: 100%;margin-bottom: 0;padding: 0.3em;box-sizing: border-box;text-align: center;}#sk-container-id-1 label.sk-toggleable__label-arrow:before {content: \"▸\";float: left;margin-right: 0.25em;color: #696969;}#sk-container-id-1 label.sk-toggleable__label-arrow:hover:before {color: black;}#sk-container-id-1 div.sk-estimator:hover label.sk-toggleable__label-arrow:before {color: black;}#sk-container-id-1 div.sk-toggleable__content {max-height: 0;max-width: 0;overflow: hidden;text-align: left;background-color: #f0f8ff;}#sk-container-id-1 div.sk-toggleable__content pre {margin: 0.2em;color: black;border-radius: 0.25em;background-color: #f0f8ff;}#sk-container-id-1 input.sk-toggleable__control:checked~div.sk-toggleable__content {max-height: 200px;max-width: 100%;overflow: auto;}#sk-container-id-1 input.sk-toggleable__control:checked~label.sk-toggleable__label-arrow:before {content: \"▾\";}#sk-container-id-1 div.sk-estimator input.sk-toggleable__control:checked~label.sk-toggleable__label {background-color: #d4ebff;}#sk-container-id-1 div.sk-label input.sk-toggleable__control:checked~label.sk-toggleable__label {background-color: #d4ebff;}#sk-container-id-1 input.sk-hidden--visually {border: 0;clip: rect(1px 1px 1px 1px);clip: rect(1px, 1px, 1px, 1px);height: 1px;margin: -1px;overflow: hidden;padding: 0;position: absolute;width: 1px;}#sk-container-id-1 div.sk-estimator {font-family: monospace;background-color: #f0f8ff;border: 1px dotted black;border-radius: 0.25em;box-sizing: border-box;margin-bottom: 0.5em;}#sk-container-id-1 div.sk-estimator:hover {background-color: #d4ebff;}#sk-container-id-1 div.sk-parallel-item::after {content: \"\";width: 100%;border-bottom: 1px solid gray;flex-grow: 1;}#sk-container-id-1 div.sk-label:hover label.sk-toggleable__label {background-color: #d4ebff;}#sk-container-id-1 div.sk-serial::before {content: \"\";position: absolute;border-left: 1px solid gray;box-sizing: border-box;top: 0;bottom: 0;left: 50%;z-index: 0;}#sk-container-id-1 div.sk-serial {display: flex;flex-direction: column;align-items: center;background-color: white;padding-right: 0.2em;padding-left: 0.2em;position: relative;}#sk-container-id-1 div.sk-item {position: relative;z-index: 1;}#sk-container-id-1 div.sk-parallel {display: flex;align-items: stretch;justify-content: center;background-color: white;position: relative;}#sk-container-id-1 div.sk-item::before, #sk-container-id-1 div.sk-parallel-item::before {content: \"\";position: absolute;border-left: 1px solid gray;box-sizing: border-box;top: 0;bottom: 0;left: 50%;z-index: -1;}#sk-container-id-1 div.sk-parallel-item {display: flex;flex-direction: column;z-index: 1;position: relative;background-color: white;}#sk-container-id-1 div.sk-parallel-item:first-child::after {align-self: flex-end;width: 50%;}#sk-container-id-1 div.sk-parallel-item:last-child::after {align-self: flex-start;width: 50%;}#sk-container-id-1 div.sk-parallel-item:only-child::after {width: 0;}#sk-container-id-1 div.sk-dashed-wrapped {border: 1px dashed gray;margin: 0 0.4em 0.5em 0.4em;box-sizing: border-box;padding-bottom: 0.4em;background-color: white;}#sk-container-id-1 div.sk-label label {font-family: monospace;font-weight: bold;display: inline-block;line-height: 1.2em;}#sk-container-id-1 div.sk-label-container {text-align: center;}#sk-container-id-1 div.sk-container {/* jupyter's `normalize.less` sets `[hidden] { display: none; }` but bootstrap.min.css set `[hidden] { display: none !important; }` so we also need the `!important` here to be able to override the default hidden behavior on the sphinx rendered scikit-learn.org. See: https://github.com/scikit-learn/scikit-learn/issues/21755 */display: inline-block !important;position: relative;}#sk-container-id-1 div.sk-text-repr-fallback {display: none;}</style><div id=\"sk-container-id-1\" class=\"sk-top-container\"><div class=\"sk-text-repr-fallback\"><pre>Pipeline(steps=[(&#x27;scale&#x27;, StandardScaler()),\n",
       "                (&#x27;model&#x27;,\n",
       "                 LogisticRegression(l1_ratio=0.5, penalty=&#x27;elasticnet&#x27;,\n",
       "                                    solver=&#x27;saga&#x27;))])</pre><b>In a Jupyter environment, please rerun this cell to show the HTML representation or trust the notebook. <br />On GitHub, the HTML representation is unable to render, please try loading this page with nbviewer.org.</b></div><div class=\"sk-container\" hidden><div class=\"sk-item sk-dashed-wrapped\"><div class=\"sk-label-container\"><div class=\"sk-label sk-toggleable\"><input class=\"sk-toggleable__control sk-hidden--visually\" id=\"sk-estimator-id-1\" type=\"checkbox\" ><label for=\"sk-estimator-id-1\" class=\"sk-toggleable__label sk-toggleable__label-arrow\">Pipeline</label><div class=\"sk-toggleable__content\"><pre>Pipeline(steps=[(&#x27;scale&#x27;, StandardScaler()),\n",
       "                (&#x27;model&#x27;,\n",
       "                 LogisticRegression(l1_ratio=0.5, penalty=&#x27;elasticnet&#x27;,\n",
       "                                    solver=&#x27;saga&#x27;))])</pre></div></div></div><div class=\"sk-serial\"><div class=\"sk-item\"><div class=\"sk-estimator sk-toggleable\"><input class=\"sk-toggleable__control sk-hidden--visually\" id=\"sk-estimator-id-2\" type=\"checkbox\" ><label for=\"sk-estimator-id-2\" class=\"sk-toggleable__label sk-toggleable__label-arrow\">StandardScaler</label><div class=\"sk-toggleable__content\"><pre>StandardScaler()</pre></div></div></div><div class=\"sk-item\"><div class=\"sk-estimator sk-toggleable\"><input class=\"sk-toggleable__control sk-hidden--visually\" id=\"sk-estimator-id-3\" type=\"checkbox\" ><label for=\"sk-estimator-id-3\" class=\"sk-toggleable__label sk-toggleable__label-arrow\">LogisticRegression</label><div class=\"sk-toggleable__content\"><pre>LogisticRegression(l1_ratio=0.5, penalty=&#x27;elasticnet&#x27;, solver=&#x27;saga&#x27;)</pre></div></div></div></div></div></div></div>"
      ],
      "text/plain": [
       "Pipeline(steps=[('scale', StandardScaler()),\n",
       "                ('model',\n",
       "                 LogisticRegression(l1_ratio=0.5, penalty='elasticnet',\n",
       "                                    solver='saga'))])"
      ]
     },
     "execution_count": 34,
     "metadata": {},
     "output_type": "execute_result"
    }
   ],
   "source": [
    "model.fit(X_train, y_train.values.ravel())"
   ]
  },
  {
   "cell_type": "code",
   "execution_count": 35,
   "id": "6e15e313",
   "metadata": {
    "execution": {
     "iopub.execute_input": "2025-08-19T18:26:24.854286Z",
     "iopub.status.busy": "2025-08-19T18:26:24.853803Z",
     "iopub.status.idle": "2025-08-19T18:26:25.123133Z",
     "shell.execute_reply": "2025-08-19T18:26:25.122097Z"
    },
    "papermill": {
     "duration": 0.297516,
     "end_time": "2025-08-19T18:26:25.125066",
     "exception": false,
     "start_time": "2025-08-19T18:26:24.827550",
     "status": "completed"
    },
    "tags": []
   },
   "outputs": [
    {
     "data": {
      "text/plain": [
       "0.8582543752090068"
      ]
     },
     "execution_count": 35,
     "metadata": {},
     "output_type": "execute_result"
    }
   ],
   "source": [
    "from fairness_multiverse.universe import predict_w_threshold\n",
    "\n",
    "probs_test = model.predict_proba(X_test)\n",
    "\n",
    "'''\n",
    "Below code returns a boolean array (or binary 0/1 array depending on how it’s used) where each element \n",
    "is True if the probability of class 1 is greater than or equal to the threshold, and False otherwise.\n",
    "'''\n",
    "y_pred_default = predict_w_threshold(probs_test, 0.5)\n",
    "\n",
    "from sklearn.metrics import accuracy_score\n",
    "\n",
    "# Naive prediction\n",
    "accuracy_score(y_true = y_true, y_pred = y_pred_default)"
   ]
  },
  {
   "cell_type": "code",
   "execution_count": 36,
   "id": "6f14067c",
   "metadata": {
    "execution": {
     "iopub.execute_input": "2025-08-19T18:26:25.150948Z",
     "iopub.status.busy": "2025-08-19T18:26:25.149670Z",
     "iopub.status.idle": "2025-08-19T18:26:25.339768Z",
     "shell.execute_reply": "2025-08-19T18:26:25.338334Z"
    },
    "papermill": {
     "duration": 0.204513,
     "end_time": "2025-08-19T18:26:25.341385",
     "exception": false,
     "start_time": "2025-08-19T18:26:25.136872",
     "status": "completed"
    },
    "tags": []
   },
   "outputs": [
    {
     "data": {
      "text/plain": [
       "array([0, 0, 0, ..., 0, 0, 0])"
      ]
     },
     "execution_count": 36,
     "metadata": {},
     "output_type": "execute_result"
    }
   ],
   "source": [
    "model.predict(X_test)"
   ]
  },
  {
   "cell_type": "markdown",
   "id": "3759920c",
   "metadata": {
    "papermill": {
     "duration": 0.011414,
     "end_time": "2025-08-19T18:26:25.364667",
     "exception": false,
     "start_time": "2025-08-19T18:26:25.353253",
     "status": "completed"
    },
    "tags": []
   },
   "source": [
    "# Conformal Prediction"
   ]
  },
  {
   "cell_type": "code",
   "execution_count": 37,
   "id": "14b27f59",
   "metadata": {
    "execution": {
     "iopub.execute_input": "2025-08-19T18:26:25.392003Z",
     "iopub.status.busy": "2025-08-19T18:26:25.390333Z",
     "iopub.status.idle": "2025-08-19T18:26:25.400519Z",
     "shell.execute_reply": "2025-08-19T18:26:25.399295Z"
    },
    "papermill": {
     "duration": 0.02627,
     "end_time": "2025-08-19T18:26:25.402219",
     "exception": false,
     "start_time": "2025-08-19T18:26:25.375949",
     "status": "completed"
    },
    "tags": []
   },
   "outputs": [],
   "source": [
    "# Miscoverage level for conformal prediction (10% allowed error rate => 90% target coverage)\n",
    "alpha = 0.1"
   ]
  },
  {
   "cell_type": "code",
   "execution_count": 38,
   "id": "59102472",
   "metadata": {
    "execution": {
     "iopub.execute_input": "2025-08-19T18:26:25.429643Z",
     "iopub.status.busy": "2025-08-19T18:26:25.429340Z",
     "iopub.status.idle": "2025-08-19T18:26:25.621566Z",
     "shell.execute_reply": "2025-08-19T18:26:25.619940Z"
    },
    "papermill": {
     "duration": 0.206869,
     "end_time": "2025-08-19T18:26:25.623369",
     "exception": false,
     "start_time": "2025-08-19T18:26:25.416500",
     "status": "completed"
    },
    "tags": []
   },
   "outputs": [],
   "source": [
    "probs_calib = model.predict_proba(X_calib)"
   ]
  },
  {
   "cell_type": "code",
   "execution_count": 39,
   "id": "a792d4dd",
   "metadata": {
    "execution": {
     "iopub.execute_input": "2025-08-19T18:26:25.649218Z",
     "iopub.status.busy": "2025-08-19T18:26:25.647988Z",
     "iopub.status.idle": "2025-08-19T18:26:25.657452Z",
     "shell.execute_reply": "2025-08-19T18:26:25.656192Z"
    },
    "papermill": {
     "duration": 0.023841,
     "end_time": "2025-08-19T18:26:25.658934",
     "exception": false,
     "start_time": "2025-08-19T18:26:25.635093",
     "status": "completed"
    },
    "tags": []
   },
   "outputs": [],
   "source": [
    "y_calib = y_calib.values.ravel().astype(int)"
   ]
  },
  {
   "cell_type": "code",
   "execution_count": 40,
   "id": "650fd033",
   "metadata": {
    "execution": {
     "iopub.execute_input": "2025-08-19T18:26:25.688371Z",
     "iopub.status.busy": "2025-08-19T18:26:25.687639Z",
     "iopub.status.idle": "2025-08-19T18:26:25.701419Z",
     "shell.execute_reply": "2025-08-19T18:26:25.700688Z"
    },
    "papermill": {
     "duration": 0.029521,
     "end_time": "2025-08-19T18:26:25.702817",
     "exception": false,
     "start_time": "2025-08-19T18:26:25.673296",
     "status": "completed"
    },
    "tags": []
   },
   "outputs": [],
   "source": [
    "from fairness_multiverse.conformal import compute_nc_scores\n",
    "\n",
    "# Compute nonconformity scores on calibration set (1 - probability of true class)\n",
    "nc_scores = compute_nc_scores(probs_calib, y_calib)"
   ]
  },
  {
   "cell_type": "code",
   "execution_count": 41,
   "id": "28ada44c",
   "metadata": {
    "execution": {
     "iopub.execute_input": "2025-08-19T18:26:25.728931Z",
     "iopub.status.busy": "2025-08-19T18:26:25.728457Z",
     "iopub.status.idle": "2025-08-19T18:26:25.739719Z",
     "shell.execute_reply": "2025-08-19T18:26:25.734884Z"
    },
    "papermill": {
     "duration": 0.026101,
     "end_time": "2025-08-19T18:26:25.741176",
     "exception": false,
     "start_time": "2025-08-19T18:26:25.715075",
     "status": "completed"
    },
    "tags": []
   },
   "outputs": [],
   "source": [
    "from fairness_multiverse.conformal import find_threshold\n",
    "\n",
    "# Find conformal threshold q_hat for the given alpha (split conformal method)\n",
    "q_hat = find_threshold(nc_scores, alpha)"
   ]
  },
  {
   "cell_type": "code",
   "execution_count": 42,
   "id": "df56469e",
   "metadata": {
    "execution": {
     "iopub.execute_input": "2025-08-19T18:26:25.770284Z",
     "iopub.status.busy": "2025-08-19T18:26:25.768619Z",
     "iopub.status.idle": "2025-08-19T18:26:25.779188Z",
     "shell.execute_reply": "2025-08-19T18:26:25.778159Z"
    },
    "papermill": {
     "duration": 0.025111,
     "end_time": "2025-08-19T18:26:25.780670",
     "exception": false,
     "start_time": "2025-08-19T18:26:25.755559",
     "status": "completed"
    },
    "tags": []
   },
   "outputs": [
    {
     "data": {
      "text/plain": [
       "0.6839734299900537"
      ]
     },
     "execution_count": 42,
     "metadata": {},
     "output_type": "execute_result"
    }
   ],
   "source": [
    "q_hat"
   ]
  },
  {
   "cell_type": "code",
   "execution_count": 43,
   "id": "aa1f5faa",
   "metadata": {
    "execution": {
     "iopub.execute_input": "2025-08-19T18:26:25.809440Z",
     "iopub.status.busy": "2025-08-19T18:26:25.808414Z",
     "iopub.status.idle": "2025-08-19T18:26:26.553178Z",
     "shell.execute_reply": "2025-08-19T18:26:26.542877Z"
    },
    "papermill": {
     "duration": 0.76117,
     "end_time": "2025-08-19T18:26:26.555694",
     "exception": false,
     "start_time": "2025-08-19T18:26:25.794524",
     "status": "completed"
    },
    "tags": []
   },
   "outputs": [],
   "source": [
    "from fairness_multiverse.conformal import predict_conformal_sets\n",
    "\n",
    "# Generate prediction sets for each test example\n",
    "pred_sets = predict_conformal_sets(model, X_test, q_hat)"
   ]
  },
  {
   "cell_type": "code",
   "execution_count": 44,
   "id": "97f67a6b",
   "metadata": {
    "execution": {
     "iopub.execute_input": "2025-08-19T18:26:26.612892Z",
     "iopub.status.busy": "2025-08-19T18:26:26.611923Z",
     "iopub.status.idle": "2025-08-19T18:26:26.627517Z",
     "shell.execute_reply": "2025-08-19T18:26:26.625927Z"
    },
    "papermill": {
     "duration": 0.058621,
     "end_time": "2025-08-19T18:26:26.629827",
     "exception": false,
     "start_time": "2025-08-19T18:26:26.571206",
     "status": "completed"
    },
    "tags": []
   },
   "outputs": [],
   "source": [
    "y_true = y_true.squeeze()"
   ]
  },
  {
   "cell_type": "code",
   "execution_count": 45,
   "id": "e700e9a7",
   "metadata": {
    "execution": {
     "iopub.execute_input": "2025-08-19T18:26:26.664445Z",
     "iopub.status.busy": "2025-08-19T18:26:26.663694Z",
     "iopub.status.idle": "2025-08-19T18:26:27.229156Z",
     "shell.execute_reply": "2025-08-19T18:26:27.227516Z"
    },
    "papermill": {
     "duration": 0.582824,
     "end_time": "2025-08-19T18:26:27.232409",
     "exception": false,
     "start_time": "2025-08-19T18:26:26.649585",
     "status": "completed"
    },
    "tags": []
   },
   "outputs": [],
   "source": [
    "from fairness_multiverse.conformal import evaluate_sets\n",
    "\n",
    "# Evaluate coverage and average set size on test data\n",
    "metrics = evaluate_sets(pred_sets, y_true)"
   ]
  },
  {
   "cell_type": "markdown",
   "id": "efbacec0",
   "metadata": {
    "papermill": {
     "duration": 0.013295,
     "end_time": "2025-08-19T18:26:27.275615",
     "exception": false,
     "start_time": "2025-08-19T18:26:27.262320",
     "status": "completed"
    },
    "tags": []
   },
   "source": [
    "# CP Metrics"
   ]
  },
  {
   "cell_type": "code",
   "execution_count": 46,
   "id": "9de55fb1",
   "metadata": {
    "execution": {
     "iopub.execute_input": "2025-08-19T18:26:27.305860Z",
     "iopub.status.busy": "2025-08-19T18:26:27.303879Z",
     "iopub.status.idle": "2025-08-19T18:26:27.319836Z",
     "shell.execute_reply": "2025-08-19T18:26:27.318650Z"
    },
    "papermill": {
     "duration": 0.034406,
     "end_time": "2025-08-19T18:26:27.321709",
     "exception": false,
     "start_time": "2025-08-19T18:26:27.287303",
     "status": "completed"
    },
    "tags": []
   },
   "outputs": [
    {
     "data": {
      "text/plain": [
       "{'coverage': 0.9100769145022851, 'avg_size': 1.1335302641845948}"
      ]
     },
     "execution_count": 46,
     "metadata": {},
     "output_type": "execute_result"
    }
   ],
   "source": [
    "metrics"
   ]
  },
  {
   "cell_type": "code",
   "execution_count": 47,
   "id": "64c340a1",
   "metadata": {
    "execution": {
     "iopub.execute_input": "2025-08-19T18:26:27.367510Z",
     "iopub.status.busy": "2025-08-19T18:26:27.366369Z",
     "iopub.status.idle": "2025-08-19T18:26:27.375750Z",
     "shell.execute_reply": "2025-08-19T18:26:27.372770Z"
    },
    "papermill": {
     "duration": 0.029273,
     "end_time": "2025-08-19T18:26:27.378401",
     "exception": false,
     "start_time": "2025-08-19T18:26:27.349128",
     "status": "completed"
    },
    "tags": []
   },
   "outputs": [],
   "source": [
    "example_universe = universe.copy()\n",
    "universe_training_year = example_universe.get(\"training_year\")\n",
    "universe_training_size = example_universe.get(\"training_size\")\n",
    "universe_scale = example_universe.get(\"scale\")\n",
    "universe_model = example_universe.get(\"model\")\n",
    "universe_exclude_features = example_universe.get(\"exclude_features\")\n",
    "universe_exclude_subgroups = example_universe.get(\"exclude_subgroups\")"
   ]
  },
  {
   "cell_type": "code",
   "execution_count": 48,
   "id": "dbb53cb4",
   "metadata": {
    "execution": {
     "iopub.execute_input": "2025-08-19T18:26:27.407891Z",
     "iopub.status.busy": "2025-08-19T18:26:27.407507Z",
     "iopub.status.idle": "2025-08-19T18:26:27.414740Z",
     "shell.execute_reply": "2025-08-19T18:26:27.413583Z"
    },
    "papermill": {
     "duration": 0.023376,
     "end_time": "2025-08-19T18:26:27.416360",
     "exception": false,
     "start_time": "2025-08-19T18:26:27.392984",
     "status": "completed"
    },
    "tags": []
   },
   "outputs": [],
   "source": [
    "cp_metrics_dict = {\n",
    "    \"universe_id\": [universe_id],\n",
    "    \"universe_training_year\": [universe_training_year],\n",
    "    \"universe_training_size\": [universe_training_size],\n",
    "    \"universe_scale\": [universe_scale],\n",
    "    \"universe_model\": [universe_model],\n",
    "    \"universe_exclude_features\": [universe_exclude_features],\n",
    "    \"universe_exclude_subgroups\": [universe_exclude_subgroups],\n",
    "    \"q_hat\": [q_hat],\n",
    "    \"coverage\": [metrics[\"coverage\"]],\n",
    "    \"avg_size\": [metrics[\"avg_size\"]],\n",
    "}"
   ]
  },
  {
   "cell_type": "code",
   "execution_count": 49,
   "id": "0d70d4b2",
   "metadata": {
    "execution": {
     "iopub.execute_input": "2025-08-19T18:26:27.458992Z",
     "iopub.status.busy": "2025-08-19T18:26:27.458035Z",
     "iopub.status.idle": "2025-08-19T18:26:27.473217Z",
     "shell.execute_reply": "2025-08-19T18:26:27.470615Z"
    },
    "papermill": {
     "duration": 0.04581,
     "end_time": "2025-08-19T18:26:27.477893",
     "exception": false,
     "start_time": "2025-08-19T18:26:27.432083",
     "status": "completed"
    },
    "tags": []
   },
   "outputs": [],
   "source": [
    "cp_metrics_df = pd.DataFrame(cp_metrics_dict)"
   ]
  },
  {
   "cell_type": "code",
   "execution_count": 50,
   "id": "b494403c",
   "metadata": {
    "execution": {
     "iopub.execute_input": "2025-08-19T18:26:27.505607Z",
     "iopub.status.busy": "2025-08-19T18:26:27.504368Z",
     "iopub.status.idle": "2025-08-19T18:26:27.554421Z",
     "shell.execute_reply": "2025-08-19T18:26:27.542841Z"
    },
    "papermill": {
     "duration": 0.067804,
     "end_time": "2025-08-19T18:26:27.557952",
     "exception": false,
     "start_time": "2025-08-19T18:26:27.490148",
     "status": "completed"
    },
    "tags": []
   },
   "outputs": [
    {
     "data": {
      "text/html": [
       "<div>\n",
       "<style scoped>\n",
       "    .dataframe tbody tr th:only-of-type {\n",
       "        vertical-align: middle;\n",
       "    }\n",
       "\n",
       "    .dataframe tbody tr th {\n",
       "        vertical-align: top;\n",
       "    }\n",
       "\n",
       "    .dataframe thead th {\n",
       "        text-align: right;\n",
       "    }\n",
       "</style>\n",
       "<table border=\"1\" class=\"dataframe\">\n",
       "  <thead>\n",
       "    <tr style=\"text-align: right;\">\n",
       "      <th></th>\n",
       "      <th>universe_id</th>\n",
       "      <th>universe_training_year</th>\n",
       "      <th>universe_training_size</th>\n",
       "      <th>universe_scale</th>\n",
       "      <th>universe_model</th>\n",
       "      <th>universe_exclude_features</th>\n",
       "      <th>universe_exclude_subgroups</th>\n",
       "      <th>q_hat</th>\n",
       "      <th>coverage</th>\n",
       "      <th>avg_size</th>\n",
       "    </tr>\n",
       "  </thead>\n",
       "  <tbody>\n",
       "    <tr>\n",
       "      <th>0</th>\n",
       "      <td>4dad67fa21ec693cebd22d6fe01b64fe</td>\n",
       "      <td>2014</td>\n",
       "      <td>5k</td>\n",
       "      <td>scale</td>\n",
       "      <td>elasticnet</td>\n",
       "      <td>nationality</td>\n",
       "      <td>keep-all</td>\n",
       "      <td>0.683973</td>\n",
       "      <td>0.910077</td>\n",
       "      <td>1.13353</td>\n",
       "    </tr>\n",
       "  </tbody>\n",
       "</table>\n",
       "</div>"
      ],
      "text/plain": [
       "                        universe_id universe_training_year  \\\n",
       "0  4dad67fa21ec693cebd22d6fe01b64fe                   2014   \n",
       "\n",
       "  universe_training_size universe_scale universe_model  \\\n",
       "0                     5k          scale     elasticnet   \n",
       "\n",
       "  universe_exclude_features universe_exclude_subgroups     q_hat  coverage  \\\n",
       "0               nationality                   keep-all  0.683973  0.910077   \n",
       "\n",
       "   avg_size  \n",
       "0   1.13353  "
      ]
     },
     "execution_count": 50,
     "metadata": {},
     "output_type": "execute_result"
    }
   ],
   "source": [
    "cp_metrics_df"
   ]
  },
  {
   "cell_type": "markdown",
   "id": "ed608b0b",
   "metadata": {
    "papermill": {
     "duration": 0.016878,
     "end_time": "2025-08-19T18:26:27.611832",
     "exception": false,
     "start_time": "2025-08-19T18:26:27.594954",
     "status": "completed"
    },
    "tags": []
   },
   "source": [
    "Conditional coverage & looking at subgroups"
   ]
  },
  {
   "cell_type": "code",
   "execution_count": 51,
   "id": "8968c366",
   "metadata": {
    "execution": {
     "iopub.execute_input": "2025-08-19T18:26:27.640755Z",
     "iopub.status.busy": "2025-08-19T18:26:27.639976Z",
     "iopub.status.idle": "2025-08-19T18:26:28.070599Z",
     "shell.execute_reply": "2025-08-19T18:26:28.069575Z"
    },
    "papermill": {
     "duration": 0.447847,
     "end_time": "2025-08-19T18:26:28.072428",
     "exception": false,
     "start_time": "2025-08-19T18:26:27.624581",
     "status": "completed"
    },
    "tags": []
   },
   "outputs": [],
   "source": [
    "from fairness_multiverse.conformal import build_cp_groups\n",
    "\n",
    "cp_groups_df = build_cp_groups(pred_sets, y_true, X_test.index, org_test)"
   ]
  },
  {
   "cell_type": "code",
   "execution_count": 52,
   "id": "292ddabf",
   "metadata": {
    "execution": {
     "iopub.execute_input": "2025-08-19T18:26:28.101570Z",
     "iopub.status.busy": "2025-08-19T18:26:28.101170Z",
     "iopub.status.idle": "2025-08-19T18:26:29.027310Z",
     "shell.execute_reply": "2025-08-19T18:26:29.025687Z"
    },
    "papermill": {
     "duration": 0.94327,
     "end_time": "2025-08-19T18:26:29.029249",
     "exception": false,
     "start_time": "2025-08-19T18:26:28.085979",
     "status": "completed"
    },
    "tags": []
   },
   "outputs": [],
   "source": [
    "# Define covered = 1 if true_label is in the predicted set\n",
    "cp_groups_df['covered'] = cp_groups_df.apply(\n",
    "    lambda r: int(r['true_label'] in r['pred_set']),\n",
    "    axis=1\n",
    ")"
   ]
  },
  {
   "cell_type": "code",
   "execution_count": 53,
   "id": "3a261692",
   "metadata": {
    "execution": {
     "iopub.execute_input": "2025-08-19T18:26:29.057615Z",
     "iopub.status.busy": "2025-08-19T18:26:29.057161Z",
     "iopub.status.idle": "2025-08-19T18:26:29.073294Z",
     "shell.execute_reply": "2025-08-19T18:26:29.072584Z"
    },
    "papermill": {
     "duration": 0.032456,
     "end_time": "2025-08-19T18:26:29.075768",
     "exception": false,
     "start_time": "2025-08-19T18:26:29.043312",
     "status": "completed"
    },
    "tags": []
   },
   "outputs": [],
   "source": [
    "subgroups = ['frau1','nongerman','nongerman_male','nongerman_female']\n",
    "\n",
    "# Conditional coverage for subgroup==1\n",
    "cond_coverage = {\n",
    "    g: cp_groups_df.loc[cp_groups_df[g]==1, 'covered'].mean()\n",
    "    for g in subgroups\n",
    "}"
   ]
  },
  {
   "cell_type": "code",
   "execution_count": 54,
   "id": "894fd600",
   "metadata": {
    "execution": {
     "iopub.execute_input": "2025-08-19T18:26:29.117754Z",
     "iopub.status.busy": "2025-08-19T18:26:29.117347Z",
     "iopub.status.idle": "2025-08-19T18:26:29.123417Z",
     "shell.execute_reply": "2025-08-19T18:26:29.122631Z"
    },
    "papermill": {
     "duration": 0.021581,
     "end_time": "2025-08-19T18:26:29.124513",
     "exception": false,
     "start_time": "2025-08-19T18:26:29.102932",
     "status": "completed"
    },
    "tags": []
   },
   "outputs": [
    {
     "data": {
      "text/plain": [
       "{'frau1': 0.9073460035045154,\n",
       " 'nongerman': 0.909897266041655,\n",
       " 'nongerman_male': 0.9287579933351346,\n",
       " 'nongerman_female': 0.8786885245901639}"
      ]
     },
     "execution_count": 54,
     "metadata": {},
     "output_type": "execute_result"
    }
   ],
   "source": [
    "cond_coverage"
   ]
  },
  {
   "cell_type": "code",
   "execution_count": 55,
   "id": "942895c7",
   "metadata": {
    "execution": {
     "iopub.execute_input": "2025-08-19T18:26:29.151268Z",
     "iopub.status.busy": "2025-08-19T18:26:29.150793Z",
     "iopub.status.idle": "2025-08-19T18:26:29.158531Z",
     "shell.execute_reply": "2025-08-19T18:26:29.157676Z"
    },
    "papermill": {
     "duration": 0.022646,
     "end_time": "2025-08-19T18:26:29.159856",
     "exception": false,
     "start_time": "2025-08-19T18:26:29.137210",
     "status": "completed"
    },
    "tags": []
   },
   "outputs": [],
   "source": [
    "for subgroup, cov in cond_coverage.items():\n",
    "    cp_metrics_df[f\"cov_{subgroup}\"] = cov"
   ]
  },
  {
   "cell_type": "code",
   "execution_count": 56,
   "id": "3970120f",
   "metadata": {
    "execution": {
     "iopub.execute_input": "2025-08-19T18:26:29.192055Z",
     "iopub.status.busy": "2025-08-19T18:26:29.190464Z",
     "iopub.status.idle": "2025-08-19T18:26:29.229211Z",
     "shell.execute_reply": "2025-08-19T18:26:29.228557Z"
    },
    "papermill": {
     "duration": 0.056046,
     "end_time": "2025-08-19T18:26:29.230570",
     "exception": false,
     "start_time": "2025-08-19T18:26:29.174524",
     "status": "completed"
    },
    "tags": []
   },
   "outputs": [
    {
     "data": {
      "text/html": [
       "<div>\n",
       "<style scoped>\n",
       "    .dataframe tbody tr th:only-of-type {\n",
       "        vertical-align: middle;\n",
       "    }\n",
       "\n",
       "    .dataframe tbody tr th {\n",
       "        vertical-align: top;\n",
       "    }\n",
       "\n",
       "    .dataframe thead th {\n",
       "        text-align: right;\n",
       "    }\n",
       "</style>\n",
       "<table border=\"1\" class=\"dataframe\">\n",
       "  <thead>\n",
       "    <tr style=\"text-align: right;\">\n",
       "      <th></th>\n",
       "      <th>universe_id</th>\n",
       "      <th>universe_training_year</th>\n",
       "      <th>universe_training_size</th>\n",
       "      <th>universe_scale</th>\n",
       "      <th>universe_model</th>\n",
       "      <th>universe_exclude_features</th>\n",
       "      <th>universe_exclude_subgroups</th>\n",
       "      <th>q_hat</th>\n",
       "      <th>coverage</th>\n",
       "      <th>avg_size</th>\n",
       "      <th>cov_frau1</th>\n",
       "      <th>cov_nongerman</th>\n",
       "      <th>cov_nongerman_male</th>\n",
       "      <th>cov_nongerman_female</th>\n",
       "    </tr>\n",
       "  </thead>\n",
       "  <tbody>\n",
       "    <tr>\n",
       "      <th>0</th>\n",
       "      <td>4dad67fa21ec693cebd22d6fe01b64fe</td>\n",
       "      <td>2014</td>\n",
       "      <td>5k</td>\n",
       "      <td>scale</td>\n",
       "      <td>elasticnet</td>\n",
       "      <td>nationality</td>\n",
       "      <td>keep-all</td>\n",
       "      <td>0.683973</td>\n",
       "      <td>0.910077</td>\n",
       "      <td>1.13353</td>\n",
       "      <td>0.907346</td>\n",
       "      <td>0.909897</td>\n",
       "      <td>0.928758</td>\n",
       "      <td>0.878689</td>\n",
       "    </tr>\n",
       "  </tbody>\n",
       "</table>\n",
       "</div>"
      ],
      "text/plain": [
       "                        universe_id universe_training_year  \\\n",
       "0  4dad67fa21ec693cebd22d6fe01b64fe                   2014   \n",
       "\n",
       "  universe_training_size universe_scale universe_model  \\\n",
       "0                     5k          scale     elasticnet   \n",
       "\n",
       "  universe_exclude_features universe_exclude_subgroups     q_hat  coverage  \\\n",
       "0               nationality                   keep-all  0.683973  0.910077   \n",
       "\n",
       "   avg_size  cov_frau1  cov_nongerman  cov_nongerman_male  \\\n",
       "0   1.13353   0.907346       0.909897            0.928758   \n",
       "\n",
       "   cov_nongerman_female  \n",
       "0              0.878689  "
      ]
     },
     "execution_count": 56,
     "metadata": {},
     "output_type": "execute_result"
    }
   ],
   "source": [
    "cp_metrics_df"
   ]
  },
  {
   "cell_type": "markdown",
   "id": "3fc519cc",
   "metadata": {
    "papermill": {
     "duration": 0.01239,
     "end_time": "2025-08-19T18:26:29.257703",
     "exception": false,
     "start_time": "2025-08-19T18:26:29.245313",
     "status": "completed"
    },
    "tags": []
   },
   "source": [
    "# (Fairness) Metrics"
   ]
  },
  {
   "cell_type": "code",
   "execution_count": 57,
   "id": "a2e5e155",
   "metadata": {
    "execution": {
     "iopub.execute_input": "2025-08-19T18:26:29.285632Z",
     "iopub.status.busy": "2025-08-19T18:26:29.284497Z",
     "iopub.status.idle": "2025-08-19T18:26:29.338741Z",
     "shell.execute_reply": "2025-08-19T18:26:29.337875Z"
    },
    "papermill": {
     "duration": 0.070001,
     "end_time": "2025-08-19T18:26:29.340254",
     "exception": false,
     "start_time": "2025-08-19T18:26:29.270253",
     "status": "completed"
    },
    "tags": []
   },
   "outputs": [],
   "source": [
    "colname_to_bin = \"maxdeutsch1\"\n",
    "majority_value = org_train[colname_to_bin].mode()[0]\n",
    "\n",
    "org_test[\"majmin\"] = np.where(org_test[colname_to_bin] == majority_value, \"majority\", \"minority\")"
   ]
  },
  {
   "cell_type": "code",
   "execution_count": 58,
   "id": "17e3e4d5",
   "metadata": {
    "execution": {
     "iopub.execute_input": "2025-08-19T18:26:29.369385Z",
     "iopub.status.busy": "2025-08-19T18:26:29.368785Z",
     "iopub.status.idle": "2025-08-19T18:26:31.214155Z",
     "shell.execute_reply": "2025-08-19T18:26:31.212832Z"
    },
    "papermill": {
     "duration": 1.861323,
     "end_time": "2025-08-19T18:26:31.215925",
     "exception": false,
     "start_time": "2025-08-19T18:26:29.354602",
     "status": "completed"
    },
    "tags": []
   },
   "outputs": [],
   "source": [
    "example_universe = universe.copy()\n",
    "example_universe[\"cutoff\"] = example_universe[\"cutoff\"][0]\n",
    "example_universe[\"eval_fairness_grouping\"] = example_universe[\"eval_fairness_grouping\"][0]\n",
    "fairness_dict, metric_frame = universe_analysis.compute_metrics(\n",
    "    example_universe,\n",
    "    y_pred_prob=probs_test,\n",
    "    y_test=y_true,\n",
    "    org_test=org_test,\n",
    ")"
   ]
  },
  {
   "cell_type": "markdown",
   "id": "1fb7a0e9",
   "metadata": {
    "papermill": {
     "duration": 0.012471,
     "end_time": "2025-08-19T18:26:31.241481",
     "exception": false,
     "start_time": "2025-08-19T18:26:31.229010",
     "status": "completed"
    },
    "tags": []
   },
   "source": [
    "# Overall"
   ]
  },
  {
   "cell_type": "markdown",
   "id": "be1784b1",
   "metadata": {
    "papermill": {
     "duration": 0.012788,
     "end_time": "2025-08-19T18:26:31.344143",
     "exception": false,
     "start_time": "2025-08-19T18:26:31.331355",
     "status": "completed"
    },
    "tags": []
   },
   "source": [
    "Main fairness target: Equalized Odds. Seems to be a better fit than equal opportunity, since we're not only interested in Y = 1. Seems to be a better fit than demographic parity, since we also care about accuracy, not just equal distribution of preds.\n",
    "\n",
    "Pick column for computation of fairness metrics\n",
    "\n",
    "Performance\n",
    "Overall performance measures, most interesting in relation to the measures split by group below"
   ]
  },
  {
   "cell_type": "code",
   "execution_count": 59,
   "id": "b7672bee",
   "metadata": {
    "execution": {
     "iopub.execute_input": "2025-08-19T18:26:31.371950Z",
     "iopub.status.busy": "2025-08-19T18:26:31.371526Z",
     "iopub.status.idle": "2025-08-19T18:26:31.382186Z",
     "shell.execute_reply": "2025-08-19T18:26:31.381519Z"
    },
    "papermill": {
     "duration": 0.026041,
     "end_time": "2025-08-19T18:26:31.383400",
     "exception": false,
     "start_time": "2025-08-19T18:26:31.357359",
     "status": "completed"
    },
    "tags": []
   },
   "outputs": [
    {
     "data": {
      "text/plain": [
       "accuracy                   0.224423\n",
       "balanced accuracy          0.548735\n",
       "f1                         0.245753\n",
       "precision                  0.140391\n",
       "false positive rate        0.887496\n",
       "false negative rate        0.015033\n",
       "selection rate             0.900000\n",
       "count                  89710.000000\n",
       "dtype: float64"
      ]
     },
     "execution_count": 59,
     "metadata": {},
     "output_type": "execute_result"
    }
   ],
   "source": [
    "metric_frame.overall"
   ]
  },
  {
   "cell_type": "markdown",
   "id": "d93333c9",
   "metadata": {
    "papermill": {
     "duration": 0.012895,
     "end_time": "2025-08-19T18:26:31.412768",
     "exception": false,
     "start_time": "2025-08-19T18:26:31.399873",
     "status": "completed"
    },
    "tags": []
   },
   "source": [
    "By Group"
   ]
  },
  {
   "cell_type": "code",
   "execution_count": 60,
   "id": "52256966",
   "metadata": {
    "execution": {
     "iopub.execute_input": "2025-08-19T18:26:31.440943Z",
     "iopub.status.busy": "2025-08-19T18:26:31.439874Z",
     "iopub.status.idle": "2025-08-19T18:26:31.463521Z",
     "shell.execute_reply": "2025-08-19T18:26:31.462701Z"
    },
    "papermill": {
     "duration": 0.039737,
     "end_time": "2025-08-19T18:26:31.465250",
     "exception": false,
     "start_time": "2025-08-19T18:26:31.425513",
     "status": "completed"
    },
    "tags": []
   },
   "outputs": [
    {
     "data": {
      "text/html": [
       "<div>\n",
       "<style scoped>\n",
       "    .dataframe tbody tr th:only-of-type {\n",
       "        vertical-align: middle;\n",
       "    }\n",
       "\n",
       "    .dataframe tbody tr th {\n",
       "        vertical-align: top;\n",
       "    }\n",
       "\n",
       "    .dataframe thead th {\n",
       "        text-align: right;\n",
       "    }\n",
       "</style>\n",
       "<table border=\"1\" class=\"dataframe\">\n",
       "  <thead>\n",
       "    <tr style=\"text-align: right;\">\n",
       "      <th></th>\n",
       "      <th>accuracy</th>\n",
       "      <th>balanced accuracy</th>\n",
       "      <th>f1</th>\n",
       "      <th>precision</th>\n",
       "      <th>false positive rate</th>\n",
       "      <th>false negative rate</th>\n",
       "      <th>selection rate</th>\n",
       "      <th>count</th>\n",
       "    </tr>\n",
       "    <tr>\n",
       "      <th>majmin</th>\n",
       "      <th></th>\n",
       "      <th></th>\n",
       "      <th></th>\n",
       "      <th></th>\n",
       "      <th></th>\n",
       "      <th></th>\n",
       "      <th></th>\n",
       "      <th></th>\n",
       "    </tr>\n",
       "  </thead>\n",
       "  <tbody>\n",
       "    <tr>\n",
       "      <th>majority</th>\n",
       "      <td>0.241824</td>\n",
       "      <td>0.55684</td>\n",
       "      <td>0.255589</td>\n",
       "      <td>0.146846</td>\n",
       "      <td>0.871331</td>\n",
       "      <td>0.014989</td>\n",
       "      <td>0.886352</td>\n",
       "      <td>69170.0</td>\n",
       "    </tr>\n",
       "    <tr>\n",
       "      <th>minority</th>\n",
       "      <td>0.165823</td>\n",
       "      <td>0.52195</td>\n",
       "      <td>0.213965</td>\n",
       "      <td>0.120021</td>\n",
       "      <td>0.940898</td>\n",
       "      <td>0.015203</td>\n",
       "      <td>0.945959</td>\n",
       "      <td>20540.0</td>\n",
       "    </tr>\n",
       "  </tbody>\n",
       "</table>\n",
       "</div>"
      ],
      "text/plain": [
       "          accuracy  balanced accuracy        f1  precision  \\\n",
       "majmin                                                       \n",
       "majority  0.241824            0.55684  0.255589   0.146846   \n",
       "minority  0.165823            0.52195  0.213965   0.120021   \n",
       "\n",
       "          false positive rate  false negative rate  selection rate    count  \n",
       "majmin                                                                       \n",
       "majority             0.871331             0.014989        0.886352  69170.0  \n",
       "minority             0.940898             0.015203        0.945959  20540.0  "
      ]
     },
     "execution_count": 60,
     "metadata": {},
     "output_type": "execute_result"
    }
   ],
   "source": [
    "metric_frame.by_group"
   ]
  },
  {
   "cell_type": "code",
   "execution_count": 61,
   "id": "6e6c20ae",
   "metadata": {
    "execution": {
     "iopub.execute_input": "2025-08-19T18:26:31.505924Z",
     "iopub.status.busy": "2025-08-19T18:26:31.504372Z",
     "iopub.status.idle": "2025-08-19T18:26:33.587595Z",
     "shell.execute_reply": "2025-08-19T18:26:33.586629Z"
    },
    "papermill": {
     "duration": 2.099868,
     "end_time": "2025-08-19T18:26:33.589186",
     "exception": false,
     "start_time": "2025-08-19T18:26:31.489318",
     "status": "completed"
    },
    "tags": []
   },
   "outputs": [
    {
     "data": {
      "text/plain": [
       "array([[<Axes: title={'center': 'accuracy'}, xlabel='majmin'>,\n",
       "        <Axes: title={'center': 'balanced accuracy'}, xlabel='majmin'>,\n",
       "        <Axes: title={'center': 'f1'}, xlabel='majmin'>],\n",
       "       [<Axes: title={'center': 'precision'}, xlabel='majmin'>,\n",
       "        <Axes: title={'center': 'false positive rate'}, xlabel='majmin'>,\n",
       "        <Axes: title={'center': 'false negative rate'}, xlabel='majmin'>],\n",
       "       [<Axes: title={'center': 'selection rate'}, xlabel='majmin'>,\n",
       "        <Axes: title={'center': 'count'}, xlabel='majmin'>,\n",
       "        <Axes: xlabel='majmin'>]], dtype=object)"
      ]
     },
     "execution_count": 61,
     "metadata": {},
     "output_type": "execute_result"
    },
    {
     "data": {
      "image/png": "[encoded data removed]",
      "text/plain": [
       "<Figure size 1200x800 with 9 Axes>"
      ]
     },
     "metadata": {},
     "output_type": "display_data"
    }
   ],
   "source": [
    "# In a graphic\n",
    "metric_frame.by_group.plot.bar(\n",
    "    subplots=True,\n",
    "    layout=[3, 3],\n",
    "    legend=False,\n",
    "    figsize=[12, 8],\n",
    "    title=\"Show all metrics\",\n",
    ")"
   ]
  },
  {
   "cell_type": "markdown",
   "id": "b2e433ae",
   "metadata": {
    "papermill": {
     "duration": 0.023674,
     "end_time": "2025-08-19T18:26:33.631228",
     "exception": false,
     "start_time": "2025-08-19T18:26:33.607554",
     "status": "completed"
    },
    "tags": []
   },
   "source": [
    "# Final Output"
   ]
  },
  {
   "cell_type": "code",
   "execution_count": 62,
   "id": "3871301e",
   "metadata": {
    "execution": {
     "iopub.execute_input": "2025-08-19T18:26:33.661664Z",
     "iopub.status.busy": "2025-08-19T18:26:33.660572Z",
     "iopub.status.idle": "2025-08-19T18:26:33.673309Z",
     "shell.execute_reply": "2025-08-19T18:26:33.672453Z"
    },
    "papermill": {
     "duration": 0.029706,
     "end_time": "2025-08-19T18:26:33.674728",
     "exception": false,
     "start_time": "2025-08-19T18:26:33.645022",
     "status": "completed"
    },
    "tags": []
   },
   "outputs": [
    {
     "data": {
      "text/plain": [
       "4"
      ]
     },
     "execution_count": 62,
     "metadata": {},
     "output_type": "execute_result"
    }
   ],
   "source": [
    "sub_universes = universe_analysis.generate_sub_universes()\n",
    "len(sub_universes)"
   ]
  },
  {
   "cell_type": "code",
   "execution_count": 63,
   "id": "d9cfdaca",
   "metadata": {
    "execution": {
     "iopub.execute_input": "2025-08-19T18:26:33.714001Z",
     "iopub.status.busy": "2025-08-19T18:26:33.708434Z",
     "iopub.status.idle": "2025-08-19T18:26:33.734425Z",
     "shell.execute_reply": "2025-08-19T18:26:33.733484Z"
    },
    "papermill": {
     "duration": 0.044556,
     "end_time": "2025-08-19T18:26:33.736865",
     "exception": false,
     "start_time": "2025-08-19T18:26:33.692309",
     "status": "completed"
    },
    "tags": []
   },
   "outputs": [],
   "source": [
    "def filter_sub_universe_data(sub_universe, org_test):\n",
    "    # Keep all rows — no filtering\n",
    "    keep_rows_mask = np.ones(org_test.shape[0], dtype=bool)\n",
    "\n",
    "    print(f\"[INFO] Keeping all rows: {keep_rows_mask.sum()} rows retained.\")\n",
    "    return keep_rows_mask"
   ]
  },
  {
   "cell_type": "code",
   "execution_count": 64,
   "id": "2bc31ac1",
   "metadata": {
    "execution": {
     "iopub.execute_input": "2025-08-19T18:26:33.775011Z",
     "iopub.status.busy": "2025-08-19T18:26:33.774159Z",
     "iopub.status.idle": "2025-08-19T18:26:40.735079Z",
     "shell.execute_reply": "2025-08-19T18:26:40.734078Z"
    },
    "papermill": {
     "duration": 6.985559,
     "end_time": "2025-08-19T18:26:40.741939",
     "exception": false,
     "start_time": "2025-08-19T18:26:33.756380",
     "status": "completed"
    },
    "tags": []
   },
   "outputs": [
    {
     "name": "stdout",
     "output_type": "stream",
     "text": [
      "Stopping execution_time clock.\n",
      "[INFO] Keeping all rows: 89710 rows retained.\n"
     ]
    },
    {
     "name": "stdout",
     "output_type": "stream",
     "text": [
      "[INFO] Keeping all rows: 89710 rows retained.\n"
     ]
    },
    {
     "name": "stdout",
     "output_type": "stream",
     "text": [
      "[INFO] Keeping all rows: 89710 rows retained.\n"
     ]
    },
    {
     "name": "stdout",
     "output_type": "stream",
     "text": [
      "[INFO] Keeping all rows: 89710 rows retained.\n"
     ]
    },
    {
     "data": {
      "text/html": [
       "<div>\n",
       "<style scoped>\n",
       "    .dataframe tbody tr th:only-of-type {\n",
       "        vertical-align: middle;\n",
       "    }\n",
       "\n",
       "    .dataframe tbody tr th {\n",
       "        vertical-align: top;\n",
       "    }\n",
       "\n",
       "    .dataframe thead th {\n",
       "        text-align: right;\n",
       "    }\n",
       "</style>\n",
       "<table border=\"1\" class=\"dataframe\">\n",
       "  <thead>\n",
       "    <tr style=\"text-align: right;\">\n",
       "      <th></th>\n",
       "      <th>run_no</th>\n",
       "      <th>universe_id</th>\n",
       "      <th>universe_settings</th>\n",
       "      <th>execution_time</th>\n",
       "      <th>test_size_n</th>\n",
       "      <th>test_size_frac</th>\n",
       "      <th>fair_main_equalized_odds_difference</th>\n",
       "      <th>fair_main_equalized_odds_ratio</th>\n",
       "      <th>fair_main_demographic_parity_difference</th>\n",
       "      <th>fair_main_demographic_parity_ratio</th>\n",
       "      <th>...</th>\n",
       "      <th>perf_grp_precision_0</th>\n",
       "      <th>perf_grp_precision_1</th>\n",
       "      <th>perf_grp_false positive rate_0</th>\n",
       "      <th>perf_grp_false positive rate_1</th>\n",
       "      <th>perf_grp_false negative rate_0</th>\n",
       "      <th>perf_grp_false negative rate_1</th>\n",
       "      <th>perf_grp_selection rate_0</th>\n",
       "      <th>perf_grp_selection rate_1</th>\n",
       "      <th>perf_grp_count_0</th>\n",
       "      <th>perf_grp_count_1</th>\n",
       "    </tr>\n",
       "  </thead>\n",
       "  <tbody>\n",
       "    <tr>\n",
       "      <th>0</th>\n",
       "      <td>3</td>\n",
       "      <td>4dad67fa21ec693cebd22d6fe01b64fe</td>\n",
       "      <td>{\"cutoff\": \"quantile_0.1\", \"eval_fairness_grou...</td>\n",
       "      <td>23.007853</td>\n",
       "      <td>89710</td>\n",
       "      <td>1.0</td>\n",
       "      <td>0.069567</td>\n",
       "      <td>0.926063</td>\n",
       "      <td>0.059607</td>\n",
       "      <td>0.936988</td>\n",
       "      <td>...</td>\n",
       "      <td>NaN</td>\n",
       "      <td>NaN</td>\n",
       "      <td>NaN</td>\n",
       "      <td>NaN</td>\n",
       "      <td>NaN</td>\n",
       "      <td>NaN</td>\n",
       "      <td>NaN</td>\n",
       "      <td>NaN</td>\n",
       "      <td>NaN</td>\n",
       "      <td>NaN</td>\n",
       "    </tr>\n",
       "    <tr>\n",
       "      <th>0</th>\n",
       "      <td>3</td>\n",
       "      <td>4dad67fa21ec693cebd22d6fe01b64fe</td>\n",
       "      <td>{\"cutoff\": \"quantile_0.1\", \"eval_fairness_grou...</td>\n",
       "      <td>23.007853</td>\n",
       "      <td>89710</td>\n",
       "      <td>1.0</td>\n",
       "      <td>0.069567</td>\n",
       "      <td>0.926063</td>\n",
       "      <td>0.059607</td>\n",
       "      <td>0.936988</td>\n",
       "      <td>...</td>\n",
       "      <td>0.120021</td>\n",
       "      <td>0.146846</td>\n",
       "      <td>0.940898</td>\n",
       "      <td>0.871331</td>\n",
       "      <td>0.015203</td>\n",
       "      <td>0.014989</td>\n",
       "      <td>0.945959</td>\n",
       "      <td>0.886352</td>\n",
       "      <td>20540.0</td>\n",
       "      <td>69170.0</td>\n",
       "    </tr>\n",
       "    <tr>\n",
       "      <th>0</th>\n",
       "      <td>3</td>\n",
       "      <td>4dad67fa21ec693cebd22d6fe01b64fe</td>\n",
       "      <td>{\"cutoff\": \"quantile_0.25\", \"eval_fairness_gro...</td>\n",
       "      <td>23.007853</td>\n",
       "      <td>89710</td>\n",
       "      <td>1.0</td>\n",
       "      <td>0.145601</td>\n",
       "      <td>0.825447</td>\n",
       "      <td>0.125724</td>\n",
       "      <td>0.851554</td>\n",
       "      <td>...</td>\n",
       "      <td>NaN</td>\n",
       "      <td>NaN</td>\n",
       "      <td>NaN</td>\n",
       "      <td>NaN</td>\n",
       "      <td>NaN</td>\n",
       "      <td>NaN</td>\n",
       "      <td>NaN</td>\n",
       "      <td>NaN</td>\n",
       "      <td>NaN</td>\n",
       "      <td>NaN</td>\n",
       "    </tr>\n",
       "    <tr>\n",
       "      <th>0</th>\n",
       "      <td>3</td>\n",
       "      <td>4dad67fa21ec693cebd22d6fe01b64fe</td>\n",
       "      <td>{\"cutoff\": \"quantile_0.25\", \"eval_fairness_gro...</td>\n",
       "      <td>23.007853</td>\n",
       "      <td>89710</td>\n",
       "      <td>1.0</td>\n",
       "      <td>0.145601</td>\n",
       "      <td>0.825447</td>\n",
       "      <td>0.125724</td>\n",
       "      <td>0.851554</td>\n",
       "      <td>...</td>\n",
       "      <td>0.128650</td>\n",
       "      <td>0.171451</td>\n",
       "      <td>0.834140</td>\n",
       "      <td>0.688539</td>\n",
       "      <td>0.054899</td>\n",
       "      <td>0.064223</td>\n",
       "      <td>0.846933</td>\n",
       "      <td>0.721209</td>\n",
       "      <td>20540.0</td>\n",
       "      <td>69170.0</td>\n",
       "    </tr>\n",
       "  </tbody>\n",
       "</table>\n",
       "<p>4 rows × 50 columns</p>\n",
       "</div>"
      ],
      "text/plain": [
       "  run_no                       universe_id  \\\n",
       "0      3  4dad67fa21ec693cebd22d6fe01b64fe   \n",
       "0      3  4dad67fa21ec693cebd22d6fe01b64fe   \n",
       "0      3  4dad67fa21ec693cebd22d6fe01b64fe   \n",
       "0      3  4dad67fa21ec693cebd22d6fe01b64fe   \n",
       "\n",
       "                                   universe_settings  execution_time  \\\n",
       "0  {\"cutoff\": \"quantile_0.1\", \"eval_fairness_grou...       23.007853   \n",
       "0  {\"cutoff\": \"quantile_0.1\", \"eval_fairness_grou...       23.007853   \n",
       "0  {\"cutoff\": \"quantile_0.25\", \"eval_fairness_gro...       23.007853   \n",
       "0  {\"cutoff\": \"quantile_0.25\", \"eval_fairness_gro...       23.007853   \n",
       "\n",
       "   test_size_n  test_size_frac  fair_main_equalized_odds_difference  \\\n",
       "0        89710             1.0                             0.069567   \n",
       "0        89710             1.0                             0.069567   \n",
       "0        89710             1.0                             0.145601   \n",
       "0        89710             1.0                             0.145601   \n",
       "\n",
       "   fair_main_equalized_odds_ratio  fair_main_demographic_parity_difference  \\\n",
       "0                        0.926063                                 0.059607   \n",
       "0                        0.926063                                 0.059607   \n",
       "0                        0.825447                                 0.125724   \n",
       "0                        0.825447                                 0.125724   \n",
       "\n",
       "   fair_main_demographic_parity_ratio  ...  perf_grp_precision_0  \\\n",
       "0                            0.936988  ...                   NaN   \n",
       "0                            0.936988  ...              0.120021   \n",
       "0                            0.851554  ...                   NaN   \n",
       "0                            0.851554  ...              0.128650   \n",
       "\n",
       "   perf_grp_precision_1  perf_grp_false positive rate_0  \\\n",
       "0                   NaN                             NaN   \n",
       "0              0.146846                        0.940898   \n",
       "0                   NaN                             NaN   \n",
       "0              0.171451                        0.834140   \n",
       "\n",
       "   perf_grp_false positive rate_1  perf_grp_false negative rate_0  \\\n",
       "0                             NaN                             NaN   \n",
       "0                        0.871331                        0.015203   \n",
       "0                             NaN                             NaN   \n",
       "0                        0.688539                        0.054899   \n",
       "\n",
       "   perf_grp_false negative rate_1  perf_grp_selection rate_0  \\\n",
       "0                             NaN                        NaN   \n",
       "0                        0.014989                   0.945959   \n",
       "0                             NaN                        NaN   \n",
       "0                        0.064223                   0.846933   \n",
       "\n",
       "   perf_grp_selection rate_1  perf_grp_count_0  perf_grp_count_1  \n",
       "0                        NaN               NaN               NaN  \n",
       "0                   0.886352           20540.0           69170.0  \n",
       "0                        NaN               NaN               NaN  \n",
       "0                   0.721209           20540.0           69170.0  \n",
       "\n",
       "[4 rows x 50 columns]"
      ]
     },
     "execution_count": 64,
     "metadata": {},
     "output_type": "execute_result"
    }
   ],
   "source": [
    "final_output = universe_analysis.generate_final_output(\n",
    "    y_pred_prob=probs_test,\n",
    "    y_test=y_true,\n",
    "    org_test=org_test,\n",
    "    filter_data=filter_sub_universe_data,\n",
    "    cp_metrics_df=cp_metrics_df,\n",
    "    save=True,\n",
    ")\n",
    "final_output"
   ]
  },
  {
   "cell_type": "code",
   "execution_count": null,
   "id": "8b80a1ff",
   "metadata": {
    "papermill": {
     "duration": 0.014321,
     "end_time": "2025-08-19T18:26:40.774621",
     "exception": false,
     "start_time": "2025-08-19T18:26:40.760300",
     "status": "completed"
    },
    "tags": []
   },
   "outputs": [],
   "source": []
  },
  {
   "cell_type": "code",
   "execution_count": null,
   "id": "275c9fad",
   "metadata": {
    "papermill": {
     "duration": 0.014135,
     "end_time": "2025-08-19T18:26:40.803200",
     "exception": false,
     "start_time": "2025-08-19T18:26:40.789065",
     "status": "completed"
    },
    "tags": []
   },
   "outputs": [],
   "source": []
  }
 ],
 "metadata": {
  "celltoolbar": "Tags",
  "kernelspec": {
   "display_name": "Python (CMA Fairness)",
   "language": "python",
   "name": "cma_fair_env"
  },
  "language_info": {
   "codemirror_mode": {
    "name": "ipython",
    "version": 3
   },
   "file_extension": ".py",
   "mimetype": "text/x-python",
   "name": "python",
   "nbconvert_exporter": "python",
   "pygments_lexer": "ipython3",
   "version": "3.10.12"
  },
  "papermill": {
   "default_parameters": {},
   "duration": 33.672791,
   "end_time": "2025-08-19T18:26:41.639354",
   "environment_variables": {},
   "exception": null,
   "input_path": "universe_analysis.ipynb",
   "output_path": "output/runs/3/notebooks/m_3-4dad67fa21ec693cebd22d6fe01b64fe.ipynb",
   "parameters": {
    "output_dir": "output",
    "run_no": "3",
    "seed": "2023",
    "universe": "{\"cutoff\": [\"quantile_0.1\", \"quantile_0.25\"], \"eval_fairness_grouping\": [\"majority-minority\", \"nationality-all\"], \"exclude_features\": \"nationality\", \"exclude_subgroups\": \"keep-all\", \"model\": \"elasticnet\", \"scale\": \"scale\", \"training_size\": \"5k\", \"training_year\": \"2014\"}",
    "universe_id": "4dad67fa21ec693cebd22d6fe01b64fe"
   },
   "start_time": "2025-08-19T18:26:07.966563",
   "version": "2.6.0"
  }
 },
 "nbformat": 4,
 "nbformat_minor": 5
}