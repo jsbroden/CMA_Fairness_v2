{
 "cells": [
  {
   "cell_type": "markdown",
   "id": "ef23dbb3",
   "metadata": {
    "papermill": {
     "duration": 0.021946,
     "end_time": "2025-08-19T18:31:51.856150",
     "exception": false,
     "start_time": "2025-08-19T18:31:51.834204",
     "status": "completed"
    },
    "tags": []
   },
   "source": [
    "# Setup"
   ]
  },
  {
   "cell_type": "code",
   "execution_count": 1,
   "id": "0bc8e7dc",
   "metadata": {
    "execution": {
     "iopub.execute_input": "2025-08-19T18:31:51.878431Z",
     "iopub.status.busy": "2025-08-19T18:31:51.877939Z",
     "iopub.status.idle": "2025-08-19T18:31:51.887954Z",
     "shell.execute_reply": "2025-08-19T18:31:51.887120Z"
    },
    "papermill": {
     "duration": 0.022564,
     "end_time": "2025-08-19T18:31:51.890383",
     "exception": false,
     "start_time": "2025-08-19T18:31:51.867819",
     "status": "completed"
    },
    "tags": []
   },
   "outputs": [
    {
     "name": "stdout",
     "output_type": "stream",
     "text": [
      "/dss/dsshome1/0C/ra93lal2/cma/CMA_Fairness_v2\n"
     ]
    },
    {
     "name": "stderr",
     "output_type": "stream",
     "text": [
      "/dss/dsshome1/0C/ra93lal2/.local/share/virtualenvs/CMA_Fairness_v2-3j10GkSs/lib/python3.10/site-packages/IPython/core/magics/osm.py:393: UserWarning: This is now an optional IPython functionality, using bookmarks requires you to install the `pickleshare` library.\n",
      "  bkms = self.shell.db.get('bookmarks', {})\n",
      "/dss/dsshome1/0C/ra93lal2/.local/share/virtualenvs/CMA_Fairness_v2-3j10GkSs/lib/python3.10/site-packages/IPython/core/magics/osm.py:417: UserWarning: This is now an optional IPython functionality, setting dhist requires you to install the `pickleshare` library.\n",
      "  self.shell.db['dhist'] = compress_dhist(dhist)[-100:]\n"
     ]
    }
   ],
   "source": [
    "%cd ~/cma/CMA_Fairness_v2"
   ]
  },
  {
   "cell_type": "markdown",
   "id": "9d235661",
   "metadata": {
    "papermill": {
     "duration": 0.008823,
     "end_time": "2025-08-19T18:31:51.908962",
     "exception": false,
     "start_time": "2025-08-19T18:31:51.900139",
     "status": "completed"
    },
    "tags": []
   },
   "source": [
    "The following cell holds the definition of our parameters, these values can be overriden by rendering the with e.g. the following command:\n",
    "\n",
    "papermill -p alpha 0.2 -p ratio 0.3 universe_analysis.ipynb output/test_run.ipynb"
   ]
  },
  {
   "cell_type": "code",
   "execution_count": 2,
   "id": "4a789d8e",
   "metadata": {
    "execution": {
     "iopub.execute_input": "2025-08-19T18:31:51.929201Z",
     "iopub.status.busy": "2025-08-19T18:31:51.928104Z",
     "iopub.status.idle": "2025-08-19T18:31:51.935240Z",
     "shell.execute_reply": "2025-08-19T18:31:51.933966Z"
    },
    "papermill": {
     "duration": 0.019136,
     "end_time": "2025-08-19T18:31:51.936873",
     "exception": false,
     "start_time": "2025-08-19T18:31:51.917737",
     "status": "completed"
    },
    "tags": []
   },
   "outputs": [
    {
     "name": "stdout",
     "output_type": "stream",
     "text": [
      "Current working directory: /dss/dsshome1/0C/ra93lal2/cma/CMA_Fairness_v2\n"
     ]
    }
   ],
   "source": [
    "import os\n",
    "print(\"Current working directory:\", os.getcwd())"
   ]
  },
  {
   "cell_type": "code",
   "execution_count": 3,
   "id": "4132aaed",
   "metadata": {
    "execution": {
     "iopub.execute_input": "2025-08-19T18:31:51.958063Z",
     "iopub.status.busy": "2025-08-19T18:31:51.957057Z",
     "iopub.status.idle": "2025-08-19T18:31:52.031922Z",
     "shell.execute_reply": "2025-08-19T18:31:52.029763Z"
    },
    "papermill": {
     "duration": 0.089449,
     "end_time": "2025-08-19T18:31:52.035816",
     "exception": false,
     "start_time": "2025-08-19T18:31:51.946367",
     "status": "completed"
    },
    "tags": [
     "parameters"
    ]
   },
   "outputs": [],
   "source": [
    "run_no = 0\n",
    "universe_id = \"test\"\n",
    "universe = {\n",
    "    \"training_size\": \"5k\", # \"25k\", \"5k\", \"1k\"\n",
    "    \"training_year\": \"2012_14\", # \"2014\", \"2012_14\", \"2010_14\"\n",
    "    \"scale\": \"scale\", # \"scale\", \"do-not-scale\",\n",
    "    \"model\": \"elasticnet\", # \"logreg\", \"penalized_logreg\", \"rf\", \"gbm\", \"elasticnet\"\n",
    "    \"cutoff\": [\"quantile_0.15\", \"quantile_0.30\"],\n",
    "    \"exclude_features\": \"age\", # \"none\", \"nationality\", \"sex\", \"nationality-sex\", \"age\"\n",
    "    \"exclude_subgroups\": \"drop-non-german\", # \"keep-all\", \"drop-non-german\"\n",
    "    \"eval_fairness_grouping\": [\"majority-minority\", \"nationality-all\"]\n",
    "}\n",
    "\n",
    "output_dir=\"./output\"\n",
    "seed=0"
   ]
  },
  {
   "cell_type": "code",
   "execution_count": 4,
   "id": "ffb6a156",
   "metadata": {
    "execution": {
     "iopub.execute_input": "2025-08-19T18:31:52.185063Z",
     "iopub.status.busy": "2025-08-19T18:31:52.183877Z",
     "iopub.status.idle": "2025-08-19T18:31:52.192771Z",
     "shell.execute_reply": "2025-08-19T18:31:52.191148Z"
    },
    "papermill": {
     "duration": 0.137491,
     "end_time": "2025-08-19T18:31:52.194457",
     "exception": false,
     "start_time": "2025-08-19T18:31:52.056966",
     "status": "completed"
    },
    "tags": [
     "injected-parameters"
    ]
   },
   "outputs": [],
   "source": [
    "# Parameters\n",
    "universe_id = \"f4c07542acb425fb85126c625365f92e\"\n",
    "run_no = \"3\"\n",
    "universe = \"{\\\"cutoff\\\": [\\\"quantile_0.1\\\", \\\"quantile_0.25\\\"], \\\"eval_fairness_grouping\\\": [\\\"majority-minority\\\", \\\"nationality-all\\\"], \\\"exclude_features\\\": \\\"nationality\\\", \\\"exclude_subgroups\\\": \\\"keep-all\\\", \\\"model\\\": \\\"penalized_logreg\\\", \\\"scale\\\": \\\"scale\\\", \\\"training_size\\\": \\\"5k\\\", \\\"training_year\\\": \\\"2012_14\\\"}\"\n",
    "output_dir = \"output\"\n",
    "seed = \"2023\"\n"
   ]
  },
  {
   "cell_type": "code",
   "execution_count": 5,
   "id": "a5d7941f",
   "metadata": {
    "execution": {
     "iopub.execute_input": "2025-08-19T18:31:52.218597Z",
     "iopub.status.busy": "2025-08-19T18:31:52.217248Z",
     "iopub.status.idle": "2025-08-19T18:31:52.225610Z",
     "shell.execute_reply": "2025-08-19T18:31:52.224125Z"
    },
    "papermill": {
     "duration": 0.020742,
     "end_time": "2025-08-19T18:31:52.227191",
     "exception": false,
     "start_time": "2025-08-19T18:31:52.206449",
     "status": "completed"
    },
    "tags": []
   },
   "outputs": [],
   "source": [
    "import json\n",
    "if isinstance(universe, str):\n",
    "    universe = json.loads(universe)"
   ]
  },
  {
   "cell_type": "code",
   "execution_count": 6,
   "id": "7076ccb1",
   "metadata": {
    "execution": {
     "iopub.execute_input": "2025-08-19T18:31:52.251431Z",
     "iopub.status.busy": "2025-08-19T18:31:52.250269Z",
     "iopub.status.idle": "2025-08-19T18:31:52.299419Z",
     "shell.execute_reply": "2025-08-19T18:31:52.298794Z"
    },
    "papermill": {
     "duration": 0.062492,
     "end_time": "2025-08-19T18:31:52.302115",
     "exception": false,
     "start_time": "2025-08-19T18:31:52.239623",
     "status": "completed"
    },
    "tags": []
   },
   "outputs": [],
   "source": [
    "# Auto-reload the custom package\n",
    "%load_ext autoreload\n",
    "%autoreload 1\n",
    "%aimport fairness_multiverse"
   ]
  },
  {
   "cell_type": "code",
   "execution_count": 7,
   "id": "94c8eb93",
   "metadata": {
    "execution": {
     "iopub.execute_input": "2025-08-19T18:31:52.339766Z",
     "iopub.status.busy": "2025-08-19T18:31:52.338404Z",
     "iopub.status.idle": "2025-08-19T18:31:53.884411Z",
     "shell.execute_reply": "2025-08-19T18:31:53.883373Z"
    },
    "papermill": {
     "duration": 1.562039,
     "end_time": "2025-08-19T18:31:53.886440",
     "exception": false,
     "start_time": "2025-08-19T18:31:52.324401",
     "status": "completed"
    },
    "tags": []
   },
   "outputs": [],
   "source": [
    "from fairness_multiverse.universe import UniverseAnalysis\n",
    "\n",
    "universe_analysis = UniverseAnalysis(\n",
    "    run_no = run_no,\n",
    "    universe_id = universe_id,\n",
    "    universe = universe,\n",
    "    output_dir=output_dir,\n",
    ")"
   ]
  },
  {
   "cell_type": "code",
   "execution_count": 8,
   "id": "2a6381cf",
   "metadata": {
    "execution": {
     "iopub.execute_input": "2025-08-19T18:31:53.907153Z",
     "iopub.status.busy": "2025-08-19T18:31:53.906837Z",
     "iopub.status.idle": "2025-08-19T18:31:53.912452Z",
     "shell.execute_reply": "2025-08-19T18:31:53.911635Z"
    },
    "papermill": {
     "duration": 0.018194,
     "end_time": "2025-08-19T18:31:53.914565",
     "exception": false,
     "start_time": "2025-08-19T18:31:53.896371",
     "status": "completed"
    },
    "tags": []
   },
   "outputs": [
    {
     "name": "stdout",
     "output_type": "stream",
     "text": [
      "Using Seed: 2023\n"
     ]
    }
   ],
   "source": [
    "import numpy as np\n",
    "parsed_seed = int(seed)\n",
    "np.random.seed(parsed_seed)\n",
    "print(f\"Using Seed: {parsed_seed}\")"
   ]
  },
  {
   "cell_type": "markdown",
   "id": "b6e958b4",
   "metadata": {
    "papermill": {
     "duration": 0.00958,
     "end_time": "2025-08-19T18:31:53.934120",
     "exception": false,
     "start_time": "2025-08-19T18:31:53.924540",
     "status": "completed"
    },
    "tags": []
   },
   "source": [
    "# Loading Data"
   ]
  },
  {
   "cell_type": "code",
   "execution_count": 9,
   "id": "98701482",
   "metadata": {
    "execution": {
     "iopub.execute_input": "2025-08-19T18:31:53.954589Z",
     "iopub.status.busy": "2025-08-19T18:31:53.954281Z",
     "iopub.status.idle": "2025-08-19T18:32:03.847945Z",
     "shell.execute_reply": "2025-08-19T18:32:03.845814Z"
    },
    "papermill": {
     "duration": 9.906371,
     "end_time": "2025-08-19T18:32:03.849819",
     "exception": false,
     "start_time": "2025-08-19T18:31:53.943448",
     "status": "completed"
    },
    "tags": []
   },
   "outputs": [
    {
     "name": "stdout",
     "output_type": "stream",
     "text": [
      "Loading SIAB data from cache: data/siab_cached.csv.gz\n"
     ]
    },
    {
     "name": "stdout",
     "output_type": "stream",
     "text": [
      "(643690, 164)\n"
     ]
    }
   ],
   "source": [
    "from pathlib import Path\n",
    "import pandas as pd\n",
    "\n",
    "# File paths\n",
    "raw_file = Path(\"data/raw/siab.csv\")\n",
    "cache_file = Path(\"data/siab_cached.csv.gz\")\n",
    "\n",
    "# Ensure cache directory exists\n",
    "cache_file.parent.mkdir(parents=True, exist_ok=True)\n",
    "\n",
    "# Load with simple caching\n",
    "if cache_file.exists():\n",
    "    print(f\"Loading SIAB data from cache: {cache_file}\")\n",
    "    siab = pd.read_csv(cache_file, compression='gzip')\n",
    "else:\n",
    "    print(f\"Cache not found. Reading raw SIAB data: {raw_file}\")\n",
    "    siab = pd.read_csv(raw_file)\n",
    "    siab.to_csv(cache_file, index=False, compression='gzip')\n",
    "    print(f\"Cached SIAB data to: {cache_file}\")\n",
    "\n",
    "print(siab.shape)"
   ]
  },
  {
   "cell_type": "code",
   "execution_count": 10,
   "id": "058d2abb",
   "metadata": {
    "execution": {
     "iopub.execute_input": "2025-08-19T18:32:03.897397Z",
     "iopub.status.busy": "2025-08-19T18:32:03.896818Z",
     "iopub.status.idle": "2025-08-19T18:32:04.054553Z",
     "shell.execute_reply": "2025-08-19T18:32:04.053418Z"
    },
    "papermill": {
     "duration": 0.183647,
     "end_time": "2025-08-19T18:32:04.056021",
     "exception": false,
     "start_time": "2025-08-19T18:32:03.872374",
     "status": "completed"
    },
    "tags": []
   },
   "outputs": [
    {
     "data": {
      "text/html": [
       "<div>\n",
       "<style scoped>\n",
       "    .dataframe tbody tr th:only-of-type {\n",
       "        vertical-align: middle;\n",
       "    }\n",
       "\n",
       "    .dataframe tbody tr th {\n",
       "        vertical-align: top;\n",
       "    }\n",
       "\n",
       "    .dataframe thead th {\n",
       "        text-align: right;\n",
       "    }\n",
       "</style>\n",
       "<table border=\"1\" class=\"dataframe\">\n",
       "  <thead>\n",
       "    <tr style=\"text-align: right;\">\n",
       "      <th></th>\n",
       "      <th>persnr</th>\n",
       "      <th>year</th>\n",
       "      <th>nrEntry</th>\n",
       "      <th>ltue</th>\n",
       "      <th>employed_before</th>\n",
       "      <th>receipt_leh_before</th>\n",
       "      <th>receipt_lhg_before</th>\n",
       "      <th>se_before</th>\n",
       "      <th>ASU_notue_seeking_before</th>\n",
       "      <th>ASU_other_before</th>\n",
       "      <th>...</th>\n",
       "      <th>minijob_tot_dur_byage</th>\n",
       "      <th>ft_tot_dur_byage</th>\n",
       "      <th>befrist_tot_dur_byage</th>\n",
       "      <th>leih_tot_dur_byage</th>\n",
       "      <th>LHG_tot_dur_byage</th>\n",
       "      <th>LEH_tot_dur_byage</th>\n",
       "      <th>almp_tot_dur_byage</th>\n",
       "      <th>almp_aw_tot_dur_byage</th>\n",
       "      <th>se_tot_dur_byage</th>\n",
       "      <th>seeking1_tot_dur_byage</th>\n",
       "    </tr>\n",
       "  </thead>\n",
       "  <tbody>\n",
       "    <tr>\n",
       "      <th>0</th>\n",
       "      <td>7</td>\n",
       "      <td>2015</td>\n",
       "      <td>1</td>\n",
       "      <td>0</td>\n",
       "      <td>1</td>\n",
       "      <td>0</td>\n",
       "      <td>0</td>\n",
       "      <td>0</td>\n",
       "      <td>1</td>\n",
       "      <td>0</td>\n",
       "      <td>...</td>\n",
       "      <td>0.000000</td>\n",
       "      <td>0.000000</td>\n",
       "      <td>15.043478</td>\n",
       "      <td>0.000000</td>\n",
       "      <td>0.000000</td>\n",
       "      <td>0.000000</td>\n",
       "      <td>0.000000</td>\n",
       "      <td>0.000000</td>\n",
       "      <td>0.000000</td>\n",
       "      <td>0.000000</td>\n",
       "    </tr>\n",
       "    <tr>\n",
       "      <th>1</th>\n",
       "      <td>18</td>\n",
       "      <td>2010</td>\n",
       "      <td>1</td>\n",
       "      <td>1</td>\n",
       "      <td>0</td>\n",
       "      <td>0</td>\n",
       "      <td>0</td>\n",
       "      <td>0</td>\n",
       "      <td>0</td>\n",
       "      <td>0</td>\n",
       "      <td>...</td>\n",
       "      <td>0.000000</td>\n",
       "      <td>0.000000</td>\n",
       "      <td>0.000000</td>\n",
       "      <td>0.000000</td>\n",
       "      <td>0.000000</td>\n",
       "      <td>0.000000</td>\n",
       "      <td>0.000000</td>\n",
       "      <td>0.000000</td>\n",
       "      <td>0.000000</td>\n",
       "      <td>0.000000</td>\n",
       "    </tr>\n",
       "    <tr>\n",
       "      <th>2</th>\n",
       "      <td>18</td>\n",
       "      <td>2011</td>\n",
       "      <td>2</td>\n",
       "      <td>0</td>\n",
       "      <td>1</td>\n",
       "      <td>0</td>\n",
       "      <td>1</td>\n",
       "      <td>0</td>\n",
       "      <td>1</td>\n",
       "      <td>0</td>\n",
       "      <td>...</td>\n",
       "      <td>2.714286</td>\n",
       "      <td>2.714286</td>\n",
       "      <td>0.000000</td>\n",
       "      <td>0.000000</td>\n",
       "      <td>10.775510</td>\n",
       "      <td>0.000000</td>\n",
       "      <td>8.367347</td>\n",
       "      <td>0.000000</td>\n",
       "      <td>0.000000</td>\n",
       "      <td>9.836735</td>\n",
       "    </tr>\n",
       "    <tr>\n",
       "      <th>3</th>\n",
       "      <td>18</td>\n",
       "      <td>2012</td>\n",
       "      <td>3</td>\n",
       "      <td>0</td>\n",
       "      <td>1</td>\n",
       "      <td>0</td>\n",
       "      <td>1</td>\n",
       "      <td>0</td>\n",
       "      <td>1</td>\n",
       "      <td>0</td>\n",
       "      <td>...</td>\n",
       "      <td>4.200000</td>\n",
       "      <td>4.200000</td>\n",
       "      <td>0.000000</td>\n",
       "      <td>0.000000</td>\n",
       "      <td>12.100000</td>\n",
       "      <td>0.000000</td>\n",
       "      <td>9.400000</td>\n",
       "      <td>0.000000</td>\n",
       "      <td>0.000000</td>\n",
       "      <td>9.960000</td>\n",
       "    </tr>\n",
       "    <tr>\n",
       "      <th>4</th>\n",
       "      <td>18</td>\n",
       "      <td>2012</td>\n",
       "      <td>4</td>\n",
       "      <td>0</td>\n",
       "      <td>1</td>\n",
       "      <td>0</td>\n",
       "      <td>1</td>\n",
       "      <td>0</td>\n",
       "      <td>1</td>\n",
       "      <td>0</td>\n",
       "      <td>...</td>\n",
       "      <td>5.460000</td>\n",
       "      <td>5.460000</td>\n",
       "      <td>0.000000</td>\n",
       "      <td>0.000000</td>\n",
       "      <td>13.360000</td>\n",
       "      <td>0.000000</td>\n",
       "      <td>10.320000</td>\n",
       "      <td>0.000000</td>\n",
       "      <td>0.000000</td>\n",
       "      <td>10.280000</td>\n",
       "    </tr>\n",
       "    <tr>\n",
       "      <th>...</th>\n",
       "      <td>...</td>\n",
       "      <td>...</td>\n",
       "      <td>...</td>\n",
       "      <td>...</td>\n",
       "      <td>...</td>\n",
       "      <td>...</td>\n",
       "      <td>...</td>\n",
       "      <td>...</td>\n",
       "      <td>...</td>\n",
       "      <td>...</td>\n",
       "      <td>...</td>\n",
       "      <td>...</td>\n",
       "      <td>...</td>\n",
       "      <td>...</td>\n",
       "      <td>...</td>\n",
       "      <td>...</td>\n",
       "      <td>...</td>\n",
       "      <td>...</td>\n",
       "      <td>...</td>\n",
       "      <td>...</td>\n",
       "      <td>...</td>\n",
       "    </tr>\n",
       "    <tr>\n",
       "      <th>643685</th>\n",
       "      <td>1827860</td>\n",
       "      <td>2013</td>\n",
       "      <td>1</td>\n",
       "      <td>0</td>\n",
       "      <td>0</td>\n",
       "      <td>0</td>\n",
       "      <td>1</td>\n",
       "      <td>0</td>\n",
       "      <td>0</td>\n",
       "      <td>1</td>\n",
       "      <td>...</td>\n",
       "      <td>0.000000</td>\n",
       "      <td>0.000000</td>\n",
       "      <td>0.000000</td>\n",
       "      <td>0.000000</td>\n",
       "      <td>0.612903</td>\n",
       "      <td>0.000000</td>\n",
       "      <td>0.000000</td>\n",
       "      <td>0.000000</td>\n",
       "      <td>0.000000</td>\n",
       "      <td>0.000000</td>\n",
       "    </tr>\n",
       "    <tr>\n",
       "      <th>643686</th>\n",
       "      <td>1827860</td>\n",
       "      <td>2015</td>\n",
       "      <td>2</td>\n",
       "      <td>1</td>\n",
       "      <td>0</td>\n",
       "      <td>0</td>\n",
       "      <td>1</td>\n",
       "      <td>0</td>\n",
       "      <td>1</td>\n",
       "      <td>0</td>\n",
       "      <td>...</td>\n",
       "      <td>0.000000</td>\n",
       "      <td>0.000000</td>\n",
       "      <td>0.212121</td>\n",
       "      <td>0.212121</td>\n",
       "      <td>17.363636</td>\n",
       "      <td>0.000000</td>\n",
       "      <td>8.909091</td>\n",
       "      <td>0.000000</td>\n",
       "      <td>0.000000</td>\n",
       "      <td>7.121212</td>\n",
       "    </tr>\n",
       "    <tr>\n",
       "      <th>643687</th>\n",
       "      <td>1827860</td>\n",
       "      <td>2016</td>\n",
       "      <td>3</td>\n",
       "      <td>1</td>\n",
       "      <td>0</td>\n",
       "      <td>0</td>\n",
       "      <td>1</td>\n",
       "      <td>1</td>\n",
       "      <td>0</td>\n",
       "      <td>1</td>\n",
       "      <td>...</td>\n",
       "      <td>0.000000</td>\n",
       "      <td>0.000000</td>\n",
       "      <td>0.294118</td>\n",
       "      <td>0.205882</td>\n",
       "      <td>34.705882</td>\n",
       "      <td>0.000000</td>\n",
       "      <td>10.352941</td>\n",
       "      <td>1.705882</td>\n",
       "      <td>1.705882</td>\n",
       "      <td>23.911765</td>\n",
       "    </tr>\n",
       "    <tr>\n",
       "      <th>643688</th>\n",
       "      <td>1827869</td>\n",
       "      <td>2013</td>\n",
       "      <td>1</td>\n",
       "      <td>1</td>\n",
       "      <td>1</td>\n",
       "      <td>0</td>\n",
       "      <td>0</td>\n",
       "      <td>0</td>\n",
       "      <td>1</td>\n",
       "      <td>0</td>\n",
       "      <td>...</td>\n",
       "      <td>0.000000</td>\n",
       "      <td>0.000000</td>\n",
       "      <td>0.000000</td>\n",
       "      <td>0.000000</td>\n",
       "      <td>0.000000</td>\n",
       "      <td>0.525424</td>\n",
       "      <td>0.000000</td>\n",
       "      <td>0.000000</td>\n",
       "      <td>0.000000</td>\n",
       "      <td>0.000000</td>\n",
       "    </tr>\n",
       "    <tr>\n",
       "      <th>643689</th>\n",
       "      <td>1827869</td>\n",
       "      <td>2014</td>\n",
       "      <td>2</td>\n",
       "      <td>0</td>\n",
       "      <td>0</td>\n",
       "      <td>1</td>\n",
       "      <td>0</td>\n",
       "      <td>0</td>\n",
       "      <td>1</td>\n",
       "      <td>0</td>\n",
       "      <td>...</td>\n",
       "      <td>0.000000</td>\n",
       "      <td>0.666667</td>\n",
       "      <td>0.666667</td>\n",
       "      <td>0.000000</td>\n",
       "      <td>0.000000</td>\n",
       "      <td>8.950000</td>\n",
       "      <td>1.033333</td>\n",
       "      <td>0.083333</td>\n",
       "      <td>0.083333</td>\n",
       "      <td>8.133333</td>\n",
       "    </tr>\n",
       "  </tbody>\n",
       "</table>\n",
       "<p>643690 rows × 164 columns</p>\n",
       "</div>"
      ],
      "text/plain": [
       "         persnr  year  nrEntry  ltue  employed_before  receipt_leh_before  \\\n",
       "0             7  2015        1     0                1                   0   \n",
       "1            18  2010        1     1                0                   0   \n",
       "2            18  2011        2     0                1                   0   \n",
       "3            18  2012        3     0                1                   0   \n",
       "4            18  2012        4     0                1                   0   \n",
       "...         ...   ...      ...   ...              ...                 ...   \n",
       "643685  1827860  2013        1     0                0                   0   \n",
       "643686  1827860  2015        2     1                0                   0   \n",
       "643687  1827860  2016        3     1                0                   0   \n",
       "643688  1827869  2013        1     1                1                   0   \n",
       "643689  1827869  2014        2     0                0                   1   \n",
       "\n",
       "        receipt_lhg_before  se_before  ASU_notue_seeking_before  \\\n",
       "0                        0          0                         1   \n",
       "1                        0          0                         0   \n",
       "2                        1          0                         1   \n",
       "3                        1          0                         1   \n",
       "4                        1          0                         1   \n",
       "...                    ...        ...                       ...   \n",
       "643685                   1          0                         0   \n",
       "643686                   1          0                         1   \n",
       "643687                   1          1                         0   \n",
       "643688                   0          0                         1   \n",
       "643689                   0          0                         1   \n",
       "\n",
       "        ASU_other_before  ...  minijob_tot_dur_byage  ft_tot_dur_byage  \\\n",
       "0                      0  ...               0.000000          0.000000   \n",
       "1                      0  ...               0.000000          0.000000   \n",
       "2                      0  ...               2.714286          2.714286   \n",
       "3                      0  ...               4.200000          4.200000   \n",
       "4                      0  ...               5.460000          5.460000   \n",
       "...                  ...  ...                    ...               ...   \n",
       "643685                 1  ...               0.000000          0.000000   \n",
       "643686                 0  ...               0.000000          0.000000   \n",
       "643687                 1  ...               0.000000          0.000000   \n",
       "643688                 0  ...               0.000000          0.000000   \n",
       "643689                 0  ...               0.000000          0.666667   \n",
       "\n",
       "        befrist_tot_dur_byage  leih_tot_dur_byage  LHG_tot_dur_byage  \\\n",
       "0                   15.043478            0.000000           0.000000   \n",
       "1                    0.000000            0.000000           0.000000   \n",
       "2                    0.000000            0.000000          10.775510   \n",
       "3                    0.000000            0.000000          12.100000   \n",
       "4                    0.000000            0.000000          13.360000   \n",
       "...                       ...                 ...                ...   \n",
       "643685               0.000000            0.000000           0.612903   \n",
       "643686               0.212121            0.212121          17.363636   \n",
       "643687               0.294118            0.205882          34.705882   \n",
       "643688               0.000000            0.000000           0.000000   \n",
       "643689               0.666667            0.000000           0.000000   \n",
       "\n",
       "        LEH_tot_dur_byage  almp_tot_dur_byage  almp_aw_tot_dur_byage  \\\n",
       "0                0.000000            0.000000               0.000000   \n",
       "1                0.000000            0.000000               0.000000   \n",
       "2                0.000000            8.367347               0.000000   \n",
       "3                0.000000            9.400000               0.000000   \n",
       "4                0.000000           10.320000               0.000000   \n",
       "...                   ...                 ...                    ...   \n",
       "643685           0.000000            0.000000               0.000000   \n",
       "643686           0.000000            8.909091               0.000000   \n",
       "643687           0.000000           10.352941               1.705882   \n",
       "643688           0.525424            0.000000               0.000000   \n",
       "643689           8.950000            1.033333               0.083333   \n",
       "\n",
       "        se_tot_dur_byage  seeking1_tot_dur_byage  \n",
       "0               0.000000                0.000000  \n",
       "1               0.000000                0.000000  \n",
       "2               0.000000                9.836735  \n",
       "3               0.000000                9.960000  \n",
       "4               0.000000               10.280000  \n",
       "...                  ...                     ...  \n",
       "643685          0.000000                0.000000  \n",
       "643686          0.000000                7.121212  \n",
       "643687          1.705882               23.911765  \n",
       "643688          0.000000                0.000000  \n",
       "643689          0.083333                8.133333  \n",
       "\n",
       "[643690 rows x 164 columns]"
      ]
     },
     "execution_count": 10,
     "metadata": {},
     "output_type": "execute_result"
    }
   ],
   "source": [
    "siab"
   ]
  },
  {
   "cell_type": "markdown",
   "id": "1f87e805",
   "metadata": {
    "papermill": {
     "duration": 0.00969,
     "end_time": "2025-08-19T18:32:04.077646",
     "exception": false,
     "start_time": "2025-08-19T18:32:04.067956",
     "status": "completed"
    },
    "tags": []
   },
   "source": [
    "# Splitting Data and Setting Training Data Size"
   ]
  },
  {
   "cell_type": "code",
   "execution_count": 11,
   "id": "910ae358",
   "metadata": {
    "execution": {
     "iopub.execute_input": "2025-08-19T18:32:04.098114Z",
     "iopub.status.busy": "2025-08-19T18:32:04.097723Z",
     "iopub.status.idle": "2025-08-19T18:32:04.719921Z",
     "shell.execute_reply": "2025-08-19T18:32:04.718738Z"
    },
    "papermill": {
     "duration": 0.636739,
     "end_time": "2025-08-19T18:32:04.723907",
     "exception": false,
     "start_time": "2025-08-19T18:32:04.087168",
     "status": "completed"
    },
    "tags": []
   },
   "outputs": [],
   "source": [
    "from fairness_multiverse.universe import sample_by_year_size\n",
    "\n",
    "siab_train = sample_by_year_size(siab,\n",
    "                               training_year=universe[\"training_year\"],\n",
    "                               training_size=universe[\"training_size\"])"
   ]
  },
  {
   "cell_type": "code",
   "execution_count": 12,
   "id": "919c8ff5",
   "metadata": {
    "execution": {
     "iopub.execute_input": "2025-08-19T18:32:04.761187Z",
     "iopub.status.busy": "2025-08-19T18:32:04.759887Z",
     "iopub.status.idle": "2025-08-19T18:32:04.770122Z",
     "shell.execute_reply": "2025-08-19T18:32:04.768772Z"
    },
    "papermill": {
     "duration": 0.025092,
     "end_time": "2025-08-19T18:32:04.771586",
     "exception": false,
     "start_time": "2025-08-19T18:32:04.746494",
     "status": "completed"
    },
    "tags": []
   },
   "outputs": [
    {
     "data": {
      "text/plain": [
       "(5000, 164)"
      ]
     },
     "execution_count": 12,
     "metadata": {},
     "output_type": "execute_result"
    }
   ],
   "source": [
    "siab_train.shape"
   ]
  },
  {
   "cell_type": "code",
   "execution_count": 13,
   "id": "feb13bf4",
   "metadata": {
    "execution": {
     "iopub.execute_input": "2025-08-19T18:32:04.805966Z",
     "iopub.status.busy": "2025-08-19T18:32:04.794518Z",
     "iopub.status.idle": "2025-08-19T18:32:04.818284Z",
     "shell.execute_reply": "2025-08-19T18:32:04.816992Z"
    },
    "papermill": {
     "duration": 0.037947,
     "end_time": "2025-08-19T18:32:04.820262",
     "exception": false,
     "start_time": "2025-08-19T18:32:04.782315",
     "status": "completed"
    },
    "tags": []
   },
   "outputs": [
    {
     "data": {
      "text/plain": [
       "year\n",
       "2012    1667\n",
       "2013    1667\n",
       "2014    1666\n",
       "dtype: int64"
      ]
     },
     "metadata": {},
     "output_type": "display_data"
    }
   ],
   "source": [
    "display(siab_train.groupby(\"year\").size())"
   ]
  },
  {
   "cell_type": "code",
   "execution_count": 14,
   "id": "0997782f",
   "metadata": {
    "execution": {
     "iopub.execute_input": "2025-08-19T18:32:04.848858Z",
     "iopub.status.busy": "2025-08-19T18:32:04.847809Z",
     "iopub.status.idle": "2025-08-19T18:32:05.127397Z",
     "shell.execute_reply": "2025-08-19T18:32:05.126192Z"
    },
    "papermill": {
     "duration": 0.295471,
     "end_time": "2025-08-19T18:32:05.131036",
     "exception": false,
     "start_time": "2025-08-19T18:32:04.835565",
     "status": "completed"
    },
    "tags": []
   },
   "outputs": [],
   "source": [
    "#siab_train = siab_s[siab_s.year < 2015]\n",
    "siab_calib = siab[siab.year == 2015]\n",
    "siab_test = siab[siab.year == 2016]"
   ]
  },
  {
   "cell_type": "code",
   "execution_count": 15,
   "id": "2c1e4012",
   "metadata": {
    "execution": {
     "iopub.execute_input": "2025-08-19T18:32:05.168881Z",
     "iopub.status.busy": "2025-08-19T18:32:05.167798Z",
     "iopub.status.idle": "2025-08-19T18:32:05.174797Z",
     "shell.execute_reply": "2025-08-19T18:32:05.173491Z"
    },
    "papermill": {
     "duration": 0.02258,
     "end_time": "2025-08-19T18:32:05.176271",
     "exception": false,
     "start_time": "2025-08-19T18:32:05.153691",
     "status": "completed"
    },
    "tags": []
   },
   "outputs": [],
   "source": [
    "#siab_calib.shape"
   ]
  },
  {
   "cell_type": "code",
   "execution_count": 16,
   "id": "f66b54ca",
   "metadata": {
    "execution": {
     "iopub.execute_input": "2025-08-19T18:32:05.199759Z",
     "iopub.status.busy": "2025-08-19T18:32:05.198736Z",
     "iopub.status.idle": "2025-08-19T18:32:05.205711Z",
     "shell.execute_reply": "2025-08-19T18:32:05.204429Z"
    },
    "papermill": {
     "duration": 0.020306,
     "end_time": "2025-08-19T18:32:05.207173",
     "exception": false,
     "start_time": "2025-08-19T18:32:05.186867",
     "status": "completed"
    },
    "tags": []
   },
   "outputs": [],
   "source": [
    "#siab_test.shape"
   ]
  },
  {
   "cell_type": "code",
   "execution_count": 17,
   "id": "27e4384d",
   "metadata": {
    "execution": {
     "iopub.execute_input": "2025-08-19T18:32:05.231495Z",
     "iopub.status.busy": "2025-08-19T18:32:05.230044Z",
     "iopub.status.idle": "2025-08-19T18:32:05.241872Z",
     "shell.execute_reply": "2025-08-19T18:32:05.240537Z"
    },
    "papermill": {
     "duration": 0.025439,
     "end_time": "2025-08-19T18:32:05.243693",
     "exception": false,
     "start_time": "2025-08-19T18:32:05.218254",
     "status": "completed"
    },
    "tags": []
   },
   "outputs": [],
   "source": [
    "X_train = siab_train.iloc[:,4:164]\n",
    "y_train = siab_train.iloc[:, [3]]"
   ]
  },
  {
   "cell_type": "code",
   "execution_count": 18,
   "id": "08ee8389",
   "metadata": {
    "execution": {
     "iopub.execute_input": "2025-08-19T18:32:05.269518Z",
     "iopub.status.busy": "2025-08-19T18:32:05.268453Z",
     "iopub.status.idle": "2025-08-19T18:32:05.323619Z",
     "shell.execute_reply": "2025-08-19T18:32:05.322450Z"
    },
    "papermill": {
     "duration": 0.070416,
     "end_time": "2025-08-19T18:32:05.326945",
     "exception": false,
     "start_time": "2025-08-19T18:32:05.256529",
     "status": "completed"
    },
    "tags": []
   },
   "outputs": [],
   "source": [
    "X_calib = siab_calib.iloc[:,4:164]\n",
    "y_calib = siab_calib.iloc[:, [3]]"
   ]
  },
  {
   "cell_type": "code",
   "execution_count": 19,
   "id": "b7ff42e0",
   "metadata": {
    "execution": {
     "iopub.execute_input": "2025-08-19T18:32:05.378170Z",
     "iopub.status.busy": "2025-08-19T18:32:05.376843Z",
     "iopub.status.idle": "2025-08-19T18:32:05.434265Z",
     "shell.execute_reply": "2025-08-19T18:32:05.432886Z"
    },
    "papermill": {
     "duration": 0.076652,
     "end_time": "2025-08-19T18:32:05.437861",
     "exception": false,
     "start_time": "2025-08-19T18:32:05.361209",
     "status": "completed"
    },
    "tags": []
   },
   "outputs": [],
   "source": [
    "X_test = siab_test.iloc[:,4:164]\n",
    "y_true = siab_test.iloc[:, [3]]"
   ]
  },
  {
   "cell_type": "code",
   "execution_count": 20,
   "id": "0275101e",
   "metadata": {
    "execution": {
     "iopub.execute_input": "2025-08-19T18:32:05.461875Z",
     "iopub.status.busy": "2025-08-19T18:32:05.461466Z",
     "iopub.status.idle": "2025-08-19T18:32:05.562924Z",
     "shell.execute_reply": "2025-08-19T18:32:05.562049Z"
    },
    "papermill": {
     "duration": 0.114683,
     "end_time": "2025-08-19T18:32:05.564848",
     "exception": false,
     "start_time": "2025-08-19T18:32:05.450165",
     "status": "completed"
    },
    "tags": []
   },
   "outputs": [],
   "source": [
    "# Auxiliary data needed downstream in the pipeline\n",
    "\n",
    "org_train = X_train.copy()\n",
    "org_test = X_test.copy()\n",
    "org_calib = X_calib.copy()"
   ]
  },
  {
   "cell_type": "markdown",
   "id": "b461e618",
   "metadata": {
    "papermill": {
     "duration": 0.010197,
     "end_time": "2025-08-19T18:32:05.585865",
     "exception": false,
     "start_time": "2025-08-19T18:32:05.575668",
     "status": "completed"
    },
    "tags": []
   },
   "source": [
    "# Preprocessing Data"
   ]
  },
  {
   "cell_type": "code",
   "execution_count": 21,
   "id": "78e74c4b",
   "metadata": {
    "execution": {
     "iopub.execute_input": "2025-08-19T18:32:05.610150Z",
     "iopub.status.busy": "2025-08-19T18:32:05.609118Z",
     "iopub.status.idle": "2025-08-19T18:32:05.617711Z",
     "shell.execute_reply": "2025-08-19T18:32:05.616412Z"
    },
    "papermill": {
     "duration": 0.022823,
     "end_time": "2025-08-19T18:32:05.619458",
     "exception": false,
     "start_time": "2025-08-19T18:32:05.596635",
     "status": "completed"
    },
    "tags": []
   },
   "outputs": [],
   "source": [
    "# EXCLUDE PROTECTED FEATURES\n",
    "# --------------------------\n",
    "\n",
    "excluded_features = universe[\"exclude_features\"].split(\"-\")\n",
    "excluded_features_dictionary = {\n",
    "    \"nationality\": [\"maxdeutsch1\", \"maxdeutsch.Missing.\"],\n",
    "    \"sex\": [\"frau1\"],\n",
    "    \"age\": [\"age\"],\n",
    "}"
   ]
  },
  {
   "cell_type": "code",
   "execution_count": 22,
   "id": "f8e63555",
   "metadata": {
    "execution": {
     "iopub.execute_input": "2025-08-19T18:32:05.654158Z",
     "iopub.status.busy": "2025-08-19T18:32:05.652911Z",
     "iopub.status.idle": "2025-08-19T18:32:05.661857Z",
     "shell.execute_reply": "2025-08-19T18:32:05.660548Z"
    },
    "papermill": {
     "duration": 0.02466,
     "end_time": "2025-08-19T18:32:05.663498",
     "exception": false,
     "start_time": "2025-08-19T18:32:05.638838",
     "status": "completed"
    },
    "tags": []
   },
   "outputs": [],
   "source": [
    "excluded_features_columns = [\n",
    "    excluded_features_dictionary[f] for f in excluded_features if len(f) > 0 and f != \"none\"\n",
    "]"
   ]
  },
  {
   "cell_type": "code",
   "execution_count": 23,
   "id": "da781f7c",
   "metadata": {
    "execution": {
     "iopub.execute_input": "2025-08-19T18:32:05.689303Z",
     "iopub.status.busy": "2025-08-19T18:32:05.688590Z",
     "iopub.status.idle": "2025-08-19T18:32:05.696672Z",
     "shell.execute_reply": "2025-08-19T18:32:05.695367Z"
    },
    "papermill": {
     "duration": 0.021953,
     "end_time": "2025-08-19T18:32:05.698469",
     "exception": false,
     "start_time": "2025-08-19T18:32:05.676516",
     "status": "completed"
    },
    "tags": []
   },
   "outputs": [],
   "source": [
    "from fairness_multiverse.universe import flatten_once\n",
    "\n",
    "excluded_features_columns = flatten_once(excluded_features_columns)"
   ]
  },
  {
   "cell_type": "code",
   "execution_count": 24,
   "id": "37fef0f0",
   "metadata": {
    "execution": {
     "iopub.execute_input": "2025-08-19T18:32:05.725034Z",
     "iopub.status.busy": "2025-08-19T18:32:05.723557Z",
     "iopub.status.idle": "2025-08-19T18:32:05.736884Z",
     "shell.execute_reply": "2025-08-19T18:32:05.735525Z"
    },
    "papermill": {
     "duration": 0.027103,
     "end_time": "2025-08-19T18:32:05.738483",
     "exception": false,
     "start_time": "2025-08-19T18:32:05.711380",
     "status": "completed"
    },
    "tags": []
   },
   "outputs": [
    {
     "name": "stdout",
     "output_type": "stream",
     "text": [
      "Dropping features: ['maxdeutsch1', 'maxdeutsch.Missing.']\n"
     ]
    }
   ],
   "source": [
    "if len(excluded_features_columns) > 0:\n",
    "    print(f\"Dropping features: {excluded_features_columns}\")\n",
    "    X_train.drop(excluded_features_columns, axis=1, inplace=True)"
   ]
  },
  {
   "cell_type": "code",
   "execution_count": 25,
   "id": "d029e3e9",
   "metadata": {
    "execution": {
     "iopub.execute_input": "2025-08-19T18:32:05.764562Z",
     "iopub.status.busy": "2025-08-19T18:32:05.763361Z",
     "iopub.status.idle": "2025-08-19T18:32:05.819953Z",
     "shell.execute_reply": "2025-08-19T18:32:05.819040Z"
    },
    "papermill": {
     "duration": 0.071255,
     "end_time": "2025-08-19T18:32:05.822602",
     "exception": false,
     "start_time": "2025-08-19T18:32:05.751347",
     "status": "completed"
    },
    "tags": []
   },
   "outputs": [
    {
     "name": "stdout",
     "output_type": "stream",
     "text": [
      "Dropping features: ['maxdeutsch1', 'maxdeutsch.Missing.']\n"
     ]
    }
   ],
   "source": [
    "if len(excluded_features_columns) > 0:\n",
    "    print(f\"Dropping features: {excluded_features_columns}\")\n",
    "    X_test.drop(excluded_features_columns, axis=1, inplace=True)"
   ]
  },
  {
   "cell_type": "code",
   "execution_count": 26,
   "id": "01d571f0",
   "metadata": {
    "execution": {
     "iopub.execute_input": "2025-08-19T18:32:05.860998Z",
     "iopub.status.busy": "2025-08-19T18:32:05.859927Z",
     "iopub.status.idle": "2025-08-19T18:32:05.915329Z",
     "shell.execute_reply": "2025-08-19T18:32:05.914416Z"
    },
    "papermill": {
     "duration": 0.072544,
     "end_time": "2025-08-19T18:32:05.917794",
     "exception": false,
     "start_time": "2025-08-19T18:32:05.845250",
     "status": "completed"
    },
    "tags": []
   },
   "outputs": [
    {
     "name": "stdout",
     "output_type": "stream",
     "text": [
      "Dropping features: ['maxdeutsch1', 'maxdeutsch.Missing.']\n"
     ]
    }
   ],
   "source": [
    "if len(excluded_features_columns) > 0:\n",
    "    print(f\"Dropping features: {excluded_features_columns}\")\n",
    "    X_calib.drop(excluded_features_columns, axis=1, inplace=True)"
   ]
  },
  {
   "cell_type": "code",
   "execution_count": 27,
   "id": "3037356e",
   "metadata": {
    "execution": {
     "iopub.execute_input": "2025-08-19T18:32:05.957395Z",
     "iopub.status.busy": "2025-08-19T18:32:05.956085Z",
     "iopub.status.idle": "2025-08-19T18:32:05.963713Z",
     "shell.execute_reply": "2025-08-19T18:32:05.962429Z"
    },
    "papermill": {
     "duration": 0.023332,
     "end_time": "2025-08-19T18:32:05.965205",
     "exception": false,
     "start_time": "2025-08-19T18:32:05.941873",
     "status": "completed"
    },
    "tags": []
   },
   "outputs": [],
   "source": [
    "# EXCLUDE CERTAIN SUBGROUPS\n",
    "# -------------------------\n",
    "\n",
    "mode = universe.get(\"exclude_subgroups\", \"keep-all\") # Defaults to \"keep-all\" if the key is missing."
   ]
  },
  {
   "cell_type": "code",
   "execution_count": 28,
   "id": "9d1e63fd",
   "metadata": {
    "execution": {
     "iopub.execute_input": "2025-08-19T18:32:05.994714Z",
     "iopub.status.busy": "2025-08-19T18:32:05.993401Z",
     "iopub.status.idle": "2025-08-19T18:32:06.003714Z",
     "shell.execute_reply": "2025-08-19T18:32:06.002431Z"
    },
    "papermill": {
     "duration": 0.024467,
     "end_time": "2025-08-19T18:32:06.005443",
     "exception": false,
     "start_time": "2025-08-19T18:32:05.980976",
     "status": "completed"
    },
    "tags": []
   },
   "outputs": [],
   "source": [
    "if mode == \"keep-all\":\n",
    "    keep_mask = pd.Series(True, index=org_train.index)\n",
    "\n",
    "elif mode == \"drop-non-german\":\n",
    "    keep_mask = (org_train[\"maxdeutsch1\"] == 1) & (org_train[\"maxdeutsch.Missing.\"] == 0)\n",
    "\n",
    "else:\n",
    "    raise ValueError(f\"Unsupported mode for exclude_subgroups: {mode}\")"
   ]
  },
  {
   "cell_type": "code",
   "execution_count": 29,
   "id": "d3b65474",
   "metadata": {
    "execution": {
     "iopub.execute_input": "2025-08-19T18:32:06.037448Z",
     "iopub.status.busy": "2025-08-19T18:32:06.036199Z",
     "iopub.status.idle": "2025-08-19T18:32:06.045716Z",
     "shell.execute_reply": "2025-08-19T18:32:06.044541Z"
    },
    "papermill": {
     "duration": 0.025288,
     "end_time": "2025-08-19T18:32:06.047112",
     "exception": false,
     "start_time": "2025-08-19T18:32:06.021824",
     "status": "completed"
    },
    "tags": []
   },
   "outputs": [],
   "source": [
    "n_drop = (~keep_mask).sum() # Calculates how many rows are set to be dropped\n",
    "if n_drop > 0:\n",
    "    pct = n_drop / len(keep_mask) * 100\n",
    "    print(f\"Dropping {n_drop} rows ({pct:.2f}%) where mode='{mode}'\")"
   ]
  },
  {
   "cell_type": "code",
   "execution_count": 30,
   "id": "f44389b3",
   "metadata": {
    "execution": {
     "iopub.execute_input": "2025-08-19T18:32:06.075349Z",
     "iopub.status.busy": "2025-08-19T18:32:06.074045Z",
     "iopub.status.idle": "2025-08-19T18:32:06.085658Z",
     "shell.execute_reply": "2025-08-19T18:32:06.084531Z"
    },
    "papermill": {
     "duration": 0.025638,
     "end_time": "2025-08-19T18:32:06.087231",
     "exception": false,
     "start_time": "2025-08-19T18:32:06.061593",
     "status": "completed"
    },
    "tags": []
   },
   "outputs": [],
   "source": [
    "X_train = X_train[keep_mask]"
   ]
  },
  {
   "cell_type": "code",
   "execution_count": 31,
   "id": "ceca8c2a",
   "metadata": {
    "execution": {
     "iopub.execute_input": "2025-08-19T18:32:06.119382Z",
     "iopub.status.busy": "2025-08-19T18:32:06.118056Z",
     "iopub.status.idle": "2025-08-19T18:32:06.126723Z",
     "shell.execute_reply": "2025-08-19T18:32:06.125448Z"
    },
    "papermill": {
     "duration": 0.024164,
     "end_time": "2025-08-19T18:32:06.128327",
     "exception": false,
     "start_time": "2025-08-19T18:32:06.104163",
     "status": "completed"
    },
    "tags": []
   },
   "outputs": [],
   "source": [
    "y_train = y_train[keep_mask]"
   ]
  },
  {
   "cell_type": "markdown",
   "id": "04d31e2f",
   "metadata": {
    "papermill": {
     "duration": 0.010762,
     "end_time": "2025-08-19T18:32:06.152710",
     "exception": false,
     "start_time": "2025-08-19T18:32:06.141948",
     "status": "completed"
    },
    "tags": []
   },
   "source": [
    "# Model Training"
   ]
  },
  {
   "cell_type": "code",
   "execution_count": 32,
   "id": "db991733",
   "metadata": {
    "execution": {
     "iopub.execute_input": "2025-08-19T18:32:06.176957Z",
     "iopub.status.busy": "2025-08-19T18:32:06.175662Z",
     "iopub.status.idle": "2025-08-19T18:32:06.277461Z",
     "shell.execute_reply": "2025-08-19T18:32:06.276547Z"
    },
    "papermill": {
     "duration": 0.117111,
     "end_time": "2025-08-19T18:32:06.280457",
     "exception": false,
     "start_time": "2025-08-19T18:32:06.163346",
     "status": "completed"
    },
    "tags": []
   },
   "outputs": [],
   "source": [
    "from sklearn.linear_model import LogisticRegression\n",
    "from sklearn.ensemble import GradientBoostingClassifier, RandomForestClassifier\n",
    "\n",
    "if (universe[\"model\"] == \"logreg\"):\n",
    "    model = LogisticRegression() #penalty=\"none\", solver=\"newton-cg\", max_iter=1)\n",
    "elif (universe[\"model\"] == \"penalized_logreg\"):\n",
    "    model = LogisticRegression(penalty=\"l2\", C=0.1) #, solver=\"newton-cg\", max_iter=1)\n",
    "elif (universe[\"model\"] == \"rf\"):\n",
    "    model = RandomForestClassifier() # n_estimators=100, n_jobs=-1\n",
    "elif (universe[\"model\"] == \"gbm\"):\n",
    "    model = GradientBoostingClassifier()\n",
    "elif (universe[\"model\"] == \"elasticnet\"):\n",
    "    model = LogisticRegression(penalty = 'elasticnet', solver = 'saga', l1_ratio = 0.5) # max_iter=5000\n",
    "else:\n",
    "    raise \"Unsupported universe.model\""
   ]
  },
  {
   "cell_type": "code",
   "execution_count": 33,
   "id": "a4b5cd25",
   "metadata": {
    "execution": {
     "iopub.execute_input": "2025-08-19T18:32:06.321520Z",
     "iopub.status.busy": "2025-08-19T18:32:06.320012Z",
     "iopub.status.idle": "2025-08-19T18:32:06.329641Z",
     "shell.execute_reply": "2025-08-19T18:32:06.328380Z"
    },
    "papermill": {
     "duration": 0.025833,
     "end_time": "2025-08-19T18:32:06.331218",
     "exception": false,
     "start_time": "2025-08-19T18:32:06.305385",
     "status": "completed"
    },
    "tags": []
   },
   "outputs": [],
   "source": [
    "from sklearn.pipeline import Pipeline\n",
    "from sklearn.preprocessing import StandardScaler\n",
    "\n",
    "model = Pipeline([\n",
    "    #(\"continuous_processor\", continuous_processor),\n",
    "    #(\"categorical_preprocessor\", categorical_preprocessor),\n",
    "    (\"scale\", StandardScaler() if universe[\"scale\"] == \"scale\" else None), \n",
    "    (\"model\", model),\n",
    "])"
   ]
  },
  {
   "cell_type": "code",
   "execution_count": 34,
   "id": "283a904d",
   "metadata": {
    "execution": {
     "iopub.execute_input": "2025-08-19T18:32:06.371699Z",
     "iopub.status.busy": "2025-08-19T18:32:06.371208Z",
     "iopub.status.idle": "2025-08-19T18:32:06.500456Z",
     "shell.execute_reply": "2025-08-19T18:32:06.499667Z"
    },
    "papermill": {
     "duration": 0.14479,
     "end_time": "2025-08-19T18:32:06.501783",
     "exception": false,
     "start_time": "2025-08-19T18:32:06.356993",
     "status": "completed"
    },
    "tags": []
   },
   "outputs": [
    {
     "data": {
      "text/html": [
       "<style>#sk-container-id-1 {color: black;background-color: white;}#sk-container-id-1 pre{padding: 0;}#sk-container-id-1 div.sk-toggleable {background-color: white;}#sk-container-id-1 label.sk-toggleable__label {cursor: pointer;display: block;width: 100%;margin-bottom: 0;padding: 0.3em;box-sizing: border-box;text-align: center;}#sk-container-id-1 label.sk-toggleable__label-arrow:before {content: \"▸\";float: left;margin-right: 0.25em;color: #696969;}#sk-container-id-1 label.sk-toggleable__label-arrow:hover:before {color: black;}#sk-container-id-1 div.sk-estimator:hover label.sk-toggleable__label-arrow:before {color: black;}#sk-container-id-1 div.sk-toggleable__content {max-height: 0;max-width: 0;overflow: hidden;text-align: left;background-color: #f0f8ff;}#sk-container-id-1 div.sk-toggleable__content pre {margin: 0.2em;color: black;border-radius: 0.25em;background-color: #f0f8ff;}#sk-container-id-1 input.sk-toggleable__control:checked~div.sk-toggleable__content {max-height: 200px;max-width: 100%;overflow: auto;}#sk-container-id-1 input.sk-toggleable__control:checked~label.sk-toggleable__label-arrow:before {content: \"▾\";}#sk-container-id-1 div.sk-estimator input.sk-toggleable__control:checked~label.sk-toggleable__label {background-color: #d4ebff;}#sk-container-id-1 div.sk-label input.sk-toggleable__control:checked~label.sk-toggleable__label {background-color: #d4ebff;}#sk-container-id-1 input.sk-hidden--visually {border: 0;clip: rect(1px 1px 1px 1px);clip: rect(1px, 1px, 1px, 1px);height: 1px;margin: -1px;overflow: hidden;padding: 0;position: absolute;width: 1px;}#sk-container-id-1 div.sk-estimator {font-family: monospace;background-color: #f0f8ff;border: 1px dotted black;border-radius: 0.25em;box-sizing: border-box;margin-bottom: 0.5em;}#sk-container-id-1 div.sk-estimator:hover {background-color: #d4ebff;}#sk-container-id-1 div.sk-parallel-item::after {content: \"\";width: 100%;border-bottom: 1px solid gray;flex-grow: 1;}#sk-container-id-1 div.sk-label:hover label.sk-toggleable__label {background-color: #d4ebff;}#sk-container-id-1 div.sk-serial::before {content: \"\";position: absolute;border-left: 1px solid gray;box-sizing: border-box;top: 0;bottom: 0;left: 50%;z-index: 0;}#sk-container-id-1 div.sk-serial {display: flex;flex-direction: column;align-items: center;background-color: white;padding-right: 0.2em;padding-left: 0.2em;position: relative;}#sk-container-id-1 div.sk-item {position: relative;z-index: 1;}#sk-container-id-1 div.sk-parallel {display: flex;align-items: stretch;justify-content: center;background-color: white;position: relative;}#sk-container-id-1 div.sk-item::before, #sk-container-id-1 div.sk-parallel-item::before {content: \"\";position: absolute;border-left: 1px solid gray;box-sizing: border-box;top: 0;bottom: 0;left: 50%;z-index: -1;}#sk-container-id-1 div.sk-parallel-item {display: flex;flex-direction: column;z-index: 1;position: relative;background-color: white;}#sk-container-id-1 div.sk-parallel-item:first-child::after {align-self: flex-end;width: 50%;}#sk-container-id-1 div.sk-parallel-item:last-child::after {align-self: flex-start;width: 50%;}#sk-container-id-1 div.sk-parallel-item:only-child::after {width: 0;}#sk-container-id-1 div.sk-dashed-wrapped {border: 1px dashed gray;margin: 0 0.4em 0.5em 0.4em;box-sizing: border-box;padding-bottom: 0.4em;background-color: white;}#sk-container-id-1 div.sk-label label {font-family: monospace;font-weight: bold;display: inline-block;line-height: 1.2em;}#sk-container-id-1 div.sk-label-container {text-align: center;}#sk-container-id-1 div.sk-container {/* jupyter's `normalize.less` sets `[hidden] { display: none; }` but bootstrap.min.css set `[hidden] { display: none !important; }` so we also need the `!important` here to be able to override the default hidden behavior on the sphinx rendered scikit-learn.org. See: https://github.com/scikit-learn/scikit-learn/issues/21755 */display: inline-block !important;position: relative;}#sk-container-id-1 div.sk-text-repr-fallback {display: none;}</style><div id=\"sk-container-id-1\" class=\"sk-top-container\"><div class=\"sk-text-repr-fallback\"><pre>Pipeline(steps=[(&#x27;scale&#x27;, StandardScaler()),\n",
       "                (&#x27;model&#x27;, LogisticRegression(C=0.1))])</pre><b>In a Jupyter environment, please rerun this cell to show the HTML representation or trust the notebook. <br />On GitHub, the HTML representation is unable to render, please try loading this page with nbviewer.org.</b></div><div class=\"sk-container\" hidden><div class=\"sk-item sk-dashed-wrapped\"><div class=\"sk-label-container\"><div class=\"sk-label sk-toggleable\"><input class=\"sk-toggleable__control sk-hidden--visually\" id=\"sk-estimator-id-1\" type=\"checkbox\" ><label for=\"sk-estimator-id-1\" class=\"sk-toggleable__label sk-toggleable__label-arrow\">Pipeline</label><div class=\"sk-toggleable__content\"><pre>Pipeline(steps=[(&#x27;scale&#x27;, StandardScaler()),\n",
       "                (&#x27;model&#x27;, LogisticRegression(C=0.1))])</pre></div></div></div><div class=\"sk-serial\"><div class=\"sk-item\"><div class=\"sk-estimator sk-toggleable\"><input class=\"sk-toggleable__control sk-hidden--visually\" id=\"sk-estimator-id-2\" type=\"checkbox\" ><label for=\"sk-estimator-id-2\" class=\"sk-toggleable__label sk-toggleable__label-arrow\">StandardScaler</label><div class=\"sk-toggleable__content\"><pre>StandardScaler()</pre></div></div></div><div class=\"sk-item\"><div class=\"sk-estimator sk-toggleable\"><input class=\"sk-toggleable__control sk-hidden--visually\" id=\"sk-estimator-id-3\" type=\"checkbox\" ><label for=\"sk-estimator-id-3\" class=\"sk-toggleable__label sk-toggleable__label-arrow\">LogisticRegression</label><div class=\"sk-toggleable__content\"><pre>LogisticRegression(C=0.1)</pre></div></div></div></div></div></div></div>"
      ],
      "text/plain": [
       "Pipeline(steps=[('scale', StandardScaler()),\n",
       "                ('model', LogisticRegression(C=0.1))])"
      ]
     },
     "execution_count": 34,
     "metadata": {},
     "output_type": "execute_result"
    }
   ],
   "source": [
    "model.fit(X_train, y_train.values.ravel())"
   ]
  },
  {
   "cell_type": "code",
   "execution_count": 35,
   "id": "6e15e313",
   "metadata": {
    "execution": {
     "iopub.execute_input": "2025-08-19T18:32:06.543214Z",
     "iopub.status.busy": "2025-08-19T18:32:06.542056Z",
     "iopub.status.idle": "2025-08-19T18:32:06.735113Z",
     "shell.execute_reply": "2025-08-19T18:32:06.734277Z"
    },
    "papermill": {
     "duration": 0.213955,
     "end_time": "2025-08-19T18:32:06.737653",
     "exception": false,
     "start_time": "2025-08-19T18:32:06.523698",
     "status": "completed"
    },
    "tags": []
   },
   "outputs": [
    {
     "data": {
      "text/plain": [
       "0.8577081707724892"
      ]
     },
     "execution_count": 35,
     "metadata": {},
     "output_type": "execute_result"
    }
   ],
   "source": [
    "from fairness_multiverse.universe import predict_w_threshold\n",
    "\n",
    "probs_test = model.predict_proba(X_test)\n",
    "\n",
    "'''\n",
    "Below code returns a boolean array (or binary 0/1 array depending on how it’s used) where each element \n",
    "is True if the probability of class 1 is greater than or equal to the threshold, and False otherwise.\n",
    "'''\n",
    "y_pred_default = predict_w_threshold(probs_test, 0.5)\n",
    "\n",
    "from sklearn.metrics import accuracy_score\n",
    "\n",
    "# Naive prediction\n",
    "accuracy_score(y_true = y_true, y_pred = y_pred_default)"
   ]
  },
  {
   "cell_type": "code",
   "execution_count": 36,
   "id": "6f14067c",
   "metadata": {
    "execution": {
     "iopub.execute_input": "2025-08-19T18:32:06.779651Z",
     "iopub.status.busy": "2025-08-19T18:32:06.778367Z",
     "iopub.status.idle": "2025-08-19T18:32:06.962547Z",
     "shell.execute_reply": "2025-08-19T18:32:06.961706Z"
    },
    "papermill": {
     "duration": 0.201752,
     "end_time": "2025-08-19T18:32:06.965403",
     "exception": false,
     "start_time": "2025-08-19T18:32:06.763651",
     "status": "completed"
    },
    "tags": []
   },
   "outputs": [
    {
     "data": {
      "text/plain": [
       "array([0, 0, 0, ..., 0, 0, 0])"
      ]
     },
     "execution_count": 36,
     "metadata": {},
     "output_type": "execute_result"
    }
   ],
   "source": [
    "model.predict(X_test)"
   ]
  },
  {
   "cell_type": "markdown",
   "id": "3759920c",
   "metadata": {
    "papermill": {
     "duration": 0.012488,
     "end_time": "2025-08-19T18:32:07.002226",
     "exception": false,
     "start_time": "2025-08-19T18:32:06.989738",
     "status": "completed"
    },
    "tags": []
   },
   "source": [
    "# Conformal Prediction"
   ]
  },
  {
   "cell_type": "code",
   "execution_count": 37,
   "id": "14b27f59",
   "metadata": {
    "execution": {
     "iopub.execute_input": "2025-08-19T18:32:07.027319Z",
     "iopub.status.busy": "2025-08-19T18:32:07.025978Z",
     "iopub.status.idle": "2025-08-19T18:32:07.033409Z",
     "shell.execute_reply": "2025-08-19T18:32:07.032118Z"
    },
    "papermill": {
     "duration": 0.021697,
     "end_time": "2025-08-19T18:32:07.035041",
     "exception": false,
     "start_time": "2025-08-19T18:32:07.013344",
     "status": "completed"
    },
    "tags": []
   },
   "outputs": [],
   "source": [
    "# Miscoverage level for conformal prediction (10% allowed error rate => 90% target coverage)\n",
    "alpha = 0.1"
   ]
  },
  {
   "cell_type": "code",
   "execution_count": 38,
   "id": "59102472",
   "metadata": {
    "execution": {
     "iopub.execute_input": "2025-08-19T18:32:07.062568Z",
     "iopub.status.busy": "2025-08-19T18:32:07.061343Z",
     "iopub.status.idle": "2025-08-19T18:32:07.239830Z",
     "shell.execute_reply": "2025-08-19T18:32:07.238941Z"
    },
    "papermill": {
     "duration": 0.193943,
     "end_time": "2025-08-19T18:32:07.242509",
     "exception": false,
     "start_time": "2025-08-19T18:32:07.048566",
     "status": "completed"
    },
    "tags": []
   },
   "outputs": [],
   "source": [
    "probs_calib = model.predict_proba(X_calib)"
   ]
  },
  {
   "cell_type": "code",
   "execution_count": 39,
   "id": "a792d4dd",
   "metadata": {
    "execution": {
     "iopub.execute_input": "2025-08-19T18:32:07.286077Z",
     "iopub.status.busy": "2025-08-19T18:32:07.284765Z",
     "iopub.status.idle": "2025-08-19T18:32:07.292622Z",
     "shell.execute_reply": "2025-08-19T18:32:07.291386Z"
    },
    "papermill": {
     "duration": 0.025077,
     "end_time": "2025-08-19T18:32:07.294601",
     "exception": false,
     "start_time": "2025-08-19T18:32:07.269524",
     "status": "completed"
    },
    "tags": []
   },
   "outputs": [],
   "source": [
    "y_calib = y_calib.values.ravel().astype(int)"
   ]
  },
  {
   "cell_type": "code",
   "execution_count": 40,
   "id": "650fd033",
   "metadata": {
    "execution": {
     "iopub.execute_input": "2025-08-19T18:32:07.322551Z",
     "iopub.status.busy": "2025-08-19T18:32:07.321377Z",
     "iopub.status.idle": "2025-08-19T18:32:07.332608Z",
     "shell.execute_reply": "2025-08-19T18:32:07.331337Z"
    },
    "papermill": {
     "duration": 0.02576,
     "end_time": "2025-08-19T18:32:07.334286",
     "exception": false,
     "start_time": "2025-08-19T18:32:07.308526",
     "status": "completed"
    },
    "tags": []
   },
   "outputs": [],
   "source": [
    "from fairness_multiverse.conformal import compute_nc_scores\n",
    "\n",
    "# Compute nonconformity scores on calibration set (1 - probability of true class)\n",
    "nc_scores = compute_nc_scores(probs_calib, y_calib)"
   ]
  },
  {
   "cell_type": "code",
   "execution_count": 41,
   "id": "28ada44c",
   "metadata": {
    "execution": {
     "iopub.execute_input": "2025-08-19T18:32:07.366010Z",
     "iopub.status.busy": "2025-08-19T18:32:07.364780Z",
     "iopub.status.idle": "2025-08-19T18:32:07.375954Z",
     "shell.execute_reply": "2025-08-19T18:32:07.374549Z"
    },
    "papermill": {
     "duration": 0.026495,
     "end_time": "2025-08-19T18:32:07.377451",
     "exception": false,
     "start_time": "2025-08-19T18:32:07.350956",
     "status": "completed"
    },
    "tags": []
   },
   "outputs": [],
   "source": [
    "from fairness_multiverse.conformal import find_threshold\n",
    "\n",
    "# Find conformal threshold q_hat for the given alpha (split conformal method)\n",
    "q_hat = find_threshold(nc_scores, alpha)"
   ]
  },
  {
   "cell_type": "code",
   "execution_count": 42,
   "id": "df56469e",
   "metadata": {
    "execution": {
     "iopub.execute_input": "2025-08-19T18:32:07.405542Z",
     "iopub.status.busy": "2025-08-19T18:32:07.404248Z",
     "iopub.status.idle": "2025-08-19T18:32:07.414158Z",
     "shell.execute_reply": "2025-08-19T18:32:07.412868Z"
    },
    "papermill": {
     "duration": 0.024067,
     "end_time": "2025-08-19T18:32:07.415626",
     "exception": false,
     "start_time": "2025-08-19T18:32:07.391559",
     "status": "completed"
    },
    "tags": []
   },
   "outputs": [
    {
     "data": {
      "text/plain": [
       "0.6841693148847418"
      ]
     },
     "execution_count": 42,
     "metadata": {},
     "output_type": "execute_result"
    }
   ],
   "source": [
    "q_hat"
   ]
  },
  {
   "cell_type": "code",
   "execution_count": 43,
   "id": "aa1f5faa",
   "metadata": {
    "execution": {
     "iopub.execute_input": "2025-08-19T18:32:07.443918Z",
     "iopub.status.busy": "2025-08-19T18:32:07.442522Z",
     "iopub.status.idle": "2025-08-19T18:32:08.044962Z",
     "shell.execute_reply": "2025-08-19T18:32:08.044011Z"
    },
    "papermill": {
     "duration": 0.619048,
     "end_time": "2025-08-19T18:32:08.048801",
     "exception": false,
     "start_time": "2025-08-19T18:32:07.429753",
     "status": "completed"
    },
    "tags": []
   },
   "outputs": [],
   "source": [
    "from fairness_multiverse.conformal import predict_conformal_sets\n",
    "\n",
    "# Generate prediction sets for each test example\n",
    "pred_sets = predict_conformal_sets(model, X_test, q_hat)"
   ]
  },
  {
   "cell_type": "code",
   "execution_count": 44,
   "id": "97f67a6b",
   "metadata": {
    "execution": {
     "iopub.execute_input": "2025-08-19T18:32:08.091547Z",
     "iopub.status.busy": "2025-08-19T18:32:08.090562Z",
     "iopub.status.idle": "2025-08-19T18:32:08.096559Z",
     "shell.execute_reply": "2025-08-19T18:32:08.095711Z"
    },
    "papermill": {
     "duration": 0.02155,
     "end_time": "2025-08-19T18:32:08.097800",
     "exception": false,
     "start_time": "2025-08-19T18:32:08.076250",
     "status": "completed"
    },
    "tags": []
   },
   "outputs": [],
   "source": [
    "y_true = y_true.squeeze()"
   ]
  },
  {
   "cell_type": "code",
   "execution_count": 45,
   "id": "e700e9a7",
   "metadata": {
    "execution": {
     "iopub.execute_input": "2025-08-19T18:32:08.123087Z",
     "iopub.status.busy": "2025-08-19T18:32:08.122203Z",
     "iopub.status.idle": "2025-08-19T18:32:08.695139Z",
     "shell.execute_reply": "2025-08-19T18:32:08.694446Z"
    },
    "papermill": {
     "duration": 0.588466,
     "end_time": "2025-08-19T18:32:08.698031",
     "exception": false,
     "start_time": "2025-08-19T18:32:08.109565",
     "status": "completed"
    },
    "tags": []
   },
   "outputs": [],
   "source": [
    "from fairness_multiverse.conformal import evaluate_sets\n",
    "\n",
    "# Evaluate coverage and average set size on test data\n",
    "metrics = evaluate_sets(pred_sets, y_true)"
   ]
  },
  {
   "cell_type": "markdown",
   "id": "efbacec0",
   "metadata": {
    "papermill": {
     "duration": 0.013431,
     "end_time": "2025-08-19T18:32:08.737796",
     "exception": false,
     "start_time": "2025-08-19T18:32:08.724365",
     "status": "completed"
    },
    "tags": []
   },
   "source": [
    "# CP Metrics"
   ]
  },
  {
   "cell_type": "code",
   "execution_count": 46,
   "id": "9de55fb1",
   "metadata": {
    "execution": {
     "iopub.execute_input": "2025-08-19T18:32:08.763192Z",
     "iopub.status.busy": "2025-08-19T18:32:08.762022Z",
     "iopub.status.idle": "2025-08-19T18:32:08.780653Z",
     "shell.execute_reply": "2025-08-19T18:32:08.779180Z"
    },
    "papermill": {
     "duration": 0.049396,
     "end_time": "2025-08-19T18:32:08.798556",
     "exception": false,
     "start_time": "2025-08-19T18:32:08.749160",
     "status": "completed"
    },
    "tags": []
   },
   "outputs": [
    {
     "data": {
      "text/plain": [
       "{'coverage': 0.9106565600267529, 'avg_size': 1.1354587002563816}"
      ]
     },
     "execution_count": 46,
     "metadata": {},
     "output_type": "execute_result"
    }
   ],
   "source": [
    "metrics"
   ]
  },
  {
   "cell_type": "code",
   "execution_count": 47,
   "id": "64c340a1",
   "metadata": {
    "execution": {
     "iopub.execute_input": "2025-08-19T18:32:08.825001Z",
     "iopub.status.busy": "2025-08-19T18:32:08.824342Z",
     "iopub.status.idle": "2025-08-19T18:32:08.832502Z",
     "shell.execute_reply": "2025-08-19T18:32:08.831683Z"
    },
    "papermill": {
     "duration": 0.022711,
     "end_time": "2025-08-19T18:32:08.833884",
     "exception": false,
     "start_time": "2025-08-19T18:32:08.811173",
     "status": "completed"
    },
    "tags": []
   },
   "outputs": [],
   "source": [
    "example_universe = universe.copy()\n",
    "universe_training_year = example_universe.get(\"training_year\")\n",
    "universe_training_size = example_universe.get(\"training_size\")\n",
    "universe_scale = example_universe.get(\"scale\")\n",
    "universe_model = example_universe.get(\"model\")\n",
    "universe_exclude_features = example_universe.get(\"exclude_features\")\n",
    "universe_exclude_subgroups = example_universe.get(\"exclude_subgroups\")"
   ]
  },
  {
   "cell_type": "code",
   "execution_count": 48,
   "id": "dbb53cb4",
   "metadata": {
    "execution": {
     "iopub.execute_input": "2025-08-19T18:32:08.863411Z",
     "iopub.status.busy": "2025-08-19T18:32:08.861986Z",
     "iopub.status.idle": "2025-08-19T18:32:08.872197Z",
     "shell.execute_reply": "2025-08-19T18:32:08.871057Z"
    },
    "papermill": {
     "duration": 0.025116,
     "end_time": "2025-08-19T18:32:08.873737",
     "exception": false,
     "start_time": "2025-08-19T18:32:08.848621",
     "status": "completed"
    },
    "tags": []
   },
   "outputs": [],
   "source": [
    "cp_metrics_dict = {\n",
    "    \"universe_id\": [universe_id],\n",
    "    \"universe_training_year\": [universe_training_year],\n",
    "    \"universe_training_size\": [universe_training_size],\n",
    "    \"universe_scale\": [universe_scale],\n",
    "    \"universe_model\": [universe_model],\n",
    "    \"universe_exclude_features\": [universe_exclude_features],\n",
    "    \"universe_exclude_subgroups\": [universe_exclude_subgroups],\n",
    "    \"q_hat\": [q_hat],\n",
    "    \"coverage\": [metrics[\"coverage\"]],\n",
    "    \"avg_size\": [metrics[\"avg_size\"]],\n",
    "}"
   ]
  },
  {
   "cell_type": "code",
   "execution_count": 49,
   "id": "0d70d4b2",
   "metadata": {
    "execution": {
     "iopub.execute_input": "2025-08-19T18:32:08.903195Z",
     "iopub.status.busy": "2025-08-19T18:32:08.902234Z",
     "iopub.status.idle": "2025-08-19T18:32:08.912829Z",
     "shell.execute_reply": "2025-08-19T18:32:08.911517Z"
    },
    "papermill": {
     "duration": 0.025981,
     "end_time": "2025-08-19T18:32:08.914354",
     "exception": false,
     "start_time": "2025-08-19T18:32:08.888373",
     "status": "completed"
    },
    "tags": []
   },
   "outputs": [],
   "source": [
    "cp_metrics_df = pd.DataFrame(cp_metrics_dict)"
   ]
  },
  {
   "cell_type": "code",
   "execution_count": 50,
   "id": "b494403c",
   "metadata": {
    "execution": {
     "iopub.execute_input": "2025-08-19T18:32:08.957351Z",
     "iopub.status.busy": "2025-08-19T18:32:08.956248Z",
     "iopub.status.idle": "2025-08-19T18:32:08.981749Z",
     "shell.execute_reply": "2025-08-19T18:32:08.980638Z"
    },
    "papermill": {
     "duration": 0.046703,
     "end_time": "2025-08-19T18:32:08.983819",
     "exception": false,
     "start_time": "2025-08-19T18:32:08.937116",
     "status": "completed"
    },
    "tags": []
   },
   "outputs": [
    {
     "data": {
      "text/html": [
       "<div>\n",
       "<style scoped>\n",
       "    .dataframe tbody tr th:only-of-type {\n",
       "        vertical-align: middle;\n",
       "    }\n",
       "\n",
       "    .dataframe tbody tr th {\n",
       "        vertical-align: top;\n",
       "    }\n",
       "\n",
       "    .dataframe thead th {\n",
       "        text-align: right;\n",
       "    }\n",
       "</style>\n",
       "<table border=\"1\" class=\"dataframe\">\n",
       "  <thead>\n",
       "    <tr style=\"text-align: right;\">\n",
       "      <th></th>\n",
       "      <th>universe_id</th>\n",
       "      <th>universe_training_year</th>\n",
       "      <th>universe_training_size</th>\n",
       "      <th>universe_scale</th>\n",
       "      <th>universe_model</th>\n",
       "      <th>universe_exclude_features</th>\n",
       "      <th>universe_exclude_subgroups</th>\n",
       "      <th>q_hat</th>\n",
       "      <th>coverage</th>\n",
       "      <th>avg_size</th>\n",
       "    </tr>\n",
       "  </thead>\n",
       "  <tbody>\n",
       "    <tr>\n",
       "      <th>0</th>\n",
       "      <td>f4c07542acb425fb85126c625365f92e</td>\n",
       "      <td>2012_14</td>\n",
       "      <td>5k</td>\n",
       "      <td>scale</td>\n",
       "      <td>penalized_logreg</td>\n",
       "      <td>nationality</td>\n",
       "      <td>keep-all</td>\n",
       "      <td>0.684169</td>\n",
       "      <td>0.910657</td>\n",
       "      <td>1.135459</td>\n",
       "    </tr>\n",
       "  </tbody>\n",
       "</table>\n",
       "</div>"
      ],
      "text/plain": [
       "                        universe_id universe_training_year  \\\n",
       "0  f4c07542acb425fb85126c625365f92e                2012_14   \n",
       "\n",
       "  universe_training_size universe_scale    universe_model  \\\n",
       "0                     5k          scale  penalized_logreg   \n",
       "\n",
       "  universe_exclude_features universe_exclude_subgroups     q_hat  coverage  \\\n",
       "0               nationality                   keep-all  0.684169  0.910657   \n",
       "\n",
       "   avg_size  \n",
       "0  1.135459  "
      ]
     },
     "execution_count": 50,
     "metadata": {},
     "output_type": "execute_result"
    }
   ],
   "source": [
    "cp_metrics_df"
   ]
  },
  {
   "cell_type": "markdown",
   "id": "ed608b0b",
   "metadata": {
    "papermill": {
     "duration": 0.012362,
     "end_time": "2025-08-19T18:32:09.014640",
     "exception": false,
     "start_time": "2025-08-19T18:32:09.002278",
     "status": "completed"
    },
    "tags": []
   },
   "source": [
    "Conditional coverage & looking at subgroups"
   ]
  },
  {
   "cell_type": "code",
   "execution_count": 51,
   "id": "8968c366",
   "metadata": {
    "execution": {
     "iopub.execute_input": "2025-08-19T18:32:09.055268Z",
     "iopub.status.busy": "2025-08-19T18:32:09.054650Z",
     "iopub.status.idle": "2025-08-19T18:32:09.292895Z",
     "shell.execute_reply": "2025-08-19T18:32:09.292162Z"
    },
    "papermill": {
     "duration": 0.268903,
     "end_time": "2025-08-19T18:32:09.296098",
     "exception": false,
     "start_time": "2025-08-19T18:32:09.027195",
     "status": "completed"
    },
    "tags": []
   },
   "outputs": [],
   "source": [
    "from fairness_multiverse.conformal import build_cp_groups\n",
    "\n",
    "cp_groups_df = build_cp_groups(pred_sets, y_true, X_test.index, org_test)"
   ]
  },
  {
   "cell_type": "code",
   "execution_count": 52,
   "id": "292ddabf",
   "metadata": {
    "execution": {
     "iopub.execute_input": "2025-08-19T18:32:09.322305Z",
     "iopub.status.busy": "2025-08-19T18:32:09.321573Z",
     "iopub.status.idle": "2025-08-19T18:32:10.162749Z",
     "shell.execute_reply": "2025-08-19T18:32:10.162090Z"
    },
    "papermill": {
     "duration": 0.855642,
     "end_time": "2025-08-19T18:32:10.164228",
     "exception": false,
     "start_time": "2025-08-19T18:32:09.308586",
     "status": "completed"
    },
    "tags": []
   },
   "outputs": [],
   "source": [
    "# Define covered = 1 if true_label is in the predicted set\n",
    "cp_groups_df['covered'] = cp_groups_df.apply(\n",
    "    lambda r: int(r['true_label'] in r['pred_set']),\n",
    "    axis=1\n",
    ")"
   ]
  },
  {
   "cell_type": "code",
   "execution_count": 53,
   "id": "3a261692",
   "metadata": {
    "execution": {
     "iopub.execute_input": "2025-08-19T18:32:10.194399Z",
     "iopub.status.busy": "2025-08-19T18:32:10.193984Z",
     "iopub.status.idle": "2025-08-19T18:32:10.203798Z",
     "shell.execute_reply": "2025-08-19T18:32:10.203049Z"
    },
    "papermill": {
     "duration": 0.024388,
     "end_time": "2025-08-19T18:32:10.204957",
     "exception": false,
     "start_time": "2025-08-19T18:32:10.180569",
     "status": "completed"
    },
    "tags": []
   },
   "outputs": [],
   "source": [
    "subgroups = ['frau1','nongerman','nongerman_male','nongerman_female']\n",
    "\n",
    "# Conditional coverage for subgroup==1\n",
    "cond_coverage = {\n",
    "    g: cp_groups_df.loc[cp_groups_df[g]==1, 'covered'].mean()\n",
    "    for g in subgroups\n",
    "}"
   ]
  },
  {
   "cell_type": "code",
   "execution_count": 54,
   "id": "894fd600",
   "metadata": {
    "execution": {
     "iopub.execute_input": "2025-08-19T18:32:10.234478Z",
     "iopub.status.busy": "2025-08-19T18:32:10.233767Z",
     "iopub.status.idle": "2025-08-19T18:32:10.243175Z",
     "shell.execute_reply": "2025-08-19T18:32:10.241901Z"
    },
    "papermill": {
     "duration": 0.025265,
     "end_time": "2025-08-19T18:32:10.244860",
     "exception": false,
     "start_time": "2025-08-19T18:32:10.219595",
     "status": "completed"
    },
    "tags": []
   },
   "outputs": [
    {
     "data": {
      "text/plain": [
       "{'frau1': 0.9056476614098935,\n",
       " 'nongerman': 0.910683208892382,\n",
       " 'nongerman_male': 0.9284877960911465,\n",
       " 'nongerman_female': 0.8812220566318927}"
      ]
     },
     "execution_count": 54,
     "metadata": {},
     "output_type": "execute_result"
    }
   ],
   "source": [
    "cond_coverage"
   ]
  },
  {
   "cell_type": "code",
   "execution_count": 55,
   "id": "942895c7",
   "metadata": {
    "execution": {
     "iopub.execute_input": "2025-08-19T18:32:10.274485Z",
     "iopub.status.busy": "2025-08-19T18:32:10.273397Z",
     "iopub.status.idle": "2025-08-19T18:32:10.284807Z",
     "shell.execute_reply": "2025-08-19T18:32:10.283440Z"
    },
    "papermill": {
     "duration": 0.0273,
     "end_time": "2025-08-19T18:32:10.286217",
     "exception": false,
     "start_time": "2025-08-19T18:32:10.258917",
     "status": "completed"
    },
    "tags": []
   },
   "outputs": [],
   "source": [
    "for subgroup, cov in cond_coverage.items():\n",
    "    cp_metrics_df[f\"cov_{subgroup}\"] = cov"
   ]
  },
  {
   "cell_type": "code",
   "execution_count": 56,
   "id": "3970120f",
   "metadata": {
    "execution": {
     "iopub.execute_input": "2025-08-19T18:32:10.317087Z",
     "iopub.status.busy": "2025-08-19T18:32:10.315928Z",
     "iopub.status.idle": "2025-08-19T18:32:10.340832Z",
     "shell.execute_reply": "2025-08-19T18:32:10.339778Z"
    },
    "papermill": {
     "duration": 0.041043,
     "end_time": "2025-08-19T18:32:10.343201",
     "exception": false,
     "start_time": "2025-08-19T18:32:10.302158",
     "status": "completed"
    },
    "tags": []
   },
   "outputs": [
    {
     "data": {
      "text/html": [
       "<div>\n",
       "<style scoped>\n",
       "    .dataframe tbody tr th:only-of-type {\n",
       "        vertical-align: middle;\n",
       "    }\n",
       "\n",
       "    .dataframe tbody tr th {\n",
       "        vertical-align: top;\n",
       "    }\n",
       "\n",
       "    .dataframe thead th {\n",
       "        text-align: right;\n",
       "    }\n",
       "</style>\n",
       "<table border=\"1\" class=\"dataframe\">\n",
       "  <thead>\n",
       "    <tr style=\"text-align: right;\">\n",
       "      <th></th>\n",
       "      <th>universe_id</th>\n",
       "      <th>universe_training_year</th>\n",
       "      <th>universe_training_size</th>\n",
       "      <th>universe_scale</th>\n",
       "      <th>universe_model</th>\n",
       "      <th>universe_exclude_features</th>\n",
       "      <th>universe_exclude_subgroups</th>\n",
       "      <th>q_hat</th>\n",
       "      <th>coverage</th>\n",
       "      <th>avg_size</th>\n",
       "      <th>cov_frau1</th>\n",
       "      <th>cov_nongerman</th>\n",
       "      <th>cov_nongerman_male</th>\n",
       "      <th>cov_nongerman_female</th>\n",
       "    </tr>\n",
       "  </thead>\n",
       "  <tbody>\n",
       "    <tr>\n",
       "      <th>0</th>\n",
       "      <td>f4c07542acb425fb85126c625365f92e</td>\n",
       "      <td>2012_14</td>\n",
       "      <td>5k</td>\n",
       "      <td>scale</td>\n",
       "      <td>penalized_logreg</td>\n",
       "      <td>nationality</td>\n",
       "      <td>keep-all</td>\n",
       "      <td>0.684169</td>\n",
       "      <td>0.910657</td>\n",
       "      <td>1.135459</td>\n",
       "      <td>0.905648</td>\n",
       "      <td>0.910683</td>\n",
       "      <td>0.928488</td>\n",
       "      <td>0.881222</td>\n",
       "    </tr>\n",
       "  </tbody>\n",
       "</table>\n",
       "</div>"
      ],
      "text/plain": [
       "                        universe_id universe_training_year  \\\n",
       "0  f4c07542acb425fb85126c625365f92e                2012_14   \n",
       "\n",
       "  universe_training_size universe_scale    universe_model  \\\n",
       "0                     5k          scale  penalized_logreg   \n",
       "\n",
       "  universe_exclude_features universe_exclude_subgroups     q_hat  coverage  \\\n",
       "0               nationality                   keep-all  0.684169  0.910657   \n",
       "\n",
       "   avg_size  cov_frau1  cov_nongerman  cov_nongerman_male  \\\n",
       "0  1.135459   0.905648       0.910683            0.928488   \n",
       "\n",
       "   cov_nongerman_female  \n",
       "0              0.881222  "
      ]
     },
     "execution_count": 56,
     "metadata": {},
     "output_type": "execute_result"
    }
   ],
   "source": [
    "cp_metrics_df"
   ]
  },
  {
   "cell_type": "markdown",
   "id": "3fc519cc",
   "metadata": {
    "papermill": {
     "duration": 0.012359,
     "end_time": "2025-08-19T18:32:10.372964",
     "exception": false,
     "start_time": "2025-08-19T18:32:10.360605",
     "status": "completed"
    },
    "tags": []
   },
   "source": [
    "# (Fairness) Metrics"
   ]
  },
  {
   "cell_type": "code",
   "execution_count": 57,
   "id": "a2e5e155",
   "metadata": {
    "execution": {
     "iopub.execute_input": "2025-08-19T18:32:10.400653Z",
     "iopub.status.busy": "2025-08-19T18:32:10.399656Z",
     "iopub.status.idle": "2025-08-19T18:32:10.456799Z",
     "shell.execute_reply": "2025-08-19T18:32:10.455331Z"
    },
    "papermill": {
     "duration": 0.074613,
     "end_time": "2025-08-19T18:32:10.459884",
     "exception": false,
     "start_time": "2025-08-19T18:32:10.385271",
     "status": "completed"
    },
    "tags": []
   },
   "outputs": [],
   "source": [
    "colname_to_bin = \"maxdeutsch1\"\n",
    "majority_value = org_train[colname_to_bin].mode()[0]\n",
    "\n",
    "org_test[\"majmin\"] = np.where(org_test[colname_to_bin] == majority_value, \"majority\", \"minority\")"
   ]
  },
  {
   "cell_type": "code",
   "execution_count": 58,
   "id": "17e3e4d5",
   "metadata": {
    "execution": {
     "iopub.execute_input": "2025-08-19T18:32:10.523521Z",
     "iopub.status.busy": "2025-08-19T18:32:10.522447Z",
     "iopub.status.idle": "2025-08-19T18:32:12.294122Z",
     "shell.execute_reply": "2025-08-19T18:32:12.293176Z"
    },
    "papermill": {
     "duration": 1.800916,
     "end_time": "2025-08-19T18:32:12.297109",
     "exception": false,
     "start_time": "2025-08-19T18:32:10.496193",
     "status": "completed"
    },
    "tags": []
   },
   "outputs": [],
   "source": [
    "example_universe = universe.copy()\n",
    "example_universe[\"cutoff\"] = example_universe[\"cutoff\"][0]\n",
    "example_universe[\"eval_fairness_grouping\"] = example_universe[\"eval_fairness_grouping\"][0]\n",
    "fairness_dict, metric_frame = universe_analysis.compute_metrics(\n",
    "    example_universe,\n",
    "    y_pred_prob=probs_test,\n",
    "    y_test=y_true,\n",
    "    org_test=org_test,\n",
    ")"
   ]
  },
  {
   "cell_type": "markdown",
   "id": "1fb7a0e9",
   "metadata": {
    "papermill": {
     "duration": 0.012396,
     "end_time": "2025-08-19T18:32:12.345388",
     "exception": false,
     "start_time": "2025-08-19T18:32:12.332992",
     "status": "completed"
    },
    "tags": []
   },
   "source": [
    "# Overall"
   ]
  },
  {
   "cell_type": "markdown",
   "id": "be1784b1",
   "metadata": {
    "papermill": {
     "duration": 0.012127,
     "end_time": "2025-08-19T18:32:12.369747",
     "exception": false,
     "start_time": "2025-08-19T18:32:12.357620",
     "status": "completed"
    },
    "tags": []
   },
   "source": [
    "Main fairness target: Equalized Odds. Seems to be a better fit than equal opportunity, since we're not only interested in Y = 1. Seems to be a better fit than demographic parity, since we also care about accuracy, not just equal distribution of preds.\n",
    "\n",
    "Pick column for computation of fairness metrics\n",
    "\n",
    "Performance\n",
    "Overall performance measures, most interesting in relation to the measures split by group below"
   ]
  },
  {
   "cell_type": "code",
   "execution_count": 59,
   "id": "b7672bee",
   "metadata": {
    "execution": {
     "iopub.execute_input": "2025-08-19T18:32:12.418454Z",
     "iopub.status.busy": "2025-08-19T18:32:12.417680Z",
     "iopub.status.idle": "2025-08-19T18:32:12.426523Z",
     "shell.execute_reply": "2025-08-19T18:32:12.425706Z"
    },
    "papermill": {
     "duration": 0.050044,
     "end_time": "2025-08-19T18:32:12.438424",
     "exception": false,
     "start_time": "2025-08-19T18:32:12.388380",
     "status": "completed"
    },
    "tags": []
   },
   "outputs": [
    {
     "data": {
      "text/plain": [
       "accuracy                   0.224066\n",
       "balanced accuracy          0.547938\n",
       "f1                         0.245406\n",
       "precision                  0.140192\n",
       "false positive rate        0.887701\n",
       "false negative rate        0.016423\n",
       "selection rate             0.900000\n",
       "count                  89710.000000\n",
       "dtype: float64"
      ]
     },
     "execution_count": 59,
     "metadata": {},
     "output_type": "execute_result"
    }
   ],
   "source": [
    "metric_frame.overall"
   ]
  },
  {
   "cell_type": "markdown",
   "id": "d93333c9",
   "metadata": {
    "papermill": {
     "duration": 0.014029,
     "end_time": "2025-08-19T18:32:12.474886",
     "exception": false,
     "start_time": "2025-08-19T18:32:12.460857",
     "status": "completed"
    },
    "tags": []
   },
   "source": [
    "By Group"
   ]
  },
  {
   "cell_type": "code",
   "execution_count": 60,
   "id": "52256966",
   "metadata": {
    "execution": {
     "iopub.execute_input": "2025-08-19T18:32:12.501513Z",
     "iopub.status.busy": "2025-08-19T18:32:12.501113Z",
     "iopub.status.idle": "2025-08-19T18:32:12.513752Z",
     "shell.execute_reply": "2025-08-19T18:32:12.512930Z"
    },
    "papermill": {
     "duration": 0.02806,
     "end_time": "2025-08-19T18:32:12.515426",
     "exception": false,
     "start_time": "2025-08-19T18:32:12.487366",
     "status": "completed"
    },
    "tags": []
   },
   "outputs": [
    {
     "data": {
      "text/html": [
       "<div>\n",
       "<style scoped>\n",
       "    .dataframe tbody tr th:only-of-type {\n",
       "        vertical-align: middle;\n",
       "    }\n",
       "\n",
       "    .dataframe tbody tr th {\n",
       "        vertical-align: top;\n",
       "    }\n",
       "\n",
       "    .dataframe thead th {\n",
       "        text-align: right;\n",
       "    }\n",
       "</style>\n",
       "<table border=\"1\" class=\"dataframe\">\n",
       "  <thead>\n",
       "    <tr style=\"text-align: right;\">\n",
       "      <th></th>\n",
       "      <th>accuracy</th>\n",
       "      <th>balanced accuracy</th>\n",
       "      <th>f1</th>\n",
       "      <th>precision</th>\n",
       "      <th>false positive rate</th>\n",
       "      <th>false negative rate</th>\n",
       "      <th>selection rate</th>\n",
       "      <th>count</th>\n",
       "    </tr>\n",
       "    <tr>\n",
       "      <th>majmin</th>\n",
       "      <th></th>\n",
       "      <th></th>\n",
       "      <th></th>\n",
       "      <th></th>\n",
       "      <th></th>\n",
       "      <th></th>\n",
       "      <th></th>\n",
       "      <th></th>\n",
       "    </tr>\n",
       "  </thead>\n",
       "  <tbody>\n",
       "    <tr>\n",
       "      <th>majority</th>\n",
       "      <td>0.245540</td>\n",
       "      <td>0.557682</td>\n",
       "      <td>0.255931</td>\n",
       "      <td>0.147141</td>\n",
       "      <td>0.866583</td>\n",
       "      <td>0.018053</td>\n",
       "      <td>0.881827</td>\n",
       "      <td>69170.0</td>\n",
       "    </tr>\n",
       "    <tr>\n",
       "      <th>minority</th>\n",
       "      <td>0.151753</td>\n",
       "      <td>0.516201</td>\n",
       "      <td>0.212021</td>\n",
       "      <td>0.118726</td>\n",
       "      <td>0.957462</td>\n",
       "      <td>0.010135</td>\n",
       "      <td>0.961198</td>\n",
       "      <td>20540.0</td>\n",
       "    </tr>\n",
       "  </tbody>\n",
       "</table>\n",
       "</div>"
      ],
      "text/plain": [
       "          accuracy  balanced accuracy        f1  precision  \\\n",
       "majmin                                                       \n",
       "majority  0.245540           0.557682  0.255931   0.147141   \n",
       "minority  0.151753           0.516201  0.212021   0.118726   \n",
       "\n",
       "          false positive rate  false negative rate  selection rate    count  \n",
       "majmin                                                                       \n",
       "majority             0.866583             0.018053        0.881827  69170.0  \n",
       "minority             0.957462             0.010135        0.961198  20540.0  "
      ]
     },
     "execution_count": 60,
     "metadata": {},
     "output_type": "execute_result"
    }
   ],
   "source": [
    "metric_frame.by_group"
   ]
  },
  {
   "cell_type": "code",
   "execution_count": 61,
   "id": "6e6c20ae",
   "metadata": {
    "execution": {
     "iopub.execute_input": "2025-08-19T18:32:12.546647Z",
     "iopub.status.busy": "2025-08-19T18:32:12.545708Z",
     "iopub.status.idle": "2025-08-19T18:32:14.407338Z",
     "shell.execute_reply": "2025-08-19T18:32:14.406391Z"
    },
    "papermill": {
     "duration": 1.877445,
     "end_time": "2025-08-19T18:32:14.408711",
     "exception": false,
     "start_time": "2025-08-19T18:32:12.531266",
     "status": "completed"
    },
    "tags": []
   },
   "outputs": [
    {
     "data": {
      "text/plain": [
       "array([[<Axes: title={'center': 'accuracy'}, xlabel='majmin'>,\n",
       "        <Axes: title={'center': 'balanced accuracy'}, xlabel='majmin'>,\n",
       "        <Axes: title={'center': 'f1'}, xlabel='majmin'>],\n",
       "       [<Axes: title={'center': 'precision'}, xlabel='majmin'>,\n",
       "        <Axes: title={'center': 'false positive rate'}, xlabel='majmin'>,\n",
       "        <Axes: title={'center': 'false negative rate'}, xlabel='majmin'>],\n",
       "       [<Axes: title={'center': 'selection rate'}, xlabel='majmin'>,\n",
       "        <Axes: title={'center': 'count'}, xlabel='majmin'>,\n",
       "        <Axes: xlabel='majmin'>]], dtype=object)"
      ]
     },
     "execution_count": 61,
     "metadata": {},
     "output_type": "execute_result"
    },
    {
     "data": {
      "image/png": "[encoded data removed]",
      "text/plain": [
       "<Figure size 1200x800 with 9 Axes>"
      ]
     },
     "metadata": {},
     "output_type": "display_data"
    }
   ],
   "source": [
    "# In a graphic\n",
    "metric_frame.by_group.plot.bar(\n",
    "    subplots=True,\n",
    "    layout=[3, 3],\n",
    "    legend=False,\n",
    "    figsize=[12, 8],\n",
    "    title=\"Show all metrics\",\n",
    ")"
   ]
  },
  {
   "cell_type": "markdown",
   "id": "b2e433ae",
   "metadata": {
    "papermill": {
     "duration": 0.015871,
     "end_time": "2025-08-19T18:32:14.440018",
     "exception": false,
     "start_time": "2025-08-19T18:32:14.424147",
     "status": "completed"
    },
    "tags": []
   },
   "source": [
    "# Final Output"
   ]
  },
  {
   "cell_type": "code",
   "execution_count": 62,
   "id": "3871301e",
   "metadata": {
    "execution": {
     "iopub.execute_input": "2025-08-19T18:32:14.471962Z",
     "iopub.status.busy": "2025-08-19T18:32:14.470628Z",
     "iopub.status.idle": "2025-08-19T18:32:14.486557Z",
     "shell.execute_reply": "2025-08-19T18:32:14.485780Z"
    },
    "papermill": {
     "duration": 0.033458,
     "end_time": "2025-08-19T18:32:14.487901",
     "exception": false,
     "start_time": "2025-08-19T18:32:14.454443",
     "status": "completed"
    },
    "tags": []
   },
   "outputs": [
    {
     "data": {
      "text/plain": [
       "4"
      ]
     },
     "execution_count": 62,
     "metadata": {},
     "output_type": "execute_result"
    }
   ],
   "source": [
    "sub_universes = universe_analysis.generate_sub_universes()\n",
    "len(sub_universes)"
   ]
  },
  {
   "cell_type": "code",
   "execution_count": 63,
   "id": "d9cfdaca",
   "metadata": {
    "execution": {
     "iopub.execute_input": "2025-08-19T18:32:14.531675Z",
     "iopub.status.busy": "2025-08-19T18:32:14.531149Z",
     "iopub.status.idle": "2025-08-19T18:32:14.537856Z",
     "shell.execute_reply": "2025-08-19T18:32:14.536907Z"
    },
    "papermill": {
     "duration": 0.0348,
     "end_time": "2025-08-19T18:32:14.539527",
     "exception": false,
     "start_time": "2025-08-19T18:32:14.504727",
     "status": "completed"
    },
    "tags": []
   },
   "outputs": [],
   "source": [
    "def filter_sub_universe_data(sub_universe, org_test):\n",
    "    # Keep all rows — no filtering\n",
    "    keep_rows_mask = np.ones(org_test.shape[0], dtype=bool)\n",
    "\n",
    "    print(f\"[INFO] Keeping all rows: {keep_rows_mask.sum()} rows retained.\")\n",
    "    return keep_rows_mask"
   ]
  },
  {
   "cell_type": "code",
   "execution_count": 64,
   "id": "2bc31ac1",
   "metadata": {
    "execution": {
     "iopub.execute_input": "2025-08-19T18:32:14.582388Z",
     "iopub.status.busy": "2025-08-19T18:32:14.582142Z",
     "iopub.status.idle": "2025-08-19T18:32:21.437074Z",
     "shell.execute_reply": "2025-08-19T18:32:21.427667Z"
    },
    "papermill": {
     "duration": 6.872861,
     "end_time": "2025-08-19T18:32:21.439020",
     "exception": false,
     "start_time": "2025-08-19T18:32:14.566159",
     "status": "completed"
    },
    "tags": []
   },
   "outputs": [
    {
     "name": "stdout",
     "output_type": "stream",
     "text": [
      "Stopping execution_time clock.\n",
      "[INFO] Keeping all rows: 89710 rows retained.\n"
     ]
    },
    {
     "name": "stdout",
     "output_type": "stream",
     "text": [
      "[INFO] Keeping all rows: 89710 rows retained.\n"
     ]
    },
    {
     "name": "stdout",
     "output_type": "stream",
     "text": [
      "[INFO] Keeping all rows: 89710 rows retained.\n"
     ]
    },
    {
     "name": "stdout",
     "output_type": "stream",
     "text": [
      "[INFO] Keeping all rows: 89710 rows retained.\n"
     ]
    },
    {
     "data": {
      "text/html": [
       "<div>\n",
       "<style scoped>\n",
       "    .dataframe tbody tr th:only-of-type {\n",
       "        vertical-align: middle;\n",
       "    }\n",
       "\n",
       "    .dataframe tbody tr th {\n",
       "        vertical-align: top;\n",
       "    }\n",
       "\n",
       "    .dataframe thead th {\n",
       "        text-align: right;\n",
       "    }\n",
       "</style>\n",
       "<table border=\"1\" class=\"dataframe\">\n",
       "  <thead>\n",
       "    <tr style=\"text-align: right;\">\n",
       "      <th></th>\n",
       "      <th>run_no</th>\n",
       "      <th>universe_id</th>\n",
       "      <th>universe_settings</th>\n",
       "      <th>execution_time</th>\n",
       "      <th>test_size_n</th>\n",
       "      <th>test_size_frac</th>\n",
       "      <th>fair_main_equalized_odds_difference</th>\n",
       "      <th>fair_main_equalized_odds_ratio</th>\n",
       "      <th>fair_main_demographic_parity_difference</th>\n",
       "      <th>fair_main_demographic_parity_ratio</th>\n",
       "      <th>...</th>\n",
       "      <th>perf_grp_precision_0</th>\n",
       "      <th>perf_grp_precision_1</th>\n",
       "      <th>perf_grp_false positive rate_0</th>\n",
       "      <th>perf_grp_false positive rate_1</th>\n",
       "      <th>perf_grp_false negative rate_0</th>\n",
       "      <th>perf_grp_false negative rate_1</th>\n",
       "      <th>perf_grp_selection rate_0</th>\n",
       "      <th>perf_grp_selection rate_1</th>\n",
       "      <th>perf_grp_count_0</th>\n",
       "      <th>perf_grp_count_1</th>\n",
       "    </tr>\n",
       "  </thead>\n",
       "  <tbody>\n",
       "    <tr>\n",
       "      <th>0</th>\n",
       "      <td>3</td>\n",
       "      <td>f4c07542acb425fb85126c625365f92e</td>\n",
       "      <td>{\"cutoff\": \"quantile_0.1\", \"eval_fairness_grou...</td>\n",
       "      <td>20.745836</td>\n",
       "      <td>89710</td>\n",
       "      <td>1.0</td>\n",
       "      <td>0.090879</td>\n",
       "      <td>0.905084</td>\n",
       "      <td>0.079370</td>\n",
       "      <td>0.917426</td>\n",
       "      <td>...</td>\n",
       "      <td>NaN</td>\n",
       "      <td>NaN</td>\n",
       "      <td>NaN</td>\n",
       "      <td>NaN</td>\n",
       "      <td>NaN</td>\n",
       "      <td>NaN</td>\n",
       "      <td>NaN</td>\n",
       "      <td>NaN</td>\n",
       "      <td>NaN</td>\n",
       "      <td>NaN</td>\n",
       "    </tr>\n",
       "    <tr>\n",
       "      <th>0</th>\n",
       "      <td>3</td>\n",
       "      <td>f4c07542acb425fb85126c625365f92e</td>\n",
       "      <td>{\"cutoff\": \"quantile_0.1\", \"eval_fairness_grou...</td>\n",
       "      <td>20.745836</td>\n",
       "      <td>89710</td>\n",
       "      <td>1.0</td>\n",
       "      <td>0.090879</td>\n",
       "      <td>0.905084</td>\n",
       "      <td>0.079370</td>\n",
       "      <td>0.917426</td>\n",
       "      <td>...</td>\n",
       "      <td>0.118726</td>\n",
       "      <td>0.147141</td>\n",
       "      <td>0.957462</td>\n",
       "      <td>0.866583</td>\n",
       "      <td>0.010135</td>\n",
       "      <td>0.018053</td>\n",
       "      <td>0.961198</td>\n",
       "      <td>0.881827</td>\n",
       "      <td>20540.0</td>\n",
       "      <td>69170.0</td>\n",
       "    </tr>\n",
       "    <tr>\n",
       "      <th>0</th>\n",
       "      <td>3</td>\n",
       "      <td>f4c07542acb425fb85126c625365f92e</td>\n",
       "      <td>{\"cutoff\": \"quantile_0.25\", \"eval_fairness_gro...</td>\n",
       "      <td>20.745836</td>\n",
       "      <td>89710</td>\n",
       "      <td>1.0</td>\n",
       "      <td>0.164665</td>\n",
       "      <td>0.805985</td>\n",
       "      <td>0.143909</td>\n",
       "      <td>0.832849</td>\n",
       "      <td>...</td>\n",
       "      <td>NaN</td>\n",
       "      <td>NaN</td>\n",
       "      <td>NaN</td>\n",
       "      <td>NaN</td>\n",
       "      <td>NaN</td>\n",
       "      <td>NaN</td>\n",
       "      <td>NaN</td>\n",
       "      <td>NaN</td>\n",
       "      <td>NaN</td>\n",
       "      <td>NaN</td>\n",
       "    </tr>\n",
       "    <tr>\n",
       "      <th>0</th>\n",
       "      <td>3</td>\n",
       "      <td>f4c07542acb425fb85126c625365f92e</td>\n",
       "      <td>{\"cutoff\": \"quantile_0.25\", \"eval_fairness_gro...</td>\n",
       "      <td>20.745836</td>\n",
       "      <td>89710</td>\n",
       "      <td>1.0</td>\n",
       "      <td>0.164665</td>\n",
       "      <td>0.805985</td>\n",
       "      <td>0.143909</td>\n",
       "      <td>0.832849</td>\n",
       "      <td>...</td>\n",
       "      <td>0.127856</td>\n",
       "      <td>0.172063</td>\n",
       "      <td>0.848723</td>\n",
       "      <td>0.684058</td>\n",
       "      <td>0.045186</td>\n",
       "      <td>0.066302</td>\n",
       "      <td>0.860954</td>\n",
       "      <td>0.717045</td>\n",
       "      <td>20540.0</td>\n",
       "      <td>69170.0</td>\n",
       "    </tr>\n",
       "  </tbody>\n",
       "</table>\n",
       "<p>4 rows × 50 columns</p>\n",
       "</div>"
      ],
      "text/plain": [
       "  run_no                       universe_id  \\\n",
       "0      3  f4c07542acb425fb85126c625365f92e   \n",
       "0      3  f4c07542acb425fb85126c625365f92e   \n",
       "0      3  f4c07542acb425fb85126c625365f92e   \n",
       "0      3  f4c07542acb425fb85126c625365f92e   \n",
       "\n",
       "                                   universe_settings  execution_time  \\\n",
       "0  {\"cutoff\": \"quantile_0.1\", \"eval_fairness_grou...       20.745836   \n",
       "0  {\"cutoff\": \"quantile_0.1\", \"eval_fairness_grou...       20.745836   \n",
       "0  {\"cutoff\": \"quantile_0.25\", \"eval_fairness_gro...       20.745836   \n",
       "0  {\"cutoff\": \"quantile_0.25\", \"eval_fairness_gro...       20.745836   \n",
       "\n",
       "   test_size_n  test_size_frac  fair_main_equalized_odds_difference  \\\n",
       "0        89710             1.0                             0.090879   \n",
       "0        89710             1.0                             0.090879   \n",
       "0        89710             1.0                             0.164665   \n",
       "0        89710             1.0                             0.164665   \n",
       "\n",
       "   fair_main_equalized_odds_ratio  fair_main_demographic_parity_difference  \\\n",
       "0                        0.905084                                 0.079370   \n",
       "0                        0.905084                                 0.079370   \n",
       "0                        0.805985                                 0.143909   \n",
       "0                        0.805985                                 0.143909   \n",
       "\n",
       "   fair_main_demographic_parity_ratio  ...  perf_grp_precision_0  \\\n",
       "0                            0.917426  ...                   NaN   \n",
       "0                            0.917426  ...              0.118726   \n",
       "0                            0.832849  ...                   NaN   \n",
       "0                            0.832849  ...              0.127856   \n",
       "\n",
       "   perf_grp_precision_1  perf_grp_false positive rate_0  \\\n",
       "0                   NaN                             NaN   \n",
       "0              0.147141                        0.957462   \n",
       "0                   NaN                             NaN   \n",
       "0              0.172063                        0.848723   \n",
       "\n",
       "   perf_grp_false positive rate_1  perf_grp_false negative rate_0  \\\n",
       "0                             NaN                             NaN   \n",
       "0                        0.866583                        0.010135   \n",
       "0                             NaN                             NaN   \n",
       "0                        0.684058                        0.045186   \n",
       "\n",
       "   perf_grp_false negative rate_1  perf_grp_selection rate_0  \\\n",
       "0                             NaN                        NaN   \n",
       "0                        0.018053                   0.961198   \n",
       "0                             NaN                        NaN   \n",
       "0                        0.066302                   0.860954   \n",
       "\n",
       "   perf_grp_selection rate_1  perf_grp_count_0  perf_grp_count_1  \n",
       "0                        NaN               NaN               NaN  \n",
       "0                   0.881827           20540.0           69170.0  \n",
       "0                        NaN               NaN               NaN  \n",
       "0                   0.717045           20540.0           69170.0  \n",
       "\n",
       "[4 rows x 50 columns]"
      ]
     },
     "execution_count": 64,
     "metadata": {},
     "output_type": "execute_result"
    }
   ],
   "source": [
    "final_output = universe_analysis.generate_final_output(\n",
    "    y_pred_prob=probs_test,\n",
    "    y_test=y_true,\n",
    "    org_test=org_test,\n",
    "    filter_data=filter_sub_universe_data,\n",
    "    cp_metrics_df=cp_metrics_df,\n",
    "    save=True,\n",
    ")\n",
    "final_output"
   ]
  },
  {
   "cell_type": "code",
   "execution_count": null,
   "id": "8b80a1ff",
   "metadata": {
    "papermill": {
     "duration": 0.042604,
     "end_time": "2025-08-19T18:32:21.529918",
     "exception": false,
     "start_time": "2025-08-19T18:32:21.487314",
     "status": "completed"
    },
    "tags": []
   },
   "outputs": [],
   "source": []
  },
  {
   "cell_type": "code",
   "execution_count": null,
   "id": "275c9fad",
   "metadata": {
    "papermill": {
     "duration": 0.014766,
     "end_time": "2025-08-19T18:32:21.566410",
     "exception": false,
     "start_time": "2025-08-19T18:32:21.551644",
     "status": "completed"
    },
    "tags": []
   },
   "outputs": [],
   "source": []
  }
 ],
 "metadata": {
  "celltoolbar": "Tags",
  "kernelspec": {
   "display_name": "Python (CMA Fairness)",
   "language": "python",
   "name": "cma_fair_env"
  },
  "language_info": {
   "codemirror_mode": {
    "name": "ipython",
    "version": 3
   },
   "file_extension": ".py",
   "mimetype": "text/x-python",
   "name": "python",
   "nbconvert_exporter": "python",
   "pygments_lexer": "ipython3",
   "version": "3.10.12"
  },
  "papermill": {
   "default_parameters": {},
   "duration": 31.509537,
   "end_time": "2025-08-19T18:32:22.407694",
   "environment_variables": {},
   "exception": null,
   "input_path": "universe_analysis.ipynb",
   "output_path": "output/runs/3/notebooks/m_3-f4c07542acb425fb85126c625365f92e.ipynb",
   "parameters": {
    "output_dir": "output",
    "run_no": "3",
    "seed": "2023",
    "universe": "{\"cutoff\": [\"quantile_0.1\", \"quantile_0.25\"], \"eval_fairness_grouping\": [\"majority-minority\", \"nationality-all\"], \"exclude_features\": \"nationality\", \"exclude_subgroups\": \"keep-all\", \"model\": \"penalized_logreg\", \"scale\": \"scale\", \"training_size\": \"5k\", \"training_year\": \"2012_14\"}",
    "universe_id": "f4c07542acb425fb85126c625365f92e"
   },
   "start_time": "2025-08-19T18:31:50.898157",
   "version": "2.6.0"
  }
 },
 "nbformat": 4,
 "nbformat_minor": 5
}