{
 "cells": [
  {
   "cell_type": "markdown",
   "id": "ef23dbb3",
   "metadata": {
    "papermill": {
     "duration": 0.010153,
     "end_time": "2025-08-19T18:44:55.320060",
     "exception": false,
     "start_time": "2025-08-19T18:44:55.309907",
     "status": "completed"
    },
    "tags": []
   },
   "source": [
    "# Setup"
   ]
  },
  {
   "cell_type": "code",
   "execution_count": 1,
   "id": "0bc8e7dc",
   "metadata": {
    "execution": {
     "iopub.execute_input": "2025-08-19T18:44:55.341066Z",
     "iopub.status.busy": "2025-08-19T18:44:55.340017Z",
     "iopub.status.idle": "2025-08-19T18:44:55.359477Z",
     "shell.execute_reply": "2025-08-19T18:44:55.358372Z"
    },
    "papermill": {
     "duration": 0.03249,
     "end_time": "2025-08-19T18:44:55.361713",
     "exception": false,
     "start_time": "2025-08-19T18:44:55.329223",
     "status": "completed"
    },
    "tags": []
   },
   "outputs": [
    {
     "name": "stdout",
     "output_type": "stream",
     "text": [
      "/dss/dsshome1/0C/ra93lal2/cma/CMA_Fairness_v2\n"
     ]
    },
    {
     "name": "stderr",
     "output_type": "stream",
     "text": [
      "/dss/dsshome1/0C/ra93lal2/.local/share/virtualenvs/CMA_Fairness_v2-3j10GkSs/lib/python3.10/site-packages/IPython/core/magics/osm.py:393: UserWarning: This is now an optional IPython functionality, using bookmarks requires you to install the `pickleshare` library.\n",
      "  bkms = self.shell.db.get('bookmarks', {})\n",
      "/dss/dsshome1/0C/ra93lal2/.local/share/virtualenvs/CMA_Fairness_v2-3j10GkSs/lib/python3.10/site-packages/IPython/core/magics/osm.py:417: UserWarning: This is now an optional IPython functionality, setting dhist requires you to install the `pickleshare` library.\n",
      "  self.shell.db['dhist'] = compress_dhist(dhist)[-100:]\n"
     ]
    }
   ],
   "source": [
    "%cd ~/cma/CMA_Fairness_v2"
   ]
  },
  {
   "cell_type": "markdown",
   "id": "9d235661",
   "metadata": {
    "papermill": {
     "duration": 0.009153,
     "end_time": "2025-08-19T18:44:55.383021",
     "exception": false,
     "start_time": "2025-08-19T18:44:55.373868",
     "status": "completed"
    },
    "tags": []
   },
   "source": [
    "The following cell holds the definition of our parameters, these values can be overriden by rendering the with e.g. the following command:\n",
    "\n",
    "papermill -p alpha 0.2 -p ratio 0.3 universe_analysis.ipynb output/test_run.ipynb"
   ]
  },
  {
   "cell_type": "code",
   "execution_count": 2,
   "id": "4a789d8e",
   "metadata": {
    "execution": {
     "iopub.execute_input": "2025-08-19T18:44:55.402267Z",
     "iopub.status.busy": "2025-08-19T18:44:55.401635Z",
     "iopub.status.idle": "2025-08-19T18:44:55.406860Z",
     "shell.execute_reply": "2025-08-19T18:44:55.406001Z"
    },
    "papermill": {
     "duration": 0.016632,
     "end_time": "2025-08-19T18:44:55.408393",
     "exception": false,
     "start_time": "2025-08-19T18:44:55.391761",
     "status": "completed"
    },
    "tags": []
   },
   "outputs": [
    {
     "name": "stdout",
     "output_type": "stream",
     "text": [
      "Current working directory: /dss/dsshome1/0C/ra93lal2/cma/CMA_Fairness_v2\n"
     ]
    }
   ],
   "source": [
    "import os\n",
    "print(\"Current working directory:\", os.getcwd())"
   ]
  },
  {
   "cell_type": "code",
   "execution_count": 3,
   "id": "4132aaed",
   "metadata": {
    "execution": {
     "iopub.execute_input": "2025-08-19T18:44:55.436789Z",
     "iopub.status.busy": "2025-08-19T18:44:55.436374Z",
     "iopub.status.idle": "2025-08-19T18:44:55.441956Z",
     "shell.execute_reply": "2025-08-19T18:44:55.441176Z"
    },
    "papermill": {
     "duration": 0.025849,
     "end_time": "2025-08-19T18:44:55.443323",
     "exception": false,
     "start_time": "2025-08-19T18:44:55.417474",
     "status": "completed"
    },
    "tags": [
     "parameters"
    ]
   },
   "outputs": [],
   "source": [
    "run_no = 0\n",
    "universe_id = \"test\"\n",
    "universe = {\n",
    "    \"training_size\": \"5k\", # \"25k\", \"5k\", \"1k\"\n",
    "    \"training_year\": \"2012_14\", # \"2014\", \"2012_14\", \"2010_14\"\n",
    "    \"scale\": \"scale\", # \"scale\", \"do-not-scale\",\n",
    "    \"model\": \"elasticnet\", # \"logreg\", \"penalized_logreg\", \"rf\", \"gbm\", \"elasticnet\"\n",
    "    \"cutoff\": [\"quantile_0.15\", \"quantile_0.30\"],\n",
    "    \"exclude_features\": \"age\", # \"none\", \"nationality\", \"sex\", \"nationality-sex\", \"age\"\n",
    "    \"exclude_subgroups\": \"drop-non-german\", # \"keep-all\", \"drop-non-german\"\n",
    "    \"eval_fairness_grouping\": [\"majority-minority\", \"nationality-all\"]\n",
    "}\n",
    "\n",
    "output_dir=\"./output\"\n",
    "seed=0"
   ]
  },
  {
   "cell_type": "code",
   "execution_count": 4,
   "id": "cf468247",
   "metadata": {
    "execution": {
     "iopub.execute_input": "2025-08-19T18:44:55.491167Z",
     "iopub.status.busy": "2025-08-19T18:44:55.490251Z",
     "iopub.status.idle": "2025-08-19T18:44:55.497995Z",
     "shell.execute_reply": "2025-08-19T18:44:55.496804Z"
    },
    "papermill": {
     "duration": 0.03977,
     "end_time": "2025-08-19T18:44:55.499383",
     "exception": false,
     "start_time": "2025-08-19T18:44:55.459613",
     "status": "completed"
    },
    "tags": [
     "injected-parameters"
    ]
   },
   "outputs": [],
   "source": [
    "# Parameters\n",
    "universe_id = \"1dbf75895fba265daa23386848a6ca19\"\n",
    "run_no = \"3\"\n",
    "universe = \"{\\\"cutoff\\\": [\\\"quantile_0.1\\\", \\\"quantile_0.25\\\"], \\\"eval_fairness_grouping\\\": [\\\"majority-minority\\\", \\\"nationality-all\\\"], \\\"exclude_features\\\": \\\"nationality-sex\\\", \\\"exclude_subgroups\\\": \\\"keep-all\\\", \\\"model\\\": \\\"logreg\\\", \\\"scale\\\": \\\"do-not-scale\\\", \\\"training_size\\\": \\\"5k\\\", \\\"training_year\\\": \\\"2010_14\\\"}\"\n",
    "output_dir = \"output\"\n",
    "seed = \"2023\"\n"
   ]
  },
  {
   "cell_type": "code",
   "execution_count": 5,
   "id": "a5d7941f",
   "metadata": {
    "execution": {
     "iopub.execute_input": "2025-08-19T18:44:55.530209Z",
     "iopub.status.busy": "2025-08-19T18:44:55.529232Z",
     "iopub.status.idle": "2025-08-19T18:44:55.539183Z",
     "shell.execute_reply": "2025-08-19T18:44:55.538373Z"
    },
    "papermill": {
     "duration": 0.028889,
     "end_time": "2025-08-19T18:44:55.540392",
     "exception": false,
     "start_time": "2025-08-19T18:44:55.511503",
     "status": "completed"
    },
    "tags": []
   },
   "outputs": [],
   "source": [
    "import json\n",
    "if isinstance(universe, str):\n",
    "    universe = json.loads(universe)"
   ]
  },
  {
   "cell_type": "code",
   "execution_count": 6,
   "id": "7076ccb1",
   "metadata": {
    "execution": {
     "iopub.execute_input": "2025-08-19T18:44:55.565817Z",
     "iopub.status.busy": "2025-08-19T18:44:55.565477Z",
     "iopub.status.idle": "2025-08-19T18:44:55.611469Z",
     "shell.execute_reply": "2025-08-19T18:44:55.610535Z"
    },
    "papermill": {
     "duration": 0.063262,
     "end_time": "2025-08-19T18:44:55.613230",
     "exception": false,
     "start_time": "2025-08-19T18:44:55.549968",
     "status": "completed"
    },
    "tags": []
   },
   "outputs": [],
   "source": [
    "# Auto-reload the custom package\n",
    "%load_ext autoreload\n",
    "%autoreload 1\n",
    "%aimport fairness_multiverse"
   ]
  },
  {
   "cell_type": "code",
   "execution_count": 7,
   "id": "94c8eb93",
   "metadata": {
    "execution": {
     "iopub.execute_input": "2025-08-19T18:44:55.635409Z",
     "iopub.status.busy": "2025-08-19T18:44:55.634943Z",
     "iopub.status.idle": "2025-08-19T18:44:57.425041Z",
     "shell.execute_reply": "2025-08-19T18:44:57.423940Z"
    },
    "papermill": {
     "duration": 1.802125,
     "end_time": "2025-08-19T18:44:57.426878",
     "exception": false,
     "start_time": "2025-08-19T18:44:55.624753",
     "status": "completed"
    },
    "tags": []
   },
   "outputs": [],
   "source": [
    "from fairness_multiverse.universe import UniverseAnalysis\n",
    "\n",
    "universe_analysis = UniverseAnalysis(\n",
    "    run_no = run_no,\n",
    "    universe_id = universe_id,\n",
    "    universe = universe,\n",
    "    output_dir=output_dir,\n",
    ")"
   ]
  },
  {
   "cell_type": "code",
   "execution_count": 8,
   "id": "2a6381cf",
   "metadata": {
    "execution": {
     "iopub.execute_input": "2025-08-19T18:44:57.458058Z",
     "iopub.status.busy": "2025-08-19T18:44:57.457488Z",
     "iopub.status.idle": "2025-08-19T18:44:57.463717Z",
     "shell.execute_reply": "2025-08-19T18:44:57.462958Z"
    },
    "papermill": {
     "duration": 0.02495,
     "end_time": "2025-08-19T18:44:57.466159",
     "exception": false,
     "start_time": "2025-08-19T18:44:57.441209",
     "status": "completed"
    },
    "tags": []
   },
   "outputs": [
    {
     "name": "stdout",
     "output_type": "stream",
     "text": [
      "Using Seed: 2023\n"
     ]
    }
   ],
   "source": [
    "import numpy as np\n",
    "parsed_seed = int(seed)\n",
    "np.random.seed(parsed_seed)\n",
    "print(f\"Using Seed: {parsed_seed}\")"
   ]
  },
  {
   "cell_type": "markdown",
   "id": "b6e958b4",
   "metadata": {
    "papermill": {
     "duration": 0.011169,
     "end_time": "2025-08-19T18:44:57.497585",
     "exception": false,
     "start_time": "2025-08-19T18:44:57.486416",
     "status": "completed"
    },
    "tags": []
   },
   "source": [
    "# Loading Data"
   ]
  },
  {
   "cell_type": "code",
   "execution_count": 9,
   "id": "98701482",
   "metadata": {
    "execution": {
     "iopub.execute_input": "2025-08-19T18:44:57.536783Z",
     "iopub.status.busy": "2025-08-19T18:44:57.535503Z",
     "iopub.status.idle": "2025-08-19T18:45:07.391459Z",
     "shell.execute_reply": "2025-08-19T18:45:07.390054Z"
    },
    "papermill": {
     "duration": 9.875304,
     "end_time": "2025-08-19T18:45:07.392821",
     "exception": false,
     "start_time": "2025-08-19T18:44:57.517517",
     "status": "completed"
    },
    "tags": []
   },
   "outputs": [
    {
     "name": "stdout",
     "output_type": "stream",
     "text": [
      "Loading SIAB data from cache: data/siab_cached.csv.gz\n"
     ]
    },
    {
     "name": "stdout",
     "output_type": "stream",
     "text": [
      "(643690, 164)\n"
     ]
    }
   ],
   "source": [
    "from pathlib import Path\n",
    "import pandas as pd\n",
    "\n",
    "# File paths\n",
    "raw_file = Path(\"data/raw/siab.csv\")\n",
    "cache_file = Path(\"data/siab_cached.csv.gz\")\n",
    "\n",
    "# Ensure cache directory exists\n",
    "cache_file.parent.mkdir(parents=True, exist_ok=True)\n",
    "\n",
    "# Load with simple caching\n",
    "if cache_file.exists():\n",
    "    print(f\"Loading SIAB data from cache: {cache_file}\")\n",
    "    siab = pd.read_csv(cache_file, compression='gzip')\n",
    "else:\n",
    "    print(f\"Cache not found. Reading raw SIAB data: {raw_file}\")\n",
    "    siab = pd.read_csv(raw_file)\n",
    "    siab.to_csv(cache_file, index=False, compression='gzip')\n",
    "    print(f\"Cached SIAB data to: {cache_file}\")\n",
    "\n",
    "print(siab.shape)"
   ]
  },
  {
   "cell_type": "code",
   "execution_count": 10,
   "id": "058d2abb",
   "metadata": {
    "execution": {
     "iopub.execute_input": "2025-08-19T18:45:07.428787Z",
     "iopub.status.busy": "2025-08-19T18:45:07.428064Z",
     "iopub.status.idle": "2025-08-19T18:45:07.613737Z",
     "shell.execute_reply": "2025-08-19T18:45:07.613034Z"
    },
    "papermill": {
     "duration": 0.200506,
     "end_time": "2025-08-19T18:45:07.616552",
     "exception": false,
     "start_time": "2025-08-19T18:45:07.416046",
     "status": "completed"
    },
    "tags": []
   },
   "outputs": [
    {
     "data": {
      "text/html": [
       "<div>\n",
       "<style scoped>\n",
       "    .dataframe tbody tr th:only-of-type {\n",
       "        vertical-align: middle;\n",
       "    }\n",
       "\n",
       "    .dataframe tbody tr th {\n",
       "        vertical-align: top;\n",
       "    }\n",
       "\n",
       "    .dataframe thead th {\n",
       "        text-align: right;\n",
       "    }\n",
       "</style>\n",
       "<table border=\"1\" class=\"dataframe\">\n",
       "  <thead>\n",
       "    <tr style=\"text-align: right;\">\n",
       "      <th></th>\n",
       "      <th>persnr</th>\n",
       "      <th>year</th>\n",
       "      <th>nrEntry</th>\n",
       "      <th>ltue</th>\n",
       "      <th>employed_before</th>\n",
       "      <th>receipt_leh_before</th>\n",
       "      <th>receipt_lhg_before</th>\n",
       "      <th>se_before</th>\n",
       "      <th>ASU_notue_seeking_before</th>\n",
       "      <th>ASU_other_before</th>\n",
       "      <th>...</th>\n",
       "      <th>minijob_tot_dur_byage</th>\n",
       "      <th>ft_tot_dur_byage</th>\n",
       "      <th>befrist_tot_dur_byage</th>\n",
       "      <th>leih_tot_dur_byage</th>\n",
       "      <th>LHG_tot_dur_byage</th>\n",
       "      <th>LEH_tot_dur_byage</th>\n",
       "      <th>almp_tot_dur_byage</th>\n",
       "      <th>almp_aw_tot_dur_byage</th>\n",
       "      <th>se_tot_dur_byage</th>\n",
       "      <th>seeking1_tot_dur_byage</th>\n",
       "    </tr>\n",
       "  </thead>\n",
       "  <tbody>\n",
       "    <tr>\n",
       "      <th>0</th>\n",
       "      <td>7</td>\n",
       "      <td>2015</td>\n",
       "      <td>1</td>\n",
       "      <td>0</td>\n",
       "      <td>1</td>\n",
       "      <td>0</td>\n",
       "      <td>0</td>\n",
       "      <td>0</td>\n",
       "      <td>1</td>\n",
       "      <td>0</td>\n",
       "      <td>...</td>\n",
       "      <td>0.000000</td>\n",
       "      <td>0.000000</td>\n",
       "      <td>15.043478</td>\n",
       "      <td>0.000000</td>\n",
       "      <td>0.000000</td>\n",
       "      <td>0.000000</td>\n",
       "      <td>0.000000</td>\n",
       "      <td>0.000000</td>\n",
       "      <td>0.000000</td>\n",
       "      <td>0.000000</td>\n",
       "    </tr>\n",
       "    <tr>\n",
       "      <th>1</th>\n",
       "      <td>18</td>\n",
       "      <td>2010</td>\n",
       "      <td>1</td>\n",
       "      <td>1</td>\n",
       "      <td>0</td>\n",
       "      <td>0</td>\n",
       "      <td>0</td>\n",
       "      <td>0</td>\n",
       "      <td>0</td>\n",
       "      <td>0</td>\n",
       "      <td>...</td>\n",
       "      <td>0.000000</td>\n",
       "      <td>0.000000</td>\n",
       "      <td>0.000000</td>\n",
       "      <td>0.000000</td>\n",
       "      <td>0.000000</td>\n",
       "      <td>0.000000</td>\n",
       "      <td>0.000000</td>\n",
       "      <td>0.000000</td>\n",
       "      <td>0.000000</td>\n",
       "      <td>0.000000</td>\n",
       "    </tr>\n",
       "    <tr>\n",
       "      <th>2</th>\n",
       "      <td>18</td>\n",
       "      <td>2011</td>\n",
       "      <td>2</td>\n",
       "      <td>0</td>\n",
       "      <td>1</td>\n",
       "      <td>0</td>\n",
       "      <td>1</td>\n",
       "      <td>0</td>\n",
       "      <td>1</td>\n",
       "      <td>0</td>\n",
       "      <td>...</td>\n",
       "      <td>2.714286</td>\n",
       "      <td>2.714286</td>\n",
       "      <td>0.000000</td>\n",
       "      <td>0.000000</td>\n",
       "      <td>10.775510</td>\n",
       "      <td>0.000000</td>\n",
       "      <td>8.367347</td>\n",
       "      <td>0.000000</td>\n",
       "      <td>0.000000</td>\n",
       "      <td>9.836735</td>\n",
       "    </tr>\n",
       "    <tr>\n",
       "      <th>3</th>\n",
       "      <td>18</td>\n",
       "      <td>2012</td>\n",
       "      <td>3</td>\n",
       "      <td>0</td>\n",
       "      <td>1</td>\n",
       "      <td>0</td>\n",
       "      <td>1</td>\n",
       "      <td>0</td>\n",
       "      <td>1</td>\n",
       "      <td>0</td>\n",
       "      <td>...</td>\n",
       "      <td>4.200000</td>\n",
       "      <td>4.200000</td>\n",
       "      <td>0.000000</td>\n",
       "      <td>0.000000</td>\n",
       "      <td>12.100000</td>\n",
       "      <td>0.000000</td>\n",
       "      <td>9.400000</td>\n",
       "      <td>0.000000</td>\n",
       "      <td>0.000000</td>\n",
       "      <td>9.960000</td>\n",
       "    </tr>\n",
       "    <tr>\n",
       "      <th>4</th>\n",
       "      <td>18</td>\n",
       "      <td>2012</td>\n",
       "      <td>4</td>\n",
       "      <td>0</td>\n",
       "      <td>1</td>\n",
       "      <td>0</td>\n",
       "      <td>1</td>\n",
       "      <td>0</td>\n",
       "      <td>1</td>\n",
       "      <td>0</td>\n",
       "      <td>...</td>\n",
       "      <td>5.460000</td>\n",
       "      <td>5.460000</td>\n",
       "      <td>0.000000</td>\n",
       "      <td>0.000000</td>\n",
       "      <td>13.360000</td>\n",
       "      <td>0.000000</td>\n",
       "      <td>10.320000</td>\n",
       "      <td>0.000000</td>\n",
       "      <td>0.000000</td>\n",
       "      <td>10.280000</td>\n",
       "    </tr>\n",
       "    <tr>\n",
       "      <th>...</th>\n",
       "      <td>...</td>\n",
       "      <td>...</td>\n",
       "      <td>...</td>\n",
       "      <td>...</td>\n",
       "      <td>...</td>\n",
       "      <td>...</td>\n",
       "      <td>...</td>\n",
       "      <td>...</td>\n",
       "      <td>...</td>\n",
       "      <td>...</td>\n",
       "      <td>...</td>\n",
       "      <td>...</td>\n",
       "      <td>...</td>\n",
       "      <td>...</td>\n",
       "      <td>...</td>\n",
       "      <td>...</td>\n",
       "      <td>...</td>\n",
       "      <td>...</td>\n",
       "      <td>...</td>\n",
       "      <td>...</td>\n",
       "      <td>...</td>\n",
       "    </tr>\n",
       "    <tr>\n",
       "      <th>643685</th>\n",
       "      <td>1827860</td>\n",
       "      <td>2013</td>\n",
       "      <td>1</td>\n",
       "      <td>0</td>\n",
       "      <td>0</td>\n",
       "      <td>0</td>\n",
       "      <td>1</td>\n",
       "      <td>0</td>\n",
       "      <td>0</td>\n",
       "      <td>1</td>\n",
       "      <td>...</td>\n",
       "      <td>0.000000</td>\n",
       "      <td>0.000000</td>\n",
       "      <td>0.000000</td>\n",
       "      <td>0.000000</td>\n",
       "      <td>0.612903</td>\n",
       "      <td>0.000000</td>\n",
       "      <td>0.000000</td>\n",
       "      <td>0.000000</td>\n",
       "      <td>0.000000</td>\n",
       "      <td>0.000000</td>\n",
       "    </tr>\n",
       "    <tr>\n",
       "      <th>643686</th>\n",
       "      <td>1827860</td>\n",
       "      <td>2015</td>\n",
       "      <td>2</td>\n",
       "      <td>1</td>\n",
       "      <td>0</td>\n",
       "      <td>0</td>\n",
       "      <td>1</td>\n",
       "      <td>0</td>\n",
       "      <td>1</td>\n",
       "      <td>0</td>\n",
       "      <td>...</td>\n",
       "      <td>0.000000</td>\n",
       "      <td>0.000000</td>\n",
       "      <td>0.212121</td>\n",
       "      <td>0.212121</td>\n",
       "      <td>17.363636</td>\n",
       "      <td>0.000000</td>\n",
       "      <td>8.909091</td>\n",
       "      <td>0.000000</td>\n",
       "      <td>0.000000</td>\n",
       "      <td>7.121212</td>\n",
       "    </tr>\n",
       "    <tr>\n",
       "      <th>643687</th>\n",
       "      <td>1827860</td>\n",
       "      <td>2016</td>\n",
       "      <td>3</td>\n",
       "      <td>1</td>\n",
       "      <td>0</td>\n",
       "      <td>0</td>\n",
       "      <td>1</td>\n",
       "      <td>1</td>\n",
       "      <td>0</td>\n",
       "      <td>1</td>\n",
       "      <td>...</td>\n",
       "      <td>0.000000</td>\n",
       "      <td>0.000000</td>\n",
       "      <td>0.294118</td>\n",
       "      <td>0.205882</td>\n",
       "      <td>34.705882</td>\n",
       "      <td>0.000000</td>\n",
       "      <td>10.352941</td>\n",
       "      <td>1.705882</td>\n",
       "      <td>1.705882</td>\n",
       "      <td>23.911765</td>\n",
       "    </tr>\n",
       "    <tr>\n",
       "      <th>643688</th>\n",
       "      <td>1827869</td>\n",
       "      <td>2013</td>\n",
       "      <td>1</td>\n",
       "      <td>1</td>\n",
       "      <td>1</td>\n",
       "      <td>0</td>\n",
       "      <td>0</td>\n",
       "      <td>0</td>\n",
       "      <td>1</td>\n",
       "      <td>0</td>\n",
       "      <td>...</td>\n",
       "      <td>0.000000</td>\n",
       "      <td>0.000000</td>\n",
       "      <td>0.000000</td>\n",
       "      <td>0.000000</td>\n",
       "      <td>0.000000</td>\n",
       "      <td>0.525424</td>\n",
       "      <td>0.000000</td>\n",
       "      <td>0.000000</td>\n",
       "      <td>0.000000</td>\n",
       "      <td>0.000000</td>\n",
       "    </tr>\n",
       "    <tr>\n",
       "      <th>643689</th>\n",
       "      <td>1827869</td>\n",
       "      <td>2014</td>\n",
       "      <td>2</td>\n",
       "      <td>0</td>\n",
       "      <td>0</td>\n",
       "      <td>1</td>\n",
       "      <td>0</td>\n",
       "      <td>0</td>\n",
       "      <td>1</td>\n",
       "      <td>0</td>\n",
       "      <td>...</td>\n",
       "      <td>0.000000</td>\n",
       "      <td>0.666667</td>\n",
       "      <td>0.666667</td>\n",
       "      <td>0.000000</td>\n",
       "      <td>0.000000</td>\n",
       "      <td>8.950000</td>\n",
       "      <td>1.033333</td>\n",
       "      <td>0.083333</td>\n",
       "      <td>0.083333</td>\n",
       "      <td>8.133333</td>\n",
       "    </tr>\n",
       "  </tbody>\n",
       "</table>\n",
       "<p>643690 rows × 164 columns</p>\n",
       "</div>"
      ],
      "text/plain": [
       "         persnr  year  nrEntry  ltue  employed_before  receipt_leh_before  \\\n",
       "0             7  2015        1     0                1                   0   \n",
       "1            18  2010        1     1                0                   0   \n",
       "2            18  2011        2     0                1                   0   \n",
       "3            18  2012        3     0                1                   0   \n",
       "4            18  2012        4     0                1                   0   \n",
       "...         ...   ...      ...   ...              ...                 ...   \n",
       "643685  1827860  2013        1     0                0                   0   \n",
       "643686  1827860  2015        2     1                0                   0   \n",
       "643687  1827860  2016        3     1                0                   0   \n",
       "643688  1827869  2013        1     1                1                   0   \n",
       "643689  1827869  2014        2     0                0                   1   \n",
       "\n",
       "        receipt_lhg_before  se_before  ASU_notue_seeking_before  \\\n",
       "0                        0          0                         1   \n",
       "1                        0          0                         0   \n",
       "2                        1          0                         1   \n",
       "3                        1          0                         1   \n",
       "4                        1          0                         1   \n",
       "...                    ...        ...                       ...   \n",
       "643685                   1          0                         0   \n",
       "643686                   1          0                         1   \n",
       "643687                   1          1                         0   \n",
       "643688                   0          0                         1   \n",
       "643689                   0          0                         1   \n",
       "\n",
       "        ASU_other_before  ...  minijob_tot_dur_byage  ft_tot_dur_byage  \\\n",
       "0                      0  ...               0.000000          0.000000   \n",
       "1                      0  ...               0.000000          0.000000   \n",
       "2                      0  ...               2.714286          2.714286   \n",
       "3                      0  ...               4.200000          4.200000   \n",
       "4                      0  ...               5.460000          5.460000   \n",
       "...                  ...  ...                    ...               ...   \n",
       "643685                 1  ...               0.000000          0.000000   \n",
       "643686                 0  ...               0.000000          0.000000   \n",
       "643687                 1  ...               0.000000          0.000000   \n",
       "643688                 0  ...               0.000000          0.000000   \n",
       "643689                 0  ...               0.000000          0.666667   \n",
       "\n",
       "        befrist_tot_dur_byage  leih_tot_dur_byage  LHG_tot_dur_byage  \\\n",
       "0                   15.043478            0.000000           0.000000   \n",
       "1                    0.000000            0.000000           0.000000   \n",
       "2                    0.000000            0.000000          10.775510   \n",
       "3                    0.000000            0.000000          12.100000   \n",
       "4                    0.000000            0.000000          13.360000   \n",
       "...                       ...                 ...                ...   \n",
       "643685               0.000000            0.000000           0.612903   \n",
       "643686               0.212121            0.212121          17.363636   \n",
       "643687               0.294118            0.205882          34.705882   \n",
       "643688               0.000000            0.000000           0.000000   \n",
       "643689               0.666667            0.000000           0.000000   \n",
       "\n",
       "        LEH_tot_dur_byage  almp_tot_dur_byage  almp_aw_tot_dur_byage  \\\n",
       "0                0.000000            0.000000               0.000000   \n",
       "1                0.000000            0.000000               0.000000   \n",
       "2                0.000000            8.367347               0.000000   \n",
       "3                0.000000            9.400000               0.000000   \n",
       "4                0.000000           10.320000               0.000000   \n",
       "...                   ...                 ...                    ...   \n",
       "643685           0.000000            0.000000               0.000000   \n",
       "643686           0.000000            8.909091               0.000000   \n",
       "643687           0.000000           10.352941               1.705882   \n",
       "643688           0.525424            0.000000               0.000000   \n",
       "643689           8.950000            1.033333               0.083333   \n",
       "\n",
       "        se_tot_dur_byage  seeking1_tot_dur_byage  \n",
       "0               0.000000                0.000000  \n",
       "1               0.000000                0.000000  \n",
       "2               0.000000                9.836735  \n",
       "3               0.000000                9.960000  \n",
       "4               0.000000               10.280000  \n",
       "...                  ...                     ...  \n",
       "643685          0.000000                0.000000  \n",
       "643686          0.000000                7.121212  \n",
       "643687          1.705882               23.911765  \n",
       "643688          0.000000                0.000000  \n",
       "643689          0.083333                8.133333  \n",
       "\n",
       "[643690 rows x 164 columns]"
      ]
     },
     "execution_count": 10,
     "metadata": {},
     "output_type": "execute_result"
    }
   ],
   "source": [
    "siab"
   ]
  },
  {
   "cell_type": "markdown",
   "id": "1f87e805",
   "metadata": {
    "papermill": {
     "duration": 0.011886,
     "end_time": "2025-08-19T18:45:07.650432",
     "exception": false,
     "start_time": "2025-08-19T18:45:07.638546",
     "status": "completed"
    },
    "tags": []
   },
   "source": [
    "# Splitting Data and Setting Training Data Size"
   ]
  },
  {
   "cell_type": "code",
   "execution_count": 11,
   "id": "910ae358",
   "metadata": {
    "execution": {
     "iopub.execute_input": "2025-08-19T18:45:07.672814Z",
     "iopub.status.busy": "2025-08-19T18:45:07.671736Z",
     "iopub.status.idle": "2025-08-19T18:45:08.753176Z",
     "shell.execute_reply": "2025-08-19T18:45:08.751989Z"
    },
    "papermill": {
     "duration": 1.095618,
     "end_time": "2025-08-19T18:45:08.755842",
     "exception": false,
     "start_time": "2025-08-19T18:45:07.660224",
     "status": "completed"
    },
    "tags": []
   },
   "outputs": [],
   "source": [
    "from fairness_multiverse.universe import sample_by_year_size\n",
    "\n",
    "siab_train = sample_by_year_size(siab,\n",
    "                               training_year=universe[\"training_year\"],\n",
    "                               training_size=universe[\"training_size\"])"
   ]
  },
  {
   "cell_type": "code",
   "execution_count": 12,
   "id": "919c8ff5",
   "metadata": {
    "execution": {
     "iopub.execute_input": "2025-08-19T18:45:08.794853Z",
     "iopub.status.busy": "2025-08-19T18:45:08.793776Z",
     "iopub.status.idle": "2025-08-19T18:45:08.808807Z",
     "shell.execute_reply": "2025-08-19T18:45:08.807646Z"
    },
    "papermill": {
     "duration": 0.030834,
     "end_time": "2025-08-19T18:45:08.810395",
     "exception": false,
     "start_time": "2025-08-19T18:45:08.779561",
     "status": "completed"
    },
    "tags": []
   },
   "outputs": [
    {
     "data": {
      "text/plain": [
       "(5000, 164)"
      ]
     },
     "execution_count": 12,
     "metadata": {},
     "output_type": "execute_result"
    }
   ],
   "source": [
    "siab_train.shape"
   ]
  },
  {
   "cell_type": "code",
   "execution_count": 13,
   "id": "feb13bf4",
   "metadata": {
    "execution": {
     "iopub.execute_input": "2025-08-19T18:45:08.837700Z",
     "iopub.status.busy": "2025-08-19T18:45:08.836656Z",
     "iopub.status.idle": "2025-08-19T18:45:08.855880Z",
     "shell.execute_reply": "2025-08-19T18:45:08.854404Z"
    },
    "papermill": {
     "duration": 0.033064,
     "end_time": "2025-08-19T18:45:08.857424",
     "exception": false,
     "start_time": "2025-08-19T18:45:08.824360",
     "status": "completed"
    },
    "tags": []
   },
   "outputs": [
    {
     "data": {
      "text/plain": [
       "year\n",
       "2010    1000\n",
       "2011    1000\n",
       "2012    1000\n",
       "2013    1000\n",
       "2014    1000\n",
       "dtype: int64"
      ]
     },
     "metadata": {},
     "output_type": "display_data"
    }
   ],
   "source": [
    "display(siab_train.groupby(\"year\").size())"
   ]
  },
  {
   "cell_type": "code",
   "execution_count": 14,
   "id": "0997782f",
   "metadata": {
    "execution": {
     "iopub.execute_input": "2025-08-19T18:45:08.887465Z",
     "iopub.status.busy": "2025-08-19T18:45:08.886280Z",
     "iopub.status.idle": "2025-08-19T18:45:09.157446Z",
     "shell.execute_reply": "2025-08-19T18:45:09.156601Z"
    },
    "papermill": {
     "duration": 0.286494,
     "end_time": "2025-08-19T18:45:09.159983",
     "exception": false,
     "start_time": "2025-08-19T18:45:08.873489",
     "status": "completed"
    },
    "tags": []
   },
   "outputs": [],
   "source": [
    "#siab_train = siab_s[siab_s.year < 2015]\n",
    "siab_calib = siab[siab.year == 2015]\n",
    "siab_test = siab[siab.year == 2016]"
   ]
  },
  {
   "cell_type": "code",
   "execution_count": 15,
   "id": "2c1e4012",
   "metadata": {
    "execution": {
     "iopub.execute_input": "2025-08-19T18:45:09.198862Z",
     "iopub.status.busy": "2025-08-19T18:45:09.197904Z",
     "iopub.status.idle": "2025-08-19T18:45:09.207379Z",
     "shell.execute_reply": "2025-08-19T18:45:09.205324Z"
    },
    "papermill": {
     "duration": 0.043047,
     "end_time": "2025-08-19T18:45:09.226771",
     "exception": false,
     "start_time": "2025-08-19T18:45:09.183724",
     "status": "completed"
    },
    "tags": []
   },
   "outputs": [],
   "source": [
    "#siab_calib.shape"
   ]
  },
  {
   "cell_type": "code",
   "execution_count": 16,
   "id": "f66b54ca",
   "metadata": {
    "execution": {
     "iopub.execute_input": "2025-08-19T18:45:09.266354Z",
     "iopub.status.busy": "2025-08-19T18:45:09.265943Z",
     "iopub.status.idle": "2025-08-19T18:45:09.270055Z",
     "shell.execute_reply": "2025-08-19T18:45:09.269443Z"
    },
    "papermill": {
     "duration": 0.019914,
     "end_time": "2025-08-19T18:45:09.271949",
     "exception": false,
     "start_time": "2025-08-19T18:45:09.252035",
     "status": "completed"
    },
    "tags": []
   },
   "outputs": [],
   "source": [
    "#siab_test.shape"
   ]
  },
  {
   "cell_type": "code",
   "execution_count": 17,
   "id": "27e4384d",
   "metadata": {
    "execution": {
     "iopub.execute_input": "2025-08-19T18:45:09.294855Z",
     "iopub.status.busy": "2025-08-19T18:45:09.294451Z",
     "iopub.status.idle": "2025-08-19T18:45:09.305011Z",
     "shell.execute_reply": "2025-08-19T18:45:09.304291Z"
    },
    "papermill": {
     "duration": 0.025383,
     "end_time": "2025-08-19T18:45:09.308581",
     "exception": false,
     "start_time": "2025-08-19T18:45:09.283198",
     "status": "completed"
    },
    "tags": []
   },
   "outputs": [],
   "source": [
    "X_train = siab_train.iloc[:,4:164]\n",
    "y_train = siab_train.iloc[:, [3]]"
   ]
  },
  {
   "cell_type": "code",
   "execution_count": 18,
   "id": "08ee8389",
   "metadata": {
    "execution": {
     "iopub.execute_input": "2025-08-19T18:45:09.333613Z",
     "iopub.status.busy": "2025-08-19T18:45:09.333210Z",
     "iopub.status.idle": "2025-08-19T18:45:09.409238Z",
     "shell.execute_reply": "2025-08-19T18:45:09.408484Z"
    },
    "papermill": {
     "duration": 0.088368,
     "end_time": "2025-08-19T18:45:09.410305",
     "exception": false,
     "start_time": "2025-08-19T18:45:09.321937",
     "status": "completed"
    },
    "tags": []
   },
   "outputs": [],
   "source": [
    "X_calib = siab_calib.iloc[:,4:164]\n",
    "y_calib = siab_calib.iloc[:, [3]]"
   ]
  },
  {
   "cell_type": "code",
   "execution_count": 19,
   "id": "b7ff42e0",
   "metadata": {
    "execution": {
     "iopub.execute_input": "2025-08-19T18:45:09.439862Z",
     "iopub.status.busy": "2025-08-19T18:45:09.439440Z",
     "iopub.status.idle": "2025-08-19T18:45:09.501214Z",
     "shell.execute_reply": "2025-08-19T18:45:09.500435Z"
    },
    "papermill": {
     "duration": 0.077993,
     "end_time": "2025-08-19T18:45:09.502837",
     "exception": false,
     "start_time": "2025-08-19T18:45:09.424844",
     "status": "completed"
    },
    "tags": []
   },
   "outputs": [],
   "source": [
    "X_test = siab_test.iloc[:,4:164]\n",
    "y_true = siab_test.iloc[:, [3]]"
   ]
  },
  {
   "cell_type": "code",
   "execution_count": 20,
   "id": "0275101e",
   "metadata": {
    "execution": {
     "iopub.execute_input": "2025-08-19T18:45:09.556921Z",
     "iopub.status.busy": "2025-08-19T18:45:09.555928Z",
     "iopub.status.idle": "2025-08-19T18:45:09.672309Z",
     "shell.execute_reply": "2025-08-19T18:45:09.671619Z"
    },
    "papermill": {
     "duration": 0.155845,
     "end_time": "2025-08-19T18:45:09.674880",
     "exception": false,
     "start_time": "2025-08-19T18:45:09.519035",
     "status": "completed"
    },
    "tags": []
   },
   "outputs": [],
   "source": [
    "# Auxiliary data needed downstream in the pipeline\n",
    "\n",
    "org_train = X_train.copy()\n",
    "org_test = X_test.copy()\n",
    "org_calib = X_calib.copy()"
   ]
  },
  {
   "cell_type": "markdown",
   "id": "b461e618",
   "metadata": {
    "papermill": {
     "duration": 0.010885,
     "end_time": "2025-08-19T18:45:09.729618",
     "exception": false,
     "start_time": "2025-08-19T18:45:09.718733",
     "status": "completed"
    },
    "tags": []
   },
   "source": [
    "# Preprocessing Data"
   ]
  },
  {
   "cell_type": "code",
   "execution_count": 21,
   "id": "78e74c4b",
   "metadata": {
    "execution": {
     "iopub.execute_input": "2025-08-19T18:45:09.752232Z",
     "iopub.status.busy": "2025-08-19T18:45:09.751738Z",
     "iopub.status.idle": "2025-08-19T18:45:09.757326Z",
     "shell.execute_reply": "2025-08-19T18:45:09.756644Z"
    },
    "papermill": {
     "duration": 0.018273,
     "end_time": "2025-08-19T18:45:09.758390",
     "exception": false,
     "start_time": "2025-08-19T18:45:09.740117",
     "status": "completed"
    },
    "tags": []
   },
   "outputs": [],
   "source": [
    "# EXCLUDE PROTECTED FEATURES\n",
    "# --------------------------\n",
    "\n",
    "excluded_features = universe[\"exclude_features\"].split(\"-\")\n",
    "excluded_features_dictionary = {\n",
    "    \"nationality\": [\"maxdeutsch1\", \"maxdeutsch.Missing.\"],\n",
    "    \"sex\": [\"frau1\"],\n",
    "    \"age\": [\"age\"],\n",
    "}"
   ]
  },
  {
   "cell_type": "code",
   "execution_count": 22,
   "id": "f8e63555",
   "metadata": {
    "execution": {
     "iopub.execute_input": "2025-08-19T18:45:09.780976Z",
     "iopub.status.busy": "2025-08-19T18:45:09.780565Z",
     "iopub.status.idle": "2025-08-19T18:45:09.785097Z",
     "shell.execute_reply": "2025-08-19T18:45:09.784463Z"
    },
    "papermill": {
     "duration": 0.017026,
     "end_time": "2025-08-19T18:45:09.786207",
     "exception": false,
     "start_time": "2025-08-19T18:45:09.769181",
     "status": "completed"
    },
    "tags": []
   },
   "outputs": [],
   "source": [
    "excluded_features_columns = [\n",
    "    excluded_features_dictionary[f] for f in excluded_features if len(f) > 0 and f != \"none\"\n",
    "]"
   ]
  },
  {
   "cell_type": "code",
   "execution_count": 23,
   "id": "da781f7c",
   "metadata": {
    "execution": {
     "iopub.execute_input": "2025-08-19T18:45:09.817263Z",
     "iopub.status.busy": "2025-08-19T18:45:09.816753Z",
     "iopub.status.idle": "2025-08-19T18:45:09.821000Z",
     "shell.execute_reply": "2025-08-19T18:45:09.820346Z"
    },
    "papermill": {
     "duration": 0.021504,
     "end_time": "2025-08-19T18:45:09.822487",
     "exception": false,
     "start_time": "2025-08-19T18:45:09.800983",
     "status": "completed"
    },
    "tags": []
   },
   "outputs": [],
   "source": [
    "from fairness_multiverse.universe import flatten_once\n",
    "\n",
    "excluded_features_columns = flatten_once(excluded_features_columns)"
   ]
  },
  {
   "cell_type": "code",
   "execution_count": 24,
   "id": "37fef0f0",
   "metadata": {
    "execution": {
     "iopub.execute_input": "2025-08-19T18:45:09.845243Z",
     "iopub.status.busy": "2025-08-19T18:45:09.844846Z",
     "iopub.status.idle": "2025-08-19T18:45:09.856279Z",
     "shell.execute_reply": "2025-08-19T18:45:09.855609Z"
    },
    "papermill": {
     "duration": 0.028156,
     "end_time": "2025-08-19T18:45:09.861407",
     "exception": false,
     "start_time": "2025-08-19T18:45:09.833251",
     "status": "completed"
    },
    "tags": []
   },
   "outputs": [
    {
     "name": "stdout",
     "output_type": "stream",
     "text": [
      "Dropping features: ['maxdeutsch1', 'maxdeutsch.Missing.', 'frau1']\n"
     ]
    }
   ],
   "source": [
    "if len(excluded_features_columns) > 0:\n",
    "    print(f\"Dropping features: {excluded_features_columns}\")\n",
    "    X_train.drop(excluded_features_columns, axis=1, inplace=True)"
   ]
  },
  {
   "cell_type": "code",
   "execution_count": 25,
   "id": "d029e3e9",
   "metadata": {
    "execution": {
     "iopub.execute_input": "2025-08-19T18:45:09.914640Z",
     "iopub.status.busy": "2025-08-19T18:45:09.913590Z",
     "iopub.status.idle": "2025-08-19T18:45:09.977424Z",
     "shell.execute_reply": "2025-08-19T18:45:09.976736Z"
    },
    "papermill": {
     "duration": 0.086615,
     "end_time": "2025-08-19T18:45:09.982301",
     "exception": false,
     "start_time": "2025-08-19T18:45:09.895686",
     "status": "completed"
    },
    "tags": []
   },
   "outputs": [
    {
     "name": "stdout",
     "output_type": "stream",
     "text": [
      "Dropping features: ['maxdeutsch1', 'maxdeutsch.Missing.', 'frau1']\n"
     ]
    }
   ],
   "source": [
    "if len(excluded_features_columns) > 0:\n",
    "    print(f\"Dropping features: {excluded_features_columns}\")\n",
    "    X_test.drop(excluded_features_columns, axis=1, inplace=True)"
   ]
  },
  {
   "cell_type": "code",
   "execution_count": 26,
   "id": "01d571f0",
   "metadata": {
    "execution": {
     "iopub.execute_input": "2025-08-19T18:45:10.018414Z",
     "iopub.status.busy": "2025-08-19T18:45:10.017606Z",
     "iopub.status.idle": "2025-08-19T18:45:10.081036Z",
     "shell.execute_reply": "2025-08-19T18:45:10.080361Z"
    },
    "papermill": {
     "duration": 0.079694,
     "end_time": "2025-08-19T18:45:10.084216",
     "exception": false,
     "start_time": "2025-08-19T18:45:10.004522",
     "status": "completed"
    },
    "tags": []
   },
   "outputs": [
    {
     "name": "stdout",
     "output_type": "stream",
     "text": [
      "Dropping features: ['maxdeutsch1', 'maxdeutsch.Missing.', 'frau1']\n"
     ]
    }
   ],
   "source": [
    "if len(excluded_features_columns) > 0:\n",
    "    print(f\"Dropping features: {excluded_features_columns}\")\n",
    "    X_calib.drop(excluded_features_columns, axis=1, inplace=True)"
   ]
  },
  {
   "cell_type": "code",
   "execution_count": 27,
   "id": "3037356e",
   "metadata": {
    "execution": {
     "iopub.execute_input": "2025-08-19T18:45:10.123271Z",
     "iopub.status.busy": "2025-08-19T18:45:10.122098Z",
     "iopub.status.idle": "2025-08-19T18:45:10.130597Z",
     "shell.execute_reply": "2025-08-19T18:45:10.129014Z"
    },
    "papermill": {
     "duration": 0.022904,
     "end_time": "2025-08-19T18:45:10.132241",
     "exception": false,
     "start_time": "2025-08-19T18:45:10.109337",
     "status": "completed"
    },
    "tags": []
   },
   "outputs": [],
   "source": [
    "# EXCLUDE CERTAIN SUBGROUPS\n",
    "# -------------------------\n",
    "\n",
    "mode = universe.get(\"exclude_subgroups\", \"keep-all\") # Defaults to \"keep-all\" if the key is missing."
   ]
  },
  {
   "cell_type": "code",
   "execution_count": 28,
   "id": "9d1e63fd",
   "metadata": {
    "execution": {
     "iopub.execute_input": "2025-08-19T18:45:10.159219Z",
     "iopub.status.busy": "2025-08-19T18:45:10.158240Z",
     "iopub.status.idle": "2025-08-19T18:45:10.169384Z",
     "shell.execute_reply": "2025-08-19T18:45:10.167747Z"
    },
    "papermill": {
     "duration": 0.024658,
     "end_time": "2025-08-19T18:45:10.170776",
     "exception": false,
     "start_time": "2025-08-19T18:45:10.146118",
     "status": "completed"
    },
    "tags": []
   },
   "outputs": [],
   "source": [
    "if mode == \"keep-all\":\n",
    "    keep_mask = pd.Series(True, index=org_train.index)\n",
    "\n",
    "elif mode == \"drop-non-german\":\n",
    "    keep_mask = (org_train[\"maxdeutsch1\"] == 1) & (org_train[\"maxdeutsch.Missing.\"] == 0)\n",
    "\n",
    "else:\n",
    "    raise ValueError(f\"Unsupported mode for exclude_subgroups: {mode}\")"
   ]
  },
  {
   "cell_type": "code",
   "execution_count": 29,
   "id": "d3b65474",
   "metadata": {
    "execution": {
     "iopub.execute_input": "2025-08-19T18:45:10.197793Z",
     "iopub.status.busy": "2025-08-19T18:45:10.196672Z",
     "iopub.status.idle": "2025-08-19T18:45:10.207465Z",
     "shell.execute_reply": "2025-08-19T18:45:10.205865Z"
    },
    "papermill": {
     "duration": 0.024375,
     "end_time": "2025-08-19T18:45:10.209022",
     "exception": false,
     "start_time": "2025-08-19T18:45:10.184647",
     "status": "completed"
    },
    "tags": []
   },
   "outputs": [],
   "source": [
    "n_drop = (~keep_mask).sum() # Calculates how many rows are set to be dropped\n",
    "if n_drop > 0:\n",
    "    pct = n_drop / len(keep_mask) * 100\n",
    "    print(f\"Dropping {n_drop} rows ({pct:.2f}%) where mode='{mode}'\")"
   ]
  },
  {
   "cell_type": "code",
   "execution_count": 30,
   "id": "f44389b3",
   "metadata": {
    "execution": {
     "iopub.execute_input": "2025-08-19T18:45:10.236552Z",
     "iopub.status.busy": "2025-08-19T18:45:10.235165Z",
     "iopub.status.idle": "2025-08-19T18:45:10.254471Z",
     "shell.execute_reply": "2025-08-19T18:45:10.253381Z"
    },
    "papermill": {
     "duration": 0.032995,
     "end_time": "2025-08-19T18:45:10.255954",
     "exception": false,
     "start_time": "2025-08-19T18:45:10.222959",
     "status": "completed"
    },
    "tags": []
   },
   "outputs": [],
   "source": [
    "X_train = X_train[keep_mask]"
   ]
  },
  {
   "cell_type": "code",
   "execution_count": 31,
   "id": "ceca8c2a",
   "metadata": {
    "execution": {
     "iopub.execute_input": "2025-08-19T18:45:10.284067Z",
     "iopub.status.busy": "2025-08-19T18:45:10.283096Z",
     "iopub.status.idle": "2025-08-19T18:45:10.292998Z",
     "shell.execute_reply": "2025-08-19T18:45:10.291289Z"
    },
    "papermill": {
     "duration": 0.024082,
     "end_time": "2025-08-19T18:45:10.294443",
     "exception": false,
     "start_time": "2025-08-19T18:45:10.270361",
     "status": "completed"
    },
    "tags": []
   },
   "outputs": [],
   "source": [
    "y_train = y_train[keep_mask]"
   ]
  },
  {
   "cell_type": "markdown",
   "id": "04d31e2f",
   "metadata": {
    "papermill": {
     "duration": 0.014959,
     "end_time": "2025-08-19T18:45:10.323214",
     "exception": false,
     "start_time": "2025-08-19T18:45:10.308255",
     "status": "completed"
    },
    "tags": []
   },
   "source": [
    "# Model Training"
   ]
  },
  {
   "cell_type": "code",
   "execution_count": 32,
   "id": "db991733",
   "metadata": {
    "execution": {
     "iopub.execute_input": "2025-08-19T18:45:10.363581Z",
     "iopub.status.busy": "2025-08-19T18:45:10.363168Z",
     "iopub.status.idle": "2025-08-19T18:45:10.472757Z",
     "shell.execute_reply": "2025-08-19T18:45:10.471883Z"
    },
    "papermill": {
     "duration": 0.124661,
     "end_time": "2025-08-19T18:45:10.474307",
     "exception": false,
     "start_time": "2025-08-19T18:45:10.349646",
     "status": "completed"
    },
    "tags": []
   },
   "outputs": [],
   "source": [
    "from sklearn.linear_model import LogisticRegression\n",
    "from sklearn.ensemble import GradientBoostingClassifier, RandomForestClassifier\n",
    "\n",
    "if (universe[\"model\"] == \"logreg\"):\n",
    "    model = LogisticRegression() #penalty=\"none\", solver=\"newton-cg\", max_iter=1)\n",
    "elif (universe[\"model\"] == \"penalized_logreg\"):\n",
    "    model = LogisticRegression(penalty=\"l2\", C=0.1) #, solver=\"newton-cg\", max_iter=1)\n",
    "elif (universe[\"model\"] == \"rf\"):\n",
    "    model = RandomForestClassifier() # n_estimators=100, n_jobs=-1\n",
    "elif (universe[\"model\"] == \"gbm\"):\n",
    "    model = GradientBoostingClassifier()\n",
    "elif (universe[\"model\"] == \"elasticnet\"):\n",
    "    model = LogisticRegression(penalty = 'elasticnet', solver = 'saga', l1_ratio = 0.5) # max_iter=5000\n",
    "else:\n",
    "    raise \"Unsupported universe.model\""
   ]
  },
  {
   "cell_type": "code",
   "execution_count": 33,
   "id": "a4b5cd25",
   "metadata": {
    "execution": {
     "iopub.execute_input": "2025-08-19T18:45:10.504715Z",
     "iopub.status.busy": "2025-08-19T18:45:10.503833Z",
     "iopub.status.idle": "2025-08-19T18:45:10.512523Z",
     "shell.execute_reply": "2025-08-19T18:45:10.511248Z"
    },
    "papermill": {
     "duration": 0.022937,
     "end_time": "2025-08-19T18:45:10.514092",
     "exception": false,
     "start_time": "2025-08-19T18:45:10.491155",
     "status": "completed"
    },
    "tags": []
   },
   "outputs": [],
   "source": [
    "from sklearn.pipeline import Pipeline\n",
    "from sklearn.preprocessing import StandardScaler\n",
    "\n",
    "model = Pipeline([\n",
    "    #(\"continuous_processor\", continuous_processor),\n",
    "    #(\"categorical_preprocessor\", categorical_preprocessor),\n",
    "    (\"scale\", StandardScaler() if universe[\"scale\"] == \"scale\" else None), \n",
    "    (\"model\", model),\n",
    "])"
   ]
  },
  {
   "cell_type": "code",
   "execution_count": 34,
   "id": "283a904d",
   "metadata": {
    "execution": {
     "iopub.execute_input": "2025-08-19T18:45:10.544161Z",
     "iopub.status.busy": "2025-08-19T18:45:10.543650Z",
     "iopub.status.idle": "2025-08-19T18:45:10.715890Z",
     "shell.execute_reply": "2025-08-19T18:45:10.714836Z"
    },
    "papermill": {
     "duration": 0.188002,
     "end_time": "2025-08-19T18:45:10.718661",
     "exception": false,
     "start_time": "2025-08-19T18:45:10.530659",
     "status": "completed"
    },
    "tags": []
   },
   "outputs": [
    {
     "name": "stderr",
     "output_type": "stream",
     "text": [
      "/dss/dsshome1/0C/ra93lal2/.local/share/virtualenvs/CMA_Fairness_v2-3j10GkSs/lib/python3.10/site-packages/sklearn/linear_model/_logistic.py:444: ConvergenceWarning: lbfgs failed to converge (status=1):\n",
      "STOP: TOTAL NO. of ITERATIONS REACHED LIMIT.\n",
      "\n",
      "Increase the number of iterations (max_iter) or scale the data as shown in:\n",
      "    https://scikit-learn.org/stable/modules/preprocessing.html\n",
      "Please also refer to the documentation for alternative solver options:\n",
      "    https://scikit-learn.org/stable/modules/linear_model.html#logistic-regression\n",
      "  n_iter_i = _check_optimize_result(\n"
     ]
    },
    {
     "data": {
      "text/html": [
       "<style>#sk-container-id-1 {color: black;background-color: white;}#sk-container-id-1 pre{padding: 0;}#sk-container-id-1 div.sk-toggleable {background-color: white;}#sk-container-id-1 label.sk-toggleable__label {cursor: pointer;display: block;width: 100%;margin-bottom: 0;padding: 0.3em;box-sizing: border-box;text-align: center;}#sk-container-id-1 label.sk-toggleable__label-arrow:before {content: \"▸\";float: left;margin-right: 0.25em;color: #696969;}#sk-container-id-1 label.sk-toggleable__label-arrow:hover:before {color: black;}#sk-container-id-1 div.sk-estimator:hover label.sk-toggleable__label-arrow:before {color: black;}#sk-container-id-1 div.sk-toggleable__content {max-height: 0;max-width: 0;overflow: hidden;text-align: left;background-color: #f0f8ff;}#sk-container-id-1 div.sk-toggleable__content pre {margin: 0.2em;color: black;border-radius: 0.25em;background-color: #f0f8ff;}#sk-container-id-1 input.sk-toggleable__control:checked~div.sk-toggleable__content {max-height: 200px;max-width: 100%;overflow: auto;}#sk-container-id-1 input.sk-toggleable__control:checked~label.sk-toggleable__label-arrow:before {content: \"▾\";}#sk-container-id-1 div.sk-estimator input.sk-toggleable__control:checked~label.sk-toggleable__label {background-color: #d4ebff;}#sk-container-id-1 div.sk-label input.sk-toggleable__control:checked~label.sk-toggleable__label {background-color: #d4ebff;}#sk-container-id-1 input.sk-hidden--visually {border: 0;clip: rect(1px 1px 1px 1px);clip: rect(1px, 1px, 1px, 1px);height: 1px;margin: -1px;overflow: hidden;padding: 0;position: absolute;width: 1px;}#sk-container-id-1 div.sk-estimator {font-family: monospace;background-color: #f0f8ff;border: 1px dotted black;border-radius: 0.25em;box-sizing: border-box;margin-bottom: 0.5em;}#sk-container-id-1 div.sk-estimator:hover {background-color: #d4ebff;}#sk-container-id-1 div.sk-parallel-item::after {content: \"\";width: 100%;border-bottom: 1px solid gray;flex-grow: 1;}#sk-container-id-1 div.sk-label:hover label.sk-toggleable__label {background-color: #d4ebff;}#sk-container-id-1 div.sk-serial::before {content: \"\";position: absolute;border-left: 1px solid gray;box-sizing: border-box;top: 0;bottom: 0;left: 50%;z-index: 0;}#sk-container-id-1 div.sk-serial {display: flex;flex-direction: column;align-items: center;background-color: white;padding-right: 0.2em;padding-left: 0.2em;position: relative;}#sk-container-id-1 div.sk-item {position: relative;z-index: 1;}#sk-container-id-1 div.sk-parallel {display: flex;align-items: stretch;justify-content: center;background-color: white;position: relative;}#sk-container-id-1 div.sk-item::before, #sk-container-id-1 div.sk-parallel-item::before {content: \"\";position: absolute;border-left: 1px solid gray;box-sizing: border-box;top: 0;bottom: 0;left: 50%;z-index: -1;}#sk-container-id-1 div.sk-parallel-item {display: flex;flex-direction: column;z-index: 1;position: relative;background-color: white;}#sk-container-id-1 div.sk-parallel-item:first-child::after {align-self: flex-end;width: 50%;}#sk-container-id-1 div.sk-parallel-item:last-child::after {align-self: flex-start;width: 50%;}#sk-container-id-1 div.sk-parallel-item:only-child::after {width: 0;}#sk-container-id-1 div.sk-dashed-wrapped {border: 1px dashed gray;margin: 0 0.4em 0.5em 0.4em;box-sizing: border-box;padding-bottom: 0.4em;background-color: white;}#sk-container-id-1 div.sk-label label {font-family: monospace;font-weight: bold;display: inline-block;line-height: 1.2em;}#sk-container-id-1 div.sk-label-container {text-align: center;}#sk-container-id-1 div.sk-container {/* jupyter's `normalize.less` sets `[hidden] { display: none; }` but bootstrap.min.css set `[hidden] { display: none !important; }` so we also need the `!important` here to be able to override the default hidden behavior on the sphinx rendered scikit-learn.org. See: https://github.com/scikit-learn/scikit-learn/issues/21755 */display: inline-block !important;position: relative;}#sk-container-id-1 div.sk-text-repr-fallback {display: none;}</style><div id=\"sk-container-id-1\" class=\"sk-top-container\"><div class=\"sk-text-repr-fallback\"><pre>Pipeline(steps=[(&#x27;scale&#x27;, None), (&#x27;model&#x27;, LogisticRegression())])</pre><b>In a Jupyter environment, please rerun this cell to show the HTML representation or trust the notebook. <br />On GitHub, the HTML representation is unable to render, please try loading this page with nbviewer.org.</b></div><div class=\"sk-container\" hidden><div class=\"sk-item sk-dashed-wrapped\"><div class=\"sk-label-container\"><div class=\"sk-label sk-toggleable\"><input class=\"sk-toggleable__control sk-hidden--visually\" id=\"sk-estimator-id-1\" type=\"checkbox\" ><label for=\"sk-estimator-id-1\" class=\"sk-toggleable__label sk-toggleable__label-arrow\">Pipeline</label><div class=\"sk-toggleable__content\"><pre>Pipeline(steps=[(&#x27;scale&#x27;, None), (&#x27;model&#x27;, LogisticRegression())])</pre></div></div></div><div class=\"sk-serial\"><div class=\"sk-item\"><div class=\"sk-estimator sk-toggleable\"><input class=\"sk-toggleable__control sk-hidden--visually\" id=\"sk-estimator-id-2\" type=\"checkbox\" ><label for=\"sk-estimator-id-2\" class=\"sk-toggleable__label sk-toggleable__label-arrow\">None</label><div class=\"sk-toggleable__content\"><pre>None</pre></div></div></div><div class=\"sk-item\"><div class=\"sk-estimator sk-toggleable\"><input class=\"sk-toggleable__control sk-hidden--visually\" id=\"sk-estimator-id-3\" type=\"checkbox\" ><label for=\"sk-estimator-id-3\" class=\"sk-toggleable__label sk-toggleable__label-arrow\">LogisticRegression</label><div class=\"sk-toggleable__content\"><pre>LogisticRegression()</pre></div></div></div></div></div></div></div>"
      ],
      "text/plain": [
       "Pipeline(steps=[('scale', None), ('model', LogisticRegression())])"
      ]
     },
     "execution_count": 34,
     "metadata": {},
     "output_type": "execute_result"
    }
   ],
   "source": [
    "model.fit(X_train, y_train.values.ravel())"
   ]
  },
  {
   "cell_type": "code",
   "execution_count": 35,
   "id": "6e15e313",
   "metadata": {
    "execution": {
     "iopub.execute_input": "2025-08-19T18:45:10.753150Z",
     "iopub.status.busy": "2025-08-19T18:45:10.752142Z",
     "iopub.status.idle": "2025-08-19T18:45:10.868436Z",
     "shell.execute_reply": "2025-08-19T18:45:10.867405Z"
    },
    "papermill": {
     "duration": 0.133462,
     "end_time": "2025-08-19T18:45:10.871977",
     "exception": false,
     "start_time": "2025-08-19T18:45:10.738515",
     "status": "completed"
    },
    "tags": []
   },
   "outputs": [
    {
     "data": {
      "text/plain": [
       "0.8610745736261286"
      ]
     },
     "execution_count": 35,
     "metadata": {},
     "output_type": "execute_result"
    }
   ],
   "source": [
    "from fairness_multiverse.universe import predict_w_threshold\n",
    "\n",
    "probs_test = model.predict_proba(X_test)\n",
    "\n",
    "'''\n",
    "Below code returns a boolean array (or binary 0/1 array depending on how it’s used) where each element \n",
    "is True if the probability of class 1 is greater than or equal to the threshold, and False otherwise.\n",
    "'''\n",
    "y_pred_default = predict_w_threshold(probs_test, 0.5)\n",
    "\n",
    "from sklearn.metrics import accuracy_score\n",
    "\n",
    "# Naive prediction\n",
    "accuracy_score(y_true = y_true, y_pred = y_pred_default)"
   ]
  },
  {
   "cell_type": "code",
   "execution_count": 36,
   "id": "6f14067c",
   "metadata": {
    "execution": {
     "iopub.execute_input": "2025-08-19T18:45:10.916929Z",
     "iopub.status.busy": "2025-08-19T18:45:10.915749Z",
     "iopub.status.idle": "2025-08-19T18:45:11.014243Z",
     "shell.execute_reply": "2025-08-19T18:45:11.013063Z"
    },
    "papermill": {
     "duration": 0.126699,
     "end_time": "2025-08-19T18:45:11.015993",
     "exception": false,
     "start_time": "2025-08-19T18:45:10.889294",
     "status": "completed"
    },
    "tags": []
   },
   "outputs": [
    {
     "data": {
      "text/plain": [
       "array([0, 0, 0, ..., 0, 0, 0])"
      ]
     },
     "execution_count": 36,
     "metadata": {},
     "output_type": "execute_result"
    }
   ],
   "source": [
    "model.predict(X_test)"
   ]
  },
  {
   "cell_type": "markdown",
   "id": "3759920c",
   "metadata": {
    "papermill": {
     "duration": 0.011872,
     "end_time": "2025-08-19T18:45:11.041827",
     "exception": false,
     "start_time": "2025-08-19T18:45:11.029955",
     "status": "completed"
    },
    "tags": []
   },
   "source": [
    "# Conformal Prediction"
   ]
  },
  {
   "cell_type": "code",
   "execution_count": 37,
   "id": "14b27f59",
   "metadata": {
    "execution": {
     "iopub.execute_input": "2025-08-19T18:45:11.068400Z",
     "iopub.status.busy": "2025-08-19T18:45:11.067180Z",
     "iopub.status.idle": "2025-08-19T18:45:11.077599Z",
     "shell.execute_reply": "2025-08-19T18:45:11.075323Z"
    },
    "papermill": {
     "duration": 0.025817,
     "end_time": "2025-08-19T18:45:11.079378",
     "exception": false,
     "start_time": "2025-08-19T18:45:11.053561",
     "status": "completed"
    },
    "tags": []
   },
   "outputs": [],
   "source": [
    "# Miscoverage level for conformal prediction (10% allowed error rate => 90% target coverage)\n",
    "alpha = 0.1"
   ]
  },
  {
   "cell_type": "code",
   "execution_count": 38,
   "id": "59102472",
   "metadata": {
    "execution": {
     "iopub.execute_input": "2025-08-19T18:45:11.109071Z",
     "iopub.status.busy": "2025-08-19T18:45:11.107836Z",
     "iopub.status.idle": "2025-08-19T18:45:11.202125Z",
     "shell.execute_reply": "2025-08-19T18:45:11.201420Z"
    },
    "papermill": {
     "duration": 0.110501,
     "end_time": "2025-08-19T18:45:11.204668",
     "exception": false,
     "start_time": "2025-08-19T18:45:11.094167",
     "status": "completed"
    },
    "tags": []
   },
   "outputs": [],
   "source": [
    "probs_calib = model.predict_proba(X_calib)"
   ]
  },
  {
   "cell_type": "code",
   "execution_count": 39,
   "id": "a792d4dd",
   "metadata": {
    "execution": {
     "iopub.execute_input": "2025-08-19T18:45:11.246342Z",
     "iopub.status.busy": "2025-08-19T18:45:11.244964Z",
     "iopub.status.idle": "2025-08-19T18:45:11.257394Z",
     "shell.execute_reply": "2025-08-19T18:45:11.255631Z"
    },
    "papermill": {
     "duration": 0.029392,
     "end_time": "2025-08-19T18:45:11.259142",
     "exception": false,
     "start_time": "2025-08-19T18:45:11.229750",
     "status": "completed"
    },
    "tags": []
   },
   "outputs": [],
   "source": [
    "y_calib = y_calib.values.ravel().astype(int)"
   ]
  },
  {
   "cell_type": "code",
   "execution_count": 40,
   "id": "650fd033",
   "metadata": {
    "execution": {
     "iopub.execute_input": "2025-08-19T18:45:11.293644Z",
     "iopub.status.busy": "2025-08-19T18:45:11.292526Z",
     "iopub.status.idle": "2025-08-19T18:45:11.324467Z",
     "shell.execute_reply": "2025-08-19T18:45:11.313997Z"
    },
    "papermill": {
     "duration": 0.050013,
     "end_time": "2025-08-19T18:45:11.327383",
     "exception": false,
     "start_time": "2025-08-19T18:45:11.277370",
     "status": "completed"
    },
    "tags": []
   },
   "outputs": [],
   "source": [
    "from fairness_multiverse.conformal import compute_nc_scores\n",
    "\n",
    "# Compute nonconformity scores on calibration set (1 - probability of true class)\n",
    "nc_scores = compute_nc_scores(probs_calib, y_calib)"
   ]
  },
  {
   "cell_type": "code",
   "execution_count": 41,
   "id": "28ada44c",
   "metadata": {
    "execution": {
     "iopub.execute_input": "2025-08-19T18:45:11.366959Z",
     "iopub.status.busy": "2025-08-19T18:45:11.365313Z",
     "iopub.status.idle": "2025-08-19T18:45:11.377453Z",
     "shell.execute_reply": "2025-08-19T18:45:11.375789Z"
    },
    "papermill": {
     "duration": 0.029127,
     "end_time": "2025-08-19T18:45:11.379313",
     "exception": false,
     "start_time": "2025-08-19T18:45:11.350186",
     "status": "completed"
    },
    "tags": []
   },
   "outputs": [],
   "source": [
    "from fairness_multiverse.conformal import find_threshold\n",
    "\n",
    "# Find conformal threshold q_hat for the given alpha (split conformal method)\n",
    "q_hat = find_threshold(nc_scores, alpha)"
   ]
  },
  {
   "cell_type": "code",
   "execution_count": 42,
   "id": "df56469e",
   "metadata": {
    "execution": {
     "iopub.execute_input": "2025-08-19T18:45:11.420022Z",
     "iopub.status.busy": "2025-08-19T18:45:11.418828Z",
     "iopub.status.idle": "2025-08-19T18:45:11.429587Z",
     "shell.execute_reply": "2025-08-19T18:45:11.428184Z"
    },
    "papermill": {
     "duration": 0.03341,
     "end_time": "2025-08-19T18:45:11.431231",
     "exception": false,
     "start_time": "2025-08-19T18:45:11.397821",
     "status": "completed"
    },
    "tags": []
   },
   "outputs": [
    {
     "data": {
      "text/plain": [
       "0.6926488324474147"
      ]
     },
     "execution_count": 42,
     "metadata": {},
     "output_type": "execute_result"
    }
   ],
   "source": [
    "q_hat"
   ]
  },
  {
   "cell_type": "code",
   "execution_count": 43,
   "id": "aa1f5faa",
   "metadata": {
    "execution": {
     "iopub.execute_input": "2025-08-19T18:45:11.474262Z",
     "iopub.status.busy": "2025-08-19T18:45:11.472784Z",
     "iopub.status.idle": "2025-08-19T18:45:12.148559Z",
     "shell.execute_reply": "2025-08-19T18:45:12.147685Z"
    },
    "papermill": {
     "duration": 0.703287,
     "end_time": "2025-08-19T18:45:12.150480",
     "exception": false,
     "start_time": "2025-08-19T18:45:11.447193",
     "status": "completed"
    },
    "tags": []
   },
   "outputs": [],
   "source": [
    "from fairness_multiverse.conformal import predict_conformal_sets\n",
    "\n",
    "# Generate prediction sets for each test example\n",
    "pred_sets = predict_conformal_sets(model, X_test, q_hat)"
   ]
  },
  {
   "cell_type": "code",
   "execution_count": 44,
   "id": "97f67a6b",
   "metadata": {
    "execution": {
     "iopub.execute_input": "2025-08-19T18:45:12.226690Z",
     "iopub.status.busy": "2025-08-19T18:45:12.224379Z",
     "iopub.status.idle": "2025-08-19T18:45:12.239509Z",
     "shell.execute_reply": "2025-08-19T18:45:12.238111Z"
    },
    "papermill": {
     "duration": 0.048893,
     "end_time": "2025-08-19T18:45:12.242639",
     "exception": false,
     "start_time": "2025-08-19T18:45:12.193746",
     "status": "completed"
    },
    "tags": []
   },
   "outputs": [],
   "source": [
    "y_true = y_true.squeeze()"
   ]
  },
  {
   "cell_type": "code",
   "execution_count": 45,
   "id": "e700e9a7",
   "metadata": {
    "execution": {
     "iopub.execute_input": "2025-08-19T18:45:12.270303Z",
     "iopub.status.busy": "2025-08-19T18:45:12.269548Z",
     "iopub.status.idle": "2025-08-19T18:45:12.934655Z",
     "shell.execute_reply": "2025-08-19T18:45:12.933308Z"
    },
    "papermill": {
     "duration": 0.681289,
     "end_time": "2025-08-19T18:45:12.937419",
     "exception": false,
     "start_time": "2025-08-19T18:45:12.256130",
     "status": "completed"
    },
    "tags": []
   },
   "outputs": [],
   "source": [
    "from fairness_multiverse.conformal import evaluate_sets\n",
    "\n",
    "# Evaluate coverage and average set size on test data\n",
    "metrics = evaluate_sets(pred_sets, y_true)"
   ]
  },
  {
   "cell_type": "markdown",
   "id": "efbacec0",
   "metadata": {
    "papermill": {
     "duration": 0.024058,
     "end_time": "2025-08-19T18:45:12.990476",
     "exception": false,
     "start_time": "2025-08-19T18:45:12.966418",
     "status": "completed"
    },
    "tags": []
   },
   "source": [
    "# CP Metrics"
   ]
  },
  {
   "cell_type": "code",
   "execution_count": 46,
   "id": "9de55fb1",
   "metadata": {
    "execution": {
     "iopub.execute_input": "2025-08-19T18:45:13.019240Z",
     "iopub.status.busy": "2025-08-19T18:45:13.018557Z",
     "iopub.status.idle": "2025-08-19T18:45:13.026398Z",
     "shell.execute_reply": "2025-08-19T18:45:13.025711Z"
    },
    "papermill": {
     "duration": 0.023257,
     "end_time": "2025-08-19T18:45:13.027809",
     "exception": false,
     "start_time": "2025-08-19T18:45:13.004552",
     "status": "completed"
    },
    "tags": []
   },
   "outputs": [
    {
     "data": {
      "text/plain": [
       "{'coverage': 0.9118047040463716, 'avg_size': 1.195474306097425}"
      ]
     },
     "execution_count": 46,
     "metadata": {},
     "output_type": "execute_result"
    }
   ],
   "source": [
    "metrics"
   ]
  },
  {
   "cell_type": "code",
   "execution_count": 47,
   "id": "64c340a1",
   "metadata": {
    "execution": {
     "iopub.execute_input": "2025-08-19T18:45:13.062268Z",
     "iopub.status.busy": "2025-08-19T18:45:13.061798Z",
     "iopub.status.idle": "2025-08-19T18:45:13.074488Z",
     "shell.execute_reply": "2025-08-19T18:45:13.073625Z"
    },
    "papermill": {
     "duration": 0.028594,
     "end_time": "2025-08-19T18:45:13.076297",
     "exception": false,
     "start_time": "2025-08-19T18:45:13.047703",
     "status": "completed"
    },
    "tags": []
   },
   "outputs": [],
   "source": [
    "example_universe = universe.copy()\n",
    "universe_training_year = example_universe.get(\"training_year\")\n",
    "universe_training_size = example_universe.get(\"training_size\")\n",
    "universe_scale = example_universe.get(\"scale\")\n",
    "universe_model = example_universe.get(\"model\")\n",
    "universe_exclude_features = example_universe.get(\"exclude_features\")\n",
    "universe_exclude_subgroups = example_universe.get(\"exclude_subgroups\")"
   ]
  },
  {
   "cell_type": "code",
   "execution_count": 48,
   "id": "dbb53cb4",
   "metadata": {
    "execution": {
     "iopub.execute_input": "2025-08-19T18:45:13.107580Z",
     "iopub.status.busy": "2025-08-19T18:45:13.107158Z",
     "iopub.status.idle": "2025-08-19T18:45:13.112254Z",
     "shell.execute_reply": "2025-08-19T18:45:13.111514Z"
    },
    "papermill": {
     "duration": 0.023765,
     "end_time": "2025-08-19T18:45:13.115748",
     "exception": false,
     "start_time": "2025-08-19T18:45:13.091983",
     "status": "completed"
    },
    "tags": []
   },
   "outputs": [],
   "source": [
    "cp_metrics_dict = {\n",
    "    \"universe_id\": [universe_id],\n",
    "    \"universe_training_year\": [universe_training_year],\n",
    "    \"universe_training_size\": [universe_training_size],\n",
    "    \"universe_scale\": [universe_scale],\n",
    "    \"universe_model\": [universe_model],\n",
    "    \"universe_exclude_features\": [universe_exclude_features],\n",
    "    \"universe_exclude_subgroups\": [universe_exclude_subgroups],\n",
    "    \"q_hat\": [q_hat],\n",
    "    \"coverage\": [metrics[\"coverage\"]],\n",
    "    \"avg_size\": [metrics[\"avg_size\"]],\n",
    "}"
   ]
  },
  {
   "cell_type": "code",
   "execution_count": 49,
   "id": "0d70d4b2",
   "metadata": {
    "execution": {
     "iopub.execute_input": "2025-08-19T18:45:13.178964Z",
     "iopub.status.busy": "2025-08-19T18:45:13.178534Z",
     "iopub.status.idle": "2025-08-19T18:45:13.184979Z",
     "shell.execute_reply": "2025-08-19T18:45:13.184149Z"
    },
    "papermill": {
     "duration": 0.028781,
     "end_time": "2025-08-19T18:45:13.186649",
     "exception": false,
     "start_time": "2025-08-19T18:45:13.157868",
     "status": "completed"
    },
    "tags": []
   },
   "outputs": [],
   "source": [
    "cp_metrics_df = pd.DataFrame(cp_metrics_dict)"
   ]
  },
  {
   "cell_type": "code",
   "execution_count": 50,
   "id": "b494403c",
   "metadata": {
    "execution": {
     "iopub.execute_input": "2025-08-19T18:45:13.215281Z",
     "iopub.status.busy": "2025-08-19T18:45:13.214954Z",
     "iopub.status.idle": "2025-08-19T18:45:13.234527Z",
     "shell.execute_reply": "2025-08-19T18:45:13.233138Z"
    },
    "papermill": {
     "duration": 0.039046,
     "end_time": "2025-08-19T18:45:13.239643",
     "exception": false,
     "start_time": "2025-08-19T18:45:13.200597",
     "status": "completed"
    },
    "tags": []
   },
   "outputs": [
    {
     "data": {
      "text/html": [
       "<div>\n",
       "<style scoped>\n",
       "    .dataframe tbody tr th:only-of-type {\n",
       "        vertical-align: middle;\n",
       "    }\n",
       "\n",
       "    .dataframe tbody tr th {\n",
       "        vertical-align: top;\n",
       "    }\n",
       "\n",
       "    .dataframe thead th {\n",
       "        text-align: right;\n",
       "    }\n",
       "</style>\n",
       "<table border=\"1\" class=\"dataframe\">\n",
       "  <thead>\n",
       "    <tr style=\"text-align: right;\">\n",
       "      <th></th>\n",
       "      <th>universe_id</th>\n",
       "      <th>universe_training_year</th>\n",
       "      <th>universe_training_size</th>\n",
       "      <th>universe_scale</th>\n",
       "      <th>universe_model</th>\n",
       "      <th>universe_exclude_features</th>\n",
       "      <th>universe_exclude_subgroups</th>\n",
       "      <th>q_hat</th>\n",
       "      <th>coverage</th>\n",
       "      <th>avg_size</th>\n",
       "    </tr>\n",
       "  </thead>\n",
       "  <tbody>\n",
       "    <tr>\n",
       "      <th>0</th>\n",
       "      <td>1dbf75895fba265daa23386848a6ca19</td>\n",
       "      <td>2010_14</td>\n",
       "      <td>5k</td>\n",
       "      <td>do-not-scale</td>\n",
       "      <td>logreg</td>\n",
       "      <td>nationality-sex</td>\n",
       "      <td>keep-all</td>\n",
       "      <td>0.692649</td>\n",
       "      <td>0.911805</td>\n",
       "      <td>1.195474</td>\n",
       "    </tr>\n",
       "  </tbody>\n",
       "</table>\n",
       "</div>"
      ],
      "text/plain": [
       "                        universe_id universe_training_year  \\\n",
       "0  1dbf75895fba265daa23386848a6ca19                2010_14   \n",
       "\n",
       "  universe_training_size universe_scale universe_model  \\\n",
       "0                     5k   do-not-scale         logreg   \n",
       "\n",
       "  universe_exclude_features universe_exclude_subgroups     q_hat  coverage  \\\n",
       "0           nationality-sex                   keep-all  0.692649  0.911805   \n",
       "\n",
       "   avg_size  \n",
       "0  1.195474  "
      ]
     },
     "execution_count": 50,
     "metadata": {},
     "output_type": "execute_result"
    }
   ],
   "source": [
    "cp_metrics_df"
   ]
  },
  {
   "cell_type": "markdown",
   "id": "ed608b0b",
   "metadata": {
    "papermill": {
     "duration": 0.014428,
     "end_time": "2025-08-19T18:45:13.269508",
     "exception": false,
     "start_time": "2025-08-19T18:45:13.255080",
     "status": "completed"
    },
    "tags": []
   },
   "source": [
    "Conditional coverage & looking at subgroups"
   ]
  },
  {
   "cell_type": "code",
   "execution_count": 51,
   "id": "8968c366",
   "metadata": {
    "execution": {
     "iopub.execute_input": "2025-08-19T18:45:13.296369Z",
     "iopub.status.busy": "2025-08-19T18:45:13.295944Z",
     "iopub.status.idle": "2025-08-19T18:45:13.585332Z",
     "shell.execute_reply": "2025-08-19T18:45:13.584539Z"
    },
    "papermill": {
     "duration": 0.306452,
     "end_time": "2025-08-19T18:45:13.588626",
     "exception": false,
     "start_time": "2025-08-19T18:45:13.282174",
     "status": "completed"
    },
    "tags": []
   },
   "outputs": [],
   "source": [
    "from fairness_multiverse.conformal import build_cp_groups\n",
    "\n",
    "cp_groups_df = build_cp_groups(pred_sets, y_true, X_test.index, org_test)"
   ]
  },
  {
   "cell_type": "code",
   "execution_count": 52,
   "id": "292ddabf",
   "metadata": {
    "execution": {
     "iopub.execute_input": "2025-08-19T18:45:13.634270Z",
     "iopub.status.busy": "2025-08-19T18:45:13.633257Z",
     "iopub.status.idle": "2025-08-19T18:45:14.552184Z",
     "shell.execute_reply": "2025-08-19T18:45:14.551011Z"
    },
    "papermill": {
     "duration": 0.935236,
     "end_time": "2025-08-19T18:45:14.553804",
     "exception": false,
     "start_time": "2025-08-19T18:45:13.618568",
     "status": "completed"
    },
    "tags": []
   },
   "outputs": [],
   "source": [
    "# Define covered = 1 if true_label is in the predicted set\n",
    "cp_groups_df['covered'] = cp_groups_df.apply(\n",
    "    lambda r: int(r['true_label'] in r['pred_set']),\n",
    "    axis=1\n",
    ")"
   ]
  },
  {
   "cell_type": "code",
   "execution_count": 53,
   "id": "3a261692",
   "metadata": {
    "execution": {
     "iopub.execute_input": "2025-08-19T18:45:14.581897Z",
     "iopub.status.busy": "2025-08-19T18:45:14.580812Z",
     "iopub.status.idle": "2025-08-19T18:45:14.605582Z",
     "shell.execute_reply": "2025-08-19T18:45:14.604508Z"
    },
    "papermill": {
     "duration": 0.04085,
     "end_time": "2025-08-19T18:45:14.607323",
     "exception": false,
     "start_time": "2025-08-19T18:45:14.566473",
     "status": "completed"
    },
    "tags": []
   },
   "outputs": [],
   "source": [
    "subgroups = ['frau1','nongerman','nongerman_male','nongerman_female']\n",
    "\n",
    "# Conditional coverage for subgroup==1\n",
    "cond_coverage = {\n",
    "    g: cp_groups_df.loc[cp_groups_df[g]==1, 'covered'].mean()\n",
    "    for g in subgroups\n",
    "}"
   ]
  },
  {
   "cell_type": "code",
   "execution_count": 54,
   "id": "894fd600",
   "metadata": {
    "execution": {
     "iopub.execute_input": "2025-08-19T18:45:14.635425Z",
     "iopub.status.busy": "2025-08-19T18:45:14.634454Z",
     "iopub.status.idle": "2025-08-19T18:45:14.647167Z",
     "shell.execute_reply": "2025-08-19T18:45:14.646036Z"
    },
    "papermill": {
     "duration": 0.039804,
     "end_time": "2025-08-19T18:45:14.661362",
     "exception": false,
     "start_time": "2025-08-19T18:45:14.621558",
     "status": "completed"
    },
    "tags": []
   },
   "outputs": [
    {
     "data": {
      "text/plain": [
       "{'frau1': 0.9124410297883812,\n",
       " 'nongerman': 0.9288160332341548,\n",
       " 'nongerman_male': 0.9406466720706116,\n",
       " 'nongerman_female': 0.9092399403874813}"
      ]
     },
     "execution_count": 54,
     "metadata": {},
     "output_type": "execute_result"
    }
   ],
   "source": [
    "cond_coverage"
   ]
  },
  {
   "cell_type": "code",
   "execution_count": 55,
   "id": "942895c7",
   "metadata": {
    "execution": {
     "iopub.execute_input": "2025-08-19T18:45:14.689092Z",
     "iopub.status.busy": "2025-08-19T18:45:14.688071Z",
     "iopub.status.idle": "2025-08-19T18:45:14.697100Z",
     "shell.execute_reply": "2025-08-19T18:45:14.696065Z"
    },
    "papermill": {
     "duration": 0.024375,
     "end_time": "2025-08-19T18:45:14.698564",
     "exception": false,
     "start_time": "2025-08-19T18:45:14.674189",
     "status": "completed"
    },
    "tags": []
   },
   "outputs": [],
   "source": [
    "for subgroup, cov in cond_coverage.items():\n",
    "    cp_metrics_df[f\"cov_{subgroup}\"] = cov"
   ]
  },
  {
   "cell_type": "code",
   "execution_count": 56,
   "id": "3970120f",
   "metadata": {
    "execution": {
     "iopub.execute_input": "2025-08-19T18:45:14.727259Z",
     "iopub.status.busy": "2025-08-19T18:45:14.726845Z",
     "iopub.status.idle": "2025-08-19T18:45:14.753522Z",
     "shell.execute_reply": "2025-08-19T18:45:14.752791Z"
    },
    "papermill": {
     "duration": 0.043021,
     "end_time": "2025-08-19T18:45:14.756753",
     "exception": false,
     "start_time": "2025-08-19T18:45:14.713732",
     "status": "completed"
    },
    "tags": []
   },
   "outputs": [
    {
     "data": {
      "text/html": [
       "<div>\n",
       "<style scoped>\n",
       "    .dataframe tbody tr th:only-of-type {\n",
       "        vertical-align: middle;\n",
       "    }\n",
       "\n",
       "    .dataframe tbody tr th {\n",
       "        vertical-align: top;\n",
       "    }\n",
       "\n",
       "    .dataframe thead th {\n",
       "        text-align: right;\n",
       "    }\n",
       "</style>\n",
       "<table border=\"1\" class=\"dataframe\">\n",
       "  <thead>\n",
       "    <tr style=\"text-align: right;\">\n",
       "      <th></th>\n",
       "      <th>universe_id</th>\n",
       "      <th>universe_training_year</th>\n",
       "      <th>universe_training_size</th>\n",
       "      <th>universe_scale</th>\n",
       "      <th>universe_model</th>\n",
       "      <th>universe_exclude_features</th>\n",
       "      <th>universe_exclude_subgroups</th>\n",
       "      <th>q_hat</th>\n",
       "      <th>coverage</th>\n",
       "      <th>avg_size</th>\n",
       "      <th>cov_frau1</th>\n",
       "      <th>cov_nongerman</th>\n",
       "      <th>cov_nongerman_male</th>\n",
       "      <th>cov_nongerman_female</th>\n",
       "    </tr>\n",
       "  </thead>\n",
       "  <tbody>\n",
       "    <tr>\n",
       "      <th>0</th>\n",
       "      <td>1dbf75895fba265daa23386848a6ca19</td>\n",
       "      <td>2010_14</td>\n",
       "      <td>5k</td>\n",
       "      <td>do-not-scale</td>\n",
       "      <td>logreg</td>\n",
       "      <td>nationality-sex</td>\n",
       "      <td>keep-all</td>\n",
       "      <td>0.692649</td>\n",
       "      <td>0.911805</td>\n",
       "      <td>1.195474</td>\n",
       "      <td>0.912441</td>\n",
       "      <td>0.928816</td>\n",
       "      <td>0.940647</td>\n",
       "      <td>0.90924</td>\n",
       "    </tr>\n",
       "  </tbody>\n",
       "</table>\n",
       "</div>"
      ],
      "text/plain": [
       "                        universe_id universe_training_year  \\\n",
       "0  1dbf75895fba265daa23386848a6ca19                2010_14   \n",
       "\n",
       "  universe_training_size universe_scale universe_model  \\\n",
       "0                     5k   do-not-scale         logreg   \n",
       "\n",
       "  universe_exclude_features universe_exclude_subgroups     q_hat  coverage  \\\n",
       "0           nationality-sex                   keep-all  0.692649  0.911805   \n",
       "\n",
       "   avg_size  cov_frau1  cov_nongerman  cov_nongerman_male  \\\n",
       "0  1.195474   0.912441       0.928816            0.940647   \n",
       "\n",
       "   cov_nongerman_female  \n",
       "0               0.90924  "
      ]
     },
     "execution_count": 56,
     "metadata": {},
     "output_type": "execute_result"
    }
   ],
   "source": [
    "cp_metrics_df"
   ]
  },
  {
   "cell_type": "markdown",
   "id": "3fc519cc",
   "metadata": {
    "papermill": {
     "duration": 0.012496,
     "end_time": "2025-08-19T18:45:14.787437",
     "exception": false,
     "start_time": "2025-08-19T18:45:14.774941",
     "status": "completed"
    },
    "tags": []
   },
   "source": [
    "# (Fairness) Metrics"
   ]
  },
  {
   "cell_type": "code",
   "execution_count": 57,
   "id": "a2e5e155",
   "metadata": {
    "execution": {
     "iopub.execute_input": "2025-08-19T18:45:14.813254Z",
     "iopub.status.busy": "2025-08-19T18:45:14.812844Z",
     "iopub.status.idle": "2025-08-19T18:45:14.829254Z",
     "shell.execute_reply": "2025-08-19T18:45:14.828507Z"
    },
    "papermill": {
     "duration": 0.031281,
     "end_time": "2025-08-19T18:45:14.830947",
     "exception": false,
     "start_time": "2025-08-19T18:45:14.799666",
     "status": "completed"
    },
    "tags": []
   },
   "outputs": [],
   "source": [
    "colname_to_bin = \"maxdeutsch1\"\n",
    "majority_value = org_train[colname_to_bin].mode()[0]\n",
    "\n",
    "org_test[\"majmin\"] = np.where(org_test[colname_to_bin] == majority_value, \"majority\", \"minority\")"
   ]
  },
  {
   "cell_type": "code",
   "execution_count": 58,
   "id": "17e3e4d5",
   "metadata": {
    "execution": {
     "iopub.execute_input": "2025-08-19T18:45:14.864987Z",
     "iopub.status.busy": "2025-08-19T18:45:14.864575Z",
     "iopub.status.idle": "2025-08-19T18:45:16.614963Z",
     "shell.execute_reply": "2025-08-19T18:45:16.612420Z"
    },
    "papermill": {
     "duration": 1.766118,
     "end_time": "2025-08-19T18:45:16.617045",
     "exception": false,
     "start_time": "2025-08-19T18:45:14.850927",
     "status": "completed"
    },
    "tags": []
   },
   "outputs": [],
   "source": [
    "example_universe = universe.copy()\n",
    "example_universe[\"cutoff\"] = example_universe[\"cutoff\"][0]\n",
    "example_universe[\"eval_fairness_grouping\"] = example_universe[\"eval_fairness_grouping\"][0]\n",
    "fairness_dict, metric_frame = universe_analysis.compute_metrics(\n",
    "    example_universe,\n",
    "    y_pred_prob=probs_test,\n",
    "    y_test=y_true,\n",
    "    org_test=org_test,\n",
    ")"
   ]
  },
  {
   "cell_type": "markdown",
   "id": "1fb7a0e9",
   "metadata": {
    "papermill": {
     "duration": 0.025683,
     "end_time": "2025-08-19T18:45:16.661310",
     "exception": false,
     "start_time": "2025-08-19T18:45:16.635627",
     "status": "completed"
    },
    "tags": []
   },
   "source": [
    "# Overall"
   ]
  },
  {
   "cell_type": "markdown",
   "id": "be1784b1",
   "metadata": {
    "papermill": {
     "duration": 0.012008,
     "end_time": "2025-08-19T18:45:16.686764",
     "exception": false,
     "start_time": "2025-08-19T18:45:16.674756",
     "status": "completed"
    },
    "tags": []
   },
   "source": [
    "Main fairness target: Equalized Odds. Seems to be a better fit than equal opportunity, since we're not only interested in Y = 1. Seems to be a better fit than demographic parity, since we also care about accuracy, not just equal distribution of preds.\n",
    "\n",
    "Pick column for computation of fairness metrics\n",
    "\n",
    "Performance\n",
    "Overall performance measures, most interesting in relation to the measures split by group below"
   ]
  },
  {
   "cell_type": "code",
   "execution_count": 59,
   "id": "b7672bee",
   "metadata": {
    "execution": {
     "iopub.execute_input": "2025-08-19T18:45:16.714240Z",
     "iopub.status.busy": "2025-08-19T18:45:16.713110Z",
     "iopub.status.idle": "2025-08-19T18:45:16.727426Z",
     "shell.execute_reply": "2025-08-19T18:45:16.726256Z"
    },
    "papermill": {
     "duration": 0.030292,
     "end_time": "2025-08-19T18:45:16.729070",
     "exception": false,
     "start_time": "2025-08-19T18:45:16.698778",
     "status": "completed"
    },
    "tags": []
   },
   "outputs": [
    {
     "data": {
      "text/plain": [
       "accuracy                   0.219139\n",
       "balanced accuracy          0.536923\n",
       "f1                         0.240615\n",
       "precision                  0.137455\n",
       "false positive rate        0.890527\n",
       "false negative rate        0.035627\n",
       "selection rate             0.900000\n",
       "count                  89710.000000\n",
       "dtype: float64"
      ]
     },
     "execution_count": 59,
     "metadata": {},
     "output_type": "execute_result"
    }
   ],
   "source": [
    "metric_frame.overall"
   ]
  },
  {
   "cell_type": "markdown",
   "id": "d93333c9",
   "metadata": {
    "papermill": {
     "duration": 0.012395,
     "end_time": "2025-08-19T18:45:16.758008",
     "exception": false,
     "start_time": "2025-08-19T18:45:16.745613",
     "status": "completed"
    },
    "tags": []
   },
   "source": [
    "By Group"
   ]
  },
  {
   "cell_type": "code",
   "execution_count": 60,
   "id": "52256966",
   "metadata": {
    "execution": {
     "iopub.execute_input": "2025-08-19T18:45:16.785053Z",
     "iopub.status.busy": "2025-08-19T18:45:16.783905Z",
     "iopub.status.idle": "2025-08-19T18:45:16.806035Z",
     "shell.execute_reply": "2025-08-19T18:45:16.805206Z"
    },
    "papermill": {
     "duration": 0.037191,
     "end_time": "2025-08-19T18:45:16.807341",
     "exception": false,
     "start_time": "2025-08-19T18:45:16.770150",
     "status": "completed"
    },
    "tags": []
   },
   "outputs": [
    {
     "data": {
      "text/html": [
       "<div>\n",
       "<style scoped>\n",
       "    .dataframe tbody tr th:only-of-type {\n",
       "        vertical-align: middle;\n",
       "    }\n",
       "\n",
       "    .dataframe tbody tr th {\n",
       "        vertical-align: top;\n",
       "    }\n",
       "\n",
       "    .dataframe thead th {\n",
       "        text-align: right;\n",
       "    }\n",
       "</style>\n",
       "<table border=\"1\" class=\"dataframe\">\n",
       "  <thead>\n",
       "    <tr style=\"text-align: right;\">\n",
       "      <th></th>\n",
       "      <th>accuracy</th>\n",
       "      <th>balanced accuracy</th>\n",
       "      <th>f1</th>\n",
       "      <th>precision</th>\n",
       "      <th>false positive rate</th>\n",
       "      <th>false negative rate</th>\n",
       "      <th>selection rate</th>\n",
       "      <th>count</th>\n",
       "    </tr>\n",
       "    <tr>\n",
       "      <th>majmin</th>\n",
       "      <th></th>\n",
       "      <th></th>\n",
       "      <th></th>\n",
       "      <th></th>\n",
       "      <th></th>\n",
       "      <th></th>\n",
       "      <th></th>\n",
       "      <th></th>\n",
       "    </tr>\n",
       "  </thead>\n",
       "  <tbody>\n",
       "    <tr>\n",
       "      <th>majority</th>\n",
       "      <td>0.241304</td>\n",
       "      <td>0.545456</td>\n",
       "      <td>0.250375</td>\n",
       "      <td>0.143986</td>\n",
       "      <td>0.867949</td>\n",
       "      <td>0.041138</td>\n",
       "      <td>0.879962</td>\n",
       "      <td>69170.0</td>\n",
       "    </tr>\n",
       "    <tr>\n",
       "      <th>minority</th>\n",
       "      <td>0.144499</td>\n",
       "      <td>0.510265</td>\n",
       "      <td>0.209892</td>\n",
       "      <td>0.117452</td>\n",
       "      <td>0.965111</td>\n",
       "      <td>0.014358</td>\n",
       "      <td>0.967478</td>\n",
       "      <td>20540.0</td>\n",
       "    </tr>\n",
       "  </tbody>\n",
       "</table>\n",
       "</div>"
      ],
      "text/plain": [
       "          accuracy  balanced accuracy        f1  precision  \\\n",
       "majmin                                                       \n",
       "majority  0.241304           0.545456  0.250375   0.143986   \n",
       "minority  0.144499           0.510265  0.209892   0.117452   \n",
       "\n",
       "          false positive rate  false negative rate  selection rate    count  \n",
       "majmin                                                                       \n",
       "majority             0.867949             0.041138        0.879962  69170.0  \n",
       "minority             0.965111             0.014358        0.967478  20540.0  "
      ]
     },
     "execution_count": 60,
     "metadata": {},
     "output_type": "execute_result"
    }
   ],
   "source": [
    "metric_frame.by_group"
   ]
  },
  {
   "cell_type": "code",
   "execution_count": 61,
   "id": "6e6c20ae",
   "metadata": {
    "execution": {
     "iopub.execute_input": "2025-08-19T18:45:16.835100Z",
     "iopub.status.busy": "2025-08-19T18:45:16.833973Z",
     "iopub.status.idle": "2025-08-19T18:45:18.659472Z",
     "shell.execute_reply": "2025-08-19T18:45:18.658493Z"
    },
    "papermill": {
     "duration": 1.84064,
     "end_time": "2025-08-19T18:45:18.660690",
     "exception": false,
     "start_time": "2025-08-19T18:45:16.820050",
     "status": "completed"
    },
    "tags": []
   },
   "outputs": [
    {
     "data": {
      "text/plain": [
       "array([[<Axes: title={'center': 'accuracy'}, xlabel='majmin'>,\n",
       "        <Axes: title={'center': 'balanced accuracy'}, xlabel='majmin'>,\n",
       "        <Axes: title={'center': 'f1'}, xlabel='majmin'>],\n",
       "       [<Axes: title={'center': 'precision'}, xlabel='majmin'>,\n",
       "        <Axes: title={'center': 'false positive rate'}, xlabel='majmin'>,\n",
       "        <Axes: title={'center': 'false negative rate'}, xlabel='majmin'>],\n",
       "       [<Axes: title={'center': 'selection rate'}, xlabel='majmin'>,\n",
       "        <Axes: title={'center': 'count'}, xlabel='majmin'>,\n",
       "        <Axes: xlabel='majmin'>]], dtype=object)"
      ]
     },
     "execution_count": 61,
     "metadata": {},
     "output_type": "execute_result"
    },
    {
     "data": {
      "image/png": "[encoded data removed]",
      "text/plain": [
       "<Figure size 1200x800 with 9 Axes>"
      ]
     },
     "metadata": {},
     "output_type": "display_data"
    }
   ],
   "source": [
    "# In a graphic\n",
    "metric_frame.by_group.plot.bar(\n",
    "    subplots=True,\n",
    "    layout=[3, 3],\n",
    "    legend=False,\n",
    "    figsize=[12, 8],\n",
    "    title=\"Show all metrics\",\n",
    ")"
   ]
  },
  {
   "cell_type": "markdown",
   "id": "b2e433ae",
   "metadata": {
    "papermill": {
     "duration": 0.029353,
     "end_time": "2025-08-19T18:45:18.713674",
     "exception": false,
     "start_time": "2025-08-19T18:45:18.684321",
     "status": "completed"
    },
    "tags": []
   },
   "source": [
    "# Final Output"
   ]
  },
  {
   "cell_type": "code",
   "execution_count": 62,
   "id": "3871301e",
   "metadata": {
    "execution": {
     "iopub.execute_input": "2025-08-19T18:45:18.743780Z",
     "iopub.status.busy": "2025-08-19T18:45:18.743102Z",
     "iopub.status.idle": "2025-08-19T18:45:18.752764Z",
     "shell.execute_reply": "2025-08-19T18:45:18.752104Z"
    },
    "papermill": {
     "duration": 0.027985,
     "end_time": "2025-08-19T18:45:18.756368",
     "exception": false,
     "start_time": "2025-08-19T18:45:18.728383",
     "status": "completed"
    },
    "tags": []
   },
   "outputs": [
    {
     "data": {
      "text/plain": [
       "4"
      ]
     },
     "execution_count": 62,
     "metadata": {},
     "output_type": "execute_result"
    }
   ],
   "source": [
    "sub_universes = universe_analysis.generate_sub_universes()\n",
    "len(sub_universes)"
   ]
  },
  {
   "cell_type": "code",
   "execution_count": 63,
   "id": "d9cfdaca",
   "metadata": {
    "execution": {
     "iopub.execute_input": "2025-08-19T18:45:18.798381Z",
     "iopub.status.busy": "2025-08-19T18:45:18.797461Z",
     "iopub.status.idle": "2025-08-19T18:45:18.806175Z",
     "shell.execute_reply": "2025-08-19T18:45:18.804929Z"
    },
    "papermill": {
     "duration": 0.026096,
     "end_time": "2025-08-19T18:45:18.807582",
     "exception": false,
     "start_time": "2025-08-19T18:45:18.781486",
     "status": "completed"
    },
    "tags": []
   },
   "outputs": [],
   "source": [
    "def filter_sub_universe_data(sub_universe, org_test):\n",
    "    # Keep all rows — no filtering\n",
    "    keep_rows_mask = np.ones(org_test.shape[0], dtype=bool)\n",
    "\n",
    "    print(f\"[INFO] Keeping all rows: {keep_rows_mask.sum()} rows retained.\")\n",
    "    return keep_rows_mask"
   ]
  },
  {
   "cell_type": "code",
   "execution_count": 64,
   "id": "2bc31ac1",
   "metadata": {
    "execution": {
     "iopub.execute_input": "2025-08-19T18:45:18.838670Z",
     "iopub.status.busy": "2025-08-19T18:45:18.837766Z",
     "iopub.status.idle": "2025-08-19T18:45:25.378903Z",
     "shell.execute_reply": "2025-08-19T18:45:25.377623Z"
    },
    "papermill": {
     "duration": 6.557503,
     "end_time": "2025-08-19T18:45:25.380321",
     "exception": false,
     "start_time": "2025-08-19T18:45:18.822818",
     "status": "completed"
    },
    "tags": []
   },
   "outputs": [
    {
     "name": "stdout",
     "output_type": "stream",
     "text": [
      "Stopping execution_time clock.\n",
      "[INFO] Keeping all rows: 89710 rows retained.\n"
     ]
    },
    {
     "name": "stdout",
     "output_type": "stream",
     "text": [
      "[INFO] Keeping all rows: 89710 rows retained.\n"
     ]
    },
    {
     "name": "stdout",
     "output_type": "stream",
     "text": [
      "[INFO] Keeping all rows: 89710 rows retained.\n"
     ]
    },
    {
     "name": "stdout",
     "output_type": "stream",
     "text": [
      "[INFO] Keeping all rows: 89710 rows retained.\n"
     ]
    },
    {
     "data": {
      "text/html": [
       "<div>\n",
       "<style scoped>\n",
       "    .dataframe tbody tr th:only-of-type {\n",
       "        vertical-align: middle;\n",
       "    }\n",
       "\n",
       "    .dataframe tbody tr th {\n",
       "        vertical-align: top;\n",
       "    }\n",
       "\n",
       "    .dataframe thead th {\n",
       "        text-align: right;\n",
       "    }\n",
       "</style>\n",
       "<table border=\"1\" class=\"dataframe\">\n",
       "  <thead>\n",
       "    <tr style=\"text-align: right;\">\n",
       "      <th></th>\n",
       "      <th>run_no</th>\n",
       "      <th>universe_id</th>\n",
       "      <th>universe_settings</th>\n",
       "      <th>execution_time</th>\n",
       "      <th>test_size_n</th>\n",
       "      <th>test_size_frac</th>\n",
       "      <th>fair_main_equalized_odds_difference</th>\n",
       "      <th>fair_main_equalized_odds_ratio</th>\n",
       "      <th>fair_main_demographic_parity_difference</th>\n",
       "      <th>fair_main_demographic_parity_ratio</th>\n",
       "      <th>...</th>\n",
       "      <th>perf_grp_precision_0</th>\n",
       "      <th>perf_grp_precision_1</th>\n",
       "      <th>perf_grp_false positive rate_0</th>\n",
       "      <th>perf_grp_false positive rate_1</th>\n",
       "      <th>perf_grp_false negative rate_0</th>\n",
       "      <th>perf_grp_false negative rate_1</th>\n",
       "      <th>perf_grp_selection rate_0</th>\n",
       "      <th>perf_grp_selection rate_1</th>\n",
       "      <th>perf_grp_count_0</th>\n",
       "      <th>perf_grp_count_1</th>\n",
       "    </tr>\n",
       "  </thead>\n",
       "  <tbody>\n",
       "    <tr>\n",
       "      <th>0</th>\n",
       "      <td>3</td>\n",
       "      <td>1dbf75895fba265daa23386848a6ca19</td>\n",
       "      <td>{\"cutoff\": \"quantile_0.1\", \"eval_fairness_grou...</td>\n",
       "      <td>21.465711</td>\n",
       "      <td>89710</td>\n",
       "      <td>1.0</td>\n",
       "      <td>0.097162</td>\n",
       "      <td>0.899326</td>\n",
       "      <td>0.087516</td>\n",
       "      <td>0.909542</td>\n",
       "      <td>...</td>\n",
       "      <td>NaN</td>\n",
       "      <td>NaN</td>\n",
       "      <td>NaN</td>\n",
       "      <td>NaN</td>\n",
       "      <td>NaN</td>\n",
       "      <td>NaN</td>\n",
       "      <td>NaN</td>\n",
       "      <td>NaN</td>\n",
       "      <td>NaN</td>\n",
       "      <td>NaN</td>\n",
       "    </tr>\n",
       "    <tr>\n",
       "      <th>0</th>\n",
       "      <td>3</td>\n",
       "      <td>1dbf75895fba265daa23386848a6ca19</td>\n",
       "      <td>{\"cutoff\": \"quantile_0.1\", \"eval_fairness_grou...</td>\n",
       "      <td>21.465711</td>\n",
       "      <td>89710</td>\n",
       "      <td>1.0</td>\n",
       "      <td>0.097162</td>\n",
       "      <td>0.899326</td>\n",
       "      <td>0.087516</td>\n",
       "      <td>0.909542</td>\n",
       "      <td>...</td>\n",
       "      <td>0.117452</td>\n",
       "      <td>0.143986</td>\n",
       "      <td>0.965111</td>\n",
       "      <td>0.867949</td>\n",
       "      <td>0.014358</td>\n",
       "      <td>0.041138</td>\n",
       "      <td>0.967478</td>\n",
       "      <td>0.879962</td>\n",
       "      <td>20540.0</td>\n",
       "      <td>69170.0</td>\n",
       "    </tr>\n",
       "    <tr>\n",
       "      <th>0</th>\n",
       "      <td>3</td>\n",
       "      <td>1dbf75895fba265daa23386848a6ca19</td>\n",
       "      <td>{\"cutoff\": \"quantile_0.25\", \"eval_fairness_gro...</td>\n",
       "      <td>21.465711</td>\n",
       "      <td>89710</td>\n",
       "      <td>1.0</td>\n",
       "      <td>0.218795</td>\n",
       "      <td>0.756436</td>\n",
       "      <td>0.200169</td>\n",
       "      <td>0.778655</td>\n",
       "      <td>...</td>\n",
       "      <td>NaN</td>\n",
       "      <td>NaN</td>\n",
       "      <td>NaN</td>\n",
       "      <td>NaN</td>\n",
       "      <td>NaN</td>\n",
       "      <td>NaN</td>\n",
       "      <td>NaN</td>\n",
       "      <td>NaN</td>\n",
       "      <td>NaN</td>\n",
       "      <td>NaN</td>\n",
       "    </tr>\n",
       "    <tr>\n",
       "      <th>0</th>\n",
       "      <td>3</td>\n",
       "      <td>1dbf75895fba265daa23386848a6ca19</td>\n",
       "      <td>{\"cutoff\": \"quantile_0.25\", \"eval_fairness_gro...</td>\n",
       "      <td>21.465711</td>\n",
       "      <td>89710</td>\n",
       "      <td>1.0</td>\n",
       "      <td>0.218795</td>\n",
       "      <td>0.756436</td>\n",
       "      <td>0.200169</td>\n",
       "      <td>0.778655</td>\n",
       "      <td>...</td>\n",
       "      <td>0.121184</td>\n",
       "      <td>0.162523</td>\n",
       "      <td>0.898305</td>\n",
       "      <td>0.679510</td>\n",
       "      <td>0.049409</td>\n",
       "      <td>0.133917</td>\n",
       "      <td>0.904333</td>\n",
       "      <td>0.704164</td>\n",
       "      <td>20540.0</td>\n",
       "      <td>69170.0</td>\n",
       "    </tr>\n",
       "  </tbody>\n",
       "</table>\n",
       "<p>4 rows × 50 columns</p>\n",
       "</div>"
      ],
      "text/plain": [
       "  run_no                       universe_id  \\\n",
       "0      3  1dbf75895fba265daa23386848a6ca19   \n",
       "0      3  1dbf75895fba265daa23386848a6ca19   \n",
       "0      3  1dbf75895fba265daa23386848a6ca19   \n",
       "0      3  1dbf75895fba265daa23386848a6ca19   \n",
       "\n",
       "                                   universe_settings  execution_time  \\\n",
       "0  {\"cutoff\": \"quantile_0.1\", \"eval_fairness_grou...       21.465711   \n",
       "0  {\"cutoff\": \"quantile_0.1\", \"eval_fairness_grou...       21.465711   \n",
       "0  {\"cutoff\": \"quantile_0.25\", \"eval_fairness_gro...       21.465711   \n",
       "0  {\"cutoff\": \"quantile_0.25\", \"eval_fairness_gro...       21.465711   \n",
       "\n",
       "   test_size_n  test_size_frac  fair_main_equalized_odds_difference  \\\n",
       "0        89710             1.0                             0.097162   \n",
       "0        89710             1.0                             0.097162   \n",
       "0        89710             1.0                             0.218795   \n",
       "0        89710             1.0                             0.218795   \n",
       "\n",
       "   fair_main_equalized_odds_ratio  fair_main_demographic_parity_difference  \\\n",
       "0                        0.899326                                 0.087516   \n",
       "0                        0.899326                                 0.087516   \n",
       "0                        0.756436                                 0.200169   \n",
       "0                        0.756436                                 0.200169   \n",
       "\n",
       "   fair_main_demographic_parity_ratio  ...  perf_grp_precision_0  \\\n",
       "0                            0.909542  ...                   NaN   \n",
       "0                            0.909542  ...              0.117452   \n",
       "0                            0.778655  ...                   NaN   \n",
       "0                            0.778655  ...              0.121184   \n",
       "\n",
       "   perf_grp_precision_1  perf_grp_false positive rate_0  \\\n",
       "0                   NaN                             NaN   \n",
       "0              0.143986                        0.965111   \n",
       "0                   NaN                             NaN   \n",
       "0              0.162523                        0.898305   \n",
       "\n",
       "   perf_grp_false positive rate_1  perf_grp_false negative rate_0  \\\n",
       "0                             NaN                             NaN   \n",
       "0                        0.867949                        0.014358   \n",
       "0                             NaN                             NaN   \n",
       "0                        0.679510                        0.049409   \n",
       "\n",
       "   perf_grp_false negative rate_1  perf_grp_selection rate_0  \\\n",
       "0                             NaN                        NaN   \n",
       "0                        0.041138                   0.967478   \n",
       "0                             NaN                        NaN   \n",
       "0                        0.133917                   0.904333   \n",
       "\n",
       "   perf_grp_selection rate_1  perf_grp_count_0  perf_grp_count_1  \n",
       "0                        NaN               NaN               NaN  \n",
       "0                   0.879962           20540.0           69170.0  \n",
       "0                        NaN               NaN               NaN  \n",
       "0                   0.704164           20540.0           69170.0  \n",
       "\n",
       "[4 rows x 50 columns]"
      ]
     },
     "execution_count": 64,
     "metadata": {},
     "output_type": "execute_result"
    }
   ],
   "source": [
    "final_output = universe_analysis.generate_final_output(\n",
    "    y_pred_prob=probs_test,\n",
    "    y_test=y_true,\n",
    "    org_test=org_test,\n",
    "    filter_data=filter_sub_universe_data,\n",
    "    cp_metrics_df=cp_metrics_df,\n",
    "    save=True,\n",
    ")\n",
    "final_output"
   ]
  },
  {
   "cell_type": "code",
   "execution_count": null,
   "id": "8b80a1ff",
   "metadata": {
    "papermill": {
     "duration": 0.015208,
     "end_time": "2025-08-19T18:45:25.413159",
     "exception": false,
     "start_time": "2025-08-19T18:45:25.397951",
     "status": "completed"
    },
    "tags": []
   },
   "outputs": [],
   "source": []
  },
  {
   "cell_type": "code",
   "execution_count": null,
   "id": "275c9fad",
   "metadata": {
    "papermill": {
     "duration": 0.014061,
     "end_time": "2025-08-19T18:45:25.441159",
     "exception": false,
     "start_time": "2025-08-19T18:45:25.427098",
     "status": "completed"
    },
    "tags": []
   },
   "outputs": [],
   "source": []
  }
 ],
 "metadata": {
  "celltoolbar": "Tags",
  "kernelspec": {
   "display_name": "Python (CMA Fairness)",
   "language": "python",
   "name": "cma_fair_env"
  },
  "language_info": {
   "codemirror_mode": {
    "name": "ipython",
    "version": 3
   },
   "file_extension": ".py",
   "mimetype": "text/x-python",
   "name": "python",
   "nbconvert_exporter": "python",
   "pygments_lexer": "ipython3",
   "version": "3.10.12"
  },
  "papermill": {
   "default_parameters": {},
   "duration": 32.160165,
   "end_time": "2025-08-19T18:45:26.290778",
   "environment_variables": {},
   "exception": null,
   "input_path": "universe_analysis.ipynb",
   "output_path": "output/runs/3/notebooks/m_3-1dbf75895fba265daa23386848a6ca19.ipynb",
   "parameters": {
    "output_dir": "output",
    "run_no": "3",
    "seed": "2023",
    "universe": "{\"cutoff\": [\"quantile_0.1\", \"quantile_0.25\"], \"eval_fairness_grouping\": [\"majority-minority\", \"nationality-all\"], \"exclude_features\": \"nationality-sex\", \"exclude_subgroups\": \"keep-all\", \"model\": \"logreg\", \"scale\": \"do-not-scale\", \"training_size\": \"5k\", \"training_year\": \"2010_14\"}",
    "universe_id": "1dbf75895fba265daa23386848a6ca19"
   },
   "start_time": "2025-08-19T18:44:54.130613",
   "version": "2.6.0"
  }
 },
 "nbformat": 4,
 "nbformat_minor": 5
}