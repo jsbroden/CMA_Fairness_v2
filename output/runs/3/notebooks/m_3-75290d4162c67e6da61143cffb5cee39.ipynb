{
 "cells": [
  {
   "cell_type": "markdown",
   "id": "ef23dbb3",
   "metadata": {
    "papermill": {
     "duration": 0.018266,
     "end_time": "2025-08-19T18:32:30.277830",
     "exception": false,
     "start_time": "2025-08-19T18:32:30.259564",
     "status": "completed"
    },
    "tags": []
   },
   "source": [
    "# Setup"
   ]
  },
  {
   "cell_type": "code",
   "execution_count": 1,
   "id": "0bc8e7dc",
   "metadata": {
    "execution": {
     "iopub.execute_input": "2025-08-19T18:32:30.318432Z",
     "iopub.status.busy": "2025-08-19T18:32:30.317247Z",
     "iopub.status.idle": "2025-08-19T18:32:30.336938Z",
     "shell.execute_reply": "2025-08-19T18:32:30.336037Z"
    },
    "papermill": {
     "duration": 0.035176,
     "end_time": "2025-08-19T18:32:30.338544",
     "exception": false,
     "start_time": "2025-08-19T18:32:30.303368",
     "status": "completed"
    },
    "tags": []
   },
   "outputs": [
    {
     "name": "stdout",
     "output_type": "stream",
     "text": [
      "/dss/dsshome1/0C/ra93lal2/cma/CMA_Fairness_v2\n"
     ]
    },
    {
     "name": "stderr",
     "output_type": "stream",
     "text": [
      "/dss/dsshome1/0C/ra93lal2/.local/share/virtualenvs/CMA_Fairness_v2-3j10GkSs/lib/python3.10/site-packages/IPython/core/magics/osm.py:393: UserWarning: This is now an optional IPython functionality, using bookmarks requires you to install the `pickleshare` library.\n",
      "  bkms = self.shell.db.get('bookmarks', {})\n",
      "/dss/dsshome1/0C/ra93lal2/.local/share/virtualenvs/CMA_Fairness_v2-3j10GkSs/lib/python3.10/site-packages/IPython/core/magics/osm.py:417: UserWarning: This is now an optional IPython functionality, setting dhist requires you to install the `pickleshare` library.\n",
      "  self.shell.db['dhist'] = compress_dhist(dhist)[-100:]\n"
     ]
    }
   ],
   "source": [
    "%cd ~/cma/CMA_Fairness_v2"
   ]
  },
  {
   "cell_type": "markdown",
   "id": "9d235661",
   "metadata": {
    "papermill": {
     "duration": 0.008828,
     "end_time": "2025-08-19T18:32:30.357131",
     "exception": false,
     "start_time": "2025-08-19T18:32:30.348303",
     "status": "completed"
    },
    "tags": []
   },
   "source": [
    "The following cell holds the definition of our parameters, these values can be overriden by rendering the with e.g. the following command:\n",
    "\n",
    "papermill -p alpha 0.2 -p ratio 0.3 universe_analysis.ipynb output/test_run.ipynb"
   ]
  },
  {
   "cell_type": "code",
   "execution_count": 2,
   "id": "4a789d8e",
   "metadata": {
    "execution": {
     "iopub.execute_input": "2025-08-19T18:32:30.391358Z",
     "iopub.status.busy": "2025-08-19T18:32:30.389804Z",
     "iopub.status.idle": "2025-08-19T18:32:30.398918Z",
     "shell.execute_reply": "2025-08-19T18:32:30.397536Z"
    },
    "papermill": {
     "duration": 0.034856,
     "end_time": "2025-08-19T18:32:30.400711",
     "exception": false,
     "start_time": "2025-08-19T18:32:30.365855",
     "status": "completed"
    },
    "tags": []
   },
   "outputs": [
    {
     "name": "stdout",
     "output_type": "stream",
     "text": [
      "Current working directory: /dss/dsshome1/0C/ra93lal2/cma/CMA_Fairness_v2\n"
     ]
    }
   ],
   "source": [
    "import os\n",
    "print(\"Current working directory:\", os.getcwd())"
   ]
  },
  {
   "cell_type": "code",
   "execution_count": 3,
   "id": "4132aaed",
   "metadata": {
    "execution": {
     "iopub.execute_input": "2025-08-19T18:32:30.427168Z",
     "iopub.status.busy": "2025-08-19T18:32:30.426022Z",
     "iopub.status.idle": "2025-08-19T18:32:30.436153Z",
     "shell.execute_reply": "2025-08-19T18:32:30.434593Z"
    },
    "papermill": {
     "duration": 0.024982,
     "end_time": "2025-08-19T18:32:30.437798",
     "exception": false,
     "start_time": "2025-08-19T18:32:30.412816",
     "status": "completed"
    },
    "tags": [
     "parameters"
    ]
   },
   "outputs": [],
   "source": [
    "run_no = 0\n",
    "universe_id = \"test\"\n",
    "universe = {\n",
    "    \"training_size\": \"5k\", # \"25k\", \"5k\", \"1k\"\n",
    "    \"training_year\": \"2012_14\", # \"2014\", \"2012_14\", \"2010_14\"\n",
    "    \"scale\": \"scale\", # \"scale\", \"do-not-scale\",\n",
    "    \"model\": \"elasticnet\", # \"logreg\", \"penalized_logreg\", \"rf\", \"gbm\", \"elasticnet\"\n",
    "    \"cutoff\": [\"quantile_0.15\", \"quantile_0.30\"],\n",
    "    \"exclude_features\": \"age\", # \"none\", \"nationality\", \"sex\", \"nationality-sex\", \"age\"\n",
    "    \"exclude_subgroups\": \"drop-non-german\", # \"keep-all\", \"drop-non-german\"\n",
    "    \"eval_fairness_grouping\": [\"majority-minority\", \"nationality-all\"]\n",
    "}\n",
    "\n",
    "output_dir=\"./output\"\n",
    "seed=0"
   ]
  },
  {
   "cell_type": "code",
   "execution_count": 4,
   "id": "828ada69",
   "metadata": {
    "execution": {
     "iopub.execute_input": "2025-08-19T18:32:30.460570Z",
     "iopub.status.busy": "2025-08-19T18:32:30.458410Z",
     "iopub.status.idle": "2025-08-19T18:32:30.471983Z",
     "shell.execute_reply": "2025-08-19T18:32:30.470752Z"
    },
    "papermill": {
     "duration": 0.026168,
     "end_time": "2025-08-19T18:32:30.474150",
     "exception": false,
     "start_time": "2025-08-19T18:32:30.447982",
     "status": "completed"
    },
    "tags": [
     "injected-parameters"
    ]
   },
   "outputs": [],
   "source": [
    "# Parameters\n",
    "universe_id = \"75290d4162c67e6da61143cffb5cee39\"\n",
    "run_no = \"3\"\n",
    "universe = \"{\\\"cutoff\\\": [\\\"quantile_0.1\\\", \\\"quantile_0.25\\\"], \\\"eval_fairness_grouping\\\": [\\\"majority-minority\\\", \\\"nationality-all\\\"], \\\"exclude_features\\\": \\\"nationality\\\", \\\"exclude_subgroups\\\": \\\"keep-all\\\", \\\"model\\\": \\\"rf\\\", \\\"scale\\\": \\\"scale\\\", \\\"training_size\\\": \\\"5k\\\", \\\"training_year\\\": \\\"2012_14\\\"}\"\n",
    "output_dir = \"output\"\n",
    "seed = \"2023\"\n"
   ]
  },
  {
   "cell_type": "code",
   "execution_count": 5,
   "id": "a5d7941f",
   "metadata": {
    "execution": {
     "iopub.execute_input": "2025-08-19T18:32:30.508375Z",
     "iopub.status.busy": "2025-08-19T18:32:30.507075Z",
     "iopub.status.idle": "2025-08-19T18:32:30.593625Z",
     "shell.execute_reply": "2025-08-19T18:32:30.591835Z"
    },
    "papermill": {
     "duration": 0.099636,
     "end_time": "2025-08-19T18:32:30.595371",
     "exception": false,
     "start_time": "2025-08-19T18:32:30.495735",
     "status": "completed"
    },
    "tags": []
   },
   "outputs": [],
   "source": [
    "import json\n",
    "if isinstance(universe, str):\n",
    "    universe = json.loads(universe)"
   ]
  },
  {
   "cell_type": "code",
   "execution_count": 6,
   "id": "7076ccb1",
   "metadata": {
    "execution": {
     "iopub.execute_input": "2025-08-19T18:32:30.616428Z",
     "iopub.status.busy": "2025-08-19T18:32:30.615911Z",
     "iopub.status.idle": "2025-08-19T18:32:30.667691Z",
     "shell.execute_reply": "2025-08-19T18:32:30.666787Z"
    },
    "papermill": {
     "duration": 0.065126,
     "end_time": "2025-08-19T18:32:30.670113",
     "exception": false,
     "start_time": "2025-08-19T18:32:30.604987",
     "status": "completed"
    },
    "tags": []
   },
   "outputs": [],
   "source": [
    "# Auto-reload the custom package\n",
    "%load_ext autoreload\n",
    "%autoreload 1\n",
    "%aimport fairness_multiverse"
   ]
  },
  {
   "cell_type": "code",
   "execution_count": 7,
   "id": "94c8eb93",
   "metadata": {
    "execution": {
     "iopub.execute_input": "2025-08-19T18:32:30.725995Z",
     "iopub.status.busy": "2025-08-19T18:32:30.725419Z",
     "iopub.status.idle": "2025-08-19T18:32:32.485953Z",
     "shell.execute_reply": "2025-08-19T18:32:32.485122Z"
    },
    "papermill": {
     "duration": 1.777207,
     "end_time": "2025-08-19T18:32:32.487428",
     "exception": false,
     "start_time": "2025-08-19T18:32:30.710221",
     "status": "completed"
    },
    "tags": []
   },
   "outputs": [],
   "source": [
    "from fairness_multiverse.universe import UniverseAnalysis\n",
    "\n",
    "universe_analysis = UniverseAnalysis(\n",
    "    run_no = run_no,\n",
    "    universe_id = universe_id,\n",
    "    universe = universe,\n",
    "    output_dir=output_dir,\n",
    ")"
   ]
  },
  {
   "cell_type": "code",
   "execution_count": 8,
   "id": "2a6381cf",
   "metadata": {
    "execution": {
     "iopub.execute_input": "2025-08-19T18:32:32.510506Z",
     "iopub.status.busy": "2025-08-19T18:32:32.509534Z",
     "iopub.status.idle": "2025-08-19T18:32:32.518503Z",
     "shell.execute_reply": "2025-08-19T18:32:32.517233Z"
    },
    "papermill": {
     "duration": 0.021217,
     "end_time": "2025-08-19T18:32:32.520173",
     "exception": false,
     "start_time": "2025-08-19T18:32:32.498956",
     "status": "completed"
    },
    "tags": []
   },
   "outputs": [
    {
     "name": "stdout",
     "output_type": "stream",
     "text": [
      "Using Seed: 2023\n"
     ]
    }
   ],
   "source": [
    "import numpy as np\n",
    "parsed_seed = int(seed)\n",
    "np.random.seed(parsed_seed)\n",
    "print(f\"Using Seed: {parsed_seed}\")"
   ]
  },
  {
   "cell_type": "markdown",
   "id": "b6e958b4",
   "metadata": {
    "papermill": {
     "duration": 0.009072,
     "end_time": "2025-08-19T18:32:32.541316",
     "exception": false,
     "start_time": "2025-08-19T18:32:32.532244",
     "status": "completed"
    },
    "tags": []
   },
   "source": [
    "# Loading Data"
   ]
  },
  {
   "cell_type": "code",
   "execution_count": 9,
   "id": "98701482",
   "metadata": {
    "execution": {
     "iopub.execute_input": "2025-08-19T18:32:32.561062Z",
     "iopub.status.busy": "2025-08-19T18:32:32.560566Z",
     "iopub.status.idle": "2025-08-19T18:32:43.150492Z",
     "shell.execute_reply": "2025-08-19T18:32:43.149585Z"
    },
    "papermill": {
     "duration": 10.602904,
     "end_time": "2025-08-19T18:32:43.153270",
     "exception": false,
     "start_time": "2025-08-19T18:32:32.550366",
     "status": "completed"
    },
    "tags": []
   },
   "outputs": [
    {
     "name": "stdout",
     "output_type": "stream",
     "text": [
      "Loading SIAB data from cache: data/siab_cached.csv.gz\n"
     ]
    },
    {
     "name": "stdout",
     "output_type": "stream",
     "text": [
      "(643690, 164)\n"
     ]
    }
   ],
   "source": [
    "from pathlib import Path\n",
    "import pandas as pd\n",
    "\n",
    "# File paths\n",
    "raw_file = Path(\"data/raw/siab.csv\")\n",
    "cache_file = Path(\"data/siab_cached.csv.gz\")\n",
    "\n",
    "# Ensure cache directory exists\n",
    "cache_file.parent.mkdir(parents=True, exist_ok=True)\n",
    "\n",
    "# Load with simple caching\n",
    "if cache_file.exists():\n",
    "    print(f\"Loading SIAB data from cache: {cache_file}\")\n",
    "    siab = pd.read_csv(cache_file, compression='gzip')\n",
    "else:\n",
    "    print(f\"Cache not found. Reading raw SIAB data: {raw_file}\")\n",
    "    siab = pd.read_csv(raw_file)\n",
    "    siab.to_csv(cache_file, index=False, compression='gzip')\n",
    "    print(f\"Cached SIAB data to: {cache_file}\")\n",
    "\n",
    "print(siab.shape)"
   ]
  },
  {
   "cell_type": "code",
   "execution_count": 10,
   "id": "058d2abb",
   "metadata": {
    "execution": {
     "iopub.execute_input": "2025-08-19T18:32:43.223930Z",
     "iopub.status.busy": "2025-08-19T18:32:43.222240Z",
     "iopub.status.idle": "2025-08-19T18:32:43.427924Z",
     "shell.execute_reply": "2025-08-19T18:32:43.427224Z"
    },
    "papermill": {
     "duration": 0.239848,
     "end_time": "2025-08-19T18:32:43.429372",
     "exception": false,
     "start_time": "2025-08-19T18:32:43.189524",
     "status": "completed"
    },
    "tags": []
   },
   "outputs": [
    {
     "data": {
      "text/html": [
       "<div>\n",
       "<style scoped>\n",
       "    .dataframe tbody tr th:only-of-type {\n",
       "        vertical-align: middle;\n",
       "    }\n",
       "\n",
       "    .dataframe tbody tr th {\n",
       "        vertical-align: top;\n",
       "    }\n",
       "\n",
       "    .dataframe thead th {\n",
       "        text-align: right;\n",
       "    }\n",
       "</style>\n",
       "<table border=\"1\" class=\"dataframe\">\n",
       "  <thead>\n",
       "    <tr style=\"text-align: right;\">\n",
       "      <th></th>\n",
       "      <th>persnr</th>\n",
       "      <th>year</th>\n",
       "      <th>nrEntry</th>\n",
       "      <th>ltue</th>\n",
       "      <th>employed_before</th>\n",
       "      <th>receipt_leh_before</th>\n",
       "      <th>receipt_lhg_before</th>\n",
       "      <th>se_before</th>\n",
       "      <th>ASU_notue_seeking_before</th>\n",
       "      <th>ASU_other_before</th>\n",
       "      <th>...</th>\n",
       "      <th>minijob_tot_dur_byage</th>\n",
       "      <th>ft_tot_dur_byage</th>\n",
       "      <th>befrist_tot_dur_byage</th>\n",
       "      <th>leih_tot_dur_byage</th>\n",
       "      <th>LHG_tot_dur_byage</th>\n",
       "      <th>LEH_tot_dur_byage</th>\n",
       "      <th>almp_tot_dur_byage</th>\n",
       "      <th>almp_aw_tot_dur_byage</th>\n",
       "      <th>se_tot_dur_byage</th>\n",
       "      <th>seeking1_tot_dur_byage</th>\n",
       "    </tr>\n",
       "  </thead>\n",
       "  <tbody>\n",
       "    <tr>\n",
       "      <th>0</th>\n",
       "      <td>7</td>\n",
       "      <td>2015</td>\n",
       "      <td>1</td>\n",
       "      <td>0</td>\n",
       "      <td>1</td>\n",
       "      <td>0</td>\n",
       "      <td>0</td>\n",
       "      <td>0</td>\n",
       "      <td>1</td>\n",
       "      <td>0</td>\n",
       "      <td>...</td>\n",
       "      <td>0.000000</td>\n",
       "      <td>0.000000</td>\n",
       "      <td>15.043478</td>\n",
       "      <td>0.000000</td>\n",
       "      <td>0.000000</td>\n",
       "      <td>0.000000</td>\n",
       "      <td>0.000000</td>\n",
       "      <td>0.000000</td>\n",
       "      <td>0.000000</td>\n",
       "      <td>0.000000</td>\n",
       "    </tr>\n",
       "    <tr>\n",
       "      <th>1</th>\n",
       "      <td>18</td>\n",
       "      <td>2010</td>\n",
       "      <td>1</td>\n",
       "      <td>1</td>\n",
       "      <td>0</td>\n",
       "      <td>0</td>\n",
       "      <td>0</td>\n",
       "      <td>0</td>\n",
       "      <td>0</td>\n",
       "      <td>0</td>\n",
       "      <td>...</td>\n",
       "      <td>0.000000</td>\n",
       "      <td>0.000000</td>\n",
       "      <td>0.000000</td>\n",
       "      <td>0.000000</td>\n",
       "      <td>0.000000</td>\n",
       "      <td>0.000000</td>\n",
       "      <td>0.000000</td>\n",
       "      <td>0.000000</td>\n",
       "      <td>0.000000</td>\n",
       "      <td>0.000000</td>\n",
       "    </tr>\n",
       "    <tr>\n",
       "      <th>2</th>\n",
       "      <td>18</td>\n",
       "      <td>2011</td>\n",
       "      <td>2</td>\n",
       "      <td>0</td>\n",
       "      <td>1</td>\n",
       "      <td>0</td>\n",
       "      <td>1</td>\n",
       "      <td>0</td>\n",
       "      <td>1</td>\n",
       "      <td>0</td>\n",
       "      <td>...</td>\n",
       "      <td>2.714286</td>\n",
       "      <td>2.714286</td>\n",
       "      <td>0.000000</td>\n",
       "      <td>0.000000</td>\n",
       "      <td>10.775510</td>\n",
       "      <td>0.000000</td>\n",
       "      <td>8.367347</td>\n",
       "      <td>0.000000</td>\n",
       "      <td>0.000000</td>\n",
       "      <td>9.836735</td>\n",
       "    </tr>\n",
       "    <tr>\n",
       "      <th>3</th>\n",
       "      <td>18</td>\n",
       "      <td>2012</td>\n",
       "      <td>3</td>\n",
       "      <td>0</td>\n",
       "      <td>1</td>\n",
       "      <td>0</td>\n",
       "      <td>1</td>\n",
       "      <td>0</td>\n",
       "      <td>1</td>\n",
       "      <td>0</td>\n",
       "      <td>...</td>\n",
       "      <td>4.200000</td>\n",
       "      <td>4.200000</td>\n",
       "      <td>0.000000</td>\n",
       "      <td>0.000000</td>\n",
       "      <td>12.100000</td>\n",
       "      <td>0.000000</td>\n",
       "      <td>9.400000</td>\n",
       "      <td>0.000000</td>\n",
       "      <td>0.000000</td>\n",
       "      <td>9.960000</td>\n",
       "    </tr>\n",
       "    <tr>\n",
       "      <th>4</th>\n",
       "      <td>18</td>\n",
       "      <td>2012</td>\n",
       "      <td>4</td>\n",
       "      <td>0</td>\n",
       "      <td>1</td>\n",
       "      <td>0</td>\n",
       "      <td>1</td>\n",
       "      <td>0</td>\n",
       "      <td>1</td>\n",
       "      <td>0</td>\n",
       "      <td>...</td>\n",
       "      <td>5.460000</td>\n",
       "      <td>5.460000</td>\n",
       "      <td>0.000000</td>\n",
       "      <td>0.000000</td>\n",
       "      <td>13.360000</td>\n",
       "      <td>0.000000</td>\n",
       "      <td>10.320000</td>\n",
       "      <td>0.000000</td>\n",
       "      <td>0.000000</td>\n",
       "      <td>10.280000</td>\n",
       "    </tr>\n",
       "    <tr>\n",
       "      <th>...</th>\n",
       "      <td>...</td>\n",
       "      <td>...</td>\n",
       "      <td>...</td>\n",
       "      <td>...</td>\n",
       "      <td>...</td>\n",
       "      <td>...</td>\n",
       "      <td>...</td>\n",
       "      <td>...</td>\n",
       "      <td>...</td>\n",
       "      <td>...</td>\n",
       "      <td>...</td>\n",
       "      <td>...</td>\n",
       "      <td>...</td>\n",
       "      <td>...</td>\n",
       "      <td>...</td>\n",
       "      <td>...</td>\n",
       "      <td>...</td>\n",
       "      <td>...</td>\n",
       "      <td>...</td>\n",
       "      <td>...</td>\n",
       "      <td>...</td>\n",
       "    </tr>\n",
       "    <tr>\n",
       "      <th>643685</th>\n",
       "      <td>1827860</td>\n",
       "      <td>2013</td>\n",
       "      <td>1</td>\n",
       "      <td>0</td>\n",
       "      <td>0</td>\n",
       "      <td>0</td>\n",
       "      <td>1</td>\n",
       "      <td>0</td>\n",
       "      <td>0</td>\n",
       "      <td>1</td>\n",
       "      <td>...</td>\n",
       "      <td>0.000000</td>\n",
       "      <td>0.000000</td>\n",
       "      <td>0.000000</td>\n",
       "      <td>0.000000</td>\n",
       "      <td>0.612903</td>\n",
       "      <td>0.000000</td>\n",
       "      <td>0.000000</td>\n",
       "      <td>0.000000</td>\n",
       "      <td>0.000000</td>\n",
       "      <td>0.000000</td>\n",
       "    </tr>\n",
       "    <tr>\n",
       "      <th>643686</th>\n",
       "      <td>1827860</td>\n",
       "      <td>2015</td>\n",
       "      <td>2</td>\n",
       "      <td>1</td>\n",
       "      <td>0</td>\n",
       "      <td>0</td>\n",
       "      <td>1</td>\n",
       "      <td>0</td>\n",
       "      <td>1</td>\n",
       "      <td>0</td>\n",
       "      <td>...</td>\n",
       "      <td>0.000000</td>\n",
       "      <td>0.000000</td>\n",
       "      <td>0.212121</td>\n",
       "      <td>0.212121</td>\n",
       "      <td>17.363636</td>\n",
       "      <td>0.000000</td>\n",
       "      <td>8.909091</td>\n",
       "      <td>0.000000</td>\n",
       "      <td>0.000000</td>\n",
       "      <td>7.121212</td>\n",
       "    </tr>\n",
       "    <tr>\n",
       "      <th>643687</th>\n",
       "      <td>1827860</td>\n",
       "      <td>2016</td>\n",
       "      <td>3</td>\n",
       "      <td>1</td>\n",
       "      <td>0</td>\n",
       "      <td>0</td>\n",
       "      <td>1</td>\n",
       "      <td>1</td>\n",
       "      <td>0</td>\n",
       "      <td>1</td>\n",
       "      <td>...</td>\n",
       "      <td>0.000000</td>\n",
       "      <td>0.000000</td>\n",
       "      <td>0.294118</td>\n",
       "      <td>0.205882</td>\n",
       "      <td>34.705882</td>\n",
       "      <td>0.000000</td>\n",
       "      <td>10.352941</td>\n",
       "      <td>1.705882</td>\n",
       "      <td>1.705882</td>\n",
       "      <td>23.911765</td>\n",
       "    </tr>\n",
       "    <tr>\n",
       "      <th>643688</th>\n",
       "      <td>1827869</td>\n",
       "      <td>2013</td>\n",
       "      <td>1</td>\n",
       "      <td>1</td>\n",
       "      <td>1</td>\n",
       "      <td>0</td>\n",
       "      <td>0</td>\n",
       "      <td>0</td>\n",
       "      <td>1</td>\n",
       "      <td>0</td>\n",
       "      <td>...</td>\n",
       "      <td>0.000000</td>\n",
       "      <td>0.000000</td>\n",
       "      <td>0.000000</td>\n",
       "      <td>0.000000</td>\n",
       "      <td>0.000000</td>\n",
       "      <td>0.525424</td>\n",
       "      <td>0.000000</td>\n",
       "      <td>0.000000</td>\n",
       "      <td>0.000000</td>\n",
       "      <td>0.000000</td>\n",
       "    </tr>\n",
       "    <tr>\n",
       "      <th>643689</th>\n",
       "      <td>1827869</td>\n",
       "      <td>2014</td>\n",
       "      <td>2</td>\n",
       "      <td>0</td>\n",
       "      <td>0</td>\n",
       "      <td>1</td>\n",
       "      <td>0</td>\n",
       "      <td>0</td>\n",
       "      <td>1</td>\n",
       "      <td>0</td>\n",
       "      <td>...</td>\n",
       "      <td>0.000000</td>\n",
       "      <td>0.666667</td>\n",
       "      <td>0.666667</td>\n",
       "      <td>0.000000</td>\n",
       "      <td>0.000000</td>\n",
       "      <td>8.950000</td>\n",
       "      <td>1.033333</td>\n",
       "      <td>0.083333</td>\n",
       "      <td>0.083333</td>\n",
       "      <td>8.133333</td>\n",
       "    </tr>\n",
       "  </tbody>\n",
       "</table>\n",
       "<p>643690 rows × 164 columns</p>\n",
       "</div>"
      ],
      "text/plain": [
       "         persnr  year  nrEntry  ltue  employed_before  receipt_leh_before  \\\n",
       "0             7  2015        1     0                1                   0   \n",
       "1            18  2010        1     1                0                   0   \n",
       "2            18  2011        2     0                1                   0   \n",
       "3            18  2012        3     0                1                   0   \n",
       "4            18  2012        4     0                1                   0   \n",
       "...         ...   ...      ...   ...              ...                 ...   \n",
       "643685  1827860  2013        1     0                0                   0   \n",
       "643686  1827860  2015        2     1                0                   0   \n",
       "643687  1827860  2016        3     1                0                   0   \n",
       "643688  1827869  2013        1     1                1                   0   \n",
       "643689  1827869  2014        2     0                0                   1   \n",
       "\n",
       "        receipt_lhg_before  se_before  ASU_notue_seeking_before  \\\n",
       "0                        0          0                         1   \n",
       "1                        0          0                         0   \n",
       "2                        1          0                         1   \n",
       "3                        1          0                         1   \n",
       "4                        1          0                         1   \n",
       "...                    ...        ...                       ...   \n",
       "643685                   1          0                         0   \n",
       "643686                   1          0                         1   \n",
       "643687                   1          1                         0   \n",
       "643688                   0          0                         1   \n",
       "643689                   0          0                         1   \n",
       "\n",
       "        ASU_other_before  ...  minijob_tot_dur_byage  ft_tot_dur_byage  \\\n",
       "0                      0  ...               0.000000          0.000000   \n",
       "1                      0  ...               0.000000          0.000000   \n",
       "2                      0  ...               2.714286          2.714286   \n",
       "3                      0  ...               4.200000          4.200000   \n",
       "4                      0  ...               5.460000          5.460000   \n",
       "...                  ...  ...                    ...               ...   \n",
       "643685                 1  ...               0.000000          0.000000   \n",
       "643686                 0  ...               0.000000          0.000000   \n",
       "643687                 1  ...               0.000000          0.000000   \n",
       "643688                 0  ...               0.000000          0.000000   \n",
       "643689                 0  ...               0.000000          0.666667   \n",
       "\n",
       "        befrist_tot_dur_byage  leih_tot_dur_byage  LHG_tot_dur_byage  \\\n",
       "0                   15.043478            0.000000           0.000000   \n",
       "1                    0.000000            0.000000           0.000000   \n",
       "2                    0.000000            0.000000          10.775510   \n",
       "3                    0.000000            0.000000          12.100000   \n",
       "4                    0.000000            0.000000          13.360000   \n",
       "...                       ...                 ...                ...   \n",
       "643685               0.000000            0.000000           0.612903   \n",
       "643686               0.212121            0.212121          17.363636   \n",
       "643687               0.294118            0.205882          34.705882   \n",
       "643688               0.000000            0.000000           0.000000   \n",
       "643689               0.666667            0.000000           0.000000   \n",
       "\n",
       "        LEH_tot_dur_byage  almp_tot_dur_byage  almp_aw_tot_dur_byage  \\\n",
       "0                0.000000            0.000000               0.000000   \n",
       "1                0.000000            0.000000               0.000000   \n",
       "2                0.000000            8.367347               0.000000   \n",
       "3                0.000000            9.400000               0.000000   \n",
       "4                0.000000           10.320000               0.000000   \n",
       "...                   ...                 ...                    ...   \n",
       "643685           0.000000            0.000000               0.000000   \n",
       "643686           0.000000            8.909091               0.000000   \n",
       "643687           0.000000           10.352941               1.705882   \n",
       "643688           0.525424            0.000000               0.000000   \n",
       "643689           8.950000            1.033333               0.083333   \n",
       "\n",
       "        se_tot_dur_byage  seeking1_tot_dur_byage  \n",
       "0               0.000000                0.000000  \n",
       "1               0.000000                0.000000  \n",
       "2               0.000000                9.836735  \n",
       "3               0.000000                9.960000  \n",
       "4               0.000000               10.280000  \n",
       "...                  ...                     ...  \n",
       "643685          0.000000                0.000000  \n",
       "643686          0.000000                7.121212  \n",
       "643687          1.705882               23.911765  \n",
       "643688          0.000000                0.000000  \n",
       "643689          0.083333                8.133333  \n",
       "\n",
       "[643690 rows x 164 columns]"
      ]
     },
     "execution_count": 10,
     "metadata": {},
     "output_type": "execute_result"
    }
   ],
   "source": [
    "siab"
   ]
  },
  {
   "cell_type": "markdown",
   "id": "1f87e805",
   "metadata": {
    "papermill": {
     "duration": 0.009973,
     "end_time": "2025-08-19T18:32:43.450153",
     "exception": false,
     "start_time": "2025-08-19T18:32:43.440180",
     "status": "completed"
    },
    "tags": []
   },
   "source": [
    "# Splitting Data and Setting Training Data Size"
   ]
  },
  {
   "cell_type": "code",
   "execution_count": 11,
   "id": "910ae358",
   "metadata": {
    "execution": {
     "iopub.execute_input": "2025-08-19T18:32:43.471156Z",
     "iopub.status.busy": "2025-08-19T18:32:43.470750Z",
     "iopub.status.idle": "2025-08-19T18:32:44.156464Z",
     "shell.execute_reply": "2025-08-19T18:32:44.155769Z"
    },
    "papermill": {
     "duration": 0.698304,
     "end_time": "2025-08-19T18:32:44.158269",
     "exception": false,
     "start_time": "2025-08-19T18:32:43.459965",
     "status": "completed"
    },
    "tags": []
   },
   "outputs": [],
   "source": [
    "from fairness_multiverse.universe import sample_by_year_size\n",
    "\n",
    "siab_train = sample_by_year_size(siab,\n",
    "                               training_year=universe[\"training_year\"],\n",
    "                               training_size=universe[\"training_size\"])"
   ]
  },
  {
   "cell_type": "code",
   "execution_count": 12,
   "id": "919c8ff5",
   "metadata": {
    "execution": {
     "iopub.execute_input": "2025-08-19T18:32:44.182792Z",
     "iopub.status.busy": "2025-08-19T18:32:44.181781Z",
     "iopub.status.idle": "2025-08-19T18:32:44.192563Z",
     "shell.execute_reply": "2025-08-19T18:32:44.191027Z"
    },
    "papermill": {
     "duration": 0.023279,
     "end_time": "2025-08-19T18:32:44.193950",
     "exception": false,
     "start_time": "2025-08-19T18:32:44.170671",
     "status": "completed"
    },
    "tags": []
   },
   "outputs": [
    {
     "data": {
      "text/plain": [
       "(5000, 164)"
      ]
     },
     "execution_count": 12,
     "metadata": {},
     "output_type": "execute_result"
    }
   ],
   "source": [
    "siab_train.shape"
   ]
  },
  {
   "cell_type": "code",
   "execution_count": 13,
   "id": "feb13bf4",
   "metadata": {
    "execution": {
     "iopub.execute_input": "2025-08-19T18:32:44.223590Z",
     "iopub.status.busy": "2025-08-19T18:32:44.222649Z",
     "iopub.status.idle": "2025-08-19T18:32:44.238754Z",
     "shell.execute_reply": "2025-08-19T18:32:44.237426Z"
    },
    "papermill": {
     "duration": 0.029696,
     "end_time": "2025-08-19T18:32:44.240317",
     "exception": false,
     "start_time": "2025-08-19T18:32:44.210621",
     "status": "completed"
    },
    "tags": []
   },
   "outputs": [
    {
     "data": {
      "text/plain": [
       "year\n",
       "2012    1667\n",
       "2013    1667\n",
       "2014    1666\n",
       "dtype: int64"
      ]
     },
     "metadata": {},
     "output_type": "display_data"
    }
   ],
   "source": [
    "display(siab_train.groupby(\"year\").size())"
   ]
  },
  {
   "cell_type": "code",
   "execution_count": 14,
   "id": "0997782f",
   "metadata": {
    "execution": {
     "iopub.execute_input": "2025-08-19T18:32:44.270149Z",
     "iopub.status.busy": "2025-08-19T18:32:44.269273Z",
     "iopub.status.idle": "2025-08-19T18:32:44.638497Z",
     "shell.execute_reply": "2025-08-19T18:32:44.637756Z"
    },
    "papermill": {
     "duration": 0.383528,
     "end_time": "2025-08-19T18:32:44.640248",
     "exception": false,
     "start_time": "2025-08-19T18:32:44.256720",
     "status": "completed"
    },
    "tags": []
   },
   "outputs": [],
   "source": [
    "#siab_train = siab_s[siab_s.year < 2015]\n",
    "siab_calib = siab[siab.year == 2015]\n",
    "siab_test = siab[siab.year == 2016]"
   ]
  },
  {
   "cell_type": "code",
   "execution_count": 15,
   "id": "2c1e4012",
   "metadata": {
    "execution": {
     "iopub.execute_input": "2025-08-19T18:32:44.672295Z",
     "iopub.status.busy": "2025-08-19T18:32:44.670852Z",
     "iopub.status.idle": "2025-08-19T18:32:44.677551Z",
     "shell.execute_reply": "2025-08-19T18:32:44.676337Z"
    },
    "papermill": {
     "duration": 0.022905,
     "end_time": "2025-08-19T18:32:44.678843",
     "exception": false,
     "start_time": "2025-08-19T18:32:44.655938",
     "status": "completed"
    },
    "tags": []
   },
   "outputs": [],
   "source": [
    "#siab_calib.shape"
   ]
  },
  {
   "cell_type": "code",
   "execution_count": 16,
   "id": "f66b54ca",
   "metadata": {
    "execution": {
     "iopub.execute_input": "2025-08-19T18:32:44.715139Z",
     "iopub.status.busy": "2025-08-19T18:32:44.714015Z",
     "iopub.status.idle": "2025-08-19T18:32:44.723028Z",
     "shell.execute_reply": "2025-08-19T18:32:44.721046Z"
    },
    "papermill": {
     "duration": 0.022751,
     "end_time": "2025-08-19T18:32:44.724677",
     "exception": false,
     "start_time": "2025-08-19T18:32:44.701926",
     "status": "completed"
    },
    "tags": []
   },
   "outputs": [],
   "source": [
    "#siab_test.shape"
   ]
  },
  {
   "cell_type": "code",
   "execution_count": 17,
   "id": "27e4384d",
   "metadata": {
    "execution": {
     "iopub.execute_input": "2025-08-19T18:32:44.766365Z",
     "iopub.status.busy": "2025-08-19T18:32:44.765908Z",
     "iopub.status.idle": "2025-08-19T18:32:44.777216Z",
     "shell.execute_reply": "2025-08-19T18:32:44.776526Z"
    },
    "papermill": {
     "duration": 0.037114,
     "end_time": "2025-08-19T18:32:44.778312",
     "exception": false,
     "start_time": "2025-08-19T18:32:44.741198",
     "status": "completed"
    },
    "tags": []
   },
   "outputs": [],
   "source": [
    "X_train = siab_train.iloc[:,4:164]\n",
    "y_train = siab_train.iloc[:, [3]]"
   ]
  },
  {
   "cell_type": "code",
   "execution_count": 18,
   "id": "08ee8389",
   "metadata": {
    "execution": {
     "iopub.execute_input": "2025-08-19T18:32:44.806722Z",
     "iopub.status.busy": "2025-08-19T18:32:44.805997Z",
     "iopub.status.idle": "2025-08-19T18:32:44.902766Z",
     "shell.execute_reply": "2025-08-19T18:32:44.901312Z"
    },
    "papermill": {
     "duration": 0.115139,
     "end_time": "2025-08-19T18:32:44.904881",
     "exception": false,
     "start_time": "2025-08-19T18:32:44.789742",
     "status": "completed"
    },
    "tags": []
   },
   "outputs": [],
   "source": [
    "X_calib = siab_calib.iloc[:,4:164]\n",
    "y_calib = siab_calib.iloc[:, [3]]"
   ]
  },
  {
   "cell_type": "code",
   "execution_count": 19,
   "id": "b7ff42e0",
   "metadata": {
    "execution": {
     "iopub.execute_input": "2025-08-19T18:32:44.936106Z",
     "iopub.status.busy": "2025-08-19T18:32:44.935183Z",
     "iopub.status.idle": "2025-08-19T18:32:45.000017Z",
     "shell.execute_reply": "2025-08-19T18:32:44.999091Z"
    },
    "papermill": {
     "duration": 0.082842,
     "end_time": "2025-08-19T18:32:45.002269",
     "exception": false,
     "start_time": "2025-08-19T18:32:44.919427",
     "status": "completed"
    },
    "tags": []
   },
   "outputs": [],
   "source": [
    "X_test = siab_test.iloc[:,4:164]\n",
    "y_true = siab_test.iloc[:, [3]]"
   ]
  },
  {
   "cell_type": "code",
   "execution_count": 20,
   "id": "0275101e",
   "metadata": {
    "execution": {
     "iopub.execute_input": "2025-08-19T18:32:45.049293Z",
     "iopub.status.busy": "2025-08-19T18:32:45.047375Z",
     "iopub.status.idle": "2025-08-19T18:32:45.197725Z",
     "shell.execute_reply": "2025-08-19T18:32:45.196676Z"
    },
    "papermill": {
     "duration": 0.17309,
     "end_time": "2025-08-19T18:32:45.199739",
     "exception": false,
     "start_time": "2025-08-19T18:32:45.026649",
     "status": "completed"
    },
    "tags": []
   },
   "outputs": [],
   "source": [
    "# Auxiliary data needed downstream in the pipeline\n",
    "\n",
    "org_train = X_train.copy()\n",
    "org_test = X_test.copy()\n",
    "org_calib = X_calib.copy()"
   ]
  },
  {
   "cell_type": "markdown",
   "id": "b461e618",
   "metadata": {
    "papermill": {
     "duration": 0.01238,
     "end_time": "2025-08-19T18:32:45.229521",
     "exception": false,
     "start_time": "2025-08-19T18:32:45.217141",
     "status": "completed"
    },
    "tags": []
   },
   "source": [
    "# Preprocessing Data"
   ]
  },
  {
   "cell_type": "code",
   "execution_count": 21,
   "id": "78e74c4b",
   "metadata": {
    "execution": {
     "iopub.execute_input": "2025-08-19T18:32:45.258886Z",
     "iopub.status.busy": "2025-08-19T18:32:45.258419Z",
     "iopub.status.idle": "2025-08-19T18:32:45.264627Z",
     "shell.execute_reply": "2025-08-19T18:32:45.263759Z"
    },
    "papermill": {
     "duration": 0.028824,
     "end_time": "2025-08-19T18:32:45.268531",
     "exception": false,
     "start_time": "2025-08-19T18:32:45.239707",
     "status": "completed"
    },
    "tags": []
   },
   "outputs": [],
   "source": [
    "# EXCLUDE PROTECTED FEATURES\n",
    "# --------------------------\n",
    "\n",
    "excluded_features = universe[\"exclude_features\"].split(\"-\")\n",
    "excluded_features_dictionary = {\n",
    "    \"nationality\": [\"maxdeutsch1\", \"maxdeutsch.Missing.\"],\n",
    "    \"sex\": [\"frau1\"],\n",
    "    \"age\": [\"age\"],\n",
    "}"
   ]
  },
  {
   "cell_type": "code",
   "execution_count": 22,
   "id": "f8e63555",
   "metadata": {
    "execution": {
     "iopub.execute_input": "2025-08-19T18:32:45.301511Z",
     "iopub.status.busy": "2025-08-19T18:32:45.301127Z",
     "iopub.status.idle": "2025-08-19T18:32:45.306602Z",
     "shell.execute_reply": "2025-08-19T18:32:45.305689Z"
    },
    "papermill": {
     "duration": 0.018549,
     "end_time": "2025-08-19T18:32:45.307951",
     "exception": false,
     "start_time": "2025-08-19T18:32:45.289402",
     "status": "completed"
    },
    "tags": []
   },
   "outputs": [],
   "source": [
    "excluded_features_columns = [\n",
    "    excluded_features_dictionary[f] for f in excluded_features if len(f) > 0 and f != \"none\"\n",
    "]"
   ]
  },
  {
   "cell_type": "code",
   "execution_count": 23,
   "id": "da781f7c",
   "metadata": {
    "execution": {
     "iopub.execute_input": "2025-08-19T18:32:45.335816Z",
     "iopub.status.busy": "2025-08-19T18:32:45.334154Z",
     "iopub.status.idle": "2025-08-19T18:32:45.341847Z",
     "shell.execute_reply": "2025-08-19T18:32:45.340444Z"
    },
    "papermill": {
     "duration": 0.026113,
     "end_time": "2025-08-19T18:32:45.344488",
     "exception": false,
     "start_time": "2025-08-19T18:32:45.318375",
     "status": "completed"
    },
    "tags": []
   },
   "outputs": [],
   "source": [
    "from fairness_multiverse.universe import flatten_once\n",
    "\n",
    "excluded_features_columns = flatten_once(excluded_features_columns)"
   ]
  },
  {
   "cell_type": "code",
   "execution_count": 24,
   "id": "37fef0f0",
   "metadata": {
    "execution": {
     "iopub.execute_input": "2025-08-19T18:32:45.376790Z",
     "iopub.status.busy": "2025-08-19T18:32:45.375634Z",
     "iopub.status.idle": "2025-08-19T18:32:45.398461Z",
     "shell.execute_reply": "2025-08-19T18:32:45.397414Z"
    },
    "papermill": {
     "duration": 0.039566,
     "end_time": "2025-08-19T18:32:45.400272",
     "exception": false,
     "start_time": "2025-08-19T18:32:45.360706",
     "status": "completed"
    },
    "tags": []
   },
   "outputs": [
    {
     "name": "stdout",
     "output_type": "stream",
     "text": [
      "Dropping features: ['maxdeutsch1', 'maxdeutsch.Missing.']\n"
     ]
    }
   ],
   "source": [
    "if len(excluded_features_columns) > 0:\n",
    "    print(f\"Dropping features: {excluded_features_columns}\")\n",
    "    X_train.drop(excluded_features_columns, axis=1, inplace=True)"
   ]
  },
  {
   "cell_type": "code",
   "execution_count": 25,
   "id": "d029e3e9",
   "metadata": {
    "execution": {
     "iopub.execute_input": "2025-08-19T18:32:45.427970Z",
     "iopub.status.busy": "2025-08-19T18:32:45.426817Z",
     "iopub.status.idle": "2025-08-19T18:32:45.493528Z",
     "shell.execute_reply": "2025-08-19T18:32:45.492341Z"
    },
    "papermill": {
     "duration": 0.086312,
     "end_time": "2025-08-19T18:32:45.501384",
     "exception": false,
     "start_time": "2025-08-19T18:32:45.415072",
     "status": "completed"
    },
    "tags": []
   },
   "outputs": [
    {
     "name": "stdout",
     "output_type": "stream",
     "text": [
      "Dropping features: ['maxdeutsch1', 'maxdeutsch.Missing.']\n"
     ]
    }
   ],
   "source": [
    "if len(excluded_features_columns) > 0:\n",
    "    print(f\"Dropping features: {excluded_features_columns}\")\n",
    "    X_test.drop(excluded_features_columns, axis=1, inplace=True)"
   ]
  },
  {
   "cell_type": "code",
   "execution_count": 26,
   "id": "01d571f0",
   "metadata": {
    "execution": {
     "iopub.execute_input": "2025-08-19T18:32:45.541111Z",
     "iopub.status.busy": "2025-08-19T18:32:45.538164Z",
     "iopub.status.idle": "2025-08-19T18:32:45.625411Z",
     "shell.execute_reply": "2025-08-19T18:32:45.624428Z"
    },
    "papermill": {
     "duration": 0.101771,
     "end_time": "2025-08-19T18:32:45.626856",
     "exception": false,
     "start_time": "2025-08-19T18:32:45.525085",
     "status": "completed"
    },
    "tags": []
   },
   "outputs": [
    {
     "name": "stdout",
     "output_type": "stream",
     "text": [
      "Dropping features: ['maxdeutsch1', 'maxdeutsch.Missing.']\n"
     ]
    }
   ],
   "source": [
    "if len(excluded_features_columns) > 0:\n",
    "    print(f\"Dropping features: {excluded_features_columns}\")\n",
    "    X_calib.drop(excluded_features_columns, axis=1, inplace=True)"
   ]
  },
  {
   "cell_type": "code",
   "execution_count": 27,
   "id": "3037356e",
   "metadata": {
    "execution": {
     "iopub.execute_input": "2025-08-19T18:32:45.655216Z",
     "iopub.status.busy": "2025-08-19T18:32:45.654707Z",
     "iopub.status.idle": "2025-08-19T18:32:45.660926Z",
     "shell.execute_reply": "2025-08-19T18:32:45.659552Z"
    },
    "papermill": {
     "duration": 0.022966,
     "end_time": "2025-08-19T18:32:45.663054",
     "exception": false,
     "start_time": "2025-08-19T18:32:45.640088",
     "status": "completed"
    },
    "tags": []
   },
   "outputs": [],
   "source": [
    "# EXCLUDE CERTAIN SUBGROUPS\n",
    "# -------------------------\n",
    "\n",
    "mode = universe.get(\"exclude_subgroups\", \"keep-all\") # Defaults to \"keep-all\" if the key is missing."
   ]
  },
  {
   "cell_type": "code",
   "execution_count": 28,
   "id": "9d1e63fd",
   "metadata": {
    "execution": {
     "iopub.execute_input": "2025-08-19T18:32:45.695721Z",
     "iopub.status.busy": "2025-08-19T18:32:45.694972Z",
     "iopub.status.idle": "2025-08-19T18:32:45.706573Z",
     "shell.execute_reply": "2025-08-19T18:32:45.704845Z"
    },
    "papermill": {
     "duration": 0.04149,
     "end_time": "2025-08-19T18:32:45.718831",
     "exception": false,
     "start_time": "2025-08-19T18:32:45.677341",
     "status": "completed"
    },
    "tags": []
   },
   "outputs": [],
   "source": [
    "if mode == \"keep-all\":\n",
    "    keep_mask = pd.Series(True, index=org_train.index)\n",
    "\n",
    "elif mode == \"drop-non-german\":\n",
    "    keep_mask = (org_train[\"maxdeutsch1\"] == 1) & (org_train[\"maxdeutsch.Missing.\"] == 0)\n",
    "\n",
    "else:\n",
    "    raise ValueError(f\"Unsupported mode for exclude_subgroups: {mode}\")"
   ]
  },
  {
   "cell_type": "code",
   "execution_count": 29,
   "id": "d3b65474",
   "metadata": {
    "execution": {
     "iopub.execute_input": "2025-08-19T18:32:45.743912Z",
     "iopub.status.busy": "2025-08-19T18:32:45.743224Z",
     "iopub.status.idle": "2025-08-19T18:32:45.754220Z",
     "shell.execute_reply": "2025-08-19T18:32:45.752854Z"
    },
    "papermill": {
     "duration": 0.025832,
     "end_time": "2025-08-19T18:32:45.755940",
     "exception": false,
     "start_time": "2025-08-19T18:32:45.730108",
     "status": "completed"
    },
    "tags": []
   },
   "outputs": [],
   "source": [
    "n_drop = (~keep_mask).sum() # Calculates how many rows are set to be dropped\n",
    "if n_drop > 0:\n",
    "    pct = n_drop / len(keep_mask) * 100\n",
    "    print(f\"Dropping {n_drop} rows ({pct:.2f}%) where mode='{mode}'\")"
   ]
  },
  {
   "cell_type": "code",
   "execution_count": 30,
   "id": "f44389b3",
   "metadata": {
    "execution": {
     "iopub.execute_input": "2025-08-19T18:32:45.786825Z",
     "iopub.status.busy": "2025-08-19T18:32:45.786103Z",
     "iopub.status.idle": "2025-08-19T18:32:45.805532Z",
     "shell.execute_reply": "2025-08-19T18:32:45.804066Z"
    },
    "papermill": {
     "duration": 0.034612,
     "end_time": "2025-08-19T18:32:45.807200",
     "exception": false,
     "start_time": "2025-08-19T18:32:45.772588",
     "status": "completed"
    },
    "tags": []
   },
   "outputs": [],
   "source": [
    "X_train = X_train[keep_mask]"
   ]
  },
  {
   "cell_type": "code",
   "execution_count": 31,
   "id": "ceca8c2a",
   "metadata": {
    "execution": {
     "iopub.execute_input": "2025-08-19T18:32:45.838779Z",
     "iopub.status.busy": "2025-08-19T18:32:45.838076Z",
     "iopub.status.idle": "2025-08-19T18:32:45.845514Z",
     "shell.execute_reply": "2025-08-19T18:32:45.844515Z"
    },
    "papermill": {
     "duration": 0.022525,
     "end_time": "2025-08-19T18:32:45.846934",
     "exception": false,
     "start_time": "2025-08-19T18:32:45.824409",
     "status": "completed"
    },
    "tags": []
   },
   "outputs": [],
   "source": [
    "y_train = y_train[keep_mask]"
   ]
  },
  {
   "cell_type": "markdown",
   "id": "04d31e2f",
   "metadata": {
    "papermill": {
     "duration": 0.011099,
     "end_time": "2025-08-19T18:32:45.869235",
     "exception": false,
     "start_time": "2025-08-19T18:32:45.858136",
     "status": "completed"
    },
    "tags": []
   },
   "source": [
    "# Model Training"
   ]
  },
  {
   "cell_type": "code",
   "execution_count": 32,
   "id": "db991733",
   "metadata": {
    "execution": {
     "iopub.execute_input": "2025-08-19T18:32:45.897408Z",
     "iopub.status.busy": "2025-08-19T18:32:45.892241Z",
     "iopub.status.idle": "2025-08-19T18:32:46.001771Z",
     "shell.execute_reply": "2025-08-19T18:32:46.000799Z"
    },
    "papermill": {
     "duration": 0.124672,
     "end_time": "2025-08-19T18:32:46.004404",
     "exception": false,
     "start_time": "2025-08-19T18:32:45.879732",
     "status": "completed"
    },
    "tags": []
   },
   "outputs": [],
   "source": [
    "from sklearn.linear_model import LogisticRegression\n",
    "from sklearn.ensemble import GradientBoostingClassifier, RandomForestClassifier\n",
    "\n",
    "if (universe[\"model\"] == \"logreg\"):\n",
    "    model = LogisticRegression() #penalty=\"none\", solver=\"newton-cg\", max_iter=1)\n",
    "elif (universe[\"model\"] == \"penalized_logreg\"):\n",
    "    model = LogisticRegression(penalty=\"l2\", C=0.1) #, solver=\"newton-cg\", max_iter=1)\n",
    "elif (universe[\"model\"] == \"rf\"):\n",
    "    model = RandomForestClassifier() # n_estimators=100, n_jobs=-1\n",
    "elif (universe[\"model\"] == \"gbm\"):\n",
    "    model = GradientBoostingClassifier()\n",
    "elif (universe[\"model\"] == \"elasticnet\"):\n",
    "    model = LogisticRegression(penalty = 'elasticnet', solver = 'saga', l1_ratio = 0.5) # max_iter=5000\n",
    "else:\n",
    "    raise \"Unsupported universe.model\""
   ]
  },
  {
   "cell_type": "code",
   "execution_count": 33,
   "id": "a4b5cd25",
   "metadata": {
    "execution": {
     "iopub.execute_input": "2025-08-19T18:32:46.039608Z",
     "iopub.status.busy": "2025-08-19T18:32:46.038977Z",
     "iopub.status.idle": "2025-08-19T18:32:46.047815Z",
     "shell.execute_reply": "2025-08-19T18:32:46.046424Z"
    },
    "papermill": {
     "duration": 0.025043,
     "end_time": "2025-08-19T18:32:46.049863",
     "exception": false,
     "start_time": "2025-08-19T18:32:46.024820",
     "status": "completed"
    },
    "tags": []
   },
   "outputs": [],
   "source": [
    "from sklearn.pipeline import Pipeline\n",
    "from sklearn.preprocessing import StandardScaler\n",
    "\n",
    "model = Pipeline([\n",
    "    #(\"continuous_processor\", continuous_processor),\n",
    "    #(\"categorical_preprocessor\", categorical_preprocessor),\n",
    "    (\"scale\", StandardScaler() if universe[\"scale\"] == \"scale\" else None), \n",
    "    (\"model\", model),\n",
    "])"
   ]
  },
  {
   "cell_type": "code",
   "execution_count": 34,
   "id": "283a904d",
   "metadata": {
    "execution": {
     "iopub.execute_input": "2025-08-19T18:32:46.076356Z",
     "iopub.status.busy": "2025-08-19T18:32:46.075997Z",
     "iopub.status.idle": "2025-08-19T18:32:47.441637Z",
     "shell.execute_reply": "2025-08-19T18:32:47.440514Z"
    },
    "papermill": {
     "duration": 1.379195,
     "end_time": "2025-08-19T18:32:47.443026",
     "exception": false,
     "start_time": "2025-08-19T18:32:46.063831",
     "status": "completed"
    },
    "tags": []
   },
   "outputs": [
    {
     "data": {
      "text/html": [
       "<style>#sk-container-id-1 {color: black;background-color: white;}#sk-container-id-1 pre{padding: 0;}#sk-container-id-1 div.sk-toggleable {background-color: white;}#sk-container-id-1 label.sk-toggleable__label {cursor: pointer;display: block;width: 100%;margin-bottom: 0;padding: 0.3em;box-sizing: border-box;text-align: center;}#sk-container-id-1 label.sk-toggleable__label-arrow:before {content: \"▸\";float: left;margin-right: 0.25em;color: #696969;}#sk-container-id-1 label.sk-toggleable__label-arrow:hover:before {color: black;}#sk-container-id-1 div.sk-estimator:hover label.sk-toggleable__label-arrow:before {color: black;}#sk-container-id-1 div.sk-toggleable__content {max-height: 0;max-width: 0;overflow: hidden;text-align: left;background-color: #f0f8ff;}#sk-container-id-1 div.sk-toggleable__content pre {margin: 0.2em;color: black;border-radius: 0.25em;background-color: #f0f8ff;}#sk-container-id-1 input.sk-toggleable__control:checked~div.sk-toggleable__content {max-height: 200px;max-width: 100%;overflow: auto;}#sk-container-id-1 input.sk-toggleable__control:checked~label.sk-toggleable__label-arrow:before {content: \"▾\";}#sk-container-id-1 div.sk-estimator input.sk-toggleable__control:checked~label.sk-toggleable__label {background-color: #d4ebff;}#sk-container-id-1 div.sk-label input.sk-toggleable__control:checked~label.sk-toggleable__label {background-color: #d4ebff;}#sk-container-id-1 input.sk-hidden--visually {border: 0;clip: rect(1px 1px 1px 1px);clip: rect(1px, 1px, 1px, 1px);height: 1px;margin: -1px;overflow: hidden;padding: 0;position: absolute;width: 1px;}#sk-container-id-1 div.sk-estimator {font-family: monospace;background-color: #f0f8ff;border: 1px dotted black;border-radius: 0.25em;box-sizing: border-box;margin-bottom: 0.5em;}#sk-container-id-1 div.sk-estimator:hover {background-color: #d4ebff;}#sk-container-id-1 div.sk-parallel-item::after {content: \"\";width: 100%;border-bottom: 1px solid gray;flex-grow: 1;}#sk-container-id-1 div.sk-label:hover label.sk-toggleable__label {background-color: #d4ebff;}#sk-container-id-1 div.sk-serial::before {content: \"\";position: absolute;border-left: 1px solid gray;box-sizing: border-box;top: 0;bottom: 0;left: 50%;z-index: 0;}#sk-container-id-1 div.sk-serial {display: flex;flex-direction: column;align-items: center;background-color: white;padding-right: 0.2em;padding-left: 0.2em;position: relative;}#sk-container-id-1 div.sk-item {position: relative;z-index: 1;}#sk-container-id-1 div.sk-parallel {display: flex;align-items: stretch;justify-content: center;background-color: white;position: relative;}#sk-container-id-1 div.sk-item::before, #sk-container-id-1 div.sk-parallel-item::before {content: \"\";position: absolute;border-left: 1px solid gray;box-sizing: border-box;top: 0;bottom: 0;left: 50%;z-index: -1;}#sk-container-id-1 div.sk-parallel-item {display: flex;flex-direction: column;z-index: 1;position: relative;background-color: white;}#sk-container-id-1 div.sk-parallel-item:first-child::after {align-self: flex-end;width: 50%;}#sk-container-id-1 div.sk-parallel-item:last-child::after {align-self: flex-start;width: 50%;}#sk-container-id-1 div.sk-parallel-item:only-child::after {width: 0;}#sk-container-id-1 div.sk-dashed-wrapped {border: 1px dashed gray;margin: 0 0.4em 0.5em 0.4em;box-sizing: border-box;padding-bottom: 0.4em;background-color: white;}#sk-container-id-1 div.sk-label label {font-family: monospace;font-weight: bold;display: inline-block;line-height: 1.2em;}#sk-container-id-1 div.sk-label-container {text-align: center;}#sk-container-id-1 div.sk-container {/* jupyter's `normalize.less` sets `[hidden] { display: none; }` but bootstrap.min.css set `[hidden] { display: none !important; }` so we also need the `!important` here to be able to override the default hidden behavior on the sphinx rendered scikit-learn.org. See: https://github.com/scikit-learn/scikit-learn/issues/21755 */display: inline-block !important;position: relative;}#sk-container-id-1 div.sk-text-repr-fallback {display: none;}</style><div id=\"sk-container-id-1\" class=\"sk-top-container\"><div class=\"sk-text-repr-fallback\"><pre>Pipeline(steps=[(&#x27;scale&#x27;, StandardScaler()),\n",
       "                (&#x27;model&#x27;, RandomForestClassifier())])</pre><b>In a Jupyter environment, please rerun this cell to show the HTML representation or trust the notebook. <br />On GitHub, the HTML representation is unable to render, please try loading this page with nbviewer.org.</b></div><div class=\"sk-container\" hidden><div class=\"sk-item sk-dashed-wrapped\"><div class=\"sk-label-container\"><div class=\"sk-label sk-toggleable\"><input class=\"sk-toggleable__control sk-hidden--visually\" id=\"sk-estimator-id-1\" type=\"checkbox\" ><label for=\"sk-estimator-id-1\" class=\"sk-toggleable__label sk-toggleable__label-arrow\">Pipeline</label><div class=\"sk-toggleable__content\"><pre>Pipeline(steps=[(&#x27;scale&#x27;, StandardScaler()),\n",
       "                (&#x27;model&#x27;, RandomForestClassifier())])</pre></div></div></div><div class=\"sk-serial\"><div class=\"sk-item\"><div class=\"sk-estimator sk-toggleable\"><input class=\"sk-toggleable__control sk-hidden--visually\" id=\"sk-estimator-id-2\" type=\"checkbox\" ><label for=\"sk-estimator-id-2\" class=\"sk-toggleable__label sk-toggleable__label-arrow\">StandardScaler</label><div class=\"sk-toggleable__content\"><pre>StandardScaler()</pre></div></div></div><div class=\"sk-item\"><div class=\"sk-estimator sk-toggleable\"><input class=\"sk-toggleable__control sk-hidden--visually\" id=\"sk-estimator-id-3\" type=\"checkbox\" ><label for=\"sk-estimator-id-3\" class=\"sk-toggleable__label sk-toggleable__label-arrow\">RandomForestClassifier</label><div class=\"sk-toggleable__content\"><pre>RandomForestClassifier()</pre></div></div></div></div></div></div></div>"
      ],
      "text/plain": [
       "Pipeline(steps=[('scale', StandardScaler()),\n",
       "                ('model', RandomForestClassifier())])"
      ]
     },
     "execution_count": 34,
     "metadata": {},
     "output_type": "execute_result"
    }
   ],
   "source": [
    "model.fit(X_train, y_train.values.ravel())"
   ]
  },
  {
   "cell_type": "code",
   "execution_count": 35,
   "id": "6e15e313",
   "metadata": {
    "execution": {
     "iopub.execute_input": "2025-08-19T18:32:47.479911Z",
     "iopub.status.busy": "2025-08-19T18:32:47.476708Z",
     "iopub.status.idle": "2025-08-19T18:32:49.457904Z",
     "shell.execute_reply": "2025-08-19T18:32:49.456800Z"
    },
    "papermill": {
     "duration": 2.004714,
     "end_time": "2025-08-19T18:32:49.459574",
     "exception": false,
     "start_time": "2025-08-19T18:32:47.454860",
     "status": "completed"
    },
    "tags": []
   },
   "outputs": [
    {
     "data": {
      "text/plain": [
       "0.8657228848511872"
      ]
     },
     "execution_count": 35,
     "metadata": {},
     "output_type": "execute_result"
    }
   ],
   "source": [
    "from fairness_multiverse.universe import predict_w_threshold\n",
    "\n",
    "probs_test = model.predict_proba(X_test)\n",
    "\n",
    "'''\n",
    "Below code returns a boolean array (or binary 0/1 array depending on how it’s used) where each element \n",
    "is True if the probability of class 1 is greater than or equal to the threshold, and False otherwise.\n",
    "'''\n",
    "y_pred_default = predict_w_threshold(probs_test, 0.5)\n",
    "\n",
    "from sklearn.metrics import accuracy_score\n",
    "\n",
    "# Naive prediction\n",
    "accuracy_score(y_true = y_true, y_pred = y_pred_default)"
   ]
  },
  {
   "cell_type": "code",
   "execution_count": 36,
   "id": "6f14067c",
   "metadata": {
    "execution": {
     "iopub.execute_input": "2025-08-19T18:32:49.486764Z",
     "iopub.status.busy": "2025-08-19T18:32:49.485490Z",
     "iopub.status.idle": "2025-08-19T18:32:51.497486Z",
     "shell.execute_reply": "2025-08-19T18:32:51.496283Z"
    },
    "papermill": {
     "duration": 2.027467,
     "end_time": "2025-08-19T18:32:51.499628",
     "exception": false,
     "start_time": "2025-08-19T18:32:49.472161",
     "status": "completed"
    },
    "tags": []
   },
   "outputs": [
    {
     "data": {
      "text/plain": [
       "array([0, 0, 0, ..., 0, 0, 0])"
      ]
     },
     "execution_count": 36,
     "metadata": {},
     "output_type": "execute_result"
    }
   ],
   "source": [
    "model.predict(X_test)"
   ]
  },
  {
   "cell_type": "markdown",
   "id": "3759920c",
   "metadata": {
    "papermill": {
     "duration": 0.012473,
     "end_time": "2025-08-19T18:32:51.549280",
     "exception": false,
     "start_time": "2025-08-19T18:32:51.536807",
     "status": "completed"
    },
    "tags": []
   },
   "source": [
    "# Conformal Prediction"
   ]
  },
  {
   "cell_type": "code",
   "execution_count": 37,
   "id": "14b27f59",
   "metadata": {
    "execution": {
     "iopub.execute_input": "2025-08-19T18:32:51.575128Z",
     "iopub.status.busy": "2025-08-19T18:32:51.574634Z",
     "iopub.status.idle": "2025-08-19T18:32:51.581016Z",
     "shell.execute_reply": "2025-08-19T18:32:51.579863Z"
    },
    "papermill": {
     "duration": 0.021477,
     "end_time": "2025-08-19T18:32:51.582589",
     "exception": false,
     "start_time": "2025-08-19T18:32:51.561112",
     "status": "completed"
    },
    "tags": []
   },
   "outputs": [],
   "source": [
    "# Miscoverage level for conformal prediction (10% allowed error rate => 90% target coverage)\n",
    "alpha = 0.1"
   ]
  },
  {
   "cell_type": "code",
   "execution_count": 38,
   "id": "59102472",
   "metadata": {
    "execution": {
     "iopub.execute_input": "2025-08-19T18:32:51.609550Z",
     "iopub.status.busy": "2025-08-19T18:32:51.609130Z",
     "iopub.status.idle": "2025-08-19T18:32:53.561617Z",
     "shell.execute_reply": "2025-08-19T18:32:53.560099Z"
    },
    "papermill": {
     "duration": 1.96701,
     "end_time": "2025-08-19T18:32:53.563594",
     "exception": false,
     "start_time": "2025-08-19T18:32:51.596584",
     "status": "completed"
    },
    "tags": []
   },
   "outputs": [],
   "source": [
    "probs_calib = model.predict_proba(X_calib)"
   ]
  },
  {
   "cell_type": "code",
   "execution_count": 39,
   "id": "a792d4dd",
   "metadata": {
    "execution": {
     "iopub.execute_input": "2025-08-19T18:32:53.590505Z",
     "iopub.status.busy": "2025-08-19T18:32:53.589320Z",
     "iopub.status.idle": "2025-08-19T18:32:53.599800Z",
     "shell.execute_reply": "2025-08-19T18:32:53.598616Z"
    },
    "papermill": {
     "duration": 0.025504,
     "end_time": "2025-08-19T18:32:53.601481",
     "exception": false,
     "start_time": "2025-08-19T18:32:53.575977",
     "status": "completed"
    },
    "tags": []
   },
   "outputs": [],
   "source": [
    "y_calib = y_calib.values.ravel().astype(int)"
   ]
  },
  {
   "cell_type": "code",
   "execution_count": 40,
   "id": "650fd033",
   "metadata": {
    "execution": {
     "iopub.execute_input": "2025-08-19T18:32:53.630531Z",
     "iopub.status.busy": "2025-08-19T18:32:53.629220Z",
     "iopub.status.idle": "2025-08-19T18:32:53.642431Z",
     "shell.execute_reply": "2025-08-19T18:32:53.641245Z"
    },
    "papermill": {
     "duration": 0.028053,
     "end_time": "2025-08-19T18:32:53.644192",
     "exception": false,
     "start_time": "2025-08-19T18:32:53.616139",
     "status": "completed"
    },
    "tags": []
   },
   "outputs": [],
   "source": [
    "from fairness_multiverse.conformal import compute_nc_scores\n",
    "\n",
    "# Compute nonconformity scores on calibration set (1 - probability of true class)\n",
    "nc_scores = compute_nc_scores(probs_calib, y_calib)"
   ]
  },
  {
   "cell_type": "code",
   "execution_count": 41,
   "id": "28ada44c",
   "metadata": {
    "execution": {
     "iopub.execute_input": "2025-08-19T18:32:53.674973Z",
     "iopub.status.busy": "2025-08-19T18:32:53.673662Z",
     "iopub.status.idle": "2025-08-19T18:32:53.684671Z",
     "shell.execute_reply": "2025-08-19T18:32:53.683435Z"
    },
    "papermill": {
     "duration": 0.026262,
     "end_time": "2025-08-19T18:32:53.686658",
     "exception": false,
     "start_time": "2025-08-19T18:32:53.660396",
     "status": "completed"
    },
    "tags": []
   },
   "outputs": [],
   "source": [
    "from fairness_multiverse.conformal import find_threshold\n",
    "\n",
    "# Find conformal threshold q_hat for the given alpha (split conformal method)\n",
    "q_hat = find_threshold(nc_scores, alpha)"
   ]
  },
  {
   "cell_type": "code",
   "execution_count": 42,
   "id": "df56469e",
   "metadata": {
    "execution": {
     "iopub.execute_input": "2025-08-19T18:32:53.713116Z",
     "iopub.status.busy": "2025-08-19T18:32:53.711963Z",
     "iopub.status.idle": "2025-08-19T18:32:53.722767Z",
     "shell.execute_reply": "2025-08-19T18:32:53.721562Z"
    },
    "papermill": {
     "duration": 0.030493,
     "end_time": "2025-08-19T18:32:53.729465",
     "exception": false,
     "start_time": "2025-08-19T18:32:53.698972",
     "status": "completed"
    },
    "tags": []
   },
   "outputs": [
    {
     "data": {
      "text/plain": [
       "0.6799999999999999"
      ]
     },
     "execution_count": 42,
     "metadata": {},
     "output_type": "execute_result"
    }
   ],
   "source": [
    "q_hat"
   ]
  },
  {
   "cell_type": "code",
   "execution_count": 43,
   "id": "aa1f5faa",
   "metadata": {
    "execution": {
     "iopub.execute_input": "2025-08-19T18:32:53.760263Z",
     "iopub.status.busy": "2025-08-19T18:32:53.758895Z",
     "iopub.status.idle": "2025-08-19T18:32:56.203159Z",
     "shell.execute_reply": "2025-08-19T18:32:56.201690Z"
    },
    "papermill": {
     "duration": 2.459494,
     "end_time": "2025-08-19T18:32:56.204946",
     "exception": false,
     "start_time": "2025-08-19T18:32:53.745452",
     "status": "completed"
    },
    "tags": []
   },
   "outputs": [],
   "source": [
    "from fairness_multiverse.conformal import predict_conformal_sets\n",
    "\n",
    "# Generate prediction sets for each test example\n",
    "pred_sets = predict_conformal_sets(model, X_test, q_hat)"
   ]
  },
  {
   "cell_type": "code",
   "execution_count": 44,
   "id": "97f67a6b",
   "metadata": {
    "execution": {
     "iopub.execute_input": "2025-08-19T18:32:56.235943Z",
     "iopub.status.busy": "2025-08-19T18:32:56.235317Z",
     "iopub.status.idle": "2025-08-19T18:32:56.243415Z",
     "shell.execute_reply": "2025-08-19T18:32:56.242426Z"
    },
    "papermill": {
     "duration": 0.022753,
     "end_time": "2025-08-19T18:32:56.244909",
     "exception": false,
     "start_time": "2025-08-19T18:32:56.222156",
     "status": "completed"
    },
    "tags": []
   },
   "outputs": [],
   "source": [
    "y_true = y_true.squeeze()"
   ]
  },
  {
   "cell_type": "code",
   "execution_count": 45,
   "id": "e700e9a7",
   "metadata": {
    "execution": {
     "iopub.execute_input": "2025-08-19T18:32:56.273694Z",
     "iopub.status.busy": "2025-08-19T18:32:56.272840Z",
     "iopub.status.idle": "2025-08-19T18:32:56.782405Z",
     "shell.execute_reply": "2025-08-19T18:32:56.781250Z"
    },
    "papermill": {
     "duration": 0.525196,
     "end_time": "2025-08-19T18:32:56.784589",
     "exception": false,
     "start_time": "2025-08-19T18:32:56.259393",
     "status": "completed"
    },
    "tags": []
   },
   "outputs": [],
   "source": [
    "from fairness_multiverse.conformal import evaluate_sets\n",
    "\n",
    "# Evaluate coverage and average set size on test data\n",
    "metrics = evaluate_sets(pred_sets, y_true)"
   ]
  },
  {
   "cell_type": "markdown",
   "id": "efbacec0",
   "metadata": {
    "papermill": {
     "duration": 0.011541,
     "end_time": "2025-08-19T18:32:56.812094",
     "exception": false,
     "start_time": "2025-08-19T18:32:56.800553",
     "status": "completed"
    },
    "tags": []
   },
   "source": [
    "# CP Metrics"
   ]
  },
  {
   "cell_type": "code",
   "execution_count": 46,
   "id": "9de55fb1",
   "metadata": {
    "execution": {
     "iopub.execute_input": "2025-08-19T18:32:56.838034Z",
     "iopub.status.busy": "2025-08-19T18:32:56.836859Z",
     "iopub.status.idle": "2025-08-19T18:32:56.849219Z",
     "shell.execute_reply": "2025-08-19T18:32:56.847906Z"
    },
    "papermill": {
     "duration": 0.027466,
     "end_time": "2025-08-19T18:32:56.851088",
     "exception": false,
     "start_time": "2025-08-19T18:32:56.823622",
     "status": "completed"
    },
    "tags": []
   },
   "outputs": [
    {
     "data": {
      "text/plain": [
       "{'coverage': 0.9152825771931781, 'avg_size': 1.1487682532605061}"
      ]
     },
     "execution_count": 46,
     "metadata": {},
     "output_type": "execute_result"
    }
   ],
   "source": [
    "metrics"
   ]
  },
  {
   "cell_type": "code",
   "execution_count": 47,
   "id": "64c340a1",
   "metadata": {
    "execution": {
     "iopub.execute_input": "2025-08-19T18:32:56.881596Z",
     "iopub.status.busy": "2025-08-19T18:32:56.880073Z",
     "iopub.status.idle": "2025-08-19T18:32:56.898009Z",
     "shell.execute_reply": "2025-08-19T18:32:56.895803Z"
    },
    "papermill": {
     "duration": 0.037502,
     "end_time": "2025-08-19T18:32:56.904185",
     "exception": false,
     "start_time": "2025-08-19T18:32:56.866683",
     "status": "completed"
    },
    "tags": []
   },
   "outputs": [],
   "source": [
    "example_universe = universe.copy()\n",
    "universe_training_year = example_universe.get(\"training_year\")\n",
    "universe_training_size = example_universe.get(\"training_size\")\n",
    "universe_scale = example_universe.get(\"scale\")\n",
    "universe_model = example_universe.get(\"model\")\n",
    "universe_exclude_features = example_universe.get(\"exclude_features\")\n",
    "universe_exclude_subgroups = example_universe.get(\"exclude_subgroups\")"
   ]
  },
  {
   "cell_type": "code",
   "execution_count": 48,
   "id": "dbb53cb4",
   "metadata": {
    "execution": {
     "iopub.execute_input": "2025-08-19T18:32:56.950217Z",
     "iopub.status.busy": "2025-08-19T18:32:56.948739Z",
     "iopub.status.idle": "2025-08-19T18:32:56.957767Z",
     "shell.execute_reply": "2025-08-19T18:32:56.956679Z"
    },
    "papermill": {
     "duration": 0.03496,
     "end_time": "2025-08-19T18:32:56.959659",
     "exception": false,
     "start_time": "2025-08-19T18:32:56.924699",
     "status": "completed"
    },
    "tags": []
   },
   "outputs": [],
   "source": [
    "cp_metrics_dict = {\n",
    "    \"universe_id\": [universe_id],\n",
    "    \"universe_training_year\": [universe_training_year],\n",
    "    \"universe_training_size\": [universe_training_size],\n",
    "    \"universe_scale\": [universe_scale],\n",
    "    \"universe_model\": [universe_model],\n",
    "    \"universe_exclude_features\": [universe_exclude_features],\n",
    "    \"universe_exclude_subgroups\": [universe_exclude_subgroups],\n",
    "    \"q_hat\": [q_hat],\n",
    "    \"coverage\": [metrics[\"coverage\"]],\n",
    "    \"avg_size\": [metrics[\"avg_size\"]],\n",
    "}"
   ]
  },
  {
   "cell_type": "code",
   "execution_count": 49,
   "id": "0d70d4b2",
   "metadata": {
    "execution": {
     "iopub.execute_input": "2025-08-19T18:32:57.010241Z",
     "iopub.status.busy": "2025-08-19T18:32:57.009947Z",
     "iopub.status.idle": "2025-08-19T18:32:57.028578Z",
     "shell.execute_reply": "2025-08-19T18:32:57.027765Z"
    },
    "papermill": {
     "duration": 0.045472,
     "end_time": "2025-08-19T18:32:57.030183",
     "exception": false,
     "start_time": "2025-08-19T18:32:56.984711",
     "status": "completed"
    },
    "tags": []
   },
   "outputs": [],
   "source": [
    "cp_metrics_df = pd.DataFrame(cp_metrics_dict)"
   ]
  },
  {
   "cell_type": "code",
   "execution_count": 50,
   "id": "b494403c",
   "metadata": {
    "execution": {
     "iopub.execute_input": "2025-08-19T18:32:57.077763Z",
     "iopub.status.busy": "2025-08-19T18:32:57.077393Z",
     "iopub.status.idle": "2025-08-19T18:32:57.105716Z",
     "shell.execute_reply": "2025-08-19T18:32:57.104957Z"
    },
    "papermill": {
     "duration": 0.060691,
     "end_time": "2025-08-19T18:32:57.108360",
     "exception": false,
     "start_time": "2025-08-19T18:32:57.047669",
     "status": "completed"
    },
    "tags": []
   },
   "outputs": [
    {
     "data": {
      "text/html": [
       "<div>\n",
       "<style scoped>\n",
       "    .dataframe tbody tr th:only-of-type {\n",
       "        vertical-align: middle;\n",
       "    }\n",
       "\n",
       "    .dataframe tbody tr th {\n",
       "        vertical-align: top;\n",
       "    }\n",
       "\n",
       "    .dataframe thead th {\n",
       "        text-align: right;\n",
       "    }\n",
       "</style>\n",
       "<table border=\"1\" class=\"dataframe\">\n",
       "  <thead>\n",
       "    <tr style=\"text-align: right;\">\n",
       "      <th></th>\n",
       "      <th>universe_id</th>\n",
       "      <th>universe_training_year</th>\n",
       "      <th>universe_training_size</th>\n",
       "      <th>universe_scale</th>\n",
       "      <th>universe_model</th>\n",
       "      <th>universe_exclude_features</th>\n",
       "      <th>universe_exclude_subgroups</th>\n",
       "      <th>q_hat</th>\n",
       "      <th>coverage</th>\n",
       "      <th>avg_size</th>\n",
       "    </tr>\n",
       "  </thead>\n",
       "  <tbody>\n",
       "    <tr>\n",
       "      <th>0</th>\n",
       "      <td>75290d4162c67e6da61143cffb5cee39</td>\n",
       "      <td>2012_14</td>\n",
       "      <td>5k</td>\n",
       "      <td>scale</td>\n",
       "      <td>rf</td>\n",
       "      <td>nationality</td>\n",
       "      <td>keep-all</td>\n",
       "      <td>0.68</td>\n",
       "      <td>0.915283</td>\n",
       "      <td>1.148768</td>\n",
       "    </tr>\n",
       "  </tbody>\n",
       "</table>\n",
       "</div>"
      ],
      "text/plain": [
       "                        universe_id universe_training_year  \\\n",
       "0  75290d4162c67e6da61143cffb5cee39                2012_14   \n",
       "\n",
       "  universe_training_size universe_scale universe_model  \\\n",
       "0                     5k          scale             rf   \n",
       "\n",
       "  universe_exclude_features universe_exclude_subgroups  q_hat  coverage  \\\n",
       "0               nationality                   keep-all   0.68  0.915283   \n",
       "\n",
       "   avg_size  \n",
       "0  1.148768  "
      ]
     },
     "execution_count": 50,
     "metadata": {},
     "output_type": "execute_result"
    }
   ],
   "source": [
    "cp_metrics_df"
   ]
  },
  {
   "cell_type": "markdown",
   "id": "ed608b0b",
   "metadata": {
    "papermill": {
     "duration": 0.013205,
     "end_time": "2025-08-19T18:32:57.148741",
     "exception": false,
     "start_time": "2025-08-19T18:32:57.135536",
     "status": "completed"
    },
    "tags": []
   },
   "source": [
    "Conditional coverage & looking at subgroups"
   ]
  },
  {
   "cell_type": "code",
   "execution_count": 51,
   "id": "8968c366",
   "metadata": {
    "execution": {
     "iopub.execute_input": "2025-08-19T18:32:57.175069Z",
     "iopub.status.busy": "2025-08-19T18:32:57.174264Z",
     "iopub.status.idle": "2025-08-19T18:32:57.434499Z",
     "shell.execute_reply": "2025-08-19T18:32:57.433624Z"
    },
    "papermill": {
     "duration": 0.276188,
     "end_time": "2025-08-19T18:32:57.437440",
     "exception": false,
     "start_time": "2025-08-19T18:32:57.161252",
     "status": "completed"
    },
    "tags": []
   },
   "outputs": [],
   "source": [
    "from fairness_multiverse.conformal import build_cp_groups\n",
    "\n",
    "cp_groups_df = build_cp_groups(pred_sets, y_true, X_test.index, org_test)"
   ]
  },
  {
   "cell_type": "code",
   "execution_count": 52,
   "id": "292ddabf",
   "metadata": {
    "execution": {
     "iopub.execute_input": "2025-08-19T18:32:57.479969Z",
     "iopub.status.busy": "2025-08-19T18:32:57.478489Z",
     "iopub.status.idle": "2025-08-19T18:32:58.358391Z",
     "shell.execute_reply": "2025-08-19T18:32:58.356813Z"
    },
    "papermill": {
     "duration": 0.897448,
     "end_time": "2025-08-19T18:32:58.360578",
     "exception": false,
     "start_time": "2025-08-19T18:32:57.463130",
     "status": "completed"
    },
    "tags": []
   },
   "outputs": [],
   "source": [
    "# Define covered = 1 if true_label is in the predicted set\n",
    "cp_groups_df['covered'] = cp_groups_df.apply(\n",
    "    lambda r: int(r['true_label'] in r['pred_set']),\n",
    "    axis=1\n",
    ")"
   ]
  },
  {
   "cell_type": "code",
   "execution_count": 53,
   "id": "3a261692",
   "metadata": {
    "execution": {
     "iopub.execute_input": "2025-08-19T18:32:58.419731Z",
     "iopub.status.busy": "2025-08-19T18:32:58.418705Z",
     "iopub.status.idle": "2025-08-19T18:32:58.432340Z",
     "shell.execute_reply": "2025-08-19T18:32:58.431452Z"
    },
    "papermill": {
     "duration": 0.044917,
     "end_time": "2025-08-19T18:32:58.434563",
     "exception": false,
     "start_time": "2025-08-19T18:32:58.389646",
     "status": "completed"
    },
    "tags": []
   },
   "outputs": [],
   "source": [
    "subgroups = ['frau1','nongerman','nongerman_male','nongerman_female']\n",
    "\n",
    "# Conditional coverage for subgroup==1\n",
    "cond_coverage = {\n",
    "    g: cp_groups_df.loc[cp_groups_df[g]==1, 'covered'].mean()\n",
    "    for g in subgroups\n",
    "}"
   ]
  },
  {
   "cell_type": "code",
   "execution_count": 54,
   "id": "894fd600",
   "metadata": {
    "execution": {
     "iopub.execute_input": "2025-08-19T18:32:58.471532Z",
     "iopub.status.busy": "2025-08-19T18:32:58.470221Z",
     "iopub.status.idle": "2025-08-19T18:32:58.480822Z",
     "shell.execute_reply": "2025-08-19T18:32:58.479534Z"
    },
    "papermill": {
     "duration": 0.025817,
     "end_time": "2025-08-19T18:32:58.482269",
     "exception": false,
     "start_time": "2025-08-19T18:32:58.456452",
     "status": "completed"
    },
    "tags": []
   },
   "outputs": [
    {
     "data": {
      "text/plain": [
       "{'frau1': 0.9104191939614503,\n",
       " 'nongerman': 0.9069780497389547,\n",
       " 'nongerman_male': 0.9238043771953526,\n",
       " 'nongerman_female': 0.8791356184798808}"
      ]
     },
     "execution_count": 54,
     "metadata": {},
     "output_type": "execute_result"
    }
   ],
   "source": [
    "cond_coverage"
   ]
  },
  {
   "cell_type": "code",
   "execution_count": 55,
   "id": "942895c7",
   "metadata": {
    "execution": {
     "iopub.execute_input": "2025-08-19T18:32:58.511495Z",
     "iopub.status.busy": "2025-08-19T18:32:58.510173Z",
     "iopub.status.idle": "2025-08-19T18:32:58.521353Z",
     "shell.execute_reply": "2025-08-19T18:32:58.520040Z"
    },
    "papermill": {
     "duration": 0.02653,
     "end_time": "2025-08-19T18:32:58.523025",
     "exception": false,
     "start_time": "2025-08-19T18:32:58.496495",
     "status": "completed"
    },
    "tags": []
   },
   "outputs": [],
   "source": [
    "for subgroup, cov in cond_coverage.items():\n",
    "    cp_metrics_df[f\"cov_{subgroup}\"] = cov"
   ]
  },
  {
   "cell_type": "code",
   "execution_count": 56,
   "id": "3970120f",
   "metadata": {
    "execution": {
     "iopub.execute_input": "2025-08-19T18:32:58.555675Z",
     "iopub.status.busy": "2025-08-19T18:32:58.554330Z",
     "iopub.status.idle": "2025-08-19T18:32:58.580128Z",
     "shell.execute_reply": "2025-08-19T18:32:58.579219Z"
    },
    "papermill": {
     "duration": 0.041634,
     "end_time": "2025-08-19T18:32:58.581890",
     "exception": false,
     "start_time": "2025-08-19T18:32:58.540256",
     "status": "completed"
    },
    "tags": []
   },
   "outputs": [
    {
     "data": {
      "text/html": [
       "<div>\n",
       "<style scoped>\n",
       "    .dataframe tbody tr th:only-of-type {\n",
       "        vertical-align: middle;\n",
       "    }\n",
       "\n",
       "    .dataframe tbody tr th {\n",
       "        vertical-align: top;\n",
       "    }\n",
       "\n",
       "    .dataframe thead th {\n",
       "        text-align: right;\n",
       "    }\n",
       "</style>\n",
       "<table border=\"1\" class=\"dataframe\">\n",
       "  <thead>\n",
       "    <tr style=\"text-align: right;\">\n",
       "      <th></th>\n",
       "      <th>universe_id</th>\n",
       "      <th>universe_training_year</th>\n",
       "      <th>universe_training_size</th>\n",
       "      <th>universe_scale</th>\n",
       "      <th>universe_model</th>\n",
       "      <th>universe_exclude_features</th>\n",
       "      <th>universe_exclude_subgroups</th>\n",
       "      <th>q_hat</th>\n",
       "      <th>coverage</th>\n",
       "      <th>avg_size</th>\n",
       "      <th>cov_frau1</th>\n",
       "      <th>cov_nongerman</th>\n",
       "      <th>cov_nongerman_male</th>\n",
       "      <th>cov_nongerman_female</th>\n",
       "    </tr>\n",
       "  </thead>\n",
       "  <tbody>\n",
       "    <tr>\n",
       "      <th>0</th>\n",
       "      <td>75290d4162c67e6da61143cffb5cee39</td>\n",
       "      <td>2012_14</td>\n",
       "      <td>5k</td>\n",
       "      <td>scale</td>\n",
       "      <td>rf</td>\n",
       "      <td>nationality</td>\n",
       "      <td>keep-all</td>\n",
       "      <td>0.68</td>\n",
       "      <td>0.915283</td>\n",
       "      <td>1.148768</td>\n",
       "      <td>0.910419</td>\n",
       "      <td>0.906978</td>\n",
       "      <td>0.923804</td>\n",
       "      <td>0.879136</td>\n",
       "    </tr>\n",
       "  </tbody>\n",
       "</table>\n",
       "</div>"
      ],
      "text/plain": [
       "                        universe_id universe_training_year  \\\n",
       "0  75290d4162c67e6da61143cffb5cee39                2012_14   \n",
       "\n",
       "  universe_training_size universe_scale universe_model  \\\n",
       "0                     5k          scale             rf   \n",
       "\n",
       "  universe_exclude_features universe_exclude_subgroups  q_hat  coverage  \\\n",
       "0               nationality                   keep-all   0.68  0.915283   \n",
       "\n",
       "   avg_size  cov_frau1  cov_nongerman  cov_nongerman_male  \\\n",
       "0  1.148768   0.910419       0.906978            0.923804   \n",
       "\n",
       "   cov_nongerman_female  \n",
       "0              0.879136  "
      ]
     },
     "execution_count": 56,
     "metadata": {},
     "output_type": "execute_result"
    }
   ],
   "source": [
    "cp_metrics_df"
   ]
  },
  {
   "cell_type": "markdown",
   "id": "3fc519cc",
   "metadata": {
    "papermill": {
     "duration": 0.012819,
     "end_time": "2025-08-19T18:32:58.614811",
     "exception": false,
     "start_time": "2025-08-19T18:32:58.601992",
     "status": "completed"
    },
    "tags": []
   },
   "source": [
    "# (Fairness) Metrics"
   ]
  },
  {
   "cell_type": "code",
   "execution_count": 57,
   "id": "a2e5e155",
   "metadata": {
    "execution": {
     "iopub.execute_input": "2025-08-19T18:32:58.642464Z",
     "iopub.status.busy": "2025-08-19T18:32:58.641066Z",
     "iopub.status.idle": "2025-08-19T18:32:58.669849Z",
     "shell.execute_reply": "2025-08-19T18:32:58.668986Z"
    },
    "papermill": {
     "duration": 0.045479,
     "end_time": "2025-08-19T18:32:58.672596",
     "exception": false,
     "start_time": "2025-08-19T18:32:58.627117",
     "status": "completed"
    },
    "tags": []
   },
   "outputs": [],
   "source": [
    "colname_to_bin = \"maxdeutsch1\"\n",
    "majority_value = org_train[colname_to_bin].mode()[0]\n",
    "\n",
    "org_test[\"majmin\"] = np.where(org_test[colname_to_bin] == majority_value, \"majority\", \"minority\")"
   ]
  },
  {
   "cell_type": "code",
   "execution_count": 58,
   "id": "17e3e4d5",
   "metadata": {
    "execution": {
     "iopub.execute_input": "2025-08-19T18:32:58.732196Z",
     "iopub.status.busy": "2025-08-19T18:32:58.731712Z",
     "iopub.status.idle": "2025-08-19T18:33:00.433006Z",
     "shell.execute_reply": "2025-08-19T18:33:00.431305Z"
    },
    "papermill": {
     "duration": 1.722516,
     "end_time": "2025-08-19T18:33:00.435201",
     "exception": false,
     "start_time": "2025-08-19T18:32:58.712685",
     "status": "completed"
    },
    "tags": []
   },
   "outputs": [],
   "source": [
    "example_universe = universe.copy()\n",
    "example_universe[\"cutoff\"] = example_universe[\"cutoff\"][0]\n",
    "example_universe[\"eval_fairness_grouping\"] = example_universe[\"eval_fairness_grouping\"][0]\n",
    "fairness_dict, metric_frame = universe_analysis.compute_metrics(\n",
    "    example_universe,\n",
    "    y_pred_prob=probs_test,\n",
    "    y_test=y_true,\n",
    "    org_test=org_test,\n",
    ")"
   ]
  },
  {
   "cell_type": "markdown",
   "id": "1fb7a0e9",
   "metadata": {
    "papermill": {
     "duration": 0.012962,
     "end_time": "2025-08-19T18:33:00.461678",
     "exception": false,
     "start_time": "2025-08-19T18:33:00.448716",
     "status": "completed"
    },
    "tags": []
   },
   "source": [
    "# Overall"
   ]
  },
  {
   "cell_type": "markdown",
   "id": "be1784b1",
   "metadata": {
    "papermill": {
     "duration": 0.013289,
     "end_time": "2025-08-19T18:33:00.488138",
     "exception": false,
     "start_time": "2025-08-19T18:33:00.474849",
     "status": "completed"
    },
    "tags": []
   },
   "source": [
    "Main fairness target: Equalized Odds. Seems to be a better fit than equal opportunity, since we're not only interested in Y = 1. Seems to be a better fit than demographic parity, since we also care about accuracy, not just equal distribution of preds.\n",
    "\n",
    "Pick column for computation of fairness metrics\n",
    "\n",
    "Performance\n",
    "Overall performance measures, most interesting in relation to the measures split by group below"
   ]
  },
  {
   "cell_type": "code",
   "execution_count": 59,
   "id": "b7672bee",
   "metadata": {
    "execution": {
     "iopub.execute_input": "2025-08-19T18:33:00.520885Z",
     "iopub.status.busy": "2025-08-19T18:33:00.517945Z",
     "iopub.status.idle": "2025-08-19T18:33:00.529890Z",
     "shell.execute_reply": "2025-08-19T18:33:00.529160Z"
    },
    "papermill": {
     "duration": 0.029928,
     "end_time": "2025-08-19T18:33:00.531277",
     "exception": false,
     "start_time": "2025-08-19T18:33:00.501349",
     "status": "completed"
    },
    "tags": []
   },
   "outputs": [
    {
     "data": {
      "text/plain": [
       "accuracy                   0.199053\n",
       "balanced accuracy          0.533109\n",
       "f1                         0.239369\n",
       "precision                  0.136287\n",
       "false positive rate        0.916230\n",
       "false negative rate        0.017553\n",
       "selection rate             0.924724\n",
       "count                  89710.000000\n",
       "dtype: float64"
      ]
     },
     "execution_count": 59,
     "metadata": {},
     "output_type": "execute_result"
    }
   ],
   "source": [
    "metric_frame.overall"
   ]
  },
  {
   "cell_type": "markdown",
   "id": "d93333c9",
   "metadata": {
    "papermill": {
     "duration": 0.012583,
     "end_time": "2025-08-19T18:33:00.559188",
     "exception": false,
     "start_time": "2025-08-19T18:33:00.546605",
     "status": "completed"
    },
    "tags": []
   },
   "source": [
    "By Group"
   ]
  },
  {
   "cell_type": "code",
   "execution_count": 60,
   "id": "52256966",
   "metadata": {
    "execution": {
     "iopub.execute_input": "2025-08-19T18:33:00.585677Z",
     "iopub.status.busy": "2025-08-19T18:33:00.585273Z",
     "iopub.status.idle": "2025-08-19T18:33:00.599110Z",
     "shell.execute_reply": "2025-08-19T18:33:00.598379Z"
    },
    "papermill": {
     "duration": 0.028785,
     "end_time": "2025-08-19T18:33:00.600536",
     "exception": false,
     "start_time": "2025-08-19T18:33:00.571751",
     "status": "completed"
    },
    "tags": []
   },
   "outputs": [
    {
     "data": {
      "text/html": [
       "<div>\n",
       "<style scoped>\n",
       "    .dataframe tbody tr th:only-of-type {\n",
       "        vertical-align: middle;\n",
       "    }\n",
       "\n",
       "    .dataframe tbody tr th {\n",
       "        vertical-align: top;\n",
       "    }\n",
       "\n",
       "    .dataframe thead th {\n",
       "        text-align: right;\n",
       "    }\n",
       "</style>\n",
       "<table border=\"1\" class=\"dataframe\">\n",
       "  <thead>\n",
       "    <tr style=\"text-align: right;\">\n",
       "      <th></th>\n",
       "      <th>accuracy</th>\n",
       "      <th>balanced accuracy</th>\n",
       "      <th>f1</th>\n",
       "      <th>precision</th>\n",
       "      <th>false positive rate</th>\n",
       "      <th>false negative rate</th>\n",
       "      <th>selection rate</th>\n",
       "      <th>count</th>\n",
       "    </tr>\n",
       "    <tr>\n",
       "      <th>majmin</th>\n",
       "      <th></th>\n",
       "      <th></th>\n",
       "      <th></th>\n",
       "      <th></th>\n",
       "      <th></th>\n",
       "      <th></th>\n",
       "      <th></th>\n",
       "      <th></th>\n",
       "    </tr>\n",
       "  </thead>\n",
       "  <tbody>\n",
       "    <tr>\n",
       "      <th>majority</th>\n",
       "      <td>0.199653</td>\n",
       "      <td>0.534863</td>\n",
       "      <td>0.246454</td>\n",
       "      <td>0.140736</td>\n",
       "      <td>0.920756</td>\n",
       "      <td>0.009519</td>\n",
       "      <td>0.929970</td>\n",
       "      <td>69170.0</td>\n",
       "    </tr>\n",
       "    <tr>\n",
       "      <th>minority</th>\n",
       "      <td>0.197030</td>\n",
       "      <td>0.525080</td>\n",
       "      <td>0.214582</td>\n",
       "      <td>0.120927</td>\n",
       "      <td>0.901277</td>\n",
       "      <td>0.048564</td>\n",
       "      <td>0.907059</td>\n",
       "      <td>20540.0</td>\n",
       "    </tr>\n",
       "  </tbody>\n",
       "</table>\n",
       "</div>"
      ],
      "text/plain": [
       "          accuracy  balanced accuracy        f1  precision  \\\n",
       "majmin                                                       \n",
       "majority  0.199653           0.534863  0.246454   0.140736   \n",
       "minority  0.197030           0.525080  0.214582   0.120927   \n",
       "\n",
       "          false positive rate  false negative rate  selection rate    count  \n",
       "majmin                                                                       \n",
       "majority             0.920756             0.009519        0.929970  69170.0  \n",
       "minority             0.901277             0.048564        0.907059  20540.0  "
      ]
     },
     "execution_count": 60,
     "metadata": {},
     "output_type": "execute_result"
    }
   ],
   "source": [
    "metric_frame.by_group"
   ]
  },
  {
   "cell_type": "code",
   "execution_count": 61,
   "id": "6e6c20ae",
   "metadata": {
    "execution": {
     "iopub.execute_input": "2025-08-19T18:33:00.631364Z",
     "iopub.status.busy": "2025-08-19T18:33:00.630980Z",
     "iopub.status.idle": "2025-08-19T18:33:02.584741Z",
     "shell.execute_reply": "2025-08-19T18:33:02.583838Z"
    },
    "papermill": {
     "duration": 1.969756,
     "end_time": "2025-08-19T18:33:02.586023",
     "exception": false,
     "start_time": "2025-08-19T18:33:00.616267",
     "status": "completed"
    },
    "tags": []
   },
   "outputs": [
    {
     "data": {
      "text/plain": [
       "array([[<Axes: title={'center': 'accuracy'}, xlabel='majmin'>,\n",
       "        <Axes: title={'center': 'balanced accuracy'}, xlabel='majmin'>,\n",
       "        <Axes: title={'center': 'f1'}, xlabel='majmin'>],\n",
       "       [<Axes: title={'center': 'precision'}, xlabel='majmin'>,\n",
       "        <Axes: title={'center': 'false positive rate'}, xlabel='majmin'>,\n",
       "        <Axes: title={'center': 'false negative rate'}, xlabel='majmin'>],\n",
       "       [<Axes: title={'center': 'selection rate'}, xlabel='majmin'>,\n",
       "        <Axes: title={'center': 'count'}, xlabel='majmin'>,\n",
       "        <Axes: xlabel='majmin'>]], dtype=object)"
      ]
     },
     "execution_count": 61,
     "metadata": {},
     "output_type": "execute_result"
    },
    {
     "data": {
      "image/png": "[encoded data removed]",
      "text/plain": [
       "<Figure size 1200x800 with 9 Axes>"
      ]
     },
     "metadata": {},
     "output_type": "display_data"
    }
   ],
   "source": [
    "# In a graphic\n",
    "metric_frame.by_group.plot.bar(\n",
    "    subplots=True,\n",
    "    layout=[3, 3],\n",
    "    legend=False,\n",
    "    figsize=[12, 8],\n",
    "    title=\"Show all metrics\",\n",
    ")"
   ]
  },
  {
   "cell_type": "markdown",
   "id": "b2e433ae",
   "metadata": {
    "papermill": {
     "duration": 0.013807,
     "end_time": "2025-08-19T18:33:02.617359",
     "exception": false,
     "start_time": "2025-08-19T18:33:02.603552",
     "status": "completed"
    },
    "tags": []
   },
   "source": [
    "# Final Output"
   ]
  },
  {
   "cell_type": "code",
   "execution_count": 62,
   "id": "3871301e",
   "metadata": {
    "execution": {
     "iopub.execute_input": "2025-08-19T18:33:02.649751Z",
     "iopub.status.busy": "2025-08-19T18:33:02.647509Z",
     "iopub.status.idle": "2025-08-19T18:33:02.666671Z",
     "shell.execute_reply": "2025-08-19T18:33:02.665515Z"
    },
    "papermill": {
     "duration": 0.03752,
     "end_time": "2025-08-19T18:33:02.668745",
     "exception": false,
     "start_time": "2025-08-19T18:33:02.631225",
     "status": "completed"
    },
    "tags": []
   },
   "outputs": [
    {
     "data": {
      "text/plain": [
       "4"
      ]
     },
     "execution_count": 62,
     "metadata": {},
     "output_type": "execute_result"
    }
   ],
   "source": [
    "sub_universes = universe_analysis.generate_sub_universes()\n",
    "len(sub_universes)"
   ]
  },
  {
   "cell_type": "code",
   "execution_count": 63,
   "id": "d9cfdaca",
   "metadata": {
    "execution": {
     "iopub.execute_input": "2025-08-19T18:33:02.724040Z",
     "iopub.status.busy": "2025-08-19T18:33:02.723709Z",
     "iopub.status.idle": "2025-08-19T18:33:02.729707Z",
     "shell.execute_reply": "2025-08-19T18:33:02.728591Z"
    },
    "papermill": {
     "duration": 0.035212,
     "end_time": "2025-08-19T18:33:02.731331",
     "exception": false,
     "start_time": "2025-08-19T18:33:02.696119",
     "status": "completed"
    },
    "tags": []
   },
   "outputs": [],
   "source": [
    "def filter_sub_universe_data(sub_universe, org_test):\n",
    "    # Keep all rows — no filtering\n",
    "    keep_rows_mask = np.ones(org_test.shape[0], dtype=bool)\n",
    "\n",
    "    print(f\"[INFO] Keeping all rows: {keep_rows_mask.sum()} rows retained.\")\n",
    "    return keep_rows_mask"
   ]
  },
  {
   "cell_type": "code",
   "execution_count": 64,
   "id": "2bc31ac1",
   "metadata": {
    "execution": {
     "iopub.execute_input": "2025-08-19T18:33:02.762340Z",
     "iopub.status.busy": "2025-08-19T18:33:02.762051Z",
     "iopub.status.idle": "2025-08-19T18:33:09.466739Z",
     "shell.execute_reply": "2025-08-19T18:33:09.465706Z"
    },
    "papermill": {
     "duration": 6.721375,
     "end_time": "2025-08-19T18:33:09.468270",
     "exception": false,
     "start_time": "2025-08-19T18:33:02.746895",
     "status": "completed"
    },
    "tags": []
   },
   "outputs": [
    {
     "name": "stdout",
     "output_type": "stream",
     "text": [
      "Stopping execution_time clock.\n",
      "[INFO] Keeping all rows: 89710 rows retained.\n"
     ]
    },
    {
     "name": "stdout",
     "output_type": "stream",
     "text": [
      "[INFO] Keeping all rows: 89710 rows retained.\n"
     ]
    },
    {
     "name": "stdout",
     "output_type": "stream",
     "text": [
      "[INFO] Keeping all rows: 89710 rows retained.\n"
     ]
    },
    {
     "name": "stdout",
     "output_type": "stream",
     "text": [
      "[INFO] Keeping all rows: 89710 rows retained.\n"
     ]
    },
    {
     "data": {
      "text/html": [
       "<div>\n",
       "<style scoped>\n",
       "    .dataframe tbody tr th:only-of-type {\n",
       "        vertical-align: middle;\n",
       "    }\n",
       "\n",
       "    .dataframe tbody tr th {\n",
       "        vertical-align: top;\n",
       "    }\n",
       "\n",
       "    .dataframe thead th {\n",
       "        text-align: right;\n",
       "    }\n",
       "</style>\n",
       "<table border=\"1\" class=\"dataframe\">\n",
       "  <thead>\n",
       "    <tr style=\"text-align: right;\">\n",
       "      <th></th>\n",
       "      <th>run_no</th>\n",
       "      <th>universe_id</th>\n",
       "      <th>universe_settings</th>\n",
       "      <th>execution_time</th>\n",
       "      <th>test_size_n</th>\n",
       "      <th>test_size_frac</th>\n",
       "      <th>fair_main_equalized_odds_difference</th>\n",
       "      <th>fair_main_equalized_odds_ratio</th>\n",
       "      <th>fair_main_demographic_parity_difference</th>\n",
       "      <th>fair_main_demographic_parity_ratio</th>\n",
       "      <th>...</th>\n",
       "      <th>perf_grp_precision_0</th>\n",
       "      <th>perf_grp_precision_1</th>\n",
       "      <th>perf_grp_false positive rate_0</th>\n",
       "      <th>perf_grp_false positive rate_1</th>\n",
       "      <th>perf_grp_false negative rate_0</th>\n",
       "      <th>perf_grp_false negative rate_1</th>\n",
       "      <th>perf_grp_selection rate_0</th>\n",
       "      <th>perf_grp_selection rate_1</th>\n",
       "      <th>perf_grp_count_0</th>\n",
       "      <th>perf_grp_count_1</th>\n",
       "    </tr>\n",
       "  </thead>\n",
       "  <tbody>\n",
       "    <tr>\n",
       "      <th>0</th>\n",
       "      <td>3</td>\n",
       "      <td>75290d4162c67e6da61143cffb5cee39</td>\n",
       "      <td>{\"cutoff\": \"quantile_0.1\", \"eval_fairness_grou...</td>\n",
       "      <td>30.331879</td>\n",
       "      <td>89710</td>\n",
       "      <td>1.0</td>\n",
       "      <td>0.039046</td>\n",
       "      <td>0.960579</td>\n",
       "      <td>0.022910</td>\n",
       "      <td>0.975365</td>\n",
       "      <td>...</td>\n",
       "      <td>NaN</td>\n",
       "      <td>NaN</td>\n",
       "      <td>NaN</td>\n",
       "      <td>NaN</td>\n",
       "      <td>NaN</td>\n",
       "      <td>NaN</td>\n",
       "      <td>NaN</td>\n",
       "      <td>NaN</td>\n",
       "      <td>NaN</td>\n",
       "      <td>NaN</td>\n",
       "    </tr>\n",
       "    <tr>\n",
       "      <th>0</th>\n",
       "      <td>3</td>\n",
       "      <td>75290d4162c67e6da61143cffb5cee39</td>\n",
       "      <td>{\"cutoff\": \"quantile_0.1\", \"eval_fairness_grou...</td>\n",
       "      <td>30.331879</td>\n",
       "      <td>89710</td>\n",
       "      <td>1.0</td>\n",
       "      <td>0.039046</td>\n",
       "      <td>0.960579</td>\n",
       "      <td>0.022910</td>\n",
       "      <td>0.975365</td>\n",
       "      <td>...</td>\n",
       "      <td>0.120927</td>\n",
       "      <td>0.140736</td>\n",
       "      <td>0.901277</td>\n",
       "      <td>0.920756</td>\n",
       "      <td>0.048564</td>\n",
       "      <td>0.009519</td>\n",
       "      <td>0.907059</td>\n",
       "      <td>0.929970</td>\n",
       "      <td>20540.0</td>\n",
       "      <td>69170.0</td>\n",
       "    </tr>\n",
       "    <tr>\n",
       "      <th>0</th>\n",
       "      <td>3</td>\n",
       "      <td>75290d4162c67e6da61143cffb5cee39</td>\n",
       "      <td>{\"cutoff\": \"quantile_0.25\", \"eval_fairness_gro...</td>\n",
       "      <td>30.331879</td>\n",
       "      <td>89710</td>\n",
       "      <td>1.0</td>\n",
       "      <td>0.090205</td>\n",
       "      <td>0.904751</td>\n",
       "      <td>0.050825</td>\n",
       "      <td>0.934069</td>\n",
       "      <td>...</td>\n",
       "      <td>NaN</td>\n",
       "      <td>NaN</td>\n",
       "      <td>NaN</td>\n",
       "      <td>NaN</td>\n",
       "      <td>NaN</td>\n",
       "      <td>NaN</td>\n",
       "      <td>NaN</td>\n",
       "      <td>NaN</td>\n",
       "      <td>NaN</td>\n",
       "      <td>NaN</td>\n",
       "    </tr>\n",
       "    <tr>\n",
       "      <th>0</th>\n",
       "      <td>3</td>\n",
       "      <td>75290d4162c67e6da61143cffb5cee39</td>\n",
       "      <td>{\"cutoff\": \"quantile_0.25\", \"eval_fairness_gro...</td>\n",
       "      <td>30.331879</td>\n",
       "      <td>89710</td>\n",
       "      <td>1.0</td>\n",
       "      <td>0.090205</td>\n",
       "      <td>0.904751</td>\n",
       "      <td>0.050825</td>\n",
       "      <td>0.934069</td>\n",
       "      <td>...</td>\n",
       "      <td>0.137187</td>\n",
       "      <td>0.162334</td>\n",
       "      <td>0.702234</td>\n",
       "      <td>0.744061</td>\n",
       "      <td>0.143159</td>\n",
       "      <td>0.052954</td>\n",
       "      <td>0.720058</td>\n",
       "      <td>0.770883</td>\n",
       "      <td>20540.0</td>\n",
       "      <td>69170.0</td>\n",
       "    </tr>\n",
       "  </tbody>\n",
       "</table>\n",
       "<p>4 rows × 50 columns</p>\n",
       "</div>"
      ],
      "text/plain": [
       "  run_no                       universe_id  \\\n",
       "0      3  75290d4162c67e6da61143cffb5cee39   \n",
       "0      3  75290d4162c67e6da61143cffb5cee39   \n",
       "0      3  75290d4162c67e6da61143cffb5cee39   \n",
       "0      3  75290d4162c67e6da61143cffb5cee39   \n",
       "\n",
       "                                   universe_settings  execution_time  \\\n",
       "0  {\"cutoff\": \"quantile_0.1\", \"eval_fairness_grou...       30.331879   \n",
       "0  {\"cutoff\": \"quantile_0.1\", \"eval_fairness_grou...       30.331879   \n",
       "0  {\"cutoff\": \"quantile_0.25\", \"eval_fairness_gro...       30.331879   \n",
       "0  {\"cutoff\": \"quantile_0.25\", \"eval_fairness_gro...       30.331879   \n",
       "\n",
       "   test_size_n  test_size_frac  fair_main_equalized_odds_difference  \\\n",
       "0        89710             1.0                             0.039046   \n",
       "0        89710             1.0                             0.039046   \n",
       "0        89710             1.0                             0.090205   \n",
       "0        89710             1.0                             0.090205   \n",
       "\n",
       "   fair_main_equalized_odds_ratio  fair_main_demographic_parity_difference  \\\n",
       "0                        0.960579                                 0.022910   \n",
       "0                        0.960579                                 0.022910   \n",
       "0                        0.904751                                 0.050825   \n",
       "0                        0.904751                                 0.050825   \n",
       "\n",
       "   fair_main_demographic_parity_ratio  ...  perf_grp_precision_0  \\\n",
       "0                            0.975365  ...                   NaN   \n",
       "0                            0.975365  ...              0.120927   \n",
       "0                            0.934069  ...                   NaN   \n",
       "0                            0.934069  ...              0.137187   \n",
       "\n",
       "   perf_grp_precision_1  perf_grp_false positive rate_0  \\\n",
       "0                   NaN                             NaN   \n",
       "0              0.140736                        0.901277   \n",
       "0                   NaN                             NaN   \n",
       "0              0.162334                        0.702234   \n",
       "\n",
       "   perf_grp_false positive rate_1  perf_grp_false negative rate_0  \\\n",
       "0                             NaN                             NaN   \n",
       "0                        0.920756                        0.048564   \n",
       "0                             NaN                             NaN   \n",
       "0                        0.744061                        0.143159   \n",
       "\n",
       "   perf_grp_false negative rate_1  perf_grp_selection rate_0  \\\n",
       "0                             NaN                        NaN   \n",
       "0                        0.009519                   0.907059   \n",
       "0                             NaN                        NaN   \n",
       "0                        0.052954                   0.720058   \n",
       "\n",
       "   perf_grp_selection rate_1  perf_grp_count_0  perf_grp_count_1  \n",
       "0                        NaN               NaN               NaN  \n",
       "0                   0.929970           20540.0           69170.0  \n",
       "0                        NaN               NaN               NaN  \n",
       "0                   0.770883           20540.0           69170.0  \n",
       "\n",
       "[4 rows x 50 columns]"
      ]
     },
     "execution_count": 64,
     "metadata": {},
     "output_type": "execute_result"
    }
   ],
   "source": [
    "final_output = universe_analysis.generate_final_output(\n",
    "    y_pred_prob=probs_test,\n",
    "    y_test=y_true,\n",
    "    org_test=org_test,\n",
    "    filter_data=filter_sub_universe_data,\n",
    "    cp_metrics_df=cp_metrics_df,\n",
    "    save=True,\n",
    ")\n",
    "final_output"
   ]
  },
  {
   "cell_type": "code",
   "execution_count": null,
   "id": "8b80a1ff",
   "metadata": {
    "papermill": {
     "duration": 0.018324,
     "end_time": "2025-08-19T18:33:09.504371",
     "exception": false,
     "start_time": "2025-08-19T18:33:09.486047",
     "status": "completed"
    },
    "tags": []
   },
   "outputs": [],
   "source": []
  },
  {
   "cell_type": "code",
   "execution_count": null,
   "id": "275c9fad",
   "metadata": {
    "papermill": {
     "duration": 0.01501,
     "end_time": "2025-08-19T18:33:09.536086",
     "exception": false,
     "start_time": "2025-08-19T18:33:09.521076",
     "status": "completed"
    },
    "tags": []
   },
   "outputs": [],
   "source": []
  }
 ],
 "metadata": {
  "celltoolbar": "Tags",
  "kernelspec": {
   "display_name": "Python (CMA Fairness)",
   "language": "python",
   "name": "cma_fair_env"
  },
  "language_info": {
   "codemirror_mode": {
    "name": "ipython",
    "version": 3
   },
   "file_extension": ".py",
   "mimetype": "text/x-python",
   "name": "python",
   "nbconvert_exporter": "python",
   "pygments_lexer": "ipython3",
   "version": "3.10.12"
  },
  "papermill": {
   "default_parameters": {},
   "duration": 41.101885,
   "end_time": "2025-08-19T18:33:10.379513",
   "environment_variables": {},
   "exception": null,
   "input_path": "universe_analysis.ipynb",
   "output_path": "output/runs/3/notebooks/m_3-75290d4162c67e6da61143cffb5cee39.ipynb",
   "parameters": {
    "output_dir": "output",
    "run_no": "3",
    "seed": "2023",
    "universe": "{\"cutoff\": [\"quantile_0.1\", \"quantile_0.25\"], \"eval_fairness_grouping\": [\"majority-minority\", \"nationality-all\"], \"exclude_features\": \"nationality\", \"exclude_subgroups\": \"keep-all\", \"model\": \"rf\", \"scale\": \"scale\", \"training_size\": \"5k\", \"training_year\": \"2012_14\"}",
    "universe_id": "75290d4162c67e6da61143cffb5cee39"
   },
   "start_time": "2025-08-19T18:32:29.277628",
   "version": "2.6.0"
  }
 },
 "nbformat": 4,
 "nbformat_minor": 5
}