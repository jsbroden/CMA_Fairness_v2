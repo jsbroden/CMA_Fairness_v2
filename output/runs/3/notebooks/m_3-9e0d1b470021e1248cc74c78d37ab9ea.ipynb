{
 "cells": [
  {
   "cell_type": "markdown",
   "id": "ef23dbb3",
   "metadata": {
    "papermill": {
     "duration": 0.023049,
     "end_time": "2025-08-19T18:41:55.969490",
     "exception": false,
     "start_time": "2025-08-19T18:41:55.946441",
     "status": "completed"
    },
    "tags": []
   },
   "source": [
    "# Setup"
   ]
  },
  {
   "cell_type": "code",
   "execution_count": 1,
   "id": "0bc8e7dc",
   "metadata": {
    "execution": {
     "iopub.execute_input": "2025-08-19T18:41:55.991008Z",
     "iopub.status.busy": "2025-08-19T18:41:55.990684Z",
     "iopub.status.idle": "2025-08-19T18:41:56.002668Z",
     "shell.execute_reply": "2025-08-19T18:41:56.001856Z"
    },
    "papermill": {
     "duration": 0.0292,
     "end_time": "2025-08-19T18:41:56.010298",
     "exception": false,
     "start_time": "2025-08-19T18:41:55.981098",
     "status": "completed"
    },
    "tags": []
   },
   "outputs": [
    {
     "name": "stdout",
     "output_type": "stream",
     "text": [
      "/dss/dsshome1/0C/ra93lal2/cma/CMA_Fairness_v2\n"
     ]
    },
    {
     "name": "stderr",
     "output_type": "stream",
     "text": [
      "/dss/dsshome1/0C/ra93lal2/.local/share/virtualenvs/CMA_Fairness_v2-3j10GkSs/lib/python3.10/site-packages/IPython/core/magics/osm.py:393: UserWarning: This is now an optional IPython functionality, using bookmarks requires you to install the `pickleshare` library.\n",
      "  bkms = self.shell.db.get('bookmarks', {})\n",
      "/dss/dsshome1/0C/ra93lal2/.local/share/virtualenvs/CMA_Fairness_v2-3j10GkSs/lib/python3.10/site-packages/IPython/core/magics/osm.py:417: UserWarning: This is now an optional IPython functionality, setting dhist requires you to install the `pickleshare` library.\n",
      "  self.shell.db['dhist'] = compress_dhist(dhist)[-100:]\n"
     ]
    }
   ],
   "source": [
    "%cd ~/cma/CMA_Fairness_v2"
   ]
  },
  {
   "cell_type": "markdown",
   "id": "9d235661",
   "metadata": {
    "papermill": {
     "duration": 0.009914,
     "end_time": "2025-08-19T18:41:56.035388",
     "exception": false,
     "start_time": "2025-08-19T18:41:56.025474",
     "status": "completed"
    },
    "tags": []
   },
   "source": [
    "The following cell holds the definition of our parameters, these values can be overriden by rendering the with e.g. the following command:\n",
    "\n",
    "papermill -p alpha 0.2 -p ratio 0.3 universe_analysis.ipynb output/test_run.ipynb"
   ]
  },
  {
   "cell_type": "code",
   "execution_count": 2,
   "id": "4a789d8e",
   "metadata": {
    "execution": {
     "iopub.execute_input": "2025-08-19T18:41:56.067576Z",
     "iopub.status.busy": "2025-08-19T18:41:56.066491Z",
     "iopub.status.idle": "2025-08-19T18:41:56.073398Z",
     "shell.execute_reply": "2025-08-19T18:41:56.072365Z"
    },
    "papermill": {
     "duration": 0.032492,
     "end_time": "2025-08-19T18:41:56.076735",
     "exception": false,
     "start_time": "2025-08-19T18:41:56.044243",
     "status": "completed"
    },
    "tags": []
   },
   "outputs": [
    {
     "name": "stdout",
     "output_type": "stream",
     "text": [
      "Current working directory: /dss/dsshome1/0C/ra93lal2/cma/CMA_Fairness_v2\n"
     ]
    }
   ],
   "source": [
    "import os\n",
    "print(\"Current working directory:\", os.getcwd())"
   ]
  },
  {
   "cell_type": "code",
   "execution_count": 3,
   "id": "4132aaed",
   "metadata": {
    "execution": {
     "iopub.execute_input": "2025-08-19T18:41:56.099588Z",
     "iopub.status.busy": "2025-08-19T18:41:56.099236Z",
     "iopub.status.idle": "2025-08-19T18:41:56.103528Z",
     "shell.execute_reply": "2025-08-19T18:41:56.102874Z"
    },
    "papermill": {
     "duration": 0.015839,
     "end_time": "2025-08-19T18:41:56.105394",
     "exception": false,
     "start_time": "2025-08-19T18:41:56.089555",
     "status": "completed"
    },
    "tags": [
     "parameters"
    ]
   },
   "outputs": [],
   "source": [
    "run_no = 0\n",
    "universe_id = \"test\"\n",
    "universe = {\n",
    "    \"training_size\": \"5k\", # \"25k\", \"5k\", \"1k\"\n",
    "    \"training_year\": \"2012_14\", # \"2014\", \"2012_14\", \"2010_14\"\n",
    "    \"scale\": \"scale\", # \"scale\", \"do-not-scale\",\n",
    "    \"model\": \"elasticnet\", # \"logreg\", \"penalized_logreg\", \"rf\", \"gbm\", \"elasticnet\"\n",
    "    \"cutoff\": [\"quantile_0.15\", \"quantile_0.30\"],\n",
    "    \"exclude_features\": \"age\", # \"none\", \"nationality\", \"sex\", \"nationality-sex\", \"age\"\n",
    "    \"exclude_subgroups\": \"drop-non-german\", # \"keep-all\", \"drop-non-german\"\n",
    "    \"eval_fairness_grouping\": [\"majority-minority\", \"nationality-all\"]\n",
    "}\n",
    "\n",
    "output_dir=\"./output\"\n",
    "seed=0"
   ]
  },
  {
   "cell_type": "code",
   "execution_count": 4,
   "id": "29f3015e",
   "metadata": {
    "execution": {
     "iopub.execute_input": "2025-08-19T18:41:56.140687Z",
     "iopub.status.busy": "2025-08-19T18:41:56.139859Z",
     "iopub.status.idle": "2025-08-19T18:41:56.147033Z",
     "shell.execute_reply": "2025-08-19T18:41:56.145774Z"
    },
    "papermill": {
     "duration": 0.019792,
     "end_time": "2025-08-19T18:41:56.148651",
     "exception": false,
     "start_time": "2025-08-19T18:41:56.128859",
     "status": "completed"
    },
    "tags": [
     "injected-parameters"
    ]
   },
   "outputs": [],
   "source": [
    "# Parameters\n",
    "universe_id = \"9e0d1b470021e1248cc74c78d37ab9ea\"\n",
    "run_no = \"3\"\n",
    "universe = \"{\\\"cutoff\\\": [\\\"quantile_0.1\\\", \\\"quantile_0.25\\\"], \\\"eval_fairness_grouping\\\": [\\\"majority-minority\\\", \\\"nationality-all\\\"], \\\"exclude_features\\\": \\\"nationality\\\", \\\"exclude_subgroups\\\": \\\"drop-non-german\\\", \\\"model\\\": \\\"rf\\\", \\\"scale\\\": \\\"scale\\\", \\\"training_size\\\": \\\"5k\\\", \\\"training_year\\\": \\\"2010_14\\\"}\"\n",
    "output_dir = \"output\"\n",
    "seed = \"2023\"\n"
   ]
  },
  {
   "cell_type": "code",
   "execution_count": 5,
   "id": "a5d7941f",
   "metadata": {
    "execution": {
     "iopub.execute_input": "2025-08-19T18:41:56.172116Z",
     "iopub.status.busy": "2025-08-19T18:41:56.171363Z",
     "iopub.status.idle": "2025-08-19T18:41:56.176886Z",
     "shell.execute_reply": "2025-08-19T18:41:56.175876Z"
    },
    "papermill": {
     "duration": 0.017825,
     "end_time": "2025-08-19T18:41:56.178374",
     "exception": false,
     "start_time": "2025-08-19T18:41:56.160549",
     "status": "completed"
    },
    "tags": []
   },
   "outputs": [],
   "source": [
    "import json\n",
    "if isinstance(universe, str):\n",
    "    universe = json.loads(universe)"
   ]
  },
  {
   "cell_type": "code",
   "execution_count": 6,
   "id": "7076ccb1",
   "metadata": {
    "execution": {
     "iopub.execute_input": "2025-08-19T18:41:56.200348Z",
     "iopub.status.busy": "2025-08-19T18:41:56.200068Z",
     "iopub.status.idle": "2025-08-19T18:41:56.248226Z",
     "shell.execute_reply": "2025-08-19T18:41:56.247231Z"
    },
    "papermill": {
     "duration": 0.060344,
     "end_time": "2025-08-19T18:41:56.250131",
     "exception": false,
     "start_time": "2025-08-19T18:41:56.189787",
     "status": "completed"
    },
    "tags": []
   },
   "outputs": [],
   "source": [
    "# Auto-reload the custom package\n",
    "%load_ext autoreload\n",
    "%autoreload 1\n",
    "%aimport fairness_multiverse"
   ]
  },
  {
   "cell_type": "code",
   "execution_count": 7,
   "id": "94c8eb93",
   "metadata": {
    "execution": {
     "iopub.execute_input": "2025-08-19T18:41:56.269493Z",
     "iopub.status.busy": "2025-08-19T18:41:56.269213Z",
     "iopub.status.idle": "2025-08-19T18:41:57.850374Z",
     "shell.execute_reply": "2025-08-19T18:41:57.849650Z"
    },
    "papermill": {
     "duration": 1.592338,
     "end_time": "2025-08-19T18:41:57.851765",
     "exception": false,
     "start_time": "2025-08-19T18:41:56.259427",
     "status": "completed"
    },
    "tags": []
   },
   "outputs": [],
   "source": [
    "from fairness_multiverse.universe import UniverseAnalysis\n",
    "\n",
    "universe_analysis = UniverseAnalysis(\n",
    "    run_no = run_no,\n",
    "    universe_id = universe_id,\n",
    "    universe = universe,\n",
    "    output_dir=output_dir,\n",
    ")"
   ]
  },
  {
   "cell_type": "code",
   "execution_count": 8,
   "id": "2a6381cf",
   "metadata": {
    "execution": {
     "iopub.execute_input": "2025-08-19T18:41:57.871979Z",
     "iopub.status.busy": "2025-08-19T18:41:57.871509Z",
     "iopub.status.idle": "2025-08-19T18:41:57.876244Z",
     "shell.execute_reply": "2025-08-19T18:41:57.875653Z"
    },
    "papermill": {
     "duration": 0.016886,
     "end_time": "2025-08-19T18:41:57.878144",
     "exception": false,
     "start_time": "2025-08-19T18:41:57.861258",
     "status": "completed"
    },
    "tags": []
   },
   "outputs": [
    {
     "name": "stdout",
     "output_type": "stream",
     "text": [
      "Using Seed: 2023\n"
     ]
    }
   ],
   "source": [
    "import numpy as np\n",
    "parsed_seed = int(seed)\n",
    "np.random.seed(parsed_seed)\n",
    "print(f\"Using Seed: {parsed_seed}\")"
   ]
  },
  {
   "cell_type": "markdown",
   "id": "b6e958b4",
   "metadata": {
    "papermill": {
     "duration": 0.00897,
     "end_time": "2025-08-19T18:41:57.897420",
     "exception": false,
     "start_time": "2025-08-19T18:41:57.888450",
     "status": "completed"
    },
    "tags": []
   },
   "source": [
    "# Loading Data"
   ]
  },
  {
   "cell_type": "code",
   "execution_count": 9,
   "id": "98701482",
   "metadata": {
    "execution": {
     "iopub.execute_input": "2025-08-19T18:41:57.917894Z",
     "iopub.status.busy": "2025-08-19T18:41:57.917597Z",
     "iopub.status.idle": "2025-08-19T18:42:07.948513Z",
     "shell.execute_reply": "2025-08-19T18:42:07.947556Z"
    },
    "papermill": {
     "duration": 10.044414,
     "end_time": "2025-08-19T18:42:07.950830",
     "exception": false,
     "start_time": "2025-08-19T18:41:57.906416",
     "status": "completed"
    },
    "tags": []
   },
   "outputs": [
    {
     "name": "stdout",
     "output_type": "stream",
     "text": [
      "Loading SIAB data from cache: data/siab_cached.csv.gz\n"
     ]
    },
    {
     "name": "stdout",
     "output_type": "stream",
     "text": [
      "(643690, 164)\n"
     ]
    }
   ],
   "source": [
    "from pathlib import Path\n",
    "import pandas as pd\n",
    "\n",
    "# File paths\n",
    "raw_file = Path(\"data/raw/siab.csv\")\n",
    "cache_file = Path(\"data/siab_cached.csv.gz\")\n",
    "\n",
    "# Ensure cache directory exists\n",
    "cache_file.parent.mkdir(parents=True, exist_ok=True)\n",
    "\n",
    "# Load with simple caching\n",
    "if cache_file.exists():\n",
    "    print(f\"Loading SIAB data from cache: {cache_file}\")\n",
    "    siab = pd.read_csv(cache_file, compression='gzip')\n",
    "else:\n",
    "    print(f\"Cache not found. Reading raw SIAB data: {raw_file}\")\n",
    "    siab = pd.read_csv(raw_file)\n",
    "    siab.to_csv(cache_file, index=False, compression='gzip')\n",
    "    print(f\"Cached SIAB data to: {cache_file}\")\n",
    "\n",
    "print(siab.shape)"
   ]
  },
  {
   "cell_type": "code",
   "execution_count": 10,
   "id": "058d2abb",
   "metadata": {
    "execution": {
     "iopub.execute_input": "2025-08-19T18:42:07.991690Z",
     "iopub.status.busy": "2025-08-19T18:42:07.990614Z",
     "iopub.status.idle": "2025-08-19T18:42:08.217403Z",
     "shell.execute_reply": "2025-08-19T18:42:08.215882Z"
    },
    "papermill": {
     "duration": 0.243997,
     "end_time": "2025-08-19T18:42:08.219158",
     "exception": false,
     "start_time": "2025-08-19T18:42:07.975161",
     "status": "completed"
    },
    "tags": []
   },
   "outputs": [
    {
     "data": {
      "text/html": [
       "<div>\n",
       "<style scoped>\n",
       "    .dataframe tbody tr th:only-of-type {\n",
       "        vertical-align: middle;\n",
       "    }\n",
       "\n",
       "    .dataframe tbody tr th {\n",
       "        vertical-align: top;\n",
       "    }\n",
       "\n",
       "    .dataframe thead th {\n",
       "        text-align: right;\n",
       "    }\n",
       "</style>\n",
       "<table border=\"1\" class=\"dataframe\">\n",
       "  <thead>\n",
       "    <tr style=\"text-align: right;\">\n",
       "      <th></th>\n",
       "      <th>persnr</th>\n",
       "      <th>year</th>\n",
       "      <th>nrEntry</th>\n",
       "      <th>ltue</th>\n",
       "      <th>employed_before</th>\n",
       "      <th>receipt_leh_before</th>\n",
       "      <th>receipt_lhg_before</th>\n",
       "      <th>se_before</th>\n",
       "      <th>ASU_notue_seeking_before</th>\n",
       "      <th>ASU_other_before</th>\n",
       "      <th>...</th>\n",
       "      <th>minijob_tot_dur_byage</th>\n",
       "      <th>ft_tot_dur_byage</th>\n",
       "      <th>befrist_tot_dur_byage</th>\n",
       "      <th>leih_tot_dur_byage</th>\n",
       "      <th>LHG_tot_dur_byage</th>\n",
       "      <th>LEH_tot_dur_byage</th>\n",
       "      <th>almp_tot_dur_byage</th>\n",
       "      <th>almp_aw_tot_dur_byage</th>\n",
       "      <th>se_tot_dur_byage</th>\n",
       "      <th>seeking1_tot_dur_byage</th>\n",
       "    </tr>\n",
       "  </thead>\n",
       "  <tbody>\n",
       "    <tr>\n",
       "      <th>0</th>\n",
       "      <td>7</td>\n",
       "      <td>2015</td>\n",
       "      <td>1</td>\n",
       "      <td>0</td>\n",
       "      <td>1</td>\n",
       "      <td>0</td>\n",
       "      <td>0</td>\n",
       "      <td>0</td>\n",
       "      <td>1</td>\n",
       "      <td>0</td>\n",
       "      <td>...</td>\n",
       "      <td>0.000000</td>\n",
       "      <td>0.000000</td>\n",
       "      <td>15.043478</td>\n",
       "      <td>0.000000</td>\n",
       "      <td>0.000000</td>\n",
       "      <td>0.000000</td>\n",
       "      <td>0.000000</td>\n",
       "      <td>0.000000</td>\n",
       "      <td>0.000000</td>\n",
       "      <td>0.000000</td>\n",
       "    </tr>\n",
       "    <tr>\n",
       "      <th>1</th>\n",
       "      <td>18</td>\n",
       "      <td>2010</td>\n",
       "      <td>1</td>\n",
       "      <td>1</td>\n",
       "      <td>0</td>\n",
       "      <td>0</td>\n",
       "      <td>0</td>\n",
       "      <td>0</td>\n",
       "      <td>0</td>\n",
       "      <td>0</td>\n",
       "      <td>...</td>\n",
       "      <td>0.000000</td>\n",
       "      <td>0.000000</td>\n",
       "      <td>0.000000</td>\n",
       "      <td>0.000000</td>\n",
       "      <td>0.000000</td>\n",
       "      <td>0.000000</td>\n",
       "      <td>0.000000</td>\n",
       "      <td>0.000000</td>\n",
       "      <td>0.000000</td>\n",
       "      <td>0.000000</td>\n",
       "    </tr>\n",
       "    <tr>\n",
       "      <th>2</th>\n",
       "      <td>18</td>\n",
       "      <td>2011</td>\n",
       "      <td>2</td>\n",
       "      <td>0</td>\n",
       "      <td>1</td>\n",
       "      <td>0</td>\n",
       "      <td>1</td>\n",
       "      <td>0</td>\n",
       "      <td>1</td>\n",
       "      <td>0</td>\n",
       "      <td>...</td>\n",
       "      <td>2.714286</td>\n",
       "      <td>2.714286</td>\n",
       "      <td>0.000000</td>\n",
       "      <td>0.000000</td>\n",
       "      <td>10.775510</td>\n",
       "      <td>0.000000</td>\n",
       "      <td>8.367347</td>\n",
       "      <td>0.000000</td>\n",
       "      <td>0.000000</td>\n",
       "      <td>9.836735</td>\n",
       "    </tr>\n",
       "    <tr>\n",
       "      <th>3</th>\n",
       "      <td>18</td>\n",
       "      <td>2012</td>\n",
       "      <td>3</td>\n",
       "      <td>0</td>\n",
       "      <td>1</td>\n",
       "      <td>0</td>\n",
       "      <td>1</td>\n",
       "      <td>0</td>\n",
       "      <td>1</td>\n",
       "      <td>0</td>\n",
       "      <td>...</td>\n",
       "      <td>4.200000</td>\n",
       "      <td>4.200000</td>\n",
       "      <td>0.000000</td>\n",
       "      <td>0.000000</td>\n",
       "      <td>12.100000</td>\n",
       "      <td>0.000000</td>\n",
       "      <td>9.400000</td>\n",
       "      <td>0.000000</td>\n",
       "      <td>0.000000</td>\n",
       "      <td>9.960000</td>\n",
       "    </tr>\n",
       "    <tr>\n",
       "      <th>4</th>\n",
       "      <td>18</td>\n",
       "      <td>2012</td>\n",
       "      <td>4</td>\n",
       "      <td>0</td>\n",
       "      <td>1</td>\n",
       "      <td>0</td>\n",
       "      <td>1</td>\n",
       "      <td>0</td>\n",
       "      <td>1</td>\n",
       "      <td>0</td>\n",
       "      <td>...</td>\n",
       "      <td>5.460000</td>\n",
       "      <td>5.460000</td>\n",
       "      <td>0.000000</td>\n",
       "      <td>0.000000</td>\n",
       "      <td>13.360000</td>\n",
       "      <td>0.000000</td>\n",
       "      <td>10.320000</td>\n",
       "      <td>0.000000</td>\n",
       "      <td>0.000000</td>\n",
       "      <td>10.280000</td>\n",
       "    </tr>\n",
       "    <tr>\n",
       "      <th>...</th>\n",
       "      <td>...</td>\n",
       "      <td>...</td>\n",
       "      <td>...</td>\n",
       "      <td>...</td>\n",
       "      <td>...</td>\n",
       "      <td>...</td>\n",
       "      <td>...</td>\n",
       "      <td>...</td>\n",
       "      <td>...</td>\n",
       "      <td>...</td>\n",
       "      <td>...</td>\n",
       "      <td>...</td>\n",
       "      <td>...</td>\n",
       "      <td>...</td>\n",
       "      <td>...</td>\n",
       "      <td>...</td>\n",
       "      <td>...</td>\n",
       "      <td>...</td>\n",
       "      <td>...</td>\n",
       "      <td>...</td>\n",
       "      <td>...</td>\n",
       "    </tr>\n",
       "    <tr>\n",
       "      <th>643685</th>\n",
       "      <td>1827860</td>\n",
       "      <td>2013</td>\n",
       "      <td>1</td>\n",
       "      <td>0</td>\n",
       "      <td>0</td>\n",
       "      <td>0</td>\n",
       "      <td>1</td>\n",
       "      <td>0</td>\n",
       "      <td>0</td>\n",
       "      <td>1</td>\n",
       "      <td>...</td>\n",
       "      <td>0.000000</td>\n",
       "      <td>0.000000</td>\n",
       "      <td>0.000000</td>\n",
       "      <td>0.000000</td>\n",
       "      <td>0.612903</td>\n",
       "      <td>0.000000</td>\n",
       "      <td>0.000000</td>\n",
       "      <td>0.000000</td>\n",
       "      <td>0.000000</td>\n",
       "      <td>0.000000</td>\n",
       "    </tr>\n",
       "    <tr>\n",
       "      <th>643686</th>\n",
       "      <td>1827860</td>\n",
       "      <td>2015</td>\n",
       "      <td>2</td>\n",
       "      <td>1</td>\n",
       "      <td>0</td>\n",
       "      <td>0</td>\n",
       "      <td>1</td>\n",
       "      <td>0</td>\n",
       "      <td>1</td>\n",
       "      <td>0</td>\n",
       "      <td>...</td>\n",
       "      <td>0.000000</td>\n",
       "      <td>0.000000</td>\n",
       "      <td>0.212121</td>\n",
       "      <td>0.212121</td>\n",
       "      <td>17.363636</td>\n",
       "      <td>0.000000</td>\n",
       "      <td>8.909091</td>\n",
       "      <td>0.000000</td>\n",
       "      <td>0.000000</td>\n",
       "      <td>7.121212</td>\n",
       "    </tr>\n",
       "    <tr>\n",
       "      <th>643687</th>\n",
       "      <td>1827860</td>\n",
       "      <td>2016</td>\n",
       "      <td>3</td>\n",
       "      <td>1</td>\n",
       "      <td>0</td>\n",
       "      <td>0</td>\n",
       "      <td>1</td>\n",
       "      <td>1</td>\n",
       "      <td>0</td>\n",
       "      <td>1</td>\n",
       "      <td>...</td>\n",
       "      <td>0.000000</td>\n",
       "      <td>0.000000</td>\n",
       "      <td>0.294118</td>\n",
       "      <td>0.205882</td>\n",
       "      <td>34.705882</td>\n",
       "      <td>0.000000</td>\n",
       "      <td>10.352941</td>\n",
       "      <td>1.705882</td>\n",
       "      <td>1.705882</td>\n",
       "      <td>23.911765</td>\n",
       "    </tr>\n",
       "    <tr>\n",
       "      <th>643688</th>\n",
       "      <td>1827869</td>\n",
       "      <td>2013</td>\n",
       "      <td>1</td>\n",
       "      <td>1</td>\n",
       "      <td>1</td>\n",
       "      <td>0</td>\n",
       "      <td>0</td>\n",
       "      <td>0</td>\n",
       "      <td>1</td>\n",
       "      <td>0</td>\n",
       "      <td>...</td>\n",
       "      <td>0.000000</td>\n",
       "      <td>0.000000</td>\n",
       "      <td>0.000000</td>\n",
       "      <td>0.000000</td>\n",
       "      <td>0.000000</td>\n",
       "      <td>0.525424</td>\n",
       "      <td>0.000000</td>\n",
       "      <td>0.000000</td>\n",
       "      <td>0.000000</td>\n",
       "      <td>0.000000</td>\n",
       "    </tr>\n",
       "    <tr>\n",
       "      <th>643689</th>\n",
       "      <td>1827869</td>\n",
       "      <td>2014</td>\n",
       "      <td>2</td>\n",
       "      <td>0</td>\n",
       "      <td>0</td>\n",
       "      <td>1</td>\n",
       "      <td>0</td>\n",
       "      <td>0</td>\n",
       "      <td>1</td>\n",
       "      <td>0</td>\n",
       "      <td>...</td>\n",
       "      <td>0.000000</td>\n",
       "      <td>0.666667</td>\n",
       "      <td>0.666667</td>\n",
       "      <td>0.000000</td>\n",
       "      <td>0.000000</td>\n",
       "      <td>8.950000</td>\n",
       "      <td>1.033333</td>\n",
       "      <td>0.083333</td>\n",
       "      <td>0.083333</td>\n",
       "      <td>8.133333</td>\n",
       "    </tr>\n",
       "  </tbody>\n",
       "</table>\n",
       "<p>643690 rows × 164 columns</p>\n",
       "</div>"
      ],
      "text/plain": [
       "         persnr  year  nrEntry  ltue  employed_before  receipt_leh_before  \\\n",
       "0             7  2015        1     0                1                   0   \n",
       "1            18  2010        1     1                0                   0   \n",
       "2            18  2011        2     0                1                   0   \n",
       "3            18  2012        3     0                1                   0   \n",
       "4            18  2012        4     0                1                   0   \n",
       "...         ...   ...      ...   ...              ...                 ...   \n",
       "643685  1827860  2013        1     0                0                   0   \n",
       "643686  1827860  2015        2     1                0                   0   \n",
       "643687  1827860  2016        3     1                0                   0   \n",
       "643688  1827869  2013        1     1                1                   0   \n",
       "643689  1827869  2014        2     0                0                   1   \n",
       "\n",
       "        receipt_lhg_before  se_before  ASU_notue_seeking_before  \\\n",
       "0                        0          0                         1   \n",
       "1                        0          0                         0   \n",
       "2                        1          0                         1   \n",
       "3                        1          0                         1   \n",
       "4                        1          0                         1   \n",
       "...                    ...        ...                       ...   \n",
       "643685                   1          0                         0   \n",
       "643686                   1          0                         1   \n",
       "643687                   1          1                         0   \n",
       "643688                   0          0                         1   \n",
       "643689                   0          0                         1   \n",
       "\n",
       "        ASU_other_before  ...  minijob_tot_dur_byage  ft_tot_dur_byage  \\\n",
       "0                      0  ...               0.000000          0.000000   \n",
       "1                      0  ...               0.000000          0.000000   \n",
       "2                      0  ...               2.714286          2.714286   \n",
       "3                      0  ...               4.200000          4.200000   \n",
       "4                      0  ...               5.460000          5.460000   \n",
       "...                  ...  ...                    ...               ...   \n",
       "643685                 1  ...               0.000000          0.000000   \n",
       "643686                 0  ...               0.000000          0.000000   \n",
       "643687                 1  ...               0.000000          0.000000   \n",
       "643688                 0  ...               0.000000          0.000000   \n",
       "643689                 0  ...               0.000000          0.666667   \n",
       "\n",
       "        befrist_tot_dur_byage  leih_tot_dur_byage  LHG_tot_dur_byage  \\\n",
       "0                   15.043478            0.000000           0.000000   \n",
       "1                    0.000000            0.000000           0.000000   \n",
       "2                    0.000000            0.000000          10.775510   \n",
       "3                    0.000000            0.000000          12.100000   \n",
       "4                    0.000000            0.000000          13.360000   \n",
       "...                       ...                 ...                ...   \n",
       "643685               0.000000            0.000000           0.612903   \n",
       "643686               0.212121            0.212121          17.363636   \n",
       "643687               0.294118            0.205882          34.705882   \n",
       "643688               0.000000            0.000000           0.000000   \n",
       "643689               0.666667            0.000000           0.000000   \n",
       "\n",
       "        LEH_tot_dur_byage  almp_tot_dur_byage  almp_aw_tot_dur_byage  \\\n",
       "0                0.000000            0.000000               0.000000   \n",
       "1                0.000000            0.000000               0.000000   \n",
       "2                0.000000            8.367347               0.000000   \n",
       "3                0.000000            9.400000               0.000000   \n",
       "4                0.000000           10.320000               0.000000   \n",
       "...                   ...                 ...                    ...   \n",
       "643685           0.000000            0.000000               0.000000   \n",
       "643686           0.000000            8.909091               0.000000   \n",
       "643687           0.000000           10.352941               1.705882   \n",
       "643688           0.525424            0.000000               0.000000   \n",
       "643689           8.950000            1.033333               0.083333   \n",
       "\n",
       "        se_tot_dur_byage  seeking1_tot_dur_byage  \n",
       "0               0.000000                0.000000  \n",
       "1               0.000000                0.000000  \n",
       "2               0.000000                9.836735  \n",
       "3               0.000000                9.960000  \n",
       "4               0.000000               10.280000  \n",
       "...                  ...                     ...  \n",
       "643685          0.000000                0.000000  \n",
       "643686          0.000000                7.121212  \n",
       "643687          1.705882               23.911765  \n",
       "643688          0.000000                0.000000  \n",
       "643689          0.083333                8.133333  \n",
       "\n",
       "[643690 rows x 164 columns]"
      ]
     },
     "execution_count": 10,
     "metadata": {},
     "output_type": "execute_result"
    }
   ],
   "source": [
    "siab"
   ]
  },
  {
   "cell_type": "markdown",
   "id": "1f87e805",
   "metadata": {
    "papermill": {
     "duration": 0.009819,
     "end_time": "2025-08-19T18:42:08.239218",
     "exception": false,
     "start_time": "2025-08-19T18:42:08.229399",
     "status": "completed"
    },
    "tags": []
   },
   "source": [
    "# Splitting Data and Setting Training Data Size"
   ]
  },
  {
   "cell_type": "code",
   "execution_count": 11,
   "id": "910ae358",
   "metadata": {
    "execution": {
     "iopub.execute_input": "2025-08-19T18:42:08.260503Z",
     "iopub.status.busy": "2025-08-19T18:42:08.259898Z",
     "iopub.status.idle": "2025-08-19T18:42:09.708685Z",
     "shell.execute_reply": "2025-08-19T18:42:09.707478Z"
    },
    "papermill": {
     "duration": 1.461238,
     "end_time": "2025-08-19T18:42:09.710125",
     "exception": false,
     "start_time": "2025-08-19T18:42:08.248887",
     "status": "completed"
    },
    "tags": []
   },
   "outputs": [],
   "source": [
    "from fairness_multiverse.universe import sample_by_year_size\n",
    "\n",
    "siab_train = sample_by_year_size(siab,\n",
    "                               training_year=universe[\"training_year\"],\n",
    "                               training_size=universe[\"training_size\"])"
   ]
  },
  {
   "cell_type": "code",
   "execution_count": 12,
   "id": "919c8ff5",
   "metadata": {
    "execution": {
     "iopub.execute_input": "2025-08-19T18:42:09.734379Z",
     "iopub.status.busy": "2025-08-19T18:42:09.732992Z",
     "iopub.status.idle": "2025-08-19T18:42:09.748289Z",
     "shell.execute_reply": "2025-08-19T18:42:09.746671Z"
    },
    "papermill": {
     "duration": 0.029599,
     "end_time": "2025-08-19T18:42:09.749871",
     "exception": false,
     "start_time": "2025-08-19T18:42:09.720272",
     "status": "completed"
    },
    "tags": []
   },
   "outputs": [
    {
     "data": {
      "text/plain": [
       "(5000, 164)"
      ]
     },
     "execution_count": 12,
     "metadata": {},
     "output_type": "execute_result"
    }
   ],
   "source": [
    "siab_train.shape"
   ]
  },
  {
   "cell_type": "code",
   "execution_count": 13,
   "id": "feb13bf4",
   "metadata": {
    "execution": {
     "iopub.execute_input": "2025-08-19T18:42:09.779397Z",
     "iopub.status.busy": "2025-08-19T18:42:09.778217Z",
     "iopub.status.idle": "2025-08-19T18:42:09.794726Z",
     "shell.execute_reply": "2025-08-19T18:42:09.793483Z"
    },
    "papermill": {
     "duration": 0.030684,
     "end_time": "2025-08-19T18:42:09.796190",
     "exception": false,
     "start_time": "2025-08-19T18:42:09.765506",
     "status": "completed"
    },
    "tags": []
   },
   "outputs": [
    {
     "data": {
      "text/plain": [
       "year\n",
       "2010    1000\n",
       "2011    1000\n",
       "2012    1000\n",
       "2013    1000\n",
       "2014    1000\n",
       "dtype: int64"
      ]
     },
     "metadata": {},
     "output_type": "display_data"
    }
   ],
   "source": [
    "display(siab_train.groupby(\"year\").size())"
   ]
  },
  {
   "cell_type": "code",
   "execution_count": 14,
   "id": "0997782f",
   "metadata": {
    "execution": {
     "iopub.execute_input": "2025-08-19T18:42:09.823838Z",
     "iopub.status.busy": "2025-08-19T18:42:09.822230Z",
     "iopub.status.idle": "2025-08-19T18:42:10.156704Z",
     "shell.execute_reply": "2025-08-19T18:42:10.155637Z"
    },
    "papermill": {
     "duration": 0.349454,
     "end_time": "2025-08-19T18:42:10.159226",
     "exception": false,
     "start_time": "2025-08-19T18:42:09.809772",
     "status": "completed"
    },
    "tags": []
   },
   "outputs": [],
   "source": [
    "#siab_train = siab_s[siab_s.year < 2015]\n",
    "siab_calib = siab[siab.year == 2015]\n",
    "siab_test = siab[siab.year == 2016]"
   ]
  },
  {
   "cell_type": "code",
   "execution_count": 15,
   "id": "2c1e4012",
   "metadata": {
    "execution": {
     "iopub.execute_input": "2025-08-19T18:42:10.192278Z",
     "iopub.status.busy": "2025-08-19T18:42:10.191101Z",
     "iopub.status.idle": "2025-08-19T18:42:10.198375Z",
     "shell.execute_reply": "2025-08-19T18:42:10.196832Z"
    },
    "papermill": {
     "duration": 0.021538,
     "end_time": "2025-08-19T18:42:10.200124",
     "exception": false,
     "start_time": "2025-08-19T18:42:10.178586",
     "status": "completed"
    },
    "tags": []
   },
   "outputs": [],
   "source": [
    "#siab_calib.shape"
   ]
  },
  {
   "cell_type": "code",
   "execution_count": 16,
   "id": "f66b54ca",
   "metadata": {
    "execution": {
     "iopub.execute_input": "2025-08-19T18:42:10.225030Z",
     "iopub.status.busy": "2025-08-19T18:42:10.223832Z",
     "iopub.status.idle": "2025-08-19T18:42:10.232212Z",
     "shell.execute_reply": "2025-08-19T18:42:10.230566Z"
    },
    "papermill": {
     "duration": 0.022029,
     "end_time": "2025-08-19T18:42:10.233753",
     "exception": false,
     "start_time": "2025-08-19T18:42:10.211724",
     "status": "completed"
    },
    "tags": []
   },
   "outputs": [],
   "source": [
    "#siab_test.shape"
   ]
  },
  {
   "cell_type": "code",
   "execution_count": 17,
   "id": "27e4384d",
   "metadata": {
    "execution": {
     "iopub.execute_input": "2025-08-19T18:42:10.258857Z",
     "iopub.status.busy": "2025-08-19T18:42:10.257701Z",
     "iopub.status.idle": "2025-08-19T18:42:10.278177Z",
     "shell.execute_reply": "2025-08-19T18:42:10.277126Z"
    },
    "papermill": {
     "duration": 0.034426,
     "end_time": "2025-08-19T18:42:10.279695",
     "exception": false,
     "start_time": "2025-08-19T18:42:10.245269",
     "status": "completed"
    },
    "tags": []
   },
   "outputs": [],
   "source": [
    "X_train = siab_train.iloc[:,4:164]\n",
    "y_train = siab_train.iloc[:, [3]]"
   ]
  },
  {
   "cell_type": "code",
   "execution_count": 18,
   "id": "08ee8389",
   "metadata": {
    "execution": {
     "iopub.execute_input": "2025-08-19T18:42:10.312277Z",
     "iopub.status.busy": "2025-08-19T18:42:10.310072Z",
     "iopub.status.idle": "2025-08-19T18:42:10.379776Z",
     "shell.execute_reply": "2025-08-19T18:42:10.378708Z"
    },
    "papermill": {
     "duration": 0.086926,
     "end_time": "2025-08-19T18:42:10.382706",
     "exception": false,
     "start_time": "2025-08-19T18:42:10.295780",
     "status": "completed"
    },
    "tags": []
   },
   "outputs": [],
   "source": [
    "X_calib = siab_calib.iloc[:,4:164]\n",
    "y_calib = siab_calib.iloc[:, [3]]"
   ]
  },
  {
   "cell_type": "code",
   "execution_count": 19,
   "id": "b7ff42e0",
   "metadata": {
    "execution": {
     "iopub.execute_input": "2025-08-19T18:42:10.420384Z",
     "iopub.status.busy": "2025-08-19T18:42:10.418763Z",
     "iopub.status.idle": "2025-08-19T18:42:10.483441Z",
     "shell.execute_reply": "2025-08-19T18:42:10.482438Z"
    },
    "papermill": {
     "duration": 0.081114,
     "end_time": "2025-08-19T18:42:10.486093",
     "exception": false,
     "start_time": "2025-08-19T18:42:10.404979",
     "status": "completed"
    },
    "tags": []
   },
   "outputs": [],
   "source": [
    "X_test = siab_test.iloc[:,4:164]\n",
    "y_true = siab_test.iloc[:, [3]]"
   ]
  },
  {
   "cell_type": "code",
   "execution_count": 20,
   "id": "0275101e",
   "metadata": {
    "execution": {
     "iopub.execute_input": "2025-08-19T18:42:10.527661Z",
     "iopub.status.busy": "2025-08-19T18:42:10.526328Z",
     "iopub.status.idle": "2025-08-19T18:42:10.681363Z",
     "shell.execute_reply": "2025-08-19T18:42:10.679289Z"
    },
    "papermill": {
     "duration": 0.172595,
     "end_time": "2025-08-19T18:42:10.684406",
     "exception": false,
     "start_time": "2025-08-19T18:42:10.511811",
     "status": "completed"
    },
    "tags": []
   },
   "outputs": [],
   "source": [
    "# Auxiliary data needed downstream in the pipeline\n",
    "\n",
    "org_train = X_train.copy()\n",
    "org_test = X_test.copy()\n",
    "org_calib = X_calib.copy()"
   ]
  },
  {
   "cell_type": "markdown",
   "id": "b461e618",
   "metadata": {
    "papermill": {
     "duration": 0.012128,
     "end_time": "2025-08-19T18:42:10.719593",
     "exception": false,
     "start_time": "2025-08-19T18:42:10.707465",
     "status": "completed"
    },
    "tags": []
   },
   "source": [
    "# Preprocessing Data"
   ]
  },
  {
   "cell_type": "code",
   "execution_count": 21,
   "id": "78e74c4b",
   "metadata": {
    "execution": {
     "iopub.execute_input": "2025-08-19T18:42:10.745459Z",
     "iopub.status.busy": "2025-08-19T18:42:10.743650Z",
     "iopub.status.idle": "2025-08-19T18:42:10.756688Z",
     "shell.execute_reply": "2025-08-19T18:42:10.755313Z"
    },
    "papermill": {
     "duration": 0.028259,
     "end_time": "2025-08-19T18:42:10.758357",
     "exception": false,
     "start_time": "2025-08-19T18:42:10.730098",
     "status": "completed"
    },
    "tags": []
   },
   "outputs": [],
   "source": [
    "# EXCLUDE PROTECTED FEATURES\n",
    "# --------------------------\n",
    "\n",
    "excluded_features = universe[\"exclude_features\"].split(\"-\")\n",
    "excluded_features_dictionary = {\n",
    "    \"nationality\": [\"maxdeutsch1\", \"maxdeutsch.Missing.\"],\n",
    "    \"sex\": [\"frau1\"],\n",
    "    \"age\": [\"age\"],\n",
    "}"
   ]
  },
  {
   "cell_type": "code",
   "execution_count": 22,
   "id": "f8e63555",
   "metadata": {
    "execution": {
     "iopub.execute_input": "2025-08-19T18:42:10.786115Z",
     "iopub.status.busy": "2025-08-19T18:42:10.784706Z",
     "iopub.status.idle": "2025-08-19T18:42:10.794035Z",
     "shell.execute_reply": "2025-08-19T18:42:10.792728Z"
    },
    "papermill": {
     "duration": 0.023786,
     "end_time": "2025-08-19T18:42:10.795864",
     "exception": false,
     "start_time": "2025-08-19T18:42:10.772078",
     "status": "completed"
    },
    "tags": []
   },
   "outputs": [],
   "source": [
    "excluded_features_columns = [\n",
    "    excluded_features_dictionary[f] for f in excluded_features if len(f) > 0 and f != \"none\"\n",
    "]"
   ]
  },
  {
   "cell_type": "code",
   "execution_count": 23,
   "id": "da781f7c",
   "metadata": {
    "execution": {
     "iopub.execute_input": "2025-08-19T18:42:10.822257Z",
     "iopub.status.busy": "2025-08-19T18:42:10.820645Z",
     "iopub.status.idle": "2025-08-19T18:42:10.829517Z",
     "shell.execute_reply": "2025-08-19T18:42:10.828176Z"
    },
    "papermill": {
     "duration": 0.022499,
     "end_time": "2025-08-19T18:42:10.831056",
     "exception": false,
     "start_time": "2025-08-19T18:42:10.808557",
     "status": "completed"
    },
    "tags": []
   },
   "outputs": [],
   "source": [
    "from fairness_multiverse.universe import flatten_once\n",
    "\n",
    "excluded_features_columns = flatten_once(excluded_features_columns)"
   ]
  },
  {
   "cell_type": "code",
   "execution_count": 24,
   "id": "37fef0f0",
   "metadata": {
    "execution": {
     "iopub.execute_input": "2025-08-19T18:42:10.857324Z",
     "iopub.status.busy": "2025-08-19T18:42:10.855836Z",
     "iopub.status.idle": "2025-08-19T18:42:10.897596Z",
     "shell.execute_reply": "2025-08-19T18:42:10.896224Z"
    },
    "papermill": {
     "duration": 0.056616,
     "end_time": "2025-08-19T18:42:10.900171",
     "exception": false,
     "start_time": "2025-08-19T18:42:10.843555",
     "status": "completed"
    },
    "tags": []
   },
   "outputs": [
    {
     "name": "stdout",
     "output_type": "stream",
     "text": [
      "Dropping features: ['maxdeutsch1', 'maxdeutsch.Missing.']\n"
     ]
    }
   ],
   "source": [
    "if len(excluded_features_columns) > 0:\n",
    "    print(f\"Dropping features: {excluded_features_columns}\")\n",
    "    X_train.drop(excluded_features_columns, axis=1, inplace=True)"
   ]
  },
  {
   "cell_type": "code",
   "execution_count": 25,
   "id": "d029e3e9",
   "metadata": {
    "execution": {
     "iopub.execute_input": "2025-08-19T18:42:10.937984Z",
     "iopub.status.busy": "2025-08-19T18:42:10.936688Z",
     "iopub.status.idle": "2025-08-19T18:42:11.033193Z",
     "shell.execute_reply": "2025-08-19T18:42:11.032229Z"
    },
    "papermill": {
     "duration": 0.111832,
     "end_time": "2025-08-19T18:42:11.034528",
     "exception": false,
     "start_time": "2025-08-19T18:42:10.922696",
     "status": "completed"
    },
    "tags": []
   },
   "outputs": [
    {
     "name": "stdout",
     "output_type": "stream",
     "text": [
      "Dropping features: ['maxdeutsch1', 'maxdeutsch.Missing.']\n"
     ]
    }
   ],
   "source": [
    "if len(excluded_features_columns) > 0:\n",
    "    print(f\"Dropping features: {excluded_features_columns}\")\n",
    "    X_test.drop(excluded_features_columns, axis=1, inplace=True)"
   ]
  },
  {
   "cell_type": "code",
   "execution_count": 26,
   "id": "01d571f0",
   "metadata": {
    "execution": {
     "iopub.execute_input": "2025-08-19T18:42:11.069381Z",
     "iopub.status.busy": "2025-08-19T18:42:11.068135Z",
     "iopub.status.idle": "2025-08-19T18:42:11.159828Z",
     "shell.execute_reply": "2025-08-19T18:42:11.158943Z"
    },
    "papermill": {
     "duration": 0.117194,
     "end_time": "2025-08-19T18:42:11.162443",
     "exception": false,
     "start_time": "2025-08-19T18:42:11.045249",
     "status": "completed"
    },
    "tags": []
   },
   "outputs": [
    {
     "name": "stdout",
     "output_type": "stream",
     "text": [
      "Dropping features: ['maxdeutsch1', 'maxdeutsch.Missing.']\n"
     ]
    }
   ],
   "source": [
    "if len(excluded_features_columns) > 0:\n",
    "    print(f\"Dropping features: {excluded_features_columns}\")\n",
    "    X_calib.drop(excluded_features_columns, axis=1, inplace=True)"
   ]
  },
  {
   "cell_type": "code",
   "execution_count": 27,
   "id": "3037356e",
   "metadata": {
    "execution": {
     "iopub.execute_input": "2025-08-19T18:42:11.202673Z",
     "iopub.status.busy": "2025-08-19T18:42:11.201443Z",
     "iopub.status.idle": "2025-08-19T18:42:11.209272Z",
     "shell.execute_reply": "2025-08-19T18:42:11.207807Z"
    },
    "papermill": {
     "duration": 0.02346,
     "end_time": "2025-08-19T18:42:11.210971",
     "exception": false,
     "start_time": "2025-08-19T18:42:11.187511",
     "status": "completed"
    },
    "tags": []
   },
   "outputs": [],
   "source": [
    "# EXCLUDE CERTAIN SUBGROUPS\n",
    "# -------------------------\n",
    "\n",
    "mode = universe.get(\"exclude_subgroups\", \"keep-all\") # Defaults to \"keep-all\" if the key is missing."
   ]
  },
  {
   "cell_type": "code",
   "execution_count": 28,
   "id": "9d1e63fd",
   "metadata": {
    "execution": {
     "iopub.execute_input": "2025-08-19T18:42:11.237030Z",
     "iopub.status.busy": "2025-08-19T18:42:11.235769Z",
     "iopub.status.idle": "2025-08-19T18:42:11.250333Z",
     "shell.execute_reply": "2025-08-19T18:42:11.248947Z"
    },
    "papermill": {
     "duration": 0.028471,
     "end_time": "2025-08-19T18:42:11.251956",
     "exception": false,
     "start_time": "2025-08-19T18:42:11.223485",
     "status": "completed"
    },
    "tags": []
   },
   "outputs": [],
   "source": [
    "if mode == \"keep-all\":\n",
    "    keep_mask = pd.Series(True, index=org_train.index)\n",
    "\n",
    "elif mode == \"drop-non-german\":\n",
    "    keep_mask = (org_train[\"maxdeutsch1\"] == 1) & (org_train[\"maxdeutsch.Missing.\"] == 0)\n",
    "\n",
    "else:\n",
    "    raise ValueError(f\"Unsupported mode for exclude_subgroups: {mode}\")"
   ]
  },
  {
   "cell_type": "code",
   "execution_count": 29,
   "id": "d3b65474",
   "metadata": {
    "execution": {
     "iopub.execute_input": "2025-08-19T18:42:11.284087Z",
     "iopub.status.busy": "2025-08-19T18:42:11.282731Z",
     "iopub.status.idle": "2025-08-19T18:42:11.294778Z",
     "shell.execute_reply": "2025-08-19T18:42:11.293507Z"
    },
    "papermill": {
     "duration": 0.026839,
     "end_time": "2025-08-19T18:42:11.296133",
     "exception": false,
     "start_time": "2025-08-19T18:42:11.269294",
     "status": "completed"
    },
    "tags": []
   },
   "outputs": [
    {
     "name": "stdout",
     "output_type": "stream",
     "text": [
      "Dropping 657 rows (13.14%) where mode='drop-non-german'\n"
     ]
    }
   ],
   "source": [
    "n_drop = (~keep_mask).sum() # Calculates how many rows are set to be dropped\n",
    "if n_drop > 0:\n",
    "    pct = n_drop / len(keep_mask) * 100\n",
    "    print(f\"Dropping {n_drop} rows ({pct:.2f}%) where mode='{mode}'\")"
   ]
  },
  {
   "cell_type": "code",
   "execution_count": 30,
   "id": "f44389b3",
   "metadata": {
    "execution": {
     "iopub.execute_input": "2025-08-19T18:42:11.323177Z",
     "iopub.status.busy": "2025-08-19T18:42:11.322473Z",
     "iopub.status.idle": "2025-08-19T18:42:11.354849Z",
     "shell.execute_reply": "2025-08-19T18:42:11.353516Z"
    },
    "papermill": {
     "duration": 0.047699,
     "end_time": "2025-08-19T18:42:11.357399",
     "exception": false,
     "start_time": "2025-08-19T18:42:11.309700",
     "status": "completed"
    },
    "tags": []
   },
   "outputs": [],
   "source": [
    "X_train = X_train[keep_mask]"
   ]
  },
  {
   "cell_type": "code",
   "execution_count": 31,
   "id": "ceca8c2a",
   "metadata": {
    "execution": {
     "iopub.execute_input": "2025-08-19T18:42:11.397091Z",
     "iopub.status.busy": "2025-08-19T18:42:11.395467Z",
     "iopub.status.idle": "2025-08-19T18:42:11.411589Z",
     "shell.execute_reply": "2025-08-19T18:42:11.409990Z"
    },
    "papermill": {
     "duration": 0.03423,
     "end_time": "2025-08-19T18:42:11.413745",
     "exception": false,
     "start_time": "2025-08-19T18:42:11.379515",
     "status": "completed"
    },
    "tags": []
   },
   "outputs": [],
   "source": [
    "y_train = y_train[keep_mask]"
   ]
  },
  {
   "cell_type": "markdown",
   "id": "04d31e2f",
   "metadata": {
    "papermill": {
     "duration": 0.014101,
     "end_time": "2025-08-19T18:42:11.455317",
     "exception": false,
     "start_time": "2025-08-19T18:42:11.441216",
     "status": "completed"
    },
    "tags": []
   },
   "source": [
    "# Model Training"
   ]
  },
  {
   "cell_type": "code",
   "execution_count": 32,
   "id": "db991733",
   "metadata": {
    "execution": {
     "iopub.execute_input": "2025-08-19T18:42:11.488382Z",
     "iopub.status.busy": "2025-08-19T18:42:11.484153Z",
     "iopub.status.idle": "2025-08-19T18:42:11.643992Z",
     "shell.execute_reply": "2025-08-19T18:42:11.642722Z"
    },
    "papermill": {
     "duration": 0.179263,
     "end_time": "2025-08-19T18:42:11.645855",
     "exception": false,
     "start_time": "2025-08-19T18:42:11.466592",
     "status": "completed"
    },
    "tags": []
   },
   "outputs": [],
   "source": [
    "from sklearn.linear_model import LogisticRegression\n",
    "from sklearn.ensemble import GradientBoostingClassifier, RandomForestClassifier\n",
    "\n",
    "if (universe[\"model\"] == \"logreg\"):\n",
    "    model = LogisticRegression() #penalty=\"none\", solver=\"newton-cg\", max_iter=1)\n",
    "elif (universe[\"model\"] == \"penalized_logreg\"):\n",
    "    model = LogisticRegression(penalty=\"l2\", C=0.1) #, solver=\"newton-cg\", max_iter=1)\n",
    "elif (universe[\"model\"] == \"rf\"):\n",
    "    model = RandomForestClassifier() # n_estimators=100, n_jobs=-1\n",
    "elif (universe[\"model\"] == \"gbm\"):\n",
    "    model = GradientBoostingClassifier()\n",
    "elif (universe[\"model\"] == \"elasticnet\"):\n",
    "    model = LogisticRegression(penalty = 'elasticnet', solver = 'saga', l1_ratio = 0.5) # max_iter=5000\n",
    "else:\n",
    "    raise \"Unsupported universe.model\""
   ]
  },
  {
   "cell_type": "code",
   "execution_count": 33,
   "id": "a4b5cd25",
   "metadata": {
    "execution": {
     "iopub.execute_input": "2025-08-19T18:42:11.671657Z",
     "iopub.status.busy": "2025-08-19T18:42:11.670055Z",
     "iopub.status.idle": "2025-08-19T18:42:11.680068Z",
     "shell.execute_reply": "2025-08-19T18:42:11.678731Z"
    },
    "papermill": {
     "duration": 0.024058,
     "end_time": "2025-08-19T18:42:11.681648",
     "exception": false,
     "start_time": "2025-08-19T18:42:11.657590",
     "status": "completed"
    },
    "tags": []
   },
   "outputs": [],
   "source": [
    "from sklearn.pipeline import Pipeline\n",
    "from sklearn.preprocessing import StandardScaler\n",
    "\n",
    "model = Pipeline([\n",
    "    #(\"continuous_processor\", continuous_processor),\n",
    "    #(\"categorical_preprocessor\", categorical_preprocessor),\n",
    "    (\"scale\", StandardScaler() if universe[\"scale\"] == \"scale\" else None), \n",
    "    (\"model\", model),\n",
    "])"
   ]
  },
  {
   "cell_type": "code",
   "execution_count": 34,
   "id": "283a904d",
   "metadata": {
    "execution": {
     "iopub.execute_input": "2025-08-19T18:42:11.708778Z",
     "iopub.status.busy": "2025-08-19T18:42:11.708141Z",
     "iopub.status.idle": "2025-08-19T18:42:12.938981Z",
     "shell.execute_reply": "2025-08-19T18:42:12.938017Z"
    },
    "papermill": {
     "duration": 1.245059,
     "end_time": "2025-08-19T18:42:12.940172",
     "exception": false,
     "start_time": "2025-08-19T18:42:11.695113",
     "status": "completed"
    },
    "tags": []
   },
   "outputs": [
    {
     "data": {
      "text/html": [
       "<style>#sk-container-id-1 {color: black;background-color: white;}#sk-container-id-1 pre{padding: 0;}#sk-container-id-1 div.sk-toggleable {background-color: white;}#sk-container-id-1 label.sk-toggleable__label {cursor: pointer;display: block;width: 100%;margin-bottom: 0;padding: 0.3em;box-sizing: border-box;text-align: center;}#sk-container-id-1 label.sk-toggleable__label-arrow:before {content: \"▸\";float: left;margin-right: 0.25em;color: #696969;}#sk-container-id-1 label.sk-toggleable__label-arrow:hover:before {color: black;}#sk-container-id-1 div.sk-estimator:hover label.sk-toggleable__label-arrow:before {color: black;}#sk-container-id-1 div.sk-toggleable__content {max-height: 0;max-width: 0;overflow: hidden;text-align: left;background-color: #f0f8ff;}#sk-container-id-1 div.sk-toggleable__content pre {margin: 0.2em;color: black;border-radius: 0.25em;background-color: #f0f8ff;}#sk-container-id-1 input.sk-toggleable__control:checked~div.sk-toggleable__content {max-height: 200px;max-width: 100%;overflow: auto;}#sk-container-id-1 input.sk-toggleable__control:checked~label.sk-toggleable__label-arrow:before {content: \"▾\";}#sk-container-id-1 div.sk-estimator input.sk-toggleable__control:checked~label.sk-toggleable__label {background-color: #d4ebff;}#sk-container-id-1 div.sk-label input.sk-toggleable__control:checked~label.sk-toggleable__label {background-color: #d4ebff;}#sk-container-id-1 input.sk-hidden--visually {border: 0;clip: rect(1px 1px 1px 1px);clip: rect(1px, 1px, 1px, 1px);height: 1px;margin: -1px;overflow: hidden;padding: 0;position: absolute;width: 1px;}#sk-container-id-1 div.sk-estimator {font-family: monospace;background-color: #f0f8ff;border: 1px dotted black;border-radius: 0.25em;box-sizing: border-box;margin-bottom: 0.5em;}#sk-container-id-1 div.sk-estimator:hover {background-color: #d4ebff;}#sk-container-id-1 div.sk-parallel-item::after {content: \"\";width: 100%;border-bottom: 1px solid gray;flex-grow: 1;}#sk-container-id-1 div.sk-label:hover label.sk-toggleable__label {background-color: #d4ebff;}#sk-container-id-1 div.sk-serial::before {content: \"\";position: absolute;border-left: 1px solid gray;box-sizing: border-box;top: 0;bottom: 0;left: 50%;z-index: 0;}#sk-container-id-1 div.sk-serial {display: flex;flex-direction: column;align-items: center;background-color: white;padding-right: 0.2em;padding-left: 0.2em;position: relative;}#sk-container-id-1 div.sk-item {position: relative;z-index: 1;}#sk-container-id-1 div.sk-parallel {display: flex;align-items: stretch;justify-content: center;background-color: white;position: relative;}#sk-container-id-1 div.sk-item::before, #sk-container-id-1 div.sk-parallel-item::before {content: \"\";position: absolute;border-left: 1px solid gray;box-sizing: border-box;top: 0;bottom: 0;left: 50%;z-index: -1;}#sk-container-id-1 div.sk-parallel-item {display: flex;flex-direction: column;z-index: 1;position: relative;background-color: white;}#sk-container-id-1 div.sk-parallel-item:first-child::after {align-self: flex-end;width: 50%;}#sk-container-id-1 div.sk-parallel-item:last-child::after {align-self: flex-start;width: 50%;}#sk-container-id-1 div.sk-parallel-item:only-child::after {width: 0;}#sk-container-id-1 div.sk-dashed-wrapped {border: 1px dashed gray;margin: 0 0.4em 0.5em 0.4em;box-sizing: border-box;padding-bottom: 0.4em;background-color: white;}#sk-container-id-1 div.sk-label label {font-family: monospace;font-weight: bold;display: inline-block;line-height: 1.2em;}#sk-container-id-1 div.sk-label-container {text-align: center;}#sk-container-id-1 div.sk-container {/* jupyter's `normalize.less` sets `[hidden] { display: none; }` but bootstrap.min.css set `[hidden] { display: none !important; }` so we also need the `!important` here to be able to override the default hidden behavior on the sphinx rendered scikit-learn.org. See: https://github.com/scikit-learn/scikit-learn/issues/21755 */display: inline-block !important;position: relative;}#sk-container-id-1 div.sk-text-repr-fallback {display: none;}</style><div id=\"sk-container-id-1\" class=\"sk-top-container\"><div class=\"sk-text-repr-fallback\"><pre>Pipeline(steps=[(&#x27;scale&#x27;, StandardScaler()),\n",
       "                (&#x27;model&#x27;, RandomForestClassifier())])</pre><b>In a Jupyter environment, please rerun this cell to show the HTML representation or trust the notebook. <br />On GitHub, the HTML representation is unable to render, please try loading this page with nbviewer.org.</b></div><div class=\"sk-container\" hidden><div class=\"sk-item sk-dashed-wrapped\"><div class=\"sk-label-container\"><div class=\"sk-label sk-toggleable\"><input class=\"sk-toggleable__control sk-hidden--visually\" id=\"sk-estimator-id-1\" type=\"checkbox\" ><label for=\"sk-estimator-id-1\" class=\"sk-toggleable__label sk-toggleable__label-arrow\">Pipeline</label><div class=\"sk-toggleable__content\"><pre>Pipeline(steps=[(&#x27;scale&#x27;, StandardScaler()),\n",
       "                (&#x27;model&#x27;, RandomForestClassifier())])</pre></div></div></div><div class=\"sk-serial\"><div class=\"sk-item\"><div class=\"sk-estimator sk-toggleable\"><input class=\"sk-toggleable__control sk-hidden--visually\" id=\"sk-estimator-id-2\" type=\"checkbox\" ><label for=\"sk-estimator-id-2\" class=\"sk-toggleable__label sk-toggleable__label-arrow\">StandardScaler</label><div class=\"sk-toggleable__content\"><pre>StandardScaler()</pre></div></div></div><div class=\"sk-item\"><div class=\"sk-estimator sk-toggleable\"><input class=\"sk-toggleable__control sk-hidden--visually\" id=\"sk-estimator-id-3\" type=\"checkbox\" ><label for=\"sk-estimator-id-3\" class=\"sk-toggleable__label sk-toggleable__label-arrow\">RandomForestClassifier</label><div class=\"sk-toggleable__content\"><pre>RandomForestClassifier()</pre></div></div></div></div></div></div></div>"
      ],
      "text/plain": [
       "Pipeline(steps=[('scale', StandardScaler()),\n",
       "                ('model', RandomForestClassifier())])"
      ]
     },
     "execution_count": 34,
     "metadata": {},
     "output_type": "execute_result"
    }
   ],
   "source": [
    "model.fit(X_train, y_train.values.ravel())"
   ]
  },
  {
   "cell_type": "code",
   "execution_count": 35,
   "id": "6e15e313",
   "metadata": {
    "execution": {
     "iopub.execute_input": "2025-08-19T18:42:12.966831Z",
     "iopub.status.busy": "2025-08-19T18:42:12.965639Z",
     "iopub.status.idle": "2025-08-19T18:42:15.084554Z",
     "shell.execute_reply": "2025-08-19T18:42:15.082795Z"
    },
    "papermill": {
     "duration": 2.13628,
     "end_time": "2025-08-19T18:42:15.088652",
     "exception": false,
     "start_time": "2025-08-19T18:42:12.952372",
     "status": "completed"
    },
    "tags": []
   },
   "outputs": [
    {
     "data": {
      "text/plain": [
       "0.8627912161408985"
      ]
     },
     "execution_count": 35,
     "metadata": {},
     "output_type": "execute_result"
    }
   ],
   "source": [
    "from fairness_multiverse.universe import predict_w_threshold\n",
    "\n",
    "probs_test = model.predict_proba(X_test)\n",
    "\n",
    "'''\n",
    "Below code returns a boolean array (or binary 0/1 array depending on how it’s used) where each element \n",
    "is True if the probability of class 1 is greater than or equal to the threshold, and False otherwise.\n",
    "'''\n",
    "y_pred_default = predict_w_threshold(probs_test, 0.5)\n",
    "\n",
    "from sklearn.metrics import accuracy_score\n",
    "\n",
    "# Naive prediction\n",
    "accuracy_score(y_true = y_true, y_pred = y_pred_default)"
   ]
  },
  {
   "cell_type": "code",
   "execution_count": 36,
   "id": "6f14067c",
   "metadata": {
    "execution": {
     "iopub.execute_input": "2025-08-19T18:42:15.126476Z",
     "iopub.status.busy": "2025-08-19T18:42:15.125669Z",
     "iopub.status.idle": "2025-08-19T18:42:16.972887Z",
     "shell.execute_reply": "2025-08-19T18:42:16.971721Z"
    },
    "papermill": {
     "duration": 1.862769,
     "end_time": "2025-08-19T18:42:16.974419",
     "exception": false,
     "start_time": "2025-08-19T18:42:15.111650",
     "status": "completed"
    },
    "tags": []
   },
   "outputs": [
    {
     "data": {
      "text/plain": [
       "array([0, 0, 0, ..., 0, 0, 0])"
      ]
     },
     "execution_count": 36,
     "metadata": {},
     "output_type": "execute_result"
    }
   ],
   "source": [
    "model.predict(X_test)"
   ]
  },
  {
   "cell_type": "markdown",
   "id": "3759920c",
   "metadata": {
    "papermill": {
     "duration": 0.01882,
     "end_time": "2025-08-19T18:42:17.008093",
     "exception": false,
     "start_time": "2025-08-19T18:42:16.989273",
     "status": "completed"
    },
    "tags": []
   },
   "source": [
    "# Conformal Prediction"
   ]
  },
  {
   "cell_type": "code",
   "execution_count": 37,
   "id": "14b27f59",
   "metadata": {
    "execution": {
     "iopub.execute_input": "2025-08-19T18:42:17.033424Z",
     "iopub.status.busy": "2025-08-19T18:42:17.032922Z",
     "iopub.status.idle": "2025-08-19T18:42:17.040485Z",
     "shell.execute_reply": "2025-08-19T18:42:17.039110Z"
    },
    "papermill": {
     "duration": 0.022394,
     "end_time": "2025-08-19T18:42:17.042504",
     "exception": false,
     "start_time": "2025-08-19T18:42:17.020110",
     "status": "completed"
    },
    "tags": []
   },
   "outputs": [],
   "source": [
    "# Miscoverage level for conformal prediction (10% allowed error rate => 90% target coverage)\n",
    "alpha = 0.1"
   ]
  },
  {
   "cell_type": "code",
   "execution_count": 38,
   "id": "59102472",
   "metadata": {
    "execution": {
     "iopub.execute_input": "2025-08-19T18:42:17.068689Z",
     "iopub.status.busy": "2025-08-19T18:42:17.068188Z",
     "iopub.status.idle": "2025-08-19T18:42:18.845733Z",
     "shell.execute_reply": "2025-08-19T18:42:18.844498Z"
    },
    "papermill": {
     "duration": 1.79324,
     "end_time": "2025-08-19T18:42:18.847606",
     "exception": false,
     "start_time": "2025-08-19T18:42:17.054366",
     "status": "completed"
    },
    "tags": []
   },
   "outputs": [],
   "source": [
    "probs_calib = model.predict_proba(X_calib)"
   ]
  },
  {
   "cell_type": "code",
   "execution_count": 39,
   "id": "a792d4dd",
   "metadata": {
    "execution": {
     "iopub.execute_input": "2025-08-19T18:42:18.879851Z",
     "iopub.status.busy": "2025-08-19T18:42:18.879345Z",
     "iopub.status.idle": "2025-08-19T18:42:18.886148Z",
     "shell.execute_reply": "2025-08-19T18:42:18.885387Z"
    },
    "papermill": {
     "duration": 0.031205,
     "end_time": "2025-08-19T18:42:18.890877",
     "exception": false,
     "start_time": "2025-08-19T18:42:18.859672",
     "status": "completed"
    },
    "tags": []
   },
   "outputs": [],
   "source": [
    "y_calib = y_calib.values.ravel().astype(int)"
   ]
  },
  {
   "cell_type": "code",
   "execution_count": 40,
   "id": "650fd033",
   "metadata": {
    "execution": {
     "iopub.execute_input": "2025-08-19T18:42:18.937274Z",
     "iopub.status.busy": "2025-08-19T18:42:18.936946Z",
     "iopub.status.idle": "2025-08-19T18:42:18.947516Z",
     "shell.execute_reply": "2025-08-19T18:42:18.946728Z"
    },
    "papermill": {
     "duration": 0.025154,
     "end_time": "2025-08-19T18:42:18.949093",
     "exception": false,
     "start_time": "2025-08-19T18:42:18.923939",
     "status": "completed"
    },
    "tags": []
   },
   "outputs": [],
   "source": [
    "from fairness_multiverse.conformal import compute_nc_scores\n",
    "\n",
    "# Compute nonconformity scores on calibration set (1 - probability of true class)\n",
    "nc_scores = compute_nc_scores(probs_calib, y_calib)"
   ]
  },
  {
   "cell_type": "code",
   "execution_count": 41,
   "id": "28ada44c",
   "metadata": {
    "execution": {
     "iopub.execute_input": "2025-08-19T18:42:18.982581Z",
     "iopub.status.busy": "2025-08-19T18:42:18.981665Z",
     "iopub.status.idle": "2025-08-19T18:42:18.988029Z",
     "shell.execute_reply": "2025-08-19T18:42:18.987268Z"
    },
    "papermill": {
     "duration": 0.023099,
     "end_time": "2025-08-19T18:42:18.989298",
     "exception": false,
     "start_time": "2025-08-19T18:42:18.966199",
     "status": "completed"
    },
    "tags": []
   },
   "outputs": [],
   "source": [
    "from fairness_multiverse.conformal import find_threshold\n",
    "\n",
    "# Find conformal threshold q_hat for the given alpha (split conformal method)\n",
    "q_hat = find_threshold(nc_scores, alpha)"
   ]
  },
  {
   "cell_type": "code",
   "execution_count": 42,
   "id": "df56469e",
   "metadata": {
    "execution": {
     "iopub.execute_input": "2025-08-19T18:42:19.017168Z",
     "iopub.status.busy": "2025-08-19T18:42:19.016761Z",
     "iopub.status.idle": "2025-08-19T18:42:19.023634Z",
     "shell.execute_reply": "2025-08-19T18:42:19.022995Z"
    },
    "papermill": {
     "duration": 0.022432,
     "end_time": "2025-08-19T18:42:19.025635",
     "exception": false,
     "start_time": "2025-08-19T18:42:19.003203",
     "status": "completed"
    },
    "tags": []
   },
   "outputs": [
    {
     "data": {
      "text/plain": [
       "0.6699999999999999"
      ]
     },
     "execution_count": 42,
     "metadata": {},
     "output_type": "execute_result"
    }
   ],
   "source": [
    "q_hat"
   ]
  },
  {
   "cell_type": "code",
   "execution_count": 43,
   "id": "aa1f5faa",
   "metadata": {
    "execution": {
     "iopub.execute_input": "2025-08-19T18:42:19.054760Z",
     "iopub.status.busy": "2025-08-19T18:42:19.053658Z",
     "iopub.status.idle": "2025-08-19T18:42:21.304319Z",
     "shell.execute_reply": "2025-08-19T18:42:21.303472Z"
    },
    "papermill": {
     "duration": 2.266014,
     "end_time": "2025-08-19T18:42:21.305968",
     "exception": false,
     "start_time": "2025-08-19T18:42:19.039954",
     "status": "completed"
    },
    "tags": []
   },
   "outputs": [],
   "source": [
    "from fairness_multiverse.conformal import predict_conformal_sets\n",
    "\n",
    "# Generate prediction sets for each test example\n",
    "pred_sets = predict_conformal_sets(model, X_test, q_hat)"
   ]
  },
  {
   "cell_type": "code",
   "execution_count": 44,
   "id": "97f67a6b",
   "metadata": {
    "execution": {
     "iopub.execute_input": "2025-08-19T18:42:21.338554Z",
     "iopub.status.busy": "2025-08-19T18:42:21.338109Z",
     "iopub.status.idle": "2025-08-19T18:42:21.343346Z",
     "shell.execute_reply": "2025-08-19T18:42:21.342710Z"
    },
    "papermill": {
     "duration": 0.023732,
     "end_time": "2025-08-19T18:42:21.344932",
     "exception": false,
     "start_time": "2025-08-19T18:42:21.321200",
     "status": "completed"
    },
    "tags": []
   },
   "outputs": [],
   "source": [
    "y_true = y_true.squeeze()"
   ]
  },
  {
   "cell_type": "code",
   "execution_count": 45,
   "id": "e700e9a7",
   "metadata": {
    "execution": {
     "iopub.execute_input": "2025-08-19T18:42:21.370091Z",
     "iopub.status.busy": "2025-08-19T18:42:21.369693Z",
     "iopub.status.idle": "2025-08-19T18:42:21.839801Z",
     "shell.execute_reply": "2025-08-19T18:42:21.839112Z"
    },
    "papermill": {
     "duration": 0.48544,
     "end_time": "2025-08-19T18:42:21.842551",
     "exception": false,
     "start_time": "2025-08-19T18:42:21.357111",
     "status": "completed"
    },
    "tags": []
   },
   "outputs": [],
   "source": [
    "from fairness_multiverse.conformal import evaluate_sets\n",
    "\n",
    "# Evaluate coverage and average set size on test data\n",
    "metrics = evaluate_sets(pred_sets, y_true)"
   ]
  },
  {
   "cell_type": "markdown",
   "id": "efbacec0",
   "metadata": {
    "papermill": {
     "duration": 0.013497,
     "end_time": "2025-08-19T18:42:21.883293",
     "exception": false,
     "start_time": "2025-08-19T18:42:21.869796",
     "status": "completed"
    },
    "tags": []
   },
   "source": [
    "# CP Metrics"
   ]
  },
  {
   "cell_type": "code",
   "execution_count": 46,
   "id": "9de55fb1",
   "metadata": {
    "execution": {
     "iopub.execute_input": "2025-08-19T18:42:21.909080Z",
     "iopub.status.busy": "2025-08-19T18:42:21.908039Z",
     "iopub.status.idle": "2025-08-19T18:42:21.919196Z",
     "shell.execute_reply": "2025-08-19T18:42:21.917958Z"
    },
    "papermill": {
     "duration": 0.025867,
     "end_time": "2025-08-19T18:42:21.920770",
     "exception": false,
     "start_time": "2025-08-19T18:42:21.894903",
     "status": "completed"
    },
    "tags": []
   },
   "outputs": [
    {
     "data": {
      "text/plain": [
       "{'coverage': 0.9132092297402742, 'avg_size': 1.1551666480882845}"
      ]
     },
     "execution_count": 46,
     "metadata": {},
     "output_type": "execute_result"
    }
   ],
   "source": [
    "metrics"
   ]
  },
  {
   "cell_type": "code",
   "execution_count": 47,
   "id": "64c340a1",
   "metadata": {
    "execution": {
     "iopub.execute_input": "2025-08-19T18:42:21.951062Z",
     "iopub.status.busy": "2025-08-19T18:42:21.950102Z",
     "iopub.status.idle": "2025-08-19T18:42:21.960714Z",
     "shell.execute_reply": "2025-08-19T18:42:21.959286Z"
    },
    "papermill": {
     "duration": 0.025368,
     "end_time": "2025-08-19T18:42:21.962273",
     "exception": false,
     "start_time": "2025-08-19T18:42:21.936905",
     "status": "completed"
    },
    "tags": []
   },
   "outputs": [],
   "source": [
    "example_universe = universe.copy()\n",
    "universe_training_year = example_universe.get(\"training_year\")\n",
    "universe_training_size = example_universe.get(\"training_size\")\n",
    "universe_scale = example_universe.get(\"scale\")\n",
    "universe_model = example_universe.get(\"model\")\n",
    "universe_exclude_features = example_universe.get(\"exclude_features\")\n",
    "universe_exclude_subgroups = example_universe.get(\"exclude_subgroups\")"
   ]
  },
  {
   "cell_type": "code",
   "execution_count": 48,
   "id": "dbb53cb4",
   "metadata": {
    "execution": {
     "iopub.execute_input": "2025-08-19T18:42:21.995406Z",
     "iopub.status.busy": "2025-08-19T18:42:21.994413Z",
     "iopub.status.idle": "2025-08-19T18:42:22.005041Z",
     "shell.execute_reply": "2025-08-19T18:42:22.003429Z"
    },
    "papermill": {
     "duration": 0.026775,
     "end_time": "2025-08-19T18:42:22.006494",
     "exception": false,
     "start_time": "2025-08-19T18:42:21.979719",
     "status": "completed"
    },
    "tags": []
   },
   "outputs": [],
   "source": [
    "cp_metrics_dict = {\n",
    "    \"universe_id\": [universe_id],\n",
    "    \"universe_training_year\": [universe_training_year],\n",
    "    \"universe_training_size\": [universe_training_size],\n",
    "    \"universe_scale\": [universe_scale],\n",
    "    \"universe_model\": [universe_model],\n",
    "    \"universe_exclude_features\": [universe_exclude_features],\n",
    "    \"universe_exclude_subgroups\": [universe_exclude_subgroups],\n",
    "    \"q_hat\": [q_hat],\n",
    "    \"coverage\": [metrics[\"coverage\"]],\n",
    "    \"avg_size\": [metrics[\"avg_size\"]],\n",
    "}"
   ]
  },
  {
   "cell_type": "code",
   "execution_count": 49,
   "id": "0d70d4b2",
   "metadata": {
    "execution": {
     "iopub.execute_input": "2025-08-19T18:42:22.035720Z",
     "iopub.status.busy": "2025-08-19T18:42:22.034734Z",
     "iopub.status.idle": "2025-08-19T18:42:22.046323Z",
     "shell.execute_reply": "2025-08-19T18:42:22.044679Z"
    },
    "papermill": {
     "duration": 0.026436,
     "end_time": "2025-08-19T18:42:22.047759",
     "exception": false,
     "start_time": "2025-08-19T18:42:22.021323",
     "status": "completed"
    },
    "tags": []
   },
   "outputs": [],
   "source": [
    "cp_metrics_df = pd.DataFrame(cp_metrics_dict)"
   ]
  },
  {
   "cell_type": "code",
   "execution_count": 50,
   "id": "b494403c",
   "metadata": {
    "execution": {
     "iopub.execute_input": "2025-08-19T18:42:22.076881Z",
     "iopub.status.busy": "2025-08-19T18:42:22.075760Z",
     "iopub.status.idle": "2025-08-19T18:42:22.098226Z",
     "shell.execute_reply": "2025-08-19T18:42:22.097164Z"
    },
    "papermill": {
     "duration": 0.037921,
     "end_time": "2025-08-19T18:42:22.100528",
     "exception": false,
     "start_time": "2025-08-19T18:42:22.062607",
     "status": "completed"
    },
    "tags": []
   },
   "outputs": [
    {
     "data": {
      "text/html": [
       "<div>\n",
       "<style scoped>\n",
       "    .dataframe tbody tr th:only-of-type {\n",
       "        vertical-align: middle;\n",
       "    }\n",
       "\n",
       "    .dataframe tbody tr th {\n",
       "        vertical-align: top;\n",
       "    }\n",
       "\n",
       "    .dataframe thead th {\n",
       "        text-align: right;\n",
       "    }\n",
       "</style>\n",
       "<table border=\"1\" class=\"dataframe\">\n",
       "  <thead>\n",
       "    <tr style=\"text-align: right;\">\n",
       "      <th></th>\n",
       "      <th>universe_id</th>\n",
       "      <th>universe_training_year</th>\n",
       "      <th>universe_training_size</th>\n",
       "      <th>universe_scale</th>\n",
       "      <th>universe_model</th>\n",
       "      <th>universe_exclude_features</th>\n",
       "      <th>universe_exclude_subgroups</th>\n",
       "      <th>q_hat</th>\n",
       "      <th>coverage</th>\n",
       "      <th>avg_size</th>\n",
       "    </tr>\n",
       "  </thead>\n",
       "  <tbody>\n",
       "    <tr>\n",
       "      <th>0</th>\n",
       "      <td>9e0d1b470021e1248cc74c78d37ab9ea</td>\n",
       "      <td>2010_14</td>\n",
       "      <td>5k</td>\n",
       "      <td>scale</td>\n",
       "      <td>rf</td>\n",
       "      <td>nationality</td>\n",
       "      <td>drop-non-german</td>\n",
       "      <td>0.67</td>\n",
       "      <td>0.913209</td>\n",
       "      <td>1.155167</td>\n",
       "    </tr>\n",
       "  </tbody>\n",
       "</table>\n",
       "</div>"
      ],
      "text/plain": [
       "                        universe_id universe_training_year  \\\n",
       "0  9e0d1b470021e1248cc74c78d37ab9ea                2010_14   \n",
       "\n",
       "  universe_training_size universe_scale universe_model  \\\n",
       "0                     5k          scale             rf   \n",
       "\n",
       "  universe_exclude_features universe_exclude_subgroups  q_hat  coverage  \\\n",
       "0               nationality            drop-non-german   0.67  0.913209   \n",
       "\n",
       "   avg_size  \n",
       "0  1.155167  "
      ]
     },
     "execution_count": 50,
     "metadata": {},
     "output_type": "execute_result"
    }
   ],
   "source": [
    "cp_metrics_df"
   ]
  },
  {
   "cell_type": "markdown",
   "id": "ed608b0b",
   "metadata": {
    "papermill": {
     "duration": 0.011885,
     "end_time": "2025-08-19T18:42:22.131032",
     "exception": false,
     "start_time": "2025-08-19T18:42:22.119147",
     "status": "completed"
    },
    "tags": []
   },
   "source": [
    "Conditional coverage & looking at subgroups"
   ]
  },
  {
   "cell_type": "code",
   "execution_count": 51,
   "id": "8968c366",
   "metadata": {
    "execution": {
     "iopub.execute_input": "2025-08-19T18:42:22.157422Z",
     "iopub.status.busy": "2025-08-19T18:42:22.156335Z",
     "iopub.status.idle": "2025-08-19T18:42:22.418192Z",
     "shell.execute_reply": "2025-08-19T18:42:22.416694Z"
    },
    "papermill": {
     "duration": 0.279056,
     "end_time": "2025-08-19T18:42:22.421863",
     "exception": false,
     "start_time": "2025-08-19T18:42:22.142807",
     "status": "completed"
    },
    "tags": []
   },
   "outputs": [],
   "source": [
    "from fairness_multiverse.conformal import build_cp_groups\n",
    "\n",
    "cp_groups_df = build_cp_groups(pred_sets, y_true, X_test.index, org_test)"
   ]
  },
  {
   "cell_type": "code",
   "execution_count": 52,
   "id": "292ddabf",
   "metadata": {
    "execution": {
     "iopub.execute_input": "2025-08-19T18:42:22.462490Z",
     "iopub.status.busy": "2025-08-19T18:42:22.462177Z",
     "iopub.status.idle": "2025-08-19T18:42:23.325830Z",
     "shell.execute_reply": "2025-08-19T18:42:23.324392Z"
    },
    "papermill": {
     "duration": 0.880005,
     "end_time": "2025-08-19T18:42:23.327611",
     "exception": false,
     "start_time": "2025-08-19T18:42:22.447606",
     "status": "completed"
    },
    "tags": []
   },
   "outputs": [],
   "source": [
    "# Define covered = 1 if true_label is in the predicted set\n",
    "cp_groups_df['covered'] = cp_groups_df.apply(\n",
    "    lambda r: int(r['true_label'] in r['pred_set']),\n",
    "    axis=1\n",
    ")"
   ]
  },
  {
   "cell_type": "code",
   "execution_count": 53,
   "id": "3a261692",
   "metadata": {
    "execution": {
     "iopub.execute_input": "2025-08-19T18:42:23.371616Z",
     "iopub.status.busy": "2025-08-19T18:42:23.370378Z",
     "iopub.status.idle": "2025-08-19T18:42:23.392930Z",
     "shell.execute_reply": "2025-08-19T18:42:23.391765Z"
    },
    "papermill": {
     "duration": 0.054164,
     "end_time": "2025-08-19T18:42:23.395659",
     "exception": false,
     "start_time": "2025-08-19T18:42:23.341495",
     "status": "completed"
    },
    "tags": []
   },
   "outputs": [],
   "source": [
    "subgroups = ['frau1','nongerman','nongerman_male','nongerman_female']\n",
    "\n",
    "# Conditional coverage for subgroup==1\n",
    "cond_coverage = {\n",
    "    g: cp_groups_df.loc[cp_groups_df[g]==1, 'covered'].mean()\n",
    "    for g in subgroups\n",
    "}"
   ]
  },
  {
   "cell_type": "code",
   "execution_count": 54,
   "id": "894fd600",
   "metadata": {
    "execution": {
     "iopub.execute_input": "2025-08-19T18:42:23.432949Z",
     "iopub.status.busy": "2025-08-19T18:42:23.431868Z",
     "iopub.status.idle": "2025-08-19T18:42:23.442511Z",
     "shell.execute_reply": "2025-08-19T18:42:23.441230Z"
    },
    "papermill": {
     "duration": 0.027268,
     "end_time": "2025-08-19T18:42:23.444351",
     "exception": false,
     "start_time": "2025-08-19T18:42:23.417083",
     "status": "completed"
    },
    "tags": []
   },
   "outputs": [
    {
     "data": {
      "text/plain": [
       "{'frau1': 0.9116592532686346,\n",
       " 'nongerman': 0.9029921967102678,\n",
       " 'nongerman_male': 0.9165090516076736,\n",
       " 'nongerman_female': 0.8806259314456035}"
      ]
     },
     "execution_count": 54,
     "metadata": {},
     "output_type": "execute_result"
    }
   ],
   "source": [
    "cond_coverage"
   ]
  },
  {
   "cell_type": "code",
   "execution_count": 55,
   "id": "942895c7",
   "metadata": {
    "execution": {
     "iopub.execute_input": "2025-08-19T18:42:23.474203Z",
     "iopub.status.busy": "2025-08-19T18:42:23.473208Z",
     "iopub.status.idle": "2025-08-19T18:42:23.484242Z",
     "shell.execute_reply": "2025-08-19T18:42:23.483114Z"
    },
    "papermill": {
     "duration": 0.026544,
     "end_time": "2025-08-19T18:42:23.485883",
     "exception": false,
     "start_time": "2025-08-19T18:42:23.459339",
     "status": "completed"
    },
    "tags": []
   },
   "outputs": [],
   "source": [
    "for subgroup, cov in cond_coverage.items():\n",
    "    cp_metrics_df[f\"cov_{subgroup}\"] = cov"
   ]
  },
  {
   "cell_type": "code",
   "execution_count": 56,
   "id": "3970120f",
   "metadata": {
    "execution": {
     "iopub.execute_input": "2025-08-19T18:42:23.516138Z",
     "iopub.status.busy": "2025-08-19T18:42:23.515075Z",
     "iopub.status.idle": "2025-08-19T18:42:23.541290Z",
     "shell.execute_reply": "2025-08-19T18:42:23.540223Z"
    },
    "papermill": {
     "duration": 0.0425,
     "end_time": "2025-08-19T18:42:23.543522",
     "exception": false,
     "start_time": "2025-08-19T18:42:23.501022",
     "status": "completed"
    },
    "tags": []
   },
   "outputs": [
    {
     "data": {
      "text/html": [
       "<div>\n",
       "<style scoped>\n",
       "    .dataframe tbody tr th:only-of-type {\n",
       "        vertical-align: middle;\n",
       "    }\n",
       "\n",
       "    .dataframe tbody tr th {\n",
       "        vertical-align: top;\n",
       "    }\n",
       "\n",
       "    .dataframe thead th {\n",
       "        text-align: right;\n",
       "    }\n",
       "</style>\n",
       "<table border=\"1\" class=\"dataframe\">\n",
       "  <thead>\n",
       "    <tr style=\"text-align: right;\">\n",
       "      <th></th>\n",
       "      <th>universe_id</th>\n",
       "      <th>universe_training_year</th>\n",
       "      <th>universe_training_size</th>\n",
       "      <th>universe_scale</th>\n",
       "      <th>universe_model</th>\n",
       "      <th>universe_exclude_features</th>\n",
       "      <th>universe_exclude_subgroups</th>\n",
       "      <th>q_hat</th>\n",
       "      <th>coverage</th>\n",
       "      <th>avg_size</th>\n",
       "      <th>cov_frau1</th>\n",
       "      <th>cov_nongerman</th>\n",
       "      <th>cov_nongerman_male</th>\n",
       "      <th>cov_nongerman_female</th>\n",
       "    </tr>\n",
       "  </thead>\n",
       "  <tbody>\n",
       "    <tr>\n",
       "      <th>0</th>\n",
       "      <td>9e0d1b470021e1248cc74c78d37ab9ea</td>\n",
       "      <td>2010_14</td>\n",
       "      <td>5k</td>\n",
       "      <td>scale</td>\n",
       "      <td>rf</td>\n",
       "      <td>nationality</td>\n",
       "      <td>drop-non-german</td>\n",
       "      <td>0.67</td>\n",
       "      <td>0.913209</td>\n",
       "      <td>1.155167</td>\n",
       "      <td>0.911659</td>\n",
       "      <td>0.902992</td>\n",
       "      <td>0.916509</td>\n",
       "      <td>0.880626</td>\n",
       "    </tr>\n",
       "  </tbody>\n",
       "</table>\n",
       "</div>"
      ],
      "text/plain": [
       "                        universe_id universe_training_year  \\\n",
       "0  9e0d1b470021e1248cc74c78d37ab9ea                2010_14   \n",
       "\n",
       "  universe_training_size universe_scale universe_model  \\\n",
       "0                     5k          scale             rf   \n",
       "\n",
       "  universe_exclude_features universe_exclude_subgroups  q_hat  coverage  \\\n",
       "0               nationality            drop-non-german   0.67  0.913209   \n",
       "\n",
       "   avg_size  cov_frau1  cov_nongerman  cov_nongerman_male  \\\n",
       "0  1.155167   0.911659       0.902992            0.916509   \n",
       "\n",
       "   cov_nongerman_female  \n",
       "0              0.880626  "
      ]
     },
     "execution_count": 56,
     "metadata": {},
     "output_type": "execute_result"
    }
   ],
   "source": [
    "cp_metrics_df"
   ]
  },
  {
   "cell_type": "markdown",
   "id": "3fc519cc",
   "metadata": {
    "papermill": {
     "duration": 0.012889,
     "end_time": "2025-08-19T18:42:23.579035",
     "exception": false,
     "start_time": "2025-08-19T18:42:23.566146",
     "status": "completed"
    },
    "tags": []
   },
   "source": [
    "# (Fairness) Metrics"
   ]
  },
  {
   "cell_type": "code",
   "execution_count": 57,
   "id": "a2e5e155",
   "metadata": {
    "execution": {
     "iopub.execute_input": "2025-08-19T18:42:23.606702Z",
     "iopub.status.busy": "2025-08-19T18:42:23.605582Z",
     "iopub.status.idle": "2025-08-19T18:42:23.633118Z",
     "shell.execute_reply": "2025-08-19T18:42:23.632080Z"
    },
    "papermill": {
     "duration": 0.043949,
     "end_time": "2025-08-19T18:42:23.635331",
     "exception": false,
     "start_time": "2025-08-19T18:42:23.591382",
     "status": "completed"
    },
    "tags": []
   },
   "outputs": [],
   "source": [
    "colname_to_bin = \"maxdeutsch1\"\n",
    "majority_value = org_train[colname_to_bin].mode()[0]\n",
    "\n",
    "org_test[\"majmin\"] = np.where(org_test[colname_to_bin] == majority_value, \"majority\", \"minority\")"
   ]
  },
  {
   "cell_type": "code",
   "execution_count": 58,
   "id": "17e3e4d5",
   "metadata": {
    "execution": {
     "iopub.execute_input": "2025-08-19T18:42:23.675232Z",
     "iopub.status.busy": "2025-08-19T18:42:23.674134Z",
     "iopub.status.idle": "2025-08-19T18:42:25.385885Z",
     "shell.execute_reply": "2025-08-19T18:42:25.384635Z"
    },
    "papermill": {
     "duration": 1.730005,
     "end_time": "2025-08-19T18:42:25.389052",
     "exception": false,
     "start_time": "2025-08-19T18:42:23.659047",
     "status": "completed"
    },
    "tags": []
   },
   "outputs": [],
   "source": [
    "example_universe = universe.copy()\n",
    "example_universe[\"cutoff\"] = example_universe[\"cutoff\"][0]\n",
    "example_universe[\"eval_fairness_grouping\"] = example_universe[\"eval_fairness_grouping\"][0]\n",
    "fairness_dict, metric_frame = universe_analysis.compute_metrics(\n",
    "    example_universe,\n",
    "    y_pred_prob=probs_test,\n",
    "    y_test=y_true,\n",
    "    org_test=org_test,\n",
    ")"
   ]
  },
  {
   "cell_type": "markdown",
   "id": "1fb7a0e9",
   "metadata": {
    "papermill": {
     "duration": 0.015916,
     "end_time": "2025-08-19T18:42:25.438542",
     "exception": false,
     "start_time": "2025-08-19T18:42:25.422626",
     "status": "completed"
    },
    "tags": []
   },
   "source": [
    "# Overall"
   ]
  },
  {
   "cell_type": "markdown",
   "id": "be1784b1",
   "metadata": {
    "papermill": {
     "duration": 0.012203,
     "end_time": "2025-08-19T18:42:25.464950",
     "exception": false,
     "start_time": "2025-08-19T18:42:25.452747",
     "status": "completed"
    },
    "tags": []
   },
   "source": [
    "Main fairness target: Equalized Odds. Seems to be a better fit than equal opportunity, since we're not only interested in Y = 1. Seems to be a better fit than demographic parity, since we also care about accuracy, not just equal distribution of preds.\n",
    "\n",
    "Pick column for computation of fairness metrics\n",
    "\n",
    "Performance\n",
    "Overall performance measures, most interesting in relation to the measures split by group below"
   ]
  },
  {
   "cell_type": "code",
   "execution_count": 59,
   "id": "b7672bee",
   "metadata": {
    "execution": {
     "iopub.execute_input": "2025-08-19T18:42:25.495671Z",
     "iopub.status.busy": "2025-08-19T18:42:25.494501Z",
     "iopub.status.idle": "2025-08-19T18:42:25.510848Z",
     "shell.execute_reply": "2025-08-19T18:42:25.509542Z"
    },
    "papermill": {
     "duration": 0.034528,
     "end_time": "2025-08-19T18:42:25.512541",
     "exception": false,
     "start_time": "2025-08-19T18:42:25.478013",
     "status": "completed"
    },
    "tags": []
   },
   "outputs": [
    {
     "data": {
      "text/plain": [
       "accuracy                   0.194783\n",
       "balanced accuracy          0.531475\n",
       "f1                         0.238756\n",
       "precision                  0.135853\n",
       "false positive rate        0.921409\n",
       "false negative rate        0.015641\n",
       "selection rate             0.929484\n",
       "count                  89710.000000\n",
       "dtype: float64"
      ]
     },
     "execution_count": 59,
     "metadata": {},
     "output_type": "execute_result"
    }
   ],
   "source": [
    "metric_frame.overall"
   ]
  },
  {
   "cell_type": "markdown",
   "id": "d93333c9",
   "metadata": {
    "papermill": {
     "duration": 0.012468,
     "end_time": "2025-08-19T18:42:25.543561",
     "exception": false,
     "start_time": "2025-08-19T18:42:25.531093",
     "status": "completed"
    },
    "tags": []
   },
   "source": [
    "By Group"
   ]
  },
  {
   "cell_type": "code",
   "execution_count": 60,
   "id": "52256966",
   "metadata": {
    "execution": {
     "iopub.execute_input": "2025-08-19T18:42:25.676494Z",
     "iopub.status.busy": "2025-08-19T18:42:25.676133Z",
     "iopub.status.idle": "2025-08-19T18:42:25.693201Z",
     "shell.execute_reply": "2025-08-19T18:42:25.691252Z"
    },
    "papermill": {
     "duration": 0.137985,
     "end_time": "2025-08-19T18:42:25.694563",
     "exception": false,
     "start_time": "2025-08-19T18:42:25.556578",
     "status": "completed"
    },
    "tags": []
   },
   "outputs": [
    {
     "data": {
      "text/html": [
       "<div>\n",
       "<style scoped>\n",
       "    .dataframe tbody tr th:only-of-type {\n",
       "        vertical-align: middle;\n",
       "    }\n",
       "\n",
       "    .dataframe tbody tr th {\n",
       "        vertical-align: top;\n",
       "    }\n",
       "\n",
       "    .dataframe thead th {\n",
       "        text-align: right;\n",
       "    }\n",
       "</style>\n",
       "<table border=\"1\" class=\"dataframe\">\n",
       "  <thead>\n",
       "    <tr style=\"text-align: right;\">\n",
       "      <th></th>\n",
       "      <th>accuracy</th>\n",
       "      <th>balanced accuracy</th>\n",
       "      <th>f1</th>\n",
       "      <th>precision</th>\n",
       "      <th>false positive rate</th>\n",
       "      <th>false negative rate</th>\n",
       "      <th>selection rate</th>\n",
       "      <th>count</th>\n",
       "    </tr>\n",
       "    <tr>\n",
       "      <th>majmin</th>\n",
       "      <th></th>\n",
       "      <th></th>\n",
       "      <th></th>\n",
       "      <th></th>\n",
       "      <th></th>\n",
       "      <th></th>\n",
       "      <th></th>\n",
       "      <th></th>\n",
       "    </tr>\n",
       "  </thead>\n",
       "  <tbody>\n",
       "    <tr>\n",
       "      <th>majority</th>\n",
       "      <td>0.198352</td>\n",
       "      <td>0.534345</td>\n",
       "      <td>0.246255</td>\n",
       "      <td>0.140595</td>\n",
       "      <td>0.922339</td>\n",
       "      <td>0.008972</td>\n",
       "      <td>0.931415</td>\n",
       "      <td>69170.0</td>\n",
       "    </tr>\n",
       "    <tr>\n",
       "      <th>minority</th>\n",
       "      <td>0.182765</td>\n",
       "      <td>0.520139</td>\n",
       "      <td>0.212886</td>\n",
       "      <td>0.119738</td>\n",
       "      <td>0.918336</td>\n",
       "      <td>0.041385</td>\n",
       "      <td>0.922980</td>\n",
       "      <td>20540.0</td>\n",
       "    </tr>\n",
       "  </tbody>\n",
       "</table>\n",
       "</div>"
      ],
      "text/plain": [
       "          accuracy  balanced accuracy        f1  precision  \\\n",
       "majmin                                                       \n",
       "majority  0.198352           0.534345  0.246255   0.140595   \n",
       "minority  0.182765           0.520139  0.212886   0.119738   \n",
       "\n",
       "          false positive rate  false negative rate  selection rate    count  \n",
       "majmin                                                                       \n",
       "majority             0.922339             0.008972        0.931415  69170.0  \n",
       "minority             0.918336             0.041385        0.922980  20540.0  "
      ]
     },
     "execution_count": 60,
     "metadata": {},
     "output_type": "execute_result"
    }
   ],
   "source": [
    "metric_frame.by_group"
   ]
  },
  {
   "cell_type": "code",
   "execution_count": 61,
   "id": "6e6c20ae",
   "metadata": {
    "execution": {
     "iopub.execute_input": "2025-08-19T18:42:25.724641Z",
     "iopub.status.busy": "2025-08-19T18:42:25.723464Z",
     "iopub.status.idle": "2025-08-19T18:42:27.627711Z",
     "shell.execute_reply": "2025-08-19T18:42:27.626668Z"
    },
    "papermill": {
     "duration": 1.921389,
     "end_time": "2025-08-19T18:42:27.629109",
     "exception": false,
     "start_time": "2025-08-19T18:42:25.707720",
     "status": "completed"
    },
    "tags": []
   },
   "outputs": [
    {
     "data": {
      "text/plain": [
       "array([[<Axes: title={'center': 'accuracy'}, xlabel='majmin'>,\n",
       "        <Axes: title={'center': 'balanced accuracy'}, xlabel='majmin'>,\n",
       "        <Axes: title={'center': 'f1'}, xlabel='majmin'>],\n",
       "       [<Axes: title={'center': 'precision'}, xlabel='majmin'>,\n",
       "        <Axes: title={'center': 'false positive rate'}, xlabel='majmin'>,\n",
       "        <Axes: title={'center': 'false negative rate'}, xlabel='majmin'>],\n",
       "       [<Axes: title={'center': 'selection rate'}, xlabel='majmin'>,\n",
       "        <Axes: title={'center': 'count'}, xlabel='majmin'>,\n",
       "        <Axes: xlabel='majmin'>]], dtype=object)"
      ]
     },
     "execution_count": 61,
     "metadata": {},
     "output_type": "execute_result"
    },
    {
     "data": {
      "image/png": "[encoded data removed]",
      "text/plain": [
       "<Figure size 1200x800 with 9 Axes>"
      ]
     },
     "metadata": {},
     "output_type": "display_data"
    }
   ],
   "source": [
    "# In a graphic\n",
    "metric_frame.by_group.plot.bar(\n",
    "    subplots=True,\n",
    "    layout=[3, 3],\n",
    "    legend=False,\n",
    "    figsize=[12, 8],\n",
    "    title=\"Show all metrics\",\n",
    ")"
   ]
  },
  {
   "cell_type": "markdown",
   "id": "b2e433ae",
   "metadata": {
    "papermill": {
     "duration": 0.015009,
     "end_time": "2025-08-19T18:42:27.662073",
     "exception": false,
     "start_time": "2025-08-19T18:42:27.647064",
     "status": "completed"
    },
    "tags": []
   },
   "source": [
    "# Final Output"
   ]
  },
  {
   "cell_type": "code",
   "execution_count": 62,
   "id": "3871301e",
   "metadata": {
    "execution": {
     "iopub.execute_input": "2025-08-19T18:42:27.708249Z",
     "iopub.status.busy": "2025-08-19T18:42:27.706768Z",
     "iopub.status.idle": "2025-08-19T18:42:27.722671Z",
     "shell.execute_reply": "2025-08-19T18:42:27.721615Z"
    },
    "papermill": {
     "duration": 0.044174,
     "end_time": "2025-08-19T18:42:27.724568",
     "exception": false,
     "start_time": "2025-08-19T18:42:27.680394",
     "status": "completed"
    },
    "tags": []
   },
   "outputs": [
    {
     "data": {
      "text/plain": [
       "4"
      ]
     },
     "execution_count": 62,
     "metadata": {},
     "output_type": "execute_result"
    }
   ],
   "source": [
    "sub_universes = universe_analysis.generate_sub_universes()\n",
    "len(sub_universes)"
   ]
  },
  {
   "cell_type": "code",
   "execution_count": 63,
   "id": "d9cfdaca",
   "metadata": {
    "execution": {
     "iopub.execute_input": "2025-08-19T18:42:27.767246Z",
     "iopub.status.busy": "2025-08-19T18:42:27.765820Z",
     "iopub.status.idle": "2025-08-19T18:42:27.777283Z",
     "shell.execute_reply": "2025-08-19T18:42:27.775160Z"
    },
    "papermill": {
     "duration": 0.030366,
     "end_time": "2025-08-19T18:42:27.779316",
     "exception": false,
     "start_time": "2025-08-19T18:42:27.748950",
     "status": "completed"
    },
    "tags": []
   },
   "outputs": [],
   "source": [
    "def filter_sub_universe_data(sub_universe, org_test):\n",
    "    # Keep all rows — no filtering\n",
    "    keep_rows_mask = np.ones(org_test.shape[0], dtype=bool)\n",
    "\n",
    "    print(f\"[INFO] Keeping all rows: {keep_rows_mask.sum()} rows retained.\")\n",
    "    return keep_rows_mask"
   ]
  },
  {
   "cell_type": "code",
   "execution_count": 64,
   "id": "2bc31ac1",
   "metadata": {
    "execution": {
     "iopub.execute_input": "2025-08-19T18:42:27.828086Z",
     "iopub.status.busy": "2025-08-19T18:42:27.826707Z",
     "iopub.status.idle": "2025-08-19T18:42:34.762632Z",
     "shell.execute_reply": "2025-08-19T18:42:34.761395Z"
    },
    "papermill": {
     "duration": 6.957395,
     "end_time": "2025-08-19T18:42:34.764082",
     "exception": false,
     "start_time": "2025-08-19T18:42:27.806687",
     "status": "completed"
    },
    "tags": []
   },
   "outputs": [
    {
     "name": "stdout",
     "output_type": "stream",
     "text": [
      "Stopping execution_time clock.\n",
      "[INFO] Keeping all rows: 89710 rows retained.\n"
     ]
    },
    {
     "name": "stdout",
     "output_type": "stream",
     "text": [
      "[INFO] Keeping all rows: 89710 rows retained.\n"
     ]
    },
    {
     "name": "stdout",
     "output_type": "stream",
     "text": [
      "[INFO] Keeping all rows: 89710 rows retained.\n"
     ]
    },
    {
     "name": "stdout",
     "output_type": "stream",
     "text": [
      "[INFO] Keeping all rows: 89710 rows retained.\n"
     ]
    },
    {
     "data": {
      "text/html": [
       "<div>\n",
       "<style scoped>\n",
       "    .dataframe tbody tr th:only-of-type {\n",
       "        vertical-align: middle;\n",
       "    }\n",
       "\n",
       "    .dataframe tbody tr th {\n",
       "        vertical-align: top;\n",
       "    }\n",
       "\n",
       "    .dataframe thead th {\n",
       "        text-align: right;\n",
       "    }\n",
       "</style>\n",
       "<table border=\"1\" class=\"dataframe\">\n",
       "  <thead>\n",
       "    <tr style=\"text-align: right;\">\n",
       "      <th></th>\n",
       "      <th>run_no</th>\n",
       "      <th>universe_id</th>\n",
       "      <th>universe_settings</th>\n",
       "      <th>execution_time</th>\n",
       "      <th>test_size_n</th>\n",
       "      <th>test_size_frac</th>\n",
       "      <th>fair_main_equalized_odds_difference</th>\n",
       "      <th>fair_main_equalized_odds_ratio</th>\n",
       "      <th>fair_main_demographic_parity_difference</th>\n",
       "      <th>fair_main_demographic_parity_ratio</th>\n",
       "      <th>...</th>\n",
       "      <th>perf_grp_precision_0</th>\n",
       "      <th>perf_grp_precision_1</th>\n",
       "      <th>perf_grp_false positive rate_0</th>\n",
       "      <th>perf_grp_false positive rate_1</th>\n",
       "      <th>perf_grp_false negative rate_0</th>\n",
       "      <th>perf_grp_false negative rate_1</th>\n",
       "      <th>perf_grp_selection rate_0</th>\n",
       "      <th>perf_grp_selection rate_1</th>\n",
       "      <th>perf_grp_count_0</th>\n",
       "      <th>perf_grp_count_1</th>\n",
       "    </tr>\n",
       "  </thead>\n",
       "  <tbody>\n",
       "    <tr>\n",
       "      <th>0</th>\n",
       "      <td>3</td>\n",
       "      <td>9e0d1b470021e1248cc74c78d37ab9ea</td>\n",
       "      <td>{\"cutoff\": \"quantile_0.1\", \"eval_fairness_grou...</td>\n",
       "      <td>30.035002</td>\n",
       "      <td>89710</td>\n",
       "      <td>1.0</td>\n",
       "      <td>0.032414</td>\n",
       "      <td>0.967293</td>\n",
       "      <td>0.008436</td>\n",
       "      <td>0.990943</td>\n",
       "      <td>...</td>\n",
       "      <td>NaN</td>\n",
       "      <td>NaN</td>\n",
       "      <td>NaN</td>\n",
       "      <td>NaN</td>\n",
       "      <td>NaN</td>\n",
       "      <td>NaN</td>\n",
       "      <td>NaN</td>\n",
       "      <td>NaN</td>\n",
       "      <td>NaN</td>\n",
       "      <td>NaN</td>\n",
       "    </tr>\n",
       "    <tr>\n",
       "      <th>0</th>\n",
       "      <td>3</td>\n",
       "      <td>9e0d1b470021e1248cc74c78d37ab9ea</td>\n",
       "      <td>{\"cutoff\": \"quantile_0.1\", \"eval_fairness_grou...</td>\n",
       "      <td>30.035002</td>\n",
       "      <td>89710</td>\n",
       "      <td>1.0</td>\n",
       "      <td>0.032414</td>\n",
       "      <td>0.967293</td>\n",
       "      <td>0.008436</td>\n",
       "      <td>0.990943</td>\n",
       "      <td>...</td>\n",
       "      <td>0.119738</td>\n",
       "      <td>0.140595</td>\n",
       "      <td>0.918336</td>\n",
       "      <td>0.922339</td>\n",
       "      <td>0.041385</td>\n",
       "      <td>0.008972</td>\n",
       "      <td>0.922980</td>\n",
       "      <td>0.931415</td>\n",
       "      <td>20540.0</td>\n",
       "      <td>69170.0</td>\n",
       "    </tr>\n",
       "    <tr>\n",
       "      <th>0</th>\n",
       "      <td>3</td>\n",
       "      <td>9e0d1b470021e1248cc74c78d37ab9ea</td>\n",
       "      <td>{\"cutoff\": \"quantile_0.25\", \"eval_fairness_gro...</td>\n",
       "      <td>30.035002</td>\n",
       "      <td>89710</td>\n",
       "      <td>1.0</td>\n",
       "      <td>0.091957</td>\n",
       "      <td>0.902777</td>\n",
       "      <td>0.005182</td>\n",
       "      <td>0.993113</td>\n",
       "      <td>...</td>\n",
       "      <td>NaN</td>\n",
       "      <td>NaN</td>\n",
       "      <td>NaN</td>\n",
       "      <td>NaN</td>\n",
       "      <td>NaN</td>\n",
       "      <td>NaN</td>\n",
       "      <td>NaN</td>\n",
       "      <td>NaN</td>\n",
       "      <td>NaN</td>\n",
       "      <td>NaN</td>\n",
       "    </tr>\n",
       "    <tr>\n",
       "      <th>0</th>\n",
       "      <td>3</td>\n",
       "      <td>9e0d1b470021e1248cc74c78d37ab9ea</td>\n",
       "      <td>{\"cutoff\": \"quantile_0.25\", \"eval_fairness_gro...</td>\n",
       "      <td>30.035002</td>\n",
       "      <td>89710</td>\n",
       "      <td>1.0</td>\n",
       "      <td>0.091957</td>\n",
       "      <td>0.902777</td>\n",
       "      <td>0.005182</td>\n",
       "      <td>0.993113</td>\n",
       "      <td>...</td>\n",
       "      <td>0.131744</td>\n",
       "      <td>0.166109</td>\n",
       "      <td>0.733326</td>\n",
       "      <td>0.722955</td>\n",
       "      <td>0.146115</td>\n",
       "      <td>0.054158</td>\n",
       "      <td>0.747225</td>\n",
       "      <td>0.752407</td>\n",
       "      <td>20540.0</td>\n",
       "      <td>69170.0</td>\n",
       "    </tr>\n",
       "  </tbody>\n",
       "</table>\n",
       "<p>4 rows × 50 columns</p>\n",
       "</div>"
      ],
      "text/plain": [
       "  run_no                       universe_id  \\\n",
       "0      3  9e0d1b470021e1248cc74c78d37ab9ea   \n",
       "0      3  9e0d1b470021e1248cc74c78d37ab9ea   \n",
       "0      3  9e0d1b470021e1248cc74c78d37ab9ea   \n",
       "0      3  9e0d1b470021e1248cc74c78d37ab9ea   \n",
       "\n",
       "                                   universe_settings  execution_time  \\\n",
       "0  {\"cutoff\": \"quantile_0.1\", \"eval_fairness_grou...       30.035002   \n",
       "0  {\"cutoff\": \"quantile_0.1\", \"eval_fairness_grou...       30.035002   \n",
       "0  {\"cutoff\": \"quantile_0.25\", \"eval_fairness_gro...       30.035002   \n",
       "0  {\"cutoff\": \"quantile_0.25\", \"eval_fairness_gro...       30.035002   \n",
       "\n",
       "   test_size_n  test_size_frac  fair_main_equalized_odds_difference  \\\n",
       "0        89710             1.0                             0.032414   \n",
       "0        89710             1.0                             0.032414   \n",
       "0        89710             1.0                             0.091957   \n",
       "0        89710             1.0                             0.091957   \n",
       "\n",
       "   fair_main_equalized_odds_ratio  fair_main_demographic_parity_difference  \\\n",
       "0                        0.967293                                 0.008436   \n",
       "0                        0.967293                                 0.008436   \n",
       "0                        0.902777                                 0.005182   \n",
       "0                        0.902777                                 0.005182   \n",
       "\n",
       "   fair_main_demographic_parity_ratio  ...  perf_grp_precision_0  \\\n",
       "0                            0.990943  ...                   NaN   \n",
       "0                            0.990943  ...              0.119738   \n",
       "0                            0.993113  ...                   NaN   \n",
       "0                            0.993113  ...              0.131744   \n",
       "\n",
       "   perf_grp_precision_1  perf_grp_false positive rate_0  \\\n",
       "0                   NaN                             NaN   \n",
       "0              0.140595                        0.918336   \n",
       "0                   NaN                             NaN   \n",
       "0              0.166109                        0.733326   \n",
       "\n",
       "   perf_grp_false positive rate_1  perf_grp_false negative rate_0  \\\n",
       "0                             NaN                             NaN   \n",
       "0                        0.922339                        0.041385   \n",
       "0                             NaN                             NaN   \n",
       "0                        0.722955                        0.146115   \n",
       "\n",
       "   perf_grp_false negative rate_1  perf_grp_selection rate_0  \\\n",
       "0                             NaN                        NaN   \n",
       "0                        0.008972                   0.922980   \n",
       "0                             NaN                        NaN   \n",
       "0                        0.054158                   0.747225   \n",
       "\n",
       "   perf_grp_selection rate_1  perf_grp_count_0  perf_grp_count_1  \n",
       "0                        NaN               NaN               NaN  \n",
       "0                   0.931415           20540.0           69170.0  \n",
       "0                        NaN               NaN               NaN  \n",
       "0                   0.752407           20540.0           69170.0  \n",
       "\n",
       "[4 rows x 50 columns]"
      ]
     },
     "execution_count": 64,
     "metadata": {},
     "output_type": "execute_result"
    }
   ],
   "source": [
    "final_output = universe_analysis.generate_final_output(\n",
    "    y_pred_prob=probs_test,\n",
    "    y_test=y_true,\n",
    "    org_test=org_test,\n",
    "    filter_data=filter_sub_universe_data,\n",
    "    cp_metrics_df=cp_metrics_df,\n",
    "    save=True,\n",
    ")\n",
    "final_output"
   ]
  },
  {
   "cell_type": "code",
   "execution_count": null,
   "id": "8b80a1ff",
   "metadata": {
    "papermill": {
     "duration": 0.015845,
     "end_time": "2025-08-19T18:42:34.815388",
     "exception": false,
     "start_time": "2025-08-19T18:42:34.799543",
     "status": "completed"
    },
    "tags": []
   },
   "outputs": [],
   "source": []
  },
  {
   "cell_type": "code",
   "execution_count": null,
   "id": "275c9fad",
   "metadata": {
    "papermill": {
     "duration": 0.014741,
     "end_time": "2025-08-19T18:42:34.845078",
     "exception": false,
     "start_time": "2025-08-19T18:42:34.830337",
     "status": "completed"
    },
    "tags": []
   },
   "outputs": [],
   "source": []
  }
 ],
 "metadata": {
  "celltoolbar": "Tags",
  "kernelspec": {
   "display_name": "Python (CMA Fairness)",
   "language": "python",
   "name": "cma_fair_env"
  },
  "language_info": {
   "codemirror_mode": {
    "name": "ipython",
    "version": 3
   },
   "file_extension": ".py",
   "mimetype": "text/x-python",
   "name": "python",
   "nbconvert_exporter": "python",
   "pygments_lexer": "ipython3",
   "version": "3.10.12"
  },
  "papermill": {
   "default_parameters": {},
   "duration": 40.759278,
   "end_time": "2025-08-19T18:42:35.680397",
   "environment_variables": {},
   "exception": null,
   "input_path": "universe_analysis.ipynb",
   "output_path": "output/runs/3/notebooks/m_3-9e0d1b470021e1248cc74c78d37ab9ea.ipynb",
   "parameters": {
    "output_dir": "output",
    "run_no": "3",
    "seed": "2023",
    "universe": "{\"cutoff\": [\"quantile_0.1\", \"quantile_0.25\"], \"eval_fairness_grouping\": [\"majority-minority\", \"nationality-all\"], \"exclude_features\": \"nationality\", \"exclude_subgroups\": \"drop-non-german\", \"model\": \"rf\", \"scale\": \"scale\", \"training_size\": \"5k\", \"training_year\": \"2010_14\"}",
    "universe_id": "9e0d1b470021e1248cc74c78d37ab9ea"
   },
   "start_time": "2025-08-19T18:41:54.921119",
   "version": "2.6.0"
  }
 },
 "nbformat": 4,
 "nbformat_minor": 5
}