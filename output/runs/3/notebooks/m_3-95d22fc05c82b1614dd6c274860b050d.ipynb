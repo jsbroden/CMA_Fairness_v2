{
 "cells": [
  {
   "cell_type": "markdown",
   "id": "ef23dbb3",
   "metadata": {
    "papermill": {
     "duration": 0.015137,
     "end_time": "2025-08-19T18:35:32.845748",
     "exception": false,
     "start_time": "2025-08-19T18:35:32.830611",
     "status": "completed"
    },
    "tags": []
   },
   "source": [
    "# Setup"
   ]
  },
  {
   "cell_type": "code",
   "execution_count": 1,
   "id": "0bc8e7dc",
   "metadata": {
    "execution": {
     "iopub.execute_input": "2025-08-19T18:35:32.867844Z",
     "iopub.status.busy": "2025-08-19T18:35:32.866957Z",
     "iopub.status.idle": "2025-08-19T18:35:32.891163Z",
     "shell.execute_reply": "2025-08-19T18:35:32.889840Z"
    },
    "papermill": {
     "duration": 0.037538,
     "end_time": "2025-08-19T18:35:32.893683",
     "exception": false,
     "start_time": "2025-08-19T18:35:32.856145",
     "status": "completed"
    },
    "tags": []
   },
   "outputs": [
    {
     "name": "stdout",
     "output_type": "stream",
     "text": [
      "/dss/dsshome1/0C/ra93lal2/cma/CMA_Fairness_v2\n"
     ]
    },
    {
     "name": "stderr",
     "output_type": "stream",
     "text": [
      "/dss/dsshome1/0C/ra93lal2/.local/share/virtualenvs/CMA_Fairness_v2-3j10GkSs/lib/python3.10/site-packages/IPython/core/magics/osm.py:393: UserWarning: This is now an optional IPython functionality, using bookmarks requires you to install the `pickleshare` library.\n",
      "  bkms = self.shell.db.get('bookmarks', {})\n",
      "/dss/dsshome1/0C/ra93lal2/.local/share/virtualenvs/CMA_Fairness_v2-3j10GkSs/lib/python3.10/site-packages/IPython/core/magics/osm.py:417: UserWarning: This is now an optional IPython functionality, setting dhist requires you to install the `pickleshare` library.\n",
      "  self.shell.db['dhist'] = compress_dhist(dhist)[-100:]\n"
     ]
    }
   ],
   "source": [
    "%cd ~/cma/CMA_Fairness_v2"
   ]
  },
  {
   "cell_type": "markdown",
   "id": "9d235661",
   "metadata": {
    "papermill": {
     "duration": 0.01142,
     "end_time": "2025-08-19T18:35:32.920787",
     "exception": false,
     "start_time": "2025-08-19T18:35:32.909367",
     "status": "completed"
    },
    "tags": []
   },
   "source": [
    "The following cell holds the definition of our parameters, these values can be overriden by rendering the with e.g. the following command:\n",
    "\n",
    "papermill -p alpha 0.2 -p ratio 0.3 universe_analysis.ipynb output/test_run.ipynb"
   ]
  },
  {
   "cell_type": "code",
   "execution_count": 2,
   "id": "4a789d8e",
   "metadata": {
    "execution": {
     "iopub.execute_input": "2025-08-19T18:35:32.939573Z",
     "iopub.status.busy": "2025-08-19T18:35:32.939094Z",
     "iopub.status.idle": "2025-08-19T18:35:32.943936Z",
     "shell.execute_reply": "2025-08-19T18:35:32.943106Z"
    },
    "papermill": {
     "duration": 0.016263,
     "end_time": "2025-08-19T18:35:32.945762",
     "exception": false,
     "start_time": "2025-08-19T18:35:32.929499",
     "status": "completed"
    },
    "tags": []
   },
   "outputs": [
    {
     "name": "stdout",
     "output_type": "stream",
     "text": [
      "Current working directory: /dss/dsshome1/0C/ra93lal2/cma/CMA_Fairness_v2\n"
     ]
    }
   ],
   "source": [
    "import os\n",
    "print(\"Current working directory:\", os.getcwd())"
   ]
  },
  {
   "cell_type": "code",
   "execution_count": 3,
   "id": "4132aaed",
   "metadata": {
    "execution": {
     "iopub.execute_input": "2025-08-19T18:35:32.966110Z",
     "iopub.status.busy": "2025-08-19T18:35:32.965612Z",
     "iopub.status.idle": "2025-08-19T18:35:32.970476Z",
     "shell.execute_reply": "2025-08-19T18:35:32.969684Z"
    },
    "papermill": {
     "duration": 0.015601,
     "end_time": "2025-08-19T18:35:32.971798",
     "exception": false,
     "start_time": "2025-08-19T18:35:32.956197",
     "status": "completed"
    },
    "tags": [
     "parameters"
    ]
   },
   "outputs": [],
   "source": [
    "run_no = 0\n",
    "universe_id = \"test\"\n",
    "universe = {\n",
    "    \"training_size\": \"5k\", # \"25k\", \"5k\", \"1k\"\n",
    "    \"training_year\": \"2012_14\", # \"2014\", \"2012_14\", \"2010_14\"\n",
    "    \"scale\": \"scale\", # \"scale\", \"do-not-scale\",\n",
    "    \"model\": \"elasticnet\", # \"logreg\", \"penalized_logreg\", \"rf\", \"gbm\", \"elasticnet\"\n",
    "    \"cutoff\": [\"quantile_0.15\", \"quantile_0.30\"],\n",
    "    \"exclude_features\": \"age\", # \"none\", \"nationality\", \"sex\", \"nationality-sex\", \"age\"\n",
    "    \"exclude_subgroups\": \"drop-non-german\", # \"keep-all\", \"drop-non-german\"\n",
    "    \"eval_fairness_grouping\": [\"majority-minority\", \"nationality-all\"]\n",
    "}\n",
    "\n",
    "output_dir=\"./output\"\n",
    "seed=0"
   ]
  },
  {
   "cell_type": "code",
   "execution_count": 4,
   "id": "8da23ca3",
   "metadata": {
    "execution": {
     "iopub.execute_input": "2025-08-19T18:35:32.991583Z",
     "iopub.status.busy": "2025-08-19T18:35:32.991087Z",
     "iopub.status.idle": "2025-08-19T18:35:32.995367Z",
     "shell.execute_reply": "2025-08-19T18:35:32.994589Z"
    },
    "papermill": {
     "duration": 0.015785,
     "end_time": "2025-08-19T18:35:32.996783",
     "exception": false,
     "start_time": "2025-08-19T18:35:32.980998",
     "status": "completed"
    },
    "tags": [
     "injected-parameters"
    ]
   },
   "outputs": [],
   "source": [
    "# Parameters\n",
    "universe_id = \"95d22fc05c82b1614dd6c274860b050d\"\n",
    "run_no = \"3\"\n",
    "universe = \"{\\\"cutoff\\\": [\\\"quantile_0.1\\\", \\\"quantile_0.25\\\"], \\\"eval_fairness_grouping\\\": [\\\"majority-minority\\\", \\\"nationality-all\\\"], \\\"exclude_features\\\": \\\"nationality-sex\\\", \\\"exclude_subgroups\\\": \\\"drop-non-german\\\", \\\"model\\\": \\\"logreg\\\", \\\"scale\\\": \\\"do-not-scale\\\", \\\"training_size\\\": \\\"5k\\\", \\\"training_year\\\": \\\"2012_14\\\"}\"\n",
    "output_dir = \"output\"\n",
    "seed = \"2023\"\n"
   ]
  },
  {
   "cell_type": "code",
   "execution_count": 5,
   "id": "a5d7941f",
   "metadata": {
    "execution": {
     "iopub.execute_input": "2025-08-19T18:35:33.018194Z",
     "iopub.status.busy": "2025-08-19T18:35:33.017243Z",
     "iopub.status.idle": "2025-08-19T18:35:33.028020Z",
     "shell.execute_reply": "2025-08-19T18:35:33.027163Z"
    },
    "papermill": {
     "duration": 0.024473,
     "end_time": "2025-08-19T18:35:33.030051",
     "exception": false,
     "start_time": "2025-08-19T18:35:33.005578",
     "status": "completed"
    },
    "tags": []
   },
   "outputs": [],
   "source": [
    "import json\n",
    "if isinstance(universe, str):\n",
    "    universe = json.loads(universe)"
   ]
  },
  {
   "cell_type": "code",
   "execution_count": 6,
   "id": "7076ccb1",
   "metadata": {
    "execution": {
     "iopub.execute_input": "2025-08-19T18:35:33.066760Z",
     "iopub.status.busy": "2025-08-19T18:35:33.066123Z",
     "iopub.status.idle": "2025-08-19T18:35:33.111119Z",
     "shell.execute_reply": "2025-08-19T18:35:33.110512Z"
    },
    "papermill": {
     "duration": 0.060296,
     "end_time": "2025-08-19T18:35:33.113956",
     "exception": false,
     "start_time": "2025-08-19T18:35:33.053660",
     "status": "completed"
    },
    "tags": []
   },
   "outputs": [],
   "source": [
    "# Auto-reload the custom package\n",
    "%load_ext autoreload\n",
    "%autoreload 1\n",
    "%aimport fairness_multiverse"
   ]
  },
  {
   "cell_type": "code",
   "execution_count": 7,
   "id": "94c8eb93",
   "metadata": {
    "execution": {
     "iopub.execute_input": "2025-08-19T18:35:33.147888Z",
     "iopub.status.busy": "2025-08-19T18:35:33.147609Z",
     "iopub.status.idle": "2025-08-19T18:35:34.754078Z",
     "shell.execute_reply": "2025-08-19T18:35:34.752921Z"
    },
    "papermill": {
     "duration": 1.623098,
     "end_time": "2025-08-19T18:35:34.756039",
     "exception": false,
     "start_time": "2025-08-19T18:35:33.132941",
     "status": "completed"
    },
    "tags": []
   },
   "outputs": [],
   "source": [
    "from fairness_multiverse.universe import UniverseAnalysis\n",
    "\n",
    "universe_analysis = UniverseAnalysis(\n",
    "    run_no = run_no,\n",
    "    universe_id = universe_id,\n",
    "    universe = universe,\n",
    "    output_dir=output_dir,\n",
    ")"
   ]
  },
  {
   "cell_type": "code",
   "execution_count": 8,
   "id": "2a6381cf",
   "metadata": {
    "execution": {
     "iopub.execute_input": "2025-08-19T18:35:34.785174Z",
     "iopub.status.busy": "2025-08-19T18:35:34.784363Z",
     "iopub.status.idle": "2025-08-19T18:35:34.794446Z",
     "shell.execute_reply": "2025-08-19T18:35:34.793154Z"
    },
    "papermill": {
     "duration": 0.027427,
     "end_time": "2025-08-19T18:35:34.796416",
     "exception": false,
     "start_time": "2025-08-19T18:35:34.768989",
     "status": "completed"
    },
    "tags": []
   },
   "outputs": [
    {
     "name": "stdout",
     "output_type": "stream",
     "text": [
      "Using Seed: 2023\n"
     ]
    }
   ],
   "source": [
    "import numpy as np\n",
    "parsed_seed = int(seed)\n",
    "np.random.seed(parsed_seed)\n",
    "print(f\"Using Seed: {parsed_seed}\")"
   ]
  },
  {
   "cell_type": "markdown",
   "id": "b6e958b4",
   "metadata": {
    "papermill": {
     "duration": 0.011322,
     "end_time": "2025-08-19T18:35:34.824827",
     "exception": false,
     "start_time": "2025-08-19T18:35:34.813505",
     "status": "completed"
    },
    "tags": []
   },
   "source": [
    "# Loading Data"
   ]
  },
  {
   "cell_type": "code",
   "execution_count": 9,
   "id": "98701482",
   "metadata": {
    "execution": {
     "iopub.execute_input": "2025-08-19T18:35:34.846386Z",
     "iopub.status.busy": "2025-08-19T18:35:34.845335Z",
     "iopub.status.idle": "2025-08-19T18:35:44.552707Z",
     "shell.execute_reply": "2025-08-19T18:35:44.551735Z"
    },
    "papermill": {
     "duration": 9.720164,
     "end_time": "2025-08-19T18:35:44.553945",
     "exception": false,
     "start_time": "2025-08-19T18:35:34.833781",
     "status": "completed"
    },
    "tags": []
   },
   "outputs": [
    {
     "name": "stdout",
     "output_type": "stream",
     "text": [
      "Loading SIAB data from cache: data/siab_cached.csv.gz\n"
     ]
    },
    {
     "name": "stdout",
     "output_type": "stream",
     "text": [
      "(643690, 164)\n"
     ]
    }
   ],
   "source": [
    "from pathlib import Path\n",
    "import pandas as pd\n",
    "\n",
    "# File paths\n",
    "raw_file = Path(\"data/raw/siab.csv\")\n",
    "cache_file = Path(\"data/siab_cached.csv.gz\")\n",
    "\n",
    "# Ensure cache directory exists\n",
    "cache_file.parent.mkdir(parents=True, exist_ok=True)\n",
    "\n",
    "# Load with simple caching\n",
    "if cache_file.exists():\n",
    "    print(f\"Loading SIAB data from cache: {cache_file}\")\n",
    "    siab = pd.read_csv(cache_file, compression='gzip')\n",
    "else:\n",
    "    print(f\"Cache not found. Reading raw SIAB data: {raw_file}\")\n",
    "    siab = pd.read_csv(raw_file)\n",
    "    siab.to_csv(cache_file, index=False, compression='gzip')\n",
    "    print(f\"Cached SIAB data to: {cache_file}\")\n",
    "\n",
    "print(siab.shape)"
   ]
  },
  {
   "cell_type": "code",
   "execution_count": 10,
   "id": "058d2abb",
   "metadata": {
    "execution": {
     "iopub.execute_input": "2025-08-19T18:35:44.580325Z",
     "iopub.status.busy": "2025-08-19T18:35:44.579265Z",
     "iopub.status.idle": "2025-08-19T18:35:44.774974Z",
     "shell.execute_reply": "2025-08-19T18:35:44.774279Z"
    },
    "papermill": {
     "duration": 0.20904,
     "end_time": "2025-08-19T18:35:44.777649",
     "exception": false,
     "start_time": "2025-08-19T18:35:44.568609",
     "status": "completed"
    },
    "tags": []
   },
   "outputs": [
    {
     "data": {
      "text/html": [
       "<div>\n",
       "<style scoped>\n",
       "    .dataframe tbody tr th:only-of-type {\n",
       "        vertical-align: middle;\n",
       "    }\n",
       "\n",
       "    .dataframe tbody tr th {\n",
       "        vertical-align: top;\n",
       "    }\n",
       "\n",
       "    .dataframe thead th {\n",
       "        text-align: right;\n",
       "    }\n",
       "</style>\n",
       "<table border=\"1\" class=\"dataframe\">\n",
       "  <thead>\n",
       "    <tr style=\"text-align: right;\">\n",
       "      <th></th>\n",
       "      <th>persnr</th>\n",
       "      <th>year</th>\n",
       "      <th>nrEntry</th>\n",
       "      <th>ltue</th>\n",
       "      <th>employed_before</th>\n",
       "      <th>receipt_leh_before</th>\n",
       "      <th>receipt_lhg_before</th>\n",
       "      <th>se_before</th>\n",
       "      <th>ASU_notue_seeking_before</th>\n",
       "      <th>ASU_other_before</th>\n",
       "      <th>...</th>\n",
       "      <th>minijob_tot_dur_byage</th>\n",
       "      <th>ft_tot_dur_byage</th>\n",
       "      <th>befrist_tot_dur_byage</th>\n",
       "      <th>leih_tot_dur_byage</th>\n",
       "      <th>LHG_tot_dur_byage</th>\n",
       "      <th>LEH_tot_dur_byage</th>\n",
       "      <th>almp_tot_dur_byage</th>\n",
       "      <th>almp_aw_tot_dur_byage</th>\n",
       "      <th>se_tot_dur_byage</th>\n",
       "      <th>seeking1_tot_dur_byage</th>\n",
       "    </tr>\n",
       "  </thead>\n",
       "  <tbody>\n",
       "    <tr>\n",
       "      <th>0</th>\n",
       "      <td>7</td>\n",
       "      <td>2015</td>\n",
       "      <td>1</td>\n",
       "      <td>0</td>\n",
       "      <td>1</td>\n",
       "      <td>0</td>\n",
       "      <td>0</td>\n",
       "      <td>0</td>\n",
       "      <td>1</td>\n",
       "      <td>0</td>\n",
       "      <td>...</td>\n",
       "      <td>0.000000</td>\n",
       "      <td>0.000000</td>\n",
       "      <td>15.043478</td>\n",
       "      <td>0.000000</td>\n",
       "      <td>0.000000</td>\n",
       "      <td>0.000000</td>\n",
       "      <td>0.000000</td>\n",
       "      <td>0.000000</td>\n",
       "      <td>0.000000</td>\n",
       "      <td>0.000000</td>\n",
       "    </tr>\n",
       "    <tr>\n",
       "      <th>1</th>\n",
       "      <td>18</td>\n",
       "      <td>2010</td>\n",
       "      <td>1</td>\n",
       "      <td>1</td>\n",
       "      <td>0</td>\n",
       "      <td>0</td>\n",
       "      <td>0</td>\n",
       "      <td>0</td>\n",
       "      <td>0</td>\n",
       "      <td>0</td>\n",
       "      <td>...</td>\n",
       "      <td>0.000000</td>\n",
       "      <td>0.000000</td>\n",
       "      <td>0.000000</td>\n",
       "      <td>0.000000</td>\n",
       "      <td>0.000000</td>\n",
       "      <td>0.000000</td>\n",
       "      <td>0.000000</td>\n",
       "      <td>0.000000</td>\n",
       "      <td>0.000000</td>\n",
       "      <td>0.000000</td>\n",
       "    </tr>\n",
       "    <tr>\n",
       "      <th>2</th>\n",
       "      <td>18</td>\n",
       "      <td>2011</td>\n",
       "      <td>2</td>\n",
       "      <td>0</td>\n",
       "      <td>1</td>\n",
       "      <td>0</td>\n",
       "      <td>1</td>\n",
       "      <td>0</td>\n",
       "      <td>1</td>\n",
       "      <td>0</td>\n",
       "      <td>...</td>\n",
       "      <td>2.714286</td>\n",
       "      <td>2.714286</td>\n",
       "      <td>0.000000</td>\n",
       "      <td>0.000000</td>\n",
       "      <td>10.775510</td>\n",
       "      <td>0.000000</td>\n",
       "      <td>8.367347</td>\n",
       "      <td>0.000000</td>\n",
       "      <td>0.000000</td>\n",
       "      <td>9.836735</td>\n",
       "    </tr>\n",
       "    <tr>\n",
       "      <th>3</th>\n",
       "      <td>18</td>\n",
       "      <td>2012</td>\n",
       "      <td>3</td>\n",
       "      <td>0</td>\n",
       "      <td>1</td>\n",
       "      <td>0</td>\n",
       "      <td>1</td>\n",
       "      <td>0</td>\n",
       "      <td>1</td>\n",
       "      <td>0</td>\n",
       "      <td>...</td>\n",
       "      <td>4.200000</td>\n",
       "      <td>4.200000</td>\n",
       "      <td>0.000000</td>\n",
       "      <td>0.000000</td>\n",
       "      <td>12.100000</td>\n",
       "      <td>0.000000</td>\n",
       "      <td>9.400000</td>\n",
       "      <td>0.000000</td>\n",
       "      <td>0.000000</td>\n",
       "      <td>9.960000</td>\n",
       "    </tr>\n",
       "    <tr>\n",
       "      <th>4</th>\n",
       "      <td>18</td>\n",
       "      <td>2012</td>\n",
       "      <td>4</td>\n",
       "      <td>0</td>\n",
       "      <td>1</td>\n",
       "      <td>0</td>\n",
       "      <td>1</td>\n",
       "      <td>0</td>\n",
       "      <td>1</td>\n",
       "      <td>0</td>\n",
       "      <td>...</td>\n",
       "      <td>5.460000</td>\n",
       "      <td>5.460000</td>\n",
       "      <td>0.000000</td>\n",
       "      <td>0.000000</td>\n",
       "      <td>13.360000</td>\n",
       "      <td>0.000000</td>\n",
       "      <td>10.320000</td>\n",
       "      <td>0.000000</td>\n",
       "      <td>0.000000</td>\n",
       "      <td>10.280000</td>\n",
       "    </tr>\n",
       "    <tr>\n",
       "      <th>...</th>\n",
       "      <td>...</td>\n",
       "      <td>...</td>\n",
       "      <td>...</td>\n",
       "      <td>...</td>\n",
       "      <td>...</td>\n",
       "      <td>...</td>\n",
       "      <td>...</td>\n",
       "      <td>...</td>\n",
       "      <td>...</td>\n",
       "      <td>...</td>\n",
       "      <td>...</td>\n",
       "      <td>...</td>\n",
       "      <td>...</td>\n",
       "      <td>...</td>\n",
       "      <td>...</td>\n",
       "      <td>...</td>\n",
       "      <td>...</td>\n",
       "      <td>...</td>\n",
       "      <td>...</td>\n",
       "      <td>...</td>\n",
       "      <td>...</td>\n",
       "    </tr>\n",
       "    <tr>\n",
       "      <th>643685</th>\n",
       "      <td>1827860</td>\n",
       "      <td>2013</td>\n",
       "      <td>1</td>\n",
       "      <td>0</td>\n",
       "      <td>0</td>\n",
       "      <td>0</td>\n",
       "      <td>1</td>\n",
       "      <td>0</td>\n",
       "      <td>0</td>\n",
       "      <td>1</td>\n",
       "      <td>...</td>\n",
       "      <td>0.000000</td>\n",
       "      <td>0.000000</td>\n",
       "      <td>0.000000</td>\n",
       "      <td>0.000000</td>\n",
       "      <td>0.612903</td>\n",
       "      <td>0.000000</td>\n",
       "      <td>0.000000</td>\n",
       "      <td>0.000000</td>\n",
       "      <td>0.000000</td>\n",
       "      <td>0.000000</td>\n",
       "    </tr>\n",
       "    <tr>\n",
       "      <th>643686</th>\n",
       "      <td>1827860</td>\n",
       "      <td>2015</td>\n",
       "      <td>2</td>\n",
       "      <td>1</td>\n",
       "      <td>0</td>\n",
       "      <td>0</td>\n",
       "      <td>1</td>\n",
       "      <td>0</td>\n",
       "      <td>1</td>\n",
       "      <td>0</td>\n",
       "      <td>...</td>\n",
       "      <td>0.000000</td>\n",
       "      <td>0.000000</td>\n",
       "      <td>0.212121</td>\n",
       "      <td>0.212121</td>\n",
       "      <td>17.363636</td>\n",
       "      <td>0.000000</td>\n",
       "      <td>8.909091</td>\n",
       "      <td>0.000000</td>\n",
       "      <td>0.000000</td>\n",
       "      <td>7.121212</td>\n",
       "    </tr>\n",
       "    <tr>\n",
       "      <th>643687</th>\n",
       "      <td>1827860</td>\n",
       "      <td>2016</td>\n",
       "      <td>3</td>\n",
       "      <td>1</td>\n",
       "      <td>0</td>\n",
       "      <td>0</td>\n",
       "      <td>1</td>\n",
       "      <td>1</td>\n",
       "      <td>0</td>\n",
       "      <td>1</td>\n",
       "      <td>...</td>\n",
       "      <td>0.000000</td>\n",
       "      <td>0.000000</td>\n",
       "      <td>0.294118</td>\n",
       "      <td>0.205882</td>\n",
       "      <td>34.705882</td>\n",
       "      <td>0.000000</td>\n",
       "      <td>10.352941</td>\n",
       "      <td>1.705882</td>\n",
       "      <td>1.705882</td>\n",
       "      <td>23.911765</td>\n",
       "    </tr>\n",
       "    <tr>\n",
       "      <th>643688</th>\n",
       "      <td>1827869</td>\n",
       "      <td>2013</td>\n",
       "      <td>1</td>\n",
       "      <td>1</td>\n",
       "      <td>1</td>\n",
       "      <td>0</td>\n",
       "      <td>0</td>\n",
       "      <td>0</td>\n",
       "      <td>1</td>\n",
       "      <td>0</td>\n",
       "      <td>...</td>\n",
       "      <td>0.000000</td>\n",
       "      <td>0.000000</td>\n",
       "      <td>0.000000</td>\n",
       "      <td>0.000000</td>\n",
       "      <td>0.000000</td>\n",
       "      <td>0.525424</td>\n",
       "      <td>0.000000</td>\n",
       "      <td>0.000000</td>\n",
       "      <td>0.000000</td>\n",
       "      <td>0.000000</td>\n",
       "    </tr>\n",
       "    <tr>\n",
       "      <th>643689</th>\n",
       "      <td>1827869</td>\n",
       "      <td>2014</td>\n",
       "      <td>2</td>\n",
       "      <td>0</td>\n",
       "      <td>0</td>\n",
       "      <td>1</td>\n",
       "      <td>0</td>\n",
       "      <td>0</td>\n",
       "      <td>1</td>\n",
       "      <td>0</td>\n",
       "      <td>...</td>\n",
       "      <td>0.000000</td>\n",
       "      <td>0.666667</td>\n",
       "      <td>0.666667</td>\n",
       "      <td>0.000000</td>\n",
       "      <td>0.000000</td>\n",
       "      <td>8.950000</td>\n",
       "      <td>1.033333</td>\n",
       "      <td>0.083333</td>\n",
       "      <td>0.083333</td>\n",
       "      <td>8.133333</td>\n",
       "    </tr>\n",
       "  </tbody>\n",
       "</table>\n",
       "<p>643690 rows × 164 columns</p>\n",
       "</div>"
      ],
      "text/plain": [
       "         persnr  year  nrEntry  ltue  employed_before  receipt_leh_before  \\\n",
       "0             7  2015        1     0                1                   0   \n",
       "1            18  2010        1     1                0                   0   \n",
       "2            18  2011        2     0                1                   0   \n",
       "3            18  2012        3     0                1                   0   \n",
       "4            18  2012        4     0                1                   0   \n",
       "...         ...   ...      ...   ...              ...                 ...   \n",
       "643685  1827860  2013        1     0                0                   0   \n",
       "643686  1827860  2015        2     1                0                   0   \n",
       "643687  1827860  2016        3     1                0                   0   \n",
       "643688  1827869  2013        1     1                1                   0   \n",
       "643689  1827869  2014        2     0                0                   1   \n",
       "\n",
       "        receipt_lhg_before  se_before  ASU_notue_seeking_before  \\\n",
       "0                        0          0                         1   \n",
       "1                        0          0                         0   \n",
       "2                        1          0                         1   \n",
       "3                        1          0                         1   \n",
       "4                        1          0                         1   \n",
       "...                    ...        ...                       ...   \n",
       "643685                   1          0                         0   \n",
       "643686                   1          0                         1   \n",
       "643687                   1          1                         0   \n",
       "643688                   0          0                         1   \n",
       "643689                   0          0                         1   \n",
       "\n",
       "        ASU_other_before  ...  minijob_tot_dur_byage  ft_tot_dur_byage  \\\n",
       "0                      0  ...               0.000000          0.000000   \n",
       "1                      0  ...               0.000000          0.000000   \n",
       "2                      0  ...               2.714286          2.714286   \n",
       "3                      0  ...               4.200000          4.200000   \n",
       "4                      0  ...               5.460000          5.460000   \n",
       "...                  ...  ...                    ...               ...   \n",
       "643685                 1  ...               0.000000          0.000000   \n",
       "643686                 0  ...               0.000000          0.000000   \n",
       "643687                 1  ...               0.000000          0.000000   \n",
       "643688                 0  ...               0.000000          0.000000   \n",
       "643689                 0  ...               0.000000          0.666667   \n",
       "\n",
       "        befrist_tot_dur_byage  leih_tot_dur_byage  LHG_tot_dur_byage  \\\n",
       "0                   15.043478            0.000000           0.000000   \n",
       "1                    0.000000            0.000000           0.000000   \n",
       "2                    0.000000            0.000000          10.775510   \n",
       "3                    0.000000            0.000000          12.100000   \n",
       "4                    0.000000            0.000000          13.360000   \n",
       "...                       ...                 ...                ...   \n",
       "643685               0.000000            0.000000           0.612903   \n",
       "643686               0.212121            0.212121          17.363636   \n",
       "643687               0.294118            0.205882          34.705882   \n",
       "643688               0.000000            0.000000           0.000000   \n",
       "643689               0.666667            0.000000           0.000000   \n",
       "\n",
       "        LEH_tot_dur_byage  almp_tot_dur_byage  almp_aw_tot_dur_byage  \\\n",
       "0                0.000000            0.000000               0.000000   \n",
       "1                0.000000            0.000000               0.000000   \n",
       "2                0.000000            8.367347               0.000000   \n",
       "3                0.000000            9.400000               0.000000   \n",
       "4                0.000000           10.320000               0.000000   \n",
       "...                   ...                 ...                    ...   \n",
       "643685           0.000000            0.000000               0.000000   \n",
       "643686           0.000000            8.909091               0.000000   \n",
       "643687           0.000000           10.352941               1.705882   \n",
       "643688           0.525424            0.000000               0.000000   \n",
       "643689           8.950000            1.033333               0.083333   \n",
       "\n",
       "        se_tot_dur_byage  seeking1_tot_dur_byage  \n",
       "0               0.000000                0.000000  \n",
       "1               0.000000                0.000000  \n",
       "2               0.000000                9.836735  \n",
       "3               0.000000                9.960000  \n",
       "4               0.000000               10.280000  \n",
       "...                  ...                     ...  \n",
       "643685          0.000000                0.000000  \n",
       "643686          0.000000                7.121212  \n",
       "643687          1.705882               23.911765  \n",
       "643688          0.000000                0.000000  \n",
       "643689          0.083333                8.133333  \n",
       "\n",
       "[643690 rows x 164 columns]"
      ]
     },
     "execution_count": 10,
     "metadata": {},
     "output_type": "execute_result"
    }
   ],
   "source": [
    "siab"
   ]
  },
  {
   "cell_type": "markdown",
   "id": "1f87e805",
   "metadata": {
    "papermill": {
     "duration": 0.011518,
     "end_time": "2025-08-19T18:35:44.810886",
     "exception": false,
     "start_time": "2025-08-19T18:35:44.799368",
     "status": "completed"
    },
    "tags": []
   },
   "source": [
    "# Splitting Data and Setting Training Data Size"
   ]
  },
  {
   "cell_type": "code",
   "execution_count": 11,
   "id": "910ae358",
   "metadata": {
    "execution": {
     "iopub.execute_input": "2025-08-19T18:35:44.832691Z",
     "iopub.status.busy": "2025-08-19T18:35:44.831507Z",
     "iopub.status.idle": "2025-08-19T18:35:45.498227Z",
     "shell.execute_reply": "2025-08-19T18:35:45.497485Z"
    },
    "papermill": {
     "duration": 0.679061,
     "end_time": "2025-08-19T18:35:45.499744",
     "exception": false,
     "start_time": "2025-08-19T18:35:44.820683",
     "status": "completed"
    },
    "tags": []
   },
   "outputs": [],
   "source": [
    "from fairness_multiverse.universe import sample_by_year_size\n",
    "\n",
    "siab_train = sample_by_year_size(siab,\n",
    "                               training_year=universe[\"training_year\"],\n",
    "                               training_size=universe[\"training_size\"])"
   ]
  },
  {
   "cell_type": "code",
   "execution_count": 12,
   "id": "919c8ff5",
   "metadata": {
    "execution": {
     "iopub.execute_input": "2025-08-19T18:35:45.543549Z",
     "iopub.status.busy": "2025-08-19T18:35:45.543148Z",
     "iopub.status.idle": "2025-08-19T18:35:45.548433Z",
     "shell.execute_reply": "2025-08-19T18:35:45.547856Z"
    },
    "papermill": {
     "duration": 0.028646,
     "end_time": "2025-08-19T18:35:45.549518",
     "exception": false,
     "start_time": "2025-08-19T18:35:45.520872",
     "status": "completed"
    },
    "tags": []
   },
   "outputs": [
    {
     "data": {
      "text/plain": [
       "(5000, 164)"
      ]
     },
     "execution_count": 12,
     "metadata": {},
     "output_type": "execute_result"
    }
   ],
   "source": [
    "siab_train.shape"
   ]
  },
  {
   "cell_type": "code",
   "execution_count": 13,
   "id": "feb13bf4",
   "metadata": {
    "execution": {
     "iopub.execute_input": "2025-08-19T18:35:45.572556Z",
     "iopub.status.busy": "2025-08-19T18:35:45.571542Z",
     "iopub.status.idle": "2025-08-19T18:35:45.583826Z",
     "shell.execute_reply": "2025-08-19T18:35:45.582463Z"
    },
    "papermill": {
     "duration": 0.029351,
     "end_time": "2025-08-19T18:35:45.589639",
     "exception": false,
     "start_time": "2025-08-19T18:35:45.560288",
     "status": "completed"
    },
    "tags": []
   },
   "outputs": [
    {
     "data": {
      "text/plain": [
       "year\n",
       "2012    1667\n",
       "2013    1667\n",
       "2014    1666\n",
       "dtype: int64"
      ]
     },
     "metadata": {},
     "output_type": "display_data"
    }
   ],
   "source": [
    "display(siab_train.groupby(\"year\").size())"
   ]
  },
  {
   "cell_type": "code",
   "execution_count": 14,
   "id": "0997782f",
   "metadata": {
    "execution": {
     "iopub.execute_input": "2025-08-19T18:35:45.614054Z",
     "iopub.status.busy": "2025-08-19T18:35:45.612898Z",
     "iopub.status.idle": "2025-08-19T18:35:45.877600Z",
     "shell.execute_reply": "2025-08-19T18:35:45.876943Z"
    },
    "papermill": {
     "duration": 0.277469,
     "end_time": "2025-08-19T18:35:45.878964",
     "exception": false,
     "start_time": "2025-08-19T18:35:45.601495",
     "status": "completed"
    },
    "tags": []
   },
   "outputs": [],
   "source": [
    "#siab_train = siab_s[siab_s.year < 2015]\n",
    "siab_calib = siab[siab.year == 2015]\n",
    "siab_test = siab[siab.year == 2016]"
   ]
  },
  {
   "cell_type": "code",
   "execution_count": 15,
   "id": "2c1e4012",
   "metadata": {
    "execution": {
     "iopub.execute_input": "2025-08-19T18:35:45.901609Z",
     "iopub.status.busy": "2025-08-19T18:35:45.900600Z",
     "iopub.status.idle": "2025-08-19T18:35:45.905857Z",
     "shell.execute_reply": "2025-08-19T18:35:45.904913Z"
    },
    "papermill": {
     "duration": 0.018238,
     "end_time": "2025-08-19T18:35:45.907549",
     "exception": false,
     "start_time": "2025-08-19T18:35:45.889311",
     "status": "completed"
    },
    "tags": []
   },
   "outputs": [],
   "source": [
    "#siab_calib.shape"
   ]
  },
  {
   "cell_type": "code",
   "execution_count": 16,
   "id": "f66b54ca",
   "metadata": {
    "execution": {
     "iopub.execute_input": "2025-08-19T18:35:45.955825Z",
     "iopub.status.busy": "2025-08-19T18:35:45.955380Z",
     "iopub.status.idle": "2025-08-19T18:35:45.959658Z",
     "shell.execute_reply": "2025-08-19T18:35:45.958879Z"
    },
    "papermill": {
     "duration": 0.037012,
     "end_time": "2025-08-19T18:35:45.961903",
     "exception": false,
     "start_time": "2025-08-19T18:35:45.924891",
     "status": "completed"
    },
    "tags": []
   },
   "outputs": [],
   "source": [
    "#siab_test.shape"
   ]
  },
  {
   "cell_type": "code",
   "execution_count": 17,
   "id": "27e4384d",
   "metadata": {
    "execution": {
     "iopub.execute_input": "2025-08-19T18:35:45.983665Z",
     "iopub.status.busy": "2025-08-19T18:35:45.983311Z",
     "iopub.status.idle": "2025-08-19T18:35:45.990076Z",
     "shell.execute_reply": "2025-08-19T18:35:45.989416Z"
    },
    "papermill": {
     "duration": 0.019149,
     "end_time": "2025-08-19T18:35:45.991825",
     "exception": false,
     "start_time": "2025-08-19T18:35:45.972676",
     "status": "completed"
    },
    "tags": []
   },
   "outputs": [],
   "source": [
    "X_train = siab_train.iloc[:,4:164]\n",
    "y_train = siab_train.iloc[:, [3]]"
   ]
  },
  {
   "cell_type": "code",
   "execution_count": 18,
   "id": "08ee8389",
   "metadata": {
    "execution": {
     "iopub.execute_input": "2025-08-19T18:35:46.061897Z",
     "iopub.status.busy": "2025-08-19T18:35:46.060806Z",
     "iopub.status.idle": "2025-08-19T18:35:46.139293Z",
     "shell.execute_reply": "2025-08-19T18:35:46.138559Z"
    },
    "papermill": {
     "duration": 0.119549,
     "end_time": "2025-08-19T18:35:46.142577",
     "exception": false,
     "start_time": "2025-08-19T18:35:46.023028",
     "status": "completed"
    },
    "tags": []
   },
   "outputs": [],
   "source": [
    "X_calib = siab_calib.iloc[:,4:164]\n",
    "y_calib = siab_calib.iloc[:, [3]]"
   ]
  },
  {
   "cell_type": "code",
   "execution_count": 19,
   "id": "b7ff42e0",
   "metadata": {
    "execution": {
     "iopub.execute_input": "2025-08-19T18:35:46.195358Z",
     "iopub.status.busy": "2025-08-19T18:35:46.194782Z",
     "iopub.status.idle": "2025-08-19T18:35:46.245574Z",
     "shell.execute_reply": "2025-08-19T18:35:46.244382Z"
    },
    "papermill": {
     "duration": 0.066487,
     "end_time": "2025-08-19T18:35:46.250139",
     "exception": false,
     "start_time": "2025-08-19T18:35:46.183652",
     "status": "completed"
    },
    "tags": []
   },
   "outputs": [],
   "source": [
    "X_test = siab_test.iloc[:,4:164]\n",
    "y_true = siab_test.iloc[:, [3]]"
   ]
  },
  {
   "cell_type": "code",
   "execution_count": 20,
   "id": "0275101e",
   "metadata": {
    "execution": {
     "iopub.execute_input": "2025-08-19T18:35:46.298781Z",
     "iopub.status.busy": "2025-08-19T18:35:46.298320Z",
     "iopub.status.idle": "2025-08-19T18:35:46.400510Z",
     "shell.execute_reply": "2025-08-19T18:35:46.399758Z"
    },
    "papermill": {
     "duration": 0.121127,
     "end_time": "2025-08-19T18:35:46.401978",
     "exception": false,
     "start_time": "2025-08-19T18:35:46.280851",
     "status": "completed"
    },
    "tags": []
   },
   "outputs": [],
   "source": [
    "# Auxiliary data needed downstream in the pipeline\n",
    "\n",
    "org_train = X_train.copy()\n",
    "org_test = X_test.copy()\n",
    "org_calib = X_calib.copy()"
   ]
  },
  {
   "cell_type": "markdown",
   "id": "b461e618",
   "metadata": {
    "papermill": {
     "duration": 0.012501,
     "end_time": "2025-08-19T18:35:46.425696",
     "exception": false,
     "start_time": "2025-08-19T18:35:46.413195",
     "status": "completed"
    },
    "tags": []
   },
   "source": [
    "# Preprocessing Data"
   ]
  },
  {
   "cell_type": "code",
   "execution_count": 21,
   "id": "78e74c4b",
   "metadata": {
    "execution": {
     "iopub.execute_input": "2025-08-19T18:35:46.461795Z",
     "iopub.status.busy": "2025-08-19T18:35:46.461354Z",
     "iopub.status.idle": "2025-08-19T18:35:46.467532Z",
     "shell.execute_reply": "2025-08-19T18:35:46.466536Z"
    },
    "papermill": {
     "duration": 0.031801,
     "end_time": "2025-08-19T18:35:46.469016",
     "exception": false,
     "start_time": "2025-08-19T18:35:46.437215",
     "status": "completed"
    },
    "tags": []
   },
   "outputs": [],
   "source": [
    "# EXCLUDE PROTECTED FEATURES\n",
    "# --------------------------\n",
    "\n",
    "excluded_features = universe[\"exclude_features\"].split(\"-\")\n",
    "excluded_features_dictionary = {\n",
    "    \"nationality\": [\"maxdeutsch1\", \"maxdeutsch.Missing.\"],\n",
    "    \"sex\": [\"frau1\"],\n",
    "    \"age\": [\"age\"],\n",
    "}"
   ]
  },
  {
   "cell_type": "code",
   "execution_count": 22,
   "id": "f8e63555",
   "metadata": {
    "execution": {
     "iopub.execute_input": "2025-08-19T18:35:46.492135Z",
     "iopub.status.busy": "2025-08-19T18:35:46.491739Z",
     "iopub.status.idle": "2025-08-19T18:35:46.812456Z",
     "shell.execute_reply": "2025-08-19T18:35:46.811083Z"
    },
    "papermill": {
     "duration": 0.335612,
     "end_time": "2025-08-19T18:35:46.815854",
     "exception": false,
     "start_time": "2025-08-19T18:35:46.480242",
     "status": "completed"
    },
    "tags": []
   },
   "outputs": [],
   "source": [
    "excluded_features_columns = [\n",
    "    excluded_features_dictionary[f] for f in excluded_features if len(f) > 0 and f != \"none\"\n",
    "]"
   ]
  },
  {
   "cell_type": "code",
   "execution_count": 23,
   "id": "da781f7c",
   "metadata": {
    "execution": {
     "iopub.execute_input": "2025-08-19T18:35:46.850472Z",
     "iopub.status.busy": "2025-08-19T18:35:46.850069Z",
     "iopub.status.idle": "2025-08-19T18:35:46.855213Z",
     "shell.execute_reply": "2025-08-19T18:35:46.854353Z"
    },
    "papermill": {
     "duration": 0.01984,
     "end_time": "2025-08-19T18:35:46.857049",
     "exception": false,
     "start_time": "2025-08-19T18:35:46.837209",
     "status": "completed"
    },
    "tags": []
   },
   "outputs": [],
   "source": [
    "from fairness_multiverse.universe import flatten_once\n",
    "\n",
    "excluded_features_columns = flatten_once(excluded_features_columns)"
   ]
  },
  {
   "cell_type": "code",
   "execution_count": 24,
   "id": "37fef0f0",
   "metadata": {
    "execution": {
     "iopub.execute_input": "2025-08-19T18:35:46.880171Z",
     "iopub.status.busy": "2025-08-19T18:35:46.879730Z",
     "iopub.status.idle": "2025-08-19T18:35:46.889411Z",
     "shell.execute_reply": "2025-08-19T18:35:46.888270Z"
    },
    "papermill": {
     "duration": 0.025405,
     "end_time": "2025-08-19T18:35:46.893261",
     "exception": false,
     "start_time": "2025-08-19T18:35:46.867856",
     "status": "completed"
    },
    "tags": []
   },
   "outputs": [
    {
     "name": "stdout",
     "output_type": "stream",
     "text": [
      "Dropping features: ['maxdeutsch1', 'maxdeutsch.Missing.', 'frau1']\n"
     ]
    }
   ],
   "source": [
    "if len(excluded_features_columns) > 0:\n",
    "    print(f\"Dropping features: {excluded_features_columns}\")\n",
    "    X_train.drop(excluded_features_columns, axis=1, inplace=True)"
   ]
  },
  {
   "cell_type": "code",
   "execution_count": 25,
   "id": "d029e3e9",
   "metadata": {
    "execution": {
     "iopub.execute_input": "2025-08-19T18:35:46.915979Z",
     "iopub.status.busy": "2025-08-19T18:35:46.915287Z",
     "iopub.status.idle": "2025-08-19T18:35:46.976981Z",
     "shell.execute_reply": "2025-08-19T18:35:46.975694Z"
    },
    "papermill": {
     "duration": 0.079198,
     "end_time": "2025-08-19T18:35:46.983029",
     "exception": false,
     "start_time": "2025-08-19T18:35:46.903831",
     "status": "completed"
    },
    "tags": []
   },
   "outputs": [
    {
     "name": "stdout",
     "output_type": "stream",
     "text": [
      "Dropping features: ['maxdeutsch1', 'maxdeutsch.Missing.', 'frau1']\n"
     ]
    }
   ],
   "source": [
    "if len(excluded_features_columns) > 0:\n",
    "    print(f\"Dropping features: {excluded_features_columns}\")\n",
    "    X_test.drop(excluded_features_columns, axis=1, inplace=True)"
   ]
  },
  {
   "cell_type": "code",
   "execution_count": 26,
   "id": "01d571f0",
   "metadata": {
    "execution": {
     "iopub.execute_input": "2025-08-19T18:35:47.010283Z",
     "iopub.status.busy": "2025-08-19T18:35:47.009700Z",
     "iopub.status.idle": "2025-08-19T18:35:47.058506Z",
     "shell.execute_reply": "2025-08-19T18:35:47.057762Z"
    },
    "papermill": {
     "duration": 0.062496,
     "end_time": "2025-08-19T18:35:47.059772",
     "exception": false,
     "start_time": "2025-08-19T18:35:46.997276",
     "status": "completed"
    },
    "tags": []
   },
   "outputs": [
    {
     "name": "stdout",
     "output_type": "stream",
     "text": [
      "Dropping features: ['maxdeutsch1', 'maxdeutsch.Missing.', 'frau1']\n"
     ]
    }
   ],
   "source": [
    "if len(excluded_features_columns) > 0:\n",
    "    print(f\"Dropping features: {excluded_features_columns}\")\n",
    "    X_calib.drop(excluded_features_columns, axis=1, inplace=True)"
   ]
  },
  {
   "cell_type": "code",
   "execution_count": 27,
   "id": "3037356e",
   "metadata": {
    "execution": {
     "iopub.execute_input": "2025-08-19T18:35:47.083082Z",
     "iopub.status.busy": "2025-08-19T18:35:47.082495Z",
     "iopub.status.idle": "2025-08-19T18:35:47.087805Z",
     "shell.execute_reply": "2025-08-19T18:35:47.086894Z"
    },
    "papermill": {
     "duration": 0.018455,
     "end_time": "2025-08-19T18:35:47.089119",
     "exception": false,
     "start_time": "2025-08-19T18:35:47.070664",
     "status": "completed"
    },
    "tags": []
   },
   "outputs": [],
   "source": [
    "# EXCLUDE CERTAIN SUBGROUPS\n",
    "# -------------------------\n",
    "\n",
    "mode = universe.get(\"exclude_subgroups\", \"keep-all\") # Defaults to \"keep-all\" if the key is missing."
   ]
  },
  {
   "cell_type": "code",
   "execution_count": 28,
   "id": "9d1e63fd",
   "metadata": {
    "execution": {
     "iopub.execute_input": "2025-08-19T18:35:47.113786Z",
     "iopub.status.busy": "2025-08-19T18:35:47.112933Z",
     "iopub.status.idle": "2025-08-19T18:35:47.119068Z",
     "shell.execute_reply": "2025-08-19T18:35:47.118291Z"
    },
    "papermill": {
     "duration": 0.022501,
     "end_time": "2025-08-19T18:35:47.122116",
     "exception": false,
     "start_time": "2025-08-19T18:35:47.099615",
     "status": "completed"
    },
    "tags": []
   },
   "outputs": [],
   "source": [
    "if mode == \"keep-all\":\n",
    "    keep_mask = pd.Series(True, index=org_train.index)\n",
    "\n",
    "elif mode == \"drop-non-german\":\n",
    "    keep_mask = (org_train[\"maxdeutsch1\"] == 1) & (org_train[\"maxdeutsch.Missing.\"] == 0)\n",
    "\n",
    "else:\n",
    "    raise ValueError(f\"Unsupported mode for exclude_subgroups: {mode}\")"
   ]
  },
  {
   "cell_type": "code",
   "execution_count": 29,
   "id": "d3b65474",
   "metadata": {
    "execution": {
     "iopub.execute_input": "2025-08-19T18:35:47.144776Z",
     "iopub.status.busy": "2025-08-19T18:35:47.144384Z",
     "iopub.status.idle": "2025-08-19T18:35:47.151014Z",
     "shell.execute_reply": "2025-08-19T18:35:47.149858Z"
    },
    "papermill": {
     "duration": 0.020522,
     "end_time": "2025-08-19T18:35:47.153763",
     "exception": false,
     "start_time": "2025-08-19T18:35:47.133241",
     "status": "completed"
    },
    "tags": []
   },
   "outputs": [
    {
     "name": "stdout",
     "output_type": "stream",
     "text": [
      "Dropping 665 rows (13.30%) where mode='drop-non-german'\n"
     ]
    }
   ],
   "source": [
    "n_drop = (~keep_mask).sum() # Calculates how many rows are set to be dropped\n",
    "if n_drop > 0:\n",
    "    pct = n_drop / len(keep_mask) * 100\n",
    "    print(f\"Dropping {n_drop} rows ({pct:.2f}%) where mode='{mode}'\")"
   ]
  },
  {
   "cell_type": "code",
   "execution_count": 30,
   "id": "f44389b3",
   "metadata": {
    "execution": {
     "iopub.execute_input": "2025-08-19T18:35:47.187361Z",
     "iopub.status.busy": "2025-08-19T18:35:47.185998Z",
     "iopub.status.idle": "2025-08-19T18:35:47.200193Z",
     "shell.execute_reply": "2025-08-19T18:35:47.198958Z"
    },
    "papermill": {
     "duration": 0.035145,
     "end_time": "2025-08-19T18:35:47.201801",
     "exception": false,
     "start_time": "2025-08-19T18:35:47.166656",
     "status": "completed"
    },
    "tags": []
   },
   "outputs": [],
   "source": [
    "X_train = X_train[keep_mask]"
   ]
  },
  {
   "cell_type": "code",
   "execution_count": 31,
   "id": "ceca8c2a",
   "metadata": {
    "execution": {
     "iopub.execute_input": "2025-08-19T18:35:47.252925Z",
     "iopub.status.busy": "2025-08-19T18:35:47.252050Z",
     "iopub.status.idle": "2025-08-19T18:35:47.386704Z",
     "shell.execute_reply": "2025-08-19T18:35:47.385549Z"
    },
    "papermill": {
     "duration": 0.157349,
     "end_time": "2025-08-19T18:35:47.388525",
     "exception": false,
     "start_time": "2025-08-19T18:35:47.231176",
     "status": "completed"
    },
    "tags": []
   },
   "outputs": [],
   "source": [
    "y_train = y_train[keep_mask]"
   ]
  },
  {
   "cell_type": "markdown",
   "id": "04d31e2f",
   "metadata": {
    "papermill": {
     "duration": 0.010445,
     "end_time": "2025-08-19T18:35:47.409915",
     "exception": false,
     "start_time": "2025-08-19T18:35:47.399470",
     "status": "completed"
    },
    "tags": []
   },
   "source": [
    "# Model Training"
   ]
  },
  {
   "cell_type": "code",
   "execution_count": 32,
   "id": "db991733",
   "metadata": {
    "execution": {
     "iopub.execute_input": "2025-08-19T18:35:47.432230Z",
     "iopub.status.busy": "2025-08-19T18:35:47.431898Z",
     "iopub.status.idle": "2025-08-19T18:35:47.538958Z",
     "shell.execute_reply": "2025-08-19T18:35:47.538225Z"
    },
    "papermill": {
     "duration": 0.120167,
     "end_time": "2025-08-19T18:35:47.540593",
     "exception": false,
     "start_time": "2025-08-19T18:35:47.420426",
     "status": "completed"
    },
    "tags": []
   },
   "outputs": [],
   "source": [
    "from sklearn.linear_model import LogisticRegression\n",
    "from sklearn.ensemble import GradientBoostingClassifier, RandomForestClassifier\n",
    "\n",
    "if (universe[\"model\"] == \"logreg\"):\n",
    "    model = LogisticRegression() #penalty=\"none\", solver=\"newton-cg\", max_iter=1)\n",
    "elif (universe[\"model\"] == \"penalized_logreg\"):\n",
    "    model = LogisticRegression(penalty=\"l2\", C=0.1) #, solver=\"newton-cg\", max_iter=1)\n",
    "elif (universe[\"model\"] == \"rf\"):\n",
    "    model = RandomForestClassifier() # n_estimators=100, n_jobs=-1\n",
    "elif (universe[\"model\"] == \"gbm\"):\n",
    "    model = GradientBoostingClassifier()\n",
    "elif (universe[\"model\"] == \"elasticnet\"):\n",
    "    model = LogisticRegression(penalty = 'elasticnet', solver = 'saga', l1_ratio = 0.5) # max_iter=5000\n",
    "else:\n",
    "    raise \"Unsupported universe.model\""
   ]
  },
  {
   "cell_type": "code",
   "execution_count": 33,
   "id": "a4b5cd25",
   "metadata": {
    "execution": {
     "iopub.execute_input": "2025-08-19T18:35:47.566338Z",
     "iopub.status.busy": "2025-08-19T18:35:47.565531Z",
     "iopub.status.idle": "2025-08-19T18:35:47.575311Z",
     "shell.execute_reply": "2025-08-19T18:35:47.574381Z"
    },
    "papermill": {
     "duration": 0.023853,
     "end_time": "2025-08-19T18:35:47.577060",
     "exception": false,
     "start_time": "2025-08-19T18:35:47.553207",
     "status": "completed"
    },
    "tags": []
   },
   "outputs": [],
   "source": [
    "from sklearn.pipeline import Pipeline\n",
    "from sklearn.preprocessing import StandardScaler\n",
    "\n",
    "model = Pipeline([\n",
    "    #(\"continuous_processor\", continuous_processor),\n",
    "    #(\"categorical_preprocessor\", categorical_preprocessor),\n",
    "    (\"scale\", StandardScaler() if universe[\"scale\"] == \"scale\" else None), \n",
    "    (\"model\", model),\n",
    "])"
   ]
  },
  {
   "cell_type": "code",
   "execution_count": 34,
   "id": "283a904d",
   "metadata": {
    "execution": {
     "iopub.execute_input": "2025-08-19T18:35:47.603326Z",
     "iopub.status.busy": "2025-08-19T18:35:47.603005Z",
     "iopub.status.idle": "2025-08-19T18:35:47.735830Z",
     "shell.execute_reply": "2025-08-19T18:35:47.735205Z"
    },
    "papermill": {
     "duration": 0.146142,
     "end_time": "2025-08-19T18:35:47.737126",
     "exception": false,
     "start_time": "2025-08-19T18:35:47.590984",
     "status": "completed"
    },
    "tags": []
   },
   "outputs": [
    {
     "name": "stderr",
     "output_type": "stream",
     "text": [
      "/dss/dsshome1/0C/ra93lal2/.local/share/virtualenvs/CMA_Fairness_v2-3j10GkSs/lib/python3.10/site-packages/sklearn/linear_model/_logistic.py:444: ConvergenceWarning: lbfgs failed to converge (status=1):\n",
      "STOP: TOTAL NO. of ITERATIONS REACHED LIMIT.\n",
      "\n",
      "Increase the number of iterations (max_iter) or scale the data as shown in:\n",
      "    https://scikit-learn.org/stable/modules/preprocessing.html\n",
      "Please also refer to the documentation for alternative solver options:\n",
      "    https://scikit-learn.org/stable/modules/linear_model.html#logistic-regression\n",
      "  n_iter_i = _check_optimize_result(\n"
     ]
    },
    {
     "data": {
      "text/html": [
       "<style>#sk-container-id-1 {color: black;background-color: white;}#sk-container-id-1 pre{padding: 0;}#sk-container-id-1 div.sk-toggleable {background-color: white;}#sk-container-id-1 label.sk-toggleable__label {cursor: pointer;display: block;width: 100%;margin-bottom: 0;padding: 0.3em;box-sizing: border-box;text-align: center;}#sk-container-id-1 label.sk-toggleable__label-arrow:before {content: \"▸\";float: left;margin-right: 0.25em;color: #696969;}#sk-container-id-1 label.sk-toggleable__label-arrow:hover:before {color: black;}#sk-container-id-1 div.sk-estimator:hover label.sk-toggleable__label-arrow:before {color: black;}#sk-container-id-1 div.sk-toggleable__content {max-height: 0;max-width: 0;overflow: hidden;text-align: left;background-color: #f0f8ff;}#sk-container-id-1 div.sk-toggleable__content pre {margin: 0.2em;color: black;border-radius: 0.25em;background-color: #f0f8ff;}#sk-container-id-1 input.sk-toggleable__control:checked~div.sk-toggleable__content {max-height: 200px;max-width: 100%;overflow: auto;}#sk-container-id-1 input.sk-toggleable__control:checked~label.sk-toggleable__label-arrow:before {content: \"▾\";}#sk-container-id-1 div.sk-estimator input.sk-toggleable__control:checked~label.sk-toggleable__label {background-color: #d4ebff;}#sk-container-id-1 div.sk-label input.sk-toggleable__control:checked~label.sk-toggleable__label {background-color: #d4ebff;}#sk-container-id-1 input.sk-hidden--visually {border: 0;clip: rect(1px 1px 1px 1px);clip: rect(1px, 1px, 1px, 1px);height: 1px;margin: -1px;overflow: hidden;padding: 0;position: absolute;width: 1px;}#sk-container-id-1 div.sk-estimator {font-family: monospace;background-color: #f0f8ff;border: 1px dotted black;border-radius: 0.25em;box-sizing: border-box;margin-bottom: 0.5em;}#sk-container-id-1 div.sk-estimator:hover {background-color: #d4ebff;}#sk-container-id-1 div.sk-parallel-item::after {content: \"\";width: 100%;border-bottom: 1px solid gray;flex-grow: 1;}#sk-container-id-1 div.sk-label:hover label.sk-toggleable__label {background-color: #d4ebff;}#sk-container-id-1 div.sk-serial::before {content: \"\";position: absolute;border-left: 1px solid gray;box-sizing: border-box;top: 0;bottom: 0;left: 50%;z-index: 0;}#sk-container-id-1 div.sk-serial {display: flex;flex-direction: column;align-items: center;background-color: white;padding-right: 0.2em;padding-left: 0.2em;position: relative;}#sk-container-id-1 div.sk-item {position: relative;z-index: 1;}#sk-container-id-1 div.sk-parallel {display: flex;align-items: stretch;justify-content: center;background-color: white;position: relative;}#sk-container-id-1 div.sk-item::before, #sk-container-id-1 div.sk-parallel-item::before {content: \"\";position: absolute;border-left: 1px solid gray;box-sizing: border-box;top: 0;bottom: 0;left: 50%;z-index: -1;}#sk-container-id-1 div.sk-parallel-item {display: flex;flex-direction: column;z-index: 1;position: relative;background-color: white;}#sk-container-id-1 div.sk-parallel-item:first-child::after {align-self: flex-end;width: 50%;}#sk-container-id-1 div.sk-parallel-item:last-child::after {align-self: flex-start;width: 50%;}#sk-container-id-1 div.sk-parallel-item:only-child::after {width: 0;}#sk-container-id-1 div.sk-dashed-wrapped {border: 1px dashed gray;margin: 0 0.4em 0.5em 0.4em;box-sizing: border-box;padding-bottom: 0.4em;background-color: white;}#sk-container-id-1 div.sk-label label {font-family: monospace;font-weight: bold;display: inline-block;line-height: 1.2em;}#sk-container-id-1 div.sk-label-container {text-align: center;}#sk-container-id-1 div.sk-container {/* jupyter's `normalize.less` sets `[hidden] { display: none; }` but bootstrap.min.css set `[hidden] { display: none !important; }` so we also need the `!important` here to be able to override the default hidden behavior on the sphinx rendered scikit-learn.org. See: https://github.com/scikit-learn/scikit-learn/issues/21755 */display: inline-block !important;position: relative;}#sk-container-id-1 div.sk-text-repr-fallback {display: none;}</style><div id=\"sk-container-id-1\" class=\"sk-top-container\"><div class=\"sk-text-repr-fallback\"><pre>Pipeline(steps=[(&#x27;scale&#x27;, None), (&#x27;model&#x27;, LogisticRegression())])</pre><b>In a Jupyter environment, please rerun this cell to show the HTML representation or trust the notebook. <br />On GitHub, the HTML representation is unable to render, please try loading this page with nbviewer.org.</b></div><div class=\"sk-container\" hidden><div class=\"sk-item sk-dashed-wrapped\"><div class=\"sk-label-container\"><div class=\"sk-label sk-toggleable\"><input class=\"sk-toggleable__control sk-hidden--visually\" id=\"sk-estimator-id-1\" type=\"checkbox\" ><label for=\"sk-estimator-id-1\" class=\"sk-toggleable__label sk-toggleable__label-arrow\">Pipeline</label><div class=\"sk-toggleable__content\"><pre>Pipeline(steps=[(&#x27;scale&#x27;, None), (&#x27;model&#x27;, LogisticRegression())])</pre></div></div></div><div class=\"sk-serial\"><div class=\"sk-item\"><div class=\"sk-estimator sk-toggleable\"><input class=\"sk-toggleable__control sk-hidden--visually\" id=\"sk-estimator-id-2\" type=\"checkbox\" ><label for=\"sk-estimator-id-2\" class=\"sk-toggleable__label sk-toggleable__label-arrow\">None</label><div class=\"sk-toggleable__content\"><pre>None</pre></div></div></div><div class=\"sk-item\"><div class=\"sk-estimator sk-toggleable\"><input class=\"sk-toggleable__control sk-hidden--visually\" id=\"sk-estimator-id-3\" type=\"checkbox\" ><label for=\"sk-estimator-id-3\" class=\"sk-toggleable__label sk-toggleable__label-arrow\">LogisticRegression</label><div class=\"sk-toggleable__content\"><pre>LogisticRegression()</pre></div></div></div></div></div></div></div>"
      ],
      "text/plain": [
       "Pipeline(steps=[('scale', None), ('model', LogisticRegression())])"
      ]
     },
     "execution_count": 34,
     "metadata": {},
     "output_type": "execute_result"
    }
   ],
   "source": [
    "model.fit(X_train, y_train.values.ravel())"
   ]
  },
  {
   "cell_type": "code",
   "execution_count": 35,
   "id": "6e15e313",
   "metadata": {
    "execution": {
     "iopub.execute_input": "2025-08-19T18:35:47.760764Z",
     "iopub.status.busy": "2025-08-19T18:35:47.760329Z",
     "iopub.status.idle": "2025-08-19T18:35:47.869291Z",
     "shell.execute_reply": "2025-08-19T18:35:47.868409Z"
    },
    "papermill": {
     "duration": 0.121956,
     "end_time": "2025-08-19T18:35:47.870687",
     "exception": false,
     "start_time": "2025-08-19T18:35:47.748731",
     "status": "completed"
    },
    "tags": []
   },
   "outputs": [
    {
     "data": {
      "text/plain": [
       "0.8608181919518448"
      ]
     },
     "execution_count": 35,
     "metadata": {},
     "output_type": "execute_result"
    }
   ],
   "source": [
    "from fairness_multiverse.universe import predict_w_threshold\n",
    "\n",
    "probs_test = model.predict_proba(X_test)\n",
    "\n",
    "'''\n",
    "Below code returns a boolean array (or binary 0/1 array depending on how it’s used) where each element \n",
    "is True if the probability of class 1 is greater than or equal to the threshold, and False otherwise.\n",
    "'''\n",
    "y_pred_default = predict_w_threshold(probs_test, 0.5)\n",
    "\n",
    "from sklearn.metrics import accuracy_score\n",
    "\n",
    "# Naive prediction\n",
    "accuracy_score(y_true = y_true, y_pred = y_pred_default)"
   ]
  },
  {
   "cell_type": "code",
   "execution_count": 36,
   "id": "6f14067c",
   "metadata": {
    "execution": {
     "iopub.execute_input": "2025-08-19T18:35:47.903152Z",
     "iopub.status.busy": "2025-08-19T18:35:47.902729Z",
     "iopub.status.idle": "2025-08-19T18:35:48.028233Z",
     "shell.execute_reply": "2025-08-19T18:35:48.027207Z"
    },
    "papermill": {
     "duration": 0.140188,
     "end_time": "2025-08-19T18:35:48.029736",
     "exception": false,
     "start_time": "2025-08-19T18:35:47.889548",
     "status": "completed"
    },
    "tags": []
   },
   "outputs": [
    {
     "data": {
      "text/plain": [
       "array([0, 0, 0, ..., 0, 0, 0])"
      ]
     },
     "execution_count": 36,
     "metadata": {},
     "output_type": "execute_result"
    }
   ],
   "source": [
    "model.predict(X_test)"
   ]
  },
  {
   "cell_type": "markdown",
   "id": "3759920c",
   "metadata": {
    "papermill": {
     "duration": 0.011417,
     "end_time": "2025-08-19T18:35:48.054836",
     "exception": false,
     "start_time": "2025-08-19T18:35:48.043419",
     "status": "completed"
    },
    "tags": []
   },
   "source": [
    "# Conformal Prediction"
   ]
  },
  {
   "cell_type": "code",
   "execution_count": 37,
   "id": "14b27f59",
   "metadata": {
    "execution": {
     "iopub.execute_input": "2025-08-19T18:35:48.079044Z",
     "iopub.status.busy": "2025-08-19T18:35:48.078591Z",
     "iopub.status.idle": "2025-08-19T18:35:48.083501Z",
     "shell.execute_reply": "2025-08-19T18:35:48.082588Z"
    },
    "papermill": {
     "duration": 0.018834,
     "end_time": "2025-08-19T18:35:48.084840",
     "exception": false,
     "start_time": "2025-08-19T18:35:48.066006",
     "status": "completed"
    },
    "tags": []
   },
   "outputs": [],
   "source": [
    "# Miscoverage level for conformal prediction (10% allowed error rate => 90% target coverage)\n",
    "alpha = 0.1"
   ]
  },
  {
   "cell_type": "code",
   "execution_count": 38,
   "id": "59102472",
   "metadata": {
    "execution": {
     "iopub.execute_input": "2025-08-19T18:35:48.110120Z",
     "iopub.status.busy": "2025-08-19T18:35:48.109710Z",
     "iopub.status.idle": "2025-08-19T18:35:48.199271Z",
     "shell.execute_reply": "2025-08-19T18:35:48.198316Z"
    },
    "papermill": {
     "duration": 0.104077,
     "end_time": "2025-08-19T18:35:48.201119",
     "exception": false,
     "start_time": "2025-08-19T18:35:48.097042",
     "status": "completed"
    },
    "tags": []
   },
   "outputs": [],
   "source": [
    "probs_calib = model.predict_proba(X_calib)"
   ]
  },
  {
   "cell_type": "code",
   "execution_count": 39,
   "id": "a792d4dd",
   "metadata": {
    "execution": {
     "iopub.execute_input": "2025-08-19T18:35:48.236587Z",
     "iopub.status.busy": "2025-08-19T18:35:48.234051Z",
     "iopub.status.idle": "2025-08-19T18:35:48.244075Z",
     "shell.execute_reply": "2025-08-19T18:35:48.243150Z"
    },
    "papermill": {
     "duration": 0.033211,
     "end_time": "2025-08-19T18:35:48.251201",
     "exception": false,
     "start_time": "2025-08-19T18:35:48.217990",
     "status": "completed"
    },
    "tags": []
   },
   "outputs": [],
   "source": [
    "y_calib = y_calib.values.ravel().astype(int)"
   ]
  },
  {
   "cell_type": "code",
   "execution_count": 40,
   "id": "650fd033",
   "metadata": {
    "execution": {
     "iopub.execute_input": "2025-08-19T18:35:48.291725Z",
     "iopub.status.busy": "2025-08-19T18:35:48.291332Z",
     "iopub.status.idle": "2025-08-19T18:35:48.301478Z",
     "shell.execute_reply": "2025-08-19T18:35:48.300351Z"
    },
    "papermill": {
     "duration": 0.034982,
     "end_time": "2025-08-19T18:35:48.312141",
     "exception": false,
     "start_time": "2025-08-19T18:35:48.277159",
     "status": "completed"
    },
    "tags": []
   },
   "outputs": [],
   "source": [
    "from fairness_multiverse.conformal import compute_nc_scores\n",
    "\n",
    "# Compute nonconformity scores on calibration set (1 - probability of true class)\n",
    "nc_scores = compute_nc_scores(probs_calib, y_calib)"
   ]
  },
  {
   "cell_type": "code",
   "execution_count": 41,
   "id": "28ada44c",
   "metadata": {
    "execution": {
     "iopub.execute_input": "2025-08-19T18:35:48.346507Z",
     "iopub.status.busy": "2025-08-19T18:35:48.346061Z",
     "iopub.status.idle": "2025-08-19T18:35:48.352071Z",
     "shell.execute_reply": "2025-08-19T18:35:48.351297Z"
    },
    "papermill": {
     "duration": 0.020418,
     "end_time": "2025-08-19T18:35:48.353479",
     "exception": false,
     "start_time": "2025-08-19T18:35:48.333061",
     "status": "completed"
    },
    "tags": []
   },
   "outputs": [],
   "source": [
    "from fairness_multiverse.conformal import find_threshold\n",
    "\n",
    "# Find conformal threshold q_hat for the given alpha (split conformal method)\n",
    "q_hat = find_threshold(nc_scores, alpha)"
   ]
  },
  {
   "cell_type": "code",
   "execution_count": 42,
   "id": "df56469e",
   "metadata": {
    "execution": {
     "iopub.execute_input": "2025-08-19T18:35:48.385488Z",
     "iopub.status.busy": "2025-08-19T18:35:48.384597Z",
     "iopub.status.idle": "2025-08-19T18:35:48.395359Z",
     "shell.execute_reply": "2025-08-19T18:35:48.394541Z"
    },
    "papermill": {
     "duration": 0.025851,
     "end_time": "2025-08-19T18:35:48.397360",
     "exception": false,
     "start_time": "2025-08-19T18:35:48.371509",
     "status": "completed"
    },
    "tags": []
   },
   "outputs": [
    {
     "data": {
      "text/plain": [
       "0.6726696540396413"
      ]
     },
     "execution_count": 42,
     "metadata": {},
     "output_type": "execute_result"
    }
   ],
   "source": [
    "q_hat"
   ]
  },
  {
   "cell_type": "code",
   "execution_count": 43,
   "id": "aa1f5faa",
   "metadata": {
    "execution": {
     "iopub.execute_input": "2025-08-19T18:35:48.423632Z",
     "iopub.status.busy": "2025-08-19T18:35:48.423344Z",
     "iopub.status.idle": "2025-08-19T18:35:48.936545Z",
     "shell.execute_reply": "2025-08-19T18:35:48.935586Z"
    },
    "papermill": {
     "duration": 0.527424,
     "end_time": "2025-08-19T18:35:48.938182",
     "exception": false,
     "start_time": "2025-08-19T18:35:48.410758",
     "status": "completed"
    },
    "tags": []
   },
   "outputs": [],
   "source": [
    "from fairness_multiverse.conformal import predict_conformal_sets\n",
    "\n",
    "# Generate prediction sets for each test example\n",
    "pred_sets = predict_conformal_sets(model, X_test, q_hat)"
   ]
  },
  {
   "cell_type": "code",
   "execution_count": 44,
   "id": "97f67a6b",
   "metadata": {
    "execution": {
     "iopub.execute_input": "2025-08-19T18:35:48.969298Z",
     "iopub.status.busy": "2025-08-19T18:35:48.968417Z",
     "iopub.status.idle": "2025-08-19T18:35:48.974929Z",
     "shell.execute_reply": "2025-08-19T18:35:48.973699Z"
    },
    "papermill": {
     "duration": 0.025384,
     "end_time": "2025-08-19T18:35:48.978611",
     "exception": false,
     "start_time": "2025-08-19T18:35:48.953227",
     "status": "completed"
    },
    "tags": []
   },
   "outputs": [],
   "source": [
    "y_true = y_true.squeeze()"
   ]
  },
  {
   "cell_type": "code",
   "execution_count": 45,
   "id": "e700e9a7",
   "metadata": {
    "execution": {
     "iopub.execute_input": "2025-08-19T18:35:49.014749Z",
     "iopub.status.busy": "2025-08-19T18:35:49.010881Z",
     "iopub.status.idle": "2025-08-19T18:35:49.531301Z",
     "shell.execute_reply": "2025-08-19T18:35:49.529661Z"
    },
    "papermill": {
     "duration": 0.538328,
     "end_time": "2025-08-19T18:35:49.532993",
     "exception": false,
     "start_time": "2025-08-19T18:35:48.994665",
     "status": "completed"
    },
    "tags": []
   },
   "outputs": [],
   "source": [
    "from fairness_multiverse.conformal import evaluate_sets\n",
    "\n",
    "# Evaluate coverage and average set size on test data\n",
    "metrics = evaluate_sets(pred_sets, y_true)"
   ]
  },
  {
   "cell_type": "markdown",
   "id": "efbacec0",
   "metadata": {
    "papermill": {
     "duration": 0.032847,
     "end_time": "2025-08-19T18:35:49.579222",
     "exception": false,
     "start_time": "2025-08-19T18:35:49.546375",
     "status": "completed"
    },
    "tags": []
   },
   "source": [
    "# CP Metrics"
   ]
  },
  {
   "cell_type": "code",
   "execution_count": 46,
   "id": "9de55fb1",
   "metadata": {
    "execution": {
     "iopub.execute_input": "2025-08-19T18:35:49.604256Z",
     "iopub.status.busy": "2025-08-19T18:35:49.603887Z",
     "iopub.status.idle": "2025-08-19T18:35:49.611487Z",
     "shell.execute_reply": "2025-08-19T18:35:49.610899Z"
    },
    "papermill": {
     "duration": 0.023284,
     "end_time": "2025-08-19T18:35:49.614357",
     "exception": false,
     "start_time": "2025-08-19T18:35:49.591073",
     "status": "completed"
    },
    "tags": []
   },
   "outputs": [
    {
     "data": {
      "text/plain": [
       "{'coverage': 0.9120945268086055, 'avg_size': 1.2180358934343998}"
      ]
     },
     "execution_count": 46,
     "metadata": {},
     "output_type": "execute_result"
    }
   ],
   "source": [
    "metrics"
   ]
  },
  {
   "cell_type": "code",
   "execution_count": 47,
   "id": "64c340a1",
   "metadata": {
    "execution": {
     "iopub.execute_input": "2025-08-19T18:35:49.659587Z",
     "iopub.status.busy": "2025-08-19T18:35:49.658655Z",
     "iopub.status.idle": "2025-08-19T18:35:49.664944Z",
     "shell.execute_reply": "2025-08-19T18:35:49.664110Z"
    },
    "papermill": {
     "duration": 0.031915,
     "end_time": "2025-08-19T18:35:49.669535",
     "exception": false,
     "start_time": "2025-08-19T18:35:49.637620",
     "status": "completed"
    },
    "tags": []
   },
   "outputs": [],
   "source": [
    "example_universe = universe.copy()\n",
    "universe_training_year = example_universe.get(\"training_year\")\n",
    "universe_training_size = example_universe.get(\"training_size\")\n",
    "universe_scale = example_universe.get(\"scale\")\n",
    "universe_model = example_universe.get(\"model\")\n",
    "universe_exclude_features = example_universe.get(\"exclude_features\")\n",
    "universe_exclude_subgroups = example_universe.get(\"exclude_subgroups\")"
   ]
  },
  {
   "cell_type": "code",
   "execution_count": 48,
   "id": "dbb53cb4",
   "metadata": {
    "execution": {
     "iopub.execute_input": "2025-08-19T18:35:49.696390Z",
     "iopub.status.busy": "2025-08-19T18:35:49.695975Z",
     "iopub.status.idle": "2025-08-19T18:35:49.701756Z",
     "shell.execute_reply": "2025-08-19T18:35:49.700896Z"
    },
    "papermill": {
     "duration": 0.021184,
     "end_time": "2025-08-19T18:35:49.703164",
     "exception": false,
     "start_time": "2025-08-19T18:35:49.681980",
     "status": "completed"
    },
    "tags": []
   },
   "outputs": [],
   "source": [
    "cp_metrics_dict = {\n",
    "    \"universe_id\": [universe_id],\n",
    "    \"universe_training_year\": [universe_training_year],\n",
    "    \"universe_training_size\": [universe_training_size],\n",
    "    \"universe_scale\": [universe_scale],\n",
    "    \"universe_model\": [universe_model],\n",
    "    \"universe_exclude_features\": [universe_exclude_features],\n",
    "    \"universe_exclude_subgroups\": [universe_exclude_subgroups],\n",
    "    \"q_hat\": [q_hat],\n",
    "    \"coverage\": [metrics[\"coverage\"]],\n",
    "    \"avg_size\": [metrics[\"avg_size\"]],\n",
    "}"
   ]
  },
  {
   "cell_type": "code",
   "execution_count": 49,
   "id": "0d70d4b2",
   "metadata": {
    "execution": {
     "iopub.execute_input": "2025-08-19T18:35:49.730348Z",
     "iopub.status.busy": "2025-08-19T18:35:49.729399Z",
     "iopub.status.idle": "2025-08-19T18:35:49.740254Z",
     "shell.execute_reply": "2025-08-19T18:35:49.739018Z"
    },
    "papermill": {
     "duration": 0.026305,
     "end_time": "2025-08-19T18:35:49.742032",
     "exception": false,
     "start_time": "2025-08-19T18:35:49.715727",
     "status": "completed"
    },
    "tags": []
   },
   "outputs": [],
   "source": [
    "cp_metrics_df = pd.DataFrame(cp_metrics_dict)"
   ]
  },
  {
   "cell_type": "code",
   "execution_count": 50,
   "id": "b494403c",
   "metadata": {
    "execution": {
     "iopub.execute_input": "2025-08-19T18:35:49.772001Z",
     "iopub.status.busy": "2025-08-19T18:35:49.770993Z",
     "iopub.status.idle": "2025-08-19T18:35:49.795175Z",
     "shell.execute_reply": "2025-08-19T18:35:49.793992Z"
    },
    "papermill": {
     "duration": 0.04141,
     "end_time": "2025-08-19T18:35:49.798411",
     "exception": false,
     "start_time": "2025-08-19T18:35:49.757001",
     "status": "completed"
    },
    "tags": []
   },
   "outputs": [
    {
     "data": {
      "text/html": [
       "<div>\n",
       "<style scoped>\n",
       "    .dataframe tbody tr th:only-of-type {\n",
       "        vertical-align: middle;\n",
       "    }\n",
       "\n",
       "    .dataframe tbody tr th {\n",
       "        vertical-align: top;\n",
       "    }\n",
       "\n",
       "    .dataframe thead th {\n",
       "        text-align: right;\n",
       "    }\n",
       "</style>\n",
       "<table border=\"1\" class=\"dataframe\">\n",
       "  <thead>\n",
       "    <tr style=\"text-align: right;\">\n",
       "      <th></th>\n",
       "      <th>universe_id</th>\n",
       "      <th>universe_training_year</th>\n",
       "      <th>universe_training_size</th>\n",
       "      <th>universe_scale</th>\n",
       "      <th>universe_model</th>\n",
       "      <th>universe_exclude_features</th>\n",
       "      <th>universe_exclude_subgroups</th>\n",
       "      <th>q_hat</th>\n",
       "      <th>coverage</th>\n",
       "      <th>avg_size</th>\n",
       "    </tr>\n",
       "  </thead>\n",
       "  <tbody>\n",
       "    <tr>\n",
       "      <th>0</th>\n",
       "      <td>95d22fc05c82b1614dd6c274860b050d</td>\n",
       "      <td>2012_14</td>\n",
       "      <td>5k</td>\n",
       "      <td>do-not-scale</td>\n",
       "      <td>logreg</td>\n",
       "      <td>nationality-sex</td>\n",
       "      <td>drop-non-german</td>\n",
       "      <td>0.67267</td>\n",
       "      <td>0.912095</td>\n",
       "      <td>1.218036</td>\n",
       "    </tr>\n",
       "  </tbody>\n",
       "</table>\n",
       "</div>"
      ],
      "text/plain": [
       "                        universe_id universe_training_year  \\\n",
       "0  95d22fc05c82b1614dd6c274860b050d                2012_14   \n",
       "\n",
       "  universe_training_size universe_scale universe_model  \\\n",
       "0                     5k   do-not-scale         logreg   \n",
       "\n",
       "  universe_exclude_features universe_exclude_subgroups    q_hat  coverage  \\\n",
       "0           nationality-sex            drop-non-german  0.67267  0.912095   \n",
       "\n",
       "   avg_size  \n",
       "0  1.218036  "
      ]
     },
     "execution_count": 50,
     "metadata": {},
     "output_type": "execute_result"
    }
   ],
   "source": [
    "cp_metrics_df"
   ]
  },
  {
   "cell_type": "markdown",
   "id": "ed608b0b",
   "metadata": {
    "papermill": {
     "duration": 0.012492,
     "end_time": "2025-08-19T18:35:49.828082",
     "exception": false,
     "start_time": "2025-08-19T18:35:49.815590",
     "status": "completed"
    },
    "tags": []
   },
   "source": [
    "Conditional coverage & looking at subgroups"
   ]
  },
  {
   "cell_type": "code",
   "execution_count": 51,
   "id": "8968c366",
   "metadata": {
    "execution": {
     "iopub.execute_input": "2025-08-19T18:35:49.854489Z",
     "iopub.status.busy": "2025-08-19T18:35:49.854030Z",
     "iopub.status.idle": "2025-08-19T18:35:50.186398Z",
     "shell.execute_reply": "2025-08-19T18:35:50.184453Z"
    },
    "papermill": {
     "duration": 0.349914,
     "end_time": "2025-08-19T18:35:50.189788",
     "exception": false,
     "start_time": "2025-08-19T18:35:49.839874",
     "status": "completed"
    },
    "tags": []
   },
   "outputs": [],
   "source": [
    "from fairness_multiverse.conformal import build_cp_groups\n",
    "\n",
    "cp_groups_df = build_cp_groups(pred_sets, y_true, X_test.index, org_test)"
   ]
  },
  {
   "cell_type": "code",
   "execution_count": 52,
   "id": "292ddabf",
   "metadata": {
    "execution": {
     "iopub.execute_input": "2025-08-19T18:35:50.250927Z",
     "iopub.status.busy": "2025-08-19T18:35:50.248261Z",
     "iopub.status.idle": "2025-08-19T18:35:51.139092Z",
     "shell.execute_reply": "2025-08-19T18:35:51.137875Z"
    },
    "papermill": {
     "duration": 0.92291,
     "end_time": "2025-08-19T18:35:51.140805",
     "exception": false,
     "start_time": "2025-08-19T18:35:50.217895",
     "status": "completed"
    },
    "tags": []
   },
   "outputs": [],
   "source": [
    "# Define covered = 1 if true_label is in the predicted set\n",
    "cp_groups_df['covered'] = cp_groups_df.apply(\n",
    "    lambda r: int(r['true_label'] in r['pred_set']),\n",
    "    axis=1\n",
    ")"
   ]
  },
  {
   "cell_type": "code",
   "execution_count": 53,
   "id": "3a261692",
   "metadata": {
    "execution": {
     "iopub.execute_input": "2025-08-19T18:35:51.169661Z",
     "iopub.status.busy": "2025-08-19T18:35:51.169247Z",
     "iopub.status.idle": "2025-08-19T18:35:51.182032Z",
     "shell.execute_reply": "2025-08-19T18:35:51.181329Z"
    },
    "papermill": {
     "duration": 0.029968,
     "end_time": "2025-08-19T18:35:51.183512",
     "exception": false,
     "start_time": "2025-08-19T18:35:51.153544",
     "status": "completed"
    },
    "tags": []
   },
   "outputs": [],
   "source": [
    "subgroups = ['frau1','nongerman','nongerman_male','nongerman_female']\n",
    "\n",
    "# Conditional coverage for subgroup==1\n",
    "cond_coverage = {\n",
    "    g: cp_groups_df.loc[cp_groups_df[g]==1, 'covered'].mean()\n",
    "    for g in subgroups\n",
    "}"
   ]
  },
  {
   "cell_type": "code",
   "execution_count": 54,
   "id": "894fd600",
   "metadata": {
    "execution": {
     "iopub.execute_input": "2025-08-19T18:35:51.208572Z",
     "iopub.status.busy": "2025-08-19T18:35:51.208223Z",
     "iopub.status.idle": "2025-08-19T18:35:51.213742Z",
     "shell.execute_reply": "2025-08-19T18:35:51.213011Z"
    },
    "papermill": {
     "duration": 0.019844,
     "end_time": "2025-08-19T18:35:51.215418",
     "exception": false,
     "start_time": "2025-08-19T18:35:51.195574",
     "status": "completed"
    },
    "tags": []
   },
   "outputs": [
    {
     "data": {
      "text/plain": [
       "{'frau1': 0.9093408815204206,\n",
       " 'nongerman': 0.9384719025430865,\n",
       " 'nongerman_male': 0.9500135098621995,\n",
       " 'nongerman_female': 0.9193740685543964}"
      ]
     },
     "execution_count": 54,
     "metadata": {},
     "output_type": "execute_result"
    }
   ],
   "source": [
    "cond_coverage"
   ]
  },
  {
   "cell_type": "code",
   "execution_count": 55,
   "id": "942895c7",
   "metadata": {
    "execution": {
     "iopub.execute_input": "2025-08-19T18:35:51.240320Z",
     "iopub.status.busy": "2025-08-19T18:35:51.239996Z",
     "iopub.status.idle": "2025-08-19T18:35:51.245857Z",
     "shell.execute_reply": "2025-08-19T18:35:51.245140Z"
    },
    "papermill": {
     "duration": 0.019779,
     "end_time": "2025-08-19T18:35:51.247151",
     "exception": false,
     "start_time": "2025-08-19T18:35:51.227372",
     "status": "completed"
    },
    "tags": []
   },
   "outputs": [],
   "source": [
    "for subgroup, cov in cond_coverage.items():\n",
    "    cp_metrics_df[f\"cov_{subgroup}\"] = cov"
   ]
  },
  {
   "cell_type": "code",
   "execution_count": 56,
   "id": "3970120f",
   "metadata": {
    "execution": {
     "iopub.execute_input": "2025-08-19T18:35:51.272142Z",
     "iopub.status.busy": "2025-08-19T18:35:51.271827Z",
     "iopub.status.idle": "2025-08-19T18:35:51.287181Z",
     "shell.execute_reply": "2025-08-19T18:35:51.286417Z"
    },
    "papermill": {
     "duration": 0.029469,
     "end_time": "2025-08-19T18:35:51.288553",
     "exception": false,
     "start_time": "2025-08-19T18:35:51.259084",
     "status": "completed"
    },
    "tags": []
   },
   "outputs": [
    {
     "data": {
      "text/html": [
       "<div>\n",
       "<style scoped>\n",
       "    .dataframe tbody tr th:only-of-type {\n",
       "        vertical-align: middle;\n",
       "    }\n",
       "\n",
       "    .dataframe tbody tr th {\n",
       "        vertical-align: top;\n",
       "    }\n",
       "\n",
       "    .dataframe thead th {\n",
       "        text-align: right;\n",
       "    }\n",
       "</style>\n",
       "<table border=\"1\" class=\"dataframe\">\n",
       "  <thead>\n",
       "    <tr style=\"text-align: right;\">\n",
       "      <th></th>\n",
       "      <th>universe_id</th>\n",
       "      <th>universe_training_year</th>\n",
       "      <th>universe_training_size</th>\n",
       "      <th>universe_scale</th>\n",
       "      <th>universe_model</th>\n",
       "      <th>universe_exclude_features</th>\n",
       "      <th>universe_exclude_subgroups</th>\n",
       "      <th>q_hat</th>\n",
       "      <th>coverage</th>\n",
       "      <th>avg_size</th>\n",
       "      <th>cov_frau1</th>\n",
       "      <th>cov_nongerman</th>\n",
       "      <th>cov_nongerman_male</th>\n",
       "      <th>cov_nongerman_female</th>\n",
       "    </tr>\n",
       "  </thead>\n",
       "  <tbody>\n",
       "    <tr>\n",
       "      <th>0</th>\n",
       "      <td>95d22fc05c82b1614dd6c274860b050d</td>\n",
       "      <td>2012_14</td>\n",
       "      <td>5k</td>\n",
       "      <td>do-not-scale</td>\n",
       "      <td>logreg</td>\n",
       "      <td>nationality-sex</td>\n",
       "      <td>drop-non-german</td>\n",
       "      <td>0.67267</td>\n",
       "      <td>0.912095</td>\n",
       "      <td>1.218036</td>\n",
       "      <td>0.909341</td>\n",
       "      <td>0.938472</td>\n",
       "      <td>0.950014</td>\n",
       "      <td>0.919374</td>\n",
       "    </tr>\n",
       "  </tbody>\n",
       "</table>\n",
       "</div>"
      ],
      "text/plain": [
       "                        universe_id universe_training_year  \\\n",
       "0  95d22fc05c82b1614dd6c274860b050d                2012_14   \n",
       "\n",
       "  universe_training_size universe_scale universe_model  \\\n",
       "0                     5k   do-not-scale         logreg   \n",
       "\n",
       "  universe_exclude_features universe_exclude_subgroups    q_hat  coverage  \\\n",
       "0           nationality-sex            drop-non-german  0.67267  0.912095   \n",
       "\n",
       "   avg_size  cov_frau1  cov_nongerman  cov_nongerman_male  \\\n",
       "0  1.218036   0.909341       0.938472            0.950014   \n",
       "\n",
       "   cov_nongerman_female  \n",
       "0              0.919374  "
      ]
     },
     "execution_count": 56,
     "metadata": {},
     "output_type": "execute_result"
    }
   ],
   "source": [
    "cp_metrics_df"
   ]
  },
  {
   "cell_type": "markdown",
   "id": "3fc519cc",
   "metadata": {
    "papermill": {
     "duration": 0.012024,
     "end_time": "2025-08-19T18:35:51.315104",
     "exception": false,
     "start_time": "2025-08-19T18:35:51.303080",
     "status": "completed"
    },
    "tags": []
   },
   "source": [
    "# (Fairness) Metrics"
   ]
  },
  {
   "cell_type": "code",
   "execution_count": 57,
   "id": "a2e5e155",
   "metadata": {
    "execution": {
     "iopub.execute_input": "2025-08-19T18:35:51.340610Z",
     "iopub.status.busy": "2025-08-19T18:35:51.340192Z",
     "iopub.status.idle": "2025-08-19T18:35:51.355309Z",
     "shell.execute_reply": "2025-08-19T18:35:51.354624Z"
    },
    "papermill": {
     "duration": 0.02939,
     "end_time": "2025-08-19T18:35:51.356548",
     "exception": false,
     "start_time": "2025-08-19T18:35:51.327158",
     "status": "completed"
    },
    "tags": []
   },
   "outputs": [],
   "source": [
    "colname_to_bin = \"maxdeutsch1\"\n",
    "majority_value = org_train[colname_to_bin].mode()[0]\n",
    "\n",
    "org_test[\"majmin\"] = np.where(org_test[colname_to_bin] == majority_value, \"majority\", \"minority\")"
   ]
  },
  {
   "cell_type": "code",
   "execution_count": 58,
   "id": "17e3e4d5",
   "metadata": {
    "execution": {
     "iopub.execute_input": "2025-08-19T18:35:51.383115Z",
     "iopub.status.busy": "2025-08-19T18:35:51.382238Z",
     "iopub.status.idle": "2025-08-19T18:35:53.121760Z",
     "shell.execute_reply": "2025-08-19T18:35:53.120621Z"
    },
    "papermill": {
     "duration": 1.754299,
     "end_time": "2025-08-19T18:35:53.123287",
     "exception": false,
     "start_time": "2025-08-19T18:35:51.368988",
     "status": "completed"
    },
    "tags": []
   },
   "outputs": [],
   "source": [
    "example_universe = universe.copy()\n",
    "example_universe[\"cutoff\"] = example_universe[\"cutoff\"][0]\n",
    "example_universe[\"eval_fairness_grouping\"] = example_universe[\"eval_fairness_grouping\"][0]\n",
    "fairness_dict, metric_frame = universe_analysis.compute_metrics(\n",
    "    example_universe,\n",
    "    y_pred_prob=probs_test,\n",
    "    y_test=y_true,\n",
    "    org_test=org_test,\n",
    ")"
   ]
  },
  {
   "cell_type": "markdown",
   "id": "1fb7a0e9",
   "metadata": {
    "papermill": {
     "duration": 0.012385,
     "end_time": "2025-08-19T18:35:53.151788",
     "exception": false,
     "start_time": "2025-08-19T18:35:53.139403",
     "status": "completed"
    },
    "tags": []
   },
   "source": [
    "# Overall"
   ]
  },
  {
   "cell_type": "markdown",
   "id": "be1784b1",
   "metadata": {
    "papermill": {
     "duration": 0.012832,
     "end_time": "2025-08-19T18:35:53.176877",
     "exception": false,
     "start_time": "2025-08-19T18:35:53.164045",
     "status": "completed"
    },
    "tags": []
   },
   "source": [
    "Main fairness target: Equalized Odds. Seems to be a better fit than equal opportunity, since we're not only interested in Y = 1. Seems to be a better fit than demographic parity, since we also care about accuracy, not just equal distribution of preds.\n",
    "\n",
    "Pick column for computation of fairness metrics\n",
    "\n",
    "Performance\n",
    "Overall performance measures, most interesting in relation to the measures split by group below"
   ]
  },
  {
   "cell_type": "code",
   "execution_count": 59,
   "id": "b7672bee",
   "metadata": {
    "execution": {
     "iopub.execute_input": "2025-08-19T18:35:53.202992Z",
     "iopub.status.busy": "2025-08-19T18:35:53.202554Z",
     "iopub.status.idle": "2025-08-19T18:35:53.210997Z",
     "shell.execute_reply": "2025-08-19T18:35:53.210248Z"
    },
    "papermill": {
     "duration": 0.024194,
     "end_time": "2025-08-19T18:35:53.213315",
     "exception": false,
     "start_time": "2025-08-19T18:35:53.189121",
     "status": "completed"
    },
    "tags": []
   },
   "outputs": [
    {
     "data": {
      "text/plain": [
       "accuracy                   0.218582\n",
       "balanced accuracy          0.535677\n",
       "f1                         0.240073\n",
       "precision                  0.137146\n",
       "false positive rate        0.890847\n",
       "false negative rate        0.037800\n",
       "selection rate             0.900000\n",
       "count                  89710.000000\n",
       "dtype: float64"
      ]
     },
     "execution_count": 59,
     "metadata": {},
     "output_type": "execute_result"
    }
   ],
   "source": [
    "metric_frame.overall"
   ]
  },
  {
   "cell_type": "markdown",
   "id": "d93333c9",
   "metadata": {
    "papermill": {
     "duration": 0.01225,
     "end_time": "2025-08-19T18:35:53.240574",
     "exception": false,
     "start_time": "2025-08-19T18:35:53.228324",
     "status": "completed"
    },
    "tags": []
   },
   "source": [
    "By Group"
   ]
  },
  {
   "cell_type": "code",
   "execution_count": 60,
   "id": "52256966",
   "metadata": {
    "execution": {
     "iopub.execute_input": "2025-08-19T18:35:53.266529Z",
     "iopub.status.busy": "2025-08-19T18:35:53.266131Z",
     "iopub.status.idle": "2025-08-19T18:35:53.279915Z",
     "shell.execute_reply": "2025-08-19T18:35:53.279199Z"
    },
    "papermill": {
     "duration": 0.028831,
     "end_time": "2025-08-19T18:35:53.281725",
     "exception": false,
     "start_time": "2025-08-19T18:35:53.252894",
     "status": "completed"
    },
    "tags": []
   },
   "outputs": [
    {
     "data": {
      "text/html": [
       "<div>\n",
       "<style scoped>\n",
       "    .dataframe tbody tr th:only-of-type {\n",
       "        vertical-align: middle;\n",
       "    }\n",
       "\n",
       "    .dataframe tbody tr th {\n",
       "        vertical-align: top;\n",
       "    }\n",
       "\n",
       "    .dataframe thead th {\n",
       "        text-align: right;\n",
       "    }\n",
       "</style>\n",
       "<table border=\"1\" class=\"dataframe\">\n",
       "  <thead>\n",
       "    <tr style=\"text-align: right;\">\n",
       "      <th></th>\n",
       "      <th>accuracy</th>\n",
       "      <th>balanced accuracy</th>\n",
       "      <th>f1</th>\n",
       "      <th>precision</th>\n",
       "      <th>false positive rate</th>\n",
       "      <th>false negative rate</th>\n",
       "      <th>selection rate</th>\n",
       "      <th>count</th>\n",
       "    </tr>\n",
       "    <tr>\n",
       "      <th>majmin</th>\n",
       "      <th></th>\n",
       "      <th></th>\n",
       "      <th></th>\n",
       "      <th></th>\n",
       "      <th></th>\n",
       "      <th></th>\n",
       "      <th></th>\n",
       "      <th></th>\n",
       "    </tr>\n",
       "  </thead>\n",
       "  <tbody>\n",
       "    <tr>\n",
       "      <th>majority</th>\n",
       "      <td>0.240740</td>\n",
       "      <td>0.544065</td>\n",
       "      <td>0.249743</td>\n",
       "      <td>0.143625</td>\n",
       "      <td>0.868216</td>\n",
       "      <td>0.043654</td>\n",
       "      <td>0.879861</td>\n",
       "      <td>69170.0</td>\n",
       "    </tr>\n",
       "    <tr>\n",
       "      <th>minority</th>\n",
       "      <td>0.143963</td>\n",
       "      <td>0.509595</td>\n",
       "      <td>0.209646</td>\n",
       "      <td>0.117310</td>\n",
       "      <td>0.965606</td>\n",
       "      <td>0.015203</td>\n",
       "      <td>0.967819</td>\n",
       "      <td>20540.0</td>\n",
       "    </tr>\n",
       "  </tbody>\n",
       "</table>\n",
       "</div>"
      ],
      "text/plain": [
       "          accuracy  balanced accuracy        f1  precision  \\\n",
       "majmin                                                       \n",
       "majority  0.240740           0.544065  0.249743   0.143625   \n",
       "minority  0.143963           0.509595  0.209646   0.117310   \n",
       "\n",
       "          false positive rate  false negative rate  selection rate    count  \n",
       "majmin                                                                       \n",
       "majority             0.868216             0.043654        0.879861  69170.0  \n",
       "minority             0.965606             0.015203        0.967819  20540.0  "
      ]
     },
     "execution_count": 60,
     "metadata": {},
     "output_type": "execute_result"
    }
   ],
   "source": [
    "metric_frame.by_group"
   ]
  },
  {
   "cell_type": "code",
   "execution_count": 61,
   "id": "6e6c20ae",
   "metadata": {
    "execution": {
     "iopub.execute_input": "2025-08-19T18:35:53.311825Z",
     "iopub.status.busy": "2025-08-19T18:35:53.311448Z",
     "iopub.status.idle": "2025-08-19T18:35:55.113804Z",
     "shell.execute_reply": "2025-08-19T18:35:55.112729Z"
    },
    "papermill": {
     "duration": 1.818488,
     "end_time": "2025-08-19T18:35:55.115272",
     "exception": false,
     "start_time": "2025-08-19T18:35:53.296784",
     "status": "completed"
    },
    "tags": []
   },
   "outputs": [
    {
     "data": {
      "text/plain": [
       "array([[<Axes: title={'center': 'accuracy'}, xlabel='majmin'>,\n",
       "        <Axes: title={'center': 'balanced accuracy'}, xlabel='majmin'>,\n",
       "        <Axes: title={'center': 'f1'}, xlabel='majmin'>],\n",
       "       [<Axes: title={'center': 'precision'}, xlabel='majmin'>,\n",
       "        <Axes: title={'center': 'false positive rate'}, xlabel='majmin'>,\n",
       "        <Axes: title={'center': 'false negative rate'}, xlabel='majmin'>],\n",
       "       [<Axes: title={'center': 'selection rate'}, xlabel='majmin'>,\n",
       "        <Axes: title={'center': 'count'}, xlabel='majmin'>,\n",
       "        <Axes: xlabel='majmin'>]], dtype=object)"
      ]
     },
     "execution_count": 61,
     "metadata": {},
     "output_type": "execute_result"
    },
    {
     "data": {
      "image/png": "[encoded data removed]",
      "text/plain": [
       "<Figure size 1200x800 with 9 Axes>"
      ]
     },
     "metadata": {},
     "output_type": "display_data"
    }
   ],
   "source": [
    "# In a graphic\n",
    "metric_frame.by_group.plot.bar(\n",
    "    subplots=True,\n",
    "    layout=[3, 3],\n",
    "    legend=False,\n",
    "    figsize=[12, 8],\n",
    "    title=\"Show all metrics\",\n",
    ")"
   ]
  },
  {
   "cell_type": "markdown",
   "id": "b2e433ae",
   "metadata": {
    "papermill": {
     "duration": 0.014032,
     "end_time": "2025-08-19T18:35:55.145252",
     "exception": false,
     "start_time": "2025-08-19T18:35:55.131220",
     "status": "completed"
    },
    "tags": []
   },
   "source": [
    "# Final Output"
   ]
  },
  {
   "cell_type": "code",
   "execution_count": 62,
   "id": "3871301e",
   "metadata": {
    "execution": {
     "iopub.execute_input": "2025-08-19T18:35:55.176035Z",
     "iopub.status.busy": "2025-08-19T18:35:55.174022Z",
     "iopub.status.idle": "2025-08-19T18:35:55.190173Z",
     "shell.execute_reply": "2025-08-19T18:35:55.189035Z"
    },
    "papermill": {
     "duration": 0.033169,
     "end_time": "2025-08-19T18:35:55.191778",
     "exception": false,
     "start_time": "2025-08-19T18:35:55.158609",
     "status": "completed"
    },
    "tags": []
   },
   "outputs": [
    {
     "data": {
      "text/plain": [
       "4"
      ]
     },
     "execution_count": 62,
     "metadata": {},
     "output_type": "execute_result"
    }
   ],
   "source": [
    "sub_universes = universe_analysis.generate_sub_universes()\n",
    "len(sub_universes)"
   ]
  },
  {
   "cell_type": "code",
   "execution_count": 63,
   "id": "d9cfdaca",
   "metadata": {
    "execution": {
     "iopub.execute_input": "2025-08-19T18:35:55.229370Z",
     "iopub.status.busy": "2025-08-19T18:35:55.228195Z",
     "iopub.status.idle": "2025-08-19T18:35:55.238391Z",
     "shell.execute_reply": "2025-08-19T18:35:55.236952Z"
    },
    "papermill": {
     "duration": 0.027722,
     "end_time": "2025-08-19T18:35:55.240264",
     "exception": false,
     "start_time": "2025-08-19T18:35:55.212542",
     "status": "completed"
    },
    "tags": []
   },
   "outputs": [],
   "source": [
    "def filter_sub_universe_data(sub_universe, org_test):\n",
    "    # Keep all rows — no filtering\n",
    "    keep_rows_mask = np.ones(org_test.shape[0], dtype=bool)\n",
    "\n",
    "    print(f\"[INFO] Keeping all rows: {keep_rows_mask.sum()} rows retained.\")\n",
    "    return keep_rows_mask"
   ]
  },
  {
   "cell_type": "code",
   "execution_count": 64,
   "id": "2bc31ac1",
   "metadata": {
    "execution": {
     "iopub.execute_input": "2025-08-19T18:35:55.274728Z",
     "iopub.status.busy": "2025-08-19T18:35:55.273771Z",
     "iopub.status.idle": "2025-08-19T18:36:01.920647Z",
     "shell.execute_reply": "2025-08-19T18:36:01.919591Z"
    },
    "papermill": {
     "duration": 6.663873,
     "end_time": "2025-08-19T18:36:01.922460",
     "exception": false,
     "start_time": "2025-08-19T18:35:55.258587",
     "status": "completed"
    },
    "tags": []
   },
   "outputs": [
    {
     "name": "stdout",
     "output_type": "stream",
     "text": [
      "Stopping execution_time clock.\n",
      "[INFO] Keeping all rows: 89710 rows retained.\n"
     ]
    },
    {
     "name": "stdout",
     "output_type": "stream",
     "text": [
      "[INFO] Keeping all rows: 89710 rows retained.\n"
     ]
    },
    {
     "name": "stdout",
     "output_type": "stream",
     "text": [
      "[INFO] Keeping all rows: 89710 rows retained.\n"
     ]
    },
    {
     "name": "stdout",
     "output_type": "stream",
     "text": [
      "[INFO] Keeping all rows: 89710 rows retained.\n"
     ]
    },
    {
     "data": {
      "text/html": [
       "<div>\n",
       "<style scoped>\n",
       "    .dataframe tbody tr th:only-of-type {\n",
       "        vertical-align: middle;\n",
       "    }\n",
       "\n",
       "    .dataframe tbody tr th {\n",
       "        vertical-align: top;\n",
       "    }\n",
       "\n",
       "    .dataframe thead th {\n",
       "        text-align: right;\n",
       "    }\n",
       "</style>\n",
       "<table border=\"1\" class=\"dataframe\">\n",
       "  <thead>\n",
       "    <tr style=\"text-align: right;\">\n",
       "      <th></th>\n",
       "      <th>run_no</th>\n",
       "      <th>universe_id</th>\n",
       "      <th>universe_settings</th>\n",
       "      <th>execution_time</th>\n",
       "      <th>test_size_n</th>\n",
       "      <th>test_size_frac</th>\n",
       "      <th>fair_main_equalized_odds_difference</th>\n",
       "      <th>fair_main_equalized_odds_ratio</th>\n",
       "      <th>fair_main_demographic_parity_difference</th>\n",
       "      <th>fair_main_demographic_parity_ratio</th>\n",
       "      <th>...</th>\n",
       "      <th>perf_grp_precision_0</th>\n",
       "      <th>perf_grp_precision_1</th>\n",
       "      <th>perf_grp_false positive rate_0</th>\n",
       "      <th>perf_grp_false positive rate_1</th>\n",
       "      <th>perf_grp_false negative rate_0</th>\n",
       "      <th>perf_grp_false negative rate_1</th>\n",
       "      <th>perf_grp_selection rate_0</th>\n",
       "      <th>perf_grp_selection rate_1</th>\n",
       "      <th>perf_grp_count_0</th>\n",
       "      <th>perf_grp_count_1</th>\n",
       "    </tr>\n",
       "  </thead>\n",
       "  <tbody>\n",
       "    <tr>\n",
       "      <th>0</th>\n",
       "      <td>3</td>\n",
       "      <td>95d22fc05c82b1614dd6c274860b050d</td>\n",
       "      <td>{\"cutoff\": \"quantile_0.1\", \"eval_fairness_grou...</td>\n",
       "      <td>20.576858</td>\n",
       "      <td>89710</td>\n",
       "      <td>1.0</td>\n",
       "      <td>0.097391</td>\n",
       "      <td>0.899141</td>\n",
       "      <td>0.087958</td>\n",
       "      <td>0.909118</td>\n",
       "      <td>...</td>\n",
       "      <td>NaN</td>\n",
       "      <td>NaN</td>\n",
       "      <td>NaN</td>\n",
       "      <td>NaN</td>\n",
       "      <td>NaN</td>\n",
       "      <td>NaN</td>\n",
       "      <td>NaN</td>\n",
       "      <td>NaN</td>\n",
       "      <td>NaN</td>\n",
       "      <td>NaN</td>\n",
       "    </tr>\n",
       "    <tr>\n",
       "      <th>0</th>\n",
       "      <td>3</td>\n",
       "      <td>95d22fc05c82b1614dd6c274860b050d</td>\n",
       "      <td>{\"cutoff\": \"quantile_0.1\", \"eval_fairness_grou...</td>\n",
       "      <td>20.576858</td>\n",
       "      <td>89710</td>\n",
       "      <td>1.0</td>\n",
       "      <td>0.097391</td>\n",
       "      <td>0.899141</td>\n",
       "      <td>0.087958</td>\n",
       "      <td>0.909118</td>\n",
       "      <td>...</td>\n",
       "      <td>0.117310</td>\n",
       "      <td>0.143625</td>\n",
       "      <td>0.965606</td>\n",
       "      <td>0.868216</td>\n",
       "      <td>0.015203</td>\n",
       "      <td>0.043654</td>\n",
       "      <td>0.967819</td>\n",
       "      <td>0.879861</td>\n",
       "      <td>20540.0</td>\n",
       "      <td>69170.0</td>\n",
       "    </tr>\n",
       "    <tr>\n",
       "      <th>0</th>\n",
       "      <td>3</td>\n",
       "      <td>95d22fc05c82b1614dd6c274860b050d</td>\n",
       "      <td>{\"cutoff\": \"quantile_0.25\", \"eval_fairness_gro...</td>\n",
       "      <td>20.576858</td>\n",
       "      <td>89710</td>\n",
       "      <td>1.0</td>\n",
       "      <td>0.222603</td>\n",
       "      <td>0.753224</td>\n",
       "      <td>0.203642</td>\n",
       "      <td>0.775480</td>\n",
       "      <td>...</td>\n",
       "      <td>NaN</td>\n",
       "      <td>NaN</td>\n",
       "      <td>NaN</td>\n",
       "      <td>NaN</td>\n",
       "      <td>NaN</td>\n",
       "      <td>NaN</td>\n",
       "      <td>NaN</td>\n",
       "      <td>NaN</td>\n",
       "      <td>NaN</td>\n",
       "      <td>NaN</td>\n",
       "    </tr>\n",
       "    <tr>\n",
       "      <th>0</th>\n",
       "      <td>3</td>\n",
       "      <td>95d22fc05c82b1614dd6c274860b050d</td>\n",
       "      <td>{\"cutoff\": \"quantile_0.25\", \"eval_fairness_gro...</td>\n",
       "      <td>20.576858</td>\n",
       "      <td>89710</td>\n",
       "      <td>1.0</td>\n",
       "      <td>0.222603</td>\n",
       "      <td>0.753224</td>\n",
       "      <td>0.203642</td>\n",
       "      <td>0.775480</td>\n",
       "      <td>...</td>\n",
       "      <td>0.120129</td>\n",
       "      <td>0.161658</td>\n",
       "      <td>0.902047</td>\n",
       "      <td>0.679444</td>\n",
       "      <td>0.054899</td>\n",
       "      <td>0.139497</td>\n",
       "      <td>0.907011</td>\n",
       "      <td>0.703369</td>\n",
       "      <td>20540.0</td>\n",
       "      <td>69170.0</td>\n",
       "    </tr>\n",
       "  </tbody>\n",
       "</table>\n",
       "<p>4 rows × 50 columns</p>\n",
       "</div>"
      ],
      "text/plain": [
       "  run_no                       universe_id  \\\n",
       "0      3  95d22fc05c82b1614dd6c274860b050d   \n",
       "0      3  95d22fc05c82b1614dd6c274860b050d   \n",
       "0      3  95d22fc05c82b1614dd6c274860b050d   \n",
       "0      3  95d22fc05c82b1614dd6c274860b050d   \n",
       "\n",
       "                                   universe_settings  execution_time  \\\n",
       "0  {\"cutoff\": \"quantile_0.1\", \"eval_fairness_grou...       20.576858   \n",
       "0  {\"cutoff\": \"quantile_0.1\", \"eval_fairness_grou...       20.576858   \n",
       "0  {\"cutoff\": \"quantile_0.25\", \"eval_fairness_gro...       20.576858   \n",
       "0  {\"cutoff\": \"quantile_0.25\", \"eval_fairness_gro...       20.576858   \n",
       "\n",
       "   test_size_n  test_size_frac  fair_main_equalized_odds_difference  \\\n",
       "0        89710             1.0                             0.097391   \n",
       "0        89710             1.0                             0.097391   \n",
       "0        89710             1.0                             0.222603   \n",
       "0        89710             1.0                             0.222603   \n",
       "\n",
       "   fair_main_equalized_odds_ratio  fair_main_demographic_parity_difference  \\\n",
       "0                        0.899141                                 0.087958   \n",
       "0                        0.899141                                 0.087958   \n",
       "0                        0.753224                                 0.203642   \n",
       "0                        0.753224                                 0.203642   \n",
       "\n",
       "   fair_main_demographic_parity_ratio  ...  perf_grp_precision_0  \\\n",
       "0                            0.909118  ...                   NaN   \n",
       "0                            0.909118  ...              0.117310   \n",
       "0                            0.775480  ...                   NaN   \n",
       "0                            0.775480  ...              0.120129   \n",
       "\n",
       "   perf_grp_precision_1  perf_grp_false positive rate_0  \\\n",
       "0                   NaN                             NaN   \n",
       "0              0.143625                        0.965606   \n",
       "0                   NaN                             NaN   \n",
       "0              0.161658                        0.902047   \n",
       "\n",
       "   perf_grp_false positive rate_1  perf_grp_false negative rate_0  \\\n",
       "0                             NaN                             NaN   \n",
       "0                        0.868216                        0.015203   \n",
       "0                             NaN                             NaN   \n",
       "0                        0.679444                        0.054899   \n",
       "\n",
       "   perf_grp_false negative rate_1  perf_grp_selection rate_0  \\\n",
       "0                             NaN                        NaN   \n",
       "0                        0.043654                   0.967819   \n",
       "0                             NaN                        NaN   \n",
       "0                        0.139497                   0.907011   \n",
       "\n",
       "   perf_grp_selection rate_1  perf_grp_count_0  perf_grp_count_1  \n",
       "0                        NaN               NaN               NaN  \n",
       "0                   0.879861           20540.0           69170.0  \n",
       "0                        NaN               NaN               NaN  \n",
       "0                   0.703369           20540.0           69170.0  \n",
       "\n",
       "[4 rows x 50 columns]"
      ]
     },
     "execution_count": 64,
     "metadata": {},
     "output_type": "execute_result"
    }
   ],
   "source": [
    "final_output = universe_analysis.generate_final_output(\n",
    "    y_pred_prob=probs_test,\n",
    "    y_test=y_true,\n",
    "    org_test=org_test,\n",
    "    filter_data=filter_sub_universe_data,\n",
    "    cp_metrics_df=cp_metrics_df,\n",
    "    save=True,\n",
    ")\n",
    "final_output"
   ]
  },
  {
   "cell_type": "code",
   "execution_count": null,
   "id": "8b80a1ff",
   "metadata": {
    "papermill": {
     "duration": 0.01441,
     "end_time": "2025-08-19T18:36:01.956024",
     "exception": false,
     "start_time": "2025-08-19T18:36:01.941614",
     "status": "completed"
    },
    "tags": []
   },
   "outputs": [],
   "source": []
  },
  {
   "cell_type": "code",
   "execution_count": null,
   "id": "275c9fad",
   "metadata": {
    "papermill": {
     "duration": 0.016459,
     "end_time": "2025-08-19T18:36:01.986804",
     "exception": false,
     "start_time": "2025-08-19T18:36:01.970345",
     "status": "completed"
    },
    "tags": []
   },
   "outputs": [],
   "source": []
  }
 ],
 "metadata": {
  "celltoolbar": "Tags",
  "kernelspec": {
   "display_name": "Python (CMA Fairness)",
   "language": "python",
   "name": "cma_fair_env"
  },
  "language_info": {
   "codemirror_mode": {
    "name": "ipython",
    "version": 3
   },
   "file_extension": ".py",
   "mimetype": "text/x-python",
   "name": "python",
   "nbconvert_exporter": "python",
   "pygments_lexer": "ipython3",
   "version": "3.10.12"
  },
  "papermill": {
   "default_parameters": {},
   "duration": 31.149529,
   "end_time": "2025-08-19T18:36:02.931923",
   "environment_variables": {},
   "exception": null,
   "input_path": "universe_analysis.ipynb",
   "output_path": "output/runs/3/notebooks/m_3-95d22fc05c82b1614dd6c274860b050d.ipynb",
   "parameters": {
    "output_dir": "output",
    "run_no": "3",
    "seed": "2023",
    "universe": "{\"cutoff\": [\"quantile_0.1\", \"quantile_0.25\"], \"eval_fairness_grouping\": [\"majority-minority\", \"nationality-all\"], \"exclude_features\": \"nationality-sex\", \"exclude_subgroups\": \"drop-non-german\", \"model\": \"logreg\", \"scale\": \"do-not-scale\", \"training_size\": \"5k\", \"training_year\": \"2012_14\"}",
    "universe_id": "95d22fc05c82b1614dd6c274860b050d"
   },
   "start_time": "2025-08-19T18:35:31.782394",
   "version": "2.6.0"
  }
 },
 "nbformat": 4,
 "nbformat_minor": 5
}