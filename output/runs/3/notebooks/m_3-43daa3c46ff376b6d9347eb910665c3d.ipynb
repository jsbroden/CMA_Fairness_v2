{
 "cells": [
  {
   "cell_type": "markdown",
   "id": "ef23dbb3",
   "metadata": {
    "papermill": {
     "duration": 0.012989,
     "end_time": "2025-08-19T18:51:35.756463",
     "exception": false,
     "start_time": "2025-08-19T18:51:35.743474",
     "status": "completed"
    },
    "tags": []
   },
   "source": [
    "# Setup"
   ]
  },
  {
   "cell_type": "code",
   "execution_count": 1,
   "id": "0bc8e7dc",
   "metadata": {
    "execution": {
     "iopub.execute_input": "2025-08-19T18:51:35.783933Z",
     "iopub.status.busy": "2025-08-19T18:51:35.782330Z",
     "iopub.status.idle": "2025-08-19T18:51:35.799497Z",
     "shell.execute_reply": "2025-08-19T18:51:35.798210Z"
    },
    "papermill": {
     "duration": 0.028993,
     "end_time": "2025-08-19T18:51:35.800676",
     "exception": false,
     "start_time": "2025-08-19T18:51:35.771683",
     "status": "completed"
    },
    "tags": []
   },
   "outputs": [
    {
     "name": "stdout",
     "output_type": "stream",
     "text": [
      "/dss/dsshome1/0C/ra93lal2/cma/CMA_Fairness_v2\n"
     ]
    },
    {
     "name": "stderr",
     "output_type": "stream",
     "text": [
      "/dss/dsshome1/0C/ra93lal2/.local/share/virtualenvs/CMA_Fairness_v2-3j10GkSs/lib/python3.10/site-packages/IPython/core/magics/osm.py:393: UserWarning: This is now an optional IPython functionality, using bookmarks requires you to install the `pickleshare` library.\n",
      "  bkms = self.shell.db.get('bookmarks', {})\n",
      "/dss/dsshome1/0C/ra93lal2/.local/share/virtualenvs/CMA_Fairness_v2-3j10GkSs/lib/python3.10/site-packages/IPython/core/magics/osm.py:417: UserWarning: This is now an optional IPython functionality, setting dhist requires you to install the `pickleshare` library.\n",
      "  self.shell.db['dhist'] = compress_dhist(dhist)[-100:]\n"
     ]
    }
   ],
   "source": [
    "%cd ~/cma/CMA_Fairness_v2"
   ]
  },
  {
   "cell_type": "markdown",
   "id": "9d235661",
   "metadata": {
    "papermill": {
     "duration": 0.00928,
     "end_time": "2025-08-19T18:51:35.819005",
     "exception": false,
     "start_time": "2025-08-19T18:51:35.809725",
     "status": "completed"
    },
    "tags": []
   },
   "source": [
    "The following cell holds the definition of our parameters, these values can be overriden by rendering the with e.g. the following command:\n",
    "\n",
    "papermill -p alpha 0.2 -p ratio 0.3 universe_analysis.ipynb output/test_run.ipynb"
   ]
  },
  {
   "cell_type": "code",
   "execution_count": 2,
   "id": "4a789d8e",
   "metadata": {
    "execution": {
     "iopub.execute_input": "2025-08-19T18:51:35.838604Z",
     "iopub.status.busy": "2025-08-19T18:51:35.838169Z",
     "iopub.status.idle": "2025-08-19T18:51:35.842973Z",
     "shell.execute_reply": "2025-08-19T18:51:35.842177Z"
    },
    "papermill": {
     "duration": 0.016219,
     "end_time": "2025-08-19T18:51:35.844281",
     "exception": false,
     "start_time": "2025-08-19T18:51:35.828062",
     "status": "completed"
    },
    "tags": []
   },
   "outputs": [
    {
     "name": "stdout",
     "output_type": "stream",
     "text": [
      "Current working directory: /dss/dsshome1/0C/ra93lal2/cma/CMA_Fairness_v2\n"
     ]
    }
   ],
   "source": [
    "import os\n",
    "print(\"Current working directory:\", os.getcwd())"
   ]
  },
  {
   "cell_type": "code",
   "execution_count": 3,
   "id": "4132aaed",
   "metadata": {
    "execution": {
     "iopub.execute_input": "2025-08-19T18:51:35.864126Z",
     "iopub.status.busy": "2025-08-19T18:51:35.863662Z",
     "iopub.status.idle": "2025-08-19T18:51:35.868349Z",
     "shell.execute_reply": "2025-08-19T18:51:35.867621Z"
    },
    "papermill": {
     "duration": 0.015738,
     "end_time": "2025-08-19T18:51:35.869422",
     "exception": false,
     "start_time": "2025-08-19T18:51:35.853684",
     "status": "completed"
    },
    "tags": [
     "parameters"
    ]
   },
   "outputs": [],
   "source": [
    "run_no = 0\n",
    "universe_id = \"test\"\n",
    "universe = {\n",
    "    \"training_size\": \"5k\", # \"25k\", \"5k\", \"1k\"\n",
    "    \"training_year\": \"2012_14\", # \"2014\", \"2012_14\", \"2010_14\"\n",
    "    \"scale\": \"scale\", # \"scale\", \"do-not-scale\",\n",
    "    \"model\": \"elasticnet\", # \"logreg\", \"penalized_logreg\", \"rf\", \"gbm\", \"elasticnet\"\n",
    "    \"cutoff\": [\"quantile_0.15\", \"quantile_0.30\"],\n",
    "    \"exclude_features\": \"age\", # \"none\", \"nationality\", \"sex\", \"nationality-sex\", \"age\"\n",
    "    \"exclude_subgroups\": \"drop-non-german\", # \"keep-all\", \"drop-non-german\"\n",
    "    \"eval_fairness_grouping\": [\"majority-minority\", \"nationality-all\"]\n",
    "}\n",
    "\n",
    "output_dir=\"./output\"\n",
    "seed=0"
   ]
  },
  {
   "cell_type": "code",
   "execution_count": 4,
   "id": "1ba743d3",
   "metadata": {
    "execution": {
     "iopub.execute_input": "2025-08-19T18:51:35.888649Z",
     "iopub.status.busy": "2025-08-19T18:51:35.887985Z",
     "iopub.status.idle": "2025-08-19T18:51:35.893810Z",
     "shell.execute_reply": "2025-08-19T18:51:35.892610Z"
    },
    "papermill": {
     "duration": 0.016951,
     "end_time": "2025-08-19T18:51:35.895241",
     "exception": false,
     "start_time": "2025-08-19T18:51:35.878290",
     "status": "completed"
    },
    "tags": [
     "injected-parameters"
    ]
   },
   "outputs": [],
   "source": [
    "# Parameters\n",
    "universe_id = \"43daa3c46ff376b6d9347eb910665c3d\"\n",
    "run_no = \"3\"\n",
    "universe = \"{\\\"cutoff\\\": [\\\"quantile_0.1\\\", \\\"quantile_0.25\\\"], \\\"eval_fairness_grouping\\\": [\\\"majority-minority\\\", \\\"nationality-all\\\"], \\\"exclude_features\\\": \\\"age\\\", \\\"exclude_subgroups\\\": \\\"drop-non-german\\\", \\\"model\\\": \\\"gbm\\\", \\\"scale\\\": \\\"scale\\\", \\\"training_size\\\": \\\"1k\\\", \\\"training_year\\\": \\\"2014\\\"}\"\n",
    "output_dir = \"output\"\n",
    "seed = \"2023\"\n"
   ]
  },
  {
   "cell_type": "code",
   "execution_count": 5,
   "id": "a5d7941f",
   "metadata": {
    "execution": {
     "iopub.execute_input": "2025-08-19T18:51:35.918913Z",
     "iopub.status.busy": "2025-08-19T18:51:35.914749Z",
     "iopub.status.idle": "2025-08-19T18:51:35.927143Z",
     "shell.execute_reply": "2025-08-19T18:51:35.926550Z"
    },
    "papermill": {
     "duration": 0.023931,
     "end_time": "2025-08-19T18:51:35.928400",
     "exception": false,
     "start_time": "2025-08-19T18:51:35.904469",
     "status": "completed"
    },
    "tags": []
   },
   "outputs": [],
   "source": [
    "import json\n",
    "if isinstance(universe, str):\n",
    "    universe = json.loads(universe)"
   ]
  },
  {
   "cell_type": "code",
   "execution_count": 6,
   "id": "7076ccb1",
   "metadata": {
    "execution": {
     "iopub.execute_input": "2025-08-19T18:51:35.964940Z",
     "iopub.status.busy": "2025-08-19T18:51:35.963848Z",
     "iopub.status.idle": "2025-08-19T18:51:36.028765Z",
     "shell.execute_reply": "2025-08-19T18:51:36.027781Z"
    },
    "papermill": {
     "duration": 0.084603,
     "end_time": "2025-08-19T18:51:36.034304",
     "exception": false,
     "start_time": "2025-08-19T18:51:35.949701",
     "status": "completed"
    },
    "tags": []
   },
   "outputs": [],
   "source": [
    "# Auto-reload the custom package\n",
    "%load_ext autoreload\n",
    "%autoreload 1\n",
    "%aimport fairness_multiverse"
   ]
  },
  {
   "cell_type": "code",
   "execution_count": 7,
   "id": "94c8eb93",
   "metadata": {
    "execution": {
     "iopub.execute_input": "2025-08-19T18:51:36.091903Z",
     "iopub.status.busy": "2025-08-19T18:51:36.090674Z",
     "iopub.status.idle": "2025-08-19T18:51:37.649635Z",
     "shell.execute_reply": "2025-08-19T18:51:37.648069Z"
    },
    "papermill": {
     "duration": 1.583287,
     "end_time": "2025-08-19T18:51:37.652610",
     "exception": false,
     "start_time": "2025-08-19T18:51:36.069323",
     "status": "completed"
    },
    "tags": []
   },
   "outputs": [],
   "source": [
    "from fairness_multiverse.universe import UniverseAnalysis\n",
    "\n",
    "universe_analysis = UniverseAnalysis(\n",
    "    run_no = run_no,\n",
    "    universe_id = universe_id,\n",
    "    universe = universe,\n",
    "    output_dir=output_dir,\n",
    ")"
   ]
  },
  {
   "cell_type": "code",
   "execution_count": 8,
   "id": "2a6381cf",
   "metadata": {
    "execution": {
     "iopub.execute_input": "2025-08-19T18:51:37.693059Z",
     "iopub.status.busy": "2025-08-19T18:51:37.691380Z",
     "iopub.status.idle": "2025-08-19T18:51:37.697592Z",
     "shell.execute_reply": "2025-08-19T18:51:37.697013Z"
    },
    "papermill": {
     "duration": 0.038812,
     "end_time": "2025-08-19T18:51:37.700877",
     "exception": false,
     "start_time": "2025-08-19T18:51:37.662065",
     "status": "completed"
    },
    "tags": []
   },
   "outputs": [
    {
     "name": "stdout",
     "output_type": "stream",
     "text": [
      "Using Seed: 2023\n"
     ]
    }
   ],
   "source": [
    "import numpy as np\n",
    "parsed_seed = int(seed)\n",
    "np.random.seed(parsed_seed)\n",
    "print(f\"Using Seed: {parsed_seed}\")"
   ]
  },
  {
   "cell_type": "markdown",
   "id": "b6e958b4",
   "metadata": {
    "papermill": {
     "duration": 0.013631,
     "end_time": "2025-08-19T18:51:37.725593",
     "exception": false,
     "start_time": "2025-08-19T18:51:37.711962",
     "status": "completed"
    },
    "tags": []
   },
   "source": [
    "# Loading Data"
   ]
  },
  {
   "cell_type": "code",
   "execution_count": 9,
   "id": "98701482",
   "metadata": {
    "execution": {
     "iopub.execute_input": "2025-08-19T18:51:37.748872Z",
     "iopub.status.busy": "2025-08-19T18:51:37.747642Z",
     "iopub.status.idle": "2025-08-19T18:51:47.951831Z",
     "shell.execute_reply": "2025-08-19T18:51:47.950753Z"
    },
    "papermill": {
     "duration": 10.21884,
     "end_time": "2025-08-19T18:51:47.954639",
     "exception": false,
     "start_time": "2025-08-19T18:51:37.735799",
     "status": "completed"
    },
    "tags": []
   },
   "outputs": [
    {
     "name": "stdout",
     "output_type": "stream",
     "text": [
      "Loading SIAB data from cache: data/siab_cached.csv.gz\n"
     ]
    },
    {
     "name": "stdout",
     "output_type": "stream",
     "text": [
      "(643690, 164)\n"
     ]
    }
   ],
   "source": [
    "from pathlib import Path\n",
    "import pandas as pd\n",
    "\n",
    "# File paths\n",
    "raw_file = Path(\"data/raw/siab.csv\")\n",
    "cache_file = Path(\"data/siab_cached.csv.gz\")\n",
    "\n",
    "# Ensure cache directory exists\n",
    "cache_file.parent.mkdir(parents=True, exist_ok=True)\n",
    "\n",
    "# Load with simple caching\n",
    "if cache_file.exists():\n",
    "    print(f\"Loading SIAB data from cache: {cache_file}\")\n",
    "    siab = pd.read_csv(cache_file, compression='gzip')\n",
    "else:\n",
    "    print(f\"Cache not found. Reading raw SIAB data: {raw_file}\")\n",
    "    siab = pd.read_csv(raw_file)\n",
    "    siab.to_csv(cache_file, index=False, compression='gzip')\n",
    "    print(f\"Cached SIAB data to: {cache_file}\")\n",
    "\n",
    "print(siab.shape)"
   ]
  },
  {
   "cell_type": "code",
   "execution_count": 10,
   "id": "058d2abb",
   "metadata": {
    "execution": {
     "iopub.execute_input": "2025-08-19T18:51:47.990813Z",
     "iopub.status.busy": "2025-08-19T18:51:47.990469Z",
     "iopub.status.idle": "2025-08-19T18:51:48.210206Z",
     "shell.execute_reply": "2025-08-19T18:51:48.209468Z"
    },
    "papermill": {
     "duration": 0.23554,
     "end_time": "2025-08-19T18:51:48.211487",
     "exception": false,
     "start_time": "2025-08-19T18:51:47.975947",
     "status": "completed"
    },
    "tags": []
   },
   "outputs": [
    {
     "data": {
      "text/html": [
       "<div>\n",
       "<style scoped>\n",
       "    .dataframe tbody tr th:only-of-type {\n",
       "        vertical-align: middle;\n",
       "    }\n",
       "\n",
       "    .dataframe tbody tr th {\n",
       "        vertical-align: top;\n",
       "    }\n",
       "\n",
       "    .dataframe thead th {\n",
       "        text-align: right;\n",
       "    }\n",
       "</style>\n",
       "<table border=\"1\" class=\"dataframe\">\n",
       "  <thead>\n",
       "    <tr style=\"text-align: right;\">\n",
       "      <th></th>\n",
       "      <th>persnr</th>\n",
       "      <th>year</th>\n",
       "      <th>nrEntry</th>\n",
       "      <th>ltue</th>\n",
       "      <th>employed_before</th>\n",
       "      <th>receipt_leh_before</th>\n",
       "      <th>receipt_lhg_before</th>\n",
       "      <th>se_before</th>\n",
       "      <th>ASU_notue_seeking_before</th>\n",
       "      <th>ASU_other_before</th>\n",
       "      <th>...</th>\n",
       "      <th>minijob_tot_dur_byage</th>\n",
       "      <th>ft_tot_dur_byage</th>\n",
       "      <th>befrist_tot_dur_byage</th>\n",
       "      <th>leih_tot_dur_byage</th>\n",
       "      <th>LHG_tot_dur_byage</th>\n",
       "      <th>LEH_tot_dur_byage</th>\n",
       "      <th>almp_tot_dur_byage</th>\n",
       "      <th>almp_aw_tot_dur_byage</th>\n",
       "      <th>se_tot_dur_byage</th>\n",
       "      <th>seeking1_tot_dur_byage</th>\n",
       "    </tr>\n",
       "  </thead>\n",
       "  <tbody>\n",
       "    <tr>\n",
       "      <th>0</th>\n",
       "      <td>7</td>\n",
       "      <td>2015</td>\n",
       "      <td>1</td>\n",
       "      <td>0</td>\n",
       "      <td>1</td>\n",
       "      <td>0</td>\n",
       "      <td>0</td>\n",
       "      <td>0</td>\n",
       "      <td>1</td>\n",
       "      <td>0</td>\n",
       "      <td>...</td>\n",
       "      <td>0.000000</td>\n",
       "      <td>0.000000</td>\n",
       "      <td>15.043478</td>\n",
       "      <td>0.000000</td>\n",
       "      <td>0.000000</td>\n",
       "      <td>0.000000</td>\n",
       "      <td>0.000000</td>\n",
       "      <td>0.000000</td>\n",
       "      <td>0.000000</td>\n",
       "      <td>0.000000</td>\n",
       "    </tr>\n",
       "    <tr>\n",
       "      <th>1</th>\n",
       "      <td>18</td>\n",
       "      <td>2010</td>\n",
       "      <td>1</td>\n",
       "      <td>1</td>\n",
       "      <td>0</td>\n",
       "      <td>0</td>\n",
       "      <td>0</td>\n",
       "      <td>0</td>\n",
       "      <td>0</td>\n",
       "      <td>0</td>\n",
       "      <td>...</td>\n",
       "      <td>0.000000</td>\n",
       "      <td>0.000000</td>\n",
       "      <td>0.000000</td>\n",
       "      <td>0.000000</td>\n",
       "      <td>0.000000</td>\n",
       "      <td>0.000000</td>\n",
       "      <td>0.000000</td>\n",
       "      <td>0.000000</td>\n",
       "      <td>0.000000</td>\n",
       "      <td>0.000000</td>\n",
       "    </tr>\n",
       "    <tr>\n",
       "      <th>2</th>\n",
       "      <td>18</td>\n",
       "      <td>2011</td>\n",
       "      <td>2</td>\n",
       "      <td>0</td>\n",
       "      <td>1</td>\n",
       "      <td>0</td>\n",
       "      <td>1</td>\n",
       "      <td>0</td>\n",
       "      <td>1</td>\n",
       "      <td>0</td>\n",
       "      <td>...</td>\n",
       "      <td>2.714286</td>\n",
       "      <td>2.714286</td>\n",
       "      <td>0.000000</td>\n",
       "      <td>0.000000</td>\n",
       "      <td>10.775510</td>\n",
       "      <td>0.000000</td>\n",
       "      <td>8.367347</td>\n",
       "      <td>0.000000</td>\n",
       "      <td>0.000000</td>\n",
       "      <td>9.836735</td>\n",
       "    </tr>\n",
       "    <tr>\n",
       "      <th>3</th>\n",
       "      <td>18</td>\n",
       "      <td>2012</td>\n",
       "      <td>3</td>\n",
       "      <td>0</td>\n",
       "      <td>1</td>\n",
       "      <td>0</td>\n",
       "      <td>1</td>\n",
       "      <td>0</td>\n",
       "      <td>1</td>\n",
       "      <td>0</td>\n",
       "      <td>...</td>\n",
       "      <td>4.200000</td>\n",
       "      <td>4.200000</td>\n",
       "      <td>0.000000</td>\n",
       "      <td>0.000000</td>\n",
       "      <td>12.100000</td>\n",
       "      <td>0.000000</td>\n",
       "      <td>9.400000</td>\n",
       "      <td>0.000000</td>\n",
       "      <td>0.000000</td>\n",
       "      <td>9.960000</td>\n",
       "    </tr>\n",
       "    <tr>\n",
       "      <th>4</th>\n",
       "      <td>18</td>\n",
       "      <td>2012</td>\n",
       "      <td>4</td>\n",
       "      <td>0</td>\n",
       "      <td>1</td>\n",
       "      <td>0</td>\n",
       "      <td>1</td>\n",
       "      <td>0</td>\n",
       "      <td>1</td>\n",
       "      <td>0</td>\n",
       "      <td>...</td>\n",
       "      <td>5.460000</td>\n",
       "      <td>5.460000</td>\n",
       "      <td>0.000000</td>\n",
       "      <td>0.000000</td>\n",
       "      <td>13.360000</td>\n",
       "      <td>0.000000</td>\n",
       "      <td>10.320000</td>\n",
       "      <td>0.000000</td>\n",
       "      <td>0.000000</td>\n",
       "      <td>10.280000</td>\n",
       "    </tr>\n",
       "    <tr>\n",
       "      <th>...</th>\n",
       "      <td>...</td>\n",
       "      <td>...</td>\n",
       "      <td>...</td>\n",
       "      <td>...</td>\n",
       "      <td>...</td>\n",
       "      <td>...</td>\n",
       "      <td>...</td>\n",
       "      <td>...</td>\n",
       "      <td>...</td>\n",
       "      <td>...</td>\n",
       "      <td>...</td>\n",
       "      <td>...</td>\n",
       "      <td>...</td>\n",
       "      <td>...</td>\n",
       "      <td>...</td>\n",
       "      <td>...</td>\n",
       "      <td>...</td>\n",
       "      <td>...</td>\n",
       "      <td>...</td>\n",
       "      <td>...</td>\n",
       "      <td>...</td>\n",
       "    </tr>\n",
       "    <tr>\n",
       "      <th>643685</th>\n",
       "      <td>1827860</td>\n",
       "      <td>2013</td>\n",
       "      <td>1</td>\n",
       "      <td>0</td>\n",
       "      <td>0</td>\n",
       "      <td>0</td>\n",
       "      <td>1</td>\n",
       "      <td>0</td>\n",
       "      <td>0</td>\n",
       "      <td>1</td>\n",
       "      <td>...</td>\n",
       "      <td>0.000000</td>\n",
       "      <td>0.000000</td>\n",
       "      <td>0.000000</td>\n",
       "      <td>0.000000</td>\n",
       "      <td>0.612903</td>\n",
       "      <td>0.000000</td>\n",
       "      <td>0.000000</td>\n",
       "      <td>0.000000</td>\n",
       "      <td>0.000000</td>\n",
       "      <td>0.000000</td>\n",
       "    </tr>\n",
       "    <tr>\n",
       "      <th>643686</th>\n",
       "      <td>1827860</td>\n",
       "      <td>2015</td>\n",
       "      <td>2</td>\n",
       "      <td>1</td>\n",
       "      <td>0</td>\n",
       "      <td>0</td>\n",
       "      <td>1</td>\n",
       "      <td>0</td>\n",
       "      <td>1</td>\n",
       "      <td>0</td>\n",
       "      <td>...</td>\n",
       "      <td>0.000000</td>\n",
       "      <td>0.000000</td>\n",
       "      <td>0.212121</td>\n",
       "      <td>0.212121</td>\n",
       "      <td>17.363636</td>\n",
       "      <td>0.000000</td>\n",
       "      <td>8.909091</td>\n",
       "      <td>0.000000</td>\n",
       "      <td>0.000000</td>\n",
       "      <td>7.121212</td>\n",
       "    </tr>\n",
       "    <tr>\n",
       "      <th>643687</th>\n",
       "      <td>1827860</td>\n",
       "      <td>2016</td>\n",
       "      <td>3</td>\n",
       "      <td>1</td>\n",
       "      <td>0</td>\n",
       "      <td>0</td>\n",
       "      <td>1</td>\n",
       "      <td>1</td>\n",
       "      <td>0</td>\n",
       "      <td>1</td>\n",
       "      <td>...</td>\n",
       "      <td>0.000000</td>\n",
       "      <td>0.000000</td>\n",
       "      <td>0.294118</td>\n",
       "      <td>0.205882</td>\n",
       "      <td>34.705882</td>\n",
       "      <td>0.000000</td>\n",
       "      <td>10.352941</td>\n",
       "      <td>1.705882</td>\n",
       "      <td>1.705882</td>\n",
       "      <td>23.911765</td>\n",
       "    </tr>\n",
       "    <tr>\n",
       "      <th>643688</th>\n",
       "      <td>1827869</td>\n",
       "      <td>2013</td>\n",
       "      <td>1</td>\n",
       "      <td>1</td>\n",
       "      <td>1</td>\n",
       "      <td>0</td>\n",
       "      <td>0</td>\n",
       "      <td>0</td>\n",
       "      <td>1</td>\n",
       "      <td>0</td>\n",
       "      <td>...</td>\n",
       "      <td>0.000000</td>\n",
       "      <td>0.000000</td>\n",
       "      <td>0.000000</td>\n",
       "      <td>0.000000</td>\n",
       "      <td>0.000000</td>\n",
       "      <td>0.525424</td>\n",
       "      <td>0.000000</td>\n",
       "      <td>0.000000</td>\n",
       "      <td>0.000000</td>\n",
       "      <td>0.000000</td>\n",
       "    </tr>\n",
       "    <tr>\n",
       "      <th>643689</th>\n",
       "      <td>1827869</td>\n",
       "      <td>2014</td>\n",
       "      <td>2</td>\n",
       "      <td>0</td>\n",
       "      <td>0</td>\n",
       "      <td>1</td>\n",
       "      <td>0</td>\n",
       "      <td>0</td>\n",
       "      <td>1</td>\n",
       "      <td>0</td>\n",
       "      <td>...</td>\n",
       "      <td>0.000000</td>\n",
       "      <td>0.666667</td>\n",
       "      <td>0.666667</td>\n",
       "      <td>0.000000</td>\n",
       "      <td>0.000000</td>\n",
       "      <td>8.950000</td>\n",
       "      <td>1.033333</td>\n",
       "      <td>0.083333</td>\n",
       "      <td>0.083333</td>\n",
       "      <td>8.133333</td>\n",
       "    </tr>\n",
       "  </tbody>\n",
       "</table>\n",
       "<p>643690 rows × 164 columns</p>\n",
       "</div>"
      ],
      "text/plain": [
       "         persnr  year  nrEntry  ltue  employed_before  receipt_leh_before  \\\n",
       "0             7  2015        1     0                1                   0   \n",
       "1            18  2010        1     1                0                   0   \n",
       "2            18  2011        2     0                1                   0   \n",
       "3            18  2012        3     0                1                   0   \n",
       "4            18  2012        4     0                1                   0   \n",
       "...         ...   ...      ...   ...              ...                 ...   \n",
       "643685  1827860  2013        1     0                0                   0   \n",
       "643686  1827860  2015        2     1                0                   0   \n",
       "643687  1827860  2016        3     1                0                   0   \n",
       "643688  1827869  2013        1     1                1                   0   \n",
       "643689  1827869  2014        2     0                0                   1   \n",
       "\n",
       "        receipt_lhg_before  se_before  ASU_notue_seeking_before  \\\n",
       "0                        0          0                         1   \n",
       "1                        0          0                         0   \n",
       "2                        1          0                         1   \n",
       "3                        1          0                         1   \n",
       "4                        1          0                         1   \n",
       "...                    ...        ...                       ...   \n",
       "643685                   1          0                         0   \n",
       "643686                   1          0                         1   \n",
       "643687                   1          1                         0   \n",
       "643688                   0          0                         1   \n",
       "643689                   0          0                         1   \n",
       "\n",
       "        ASU_other_before  ...  minijob_tot_dur_byage  ft_tot_dur_byage  \\\n",
       "0                      0  ...               0.000000          0.000000   \n",
       "1                      0  ...               0.000000          0.000000   \n",
       "2                      0  ...               2.714286          2.714286   \n",
       "3                      0  ...               4.200000          4.200000   \n",
       "4                      0  ...               5.460000          5.460000   \n",
       "...                  ...  ...                    ...               ...   \n",
       "643685                 1  ...               0.000000          0.000000   \n",
       "643686                 0  ...               0.000000          0.000000   \n",
       "643687                 1  ...               0.000000          0.000000   \n",
       "643688                 0  ...               0.000000          0.000000   \n",
       "643689                 0  ...               0.000000          0.666667   \n",
       "\n",
       "        befrist_tot_dur_byage  leih_tot_dur_byage  LHG_tot_dur_byage  \\\n",
       "0                   15.043478            0.000000           0.000000   \n",
       "1                    0.000000            0.000000           0.000000   \n",
       "2                    0.000000            0.000000          10.775510   \n",
       "3                    0.000000            0.000000          12.100000   \n",
       "4                    0.000000            0.000000          13.360000   \n",
       "...                       ...                 ...                ...   \n",
       "643685               0.000000            0.000000           0.612903   \n",
       "643686               0.212121            0.212121          17.363636   \n",
       "643687               0.294118            0.205882          34.705882   \n",
       "643688               0.000000            0.000000           0.000000   \n",
       "643689               0.666667            0.000000           0.000000   \n",
       "\n",
       "        LEH_tot_dur_byage  almp_tot_dur_byage  almp_aw_tot_dur_byage  \\\n",
       "0                0.000000            0.000000               0.000000   \n",
       "1                0.000000            0.000000               0.000000   \n",
       "2                0.000000            8.367347               0.000000   \n",
       "3                0.000000            9.400000               0.000000   \n",
       "4                0.000000           10.320000               0.000000   \n",
       "...                   ...                 ...                    ...   \n",
       "643685           0.000000            0.000000               0.000000   \n",
       "643686           0.000000            8.909091               0.000000   \n",
       "643687           0.000000           10.352941               1.705882   \n",
       "643688           0.525424            0.000000               0.000000   \n",
       "643689           8.950000            1.033333               0.083333   \n",
       "\n",
       "        se_tot_dur_byage  seeking1_tot_dur_byage  \n",
       "0               0.000000                0.000000  \n",
       "1               0.000000                0.000000  \n",
       "2               0.000000                9.836735  \n",
       "3               0.000000                9.960000  \n",
       "4               0.000000               10.280000  \n",
       "...                  ...                     ...  \n",
       "643685          0.000000                0.000000  \n",
       "643686          0.000000                7.121212  \n",
       "643687          1.705882               23.911765  \n",
       "643688          0.000000                0.000000  \n",
       "643689          0.083333                8.133333  \n",
       "\n",
       "[643690 rows x 164 columns]"
      ]
     },
     "execution_count": 10,
     "metadata": {},
     "output_type": "execute_result"
    }
   ],
   "source": [
    "siab"
   ]
  },
  {
   "cell_type": "markdown",
   "id": "1f87e805",
   "metadata": {
    "papermill": {
     "duration": 0.010371,
     "end_time": "2025-08-19T18:51:48.232873",
     "exception": false,
     "start_time": "2025-08-19T18:51:48.222502",
     "status": "completed"
    },
    "tags": []
   },
   "source": [
    "# Splitting Data and Setting Training Data Size"
   ]
  },
  {
   "cell_type": "code",
   "execution_count": 11,
   "id": "910ae358",
   "metadata": {
    "execution": {
     "iopub.execute_input": "2025-08-19T18:51:48.255816Z",
     "iopub.status.busy": "2025-08-19T18:51:48.255119Z",
     "iopub.status.idle": "2025-08-19T18:51:48.484958Z",
     "shell.execute_reply": "2025-08-19T18:51:48.484255Z"
    },
    "papermill": {
     "duration": 0.243914,
     "end_time": "2025-08-19T18:51:48.486537",
     "exception": false,
     "start_time": "2025-08-19T18:51:48.242623",
     "status": "completed"
    },
    "tags": []
   },
   "outputs": [],
   "source": [
    "from fairness_multiverse.universe import sample_by_year_size\n",
    "\n",
    "siab_train = sample_by_year_size(siab,\n",
    "                               training_year=universe[\"training_year\"],\n",
    "                               training_size=universe[\"training_size\"])"
   ]
  },
  {
   "cell_type": "code",
   "execution_count": 12,
   "id": "919c8ff5",
   "metadata": {
    "execution": {
     "iopub.execute_input": "2025-08-19T18:51:48.519108Z",
     "iopub.status.busy": "2025-08-19T18:51:48.518186Z",
     "iopub.status.idle": "2025-08-19T18:51:48.531863Z",
     "shell.execute_reply": "2025-08-19T18:51:48.529743Z"
    },
    "papermill": {
     "duration": 0.027402,
     "end_time": "2025-08-19T18:51:48.533927",
     "exception": false,
     "start_time": "2025-08-19T18:51:48.506525",
     "status": "completed"
    },
    "tags": []
   },
   "outputs": [
    {
     "data": {
      "text/plain": [
       "(1000, 164)"
      ]
     },
     "execution_count": 12,
     "metadata": {},
     "output_type": "execute_result"
    }
   ],
   "source": [
    "siab_train.shape"
   ]
  },
  {
   "cell_type": "code",
   "execution_count": 13,
   "id": "feb13bf4",
   "metadata": {
    "execution": {
     "iopub.execute_input": "2025-08-19T18:51:48.563675Z",
     "iopub.status.busy": "2025-08-19T18:51:48.562666Z",
     "iopub.status.idle": "2025-08-19T18:51:48.579628Z",
     "shell.execute_reply": "2025-08-19T18:51:48.578406Z"
    },
    "papermill": {
     "duration": 0.031456,
     "end_time": "2025-08-19T18:51:48.581316",
     "exception": false,
     "start_time": "2025-08-19T18:51:48.549860",
     "status": "completed"
    },
    "tags": []
   },
   "outputs": [
    {
     "data": {
      "text/plain": [
       "year\n",
       "2014    1000\n",
       "dtype: int64"
      ]
     },
     "metadata": {},
     "output_type": "display_data"
    }
   ],
   "source": [
    "display(siab_train.groupby(\"year\").size())"
   ]
  },
  {
   "cell_type": "code",
   "execution_count": 14,
   "id": "0997782f",
   "metadata": {
    "execution": {
     "iopub.execute_input": "2025-08-19T18:51:48.621048Z",
     "iopub.status.busy": "2025-08-19T18:51:48.620389Z",
     "iopub.status.idle": "2025-08-19T18:51:48.879665Z",
     "shell.execute_reply": "2025-08-19T18:51:48.878866Z"
    },
    "papermill": {
     "duration": 0.273374,
     "end_time": "2025-08-19T18:51:48.881868",
     "exception": false,
     "start_time": "2025-08-19T18:51:48.608494",
     "status": "completed"
    },
    "tags": []
   },
   "outputs": [],
   "source": [
    "#siab_train = siab_s[siab_s.year < 2015]\n",
    "siab_calib = siab[siab.year == 2015]\n",
    "siab_test = siab[siab.year == 2016]"
   ]
  },
  {
   "cell_type": "code",
   "execution_count": 15,
   "id": "2c1e4012",
   "metadata": {
    "execution": {
     "iopub.execute_input": "2025-08-19T18:51:48.923984Z",
     "iopub.status.busy": "2025-08-19T18:51:48.923672Z",
     "iopub.status.idle": "2025-08-19T18:51:48.927929Z",
     "shell.execute_reply": "2025-08-19T18:51:48.927145Z"
    },
    "papermill": {
     "duration": 0.03132,
     "end_time": "2025-08-19T18:51:48.929280",
     "exception": false,
     "start_time": "2025-08-19T18:51:48.897960",
     "status": "completed"
    },
    "tags": []
   },
   "outputs": [],
   "source": [
    "#siab_calib.shape"
   ]
  },
  {
   "cell_type": "code",
   "execution_count": 16,
   "id": "f66b54ca",
   "metadata": {
    "execution": {
     "iopub.execute_input": "2025-08-19T18:51:48.951410Z",
     "iopub.status.busy": "2025-08-19T18:51:48.951076Z",
     "iopub.status.idle": "2025-08-19T18:51:49.022389Z",
     "shell.execute_reply": "2025-08-19T18:51:49.021037Z"
    },
    "papermill": {
     "duration": 0.084609,
     "end_time": "2025-08-19T18:51:49.024360",
     "exception": false,
     "start_time": "2025-08-19T18:51:48.939751",
     "status": "completed"
    },
    "tags": []
   },
   "outputs": [],
   "source": [
    "#siab_test.shape"
   ]
  },
  {
   "cell_type": "code",
   "execution_count": 17,
   "id": "27e4384d",
   "metadata": {
    "execution": {
     "iopub.execute_input": "2025-08-19T18:51:49.047708Z",
     "iopub.status.busy": "2025-08-19T18:51:49.047289Z",
     "iopub.status.idle": "2025-08-19T18:51:49.054558Z",
     "shell.execute_reply": "2025-08-19T18:51:49.053853Z"
    },
    "papermill": {
     "duration": 0.020786,
     "end_time": "2025-08-19T18:51:49.056088",
     "exception": false,
     "start_time": "2025-08-19T18:51:49.035302",
     "status": "completed"
    },
    "tags": []
   },
   "outputs": [],
   "source": [
    "X_train = siab_train.iloc[:,4:164]\n",
    "y_train = siab_train.iloc[:, [3]]"
   ]
  },
  {
   "cell_type": "code",
   "execution_count": 18,
   "id": "08ee8389",
   "metadata": {
    "execution": {
     "iopub.execute_input": "2025-08-19T18:51:49.080157Z",
     "iopub.status.busy": "2025-08-19T18:51:49.079852Z",
     "iopub.status.idle": "2025-08-19T18:51:49.146980Z",
     "shell.execute_reply": "2025-08-19T18:51:49.144453Z"
    },
    "papermill": {
     "duration": 0.081052,
     "end_time": "2025-08-19T18:51:49.149018",
     "exception": false,
     "start_time": "2025-08-19T18:51:49.067966",
     "status": "completed"
    },
    "tags": []
   },
   "outputs": [],
   "source": [
    "X_calib = siab_calib.iloc[:,4:164]\n",
    "y_calib = siab_calib.iloc[:, [3]]"
   ]
  },
  {
   "cell_type": "code",
   "execution_count": 19,
   "id": "b7ff42e0",
   "metadata": {
    "execution": {
     "iopub.execute_input": "2025-08-19T18:51:49.182398Z",
     "iopub.status.busy": "2025-08-19T18:51:49.181944Z",
     "iopub.status.idle": "2025-08-19T18:51:49.255294Z",
     "shell.execute_reply": "2025-08-19T18:51:49.254069Z"
    },
    "papermill": {
     "duration": 0.092017,
     "end_time": "2025-08-19T18:51:49.256670",
     "exception": false,
     "start_time": "2025-08-19T18:51:49.164653",
     "status": "completed"
    },
    "tags": []
   },
   "outputs": [],
   "source": [
    "X_test = siab_test.iloc[:,4:164]\n",
    "y_true = siab_test.iloc[:, [3]]"
   ]
  },
  {
   "cell_type": "code",
   "execution_count": 20,
   "id": "0275101e",
   "metadata": {
    "execution": {
     "iopub.execute_input": "2025-08-19T18:51:49.281003Z",
     "iopub.status.busy": "2025-08-19T18:51:49.280104Z",
     "iopub.status.idle": "2025-08-19T18:51:49.434708Z",
     "shell.execute_reply": "2025-08-19T18:51:49.433816Z"
    },
    "papermill": {
     "duration": 0.169434,
     "end_time": "2025-08-19T18:51:49.436675",
     "exception": false,
     "start_time": "2025-08-19T18:51:49.267241",
     "status": "completed"
    },
    "tags": []
   },
   "outputs": [],
   "source": [
    "# Auxiliary data needed downstream in the pipeline\n",
    "\n",
    "org_train = X_train.copy()\n",
    "org_test = X_test.copy()\n",
    "org_calib = X_calib.copy()"
   ]
  },
  {
   "cell_type": "markdown",
   "id": "b461e618",
   "metadata": {
    "papermill": {
     "duration": 0.011431,
     "end_time": "2025-08-19T18:51:49.461214",
     "exception": false,
     "start_time": "2025-08-19T18:51:49.449783",
     "status": "completed"
    },
    "tags": []
   },
   "source": [
    "# Preprocessing Data"
   ]
  },
  {
   "cell_type": "code",
   "execution_count": 21,
   "id": "78e74c4b",
   "metadata": {
    "execution": {
     "iopub.execute_input": "2025-08-19T18:51:49.486268Z",
     "iopub.status.busy": "2025-08-19T18:51:49.485461Z",
     "iopub.status.idle": "2025-08-19T18:51:49.495746Z",
     "shell.execute_reply": "2025-08-19T18:51:49.494520Z"
    },
    "papermill": {
     "duration": 0.036569,
     "end_time": "2025-08-19T18:51:49.508348",
     "exception": false,
     "start_time": "2025-08-19T18:51:49.471779",
     "status": "completed"
    },
    "tags": []
   },
   "outputs": [],
   "source": [
    "# EXCLUDE PROTECTED FEATURES\n",
    "# --------------------------\n",
    "\n",
    "excluded_features = universe[\"exclude_features\"].split(\"-\")\n",
    "excluded_features_dictionary = {\n",
    "    \"nationality\": [\"maxdeutsch1\", \"maxdeutsch.Missing.\"],\n",
    "    \"sex\": [\"frau1\"],\n",
    "    \"age\": [\"age\"],\n",
    "}"
   ]
  },
  {
   "cell_type": "code",
   "execution_count": 22,
   "id": "f8e63555",
   "metadata": {
    "execution": {
     "iopub.execute_input": "2025-08-19T18:51:49.541615Z",
     "iopub.status.busy": "2025-08-19T18:51:49.540642Z",
     "iopub.status.idle": "2025-08-19T18:51:49.548684Z",
     "shell.execute_reply": "2025-08-19T18:51:49.547496Z"
    },
    "papermill": {
     "duration": 0.022111,
     "end_time": "2025-08-19T18:51:49.550498",
     "exception": false,
     "start_time": "2025-08-19T18:51:49.528387",
     "status": "completed"
    },
    "tags": []
   },
   "outputs": [],
   "source": [
    "excluded_features_columns = [\n",
    "    excluded_features_dictionary[f] for f in excluded_features if len(f) > 0 and f != \"none\"\n",
    "]"
   ]
  },
  {
   "cell_type": "code",
   "execution_count": 23,
   "id": "da781f7c",
   "metadata": {
    "execution": {
     "iopub.execute_input": "2025-08-19T18:51:49.578153Z",
     "iopub.status.busy": "2025-08-19T18:51:49.576979Z",
     "iopub.status.idle": "2025-08-19T18:51:49.584549Z",
     "shell.execute_reply": "2025-08-19T18:51:49.583345Z"
    },
    "papermill": {
     "duration": 0.02214,
     "end_time": "2025-08-19T18:51:49.586132",
     "exception": false,
     "start_time": "2025-08-19T18:51:49.563992",
     "status": "completed"
    },
    "tags": []
   },
   "outputs": [],
   "source": [
    "from fairness_multiverse.universe import flatten_once\n",
    "\n",
    "excluded_features_columns = flatten_once(excluded_features_columns)"
   ]
  },
  {
   "cell_type": "code",
   "execution_count": 24,
   "id": "37fef0f0",
   "metadata": {
    "execution": {
     "iopub.execute_input": "2025-08-19T18:51:49.613189Z",
     "iopub.status.busy": "2025-08-19T18:51:49.612036Z",
     "iopub.status.idle": "2025-08-19T18:51:49.628179Z",
     "shell.execute_reply": "2025-08-19T18:51:49.627033Z"
    },
    "papermill": {
     "duration": 0.03087,
     "end_time": "2025-08-19T18:51:49.630155",
     "exception": false,
     "start_time": "2025-08-19T18:51:49.599285",
     "status": "completed"
    },
    "tags": []
   },
   "outputs": [
    {
     "name": "stdout",
     "output_type": "stream",
     "text": [
      "Dropping features: ['age']\n"
     ]
    }
   ],
   "source": [
    "if len(excluded_features_columns) > 0:\n",
    "    print(f\"Dropping features: {excluded_features_columns}\")\n",
    "    X_train.drop(excluded_features_columns, axis=1, inplace=True)"
   ]
  },
  {
   "cell_type": "code",
   "execution_count": 25,
   "id": "d029e3e9",
   "metadata": {
    "execution": {
     "iopub.execute_input": "2025-08-19T18:51:49.658442Z",
     "iopub.status.busy": "2025-08-19T18:51:49.657037Z",
     "iopub.status.idle": "2025-08-19T18:51:49.728846Z",
     "shell.execute_reply": "2025-08-19T18:51:49.728132Z"
    },
    "papermill": {
     "duration": 0.087402,
     "end_time": "2025-08-19T18:51:49.731743",
     "exception": false,
     "start_time": "2025-08-19T18:51:49.644341",
     "status": "completed"
    },
    "tags": []
   },
   "outputs": [
    {
     "name": "stdout",
     "output_type": "stream",
     "text": [
      "Dropping features: ['age']\n"
     ]
    }
   ],
   "source": [
    "if len(excluded_features_columns) > 0:\n",
    "    print(f\"Dropping features: {excluded_features_columns}\")\n",
    "    X_test.drop(excluded_features_columns, axis=1, inplace=True)"
   ]
  },
  {
   "cell_type": "code",
   "execution_count": 26,
   "id": "01d571f0",
   "metadata": {
    "execution": {
     "iopub.execute_input": "2025-08-19T18:51:49.773944Z",
     "iopub.status.busy": "2025-08-19T18:51:49.772739Z",
     "iopub.status.idle": "2025-08-19T18:51:49.832868Z",
     "shell.execute_reply": "2025-08-19T18:51:49.832130Z"
    },
    "papermill": {
     "duration": 0.076986,
     "end_time": "2025-08-19T18:51:49.835472",
     "exception": false,
     "start_time": "2025-08-19T18:51:49.758486",
     "status": "completed"
    },
    "tags": []
   },
   "outputs": [
    {
     "name": "stdout",
     "output_type": "stream",
     "text": [
      "Dropping features: ['age']\n"
     ]
    }
   ],
   "source": [
    "if len(excluded_features_columns) > 0:\n",
    "    print(f\"Dropping features: {excluded_features_columns}\")\n",
    "    X_calib.drop(excluded_features_columns, axis=1, inplace=True)"
   ]
  },
  {
   "cell_type": "code",
   "execution_count": 27,
   "id": "3037356e",
   "metadata": {
    "execution": {
     "iopub.execute_input": "2025-08-19T18:51:49.881749Z",
     "iopub.status.busy": "2025-08-19T18:51:49.879220Z",
     "iopub.status.idle": "2025-08-19T18:51:49.887493Z",
     "shell.execute_reply": "2025-08-19T18:51:49.886498Z"
    },
    "papermill": {
     "duration": 0.029517,
     "end_time": "2025-08-19T18:51:49.889057",
     "exception": false,
     "start_time": "2025-08-19T18:51:49.859540",
     "status": "completed"
    },
    "tags": []
   },
   "outputs": [],
   "source": [
    "# EXCLUDE CERTAIN SUBGROUPS\n",
    "# -------------------------\n",
    "\n",
    "mode = universe.get(\"exclude_subgroups\", \"keep-all\") # Defaults to \"keep-all\" if the key is missing."
   ]
  },
  {
   "cell_type": "code",
   "execution_count": 28,
   "id": "9d1e63fd",
   "metadata": {
    "execution": {
     "iopub.execute_input": "2025-08-19T18:51:49.932211Z",
     "iopub.status.busy": "2025-08-19T18:51:49.931057Z",
     "iopub.status.idle": "2025-08-19T18:51:49.944853Z",
     "shell.execute_reply": "2025-08-19T18:51:49.943332Z"
    },
    "papermill": {
     "duration": 0.045477,
     "end_time": "2025-08-19T18:51:49.947846",
     "exception": false,
     "start_time": "2025-08-19T18:51:49.902369",
     "status": "completed"
    },
    "tags": []
   },
   "outputs": [],
   "source": [
    "if mode == \"keep-all\":\n",
    "    keep_mask = pd.Series(True, index=org_train.index)\n",
    "\n",
    "elif mode == \"drop-non-german\":\n",
    "    keep_mask = (org_train[\"maxdeutsch1\"] == 1) & (org_train[\"maxdeutsch.Missing.\"] == 0)\n",
    "\n",
    "else:\n",
    "    raise ValueError(f\"Unsupported mode for exclude_subgroups: {mode}\")"
   ]
  },
  {
   "cell_type": "code",
   "execution_count": 29,
   "id": "d3b65474",
   "metadata": {
    "execution": {
     "iopub.execute_input": "2025-08-19T18:51:49.990415Z",
     "iopub.status.busy": "2025-08-19T18:51:49.988689Z",
     "iopub.status.idle": "2025-08-19T18:51:50.001274Z",
     "shell.execute_reply": "2025-08-19T18:51:50.000395Z"
    },
    "papermill": {
     "duration": 0.030809,
     "end_time": "2025-08-19T18:51:50.003210",
     "exception": false,
     "start_time": "2025-08-19T18:51:49.972401",
     "status": "completed"
    },
    "tags": []
   },
   "outputs": [
    {
     "name": "stdout",
     "output_type": "stream",
     "text": [
      "Dropping 147 rows (14.70%) where mode='drop-non-german'\n"
     ]
    }
   ],
   "source": [
    "n_drop = (~keep_mask).sum() # Calculates how many rows are set to be dropped\n",
    "if n_drop > 0:\n",
    "    pct = n_drop / len(keep_mask) * 100\n",
    "    print(f\"Dropping {n_drop} rows ({pct:.2f}%) where mode='{mode}'\")"
   ]
  },
  {
   "cell_type": "code",
   "execution_count": 30,
   "id": "f44389b3",
   "metadata": {
    "execution": {
     "iopub.execute_input": "2025-08-19T18:51:50.033993Z",
     "iopub.status.busy": "2025-08-19T18:51:50.033148Z",
     "iopub.status.idle": "2025-08-19T18:51:50.042103Z",
     "shell.execute_reply": "2025-08-19T18:51:50.041198Z"
    },
    "papermill": {
     "duration": 0.023131,
     "end_time": "2025-08-19T18:51:50.043758",
     "exception": false,
     "start_time": "2025-08-19T18:51:50.020627",
     "status": "completed"
    },
    "tags": []
   },
   "outputs": [],
   "source": [
    "X_train = X_train[keep_mask]"
   ]
  },
  {
   "cell_type": "code",
   "execution_count": 31,
   "id": "ceca8c2a",
   "metadata": {
    "execution": {
     "iopub.execute_input": "2025-08-19T18:51:50.071676Z",
     "iopub.status.busy": "2025-08-19T18:51:50.070788Z",
     "iopub.status.idle": "2025-08-19T18:51:50.077174Z",
     "shell.execute_reply": "2025-08-19T18:51:50.076263Z"
    },
    "papermill": {
     "duration": 0.020891,
     "end_time": "2025-08-19T18:51:50.078448",
     "exception": false,
     "start_time": "2025-08-19T18:51:50.057557",
     "status": "completed"
    },
    "tags": []
   },
   "outputs": [],
   "source": [
    "y_train = y_train[keep_mask]"
   ]
  },
  {
   "cell_type": "markdown",
   "id": "04d31e2f",
   "metadata": {
    "papermill": {
     "duration": 0.010929,
     "end_time": "2025-08-19T18:51:50.101053",
     "exception": false,
     "start_time": "2025-08-19T18:51:50.090124",
     "status": "completed"
    },
    "tags": []
   },
   "source": [
    "# Model Training"
   ]
  },
  {
   "cell_type": "code",
   "execution_count": 32,
   "id": "db991733",
   "metadata": {
    "execution": {
     "iopub.execute_input": "2025-08-19T18:51:50.126448Z",
     "iopub.status.busy": "2025-08-19T18:51:50.125386Z",
     "iopub.status.idle": "2025-08-19T18:51:50.262792Z",
     "shell.execute_reply": "2025-08-19T18:51:50.261799Z"
    },
    "papermill": {
     "duration": 0.151799,
     "end_time": "2025-08-19T18:51:50.264823",
     "exception": false,
     "start_time": "2025-08-19T18:51:50.113024",
     "status": "completed"
    },
    "tags": []
   },
   "outputs": [],
   "source": [
    "from sklearn.linear_model import LogisticRegression\n",
    "from sklearn.ensemble import GradientBoostingClassifier, RandomForestClassifier\n",
    "\n",
    "if (universe[\"model\"] == \"logreg\"):\n",
    "    model = LogisticRegression() #penalty=\"none\", solver=\"newton-cg\", max_iter=1)\n",
    "elif (universe[\"model\"] == \"penalized_logreg\"):\n",
    "    model = LogisticRegression(penalty=\"l2\", C=0.1) #, solver=\"newton-cg\", max_iter=1)\n",
    "elif (universe[\"model\"] == \"rf\"):\n",
    "    model = RandomForestClassifier() # n_estimators=100, n_jobs=-1\n",
    "elif (universe[\"model\"] == \"gbm\"):\n",
    "    model = GradientBoostingClassifier()\n",
    "elif (universe[\"model\"] == \"elasticnet\"):\n",
    "    model = LogisticRegression(penalty = 'elasticnet', solver = 'saga', l1_ratio = 0.5) # max_iter=5000\n",
    "else:\n",
    "    raise \"Unsupported universe.model\""
   ]
  },
  {
   "cell_type": "code",
   "execution_count": 33,
   "id": "a4b5cd25",
   "metadata": {
    "execution": {
     "iopub.execute_input": "2025-08-19T18:51:50.289086Z",
     "iopub.status.busy": "2025-08-19T18:51:50.288598Z",
     "iopub.status.idle": "2025-08-19T18:51:50.294358Z",
     "shell.execute_reply": "2025-08-19T18:51:50.293548Z"
    },
    "papermill": {
     "duration": 0.0195,
     "end_time": "2025-08-19T18:51:50.296056",
     "exception": false,
     "start_time": "2025-08-19T18:51:50.276556",
     "status": "completed"
    },
    "tags": []
   },
   "outputs": [],
   "source": [
    "from sklearn.pipeline import Pipeline\n",
    "from sklearn.preprocessing import StandardScaler\n",
    "\n",
    "model = Pipeline([\n",
    "    #(\"continuous_processor\", continuous_processor),\n",
    "    #(\"categorical_preprocessor\", categorical_preprocessor),\n",
    "    (\"scale\", StandardScaler() if universe[\"scale\"] == \"scale\" else None), \n",
    "    (\"model\", model),\n",
    "])"
   ]
  },
  {
   "cell_type": "code",
   "execution_count": 34,
   "id": "283a904d",
   "metadata": {
    "execution": {
     "iopub.execute_input": "2025-08-19T18:51:50.320260Z",
     "iopub.status.busy": "2025-08-19T18:51:50.319795Z",
     "iopub.status.idle": "2025-08-19T18:51:51.142867Z",
     "shell.execute_reply": "2025-08-19T18:51:51.141956Z"
    },
    "papermill": {
     "duration": 0.836985,
     "end_time": "2025-08-19T18:51:51.144151",
     "exception": false,
     "start_time": "2025-08-19T18:51:50.307166",
     "status": "completed"
    },
    "tags": []
   },
   "outputs": [
    {
     "data": {
      "text/html": [
       "<style>#sk-container-id-1 {color: black;background-color: white;}#sk-container-id-1 pre{padding: 0;}#sk-container-id-1 div.sk-toggleable {background-color: white;}#sk-container-id-1 label.sk-toggleable__label {cursor: pointer;display: block;width: 100%;margin-bottom: 0;padding: 0.3em;box-sizing: border-box;text-align: center;}#sk-container-id-1 label.sk-toggleable__label-arrow:before {content: \"▸\";float: left;margin-right: 0.25em;color: #696969;}#sk-container-id-1 label.sk-toggleable__label-arrow:hover:before {color: black;}#sk-container-id-1 div.sk-estimator:hover label.sk-toggleable__label-arrow:before {color: black;}#sk-container-id-1 div.sk-toggleable__content {max-height: 0;max-width: 0;overflow: hidden;text-align: left;background-color: #f0f8ff;}#sk-container-id-1 div.sk-toggleable__content pre {margin: 0.2em;color: black;border-radius: 0.25em;background-color: #f0f8ff;}#sk-container-id-1 input.sk-toggleable__control:checked~div.sk-toggleable__content {max-height: 200px;max-width: 100%;overflow: auto;}#sk-container-id-1 input.sk-toggleable__control:checked~label.sk-toggleable__label-arrow:before {content: \"▾\";}#sk-container-id-1 div.sk-estimator input.sk-toggleable__control:checked~label.sk-toggleable__label {background-color: #d4ebff;}#sk-container-id-1 div.sk-label input.sk-toggleable__control:checked~label.sk-toggleable__label {background-color: #d4ebff;}#sk-container-id-1 input.sk-hidden--visually {border: 0;clip: rect(1px 1px 1px 1px);clip: rect(1px, 1px, 1px, 1px);height: 1px;margin: -1px;overflow: hidden;padding: 0;position: absolute;width: 1px;}#sk-container-id-1 div.sk-estimator {font-family: monospace;background-color: #f0f8ff;border: 1px dotted black;border-radius: 0.25em;box-sizing: border-box;margin-bottom: 0.5em;}#sk-container-id-1 div.sk-estimator:hover {background-color: #d4ebff;}#sk-container-id-1 div.sk-parallel-item::after {content: \"\";width: 100%;border-bottom: 1px solid gray;flex-grow: 1;}#sk-container-id-1 div.sk-label:hover label.sk-toggleable__label {background-color: #d4ebff;}#sk-container-id-1 div.sk-serial::before {content: \"\";position: absolute;border-left: 1px solid gray;box-sizing: border-box;top: 0;bottom: 0;left: 50%;z-index: 0;}#sk-container-id-1 div.sk-serial {display: flex;flex-direction: column;align-items: center;background-color: white;padding-right: 0.2em;padding-left: 0.2em;position: relative;}#sk-container-id-1 div.sk-item {position: relative;z-index: 1;}#sk-container-id-1 div.sk-parallel {display: flex;align-items: stretch;justify-content: center;background-color: white;position: relative;}#sk-container-id-1 div.sk-item::before, #sk-container-id-1 div.sk-parallel-item::before {content: \"\";position: absolute;border-left: 1px solid gray;box-sizing: border-box;top: 0;bottom: 0;left: 50%;z-index: -1;}#sk-container-id-1 div.sk-parallel-item {display: flex;flex-direction: column;z-index: 1;position: relative;background-color: white;}#sk-container-id-1 div.sk-parallel-item:first-child::after {align-self: flex-end;width: 50%;}#sk-container-id-1 div.sk-parallel-item:last-child::after {align-self: flex-start;width: 50%;}#sk-container-id-1 div.sk-parallel-item:only-child::after {width: 0;}#sk-container-id-1 div.sk-dashed-wrapped {border: 1px dashed gray;margin: 0 0.4em 0.5em 0.4em;box-sizing: border-box;padding-bottom: 0.4em;background-color: white;}#sk-container-id-1 div.sk-label label {font-family: monospace;font-weight: bold;display: inline-block;line-height: 1.2em;}#sk-container-id-1 div.sk-label-container {text-align: center;}#sk-container-id-1 div.sk-container {/* jupyter's `normalize.less` sets `[hidden] { display: none; }` but bootstrap.min.css set `[hidden] { display: none !important; }` so we also need the `!important` here to be able to override the default hidden behavior on the sphinx rendered scikit-learn.org. See: https://github.com/scikit-learn/scikit-learn/issues/21755 */display: inline-block !important;position: relative;}#sk-container-id-1 div.sk-text-repr-fallback {display: none;}</style><div id=\"sk-container-id-1\" class=\"sk-top-container\"><div class=\"sk-text-repr-fallback\"><pre>Pipeline(steps=[(&#x27;scale&#x27;, StandardScaler()),\n",
       "                (&#x27;model&#x27;, GradientBoostingClassifier())])</pre><b>In a Jupyter environment, please rerun this cell to show the HTML representation or trust the notebook. <br />On GitHub, the HTML representation is unable to render, please try loading this page with nbviewer.org.</b></div><div class=\"sk-container\" hidden><div class=\"sk-item sk-dashed-wrapped\"><div class=\"sk-label-container\"><div class=\"sk-label sk-toggleable\"><input class=\"sk-toggleable__control sk-hidden--visually\" id=\"sk-estimator-id-1\" type=\"checkbox\" ><label for=\"sk-estimator-id-1\" class=\"sk-toggleable__label sk-toggleable__label-arrow\">Pipeline</label><div class=\"sk-toggleable__content\"><pre>Pipeline(steps=[(&#x27;scale&#x27;, StandardScaler()),\n",
       "                (&#x27;model&#x27;, GradientBoostingClassifier())])</pre></div></div></div><div class=\"sk-serial\"><div class=\"sk-item\"><div class=\"sk-estimator sk-toggleable\"><input class=\"sk-toggleable__control sk-hidden--visually\" id=\"sk-estimator-id-2\" type=\"checkbox\" ><label for=\"sk-estimator-id-2\" class=\"sk-toggleable__label sk-toggleable__label-arrow\">StandardScaler</label><div class=\"sk-toggleable__content\"><pre>StandardScaler()</pre></div></div></div><div class=\"sk-item\"><div class=\"sk-estimator sk-toggleable\"><input class=\"sk-toggleable__control sk-hidden--visually\" id=\"sk-estimator-id-3\" type=\"checkbox\" ><label for=\"sk-estimator-id-3\" class=\"sk-toggleable__label sk-toggleable__label-arrow\">GradientBoostingClassifier</label><div class=\"sk-toggleable__content\"><pre>GradientBoostingClassifier()</pre></div></div></div></div></div></div></div>"
      ],
      "text/plain": [
       "Pipeline(steps=[('scale', StandardScaler()),\n",
       "                ('model', GradientBoostingClassifier())])"
      ]
     },
     "execution_count": 34,
     "metadata": {},
     "output_type": "execute_result"
    }
   ],
   "source": [
    "model.fit(X_train, y_train.values.ravel())"
   ]
  },
  {
   "cell_type": "code",
   "execution_count": 35,
   "id": "6e15e313",
   "metadata": {
    "execution": {
     "iopub.execute_input": "2025-08-19T18:51:51.176894Z",
     "iopub.status.busy": "2025-08-19T18:51:51.176401Z",
     "iopub.status.idle": "2025-08-19T18:51:51.814970Z",
     "shell.execute_reply": "2025-08-19T18:51:51.813989Z"
    },
    "papermill": {
     "duration": 0.659042,
     "end_time": "2025-08-19T18:51:51.816266",
     "exception": false,
     "start_time": "2025-08-19T18:51:51.157224",
     "status": "completed"
    },
    "tags": []
   },
   "outputs": [
    {
     "data": {
      "text/plain": [
       "0.8476201092408873"
      ]
     },
     "execution_count": 35,
     "metadata": {},
     "output_type": "execute_result"
    }
   ],
   "source": [
    "from fairness_multiverse.universe import predict_w_threshold\n",
    "\n",
    "probs_test = model.predict_proba(X_test)\n",
    "\n",
    "'''\n",
    "Below code returns a boolean array (or binary 0/1 array depending on how it’s used) where each element \n",
    "is True if the probability of class 1 is greater than or equal to the threshold, and False otherwise.\n",
    "'''\n",
    "y_pred_default = predict_w_threshold(probs_test, 0.5)\n",
    "\n",
    "from sklearn.metrics import accuracy_score\n",
    "\n",
    "# Naive prediction\n",
    "accuracy_score(y_true = y_true, y_pred = y_pred_default)"
   ]
  },
  {
   "cell_type": "code",
   "execution_count": 36,
   "id": "6f14067c",
   "metadata": {
    "execution": {
     "iopub.execute_input": "2025-08-19T18:51:51.849872Z",
     "iopub.status.busy": "2025-08-19T18:51:51.848462Z",
     "iopub.status.idle": "2025-08-19T18:51:52.490938Z",
     "shell.execute_reply": "2025-08-19T18:51:52.489865Z"
    },
    "papermill": {
     "duration": 0.657337,
     "end_time": "2025-08-19T18:51:52.492331",
     "exception": false,
     "start_time": "2025-08-19T18:51:51.834994",
     "status": "completed"
    },
    "tags": []
   },
   "outputs": [
    {
     "data": {
      "text/plain": [
       "array([0, 0, 0, ..., 0, 0, 0])"
      ]
     },
     "execution_count": 36,
     "metadata": {},
     "output_type": "execute_result"
    }
   ],
   "source": [
    "model.predict(X_test)"
   ]
  },
  {
   "cell_type": "markdown",
   "id": "3759920c",
   "metadata": {
    "papermill": {
     "duration": 0.012668,
     "end_time": "2025-08-19T18:51:52.525956",
     "exception": false,
     "start_time": "2025-08-19T18:51:52.513288",
     "status": "completed"
    },
    "tags": []
   },
   "source": [
    "# Conformal Prediction"
   ]
  },
  {
   "cell_type": "code",
   "execution_count": 37,
   "id": "14b27f59",
   "metadata": {
    "execution": {
     "iopub.execute_input": "2025-08-19T18:51:52.553372Z",
     "iopub.status.busy": "2025-08-19T18:51:52.552412Z",
     "iopub.status.idle": "2025-08-19T18:51:52.557390Z",
     "shell.execute_reply": "2025-08-19T18:51:52.556744Z"
    },
    "papermill": {
     "duration": 0.021112,
     "end_time": "2025-08-19T18:51:52.558609",
     "exception": false,
     "start_time": "2025-08-19T18:51:52.537497",
     "status": "completed"
    },
    "tags": []
   },
   "outputs": [],
   "source": [
    "# Miscoverage level for conformal prediction (10% allowed error rate => 90% target coverage)\n",
    "alpha = 0.1"
   ]
  },
  {
   "cell_type": "code",
   "execution_count": 38,
   "id": "59102472",
   "metadata": {
    "execution": {
     "iopub.execute_input": "2025-08-19T18:51:52.589637Z",
     "iopub.status.busy": "2025-08-19T18:51:52.587712Z",
     "iopub.status.idle": "2025-08-19T18:51:53.200417Z",
     "shell.execute_reply": "2025-08-19T18:51:53.197929Z"
    },
    "papermill": {
     "duration": 0.631622,
     "end_time": "2025-08-19T18:51:53.201989",
     "exception": false,
     "start_time": "2025-08-19T18:51:52.570367",
     "status": "completed"
    },
    "tags": []
   },
   "outputs": [],
   "source": [
    "probs_calib = model.predict_proba(X_calib)"
   ]
  },
  {
   "cell_type": "code",
   "execution_count": 39,
   "id": "a792d4dd",
   "metadata": {
    "execution": {
     "iopub.execute_input": "2025-08-19T18:51:53.242658Z",
     "iopub.status.busy": "2025-08-19T18:51:53.242140Z",
     "iopub.status.idle": "2025-08-19T18:51:53.248394Z",
     "shell.execute_reply": "2025-08-19T18:51:53.247677Z"
    },
    "papermill": {
     "duration": 0.032753,
     "end_time": "2025-08-19T18:51:53.250067",
     "exception": false,
     "start_time": "2025-08-19T18:51:53.217314",
     "status": "completed"
    },
    "tags": []
   },
   "outputs": [],
   "source": [
    "y_calib = y_calib.values.ravel().astype(int)"
   ]
  },
  {
   "cell_type": "code",
   "execution_count": 40,
   "id": "650fd033",
   "metadata": {
    "execution": {
     "iopub.execute_input": "2025-08-19T18:51:53.274921Z",
     "iopub.status.busy": "2025-08-19T18:51:53.274491Z",
     "iopub.status.idle": "2025-08-19T18:51:53.281474Z",
     "shell.execute_reply": "2025-08-19T18:51:53.280822Z"
    },
    "papermill": {
     "duration": 0.02127,
     "end_time": "2025-08-19T18:51:53.283159",
     "exception": false,
     "start_time": "2025-08-19T18:51:53.261889",
     "status": "completed"
    },
    "tags": []
   },
   "outputs": [],
   "source": [
    "from fairness_multiverse.conformal import compute_nc_scores\n",
    "\n",
    "# Compute nonconformity scores on calibration set (1 - probability of true class)\n",
    "nc_scores = compute_nc_scores(probs_calib, y_calib)"
   ]
  },
  {
   "cell_type": "code",
   "execution_count": 41,
   "id": "28ada44c",
   "metadata": {
    "execution": {
     "iopub.execute_input": "2025-08-19T18:51:53.307739Z",
     "iopub.status.busy": "2025-08-19T18:51:53.307326Z",
     "iopub.status.idle": "2025-08-19T18:51:53.312830Z",
     "shell.execute_reply": "2025-08-19T18:51:53.312110Z"
    },
    "papermill": {
     "duration": 0.01969,
     "end_time": "2025-08-19T18:51:53.314569",
     "exception": false,
     "start_time": "2025-08-19T18:51:53.294879",
     "status": "completed"
    },
    "tags": []
   },
   "outputs": [],
   "source": [
    "from fairness_multiverse.conformal import find_threshold\n",
    "\n",
    "# Find conformal threshold q_hat for the given alpha (split conformal method)\n",
    "q_hat = find_threshold(nc_scores, alpha)"
   ]
  },
  {
   "cell_type": "code",
   "execution_count": 42,
   "id": "df56469e",
   "metadata": {
    "execution": {
     "iopub.execute_input": "2025-08-19T18:51:53.340246Z",
     "iopub.status.busy": "2025-08-19T18:51:53.339888Z",
     "iopub.status.idle": "2025-08-19T18:51:53.345111Z",
     "shell.execute_reply": "2025-08-19T18:51:53.344525Z"
    },
    "papermill": {
     "duration": 0.02109,
     "end_time": "2025-08-19T18:51:53.348880",
     "exception": false,
     "start_time": "2025-08-19T18:51:53.327790",
     "status": "completed"
    },
    "tags": []
   },
   "outputs": [
    {
     "data": {
      "text/plain": [
       "0.7592787514101293"
      ]
     },
     "execution_count": 42,
     "metadata": {},
     "output_type": "execute_result"
    }
   ],
   "source": [
    "q_hat"
   ]
  },
  {
   "cell_type": "code",
   "execution_count": 43,
   "id": "aa1f5faa",
   "metadata": {
    "execution": {
     "iopub.execute_input": "2025-08-19T18:51:53.374089Z",
     "iopub.status.busy": "2025-08-19T18:51:53.373697Z",
     "iopub.status.idle": "2025-08-19T18:51:54.473246Z",
     "shell.execute_reply": "2025-08-19T18:51:54.472038Z"
    },
    "papermill": {
     "duration": 1.113917,
     "end_time": "2025-08-19T18:51:54.474920",
     "exception": false,
     "start_time": "2025-08-19T18:51:53.361003",
     "status": "completed"
    },
    "tags": []
   },
   "outputs": [],
   "source": [
    "from fairness_multiverse.conformal import predict_conformal_sets\n",
    "\n",
    "# Generate prediction sets for each test example\n",
    "pred_sets = predict_conformal_sets(model, X_test, q_hat)"
   ]
  },
  {
   "cell_type": "code",
   "execution_count": 44,
   "id": "97f67a6b",
   "metadata": {
    "execution": {
     "iopub.execute_input": "2025-08-19T18:51:54.507295Z",
     "iopub.status.busy": "2025-08-19T18:51:54.506857Z",
     "iopub.status.idle": "2025-08-19T18:51:54.511771Z",
     "shell.execute_reply": "2025-08-19T18:51:54.511053Z"
    },
    "papermill": {
     "duration": 0.023938,
     "end_time": "2025-08-19T18:51:54.513096",
     "exception": false,
     "start_time": "2025-08-19T18:51:54.489158",
     "status": "completed"
    },
    "tags": []
   },
   "outputs": [],
   "source": [
    "y_true = y_true.squeeze()"
   ]
  },
  {
   "cell_type": "code",
   "execution_count": 45,
   "id": "e700e9a7",
   "metadata": {
    "execution": {
     "iopub.execute_input": "2025-08-19T18:51:54.538455Z",
     "iopub.status.busy": "2025-08-19T18:51:54.538032Z",
     "iopub.status.idle": "2025-08-19T18:51:55.103450Z",
     "shell.execute_reply": "2025-08-19T18:51:55.101394Z"
    },
    "papermill": {
     "duration": 0.580625,
     "end_time": "2025-08-19T18:51:55.105721",
     "exception": false,
     "start_time": "2025-08-19T18:51:54.525096",
     "status": "completed"
    },
    "tags": []
   },
   "outputs": [],
   "source": [
    "from fairness_multiverse.conformal import evaluate_sets\n",
    "\n",
    "# Evaluate coverage and average set size on test data\n",
    "metrics = evaluate_sets(pred_sets, y_true)"
   ]
  },
  {
   "cell_type": "markdown",
   "id": "efbacec0",
   "metadata": {
    "papermill": {
     "duration": 0.027796,
     "end_time": "2025-08-19T18:51:55.157396",
     "exception": false,
     "start_time": "2025-08-19T18:51:55.129600",
     "status": "completed"
    },
    "tags": []
   },
   "source": [
    "# CP Metrics"
   ]
  },
  {
   "cell_type": "code",
   "execution_count": 46,
   "id": "9de55fb1",
   "metadata": {
    "execution": {
     "iopub.execute_input": "2025-08-19T18:51:55.210557Z",
     "iopub.status.busy": "2025-08-19T18:51:55.210094Z",
     "iopub.status.idle": "2025-08-19T18:51:55.218419Z",
     "shell.execute_reply": "2025-08-19T18:51:55.217761Z"
    },
    "papermill": {
     "duration": 0.040166,
     "end_time": "2025-08-19T18:51:55.222370",
     "exception": false,
     "start_time": "2025-08-19T18:51:55.182204",
     "status": "completed"
    },
    "tags": []
   },
   "outputs": [
    {
     "data": {
      "text/plain": [
       "{'coverage': 0.908516330397949, 'avg_size': 1.1628803923754318}"
      ]
     },
     "execution_count": 46,
     "metadata": {},
     "output_type": "execute_result"
    }
   ],
   "source": [
    "metrics"
   ]
  },
  {
   "cell_type": "code",
   "execution_count": 47,
   "id": "64c340a1",
   "metadata": {
    "execution": {
     "iopub.execute_input": "2025-08-19T18:51:55.260372Z",
     "iopub.status.busy": "2025-08-19T18:51:55.259099Z",
     "iopub.status.idle": "2025-08-19T18:51:55.269170Z",
     "shell.execute_reply": "2025-08-19T18:51:55.267850Z"
    },
    "papermill": {
     "duration": 0.025557,
     "end_time": "2025-08-19T18:51:55.270642",
     "exception": false,
     "start_time": "2025-08-19T18:51:55.245085",
     "status": "completed"
    },
    "tags": []
   },
   "outputs": [],
   "source": [
    "example_universe = universe.copy()\n",
    "universe_training_year = example_universe.get(\"training_year\")\n",
    "universe_training_size = example_universe.get(\"training_size\")\n",
    "universe_scale = example_universe.get(\"scale\")\n",
    "universe_model = example_universe.get(\"model\")\n",
    "universe_exclude_features = example_universe.get(\"exclude_features\")\n",
    "universe_exclude_subgroups = example_universe.get(\"exclude_subgroups\")"
   ]
  },
  {
   "cell_type": "code",
   "execution_count": 48,
   "id": "dbb53cb4",
   "metadata": {
    "execution": {
     "iopub.execute_input": "2025-08-19T18:51:55.299651Z",
     "iopub.status.busy": "2025-08-19T18:51:55.298546Z",
     "iopub.status.idle": "2025-08-19T18:51:55.308092Z",
     "shell.execute_reply": "2025-08-19T18:51:55.306779Z"
    },
    "papermill": {
     "duration": 0.024353,
     "end_time": "2025-08-19T18:51:55.309552",
     "exception": false,
     "start_time": "2025-08-19T18:51:55.285199",
     "status": "completed"
    },
    "tags": []
   },
   "outputs": [],
   "source": [
    "cp_metrics_dict = {\n",
    "    \"universe_id\": [universe_id],\n",
    "    \"universe_training_year\": [universe_training_year],\n",
    "    \"universe_training_size\": [universe_training_size],\n",
    "    \"universe_scale\": [universe_scale],\n",
    "    \"universe_model\": [universe_model],\n",
    "    \"universe_exclude_features\": [universe_exclude_features],\n",
    "    \"universe_exclude_subgroups\": [universe_exclude_subgroups],\n",
    "    \"q_hat\": [q_hat],\n",
    "    \"coverage\": [metrics[\"coverage\"]],\n",
    "    \"avg_size\": [metrics[\"avg_size\"]],\n",
    "}"
   ]
  },
  {
   "cell_type": "code",
   "execution_count": 49,
   "id": "0d70d4b2",
   "metadata": {
    "execution": {
     "iopub.execute_input": "2025-08-19T18:51:55.337632Z",
     "iopub.status.busy": "2025-08-19T18:51:55.336738Z",
     "iopub.status.idle": "2025-08-19T18:51:55.347935Z",
     "shell.execute_reply": "2025-08-19T18:51:55.346802Z"
    },
    "papermill": {
     "duration": 0.026019,
     "end_time": "2025-08-19T18:51:55.349579",
     "exception": false,
     "start_time": "2025-08-19T18:51:55.323560",
     "status": "completed"
    },
    "tags": []
   },
   "outputs": [],
   "source": [
    "cp_metrics_df = pd.DataFrame(cp_metrics_dict)"
   ]
  },
  {
   "cell_type": "code",
   "execution_count": 50,
   "id": "b494403c",
   "metadata": {
    "execution": {
     "iopub.execute_input": "2025-08-19T18:51:55.381497Z",
     "iopub.status.busy": "2025-08-19T18:51:55.380383Z",
     "iopub.status.idle": "2025-08-19T18:51:55.404922Z",
     "shell.execute_reply": "2025-08-19T18:51:55.403874Z"
    },
    "papermill": {
     "duration": 0.040092,
     "end_time": "2025-08-19T18:51:55.406705",
     "exception": false,
     "start_time": "2025-08-19T18:51:55.366613",
     "status": "completed"
    },
    "tags": []
   },
   "outputs": [
    {
     "data": {
      "text/html": [
       "<div>\n",
       "<style scoped>\n",
       "    .dataframe tbody tr th:only-of-type {\n",
       "        vertical-align: middle;\n",
       "    }\n",
       "\n",
       "    .dataframe tbody tr th {\n",
       "        vertical-align: top;\n",
       "    }\n",
       "\n",
       "    .dataframe thead th {\n",
       "        text-align: right;\n",
       "    }\n",
       "</style>\n",
       "<table border=\"1\" class=\"dataframe\">\n",
       "  <thead>\n",
       "    <tr style=\"text-align: right;\">\n",
       "      <th></th>\n",
       "      <th>universe_id</th>\n",
       "      <th>universe_training_year</th>\n",
       "      <th>universe_training_size</th>\n",
       "      <th>universe_scale</th>\n",
       "      <th>universe_model</th>\n",
       "      <th>universe_exclude_features</th>\n",
       "      <th>universe_exclude_subgroups</th>\n",
       "      <th>q_hat</th>\n",
       "      <th>coverage</th>\n",
       "      <th>avg_size</th>\n",
       "    </tr>\n",
       "  </thead>\n",
       "  <tbody>\n",
       "    <tr>\n",
       "      <th>0</th>\n",
       "      <td>43daa3c46ff376b6d9347eb910665c3d</td>\n",
       "      <td>2014</td>\n",
       "      <td>1k</td>\n",
       "      <td>scale</td>\n",
       "      <td>gbm</td>\n",
       "      <td>age</td>\n",
       "      <td>drop-non-german</td>\n",
       "      <td>0.759279</td>\n",
       "      <td>0.908516</td>\n",
       "      <td>1.16288</td>\n",
       "    </tr>\n",
       "  </tbody>\n",
       "</table>\n",
       "</div>"
      ],
      "text/plain": [
       "                        universe_id universe_training_year  \\\n",
       "0  43daa3c46ff376b6d9347eb910665c3d                   2014   \n",
       "\n",
       "  universe_training_size universe_scale universe_model  \\\n",
       "0                     1k          scale            gbm   \n",
       "\n",
       "  universe_exclude_features universe_exclude_subgroups     q_hat  coverage  \\\n",
       "0                       age            drop-non-german  0.759279  0.908516   \n",
       "\n",
       "   avg_size  \n",
       "0   1.16288  "
      ]
     },
     "execution_count": 50,
     "metadata": {},
     "output_type": "execute_result"
    }
   ],
   "source": [
    "cp_metrics_df"
   ]
  },
  {
   "cell_type": "markdown",
   "id": "ed608b0b",
   "metadata": {
    "papermill": {
     "duration": 0.011902,
     "end_time": "2025-08-19T18:51:55.437331",
     "exception": false,
     "start_time": "2025-08-19T18:51:55.425429",
     "status": "completed"
    },
    "tags": []
   },
   "source": [
    "Conditional coverage & looking at subgroups"
   ]
  },
  {
   "cell_type": "code",
   "execution_count": 51,
   "id": "8968c366",
   "metadata": {
    "execution": {
     "iopub.execute_input": "2025-08-19T18:51:55.464123Z",
     "iopub.status.busy": "2025-08-19T18:51:55.463224Z",
     "iopub.status.idle": "2025-08-19T18:51:55.758022Z",
     "shell.execute_reply": "2025-08-19T18:51:55.756972Z"
    },
    "papermill": {
     "duration": 0.312321,
     "end_time": "2025-08-19T18:51:55.761730",
     "exception": false,
     "start_time": "2025-08-19T18:51:55.449409",
     "status": "completed"
    },
    "tags": []
   },
   "outputs": [],
   "source": [
    "from fairness_multiverse.conformal import build_cp_groups\n",
    "\n",
    "cp_groups_df = build_cp_groups(pred_sets, y_true, X_test.index, org_test)"
   ]
  },
  {
   "cell_type": "code",
   "execution_count": 52,
   "id": "292ddabf",
   "metadata": {
    "execution": {
     "iopub.execute_input": "2025-08-19T18:51:55.803994Z",
     "iopub.status.busy": "2025-08-19T18:51:55.802904Z",
     "iopub.status.idle": "2025-08-19T18:51:56.703050Z",
     "shell.execute_reply": "2025-08-19T18:51:56.701821Z"
    },
    "papermill": {
     "duration": 0.916564,
     "end_time": "2025-08-19T18:51:56.704548",
     "exception": false,
     "start_time": "2025-08-19T18:51:55.787984",
     "status": "completed"
    },
    "tags": []
   },
   "outputs": [],
   "source": [
    "# Define covered = 1 if true_label is in the predicted set\n",
    "cp_groups_df['covered'] = cp_groups_df.apply(\n",
    "    lambda r: int(r['true_label'] in r['pred_set']),\n",
    "    axis=1\n",
    ")"
   ]
  },
  {
   "cell_type": "code",
   "execution_count": 53,
   "id": "3a261692",
   "metadata": {
    "execution": {
     "iopub.execute_input": "2025-08-19T18:51:56.732735Z",
     "iopub.status.busy": "2025-08-19T18:51:56.732215Z",
     "iopub.status.idle": "2025-08-19T18:51:56.744649Z",
     "shell.execute_reply": "2025-08-19T18:51:56.743986Z"
    },
    "papermill": {
     "duration": 0.028531,
     "end_time": "2025-08-19T18:51:56.747288",
     "exception": false,
     "start_time": "2025-08-19T18:51:56.718757",
     "status": "completed"
    },
    "tags": []
   },
   "outputs": [],
   "source": [
    "subgroups = ['frau1','nongerman','nongerman_male','nongerman_female']\n",
    "\n",
    "# Conditional coverage for subgroup==1\n",
    "cond_coverage = {\n",
    "    g: cp_groups_df.loc[cp_groups_df[g]==1, 'covered'].mean()\n",
    "    for g in subgroups\n",
    "}"
   ]
  },
  {
   "cell_type": "code",
   "execution_count": 54,
   "id": "894fd600",
   "metadata": {
    "execution": {
     "iopub.execute_input": "2025-08-19T18:51:56.788380Z",
     "iopub.status.busy": "2025-08-19T18:51:56.787488Z",
     "iopub.status.idle": "2025-08-19T18:51:56.799823Z",
     "shell.execute_reply": "2025-08-19T18:51:56.798217Z"
    },
    "papermill": {
     "duration": 0.027717,
     "end_time": "2025-08-19T18:51:56.801309",
     "exception": false,
     "start_time": "2025-08-19T18:51:56.773592",
     "status": "completed"
    },
    "tags": []
   },
   "outputs": [
    {
     "data": {
      "text/plain": [
       "{'frau1': 0.9077234128588758,\n",
       " 'nongerman': 0.9072026048391624,\n",
       " 'nongerman_male': 0.9234441142033685,\n",
       " 'nongerman_female': 0.8803278688524591}"
      ]
     },
     "execution_count": 54,
     "metadata": {},
     "output_type": "execute_result"
    }
   ],
   "source": [
    "cond_coverage"
   ]
  },
  {
   "cell_type": "code",
   "execution_count": 55,
   "id": "942895c7",
   "metadata": {
    "execution": {
     "iopub.execute_input": "2025-08-19T18:51:56.831514Z",
     "iopub.status.busy": "2025-08-19T18:51:56.830454Z",
     "iopub.status.idle": "2025-08-19T18:51:56.843112Z",
     "shell.execute_reply": "2025-08-19T18:51:56.841874Z"
    },
    "papermill": {
     "duration": 0.029419,
     "end_time": "2025-08-19T18:51:56.844664",
     "exception": false,
     "start_time": "2025-08-19T18:51:56.815245",
     "status": "completed"
    },
    "tags": []
   },
   "outputs": [],
   "source": [
    "for subgroup, cov in cond_coverage.items():\n",
    "    cp_metrics_df[f\"cov_{subgroup}\"] = cov"
   ]
  },
  {
   "cell_type": "code",
   "execution_count": 56,
   "id": "3970120f",
   "metadata": {
    "execution": {
     "iopub.execute_input": "2025-08-19T18:51:56.878241Z",
     "iopub.status.busy": "2025-08-19T18:51:56.877263Z",
     "iopub.status.idle": "2025-08-19T18:51:56.905040Z",
     "shell.execute_reply": "2025-08-19T18:51:56.904284Z"
    },
    "papermill": {
     "duration": 0.04453,
     "end_time": "2025-08-19T18:51:56.906986",
     "exception": false,
     "start_time": "2025-08-19T18:51:56.862456",
     "status": "completed"
    },
    "tags": []
   },
   "outputs": [
    {
     "data": {
      "text/html": [
       "<div>\n",
       "<style scoped>\n",
       "    .dataframe tbody tr th:only-of-type {\n",
       "        vertical-align: middle;\n",
       "    }\n",
       "\n",
       "    .dataframe tbody tr th {\n",
       "        vertical-align: top;\n",
       "    }\n",
       "\n",
       "    .dataframe thead th {\n",
       "        text-align: right;\n",
       "    }\n",
       "</style>\n",
       "<table border=\"1\" class=\"dataframe\">\n",
       "  <thead>\n",
       "    <tr style=\"text-align: right;\">\n",
       "      <th></th>\n",
       "      <th>universe_id</th>\n",
       "      <th>universe_training_year</th>\n",
       "      <th>universe_training_size</th>\n",
       "      <th>universe_scale</th>\n",
       "      <th>universe_model</th>\n",
       "      <th>universe_exclude_features</th>\n",
       "      <th>universe_exclude_subgroups</th>\n",
       "      <th>q_hat</th>\n",
       "      <th>coverage</th>\n",
       "      <th>avg_size</th>\n",
       "      <th>cov_frau1</th>\n",
       "      <th>cov_nongerman</th>\n",
       "      <th>cov_nongerman_male</th>\n",
       "      <th>cov_nongerman_female</th>\n",
       "    </tr>\n",
       "  </thead>\n",
       "  <tbody>\n",
       "    <tr>\n",
       "      <th>0</th>\n",
       "      <td>43daa3c46ff376b6d9347eb910665c3d</td>\n",
       "      <td>2014</td>\n",
       "      <td>1k</td>\n",
       "      <td>scale</td>\n",
       "      <td>gbm</td>\n",
       "      <td>age</td>\n",
       "      <td>drop-non-german</td>\n",
       "      <td>0.759279</td>\n",
       "      <td>0.908516</td>\n",
       "      <td>1.16288</td>\n",
       "      <td>0.907723</td>\n",
       "      <td>0.907203</td>\n",
       "      <td>0.923444</td>\n",
       "      <td>0.880328</td>\n",
       "    </tr>\n",
       "  </tbody>\n",
       "</table>\n",
       "</div>"
      ],
      "text/plain": [
       "                        universe_id universe_training_year  \\\n",
       "0  43daa3c46ff376b6d9347eb910665c3d                   2014   \n",
       "\n",
       "  universe_training_size universe_scale universe_model  \\\n",
       "0                     1k          scale            gbm   \n",
       "\n",
       "  universe_exclude_features universe_exclude_subgroups     q_hat  coverage  \\\n",
       "0                       age            drop-non-german  0.759279  0.908516   \n",
       "\n",
       "   avg_size  cov_frau1  cov_nongerman  cov_nongerman_male  \\\n",
       "0   1.16288   0.907723       0.907203            0.923444   \n",
       "\n",
       "   cov_nongerman_female  \n",
       "0              0.880328  "
      ]
     },
     "execution_count": 56,
     "metadata": {},
     "output_type": "execute_result"
    }
   ],
   "source": [
    "cp_metrics_df"
   ]
  },
  {
   "cell_type": "markdown",
   "id": "3fc519cc",
   "metadata": {
    "papermill": {
     "duration": 0.013599,
     "end_time": "2025-08-19T18:51:56.944559",
     "exception": false,
     "start_time": "2025-08-19T18:51:56.930960",
     "status": "completed"
    },
    "tags": []
   },
   "source": [
    "# (Fairness) Metrics"
   ]
  },
  {
   "cell_type": "code",
   "execution_count": 57,
   "id": "a2e5e155",
   "metadata": {
    "execution": {
     "iopub.execute_input": "2025-08-19T18:51:56.972618Z",
     "iopub.status.busy": "2025-08-19T18:51:56.971416Z",
     "iopub.status.idle": "2025-08-19T18:51:56.999757Z",
     "shell.execute_reply": "2025-08-19T18:51:56.998905Z"
    },
    "papermill": {
     "duration": 0.044666,
     "end_time": "2025-08-19T18:51:57.001786",
     "exception": false,
     "start_time": "2025-08-19T18:51:56.957120",
     "status": "completed"
    },
    "tags": []
   },
   "outputs": [],
   "source": [
    "colname_to_bin = \"maxdeutsch1\"\n",
    "majority_value = org_train[colname_to_bin].mode()[0]\n",
    "\n",
    "org_test[\"majmin\"] = np.where(org_test[colname_to_bin] == majority_value, \"majority\", \"minority\")"
   ]
  },
  {
   "cell_type": "code",
   "execution_count": 58,
   "id": "17e3e4d5",
   "metadata": {
    "execution": {
     "iopub.execute_input": "2025-08-19T18:51:57.044946Z",
     "iopub.status.busy": "2025-08-19T18:51:57.043921Z",
     "iopub.status.idle": "2025-08-19T18:51:58.781977Z",
     "shell.execute_reply": "2025-08-19T18:51:58.780829Z"
    },
    "papermill": {
     "duration": 1.756826,
     "end_time": "2025-08-19T18:51:58.785072",
     "exception": false,
     "start_time": "2025-08-19T18:51:57.028246",
     "status": "completed"
    },
    "tags": []
   },
   "outputs": [],
   "source": [
    "example_universe = universe.copy()\n",
    "example_universe[\"cutoff\"] = example_universe[\"cutoff\"][0]\n",
    "example_universe[\"eval_fairness_grouping\"] = example_universe[\"eval_fairness_grouping\"][0]\n",
    "fairness_dict, metric_frame = universe_analysis.compute_metrics(\n",
    "    example_universe,\n",
    "    y_pred_prob=probs_test,\n",
    "    y_test=y_true,\n",
    "    org_test=org_test,\n",
    ")"
   ]
  },
  {
   "cell_type": "markdown",
   "id": "1fb7a0e9",
   "metadata": {
    "papermill": {
     "duration": 0.013928,
     "end_time": "2025-08-19T18:51:58.826050",
     "exception": false,
     "start_time": "2025-08-19T18:51:58.812122",
     "status": "completed"
    },
    "tags": []
   },
   "source": [
    "# Overall"
   ]
  },
  {
   "cell_type": "markdown",
   "id": "be1784b1",
   "metadata": {
    "papermill": {
     "duration": 0.012769,
     "end_time": "2025-08-19T18:51:58.851630",
     "exception": false,
     "start_time": "2025-08-19T18:51:58.838861",
     "status": "completed"
    },
    "tags": []
   },
   "source": [
    "Main fairness target: Equalized Odds. Seems to be a better fit than equal opportunity, since we're not only interested in Y = 1. Seems to be a better fit than demographic parity, since we also care about accuracy, not just equal distribution of preds.\n",
    "\n",
    "Pick column for computation of fairness metrics\n",
    "\n",
    "Performance\n",
    "Overall performance measures, most interesting in relation to the measures split by group below"
   ]
  },
  {
   "cell_type": "code",
   "execution_count": 59,
   "id": "b7672bee",
   "metadata": {
    "execution": {
     "iopub.execute_input": "2025-08-19T18:51:58.880865Z",
     "iopub.status.busy": "2025-08-19T18:51:58.879470Z",
     "iopub.status.idle": "2025-08-19T18:51:58.896608Z",
     "shell.execute_reply": "2025-08-19T18:51:58.895353Z"
    },
    "papermill": {
     "duration": 0.034071,
     "end_time": "2025-08-19T18:51:58.898409",
     "exception": false,
     "start_time": "2025-08-19T18:51:58.864338",
     "status": "completed"
    },
    "tags": []
   },
   "outputs": [
    {
     "data": {
      "text/plain": [
       "accuracy                   0.220522\n",
       "balanced accuracy          0.540013\n",
       "f1                         0.241959\n",
       "precision                  0.138223\n",
       "false positive rate        0.889734\n",
       "false negative rate        0.030240\n",
       "selection rate             0.900000\n",
       "count                  89710.000000\n",
       "dtype: float64"
      ]
     },
     "execution_count": 59,
     "metadata": {},
     "output_type": "execute_result"
    }
   ],
   "source": [
    "metric_frame.overall"
   ]
  },
  {
   "cell_type": "markdown",
   "id": "d93333c9",
   "metadata": {
    "papermill": {
     "duration": 0.012874,
     "end_time": "2025-08-19T18:51:58.931551",
     "exception": false,
     "start_time": "2025-08-19T18:51:58.918677",
     "status": "completed"
    },
    "tags": []
   },
   "source": [
    "By Group"
   ]
  },
  {
   "cell_type": "code",
   "execution_count": 60,
   "id": "52256966",
   "metadata": {
    "execution": {
     "iopub.execute_input": "2025-08-19T18:51:58.960053Z",
     "iopub.status.busy": "2025-08-19T18:51:58.959007Z",
     "iopub.status.idle": "2025-08-19T18:51:58.983809Z",
     "shell.execute_reply": "2025-08-19T18:51:58.983029Z"
    },
    "papermill": {
     "duration": 0.041091,
     "end_time": "2025-08-19T18:51:58.985493",
     "exception": false,
     "start_time": "2025-08-19T18:51:58.944402",
     "status": "completed"
    },
    "tags": []
   },
   "outputs": [
    {
     "data": {
      "text/html": [
       "<div>\n",
       "<style scoped>\n",
       "    .dataframe tbody tr th:only-of-type {\n",
       "        vertical-align: middle;\n",
       "    }\n",
       "\n",
       "    .dataframe tbody tr th {\n",
       "        vertical-align: top;\n",
       "    }\n",
       "\n",
       "    .dataframe thead th {\n",
       "        text-align: right;\n",
       "    }\n",
       "</style>\n",
       "<table border=\"1\" class=\"dataframe\">\n",
       "  <thead>\n",
       "    <tr style=\"text-align: right;\">\n",
       "      <th></th>\n",
       "      <th>accuracy</th>\n",
       "      <th>balanced accuracy</th>\n",
       "      <th>f1</th>\n",
       "      <th>precision</th>\n",
       "      <th>false positive rate</th>\n",
       "      <th>false negative rate</th>\n",
       "      <th>selection rate</th>\n",
       "      <th>count</th>\n",
       "    </tr>\n",
       "    <tr>\n",
       "      <th>majmin</th>\n",
       "      <th></th>\n",
       "      <th></th>\n",
       "      <th></th>\n",
       "      <th></th>\n",
       "      <th></th>\n",
       "      <th></th>\n",
       "      <th></th>\n",
       "      <th></th>\n",
       "    </tr>\n",
       "  </thead>\n",
       "  <tbody>\n",
       "    <tr>\n",
       "      <th>majority</th>\n",
       "      <td>0.238788</td>\n",
       "      <td>0.547207</td>\n",
       "      <td>0.251227</td>\n",
       "      <td>0.144380</td>\n",
       "      <td>0.871997</td>\n",
       "      <td>0.033589</td>\n",
       "      <td>0.884473</td>\n",
       "      <td>69170.0</td>\n",
       "    </tr>\n",
       "    <tr>\n",
       "      <th>minority</th>\n",
       "      <td>0.159007</td>\n",
       "      <td>0.517179</td>\n",
       "      <td>0.212240</td>\n",
       "      <td>0.118967</td>\n",
       "      <td>0.948327</td>\n",
       "      <td>0.017314</td>\n",
       "      <td>0.952288</td>\n",
       "      <td>20540.0</td>\n",
       "    </tr>\n",
       "  </tbody>\n",
       "</table>\n",
       "</div>"
      ],
      "text/plain": [
       "          accuracy  balanced accuracy        f1  precision  \\\n",
       "majmin                                                       \n",
       "majority  0.238788           0.547207  0.251227   0.144380   \n",
       "minority  0.159007           0.517179  0.212240   0.118967   \n",
       "\n",
       "          false positive rate  false negative rate  selection rate    count  \n",
       "majmin                                                                       \n",
       "majority             0.871997             0.033589        0.884473  69170.0  \n",
       "minority             0.948327             0.017314        0.952288  20540.0  "
      ]
     },
     "execution_count": 60,
     "metadata": {},
     "output_type": "execute_result"
    }
   ],
   "source": [
    "metric_frame.by_group"
   ]
  },
  {
   "cell_type": "code",
   "execution_count": 61,
   "id": "6e6c20ae",
   "metadata": {
    "execution": {
     "iopub.execute_input": "2025-08-19T18:51:59.037220Z",
     "iopub.status.busy": "2025-08-19T18:51:59.036162Z",
     "iopub.status.idle": "2025-08-19T18:52:00.811163Z",
     "shell.execute_reply": "2025-08-19T18:52:00.810220Z"
    },
    "papermill": {
     "duration": 1.802374,
     "end_time": "2025-08-19T18:52:00.812820",
     "exception": false,
     "start_time": "2025-08-19T18:51:59.010446",
     "status": "completed"
    },
    "tags": []
   },
   "outputs": [
    {
     "data": {
      "text/plain": [
       "array([[<Axes: title={'center': 'accuracy'}, xlabel='majmin'>,\n",
       "        <Axes: title={'center': 'balanced accuracy'}, xlabel='majmin'>,\n",
       "        <Axes: title={'center': 'f1'}, xlabel='majmin'>],\n",
       "       [<Axes: title={'center': 'precision'}, xlabel='majmin'>,\n",
       "        <Axes: title={'center': 'false positive rate'}, xlabel='majmin'>,\n",
       "        <Axes: title={'center': 'false negative rate'}, xlabel='majmin'>],\n",
       "       [<Axes: title={'center': 'selection rate'}, xlabel='majmin'>,\n",
       "        <Axes: title={'center': 'count'}, xlabel='majmin'>,\n",
       "        <Axes: xlabel='majmin'>]], dtype=object)"
      ]
     },
     "execution_count": 61,
     "metadata": {},
     "output_type": "execute_result"
    },
    {
     "data": {
      "image/png": "[encoded data removed]",
      "text/plain": [
       "<Figure size 1200x800 with 9 Axes>"
      ]
     },
     "metadata": {},
     "output_type": "display_data"
    }
   ],
   "source": [
    "# In a graphic\n",
    "metric_frame.by_group.plot.bar(\n",
    "    subplots=True,\n",
    "    layout=[3, 3],\n",
    "    legend=False,\n",
    "    figsize=[12, 8],\n",
    "    title=\"Show all metrics\",\n",
    ")"
   ]
  },
  {
   "cell_type": "markdown",
   "id": "b2e433ae",
   "metadata": {
    "papermill": {
     "duration": 0.013776,
     "end_time": "2025-08-19T18:52:00.844152",
     "exception": false,
     "start_time": "2025-08-19T18:52:00.830376",
     "status": "completed"
    },
    "tags": []
   },
   "source": [
    "# Final Output"
   ]
  },
  {
   "cell_type": "code",
   "execution_count": 62,
   "id": "3871301e",
   "metadata": {
    "execution": {
     "iopub.execute_input": "2025-08-19T18:52:00.873706Z",
     "iopub.status.busy": "2025-08-19T18:52:00.872871Z",
     "iopub.status.idle": "2025-08-19T18:52:00.883129Z",
     "shell.execute_reply": "2025-08-19T18:52:00.882397Z"
    },
    "papermill": {
     "duration": 0.026874,
     "end_time": "2025-08-19T18:52:00.884661",
     "exception": false,
     "start_time": "2025-08-19T18:52:00.857787",
     "status": "completed"
    },
    "tags": []
   },
   "outputs": [
    {
     "data": {
      "text/plain": [
       "4"
      ]
     },
     "execution_count": 62,
     "metadata": {},
     "output_type": "execute_result"
    }
   ],
   "source": [
    "sub_universes = universe_analysis.generate_sub_universes()\n",
    "len(sub_universes)"
   ]
  },
  {
   "cell_type": "code",
   "execution_count": 63,
   "id": "d9cfdaca",
   "metadata": {
    "execution": {
     "iopub.execute_input": "2025-08-19T18:52:00.918360Z",
     "iopub.status.busy": "2025-08-19T18:52:00.917516Z",
     "iopub.status.idle": "2025-08-19T18:52:00.924452Z",
     "shell.execute_reply": "2025-08-19T18:52:00.922952Z"
    },
    "papermill": {
     "duration": 0.023455,
     "end_time": "2025-08-19T18:52:00.926130",
     "exception": false,
     "start_time": "2025-08-19T18:52:00.902675",
     "status": "completed"
    },
    "tags": []
   },
   "outputs": [],
   "source": [
    "def filter_sub_universe_data(sub_universe, org_test):\n",
    "    # Keep all rows — no filtering\n",
    "    keep_rows_mask = np.ones(org_test.shape[0], dtype=bool)\n",
    "\n",
    "    print(f\"[INFO] Keeping all rows: {keep_rows_mask.sum()} rows retained.\")\n",
    "    return keep_rows_mask"
   ]
  },
  {
   "cell_type": "code",
   "execution_count": 64,
   "id": "2bc31ac1",
   "metadata": {
    "execution": {
     "iopub.execute_input": "2025-08-19T18:52:00.958152Z",
     "iopub.status.busy": "2025-08-19T18:52:00.957201Z",
     "iopub.status.idle": "2025-08-19T18:52:07.655397Z",
     "shell.execute_reply": "2025-08-19T18:52:07.654417Z"
    },
    "papermill": {
     "duration": 6.71496,
     "end_time": "2025-08-19T18:52:07.656876",
     "exception": false,
     "start_time": "2025-08-19T18:52:00.941916",
     "status": "completed"
    },
    "tags": []
   },
   "outputs": [
    {
     "name": "stdout",
     "output_type": "stream",
     "text": [
      "Stopping execution_time clock.\n",
      "[INFO] Keeping all rows: 89710 rows retained.\n"
     ]
    },
    {
     "name": "stdout",
     "output_type": "stream",
     "text": [
      "[INFO] Keeping all rows: 89710 rows retained.\n"
     ]
    },
    {
     "name": "stdout",
     "output_type": "stream",
     "text": [
      "[INFO] Keeping all rows: 89710 rows retained.\n"
     ]
    },
    {
     "name": "stdout",
     "output_type": "stream",
     "text": [
      "[INFO] Keeping all rows: 89710 rows retained.\n"
     ]
    },
    {
     "data": {
      "text/html": [
       "<div>\n",
       "<style scoped>\n",
       "    .dataframe tbody tr th:only-of-type {\n",
       "        vertical-align: middle;\n",
       "    }\n",
       "\n",
       "    .dataframe tbody tr th {\n",
       "        vertical-align: top;\n",
       "    }\n",
       "\n",
       "    .dataframe thead th {\n",
       "        text-align: right;\n",
       "    }\n",
       "</style>\n",
       "<table border=\"1\" class=\"dataframe\">\n",
       "  <thead>\n",
       "    <tr style=\"text-align: right;\">\n",
       "      <th></th>\n",
       "      <th>run_no</th>\n",
       "      <th>universe_id</th>\n",
       "      <th>universe_settings</th>\n",
       "      <th>execution_time</th>\n",
       "      <th>test_size_n</th>\n",
       "      <th>test_size_frac</th>\n",
       "      <th>fair_main_equalized_odds_difference</th>\n",
       "      <th>fair_main_equalized_odds_ratio</th>\n",
       "      <th>fair_main_demographic_parity_difference</th>\n",
       "      <th>fair_main_demographic_parity_ratio</th>\n",
       "      <th>...</th>\n",
       "      <th>perf_grp_precision_0</th>\n",
       "      <th>perf_grp_precision_1</th>\n",
       "      <th>perf_grp_false positive rate_0</th>\n",
       "      <th>perf_grp_false positive rate_1</th>\n",
       "      <th>perf_grp_false negative rate_0</th>\n",
       "      <th>perf_grp_false negative rate_1</th>\n",
       "      <th>perf_grp_selection rate_0</th>\n",
       "      <th>perf_grp_selection rate_1</th>\n",
       "      <th>perf_grp_count_0</th>\n",
       "      <th>perf_grp_count_1</th>\n",
       "    </tr>\n",
       "  </thead>\n",
       "  <tbody>\n",
       "    <tr>\n",
       "      <th>0</th>\n",
       "      <td>3</td>\n",
       "      <td>43daa3c46ff376b6d9347eb910665c3d</td>\n",
       "      <td>{\"cutoff\": \"quantile_0.1\", \"eval_fairness_grou...</td>\n",
       "      <td>23.380187</td>\n",
       "      <td>89710</td>\n",
       "      <td>1.0</td>\n",
       "      <td>0.076330</td>\n",
       "      <td>0.919511</td>\n",
       "      <td>0.067815</td>\n",
       "      <td>0.928787</td>\n",
       "      <td>...</td>\n",
       "      <td>NaN</td>\n",
       "      <td>NaN</td>\n",
       "      <td>NaN</td>\n",
       "      <td>NaN</td>\n",
       "      <td>NaN</td>\n",
       "      <td>NaN</td>\n",
       "      <td>NaN</td>\n",
       "      <td>NaN</td>\n",
       "      <td>NaN</td>\n",
       "      <td>NaN</td>\n",
       "    </tr>\n",
       "    <tr>\n",
       "      <th>0</th>\n",
       "      <td>3</td>\n",
       "      <td>43daa3c46ff376b6d9347eb910665c3d</td>\n",
       "      <td>{\"cutoff\": \"quantile_0.1\", \"eval_fairness_grou...</td>\n",
       "      <td>23.380187</td>\n",
       "      <td>89710</td>\n",
       "      <td>1.0</td>\n",
       "      <td>0.076330</td>\n",
       "      <td>0.919511</td>\n",
       "      <td>0.067815</td>\n",
       "      <td>0.928787</td>\n",
       "      <td>...</td>\n",
       "      <td>0.118967</td>\n",
       "      <td>0.144380</td>\n",
       "      <td>0.948327</td>\n",
       "      <td>0.871997</td>\n",
       "      <td>0.017314</td>\n",
       "      <td>0.033589</td>\n",
       "      <td>0.952288</td>\n",
       "      <td>0.884473</td>\n",
       "      <td>20540.0</td>\n",
       "      <td>69170.0</td>\n",
       "    </tr>\n",
       "    <tr>\n",
       "      <th>0</th>\n",
       "      <td>3</td>\n",
       "      <td>43daa3c46ff376b6d9347eb910665c3d</td>\n",
       "      <td>{\"cutoff\": \"quantile_0.25\", \"eval_fairness_gro...</td>\n",
       "      <td>23.380187</td>\n",
       "      <td>89710</td>\n",
       "      <td>1.0</td>\n",
       "      <td>0.164189</td>\n",
       "      <td>0.807916</td>\n",
       "      <td>0.146405</td>\n",
       "      <td>0.830592</td>\n",
       "      <td>...</td>\n",
       "      <td>NaN</td>\n",
       "      <td>NaN</td>\n",
       "      <td>NaN</td>\n",
       "      <td>NaN</td>\n",
       "      <td>NaN</td>\n",
       "      <td>NaN</td>\n",
       "      <td>NaN</td>\n",
       "      <td>NaN</td>\n",
       "      <td>NaN</td>\n",
       "      <td>NaN</td>\n",
       "    </tr>\n",
       "    <tr>\n",
       "      <th>0</th>\n",
       "      <td>3</td>\n",
       "      <td>43daa3c46ff376b6d9347eb910665c3d</td>\n",
       "      <td>{\"cutoff\": \"quantile_0.25\", \"eval_fairness_gro...</td>\n",
       "      <td>23.380187</td>\n",
       "      <td>89710</td>\n",
       "      <td>1.0</td>\n",
       "      <td>0.164189</td>\n",
       "      <td>0.807916</td>\n",
       "      <td>0.146405</td>\n",
       "      <td>0.830592</td>\n",
       "      <td>...</td>\n",
       "      <td>0.124951</td>\n",
       "      <td>0.165052</td>\n",
       "      <td>0.854777</td>\n",
       "      <td>0.690588</td>\n",
       "      <td>0.063345</td>\n",
       "      <td>0.103392</td>\n",
       "      <td>0.864216</td>\n",
       "      <td>0.717811</td>\n",
       "      <td>20540.0</td>\n",
       "      <td>69170.0</td>\n",
       "    </tr>\n",
       "  </tbody>\n",
       "</table>\n",
       "<p>4 rows × 50 columns</p>\n",
       "</div>"
      ],
      "text/plain": [
       "  run_no                       universe_id  \\\n",
       "0      3  43daa3c46ff376b6d9347eb910665c3d   \n",
       "0      3  43daa3c46ff376b6d9347eb910665c3d   \n",
       "0      3  43daa3c46ff376b6d9347eb910665c3d   \n",
       "0      3  43daa3c46ff376b6d9347eb910665c3d   \n",
       "\n",
       "                                   universe_settings  execution_time  \\\n",
       "0  {\"cutoff\": \"quantile_0.1\", \"eval_fairness_grou...       23.380187   \n",
       "0  {\"cutoff\": \"quantile_0.1\", \"eval_fairness_grou...       23.380187   \n",
       "0  {\"cutoff\": \"quantile_0.25\", \"eval_fairness_gro...       23.380187   \n",
       "0  {\"cutoff\": \"quantile_0.25\", \"eval_fairness_gro...       23.380187   \n",
       "\n",
       "   test_size_n  test_size_frac  fair_main_equalized_odds_difference  \\\n",
       "0        89710             1.0                             0.076330   \n",
       "0        89710             1.0                             0.076330   \n",
       "0        89710             1.0                             0.164189   \n",
       "0        89710             1.0                             0.164189   \n",
       "\n",
       "   fair_main_equalized_odds_ratio  fair_main_demographic_parity_difference  \\\n",
       "0                        0.919511                                 0.067815   \n",
       "0                        0.919511                                 0.067815   \n",
       "0                        0.807916                                 0.146405   \n",
       "0                        0.807916                                 0.146405   \n",
       "\n",
       "   fair_main_demographic_parity_ratio  ...  perf_grp_precision_0  \\\n",
       "0                            0.928787  ...                   NaN   \n",
       "0                            0.928787  ...              0.118967   \n",
       "0                            0.830592  ...                   NaN   \n",
       "0                            0.830592  ...              0.124951   \n",
       "\n",
       "   perf_grp_precision_1  perf_grp_false positive rate_0  \\\n",
       "0                   NaN                             NaN   \n",
       "0              0.144380                        0.948327   \n",
       "0                   NaN                             NaN   \n",
       "0              0.165052                        0.854777   \n",
       "\n",
       "   perf_grp_false positive rate_1  perf_grp_false negative rate_0  \\\n",
       "0                             NaN                             NaN   \n",
       "0                        0.871997                        0.017314   \n",
       "0                             NaN                             NaN   \n",
       "0                        0.690588                        0.063345   \n",
       "\n",
       "   perf_grp_false negative rate_1  perf_grp_selection rate_0  \\\n",
       "0                             NaN                        NaN   \n",
       "0                        0.033589                   0.952288   \n",
       "0                             NaN                        NaN   \n",
       "0                        0.103392                   0.864216   \n",
       "\n",
       "   perf_grp_selection rate_1  perf_grp_count_0  perf_grp_count_1  \n",
       "0                        NaN               NaN               NaN  \n",
       "0                   0.884473           20540.0           69170.0  \n",
       "0                        NaN               NaN               NaN  \n",
       "0                   0.717811           20540.0           69170.0  \n",
       "\n",
       "[4 rows x 50 columns]"
      ]
     },
     "execution_count": 64,
     "metadata": {},
     "output_type": "execute_result"
    }
   ],
   "source": [
    "final_output = universe_analysis.generate_final_output(\n",
    "    y_pred_prob=probs_test,\n",
    "    y_test=y_true,\n",
    "    org_test=org_test,\n",
    "    filter_data=filter_sub_universe_data,\n",
    "    cp_metrics_df=cp_metrics_df,\n",
    "    save=True,\n",
    ")\n",
    "final_output"
   ]
  },
  {
   "cell_type": "code",
   "execution_count": null,
   "id": "8b80a1ff",
   "metadata": {
    "papermill": {
     "duration": 0.022799,
     "end_time": "2025-08-19T18:52:07.713158",
     "exception": false,
     "start_time": "2025-08-19T18:52:07.690359",
     "status": "completed"
    },
    "tags": []
   },
   "outputs": [],
   "source": []
  },
  {
   "cell_type": "code",
   "execution_count": null,
   "id": "275c9fad",
   "metadata": {
    "papermill": {
     "duration": 0.014308,
     "end_time": "2025-08-19T18:52:07.742086",
     "exception": false,
     "start_time": "2025-08-19T18:52:07.727778",
     "status": "completed"
    },
    "tags": []
   },
   "outputs": [],
   "source": []
  }
 ],
 "metadata": {
  "celltoolbar": "Tags",
  "kernelspec": {
   "display_name": "Python (CMA Fairness)",
   "language": "python",
   "name": "cma_fair_env"
  },
  "language_info": {
   "codemirror_mode": {
    "name": "ipython",
    "version": 3
   },
   "file_extension": ".py",
   "mimetype": "text/x-python",
   "name": "python",
   "nbconvert_exporter": "python",
   "pygments_lexer": "ipython3",
   "version": "3.10.12"
  },
  "papermill": {
   "default_parameters": {},
   "duration": 33.870876,
   "end_time": "2025-08-19T18:52:08.583239",
   "environment_variables": {},
   "exception": null,
   "input_path": "universe_analysis.ipynb",
   "output_path": "output/runs/3/notebooks/m_3-43daa3c46ff376b6d9347eb910665c3d.ipynb",
   "parameters": {
    "output_dir": "output",
    "run_no": "3",
    "seed": "2023",
    "universe": "{\"cutoff\": [\"quantile_0.1\", \"quantile_0.25\"], \"eval_fairness_grouping\": [\"majority-minority\", \"nationality-all\"], \"exclude_features\": \"age\", \"exclude_subgroups\": \"drop-non-german\", \"model\": \"gbm\", \"scale\": \"scale\", \"training_size\": \"1k\", \"training_year\": \"2014\"}",
    "universe_id": "43daa3c46ff376b6d9347eb910665c3d"
   },
   "start_time": "2025-08-19T18:51:34.712363",
   "version": "2.6.0"
  }
 },
 "nbformat": 4,
 "nbformat_minor": 5
}